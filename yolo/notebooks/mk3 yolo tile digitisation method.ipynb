{
 "cells": [
  {
   "cell_type": "code",
   "execution_count": 1,
   "metadata": {},
   "outputs": [],
   "source": [
    "import sqlite3\n",
    "import pandas as pd\n",
    "import numpy as np\n",
    "from matplotlib import colors, cm, pyplot as plt\n",
    "from PIL import Image, ImageFont, ImageDraw, ImageEnhance\n",
    "import cv2"
   ]
  },
  {
   "cell_type": "code",
   "execution_count": 2,
   "metadata": {},
   "outputs": [],
   "source": [
    "CONVERTED_DATABASE = '/Users/darylwilding-mcbride/Downloads/experiments/dwm-test/converted-databases/exp-dwm-test-run-190719_Hela_Ecoli_1to1_01-converted.sqlite'\n",
    "\n",
    "# frame types for PASEF mode\n",
    "FRAME_TYPE_MS1 = 0\n",
    "FRAME_TYPE_MS2 = 8\n"
   ]
  },
  {
   "cell_type": "code",
   "execution_count": 3,
   "metadata": {},
   "outputs": [],
   "source": [
    "db_conn = sqlite3.connect(CONVERTED_DATABASE)\n",
    "ms1_frame_properties_df = pd.read_sql_query(\"select Id,Time from frame_properties where MsMsType == {}\".format(FRAME_TYPE_MS1), db_conn)\n",
    "ms1_frame_ids = tuple(ms1_frame_properties_df.Id)\n",
    "db_conn.close()"
   ]
  },
  {
   "cell_type": "markdown",
   "metadata": {},
   "source": [
    "We consider a pixel to be an m/z bin. To maintain consistency with previous labelled training sets, and because it looks good for visual inspection, we will keep the tiles to be 18.0 Da wide."
   ]
  },
  {
   "cell_type": "code",
   "execution_count": 4,
   "metadata": {},
   "outputs": [],
   "source": [
    "PIXELS_X = 910\n",
    "PIXELS_Y = 910  # equal to the number of scan lines\n",
    "\n",
    "MZ_MIN = 100.0\n",
    "MZ_MAX = 1700.0\n",
    "SCAN_MAX = PIXELS_Y\n",
    "SCAN_MIN = 1\n",
    "\n",
    "MZ_PER_TILE = 18.0\n",
    "TILES_PER_FRAME = int((MZ_MAX - MZ_MIN) / MZ_PER_TILE) + 1\n",
    "\n",
    "TILE_SCALE = PIXELS_X / MZ_PER_TILE"
   ]
  },
  {
   "cell_type": "code",
   "execution_count": 5,
   "metadata": {},
   "outputs": [],
   "source": [
    "def tile_pixel_x_from_mz(mz):\n",
    "    mz_adj = mz - MZ_MIN\n",
    "    tile_id = int(mz_adj / MZ_PER_TILE)\n",
    "    pixel_x = int((mz_adj % MZ_PER_TILE) / MZ_PER_TILE * PIXELS_X)\n",
    "    return (tile_id, pixel_x)"
   ]
  },
  {
   "cell_type": "code",
   "execution_count": 6,
   "metadata": {},
   "outputs": [
    {
     "data": {
      "text/plain": [
       "5964"
      ]
     },
     "execution_count": 6,
     "metadata": {},
     "output_type": "execute_result"
    }
   ],
   "source": [
    "# choose a frame to test\n",
    "FRAME_ID = ms1_frame_ids[int(len(ms1_frame_ids) / 2)]\n",
    "FRAME_ID"
   ]
  },
  {
   "cell_type": "code",
   "execution_count": 7,
   "metadata": {},
   "outputs": [],
   "source": [
    "db_conn = sqlite3.connect(CONVERTED_DATABASE)\n",
    "raw_points_df = pd.read_sql_query(\"select mz,scan,intensity from frames where frame_id == {}\".format(FRAME_ID), db_conn)\n",
    "db_conn.close()"
   ]
  },
  {
   "cell_type": "code",
   "execution_count": 8,
   "metadata": {},
   "outputs": [],
   "source": [
    "tile_pixel_l = []\n",
    "for row in zip(raw_points_df.mz):\n",
    "    tile_pixel_l.append(tile_pixel_x_from_mz(row[0]))\n",
    "tile_pixels_df = pd.DataFrame(tile_pixel_l, columns=['tile_id','pixel_x'])"
   ]
  },
  {
   "cell_type": "code",
   "execution_count": 9,
   "metadata": {},
   "outputs": [],
   "source": [
    "raw_points_df = pd.concat([raw_points_df, tile_pixels_df], axis=1)"
   ]
  },
  {
   "cell_type": "code",
   "execution_count": 10,
   "metadata": {},
   "outputs": [
    {
     "data": {
      "text/html": [
       "<div>\n",
       "<style scoped>\n",
       "    .dataframe tbody tr th:only-of-type {\n",
       "        vertical-align: middle;\n",
       "    }\n",
       "\n",
       "    .dataframe tbody tr th {\n",
       "        vertical-align: top;\n",
       "    }\n",
       "\n",
       "    .dataframe thead th {\n",
       "        text-align: right;\n",
       "    }\n",
       "</style>\n",
       "<table border=\"1\" class=\"dataframe\">\n",
       "  <thead>\n",
       "    <tr style=\"text-align: right;\">\n",
       "      <th></th>\n",
       "      <th>mz</th>\n",
       "      <th>scan</th>\n",
       "      <th>intensity</th>\n",
       "      <th>tile_id</th>\n",
       "      <th>pixel_x</th>\n",
       "    </tr>\n",
       "  </thead>\n",
       "  <tbody>\n",
       "    <tr>\n",
       "      <th>0</th>\n",
       "      <td>1179.007791</td>\n",
       "      <td>41</td>\n",
       "      <td>90</td>\n",
       "      <td>59</td>\n",
       "      <td>859</td>\n",
       "    </tr>\n",
       "    <tr>\n",
       "      <th>1</th>\n",
       "      <td>1179.023944</td>\n",
       "      <td>42</td>\n",
       "      <td>147</td>\n",
       "      <td>59</td>\n",
       "      <td>860</td>\n",
       "    </tr>\n",
       "    <tr>\n",
       "      <th>2</th>\n",
       "      <td>714.338958</td>\n",
       "      <td>43</td>\n",
       "      <td>47</td>\n",
       "      <td>34</td>\n",
       "      <td>118</td>\n",
       "    </tr>\n",
       "    <tr>\n",
       "      <th>3</th>\n",
       "      <td>714.355723</td>\n",
       "      <td>43</td>\n",
       "      <td>85</td>\n",
       "      <td>34</td>\n",
       "      <td>119</td>\n",
       "    </tr>\n",
       "    <tr>\n",
       "      <th>4</th>\n",
       "      <td>1179.524763</td>\n",
       "      <td>43</td>\n",
       "      <td>112</td>\n",
       "      <td>59</td>\n",
       "      <td>885</td>\n",
       "    </tr>\n",
       "  </tbody>\n",
       "</table>\n",
       "</div>"
      ],
      "text/plain": [
       "            mz  scan  intensity  tile_id  pixel_x\n",
       "0  1179.007791    41         90       59      859\n",
       "1  1179.023944    42        147       59      860\n",
       "2   714.338958    43         47       34      118\n",
       "3   714.355723    43         85       34      119\n",
       "4  1179.524763    43        112       59      885"
      ]
     },
     "execution_count": 10,
     "metadata": {},
     "output_type": "execute_result"
    }
   ],
   "source": [
    "raw_points_df.head()"
   ]
  },
  {
   "cell_type": "code",
   "execution_count": 11,
   "metadata": {},
   "outputs": [],
   "source": [
    "pixel_intensity_df = raw_points_df.groupby(by=['tile_id', 'pixel_x', 'scan'], as_index=False).intensity.sum()"
   ]
  },
  {
   "cell_type": "code",
   "execution_count": 12,
   "metadata": {},
   "outputs": [
    {
     "data": {
      "text/plain": [
       "(9, 11599, 121.16522771960993, 68.0)"
      ]
     },
     "execution_count": 12,
     "metadata": {},
     "output_type": "execute_result"
    }
   ],
   "source": [
    "pixel_intensity_df.intensity.min(), pixel_intensity_df.intensity.max(), pixel_intensity_df.intensity.mean(), pixel_intensity_df.intensity.median()"
   ]
  },
  {
   "cell_type": "code",
   "execution_count": 13,
   "metadata": {},
   "outputs": [
    {
     "data": {
      "image/png": "[encoded data removed]",
      "text/plain": [
       "<Figure size 720x360 with 1 Axes>"
      ]
     },
     "metadata": {
      "needs_background": "light"
     },
     "output_type": "display_data"
    }
   ],
   "source": [
    "# determine the best clipping value using an ECDF\n",
    "\n",
    "import statsmodels.api as sm\n",
    "ecdf = sm.distributions.ECDF(pixel_intensity_df.intensity)\n",
    "\n",
    "f, ax1 = plt.subplots()\n",
    "plt.plot(ecdf.x, ecdf.y)\n",
    "f.set_figheight(5)\n",
    "f.set_figwidth(10)\n",
    "plt.xscale('log')\n",
    "plt.xlabel('log(intensity)')\n",
    "plt.ylabel('ECDF')\n",
    "plt.axvline(x=18, linestyle=':', linewidth=1, color='orange')\n",
    "plt.axvline(x=300, linestyle=':', linewidth=1, color='orange')\n",
    "plt.margins(0.02)\n",
    "plt.title(\"Pixel Intensity Empirical Cumulative Distribution Function (ECDF)\")\n",
    "plt.show()"
   ]
  },
  {
   "cell_type": "code",
   "execution_count": 17,
   "metadata": {},
   "outputs": [],
   "source": [
    "# calculate the colour to represent the intensity\n",
    "colour_map = cm.get_cmap(name='rainbow')\n",
    "norm = colors.LogNorm(vmin=1, vmax=1000, clip=True)  # aiming to get good colour variation in the lower range, and clipping everything else\n"
   ]
  },
  {
   "cell_type": "code",
   "execution_count": 20,
   "metadata": {},
   "outputs": [],
   "source": [
    "colours_l = list(zip(list(pixel_intensity_df.intensity.unique()), list(map(tuple, colour_map(norm(pixel_intensity_df.intensity.unique()), bytes=True)[:,:3]))))\n",
    "colours_df = pd.DataFrame(colours_l, columns=['intensity','colour'])"
   ]
  },
  {
   "cell_type": "code",
   "execution_count": 21,
   "metadata": {},
   "outputs": [],
   "source": [
    "pixel_intensity_df = pd.merge(pixel_intensity_df, colours_df, how='left', left_on=['intensity'], right_on=['intensity'])"
   ]
  },
  {
   "cell_type": "code",
   "execution_count": 22,
   "metadata": {},
   "outputs": [
    {
     "data": {
      "text/plain": [
       "200378"
      ]
     },
     "execution_count": 22,
     "metadata": {},
     "output_type": "execute_result"
    }
   ],
   "source": [
    "len(pixel_intensity_df)"
   ]
  },
  {
   "cell_type": "code",
   "execution_count": 23,
   "metadata": {},
   "outputs": [
    {
     "data": {
      "text/html": [
       "<div>\n",
       "<style scoped>\n",
       "    .dataframe tbody tr th:only-of-type {\n",
       "        vertical-align: middle;\n",
       "    }\n",
       "\n",
       "    .dataframe tbody tr th {\n",
       "        vertical-align: top;\n",
       "    }\n",
       "\n",
       "    .dataframe thead th {\n",
       "        text-align: right;\n",
       "    }\n",
       "</style>\n",
       "<table border=\"1\" class=\"dataframe\">\n",
       "  <thead>\n",
       "    <tr style=\"text-align: right;\">\n",
       "      <th></th>\n",
       "      <th>tile_id</th>\n",
       "      <th>pixel_x</th>\n",
       "      <th>scan</th>\n",
       "      <th>intensity</th>\n",
       "      <th>colour</th>\n",
       "    </tr>\n",
       "  </thead>\n",
       "  <tbody>\n",
       "    <tr>\n",
       "      <th>0</th>\n",
       "      <td>15</td>\n",
       "      <td>213</td>\n",
       "      <td>815</td>\n",
       "      <td>100</td>\n",
       "      <td>(212, 220, 127)</td>\n",
       "    </tr>\n",
       "    <tr>\n",
       "      <th>1</th>\n",
       "      <td>16</td>\n",
       "      <td>63</td>\n",
       "      <td>734</td>\n",
       "      <td>9</td>\n",
       "      <td>(34, 214, 223)</td>\n",
       "    </tr>\n",
       "    <tr>\n",
       "      <th>2</th>\n",
       "      <td>16</td>\n",
       "      <td>769</td>\n",
       "      <td>708</td>\n",
       "      <td>80</td>\n",
       "      <td>(196, 232, 138)</td>\n",
       "    </tr>\n",
       "    <tr>\n",
       "      <th>3</th>\n",
       "      <td>16</td>\n",
       "      <td>769</td>\n",
       "      <td>710</td>\n",
       "      <td>21</td>\n",
       "      <td>(96, 250, 196)</td>\n",
       "    </tr>\n",
       "    <tr>\n",
       "      <th>4</th>\n",
       "      <td>16</td>\n",
       "      <td>769</td>\n",
       "      <td>724</td>\n",
       "      <td>113</td>\n",
       "      <td>(222, 212, 120)</td>\n",
       "    </tr>\n",
       "  </tbody>\n",
       "</table>\n",
       "</div>"
      ],
      "text/plain": [
       "   tile_id  pixel_x  scan  intensity           colour\n",
       "0       15      213   815        100  (212, 220, 127)\n",
       "1       16       63   734          9   (34, 214, 223)\n",
       "2       16      769   708         80  (196, 232, 138)\n",
       "3       16      769   710         21   (96, 250, 196)\n",
       "4       16      769   724        113  (222, 212, 120)"
      ]
     },
     "execution_count": 23,
     "metadata": {},
     "output_type": "execute_result"
    }
   ],
   "source": [
    "pixel_intensity_df.head()"
   ]
  },
  {
   "cell_type": "code",
   "execution_count": 24,
   "metadata": {},
   "outputs": [
    {
     "data": {
      "text/plain": [
       "tile_id               34\n",
       "pixel_x              118\n",
       "scan                  78\n",
       "intensity          11599\n",
       "colour       (255, 0, 0)\n",
       "Name: 76944, dtype: object"
      ]
     },
     "execution_count": 24,
     "metadata": {},
     "output_type": "execute_result"
    }
   ],
   "source": [
    "pixel_intensity_df.loc[pixel_intensity_df.intensity.idxmax()]"
   ]
  },
  {
   "cell_type": "code",
   "execution_count": 25,
   "metadata": {},
   "outputs": [],
   "source": [
    "tile_33_df = pixel_intensity_df[(pixel_intensity_df.tile_id == 33)]"
   ]
  },
  {
   "cell_type": "code",
   "execution_count": 26,
   "metadata": {},
   "outputs": [
    {
     "data": {
      "text/html": [
       "<div>\n",
       "<style scoped>\n",
       "    .dataframe tbody tr th:only-of-type {\n",
       "        vertical-align: middle;\n",
       "    }\n",
       "\n",
       "    .dataframe tbody tr th {\n",
       "        vertical-align: top;\n",
       "    }\n",
       "\n",
       "    .dataframe thead th {\n",
       "        text-align: right;\n",
       "    }\n",
       "</style>\n",
       "<table border=\"1\" class=\"dataframe\">\n",
       "  <thead>\n",
       "    <tr style=\"text-align: right;\">\n",
       "      <th></th>\n",
       "      <th>tile_id</th>\n",
       "      <th>pixel_x</th>\n",
       "      <th>scan</th>\n",
       "      <th>intensity</th>\n",
       "      <th>colour</th>\n",
       "    </tr>\n",
       "  </thead>\n",
       "  <tbody>\n",
       "    <tr>\n",
       "      <th>64408</th>\n",
       "      <td>33</td>\n",
       "      <td>13</td>\n",
       "      <td>89</td>\n",
       "      <td>96</td>\n",
       "      <td>(210, 222, 128)</td>\n",
       "    </tr>\n",
       "    <tr>\n",
       "      <th>64409</th>\n",
       "      <td>33</td>\n",
       "      <td>13</td>\n",
       "      <td>92</td>\n",
       "      <td>112</td>\n",
       "      <td>(220, 214, 122)</td>\n",
       "    </tr>\n",
       "    <tr>\n",
       "      <th>64410</th>\n",
       "      <td>33</td>\n",
       "      <td>13</td>\n",
       "      <td>97</td>\n",
       "      <td>74</td>\n",
       "      <td>(190, 236, 142)</td>\n",
       "    </tr>\n",
       "    <tr>\n",
       "      <th>64411</th>\n",
       "      <td>33</td>\n",
       "      <td>13</td>\n",
       "      <td>102</td>\n",
       "      <td>76</td>\n",
       "      <td>(192, 234, 140)</td>\n",
       "    </tr>\n",
       "    <tr>\n",
       "      <th>64412</th>\n",
       "      <td>33</td>\n",
       "      <td>13</td>\n",
       "      <td>106</td>\n",
       "      <td>81</td>\n",
       "      <td>(196, 232, 138)</td>\n",
       "    </tr>\n",
       "  </tbody>\n",
       "</table>\n",
       "</div>"
      ],
      "text/plain": [
       "       tile_id  pixel_x  scan  intensity           colour\n",
       "64408       33       13    89         96  (210, 222, 128)\n",
       "64409       33       13    92        112  (220, 214, 122)\n",
       "64410       33       13    97         74  (190, 236, 142)\n",
       "64411       33       13   102         76  (192, 234, 140)\n",
       "64412       33       13   106         81  (196, 232, 138)"
      ]
     },
     "execution_count": 26,
     "metadata": {},
     "output_type": "execute_result"
    }
   ],
   "source": [
    "tile_33_df.head()"
   ]
  },
  {
   "cell_type": "code",
   "execution_count": 27,
   "metadata": {},
   "outputs": [],
   "source": [
    "# create an image of the whole frame\n",
    "tile_im_array = np.zeros([PIXELS_Y+1, PIXELS_X+1, 3], dtype=np.uint8)  # container for the image\n",
    "for r in zip(tile_33_df.pixel_x, tile_33_df.scan, tile_33_df.colour):\n",
    "    x = r[0]\n",
    "    y = r[1]\n",
    "    c = r[2]\n",
    "    tile_im_array[y,x,:] = c"
   ]
  },
  {
   "cell_type": "code",
   "execution_count": 28,
   "metadata": {},
   "outputs": [
    {
     "data": {
      "text/plain": [
       "(911, 911, 3)"
      ]
     },
     "execution_count": 28,
     "metadata": {},
     "output_type": "execute_result"
    }
   ],
   "source": [
    "tile_im_array.shape"
   ]
  },
  {
   "cell_type": "code",
   "execution_count": 30,
   "metadata": {},
   "outputs": [],
   "source": [
    "cv2.imshow(\"image\", tile_im_array)"
   ]
  },
  {
   "cell_type": "code",
   "execution_count": 47,
   "metadata": {},
   "outputs": [
    {
     "data": {
      "image/png": "[encoded data removed]",
      "text/plain": [
       "<PIL.Image.Image image mode=RGB size=911x911 at 0x11E458160>"
      ]
     },
     "execution_count": 47,
     "metadata": {},
     "output_type": "execute_result"
    }
   ],
   "source": [
    "tile = Image.fromarray(tile_im_array, 'RGB')\n",
    "tile"
   ]
  },
  {
   "cell_type": "code",
   "execution_count": 48,
   "metadata": {},
   "outputs": [],
   "source": [
    "tile.save('/Users/darylwilding-mcbride/Downloads/prototype-tile.png')"
   ]
  },
  {
   "cell_type": "code",
   "execution_count": null,
   "metadata": {},
   "outputs": [],
   "source": []
  }
 ],
 "metadata": {
  "kernelspec": {
   "display_name": "Python 3",
   "language": "python",
   "name": "python3"
  },
  "language_info": {
   "codemirror_mode": {
    "name": "ipython",
    "version": 3
   },
   "file_extension": ".py",
   "mimetype": "text/x-python",
   "name": "python",
   "nbconvert_exporter": "python",
   "pygments_lexer": "ipython3",
   "version": "3.6.8"
  }
 },
 "nbformat": 4,
 "nbformat_minor": 4
}
