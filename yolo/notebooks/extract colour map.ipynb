{
 "cells": [
  {
   "cell_type": "markdown",
   "metadata": {},
   "source": [
    "This notebook generates a table of intensities and colours for the visualiation of raw timsTOF data, and generates a JSON lookup file."
   ]
  },
  {
   "cell_type": "code",
   "execution_count": 21,
   "metadata": {},
   "outputs": [],
   "source": [
    "from matplotlib import colors, cm, pyplot as plt\n",
    "import pandas as pd\n",
    "import numpy as np\n",
    "from PIL import Image"
   ]
  },
  {
   "cell_type": "code",
   "execution_count": 22,
   "metadata": {},
   "outputs": [],
   "source": [
    "MINIMUM_PIXEL_INTENSITY = 1\n",
    "MAXIMUM_PIXEL_INTENSITY = 1000\n",
    "\n",
    "PIXELS_X = 1000\n",
    "PIXELS_Y = 30"
   ]
  },
  {
   "cell_type": "code",
   "execution_count": 23,
   "metadata": {},
   "outputs": [],
   "source": [
    "# create the colour map to convert intensity to colour\n",
    "colour_map = plt.get_cmap('rainbow')\n",
    "norm = colors.LogNorm(vmin=MINIMUM_PIXEL_INTENSITY, vmax=MAXIMUM_PIXEL_INTENSITY, clip=True)  # aiming to get good colour variation in the lower range, and clipping everything else"
   ]
  },
  {
   "cell_type": "code",
   "execution_count": 24,
   "metadata": {},
   "outputs": [],
   "source": [
    "colours_l = []\n",
    "for i in range(MINIMUM_PIXEL_INTENSITY,MAXIMUM_PIXEL_INTENSITY+1):\n",
    "    colours_l.append((i, colour_map(norm(i), bytes=True)[:3]))\n",
    "colours_df = pd.DataFrame(colours_l, columns=['intensity','colour'])"
   ]
  },
  {
   "cell_type": "code",
   "execution_count": 25,
   "metadata": {},
   "outputs": [],
   "source": [
    "im_array = np.zeros([PIXELS_Y+1, PIXELS_X+1, 3], dtype=np.uint8)"
   ]
  },
  {
   "cell_type": "code",
   "execution_count": 26,
   "metadata": {},
   "outputs": [],
   "source": [
    "for r in zip(colours_df.intensity, colours_df.colour):\n",
    "    x = r[0]\n",
    "    im_array[:,x,:] = r[1]\n"
   ]
  },
  {
   "cell_type": "code",
   "execution_count": 27,
   "metadata": {},
   "outputs": [],
   "source": [
    "im = Image.fromarray(im_array, 'RGB')\n"
   ]
  },
  {
   "cell_type": "code",
   "execution_count": 28,
   "metadata": {},
   "outputs": [],
   "source": [
    "im.show()"
   ]
  },
  {
   "cell_type": "code",
   "execution_count": 31,
   "metadata": {},
   "outputs": [],
   "source": [
    "# write out the colour table to a JSON file\n",
    "colourmap_file_name = '/Users/darylwilding-mcbride/Downloads/colourmap.json'\n",
    "colours_df.to_json(colourmap_file_name, orient='records')"
   ]
  },
  {
   "cell_type": "code",
   "execution_count": null,
   "metadata": {},
   "outputs": [],
   "source": []
  }
 ],
 "metadata": {
  "kernelspec": {
   "display_name": "Python 3",
   "language": "python",
   "name": "python3"
  },
  "language_info": {
   "codemirror_mode": {
    "name": "ipython",
    "version": 3
   },
   "file_extension": ".py",
   "mimetype": "text/x-python",
   "name": "python",
   "nbconvert_exporter": "python",
   "pygments_lexer": "ipython3",
   "version": "3.6.8"
  }
 },
 "nbformat": 4,
 "nbformat_minor": 4
}
