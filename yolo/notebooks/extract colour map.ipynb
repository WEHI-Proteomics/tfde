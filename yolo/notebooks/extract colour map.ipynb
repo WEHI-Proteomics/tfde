{
 "cells": [
  {
   "cell_type": "markdown",
   "metadata": {},
   "source": [
    "This notebook generates a table of intensities and colours for the visualiation of raw timsTOF data, and generates a JSON lookup file."
   ]
  },
  {
   "cell_type": "code",
   "execution_count": 88,
   "metadata": {},
   "outputs": [],
   "source": [
    "from matplotlib import colors, cm, pyplot as plt\n",
    "import pandas as pd\n",
    "import numpy as np\n",
    "from PIL import Image\n",
    "import sqlite3"
   ]
  },
  {
   "cell_type": "code",
   "execution_count": 45,
   "metadata": {},
   "outputs": [],
   "source": [
    "MINIMUM_PIXEL_INTENSITY = 1\n",
    "MAXIMUM_PIXEL_INTENSITY = 1000\n",
    "\n",
    "PIXELS_X = 1000\n",
    "PIXELS_Y = 30"
   ]
  },
  {
   "cell_type": "code",
   "execution_count": 46,
   "metadata": {},
   "outputs": [],
   "source": [
    "# create the colour map to convert intensity to colour\n",
    "colour_map = plt.get_cmap('rainbow')\n",
    "norm = colors.LogNorm(vmin=MINIMUM_PIXEL_INTENSITY, vmax=MAXIMUM_PIXEL_INTENSITY, clip=True)  # aiming to get good colour variation in the lower range, and clipping everything else"
   ]
  },
  {
   "cell_type": "code",
   "execution_count": 47,
   "metadata": {},
   "outputs": [],
   "source": [
    "colours_l = []\n",
    "for i in range(MINIMUM_PIXEL_INTENSITY,MAXIMUM_PIXEL_INTENSITY+1):\n",
    "    ic = (i,) + tuple([c for c in colour_map(norm(i), bytes=False)])\n",
    "    colours_l.append(ic)"
   ]
  },
  {
   "cell_type": "code",
   "execution_count": 48,
   "metadata": {},
   "outputs": [],
   "source": [
    "colours_df = pd.DataFrame(colours_l, columns=['intensity','r','g','b','alpha'])"
   ]
  },
  {
   "cell_type": "code",
   "execution_count": 69,
   "metadata": {},
   "outputs": [],
   "source": [
    "colours_df['r_byte'] = np.uint8(colours_df.r * 255.0)\n",
    "colours_df['g_byte'] = np.uint8(colours_df.g * 255.0)\n",
    "colours_df['b_byte'] = np.uint8(colours_df.b * 255.0)"
   ]
  },
  {
   "cell_type": "code",
   "execution_count": 70,
   "metadata": {},
   "outputs": [
    {
     "data": {
      "text/html": [
       "<div>\n",
       "<style scoped>\n",
       "    .dataframe tbody tr th:only-of-type {\n",
       "        vertical-align: middle;\n",
       "    }\n",
       "\n",
       "    .dataframe tbody tr th {\n",
       "        vertical-align: top;\n",
       "    }\n",
       "\n",
       "    .dataframe thead th {\n",
       "        text-align: right;\n",
       "    }\n",
       "</style>\n",
       "<table border=\"1\" class=\"dataframe\">\n",
       "  <thead>\n",
       "    <tr style=\"text-align: right;\">\n",
       "      <th></th>\n",
       "      <th>intensity</th>\n",
       "      <th>r</th>\n",
       "      <th>g</th>\n",
       "      <th>b</th>\n",
       "      <th>alpha</th>\n",
       "      <th>r_byte</th>\n",
       "      <th>g_byte</th>\n",
       "      <th>b_byte</th>\n",
       "    </tr>\n",
       "  </thead>\n",
       "  <tbody>\n",
       "    <tr>\n",
       "      <th>918</th>\n",
       "      <td>919</td>\n",
       "      <td>1.000000</td>\n",
       "      <td>0.036951</td>\n",
       "      <td>0.018479</td>\n",
       "      <td>1.0</td>\n",
       "      <td>255</td>\n",
       "      <td>9</td>\n",
       "      <td>4</td>\n",
       "    </tr>\n",
       "    <tr>\n",
       "      <th>942</th>\n",
       "      <td>943</td>\n",
       "      <td>1.000000</td>\n",
       "      <td>0.024637</td>\n",
       "      <td>0.012320</td>\n",
       "      <td>1.0</td>\n",
       "      <td>255</td>\n",
       "      <td>6</td>\n",
       "      <td>3</td>\n",
       "    </tr>\n",
       "    <tr>\n",
       "      <th>477</th>\n",
       "      <td>478</td>\n",
       "      <td>1.000000</td>\n",
       "      <td>0.326539</td>\n",
       "      <td>0.165554</td>\n",
       "      <td>1.0</td>\n",
       "      <td>255</td>\n",
       "      <td>83</td>\n",
       "      <td>42</td>\n",
       "    </tr>\n",
       "    <tr>\n",
       "      <th>151</th>\n",
       "      <td>152</td>\n",
       "      <td>0.958824</td>\n",
       "      <td>0.751332</td>\n",
       "      <td>0.412356</td>\n",
       "      <td>1.0</td>\n",
       "      <td>244</td>\n",
       "      <td>191</td>\n",
       "      <td>105</td>\n",
       "    </tr>\n",
       "    <tr>\n",
       "      <th>314</th>\n",
       "      <td>315</td>\n",
       "      <td>1.000000</td>\n",
       "      <td>0.494656</td>\n",
       "      <td>0.255843</td>\n",
       "      <td>1.0</td>\n",
       "      <td>255</td>\n",
       "      <td>126</td>\n",
       "      <td>65</td>\n",
       "    </tr>\n",
       "  </tbody>\n",
       "</table>\n",
       "</div>"
      ],
      "text/plain": [
       "     intensity         r         g         b  alpha  r_byte  g_byte  b_byte\n",
       "918        919  1.000000  0.036951  0.018479    1.0     255       9       4\n",
       "942        943  1.000000  0.024637  0.012320    1.0     255       6       3\n",
       "477        478  1.000000  0.326539  0.165554    1.0     255      83      42\n",
       "151        152  0.958824  0.751332  0.412356    1.0     244     191     105\n",
       "314        315  1.000000  0.494656  0.255843    1.0     255     126      65"
      ]
     },
     "execution_count": 70,
     "metadata": {},
     "output_type": "execute_result"
    }
   ],
   "source": [
    "colours_df.sample(n=5)"
   ]
  },
  {
   "cell_type": "code",
   "execution_count": 71,
   "metadata": {},
   "outputs": [],
   "source": [
    "im_array = np.zeros([PIXELS_Y+1, PIXELS_X+1, 3], dtype=np.uint8)"
   ]
  },
  {
   "cell_type": "code",
   "execution_count": 82,
   "metadata": {},
   "outputs": [],
   "source": [
    "for r in zip(colours_df.intensity, colours_df.r_byte, colours_df.g_byte, colours_df.b_byte):\n",
    "    x = r[0]\n",
    "    im_array[:,x,:] = [r[1],r[2],r[3]]\n"
   ]
  },
  {
   "cell_type": "code",
   "execution_count": 85,
   "metadata": {},
   "outputs": [],
   "source": [
    "im = Image.fromarray(im_array, 'RGB')\n"
   ]
  },
  {
   "cell_type": "code",
   "execution_count": 86,
   "metadata": {},
   "outputs": [],
   "source": [
    "im.show()"
   ]
  },
  {
   "cell_type": "raw",
   "metadata": {},
   "source": [
    "# write out the colour table to a JSON file\n",
    "colourmap_file_name = '/Users/darylwilding-mcbride/Downloads/colourmap.json'\n",
    "colours_df.to_json(colourmap_file_name, orient='records')"
   ]
  },
  {
   "cell_type": "code",
   "execution_count": 89,
   "metadata": {},
   "outputs": [],
   "source": [
    "# write out the colour table to a SQLite file\n",
    "colourmap_file_name = '/Users/darylwilding-mcbride/Downloads/colourmap.sqlite'\n",
    "db_conn = sqlite3.connect(colourmap_file_name)\n",
    "colours_df[['intensity','r','g','b']].to_sql(name='colours', con=db_conn, if_exists='replace', index=False)\n",
    "db_conn.close()"
   ]
  },
  {
   "cell_type": "code",
   "execution_count": null,
   "metadata": {},
   "outputs": [],
   "source": []
  }
 ],
 "metadata": {
  "kernelspec": {
   "display_name": "Python 3",
   "language": "python",
   "name": "python3"
  },
  "language_info": {
   "codemirror_mode": {
    "name": "ipython",
    "version": 3
   },
   "file_extension": ".py",
   "mimetype": "text/x-python",
   "name": "python",
   "nbconvert_exporter": "python",
   "pygments_lexer": "ipython3",
   "version": "3.6.8"
  }
 },
 "nbformat": 4,
 "nbformat_minor": 4
}
