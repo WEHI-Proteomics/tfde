{
 "cells": [
  {
   "cell_type": "code",
   "execution_count": null,
   "metadata": {},
   "outputs": [],
   "source": [
    "import glob\n",
    "import os\n",
    "from PIL import Image\n",
    "import sqlite3\n",
    "import pandas as pd\n",
    "import shutil"
   ]
  },
  {
   "cell_type": "code",
   "execution_count": null,
   "metadata": {},
   "outputs": [],
   "source": [
    "BASE_DIR = '/Users/darylwilding-mcbride/Downloads/yolo-movie-rt-3000-3600'\n",
    "INDIVIDUAL_TILES_DIR = '{}/individual-tiles'.format(BASE_DIR)\n",
    "ANIMATION_FRAMES_DIR = '{}/animation-frames'.format(BASE_DIR)\n",
    "VIDEO_DIR = '{}/video'.format(BASE_DIR)\n",
    "\n",
    "SERVER_TILE_DIR = 'ubuntu@34.212.88.7:~/yolo-train-rt-1000-4200-23-may/overlay'\n",
    "AWS_KEY_LOCATION = '~/Documents/AWS\\ keys/dwm-protlab.pem'\n",
    "\n",
    "TILE_START = 10\n",
    "TILE_END = 70\n",
    "CONVERTED_DATABASE = '/Users/darylwilding-mcbride/Downloads/HeLa_20KInt-rt-3000-3600-denoised/HeLa_20KInt.sqlite'\n",
    "RT_LOWER = 3000\n",
    "RT_UPPER = 3600\n",
    "MS1_CE = 10"
   ]
  },
  {
   "cell_type": "code",
   "execution_count": null,
   "metadata": {},
   "outputs": [],
   "source": [
    "# initialise the directories required\n",
    "if os.path.exists(INDIVIDUAL_TILES_DIR):\n",
    "    shutil.rmtree(INDIVIDUAL_TILES_DIR)\n",
    "os.makedirs(INDIVIDUAL_TILES_DIR)\n",
    "\n",
    "if os.path.exists(ANIMATION_FRAMES_DIR):\n",
    "    shutil.rmtree(ANIMATION_FRAMES_DIR)\n",
    "os.makedirs(ANIMATION_FRAMES_DIR)\n",
    "\n",
    "if os.path.exists(VIDEO_DIR):\n",
    "    shutil.rmtree(VIDEO_DIR)\n",
    "os.makedirs(VIDEO_DIR)"
   ]
  },
  {
   "cell_type": "code",
   "execution_count": null,
   "metadata": {},
   "outputs": [],
   "source": [
    "db_conn = sqlite3.connect(CONVERTED_DATABASE)\n",
    "ms1_frame_properties_df = pd.read_sql_query(\"select frame_id,retention_time_secs from frame_properties where retention_time_secs >= {} and retention_time_secs <= {} and collision_energy == {}\".format(RT_LOWER, RT_UPPER, MS1_CE), db_conn)\n",
    "db_conn.close()"
   ]
  },
  {
   "cell_type": "code",
   "execution_count": null,
   "metadata": {},
   "outputs": [],
   "source": [
    "ms1_frame_properties_df.tail()"
   ]
  },
  {
   "cell_type": "code",
   "execution_count": null,
   "metadata": {},
   "outputs": [],
   "source": [
    "# download the tiles from the server\n",
    "for idx in range(len(ms1_frame_properties_df)):\n",
    "    frame_id = int(ms1_frame_properties_df.iloc[idx].frame_id)\n",
    "    process = \"scp -i {} {}/frame-{}-*.png {}\".format(AWS_KEY_LOCATION, SERVER_TILE_DIR, frame_id, INDIVIDUAL_TILES_DIR)\n",
    "    os.system(process)"
   ]
  },
  {
   "cell_type": "code",
   "execution_count": null,
   "metadata": {},
   "outputs": [],
   "source": [
    "for idx in range(len(ms1_frame_properties_df)):\n",
    "    frame_id = int(ms1_frame_properties_df.iloc[idx].frame_id)\n",
    "    file_list = []\n",
    "    for tile_id in range(TILE_START, TILE_END+1):\n",
    "        file_list.append(glob.glob(\"{}/frame-{}-tile-{}-mz-*.png\".format(INDIVIDUAL_TILES_DIR, frame_id, tile_id))[0])\n",
    "    images = list(map(Image.open, file_list))\n",
    "    \n",
    "    widths, heights = zip(*(i.size for i in images))\n",
    "    total_width = sum(widths)\n",
    "    max_height = max(heights)\n",
    "\n",
    "    new_im = Image.new('RGB', (total_width, max_height))\n",
    "\n",
    "    x_offset = 0\n",
    "    for im in images:\n",
    "      new_im.paste(im, (x_offset,0))\n",
    "      x_offset += im.size[0]\n",
    "\n",
    "    new_im.save('{}/frame-{:04d}.png'.format(ANIMATION_FRAMES_DIR, idx))"
   ]
  },
  {
   "cell_type": "code",
   "execution_count": null,
   "metadata": {},
   "outputs": [],
   "source": []
  },
  {
   "cell_type": "code",
   "execution_count": null,
   "metadata": {},
   "outputs": [],
   "source": []
  }
 ],
 "metadata": {
  "kernelspec": {
   "display_name": "Python 3",
   "language": "python",
   "name": "python3"
  },
  "language_info": {
   "codemirror_mode": {
    "name": "ipython",
    "version": 3
   },
   "file_extension": ".py",
   "mimetype": "text/x-python",
   "name": "python",
   "nbconvert_exporter": "python",
   "pygments_lexer": "ipython3",
   "version": "3.6.8"
  }
 },
 "nbformat": 4,
 "nbformat_minor": 2
}
