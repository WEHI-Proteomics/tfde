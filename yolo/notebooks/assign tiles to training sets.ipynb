{
 "cells": [
  {
   "cell_type": "code",
   "execution_count": 27,
   "metadata": {},
   "outputs": [],
   "source": [
    "import glob, os\n",
    "import pandas as pd\n",
    "import numpy as np\n",
    "import sqlite3"
   ]
  },
  {
   "cell_type": "code",
   "execution_count": 47,
   "metadata": {},
   "outputs": [],
   "source": [
    "TILE_BASE = '/Users/darylwilding-mcbride/Downloads/yolo-train-rt-3000-3600-23-apr'\n",
    "PRE_ASSIGNED_FILES_DIR = '{}/pre-assigned'.format(TILE_BASE)\n",
    "OVERLAY_FILES_DIR = '{}/overlay'.format(TILE_BASE)\n",
    "CONVERTED_DATABASE_NAME = '/Users/darylwilding-mcbride/Downloads/HeLa_20KInt-rt-3000-3600/HeLa_20KInt.sqlite'\n",
    "MS1_CE = 10\n",
    "RT_LIMIT_LOWER = 3000\n",
    "RT_LIMIT_UPPER = 3600\n"
   ]
  },
  {
   "cell_type": "code",
   "execution_count": 68,
   "metadata": {},
   "outputs": [],
   "source": [
    "SET_GAP = 10  # number of frames between training sets to avoid features appearing in more than one set\n",
    "BAND_GAP = 10  # number of frames between bands\n",
    "NUMBER_OF_BANDS = 4  # periods over the run from which mini sets will be taken\n"
   ]
  },
  {
   "cell_type": "code",
   "execution_count": 69,
   "metadata": {},
   "outputs": [],
   "source": [
    "# load the file names into a dataframe\n",
    "filenames = []\n",
    "for file in glob.glob(\"{}/*.png\".format(PRE_ASSIGNED_FILES_DIR)):\n",
    "    filenames.append((os.path.basename(os.path.splitext(file)[0])))"
   ]
  },
  {
   "cell_type": "code",
   "execution_count": 70,
   "metadata": {},
   "outputs": [],
   "source": [
    "fn_df = pd.DataFrame(filenames, columns=['name'])"
   ]
  },
  {
   "cell_type": "code",
   "execution_count": 71,
   "metadata": {},
   "outputs": [],
   "source": [
    "db_conn = sqlite3.connect(CONVERTED_DATABASE_NAME)\n",
    "ms1_frame_properties_df = pd.read_sql_query(\"select frame_id,retention_time_secs from frame_properties where retention_time_secs >= {} and retention_time_secs <= {} and collision_energy == {}\".format(RT_LIMIT_LOWER, RT_LIMIT_UPPER, MS1_CE), db_conn)\n",
    "db_conn.close()\n"
   ]
  },
  {
   "cell_type": "code",
   "execution_count": 72,
   "metadata": {},
   "outputs": [
    {
     "data": {
      "text/html": [
       "<div>\n",
       "<style scoped>\n",
       "    .dataframe tbody tr th:only-of-type {\n",
       "        vertical-align: middle;\n",
       "    }\n",
       "\n",
       "    .dataframe tbody tr th {\n",
       "        vertical-align: top;\n",
       "    }\n",
       "\n",
       "    .dataframe thead th {\n",
       "        text-align: right;\n",
       "    }\n",
       "</style>\n",
       "<table border=\"1\" class=\"dataframe\">\n",
       "  <thead>\n",
       "    <tr style=\"text-align: right;\">\n",
       "      <th></th>\n",
       "      <th>frame_id</th>\n",
       "      <th>retention_time_secs</th>\n",
       "    </tr>\n",
       "  </thead>\n",
       "  <tbody>\n",
       "    <tr>\n",
       "      <th>0</th>\n",
       "      <td>27937</td>\n",
       "      <td>3000.034855</td>\n",
       "    </tr>\n",
       "    <tr>\n",
       "      <th>1</th>\n",
       "      <td>27948</td>\n",
       "      <td>3001.215839</td>\n",
       "    </tr>\n",
       "    <tr>\n",
       "      <th>2</th>\n",
       "      <td>27959</td>\n",
       "      <td>3002.398227</td>\n",
       "    </tr>\n",
       "    <tr>\n",
       "      <th>3</th>\n",
       "      <td>27970</td>\n",
       "      <td>3003.582723</td>\n",
       "    </tr>\n",
       "    <tr>\n",
       "      <th>4</th>\n",
       "      <td>27981</td>\n",
       "      <td>3004.765302</td>\n",
       "    </tr>\n",
       "  </tbody>\n",
       "</table>\n",
       "</div>"
      ],
      "text/plain": [
       "   frame_id  retention_time_secs\n",
       "0     27937          3000.034855\n",
       "1     27948          3001.215839\n",
       "2     27959          3002.398227\n",
       "3     27970          3003.582723\n",
       "4     27981          3004.765302"
      ]
     },
     "execution_count": 72,
     "metadata": {},
     "output_type": "execute_result"
    }
   ],
   "source": [
    "ms1_frame_properties_df.head()"
   ]
  },
  {
   "cell_type": "code",
   "execution_count": 73,
   "metadata": {},
   "outputs": [],
   "source": [
    "# divide the ms1 frames into equal-size bands\n",
    "bands = np.array_split(ms1_frame_properties_df, NUMBER_OF_BANDS)"
   ]
  },
  {
   "cell_type": "code",
   "execution_count": 74,
   "metadata": {},
   "outputs": [],
   "source": [
    "train_percent = 0.8\n",
    "valid_percent = 0.1\n",
    "test_percent = 1.0 - (train_percent + valid_percent)"
   ]
  },
  {
   "cell_type": "code",
   "execution_count": 79,
   "metadata": {},
   "outputs": [
    {
     "name": "stdout",
     "output_type": "stream",
     "text": [
      "band 0\n",
      "training set: 3000.0 to 3106.4 secs (91 frames)\n",
      "validation set: 3119.4 to 3120.6 secs (2 frames)\n",
      "test set: 3133.6 to 3134.8 secs (2 frames)\n",
      "band 1\n",
      "training set: 3150.1 to 3256.5 secs (91 frames)\n",
      "validation set: 3269.5 to 3270.7 secs (2 frames)\n",
      "test set: 3283.7 to 3284.9 secs (2 frames)\n",
      "band 2\n",
      "training set: 3300.2 to 3406.6 secs (91 frames)\n",
      "validation set: 3419.6 to 3420.8 secs (2 frames)\n",
      "test set: 3433.8 to 3435.0 secs (2 frames)\n",
      "band 3\n",
      "training set: 3450.3 to 3556.7 secs (91 frames)\n",
      "validation set: 3569.7 to 3570.9 secs (2 frames)\n",
      "test set: 3583.9 to 3585.1 secs (2 frames)\n"
     ]
    }
   ],
   "source": [
    "train_terms = []\n",
    "valid_terms = []\n",
    "test_terms = []\n",
    "\n",
    "for band_idx,band_df in enumerate(bands):\n",
    "\n",
    "    band_length = len(band_df)\n",
    "    train_length = int(train_percent * band_length)\n",
    "    valid_length = int(valid_percent * band_length)\n",
    "    test_length = int(test_percent * band_length)\n",
    "    \n",
    "    train_start = 0\n",
    "    train_stop = train_start + train_length - SET_GAP\n",
    "    \n",
    "    valid_start = train_start + train_length\n",
    "    valid_stop = valid_start + valid_length - SET_GAP\n",
    "    \n",
    "    test_start = valid_start + valid_length\n",
    "    test_stop = test_start + test_length - SET_GAP\n",
    "    \n",
    "    # split the band into three sections according to their proportions\n",
    "    train_ids_df, gap_1_df, valid_ids_df, gap_2_df, test_ids_df, gap_3_df = np.split(band_df, [train_stop, valid_start, valid_stop, test_start, test_stop])\n",
    "\n",
    "    print(\"band {}\".format(band_idx))\n",
    "    print(\"training set: {:.1f} to {:.1f} secs ({} frames)\".format(train_ids_df.retention_time_secs.min(), train_ids_df.retention_time_secs.max(), len(train_ids_df)))\n",
    "    print(\"validation set: {:.1f} to {:.1f} secs ({} frames)\".format(valid_ids_df.retention_time_secs.min(), valid_ids_df.retention_time_secs.max(), len(valid_ids_df)))\n",
    "    print(\"test set: {:.1f} to {:.1f} secs ({} frames)\".format(test_ids_df.retention_time_secs.min(), test_ids_df.retention_time_secs.max(), len(test_ids_df)))\n",
    "    \n",
    "    train_terms += ['frame-' + str(s) for s in train_ids_df.frame_id]\n",
    "    valid_terms += ['frame-' + str(s) for s in valid_ids_df.frame_id]\n",
    "    test_terms += ['frame-' + str(s) for s in test_ids_df.frame_id]\n",
    "    "
   ]
  },
  {
   "cell_type": "code",
   "execution_count": 81,
   "metadata": {},
   "outputs": [
    {
     "data": {
      "text/plain": [
       "8"
      ]
     },
     "execution_count": 81,
     "metadata": {},
     "output_type": "execute_result"
    }
   ],
   "source": [
    "len(valid_terms)"
   ]
  },
  {
   "cell_type": "code",
   "execution_count": null,
   "metadata": {},
   "outputs": [],
   "source": []
  }
 ],
 "metadata": {
  "kernelspec": {
   "display_name": "Python 3",
   "language": "python",
   "name": "python3"
  },
  "language_info": {
   "codemirror_mode": {
    "name": "ipython",
    "version": 3
   },
   "file_extension": ".py",
   "mimetype": "text/x-python",
   "name": "python",
   "nbconvert_exporter": "python",
   "pygments_lexer": "ipython3",
   "version": "3.6.7"
  }
 },
 "nbformat": 4,
 "nbformat_minor": 2
}
