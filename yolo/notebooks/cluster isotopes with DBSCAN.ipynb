{
 "cells": [
  {
   "cell_type": "code",
   "execution_count": 1,
   "metadata": {},
   "outputs": [],
   "source": [
    "import json\n",
    "from urllib import parse\n",
    "import pandas as pd\n",
    "import sqlite3\n",
    "import numpy as np\n",
    "from matplotlib import colors, cm, pyplot as plt\n",
    "import urllib.request\n",
    "from PIL import Image"
   ]
  },
  {
   "cell_type": "code",
   "execution_count": 2,
   "metadata": {},
   "outputs": [],
   "source": [
    "PIXELS_X = 910\n",
    "PIXELS_Y = 910  # equal to the number of scan lines\n",
    "MZ_MIN = 100.0\n",
    "MZ_MAX = 1700.0\n",
    "SCAN_MAX = PIXELS_Y\n",
    "SCAN_MIN = 1\n",
    "MZ_PER_TILE = 18.0\n",
    "TILES_PER_FRAME = int((MZ_MAX - MZ_MIN) / MZ_PER_TILE) + 1\n",
    "MIN_TILE_IDX = 0\n",
    "MAX_TILE_IDX = TILES_PER_FRAME-1"
   ]
  },
  {
   "cell_type": "code",
   "execution_count": 3,
   "metadata": {},
   "outputs": [
    {
     "data": {
      "text/plain": [
       "0.01978021978021978"
      ]
     },
     "execution_count": 3,
     "metadata": {},
     "output_type": "execute_result"
    }
   ],
   "source": [
    "MZ_PER_PIXEL_X = MZ_PER_TILE / PIXELS_X\n",
    "MZ_PER_PIXEL_X"
   ]
  },
  {
   "cell_type": "code",
   "execution_count": 4,
   "metadata": {},
   "outputs": [],
   "source": [
    "# get the m/z for a x coordinate on a specified tile\n",
    "def mz_from_tile_pixel_x(tile_id, pixel_x):\n",
    "    mz_lower = MZ_MIN + (tile_id * MZ_PER_TILE)\n",
    "    mz = mz_lower + (pixel_x * MZ_PER_PIXEL_X)\n",
    "    return mz"
   ]
  },
  {
   "cell_type": "code",
   "execution_count": 5,
   "metadata": {},
   "outputs": [],
   "source": [
    "annotation_file_name = '/Users/darylwilding-mcbride/Downloads/via_export_json (14).json'"
   ]
  },
  {
   "cell_type": "code",
   "execution_count": 6,
   "metadata": {},
   "outputs": [],
   "source": [
    "# load an annotations file\n",
    "with open(annotation_file_name) as file:\n",
    "    annotations = json.load(file)\n"
   ]
  },
  {
   "cell_type": "code",
   "execution_count": 119,
   "metadata": {},
   "outputs": [],
   "source": [
    "tile_key = list(annotations.keys())[32]"
   ]
  },
  {
   "cell_type": "code",
   "execution_count": 120,
   "metadata": {},
   "outputs": [
    {
     "data": {
      "text/plain": [
       "'http://spectra-server-lb-1653892276.ap-southeast-2.elb.amazonaws.com/tile/run/190719_Hela_Ecoli_1to1_02/tile/32/frame/2050-1'"
      ]
     },
     "execution_count": 120,
     "metadata": {},
     "output_type": "execute_result"
    }
   ],
   "source": [
    "tile_key"
   ]
  },
  {
   "cell_type": "code",
   "execution_count": 121,
   "metadata": {},
   "outputs": [],
   "source": [
    "tile_d = annotations[tile_key]\n",
    "tile_url = tile_d['filename']\n",
    "\n",
    "splits = parse.urlsplit(tile_url).path.split('/')\n",
    "run_name = splits[3]\n",
    "tile_id = int(splits[5])\n",
    "frame_id = int(splits[7])\n",
    "\n",
    "tile_regions = tile_d['regions']"
   ]
  },
  {
   "cell_type": "code",
   "execution_count": 122,
   "metadata": {},
   "outputs": [
    {
     "data": {
      "text/plain": [
       "('190719_Hela_Ecoli_1to1_02', 32, 2050)"
      ]
     },
     "execution_count": 122,
     "metadata": {},
     "output_type": "execute_result"
    }
   ],
   "source": [
    "run_name, tile_id, frame_id"
   ]
  },
  {
   "cell_type": "code",
   "execution_count": 123,
   "metadata": {},
   "outputs": [
    {
     "data": {
      "text/plain": [
       "8"
      ]
     },
     "execution_count": 123,
     "metadata": {},
     "output_type": "execute_result"
    }
   ],
   "source": [
    "len(tile_regions)"
   ]
  },
  {
   "cell_type": "code",
   "execution_count": 124,
   "metadata": {},
   "outputs": [],
   "source": [
    "feature_idx = 6\n",
    "shape_attributes = tile_regions[feature_idx]['shape_attributes']\n",
    "region_attributes = tile_regions[feature_idx]['region_attributes']"
   ]
  },
  {
   "cell_type": "code",
   "execution_count": 125,
   "metadata": {},
   "outputs": [],
   "source": [
    "mz_lower = mz_from_tile_pixel_x(tile_id=tile_id, pixel_x=shape_attributes['x'])\n",
    "mz_upper = mz_from_tile_pixel_x(tile_id=tile_id, pixel_x=shape_attributes['x'] + shape_attributes['width'])"
   ]
  },
  {
   "cell_type": "code",
   "execution_count": 126,
   "metadata": {},
   "outputs": [
    {
     "data": {
      "text/plain": [
       "(679.6395604395605, 682.5076923076923)"
      ]
     },
     "execution_count": 126,
     "metadata": {},
     "output_type": "execute_result"
    }
   ],
   "source": [
    "mz_lower, mz_upper"
   ]
  },
  {
   "cell_type": "code",
   "execution_count": 127,
   "metadata": {},
   "outputs": [],
   "source": [
    "scan_lower = shape_attributes['y']\n",
    "scan_upper = shape_attributes['y'] + shape_attributes['height']"
   ]
  },
  {
   "cell_type": "code",
   "execution_count": 128,
   "metadata": {},
   "outputs": [
    {
     "data": {
      "text/plain": [
       "(627, 687)"
      ]
     },
     "execution_count": 128,
     "metadata": {},
     "output_type": "execute_result"
    }
   ],
   "source": [
    "scan_lower, scan_upper"
   ]
  },
  {
   "cell_type": "code",
   "execution_count": 129,
   "metadata": {},
   "outputs": [],
   "source": [
    "db_file_name = '/Users/darylwilding-mcbride/Downloads/experiments/dwm-test/converted-databases/exp-dwm-test-run-{}-converted.sqlite'.format(run_name)"
   ]
  },
  {
   "cell_type": "code",
   "execution_count": 130,
   "metadata": {},
   "outputs": [],
   "source": [
    "db_conn = sqlite3.connect(db_file_name)\n",
    "raw_df = pd.read_sql_query('select mz,scan,intensity from frames where mz >= {} and mz <= {} and scan >= {} and scan <= {} and frame_id == {}'.format(mz_lower, mz_upper, scan_lower, scan_upper, frame_id), db_conn)\n",
    "db_conn.close()"
   ]
  },
  {
   "cell_type": "markdown",
   "metadata": {},
   "source": [
    "#### segment the raw data to reveal the isotopes in the feature"
   ]
  },
  {
   "cell_type": "code",
   "execution_count": 131,
   "metadata": {},
   "outputs": [],
   "source": [
    "X = raw_df[['mz','scan']].values"
   ]
  },
  {
   "cell_type": "code",
   "execution_count": 132,
   "metadata": {},
   "outputs": [],
   "source": [
    "from sklearn.cluster import DBSCAN\n",
    "from sklearn.preprocessing import StandardScaler\n",
    "import matplotlib.pyplot as plt\n",
    "\n",
    "scaler = StandardScaler()\n",
    "# X_scaled = scaler.fit_transform(X)\n",
    "raw_df['scan_scaled'] = raw_df.scan / 50.0\n",
    "X_scaled = raw_df[['mz','scan_scaled']].values\n",
    "\n",
    "# cluster the data into five clusters\n",
    "dbscan = DBSCAN(eps=0.2, min_samples = 3)\n",
    "clusters = dbscan.fit_predict(X_scaled)"
   ]
  },
  {
   "cell_type": "code",
   "execution_count": 133,
   "metadata": {},
   "outputs": [],
   "source": [
    "raw_df['cluster'] = clusters"
   ]
  },
  {
   "cell_type": "code",
   "execution_count": 134,
   "metadata": {},
   "outputs": [
    {
     "data": {
      "text/html": [
       "<div>\n",
       "<style scoped>\n",
       "    .dataframe tbody tr th:only-of-type {\n",
       "        vertical-align: middle;\n",
       "    }\n",
       "\n",
       "    .dataframe tbody tr th {\n",
       "        vertical-align: top;\n",
       "    }\n",
       "\n",
       "    .dataframe thead th {\n",
       "        text-align: right;\n",
       "    }\n",
       "</style>\n",
       "<table border=\"1\" class=\"dataframe\">\n",
       "  <thead>\n",
       "    <tr style=\"text-align: right;\">\n",
       "      <th></th>\n",
       "      <th>mz</th>\n",
       "      <th>scan</th>\n",
       "      <th>intensity</th>\n",
       "      <th>scan_scaled</th>\n",
       "      <th>cluster</th>\n",
       "    </tr>\n",
       "  </thead>\n",
       "  <tbody>\n",
       "    <tr>\n",
       "      <th>260</th>\n",
       "      <td>681.309010</td>\n",
       "      <td>675</td>\n",
       "      <td>62</td>\n",
       "      <td>13.50</td>\n",
       "      <td>3</td>\n",
       "    </tr>\n",
       "    <tr>\n",
       "      <th>139</th>\n",
       "      <td>680.310641</td>\n",
       "      <td>687</td>\n",
       "      <td>81</td>\n",
       "      <td>13.74</td>\n",
       "      <td>1</td>\n",
       "    </tr>\n",
       "    <tr>\n",
       "      <th>300</th>\n",
       "      <td>681.812564</td>\n",
       "      <td>651</td>\n",
       "      <td>183</td>\n",
       "      <td>13.02</td>\n",
       "      <td>4</td>\n",
       "    </tr>\n",
       "    <tr>\n",
       "      <th>291</th>\n",
       "      <td>681.808470</td>\n",
       "      <td>661</td>\n",
       "      <td>134</td>\n",
       "      <td>13.22</td>\n",
       "      <td>4</td>\n",
       "    </tr>\n",
       "    <tr>\n",
       "      <th>261</th>\n",
       "      <td>681.309010</td>\n",
       "      <td>681</td>\n",
       "      <td>48</td>\n",
       "      <td>13.62</td>\n",
       "      <td>3</td>\n",
       "    </tr>\n",
       "  </tbody>\n",
       "</table>\n",
       "</div>"
      ],
      "text/plain": [
       "             mz  scan  intensity  scan_scaled  cluster\n",
       "260  681.309010   675         62        13.50        3\n",
       "139  680.310641   687         81        13.74        1\n",
       "300  681.812564   651        183        13.02        4\n",
       "291  681.808470   661        134        13.22        4\n",
       "261  681.309010   681         48        13.62        3"
      ]
     },
     "execution_count": 134,
     "metadata": {},
     "output_type": "execute_result"
    }
   ],
   "source": [
    "raw_df.sample(n=5)"
   ]
  },
  {
   "cell_type": "code",
   "execution_count": 135,
   "metadata": {},
   "outputs": [],
   "source": [
    "import peakutils"
   ]
  },
  {
   "cell_type": "code",
   "execution_count": 136,
   "metadata": {},
   "outputs": [],
   "source": [
    "colour_map = plt.get_cmap('Dark2')\n",
    "norm = colors.Normalize(vmin=raw_df.cluster.min(), vmax=raw_df.cluster.max(), clip=False)"
   ]
  },
  {
   "cell_type": "code",
   "execution_count": 137,
   "metadata": {},
   "outputs": [],
   "source": [
    "centroids_l = []\n",
    "for group_name,group_df in raw_df.groupby(['cluster'], as_index=False):\n",
    "    if group_name >= 0:\n",
    "        mz_centroid = peakutils.centroid(group_df.mz, group_df.intensity)\n",
    "        scan_centroid = peakutils.centroid(group_df.scan, group_df.intensity)\n",
    "        c = colour_map(norm(group_name), bytes=False)[:3]\n",
    "        centroids_l.append((group_name, mz_centroid, scan_centroid, c))\n",
    "centroids_df = pd.DataFrame(centroids_l, columns=['cluster','mz_centroid','scan_centroid','colour'])"
   ]
  },
  {
   "cell_type": "code",
   "execution_count": 138,
   "metadata": {},
   "outputs": [
    {
     "data": {
      "image/png": "[encoded data removed]",
      "text/plain": [
       "<Figure size 1080x576 with 1 Axes>"
      ]
     },
     "metadata": {
      "needs_background": "light"
     },
     "output_type": "display_data"
    }
   ],
   "source": [
    "# plot the cluster assignments\n",
    "f, ax1 = plt.subplots()\n",
    "f.set_figheight(8)\n",
    "f.set_figwidth(15)\n",
    "\n",
    "plt.margins(0.06)\n",
    "\n",
    "for idx,row in centroids_df.iterrows():\n",
    "    cluster_df = raw_df[raw_df.cluster == row.cluster]\n",
    "    plt.scatter(cluster_df.mz, cluster_df.scan, c=np.array([row.colour]))\n",
    "    plt.plot(row.mz_centroid, row.scan_centroid, marker='o', markerfacecolor='none', markeredgecolor='red', linestyle='', markeredgewidth=2, ms=15, label='cluster centroid')\n",
    "\n",
    "plt.xlabel(\"m/z\")\n",
    "plt.ylabel(\"scan\")\n",
    "plt.gca().invert_yaxis()\n",
    "plt.show()"
   ]
  },
  {
   "cell_type": "code",
   "execution_count": 139,
   "metadata": {},
   "outputs": [
    {
     "data": {
      "image/png": "[encoded data removed]",
      "text/plain": [
       "<PIL.Image.Image image mode=RGB size=725x300 at 0x7FD71249BCF8>"
      ]
     },
     "execution_count": 139,
     "metadata": {},
     "output_type": "execute_result"
    }
   ],
   "source": [
    "feature_x = shape_attributes['x']\n",
    "feature_y = shape_attributes['y']\n",
    "feature_width = shape_attributes['width']\n",
    "feature_height = shape_attributes['height']\n",
    "\n",
    "image = Image.open(urllib.request.urlopen(tile_url))\n",
    "image = image.crop((feature_x, feature_y, feature_x+feature_width, feature_y+feature_height))\n",
    "image.resize((image.width*5,image.height*5))"
   ]
  },
  {
   "cell_type": "code",
   "execution_count": null,
   "metadata": {},
   "outputs": [],
   "source": []
  }
 ],
 "metadata": {
  "kernelspec": {
   "display_name": "Python 3",
   "language": "python",
   "name": "python3"
  },
  "language_info": {
   "codemirror_mode": {
    "name": "ipython",
    "version": 3
   },
   "file_extension": ".py",
   "mimetype": "text/x-python",
   "name": "python",
   "nbconvert_exporter": "python",
   "pygments_lexer": "ipython3",
   "version": "3.6.8"
  }
 },
 "nbformat": 4,
 "nbformat_minor": 4
}
