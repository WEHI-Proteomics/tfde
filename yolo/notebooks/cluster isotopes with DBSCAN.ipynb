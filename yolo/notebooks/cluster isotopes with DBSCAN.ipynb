{
 "cells": [
  {
   "cell_type": "code",
   "execution_count": 73,
   "metadata": {},
   "outputs": [],
   "source": [
    "import pandas as pd\n",
    "import numpy as np\n",
    "from matplotlib import colors, cm, text, pyplot as plt\n",
    "import matplotlib.patches as patches"
   ]
  },
  {
   "cell_type": "code",
   "execution_count": 74,
   "metadata": {},
   "outputs": [],
   "source": [
    "from sklearn.cluster import DBSCAN\n",
    "import matplotlib.pyplot as plt"
   ]
  },
  {
   "cell_type": "code",
   "execution_count": 75,
   "metadata": {},
   "outputs": [],
   "source": [
    "import peakutils\n",
    "from scipy import signal\n",
    "import math"
   ]
  },
  {
   "cell_type": "code",
   "execution_count": 76,
   "metadata": {},
   "outputs": [],
   "source": [
    "# define a straight line to exclude the charge-1 cloud\n",
    "def scan_coords_for_single_charge_region(mz_lower, mz_upper):\n",
    "    scan_for_mz_lower = -1 * ((1.2 * mz_lower) - 1252)\n",
    "    scan_for_mz_upper = -1 * ((1.2 * mz_upper) - 1252)\n",
    "    return (scan_for_mz_lower,scan_for_mz_upper)"
   ]
  },
  {
   "cell_type": "code",
   "execution_count": 77,
   "metadata": {},
   "outputs": [],
   "source": [
    "MZ_MIN = 748\n",
    "MZ_MAX = 766"
   ]
  },
  {
   "cell_type": "code",
   "execution_count": 78,
   "metadata": {},
   "outputs": [],
   "source": [
    "charge_one_scan_max = max(scan_coords_for_single_charge_region(mz_lower=MZ_MIN, mz_upper=MZ_MAX))"
   ]
  },
  {
   "cell_type": "code",
   "execution_count": 79,
   "metadata": {},
   "outputs": [
    {
     "data": {
      "text/plain": [
       "354.4"
      ]
     },
     "execution_count": 79,
     "metadata": {},
     "output_type": "execute_result"
    }
   ],
   "source": [
    "charge_one_scan_max"
   ]
  },
  {
   "cell_type": "code",
   "execution_count": 80,
   "metadata": {},
   "outputs": [],
   "source": [
    "MZ_MIN_DEBUG, MZ_MAX_DEBUG = (764.4201958278368, 765.9385489808168)\n",
    "SCAN_MIN_DEBUG, SCAN_MAX_DEBUG = (400, 460)\n",
    "RT_LOWER_DEBUG, RT_UPPER_DEBUG = (2103.4829066671086, 2110.362298691853)"
   ]
  },
  {
   "cell_type": "code",
   "execution_count": 144,
   "metadata": {},
   "outputs": [],
   "source": [
    "raw_df = pd.read_pickle('/Users/darylwilding-mcbride/Downloads/YHE211_1-mz-748-766-rt-2000-2200.pkl')\n",
    "raw_df = raw_df[(raw_df.frame_type == 0) & (raw_df.intensity >= 50) & (raw_df.scan >= charge_one_scan_max)]\n",
    "# raw_df = raw_df[(raw_df.mz >= MZ_MIN_DEBUG) & (raw_df.mz <= MZ_MAX_DEBUG) & (raw_df.scan >= SCAN_MIN_DEBUG) & (raw_df.scan <= SCAN_MAX_DEBUG) & (raw_df.retention_time_secs >= RT_LOWER_DEBUG) & (raw_df.retention_time_secs <= RT_UPPER_DEBUG)]\n",
    "raw_df.reset_index(drop=True, inplace=True)"
   ]
  },
  {
   "cell_type": "code",
   "execution_count": 145,
   "metadata": {},
   "outputs": [],
   "source": [
    "# assign each point a unique identifier\n",
    "raw_df['point_id'] = raw_df.index"
   ]
  },
  {
   "cell_type": "code",
   "execution_count": 146,
   "metadata": {},
   "outputs": [
    {
     "data": {
      "text/html": [
       "<div>\n",
       "<style scoped>\n",
       "    .dataframe tbody tr th:only-of-type {\n",
       "        vertical-align: middle;\n",
       "    }\n",
       "\n",
       "    .dataframe tbody tr th {\n",
       "        vertical-align: top;\n",
       "    }\n",
       "\n",
       "    .dataframe thead th {\n",
       "        text-align: right;\n",
       "    }\n",
       "</style>\n",
       "<table border=\"1\" class=\"dataframe\">\n",
       "  <thead>\n",
       "    <tr style=\"text-align: right;\">\n",
       "      <th></th>\n",
       "      <th>frame_id</th>\n",
       "      <th>frame_type</th>\n",
       "      <th>mz</th>\n",
       "      <th>scan</th>\n",
       "      <th>intensity</th>\n",
       "      <th>retention_time_secs</th>\n",
       "      <th>point_id</th>\n",
       "    </tr>\n",
       "  </thead>\n",
       "  <tbody>\n",
       "    <tr>\n",
       "      <th>0</th>\n",
       "      <td>18187</td>\n",
       "      <td>0</td>\n",
       "      <td>748.002161</td>\n",
       "      <td>765</td>\n",
       "      <td>81</td>\n",
       "      <td>2028.860792</td>\n",
       "      <td>0</td>\n",
       "    </tr>\n",
       "    <tr>\n",
       "      <th>1</th>\n",
       "      <td>18987</td>\n",
       "      <td>0</td>\n",
       "      <td>748.002161</td>\n",
       "      <td>627</td>\n",
       "      <td>93</td>\n",
       "      <td>2113.537640</td>\n",
       "      <td>1</td>\n",
       "    </tr>\n",
       "    <tr>\n",
       "      <th>2</th>\n",
       "      <td>18987</td>\n",
       "      <td>0</td>\n",
       "      <td>748.002161</td>\n",
       "      <td>648</td>\n",
       "      <td>62</td>\n",
       "      <td>2113.537640</td>\n",
       "      <td>2</td>\n",
       "    </tr>\n",
       "    <tr>\n",
       "      <th>3</th>\n",
       "      <td>18972</td>\n",
       "      <td>0</td>\n",
       "      <td>748.002161</td>\n",
       "      <td>657</td>\n",
       "      <td>66</td>\n",
       "      <td>2111.950076</td>\n",
       "      <td>3</td>\n",
       "    </tr>\n",
       "    <tr>\n",
       "      <th>4</th>\n",
       "      <td>18987</td>\n",
       "      <td>0</td>\n",
       "      <td>748.002161</td>\n",
       "      <td>675</td>\n",
       "      <td>132</td>\n",
       "      <td>2113.537640</td>\n",
       "      <td>4</td>\n",
       "    </tr>\n",
       "  </tbody>\n",
       "</table>\n",
       "</div>"
      ],
      "text/plain": [
       "   frame_id  frame_type          mz  scan  intensity  retention_time_secs  \\\n",
       "0     18187           0  748.002161   765         81          2028.860792   \n",
       "1     18987           0  748.002161   627         93          2113.537640   \n",
       "2     18987           0  748.002161   648         62          2113.537640   \n",
       "3     18972           0  748.002161   657         66          2111.950076   \n",
       "4     18987           0  748.002161   675        132          2113.537640   \n",
       "\n",
       "   point_id  \n",
       "0         0  \n",
       "1         1  \n",
       "2         2  \n",
       "3         3  \n",
       "4         4  "
      ]
     },
     "execution_count": 146,
     "metadata": {},
     "output_type": "execute_result"
    }
   ],
   "source": [
    "raw_df.head()"
   ]
  },
  {
   "cell_type": "markdown",
   "metadata": {},
   "source": [
    "#### repeast from here"
   ]
  },
  {
   "cell_type": "code",
   "execution_count": 1011,
   "metadata": {},
   "outputs": [
    {
     "data": {
      "text/plain": [
       "frame_id                19557.000000\n",
       "frame_type                  0.000000\n",
       "mz                        756.398076\n",
       "scan                      695.000000\n",
       "intensity                1828.000000\n",
       "retention_time_secs      2173.874280\n",
       "point_id               506390.000000\n",
       "Name: 506390, dtype: float64"
      ]
     },
     "execution_count": 1011,
     "metadata": {},
     "output_type": "execute_result"
    }
   ],
   "source": [
    "# find the most intense point\n",
    "anchor_point_s = raw_df.loc[raw_df.intensity.idxmax()]\n",
    "anchor_point_s"
   ]
  },
  {
   "cell_type": "code",
   "execution_count": 1012,
   "metadata": {},
   "outputs": [],
   "source": [
    "mz_lower = anchor_point_s.mz - 1.0\n",
    "mz_upper = anchor_point_s.mz + 7.0\n",
    "scan_lower = anchor_point_s.scan - 100\n",
    "scan_upper = anchor_point_s.scan + 100"
   ]
  },
  {
   "cell_type": "code",
   "execution_count": 1013,
   "metadata": {},
   "outputs": [],
   "source": [
    "candidate_region_df = raw_df[(raw_df.frame_id == anchor_point_s.frame_id) & (raw_df.mz >= mz_lower) & (raw_df.mz <= mz_upper) & (raw_df.scan >= scan_lower) & (raw_df.scan <= scan_upper)].copy()\n"
   ]
  },
  {
   "cell_type": "code",
   "execution_count": 1014,
   "metadata": {},
   "outputs": [],
   "source": [
    "MS1_PEAK_DELTA = 0.1"
   ]
  },
  {
   "cell_type": "code",
   "execution_count": 1015,
   "metadata": {},
   "outputs": [],
   "source": [
    "peak_mz_lower = anchor_point_s.mz-MS1_PEAK_DELTA\n",
    "peak_mz_upper = anchor_point_s.mz+MS1_PEAK_DELTA"
   ]
  },
  {
   "cell_type": "code",
   "execution_count": 1016,
   "metadata": {},
   "outputs": [
    {
     "data": {
      "image/png": "[encoded data removed]",
      "text/plain": [
       "<Figure size 1080x1080 with 1 Axes>"
      ]
     },
     "metadata": {
      "needs_background": "light"
     },
     "output_type": "display_data"
    }
   ],
   "source": [
    "# plot the cluster assignments\n",
    "f, ax1 = plt.subplots()\n",
    "f.set_figheight(15)\n",
    "f.set_figwidth(15)\n",
    "\n",
    "plt.margins(0.06)\n",
    "\n",
    "plt.scatter(candidate_region_df.mz, candidate_region_df.scan)\n",
    "plt.plot(anchor_point_s.mz, anchor_point_s.scan, marker='x', markerfacecolor='none', markeredgecolor='red', linestyle='', markeredgewidth=5, ms=25, label='anchor point')\n",
    "\n",
    "plt.axvline(x=peak_mz_lower, linestyle=':', color='orange', linewidth=2)\n",
    "plt.axvline(x=peak_mz_upper, linestyle=':', color='orange', linewidth=2)\n",
    "\n",
    "plt.xlabel(\"m/z\")\n",
    "plt.ylabel(\"scan\")\n",
    "plt.gca().invert_yaxis()\n",
    "plt.show()"
   ]
  },
  {
   "cell_type": "code",
   "execution_count": 1017,
   "metadata": {},
   "outputs": [],
   "source": [
    "peak_df = candidate_region_df[(candidate_region_df.mz >= peak_mz_lower) & (candidate_region_df.mz <= peak_mz_upper)]"
   ]
  },
  {
   "cell_type": "code",
   "execution_count": 1018,
   "metadata": {},
   "outputs": [
    {
     "data": {
      "image/png": "[encoded data removed]",
      "text/plain": [
       "<Figure size 1080x576 with 1 Axes>"
      ]
     },
     "metadata": {
      "needs_background": "light"
     },
     "output_type": "display_data"
    }
   ],
   "source": [
    "# plot the cluster assignments\n",
    "f, ax1 = plt.subplots()\n",
    "f.set_figheight(8)\n",
    "f.set_figwidth(15)\n",
    "\n",
    "plt.margins(0.06)\n",
    "\n",
    "plt.scatter(peak_df.scan, peak_df.intensity)\n",
    "plt.plot(anchor_point_s.scan, anchor_point_s.intensity, marker='o', markerfacecolor='none', markeredgecolor='red', linestyle='', markeredgewidth=2, ms=15, label='anchor point')\n",
    "\n",
    "plt.xlabel(\"scan\")\n",
    "plt.ylabel(\"intensity\")\n",
    "plt.show()"
   ]
  },
  {
   "cell_type": "code",
   "execution_count": 1019,
   "metadata": {},
   "outputs": [],
   "source": [
    "scan_0_df = peak_df.groupby(['scan'], as_index=False).intensity.sum()\n",
    "scan_0_df.sort_values(by=['scan'], ascending=True, inplace=True)\n",
    "# filter the points\n",
    "scan_0_df['filtered_intensity'] = scan_0_df.intensity  # set the default\n",
    "window_length = 21\n",
    "if len(scan_0_df) > window_length:\n",
    "    try:\n",
    "        scan_0_df['filtered_intensity'] = signal.savgol_filter(scan_0_df.intensity, window_length=window_length, polyorder=2)\n",
    "        filtered = True\n",
    "    except:\n",
    "        filtered = False\n",
    "else:\n",
    "    filtered = False"
   ]
  },
  {
   "cell_type": "code",
   "execution_count": 1020,
   "metadata": {
    "scrolled": true
   },
   "outputs": [
    {
     "data": {
      "text/plain": [
       "True"
      ]
     },
     "execution_count": 1020,
     "metadata": {},
     "output_type": "execute_result"
    }
   ],
   "source": [
    "filtered"
   ]
  },
  {
   "cell_type": "code",
   "execution_count": 1021,
   "metadata": {},
   "outputs": [],
   "source": [
    "peak_idxs = peakutils.indexes(scan_0_df.filtered_intensity.values, thres=0.05, min_dist=10/2, thres_abs=False)\n",
    "peak_x_l = scan_0_df.iloc[peak_idxs].scan.to_list()\n",
    "peaks_df = scan_0_df[scan_0_df.scan.isin(peak_x_l)]"
   ]
  },
  {
   "cell_type": "code",
   "execution_count": 1022,
   "metadata": {},
   "outputs": [],
   "source": [
    "valley_idxs = peakutils.indexes(-scan_0_df.filtered_intensity.values, thres=0.05, min_dist=10/2, thres_abs=False)\n",
    "valley_x_l = scan_0_df.iloc[valley_idxs].scan.to_list()\n",
    "valleys_df = scan_0_df[scan_0_df.scan.isin(valley_x_l)]"
   ]
  },
  {
   "cell_type": "code",
   "execution_count": 1023,
   "metadata": {},
   "outputs": [
    {
     "data": {
      "text/html": [
       "<div>\n",
       "<style scoped>\n",
       "    .dataframe tbody tr th:only-of-type {\n",
       "        vertical-align: middle;\n",
       "    }\n",
       "\n",
       "    .dataframe tbody tr th {\n",
       "        vertical-align: top;\n",
       "    }\n",
       "\n",
       "    .dataframe thead th {\n",
       "        text-align: right;\n",
       "    }\n",
       "</style>\n",
       "<table border=\"1\" class=\"dataframe\">\n",
       "  <thead>\n",
       "    <tr style=\"text-align: right;\">\n",
       "      <th></th>\n",
       "      <th>scan</th>\n",
       "      <th>intensity</th>\n",
       "      <th>filtered_intensity</th>\n",
       "    </tr>\n",
       "  </thead>\n",
       "  <tbody>\n",
       "    <tr>\n",
       "      <th>22</th>\n",
       "      <td>671</td>\n",
       "      <td>81</td>\n",
       "      <td>141.897025</td>\n",
       "    </tr>\n",
       "    <tr>\n",
       "      <th>42</th>\n",
       "      <td>695</td>\n",
       "      <td>1828</td>\n",
       "      <td>1063.298137</td>\n",
       "    </tr>\n",
       "    <tr>\n",
       "      <th>61</th>\n",
       "      <td>714</td>\n",
       "      <td>10</td>\n",
       "      <td>-25.839490</td>\n",
       "    </tr>\n",
       "    <tr>\n",
       "      <th>77</th>\n",
       "      <td>730</td>\n",
       "      <td>10</td>\n",
       "      <td>0.232756</td>\n",
       "    </tr>\n",
       "  </tbody>\n",
       "</table>\n",
       "</div>"
      ],
      "text/plain": [
       "    scan  intensity  filtered_intensity\n",
       "22   671         81          141.897025\n",
       "42   695       1828         1063.298137\n",
       "61   714         10          -25.839490\n",
       "77   730         10            0.232756"
      ]
     },
     "execution_count": 1023,
     "metadata": {},
     "output_type": "execute_result"
    }
   ],
   "source": [
    "valleys_df"
   ]
  },
  {
   "cell_type": "code",
   "execution_count": 1024,
   "metadata": {},
   "outputs": [],
   "source": [
    "upper_x = valleys_df[valleys_df.scan > anchor_point_s.scan].scan.min()\n",
    "if math.isnan(upper_x):\n",
    "    upper_x = scan_0_df.scan.max()\n",
    "lower_x = valleys_df[valleys_df.scan < anchor_point_s.scan].scan.max()\n",
    "if math.isnan(lower_x):\n",
    "    lower_x = scan_0_df.scan.min()"
   ]
  },
  {
   "cell_type": "code",
   "execution_count": 1025,
   "metadata": {},
   "outputs": [],
   "source": [
    "scan_0_extract_df = scan_0_df[(scan_0_df.scan >= lower_x) & (scan_0_df.scan <= upper_x)]"
   ]
  },
  {
   "cell_type": "code",
   "execution_count": 1026,
   "metadata": {},
   "outputs": [
    {
     "data": {
      "image/png": "[encoded data removed]",
      "text/plain": [
       "<Figure size 1080x576 with 1 Axes>"
      ]
     },
     "metadata": {
      "needs_background": "light"
     },
     "output_type": "display_data"
    }
   ],
   "source": [
    "f, ax1 = plt.subplots()\n",
    "f.set_figheight(8)\n",
    "f.set_figwidth(15)\n",
    "\n",
    "plt.margins(0.06)\n",
    "\n",
    "# plot the flattened points\n",
    "plt.scatter(scan_0_df.scan, scan_0_df.intensity, c='silver')\n",
    "# plot the smoothed points\n",
    "plt.plot(scan_0_df.scan, scan_0_df.filtered_intensity, marker='', color='lightskyblue', linestyle='--', linewidth=1, ms=5, label='smoothed')\n",
    "plt.plot(scan_0_extract_df.scan, scan_0_extract_df.filtered_intensity, marker='', color='lightskyblue', linestyle=':', linewidth=3, ms=5, label='extracted')\n",
    "\n",
    "plt.plot(valleys_df.scan, valleys_df.filtered_intensity, marker='v', color='lightcoral', linestyle=None, linewidth=0, ms=15, label='valleys')\n",
    "plt.plot(anchor_point_s.scan, anchor_point_s.intensity, marker='o', markerfacecolor='none', markeredgecolor='red', linestyle='', markeredgewidth=2, ms=15, label='anchor point')\n",
    "\n",
    "plt.xlabel(\"scan\")\n",
    "plt.ylabel(\"intensity\")\n",
    "plt.show()"
   ]
  },
  {
   "cell_type": "markdown",
   "metadata": {},
   "source": [
    "#### trim the candidate region to account for the selected peak in mobility"
   ]
  },
  {
   "cell_type": "code",
   "execution_count": 1027,
   "metadata": {},
   "outputs": [],
   "source": [
    "candidate_region_df = candidate_region_df[(candidate_region_df.scan >= lower_x) & (candidate_region_df.scan <= upper_x)]"
   ]
  },
  {
   "cell_type": "markdown",
   "metadata": {},
   "source": [
    "#### segment the raw data to reveal the isotopes in the feature"
   ]
  },
  {
   "cell_type": "code",
   "execution_count": 1028,
   "metadata": {},
   "outputs": [],
   "source": [
    "X = candidate_region_df[['mz','scan']].values"
   ]
  },
  {
   "cell_type": "code",
   "execution_count": 1029,
   "metadata": {},
   "outputs": [],
   "source": [
    "def custom_metric(r1, r2):\n",
    "    mz_1 = r1[0]\n",
    "    scan_1 = r1[1]\n",
    "    mz_2 = r2[0]\n",
    "    scan_2 = r2[1]\n",
    "    if (abs(mz_1 - mz_2) <= 0.1) and (abs(scan_1 - scan_2) <= 2):\n",
    "        result = 0.5\n",
    "    else:\n",
    "        result = 10\n",
    "    return result;"
   ]
  },
  {
   "cell_type": "code",
   "execution_count": 1030,
   "metadata": {},
   "outputs": [],
   "source": [
    "# cluster the data\n",
    "dbscan = DBSCAN(eps=1, min_samples=3, metric=custom_metric)\n",
    "clusters = dbscan.fit_predict(X)"
   ]
  },
  {
   "cell_type": "code",
   "execution_count": 1031,
   "metadata": {},
   "outputs": [],
   "source": [
    "candidate_region_df['cluster'] = clusters"
   ]
  },
  {
   "cell_type": "code",
   "execution_count": 1032,
   "metadata": {},
   "outputs": [
    {
     "data": {
      "text/html": [
       "<div>\n",
       "<style scoped>\n",
       "    .dataframe tbody tr th:only-of-type {\n",
       "        vertical-align: middle;\n",
       "    }\n",
       "\n",
       "    .dataframe tbody tr th {\n",
       "        vertical-align: top;\n",
       "    }\n",
       "\n",
       "    .dataframe thead th {\n",
       "        text-align: right;\n",
       "    }\n",
       "</style>\n",
       "<table border=\"1\" class=\"dataframe\">\n",
       "  <thead>\n",
       "    <tr style=\"text-align: right;\">\n",
       "      <th></th>\n",
       "      <th>frame_id</th>\n",
       "      <th>frame_type</th>\n",
       "      <th>mz</th>\n",
       "      <th>scan</th>\n",
       "      <th>intensity</th>\n",
       "      <th>retention_time_secs</th>\n",
       "      <th>point_id</th>\n",
       "      <th>cluster</th>\n",
       "    </tr>\n",
       "  </thead>\n",
       "  <tbody>\n",
       "    <tr>\n",
       "      <th>486902</th>\n",
       "      <td>19557</td>\n",
       "      <td>0</td>\n",
       "      <td>756.143620</td>\n",
       "      <td>692</td>\n",
       "      <td>912</td>\n",
       "      <td>2173.87428</td>\n",
       "      <td>486902</td>\n",
       "      <td>0</td>\n",
       "    </tr>\n",
       "    <tr>\n",
       "      <th>804691</th>\n",
       "      <td>19557</td>\n",
       "      <td>0</td>\n",
       "      <td>761.383683</td>\n",
       "      <td>681</td>\n",
       "      <td>86</td>\n",
       "      <td>2173.87428</td>\n",
       "      <td>804691</td>\n",
       "      <td>13</td>\n",
       "    </tr>\n",
       "    <tr>\n",
       "      <th>534401</th>\n",
       "      <td>19557</td>\n",
       "      <td>0</td>\n",
       "      <td>756.898489</td>\n",
       "      <td>692</td>\n",
       "      <td>499</td>\n",
       "      <td>2173.87428</td>\n",
       "      <td>534401</td>\n",
       "      <td>3</td>\n",
       "    </tr>\n",
       "    <tr>\n",
       "      <th>534376</th>\n",
       "      <td>19557</td>\n",
       "      <td>0</td>\n",
       "      <td>756.898489</td>\n",
       "      <td>684</td>\n",
       "      <td>144</td>\n",
       "      <td>2173.87428</td>\n",
       "      <td>534376</td>\n",
       "      <td>3</td>\n",
       "    </tr>\n",
       "    <tr>\n",
       "      <th>515047</th>\n",
       "      <td>19557</td>\n",
       "      <td>0</td>\n",
       "      <td>756.648262</td>\n",
       "      <td>707</td>\n",
       "      <td>472</td>\n",
       "      <td>2173.87428</td>\n",
       "      <td>515047</td>\n",
       "      <td>1</td>\n",
       "    </tr>\n",
       "  </tbody>\n",
       "</table>\n",
       "</div>"
      ],
      "text/plain": [
       "        frame_id  frame_type          mz  scan  intensity  \\\n",
       "486902     19557           0  756.143620   692        912   \n",
       "804691     19557           0  761.383683   681         86   \n",
       "534401     19557           0  756.898489   692        499   \n",
       "534376     19557           0  756.898489   684        144   \n",
       "515047     19557           0  756.648262   707        472   \n",
       "\n",
       "        retention_time_secs  point_id  cluster  \n",
       "486902           2173.87428    486902        0  \n",
       "804691           2173.87428    804691       13  \n",
       "534401           2173.87428    534401        3  \n",
       "534376           2173.87428    534376        3  \n",
       "515047           2173.87428    515047        1  "
      ]
     },
     "execution_count": 1032,
     "metadata": {},
     "output_type": "execute_result"
    }
   ],
   "source": [
    "candidate_region_df.sample(n=5)"
   ]
  },
  {
   "cell_type": "code",
   "execution_count": 1033,
   "metadata": {},
   "outputs": [
    {
     "name": "stdout",
     "output_type": "stream",
     "text": [
      "found 14 point clusters\n"
     ]
    }
   ],
   "source": [
    "number_of_point_clusters = len(candidate_region_df[candidate_region_df.cluster >= 0].cluster.unique())\n",
    "print('found {} point clusters'.format(number_of_point_clusters))"
   ]
  },
  {
   "cell_type": "code",
   "execution_count": 1034,
   "metadata": {},
   "outputs": [],
   "source": [
    "colour_map = plt.get_cmap('gist_ncar')\n",
    "norm = colors.Normalize(vmin=candidate_region_df.cluster.min(), vmax=candidate_region_df.cluster.max(), clip=False)"
   ]
  },
  {
   "cell_type": "code",
   "execution_count": 1035,
   "metadata": {},
   "outputs": [],
   "source": [
    "# calculate the cluster centroids\n",
    "centroids_l = []\n",
    "for group_name,group_df in candidate_region_df.groupby(['cluster'], as_index=False):\n",
    "    if group_name >= 0:\n",
    "        mz_centroid = peakutils.centroid(group_df.mz, group_df.intensity)\n",
    "        scan_centroid = peakutils.centroid(group_df.scan, group_df.intensity)\n",
    "        centroids_l.append((group_name, mz_centroid, scan_centroid))\n",
    "centroids_df = pd.DataFrame(centroids_l, columns=['cluster','mz','scan'])"
   ]
  },
  {
   "cell_type": "code",
   "execution_count": 1036,
   "metadata": {},
   "outputs": [],
   "source": [
    "# determine a colour for each cluster\n",
    "cluster_colour_l = []\n",
    "for group_name,group_df in candidate_region_df.groupby(['cluster'], as_index=False):\n",
    "    c = colour_map(norm(group_name), bytes=False)[:3]\n",
    "    cluster_colour_l.append((group_name, c))\n",
    "cluster_colour_df = pd.DataFrame(cluster_colour_l, columns=['cluster','colour'])"
   ]
  },
  {
   "cell_type": "code",
   "execution_count": 1037,
   "metadata": {},
   "outputs": [],
   "source": [
    "# give each point a colour\n",
    "candidate_region_df = pd.merge(candidate_region_df, cluster_colour_df, how='left', left_on=['cluster'], right_on=['cluster'])\n"
   ]
  },
  {
   "cell_type": "code",
   "execution_count": 1038,
   "metadata": {},
   "outputs": [
    {
     "data": {
      "text/html": [
       "<div>\n",
       "<style scoped>\n",
       "    .dataframe tbody tr th:only-of-type {\n",
       "        vertical-align: middle;\n",
       "    }\n",
       "\n",
       "    .dataframe tbody tr th {\n",
       "        vertical-align: top;\n",
       "    }\n",
       "\n",
       "    .dataframe thead th {\n",
       "        text-align: right;\n",
       "    }\n",
       "</style>\n",
       "<table border=\"1\" class=\"dataframe\">\n",
       "  <thead>\n",
       "    <tr style=\"text-align: right;\">\n",
       "      <th></th>\n",
       "      <th>frame_id</th>\n",
       "      <th>frame_type</th>\n",
       "      <th>mz</th>\n",
       "      <th>scan</th>\n",
       "      <th>intensity</th>\n",
       "      <th>retention_time_secs</th>\n",
       "      <th>point_id</th>\n",
       "      <th>cluster</th>\n",
       "      <th>colour</th>\n",
       "    </tr>\n",
       "  </thead>\n",
       "  <tbody>\n",
       "    <tr>\n",
       "      <th>239</th>\n",
       "      <td>19557</td>\n",
       "      <td>0</td>\n",
       "      <td>757.399067</td>\n",
       "      <td>703</td>\n",
       "      <td>111</td>\n",
       "      <td>2173.87428</td>\n",
       "      <td>564340</td>\n",
       "      <td>9</td>\n",
       "      <td>(1.0, 0.14918899559823937, 0.0)</td>\n",
       "    </tr>\n",
       "    <tr>\n",
       "      <th>178</th>\n",
       "      <td>19557</td>\n",
       "      <td>0</td>\n",
       "      <td>756.898489</td>\n",
       "      <td>703</td>\n",
       "      <td>131</td>\n",
       "      <td>2173.87428</td>\n",
       "      <td>534424</td>\n",
       "      <td>3</td>\n",
       "      <td>(0.0, 0.986936604088444, 0.368548620127168)</td>\n",
       "    </tr>\n",
       "    <tr>\n",
       "      <th>314</th>\n",
       "      <td>19557</td>\n",
       "      <td>0</td>\n",
       "      <td>762.136833</td>\n",
       "      <td>697</td>\n",
       "      <td>60</td>\n",
       "      <td>2173.87428</td>\n",
       "      <td>852206</td>\n",
       "      <td>-1</td>\n",
       "      <td>(0.0, 0.0, 0.502)</td>\n",
       "    </tr>\n",
       "  </tbody>\n",
       "</table>\n",
       "</div>"
      ],
      "text/plain": [
       "     frame_id  frame_type          mz  scan  intensity  retention_time_secs  \\\n",
       "239     19557           0  757.399067   703        111           2173.87428   \n",
       "178     19557           0  756.898489   703        131           2173.87428   \n",
       "314     19557           0  762.136833   697         60           2173.87428   \n",
       "\n",
       "     point_id  cluster                                       colour  \n",
       "239    564340        9              (1.0, 0.14918899559823937, 0.0)  \n",
       "178    534424        3  (0.0, 0.986936604088444, 0.368548620127168)  \n",
       "314    852206       -1                            (0.0, 0.0, 0.502)  "
      ]
     },
     "execution_count": 1038,
     "metadata": {},
     "output_type": "execute_result"
    }
   ],
   "source": [
    "candidate_region_df.sample(n=3)"
   ]
  },
  {
   "cell_type": "code",
   "execution_count": 1039,
   "metadata": {},
   "outputs": [
    {
     "data": {
      "image/png": "[encoded data removed]",
      "text/plain": [
       "<Figure size 1080x1080 with 1 Axes>"
      ]
     },
     "metadata": {
      "needs_background": "light"
     },
     "output_type": "display_data"
    }
   ],
   "source": [
    "# plot the cluster assignments\n",
    "f, ax1 = plt.subplots()\n",
    "f.set_figheight(15)\n",
    "f.set_figwidth(15)\n",
    "\n",
    "plt.margins(0.06)\n",
    "\n",
    "# plot the unassigned points\n",
    "df = candidate_region_df[(candidate_region_df.cluster == -1)]\n",
    "plt.scatter(df.mz, df.scan, c='silver')\n",
    "\n",
    "df = candidate_region_df[(candidate_region_df.cluster >= 0)]\n",
    "for group_name,group_df in df.groupby(['cluster'], as_index=False):\n",
    "    # the raw points\n",
    "    plt.scatter(group_df.mz, group_df.scan, c=np.array([group_df.iloc[0].colour]))\n",
    "    # the cluster centroid\n",
    "    centroid_s = centroids_df[(centroids_df.cluster == group_name)].iloc[0]\n",
    "    plt.plot(centroid_s.mz, centroid_s.scan, marker='o', markerfacecolor='none', markeredgecolor='red', linestyle='', markeredgewidth=2, ms=15)\n",
    "    ax1.text(centroid_s.mz+0.1, centroid_s.scan, group_name, fontsize=12)\n",
    "    # draw the cluster rectangle\n",
    "    top_left = (group_df.mz.min(),group_df.scan.min())\n",
    "    width = group_df.mz.max() - group_df.mz.min()\n",
    "    height = group_df.scan.max() - group_df.scan.min()\n",
    "    cluster_rect = patches.Rectangle(top_left,width,height,linewidth=1.5,linestyle='--',edgecolor='silver',facecolor='none')\n",
    "    ax1.add_patch(cluster_rect)\n",
    "\n",
    "# the anchor point for this candidate region\n",
    "plt.plot(anchor_point_s.mz, anchor_point_s.scan, marker='x', markerfacecolor='none', markeredgecolor='limegreen', linestyle='', markeredgewidth=5, ms=15, label='anchor point')\n",
    "\n",
    "plt.xlabel(\"m/z\")\n",
    "plt.ylabel(\"scan\")\n",
    "plt.gca().invert_yaxis()\n",
    "plt.show()"
   ]
  },
  {
   "cell_type": "code",
   "execution_count": 1040,
   "metadata": {},
   "outputs": [
    {
     "data": {
      "text/html": [
       "<div>\n",
       "<style scoped>\n",
       "    .dataframe tbody tr th:only-of-type {\n",
       "        vertical-align: middle;\n",
       "    }\n",
       "\n",
       "    .dataframe tbody tr th {\n",
       "        vertical-align: top;\n",
       "    }\n",
       "\n",
       "    .dataframe thead th {\n",
       "        text-align: right;\n",
       "    }\n",
       "</style>\n",
       "<table border=\"1\" class=\"dataframe\">\n",
       "  <thead>\n",
       "    <tr style=\"text-align: right;\">\n",
       "      <th></th>\n",
       "      <th>cluster</th>\n",
       "      <th>mz</th>\n",
       "      <th>scan</th>\n",
       "    </tr>\n",
       "  </thead>\n",
       "  <tbody>\n",
       "    <tr>\n",
       "      <th>0</th>\n",
       "      <td>0</td>\n",
       "      <td>756.143090</td>\n",
       "      <td>693.484263</td>\n",
       "    </tr>\n",
       "    <tr>\n",
       "      <th>1</th>\n",
       "      <td>1</td>\n",
       "      <td>756.509169</td>\n",
       "      <td>693.564140</td>\n",
       "    </tr>\n",
       "    <tr>\n",
       "      <th>2</th>\n",
       "      <td>2</td>\n",
       "      <td>756.391729</td>\n",
       "      <td>672.143813</td>\n",
       "    </tr>\n",
       "    <tr>\n",
       "      <th>3</th>\n",
       "      <td>3</td>\n",
       "      <td>756.895243</td>\n",
       "      <td>693.950686</td>\n",
       "    </tr>\n",
       "    <tr>\n",
       "      <th>4</th>\n",
       "      <td>4</td>\n",
       "      <td>756.895612</td>\n",
       "      <td>712.666667</td>\n",
       "    </tr>\n",
       "    <tr>\n",
       "      <th>5</th>\n",
       "      <td>5</td>\n",
       "      <td>756.898789</td>\n",
       "      <td>675.307246</td>\n",
       "    </tr>\n",
       "    <tr>\n",
       "      <th>6</th>\n",
       "      <td>6</td>\n",
       "      <td>757.118692</td>\n",
       "      <td>672.976636</td>\n",
       "    </tr>\n",
       "    <tr>\n",
       "      <th>7</th>\n",
       "      <td>7</td>\n",
       "      <td>757.151582</td>\n",
       "      <td>692.841798</td>\n",
       "    </tr>\n",
       "    <tr>\n",
       "      <th>8</th>\n",
       "      <td>8</td>\n",
       "      <td>757.148757</td>\n",
       "      <td>712.500000</td>\n",
       "    </tr>\n",
       "    <tr>\n",
       "      <th>9</th>\n",
       "      <td>9</td>\n",
       "      <td>757.395718</td>\n",
       "      <td>695.409384</td>\n",
       "    </tr>\n",
       "    <tr>\n",
       "      <th>10</th>\n",
       "      <td>10</td>\n",
       "      <td>757.395554</td>\n",
       "      <td>683.959854</td>\n",
       "    </tr>\n",
       "    <tr>\n",
       "      <th>11</th>\n",
       "      <td>11</td>\n",
       "      <td>757.660210</td>\n",
       "      <td>688.350000</td>\n",
       "    </tr>\n",
       "    <tr>\n",
       "      <th>12</th>\n",
       "      <td>12</td>\n",
       "      <td>759.677152</td>\n",
       "      <td>698.364583</td>\n",
       "    </tr>\n",
       "    <tr>\n",
       "      <th>13</th>\n",
       "      <td>13</td>\n",
       "      <td>761.349296</td>\n",
       "      <td>679.884444</td>\n",
       "    </tr>\n",
       "  </tbody>\n",
       "</table>\n",
       "</div>"
      ],
      "text/plain": [
       "    cluster          mz        scan\n",
       "0         0  756.143090  693.484263\n",
       "1         1  756.509169  693.564140\n",
       "2         2  756.391729  672.143813\n",
       "3         3  756.895243  693.950686\n",
       "4         4  756.895612  712.666667\n",
       "5         5  756.898789  675.307246\n",
       "6         6  757.118692  672.976636\n",
       "7         7  757.151582  692.841798\n",
       "8         8  757.148757  712.500000\n",
       "9         9  757.395718  695.409384\n",
       "10       10  757.395554  683.959854\n",
       "11       11  757.660210  688.350000\n",
       "12       12  759.677152  698.364583\n",
       "13       13  761.349296  679.884444"
      ]
     },
     "execution_count": 1040,
     "metadata": {},
     "output_type": "execute_result"
    }
   ],
   "source": [
    "centroids_df"
   ]
  },
  {
   "cell_type": "code",
   "execution_count": 1041,
   "metadata": {},
   "outputs": [],
   "source": [
    "def isotope_metric(r1, r2):\n",
    "    mz_1 = r1[0]\n",
    "    scan_1 = r1[1]\n",
    "    mz_2 = r2[0]\n",
    "    scan_2 = r2[1]\n",
    "    if (abs(mz_1 - mz_2) <= 1.0) and (abs(mz_1 - mz_2) > 0.1) and (abs(scan_1 - scan_2) <= 5):\n",
    "        result = 0.5\n",
    "    else:\n",
    "        result = 10\n",
    "    # print('r1={}, r2={}, result={}'.format(r1,r2,result))\n",
    "    return result;"
   ]
  },
  {
   "cell_type": "code",
   "execution_count": 1042,
   "metadata": {},
   "outputs": [],
   "source": [
    "X = centroids_df[['mz','scan']].values"
   ]
  },
  {
   "cell_type": "code",
   "execution_count": 1043,
   "metadata": {
    "scrolled": false
   },
   "outputs": [],
   "source": [
    "# cluster the data\n",
    "dbscan = DBSCAN(eps=1, min_samples=1, metric=isotope_metric)\n",
    "clusters = dbscan.fit_predict(X)\n",
    "centroids_df['isotope_cluster'] = clusters"
   ]
  },
  {
   "cell_type": "code",
   "execution_count": 1044,
   "metadata": {},
   "outputs": [
    {
     "name": "stdout",
     "output_type": "stream",
     "text": [
      "found 3 isotope clusters\n"
     ]
    }
   ],
   "source": [
    "number_of_isotope_clusters = len(centroids_df[centroids_df.isotope_cluster >= 0].isotope_cluster.unique())\n",
    "print('found {} isotope clusters'.format(number_of_isotope_clusters))"
   ]
  },
  {
   "cell_type": "code",
   "execution_count": 1045,
   "metadata": {},
   "outputs": [],
   "source": [
    "candidate_region_df = pd.merge(candidate_region_df, centroids_df[['cluster','isotope_cluster']], how='left', left_on=['cluster'], right_on=['cluster'])\n"
   ]
  },
  {
   "cell_type": "code",
   "execution_count": 1046,
   "metadata": {},
   "outputs": [],
   "source": [
    "candidate_region_df.fillna(value=-1, inplace=True)\n",
    "candidate_region_df.isotope_cluster = candidate_region_df.isotope_cluster.astype(int)"
   ]
  },
  {
   "cell_type": "code",
   "execution_count": 1047,
   "metadata": {},
   "outputs": [
    {
     "data": {
      "text/html": [
       "<div>\n",
       "<style scoped>\n",
       "    .dataframe tbody tr th:only-of-type {\n",
       "        vertical-align: middle;\n",
       "    }\n",
       "\n",
       "    .dataframe tbody tr th {\n",
       "        vertical-align: top;\n",
       "    }\n",
       "\n",
       "    .dataframe thead th {\n",
       "        text-align: right;\n",
       "    }\n",
       "</style>\n",
       "<table border=\"1\" class=\"dataframe\">\n",
       "  <thead>\n",
       "    <tr style=\"text-align: right;\">\n",
       "      <th></th>\n",
       "      <th>frame_id</th>\n",
       "      <th>frame_type</th>\n",
       "      <th>mz</th>\n",
       "      <th>scan</th>\n",
       "      <th>intensity</th>\n",
       "      <th>retention_time_secs</th>\n",
       "      <th>point_id</th>\n",
       "      <th>cluster</th>\n",
       "      <th>colour</th>\n",
       "      <th>isotope_cluster</th>\n",
       "    </tr>\n",
       "  </thead>\n",
       "  <tbody>\n",
       "    <tr>\n",
       "      <th>105</th>\n",
       "      <td>19557</td>\n",
       "      <td>0</td>\n",
       "      <td>756.622379</td>\n",
       "      <td>679</td>\n",
       "      <td>70</td>\n",
       "      <td>2173.87428</td>\n",
       "      <td>513373</td>\n",
       "      <td>1</td>\n",
       "      <td>(0.0, 0.4981591003460206, 1.0)</td>\n",
       "      <td>0</td>\n",
       "    </tr>\n",
       "    <tr>\n",
       "      <th>250</th>\n",
       "      <td>19557</td>\n",
       "      <td>0</td>\n",
       "      <td>757.649418</td>\n",
       "      <td>694</td>\n",
       "      <td>122</td>\n",
       "      <td>2173.87428</td>\n",
       "      <td>573325</td>\n",
       "      <td>-1</td>\n",
       "      <td>(0.0, 0.0, 0.502)</td>\n",
       "      <td>-1</td>\n",
       "    </tr>\n",
       "    <tr>\n",
       "      <th>41</th>\n",
       "      <td>19557</td>\n",
       "      <td>0</td>\n",
       "      <td>756.147932</td>\n",
       "      <td>673</td>\n",
       "      <td>102</td>\n",
       "      <td>2173.87428</td>\n",
       "      <td>487344</td>\n",
       "      <td>-1</td>\n",
       "      <td>(0.0, 0.0, 0.502)</td>\n",
       "      <td>-1</td>\n",
       "    </tr>\n",
       "  </tbody>\n",
       "</table>\n",
       "</div>"
      ],
      "text/plain": [
       "     frame_id  frame_type          mz  scan  intensity  retention_time_secs  \\\n",
       "105     19557           0  756.622379   679         70           2173.87428   \n",
       "250     19557           0  757.649418   694        122           2173.87428   \n",
       "41      19557           0  756.147932   673        102           2173.87428   \n",
       "\n",
       "     point_id  cluster                          colour  isotope_cluster  \n",
       "105    513373        1  (0.0, 0.4981591003460206, 1.0)                0  \n",
       "250    573325       -1               (0.0, 0.0, 0.502)               -1  \n",
       "41     487344       -1               (0.0, 0.0, 0.502)               -1  "
      ]
     },
     "execution_count": 1047,
     "metadata": {},
     "output_type": "execute_result"
    }
   ],
   "source": [
    "candidate_region_df.sample(n=3)"
   ]
  },
  {
   "cell_type": "code",
   "execution_count": 1048,
   "metadata": {},
   "outputs": [
    {
     "data": {
      "image/png": "[encoded data removed]",
      "text/plain": [
       "<Figure size 1080x1080 with 1 Axes>"
      ]
     },
     "metadata": {
      "needs_background": "light"
     },
     "output_type": "display_data"
    }
   ],
   "source": [
    "# plot the cluster assignments\n",
    "f, ax1 = plt.subplots()\n",
    "f.set_figheight(15)\n",
    "f.set_figwidth(15)\n",
    "\n",
    "plt.margins(0.06)\n",
    "\n",
    "# plot the unassigned points\n",
    "df = candidate_region_df[(candidate_region_df.cluster == -1)]\n",
    "plt.scatter(df.mz, df.scan, c='silver')\n",
    "\n",
    "df = candidate_region_df[(candidate_region_df.cluster >= 0)]\n",
    "for group_name,group_df in df.groupby(['cluster'], as_index=False):\n",
    "    # the raw points\n",
    "    plt.scatter(group_df.mz, group_df.scan, c=np.array([group_df.iloc[0].colour]))\n",
    "    # the cluster centroid\n",
    "    centroid_s = centroids_df[(centroids_df.cluster == group_name)].iloc[0]\n",
    "    plt.plot(centroid_s.mz, centroid_s.scan, marker='o', markerfacecolor='none', markeredgecolor='red', linestyle='', markeredgewidth=2, ms=15)\n",
    "    ax1.text(centroid_s.mz+0.1, centroid_s.scan, group_name, fontsize=12)\n",
    "\n",
    "df = candidate_region_df[(candidate_region_df.isotope_cluster >= 0)]\n",
    "for group_name,group_df in df.groupby(['isotope_cluster'], as_index=False):\n",
    "    # draw the cluster rectangle\n",
    "    top_left = (group_df.mz.min(),group_df.scan.min())\n",
    "    width = group_df.mz.max() - group_df.mz.min()\n",
    "    height = group_df.scan.max() - group_df.scan.min()\n",
    "    cluster_rect = patches.Rectangle(top_left,width,height,linewidth=1.5,linestyle='--',edgecolor='silver',facecolor='none')\n",
    "    ax1.add_patch(cluster_rect)\n",
    "    ax1.text(top_left[0], top_left[1]-0.5, 'isotope cluster {}'.format(int(group_name)), fontsize=12)\n",
    "\n",
    "# the anchor point for this candidate region\n",
    "plt.plot(anchor_point_s.mz, anchor_point_s.scan, marker='x', markerfacecolor='none', markeredgecolor='limegreen', linestyle='', markeredgewidth=5, ms=15, label='anchor point')\n",
    "\n",
    "plot_xlim = ax1.get_xlim()\n",
    "plot_ylim = ax1.get_ylim()\n",
    "\n",
    "plt.xlabel(\"m/z\")\n",
    "plt.ylabel(\"scan\")\n",
    "plt.gca().invert_yaxis()\n",
    "plt.show()"
   ]
  },
  {
   "cell_type": "markdown",
   "metadata": {},
   "source": [
    "#### we now have the 2D extent of the feature - take that extent through time and see if we can cluster the centroids in time"
   ]
  },
  {
   "cell_type": "code",
   "execution_count": 1049,
   "metadata": {},
   "outputs": [],
   "source": [
    "# which cluster contains the anchor point?\n",
    "anchor_point_s = candidate_region_df[(candidate_region_df.point_id == anchor_point_s.point_id)].iloc[0]\n"
   ]
  },
  {
   "cell_type": "code",
   "execution_count": 1050,
   "metadata": {},
   "outputs": [
    {
     "data": {
      "text/plain": [
       "frame_id                                        19557\n",
       "frame_type                                          0\n",
       "mz                                            756.398\n",
       "scan                                              695\n",
       "intensity                                        1828\n",
       "retention_time_secs                           2173.87\n",
       "point_id                                       506390\n",
       "cluster                                             1\n",
       "colour                 (0.0, 0.4981591003460206, 1.0)\n",
       "isotope_cluster                                     0\n",
       "Name: 90, dtype: object"
      ]
     },
     "execution_count": 1050,
     "metadata": {},
     "output_type": "execute_result"
    }
   ],
   "source": [
    "anchor_point_s"
   ]
  },
  {
   "cell_type": "code",
   "execution_count": 1051,
   "metadata": {},
   "outputs": [],
   "source": [
    "# get the extent of the isotope cluster in m/z and mobility\n",
    "points_in_cluster_df = candidate_region_df[(candidate_region_df.isotope_cluster == anchor_point_s.isotope_cluster)]\n",
    "mz_lower = points_in_cluster_df.mz.min()\n",
    "mz_upper = points_in_cluster_df.mz.max()\n",
    "scan_lower = points_in_cluster_df.scan.min()\n",
    "scan_upper = points_in_cluster_df.scan.max()"
   ]
  },
  {
   "cell_type": "code",
   "execution_count": 1052,
   "metadata": {},
   "outputs": [],
   "source": [
    "RT_BASE_PEAK_WIDTH = 10"
   ]
  },
  {
   "cell_type": "code",
   "execution_count": 1053,
   "metadata": {},
   "outputs": [],
   "source": [
    "# get the left-most peak in the isotope cluster\n",
    "monoisotopic_cluster_s = centroids_df.loc[centroids_df[(centroids_df.isotope_cluster == anchor_point_s.isotope_cluster)].mz.idxmin()]\n"
   ]
  },
  {
   "cell_type": "code",
   "execution_count": 1054,
   "metadata": {},
   "outputs": [],
   "source": [
    "mono_raw_points_df = raw_df[(raw_df.mz >= monoisotopic_cluster_s.mz-MS1_PEAK_DELTA) & (raw_df.mz <= monoisotopic_cluster_s.mz+MS1_PEAK_DELTA) & (raw_df.scan >= scan_lower) & (raw_df.scan <= scan_upper) & (raw_df.retention_time_secs >= anchor_point_s.retention_time_secs-RT_BASE_PEAK_WIDTH) & (raw_df.retention_time_secs <= anchor_point_s.retention_time_secs+RT_BASE_PEAK_WIDTH)]\n",
    "rt_0_df = mono_raw_points_df.groupby(['frame_id','retention_time_secs'], as_index=False).intensity.sum()\n",
    "rt_0_df.sort_values(by=['retention_time_secs'], ascending=True, inplace=True)\n",
    "# filter the points\n",
    "rt_0_df['filtered_intensity'] = rt_0_df.intensity  # set the default\n",
    "window_length = 11\n",
    "if len(rt_0_df) > window_length:\n",
    "    try:\n",
    "        rt_0_df['filtered_intensity'] = signal.savgol_filter(rt_0_df.intensity, window_length=window_length, polyorder=3)\n",
    "        filtered = True\n",
    "    except:\n",
    "        filtered = False\n",
    "else:\n",
    "    filtered = False"
   ]
  },
  {
   "cell_type": "code",
   "execution_count": 1055,
   "metadata": {
    "scrolled": true
   },
   "outputs": [
    {
     "data": {
      "text/plain": [
       "True"
      ]
     },
     "execution_count": 1055,
     "metadata": {},
     "output_type": "execute_result"
    }
   ],
   "source": [
    "filtered"
   ]
  },
  {
   "cell_type": "code",
   "execution_count": 1056,
   "metadata": {},
   "outputs": [],
   "source": [
    "peak_idxs = peakutils.indexes(rt_0_df.filtered_intensity.values, thres=0.05, min_dist=10/2, thres_abs=False)\n",
    "peak_x_l = rt_0_df.iloc[peak_idxs].retention_time_secs.to_list()\n",
    "peaks_df = rt_0_df[rt_0_df.retention_time_secs.isin(peak_x_l)]"
   ]
  },
  {
   "cell_type": "code",
   "execution_count": 1057,
   "metadata": {},
   "outputs": [],
   "source": [
    "valley_idxs = peakutils.indexes(-rt_0_df.filtered_intensity.values, thres=0.05, min_dist=10/8, thres_abs=False)\n",
    "valley_x_l = rt_0_df.iloc[valley_idxs].retention_time_secs.to_list()\n",
    "valleys_df = rt_0_df[rt_0_df.retention_time_secs.isin(valley_x_l)]"
   ]
  },
  {
   "cell_type": "code",
   "execution_count": 1058,
   "metadata": {},
   "outputs": [
    {
     "data": {
      "text/html": [
       "<div>\n",
       "<style scoped>\n",
       "    .dataframe tbody tr th:only-of-type {\n",
       "        vertical-align: middle;\n",
       "    }\n",
       "\n",
       "    .dataframe tbody tr th {\n",
       "        vertical-align: top;\n",
       "    }\n",
       "\n",
       "    .dataframe thead th {\n",
       "        text-align: right;\n",
       "    }\n",
       "</style>\n",
       "<table border=\"1\" class=\"dataframe\">\n",
       "  <thead>\n",
       "    <tr style=\"text-align: right;\">\n",
       "      <th></th>\n",
       "      <th>frame_id</th>\n",
       "      <th>retention_time_secs</th>\n",
       "      <th>intensity</th>\n",
       "      <th>filtered_intensity</th>\n",
       "    </tr>\n",
       "  </thead>\n",
       "  <tbody>\n",
       "    <tr>\n",
       "      <th>8</th>\n",
       "      <td>19507</td>\n",
       "      <td>2168.581009</td>\n",
       "      <td>217</td>\n",
       "      <td>120.132867</td>\n",
       "    </tr>\n",
       "    <tr>\n",
       "      <th>28</th>\n",
       "      <td>19607</td>\n",
       "      <td>2179.164516</td>\n",
       "      <td>286</td>\n",
       "      <td>43.424242</td>\n",
       "    </tr>\n",
       "    <tr>\n",
       "      <th>30</th>\n",
       "      <td>19617</td>\n",
       "      <td>2180.222723</td>\n",
       "      <td>368</td>\n",
       "      <td>155.421911</td>\n",
       "    </tr>\n",
       "  </tbody>\n",
       "</table>\n",
       "</div>"
      ],
      "text/plain": [
       "    frame_id  retention_time_secs  intensity  filtered_intensity\n",
       "8      19507          2168.581009        217          120.132867\n",
       "28     19607          2179.164516        286           43.424242\n",
       "30     19617          2180.222723        368          155.421911"
      ]
     },
     "execution_count": 1058,
     "metadata": {},
     "output_type": "execute_result"
    }
   ],
   "source": [
    "valleys_df"
   ]
  },
  {
   "cell_type": "code",
   "execution_count": 1059,
   "metadata": {},
   "outputs": [],
   "source": [
    "upper_x = valleys_df[valleys_df.retention_time_secs > anchor_point_s.retention_time_secs].retention_time_secs.min()\n",
    "if math.isnan(upper_x):\n",
    "    upper_x = rt_0_df.retention_time_secs.max()\n",
    "lower_x = valleys_df[valleys_df.retention_time_secs < anchor_point_s.retention_time_secs].retention_time_secs.max()\n",
    "if math.isnan(lower_x):\n",
    "    lower_x = rt_0_df.retention_time_secs.min()"
   ]
  },
  {
   "cell_type": "code",
   "execution_count": 1060,
   "metadata": {},
   "outputs": [],
   "source": [
    "rt_lower = lower_x\n",
    "rt_upper = upper_x"
   ]
  },
  {
   "cell_type": "code",
   "execution_count": 1061,
   "metadata": {},
   "outputs": [],
   "source": [
    "rt_0_extract_df = rt_0_df[(rt_0_df.retention_time_secs >= lower_x) & (rt_0_df.retention_time_secs <= upper_x)]"
   ]
  },
  {
   "cell_type": "code",
   "execution_count": 1062,
   "metadata": {},
   "outputs": [
    {
     "data": {
      "image/png": "[encoded data removed]",
      "text/plain": [
       "<Figure size 1080x576 with 1 Axes>"
      ]
     },
     "metadata": {
      "needs_background": "light"
     },
     "output_type": "display_data"
    }
   ],
   "source": [
    "# plot the cluster assignments\n",
    "f, ax1 = plt.subplots()\n",
    "f.set_figheight(8)\n",
    "f.set_figwidth(15)\n",
    "\n",
    "plt.margins(0.06)\n",
    "\n",
    "# plot the flattened points\n",
    "plt.scatter(rt_0_df.retention_time_secs, rt_0_df.intensity, c='silver')\n",
    "# plot the smoothed points\n",
    "plt.plot(rt_0_df.retention_time_secs, rt_0_df.filtered_intensity, marker='', color='lightskyblue', linestyle='--', linewidth=1, ms=5, label='smoothed')\n",
    "plt.plot(rt_0_extract_df.retention_time_secs, rt_0_extract_df.filtered_intensity, marker='', color='lightskyblue', linestyle=':', linewidth=3, ms=5, label='extracted')\n",
    "\n",
    "plt.plot(valleys_df.retention_time_secs, valleys_df.filtered_intensity, marker='v', color='lightcoral', linestyle=None, linewidth=0, ms=15, label='valleys')\n",
    "plt.axvline(x=anchor_point_s.retention_time_secs, linestyle=':', color='royalblue', linewidth=2, label='anchor point')\n",
    "\n",
    "plt.xlabel(\"retention time (secs)\")\n",
    "plt.ylabel(\"intensity\")\n",
    "plt.show()"
   ]
  },
  {
   "cell_type": "code",
   "execution_count": 1063,
   "metadata": {},
   "outputs": [],
   "source": [
    "# set the intensity to zero for all points in the candidate region points\n",
    "raw_df.loc[(raw_df.retention_time_secs >= rt_lower) & (raw_df.retention_time_secs <= rt_upper) & (raw_df.mz >= mz_lower) & (raw_df.mz <= mz_upper) & (raw_df.scan >= scan_lower) & (raw_df.scan <= scan_upper), 'intensity'] = 10"
   ]
  },
  {
   "cell_type": "code",
   "execution_count": 1064,
   "metadata": {},
   "outputs": [
    {
     "data": {
      "text/plain": [
       "38126"
      ]
     },
     "execution_count": 1064,
     "metadata": {},
     "output_type": "execute_result"
    }
   ],
   "source": [
    "len(raw_df[(raw_df.intensity == 10)])"
   ]
  },
  {
   "cell_type": "code",
   "execution_count": 1065,
   "metadata": {},
   "outputs": [
    {
     "data": {
      "text/plain": [
       "(756.0487483544697, 757.6839521562737)"
      ]
     },
     "execution_count": 1065,
     "metadata": {},
     "output_type": "execute_result"
    }
   ],
   "source": [
    "mz_lower, mz_upper"
   ]
  },
  {
   "cell_type": "code",
   "execution_count": 1066,
   "metadata": {},
   "outputs": [
    {
     "data": {
      "text/plain": [
       "(677, 714)"
      ]
     },
     "execution_count": 1066,
     "metadata": {},
     "output_type": "execute_result"
    }
   ],
   "source": [
    "scan_lower, scan_upper"
   ]
  },
  {
   "cell_type": "code",
   "execution_count": 1067,
   "metadata": {},
   "outputs": [
    {
     "data": {
      "text/plain": [
       "(2168.5810089657934, 2179.164515829139)"
      ]
     },
     "execution_count": 1067,
     "metadata": {},
     "output_type": "execute_result"
    }
   ],
   "source": [
    "rt_lower, rt_upper"
   ]
  },
  {
   "cell_type": "code",
   "execution_count": null,
   "metadata": {},
   "outputs": [],
   "source": []
  }
 ],
 "metadata": {
  "kernelspec": {
   "display_name": "Python 3",
   "language": "python",
   "name": "python3"
  },
  "language_info": {
   "codemirror_mode": {
    "name": "ipython",
    "version": 3
   },
   "file_extension": ".py",
   "mimetype": "text/x-python",
   "name": "python",
   "nbconvert_exporter": "python",
   "pygments_lexer": "ipython3",
   "version": "3.6.8"
  }
 },
 "nbformat": 4,
 "nbformat_minor": 4
}
