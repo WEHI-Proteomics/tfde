{
 "cells": [
  {
   "cell_type": "code",
   "execution_count": 16,
   "metadata": {},
   "outputs": [],
   "source": [
    "import sqlite3\n",
    "import pandas as pd\n",
    "import numpy as np\n",
    "import sys\n",
    "from matplotlib import colors, cm, pyplot as plt\n",
    "import peakutils"
   ]
  },
  {
   "cell_type": "code",
   "execution_count": 12,
   "metadata": {},
   "outputs": [],
   "source": [
    "ALLPEPTIDES_FILENAME = '/Users/darylwilding-mcbride/Downloads/maxquant_results/txt/allPeptides.txt'\n",
    "MIN_ISOTOPE_CORRELATION = 0.9\n",
    "rt_lower = 3000\n",
    "rt_upper = 3060\n",
    "SCAN_MIN = 1\n",
    "SCAN_MAX = 910\n",
    "SCAN_LENGTH_MINIMUM = SCAN_MAX * 0.05  # filter out the small-extent features\n",
    "RT_EACH_SIDE = 1.0  # proportion of RT length / 2 used for the bounding box"
   ]
  },
  {
   "cell_type": "code",
   "execution_count": 13,
   "metadata": {},
   "outputs": [],
   "source": [
    "allpeptides_df = pd.read_csv(ALLPEPTIDES_FILENAME, sep='\\t')\n",
    "allpeptides_df.rename(columns={'Number of isotopic peaks':'isotope_count', 'm/z':'mz', 'Number of data points':'number_data_points', 'Intensity':'intensity', 'Ion mobility index':'scan', 'Ion mobility index length':'scan_length', 'Ion mobility index length (FWHM)':'scan_length_fwhm', 'Retention time':'rt', 'Retention length':'rt_length', 'Retention length (FWHM)':'rt_length_fwhm', 'Charge':'charge_state', 'Number of pasef MS/MS':'number_pasef_ms2_ids', 'Isotope correlation':'isotope_correlation'}, inplace=True)\n",
    "allpeptides_df = allpeptides_df[\n",
    "                    allpeptides_df.intensity.notnull() &\n",
    "                    (allpeptides_df.isotope_correlation >= MIN_ISOTOPE_CORRELATION) &\n",
    "                    (allpeptides_df.rt >= rt_lower) & (allpeptides_df.rt <= rt_upper) &\n",
    "                    (allpeptides_df.isotope_count > 2) &\n",
    "                    (allpeptides_df.scan_length > SCAN_LENGTH_MINIMUM)\n",
    "                ].copy()\n",
    "\n",
    "allpeptides_df[\"rt_delta\"] = allpeptides_df.rt_length / 2\n",
    "allpeptides_df[\"rt_lower\"] = allpeptides_df.rt - (allpeptides_df.rt_delta * RT_EACH_SIDE)\n",
    "allpeptides_df[\"rt_upper\"] = allpeptides_df.rt + (allpeptides_df.rt_delta * RT_EACH_SIDE)\n",
    "\n",
    "# sort the features by decreasing intensity and give them an ID\n",
    "allpeptides_df.sort_values(by=['intensity'], ascending=False, inplace=True)\n",
    "allpeptides_df[\"mq_feature_id\"] = np.arange(start=1, stop=len(allpeptides_df)+1)\n"
   ]
  },
  {
   "cell_type": "code",
   "execution_count": 14,
   "metadata": {},
   "outputs": [
    {
     "data": {
      "text/html": [
       "<div>\n",
       "<style scoped>\n",
       "    .dataframe tbody tr th:only-of-type {\n",
       "        vertical-align: middle;\n",
       "    }\n",
       "\n",
       "    .dataframe tbody tr th {\n",
       "        vertical-align: top;\n",
       "    }\n",
       "\n",
       "    .dataframe thead th {\n",
       "        text-align: right;\n",
       "    }\n",
       "</style>\n",
       "<table border=\"1\" class=\"dataframe\">\n",
       "  <thead>\n",
       "    <tr style=\"text-align: right;\">\n",
       "      <th></th>\n",
       "      <th>Raw file</th>\n",
       "      <th>charge_state</th>\n",
       "      <th>mz</th>\n",
       "      <th>Mass</th>\n",
       "      <th>Resolution</th>\n",
       "      <th>number_data_points</th>\n",
       "      <th>Number of frames</th>\n",
       "      <th>isotope_count</th>\n",
       "      <th>isotope_correlation</th>\n",
       "      <th>Mass fractional part</th>\n",
       "      <th>...</th>\n",
       "      <th>scan_length_fwhm</th>\n",
       "      <th>intensity</th>\n",
       "      <th>Intensities</th>\n",
       "      <th>number_pasef_ms2_ids</th>\n",
       "      <th>Pasef MS/MS IDs</th>\n",
       "      <th>MS/MS scan number</th>\n",
       "      <th>rt_delta</th>\n",
       "      <th>rt_lower</th>\n",
       "      <th>rt_upper</th>\n",
       "      <th>mq_feature_id</th>\n",
       "    </tr>\n",
       "  </thead>\n",
       "  <tbody>\n",
       "    <tr>\n",
       "      <th>115765</th>\n",
       "      <td>HeLa_20KInt_2KIT_Slot1-46_01_1179</td>\n",
       "      <td>3</td>\n",
       "      <td>591.64124</td>\n",
       "      <td>1771.9019</td>\n",
       "      <td>24759.921836</td>\n",
       "      <td>126898</td>\n",
       "      <td>62</td>\n",
       "      <td>5</td>\n",
       "      <td>0.999577</td>\n",
       "      <td>0.901895</td>\n",
       "      <td>...</td>\n",
       "      <td>45</td>\n",
       "      <td>5333400.0</td>\n",
       "      <td>NaN</td>\n",
       "      <td>14</td>\n",
       "      <td>201260;201269;201396;201523;201533;201617;2016...</td>\n",
       "      <td>70194.0</td>\n",
       "      <td>36.0445</td>\n",
       "      <td>3013.6285</td>\n",
       "      <td>3085.7175</td>\n",
       "      <td>1</td>\n",
       "    </tr>\n",
       "    <tr>\n",
       "      <th>68165</th>\n",
       "      <td>HeLa_20KInt_2KIT_Slot1-46_01_1179</td>\n",
       "      <td>3</td>\n",
       "      <td>529.58550</td>\n",
       "      <td>1585.7347</td>\n",
       "      <td>24764.949178</td>\n",
       "      <td>62822</td>\n",
       "      <td>48</td>\n",
       "      <td>6</td>\n",
       "      <td>0.999682</td>\n",
       "      <td>0.734679</td>\n",
       "      <td>...</td>\n",
       "      <td>36</td>\n",
       "      <td>3737400.0</td>\n",
       "      <td>NaN</td>\n",
       "      <td>13</td>\n",
       "      <td>197875;197885;198053;198071;198394;198403;1984...</td>\n",
       "      <td>58323.0</td>\n",
       "      <td>27.7765</td>\n",
       "      <td>2979.3535</td>\n",
       "      <td>3034.9065</td>\n",
       "      <td>2</td>\n",
       "    </tr>\n",
       "  </tbody>\n",
       "</table>\n",
       "<p>2 rows × 28 columns</p>\n",
       "</div>"
      ],
      "text/plain": [
       "                                 Raw file  charge_state         mz       Mass  \\\n",
       "115765  HeLa_20KInt_2KIT_Slot1-46_01_1179             3  591.64124  1771.9019   \n",
       "68165   HeLa_20KInt_2KIT_Slot1-46_01_1179             3  529.58550  1585.7347   \n",
       "\n",
       "          Resolution  number_data_points  Number of frames  isotope_count  \\\n",
       "115765  24759.921836              126898                62              5   \n",
       "68165   24764.949178               62822                48              6   \n",
       "\n",
       "        isotope_correlation  Mass fractional part  ...  scan_length_fwhm  \\\n",
       "115765             0.999577              0.901895  ...                45   \n",
       "68165              0.999682              0.734679  ...                36   \n",
       "\n",
       "        intensity  Intensities  number_pasef_ms2_ids  \\\n",
       "115765  5333400.0          NaN                    14   \n",
       "68165   3737400.0          NaN                    13   \n",
       "\n",
       "                                          Pasef MS/MS IDs  MS/MS scan number  \\\n",
       "115765  201260;201269;201396;201523;201533;201617;2016...            70194.0   \n",
       "68165   197875;197885;198053;198071;198394;198403;1984...            58323.0   \n",
       "\n",
       "        rt_delta   rt_lower   rt_upper  mq_feature_id  \n",
       "115765   36.0445  3013.6285  3085.7175              1  \n",
       "68165    27.7765  2979.3535  3034.9065              2  \n",
       "\n",
       "[2 rows x 28 columns]"
      ]
     },
     "execution_count": 14,
     "metadata": {},
     "output_type": "execute_result"
    }
   ],
   "source": [
    "allpeptides_df.head(2)"
   ]
  },
  {
   "cell_type": "code",
   "execution_count": 15,
   "metadata": {},
   "outputs": [
    {
     "data": {
      "text/plain": [
       "Index(['Raw file', 'charge_state', 'mz', 'Mass', 'Resolution',\n",
       "       'number_data_points', 'Number of frames', 'isotope_count',\n",
       "       'isotope_correlation', 'Mass fractional part', 'Mass deficit', 'rt',\n",
       "       'rt_length', 'rt_length_fwhm', 'Min frame index', 'Max frame index',\n",
       "       'scan', 'scan_length', 'scan_length_fwhm', 'intensity', 'Intensities',\n",
       "       'number_pasef_ms2_ids', 'Pasef MS/MS IDs', 'MS/MS scan number',\n",
       "       'rt_delta', 'rt_lower', 'rt_upper', 'mq_feature_id'],\n",
       "      dtype='object')"
      ]
     },
     "execution_count": 15,
     "metadata": {},
     "output_type": "execute_result"
    }
   ],
   "source": [
    "allpeptides_df.columns"
   ]
  },
  {
   "cell_type": "code",
   "execution_count": 20,
   "metadata": {},
   "outputs": [],
   "source": [
    "allpeptides_df['rt_std_dev'] = allpeptides_df.rt_length_fwhm / 2.634\n",
    "allpeptides_df['3_rt_std_dev'] = 3 * allpeptides_df.std_dev"
   ]
  },
  {
   "cell_type": "code",
   "execution_count": 28,
   "metadata": {},
   "outputs": [],
   "source": [
    "allpeptides_df['number_of_std_devs'] = allpeptides_df.rt_delta / allpeptides_df.rt_std_dev"
   ]
  },
  {
   "cell_type": "code",
   "execution_count": 29,
   "metadata": {},
   "outputs": [
    {
     "data": {
      "text/html": [
       "<div>\n",
       "<style scoped>\n",
       "    .dataframe tbody tr th:only-of-type {\n",
       "        vertical-align: middle;\n",
       "    }\n",
       "\n",
       "    .dataframe tbody tr th {\n",
       "        vertical-align: top;\n",
       "    }\n",
       "\n",
       "    .dataframe thead th {\n",
       "        text-align: right;\n",
       "    }\n",
       "</style>\n",
       "<table border=\"1\" class=\"dataframe\">\n",
       "  <thead>\n",
       "    <tr style=\"text-align: right;\">\n",
       "      <th></th>\n",
       "      <th>rt_delta</th>\n",
       "      <th>number_of_std_devs</th>\n",
       "      <th>rt_length</th>\n",
       "    </tr>\n",
       "  </thead>\n",
       "  <tbody>\n",
       "    <tr>\n",
       "      <th>115765</th>\n",
       "      <td>36.0445</td>\n",
       "      <td>8.922208</td>\n",
       "      <td>72.089</td>\n",
       "    </tr>\n",
       "    <tr>\n",
       "      <th>68165</th>\n",
       "      <td>27.7765</td>\n",
       "      <td>6.873666</td>\n",
       "      <td>55.553</td>\n",
       "    </tr>\n",
       "    <tr>\n",
       "      <th>77387</th>\n",
       "      <td>31.9080</td>\n",
       "      <td>3.741349</td>\n",
       "      <td>63.816</td>\n",
       "    </tr>\n",
       "    <tr>\n",
       "      <th>91041</th>\n",
       "      <td>25.9970</td>\n",
       "      <td>6.438749</td>\n",
       "      <td>51.994</td>\n",
       "    </tr>\n",
       "    <tr>\n",
       "      <th>128790</th>\n",
       "      <td>23.0440</td>\n",
       "      <td>5.708982</td>\n",
       "      <td>46.088</td>\n",
       "    </tr>\n",
       "  </tbody>\n",
       "</table>\n",
       "</div>"
      ],
      "text/plain": [
       "        rt_delta  number_of_std_devs  rt_length\n",
       "115765   36.0445            8.922208     72.089\n",
       "68165    27.7765            6.873666     55.553\n",
       "77387    31.9080            3.741349     63.816\n",
       "91041    25.9970            6.438749     51.994\n",
       "128790   23.0440            5.708982     46.088"
      ]
     },
     "execution_count": 29,
     "metadata": {},
     "output_type": "execute_result"
    }
   ],
   "source": [
    "allpeptides_df[['rt_delta','number_of_std_devs','rt_length']].head()"
   ]
  },
  {
   "cell_type": "code",
   "execution_count": null,
   "metadata": {},
   "outputs": [],
   "source": []
  }
 ],
 "metadata": {
  "kernelspec": {
   "display_name": "Python 3",
   "language": "python",
   "name": "python3"
  },
  "language_info": {
   "codemirror_mode": {
    "name": "ipython",
    "version": 3
   },
   "file_extension": ".py",
   "mimetype": "text/x-python",
   "name": "python",
   "nbconvert_exporter": "python",
   "pygments_lexer": "ipython3",
   "version": "3.6.7"
  }
 },
 "nbformat": 4,
 "nbformat_minor": 2
}
