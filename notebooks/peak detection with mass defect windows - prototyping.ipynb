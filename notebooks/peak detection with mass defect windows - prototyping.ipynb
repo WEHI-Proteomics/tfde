{
 "cells": [
  {
   "cell_type": "code",
   "execution_count": 574,
   "metadata": {},
   "outputs": [],
   "source": [
    "import pandas as pd\n",
    "import numpy as np\n",
    "import sys\n",
    "import matplotlib.pyplot as plt\n",
    "from sys import getsizeof\n",
    "from numba import njit"
   ]
  },
  {
   "cell_type": "code",
   "execution_count": 597,
   "metadata": {},
   "outputs": [],
   "source": [
    "# from https://gist.github.com/alimanfoo/c5977e87111abe8127453b21204c1065\n",
    "def find_runs(x):\n",
    "    \"\"\"Find runs of consecutive items in an array.\"\"\"\n",
    "\n",
    "    # ensure array\n",
    "    x = np.asanyarray(x)\n",
    "    if x.ndim != 1:\n",
    "        raise ValueError('only 1D array supported')\n",
    "    n = x.shape[0]\n",
    "\n",
    "    # handle empty array\n",
    "    if n == 0:\n",
    "        return np.array([]), np.array([]), np.array([])\n",
    "\n",
    "    else:\n",
    "        # find run starts\n",
    "        loc_run_start = np.empty(n, dtype=bool)\n",
    "        loc_run_start[0] = True\n",
    "        np.not_equal(x[:-1], x[1:], out=loc_run_start[1:])\n",
    "        run_starts = np.nonzero(loc_run_start)[0]\n",
    "\n",
    "        # find run values\n",
    "        run_values = x[loc_run_start]\n",
    "\n",
    "        # find run lengths\n",
    "        run_lengths = np.diff(np.append(run_starts, n))\n",
    "\n",
    "        return run_values, run_starts, run_lengths"
   ]
  },
  {
   "cell_type": "code",
   "execution_count": 575,
   "metadata": {},
   "outputs": [],
   "source": [
    "feature_id = 1\n",
    "DELTA_MZ = 1.003355  # Mass difference between Carbon-12 and Carbon-13 isotopes, in Da. For calculating the spacing between isotopic peaks.\n",
    "PROTON_MASS = 1.0073  # Mass of a proton in unified atomic mass units, or Da. For calculating the monoisotopic mass."
   ]
  },
  {
   "cell_type": "code",
   "execution_count": 576,
   "metadata": {},
   "outputs": [],
   "source": [
    "DA_MIN = 100\n",
    "DA_MAX = 4000\n",
    "charge = 1"
   ]
  },
  {
   "cell_type": "code",
   "execution_count": 577,
   "metadata": {},
   "outputs": [],
   "source": [
    "feature_raw_ms2_df = pd.read_pickle('/Users/darylwilding-mcbride/Downloads/feature-{}-ms2-raw-points.pkl'.format(feature_id))\n",
    "feature_raw_ms2_df.sort_values(by=['mz'], ascending=True, inplace=True)\n",
    "feature_raw_ms2_df['decharged_mass'] = (feature_raw_ms2_df.mz + PROTON_MASS) * charge\n",
    "feature_raw_ms2_df['normalised_intensity'] = feature_raw_ms2_df.intensity / feature_raw_ms2_df.intensity.max()"
   ]
  },
  {
   "cell_type": "code",
   "execution_count": 578,
   "metadata": {},
   "outputs": [
    {
     "data": {
      "text/html": [
       "<div>\n",
       "<style scoped>\n",
       "    .dataframe tbody tr th:only-of-type {\n",
       "        vertical-align: middle;\n",
       "    }\n",
       "\n",
       "    .dataframe tbody tr th {\n",
       "        vertical-align: top;\n",
       "    }\n",
       "\n",
       "    .dataframe thead th {\n",
       "        text-align: right;\n",
       "    }\n",
       "</style>\n",
       "<table border=\"1\" class=\"dataframe\">\n",
       "  <thead>\n",
       "    <tr style=\"text-align: right;\">\n",
       "      <th></th>\n",
       "      <th>frame_id</th>\n",
       "      <th>mz</th>\n",
       "      <th>intensity</th>\n",
       "      <th>decharged_mass</th>\n",
       "      <th>normalised_intensity</th>\n",
       "    </tr>\n",
       "  </thead>\n",
       "  <tbody>\n",
       "    <tr>\n",
       "      <th>0</th>\n",
       "      <td>27938</td>\n",
       "      <td>133.596214</td>\n",
       "      <td>9</td>\n",
       "      <td>134.603514</td>\n",
       "      <td>0.068182</td>\n",
       "    </tr>\n",
       "    <tr>\n",
       "      <th>1</th>\n",
       "      <td>27938</td>\n",
       "      <td>180.467447</td>\n",
       "      <td>9</td>\n",
       "      <td>181.474747</td>\n",
       "      <td>0.068182</td>\n",
       "    </tr>\n",
       "    <tr>\n",
       "      <th>2</th>\n",
       "      <td>27938</td>\n",
       "      <td>213.418260</td>\n",
       "      <td>9</td>\n",
       "      <td>214.425560</td>\n",
       "      <td>0.068182</td>\n",
       "    </tr>\n",
       "    <tr>\n",
       "      <th>3</th>\n",
       "      <td>27938</td>\n",
       "      <td>266.156364</td>\n",
       "      <td>9</td>\n",
       "      <td>267.163664</td>\n",
       "      <td>0.068182</td>\n",
       "    </tr>\n",
       "    <tr>\n",
       "      <th>4</th>\n",
       "      <td>27938</td>\n",
       "      <td>268.404245</td>\n",
       "      <td>9</td>\n",
       "      <td>269.411545</td>\n",
       "      <td>0.068182</td>\n",
       "    </tr>\n",
       "  </tbody>\n",
       "</table>\n",
       "</div>"
      ],
      "text/plain": [
       "   frame_id          mz  intensity  decharged_mass  normalised_intensity\n",
       "0     27938  133.596214          9      134.603514              0.068182\n",
       "1     27938  180.467447          9      181.474747              0.068182\n",
       "2     27938  213.418260          9      214.425560              0.068182\n",
       "3     27938  266.156364          9      267.163664              0.068182\n",
       "4     27938  268.404245          9      269.411545              0.068182"
      ]
     },
     "execution_count": 578,
     "metadata": {},
     "output_type": "execute_result"
    }
   ],
   "source": [
    "feature_raw_ms2_df.head()"
   ]
  },
  {
   "cell_type": "code",
   "execution_count": 579,
   "metadata": {},
   "outputs": [
    {
     "data": {
      "text/plain": [
       "215"
      ]
     },
     "execution_count": 579,
     "metadata": {},
     "output_type": "execute_result"
    }
   ],
   "source": [
    "len(feature_raw_ms2_df)"
   ]
  },
  {
   "cell_type": "code",
   "execution_count": 580,
   "metadata": {},
   "outputs": [],
   "source": [
    "# generate a charge-aware mask of mass defect windows\n",
    "bin_edges_l = []\n",
    "for nominal_mass in np.arange(start=DA_MIN, stop=DA_MAX, step=1/charge):\n",
    "    proton_mass_adjustment = (charge - 1) * PROTON_MASS\n",
    "    mass_centre = (nominal_mass + proton_mass_adjustment) * 1.00048  # from https://www.ncbi.nlm.nih.gov/pmc/articles/PMC3184890/\n",
    "    width = (0.19 + (0.0001 * nominal_mass)) / charge\n",
    "    lower_mass = mass_centre - (width / 2)\n",
    "    upper_mass = mass_centre + (width / 2)\n",
    "    bin_edges_l.append(lower_mass)\n",
    "    bin_edges_l.append(upper_mass)\n",
    "bins = np.asarray(bin_edges_l)"
   ]
  },
  {
   "cell_type": "code",
   "execution_count": 581,
   "metadata": {},
   "outputs": [
    {
     "data": {
      "text/plain": [
       "array([ 99.948  , 100.148  , 100.94843, 101.14853, 101.94886, 102.14906,\n",
       "       102.94929, 103.14959, 103.94972, 104.15012, 104.95015, 105.15065,\n",
       "       105.95058, 106.15118, 106.95101, 107.15171, 107.95144, 108.15224,\n",
       "       108.95187, 109.15277])"
      ]
     },
     "execution_count": 581,
     "metadata": {},
     "output_type": "execute_result"
    }
   ],
   "source": [
    "bins[:20]"
   ]
  },
  {
   "cell_type": "code",
   "execution_count": 582,
   "metadata": {},
   "outputs": [
    {
     "data": {
      "text/plain": [
       "1"
      ]
     },
     "execution_count": 582,
     "metadata": {},
     "output_type": "execute_result"
    }
   ],
   "source": [
    "np.digitize(99.95, bins)"
   ]
  },
  {
   "cell_type": "code",
   "execution_count": 606,
   "metadata": {},
   "outputs": [],
   "source": [
    "decharged_mass_a = feature_raw_ms2_df.decharged_mass.to_numpy()\n",
    "mz_a = feature_raw_ms2_df.mz.to_numpy()\n",
    "intensity_a = feature_raw_ms2_df.intensity.to_numpy()\n",
    "available_a = np.full((len(mz_a)), True)  # the raw points not yet assigned to a peak"
   ]
  },
  {
   "cell_type": "code",
   "execution_count": 607,
   "metadata": {},
   "outputs": [
    {
     "data": {
      "text/plain": [
       "array([  70,  164,  230,  335,  340,  384,  385,  391,  409,  441,  453,\n",
       "        459,  511,  522,  525,  525,  553,  597,  603,  607,  609,  619,\n",
       "        626,  627,  629,  633,  637,  651,  661,  665,  665,  669,  677,\n",
       "        709,  719,  734,  737,  757,  773,  782,  801,  801,  811,  817,\n",
       "        825,  825,  827,  828,  845,  847,  861,  861,  863,  863,  865,\n",
       "        867,  867,  883,  883,  883,  885,  885,  887,  887,  887,  891,\n",
       "        903,  905,  911,  918,  951,  955,  960,  965,  979,  987, 1001,\n",
       "       1019, 1021, 1033, 1033, 1037, 1051, 1053, 1086, 1087, 1088, 1089,\n",
       "       1105, 1133, 1141, 1143, 1147, 1149, 1194, 1202, 1203, 1219, 1231,\n",
       "       1258, 1302, 1302, 1318, 1341, 1353, 1371, 1373, 1373, 1375, 1375,\n",
       "       1375, 1391, 1425, 1453, 1511, 1511, 1511, 1513, 1513, 1513, 1513,\n",
       "       1513, 1513, 1515, 1515, 1515, 1515, 1515, 1515, 1515, 1515, 1515,\n",
       "       1515, 1515, 1515, 1517, 1517, 1517, 1517, 1517, 1517, 1517, 1517,\n",
       "       1517, 1518, 1522, 1581, 1645, 1661, 1699, 1707, 1720, 1739, 1739,\n",
       "       1739, 1741, 1741, 1743, 1745, 1745, 1804, 1854, 1883, 1899, 1908,\n",
       "       1913, 1933, 1939, 1939, 1941, 1941, 1941, 1941, 1941, 1943, 1943,\n",
       "       1943, 1943, 1943, 1945, 1945, 1947, 1949, 1958, 2013, 2055, 2073,\n",
       "       2123, 2123, 2126, 2163, 2165, 2167, 2199, 2201, 2201, 2203, 2203,\n",
       "       2203, 2203, 2203, 2205, 2205, 2205, 2216, 2267, 2271, 2294, 2319,\n",
       "       2369, 2403, 2478, 2521, 2567, 2967])"
      ]
     },
     "execution_count": 607,
     "metadata": {},
     "output_type": "execute_result"
    }
   ],
   "source": [
    "digitised_mass = np.digitize(decharged_mass_a[available_a == True], bins)  # an odd index means the point is inside a mass defect window\n",
    "digitised_mass"
   ]
  },
  {
   "cell_type": "code",
   "execution_count": 608,
   "metadata": {},
   "outputs": [],
   "source": [
    "# consecutive odd indexes means consecutive windows, suggesting a series of isotopic peaks"
   ]
  },
  {
   "cell_type": "code",
   "execution_count": 609,
   "metadata": {},
   "outputs": [
    {
     "data": {
      "text/plain": [
       "array([ 335,  385,  391,  409,  441,  453,  459,  511,  525,  525,  553,\n",
       "        597,  603,  607,  609,  619,  627,  629,  633,  637,  651,  661,\n",
       "        665,  665,  669,  677,  709,  719,  737,  757,  773,  801,  801,\n",
       "        811,  817,  825,  825,  827,  845,  847,  861,  861,  863,  863,\n",
       "        865,  867,  867,  883,  883,  883,  885,  885,  887,  887,  887,\n",
       "        891,  903,  905,  911,  951,  955,  965,  979,  987, 1001, 1019,\n",
       "       1021, 1033, 1033, 1037, 1051, 1053, 1087, 1089, 1105, 1133, 1141,\n",
       "       1143, 1147, 1149, 1203, 1219, 1231, 1341, 1353, 1371, 1373, 1373,\n",
       "       1375, 1375, 1375, 1391, 1425, 1453, 1511, 1511, 1511, 1513, 1513,\n",
       "       1513, 1513, 1513, 1513, 1515, 1515, 1515, 1515, 1515, 1515, 1515,\n",
       "       1515, 1515, 1515, 1515, 1515, 1517, 1517, 1517, 1517, 1517, 1517,\n",
       "       1517, 1517, 1517, 1581, 1645, 1661, 1699, 1707, 1739, 1739, 1739,\n",
       "       1741, 1741, 1743, 1745, 1745, 1883, 1899, 1913, 1933, 1939, 1939,\n",
       "       1941, 1941, 1941, 1941, 1941, 1943, 1943, 1943, 1943, 1943, 1945,\n",
       "       1945, 1947, 1949, 2013, 2055, 2073, 2123, 2123, 2163, 2165, 2167,\n",
       "       2199, 2201, 2201, 2203, 2203, 2203, 2203, 2203, 2205, 2205, 2205,\n",
       "       2267, 2271, 2319, 2369, 2403, 2521, 2567, 2967])"
      ]
     },
     "execution_count": 609,
     "metadata": {},
     "output_type": "execute_result"
    }
   ],
   "source": [
    "# remove all the even indexes - the odd indexes are the mass defect windows\n",
    "mass_defect_window_indexes = digitised_mass[(digitised_mass % 2) == 1]\n",
    "mass_defect_window_indexes"
   ]
  },
  {
   "cell_type": "code",
   "execution_count": 610,
   "metadata": {},
   "outputs": [
    {
     "data": {
      "text/plain": [
       "array([ 335,  385,  391,  409,  441,  453,  459,  511,  525,  553,  597,\n",
       "        603,  607,  609,  619,  627,  629,  633,  637,  651,  661,  665,\n",
       "        669,  677,  709,  719,  737,  757,  773,  801,  811,  817,  825,\n",
       "        827,  845,  847,  861,  863,  865,  867,  883,  885,  887,  891,\n",
       "        903,  905,  911,  951,  955,  965,  979,  987, 1001, 1019, 1021,\n",
       "       1033, 1037, 1051, 1053, 1087, 1089, 1105, 1133, 1141, 1143, 1147,\n",
       "       1149, 1203, 1219, 1231, 1341, 1353, 1371, 1373, 1375, 1391, 1425,\n",
       "       1453, 1511, 1513, 1515, 1517, 1581, 1645, 1661, 1699, 1707, 1739,\n",
       "       1741, 1743, 1745, 1883, 1899, 1913, 1933, 1939, 1941, 1943, 1945,\n",
       "       1947, 1949, 2013, 2055, 2073, 2123, 2163, 2165, 2167, 2199, 2201,\n",
       "       2203, 2205, 2267, 2271, 2319, 2369, 2403, 2521, 2567, 2967])"
      ]
     },
     "execution_count": 610,
     "metadata": {},
     "output_type": "execute_result"
    }
   ],
   "source": [
    "# remove the duplicates\n",
    "unique_mass_defect_window_indexes = np.unique(mass_defect_window_indexes)\n",
    "unique_mass_defect_window_indexes"
   ]
  },
  {
   "cell_type": "code",
   "execution_count": 640,
   "metadata": {},
   "outputs": [
    {
     "data": {
      "text/plain": [
       "120"
      ]
     },
     "execution_count": 640,
     "metadata": {},
     "output_type": "execute_result"
    }
   ],
   "source": [
    "len(unique_mass_defect_window_indexes)"
   ]
  },
  {
   "cell_type": "code",
   "execution_count": 639,
   "metadata": {},
   "outputs": [],
   "source": [
    "available_mass_defect_windows = np.full((len(unique_mass_defect_window_indexes)), True)  # the mass defect windows not yet processed"
   ]
  },
  {
   "cell_type": "code",
   "execution_count": 611,
   "metadata": {},
   "outputs": [],
   "source": [
    "# the elements of unique_mass_defect_window_indexes are the bin indexes (mass defect windows) that have signal present"
   ]
  },
  {
   "cell_type": "code",
   "execution_count": 667,
   "metadata": {
    "scrolled": false
   },
   "outputs": [
    {
     "data": {
      "text/plain": [
       "array([False, False, False, False, False, False, False, False, False,\n",
       "       False, False, False, False,  True, False, False,  True, False,\n",
       "       False, False, False, False, False, False, False, False, False,\n",
       "       False, False, False, False, False, False,  True, False,  True,\n",
       "       False,  True,  True,  True, False,  True,  True, False, False,\n",
       "        True, False, False, False, False, False, False, False, False,\n",
       "        True, False, False, False,  True, False,  True, False, False,\n",
       "       False,  True, False,  True, False, False, False, False, False,\n",
       "       False,  True,  True, False, False, False, False,  True,  True,\n",
       "        True, False, False, False, False, False, False,  True,  True,\n",
       "        True, False, False, False, False, False,  True,  True,  True,\n",
       "        True,  True, False, False, False, False, False,  True,  True,\n",
       "       False,  True,  True,  True, False, False, False, False, False,\n",
       "       False, False, False])"
      ]
     },
     "execution_count": 667,
     "metadata": {},
     "output_type": "execute_result"
    }
   ],
   "source": [
    "# find where the windows are consecutive\n",
    "condition = (np.diff(unique_mass_defect_window_indexes) == 2)\n",
    "condition = np.hstack((condition[0],condition))  # now the flags correspond to whether each mass window is adjacent to the next one\n",
    "condition"
   ]
  },
  {
   "cell_type": "code",
   "execution_count": 668,
   "metadata": {},
   "outputs": [
    {
     "data": {
      "text/plain": [
       "120"
      ]
     },
     "execution_count": 668,
     "metadata": {},
     "output_type": "execute_result"
    }
   ],
   "source": [
    "len(condition)"
   ]
  },
  {
   "cell_type": "code",
   "execution_count": 669,
   "metadata": {},
   "outputs": [],
   "source": [
    "# the False values are stand-alone peaks we need to process as orphaned isotopes"
   ]
  },
  {
   "cell_type": "code",
   "execution_count": 670,
   "metadata": {},
   "outputs": [],
   "source": [
    "run_values, run_starts, run_lengths = find_runs(condition)"
   ]
  },
  {
   "cell_type": "code",
   "execution_count": 671,
   "metadata": {},
   "outputs": [
    {
     "data": {
      "text/plain": [
       "array([False,  True, False,  True, False,  True, False,  True, False,\n",
       "        True, False,  True, False,  True, False,  True, False,  True,\n",
       "       False,  True, False,  True, False,  True, False,  True, False,\n",
       "        True, False,  True, False,  True, False,  True, False,  True,\n",
       "       False])"
      ]
     },
     "execution_count": 671,
     "metadata": {},
     "output_type": "execute_result"
    }
   ],
   "source": [
    "run_values"
   ]
  },
  {
   "cell_type": "code",
   "execution_count": 672,
   "metadata": {},
   "outputs": [
    {
     "data": {
      "text/plain": [
       "array([1, 1, 1, 1, 3, 2, 1, 1, 1, 1, 1, 1, 2, 3, 3, 5, 2, 3])"
      ]
     },
     "execution_count": 672,
     "metadata": {},
     "output_type": "execute_result"
    }
   ],
   "source": [
    "chunk_sizes = run_lengths[run_values == True]\n",
    "chunk_sizes"
   ]
  },
  {
   "cell_type": "code",
   "execution_count": 673,
   "metadata": {},
   "outputs": [
    {
     "data": {
      "text/plain": [
       "array([ 13,  16,  33,  35,  37,  41,  45,  54,  58,  60,  64,  66,  73,\n",
       "        79,  88,  96, 106, 109])"
      ]
     },
     "execution_count": 673,
     "metadata": {},
     "output_type": "execute_result"
    }
   ],
   "source": [
    "chunk_starts = run_starts[run_values == True]\n",
    "chunk_starts"
   ]
  },
  {
   "cell_type": "code",
   "execution_count": 689,
   "metadata": {
    "scrolled": true
   },
   "outputs": [
    {
     "name": "stdout",
     "output_type": "stream",
     "text": [
      "isotope series 1 (1 peaks):\n",
      "mass defect window [609]: 404.0787-404.3091 Da\n",
      "\tpeak mass [404.2008]\n",
      "\tpeak m/z [403.1935]\n",
      "\tpeak centroid 403.1935 m/z, 23\n",
      "de-isotoped m/z [403.1935]\n",
      "de-isotoped m/z centroid 403.1935, 23\n",
      "monoisotopic mass 402.1862 Da\n",
      "\n",
      "isotope series 2 (1 peaks):\n",
      "mass defect window [629]: 414.083-414.3144 Da\n",
      "\tpeak mass [414.2615]\n",
      "\tpeak m/z [413.2542]\n",
      "\tpeak centroid 413.2542 m/z, 114\n",
      "de-isotoped m/z [413.2542]\n",
      "de-isotoped m/z centroid 413.2542, 114\n",
      "monoisotopic mass 412.2469 Da\n",
      "\n",
      "isotope series 3 (1 peaks):\n",
      "mass defect window [827]: 513.1256-513.3669 Da\n",
      "\tpeak mass [513.2627]\n",
      "\tpeak m/z [512.2554]\n",
      "\tpeak centroid 512.2554 m/z, 24\n",
      "de-isotoped m/z [512.2554]\n",
      "de-isotoped m/z centroid 512.2554, 24\n",
      "monoisotopic mass 511.2481 Da\n",
      "\n",
      "isotope series 4 (1 peaks):\n",
      "mass defect window [847]: 523.1299-523.3722 Da\n",
      "\tpeak mass [523.2607]\n",
      "\tpeak m/z [522.2534]\n",
      "\tpeak centroid 522.2534 m/z, 59\n",
      "de-isotoped m/z [522.2534]\n",
      "de-isotoped m/z centroid 522.2534, 59\n",
      "monoisotopic mass 521.2461 Da\n",
      "\n",
      "isotope series 5 (3 peaks):\n",
      "mass defect window [863]: 531.1333-531.3764 Da\n",
      "\tpeak mass [531.2656 531.2801]\n",
      "\tpeak m/z [530.2583 530.2728]\n",
      "\tpeak centroid 530.2655 m/z, 104\n",
      "mass defect window [865]: 532.1338-532.377 Da\n",
      "\tpeak mass [532.2754]\n",
      "\tpeak m/z [531.2681]\n",
      "\tpeak centroid 531.2681 m/z, 74\n",
      "mass defect window [867]: 533.1342-533.3775 Da\n",
      "\tpeak mass [533.2754 533.2826]\n",
      "\tpeak m/z [532.2681 532.2753]\n",
      "\tpeak centroid 532.2717 m/z, 131\n",
      "de-isotoped m/z [530.2655 530.2648 530.265 ]\n",
      "de-isotoped m/z centroid 530.2651, 309\n",
      "monoisotopic mass 529.2578 Da\n",
      "\n",
      "isotope series 6 (2 peaks):\n",
      "mass defect window [885]: 542.1381-542.3823 Da\n",
      "\tpeak mass [542.2547 542.262 ]\n",
      "\tpeak m/z [541.2474 541.2547]\n",
      "\tpeak centroid 541.2503 m/z, 110\n",
      "mass defect window [887]: 543.1385-543.3828 Da\n",
      "\tpeak mass [543.2456 543.2456 543.2492]\n",
      "\tpeak m/z [542.2383 542.2383 542.2419]\n",
      "\tpeak centroid 542.2387 m/z, 169\n",
      "de-isotoped m/z [541.2503 541.2354]\n",
      "de-isotoped m/z centroid 541.2413, 279\n",
      "monoisotopic mass 540.234 Da\n",
      "\n",
      "isotope series 7 (1 peaks):\n",
      "mass defect window [905]: 552.1424-552.3876 Da\n",
      "\tpeak mass [552.2231]\n",
      "\tpeak m/z [551.2158]\n",
      "\tpeak centroid 551.2158 m/z, 9\n",
      "de-isotoped m/z [551.2158]\n",
      "de-isotoped m/z centroid 551.2158, 9\n",
      "monoisotopic mass 550.2085 Da\n",
      "\n",
      "isotope series 8 (1 peaks):\n",
      "mass defect window [1021]: 610.1673-610.4183 Da\n",
      "\tpeak mass [610.3498]\n",
      "\tpeak m/z [609.3425]\n",
      "\tpeak centroid 609.3425 m/z, 80\n",
      "de-isotoped m/z [609.3425]\n",
      "de-isotoped m/z centroid 609.3425, 80\n",
      "monoisotopic mass 608.3352 Da\n",
      "\n",
      "isotope series 9 (1 peaks):\n",
      "mass defect window [1053]: 626.1742-626.4268 Da\n",
      "\tpeak mass [626.3417]\n",
      "\tpeak m/z [625.3344]\n",
      "\tpeak centroid 625.3344 m/z, 42\n",
      "de-isotoped m/z [625.3344]\n",
      "de-isotoped m/z centroid 625.3344, 42\n",
      "monoisotopic mass 624.3271 Da\n",
      "\n",
      "isotope series 10 (1 peaks):\n",
      "mass defect window [1089]: 644.1819-644.4363 Da\n",
      "\tpeak mass [644.3512]\n",
      "\tpeak m/z [643.3439]\n",
      "\tpeak centroid 643.3439 m/z, 59\n",
      "de-isotoped m/z [643.3439]\n",
      "de-isotoped m/z centroid 643.3439, 59\n",
      "monoisotopic mass 642.3366 Da\n",
      "\n",
      "isotope series 11 (1 peaks):\n",
      "mass defect window [1143]: 671.1935-671.4506 Da\n",
      "\tpeak mass [671.2998]\n",
      "\tpeak m/z [670.2925]\n",
      "\tpeak centroid 670.2925 m/z, 60\n",
      "de-isotoped m/z [670.2925]\n",
      "de-isotoped m/z centroid 670.2925, 60\n",
      "monoisotopic mass 669.2852 Da\n",
      "\n",
      "isotope series 12 (1 peaks):\n",
      "mass defect window [1149]: 674.1948-674.4522 Da\n",
      "\tpeak mass [674.3118]\n",
      "\tpeak m/z [673.3045]\n",
      "\tpeak centroid 673.3045 m/z, 31\n",
      "de-isotoped m/z [673.3045]\n",
      "de-isotoped m/z centroid 673.3045, 31\n",
      "monoisotopic mass 672.2972 Da\n",
      "\n",
      "isotope series 13 (2 peaks):\n",
      "mass defect window [1373]: 786.243-786.5116 Da\n",
      "\tpeak mass [786.3366 786.3454]\n",
      "\tpeak m/z [785.3293 785.3381]\n",
      "\tpeak centroid 785.3305 m/z, 92\n",
      "mass defect window [1375]: 787.2434-787.5121 Da\n",
      "\tpeak mass [787.3355 787.3355 787.34  ]\n",
      "\tpeak m/z [786.3282 786.3282 786.3327]\n",
      "\tpeak centroid 786.3297 m/z, 146\n",
      "de-isotoped m/z [785.3305 785.3263]\n",
      "de-isotoped m/z centroid 785.3279, 238\n",
      "monoisotopic mass 784.3206 Da\n",
      "\n",
      "isotope series 14 (3 peaks):\n",
      "mass defect window [1513]: 856.2731-856.5487 Da\n",
      "\tpeak mass [856.3623 856.3669 856.3808 856.3808 856.3854 856.3854]\n",
      "\tpeak m/z [855.355  855.3596 855.3735 855.3735 855.3781 855.3781]\n",
      "\tpeak centroid 855.3702 m/z, 281\n",
      "mass defect window [1515]: 857.2735-857.5492 Da\n",
      "\tpeak mass [857.3679 857.3679 857.3726 857.3726 857.3726 857.3772 857.3772 857.3772\n",
      " 857.3818 857.3818 857.3864 857.4187]\n",
      "\tpeak m/z [856.3606 856.3606 856.3653 856.3653 856.3653 856.3699 856.3699 856.3699\n",
      " 856.3745 856.3745 856.3791 856.4114]\n",
      "\tpeak centroid 856.3717 m/z, 528\n",
      "mass defect window [1517]: 858.2739-858.5497 Da\n",
      "\tpeak mass [858.3788 858.3788 858.3834 858.3834 858.3834 858.3926 858.3926 858.3926\n",
      " 858.3972]\n",
      "\tpeak m/z [857.3715 857.3715 857.3761 857.3761 857.3761 857.3853 857.3853 857.3853\n",
      " 857.3899]\n",
      "\tpeak centroid 857.3783 m/z, 288\n",
      "de-isotoped m/z [855.3702 855.3683 855.3716]\n",
      "de-isotoped m/z centroid 855.3697, 1097\n",
      "monoisotopic mass 854.3624 Da\n",
      "\n",
      "isotope series 15 (3 peaks):\n",
      "mass defect window [1741]: 970.3221-970.6091 Da\n",
      "\tpeak mass [970.4288 970.4632]\n",
      "\tpeak m/z [969.4215 969.4559]\n",
      "\tpeak centroid 969.444 m/z, 125\n",
      "mass defect window [1743]: 971.3225-971.6096 Da\n",
      "\tpeak mass [971.4699]\n",
      "\tpeak m/z [970.4626]\n",
      "\tpeak centroid 970.4626 m/z, 10\n",
      "mass defect window [1745]: 972.323-972.6102 Da\n",
      "\tpeak mass [972.4624 972.4722]\n",
      "\tpeak m/z [971.4551 971.4649]\n",
      "\tpeak centroid 971.4614 m/z, 86\n",
      "de-isotoped m/z [969.444  969.4592 969.4546]\n",
      "de-isotoped m/z centroid 969.4489, 221\n",
      "monoisotopic mass 968.4416 Da\n",
      "\n",
      "isotope series 16 (5 peaks):\n",
      "mass defect window [1941]: 1070.3651-1070.6621 Da\n",
      "\tpeak mass [1070.4902 1070.5005 1070.5108 1070.516  1070.516 ]\n",
      "\tpeak m/z [1069.4829 1069.4932 1069.5035 1069.5087 1069.5087]\n",
      "\tpeak centroid 1069.5002 m/z, 181\n",
      "mass defect window [1943]: 1071.3655-1071.6626 Da\n",
      "\tpeak mass [1071.5218 1071.5218 1071.5218 1071.5321 1071.5372]\n",
      "\tpeak m/z [1070.5145 1070.5145 1070.5145 1070.5248 1070.5299]\n",
      "\tpeak centroid 1070.5216 m/z, 109\n",
      "mass defect window [1945]: 1072.366-1072.6632 Da\n",
      "\tpeak mass [1072.4971 1072.5074]\n",
      "\tpeak m/z [1071.4898 1071.5001]\n",
      "\tpeak centroid 1071.4915 m/z, 59\n",
      "mass defect window [1947]: 1073.3664-1073.6637 Da\n",
      "\tpeak mass [1073.4418]\n",
      "\tpeak m/z [1072.4345]\n",
      "\tpeak centroid 1072.4345 m/z, 35\n",
      "mass defect window [1949]: 1074.3668-1074.6642 Da\n",
      "\tpeak mass [1074.5058]\n",
      "\tpeak m/z [1073.4985]\n",
      "\tpeak centroid 1073.4985 m/z, 37\n",
      "de-isotoped m/z [1069.5002 1069.5182 1069.4848 1069.4244 1069.4851]\n",
      "de-isotoped m/z centroid 1069.4951, 421\n",
      "monoisotopic mass 1068.4878 Da\n",
      "\n",
      "isotope series 17 (2 peaks):\n",
      "mass defect window [2165]: 1182.4133-1182.7215 Da\n",
      "\tpeak mass [1182.5494]\n",
      "\tpeak m/z [1181.5421]\n",
      "\tpeak centroid 1181.5421 m/z, 37\n",
      "mass defect window [2167]: 1183.4137-1183.722 Da\n",
      "\tpeak mass [1183.5469]\n",
      "\tpeak m/z [1182.5396]\n",
      "\tpeak centroid 1182.5396 m/z, 53\n",
      "de-isotoped m/z [1181.5421 1181.5362]\n",
      "de-isotoped m/z centroid 1181.5386, 90\n",
      "monoisotopic mass 1180.5313 Da\n",
      "\n",
      "isotope series 18 (3 peaks):\n",
      "mass defect window [2201]: 1200.421-1200.731 Da\n",
      "\tpeak mass [1200.5304 1200.5686]\n",
      "\tpeak m/z [1199.5231 1199.5613]\n",
      "\tpeak centroid 1199.5471 m/z, 35\n",
      "mass defect window [2203]: 1201.4214-1201.7315 Da\n",
      "\tpeak mass [1201.4481 1201.53   1201.5519 1201.5519 1201.5573]\n",
      "\tpeak m/z [1200.4408 1200.5227 1200.5446 1200.5446 1200.55  ]\n",
      "\tpeak centroid 1200.518 m/z, 178\n",
      "mass defect window [2205]: 1202.4219-1202.7321 Da\n",
      "\tpeak mass [1202.5573 1202.5628 1202.5792]\n",
      "\tpeak m/z [1201.55   1201.5555 1201.5719]\n",
      "\tpeak centroid 1201.5555 m/z, 65\n",
      "de-isotoped m/z [1199.5471 1199.5146 1199.5488]\n",
      "de-isotoped m/z centroid 1199.5267, 278\n",
      "monoisotopic mass 1198.5194 Da\n",
      "\n"
     ]
    }
   ],
   "source": [
    "peaks_l = []\n",
    "isotope_series_indexes = []\n",
    "expected_peak_spacing = DELTA_MZ / charge\n",
    "for series_idx in range(len(chunk_sizes)):\n",
    "    number_of_windows = chunk_sizes[series_idx]\n",
    "    start_idx = chunk_starts[series_idx]\n",
    "    index_list = unique_mass_defect_window_indexes[start_idx:start_idx+number_of_windows].tolist()\n",
    "    print(\"isotope series {} ({} peaks):\".format(series_idx+1, number_of_windows))\n",
    "    mz_l = []\n",
    "    int_l = []\n",
    "    for peak_idx,i in enumerate(index_list):\n",
    "        isotope_series_indexes.append(i)\n",
    "        lower_mass = round(bins[i-1],4)\n",
    "        upper_mass = round(bins[i],4)\n",
    "        print(\"mass defect window [{}]: {}-{} Da\".format(i, lower_mass, upper_mass))\n",
    "        # get the raw points allocated to this bin\n",
    "        peak_indexes = np.where(digitised_mass == i)[0]\n",
    "        print(\"\\tpeak mass {}\".format(np.round(decharged_mass_a[peak_indexes],4)))\n",
    "        print(\"\\tpeak m/z {}\".format(np.round(mz_a[peak_indexes],4)))\n",
    "        mz_centroid = np.average(mz_a[peak_indexes], weights=intensity_a[peak_indexes])\n",
    "        intensity = np.sum(intensity_a[peak_indexes])\n",
    "        mz_l.append(mz_centroid)\n",
    "        int_l.append(intensity)\n",
    "        print(\"\\tpeak centroid {} m/z, {}\".format(np.round(mz_centroid,4), intensity))\n",
    "        available_a[peak_indexes] = False\n",
    "    # de-isotope the peaks\n",
    "    peaks_mz_a = np.array(mz_l)\n",
    "    peaks_int_a = np.array(int_l)\n",
    "    for i in range(len(peaks_mz_a)):\n",
    "        peaks_mz_a[i] = peaks_mz_a[i] - (i * expected_peak_spacing)\n",
    "    print(\"de-isotoped m/z {}\".format(np.round(peaks_mz_a,4)))\n",
    "    deisotoped_mz = np.average(peaks_mz_a, weights=peaks_int_a)\n",
    "    deisotoped_intensity = peaks_int_a.sum()\n",
    "    print(\"de-isotoped m/z centroid {}, {}\".format(np.round(deisotoped_mz,4), deisotoped_intensity))\n",
    "    monoisotopic_mass = (deisotoped_mz - PROTON_MASS) * charge\n",
    "    print(\"monoisotopic mass {} Da\".format(np.round(monoisotopic_mass,4)))\n",
    "    peaks_l.append((series_idx, monoisotopic_mass, deisotoped_intensity))\n",
    "    print()\n",
    "    "
   ]
  },
  {
   "cell_type": "code",
   "execution_count": 690,
   "metadata": {},
   "outputs": [
    {
     "data": {
      "text/plain": [
       "array([13,  2, 16,  1,  1,  1,  2,  8,  3,  1,  3,  1,  6,  4,  6,  5,  5,\n",
       "        1,  8])"
      ]
     },
     "execution_count": 690,
     "metadata": {},
     "output_type": "execute_result"
    }
   ],
   "source": [
    "# process the peaks that remain - the orphans\n",
    "orphaned_chunk_sizes = run_lengths[run_values == False]\n",
    "orphaned_chunk_sizes"
   ]
  },
  {
   "cell_type": "code",
   "execution_count": 691,
   "metadata": {},
   "outputs": [
    {
     "data": {
      "text/plain": [
       "87"
      ]
     },
     "execution_count": 691,
     "metadata": {},
     "output_type": "execute_result"
    }
   ],
   "source": [
    "number_of_orphans = orphaned_chunk_sizes.sum()\n",
    "number_of_orphans"
   ]
  },
  {
   "cell_type": "code",
   "execution_count": 692,
   "metadata": {},
   "outputs": [
    {
     "data": {
      "text/plain": [
       "array([  0,  14,  17,  34,  36,  40,  43,  46,  55,  59,  61,  65,  67,\n",
       "        75,  82,  91, 101, 108, 112])"
      ]
     },
     "execution_count": 692,
     "metadata": {},
     "output_type": "execute_result"
    }
   ],
   "source": [
    "orphaned_chunk_starts = run_starts[run_values == False]\n",
    "orphaned_chunk_starts"
   ]
  },
  {
   "cell_type": "code",
   "execution_count": 693,
   "metadata": {},
   "outputs": [
    {
     "name": "stdout",
     "output_type": "stream",
     "text": [
      "mass defect window [335]: 267.0198-267.2365 Da\n",
      "\tpeak mass [267.1637]\n",
      "\tpeak m/z [266.1564]\n",
      "\tpeak centroid 266.1564 m/z, 9\n",
      "mass defect window [385]: 292.0306-292.2498 Da\n",
      "\tpeak mass [292.1546]\n",
      "\tpeak m/z [291.1473]\n",
      "\tpeak centroid 291.1473 m/z, 44\n",
      "mass defect window [391]: 295.0318-295.2514 Da\n",
      "\tpeak mass [295.1866]\n",
      "\tpeak m/z [294.1793]\n",
      "\tpeak centroid 294.1793 m/z, 55\n",
      "mass defect window [409]: 304.0357-304.2561 Da\n",
      "\tpeak mass [304.1378]\n",
      "\tpeak m/z [303.1305]\n",
      "\tpeak centroid 303.1305 m/z, 83\n",
      "mass defect window [441]: 320.0426-320.2646 Da\n",
      "\tpeak mass [320.0527]\n",
      "\tpeak m/z [319.0454]\n",
      "\tpeak centroid 319.0454 m/z, 51\n",
      "mass defect window [453]: 326.0452-326.2678 Da\n",
      "\tpeak mass [326.1936]\n",
      "\tpeak m/z [325.1863]\n",
      "\tpeak centroid 325.1863 m/z, 55\n",
      "mass defect window [459]: 329.0465-329.2694 Da\n",
      "\tpeak mass [329.1461]\n",
      "\tpeak m/z [328.1388]\n",
      "\tpeak centroid 328.1388 m/z, 132\n",
      "mass defect window [511]: 355.0577-355.2832 Da\n",
      "\tpeak mass [355.2138]\n",
      "\tpeak m/z [354.2065]\n",
      "\tpeak centroid 354.2065 m/z, 29\n",
      "mass defect window [525]: 362.0607-362.2869 Da\n",
      "\tpeak mass [362.153 362.156]\n",
      "\tpeak m/z [361.1457 361.1487]\n",
      "\tpeak centroid 361.1474 m/z, 101\n",
      "mass defect window [553]: 376.0667-376.2943 Da\n",
      "\tpeak mass [376.2334]\n",
      "\tpeak m/z [375.2261]\n",
      "\tpeak centroid 375.2261 m/z, 59\n",
      "mass defect window [597]: 398.0761-398.3059 Da\n",
      "\tpeak mass [398.1699]\n",
      "\tpeak m/z [397.1626]\n",
      "\tpeak centroid 397.1626 m/z, 54\n",
      "mass defect window [603]: 401.0774-401.3075 Da\n",
      "\tpeak mass [401.227]\n",
      "\tpeak m/z [400.2197]\n",
      "\tpeak centroid 400.2197 m/z, 58\n",
      "mass defect window [607]: 403.0783-403.3086 Da\n",
      "\tpeak mass [403.2262]\n",
      "\tpeak m/z [402.2189]\n",
      "\tpeak centroid 402.2189 m/z, 10\n",
      "mass defect window [619]: 409.0809-409.3118 Da\n",
      "\tpeak mass [409.1902]\n",
      "\tpeak m/z [408.1829]\n",
      "\tpeak centroid 408.1829 m/z, 95\n",
      "mass defect window [627]: 413.0826-413.3139 Da\n",
      "\tpeak mass [413.2652]\n",
      "\tpeak m/z [412.2579]\n",
      "\tpeak centroid 412.2579 m/z, 27\n",
      "mass defect window [633]: 416.0839-416.3155 Da\n",
      "\tpeak mass [416.2352]\n",
      "\tpeak m/z [415.2279]\n",
      "\tpeak centroid 415.2279 m/z, 92\n",
      "mass defect window [637]: 418.0847-418.3165 Da\n",
      "\tpeak mass [418.1878]\n",
      "\tpeak m/z [417.1805]\n",
      "\tpeak centroid 417.1805 m/z, 22\n",
      "mass defect window [651]: 425.0878-425.3202 Da\n",
      "\tpeak mass [425.2642]\n",
      "\tpeak m/z [424.2569]\n",
      "\tpeak centroid 424.2569 m/z, 36\n",
      "mass defect window [661]: 430.0899-430.3229 Da\n",
      "\tpeak mass [430.2185]\n",
      "\tpeak m/z [429.2112]\n",
      "\tpeak centroid 429.2112 m/z, 62\n",
      "mass defect window [665]: 432.0908-432.324 Da\n",
      "\tpeak mass [432.1939 432.1939]\n",
      "\tpeak m/z [431.1866 431.1866]\n",
      "\tpeak centroid 431.1866 m/z, 104\n",
      "mass defect window [669]: 434.0916-434.325 Da\n",
      "\tpeak mass [434.1771]\n",
      "\tpeak m/z [433.1698]\n",
      "\tpeak centroid 433.1698 m/z, 21\n",
      "mass defect window [677]: 438.0933-438.3271 Da\n",
      "\tpeak mass [438.2461]\n",
      "\tpeak m/z [437.2388]\n",
      "\tpeak centroid 437.2388 m/z, 51\n",
      "mass defect window [709]: 454.1002-454.3356 Da\n",
      "\tpeak mass [454.2557]\n",
      "\tpeak m/z [453.2484]\n",
      "\tpeak centroid 453.2484 m/z, 92\n",
      "mass defect window [719]: 459.1024-459.3383 Da\n",
      "\tpeak mass [459.2511]\n",
      "\tpeak m/z [458.2438]\n",
      "\tpeak centroid 458.2438 m/z, 23\n",
      "mass defect window [737]: 468.1062-468.343 Da\n",
      "\tpeak mass [468.2361]\n",
      "\tpeak m/z [467.2288]\n",
      "\tpeak centroid 467.2288 m/z, 47\n",
      "mass defect window [757]: 478.1105-478.3483 Da\n",
      "\tpeak mass [478.2379]\n",
      "\tpeak m/z [477.2306]\n",
      "\tpeak centroid 477.2306 m/z, 21\n",
      "mass defect window [773]: 486.114-486.3526 Da\n",
      "\tpeak mass [486.249]\n",
      "\tpeak m/z [485.2417]\n",
      "\tpeak centroid 485.2417 m/z, 55\n",
      "mass defect window [801]: 500.12-500.36 Da\n",
      "\tpeak mass [500.2103 500.2561]\n",
      "\tpeak m/z [499.203  499.2488]\n",
      "\tpeak centroid 499.2249 m/z, 96\n",
      "mass defect window [811]: 505.1222-505.3626 Da\n",
      "\tpeak mass [505.2574]\n",
      "\tpeak m/z [504.2501]\n",
      "\tpeak centroid 504.2501 m/z, 26\n",
      "mass defect window [817]: 508.1234-508.3642 Da\n",
      "\tpeak mass [508.2147]\n",
      "\tpeak m/z [507.2074]\n",
      "\tpeak centroid 507.2074 m/z, 65\n",
      "mass defect window [825]: 512.1252-512.3664 Da\n",
      "\tpeak mass [512.2568 512.2604]\n",
      "\tpeak m/z [511.2495 511.2531]\n",
      "\tpeak centroid 511.2516 m/z, 99\n",
      "mass defect window [845]: 522.1295-522.3717 Da\n",
      "\tpeak mass [522.1443]\n",
      "\tpeak m/z [521.137]\n",
      "\tpeak centroid 521.137 m/z, 10\n",
      "mass defect window [861]: 530.1329-530.3759 Da\n",
      "\tpeak mass [530.2675 530.3618]\n",
      "\tpeak m/z [529.2602 529.3545]\n",
      "\tpeak centroid 529.2979 m/z, 105\n",
      "mass defect window [883]: 541.1376-541.3817 Da\n",
      "\tpeak mass [541.2427 541.2463 541.2573]\n",
      "\tpeak m/z [540.2354 540.239  540.25  ]\n",
      "\tpeak centroid 540.2434 m/z, 74\n",
      "mass defect window [891]: 545.1394-545.3839 Da\n",
      "\tpeak mass [545.2595]\n",
      "\tpeak m/z [544.2522]\n",
      "\tpeak centroid 544.2522 m/z, 73\n",
      "mass defect window [903]: 551.1419-551.387 Da\n",
      "\tpeak mass [551.2647]\n",
      "\tpeak m/z [550.2574]\n",
      "\tpeak centroid 550.2574 m/z, 27\n",
      "mass defect window [911]: 555.1436-555.3892 Da\n",
      "\tpeak mass [555.3074]\n",
      "\tpeak m/z [554.3001]\n",
      "\tpeak centroid 554.3001 m/z, 82\n",
      "mass defect window [951]: 575.1523-575.3998 Da\n",
      "\tpeak mass [575.3161]\n",
      "\tpeak m/z [574.3088]\n",
      "\tpeak centroid 574.3088 m/z, 41\n",
      "mass defect window [955]: 577.1531-577.4008 Da\n",
      "\tpeak mass [577.2752]\n",
      "\tpeak m/z [576.2679]\n",
      "\tpeak centroid 576.2679 m/z, 49\n",
      "mass defect window [965]: 582.1553-582.4035 Da\n",
      "\tpeak mass [582.2749]\n",
      "\tpeak m/z [581.2676]\n",
      "\tpeak centroid 581.2676 m/z, 65\n",
      "mass defect window [979]: 589.1583-589.4072 Da\n",
      "\tpeak mass [589.2067]\n",
      "\tpeak m/z [588.1994]\n",
      "\tpeak centroid 588.1994 m/z, 9\n",
      "mass defect window [987]: 593.16-593.4093 Da\n",
      "\tpeak mass [593.2519]\n",
      "\tpeak m/z [592.2446]\n",
      "\tpeak centroid 592.2446 m/z, 43\n",
      "mass defect window [1001]: 600.163-600.413 Da\n",
      "\tpeak mass [600.3645]\n",
      "\tpeak m/z [599.3572]\n",
      "\tpeak centroid 599.3572 m/z, 11\n",
      "mass defect window [1019]: 609.1669-609.4178 Da\n",
      "\tpeak mass [609.3382]\n",
      "\tpeak m/z [608.3309]\n",
      "\tpeak centroid 608.3309 m/z, 50\n",
      "mass defect window [1033]: 616.1699-616.4215 Da\n",
      "\tpeak mass [616.2961 616.3665]\n",
      "\tpeak m/z [615.2888 615.3592]\n",
      "\tpeak centroid 615.3175 m/z, 93\n",
      "mass defect window [1037]: 618.1707-618.4225 Da\n",
      "\tpeak mass [618.2454]\n",
      "\tpeak m/z [617.2381]\n",
      "\tpeak centroid 617.2381 m/z, 90\n",
      "mass defect window [1051]: 625.1738-625.4263 Da\n",
      "\tpeak mass [625.3406]\n",
      "\tpeak m/z [624.3333]\n",
      "\tpeak centroid 624.3333 m/z, 9\n",
      "mass defect window [1087]: 643.1815-643.4358 Da\n",
      "\tpeak mass [643.3398]\n",
      "\tpeak m/z [642.3325]\n",
      "\tpeak centroid 642.3325 m/z, 60\n",
      "mass defect window [1105]: 652.1854-652.4406 Da\n",
      "\tpeak mass [652.2904]\n",
      "\tpeak m/z [651.2831]\n",
      "\tpeak centroid 651.2831 m/z, 31\n",
      "mass defect window [1133]: 666.1914-666.448 Da\n",
      "\tpeak mass [666.353]\n",
      "\tpeak m/z [665.3457]\n",
      "\tpeak centroid 665.3457 m/z, 24\n",
      "mass defect window [1141]: 670.1931-670.4501 Da\n",
      "\tpeak mass [670.3857]\n",
      "\tpeak m/z [669.3784]\n",
      "\tpeak centroid 669.3784 m/z, 55\n",
      "mass defect window [1147]: 673.1944-673.4517 Da\n",
      "\tpeak mass [673.3057]\n",
      "\tpeak m/z [672.2984]\n",
      "\tpeak centroid 672.2984 m/z, 40\n",
      "mass defect window [1203]: 701.2064-701.4665 Da\n",
      "\tpeak mass [701.3694]\n",
      "\tpeak m/z [700.3621]\n",
      "\tpeak centroid 700.3621 m/z, 87\n",
      "mass defect window [1219]: 709.2099-709.4708 Da\n",
      "\tpeak mass [709.3035]\n",
      "\tpeak m/z [708.2962]\n",
      "\tpeak centroid 708.2962 m/z, 67\n",
      "mass defect window [1231]: 715.2124-715.474 Da\n",
      "\tpeak mass [715.4183]\n",
      "\tpeak m/z [714.411]\n",
      "\tpeak centroid 714.411 m/z, 33\n",
      "mass defect window [1341]: 770.2361-770.5031 Da\n",
      "\tpeak mass [770.3171]\n",
      "\tpeak m/z [769.3098]\n",
      "\tpeak centroid 769.3098 m/z, 66\n",
      "mass defect window [1353]: 776.2387-776.5063 Da\n",
      "\tpeak mass [776.3468]\n",
      "\tpeak m/z [775.3395]\n",
      "\tpeak centroid 775.3395 m/z, 21\n",
      "mass defect window [1371]: 785.2426-785.511 Da\n",
      "\tpeak mass [785.3559]\n",
      "\tpeak m/z [784.3486]\n",
      "\tpeak centroid 784.3486 m/z, 77\n",
      "mass defect window [1391]: 795.2468-795.5164 Da\n",
      "\tpeak mass [795.4345]\n",
      "\tpeak m/z [794.4272]\n",
      "\tpeak centroid 794.4272 m/z, 52\n",
      "mass defect window [1425]: 812.2542-812.5254 Da\n",
      "\tpeak mass [812.3946]\n",
      "\tpeak m/z [811.3873]\n",
      "\tpeak centroid 811.3873 m/z, 48\n",
      "mass defect window [1453]: 826.2602-826.5328 Da\n",
      "\tpeak mass [826.4504]\n",
      "\tpeak m/z [825.4431]\n",
      "\tpeak centroid 825.4431 m/z, 12\n",
      "mass defect window [1511]: 855.2726-855.5482 Da\n",
      "\tpeak mass [855.3665 855.3665 855.3803]\n",
      "\tpeak m/z [854.3592 854.3592 854.373 ]\n",
      "\tpeak centroid 854.3639 m/z, 95\n",
      "mass defect window [1581]: 890.2877-890.5667 Da\n",
      "\tpeak mass [890.4474]\n",
      "\tpeak m/z [889.4401]\n",
      "\tpeak centroid 889.4401 m/z, 34\n",
      "mass defect window [1645]: 922.3015-922.5837 Da\n",
      "\tpeak mass [922.4776]\n",
      "\tpeak m/z [921.4703]\n",
      "\tpeak centroid 921.4703 m/z, 80\n",
      "mass defect window [1661]: 930.3049-930.5879 Da\n",
      "\tpeak mass [930.3634]\n",
      "\tpeak m/z [929.3561]\n",
      "\tpeak centroid 929.3561 m/z, 52\n",
      "mass defect window [1699]: 949.3131-949.598 Da\n",
      "\tpeak mass [949.4331]\n",
      "\tpeak m/z [948.4258]\n",
      "\tpeak centroid 948.4258 m/z, 9\n",
      "mass defect window [1707]: 953.3148-953.6001 Da\n",
      "\tpeak mass [953.4192]\n",
      "\tpeak m/z [952.4119]\n",
      "\tpeak centroid 952.4119 m/z, 84\n",
      "mass defect window [1739]: 969.3217-969.6086 Da\n",
      "\tpeak mass [969.4521 969.457  969.4668]\n",
      "\tpeak m/z [968.4448 968.4497 968.4595]\n",
      "\tpeak centroid 968.451 m/z, 177\n",
      "mass defect window [1883]: 1041.3526-1041.6467 Da\n",
      "\tpeak mass [1041.559]\n",
      "\tpeak m/z [1040.5517]\n",
      "\tpeak centroid 1040.5517 m/z, 9\n",
      "mass defect window [1899]: 1049.3561-1049.651 Da\n",
      "\tpeak mass [1049.5292]\n",
      "\tpeak m/z [1048.5219]\n",
      "\tpeak centroid 1048.5219 m/z, 28\n",
      "mass defect window [1913]: 1056.3591-1056.6547 Da\n",
      "\tpeak mass [1056.4898]\n",
      "\tpeak m/z [1055.4825]\n",
      "\tpeak centroid 1055.4825 m/z, 47\n",
      "mass defect window [1933]: 1066.3634-1066.66 Da\n",
      "\tpeak mass [1066.4152]\n",
      "\tpeak m/z [1065.4079]\n",
      "\tpeak centroid 1065.4079 m/z, 21\n",
      "mass defect window [1939]: 1069.3647-1069.6616 Da\n",
      "\tpeak mass [1069.4952 1069.5004]\n",
      "\tpeak m/z [1068.4879 1068.4931]\n",
      "\tpeak centroid 1068.492 m/z, 45\n",
      "mass defect window [2013]: 1106.3806-1106.6812 Da\n",
      "\tpeak mass [1106.5291]\n",
      "\tpeak m/z [1105.5218]\n",
      "\tpeak centroid 1105.5218 m/z, 21\n",
      "mass defect window [2055]: 1127.3896-1127.6923 Da\n",
      "\tpeak mass [1127.4885]\n",
      "\tpeak m/z [1126.4812]\n",
      "\tpeak centroid 1126.4812 m/z, 25\n",
      "mass defect window [2073]: 1136.3935-1136.6971 Da\n",
      "\tpeak mass [1136.5085]\n",
      "\tpeak m/z [1135.5012]\n",
      "\tpeak centroid 1135.5012 m/z, 30\n",
      "mass defect window [2123]: 1161.4042-1161.7103 Da\n",
      "\tpeak mass [1161.5005 1161.5112]\n",
      "\tpeak m/z [1160.4932 1160.5039]\n",
      "\tpeak centroid 1160.4988 m/z, 105\n",
      "mass defect window [2163]: 1181.4128-1181.7209 Da\n",
      "\tpeak mass [1181.5306]\n",
      "\tpeak m/z [1180.5233]\n",
      "\tpeak centroid 1180.5233 m/z, 23\n",
      "mass defect window [2199]: 1199.4206-1199.7305 Da\n",
      "\tpeak mass [1199.564]\n",
      "\tpeak m/z [1198.5567]\n",
      "\tpeak centroid 1198.5567 m/z, 21\n",
      "mass defect window [2267]: 1233.4352-1233.7485 Da\n",
      "\tpeak mass [1233.554]\n",
      "\tpeak m/z [1232.5467]\n",
      "\tpeak centroid 1232.5467 m/z, 41\n",
      "mass defect window [2271]: 1235.436-1235.7496 Da\n",
      "\tpeak mass [1235.5643]\n",
      "\tpeak m/z [1234.557]\n",
      "\tpeak centroid 1234.557 m/z, 34\n",
      "mass defect window [2319]: 1259.4464-1259.7623 Da\n",
      "\tpeak mass [1259.6031]\n",
      "\tpeak m/z [1258.5958]\n",
      "\tpeak centroid 1258.5958 m/z, 33\n",
      "mass defect window [2369]: 1284.4571-1284.7755 Da\n",
      "\tpeak mass [1284.5572]\n",
      "\tpeak m/z [1283.5499]\n",
      "\tpeak centroid 1283.5499 m/z, 76\n",
      "mass defect window [2403]: 1301.4644-1301.7845 Da\n",
      "\tpeak mass [1301.481]\n",
      "\tpeak m/z [1300.4737]\n",
      "\tpeak centroid 1300.4737 m/z, 9\n",
      "mass defect window [2521]: 1360.4898-1360.8158 Da\n",
      "\tpeak mass [1360.6624]\n",
      "\tpeak m/z [1359.6551]\n",
      "\tpeak centroid 1359.6551 m/z, 9\n",
      "mass defect window [2567]: 1383.4997-1383.828 Da\n",
      "\tpeak mass [1383.8076]\n",
      "\tpeak m/z [1382.8003]\n",
      "\tpeak centroid 1382.8003 m/z, 10\n",
      "mass defect window [2967]: 1583.5857-1583.934 Da\n",
      "\tpeak mass [1583.7706]\n",
      "\tpeak m/z [1582.7633]\n",
      "\tpeak centroid 1582.7633 m/z, 9\n"
     ]
    }
   ],
   "source": [
    "peak_idx = 1\n",
    "orphan_indexes = []\n",
    "for i in range(len(orphaned_chunk_sizes)):\n",
    "    chunk_size = orphaned_chunk_sizes[i]\n",
    "    chunk_start = orphaned_chunk_starts[i]\n",
    "    for chunk_idx in range(chunk_size):\n",
    "        index = unique_mass_defect_window_indexes[chunk_start+chunk_idx]\n",
    "        lower_mass = round(bins[index-1],4)\n",
    "        upper_mass = round(bins[index],4)\n",
    "        print(\"mass defect window [{}]: {}-{} Da\".format(index, lower_mass, upper_mass))\n",
    "        orphan_indexes.append(index)\n",
    "        # get the raw points allocated to this bin\n",
    "        peak_indexes = np.where(digitised_mass == index)[0]\n",
    "        print(\"\\tpeak mass {}\".format(np.round(decharged_mass_a[peak_indexes],4)))\n",
    "        print(\"\\tpeak m/z {}\".format(np.round(mz_a[peak_indexes],4)))\n",
    "        mz_centroid = np.average(mz_a[peak_indexes], weights=intensity_a[peak_indexes])\n",
    "        intensity = np.sum(intensity_a[peak_indexes])\n",
    "        print(\"\\tpeak centroid {} m/z, {}\".format(np.round(mz_centroid,4), intensity))\n",
    "        monoisotopic_mass = (mz_centroid - PROTON_MASS) * charge\n",
    "        peaks_l.append((0, monoisotopic_mass, intensity))\n",
    "        peak_idx += 1\n",
    "        "
   ]
  },
  {
   "cell_type": "code",
   "execution_count": 694,
   "metadata": {},
   "outputs": [
    {
     "data": {
      "text/plain": [
       "[]"
      ]
     },
     "execution_count": 694,
     "metadata": {},
     "output_type": "execute_result"
    }
   ],
   "source": [
    "# intersection between sets of mass defect windows\n",
    "list(set(isotope_series_indexes) & set(orphan_indexes))"
   ]
  },
  {
   "cell_type": "code",
   "execution_count": 698,
   "metadata": {},
   "outputs": [],
   "source": [
    "peaks_df = pd.DataFrame(peaks_l, columns=['series','monoisotopic_mass','intensity'])\n",
    "peaks_df['normalised_intensity'] = peaks_df.intensity / peaks_df.intensity.max()"
   ]
  },
  {
   "cell_type": "code",
   "execution_count": 699,
   "metadata": {},
   "outputs": [
    {
     "data": {
      "image/png": "[encoded data removed]",
      "text/plain": [
       "<Figure size 1080x720 with 1 Axes>"
      ]
     },
     "metadata": {
      "needs_background": "light"
     },
     "output_type": "display_data"
    }
   ],
   "source": [
    "f, ax = plt.subplots()\n",
    "colors = ['tab:blue', 'tab:orange', 'tab:green', 'tab:red', 'tab:purple', 'tab:brown', 'tab:pink', 'tab:gray', 'tab:olive', 'tab:cyan']\n",
    "\n",
    "markerline, stemlines, baseline = ax.stem(feature_raw_ms2_df.mz, feature_raw_ms2_df.normalised_intensity, label='before deconvolution', use_line_collection=True)\n",
    "plt.setp(markerline, 'color', colors[1])\n",
    "plt.setp(stemlines, 'color', colors[1])\n",
    "plt.setp(baseline, 'color', colors[7])\n",
    "\n",
    "groups = peaks_df.groupby('series')\n",
    "for i, (name, group) in enumerate(groups):\n",
    "    markerline, stemlines, baseline = ax.stem(group.monoisotopic_mass, -group.normalised_intensity, label=name, use_line_collection=True)\n",
    "    plt.setp(markerline, 'color', colors[i % len(colors)])\n",
    "    plt.setp(stemlines, 'color', colors[i % len(colors)])\n",
    "    plt.setp(baseline, 'color', colors[7])\n",
    "\n",
    "plt.xlabel('m/z')\n",
    "plt.ylabel('intensity')\n",
    "f.set_figheight(10)\n",
    "f.set_figwidth(15)\n",
    "ax.set_xlim((200,1400))\n",
    "plt.margins(0.06)\n",
    "# plt.legend(loc='best')\n",
    "plt.title('Comparing ms2 spectra before and after deconvolution for feature {} (for charge {})'.format(feature_id, charge))\n",
    "plt.show()"
   ]
  },
  {
   "cell_type": "code",
   "execution_count": null,
   "metadata": {},
   "outputs": [],
   "source": []
  }
 ],
 "metadata": {
  "kernelspec": {
   "display_name": "Python 3",
   "language": "python",
   "name": "python3"
  },
  "language_info": {
   "codemirror_mode": {
    "name": "ipython",
    "version": 3
   },
   "file_extension": ".py",
   "mimetype": "text/x-python",
   "name": "python",
   "nbconvert_exporter": "python",
   "pygments_lexer": "ipython3",
   "version": "3.6.8"
  }
 },
 "nbformat": 4,
 "nbformat_minor": 2
}
