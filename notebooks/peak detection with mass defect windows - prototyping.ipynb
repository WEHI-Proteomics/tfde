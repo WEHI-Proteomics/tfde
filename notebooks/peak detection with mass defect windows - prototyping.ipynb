{
 "cells": [
  {
   "cell_type": "code",
   "execution_count": 574,
   "metadata": {},
   "outputs": [],
   "source": [
    "import pandas as pd\n",
    "import numpy as np\n",
    "import sys\n",
    "import matplotlib.pyplot as plt\n",
    "from sys import getsizeof\n",
    "from numba import njit"
   ]
  },
  {
   "cell_type": "code",
   "execution_count": 575,
   "metadata": {},
   "outputs": [],
   "source": [
    "feature_id = 1\n",
    "DELTA_MZ = 1.003355  # Mass difference between Carbon-12 and Carbon-13 isotopes, in Da. For calculating the spacing between isotopic peaks.\n",
    "PROTON_MASS = 1.0073  # Mass of a proton in unified atomic mass units, or Da. For calculating the monoisotopic mass."
   ]
  },
  {
   "cell_type": "code",
   "execution_count": 576,
   "metadata": {},
   "outputs": [],
   "source": [
    "DA_MIN = 100\n",
    "DA_MAX = 4000\n",
    "charge = 1"
   ]
  },
  {
   "cell_type": "code",
   "execution_count": 577,
   "metadata": {},
   "outputs": [],
   "source": [
    "feature_raw_ms2_df = pd.read_pickle('/Users/darylwilding-mcbride/Downloads/feature-{}-ms2-raw-points.pkl'.format(feature_id))\n",
    "feature_raw_ms2_df.sort_values(by=['mz'], ascending=True, inplace=True)\n",
    "feature_raw_ms2_df['decharged_mass'] = (feature_raw_ms2_df.mz + PROTON_MASS) * charge\n",
    "feature_raw_ms2_df['normalised_intensity'] = feature_raw_ms2_df.intensity / feature_raw_ms2_df.intensity.max()"
   ]
  },
  {
   "cell_type": "code",
   "execution_count": 578,
   "metadata": {},
   "outputs": [
    {
     "data": {
      "text/html": [
       "<div>\n",
       "<style scoped>\n",
       "    .dataframe tbody tr th:only-of-type {\n",
       "        vertical-align: middle;\n",
       "    }\n",
       "\n",
       "    .dataframe tbody tr th {\n",
       "        vertical-align: top;\n",
       "    }\n",
       "\n",
       "    .dataframe thead th {\n",
       "        text-align: right;\n",
       "    }\n",
       "</style>\n",
       "<table border=\"1\" class=\"dataframe\">\n",
       "  <thead>\n",
       "    <tr style=\"text-align: right;\">\n",
       "      <th></th>\n",
       "      <th>frame_id</th>\n",
       "      <th>mz</th>\n",
       "      <th>intensity</th>\n",
       "      <th>decharged_mass</th>\n",
       "      <th>normalised_intensity</th>\n",
       "    </tr>\n",
       "  </thead>\n",
       "  <tbody>\n",
       "    <tr>\n",
       "      <th>0</th>\n",
       "      <td>27938</td>\n",
       "      <td>133.596214</td>\n",
       "      <td>9</td>\n",
       "      <td>134.603514</td>\n",
       "      <td>0.068182</td>\n",
       "    </tr>\n",
       "    <tr>\n",
       "      <th>1</th>\n",
       "      <td>27938</td>\n",
       "      <td>180.467447</td>\n",
       "      <td>9</td>\n",
       "      <td>181.474747</td>\n",
       "      <td>0.068182</td>\n",
       "    </tr>\n",
       "    <tr>\n",
       "      <th>2</th>\n",
       "      <td>27938</td>\n",
       "      <td>213.418260</td>\n",
       "      <td>9</td>\n",
       "      <td>214.425560</td>\n",
       "      <td>0.068182</td>\n",
       "    </tr>\n",
       "    <tr>\n",
       "      <th>3</th>\n",
       "      <td>27938</td>\n",
       "      <td>266.156364</td>\n",
       "      <td>9</td>\n",
       "      <td>267.163664</td>\n",
       "      <td>0.068182</td>\n",
       "    </tr>\n",
       "    <tr>\n",
       "      <th>4</th>\n",
       "      <td>27938</td>\n",
       "      <td>268.404245</td>\n",
       "      <td>9</td>\n",
       "      <td>269.411545</td>\n",
       "      <td>0.068182</td>\n",
       "    </tr>\n",
       "  </tbody>\n",
       "</table>\n",
       "</div>"
      ],
      "text/plain": [
       "   frame_id          mz  intensity  decharged_mass  normalised_intensity\n",
       "0     27938  133.596214          9      134.603514              0.068182\n",
       "1     27938  180.467447          9      181.474747              0.068182\n",
       "2     27938  213.418260          9      214.425560              0.068182\n",
       "3     27938  266.156364          9      267.163664              0.068182\n",
       "4     27938  268.404245          9      269.411545              0.068182"
      ]
     },
     "execution_count": 578,
     "metadata": {},
     "output_type": "execute_result"
    }
   ],
   "source": [
    "feature_raw_ms2_df.head()"
   ]
  },
  {
   "cell_type": "code",
   "execution_count": 579,
   "metadata": {},
   "outputs": [
    {
     "data": {
      "text/plain": [
       "215"
      ]
     },
     "execution_count": 579,
     "metadata": {},
     "output_type": "execute_result"
    }
   ],
   "source": [
    "len(feature_raw_ms2_df)"
   ]
  },
  {
   "cell_type": "code",
   "execution_count": 580,
   "metadata": {},
   "outputs": [],
   "source": [
    "# generate a charge-aware mask of mass defect windows\n",
    "bin_edges_l = []\n",
    "for nominal_mass in np.arange(start=DA_MIN, stop=DA_MAX, step=1/charge):\n",
    "    proton_mass_adjustment = (charge - 1) * PROTON_MASS\n",
    "    mass_centre = (nominal_mass + proton_mass_adjustment) * 1.00048  # from https://www.ncbi.nlm.nih.gov/pmc/articles/PMC3184890/\n",
    "    width = (0.19 + (0.0001 * nominal_mass)) / charge\n",
    "    lower_mass = mass_centre - (width / 2)\n",
    "    upper_mass = mass_centre + (width / 2)\n",
    "    bin_edges_l.append(lower_mass)\n",
    "    bin_edges_l.append(upper_mass)\n",
    "bins = np.asarray(bin_edges_l)"
   ]
  },
  {
   "cell_type": "code",
   "execution_count": 581,
   "metadata": {},
   "outputs": [
    {
     "data": {
      "text/plain": [
       "array([ 99.948  , 100.148  , 100.94843, 101.14853, 101.94886, 102.14906,\n",
       "       102.94929, 103.14959, 103.94972, 104.15012, 104.95015, 105.15065,\n",
       "       105.95058, 106.15118, 106.95101, 107.15171, 107.95144, 108.15224,\n",
       "       108.95187, 109.15277])"
      ]
     },
     "execution_count": 581,
     "metadata": {},
     "output_type": "execute_result"
    }
   ],
   "source": [
    "bins[:20]"
   ]
  },
  {
   "cell_type": "code",
   "execution_count": 582,
   "metadata": {},
   "outputs": [
    {
     "data": {
      "text/plain": [
       "1"
      ]
     },
     "execution_count": 582,
     "metadata": {},
     "output_type": "execute_result"
    }
   ],
   "source": [
    "np.digitize(99.95, bins)"
   ]
  },
  {
   "cell_type": "code",
   "execution_count": 583,
   "metadata": {},
   "outputs": [],
   "source": [
    "decharged_mass_a = feature_raw_ms2_df.decharged_mass.to_numpy()\n",
    "mz_a = feature_raw_ms2_df.mz.to_numpy()\n",
    "intensity_a = feature_raw_ms2_df.intensity.to_numpy()\n",
    "available_a = np.full((len(mz_a)), True)  # the raw points not yet assigned to a peak"
   ]
  },
  {
   "cell_type": "code",
   "execution_count": 584,
   "metadata": {},
   "outputs": [
    {
     "data": {
      "text/plain": [
       "array([  70,  164,  230,  335,  340,  384,  385,  391,  409,  441,  453,\n",
       "        459,  511,  522,  525,  525,  553,  597,  603,  607,  609,  619,\n",
       "        626,  627,  629,  633,  637,  651,  661,  665,  665,  669,  677,\n",
       "        709,  719,  734,  737,  757,  773,  782,  801,  801,  811,  817,\n",
       "        825,  825,  827,  828,  845,  847,  861,  861,  863,  863,  865,\n",
       "        867,  867,  883,  883,  883,  885,  885,  887,  887,  887,  891,\n",
       "        903,  905,  911,  918,  951,  955,  960,  965,  979,  987, 1001,\n",
       "       1019, 1021, 1033, 1033, 1037, 1051, 1053, 1086, 1087, 1088, 1089,\n",
       "       1105, 1133, 1141, 1143, 1147, 1149, 1194, 1202, 1203, 1219, 1231,\n",
       "       1258, 1302, 1302, 1318, 1341, 1353, 1371, 1373, 1373, 1375, 1375,\n",
       "       1375, 1391, 1425, 1453, 1511, 1511, 1511, 1513, 1513, 1513, 1513,\n",
       "       1513, 1513, 1515, 1515, 1515, 1515, 1515, 1515, 1515, 1515, 1515,\n",
       "       1515, 1515, 1515, 1517, 1517, 1517, 1517, 1517, 1517, 1517, 1517,\n",
       "       1517, 1518, 1522, 1581, 1645, 1661, 1699, 1707, 1720, 1739, 1739,\n",
       "       1739, 1741, 1741, 1743, 1745, 1745, 1804, 1854, 1883, 1899, 1908,\n",
       "       1913, 1933, 1939, 1939, 1941, 1941, 1941, 1941, 1941, 1943, 1943,\n",
       "       1943, 1943, 1943, 1945, 1945, 1947, 1949, 1958, 2013, 2055, 2073,\n",
       "       2123, 2123, 2126, 2163, 2165, 2167, 2199, 2201, 2201, 2203, 2203,\n",
       "       2203, 2203, 2203, 2205, 2205, 2205, 2216, 2267, 2271, 2294, 2319,\n",
       "       2369, 2403, 2478, 2521, 2567, 2967])"
      ]
     },
     "execution_count": 584,
     "metadata": {},
     "output_type": "execute_result"
    }
   ],
   "source": [
    "digitised_mass = np.digitize(decharged_mass_a[available_a == True], bins)  # an odd index means the point is inside a mass defect window\n",
    "digitised_mass"
   ]
  },
  {
   "cell_type": "code",
   "execution_count": 585,
   "metadata": {},
   "outputs": [],
   "source": [
    "# consecutive odd indexes means consecutive windows, suggesting a series of isotopic peaks"
   ]
  },
  {
   "cell_type": "code",
   "execution_count": 586,
   "metadata": {},
   "outputs": [
    {
     "data": {
      "text/plain": [
       "array([ 335,  385,  391,  409,  441,  453,  459,  511,  525,  525,  553,\n",
       "        597,  603,  607,  609,  619,  627,  629,  633,  637,  651,  661,\n",
       "        665,  665,  669,  677,  709,  719,  737,  757,  773,  801,  801,\n",
       "        811,  817,  825,  825,  827,  845,  847,  861,  861,  863,  863,\n",
       "        865,  867,  867,  883,  883,  883,  885,  885,  887,  887,  887,\n",
       "        891,  903,  905,  911,  951,  955,  965,  979,  987, 1001, 1019,\n",
       "       1021, 1033, 1033, 1037, 1051, 1053, 1087, 1089, 1105, 1133, 1141,\n",
       "       1143, 1147, 1149, 1203, 1219, 1231, 1341, 1353, 1371, 1373, 1373,\n",
       "       1375, 1375, 1375, 1391, 1425, 1453, 1511, 1511, 1511, 1513, 1513,\n",
       "       1513, 1513, 1513, 1513, 1515, 1515, 1515, 1515, 1515, 1515, 1515,\n",
       "       1515, 1515, 1515, 1515, 1515, 1517, 1517, 1517, 1517, 1517, 1517,\n",
       "       1517, 1517, 1517, 1581, 1645, 1661, 1699, 1707, 1739, 1739, 1739,\n",
       "       1741, 1741, 1743, 1745, 1745, 1883, 1899, 1913, 1933, 1939, 1939,\n",
       "       1941, 1941, 1941, 1941, 1941, 1943, 1943, 1943, 1943, 1943, 1945,\n",
       "       1945, 1947, 1949, 2013, 2055, 2073, 2123, 2123, 2163, 2165, 2167,\n",
       "       2199, 2201, 2201, 2203, 2203, 2203, 2203, 2203, 2205, 2205, 2205,\n",
       "       2267, 2271, 2319, 2369, 2403, 2521, 2567, 2967])"
      ]
     },
     "execution_count": 586,
     "metadata": {},
     "output_type": "execute_result"
    }
   ],
   "source": [
    "# remove all the even indexes - the odd indexes are the mass defect windows\n",
    "mass_defect_window_indexes = digitised_mass[(digitised_mass % 2) == 1]\n",
    "mass_defect_window_indexes"
   ]
  },
  {
   "cell_type": "code",
   "execution_count": 587,
   "metadata": {},
   "outputs": [
    {
     "data": {
      "text/plain": [
       "array([ 335,  385,  391,  409,  441,  453,  459,  511,  525,  553,  597,\n",
       "        603,  607,  609,  619,  627,  629,  633,  637,  651,  661,  665,\n",
       "        669,  677,  709,  719,  737,  757,  773,  801,  811,  817,  825,\n",
       "        827,  845,  847,  861,  863,  865,  867,  883,  885,  887,  891,\n",
       "        903,  905,  911,  951,  955,  965,  979,  987, 1001, 1019, 1021,\n",
       "       1033, 1037, 1051, 1053, 1087, 1089, 1105, 1133, 1141, 1143, 1147,\n",
       "       1149, 1203, 1219, 1231, 1341, 1353, 1371, 1373, 1375, 1391, 1425,\n",
       "       1453, 1511, 1513, 1515, 1517, 1581, 1645, 1661, 1699, 1707, 1739,\n",
       "       1741, 1743, 1745, 1883, 1899, 1913, 1933, 1939, 1941, 1943, 1945,\n",
       "       1947, 1949, 2013, 2055, 2073, 2123, 2163, 2165, 2167, 2199, 2201,\n",
       "       2203, 2205, 2267, 2271, 2319, 2369, 2403, 2521, 2567, 2967])"
      ]
     },
     "execution_count": 587,
     "metadata": {},
     "output_type": "execute_result"
    }
   ],
   "source": [
    "# remove the duplicates\n",
    "unique_mass_defect_window_indexes = np.unique(mass_defect_window_indexes)\n",
    "unique_mass_defect_window_indexes"
   ]
  },
  {
   "cell_type": "code",
   "execution_count": 588,
   "metadata": {},
   "outputs": [],
   "source": [
    "# the elements of unique_mass_defect_window_indexes are the bin indexes (mass defect windows) that have signal present"
   ]
  },
  {
   "cell_type": "code",
   "execution_count": 589,
   "metadata": {},
   "outputs": [
    {
     "data": {
      "text/plain": [
       "array([False, False, False, False, False, False, False, False, False,\n",
       "       False, False, False,  True, False, False,  True, False, False,\n",
       "       False, False, False, False, False, False, False, False, False,\n",
       "       False, False, False, False, False,  True, False,  True, False,\n",
       "        True,  True,  True, False,  True,  True, False, False,  True,\n",
       "       False, False, False, False, False, False, False, False,  True,\n",
       "       False, False, False,  True, False,  True, False, False, False,\n",
       "        True, False,  True, False, False, False, False, False, False,\n",
       "        True,  True, False, False, False, False,  True,  True,  True,\n",
       "       False, False, False, False, False, False,  True,  True,  True,\n",
       "       False, False, False, False, False,  True,  True,  True,  True,\n",
       "        True, False, False, False, False, False,  True,  True, False,\n",
       "        True,  True,  True, False, False, False, False, False, False,\n",
       "       False, False])"
      ]
     },
     "execution_count": 589,
     "metadata": {},
     "output_type": "execute_result"
    }
   ],
   "source": [
    "# find where the windows are consecutive\n",
    "condition = (np.diff(unique_mass_defect_window_indexes) == 2)\n",
    "condition"
   ]
  },
  {
   "cell_type": "code",
   "execution_count": 590,
   "metadata": {},
   "outputs": [
    {
     "data": {
      "text/plain": [
       "array([1, 1, 1, 1, 3, 2, 1, 1, 1, 1, 1, 1, 2, 3, 3, 5, 2, 3])"
      ]
     },
     "execution_count": 590,
     "metadata": {},
     "output_type": "execute_result"
    }
   ],
   "source": [
    "chunk_sizes = np.diff(np.where(np.concatenate(([condition[0]],\n",
    "                                     condition[:-1] != condition[1:],\n",
    "                                     [True])))[0])[::2]\n",
    "chunk_sizes"
   ]
  },
  {
   "cell_type": "code",
   "execution_count": 591,
   "metadata": {},
   "outputs": [
    {
     "data": {
      "text/plain": [
       "array([ 12,  15,  32,  34,  36,  37,  38,  40,  41,  44,  53,  57,  59,\n",
       "        63,  65,  72,  73,  78,  79,  80,  87,  88,  89,  95,  96,  97,\n",
       "        98,  99, 105, 106, 108, 109, 110])"
      ]
     },
     "execution_count": 591,
     "metadata": {},
     "output_type": "execute_result"
    }
   ],
   "source": [
    "consecutive_window_indexes = np.where(condition == True)[0]\n",
    "consecutive_window_indexes"
   ]
  },
  {
   "cell_type": "code",
   "execution_count": 592,
   "metadata": {
    "scrolled": false
   },
   "outputs": [
    {
     "name": "stdout",
     "output_type": "stream",
     "text": [
      "isotope series 1 (2 peaks):\n",
      "mass defect window [607]: 403.0783-403.3086 Da\n",
      "\tpeak mass [403.2262]\n",
      "\tpeak m/z [402.2189]\n",
      "\tpeak centroid 402.2189 m/z, 10\n",
      "mass defect window [609]: 404.0787-404.3091 Da\n",
      "\tpeak mass [404.2008]\n",
      "\tpeak m/z [403.1935]\n",
      "\tpeak centroid 403.1935 m/z, 23\n",
      "de-isotoped m/z [402.2189 402.1902]\n",
      "de-isotoped m/z centroid 402.1989\n",
      "monoisotopic mass 401.1916 Da\n",
      "\n",
      "isotope series 2 (2 peaks):\n",
      "mass defect window [627]: 413.0826-413.3139 Da\n",
      "\tpeak mass [413.2652]\n",
      "\tpeak m/z [412.2579]\n",
      "\tpeak centroid 412.2579 m/z, 27\n",
      "mass defect window [629]: 414.083-414.3144 Da\n",
      "\tpeak mass [414.2615]\n",
      "\tpeak m/z [413.2542]\n",
      "\tpeak centroid 413.2542 m/z, 114\n",
      "de-isotoped m/z [412.2579 412.2509]\n",
      "de-isotoped m/z centroid 412.2522\n",
      "monoisotopic mass 411.2449 Da\n",
      "\n",
      "isotope series 3 (2 peaks):\n",
      "mass defect window [825]: 512.1252-512.3664 Da\n",
      "\tpeak mass [512.2568 512.2604]\n",
      "\tpeak m/z [511.2495 511.2531]\n",
      "\tpeak centroid 511.2516 m/z, 99\n",
      "mass defect window [827]: 513.1256-513.3669 Da\n",
      "\tpeak mass [513.2627]\n",
      "\tpeak m/z [512.2554]\n",
      "\tpeak centroid 512.2554 m/z, 24\n",
      "de-isotoped m/z [511.2516 511.252 ]\n",
      "de-isotoped m/z centroid 511.2516\n",
      "monoisotopic mass 510.2443 Da\n",
      "\n",
      "isotope series 4 (2 peaks):\n",
      "mass defect window [845]: 522.1295-522.3717 Da\n",
      "\tpeak mass [522.1443]\n",
      "\tpeak m/z [521.137]\n",
      "\tpeak centroid 521.137 m/z, 10\n",
      "mass defect window [847]: 523.1299-523.3722 Da\n",
      "\tpeak mass [523.2607]\n",
      "\tpeak m/z [522.2534]\n",
      "\tpeak centroid 522.2534 m/z, 59\n",
      "de-isotoped m/z [521.137  521.2501]\n",
      "de-isotoped m/z centroid 521.2337\n",
      "monoisotopic mass 520.2264 Da\n",
      "\n",
      "isotope series 5 (4 peaks):\n",
      "mass defect window [861]: 530.1329-530.3759 Da\n",
      "\tpeak mass [530.2675 530.3618]\n",
      "\tpeak m/z [529.2602 529.3545]\n",
      "\tpeak centroid 529.2979 m/z, 105\n",
      "mass defect window [863]: 531.1333-531.3764 Da\n",
      "\tpeak mass [531.2656 531.2801]\n",
      "\tpeak m/z [530.2583 530.2728]\n",
      "\tpeak centroid 530.2655 m/z, 104\n",
      "mass defect window [865]: 532.1338-532.377 Da\n",
      "\tpeak mass [532.2754]\n",
      "\tpeak m/z [531.2681]\n",
      "\tpeak centroid 531.2681 m/z, 74\n",
      "mass defect window [867]: 533.1342-533.3775 Da\n",
      "\tpeak mass [533.2754 533.2826]\n",
      "\tpeak m/z [532.2681 532.2753]\n",
      "\tpeak centroid 532.2717 m/z, 131\n",
      "de-isotoped m/z [529.2979 529.2622 529.2614 529.2616]\n",
      "de-isotoped m/z centroid 529.2709\n",
      "monoisotopic mass 528.2636 Da\n",
      "\n",
      "isotope series 6 (3 peaks):\n",
      "mass defect window [883]: 541.1376-541.3817 Da\n",
      "\tpeak mass [541.2427 541.2463 541.2573]\n",
      "\tpeak m/z [540.2354 540.239  540.25  ]\n",
      "\tpeak centroid 540.2434 m/z, 74\n",
      "mass defect window [885]: 542.1381-542.3823 Da\n",
      "\tpeak mass [542.2547 542.262 ]\n",
      "\tpeak m/z [541.2474 541.2547]\n",
      "\tpeak centroid 541.2503 m/z, 110\n",
      "mass defect window [887]: 543.1385-543.3828 Da\n",
      "\tpeak mass [543.2456 543.2456 543.2492]\n",
      "\tpeak m/z [542.2383 542.2383 542.2419]\n",
      "\tpeak centroid 542.2387 m/z, 169\n",
      "de-isotoped m/z [540.2434 540.2469 540.232 ]\n",
      "de-isotoped m/z centroid 540.2391\n",
      "monoisotopic mass 539.2318 Da\n",
      "\n",
      "isotope series 7 (2 peaks):\n",
      "mass defect window [903]: 551.1419-551.387 Da\n",
      "\tpeak mass [551.2647]\n",
      "\tpeak m/z [550.2574]\n",
      "\tpeak centroid 550.2574 m/z, 27\n",
      "mass defect window [905]: 552.1424-552.3876 Da\n",
      "\tpeak mass [552.2231]\n",
      "\tpeak m/z [551.2158]\n",
      "\tpeak centroid 551.2158 m/z, 9\n",
      "de-isotoped m/z [550.2574 550.2124]\n",
      "de-isotoped m/z centroid 550.2461\n",
      "monoisotopic mass 549.2388 Da\n",
      "\n",
      "isotope series 8 (2 peaks):\n",
      "mass defect window [1019]: 609.1669-609.4178 Da\n",
      "\tpeak mass [609.3382]\n",
      "\tpeak m/z [608.3309]\n",
      "\tpeak centroid 608.3309 m/z, 50\n",
      "mass defect window [1021]: 610.1673-610.4183 Da\n",
      "\tpeak mass [610.3498]\n",
      "\tpeak m/z [609.3425]\n",
      "\tpeak centroid 609.3425 m/z, 80\n",
      "de-isotoped m/z [608.3309 608.3391]\n",
      "de-isotoped m/z centroid 608.336\n",
      "monoisotopic mass 607.3287 Da\n",
      "\n",
      "isotope series 9 (2 peaks):\n",
      "mass defect window [1051]: 625.1738-625.4263 Da\n",
      "\tpeak mass [625.3406]\n",
      "\tpeak m/z [624.3333]\n",
      "\tpeak centroid 624.3333 m/z, 9\n",
      "mass defect window [1053]: 626.1742-626.4268 Da\n",
      "\tpeak mass [626.3417]\n",
      "\tpeak m/z [625.3344]\n",
      "\tpeak centroid 625.3344 m/z, 42\n",
      "de-isotoped m/z [624.3333 624.331 ]\n",
      "de-isotoped m/z centroid 624.3314\n",
      "monoisotopic mass 623.3241 Da\n",
      "\n",
      "isotope series 10 (2 peaks):\n",
      "mass defect window [1087]: 643.1815-643.4358 Da\n",
      "\tpeak mass [643.3398]\n",
      "\tpeak m/z [642.3325]\n",
      "\tpeak centroid 642.3325 m/z, 60\n",
      "mass defect window [1089]: 644.1819-644.4363 Da\n",
      "\tpeak mass [644.3512]\n",
      "\tpeak m/z [643.3439]\n",
      "\tpeak centroid 643.3439 m/z, 59\n",
      "de-isotoped m/z [642.3325 642.3406]\n",
      "de-isotoped m/z centroid 642.3365\n",
      "monoisotopic mass 641.3292 Da\n",
      "\n",
      "isotope series 11 (2 peaks):\n",
      "mass defect window [1141]: 670.1931-670.4501 Da\n",
      "\tpeak mass [670.3857]\n",
      "\tpeak m/z [669.3784]\n",
      "\tpeak centroid 669.3784 m/z, 55\n",
      "mass defect window [1143]: 671.1935-671.4506 Da\n",
      "\tpeak mass [671.2998]\n",
      "\tpeak m/z [670.2925]\n",
      "\tpeak centroid 670.2925 m/z, 60\n",
      "de-isotoped m/z [669.3784 669.2891]\n",
      "de-isotoped m/z centroid 669.3318\n",
      "monoisotopic mass 668.3245 Da\n",
      "\n",
      "isotope series 12 (2 peaks):\n",
      "mass defect window [1147]: 673.1944-673.4517 Da\n",
      "\tpeak mass [673.3057]\n",
      "\tpeak m/z [672.2984]\n",
      "\tpeak centroid 672.2984 m/z, 40\n",
      "mass defect window [1149]: 674.1948-674.4522 Da\n",
      "\tpeak mass [674.3118]\n",
      "\tpeak m/z [673.3045]\n",
      "\tpeak centroid 673.3045 m/z, 31\n",
      "de-isotoped m/z [672.2984 672.3012]\n",
      "de-isotoped m/z centroid 672.2996\n",
      "monoisotopic mass 671.2923 Da\n",
      "\n",
      "isotope series 13 (3 peaks):\n",
      "mass defect window [1371]: 785.2426-785.511 Da\n",
      "\tpeak mass [785.3559]\n",
      "\tpeak m/z [784.3486]\n",
      "\tpeak centroid 784.3486 m/z, 77\n",
      "mass defect window [1373]: 786.243-786.5116 Da\n",
      "\tpeak mass [786.3366 786.3454]\n",
      "\tpeak m/z [785.3293 785.3381]\n",
      "\tpeak centroid 785.3305 m/z, 92\n",
      "mass defect window [1375]: 787.2434-787.5121 Da\n",
      "\tpeak mass [787.3355 787.3355 787.34  ]\n",
      "\tpeak m/z [786.3282 786.3282 786.3327]\n",
      "\tpeak centroid 786.3297 m/z, 146\n",
      "de-isotoped m/z [784.3486 784.3272 784.3229]\n",
      "de-isotoped m/z centroid 784.3304\n",
      "monoisotopic mass 783.3231 Da\n",
      "\n",
      "isotope series 14 (4 peaks):\n",
      "mass defect window [1511]: 855.2726-855.5482 Da\n",
      "\tpeak mass [855.3665 855.3665 855.3803]\n",
      "\tpeak m/z [854.3592 854.3592 854.373 ]\n",
      "\tpeak centroid 854.3639 m/z, 95\n",
      "mass defect window [1513]: 856.2731-856.5487 Da\n",
      "\tpeak mass [856.3623 856.3669 856.3808 856.3808 856.3854 856.3854]\n",
      "\tpeak m/z [855.355  855.3596 855.3735 855.3735 855.3781 855.3781]\n",
      "\tpeak centroid 855.3702 m/z, 281\n",
      "mass defect window [1515]: 857.2735-857.5492 Da\n",
      "\tpeak mass [857.3679 857.3679 857.3726 857.3726 857.3726 857.3772 857.3772 857.3772\n",
      " 857.3818 857.3818 857.3864 857.4187]\n",
      "\tpeak m/z [856.3606 856.3606 856.3653 856.3653 856.3653 856.3699 856.3699 856.3699\n",
      " 856.3745 856.3745 856.3791 856.4114]\n",
      "\tpeak centroid 856.3717 m/z, 528\n",
      "mass defect window [1517]: 858.2739-858.5497 Da\n",
      "\tpeak mass [858.3788 858.3788 858.3834 858.3834 858.3834 858.3926 858.3926 858.3926\n",
      " 858.3972]\n",
      "\tpeak m/z [857.3715 857.3715 857.3761 857.3761 857.3761 857.3853 857.3853 857.3853\n",
      " 857.3899]\n",
      "\tpeak centroid 857.3783 m/z, 288\n",
      "de-isotoped m/z [854.3639 854.3669 854.365  854.3683]\n",
      "de-isotoped m/z centroid 854.3661\n",
      "monoisotopic mass 853.3588 Da\n",
      "\n",
      "isotope series 15 (4 peaks):\n",
      "mass defect window [1739]: 969.3217-969.6086 Da\n",
      "\tpeak mass [969.4521 969.457  969.4668]\n",
      "\tpeak m/z [968.4448 968.4497 968.4595]\n",
      "\tpeak centroid 968.451 m/z, 177\n",
      "mass defect window [1741]: 970.3221-970.6091 Da\n",
      "\tpeak mass [970.4288 970.4632]\n",
      "\tpeak m/z [969.4215 969.4559]\n",
      "\tpeak centroid 969.444 m/z, 125\n",
      "mass defect window [1743]: 971.3225-971.6096 Da\n",
      "\tpeak mass [971.4699]\n",
      "\tpeak m/z [970.4626]\n",
      "\tpeak centroid 970.4626 m/z, 10\n",
      "mass defect window [1745]: 972.323-972.6102 Da\n",
      "\tpeak mass [972.4624 972.4722]\n",
      "\tpeak m/z [971.4551 971.4649]\n",
      "\tpeak centroid 971.4614 m/z, 86\n",
      "de-isotoped m/z [968.451  968.4407 968.4559 968.4513]\n",
      "de-isotoped m/z centroid 968.448\n",
      "monoisotopic mass 967.4407 Da\n",
      "\n",
      "isotope series 16 (6 peaks):\n",
      "mass defect window [1939]: 1069.3647-1069.6616 Da\n",
      "\tpeak mass [1069.4952 1069.5004]\n",
      "\tpeak m/z [1068.4879 1068.4931]\n",
      "\tpeak centroid 1068.492 m/z, 45\n",
      "mass defect window [1941]: 1070.3651-1070.6621 Da\n",
      "\tpeak mass [1070.4902 1070.5005 1070.5108 1070.516  1070.516 ]\n",
      "\tpeak m/z [1069.4829 1069.4932 1069.5035 1069.5087 1069.5087]\n",
      "\tpeak centroid 1069.5002 m/z, 181\n",
      "mass defect window [1943]: 1071.3655-1071.6626 Da\n",
      "\tpeak mass [1071.5218 1071.5218 1071.5218 1071.5321 1071.5372]\n",
      "\tpeak m/z [1070.5145 1070.5145 1070.5145 1070.5248 1070.5299]\n",
      "\tpeak centroid 1070.5216 m/z, 109\n",
      "mass defect window [1945]: 1072.366-1072.6632 Da\n",
      "\tpeak mass [1072.4971 1072.5074]\n",
      "\tpeak m/z [1071.4898 1071.5001]\n",
      "\tpeak centroid 1071.4915 m/z, 59\n",
      "mass defect window [1947]: 1073.3664-1073.6637 Da\n",
      "\tpeak mass [1073.4418]\n",
      "\tpeak m/z [1072.4345]\n",
      "\tpeak centroid 1072.4345 m/z, 35\n",
      "mass defect window [1949]: 1074.3668-1074.6642 Da\n",
      "\tpeak mass [1074.5058]\n",
      "\tpeak m/z [1073.4985]\n",
      "\tpeak centroid 1073.4985 m/z, 37\n",
      "de-isotoped m/z [1068.492  1068.4968 1068.5149 1068.4814 1068.4211 1068.4817]\n",
      "de-isotoped m/z centroid 1068.4917\n",
      "monoisotopic mass 1067.4844 Da\n",
      "\n",
      "isotope series 17 (3 peaks):\n",
      "mass defect window [2163]: 1181.4128-1181.7209 Da\n",
      "\tpeak mass [1181.5306]\n",
      "\tpeak m/z [1180.5233]\n",
      "\tpeak centroid 1180.5233 m/z, 23\n",
      "mass defect window [2165]: 1182.4133-1182.7215 Da\n",
      "\tpeak mass [1182.5494]\n",
      "\tpeak m/z [1181.5421]\n",
      "\tpeak centroid 1181.5421 m/z, 37\n",
      "mass defect window [2167]: 1183.4137-1183.722 Da\n",
      "\tpeak mass [1183.5469]\n",
      "\tpeak m/z [1182.5396]\n",
      "\tpeak centroid 1182.5396 m/z, 53\n",
      "de-isotoped m/z [1180.5233 1180.5387 1180.5329]\n",
      "de-isotoped m/z centroid 1180.5328\n",
      "monoisotopic mass 1179.5255 Da\n",
      "\n",
      "isotope series 18 (4 peaks):\n",
      "mass defect window [2199]: 1199.4206-1199.7305 Da\n",
      "\tpeak mass [1199.564]\n",
      "\tpeak m/z [1198.5567]\n",
      "\tpeak centroid 1198.5567 m/z, 21\n",
      "mass defect window [2201]: 1200.421-1200.731 Da\n",
      "\tpeak mass [1200.5304 1200.5686]\n",
      "\tpeak m/z [1199.5231 1199.5613]\n",
      "\tpeak centroid 1199.5471 m/z, 35\n",
      "mass defect window [2203]: 1201.4214-1201.7315 Da\n",
      "\tpeak mass [1201.4481 1201.53   1201.5519 1201.5519 1201.5573]\n",
      "\tpeak m/z [1200.4408 1200.5227 1200.5446 1200.5446 1200.55  ]\n",
      "\tpeak centroid 1200.518 m/z, 178\n",
      "mass defect window [2205]: 1202.4219-1202.7321 Da\n",
      "\tpeak mass [1202.5573 1202.5628 1202.5792]\n",
      "\tpeak m/z [1201.55   1201.5555 1201.5719]\n",
      "\tpeak centroid 1201.5555 m/z, 65\n",
      "de-isotoped m/z [1198.5567 1198.5438 1198.5112 1198.5454]\n",
      "de-isotoped m/z centroid 1198.5257\n",
      "monoisotopic mass 1197.5184 Da\n",
      "\n"
     ]
    }
   ],
   "source": [
    "peaks_l = []\n",
    "expected_peak_spacing = DELTA_MZ / charge\n",
    "for series_idx in range(len(chunk_sizes)):\n",
    "    number_of_windows = chunk_sizes[series_idx]\n",
    "    start_idx = chunk_sizes[:series_idx].sum()\n",
    "    index_list = consecutive_window_indexes[start_idx:start_idx+number_of_windows].tolist()\n",
    "    index_list.append(index_list[-1]+1)\n",
    "    print(\"isotope series {} ({} peaks):\".format(series_idx+1, number_of_windows+1))\n",
    "    mz_l = []\n",
    "    int_l = []\n",
    "    for peak_idx,i in enumerate(index_list):\n",
    "        lower_mass = round(bins[unique_mass_defect_window_indexes[i]-1],4)\n",
    "        upper_mass = round(bins[unique_mass_defect_window_indexes[i]],4)\n",
    "        print(\"mass defect window [{}]: {}-{} Da\".format(unique_mass_defect_window_indexes[i], lower_mass, upper_mass))\n",
    "        # get the raw points allocated to this bin\n",
    "        peak_indexes = np.where(digitised_mass == unique_mass_defect_window_indexes[i])[0]\n",
    "        print(\"\\tpeak mass {}\".format(np.round(decharged_mass_a[peak_indexes],4)))\n",
    "        print(\"\\tpeak m/z {}\".format(np.round(mz_a[peak_indexes],4)))\n",
    "        mz_centroid = np.average(mz_a[peak_indexes], weights=intensity_a[peak_indexes])\n",
    "        intensity = np.sum(intensity_a[peak_indexes])\n",
    "        mz_l.append(mz_centroid)\n",
    "        int_l.append(intensity)\n",
    "        print(\"\\tpeak centroid {} m/z, {}\".format(np.round(mz_centroid,4), intensity))\n",
    "        available_a[peak_indexes] = False\n",
    "        peaks_l.append((series_idx, peak_idx, mz_centroid, intensity))\n",
    "    # de-isotope the peaks\n",
    "    peaks_mz_a = np.array(mz_l)\n",
    "    peaks_int_a = np.array(int_l)\n",
    "    for i in range(len(peaks_mz_a)):\n",
    "        peaks_mz_a[i] = peaks_mz_a[i] - (i * expected_peak_spacing)\n",
    "    print(\"de-isotoped m/z {}\".format(np.round(peaks_mz_a,4)))\n",
    "    deisotoped_mz = np.average(peaks_mz_a, weights=peaks_int_a)\n",
    "    print(\"de-isotoped m/z centroid {}\".format(np.round(deisotoped_mz,4)))\n",
    "    monoisotopic_mass = (deisotoped_mz - PROTON_MASS) * charge\n",
    "    print(\"monoisotopic mass {} Da\".format(np.round(monoisotopic_mass,4)))\n",
    "    print()\n",
    "    "
   ]
  },
  {
   "cell_type": "code",
   "execution_count": 596,
   "metadata": {},
   "outputs": [
    {
     "data": {
      "text/plain": [
       "array([ True,  True,  True,  True,  True,  True,  True,  True,  True,\n",
       "        True,  True,  True,  True,  True,  True,  True,  True,  True,\n",
       "        True, False, False,  True,  True, False, False,  True,  True,\n",
       "        True,  True,  True,  True,  True,  True,  True,  True,  True,\n",
       "        True,  True,  True,  True,  True,  True,  True,  True, False,\n",
       "       False, False,  True, False, False, False, False, False, False,\n",
       "       False, False, False, False, False, False, False, False, False,\n",
       "       False, False,  True, False, False,  True,  True,  True,  True,\n",
       "        True,  True,  True,  True,  True, False, False,  True,  True,\n",
       "        True, False, False,  True, False,  True, False,  True,  True,\n",
       "       False, False, False, False,  True,  True,  True,  True,  True,\n",
       "        True,  True,  True,  True,  True,  True, False, False, False,\n",
       "       False, False, False,  True,  True,  True, False, False, False,\n",
       "       False, False, False, False, False, False, False, False, False,\n",
       "       False, False, False, False, False, False, False, False, False,\n",
       "       False, False, False, False, False, False, False, False, False,\n",
       "        True,  True,  True,  True,  True,  True,  True,  True, False,\n",
       "       False, False, False, False, False, False, False,  True,  True,\n",
       "        True,  True,  True,  True,  True, False, False, False, False,\n",
       "       False, False, False, False, False, False, False, False, False,\n",
       "       False, False, False,  True,  True,  True,  True,  True,  True,\n",
       "        True, False, False, False, False, False, False, False, False,\n",
       "       False, False, False, False, False, False,  True,  True,  True,\n",
       "        True,  True,  True,  True,  True,  True,  True,  True])"
      ]
     },
     "execution_count": 596,
     "metadata": {},
     "output_type": "execute_result"
    }
   ],
   "source": [
    "# peaks remaining after charge-2 and charge-1 processing are considered to be orphaned isotopes, truncated by \n",
    "# the original isolation window, that we still want to carry through.\n",
    "\n",
    "# need to group the remaining peaks by mass defect window, centroid the peaks in a window, and add them to our \n",
    "# list of peaks\n",
    "mass_defect_window_indexes\n"
   ]
  },
  {
   "cell_type": "code",
   "execution_count": 593,
   "metadata": {},
   "outputs": [],
   "source": [
    "peaks_df = pd.DataFrame(peaks_l, columns=['series','peak','mz','intensity'])\n",
    "peaks_df['normalised_intensity'] = peaks_df.intensity / peaks_df.intensity.max()"
   ]
  },
  {
   "cell_type": "code",
   "execution_count": 594,
   "metadata": {},
   "outputs": [
    {
     "data": {
      "image/png": "[encoded data removed]",
      "text/plain": [
       "<Figure size 1080x720 with 1 Axes>"
      ]
     },
     "metadata": {
      "needs_background": "light"
     },
     "output_type": "display_data"
    }
   ],
   "source": [
    "f, ax = plt.subplots()\n",
    "colors = ['tab:blue', 'tab:orange', 'tab:green', 'tab:red', 'tab:purple', 'tab:brown', 'tab:pink', 'tab:gray', 'tab:olive', 'tab:cyan']\n",
    "\n",
    "markerline, stemlines, baseline = ax.stem(feature_raw_ms2_df.mz, feature_raw_ms2_df.normalised_intensity, label='before deconvolution', use_line_collection=True)\n",
    "plt.setp(markerline, 'color', colors[1])\n",
    "plt.setp(stemlines, 'color', colors[1])\n",
    "plt.setp(baseline, 'color', colors[7])\n",
    "\n",
    "groups = peaks_df.groupby('series')\n",
    "for i, (name, group) in enumerate(groups):\n",
    "    markerline, stemlines, baseline = ax.stem(group.mz, -group.normalised_intensity, label=name, use_line_collection=True)\n",
    "    plt.setp(markerline, 'color', colors[i % len(colors)])\n",
    "    plt.setp(stemlines, 'color', colors[i % len(colors)])\n",
    "    plt.setp(baseline, 'color', colors[7])\n",
    "\n",
    "plt.xlabel('m/z')\n",
    "plt.ylabel('intensity')\n",
    "f.set_figheight(10)\n",
    "f.set_figwidth(15)\n",
    "ax.set_xlim((200,1400))\n",
    "plt.margins(0.06)\n",
    "# plt.legend(loc='best')\n",
    "plt.title('Comparing ms2 spectra before and after deconvolution for feature {} (for charge {})'.format(feature_id, charge))\n",
    "plt.show()"
   ]
  },
  {
   "cell_type": "code",
   "execution_count": null,
   "metadata": {},
   "outputs": [],
   "source": []
  }
 ],
 "metadata": {
  "kernelspec": {
   "display_name": "Python 3",
   "language": "python",
   "name": "python3"
  },
  "language_info": {
   "codemirror_mode": {
    "name": "ipython",
    "version": 3
   },
   "file_extension": ".py",
   "mimetype": "text/x-python",
   "name": "python",
   "nbconvert_exporter": "python",
   "pygments_lexer": "ipython3",
   "version": "3.6.8"
  }
 },
 "nbformat": 4,
 "nbformat_minor": 2
}
