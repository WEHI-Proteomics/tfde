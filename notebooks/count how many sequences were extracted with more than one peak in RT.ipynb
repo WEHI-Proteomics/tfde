{
 "cells": [
  {
   "cell_type": "code",
   "execution_count": 4,
   "metadata": {},
   "outputs": [],
   "source": [
    "import sqlite3\n",
    "import pandas as pd\n",
    "import pickle\n",
    "import os"
   ]
  },
  {
   "cell_type": "code",
   "execution_count": 6,
   "metadata": {},
   "outputs": [],
   "source": [
    "TARGET_DECOY_MODEL_DIR = '/home/ubuntu/experiments/dwm-test/target-decoy-models'\n",
    "METRICS_DB_NAME = '{}/experiment-metrics-for-library-sequences.sqlite'.format(TARGET_DECOY_MODEL_DIR)\n",
    "SEQUENCE_PEAK_INSTANCES_FILE_NAME = \"{}/sequence-peak-instances.pkl\".format(TARGET_DECOY_MODEL_DIR)\n",
    "if os.path.isfile(SEQUENCE_PEAK_INSTANCES_FILE_NAME):\n",
    "    os.remove(SEQUENCE_PEAK_INSTANCES_FILE_NAME)"
   ]
  },
  {
   "cell_type": "code",
   "execution_count": 7,
   "metadata": {},
   "outputs": [
    {
     "name": "stdout",
     "output_type": "stream",
     "text": [
      "70% of the sequences extracted from all runs have more than one peak\n"
     ]
    }
   ],
   "source": [
    "# count the number of isolated peaks extracted for each sequence/charge/run combination\n",
    "# for the training set, we'll only use sequence/charge/run combinations that extracted a single peak\n",
    "db_conn = sqlite3.connect(METRICS_DB_NAME)\n",
    "df = pd.read_sql_query(\"select sequence,charge,file_idx from extracted_metrics;\", db_conn)\n",
    "db_conn.close()\n",
    "sequence_peak_instances_l = []\n",
    "for group_name,group_df in df.groupby(['sequence','charge','file_idx'], as_index=False):\n",
    "    sequence_peak_instances_l.append(tuple(group_name) + (len(group_df),))\n",
    "sequence_peak_instances_df = pd.DataFrame(sequence_peak_instances_l, columns=['sequence','charge','file_idx','peak_count'])\n",
    "sequence_peak_instances_df.to_pickle(SEQUENCE_PEAK_INSTANCES_FILE_NAME)\n",
    "print(\"{}% of the sequences extracted from all runs have more than one peak\".format(round(len(sequence_peak_instances_df[sequence_peak_instances_df.peak_count > 1])/len(sequence_peak_instances_df)*100),1))\n"
   ]
  },
  {
   "cell_type": "code",
   "execution_count": null,
   "metadata": {},
   "outputs": [],
   "source": []
  }
 ],
 "metadata": {
  "kernelspec": {
   "display_name": "Python 3",
   "language": "python",
   "name": "python3"
  },
  "language_info": {
   "codemirror_mode": {
    "name": "ipython",
    "version": 3
   },
   "file_extension": ".py",
   "mimetype": "text/x-python",
   "name": "python",
   "nbconvert_exporter": "python",
   "pygments_lexer": "ipython3",
   "version": "3.6.8"
  }
 },
 "nbformat": 4,
 "nbformat_minor": 2
}
