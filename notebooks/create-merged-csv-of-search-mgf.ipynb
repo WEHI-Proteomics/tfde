{
 "cells": [
  {
   "cell_type": "code",
   "execution_count": 1,
   "metadata": {},
   "outputs": [],
   "source": [
    "import time\n",
    "import pandas as pd\n",
    "import os\n",
    "import os.path\n",
    "import json\n",
    "import sqlite3"
   ]
  },
  {
   "cell_type": "code",
   "execution_count": 8,
   "metadata": {},
   "outputs": [],
   "source": [
    "db_name = \"./UPS2_DIA_180907/UPS2_DIA_180907.sqlite\"\n",
    "db_conn = sqlite3.connect(db_name)\n",
    "processing_info_df = pd.read_sql_query(\"select value from processing_info where item='feature_batch_info'\", db_conn)\n",
    "db_conn.close()"
   ]
  },
  {
   "cell_type": "code",
   "execution_count": 20,
   "metadata": {},
   "outputs": [
    {
     "data": {
      "text/plain": [
       "u'./UPS2_DIA_180907/UPS2_DIA_180907-features-1-100.sqlite'"
      ]
     },
     "execution_count": 20,
     "metadata": {},
     "output_type": "execute_result"
    }
   ],
   "source": [
    "json.loads(processing_info_df.iloc[0].item())[0]['db']"
   ]
  },
  {
   "cell_type": "code",
   "execution_count": 21,
   "metadata": {},
   "outputs": [
    {
     "data": {
      "text/plain": [
       "48"
      ]
     },
     "execution_count": 21,
     "metadata": {},
     "output_type": "execute_result"
    }
   ],
   "source": [
    "len(json.loads(processing_info_df.iloc[0].item()))"
   ]
  },
  {
   "cell_type": "code",
   "execution_count": 25,
   "metadata": {},
   "outputs": [],
   "source": [
    "databases = json.loads(processing_info_df.iloc[0].item())"
   ]
  },
  {
   "cell_type": "code",
   "execution_count": 26,
   "metadata": {},
   "outputs": [
    {
     "data": {
      "text/plain": [
       "u'./UPS2_DIA_180907/UPS2_DIA_180907-features-1-100.sqlite'"
      ]
     },
     "execution_count": 26,
     "metadata": {},
     "output_type": "execute_result"
    }
   ],
   "source": [
    "databases[0]['db']"
   ]
  },
  {
   "cell_type": "code",
   "execution_count": 28,
   "metadata": {},
   "outputs": [],
   "source": [
    "feature_list_csv = \"feature_list.csv\"\n",
    "deconvoluted_ions_csv = \"deconvoluted_ions.csv\"\n",
    "feature_list_df = None\n",
    "deconvoluted_ions_df = None\n",
    "for db in databases:\n",
    "    db_conn = sqlite3.connect(db['db'])\n",
    "    # load the feature list table\n",
    "    df = pd.read_sql_query(\"select * from feature_list order by feature_id\", db_conn)\n",
    "    if feature_list_df is None:\n",
    "        feature_list_df = df.copy()\n",
    "    else:\n",
    "        feature_list_df = feature_list_df.append(df, ignore_index=True)\n",
    "    # load the deconvoluted ions table\n",
    "    df = pd.read_sql_query(\"select * from deconvoluted_ions order by feature_id\", db_conn)\n",
    "    if deconvoluted_ions_df is None:\n",
    "        deconvoluted_ions_df = df.copy()\n",
    "    else:\n",
    "        deconvoluted_ions_df = deconvoluted_ions_df.append(df, ignore_index=True)\n",
    "    db_conn.close()\n",
    "# write out the DFs as CSVs\n",
    "feature_list_df.to_csv(feature_list_csv, mode='w', sep=',', index=False, header=True)\n",
    "deconvoluted_ions_df.to_csv(deconvoluted_ions_csv, mode='w', sep=',', index=False, header=True)"
   ]
  },
  {
   "cell_type": "code",
   "execution_count": null,
   "metadata": {},
   "outputs": [],
   "source": []
  }
 ],
 "metadata": {
  "kernelspec": {
   "display_name": "Python 2",
   "language": "python",
   "name": "python2"
  },
  "language_info": {
   "codemirror_mode": {
    "name": "ipython",
    "version": 2
   },
   "file_extension": ".py",
   "mimetype": "text/x-python",
   "name": "python",
   "nbconvert_exporter": "python",
   "pygments_lexer": "ipython2",
   "version": "2.7.15"
  }
 },
 "nbformat": 4,
 "nbformat_minor": 2
}
