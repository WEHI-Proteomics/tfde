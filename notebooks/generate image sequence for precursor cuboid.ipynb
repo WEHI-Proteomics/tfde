{
 "cells": [
  {
   "cell_type": "code",
   "execution_count": 23,
   "metadata": {},
   "outputs": [],
   "source": [
    "import pandas as pd\n",
    "import numpy as np\n",
    "import sys\n",
    "import pickle\n",
    "import glob\n",
    "import os\n",
    "import shutil\n",
    "import sqlite3\n",
    "import matplotlib.pyplot as plt\n",
    "from matplotlib import colors, cm, pyplot as plt\n",
    "from PIL import Image, ImageDraw, ImageFont"
   ]
  },
  {
   "cell_type": "code",
   "execution_count": 24,
   "metadata": {},
   "outputs": [],
   "source": [
    "FEATURE_SLICES_DIR = '/Users/darylwilding-mcbride/Downloads/slices'"
   ]
  },
  {
   "cell_type": "code",
   "execution_count": 25,
   "metadata": {},
   "outputs": [],
   "source": [
    "# font paths for overlay labels\n",
    "UBUNTU_FONT_PATH = '/usr/share/fonts/truetype/liberation/LiberationSans-Regular.ttf'\n",
    "MACOS_FONT_PATH = '/Library/Fonts/Arial.ttf'"
   ]
  },
  {
   "cell_type": "code",
   "execution_count": 26,
   "metadata": {},
   "outputs": [],
   "source": [
    "if os.path.isfile(UBUNTU_FONT_PATH):\n",
    "    feature_label_font = ImageFont.truetype(UBUNTU_FONT_PATH, 10)\n",
    "else:\n",
    "    feature_label_font = ImageFont.truetype(MACOS_FONT_PATH, 10)"
   ]
  },
  {
   "cell_type": "code",
   "execution_count": 27,
   "metadata": {},
   "outputs": [],
   "source": [
    "# for drawing on tiles\n",
    "TINT_COLOR = (0, 0, 0)  # Black\n",
    "OPACITY = int(255 * 0.1)  # lower opacity means more transparent"
   ]
  },
  {
   "cell_type": "code",
   "execution_count": 28,
   "metadata": {},
   "outputs": [],
   "source": [
    "# image dimensions\n",
    "PIXELS_X = 1400\n",
    "PIXELS_Y = 400"
   ]
  },
  {
   "cell_type": "code",
   "execution_count": 29,
   "metadata": {},
   "outputs": [],
   "source": [
    "def pixel_xy(mz, scan, mz_lower, mz_upper, scan_lower, scan_upper):\n",
    "    x_pixels_per_mz = (PIXELS_X-1) / (mz_upper - mz_lower)\n",
    "    y_pixels_per_scan = (PIXELS_Y-1) / (scan_upper - scan_lower)\n",
    "    \n",
    "    pixel_x = int((mz - mz_lower) * x_pixels_per_mz)\n",
    "    pixel_y = int((scan - scan_lower) * y_pixels_per_scan)\n",
    "    return (pixel_x, pixel_y)"
   ]
  },
  {
   "cell_type": "code",
   "execution_count": 30,
   "metadata": {},
   "outputs": [],
   "source": [
    "raw_df = pd.read_pickle('/Users/darylwilding-mcbride/Downloads/exp-P3856-run-P3856_YHE211_1_Slot1-1_1_5104-precursor-1000-of-52464/exp-P3856-run-P3856_YHE211_1_Slot1-1_1_5104-precursor-1000-cuboid-points-ms1-df.pkl')"
   ]
  },
  {
   "cell_type": "code",
   "execution_count": 31,
   "metadata": {},
   "outputs": [],
   "source": [
    "# create the colour mapping\n",
    "colour_map = plt.get_cmap('rainbow')\n",
    "norm = colors.LogNorm(vmin=raw_df.intensity.min(), vmax=100, clip=True)  # aiming to get good colour variation in the lower range, and clipping everything else"
   ]
  },
  {
   "cell_type": "code",
   "execution_count": 32,
   "metadata": {},
   "outputs": [
    {
     "data": {
      "image/png": "[encoded data removed]",
      "text/plain": [
       "<Figure size 720x360 with 1 Axes>"
      ]
     },
     "metadata": {
      "needs_background": "light"
     },
     "output_type": "display_data"
    }
   ],
   "source": [
    "# determine the best clipping value using an ECDF\n",
    "\n",
    "import statsmodels.api as sm\n",
    "ecdf = sm.distributions.ECDF(raw_df.intensity)\n",
    "\n",
    "f, ax1 = plt.subplots()\n",
    "plt.plot(ecdf.x, ecdf.y)\n",
    "f.set_figheight(5)\n",
    "f.set_figwidth(10)\n",
    "plt.xlabel('intensity')\n",
    "plt.ylabel('ECDF')\n",
    "# plt.axvline(x=3000, linestyle=':', linewidth=1, color='orange')\n",
    "plt.margins(0.02)\n",
    "plt.title(\"ms1 raw point intensity ECDF\")\n",
    "plt.show()"
   ]
  },
  {
   "cell_type": "code",
   "execution_count": 33,
   "metadata": {},
   "outputs": [],
   "source": [
    "# clear out any previous feature slices\n",
    "if os.path.exists(FEATURE_SLICES_DIR):\n",
    "    shutil.rmtree(FEATURE_SLICES_DIR)\n",
    "os.makedirs(FEATURE_SLICES_DIR)"
   ]
  },
  {
   "cell_type": "code",
   "execution_count": 34,
   "metadata": {},
   "outputs": [],
   "source": [
    "# calculate the raw point coordinates in scaled pixels\n",
    "pixel_df = pd.DataFrame(raw_df.apply(lambda row: pixel_xy(row.mz, row.scan, raw_df.mz.min(), raw_df.mz.max(), raw_df.scan.min(), raw_df.scan.max()), axis=1).tolist(), columns=['pixel_x','pixel_y'])\n",
    "raw_pixel_df = pd.concat([raw_df, pixel_df], axis=1)\n",
    "\n",
    "# sum the intensity of raw points that have been assigned to each pixel\n",
    "pixel_intensity_df = raw_pixel_df.groupby(by=['frame_id', 'pixel_x', 'pixel_y'], as_index=False).intensity.sum()"
   ]
  },
  {
   "cell_type": "code",
   "execution_count": 35,
   "metadata": {},
   "outputs": [],
   "source": [
    "# calculate the colour to represent the intensity\n",
    "colours_l = []\n",
    "for i in pixel_intensity_df.intensity.unique():\n",
    "    colours_l.append((i, colour_map(norm(i), bytes=True)[:3]))\n",
    "colours_df = pd.DataFrame(colours_l, columns=['intensity','colour'])\n",
    "pixel_intensity_df = pd.merge(pixel_intensity_df, colours_df, how='left', left_on=['intensity'], right_on=['intensity'])"
   ]
  },
  {
   "cell_type": "code",
   "execution_count": 36,
   "metadata": {},
   "outputs": [],
   "source": [
    "# determine the cuboid dimensions\n",
    "mz_lower = raw_df.mz.min()\n",
    "mz_upper = raw_df.mz.max()\n",
    "scan_lower = raw_df.scan.min()\n",
    "scan_upper = raw_df.scan.max()\n",
    "rt_lower = raw_df.retention_time_secs.min()\n",
    "rt_upper = raw_df.retention_time_secs.max()\n",
    "\n",
    "x_pixels_per_mz = (PIXELS_X-1) / (mz_upper - mz_lower)\n",
    "y_pixels_per_scan = (PIXELS_Y-1) / (scan_upper - scan_lower)"
   ]
  },
  {
   "cell_type": "code",
   "execution_count": 37,
   "metadata": {},
   "outputs": [
    {
     "data": {
      "text/html": [
       "<div>\n",
       "<style scoped>\n",
       "    .dataframe tbody tr th:only-of-type {\n",
       "        vertical-align: middle;\n",
       "    }\n",
       "\n",
       "    .dataframe tbody tr th {\n",
       "        vertical-align: top;\n",
       "    }\n",
       "\n",
       "    .dataframe thead th {\n",
       "        text-align: right;\n",
       "    }\n",
       "</style>\n",
       "<table border=\"1\" class=\"dataframe\">\n",
       "  <thead>\n",
       "    <tr style=\"text-align: right;\">\n",
       "      <th></th>\n",
       "      <th>frame_id</th>\n",
       "      <th>pixel_x</th>\n",
       "      <th>pixel_y</th>\n",
       "      <th>intensity</th>\n",
       "      <th>colour</th>\n",
       "    </tr>\n",
       "  </thead>\n",
       "  <tbody>\n",
       "    <tr>\n",
       "      <th>2499</th>\n",
       "      <td>4144</td>\n",
       "      <td>1090</td>\n",
       "      <td>207</td>\n",
       "      <td>50</td>\n",
       "      <td>(236, 199, 110)</td>\n",
       "    </tr>\n",
       "    <tr>\n",
       "      <th>982</th>\n",
       "      <td>4053</td>\n",
       "      <td>1074</td>\n",
       "      <td>154</td>\n",
       "      <td>73</td>\n",
       "      <td>(255, 100, 51)</td>\n",
       "    </tr>\n",
       "    <tr>\n",
       "      <th>2084</th>\n",
       "      <td>4123</td>\n",
       "      <td>920</td>\n",
       "      <td>234</td>\n",
       "      <td>45</td>\n",
       "      <td>(214, 219, 126)</td>\n",
       "    </tr>\n",
       "  </tbody>\n",
       "</table>\n",
       "</div>"
      ],
      "text/plain": [
       "      frame_id  pixel_x  pixel_y  intensity           colour\n",
       "2499      4144     1090      207         50  (236, 199, 110)\n",
       "982       4053     1074      154         73   (255, 100, 51)\n",
       "2084      4123      920      234         45  (214, 219, 126)"
      ]
     },
     "execution_count": 37,
     "metadata": {},
     "output_type": "execute_result"
    }
   ],
   "source": [
    "pixel_intensity_df.sample(n=3)"
   ]
  },
  {
   "cell_type": "code",
   "execution_count": 38,
   "metadata": {},
   "outputs": [],
   "source": [
    "# write out the images to files\n",
    "feature_slice = 0\n",
    "for group_name,group_df in pixel_intensity_df.groupby(['frame_id'], as_index=False):\n",
    "    # create an intensity array\n",
    "    tile_im_array = np.zeros([PIXELS_Y, PIXELS_X, 3], dtype=np.uint8)  # container for the image\n",
    "    tile_im_array[:,:,:] = (30,30,30)\n",
    "    for r in zip(group_df.pixel_x, group_df.pixel_y, group_df.colour):\n",
    "        x = r[0]\n",
    "        y = r[1]\n",
    "        c = r[2]\n",
    "        tile_im_array[y:int(y+y_pixels_per_scan),x,:] = c\n",
    "\n",
    "    # create an image of the intensity array\n",
    "    feature_slice += 1\n",
    "    tile = Image.fromarray(tile_im_array, 'RGB')\n",
    "    draw = ImageDraw.Draw(tile)\n",
    "    \n",
    "    # save the image as a file\n",
    "    tile_file_name = '{}/feature-slice-{:03d}.png'.format(FEATURE_SLICES_DIR, feature_slice)\n",
    "    tile.save(tile_file_name)"
   ]
  },
  {
   "cell_type": "code",
   "execution_count": null,
   "metadata": {},
   "outputs": [],
   "source": []
  }
 ],
 "metadata": {
  "kernelspec": {
   "display_name": "Python 3",
   "language": "python",
   "name": "python3"
  },
  "language_info": {
   "codemirror_mode": {
    "name": "ipython",
    "version": 3
   },
   "file_extension": ".py",
   "mimetype": "text/x-python",
   "name": "python",
   "nbconvert_exporter": "python",
   "pygments_lexer": "ipython3",
   "version": "3.6.8"
  }
 },
 "nbformat": 4,
 "nbformat_minor": 4
}
