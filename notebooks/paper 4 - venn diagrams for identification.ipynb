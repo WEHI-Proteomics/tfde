{
 "cells": [
  {
   "cell_type": "code",
   "execution_count": 1,
   "metadata": {},
   "outputs": [],
   "source": [
    "import pandas as pd\n",
    "import numpy as np\n",
    "import os\n",
    "import matplotlib.pyplot as plt\n",
    "import pickle\n",
    "import json\n",
    "from os.path import expanduser\n",
    "import sqlite3\n",
    "import seaborn as sns"
   ]
  },
  {
   "cell_type": "markdown",
   "metadata": {},
   "source": [
    "#### compare PASEF features that were identified and see whether 3DID also detected them"
   ]
  },
  {
   "cell_type": "code",
   "execution_count": 2,
   "metadata": {},
   "outputs": [],
   "source": [
    "experiment_name = 'P3856'\n",
    "run_name = 'P3856_YHE211_1_Slot1-1_1_5104'\n",
    "\n",
    "EXPERIMENT_DIR = '/media/big-ssd/experiments/{}'.format(experiment_name)\n",
    "\n",
    "IDENTS_PASEF_DIR = '{}/identifications-pasef'.format(EXPERIMENT_DIR)\n",
    "IDENTS_PASEF_FILE = '{}/exp-{}-identifications-pasef.pkl'.format(IDENTS_PASEF_DIR, experiment_name)\n",
    "\n",
    "FEATURES_3DID_DIR = '{}/features-3did'.format(EXPERIMENT_DIR)\n",
    "FEATURES_3DID_FILE = '{}/exp-{}-run-{}-features-3did-ident.pkl'.format(FEATURES_3DID_DIR, experiment_name, run_name)\n",
    "\n",
    "FEATURES_MQ_DIR = '{}/features-mq'.format(EXPERIMENT_DIR)\n",
    "FEATURES_MQ_FILE = '{}/exp-{}-run-{}-features-mq-dedup.pkl'.format(FEATURES_MQ_DIR, experiment_name, run_name)"
   ]
  },
  {
   "cell_type": "code",
   "execution_count": 3,
   "metadata": {},
   "outputs": [],
   "source": [
    "MAXIMUM_Q_VALUE = 0.01"
   ]
  },
  {
   "cell_type": "code",
   "execution_count": 4,
   "metadata": {},
   "outputs": [],
   "source": [
    "# only look at this part of the run\n",
    "RT_LOWER = 1650\n",
    "RT_UPPER = 2200"
   ]
  },
  {
   "cell_type": "code",
   "execution_count": 5,
   "metadata": {},
   "outputs": [],
   "source": [
    "# define a straight line to exclude the charge-1 cloud\n",
    "def scan_coords_for_single_charge_region(mz_lower, mz_upper):\n",
    "    scan_for_mz_lower = max(int(-1 * ((1.2 * mz_lower) - 1252)), 0)\n",
    "    scan_for_mz_upper = max(int(-1 * ((1.2 * mz_upper) - 1252)), 0)\n",
    "    return {'scan_for_mz_lower':scan_for_mz_lower, 'scan_for_mz_upper':scan_for_mz_upper}"
   ]
  },
  {
   "cell_type": "markdown",
   "metadata": {},
   "source": [
    "#### load PASEF-seeded identifications"
   ]
  },
  {
   "cell_type": "code",
   "execution_count": 6,
   "metadata": {},
   "outputs": [],
   "source": [
    "# load the features identified by PASEF\n",
    "with open(IDENTS_PASEF_FILE, 'rb') as handle:\n",
    "    d = pickle.load(handle)\n",
    "identifications_pasef_df = d['identifications_df']"
   ]
  },
  {
   "cell_type": "code",
   "execution_count": 7,
   "metadata": {},
   "outputs": [],
   "source": [
    "identifications_pasef_df['excluded'] = identifications_pasef_df.apply(lambda row: row.scan_apex < scan_coords_for_single_charge_region(row.monoisotopic_mz, row.monoisotopic_mz)['scan_for_mz_lower'], axis=1)\n",
    "identifications_pasef_df = identifications_pasef_df[(identifications_pasef_df.excluded == False)]"
   ]
  },
  {
   "cell_type": "markdown",
   "metadata": {},
   "source": [
    "#### load 3DID features that are predicted to be identified"
   ]
  },
  {
   "cell_type": "code",
   "execution_count": 8,
   "metadata": {},
   "outputs": [],
   "source": [
    "# load the features detected by 3DID\n",
    "with open(FEATURES_3DID_FILE, 'rb') as handle:\n",
    "    d = pickle.load(handle)\n",
    "features_3did_df = d['features_df']"
   ]
  },
  {
   "cell_type": "markdown",
   "metadata": {},
   "source": [
    "#### load MaxQuant identifications"
   ]
  },
  {
   "cell_type": "code",
   "execution_count": 9,
   "metadata": {},
   "outputs": [],
   "source": [
    "MQ_PERCOLATOR_OUTPUT_DIR = '{}/percolator-output-pasef-maxquant'.format(EXPERIMENT_DIR)"
   ]
  },
  {
   "cell_type": "code",
   "execution_count": 10,
   "metadata": {},
   "outputs": [],
   "source": [
    "# load the percolator output\n",
    "MQ_PERCOLATOR_OUTPUT_FILE_NAME = \"{}/{}.percolator.target.psms.txt\".format(MQ_PERCOLATOR_OUTPUT_DIR, experiment_name)\n",
    "mq_psms_df = pd.read_csv(MQ_PERCOLATOR_OUTPUT_FILE_NAME, sep='\\t')\n",
    "mq_psms_df.rename(columns={'scan': 'mq_index'}, inplace=True)\n",
    "mq_psms_df.drop(['charge'], axis=1, inplace=True)\n",
    "# remove the poor quality identifications\n",
    "mq_psms_df = mq_psms_df[mq_psms_df['peptide mass'] > 0]\n",
    "mq_psms_df = mq_psms_df[mq_psms_df['percolator score'] <= MAXIMUM_Q_VALUE]"
   ]
  },
  {
   "cell_type": "code",
   "execution_count": 11,
   "metadata": {},
   "outputs": [],
   "source": [
    "# merge the percolator results with the MQ features\n",
    "features_mq_df = pd.read_pickle(FEATURES_MQ_FILE)['features_df']"
   ]
  },
  {
   "cell_type": "code",
   "execution_count": 12,
   "metadata": {},
   "outputs": [],
   "source": [
    "features_mq_df['excluded'] = features_mq_df.apply(lambda row: row.scan_apex < scan_coords_for_single_charge_region(row.monoisotopic_mz, row.monoisotopic_mz)['scan_for_mz_lower'], axis=1)\n",
    "features_mq_df = features_mq_df[(features_mq_df.excluded == False)]\n",
    "features_mq_df = features_mq_df[(features_mq_df.rt_apex >= RT_LOWER) & (features_mq_df.rt_apex <= RT_UPPER)]\n",
    "features_mq_df = features_mq_df[(features_mq_df.isotope_count >= 3)].copy()"
   ]
  },
  {
   "cell_type": "code",
   "execution_count": 13,
   "metadata": {},
   "outputs": [],
   "source": [
    "identifications_mq_df = pd.merge(features_mq_df, mq_psms_df, how='left', left_on=['mq_index'], right_on=['mq_index'])\n",
    "# remove any features that were not identified\n",
    "identifications_mq_df.dropna(subset=['sequence'], inplace=True)\n"
   ]
  },
  {
   "cell_type": "markdown",
   "metadata": {},
   "source": [
    "#### consolidate the features from all methods"
   ]
  },
  {
   "cell_type": "code",
   "execution_count": 14,
   "metadata": {},
   "outputs": [
    {
     "name": "stdout",
     "output_type": "stream",
     "text": [
      "37934 idents from PASEF, 4115 from MaxQuant, 173175 from 3DID (predicted)\n"
     ]
    }
   ],
   "source": [
    "print('{} idents from PASEF, {} from MaxQuant, {} from 3DID (predicted)'.format(len(identifications_pasef_df), len(identifications_mq_df), len(features_3did_df)))\n"
   ]
  },
  {
   "cell_type": "code",
   "execution_count": 15,
   "metadata": {},
   "outputs": [
    {
     "name": "stderr",
     "output_type": "stream",
     "text": [
      "<ipython-input-15-7447d25284c8>:8: SettingWithCopyWarning: \n",
      "A value is trying to be set on a copy of a slice from a DataFrame.\n",
      "Try using .loc[row_indexer,col_indexer] = value instead\n",
      "\n",
      "See the caveats in the documentation: https://pandas.pydata.org/pandas-docs/stable/user_guide/indexing.html#returning-a-view-versus-a-copy\n",
      "  features_3did_df['method'] = '3did'\n"
     ]
    }
   ],
   "source": [
    "identifications_mq_df = identifications_mq_df[['feature_id','charge','monoisotopic_mz','scan_apex','rt_apex']]\n",
    "identifications_mq_df['method'] = 'mq'\n",
    "\n",
    "identifications_pasef_df = identifications_pasef_df[['feature_id','charge','monoisotopic_mz','scan_apex','rt_apex']]\n",
    "identifications_pasef_df['method'] = 'pasef'\n",
    "\n",
    "features_3did_df = features_3did_df[['feature_id','charge','monoisotopic_mz','scan_apex','rt_apex']]\n",
    "features_3did_df['method'] = '3did'\n",
    "\n",
    "combined_df = pd.concat([identifications_mq_df,identifications_pasef_df,features_3did_df], axis=0, sort=False, ignore_index=True).copy()\n",
    "combined_df['method_feature_id'] = combined_df.method+'-'+combined_df.feature_id.astype('str')"
   ]
  },
  {
   "cell_type": "code",
   "execution_count": 16,
   "metadata": {},
   "outputs": [
    {
     "data": {
      "text/html": [
       "<div>\n",
       "<style scoped>\n",
       "    .dataframe tbody tr th:only-of-type {\n",
       "        vertical-align: middle;\n",
       "    }\n",
       "\n",
       "    .dataframe tbody tr th {\n",
       "        vertical-align: top;\n",
       "    }\n",
       "\n",
       "    .dataframe thead th {\n",
       "        text-align: right;\n",
       "    }\n",
       "</style>\n",
       "<table border=\"1\" class=\"dataframe\">\n",
       "  <thead>\n",
       "    <tr style=\"text-align: right;\">\n",
       "      <th></th>\n",
       "      <th>feature_id</th>\n",
       "      <th>charge</th>\n",
       "      <th>monoisotopic_mz</th>\n",
       "      <th>scan_apex</th>\n",
       "      <th>rt_apex</th>\n",
       "      <th>method</th>\n",
       "      <th>method_feature_id</th>\n",
       "    </tr>\n",
       "  </thead>\n",
       "  <tbody>\n",
       "    <tr>\n",
       "      <th>192355</th>\n",
       "      <td>343589</td>\n",
       "      <td>2</td>\n",
       "      <td>1004.009059</td>\n",
       "      <td>258.0</td>\n",
       "      <td>1907.674520</td>\n",
       "      <td>3did</td>\n",
       "      <td>3did-343589</td>\n",
       "    </tr>\n",
       "    <tr>\n",
       "      <th>115696</th>\n",
       "      <td>15008</td>\n",
       "      <td>2</td>\n",
       "      <td>1089.512434</td>\n",
       "      <td>72.0</td>\n",
       "      <td>1807.644544</td>\n",
       "      <td>3did</td>\n",
       "      <td>3did-15008</td>\n",
       "    </tr>\n",
       "    <tr>\n",
       "      <th>25087</th>\n",
       "      <td>2713903</td>\n",
       "      <td>2</td>\n",
       "      <td>837.445181</td>\n",
       "      <td>459.0</td>\n",
       "      <td>1939.426392</td>\n",
       "      <td>pasef</td>\n",
       "      <td>pasef-2713903</td>\n",
       "    </tr>\n",
       "  </tbody>\n",
       "</table>\n",
       "</div>"
      ],
      "text/plain": [
       "        feature_id  charge  monoisotopic_mz  scan_apex      rt_apex method  \\\n",
       "192355      343589       2      1004.009059      258.0  1907.674520   3did   \n",
       "115696       15008       2      1089.512434       72.0  1807.644544   3did   \n",
       "25087      2713903       2       837.445181      459.0  1939.426392  pasef   \n",
       "\n",
       "       method_feature_id  \n",
       "192355       3did-343589  \n",
       "115696        3did-15008  \n",
       "25087      pasef-2713903  "
      ]
     },
     "execution_count": 16,
     "metadata": {},
     "output_type": "execute_result"
    }
   ],
   "source": [
    "combined_df.sample(n=3)"
   ]
  },
  {
   "cell_type": "markdown",
   "metadata": {},
   "source": [
    "#### find the features in common"
   ]
  },
  {
   "cell_type": "code",
   "execution_count": 17,
   "metadata": {},
   "outputs": [],
   "source": [
    "DUP_MZ_TOLERANCE_PPM = 5\n",
    "DUP_SCAN_TOLERANCE = 20\n",
    "DUP_RT_TOLERANCE = 5"
   ]
  },
  {
   "cell_type": "code",
   "execution_count": 18,
   "metadata": {},
   "outputs": [],
   "source": [
    "# set up dup definitions\n",
    "MZ_TOLERANCE_PERCENT = DUP_MZ_TOLERANCE_PPM * 10**-4\n",
    "combined_df['dup_mz'] = combined_df['monoisotopic_mz']  # shorthand to reduce verbosity\n",
    "combined_df['dup_mz_ppm_tolerance'] = combined_df.dup_mz * MZ_TOLERANCE_PERCENT / 100\n",
    "combined_df['dup_mz_lower'] = combined_df.dup_mz - combined_df.dup_mz_ppm_tolerance\n",
    "combined_df['dup_mz_upper'] = combined_df.dup_mz + combined_df.dup_mz_ppm_tolerance\n",
    "combined_df['dup_scan_lower'] = combined_df.scan_apex - DUP_SCAN_TOLERANCE\n",
    "combined_df['dup_scan_upper'] = combined_df.scan_apex + DUP_SCAN_TOLERANCE\n",
    "combined_df['dup_rt_lower'] = combined_df.rt_apex - DUP_RT_TOLERANCE\n",
    "combined_df['dup_rt_upper'] = combined_df.rt_apex + DUP_RT_TOLERANCE"
   ]
  },
  {
   "cell_type": "code",
   "execution_count": 19,
   "metadata": {},
   "outputs": [],
   "source": [
    "sets_d = {'mq':set(), '3did':set(), 'pasef':set()}\n",
    "features_processed = set()\n",
    "for row in combined_df.itertuples():\n",
    "    if row.method_feature_id not in features_processed:\n",
    "        df = combined_df[(row.charge == combined_df.charge) & (row.dup_mz >= combined_df.dup_mz_lower) & (row.dup_mz <= combined_df.dup_mz_upper) & (row.scan_apex >= combined_df.dup_scan_lower) & (row.scan_apex <= combined_df.dup_scan_upper) & (row.rt_apex >= combined_df.dup_rt_lower) & (row.rt_apex <= combined_df.dup_rt_upper)].copy()\n",
    "        if len(df) > 0:\n",
    "            # form a hybrid feature_id from the method feature_ids\n",
    "            hybrid_feature_id = '-'.join(sorted(set(df.method_feature_id.tolist())))\n",
    "            for method in df.method.tolist():\n",
    "                sets_d[method].add(hybrid_feature_id)\n",
    "            # record the features that have been processed\n",
    "            features_processed.update(set(df.method_feature_id.tolist()))"
   ]
  },
  {
   "cell_type": "code",
   "execution_count": 20,
   "metadata": {},
   "outputs": [
    {
     "data": {
      "image/png": "[encoded data removed]",
      "text/plain": [
       "<Figure size 1080x720 with 1 Axes>"
      ]
     },
     "metadata": {},
     "output_type": "display_data"
    }
   ],
   "source": [
    "import matplotlib.pyplot as plt\n",
    "from matplotlib_venn import venn3\n",
    "\n",
    "f, ax1 = plt.subplots()\n",
    "f.set_figheight(10)\n",
    "f.set_figwidth(15)\n",
    "\n",
    "plt.margins(0.06)\n",
    "plt.title('')\n",
    "\n",
    "venn3([sets_d['pasef'],sets_d['3did'],sets_d['mq']], ('PASEF-seeded','3DID','MaxQuant'))\n",
    "\n",
    "plt.show()"
   ]
  },
  {
   "cell_type": "code",
   "execution_count": null,
   "metadata": {},
   "outputs": [],
   "source": []
  }
 ],
 "metadata": {
  "kernelspec": {
   "display_name": "Python 3",
   "language": "python",
   "name": "python3"
  },
  "language_info": {
   "codemirror_mode": {
    "name": "ipython",
    "version": 3
   },
   "file_extension": ".py",
   "mimetype": "text/x-python",
   "name": "python",
   "nbconvert_exporter": "python",
   "pygments_lexer": "ipython3",
   "version": "3.8.5"
  }
 },
 "nbformat": 4,
 "nbformat_minor": 4
}
