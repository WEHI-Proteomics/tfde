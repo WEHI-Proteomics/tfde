{
 "cells": [
  {
   "cell_type": "code",
   "execution_count": 1,
   "metadata": {},
   "outputs": [],
   "source": [
    "import pandas as pd\n",
    "from os.path import expanduser\n",
    "import matplotlib.pyplot as plt\n",
    "import json"
   ]
  },
  {
   "cell_type": "code",
   "execution_count": 2,
   "metadata": {},
   "outputs": [],
   "source": [
    "experiment_name = 'P3856'\n",
    "run_name = 'P3856_YHE211_1_Slot1-1_1_5104'\n",
    "precursor_definition_method = 'pasef'"
   ]
  },
  {
   "cell_type": "code",
   "execution_count": 3,
   "metadata": {},
   "outputs": [],
   "source": [
    "BASE_DIR = '{}/P3856-results-cs-true-fmdw-true-2021-04-24-19-58-32'.format(expanduser('~'))\n",
    "\n",
    "FEATURES_DIR = '{}/features-{}'.format(BASE_DIR, precursor_definition_method)\n",
    "FEATURES_NAME = '{}/exp-{}-run-{}-features-{}.pkl'.format(FEATURES_DIR, experiment_name, run_name, precursor_definition_method)\n",
    "FEATURES_DEDUP_NAME = '{}/exp-{}-run-{}-features-{}-dedup.pkl'.format(FEATURES_DIR, experiment_name, run_name, precursor_definition_method)"
   ]
  },
  {
   "cell_type": "code",
   "execution_count": 4,
   "metadata": {},
   "outputs": [],
   "source": [
    "features_df = pd.read_pickle(FEATURES_DEDUP_NAME)['features_df']"
   ]
  },
  {
   "cell_type": "code",
   "execution_count": 5,
   "metadata": {},
   "outputs": [
    {
     "name": "stdout",
     "output_type": "stream",
     "text": [
      "101898 features\n"
     ]
    }
   ],
   "source": [
    "print('{} features'.format(len(features_df)))"
   ]
  },
  {
   "cell_type": "code",
   "execution_count": 6,
   "metadata": {},
   "outputs": [],
   "source": [
    "mq_features_df = pd.read_pickle('/home/daryl/MQ-analysis-of-P3856/combined/P3856_YHE211_1_Slot1-1_1_5104-dwm.pkl')\n",
    "mq_features_df['feature_id'] = mq_features_df.index.values.tolist()"
   ]
  },
  {
   "cell_type": "code",
   "execution_count": 7,
   "metadata": {},
   "outputs": [
    {
     "name": "stdout",
     "output_type": "stream",
     "text": [
      "18437 MQ features\n"
     ]
    }
   ],
   "source": [
    "print('{} MQ features'.format(len(mq_features_df)))"
   ]
  },
  {
   "cell_type": "markdown",
   "metadata": {},
   "source": [
    "#### browsing for a feature"
   ]
  },
  {
   "cell_type": "code",
   "execution_count": 15,
   "metadata": {},
   "outputs": [
    {
     "data": {
      "text/html": [
       "<div>\n",
       "<style scoped>\n",
       "    .dataframe tbody tr th:only-of-type {\n",
       "        vertical-align: middle;\n",
       "    }\n",
       "\n",
       "    .dataframe tbody tr th {\n",
       "        vertical-align: top;\n",
       "    }\n",
       "\n",
       "    .dataframe thead th {\n",
       "        text-align: right;\n",
       "    }\n",
       "</style>\n",
       "<table border=\"1\" class=\"dataframe\">\n",
       "  <thead>\n",
       "    <tr style=\"text-align: right;\">\n",
       "      <th></th>\n",
       "      <th>mz_apex_without_saturation_correction</th>\n",
       "      <th>mz_apex_with_saturation_correction</th>\n",
       "      <th>mz_lower</th>\n",
       "      <th>mz_upper</th>\n",
       "      <th>scan_apex</th>\n",
       "      <th>scan_lower</th>\n",
       "      <th>scan_upper</th>\n",
       "      <th>rt_apex</th>\n",
       "      <th>rt_lower</th>\n",
       "      <th>rt_upper</th>\n",
       "      <th>...</th>\n",
       "      <th>monoisotopic_mass</th>\n",
       "      <th>feature_intensity</th>\n",
       "      <th>envelope</th>\n",
       "      <th>isotope_count</th>\n",
       "      <th>deconvolution_score</th>\n",
       "      <th>precursor_cuboid_id</th>\n",
       "      <th>fragment_ions_l</th>\n",
       "      <th>fmdw_before_after_d</th>\n",
       "      <th>feature_id</th>\n",
       "      <th>run_name</th>\n",
       "    </tr>\n",
       "  </thead>\n",
       "  <tbody>\n",
       "    <tr>\n",
       "      <th>55374</th>\n",
       "      <td>780.029497</td>\n",
       "      <td>780.029714</td>\n",
       "      <td>780.004654</td>\n",
       "      <td>780.054341</td>\n",
       "      <td>534.0</td>\n",
       "      <td>512</td>\n",
       "      <td>573</td>\n",
       "      <td>1834.638077</td>\n",
       "      <td>1829.346162</td>\n",
       "      <td>1838.341292</td>\n",
       "      <td>...</td>\n",
       "      <td>2337.067312</td>\n",
       "      <td>75732</td>\n",
       "      <td>[[780.0294971506055, 77123.0], [780.3635697630...</td>\n",
       "      <td>5</td>\n",
       "      <td>943.145029</td>\n",
       "      <td>19902</td>\n",
       "      <td>[{\"singly_protonated_mass\": 217.0761, \"neutral...</td>\n",
       "      <td>{'before_fmdw': [{'singly_protonated_mass': 21...</td>\n",
       "      <td>1990203</td>\n",
       "      <td>P3856_YHE211_1_Slot1-1_1_5104</td>\n",
       "    </tr>\n",
       "    <tr>\n",
       "      <th>57852</th>\n",
       "      <td>780.855747</td>\n",
       "      <td>780.857583</td>\n",
       "      <td>780.830877</td>\n",
       "      <td>780.880617</td>\n",
       "      <td>572.0</td>\n",
       "      <td>521</td>\n",
       "      <td>592</td>\n",
       "      <td>1840.457547</td>\n",
       "      <td>1830.405171</td>\n",
       "      <td>1844.163753</td>\n",
       "      <td>...</td>\n",
       "      <td>3119.401225</td>\n",
       "      <td>59910</td>\n",
       "      <td>[[780.8557471366717, 64485.0], [781.1023973131...</td>\n",
       "      <td>6</td>\n",
       "      <td>390.425013</td>\n",
       "      <td>20379</td>\n",
       "      <td>[{\"singly_protonated_mass\": 291.1465, \"neutral...</td>\n",
       "      <td>{'before_fmdw': [{'singly_protonated_mass': 29...</td>\n",
       "      <td>2037905</td>\n",
       "      <td>P3856_YHE211_1_Slot1-1_1_5104</td>\n",
       "    </tr>\n",
       "    <tr>\n",
       "      <th>60604</th>\n",
       "      <td>780.862986</td>\n",
       "      <td>780.858894</td>\n",
       "      <td>780.838116</td>\n",
       "      <td>780.887856</td>\n",
       "      <td>571.0</td>\n",
       "      <td>571</td>\n",
       "      <td>646</td>\n",
       "      <td>1847.867500</td>\n",
       "      <td>1845.221306</td>\n",
       "      <td>1855.279164</td>\n",
       "      <td>...</td>\n",
       "      <td>1559.703235</td>\n",
       "      <td>23695</td>\n",
       "      <td>[[780.8629861664906, 29100.0], [781.3528246559...</td>\n",
       "      <td>4</td>\n",
       "      <td>358.860349</td>\n",
       "      <td>20920</td>\n",
       "      <td>[{\"singly_protonated_mass\": 315.1681, \"neutral...</td>\n",
       "      <td>{'before_fmdw': [{'singly_protonated_mass': 31...</td>\n",
       "      <td>2092003</td>\n",
       "      <td>P3856_YHE211_1_Slot1-1_1_5104</td>\n",
       "    </tr>\n",
       "    <tr>\n",
       "      <th>56466</th>\n",
       "      <td>780.029467</td>\n",
       "      <td>780.029980</td>\n",
       "      <td>780.004624</td>\n",
       "      <td>780.054311</td>\n",
       "      <td>565.0</td>\n",
       "      <td>565</td>\n",
       "      <td>597</td>\n",
       "      <td>1834.638077</td>\n",
       "      <td>1828.286737</td>\n",
       "      <td>1838.871281</td>\n",
       "      <td>...</td>\n",
       "      <td>2337.068112</td>\n",
       "      <td>18999</td>\n",
       "      <td>[[780.0294671515977, 35245.0], [780.3652087003...</td>\n",
       "      <td>5</td>\n",
       "      <td>508.504966</td>\n",
       "      <td>20114</td>\n",
       "      <td>[{\"singly_protonated_mass\": 214.1544, \"neutral...</td>\n",
       "      <td>{'before_fmdw': [{'singly_protonated_mass': 21...</td>\n",
       "      <td>2011402</td>\n",
       "      <td>P3856_YHE211_1_Slot1-1_1_5104</td>\n",
       "    </tr>\n",
       "    <tr>\n",
       "      <th>56205</th>\n",
       "      <td>780.030140</td>\n",
       "      <td>780.029639</td>\n",
       "      <td>780.005296</td>\n",
       "      <td>780.054983</td>\n",
       "      <td>761.0</td>\n",
       "      <td>735</td>\n",
       "      <td>782</td>\n",
       "      <td>1835.166917</td>\n",
       "      <td>1831.992276</td>\n",
       "      <td>1839.400354</td>\n",
       "      <td>...</td>\n",
       "      <td>2337.067087</td>\n",
       "      <td>18808</td>\n",
       "      <td>[[780.0301398682218, 26774.0], [780.3632053724...</td>\n",
       "      <td>5</td>\n",
       "      <td>571.890689</td>\n",
       "      <td>20062</td>\n",
       "      <td>[{\"singly_protonated_mass\": 294.1621, \"neutral...</td>\n",
       "      <td>{'before_fmdw': [{'singly_protonated_mass': 29...</td>\n",
       "      <td>2006201</td>\n",
       "      <td>P3856_YHE211_1_Slot1-1_1_5104</td>\n",
       "    </tr>\n",
       "    <tr>\n",
       "      <th>56207</th>\n",
       "      <td>780.068290</td>\n",
       "      <td>780.057644</td>\n",
       "      <td>780.043445</td>\n",
       "      <td>780.093135</td>\n",
       "      <td>747.0</td>\n",
       "      <td>725</td>\n",
       "      <td>766</td>\n",
       "      <td>1835.696421</td>\n",
       "      <td>1824.052775</td>\n",
       "      <td>1845.221306</td>\n",
       "      <td>...</td>\n",
       "      <td>2337.151103</td>\n",
       "      <td>2504</td>\n",
       "      <td>[[780.0682902344199, 1531.0], [780.39113974552...</td>\n",
       "      <td>5</td>\n",
       "      <td>123.424640</td>\n",
       "      <td>20062</td>\n",
       "      <td>[{\"singly_protonated_mass\": 294.1621, \"neutral...</td>\n",
       "      <td>{'before_fmdw': [{'singly_protonated_mass': 29...</td>\n",
       "      <td>2006203</td>\n",
       "      <td>P3856_YHE211_1_Slot1-1_1_5104</td>\n",
       "    </tr>\n",
       "  </tbody>\n",
       "</table>\n",
       "<p>6 rows × 28 columns</p>\n",
       "</div>"
      ],
      "text/plain": [
       "       mz_apex_without_saturation_correction  \\\n",
       "55374                             780.029497   \n",
       "57852                             780.855747   \n",
       "60604                             780.862986   \n",
       "56466                             780.029467   \n",
       "56205                             780.030140   \n",
       "56207                             780.068290   \n",
       "\n",
       "       mz_apex_with_saturation_correction    mz_lower    mz_upper  scan_apex  \\\n",
       "55374                          780.029714  780.004654  780.054341      534.0   \n",
       "57852                          780.857583  780.830877  780.880617      572.0   \n",
       "60604                          780.858894  780.838116  780.887856      571.0   \n",
       "56466                          780.029980  780.004624  780.054311      565.0   \n",
       "56205                          780.029639  780.005296  780.054983      761.0   \n",
       "56207                          780.057644  780.043445  780.093135      747.0   \n",
       "\n",
       "       scan_lower  scan_upper      rt_apex     rt_lower     rt_upper  ...  \\\n",
       "55374         512         573  1834.638077  1829.346162  1838.341292  ...   \n",
       "57852         521         592  1840.457547  1830.405171  1844.163753  ...   \n",
       "60604         571         646  1847.867500  1845.221306  1855.279164  ...   \n",
       "56466         565         597  1834.638077  1828.286737  1838.871281  ...   \n",
       "56205         735         782  1835.166917  1831.992276  1839.400354  ...   \n",
       "56207         725         766  1835.696421  1824.052775  1845.221306  ...   \n",
       "\n",
       "       monoisotopic_mass  feature_intensity  \\\n",
       "55374        2337.067312              75732   \n",
       "57852        3119.401225              59910   \n",
       "60604        1559.703235              23695   \n",
       "56466        2337.068112              18999   \n",
       "56205        2337.067087              18808   \n",
       "56207        2337.151103               2504   \n",
       "\n",
       "                                                envelope isotope_count  \\\n",
       "55374  [[780.0294971506055, 77123.0], [780.3635697630...             5   \n",
       "57852  [[780.8557471366717, 64485.0], [781.1023973131...             6   \n",
       "60604  [[780.8629861664906, 29100.0], [781.3528246559...             4   \n",
       "56466  [[780.0294671515977, 35245.0], [780.3652087003...             5   \n",
       "56205  [[780.0301398682218, 26774.0], [780.3632053724...             5   \n",
       "56207  [[780.0682902344199, 1531.0], [780.39113974552...             5   \n",
       "\n",
       "      deconvolution_score precursor_cuboid_id  \\\n",
       "55374          943.145029               19902   \n",
       "57852          390.425013               20379   \n",
       "60604          358.860349               20920   \n",
       "56466          508.504966               20114   \n",
       "56205          571.890689               20062   \n",
       "56207          123.424640               20062   \n",
       "\n",
       "                                         fragment_ions_l  \\\n",
       "55374  [{\"singly_protonated_mass\": 217.0761, \"neutral...   \n",
       "57852  [{\"singly_protonated_mass\": 291.1465, \"neutral...   \n",
       "60604  [{\"singly_protonated_mass\": 315.1681, \"neutral...   \n",
       "56466  [{\"singly_protonated_mass\": 214.1544, \"neutral...   \n",
       "56205  [{\"singly_protonated_mass\": 294.1621, \"neutral...   \n",
       "56207  [{\"singly_protonated_mass\": 294.1621, \"neutral...   \n",
       "\n",
       "                                     fmdw_before_after_d  feature_id  \\\n",
       "55374  {'before_fmdw': [{'singly_protonated_mass': 21...     1990203   \n",
       "57852  {'before_fmdw': [{'singly_protonated_mass': 29...     2037905   \n",
       "60604  {'before_fmdw': [{'singly_protonated_mass': 31...     2092003   \n",
       "56466  {'before_fmdw': [{'singly_protonated_mass': 21...     2011402   \n",
       "56205  {'before_fmdw': [{'singly_protonated_mass': 29...     2006201   \n",
       "56207  {'before_fmdw': [{'singly_protonated_mass': 29...     2006203   \n",
       "\n",
       "                            run_name  \n",
       "55374  P3856_YHE211_1_Slot1-1_1_5104  \n",
       "57852  P3856_YHE211_1_Slot1-1_1_5104  \n",
       "60604  P3856_YHE211_1_Slot1-1_1_5104  \n",
       "56466  P3856_YHE211_1_Slot1-1_1_5104  \n",
       "56205  P3856_YHE211_1_Slot1-1_1_5104  \n",
       "56207  P3856_YHE211_1_Slot1-1_1_5104  \n",
       "\n",
       "[6 rows x 28 columns]"
      ]
     },
     "execution_count": 15,
     "metadata": {},
     "output_type": "execute_result"
    }
   ],
   "source": [
    "df = features_df[(features_df.monoisotopic_mz > 780) & (features_df.monoisotopic_mz < 781) & (features_df.rt_apex > 1830) & (features_df.rt_apex < 1850)]\n",
    "df"
   ]
  },
  {
   "cell_type": "markdown",
   "metadata": {},
   "source": [
    "feature = features_df.loc[60604]"
   ]
  },
  {
   "cell_type": "markdown",
   "metadata": {},
   "source": [
    "#### selecting a feature by feature_id"
   ]
  },
  {
   "cell_type": "code",
   "execution_count": 32,
   "metadata": {},
   "outputs": [
    {
     "name": "stdout",
     "output_type": "stream",
     "text": [
      "precursor id: 20114\n"
     ]
    }
   ],
   "source": [
    "feature = features_df[(features_df.feature_id == 2011402)].iloc[0]\n",
    "print('precursor id: {}'.format(feature.precursor_cuboid_id))"
   ]
  },
  {
   "cell_type": "markdown",
   "metadata": {},
   "source": [
    "#### display the feature's attributes"
   ]
  },
  {
   "cell_type": "code",
   "execution_count": 33,
   "metadata": {},
   "outputs": [
    {
     "data": {
      "text/plain": [
       "mz_apex_without_saturation_correction                                                     780.029\n",
       "mz_apex_with_saturation_correction                                                         780.03\n",
       "mz_lower                                                                                  780.005\n",
       "mz_upper                                                                                  780.054\n",
       "scan_apex                                                                                     565\n",
       "scan_lower                                                                                    565\n",
       "scan_upper                                                                                    597\n",
       "rt_apex                                                                                   1834.64\n",
       "rt_lower                                                                                  1828.29\n",
       "rt_upper                                                                                  1838.87\n",
       "mono_intensity_without_saturation_correction                                                18999\n",
       "mono_intensity_with_saturation_correction                                                   18999\n",
       "mono_intensity_adjustment_outcome                                      monoisotopic_not_saturated\n",
       "isotopic_peaks                                  [{'mz': 780.0294671515977, 'mz_lower': 780.004...\n",
       "scan_df                                         [{'scan': 565, 'intensity': 746, 'filtered_int...\n",
       "rt_df                                           [{'frame_id': 16267, 'retention_time_secs': 18...\n",
       "monoisotopic_mz                                                                            780.03\n",
       "charge                                                                                          3\n",
       "monoisotopic_mass                                                                         2337.07\n",
       "feature_intensity                                                                           18999\n",
       "envelope                                        [[780.0294671515977, 35245.0], [780.3652087003...\n",
       "isotope_count                                                                                   5\n",
       "deconvolution_score                                                                       508.505\n",
       "precursor_cuboid_id                                                                         20114\n",
       "fragment_ions_l                                 [{\"singly_protonated_mass\": 214.1544, \"neutral...\n",
       "fmdw_before_after_d                             {'before_fmdw': [{'singly_protonated_mass': 21...\n",
       "feature_id                                                                                2011402\n",
       "run_name                                                            P3856_YHE211_1_Slot1-1_1_5104\n",
       "Name: 56466, dtype: object"
      ]
     },
     "execution_count": 33,
     "metadata": {},
     "output_type": "execute_result"
    }
   ],
   "source": [
    "feature"
   ]
  },
  {
   "cell_type": "markdown",
   "metadata": {},
   "source": [
    "#### browsing for an MQ feature"
   ]
  },
  {
   "cell_type": "raw",
   "metadata": {},
   "source": [
    "df = mq_features_df[(mq_features_df.monoisotopic_mz > 790.5) & (mq_features_df.monoisotopic_mz < 791) & (mq_features_df.charge == 2) & (mq_features_df.rt_apex > 1830) & (mq_features_df.rt_apex < 1850)]\n",
    "df"
   ]
  },
  {
   "cell_type": "raw",
   "metadata": {},
   "source": [
    "feature_mq = df.loc[5173]"
   ]
  },
  {
   "cell_type": "markdown",
   "metadata": {},
   "source": [
    "#### selecting an MQ feature by feature_id"
   ]
  },
  {
   "cell_type": "raw",
   "metadata": {},
   "source": [
    "feature_mq = mq_features_df[(mq_features_df.feature_id == 235)].iloc[0]"
   ]
  },
  {
   "cell_type": "markdown",
   "metadata": {},
   "source": [
    "#### selecting an MQ feature by index"
   ]
  },
  {
   "cell_type": "code",
   "execution_count": 34,
   "metadata": {},
   "outputs": [],
   "source": [
    "mq_index_for_precursor = 20432  # from the notebook 'MaxQuant APL index from precursor id'\n",
    "feature_mq = mq_features_df[(mq_features_df.mq_index == mq_index_for_precursor)].iloc[0]"
   ]
  },
  {
   "cell_type": "markdown",
   "metadata": {},
   "source": [
    "#### display the feature's attributes"
   ]
  },
  {
   "cell_type": "code",
   "execution_count": 35,
   "metadata": {},
   "outputs": [
    {
     "data": {
      "text/plain": [
       "monoisotopic_mass                                              2337.07\n",
       "charge                                                               3\n",
       "monoisotopic_mz                                                 780.03\n",
       "intensity                                                       169890\n",
       "scan_apex                                                          534\n",
       "rt_apex                                                           1836\n",
       "raw_file                                 P3856_YHE211_1_Slot1-1_1_5104\n",
       "mq_index                                                         20432\n",
       "ms2_peaks            [{'mz': 199.10936, 'intensity': 16}, {'mz': 20...\n",
       "feature_id                                                       15998\n",
       "Name: 15998, dtype: object"
      ]
     },
     "execution_count": 35,
     "metadata": {},
     "output_type": "execute_result"
    }
   ],
   "source": [
    "feature_mq"
   ]
  },
  {
   "cell_type": "code",
   "execution_count": 36,
   "metadata": {},
   "outputs": [],
   "source": [
    "fragment_ions_df = pd.DataFrame(json.loads(feature.fragment_ions_l))\n",
    "fragment_ions_df['normalised_intensity'] = fragment_ions_df.intensity / fragment_ions_df.intensity.max()\n"
   ]
  },
  {
   "cell_type": "code",
   "execution_count": 37,
   "metadata": {},
   "outputs": [],
   "source": [
    "fragment_ions_mq_df = pd.DataFrame(feature_mq.ms2_peaks)\n",
    "fragment_ions_mq_df['normalised_intensity'] = fragment_ions_mq_df.intensity / fragment_ions_mq_df.intensity.max()\n"
   ]
  },
  {
   "cell_type": "code",
   "execution_count": 38,
   "metadata": {},
   "outputs": [
    {
     "data": {
      "image/png": "[encoded data removed]",
      "text/plain": [
       "<Figure size 1080x576 with 1 Axes>"
      ]
     },
     "metadata": {
      "needs_background": "light"
     },
     "output_type": "display_data"
    }
   ],
   "source": [
    "f, ax = plt.subplots()\n",
    "colors = ['tab:blue', 'tab:orange', 'tab:green', 'tab:red', 'tab:purple', 'tab:brown', 'tab:pink', 'tab:gray', 'tab:olive', 'tab:cyan']\n",
    "\n",
    "# plot the raw data\n",
    "markerline, stemlines, baseline = ax.stem(fragment_ions_df.singly_protonated_mass, fragment_ions_df.normalised_intensity, markerfmt=\" \", use_line_collection=True, label='mine')\n",
    "plt.setp(markerline, 'color', 'tab:green')\n",
    "plt.setp(stemlines, 'color', 'tab:green')\n",
    "plt.setp(baseline, 'color', 'tab:gray')\n",
    "\n",
    "# plot the filtered data\n",
    "markerline, stemlines, baseline = ax.stem(fragment_ions_mq_df.mz, -fragment_ions_mq_df.normalised_intensity, markerfmt=\" \", use_line_collection=True, label='MaxQuant')\n",
    "plt.setp(markerline, 'color', 'tab:purple')\n",
    "plt.setp(stemlines, 'color', 'tab:purple')\n",
    "plt.setp(baseline, 'color', 'tab:gray')\n",
    "\n",
    "plt.xlabel('neutral mass (Da)')\n",
    "plt.ylabel('normalised intensity')\n",
    "f.set_figheight(8)\n",
    "f.set_figwidth(15)\n",
    "\n",
    "plt.margins(0.06)\n",
    "plt.legend(loc='best')\n",
    "plt.title('')\n",
    "plt.show()"
   ]
  },
  {
   "cell_type": "code",
   "execution_count": null,
   "metadata": {},
   "outputs": [],
   "source": []
  }
 ],
 "metadata": {
  "kernelspec": {
   "display_name": "Python 3",
   "language": "python",
   "name": "python3"
  },
  "language_info": {
   "codemirror_mode": {
    "name": "ipython",
    "version": 3
   },
   "file_extension": ".py",
   "mimetype": "text/x-python",
   "name": "python",
   "nbconvert_exporter": "python",
   "pygments_lexer": "ipython3",
   "version": "3.8.5"
  }
 },
 "nbformat": 4,
 "nbformat_minor": 4
}
