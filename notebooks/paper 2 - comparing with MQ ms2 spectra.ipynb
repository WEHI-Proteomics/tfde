{
 "cells": [
  {
   "cell_type": "code",
   "execution_count": 1,
   "metadata": {},
   "outputs": [],
   "source": [
    "import pandas as pd\n",
    "from os.path import expanduser\n",
    "import matplotlib.pyplot as plt\n",
    "import json"
   ]
  },
  {
   "cell_type": "code",
   "execution_count": 2,
   "metadata": {},
   "outputs": [],
   "source": [
    "experiment_name = 'P3856'\n",
    "run_name = 'P3856_YHE211_1_Slot1-1_1_5104'\n",
    "precursor_definition_method = 'pasef'"
   ]
  },
  {
   "cell_type": "code",
   "execution_count": 3,
   "metadata": {},
   "outputs": [],
   "source": [
    "BASE_DIR = '{}/P3856-results-cs-true-fmdw-true-2021-04-24-19-58-32'.format(expanduser('~'))\n",
    "\n",
    "FEATURES_DIR = '{}/features-{}'.format(BASE_DIR, precursor_definition_method)\n",
    "FEATURES_NAME = '{}/exp-{}-run-{}-features-{}.pkl'.format(FEATURES_DIR, experiment_name, run_name, precursor_definition_method)\n",
    "FEATURES_DEDUP_NAME = '{}/exp-{}-run-{}-features-{}-dedup.pkl'.format(FEATURES_DIR, experiment_name, run_name, precursor_definition_method)"
   ]
  },
  {
   "cell_type": "code",
   "execution_count": 168,
   "metadata": {},
   "outputs": [],
   "source": [
    "df = pd.read_pickle(FEATURES_NAME)['features_df']"
   ]
  },
  {
   "cell_type": "code",
   "execution_count": 169,
   "metadata": {},
   "outputs": [
    {
     "data": {
      "text/html": [
       "<div>\n",
       "<style scoped>\n",
       "    .dataframe tbody tr th:only-of-type {\n",
       "        vertical-align: middle;\n",
       "    }\n",
       "\n",
       "    .dataframe tbody tr th {\n",
       "        vertical-align: top;\n",
       "    }\n",
       "\n",
       "    .dataframe thead th {\n",
       "        text-align: right;\n",
       "    }\n",
       "</style>\n",
       "<table border=\"1\" class=\"dataframe\">\n",
       "  <thead>\n",
       "    <tr style=\"text-align: right;\">\n",
       "      <th></th>\n",
       "      <th>mz_apex_without_saturation_correction</th>\n",
       "      <th>mz_apex_with_saturation_correction</th>\n",
       "      <th>mz_lower</th>\n",
       "      <th>mz_upper</th>\n",
       "      <th>scan_apex</th>\n",
       "      <th>scan_lower</th>\n",
       "      <th>scan_upper</th>\n",
       "      <th>rt_apex</th>\n",
       "      <th>rt_lower</th>\n",
       "      <th>rt_upper</th>\n",
       "      <th>...</th>\n",
       "      <th>monoisotopic_mass</th>\n",
       "      <th>feature_intensity</th>\n",
       "      <th>envelope</th>\n",
       "      <th>isotope_count</th>\n",
       "      <th>deconvolution_score</th>\n",
       "      <th>precursor_cuboid_id</th>\n",
       "      <th>fragment_ions_l</th>\n",
       "      <th>fmdw_before_after_d</th>\n",
       "      <th>feature_id</th>\n",
       "      <th>run_name</th>\n",
       "    </tr>\n",
       "  </thead>\n",
       "  <tbody>\n",
       "    <tr>\n",
       "      <th>174109</th>\n",
       "      <td>1017.530836</td>\n",
       "      <td>1017.534807</td>\n",
       "      <td>1017.498428</td>\n",
       "      <td>1017.563244</td>\n",
       "      <td>159.0</td>\n",
       "      <td>135</td>\n",
       "      <td>165</td>\n",
       "      <td>2177.577791</td>\n",
       "      <td>2173.344237</td>\n",
       "      <td>2183.399624</td>\n",
       "      <td>...</td>\n",
       "      <td>2033.055061</td>\n",
       "      <td>99771</td>\n",
       "      <td>[[1017.5308362026497, 173571.0], [1018.0311593...</td>\n",
       "      <td>5</td>\n",
       "      <td>1404.710840</td>\n",
       "      <td>42573</td>\n",
       "      <td>[{\"singly_protonated_mass\": 183.147, \"neutral_...</td>\n",
       "      <td>{'before_fmdw': [{'singly_protonated_mass': 18...</td>\n",
       "      <td>4257301</td>\n",
       "      <td>P3856_YHE211_1_Slot1-1_1_5104</td>\n",
       "    </tr>\n",
       "    <tr>\n",
       "      <th>174110</th>\n",
       "      <td>1016.986207</td>\n",
       "      <td>1017.002340</td>\n",
       "      <td>1016.953817</td>\n",
       "      <td>1017.018598</td>\n",
       "      <td>111.0</td>\n",
       "      <td>90</td>\n",
       "      <td>148</td>\n",
       "      <td>2181.282439</td>\n",
       "      <td>2178.107087</td>\n",
       "      <td>2184.458564</td>\n",
       "      <td>...</td>\n",
       "      <td>2031.990126</td>\n",
       "      <td>76469</td>\n",
       "      <td>[[1016.9862073365578, 13222.0], [1017.49260325...</td>\n",
       "      <td>5</td>\n",
       "      <td>390.519173</td>\n",
       "      <td>42573</td>\n",
       "      <td>[{\"singly_protonated_mass\": 183.147, \"neutral_...</td>\n",
       "      <td>{'before_fmdw': [{'singly_protonated_mass': 18...</td>\n",
       "      <td>4257302</td>\n",
       "      <td>P3856_YHE211_1_Slot1-1_1_5104</td>\n",
       "    </tr>\n",
       "    <tr>\n",
       "      <th>174111</th>\n",
       "      <td>1015.258162</td>\n",
       "      <td>1015.252502</td>\n",
       "      <td>1015.225826</td>\n",
       "      <td>1015.290497</td>\n",
       "      <td>125.0</td>\n",
       "      <td>97</td>\n",
       "      <td>132</td>\n",
       "      <td>2169.640079</td>\n",
       "      <td>2169.640079</td>\n",
       "      <td>2173.344237</td>\n",
       "      <td>...</td>\n",
       "      <td>4056.980902</td>\n",
       "      <td>252</td>\n",
       "      <td>[[1015.2581619068335, 1064.0], [1015.517740553...</td>\n",
       "      <td>7</td>\n",
       "      <td>368.217469</td>\n",
       "      <td>42573</td>\n",
       "      <td>[{\"singly_protonated_mass\": 183.147, \"neutral_...</td>\n",
       "      <td>{'before_fmdw': [{'singly_protonated_mass': 18...</td>\n",
       "      <td>4257303</td>\n",
       "      <td>P3856_YHE211_1_Slot1-1_1_5104</td>\n",
       "    </tr>\n",
       "    <tr>\n",
       "      <th>174112</th>\n",
       "      <td>1014.535812</td>\n",
       "      <td>1014.533848</td>\n",
       "      <td>1014.503500</td>\n",
       "      <td>1014.568125</td>\n",
       "      <td>106.0</td>\n",
       "      <td>90</td>\n",
       "      <td>131</td>\n",
       "      <td>2173.874280</td>\n",
       "      <td>2170.169158</td>\n",
       "      <td>2179.694206</td>\n",
       "      <td>...</td>\n",
       "      <td>2027.053144</td>\n",
       "      <td>9556</td>\n",
       "      <td>[[1014.5358122044247, 21169.0], [1015.03583757...</td>\n",
       "      <td>5</td>\n",
       "      <td>305.748368</td>\n",
       "      <td>42573</td>\n",
       "      <td>[{\"singly_protonated_mass\": 183.147, \"neutral_...</td>\n",
       "      <td>{'before_fmdw': [{'singly_protonated_mass': 18...</td>\n",
       "      <td>4257304</td>\n",
       "      <td>P3856_YHE211_1_Slot1-1_1_5104</td>\n",
       "    </tr>\n",
       "    <tr>\n",
       "      <th>174113</th>\n",
       "      <td>1018.072160</td>\n",
       "      <td>1018.050409</td>\n",
       "      <td>1018.039735</td>\n",
       "      <td>1018.104585</td>\n",
       "      <td>165.0</td>\n",
       "      <td>143</td>\n",
       "      <td>165</td>\n",
       "      <td>2178.636597</td>\n",
       "      <td>2172.814296</td>\n",
       "      <td>2182.870203</td>\n",
       "      <td>...</td>\n",
       "      <td>2034.086265</td>\n",
       "      <td>28246</td>\n",
       "      <td>[[1018.0721597712399, 6483.0], [1018.573231121...</td>\n",
       "      <td>5</td>\n",
       "      <td>231.868163</td>\n",
       "      <td>42573</td>\n",
       "      <td>[{\"singly_protonated_mass\": 183.147, \"neutral_...</td>\n",
       "      <td>{'before_fmdw': [{'singly_protonated_mass': 18...</td>\n",
       "      <td>4257305</td>\n",
       "      <td>P3856_YHE211_1_Slot1-1_1_5104</td>\n",
       "    </tr>\n",
       "  </tbody>\n",
       "</table>\n",
       "<p>5 rows × 28 columns</p>\n",
       "</div>"
      ],
      "text/plain": [
       "        mz_apex_without_saturation_correction  \\\n",
       "174109                            1017.530836   \n",
       "174110                            1016.986207   \n",
       "174111                            1015.258162   \n",
       "174112                            1014.535812   \n",
       "174113                            1018.072160   \n",
       "\n",
       "        mz_apex_with_saturation_correction     mz_lower     mz_upper  \\\n",
       "174109                         1017.534807  1017.498428  1017.563244   \n",
       "174110                         1017.002340  1016.953817  1017.018598   \n",
       "174111                         1015.252502  1015.225826  1015.290497   \n",
       "174112                         1014.533848  1014.503500  1014.568125   \n",
       "174113                         1018.050409  1018.039735  1018.104585   \n",
       "\n",
       "        scan_apex  scan_lower  scan_upper      rt_apex     rt_lower  \\\n",
       "174109      159.0         135         165  2177.577791  2173.344237   \n",
       "174110      111.0          90         148  2181.282439  2178.107087   \n",
       "174111      125.0          97         132  2169.640079  2169.640079   \n",
       "174112      106.0          90         131  2173.874280  2170.169158   \n",
       "174113      165.0         143         165  2178.636597  2172.814296   \n",
       "\n",
       "           rt_upper  ...  monoisotopic_mass  feature_intensity  \\\n",
       "174109  2183.399624  ...        2033.055061              99771   \n",
       "174110  2184.458564  ...        2031.990126              76469   \n",
       "174111  2173.344237  ...        4056.980902                252   \n",
       "174112  2179.694206  ...        2027.053144               9556   \n",
       "174113  2182.870203  ...        2034.086265              28246   \n",
       "\n",
       "                                                 envelope isotope_count  \\\n",
       "174109  [[1017.5308362026497, 173571.0], [1018.0311593...             5   \n",
       "174110  [[1016.9862073365578, 13222.0], [1017.49260325...             5   \n",
       "174111  [[1015.2581619068335, 1064.0], [1015.517740553...             7   \n",
       "174112  [[1014.5358122044247, 21169.0], [1015.03583757...             5   \n",
       "174113  [[1018.0721597712399, 6483.0], [1018.573231121...             5   \n",
       "\n",
       "       deconvolution_score precursor_cuboid_id  \\\n",
       "174109         1404.710840               42573   \n",
       "174110          390.519173               42573   \n",
       "174111          368.217469               42573   \n",
       "174112          305.748368               42573   \n",
       "174113          231.868163               42573   \n",
       "\n",
       "                                          fragment_ions_l  \\\n",
       "174109  [{\"singly_protonated_mass\": 183.147, \"neutral_...   \n",
       "174110  [{\"singly_protonated_mass\": 183.147, \"neutral_...   \n",
       "174111  [{\"singly_protonated_mass\": 183.147, \"neutral_...   \n",
       "174112  [{\"singly_protonated_mass\": 183.147, \"neutral_...   \n",
       "174113  [{\"singly_protonated_mass\": 183.147, \"neutral_...   \n",
       "\n",
       "                                      fmdw_before_after_d  feature_id  \\\n",
       "174109  {'before_fmdw': [{'singly_protonated_mass': 18...     4257301   \n",
       "174110  {'before_fmdw': [{'singly_protonated_mass': 18...     4257302   \n",
       "174111  {'before_fmdw': [{'singly_protonated_mass': 18...     4257303   \n",
       "174112  {'before_fmdw': [{'singly_protonated_mass': 18...     4257304   \n",
       "174113  {'before_fmdw': [{'singly_protonated_mass': 18...     4257305   \n",
       "\n",
       "                             run_name  \n",
       "174109  P3856_YHE211_1_Slot1-1_1_5104  \n",
       "174110  P3856_YHE211_1_Slot1-1_1_5104  \n",
       "174111  P3856_YHE211_1_Slot1-1_1_5104  \n",
       "174112  P3856_YHE211_1_Slot1-1_1_5104  \n",
       "174113  P3856_YHE211_1_Slot1-1_1_5104  \n",
       "\n",
       "[5 rows x 28 columns]"
      ]
     },
     "execution_count": 169,
     "metadata": {},
     "output_type": "execute_result"
    }
   ],
   "source": [
    "df[df.precursor_cuboid_id == 42573]"
   ]
  },
  {
   "cell_type": "code",
   "execution_count": 4,
   "metadata": {},
   "outputs": [],
   "source": [
    "features_df = pd.read_pickle(FEATURES_DEDUP_NAME)['features_df']"
   ]
  },
  {
   "cell_type": "code",
   "execution_count": 5,
   "metadata": {},
   "outputs": [
    {
     "name": "stdout",
     "output_type": "stream",
     "text": [
      "101898 features\n"
     ]
    }
   ],
   "source": [
    "print('{} features'.format(len(features_df)))"
   ]
  },
  {
   "cell_type": "code",
   "execution_count": 6,
   "metadata": {},
   "outputs": [],
   "source": [
    "mq_features_df = pd.read_pickle('/home/daryl/MQ-analysis-of-P3856/combined/P3856_YHE211_1_Slot1-1_1_5104-dwm.pkl')\n",
    "mq_features_df['feature_id'] = mq_features_df.index.values.tolist()"
   ]
  },
  {
   "cell_type": "code",
   "execution_count": 7,
   "metadata": {},
   "outputs": [
    {
     "name": "stdout",
     "output_type": "stream",
     "text": [
      "18437 MQ features\n"
     ]
    }
   ],
   "source": [
    "print('{} MQ features'.format(len(mq_features_df)))"
   ]
  },
  {
   "cell_type": "markdown",
   "metadata": {},
   "source": [
    "#### browsing for a feature by attribute range"
   ]
  },
  {
   "cell_type": "raw",
   "metadata": {},
   "source": [
    "df = features_df[(features_df.monoisotopic_mz > 1017) & (features_df.monoisotopic_mz < 1017.1) & (features_df.rt_apex > 2150) & (features_df.rt_apex < 2200)]\n",
    "df"
   ]
  },
  {
   "cell_type": "raw",
   "metadata": {},
   "source": [
    "feature = features_df.loc[60604]"
   ]
  },
  {
   "cell_type": "markdown",
   "metadata": {},
   "source": [
    "#### selecting a feature by feature_id"
   ]
  },
  {
   "cell_type": "code",
   "execution_count": 32,
   "metadata": {},
   "outputs": [
    {
     "name": "stdout",
     "output_type": "stream",
     "text": [
      "precursor id: 20114\n"
     ]
    }
   ],
   "source": [
    "feature = features_df[(features_df.feature_id == 2011402)].iloc[0]\n",
    "print('precursor id: {}'.format(feature.precursor_cuboid_id))"
   ]
  },
  {
   "cell_type": "markdown",
   "metadata": {},
   "source": [
    "#### selecting a feature by precursor"
   ]
  },
  {
   "cell_type": "code",
   "execution_count": 170,
   "metadata": {},
   "outputs": [
    {
     "data": {
      "text/html": [
       "<div>\n",
       "<style scoped>\n",
       "    .dataframe tbody tr th:only-of-type {\n",
       "        vertical-align: middle;\n",
       "    }\n",
       "\n",
       "    .dataframe tbody tr th {\n",
       "        vertical-align: top;\n",
       "    }\n",
       "\n",
       "    .dataframe thead th {\n",
       "        text-align: right;\n",
       "    }\n",
       "</style>\n",
       "<table border=\"1\" class=\"dataframe\">\n",
       "  <thead>\n",
       "    <tr style=\"text-align: right;\">\n",
       "      <th></th>\n",
       "      <th>mz_apex_without_saturation_correction</th>\n",
       "      <th>mz_apex_with_saturation_correction</th>\n",
       "      <th>mz_lower</th>\n",
       "      <th>mz_upper</th>\n",
       "      <th>scan_apex</th>\n",
       "      <th>scan_lower</th>\n",
       "      <th>scan_upper</th>\n",
       "      <th>rt_apex</th>\n",
       "      <th>rt_lower</th>\n",
       "      <th>rt_upper</th>\n",
       "      <th>...</th>\n",
       "      <th>monoisotopic_mass</th>\n",
       "      <th>feature_intensity</th>\n",
       "      <th>envelope</th>\n",
       "      <th>isotope_count</th>\n",
       "      <th>deconvolution_score</th>\n",
       "      <th>precursor_cuboid_id</th>\n",
       "      <th>fragment_ions_l</th>\n",
       "      <th>fmdw_before_after_d</th>\n",
       "      <th>feature_id</th>\n",
       "      <th>run_name</th>\n",
       "    </tr>\n",
       "  </thead>\n",
       "  <tbody>\n",
       "    <tr>\n",
       "      <th>173282</th>\n",
       "      <td>1016.021842</td>\n",
       "      <td>1016.022844</td>\n",
       "      <td>1015.989483</td>\n",
       "      <td>1016.054202</td>\n",
       "      <td>161.0</td>\n",
       "      <td>119</td>\n",
       "      <td>190</td>\n",
       "      <td>2174.931486</td>\n",
       "      <td>2171.227891</td>\n",
       "      <td>2180.222723</td>\n",
       "      <td>...</td>\n",
       "      <td>4060.062270</td>\n",
       "      <td>34688</td>\n",
       "      <td>[[1016.0218423695002, 58945.70621358305], [101...</td>\n",
       "      <td>7</td>\n",
       "      <td>358.697219</td>\n",
       "      <td>42416</td>\n",
       "      <td>[{\"singly_protonated_mass\": 219.1505, \"neutral...</td>\n",
       "      <td>{'before_fmdw': [{'singly_protonated_mass': 21...</td>\n",
       "      <td>4241603</td>\n",
       "      <td>P3856_YHE211_1_Slot1-1_1_5104</td>\n",
       "    </tr>\n",
       "    <tr>\n",
       "      <th>173283</th>\n",
       "      <td>1016.985618</td>\n",
       "      <td>1017.000986</td>\n",
       "      <td>1016.953227</td>\n",
       "      <td>1017.018009</td>\n",
       "      <td>186.0</td>\n",
       "      <td>154</td>\n",
       "      <td>190</td>\n",
       "      <td>2170.697470</td>\n",
       "      <td>2166.464405</td>\n",
       "      <td>2174.931486</td>\n",
       "      <td>...</td>\n",
       "      <td>2031.987420</td>\n",
       "      <td>27209</td>\n",
       "      <td>[[1016.9856180314171, 15023.0], [1017.49202780...</td>\n",
       "      <td>5</td>\n",
       "      <td>255.831244</td>\n",
       "      <td>42416</td>\n",
       "      <td>[{\"singly_protonated_mass\": 219.1505, \"neutral...</td>\n",
       "      <td>{'before_fmdw': [{'singly_protonated_mass': 21...</td>\n",
       "      <td>4241604</td>\n",
       "      <td>P3856_YHE211_1_Slot1-1_1_5104</td>\n",
       "    </tr>\n",
       "    <tr>\n",
       "      <th>173281</th>\n",
       "      <td>1014.540314</td>\n",
       "      <td>1014.541260</td>\n",
       "      <td>1014.508001</td>\n",
       "      <td>1014.572626</td>\n",
       "      <td>190.0</td>\n",
       "      <td>159</td>\n",
       "      <td>190</td>\n",
       "      <td>2175.990259</td>\n",
       "      <td>2172.285410</td>\n",
       "      <td>2179.164516</td>\n",
       "      <td>...</td>\n",
       "      <td>4054.135934</td>\n",
       "      <td>10122</td>\n",
       "      <td>[[1014.5403137631848, 27802.0], [1014.77490646...</td>\n",
       "      <td>7</td>\n",
       "      <td>391.497121</td>\n",
       "      <td>42416</td>\n",
       "      <td>[{\"singly_protonated_mass\": 219.1505, \"neutral...</td>\n",
       "      <td>{'before_fmdw': [{'singly_protonated_mass': 21...</td>\n",
       "      <td>4241602</td>\n",
       "      <td>P3856_YHE211_1_Slot1-1_1_5104</td>\n",
       "    </tr>\n",
       "    <tr>\n",
       "      <th>173284</th>\n",
       "      <td>1017.806478</td>\n",
       "      <td>1017.807943</td>\n",
       "      <td>1017.774061</td>\n",
       "      <td>1017.838894</td>\n",
       "      <td>115.0</td>\n",
       "      <td>115</td>\n",
       "      <td>127</td>\n",
       "      <td>2180.222723</td>\n",
       "      <td>2171.227891</td>\n",
       "      <td>2181.282439</td>\n",
       "      <td>...</td>\n",
       "      <td>4067.202666</td>\n",
       "      <td>589</td>\n",
       "      <td>[[1017.8064775071412, 3777.0], [1018.073010523...</td>\n",
       "      <td>7</td>\n",
       "      <td>220.003659</td>\n",
       "      <td>42416</td>\n",
       "      <td>[{\"singly_protonated_mass\": 219.1505, \"neutral...</td>\n",
       "      <td>{'before_fmdw': [{'singly_protonated_mass': 21...</td>\n",
       "      <td>4241605</td>\n",
       "      <td>P3856_YHE211_1_Slot1-1_1_5104</td>\n",
       "    </tr>\n",
       "  </tbody>\n",
       "</table>\n",
       "<p>4 rows × 28 columns</p>\n",
       "</div>"
      ],
      "text/plain": [
       "        mz_apex_without_saturation_correction  \\\n",
       "173282                            1016.021842   \n",
       "173283                            1016.985618   \n",
       "173281                            1014.540314   \n",
       "173284                            1017.806478   \n",
       "\n",
       "        mz_apex_with_saturation_correction     mz_lower     mz_upper  \\\n",
       "173282                         1016.022844  1015.989483  1016.054202   \n",
       "173283                         1017.000986  1016.953227  1017.018009   \n",
       "173281                         1014.541260  1014.508001  1014.572626   \n",
       "173284                         1017.807943  1017.774061  1017.838894   \n",
       "\n",
       "        scan_apex  scan_lower  scan_upper      rt_apex     rt_lower  \\\n",
       "173282      161.0         119         190  2174.931486  2171.227891   \n",
       "173283      186.0         154         190  2170.697470  2166.464405   \n",
       "173281      190.0         159         190  2175.990259  2172.285410   \n",
       "173284      115.0         115         127  2180.222723  2171.227891   \n",
       "\n",
       "           rt_upper  ...  monoisotopic_mass  feature_intensity  \\\n",
       "173282  2180.222723  ...        4060.062270              34688   \n",
       "173283  2174.931486  ...        2031.987420              27209   \n",
       "173281  2179.164516  ...        4054.135934              10122   \n",
       "173284  2181.282439  ...        4067.202666                589   \n",
       "\n",
       "                                                 envelope isotope_count  \\\n",
       "173282  [[1016.0218423695002, 58945.70621358305], [101...             7   \n",
       "173283  [[1016.9856180314171, 15023.0], [1017.49202780...             5   \n",
       "173281  [[1014.5403137631848, 27802.0], [1014.77490646...             7   \n",
       "173284  [[1017.8064775071412, 3777.0], [1018.073010523...             7   \n",
       "\n",
       "       deconvolution_score precursor_cuboid_id  \\\n",
       "173282          358.697219               42416   \n",
       "173283          255.831244               42416   \n",
       "173281          391.497121               42416   \n",
       "173284          220.003659               42416   \n",
       "\n",
       "                                          fragment_ions_l  \\\n",
       "173282  [{\"singly_protonated_mass\": 219.1505, \"neutral...   \n",
       "173283  [{\"singly_protonated_mass\": 219.1505, \"neutral...   \n",
       "173281  [{\"singly_protonated_mass\": 219.1505, \"neutral...   \n",
       "173284  [{\"singly_protonated_mass\": 219.1505, \"neutral...   \n",
       "\n",
       "                                      fmdw_before_after_d  feature_id  \\\n",
       "173282  {'before_fmdw': [{'singly_protonated_mass': 21...     4241603   \n",
       "173283  {'before_fmdw': [{'singly_protonated_mass': 21...     4241604   \n",
       "173281  {'before_fmdw': [{'singly_protonated_mass': 21...     4241602   \n",
       "173284  {'before_fmdw': [{'singly_protonated_mass': 21...     4241605   \n",
       "\n",
       "                             run_name  \n",
       "173282  P3856_YHE211_1_Slot1-1_1_5104  \n",
       "173283  P3856_YHE211_1_Slot1-1_1_5104  \n",
       "173281  P3856_YHE211_1_Slot1-1_1_5104  \n",
       "173284  P3856_YHE211_1_Slot1-1_1_5104  \n",
       "\n",
       "[4 rows x 28 columns]"
      ]
     },
     "execution_count": 170,
     "metadata": {},
     "output_type": "execute_result"
    }
   ],
   "source": [
    "features_df[(features_df.precursor_cuboid_id == 42416)]"
   ]
  },
  {
   "cell_type": "code",
   "execution_count": 157,
   "metadata": {},
   "outputs": [],
   "source": [
    "feature = features_df.loc[173282]"
   ]
  },
  {
   "cell_type": "markdown",
   "metadata": {},
   "source": [
    "#### display the feature's attributes"
   ]
  },
  {
   "cell_type": "code",
   "execution_count": 158,
   "metadata": {},
   "outputs": [
    {
     "data": {
      "text/plain": [
       "mz_apex_without_saturation_correction                                                     1016.02\n",
       "mz_apex_with_saturation_correction                                                        1016.02\n",
       "mz_lower                                                                                  1015.99\n",
       "mz_upper                                                                                  1016.05\n",
       "scan_apex                                                                                     161\n",
       "scan_lower                                                                                    119\n",
       "scan_upper                                                                                    190\n",
       "rt_apex                                                                                   2174.93\n",
       "rt_lower                                                                                  2171.23\n",
       "rt_upper                                                                                  2180.22\n",
       "mono_intensity_without_saturation_correction                                                34688\n",
       "mono_intensity_with_saturation_correction                                                   34688\n",
       "mono_intensity_adjustment_outcome                                      monoisotopic_not_saturated\n",
       "isotopic_peaks                                  [{'mz': 1016.0218423695002, 'mz_lower': 1015.9...\n",
       "scan_df                                         [{'scan': 115, 'intensity': 302, 'filtered_int...\n",
       "rt_df                                           [{'frame_id': 19477, 'retention_time_secs': 21...\n",
       "monoisotopic_mz                                                                           1016.02\n",
       "charge                                                                                          4\n",
       "monoisotopic_mass                                                                         4060.06\n",
       "feature_intensity                                                                           34688\n",
       "envelope                                        [[1016.0218423695002, 58945.70621358305], [101...\n",
       "isotope_count                                                                                   7\n",
       "deconvolution_score                                                                       358.697\n",
       "precursor_cuboid_id                                                                         42416\n",
       "fragment_ions_l                                 [{\"singly_protonated_mass\": 219.1505, \"neutral...\n",
       "fmdw_before_after_d                             {'before_fmdw': [{'singly_protonated_mass': 21...\n",
       "feature_id                                                                                4241603\n",
       "run_name                                                            P3856_YHE211_1_Slot1-1_1_5104\n",
       "Name: 173282, dtype: object"
      ]
     },
     "execution_count": 158,
     "metadata": {},
     "output_type": "execute_result"
    }
   ],
   "source": [
    "feature"
   ]
  },
  {
   "cell_type": "markdown",
   "metadata": {},
   "source": [
    "#### browsing for an MQ feature"
   ]
  },
  {
   "cell_type": "raw",
   "metadata": {},
   "source": [
    "df = mq_features_df[(mq_features_df.monoisotopic_mz > 790.5) & (mq_features_df.monoisotopic_mz < 791) & (mq_features_df.charge == 2) & (mq_features_df.rt_apex > 1830) & (mq_features_df.rt_apex < 1850)]\n",
    "df"
   ]
  },
  {
   "cell_type": "raw",
   "metadata": {},
   "source": [
    "feature_mq = df.loc[5173]"
   ]
  },
  {
   "cell_type": "markdown",
   "metadata": {},
   "source": [
    "#### selecting an MQ feature by feature_id"
   ]
  },
  {
   "cell_type": "raw",
   "metadata": {},
   "source": [
    "feature_mq = mq_features_df[(mq_features_df.feature_id == 235)].iloc[0]"
   ]
  },
  {
   "cell_type": "markdown",
   "metadata": {},
   "source": [
    "#### selecting an MQ feature by index"
   ]
  },
  {
   "cell_type": "code",
   "execution_count": 159,
   "metadata": {},
   "outputs": [],
   "source": [
    "mq_index_for_precursor = 16715  # from the notebook 'MaxQuant APL index from precursor id'\n",
    "feature_mq = mq_features_df[(mq_features_df.mq_index == mq_index_for_precursor)].iloc[0]"
   ]
  },
  {
   "cell_type": "markdown",
   "metadata": {},
   "source": [
    "#### display the feature's attributes"
   ]
  },
  {
   "cell_type": "code",
   "execution_count": 160,
   "metadata": {},
   "outputs": [
    {
     "data": {
      "text/plain": [
       "monoisotopic_mass                                              2032.08\n",
       "charge                                                               2\n",
       "monoisotopic_mz                                                1017.05\n",
       "intensity                                                        42237\n",
       "scan_apex                                                          126\n",
       "rt_apex                                                           2178\n",
       "raw_file                                 P3856_YHE211_1_Slot1-1_1_5104\n",
       "mq_index                                                         16715\n",
       "ms2_peaks            [{'mz': 183.14698, 'intensity': 15}, {'mz': 21...\n",
       "feature_id                                                       13050\n",
       "Name: 13050, dtype: object"
      ]
     },
     "execution_count": 160,
     "metadata": {},
     "output_type": "execute_result"
    }
   ],
   "source": [
    "feature_mq"
   ]
  },
  {
   "cell_type": "markdown",
   "metadata": {},
   "source": [
    "#### compare the feature attributes"
   ]
  },
  {
   "cell_type": "code",
   "execution_count": 161,
   "metadata": {},
   "outputs": [
    {
     "name": "stdout",
     "output_type": "stream",
     "text": [
      "\t\tmine\t\tmq\n",
      "mono m/z\t1016.0228\t\t1017.0463\n",
      "charge\t\t4\t\t2\n",
      "RT\t\t2174.93\t\t2178.0\n",
      "scan\t\t161.0\t\t126\n"
     ]
    }
   ],
   "source": [
    "print('\\t\\tmine\\t\\tmq')\n",
    "print('mono m/z\\t{}\\t\\t{}'.format(round(feature.monoisotopic_mz,4), round(feature_mq.monoisotopic_mz,4)))\n",
    "print('charge\\t\\t{}\\t\\t{}'.format(feature.charge, feature_mq.charge))\n",
    "print('RT\\t\\t{}\\t\\t{}'.format(round(feature.rt_apex,2), round(feature_mq.rt_apex,2)))\n",
    "print('scan\\t\\t{}\\t\\t{}'.format(round(feature.scan_apex,2), round(feature_mq.scan_apex,2)))"
   ]
  },
  {
   "cell_type": "markdown",
   "metadata": {},
   "source": [
    "#### plot the fragment spectra"
   ]
  },
  {
   "cell_type": "code",
   "execution_count": 162,
   "metadata": {},
   "outputs": [],
   "source": [
    "fragment_ions_df = pd.DataFrame(json.loads(feature.fragment_ions_l))\n",
    "fragment_ions_df['normalised_intensity'] = fragment_ions_df.intensity / fragment_ions_df.intensity.max()\n"
   ]
  },
  {
   "cell_type": "code",
   "execution_count": 163,
   "metadata": {},
   "outputs": [],
   "source": [
    "fragment_ions_mq_df = pd.DataFrame(feature_mq.ms2_peaks)\n",
    "fragment_ions_mq_df['normalised_intensity'] = fragment_ions_mq_df.intensity / fragment_ions_mq_df.intensity.max()\n"
   ]
  },
  {
   "cell_type": "code",
   "execution_count": 164,
   "metadata": {},
   "outputs": [
    {
     "data": {
      "image/png": "[encoded data removed]",
      "text/plain": [
       "<Figure size 1080x576 with 1 Axes>"
      ]
     },
     "metadata": {
      "needs_background": "light"
     },
     "output_type": "display_data"
    }
   ],
   "source": [
    "f, ax = plt.subplots()\n",
    "colors = ['tab:blue', 'tab:orange', 'tab:green', 'tab:red', 'tab:purple', 'tab:brown', 'tab:pink', 'tab:gray', 'tab:olive', 'tab:cyan']\n",
    "\n",
    "# plot the raw data\n",
    "markerline, stemlines, baseline = ax.stem(fragment_ions_df.singly_protonated_mass, fragment_ions_df.normalised_intensity, markerfmt=\" \", use_line_collection=True, label='mine')\n",
    "plt.setp(markerline, 'color', 'tab:green')\n",
    "plt.setp(stemlines, 'color', 'tab:green')\n",
    "plt.setp(baseline, 'color', 'tab:gray')\n",
    "\n",
    "# plot the filtered data\n",
    "markerline, stemlines, baseline = ax.stem(fragment_ions_mq_df.mz, -fragment_ions_mq_df.normalised_intensity, markerfmt=\" \", use_line_collection=True, label='MaxQuant')\n",
    "plt.setp(markerline, 'color', 'tab:purple')\n",
    "plt.setp(stemlines, 'color', 'tab:purple')\n",
    "plt.setp(baseline, 'color', 'tab:gray')\n",
    "\n",
    "plt.xlabel('neutral mass (Da)')\n",
    "plt.ylabel('normalised intensity')\n",
    "f.set_figheight(8)\n",
    "f.set_figwidth(15)\n",
    "\n",
    "plt.margins(0.06)\n",
    "plt.legend(loc='best')\n",
    "plt.title('')\n",
    "plt.show()"
   ]
  },
  {
   "cell_type": "code",
   "execution_count": 165,
   "metadata": {},
   "outputs": [
    {
     "data": {
      "image/png": "[encoded data removed]",
      "text/plain": [
       "<Figure size 1080x576 with 1 Axes>"
      ]
     },
     "metadata": {
      "needs_background": "light"
     },
     "output_type": "display_data"
    }
   ],
   "source": [
    "f, ax = plt.subplots()\n",
    "colors = ['tab:blue', 'tab:orange', 'tab:green', 'tab:red', 'tab:purple', 'tab:brown', 'tab:pink', 'tab:gray', 'tab:olive', 'tab:cyan']\n",
    "\n",
    "# plot the raw data\n",
    "markerline, stemlines, baseline = ax.stem(fragment_ions_df.singly_protonated_mass, fragment_ions_df.normalised_intensity, markerfmt=\" \", use_line_collection=True, label='mine')\n",
    "plt.setp(markerline, 'color', 'tab:green')\n",
    "plt.setp(stemlines, 'color', 'tab:green')\n",
    "plt.setp(baseline, 'color', 'tab:gray')\n",
    "\n",
    "# plot the filtered data\n",
    "markerline, stemlines, baseline = ax.stem(fragment_ions_mq_df.mz, -fragment_ions_mq_df.normalised_intensity, markerfmt=\" \", use_line_collection=True, label='MaxQuant')\n",
    "plt.setp(markerline, 'color', 'tab:purple')\n",
    "plt.setp(stemlines, 'color', 'tab:purple')\n",
    "plt.setp(baseline, 'color', 'tab:gray')\n",
    "\n",
    "plt.xlabel('neutral mass (Da)')\n",
    "plt.ylabel('normalised intensity')\n",
    "f.set_figheight(8)\n",
    "f.set_figwidth(15)\n",
    "\n",
    "ax.set_xlim((1500,1700))\n",
    "\n",
    "plt.margins(0.06)\n",
    "plt.legend(loc='best')\n",
    "plt.title('')\n",
    "plt.show()"
   ]
  },
  {
   "cell_type": "code",
   "execution_count": 166,
   "metadata": {},
   "outputs": [
    {
     "data": {
      "text/html": [
       "<div>\n",
       "<style scoped>\n",
       "    .dataframe tbody tr th:only-of-type {\n",
       "        vertical-align: middle;\n",
       "    }\n",
       "\n",
       "    .dataframe tbody tr th {\n",
       "        vertical-align: top;\n",
       "    }\n",
       "\n",
       "    .dataframe thead th {\n",
       "        text-align: right;\n",
       "    }\n",
       "</style>\n",
       "<table border=\"1\" class=\"dataframe\">\n",
       "  <thead>\n",
       "    <tr style=\"text-align: right;\">\n",
       "      <th></th>\n",
       "      <th>singly_protonated_mass</th>\n",
       "      <th>neutral_mass</th>\n",
       "      <th>intensity</th>\n",
       "      <th>normalised_intensity</th>\n",
       "    </tr>\n",
       "  </thead>\n",
       "  <tbody>\n",
       "    <tr>\n",
       "      <th>30</th>\n",
       "      <td>568.2954</td>\n",
       "      <td>567.2881</td>\n",
       "      <td>1765.0</td>\n",
       "      <td>0.119378</td>\n",
       "    </tr>\n",
       "    <tr>\n",
       "      <th>46</th>\n",
       "      <td>673.3189</td>\n",
       "      <td>672.3116</td>\n",
       "      <td>1503.0</td>\n",
       "      <td>0.101657</td>\n",
       "    </tr>\n",
       "    <tr>\n",
       "      <th>57</th>\n",
       "      <td>772.3879</td>\n",
       "      <td>771.3807</td>\n",
       "      <td>2150.0</td>\n",
       "      <td>0.145418</td>\n",
       "    </tr>\n",
       "    <tr>\n",
       "      <th>71</th>\n",
       "      <td>885.4670</td>\n",
       "      <td>884.4597</td>\n",
       "      <td>2819.0</td>\n",
       "      <td>0.190666</td>\n",
       "    </tr>\n",
       "    <tr>\n",
       "      <th>91</th>\n",
       "      <td>1148.5800</td>\n",
       "      <td>1147.5727</td>\n",
       "      <td>4277.0</td>\n",
       "      <td>0.289280</td>\n",
       "    </tr>\n",
       "    <tr>\n",
       "      <th>97</th>\n",
       "      <td>1715.8707</td>\n",
       "      <td>1714.8635</td>\n",
       "      <td>10934.0</td>\n",
       "      <td>0.739533</td>\n",
       "    </tr>\n",
       "    <tr>\n",
       "      <th>99</th>\n",
       "      <td>1786.9077</td>\n",
       "      <td>1785.9004</td>\n",
       "      <td>4924.0</td>\n",
       "      <td>0.333040</td>\n",
       "    </tr>\n",
       "    <tr>\n",
       "      <th>100</th>\n",
       "      <td>2033.0492</td>\n",
       "      <td>2032.0420</td>\n",
       "      <td>14785.0</td>\n",
       "      <td>1.000000</td>\n",
       "    </tr>\n",
       "  </tbody>\n",
       "</table>\n",
       "</div>"
      ],
      "text/plain": [
       "     singly_protonated_mass  neutral_mass  intensity  normalised_intensity\n",
       "30                 568.2954      567.2881     1765.0              0.119378\n",
       "46                 673.3189      672.3116     1503.0              0.101657\n",
       "57                 772.3879      771.3807     2150.0              0.145418\n",
       "71                 885.4670      884.4597     2819.0              0.190666\n",
       "91                1148.5800     1147.5727     4277.0              0.289280\n",
       "97                1715.8707     1714.8635    10934.0              0.739533\n",
       "99                1786.9077     1785.9004     4924.0              0.333040\n",
       "100               2033.0492     2032.0420    14785.0              1.000000"
      ]
     },
     "execution_count": 166,
     "metadata": {},
     "output_type": "execute_result"
    }
   ],
   "source": [
    "fragment_ions_df[fragment_ions_df.normalised_intensity > 0.1]"
   ]
  },
  {
   "cell_type": "code",
   "execution_count": 167,
   "metadata": {},
   "outputs": [
    {
     "data": {
      "text/html": [
       "<div>\n",
       "<style scoped>\n",
       "    .dataframe tbody tr th:only-of-type {\n",
       "        vertical-align: middle;\n",
       "    }\n",
       "\n",
       "    .dataframe tbody tr th {\n",
       "        vertical-align: top;\n",
       "    }\n",
       "\n",
       "    .dataframe thead th {\n",
       "        text-align: right;\n",
       "    }\n",
       "</style>\n",
       "<table border=\"1\" class=\"dataframe\">\n",
       "  <thead>\n",
       "    <tr style=\"text-align: right;\">\n",
       "      <th></th>\n",
       "      <th>mz</th>\n",
       "      <th>intensity</th>\n",
       "      <th>normalised_intensity</th>\n",
       "    </tr>\n",
       "  </thead>\n",
       "  <tbody>\n",
       "    <tr>\n",
       "      <th>70</th>\n",
       "      <td>885.46804</td>\n",
       "      <td>421</td>\n",
       "      <td>0.111523</td>\n",
       "    </tr>\n",
       "    <tr>\n",
       "      <th>78</th>\n",
       "      <td>984.49502</td>\n",
       "      <td>656</td>\n",
       "      <td>0.173775</td>\n",
       "    </tr>\n",
       "    <tr>\n",
       "      <th>96</th>\n",
       "      <td>1148.57950</td>\n",
       "      <td>657</td>\n",
       "      <td>0.174040</td>\n",
       "    </tr>\n",
       "    <tr>\n",
       "      <th>143</th>\n",
       "      <td>1715.86930</td>\n",
       "      <td>1567</td>\n",
       "      <td>0.415099</td>\n",
       "    </tr>\n",
       "    <tr>\n",
       "      <th>146</th>\n",
       "      <td>1749.89660</td>\n",
       "      <td>2223</td>\n",
       "      <td>0.588874</td>\n",
       "    </tr>\n",
       "    <tr>\n",
       "      <th>148</th>\n",
       "      <td>1786.90750</td>\n",
       "      <td>734</td>\n",
       "      <td>0.194437</td>\n",
       "    </tr>\n",
       "    <tr>\n",
       "      <th>150</th>\n",
       "      <td>1862.97650</td>\n",
       "      <td>606</td>\n",
       "      <td>0.160530</td>\n",
       "    </tr>\n",
       "    <tr>\n",
       "      <th>155</th>\n",
       "      <td>2032.00870</td>\n",
       "      <td>1629</td>\n",
       "      <td>0.431523</td>\n",
       "    </tr>\n",
       "    <tr>\n",
       "      <th>157</th>\n",
       "      <td>2034.05520</td>\n",
       "      <td>3775</td>\n",
       "      <td>1.000000</td>\n",
       "    </tr>\n",
       "  </tbody>\n",
       "</table>\n",
       "</div>"
      ],
      "text/plain": [
       "             mz  intensity  normalised_intensity\n",
       "70    885.46804        421              0.111523\n",
       "78    984.49502        656              0.173775\n",
       "96   1148.57950        657              0.174040\n",
       "143  1715.86930       1567              0.415099\n",
       "146  1749.89660       2223              0.588874\n",
       "148  1786.90750        734              0.194437\n",
       "150  1862.97650        606              0.160530\n",
       "155  2032.00870       1629              0.431523\n",
       "157  2034.05520       3775              1.000000"
      ]
     },
     "execution_count": 167,
     "metadata": {},
     "output_type": "execute_result"
    }
   ],
   "source": [
    "fragment_ions_mq_df[fragment_ions_mq_df.normalised_intensity > 0.1]"
   ]
  },
  {
   "cell_type": "code",
   "execution_count": null,
   "metadata": {},
   "outputs": [],
   "source": []
  }
 ],
 "metadata": {
  "kernelspec": {
   "display_name": "Python 3",
   "language": "python",
   "name": "python3"
  },
  "language_info": {
   "codemirror_mode": {
    "name": "ipython",
    "version": 3
   },
   "file_extension": ".py",
   "mimetype": "text/x-python",
   "name": "python",
   "nbconvert_exporter": "python",
   "pygments_lexer": "ipython3",
   "version": "3.8.5"
  }
 },
 "nbformat": 4,
 "nbformat_minor": 4
}
