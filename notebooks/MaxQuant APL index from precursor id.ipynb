{
 "cells": [
  {
   "cell_type": "code",
   "execution_count": 1,
   "metadata": {},
   "outputs": [],
   "source": [
    "import pandas as pd\n",
    "import numpy as np\n",
    "import os\n",
    "import matplotlib.pyplot as plt\n",
    "import pickle\n",
    "import json\n",
    "from os.path import expanduser"
   ]
  },
  {
   "cell_type": "code",
   "execution_count": 2,
   "metadata": {},
   "outputs": [],
   "source": [
    "experiment_name = 'P3856'\n",
    "run_name = 'P3856_YHE211_1_Slot1-1_1_5104'"
   ]
  },
  {
   "cell_type": "code",
   "execution_count": 3,
   "metadata": {},
   "outputs": [],
   "source": [
    "BASE_MAXQUANT_DIR = '{}/MQ-analysis-of-P3856/combined'.format(expanduser('~'))\n",
    "SCANS_FILE = '{}/txt/pasefMsmsScans.txt'.format(BASE_MAXQUANT_DIR)\n",
    "ALLPEPTIDES_FILE = '{}/txt/allPeptides.txt'.format(BASE_MAXQUANT_DIR)"
   ]
  },
  {
   "cell_type": "code",
   "execution_count": 4,
   "metadata": {},
   "outputs": [],
   "source": [
    "scans_df = pd.read_csv(SCANS_FILE, sep='\\t')\n",
    "scans_df = scans_df[(scans_df['Raw file'] == run_name)]"
   ]
  },
  {
   "cell_type": "code",
   "execution_count": 5,
   "metadata": {},
   "outputs": [],
   "source": [
    "allpeptides_df = pd.read_csv(ALLPEPTIDES_FILE, sep='\\t')\n",
    "allpeptides_df = allpeptides_df[(allpeptides_df['Raw file'] == run_name)]\n",
    "allpeptides_df = allpeptides_df[allpeptides_df['Intensity'].notnull() & allpeptides_df['Pasef MS/MS IDs'].notnull()]"
   ]
  },
  {
   "cell_type": "code",
   "execution_count": 6,
   "metadata": {},
   "outputs": [],
   "source": [
    "# convert the ;-separated list of ids to a Python list\n",
    "allpeptides_df['pasef_msms_ids_list'] = allpeptides_df['Pasef MS/MS IDs'].str.split(\";\").apply(lambda x: [int(i) for i in x])"
   ]
  },
  {
   "cell_type": "markdown",
   "metadata": {},
   "source": [
    "#### find the selected precursor"
   ]
  },
  {
   "cell_type": "code",
   "execution_count": 7,
   "metadata": {},
   "outputs": [],
   "source": [
    "precursor_id = 20114"
   ]
  },
  {
   "cell_type": "code",
   "execution_count": 8,
   "metadata": {},
   "outputs": [
    {
     "data": {
      "text/html": [
       "<div>\n",
       "<style scoped>\n",
       "    .dataframe tbody tr th:only-of-type {\n",
       "        vertical-align: middle;\n",
       "    }\n",
       "\n",
       "    .dataframe tbody tr th {\n",
       "        vertical-align: top;\n",
       "    }\n",
       "\n",
       "    .dataframe thead th {\n",
       "        text-align: right;\n",
       "    }\n",
       "</style>\n",
       "<table border=\"1\" class=\"dataframe\">\n",
       "  <thead>\n",
       "    <tr style=\"text-align: right;\">\n",
       "      <th></th>\n",
       "      <th>Raw file</th>\n",
       "      <th>Frame</th>\n",
       "      <th>Precursor</th>\n",
       "      <th>IsolationMz</th>\n",
       "      <th>IsolationWidth</th>\n",
       "      <th>ScanNumBegin</th>\n",
       "      <th>ScanNumEnd</th>\n",
       "      <th>CollisionEnergy</th>\n",
       "      <th>Index</th>\n",
       "    </tr>\n",
       "  </thead>\n",
       "  <tbody>\n",
       "    <tr>\n",
       "      <th>2139380</th>\n",
       "      <td>P3856_YHE211_1_Slot1-1_1_5104</td>\n",
       "      <td>16364</td>\n",
       "      <td>20114</td>\n",
       "      <td>780.486511</td>\n",
       "      <td>2.804865</td>\n",
       "      <td>590</td>\n",
       "      <td>615</td>\n",
       "      <td>37.22656</td>\n",
       "      <td>44678</td>\n",
       "    </tr>\n",
       "    <tr>\n",
       "      <th>2139394</th>\n",
       "      <td>P3856_YHE211_1_Slot1-1_1_5104</td>\n",
       "      <td>16365</td>\n",
       "      <td>20114</td>\n",
       "      <td>780.486511</td>\n",
       "      <td>2.804865</td>\n",
       "      <td>590</td>\n",
       "      <td>615</td>\n",
       "      <td>37.22656</td>\n",
       "      <td>44692</td>\n",
       "    </tr>\n",
       "    <tr>\n",
       "      <th>2139407</th>\n",
       "      <td>P3856_YHE211_1_Slot1-1_1_5104</td>\n",
       "      <td>16366</td>\n",
       "      <td>20114</td>\n",
       "      <td>780.486511</td>\n",
       "      <td>2.804865</td>\n",
       "      <td>590</td>\n",
       "      <td>615</td>\n",
       "      <td>37.22656</td>\n",
       "      <td>44705</td>\n",
       "    </tr>\n",
       "    <tr>\n",
       "      <th>2139422</th>\n",
       "      <td>P3856_YHE211_1_Slot1-1_1_5104</td>\n",
       "      <td>16368</td>\n",
       "      <td>20114</td>\n",
       "      <td>780.486511</td>\n",
       "      <td>2.804865</td>\n",
       "      <td>590</td>\n",
       "      <td>615</td>\n",
       "      <td>37.22656</td>\n",
       "      <td>44720</td>\n",
       "    </tr>\n",
       "  </tbody>\n",
       "</table>\n",
       "</div>"
      ],
      "text/plain": [
       "                              Raw file  Frame  Precursor  IsolationMz  \\\n",
       "2139380  P3856_YHE211_1_Slot1-1_1_5104  16364      20114   780.486511   \n",
       "2139394  P3856_YHE211_1_Slot1-1_1_5104  16365      20114   780.486511   \n",
       "2139407  P3856_YHE211_1_Slot1-1_1_5104  16366      20114   780.486511   \n",
       "2139422  P3856_YHE211_1_Slot1-1_1_5104  16368      20114   780.486511   \n",
       "\n",
       "         IsolationWidth  ScanNumBegin  ScanNumEnd  CollisionEnergy  Index  \n",
       "2139380        2.804865           590         615         37.22656  44678  \n",
       "2139394        2.804865           590         615         37.22656  44692  \n",
       "2139407        2.804865           590         615         37.22656  44705  \n",
       "2139422        2.804865           590         615         37.22656  44720  "
      ]
     },
     "execution_count": 8,
     "metadata": {},
     "output_type": "execute_result"
    }
   ],
   "source": [
    "scans_df[scans_df['Precursor'] == precursor_id]"
   ]
  },
  {
   "cell_type": "code",
   "execution_count": 9,
   "metadata": {},
   "outputs": [
    {
     "data": {
      "text/plain": [
       "[44678, 44692, 44705, 44720]"
      ]
     },
     "execution_count": 9,
     "metadata": {},
     "output_type": "execute_result"
    }
   ],
   "source": [
    "pasefMsmsScans_indexes_for_precursor = scans_df[scans_df['Precursor'] == precursor_id].Index.to_list()\n",
    "pasefMsmsScans_indexes_for_precursor"
   ]
  },
  {
   "cell_type": "markdown",
   "metadata": {},
   "source": [
    "#### find the entry in allPeptides for the precursor"
   ]
  },
  {
   "cell_type": "code",
   "execution_count": 10,
   "metadata": {},
   "outputs": [
    {
     "data": {
      "text/html": [
       "<div>\n",
       "<style scoped>\n",
       "    .dataframe tbody tr th:only-of-type {\n",
       "        vertical-align: middle;\n",
       "    }\n",
       "\n",
       "    .dataframe tbody tr th {\n",
       "        vertical-align: top;\n",
       "    }\n",
       "\n",
       "    .dataframe thead th {\n",
       "        text-align: right;\n",
       "    }\n",
       "</style>\n",
       "<table border=\"1\" class=\"dataframe\">\n",
       "  <thead>\n",
       "    <tr style=\"text-align: right;\">\n",
       "      <th></th>\n",
       "      <th>Raw file</th>\n",
       "      <th>Charge</th>\n",
       "      <th>m/z</th>\n",
       "      <th>Mass</th>\n",
       "      <th>Number of data points</th>\n",
       "      <th>Number of frames</th>\n",
       "      <th>Number of isotopic peaks</th>\n",
       "      <th>Isotope correlation</th>\n",
       "      <th>Mass fractional part</th>\n",
       "      <th>Mass deficit</th>\n",
       "      <th>...</th>\n",
       "      <th>Max frame index</th>\n",
       "      <th>Ion mobility index</th>\n",
       "      <th>Ion mobility index length</th>\n",
       "      <th>Ion mobility index length (FWHM)</th>\n",
       "      <th>Intensity</th>\n",
       "      <th>Intensities</th>\n",
       "      <th>Number of pasef MS/MS</th>\n",
       "      <th>Pasef MS/MS IDs</th>\n",
       "      <th>MS/MS scan number</th>\n",
       "      <th>pasef_msms_ids_list</th>\n",
       "    </tr>\n",
       "  </thead>\n",
       "  <tbody>\n",
       "    <tr>\n",
       "      <th>1192099</th>\n",
       "      <td>P3856_YHE211_1_Slot1-1_1_5104</td>\n",
       "      <td>3</td>\n",
       "      <td>780.02997</td>\n",
       "      <td>2337.0681</td>\n",
       "      <td>4190</td>\n",
       "      <td>11</td>\n",
       "      <td>5</td>\n",
       "      <td>0.987452</td>\n",
       "      <td>0.068079</td>\n",
       "      <td>-0.046973</td>\n",
       "      <td>...</td>\n",
       "      <td>7217</td>\n",
       "      <td>534</td>\n",
       "      <td>141</td>\n",
       "      <td>27</td>\n",
       "      <td>169890.0</td>\n",
       "      <td>NaN</td>\n",
       "      <td>3</td>\n",
       "      <td>44491;44505;44720</td>\n",
       "      <td>20432.0</td>\n",
       "      <td>[44491, 44505, 44720]</td>\n",
       "    </tr>\n",
       "  </tbody>\n",
       "</table>\n",
       "<p>1 rows × 24 columns</p>\n",
       "</div>"
      ],
      "text/plain": [
       "                              Raw file  Charge        m/z       Mass  \\\n",
       "1192099  P3856_YHE211_1_Slot1-1_1_5104       3  780.02997  2337.0681   \n",
       "\n",
       "         Number of data points  Number of frames  Number of isotopic peaks  \\\n",
       "1192099                   4190                11                         5   \n",
       "\n",
       "         Isotope correlation  Mass fractional part  Mass deficit  ...  \\\n",
       "1192099             0.987452              0.068079     -0.046973  ...   \n",
       "\n",
       "         Max frame index  Ion mobility index  Ion mobility index length  \\\n",
       "1192099             7217                 534                        141   \n",
       "\n",
       "         Ion mobility index length (FWHM)  Intensity  Intensities  \\\n",
       "1192099                                27   169890.0          NaN   \n",
       "\n",
       "         Number of pasef MS/MS    Pasef MS/MS IDs  MS/MS scan number  \\\n",
       "1192099                      3  44491;44505;44720            20432.0   \n",
       "\n",
       "           pasef_msms_ids_list  \n",
       "1192099  [44491, 44505, 44720]  \n",
       "\n",
       "[1 rows x 24 columns]"
      ]
     },
     "execution_count": 10,
     "metadata": {},
     "output_type": "execute_result"
    }
   ],
   "source": [
    "ap_df = allpeptides_df[allpeptides_df.pasef_msms_ids_list.apply(lambda x: len(set(pasefMsmsScans_indexes_for_precursor) & set(x)) > 0)]\n",
    "ap_df"
   ]
  },
  {
   "cell_type": "code",
   "execution_count": 11,
   "metadata": {},
   "outputs": [
    {
     "data": {
      "text/plain": [
       "20432"
      ]
     },
     "execution_count": 11,
     "metadata": {},
     "output_type": "execute_result"
    }
   ],
   "source": [
    "apl_index = int(ap_df['MS/MS scan number'].iloc[0])\n",
    "apl_index"
   ]
  },
  {
   "cell_type": "code",
   "execution_count": null,
   "metadata": {},
   "outputs": [],
   "source": []
  }
 ],
 "metadata": {
  "kernelspec": {
   "display_name": "Python 3",
   "language": "python",
   "name": "python3"
  },
  "language_info": {
   "codemirror_mode": {
    "name": "ipython",
    "version": 3
   },
   "file_extension": ".py",
   "mimetype": "text/x-python",
   "name": "python",
   "nbconvert_exporter": "python",
   "pygments_lexer": "ipython3",
   "version": "3.8.5"
  }
 },
 "nbformat": 4,
 "nbformat_minor": 4
}
