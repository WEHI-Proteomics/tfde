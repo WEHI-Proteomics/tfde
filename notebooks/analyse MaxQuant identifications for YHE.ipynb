{
 "cells": [
  {
   "cell_type": "code",
   "execution_count": 44,
   "metadata": {},
   "outputs": [],
   "source": [
    "import pandas as pd\n",
    "import numpy as np\n",
    "import os\n",
    "import matplotlib.pyplot as plt"
   ]
  },
  {
   "cell_type": "code",
   "execution_count": 45,
   "metadata": {},
   "outputs": [],
   "source": [
    "sequences_df = pd.read_csv('/Users/darylwilding-mcbride/Downloads/experiments/P3856/evidence-P3856.txt', sep='\\\\t', engine='python')"
   ]
  },
  {
   "cell_type": "code",
   "execution_count": 46,
   "metadata": {},
   "outputs": [],
   "source": [
    "# remove decoys, which are indicated by a '+' in the Reverse column\n",
    "sequences_df = sequences_df[pd.isna(sequences_df.Reverse)]\n",
    "# remove identifications with no intensity\n",
    "sequences_df = sequences_df[(sequences_df.Intensity > 0)]\n",
    "# remove potential contaminants\n",
    "sequences_df = sequences_df[pd.isna(sequences_df['Potential contaminant'])]\n",
    "# remove identifications with mass error more than +/- 5 ppm\n",
    "sequences_df = sequences_df[np.abs(sequences_df['Mass error [ppm]']) <= 5.0]"
   ]
  },
  {
   "cell_type": "code",
   "execution_count": 47,
   "metadata": {},
   "outputs": [],
   "source": [
    "# definition of uniqueness in MaxQuant output with MBR on\n",
    "unique_peptide_key = ['Sequence','Modifications','Charge']"
   ]
  },
  {
   "cell_type": "code",
   "execution_count": 48,
   "metadata": {},
   "outputs": [
    {
     "data": {
      "text/plain": [
       "Index(['Sequence', 'Length', 'Modifications', 'Modified sequence',\n",
       "       'Oxidation (M) Probabilities', 'Oxidation (M) Score Diffs',\n",
       "       'Acetyl (Protein N-term)', 'Oxidation (M)', 'Missed cleavages',\n",
       "       'Proteins', 'Leading proteins', 'Leading razor protein', 'Type',\n",
       "       'Raw file', 'MS/MS m/z', 'Charge', 'm/z', 'Mass',\n",
       "       'Uncalibrated - Calibrated m/z [ppm]',\n",
       "       'Uncalibrated - Calibrated m/z [Da]', 'Mass error [ppm]',\n",
       "       'Mass error [Da]', 'Uncalibrated mass error [ppm]',\n",
       "       'Uncalibrated mass error [Da]', 'Max intensity m/z 0', 'Retention time',\n",
       "       'Retention length', 'Calibrated retention time',\n",
       "       'Calibrated retention time start', 'Calibrated retention time finish',\n",
       "       'Retention time calibration', 'Ion mobility index',\n",
       "       'Ion mobility length', '1/K0', '1/K0 length', 'Calibrated 1/K0', 'CCS',\n",
       "       'Calibrated CCS', 'CCS length', 'Match time difference',\n",
       "       'Match m/z difference', 'Match K0 difference', 'Match q-value',\n",
       "       'Match score', 'Number of data points', 'Number of scans',\n",
       "       'Number of isotopic peaks', 'PIF', 'Fraction of total spectrum',\n",
       "       'Base peak fraction', 'PEP', 'MS/MS count', 'MS/MS scan number',\n",
       "       'Score', 'Delta score', 'Combinatorics', 'Intensity', 'Reverse',\n",
       "       'Potential contaminant', 'id', 'Protein group IDs', 'Peptide ID',\n",
       "       'Mod. peptide ID', 'MS/MS IDs', 'Best MS/MS', 'Oxidation (M) site IDs',\n",
       "       'Taxonomy IDs'],\n",
       "      dtype='object')"
      ]
     },
     "execution_count": 48,
     "metadata": {},
     "output_type": "execute_result"
    }
   ],
   "source": [
    "sequences_df.columns"
   ]
  },
  {
   "cell_type": "code",
   "execution_count": 49,
   "metadata": {},
   "outputs": [
    {
     "data": {
      "text/html": [
       "<div>\n",
       "<style scoped>\n",
       "    .dataframe tbody tr th:only-of-type {\n",
       "        vertical-align: middle;\n",
       "    }\n",
       "\n",
       "    .dataframe tbody tr th {\n",
       "        vertical-align: top;\n",
       "    }\n",
       "\n",
       "    .dataframe thead th {\n",
       "        text-align: right;\n",
       "    }\n",
       "</style>\n",
       "<table border=\"1\" class=\"dataframe\">\n",
       "  <thead>\n",
       "    <tr style=\"text-align: right;\">\n",
       "      <th></th>\n",
       "      <th>Sequence</th>\n",
       "      <th>Modifications</th>\n",
       "      <th>Charge</th>\n",
       "    </tr>\n",
       "  </thead>\n",
       "  <tbody>\n",
       "    <tr>\n",
       "      <th>64480</th>\n",
       "      <td>DPENFPFVVLGNK</td>\n",
       "      <td>Unmodified</td>\n",
       "      <td>2</td>\n",
       "    </tr>\n",
       "    <tr>\n",
       "      <th>344393</th>\n",
       "      <td>SEHPGLSIGDTAK</td>\n",
       "      <td>Unmodified</td>\n",
       "      <td>2</td>\n",
       "    </tr>\n",
       "    <tr>\n",
       "      <th>357192</th>\n",
       "      <td>SNASLTNNQNLIQSLK</td>\n",
       "      <td>Unmodified</td>\n",
       "      <td>2</td>\n",
       "    </tr>\n",
       "    <tr>\n",
       "      <th>5317</th>\n",
       "      <td>ADEDPIMGFHQMFLLK</td>\n",
       "      <td>Unmodified</td>\n",
       "      <td>2</td>\n",
       "    </tr>\n",
       "    <tr>\n",
       "      <th>55740</th>\n",
       "      <td>DHAEQQHIAAQQK</td>\n",
       "      <td>Unmodified</td>\n",
       "      <td>2</td>\n",
       "    </tr>\n",
       "    <tr>\n",
       "      <th>67390</th>\n",
       "      <td>DSGPPPSTVSEAEFEDIMK</td>\n",
       "      <td>Unmodified</td>\n",
       "      <td>2</td>\n",
       "    </tr>\n",
       "    <tr>\n",
       "      <th>457880</th>\n",
       "      <td>YQHLITNSFVECNR</td>\n",
       "      <td>Unmodified</td>\n",
       "      <td>2</td>\n",
       "    </tr>\n",
       "    <tr>\n",
       "      <th>244740</th>\n",
       "      <td>LPDLSLDNMIGQSAIAGEEHPR</td>\n",
       "      <td>Unmodified</td>\n",
       "      <td>3</td>\n",
       "    </tr>\n",
       "    <tr>\n",
       "      <th>233825</th>\n",
       "      <td>LLASTLVHSVK</td>\n",
       "      <td>Unmodified</td>\n",
       "      <td>2</td>\n",
       "    </tr>\n",
       "    <tr>\n",
       "      <th>387699</th>\n",
       "      <td>TLNEICNSVISK</td>\n",
       "      <td>Unmodified</td>\n",
       "      <td>2</td>\n",
       "    </tr>\n",
       "  </tbody>\n",
       "</table>\n",
       "</div>"
      ],
      "text/plain": [
       "                      Sequence Modifications  Charge\n",
       "64480            DPENFPFVVLGNK    Unmodified       2\n",
       "344393           SEHPGLSIGDTAK    Unmodified       2\n",
       "357192        SNASLTNNQNLIQSLK    Unmodified       2\n",
       "5317          ADEDPIMGFHQMFLLK    Unmodified       2\n",
       "55740            DHAEQQHIAAQQK    Unmodified       2\n",
       "67390      DSGPPPSTVSEAEFEDIMK    Unmodified       2\n",
       "457880          YQHLITNSFVECNR    Unmodified       2\n",
       "244740  LPDLSLDNMIGQSAIAGEEHPR    Unmodified       3\n",
       "233825             LLASTLVHSVK    Unmodified       2\n",
       "387699            TLNEICNSVISK    Unmodified       2"
      ]
     },
     "execution_count": 49,
     "metadata": {},
     "output_type": "execute_result"
    }
   ],
   "source": [
    "sequences_df[unique_peptide_key].sample(n=10)"
   ]
  },
  {
   "cell_type": "code",
   "execution_count": 50,
   "metadata": {},
   "outputs": [
    {
     "data": {
      "text/plain": [
       "array(['Unmodified', 'Acetyl (Protein N-term)', 'Oxidation (M)',\n",
       "       'Acetyl (Protein N-term),Oxidation (M)', '2 Oxidation (M)',\n",
       "       '4 Oxidation (M)', 'Acetyl (Protein N-term),2 Oxidation (M)',\n",
       "       '3 Oxidation (M)'], dtype=object)"
      ]
     },
     "execution_count": 50,
     "metadata": {},
     "output_type": "execute_result"
    }
   ],
   "source": [
    "sequences_df.Modifications.unique()"
   ]
  },
  {
   "cell_type": "code",
   "execution_count": 51,
   "metadata": {},
   "outputs": [
    {
     "data": {
      "text/plain": [
       "array(['TIMS-MULTI-MSMS', 'TIMS-MULTI-MATCH'], dtype=object)"
      ]
     },
     "execution_count": 51,
     "metadata": {},
     "output_type": "execute_result"
    }
   ],
   "source": [
    "sequences_df['Type'].unique()"
   ]
  },
  {
   "cell_type": "code",
   "execution_count": 52,
   "metadata": {},
   "outputs": [
    {
     "data": {
      "text/plain": [
       "20619"
      ]
     },
     "execution_count": 52,
     "metadata": {},
     "output_type": "execute_result"
    }
   ],
   "source": [
    "# unique peptides found across all runs\n",
    "unique_peptides_count = len(sequences_df.drop_duplicates(subset=unique_peptide_key, keep='first', inplace=False))\n",
    "unique_peptides_count"
   ]
  },
  {
   "cell_type": "code",
   "execution_count": 53,
   "metadata": {},
   "outputs": [],
   "source": [
    "sequences_df['group'] = sequences_df['Raw file'].apply(lambda x: x.split('_')[1])"
   ]
  },
  {
   "cell_type": "markdown",
   "metadata": {},
   "source": [
    "#### analyse the YHE runs"
   ]
  },
  {
   "cell_type": "code",
   "execution_count": 54,
   "metadata": {},
   "outputs": [],
   "source": [
    "yhe_only_df = sequences_df[(sequences_df.group == 'YHE114') | (sequences_df.group == 'YHE211')]"
   ]
  },
  {
   "cell_type": "code",
   "execution_count": 55,
   "metadata": {},
   "outputs": [],
   "source": [
    "# count how many runs each sequence/charge was extracted from\n",
    "sequence_occurences_l = []\n",
    "for group_name,group_df in yhe_only_df.groupby(unique_peptide_key, as_index=False):\n",
    "    sequence_occurences_l.append((group_name[0], group_name[1], len(group_df['Raw file'].unique())))\n",
    "yhe_sequence_occurences_df = pd.DataFrame(sequence_occurences_l, columns=['sequence','charge','number_of_runs_extracted'])"
   ]
  },
  {
   "cell_type": "code",
   "execution_count": 56,
   "metadata": {},
   "outputs": [
    {
     "name": "stdout",
     "output_type": "stream",
     "text": [
      "there are 20 YHE runs in the experiment\n"
     ]
    }
   ],
   "source": [
    "number_of_yhe_runs_in_experiment = len(yhe_only_df['Raw file'].unique())\n",
    "print('there are {} YHE runs in the experiment'.format(number_of_yhe_runs_in_experiment))"
   ]
  },
  {
   "cell_type": "code",
   "execution_count": 57,
   "metadata": {},
   "outputs": [
    {
     "name": "stdout",
     "output_type": "stream",
     "text": [
      "25.0% of values missing across the YHE runs.\n"
     ]
    }
   ],
   "source": [
    "# display the number of missing values in only the YHE runs\n",
    "yhe_sequence_occurences_df['missing_files'] = number_of_yhe_runs_in_experiment - yhe_sequence_occurences_df.number_of_runs_extracted\n",
    "proportion_of_missing_extractions = yhe_sequence_occurences_df.missing_files.sum() / (len(yhe_sequence_occurences_df) * number_of_yhe_runs_in_experiment)\n",
    "print(\"{}% of values missing across the YHE runs.\".format(round(proportion_of_missing_extractions*100)))"
   ]
  },
  {
   "cell_type": "code",
   "execution_count": 58,
   "metadata": {},
   "outputs": [
    {
     "data": {
      "text/plain": [
       "19151"
      ]
     },
     "execution_count": 58,
     "metadata": {},
     "output_type": "execute_result"
    }
   ],
   "source": [
    "modified_sequences_count_yhe_runs = len(yhe_sequence_occurences_df)\n",
    "modified_sequences_count_yhe_runs"
   ]
  },
  {
   "cell_type": "code",
   "execution_count": 59,
   "metadata": {},
   "outputs": [
    {
     "data": {
      "image/png": "[encoded data removed]",
      "text/plain": [
       "<Figure size 1080x576 with 1 Axes>"
      ]
     },
     "metadata": {
      "needs_background": "light"
     },
     "output_type": "display_data"
    }
   ],
   "source": [
    "f, ax1 = plt.subplots()\n",
    "f.set_figheight(8)\n",
    "f.set_figwidth(15)\n",
    "\n",
    "plt.margins(0.06)\n",
    "plt.suptitle('Distribution of sequence identifications extracted from the YHE runs for MaxQuant (with MBR)')\n",
    "plt.title('total {} modified peptide sequences'.format(modified_sequences_count_yhe_runs))\n",
    "\n",
    "counts = np.bincount(yhe_sequence_occurences_df.number_of_runs_extracted)\n",
    "ax1.bar(range(number_of_yhe_runs_in_experiment+1), counts, width=0.8, align='center')\n",
    "plt.xlabel('number of files in which a modified sequence-charge was identified')\n",
    "plt.ylabel('frequency')\n",
    "ax1.set(xticks=range(1,number_of_yhe_runs_in_experiment+1), xlim=[0, number_of_yhe_runs_in_experiment+1])\n",
    "plt.ylim((0,16000))\n",
    "\n",
    "plt.show()"
   ]
  },
  {
   "cell_type": "markdown",
   "metadata": {},
   "source": [
    "#### analyse the HeLa-only runs"
   ]
  },
  {
   "cell_type": "code",
   "execution_count": 60,
   "metadata": {},
   "outputs": [],
   "source": [
    "human_only_df = sequences_df[(sequences_df.group == 'YHE010')].copy()"
   ]
  },
  {
   "cell_type": "code",
   "execution_count": 61,
   "metadata": {},
   "outputs": [],
   "source": [
    "# count how many runs each sequence/charge was extracted from\n",
    "sequence_occurences_l = []\n",
    "for group_name,group_df in human_only_df.groupby(unique_peptide_key, as_index=False):\n",
    "    sequence_occurences_l.append((group_name[0], group_name[1], len(group_df['Raw file'].unique())))\n",
    "human_sequence_occurences_df = pd.DataFrame(sequence_occurences_l, columns=['sequence','charge','number_of_runs_extracted'])"
   ]
  },
  {
   "cell_type": "code",
   "execution_count": 62,
   "metadata": {},
   "outputs": [
    {
     "name": "stdout",
     "output_type": "stream",
     "text": [
      "there are 10 HeLa-only runs in the experiment\n"
     ]
    }
   ],
   "source": [
    "number_of_human_runs_in_experiment = len(human_only_df['Raw file'].unique())\n",
    "print('there are {} HeLa-only runs in the experiment'.format(number_of_human_runs_in_experiment))"
   ]
  },
  {
   "cell_type": "code",
   "execution_count": 63,
   "metadata": {},
   "outputs": [
    {
     "name": "stdout",
     "output_type": "stream",
     "text": [
      "20.0% of values missing across the HeLa-only runs.\n"
     ]
    }
   ],
   "source": [
    "# display the number of missing values in only the HeLa-only runs\n",
    "human_sequence_occurences_df['missing_files'] = number_of_human_runs_in_experiment - human_sequence_occurences_df.number_of_runs_extracted\n",
    "proportion_of_missing_extractions = human_sequence_occurences_df.missing_files.sum() / (len(human_sequence_occurences_df) * number_of_human_runs_in_experiment)\n",
    "print(\"{}% of values missing across the HeLa-only runs.\".format(round(proportion_of_missing_extractions*100)))"
   ]
  },
  {
   "cell_type": "code",
   "execution_count": 64,
   "metadata": {},
   "outputs": [
    {
     "data": {
      "text/plain": [
       "16134"
      ]
     },
     "execution_count": 64,
     "metadata": {},
     "output_type": "execute_result"
    }
   ],
   "source": [
    "modified_sequences_count_human_runs = len(human_sequence_occurences_df)\n",
    "modified_sequences_count_human_runs"
   ]
  },
  {
   "cell_type": "code",
   "execution_count": 65,
   "metadata": {},
   "outputs": [],
   "source": [
    "human_only_df['human'] = human_only_df.apply(lambda row: 'HUMAN' in row['Leading razor protein'], axis=1)\n"
   ]
  },
  {
   "cell_type": "code",
   "execution_count": 66,
   "metadata": {},
   "outputs": [
    {
     "name": "stdout",
     "output_type": "stream",
     "text": [
      "1.82%\n"
     ]
    }
   ],
   "source": [
    "# false discovery rate\n",
    "print('{}%'.format(round(len(human_only_df[human_only_df.human == False]) / len(human_only_df) * 100, 2)))"
   ]
  },
  {
   "cell_type": "code",
   "execution_count": 67,
   "metadata": {},
   "outputs": [
    {
     "data": {
      "text/plain": [
       "10"
      ]
     },
     "execution_count": 67,
     "metadata": {},
     "output_type": "execute_result"
    }
   ],
   "source": [
    "len(human_only_df[human_only_df.Type == 'TIMS-MULTI-MSMS']['Raw file'].unique())"
   ]
  },
  {
   "cell_type": "code",
   "execution_count": 68,
   "metadata": {},
   "outputs": [],
   "source": [
    "# count how many identifications and extractions (i.e. matches) across all runs. Note that a sequence can be \n",
    "# counted as an identification and a match in the same file (it's given a different score).\n",
    "sequence_id_mbr_counts_l = []\n",
    "for group_name,group_df in sequences_df.groupby(unique_peptide_key, as_index=False):\n",
    "    id_count_all_runs = len(group_df[group_df.Type == 'TIMS-MULTI-MSMS']['Raw file'].unique())\n",
    "    id_count_human_only_runs = len(group_df[(group_df.Type == 'TIMS-MULTI-MSMS') & (group_df.group == 'YHE010')]['Raw file'].unique())\n",
    "    mbr_count_all_runs = len(group_df[group_df.Type == 'TIMS-MULTI-MATCH']['Raw file'].unique())\n",
    "    mbr_count_human_only_runs = len(group_df[(group_df.Type == 'TIMS-MULTI-MATCH') & (group_df.group == 'YHE010')]['Raw file'].unique())\n",
    "    total_count_all_runs = len(group_df['Raw file'].unique())\n",
    "    total_count_human_only_runs = len(group_df[(group_df.group == 'YHE010')]['Raw file'].unique())\n",
    "    human = 'HUMAN' in group_df.iloc[0]['Leading razor protein']\n",
    "    sequence_id_mbr_counts_l.append((group_name[0], group_name[1], group_name[2], id_count_all_runs, id_count_human_only_runs, mbr_count_all_runs, mbr_count_human_only_runs, total_count_all_runs, total_count_human_only_runs, human))\n",
    "sequence_id_mbr_counts_df = pd.DataFrame(sequence_id_mbr_counts_l, columns=['sequence','modifications','charge','id_count_all_runs','id_count_human_only_runs','mbr_count_all_runs','mbr_count_human_only_runs','total_count_all_runs','total_count_human_only_runs','human'])\n"
   ]
  },
  {
   "cell_type": "code",
   "execution_count": 69,
   "metadata": {},
   "outputs": [
    {
     "data": {
      "text/plain": [
       "14397"
      ]
     },
     "execution_count": 69,
     "metadata": {},
     "output_type": "execute_result"
    }
   ],
   "source": [
    "# count the number of unique peptides identified (not matched) in the human-only runs\n",
    "human_id_df = sequence_id_mbr_counts_df[(sequence_id_mbr_counts_df.id_count_human_only_runs > 0)]\n",
    "len(human_id_df)"
   ]
  },
  {
   "cell_type": "code",
   "execution_count": 70,
   "metadata": {},
   "outputs": [
    {
     "data": {
      "text/plain": [
       "16.342293533375006"
      ]
     },
     "execution_count": 70,
     "metadata": {},
     "output_type": "execute_result"
    }
   ],
   "source": [
    "# missing values (i.e. neither identified nor matched)\n",
    "(1.0 - (human_id_df.total_count_human_only_runs.sum() / (len(human_id_df) * 10))) * 100"
   ]
  },
  {
   "cell_type": "code",
   "execution_count": 71,
   "metadata": {},
   "outputs": [
    {
     "data": {
      "text/plain": [
       "0.3611863582690838"
      ]
     },
     "execution_count": 71,
     "metadata": {},
     "output_type": "execute_result"
    }
   ],
   "source": [
    "# false discovery rate\n",
    "len(human_id_df[human_id_df.human == False]) / len(human_id_df) * 100"
   ]
  },
  {
   "cell_type": "code",
   "execution_count": 72,
   "metadata": {},
   "outputs": [
    {
     "data": {
      "text/html": [
       "<div>\n",
       "<style scoped>\n",
       "    .dataframe tbody tr th:only-of-type {\n",
       "        vertical-align: middle;\n",
       "    }\n",
       "\n",
       "    .dataframe tbody tr th {\n",
       "        vertical-align: top;\n",
       "    }\n",
       "\n",
       "    .dataframe thead th {\n",
       "        text-align: right;\n",
       "    }\n",
       "</style>\n",
       "<table border=\"1\" class=\"dataframe\">\n",
       "  <thead>\n",
       "    <tr style=\"text-align: right;\">\n",
       "      <th></th>\n",
       "      <th>sequence</th>\n",
       "      <th>modifications</th>\n",
       "      <th>charge</th>\n",
       "      <th>id_count_all_runs</th>\n",
       "      <th>id_count_human_only_runs</th>\n",
       "      <th>mbr_count_all_runs</th>\n",
       "      <th>mbr_count_human_only_runs</th>\n",
       "      <th>total_count_all_runs</th>\n",
       "      <th>total_count_human_only_runs</th>\n",
       "      <th>human</th>\n",
       "    </tr>\n",
       "  </thead>\n",
       "  <tbody>\n",
       "    <tr>\n",
       "      <th>4529</th>\n",
       "      <td>ESESGGLRPNK</td>\n",
       "      <td>Unmodified</td>\n",
       "      <td>2</td>\n",
       "      <td>1</td>\n",
       "      <td>1</td>\n",
       "      <td>0</td>\n",
       "      <td>0</td>\n",
       "      <td>1</td>\n",
       "      <td>1</td>\n",
       "      <td>True</td>\n",
       "    </tr>\n",
       "    <tr>\n",
       "      <th>3547</th>\n",
       "      <td>EDQVIQLMNAIFSK</td>\n",
       "      <td>Unmodified</td>\n",
       "      <td>2</td>\n",
       "      <td>21</td>\n",
       "      <td>3</td>\n",
       "      <td>4</td>\n",
       "      <td>3</td>\n",
       "      <td>25</td>\n",
       "      <td>6</td>\n",
       "      <td>True</td>\n",
       "    </tr>\n",
       "    <tr>\n",
       "      <th>18105</th>\n",
       "      <td>VATTAGLYGSNLMEHTEIDHWLEFSATK</td>\n",
       "      <td>Unmodified</td>\n",
       "      <td>3</td>\n",
       "      <td>28</td>\n",
       "      <td>8</td>\n",
       "      <td>2</td>\n",
       "      <td>2</td>\n",
       "      <td>30</td>\n",
       "      <td>10</td>\n",
       "      <td>True</td>\n",
       "    </tr>\n",
       "    <tr>\n",
       "      <th>14714</th>\n",
       "      <td>QVLGQMVIDEELLGDGHSYSPR</td>\n",
       "      <td>Unmodified</td>\n",
       "      <td>3</td>\n",
       "      <td>30</td>\n",
       "      <td>10</td>\n",
       "      <td>0</td>\n",
       "      <td>0</td>\n",
       "      <td>30</td>\n",
       "      <td>10</td>\n",
       "      <td>True</td>\n",
       "    </tr>\n",
       "    <tr>\n",
       "      <th>9639</th>\n",
       "      <td>LDELYGTWR</td>\n",
       "      <td>Unmodified</td>\n",
       "      <td>2</td>\n",
       "      <td>16</td>\n",
       "      <td>7</td>\n",
       "      <td>6</td>\n",
       "      <td>2</td>\n",
       "      <td>22</td>\n",
       "      <td>9</td>\n",
       "      <td>True</td>\n",
       "    </tr>\n",
       "  </tbody>\n",
       "</table>\n",
       "</div>"
      ],
      "text/plain": [
       "                           sequence modifications  charge  id_count_all_runs  \\\n",
       "4529                    ESESGGLRPNK    Unmodified       2                  1   \n",
       "3547                 EDQVIQLMNAIFSK    Unmodified       2                 21   \n",
       "18105  VATTAGLYGSNLMEHTEIDHWLEFSATK    Unmodified       3                 28   \n",
       "14714        QVLGQMVIDEELLGDGHSYSPR    Unmodified       3                 30   \n",
       "9639                      LDELYGTWR    Unmodified       2                 16   \n",
       "\n",
       "       id_count_human_only_runs  mbr_count_all_runs  \\\n",
       "4529                          1                   0   \n",
       "3547                          3                   4   \n",
       "18105                         8                   2   \n",
       "14714                        10                   0   \n",
       "9639                          7                   6   \n",
       "\n",
       "       mbr_count_human_only_runs  total_count_all_runs  \\\n",
       "4529                           0                     1   \n",
       "3547                           3                    25   \n",
       "18105                          2                    30   \n",
       "14714                          0                    30   \n",
       "9639                           2                    22   \n",
       "\n",
       "       total_count_human_only_runs  human  \n",
       "4529                             1   True  \n",
       "3547                             6   True  \n",
       "18105                           10   True  \n",
       "14714                           10   True  \n",
       "9639                             9   True  "
      ]
     },
     "execution_count": 72,
     "metadata": {},
     "output_type": "execute_result"
    }
   ],
   "source": [
    "human_id_df.sample(n=5)"
   ]
  },
  {
   "cell_type": "code",
   "execution_count": 73,
   "metadata": {},
   "outputs": [
    {
     "data": {
      "image/png": "[encoded data removed]",
      "text/plain": [
       "<Figure size 1080x576 with 1 Axes>"
      ]
     },
     "metadata": {
      "needs_background": "light"
     },
     "output_type": "display_data"
    }
   ],
   "source": [
    "f, ax1 = plt.subplots()\n",
    "f.set_figheight(8)\n",
    "f.set_figwidth(15)\n",
    "\n",
    "plt.margins(0.06)\n",
    "plt.suptitle('Distribution of sequence identifications extracted from the HeLa-only runs for MaxQuant (with MBR)')\n",
    "plt.title('{} modified peptide sequences were identified in the HeLa-only runs'.format(len(human_id_df)))\n",
    "\n",
    "counts = np.bincount(human_id_df.total_count_human_only_runs)\n",
    "ax1.bar(range(11), counts, width=0.8, align='center')\n",
    "plt.xlabel('number of files in which a modified sequence-charge was identified')\n",
    "plt.ylabel('frequency')\n",
    "ax1.set(xticks=range(1,11), xlim=[0, 11])\n",
    "plt.ylim((0,13000))\n",
    "\n",
    "plt.show()"
   ]
  },
  {
   "cell_type": "code",
   "execution_count": null,
   "metadata": {},
   "outputs": [],
   "source": []
  }
 ],
 "metadata": {
  "kernelspec": {
   "display_name": "Python 3",
   "language": "python",
   "name": "python3"
  },
  "language_info": {
   "codemirror_mode": {
    "name": "ipython",
    "version": 3
   },
   "file_extension": ".py",
   "mimetype": "text/x-python",
   "name": "python",
   "nbconvert_exporter": "python",
   "pygments_lexer": "ipython3",
   "version": "3.6.8"
  }
 },
 "nbformat": 4,
 "nbformat_minor": 2
}
