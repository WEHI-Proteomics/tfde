{
 "cells": [
  {
   "cell_type": "code",
   "execution_count": 6,
   "metadata": {},
   "outputs": [],
   "source": [
    "import glob,os,shutil"
   ]
  },
  {
   "cell_type": "code",
   "execution_count": 7,
   "metadata": {},
   "outputs": [],
   "source": [
    "TILES_DIR = '/Users/darylwilding-mcbride/Downloads/tracked-features'\n",
    "ANIMATION_FRAMES_DIR = '{}/frames'.format(TILES_DIR)\n",
    "VIDEO_DIR = '{}/video'.format(TILES_DIR)"
   ]
  },
  {
   "cell_type": "code",
   "execution_count": 8,
   "metadata": {},
   "outputs": [],
   "source": [
    "# initialise the directories required\n",
    "if os.path.exists(ANIMATION_FRAMES_DIR):\n",
    "    shutil.rmtree(ANIMATION_FRAMES_DIR)\n",
    "os.makedirs(ANIMATION_FRAMES_DIR)\n",
    "\n",
    "if os.path.exists(VIDEO_DIR):\n",
    "    shutil.rmtree(VIDEO_DIR)\n",
    "os.makedirs(VIDEO_DIR)"
   ]
  },
  {
   "cell_type": "code",
   "execution_count": 9,
   "metadata": {},
   "outputs": [],
   "source": [
    "for idx,file in enumerate(sorted(glob.glob(\"{}/frame-*.png\".format(TILES_DIR)))):\n",
    "    src = file\n",
    "    dst = '{}/frame-{:04d}.png'.format(ANIMATION_FRAMES_DIR, idx)\n",
    "    shutil.copyfile(src, dst)"
   ]
  },
  {
   "cell_type": "code",
   "execution_count": null,
   "metadata": {},
   "outputs": [],
   "source": []
  }
 ],
 "metadata": {
  "kernelspec": {
   "display_name": "Python 3",
   "language": "python",
   "name": "python3"
  },
  "language_info": {
   "codemirror_mode": {
    "name": "ipython",
    "version": 3
   },
   "file_extension": ".py",
   "mimetype": "text/x-python",
   "name": "python",
   "nbconvert_exporter": "python",
   "pygments_lexer": "ipython3",
   "version": "3.6.7"
  }
 },
 "nbformat": 4,
 "nbformat_minor": 2
}
