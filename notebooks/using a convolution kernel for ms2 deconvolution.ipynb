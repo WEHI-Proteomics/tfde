{
 "cells": [
  {
   "cell_type": "code",
   "execution_count": 37,
   "metadata": {},
   "outputs": [],
   "source": [
    "import pandas as pd\n",
    "import numpy as np\n",
    "import sys\n",
    "import matplotlib.pyplot as plt\n",
    "from sys import getsizeof\n"
   ]
  },
  {
   "cell_type": "code",
   "execution_count": 38,
   "metadata": {},
   "outputs": [],
   "source": [
    "feature_id = 1\n",
    "mz_scaling_factor = 1000"
   ]
  },
  {
   "cell_type": "code",
   "execution_count": 39,
   "metadata": {},
   "outputs": [],
   "source": [
    "feature_raw_ms2_df = pd.read_pickle('/Users/darylwilding-mcbride/Downloads/feature-{}-ms2-raw-points.pkl'.format(feature_id))\n",
    "feature_raw_ms2_df.sort_values(by=['mz'], ascending=True, inplace=True)\n",
    "feature_raw_ms2_df['scaled_mz'] = (feature_raw_ms2_df.mz * mz_scaling_factor).astype(np.int32)\n",
    "feature_raw_ms2_df.drop_duplicates(subset=('scaled_mz'), inplace=True)"
   ]
  },
  {
   "cell_type": "code",
   "execution_count": 40,
   "metadata": {},
   "outputs": [
    {
     "data": {
      "text/html": [
       "<div>\n",
       "<style scoped>\n",
       "    .dataframe tbody tr th:only-of-type {\n",
       "        vertical-align: middle;\n",
       "    }\n",
       "\n",
       "    .dataframe tbody tr th {\n",
       "        vertical-align: top;\n",
       "    }\n",
       "\n",
       "    .dataframe thead th {\n",
       "        text-align: right;\n",
       "    }\n",
       "</style>\n",
       "<table border=\"1\" class=\"dataframe\">\n",
       "  <thead>\n",
       "    <tr style=\"text-align: right;\">\n",
       "      <th></th>\n",
       "      <th>frame_id</th>\n",
       "      <th>mz</th>\n",
       "      <th>intensity</th>\n",
       "      <th>scaled_mz</th>\n",
       "    </tr>\n",
       "  </thead>\n",
       "  <tbody>\n",
       "    <tr>\n",
       "      <th>0</th>\n",
       "      <td>27938</td>\n",
       "      <td>133.596214</td>\n",
       "      <td>9</td>\n",
       "      <td>133596</td>\n",
       "    </tr>\n",
       "    <tr>\n",
       "      <th>1</th>\n",
       "      <td>27938</td>\n",
       "      <td>180.467447</td>\n",
       "      <td>9</td>\n",
       "      <td>180467</td>\n",
       "    </tr>\n",
       "    <tr>\n",
       "      <th>2</th>\n",
       "      <td>27938</td>\n",
       "      <td>213.418260</td>\n",
       "      <td>9</td>\n",
       "      <td>213418</td>\n",
       "    </tr>\n",
       "    <tr>\n",
       "      <th>3</th>\n",
       "      <td>27938</td>\n",
       "      <td>266.156364</td>\n",
       "      <td>9</td>\n",
       "      <td>266156</td>\n",
       "    </tr>\n",
       "    <tr>\n",
       "      <th>4</th>\n",
       "      <td>27938</td>\n",
       "      <td>268.404245</td>\n",
       "      <td>9</td>\n",
       "      <td>268404</td>\n",
       "    </tr>\n",
       "  </tbody>\n",
       "</table>\n",
       "</div>"
      ],
      "text/plain": [
       "   frame_id          mz  intensity  scaled_mz\n",
       "0     27938  133.596214          9     133596\n",
       "1     27938  180.467447          9     180467\n",
       "2     27938  213.418260          9     213418\n",
       "3     27938  266.156364          9     266156\n",
       "4     27938  268.404245          9     268404"
      ]
     },
     "execution_count": 40,
     "metadata": {},
     "output_type": "execute_result"
    }
   ],
   "source": [
    "feature_raw_ms2_df.head()"
   ]
  },
  {
   "cell_type": "code",
   "execution_count": 41,
   "metadata": {},
   "outputs": [
    {
     "data": {
      "text/plain": [
       "194"
      ]
     },
     "execution_count": 41,
     "metadata": {},
     "output_type": "execute_result"
    }
   ],
   "source": [
    "len(feature_raw_ms2_df)"
   ]
  },
  {
   "cell_type": "code",
   "execution_count": 42,
   "metadata": {
    "scrolled": false
   },
   "outputs": [
    {
     "data": {
      "image/png": "[encoded data removed]",
      "text/plain": [
       "<Figure size 1152x360 with 1 Axes>"
      ]
     },
     "metadata": {
      "needs_background": "light"
     },
     "output_type": "display_data"
    }
   ],
   "source": [
    "f, ax = plt.subplots()\n",
    "colors = ['tab:blue', 'tab:orange', 'tab:green', 'tab:red', 'tab:purple', 'tab:brown', 'tab:pink', 'tab:gray', 'tab:olive', 'tab:cyan']\n",
    "\n",
    "markerline, stemlines, baseline = ax.stem(feature_raw_ms2_df.mz, feature_raw_ms2_df.intensity, use_line_collection=True)\n",
    "plt.setp(markerline, 'color', colors[1])\n",
    "plt.setp(stemlines, 'color', colors[1])\n",
    "plt.setp(baseline, 'color', colors[7])\n",
    "\n",
    "x_min = 100\n",
    "x_max = 1700\n",
    "\n",
    "plt.xlabel('m/z')\n",
    "plt.ylabel('intensity')\n",
    "f.set_figheight(5)\n",
    "f.set_figwidth(16)\n",
    "ax.set_xlim((x_min,x_max))\n",
    "plt.margins(0.06)\n",
    "plt.title('raw ms2 spectra for feature {}'.format(feature_id))\n",
    "plt.show()"
   ]
  },
  {
   "cell_type": "code",
   "execution_count": 61,
   "metadata": {},
   "outputs": [
    {
     "data": {
      "text/html": [
       "<div>\n",
       "<style scoped>\n",
       "    .dataframe tbody tr th:only-of-type {\n",
       "        vertical-align: middle;\n",
       "    }\n",
       "\n",
       "    .dataframe tbody tr th {\n",
       "        vertical-align: top;\n",
       "    }\n",
       "\n",
       "    .dataframe thead th {\n",
       "        text-align: right;\n",
       "    }\n",
       "</style>\n",
       "<table border=\"1\" class=\"dataframe\">\n",
       "  <thead>\n",
       "    <tr style=\"text-align: right;\">\n",
       "      <th></th>\n",
       "      <th>frame_id</th>\n",
       "      <th>mz</th>\n",
       "      <th>intensity</th>\n",
       "      <th>scaled_mz</th>\n",
       "    </tr>\n",
       "  </thead>\n",
       "  <tbody>\n",
       "    <tr>\n",
       "      <th>0</th>\n",
       "      <td>27938</td>\n",
       "      <td>133.596214</td>\n",
       "      <td>9</td>\n",
       "      <td>133596</td>\n",
       "    </tr>\n",
       "    <tr>\n",
       "      <th>1</th>\n",
       "      <td>27938</td>\n",
       "      <td>180.467447</td>\n",
       "      <td>9</td>\n",
       "      <td>180467</td>\n",
       "    </tr>\n",
       "    <tr>\n",
       "      <th>2</th>\n",
       "      <td>27938</td>\n",
       "      <td>213.418260</td>\n",
       "      <td>9</td>\n",
       "      <td>213418</td>\n",
       "    </tr>\n",
       "    <tr>\n",
       "      <th>3</th>\n",
       "      <td>27938</td>\n",
       "      <td>266.156364</td>\n",
       "      <td>9</td>\n",
       "      <td>266156</td>\n",
       "    </tr>\n",
       "    <tr>\n",
       "      <th>4</th>\n",
       "      <td>27938</td>\n",
       "      <td>268.404245</td>\n",
       "      <td>9</td>\n",
       "      <td>268404</td>\n",
       "    </tr>\n",
       "    <tr>\n",
       "      <th>5</th>\n",
       "      <td>27938</td>\n",
       "      <td>290.488503</td>\n",
       "      <td>9</td>\n",
       "      <td>290488</td>\n",
       "    </tr>\n",
       "    <tr>\n",
       "      <th>6</th>\n",
       "      <td>27938</td>\n",
       "      <td>291.147299</td>\n",
       "      <td>44</td>\n",
       "      <td>291147</td>\n",
       "    </tr>\n",
       "    <tr>\n",
       "      <th>7</th>\n",
       "      <td>27938</td>\n",
       "      <td>294.179258</td>\n",
       "      <td>55</td>\n",
       "      <td>294179</td>\n",
       "    </tr>\n",
       "    <tr>\n",
       "      <th>8</th>\n",
       "      <td>27938</td>\n",
       "      <td>303.130481</td>\n",
       "      <td>83</td>\n",
       "      <td>303130</td>\n",
       "    </tr>\n",
       "    <tr>\n",
       "      <th>9</th>\n",
       "      <td>27938</td>\n",
       "      <td>319.045393</td>\n",
       "      <td>51</td>\n",
       "      <td>319045</td>\n",
       "    </tr>\n",
       "    <tr>\n",
       "      <th>10</th>\n",
       "      <td>27938</td>\n",
       "      <td>325.186340</td>\n",
       "      <td>55</td>\n",
       "      <td>325186</td>\n",
       "    </tr>\n",
       "    <tr>\n",
       "      <th>11</th>\n",
       "      <td>27938</td>\n",
       "      <td>328.138792</td>\n",
       "      <td>132</td>\n",
       "      <td>328138</td>\n",
       "    </tr>\n",
       "    <tr>\n",
       "      <th>12</th>\n",
       "      <td>27938</td>\n",
       "      <td>354.206473</td>\n",
       "      <td>29</td>\n",
       "      <td>354206</td>\n",
       "    </tr>\n",
       "    <tr>\n",
       "      <th>13</th>\n",
       "      <td>27938</td>\n",
       "      <td>359.918171</td>\n",
       "      <td>9</td>\n",
       "      <td>359918</td>\n",
       "    </tr>\n",
       "    <tr>\n",
       "      <th>14</th>\n",
       "      <td>27938</td>\n",
       "      <td>361.145695</td>\n",
       "      <td>44</td>\n",
       "      <td>361145</td>\n",
       "    </tr>\n",
       "    <tr>\n",
       "      <th>15</th>\n",
       "      <td>27938</td>\n",
       "      <td>361.148692</td>\n",
       "      <td>57</td>\n",
       "      <td>361148</td>\n",
       "    </tr>\n",
       "    <tr>\n",
       "      <th>16</th>\n",
       "      <td>27938</td>\n",
       "      <td>375.226085</td>\n",
       "      <td>59</td>\n",
       "      <td>375226</td>\n",
       "    </tr>\n",
       "    <tr>\n",
       "      <th>17</th>\n",
       "      <td>27938</td>\n",
       "      <td>397.162570</td>\n",
       "      <td>54</td>\n",
       "      <td>397162</td>\n",
       "    </tr>\n",
       "    <tr>\n",
       "      <th>18</th>\n",
       "      <td>27938</td>\n",
       "      <td>400.219682</td>\n",
       "      <td>58</td>\n",
       "      <td>400219</td>\n",
       "    </tr>\n",
       "    <tr>\n",
       "      <th>19</th>\n",
       "      <td>27938</td>\n",
       "      <td>402.218941</td>\n",
       "      <td>10</td>\n",
       "      <td>402218</td>\n",
       "    </tr>\n",
       "  </tbody>\n",
       "</table>\n",
       "</div>"
      ],
      "text/plain": [
       "    frame_id          mz  intensity  scaled_mz\n",
       "0      27938  133.596214          9     133596\n",
       "1      27938  180.467447          9     180467\n",
       "2      27938  213.418260          9     213418\n",
       "3      27938  266.156364          9     266156\n",
       "4      27938  268.404245          9     268404\n",
       "5      27938  290.488503          9     290488\n",
       "6      27938  291.147299         44     291147\n",
       "7      27938  294.179258         55     294179\n",
       "8      27938  303.130481         83     303130\n",
       "9      27938  319.045393         51     319045\n",
       "10     27938  325.186340         55     325186\n",
       "11     27938  328.138792        132     328138\n",
       "12     27938  354.206473         29     354206\n",
       "13     27938  359.918171          9     359918\n",
       "14     27938  361.145695         44     361145\n",
       "15     27938  361.148692         57     361148\n",
       "16     27938  375.226085         59     375226\n",
       "17     27938  397.162570         54     397162\n",
       "18     27938  400.219682         58     400219\n",
       "19     27938  402.218941         10     402218"
      ]
     },
     "execution_count": 61,
     "metadata": {},
     "output_type": "execute_result"
    }
   ],
   "source": [
    "feature_raw_ms2_df.head(20)"
   ]
  },
  {
   "cell_type": "code",
   "execution_count": 63,
   "metadata": {},
   "outputs": [
    {
     "name": "stdout",
     "output_type": "stream",
     "text": [
      "allocated 6331152 bytes for the frame array\n"
     ]
    }
   ],
   "source": [
    "raw_spectra_a = np.zeros(feature_raw_ms2_df.scaled_mz.max()+1, dtype=np.int32)\n",
    "print(\"allocated {} bytes for the frame array\".format(getsizeof(raw_spectra_a)))"
   ]
  },
  {
   "cell_type": "code",
   "execution_count": 64,
   "metadata": {},
   "outputs": [],
   "source": [
    "raw_spectra_a[feature_raw_ms2_df.scaled_mz] = feature_raw_ms2_df.intensity"
   ]
  },
  {
   "cell_type": "code",
   "execution_count": 65,
   "metadata": {},
   "outputs": [
    {
     "data": {
      "text/plain": [
       "83"
      ]
     },
     "execution_count": 65,
     "metadata": {},
     "output_type": "execute_result"
    }
   ],
   "source": [
    "raw_spectra_a[303130]"
   ]
  },
  {
   "cell_type": "code",
   "execution_count": 67,
   "metadata": {},
   "outputs": [
    {
     "data": {
      "text/plain": [
       "0"
      ]
     },
     "execution_count": 67,
     "metadata": {},
     "output_type": "execute_result"
    }
   ],
   "source": [
    "raw_spectra_a[133595]"
   ]
  },
  {
   "cell_type": "code",
   "execution_count": 80,
   "metadata": {},
   "outputs": [],
   "source": [
    "DELTA_MZ = 1.003355     # Mass difference between Carbon-12 and Carbon-13 isotopes, in Da. For calculating the spacing between isotopic peaks."
   ]
  },
  {
   "cell_type": "code",
   "execution_count": 91,
   "metadata": {},
   "outputs": [],
   "source": [
    "isotope_kernel_spacing = int(DELTA_MZ * mz_scaling_factor)\n",
    "isotope_kernel = np.array([1,2,3,4,5,6,7,8,9,10,9,8,7,6,5,4,3,2,1])\n",
    "fill = np.zeros(isotope_kernel_spacing-len(isotope_kernel), dtype=np.int32)"
   ]
  },
  {
   "cell_type": "code",
   "execution_count": 96,
   "metadata": {},
   "outputs": [],
   "source": [
    "custom_kernel_a = np.concatenate((np.concatenate((isotope_kernel, fill), axis=0), isotope_kernel), axis=0)\n",
    "# make sure the kernel length is an odd number\n",
    "if len(custom_kernel_a) % 2 == 0:\n",
    "    custom_kernel_a = np.concatenate((custom_kernel_a, np.array([1])), axis=0)"
   ]
  },
  {
   "cell_type": "code",
   "execution_count": 97,
   "metadata": {},
   "outputs": [
    {
     "data": {
      "text/plain": [
       "1023"
      ]
     },
     "execution_count": 97,
     "metadata": {},
     "output_type": "execute_result"
    }
   ],
   "source": [
    "len(custom_kernel_a)"
   ]
  },
  {
   "cell_type": "code",
   "execution_count": 98,
   "metadata": {},
   "outputs": [
    {
     "data": {
      "text/plain": [
       "array([1, 2, 3, ..., 2, 1, 1])"
      ]
     },
     "execution_count": 98,
     "metadata": {},
     "output_type": "execute_result"
    }
   ],
   "source": [
    "custom_kernel_a"
   ]
  },
  {
   "cell_type": "code",
   "execution_count": 100,
   "metadata": {},
   "outputs": [],
   "source": [
    "from astropy.convolution.kernels import CustomKernel\n",
    "kernel = CustomKernel(custom_kernel_a)"
   ]
  },
  {
   "cell_type": "code",
   "execution_count": 101,
   "metadata": {},
   "outputs": [],
   "source": [
    "from astropy.convolution import convolve\n",
    "result = convolve(raw_spectra_a, kernel)"
   ]
  },
  {
   "cell_type": "code",
   "execution_count": 106,
   "metadata": {},
   "outputs": [
    {
     "data": {
      "image/png": "[encoded data removed]",
      "text/plain": [
       "<Figure size 1152x360 with 1 Axes>"
      ]
     },
     "metadata": {
      "needs_background": "light"
     },
     "output_type": "display_data"
    }
   ],
   "source": [
    "f, ax = plt.subplots()\n",
    "colors = ['tab:blue', 'tab:orange', 'tab:green', 'tab:red', 'tab:purple', 'tab:brown', 'tab:pink', 'tab:gray', 'tab:olive', 'tab:cyan']\n",
    "\n",
    "ax.plot(result, color=colors[0])\n",
    "\n",
    "plt.xlabel('m/z')\n",
    "plt.ylabel('intensity')\n",
    "f.set_figheight(5)\n",
    "f.set_figwidth(16)\n",
    "# ax.set_xlim((200000,220000))\n",
    "plt.margins(0.06)\n",
    "plt.title('raw ms2 spectra for feature {}'.format(feature_id))\n",
    "plt.show()"
   ]
  },
  {
   "cell_type": "code",
   "execution_count": null,
   "metadata": {},
   "outputs": [],
   "source": []
  }
 ],
 "metadata": {
  "kernelspec": {
   "display_name": "Python 3",
   "language": "python",
   "name": "python3"
  },
  "language_info": {
   "codemirror_mode": {
    "name": "ipython",
    "version": 3
   },
   "file_extension": ".py",
   "mimetype": "text/x-python",
   "name": "python",
   "nbconvert_exporter": "python",
   "pygments_lexer": "ipython3",
   "version": "3.6.8"
  }
 },
 "nbformat": 4,
 "nbformat_minor": 2
}
