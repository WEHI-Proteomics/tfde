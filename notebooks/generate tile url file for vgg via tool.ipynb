{
 "cells": [
  {
   "cell_type": "code",
   "execution_count": 1,
   "metadata": {},
   "outputs": [],
   "source": [
    "import glob\n",
    "import os"
   ]
  },
  {
   "cell_type": "code",
   "execution_count": 2,
   "metadata": {},
   "outputs": [],
   "source": [
    "TILE_DIR = '/Users/darylwilding-mcbride/Downloads/190719_Hela_Ecoli_1to1_01-tiles/tile-33/pre-assigned'\n",
    "BASE_TILE_URL = 'https://dwm-tims.s3-ap-southeast-2.amazonaws.com/190719_Hela_Ecoli_1to1_01-tiles/pre-assigned'\n",
    "OUTPUT_FILE = '/Users/darylwilding-mcbride/Downloads/tile-33-url-list.txt'"
   ]
  },
  {
   "cell_type": "code",
   "execution_count": 3,
   "metadata": {},
   "outputs": [],
   "source": [
    "tile_urls = []\n",
    "for file in sorted(glob.glob(\"{}/*.txt\".format(TILE_DIR))):\n",
    "    tile_name = os.path.basename(file).split('.')[0]\n",
    "    image_url = \"{}/{}.png\".format(BASE_TILE_URL, tile_name)\n",
    "    tile_urls.append(image_url)"
   ]
  },
  {
   "cell_type": "code",
   "execution_count": 4,
   "metadata": {},
   "outputs": [],
   "source": [
    "with open(OUTPUT_FILE, 'w') as f:\n",
    "    for item in tile_urls:\n",
    "        f.write(\"%s\\n\" % item)"
   ]
  },
  {
   "cell_type": "code",
   "execution_count": null,
   "metadata": {},
   "outputs": [],
   "source": []
  }
 ],
 "metadata": {
  "kernelspec": {
   "display_name": "Python 3",
   "language": "python",
   "name": "python3"
  },
  "language_info": {
   "codemirror_mode": {
    "name": "ipython",
    "version": 3
   },
   "file_extension": ".py",
   "mimetype": "text/x-python",
   "name": "python",
   "nbconvert_exporter": "python",
   "pygments_lexer": "ipython3",
   "version": "3.6.8"
  }
 },
 "nbformat": 4,
 "nbformat_minor": 2
}
