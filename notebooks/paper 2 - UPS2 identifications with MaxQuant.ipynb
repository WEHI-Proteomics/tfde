{
 "cells": [
  {
   "cell_type": "code",
   "execution_count": 1,
   "metadata": {},
   "outputs": [],
   "source": [
    "import pandas as pd\n",
    "import numpy as np\n",
    "import os\n",
    "import matplotlib.pyplot as plt\n",
    "import pickle\n",
    "import seaborn as sns\n",
    "import json\n",
    "from os.path import expanduser"
   ]
  },
  {
   "cell_type": "code",
   "execution_count": 2,
   "metadata": {},
   "outputs": [],
   "source": [
    "PROTON_MASS = 1.00727647\n",
    "ADD_C_CYSTEINE_DA = 57.021464"
   ]
  },
  {
   "cell_type": "code",
   "execution_count": 3,
   "metadata": {},
   "outputs": [],
   "source": [
    "# calculate the monoisotopic mass    \n",
    "def calculate_monoisotopic_mass_from_mz(monoisotopic_mz, charge):\n",
    "    monoisotopic_mass = (monoisotopic_mz * charge) - (PROTON_MASS * charge)\n",
    "    return monoisotopic_mass"
   ]
  },
  {
   "cell_type": "code",
   "execution_count": 4,
   "metadata": {},
   "outputs": [],
   "source": [
    "experiment_name = 'P3830'\n",
    "run_name = 'P3830_YeastUPS2_01_Slot1-1_1_5082'\n",
    "experiment_base_dir = '/media/big-ssd/experiments'"
   ]
  },
  {
   "cell_type": "code",
   "execution_count": 5,
   "metadata": {},
   "outputs": [],
   "source": [
    "EXPERIMENT_DIR = \"{}/{}\".format(experiment_base_dir, experiment_name)\n",
    "MQ_PERCOLATOR_OUTPUT_DIR = '{}/percolator-output-maxquant'.format(EXPERIMENT_DIR)\n",
    "MQ_MGF_DIR = '{}/mgf-maxquant'.format(EXPERIMENT_DIR)"
   ]
  },
  {
   "cell_type": "code",
   "execution_count": 6,
   "metadata": {},
   "outputs": [],
   "source": [
    "MAXIMUM_Q_VALUE = 0.01"
   ]
  },
  {
   "cell_type": "code",
   "execution_count": 7,
   "metadata": {},
   "outputs": [],
   "source": [
    "# load the percolator output\n",
    "MQ_PERCOLATOR_OUTPUT_FILE_NAME = \"{}/{}.percolator.target.psms.txt\".format(MQ_PERCOLATOR_OUTPUT_DIR, experiment_name)\n",
    "mq_psms_df = pd.read_csv(MQ_PERCOLATOR_OUTPUT_FILE_NAME, sep='\\t')\n",
    "mq_psms_df.rename(columns={'scan': 'mq_index'}, inplace=True)\n",
    "mq_psms_df.drop(['charge'], axis=1, inplace=True)\n",
    "# remove the poor quality identifications\n",
    "mq_psms_df = mq_psms_df[mq_psms_df['peptide mass'] > 0]"
   ]
  },
  {
   "cell_type": "code",
   "execution_count": 8,
   "metadata": {},
   "outputs": [
    {
     "data": {
      "text/plain": [
       "Index(['file_idx', 'mq_index', 'spectrum precursor m/z',\n",
       "       'spectrum neutral mass', 'peptide mass', 'percolator score',\n",
       "       'percolator q-value', 'percolator PEP', 'total matches/spectrum',\n",
       "       'sequence', 'protein id', 'flanking aa'],\n",
       "      dtype='object')"
      ]
     },
     "execution_count": 8,
     "metadata": {},
     "output_type": "execute_result"
    }
   ],
   "source": [
    "mq_psms_df.columns"
   ]
  },
  {
   "cell_type": "code",
   "execution_count": 9,
   "metadata": {},
   "outputs": [],
   "source": [
    "# merge the precolator results with the MQ features - obtained with the -v flag of the APL-to-MGF converter\n",
    "MQ_FEATURES_NAME = '{}/{}.pkl'.format(MQ_MGF_DIR, run_name)\n",
    "mq_features_df = pd.read_pickle(MQ_FEATURES_NAME)"
   ]
  },
  {
   "cell_type": "code",
   "execution_count": 10,
   "metadata": {},
   "outputs": [
    {
     "data": {
      "text/plain": [
       "Index(['monoisotopic_mass', 'charge', 'monoisotopic_mz', 'intensity',\n",
       "       'scan_apex', 'rt_apex', 'raw_file', 'mq_index', 'ms2_peaks'],\n",
       "      dtype='object')"
      ]
     },
     "execution_count": 10,
     "metadata": {},
     "output_type": "execute_result"
    }
   ],
   "source": [
    "mq_features_df.columns"
   ]
  },
  {
   "cell_type": "code",
   "execution_count": 11,
   "metadata": {},
   "outputs": [],
   "source": [
    "mq_identifications_df = pd.merge(mq_features_df, mq_psms_df, how='left', left_on=['mq_index'], right_on=['mq_index'])\n",
    "# remove any features that were not identified\n",
    "mq_identifications_df.dropna(subset=['sequence'], inplace=True)\n"
   ]
  },
  {
   "cell_type": "code",
   "execution_count": 12,
   "metadata": {},
   "outputs": [],
   "source": [
    "mq_identifications_df['theoretical_peptide_mass'] = mq_identifications_df['peptide mass'] + (mq_identifications_df.sequence.str.count('C') * ADD_C_CYSTEINE_DA)\n",
    "mq_identifications_df['mass_accuracy_ppm'] = (mq_identifications_df['monoisotopic_mass'] - mq_identifications_df['theoretical_peptide_mass']) / mq_identifications_df['theoretical_peptide_mass'] * 10**6\n",
    "mq_identifications_df['mass_error'] = mq_identifications_df['monoisotopic_mass'] - mq_identifications_df['theoretical_peptide_mass']\n"
   ]
  },
  {
   "cell_type": "code",
   "execution_count": 13,
   "metadata": {},
   "outputs": [
    {
     "data": {
      "text/plain": [
       "Index(['monoisotopic_mass', 'charge', 'monoisotopic_mz', 'intensity',\n",
       "       'scan_apex', 'rt_apex', 'raw_file', 'mq_index', 'ms2_peaks', 'file_idx',\n",
       "       'spectrum precursor m/z', 'spectrum neutral mass', 'peptide mass',\n",
       "       'percolator score', 'percolator q-value', 'percolator PEP',\n",
       "       'total matches/spectrum', 'sequence', 'protein id', 'flanking aa',\n",
       "       'theoretical_peptide_mass', 'mass_accuracy_ppm', 'mass_error'],\n",
       "      dtype='object')"
      ]
     },
     "execution_count": 13,
     "metadata": {},
     "output_type": "execute_result"
    }
   ],
   "source": [
    "mq_identifications_df.columns"
   ]
  },
  {
   "cell_type": "code",
   "execution_count": 14,
   "metadata": {},
   "outputs": [],
   "source": [
    "mq_identifications_df = mq_identifications_df[(mq_identifications_df['percolator q-value'] <= MAXIMUM_Q_VALUE) & (~mq_identifications_df['protein id'].str.contains('YEAST'))]"
   ]
  },
  {
   "cell_type": "code",
   "execution_count": 15,
   "metadata": {},
   "outputs": [
    {
     "name": "stdout",
     "output_type": "stream",
     "text": [
      "number of unique proteins: 20\n"
     ]
    }
   ],
   "source": [
    "print('number of unique proteins: {}'.format(len(mq_identifications_df['protein id'].unique())))"
   ]
  },
  {
   "cell_type": "markdown",
   "metadata": {},
   "source": [
    "#### using the Top3 approach to determine protein quanitification"
   ]
  },
  {
   "cell_type": "code",
   "execution_count": 16,
   "metadata": {},
   "outputs": [],
   "source": [
    "ups2_proteins_l = []\n",
    "\n",
    "ups2_proteins_l.append({'uniprot':'P00915', 'fmoles':50000})\n",
    "ups2_proteins_l.append({'uniprot':'P00918', 'fmoles':50000})\n",
    "ups2_proteins_l.append({'uniprot':'P01031', 'fmoles':50000})\n",
    "ups2_proteins_l.append({'uniprot':'P69905', 'fmoles':50000})\n",
    "ups2_proteins_l.append({'uniprot':'P68871', 'fmoles':50000})\n",
    "ups2_proteins_l.append({'uniprot':'P41159', 'fmoles':50000})\n",
    "ups2_proteins_l.append({'uniprot':'P02768', 'fmoles':50000})\n",
    "ups2_proteins_l.append({'uniprot':'P62988', 'fmoles':50000})\n",
    "\n",
    "ups2_proteins_l.append({'uniprot':'P04040', 'fmoles':5000})\n",
    "ups2_proteins_l.append({'uniprot':'P00167', 'fmoles':5000})\n",
    "ups2_proteins_l.append({'uniprot':'P01133', 'fmoles':5000})\n",
    "ups2_proteins_l.append({'uniprot':'P02144', 'fmoles':5000})\n",
    "ups2_proteins_l.append({'uniprot':'P15559', 'fmoles':5000})\n",
    "ups2_proteins_l.append({'uniprot':'P62937', 'fmoles':5000})\n",
    "ups2_proteins_l.append({'uniprot':'Q06830', 'fmoles':5000})\n",
    "ups2_proteins_l.append({'uniprot':'P63165', 'fmoles':5000})\n",
    "\n",
    "ups2_proteins_l.append({'uniprot':'P00709', 'fmoles':500})\n",
    "ups2_proteins_l.append({'uniprot':'P06732', 'fmoles':500})\n",
    "ups2_proteins_l.append({'uniprot':'P12081', 'fmoles':500})\n",
    "ups2_proteins_l.append({'uniprot':'P61626', 'fmoles':500})\n",
    "ups2_proteins_l.append({'uniprot':'Q15843', 'fmoles':500})\n",
    "ups2_proteins_l.append({'uniprot':'P02753', 'fmoles':500})\n",
    "ups2_proteins_l.append({'uniprot':'P16083', 'fmoles':500})\n",
    "ups2_proteins_l.append({'uniprot':'P63279', 'fmoles':500})\n",
    "\n",
    "ups2_proteins_l.append({'uniprot':'P01008', 'fmoles':50})\n",
    "ups2_proteins_l.append({'uniprot':'P61769', 'fmoles':50})\n",
    "ups2_proteins_l.append({'uniprot':'P55957', 'fmoles':50})\n",
    "ups2_proteins_l.append({'uniprot':'O76070', 'fmoles':50})\n",
    "ups2_proteins_l.append({'uniprot':'P08263', 'fmoles':50})\n",
    "ups2_proteins_l.append({'uniprot':'P01344', 'fmoles':50})\n",
    "ups2_proteins_l.append({'uniprot':'P01127', 'fmoles':50})\n",
    "ups2_proteins_l.append({'uniprot':'P10599', 'fmoles':50})\n",
    "\n",
    "ups2_proteins_l.append({'uniprot':'P99999', 'fmoles':5})\n",
    "ups2_proteins_l.append({'uniprot':'P06396', 'fmoles':5})\n",
    "ups2_proteins_l.append({'uniprot':'P09211', 'fmoles':5})\n",
    "ups2_proteins_l.append({'uniprot':'P01112', 'fmoles':5})\n",
    "ups2_proteins_l.append({'uniprot':'P01579', 'fmoles':5})\n",
    "ups2_proteins_l.append({'uniprot':'P02787', 'fmoles':5})\n",
    "ups2_proteins_l.append({'uniprot':'O00762', 'fmoles':5})\n",
    "ups2_proteins_l.append({'uniprot':'P51965', 'fmoles':5})\n",
    "\n",
    "ups2_proteins_l.append({'uniprot':'P08758', 'fmoles':0.5})\n",
    "ups2_proteins_l.append({'uniprot':'P02741', 'fmoles':0.5})\n",
    "ups2_proteins_l.append({'uniprot':'P05413', 'fmoles':0.5})\n",
    "ups2_proteins_l.append({'uniprot':'P10145', 'fmoles':0.5})\n",
    "ups2_proteins_l.append({'uniprot':'P02788', 'fmoles':0.5})\n",
    "ups2_proteins_l.append({'uniprot':'P10636-8', 'fmoles':0.5})\n",
    "ups2_proteins_l.append({'uniprot':'P00441', 'fmoles':0.5})\n",
    "ups2_proteins_l.append({'uniprot':'P01375', 'fmoles':0.5})\n",
    "\n",
    "ups2_d = {}\n",
    "for p in ups2_proteins_l:\n",
    "    ups2_d[p['uniprot']] = p['fmoles']"
   ]
  },
  {
   "cell_type": "code",
   "execution_count": 17,
   "metadata": {},
   "outputs": [
    {
     "data": {
      "text/plain": [
       "array(['P02768ups|ALBU_HUMAN_UPS', 'P00918ups|CAH2_HUMAN_UPS',\n",
       "       'P00915ups|CAH1_HUMAN_UPS', 'P15559ups|NQO1_HUMAN_UPS',\n",
       "       'P68871ups|HBB_HUMAN_UPS', 'P41159ups|LEP_HUMAN_UPS',\n",
       "       'P63165ups|SUMO1_HUMAN_UPS', 'P04040ups|CATA_HUMAN_UPS',\n",
       "       'P02144ups|MYG_HUMAN_UPS', 'P00167ups|CYB5_HUMAN_UPS',\n",
       "       'P69905ups|HBA_HUMAN_UPS', 'P01031ups|CO5_HUMAN_UPS',\n",
       "       'P12081ups|SYHC_HUMAN_UPS', 'P01579ups|IFNG_HUMAN_UPS',\n",
       "       'Q06830ups|PRDX1_HUMAN_UPS', 'P00709ups|LALBA_HUMAN_UPS',\n",
       "       'P62937ups|PPIA_HUMAN_UPS,P62988ups|UBIQ_HUMAN_UPS,O76070ups|SYUG_HUMAN_UPS',\n",
       "       'P62988ups|UBIQ_HUMAN_UPS', 'P06732ups|KCRM_HUMAN_UPS',\n",
       "       'P01133ups|EGF_HUMAN_UPS'], dtype=object)"
      ]
     },
     "execution_count": 17,
     "metadata": {},
     "output_type": "execute_result"
    }
   ],
   "source": [
    "mq_identifications_df['protein id'].unique()"
   ]
  },
  {
   "cell_type": "code",
   "execution_count": 18,
   "metadata": {},
   "outputs": [
    {
     "name": "stdout",
     "output_type": "stream",
     "text": [
      "didn't have three peptides for P00167ups|CYB5_HUMAN_UPS\n",
      "didn't have three peptides for P00709ups|LALBA_HUMAN_UPS\n",
      "didn't have three peptides for P01133ups|EGF_HUMAN_UPS\n",
      "didn't have three peptides for P01579ups|IFNG_HUMAN_UPS\n",
      "didn't have three peptides for P06732ups|KCRM_HUMAN_UPS\n",
      "didn't have three peptides for P62937ups|PPIA_HUMAN_UPS,P62988ups|UBIQ_HUMAN_UPS,O76070ups|SYUG_HUMAN_UPS\n",
      "didn't have three peptides for P62988ups|UBIQ_HUMAN_UPS\n",
      "didn't have three peptides for P63165ups|SUMO1_HUMAN_UPS\n"
     ]
    }
   ],
   "source": [
    "# find the three most intense peptides for each protein\n",
    "top3_l = []\n",
    "for group_name,group_df in mq_identifications_df.groupby('protein id'):\n",
    "    df = group_df.sort_values(by=['intensity'], ascending=False, inplace=False)\n",
    "    top3_df = df.head(n=3)\n",
    "    if len(top3_df) == 3:\n",
    "        uniprot_id = group_name.split('ups')[0]\n",
    "        pmoles = ups2_d[uniprot_id] / 1000\n",
    "        average_intensity = top3_df.intensity.mean()\n",
    "        signal_response_factor = average_intensity / pmoles\n",
    "        peptide_count = len(df)\n",
    "        attribs_d = top3_df[['mq_index','sequence','charge','intensity']].to_dict('records')\n",
    "        top3_l.append({'protein':group_name, 'pmoles':pmoles, 'average_intensity':average_intensity, 'signal_response_factor':signal_response_factor, 'peptide_count':peptide_count, 'attribs_d':attribs_d})\n",
    "    else:\n",
    "        print('didn\\'t have three peptides for {}'.format(group_name))\n",
    "mq_top3_df = pd.DataFrame(top3_l)"
   ]
  },
  {
   "cell_type": "code",
   "execution_count": 19,
   "metadata": {},
   "outputs": [
    {
     "data": {
      "text/plain": [
       "130899.33333333334"
      ]
     },
     "execution_count": 19,
     "metadata": {},
     "output_type": "execute_result"
    }
   ],
   "source": [
    "# using Serum albumin (P02768) as an internal reference\n",
    "universal_signal_response_factor = mq_top3_df[mq_top3_df.protein.str.startswith('P02768')].iloc[0].signal_response_factor\n",
    "universal_signal_response_factor"
   ]
  },
  {
   "cell_type": "code",
   "execution_count": 20,
   "metadata": {},
   "outputs": [],
   "source": [
    "mq_top3_df['calculated_pmoles'] = mq_top3_df.average_intensity / universal_signal_response_factor"
   ]
  },
  {
   "cell_type": "code",
   "execution_count": 21,
   "metadata": {},
   "outputs": [
    {
     "data": {
      "text/html": [
       "<div>\n",
       "<style scoped>\n",
       "    .dataframe tbody tr th:only-of-type {\n",
       "        vertical-align: middle;\n",
       "    }\n",
       "\n",
       "    .dataframe tbody tr th {\n",
       "        vertical-align: top;\n",
       "    }\n",
       "\n",
       "    .dataframe thead th {\n",
       "        text-align: right;\n",
       "    }\n",
       "</style>\n",
       "<table border=\"1\" class=\"dataframe\">\n",
       "  <thead>\n",
       "    <tr style=\"text-align: right;\">\n",
       "      <th></th>\n",
       "      <th>protein</th>\n",
       "      <th>pmoles</th>\n",
       "      <th>average_intensity</th>\n",
       "      <th>signal_response_factor</th>\n",
       "      <th>peptide_count</th>\n",
       "      <th>attribs_d</th>\n",
       "      <th>calculated_pmoles</th>\n",
       "    </tr>\n",
       "  </thead>\n",
       "  <tbody>\n",
       "    <tr>\n",
       "      <th>0</th>\n",
       "      <td>P00915ups|CAH1_HUMAN_UPS</td>\n",
       "      <td>50.0</td>\n",
       "      <td>1.901467e+06</td>\n",
       "      <td>38029.333333</td>\n",
       "      <td>15</td>\n",
       "      <td>[{'mq_index': 13373, 'sequence': 'HDTSLKPISVSY...</td>\n",
       "      <td>14.526175</td>\n",
       "    </tr>\n",
       "    <tr>\n",
       "      <th>1</th>\n",
       "      <td>P00918ups|CAH2_HUMAN_UPS</td>\n",
       "      <td>50.0</td>\n",
       "      <td>1.739333e+06</td>\n",
       "      <td>34786.666667</td>\n",
       "      <td>16</td>\n",
       "      <td>[{'mq_index': 16798, 'sequence': 'YDPSLKPLSVSY...</td>\n",
       "      <td>13.287564</td>\n",
       "    </tr>\n",
       "    <tr>\n",
       "      <th>2</th>\n",
       "      <td>P01031ups|CO5_HUMAN_UPS</td>\n",
       "      <td>50.0</td>\n",
       "      <td>5.591990e+05</td>\n",
       "      <td>11183.980000</td>\n",
       "      <td>3</td>\n",
       "      <td>[{'mq_index': 16942, 'sequence': 'CCYDGACVNNDE...</td>\n",
       "      <td>4.271977</td>\n",
       "    </tr>\n",
       "    <tr>\n",
       "      <th>3</th>\n",
       "      <td>P02144ups|MYG_HUMAN_UPS</td>\n",
       "      <td>5.0</td>\n",
       "      <td>1.772887e+05</td>\n",
       "      <td>35457.733333</td>\n",
       "      <td>5</td>\n",
       "      <td>[{'mq_index': 7284, 'sequence': 'VEADIPGHGQEVL...</td>\n",
       "      <td>1.354389</td>\n",
       "    </tr>\n",
       "    <tr>\n",
       "      <th>4</th>\n",
       "      <td>P02768ups|ALBU_HUMAN_UPS</td>\n",
       "      <td>50.0</td>\n",
       "      <td>6.544967e+06</td>\n",
       "      <td>130899.333333</td>\n",
       "      <td>74</td>\n",
       "      <td>[{'mq_index': 15443, 'sequence': 'VFDEFKPLVEEP...</td>\n",
       "      <td>50.000000</td>\n",
       "    </tr>\n",
       "    <tr>\n",
       "      <th>5</th>\n",
       "      <td>P04040ups|CATA_HUMAN_UPS</td>\n",
       "      <td>5.0</td>\n",
       "      <td>2.169767e+05</td>\n",
       "      <td>43395.333333</td>\n",
       "      <td>7</td>\n",
       "      <td>[{'mq_index': 8854, 'sequence': 'GAGAFGYFEVTHD...</td>\n",
       "      <td>1.657584</td>\n",
       "    </tr>\n",
       "    <tr>\n",
       "      <th>6</th>\n",
       "      <td>P12081ups|SYHC_HUMAN_UPS</td>\n",
       "      <td>0.5</td>\n",
       "      <td>5.616700e+04</td>\n",
       "      <td>112334.000000</td>\n",
       "      <td>3</td>\n",
       "      <td>[{'mq_index': 5825, 'sequence': 'HGAEVIDTPVFEL...</td>\n",
       "      <td>0.429085</td>\n",
       "    </tr>\n",
       "    <tr>\n",
       "      <th>7</th>\n",
       "      <td>P15559ups|NQO1_HUMAN_UPS</td>\n",
       "      <td>5.0</td>\n",
       "      <td>1.456790e+05</td>\n",
       "      <td>29135.800000</td>\n",
       "      <td>4</td>\n",
       "      <td>[{'mq_index': 15586, 'sequence': 'LKDPANFQYPAE...</td>\n",
       "      <td>1.112909</td>\n",
       "    </tr>\n",
       "    <tr>\n",
       "      <th>8</th>\n",
       "      <td>P41159ups|LEP_HUMAN_UPS</td>\n",
       "      <td>50.0</td>\n",
       "      <td>1.225630e+06</td>\n",
       "      <td>24512.600000</td>\n",
       "      <td>14</td>\n",
       "      <td>[{'mq_index': 13196, 'sequence': 'VTGLDFIPGLHP...</td>\n",
       "      <td>9.363149</td>\n",
       "    </tr>\n",
       "    <tr>\n",
       "      <th>9</th>\n",
       "      <td>P68871ups|HBB_HUMAN_UPS</td>\n",
       "      <td>50.0</td>\n",
       "      <td>1.219700e+06</td>\n",
       "      <td>24394.000000</td>\n",
       "      <td>11</td>\n",
       "      <td>[{'mq_index': 8044, 'sequence': 'VLGAFSDGLAHLD...</td>\n",
       "      <td>9.317847</td>\n",
       "    </tr>\n",
       "    <tr>\n",
       "      <th>10</th>\n",
       "      <td>P69905ups|HBA_HUMAN_UPS</td>\n",
       "      <td>50.0</td>\n",
       "      <td>5.611300e+05</td>\n",
       "      <td>11222.600000</td>\n",
       "      <td>10</td>\n",
       "      <td>[{'mq_index': 21299, 'sequence': 'KVADALTNAVAH...</td>\n",
       "      <td>4.286729</td>\n",
       "    </tr>\n",
       "    <tr>\n",
       "      <th>11</th>\n",
       "      <td>Q06830ups|PRDX1_HUMAN_UPS</td>\n",
       "      <td>5.0</td>\n",
       "      <td>1.029850e+05</td>\n",
       "      <td>20597.000000</td>\n",
       "      <td>6</td>\n",
       "      <td>[{'mq_index': 19122, 'sequence': 'HGEVCPAGWKPG...</td>\n",
       "      <td>0.786750</td>\n",
       "    </tr>\n",
       "  </tbody>\n",
       "</table>\n",
       "</div>"
      ],
      "text/plain": [
       "                      protein  pmoles  average_intensity  \\\n",
       "0    P00915ups|CAH1_HUMAN_UPS    50.0       1.901467e+06   \n",
       "1    P00918ups|CAH2_HUMAN_UPS    50.0       1.739333e+06   \n",
       "2     P01031ups|CO5_HUMAN_UPS    50.0       5.591990e+05   \n",
       "3     P02144ups|MYG_HUMAN_UPS     5.0       1.772887e+05   \n",
       "4    P02768ups|ALBU_HUMAN_UPS    50.0       6.544967e+06   \n",
       "5    P04040ups|CATA_HUMAN_UPS     5.0       2.169767e+05   \n",
       "6    P12081ups|SYHC_HUMAN_UPS     0.5       5.616700e+04   \n",
       "7    P15559ups|NQO1_HUMAN_UPS     5.0       1.456790e+05   \n",
       "8     P41159ups|LEP_HUMAN_UPS    50.0       1.225630e+06   \n",
       "9     P68871ups|HBB_HUMAN_UPS    50.0       1.219700e+06   \n",
       "10    P69905ups|HBA_HUMAN_UPS    50.0       5.611300e+05   \n",
       "11  Q06830ups|PRDX1_HUMAN_UPS     5.0       1.029850e+05   \n",
       "\n",
       "    signal_response_factor  peptide_count  \\\n",
       "0             38029.333333             15   \n",
       "1             34786.666667             16   \n",
       "2             11183.980000              3   \n",
       "3             35457.733333              5   \n",
       "4            130899.333333             74   \n",
       "5             43395.333333              7   \n",
       "6            112334.000000              3   \n",
       "7             29135.800000              4   \n",
       "8             24512.600000             14   \n",
       "9             24394.000000             11   \n",
       "10            11222.600000             10   \n",
       "11            20597.000000              6   \n",
       "\n",
       "                                            attribs_d  calculated_pmoles  \n",
       "0   [{'mq_index': 13373, 'sequence': 'HDTSLKPISVSY...          14.526175  \n",
       "1   [{'mq_index': 16798, 'sequence': 'YDPSLKPLSVSY...          13.287564  \n",
       "2   [{'mq_index': 16942, 'sequence': 'CCYDGACVNNDE...           4.271977  \n",
       "3   [{'mq_index': 7284, 'sequence': 'VEADIPGHGQEVL...           1.354389  \n",
       "4   [{'mq_index': 15443, 'sequence': 'VFDEFKPLVEEP...          50.000000  \n",
       "5   [{'mq_index': 8854, 'sequence': 'GAGAFGYFEVTHD...           1.657584  \n",
       "6   [{'mq_index': 5825, 'sequence': 'HGAEVIDTPVFEL...           0.429085  \n",
       "7   [{'mq_index': 15586, 'sequence': 'LKDPANFQYPAE...           1.112909  \n",
       "8   [{'mq_index': 13196, 'sequence': 'VTGLDFIPGLHP...           9.363149  \n",
       "9   [{'mq_index': 8044, 'sequence': 'VLGAFSDGLAHLD...           9.317847  \n",
       "10  [{'mq_index': 21299, 'sequence': 'KVADALTNAVAH...           4.286729  \n",
       "11  [{'mq_index': 19122, 'sequence': 'HGEVCPAGWKPG...           0.786750  "
      ]
     },
     "execution_count": 21,
     "metadata": {},
     "output_type": "execute_result"
    }
   ],
   "source": [
    "mq_top3_df"
   ]
  },
  {
   "cell_type": "code",
   "execution_count": 22,
   "metadata": {},
   "outputs": [
    {
     "data": {
      "text/plain": [
       "0.889434727594015"
      ]
     },
     "execution_count": 22,
     "metadata": {},
     "output_type": "execute_result"
    }
   ],
   "source": [
    "# calculate the CV for the signal response factor\n",
    "cv = mq_top3_df.signal_response_factor.std() / mq_top3_df.signal_response_factor.mean()\n",
    "cv"
   ]
  },
  {
   "cell_type": "markdown",
   "metadata": {},
   "source": [
    "#### calculate correlation"
   ]
  },
  {
   "cell_type": "code",
   "execution_count": 23,
   "metadata": {},
   "outputs": [
    {
     "data": {
      "text/plain": [
       "0.5208846217405785"
      ]
     },
     "execution_count": 23,
     "metadata": {},
     "output_type": "execute_result"
    }
   ],
   "source": [
    "mq_top3_df['pmoles'].corr(mq_top3_df['calculated_pmoles'])"
   ]
  },
  {
   "cell_type": "code",
   "execution_count": 24,
   "metadata": {},
   "outputs": [
    {
     "data": {
      "image/png": "[encoded data removed]",
      "text/plain": [
       "<Figure size 720x720 with 1 Axes>"
      ]
     },
     "metadata": {
      "needs_background": "light"
     },
     "output_type": "display_data"
    }
   ],
   "source": [
    "f, ax = plt.subplots()\n",
    "f.set_figheight(10)\n",
    "f.set_figwidth(10)\n",
    "\n",
    "plt.margins(0.06)\n",
    "plt.title('')\n",
    "\n",
    "ax.scatter(mq_top3_df.pmoles, mq_top3_df.calculated_pmoles, marker='o', lw=0, s=30, alpha=0.6, c='green')\n",
    "\n",
    "ax.plot([0, 1], [0, 1], transform=ax.transAxes, linestyle=':', linewidth=2, color='darkorange')\n",
    "\n",
    "# plt.xlim((-1,55.0))\n",
    "# plt.ylim((-1,55.0))\n",
    "\n",
    "nearest = 5.0\n",
    "range_l = round(mq_top3_df.pmoles.min() / nearest) * nearest\n",
    "range_u = round(mq_top3_df.pmoles.max() / nearest) * nearest\n",
    "plt.xticks(np.arange(range_l,range_u+nearest,nearest))\n",
    "plt.yticks(np.arange(range_l,range_u+nearest,nearest))\n",
    "\n",
    "plt.xlabel('concentration (pmoles on column)')\n",
    "plt.ylabel('calculated concentration (pmoles)')\n",
    "\n",
    "plt.show()"
   ]
  },
  {
   "cell_type": "markdown",
   "metadata": {},
   "source": [
    "#### relative quantification"
   ]
  },
  {
   "cell_type": "code",
   "execution_count": 37,
   "metadata": {},
   "outputs": [
    {
     "name": "stdout",
     "output_type": "stream",
     "text": [
      "didn't have three peptides for P00167ups|CYB5_HUMAN_UPS\n",
      "didn't have three peptides for P00709ups|LALBA_HUMAN_UPS\n",
      "didn't have three peptides for P01133ups|EGF_HUMAN_UPS\n",
      "didn't have three peptides for P01579ups|IFNG_HUMAN_UPS\n",
      "didn't have three peptides for P06732ups|KCRM_HUMAN_UPS\n",
      "didn't have three peptides for P62937ups|PPIA_HUMAN_UPS,P62988ups|UBIQ_HUMAN_UPS,O76070ups|SYUG_HUMAN_UPS\n",
      "didn't have three peptides for P62988ups|UBIQ_HUMAN_UPS\n",
      "didn't have three peptides for P63165ups|SUMO1_HUMAN_UPS\n"
     ]
    }
   ],
   "source": [
    "# find the three most intense peptides for each protein\n",
    "top3_l = []\n",
    "for group_name,group_df in mq_identifications_df.groupby('protein id'):\n",
    "    df = group_df.sort_values(by=['intensity'], ascending=False, inplace=False)\n",
    "    top3_df = df.head(n=3)\n",
    "    if len(top3_df) == 3:\n",
    "        uniprot_id = group_name.split('ups')[0]\n",
    "        pmoles = ups2_d[uniprot_id] / 1000\n",
    "        average_intensity = top3_df.intensity.mean()\n",
    "        peptide_count = len(df)\n",
    "        attribs_d = top3_df[['mq_index','sequence','charge','intensity']].to_dict('records')\n",
    "        top3_l.append({'protein':group_name, 'average_intensity':average_intensity, 'pmoles':pmoles, 'peptide_count':peptide_count, 'attribs_d':attribs_d})\n",
    "    else:\n",
    "        print('didn\\'t have three peptides for {}'.format(group_name))\n",
    "relative_mq_top3_df = pd.DataFrame(top3_l)"
   ]
  },
  {
   "cell_type": "code",
   "execution_count": 38,
   "metadata": {},
   "outputs": [
    {
     "data": {
      "text/html": [
       "<div>\n",
       "<style scoped>\n",
       "    .dataframe tbody tr th:only-of-type {\n",
       "        vertical-align: middle;\n",
       "    }\n",
       "\n",
       "    .dataframe tbody tr th {\n",
       "        vertical-align: top;\n",
       "    }\n",
       "\n",
       "    .dataframe thead th {\n",
       "        text-align: right;\n",
       "    }\n",
       "</style>\n",
       "<table border=\"1\" class=\"dataframe\">\n",
       "  <thead>\n",
       "    <tr style=\"text-align: right;\">\n",
       "      <th></th>\n",
       "      <th>protein</th>\n",
       "      <th>average_intensity</th>\n",
       "      <th>pmoles</th>\n",
       "      <th>peptide_count</th>\n",
       "      <th>attribs_d</th>\n",
       "    </tr>\n",
       "  </thead>\n",
       "  <tbody>\n",
       "    <tr>\n",
       "      <th>0</th>\n",
       "      <td>P00915ups|CAH1_HUMAN_UPS</td>\n",
       "      <td>1.901467e+06</td>\n",
       "      <td>50.0</td>\n",
       "      <td>15</td>\n",
       "      <td>[{'mq_index': 13373, 'sequence': 'HDTSLKPISVSY...</td>\n",
       "    </tr>\n",
       "    <tr>\n",
       "      <th>1</th>\n",
       "      <td>P00918ups|CAH2_HUMAN_UPS</td>\n",
       "      <td>1.739333e+06</td>\n",
       "      <td>50.0</td>\n",
       "      <td>16</td>\n",
       "      <td>[{'mq_index': 16798, 'sequence': 'YDPSLKPLSVSY...</td>\n",
       "    </tr>\n",
       "    <tr>\n",
       "      <th>2</th>\n",
       "      <td>P01031ups|CO5_HUMAN_UPS</td>\n",
       "      <td>5.591990e+05</td>\n",
       "      <td>50.0</td>\n",
       "      <td>3</td>\n",
       "      <td>[{'mq_index': 16942, 'sequence': 'CCYDGACVNNDE...</td>\n",
       "    </tr>\n",
       "    <tr>\n",
       "      <th>3</th>\n",
       "      <td>P02144ups|MYG_HUMAN_UPS</td>\n",
       "      <td>1.772887e+05</td>\n",
       "      <td>5.0</td>\n",
       "      <td>5</td>\n",
       "      <td>[{'mq_index': 7284, 'sequence': 'VEADIPGHGQEVL...</td>\n",
       "    </tr>\n",
       "    <tr>\n",
       "      <th>4</th>\n",
       "      <td>P02768ups|ALBU_HUMAN_UPS</td>\n",
       "      <td>6.544967e+06</td>\n",
       "      <td>50.0</td>\n",
       "      <td>74</td>\n",
       "      <td>[{'mq_index': 15443, 'sequence': 'VFDEFKPLVEEP...</td>\n",
       "    </tr>\n",
       "    <tr>\n",
       "      <th>5</th>\n",
       "      <td>P04040ups|CATA_HUMAN_UPS</td>\n",
       "      <td>2.169767e+05</td>\n",
       "      <td>5.0</td>\n",
       "      <td>7</td>\n",
       "      <td>[{'mq_index': 8854, 'sequence': 'GAGAFGYFEVTHD...</td>\n",
       "    </tr>\n",
       "    <tr>\n",
       "      <th>6</th>\n",
       "      <td>P12081ups|SYHC_HUMAN_UPS</td>\n",
       "      <td>5.616700e+04</td>\n",
       "      <td>0.5</td>\n",
       "      <td>3</td>\n",
       "      <td>[{'mq_index': 5825, 'sequence': 'HGAEVIDTPVFEL...</td>\n",
       "    </tr>\n",
       "    <tr>\n",
       "      <th>7</th>\n",
       "      <td>P15559ups|NQO1_HUMAN_UPS</td>\n",
       "      <td>1.456790e+05</td>\n",
       "      <td>5.0</td>\n",
       "      <td>4</td>\n",
       "      <td>[{'mq_index': 15586, 'sequence': 'LKDPANFQYPAE...</td>\n",
       "    </tr>\n",
       "    <tr>\n",
       "      <th>8</th>\n",
       "      <td>P41159ups|LEP_HUMAN_UPS</td>\n",
       "      <td>1.225630e+06</td>\n",
       "      <td>50.0</td>\n",
       "      <td>14</td>\n",
       "      <td>[{'mq_index': 13196, 'sequence': 'VTGLDFIPGLHP...</td>\n",
       "    </tr>\n",
       "    <tr>\n",
       "      <th>9</th>\n",
       "      <td>P68871ups|HBB_HUMAN_UPS</td>\n",
       "      <td>1.219700e+06</td>\n",
       "      <td>50.0</td>\n",
       "      <td>11</td>\n",
       "      <td>[{'mq_index': 8044, 'sequence': 'VLGAFSDGLAHLD...</td>\n",
       "    </tr>\n",
       "    <tr>\n",
       "      <th>10</th>\n",
       "      <td>P69905ups|HBA_HUMAN_UPS</td>\n",
       "      <td>5.611300e+05</td>\n",
       "      <td>50.0</td>\n",
       "      <td>10</td>\n",
       "      <td>[{'mq_index': 21299, 'sequence': 'KVADALTNAVAH...</td>\n",
       "    </tr>\n",
       "    <tr>\n",
       "      <th>11</th>\n",
       "      <td>Q06830ups|PRDX1_HUMAN_UPS</td>\n",
       "      <td>1.029850e+05</td>\n",
       "      <td>5.0</td>\n",
       "      <td>6</td>\n",
       "      <td>[{'mq_index': 19122, 'sequence': 'HGEVCPAGWKPG...</td>\n",
       "    </tr>\n",
       "  </tbody>\n",
       "</table>\n",
       "</div>"
      ],
      "text/plain": [
       "                      protein  average_intensity  pmoles  peptide_count  \\\n",
       "0    P00915ups|CAH1_HUMAN_UPS       1.901467e+06    50.0             15   \n",
       "1    P00918ups|CAH2_HUMAN_UPS       1.739333e+06    50.0             16   \n",
       "2     P01031ups|CO5_HUMAN_UPS       5.591990e+05    50.0              3   \n",
       "3     P02144ups|MYG_HUMAN_UPS       1.772887e+05     5.0              5   \n",
       "4    P02768ups|ALBU_HUMAN_UPS       6.544967e+06    50.0             74   \n",
       "5    P04040ups|CATA_HUMAN_UPS       2.169767e+05     5.0              7   \n",
       "6    P12081ups|SYHC_HUMAN_UPS       5.616700e+04     0.5              3   \n",
       "7    P15559ups|NQO1_HUMAN_UPS       1.456790e+05     5.0              4   \n",
       "8     P41159ups|LEP_HUMAN_UPS       1.225630e+06    50.0             14   \n",
       "9     P68871ups|HBB_HUMAN_UPS       1.219700e+06    50.0             11   \n",
       "10    P69905ups|HBA_HUMAN_UPS       5.611300e+05    50.0             10   \n",
       "11  Q06830ups|PRDX1_HUMAN_UPS       1.029850e+05     5.0              6   \n",
       "\n",
       "                                            attribs_d  \n",
       "0   [{'mq_index': 13373, 'sequence': 'HDTSLKPISVSY...  \n",
       "1   [{'mq_index': 16798, 'sequence': 'YDPSLKPLSVSY...  \n",
       "2   [{'mq_index': 16942, 'sequence': 'CCYDGACVNNDE...  \n",
       "3   [{'mq_index': 7284, 'sequence': 'VEADIPGHGQEVL...  \n",
       "4   [{'mq_index': 15443, 'sequence': 'VFDEFKPLVEEP...  \n",
       "5   [{'mq_index': 8854, 'sequence': 'GAGAFGYFEVTHD...  \n",
       "6   [{'mq_index': 5825, 'sequence': 'HGAEVIDTPVFEL...  \n",
       "7   [{'mq_index': 15586, 'sequence': 'LKDPANFQYPAE...  \n",
       "8   [{'mq_index': 13196, 'sequence': 'VTGLDFIPGLHP...  \n",
       "9   [{'mq_index': 8044, 'sequence': 'VLGAFSDGLAHLD...  \n",
       "10  [{'mq_index': 21299, 'sequence': 'KVADALTNAVAH...  \n",
       "11  [{'mq_index': 19122, 'sequence': 'HGEVCPAGWKPG...  "
      ]
     },
     "execution_count": 38,
     "metadata": {},
     "output_type": "execute_result"
    }
   ],
   "source": [
    "relative_mq_top3_df"
   ]
  },
  {
   "cell_type": "code",
   "execution_count": 36,
   "metadata": {},
   "outputs": [
    {
     "data": {
      "text/plain": [
       "6544966.666666667"
      ]
     },
     "execution_count": 36,
     "metadata": {},
     "output_type": "execute_result"
    }
   ],
   "source": [
    "reference_intensity = relative_mq_top3_df[relative_mq_top3_df.protein.str.startswith('P02768')].iloc[0].average_intensity\n",
    "reference_intensity"
   ]
  },
  {
   "cell_type": "code",
   "execution_count": 42,
   "metadata": {},
   "outputs": [
    {
     "data": {
      "text/plain": [
       "50.0"
      ]
     },
     "execution_count": 42,
     "metadata": {},
     "output_type": "execute_result"
    }
   ],
   "source": [
    "reference_pmoles = relative_mq_top3_df[relative_mq_top3_df.protein.str.startswith('P02768')].iloc[0].pmoles\n",
    "reference_pmoles"
   ]
  },
  {
   "cell_type": "code",
   "execution_count": 43,
   "metadata": {},
   "outputs": [],
   "source": [
    "relative_mq_top3_df['intensity_factor'] = relative_mq_top3_df.average_intensity / reference_intensity\n",
    "relative_mq_top3_df['expected_intensity_factor'] = relative_mq_top3_df.pmoles / reference_pmoles"
   ]
  },
  {
   "cell_type": "code",
   "execution_count": 44,
   "metadata": {},
   "outputs": [
    {
     "data": {
      "text/html": [
       "<div>\n",
       "<style scoped>\n",
       "    .dataframe tbody tr th:only-of-type {\n",
       "        vertical-align: middle;\n",
       "    }\n",
       "\n",
       "    .dataframe tbody tr th {\n",
       "        vertical-align: top;\n",
       "    }\n",
       "\n",
       "    .dataframe thead th {\n",
       "        text-align: right;\n",
       "    }\n",
       "</style>\n",
       "<table border=\"1\" class=\"dataframe\">\n",
       "  <thead>\n",
       "    <tr style=\"text-align: right;\">\n",
       "      <th></th>\n",
       "      <th>protein</th>\n",
       "      <th>average_intensity</th>\n",
       "      <th>pmoles</th>\n",
       "      <th>peptide_count</th>\n",
       "      <th>attribs_d</th>\n",
       "      <th>intensity_factor</th>\n",
       "      <th>expected_intensity_factor</th>\n",
       "    </tr>\n",
       "  </thead>\n",
       "  <tbody>\n",
       "    <tr>\n",
       "      <th>0</th>\n",
       "      <td>P00915ups|CAH1_HUMAN_UPS</td>\n",
       "      <td>1.901467e+06</td>\n",
       "      <td>50.0</td>\n",
       "      <td>15</td>\n",
       "      <td>[{'mq_index': 13373, 'sequence': 'HDTSLKPISVSY...</td>\n",
       "      <td>0.290524</td>\n",
       "      <td>1.00</td>\n",
       "    </tr>\n",
       "    <tr>\n",
       "      <th>1</th>\n",
       "      <td>P00918ups|CAH2_HUMAN_UPS</td>\n",
       "      <td>1.739333e+06</td>\n",
       "      <td>50.0</td>\n",
       "      <td>16</td>\n",
       "      <td>[{'mq_index': 16798, 'sequence': 'YDPSLKPLSVSY...</td>\n",
       "      <td>0.265751</td>\n",
       "      <td>1.00</td>\n",
       "    </tr>\n",
       "    <tr>\n",
       "      <th>2</th>\n",
       "      <td>P01031ups|CO5_HUMAN_UPS</td>\n",
       "      <td>5.591990e+05</td>\n",
       "      <td>50.0</td>\n",
       "      <td>3</td>\n",
       "      <td>[{'mq_index': 16942, 'sequence': 'CCYDGACVNNDE...</td>\n",
       "      <td>0.085440</td>\n",
       "      <td>1.00</td>\n",
       "    </tr>\n",
       "    <tr>\n",
       "      <th>3</th>\n",
       "      <td>P02144ups|MYG_HUMAN_UPS</td>\n",
       "      <td>1.772887e+05</td>\n",
       "      <td>5.0</td>\n",
       "      <td>5</td>\n",
       "      <td>[{'mq_index': 7284, 'sequence': 'VEADIPGHGQEVL...</td>\n",
       "      <td>0.027088</td>\n",
       "      <td>0.10</td>\n",
       "    </tr>\n",
       "    <tr>\n",
       "      <th>4</th>\n",
       "      <td>P02768ups|ALBU_HUMAN_UPS</td>\n",
       "      <td>6.544967e+06</td>\n",
       "      <td>50.0</td>\n",
       "      <td>74</td>\n",
       "      <td>[{'mq_index': 15443, 'sequence': 'VFDEFKPLVEEP...</td>\n",
       "      <td>1.000000</td>\n",
       "      <td>1.00</td>\n",
       "    </tr>\n",
       "    <tr>\n",
       "      <th>5</th>\n",
       "      <td>P04040ups|CATA_HUMAN_UPS</td>\n",
       "      <td>2.169767e+05</td>\n",
       "      <td>5.0</td>\n",
       "      <td>7</td>\n",
       "      <td>[{'mq_index': 8854, 'sequence': 'GAGAFGYFEVTHD...</td>\n",
       "      <td>0.033152</td>\n",
       "      <td>0.10</td>\n",
       "    </tr>\n",
       "    <tr>\n",
       "      <th>6</th>\n",
       "      <td>P12081ups|SYHC_HUMAN_UPS</td>\n",
       "      <td>5.616700e+04</td>\n",
       "      <td>0.5</td>\n",
       "      <td>3</td>\n",
       "      <td>[{'mq_index': 5825, 'sequence': 'HGAEVIDTPVFEL...</td>\n",
       "      <td>0.008582</td>\n",
       "      <td>0.01</td>\n",
       "    </tr>\n",
       "    <tr>\n",
       "      <th>7</th>\n",
       "      <td>P15559ups|NQO1_HUMAN_UPS</td>\n",
       "      <td>1.456790e+05</td>\n",
       "      <td>5.0</td>\n",
       "      <td>4</td>\n",
       "      <td>[{'mq_index': 15586, 'sequence': 'LKDPANFQYPAE...</td>\n",
       "      <td>0.022258</td>\n",
       "      <td>0.10</td>\n",
       "    </tr>\n",
       "    <tr>\n",
       "      <th>8</th>\n",
       "      <td>P41159ups|LEP_HUMAN_UPS</td>\n",
       "      <td>1.225630e+06</td>\n",
       "      <td>50.0</td>\n",
       "      <td>14</td>\n",
       "      <td>[{'mq_index': 13196, 'sequence': 'VTGLDFIPGLHP...</td>\n",
       "      <td>0.187263</td>\n",
       "      <td>1.00</td>\n",
       "    </tr>\n",
       "    <tr>\n",
       "      <th>9</th>\n",
       "      <td>P68871ups|HBB_HUMAN_UPS</td>\n",
       "      <td>1.219700e+06</td>\n",
       "      <td>50.0</td>\n",
       "      <td>11</td>\n",
       "      <td>[{'mq_index': 8044, 'sequence': 'VLGAFSDGLAHLD...</td>\n",
       "      <td>0.186357</td>\n",
       "      <td>1.00</td>\n",
       "    </tr>\n",
       "    <tr>\n",
       "      <th>10</th>\n",
       "      <td>P69905ups|HBA_HUMAN_UPS</td>\n",
       "      <td>5.611300e+05</td>\n",
       "      <td>50.0</td>\n",
       "      <td>10</td>\n",
       "      <td>[{'mq_index': 21299, 'sequence': 'KVADALTNAVAH...</td>\n",
       "      <td>0.085735</td>\n",
       "      <td>1.00</td>\n",
       "    </tr>\n",
       "    <tr>\n",
       "      <th>11</th>\n",
       "      <td>Q06830ups|PRDX1_HUMAN_UPS</td>\n",
       "      <td>1.029850e+05</td>\n",
       "      <td>5.0</td>\n",
       "      <td>6</td>\n",
       "      <td>[{'mq_index': 19122, 'sequence': 'HGEVCPAGWKPG...</td>\n",
       "      <td>0.015735</td>\n",
       "      <td>0.10</td>\n",
       "    </tr>\n",
       "  </tbody>\n",
       "</table>\n",
       "</div>"
      ],
      "text/plain": [
       "                      protein  average_intensity  pmoles  peptide_count  \\\n",
       "0    P00915ups|CAH1_HUMAN_UPS       1.901467e+06    50.0             15   \n",
       "1    P00918ups|CAH2_HUMAN_UPS       1.739333e+06    50.0             16   \n",
       "2     P01031ups|CO5_HUMAN_UPS       5.591990e+05    50.0              3   \n",
       "3     P02144ups|MYG_HUMAN_UPS       1.772887e+05     5.0              5   \n",
       "4    P02768ups|ALBU_HUMAN_UPS       6.544967e+06    50.0             74   \n",
       "5    P04040ups|CATA_HUMAN_UPS       2.169767e+05     5.0              7   \n",
       "6    P12081ups|SYHC_HUMAN_UPS       5.616700e+04     0.5              3   \n",
       "7    P15559ups|NQO1_HUMAN_UPS       1.456790e+05     5.0              4   \n",
       "8     P41159ups|LEP_HUMAN_UPS       1.225630e+06    50.0             14   \n",
       "9     P68871ups|HBB_HUMAN_UPS       1.219700e+06    50.0             11   \n",
       "10    P69905ups|HBA_HUMAN_UPS       5.611300e+05    50.0             10   \n",
       "11  Q06830ups|PRDX1_HUMAN_UPS       1.029850e+05     5.0              6   \n",
       "\n",
       "                                            attribs_d  intensity_factor  \\\n",
       "0   [{'mq_index': 13373, 'sequence': 'HDTSLKPISVSY...          0.290524   \n",
       "1   [{'mq_index': 16798, 'sequence': 'YDPSLKPLSVSY...          0.265751   \n",
       "2   [{'mq_index': 16942, 'sequence': 'CCYDGACVNNDE...          0.085440   \n",
       "3   [{'mq_index': 7284, 'sequence': 'VEADIPGHGQEVL...          0.027088   \n",
       "4   [{'mq_index': 15443, 'sequence': 'VFDEFKPLVEEP...          1.000000   \n",
       "5   [{'mq_index': 8854, 'sequence': 'GAGAFGYFEVTHD...          0.033152   \n",
       "6   [{'mq_index': 5825, 'sequence': 'HGAEVIDTPVFEL...          0.008582   \n",
       "7   [{'mq_index': 15586, 'sequence': 'LKDPANFQYPAE...          0.022258   \n",
       "8   [{'mq_index': 13196, 'sequence': 'VTGLDFIPGLHP...          0.187263   \n",
       "9   [{'mq_index': 8044, 'sequence': 'VLGAFSDGLAHLD...          0.186357   \n",
       "10  [{'mq_index': 21299, 'sequence': 'KVADALTNAVAH...          0.085735   \n",
       "11  [{'mq_index': 19122, 'sequence': 'HGEVCPAGWKPG...          0.015735   \n",
       "\n",
       "    expected_intensity_factor  \n",
       "0                        1.00  \n",
       "1                        1.00  \n",
       "2                        1.00  \n",
       "3                        0.10  \n",
       "4                        1.00  \n",
       "5                        0.10  \n",
       "6                        0.01  \n",
       "7                        0.10  \n",
       "8                        1.00  \n",
       "9                        1.00  \n",
       "10                       1.00  \n",
       "11                       0.10  "
      ]
     },
     "execution_count": 44,
     "metadata": {},
     "output_type": "execute_result"
    }
   ],
   "source": [
    "relative_mq_top3_df"
   ]
  },
  {
   "cell_type": "code",
   "execution_count": 46,
   "metadata": {},
   "outputs": [
    {
     "data": {
      "image/png": "[encoded data removed]",
      "text/plain": [
       "<Figure size 720x720 with 1 Axes>"
      ]
     },
     "metadata": {
      "needs_background": "light"
     },
     "output_type": "display_data"
    }
   ],
   "source": [
    "f, ax = plt.subplots()\n",
    "f.set_figheight(10)\n",
    "f.set_figwidth(10)\n",
    "\n",
    "plt.margins(0.06)\n",
    "plt.title('')\n",
    "\n",
    "ax.scatter(relative_mq_top3_df.expected_intensity_factor, relative_mq_top3_df.intensity_factor, marker='o', lw=0, s=30, alpha=0.6, c='green')\n",
    "\n",
    "ax.plot([0, 1], [0, 1], transform=ax.transAxes, linestyle=':', linewidth=2, color='darkorange')\n",
    "\n",
    "# plt.xlim((-1,55.0))\n",
    "# plt.ylim((-1,55.0))\n",
    "\n",
    "nearest = 0.1\n",
    "range_l = round(relative_mq_top3_df.expected_intensity_factor.min() / nearest) * nearest\n",
    "range_u = round(relative_mq_top3_df.expected_intensity_factor.max() / nearest) * nearest\n",
    "plt.xticks(np.arange(range_l,range_u+nearest,nearest))\n",
    "plt.yticks(np.arange(range_l,range_u+nearest,nearest))\n",
    "\n",
    "plt.xlabel('actual concentration relative to reference')\n",
    "plt.ylabel('observed concentration relative to reference')\n",
    "\n",
    "plt.show()"
   ]
  },
  {
   "cell_type": "markdown",
   "metadata": {},
   "source": [
    "#### how many proteins does MaxQuant find with Andromeda"
   ]
  },
  {
   "cell_type": "code",
   "execution_count": 25,
   "metadata": {},
   "outputs": [],
   "source": [
    "MQ_ANALYSIS_DIR = '{}/MQ-analysis-of-P3830/combined/txt'.format(expanduser('~'))"
   ]
  },
  {
   "cell_type": "code",
   "execution_count": 26,
   "metadata": {},
   "outputs": [],
   "source": [
    "mq_results_df = pd.read_csv('{}/evidence.txt'.format(MQ_ANALYSIS_DIR), sep='\\\\t', engine='python')"
   ]
  },
  {
   "cell_type": "code",
   "execution_count": 27,
   "metadata": {},
   "outputs": [
    {
     "data": {
      "text/plain": [
       "Index(['Sequence', 'Length', 'Modifications', 'Modified sequence',\n",
       "       'Oxidation (M) Probabilities', 'Oxidation (M) Score Diffs',\n",
       "       'Acetyl (Protein N-term)', 'Oxidation (M)', 'Missed cleavages',\n",
       "       'Proteins', 'Leading proteins', 'Leading razor protein', 'Type',\n",
       "       'Raw file', 'MS/MS m/z', 'Charge', 'm/z', 'Mass',\n",
       "       'Uncalibrated - Calibrated m/z [ppm]',\n",
       "       'Uncalibrated - Calibrated m/z [Da]', 'Mass error [ppm]',\n",
       "       'Mass error [Da]', 'Uncalibrated mass error [ppm]',\n",
       "       'Uncalibrated mass error [Da]', 'Max intensity m/z 0', 'Retention time',\n",
       "       'Retention length', 'Calibrated retention time',\n",
       "       'Calibrated retention time start', 'Calibrated retention time finish',\n",
       "       'Retention time calibration', 'Ion mobility index',\n",
       "       'Ion mobility length', '1/K0', '1/K0 length', 'Calibrated 1/K0', 'CCS',\n",
       "       'Calibrated CCS', 'CCS length', 'Match time difference',\n",
       "       'Match m/z difference', 'Match K0 difference', 'Match q-value',\n",
       "       'Match score', 'Number of data points', 'Number of scans',\n",
       "       'Number of isotopic peaks', 'PIF', 'Fraction of total spectrum',\n",
       "       'Base peak fraction', 'PEP', 'MS/MS count', 'MS/MS scan number',\n",
       "       'Score', 'Delta score', 'Combinatorics', 'Intensity', 'Reverse',\n",
       "       'Potential contaminant', 'id', 'Protein group IDs', 'Peptide ID',\n",
       "       'Mod. peptide ID', 'MS/MS IDs', 'Best MS/MS', 'Oxidation (M) site IDs',\n",
       "       'Taxonomy IDs'],\n",
       "      dtype='object')"
      ]
     },
     "execution_count": 27,
     "metadata": {},
     "output_type": "execute_result"
    }
   ],
   "source": [
    "mq_results_df.columns"
   ]
  },
  {
   "cell_type": "code",
   "execution_count": 28,
   "metadata": {},
   "outputs": [],
   "source": [
    "# remove decoys, which are indicated by a '+' in the Reverse column\n",
    "mq_results_df = mq_results_df[pd.isna(mq_results_df.Reverse)]\n",
    "# remove identifications with no intensity\n",
    "mq_results_df = mq_results_df[(mq_results_df.Intensity > 0)]\n",
    "# remove potential contaminants\n",
    "mq_results_df = mq_results_df[pd.isna(mq_results_df['Potential contaminant'])]\n",
    "# remove identifications with mass error more than +/- 5 ppm\n",
    "mq_results_df = mq_results_df[np.abs(mq_results_df['Mass error [ppm]']) <= 5.0]\n",
    "# remove yeast proteins\n",
    "mq_results_df = mq_results_df[(~mq_results_df['Proteins'].str.contains('YEAST'))]\n"
   ]
  },
  {
   "cell_type": "code",
   "execution_count": 29,
   "metadata": {},
   "outputs": [
    {
     "data": {
      "text/html": [
       "<div>\n",
       "<style scoped>\n",
       "    .dataframe tbody tr th:only-of-type {\n",
       "        vertical-align: middle;\n",
       "    }\n",
       "\n",
       "    .dataframe tbody tr th {\n",
       "        vertical-align: top;\n",
       "    }\n",
       "\n",
       "    .dataframe thead th {\n",
       "        text-align: right;\n",
       "    }\n",
       "</style>\n",
       "<table border=\"1\" class=\"dataframe\">\n",
       "  <thead>\n",
       "    <tr style=\"text-align: right;\">\n",
       "      <th></th>\n",
       "      <th>Proteins</th>\n",
       "      <th>Leading proteins</th>\n",
       "    </tr>\n",
       "  </thead>\n",
       "  <tbody>\n",
       "    <tr>\n",
       "      <th>35110</th>\n",
       "      <td>sp|O76070|SYUG_HUMAN</td>\n",
       "      <td>sp|O76070|SYUG_HUMAN</td>\n",
       "    </tr>\n",
       "    <tr>\n",
       "      <th>97488</th>\n",
       "      <td>sp|P00918|CAH2_HUMAN</td>\n",
       "      <td>sp|P00918|CAH2_HUMAN</td>\n",
       "    </tr>\n",
       "    <tr>\n",
       "      <th>174778</th>\n",
       "      <td>sp|P41159|LEP_HUMAN</td>\n",
       "      <td>sp|P41159|LEP_HUMAN</td>\n",
       "    </tr>\n",
       "    <tr>\n",
       "      <th>52564</th>\n",
       "      <td>sp|P08758|ANXA5_HUMAN</td>\n",
       "      <td>sp|P08758|ANXA5_HUMAN</td>\n",
       "    </tr>\n",
       "    <tr>\n",
       "      <th>61467</th>\n",
       "      <td>sp|P02144|MYG_HUMAN</td>\n",
       "      <td>sp|P02144|MYG_HUMAN</td>\n",
       "    </tr>\n",
       "    <tr>\n",
       "      <th>35708</th>\n",
       "      <td>sp|P01008|ANT3_HUMAN</td>\n",
       "      <td>sp|P01008|ANT3_HUMAN</td>\n",
       "    </tr>\n",
       "    <tr>\n",
       "      <th>15372</th>\n",
       "      <td>sp|P02787|TRFE_HUMAN</td>\n",
       "      <td>sp|P02787|TRFE_HUMAN</td>\n",
       "    </tr>\n",
       "    <tr>\n",
       "      <th>152504</th>\n",
       "      <td>sp|Q6ZMV9|KIF6_HUMAN</td>\n",
       "      <td>sp|Q6ZMV9|KIF6_HUMAN</td>\n",
       "    </tr>\n",
       "    <tr>\n",
       "      <th>93937</th>\n",
       "      <td>sp|P68871|HBB_HUMAN;CON__Q3SX09;sp|P02042|HBD_...</td>\n",
       "      <td>sp|P68871|HBB_HUMAN;sp|P02042|HBD_HUMAN</td>\n",
       "    </tr>\n",
       "    <tr>\n",
       "      <th>88551</th>\n",
       "      <td>sp|P02787|TRFE_HUMAN</td>\n",
       "      <td>sp|P02787|TRFE_HUMAN</td>\n",
       "    </tr>\n",
       "  </tbody>\n",
       "</table>\n",
       "</div>"
      ],
      "text/plain": [
       "                                                 Proteins  \\\n",
       "35110                                sp|O76070|SYUG_HUMAN   \n",
       "97488                                sp|P00918|CAH2_HUMAN   \n",
       "174778                                sp|P41159|LEP_HUMAN   \n",
       "52564                               sp|P08758|ANXA5_HUMAN   \n",
       "61467                                 sp|P02144|MYG_HUMAN   \n",
       "35708                                sp|P01008|ANT3_HUMAN   \n",
       "15372                                sp|P02787|TRFE_HUMAN   \n",
       "152504                               sp|Q6ZMV9|KIF6_HUMAN   \n",
       "93937   sp|P68871|HBB_HUMAN;CON__Q3SX09;sp|P02042|HBD_...   \n",
       "88551                                sp|P02787|TRFE_HUMAN   \n",
       "\n",
       "                               Leading proteins  \n",
       "35110                      sp|O76070|SYUG_HUMAN  \n",
       "97488                      sp|P00918|CAH2_HUMAN  \n",
       "174778                      sp|P41159|LEP_HUMAN  \n",
       "52564                     sp|P08758|ANXA5_HUMAN  \n",
       "61467                       sp|P02144|MYG_HUMAN  \n",
       "35708                      sp|P01008|ANT3_HUMAN  \n",
       "15372                      sp|P02787|TRFE_HUMAN  \n",
       "152504                     sp|Q6ZMV9|KIF6_HUMAN  \n",
       "93937   sp|P68871|HBB_HUMAN;sp|P02042|HBD_HUMAN  \n",
       "88551                      sp|P02787|TRFE_HUMAN  "
      ]
     },
     "execution_count": 29,
     "metadata": {},
     "output_type": "execute_result"
    }
   ],
   "source": [
    "mq_results_df.sample(n=10)[['Proteins','Leading proteins']]"
   ]
  },
  {
   "cell_type": "code",
   "execution_count": 30,
   "metadata": {},
   "outputs": [],
   "source": [
    "# definition of uniqueness in MaxQuant output with MBR on\n",
    "proteins_l = []\n",
    "unique_peptide_key = ['Sequence','Modifications','Charge']\n",
    "for group_name,group_df in mq_results_df.groupby(unique_peptide_key):\n",
    "    protein = group_df.iloc[0]['Leading proteins']\n",
    "    if len(group_df['Leading proteins'].unique()) > 1:\n",
    "        print('more than one protein')\n",
    "    proteins_l.append({'peptide':group_name, 'protein':protein})\n",
    "mq_proteins_df = pd.DataFrame(proteins_l)"
   ]
  },
  {
   "cell_type": "code",
   "execution_count": 31,
   "metadata": {},
   "outputs": [
    {
     "name": "stdout",
     "output_type": "stream",
     "text": [
      "number of unique proteins: 85\n"
     ]
    }
   ],
   "source": [
    "print('number of unique proteins: {}'.format(len(mq_proteins_df.protein.unique())))"
   ]
  },
  {
   "cell_type": "code",
   "execution_count": null,
   "metadata": {},
   "outputs": [],
   "source": []
  }
 ],
 "metadata": {
  "kernelspec": {
   "display_name": "Python 3",
   "language": "python",
   "name": "python3"
  },
  "language_info": {
   "codemirror_mode": {
    "name": "ipython",
    "version": 3
   },
   "file_extension": ".py",
   "mimetype": "text/x-python",
   "name": "python",
   "nbconvert_exporter": "python",
   "pygments_lexer": "ipython3",
   "version": "3.8.5"
  }
 },
 "nbformat": 4,
 "nbformat_minor": 4
}
