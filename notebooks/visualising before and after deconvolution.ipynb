{
 "cells": [
  {
   "cell_type": "code",
   "execution_count": 1,
   "metadata": {},
   "outputs": [],
   "source": [
    "import sys\n",
    "import sqlite3\n",
    "import pandas as pd\n",
    "import matplotlib.pyplot as plt\n",
    "import numpy as np"
   ]
  },
  {
   "cell_type": "code",
   "execution_count": 25,
   "metadata": {},
   "outputs": [],
   "source": [
    "feature_id = 49976"
   ]
  },
  {
   "cell_type": "code",
   "execution_count": 26,
   "metadata": {},
   "outputs": [],
   "source": [
    "db_name = '/Users/darylwilding-mcbride/Downloads/HeLa_20KInt-features-{}-{}.sqlite'.format(feature_id, feature_id)"
   ]
  },
  {
   "cell_type": "code",
   "execution_count": 27,
   "metadata": {},
   "outputs": [],
   "source": [
    "# get all the feature matches with isolation windows\n",
    "db_conn = sqlite3.connect(db_name)\n",
    "feature_df = pd.read_sql_query(\"select * from feature_list where feature_id={}\".format(feature_id), db_conn)\n",
    "db_conn.close()"
   ]
  },
  {
   "cell_type": "code",
   "execution_count": 28,
   "metadata": {},
   "outputs": [
    {
     "data": {
      "text/html": [
       "<div>\n",
       "<style scoped>\n",
       "    .dataframe tbody tr th:only-of-type {\n",
       "        vertical-align: middle;\n",
       "    }\n",
       "\n",
       "    .dataframe tbody tr th {\n",
       "        vertical-align: top;\n",
       "    }\n",
       "\n",
       "    .dataframe thead th {\n",
       "        text-align: right;\n",
       "    }\n",
       "</style>\n",
       "<table border=\"1\" class=\"dataframe\">\n",
       "  <thead>\n",
       "    <tr style=\"text-align: right;\">\n",
       "      <th></th>\n",
       "      <th>feature_id</th>\n",
       "      <th>charge_state</th>\n",
       "      <th>monoisotopic_mass</th>\n",
       "      <th>feature_centroid_scan</th>\n",
       "      <th>feature_centroid_rt</th>\n",
       "      <th>feature_centroid_mz</th>\n",
       "      <th>feature_start_rt</th>\n",
       "      <th>feature_end_rt</th>\n",
       "      <th>feature_scan_lower</th>\n",
       "      <th>feature_scan_upper</th>\n",
       "      <th>...</th>\n",
       "      <th>base_peak_scan_lower</th>\n",
       "      <th>base_peak_scan_upper</th>\n",
       "      <th>base_peak_centroid_rt</th>\n",
       "      <th>base_peak_std_dev_rt</th>\n",
       "      <th>base_peak_rt_lower</th>\n",
       "      <th>base_peak_rt_upper</th>\n",
       "      <th>base_peak_centroid_mz</th>\n",
       "      <th>base_peak_std_dev_mz</th>\n",
       "      <th>base_peak_mz_lower</th>\n",
       "      <th>base_peak_mz_upper</th>\n",
       "    </tr>\n",
       "  </thead>\n",
       "  <tbody>\n",
       "    <tr>\n",
       "      <th>0</th>\n",
       "      <td>49976</td>\n",
       "      <td>2</td>\n",
       "      <td>1594.765114</td>\n",
       "      <td>430.90812</td>\n",
       "      <td>4644.524956</td>\n",
       "      <td>798.55048</td>\n",
       "      <td>4636.837312</td>\n",
       "      <td>4649.818144</td>\n",
       "      <td>424</td>\n",
       "      <td>438</td>\n",
       "      <td>...</td>\n",
       "      <td>424</td>\n",
       "      <td>438</td>\n",
       "      <td>4644.383682</td>\n",
       "      <td>1.896529</td>\n",
       "      <td>4636.837312</td>\n",
       "      <td>4649.818144</td>\n",
       "      <td>798.390185</td>\n",
       "      <td>0.005877</td>\n",
       "      <td>798.351898</td>\n",
       "      <td>798.418728</td>\n",
       "    </tr>\n",
       "  </tbody>\n",
       "</table>\n",
       "<p>1 rows × 38 columns</p>\n",
       "</div>"
      ],
      "text/plain": [
       "   feature_id  charge_state  monoisotopic_mass  feature_centroid_scan  \\\n",
       "0       49976             2        1594.765114              430.90812   \n",
       "\n",
       "   feature_centroid_rt  feature_centroid_mz  feature_start_rt  feature_end_rt  \\\n",
       "0          4644.524956            798.55048       4636.837312     4649.818144   \n",
       "\n",
       "   feature_scan_lower  feature_scan_upper         ...          \\\n",
       "0                 424                 438         ...           \n",
       "\n",
       "   base_peak_scan_lower  base_peak_scan_upper  base_peak_centroid_rt  \\\n",
       "0                   424                   438            4644.383682   \n",
       "\n",
       "   base_peak_std_dev_rt  base_peak_rt_lower  base_peak_rt_upper  \\\n",
       "0              1.896529         4636.837312         4649.818144   \n",
       "\n",
       "   base_peak_centroid_mz  base_peak_std_dev_mz  base_peak_mz_lower  \\\n",
       "0             798.390185              0.005877          798.351898   \n",
       "\n",
       "   base_peak_mz_upper  \n",
       "0          798.418728  \n",
       "\n",
       "[1 rows x 38 columns]"
      ]
     },
     "execution_count": 28,
     "metadata": {},
     "output_type": "execute_result"
    }
   ],
   "source": [
    "feature_df"
   ]
  },
  {
   "cell_type": "code",
   "execution_count": 29,
   "metadata": {},
   "outputs": [],
   "source": [
    "feature_charge_state = int(feature_df.charge_state)"
   ]
  },
  {
   "cell_type": "code",
   "execution_count": 30,
   "metadata": {},
   "outputs": [],
   "source": [
    "# get all the feature matches with isolation windows\n",
    "db_conn = sqlite3.connect(db_name)\n",
    "feature_isolation_matches_df = pd.read_sql_query(\"select distinct(precursor_id) from feature_isolation_matches where feature_id={}\".format(feature_id), db_conn)\n",
    "db_conn.close()"
   ]
  },
  {
   "cell_type": "code",
   "execution_count": 31,
   "metadata": {},
   "outputs": [
    {
     "data": {
      "text/html": [
       "<div>\n",
       "<style scoped>\n",
       "    .dataframe tbody tr th:only-of-type {\n",
       "        vertical-align: middle;\n",
       "    }\n",
       "\n",
       "    .dataframe tbody tr th {\n",
       "        vertical-align: top;\n",
       "    }\n",
       "\n",
       "    .dataframe thead th {\n",
       "        text-align: right;\n",
       "    }\n",
       "</style>\n",
       "<table border=\"1\" class=\"dataframe\">\n",
       "  <thead>\n",
       "    <tr style=\"text-align: right;\">\n",
       "      <th></th>\n",
       "      <th>precursor_id</th>\n",
       "    </tr>\n",
       "  </thead>\n",
       "  <tbody>\n",
       "    <tr>\n",
       "      <th>0</th>\n",
       "      <td>162842</td>\n",
       "    </tr>\n",
       "    <tr>\n",
       "      <th>1</th>\n",
       "      <td>163039</td>\n",
       "    </tr>\n",
       "    <tr>\n",
       "      <th>2</th>\n",
       "      <td>163093</td>\n",
       "    </tr>\n",
       "    <tr>\n",
       "      <th>3</th>\n",
       "      <td>163151</td>\n",
       "    </tr>\n",
       "  </tbody>\n",
       "</table>\n",
       "</div>"
      ],
      "text/plain": [
       "   precursor_id\n",
       "0        162842\n",
       "1        163039\n",
       "2        163093\n",
       "3        163151"
      ]
     },
     "execution_count": 31,
     "metadata": {},
     "output_type": "execute_result"
    }
   ],
   "source": [
    "feature_isolation_matches_df"
   ]
  },
  {
   "cell_type": "code",
   "execution_count": 32,
   "metadata": {},
   "outputs": [],
   "source": [
    "precursor_id = 163093"
   ]
  },
  {
   "cell_type": "code",
   "execution_count": 33,
   "metadata": {},
   "outputs": [],
   "source": [
    "# get all the ms2 peaks for this feature\n",
    "db_conn = sqlite3.connect(db_name)\n",
    "ms2_peaks_df = pd.read_sql_query(\"select * from ms2_peaks where feature_id={} and precursor={} order by peak_id ASC\".format(feature_id, precursor_id), db_conn)\n",
    "db_conn.close()"
   ]
  },
  {
   "cell_type": "code",
   "execution_count": 34,
   "metadata": {},
   "outputs": [
    {
     "data": {
      "image/png": "[encoded data removed]",
      "text/plain": [
       "<Figure size 1080x360 with 1 Axes>"
      ]
     },
     "metadata": {},
     "output_type": "display_data"
    }
   ],
   "source": [
    "fig, ax = plt.subplots()\n",
    "fig.set_figheight(5)\n",
    "fig.set_figwidth(15)\n",
    "colors = ['tab:blue', 'tab:orange', 'tab:green', 'tab:red', 'tab:purple', 'tab:brown', 'tab:pink', 'tab:gray', 'tab:olive', 'tab:cyan']\n",
    "ax.stem(ms2_peaks_df.centroid_mz, ms2_peaks_df.intensity, linefmt=\"C1-\", markerfmt=\"C1o\", basefmt=\"C7-\")\n",
    "plt.xlabel('m/z')\n",
    "plt.ylabel('intensity')\n",
    "# plt.yscale('log')\n",
    "plt.xlim(200,2250)\n",
    "# plt.xlim(1000,1010)\n",
    "plt.margins(0.06)\n",
    "plt.title('Ions associated with feature {} and isolation window {} prior to deconvolution & deisotoping'.format(feature_id, precursor_id))\n",
    "plt.show()"
   ]
  },
  {
   "cell_type": "code",
   "execution_count": 35,
   "metadata": {},
   "outputs": [],
   "source": [
    "# get all the deconvoluted ions for this feature\n",
    "db_conn = sqlite3.connect(db_name)\n",
    "deconvoluted_ions_df = pd.read_sql_query(\"select * from deconvoluted_ions where feature_id={} and precursor_id={}\".format(feature_id, precursor_id), db_conn)\n",
    "db_conn.close()"
   ]
  },
  {
   "cell_type": "code",
   "execution_count": 36,
   "metadata": {},
   "outputs": [
    {
     "data": {
      "image/png": "[encoded data removed]",
      "text/plain": [
       "<Figure size 1080x360 with 1 Axes>"
      ]
     },
     "metadata": {},
     "output_type": "display_data"
    }
   ],
   "source": [
    "fig, ax = plt.subplots()\n",
    "fig.set_figheight(5)\n",
    "fig.set_figwidth(15)\n",
    "colors = ['tab:blue', 'tab:orange', 'tab:green', 'tab:red', 'tab:purple', 'tab:brown', 'tab:pink', 'tab:gray', 'tab:olive', 'tab:cyan']\n",
    "ax.stem(deconvoluted_ions_df.neutral_mass, deconvoluted_ions_df.intensity, linefmt=\"C1-\", markerfmt=\"C1o\", basefmt=\"C7-\")\n",
    "plt.xlabel('m/z')\n",
    "plt.ylabel('intensity')\n",
    "# plt.yscale('log')\n",
    "plt.xlim(200,2250)\n",
    "# plt.xlim(1000,1010)\n",
    "plt.margins(0.06)\n",
    "plt.title('Ions associated with feature {} and isolation window {} after deconvolution & deisotoping'.format(feature_id, precursor_id))\n",
    "plt.show()"
   ]
  },
  {
   "cell_type": "code",
   "execution_count": null,
   "metadata": {},
   "outputs": [],
   "source": []
  }
 ],
 "metadata": {
  "kernelspec": {
   "display_name": "Python 2",
   "language": "python",
   "name": "python2"
  },
  "language_info": {
   "codemirror_mode": {
    "name": "ipython",
    "version": 2
   },
   "file_extension": ".py",
   "mimetype": "text/x-python",
   "name": "python",
   "nbconvert_exporter": "python",
   "pygments_lexer": "ipython2",
   "version": "2.7.14"
  }
 },
 "nbformat": 4,
 "nbformat_minor": 2
}
