{
 "cells": [
  {
   "cell_type": "code",
   "execution_count": 2,
   "metadata": {},
   "outputs": [],
   "source": [
    "import pandas as pd\n",
    "import matplotlib.pyplot as plt\n",
    "import sqlite3\n",
    "import json\n",
    "import numpy as np"
   ]
  },
  {
   "cell_type": "code",
   "execution_count": 3,
   "metadata": {},
   "outputs": [],
   "source": [
    "# EXPERIMENT_DIR = '/home/ubuntu/experiments/dwm-test'\n",
    "EXPERIMENT_DIR = '/Users/darylwilding-mcbride/Downloads/experiments/dwm-test'\n"
   ]
  },
  {
   "cell_type": "code",
   "execution_count": 4,
   "metadata": {},
   "outputs": [],
   "source": [
    "MAPPING_FILE_NAME = \"{}/recalibrated-percolator-output/percolator-idx-mapping.csv\".format(EXPERIMENT_DIR)\n",
    "\n",
    "# determine the mapping between the percolator index and the run file name\n",
    "def get_percolator_run_mapping(mapping_file_name):\n",
    "    df = pd.read_csv(mapping_file_name)\n",
    "    mapping_l = [tuple(r) for r in df.to_numpy()]\n",
    "    return mapping_l\n",
    "\n",
    "def file_idx_for_run(run_name):\n",
    "    result = None\n",
    "    mapping_l = get_percolator_run_mapping(MAPPING_FILE_NAME)\n",
    "    for m in mapping_l:\n",
    "        if m[1] == run_name:\n",
    "            result = m[0]\n",
    "            break\n",
    "    return result\n",
    "\n",
    "def run_name_for_file_idx(file_idx):\n",
    "    result = None\n",
    "    mapping_l = get_percolator_run_mapping(MAPPING_FILE_NAME)\n",
    "    for m in mapping_l:\n",
    "        if m[0] == file_idx:\n",
    "            result = m[1]\n",
    "            break\n",
    "    return result"
   ]
  },
  {
   "cell_type": "code",
   "execution_count": 5,
   "metadata": {},
   "outputs": [],
   "source": [
    "EXTRACTED_FEATURES_DIR = \"{}/extracted-features\".format(EXPERIMENT_DIR)\n",
    "EXTRACTED_FEATURES_DB_NAME = \"{}/extracted-features.sqlite\".format(EXTRACTED_FEATURES_DIR)\n"
   ]
  },
  {
   "cell_type": "code",
   "execution_count": 13,
   "metadata": {},
   "outputs": [],
   "source": [
    "db_conn = sqlite3.connect(EXTRACTED_FEATURES_DB_NAME)\n",
    "sequences_df = pd.read_sql_query('select sequence,charge,file_idx,rt_isotope_correlation,scan_isotope_correlation from features', db_conn)\n",
    "db_conn.close()"
   ]
  },
  {
   "cell_type": "code",
   "execution_count": 14,
   "metadata": {},
   "outputs": [],
   "source": [
    "sequences_df.sort_values(by='rt_isotope_correlation', ascending=False, inplace=True)"
   ]
  },
  {
   "cell_type": "code",
   "execution_count": 15,
   "metadata": {},
   "outputs": [
    {
     "data": {
      "text/html": [
       "<div>\n",
       "<style scoped>\n",
       "    .dataframe tbody tr th:only-of-type {\n",
       "        vertical-align: middle;\n",
       "    }\n",
       "\n",
       "    .dataframe tbody tr th {\n",
       "        vertical-align: top;\n",
       "    }\n",
       "\n",
       "    .dataframe thead th {\n",
       "        text-align: right;\n",
       "    }\n",
       "</style>\n",
       "<table border=\"1\" class=\"dataframe\">\n",
       "  <thead>\n",
       "    <tr style=\"text-align: right;\">\n",
       "      <th></th>\n",
       "      <th>sequence</th>\n",
       "      <th>charge</th>\n",
       "      <th>file_idx</th>\n",
       "      <th>rt_isotope_correlation</th>\n",
       "      <th>scan_isotope_correlation</th>\n",
       "    </tr>\n",
       "  </thead>\n",
       "  <tbody>\n",
       "    <tr>\n",
       "      <th>57501</th>\n",
       "      <td>DDGVFVQEVTQNSPAAR</td>\n",
       "      <td>2</td>\n",
       "      <td>7</td>\n",
       "      <td>1.0</td>\n",
       "      <td>1.000000</td>\n",
       "    </tr>\n",
       "    <tr>\n",
       "      <th>77413</th>\n",
       "      <td>DPYQEEEWPQGFGQLTK</td>\n",
       "      <td>2</td>\n",
       "      <td>3</td>\n",
       "      <td>1.0</td>\n",
       "      <td>-0.797713</td>\n",
       "    </tr>\n",
       "    <tr>\n",
       "      <th>488313</th>\n",
       "      <td>VLQSFTVDSSK</td>\n",
       "      <td>2</td>\n",
       "      <td>0</td>\n",
       "      <td>1.0</td>\n",
       "      <td>-1.000000</td>\n",
       "    </tr>\n",
       "    <tr>\n",
       "      <th>500392</th>\n",
       "      <td>VSQGVEDGPDTK</td>\n",
       "      <td>2</td>\n",
       "      <td>16</td>\n",
       "      <td>1.0</td>\n",
       "      <td>-0.129765</td>\n",
       "    </tr>\n",
       "    <tr>\n",
       "      <th>404559</th>\n",
       "      <td>SGCTNYLPTLITTSDELMK</td>\n",
       "      <td>2</td>\n",
       "      <td>6</td>\n",
       "      <td>1.0</td>\n",
       "      <td>0.000000</td>\n",
       "    </tr>\n",
       "  </tbody>\n",
       "</table>\n",
       "</div>"
      ],
      "text/plain": [
       "                   sequence  charge  file_idx  rt_isotope_correlation  \\\n",
       "57501     DDGVFVQEVTQNSPAAR       2         7                     1.0   \n",
       "77413     DPYQEEEWPQGFGQLTK       2         3                     1.0   \n",
       "488313          VLQSFTVDSSK       2         0                     1.0   \n",
       "500392         VSQGVEDGPDTK       2        16                     1.0   \n",
       "404559  SGCTNYLPTLITTSDELMK       2         6                     1.0   \n",
       "\n",
       "        scan_isotope_correlation  \n",
       "57501                   1.000000  \n",
       "77413                  -0.797713  \n",
       "488313                 -1.000000  \n",
       "500392                 -0.129765  \n",
       "404559                  0.000000  "
      ]
     },
     "execution_count": 15,
     "metadata": {},
     "output_type": "execute_result"
    }
   ],
   "source": [
    "sequences_df.head(5)"
   ]
  },
  {
   "cell_type": "code",
   "execution_count": 16,
   "metadata": {},
   "outputs": [
    {
     "data": {
      "image/png": "[encoded data removed]",
      "text/plain": [
       "<Figure size 1080x576 with 1 Axes>"
      ]
     },
     "metadata": {
      "needs_background": "light"
     },
     "output_type": "display_data"
    }
   ],
   "source": [
    "f, ax1 = plt.subplots()\n",
    "f.set_figheight(8)\n",
    "f.set_figwidth(15)\n",
    "\n",
    "plt.margins(0.06)\n",
    "plt.title('')\n",
    "\n",
    "bins = 250\n",
    "hist, bins, _ = plt.hist(sequences_df.rt_isotope_correlation, bins=bins)\n",
    "plt.xlabel('isotope correlation in RT dimension')\n",
    "plt.ylabel('count')\n",
    "plt.title('isotope correlation in RT dimension for extracted features')\n",
    "# ax1.set(xticks=range(-5,5), xlim=[-5, 5])\n",
    "\n",
    "plt.show()"
   ]
  },
  {
   "cell_type": "markdown",
   "metadata": {},
   "source": [
    "#### visualise isotopic correlation in raw points"
   ]
  },
  {
   "cell_type": "code",
   "execution_count": 18,
   "metadata": {},
   "outputs": [],
   "source": [
    "selected_sequence = 'DDGVFVQEVTQNSPAAR'\n",
    "selected_sequence_charge = 2\n",
    "selected_sequence_file_idx = 7"
   ]
  },
  {
   "cell_type": "code",
   "execution_count": 42,
   "metadata": {},
   "outputs": [],
   "source": [
    "db_conn = sqlite3.connect(EXTRACTED_FEATURES_DB_NAME)\n",
    "selected_sequence_s = pd.read_sql_query('select mono_filtered_points_l,isotope_1_filtered_points_l,isotope_2_filtered_points_l,mono_rt_bounds,isotope_1_rt_bounds,isotope_2_rt_bounds,isotope_intensities_l from features where sequence==\\'{}\\' and charge=={} and file_idx=={}'.format(selected_sequence,selected_sequence_charge,selected_sequence_file_idx), db_conn).iloc[0]\n",
    "db_conn.close()"
   ]
  },
  {
   "cell_type": "code",
   "execution_count": 43,
   "metadata": {},
   "outputs": [
    {
     "data": {
      "text/plain": [
       "mono_filtered_points_l         [{\"x\": 620.9879181523185, \"filtered_intensity\"...\n",
       "isotope_1_filtered_points_l    [{\"x\": 620.9879181523185, \"filtered_intensity\"...\n",
       "isotope_2_filtered_points_l    [{\"x\": 620.9879181523185, \"filtered_intensity\"...\n",
       "mono_rt_bounds                            [648.3635047245427, 649.4272941057453]\n",
       "isotope_1_rt_bounds                        [651.6068876971889, 653.276392627592]\n",
       "isotope_2_rt_bounds                        [649.4272941057453, 653.276392627592]\n",
       "isotope_intensities_l          [[23.0, false, 23.0, false, [[916.945630382901...\n",
       "Name: 0, dtype: object"
      ]
     },
     "execution_count": 43,
     "metadata": {},
     "output_type": "execute_result"
    }
   ],
   "source": [
    "selected_sequence_s"
   ]
  },
  {
   "cell_type": "code",
   "execution_count": 44,
   "metadata": {},
   "outputs": [],
   "source": [
    "mono_filtered_points_df = pd.DataFrame(json.loads(selected_sequence_s.mono_filtered_points_l))\n",
    "isotope_1_filtered_points_df = pd.DataFrame(json.loads(selected_sequence_s.isotope_1_filtered_points_l))\n",
    "isotope_2_filtered_points_df = pd.DataFrame(json.loads(selected_sequence_s.isotope_2_filtered_points_l))    \n"
   ]
  },
  {
   "cell_type": "code",
   "execution_count": 45,
   "metadata": {},
   "outputs": [],
   "source": [
    "mono_rt_lower,mono_rt_upper = json.loads(selected_sequence_s.mono_rt_bounds)\n",
    "mono_isolated_peak_df = mono_filtered_points_df[(mono_filtered_points_df.x >= mono_rt_lower) & (mono_filtered_points_df.x <= mono_rt_upper)]\n",
    "\n",
    "isotope_1_rt_lower,isotope_1_rt_upper = json.loads(selected_sequence_s.isotope_1_rt_bounds)\n",
    "isotope_1_isolated_peak_df = isotope_1_filtered_points_df[(isotope_1_filtered_points_df.x >= isotope_1_rt_lower) & (isotope_1_filtered_points_df.x <= isotope_1_rt_upper)]\n",
    "\n",
    "isotope_2_rt_lower,isotope_2_rt_upper = json.loads(selected_sequence_s.isotope_2_rt_bounds)\n",
    "isotope_2_isolated_peak_df = isotope_2_filtered_points_df[(isotope_2_filtered_points_df.x >= isotope_2_rt_lower) & (isotope_2_filtered_points_df.x <= isotope_2_rt_upper)]\n"
   ]
  },
  {
   "cell_type": "code",
   "execution_count": 49,
   "metadata": {},
   "outputs": [],
   "source": [
    "isotope_intensities_df = pd.DataFrame(json.loads(selected_sequence_s.isotope_intensities_l), columns=['summed_intensity','saturated','inferred_intensity','inferred','isotope_points','isotope_apex_points'])"
   ]
  },
  {
   "cell_type": "code",
   "execution_count": 50,
   "metadata": {},
   "outputs": [
    {
     "data": {
      "text/html": [
       "<div>\n",
       "<style scoped>\n",
       "    .dataframe tbody tr th:only-of-type {\n",
       "        vertical-align: middle;\n",
       "    }\n",
       "\n",
       "    .dataframe tbody tr th {\n",
       "        vertical-align: top;\n",
       "    }\n",
       "\n",
       "    .dataframe thead th {\n",
       "        text-align: right;\n",
       "    }\n",
       "</style>\n",
       "<table border=\"1\" class=\"dataframe\">\n",
       "  <thead>\n",
       "    <tr style=\"text-align: right;\">\n",
       "      <th></th>\n",
       "      <th>summed_intensity</th>\n",
       "      <th>saturated</th>\n",
       "      <th>inferred_intensity</th>\n",
       "      <th>inferred</th>\n",
       "      <th>isotope_points</th>\n",
       "      <th>isotope_apex_points</th>\n",
       "    </tr>\n",
       "  </thead>\n",
       "  <tbody>\n",
       "    <tr>\n",
       "      <th>0</th>\n",
       "      <td>23.0</td>\n",
       "      <td>False</td>\n",
       "      <td>23.0</td>\n",
       "      <td>False</td>\n",
       "      <td>[[916.9456303829012, 320.0, 6086.0, 648.896332...</td>\n",
       "      <td>[[916.9456303829012, 320.0, 6086.0, 648.896332...</td>\n",
       "    </tr>\n",
       "    <tr>\n",
       "      <th>1</th>\n",
       "      <td>368.0</td>\n",
       "      <td>False</td>\n",
       "      <td>368.0</td>\n",
       "      <td>False</td>\n",
       "      <td>[[917.4442965545587, 312.0, 6086.0, 648.896332...</td>\n",
       "      <td>[[917.4442965545587, 366.0, 6086.0, 648.896332...</td>\n",
       "    </tr>\n",
       "    <tr>\n",
       "      <th>2</th>\n",
       "      <td>140.0</td>\n",
       "      <td>False</td>\n",
       "      <td>140.0</td>\n",
       "      <td>False</td>\n",
       "      <td>[[917.9478494306678, 309.0, 6086.0, 648.896332...</td>\n",
       "      <td>[[917.9478494306678, 380.0, 6086.0, 648.896332...</td>\n",
       "    </tr>\n",
       "    <tr>\n",
       "      <th>3</th>\n",
       "      <td>115.0</td>\n",
       "      <td>False</td>\n",
       "      <td>115.0</td>\n",
       "      <td>False</td>\n",
       "      <td>[[918.4467880135621, 354.0, 6086.0, 648.896332...</td>\n",
       "      <td>[[918.4467880135621, 364.0, 6086.0, 648.896332...</td>\n",
       "    </tr>\n",
       "  </tbody>\n",
       "</table>\n",
       "</div>"
      ],
      "text/plain": [
       "   summed_intensity  saturated  inferred_intensity  inferred  \\\n",
       "0              23.0      False                23.0     False   \n",
       "1             368.0      False               368.0     False   \n",
       "2             140.0      False               140.0     False   \n",
       "3             115.0      False               115.0     False   \n",
       "\n",
       "                                      isotope_points  \\\n",
       "0  [[916.9456303829012, 320.0, 6086.0, 648.896332...   \n",
       "1  [[917.4442965545587, 312.0, 6086.0, 648.896332...   \n",
       "2  [[917.9478494306678, 309.0, 6086.0, 648.896332...   \n",
       "3  [[918.4467880135621, 354.0, 6086.0, 648.896332...   \n",
       "\n",
       "                                 isotope_apex_points  \n",
       "0  [[916.9456303829012, 320.0, 6086.0, 648.896332...  \n",
       "1  [[917.4442965545587, 366.0, 6086.0, 648.896332...  \n",
       "2  [[917.9478494306678, 380.0, 6086.0, 648.896332...  \n",
       "3  [[918.4467880135621, 364.0, 6086.0, 648.896332...  "
      ]
     },
     "execution_count": 50,
     "metadata": {},
     "output_type": "execute_result"
    }
   ],
   "source": [
    "isotope_intensities_df"
   ]
  },
  {
   "cell_type": "code",
   "execution_count": 46,
   "metadata": {
    "scrolled": false
   },
   "outputs": [
    {
     "data": {
      "image/png": "[encoded data removed]",
      "text/plain": [
       "<Figure size 1080x576 with 1 Axes>"
      ]
     },
     "metadata": {
      "needs_background": "light"
     },
     "output_type": "display_data"
    }
   ],
   "source": [
    "f, ax = plt.subplots()\n",
    "f.set_figheight(8)\n",
    "f.set_figwidth(15)\n",
    "plt.margins(0.06)\n",
    "\n",
    "# title = 'maximum inferred intensity by monoisotopic mass'\n",
    "# plt.title(title)\n",
    "\n",
    "ax.plot(mono_isolated_peak_df.x, mono_isolated_peak_df.filtered_intensity, marker='', color='darkorange', linestyle='-', lw=1, ms=30, alpha=1.0, label='monoisotopic')\n",
    "ax.plot(isotope_1_isolated_peak_df.x, isotope_1_isolated_peak_df.filtered_intensity, marker='', color='limegreen', linestyle='-', lw=1, ms=30, alpha=1.0, label='isotope 1')\n",
    "ax.plot(isotope_2_isolated_peak_df.x, isotope_2_isolated_peak_df.filtered_intensity, marker='', color='violet', linestyle='-', lw=1, ms=30, alpha=1.0, label='isotope 2')\n",
    "\n",
    "for row in isotope_intensities_df.itertuples():\n",
    "    isotope_df = \n",
    "    ax.scatter(isotope_df.retention_time_secs, isotope_df.intensity, marker='o', color='silver', lw=0, s=30, alpha=0.6, label='raw mono points')    \n",
    "\n",
    "plt.legend(loc='best')\n",
    "plt.xlabel('retention time (seconds)')\n",
    "plt.ylabel('intensity')\n",
    "\n",
    "plt.show()"
   ]
  },
  {
   "cell_type": "code",
   "execution_count": null,
   "metadata": {},
   "outputs": [],
   "source": []
  }
 ],
 "metadata": {
  "kernelspec": {
   "display_name": "Python 3",
   "language": "python",
   "name": "python3"
  },
  "language_info": {
   "codemirror_mode": {
    "name": "ipython",
    "version": 3
   },
   "file_extension": ".py",
   "mimetype": "text/x-python",
   "name": "python",
   "nbconvert_exporter": "python",
   "pygments_lexer": "ipython3",
   "version": "3.6.8"
  }
 },
 "nbformat": 4,
 "nbformat_minor": 2
}
