{
 "cells": [
  {
   "cell_type": "code",
   "execution_count": 1,
   "metadata": {},
   "outputs": [],
   "source": [
    "import pandas as pd\n",
    "import numpy as np\n",
    "import sqlite3\n",
    "import matplotlib.pyplot as plt"
   ]
  },
  {
   "cell_type": "code",
   "execution_count": 2,
   "metadata": {},
   "outputs": [],
   "source": [
    "SEQUENCE_LIBRARY_DIR = '/data/experiments/YHE/sequence-library'\n",
    "PERCOLATOR_FEATURES_FILE_NAME = \"{}/percolator-id-feature-mapping.pkl\".format(SEQUENCE_LIBRARY_DIR)\n"
   ]
  },
  {
   "cell_type": "code",
   "execution_count": 3,
   "metadata": {},
   "outputs": [],
   "source": [
    "df = pd.read_pickle(PERCOLATOR_FEATURES_FILE_NAME)"
   ]
  },
  {
   "cell_type": "code",
   "execution_count": 4,
   "metadata": {},
   "outputs": [
    {
     "data": {
      "text/plain": [
       "Index(['file_idx', 'scan', 'charge_x', 'spectrum precursor m/z',\n",
       "       'spectrum neutral mass', 'peptide mass', 'percolator score',\n",
       "       'percolator q-value', 'percolator PEP', 'total matches/spectrum',\n",
       "       'sequence', 'protein id', 'flanking aa', 'feature_id', 'charge_y',\n",
       "       'rt_apex', 'rt_peak_width', 'scan_apex', 'scan_peak_width', 'intensity',\n",
       "       'precursor_id', 'monoisotopic_mass', 'predicted_mass_error',\n",
       "       'recalibrated_monoisotopic_mass', 'recalibrated_monoisotopic_mz',\n",
       "       'percolator_idx', 'human'],\n",
       "      dtype='object')"
      ]
     },
     "execution_count": 4,
     "metadata": {},
     "output_type": "execute_result"
    }
   ],
   "source": [
    "df.columns"
   ]
  },
  {
   "cell_type": "code",
   "execution_count": 9,
   "metadata": {},
   "outputs": [
    {
     "data": {
      "text/plain": [
       "19576                                  sp|P26641|EF1G_HUMAN\n",
       "15523                                 sp|Q9NQT4|EXOS5_HUMAN\n",
       "370538                                 sp|P17987|TCPA_HUMAN\n",
       "415688            sp|P00359|G3P3_YEAST,sp|P00358|G3P2_YEAST\n",
       "443612                                 sp|P38606|VATA_HUMAN\n",
       "441654                                 sp|P26640|SYVC_HUMAN\n",
       "187359    sp|P57053|H2BFS_HUMAN,sp|Q99880|H2B1L_HUMAN,sp...\n",
       "305154                                 sp|O43172|PRP4_HUMAN\n",
       "87364                                  sp|P25789|PSA4_HUMAN\n",
       "205398                                 sp|P53621|COPA_HUMAN\n",
       "545315                                sp|P61981|1433G_HUMAN\n",
       "378021                                 sp|Q92785|REQU_HUMAN\n",
       "418022                                sp|P16949|STMN1_HUMAN\n",
       "524481                                 sp|O14511|NRG2_HUMAN\n",
       "94032                                  sp|P49915|GUAA_HUMAN\n",
       "318251    sp|P57053|H2BFS_HUMAN,sp|Q99880|H2B1L_HUMAN,sp...\n",
       "283110                                 sp|Q15181|IPYR_HUMAN\n",
       "135180                                sp|P21283|VATC1_HUMAN\n",
       "340678                                 sp|P19414|ACON_YEAST\n",
       "19305                                 sp|O60506|HNRPQ_HUMAN\n",
       "214926                                 sp|P15625|SYFA_YEAST\n",
       "10335                                  sp|P02545|LMNA_HUMAN\n",
       "283048                                sp|Q96C90|PP14B_HUMAN\n",
       "451807                                sp|O95989|NUDT3_HUMAN\n",
       "193962                                sp|Q86V81|THOC4_HUMAN\n",
       "144377                                 sp|Q9Y490|TLN1_HUMAN\n",
       "360729                                 sp|Q00610|CLH1_HUMAN\n",
       "513542          sp|P08238|HS90B_HUMAN,sp|Q58FF7|H90B3_HUMAN\n",
       "240927                                sp|P25343|RV161_YEAST\n",
       "158640                                sp|O60506|HNRPQ_HUMAN\n",
       "469827                                sp|Q07666|KHDR1_HUMAN\n",
       "106877                                sp|O00232|PSD12_HUMAN\n",
       "537896                                 sp|P55060|XPO2_HUMAN\n",
       "281897                                sp|Q14157|UBP2L_HUMAN\n",
       "424952            sp|P06169|PDC1_YEAST,sp|P26263|PDC6_YEAST\n",
       "536334                                  sp|P30085|KCY_HUMAN\n",
       "271761                                 sp|P56134|ATPK_HUMAN\n",
       "469879                                sp|P16862|PFKA2_YEAST\n",
       "78734           sp|Q5VTE0|EF1A3_HUMAN,sp|P68104|EF1A1_HUMAN\n",
       "29885                                  sp|P17987|TCPA_HUMAN\n",
       "133135                                 sp|P24534|EF1B_HUMAN\n",
       "202363    sp|P57053|H2BFS_HUMAN,sp|Q99880|H2B1L_HUMAN,sp...\n",
       "531007                                sp|Q9NS69|TOM22_HUMAN\n",
       "351900                                sp|Q92900|RENT1_HUMAN\n",
       "282632                                sp|Q9P287|BCCIP_HUMAN\n",
       "431248    sp|P52294|IMA5_HUMAN,sp|O60684|IMA7_HUMAN,sp|O...\n",
       "313161                                 sp|P17255|VATA_YEAST\n",
       "445407                                sp|Q9H4L7|SMRCD_HUMAN\n",
       "552207          sp|P0CX24|RL20B_YEAST,sp|P0CX23|RL20A_YEAST\n",
       "223216                                 sp|Q15029|U5S1_HUMAN\n",
       "Name: protein id, dtype: object"
      ]
     },
     "execution_count": 9,
     "metadata": {},
     "output_type": "execute_result"
    }
   ],
   "source": [
    "df['protein id'].sample(n=50)"
   ]
  },
  {
   "cell_type": "code",
   "execution_count": null,
   "metadata": {},
   "outputs": [],
   "source": []
  }
 ],
 "metadata": {
  "kernelspec": {
   "display_name": "Python 3",
   "language": "python",
   "name": "python3"
  },
  "language_info": {
   "codemirror_mode": {
    "name": "ipython",
    "version": 3
   },
   "file_extension": ".py",
   "mimetype": "text/x-python",
   "name": "python",
   "nbconvert_exporter": "python",
   "pygments_lexer": "ipython3",
   "version": "3.6.8"
  }
 },
 "nbformat": 4,
 "nbformat_minor": 2
}
