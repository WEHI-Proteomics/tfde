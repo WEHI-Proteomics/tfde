{
 "cells": [
  {
   "cell_type": "code",
   "execution_count": 25,
   "metadata": {},
   "outputs": [],
   "source": [
    "import pandas as pd\n",
    "import numpy as np\n",
    "import sys\n",
    "import pickle\n",
    "import glob\n",
    "import os\n",
    "import sqlite3\n",
    "import matplotlib.pyplot as plt\n",
    "from matplotlib import colors, cm, pyplot as plt\n",
    "from PIL import Image"
   ]
  },
  {
   "cell_type": "code",
   "execution_count": 27,
   "metadata": {},
   "outputs": [],
   "source": [
    "EXPERIMENT_DIR = '/Users/darylwilding-mcbride/Downloads/experiments/dwm-test'\n",
    "RUN_NAME = '190719_Hela_Ecoli_1to1_01'\n",
    "FEATURES_DIR = '{}/features/{}'.format(EXPERIMENT_DIR, RUN_NAME)\n",
    "CONVERTED_DB = '{}/converted-databases/exp-dwm-test-run-{}-converted.sqlite'.format(EXPERIMENT_DIR, RUN_NAME)\n",
    "ENCODED_FEATURES_DIR = '{}/encoded-features/{}'.format(EXPERIMENT_DIR, RUN_NAME)\n",
    "FEATURE_SLICES_DIR = '{}/slices'.format(ENCODED_FEATURES_DIR)"
   ]
  },
  {
   "cell_type": "code",
   "execution_count": 28,
   "metadata": {},
   "outputs": [],
   "source": [
    "# frame types for PASEF mode\n",
    "FRAME_TYPE_MS1 = 0\n",
    "FRAME_TYPE_MS2 = 8"
   ]
  },
  {
   "cell_type": "code",
   "execution_count": 29,
   "metadata": {},
   "outputs": [],
   "source": [
    "# image dimensions\n",
    "PIXELS_X = 224\n",
    "PIXELS_Y = 224"
   ]
  },
  {
   "cell_type": "code",
   "execution_count": 30,
   "metadata": {},
   "outputs": [],
   "source": [
    "def pixel_xy(mz, scan, mz_lower, mz_upper, scan_lower, scan_upper):\n",
    "    x_pixels_per_mz = (PIXELS_X-1) / (mz_upper - mz_lower)\n",
    "    y_pixels_per_scan = (PIXELS_Y-1) / (scan_upper - scan_lower)\n",
    "    \n",
    "    pixel_x = int((mz - mz_lower) * x_pixels_per_mz)\n",
    "    pixel_y = int((scan - scan_lower) * y_pixels_per_scan)\n",
    "    return (pixel_x, pixel_y)"
   ]
  },
  {
   "cell_type": "code",
   "execution_count": 31,
   "metadata": {},
   "outputs": [],
   "source": [
    "precursor_id = 2\n",
    "feature_pkl = '{}/exp-dwm-test-run-{}-features-precursor-{}.pkl'.format(FEATURES_DIR, RUN_NAME, precursor_id)"
   ]
  },
  {
   "cell_type": "code",
   "execution_count": 32,
   "metadata": {},
   "outputs": [],
   "source": [
    "# create the colour mapping\n",
    "colour_map = plt.get_cmap('rainbow')\n",
    "norm = colors.LogNorm(vmin=1, vmax=1000, clip=True)  # aiming to get good colour variation in the lower range, and clipping everything else"
   ]
  },
  {
   "cell_type": "code",
   "execution_count": 59,
   "metadata": {},
   "outputs": [
    {
     "name": "stdout",
     "output_type": "stream",
     "text": [
      "feature ID 201\n"
     ]
    }
   ],
   "source": [
    "# load the features for this precursor\n",
    "features_df = pd.read_pickle(feature_pkl)\n",
    "# for each feature, generate image slices for its cuboid\n",
    "for feature in features_df.itertuples():\n",
    "    feature_id = feature.feature_id\n",
    "    print(\"feature ID {}\".format(feature_id))\n",
    "\n",
    "    # determine the feature cuboid dimensions\n",
    "    mz_lower = feature.envelope[0][0] - 0.5\n",
    "    mz_upper = feature.envelope[-1][0] + 0.5\n",
    "    scan_lower = feature.scan_lower\n",
    "    scan_upper = feature.scan_upper\n",
    "    rt_apex = feature.rt_apex\n",
    "    rt_lower = feature.rt_lower\n",
    "    rt_upper = feature.rt_upper\n",
    "    monoisotopic_mz = feature.monoisotopic_mz\n",
    "\n",
    "    # get the raw data for this feature\n",
    "    db_conn = sqlite3.connect(CONVERTED_DB)\n",
    "    raw_df = pd.read_sql_query('select mz,scan,intensity,frame_id,retention_time_secs from frames where mz >= {} and mz <= {} and scan >= {} and scan <= {} and frame_type == {} and retention_time_secs >= {} and retention_time_secs <= {}'.format(mz_lower, mz_upper, scan_lower, scan_upper, FRAME_TYPE_MS1, rt_lower, rt_upper), db_conn)\n",
    "    db_conn.close()\n",
    "\n",
    "    # calculate the raw point coordinates in scaled pixels\n",
    "    pixel_df = pd.DataFrame(raw_df.apply(lambda row: pixel_xy(row.mz, row.scan, monoisotopic_mz-0.5, monoisotopic_mz+(10*0.5), scan_lower, scan_upper), axis=1).tolist(), columns=['pixel_x','pixel_y'])\n",
    "    raw_pixel_df = pd.concat([raw_df, pixel_df], axis=1)\n",
    "\n",
    "    # sum the intensity of raw points that have been assigned to each pixel\n",
    "    pixel_intensity_df = raw_pixel_df.groupby(by=['frame_id', 'pixel_x', 'pixel_y'], as_index=False).intensity.sum()\n",
    "\n",
    "    # calculate the colour to represent the intensity\n",
    "    colours_l = []\n",
    "    for i in pixel_intensity_df.intensity.unique():\n",
    "        colours_l.append((i, colour_map(norm(i), bytes=True)[:3]))\n",
    "    colours_df = pd.DataFrame(colours_l, columns=['intensity','colour'])\n",
    "    pixel_intensity_df = pd.merge(pixel_intensity_df, colours_df, how='left', left_on=['intensity'], right_on=['intensity'])\n",
    "\n",
    "    # get the frame IDs closest to the RT apex\n",
    "    frame_ids = frame_properties_df.iloc[(frame_properties_df['Time'] - rt_apex).abs().argsort()[:20]].sort_values(by=['Time'], ascending=[True], inplace=False).Id.tolist()    \n",
    "\n",
    "    # write out the images to files\n",
    "    feature_slice = 0\n",
    "    for frame_id in frame_ids:\n",
    "        frame_df = pixel_intensity_df[(pixel_intensity_df.frame_id == frame_id)]\n",
    "        # create an intensity array\n",
    "        tile_im_array = np.zeros([PIXELS_Y, PIXELS_X, 3], dtype=np.uint8)  # container for the image\n",
    "        for r in zip(frame_df.pixel_x, frame_df.pixel_y, frame_df.colour):\n",
    "            x = r[0]\n",
    "            y = r[1]\n",
    "            c = r[2]\n",
    "            tile_im_array[y,x,:] = c\n",
    "\n",
    "        # create an image of the intensity array\n",
    "        feature_slice += 1\n",
    "        tile = Image.fromarray(tile_im_array, 'RGB')\n",
    "        tile_file_name = '{}/feature-{}-slice-{:03d}.png'.format(FEATURE_SLICES_DIR, feature_id, feature_slice)\n",
    "        tile.save(tile_file_name)"
   ]
  },
  {
   "cell_type": "code",
   "execution_count": 39,
   "metadata": {},
   "outputs": [],
   "source": [
    "# get the frame properties\n",
    "db_conn = sqlite3.connect(CONVERTED_DB)\n",
    "frame_properties_df = pd.read_sql_query('select Id,Time from frame_properties where MsMsType == {}'.format(FRAME_TYPE_MS1), db_conn)\n",
    "db_conn.close()\n"
   ]
  },
  {
   "cell_type": "code",
   "execution_count": 41,
   "metadata": {},
   "outputs": [
    {
     "data": {
      "text/html": [
       "<div>\n",
       "<style scoped>\n",
       "    .dataframe tbody tr th:only-of-type {\n",
       "        vertical-align: middle;\n",
       "    }\n",
       "\n",
       "    .dataframe tbody tr th {\n",
       "        vertical-align: top;\n",
       "    }\n",
       "\n",
       "    .dataframe thead th {\n",
       "        text-align: right;\n",
       "    }\n",
       "</style>\n",
       "<table border=\"1\" class=\"dataframe\">\n",
       "  <thead>\n",
       "    <tr style=\"text-align: right;\">\n",
       "      <th></th>\n",
       "      <th>Id</th>\n",
       "      <th>Time</th>\n",
       "    </tr>\n",
       "  </thead>\n",
       "  <tbody>\n",
       "    <tr>\n",
       "      <th>542</th>\n",
       "      <td>2674</td>\n",
       "      <td>283.422031</td>\n",
       "    </tr>\n",
       "    <tr>\n",
       "      <th>700</th>\n",
       "      <td>3464</td>\n",
       "      <td>367.084362</td>\n",
       "    </tr>\n",
       "    <tr>\n",
       "      <th>1498</th>\n",
       "      <td>7454</td>\n",
       "      <td>796.600661</td>\n",
       "    </tr>\n",
       "    <tr>\n",
       "      <th>1143</th>\n",
       "      <td>5679</td>\n",
       "      <td>603.521113</td>\n",
       "    </tr>\n",
       "    <tr>\n",
       "      <th>2051</th>\n",
       "      <td>10219</td>\n",
       "      <td>1095.090710</td>\n",
       "    </tr>\n",
       "  </tbody>\n",
       "</table>\n",
       "</div>"
      ],
      "text/plain": [
       "         Id         Time\n",
       "542    2674   283.422031\n",
       "700    3464   367.084362\n",
       "1498   7454   796.600661\n",
       "1143   5679   603.521113\n",
       "2051  10219  1095.090710"
      ]
     },
     "execution_count": 41,
     "metadata": {},
     "output_type": "execute_result"
    }
   ],
   "source": [
    "frame_properties_df.sample(n=5)"
   ]
  },
  {
   "cell_type": "code",
   "execution_count": null,
   "metadata": {},
   "outputs": [],
   "source": []
  }
 ],
 "metadata": {
  "kernelspec": {
   "display_name": "Python 3",
   "language": "python",
   "name": "python3"
  },
  "language_info": {
   "codemirror_mode": {
    "name": "ipython",
    "version": 3
   },
   "file_extension": ".py",
   "mimetype": "text/x-python",
   "name": "python",
   "nbconvert_exporter": "python",
   "pygments_lexer": "ipython3",
   "version": "3.6.8"
  }
 },
 "nbformat": 4,
 "nbformat_minor": 4
}
