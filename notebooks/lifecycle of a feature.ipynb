{
 "cells": [
  {
   "cell_type": "code",
   "execution_count": 6,
   "metadata": {},
   "outputs": [],
   "source": [
    "import pandas as pd\n",
    "from os.path import expanduser\n",
    "import matplotlib.pyplot as plt\n"
   ]
  },
  {
   "cell_type": "code",
   "execution_count": 7,
   "metadata": {},
   "outputs": [],
   "source": [
    "experiment_name = 'P3856'\n",
    "run_name = 'P3856_YHE211_1_Slot1-1_1_5104'\n",
    "precursor_definition_method = 'pasef'"
   ]
  },
  {
   "cell_type": "code",
   "execution_count": 8,
   "metadata": {},
   "outputs": [],
   "source": [
    "MAXIMUM_Q_VALUE = 0.01"
   ]
  },
  {
   "cell_type": "code",
   "execution_count": 9,
   "metadata": {},
   "outputs": [],
   "source": [
    "BASE_RESULTS_DIR = '/media/big-ssd/results-{}'.format(experiment_name)"
   ]
  },
  {
   "cell_type": "code",
   "execution_count": 12,
   "metadata": {},
   "outputs": [],
   "source": [
    "BASE_DIR = '{}/P3856-results-cs-false-fmdw-false-2021-05-18-18-07-57'.format(BASE_RESULTS_DIR)\n",
    "\n",
    "FEATURES_DIR = '{}/features-{}'.format(BASE_DIR, precursor_definition_method)\n",
    "FEATURES_NAME = '{}/exp-{}-run-{}-features-{}.pkl'.format(FEATURES_DIR, experiment_name, run_name, precursor_definition_method)\n",
    "FEATURES_DEDUP_NAME = '{}/exp-{}-run-{}-features-{}-dedup.pkl'.format(FEATURES_DIR, experiment_name, run_name, precursor_definition_method)\n",
    "\n",
    "IDENTS_DIR = '{}/identifications-{}'.format(BASE_DIR, precursor_definition_method)\n",
    "IDENTS_NAME = '{}/exp-{}-identifications-{}-recalibrated.pkl'.format(IDENTS_DIR, experiment_name, precursor_definition_method)"
   ]
  },
  {
   "cell_type": "code",
   "execution_count": 13,
   "metadata": {},
   "outputs": [],
   "source": [
    "features_before_dedup_df = pd.read_pickle(FEATURES_NAME)['features_df']"
   ]
  },
  {
   "cell_type": "code",
   "execution_count": 14,
   "metadata": {},
   "outputs": [],
   "source": [
    "features_after_dedup_df = pd.read_pickle(FEATURES_DEDUP_NAME)['features_df']"
   ]
  },
  {
   "cell_type": "code",
   "execution_count": 15,
   "metadata": {},
   "outputs": [],
   "source": [
    "identifications_before_unique_df = pd.read_pickle(IDENTS_NAME)['identifications_df']"
   ]
  },
  {
   "cell_type": "code",
   "execution_count": 16,
   "metadata": {},
   "outputs": [],
   "source": [
    "unique_sequences_l = []\n",
    "for group_name,group_df in identifications_before_unique_df.groupby(['sequence','charge'], as_index=False):\n",
    "    min_q_value = group_df['percolator q-value'].min()\n",
    "    min_mass_accuracy_ppm = group_df['mass_accuracy_ppm'].min()\n",
    "    unique_sequences_l.append({'sequence_charge':group_name, 'min_mass_accuracy_ppm':min_mass_accuracy_ppm, 'min_q_value':min_q_value, 'feature_ids':group_df.feature_id.tolist(), 'q-values':group_df['percolator q-value'].tolist()})\n",
    "unique_sequences_df = pd.DataFrame(unique_sequences_l)"
   ]
  },
  {
   "cell_type": "code",
   "execution_count": 17,
   "metadata": {},
   "outputs": [],
   "source": [
    "unique_sequences_below_min_q_df = unique_sequences_df[(unique_sequences_df.min_q_value <= MAXIMUM_Q_VALUE)]"
   ]
  },
  {
   "cell_type": "code",
   "execution_count": 18,
   "metadata": {},
   "outputs": [],
   "source": [
    "unique_sequences_below_min_ppm_df = unique_sequences_df[(abs(unique_sequences_df.min_mass_accuracy_ppm) <= 20)]"
   ]
  },
  {
   "cell_type": "code",
   "execution_count": 19,
   "metadata": {},
   "outputs": [
    {
     "data": {
      "text/plain": [
       "{'features_before_dedup': 101985,\n",
       " 'features_after_dedup': 73662,\n",
       " 'recalibrated_idents_total': 37510,\n",
       " 'recalibrated_idents_unique': 35881,\n",
       " 'unique_idents_below_min_qvalue': 7913,\n",
       " 'unique_sequences_below_min_ppm': 35880}"
      ]
     },
     "execution_count": 19,
     "metadata": {},
     "output_type": "execute_result"
    }
   ],
   "source": [
    "stats_d = {'features_before_dedup':len(features_before_dedup_df), 'features_after_dedup':len(features_after_dedup_df), 'recalibrated_idents_total':len(identifications_before_unique_df), 'recalibrated_idents_unique':len(unique_sequences_df), 'unique_idents_below_min_qvalue':len(unique_sequences_below_min_q_df), 'unique_sequences_below_min_ppm':len(unique_sequences_below_min_ppm_df)}\n",
    "stats_d"
   ]
  },
  {
   "cell_type": "code",
   "execution_count": 20,
   "metadata": {},
   "outputs": [
    {
     "data": {
      "text/plain": [
       "Index(['mono_mz_lower', 'mono_mz_upper', 'scan_apex', 'scan_lower',\n",
       "       'scan_upper', 'rt_apex', 'rt_lower', 'rt_upper',\n",
       "       'intensity_without_saturation_correction',\n",
       "       'intensity_with_saturation_correction',\n",
       "       'mono_intensity_adjustment_outcome',\n",
       "       'mono_mz_without_saturation_correction',\n",
       "       'mono_mz_with_saturation_correction', 'isotopic_peaks', 'scan_df',\n",
       "       'rt_df', 'monoisotopic_mz', 'charge', 'monoisotopic_mass',\n",
       "       'feature_intensity', 'envelope', 'isotope_count', 'deconvolution_score',\n",
       "       'precursor_cuboid_id', 'fragment_ions_l', 'fmdw_before_after_d',\n",
       "       'feature_id', 'run_name'],\n",
       "      dtype='object')"
      ]
     },
     "execution_count": 20,
     "metadata": {},
     "output_type": "execute_result"
    }
   ],
   "source": [
    "features_after_dedup_df.columns"
   ]
  },
  {
   "cell_type": "code",
   "execution_count": 22,
   "metadata": {},
   "outputs": [
    {
     "data": {
      "text/plain": [
       "list"
      ]
     },
     "execution_count": 22,
     "metadata": {},
     "output_type": "execute_result"
    }
   ],
   "source": [
    "type(features_after_dedup_df.iloc[0].isotopic_peaks)"
   ]
  },
  {
   "cell_type": "code",
   "execution_count": 23,
   "metadata": {},
   "outputs": [
    {
     "data": {
      "text/html": [
       "<div>\n",
       "<style scoped>\n",
       "    .dataframe tbody tr th:only-of-type {\n",
       "        vertical-align: middle;\n",
       "    }\n",
       "\n",
       "    .dataframe tbody tr th {\n",
       "        vertical-align: top;\n",
       "    }\n",
       "\n",
       "    .dataframe thead th {\n",
       "        text-align: right;\n",
       "    }\n",
       "</style>\n",
       "<table border=\"1\" class=\"dataframe\">\n",
       "  <thead>\n",
       "    <tr style=\"text-align: right;\">\n",
       "      <th></th>\n",
       "      <th>counts</th>\n",
       "      <th>%</th>\n",
       "    </tr>\n",
       "  </thead>\n",
       "  <tbody>\n",
       "    <tr>\n",
       "      <th>4</th>\n",
       "      <td>37683</td>\n",
       "      <td>51.2</td>\n",
       "    </tr>\n",
       "    <tr>\n",
       "      <th>5</th>\n",
       "      <td>18430</td>\n",
       "      <td>25.0</td>\n",
       "    </tr>\n",
       "    <tr>\n",
       "      <th>3</th>\n",
       "      <td>12945</td>\n",
       "      <td>17.6</td>\n",
       "    </tr>\n",
       "    <tr>\n",
       "      <th>6</th>\n",
       "      <td>3536</td>\n",
       "      <td>4.8</td>\n",
       "    </tr>\n",
       "    <tr>\n",
       "      <th>7</th>\n",
       "      <td>733</td>\n",
       "      <td>1.0</td>\n",
       "    </tr>\n",
       "    <tr>\n",
       "      <th>8</th>\n",
       "      <td>196</td>\n",
       "      <td>0.3</td>\n",
       "    </tr>\n",
       "    <tr>\n",
       "      <th>9</th>\n",
       "      <td>113</td>\n",
       "      <td>0.2</td>\n",
       "    </tr>\n",
       "    <tr>\n",
       "      <th>10</th>\n",
       "      <td>19</td>\n",
       "      <td>0.0</td>\n",
       "    </tr>\n",
       "    <tr>\n",
       "      <th>11</th>\n",
       "      <td>6</td>\n",
       "      <td>0.0</td>\n",
       "    </tr>\n",
       "    <tr>\n",
       "      <th>13</th>\n",
       "      <td>1</td>\n",
       "      <td>0.0</td>\n",
       "    </tr>\n",
       "  </tbody>\n",
       "</table>\n",
       "</div>"
      ],
      "text/plain": [
       "    counts     %\n",
       "4    37683  51.2\n",
       "5    18430  25.0\n",
       "3    12945  17.6\n",
       "6     3536   4.8\n",
       "7      733   1.0\n",
       "8      196   0.3\n",
       "9      113   0.2\n",
       "10      19   0.0\n",
       "11       6   0.0\n",
       "13       1   0.0"
      ]
     },
     "execution_count": 23,
     "metadata": {},
     "output_type": "execute_result"
    }
   ],
   "source": [
    "s1 = features_after_dedup_df.isotope_count.value_counts(normalize=False).rename('counts', inplace=True)\n",
    "s2 = round(features_after_dedup_df.isotope_count.value_counts(normalize=True)*100,1).rename('%', inplace=True)\n",
    "pd.concat([s1, s2], axis=1)"
   ]
  },
  {
   "cell_type": "code",
   "execution_count": null,
   "metadata": {},
   "outputs": [],
   "source": []
  }
 ],
 "metadata": {
  "kernelspec": {
   "display_name": "Python 3",
   "language": "python",
   "name": "python3"
  },
  "language_info": {
   "codemirror_mode": {
    "name": "ipython",
    "version": 3
   },
   "file_extension": ".py",
   "mimetype": "text/x-python",
   "name": "python",
   "nbconvert_exporter": "python",
   "pygments_lexer": "ipython3",
   "version": "3.8.5"
  }
 },
 "nbformat": 4,
 "nbformat_minor": 4
}
