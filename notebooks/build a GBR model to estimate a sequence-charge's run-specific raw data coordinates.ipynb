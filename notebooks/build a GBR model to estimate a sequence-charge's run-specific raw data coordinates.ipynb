{
 "cells": [
  {
   "cell_type": "markdown",
   "metadata": {},
   "source": [
    "This notebook takes the combined run- and experiment-wide metrics of each sequence-charge, and builds three raw data coordinate estimation models: one each for m/z, RT, and scan."
   ]
  },
  {
   "cell_type": "code",
   "execution_count": 1,
   "metadata": {},
   "outputs": [],
   "source": [
    "import pandas as pd\n",
    "import numpy as np\n",
    "import sys\n",
    "import pickle\n",
    "import glob\n",
    "import os\n",
    "import matplotlib.pyplot as plt"
   ]
  },
  {
   "cell_type": "code",
   "execution_count": 2,
   "metadata": {},
   "outputs": [],
   "source": [
    "from sklearn.ensemble import GradientBoostingRegressor\n",
    "from sklearn.model_selection import GridSearchCV,ShuffleSplit,RandomizedSearchCV"
   ]
  },
  {
   "cell_type": "code",
   "execution_count": 3,
   "metadata": {},
   "outputs": [],
   "source": [
    "from sklearn import preprocessing\n",
    "from sklearn.model_selection import train_test_split"
   ]
  },
  {
   "cell_type": "code",
   "execution_count": 4,
   "metadata": {},
   "outputs": [],
   "source": [
    "def GradientBooster(param_grid, n_jobs, X_train, y_train):\n",
    "    estimator = GradientBoostingRegressor()\n",
    "    cv = ShuffleSplit(n_splits=10, train_size=0.8, test_size=0.2, random_state=0)\n",
    "    classifier = GridSearchCV(estimator=estimator, cv=cv, param_grid=param_grid, n_jobs=n_jobs)\n",
    "#     classifier = RandomizedSearchCV(estimator=estimator, cv=cv, param_grid=param_grid, n_jobs=n_jobs)\n",
    "    classifier.fit(X_train, y_train)\n",
    "    print('best estimator found by grid search: {}'.format(classifier.best_estimator_))\n",
    "    return cv, classifier.best_estimator_\n"
   ]
  },
  {
   "cell_type": "code",
   "execution_count": 5,
   "metadata": {},
   "outputs": [],
   "source": [
    "file_sequence_charge_attribs_df = pd.read_pickle('/Users/darylwilding-mcbride/Downloads/experiments/dwm-test/coordinate-estimators/merged-run-library-sequence-attribs.pkl')"
   ]
  },
  {
   "cell_type": "code",
   "execution_count": 6,
   "metadata": {},
   "outputs": [
    {
     "data": {
      "text/plain": [
       "Index(['file_idx', 'sequence', 'charge', 'run_mz', 'run_scan', 'run_rt',\n",
       "       'run_intensity', 'cv_mz', 'cv_scan', 'cv_rt', 'cv_intensity',\n",
       "       'theoretical_mz', 'experiment_scan_mean', 'experiment_scan_std_dev',\n",
       "       'experiment_scan_peak_width', 'experiment_rt_mean',\n",
       "       'experiment_rt_std_dev', 'experiment_rt_peak_width',\n",
       "       'experiment_intensity_mean', 'experiment_intensity_std_dev',\n",
       "       'number_of_runs_identified', 'q_value', 'delta_mz', 'delta_mz_ppm',\n",
       "       'delta_scan', 'delta_rt'],\n",
       "      dtype='object')"
      ]
     },
     "execution_count": 6,
     "metadata": {},
     "output_type": "execute_result"
    }
   ],
   "source": [
    "file_sequence_charge_attribs_df.columns"
   ]
  },
  {
   "cell_type": "code",
   "execution_count": 7,
   "metadata": {},
   "outputs": [
    {
     "data": {
      "text/plain": [
       "array([ 0,  1,  2,  3,  4,  5,  6,  7,  8,  9, 10, 11, 12, 13, 14, 15, 16,\n",
       "       17, 18, 19])"
      ]
     },
     "execution_count": 7,
     "metadata": {},
     "output_type": "execute_result"
    }
   ],
   "source": [
    "file_sequence_charge_attribs_df.file_idx.unique()"
   ]
  },
  {
   "cell_type": "code",
   "execution_count": 8,
   "metadata": {},
   "outputs": [],
   "source": [
    "file_idx = 0"
   ]
  },
  {
   "cell_type": "markdown",
   "metadata": {},
   "source": [
    "#### X is the same for all the estimators"
   ]
  },
  {
   "cell_type": "code",
   "execution_count": 9,
   "metadata": {},
   "outputs": [],
   "source": [
    "# filter out rows not to be used in this training set\n",
    "file_sequence_charge_attribs_df = file_sequence_charge_attribs_df[(file_sequence_charge_attribs_df.file_idx == file_idx) & (file_sequence_charge_attribs_df.number_of_runs_identified > 5)]\n",
    "\n",
    "X = file_sequence_charge_attribs_df[['theoretical_mz','experiment_rt_mean','experiment_rt_std_dev','experiment_scan_mean','experiment_scan_std_dev','experiment_intensity_mean','experiment_intensity_std_dev']].values\n",
    "y = file_sequence_charge_attribs_df[['delta_mz_ppm','delta_scan','delta_rt','run_mz','run_scan','run_rt']].values\n",
    "X_train, X_test, y_train, y_test = train_test_split(X, y, test_size=0.1)"
   ]
  },
  {
   "cell_type": "code",
   "execution_count": 10,
   "metadata": {},
   "outputs": [
    {
     "data": {
      "text/html": [
       "<div>\n",
       "<style scoped>\n",
       "    .dataframe tbody tr th:only-of-type {\n",
       "        vertical-align: middle;\n",
       "    }\n",
       "\n",
       "    .dataframe tbody tr th {\n",
       "        vertical-align: top;\n",
       "    }\n",
       "\n",
       "    .dataframe thead th {\n",
       "        text-align: right;\n",
       "    }\n",
       "</style>\n",
       "<table border=\"1\" class=\"dataframe\">\n",
       "  <thead>\n",
       "    <tr style=\"text-align: right;\">\n",
       "      <th></th>\n",
       "      <th>file_idx</th>\n",
       "      <th>sequence</th>\n",
       "      <th>charge</th>\n",
       "      <th>run_mz</th>\n",
       "      <th>run_scan</th>\n",
       "      <th>run_rt</th>\n",
       "      <th>run_intensity</th>\n",
       "      <th>cv_mz</th>\n",
       "      <th>cv_scan</th>\n",
       "      <th>cv_rt</th>\n",
       "      <th>...</th>\n",
       "      <th>experiment_rt_std_dev</th>\n",
       "      <th>experiment_rt_peak_width</th>\n",
       "      <th>experiment_intensity_mean</th>\n",
       "      <th>experiment_intensity_std_dev</th>\n",
       "      <th>number_of_runs_identified</th>\n",
       "      <th>q_value</th>\n",
       "      <th>delta_mz</th>\n",
       "      <th>delta_mz_ppm</th>\n",
       "      <th>delta_scan</th>\n",
       "      <th>delta_rt</th>\n",
       "    </tr>\n",
       "  </thead>\n",
       "  <tbody>\n",
       "    <tr>\n",
       "      <th>0</th>\n",
       "      <td>0</td>\n",
       "      <td>AAAAAAAAAPAAAATAPTTAATTAATAAQ</td>\n",
       "      <td>2</td>\n",
       "      <td>1184.608639</td>\n",
       "      <td>74.415000</td>\n",
       "      <td>600.28</td>\n",
       "      <td>164401.000000</td>\n",
       "      <td>8.976665e-09</td>\n",
       "      <td>0.000873</td>\n",
       "      <td>0.000100</td>\n",
       "      <td>...</td>\n",
       "      <td>5.337039</td>\n",
       "      <td>17.374444</td>\n",
       "      <td>125019.777778</td>\n",
       "      <td>58280.792111</td>\n",
       "      <td>7</td>\n",
       "      <td>0.000003</td>\n",
       "      <td>-0.000087</td>\n",
       "      <td>-0.073821</td>\n",
       "      <td>0.010311</td>\n",
       "      <td>-0.003720</td>\n",
       "    </tr>\n",
       "    <tr>\n",
       "      <th>1</th>\n",
       "      <td>0</td>\n",
       "      <td>AAAAAAAAVPSAGPAGPAPTSAAGR</td>\n",
       "      <td>2</td>\n",
       "      <td>1016.532289</td>\n",
       "      <td>156.663333</td>\n",
       "      <td>486.69</td>\n",
       "      <td>53927.333333</td>\n",
       "      <td>6.659680e-08</td>\n",
       "      <td>0.013789</td>\n",
       "      <td>0.000058</td>\n",
       "      <td>...</td>\n",
       "      <td>3.195292</td>\n",
       "      <td>6.357111</td>\n",
       "      <td>62104.977778</td>\n",
       "      <td>10240.988909</td>\n",
       "      <td>20</td>\n",
       "      <td>0.000003</td>\n",
       "      <td>0.000163</td>\n",
       "      <td>0.160203</td>\n",
       "      <td>-0.020025</td>\n",
       "      <td>-0.005971</td>\n",
       "    </tr>\n",
       "    <tr>\n",
       "      <th>2</th>\n",
       "      <td>0</td>\n",
       "      <td>AAAAAWEEPSSGNGTAR</td>\n",
       "      <td>2</td>\n",
       "      <td>823.381841</td>\n",
       "      <td>535.110000</td>\n",
       "      <td>367.24</td>\n",
       "      <td>267193.000000</td>\n",
       "      <td>0.000000e+00</td>\n",
       "      <td>0.000000</td>\n",
       "      <td>0.000000</td>\n",
       "      <td>...</td>\n",
       "      <td>2.885489</td>\n",
       "      <td>6.129302</td>\n",
       "      <td>328849.938963</td>\n",
       "      <td>88335.911724</td>\n",
       "      <td>20</td>\n",
       "      <td>0.000003</td>\n",
       "      <td>-0.000035</td>\n",
       "      <td>-0.042087</td>\n",
       "      <td>0.002816</td>\n",
       "      <td>-0.010323</td>\n",
       "    </tr>\n",
       "    <tr>\n",
       "      <th>3</th>\n",
       "      <td>0</td>\n",
       "      <td>AAAAPVTGPLADDPIQETITFDDFAK</td>\n",
       "      <td>3</td>\n",
       "      <td>892.112865</td>\n",
       "      <td>468.230000</td>\n",
       "      <td>997.18</td>\n",
       "      <td>250956.000000</td>\n",
       "      <td>0.000000e+00</td>\n",
       "      <td>0.000000</td>\n",
       "      <td>0.000000</td>\n",
       "      <td>...</td>\n",
       "      <td>1.079070</td>\n",
       "      <td>6.400476</td>\n",
       "      <td>169897.333333</td>\n",
       "      <td>61422.767750</td>\n",
       "      <td>9</td>\n",
       "      <td>0.000003</td>\n",
       "      <td>-0.000178</td>\n",
       "      <td>-0.199050</td>\n",
       "      <td>0.008492</td>\n",
       "      <td>-0.000524</td>\n",
       "    </tr>\n",
       "    <tr>\n",
       "      <th>4</th>\n",
       "      <td>0</td>\n",
       "      <td>AAAEDVNVTFEDQQK</td>\n",
       "      <td>2</td>\n",
       "      <td>832.892072</td>\n",
       "      <td>488.330000</td>\n",
       "      <td>471.79</td>\n",
       "      <td>106272.000000</td>\n",
       "      <td>0.000000e+00</td>\n",
       "      <td>0.000000</td>\n",
       "      <td>0.000000</td>\n",
       "      <td>...</td>\n",
       "      <td>2.937441</td>\n",
       "      <td>8.617143</td>\n",
       "      <td>146153.692852</td>\n",
       "      <td>140254.885141</td>\n",
       "      <td>17</td>\n",
       "      <td>0.000003</td>\n",
       "      <td>0.000346</td>\n",
       "      <td>0.415758</td>\n",
       "      <td>0.002609</td>\n",
       "      <td>-0.005279</td>\n",
       "    </tr>\n",
       "  </tbody>\n",
       "</table>\n",
       "<p>5 rows × 26 columns</p>\n",
       "</div>"
      ],
      "text/plain": [
       "   file_idx                       sequence  charge       run_mz    run_scan  \\\n",
       "0         0  AAAAAAAAAPAAAATAPTTAATTAATAAQ       2  1184.608639   74.415000   \n",
       "1         0      AAAAAAAAVPSAGPAGPAPTSAAGR       2  1016.532289  156.663333   \n",
       "2         0              AAAAAWEEPSSGNGTAR       2   823.381841  535.110000   \n",
       "3         0     AAAAPVTGPLADDPIQETITFDDFAK       3   892.112865  468.230000   \n",
       "4         0                AAAEDVNVTFEDQQK       2   832.892072  488.330000   \n",
       "\n",
       "   run_rt  run_intensity         cv_mz   cv_scan     cv_rt  ...  \\\n",
       "0  600.28  164401.000000  8.976665e-09  0.000873  0.000100  ...   \n",
       "1  486.69   53927.333333  6.659680e-08  0.013789  0.000058  ...   \n",
       "2  367.24  267193.000000  0.000000e+00  0.000000  0.000000  ...   \n",
       "3  997.18  250956.000000  0.000000e+00  0.000000  0.000000  ...   \n",
       "4  471.79  106272.000000  0.000000e+00  0.000000  0.000000  ...   \n",
       "\n",
       "   experiment_rt_std_dev  experiment_rt_peak_width  experiment_intensity_mean  \\\n",
       "0               5.337039                 17.374444              125019.777778   \n",
       "1               3.195292                  6.357111               62104.977778   \n",
       "2               2.885489                  6.129302              328849.938963   \n",
       "3               1.079070                  6.400476              169897.333333   \n",
       "4               2.937441                  8.617143              146153.692852   \n",
       "\n",
       "   experiment_intensity_std_dev  number_of_runs_identified   q_value  \\\n",
       "0                  58280.792111                          7  0.000003   \n",
       "1                  10240.988909                         20  0.000003   \n",
       "2                  88335.911724                         20  0.000003   \n",
       "3                  61422.767750                          9  0.000003   \n",
       "4                 140254.885141                         17  0.000003   \n",
       "\n",
       "   delta_mz  delta_mz_ppm  delta_scan  delta_rt  \n",
       "0 -0.000087     -0.073821    0.010311 -0.003720  \n",
       "1  0.000163      0.160203   -0.020025 -0.005971  \n",
       "2 -0.000035     -0.042087    0.002816 -0.010323  \n",
       "3 -0.000178     -0.199050    0.008492 -0.000524  \n",
       "4  0.000346      0.415758    0.002609 -0.005279  \n",
       "\n",
       "[5 rows x 26 columns]"
      ]
     },
     "execution_count": 10,
     "metadata": {},
     "output_type": "execute_result"
    }
   ],
   "source": [
    "file_sequence_charge_attribs_df.head()"
   ]
  },
  {
   "cell_type": "markdown",
   "metadata": {},
   "source": [
    "#### m/z delta estimation model - estimate the m/z delta ppm as a proportion of the experiment-wide value"
   ]
  },
  {
   "cell_type": "code",
   "execution_count": 11,
   "metadata": {},
   "outputs": [],
   "source": [
    "y_train_delta_mz_ppm = y_train[:,0]\n",
    "y_test_delta_mz_ppm = y_test[:,0]"
   ]
  },
  {
   "cell_type": "raw",
   "metadata": {},
   "source": [
    "# search for the best model in the specified hyperparameter space\n",
    "param_grid = {'n_estimators':[100], 'learning_rate': [0.1, 0.05, 0.01], 'max_depth':[20, 10, 6, 4], 'min_samples_leaf':[3, 5, 9, 17], 'max_features':[1.0, 0.3, 0.1] }\n",
    "n_jobs = 4\n",
    "cv, best_estimator = GradientBooster(param_grid, n_jobs, X_train, y_train)"
   ]
  },
  {
   "cell_type": "code",
   "execution_count": 12,
   "metadata": {},
   "outputs": [],
   "source": [
    "best_mz_estimator = GradientBoostingRegressor(alpha=0.9, criterion='friedman_mse', init=None,\n",
    "                          learning_rate=0.1, loss='ls', max_depth=10,\n",
    "                          max_features=1.0, max_leaf_nodes=None,\n",
    "                          min_impurity_decrease=0.0, min_impurity_split=None,\n",
    "                          min_samples_leaf=5, min_samples_split=2,\n",
    "                          min_weight_fraction_leaf=0.0, n_estimators=1000,\n",
    "                          n_iter_no_change=None, presort='auto',\n",
    "                          random_state=None, subsample=1.0, tol=0.0001,\n",
    "                          validation_fraction=0.1, verbose=0, warm_start=False)"
   ]
  },
  {
   "cell_type": "code",
   "execution_count": 13,
   "metadata": {},
   "outputs": [
    {
     "name": "stdout",
     "output_type": "stream",
     "text": [
      "R-squared for training set (best model found): 0.9941861789087295\n"
     ]
    }
   ],
   "source": [
    "# use the best parameters to train the model\n",
    "best_mz_estimator.fit(X_train, y_train_delta_mz_ppm)\n",
    "print(\"R-squared for training set (best model found): {}\".format(best_mz_estimator.score(X_train, y_train_delta_mz_ppm)))"
   ]
  },
  {
   "cell_type": "code",
   "execution_count": 14,
   "metadata": {},
   "outputs": [],
   "source": [
    "# use the trained model to predict the m/z delta ppm for the test set\n",
    "y_test_predicted_delta_mz_ppm = best_mz_estimator.predict(X_test)"
   ]
  },
  {
   "cell_type": "code",
   "execution_count": 15,
   "metadata": {},
   "outputs": [],
   "source": [
    "mz_df = pd.DataFrame()\n",
    "mz_df['predicted_delta_mz_ppm'] = y_test_predicted_delta_mz_ppm  # the estimated delta\n",
    "mz_df['delta_rt'] = y_test_delta_mz_ppm  # the actual delta\n",
    "mz_df['actual_mz'] = y_test[:,3]  # the actual mz\n",
    "mz_df['experiment_mz'] = X_test[:,0]  # the experiment (theoretical) mz\n",
    "mz_df['estimated_mz'] = (mz_df.predicted_delta_mz_ppm / 1e6 * mz_df.experiment_mz) + mz_df.experiment_mz\n",
    "mz_df['error_mz_ppm'] = (mz_df.estimated_mz - mz_df.actual_mz) / mz_df.actual_mz * 1e6"
   ]
  },
  {
   "cell_type": "code",
   "execution_count": 16,
   "metadata": {},
   "outputs": [
    {
     "data": {
      "text/plain": [
       "1.0860512687999324"
      ]
     },
     "execution_count": 16,
     "metadata": {},
     "output_type": "execute_result"
    }
   ],
   "source": [
    "# calculate the RMSE (Root Mean Square Error, or the standard deviation of the residuals)\n",
    "np.std(mz_df.error_mz_ppm)"
   ]
  },
  {
   "cell_type": "code",
   "execution_count": 17,
   "metadata": {},
   "outputs": [
    {
     "data": {
      "image/png": "[encoded data removed]",
      "text/plain": [
       "<Figure size 1080x576 with 1 Axes>"
      ]
     },
     "metadata": {
      "needs_background": "light"
     },
     "output_type": "display_data"
    }
   ],
   "source": [
    "f, ax1 = plt.subplots()\n",
    "f.set_figheight(8)\n",
    "f.set_figwidth(15)\n",
    "\n",
    "plt.margins(0.06)\n",
    "plt.title('ppm error between estimated and measured m/z for the test set (N={})'.format(len(y_test_predicted_delta_mz_ppm)))\n",
    "\n",
    "bins = 100\n",
    "hist, bins, _ = plt.hist(mz_df.error_mz_ppm, bins=bins, label='m/z estimation error')\n",
    "plt.xlabel('m/z estimation error ppm')\n",
    "plt.ylabel('count')\n",
    "\n",
    "plt.show()"
   ]
  },
  {
   "cell_type": "markdown",
   "metadata": {},
   "source": [
    "#### scan estimation model - estimate the delta scan as a proportion of the experiment-wide value"
   ]
  },
  {
   "cell_type": "code",
   "execution_count": 18,
   "metadata": {},
   "outputs": [],
   "source": [
    "y_train_delta_scan = y_train[:,1]\n",
    "y_test_delta_scan = y_test[:,1]"
   ]
  },
  {
   "cell_type": "raw",
   "metadata": {},
   "source": [
    "# search for the best model in the specified hyperparameter space\n",
    "param_grid = {'n_estimators':[100], 'learning_rate': [0.1, 0.05, 0.02, 0.01], 'max_depth':[20, 10, 6, 4], 'min_samples_leaf':[3, 5, 9, 17], 'max_features':[1.0, 0.3, 0.1] }\n",
    "n_jobs = 4\n",
    "cv, best_estimator = GradientBooster(param_grid, n_jobs, X_train, y_train)"
   ]
  },
  {
   "cell_type": "code",
   "execution_count": 19,
   "metadata": {},
   "outputs": [],
   "source": [
    "best_scan_estimator = GradientBoostingRegressor(alpha=0.9, criterion='friedman_mse', init=None,\n",
    "                          learning_rate=0.1, loss='ls', max_depth=10,\n",
    "                          max_features=1.0, max_leaf_nodes=None,\n",
    "                          min_impurity_decrease=0.0, min_impurity_split=None,\n",
    "                          min_samples_leaf=5, min_samples_split=2,\n",
    "                          min_weight_fraction_leaf=0.0, n_estimators=1000,\n",
    "                          n_iter_no_change=None, presort='auto',\n",
    "                          random_state=None, subsample=1.0, tol=0.0001,\n",
    "                          validation_fraction=0.1, verbose=0, warm_start=False)"
   ]
  },
  {
   "cell_type": "code",
   "execution_count": 20,
   "metadata": {},
   "outputs": [
    {
     "name": "stdout",
     "output_type": "stream",
     "text": [
      "R-squared for training set (best model found): 0.9995026396871697\n"
     ]
    }
   ],
   "source": [
    "# use the best parameters to train the model\n",
    "best_scan_estimator.fit(X_train, y_train_delta_scan)\n",
    "print(\"R-squared for training set (best model found): {}\".format(best_scan_estimator.score(X_train, y_train_delta_scan)))"
   ]
  },
  {
   "cell_type": "code",
   "execution_count": 21,
   "metadata": {},
   "outputs": [],
   "source": [
    "# use the trained model to predict the scan for the test set\n",
    "y_test_predicted_delta_scan = best_scan_estimator.predict(X_test)"
   ]
  },
  {
   "cell_type": "code",
   "execution_count": 22,
   "metadata": {},
   "outputs": [],
   "source": [
    "scan_df = pd.DataFrame()\n",
    "scan_df['predicted_delta_scan'] = y_test_predicted_delta_scan\n",
    "scan_df['delta_scan'] = y_test_delta_scan\n",
    "scan_df['actual_scan'] = y_test[:,4]\n",
    "scan_df['experiment_scan'] = X_test[:,3]\n",
    "scan_df['estimated_scan'] = (scan_df.predicted_delta_scan * scan_df.experiment_scan) + scan_df.experiment_scan\n",
    "scan_df['error_scan'] = scan_df.estimated_scan - scan_df.actual_scan"
   ]
  },
  {
   "cell_type": "code",
   "execution_count": 23,
   "metadata": {},
   "outputs": [
    {
     "data": {
      "text/plain": [
       "6.43342108646945"
      ]
     },
     "execution_count": 23,
     "metadata": {},
     "output_type": "execute_result"
    }
   ],
   "source": [
    "# calculate the RMSE (Root Mean Square Error, or the standard deviation of the residuals)\n",
    "np.std(scan_df.error_scan)"
   ]
  },
  {
   "cell_type": "code",
   "execution_count": 24,
   "metadata": {},
   "outputs": [
    {
     "data": {
      "image/png": "[encoded data removed]",
      "text/plain": [
       "<Figure size 1080x576 with 1 Axes>"
      ]
     },
     "metadata": {
      "needs_background": "light"
     },
     "output_type": "display_data"
    }
   ],
   "source": [
    "f, ax1 = plt.subplots()\n",
    "f.set_figheight(8)\n",
    "f.set_figwidth(15)\n",
    "\n",
    "plt.margins(0.06)\n",
    "plt.title('error between estimated and measured scan for the test set (N={})'.format(len(y_test_predicted_delta_scan)))\n",
    "\n",
    "bins = 100\n",
    "hist, bins, _ = plt.hist(scan_df.error_scan, bins=bins, label='scan error')\n",
    "plt.xlabel('scan estimation error')\n",
    "plt.ylabel('count')\n",
    "\n",
    "plt.show()"
   ]
  },
  {
   "cell_type": "markdown",
   "metadata": {},
   "source": [
    "#### RT estimation model - estimate the RT delta as a proportion of the experiment-wide value"
   ]
  },
  {
   "cell_type": "code",
   "execution_count": 25,
   "metadata": {},
   "outputs": [],
   "source": [
    "y_train_delta_rt = y_train[:,2]\n",
    "y_test_delta_rt = y_test[:,2]"
   ]
  },
  {
   "cell_type": "raw",
   "metadata": {},
   "source": [
    "# search for the best model in the specified hyperparameter space\n",
    "param_grid = {'n_estimators':[500, 800, 1000], 'learning_rate': [0.1, 0.05, 0.02, 0.01], 'max_depth':[20, 10, 6, 4], 'min_samples_leaf':[3, 5, 9, 17], 'max_features':[1.0, 0.3, 0.1] }\n",
    "n_jobs = 4\n",
    "cv, best_estimator = GradientBooster(param_grid, n_jobs, X_train, y_train_delta_rt)\n"
   ]
  },
  {
   "cell_type": "code",
   "execution_count": 26,
   "metadata": {},
   "outputs": [],
   "source": [
    "best_rt_estimator = GradientBoostingRegressor(alpha=0.9, criterion='friedman_mse', init=None,\n",
    "                          learning_rate=0.1, loss='ls', max_depth=10,\n",
    "                          max_features=1.0, max_leaf_nodes=None,\n",
    "                          min_impurity_decrease=0.0, min_impurity_split=None,\n",
    "                          min_samples_leaf=5, min_samples_split=2,\n",
    "                          min_weight_fraction_leaf=0.0, n_estimators=1000,\n",
    "                          n_iter_no_change=None, presort='auto',\n",
    "                          random_state=None, subsample=1.0, tol=0.0001,\n",
    "                          validation_fraction=0.1, verbose=0, warm_start=False)"
   ]
  },
  {
   "cell_type": "code",
   "execution_count": 27,
   "metadata": {},
   "outputs": [
    {
     "name": "stdout",
     "output_type": "stream",
     "text": [
      "R-squared for training set (best model found): 0.9974296594661036\n"
     ]
    }
   ],
   "source": [
    "# use the best parameters to train the model\n",
    "best_rt_estimator.fit(X_train, y_train_delta_rt)\n",
    "print(\"R-squared for training set (best model found): {}\".format(best_rt_estimator.score(X_train, y_train_delta_rt)))"
   ]
  },
  {
   "cell_type": "code",
   "execution_count": 28,
   "metadata": {},
   "outputs": [],
   "source": [
    "# use the trained model to predict the scan for the test set\n",
    "y_test_predicted_delta_rt = best_rt_estimator.predict(X_test)"
   ]
  },
  {
   "cell_type": "code",
   "execution_count": 29,
   "metadata": {},
   "outputs": [],
   "source": [
    "rt_df = pd.DataFrame()\n",
    "rt_df['predicted_delta_rt'] = y_test_predicted_delta_rt\n",
    "rt_df['delta_rt'] = y_test_delta_rt\n",
    "rt_df['actual_rt'] = y_test[:,5]\n",
    "rt_df['experiment_rt'] = X_test[:,1]\n",
    "rt_df['estimated_rt'] = (rt_df.predicted_delta_rt * rt_df.experiment_rt) + rt_df.experiment_rt\n",
    "rt_df['error_rt'] = rt_df.estimated_rt - rt_df.actual_rt"
   ]
  },
  {
   "cell_type": "code",
   "execution_count": 30,
   "metadata": {},
   "outputs": [
    {
     "data": {
      "text/plain": [
       "5.376422361870001"
      ]
     },
     "execution_count": 30,
     "metadata": {},
     "output_type": "execute_result"
    }
   ],
   "source": [
    "# calculate the RMSE (Root Mean Square Error, or the standard deviation of the residuals)\n",
    "np.std(rt_df.error_rt)"
   ]
  },
  {
   "cell_type": "code",
   "execution_count": 31,
   "metadata": {},
   "outputs": [
    {
     "data": {
      "image/png": "[encoded data removed]",
      "text/plain": [
       "<Figure size 1080x576 with 1 Axes>"
      ]
     },
     "metadata": {
      "needs_background": "light"
     },
     "output_type": "display_data"
    }
   ],
   "source": [
    "f, ax1 = plt.subplots()\n",
    "f.set_figheight(8)\n",
    "f.set_figwidth(15)\n",
    "\n",
    "plt.margins(0.06)\n",
    "plt.title('error between estimated and measured RT for the test set (N={})'.format(len(y_test_predicted_delta_rt)))\n",
    "\n",
    "bins = 100\n",
    "hist, bins, _ = plt.hist(rt_df.error_rt, bins=bins, label='RT error')\n",
    "plt.xlabel('RT estimation error (seconds)')\n",
    "plt.ylabel('count')\n",
    "\n",
    "plt.show()"
   ]
  },
  {
   "cell_type": "code",
   "execution_count": null,
   "metadata": {},
   "outputs": [],
   "source": []
  }
 ],
 "metadata": {
  "kernelspec": {
   "display_name": "Python 3",
   "language": "python",
   "name": "python3"
  },
  "language_info": {
   "codemirror_mode": {
    "name": "ipython",
    "version": 3
   },
   "file_extension": ".py",
   "mimetype": "text/x-python",
   "name": "python",
   "nbconvert_exporter": "python",
   "pygments_lexer": "ipython3",
   "version": "3.6.8"
  }
 },
 "nbformat": 4,
 "nbformat_minor": 2
}
