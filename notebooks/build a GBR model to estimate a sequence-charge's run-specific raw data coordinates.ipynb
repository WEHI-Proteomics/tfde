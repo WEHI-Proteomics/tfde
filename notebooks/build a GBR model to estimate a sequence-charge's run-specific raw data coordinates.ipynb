{
 "cells": [
  {
   "cell_type": "markdown",
   "metadata": {},
   "source": [
    "This notebook takes the combined run- and experiment-wide metrics of each sequence-charge, and builds three raw data coordinate estimation models: one each for m/z, RT, and scan."
   ]
  },
  {
   "cell_type": "code",
   "execution_count": 1,
   "metadata": {},
   "outputs": [],
   "source": [
    "import pandas as pd\n",
    "import numpy as np\n",
    "import sys\n",
    "import pickle\n",
    "import glob\n",
    "import os\n",
    "import matplotlib.pyplot as plt"
   ]
  },
  {
   "cell_type": "code",
   "execution_count": 2,
   "metadata": {},
   "outputs": [],
   "source": [
    "from sklearn.ensemble import GradientBoostingRegressor\n",
    "from sklearn.model_selection import GridSearchCV,ShuffleSplit,RandomizedSearchCV"
   ]
  },
  {
   "cell_type": "code",
   "execution_count": 3,
   "metadata": {},
   "outputs": [],
   "source": [
    "from sklearn import preprocessing\n",
    "from sklearn.model_selection import train_test_split"
   ]
  },
  {
   "cell_type": "code",
   "execution_count": 4,
   "metadata": {},
   "outputs": [],
   "source": [
    "def GradientBooster(param_grid, n_jobs, X_train, y_train):\n",
    "    estimator = GradientBoostingRegressor()\n",
    "    cv = ShuffleSplit(n_splits=10, train_size=0.8, test_size=0.2, random_state=0)\n",
    "    classifier = GridSearchCV(estimator=estimator, cv=cv, param_grid=param_grid, n_jobs=n_jobs)\n",
    "#     classifier = RandomizedSearchCV(estimator=estimator, cv=cv, param_grid=param_grid, n_jobs=n_jobs)\n",
    "    classifier.fit(X_train, y_train)\n",
    "    print('best estimator found by grid search: {}'.format(classifier.best_estimator_))\n",
    "    return cv, classifier.best_estimator_\n"
   ]
  },
  {
   "cell_type": "code",
   "execution_count": 5,
   "metadata": {},
   "outputs": [],
   "source": [
    "file_sequence_charge_attribs_df = pd.read_pickle('/Users/darylwilding-mcbride/Downloads/experiments/190719_Hela_Ecoli/training-sets/file-sequence-charge-attribs-df.pkl')"
   ]
  },
  {
   "cell_type": "code",
   "execution_count": 6,
   "metadata": {},
   "outputs": [
    {
     "data": {
      "text/plain": [
       "array([ 0,  1,  2,  3,  4,  5,  6,  7,  8,  9, 10, 11, 12, 13, 14, 15, 16,\n",
       "       17, 18, 19])"
      ]
     },
     "execution_count": 6,
     "metadata": {},
     "output_type": "execute_result"
    }
   ],
   "source": [
    "file_sequence_charge_attribs_df.file_idx.unique()"
   ]
  },
  {
   "cell_type": "code",
   "execution_count": 7,
   "metadata": {},
   "outputs": [],
   "source": [
    "file_idx = 0"
   ]
  },
  {
   "cell_type": "markdown",
   "metadata": {},
   "source": [
    "#### X is the same for all the estimators"
   ]
  },
  {
   "cell_type": "code",
   "execution_count": 8,
   "metadata": {},
   "outputs": [],
   "source": [
    "X = file_sequence_charge_attribs_df[file_sequence_charge_attribs_df.file_idx == file_idx][['theoretical_mz','experiment_rt_mean','experiment_rt_std_dev','experiment_scan_mean','experiment_scan_std_dev','experiment_intensity_mean']].values\n",
    "y = file_sequence_charge_attribs_df[file_sequence_charge_attribs_df.file_idx == file_idx][['delta_mz_ppm','delta_scan','delta_rt','run_mz','run_scan','run_rt']].values\n",
    "X_train, X_test, y_train, y_test = train_test_split(X, y, test_size=0.1)"
   ]
  },
  {
   "cell_type": "markdown",
   "metadata": {},
   "source": [
    "#### m/z delta estimation model - estimate the m/z delta ppm as a proportion of the experiment-wide value"
   ]
  },
  {
   "cell_type": "code",
   "execution_count": 9,
   "metadata": {},
   "outputs": [],
   "source": [
    "y_train_delta_mz_ppm = y_train[:,0]\n",
    "y_test_delta_mz_ppm = y_test[:,0]"
   ]
  },
  {
   "cell_type": "raw",
   "metadata": {},
   "source": [
    "# search for the best model in the specified hyperparameter space\n",
    "param_grid = {'n_estimators':[100], 'learning_rate': [0.1, 0.05, 0.01], 'max_depth':[20, 10, 6, 4], 'min_samples_leaf':[3, 5, 9, 17], 'max_features':[1.0, 0.3, 0.1] }\n",
    "n_jobs = 4\n",
    "cv, best_estimator = GradientBooster(param_grid, n_jobs, X_train, y_train)"
   ]
  },
  {
   "cell_type": "code",
   "execution_count": 10,
   "metadata": {},
   "outputs": [],
   "source": [
    "best_mz_estimator = GradientBoostingRegressor(alpha=0.9, criterion='friedman_mse', init=None,\n",
    "                          learning_rate=0.1, loss='ls', max_depth=10,\n",
    "                          max_features=1.0, max_leaf_nodes=None,\n",
    "                          min_impurity_decrease=0.0, min_impurity_split=None,\n",
    "                          min_samples_leaf=5, min_samples_split=2,\n",
    "                          min_weight_fraction_leaf=0.0, n_estimators=1000,\n",
    "                          n_iter_no_change=None, presort='auto',\n",
    "                          random_state=None, subsample=1.0, tol=0.0001,\n",
    "                          validation_fraction=0.1, verbose=0, warm_start=False)"
   ]
  },
  {
   "cell_type": "code",
   "execution_count": 11,
   "metadata": {},
   "outputs": [
    {
     "name": "stdout",
     "output_type": "stream",
     "text": [
      "R-squared for training set (best model found): 0.9831351689142469\n"
     ]
    }
   ],
   "source": [
    "# use the best parameters to train the model\n",
    "best_mz_estimator.fit(X_train, y_train_delta_mz_ppm)\n",
    "print(\"R-squared for training set (best model found): {}\".format(best_mz_estimator.score(X_train, y_train_delta_mz_ppm)))"
   ]
  },
  {
   "cell_type": "code",
   "execution_count": 12,
   "metadata": {},
   "outputs": [],
   "source": [
    "# use the trained model to predict the m/z delta ppm for the test set\n",
    "y_test_predicted_delta_mz_ppm = best_mz_estimator.predict(X_test)"
   ]
  },
  {
   "cell_type": "code",
   "execution_count": 13,
   "metadata": {},
   "outputs": [],
   "source": [
    "mz_df = pd.DataFrame()\n",
    "mz_df['predicted_delta_mz_ppm'] = y_test_predicted_delta_mz_ppm  # the estimated delta\n",
    "mz_df['delta_rt'] = y_test_delta_mz_ppm  # the actual delta\n",
    "mz_df['actual_mz'] = y_test[:,3]  # the actual mz\n",
    "mz_df['experiment_mz'] = X_test[:,0]  # the experiment (theoretical) mz\n",
    "mz_df['estimated_mz'] = (mz_df.predicted_delta_mz_ppm / 1e6 * mz_df.experiment_mz) + mz_df.experiment_mz\n",
    "mz_df['error_mz_ppm'] = (mz_df.estimated_mz - mz_df.actual_mz) / mz_df.actual_mz * 1e6"
   ]
  },
  {
   "cell_type": "code",
   "execution_count": 14,
   "metadata": {},
   "outputs": [
    {
     "data": {
      "image/png": "[encoded data removed]",
      "text/plain": [
       "<Figure size 1080x576 with 1 Axes>"
      ]
     },
     "metadata": {
      "needs_background": "light"
     },
     "output_type": "display_data"
    }
   ],
   "source": [
    "f, ax1 = plt.subplots()\n",
    "f.set_figheight(8)\n",
    "f.set_figwidth(15)\n",
    "\n",
    "plt.margins(0.06)\n",
    "plt.title('ppm error between estimated and measured m/z for the test set (N={})'.format(len(y_test_predicted_delta_mz_ppm)))\n",
    "\n",
    "bins = 100\n",
    "hist, bins, _ = plt.hist(mz_df.error_mz_ppm, bins=bins, label='m/z estimation error')\n",
    "plt.xlabel('estimation error m/z')\n",
    "plt.ylabel('count')\n",
    "\n",
    "plt.show()"
   ]
  },
  {
   "cell_type": "code",
   "execution_count": 15,
   "metadata": {},
   "outputs": [],
   "source": [
    "# save the trained model\n",
    "with open('/Users/darylwilding-mcbride/Downloads/experiments/190719_Hela_Ecoli/trained-models/file-0-mz-model.pkl', 'wb') as file:\n",
    "    pickle.dump(best_mz_estimator, file)"
   ]
  },
  {
   "cell_type": "markdown",
   "metadata": {},
   "source": [
    "#### scan estimation model - estimate the delta scan as a proportion of the experiment-wide value"
   ]
  },
  {
   "cell_type": "code",
   "execution_count": 16,
   "metadata": {},
   "outputs": [],
   "source": [
    "y_train_delta_scan = y_train[:,1]\n",
    "y_test_delta_scan = y_test[:,1]"
   ]
  },
  {
   "cell_type": "raw",
   "metadata": {},
   "source": [
    "# search for the best model in the specified hyperparameter space\n",
    "param_grid = {'n_estimators':[100], 'learning_rate': [0.1, 0.05, 0.02, 0.01], 'max_depth':[20, 10, 6, 4], 'min_samples_leaf':[3, 5, 9, 17], 'max_features':[1.0, 0.3, 0.1] }\n",
    "n_jobs = 4\n",
    "cv, best_estimator = GradientBooster(param_grid, n_jobs, X_train, y_train)"
   ]
  },
  {
   "cell_type": "code",
   "execution_count": 17,
   "metadata": {},
   "outputs": [],
   "source": [
    "best_scan_estimator = GradientBoostingRegressor(alpha=0.9, criterion='friedman_mse', init=None,\n",
    "                          learning_rate=0.1, loss='ls', max_depth=10,\n",
    "                          max_features=1.0, max_leaf_nodes=None,\n",
    "                          min_impurity_decrease=0.0, min_impurity_split=None,\n",
    "                          min_samples_leaf=5, min_samples_split=2,\n",
    "                          min_weight_fraction_leaf=0.0, n_estimators=1000,\n",
    "                          n_iter_no_change=None, presort='auto',\n",
    "                          random_state=None, subsample=1.0, tol=0.0001,\n",
    "                          validation_fraction=0.1, verbose=0, warm_start=False)"
   ]
  },
  {
   "cell_type": "code",
   "execution_count": 18,
   "metadata": {},
   "outputs": [
    {
     "name": "stdout",
     "output_type": "stream",
     "text": [
      "R-squared for training set (best model found): 0.9986823294655498\n"
     ]
    }
   ],
   "source": [
    "# use the best parameters to train the model\n",
    "best_scan_estimator.fit(X_train, y_train_delta_scan)\n",
    "print(\"R-squared for training set (best model found): {}\".format(best_scan_estimator.score(X_train, y_train_delta_scan)))"
   ]
  },
  {
   "cell_type": "code",
   "execution_count": 19,
   "metadata": {},
   "outputs": [],
   "source": [
    "# use the trained model to predict the scan for the test set\n",
    "y_test_predicted_delta_scan = best_scan_estimator.predict(X_test)"
   ]
  },
  {
   "cell_type": "code",
   "execution_count": 20,
   "metadata": {},
   "outputs": [],
   "source": [
    "scan_df = pd.DataFrame()\n",
    "scan_df['predicted_delta_scan'] = y_test_predicted_delta_scan\n",
    "scan_df['delta_scan'] = y_test_delta_scan\n",
    "scan_df['actual_scan'] = y_test[:,4]\n",
    "scan_df['experiment_scan'] = X_test[:,3]\n",
    "scan_df['estimated_scan'] = (scan_df.predicted_delta_scan * scan_df.experiment_scan) + scan_df.experiment_scan\n",
    "scan_df['error_scan'] = scan_df.estimated_scan - scan_df.actual_scan"
   ]
  },
  {
   "cell_type": "code",
   "execution_count": 21,
   "metadata": {},
   "outputs": [
    {
     "data": {
      "image/png": "[encoded data removed]",
      "text/plain": [
       "<Figure size 1080x576 with 1 Axes>"
      ]
     },
     "metadata": {
      "needs_background": "light"
     },
     "output_type": "display_data"
    }
   ],
   "source": [
    "f, ax1 = plt.subplots()\n",
    "f.set_figheight(8)\n",
    "f.set_figwidth(15)\n",
    "\n",
    "plt.margins(0.06)\n",
    "plt.title('error between estimated and measured scan for the test set (N={})'.format(len(y_test_predicted_delta_scan)))\n",
    "\n",
    "bins = 100\n",
    "hist, bins, _ = plt.hist(scan_df.error_scan, bins=bins, label='scan error')\n",
    "plt.xlabel('estimation error scan')\n",
    "plt.ylabel('count')\n",
    "\n",
    "plt.show()"
   ]
  },
  {
   "cell_type": "code",
   "execution_count": 22,
   "metadata": {},
   "outputs": [],
   "source": [
    "# save the trained model\n",
    "with open('/Users/darylwilding-mcbride/Downloads/experiments/190719_Hela_Ecoli/trained-models/file-0-scan-model.pkl', 'wb') as file:\n",
    "    pickle.dump(best_scan_estimator, file)"
   ]
  },
  {
   "cell_type": "markdown",
   "metadata": {},
   "source": [
    "#### RT estimation model - estimate the RT delta as a proportion of the experiment-wide value"
   ]
  },
  {
   "cell_type": "code",
   "execution_count": 23,
   "metadata": {},
   "outputs": [],
   "source": [
    "y_train_delta_rt = y_train[:,2]\n",
    "y_test_delta_rt = y_test[:,2]"
   ]
  },
  {
   "cell_type": "raw",
   "metadata": {},
   "source": [
    "# search for the best model in the specified hyperparameter space\n",
    "param_grid = {'n_estimators':[500, 800, 1000], 'learning_rate': [0.1, 0.05, 0.02, 0.01], 'max_depth':[20, 10, 6, 4], 'min_samples_leaf':[3, 5, 9, 17], 'max_features':[1.0, 0.3, 0.1] }\n",
    "n_jobs = 4\n",
    "cv, best_estimator = GradientBooster(param_grid, n_jobs, X_train, y_train_delta_rt)\n"
   ]
  },
  {
   "cell_type": "code",
   "execution_count": 24,
   "metadata": {},
   "outputs": [],
   "source": [
    "best_rt_estimator = GradientBoostingRegressor(alpha=0.9, criterion='friedman_mse', init=None,\n",
    "                          learning_rate=0.1, loss='ls', max_depth=10,\n",
    "                          max_features=1.0, max_leaf_nodes=None,\n",
    "                          min_impurity_decrease=0.0, min_impurity_split=None,\n",
    "                          min_samples_leaf=5, min_samples_split=2,\n",
    "                          min_weight_fraction_leaf=0.0, n_estimators=1000,\n",
    "                          n_iter_no_change=None, presort='auto',\n",
    "                          random_state=None, subsample=1.0, tol=0.0001,\n",
    "                          validation_fraction=0.1, verbose=0, warm_start=False)"
   ]
  },
  {
   "cell_type": "code",
   "execution_count": 25,
   "metadata": {},
   "outputs": [
    {
     "name": "stdout",
     "output_type": "stream",
     "text": [
      "R-squared for training set (best model found): 0.9989630336796256\n"
     ]
    }
   ],
   "source": [
    "# use the best parameters to train the model\n",
    "best_rt_estimator.fit(X_train, y_train_delta_rt)\n",
    "print(\"R-squared for training set (best model found): {}\".format(best_rt_estimator.score(X_train, y_train_delta_rt)))"
   ]
  },
  {
   "cell_type": "code",
   "execution_count": 26,
   "metadata": {},
   "outputs": [],
   "source": [
    "# use the trained model to predict the scan for the test set\n",
    "y_test_predicted_delta_rt = best_rt_estimator.predict(X_test)"
   ]
  },
  {
   "cell_type": "code",
   "execution_count": 27,
   "metadata": {},
   "outputs": [],
   "source": [
    "rt_df = pd.DataFrame()\n",
    "rt_df['predicted_delta_rt'] = y_test_predicted_delta_rt\n",
    "rt_df['delta_rt'] = y_test_delta_rt\n",
    "rt_df['actual_rt'] = y_test[:,5]\n",
    "rt_df['experiment_rt'] = X_test[:,1]\n",
    "rt_df['estimated_rt'] = (rt_df.predicted_delta_rt * rt_df.experiment_rt) + rt_df.experiment_rt\n",
    "rt_df['error_rt'] = rt_df.estimated_rt - rt_df.actual_rt"
   ]
  },
  {
   "cell_type": "code",
   "execution_count": 28,
   "metadata": {},
   "outputs": [
    {
     "data": {
      "image/png": "[encoded data removed]",
      "text/plain": [
       "<Figure size 1080x576 with 1 Axes>"
      ]
     },
     "metadata": {
      "needs_background": "light"
     },
     "output_type": "display_data"
    }
   ],
   "source": [
    "f, ax1 = plt.subplots()\n",
    "f.set_figheight(8)\n",
    "f.set_figwidth(15)\n",
    "\n",
    "plt.margins(0.06)\n",
    "plt.title('Error of RT estimation for the test set')\n",
    "\n",
    "bins = 100\n",
    "hist, bins, _ = plt.hist(rt_df.error_rt, bins=bins, label='RT error')\n",
    "plt.xlabel('estimated RT delta for the test set (seconds)')\n",
    "plt.ylabel('count')\n",
    "\n",
    "plt.show()"
   ]
  },
  {
   "cell_type": "code",
   "execution_count": 29,
   "metadata": {},
   "outputs": [],
   "source": [
    "# save the trained model\n",
    "with open('/Users/darylwilding-mcbride/Downloads/experiments/190719_Hela_Ecoli/trained-models/file-0-rt-model.pkl', 'wb') as file:\n",
    "    pickle.dump(best_rt_estimator, file)"
   ]
  },
  {
   "cell_type": "code",
   "execution_count": null,
   "metadata": {},
   "outputs": [],
   "source": []
  }
 ],
 "metadata": {
  "kernelspec": {
   "display_name": "Python 3",
   "language": "python",
   "name": "python3"
  },
  "language_info": {
   "codemirror_mode": {
    "name": "ipython",
    "version": 3
   },
   "file_extension": ".py",
   "mimetype": "text/x-python",
   "name": "python",
   "nbconvert_exporter": "python",
   "pygments_lexer": "ipython3",
   "version": "3.6.8"
  }
 },
 "nbformat": 4,
 "nbformat_minor": 2
}
