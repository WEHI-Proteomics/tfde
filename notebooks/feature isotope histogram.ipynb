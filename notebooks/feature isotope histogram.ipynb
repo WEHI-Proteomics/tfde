{
 "cells": [
  {
   "cell_type": "code",
   "execution_count": 1,
   "metadata": {},
   "outputs": [],
   "source": [
    "import pandas as pd\n",
    "import sqlite3\n",
    "import numpy as np\n",
    "import matplotlib.pyplot as plt\n",
    "import json"
   ]
  },
  {
   "cell_type": "code",
   "execution_count": 2,
   "metadata": {},
   "outputs": [],
   "source": [
    "feature_list_filename = \"/home/ubuntu/HeLa_20KInt/HeLa_20KInt-feature-list.csv\"\n",
    "feature_list_df = pd.read_csv(feature_list_filename)"
   ]
  },
  {
   "cell_type": "code",
   "execution_count": 3,
   "metadata": {},
   "outputs": [
    {
     "data": {
      "text/html": [
       "<div>\n",
       "<style scoped>\n",
       "    .dataframe tbody tr th:only-of-type {\n",
       "        vertical-align: middle;\n",
       "    }\n",
       "\n",
       "    .dataframe tbody tr th {\n",
       "        vertical-align: top;\n",
       "    }\n",
       "\n",
       "    .dataframe thead th {\n",
       "        text-align: right;\n",
       "    }\n",
       "</style>\n",
       "<table border=\"1\" class=\"dataframe\">\n",
       "  <thead>\n",
       "    <tr style=\"text-align: right;\">\n",
       "      <th></th>\n",
       "      <th>feature_id</th>\n",
       "      <th>charge_state</th>\n",
       "      <th>monoisotopic_mass</th>\n",
       "      <th>centroid_scan</th>\n",
       "      <th>centroid_rt</th>\n",
       "      <th>centroid_mz</th>\n",
       "      <th>base_peak_centroid_mz</th>\n",
       "      <th>start_rt</th>\n",
       "      <th>end_rt</th>\n",
       "      <th>scan_lower</th>\n",
       "      <th>scan_upper</th>\n",
       "      <th>summed_intensity</th>\n",
       "      <th>isotope_count</th>\n",
       "    </tr>\n",
       "  </thead>\n",
       "  <tbody>\n",
       "    <tr>\n",
       "      <th>0</th>\n",
       "      <td>1</td>\n",
       "      <td>3</td>\n",
       "      <td>1960.915588</td>\n",
       "      <td>680.366484</td>\n",
       "      <td>4013.127018</td>\n",
       "      <td>654.717577</td>\n",
       "      <td>654.645757</td>\n",
       "      <td>4005.957188</td>\n",
       "      <td>4021.318195</td>\n",
       "      <td>668</td>\n",
       "      <td>688</td>\n",
       "      <td>7033805</td>\n",
       "      <td>2</td>\n",
       "    </tr>\n",
       "    <tr>\n",
       "      <th>1</th>\n",
       "      <td>2</td>\n",
       "      <td>2</td>\n",
       "      <td>1247.602054</td>\n",
       "      <td>574.224714</td>\n",
       "      <td>1085.766969</td>\n",
       "      <td>625.127677</td>\n",
       "      <td>624.809083</td>\n",
       "      <td>1075.177570</td>\n",
       "      <td>1097.628037</td>\n",
       "      <td>565</td>\n",
       "      <td>585</td>\n",
       "      <td>6018645</td>\n",
       "      <td>4</td>\n",
       "    </tr>\n",
       "    <tr>\n",
       "      <th>2</th>\n",
       "      <td>3</td>\n",
       "      <td>2</td>\n",
       "      <td>1789.900380</td>\n",
       "      <td>379.472823</td>\n",
       "      <td>4433.432999</td>\n",
       "      <td>896.216859</td>\n",
       "      <td>896.459161</td>\n",
       "      <td>4421.919624</td>\n",
       "      <td>4439.635599</td>\n",
       "      <td>367</td>\n",
       "      <td>387</td>\n",
       "      <td>4045015</td>\n",
       "      <td>3</td>\n",
       "    </tr>\n",
       "    <tr>\n",
       "      <th>3</th>\n",
       "      <td>4</td>\n",
       "      <td>2</td>\n",
       "      <td>1405.719333</td>\n",
       "      <td>527.432220</td>\n",
       "      <td>4034.358108</td>\n",
       "      <td>704.126734</td>\n",
       "      <td>703.867085</td>\n",
       "      <td>4022.496117</td>\n",
       "      <td>4044.962866</td>\n",
       "      <td>519</td>\n",
       "      <td>539</td>\n",
       "      <td>8039223</td>\n",
       "      <td>5</td>\n",
       "    </tr>\n",
       "    <tr>\n",
       "      <th>4</th>\n",
       "      <td>5</td>\n",
       "      <td>2</td>\n",
       "      <td>2214.082282</td>\n",
       "      <td>231.310785</td>\n",
       "      <td>5002.872698</td>\n",
       "      <td>1108.270682</td>\n",
       "      <td>1108.049241</td>\n",
       "      <td>4991.075059</td>\n",
       "      <td>5008.786578</td>\n",
       "      <td>221</td>\n",
       "      <td>241</td>\n",
       "      <td>2472405</td>\n",
       "      <td>3</td>\n",
       "    </tr>\n",
       "  </tbody>\n",
       "</table>\n",
       "</div>"
      ],
      "text/plain": [
       "   feature_id  charge_state  monoisotopic_mass  centroid_scan  centroid_rt  \\\n",
       "0           1             3        1960.915588     680.366484  4013.127018   \n",
       "1           2             2        1247.602054     574.224714  1085.766969   \n",
       "2           3             2        1789.900380     379.472823  4433.432999   \n",
       "3           4             2        1405.719333     527.432220  4034.358108   \n",
       "4           5             2        2214.082282     231.310785  5002.872698   \n",
       "\n",
       "   centroid_mz  base_peak_centroid_mz     start_rt       end_rt  scan_lower  \\\n",
       "0   654.717577             654.645757  4005.957188  4021.318195         668   \n",
       "1   625.127677             624.809083  1075.177570  1097.628037         565   \n",
       "2   896.216859             896.459161  4421.919624  4439.635599         367   \n",
       "3   704.126734             703.867085  4022.496117  4044.962866         519   \n",
       "4  1108.270682            1108.049241  4991.075059  5008.786578         221   \n",
       "\n",
       "   scan_upper  summed_intensity  isotope_count  \n",
       "0         688           7033805              2  \n",
       "1         585           6018645              4  \n",
       "2         387           4045015              3  \n",
       "3         539           8039223              5  \n",
       "4         241           2472405              3  "
      ]
     },
     "execution_count": 3,
     "metadata": {},
     "output_type": "execute_result"
    }
   ],
   "source": [
    "feature_list_df.head()"
   ]
  },
  {
   "cell_type": "code",
   "execution_count": 6,
   "metadata": {},
   "outputs": [
    {
     "data": {
      "image/png": "[encoded data removed]",
      "text/plain": [
       "<Figure size 576x360 with 1 Axes>"
      ]
     },
     "metadata": {},
     "output_type": "display_data"
    }
   ],
   "source": [
    "f, ax1 = plt.subplots()\n",
    "f.set_figheight(5)\n",
    "f.set_figwidth(8)\n",
    "counts, bins, bars = plt.hist(feature_list_df.isotope_count, bins=feature_list_df.isotope_count.max()-feature_list_df.isotope_count.min())\n",
    "plt.legend(loc='best')\n",
    "plt.xlabel('number of isotopes')\n",
    "plt.ylabel('feature count')\n",
    "plt.margins(0.06)\n",
    "plt.suptitle('Number of features with at least two isotopes')\n",
    "plt.title('{}'.format(feature_list_filename))\n",
    "plt.show()"
   ]
  },
  {
   "cell_type": "code",
   "execution_count": 7,
   "metadata": {
    "scrolled": true
   },
   "outputs": [
    {
     "data": {
      "image/png": "[encoded data removed]",
      "text/plain": [
       "<Figure size 360x360 with 1 Axes>"
      ]
     },
     "metadata": {},
     "output_type": "display_data"
    }
   ],
   "source": [
    "f, ax1 = plt.subplots()\n",
    "f.set_figheight(5)\n",
    "f.set_figwidth(5)\n",
    "plt.hist(feature_list_df.charge_state, bins=(2,3,4,5,6,7,8,9))\n",
    "plt.legend(loc='best')\n",
    "plt.xlabel('charge state')\n",
    "plt.ylabel('feature count')\n",
    "plt.margins(0.06)\n",
    "plt.suptitle('Number of features with at least 2+ charge')\n",
    "plt.title('{}'.format(feature_list_filename))\n",
    "plt.show()"
   ]
  },
  {
   "cell_type": "code",
   "execution_count": null,
   "metadata": {},
   "outputs": [],
   "source": []
  }
 ],
 "metadata": {
  "kernelspec": {
   "display_name": "Python 2",
   "language": "python",
   "name": "python2"
  },
  "language_info": {
   "codemirror_mode": {
    "name": "ipython",
    "version": 2
   },
   "file_extension": ".py",
   "mimetype": "text/x-python",
   "name": "python",
   "nbconvert_exporter": "python",
   "pygments_lexer": "ipython2",
   "version": "2.7.15"
  }
 },
 "nbformat": 4,
 "nbformat_minor": 2
}
