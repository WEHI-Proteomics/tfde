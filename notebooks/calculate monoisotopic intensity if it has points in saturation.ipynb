{
 "cells": [
  {
   "cell_type": "code",
   "execution_count": 2,
   "metadata": {},
   "outputs": [],
   "source": [
    "import pandas as pd\n",
    "import matplotlib.pyplot as plt\n",
    "import sqlite3\n",
    "import json\n",
    "import numpy as np"
   ]
  },
  {
   "cell_type": "code",
   "execution_count": 3,
   "metadata": {},
   "outputs": [],
   "source": [
    "# EXPERIMENT_DIR = '/home/ubuntu/experiments/dwm-test'\n",
    "EXPERIMENT_DIR = '/Users/darylwilding-mcbride/Downloads/experiments/dwm-test'\n"
   ]
  },
  {
   "cell_type": "code",
   "execution_count": 4,
   "metadata": {},
   "outputs": [],
   "source": [
    "MAPPING_FILE_NAME = \"{}/recalibrated-percolator-output/percolator-idx-mapping.csv\".format(EXPERIMENT_DIR)\n",
    "\n",
    "# determine the mapping between the percolator index and the run file name\n",
    "def get_percolator_run_mapping(mapping_file_name):\n",
    "    df = pd.read_csv(mapping_file_name)\n",
    "    mapping_l = [tuple(r) for r in df.to_numpy()]\n",
    "    return mapping_l\n",
    "\n",
    "def file_idx_for_run(run_name):\n",
    "    result = None\n",
    "    mapping_l = get_percolator_run_mapping(MAPPING_FILE_NAME)\n",
    "    for m in mapping_l:\n",
    "        if m[1] == run_name:\n",
    "            result = m[0]\n",
    "            break\n",
    "    return result\n",
    "\n",
    "def run_name_for_file_idx(file_idx):\n",
    "    result = None\n",
    "    mapping_l = get_percolator_run_mapping(MAPPING_FILE_NAME)\n",
    "    for m in mapping_l:\n",
    "        if m[0] == file_idx:\n",
    "            result = m[1]\n",
    "            break\n",
    "    return result"
   ]
  },
  {
   "cell_type": "code",
   "execution_count": 32,
   "metadata": {},
   "outputs": [],
   "source": [
    "EXTRACTED_FEATURES_DIR = \"{}/extracted-features\".format(EXPERIMENT_DIR)\n",
    "EXTRACTED_FEATURES_DB_NAME = \"{}/extracted-features.sqlite\".format(EXTRACTED_FEATURES_DIR)\n"
   ]
  },
  {
   "cell_type": "code",
   "execution_count": 33,
   "metadata": {},
   "outputs": [],
   "source": [
    "selected_sequence = 'DKMDAWLSGPNANK'\n",
    "selected_sequence_charge = 2\n",
    "selected_sequence_file = '190719_Hela_Ecoli_1to3_01'\n",
    "selected_sequence_file_idx = file_idx_for_run(selected_sequence_file)"
   ]
  },
  {
   "cell_type": "code",
   "execution_count": 34,
   "metadata": {},
   "outputs": [],
   "source": [
    "db_conn = sqlite3.connect(EXTRACTED_FEATURES_DB_NAME)\n",
    "selected_sequence_df = pd.read_sql_query('select * from features where sequence==\\'{}\\' and charge=={} and file_idx=={}'.format(selected_sequence,selected_sequence_charge,selected_sequence_file_idx), db_conn)\n",
    "db_conn.close()"
   ]
  },
  {
   "cell_type": "code",
   "execution_count": 35,
   "metadata": {},
   "outputs": [
    {
     "data": {
      "text/html": [
       "<div>\n",
       "<style scoped>\n",
       "    .dataframe tbody tr th:only-of-type {\n",
       "        vertical-align: middle;\n",
       "    }\n",
       "\n",
       "    .dataframe tbody tr th {\n",
       "        vertical-align: top;\n",
       "    }\n",
       "\n",
       "    .dataframe thead th {\n",
       "        text-align: right;\n",
       "    }\n",
       "</style>\n",
       "<table border=\"1\" class=\"dataframe\">\n",
       "  <thead>\n",
       "    <tr style=\"text-align: right;\">\n",
       "      <th></th>\n",
       "      <th>sequence</th>\n",
       "      <th>charge</th>\n",
       "      <th>file_idx</th>\n",
       "      <th>peak_idx</th>\n",
       "      <th>target_coords</th>\n",
       "      <th>theoretical_mz</th>\n",
       "      <th>q_value</th>\n",
       "      <th>delta_mz_ppm</th>\n",
       "      <th>delta_rt</th>\n",
       "      <th>delta_scan</th>\n",
       "      <th>...</th>\n",
       "      <th>mono_rt_bounds</th>\n",
       "      <th>monoisotopic_mass</th>\n",
       "      <th>monoisotopic_mz_centroid</th>\n",
       "      <th>number_of_isotopes</th>\n",
       "      <th>rt_apex</th>\n",
       "      <th>scan_apex</th>\n",
       "      <th>run_name</th>\n",
       "      <th>batch</th>\n",
       "      <th>human</th>\n",
       "      <th>number_of_runs_extracted</th>\n",
       "    </tr>\n",
       "  </thead>\n",
       "  <tbody>\n",
       "    <tr>\n",
       "      <th>0</th>\n",
       "      <td>DKMDAWLSGPNANK</td>\n",
       "      <td>2</td>\n",
       "      <td>5</td>\n",
       "      <td>0</td>\n",
       "      <td>{\"mono_mz\": 773.8693700862513, \"scan_apex\": 54...</td>\n",
       "      <td>773.869576</td>\n",
       "      <td>0.000003</td>\n",
       "      <td>1.678206</td>\n",
       "      <td>0.001073</td>\n",
       "      <td>0.000545</td>\n",
       "      <td>...</td>\n",
       "      <td>[525.4021148276895, 535.6368176164333]</td>\n",
       "      <td>1545.727065</td>\n",
       "      <td>773.870808</td>\n",
       "      <td>6</td>\n",
       "      <td>529.733479</td>\n",
       "      <td>549.0</td>\n",
       "      <td>190719_Hela_Ecoli_1to3_01</td>\n",
       "      <td>1to3</td>\n",
       "      <td>0</td>\n",
       "      <td>20</td>\n",
       "    </tr>\n",
       "  </tbody>\n",
       "</table>\n",
       "<p>1 rows × 62 columns</p>\n",
       "</div>"
      ],
      "text/plain": [
       "         sequence  charge  file_idx  peak_idx  \\\n",
       "0  DKMDAWLSGPNANK       2         5         0   \n",
       "\n",
       "                                       target_coords  theoretical_mz  \\\n",
       "0  {\"mono_mz\": 773.8693700862513, \"scan_apex\": 54...      773.869576   \n",
       "\n",
       "    q_value  delta_mz_ppm  delta_rt  delta_scan  ...  \\\n",
       "0  0.000003      1.678206  0.001073    0.000545  ...   \n",
       "\n",
       "                           mono_rt_bounds  monoisotopic_mass  \\\n",
       "0  [525.4021148276895, 535.6368176164333]        1545.727065   \n",
       "\n",
       "   monoisotopic_mz_centroid  number_of_isotopes     rt_apex  scan_apex  \\\n",
       "0                773.870808                   6  529.733479      549.0   \n",
       "\n",
       "                    run_name  batch  human  number_of_runs_extracted  \n",
       "0  190719_Hela_Ecoli_1to3_01   1to3      0                        20  \n",
       "\n",
       "[1 rows x 62 columns]"
      ]
     },
     "execution_count": 35,
     "metadata": {},
     "output_type": "execute_result"
    }
   ],
   "source": [
    "selected_sequence_df"
   ]
  },
  {
   "cell_type": "code",
   "execution_count": 36,
   "metadata": {},
   "outputs": [],
   "source": [
    "isotope_intensities_l = json.loads(selected_sequence_df.iloc[0].isotope_intensities_l)"
   ]
  },
  {
   "cell_type": "code",
   "execution_count": 37,
   "metadata": {},
   "outputs": [],
   "source": [
    "isotope_intensities_df = pd.DataFrame(isotope_intensities_l, columns=['summed_intensity','saturated','inferred_intensity','inferred','isotope_points','isotope_apex_points'])\n"
   ]
  },
  {
   "cell_type": "code",
   "execution_count": 39,
   "metadata": {},
   "outputs": [],
   "source": [
    "isotope_intensities_df['mz'] = isotope_intensities_df.apply(lambda row: row.isotope_points[0][0], axis=1)"
   ]
  },
  {
   "cell_type": "code",
   "execution_count": 40,
   "metadata": {},
   "outputs": [
    {
     "data": {
      "text/html": [
       "<div>\n",
       "<style scoped>\n",
       "    .dataframe tbody tr th:only-of-type {\n",
       "        vertical-align: middle;\n",
       "    }\n",
       "\n",
       "    .dataframe tbody tr th {\n",
       "        vertical-align: top;\n",
       "    }\n",
       "\n",
       "    .dataframe thead th {\n",
       "        text-align: right;\n",
       "    }\n",
       "</style>\n",
       "<table border=\"1\" class=\"dataframe\">\n",
       "  <thead>\n",
       "    <tr style=\"text-align: right;\">\n",
       "      <th></th>\n",
       "      <th>summed_intensity</th>\n",
       "      <th>saturated</th>\n",
       "      <th>inferred_intensity</th>\n",
       "      <th>inferred</th>\n",
       "      <th>isotope_points</th>\n",
       "      <th>isotope_apex_points</th>\n",
       "      <th>mz</th>\n",
       "    </tr>\n",
       "  </thead>\n",
       "  <tbody>\n",
       "    <tr>\n",
       "      <th>0</th>\n",
       "      <td>22062.0</td>\n",
       "      <td>True</td>\n",
       "      <td>28364.0</td>\n",
       "      <td>True</td>\n",
       "      <td>[[773.8677416843541, 523.0, 4961.0, 526.504311...</td>\n",
       "      <td>[[773.8677423355678, 552.0, 4986.0, 529.205213...</td>\n",
       "      <td>773.867742</td>\n",
       "    </tr>\n",
       "    <tr>\n",
       "      <th>1</th>\n",
       "      <td>18459.0</td>\n",
       "      <td>True</td>\n",
       "      <td>23599.0</td>\n",
       "      <td>True</td>\n",
       "      <td>[[774.3694957188518, 523.0, 4971.0, 527.569927...</td>\n",
       "      <td>[[774.3694963704877, 547.0, 4986.0, 529.205213...</td>\n",
       "      <td>774.369496</td>\n",
       "    </tr>\n",
       "    <tr>\n",
       "      <th>2</th>\n",
       "      <td>8931.0</td>\n",
       "      <td>True</td>\n",
       "      <td>10977.0</td>\n",
       "      <td>True</td>\n",
       "      <td>[[774.8714123655761, 523.0, 4961.0, 526.504311...</td>\n",
       "      <td>[[774.8714130176345, 550.0, 4986.0, 529.205213...</td>\n",
       "      <td>774.871412</td>\n",
       "    </tr>\n",
       "    <tr>\n",
       "      <th>3</th>\n",
       "      <td>3692.0</td>\n",
       "      <td>False</td>\n",
       "      <td>3692.0</td>\n",
       "      <td>False</td>\n",
       "      <td>[[775.3734916245216, 523.0, 4956.0, 525.967528...</td>\n",
       "      <td>[[775.3778588967632, 555.0, 4986.0, 529.205213...</td>\n",
       "      <td>775.373492</td>\n",
       "    </tr>\n",
       "    <tr>\n",
       "      <th>4</th>\n",
       "      <td>1152.0</td>\n",
       "      <td>False</td>\n",
       "      <td>1152.0</td>\n",
       "      <td>False</td>\n",
       "      <td>[[775.8757334956815, 527.0, 4971.0, 527.569927...</td>\n",
       "      <td>[[775.8757341485854, 547.0, 4986.0, 529.205213...</td>\n",
       "      <td>775.875733</td>\n",
       "    </tr>\n",
       "    <tr>\n",
       "      <th>5</th>\n",
       "      <td>466.0</td>\n",
       "      <td>False</td>\n",
       "      <td>466.0</td>\n",
       "      <td>False</td>\n",
       "      <td>[[776.3781379790515, 524.0, 4956.0, 525.967528...</td>\n",
       "      <td>[[776.3781386323781, 551.0, 4986.0, 529.205213...</td>\n",
       "      <td>776.378138</td>\n",
       "    </tr>\n",
       "  </tbody>\n",
       "</table>\n",
       "</div>"
      ],
      "text/plain": [
       "   summed_intensity  saturated  inferred_intensity  inferred  \\\n",
       "0           22062.0       True             28364.0      True   \n",
       "1           18459.0       True             23599.0      True   \n",
       "2            8931.0       True             10977.0      True   \n",
       "3            3692.0      False              3692.0     False   \n",
       "4            1152.0      False              1152.0     False   \n",
       "5             466.0      False               466.0     False   \n",
       "\n",
       "                                      isotope_points  \\\n",
       "0  [[773.8677416843541, 523.0, 4961.0, 526.504311...   \n",
       "1  [[774.3694957188518, 523.0, 4971.0, 527.569927...   \n",
       "2  [[774.8714123655761, 523.0, 4961.0, 526.504311...   \n",
       "3  [[775.3734916245216, 523.0, 4956.0, 525.967528...   \n",
       "4  [[775.8757334956815, 527.0, 4971.0, 527.569927...   \n",
       "5  [[776.3781379790515, 524.0, 4956.0, 525.967528...   \n",
       "\n",
       "                                 isotope_apex_points          mz  \n",
       "0  [[773.8677423355678, 552.0, 4986.0, 529.205213...  773.867742  \n",
       "1  [[774.3694963704877, 547.0, 4986.0, 529.205213...  774.369496  \n",
       "2  [[774.8714130176345, 550.0, 4986.0, 529.205213...  774.871412  \n",
       "3  [[775.3778588967632, 555.0, 4986.0, 529.205213...  775.373492  \n",
       "4  [[775.8757341485854, 547.0, 4986.0, 529.205213...  775.875733  \n",
       "5  [[776.3781386323781, 551.0, 4986.0, 529.205213...  776.378138  "
      ]
     },
     "execution_count": 40,
     "metadata": {},
     "output_type": "execute_result"
    }
   ],
   "source": [
    "isotope_intensities_df"
   ]
  },
  {
   "cell_type": "code",
   "execution_count": 41,
   "metadata": {},
   "outputs": [
    {
     "data": {
      "image/png": "[encoded data removed]",
      "text/plain": [
       "<Figure size 1080x576 with 1 Axes>"
      ]
     },
     "metadata": {
      "needs_background": "light"
     },
     "output_type": "display_data"
    }
   ],
   "source": [
    "f, ax = plt.subplots()\n",
    "colors = ['tab:blue', 'tab:orange', 'tab:green', 'tab:red', 'tab:purple', 'tab:brown', 'tab:pink', 'tab:gray', 'tab:olive', 'tab:cyan']\n",
    "\n",
    "markerline, stemlines, baseline = ax.stem(isotope_intensities_df.mz, isotope_intensities_df.summed_intensity, use_line_collection=True, label='before inference')\n",
    "plt.setp(markerline, 'color', 'tab:green')\n",
    "plt.setp(stemlines, 'color', 'tab:green')\n",
    "plt.setp(baseline, 'color', colors[7])\n",
    "plt.setp(markerline, 'alpha', 0.6)\n",
    "plt.setp(stemlines, 'alpha', 0.6)\n",
    "\n",
    "markerline, stemlines, baseline = ax.stem(isotope_intensities_df.mz, isotope_intensities_df.inferred_intensity, use_line_collection=True, label='after inference')\n",
    "plt.setp(markerline, 'color', 'tab:orange')\n",
    "plt.setp(stemlines, 'color', 'tab:orange')\n",
    "plt.setp(baseline, 'color', colors[7])\n",
    "plt.setp(markerline, 'alpha', 0.6)\n",
    "plt.setp(stemlines, 'alpha', 0.6)\n",
    "\n",
    "plt.xlabel('m/z')\n",
    "plt.ylabel('intensity')\n",
    "f.set_figheight(8)\n",
    "f.set_figwidth(15)\n",
    "plt.margins(0.06)\n",
    "plt.legend(loc='best')\n",
    "plt.title('Isotopes before and after saturation adjustment\\nrun {}, sequence {}, charge {}'.format(selected_sequence_file, selected_sequence, selected_sequence_charge))\n",
    "plt.show()"
   ]
  },
  {
   "cell_type": "code",
   "execution_count": null,
   "metadata": {},
   "outputs": [],
   "source": []
  }
 ],
 "metadata": {
  "kernelspec": {
   "display_name": "Python 3",
   "language": "python",
   "name": "python3"
  },
  "language_info": {
   "codemirror_mode": {
    "name": "ipython",
    "version": 3
   },
   "file_extension": ".py",
   "mimetype": "text/x-python",
   "name": "python",
   "nbconvert_exporter": "python",
   "pygments_lexer": "ipython3",
   "version": "3.6.8"
  }
 },
 "nbformat": 4,
 "nbformat_minor": 2
}
