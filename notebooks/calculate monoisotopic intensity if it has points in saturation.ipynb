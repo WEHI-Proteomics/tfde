{
 "cells": [
  {
   "cell_type": "code",
   "execution_count": 1,
   "metadata": {},
   "outputs": [],
   "source": [
    "import pandas as pd\n",
    "import numpy as np\n",
    "import sys\n",
    "import pickle\n",
    "import sqlite3\n",
    "import os\n",
    "from sklearn import ensemble\n",
    "from sklearn.metrics import classification_report, confusion_matrix, roc_curve, auc\n",
    "from sklearn.model_selection import train_test_split\n",
    "import matplotlib.pyplot as plt"
   ]
  },
  {
   "cell_type": "code",
   "execution_count": 2,
   "metadata": {},
   "outputs": [],
   "source": [
    "# Mass difference between Carbon-12 and Carbon-13 isotopes, in Da. For calculating the spacing between isotopic peaks.\n",
    "CARBON_MASS_DIFFERENCE = 1.003355\n",
    "\n",
    "# frame types for PASEF mode\n",
    "FRAME_TYPE_MS1 = 0\n",
    "FRAME_TYPE_MS2 = 8\n",
    "\n",
    "PROTON_MASS = 1.007276"
   ]
  },
  {
   "cell_type": "code",
   "execution_count": 3,
   "metadata": {},
   "outputs": [],
   "source": [
    "# the level of intensity at which the detector is in saturation\n",
    "SATURATION_INTENSITY = 3000"
   ]
  },
  {
   "cell_type": "code",
   "execution_count": 4,
   "metadata": {},
   "outputs": [],
   "source": [
    "# takes a numpy array of intensity, and another of mz\n",
    "def mz_centroid(_int_f, _mz_f):\n",
    "    try:\n",
    "        return ((_int_f/_int_f.sum()) * _mz_f).sum()\n",
    "    except:\n",
    "        print(\"exception in mz_centroid\")\n",
    "        return None"
   ]
  },
  {
   "cell_type": "code",
   "execution_count": 5,
   "metadata": {},
   "outputs": [],
   "source": [
    "def estimate_target_coordinates(row_as_series, mz_estimator, scan_estimator, rt_estimator):\n",
    "    sequence_estimation_attribs_s = row_as_series[['theoretical_mz','experiment_rt_mean','experiment_rt_std_dev','experiment_scan_mean','experiment_scan_std_dev','experiment_intensity_mean','experiment_intensity_std_dev']]\n",
    "    sequence_estimation_attribs = np.reshape(sequence_estimation_attribs_s.values, (1, -1))  # make it 2D\n",
    "\n",
    "    # estimate the raw monoisotopic m/z\n",
    "    mz_delta_ppm_estimated = mz_estimator.predict(sequence_estimation_attribs)[0]\n",
    "    theoretical_mz = sequence_estimation_attribs_s.theoretical_mz\n",
    "    estimated_monoisotopic_mz = (mz_delta_ppm_estimated / 1e6 * theoretical_mz) + theoretical_mz\n",
    "\n",
    "    # estimate the raw monoisotopic scan\n",
    "    estimated_scan_delta = scan_estimator.predict(sequence_estimation_attribs)[0]\n",
    "    experiment_scan_mean = sequence_estimation_attribs_s.experiment_scan_mean\n",
    "    estimated_scan_apex = (estimated_scan_delta * experiment_scan_mean) + experiment_scan_mean\n",
    "\n",
    "    # estimate the raw monoisotopic RT\n",
    "    estimated_rt_delta = rt_estimator.predict(sequence_estimation_attribs)[0]\n",
    "    experiment_rt_mean = sequence_estimation_attribs_s.experiment_rt_mean\n",
    "    estimated_rt_apex = (estimated_rt_delta * experiment_rt_mean) + experiment_rt_mean\n",
    "\n",
    "    return {\"mono_mz\":estimated_monoisotopic_mz, \"scan_apex\":estimated_scan_apex, \"rt_apex\":estimated_rt_apex}"
   ]
  },
  {
   "cell_type": "code",
   "execution_count": 6,
   "metadata": {},
   "outputs": [],
   "source": [
    "# Find the ratio of H(peak_number)/H(peak_number-1) for peak_number=1..6\n",
    "# peak_number = 0 refers to the monoisotopic peak\n",
    "# number_of_sulphur = number of sulphur atoms in the molecule\n",
    "def peak_ratio(monoisotopic_mass, peak_number, number_of_sulphur):\n",
    "    MAX_NUMBER_OF_SULPHUR_ATOMS = 3\n",
    "    MAX_NUMBER_OF_PREDICTED_RATIOS = 6\n",
    "\n",
    "    S0_r = np.empty(MAX_NUMBER_OF_PREDICTED_RATIOS+1, dtype=np.ndarray)\n",
    "    S0_r[1] = np.array([-0.00142320578040, 0.53158267080224, 0.00572776591574, -0.00040226083326, -0.00007968737684])\n",
    "    S0_r[2] = np.array([0.06258138406507, 0.24252967352808, 0.01729736525102, -0.00427641490976, 0.00038011211412])\n",
    "    S0_r[3] = np.array([0.03092092306220, 0.22353930450345, -0.02630395501009, 0.00728183023772, -0.00073155573939])\n",
    "    S0_r[4] = np.array([-0.02490747037406, 0.26363266501679, -0.07330346656184, 0.01876886839392, -0.00176688757979])\n",
    "    S0_r[5] = np.array([-0.19423148776489, 0.45952477474223, -0.18163820209523, 0.04173579115885, -0.00355426505742])\n",
    "    S0_r[6] = np.array([0.04574408690798, -0.05092121193598, 0.13874539944789, -0.04344815868749, 0.00449747222180])\n",
    "\n",
    "    S1_r = np.empty(MAX_NUMBER_OF_PREDICTED_RATIOS+1, dtype=np.ndarray)\n",
    "    S1_r[1] = np.array([-0.01040584267474, 0.53121149663696, 0.00576913817747, -0.00039325152252, -0.00007954180489])\n",
    "    S1_r[2] = np.array([0.37339166598255, -0.15814640001919, 0.24085046064819, -0.06068695741919, 0.00563606634601])\n",
    "    S1_r[3] = np.array([0.06969331604484, 0.28154425636993, -0.08121643989151, 0.02372741957255, -0.00238998426027])\n",
    "    S1_r[4] = np.array([0.04462649178239, 0.23204790123388, -0.06083969521863, 0.01564282892512, -0.00145145206815])\n",
    "    S1_r[5] = np.array([-0.20727547407753, 0.53536509500863, -0.22521649838170, 0.05180965157326, -0.00439750995163])\n",
    "    S1_r[6] = np.array([0.27169670700251, -0.37192045082925, 0.31939855191976, -0.08668833166842, 0.00822975581940])\n",
    "\n",
    "    S2_r = np.empty(MAX_NUMBER_OF_PREDICTED_RATIOS+1, dtype=np.ndarray)\n",
    "    S2_r[1] = np.array([-0.01937823810470, 0.53084210514216, 0.00580573751882, -0.00038281138203, -0.00007958217070])\n",
    "    S2_r[2] = np.array([0.68496829280011, -0.54558176102022, 0.44926662609767, -0.11154849560657, 0.01023294598884])\n",
    "    S2_r[3] = np.array([0.04215807391059, 0.40434195078925, -0.15884974959493, 0.04319968814535, -0.00413693825139])\n",
    "    S2_r[4] = np.array([0.14015578207913, 0.14407679007180, -0.01310480312503, 0.00362292256563, -0.00034189078786])\n",
    "    S2_r[5] = np.array([-0.02549241716294, 0.32153542852101, -0.11409513283836, 0.02617210469576, -0.00221816103608])\n",
    "    S2_r[6] = np.array([-0.14490868030324, 0.33629928307361, -0.08223564735018, 0.01023410734015, -0.00027717589598])\n",
    "\n",
    "    model_params = np.empty(MAX_NUMBER_OF_SULPHUR_ATOMS, dtype=np.ndarray)\n",
    "    model_params[0] = S0_r\n",
    "    model_params[1] = S1_r\n",
    "    model_params[2] = S2_r\n",
    "\n",
    "    ratio = None\n",
    "    if (((1 <= peak_number <= 3) & (((number_of_sulphur == 0) & (498 <= monoisotopic_mass <= 3915)) |\n",
    "                                    ((number_of_sulphur == 1) & (530 <= monoisotopic_mass <= 3947)) |\n",
    "                                    ((number_of_sulphur == 2) & (562 <= monoisotopic_mass <= 3978)))) |\n",
    "       ((peak_number == 4) & (((number_of_sulphur == 0) & (907 <= monoisotopic_mass <= 3915)) |\n",
    "                              ((number_of_sulphur == 1) & (939 <= monoisotopic_mass <= 3947)) |\n",
    "                              ((number_of_sulphur == 2) & (971 <= monoisotopic_mass <= 3978)))) |\n",
    "       ((peak_number == 5) & (((number_of_sulphur == 0) & (1219 <= monoisotopic_mass <= 3915)) |\n",
    "                              ((number_of_sulphur == 1) & (1251 <= monoisotopic_mass <= 3947)) |\n",
    "                              ((number_of_sulphur == 2) & (1283 <= monoisotopic_mass <= 3978)))) |\n",
    "       ((peak_number == 6) & (((number_of_sulphur == 0) & (1559 <= monoisotopic_mass <= 3915)) |\n",
    "                              ((number_of_sulphur == 1) & (1591 <= monoisotopic_mass <= 3947)) |\n",
    "                              ((number_of_sulphur == 2) & (1623 <= monoisotopic_mass <= 3978))))):\n",
    "        beta0 = model_params[number_of_sulphur][peak_number][0]\n",
    "        beta1 = model_params[number_of_sulphur][peak_number][1]\n",
    "        beta2 = model_params[number_of_sulphur][peak_number][2]\n",
    "        beta3 = model_params[number_of_sulphur][peak_number][3]\n",
    "        beta4 = model_params[number_of_sulphur][peak_number][4]\n",
    "        scaled_m = monoisotopic_mass / 1000.0\n",
    "        ratio = beta0 + (beta1*scaled_m) + beta2*(scaled_m**2) + beta3*(scaled_m**3) + beta4*(scaled_m**4)\n",
    "    return ratio\n"
   ]
  },
  {
   "cell_type": "code",
   "execution_count": 7,
   "metadata": {},
   "outputs": [],
   "source": [
    "def calculate_monoisotopic_mass_from_mz(monoisotopic_mz, charge):\n",
    "    monoisotopic_mass = (monoisotopic_mz * charge) - (PROTON_MASS * charge)\n",
    "    return monoisotopic_mass"
   ]
  },
  {
   "cell_type": "code",
   "execution_count": 8,
   "metadata": {},
   "outputs": [],
   "source": [
    "experiment_name = 'dwm-test'\n",
    "EXPERIMENT_DIR = '/Users/darylwilding-mcbride/Downloads/experiments/{}'.format(experiment_name)"
   ]
  },
  {
   "cell_type": "code",
   "execution_count": 9,
   "metadata": {},
   "outputs": [],
   "source": [
    "run_name = '190719_Hela_Ecoli_1to1_01'"
   ]
  },
  {
   "cell_type": "code",
   "execution_count": 10,
   "metadata": {},
   "outputs": [],
   "source": [
    "PERCOLATOR_MAPPING_FILE_NAME = '{}/percolator-output/percolator-idx-mapping.csv'.format(EXPERIMENT_DIR)"
   ]
  },
  {
   "cell_type": "code",
   "execution_count": 11,
   "metadata": {},
   "outputs": [],
   "source": [
    "mapping_df = pd.read_csv(PERCOLATOR_MAPPING_FILE_NAME)"
   ]
  },
  {
   "cell_type": "code",
   "execution_count": 12,
   "metadata": {},
   "outputs": [],
   "source": [
    "file_idx = mapping_df[mapping_df.run_name == run_name].iloc[0].percolator_idx"
   ]
  },
  {
   "cell_type": "code",
   "execution_count": 13,
   "metadata": {},
   "outputs": [
    {
     "name": "stdout",
     "output_type": "stream",
     "text": [
      "loaded 30681 sequences from the library\n"
     ]
    }
   ],
   "source": [
    "# set up the coordinate estimators directory\n",
    "COORDINATE_ESTIMATORS_DIR = \"{}/coordinate-estimators\".format(EXPERIMENT_DIR)\n",
    "if not os.path.exists(COORDINATE_ESTIMATORS_DIR):\n",
    "    print(\"The coordinate estimators directory is required but doesn't exist: {}\".format(COORDINATE_ESTIMATORS_DIR))\n",
    "\n",
    "# load the sequence library\n",
    "SEQUENCE_LIBRARY_DIR = \"{}/sequence-library\".format(EXPERIMENT_DIR)\n",
    "SEQUENCE_LIBRARY_FILE_NAME = \"{}/sequence-library.pkl\".format(SEQUENCE_LIBRARY_DIR)\n",
    "if not os.path.isfile(SEQUENCE_LIBRARY_FILE_NAME):\n",
    "    print(\"The sequences library file doesn't exist: {}\".format(SEQUENCE_LIBRARY_FILE_NAME))\n",
    "else:\n",
    "    library_sequences_df = pd.read_pickle(SEQUENCE_LIBRARY_FILE_NAME)\n",
    "    print(\"loaded {} sequences from the library\".format(len(library_sequences_df)))"
   ]
  },
  {
   "cell_type": "code",
   "execution_count": 14,
   "metadata": {},
   "outputs": [],
   "source": [
    "# load the coordinate estimators\n",
    "MZ_ESTIMATOR_MODEL_FILE_NAME = \"{}/run-{}-{}-estimator.pkl\".format(COORDINATE_ESTIMATORS_DIR, run_name, 'mz')\n",
    "SCAN_ESTIMATOR_MODEL_FILE_NAME = \"{}/run-{}-{}-estimator.pkl\".format(COORDINATE_ESTIMATORS_DIR, run_name, 'scan')\n",
    "RT_ESTIMATOR_MODEL_FILE_NAME = \"{}/run-{}-{}-estimator.pkl\".format(COORDINATE_ESTIMATORS_DIR, run_name, 'rt')\n",
    "\n",
    "with open(MZ_ESTIMATOR_MODEL_FILE_NAME, 'rb') as file:\n",
    "    mz_estimator = pickle.load(file)\n",
    "with open(SCAN_ESTIMATOR_MODEL_FILE_NAME, 'rb') as file:\n",
    "    scan_estimator = pickle.load(file)\n",
    "with open(RT_ESTIMATOR_MODEL_FILE_NAME, 'rb') as file:\n",
    "    rt_estimator = pickle.load(file)"
   ]
  },
  {
   "cell_type": "code",
   "execution_count": 15,
   "metadata": {},
   "outputs": [],
   "source": [
    "library_sequences_for_this_run_df = library_sequences_df.copy()\n",
    "library_sequences_for_this_run_df['file_idx'] = file_idx  # so we can distinguish between metrics for the same sequence-charge"
   ]
  },
  {
   "cell_type": "code",
   "execution_count": 16,
   "metadata": {},
   "outputs": [
    {
     "name": "stdout",
     "output_type": "stream",
     "text": [
      "calculating the target coordinates for each sequence-charge\n"
     ]
    }
   ],
   "source": [
    "# calculate the target coordinates\n",
    "print(\"calculating the target coordinates for each sequence-charge\")\n",
    "library_sequences_for_this_run_df['target_coords'] = library_sequences_for_this_run_df.apply(lambda row: estimate_target_coordinates(row, mz_estimator, scan_estimator, rt_estimator), axis=1)"
   ]
  },
  {
   "cell_type": "code",
   "execution_count": 120,
   "metadata": {},
   "outputs": [],
   "source": [
    "library_sequences_for_this_run_df.sort_values(by=['experiment_intensity_mean'], ascending=False, inplace=True)"
   ]
  },
  {
   "cell_type": "code",
   "execution_count": 270,
   "metadata": {},
   "outputs": [],
   "source": [
    "row = library_sequences_for_this_run_df.iloc[200]"
   ]
  },
  {
   "cell_type": "code",
   "execution_count": 271,
   "metadata": {},
   "outputs": [
    {
     "data": {
      "text/plain": [
       "sequence                                                  SINPDEAVAYGAAVQAAILSGDK\n",
       "charge                                                                          2\n",
       "theoretical_mz                                                            1130.58\n",
       "experiment_scan_mean                                                      93.6057\n",
       "experiment_scan_std_dev                                                   9.42353\n",
       "experiment_scan_peak_width                                                57.6692\n",
       "experiment_rt_mean                                                        1004.73\n",
       "experiment_rt_std_dev                                                     3.29174\n",
       "experiment_rt_peak_width                                                   11.002\n",
       "experiment_intensity_mean                                             1.86962e+06\n",
       "experiment_intensity_std_dev                                          1.53483e+06\n",
       "number_of_runs_identified                                                      20\n",
       "q_value                                                               2.55325e-06\n",
       "file_idx                                                                       10\n",
       "target_coords                   {'mono_mz': 1130.576353651059, 'scan_apex': 95...\n",
       "Name: 23551, dtype: object"
      ]
     },
     "execution_count": 271,
     "metadata": {},
     "output_type": "execute_result"
    }
   ],
   "source": [
    "row"
   ]
  },
  {
   "cell_type": "code",
   "execution_count": 272,
   "metadata": {},
   "outputs": [],
   "source": [
    "experiment_scan_peak_width = row.experiment_scan_peak_width\n",
    "experiment_rt_peak_width = row.experiment_rt_peak_width\n",
    "charge = row.charge\n",
    "CONVERTED_DATABASE_NAME = \"{}/converted-databases/exp-{}-run-{}-converted.sqlite\".format(EXPERIMENT_DIR, experiment_name, run_name)"
   ]
  },
  {
   "cell_type": "code",
   "execution_count": 273,
   "metadata": {},
   "outputs": [],
   "source": [
    "coordinates_d = row.target_coords\n",
    "mono_mz = coordinates_d['mono_mz']\n",
    "scan_apex = coordinates_d['scan_apex']\n",
    "rt_apex = coordinates_d['rt_apex']"
   ]
  },
  {
   "cell_type": "code",
   "execution_count": 274,
   "metadata": {},
   "outputs": [],
   "source": [
    "# distance for looking either side of the scan and RT apex, based on the other times this sequence has been seen in this experiment\n",
    "SCAN_WIDTH = experiment_scan_peak_width\n",
    "RT_WIDTH = experiment_rt_peak_width\n",
    "\n",
    "# the width to use for isotopic width, in Da\n",
    "MZ_TOLERANCE_PPM = 5  # +/- this amount\n",
    "MZ_TOLERANCE_PERCENT = MZ_TOLERANCE_PPM * 10**-4\n",
    "MS1_PEAK_DELTA = mono_mz * MZ_TOLERANCE_PERCENT / 100\n",
    "\n",
    "# the number of isotopes to look for in the m/z dimension - the theoretical model includes 7 (the monoisotopic plus 6 isotopes)\n",
    "NUMBER_OF_ISOTOPES = 7\n",
    "expected_spacing_mz = CARBON_MASS_DIFFERENCE / charge\n",
    "\n",
    "# define the region we will look in for the feature\n",
    "feature_region_mz_lower = mono_mz - MS1_PEAK_DELTA\n",
    "feature_region_mz_upper = mono_mz + (NUMBER_OF_ISOTOPES * expected_spacing_mz) + MS1_PEAK_DELTA\n",
    "scan_lower = scan_apex - (2 * SCAN_WIDTH)\n",
    "scan_upper = scan_apex + (2 * SCAN_WIDTH)\n",
    "rt_lower = rt_apex - (2 * RT_WIDTH)\n",
    "rt_upper = rt_apex + (2 * RT_WIDTH)\n",
    "\n",
    "# extract the raw data within this area of interest\n",
    "db_conn = sqlite3.connect(CONVERTED_DATABASE_NAME)\n",
    "feature_region_raw_points_df = pd.read_sql_query(\"select frame_id,mz,scan,intensity,retention_time_secs from frames where mz >= {} and mz <= {} and scan >= {} and scan <= {} and retention_time_secs >= {} and retention_time_secs <= {} and frame_type == {}\".format(feature_region_mz_lower, feature_region_mz_upper, scan_lower, scan_upper, rt_lower, rt_upper, FRAME_TYPE_MS1), db_conn)\n",
    "db_conn.close()\n"
   ]
  },
  {
   "cell_type": "code",
   "execution_count": 275,
   "metadata": {},
   "outputs": [
    {
     "data": {
      "text/plain": [
       "18217"
      ]
     },
     "execution_count": 275,
     "metadata": {},
     "output_type": "execute_result"
    }
   ],
   "source": [
    "len(feature_region_raw_points_df)"
   ]
  },
  {
   "cell_type": "code",
   "execution_count": 276,
   "metadata": {},
   "outputs": [],
   "source": [
    "# derive peaks for the monoisotopic and the isotopes\n",
    "isotope_peaks_l = []\n",
    "isotope_raw_points_l = []\n",
    "for isotope_idx in range(NUMBER_OF_ISOTOPES):\n",
    "    estimated_isotope_midpoint = mono_mz + (isotope_idx * expected_spacing_mz)\n",
    "    isotope_mz_lower = estimated_isotope_midpoint - MS1_PEAK_DELTA\n",
    "    isotope_mz_upper = estimated_isotope_midpoint + MS1_PEAK_DELTA\n",
    "    isotope_raw_points_df = feature_region_raw_points_df[(feature_region_raw_points_df.mz >= isotope_mz_lower) & (feature_region_raw_points_df.mz <= isotope_mz_upper)].copy()\n",
    "    # add the isotope's raw points to the list\n",
    "    isotope_raw_points_l.append(isotope_raw_points_df)\n",
    "    if len(isotope_raw_points_df) > 0:\n",
    "        # centroid the raw points to get the peak for the isotope\n",
    "        isotope_raw_points_a = isotope_raw_points_df[['mz','intensity']].values\n",
    "        mz_cent = mz_centroid(isotope_raw_points_a[:,1], isotope_raw_points_a[:,0])\n",
    "        summed_intensity = isotope_raw_points_a[:,1].sum()\n",
    "    else:\n",
    "        mz_cent = None\n",
    "        summed_intensity = 0\n",
    "    # add the peak to the list of isotopic peaks\n",
    "    isotope_peaks_l.append((mz_cent, summed_intensity))\n",
    "isotope_peaks_df = pd.DataFrame(isotope_peaks_l, columns=['mz_centroid','summed_intensity'])\n"
   ]
  },
  {
   "cell_type": "code",
   "execution_count": 277,
   "metadata": {},
   "outputs": [
    {
     "data": {
      "text/html": [
       "<div>\n",
       "<style scoped>\n",
       "    .dataframe tbody tr th:only-of-type {\n",
       "        vertical-align: middle;\n",
       "    }\n",
       "\n",
       "    .dataframe tbody tr th {\n",
       "        vertical-align: top;\n",
       "    }\n",
       "\n",
       "    .dataframe thead th {\n",
       "        text-align: right;\n",
       "    }\n",
       "</style>\n",
       "<table border=\"1\" class=\"dataframe\">\n",
       "  <thead>\n",
       "    <tr style=\"text-align: right;\">\n",
       "      <th></th>\n",
       "      <th>mz_centroid</th>\n",
       "      <th>summed_intensity</th>\n",
       "    </tr>\n",
       "  </thead>\n",
       "  <tbody>\n",
       "    <tr>\n",
       "      <th>0</th>\n",
       "      <td>1130.578349</td>\n",
       "      <td>2447266.0</td>\n",
       "    </tr>\n",
       "    <tr>\n",
       "      <th>1</th>\n",
       "      <td>1131.080031</td>\n",
       "      <td>2817676.0</td>\n",
       "    </tr>\n",
       "    <tr>\n",
       "      <th>2</th>\n",
       "      <td>1131.581029</td>\n",
       "      <td>1872001.0</td>\n",
       "    </tr>\n",
       "    <tr>\n",
       "      <th>3</th>\n",
       "      <td>1132.082188</td>\n",
       "      <td>827148.0</td>\n",
       "    </tr>\n",
       "    <tr>\n",
       "      <th>4</th>\n",
       "      <td>1132.582894</td>\n",
       "      <td>276063.0</td>\n",
       "    </tr>\n",
       "    <tr>\n",
       "      <th>5</th>\n",
       "      <td>1133.084192</td>\n",
       "      <td>79000.0</td>\n",
       "    </tr>\n",
       "    <tr>\n",
       "      <th>6</th>\n",
       "      <td>1133.585446</td>\n",
       "      <td>20755.0</td>\n",
       "    </tr>\n",
       "  </tbody>\n",
       "</table>\n",
       "</div>"
      ],
      "text/plain": [
       "   mz_centroid  summed_intensity\n",
       "0  1130.578349         2447266.0\n",
       "1  1131.080031         2817676.0\n",
       "2  1131.581029         1872001.0\n",
       "3  1132.082188          827148.0\n",
       "4  1132.582894          276063.0\n",
       "5  1133.084192           79000.0\n",
       "6  1133.585446           20755.0"
      ]
     },
     "execution_count": 277,
     "metadata": {},
     "output_type": "execute_result"
    }
   ],
   "source": [
    "isotope_peaks_df"
   ]
  },
  {
   "cell_type": "code",
   "execution_count": 278,
   "metadata": {},
   "outputs": [
    {
     "data": {
      "text/plain": [
       "7"
      ]
     },
     "execution_count": 278,
     "metadata": {},
     "output_type": "execute_result"
    }
   ],
   "source": [
    "len(isotope_raw_points_l)"
   ]
  },
  {
   "cell_type": "code",
   "execution_count": 279,
   "metadata": {},
   "outputs": [],
   "source": [
    "s = pd.Series([0, mono_mz, 0, int(3200), 0], index=isotope_raw_points_l[0].columns)"
   ]
  },
  {
   "cell_type": "raw",
   "metadata": {},
   "source": [
    "isotope_raw_points_l[0] = isotope_raw_points_l[0].append(s, ignore_index=True)"
   ]
  },
  {
   "cell_type": "code",
   "execution_count": 280,
   "metadata": {},
   "outputs": [],
   "source": [
    "# find the most intense isotope that is not in saturation\n",
    "isotope_idx_not_in_saturation = -1\n",
    "for isotope_idx in range(NUMBER_OF_ISOTOPES):\n",
    "    isotope_df = isotope_raw_points_l[isotope_idx]\n",
    "    if isotope_df.intensity.max() <= SATURATION_INTENSITY:\n",
    "        isotope_idx_not_in_saturation = isotope_idx\n",
    "        break"
   ]
  },
  {
   "cell_type": "code",
   "execution_count": 281,
   "metadata": {},
   "outputs": [
    {
     "data": {
      "text/plain": [
       "4"
      ]
     },
     "execution_count": 281,
     "metadata": {},
     "output_type": "execute_result"
    }
   ],
   "source": [
    "isotope_idx_not_in_saturation"
   ]
  },
  {
   "cell_type": "code",
   "execution_count": 282,
   "metadata": {},
   "outputs": [
    {
     "data": {
      "text/plain": [
       "3588"
      ]
     },
     "execution_count": 282,
     "metadata": {},
     "output_type": "execute_result"
    }
   ],
   "source": [
    "isotope_raw_points_l[3].intensity.max()"
   ]
  },
  {
   "cell_type": "code",
   "execution_count": 283,
   "metadata": {},
   "outputs": [
    {
     "data": {
      "text/plain": [
       "sequence                                                  SINPDEAVAYGAAVQAAILSGDK\n",
       "charge                                                                          2\n",
       "theoretical_mz                                                            1130.58\n",
       "experiment_scan_mean                                                      93.6057\n",
       "experiment_scan_std_dev                                                   9.42353\n",
       "experiment_scan_peak_width                                                57.6692\n",
       "experiment_rt_mean                                                        1004.73\n",
       "experiment_rt_std_dev                                                     3.29174\n",
       "experiment_rt_peak_width                                                   11.002\n",
       "experiment_intensity_mean                                             1.86962e+06\n",
       "experiment_intensity_std_dev                                          1.53483e+06\n",
       "number_of_runs_identified                                                      20\n",
       "q_value                                                               2.55325e-06\n",
       "file_idx                                                                       10\n",
       "target_coords                   {'mono_mz': 1130.576353651059, 'scan_apex': 95...\n",
       "Name: 23551, dtype: object"
      ]
     },
     "execution_count": 283,
     "metadata": {},
     "output_type": "execute_result"
    }
   ],
   "source": [
    "row"
   ]
  },
  {
   "cell_type": "code",
   "execution_count": 284,
   "metadata": {},
   "outputs": [],
   "source": [
    "monoisotopic_mass = calculate_monoisotopic_mass_from_mz(row.theoretical_mz, row.charge)"
   ]
  },
  {
   "cell_type": "code",
   "execution_count": 285,
   "metadata": {},
   "outputs": [
    {
     "data": {
      "text/plain": [
       "2259.1382"
      ]
     },
     "execution_count": 285,
     "metadata": {},
     "output_type": "execute_result"
    }
   ],
   "source": [
    "monoisotopic_mass"
   ]
  },
  {
   "cell_type": "code",
   "execution_count": 286,
   "metadata": {},
   "outputs": [],
   "source": [
    "isotope_peaks_df['adjusted_intensity'] = isotope_peaks_df.summed_intensity\n",
    "isotope_peaks_df['adjusted_for_saturation'] = False"
   ]
  },
  {
   "cell_type": "code",
   "execution_count": 287,
   "metadata": {},
   "outputs": [],
   "source": [
    "Hpn = isotope_peaks_df.iloc[isotope_idx_not_in_saturation].summed_intensity"
   ]
  },
  {
   "cell_type": "code",
   "execution_count": 288,
   "metadata": {},
   "outputs": [
    {
     "name": "stdout",
     "output_type": "stream",
     "text": [
      "4\n",
      "3\n",
      "2\n",
      "1\n"
     ]
    }
   ],
   "source": [
    "# using as a reference the most intense isotope that is not in saturation, derive the isotope intensities back to the monoisotopic\n",
    "for peak_number in reversed(range(1,isotope_idx_not_in_saturation+1)):\n",
    "    print(peak_number)\n",
    "    phr = peak_ratio(monoisotopic_mass, peak_number, number_of_sulphur=0)\n",
    "    Hpn_minus_1 = Hpn / phr\n",
    "    isotope_peaks_df.loc[isotope_peaks_df.index == peak_number-1, 'adjusted_intensity'] = Hpn_minus_1\n",
    "    isotope_peaks_df.loc[isotope_peaks_df.index == peak_number-1, 'adjusted_for_saturation'] = True\n",
    "    Hpn = Hpn_minus_1"
   ]
  },
  {
   "cell_type": "code",
   "execution_count": 289,
   "metadata": {},
   "outputs": [
    {
     "data": {
      "text/html": [
       "<div>\n",
       "<style scoped>\n",
       "    .dataframe tbody tr th:only-of-type {\n",
       "        vertical-align: middle;\n",
       "    }\n",
       "\n",
       "    .dataframe tbody tr th {\n",
       "        vertical-align: top;\n",
       "    }\n",
       "\n",
       "    .dataframe thead th {\n",
       "        text-align: right;\n",
       "    }\n",
       "</style>\n",
       "<table border=\"1\" class=\"dataframe\">\n",
       "  <thead>\n",
       "    <tr style=\"text-align: right;\">\n",
       "      <th></th>\n",
       "      <th>mz_centroid</th>\n",
       "      <th>summed_intensity</th>\n",
       "      <th>adjusted_intensity</th>\n",
       "      <th>adjusted_for_saturation</th>\n",
       "    </tr>\n",
       "  </thead>\n",
       "  <tbody>\n",
       "    <tr>\n",
       "      <th>0</th>\n",
       "      <td>1130.578349</td>\n",
       "      <td>2447266.0</td>\n",
       "      <td>2.001178e+06</td>\n",
       "      <td>True</td>\n",
       "    </tr>\n",
       "    <tr>\n",
       "      <th>1</th>\n",
       "      <td>1131.080031</td>\n",
       "      <td>2817676.0</td>\n",
       "      <td>2.445469e+06</td>\n",
       "      <td>True</td>\n",
       "    </tr>\n",
       "    <tr>\n",
       "      <th>2</th>\n",
       "      <td>1131.581029</td>\n",
       "      <td>1872001.0</td>\n",
       "      <td>1.612455e+06</td>\n",
       "      <td>True</td>\n",
       "    </tr>\n",
       "    <tr>\n",
       "      <th>3</th>\n",
       "      <td>1132.082188</td>\n",
       "      <td>827148.0</td>\n",
       "      <td>7.523446e+05</td>\n",
       "      <td>True</td>\n",
       "    </tr>\n",
       "    <tr>\n",
       "      <th>4</th>\n",
       "      <td>1132.582894</td>\n",
       "      <td>276063.0</td>\n",
       "      <td>2.760630e+05</td>\n",
       "      <td>False</td>\n",
       "    </tr>\n",
       "    <tr>\n",
       "      <th>5</th>\n",
       "      <td>1133.084192</td>\n",
       "      <td>79000.0</td>\n",
       "      <td>7.900000e+04</td>\n",
       "      <td>False</td>\n",
       "    </tr>\n",
       "    <tr>\n",
       "      <th>6</th>\n",
       "      <td>1133.585446</td>\n",
       "      <td>20755.0</td>\n",
       "      <td>2.075500e+04</td>\n",
       "      <td>False</td>\n",
       "    </tr>\n",
       "  </tbody>\n",
       "</table>\n",
       "</div>"
      ],
      "text/plain": [
       "   mz_centroid  summed_intensity  adjusted_intensity  adjusted_for_saturation\n",
       "0  1130.578349         2447266.0        2.001178e+06                     True\n",
       "1  1131.080031         2817676.0        2.445469e+06                     True\n",
       "2  1131.581029         1872001.0        1.612455e+06                     True\n",
       "3  1132.082188          827148.0        7.523446e+05                     True\n",
       "4  1132.582894          276063.0        2.760630e+05                    False\n",
       "5  1133.084192           79000.0        7.900000e+04                    False\n",
       "6  1133.585446           20755.0        2.075500e+04                    False"
      ]
     },
     "execution_count": 289,
     "metadata": {},
     "output_type": "execute_result"
    }
   ],
   "source": [
    "isotope_peaks_df"
   ]
  },
  {
   "cell_type": "code",
   "execution_count": 290,
   "metadata": {},
   "outputs": [
    {
     "data": {
      "image/png": "[encoded data removed]",
      "text/plain": [
       "<Figure size 1080x576 with 1 Axes>"
      ]
     },
     "metadata": {
      "needs_background": "light"
     },
     "output_type": "display_data"
    }
   ],
   "source": [
    "f, ax = plt.subplots()\n",
    "colors = ['tab:blue', 'tab:orange', 'tab:green', 'tab:red', 'tab:purple', 'tab:brown', 'tab:pink', 'tab:gray', 'tab:olive', 'tab:cyan']\n",
    "\n",
    "markerline, stemlines, baseline = ax.stem(isotope_peaks_df.mz_centroid, isotope_peaks_df.summed_intensity, use_line_collection=True, label='before adjustment for saturation')\n",
    "plt.setp(markerline, 'color', 'tab:green')\n",
    "plt.setp(stemlines, 'color', 'tab:green')\n",
    "plt.setp(baseline, 'color', colors[7])\n",
    "plt.setp(markerline, 'alpha', 0.6)\n",
    "plt.setp(stemlines, 'alpha', 0.6)\n",
    "\n",
    "markerline, stemlines, baseline = ax.stem(isotope_peaks_df.mz_centroid, isotope_peaks_df.adjusted_intensity, use_line_collection=True, label='after adjustment for saturation')\n",
    "plt.setp(markerline, 'color', 'tab:orange')\n",
    "plt.setp(stemlines, 'color', 'tab:orange')\n",
    "plt.setp(baseline, 'color', colors[7])\n",
    "plt.setp(markerline, 'alpha', 0.6)\n",
    "plt.setp(stemlines, 'alpha', 0.6)\n",
    "\n",
    "plt.xlabel('m/z')\n",
    "plt.ylabel('intensity')\n",
    "f.set_figheight(8)\n",
    "f.set_figwidth(15)\n",
    "plt.margins(0.06)\n",
    "plt.legend(loc='best')\n",
    "plt.title('Isotopes before and after saturation adjustment\\nrun {}, sequence {}, charge {}'.format(run_name, row.sequence, row.charge))\n",
    "plt.show()"
   ]
  },
  {
   "cell_type": "code",
   "execution_count": null,
   "metadata": {},
   "outputs": [],
   "source": []
  }
 ],
 "metadata": {
  "kernelspec": {
   "display_name": "Python 3",
   "language": "python",
   "name": "python3"
  },
  "language_info": {
   "codemirror_mode": {
    "name": "ipython",
    "version": 3
   },
   "file_extension": ".py",
   "mimetype": "text/x-python",
   "name": "python",
   "nbconvert_exporter": "python",
   "pygments_lexer": "ipython3",
   "version": "3.6.8"
  }
 },
 "nbformat": 4,
 "nbformat_minor": 2
}
