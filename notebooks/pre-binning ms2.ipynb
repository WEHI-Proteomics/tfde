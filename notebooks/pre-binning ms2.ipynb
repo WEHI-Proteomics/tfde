{
 "cells": [
  {
   "cell_type": "code",
   "execution_count": 27,
   "metadata": {},
   "outputs": [],
   "source": [
    "import sqlite3\n",
    "import pandas as pd\n",
    "import numpy as np\n",
    "import sys\n",
    "import matplotlib.pyplot as plt\n",
    "import peakutils"
   ]
  },
  {
   "cell_type": "code",
   "execution_count": 28,
   "metadata": {},
   "outputs": [],
   "source": [
    "RT_LIMIT_LOWER = 4340  # RT range in the database\n",
    "RT_LIMIT_UPPER = 4580\n",
    "RT_BASE_PEAK_WIDTH_SECS = 30.0  # assumption about base peak width in RT\n",
    "RT_FRAGMENT_EVENT_DELTA_SECS = 3.5  # use this window for constraining RT to focus on the fragmentation event\n",
    "MS1_CE = 10"
   ]
  },
  {
   "cell_type": "code",
   "execution_count": 29,
   "metadata": {},
   "outputs": [],
   "source": [
    "BASE_NAME = \"/Users/darylwilding-mcbride/Downloads/HeLa_20KInt-rt-{}-{}-denoised\".format(RT_LIMIT_LOWER,RT_LIMIT_UPPER)\n",
    "BASE_MAXQUANT_TXT_DIR = '/Users/darylwilding-mcbride/Downloads/maxquant_results/txt'\n",
    "ALLPEPTIDES_FILENAME = '{}/allPeptides.txt'.format(BASE_MAXQUANT_TXT_DIR)\n",
    "PASEF_MSMS_SCANS_FILENAME = '{}/pasefMsmsScans.txt'.format(BASE_MAXQUANT_TXT_DIR)\n",
    "CONVERTED_DATABASE_NAME = '{}/HeLa_20KInt.sqlite'.format(BASE_NAME)"
   ]
  },
  {
   "cell_type": "code",
   "execution_count": 30,
   "metadata": {},
   "outputs": [],
   "source": [
    "db_conn = sqlite3.connect(CONVERTED_DATABASE_NAME)\n",
    "ms1_frame_properties_df = pd.read_sql_query(\"select frame_id,retention_time_secs from frame_properties where retention_time_secs >= {} and retention_time_secs <= {} and collision_energy == {}\".format(RT_LIMIT_LOWER,RT_LIMIT_UPPER,MS1_CE), db_conn)\n",
    "ms2_frame_properties_df = pd.read_sql_query(\"select frame_id,retention_time_secs from frame_properties where retention_time_secs >= {} and retention_time_secs <= {} and collision_energy <> {}\".format(RT_LIMIT_LOWER,RT_LIMIT_UPPER,MS1_CE), db_conn)\n",
    "db_conn.close()"
   ]
  },
  {
   "cell_type": "code",
   "execution_count": 31,
   "metadata": {},
   "outputs": [
    {
     "data": {
      "text/plain": [
       "2032"
      ]
     },
     "execution_count": 31,
     "metadata": {},
     "output_type": "execute_result"
    }
   ],
   "source": [
    "len(ms2_frame_properties_df)"
   ]
  },
  {
   "cell_type": "code",
   "execution_count": 32,
   "metadata": {},
   "outputs": [
    {
     "data": {
      "text/plain": [
       "[40408, 40409, 40410, 40412, 40413]"
      ]
     },
     "execution_count": 32,
     "metadata": {},
     "output_type": "execute_result"
    }
   ],
   "source": [
    "list(ms2_frame_properties_df[:5].frame_id)"
   ]
  },
  {
   "cell_type": "code",
   "execution_count": 33,
   "metadata": {},
   "outputs": [],
   "source": [
    "MS2_MZ_MAX = 1750\n",
    "MS2_MZ_MIN = 90"
   ]
  },
  {
   "cell_type": "code",
   "execution_count": 34,
   "metadata": {},
   "outputs": [],
   "source": [
    "ms2_frame_ids = tuple(ms2_frame_properties_df.frame_id)"
   ]
  },
  {
   "cell_type": "markdown",
   "metadata": {},
   "source": [
    "create the bins from the range of m/z"
   ]
  },
  {
   "cell_type": "code",
   "execution_count": 139,
   "metadata": {},
   "outputs": [
    {
     "data": {
      "text/plain": [
       "1660001"
      ]
     },
     "execution_count": 139,
     "metadata": {},
     "output_type": "execute_result"
    }
   ],
   "source": [
    "MS2_MZ_BIN_WIDTH = 1e-3\n",
    "\n",
    "ms2_bins = np.arange(start=MS2_MZ_MIN, stop=MS2_MZ_MAX+MS2_MZ_BIN_WIDTH, step=MS2_MZ_BIN_WIDTH)  # go slightly wider to accomodate the maximum value\n",
    "\n",
    "MS2_MZ_BIN_COUNT = len(ms2_bins)\n",
    "MS2_MZ_BIN_COUNT"
   ]
  },
  {
   "cell_type": "code",
   "execution_count": 184,
   "metadata": {},
   "outputs": [],
   "source": [
    "# get the raw points for this frame\n",
    "db_conn = sqlite3.connect(CONVERTED_DATABASE_NAME)\n",
    "ms2_raw_points_df = pd.read_sql_query(\"select frame_id,mz,scan,intensity from frames where frame_id in {} and mz >= {} and mz <= {} and intensity > 0\".format(ms2_frame_ids, MS2_MZ_MIN, MS2_MZ_MAX), db_conn)\n",
    "db_conn.close()\n"
   ]
  },
  {
   "cell_type": "code",
   "execution_count": 185,
   "metadata": {},
   "outputs": [],
   "source": [
    "ms2_raw_points_df['bin_idx'] = np.digitize(ms2_raw_points_df.mz, ms2_bins).astype(int)"
   ]
  },
  {
   "cell_type": "code",
   "execution_count": 186,
   "metadata": {},
   "outputs": [
    {
     "data": {
      "text/html": [
       "<div>\n",
       "<style scoped>\n",
       "    .dataframe tbody tr th:only-of-type {\n",
       "        vertical-align: middle;\n",
       "    }\n",
       "\n",
       "    .dataframe tbody tr th {\n",
       "        vertical-align: top;\n",
       "    }\n",
       "\n",
       "    .dataframe thead th {\n",
       "        text-align: right;\n",
       "    }\n",
       "</style>\n",
       "<table border=\"1\" class=\"dataframe\">\n",
       "  <thead>\n",
       "    <tr style=\"text-align: right;\">\n",
       "      <th></th>\n",
       "      <th>frame_id</th>\n",
       "      <th>mz</th>\n",
       "      <th>scan</th>\n",
       "      <th>intensity</th>\n",
       "      <th>bin_idx</th>\n",
       "    </tr>\n",
       "  </thead>\n",
       "  <tbody>\n",
       "    <tr>\n",
       "      <th>0</th>\n",
       "      <td>40408</td>\n",
       "      <td>401.182366</td>\n",
       "      <td>112</td>\n",
       "      <td>24</td>\n",
       "      <td>311183</td>\n",
       "    </tr>\n",
       "    <tr>\n",
       "      <th>1</th>\n",
       "      <td>40408</td>\n",
       "      <td>404.143928</td>\n",
       "      <td>112</td>\n",
       "      <td>58</td>\n",
       "      <td>314144</td>\n",
       "    </tr>\n",
       "    <tr>\n",
       "      <th>2</th>\n",
       "      <td>40408</td>\n",
       "      <td>773.382510</td>\n",
       "      <td>112</td>\n",
       "      <td>22</td>\n",
       "      <td>683383</td>\n",
       "    </tr>\n",
       "    <tr>\n",
       "      <th>3</th>\n",
       "      <td>40408</td>\n",
       "      <td>854.732578</td>\n",
       "      <td>112</td>\n",
       "      <td>61</td>\n",
       "      <td>764733</td>\n",
       "    </tr>\n",
       "    <tr>\n",
       "      <th>4</th>\n",
       "      <td>40408</td>\n",
       "      <td>855.368861</td>\n",
       "      <td>112</td>\n",
       "      <td>63</td>\n",
       "      <td>765369</td>\n",
       "    </tr>\n",
       "  </tbody>\n",
       "</table>\n",
       "</div>"
      ],
      "text/plain": [
       "   frame_id          mz  scan  intensity  bin_idx\n",
       "0     40408  401.182366   112         24   311183\n",
       "1     40408  404.143928   112         58   314144\n",
       "2     40408  773.382510   112         22   683383\n",
       "3     40408  854.732578   112         61   764733\n",
       "4     40408  855.368861   112         63   765369"
      ]
     },
     "execution_count": 186,
     "metadata": {},
     "output_type": "execute_result"
    }
   ],
   "source": [
    "ms2_raw_points_df.head()"
   ]
  },
  {
   "cell_type": "code",
   "execution_count": 187,
   "metadata": {},
   "outputs": [],
   "source": [
    "# save the binned ms2 for later\n",
    "ms2_raw_points_df.to_pickle('/Users/darylwilding-mcbride/Downloads/binned_ms2_df.pkl')"
   ]
  },
  {
   "cell_type": "markdown",
   "metadata": {},
   "source": [
    "for a selection of ms2 frames, combine the raw points and centroid them"
   ]
  },
  {
   "cell_type": "code",
   "execution_count": 188,
   "metadata": {},
   "outputs": [
    {
     "data": {
      "text/plain": [
       "[40408, 40409, 40410, 40412, 40413]"
      ]
     },
     "execution_count": 188,
     "metadata": {},
     "output_type": "execute_result"
    }
   ],
   "source": [
    "ms2_frame_ids_to_combine = list(ms2_frame_properties_df[:5].frame_id)\n",
    "ms2_frame_ids_to_combine"
   ]
  },
  {
   "cell_type": "code",
   "execution_count": 189,
   "metadata": {},
   "outputs": [],
   "source": [
    "ms2_frames_to_combine_df = ms2_raw_points_df[ms2_raw_points_df.frame_id.isin(ms2_frame_ids_to_combine)]"
   ]
  },
  {
   "cell_type": "code",
   "execution_count": 190,
   "metadata": {},
   "outputs": [],
   "source": [
    "def calc_centroid(bin_df):\n",
    "    d = {}\n",
    "    d['bin_idx'] = bin_df.iloc[0].bin_idx\n",
    "    d['mz_centroid'] = peakutils.centroid(bin_df.mz, bin_df.intensity)\n",
    "    d['summed_intensity'] = bin_df.intensity.sum()\n",
    "    d['point_count'] = len(bin_df)\n",
    "    return pd.Series(d, index=['bin_idx','mz_centroid','summed_intensity','point_count'])"
   ]
  },
  {
   "cell_type": "code",
   "execution_count": 146,
   "metadata": {
    "scrolled": false
   },
   "outputs": [],
   "source": [
    "combined_ms2_df = ms2_frames_to_combine_df.groupby(['bin_idx'], as_index=False).apply(calc_centroid)\n",
    "combined_ms2_df.summed_intensity = combined_ms2_df.summed_intensity.astype(int)\n",
    "combined_ms2_df.bin_idx = combined_ms2_df.bin_idx.astype(int)\n",
    "combined_ms2_df.point_count = combined_ms2_df.point_count.astype(int)"
   ]
  },
  {
   "cell_type": "code",
   "execution_count": 147,
   "metadata": {},
   "outputs": [
    {
     "data": {
      "text/html": [
       "<div>\n",
       "<style scoped>\n",
       "    .dataframe tbody tr th:only-of-type {\n",
       "        vertical-align: middle;\n",
       "    }\n",
       "\n",
       "    .dataframe tbody tr th {\n",
       "        vertical-align: top;\n",
       "    }\n",
       "\n",
       "    .dataframe thead th {\n",
       "        text-align: right;\n",
       "    }\n",
       "</style>\n",
       "<table border=\"1\" class=\"dataframe\">\n",
       "  <thead>\n",
       "    <tr style=\"text-align: right;\">\n",
       "      <th></th>\n",
       "      <th>bin_idx</th>\n",
       "      <th>mz_centroid</th>\n",
       "      <th>summed_intensity</th>\n",
       "      <th>point_count</th>\n",
       "    </tr>\n",
       "  </thead>\n",
       "  <tbody>\n",
       "    <tr>\n",
       "      <th>1030</th>\n",
       "      <td>241122</td>\n",
       "      <td>331.121800</td>\n",
       "      <td>1209</td>\n",
       "      <td>12</td>\n",
       "    </tr>\n",
       "    <tr>\n",
       "      <th>1031</th>\n",
       "      <td>241125</td>\n",
       "      <td>331.124669</td>\n",
       "      <td>1352</td>\n",
       "      <td>14</td>\n",
       "    </tr>\n",
       "    <tr>\n",
       "      <th>2384</th>\n",
       "      <td>350215</td>\n",
       "      <td>440.214516</td>\n",
       "      <td>611</td>\n",
       "      <td>11</td>\n",
       "    </tr>\n",
       "    <tr>\n",
       "      <th>3260</th>\n",
       "      <td>401228</td>\n",
       "      <td>491.227304</td>\n",
       "      <td>849</td>\n",
       "      <td>14</td>\n",
       "    </tr>\n",
       "    <tr>\n",
       "      <th>5389</th>\n",
       "      <td>507333</td>\n",
       "      <td>597.332233</td>\n",
       "      <td>570</td>\n",
       "      <td>11</td>\n",
       "    </tr>\n",
       "    <tr>\n",
       "      <th>8067</th>\n",
       "      <td>638362</td>\n",
       "      <td>728.361125</td>\n",
       "      <td>456</td>\n",
       "      <td>11</td>\n",
       "    </tr>\n",
       "    <tr>\n",
       "      <th>10887</th>\n",
       "      <td>776533</td>\n",
       "      <td>866.532859</td>\n",
       "      <td>636</td>\n",
       "      <td>12</td>\n",
       "    </tr>\n",
       "    <tr>\n",
       "      <th>11657</th>\n",
       "      <td>822466</td>\n",
       "      <td>912.465115</td>\n",
       "      <td>676</td>\n",
       "      <td>13</td>\n",
       "    </tr>\n",
       "    <tr>\n",
       "      <th>12526</th>\n",
       "      <td>876537</td>\n",
       "      <td>966.536887</td>\n",
       "      <td>514</td>\n",
       "      <td>11</td>\n",
       "    </tr>\n",
       "    <tr>\n",
       "      <th>12645</th>\n",
       "      <td>887973</td>\n",
       "      <td>977.972874</td>\n",
       "      <td>1486</td>\n",
       "      <td>11</td>\n",
       "    </tr>\n",
       "    <tr>\n",
       "      <th>12660</th>\n",
       "      <td>888471</td>\n",
       "      <td>978.470973</td>\n",
       "      <td>870</td>\n",
       "      <td>11</td>\n",
       "    </tr>\n",
       "    <tr>\n",
       "      <th>12661</th>\n",
       "      <td>888476</td>\n",
       "      <td>978.475905</td>\n",
       "      <td>946</td>\n",
       "      <td>13</td>\n",
       "    </tr>\n",
       "    <tr>\n",
       "      <th>12684</th>\n",
       "      <td>888975</td>\n",
       "      <td>978.974132</td>\n",
       "      <td>977</td>\n",
       "      <td>11</td>\n",
       "    </tr>\n",
       "    <tr>\n",
       "      <th>13408</th>\n",
       "      <td>944518</td>\n",
       "      <td>1034.517824</td>\n",
       "      <td>741</td>\n",
       "      <td>13</td>\n",
       "    </tr>\n",
       "    <tr>\n",
       "      <th>13767</th>\n",
       "      <td>964003</td>\n",
       "      <td>1054.002507</td>\n",
       "      <td>923</td>\n",
       "      <td>12</td>\n",
       "    </tr>\n",
       "    <tr>\n",
       "      <th>13768</th>\n",
       "      <td>964008</td>\n",
       "      <td>1054.007627</td>\n",
       "      <td>1402</td>\n",
       "      <td>14</td>\n",
       "    </tr>\n",
       "    <tr>\n",
       "      <th>13784</th>\n",
       "      <td>964515</td>\n",
       "      <td>1054.514483</td>\n",
       "      <td>1489</td>\n",
       "      <td>18</td>\n",
       "    </tr>\n",
       "    <tr>\n",
       "      <th>13811</th>\n",
       "      <td>965017</td>\n",
       "      <td>1055.016340</td>\n",
       "      <td>903</td>\n",
       "      <td>12</td>\n",
       "    </tr>\n",
       "  </tbody>\n",
       "</table>\n",
       "</div>"
      ],
      "text/plain": [
       "       bin_idx  mz_centroid  summed_intensity  point_count\n",
       "1030    241122   331.121800              1209           12\n",
       "1031    241125   331.124669              1352           14\n",
       "2384    350215   440.214516               611           11\n",
       "3260    401228   491.227304               849           14\n",
       "5389    507333   597.332233               570           11\n",
       "8067    638362   728.361125               456           11\n",
       "10887   776533   866.532859               636           12\n",
       "11657   822466   912.465115               676           13\n",
       "12526   876537   966.536887               514           11\n",
       "12645   887973   977.972874              1486           11\n",
       "12660   888471   978.470973               870           11\n",
       "12661   888476   978.475905               946           13\n",
       "12684   888975   978.974132               977           11\n",
       "13408   944518  1034.517824               741           13\n",
       "13767   964003  1054.002507               923           12\n",
       "13768   964008  1054.007627              1402           14\n",
       "13784   964515  1054.514483              1489           18\n",
       "13811   965017  1055.016340               903           12"
      ]
     },
     "execution_count": 147,
     "metadata": {},
     "output_type": "execute_result"
    }
   ],
   "source": [
    "combined_ms2_df[combined_ms2_df.point_count > 10]"
   ]
  },
  {
   "cell_type": "code",
   "execution_count": 192,
   "metadata": {},
   "outputs": [
    {
     "data": {
      "text/html": [
       "<div>\n",
       "<style scoped>\n",
       "    .dataframe tbody tr th:only-of-type {\n",
       "        vertical-align: middle;\n",
       "    }\n",
       "\n",
       "    .dataframe tbody tr th {\n",
       "        vertical-align: top;\n",
       "    }\n",
       "\n",
       "    .dataframe thead th {\n",
       "        text-align: right;\n",
       "    }\n",
       "</style>\n",
       "<table border=\"1\" class=\"dataframe\">\n",
       "  <thead>\n",
       "    <tr style=\"text-align: right;\">\n",
       "      <th></th>\n",
       "      <th>frame_id</th>\n",
       "      <th>mz</th>\n",
       "      <th>scan</th>\n",
       "      <th>intensity</th>\n",
       "      <th>bin_idx</th>\n",
       "    </tr>\n",
       "  </thead>\n",
       "  <tbody>\n",
       "    <tr>\n",
       "      <th>406</th>\n",
       "      <td>40408</td>\n",
       "      <td>1054.514483</td>\n",
       "      <td>264</td>\n",
       "      <td>52</td>\n",
       "      <td>964515</td>\n",
       "    </tr>\n",
       "    <tr>\n",
       "      <th>445</th>\n",
       "      <td>40408</td>\n",
       "      <td>1054.514483</td>\n",
       "      <td>267</td>\n",
       "      <td>88</td>\n",
       "      <td>964515</td>\n",
       "    </tr>\n",
       "    <tr>\n",
       "      <th>466</th>\n",
       "      <td>40408</td>\n",
       "      <td>1054.514483</td>\n",
       "      <td>268</td>\n",
       "      <td>45</td>\n",
       "      <td>964515</td>\n",
       "    </tr>\n",
       "    <tr>\n",
       "      <th>480</th>\n",
       "      <td>40408</td>\n",
       "      <td>1054.514483</td>\n",
       "      <td>269</td>\n",
       "      <td>226</td>\n",
       "      <td>964515</td>\n",
       "    </tr>\n",
       "    <tr>\n",
       "      <th>522</th>\n",
       "      <td>40408</td>\n",
       "      <td>1054.514483</td>\n",
       "      <td>272</td>\n",
       "      <td>50</td>\n",
       "      <td>964515</td>\n",
       "    </tr>\n",
       "    <tr>\n",
       "      <th>553</th>\n",
       "      <td>40408</td>\n",
       "      <td>1054.514483</td>\n",
       "      <td>274</td>\n",
       "      <td>31</td>\n",
       "      <td>964515</td>\n",
       "    </tr>\n",
       "    <tr>\n",
       "      <th>586</th>\n",
       "      <td>40408</td>\n",
       "      <td>1054.514483</td>\n",
       "      <td>276</td>\n",
       "      <td>36</td>\n",
       "      <td>964515</td>\n",
       "    </tr>\n",
       "    <tr>\n",
       "      <th>678</th>\n",
       "      <td>40408</td>\n",
       "      <td>1054.514483</td>\n",
       "      <td>284</td>\n",
       "      <td>148</td>\n",
       "      <td>964515</td>\n",
       "    </tr>\n",
       "    <tr>\n",
       "      <th>6797</th>\n",
       "      <td>40409</td>\n",
       "      <td>1054.514483</td>\n",
       "      <td>276</td>\n",
       "      <td>142</td>\n",
       "      <td>964515</td>\n",
       "    </tr>\n",
       "    <tr>\n",
       "      <th>6771</th>\n",
       "      <td>40409</td>\n",
       "      <td>1054.514483</td>\n",
       "      <td>274</td>\n",
       "      <td>126</td>\n",
       "      <td>964515</td>\n",
       "    </tr>\n",
       "    <tr>\n",
       "      <th>6710</th>\n",
       "      <td>40409</td>\n",
       "      <td>1054.514483</td>\n",
       "      <td>270</td>\n",
       "      <td>31</td>\n",
       "      <td>964515</td>\n",
       "    </tr>\n",
       "    <tr>\n",
       "      <th>6741</th>\n",
       "      <td>40409</td>\n",
       "      <td>1054.514483</td>\n",
       "      <td>272</td>\n",
       "      <td>80</td>\n",
       "      <td>964515</td>\n",
       "    </tr>\n",
       "    <tr>\n",
       "      <th>6755</th>\n",
       "      <td>40409</td>\n",
       "      <td>1054.514483</td>\n",
       "      <td>273</td>\n",
       "      <td>73</td>\n",
       "      <td>964515</td>\n",
       "    </tr>\n",
       "    <tr>\n",
       "      <th>10912</th>\n",
       "      <td>40410</td>\n",
       "      <td>1054.514483</td>\n",
       "      <td>278</td>\n",
       "      <td>74</td>\n",
       "      <td>964515</td>\n",
       "    </tr>\n",
       "    <tr>\n",
       "      <th>10791</th>\n",
       "      <td>40410</td>\n",
       "      <td>1054.514483</td>\n",
       "      <td>269</td>\n",
       "      <td>91</td>\n",
       "      <td>964515</td>\n",
       "    </tr>\n",
       "    <tr>\n",
       "      <th>10876</th>\n",
       "      <td>40410</td>\n",
       "      <td>1054.514483</td>\n",
       "      <td>275</td>\n",
       "      <td>62</td>\n",
       "      <td>964515</td>\n",
       "    </tr>\n",
       "    <tr>\n",
       "      <th>10888</th>\n",
       "      <td>40410</td>\n",
       "      <td>1054.514483</td>\n",
       "      <td>276</td>\n",
       "      <td>44</td>\n",
       "      <td>964515</td>\n",
       "    </tr>\n",
       "    <tr>\n",
       "      <th>10977</th>\n",
       "      <td>40410</td>\n",
       "      <td>1054.514483</td>\n",
       "      <td>284</td>\n",
       "      <td>90</td>\n",
       "      <td>964515</td>\n",
       "    </tr>\n",
       "  </tbody>\n",
       "</table>\n",
       "</div>"
      ],
      "text/plain": [
       "       frame_id           mz  scan  intensity  bin_idx\n",
       "406       40408  1054.514483   264         52   964515\n",
       "445       40408  1054.514483   267         88   964515\n",
       "466       40408  1054.514483   268         45   964515\n",
       "480       40408  1054.514483   269        226   964515\n",
       "522       40408  1054.514483   272         50   964515\n",
       "553       40408  1054.514483   274         31   964515\n",
       "586       40408  1054.514483   276         36   964515\n",
       "678       40408  1054.514483   284        148   964515\n",
       "6797      40409  1054.514483   276        142   964515\n",
       "6771      40409  1054.514483   274        126   964515\n",
       "6710      40409  1054.514483   270         31   964515\n",
       "6741      40409  1054.514483   272         80   964515\n",
       "6755      40409  1054.514483   273         73   964515\n",
       "10912     40410  1054.514483   278         74   964515\n",
       "10791     40410  1054.514483   269         91   964515\n",
       "10876     40410  1054.514483   275         62   964515\n",
       "10888     40410  1054.514483   276         44   964515\n",
       "10977     40410  1054.514483   284         90   964515"
      ]
     },
     "execution_count": 192,
     "metadata": {},
     "output_type": "execute_result"
    }
   ],
   "source": [
    "ms2_frames_to_combine_df[ms2_frames_to_combine_df.bin_idx == 964515].sort_values(['frame_id'])"
   ]
  },
  {
   "cell_type": "markdown",
   "metadata": {},
   "source": [
    "for small bins widths, the m/z values are the same, so there's no point centroiding them. However, we want to be able to vary the bin widths so we'll make it general."
   ]
  },
  {
   "cell_type": "code",
   "execution_count": 181,
   "metadata": {},
   "outputs": [
    {
     "data": {
      "text/plain": [
       "array(964521)"
      ]
     },
     "execution_count": 181,
     "metadata": {},
     "output_type": "execute_result"
    }
   ],
   "source": [
    "np.digitize(1054.5201, ms2_bins).astype(int)"
   ]
  },
  {
   "cell_type": "code",
   "execution_count": null,
   "metadata": {},
   "outputs": [],
   "source": []
  }
 ],
 "metadata": {
  "kernelspec": {
   "display_name": "Python 3",
   "language": "python",
   "name": "python3"
  },
  "language_info": {
   "codemirror_mode": {
    "name": "ipython",
    "version": 3
   },
   "file_extension": ".py",
   "mimetype": "text/x-python",
   "name": "python",
   "nbconvert_exporter": "python",
   "pygments_lexer": "ipython3",
   "version": "3.6.7"
  }
 },
 "nbformat": 4,
 "nbformat_minor": 2
}
