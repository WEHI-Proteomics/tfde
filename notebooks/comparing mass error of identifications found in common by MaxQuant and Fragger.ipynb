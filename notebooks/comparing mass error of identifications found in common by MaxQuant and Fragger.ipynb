{
 "cells": [
  {
   "cell_type": "code",
   "execution_count": 9,
   "metadata": {},
   "outputs": [],
   "source": [
    "import pandas as pd\n",
    "import numpy as np\n",
    "import sqlite3\n",
    "import json\n",
    "import matplotlib.pyplot as plt\n",
    "%matplotlib inline\n",
    "from os.path import expanduser\n",
    "import pickle"
   ]
  },
  {
   "cell_type": "code",
   "execution_count": 10,
   "metadata": {},
   "outputs": [],
   "source": [
    "run_name = 'P3856_YHE211_1_Slot1-1_1_5104'\n",
    "RT_LOWER = 1650\n",
    "RT_UPPER = 2200"
   ]
  },
  {
   "cell_type": "markdown",
   "metadata": {},
   "source": [
    "#### prepare the MaxQuant results"
   ]
  },
  {
   "cell_type": "code",
   "execution_count": 11,
   "metadata": {},
   "outputs": [],
   "source": [
    "mq_results_df = pd.read_csv('{}/evidence-P3856.txt'.format(expanduser('~')), sep='\\\\t', engine='python')"
   ]
  },
  {
   "cell_type": "code",
   "execution_count": 12,
   "metadata": {},
   "outputs": [],
   "source": [
    "# remove decoys, which are indicated by a '+' in the Reverse column\n",
    "mq_results_df = mq_results_df[pd.isna(mq_results_df.Reverse)]\n",
    "# remove identifications with no intensity\n",
    "mq_results_df = mq_results_df[(mq_results_df.Intensity > 0)]\n",
    "# remove potential contaminants\n",
    "mq_results_df = mq_results_df[pd.isna(mq_results_df['Potential contaminant'])]\n",
    "# only those identifications for this run\n",
    "mq_results_df = mq_results_df[mq_results_df['Raw file'] == run_name]\n",
    "# only MS/MS\n",
    "mq_results_df = mq_results_df[mq_results_df['Type'] == 'TIMS-MULTI-MSMS']\n",
    "# remove identifications with large mass error\n",
    "mq_results_df = mq_results_df[np.abs(mq_results_df['Mass error [ppm]']) <= 20.0]\n",
    "# only those in the RT region of interest\n",
    "mq_results_df = mq_results_df[(mq_results_df['Retention time']*60.0 > RT_LOWER) & (mq_results_df['Retention time']*60.0 < RT_UPPER)]"
   ]
  },
  {
   "cell_type": "code",
   "execution_count": 13,
   "metadata": {},
   "outputs": [
    {
     "data": {
      "text/plain": [
       "array(['TIMS-MULTI-MSMS'], dtype=object)"
      ]
     },
     "execution_count": 13,
     "metadata": {},
     "output_type": "execute_result"
    }
   ],
   "source": [
    "mq_results_df['Type'].unique()"
   ]
  },
  {
   "cell_type": "code",
   "execution_count": 14,
   "metadata": {},
   "outputs": [],
   "source": [
    "# definition of uniqueness in MaxQuant output with MBR on\n",
    "unique_peptide_key = ['Sequence','Modifications','Charge']"
   ]
  },
  {
   "cell_type": "code",
   "execution_count": 19,
   "metadata": {},
   "outputs": [
    {
     "data": {
      "text/plain": [
       "Unmodified                               7270\n",
       "Acetyl (Protein N-term)                   132\n",
       "Oxidation (M)                              51\n",
       "2 Oxidation (M)                             3\n",
       "Acetyl (Protein N-term),Oxidation (M)       3\n",
       "Name: Modifications, dtype: int64"
      ]
     },
     "execution_count": 19,
     "metadata": {},
     "output_type": "execute_result"
    }
   ],
   "source": [
    "mq_results_df['Modifications'].value_counts()"
   ]
  },
  {
   "cell_type": "code",
   "execution_count": 23,
   "metadata": {},
   "outputs": [],
   "source": [
    "mq_sequences_l = []\n",
    "for group_name,group_df in mq_results_df[(mq_results_df['Modifications']=='Unmodified')].groupby(unique_peptide_key, as_index=False):\n",
    "    mq_sequences_l.append({'sequence':group_name[0], 'charge':group_name[2], 'mass_error_ppm':group_df['Mass error [ppm]'].min()})\n",
    "unique_identifications_mq_df = pd.DataFrame(mq_sequences_l)"
   ]
  },
  {
   "cell_type": "code",
   "execution_count": 24,
   "metadata": {},
   "outputs": [
    {
     "data": {
      "text/plain": [
       "7109"
      ]
     },
     "execution_count": 24,
     "metadata": {},
     "output_type": "execute_result"
    }
   ],
   "source": [
    "len(unique_identifications_mq_df)"
   ]
  },
  {
   "cell_type": "markdown",
   "metadata": {},
   "source": [
    "#### compare mass error of peptides found in common "
   ]
  },
  {
   "cell_type": "code",
   "execution_count": 25,
   "metadata": {},
   "outputs": [],
   "source": [
    "IDENTIFICATIONS_WITH_CS_FILE = '/home/daryl/P3856-results-cs-true-fmdw-false-2021-04-18-08-57-31/identifications-pasef/exp-P3856-identifications-pasef-recalibrated.pkl'\n",
    "MAXIMUM_Q_VALUE = 0.01"
   ]
  },
  {
   "cell_type": "code",
   "execution_count": 41,
   "metadata": {},
   "outputs": [],
   "source": [
    "# load the identifications that had saturated points in the mono\n",
    "with open(IDENTIFICATIONS_WITH_CS_FILE, 'rb') as handle:\n",
    "    d = pickle.load(handle)\n",
    "identifications_with_cs_df = d['identifications_df']\n",
    "# identifications_with_cs_df = identifications_with_cs_df[(identifications_with_cs_df['percolator q-value'] <= MAXIMUM_Q_VALUE)]"
   ]
  },
  {
   "cell_type": "code",
   "execution_count": 42,
   "metadata": {},
   "outputs": [],
   "source": [
    "sequences_l = []\n",
    "for group_name,group_df in identifications_with_cs_df.groupby(['sequence','charge'], as_index=False):\n",
    "    sequence = group_name[0]\n",
    "    charge = group_name[1]\n",
    "    mass_accuracy_ppm = group_df.mass_accuracy_ppm.min()\n",
    "    sequences_l.append({'sequence':sequence, 'charge':charge, 'mass_error_ppm':mass_accuracy_ppm})\n",
    "sequences_with_cs_df = pd.DataFrame(sequences_l)"
   ]
  },
  {
   "cell_type": "code",
   "execution_count": 43,
   "metadata": {},
   "outputs": [],
   "source": [
    "combined_df = pd.merge(unique_identifications_mq_df, sequences_with_cs_df, how='inner', left_on=['sequence','charge'], right_on=['sequence','charge'], suffixes=['_mq','_ours'])\n"
   ]
  },
  {
   "cell_type": "code",
   "execution_count": 48,
   "metadata": {},
   "outputs": [
    {
     "data": {
      "text/html": [
       "<div>\n",
       "<style scoped>\n",
       "    .dataframe tbody tr th:only-of-type {\n",
       "        vertical-align: middle;\n",
       "    }\n",
       "\n",
       "    .dataframe tbody tr th {\n",
       "        vertical-align: top;\n",
       "    }\n",
       "\n",
       "    .dataframe thead th {\n",
       "        text-align: right;\n",
       "    }\n",
       "</style>\n",
       "<table border=\"1\" class=\"dataframe\">\n",
       "  <thead>\n",
       "    <tr style=\"text-align: right;\">\n",
       "      <th></th>\n",
       "      <th>sequence</th>\n",
       "      <th>charge</th>\n",
       "      <th>mass_error_ppm_mq</th>\n",
       "      <th>mass_error_ppm_ours</th>\n",
       "    </tr>\n",
       "  </thead>\n",
       "  <tbody>\n",
       "    <tr>\n",
       "      <th>1898</th>\n",
       "      <td>IMNVIGEPIDER</td>\n",
       "      <td>2</td>\n",
       "      <td>0.175120</td>\n",
       "      <td>0.935928</td>\n",
       "    </tr>\n",
       "    <tr>\n",
       "      <th>1262</th>\n",
       "      <td>GEELEIVGHNSTPLK</td>\n",
       "      <td>2</td>\n",
       "      <td>0.357050</td>\n",
       "      <td>0.088589</td>\n",
       "    </tr>\n",
       "    <tr>\n",
       "      <th>2415</th>\n",
       "      <td>LNLIVDPNQRPVK</td>\n",
       "      <td>2</td>\n",
       "      <td>-0.044671</td>\n",
       "      <td>-0.344801</td>\n",
       "    </tr>\n",
       "    <tr>\n",
       "      <th>2470</th>\n",
       "      <td>LPPLPSLTSQPHQVLASEPIPFSDLQQVSR</td>\n",
       "      <td>3</td>\n",
       "      <td>-2.114700</td>\n",
       "      <td>-3.096152</td>\n",
       "    </tr>\n",
       "    <tr>\n",
       "      <th>597</th>\n",
       "      <td>DNALLSAIEESRK</td>\n",
       "      <td>2</td>\n",
       "      <td>-0.945200</td>\n",
       "      <td>-0.531931</td>\n",
       "    </tr>\n",
       "  </tbody>\n",
       "</table>\n",
       "</div>"
      ],
      "text/plain": [
       "                            sequence  charge  mass_error_ppm_mq  \\\n",
       "1898                    IMNVIGEPIDER       2           0.175120   \n",
       "1262                 GEELEIVGHNSTPLK       2           0.357050   \n",
       "2415                   LNLIVDPNQRPVK       2          -0.044671   \n",
       "2470  LPPLPSLTSQPHQVLASEPIPFSDLQQVSR       3          -2.114700   \n",
       "597                    DNALLSAIEESRK       2          -0.945200   \n",
       "\n",
       "      mass_error_ppm_ours  \n",
       "1898             0.935928  \n",
       "1262             0.088589  \n",
       "2415            -0.344801  \n",
       "2470            -3.096152  \n",
       "597             -0.531931  "
      ]
     },
     "execution_count": 48,
     "metadata": {},
     "output_type": "execute_result"
    }
   ],
   "source": [
    "combined_df.sample(n=5)"
   ]
  },
  {
   "cell_type": "code",
   "execution_count": 47,
   "metadata": {},
   "outputs": [
    {
     "data": {
      "text/plain": [
       "4457"
      ]
     },
     "execution_count": 47,
     "metadata": {},
     "output_type": "execute_result"
    }
   ],
   "source": [
    "len(combined_df)"
   ]
  },
  {
   "cell_type": "code",
   "execution_count": 54,
   "metadata": {},
   "outputs": [
    {
     "data": {
      "text/plain": [
       "9.5718"
      ]
     },
     "execution_count": 54,
     "metadata": {},
     "output_type": "execute_result"
    }
   ],
   "source": [
    "combined_df.mass_error_ppm_mq.max()"
   ]
  },
  {
   "cell_type": "code",
   "execution_count": 50,
   "metadata": {},
   "outputs": [
    {
     "data": {
      "text/plain": [
       "(1.3802092312753167, 4.002593994871528)"
      ]
     },
     "execution_count": 50,
     "metadata": {},
     "output_type": "execute_result"
    }
   ],
   "source": [
    "combined_df.mass_error_ppm_mq.std(), combined_df.mass_error_ppm_ours.std()"
   ]
  },
  {
   "cell_type": "code",
   "execution_count": 58,
   "metadata": {},
   "outputs": [
    {
     "data": {
      "image/png": "[encoded data removed]",
      "text/plain": [
       "<Figure size 1080x576 with 1 Axes>"
      ]
     },
     "metadata": {
      "needs_background": "light"
     },
     "output_type": "display_data"
    }
   ],
   "source": [
    "f, ax1 = plt.subplots()\n",
    "f.set_figheight(8)\n",
    "f.set_figwidth(15)\n",
    "\n",
    "plt.margins(0.06)\n",
    "plt.title('MaxQuant peptide sequence mass error distribution (std dev={})'.format(round(combined_df.mass_error_ppm_mq.std(),2)))\n",
    "\n",
    "bins = 300\n",
    "hist, bins, _ = plt.hist(combined_df.mass_error_ppm_mq, bins=bins)\n",
    "plt.xlabel('sequence mass error ppm')\n",
    "plt.ylabel('count')\n",
    "\n",
    "plt.xlim((-20,20))\n",
    "plt.ylim((0,400))\n",
    "\n",
    "plt.axvline(x=+1, linestyle=':', linewidth=4, color='orange')\n",
    "plt.axvline(x=-1, linestyle=':', linewidth=4, color='orange')\n",
    "\n",
    "plt.show()"
   ]
  },
  {
   "cell_type": "code",
   "execution_count": 59,
   "metadata": {},
   "outputs": [
    {
     "data": {
      "image/png": "[encoded data removed]",
      "text/plain": [
       "<Figure size 1080x576 with 1 Axes>"
      ]
     },
     "metadata": {
      "needs_background": "light"
     },
     "output_type": "display_data"
    }
   ],
   "source": [
    "f, ax1 = plt.subplots()\n",
    "f.set_figheight(8)\n",
    "f.set_figwidth(15)\n",
    "\n",
    "plt.margins(0.06)\n",
    "plt.title('TFD/E peptide sequence mass error distribution (std dev={})'.format(round(combined_df.mass_error_ppm_ours.std(),2)))\n",
    "\n",
    "bins = 300\n",
    "hist, bins, _ = plt.hist(combined_df.mass_error_ppm_ours, bins=bins)\n",
    "plt.xlabel('sequence mass error ppm')\n",
    "plt.ylabel('count')\n",
    "\n",
    "plt.xlim((-20,20))\n",
    "plt.ylim((0,400))\n",
    "\n",
    "plt.axvline(x=+1, linestyle=':', linewidth=4, color='orange')\n",
    "plt.axvline(x=-1, linestyle=':', linewidth=4, color='orange')\n",
    "\n",
    "plt.show()"
   ]
  },
  {
   "cell_type": "markdown",
   "metadata": {},
   "source": [
    "#### prepare the MSFragger results"
   ]
  },
  {
   "cell_type": "code",
   "execution_count": 22,
   "metadata": {},
   "outputs": [],
   "source": [
    "# use the Fragger analysis without MBR because there doesn't seem to be a way of distinguishing between identification and matching\n",
    "fragger_results_df = pd.read_csv('{}/MSstats-without-MBR.csv'.format(EXPERIMENT_DIR), sep=',')\n"
   ]
  },
  {
   "cell_type": "code",
   "execution_count": 23,
   "metadata": {},
   "outputs": [],
   "source": [
    "fragger_results_df = fragger_results_df[fragger_results_df.Intensity.notnull()]"
   ]
  },
  {
   "cell_type": "code",
   "execution_count": 24,
   "metadata": {},
   "outputs": [
    {
     "data": {
      "text/html": [
       "<div>\n",
       "<style scoped>\n",
       "    .dataframe tbody tr th:only-of-type {\n",
       "        vertical-align: middle;\n",
       "    }\n",
       "\n",
       "    .dataframe tbody tr th {\n",
       "        vertical-align: top;\n",
       "    }\n",
       "\n",
       "    .dataframe thead th {\n",
       "        text-align: right;\n",
       "    }\n",
       "</style>\n",
       "<table border=\"1\" class=\"dataframe\">\n",
       "  <thead>\n",
       "    <tr style=\"text-align: right;\">\n",
       "      <th></th>\n",
       "      <th>ProteinName</th>\n",
       "      <th>PeptideSequence</th>\n",
       "      <th>PrecursorCharge</th>\n",
       "      <th>FragmentIon</th>\n",
       "      <th>ProductCharge</th>\n",
       "      <th>IsotopeLabelType</th>\n",
       "      <th>Condition</th>\n",
       "      <th>BioReplicate</th>\n",
       "      <th>Run</th>\n",
       "      <th>Intensity</th>\n",
       "    </tr>\n",
       "  </thead>\n",
       "  <tbody>\n",
       "    <tr>\n",
       "      <th>212564</th>\n",
       "      <td>sp|P26368|U2AF2_HUMAN</td>\n",
       "      <td>LFIGGLPNYLNDDQVK</td>\n",
       "      <td>2</td>\n",
       "      <td>NaN</td>\n",
       "      <td>NaN</td>\n",
       "      <td>L</td>\n",
       "      <td>YHE114</td>\n",
       "      <td>4</td>\n",
       "      <td>P3856_YHE114_4_Slot1-1_1_5118</td>\n",
       "      <td>83068.330</td>\n",
       "    </tr>\n",
       "    <tr>\n",
       "      <th>500722</th>\n",
       "      <td>sp|Q6P2Q9|PRP8_HUMAN</td>\n",
       "      <td>GPGNPVPGPLAPLPDYMSEEK</td>\n",
       "      <td>2</td>\n",
       "      <td>NaN</td>\n",
       "      <td>NaN</td>\n",
       "      <td>L</td>\n",
       "      <td>YHE211</td>\n",
       "      <td>2</td>\n",
       "      <td>P3856_YHE211_2_Slot1-1_1_5105</td>\n",
       "      <td>195592.890</td>\n",
       "    </tr>\n",
       "    <tr>\n",
       "      <th>188000</th>\n",
       "      <td>sp|P21281|VATB2_HUMAN</td>\n",
       "      <td>GPVVLAEDFLDIMGQPINPQC[57.0215]R</td>\n",
       "      <td>3</td>\n",
       "      <td>NaN</td>\n",
       "      <td>NaN</td>\n",
       "      <td>L</td>\n",
       "      <td>YHE211</td>\n",
       "      <td>10</td>\n",
       "      <td>P3856_YHE211_10_Slot1-1_1_5113</td>\n",
       "      <td>28382.742</td>\n",
       "    </tr>\n",
       "    <tr>\n",
       "      <th>642703</th>\n",
       "      <td>sp|Q9P258|RCC2_HUMAN</td>\n",
       "      <td>NHTLALTETGSVFAFGENK</td>\n",
       "      <td>2</td>\n",
       "      <td>NaN</td>\n",
       "      <td>NaN</td>\n",
       "      <td>L</td>\n",
       "      <td>YHE114</td>\n",
       "      <td>3</td>\n",
       "      <td>P3856_YHE114_3_Slot1-1_1_5117</td>\n",
       "      <td>68730.630</td>\n",
       "    </tr>\n",
       "    <tr>\n",
       "      <th>373177</th>\n",
       "      <td>sp|P63010|AP2B1_HUMAN</td>\n",
       "      <td>LAPPLVTLLSGEPEVQYVALR</td>\n",
       "      <td>3</td>\n",
       "      <td>NaN</td>\n",
       "      <td>NaN</td>\n",
       "      <td>L</td>\n",
       "      <td>YHE010</td>\n",
       "      <td>7</td>\n",
       "      <td>P3856_YHE010_7_Slot1-1_1_5099</td>\n",
       "      <td>31515.666</td>\n",
       "    </tr>\n",
       "  </tbody>\n",
       "</table>\n",
       "</div>"
      ],
      "text/plain": [
       "                  ProteinName                  PeptideSequence  \\\n",
       "212564  sp|P26368|U2AF2_HUMAN                 LFIGGLPNYLNDDQVK   \n",
       "500722   sp|Q6P2Q9|PRP8_HUMAN            GPGNPVPGPLAPLPDYMSEEK   \n",
       "188000  sp|P21281|VATB2_HUMAN  GPVVLAEDFLDIMGQPINPQC[57.0215]R   \n",
       "642703   sp|Q9P258|RCC2_HUMAN              NHTLALTETGSVFAFGENK   \n",
       "373177  sp|P63010|AP2B1_HUMAN            LAPPLVTLLSGEPEVQYVALR   \n",
       "\n",
       "        PrecursorCharge  FragmentIon  ProductCharge IsotopeLabelType  \\\n",
       "212564                2          NaN            NaN                L   \n",
       "500722                2          NaN            NaN                L   \n",
       "188000                3          NaN            NaN                L   \n",
       "642703                2          NaN            NaN                L   \n",
       "373177                3          NaN            NaN                L   \n",
       "\n",
       "       Condition  BioReplicate                             Run   Intensity  \n",
       "212564    YHE114             4   P3856_YHE114_4_Slot1-1_1_5118   83068.330  \n",
       "500722    YHE211             2   P3856_YHE211_2_Slot1-1_1_5105  195592.890  \n",
       "188000    YHE211            10  P3856_YHE211_10_Slot1-1_1_5113   28382.742  \n",
       "642703    YHE114             3   P3856_YHE114_3_Slot1-1_1_5117   68730.630  \n",
       "373177    YHE010             7   P3856_YHE010_7_Slot1-1_1_5099   31515.666  "
      ]
     },
     "execution_count": 24,
     "metadata": {},
     "output_type": "execute_result"
    }
   ],
   "source": [
    "fragger_results_df.sample(n=5)"
   ]
  },
  {
   "cell_type": "code",
   "execution_count": 25,
   "metadata": {},
   "outputs": [],
   "source": [
    "# count the number of unique peptide identifications in each run\n",
    "fragger_counts_d = {}\n",
    "for group_name,group_df in fragger_results_df.groupby(['PeptideSequence', 'PrecursorCharge'], as_index=False):\n",
    "    for run_name in group_df['Run'].unique():\n",
    "        if run_name not in fragger_counts_d:\n",
    "            fragger_counts_d[run_name] = 0\n",
    "        fragger_counts_d[run_name] += 1"
   ]
  },
  {
   "cell_type": "code",
   "execution_count": 26,
   "metadata": {},
   "outputs": [],
   "source": [
    "# sort the run names by group then run number within the group\n",
    "sorted_counts_l = []\n",
    "for k in sorted(list(fragger_counts_d.keys()), key=lambda x: ( x.split('_')[1], int(x.split('_')[2]) )):\n",
    "    short_run_name = '_'.join(k.split('_Slot')[0].split('_')[1:])\n",
    "    sorted_counts_l.append((short_run_name, fragger_counts_d[k]))\n",
    "fragger_sorted_counts_df = pd.DataFrame(sorted_counts_l, columns=['run_name','count'])"
   ]
  },
  {
   "cell_type": "code",
   "execution_count": null,
   "metadata": {},
   "outputs": [],
   "source": []
  }
 ],
 "metadata": {
  "kernelspec": {
   "display_name": "Python 3",
   "language": "python",
   "name": "python3"
  },
  "language_info": {
   "codemirror_mode": {
    "name": "ipython",
    "version": 3
   },
   "file_extension": ".py",
   "mimetype": "text/x-python",
   "name": "python",
   "nbconvert_exporter": "python",
   "pygments_lexer": "ipython3",
   "version": "3.8.5"
  }
 },
 "nbformat": 4,
 "nbformat_minor": 4
}
