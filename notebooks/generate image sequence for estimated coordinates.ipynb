{
 "cells": [
  {
   "cell_type": "markdown",
   "metadata": {},
   "source": [
    "#### This notebook is superceded by the Python script ./otf-peak-detect/animations/generate-image-sequence-for-selected-peptide.py"
   ]
  },
  {
   "cell_type": "code",
   "execution_count": 1,
   "metadata": {},
   "outputs": [],
   "source": [
    "import pandas as pd\n",
    "import numpy as np\n",
    "import sys\n",
    "import pickle\n",
    "import glob\n",
    "import os\n",
    "import shutil\n",
    "import sqlite3\n",
    "import matplotlib.pyplot as plt\n",
    "from matplotlib import colors, cm, pyplot as plt\n",
    "from PIL import Image, ImageDraw, ImageFont"
   ]
  },
  {
   "cell_type": "code",
   "execution_count": 2,
   "metadata": {},
   "outputs": [],
   "source": [
    "EXPERIMENT_NAME = 'P3856'\n",
    "RUN_NAME = 'P3856_YHE114_1_Slot1-1_1_5115'\n",
    "# RUN_NAME = 'P3856_YHE114_5_Slot1-1_1_5119'\n",
    "# RUN_NAME = 'P3856_YHE114_4_Slot1-1_1_5118'"
   ]
  },
  {
   "cell_type": "code",
   "execution_count": 3,
   "metadata": {},
   "outputs": [],
   "source": [
    "EXPERIMENT_DIR = '/data2/experiments/{}'.format(EXPERIMENT_NAME)\n",
    "CONVERTED_DB = '{}/converted-databases/exp-{}-run-{}-converted.sqlite'.format(EXPERIMENT_DIR, EXPERIMENT_NAME, RUN_NAME)\n",
    "ENCODED_FEATURES_DIR = '{}/encoded-features/{}'.format(EXPERIMENT_DIR, RUN_NAME)\n",
    "FEATURE_SLICES_DIR = '{}/slices'.format(ENCODED_FEATURES_DIR)"
   ]
  },
  {
   "cell_type": "code",
   "execution_count": 4,
   "metadata": {},
   "outputs": [],
   "source": [
    "# frame types for PASEF mode\n",
    "FRAME_TYPE_MS1 = 0\n",
    "FRAME_TYPE_MS2 = 8"
   ]
  },
  {
   "cell_type": "code",
   "execution_count": 5,
   "metadata": {},
   "outputs": [],
   "source": [
    "# font paths for overlay labels\n",
    "UBUNTU_FONT_PATH = '/usr/share/fonts/truetype/liberation/LiberationSans-Regular.ttf'\n",
    "MACOS_FONT_PATH = '/Library/Fonts/Arial.ttf'"
   ]
  },
  {
   "cell_type": "code",
   "execution_count": 6,
   "metadata": {},
   "outputs": [],
   "source": [
    "if os.path.isfile(UBUNTU_FONT_PATH):\n",
    "    feature_label_font = ImageFont.truetype(UBUNTU_FONT_PATH, 10)\n",
    "else:\n",
    "    feature_label_font = ImageFont.truetype(MACOS_FONT_PATH, 10)"
   ]
  },
  {
   "cell_type": "code",
   "execution_count": 7,
   "metadata": {},
   "outputs": [],
   "source": [
    "# how far either side of the feature coordinates should the images extend\n",
    "OFFSET_MZ_LOWER = 10.0\n",
    "OFFSET_MZ_UPPER = 20.0\n",
    "\n",
    "OFFSET_CCS_LOWER = 150\n",
    "OFFSET_CCS_UPPER = 150\n",
    "\n",
    "OFFSET_RT_LOWER = 5\n",
    "OFFSET_RT_UPPER = 5"
   ]
  },
  {
   "cell_type": "code",
   "execution_count": 8,
   "metadata": {},
   "outputs": [],
   "source": [
    "# image dimensions\n",
    "PIXELS_X = 600\n",
    "PIXELS_Y = 600"
   ]
  },
  {
   "cell_type": "code",
   "execution_count": 9,
   "metadata": {},
   "outputs": [],
   "source": [
    "estimated_coords_df = pd.read_pickle('{}/target-decoy-models/library-sequences-in-run-{}.pkl'.format(EXPERIMENT_DIR, RUN_NAME))"
   ]
  },
  {
   "cell_type": "code",
   "execution_count": 10,
   "metadata": {},
   "outputs": [],
   "source": [
    "# the sequence of interest\n",
    "selected_sequence = 'NLDIERPTYTNLNR'\n",
    "selected_sequence_charge = 2"
   ]
  },
  {
   "cell_type": "code",
   "execution_count": 11,
   "metadata": {},
   "outputs": [
    {
     "data": {
      "text/plain": [
       "{'mono_mz': 859.9446590508186,\n",
       " 'scan_apex': 394.9106606747026,\n",
       " 'rt_apex': 1708.8112910682753}"
      ]
     },
     "execution_count": 11,
     "metadata": {},
     "output_type": "execute_result"
    }
   ],
   "source": [
    "estimated_coords = estimated_coords_df[(estimated_coords_df.sequence == selected_sequence) & (estimated_coords_df.charge == selected_sequence_charge)].iloc[0].target_coords\n",
    "estimated_coords"
   ]
  },
  {
   "cell_type": "code",
   "execution_count": 12,
   "metadata": {},
   "outputs": [],
   "source": [
    "extracted_coords = estimated_coords_df[(estimated_coords_df.sequence == selected_sequence) & (estimated_coords_df.charge == selected_sequence_charge)].iloc[0].attributes\n",
    "extracted_rt_apex = extracted_coords['rt_apex']\n",
    "extracted_scan_apex = extracted_coords['scan_apex']\n",
    "extracted_mz = extracted_coords['monoisotopic_mz_centroid']"
   ]
  },
  {
   "cell_type": "code",
   "execution_count": 13,
   "metadata": {},
   "outputs": [],
   "source": [
    "def pixel_xy(mz, scan, mz_lower, mz_upper, scan_lower, scan_upper):\n",
    "    x_pixels_per_mz = (PIXELS_X-1) / (mz_upper - mz_lower)\n",
    "    y_pixels_per_scan = (PIXELS_Y-1) / (scan_upper - scan_lower)\n",
    "    \n",
    "    pixel_x = int((mz - mz_lower) * x_pixels_per_mz)\n",
    "    pixel_y = int((scan - scan_lower) * y_pixels_per_scan)\n",
    "    return (pixel_x, pixel_y)"
   ]
  },
  {
   "cell_type": "code",
   "execution_count": 14,
   "metadata": {},
   "outputs": [],
   "source": [
    "# create the colour mapping\n",
    "colour_map = plt.get_cmap('rainbow')\n",
    "norm = colors.LogNorm(vmin=1, vmax=5000, clip=True)  # aiming to get good colour variation in the lower range, and clipping everything else"
   ]
  },
  {
   "cell_type": "code",
   "execution_count": 15,
   "metadata": {},
   "outputs": [],
   "source": [
    "# clear out any previous feature slices\n",
    "if os.path.exists(FEATURE_SLICES_DIR):\n",
    "    shutil.rmtree(FEATURE_SLICES_DIR)\n",
    "os.makedirs(FEATURE_SLICES_DIR)"
   ]
  },
  {
   "cell_type": "code",
   "execution_count": 16,
   "metadata": {},
   "outputs": [],
   "source": [
    "# determine the cuboid dimensions\n",
    "mz_lower = estimated_coords['mono_mz'] - OFFSET_MZ_LOWER\n",
    "mz_upper = estimated_coords['mono_mz'] + OFFSET_MZ_UPPER\n",
    "scan_lower = estimated_coords['scan_apex'] - OFFSET_CCS_LOWER\n",
    "scan_upper = estimated_coords['scan_apex'] + OFFSET_CCS_UPPER\n",
    "rt_apex = estimated_coords['rt_apex']\n",
    "rt_lower = estimated_coords['rt_apex'] - OFFSET_RT_LOWER\n",
    "rt_upper = estimated_coords['rt_apex'] + OFFSET_RT_UPPER\n",
    "\n",
    "x_pixels_per_mz = (PIXELS_X-1) / (mz_upper - mz_lower)\n",
    "y_pixels_per_scan = (PIXELS_Y-1) / (scan_upper - scan_lower)"
   ]
  },
  {
   "cell_type": "code",
   "execution_count": 17,
   "metadata": {},
   "outputs": [],
   "source": [
    "# get the raw data for this feature\n",
    "db_conn = sqlite3.connect(CONVERTED_DB)\n",
    "raw_df = pd.read_sql_query('select mz,scan,intensity,frame_id,retention_time_secs from frames where intensity > 100 and mz >= {} and mz <= {} and scan >= {} and scan <= {} and frame_type == {} and retention_time_secs >= {} and retention_time_secs <= {}'.format(mz_lower, mz_upper, scan_lower, scan_upper, FRAME_TYPE_MS1, rt_lower, rt_upper), db_conn)\n",
    "if len(raw_df) == 0:\n",
    "    print(\"found no raw points for feature {}\".format(feature_id))\n",
    "db_conn.close()"
   ]
  },
  {
   "cell_type": "code",
   "execution_count": 18,
   "metadata": {},
   "outputs": [],
   "source": [
    "# get the frame ID closest to the estimated RT apex\n",
    "apex_frame_id = int(raw_df.iloc[(raw_df['retention_time_secs'] - rt_apex).abs().argsort()[:1]].sort_values(by=['retention_time_secs'], ascending=[True], inplace=False).iloc[0].frame_id)"
   ]
  },
  {
   "cell_type": "code",
   "execution_count": 19,
   "metadata": {},
   "outputs": [],
   "source": [
    "# get the frame ID closest to the extracted RT apex\n",
    "extracted_apex_frame_id = int(raw_df.iloc[(raw_df['retention_time_secs'] - extracted_rt_apex).abs().argsort()[:1]].sort_values(by=['retention_time_secs'], ascending=[True], inplace=False).iloc[0].frame_id)"
   ]
  },
  {
   "cell_type": "code",
   "execution_count": 20,
   "metadata": {},
   "outputs": [],
   "source": [
    "# calculate the raw point coordinates in scaled pixels\n",
    "pixel_df = pd.DataFrame(raw_df.apply(lambda row: pixel_xy(row.mz, row.scan, mz_lower, mz_upper, scan_lower, scan_upper), axis=1).tolist(), columns=['pixel_x','pixel_y'])\n",
    "raw_pixel_df = pd.concat([raw_df, pixel_df], axis=1)\n",
    "\n",
    "# sum the intensity of raw points that have been assigned to each pixel\n",
    "pixel_intensity_df = raw_pixel_df.groupby(by=['frame_id', 'pixel_x', 'pixel_y'], as_index=False).intensity.sum()"
   ]
  },
  {
   "cell_type": "code",
   "execution_count": 21,
   "metadata": {},
   "outputs": [],
   "source": [
    "# calculate the colour to represent the intensity\n",
    "colours_l = []\n",
    "for i in pixel_intensity_df.intensity.unique():\n",
    "    colours_l.append((i, colour_map(norm(i), bytes=True)[:3]))\n",
    "colours_df = pd.DataFrame(colours_l, columns=['intensity','colour'])\n",
    "pixel_intensity_df = pd.merge(pixel_intensity_df, colours_df, how='left', left_on=['intensity'], right_on=['intensity'])"
   ]
  },
  {
   "cell_type": "code",
   "execution_count": 22,
   "metadata": {},
   "outputs": [
    {
     "data": {
      "text/html": [
       "<div>\n",
       "<style scoped>\n",
       "    .dataframe tbody tr th:only-of-type {\n",
       "        vertical-align: middle;\n",
       "    }\n",
       "\n",
       "    .dataframe tbody tr th {\n",
       "        vertical-align: top;\n",
       "    }\n",
       "\n",
       "    .dataframe thead th {\n",
       "        text-align: right;\n",
       "    }\n",
       "</style>\n",
       "<table border=\"1\" class=\"dataframe\">\n",
       "  <thead>\n",
       "    <tr style=\"text-align: right;\">\n",
       "      <th></th>\n",
       "      <th>frame_id</th>\n",
       "      <th>pixel_x</th>\n",
       "      <th>pixel_y</th>\n",
       "      <th>intensity</th>\n",
       "      <th>colour</th>\n",
       "    </tr>\n",
       "  </thead>\n",
       "  <tbody>\n",
       "    <tr>\n",
       "      <th>20715</th>\n",
       "      <td>15476</td>\n",
       "      <td>517</td>\n",
       "      <td>449</td>\n",
       "      <td>108</td>\n",
       "      <td>(152, 251, 165)</td>\n",
       "    </tr>\n",
       "    <tr>\n",
       "      <th>10585</th>\n",
       "      <td>15431</td>\n",
       "      <td>557</td>\n",
       "      <td>351</td>\n",
       "      <td>142</td>\n",
       "      <td>(168, 246, 156)</td>\n",
       "    </tr>\n",
       "    <tr>\n",
       "      <th>16722</th>\n",
       "      <td>15456</td>\n",
       "      <td>368</td>\n",
       "      <td>463</td>\n",
       "      <td>104</td>\n",
       "      <td>(150, 252, 167)</td>\n",
       "    </tr>\n",
       "    <tr>\n",
       "      <th>11825</th>\n",
       "      <td>15436</td>\n",
       "      <td>229</td>\n",
       "      <td>297</td>\n",
       "      <td>1635</td>\n",
       "      <td>(255, 100, 51)</td>\n",
       "    </tr>\n",
       "  </tbody>\n",
       "</table>\n",
       "</div>"
      ],
      "text/plain": [
       "       frame_id  pixel_x  pixel_y  intensity           colour\n",
       "20715     15476      517      449        108  (152, 251, 165)\n",
       "10585     15431      557      351        142  (168, 246, 156)\n",
       "16722     15456      368      463        104  (150, 252, 167)\n",
       "11825     15436      229      297       1635   (255, 100, 51)"
      ]
     },
     "execution_count": 22,
     "metadata": {},
     "output_type": "execute_result"
    }
   ],
   "source": [
    "pixel_intensity_df.sample(n=4)"
   ]
  },
  {
   "cell_type": "code",
   "execution_count": 23,
   "metadata": {},
   "outputs": [],
   "source": [
    "estimated_x, estimated_y = pixel_xy(estimated_coords['mono_mz'], estimated_coords['scan_apex'], mz_lower, mz_upper, scan_lower, scan_upper)"
   ]
  },
  {
   "cell_type": "code",
   "execution_count": 24,
   "metadata": {},
   "outputs": [
    {
     "name": "stdout",
     "output_type": "stream",
     "text": [
      "slice 0\n",
      "slice 1\n",
      "slice 2\n",
      "slice 3\n",
      "slice 4\n",
      "slice 5\n",
      "slice 6\n",
      "slice 7\n",
      "slice 8\n",
      "slice 9\n",
      "slice 10\n",
      "slice 11\n",
      "slice 12\n",
      "slice 13\n",
      "slice 14\n",
      "slice 15\n",
      "slice 16\n",
      "slice 17\n",
      "slice 18\n"
     ]
    }
   ],
   "source": [
    "# write out the images to files\n",
    "feature_slice = 0\n",
    "for group_name,group_df in pixel_intensity_df.groupby(['frame_id'], as_index=False):\n",
    "    print('slice {}'.format(feature_slice))\n",
    "    frame_rt = raw_df[(raw_df.frame_id == group_name)].iloc[0].retention_time_secs\n",
    "    \n",
    "    # create an intensity array\n",
    "    tile_im_array = np.zeros([PIXELS_Y, PIXELS_X, 3], dtype=np.uint8)  # container for the image\n",
    "    for r in zip(group_df.pixel_x, group_df.pixel_y, group_df.colour):\n",
    "        x = r[0]\n",
    "        y = r[1]\n",
    "        c = r[2]\n",
    "        tile_im_array[y:int(y+y_pixels_per_scan),x,:] = c\n",
    "\n",
    "    # create an image of the intensity array\n",
    "    feature_slice += 1\n",
    "    tile = Image.fromarray(tile_im_array, mode='RGB')\n",
    "    draw = ImageDraw.Draw(tile, mode='RGB')\n",
    "    \n",
    "    # if this is the estimated apex frame, highlight the estimated coordinates\n",
    "    if group_name == apex_frame_id:\n",
    "        line_colour = (100,255,100)\n",
    "        draw.line((estimated_x,0, estimated_x,PIXELS_Y), fill=line_colour, width=1)\n",
    "        draw.line((0,estimated_y, PIXELS_X,estimated_y), fill=line_colour, width=1)\n",
    "    \n",
    "    # if this is the extracted apex frame, highlight the extracted coordinates\n",
    "    if group_name == extracted_apex_frame_id:\n",
    "        # draw the extracted apex\n",
    "        line_colour = (100,100,255)\n",
    "        extracted_x, extracted_y = pixel_xy(extracted_coords['monoisotopic_mz_centroid'], extracted_coords['scan_apex'], mz_lower, mz_upper, scan_lower, scan_upper)\n",
    "        draw.line((extracted_x,0, extracted_x,PIXELS_Y), fill=line_colour, width=1)\n",
    "        draw.line((0,extracted_y, PIXELS_X,extracted_y), fill=line_colour, width=1)\n",
    "\n",
    "    # draw the CCS markers\n",
    "    ccs_marker_each = 10\n",
    "    draw.line((0,estimated_y, 10,estimated_y), fill='yellow', width=3)\n",
    "    draw.text((15, estimated_y-6), round(estimated_coords['scan_apex'],1).astype('str'), font=feature_label_font, fill='yellow')\n",
    "    for i in range(1,10):\n",
    "        ccs_marker_y_pixels = y_pixels_per_scan * ccs_marker_each * i\n",
    "        draw.line((0,estimated_y-ccs_marker_y_pixels, 5,estimated_y-ccs_marker_y_pixels), fill='yellow', width=1)\n",
    "        draw.line((0,estimated_y+ccs_marker_y_pixels, 5,estimated_y+ccs_marker_y_pixels), fill='yellow', width=1)\n",
    "\n",
    "    # draw the m/z markers\n",
    "    mz_marker_each = 1\n",
    "    draw.line((estimated_x,0, estimated_x,10), fill='yellow', width=3)\n",
    "    draw.text((estimated_x-10,12), round(estimated_coords['mono_mz'],1).astype('str'), font=feature_label_font, fill='yellow')\n",
    "    for i in range(1,10):\n",
    "        mz_marker_x_pixels = x_pixels_per_mz * mz_marker_each * i\n",
    "        draw.line((estimated_x-mz_marker_x_pixels,0, estimated_x-mz_marker_x_pixels,5), fill='yellow', width=1)\n",
    "        draw.line((estimated_x+mz_marker_x_pixels,0, estimated_x+mz_marker_x_pixels,5), fill='yellow', width=1)\n",
    "\n",
    "    # draw the info box\n",
    "    info_box_x_inset = 200\n",
    "    space_per_line = 12\n",
    "    draw.rectangle(xy=[(PIXELS_X-info_box_x_inset, 0), (PIXELS_X, 4*space_per_line)], fill=(20,20,20), outline=None)\n",
    "    draw.text((PIXELS_X-info_box_x_inset,0*space_per_line), selected_sequence, font=feature_label_font, fill='lawngreen')\n",
    "    draw.text((PIXELS_X-info_box_x_inset,1*space_per_line), 'charge {}'.format(selected_sequence_charge), font=feature_label_font, fill='lawngreen')\n",
    "    draw.text((PIXELS_X-info_box_x_inset,2*space_per_line), '{}, {}'.format(EXPERIMENT_NAME, '_'.join(RUN_NAME.split('_Slot')[0].split('_')[1:])), font=feature_label_font, fill='lawngreen')\n",
    "    draw.text((PIXELS_X-info_box_x_inset,3*space_per_line), round(frame_rt,1).astype('str'), font=feature_label_font, fill='lawngreen')\n",
    "        \n",
    "    # save the image as a file\n",
    "    tile_file_name = '{}/feature-slice-{:03d}.png'.format(FEATURE_SLICES_DIR, feature_slice)\n",
    "    tile.save(tile_file_name)"
   ]
  },
  {
   "cell_type": "code",
   "execution_count": null,
   "metadata": {},
   "outputs": [],
   "source": []
  }
 ],
 "metadata": {
  "kernelspec": {
   "display_name": "Python 3",
   "language": "python",
   "name": "python3"
  },
  "language_info": {
   "codemirror_mode": {
    "name": "ipython",
    "version": 3
   },
   "file_extension": ".py",
   "mimetype": "text/x-python",
   "name": "python",
   "nbconvert_exporter": "python",
   "pygments_lexer": "ipython3",
   "version": "3.6.8"
  }
 },
 "nbformat": 4,
 "nbformat_minor": 4
}
