{
 "cells": [
  {
   "cell_type": "code",
   "execution_count": 242,
   "metadata": {},
   "outputs": [],
   "source": [
    "import pandas as pd\n",
    "import numpy as np\n",
    "import sys\n",
    "import pickle\n",
    "import glob\n",
    "import os\n",
    "import shutil\n",
    "import sqlite3\n",
    "import matplotlib.pyplot as plt\n",
    "from matplotlib import colors, cm, pyplot as plt\n",
    "from PIL import Image, ImageDraw, ImageFont"
   ]
  },
  {
   "cell_type": "code",
   "execution_count": 243,
   "metadata": {},
   "outputs": [],
   "source": [
    "EXPERIMENT_NAME = 'P3856'\n",
    "RUN_NAME = 'P3856_YHE114_1_Slot1-1_1_5115'\n",
    "# RUN_NAME = 'P3856_YHE114_5_Slot1-1_1_5119'\n",
    "# RUN_NAME = 'P3856_YHE114_4_Slot1-1_1_5118'"
   ]
  },
  {
   "cell_type": "code",
   "execution_count": 244,
   "metadata": {},
   "outputs": [],
   "source": [
    "EXPERIMENT_DIR = '/data2/experiments/{}'.format(EXPERIMENT_NAME)\n",
    "CONVERTED_DB = '{}/converted-databases/exp-{}-run-{}-converted.sqlite'.format(EXPERIMENT_DIR, EXPERIMENT_NAME, RUN_NAME)\n",
    "ENCODED_FEATURES_DIR = '{}/encoded-features/{}'.format(EXPERIMENT_DIR, RUN_NAME)\n",
    "FEATURE_SLICES_DIR = '{}/slices'.format(ENCODED_FEATURES_DIR)"
   ]
  },
  {
   "cell_type": "code",
   "execution_count": 245,
   "metadata": {},
   "outputs": [],
   "source": [
    "# frame types for PASEF mode\n",
    "FRAME_TYPE_MS1 = 0\n",
    "FRAME_TYPE_MS2 = 8"
   ]
  },
  {
   "cell_type": "code",
   "execution_count": 246,
   "metadata": {},
   "outputs": [],
   "source": [
    "# font paths for overlay labels\n",
    "UBUNTU_FONT_PATH = '/usr/share/fonts/truetype/liberation/LiberationSans-Regular.ttf'\n",
    "MACOS_FONT_PATH = '/Library/Fonts/Arial.ttf'"
   ]
  },
  {
   "cell_type": "code",
   "execution_count": 247,
   "metadata": {},
   "outputs": [],
   "source": [
    "# for drawing on tiles\n",
    "TINT_COLOR = (0, 0, 0)  # Black\n",
    "OPACITY = int(255 * 0.1)  # lower opacity means more transparent"
   ]
  },
  {
   "cell_type": "code",
   "execution_count": 248,
   "metadata": {},
   "outputs": [],
   "source": [
    "estimated_coords_df = pd.read_pickle('{}/target-decoy-models/library-sequences-in-run-{}.pkl'.format(EXPERIMENT_DIR, RUN_NAME))"
   ]
  },
  {
   "cell_type": "code",
   "execution_count": 249,
   "metadata": {},
   "outputs": [
    {
     "data": {
      "text/html": [
       "<div>\n",
       "<style scoped>\n",
       "    .dataframe tbody tr th:only-of-type {\n",
       "        vertical-align: middle;\n",
       "    }\n",
       "\n",
       "    .dataframe tbody tr th {\n",
       "        vertical-align: top;\n",
       "    }\n",
       "\n",
       "    .dataframe thead th {\n",
       "        text-align: right;\n",
       "    }\n",
       "</style>\n",
       "<table border=\"1\" class=\"dataframe\">\n",
       "  <thead>\n",
       "    <tr style=\"text-align: right;\">\n",
       "      <th></th>\n",
       "      <th>sequence</th>\n",
       "      <th>charge</th>\n",
       "      <th>theoretical_mz</th>\n",
       "      <th>experiment_scan_mean</th>\n",
       "      <th>experiment_scan_std_dev</th>\n",
       "      <th>experiment_scan_peak_width</th>\n",
       "      <th>experiment_rt_mean</th>\n",
       "      <th>experiment_rt_std_dev</th>\n",
       "      <th>experiment_rt_peak_width</th>\n",
       "      <th>experiment_intensity_mean</th>\n",
       "      <th>experiment_intensity_std_dev</th>\n",
       "      <th>number_of_runs_identified</th>\n",
       "      <th>q_value</th>\n",
       "      <th>file_idx</th>\n",
       "      <th>target_coords</th>\n",
       "      <th>decoy_coords</th>\n",
       "      <th>peak_idx</th>\n",
       "      <th>target_metrics</th>\n",
       "      <th>attributes</th>\n",
       "      <th>decoy_metrics</th>\n",
       "    </tr>\n",
       "  </thead>\n",
       "  <tbody>\n",
       "    <tr>\n",
       "      <th>11</th>\n",
       "      <td>DLADELALVDVIEDK</td>\n",
       "      <td>2</td>\n",
       "      <td>829.430126</td>\n",
       "      <td>422.564116</td>\n",
       "      <td>33.818392</td>\n",
       "      <td>75.288556</td>\n",
       "      <td>2299.581661</td>\n",
       "      <td>4.665710</td>\n",
       "      <td>5.662852</td>\n",
       "      <td>2.613841e+06</td>\n",
       "      <td>1.906619e+06</td>\n",
       "      <td>30</td>\n",
       "      <td>0.000004</td>\n",
       "      <td>14</td>\n",
       "      <td>{'mono_mz': 829.4302389078674, 'scan_apex': 42...</td>\n",
       "      <td>{'mono_mz': 829.3572490468435, 'scan_apex': 27...</td>\n",
       "      <td>0</td>\n",
       "      <td>{'delta_mz_ppm': 1.3133767266938392, 'delta_rt...</td>\n",
       "      <td>{'intensity': 41445, 'inferred': 1, 'isotope_i...</td>\n",
       "      <td>{'delta_mz_ppm': -0.004379389675649477, 'delta...</td>\n",
       "    </tr>\n",
       "    <tr>\n",
       "      <th>12</th>\n",
       "      <td>TIGGGDDSFNTFFSETGAGK</td>\n",
       "      <td>2</td>\n",
       "      <td>1004.450126</td>\n",
       "      <td>317.668796</td>\n",
       "      <td>24.472620</td>\n",
       "      <td>67.264722</td>\n",
       "      <td>2013.715556</td>\n",
       "      <td>2.496949</td>\n",
       "      <td>5.428611</td>\n",
       "      <td>2.510062e+06</td>\n",
       "      <td>1.563355e+06</td>\n",
       "      <td>30</td>\n",
       "      <td>0.000004</td>\n",
       "      <td>14</td>\n",
       "      <td>{'mono_mz': 1004.4503753977162, 'scan_apex': 3...</td>\n",
       "      <td>{'mono_mz': 1004.3408903067979, 'scan_apex': 1...</td>\n",
       "      <td>0</td>\n",
       "      <td>{'delta_mz_ppm': 0.08626230624116317, 'delta_r...</td>\n",
       "      <td>{'intensity': 27670, 'inferred': 1, 'isotope_i...</td>\n",
       "      <td>{'delta_mz_ppm': 1.6652013221313164, 'delta_rt...</td>\n",
       "    </tr>\n",
       "    <tr>\n",
       "      <th>2</th>\n",
       "      <td>GVVPLAGTNGETTTQGLDGLSER</td>\n",
       "      <td>2</td>\n",
       "      <td>1136.574376</td>\n",
       "      <td>132.784950</td>\n",
       "      <td>19.903289</td>\n",
       "      <td>86.152673</td>\n",
       "      <td>1902.780941</td>\n",
       "      <td>24.844172</td>\n",
       "      <td>6.354851</td>\n",
       "      <td>3.106039e+06</td>\n",
       "      <td>1.140647e+06</td>\n",
       "      <td>30</td>\n",
       "      <td>0.000004</td>\n",
       "      <td>14</td>\n",
       "      <td>{'mono_mz': 1136.5744038613561, 'scan_apex': 1...</td>\n",
       "      <td>{'mono_mz': 1136.4800681858355, 'scan_apex': -...</td>\n",
       "      <td>0</td>\n",
       "      <td>{'delta_mz_ppm': -0.6238929663022791, 'delta_r...</td>\n",
       "      <td>{'intensity': 16783, 'inferred': 1, 'isotope_i...</td>\n",
       "      <td>{'delta_mz_ppm': 0.21182465207798704, 'delta_r...</td>\n",
       "    </tr>\n",
       "    <tr>\n",
       "      <th>5</th>\n",
       "      <td>YGINTTDIFQTVDLWEGK</td>\n",
       "      <td>2</td>\n",
       "      <td>1050.517826</td>\n",
       "      <td>162.124792</td>\n",
       "      <td>14.014617</td>\n",
       "      <td>64.876667</td>\n",
       "      <td>2266.591042</td>\n",
       "      <td>2.186419</td>\n",
       "      <td>5.126389</td>\n",
       "      <td>2.870067e+06</td>\n",
       "      <td>1.439938e+06</td>\n",
       "      <td>30</td>\n",
       "      <td>0.000004</td>\n",
       "      <td>14</td>\n",
       "      <td>{'mono_mz': 1050.517824039246, 'scan_apex': 15...</td>\n",
       "      <td>{'mono_mz': 1050.6354820355384, 'scan_apex': 2...</td>\n",
       "      <td>2</td>\n",
       "      <td>{'delta_mz_ppm': 0.524589438135083, 'delta_rt'...</td>\n",
       "      <td>{'intensity': 895, 'inferred': 0, 'isotope_idx...</td>\n",
       "      <td>{'delta_mz_ppm': -2.0061287139738404, 'delta_r...</td>\n",
       "    </tr>\n",
       "    <tr>\n",
       "      <th>4</th>\n",
       "      <td>NLDIERPTYTNLNR</td>\n",
       "      <td>2</td>\n",
       "      <td>859.944626</td>\n",
       "      <td>391.510704</td>\n",
       "      <td>28.485271</td>\n",
       "      <td>78.717676</td>\n",
       "      <td>1711.576549</td>\n",
       "      <td>3.189172</td>\n",
       "      <td>6.040634</td>\n",
       "      <td>2.880172e+06</td>\n",
       "      <td>1.616264e+06</td>\n",
       "      <td>30</td>\n",
       "      <td>0.000004</td>\n",
       "      <td>14</td>\n",
       "      <td>{'mono_mz': 859.9446590508186, 'scan_apex': 39...</td>\n",
       "      <td>{'mono_mz': 859.8526449723001, 'scan_apex': 55...</td>\n",
       "      <td>0</td>\n",
       "      <td>{'delta_mz_ppm': 0.045344575295164176, 'delta_...</td>\n",
       "      <td>{'intensity': 38249, 'inferred': 1, 'isotope_i...</td>\n",
       "      <td>{'delta_mz_ppm': 2.42670177683668, 'delta_rt':...</td>\n",
       "    </tr>\n",
       "  </tbody>\n",
       "</table>\n",
       "</div>"
      ],
      "text/plain": [
       "                   sequence  charge  theoretical_mz  experiment_scan_mean  \\\n",
       "11          DLADELALVDVIEDK       2      829.430126            422.564116   \n",
       "12     TIGGGDDSFNTFFSETGAGK       2     1004.450126            317.668796   \n",
       "2   GVVPLAGTNGETTTQGLDGLSER       2     1136.574376            132.784950   \n",
       "5        YGINTTDIFQTVDLWEGK       2     1050.517826            162.124792   \n",
       "4            NLDIERPTYTNLNR       2      859.944626            391.510704   \n",
       "\n",
       "    experiment_scan_std_dev  experiment_scan_peak_width  experiment_rt_mean  \\\n",
       "11                33.818392                   75.288556         2299.581661   \n",
       "12                24.472620                   67.264722         2013.715556   \n",
       "2                 19.903289                   86.152673         1902.780941   \n",
       "5                 14.014617                   64.876667         2266.591042   \n",
       "4                 28.485271                   78.717676         1711.576549   \n",
       "\n",
       "    experiment_rt_std_dev  experiment_rt_peak_width  \\\n",
       "11               4.665710                  5.662852   \n",
       "12               2.496949                  5.428611   \n",
       "2               24.844172                  6.354851   \n",
       "5                2.186419                  5.126389   \n",
       "4                3.189172                  6.040634   \n",
       "\n",
       "    experiment_intensity_mean  experiment_intensity_std_dev  \\\n",
       "11               2.613841e+06                  1.906619e+06   \n",
       "12               2.510062e+06                  1.563355e+06   \n",
       "2                3.106039e+06                  1.140647e+06   \n",
       "5                2.870067e+06                  1.439938e+06   \n",
       "4                2.880172e+06                  1.616264e+06   \n",
       "\n",
       "    number_of_runs_identified   q_value  file_idx  \\\n",
       "11                         30  0.000004        14   \n",
       "12                         30  0.000004        14   \n",
       "2                          30  0.000004        14   \n",
       "5                          30  0.000004        14   \n",
       "4                          30  0.000004        14   \n",
       "\n",
       "                                        target_coords  \\\n",
       "11  {'mono_mz': 829.4302389078674, 'scan_apex': 42...   \n",
       "12  {'mono_mz': 1004.4503753977162, 'scan_apex': 3...   \n",
       "2   {'mono_mz': 1136.5744038613561, 'scan_apex': 1...   \n",
       "5   {'mono_mz': 1050.517824039246, 'scan_apex': 15...   \n",
       "4   {'mono_mz': 859.9446590508186, 'scan_apex': 39...   \n",
       "\n",
       "                                         decoy_coords  peak_idx  \\\n",
       "11  {'mono_mz': 829.3572490468435, 'scan_apex': 27...         0   \n",
       "12  {'mono_mz': 1004.3408903067979, 'scan_apex': 1...         0   \n",
       "2   {'mono_mz': 1136.4800681858355, 'scan_apex': -...         0   \n",
       "5   {'mono_mz': 1050.6354820355384, 'scan_apex': 2...         2   \n",
       "4   {'mono_mz': 859.8526449723001, 'scan_apex': 55...         0   \n",
       "\n",
       "                                       target_metrics  \\\n",
       "11  {'delta_mz_ppm': 1.3133767266938392, 'delta_rt...   \n",
       "12  {'delta_mz_ppm': 0.08626230624116317, 'delta_r...   \n",
       "2   {'delta_mz_ppm': -0.6238929663022791, 'delta_r...   \n",
       "5   {'delta_mz_ppm': 0.524589438135083, 'delta_rt'...   \n",
       "4   {'delta_mz_ppm': 0.045344575295164176, 'delta_...   \n",
       "\n",
       "                                           attributes  \\\n",
       "11  {'intensity': 41445, 'inferred': 1, 'isotope_i...   \n",
       "12  {'intensity': 27670, 'inferred': 1, 'isotope_i...   \n",
       "2   {'intensity': 16783, 'inferred': 1, 'isotope_i...   \n",
       "5   {'intensity': 895, 'inferred': 0, 'isotope_idx...   \n",
       "4   {'intensity': 38249, 'inferred': 1, 'isotope_i...   \n",
       "\n",
       "                                        decoy_metrics  \n",
       "11  {'delta_mz_ppm': -0.004379389675649477, 'delta...  \n",
       "12  {'delta_mz_ppm': 1.6652013221313164, 'delta_rt...  \n",
       "2   {'delta_mz_ppm': 0.21182465207798704, 'delta_r...  \n",
       "5   {'delta_mz_ppm': -2.0061287139738404, 'delta_r...  \n",
       "4   {'delta_mz_ppm': 2.42670177683668, 'delta_rt':...  "
      ]
     },
     "execution_count": 249,
     "metadata": {},
     "output_type": "execute_result"
    }
   ],
   "source": [
    "estimated_coords_df.sample(n=5)"
   ]
  },
  {
   "cell_type": "code",
   "execution_count": 250,
   "metadata": {},
   "outputs": [],
   "source": [
    "# the sequence of interest\n",
    "selected_sequence = 'NLDIERPTYTNLNR'\n",
    "selected_sequence_charge = 2"
   ]
  },
  {
   "cell_type": "code",
   "execution_count": 251,
   "metadata": {},
   "outputs": [
    {
     "data": {
      "text/plain": [
       "{'mono_mz': 859.9446590508186,\n",
       " 'scan_apex': 394.9106606747026,\n",
       " 'rt_apex': 1708.8112910682753}"
      ]
     },
     "execution_count": 251,
     "metadata": {},
     "output_type": "execute_result"
    }
   ],
   "source": [
    "estimated_coords = estimated_coords_df[(estimated_coords_df.sequence == selected_sequence) & (estimated_coords_df.charge == selected_sequence_charge)].iloc[0].target_coords\n",
    "estimated_coords"
   ]
  },
  {
   "cell_type": "code",
   "execution_count": 252,
   "metadata": {},
   "outputs": [],
   "source": [
    "extracted_coords = estimated_coords_df[(estimated_coords_df.sequence == selected_sequence) & (estimated_coords_df.charge == selected_sequence_charge)].iloc[0].attributes\n",
    "extracted_rt_apex = extracted_coords['rt_apex']\n",
    "extracted_scan_apex = extracted_coords['scan_apex']\n",
    "extracted_mz = extracted_coords['monoisotopic_mz_centroid']"
   ]
  },
  {
   "cell_type": "code",
   "execution_count": 253,
   "metadata": {},
   "outputs": [],
   "source": [
    "# how far either side of the feature coordinates should the images extend\n",
    "OFFSET_MZ_LOWER = 10.0\n",
    "OFFSET_MZ_UPPER = 20.0\n",
    "\n",
    "OFFSET_CCS_LOWER = 150\n",
    "OFFSET_CCS_UPPER = 150\n",
    "\n",
    "OFFSET_RT_LOWER = 10\n",
    "OFFSET_RT_UPPER = 10"
   ]
  },
  {
   "cell_type": "code",
   "execution_count": 254,
   "metadata": {},
   "outputs": [],
   "source": [
    "# image dimensions\n",
    "PIXELS_X = 600\n",
    "PIXELS_Y = 600"
   ]
  },
  {
   "cell_type": "code",
   "execution_count": 255,
   "metadata": {},
   "outputs": [],
   "source": [
    "def pixel_xy(mz, scan, mz_lower, mz_upper, scan_lower, scan_upper):\n",
    "    x_pixels_per_mz = (PIXELS_X-1) / (mz_upper - mz_lower)\n",
    "    y_pixels_per_scan = (PIXELS_Y-1) / (scan_upper - scan_lower)\n",
    "    \n",
    "    pixel_x = int((mz - mz_lower) * x_pixels_per_mz)\n",
    "    pixel_y = int((scan - scan_lower) * y_pixels_per_scan)\n",
    "    return (pixel_x, pixel_y)"
   ]
  },
  {
   "cell_type": "code",
   "execution_count": 256,
   "metadata": {},
   "outputs": [],
   "source": [
    "# create the colour mapping\n",
    "colour_map = plt.get_cmap('rainbow')\n",
    "norm = colors.LogNorm(vmin=1, vmax=5000, clip=True)  # aiming to get good colour variation in the lower range, and clipping everything else"
   ]
  },
  {
   "cell_type": "code",
   "execution_count": 257,
   "metadata": {},
   "outputs": [],
   "source": [
    "# clear out any previous feature slices\n",
    "if os.path.exists(FEATURE_SLICES_DIR):\n",
    "    shutil.rmtree(FEATURE_SLICES_DIR)\n",
    "os.makedirs(FEATURE_SLICES_DIR)"
   ]
  },
  {
   "cell_type": "code",
   "execution_count": 258,
   "metadata": {},
   "outputs": [],
   "source": [
    "# determine the cuboid dimensions\n",
    "mz_lower = estimated_coords['mono_mz'] - OFFSET_MZ_LOWER\n",
    "mz_upper = estimated_coords['mono_mz'] + OFFSET_MZ_UPPER\n",
    "scan_lower = estimated_coords['scan_apex'] - OFFSET_CCS_LOWER\n",
    "scan_upper = estimated_coords['scan_apex'] + OFFSET_CCS_UPPER\n",
    "rt_apex = estimated_coords['rt_apex']\n",
    "rt_lower = estimated_coords['rt_apex'] - OFFSET_RT_LOWER\n",
    "rt_upper = estimated_coords['rt_apex'] + OFFSET_RT_UPPER\n",
    "\n",
    "x_pixels_per_mz = (PIXELS_X-1) / (mz_upper - mz_lower)\n",
    "y_pixels_per_scan = (PIXELS_Y-1) / (scan_upper - scan_lower)"
   ]
  },
  {
   "cell_type": "code",
   "execution_count": 259,
   "metadata": {},
   "outputs": [],
   "source": [
    "# get the raw data for this feature\n",
    "db_conn = sqlite3.connect(CONVERTED_DB)\n",
    "raw_df = pd.read_sql_query('select mz,scan,intensity,frame_id,retention_time_secs from frames where intensity > 100 and mz >= {} and mz <= {} and scan >= {} and scan <= {} and frame_type == {} and retention_time_secs >= {} and retention_time_secs <= {}'.format(mz_lower, mz_upper, scan_lower, scan_upper, FRAME_TYPE_MS1, rt_lower, rt_upper), db_conn)\n",
    "if len(raw_df) == 0:\n",
    "    print(\"found no raw points for feature {}\".format(feature_id))\n",
    "db_conn.close()"
   ]
  },
  {
   "cell_type": "code",
   "execution_count": 260,
   "metadata": {},
   "outputs": [
    {
     "data": {
      "text/plain": [
       "15436"
      ]
     },
     "execution_count": 260,
     "metadata": {},
     "output_type": "execute_result"
    }
   ],
   "source": [
    "# get the frame ID closest to the estimated RT apex\n",
    "apex_frame_id = int(raw_df.iloc[(raw_df['retention_time_secs'] - rt_apex).abs().argsort()[:1]].sort_values(by=['retention_time_secs'], ascending=[True], inplace=False).iloc[0].frame_id)\n",
    "apex_frame_id"
   ]
  },
  {
   "cell_type": "code",
   "execution_count": 261,
   "metadata": {},
   "outputs": [
    {
     "data": {
      "text/plain": [
       "15431"
      ]
     },
     "execution_count": 261,
     "metadata": {},
     "output_type": "execute_result"
    }
   ],
   "source": [
    "# get the frame ID closest to the extracted RT apex\n",
    "extracted_apex_frame_id = int(raw_df.iloc[(raw_df['retention_time_secs'] - extracted_rt_apex).abs().argsort()[:1]].sort_values(by=['retention_time_secs'], ascending=[True], inplace=False).iloc[0].frame_id)\n",
    "extracted_apex_frame_id"
   ]
  },
  {
   "cell_type": "code",
   "execution_count": 262,
   "metadata": {},
   "outputs": [
    {
     "name": "stdout",
     "output_type": "stream",
     "text": [
      "maximum intensity is 10641\n"
     ]
    }
   ],
   "source": [
    "# calculate the raw point coordinates in scaled pixels\n",
    "pixel_df = pd.DataFrame(raw_df.apply(lambda row: pixel_xy(row.mz, row.scan, mz_lower, mz_upper, scan_lower, scan_upper), axis=1).tolist(), columns=['pixel_x','pixel_y'])\n",
    "raw_pixel_df = pd.concat([raw_df, pixel_df], axis=1)\n",
    "\n",
    "# sum the intensity of raw points that have been assigned to each pixel\n",
    "pixel_intensity_df = raw_pixel_df.groupby(by=['frame_id', 'pixel_x', 'pixel_y'], as_index=False).intensity.sum()\n",
    "\n",
    "print('maximum intensity is {}'.format(pixel_intensity_df.intensity.max()))"
   ]
  },
  {
   "cell_type": "code",
   "execution_count": 263,
   "metadata": {},
   "outputs": [],
   "source": [
    "# calculate the colour to represent the intensity\n",
    "colours_l = []\n",
    "for i in pixel_intensity_df.intensity.unique():\n",
    "    colours_l.append((i, colour_map(norm(i), bytes=True)[:3]))\n",
    "colours_df = pd.DataFrame(colours_l, columns=['intensity','colour'])\n",
    "pixel_intensity_df = pd.merge(pixel_intensity_df, colours_df, how='left', left_on=['intensity'], right_on=['intensity'])"
   ]
  },
  {
   "cell_type": "code",
   "execution_count": 264,
   "metadata": {},
   "outputs": [],
   "source": [
    "estimated_x, estimated_y = pixel_xy(estimated_coords['mono_mz'], estimated_coords['scan_apex'], mz_lower, mz_upper, scan_lower, scan_upper)"
   ]
  },
  {
   "cell_type": "code",
   "execution_count": 265,
   "metadata": {},
   "outputs": [],
   "source": [
    "if os.path.isfile(UBUNTU_FONT_PATH):\n",
    "    feature_label_font = ImageFont.truetype(UBUNTU_FONT_PATH, 10)\n",
    "else:\n",
    "    feature_label_font = ImageFont.truetype(MACOS_FONT_PATH, 10)"
   ]
  },
  {
   "cell_type": "code",
   "execution_count": 268,
   "metadata": {},
   "outputs": [],
   "source": [
    "# write out the images to files\n",
    "feature_slice = 0\n",
    "for group_name,group_df in pixel_intensity_df.groupby(['frame_id'], as_index=False):\n",
    "    frame_rt = raw_df[(raw_df.frame_id == group_name)].iloc[0].retention_time_secs\n",
    "    \n",
    "    # create an intensity array\n",
    "    tile_im_array = np.zeros([PIXELS_Y, PIXELS_X, 3], dtype=np.uint8)  # container for the image\n",
    "    for r in zip(group_df.pixel_x, group_df.pixel_y, group_df.colour):\n",
    "        x = r[0]\n",
    "        y = r[1]\n",
    "        c = r[2]\n",
    "        tile_im_array[y:int(y+y_pixels_per_scan),x,:] = c\n",
    "\n",
    "    # create an image of the intensity array\n",
    "    feature_slice += 1\n",
    "    tile = Image.fromarray(tile_im_array, 'RGB')\n",
    "    draw = ImageDraw.Draw(tile)\n",
    "    \n",
    "    # if this is the estimated apex frame, highlight the estimated coordinates\n",
    "    if group_name == apex_frame_id:\n",
    "        draw.line((estimated_x,0, estimated_x,PIXELS_Y), fill='green', width=1)\n",
    "        draw.line((0,estimated_y, PIXELS_X,estimated_y), fill='green', width=1)\n",
    "    \n",
    "    # if this is the extracted apex frame, highlight the extracted coordinates\n",
    "    if group_name == extracted_apex_frame_id:\n",
    "        # draw the extracted apex\n",
    "        extracted_x, extracted_y = pixel_xy(extracted_coords['monoisotopic_mz_centroid'], extracted_coords['scan_apex'], mz_lower, mz_upper, scan_lower, scan_upper)\n",
    "        draw.line((extracted_x,0, extracted_x,PIXELS_Y), fill='blue', width=1)\n",
    "        draw.line((0,extracted_y, PIXELS_X,extracted_y), fill='blue', width=1)\n",
    "\n",
    "    # draw the CCS markers\n",
    "    ccs_marker_each = 10\n",
    "    draw.line((0,estimated_y, 10,estimated_y), fill='yellow', width=3)\n",
    "    draw.text((15, estimated_y-6), round(estimated_coords['scan_apex'],1).astype('str'), font=feature_label_font, fill='yellow')\n",
    "    for i in range(1,10):\n",
    "        ccs_marker_y_pixels = y_pixels_per_scan * ccs_marker_each * i\n",
    "        draw.line((0,estimated_y-ccs_marker_y_pixels, 5,estimated_y-ccs_marker_y_pixels), fill='yellow', width=1)\n",
    "        draw.line((0,estimated_y+ccs_marker_y_pixels, 5,estimated_y+ccs_marker_y_pixels), fill='yellow', width=1)\n",
    "\n",
    "    # draw the m/z markers\n",
    "    mz_marker_each = 1\n",
    "    draw.line((estimated_x,0, estimated_x,10), fill='yellow', width=3)\n",
    "    draw.text((estimated_x-10,12), round(estimated_coords['mono_mz'],1).astype('str'), font=feature_label_font, fill='yellow')\n",
    "    for i in range(1,10):\n",
    "        mz_marker_x_pixels = x_pixels_per_mz * mz_marker_each * i\n",
    "        draw.line((estimated_x-mz_marker_x_pixels,0, estimated_x-mz_marker_x_pixels,5), fill='yellow', width=1)\n",
    "        draw.line((estimated_x+mz_marker_x_pixels,0, estimated_x+mz_marker_x_pixels,5), fill='yellow', width=1)\n",
    "\n",
    "    # draw the info box\n",
    "    info_box_x_inset = 200\n",
    "    space_per_line = 12\n",
    "    draw.rectangle(xy=[(PIXELS_X-info_box_x_inset, 0), (PIXELS_X, 4*space_per_line)], fill=TINT_COLOR+(OPACITY,), outline=None)\n",
    "    draw.text((PIXELS_X-info_box_x_inset,0*space_per_line), selected_sequence, font=feature_label_font, fill='lawngreen')\n",
    "    draw.text((PIXELS_X-info_box_x_inset,1*space_per_line), 'charge {}'.format(selected_sequence_charge), font=feature_label_font, fill='lawngreen')\n",
    "    draw.text((PIXELS_X-info_box_x_inset,2*space_per_line), '{}, {}'.format(EXPERIMENT_NAME, '_'.join(RUN_NAME.split('_Slot')[0].split('_')[1:])), font=feature_label_font, fill='lawngreen')\n",
    "    draw.text((PIXELS_X-info_box_x_inset,3*space_per_line), round(frame_rt,1).astype('str'), font=feature_label_font, fill='lawngreen')\n",
    "        \n",
    "    # save the image as a file\n",
    "    tile_file_name = '{}/feature-slice-{:03d}.png'.format(FEATURE_SLICES_DIR, feature_slice)\n",
    "    tile.save(tile_file_name)"
   ]
  },
  {
   "cell_type": "code",
   "execution_count": null,
   "metadata": {},
   "outputs": [],
   "source": []
  }
 ],
 "metadata": {
  "kernelspec": {
   "display_name": "Python 3",
   "language": "python",
   "name": "python3"
  },
  "language_info": {
   "codemirror_mode": {
    "name": "ipython",
    "version": 3
   },
   "file_extension": ".py",
   "mimetype": "text/x-python",
   "name": "python",
   "nbconvert_exporter": "python",
   "pygments_lexer": "ipython3",
   "version": "3.6.8"
  }
 },
 "nbformat": 4,
 "nbformat_minor": 4
}
