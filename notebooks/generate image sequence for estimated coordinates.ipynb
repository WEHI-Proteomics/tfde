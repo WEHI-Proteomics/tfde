{
 "cells": [
  {
   "cell_type": "code",
   "execution_count": 1,
   "metadata": {},
   "outputs": [],
   "source": [
    "import pandas as pd\n",
    "import numpy as np\n",
    "import sys\n",
    "import pickle\n",
    "import glob\n",
    "import os\n",
    "import shutil\n",
    "import sqlite3\n",
    "import matplotlib.pyplot as plt\n",
    "from matplotlib import colors, cm, pyplot as plt\n",
    "from PIL import Image, ImageDraw, ImageFont"
   ]
  },
  {
   "cell_type": "code",
   "execution_count": 2,
   "metadata": {},
   "outputs": [],
   "source": [
    "EXPERIMENT_NAME = 'P3856'\n",
    "RUN_NAME = 'P3856_YHE114_1_Slot1-1_1_5115'\n",
    "# RUN_NAME = 'P3856_YHE114_5_Slot1-1_1_5119'\n",
    "# RUN_NAME = 'P3856_YHE114_4_Slot1-1_1_5118'"
   ]
  },
  {
   "cell_type": "code",
   "execution_count": 3,
   "metadata": {},
   "outputs": [],
   "source": [
    "EXPERIMENT_DIR = '/data2/experiments/{}'.format(EXPERIMENT_NAME)\n",
    "CONVERTED_DB = '{}/converted-databases/exp-{}-run-{}-converted.sqlite'.format(EXPERIMENT_DIR, EXPERIMENT_NAME, RUN_NAME)\n",
    "ENCODED_FEATURES_DIR = '{}/encoded-features/{}'.format(EXPERIMENT_DIR, RUN_NAME)\n",
    "FEATURE_SLICES_DIR = '{}/slices'.format(ENCODED_FEATURES_DIR)"
   ]
  },
  {
   "cell_type": "code",
   "execution_count": 4,
   "metadata": {},
   "outputs": [],
   "source": [
    "# frame types for PASEF mode\n",
    "FRAME_TYPE_MS1 = 0\n",
    "FRAME_TYPE_MS2 = 8"
   ]
  },
  {
   "cell_type": "code",
   "execution_count": 5,
   "metadata": {},
   "outputs": [],
   "source": [
    "# font paths for overlay labels\n",
    "UBUNTU_FONT_PATH = '/usr/share/fonts/truetype/liberation/LiberationSans-Regular.ttf'\n",
    "MACOS_FONT_PATH = '/Library/Fonts/Arial.ttf'"
   ]
  },
  {
   "cell_type": "code",
   "execution_count": 6,
   "metadata": {},
   "outputs": [],
   "source": [
    "estimated_coords_df = pd.read_pickle('{}/target-decoy-models/library-sequences-in-run-{}.pkl'.format(EXPERIMENT_DIR, RUN_NAME))"
   ]
  },
  {
   "cell_type": "code",
   "execution_count": 7,
   "metadata": {},
   "outputs": [
    {
     "data": {
      "text/html": [
       "<div>\n",
       "<style scoped>\n",
       "    .dataframe tbody tr th:only-of-type {\n",
       "        vertical-align: middle;\n",
       "    }\n",
       "\n",
       "    .dataframe tbody tr th {\n",
       "        vertical-align: top;\n",
       "    }\n",
       "\n",
       "    .dataframe thead th {\n",
       "        text-align: right;\n",
       "    }\n",
       "</style>\n",
       "<table border=\"1\" class=\"dataframe\">\n",
       "  <thead>\n",
       "    <tr style=\"text-align: right;\">\n",
       "      <th></th>\n",
       "      <th>sequence</th>\n",
       "      <th>charge</th>\n",
       "      <th>theoretical_mz</th>\n",
       "      <th>experiment_scan_mean</th>\n",
       "      <th>experiment_scan_std_dev</th>\n",
       "      <th>experiment_scan_peak_width</th>\n",
       "      <th>experiment_rt_mean</th>\n",
       "      <th>experiment_rt_std_dev</th>\n",
       "      <th>experiment_rt_peak_width</th>\n",
       "      <th>experiment_intensity_mean</th>\n",
       "      <th>experiment_intensity_std_dev</th>\n",
       "      <th>number_of_runs_identified</th>\n",
       "      <th>q_value</th>\n",
       "      <th>file_idx</th>\n",
       "      <th>target_coords</th>\n",
       "      <th>decoy_coords</th>\n",
       "      <th>peak_idx</th>\n",
       "      <th>target_metrics</th>\n",
       "      <th>attributes</th>\n",
       "      <th>decoy_metrics</th>\n",
       "    </tr>\n",
       "  </thead>\n",
       "  <tbody>\n",
       "    <tr>\n",
       "      <th>1</th>\n",
       "      <td>LGGSLADSYLDEGFLLDK</td>\n",
       "      <td>2</td>\n",
       "      <td>956.980526</td>\n",
       "      <td>257.735949</td>\n",
       "      <td>8.558311</td>\n",
       "      <td>67.743924</td>\n",
       "      <td>2150.581899</td>\n",
       "      <td>2.060222</td>\n",
       "      <td>5.251266</td>\n",
       "      <td>3.176421e+06</td>\n",
       "      <td>1.074105e+06</td>\n",
       "      <td>30</td>\n",
       "      <td>0.000004</td>\n",
       "      <td>14</td>\n",
       "      <td>{'mono_mz': 956.9800082573452, 'scan_apex': 26...</td>\n",
       "      <td>{'mono_mz': 956.8957940166185, 'scan_apex': 39...</td>\n",
       "      <td>0</td>\n",
       "      <td>{'delta_mz_ppm': 0.028910784853283508, 'delta_...</td>\n",
       "      <td>{'intensity': 28588, 'inferred': 1, 'isotope_i...</td>\n",
       "      <td>{'delta_mz_ppm': 0.7690481807310035, 'delta_rt...</td>\n",
       "    </tr>\n",
       "    <tr>\n",
       "      <th>16</th>\n",
       "      <td>Q[-17.0265]EYDESGPSIVHR</td>\n",
       "      <td>2</td>\n",
       "      <td>750.341726</td>\n",
       "      <td>612.455817</td>\n",
       "      <td>8.756012</td>\n",
       "      <td>62.322644</td>\n",
       "      <td>1678.965433</td>\n",
       "      <td>24.344381</td>\n",
       "      <td>3.593510</td>\n",
       "      <td>2.307278e+06</td>\n",
       "      <td>1.335762e+06</td>\n",
       "      <td>30</td>\n",
       "      <td>0.000004</td>\n",
       "      <td>14</td>\n",
       "      <td>{'mono_mz': 750.3419875483117, 'scan_apex': 61...</td>\n",
       "      <td>{'mono_mz': 750.2617009556441, 'scan_apex': 74...</td>\n",
       "      <td>2</td>\n",
       "      <td>{'delta_mz_ppm': -0.3660558041797585, 'delta_r...</td>\n",
       "      <td>{'intensity': 410, 'inferred': 0, 'isotope_idx...</td>\n",
       "      <td>{'delta_mz_ppm': 2.344486396552836, 'delta_rt'...</td>\n",
       "    </tr>\n",
       "    <tr>\n",
       "      <th>4</th>\n",
       "      <td>NLDIERPTYTNLNR</td>\n",
       "      <td>2</td>\n",
       "      <td>859.944626</td>\n",
       "      <td>391.510704</td>\n",
       "      <td>28.485271</td>\n",
       "      <td>78.717676</td>\n",
       "      <td>1711.576549</td>\n",
       "      <td>3.189172</td>\n",
       "      <td>6.040634</td>\n",
       "      <td>2.880172e+06</td>\n",
       "      <td>1.616264e+06</td>\n",
       "      <td>30</td>\n",
       "      <td>0.000004</td>\n",
       "      <td>14</td>\n",
       "      <td>{'mono_mz': 859.9446590508186, 'scan_apex': 39...</td>\n",
       "      <td>{'mono_mz': 859.8526449723001, 'scan_apex': 55...</td>\n",
       "      <td>0</td>\n",
       "      <td>{'delta_mz_ppm': 0.045344575295164176, 'delta_...</td>\n",
       "      <td>{'intensity': 38249, 'inferred': 1, 'isotope_i...</td>\n",
       "      <td>{'delta_mz_ppm': 2.42670177683668, 'delta_rt':...</td>\n",
       "    </tr>\n",
       "    <tr>\n",
       "      <th>11</th>\n",
       "      <td>DLADELALVDVIEDK</td>\n",
       "      <td>2</td>\n",
       "      <td>829.430126</td>\n",
       "      <td>422.564116</td>\n",
       "      <td>33.818392</td>\n",
       "      <td>75.288556</td>\n",
       "      <td>2299.581661</td>\n",
       "      <td>4.665710</td>\n",
       "      <td>5.662852</td>\n",
       "      <td>2.613841e+06</td>\n",
       "      <td>1.906619e+06</td>\n",
       "      <td>30</td>\n",
       "      <td>0.000004</td>\n",
       "      <td>14</td>\n",
       "      <td>{'mono_mz': 829.4302389078674, 'scan_apex': 42...</td>\n",
       "      <td>{'mono_mz': 829.3572490468435, 'scan_apex': 27...</td>\n",
       "      <td>0</td>\n",
       "      <td>{'delta_mz_ppm': 1.3133767266938392, 'delta_rt...</td>\n",
       "      <td>{'intensity': 41445, 'inferred': 1, 'isotope_i...</td>\n",
       "      <td>{'delta_mz_ppm': -0.004379389675649477, 'delta...</td>\n",
       "    </tr>\n",
       "    <tr>\n",
       "      <th>6</th>\n",
       "      <td>CPEALFQPSFLGMESCGIHETTFNSIMK</td>\n",
       "      <td>3</td>\n",
       "      <td>1077.825419</td>\n",
       "      <td>398.334521</td>\n",
       "      <td>48.433718</td>\n",
       "      <td>157.078731</td>\n",
       "      <td>2149.294989</td>\n",
       "      <td>40.260277</td>\n",
       "      <td>9.272873</td>\n",
       "      <td>2.826977e+06</td>\n",
       "      <td>1.931954e+06</td>\n",
       "      <td>30</td>\n",
       "      <td>0.000004</td>\n",
       "      <td>14</td>\n",
       "      <td>{'mono_mz': 1077.8254526205935, 'scan_apex': 3...</td>\n",
       "      <td>{'mono_mz': 1077.7273705044051, 'scan_apex': 9...</td>\n",
       "      <td>1</td>\n",
       "      <td>{'delta_mz_ppm': -0.16185614379444288, 'delta_...</td>\n",
       "      <td>{'intensity': 589, 'inferred': 0, 'isotope_idx...</td>\n",
       "      <td>{'delta_mz_ppm': 1.0097109818347336, 'delta_rt...</td>\n",
       "    </tr>\n",
       "  </tbody>\n",
       "</table>\n",
       "</div>"
      ],
      "text/plain": [
       "                        sequence  charge  theoretical_mz  \\\n",
       "1             LGGSLADSYLDEGFLLDK       2      956.980526   \n",
       "16       Q[-17.0265]EYDESGPSIVHR       2      750.341726   \n",
       "4                 NLDIERPTYTNLNR       2      859.944626   \n",
       "11               DLADELALVDVIEDK       2      829.430126   \n",
       "6   CPEALFQPSFLGMESCGIHETTFNSIMK       3     1077.825419   \n",
       "\n",
       "    experiment_scan_mean  experiment_scan_std_dev  experiment_scan_peak_width  \\\n",
       "1             257.735949                 8.558311                   67.743924   \n",
       "16            612.455817                 8.756012                   62.322644   \n",
       "4             391.510704                28.485271                   78.717676   \n",
       "11            422.564116                33.818392                   75.288556   \n",
       "6             398.334521                48.433718                  157.078731   \n",
       "\n",
       "    experiment_rt_mean  experiment_rt_std_dev  experiment_rt_peak_width  \\\n",
       "1          2150.581899               2.060222                  5.251266   \n",
       "16         1678.965433              24.344381                  3.593510   \n",
       "4          1711.576549               3.189172                  6.040634   \n",
       "11         2299.581661               4.665710                  5.662852   \n",
       "6          2149.294989              40.260277                  9.272873   \n",
       "\n",
       "    experiment_intensity_mean  experiment_intensity_std_dev  \\\n",
       "1                3.176421e+06                  1.074105e+06   \n",
       "16               2.307278e+06                  1.335762e+06   \n",
       "4                2.880172e+06                  1.616264e+06   \n",
       "11               2.613841e+06                  1.906619e+06   \n",
       "6                2.826977e+06                  1.931954e+06   \n",
       "\n",
       "    number_of_runs_identified   q_value  file_idx  \\\n",
       "1                          30  0.000004        14   \n",
       "16                         30  0.000004        14   \n",
       "4                          30  0.000004        14   \n",
       "11                         30  0.000004        14   \n",
       "6                          30  0.000004        14   \n",
       "\n",
       "                                        target_coords  \\\n",
       "1   {'mono_mz': 956.9800082573452, 'scan_apex': 26...   \n",
       "16  {'mono_mz': 750.3419875483117, 'scan_apex': 61...   \n",
       "4   {'mono_mz': 859.9446590508186, 'scan_apex': 39...   \n",
       "11  {'mono_mz': 829.4302389078674, 'scan_apex': 42...   \n",
       "6   {'mono_mz': 1077.8254526205935, 'scan_apex': 3...   \n",
       "\n",
       "                                         decoy_coords  peak_idx  \\\n",
       "1   {'mono_mz': 956.8957940166185, 'scan_apex': 39...         0   \n",
       "16  {'mono_mz': 750.2617009556441, 'scan_apex': 74...         2   \n",
       "4   {'mono_mz': 859.8526449723001, 'scan_apex': 55...         0   \n",
       "11  {'mono_mz': 829.3572490468435, 'scan_apex': 27...         0   \n",
       "6   {'mono_mz': 1077.7273705044051, 'scan_apex': 9...         1   \n",
       "\n",
       "                                       target_metrics  \\\n",
       "1   {'delta_mz_ppm': 0.028910784853283508, 'delta_...   \n",
       "16  {'delta_mz_ppm': -0.3660558041797585, 'delta_r...   \n",
       "4   {'delta_mz_ppm': 0.045344575295164176, 'delta_...   \n",
       "11  {'delta_mz_ppm': 1.3133767266938392, 'delta_rt...   \n",
       "6   {'delta_mz_ppm': -0.16185614379444288, 'delta_...   \n",
       "\n",
       "                                           attributes  \\\n",
       "1   {'intensity': 28588, 'inferred': 1, 'isotope_i...   \n",
       "16  {'intensity': 410, 'inferred': 0, 'isotope_idx...   \n",
       "4   {'intensity': 38249, 'inferred': 1, 'isotope_i...   \n",
       "11  {'intensity': 41445, 'inferred': 1, 'isotope_i...   \n",
       "6   {'intensity': 589, 'inferred': 0, 'isotope_idx...   \n",
       "\n",
       "                                        decoy_metrics  \n",
       "1   {'delta_mz_ppm': 0.7690481807310035, 'delta_rt...  \n",
       "16  {'delta_mz_ppm': 2.344486396552836, 'delta_rt'...  \n",
       "4   {'delta_mz_ppm': 2.42670177683668, 'delta_rt':...  \n",
       "11  {'delta_mz_ppm': -0.004379389675649477, 'delta...  \n",
       "6   {'delta_mz_ppm': 1.0097109818347336, 'delta_rt...  "
      ]
     },
     "execution_count": 7,
     "metadata": {},
     "output_type": "execute_result"
    }
   ],
   "source": [
    "estimated_coords_df.sample(n=5)"
   ]
  },
  {
   "cell_type": "code",
   "execution_count": 8,
   "metadata": {},
   "outputs": [],
   "source": [
    "# the sequence of interest\n",
    "selected_sequence = 'MTDQEAIQDLWQWR'\n",
    "selected_sequence_charge = 2"
   ]
  },
  {
   "cell_type": "code",
   "execution_count": 9,
   "metadata": {},
   "outputs": [
    {
     "data": {
      "text/plain": [
       "{'mono_mz': 910.4252335949948,\n",
       " 'scan_apex': 395.9255748906691,\n",
       " 'rt_apex': 2155.4117201953427}"
      ]
     },
     "execution_count": 9,
     "metadata": {},
     "output_type": "execute_result"
    }
   ],
   "source": [
    "estimated_coords = estimated_coords_df[(estimated_coords_df.sequence == selected_sequence) & (estimated_coords_df.charge == selected_sequence_charge)].iloc[0].target_coords\n",
    "estimated_coords"
   ]
  },
  {
   "cell_type": "code",
   "execution_count": 10,
   "metadata": {},
   "outputs": [],
   "source": [
    "extracted_coords = estimated_coords_df[(estimated_coords_df.sequence == selected_sequence) & (estimated_coords_df.charge == selected_sequence_charge)].iloc[0].attributes\n",
    "extracted_rt_apex = extracted_coords['rt_apex']\n",
    "extracted_scan_apex = extracted_coords['scan_apex']\n",
    "extracted_mz = extracted_coords['monoisotopic_mz_centroid']"
   ]
  },
  {
   "cell_type": "code",
   "execution_count": 11,
   "metadata": {},
   "outputs": [],
   "source": [
    "# how far either side of the feature coordinates should the images extend\n",
    "OFFSET_MZ_LOWER = 10.0\n",
    "OFFSET_MZ_UPPER = 20.0\n",
    "\n",
    "OFFSET_CCS_LOWER = 100\n",
    "OFFSET_CCS_UPPER = 100\n",
    "\n",
    "OFFSET_RT_LOWER = 10\n",
    "OFFSET_RT_UPPER = 10"
   ]
  },
  {
   "cell_type": "code",
   "execution_count": 12,
   "metadata": {},
   "outputs": [],
   "source": [
    "# image dimensions\n",
    "PIXELS_X = 600\n",
    "PIXELS_Y = 600"
   ]
  },
  {
   "cell_type": "code",
   "execution_count": 13,
   "metadata": {},
   "outputs": [],
   "source": [
    "def pixel_xy(mz, scan, mz_lower, mz_upper, scan_lower, scan_upper):\n",
    "    x_pixels_per_mz = (PIXELS_X-1) / (mz_upper - mz_lower)\n",
    "    y_pixels_per_scan = (PIXELS_Y-1) / (scan_upper - scan_lower)\n",
    "    \n",
    "    pixel_x = int((mz - mz_lower) * x_pixels_per_mz)\n",
    "    pixel_y = int((scan - scan_lower) * y_pixels_per_scan)\n",
    "    return (pixel_x, pixel_y)"
   ]
  },
  {
   "cell_type": "code",
   "execution_count": 14,
   "metadata": {},
   "outputs": [],
   "source": [
    "# create the colour mapping\n",
    "colour_map = plt.get_cmap('rainbow')\n",
    "norm = colors.LogNorm(vmin=1, vmax=5000, clip=True)  # aiming to get good colour variation in the lower range, and clipping everything else"
   ]
  },
  {
   "cell_type": "code",
   "execution_count": 43,
   "metadata": {},
   "outputs": [],
   "source": [
    "# clear out any previous feature slices\n",
    "if os.path.exists(FEATURE_SLICES_DIR):\n",
    "    shutil.rmtree(FEATURE_SLICES_DIR)\n",
    "os.makedirs(FEATURE_SLICES_DIR)"
   ]
  },
  {
   "cell_type": "code",
   "execution_count": 44,
   "metadata": {},
   "outputs": [],
   "source": [
    "# determine the cuboid dimensions\n",
    "mz_lower = estimated_coords['mono_mz'] - OFFSET_MZ_LOWER\n",
    "mz_upper = estimated_coords['mono_mz'] + OFFSET_MZ_UPPER\n",
    "scan_lower = estimated_coords['scan_apex'] - OFFSET_CCS_LOWER\n",
    "scan_upper = estimated_coords['scan_apex'] + OFFSET_CCS_UPPER\n",
    "rt_apex = estimated_coords['rt_apex']\n",
    "rt_lower = estimated_coords['rt_apex'] - OFFSET_RT_LOWER\n",
    "rt_upper = estimated_coords['rt_apex'] + OFFSET_RT_UPPER\n",
    "\n",
    "x_pixels_per_mz = (PIXELS_X-1) / (mz_upper - mz_lower)\n",
    "y_pixels_per_scan = (PIXELS_Y-1) / (scan_upper - scan_lower)"
   ]
  },
  {
   "cell_type": "code",
   "execution_count": 45,
   "metadata": {},
   "outputs": [],
   "source": [
    "# get the raw data for this feature\n",
    "db_conn = sqlite3.connect(CONVERTED_DB)\n",
    "raw_df = pd.read_sql_query('select mz,scan,intensity,frame_id,retention_time_secs from frames where intensity > 100 and mz >= {} and mz <= {} and scan >= {} and scan <= {} and frame_type == {} and retention_time_secs >= {} and retention_time_secs <= {}'.format(mz_lower, mz_upper, scan_lower, scan_upper, FRAME_TYPE_MS1, rt_lower, rt_upper), db_conn)\n",
    "if len(raw_df) == 0:\n",
    "    print(\"found no raw points for feature {}\".format(feature_id))\n",
    "db_conn.close()"
   ]
  },
  {
   "cell_type": "code",
   "execution_count": 46,
   "metadata": {},
   "outputs": [
    {
     "data": {
      "text/plain": [
       "19656"
      ]
     },
     "execution_count": 46,
     "metadata": {},
     "output_type": "execute_result"
    }
   ],
   "source": [
    "# get the frame ID closest to the estimated RT apex\n",
    "apex_frame_id = int(raw_df.iloc[(raw_df['retention_time_secs'] - rt_apex).abs().argsort()[:1]].sort_values(by=['retention_time_secs'], ascending=[True], inplace=False).iloc[0].frame_id)\n",
    "apex_frame_id"
   ]
  },
  {
   "cell_type": "code",
   "execution_count": 47,
   "metadata": {},
   "outputs": [
    {
     "data": {
      "text/plain": [
       "19651"
      ]
     },
     "execution_count": 47,
     "metadata": {},
     "output_type": "execute_result"
    }
   ],
   "source": [
    "# get the frame ID closest to the extracted RT apex\n",
    "extracted_apex_frame_id = int(raw_df.iloc[(raw_df['retention_time_secs'] - extracted_rt_apex).abs().argsort()[:1]].sort_values(by=['retention_time_secs'], ascending=[True], inplace=False).iloc[0].frame_id)\n",
    "extracted_apex_frame_id"
   ]
  },
  {
   "cell_type": "code",
   "execution_count": 48,
   "metadata": {},
   "outputs": [
    {
     "name": "stdout",
     "output_type": "stream",
     "text": [
      "maximum intensity is 7828\n"
     ]
    }
   ],
   "source": [
    "# calculate the raw point coordinates in scaled pixels\n",
    "pixel_df = pd.DataFrame(raw_df.apply(lambda row: pixel_xy(row.mz, row.scan, mz_lower, mz_upper, scan_lower, scan_upper), axis=1).tolist(), columns=['pixel_x','pixel_y'])\n",
    "raw_pixel_df = pd.concat([raw_df, pixel_df], axis=1)\n",
    "\n",
    "# sum the intensity of raw points that have been assigned to each pixel\n",
    "pixel_intensity_df = raw_pixel_df.groupby(by=['frame_id', 'pixel_x', 'pixel_y'], as_index=False).intensity.sum()\n",
    "\n",
    "print('maximum intensity is {}'.format(pixel_intensity_df.intensity.max()))"
   ]
  },
  {
   "cell_type": "code",
   "execution_count": 49,
   "metadata": {},
   "outputs": [],
   "source": [
    "# calculate the colour to represent the intensity\n",
    "colours_l = []\n",
    "for i in pixel_intensity_df.intensity.unique():\n",
    "    colours_l.append((i, colour_map(norm(i), bytes=True)[:3]))\n",
    "colours_df = pd.DataFrame(colours_l, columns=['intensity','colour'])\n",
    "pixel_intensity_df = pd.merge(pixel_intensity_df, colours_df, how='left', left_on=['intensity'], right_on=['intensity'])"
   ]
  },
  {
   "cell_type": "code",
   "execution_count": 50,
   "metadata": {},
   "outputs": [],
   "source": [
    "estimated_x, estimated_y = pixel_xy(estimated_coords['mono_mz'], estimated_coords['scan_apex'], mz_lower, mz_upper, scan_lower, scan_upper)"
   ]
  },
  {
   "cell_type": "code",
   "execution_count": 51,
   "metadata": {},
   "outputs": [],
   "source": [
    "if os.path.isfile(UBUNTU_FONT_PATH):\n",
    "    feature_label_font = ImageFont.truetype(UBUNTU_FONT_PATH, 10)\n",
    "else:\n",
    "    feature_label_font = ImageFont.truetype(MACOS_FONT_PATH, 10)"
   ]
  },
  {
   "cell_type": "code",
   "execution_count": 52,
   "metadata": {},
   "outputs": [],
   "source": [
    "# write out the images to files\n",
    "feature_slice = 0\n",
    "for group_name,group_df in pixel_intensity_df.groupby(['frame_id'], as_index=False):\n",
    "    # create an intensity array\n",
    "    tile_im_array = np.zeros([PIXELS_Y, PIXELS_X, 3], dtype=np.uint8)  # container for the image\n",
    "    for r in zip(group_df.pixel_x, group_df.pixel_y, group_df.colour):\n",
    "        x = r[0]\n",
    "        y = r[1]\n",
    "        c = r[2]\n",
    "        tile_im_array[y:int(y+y_pixels_per_scan),x,:] = c\n",
    "\n",
    "    # create an image of the intensity array\n",
    "    feature_slice += 1\n",
    "    tile = Image.fromarray(tile_im_array, 'RGB')\n",
    "    draw = ImageDraw.Draw(tile)\n",
    "    \n",
    "    # if this is the estimated apex frame, highlight the estimated coordinates\n",
    "    if group_name == apex_frame_id:\n",
    "        draw.line((estimated_x,0, estimated_x,PIXELS_Y), fill='green', width=1)\n",
    "        draw.line((0,estimated_y, PIXELS_X,estimated_y), fill='green', width=1)\n",
    "    \n",
    "    # if this is the extracted apex frame, highlight the extracted coordinates\n",
    "    if group_name == extracted_apex_frame_id:\n",
    "        # draw the extracted apex\n",
    "        extracted_x, extracted_y = pixel_xy(extracted_coords['monoisotopic_mz_centroid'], extracted_coords['scan_apex'], mz_lower, mz_upper, scan_lower, scan_upper)\n",
    "        draw.line((extracted_x,0, extracted_x,PIXELS_Y), fill='blue', width=1)\n",
    "        draw.line((0,extracted_y, PIXELS_X,extracted_y), fill='blue', width=1)\n",
    "\n",
    "    # draw the CCS markers\n",
    "    ccs_marker_each = 10\n",
    "    draw.line((0,estimated_y, 10,estimated_y), fill='yellow', width=3)\n",
    "    draw.text((15, estimated_y), round(estimated_coords['scan_apex'],1).astype('str'), font=feature_label_font, fill='yellow')\n",
    "    for i in range(1,10):\n",
    "        ccs_marker_y_pixels = y_pixels_per_scan * ccs_marker_each * i\n",
    "        draw.line((0,estimated_y-ccs_marker_y_pixels, 5,estimated_y-ccs_marker_y_pixels), fill='yellow', width=1)\n",
    "        draw.line((0,estimated_y+ccs_marker_y_pixels, 5,estimated_y+ccs_marker_y_pixels), fill='yellow', width=1)\n",
    "\n",
    "    # draw the m/z markers\n",
    "    mz_marker_each = 1\n",
    "    draw.line((estimated_x,0, estimated_x,10), fill='yellow', width=3)\n",
    "    draw.text((estimated_x,24), round(estimated_coords['mono_mz'],1).astype('str'), font=feature_label_font, fill='yellow')\n",
    "    for i in range(1,10):\n",
    "        mz_marker_x_pixels = x_pixels_per_mz * mz_marker_each * i\n",
    "        draw.line((estimated_x-mz_marker_x_pixels,0, estimated_x-mz_marker_x_pixels,5), fill='yellow', width=1)\n",
    "        draw.line((estimated_x+mz_marker_x_pixels,0, estimated_x+mz_marker_x_pixels,5), fill='yellow', width=1)\n",
    "\n",
    "    # save the image as a file\n",
    "    tile_file_name = '{}/feature-slice-{:03d}.png'.format(FEATURE_SLICES_DIR, feature_slice)\n",
    "    tile.save(tile_file_name)"
   ]
  },
  {
   "cell_type": "code",
   "execution_count": null,
   "metadata": {},
   "outputs": [],
   "source": []
  }
 ],
 "metadata": {
  "kernelspec": {
   "display_name": "Python 3",
   "language": "python",
   "name": "python3"
  },
  "language_info": {
   "codemirror_mode": {
    "name": "ipython",
    "version": 3
   },
   "file_extension": ".py",
   "mimetype": "text/x-python",
   "name": "python",
   "nbconvert_exporter": "python",
   "pygments_lexer": "ipython3",
   "version": "3.6.8"
  }
 },
 "nbformat": 4,
 "nbformat_minor": 4
}
