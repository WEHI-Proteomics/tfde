{
 "cells": [
  {
   "cell_type": "markdown",
   "metadata": {},
   "source": [
    "This notebook uses the three raw data coordinate estimation models (one each for m/z, RT, and scan) to estimate where in the raw data a sequence should be (based on where it was found on average in other runs) and extracts metrics of the feature found at those coordinates."
   ]
  },
  {
   "cell_type": "code",
   "execution_count": 1,
   "metadata": {},
   "outputs": [],
   "source": [
    "import pandas as pd\n",
    "import numpy as np\n",
    "import sys\n",
    "import pickle\n",
    "import glob\n",
    "import os\n",
    "import sqlite3\n",
    "import peakutils\n",
    "from scipy import signal\n",
    "import matplotlib.pyplot as plt"
   ]
  },
  {
   "cell_type": "code",
   "execution_count": 2,
   "metadata": {},
   "outputs": [],
   "source": [
    "FILE_IDX_FOR_ANALYSIS = 0"
   ]
  },
  {
   "cell_type": "code",
   "execution_count": 3,
   "metadata": {},
   "outputs": [],
   "source": [
    "SEQUENCE_FILE_COUNTS_FILE_NAME = '/Users/darylwilding-mcbride/Downloads/sequence-charge-file-counts-df.pkl'"
   ]
  },
  {
   "cell_type": "code",
   "execution_count": 4,
   "metadata": {},
   "outputs": [],
   "source": [
    "sequence_file_counts_df = pd.read_pickle(SEQUENCE_FILE_COUNTS_FILE_NAME)"
   ]
  },
  {
   "cell_type": "code",
   "execution_count": 5,
   "metadata": {},
   "outputs": [
    {
     "data": {
      "text/html": [
       "<div>\n",
       "<style scoped>\n",
       "    .dataframe tbody tr th:only-of-type {\n",
       "        vertical-align: middle;\n",
       "    }\n",
       "\n",
       "    .dataframe tbody tr th {\n",
       "        vertical-align: top;\n",
       "    }\n",
       "\n",
       "    .dataframe thead th {\n",
       "        text-align: right;\n",
       "    }\n",
       "</style>\n",
       "<table border=\"1\" class=\"dataframe\">\n",
       "  <thead>\n",
       "    <tr style=\"text-align: right;\">\n",
       "      <th></th>\n",
       "      <th>sequence</th>\n",
       "      <th>charge</th>\n",
       "      <th>number_of_files</th>\n",
       "      <th>file_idxs</th>\n",
       "    </tr>\n",
       "  </thead>\n",
       "  <tbody>\n",
       "    <tr>\n",
       "      <th>17021</th>\n",
       "      <td>LPIDLSQLK</td>\n",
       "      <td>2</td>\n",
       "      <td>20</td>\n",
       "      <td>[0, 1, 2, 3, 4, 5, 6, 7, 8, 9, 10, 11, 12, 13,...</td>\n",
       "    </tr>\n",
       "    <tr>\n",
       "      <th>8538</th>\n",
       "      <td>FNFLAPELPAVSEFSTSETMGHSADR</td>\n",
       "      <td>3</td>\n",
       "      <td>20</td>\n",
       "      <td>[0, 1, 2, 3, 4, 5, 6, 7, 8, 9, 10, 11, 12, 13,...</td>\n",
       "    </tr>\n",
       "    <tr>\n",
       "      <th>13726</th>\n",
       "      <td>IPIGFIPLGETSSLSHTLFAESGNK</td>\n",
       "      <td>3</td>\n",
       "      <td>20</td>\n",
       "      <td>[0, 1, 2, 3, 4, 5, 6, 7, 8, 9, 10, 11, 12, 13,...</td>\n",
       "    </tr>\n",
       "    <tr>\n",
       "      <th>24989</th>\n",
       "      <td>SVGTQVDDGTLEVR</td>\n",
       "      <td>2</td>\n",
       "      <td>13</td>\n",
       "      <td>[0, 1, 2, 3, 4, 5, 6, 7, 8, 9, 10, 16, 19]</td>\n",
       "    </tr>\n",
       "    <tr>\n",
       "      <th>26375</th>\n",
       "      <td>TPIAAGHPSMNLLLR</td>\n",
       "      <td>2</td>\n",
       "      <td>20</td>\n",
       "      <td>[0, 1, 2, 3, 4, 5, 6, 7, 8, 9, 10, 11, 12, 13,...</td>\n",
       "    </tr>\n",
       "    <tr>\n",
       "      <th>27041</th>\n",
       "      <td>TYAICGAIR</td>\n",
       "      <td>2</td>\n",
       "      <td>15</td>\n",
       "      <td>[0, 1, 2, 3, 4, 6, 7, 9, 11, 12, 13, 15, 16, 1...</td>\n",
       "    </tr>\n",
       "    <tr>\n",
       "      <th>9061</th>\n",
       "      <td>FYCDYCDTYLTHDSPSVR</td>\n",
       "      <td>3</td>\n",
       "      <td>20</td>\n",
       "      <td>[0, 1, 2, 3, 4, 5, 6, 7, 8, 9, 10, 11, 12, 13,...</td>\n",
       "    </tr>\n",
       "    <tr>\n",
       "      <th>14458</th>\n",
       "      <td>KDDTDDEIAK</td>\n",
       "      <td>2</td>\n",
       "      <td>20</td>\n",
       "      <td>[0, 1, 2, 3, 4, 5, 6, 7, 8, 9, 10, 11, 12, 13,...</td>\n",
       "    </tr>\n",
       "    <tr>\n",
       "      <th>11552</th>\n",
       "      <td>HEVLLISAEQDK</td>\n",
       "      <td>2</td>\n",
       "      <td>20</td>\n",
       "      <td>[0, 1, 2, 3, 4, 5, 6, 7, 8, 9, 10, 11, 12, 13,...</td>\n",
       "    </tr>\n",
       "    <tr>\n",
       "      <th>7601</th>\n",
       "      <td>EVGDGTTSVVIIAAELLK</td>\n",
       "      <td>2</td>\n",
       "      <td>6</td>\n",
       "      <td>[0, 4, 8, 12, 15, 19]</td>\n",
       "    </tr>\n",
       "    <tr>\n",
       "      <th>17802</th>\n",
       "      <td>LTPLPEDNSMNVDQDGDPSDR</td>\n",
       "      <td>2</td>\n",
       "      <td>19</td>\n",
       "      <td>[0, 1, 2, 3, 4, 5, 6, 7, 8, 9, 10, 11, 12, 14,...</td>\n",
       "    </tr>\n",
       "    <tr>\n",
       "      <th>520</th>\n",
       "      <td>AEASIQAGAGDGEWEESEVK</td>\n",
       "      <td>2</td>\n",
       "      <td>20</td>\n",
       "      <td>[0, 1, 2, 3, 4, 5, 6, 7, 8, 9, 10, 11, 12, 13,...</td>\n",
       "    </tr>\n",
       "    <tr>\n",
       "      <th>15376</th>\n",
       "      <td>LDHEPSAEEIAEQLDKPVDDVSR</td>\n",
       "      <td>3</td>\n",
       "      <td>20</td>\n",
       "      <td>[0, 1, 2, 3, 4, 5, 6, 7, 8, 9, 10, 11, 12, 13,...</td>\n",
       "    </tr>\n",
       "    <tr>\n",
       "      <th>14044</th>\n",
       "      <td>ISQMPVILTPLHFDRDPLQK</td>\n",
       "      <td>4</td>\n",
       "      <td>20</td>\n",
       "      <td>[0, 1, 2, 3, 4, 5, 6, 7, 8, 9, 10, 11, 12, 13,...</td>\n",
       "    </tr>\n",
       "    <tr>\n",
       "      <th>4474</th>\n",
       "      <td>DPEASENDKYVALQFLR</td>\n",
       "      <td>2</td>\n",
       "      <td>20</td>\n",
       "      <td>[0, 1, 2, 3, 4, 5, 6, 7, 8, 9, 10, 11, 12, 13,...</td>\n",
       "    </tr>\n",
       "    <tr>\n",
       "      <th>11619</th>\n",
       "      <td>HGANLILLDISPEIEK</td>\n",
       "      <td>2</td>\n",
       "      <td>10</td>\n",
       "      <td>[0, 3, 4, 5, 6, 7, 8, 9, 16, 19]</td>\n",
       "    </tr>\n",
       "    <tr>\n",
       "      <th>9902</th>\n",
       "      <td>GGTPYGATTIAGGDGSR</td>\n",
       "      <td>2</td>\n",
       "      <td>20</td>\n",
       "      <td>[0, 1, 2, 3, 4, 5, 6, 7, 8, 9, 10, 11, 12, 13,...</td>\n",
       "    </tr>\n",
       "    <tr>\n",
       "      <th>4140</th>\n",
       "      <td>DLGLSESGEDVNAAILDESGK</td>\n",
       "      <td>2</td>\n",
       "      <td>20</td>\n",
       "      <td>[0, 1, 2, 3, 4, 5, 6, 7, 8, 9, 10, 11, 12, 13,...</td>\n",
       "    </tr>\n",
       "    <tr>\n",
       "      <th>20655</th>\n",
       "      <td>QADGVVIVTPEYNYSVPGGLK</td>\n",
       "      <td>2</td>\n",
       "      <td>8</td>\n",
       "      <td>[0, 3, 4, 5, 6, 8, 9, 16]</td>\n",
       "    </tr>\n",
       "    <tr>\n",
       "      <th>10557</th>\n",
       "      <td>GPGASGEQPEPGEAAAGGAAEEAR</td>\n",
       "      <td>2</td>\n",
       "      <td>20</td>\n",
       "      <td>[0, 1, 2, 3, 4, 5, 6, 7, 8, 9, 10, 11, 12, 13,...</td>\n",
       "    </tr>\n",
       "  </tbody>\n",
       "</table>\n",
       "</div>"
      ],
      "text/plain": [
       "                         sequence  charge  number_of_files  \\\n",
       "17021                   LPIDLSQLK       2               20   \n",
       "8538   FNFLAPELPAVSEFSTSETMGHSADR       3               20   \n",
       "13726   IPIGFIPLGETSSLSHTLFAESGNK       3               20   \n",
       "24989              SVGTQVDDGTLEVR       2               13   \n",
       "26375             TPIAAGHPSMNLLLR       2               20   \n",
       "27041                   TYAICGAIR       2               15   \n",
       "9061           FYCDYCDTYLTHDSPSVR       3               20   \n",
       "14458                  KDDTDDEIAK       2               20   \n",
       "11552                HEVLLISAEQDK       2               20   \n",
       "7601           EVGDGTTSVVIIAAELLK       2                6   \n",
       "17802       LTPLPEDNSMNVDQDGDPSDR       2               19   \n",
       "520          AEASIQAGAGDGEWEESEVK       2               20   \n",
       "15376     LDHEPSAEEIAEQLDKPVDDVSR       3               20   \n",
       "14044        ISQMPVILTPLHFDRDPLQK       4               20   \n",
       "4474            DPEASENDKYVALQFLR       2               20   \n",
       "11619            HGANLILLDISPEIEK       2               10   \n",
       "9902            GGTPYGATTIAGGDGSR       2               20   \n",
       "4140        DLGLSESGEDVNAAILDESGK       2               20   \n",
       "20655       QADGVVIVTPEYNYSVPGGLK       2                8   \n",
       "10557    GPGASGEQPEPGEAAAGGAAEEAR       2               20   \n",
       "\n",
       "                                               file_idxs  \n",
       "17021  [0, 1, 2, 3, 4, 5, 6, 7, 8, 9, 10, 11, 12, 13,...  \n",
       "8538   [0, 1, 2, 3, 4, 5, 6, 7, 8, 9, 10, 11, 12, 13,...  \n",
       "13726  [0, 1, 2, 3, 4, 5, 6, 7, 8, 9, 10, 11, 12, 13,...  \n",
       "24989         [0, 1, 2, 3, 4, 5, 6, 7, 8, 9, 10, 16, 19]  \n",
       "26375  [0, 1, 2, 3, 4, 5, 6, 7, 8, 9, 10, 11, 12, 13,...  \n",
       "27041  [0, 1, 2, 3, 4, 6, 7, 9, 11, 12, 13, 15, 16, 1...  \n",
       "9061   [0, 1, 2, 3, 4, 5, 6, 7, 8, 9, 10, 11, 12, 13,...  \n",
       "14458  [0, 1, 2, 3, 4, 5, 6, 7, 8, 9, 10, 11, 12, 13,...  \n",
       "11552  [0, 1, 2, 3, 4, 5, 6, 7, 8, 9, 10, 11, 12, 13,...  \n",
       "7601                               [0, 4, 8, 12, 15, 19]  \n",
       "17802  [0, 1, 2, 3, 4, 5, 6, 7, 8, 9, 10, 11, 12, 14,...  \n",
       "520    [0, 1, 2, 3, 4, 5, 6, 7, 8, 9, 10, 11, 12, 13,...  \n",
       "15376  [0, 1, 2, 3, 4, 5, 6, 7, 8, 9, 10, 11, 12, 13,...  \n",
       "14044  [0, 1, 2, 3, 4, 5, 6, 7, 8, 9, 10, 11, 12, 13,...  \n",
       "4474   [0, 1, 2, 3, 4, 5, 6, 7, 8, 9, 10, 11, 12, 13,...  \n",
       "11619                   [0, 3, 4, 5, 6, 7, 8, 9, 16, 19]  \n",
       "9902   [0, 1, 2, 3, 4, 5, 6, 7, 8, 9, 10, 11, 12, 13,...  \n",
       "4140   [0, 1, 2, 3, 4, 5, 6, 7, 8, 9, 10, 11, 12, 13,...  \n",
       "20655                          [0, 3, 4, 5, 6, 8, 9, 16]  \n",
       "10557  [0, 1, 2, 3, 4, 5, 6, 7, 8, 9, 10, 11, 12, 13,...  "
      ]
     },
     "execution_count": 5,
     "metadata": {},
     "output_type": "execute_result"
    }
   ],
   "source": [
    "sequence_file_counts_df[sequence_file_counts_df.file_idxs.apply(lambda x: 0 in x)].sample(n=20)  # use not in x for sequences missed in this file"
   ]
  },
  {
   "cell_type": "code",
   "execution_count": 6,
   "metadata": {},
   "outputs": [],
   "source": [
    "SEQUENCE_ROW_IDX_FOR_ANALYSIS = 77"
   ]
  },
  {
   "cell_type": "code",
   "execution_count": 7,
   "metadata": {},
   "outputs": [],
   "source": [
    "EXPERIMENT_SEQUENCE_ATTRIBS_FILE_NAME = '/Users/darylwilding-mcbride/Downloads/experiments/190719_Hela_Ecoli/training-sets/experiment-sequence-charge-attribs-df.pkl'"
   ]
  },
  {
   "cell_type": "code",
   "execution_count": 8,
   "metadata": {},
   "outputs": [],
   "source": [
    "experiment_sequence_attribs_df = pd.read_pickle(EXPERIMENT_SEQUENCE_ATTRIBS_FILE_NAME)"
   ]
  },
  {
   "cell_type": "code",
   "execution_count": 9,
   "metadata": {},
   "outputs": [
    {
     "data": {
      "text/html": [
       "<div>\n",
       "<style scoped>\n",
       "    .dataframe tbody tr th:only-of-type {\n",
       "        vertical-align: middle;\n",
       "    }\n",
       "\n",
       "    .dataframe tbody tr th {\n",
       "        vertical-align: top;\n",
       "    }\n",
       "\n",
       "    .dataframe thead th {\n",
       "        text-align: right;\n",
       "    }\n",
       "</style>\n",
       "<table border=\"1\" class=\"dataframe\">\n",
       "  <thead>\n",
       "    <tr style=\"text-align: right;\">\n",
       "      <th></th>\n",
       "      <th>sequence</th>\n",
       "      <th>charge</th>\n",
       "      <th>theoretical_mz</th>\n",
       "      <th>experiment_scan</th>\n",
       "      <th>experiment_scan_peak_width</th>\n",
       "      <th>experiment_rt</th>\n",
       "      <th>experiment_rt_peak_width</th>\n",
       "      <th>experiment_intensity</th>\n",
       "    </tr>\n",
       "  </thead>\n",
       "  <tbody>\n",
       "    <tr>\n",
       "      <th>0</th>\n",
       "      <td>AAAAAAAAAPAAAATAPTTAATTAATAAQ</td>\n",
       "      <td>2</td>\n",
       "      <td>1184.608726</td>\n",
       "      <td>73.911301</td>\n",
       "      <td>57.626667</td>\n",
       "      <td>602.012681</td>\n",
       "      <td>18.706667</td>\n",
       "      <td>108754.444444</td>\n",
       "    </tr>\n",
       "    <tr>\n",
       "      <th>1</th>\n",
       "      <td>AAAAAAAAAPAAAATAPTTAATTAATAAQ</td>\n",
       "      <td>3</td>\n",
       "      <td>790.074909</td>\n",
       "      <td>335.868469</td>\n",
       "      <td>56.366667</td>\n",
       "      <td>609.864140</td>\n",
       "      <td>5.030000</td>\n",
       "      <td>29377.333333</td>\n",
       "    </tr>\n",
       "    <tr>\n",
       "      <th>2</th>\n",
       "      <td>AAAAAAAAVPSAGPAGPAPTSAAGR</td>\n",
       "      <td>2</td>\n",
       "      <td>1016.532126</td>\n",
       "      <td>160.291329</td>\n",
       "      <td>64.555556</td>\n",
       "      <td>489.973155</td>\n",
       "      <td>6.357111</td>\n",
       "      <td>58456.622222</td>\n",
       "    </tr>\n",
       "    <tr>\n",
       "      <th>3</th>\n",
       "      <td>AAAAALSQQQSLQER</td>\n",
       "      <td>2</td>\n",
       "      <td>786.410426</td>\n",
       "      <td>496.361511</td>\n",
       "      <td>45.912500</td>\n",
       "      <td>375.039574</td>\n",
       "      <td>6.140000</td>\n",
       "      <td>57092.250000</td>\n",
       "    </tr>\n",
       "    <tr>\n",
       "      <th>4</th>\n",
       "      <td>AAAAATVVPPMVGGPPFVGPVGFGPGDR</td>\n",
       "      <td>3</td>\n",
       "      <td>864.452776</td>\n",
       "      <td>707.537580</td>\n",
       "      <td>48.382593</td>\n",
       "      <td>1039.861047</td>\n",
       "      <td>16.666296</td>\n",
       "      <td>50988.518519</td>\n",
       "    </tr>\n",
       "  </tbody>\n",
       "</table>\n",
       "</div>"
      ],
      "text/plain": [
       "                        sequence  charge  theoretical_mz  experiment_scan  \\\n",
       "0  AAAAAAAAAPAAAATAPTTAATTAATAAQ       2     1184.608726        73.911301   \n",
       "1  AAAAAAAAAPAAAATAPTTAATTAATAAQ       3      790.074909       335.868469   \n",
       "2      AAAAAAAAVPSAGPAGPAPTSAAGR       2     1016.532126       160.291329   \n",
       "3                AAAAALSQQQSLQER       2      786.410426       496.361511   \n",
       "4   AAAAATVVPPMVGGPPFVGPVGFGPGDR       3      864.452776       707.537580   \n",
       "\n",
       "   experiment_scan_peak_width  experiment_rt  experiment_rt_peak_width  \\\n",
       "0                   57.626667     602.012681                 18.706667   \n",
       "1                   56.366667     609.864140                  5.030000   \n",
       "2                   64.555556     489.973155                  6.357111   \n",
       "3                   45.912500     375.039574                  6.140000   \n",
       "4                   48.382593    1039.861047                 16.666296   \n",
       "\n",
       "   experiment_intensity  \n",
       "0         108754.444444  \n",
       "1          29377.333333  \n",
       "2          58456.622222  \n",
       "3          57092.250000  \n",
       "4          50988.518519  "
      ]
     },
     "execution_count": 9,
     "metadata": {},
     "output_type": "execute_result"
    }
   ],
   "source": [
    "experiment_sequence_attribs_df.head()"
   ]
  },
  {
   "cell_type": "code",
   "execution_count": 10,
   "metadata": {},
   "outputs": [],
   "source": [
    "# use the run-0 model to find AAAAATVVPPMVGGPPFVGPVGFGPGDR, charge 3 in the raw data of the file idx\n",
    "RUN_MZ_MODEL_FILE_NAME = '/Users/darylwilding-mcbride/Downloads/experiments/190719_Hela_Ecoli/trained-models/file-{}-mz-model.pkl'.format(FILE_IDX_FOR_ANALYSIS)\n",
    "RUN_SCAN_MODEL_FILE_NAME = '/Users/darylwilding-mcbride/Downloads/experiments/190719_Hela_Ecoli/trained-models/file-{}-scan-model.pkl'.format(FILE_IDX_FOR_ANALYSIS)\n",
    "RUN_RT_MODEL_FILE_NAME = '/Users/darylwilding-mcbride/Downloads/experiments/190719_Hela_Ecoli/trained-models/file-{}-rt-model.pkl'.format(FILE_IDX_FOR_ANALYSIS)"
   ]
  },
  {
   "cell_type": "code",
   "execution_count": 11,
   "metadata": {},
   "outputs": [],
   "source": [
    "with open(RUN_MZ_MODEL_FILE_NAME, 'rb') as file:\n",
    "    mz_estimator = pickle.load(file)\n",
    "with open(RUN_SCAN_MODEL_FILE_NAME, 'rb') as file:\n",
    "    scan_estimator = pickle.load(file)\n",
    "with open(RUN_RT_MODEL_FILE_NAME, 'rb') as file:\n",
    "    rt_estimator = pickle.load(file)"
   ]
  },
  {
   "cell_type": "code",
   "execution_count": 12,
   "metadata": {},
   "outputs": [],
   "source": [
    "# gather the sequence attributes to plug into each model\n",
    "sequence_df = pd.DataFrame(experiment_sequence_attribs_df.iloc[SEQUENCE_ROW_IDX_FOR_ANALYSIS]).transpose()"
   ]
  },
  {
   "cell_type": "code",
   "execution_count": 13,
   "metadata": {},
   "outputs": [
    {
     "data": {
      "text/html": [
       "<div>\n",
       "<style scoped>\n",
       "    .dataframe tbody tr th:only-of-type {\n",
       "        vertical-align: middle;\n",
       "    }\n",
       "\n",
       "    .dataframe tbody tr th {\n",
       "        vertical-align: top;\n",
       "    }\n",
       "\n",
       "    .dataframe thead th {\n",
       "        text-align: right;\n",
       "    }\n",
       "</style>\n",
       "<table border=\"1\" class=\"dataframe\">\n",
       "  <thead>\n",
       "    <tr style=\"text-align: right;\">\n",
       "      <th></th>\n",
       "      <th>sequence</th>\n",
       "      <th>charge</th>\n",
       "      <th>theoretical_mz</th>\n",
       "      <th>experiment_scan</th>\n",
       "      <th>experiment_scan_peak_width</th>\n",
       "      <th>experiment_rt</th>\n",
       "      <th>experiment_rt_peak_width</th>\n",
       "      <th>experiment_intensity</th>\n",
       "    </tr>\n",
       "  </thead>\n",
       "  <tbody>\n",
       "    <tr>\n",
       "      <th>77</th>\n",
       "      <td>AAEEEDEADPKR</td>\n",
       "      <td>2</td>\n",
       "      <td>680.305</td>\n",
       "      <td>736.804</td>\n",
       "      <td>34.0978</td>\n",
       "      <td>81.3557</td>\n",
       "      <td>16.9166</td>\n",
       "      <td>54600.8</td>\n",
       "    </tr>\n",
       "  </tbody>\n",
       "</table>\n",
       "</div>"
      ],
      "text/plain": [
       "        sequence charge theoretical_mz experiment_scan  \\\n",
       "77  AAEEEDEADPKR      2        680.305         736.804   \n",
       "\n",
       "   experiment_scan_peak_width experiment_rt experiment_rt_peak_width  \\\n",
       "77                    34.0978       81.3557                  16.9166   \n",
       "\n",
       "   experiment_intensity  \n",
       "77              54600.8  "
      ]
     },
     "execution_count": 13,
     "metadata": {},
     "output_type": "execute_result"
    }
   ],
   "source": [
    "sequence_df"
   ]
  },
  {
   "cell_type": "code",
   "execution_count": 14,
   "metadata": {},
   "outputs": [],
   "source": [
    "sequence_estimation_attribs_df = sequence_df[['theoretical_mz','experiment_rt','experiment_scan','experiment_intensity']]\n",
    "sequence_estimation_attribs = sequence_estimation_attribs_df.values"
   ]
  },
  {
   "cell_type": "code",
   "execution_count": 15,
   "metadata": {},
   "outputs": [
    {
     "data": {
      "text/plain": [
       "array([[680.3047760000001, 81.35567959285564, 736.8041270619211,\n",
       "        54600.78]], dtype=object)"
      ]
     },
     "execution_count": 15,
     "metadata": {},
     "output_type": "execute_result"
    }
   ],
   "source": [
    "sequence_estimation_attribs"
   ]
  },
  {
   "cell_type": "code",
   "execution_count": 16,
   "metadata": {},
   "outputs": [
    {
     "data": {
      "text/plain": [
       "680.3049394303657"
      ]
     },
     "execution_count": 16,
     "metadata": {},
     "output_type": "execute_result"
    }
   ],
   "source": [
    "# estimate the raw monoisotopic m/z\n",
    "mz_delta_ppm_estimated = mz_estimator.predict(sequence_estimation_attribs)[0]\n",
    "theoretical_mz = sequence_estimation_attribs_df.iloc[0].theoretical_mz\n",
    "estimated_monoisotopic_mz = (mz_delta_ppm_estimated / 1e6 * theoretical_mz) + theoretical_mz\n",
    "estimated_monoisotopic_mz"
   ]
  },
  {
   "cell_type": "code",
   "execution_count": 17,
   "metadata": {},
   "outputs": [
    {
     "data": {
      "text/plain": [
       "738.9397437593665"
      ]
     },
     "execution_count": 17,
     "metadata": {},
     "output_type": "execute_result"
    }
   ],
   "source": [
    "# estimate the raw monoisotopic scan\n",
    "estimated_scan_delta = scan_estimator.predict(sequence_estimation_attribs)[0]\n",
    "experiment_scan = sequence_estimation_attribs_df.iloc[0].experiment_scan\n",
    "estimated_scan_apex = (estimated_scan_delta * experiment_scan) + experiment_scan\n",
    "estimated_scan_apex"
   ]
  },
  {
   "cell_type": "code",
   "execution_count": 18,
   "metadata": {},
   "outputs": [
    {
     "data": {
      "text/plain": [
       "67.01519415671171"
      ]
     },
     "execution_count": 18,
     "metadata": {},
     "output_type": "execute_result"
    }
   ],
   "source": [
    "# estimate the raw monoisotopic RT\n",
    "estimated_rt_delta = rt_estimator.predict(sequence_estimation_attribs)[0]\n",
    "experiment_rt = sequence_estimation_attribs_df.iloc[0].experiment_rt\n",
    "estimated_rt_apex = (estimated_rt_delta * experiment_rt) + experiment_rt\n",
    "estimated_rt_apex"
   ]
  },
  {
   "cell_type": "markdown",
   "metadata": {},
   "source": [
    "Look in the raw data for a feature at these coordinates"
   ]
  },
  {
   "cell_type": "code",
   "execution_count": 19,
   "metadata": {},
   "outputs": [],
   "source": [
    "# the width to use for intensity descent, in m/z\n",
    "MZ_TOLERANCE_PPM = 5  # +/- this amount\n",
    "MZ_TOLERANCE_PERCENT = MZ_TOLERANCE_PPM * 10**-4\n",
    "MS1_PEAK_DELTA = estimated_monoisotopic_mz * MZ_TOLERANCE_PERCENT / 100"
   ]
  },
  {
   "cell_type": "code",
   "execution_count": 20,
   "metadata": {},
   "outputs": [
    {
     "data": {
      "text/plain": [
       "0.003401524697151829"
      ]
     },
     "execution_count": 20,
     "metadata": {},
     "output_type": "execute_result"
    }
   ],
   "source": [
    "MS1_PEAK_DELTA"
   ]
  },
  {
   "cell_type": "code",
   "execution_count": 21,
   "metadata": {},
   "outputs": [],
   "source": [
    "# Mass difference between Carbon-12 and Carbon-13 isotopes, in Da. For calculating the spacing between isotopic peaks.\n",
    "CARBON_MASS_DIFFERENCE = 1.003355\n",
    "\n",
    "# the collision energy to distinguish ms1 and ms2 frames\n",
    "MS1_COLLISION_ENERGY = 10"
   ]
  },
  {
   "cell_type": "code",
   "execution_count": 22,
   "metadata": {},
   "outputs": [],
   "source": [
    "# takes a numpy array of intensity, and another of mz\n",
    "def mz_centroid(_int_f, _mz_f):\n",
    "    return ((_int_f/_int_f.sum()) * _mz_f).sum()"
   ]
  },
  {
   "cell_type": "code",
   "execution_count": 23,
   "metadata": {},
   "outputs": [],
   "source": [
    "NUMBER_OF_ISOTOPES = 7     # the number of isotopes to look for in the m/z dimension - the theoretical model includes 7 (the monoisotopic plus 6 isotopes)\n",
    "\n",
    "expected_spacing_mz = CARBON_MASS_DIFFERENCE / sequence_df.iloc[0].charge"
   ]
  },
  {
   "cell_type": "code",
   "execution_count": 24,
   "metadata": {},
   "outputs": [],
   "source": [
    "# distance for looking either side of the scan and RT apex, based on the other times this sequence has been seen in this experiment\n",
    "RT_WIDTH = sequence_df.iloc[0].experiment_rt_peak_width\n",
    "SCAN_WIDTH = sequence_df.iloc[0].experiment_scan_peak_width"
   ]
  },
  {
   "cell_type": "code",
   "execution_count": 25,
   "metadata": {},
   "outputs": [
    {
     "name": "stdout",
     "output_type": "stream",
     "text": [
      "mz: 680.3015-683.8201, scan: 670-807, rt: 33.2-100.8\n"
     ]
    }
   ],
   "source": [
    "feature_region_mz_lower = estimated_monoisotopic_mz - MS1_PEAK_DELTA\n",
    "feature_region_mz_upper = estimated_monoisotopic_mz + (NUMBER_OF_ISOTOPES * expected_spacing_mz) + MS1_PEAK_DELTA\n",
    "scan_lower = estimated_scan_apex - (2 * SCAN_WIDTH)\n",
    "scan_upper = estimated_scan_apex + (2 * SCAN_WIDTH)\n",
    "rt_lower = estimated_rt_apex - (2 * RT_WIDTH)\n",
    "rt_upper = estimated_rt_apex + (2 * RT_WIDTH)\n",
    "print(\"mz: {}-{}, scan: {}-{}, rt: {}-{}\".format(round(feature_region_mz_lower,4), round(feature_region_mz_upper,4), int(scan_lower), int(scan_upper), round(rt_lower,1), round(rt_upper,1)))"
   ]
  },
  {
   "cell_type": "code",
   "execution_count": 26,
   "metadata": {},
   "outputs": [],
   "source": [
    "# find the converted database file name for file idx 0\n",
    "MAPPING_FILE_NAME = '/Users/darylwilding-mcbride/Downloads/percolator_mapping_df.pkl'\n",
    "mapping_df = pd.read_pickle(MAPPING_FILE_NAME)"
   ]
  },
  {
   "cell_type": "code",
   "execution_count": 27,
   "metadata": {},
   "outputs": [
    {
     "data": {
      "text/plain": [
       "'190719_Hela_Ecoli_1to3_06-recalibrated'"
      ]
     },
     "execution_count": 27,
     "metadata": {},
     "output_type": "execute_result"
    }
   ],
   "source": [
    "run_name = mapping_df[mapping_df.file_idx == FILE_IDX_FOR_ANALYSIS].iloc[0].run_name\n",
    "run_name"
   ]
  },
  {
   "cell_type": "code",
   "execution_count": 28,
   "metadata": {},
   "outputs": [],
   "source": [
    "db_name = run_name.replace('-recalibrated', '-converted.sqlite')"
   ]
  },
  {
   "cell_type": "code",
   "execution_count": 29,
   "metadata": {},
   "outputs": [
    {
     "data": {
      "text/plain": [
       "'/Users/darylwilding-mcbride/Downloads/experiments/190719_Hela_Ecoli/converted-databases/190719_Hela_Ecoli_1to3_06-converted.sqlite'"
      ]
     },
     "execution_count": 29,
     "metadata": {},
     "output_type": "execute_result"
    }
   ],
   "source": [
    "CONVERTED_DATABASE_NAME = '/Users/darylwilding-mcbride/Downloads/experiments/190719_Hela_Ecoli/converted-databases/{}'.format(db_name)\n",
    "CONVERTED_DATABASE_NAME"
   ]
  },
  {
   "cell_type": "code",
   "execution_count": 30,
   "metadata": {},
   "outputs": [],
   "source": [
    "db_conn = sqlite3.connect(CONVERTED_DATABASE_NAME)\n",
    "ms1_frame_properties_df = pd.read_sql_query(\"select frame_id,retention_time_secs from frame_properties where retention_time_secs >= {} and retention_time_secs <= {} and collision_energy == {} order by retention_time_secs\".format(rt_lower, rt_upper, MS1_COLLISION_ENERGY), db_conn)\n",
    "db_conn.close()\n",
    "ms1_frame_ids = tuple(ms1_frame_properties_df.frame_id)"
   ]
  },
  {
   "cell_type": "code",
   "execution_count": 31,
   "metadata": {},
   "outputs": [],
   "source": [
    "# extract the raw data within this area of interest\n",
    "db_conn = sqlite3.connect(CONVERTED_DATABASE_NAME)\n",
    "feature_region_raw_points_df = pd.read_sql_query(\"select frame_id,mz,scan,intensity,retention_time_secs from frames where mz >= {} and mz <= {} and scan >= {} and scan <= {} and retention_time_secs >= {} and retention_time_secs <= {} and frame_id in {}\".format(feature_region_mz_lower, feature_region_mz_upper, scan_lower, scan_upper, rt_lower, rt_upper, ms1_frame_ids), db_conn)\n",
    "db_conn.close()"
   ]
  },
  {
   "cell_type": "code",
   "execution_count": 32,
   "metadata": {},
   "outputs": [],
   "source": [
    "sequence_name = sequence_df.iloc[0].sequence\n",
    "sequence_charge = sequence_df.iloc[0].charge"
   ]
  },
  {
   "cell_type": "code",
   "execution_count": 33,
   "metadata": {},
   "outputs": [],
   "source": [
    "# take a wider view for visualisation of the context\n",
    "feature_region_mz_wide_lower = feature_region_mz_lower - 1\n",
    "feature_region_mz_wide_upper = feature_region_mz_upper + 1\n",
    "scan_wide_lower = scan_lower - 30\n",
    "scan_wide_upper = scan_upper + 30\n",
    "rt_wide_lower = estimated_rt_apex - 1\n",
    "rt_wide_upper = estimated_rt_apex + 1\n",
    "\n",
    "# extract the raw data within this area of interest\n",
    "db_conn = sqlite3.connect(CONVERTED_DATABASE_NAME)\n",
    "wide_feature_region_raw_points_df = pd.read_sql_query(\"select frame_id,mz,scan,intensity,retention_time_secs from frames where mz >= {} and mz <= {} and scan >= {} and scan <= {} and retention_time_secs >= {} and retention_time_secs <= {} and frame_id in {}\".format(feature_region_mz_wide_lower, feature_region_mz_wide_upper, scan_wide_lower, scan_wide_upper, rt_wide_lower, rt_wide_upper, ms1_frame_ids), db_conn)\n",
    "db_conn.close()"
   ]
  },
  {
   "cell_type": "code",
   "execution_count": 34,
   "metadata": {
    "scrolled": true
   },
   "outputs": [],
   "source": [
    "isotope_peaks_l = []\n",
    "isotope_raw_points_l = []\n",
    "# derive peaks for the monoisotopic and the isotopes\n",
    "mz = estimated_monoisotopic_mz\n",
    "for isotope_idx in range(NUMBER_OF_ISOTOPES):\n",
    "    estimated_isotope_midpoint = mz + (isotope_idx * expected_spacing_mz)\n",
    "    isotope_mz_lower = estimated_isotope_midpoint - MS1_PEAK_DELTA\n",
    "    isotope_mz_upper = estimated_isotope_midpoint + MS1_PEAK_DELTA\n",
    "    isotope_raw_points_df = feature_region_raw_points_df[(feature_region_raw_points_df.mz >= isotope_mz_lower) & (feature_region_raw_points_df.mz <= isotope_mz_upper)]\n",
    "    # add the isotope's raw points to the list\n",
    "    isotope_raw_points_l.append(isotope_raw_points_df)\n",
    "    # centroid the raw points to get the peak for the isotope\n",
    "    isotope_raw_points_a = isotope_raw_points_df[['mz','intensity']].values\n",
    "    mz_cent = mz_centroid(isotope_raw_points_a[:,1], isotope_raw_points_a[:,0])\n",
    "    summed_intensity = isotope_raw_points_a[:,1].sum()\n",
    "    # add the peak to the list of isotopic peaks\n",
    "    isotope_peaks_l.append((mz_cent, summed_intensity))\n",
    "    if isotope_idx == 0:\n",
    "        # set the m/z reference point to be the monoisotope's centroided m/z\n",
    "        mz = mz_cent\n",
    "isotope_peaks_df = pd.DataFrame(isotope_peaks_l, columns=['mz_centroid','summed_intensity'])"
   ]
  },
  {
   "cell_type": "code",
   "execution_count": 35,
   "metadata": {},
   "outputs": [
    {
     "data": {
      "text/plain": [
       "680.3049394303657"
      ]
     },
     "execution_count": 35,
     "metadata": {},
     "output_type": "execute_result"
    }
   ],
   "source": [
    "estimated_monoisotopic_mz"
   ]
  },
  {
   "cell_type": "code",
   "execution_count": 36,
   "metadata": {},
   "outputs": [
    {
     "data": {
      "text/html": [
       "<div>\n",
       "<style scoped>\n",
       "    .dataframe tbody tr th:only-of-type {\n",
       "        vertical-align: middle;\n",
       "    }\n",
       "\n",
       "    .dataframe tbody tr th {\n",
       "        vertical-align: top;\n",
       "    }\n",
       "\n",
       "    .dataframe thead th {\n",
       "        text-align: right;\n",
       "    }\n",
       "</style>\n",
       "<table border=\"1\" class=\"dataframe\">\n",
       "  <thead>\n",
       "    <tr style=\"text-align: right;\">\n",
       "      <th></th>\n",
       "      <th>mz_centroid</th>\n",
       "      <th>summed_intensity</th>\n",
       "    </tr>\n",
       "  </thead>\n",
       "  <tbody>\n",
       "    <tr>\n",
       "      <th>0</th>\n",
       "      <td>680.304702</td>\n",
       "      <td>97662.0</td>\n",
       "    </tr>\n",
       "    <tr>\n",
       "      <th>1</th>\n",
       "      <td>680.805697</td>\n",
       "      <td>39199.0</td>\n",
       "    </tr>\n",
       "    <tr>\n",
       "      <th>2</th>\n",
       "      <td>681.307044</td>\n",
       "      <td>22193.0</td>\n",
       "    </tr>\n",
       "    <tr>\n",
       "      <th>3</th>\n",
       "      <td>681.809692</td>\n",
       "      <td>4863.0</td>\n",
       "    </tr>\n",
       "    <tr>\n",
       "      <th>4</th>\n",
       "      <td>682.311072</td>\n",
       "      <td>506.0</td>\n",
       "    </tr>\n",
       "    <tr>\n",
       "      <th>5</th>\n",
       "      <td>682.816187</td>\n",
       "      <td>74.0</td>\n",
       "    </tr>\n",
       "    <tr>\n",
       "      <th>6</th>\n",
       "      <td>0.000000</td>\n",
       "      <td>0.0</td>\n",
       "    </tr>\n",
       "  </tbody>\n",
       "</table>\n",
       "</div>"
      ],
      "text/plain": [
       "   mz_centroid  summed_intensity\n",
       "0   680.304702           97662.0\n",
       "1   680.805697           39199.0\n",
       "2   681.307044           22193.0\n",
       "3   681.809692            4863.0\n",
       "4   682.311072             506.0\n",
       "5   682.816187              74.0\n",
       "6     0.000000               0.0"
      ]
     },
     "execution_count": 36,
     "metadata": {},
     "output_type": "execute_result"
    }
   ],
   "source": [
    "isotope_peaks_df"
   ]
  },
  {
   "cell_type": "code",
   "execution_count": 37,
   "metadata": {},
   "outputs": [
    {
     "data": {
      "text/plain": [
       "7"
      ]
     },
     "execution_count": 37,
     "metadata": {},
     "output_type": "execute_result"
    }
   ],
   "source": [
    "len(isotope_raw_points_l)"
   ]
  },
  {
   "cell_type": "code",
   "execution_count": 38,
   "metadata": {},
   "outputs": [],
   "source": [
    "# assumes the isotope's raw points have already been flattened to a particular dimension (e.g. scan, RT, m/z) and \n",
    "# sorted by ascending order in that dimension\n",
    "def calculate_isotope_metrics(flattened_points_df, estimated_apex, estimated_peak_width):\n",
    "    results_d = {}\n",
    "    curve_fit = False\n",
    "    # apply a filter to make curve fitting easier\n",
    "    if len(flattened_points_df) < 11:\n",
    "        window_length = len(flattened_points_df)\n",
    "        if window_length % 2 == 0:\n",
    "            window_length -= 1\n",
    "    flattened_points_df['filtered_intensity'] = signal.savgol_filter(flattened_points_df.intensity, window_length=window_length, polyorder=3)\n",
    "    # determine whether there's more than one peak\n",
    "    peak_maxima_indexes = peakutils.indexes(flattened_points_df.filtered_intensity.values, thres=0.05, min_dist=estimated_peak_width/4, thres_abs=False)\n",
    "    print(\"there are {} peaks\".format(len(peak_maxima_indexes)))\n",
    "    results_d[\"number_of_peaks\"] = len(peak_maxima_indexes)\n",
    "    results_d[\"original_intensity_filtered\"] = flattened_points_df.filtered_intensity.values\n",
    "    # if there's more than one peak, we need to trim the data to a single peak\n",
    "    if len(peak_maxima_indexes) > 1:\n",
    "        peaks_df = flattened_points_df.iloc[peak_maxima_indexes].copy()\n",
    "        # find the peak closest to the estimated apex\n",
    "        peaks_df['apex_delta'] = abs(peaks_df.x - estimated_apex)\n",
    "        peak_idx = peaks_df.apex_delta.idxmin()\n",
    "\n",
    "        valleys_idx = peakutils.indexes(-flattened_points_df.filtered_intensity.values, thres=0.5, min_dist=estimated_peak_width/4, thres_abs=False)\n",
    "        valleys_df = flattened_points_df.iloc[valleys_idx].copy()\n",
    "        # find the closest valley above the peak\n",
    "        if max(valleys_idx) > peak_idx:\n",
    "            valley_idx_above = valleys_idx[valleys_idx > peak_idx].min()\n",
    "            base_upper = valleys_df.loc[valley_idx_above].x\n",
    "            flattened_points_df = flattened_points_df[(flattened_points_df.x <= base_upper)]\n",
    "        else:\n",
    "            print(\"could not find a valley above the peak\")\n",
    "            valley_idx_above = -1\n",
    "        # find the closest valley below the peak\n",
    "        if min(valleys_idx) < peak_idx:\n",
    "            valley_idx_below = valleys_idx[valleys_idx < peak_idx].max()\n",
    "            base_lower = valleys_df.loc[valley_idx_below].x\n",
    "            flattened_points_df = flattened_points_df[(flattened_points_df.x >= base_lower)]\n",
    "        else:\n",
    "            print(\"could not find a valley below the peak\")\n",
    "            valley_idx_below = -1\n",
    "\n",
    "        results_d[\"peaks_df\"] = peaks_df\n",
    "        results_d[\"selected_peak_idx\"] = peak_idx\n",
    "        results_d[\"peak_maxima_indexes\"] = peak_maxima_indexes\n",
    "        results_d[\"valleys_df\"] = valleys_df\n",
    "        results_d[\"valley_idx_below\"] = valley_idx_below\n",
    "        results_d[\"valley_idx_above\"] = valley_idx_above\n",
    "        \n",
    "    # fit a gaussian curve to the data\n",
    "    gaussian_params = peakutils.peak.gaussian_fit(flattened_points_df.x.values, flattened_points_df.filtered_intensity.values, center_only=False)\n",
    "    curve_fit = True\n",
    "    apex_x = gaussian_params[1]\n",
    "    std_dev = abs(gaussian_params[2])\n",
    "    fitted_intensity_values = peakutils.peak.gaussian(flattened_points_df.x.values, gaussian_params[0], gaussian_params[1], gaussian_params[2])\n",
    "    fitted_curve_df = flattened_points_df.copy()\n",
    "    fitted_curve_df['fitted_intensity'] = fitted_intensity_values\n",
    "    area_under_curve = fitted_intensity_values.sum()\n",
    "    intensity_at_apex = peakutils.peak.gaussian(apex_x, gaussian_params[0], gaussian_params[1], gaussian_params[2])\n",
    "\n",
    "    # calculate the r-squared value of the fitted curve (source: https://stackoverflow.com/a/37899817/1184799)\n",
    "    residuals = flattened_points_df.intensity - fitted_intensity_values\n",
    "    ss_res = np.sum(residuals**2)\n",
    "    ss_tot = np.sum((flattened_points_df.intensity - np.mean(flattened_points_df.intensity))**2)\n",
    "    r_squared = 1 - (ss_res / ss_tot)\n",
    "\n",
    "    # calculate the peak symmetry\n",
    "    lhs_auc = flattened_points_df[(flattened_points_df.x <= apex_x)].intensity.sum()\n",
    "    rhs_auc = flattened_points_df[(flattened_points_df.x > apex_x)].intensity.sum()\n",
    "    print(lhs_auc, rhs_auc)\n",
    "    peak_symmetry = lhs_auc / rhs_auc\n",
    "\n",
    "    # collate the metrics into the results dictionary\n",
    "    results_d[\"std_dev\"] = std_dev\n",
    "    results_d[\"full_width_half_max\"] = 2.355 * std_dev  # https://ned.ipac.caltech.edu/level5/Leo/Stats2_3.html\n",
    "    results_d[\"base_width\"] = 6 * std_dev  # https://ned.ipac.caltech.edu/level5/Leo/Stats2_3.html\n",
    "    results_d[\"base_lower\"] = apex_x - (3 * std_dev)  # https://ned.ipac.caltech.edu/level5/Leo/Stats2_3.html\n",
    "    results_d[\"base_upper\"] = apex_x + (3 * std_dev)  # https://ned.ipac.caltech.edu/level5/Leo/Stats2_3.html\n",
    "    results_d[\"r_squared\"] = r_squared\n",
    "    results_d[\"apex\"] = apex_x\n",
    "    results_d[\"intensity_at_apex\"] = intensity_at_apex\n",
    "    results_d[\"fitted\"] = curve_fit\n",
    "    results_d[\"area_under_curve\"] = area_under_curve\n",
    "    results_d[\"peak_symmetry\"] = peak_symmetry\n",
    "    results_d[\"fitted_curve_df\"] = fitted_curve_df\n",
    "\n",
    "    return results_d"
   ]
  },
  {
   "cell_type": "code",
   "execution_count": 39,
   "metadata": {},
   "outputs": [],
   "source": [
    "tableau20 = [(31, 119, 180), (174, 199, 232), (255, 127, 14), (255, 187, 120),  \n",
    "             (44, 160, 44), (152, 223, 138), (214, 39, 40), (255, 152, 150),  \n",
    "             (148, 103, 189), (197, 176, 213), (140, 86, 75), (196, 156, 148),  \n",
    "             (227, 119, 194), (247, 182, 210), (127, 127, 127), (199, 199, 199),  \n",
    "             (188, 189, 34), (219, 219, 141), (23, 190, 207), (158, 218, 229)]\n",
    "# Rescale to values between 0 and 1 \n",
    "for i in range(len(tableau20)):  \n",
    "    r, g, b = tableau20[i]  \n",
    "    tableau20[i] = (r / 255., g / 255., b / 255.)"
   ]
  },
  {
   "cell_type": "code",
   "execution_count": 40,
   "metadata": {},
   "outputs": [
    {
     "data": {
      "image/png": "[encoded data removed]",
      "text/plain": [
       "<Figure size 1080x360 with 1 Axes>"
      ]
     },
     "metadata": {
      "needs_background": "light"
     },
     "output_type": "display_data"
    }
   ],
   "source": [
    "f, ax = plt.subplots()\n",
    "ax.plot(wide_feature_region_raw_points_df.mz, wide_feature_region_raw_points_df.scan, marker='o', color='silver', linestyle='', ms=5)\n",
    "for idx,isotope_raw_df in enumerate(isotope_raw_points_l):\n",
    "    visualise_df = isotope_raw_df[(isotope_raw_df.retention_time_secs >= rt_wide_lower) & (isotope_raw_df.retention_time_secs <= rt_wide_upper)]\n",
    "    ax.plot(visualise_df.mz, visualise_df.scan, marker='o', color=tableau20[idx], linestyle='', ms=5)\n",
    "plt.axvline(x=estimated_monoisotopic_mz, linestyle=':', color='springgreen', label='estimated mono mz')\n",
    "plt.axhline(y=estimated_scan_apex, linestyle=':', color='royalblue', label='estimated scan apex')\n",
    "plt.xlabel('m/z')\n",
    "plt.ylabel('scan')\n",
    "plt.legend(loc='best')\n",
    "plt.gca().invert_yaxis()\n",
    "f.set_figheight(5)\n",
    "f.set_figwidth(15)\n",
    "plt.suptitle('Raw points in the area predicted for sequence {}, charge {}'.format(sequence_name, sequence_charge))\n",
    "plt.title('constrained to the proximity of the estimated apex in RT')\n",
    "plt.xlim((feature_region_mz_wide_lower,feature_region_mz_wide_upper))\n",
    "plt.ylim((scan_wide_upper,scan_wide_lower))\n",
    "plt.margins(0.06)\n",
    "plt.show()"
   ]
  },
  {
   "cell_type": "code",
   "execution_count": 41,
   "metadata": {},
   "outputs": [
    {
     "data": {
      "image/png": "[encoded data removed]",
      "text/plain": [
       "<Figure size 1080x360 with 1 Axes>"
      ]
     },
     "metadata": {
      "needs_background": "light"
     },
     "output_type": "display_data"
    }
   ],
   "source": [
    "f, ax = plt.subplots()\n",
    "colors = ['tab:blue', 'tab:orange', 'tab:green', 'tab:red', 'tab:purple', 'tab:brown', 'tab:pink', 'tab:gray', 'tab:olive', 'tab:cyan']\n",
    "markerline, stemlines, baseline = ax.stem(isotope_peaks_df.mz_centroid, isotope_peaks_df.summed_intensity, 'g', use_line_collection=True)\n",
    "plt.setp(markerline, 'color', colors[2])\n",
    "plt.setp(stemlines, 'color', colors[2])\n",
    "plt.setp(baseline, 'color', colors[7])\n",
    "plt.xlabel('m/z centroid')\n",
    "plt.ylabel('summed intensity')\n",
    "plt.xlim((feature_region_mz_wide_lower,feature_region_mz_wide_upper))\n",
    "f.set_figheight(5)\n",
    "f.set_figwidth(15)\n",
    "plt.margins(0.06)\n",
    "plt.suptitle('Peaks in the area predicted for sequence {}, charge {}'.format(sequence_name, sequence_charge))\n",
    "plt.show()"
   ]
  },
  {
   "cell_type": "markdown",
   "metadata": {},
   "source": [
    "#### Monoisotopic peak\n",
    "We have confidence in the accuracy of each dimension in decreasing order: m/z, RT, scan. Therefore we constrain the cuboid by m/z first to find the peak in RT, then constrain the points to the RT peak's FWHM, then find the peak in the scan dimension."
   ]
  },
  {
   "cell_type": "code",
   "execution_count": 42,
   "metadata": {},
   "outputs": [],
   "source": [
    "mono_raw_points_df = isotope_raw_points_l[0]"
   ]
  },
  {
   "cell_type": "markdown",
   "metadata": {},
   "source": [
    "Collapse the points onto the RT dimension"
   ]
  },
  {
   "cell_type": "code",
   "execution_count": 43,
   "metadata": {},
   "outputs": [
    {
     "name": "stdout",
     "output_type": "stream",
     "text": [
      "there are 0 peaks\n",
      "0 97662\n"
     ]
    }
   ],
   "source": [
    "rt_0_df = mono_raw_points_df.groupby(['frame_id','retention_time_secs'], as_index=False).intensity.sum()\n",
    "rt_0_df.sort_values(by=['retention_time_secs'], ascending=True, inplace=True)\n",
    "rt_0_df['x'] = rt_0_df.retention_time_secs\n",
    "rt_0_metrics = calculate_isotope_metrics(rt_0_df, estimated_rt_apex, RT_WIDTH)"
   ]
  },
  {
   "cell_type": "code",
   "execution_count": 44,
   "metadata": {
    "scrolled": false
   },
   "outputs": [
    {
     "data": {
      "image/png": "[encoded data removed]",
      "text/plain": [
       "<Figure size 1080x360 with 1 Axes>"
      ]
     },
     "metadata": {
      "needs_background": "light"
     },
     "output_type": "display_data"
    }
   ],
   "source": [
    "f, ax = plt.subplots()\n",
    "# plot the original raw data\n",
    "ax.plot(rt_0_df.retention_time_secs, rt_0_df.intensity, marker='o', color='tab:purple', linestyle='', linewidth=2, ms=2, label='original raw points')\n",
    "# plot the filtered intensity values\n",
    "ax.plot(rt_0_df.retention_time_secs, rt_0_metrics['original_intensity_filtered'], marker='', color='lightskyblue', linestyle='--', linewidth=1, ms=5, label='smoothed raw points')\n",
    "# plot the original filtered data constrained to a single peak\n",
    "ax.plot(rt_0_metrics['fitted_curve_df'].retention_time_secs, rt_0_metrics['fitted_curve_df'].filtered_intensity, marker='', color='steelblue', linestyle='--', linewidth=1, ms=5, label='single peak raw points')\n",
    "# plot the fitted curve\n",
    "ax.plot(rt_0_metrics['fitted_curve_df'].retention_time_secs, rt_0_metrics['fitted_curve_df'].fitted_intensity, marker='', color='orangered', linestyle='-', linewidth=1, ms=5, label='single peak fitted points')\n",
    "# show the estimated apex\n",
    "plt.axvline(x=estimated_rt_apex, linestyle=':', color='royalblue', linewidth=1, label='estimated RT apex')\n",
    "# show the calculated apex\n",
    "plt.axvline(x=rt_0_metrics['apex'], linestyle=':', color='orange', linewidth=1, label='calculated RT apex (fitted)')\n",
    "# show the peaks if there's more than one\n",
    "if rt_0_metrics['number_of_peaks'] > 1:\n",
    "    peak_idxs = rt_0_metrics['peak_maxima_indexes']\n",
    "    ax.plot(rt_0_df.retention_time_secs.iloc[peak_idxs], rt_0_metrics['original_intensity_filtered'][peak_idxs], marker='v', color='turquoise', linestyle='', markeredgewidth=1, ms=8, label='peak')\n",
    "plt.xlabel('retention time (secs)')\n",
    "plt.ylabel('intensity')\n",
    "plt.legend(loc='best')\n",
    "f.set_figheight(5)\n",
    "f.set_figwidth(15)\n",
    "# plt.xlim((rt_0_metrics['base_lower'],rt_0_metrics['base_upper']))\n",
    "plt.suptitle('Monoisotopic peak in the RT dimension')\n",
    "plt.margins(0.06)\n",
    "plt.show()"
   ]
  },
  {
   "cell_type": "markdown",
   "metadata": {},
   "source": [
    "Collapse the points onto the mobility dimension, constraining the points to the FWHM of the peak in RT"
   ]
  },
  {
   "cell_type": "code",
   "execution_count": 45,
   "metadata": {},
   "outputs": [],
   "source": [
    "rt_peak_fwhm_lower = rt_0_metrics['apex'] - (rt_0_metrics['full_width_half_max'])\n",
    "rt_peak_fwhm_upper = rt_0_metrics['apex'] + (rt_0_metrics['full_width_half_max'])\n",
    "mono_raw_points_df = mono_raw_points_df[(mono_raw_points_df.retention_time_secs >= rt_peak_fwhm_lower) & (mono_raw_points_df.retention_time_secs <= rt_peak_fwhm_upper)]"
   ]
  },
  {
   "cell_type": "code",
   "execution_count": 46,
   "metadata": {
    "scrolled": true
   },
   "outputs": [
    {
     "ename": "ValueError",
     "evalue": "polyorder must be less than window_length.",
     "output_type": "error",
     "traceback": [
      "\u001b[0;31m---------------------------------------------------------------------------\u001b[0m",
      "\u001b[0;31mValueError\u001b[0m                                Traceback (most recent call last)",
      "\u001b[0;32m<ipython-input-46-aeda7ca36be7>\u001b[0m in \u001b[0;36m<module>\u001b[0;34m\u001b[0m\n\u001b[1;32m      2\u001b[0m \u001b[0mscan_0_df\u001b[0m\u001b[0;34m.\u001b[0m\u001b[0msort_values\u001b[0m\u001b[0;34m(\u001b[0m\u001b[0mby\u001b[0m\u001b[0;34m=\u001b[0m\u001b[0;34m[\u001b[0m\u001b[0;34m'scan'\u001b[0m\u001b[0;34m]\u001b[0m\u001b[0;34m,\u001b[0m \u001b[0mascending\u001b[0m\u001b[0;34m=\u001b[0m\u001b[0;32mTrue\u001b[0m\u001b[0;34m,\u001b[0m \u001b[0minplace\u001b[0m\u001b[0;34m=\u001b[0m\u001b[0;32mTrue\u001b[0m\u001b[0;34m)\u001b[0m\u001b[0;34m\u001b[0m\u001b[0;34m\u001b[0m\u001b[0m\n\u001b[1;32m      3\u001b[0m \u001b[0mscan_0_df\u001b[0m\u001b[0;34m[\u001b[0m\u001b[0;34m'x'\u001b[0m\u001b[0;34m]\u001b[0m \u001b[0;34m=\u001b[0m \u001b[0mscan_0_df\u001b[0m\u001b[0;34m.\u001b[0m\u001b[0mscan\u001b[0m\u001b[0;34m\u001b[0m\u001b[0;34m\u001b[0m\u001b[0m\n\u001b[0;32m----> 4\u001b[0;31m \u001b[0mscan_0_metrics\u001b[0m \u001b[0;34m=\u001b[0m \u001b[0mcalculate_isotope_metrics\u001b[0m\u001b[0;34m(\u001b[0m\u001b[0mscan_0_df\u001b[0m\u001b[0;34m,\u001b[0m \u001b[0mestimated_scan_apex\u001b[0m\u001b[0;34m,\u001b[0m \u001b[0mSCAN_WIDTH\u001b[0m\u001b[0;34m)\u001b[0m\u001b[0;34m\u001b[0m\u001b[0;34m\u001b[0m\u001b[0m\n\u001b[0m",
      "\u001b[0;32m<ipython-input-38-6ea73fbf43b5>\u001b[0m in \u001b[0;36mcalculate_isotope_metrics\u001b[0;34m(flattened_points_df, estimated_apex, estimated_peak_width)\u001b[0m\n\u001b[1;32m      9\u001b[0m         \u001b[0;32mif\u001b[0m \u001b[0mwindow_length\u001b[0m \u001b[0;34m%\u001b[0m \u001b[0;36m2\u001b[0m \u001b[0;34m==\u001b[0m \u001b[0;36m0\u001b[0m\u001b[0;34m:\u001b[0m\u001b[0;34m\u001b[0m\u001b[0;34m\u001b[0m\u001b[0m\n\u001b[1;32m     10\u001b[0m             \u001b[0mwindow_length\u001b[0m \u001b[0;34m-=\u001b[0m \u001b[0;36m1\u001b[0m\u001b[0;34m\u001b[0m\u001b[0;34m\u001b[0m\u001b[0m\n\u001b[0;32m---> 11\u001b[0;31m     \u001b[0mflattened_points_df\u001b[0m\u001b[0;34m[\u001b[0m\u001b[0;34m'filtered_intensity'\u001b[0m\u001b[0;34m]\u001b[0m \u001b[0;34m=\u001b[0m \u001b[0msignal\u001b[0m\u001b[0;34m.\u001b[0m\u001b[0msavgol_filter\u001b[0m\u001b[0;34m(\u001b[0m\u001b[0mflattened_points_df\u001b[0m\u001b[0;34m.\u001b[0m\u001b[0mintensity\u001b[0m\u001b[0;34m,\u001b[0m \u001b[0mwindow_length\u001b[0m\u001b[0;34m=\u001b[0m\u001b[0mwindow_length\u001b[0m\u001b[0;34m,\u001b[0m \u001b[0mpolyorder\u001b[0m\u001b[0;34m=\u001b[0m\u001b[0;36m3\u001b[0m\u001b[0;34m)\u001b[0m\u001b[0;34m\u001b[0m\u001b[0;34m\u001b[0m\u001b[0m\n\u001b[0m\u001b[1;32m     12\u001b[0m     \u001b[0;31m# determine whether there's more than one peak\u001b[0m\u001b[0;34m\u001b[0m\u001b[0;34m\u001b[0m\u001b[0;34m\u001b[0m\u001b[0m\n\u001b[1;32m     13\u001b[0m     \u001b[0mpeak_maxima_indexes\u001b[0m \u001b[0;34m=\u001b[0m \u001b[0mpeakutils\u001b[0m\u001b[0;34m.\u001b[0m\u001b[0mindexes\u001b[0m\u001b[0;34m(\u001b[0m\u001b[0mflattened_points_df\u001b[0m\u001b[0;34m.\u001b[0m\u001b[0mfiltered_intensity\u001b[0m\u001b[0;34m.\u001b[0m\u001b[0mvalues\u001b[0m\u001b[0;34m,\u001b[0m \u001b[0mthres\u001b[0m\u001b[0;34m=\u001b[0m\u001b[0;36m0.05\u001b[0m\u001b[0;34m,\u001b[0m \u001b[0mmin_dist\u001b[0m\u001b[0;34m=\u001b[0m\u001b[0mestimated_peak_width\u001b[0m\u001b[0;34m/\u001b[0m\u001b[0;36m4\u001b[0m\u001b[0;34m,\u001b[0m \u001b[0mthres_abs\u001b[0m\u001b[0;34m=\u001b[0m\u001b[0;32mFalse\u001b[0m\u001b[0;34m)\u001b[0m\u001b[0;34m\u001b[0m\u001b[0;34m\u001b[0m\u001b[0m\n",
      "\u001b[0;32m~/anaconda3/envs/py36/lib/python3.6/site-packages/scipy-1.3.0-py3.6-macosx-10.7-x86_64.egg/scipy/signal/_savitzky_golay.py\u001b[0m in \u001b[0;36msavgol_filter\u001b[0;34m(x, window_length, polyorder, deriv, delta, axis, mode, cval)\u001b[0m\n\u001b[1;32m    335\u001b[0m         \u001b[0mx\u001b[0m \u001b[0;34m=\u001b[0m \u001b[0mx\u001b[0m\u001b[0;34m.\u001b[0m\u001b[0mastype\u001b[0m\u001b[0;34m(\u001b[0m\u001b[0mnp\u001b[0m\u001b[0;34m.\u001b[0m\u001b[0mfloat64\u001b[0m\u001b[0;34m)\u001b[0m\u001b[0;34m\u001b[0m\u001b[0;34m\u001b[0m\u001b[0m\n\u001b[1;32m    336\u001b[0m \u001b[0;34m\u001b[0m\u001b[0m\n\u001b[0;32m--> 337\u001b[0;31m     \u001b[0mcoeffs\u001b[0m \u001b[0;34m=\u001b[0m \u001b[0msavgol_coeffs\u001b[0m\u001b[0;34m(\u001b[0m\u001b[0mwindow_length\u001b[0m\u001b[0;34m,\u001b[0m \u001b[0mpolyorder\u001b[0m\u001b[0;34m,\u001b[0m \u001b[0mderiv\u001b[0m\u001b[0;34m=\u001b[0m\u001b[0mderiv\u001b[0m\u001b[0;34m,\u001b[0m \u001b[0mdelta\u001b[0m\u001b[0;34m=\u001b[0m\u001b[0mdelta\u001b[0m\u001b[0;34m)\u001b[0m\u001b[0;34m\u001b[0m\u001b[0;34m\u001b[0m\u001b[0m\n\u001b[0m\u001b[1;32m    338\u001b[0m \u001b[0;34m\u001b[0m\u001b[0m\n\u001b[1;32m    339\u001b[0m     \u001b[0;32mif\u001b[0m \u001b[0mmode\u001b[0m \u001b[0;34m==\u001b[0m \u001b[0;34m\"interp\"\u001b[0m\u001b[0;34m:\u001b[0m\u001b[0;34m\u001b[0m\u001b[0;34m\u001b[0m\u001b[0m\n",
      "\u001b[0;32m~/anaconda3/envs/py36/lib/python3.6/site-packages/scipy-1.3.0-py3.6-macosx-10.7-x86_64.egg/scipy/signal/_savitzky_golay.py\u001b[0m in \u001b[0;36msavgol_coeffs\u001b[0;34m(window_length, polyorder, deriv, delta, pos, use)\u001b[0m\n\u001b[1;32m     97\u001b[0m \u001b[0;34m\u001b[0m\u001b[0m\n\u001b[1;32m     98\u001b[0m     \u001b[0;32mif\u001b[0m \u001b[0mpolyorder\u001b[0m \u001b[0;34m>=\u001b[0m \u001b[0mwindow_length\u001b[0m\u001b[0;34m:\u001b[0m\u001b[0;34m\u001b[0m\u001b[0;34m\u001b[0m\u001b[0m\n\u001b[0;32m---> 99\u001b[0;31m         \u001b[0;32mraise\u001b[0m \u001b[0mValueError\u001b[0m\u001b[0;34m(\u001b[0m\u001b[0;34m\"polyorder must be less than window_length.\"\u001b[0m\u001b[0;34m)\u001b[0m\u001b[0;34m\u001b[0m\u001b[0;34m\u001b[0m\u001b[0m\n\u001b[0m\u001b[1;32m    100\u001b[0m \u001b[0;34m\u001b[0m\u001b[0m\n\u001b[1;32m    101\u001b[0m     \u001b[0mhalflen\u001b[0m\u001b[0;34m,\u001b[0m \u001b[0mrem\u001b[0m \u001b[0;34m=\u001b[0m \u001b[0mdivmod\u001b[0m\u001b[0;34m(\u001b[0m\u001b[0mwindow_length\u001b[0m\u001b[0;34m,\u001b[0m \u001b[0;36m2\u001b[0m\u001b[0;34m)\u001b[0m\u001b[0;34m\u001b[0m\u001b[0;34m\u001b[0m\u001b[0m\n",
      "\u001b[0;31mValueError\u001b[0m: polyorder must be less than window_length."
     ]
    }
   ],
   "source": [
    "scan_0_df = mono_raw_points_df.groupby(['scan'], as_index=False).intensity.sum()\n",
    "scan_0_df.sort_values(by=['scan'], ascending=True, inplace=True)\n",
    "scan_0_df['x'] = scan_0_df.scan\n",
    "scan_0_metrics = calculate_isotope_metrics(scan_0_df, estimated_scan_apex, SCAN_WIDTH)"
   ]
  },
  {
   "cell_type": "code",
   "execution_count": null,
   "metadata": {},
   "outputs": [],
   "source": [
    "f, ax = plt.subplots()\n",
    "# plot the original raw data\n",
    "ax.plot(scan_0_df.scan, scan_0_df.intensity, marker='o', color='tab:purple', linestyle='', linewidth=2, ms=2, label='original raw points')\n",
    "# plot the filtered intensity values\n",
    "ax.plot(scan_0_df.scan, scan_0_metrics['original_intensity_filtered'], marker='', color='lightskyblue', linestyle='--', linewidth=1, ms=5, label='smoothed raw points')\n",
    "# plot the original filtered data constrained to a single peak\n",
    "ax.plot(scan_0_metrics['fitted_curve_df'].scan, scan_0_metrics['fitted_curve_df'].filtered_intensity, marker='', color='steelblue', linestyle='--', linewidth=1, ms=5, label='single peak raw points')\n",
    "# plot the fitted curve\n",
    "ax.plot(scan_0_metrics['fitted_curve_df'].scan, scan_0_metrics['fitted_curve_df'].fitted_intensity, marker='', color='orangered', linestyle='-', linewidth=1, ms=5, label='single peak fitted points')\n",
    "# show the estimated apex\n",
    "plt.axvline(x=estimated_scan_apex, linestyle=':', color='royalblue', linewidth=1, label='estimated scan apex')\n",
    "# show the calculated apex\n",
    "plt.axvline(x=scan_0_metrics['apex'], linestyle=':', color='orange', linewidth=1, label='calculated scan apex (fitted)')\n",
    "# show the peaks if there's more than one\n",
    "if scan_0_metrics['number_of_peaks'] > 1:\n",
    "    peak_idxs = scan_0_metrics['peak_maxima_indexes']\n",
    "    ax.plot(scan_0_df.scan.iloc[peak_idxs], scan_0_metrics['original_intensity_filtered'][peak_idxs], marker='v', color='turquoise', linestyle='', markeredgewidth=1, ms=8, label='peak')\n",
    "plt.xlabel('scan')\n",
    "plt.ylabel('intensity')\n",
    "plt.legend(loc='best')\n",
    "f.set_figheight(5)\n",
    "f.set_figwidth(15)\n",
    "plt.suptitle('Monoisotopic peak in the scan dimension')\n",
    "plt.margins(0.06)\n",
    "plt.show()"
   ]
  },
  {
   "cell_type": "markdown",
   "metadata": {},
   "source": [
    "#### Isotope 1 peak"
   ]
  },
  {
   "cell_type": "code",
   "execution_count": null,
   "metadata": {},
   "outputs": [],
   "source": [
    "isotope_1_raw_points_df = isotope_raw_points_l[1]"
   ]
  },
  {
   "cell_type": "markdown",
   "metadata": {},
   "source": [
    "Collapse the points onto the RT dimension"
   ]
  },
  {
   "cell_type": "code",
   "execution_count": null,
   "metadata": {},
   "outputs": [],
   "source": [
    "rt_1_df = isotope_1_raw_points_df.groupby(['frame_id','retention_time_secs'], as_index=False).intensity.sum()\n",
    "rt_1_df.sort_values(by=['retention_time_secs'], ascending=True, inplace=True)\n",
    "rt_1_df['x'] = rt_1_df.retention_time_secs\n",
    "rt_1_metrics = calculate_isotope_metrics(rt_1_df, estimated_rt_apex, RT_WIDTH)"
   ]
  },
  {
   "cell_type": "code",
   "execution_count": null,
   "metadata": {
    "scrolled": false
   },
   "outputs": [],
   "source": [
    "f, ax = plt.subplots()\n",
    "# plot the original raw data\n",
    "ax.plot(rt_1_df.retention_time_secs, rt_1_df.intensity, marker='o', color='tab:purple', linestyle='', linewidth=2, ms=2, label='original raw points')\n",
    "# plot the filtered intensity values\n",
    "ax.plot(rt_1_df.retention_time_secs, rt_1_metrics['original_intensity_filtered'], marker='', color='lightskyblue', linestyle='--', linewidth=1, ms=5, label='smoothed raw points')\n",
    "# plot the original filtered data constrained to a single peak\n",
    "ax.plot(rt_1_metrics['fitted_curve_df'].retention_time_secs, rt_1_metrics['fitted_curve_df'].filtered_intensity, marker='', color='steelblue', linestyle='--', linewidth=1, ms=5, label='single peak raw points')\n",
    "# plot the fitted curve\n",
    "ax.plot(rt_1_metrics['fitted_curve_df'].retention_time_secs, rt_1_metrics['fitted_curve_df'].fitted_intensity, marker='', color='orangered', linestyle='-', linewidth=1, ms=5, label='single peak fitted points')\n",
    "# show the estimated apex\n",
    "plt.axvline(x=estimated_rt_apex, linestyle=':', color='royalblue', linewidth=1, label='estimated RT apex')\n",
    "# show the calculated apex\n",
    "plt.axvline(x=rt_1_metrics['apex'], linestyle=':', color='orange', linewidth=1, label='calculated RT apex (fitted)')\n",
    "# show the peaks if there's more than one\n",
    "if rt_1_metrics['number_of_peaks'] > 1:\n",
    "    peak_idxs = rt_1_metrics['peak_maxima_indexes']\n",
    "    ax.plot(rt_1_df.retention_time_secs.iloc[peak_idxs], rt_1_metrics['original_intensity_filtered'][peak_idxs], marker='v', color='turquoise', linestyle='', markeredgewidth=1, ms=8, label='peak')\n",
    "plt.xlabel('retention time (secs)')\n",
    "plt.ylabel('intensity')\n",
    "plt.legend(loc='best')\n",
    "f.set_figheight(5)\n",
    "f.set_figwidth(15)\n",
    "# plt.xlim((rt_0_metrics['base_lower'],rt_0_metrics['base_upper']))\n",
    "plt.suptitle('Isotopic peak 1 in the RT dimension')\n",
    "plt.margins(0.06)\n",
    "plt.show()"
   ]
  },
  {
   "cell_type": "markdown",
   "metadata": {},
   "source": [
    "Collapse the points onto the mobility dimension"
   ]
  },
  {
   "cell_type": "code",
   "execution_count": null,
   "metadata": {},
   "outputs": [],
   "source": [
    "rt_peak_fwhm_lower = rt_1_metrics['apex'] - rt_1_metrics['full_width_half_max']\n",
    "rt_peak_fwhm_upper = rt_1_metrics['apex'] + rt_1_metrics['full_width_half_max']\n",
    "isotope_1_raw_points_df = isotope_1_raw_points_df[(isotope_1_raw_points_df.retention_time_secs >= rt_peak_fwhm_lower) & (isotope_1_raw_points_df.retention_time_secs <= rt_peak_fwhm_upper)]"
   ]
  },
  {
   "cell_type": "code",
   "execution_count": null,
   "metadata": {},
   "outputs": [],
   "source": [
    "scan_1_df = isotope_1_raw_points_df.groupby(['scan'], as_index=False).intensity.sum()\n",
    "scan_1_df.sort_values(by=['scan'], ascending=True, inplace=True)\n",
    "scan_1_df['x'] = scan_1_df.scan\n",
    "scan_1_metrics = calculate_isotope_metrics(scan_1_df, estimated_scan_apex, SCAN_WIDTH)"
   ]
  },
  {
   "cell_type": "code",
   "execution_count": null,
   "metadata": {},
   "outputs": [],
   "source": [
    "f, ax = plt.subplots()\n",
    "# plot the original raw data\n",
    "ax.plot(scan_1_df.scan, scan_1_df.intensity, marker='o', color='tab:purple', linestyle='', linewidth=2, ms=2, label='original raw points')\n",
    "# plot the filtered intensity values\n",
    "ax.plot(scan_1_df.scan, scan_1_metrics['original_intensity_filtered'], marker='', color='lightskyblue', linestyle='--', linewidth=1, ms=5, label='smoothed raw points')\n",
    "# plot the original filtered data constrained to a single peak\n",
    "ax.plot(scan_1_metrics['fitted_curve_df'].scan, scan_1_metrics['fitted_curve_df'].filtered_intensity, marker='', color='steelblue', linestyle='--', linewidth=1, ms=5, label='single peak raw points')\n",
    "# plot the fitted curve\n",
    "ax.plot(scan_1_metrics['fitted_curve_df'].scan, scan_1_metrics['fitted_curve_df'].fitted_intensity, marker='', color='orangered', linestyle='-', linewidth=1, ms=5, label='single peak fitted points')\n",
    "# show the estimated apex\n",
    "plt.axvline(x=estimated_scan_apex, linestyle=':', color='royalblue', linewidth=1, label='estimated scan apex')\n",
    "# show the calculated apex\n",
    "plt.axvline(x=scan_1_metrics['apex'], linestyle=':', color='orange', linewidth=1, label='calculated scan apex (fitted)')\n",
    "# show the peaks if there's more than one\n",
    "if scan_1_metrics['number_of_peaks'] > 1:\n",
    "    peak_idxs = scan_1_metrics['peak_maxima_indexes']\n",
    "    ax.plot(scan_1_df.scan.iloc[peak_idxs], scan_1_metrics['original_intensity_filtered'][peak_idxs], marker='v', color='turquoise', linestyle='', markeredgewidth=1, ms=8, label='peak')\n",
    "plt.xlabel('scan')\n",
    "plt.ylabel('intensity')\n",
    "plt.legend(loc='best')\n",
    "f.set_figheight(5)\n",
    "f.set_figwidth(15)\n",
    "plt.suptitle('Isotopic peak 1 in the scan dimension')\n",
    "plt.margins(0.06)\n",
    "plt.show()"
   ]
  },
  {
   "cell_type": "markdown",
   "metadata": {},
   "source": [
    "#### Isotope 2 peak"
   ]
  },
  {
   "cell_type": "code",
   "execution_count": null,
   "metadata": {},
   "outputs": [],
   "source": [
    "isotope_2_raw_points_df = isotope_raw_points_l[2]"
   ]
  },
  {
   "cell_type": "markdown",
   "metadata": {},
   "source": [
    "Collapse the points onto the RT dimension"
   ]
  },
  {
   "cell_type": "code",
   "execution_count": null,
   "metadata": {},
   "outputs": [],
   "source": [
    "rt_2_df = isotope_2_raw_points_df.groupby(['frame_id','retention_time_secs'], as_index=False).intensity.sum()\n",
    "rt_2_df.sort_values(by=['retention_time_secs'], ascending=True, inplace=True)\n",
    "rt_2_df['x'] = rt_2_df.retention_time_secs\n",
    "rt_2_metrics = calculate_isotope_metrics(rt_2_df, estimated_rt_apex, RT_WIDTH)"
   ]
  },
  {
   "cell_type": "code",
   "execution_count": null,
   "metadata": {},
   "outputs": [],
   "source": [
    "len(rt_2_df)"
   ]
  },
  {
   "cell_type": "code",
   "execution_count": null,
   "metadata": {
    "scrolled": false
   },
   "outputs": [],
   "source": [
    "f, ax = plt.subplots()\n",
    "# plot the original raw data\n",
    "ax.plot(rt_2_df.retention_time_secs, rt_2_df.intensity, marker='o', color='tab:purple', linestyle='', linewidth=2, ms=2, label='original raw points')\n",
    "# plot the filtered intensity values\n",
    "ax.plot(rt_2_df.retention_time_secs, rt_2_metrics['original_intensity_filtered'], marker='', color='lightskyblue', linestyle='--', linewidth=1, ms=5, label='smoothed raw points')\n",
    "# plot the original filtered data constrained to a single peak\n",
    "ax.plot(rt_2_metrics['fitted_curve_df'].retention_time_secs, rt_2_metrics['fitted_curve_df'].filtered_intensity, marker='', color='steelblue', linestyle='--', linewidth=1, ms=5, label='single peak raw points')\n",
    "# plot the fitted curve\n",
    "ax.plot(rt_2_metrics['fitted_curve_df'].retention_time_secs, rt_2_metrics['fitted_curve_df'].fitted_intensity, marker='', color='orangered', linestyle='-', linewidth=1, ms=5, label='single peak fitted points')\n",
    "# show the estimated apex\n",
    "plt.axvline(x=estimated_rt_apex, linestyle=':', color='royalblue', linewidth=1, label='estimated RT apex')\n",
    "# show the calculated apex\n",
    "plt.axvline(x=rt_2_metrics['apex'], linestyle=':', color='orange', linewidth=1, label='calculated RT apex (fitted)')\n",
    "# show the peaks if there's more than one\n",
    "if rt_2_metrics['number_of_peaks'] > 1:\n",
    "    peak_idxs = rt_2_metrics['peak_maxima_indexes']\n",
    "    ax.plot(rt_2_df.retention_time_secs.iloc[peak_idxs], rt_2_metrics['original_intensity_filtered'][peak_idxs], marker='v', color='turquoise', linestyle='', markeredgewidth=1, ms=8, label='peak')\n",
    "plt.xlabel('retention time (secs)')\n",
    "plt.ylabel('intensity')\n",
    "plt.legend(loc='best')\n",
    "f.set_figheight(5)\n",
    "f.set_figwidth(15)\n",
    "# plt.xlim((rt_0_metrics['base_lower'],rt_0_metrics['base_upper']))\n",
    "plt.suptitle('Isotopic peak 2 in the RT dimension')\n",
    "plt.margins(0.06)\n",
    "plt.show()"
   ]
  },
  {
   "cell_type": "markdown",
   "metadata": {},
   "source": [
    "Collapse the points onto the mobility dimension"
   ]
  },
  {
   "cell_type": "code",
   "execution_count": null,
   "metadata": {},
   "outputs": [],
   "source": [
    "rt_peak_fwhm_lower = rt_2_metrics['apex'] - rt_2_metrics['full_width_half_max']\n",
    "rt_peak_fwhm_upper = rt_2_metrics['apex'] + rt_2_metrics['full_width_half_max']\n",
    "isotope_2_raw_points_df = isotope_2_raw_points_df[(isotope_2_raw_points_df.retention_time_secs >= rt_peak_fwhm_lower) & (isotope_2_raw_points_df.retention_time_secs <= rt_peak_fwhm_upper)]"
   ]
  },
  {
   "cell_type": "code",
   "execution_count": null,
   "metadata": {},
   "outputs": [],
   "source": [
    "scan_2_df = isotope_2_raw_points_df.groupby(['scan'], as_index=False).intensity.sum()"
   ]
  },
  {
   "cell_type": "code",
   "execution_count": null,
   "metadata": {},
   "outputs": [],
   "source": [
    "scan_2_df.sort_values(by=['scan'], ascending=True, inplace=True)"
   ]
  },
  {
   "cell_type": "code",
   "execution_count": null,
   "metadata": {},
   "outputs": [],
   "source": [
    "scan_2_df['x'] = scan_2_df.scan"
   ]
  },
  {
   "cell_type": "code",
   "execution_count": null,
   "metadata": {},
   "outputs": [],
   "source": [
    "scan_2_metrics = calculate_isotope_metrics(scan_2_df, estimated_scan_apex, SCAN_WIDTH)"
   ]
  },
  {
   "cell_type": "code",
   "execution_count": null,
   "metadata": {},
   "outputs": [],
   "source": [
    "f, ax = plt.subplots()\n",
    "# plot the original raw data\n",
    "ax.plot(scan_2_df.scan, scan_2_df.intensity, marker='o', color='tab:purple', linestyle='', linewidth=2, ms=2, label='original raw points')\n",
    "# plot the filtered intensity values\n",
    "ax.plot(scan_2_df.scan, scan_2_metrics['original_intensity_filtered'], marker='', color='lightskyblue', linestyle='--', linewidth=1, ms=5, label='smoothed raw points')\n",
    "# plot the original filtered data constrained to a single peak\n",
    "ax.plot(scan_2_metrics['fitted_curve_df'].scan, scan_2_metrics['fitted_curve_df'].filtered_intensity, marker='', color='steelblue', linestyle='--', linewidth=1, ms=5, label='single peak raw points')\n",
    "# plot the fitted curve\n",
    "ax.plot(scan_2_metrics['fitted_curve_df'].scan, scan_2_metrics['fitted_curve_df'].fitted_intensity, marker='', color='orangered', linestyle='-', linewidth=1, ms=5, label='single peak fitted points')\n",
    "# show the estimated apex\n",
    "plt.axvline(x=estimated_scan_apex, linestyle=':', color='royalblue', linewidth=1, label='estimated scan apex')\n",
    "# show the calculated apex\n",
    "plt.axvline(x=scan_2_metrics['apex'], linestyle=':', color='orange', linewidth=1, label='calculated scan apex (fitted)')\n",
    "# show the peaks if there's more than one\n",
    "if scan_2_metrics['number_of_peaks'] > 1:\n",
    "    peak_idxs = scan_2_metrics['peak_maxima_indexes']\n",
    "    ax.plot(scan_2_df.scan.iloc[peak_idxs], scan_2_metrics['original_intensity_filtered'][peak_idxs], marker='v', color='turquoise', linestyle='', markeredgewidth=1, ms=8, label='peak')\n",
    "plt.xlabel('scan')\n",
    "plt.ylabel('intensity')\n",
    "plt.legend(loc='best')\n",
    "f.set_figheight(5)\n",
    "f.set_figwidth(15)\n",
    "plt.suptitle('Isotopic peak 2 in the scan dimension')\n",
    "plt.margins(0.06)\n",
    "plt.show()"
   ]
  },
  {
   "cell_type": "markdown",
   "metadata": {},
   "source": [
    "#### Build a dictionary of the metrics"
   ]
  },
  {
   "cell_type": "code",
   "execution_count": null,
   "metadata": {},
   "outputs": [],
   "source": [
    "feature_metrics = {}"
   ]
  },
  {
   "cell_type": "markdown",
   "metadata": {},
   "source": [
    "Calculate the feature metrics"
   ]
  },
  {
   "cell_type": "code",
   "execution_count": null,
   "metadata": {},
   "outputs": [],
   "source": [
    "calculated_monoisotopic_mz = isotope_peaks_df.iloc[0].mz_centroid\n",
    "delta_mz_ppm = (calculated_monoisotopic_mz - estimated_monoisotopic_mz) / estimated_monoisotopic_mz * 1e6\n",
    "feature_metrics['delta_mz_ppm'] = delta_mz_ppm"
   ]
  },
  {
   "cell_type": "code",
   "execution_count": null,
   "metadata": {},
   "outputs": [],
   "source": [
    "feature_metrics['delta_scan'] = scan_apex_fitted - estimated_scan_apex"
   ]
  },
  {
   "cell_type": "code",
   "execution_count": null,
   "metadata": {},
   "outputs": [],
   "source": [
    "if rt_curve_fit:\n",
    "    delta_rt = rt_apex_fitted - estimated_rt_apex\n",
    "else:\n",
    "    delta_rt = rt_apex_centroid - estimated_rt_apex\n",
    "feature_metrics['delta_rt'] = delta_rt"
   ]
  },
  {
   "cell_type": "markdown",
   "metadata": {},
   "source": [
    "Calculate the delta ppm of the de-isotoped first and second isotopic peaks"
   ]
  },
  {
   "cell_type": "code",
   "execution_count": null,
   "metadata": {},
   "outputs": [],
   "source": [
    "# monoisotopic\n",
    "monoisotopic_mz_centroid = isotope_peaks_df.iloc[0].mz_centroid\n",
    "\n",
    "# first isotope\n",
    "if isotope_peaks_df.iloc[1].summed_intensity > 0:\n",
    "    isotope_1_mz_centroid = isotope_peaks_df.iloc[1].mz_centroid\n",
    "else:\n",
    "    isotope_1_mz_centroid = np.nan\n",
    "\n",
    "# second isotope\n",
    "if isotope_peaks_df.iloc[2].summed_intensity > 0:\n",
    "    isotope_2_mz_centroid = isotope_peaks_df.iloc[2].mz_centroid\n",
    "else:\n",
    "    isotope_2_mz_centroid = np.nan"
   ]
  },
  {
   "cell_type": "code",
   "execution_count": null,
   "metadata": {},
   "outputs": [],
   "source": [
    "isotope_0_1_mz_delta_ppm = (monoisotopic_mz_centroid - (isotope_1_mz_centroid - (1 * expected_spacing_mz))) / monoisotopic_mz_centroid * 1e6\n",
    "feature_metrics['isotope_0_1_mz_delta_ppm'] = isotope_0_1_mz_delta_ppm"
   ]
  },
  {
   "cell_type": "code",
   "execution_count": null,
   "metadata": {},
   "outputs": [],
   "source": [
    "isotope_0_2_mz_delta_ppm = (monoisotopic_mz_centroid - (isotope_2_mz_centroid - (2 * expected_spacing_mz))) / monoisotopic_mz_centroid * 1e6\n",
    "feature_metrics['isotope_0_2_mz_delta_ppm'] = isotope_0_2_mz_delta_ppm"
   ]
  },
  {
   "cell_type": "code",
   "execution_count": null,
   "metadata": {},
   "outputs": [],
   "source": [
    "isotope_1_raw_points_df = isotope_raw_points_l[1]\n",
    "isotope_2_raw_points_df = isotope_raw_points_l[2]"
   ]
  },
  {
   "cell_type": "markdown",
   "metadata": {},
   "source": [
    "Calculate the RT apex deltas for the first and second isotopes"
   ]
  },
  {
   "cell_type": "code",
   "execution_count": null,
   "metadata": {},
   "outputs": [],
   "source": [
    "isotope_0_1_rt_delta = rt_1_apex - rt_apex\n",
    "isotope_0_2_rt_delta = rt_2_apex - rt_apex\n",
    "feature_metrics['isotope_0_1_rt_delta'] = isotope_0_1_rt_delta\n",
    "feature_metrics['isotope_0_2_rt_delta'] = isotope_0_2_rt_delta"
   ]
  },
  {
   "cell_type": "markdown",
   "metadata": {},
   "source": [
    "Calculate the scan apex deltas for the first and second isotopes"
   ]
  },
  {
   "cell_type": "code",
   "execution_count": null,
   "metadata": {},
   "outputs": [],
   "source": [
    "isotope_0_1_scan_delta = scan_1_apex - scan_apex\n",
    "isotope_0_2_scan_delta = scan_2_apex - scan_apex\n",
    "feature_metrics['isotope_0_1_scan_delta'] = isotope_0_1_scan_delta\n",
    "feature_metrics['isotope_0_2_scan_delta'] = isotope_0_2_scan_delta"
   ]
  },
  {
   "cell_type": "code",
   "execution_count": null,
   "metadata": {},
   "outputs": [],
   "source": [
    "feature_metrics"
   ]
  },
  {
   "cell_type": "code",
   "execution_count": null,
   "metadata": {},
   "outputs": [],
   "source": [
    "scan_isotope_0_int_isotope_int_sum = scan_0_intensity_apex / (scan_0_intensity_apex + scan_1_intensity_apex + scan_2_intensity_apex)"
   ]
  },
  {
   "cell_type": "code",
   "execution_count": null,
   "metadata": {},
   "outputs": [],
   "source": []
  }
 ],
 "metadata": {
  "kernelspec": {
   "display_name": "Python 3",
   "language": "python",
   "name": "python3"
  },
  "language_info": {
   "codemirror_mode": {
    "name": "ipython",
    "version": 3
   },
   "file_extension": ".py",
   "mimetype": "text/x-python",
   "name": "python",
   "nbconvert_exporter": "python",
   "pygments_lexer": "ipython3",
   "version": "3.6.8"
  }
 },
 "nbformat": 4,
 "nbformat_minor": 2
}
