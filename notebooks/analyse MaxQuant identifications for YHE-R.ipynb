{
 "cells": [
  {
   "cell_type": "code",
   "execution_count": 1,
   "metadata": {},
   "outputs": [],
   "source": [
    "import pandas as pd\n",
    "import numpy as np\n",
    "import os\n",
    "import matplotlib.pyplot as plt"
   ]
  },
  {
   "cell_type": "code",
   "execution_count": 2,
   "metadata": {},
   "outputs": [],
   "source": [
    "sequences_df = pd.read_csv('/Users/darylwilding-mcbride/Downloads/evidence-YHE-R-6-oct.txt', sep='\\\\t', engine='python')"
   ]
  },
  {
   "cell_type": "code",
   "execution_count": 3,
   "metadata": {},
   "outputs": [],
   "source": [
    "# remove decoys, which are indicated by a '+' in the Reverse column, and features with no intensity\n",
    "sequences_df = sequences_df[pd.isna(sequences_df.Reverse) & (sequences_df.Intensity > 0)]"
   ]
  },
  {
   "cell_type": "code",
   "execution_count": 4,
   "metadata": {},
   "outputs": [],
   "source": [
    "# definition of uniqueness in MaxQuant output with MBR on\n",
    "unique_peptide_key = ['Sequence','Modifications','Charge']"
   ]
  },
  {
   "cell_type": "code",
   "execution_count": 5,
   "metadata": {},
   "outputs": [
    {
     "data": {
      "text/plain": [
       "Index(['Sequence', 'Length', 'Modifications', 'Modified sequence',\n",
       "       'Oxidation (M) Probabilities', 'Oxidation (M) Score Diffs',\n",
       "       'Acetyl (Protein N-term)', 'Oxidation (M)', 'Missed cleavages',\n",
       "       'Proteins', 'Leading proteins', 'Leading razor protein', 'Type',\n",
       "       'Raw file', 'MS/MS m/z', 'Charge', 'm/z', 'Mass',\n",
       "       'Uncalibrated - Calibrated m/z [ppm]',\n",
       "       'Uncalibrated - Calibrated m/z [Da]', 'Mass error [ppm]',\n",
       "       'Mass error [Da]', 'Uncalibrated mass error [ppm]',\n",
       "       'Uncalibrated mass error [Da]', 'Max intensity m/z 0', 'Retention time',\n",
       "       'Retention length', 'Calibrated retention time',\n",
       "       'Calibrated retention time start', 'Calibrated retention time finish',\n",
       "       'Retention time calibration', 'Ion mobility index',\n",
       "       'Ion mobility length', '1/K0', '1/K0 length', 'Calibrated 1/K0', 'CCS',\n",
       "       'Calibrated CCS', 'CCS length', 'Match time difference',\n",
       "       'Match m/z difference', 'Match K0 difference', 'Match q-value',\n",
       "       'Match score', 'Number of data points', 'Number of scans',\n",
       "       'Number of isotopic peaks', 'PIF', 'Fraction of total spectrum',\n",
       "       'Base peak fraction', 'PEP', 'MS/MS count', 'MS/MS scan number',\n",
       "       'Score', 'Delta score', 'Combinatorics', 'Intensity', 'Reverse',\n",
       "       'Potential contaminant', 'id', 'Protein group IDs', 'Peptide ID',\n",
       "       'Mod. peptide ID', 'MS/MS IDs', 'Best MS/MS', 'Oxidation (M) site IDs',\n",
       "       'Taxonomy IDs'],\n",
       "      dtype='object')"
      ]
     },
     "execution_count": 5,
     "metadata": {},
     "output_type": "execute_result"
    }
   ],
   "source": [
    "sequences_df.columns"
   ]
  },
  {
   "cell_type": "code",
   "execution_count": 6,
   "metadata": {},
   "outputs": [
    {
     "data": {
      "text/html": [
       "<div>\n",
       "<style scoped>\n",
       "    .dataframe tbody tr th:only-of-type {\n",
       "        vertical-align: middle;\n",
       "    }\n",
       "\n",
       "    .dataframe tbody tr th {\n",
       "        vertical-align: top;\n",
       "    }\n",
       "\n",
       "    .dataframe thead th {\n",
       "        text-align: right;\n",
       "    }\n",
       "</style>\n",
       "<table border=\"1\" class=\"dataframe\">\n",
       "  <thead>\n",
       "    <tr style=\"text-align: right;\">\n",
       "      <th></th>\n",
       "      <th>Sequence</th>\n",
       "      <th>Modifications</th>\n",
       "      <th>Charge</th>\n",
       "    </tr>\n",
       "  </thead>\n",
       "  <tbody>\n",
       "    <tr>\n",
       "      <th>137904</th>\n",
       "      <td>EMQDVQGALQCYTR</td>\n",
       "      <td>Unmodified</td>\n",
       "      <td>2</td>\n",
       "    </tr>\n",
       "    <tr>\n",
       "      <th>644092</th>\n",
       "      <td>YNQATPNFHQWR</td>\n",
       "      <td>Unmodified</td>\n",
       "      <td>2</td>\n",
       "    </tr>\n",
       "    <tr>\n",
       "      <th>333985</th>\n",
       "      <td>LKPNLGNGADLPNYR</td>\n",
       "      <td>Unmodified</td>\n",
       "      <td>3</td>\n",
       "    </tr>\n",
       "    <tr>\n",
       "      <th>618731</th>\n",
       "      <td>VVYENAYGQFIGPHR</td>\n",
       "      <td>Unmodified</td>\n",
       "      <td>2</td>\n",
       "    </tr>\n",
       "    <tr>\n",
       "      <th>633282</th>\n",
       "      <td>YETDCPLNTAVITPLK</td>\n",
       "      <td>Unmodified</td>\n",
       "      <td>2</td>\n",
       "    </tr>\n",
       "    <tr>\n",
       "      <th>273319</th>\n",
       "      <td>INAGLYILNPEVIDLIEMKPTSIEK</td>\n",
       "      <td>Unmodified</td>\n",
       "      <td>3</td>\n",
       "    </tr>\n",
       "    <tr>\n",
       "      <th>131753</th>\n",
       "      <td>ELDSGLAESVSTLIWAAPR</td>\n",
       "      <td>Unmodified</td>\n",
       "      <td>2</td>\n",
       "    </tr>\n",
       "    <tr>\n",
       "      <th>228781</th>\n",
       "      <td>HEANNPQLK</td>\n",
       "      <td>Unmodified</td>\n",
       "      <td>2</td>\n",
       "    </tr>\n",
       "    <tr>\n",
       "      <th>362588</th>\n",
       "      <td>LSEECNSLSDVLDAFSK</td>\n",
       "      <td>Unmodified</td>\n",
       "      <td>2</td>\n",
       "    </tr>\n",
       "    <tr>\n",
       "      <th>238200</th>\n",
       "      <td>HMNSAGVLATLR</td>\n",
       "      <td>Unmodified</td>\n",
       "      <td>2</td>\n",
       "    </tr>\n",
       "  </tbody>\n",
       "</table>\n",
       "</div>"
      ],
      "text/plain": [
       "                         Sequence Modifications  Charge\n",
       "137904             EMQDVQGALQCYTR    Unmodified       2\n",
       "644092               YNQATPNFHQWR    Unmodified       2\n",
       "333985            LKPNLGNGADLPNYR    Unmodified       3\n",
       "618731            VVYENAYGQFIGPHR    Unmodified       2\n",
       "633282           YETDCPLNTAVITPLK    Unmodified       2\n",
       "273319  INAGLYILNPEVIDLIEMKPTSIEK    Unmodified       3\n",
       "131753        ELDSGLAESVSTLIWAAPR    Unmodified       2\n",
       "228781                  HEANNPQLK    Unmodified       2\n",
       "362588          LSEECNSLSDVLDAFSK    Unmodified       2\n",
       "238200               HMNSAGVLATLR    Unmodified       2"
      ]
     },
     "execution_count": 6,
     "metadata": {},
     "output_type": "execute_result"
    }
   ],
   "source": [
    "sequences_df[unique_peptide_key].sample(n=10)"
   ]
  },
  {
   "cell_type": "code",
   "execution_count": 7,
   "metadata": {},
   "outputs": [
    {
     "data": {
      "text/plain": [
       "array(['Unmodified', 'Acetyl (Protein N-term)', 'Oxidation (M)',\n",
       "       'Acetyl (Protein N-term),Oxidation (M)', '2 Oxidation (M)',\n",
       "       'Acetyl (Protein N-term),2 Oxidation (M)', '3 Oxidation (M)'],\n",
       "      dtype=object)"
      ]
     },
     "execution_count": 7,
     "metadata": {},
     "output_type": "execute_result"
    }
   ],
   "source": [
    "sequences_df.Modifications.unique()"
   ]
  },
  {
   "cell_type": "code",
   "execution_count": 8,
   "metadata": {},
   "outputs": [
    {
     "data": {
      "text/plain": [
       "array(['TIMS-MULTI-MSMS', 'TIMS-MULTI-MATCH'], dtype=object)"
      ]
     },
     "execution_count": 8,
     "metadata": {},
     "output_type": "execute_result"
    }
   ],
   "source": [
    "sequences_df['Type'].unique()"
   ]
  },
  {
   "cell_type": "code",
   "execution_count": 9,
   "metadata": {},
   "outputs": [
    {
     "data": {
      "text/plain": [
       "31324"
      ]
     },
     "execution_count": 9,
     "metadata": {},
     "output_type": "execute_result"
    }
   ],
   "source": [
    "# unique peptides found across all runs\n",
    "unique_peptides_count = len(sequences_df.drop_duplicates(subset=unique_peptide_key, keep='first', inplace=False))\n",
    "unique_peptides_count"
   ]
  },
  {
   "cell_type": "code",
   "execution_count": 10,
   "metadata": {},
   "outputs": [],
   "source": [
    "sequences_df['group'] = sequences_df['Raw file'].apply(lambda x: x.split('_')[0])"
   ]
  },
  {
   "cell_type": "markdown",
   "metadata": {},
   "source": [
    "#### analyse the YHE runs"
   ]
  },
  {
   "cell_type": "code",
   "execution_count": 11,
   "metadata": {},
   "outputs": [],
   "source": [
    "yhe_only_df = sequences_df[(sequences_df.group == 'YHE114') | (sequences_df.group == 'YHE211')]"
   ]
  },
  {
   "cell_type": "code",
   "execution_count": 12,
   "metadata": {},
   "outputs": [],
   "source": [
    "# count how many runs each sequence/charge was extracted from\n",
    "sequence_occurences_l = []\n",
    "for group_name,group_df in yhe_only_df.groupby(unique_peptide_key, as_index=False):\n",
    "    sequence_occurences_l.append((group_name[0], group_name[1], len(group_df['Raw file'].unique())))\n",
    "yhe_sequence_occurences_df = pd.DataFrame(sequence_occurences_l, columns=['sequence','charge','number_of_runs_extracted'])"
   ]
  },
  {
   "cell_type": "code",
   "execution_count": 13,
   "metadata": {},
   "outputs": [
    {
     "name": "stdout",
     "output_type": "stream",
     "text": [
      "there are 21 YHE runs in the experiment\n"
     ]
    }
   ],
   "source": [
    "number_of_yhe_runs_in_experiment = len(yhe_only_df['Raw file'].unique())\n",
    "print('there are {} YHE runs in the experiment'.format(number_of_yhe_runs_in_experiment))"
   ]
  },
  {
   "cell_type": "code",
   "execution_count": 14,
   "metadata": {},
   "outputs": [
    {
     "name": "stdout",
     "output_type": "stream",
     "text": [
      "32.0% of values missing across the YHE runs.\n"
     ]
    }
   ],
   "source": [
    "# display the number of missing values in only the YHE runs\n",
    "yhe_sequence_occurences_df['missing_files'] = number_of_yhe_runs_in_experiment - yhe_sequence_occurences_df.number_of_runs_extracted\n",
    "proportion_of_missing_extractions = yhe_sequence_occurences_df.missing_files.sum() / (len(yhe_sequence_occurences_df) * number_of_yhe_runs_in_experiment)\n",
    "print(\"{}% of values missing across the YHE runs.\".format(round(proportion_of_missing_extractions*100)))"
   ]
  },
  {
   "cell_type": "code",
   "execution_count": 15,
   "metadata": {},
   "outputs": [
    {
     "data": {
      "text/plain": [
       "30182"
      ]
     },
     "execution_count": 15,
     "metadata": {},
     "output_type": "execute_result"
    }
   ],
   "source": [
    "modified_sequences_count_yhe_runs = len(yhe_sequence_occurences_df)\n",
    "modified_sequences_count_yhe_runs"
   ]
  },
  {
   "cell_type": "code",
   "execution_count": 16,
   "metadata": {},
   "outputs": [
    {
     "data": {
      "image/png": "[encoded data removed]",
      "text/plain": [
       "<Figure size 1080x576 with 1 Axes>"
      ]
     },
     "metadata": {
      "needs_background": "light"
     },
     "output_type": "display_data"
    }
   ],
   "source": [
    "f, ax1 = plt.subplots()\n",
    "f.set_figheight(8)\n",
    "f.set_figwidth(15)\n",
    "\n",
    "plt.margins(0.06)\n",
    "plt.suptitle('Distribution of sequence identifications extracted from the YHE runs for MaxQuant (with MBR)')\n",
    "plt.title('total {} modified peptide sequences'.format(modified_sequences_count_yhe_runs))\n",
    "\n",
    "counts = np.bincount(yhe_sequence_occurences_df.number_of_runs_extracted)\n",
    "ax1.bar(range(22), counts, width=0.8, align='center')\n",
    "plt.xlabel('number of files in which a modified sequence-charge was identified')\n",
    "plt.ylabel('frequency')\n",
    "ax1.set(xticks=range(1,22), xlim=[0, 22])\n",
    "plt.ylim((0,20000))\n",
    "\n",
    "plt.show()"
   ]
  },
  {
   "cell_type": "markdown",
   "metadata": {},
   "source": [
    "#### analyse the HeLa-only runs"
   ]
  },
  {
   "cell_type": "code",
   "execution_count": 17,
   "metadata": {},
   "outputs": [],
   "source": [
    "human_only_df = sequences_df[(sequences_df.group == 'YHE010')].copy()"
   ]
  },
  {
   "cell_type": "code",
   "execution_count": 18,
   "metadata": {},
   "outputs": [],
   "source": [
    "# count how many runs each sequence/charge was extracted from\n",
    "sequence_occurences_l = []\n",
    "for group_name,group_df in human_only_df.groupby(unique_peptide_key, as_index=False):\n",
    "    sequence_occurences_l.append((group_name[0], group_name[1], len(group_df['Raw file'].unique())))\n",
    "human_sequence_occurences_df = pd.DataFrame(sequence_occurences_l, columns=['sequence','charge','number_of_runs_extracted'])"
   ]
  },
  {
   "cell_type": "code",
   "execution_count": 19,
   "metadata": {},
   "outputs": [
    {
     "name": "stdout",
     "output_type": "stream",
     "text": [
      "there are 10 HeLa-only runs in the experiment\n"
     ]
    }
   ],
   "source": [
    "number_of_human_runs_in_experiment = len(human_only_df['Raw file'].unique())\n",
    "print('there are {} HeLa-only runs in the experiment'.format(number_of_human_runs_in_experiment))"
   ]
  },
  {
   "cell_type": "code",
   "execution_count": 20,
   "metadata": {},
   "outputs": [
    {
     "name": "stdout",
     "output_type": "stream",
     "text": [
      "29.0% of values missing across the HeLa-only runs.\n"
     ]
    }
   ],
   "source": [
    "# display the number of missing values in only the HeLa-only runs\n",
    "human_sequence_occurences_df['missing_files'] = number_of_human_runs_in_experiment - human_sequence_occurences_df.number_of_runs_extracted\n",
    "proportion_of_missing_extractions = human_sequence_occurences_df.missing_files.sum() / (len(human_sequence_occurences_df) * number_of_human_runs_in_experiment)\n",
    "print(\"{}% of values missing across the HeLa-only runs.\".format(round(proportion_of_missing_extractions*100)))"
   ]
  },
  {
   "cell_type": "code",
   "execution_count": 21,
   "metadata": {},
   "outputs": [
    {
     "data": {
      "text/plain": [
       "23890"
      ]
     },
     "execution_count": 21,
     "metadata": {},
     "output_type": "execute_result"
    }
   ],
   "source": [
    "modified_sequences_count_human_runs = len(human_sequence_occurences_df)\n",
    "modified_sequences_count_human_runs"
   ]
  },
  {
   "cell_type": "code",
   "execution_count": 22,
   "metadata": {},
   "outputs": [],
   "source": [
    "human_only_df['human'] = human_only_df.apply(lambda row: 'HUMAN' in row['Leading razor protein'], axis=1)\n"
   ]
  },
  {
   "cell_type": "code",
   "execution_count": 23,
   "metadata": {},
   "outputs": [
    {
     "name": "stdout",
     "output_type": "stream",
     "text": [
      "3.54%\n"
     ]
    }
   ],
   "source": [
    "# false discovery rate\n",
    "print('{}%'.format(round(len(human_only_df[human_only_df.human == False]) / len(human_only_df) * 100, 2)))"
   ]
  },
  {
   "cell_type": "code",
   "execution_count": 24,
   "metadata": {},
   "outputs": [
    {
     "data": {
      "text/plain": [
       "10"
      ]
     },
     "execution_count": 24,
     "metadata": {},
     "output_type": "execute_result"
    }
   ],
   "source": [
    "len(human_only_df[human_only_df.Type == 'TIMS-MULTI-MSMS']['Raw file'].unique())"
   ]
  },
  {
   "cell_type": "code",
   "execution_count": 40,
   "metadata": {},
   "outputs": [],
   "source": [
    "# count how many identifications and extractions (i.e. matches) across all runs. Note that a sequence can be \n",
    "# counted as an identification and a match in the same file (it's given a different score).\n",
    "sequence_id_mbr_counts_l = []\n",
    "for group_name,group_df in sequences_df.groupby(unique_peptide_key, as_index=False):\n",
    "    id_count_all_runs = len(group_df[group_df.Type == 'TIMS-MULTI-MSMS']['Raw file'].unique())\n",
    "    id_count_human_only_runs = len(group_df[(group_df.Type == 'TIMS-MULTI-MSMS') & (group_df.group == 'YHE010')]['Raw file'].unique())\n",
    "    mbr_count_all_runs = len(group_df[group_df.Type == 'TIMS-MULTI-MATCH']['Raw file'].unique())\n",
    "    mbr_count_human_only_runs = len(group_df[(group_df.Type == 'TIMS-MULTI-MATCH') & (group_df.group == 'YHE010')]['Raw file'].unique())\n",
    "    total_count_all_runs = len(group_df['Raw file'].unique())\n",
    "    total_count_human_only_runs = len(group_df[(group_df.group == 'YHE010')]['Raw file'].unique())\n",
    "    human = 'HUMAN' in group_df.iloc[0]['Leading razor protein']\n",
    "    sequence_id_mbr_counts_l.append((group_name[0], group_name[1], group_name[2], id_count_all_runs, id_count_human_only_runs, mbr_count_all_runs, mbr_count_human_only_runs, total_count_all_runs, total_count_human_only_runs, human))\n",
    "sequence_id_mbr_counts_df = pd.DataFrame(sequence_id_mbr_counts_l, columns=['sequence','modifications','charge','id_count_all_runs','id_count_human_only_runs','mbr_count_all_runs','mbr_count_human_only_runs','total_count_all_runs','total_count_human_only_runs','human'])\n"
   ]
  },
  {
   "cell_type": "code",
   "execution_count": 41,
   "metadata": {},
   "outputs": [
    {
     "data": {
      "text/plain": [
       "20226"
      ]
     },
     "execution_count": 41,
     "metadata": {},
     "output_type": "execute_result"
    }
   ],
   "source": [
    "# count the number of unique peptides identified (not matched) in the human-only runs\n",
    "human_id_df = sequence_id_mbr_counts_df[(sequence_id_mbr_counts_df.id_count_human_only_runs > 0)]\n",
    "len(human_id_df)"
   ]
  },
  {
   "cell_type": "code",
   "execution_count": 42,
   "metadata": {},
   "outputs": [
    {
     "data": {
      "text/plain": [
       "22.763274992583803"
      ]
     },
     "execution_count": 42,
     "metadata": {},
     "output_type": "execute_result"
    }
   ],
   "source": [
    "# missing values (i.e. neither identified nor matched)\n",
    "(1.0 - (human_id_df.total_count_human_only_runs.sum() / (len(human_id_df) * 10))) * 100"
   ]
  },
  {
   "cell_type": "code",
   "execution_count": 43,
   "metadata": {},
   "outputs": [
    {
     "data": {
      "text/plain": [
       "1.5326807079996043"
      ]
     },
     "execution_count": 43,
     "metadata": {},
     "output_type": "execute_result"
    }
   ],
   "source": [
    "# false discovery rate\n",
    "len(human_id_df[human_id_df.human == False]) / len(human_id_df) * 100"
   ]
  },
  {
   "cell_type": "code",
   "execution_count": 45,
   "metadata": {},
   "outputs": [
    {
     "data": {
      "text/html": [
       "<div>\n",
       "<style scoped>\n",
       "    .dataframe tbody tr th:only-of-type {\n",
       "        vertical-align: middle;\n",
       "    }\n",
       "\n",
       "    .dataframe tbody tr th {\n",
       "        vertical-align: top;\n",
       "    }\n",
       "\n",
       "    .dataframe thead th {\n",
       "        text-align: right;\n",
       "    }\n",
       "</style>\n",
       "<table border=\"1\" class=\"dataframe\">\n",
       "  <thead>\n",
       "    <tr style=\"text-align: right;\">\n",
       "      <th></th>\n",
       "      <th>sequence</th>\n",
       "      <th>modifications</th>\n",
       "      <th>charge</th>\n",
       "      <th>id_count_all_runs</th>\n",
       "      <th>id_count_human_only_runs</th>\n",
       "      <th>mbr_count_all_runs</th>\n",
       "      <th>mbr_count_human_only_runs</th>\n",
       "      <th>total_count_all_runs</th>\n",
       "      <th>total_count_human_only_runs</th>\n",
       "      <th>human</th>\n",
       "    </tr>\n",
       "  </thead>\n",
       "  <tbody>\n",
       "    <tr>\n",
       "      <th>9656</th>\n",
       "      <td>GGAEQFMEETER</td>\n",
       "      <td>Unmodified</td>\n",
       "      <td>2</td>\n",
       "      <td>31</td>\n",
       "      <td>10</td>\n",
       "      <td>1</td>\n",
       "      <td>0</td>\n",
       "      <td>31</td>\n",
       "      <td>10</td>\n",
       "      <td>True</td>\n",
       "    </tr>\n",
       "    <tr>\n",
       "      <th>21940</th>\n",
       "      <td>QLETVLDDLDPENALLPAGFR</td>\n",
       "      <td>Unmodified</td>\n",
       "      <td>2</td>\n",
       "      <td>24</td>\n",
       "      <td>3</td>\n",
       "      <td>2</td>\n",
       "      <td>1</td>\n",
       "      <td>25</td>\n",
       "      <td>4</td>\n",
       "      <td>True</td>\n",
       "    </tr>\n",
       "    <tr>\n",
       "      <th>29162</th>\n",
       "      <td>VQGGALEDSQLVAGVAFK</td>\n",
       "      <td>Unmodified</td>\n",
       "      <td>2</td>\n",
       "      <td>18</td>\n",
       "      <td>10</td>\n",
       "      <td>0</td>\n",
       "      <td>0</td>\n",
       "      <td>18</td>\n",
       "      <td>10</td>\n",
       "      <td>True</td>\n",
       "    </tr>\n",
       "    <tr>\n",
       "      <th>24955</th>\n",
       "      <td>SVFPEQANNNEWAR</td>\n",
       "      <td>Unmodified</td>\n",
       "      <td>2</td>\n",
       "      <td>19</td>\n",
       "      <td>9</td>\n",
       "      <td>12</td>\n",
       "      <td>1</td>\n",
       "      <td>30</td>\n",
       "      <td>10</td>\n",
       "      <td>True</td>\n",
       "    </tr>\n",
       "    <tr>\n",
       "      <th>8109</th>\n",
       "      <td>FGLEGCEVLIPALK</td>\n",
       "      <td>Unmodified</td>\n",
       "      <td>2</td>\n",
       "      <td>17</td>\n",
       "      <td>8</td>\n",
       "      <td>3</td>\n",
       "      <td>0</td>\n",
       "      <td>20</td>\n",
       "      <td>8</td>\n",
       "      <td>True</td>\n",
       "    </tr>\n",
       "  </tbody>\n",
       "</table>\n",
       "</div>"
      ],
      "text/plain": [
       "                    sequence modifications  charge  id_count_all_runs  \\\n",
       "9656            GGAEQFMEETER    Unmodified       2                 31   \n",
       "21940  QLETVLDDLDPENALLPAGFR    Unmodified       2                 24   \n",
       "29162     VQGGALEDSQLVAGVAFK    Unmodified       2                 18   \n",
       "24955         SVFPEQANNNEWAR    Unmodified       2                 19   \n",
       "8109          FGLEGCEVLIPALK    Unmodified       2                 17   \n",
       "\n",
       "       id_count_human_only_runs  mbr_count_all_runs  \\\n",
       "9656                         10                   1   \n",
       "21940                         3                   2   \n",
       "29162                        10                   0   \n",
       "24955                         9                  12   \n",
       "8109                          8                   3   \n",
       "\n",
       "       mbr_count_human_only_runs  total_count_all_runs  \\\n",
       "9656                           0                    31   \n",
       "21940                          1                    25   \n",
       "29162                          0                    18   \n",
       "24955                          1                    30   \n",
       "8109                           0                    20   \n",
       "\n",
       "       total_count_human_only_runs  human  \n",
       "9656                            10   True  \n",
       "21940                            4   True  \n",
       "29162                           10   True  \n",
       "24955                           10   True  \n",
       "8109                             8   True  "
      ]
     },
     "execution_count": 45,
     "metadata": {},
     "output_type": "execute_result"
    }
   ],
   "source": [
    "human_id_df.sample(n=5)"
   ]
  },
  {
   "cell_type": "code",
   "execution_count": 49,
   "metadata": {},
   "outputs": [
    {
     "data": {
      "image/png": "[encoded data removed]",
      "text/plain": [
       "<Figure size 1080x576 with 1 Axes>"
      ]
     },
     "metadata": {
      "needs_background": "light"
     },
     "output_type": "display_data"
    }
   ],
   "source": [
    "f, ax1 = plt.subplots()\n",
    "f.set_figheight(8)\n",
    "f.set_figwidth(15)\n",
    "\n",
    "plt.margins(0.06)\n",
    "plt.suptitle('Distribution of sequence identifications extracted from the HeLa-only runs for MaxQuant (with MBR)')\n",
    "plt.title('{} modified peptide sequences were identified in the HeLa-only runs'.format(len(human_id_df)))\n",
    "\n",
    "counts = np.bincount(human_id_df.total_count_human_only_runs)\n",
    "ax1.bar(range(11), counts, width=0.8, align='center')\n",
    "plt.xlabel('number of files in which a modified sequence-charge was identified')\n",
    "plt.ylabel('frequency')\n",
    "ax1.set(xticks=range(1,11), xlim=[0, 11])\n",
    "plt.ylim((0,14000))\n",
    "\n",
    "plt.show()"
   ]
  },
  {
   "cell_type": "code",
   "execution_count": null,
   "metadata": {},
   "outputs": [],
   "source": []
  }
 ],
 "metadata": {
  "kernelspec": {
   "display_name": "Python 3",
   "language": "python",
   "name": "python3"
  },
  "language_info": {
   "codemirror_mode": {
    "name": "ipython",
    "version": 3
   },
   "file_extension": ".py",
   "mimetype": "text/x-python",
   "name": "python",
   "nbconvert_exporter": "python",
   "pygments_lexer": "ipython3",
   "version": "3.6.8"
  }
 },
 "nbformat": 4,
 "nbformat_minor": 2
}
