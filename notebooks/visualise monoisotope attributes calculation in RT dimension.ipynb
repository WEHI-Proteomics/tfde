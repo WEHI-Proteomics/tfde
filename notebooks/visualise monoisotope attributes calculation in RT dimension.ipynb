{
 "cells": [
  {
   "cell_type": "markdown",
   "metadata": {},
   "source": [
    "This notebook provides a visualisation of the raw data for the monoisotope, and shows the curve that was fitted to find the RT apex.\n",
    "It relies on the following files from BAM:\n",
    "- scp -i ~/Documents/AWS\\ keys/dwm-protlab.pem ubuntu@3.211.113.236:~/experiments/dwm-test/target-decoy-models/experiment-metrics-for-library-sequences.pkl ~/Downloads/experiments/dwm-test/target-decoy-models/\n",
    "\n",
    "Note that sequences_metrics_df contains unclassified features - it may contain features classified as decoys from particular runs. In this notebook we rely on the 'analyse the isotope intensity adjustment by peptide' notebook to identify sequences of interest in particular runs."
   ]
  },
  {
   "cell_type": "code",
   "execution_count": 2,
   "metadata": {},
   "outputs": [],
   "source": [
    "import pandas as pd\n",
    "import matplotlib.pyplot as plt"
   ]
  },
  {
   "cell_type": "code",
   "execution_count": 3,
   "metadata": {},
   "outputs": [],
   "source": [
    "MAPPING_FILE_NAME = \"/Users/darylwilding-mcbride/Downloads/experiments/dwm-test/recalibrated-percolator-output/percolator-idx-mapping.csv\"\n",
    "\n",
    "# determine the mapping between the percolator index and the run file name\n",
    "def get_percolator_run_mapping(mapping_file_name):\n",
    "    df = pd.read_csv(mapping_file_name)\n",
    "    mapping_l = [tuple(r) for r in df.to_numpy()]\n",
    "    return mapping_l\n",
    "\n",
    "def file_idx_for_run(run_name):\n",
    "    result = None\n",
    "    mapping_l = get_percolator_run_mapping(MAPPING_FILE_NAME)\n",
    "    for m in mapping_l:\n",
    "        if m[1] == run_name:\n",
    "            result = m[0]\n",
    "            break\n",
    "    return result\n",
    "\n",
    "def run_name_for_file_idx(file_idx):\n",
    "    result = None\n",
    "    mapping_l = get_percolator_run_mapping(MAPPING_FILE_NAME)\n",
    "    for m in mapping_l:\n",
    "        if m[0] == file_idx:\n",
    "            result = m[1]\n",
    "            break\n",
    "    return result"
   ]
  },
  {
   "cell_type": "code",
   "execution_count": 22,
   "metadata": {},
   "outputs": [],
   "source": [
    "# produced by the notebook \"classify all features extracted from all the runs\"\n",
    "SEQUENCES_WITH_SPECIES_FILE_NAME = '/Users/darylwilding-mcbride/Downloads/sequences-with-species-df.pkl'\n"
   ]
  },
  {
   "cell_type": "code",
   "execution_count": 23,
   "metadata": {},
   "outputs": [],
   "source": [
    "classified_sequences_df = pd.read_pickle(SEQUENCES_WITH_SPECIES_FILE_NAME)"
   ]
  },
  {
   "cell_type": "code",
   "execution_count": 4,
   "metadata": {},
   "outputs": [],
   "source": [
    "sequence_metrics_name = '/Users/darylwilding-mcbride/Downloads/experiments/dwm-test/target-decoy-models/experiment-metrics-for-library-sequences.pkl'"
   ]
  },
  {
   "cell_type": "code",
   "execution_count": 5,
   "metadata": {},
   "outputs": [],
   "source": [
    "sequence_metrics_df = pd.read_pickle(sequence_metrics_name)"
   ]
  },
  {
   "cell_type": "code",
   "execution_count": 144,
   "metadata": {},
   "outputs": [],
   "source": [
    "run_name = '190719_Hela_Ecoli_1to3_02'\n",
    "file_idx = file_idx_for_run(run_name)\n",
    "file_idx = 7"
   ]
  },
  {
   "cell_type": "code",
   "execution_count": 145,
   "metadata": {},
   "outputs": [],
   "source": [
    "selected_sequence = 'NPNVTSVEHVVVLK'\n",
    "selected_sequence_charge = 2"
   ]
  },
  {
   "cell_type": "code",
   "execution_count": 146,
   "metadata": {},
   "outputs": [
    {
     "data": {
      "text/plain": [
       "0"
      ]
     },
     "execution_count": 146,
     "metadata": {},
     "output_type": "execute_result"
    }
   ],
   "source": [
    "# which peak was selected?\n",
    "classified_sequences_df[(classified_sequences_df.sequence == selected_sequence) & (classified_sequences_df.charge == selected_sequence_charge) & (classified_sequences_df.file_idx == file_idx)].iloc[0].peak_idx.astype(int)"
   ]
  },
  {
   "cell_type": "code",
   "execution_count": 147,
   "metadata": {},
   "outputs": [],
   "source": [
    "df = sequence_metrics_df[(sequence_metrics_df.sequence == selected_sequence) & (sequence_metrics_df.charge == selected_sequence_charge) & (sequence_metrics_df.file_idx == file_idx)].copy()\n"
   ]
  },
  {
   "cell_type": "code",
   "execution_count": 148,
   "metadata": {},
   "outputs": [
    {
     "data": {
      "text/plain": [
       "Index(['sequence', 'charge', 'theoretical_mz', 'experiment_scan_mean',\n",
       "       'experiment_scan_std_dev', 'experiment_scan_peak_width',\n",
       "       'experiment_rt_mean', 'experiment_rt_std_dev',\n",
       "       'experiment_rt_peak_width', 'experiment_intensity_mean',\n",
       "       'experiment_intensity_std_dev', 'number_of_runs_identified', 'q_value',\n",
       "       'file_idx', 'target_coords', 'decoy_coords', 'peak_idx',\n",
       "       'target_metrics', 'attributes', 'decoy_metrics', 'peak_count'],\n",
       "      dtype='object')"
      ]
     },
     "execution_count": 148,
     "metadata": {},
     "output_type": "execute_result"
    }
   ],
   "source": [
    "df.columns"
   ]
  },
  {
   "cell_type": "code",
   "execution_count": 149,
   "metadata": {},
   "outputs": [
    {
     "data": {
      "text/plain": [
       "3"
      ]
     },
     "execution_count": 149,
     "metadata": {},
     "output_type": "execute_result"
    }
   ],
   "source": [
    "len(df)"
   ]
  },
  {
   "cell_type": "code",
   "execution_count": 172,
   "metadata": {},
   "outputs": [
    {
     "data": {
      "text/plain": [
       "sequence                                                           NPNVTSVEHVVVLK\n",
       "charge                                                                          2\n",
       "theoretical_mz                                                            767.933\n",
       "experiment_scan_mean                                                      442.372\n",
       "experiment_scan_std_dev                                                   3.58217\n",
       "experiment_scan_peak_width                                                41.7938\n",
       "experiment_rt_mean                                                        593.407\n",
       "experiment_rt_std_dev                                                     4.41185\n",
       "experiment_rt_peak_width                                                  8.28725\n",
       "experiment_intensity_mean                                             1.46667e+06\n",
       "experiment_intensity_std_dev                                               682644\n",
       "number_of_runs_identified                                                      20\n",
       "q_value                                                               2.55325e-06\n",
       "file_idx                                                                        7\n",
       "target_coords                   {'mono_mz': 767.932873398165, 'scan_apex': 447...\n",
       "decoy_coords                    {'mono_mz': 767.9973797595305, 'scan_apex': 35...\n",
       "peak_idx                                                                        0\n",
       "target_metrics                  {'delta_mz_ppm': 0.33518111890545976, 'delta_r...\n",
       "attributes                      {'intensity': 27562, 'inferred': 0, 'isotope_i...\n",
       "decoy_metrics                                                                 NaN\n",
       "peak_count                                                                      3\n",
       "Name: 4353, dtype: object"
      ]
     },
     "execution_count": 172,
     "metadata": {},
     "output_type": "execute_result"
    }
   ],
   "source": [
    "selected_peak_idx = 0\n",
    "selected_peak_df = df[df.peak_idx == selected_peak_idx].iloc[0]\n",
    "selected_peak_df"
   ]
  },
  {
   "cell_type": "code",
   "execution_count": 173,
   "metadata": {},
   "outputs": [
    {
     "data": {
      "text/plain": [
       "4353    {'intensity': 27562, 'inferred': 0, 'isotope_i...\n",
       "4354    {'intensity': 402, 'inferred': 0, 'isotope_idx...\n",
       "4355    {'intensity': 332, 'inferred': 0, 'isotope_idx...\n",
       "Name: attributes, dtype: object"
      ]
     },
     "execution_count": 173,
     "metadata": {},
     "output_type": "execute_result"
    }
   ],
   "source": [
    "df.attributes"
   ]
  },
  {
   "cell_type": "code",
   "execution_count": 174,
   "metadata": {},
   "outputs": [
    {
     "data": {
      "text/html": [
       "<div>\n",
       "<style scoped>\n",
       "    .dataframe tbody tr th:only-of-type {\n",
       "        vertical-align: middle;\n",
       "    }\n",
       "\n",
       "    .dataframe tbody tr th {\n",
       "        vertical-align: top;\n",
       "    }\n",
       "\n",
       "    .dataframe thead th {\n",
       "        text-align: right;\n",
       "    }\n",
       "</style>\n",
       "<table border=\"1\" class=\"dataframe\">\n",
       "  <thead>\n",
       "    <tr style=\"text-align: right;\">\n",
       "      <th></th>\n",
       "      <th>sequence</th>\n",
       "      <th>charge</th>\n",
       "      <th>theoretical_mz</th>\n",
       "      <th>experiment_scan_mean</th>\n",
       "      <th>experiment_scan_std_dev</th>\n",
       "      <th>experiment_scan_peak_width</th>\n",
       "      <th>experiment_rt_mean</th>\n",
       "      <th>experiment_rt_std_dev</th>\n",
       "      <th>experiment_rt_peak_width</th>\n",
       "      <th>experiment_intensity_mean</th>\n",
       "      <th>...</th>\n",
       "      <th>number_of_runs_identified</th>\n",
       "      <th>q_value</th>\n",
       "      <th>file_idx</th>\n",
       "      <th>target_coords</th>\n",
       "      <th>decoy_coords</th>\n",
       "      <th>peak_idx</th>\n",
       "      <th>target_metrics</th>\n",
       "      <th>attributes</th>\n",
       "      <th>decoy_metrics</th>\n",
       "      <th>peak_count</th>\n",
       "    </tr>\n",
       "  </thead>\n",
       "  <tbody>\n",
       "    <tr>\n",
       "      <th>4353</th>\n",
       "      <td>NPNVTSVEHVVVLK</td>\n",
       "      <td>2</td>\n",
       "      <td>767.933026</td>\n",
       "      <td>442.37225</td>\n",
       "      <td>3.582169</td>\n",
       "      <td>41.79375</td>\n",
       "      <td>593.407</td>\n",
       "      <td>4.411847</td>\n",
       "      <td>8.28725</td>\n",
       "      <td>1466666.75</td>\n",
       "      <td>...</td>\n",
       "      <td>20</td>\n",
       "      <td>0.000003</td>\n",
       "      <td>7</td>\n",
       "      <td>{'mono_mz': 767.932873398165, 'scan_apex': 447...</td>\n",
       "      <td>{'mono_mz': 767.9973797595305, 'scan_apex': 35...</td>\n",
       "      <td>0.0</td>\n",
       "      <td>{'delta_mz_ppm': 0.33518111890545976, 'delta_r...</td>\n",
       "      <td>{'intensity': 27562, 'inferred': 0, 'isotope_i...</td>\n",
       "      <td>NaN</td>\n",
       "      <td>3</td>\n",
       "    </tr>\n",
       "    <tr>\n",
       "      <th>4354</th>\n",
       "      <td>NPNVTSVEHVVVLK</td>\n",
       "      <td>2</td>\n",
       "      <td>767.933026</td>\n",
       "      <td>442.37225</td>\n",
       "      <td>3.582169</td>\n",
       "      <td>41.79375</td>\n",
       "      <td>593.407</td>\n",
       "      <td>4.411847</td>\n",
       "      <td>8.28725</td>\n",
       "      <td>1466666.75</td>\n",
       "      <td>...</td>\n",
       "      <td>20</td>\n",
       "      <td>0.000003</td>\n",
       "      <td>7</td>\n",
       "      <td>{'mono_mz': 767.932873398165, 'scan_apex': 447...</td>\n",
       "      <td>{'mono_mz': 767.9973797595305, 'scan_apex': 35...</td>\n",
       "      <td>1.0</td>\n",
       "      <td>{'delta_mz_ppm': 0.33518111890545976, 'delta_r...</td>\n",
       "      <td>{'intensity': 402, 'inferred': 0, 'isotope_idx...</td>\n",
       "      <td>NaN</td>\n",
       "      <td>3</td>\n",
       "    </tr>\n",
       "    <tr>\n",
       "      <th>4355</th>\n",
       "      <td>NPNVTSVEHVVVLK</td>\n",
       "      <td>2</td>\n",
       "      <td>767.933026</td>\n",
       "      <td>442.37225</td>\n",
       "      <td>3.582169</td>\n",
       "      <td>41.79375</td>\n",
       "      <td>593.407</td>\n",
       "      <td>4.411847</td>\n",
       "      <td>8.28725</td>\n",
       "      <td>1466666.75</td>\n",
       "      <td>...</td>\n",
       "      <td>20</td>\n",
       "      <td>0.000003</td>\n",
       "      <td>7</td>\n",
       "      <td>{'mono_mz': 767.932873398165, 'scan_apex': 447...</td>\n",
       "      <td>{'mono_mz': 767.9973797595305, 'scan_apex': 35...</td>\n",
       "      <td>2.0</td>\n",
       "      <td>{'delta_mz_ppm': 0.33518111890545976, 'delta_r...</td>\n",
       "      <td>{'intensity': 332, 'inferred': 0, 'isotope_idx...</td>\n",
       "      <td>NaN</td>\n",
       "      <td>3</td>\n",
       "    </tr>\n",
       "  </tbody>\n",
       "</table>\n",
       "<p>3 rows × 21 columns</p>\n",
       "</div>"
      ],
      "text/plain": [
       "            sequence  charge  theoretical_mz  experiment_scan_mean  \\\n",
       "4353  NPNVTSVEHVVVLK       2      767.933026             442.37225   \n",
       "4354  NPNVTSVEHVVVLK       2      767.933026             442.37225   \n",
       "4355  NPNVTSVEHVVVLK       2      767.933026             442.37225   \n",
       "\n",
       "      experiment_scan_std_dev  experiment_scan_peak_width  experiment_rt_mean  \\\n",
       "4353                 3.582169                    41.79375             593.407   \n",
       "4354                 3.582169                    41.79375             593.407   \n",
       "4355                 3.582169                    41.79375             593.407   \n",
       "\n",
       "      experiment_rt_std_dev  experiment_rt_peak_width  \\\n",
       "4353               4.411847                   8.28725   \n",
       "4354               4.411847                   8.28725   \n",
       "4355               4.411847                   8.28725   \n",
       "\n",
       "      experiment_intensity_mean  ...  number_of_runs_identified   q_value  \\\n",
       "4353                 1466666.75  ...                         20  0.000003   \n",
       "4354                 1466666.75  ...                         20  0.000003   \n",
       "4355                 1466666.75  ...                         20  0.000003   \n",
       "\n",
       "      file_idx                                      target_coords  \\\n",
       "4353         7  {'mono_mz': 767.932873398165, 'scan_apex': 447...   \n",
       "4354         7  {'mono_mz': 767.932873398165, 'scan_apex': 447...   \n",
       "4355         7  {'mono_mz': 767.932873398165, 'scan_apex': 447...   \n",
       "\n",
       "                                           decoy_coords peak_idx  \\\n",
       "4353  {'mono_mz': 767.9973797595305, 'scan_apex': 35...      0.0   \n",
       "4354  {'mono_mz': 767.9973797595305, 'scan_apex': 35...      1.0   \n",
       "4355  {'mono_mz': 767.9973797595305, 'scan_apex': 35...      2.0   \n",
       "\n",
       "                                         target_metrics  \\\n",
       "4353  {'delta_mz_ppm': 0.33518111890545976, 'delta_r...   \n",
       "4354  {'delta_mz_ppm': 0.33518111890545976, 'delta_r...   \n",
       "4355  {'delta_mz_ppm': 0.33518111890545976, 'delta_r...   \n",
       "\n",
       "                                             attributes decoy_metrics  \\\n",
       "4353  {'intensity': 27562, 'inferred': 0, 'isotope_i...           NaN   \n",
       "4354  {'intensity': 402, 'inferred': 0, 'isotope_idx...           NaN   \n",
       "4355  {'intensity': 332, 'inferred': 0, 'isotope_idx...           NaN   \n",
       "\n",
       "     peak_count  \n",
       "4353          3  \n",
       "4354          3  \n",
       "4355          3  \n",
       "\n",
       "[3 rows x 21 columns]"
      ]
     },
     "execution_count": 174,
     "metadata": {},
     "output_type": "execute_result"
    }
   ],
   "source": [
    "df"
   ]
  },
  {
   "cell_type": "code",
   "execution_count": 175,
   "metadata": {},
   "outputs": [],
   "source": [
    "mono_raw_points_df = pd.DataFrame(selected_peak_df.attributes['mono_raw_points_l'], columns=['retention_time_secs','intensity'])"
   ]
  },
  {
   "cell_type": "code",
   "execution_count": 176,
   "metadata": {},
   "outputs": [],
   "source": [
    "mono_filtered_points_df = pd.DataFrame(selected_peak_df.attributes['mono_filtered_points_l'])\n",
    "isotope_1_filtered_points_df = pd.DataFrame(selected_peak_df.attributes['isotope_1_filtered_points_l'])\n",
    "isotope_2_filtered_points_df = pd.DataFrame(selected_peak_df.attributes['isotope_2_filtered_points_l'])"
   ]
  },
  {
   "cell_type": "code",
   "execution_count": 177,
   "metadata": {},
   "outputs": [
    {
     "data": {
      "text/plain": [
       "dict_keys(['intensity', 'inferred', 'isotope_idx_not_in_saturation', 'rt_apex', 'scan_apex', 'isotope_intensities_l', 'monoisotopic_mz_centroid', 'monoisotopic_mass', 'mono_raw_points_l', 'mono_filtered_points_l', 'isotope_1_filtered_points_l', 'isotope_2_filtered_points_l', 'mono_rt_bounds', 'isotope_1_rt_bounds', 'isotope_2_rt_bounds'])"
      ]
     },
     "execution_count": 177,
     "metadata": {},
     "output_type": "execute_result"
    }
   ],
   "source": [
    "selected_peak_df.attributes.keys()"
   ]
  },
  {
   "cell_type": "code",
   "execution_count": 178,
   "metadata": {},
   "outputs": [],
   "source": [
    "mono_rt_lower,mono_rt_upper = selected_peak_df.attributes['mono_rt_bounds']\n",
    "mono_isolated_peak_df = mono_filtered_points_df[(mono_filtered_points_df.x >= mono_rt_lower) & (mono_filtered_points_df.x <= mono_rt_upper)]\n",
    "mono_rt_apex_derived = selected_peak_df.attributes['rt_apex']\n",
    "mono_rt_apex_estimated = selected_peak_df.target_coords['rt_apex']"
   ]
  },
  {
   "cell_type": "code",
   "execution_count": 179,
   "metadata": {},
   "outputs": [],
   "source": [
    "isotope_1_rt_lower,isotope_1_rt_upper = selected_peak_df.attributes['isotope_1_rt_bounds']\n",
    "isotope_1_isolated_peak_df = isotope_1_filtered_points_df[(isotope_1_filtered_points_df.x >= isotope_1_rt_lower) & (isotope_1_filtered_points_df.x <= isotope_1_rt_upper)]"
   ]
  },
  {
   "cell_type": "code",
   "execution_count": 180,
   "metadata": {},
   "outputs": [],
   "source": [
    "isotope_2_rt_lower,isotope_2_rt_upper = selected_peak_df.attributes['isotope_2_rt_bounds']\n",
    "isotope_2_isolated_peak_df = isotope_2_filtered_points_df[(isotope_2_filtered_points_df.x >= isotope_2_rt_lower) & (isotope_2_filtered_points_df.x <= isotope_2_rt_upper)]"
   ]
  },
  {
   "cell_type": "code",
   "execution_count": 181,
   "metadata": {},
   "outputs": [
    {
     "data": {
      "image/png": "[encoded data removed]",
      "text/plain": [
       "<Figure size 1080x576 with 1 Axes>"
      ]
     },
     "metadata": {
      "needs_background": "light"
     },
     "output_type": "display_data"
    }
   ],
   "source": [
    "f, ax = plt.subplots()\n",
    "f.set_figheight(8)\n",
    "f.set_figwidth(15)\n",
    "plt.margins(0.06)\n",
    "\n",
    "title = 'Calculating the RT apex for peak {}, sequence {}, charge {} in run {}'.format(selected_peak_idx, selected_sequence, selected_sequence_charge, run_name)\n",
    "plt.title(title)\n",
    "\n",
    "ax.scatter(mono_raw_points_df.retention_time_secs, mono_raw_points_df.intensity, marker='o', color='silver', lw=0, s=30, alpha=0.6, label='raw mono points')\n",
    "\n",
    "# isotope 0\n",
    "ax.plot(mono_filtered_points_df.x, mono_filtered_points_df.filtered_intensity, marker='', color='red', linestyle=':', linewidth=1, ms=5, label='mono filtered')\n",
    "ax.plot(mono_isolated_peak_df.x, mono_isolated_peak_df.filtered_intensity, marker='', color='darkorange', linestyle='-', linewidth=3, ms=5, label='mono isolated peak')\n",
    "\n",
    "# isotope 1\n",
    "ax.plot(isotope_1_filtered_points_df.x, isotope_1_filtered_points_df.filtered_intensity, marker='', color='firebrick', linestyle=':', linewidth=1, ms=5, label='iso 1 filtered')\n",
    "ax.plot(isotope_1_isolated_peak_df.x, isotope_1_isolated_peak_df.filtered_intensity, marker='', color='orange', linestyle='--', linewidth=3, ms=5, label='iso 1 isolated peak')\n",
    "\n",
    "# isotope 2\n",
    "ax.plot(isotope_2_filtered_points_df.x, isotope_2_filtered_points_df.filtered_intensity, marker='', color='lightcoral', linestyle=':', linewidth=1, ms=5, label='iso 2 filtered')\n",
    "ax.plot(isotope_2_isolated_peak_df.x, isotope_2_isolated_peak_df.filtered_intensity, marker='', color='navajowhite', linestyle='--', linewidth=3, ms=5, label='iso 2 isolated peak')\n",
    "\n",
    "ax.axvline(mono_rt_apex_derived, color='steelblue', lw=1.0, ls='-.', label='derived apex')\n",
    "ax.axvline(mono_rt_apex_estimated, color='limegreen', lw=1.0, ls='-.', label='estimated apex')\n",
    "\n",
    "plt.legend(loc='best')\n",
    "plt.xlabel('retention time (secs)')\n",
    "plt.ylabel('intensity')\n",
    "\n",
    "plt.show()"
   ]
  },
  {
   "cell_type": "markdown",
   "metadata": {},
   "source": [
    "#### looking at metrics for each peak"
   ]
  },
  {
   "cell_type": "code",
   "execution_count": 182,
   "metadata": {},
   "outputs": [
    {
     "name": "stdout",
     "output_type": "stream",
     "text": [
      "0.08835173286605492\n",
      "0.12913386396090287\n",
      "0.05763285214654639\n"
     ]
    }
   ],
   "source": [
    "for idx in range(len(df)):\n",
    "    print(df[df.peak_idx == idx].iloc[0].target_metrics['rt_isotope_correlation'])\n"
   ]
  },
  {
   "cell_type": "code",
   "execution_count": null,
   "metadata": {},
   "outputs": [],
   "source": []
  }
 ],
 "metadata": {
  "kernelspec": {
   "display_name": "Python 3",
   "language": "python",
   "name": "python3"
  },
  "language_info": {
   "codemirror_mode": {
    "name": "ipython",
    "version": 3
   },
   "file_extension": ".py",
   "mimetype": "text/x-python",
   "name": "python",
   "nbconvert_exporter": "python",
   "pygments_lexer": "ipython3",
   "version": "3.6.8"
  }
 },
 "nbformat": 4,
 "nbformat_minor": 2
}
