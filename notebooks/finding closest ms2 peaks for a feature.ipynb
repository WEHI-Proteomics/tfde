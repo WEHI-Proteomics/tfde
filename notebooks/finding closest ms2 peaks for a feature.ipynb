{
 "cells": [
  {
   "cell_type": "code",
   "execution_count": 56,
   "metadata": {},
   "outputs": [],
   "source": [
    "import pandas as pd\n",
    "import sqlite3\n",
    "import numpy as np"
   ]
  },
  {
   "cell_type": "code",
   "execution_count": 57,
   "metadata": {},
   "outputs": [],
   "source": [
    "feature_id = 23\n",
    "negative_rt_delta_tolerance = -0.25\n",
    "positive_rt_delta_tolerance = 0.25\n",
    "negative_scan_delta_tolerance = -4.0\n",
    "positive_scan_delta_tolerance = 0.1\n",
    "maximum_number_of_features = 1\n",
    "maximum_number_of_peaks_per_feature = 1"
   ]
  },
  {
   "cell_type": "code",
   "execution_count": 58,
   "metadata": {},
   "outputs": [],
   "source": [
    "DB_NAME = '/home/ubuntu/UPS2_allion/UPS2_allion-features-1-1097.sqlite'\n",
    "CONV_DB_NAME = '/home/ubuntu/UPS2_allion/UPS2_allion.sqlite'"
   ]
  },
  {
   "cell_type": "code",
   "execution_count": 73,
   "metadata": {},
   "outputs": [],
   "source": [
    "db_conn = sqlite3.connect(DB_NAME)\n",
    "peak_correlation_df = pd.read_sql_query(\"select * from peak_correlation where feature_id=={} and rt_distance >= {} and rt_distance <= {} and scan_distance >= {} and scan_distance <= {} order by rt_distance ASC limit {}\".format(feature_id, negative_rt_delta_tolerance, positive_rt_delta_tolerance, negative_scan_delta_tolerance, positive_scan_delta_tolerance, maximum_number_of_peaks_per_feature), db_conn)\n",
    "db_conn.close()"
   ]
  },
  {
   "cell_type": "code",
   "execution_count": 74,
   "metadata": {},
   "outputs": [],
   "source": [
    "peak_correlation_df[\"feature_id-ms2_peak_id\"] = peak_correlation_df.feature_id.astype(str) + '-' + peak_correlation_df.ms2_peak_id.astype(str)"
   ]
  },
  {
   "cell_type": "code",
   "execution_count": 75,
   "metadata": {},
   "outputs": [
    {
     "data": {
      "text/html": [
       "<div>\n",
       "<style scoped>\n",
       "    .dataframe tbody tr th:only-of-type {\n",
       "        vertical-align: middle;\n",
       "    }\n",
       "\n",
       "    .dataframe tbody tr th {\n",
       "        vertical-align: top;\n",
       "    }\n",
       "\n",
       "    .dataframe thead th {\n",
       "        text-align: right;\n",
       "    }\n",
       "</style>\n",
       "<table border=\"1\" class=\"dataframe\">\n",
       "  <thead>\n",
       "    <tr style=\"text-align: right;\">\n",
       "      <th></th>\n",
       "      <th>feature_id</th>\n",
       "      <th>base_peak_id</th>\n",
       "      <th>ms1_scan_centroid</th>\n",
       "      <th>ms1_rt_centroid</th>\n",
       "      <th>ms2_peak_id</th>\n",
       "      <th>ms2_scan_centroid</th>\n",
       "      <th>ms2_rt_centroid</th>\n",
       "      <th>scan_distance</th>\n",
       "      <th>rt_distance</th>\n",
       "      <th>correlation</th>\n",
       "      <th>feature_id-ms2_peak_id</th>\n",
       "    </tr>\n",
       "  </thead>\n",
       "  <tbody>\n",
       "    <tr>\n",
       "      <th>0</th>\n",
       "      <td>23</td>\n",
       "      <td>2</td>\n",
       "      <td>110.144302</td>\n",
       "      <td>1151.36315</td>\n",
       "      <td>835</td>\n",
       "      <td>111.295575</td>\n",
       "      <td>1151.612901</td>\n",
       "      <td>-1.151273</td>\n",
       "      <td>-0.249751</td>\n",
       "      <td>0.0</td>\n",
       "      <td>23-835</td>\n",
       "    </tr>\n",
       "  </tbody>\n",
       "</table>\n",
       "</div>"
      ],
      "text/plain": [
       "   feature_id  base_peak_id  ms1_scan_centroid  ms1_rt_centroid  ms2_peak_id  \\\n",
       "0          23             2         110.144302       1151.36315          835   \n",
       "\n",
       "   ms2_scan_centroid  ms2_rt_centroid  scan_distance  rt_distance  \\\n",
       "0         111.295575      1151.612901      -1.151273    -0.249751   \n",
       "\n",
       "   correlation feature_id-ms2_peak_id  \n",
       "0          0.0                 23-835  "
      ]
     },
     "execution_count": 75,
     "metadata": {},
     "output_type": "execute_result"
    }
   ],
   "source": [
    "peak_correlation_df.head()"
   ]
  },
  {
   "cell_type": "code",
   "execution_count": 76,
   "metadata": {},
   "outputs": [
    {
     "data": {
      "text/plain": [
       "('23-835',)"
      ]
     },
     "execution_count": 76,
     "metadata": {},
     "output_type": "execute_result"
    }
   ],
   "source": [
    "tuple(peak_correlation_df[\"feature_id-ms2_peak_id\"])"
   ]
  },
  {
   "cell_type": "code",
   "execution_count": 77,
   "metadata": {},
   "outputs": [],
   "source": [
    "peak_correlation_df = peak_correlation_df.append(peak_correlation_df)"
   ]
  },
  {
   "cell_type": "code",
   "execution_count": 84,
   "metadata": {},
   "outputs": [
    {
     "data": {
      "text/plain": [
       "2"
      ]
     },
     "execution_count": 84,
     "metadata": {},
     "output_type": "execute_result"
    }
   ],
   "source": [
    "len(peak_correlation_df)"
   ]
  },
  {
   "cell_type": "code",
   "execution_count": 78,
   "metadata": {},
   "outputs": [
    {
     "data": {
      "text/html": [
       "<div>\n",
       "<style scoped>\n",
       "    .dataframe tbody tr th:only-of-type {\n",
       "        vertical-align: middle;\n",
       "    }\n",
       "\n",
       "    .dataframe tbody tr th {\n",
       "        vertical-align: top;\n",
       "    }\n",
       "\n",
       "    .dataframe thead th {\n",
       "        text-align: right;\n",
       "    }\n",
       "</style>\n",
       "<table border=\"1\" class=\"dataframe\">\n",
       "  <thead>\n",
       "    <tr style=\"text-align: right;\">\n",
       "      <th></th>\n",
       "      <th>feature_id</th>\n",
       "      <th>base_peak_id</th>\n",
       "      <th>ms1_scan_centroid</th>\n",
       "      <th>ms1_rt_centroid</th>\n",
       "      <th>ms2_peak_id</th>\n",
       "      <th>ms2_scan_centroid</th>\n",
       "      <th>ms2_rt_centroid</th>\n",
       "      <th>scan_distance</th>\n",
       "      <th>rt_distance</th>\n",
       "      <th>correlation</th>\n",
       "      <th>feature_id-ms2_peak_id</th>\n",
       "    </tr>\n",
       "  </thead>\n",
       "  <tbody>\n",
       "    <tr>\n",
       "      <th>0</th>\n",
       "      <td>23</td>\n",
       "      <td>2</td>\n",
       "      <td>110.144302</td>\n",
       "      <td>1151.36315</td>\n",
       "      <td>835</td>\n",
       "      <td>111.295575</td>\n",
       "      <td>1151.612901</td>\n",
       "      <td>-1.151273</td>\n",
       "      <td>-0.249751</td>\n",
       "      <td>0.0</td>\n",
       "      <td>23-835</td>\n",
       "    </tr>\n",
       "    <tr>\n",
       "      <th>0</th>\n",
       "      <td>23</td>\n",
       "      <td>2</td>\n",
       "      <td>110.144302</td>\n",
       "      <td>1151.36315</td>\n",
       "      <td>835</td>\n",
       "      <td>111.295575</td>\n",
       "      <td>1151.612901</td>\n",
       "      <td>-1.151273</td>\n",
       "      <td>-0.249751</td>\n",
       "      <td>0.0</td>\n",
       "      <td>23-835</td>\n",
       "    </tr>\n",
       "  </tbody>\n",
       "</table>\n",
       "</div>"
      ],
      "text/plain": [
       "   feature_id  base_peak_id  ms1_scan_centroid  ms1_rt_centroid  ms2_peak_id  \\\n",
       "0          23             2         110.144302       1151.36315          835   \n",
       "0          23             2         110.144302       1151.36315          835   \n",
       "\n",
       "   ms2_scan_centroid  ms2_rt_centroid  scan_distance  rt_distance  \\\n",
       "0         111.295575      1151.612901      -1.151273    -0.249751   \n",
       "0         111.295575      1151.612901      -1.151273    -0.249751   \n",
       "\n",
       "   correlation feature_id-ms2_peak_id  \n",
       "0          0.0                 23-835  \n",
       "0          0.0                 23-835  "
      ]
     },
     "execution_count": 78,
     "metadata": {},
     "output_type": "execute_result"
    }
   ],
   "source": [
    "peak_correlation_df"
   ]
  },
  {
   "cell_type": "code",
   "execution_count": 79,
   "metadata": {},
   "outputs": [],
   "source": [
    "db_conn = sqlite3.connect(DB_NAME)\n",
    "ms2_peaks_df = pd.read_sql_query(\"select feature_id,peak_id,centroid_mz,intensity from ms2_peaks where feature_id || '-' || peak_id in {}\".format(tuple(peak_correlation_df[\"feature_id-ms2_peak_id\"])), db_conn)\n",
    "db_conn.close()"
   ]
  },
  {
   "cell_type": "code",
   "execution_count": 80,
   "metadata": {},
   "outputs": [
    {
     "data": {
      "text/html": [
       "<div>\n",
       "<style scoped>\n",
       "    .dataframe tbody tr th:only-of-type {\n",
       "        vertical-align: middle;\n",
       "    }\n",
       "\n",
       "    .dataframe tbody tr th {\n",
       "        vertical-align: top;\n",
       "    }\n",
       "\n",
       "    .dataframe thead th {\n",
       "        text-align: right;\n",
       "    }\n",
       "</style>\n",
       "<table border=\"1\" class=\"dataframe\">\n",
       "  <thead>\n",
       "    <tr style=\"text-align: right;\">\n",
       "      <th></th>\n",
       "      <th>feature_id</th>\n",
       "      <th>peak_id</th>\n",
       "      <th>centroid_mz</th>\n",
       "      <th>intensity</th>\n",
       "    </tr>\n",
       "  </thead>\n",
       "  <tbody>\n",
       "    <tr>\n",
       "      <th>0</th>\n",
       "      <td>23</td>\n",
       "      <td>835</td>\n",
       "      <td>627.372</td>\n",
       "      <td>73883</td>\n",
       "    </tr>\n",
       "  </tbody>\n",
       "</table>\n",
       "</div>"
      ],
      "text/plain": [
       "   feature_id  peak_id  centroid_mz  intensity\n",
       "0          23      835      627.372      73883"
      ]
     },
     "execution_count": 80,
     "metadata": {},
     "output_type": "execute_result"
    }
   ],
   "source": [
    "ms2_peaks_df.head()"
   ]
  },
  {
   "cell_type": "code",
   "execution_count": 81,
   "metadata": {},
   "outputs": [],
   "source": [
    "df = pd.merge(ms2_peaks_df, peak_correlation_df, left_on=['feature_id','peak_id'], right_on=['feature_id','ms2_peak_id'])"
   ]
  },
  {
   "cell_type": "code",
   "execution_count": 82,
   "metadata": {},
   "outputs": [],
   "source": [
    "df.drop(['peak_id','correlation','feature_id-ms2_peak_id'], inplace=True, axis=1)"
   ]
  },
  {
   "cell_type": "code",
   "execution_count": 83,
   "metadata": {},
   "outputs": [],
   "source": [
    "df.rename(columns={'intensity': 'ms2_peak_intensity', 'rt_distance': 'rt_delta', 'scan_distance': 'scan_delta', 'centroid_mz': 'ms2_peak_centroid_mz'}, inplace=True)"
   ]
  },
  {
   "cell_type": "code",
   "execution_count": null,
   "metadata": {},
   "outputs": [],
   "source": []
  }
 ],
 "metadata": {
  "kernelspec": {
   "display_name": "Python 2",
   "language": "python",
   "name": "python2"
  },
  "language_info": {
   "codemirror_mode": {
    "name": "ipython",
    "version": 2
   },
   "file_extension": ".py",
   "mimetype": "text/x-python",
   "name": "python",
   "nbconvert_exporter": "python",
   "pygments_lexer": "ipython2",
   "version": "2.7.15"
  }
 },
 "nbformat": 4,
 "nbformat_minor": 2
}
