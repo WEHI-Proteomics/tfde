{
 "cells": [
  {
   "cell_type": "code",
   "execution_count": 9,
   "metadata": {},
   "outputs": [],
   "source": [
    "import glob\n",
    "import os\n",
    "import shutil"
   ]
  },
  {
   "cell_type": "code",
   "execution_count": 10,
   "metadata": {},
   "outputs": [],
   "source": [
    "BASE_DIR = '/home/ubuntu/190719_Hela_Ecoli_1to1'\n",
    "RAW_DIR = '{}/raw'.format(BASE_DIR)\n",
    "CONVERTED_DIR = '{}/converted'.format(BASE_DIR)"
   ]
  },
  {
   "cell_type": "code",
   "execution_count": 42,
   "metadata": {},
   "outputs": [],
   "source": [
    "if os.path.exists(CONVERTED_DIR):\n",
    "    shutil.rmtree(CONVERTED_DIR)\n",
    "os.makedirs(CONVERTED_DIR)\n",
    "\n",
    "# make the converted directories\n",
    "for file in glob.glob(\"{}/*.d\".format(RAW_DIR)):\n",
    "    db_name = os.path.basename(file)\n",
    "    convert_dir_name = db_name.split('_Slot')[0]\n",
    "    os.makedirs('{}/{}'.format(CONVERTED_DIR, convert_dir_name))\n",
    "    cmd = \"nohup python -u ~/otf-peak-detect/original-pipeline/convert-instrument-db.py -sdb {}/{} -ddb {}/{}/{}-converted.sqlite > {}/{}.log 2>&1 &\".format(RAW_DIR, db_name, CONVERTED_DIR, convert_dir_name, convert_dir_name, BASE_DIR, convert_dir_name)\n",
    "    os.system(cmd)\n",
    "\n",
    "    "
   ]
  },
  {
   "cell_type": "code",
   "execution_count": null,
   "metadata": {},
   "outputs": [],
   "source": []
  }
 ],
 "metadata": {
  "kernelspec": {
   "display_name": "Python 3",
   "language": "python",
   "name": "python3"
  },
  "language_info": {
   "codemirror_mode": {
    "name": "ipython",
    "version": 3
   },
   "file_extension": ".py",
   "mimetype": "text/x-python",
   "name": "python",
   "nbconvert_exporter": "python",
   "pygments_lexer": "ipython3",
   "version": "3.6.8"
  }
 },
 "nbformat": 4,
 "nbformat_minor": 2
}
