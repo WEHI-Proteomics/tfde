{
 "cells": [
  {
   "cell_type": "code",
   "execution_count": 1,
   "metadata": {},
   "outputs": [],
   "source": [
    "import pandas as pd\n",
    "import numpy as np\n",
    "import sys\n",
    "import matplotlib.pyplot as plt\n",
    "import matplotlib.patches as patches\n",
    "import json\n",
    "from os.path import expanduser\n",
    "import pickle\n",
    "import random\n",
    "import time"
   ]
  },
  {
   "cell_type": "code",
   "execution_count": 2,
   "metadata": {},
   "outputs": [],
   "source": [
    "import tensorflow as tf\n",
    "from tensorflow import keras\n",
    "from keras.models import Sequential\n",
    "from keras.layers import Dense, BatchNormalization, Dropout\n",
    "from tensorflow.keras import layers\n",
    "from tensorflow.keras.layers.experimental import preprocessing"
   ]
  },
  {
   "cell_type": "code",
   "execution_count": 2,
   "metadata": {},
   "outputs": [],
   "source": [
    "run_name = 'P3856_YHE211_1_Slot1-1_1_5104'\n",
    "experiment_name = 'P3856'\n",
    "\n",
    "EXPERIMENT_DIR = '/media/big-ssd/experiments/{}'.format(experiment_name)\n",
    "\n",
    "# RESULTS_DIR = '/media/big-ssd/results-P3856'\n",
    "# IDENTS_PASEF_DIR = '{}/P3856-results-cs-true-fmdw-true-2021-05-20-02-44-34/identifications-pasef'.format(RESULTS_DIR)\n",
    "\n",
    "IDENTS_PASEF_DIR = '{}/identifications-pasef'.format(EXPERIMENT_DIR)\n",
    "IDENTS_PASEF_FILE = '{}/exp-{}-identifications-pasef-recalibrated.pkl'.format(IDENTS_PASEF_DIR, experiment_name)\n",
    "\n",
    "FEATURES_PASEF_DIR = '{}/features-pasef'.format(EXPERIMENT_DIR)\n",
    "FEATURES_PASEF_FILE = '{}/exp-{}-run-{}-features-pasef-dedup.pkl'.format(FEATURES_PASEF_DIR, experiment_name, run_name)"
   ]
  },
  {
   "cell_type": "code",
   "execution_count": 3,
   "metadata": {},
   "outputs": [],
   "source": [
    "# define a straight line to exclude the charge-1 cloud\n",
    "def scan_coords_for_single_charge_region(mz_lower, mz_upper):\n",
    "    scan_for_mz_lower = max(int(-1 * ((1.2 * mz_lower) - 1252)), 0)\n",
    "    scan_for_mz_upper = max(int(-1 * ((1.2 * mz_upper) - 1252)), 0)\n",
    "    return {'scan_for_mz_lower':scan_for_mz_lower, 'scan_for_mz_upper':scan_for_mz_upper}"
   ]
  },
  {
   "cell_type": "markdown",
   "metadata": {},
   "source": [
    "#### identified features"
   ]
  },
  {
   "cell_type": "code",
   "execution_count": 45,
   "metadata": {},
   "outputs": [],
   "source": [
    "MAXIMUM_Q_VALUE = 0.01"
   ]
  },
  {
   "cell_type": "code",
   "execution_count": 46,
   "metadata": {},
   "outputs": [],
   "source": [
    "# load the features identified\n",
    "with open(IDENTS_PASEF_FILE, 'rb') as handle:\n",
    "    d = pickle.load(handle)\n",
    "idents_df = d['identifications_df']\n",
    "idents_df = idents_df[(idents_df.run_name == run_name) & (idents_df['percolator q-value'] <= MAXIMUM_Q_VALUE)].copy()"
   ]
  },
  {
   "cell_type": "code",
   "execution_count": 47,
   "metadata": {},
   "outputs": [],
   "source": [
    "idents_df['excluded'] = idents_df.apply(lambda row: row.scan_apex < scan_coords_for_single_charge_region(row.monoisotopic_mz, row.monoisotopic_mz)['scan_for_mz_lower'], axis=1)\n",
    "idents_df = idents_df[(idents_df.excluded == False)]"
   ]
  },
  {
   "cell_type": "code",
   "execution_count": 48,
   "metadata": {},
   "outputs": [
    {
     "name": "stdout",
     "output_type": "stream",
     "text": [
      "8671 identifications\n"
     ]
    }
   ],
   "source": [
    "print('{} identifications'.format(len(idents_df)))"
   ]
  },
  {
   "cell_type": "markdown",
   "metadata": {},
   "source": [
    "#### detected features"
   ]
  },
  {
   "cell_type": "code",
   "execution_count": 49,
   "metadata": {},
   "outputs": [],
   "source": [
    "# load the features detected by PASEF\n",
    "with open(FEATURES_PASEF_FILE, 'rb') as handle:\n",
    "    d = pickle.load(handle)\n",
    "features_df = d['features_df']"
   ]
  },
  {
   "cell_type": "code",
   "execution_count": 50,
   "metadata": {},
   "outputs": [],
   "source": [
    "features_df['excluded'] = features_df.apply(lambda row: row.scan_apex < scan_coords_for_single_charge_region(row.monoisotopic_mz, row.monoisotopic_mz)['scan_for_mz_lower'], axis=1)\n",
    "features_df = features_df[(features_df.excluded == False)]"
   ]
  },
  {
   "cell_type": "code",
   "execution_count": 51,
   "metadata": {},
   "outputs": [
    {
     "name": "stdout",
     "output_type": "stream",
     "text": [
      "73311 features detected\n"
     ]
    }
   ],
   "source": [
    "print('{} features detected'.format(len(features_df)))"
   ]
  },
  {
   "cell_type": "code",
   "execution_count": 14,
   "metadata": {},
   "outputs": [],
   "source": [
    "sets_d = {'detected':set(), 'identified':set()}"
   ]
  },
  {
   "cell_type": "code",
   "execution_count": 15,
   "metadata": {},
   "outputs": [],
   "source": [
    "sets_d['detected'] = set(features_df.feature_id.tolist())\n",
    "sets_d['identified'] = set(idents_df.feature_id.tolist())"
   ]
  },
  {
   "cell_type": "code",
   "execution_count": 16,
   "metadata": {},
   "outputs": [
    {
     "data": {
      "image/png": "[encoded data removed]",
      "text/plain": [
       "<Figure size 1080x720 with 1 Axes>"
      ]
     },
     "metadata": {},
     "output_type": "display_data"
    }
   ],
   "source": [
    "import matplotlib.pyplot as plt\n",
    "from matplotlib_venn import venn2\n",
    "\n",
    "f, ax1 = plt.subplots()\n",
    "f.set_figheight(10)\n",
    "f.set_figwidth(15)\n",
    "\n",
    "plt.margins(0.06)\n",
    "plt.title('features detected and identified\\nexperiment {}, run {}'.format(experiment_name, run_name))\n",
    "\n",
    "venn2([sets_d['detected'],sets_d['identified']], ('detected','identified'))\n",
    "\n",
    "plt.show()"
   ]
  },
  {
   "cell_type": "markdown",
   "metadata": {},
   "source": [
    "#### build the training set"
   ]
  },
  {
   "cell_type": "code",
   "execution_count": 17,
   "metadata": {},
   "outputs": [],
   "source": [
    "# features detected but not identified\n",
    "features_not_identified = sets_d['detected'] - sets_d['identified']\n",
    "features_identified = sets_d['identified']"
   ]
  },
  {
   "cell_type": "code",
   "execution_count": 18,
   "metadata": {},
   "outputs": [
    {
     "data": {
      "text/plain": [
       "(64640, 8671)"
      ]
     },
     "execution_count": 18,
     "metadata": {},
     "output_type": "execute_result"
    }
   ],
   "source": [
    "len(features_not_identified), len(features_identified)"
   ]
  },
  {
   "cell_type": "code",
   "execution_count": 19,
   "metadata": {},
   "outputs": [],
   "source": [
    "features_not_identified_df = features_df[features_df.feature_id.isin(features_not_identified)]\n",
    "features_identified_df = features_df[features_df.feature_id.isin(features_identified)]"
   ]
  },
  {
   "cell_type": "code",
   "execution_count": 20,
   "metadata": {},
   "outputs": [],
   "source": [
    "SAMPLE_SIZE = 8500"
   ]
  },
  {
   "cell_type": "code",
   "execution_count": 21,
   "metadata": {},
   "outputs": [],
   "source": [
    "features_not_identified_df = features_not_identified_df.sample(n=SAMPLE_SIZE)\n",
    "features_not_identified_df['category'] = 0\n",
    "\n",
    "features_identified_df = features_identified_df.sample(n=SAMPLE_SIZE)\n",
    "features_identified_df['category'] = 1"
   ]
  },
  {
   "cell_type": "code",
   "execution_count": 27,
   "metadata": {},
   "outputs": [],
   "source": [
    "combined_df = pd.concat([features_not_identified_df, features_identified_df], axis=0, sort=False, ignore_index=True)"
   ]
  },
  {
   "cell_type": "code",
   "execution_count": 28,
   "metadata": {},
   "outputs": [
    {
     "data": {
      "text/plain": [
       "mono_mz_lower                               0\n",
       "mono_mz_upper                               0\n",
       "scan_apex                                   0\n",
       "scan_lower                                  0\n",
       "scan_upper                                  0\n",
       "rt_apex                                     0\n",
       "rt_lower                                    0\n",
       "rt_upper                                    0\n",
       "intensity_without_saturation_correction     0\n",
       "intensity_with_saturation_correction        0\n",
       "mono_intensity_adjustment_outcome           0\n",
       "mono_mz                                     0\n",
       "isotopic_peaks                              0\n",
       "coelution_coefficient                      38\n",
       "mobility_coefficient                       51\n",
       "scan_df                                     0\n",
       "rt_df                                       0\n",
       "monoisotopic_mz                             0\n",
       "charge                                      0\n",
       "monoisotopic_mass                           0\n",
       "feature_intensity                           0\n",
       "envelope                                    0\n",
       "isotope_count                               0\n",
       "deconvolution_score                         0\n",
       "precursor_cuboid_id                         0\n",
       "fragment_ions_l                             0\n",
       "fmdw_before_after_d                         0\n",
       "feature_id                                  0\n",
       "run_name                                    0\n",
       "excluded                                    0\n",
       "category                                    0\n",
       "dtype: int64"
      ]
     },
     "execution_count": 28,
     "metadata": {},
     "output_type": "execute_result"
    }
   ],
   "source": [
    "combined_df.isna().sum()"
   ]
  },
  {
   "cell_type": "code",
   "execution_count": 29,
   "metadata": {},
   "outputs": [],
   "source": [
    "combined_df.fillna(0, inplace=True)"
   ]
  },
  {
   "cell_type": "code",
   "execution_count": 30,
   "metadata": {},
   "outputs": [],
   "source": [
    "feature_ids_l = combined_df.feature_id.tolist()"
   ]
  },
  {
   "cell_type": "code",
   "execution_count": 31,
   "metadata": {},
   "outputs": [],
   "source": [
    "train_proportion = 0.8\n",
    "val_proportion = 0.1"
   ]
  },
  {
   "cell_type": "code",
   "execution_count": 32,
   "metadata": {},
   "outputs": [],
   "source": [
    "train_n = round(len(feature_ids_l) * train_proportion)\n",
    "val_n = round(len(feature_ids_l) * val_proportion)"
   ]
  },
  {
   "cell_type": "code",
   "execution_count": 33,
   "metadata": {},
   "outputs": [],
   "source": [
    "train_set = random.sample(feature_ids_l, train_n)\n",
    "val_test_set = list(set(feature_ids_l) - set(train_set))\n",
    "val_set = random.sample(val_test_set, val_n)\n",
    "test_set = list(set(val_test_set) - set(val_set))"
   ]
  },
  {
   "cell_type": "code",
   "execution_count": 34,
   "metadata": {},
   "outputs": [],
   "source": [
    "train_df = combined_df[combined_df.feature_id.isin(train_set)]\n",
    "valid_df = combined_df[combined_df.feature_id.isin(val_set)]\n",
    "test_df = combined_df[combined_df.feature_id.isin(test_set)]"
   ]
  },
  {
   "cell_type": "code",
   "execution_count": 35,
   "metadata": {},
   "outputs": [
    {
     "name": "stdout",
     "output_type": "stream",
     "text": [
      "train: 13600 (80%), validation: 1700 (10%), test: 1700 (10%)\n"
     ]
    }
   ],
   "source": [
    "print('train: {} ({}%), validation: {} ({}%), test: {} ({}%)'.format(len(train_df), round(len(train_df)/len(combined_df)*100), len(test_df), round(len(test_df)/len(combined_df)*100), len(valid_df), round(len(valid_df)/len(combined_df)*100)))\n"
   ]
  },
  {
   "cell_type": "code",
   "execution_count": 10,
   "metadata": {},
   "outputs": [],
   "source": [
    "input_names = ['deconvolution_score','coelution_coefficient','mobility_coefficient','isotope_count']"
   ]
  },
  {
   "cell_type": "code",
   "execution_count": 37,
   "metadata": {},
   "outputs": [],
   "source": [
    "X_train = train_df[input_names].to_numpy()\n",
    "y_train = train_df[['category']].to_numpy()[:,0]"
   ]
  },
  {
   "cell_type": "code",
   "execution_count": 38,
   "metadata": {},
   "outputs": [],
   "source": [
    "X_valid = valid_df[input_names].to_numpy()\n",
    "y_valid = valid_df[['category']].to_numpy()[:,0]"
   ]
  },
  {
   "cell_type": "code",
   "execution_count": 39,
   "metadata": {},
   "outputs": [],
   "source": [
    "X_test = test_df[input_names].to_numpy()\n",
    "y_test = test_df[['category']].to_numpy()[:,0]"
   ]
  },
  {
   "cell_type": "code",
   "execution_count": 49,
   "metadata": {},
   "outputs": [],
   "source": [
    "# define the keras model\n",
    "model = Sequential()\n",
    "model.add(BatchNormalization(input_shape=(4,)))\n",
    "model.add(Dense(200, activation='relu'))\n",
    "model.add(Dropout(0.4))\n",
    "model.add(BatchNormalization())\n",
    "model.add(Dense(200, activation='relu'))\n",
    "model.add(Dropout(0.4))\n",
    "model.add(BatchNormalization())\n",
    "model.add(Dense(200, activation='relu'))\n",
    "model.add(Dropout(0.4))\n",
    "model.add(BatchNormalization())\n",
    "model.add(Dense(1, activation='sigmoid'))"
   ]
  },
  {
   "cell_type": "code",
   "execution_count": 50,
   "metadata": {},
   "outputs": [],
   "source": [
    "# compile the keras model\n",
    "model.compile(loss='binary_crossentropy', optimizer='adam', metrics=['binary_accuracy'])"
   ]
  },
  {
   "cell_type": "code",
   "execution_count": 51,
   "metadata": {},
   "outputs": [],
   "source": [
    "# fit the keras model on the dataset\n",
    "history = model.fit(X_train, \n",
    "                    y_train, \n",
    "                    validation_data=(X_valid, y_valid),\n",
    "                    epochs=4000, \n",
    "                    batch_size=512,\n",
    "                    verbose=0)"
   ]
  },
  {
   "cell_type": "code",
   "execution_count": 52,
   "metadata": {},
   "outputs": [
    {
     "name": "stdout",
     "output_type": "stream",
     "text": [
      "best validation loss: 0.3131\n",
      "best validation accuracy: 0.8782\n"
     ]
    },
    {
     "data": {
      "image/png": "[encoded data removed]",
      "text/plain": [
       "<Figure size 432x288 with 1 Axes>"
      ]
     },
     "metadata": {
      "needs_background": "light"
     },
     "output_type": "display_data"
    },
    {
     "data": {
      "image/png": "[encoded data removed]",
      "text/plain": [
       "<Figure size 432x288 with 1 Axes>"
      ]
     },
     "metadata": {
      "needs_background": "light"
     },
     "output_type": "display_data"
    }
   ],
   "source": [
    "history_df = pd.DataFrame(history.history)\n",
    "history_df.loc[5:, ['loss', 'val_loss']].plot()\n",
    "history_df.loc[5:, ['binary_accuracy', 'val_binary_accuracy']].plot()\n",
    "print((\"best validation loss: {:0.4f}\"+\"\\nbest validation accuracy: {:0.4f}\").format(history_df['val_loss'].min(), history_df['val_binary_accuracy'].max()))"
   ]
  },
  {
   "cell_type": "markdown",
   "metadata": {},
   "source": [
    "#### evaluate the model on the test data"
   ]
  },
  {
   "cell_type": "code",
   "execution_count": null,
   "metadata": {},
   "outputs": [],
   "source": [
    "results = model.evaluate(X_test, y_test, batch_size=128)\n",
    "print(\"test loss, test acc:\", results)"
   ]
  },
  {
   "cell_type": "markdown",
   "metadata": {},
   "source": [
    "#### save the model"
   ]
  },
  {
   "cell_type": "code",
   "execution_count": 53,
   "metadata": {},
   "outputs": [
    {
     "name": "stdout",
     "output_type": "stream",
     "text": [
      "INFO:tensorflow:Assets written to: feature_classifier/assets\n"
     ]
    }
   ],
   "source": [
    "model.save(\"{}/feature_classifier\".format(expanduser('~')))"
   ]
  },
  {
   "cell_type": "markdown",
   "metadata": {},
   "source": [
    "#### load the model"
   ]
  },
  {
   "cell_type": "code",
   "execution_count": 3,
   "metadata": {},
   "outputs": [],
   "source": [
    "MODEL_DIR = '{}/feature_classifier'.format(expanduser('~'))"
   ]
  },
  {
   "cell_type": "code",
   "execution_count": 4,
   "metadata": {},
   "outputs": [],
   "source": [
    "reconstructed_model = keras.models.load_model(MODEL_DIR)"
   ]
  },
  {
   "cell_type": "markdown",
   "metadata": {},
   "source": [
    "#### use the model to classify the 3DID features"
   ]
  },
  {
   "cell_type": "code",
   "execution_count": 5,
   "metadata": {},
   "outputs": [],
   "source": [
    "experiment_name = 'P3856'\n",
    "run_name = 'P3856_YHE211_1_Slot1-1_1_5104'\n",
    "\n",
    "EXPERIMENT_DIR = '/media/big-ssd/experiments/{}'.format(experiment_name)\n",
    "FEATURES_3DID_DIR = '{}/features-3did'.format(EXPERIMENT_DIR)\n",
    "FEATURES_3DID_FILE = '{}/exp-{}-run-{}-features-3did.pkl'.format(FEATURES_3DID_DIR, experiment_name, run_name)\n",
    "FEATURES_3DID_IDENT_FILE = '{}/exp-{}-run-{}-features-3did-ident.pkl'.format(FEATURES_3DID_DIR, experiment_name, run_name)"
   ]
  },
  {
   "cell_type": "code",
   "execution_count": 6,
   "metadata": {},
   "outputs": [],
   "source": [
    "# load the features detected by 3DID\n",
    "with open(FEATURES_3DID_FILE, 'rb') as handle:\n",
    "    d = pickle.load(handle)\n",
    "features_3did_df = d['features_df']\n",
    "# features_3did_metadata = d['metadata']"
   ]
  },
  {
   "cell_type": "code",
   "execution_count": 7,
   "metadata": {},
   "outputs": [],
   "source": [
    "features_3did_metadata = d['metadata']"
   ]
  },
  {
   "cell_type": "code",
   "execution_count": 8,
   "metadata": {},
   "outputs": [],
   "source": [
    "features_3did_df.fillna(0, inplace=True)"
   ]
  },
  {
   "cell_type": "code",
   "execution_count": 11,
   "metadata": {},
   "outputs": [],
   "source": [
    "predictions = reconstructed_model.predict(features_3did_df[input_names].to_numpy())"
   ]
  },
  {
   "cell_type": "code",
   "execution_count": 12,
   "metadata": {},
   "outputs": [],
   "source": [
    "features_3did_df['prediction'] = predictions"
   ]
  },
  {
   "cell_type": "code",
   "execution_count": 13,
   "metadata": {},
   "outputs": [
    {
     "data": {
      "text/html": [
       "<div>\n",
       "<style scoped>\n",
       "    .dataframe tbody tr th:only-of-type {\n",
       "        vertical-align: middle;\n",
       "    }\n",
       "\n",
       "    .dataframe tbody tr th {\n",
       "        vertical-align: top;\n",
       "    }\n",
       "\n",
       "    .dataframe thead th {\n",
       "        text-align: right;\n",
       "    }\n",
       "</style>\n",
       "<table border=\"1\" class=\"dataframe\">\n",
       "  <thead>\n",
       "    <tr style=\"text-align: right;\">\n",
       "      <th></th>\n",
       "      <th>mono_mz_lower</th>\n",
       "      <th>mono_mz_upper</th>\n",
       "      <th>scan_apex</th>\n",
       "      <th>scan_lower</th>\n",
       "      <th>scan_upper</th>\n",
       "      <th>rt_apex</th>\n",
       "      <th>rt_lower</th>\n",
       "      <th>rt_upper</th>\n",
       "      <th>intensity_without_saturation_correction</th>\n",
       "      <th>intensity_with_saturation_correction</th>\n",
       "      <th>...</th>\n",
       "      <th>deconvolution_score</th>\n",
       "      <th>feature_region_3d_extent</th>\n",
       "      <th>voxel_id</th>\n",
       "      <th>voxel_metadata_d</th>\n",
       "      <th>scan_df</th>\n",
       "      <th>scan_r_squared</th>\n",
       "      <th>rt_df</th>\n",
       "      <th>rt_r_squared</th>\n",
       "      <th>feature_id</th>\n",
       "      <th>prediction</th>\n",
       "    </tr>\n",
       "  </thead>\n",
       "  <tbody>\n",
       "    <tr>\n",
       "      <th>37438</th>\n",
       "      <td>971.973291</td>\n",
       "      <td>972.035206</td>\n",
       "      <td>109.0</td>\n",
       "      <td>92.0</td>\n",
       "      <td>148.0</td>\n",
       "      <td>1894.443005</td>\n",
       "      <td>1881.739916</td>\n",
       "      <td>1911.379317</td>\n",
       "      <td>1012</td>\n",
       "      <td>1012</td>\n",
       "      <td>...</td>\n",
       "      <td>851.372060</td>\n",
       "      <td>{'mz_lower': 969.9033949673435, 'mz_upper': 97...</td>\n",
       "      <td>440025601</td>\n",
       "      <td>{'mz_lower': 970.4531437110621, 'mz_upper': 97...</td>\n",
       "      <td>[{'scan': 91, 'intensity': 272, 'filtered_inte...</td>\n",
       "      <td>0.941638</td>\n",
       "      <td>[{'frame_id': 16762, 'retention_time_secs': 18...</td>\n",
       "      <td>0.973916</td>\n",
       "      <td>37438</td>\n",
       "      <td>0.879380</td>\n",
       "    </tr>\n",
       "    <tr>\n",
       "      <th>514102</th>\n",
       "      <td>666.349477</td>\n",
       "      <td>666.391924</td>\n",
       "      <td>642.0</td>\n",
       "      <td>617.0</td>\n",
       "      <td>659.0</td>\n",
       "      <td>2177.577791</td>\n",
       "      <td>2172.577791</td>\n",
       "      <td>2182.870203</td>\n",
       "      <td>770</td>\n",
       "      <td>770</td>\n",
       "      <td>...</td>\n",
       "      <td>83.179964</td>\n",
       "      <td>{'mz_lower': 664.2745707831714, 'mz_upper': 66...</td>\n",
       "      <td>290007490</td>\n",
       "      <td>{'mz_lower': 664.82431952689, 'mz_upper': 664....</td>\n",
       "      <td>[{'scan': 611, 'intensity': 44, 'filtered_inte...</td>\n",
       "      <td>0.992461</td>\n",
       "      <td>[{'frame_id': 19412, 'retention_time_secs': 21...</td>\n",
       "      <td>0.985746</td>\n",
       "      <td>514102</td>\n",
       "      <td>0.001329</td>\n",
       "    </tr>\n",
       "    <tr>\n",
       "      <th>526292</th>\n",
       "      <td>849.465422</td>\n",
       "      <td>849.519534</td>\n",
       "      <td>396.0</td>\n",
       "      <td>372.0</td>\n",
       "      <td>406.0</td>\n",
       "      <td>1789.116906</td>\n",
       "      <td>1785.411382</td>\n",
       "      <td>1794.116906</td>\n",
       "      <td>4549</td>\n",
       "      <td>4549</td>\n",
       "      <td>...</td>\n",
       "      <td>649.692991</td>\n",
       "      <td>{'mz_lower': 848.8975961378316, 'mz_upper': 85...</td>\n",
       "      <td>380002173</td>\n",
       "      <td>{'mz_lower': 849.4473448815502, 'mz_upper': 84...</td>\n",
       "      <td>[{'scan': 359, 'intensity': 9, 'filtered_inten...</td>\n",
       "      <td>0.993799</td>\n",
       "      <td>[{'frame_id': 15722, 'retention_time_secs': 17...</td>\n",
       "      <td>0.986814</td>\n",
       "      <td>526292</td>\n",
       "      <td>0.840722</td>\n",
       "    </tr>\n",
       "  </tbody>\n",
       "</table>\n",
       "<p>3 rows × 32 columns</p>\n",
       "</div>"
      ],
      "text/plain": [
       "        mono_mz_lower  mono_mz_upper  scan_apex  scan_lower  scan_upper  \\\n",
       "37438      971.973291     972.035206      109.0        92.0       148.0   \n",
       "514102     666.349477     666.391924      642.0       617.0       659.0   \n",
       "526292     849.465422     849.519534      396.0       372.0       406.0   \n",
       "\n",
       "            rt_apex     rt_lower     rt_upper  \\\n",
       "37438   1894.443005  1881.739916  1911.379317   \n",
       "514102  2177.577791  2172.577791  2182.870203   \n",
       "526292  1789.116906  1785.411382  1794.116906   \n",
       "\n",
       "        intensity_without_saturation_correction  \\\n",
       "37438                                      1012   \n",
       "514102                                      770   \n",
       "526292                                     4549   \n",
       "\n",
       "        intensity_with_saturation_correction  ... deconvolution_score  \\\n",
       "37438                                   1012  ...          851.372060   \n",
       "514102                                   770  ...           83.179964   \n",
       "526292                                  4549  ...          649.692991   \n",
       "\n",
       "                                 feature_region_3d_extent   voxel_id  \\\n",
       "37438   {'mz_lower': 969.9033949673435, 'mz_upper': 97...  440025601   \n",
       "514102  {'mz_lower': 664.2745707831714, 'mz_upper': 66...  290007490   \n",
       "526292  {'mz_lower': 848.8975961378316, 'mz_upper': 85...  380002173   \n",
       "\n",
       "                                         voxel_metadata_d  \\\n",
       "37438   {'mz_lower': 970.4531437110621, 'mz_upper': 97...   \n",
       "514102  {'mz_lower': 664.82431952689, 'mz_upper': 664....   \n",
       "526292  {'mz_lower': 849.4473448815502, 'mz_upper': 84...   \n",
       "\n",
       "                                                  scan_df scan_r_squared  \\\n",
       "37438   [{'scan': 91, 'intensity': 272, 'filtered_inte...       0.941638   \n",
       "514102  [{'scan': 611, 'intensity': 44, 'filtered_inte...       0.992461   \n",
       "526292  [{'scan': 359, 'intensity': 9, 'filtered_inten...       0.993799   \n",
       "\n",
       "                                                    rt_df  rt_r_squared  \\\n",
       "37438   [{'frame_id': 16762, 'retention_time_secs': 18...      0.973916   \n",
       "514102  [{'frame_id': 19412, 'retention_time_secs': 21...      0.985746   \n",
       "526292  [{'frame_id': 15722, 'retention_time_secs': 17...      0.986814   \n",
       "\n",
       "        feature_id  prediction  \n",
       "37438        37438    0.879380  \n",
       "514102      514102    0.001329  \n",
       "526292      526292    0.840722  \n",
       "\n",
       "[3 rows x 32 columns]"
      ]
     },
     "execution_count": 13,
     "metadata": {},
     "output_type": "execute_result"
    }
   ],
   "source": [
    "features_3did_df.sample(n=3)"
   ]
  },
  {
   "cell_type": "code",
   "execution_count": 14,
   "metadata": {},
   "outputs": [],
   "source": [
    "features_3did_df['identification_predicted'] = features_3did_df.apply(lambda row: row.prediction >= 0.5, axis=1)"
   ]
  },
  {
   "cell_type": "code",
   "execution_count": 15,
   "metadata": {},
   "outputs": [
    {
     "data": {
      "text/html": [
       "<div>\n",
       "<style scoped>\n",
       "    .dataframe tbody tr th:only-of-type {\n",
       "        vertical-align: middle;\n",
       "    }\n",
       "\n",
       "    .dataframe tbody tr th {\n",
       "        vertical-align: top;\n",
       "    }\n",
       "\n",
       "    .dataframe thead th {\n",
       "        text-align: right;\n",
       "    }\n",
       "</style>\n",
       "<table border=\"1\" class=\"dataframe\">\n",
       "  <thead>\n",
       "    <tr style=\"text-align: right;\">\n",
       "      <th></th>\n",
       "      <th>mono_mz_lower</th>\n",
       "      <th>mono_mz_upper</th>\n",
       "      <th>scan_apex</th>\n",
       "      <th>scan_lower</th>\n",
       "      <th>scan_upper</th>\n",
       "      <th>rt_apex</th>\n",
       "      <th>rt_lower</th>\n",
       "      <th>rt_upper</th>\n",
       "      <th>intensity_without_saturation_correction</th>\n",
       "      <th>intensity_with_saturation_correction</th>\n",
       "      <th>...</th>\n",
       "      <th>feature_region_3d_extent</th>\n",
       "      <th>voxel_id</th>\n",
       "      <th>voxel_metadata_d</th>\n",
       "      <th>scan_df</th>\n",
       "      <th>scan_r_squared</th>\n",
       "      <th>rt_df</th>\n",
       "      <th>rt_r_squared</th>\n",
       "      <th>feature_id</th>\n",
       "      <th>prediction</th>\n",
       "      <th>identification_predicted</th>\n",
       "    </tr>\n",
       "  </thead>\n",
       "  <tbody>\n",
       "    <tr>\n",
       "      <th>732212</th>\n",
       "      <td>698.349444</td>\n",
       "      <td>698.393930</td>\n",
       "      <td>687.0</td>\n",
       "      <td>664.0</td>\n",
       "      <td>703.0</td>\n",
       "      <td>1880.151633</td>\n",
       "      <td>1867.452436</td>\n",
       "      <td>1885.151633</td>\n",
       "      <td>880</td>\n",
       "      <td>880</td>\n",
       "      <td>...</td>\n",
       "      <td>{'mz_lower': 696.2344011217491, 'mz_upper': 69...</td>\n",
       "      <td>300015367</td>\n",
       "      <td>{'mz_lower': 696.7841498654677, 'mz_upper': 69...</td>\n",
       "      <td>[{'scan': 647, 'intensity': 45, 'filtered_inte...</td>\n",
       "      <td>0.978210</td>\n",
       "      <td>[{'frame_id': 16527, 'retention_time_secs': 18...</td>\n",
       "      <td>0.938490</td>\n",
       "      <td>732212</td>\n",
       "      <td>0.525583</td>\n",
       "      <td>True</td>\n",
       "    </tr>\n",
       "    <tr>\n",
       "      <th>135506</th>\n",
       "      <td>735.284566</td>\n",
       "      <td>735.331405</td>\n",
       "      <td>666.0</td>\n",
       "      <td>651.0</td>\n",
       "      <td>676.0</td>\n",
       "      <td>2052.674951</td>\n",
       "      <td>2045.792085</td>\n",
       "      <td>2059.025818</td>\n",
       "      <td>821</td>\n",
       "      <td>821</td>\n",
       "      <td>...</td>\n",
       "      <td>{'mz_lower': 733.2225753333186, 'mz_upper': 73...</td>\n",
       "      <td>320022330</td>\n",
       "      <td>{'mz_lower': 733.7723240770372, 'mz_upper': 73...</td>\n",
       "      <td>[{'scan': 639, 'intensity': 194, 'filtered_int...</td>\n",
       "      <td>0.953243</td>\n",
       "      <td>[{'frame_id': 18227, 'retention_time_secs': 20...</td>\n",
       "      <td>0.968631</td>\n",
       "      <td>135506</td>\n",
       "      <td>0.002139</td>\n",
       "      <td>False</td>\n",
       "    </tr>\n",
       "    <tr>\n",
       "      <th>94884</th>\n",
       "      <td>936.992878</td>\n",
       "      <td>937.052565</td>\n",
       "      <td>152.0</td>\n",
       "      <td>128.0</td>\n",
       "      <td>175.0</td>\n",
       "      <td>1962.182328</td>\n",
       "      <td>1959.536860</td>\n",
       "      <td>1972.237702</td>\n",
       "      <td>590</td>\n",
       "      <td>590</td>\n",
       "      <td>...</td>\n",
       "      <td>{'mz_lower': 936.8403915276402, 'mz_upper': 94...</td>\n",
       "      <td>420021035</td>\n",
       "      <td>{'mz_lower': 937.3901402713589, 'mz_upper': 93...</td>\n",
       "      <td>[{'scan': 124, 'intensity': 158, 'filtered_int...</td>\n",
       "      <td>0.998815</td>\n",
       "      <td>[{'frame_id': 17332, 'retention_time_secs': 19...</td>\n",
       "      <td>0.992838</td>\n",
       "      <td>94884</td>\n",
       "      <td>0.000866</td>\n",
       "      <td>False</td>\n",
       "    </tr>\n",
       "  </tbody>\n",
       "</table>\n",
       "<p>3 rows × 33 columns</p>\n",
       "</div>"
      ],
      "text/plain": [
       "        mono_mz_lower  mono_mz_upper  scan_apex  scan_lower  scan_upper  \\\n",
       "732212     698.349444     698.393930      687.0       664.0       703.0   \n",
       "135506     735.284566     735.331405      666.0       651.0       676.0   \n",
       "94884      936.992878     937.052565      152.0       128.0       175.0   \n",
       "\n",
       "            rt_apex     rt_lower     rt_upper  \\\n",
       "732212  1880.151633  1867.452436  1885.151633   \n",
       "135506  2052.674951  2045.792085  2059.025818   \n",
       "94884   1962.182328  1959.536860  1972.237702   \n",
       "\n",
       "        intensity_without_saturation_correction  \\\n",
       "732212                                      880   \n",
       "135506                                      821   \n",
       "94884                                       590   \n",
       "\n",
       "        intensity_with_saturation_correction  ...  \\\n",
       "732212                                   880  ...   \n",
       "135506                                   821  ...   \n",
       "94884                                    590  ...   \n",
       "\n",
       "                                 feature_region_3d_extent   voxel_id  \\\n",
       "732212  {'mz_lower': 696.2344011217491, 'mz_upper': 69...  300015367   \n",
       "135506  {'mz_lower': 733.2225753333186, 'mz_upper': 73...  320022330   \n",
       "94884   {'mz_lower': 936.8403915276402, 'mz_upper': 94...  420021035   \n",
       "\n",
       "                                         voxel_metadata_d  \\\n",
       "732212  {'mz_lower': 696.7841498654677, 'mz_upper': 69...   \n",
       "135506  {'mz_lower': 733.7723240770372, 'mz_upper': 73...   \n",
       "94884   {'mz_lower': 937.3901402713589, 'mz_upper': 93...   \n",
       "\n",
       "                                                  scan_df  scan_r_squared  \\\n",
       "732212  [{'scan': 647, 'intensity': 45, 'filtered_inte...        0.978210   \n",
       "135506  [{'scan': 639, 'intensity': 194, 'filtered_int...        0.953243   \n",
       "94884   [{'scan': 124, 'intensity': 158, 'filtered_int...        0.998815   \n",
       "\n",
       "                                                    rt_df  rt_r_squared  \\\n",
       "732212  [{'frame_id': 16527, 'retention_time_secs': 18...      0.938490   \n",
       "135506  [{'frame_id': 18227, 'retention_time_secs': 20...      0.968631   \n",
       "94884   [{'frame_id': 17332, 'retention_time_secs': 19...      0.992838   \n",
       "\n",
       "        feature_id  prediction  identification_predicted  \n",
       "732212      732212    0.525583                      True  \n",
       "135506      135506    0.002139                     False  \n",
       "94884        94884    0.000866                     False  \n",
       "\n",
       "[3 rows x 33 columns]"
      ]
     },
     "execution_count": 15,
     "metadata": {},
     "output_type": "execute_result"
    }
   ],
   "source": [
    "features_3did_df.sample(n=3)"
   ]
  },
  {
   "cell_type": "code",
   "execution_count": 16,
   "metadata": {},
   "outputs": [],
   "source": [
    "sets_d = {'detected':set(), 'identification predicted':set()}"
   ]
  },
  {
   "cell_type": "code",
   "execution_count": 17,
   "metadata": {},
   "outputs": [],
   "source": [
    "sets_d['detected'] = set(features_3did_df.feature_id.tolist())\n",
    "sets_d['identification predicted'] = set(features_3did_df[(features_3did_df.identification_predicted == True)].feature_id.tolist())"
   ]
  },
  {
   "cell_type": "code",
   "execution_count": 18,
   "metadata": {},
   "outputs": [
    {
     "data": {
      "image/png": "[encoded data removed]",
      "text/plain": [
       "<Figure size 1080x720 with 1 Axes>"
      ]
     },
     "metadata": {},
     "output_type": "display_data"
    }
   ],
   "source": [
    "import matplotlib.pyplot as plt\n",
    "from matplotlib_venn import venn2\n",
    "\n",
    "f, ax1 = plt.subplots()\n",
    "f.set_figheight(10)\n",
    "f.set_figwidth(15)\n",
    "\n",
    "plt.margins(0.06)\n",
    "plt.title('features detected with 3DID and identification predicted\\nexperiment {}, run {}'.format(experiment_name, run_name))\n",
    "\n",
    "venn2([sets_d['detected'],sets_d['identification predicted']], ('detected','identification predicted'))\n",
    "\n",
    "plt.show()"
   ]
  },
  {
   "cell_type": "code",
   "execution_count": 19,
   "metadata": {},
   "outputs": [],
   "source": [
    "# filter out the features unlikely to be identified\n",
    "features_3did_df = features_3did_df[(features_3did_df.identification_predicted == True)]"
   ]
  },
  {
   "cell_type": "code",
   "execution_count": 20,
   "metadata": {},
   "outputs": [],
   "source": [
    "info = []\n",
    "info.append(('experiment_base_dir', EXPERIMENT_DIR))\n",
    "info.append(('experiment_name', experiment_name))\n",
    "info.append(('run_name', run_name))\n",
    "info.append(('model', MODEL_DIR))\n",
    "info.append(('processor', 'paper 4 - feature classifier.ipynb'))\n",
    "info.append(('processed', time.ctime()))"
   ]
  },
  {
   "cell_type": "code",
   "execution_count": 21,
   "metadata": {},
   "outputs": [
    {
     "name": "stdout",
     "output_type": "stream",
     "text": [
      "writing 437945 features to /media/big-ssd/experiments/P3856/features-3did/exp-P3856-run-P3856_YHE211_1_Slot1-1_1_5104-features-3did-ident.pkl\n"
     ]
    }
   ],
   "source": [
    "print('writing {} features to {}'.format(len(features_3did_df), FEATURES_3DID_IDENT_FILE))\n",
    "content_d = {'features_df':features_3did_df, 'metadata':info}\n",
    "with open(FEATURES_3DID_IDENT_FILE, 'wb') as handle:\n",
    "    pickle.dump(content_d, handle)"
   ]
  },
  {
   "cell_type": "code",
   "execution_count": null,
   "metadata": {},
   "outputs": [],
   "source": []
  }
 ],
 "metadata": {
  "kernelspec": {
   "display_name": "Python 3",
   "language": "python",
   "name": "python3"
  },
  "language_info": {
   "codemirror_mode": {
    "name": "ipython",
    "version": 3
   },
   "file_extension": ".py",
   "mimetype": "text/x-python",
   "name": "python",
   "nbconvert_exporter": "python",
   "pygments_lexer": "ipython3",
   "version": "3.8.5"
  }
 },
 "nbformat": 4,
 "nbformat_minor": 4
}
