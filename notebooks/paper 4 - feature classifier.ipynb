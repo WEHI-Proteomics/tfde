{
 "cells": [
  {
   "cell_type": "code",
   "execution_count": 1,
   "metadata": {},
   "outputs": [],
   "source": [
    "import pandas as pd\n",
    "import numpy as np\n",
    "import sys\n",
    "import matplotlib.pyplot as plt\n",
    "import matplotlib.patches as patches\n",
    "import json\n",
    "from os.path import expanduser\n",
    "import pickle\n",
    "import random\n",
    "import time"
   ]
  },
  {
   "cell_type": "code",
   "execution_count": 2,
   "metadata": {},
   "outputs": [],
   "source": [
    "import tensorflow as tf\n",
    "from tensorflow import keras\n",
    "from keras.models import Sequential\n",
    "from keras.layers import Dense, BatchNormalization, Dropout\n",
    "from tensorflow.keras import layers\n",
    "from tensorflow.keras.layers.experimental import preprocessing"
   ]
  },
  {
   "cell_type": "code",
   "execution_count": 3,
   "metadata": {},
   "outputs": [],
   "source": [
    "run_name = 'P3856_YHE211_1_Slot1-1_1_5104'\n",
    "experiment_name = 'P3856'\n",
    "\n",
    "EXPERIMENT_DIR = '/media/big-ssd/experiments/{}'.format(experiment_name)\n",
    "\n",
    "# RESULTS_DIR = '/media/big-ssd/results-P3856'\n",
    "# IDENTS_PASEF_DIR = '{}/P3856-results-cs-true-fmdw-true-2021-05-20-02-44-34/identifications-pasef'.format(RESULTS_DIR)\n",
    "\n",
    "IDENTS_PASEF_DIR = '{}/identifications-pasef'.format(EXPERIMENT_DIR)\n",
    "IDENTS_PASEF_FILE = '{}/exp-{}-identifications-pasef-recalibrated.pkl'.format(IDENTS_PASEF_DIR, experiment_name)\n",
    "\n",
    "FEATURES_PASEF_DIR = '{}/features-pasef'.format(EXPERIMENT_DIR)\n",
    "FEATURES_PASEF_FILE = '{}/exp-{}-run-{}-features-pasef-dedup.pkl'.format(FEATURES_PASEF_DIR, experiment_name, run_name)"
   ]
  },
  {
   "cell_type": "code",
   "execution_count": 4,
   "metadata": {},
   "outputs": [],
   "source": [
    "# define a straight line to exclude the charge-1 cloud\n",
    "def scan_coords_for_single_charge_region(mz_lower, mz_upper):\n",
    "    scan_for_mz_lower = max(int(-1 * ((1.2 * mz_lower) - 1252)), 0)\n",
    "    scan_for_mz_upper = max(int(-1 * ((1.2 * mz_upper) - 1252)), 0)\n",
    "    return {'scan_for_mz_lower':scan_for_mz_lower, 'scan_for_mz_upper':scan_for_mz_upper}"
   ]
  },
  {
   "cell_type": "markdown",
   "metadata": {},
   "source": [
    "#### identified features"
   ]
  },
  {
   "cell_type": "code",
   "execution_count": 5,
   "metadata": {},
   "outputs": [],
   "source": [
    "MAXIMUM_Q_VALUE = 0.01"
   ]
  },
  {
   "cell_type": "code",
   "execution_count": 6,
   "metadata": {},
   "outputs": [],
   "source": [
    "# load the features identified\n",
    "with open(IDENTS_PASEF_FILE, 'rb') as handle:\n",
    "    d = pickle.load(handle)\n",
    "idents_df = d['identifications_df']\n",
    "idents_df = idents_df[(idents_df.run_name == run_name) & (idents_df['percolator q-value'] <= MAXIMUM_Q_VALUE)].copy()"
   ]
  },
  {
   "cell_type": "code",
   "execution_count": 7,
   "metadata": {},
   "outputs": [],
   "source": [
    "idents_df['excluded'] = idents_df.apply(lambda row: row.scan_apex < scan_coords_for_single_charge_region(row.monoisotopic_mz, row.monoisotopic_mz)['scan_for_mz_lower'], axis=1)\n",
    "idents_df = idents_df[(idents_df.excluded == False)]"
   ]
  },
  {
   "cell_type": "code",
   "execution_count": 8,
   "metadata": {},
   "outputs": [
    {
     "name": "stdout",
     "output_type": "stream",
     "text": [
      "8671 identifications\n"
     ]
    }
   ],
   "source": [
    "print('{} identifications'.format(len(idents_df)))"
   ]
  },
  {
   "cell_type": "markdown",
   "metadata": {},
   "source": [
    "#### detected features"
   ]
  },
  {
   "cell_type": "code",
   "execution_count": 64,
   "metadata": {},
   "outputs": [],
   "source": [
    "# load the features detected by PASEF\n",
    "with open(FEATURES_PASEF_FILE, 'rb') as handle:\n",
    "    d = pickle.load(handle)\n",
    "features_df = d['features_df']"
   ]
  },
  {
   "cell_type": "code",
   "execution_count": 10,
   "metadata": {},
   "outputs": [],
   "source": [
    "features_df['excluded'] = features_df.apply(lambda row: row.scan_apex < scan_coords_for_single_charge_region(row.monoisotopic_mz, row.monoisotopic_mz)['scan_for_mz_lower'], axis=1)\n",
    "features_df = features_df[(features_df.excluded == False)]"
   ]
  },
  {
   "cell_type": "code",
   "execution_count": 11,
   "metadata": {},
   "outputs": [
    {
     "name": "stdout",
     "output_type": "stream",
     "text": [
      "70406 features detected\n"
     ]
    }
   ],
   "source": [
    "print('{} features detected'.format(len(features_df)))"
   ]
  },
  {
   "cell_type": "code",
   "execution_count": 12,
   "metadata": {},
   "outputs": [],
   "source": [
    "sets_d = {'detected':set(), 'identified':set()}"
   ]
  },
  {
   "cell_type": "code",
   "execution_count": 70,
   "metadata": {},
   "outputs": [],
   "source": [
    "sets_d['detected'] = set(features_df.feature_id.tolist())\n",
    "sets_d['identified'] = set(idents_df.feature_id.tolist()) - (set(idents_df.feature_id.tolist()) - set(features_df.feature_id.tolist()))"
   ]
  },
  {
   "cell_type": "code",
   "execution_count": 71,
   "metadata": {},
   "outputs": [
    {
     "data": {
      "image/png": "[encoded data removed]",
      "text/plain": [
       "<Figure size 1080x720 with 1 Axes>"
      ]
     },
     "metadata": {},
     "output_type": "display_data"
    }
   ],
   "source": [
    "import matplotlib.pyplot as plt\n",
    "from matplotlib_venn import venn2\n",
    "\n",
    "f, ax1 = plt.subplots()\n",
    "f.set_figheight(10)\n",
    "f.set_figwidth(15)\n",
    "\n",
    "plt.margins(0.06)\n",
    "plt.title('features detected and identified\\nexperiment {}, run {}'.format(experiment_name, run_name))\n",
    "\n",
    "venn2([sets_d['detected'],sets_d['identified']], ('detected','identified'))\n",
    "\n",
    "plt.show()"
   ]
  },
  {
   "cell_type": "markdown",
   "metadata": {},
   "source": [
    "#### build the training set"
   ]
  },
  {
   "cell_type": "code",
   "execution_count": 15,
   "metadata": {},
   "outputs": [],
   "source": [
    "# features detected but not identified\n",
    "features_not_identified = sets_d['detected'] - sets_d['identified']\n",
    "features_identified = sets_d['identified']"
   ]
  },
  {
   "cell_type": "code",
   "execution_count": 16,
   "metadata": {},
   "outputs": [
    {
     "data": {
      "text/plain": [
       "(61878, 8671)"
      ]
     },
     "execution_count": 16,
     "metadata": {},
     "output_type": "execute_result"
    }
   ],
   "source": [
    "len(features_not_identified), len(features_identified)"
   ]
  },
  {
   "cell_type": "code",
   "execution_count": 17,
   "metadata": {},
   "outputs": [],
   "source": [
    "features_not_identified_df = features_df[features_df.feature_id.isin(features_not_identified)]\n",
    "features_identified_df = features_df[features_df.feature_id.isin(features_identified)]"
   ]
  },
  {
   "cell_type": "code",
   "execution_count": 18,
   "metadata": {},
   "outputs": [],
   "source": [
    "SAMPLE_SIZE = 8500"
   ]
  },
  {
   "cell_type": "code",
   "execution_count": 19,
   "metadata": {},
   "outputs": [],
   "source": [
    "features_not_identified_df = features_not_identified_df.sample(n=SAMPLE_SIZE)\n",
    "features_not_identified_df['category'] = 0\n",
    "\n",
    "features_identified_df = features_identified_df.sample(n=SAMPLE_SIZE)\n",
    "features_identified_df['category'] = 1"
   ]
  },
  {
   "cell_type": "code",
   "execution_count": 20,
   "metadata": {},
   "outputs": [],
   "source": [
    "combined_df = pd.concat([features_not_identified_df, features_identified_df], axis=0, sort=False, ignore_index=True)"
   ]
  },
  {
   "cell_type": "code",
   "execution_count": 21,
   "metadata": {},
   "outputs": [
    {
     "data": {
      "text/plain": [
       "mono_mz_lower                               0\n",
       "mono_mz_upper                               0\n",
       "scan_apex                                   0\n",
       "scan_lower                                  0\n",
       "scan_upper                                  0\n",
       "rt_apex                                     0\n",
       "rt_lower                                    0\n",
       "rt_upper                                    0\n",
       "intensity_without_saturation_correction     0\n",
       "intensity_with_saturation_correction        0\n",
       "mono_intensity_adjustment_outcome           0\n",
       "mono_mz                                     0\n",
       "isotopic_peaks                              0\n",
       "coelution_coefficient                      36\n",
       "mobility_coefficient                       62\n",
       "scan_df                                     0\n",
       "rt_df                                       0\n",
       "monoisotopic_mz                             0\n",
       "charge                                      0\n",
       "monoisotopic_mass                           0\n",
       "feature_intensity                           0\n",
       "envelope                                    0\n",
       "isotope_count                               0\n",
       "deconvolution_score                         0\n",
       "precursor_cuboid_id                         0\n",
       "fragment_ions_l                             0\n",
       "fmdw_before_after_d                         0\n",
       "feature_id                                  0\n",
       "run_name                                    0\n",
       "excluded                                    0\n",
       "category                                    0\n",
       "dtype: int64"
      ]
     },
     "execution_count": 21,
     "metadata": {},
     "output_type": "execute_result"
    }
   ],
   "source": [
    "combined_df.isna().sum()"
   ]
  },
  {
   "cell_type": "code",
   "execution_count": 22,
   "metadata": {},
   "outputs": [],
   "source": [
    "combined_df.fillna(0, inplace=True)"
   ]
  },
  {
   "cell_type": "code",
   "execution_count": 23,
   "metadata": {},
   "outputs": [],
   "source": [
    "feature_ids_l = combined_df.feature_id.tolist()"
   ]
  },
  {
   "cell_type": "code",
   "execution_count": 24,
   "metadata": {},
   "outputs": [],
   "source": [
    "train_proportion = 0.8\n",
    "val_proportion = 0.1"
   ]
  },
  {
   "cell_type": "code",
   "execution_count": 25,
   "metadata": {},
   "outputs": [],
   "source": [
    "train_n = round(len(feature_ids_l) * train_proportion)\n",
    "val_n = round(len(feature_ids_l) * val_proportion)"
   ]
  },
  {
   "cell_type": "code",
   "execution_count": 26,
   "metadata": {},
   "outputs": [],
   "source": [
    "train_set = random.sample(feature_ids_l, train_n)\n",
    "val_test_set = list(set(feature_ids_l) - set(train_set))\n",
    "val_set = random.sample(val_test_set, val_n)\n",
    "test_set = list(set(val_test_set) - set(val_set))"
   ]
  },
  {
   "cell_type": "code",
   "execution_count": 27,
   "metadata": {},
   "outputs": [],
   "source": [
    "train_df = combined_df[combined_df.feature_id.isin(train_set)]\n",
    "valid_df = combined_df[combined_df.feature_id.isin(val_set)]\n",
    "test_df = combined_df[combined_df.feature_id.isin(test_set)]"
   ]
  },
  {
   "cell_type": "code",
   "execution_count": 37,
   "metadata": {},
   "outputs": [],
   "source": [
    "train_df.to_pickle('{}/train_df.pkl'.format(expanduser('~')))\n",
    "valid_df.to_pickle('{}/valid_df.pkl'.format(expanduser('~')))\n",
    "test_df.to_pickle('{}/test_df.pkl'.format(expanduser('~')))"
   ]
  },
  {
   "cell_type": "code",
   "execution_count": 38,
   "metadata": {},
   "outputs": [
    {
     "name": "stdout",
     "output_type": "stream",
     "text": [
      "train: 13600 (80%), validation: 1700 (10%), test: 1700 (10%)\n"
     ]
    }
   ],
   "source": [
    "print('train: {} ({}%), validation: {} ({}%), test: {} ({}%)'.format(len(train_df), round(len(train_df)/len(combined_df)*100), len(test_df), round(len(test_df)/len(combined_df)*100), len(valid_df), round(len(valid_df)/len(combined_df)*100)))\n"
   ]
  },
  {
   "cell_type": "code",
   "execution_count": 39,
   "metadata": {},
   "outputs": [],
   "source": [
    "input_names = ['deconvolution_score','coelution_coefficient','mobility_coefficient','isotope_count']"
   ]
  },
  {
   "cell_type": "code",
   "execution_count": 40,
   "metadata": {},
   "outputs": [],
   "source": [
    "X_train = train_df[input_names].to_numpy()\n",
    "y_train = train_df[['category']].to_numpy()[:,0]"
   ]
  },
  {
   "cell_type": "code",
   "execution_count": 41,
   "metadata": {},
   "outputs": [],
   "source": [
    "X_valid = valid_df[input_names].to_numpy()\n",
    "y_valid = valid_df[['category']].to_numpy()[:,0]"
   ]
  },
  {
   "cell_type": "code",
   "execution_count": 42,
   "metadata": {},
   "outputs": [],
   "source": [
    "X_test = test_df[input_names].to_numpy()\n",
    "y_test = test_df[['category']].to_numpy()[:,0]"
   ]
  },
  {
   "cell_type": "code",
   "execution_count": 43,
   "metadata": {},
   "outputs": [],
   "source": [
    "# define the keras model\n",
    "model = Sequential()\n",
    "model.add(BatchNormalization(input_shape=(4,)))\n",
    "model.add(Dense(200, activation='relu'))\n",
    "model.add(Dropout(0.4))\n",
    "model.add(BatchNormalization())\n",
    "model.add(Dense(200, activation='relu'))\n",
    "model.add(Dropout(0.4))\n",
    "model.add(BatchNormalization())\n",
    "model.add(Dense(200, activation='relu'))\n",
    "model.add(Dropout(0.4))\n",
    "model.add(BatchNormalization())\n",
    "model.add(Dense(1, activation='sigmoid'))"
   ]
  },
  {
   "cell_type": "code",
   "execution_count": 44,
   "metadata": {},
   "outputs": [],
   "source": [
    "# compile the keras model\n",
    "model.compile(loss='binary_crossentropy', optimizer='adam', metrics=['binary_accuracy'])"
   ]
  },
  {
   "cell_type": "code",
   "execution_count": 45,
   "metadata": {},
   "outputs": [
    {
     "name": "stdout",
     "output_type": "stream",
     "text": [
      "Model: \"sequential_1\"\n",
      "_________________________________________________________________\n",
      "Layer (type)                 Output Shape              Param #   \n",
      "=================================================================\n",
      "batch_normalization_4 (Batch (None, 4)                 16        \n",
      "_________________________________________________________________\n",
      "dense_4 (Dense)              (None, 200)               1000      \n",
      "_________________________________________________________________\n",
      "dropout_3 (Dropout)          (None, 200)               0         \n",
      "_________________________________________________________________\n",
      "batch_normalization_5 (Batch (None, 200)               800       \n",
      "_________________________________________________________________\n",
      "dense_5 (Dense)              (None, 200)               40200     \n",
      "_________________________________________________________________\n",
      "dropout_4 (Dropout)          (None, 200)               0         \n",
      "_________________________________________________________________\n",
      "batch_normalization_6 (Batch (None, 200)               800       \n",
      "_________________________________________________________________\n",
      "dense_6 (Dense)              (None, 200)               40200     \n",
      "_________________________________________________________________\n",
      "dropout_5 (Dropout)          (None, 200)               0         \n",
      "_________________________________________________________________\n",
      "batch_normalization_7 (Batch (None, 200)               800       \n",
      "_________________________________________________________________\n",
      "dense_7 (Dense)              (None, 1)                 201       \n",
      "=================================================================\n",
      "Total params: 84,017\n",
      "Trainable params: 82,809\n",
      "Non-trainable params: 1,208\n",
      "_________________________________________________________________\n"
     ]
    }
   ],
   "source": [
    "model.summary()"
   ]
  },
  {
   "cell_type": "code",
   "execution_count": 47,
   "metadata": {},
   "outputs": [],
   "source": [
    "# for visualisation\n",
    "tf.keras.models.save_model(model, \"{}/model.h5\".format(expanduser('~')))"
   ]
  },
  {
   "cell_type": "code",
   "execution_count": 48,
   "metadata": {},
   "outputs": [],
   "source": [
    "# fit the keras model on the dataset\n",
    "history = model.fit(X_train, \n",
    "                    y_train, \n",
    "                    validation_data=(X_valid, y_valid),\n",
    "                    epochs=4000, \n",
    "                    batch_size=512,\n",
    "                    verbose=0)"
   ]
  },
  {
   "cell_type": "code",
   "execution_count": 49,
   "metadata": {},
   "outputs": [
    {
     "name": "stdout",
     "output_type": "stream",
     "text": [
      "best validation loss: 0.3377\n",
      "best validation accuracy: 0.8671\n"
     ]
    },
    {
     "data": {
      "image/png": "[encoded data removed]",
      "text/plain": [
       "<Figure size 432x288 with 1 Axes>"
      ]
     },
     "metadata": {
      "needs_background": "light"
     },
     "output_type": "display_data"
    },
    {
     "data": {
      "image/png": "[encoded data removed]",
      "text/plain": [
       "<Figure size 432x288 with 1 Axes>"
      ]
     },
     "metadata": {
      "needs_background": "light"
     },
     "output_type": "display_data"
    }
   ],
   "source": [
    "history_df = pd.DataFrame(history.history)\n",
    "history_df.loc[5:, ['loss', 'val_loss']].plot()\n",
    "history_df.loc[5:, ['binary_accuracy', 'val_binary_accuracy']].plot()\n",
    "print((\"best validation loss: {:0.4f}\"+\"\\nbest validation accuracy: {:0.4f}\").format(history_df['val_loss'].min(), history_df['val_binary_accuracy'].max()))"
   ]
  },
  {
   "cell_type": "markdown",
   "metadata": {},
   "source": [
    "#### evaluate the model on the test data"
   ]
  },
  {
   "cell_type": "code",
   "execution_count": 50,
   "metadata": {},
   "outputs": [
    {
     "name": "stdout",
     "output_type": "stream",
     "text": [
      "14/14 [==============================] - 0s 2ms/step - loss: 0.3480 - binary_accuracy: 0.8647\n",
      "test loss, test acc: [0.3480348587036133, 0.8647058606147766]\n"
     ]
    }
   ],
   "source": [
    "results = model.evaluate(X_test, y_test, batch_size=128)\n",
    "print(\"test loss, test acc:\", results)"
   ]
  },
  {
   "cell_type": "markdown",
   "metadata": {},
   "source": [
    "#### save the model"
   ]
  },
  {
   "cell_type": "code",
   "execution_count": 53,
   "metadata": {},
   "outputs": [
    {
     "name": "stdout",
     "output_type": "stream",
     "text": [
      "INFO:tensorflow:Assets written to: feature_classifier/assets\n"
     ]
    }
   ],
   "source": [
    "model.save(\"{}/feature_classifier\".format(expanduser('~')))"
   ]
  },
  {
   "cell_type": "markdown",
   "metadata": {},
   "source": [
    "#### load the model"
   ]
  },
  {
   "cell_type": "code",
   "execution_count": 4,
   "metadata": {},
   "outputs": [],
   "source": [
    "MODEL_DIR = '{}/feature_classifier'.format(expanduser('~'))"
   ]
  },
  {
   "cell_type": "code",
   "execution_count": 5,
   "metadata": {},
   "outputs": [],
   "source": [
    "reconstructed_model = keras.models.load_model(MODEL_DIR)"
   ]
  },
  {
   "cell_type": "markdown",
   "metadata": {},
   "source": [
    "#### use the model to classify the 3DID features"
   ]
  },
  {
   "cell_type": "code",
   "execution_count": 6,
   "metadata": {},
   "outputs": [],
   "source": [
    "experiment_name = 'P3856'\n",
    "run_name = 'P3856_YHE211_1_Slot1-1_1_5104'\n",
    "\n",
    "EXPERIMENT_DIR = '/media/big-ssd/experiments/{}'.format(experiment_name)\n",
    "FEATURES_3DID_DIR = '{}/features-3did'.format(EXPERIMENT_DIR)\n",
    "FEATURES_3DID_FILE = '{}/exp-{}-run-{}-features-3did.pkl'.format(FEATURES_3DID_DIR, experiment_name, run_name)\n",
    "FEATURES_3DID_IDENT_FILE = '{}/exp-{}-run-{}-features-3did-ident.pkl'.format(FEATURES_3DID_DIR, experiment_name, run_name)"
   ]
  },
  {
   "cell_type": "code",
   "execution_count": 7,
   "metadata": {},
   "outputs": [],
   "source": [
    "# load the features detected by 3DID\n",
    "with open(FEATURES_3DID_FILE, 'rb') as handle:\n",
    "    d = pickle.load(handle)\n",
    "features_3did_df = d['features_df']\n",
    "# features_3did_metadata = d['metadata']"
   ]
  },
  {
   "cell_type": "code",
   "execution_count": 8,
   "metadata": {},
   "outputs": [],
   "source": [
    "features_3did_metadata = d['metadata']"
   ]
  },
  {
   "cell_type": "code",
   "execution_count": 9,
   "metadata": {},
   "outputs": [],
   "source": [
    "features_3did_df.fillna(0, inplace=True)"
   ]
  },
  {
   "cell_type": "code",
   "execution_count": 12,
   "metadata": {},
   "outputs": [],
   "source": [
    "predictions = reconstructed_model.predict(features_3did_df[input_names].to_numpy())"
   ]
  },
  {
   "cell_type": "code",
   "execution_count": 13,
   "metadata": {},
   "outputs": [],
   "source": [
    "features_3did_df['prediction'] = predictions"
   ]
  },
  {
   "cell_type": "code",
   "execution_count": 14,
   "metadata": {},
   "outputs": [
    {
     "data": {
      "text/html": [
       "<div>\n",
       "<style scoped>\n",
       "    .dataframe tbody tr th:only-of-type {\n",
       "        vertical-align: middle;\n",
       "    }\n",
       "\n",
       "    .dataframe tbody tr th {\n",
       "        vertical-align: top;\n",
       "    }\n",
       "\n",
       "    .dataframe thead th {\n",
       "        text-align: right;\n",
       "    }\n",
       "</style>\n",
       "<table border=\"1\" class=\"dataframe\">\n",
       "  <thead>\n",
       "    <tr style=\"text-align: right;\">\n",
       "      <th></th>\n",
       "      <th>mono_mz_lower</th>\n",
       "      <th>mono_mz_upper</th>\n",
       "      <th>scan_apex</th>\n",
       "      <th>scan_lower</th>\n",
       "      <th>scan_upper</th>\n",
       "      <th>rt_apex</th>\n",
       "      <th>rt_lower</th>\n",
       "      <th>rt_upper</th>\n",
       "      <th>intensity_without_saturation_correction</th>\n",
       "      <th>intensity_with_saturation_correction</th>\n",
       "      <th>...</th>\n",
       "      <th>deconvolution_score</th>\n",
       "      <th>feature_region_3d_extent</th>\n",
       "      <th>voxel_id</th>\n",
       "      <th>voxel_metadata_d</th>\n",
       "      <th>scan_df</th>\n",
       "      <th>scan_r_squared</th>\n",
       "      <th>rt_df</th>\n",
       "      <th>rt_r_squared</th>\n",
       "      <th>feature_id</th>\n",
       "      <th>prediction</th>\n",
       "    </tr>\n",
       "  </thead>\n",
       "  <tbody>\n",
       "    <tr>\n",
       "      <th>45220</th>\n",
       "      <td>776.319754</td>\n",
       "      <td>776.369206</td>\n",
       "      <td>559.0</td>\n",
       "      <td>549.0</td>\n",
       "      <td>585.0</td>\n",
       "      <td>1692.785661</td>\n",
       "      <td>1678.494148</td>\n",
       "      <td>1707.073396</td>\n",
       "      <td>1304</td>\n",
       "      <td>1304</td>\n",
       "      <td>...</td>\n",
       "      <td>515.160641</td>\n",
       "      <td>{'mz_lower': 776.2380436456243, 'mz_upper': 77...</td>\n",
       "      <td>340005243</td>\n",
       "      <td>{'mz_lower': 776.7877923893429, 'mz_upper': 77...</td>\n",
       "      <td>[{'scan': 531, 'intensity': 527, 'filtered_int...</td>\n",
       "      <td>0.999539</td>\n",
       "      <td>[{'frame_id': 14827, 'retention_time_secs': 16...</td>\n",
       "      <td>0.953860</td>\n",
       "      <td>45220</td>\n",
       "      <td>0.802911</td>\n",
       "    </tr>\n",
       "    <tr>\n",
       "      <th>152366</th>\n",
       "      <td>953.930712</td>\n",
       "      <td>953.991479</td>\n",
       "      <td>374.0</td>\n",
       "      <td>334.0</td>\n",
       "      <td>384.0</td>\n",
       "      <td>1882.268527</td>\n",
       "      <td>1867.981328</td>\n",
       "      <td>1896.559609</td>\n",
       "      <td>1553</td>\n",
       "      <td>1553</td>\n",
       "      <td>...</td>\n",
       "      <td>1027.960072</td>\n",
       "      <td>{'mz_lower': 953.8259535462913, 'mz_upper': 95...</td>\n",
       "      <td>430006186</td>\n",
       "      <td>{'mz_lower': 954.3757022900099, 'mz_upper': 95...</td>\n",
       "      <td>[{'scan': 295, 'intensity': 306, 'filtered_int...</td>\n",
       "      <td>0.996758</td>\n",
       "      <td>[{'frame_id': 16622, 'retention_time_secs': 18...</td>\n",
       "      <td>0.910054</td>\n",
       "      <td>152366</td>\n",
       "      <td>0.858350</td>\n",
       "    </tr>\n",
       "    <tr>\n",
       "      <th>31764</th>\n",
       "      <td>734.016831</td>\n",
       "      <td>734.063588</td>\n",
       "      <td>683.0</td>\n",
       "      <td>667.0</td>\n",
       "      <td>709.0</td>\n",
       "      <td>1987.585658</td>\n",
       "      <td>1977.529440</td>\n",
       "      <td>2001.343945</td>\n",
       "      <td>708</td>\n",
       "      <td>708</td>\n",
       "      <td>...</td>\n",
       "      <td>156.694562</td>\n",
       "      <td>{'mz_lower': 733.7250878961327, 'mz_upper': 73...</td>\n",
       "      <td>320008345</td>\n",
       "      <td>{'mz_lower': 734.2748366398513, 'mz_upper': 73...</td>\n",
       "      <td>[{'scan': 649, 'intensity': 1470, 'filtered_in...</td>\n",
       "      <td>0.979071</td>\n",
       "      <td>[{'frame_id': 17567, 'retention_time_secs': 19...</td>\n",
       "      <td>0.996237</td>\n",
       "      <td>31764</td>\n",
       "      <td>0.864608</td>\n",
       "    </tr>\n",
       "  </tbody>\n",
       "</table>\n",
       "<p>3 rows × 32 columns</p>\n",
       "</div>"
      ],
      "text/plain": [
       "        mono_mz_lower  mono_mz_upper  scan_apex  scan_lower  scan_upper  \\\n",
       "45220      776.319754     776.369206      559.0       549.0       585.0   \n",
       "152366     953.930712     953.991479      374.0       334.0       384.0   \n",
       "31764      734.016831     734.063588      683.0       667.0       709.0   \n",
       "\n",
       "            rt_apex     rt_lower     rt_upper  \\\n",
       "45220   1692.785661  1678.494148  1707.073396   \n",
       "152366  1882.268527  1867.981328  1896.559609   \n",
       "31764   1987.585658  1977.529440  2001.343945   \n",
       "\n",
       "        intensity_without_saturation_correction  \\\n",
       "45220                                      1304   \n",
       "152366                                     1553   \n",
       "31764                                       708   \n",
       "\n",
       "        intensity_with_saturation_correction  ... deconvolution_score  \\\n",
       "45220                                   1304  ...          515.160641   \n",
       "152366                                  1553  ...         1027.960072   \n",
       "31764                                    708  ...          156.694562   \n",
       "\n",
       "                                 feature_region_3d_extent   voxel_id  \\\n",
       "45220   {'mz_lower': 776.2380436456243, 'mz_upper': 77...  340005243   \n",
       "152366  {'mz_lower': 953.8259535462913, 'mz_upper': 95...  430006186   \n",
       "31764   {'mz_lower': 733.7250878961327, 'mz_upper': 73...  320008345   \n",
       "\n",
       "                                         voxel_metadata_d  \\\n",
       "45220   {'mz_lower': 776.7877923893429, 'mz_upper': 77...   \n",
       "152366  {'mz_lower': 954.3757022900099, 'mz_upper': 95...   \n",
       "31764   {'mz_lower': 734.2748366398513, 'mz_upper': 73...   \n",
       "\n",
       "                                                  scan_df scan_r_squared  \\\n",
       "45220   [{'scan': 531, 'intensity': 527, 'filtered_int...       0.999539   \n",
       "152366  [{'scan': 295, 'intensity': 306, 'filtered_int...       0.996758   \n",
       "31764   [{'scan': 649, 'intensity': 1470, 'filtered_in...       0.979071   \n",
       "\n",
       "                                                    rt_df  rt_r_squared  \\\n",
       "45220   [{'frame_id': 14827, 'retention_time_secs': 16...      0.953860   \n",
       "152366  [{'frame_id': 16622, 'retention_time_secs': 18...      0.910054   \n",
       "31764   [{'frame_id': 17567, 'retention_time_secs': 19...      0.996237   \n",
       "\n",
       "        feature_id  prediction  \n",
       "45220        45220    0.802911  \n",
       "152366      152366    0.858350  \n",
       "31764        31764    0.864608  \n",
       "\n",
       "[3 rows x 32 columns]"
      ]
     },
     "execution_count": 14,
     "metadata": {},
     "output_type": "execute_result"
    }
   ],
   "source": [
    "features_3did_df.sample(n=3)"
   ]
  },
  {
   "cell_type": "code",
   "execution_count": 15,
   "metadata": {},
   "outputs": [],
   "source": [
    "features_3did_df['identification_predicted'] = features_3did_df.apply(lambda row: row.prediction >= 0.5, axis=1)"
   ]
  },
  {
   "cell_type": "code",
   "execution_count": 16,
   "metadata": {},
   "outputs": [
    {
     "data": {
      "text/html": [
       "<div>\n",
       "<style scoped>\n",
       "    .dataframe tbody tr th:only-of-type {\n",
       "        vertical-align: middle;\n",
       "    }\n",
       "\n",
       "    .dataframe tbody tr th {\n",
       "        vertical-align: top;\n",
       "    }\n",
       "\n",
       "    .dataframe thead th {\n",
       "        text-align: right;\n",
       "    }\n",
       "</style>\n",
       "<table border=\"1\" class=\"dataframe\">\n",
       "  <thead>\n",
       "    <tr style=\"text-align: right;\">\n",
       "      <th></th>\n",
       "      <th>mono_mz_lower</th>\n",
       "      <th>mono_mz_upper</th>\n",
       "      <th>scan_apex</th>\n",
       "      <th>scan_lower</th>\n",
       "      <th>scan_upper</th>\n",
       "      <th>rt_apex</th>\n",
       "      <th>rt_lower</th>\n",
       "      <th>rt_upper</th>\n",
       "      <th>intensity_without_saturation_correction</th>\n",
       "      <th>intensity_with_saturation_correction</th>\n",
       "      <th>...</th>\n",
       "      <th>feature_region_3d_extent</th>\n",
       "      <th>voxel_id</th>\n",
       "      <th>voxel_metadata_d</th>\n",
       "      <th>scan_df</th>\n",
       "      <th>scan_r_squared</th>\n",
       "      <th>rt_df</th>\n",
       "      <th>rt_r_squared</th>\n",
       "      <th>feature_id</th>\n",
       "      <th>prediction</th>\n",
       "      <th>identification_predicted</th>\n",
       "    </tr>\n",
       "  </thead>\n",
       "  <tbody>\n",
       "    <tr>\n",
       "      <th>219083</th>\n",
       "      <td>1138.855070</td>\n",
       "      <td>1138.927616</td>\n",
       "      <td>130.0</td>\n",
       "      <td>120.0</td>\n",
       "      <td>204.0</td>\n",
       "      <td>2116.712208</td>\n",
       "      <td>2102.423976</td>\n",
       "      <td>2132.067029</td>\n",
       "      <td>542</td>\n",
       "      <td>542</td>\n",
       "      <td>...</td>\n",
       "      <td>{'mz_lower': 1138.44991972546, 'mz_upper': 114...</td>\n",
       "      <td>520000841</td>\n",
       "      <td>{'mz_lower': 1138.9996684691785, 'mz_upper': 1...</td>\n",
       "      <td>[{'scan': 128, 'intensity': 24182, 'filtered_i...</td>\n",
       "      <td>0.994955</td>\n",
       "      <td>[{'frame_id': 18842, 'retention_time_secs': 20...</td>\n",
       "      <td>0.972795</td>\n",
       "      <td>219083</td>\n",
       "      <td>0.340276</td>\n",
       "      <td>False</td>\n",
       "    </tr>\n",
       "    <tr>\n",
       "      <th>122841</th>\n",
       "      <td>895.433907</td>\n",
       "      <td>895.490947</td>\n",
       "      <td>414.0</td>\n",
       "      <td>408.0</td>\n",
       "      <td>424.0</td>\n",
       "      <td>1788.586257</td>\n",
       "      <td>1774.294668</td>\n",
       "      <td>1804.469322</td>\n",
       "      <td>1134</td>\n",
       "      <td>1134</td>\n",
       "      <td>...</td>\n",
       "      <td>{'mz_lower': 894.32499693029, 'mz_upper': 897....</td>\n",
       "      <td>400017224</td>\n",
       "      <td>{'mz_lower': 894.8747456740086, 'mz_upper': 89...</td>\n",
       "      <td>[{'scan': 377, 'intensity': 420, 'filtered_int...</td>\n",
       "      <td>0.000000</td>\n",
       "      <td>[{'frame_id': 15722, 'retention_time_secs': 17...</td>\n",
       "      <td>0.962020</td>\n",
       "      <td>122841</td>\n",
       "      <td>0.889956</td>\n",
       "      <td>True</td>\n",
       "    </tr>\n",
       "    <tr>\n",
       "      <th>221279</th>\n",
       "      <td>1133.961992</td>\n",
       "      <td>1134.034226</td>\n",
       "      <td>94.0</td>\n",
       "      <td>49.0</td>\n",
       "      <td>104.0</td>\n",
       "      <td>1974.882557</td>\n",
       "      <td>1957.949529</td>\n",
       "      <td>1988.114939</td>\n",
       "      <td>1040</td>\n",
       "      <td>1040</td>\n",
       "      <td>...</td>\n",
       "      <td>{'mz_lower': 1132.4197689716912, 'mz_upper': 1...</td>\n",
       "      <td>520005039</td>\n",
       "      <td>{'mz_lower': 1132.9695177154097, 'mz_upper': 1...</td>\n",
       "      <td>[{'scan': 41, 'intensity': 83, 'filtered_inten...</td>\n",
       "      <td>0.974715</td>\n",
       "      <td>[{'frame_id': 17472, 'retention_time_secs': 19...</td>\n",
       "      <td>0.890676</td>\n",
       "      <td>221279</td>\n",
       "      <td>0.683544</td>\n",
       "      <td>True</td>\n",
       "    </tr>\n",
       "  </tbody>\n",
       "</table>\n",
       "<p>3 rows × 33 columns</p>\n",
       "</div>"
      ],
      "text/plain": [
       "        mono_mz_lower  mono_mz_upper  scan_apex  scan_lower  scan_upper  \\\n",
       "219083    1138.855070    1138.927616      130.0       120.0       204.0   \n",
       "122841     895.433907     895.490947      414.0       408.0       424.0   \n",
       "221279    1133.961992    1134.034226       94.0        49.0       104.0   \n",
       "\n",
       "            rt_apex     rt_lower     rt_upper  \\\n",
       "219083  2116.712208  2102.423976  2132.067029   \n",
       "122841  1788.586257  1774.294668  1804.469322   \n",
       "221279  1974.882557  1957.949529  1988.114939   \n",
       "\n",
       "        intensity_without_saturation_correction  \\\n",
       "219083                                      542   \n",
       "122841                                     1134   \n",
       "221279                                     1040   \n",
       "\n",
       "        intensity_with_saturation_correction  ...  \\\n",
       "219083                                   542  ...   \n",
       "122841                                  1134  ...   \n",
       "221279                                  1040  ...   \n",
       "\n",
       "                                 feature_region_3d_extent   voxel_id  \\\n",
       "219083  {'mz_lower': 1138.44991972546, 'mz_upper': 114...  520000841   \n",
       "122841  {'mz_lower': 894.32499693029, 'mz_upper': 897....  400017224   \n",
       "221279  {'mz_lower': 1132.4197689716912, 'mz_upper': 1...  520005039   \n",
       "\n",
       "                                         voxel_metadata_d  \\\n",
       "219083  {'mz_lower': 1138.9996684691785, 'mz_upper': 1...   \n",
       "122841  {'mz_lower': 894.8747456740086, 'mz_upper': 89...   \n",
       "221279  {'mz_lower': 1132.9695177154097, 'mz_upper': 1...   \n",
       "\n",
       "                                                  scan_df  scan_r_squared  \\\n",
       "219083  [{'scan': 128, 'intensity': 24182, 'filtered_i...        0.994955   \n",
       "122841  [{'scan': 377, 'intensity': 420, 'filtered_int...        0.000000   \n",
       "221279  [{'scan': 41, 'intensity': 83, 'filtered_inten...        0.974715   \n",
       "\n",
       "                                                    rt_df  rt_r_squared  \\\n",
       "219083  [{'frame_id': 18842, 'retention_time_secs': 20...      0.972795   \n",
       "122841  [{'frame_id': 15722, 'retention_time_secs': 17...      0.962020   \n",
       "221279  [{'frame_id': 17472, 'retention_time_secs': 19...      0.890676   \n",
       "\n",
       "        feature_id  prediction  identification_predicted  \n",
       "219083      219083    0.340276                     False  \n",
       "122841      122841    0.889956                      True  \n",
       "221279      221279    0.683544                      True  \n",
       "\n",
       "[3 rows x 33 columns]"
      ]
     },
     "execution_count": 16,
     "metadata": {},
     "output_type": "execute_result"
    }
   ],
   "source": [
    "features_3did_df.sample(n=3)"
   ]
  },
  {
   "cell_type": "code",
   "execution_count": 17,
   "metadata": {},
   "outputs": [],
   "source": [
    "sets_d = {'detected':set(), 'identification predicted':set()}"
   ]
  },
  {
   "cell_type": "code",
   "execution_count": 18,
   "metadata": {},
   "outputs": [],
   "source": [
    "sets_d['detected'] = set(features_3did_df.feature_id.tolist())\n",
    "sets_d['identification predicted'] = set(features_3did_df[(features_3did_df.identification_predicted == True)].feature_id.tolist())"
   ]
  },
  {
   "cell_type": "code",
   "execution_count": 19,
   "metadata": {},
   "outputs": [
    {
     "data": {
      "image/png": "[encoded data removed]",
      "text/plain": [
       "<Figure size 1080x720 with 1 Axes>"
      ]
     },
     "metadata": {},
     "output_type": "display_data"
    }
   ],
   "source": [
    "import matplotlib.pyplot as plt\n",
    "from matplotlib_venn import venn2\n",
    "\n",
    "f, ax1 = plt.subplots()\n",
    "f.set_figheight(10)\n",
    "f.set_figwidth(15)\n",
    "\n",
    "plt.margins(0.06)\n",
    "plt.title('features detected with 3DID and identification predicted\\nexperiment {}, run {}'.format(experiment_name, run_name))\n",
    "\n",
    "venn2([sets_d['detected'],sets_d['identification predicted']], ('detected','identification predicted'))\n",
    "\n",
    "plt.show()"
   ]
  },
  {
   "cell_type": "code",
   "execution_count": 20,
   "metadata": {},
   "outputs": [],
   "source": [
    "# filter out the features unlikely to be identified\n",
    "features_3did_df = features_3did_df[(features_3did_df.identification_predicted == True)]"
   ]
  },
  {
   "cell_type": "code",
   "execution_count": 21,
   "metadata": {},
   "outputs": [],
   "source": [
    "info = []\n",
    "info.append(('experiment_base_dir', EXPERIMENT_DIR))\n",
    "info.append(('experiment_name', experiment_name))\n",
    "info.append(('run_name', run_name))\n",
    "info.append(('model', MODEL_DIR))\n",
    "info.append(('processor', 'paper 4 - feature classifier.ipynb'))\n",
    "info.append(('processed', time.ctime()))"
   ]
  },
  {
   "cell_type": "code",
   "execution_count": 22,
   "metadata": {},
   "outputs": [
    {
     "name": "stdout",
     "output_type": "stream",
     "text": [
      "writing 159909 features to /media/big-ssd/experiments/P3856/features-3did/exp-P3856-run-P3856_YHE211_1_Slot1-1_1_5104-features-3did-ident.pkl\n"
     ]
    }
   ],
   "source": [
    "print('writing {} features to {}'.format(len(features_3did_df), FEATURES_3DID_IDENT_FILE))\n",
    "content_d = {'features_df':features_3did_df, 'metadata':info}\n",
    "with open(FEATURES_3DID_IDENT_FILE, 'wb') as handle:\n",
    "    pickle.dump(content_d, handle)"
   ]
  },
  {
   "cell_type": "code",
   "execution_count": null,
   "metadata": {},
   "outputs": [],
   "source": []
  }
 ],
 "metadata": {
  "kernelspec": {
   "display_name": "Python 3",
   "language": "python",
   "name": "python3"
  },
  "language_info": {
   "codemirror_mode": {
    "name": "ipython",
    "version": 3
   },
   "file_extension": ".py",
   "mimetype": "text/x-python",
   "name": "python",
   "nbconvert_exporter": "python",
   "pygments_lexer": "ipython3",
   "version": "3.8.5"
  }
 },
 "nbformat": 4,
 "nbformat_minor": 4
}
