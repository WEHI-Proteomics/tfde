{
 "cells": [
  {
   "cell_type": "code",
   "execution_count": 375,
   "metadata": {},
   "outputs": [],
   "source": [
    "import sqlite3\n",
    "import pandas as pd"
   ]
  },
  {
   "cell_type": "code",
   "execution_count": 376,
   "metadata": {},
   "outputs": [],
   "source": [
    "feature_id = 18\n",
    "feature_db_name = '/home/ubuntu/UPS2_DIA_180907/UPS2_DIA_180907-features-{}-{}.sqlite'.format(feature_id, feature_id)\n",
    "mz_tolerance_ppm = 2"
   ]
  },
  {
   "cell_type": "code",
   "execution_count": 377,
   "metadata": {},
   "outputs": [],
   "source": [
    "db_conn = sqlite3.connect(feature_db_name)\n",
    "features_df = pd.read_sql_query(\"select * from feature_list where feature_id == {} order by feature_id ASC;\".format(feature_id), db_conn)\n",
    "db_conn.close()"
   ]
  },
  {
   "cell_type": "code",
   "execution_count": 378,
   "metadata": {
    "scrolled": false
   },
   "outputs": [
    {
     "data": {
      "text/html": [
       "<div>\n",
       "<style scoped>\n",
       "    .dataframe tbody tr th:only-of-type {\n",
       "        vertical-align: middle;\n",
       "    }\n",
       "\n",
       "    .dataframe tbody tr th {\n",
       "        vertical-align: top;\n",
       "    }\n",
       "\n",
       "    .dataframe thead th {\n",
       "        text-align: right;\n",
       "    }\n",
       "</style>\n",
       "<table border=\"1\" class=\"dataframe\">\n",
       "  <thead>\n",
       "    <tr style=\"text-align: right;\">\n",
       "      <th></th>\n",
       "      <th>feature_id</th>\n",
       "      <th>charge_state</th>\n",
       "      <th>monoisotopic_mass</th>\n",
       "      <th>centroid_scan</th>\n",
       "      <th>centroid_rt</th>\n",
       "      <th>centroid_mz</th>\n",
       "      <th>start_rt</th>\n",
       "      <th>end_rt</th>\n",
       "      <th>scan_lower</th>\n",
       "      <th>scan_upper</th>\n",
       "      <th>summed_intensity</th>\n",
       "      <th>isotope_count</th>\n",
       "    </tr>\n",
       "  </thead>\n",
       "  <tbody>\n",
       "    <tr>\n",
       "      <th>0</th>\n",
       "      <td>18</td>\n",
       "      <td>3</td>\n",
       "      <td>1414.705462</td>\n",
       "      <td>507.692868</td>\n",
       "      <td>390.43289</td>\n",
       "      <td>472.80709</td>\n",
       "      <td>387.415429</td>\n",
       "      <td>392.738298</td>\n",
       "      <td>499</td>\n",
       "      <td>518</td>\n",
       "      <td>522144</td>\n",
       "      <td>4</td>\n",
       "    </tr>\n",
       "  </tbody>\n",
       "</table>\n",
       "</div>"
      ],
      "text/plain": [
       "   feature_id  charge_state  monoisotopic_mass  centroid_scan  centroid_rt  \\\n",
       "0          18             3        1414.705462     507.692868    390.43289   \n",
       "\n",
       "   centroid_mz    start_rt      end_rt  scan_lower  scan_upper  \\\n",
       "0    472.80709  387.415429  392.738298         499         518   \n",
       "\n",
       "   summed_intensity  isotope_count  \n",
       "0            522144              4  "
      ]
     },
     "execution_count": 378,
     "metadata": {},
     "output_type": "execute_result"
    }
   ],
   "source": [
    "features_df"
   ]
  },
  {
   "cell_type": "code",
   "execution_count": 379,
   "metadata": {},
   "outputs": [],
   "source": [
    "db_conn = sqlite3.connect(feature_db_name)\n",
    "ms2_peaks_df = pd.read_sql_query(\"select * from ms2_peaks where feature_id={}\".format(feature_id), db_conn)\n",
    "db_conn.close()"
   ]
  },
  {
   "cell_type": "code",
   "execution_count": 380,
   "metadata": {},
   "outputs": [],
   "source": [
    "ms1_centroid_mz = features_df.iloc[0].centroid_mz.astype(float)\n",
    "ms1_centroid_scan = features_df.iloc[0].centroid_scan.astype(float)"
   ]
  },
  {
   "cell_type": "code",
   "execution_count": 381,
   "metadata": {},
   "outputs": [
    {
     "data": {
      "text/html": [
       "<div>\n",
       "<style scoped>\n",
       "    .dataframe tbody tr th:only-of-type {\n",
       "        vertical-align: middle;\n",
       "    }\n",
       "\n",
       "    .dataframe tbody tr th {\n",
       "        vertical-align: top;\n",
       "    }\n",
       "\n",
       "    .dataframe thead th {\n",
       "        text-align: right;\n",
       "    }\n",
       "</style>\n",
       "<table border=\"1\" class=\"dataframe\">\n",
       "  <thead>\n",
       "    <tr style=\"text-align: right;\">\n",
       "      <th></th>\n",
       "      <th>feature_id</th>\n",
       "      <th>peak_id</th>\n",
       "      <th>centroid_mz</th>\n",
       "      <th>composite_mzs_min</th>\n",
       "      <th>composite_mzs_max</th>\n",
       "      <th>centroid_scan</th>\n",
       "      <th>intensity</th>\n",
       "      <th>cofi_scan</th>\n",
       "      <th>cofi_rt</th>\n",
       "    </tr>\n",
       "  </thead>\n",
       "  <tbody>\n",
       "    <tr>\n",
       "      <th>0</th>\n",
       "      <td>18</td>\n",
       "      <td>1</td>\n",
       "      <td>472.575</td>\n",
       "      <td>472556</td>\n",
       "      <td>472596</td>\n",
       "      <td>514</td>\n",
       "      <td>1346847</td>\n",
       "      <td>514.523651</td>\n",
       "      <td>390.379934</td>\n",
       "    </tr>\n",
       "    <tr>\n",
       "      <th>1</th>\n",
       "      <td>18</td>\n",
       "      <td>2</td>\n",
       "      <td>472.909</td>\n",
       "      <td>472889</td>\n",
       "      <td>472929</td>\n",
       "      <td>514</td>\n",
       "      <td>1046961</td>\n",
       "      <td>514.756696</td>\n",
       "      <td>390.381650</td>\n",
       "    </tr>\n",
       "    <tr>\n",
       "      <th>2</th>\n",
       "      <td>18</td>\n",
       "      <td>3</td>\n",
       "      <td>473.244</td>\n",
       "      <td>473225</td>\n",
       "      <td>473265</td>\n",
       "      <td>514</td>\n",
       "      <td>491294</td>\n",
       "      <td>514.827175</td>\n",
       "      <td>390.394725</td>\n",
       "    </tr>\n",
       "    <tr>\n",
       "      <th>3</th>\n",
       "      <td>18</td>\n",
       "      <td>4</td>\n",
       "      <td>473.577</td>\n",
       "      <td>473558</td>\n",
       "      <td>473598</td>\n",
       "      <td>514</td>\n",
       "      <td>161460</td>\n",
       "      <td>514.626867</td>\n",
       "      <td>390.308027</td>\n",
       "    </tr>\n",
       "    <tr>\n",
       "      <th>4</th>\n",
       "      <td>18</td>\n",
       "      <td>5</td>\n",
       "      <td>336.920</td>\n",
       "      <td>336909</td>\n",
       "      <td>336933</td>\n",
       "      <td>503</td>\n",
       "      <td>166120</td>\n",
       "      <td>503.126824</td>\n",
       "      <td>388.891867</td>\n",
       "    </tr>\n",
       "  </tbody>\n",
       "</table>\n",
       "</div>"
      ],
      "text/plain": [
       "   feature_id  peak_id  centroid_mz  composite_mzs_min  composite_mzs_max  \\\n",
       "0          18        1      472.575             472556             472596   \n",
       "1          18        2      472.909             472889             472929   \n",
       "2          18        3      473.244             473225             473265   \n",
       "3          18        4      473.577             473558             473598   \n",
       "4          18        5      336.920             336909             336933   \n",
       "\n",
       "   centroid_scan  intensity   cofi_scan     cofi_rt  \n",
       "0            514    1346847  514.523651  390.379934  \n",
       "1            514    1046961  514.756696  390.381650  \n",
       "2            514     491294  514.827175  390.394725  \n",
       "3            514     161460  514.626867  390.308027  \n",
       "4            503     166120  503.126824  388.891867  "
      ]
     },
     "execution_count": 381,
     "metadata": {},
     "output_type": "execute_result"
    }
   ],
   "source": [
    "ms2_peaks_df.head()"
   ]
  },
  {
   "cell_type": "code",
   "execution_count": 382,
   "metadata": {},
   "outputs": [],
   "source": [
    "db_conn = sqlite3.connect(feature_db_name)\n",
    "feature_isotopes_df = pd.read_sql_query(\"select * from feature_isotopes where feature_id == {} order by feature_id ASC;\".format(feature_id), db_conn)\n",
    "db_conn.close()"
   ]
  },
  {
   "cell_type": "code",
   "execution_count": 383,
   "metadata": {},
   "outputs": [
    {
     "data": {
      "text/html": [
       "<div>\n",
       "<style scoped>\n",
       "    .dataframe tbody tr th:only-of-type {\n",
       "        vertical-align: middle;\n",
       "    }\n",
       "\n",
       "    .dataframe tbody tr th {\n",
       "        vertical-align: top;\n",
       "    }\n",
       "\n",
       "    .dataframe thead th {\n",
       "        text-align: right;\n",
       "    }\n",
       "</style>\n",
       "<table border=\"1\" class=\"dataframe\">\n",
       "  <thead>\n",
       "    <tr style=\"text-align: right;\">\n",
       "      <th></th>\n",
       "      <th>feature_id</th>\n",
       "      <th>feature_region_peak_id</th>\n",
       "      <th>centroid_scan</th>\n",
       "      <th>centroid_rt</th>\n",
       "      <th>centroid_mz</th>\n",
       "      <th>peak_summed_intensity</th>\n",
       "    </tr>\n",
       "  </thead>\n",
       "  <tbody>\n",
       "    <tr>\n",
       "      <th>0</th>\n",
       "      <td>18</td>\n",
       "      <td>1</td>\n",
       "      <td>507.385797</td>\n",
       "      <td>390.527168</td>\n",
       "      <td>472.575875</td>\n",
       "      <td>254968</td>\n",
       "    </tr>\n",
       "    <tr>\n",
       "      <th>1</th>\n",
       "      <td>18</td>\n",
       "      <td>2</td>\n",
       "      <td>507.661874</td>\n",
       "      <td>390.549442</td>\n",
       "      <td>472.910193</td>\n",
       "      <td>191754</td>\n",
       "    </tr>\n",
       "    <tr>\n",
       "      <th>2</th>\n",
       "      <td>18</td>\n",
       "      <td>3</td>\n",
       "      <td>508.606541</td>\n",
       "      <td>389.852057</td>\n",
       "      <td>473.244341</td>\n",
       "      <td>56875</td>\n",
       "    </tr>\n",
       "    <tr>\n",
       "      <th>3</th>\n",
       "      <td>18</td>\n",
       "      <td>4</td>\n",
       "      <td>509.432846</td>\n",
       "      <td>389.712975</td>\n",
       "      <td>473.578808</td>\n",
       "      <td>18547</td>\n",
       "    </tr>\n",
       "  </tbody>\n",
       "</table>\n",
       "</div>"
      ],
      "text/plain": [
       "   feature_id  feature_region_peak_id  centroid_scan  centroid_rt  \\\n",
       "0          18                       1     507.385797   390.527168   \n",
       "1          18                       2     507.661874   390.549442   \n",
       "2          18                       3     508.606541   389.852057   \n",
       "3          18                       4     509.432846   389.712975   \n",
       "\n",
       "   centroid_mz  peak_summed_intensity  \n",
       "0   472.575875                 254968  \n",
       "1   472.910193                 191754  \n",
       "2   473.244341                  56875  \n",
       "3   473.578808                  18547  "
      ]
     },
     "execution_count": 383,
     "metadata": {},
     "output_type": "execute_result"
    }
   ],
   "source": [
    "feature_isotopes_df"
   ]
  },
  {
   "cell_type": "code",
   "execution_count": 384,
   "metadata": {},
   "outputs": [],
   "source": [
    "base_peak_centroid_mz = feature_isotopes_df.iloc[feature_isotopes_df.peak_summed_intensity.idxmax()].centroid_mz"
   ]
  },
  {
   "cell_type": "code",
   "execution_count": 385,
   "metadata": {},
   "outputs": [
    {
     "data": {
      "text/plain": [
       "472.5758752551706"
      ]
     },
     "execution_count": 385,
     "metadata": {},
     "output_type": "execute_result"
    }
   ],
   "source": [
    "base_peak_centroid_mz"
   ]
  },
  {
   "cell_type": "code",
   "execution_count": 386,
   "metadata": {},
   "outputs": [],
   "source": [
    "ms2_peaks_df['mz_delta'] = abs(ms2_peaks_df.centroid_mz - base_peak_centroid_mz)"
   ]
  },
  {
   "cell_type": "code",
   "execution_count": 387,
   "metadata": {},
   "outputs": [],
   "source": [
    "indexes_to_drop = ms2_peaks_df.mz_delta > (mz_tolerance_ppm * 10**-6 * base_peak_centroid_mz)"
   ]
  },
  {
   "cell_type": "code",
   "execution_count": 388,
   "metadata": {},
   "outputs": [],
   "source": [
    "ms2_peaks_df.drop(ms2_peaks_df.index[indexes_to_drop], inplace=True)"
   ]
  },
  {
   "cell_type": "code",
   "execution_count": 389,
   "metadata": {},
   "outputs": [
    {
     "data": {
      "text/html": [
       "<div>\n",
       "<style scoped>\n",
       "    .dataframe tbody tr th:only-of-type {\n",
       "        vertical-align: middle;\n",
       "    }\n",
       "\n",
       "    .dataframe tbody tr th {\n",
       "        vertical-align: top;\n",
       "    }\n",
       "\n",
       "    .dataframe thead th {\n",
       "        text-align: right;\n",
       "    }\n",
       "</style>\n",
       "<table border=\"1\" class=\"dataframe\">\n",
       "  <thead>\n",
       "    <tr style=\"text-align: right;\">\n",
       "      <th></th>\n",
       "      <th>feature_id</th>\n",
       "      <th>peak_id</th>\n",
       "      <th>centroid_mz</th>\n",
       "      <th>composite_mzs_min</th>\n",
       "      <th>composite_mzs_max</th>\n",
       "      <th>centroid_scan</th>\n",
       "      <th>intensity</th>\n",
       "      <th>cofi_scan</th>\n",
       "      <th>cofi_rt</th>\n",
       "      <th>mz_delta</th>\n",
       "    </tr>\n",
       "  </thead>\n",
       "  <tbody>\n",
       "    <tr>\n",
       "      <th>0</th>\n",
       "      <td>18</td>\n",
       "      <td>1</td>\n",
       "      <td>472.575</td>\n",
       "      <td>472556</td>\n",
       "      <td>472596</td>\n",
       "      <td>514</td>\n",
       "      <td>1346847</td>\n",
       "      <td>514.523651</td>\n",
       "      <td>390.379934</td>\n",
       "      <td>0.000875</td>\n",
       "    </tr>\n",
       "  </tbody>\n",
       "</table>\n",
       "</div>"
      ],
      "text/plain": [
       "   feature_id  peak_id  centroid_mz  composite_mzs_min  composite_mzs_max  \\\n",
       "0          18        1      472.575             472556             472596   \n",
       "\n",
       "   centroid_scan  intensity   cofi_scan     cofi_rt  mz_delta  \n",
       "0            514    1346847  514.523651  390.379934  0.000875  "
      ]
     },
     "execution_count": 389,
     "metadata": {},
     "output_type": "execute_result"
    }
   ],
   "source": [
    "ms2_peaks_df"
   ]
  },
  {
   "cell_type": "code",
   "execution_count": null,
   "metadata": {},
   "outputs": [],
   "source": []
  }
 ],
 "metadata": {
  "kernelspec": {
   "display_name": "Python 2",
   "language": "python",
   "name": "python2"
  },
  "language_info": {
   "codemirror_mode": {
    "name": "ipython",
    "version": 2
   },
   "file_extension": ".py",
   "mimetype": "text/x-python",
   "name": "python",
   "nbconvert_exporter": "python",
   "pygments_lexer": "ipython2",
   "version": "2.7.15"
  }
 },
 "nbformat": 4,
 "nbformat_minor": 2
}
