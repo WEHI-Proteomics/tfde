{
 "cells": [
  {
   "cell_type": "code",
   "execution_count": 1,
   "metadata": {},
   "outputs": [],
   "source": [
    "import pandas as pd\n",
    "import sqlite3"
   ]
  },
  {
   "cell_type": "code",
   "execution_count": 2,
   "metadata": {},
   "outputs": [],
   "source": [
    "EXPERIMENT_DIR = '/home/ubuntu/experiments/dwm-test'\n",
    "EXTRACTED_FEATURES_DIR = \"{}/extracted-features\".format(EXPERIMENT_DIR)\n",
    "EXTRACTED_FEATURES_DB_NAME = \"{}/extracted-features.sqlite\".format(EXTRACTED_FEATURES_DIR)\n"
   ]
  },
  {
   "cell_type": "code",
   "execution_count": 3,
   "metadata": {},
   "outputs": [],
   "source": [
    "db_conn = sqlite3.connect(EXTRACTED_FEATURES_DB_NAME)\n",
    "sequences_df = pd.read_sql_query('select * from features', db_conn)\n",
    "db_conn.close()\n"
   ]
  },
  {
   "cell_type": "code",
   "execution_count": 4,
   "metadata": {},
   "outputs": [],
   "source": [
    "sequences_df.inferred = sequences_df.inferred.astype(bool)"
   ]
  },
  {
   "cell_type": "code",
   "execution_count": 5,
   "metadata": {},
   "outputs": [
    {
     "data": {
      "text/plain": [
       "163327"
      ]
     },
     "execution_count": 5,
     "metadata": {},
     "output_type": "execute_result"
    }
   ],
   "source": [
    "len(sequences_df)"
   ]
  },
  {
   "cell_type": "code",
   "execution_count": 6,
   "metadata": {},
   "outputs": [],
   "source": [
    "cols = ['sequence','charge','file_idx','theoretical_mz','q_value','delta_mz_ppm','delta_rt','delta_scan','inferred','intensity','monoisotopic_mass','monoisotopic_mz_centroid','rt_apex','scan_apex','run_name','batch','human','number_of_runs_extracted','number_of_isotopes','isotope_idx_not_in_saturation']"
   ]
  },
  {
   "cell_type": "code",
   "execution_count": 7,
   "metadata": {},
   "outputs": [
    {
     "data": {
      "text/plain": [
       "['batch',\n",
       " 'charge',\n",
       " 'delta_mz_ppm',\n",
       " 'delta_rt',\n",
       " 'delta_scan',\n",
       " 'file_idx',\n",
       " 'human',\n",
       " 'inferred',\n",
       " 'intensity',\n",
       " 'isotope_idx_not_in_saturation',\n",
       " 'monoisotopic_mass',\n",
       " 'monoisotopic_mz_centroid',\n",
       " 'number_of_isotopes',\n",
       " 'number_of_runs_extracted',\n",
       " 'q_value',\n",
       " 'rt_apex',\n",
       " 'run_name',\n",
       " 'scan_apex',\n",
       " 'sequence',\n",
       " 'theoretical_mz']"
      ]
     },
     "execution_count": 7,
     "metadata": {},
     "output_type": "execute_result"
    }
   ],
   "source": [
    "cols.sort()\n",
    "cols"
   ]
  },
  {
   "cell_type": "code",
   "execution_count": 8,
   "metadata": {},
   "outputs": [],
   "source": [
    "sequences_df[cols].to_csv('~/extracted-features.csv', index=False)"
   ]
  },
  {
   "cell_type": "code",
   "execution_count": null,
   "metadata": {},
   "outputs": [],
   "source": []
  }
 ],
 "metadata": {
  "kernelspec": {
   "display_name": "Python 3",
   "language": "python",
   "name": "python3"
  },
  "language_info": {
   "codemirror_mode": {
    "name": "ipython",
    "version": 3
   },
   "file_extension": ".py",
   "mimetype": "text/x-python",
   "name": "python",
   "nbconvert_exporter": "python",
   "pygments_lexer": "ipython3",
   "version": "3.6.8"
  }
 },
 "nbformat": 4,
 "nbformat_minor": 2
}
