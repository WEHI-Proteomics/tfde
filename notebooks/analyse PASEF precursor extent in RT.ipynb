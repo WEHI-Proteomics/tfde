{
 "cells": [
  {
   "cell_type": "code",
   "execution_count": 71,
   "metadata": {},
   "outputs": [],
   "source": [
    "import pandas as pd\n",
    "import numpy as np\n",
    "import sys\n",
    "import matplotlib.pyplot as plt"
   ]
  },
  {
   "cell_type": "code",
   "execution_count": 72,
   "metadata": {},
   "outputs": [],
   "source": [
    "isolation_windows_df = pd.read_pickle('/Users/darylwilding-mcbride/Downloads/isolation_window_df_with_rt.pkl')"
   ]
  },
  {
   "cell_type": "code",
   "execution_count": 73,
   "metadata": {},
   "outputs": [
    {
     "data": {
      "text/html": [
       "<div>\n",
       "<style scoped>\n",
       "    .dataframe tbody tr th:only-of-type {\n",
       "        vertical-align: middle;\n",
       "    }\n",
       "\n",
       "    .dataframe tbody tr th {\n",
       "        vertical-align: top;\n",
       "    }\n",
       "\n",
       "    .dataframe thead th {\n",
       "        text-align: right;\n",
       "    }\n",
       "</style>\n",
       "<table border=\"1\" class=\"dataframe\">\n",
       "  <thead>\n",
       "    <tr style=\"text-align: right;\">\n",
       "      <th></th>\n",
       "      <th>Frame</th>\n",
       "      <th>ScanNumBegin</th>\n",
       "      <th>ScanNumEnd</th>\n",
       "      <th>IsolationMz</th>\n",
       "      <th>IsolationWidth</th>\n",
       "      <th>Precursor</th>\n",
       "      <th>retention_time_secs</th>\n",
       "      <th>mz_lower</th>\n",
       "      <th>mz_upper</th>\n",
       "      <th>wide_rt_lower</th>\n",
       "      <th>wide_rt_upper</th>\n",
       "      <th>fe_rt_lower</th>\n",
       "      <th>fe_rt_upper</th>\n",
       "    </tr>\n",
       "  </thead>\n",
       "  <tbody>\n",
       "    <tr>\n",
       "      <th>198004</th>\n",
       "      <td>27938</td>\n",
       "      <td>266</td>\n",
       "      <td>291</td>\n",
       "      <td>1076.631729</td>\n",
       "      <td>3.000000</td>\n",
       "      <td>92011</td>\n",
       "      <td>3000.14099</td>\n",
       "      <td>1074.431729</td>\n",
       "      <td>1078.831729</td>\n",
       "      <td>2970.14099</td>\n",
       "      <td>3030.14099</td>\n",
       "      <td>2996.64099</td>\n",
       "      <td>3003.64099</td>\n",
       "    </tr>\n",
       "    <tr>\n",
       "      <th>198005</th>\n",
       "      <td>27938</td>\n",
       "      <td>328</td>\n",
       "      <td>353</td>\n",
       "      <td>1029.087583</td>\n",
       "      <td>3.000000</td>\n",
       "      <td>92012</td>\n",
       "      <td>3000.14099</td>\n",
       "      <td>1026.887583</td>\n",
       "      <td>1031.287583</td>\n",
       "      <td>2970.14099</td>\n",
       "      <td>3030.14099</td>\n",
       "      <td>2996.64099</td>\n",
       "      <td>3003.64099</td>\n",
       "    </tr>\n",
       "    <tr>\n",
       "      <th>198006</th>\n",
       "      <td>27938</td>\n",
       "      <td>381</td>\n",
       "      <td>406</td>\n",
       "      <td>764.846135</td>\n",
       "      <td>2.648461</td>\n",
       "      <td>92025</td>\n",
       "      <td>3000.14099</td>\n",
       "      <td>762.821905</td>\n",
       "      <td>766.870366</td>\n",
       "      <td>2970.14099</td>\n",
       "      <td>3030.14099</td>\n",
       "      <td>2996.64099</td>\n",
       "      <td>3003.64099</td>\n",
       "    </tr>\n",
       "    <tr>\n",
       "      <th>198007</th>\n",
       "      <td>27938</td>\n",
       "      <td>451</td>\n",
       "      <td>476</td>\n",
       "      <td>814.369146</td>\n",
       "      <td>3.000000</td>\n",
       "      <td>92026</td>\n",
       "      <td>3000.14099</td>\n",
       "      <td>812.169146</td>\n",
       "      <td>816.569146</td>\n",
       "      <td>2970.14099</td>\n",
       "      <td>3030.14099</td>\n",
       "      <td>2996.64099</td>\n",
       "      <td>3003.64099</td>\n",
       "    </tr>\n",
       "    <tr>\n",
       "      <th>198008</th>\n",
       "      <td>27938</td>\n",
       "      <td>501</td>\n",
       "      <td>526</td>\n",
       "      <td>750.768344</td>\n",
       "      <td>2.507683</td>\n",
       "      <td>92038</td>\n",
       "      <td>3000.14099</td>\n",
       "      <td>748.814503</td>\n",
       "      <td>752.722186</td>\n",
       "      <td>2970.14099</td>\n",
       "      <td>3030.14099</td>\n",
       "      <td>2996.64099</td>\n",
       "      <td>3003.64099</td>\n",
       "    </tr>\n",
       "  </tbody>\n",
       "</table>\n",
       "</div>"
      ],
      "text/plain": [
       "        Frame  ScanNumBegin  ScanNumEnd  IsolationMz  IsolationWidth  \\\n",
       "198004  27938           266         291  1076.631729        3.000000   \n",
       "198005  27938           328         353  1029.087583        3.000000   \n",
       "198006  27938           381         406   764.846135        2.648461   \n",
       "198007  27938           451         476   814.369146        3.000000   \n",
       "198008  27938           501         526   750.768344        2.507683   \n",
       "\n",
       "        Precursor  retention_time_secs     mz_lower     mz_upper  \\\n",
       "198004      92011           3000.14099  1074.431729  1078.831729   \n",
       "198005      92012           3000.14099  1026.887583  1031.287583   \n",
       "198006      92025           3000.14099   762.821905   766.870366   \n",
       "198007      92026           3000.14099   812.169146   816.569146   \n",
       "198008      92038           3000.14099   748.814503   752.722186   \n",
       "\n",
       "        wide_rt_lower  wide_rt_upper  fe_rt_lower  fe_rt_upper  \n",
       "198004     2970.14099     3030.14099   2996.64099   3003.64099  \n",
       "198005     2970.14099     3030.14099   2996.64099   3003.64099  \n",
       "198006     2970.14099     3030.14099   2996.64099   3003.64099  \n",
       "198007     2970.14099     3030.14099   2996.64099   3003.64099  \n",
       "198008     2970.14099     3030.14099   2996.64099   3003.64099  "
      ]
     },
     "execution_count": 73,
     "metadata": {},
     "output_type": "execute_result"
    }
   ],
   "source": [
    "isolation_windows_df.head()"
   ]
  },
  {
   "cell_type": "code",
   "execution_count": 74,
   "metadata": {},
   "outputs": [],
   "source": [
    "counts = isolation_windows_df.groupby('Precursor')['Frame'].nunique()"
   ]
  },
  {
   "cell_type": "code",
   "execution_count": 75,
   "metadata": {},
   "outputs": [
    {
     "data": {
      "text/plain": [
       "8"
      ]
     },
     "execution_count": 75,
     "metadata": {},
     "output_type": "execute_result"
    }
   ],
   "source": [
    "counts.max()"
   ]
  },
  {
   "cell_type": "code",
   "execution_count": 76,
   "metadata": {},
   "outputs": [
    {
     "data": {
      "text/plain": [
       "Precursor\n",
       "92076    6\n",
       "92111    6\n",
       "92119    6\n",
       "92311    6\n",
       "92393    6\n",
       "Name: Frame, dtype: int64"
      ]
     },
     "execution_count": 76,
     "metadata": {},
     "output_type": "execute_result"
    }
   ],
   "source": [
    "counts[counts == 6].head()"
   ]
  },
  {
   "cell_type": "code",
   "execution_count": 77,
   "metadata": {},
   "outputs": [
    {
     "data": {
      "image/png": "[encoded data removed]",
      "text/plain": [
       "<Figure size 1080x576 with 1 Axes>"
      ]
     },
     "metadata": {
      "needs_background": "light"
     },
     "output_type": "display_data"
    }
   ],
   "source": [
    "f, ax1 = plt.subplots()\n",
    "f.set_figheight(8)\n",
    "f.set_figwidth(15)\n",
    "\n",
    "plt.margins(0.06)\n",
    "plt.title('Number of frames per precursor')\n",
    "\n",
    "plt.hist(counts, bins=np.arange(start=1, stop=10)-0.5, rwidth=0.6)\n",
    "plt.xlabel('number of frames per precursor')\n",
    "plt.ylabel('number of precursors')\n",
    "\n",
    "plt.show()"
   ]
  },
  {
   "cell_type": "code",
   "execution_count": 78,
   "metadata": {},
   "outputs": [],
   "source": [
    "ms1_features_df = pd.read_pickle('/Users/darylwilding-mcbride/Downloads/ms1_deduped_df.pkl')"
   ]
  },
  {
   "cell_type": "code",
   "execution_count": 79,
   "metadata": {},
   "outputs": [],
   "source": [
    "counts = ms1_features_df.groupby('precursor_id')['feature_id'].nunique()"
   ]
  },
  {
   "cell_type": "code",
   "execution_count": 80,
   "metadata": {},
   "outputs": [
    {
     "data": {
      "image/png": "[encoded data removed]",
      "text/plain": [
       "<Figure size 1080x576 with 1 Axes>"
      ]
     },
     "metadata": {
      "needs_background": "light"
     },
     "output_type": "display_data"
    }
   ],
   "source": [
    "f, ax1 = plt.subplots()\n",
    "f.set_figheight(8)\n",
    "f.set_figwidth(15)\n",
    "\n",
    "plt.margins(0.06)\n",
    "plt.title('Number of features per precursor')\n",
    "\n",
    "plt.hist(counts, bins=np.arange(start=1, stop=10)-0.5, rwidth=0.6)\n",
    "plt.xlabel('number of features per precursor')\n",
    "plt.ylabel('number of precursors')\n",
    "\n",
    "plt.show()"
   ]
  },
  {
   "cell_type": "code",
   "execution_count": null,
   "metadata": {},
   "outputs": [],
   "source": []
  }
 ],
 "metadata": {
  "kernelspec": {
   "display_name": "Python 3",
   "language": "python",
   "name": "python3"
  },
  "language_info": {
   "codemirror_mode": {
    "name": "ipython",
    "version": 3
   },
   "file_extension": ".py",
   "mimetype": "text/x-python",
   "name": "python",
   "nbconvert_exporter": "python",
   "pygments_lexer": "ipython3",
   "version": "3.6.7"
  }
 },
 "nbformat": 4,
 "nbformat_minor": 2
}
