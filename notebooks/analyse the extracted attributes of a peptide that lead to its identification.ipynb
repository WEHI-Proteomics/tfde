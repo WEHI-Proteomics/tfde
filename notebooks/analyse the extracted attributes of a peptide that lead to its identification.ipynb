{
 "cells": [
  {
   "cell_type": "code",
   "execution_count": 1,
   "metadata": {},
   "outputs": [],
   "source": [
    "import pandas as pd\n",
    "import matplotlib.pyplot as plt\n",
    "import sqlite3\n",
    "import json\n",
    "import numpy as np"
   ]
  },
  {
   "cell_type": "code",
   "execution_count": 2,
   "metadata": {},
   "outputs": [],
   "source": [
    "EXPERIMENT_NAME = 'P3856'\n",
    "RUN_NAME = 'P3856_YHE211_1_Slot1-1_1_5104'"
   ]
  },
  {
   "cell_type": "code",
   "execution_count": 3,
   "metadata": {},
   "outputs": [],
   "source": [
    "extracted_features_df = pd.read_pickle('/Users/darylwilding-mcbride/Downloads/experiments/P3856/summarised-results/extracted-features-YHE211_1.pkl')"
   ]
  },
  {
   "cell_type": "code",
   "execution_count": 4,
   "metadata": {},
   "outputs": [],
   "source": [
    "selected_sequence = 'LPGAVLHCFTGTR'\n",
    "selected_sequence_charge = 2"
   ]
  },
  {
   "cell_type": "code",
   "execution_count": 5,
   "metadata": {},
   "outputs": [],
   "source": [
    "selected_sequence_df = extracted_features_df[(extracted_features_df.sequence == selected_sequence) & (extracted_features_df.charge == selected_sequence_charge)].iloc[0]"
   ]
  },
  {
   "cell_type": "code",
   "execution_count": 6,
   "metadata": {},
   "outputs": [
    {
     "data": {
      "text/plain": [
       "sequence                                                                         LPGAVLHCFTGTR\n",
       "charge                                                                                       2\n",
       "file_idx                                                                                    29\n",
       "peak_idx                                                                                     0\n",
       "target_coords                                {\"mono_mz\": 714.8747649658578, \"scan_apex\": 63...\n",
       "theoretical_mz                                                                         714.874\n",
       "q_value                                                                            0.000275394\n",
       "delta_mz_ppm                                                                         -0.358556\n",
       "delta_rt                                                                          -0.000426688\n",
       "delta_scan                                                                         -0.00327418\n",
       "fwhm_rt_0                                                                              3.32348\n",
       "fwhm_scan_0                                                                               7.85\n",
       "geometric_mean_0_1                                                                     11.9079\n",
       "geometric_mean_0_1_2                                                                   11.8144\n",
       "isotope_0_1_mz_delta_ppm                                                              -1.28423\n",
       "isotope_0_1_rt_delta                                                               0.000279651\n",
       "isotope_0_1_scan_delta                                                              0.00157729\n",
       "isotope_0_2_mz_delta_ppm                                                              -1.55013\n",
       "isotope_0_2_rt_delta                                                               0.000279651\n",
       "isotope_0_2_scan_delta                                                              0.00788644\n",
       "monoisotope_auc_over_isotope_peak_auc_sum                                             0.296794\n",
       "monoisotope_int_over_isotope_peak_int_sum                                             0.296618\n",
       "mz_delta_ppm_std_dev_0                                                             0.000309126\n",
       "mz_delta_ppm_std_dev_1                                                                 2.65218\n",
       "number_of_frames_0                                                                          17\n",
       "number_of_frames_1                                                                          17\n",
       "number_of_frames_2                                                                          17\n",
       "number_of_missing_frames_0                                                                   0\n",
       "number_of_missing_frames_1                                                                   0\n",
       "number_of_missing_frames_2                                                                   0\n",
       "                                                                   ...                        \n",
       "scan_peak_symmetry_1                                                                  0.705497\n",
       "scan_peak_symmetry_2                                                                  0.654566\n",
       "classed_as                                                                              target\n",
       "prob_decoy                                                                         0.000181366\n",
       "prob_target                                                                           0.999819\n",
       "inferred                                                                                     0\n",
       "intensity                                                                                 5917\n",
       "isotope_1_filtered_points_l                  [{\"x\": 1892.8556288932875, \"filtered_intensity...\n",
       "isotope_1_rt_bounds                                   [1893.3850061236283, 1901.8524644449024]\n",
       "isotope_1_scan_bounds                                                               [604, 661]\n",
       "isotope_2_filtered_points_l                  [{\"x\": 1892.8556288932875, \"filtered_intensity...\n",
       "isotope_2_rt_bounds                                   [1893.3850061236283, 1901.8524644449024]\n",
       "isotope_2_scan_bounds                                                               [633, 660]\n",
       "isotope_idx_not_in_saturation                                                                0\n",
       "isotope_intensities_l                        [[5917.0, false, 5917.0, false, [[714.87450801...\n",
       "mono_filtered_points_l                       [{\"x\": 1892.8556288932875, \"filtered_intensity...\n",
       "mono_rt_bounds                                        [1893.3850061236283, 1901.8524644449024]\n",
       "mono_scan_bounds                                                                    [621, 641]\n",
       "monoisotopic_mass                                                                      1427.73\n",
       "monoisotopic_mz_centroid                                                               714.875\n",
       "monoisotopic_mz_delta_ppm                                                            -0.358556\n",
       "number_of_isotopes                                                                           7\n",
       "peak_proportion_intensity                                                                19690\n",
       "peak_proportions                                 {\"ccs_proportion\": 0.1, \"rt_proportion\": 0.8}\n",
       "rt_apex                                                                                1896.56\n",
       "scan_apex                                                                                  634\n",
       "run_name                                                         P3856_YHE211_1_Slot1-1_1_5104\n",
       "run_group                                                                               YHE211\n",
       "short_run_name                                                                        YHE211_1\n",
       "human                                                                                        0\n",
       "Name: 12237, Length: 71, dtype: object"
      ]
     },
     "execution_count": 6,
     "metadata": {},
     "output_type": "execute_result"
    }
   ],
   "source": [
    "selected_sequence_df"
   ]
  },
  {
   "cell_type": "code",
   "execution_count": null,
   "metadata": {},
   "outputs": [],
   "source": []
  }
 ],
 "metadata": {
  "kernelspec": {
   "display_name": "Python 3",
   "language": "python",
   "name": "python3"
  },
  "language_info": {
   "codemirror_mode": {
    "name": "ipython",
    "version": 3
   },
   "file_extension": ".py",
   "mimetype": "text/x-python",
   "name": "python",
   "nbconvert_exporter": "python",
   "pygments_lexer": "ipython3",
   "version": "3.6.8"
  }
 },
 "nbformat": 4,
 "nbformat_minor": 2
}
