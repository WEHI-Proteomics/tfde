{
 "cells": [
  {
   "cell_type": "code",
   "execution_count": 1,
   "metadata": {},
   "outputs": [],
   "source": [
    "import pandas as pd\n",
    "import numpy as np\n",
    "import sqlite3\n",
    "import json\n",
    "import matplotlib.pyplot as plt"
   ]
  },
  {
   "cell_type": "code",
   "execution_count": 121,
   "metadata": {},
   "outputs": [],
   "source": [
    "RESULTS_DATABASE_NAME = '/Users/darylwilding-mcbride/Downloads/experiments/P3856/summarised-results/results.sqlite'"
   ]
  },
  {
   "cell_type": "code",
   "execution_count": 122,
   "metadata": {},
   "outputs": [],
   "source": [
    "db_conn = sqlite3.connect(RESULTS_DATABASE_NAME)\n",
    "results_df = pd.read_sql_query(\"select * from sequences\", db_conn)\n",
    "db_conn.close()"
   ]
  },
  {
   "cell_type": "code",
   "execution_count": 123,
   "metadata": {},
   "outputs": [
    {
     "data": {
      "text/plain": [
       "23295"
      ]
     },
     "execution_count": 123,
     "metadata": {},
     "output_type": "execute_result"
    }
   ],
   "source": [
    "len(results_df)"
   ]
  },
  {
   "cell_type": "code",
   "execution_count": 124,
   "metadata": {},
   "outputs": [],
   "source": [
    "# convert the identifications from JSON to Python objects\n",
    "results_df['identifications_d'] = results_df.apply(lambda row: json.loads(row.identifications), axis=1)"
   ]
  },
  {
   "cell_type": "code",
   "execution_count": 125,
   "metadata": {},
   "outputs": [
    {
     "data": {
      "text/plain": [
       "{'perc_q_value': 0.0079911972,\n",
       " 'run_names': ['P3856_YHE114_2_Slot1-1_1_5116'],\n",
       " 'number_of_runs': 1,\n",
       " 'proteins': ['sp|P19338|NUCL_HUMAN'],\n",
       " 'number_of_proteins': 1}"
      ]
     },
     "execution_count": 125,
     "metadata": {},
     "output_type": "execute_result"
    }
   ],
   "source": [
    "results_df.iloc[0].identifications_d"
   ]
  },
  {
   "cell_type": "code",
   "execution_count": 126,
   "metadata": {},
   "outputs": [],
   "source": [
    "# separate some key metrics into separate columns\n",
    "results_df['id_perc_q_value'] = results_df.apply(lambda row: row.identifications_d['perc_q_value'], axis=1)\n",
    "results_df['id_count_all_runs'] = results_df.apply(lambda row: len(row.identifications_d['run_names']), axis=1)\n",
    "results_df['id_protein_count'] = results_df.apply(lambda row: row.identifications_d['number_of_proteins'], axis=1)\n",
    "results_df['id_protein'] = results_df.apply(lambda row: row.identifications_d['proteins'][0], axis=1)\n",
    "results_df['id_human'] = results_df.apply(lambda row: 'HUMAN' in row.id_protein.upper(), axis=1)"
   ]
  },
  {
   "cell_type": "code",
   "execution_count": 127,
   "metadata": {},
   "outputs": [],
   "source": [
    "# remove the results that couldn't be extracted or were not classified as a target\n",
    "results_df = results_df[results_df.extractions.notnull()].copy()"
   ]
  },
  {
   "cell_type": "code",
   "execution_count": 128,
   "metadata": {},
   "outputs": [],
   "source": [
    "# convert from JSON to Python objects\n",
    "results_df['extractions_l'] = results_df.apply(lambda row: json.loads(row.extractions), axis=1)"
   ]
  },
  {
   "cell_type": "code",
   "execution_count": 129,
   "metadata": {},
   "outputs": [
    {
     "data": {
      "text/html": [
       "<div>\n",
       "<style scoped>\n",
       "    .dataframe tbody tr th:only-of-type {\n",
       "        vertical-align: middle;\n",
       "    }\n",
       "\n",
       "    .dataframe tbody tr th {\n",
       "        vertical-align: top;\n",
       "    }\n",
       "\n",
       "    .dataframe thead th {\n",
       "        text-align: right;\n",
       "    }\n",
       "</style>\n",
       "<table border=\"1\" class=\"dataframe\">\n",
       "  <thead>\n",
       "    <tr style=\"text-align: right;\">\n",
       "      <th></th>\n",
       "      <th>sequence</th>\n",
       "      <th>charge</th>\n",
       "      <th>identifications</th>\n",
       "      <th>extractions</th>\n",
       "      <th>identifications_d</th>\n",
       "      <th>id_perc_q_value</th>\n",
       "      <th>id_count_all_runs</th>\n",
       "      <th>id_protein_count</th>\n",
       "      <th>id_protein</th>\n",
       "      <th>id_human</th>\n",
       "      <th>extractions_l</th>\n",
       "    </tr>\n",
       "  </thead>\n",
       "  <tbody>\n",
       "    <tr>\n",
       "      <th>11720</th>\n",
       "      <td>LLDILSYLR</td>\n",
       "      <td>2</td>\n",
       "      <td>{\"perc_q_value\": 0.00010311984, \"run_names\": [...</td>\n",
       "      <td>[{\"run_name\": \"P3856_YHE010_9_Slot1-1_1_5101\",...</td>\n",
       "      <td>{'perc_q_value': 0.00010311984, 'run_names': [...</td>\n",
       "      <td>0.000103</td>\n",
       "      <td>8</td>\n",
       "      <td>1</td>\n",
       "      <td>sp|O15091|MRPP3_HUMAN</td>\n",
       "      <td>True</td>\n",
       "      <td>[{'run_name': 'P3856_YHE010_9_Slot1-1_1_5101',...</td>\n",
       "    </tr>\n",
       "    <tr>\n",
       "      <th>8070</th>\n",
       "      <td>HCVTFVLHEEDHTLGNSLR</td>\n",
       "      <td>4</td>\n",
       "      <td>{\"perc_q_value\": 3.817231e-06, \"run_names\": [\"...</td>\n",
       "      <td>[{\"run_name\": \"P3856_YHE211_6_Slot1-1_1_5109\",...</td>\n",
       "      <td>{'perc_q_value': 3.817231e-06, 'run_names': ['...</td>\n",
       "      <td>0.000004</td>\n",
       "      <td>7</td>\n",
       "      <td>1</td>\n",
       "      <td>sp|P0DPB6|RPAC2_HUMAN</td>\n",
       "      <td>True</td>\n",
       "      <td>[{'run_name': 'P3856_YHE211_6_Slot1-1_1_5109',...</td>\n",
       "    </tr>\n",
       "  </tbody>\n",
       "</table>\n",
       "</div>"
      ],
      "text/plain": [
       "                  sequence  charge  \\\n",
       "11720            LLDILSYLR       2   \n",
       "8070   HCVTFVLHEEDHTLGNSLR       4   \n",
       "\n",
       "                                         identifications  \\\n",
       "11720  {\"perc_q_value\": 0.00010311984, \"run_names\": [...   \n",
       "8070   {\"perc_q_value\": 3.817231e-06, \"run_names\": [\"...   \n",
       "\n",
       "                                             extractions  \\\n",
       "11720  [{\"run_name\": \"P3856_YHE010_9_Slot1-1_1_5101\",...   \n",
       "8070   [{\"run_name\": \"P3856_YHE211_6_Slot1-1_1_5109\",...   \n",
       "\n",
       "                                       identifications_d  id_perc_q_value  \\\n",
       "11720  {'perc_q_value': 0.00010311984, 'run_names': [...         0.000103   \n",
       "8070   {'perc_q_value': 3.817231e-06, 'run_names': ['...         0.000004   \n",
       "\n",
       "       id_count_all_runs  id_protein_count             id_protein  id_human  \\\n",
       "11720                  8                 1  sp|O15091|MRPP3_HUMAN      True   \n",
       "8070                   7                 1  sp|P0DPB6|RPAC2_HUMAN      True   \n",
       "\n",
       "                                           extractions_l  \n",
       "11720  [{'run_name': 'P3856_YHE010_9_Slot1-1_1_5101',...  \n",
       "8070   [{'run_name': 'P3856_YHE211_6_Slot1-1_1_5109',...  "
      ]
     },
     "execution_count": 129,
     "metadata": {},
     "output_type": "execute_result"
    }
   ],
   "source": [
    "results_df.sample(n=2)"
   ]
  },
  {
   "cell_type": "code",
   "execution_count": 130,
   "metadata": {},
   "outputs": [],
   "source": [
    "def groups_from_runs(run_names_l):\n",
    "    groups_l = [r.split('_')[1] for r in run_names_l]\n",
    "    return list(set(groups_l))"
   ]
  },
  {
   "cell_type": "code",
   "execution_count": 131,
   "metadata": {},
   "outputs": [],
   "source": [
    "# return True if we can include an extraction from the specified group, given the groups in which it was identified\n",
    "# need to implement these rules differently for each experiment, probably best with a simple rules parameter file\n",
    "def extract_from_group(extract_group, identification_groups_l):\n",
    "    result = False\n",
    "    if extract_group == 'YHE010':\n",
    "        result = extract_group in identification_groups_l\n",
    "    else:\n",
    "        result = True\n",
    "    return result"
   ]
  },
  {
   "cell_type": "code",
   "execution_count": 132,
   "metadata": {},
   "outputs": [],
   "source": [
    "# expand the extractions to a row for each - only extract it if it was identified in the group\n",
    "sequences_l = []\n",
    "for row in results_df.itertuples():\n",
    "    for group_name in ['YHE010','YHE114','YHE211']:\n",
    "        if extract_from_group(group_name, groups_from_runs(row.identifications_d['run_names'])):\n",
    "            for extraction in row.extractions_l:\n",
    "                if group_name in extraction['run_name']:\n",
    "                    short_run_name = '_'.join(extraction['run_name'].split('_Slot')[0].split('_')[1:])\n",
    "                    sequences_l.append((row.sequence, row.charge, row.id_perc_q_value, short_run_name, group_name, extraction['intensity'], row.id_protein, row.id_human))\n",
    "sequences_df = pd.DataFrame(sequences_l, columns=['sequence', 'charge', 'id_perc_q_value', 'short_run_name', 'group','intensity','protein','human'])\n"
   ]
  },
  {
   "cell_type": "raw",
   "metadata": {},
   "source": [
    "# expand the extractions to a row for each - extract it regardless of the group it was identified\n",
    "sequences_l = []\n",
    "for row in results_df.itertuples():\n",
    "    for extraction in row.extractions_l:\n",
    "        short_run_name = '_'.join(extraction['run_name'].split('_Slot')[0].split('_')[1:])\n",
    "        group_name = short_run_name.split('_')[0]\n",
    "        sequences_l.append((row.sequence, row.charge, row.id_perc_q_value, short_run_name, group_name, extraction['intensity'], row.id_protein, row.id_human))\n",
    "sequences_df = pd.DataFrame(sequences_l, columns=['sequence', 'charge', 'id_perc_q_value', 'short_run_name', 'group','intensity','protein','human'])\n"
   ]
  },
  {
   "cell_type": "code",
   "execution_count": 133,
   "metadata": {},
   "outputs": [
    {
     "data": {
      "text/html": [
       "<div>\n",
       "<style scoped>\n",
       "    .dataframe tbody tr th:only-of-type {\n",
       "        vertical-align: middle;\n",
       "    }\n",
       "\n",
       "    .dataframe tbody tr th {\n",
       "        vertical-align: top;\n",
       "    }\n",
       "\n",
       "    .dataframe thead th {\n",
       "        text-align: right;\n",
       "    }\n",
       "</style>\n",
       "<table border=\"1\" class=\"dataframe\">\n",
       "  <thead>\n",
       "    <tr style=\"text-align: right;\">\n",
       "      <th></th>\n",
       "      <th>sequence</th>\n",
       "      <th>charge</th>\n",
       "      <th>id_perc_q_value</th>\n",
       "      <th>short_run_name</th>\n",
       "      <th>group</th>\n",
       "      <th>intensity</th>\n",
       "      <th>protein</th>\n",
       "      <th>human</th>\n",
       "    </tr>\n",
       "  </thead>\n",
       "  <tbody>\n",
       "    <tr>\n",
       "      <th>213894</th>\n",
       "      <td>IAQLEEELEEEQSNMELLNDR</td>\n",
       "      <td>2</td>\n",
       "      <td>0.000004</td>\n",
       "      <td>YHE114_3</td>\n",
       "      <td>YHE114</td>\n",
       "      <td>278</td>\n",
       "      <td>sp|P35580|MYH10_HUMAN</td>\n",
       "      <td>True</td>\n",
       "    </tr>\n",
       "    <tr>\n",
       "      <th>504052</th>\n",
       "      <td>VLEGHTDFINGLVFDPK</td>\n",
       "      <td>2</td>\n",
       "      <td>0.000004</td>\n",
       "      <td>YHE114_8</td>\n",
       "      <td>YHE114</td>\n",
       "      <td>1034</td>\n",
       "      <td>sp|Q8NFH4|NUP37_HUMAN</td>\n",
       "      <td>True</td>\n",
       "    </tr>\n",
       "  </tbody>\n",
       "</table>\n",
       "</div>"
      ],
      "text/plain": [
       "                     sequence  charge  id_perc_q_value short_run_name   group  \\\n",
       "213894  IAQLEEELEEEQSNMELLNDR       2         0.000004       YHE114_3  YHE114   \n",
       "504052      VLEGHTDFINGLVFDPK       2         0.000004       YHE114_8  YHE114   \n",
       "\n",
       "        intensity                protein  human  \n",
       "213894        278  sp|P35580|MYH10_HUMAN   True  \n",
       "504052       1034  sp|Q8NFH4|NUP37_HUMAN   True  "
      ]
     },
     "execution_count": 133,
     "metadata": {},
     "output_type": "execute_result"
    }
   ],
   "source": [
    "sequences_df.sample(n=2)"
   ]
  },
  {
   "cell_type": "markdown",
   "metadata": {},
   "source": [
    "#### analyse the YHE runs"
   ]
  },
  {
   "cell_type": "code",
   "execution_count": 134,
   "metadata": {},
   "outputs": [],
   "source": [
    "yhe_only_df = sequences_df[(sequences_df.group == 'YHE114') | (sequences_df.group == 'YHE211')]"
   ]
  },
  {
   "cell_type": "code",
   "execution_count": 135,
   "metadata": {},
   "outputs": [
    {
     "name": "stdout",
     "output_type": "stream",
     "text": [
      "there are 20 YHE runs in the experiment\n"
     ]
    }
   ],
   "source": [
    "number_of_yhe_runs_in_experiment = len(yhe_only_df.short_run_name.unique())\n",
    "print('there are {} YHE runs in the experiment'.format(number_of_yhe_runs_in_experiment))"
   ]
  },
  {
   "cell_type": "code",
   "execution_count": 136,
   "metadata": {},
   "outputs": [],
   "source": [
    "# count how many runs each sequence/charge was extracted from and classified as a target\n",
    "sequence_occurences_l = []\n",
    "for group_name,group_df in yhe_only_df.groupby(['sequence','charge'], as_index=False):\n",
    "    sequence_occurences_l.append((group_name, len(group_df.short_run_name.unique()), group_name[0], group_name[1]))\n",
    "yhe_sequence_occurences_df = pd.DataFrame(sequence_occurences_l, columns=['sequence_charge','number_of_runs_targets_extracted','sequence','charge'])"
   ]
  },
  {
   "cell_type": "code",
   "execution_count": 137,
   "metadata": {},
   "outputs": [
    {
     "name": "stdout",
     "output_type": "stream",
     "text": [
      "9.0% of values are missing across the YHE-only runs.\n"
     ]
    }
   ],
   "source": [
    "# display the number of missing values across the experiment\n",
    "yhe_sequence_occurences_df['missing_files'] = number_of_yhe_runs_in_experiment - yhe_sequence_occurences_df.number_of_runs_targets_extracted\n",
    "proportion_of_missing_values = yhe_sequence_occurences_df.missing_files.sum() / (len(yhe_sequence_occurences_df) * number_of_yhe_runs_in_experiment)\n",
    "print(\"{}% of values are missing across the YHE-only runs.\".format(round(proportion_of_missing_values*100)))"
   ]
  },
  {
   "cell_type": "code",
   "execution_count": 138,
   "metadata": {},
   "outputs": [
    {
     "data": {
      "text/html": [
       "<div>\n",
       "<style scoped>\n",
       "    .dataframe tbody tr th:only-of-type {\n",
       "        vertical-align: middle;\n",
       "    }\n",
       "\n",
       "    .dataframe tbody tr th {\n",
       "        vertical-align: top;\n",
       "    }\n",
       "\n",
       "    .dataframe thead th {\n",
       "        text-align: right;\n",
       "    }\n",
       "</style>\n",
       "<table border=\"1\" class=\"dataframe\">\n",
       "  <thead>\n",
       "    <tr style=\"text-align: right;\">\n",
       "      <th></th>\n",
       "      <th>sequence</th>\n",
       "      <th>charge</th>\n",
       "      <th>number_of_runs_targets_extracted</th>\n",
       "      <th>missing_files</th>\n",
       "    </tr>\n",
       "  </thead>\n",
       "  <tbody>\n",
       "    <tr>\n",
       "      <th>9156</th>\n",
       "      <td>IGSSELQEFCPTILQQLDSR</td>\n",
       "      <td>2</td>\n",
       "      <td>20</td>\n",
       "      <td>0</td>\n",
       "    </tr>\n",
       "    <tr>\n",
       "      <th>20366</th>\n",
       "      <td>VGDSTPVSEKPVSAAVDANASESP</td>\n",
       "      <td>2</td>\n",
       "      <td>20</td>\n",
       "      <td>0</td>\n",
       "    </tr>\n",
       "    <tr>\n",
       "      <th>18591</th>\n",
       "      <td>TESQWENTEAPVSYK</td>\n",
       "      <td>2</td>\n",
       "      <td>20</td>\n",
       "      <td>0</td>\n",
       "    </tr>\n",
       "    <tr>\n",
       "      <th>4892</th>\n",
       "      <td>EQQEAIEHIDEVQNEIDRLNEQASEEILK</td>\n",
       "      <td>4</td>\n",
       "      <td>20</td>\n",
       "      <td>0</td>\n",
       "    </tr>\n",
       "    <tr>\n",
       "      <th>1324</th>\n",
       "      <td>AQGVLFDCDGVLWNGER</td>\n",
       "      <td>2</td>\n",
       "      <td>20</td>\n",
       "      <td>0</td>\n",
       "    </tr>\n",
       "  </tbody>\n",
       "</table>\n",
       "</div>"
      ],
      "text/plain": [
       "                            sequence  charge  \\\n",
       "9156            IGSSELQEFCPTILQQLDSR       2   \n",
       "20366       VGDSTPVSEKPVSAAVDANASESP       2   \n",
       "18591                TESQWENTEAPVSYK       2   \n",
       "4892   EQQEAIEHIDEVQNEIDRLNEQASEEILK       4   \n",
       "1324               AQGVLFDCDGVLWNGER       2   \n",
       "\n",
       "       number_of_runs_targets_extracted  missing_files  \n",
       "9156                                 20              0  \n",
       "20366                                20              0  \n",
       "18591                                20              0  \n",
       "4892                                 20              0  \n",
       "1324                                 20              0  "
      ]
     },
     "execution_count": 138,
     "metadata": {},
     "output_type": "execute_result"
    }
   ],
   "source": [
    "yhe_sequence_occurences_df.sample(n=5)[['sequence','charge','number_of_runs_targets_extracted','missing_files']]"
   ]
  },
  {
   "cell_type": "code",
   "execution_count": 139,
   "metadata": {},
   "outputs": [
    {
     "data": {
      "text/plain": [
       "22715"
      ]
     },
     "execution_count": 139,
     "metadata": {},
     "output_type": "execute_result"
    }
   ],
   "source": [
    "unique_sequences_yhe_df = yhe_only_df.drop_duplicates(subset=['sequence', 'charge'], keep='first', inplace=False)\n",
    "number_of_unique_sequences_yhe = len(unique_sequences_yhe_df)\n",
    "number_of_unique_sequences_yhe"
   ]
  },
  {
   "cell_type": "code",
   "execution_count": 140,
   "metadata": {},
   "outputs": [
    {
     "data": {
      "image/png": "[encoded data removed]",
      "text/plain": [
       "<Figure size 1080x576 with 1 Axes>"
      ]
     },
     "metadata": {
      "needs_background": "light"
     },
     "output_type": "display_data"
    }
   ],
   "source": [
    "f, ax1 = plt.subplots()\n",
    "f.set_figheight(8)\n",
    "f.set_figwidth(15)\n",
    "\n",
    "plt.margins(0.06)\n",
    "plt.suptitle('Distribution of sequence identifications in the YHE runs for TFD_E')\n",
    "plt.title('total {} modified peptide sequences'.format(number_of_unique_sequences_yhe))\n",
    "\n",
    "counts = np.bincount(yhe_sequence_occurences_df.number_of_runs_targets_extracted)\n",
    "ax1.bar(range(number_of_yhe_runs_in_experiment+1), counts, width=0.8, align='center')\n",
    "plt.xlabel('number of files in which a modified sequence-charge was identified')\n",
    "plt.ylabel('frequency')\n",
    "ax1.set(xticks=range(1,number_of_yhe_runs_in_experiment+1), xlim=[0, number_of_yhe_runs_in_experiment+1])\n",
    "# plt.ylim((0,12000))\n",
    "\n",
    "plt.show()"
   ]
  },
  {
   "cell_type": "markdown",
   "metadata": {},
   "source": [
    "#### now analyse the HeLa-only runs"
   ]
  },
  {
   "cell_type": "code",
   "execution_count": 141,
   "metadata": {},
   "outputs": [],
   "source": [
    "human_only_df = sequences_df[(sequences_df.group == 'YHE010')]"
   ]
  },
  {
   "cell_type": "code",
   "execution_count": 142,
   "metadata": {},
   "outputs": [
    {
     "data": {
      "text/plain": [
       "Index(['sequence', 'charge', 'id_perc_q_value', 'short_run_name', 'group',\n",
       "       'intensity', 'protein', 'human'],\n",
       "      dtype='object')"
      ]
     },
     "execution_count": 142,
     "metadata": {},
     "output_type": "execute_result"
    }
   ],
   "source": [
    "human_only_df.columns"
   ]
  },
  {
   "cell_type": "code",
   "execution_count": 143,
   "metadata": {},
   "outputs": [
    {
     "name": "stdout",
     "output_type": "stream",
     "text": [
      "there are 10 HeLa runs in the experiment\n"
     ]
    }
   ],
   "source": [
    "number_of_human_runs_in_experiment = len(human_only_df.short_run_name.unique())\n",
    "print('there are {} HeLa runs in the experiment'.format(number_of_human_runs_in_experiment))"
   ]
  },
  {
   "cell_type": "code",
   "execution_count": 144,
   "metadata": {},
   "outputs": [],
   "source": [
    "# count how many runs each sequence/charge was extracted from and classified as a target\n",
    "sequence_occurences_l = []\n",
    "for group_name,group_df in human_only_df.groupby(['sequence','charge'], as_index=False):\n",
    "    sequence_occurences_l.append((group_name, len(group_df.short_run_name.unique()), group_name[0], group_name[1], group_df.iloc[0].human))\n",
    "human_sequence_occurences_df = pd.DataFrame(sequence_occurences_l, columns=['sequence_charge','number_of_runs_targets_extracted','sequence','charge','human'])"
   ]
  },
  {
   "cell_type": "code",
   "execution_count": 145,
   "metadata": {},
   "outputs": [
    {
     "name": "stdout",
     "output_type": "stream",
     "text": [
      "6.0% of values are missing across the HeLa-only runs.\n"
     ]
    }
   ],
   "source": [
    "# display the number of missing values across the experiment\n",
    "human_sequence_occurences_df['missing_files'] = number_of_human_runs_in_experiment - human_sequence_occurences_df.number_of_runs_targets_extracted\n",
    "proportion_of_missing_values = human_sequence_occurences_df.missing_files.sum() / (len(human_sequence_occurences_df) * number_of_human_runs_in_experiment)\n",
    "print(\"{}% of values are missing across the HeLa-only runs.\".format(round(proportion_of_missing_values*100)))"
   ]
  },
  {
   "cell_type": "code",
   "execution_count": 146,
   "metadata": {},
   "outputs": [
    {
     "name": "stdout",
     "output_type": "stream",
     "text": [
      "false positives: 2.1%\n"
     ]
    }
   ],
   "source": [
    "# proportion of false positives i.e. non-human peptides found in the human-only runs\n",
    "print('false positives: {}%'.format(round(len(human_sequence_occurences_df[(human_sequence_occurences_df.human == False)]) / len(human_sequence_occurences_df) * 100.0, 1)))"
   ]
  },
  {
   "cell_type": "code",
   "execution_count": 147,
   "metadata": {},
   "outputs": [
    {
     "data": {
      "text/html": [
       "<div>\n",
       "<style scoped>\n",
       "    .dataframe tbody tr th:only-of-type {\n",
       "        vertical-align: middle;\n",
       "    }\n",
       "\n",
       "    .dataframe tbody tr th {\n",
       "        vertical-align: top;\n",
       "    }\n",
       "\n",
       "    .dataframe thead th {\n",
       "        text-align: right;\n",
       "    }\n",
       "</style>\n",
       "<table border=\"1\" class=\"dataframe\">\n",
       "  <thead>\n",
       "    <tr style=\"text-align: right;\">\n",
       "      <th></th>\n",
       "      <th>sequence_charge</th>\n",
       "      <th>number_of_runs_targets_extracted</th>\n",
       "      <th>sequence</th>\n",
       "      <th>charge</th>\n",
       "      <th>human</th>\n",
       "      <th>missing_files</th>\n",
       "    </tr>\n",
       "  </thead>\n",
       "  <tbody>\n",
       "    <tr>\n",
       "      <th>8451</th>\n",
       "      <td>(LVSGEATPINMTNHTYFNLNK, 3)</td>\n",
       "      <td>7</td>\n",
       "      <td>LVSGEATPINMTNHTYFNLNK</td>\n",
       "      <td>3</td>\n",
       "      <td>False</td>\n",
       "      <td>3</td>\n",
       "    </tr>\n",
       "    <tr>\n",
       "      <th>14452</th>\n",
       "      <td>(WNLDRDLLFR, 2)</td>\n",
       "      <td>8</td>\n",
       "      <td>WNLDRDLLFR</td>\n",
       "      <td>2</td>\n",
       "      <td>False</td>\n",
       "      <td>2</td>\n",
       "    </tr>\n",
       "    <tr>\n",
       "      <th>1282</th>\n",
       "      <td>(CLVMLPFVDPMAR, 2)</td>\n",
       "      <td>10</td>\n",
       "      <td>CLVMLPFVDPMAR</td>\n",
       "      <td>2</td>\n",
       "      <td>False</td>\n",
       "      <td>0</td>\n",
       "    </tr>\n",
       "    <tr>\n",
       "      <th>5592</th>\n",
       "      <td>(HQYDYDAATVYGFLK, 2)</td>\n",
       "      <td>7</td>\n",
       "      <td>HQYDYDAATVYGFLK</td>\n",
       "      <td>2</td>\n",
       "      <td>False</td>\n",
       "      <td>3</td>\n",
       "    </tr>\n",
       "    <tr>\n",
       "      <th>13026</th>\n",
       "      <td>(TTLLDILAMK, 2)</td>\n",
       "      <td>3</td>\n",
       "      <td>TTLLDILAMK</td>\n",
       "      <td>2</td>\n",
       "      <td>False</td>\n",
       "      <td>7</td>\n",
       "    </tr>\n",
       "  </tbody>\n",
       "</table>\n",
       "</div>"
      ],
      "text/plain": [
       "                  sequence_charge  number_of_runs_targets_extracted  \\\n",
       "8451   (LVSGEATPINMTNHTYFNLNK, 3)                                 7   \n",
       "14452             (WNLDRDLLFR, 2)                                 8   \n",
       "1282           (CLVMLPFVDPMAR, 2)                                10   \n",
       "5592         (HQYDYDAATVYGFLK, 2)                                 7   \n",
       "13026             (TTLLDILAMK, 2)                                 3   \n",
       "\n",
       "                    sequence  charge  human  missing_files  \n",
       "8451   LVSGEATPINMTNHTYFNLNK       3  False              3  \n",
       "14452             WNLDRDLLFR       2  False              2  \n",
       "1282           CLVMLPFVDPMAR       2  False              0  \n",
       "5592         HQYDYDAATVYGFLK       2  False              3  \n",
       "13026             TTLLDILAMK       2  False              7  "
      ]
     },
     "execution_count": 147,
     "metadata": {},
     "output_type": "execute_result"
    }
   ],
   "source": [
    "human_sequence_occurences_df[(human_sequence_occurences_df.human == False)].sample(n=5)"
   ]
  },
  {
   "cell_type": "code",
   "execution_count": 148,
   "metadata": {},
   "outputs": [
    {
     "data": {
      "text/html": [
       "<div>\n",
       "<style scoped>\n",
       "    .dataframe tbody tr th:only-of-type {\n",
       "        vertical-align: middle;\n",
       "    }\n",
       "\n",
       "    .dataframe tbody tr th {\n",
       "        vertical-align: top;\n",
       "    }\n",
       "\n",
       "    .dataframe thead th {\n",
       "        text-align: right;\n",
       "    }\n",
       "</style>\n",
       "<table border=\"1\" class=\"dataframe\">\n",
       "  <thead>\n",
       "    <tr style=\"text-align: right;\">\n",
       "      <th></th>\n",
       "      <th>sequence</th>\n",
       "      <th>charge</th>\n",
       "      <th>number_of_runs_targets_extracted</th>\n",
       "      <th>missing_files</th>\n",
       "    </tr>\n",
       "  </thead>\n",
       "  <tbody>\n",
       "    <tr>\n",
       "      <th>6385</th>\n",
       "      <td>IPGTDAQAQAEDMNVK</td>\n",
       "      <td>2</td>\n",
       "      <td>10</td>\n",
       "      <td>0</td>\n",
       "    </tr>\n",
       "    <tr>\n",
       "      <th>321</th>\n",
       "      <td>AGDQIICM[15.9949]DDVYGGTNR</td>\n",
       "      <td>2</td>\n",
       "      <td>10</td>\n",
       "      <td>0</td>\n",
       "    </tr>\n",
       "    <tr>\n",
       "      <th>1264</th>\n",
       "      <td>CLELFSELAEDKENYK</td>\n",
       "      <td>3</td>\n",
       "      <td>10</td>\n",
       "      <td>0</td>\n",
       "    </tr>\n",
       "    <tr>\n",
       "      <th>12806</th>\n",
       "      <td>TPETAEFLGEDLLQVEQR</td>\n",
       "      <td>2</td>\n",
       "      <td>10</td>\n",
       "      <td>0</td>\n",
       "    </tr>\n",
       "    <tr>\n",
       "      <th>550</th>\n",
       "      <td>ALGVHSMNDFR</td>\n",
       "      <td>2</td>\n",
       "      <td>6</td>\n",
       "      <td>4</td>\n",
       "    </tr>\n",
       "  </tbody>\n",
       "</table>\n",
       "</div>"
      ],
      "text/plain": [
       "                         sequence  charge  number_of_runs_targets_extracted  \\\n",
       "6385             IPGTDAQAQAEDMNVK       2                                10   \n",
       "321    AGDQIICM[15.9949]DDVYGGTNR       2                                10   \n",
       "1264             CLELFSELAEDKENYK       3                                10   \n",
       "12806          TPETAEFLGEDLLQVEQR       2                                10   \n",
       "550                   ALGVHSMNDFR       2                                 6   \n",
       "\n",
       "       missing_files  \n",
       "6385               0  \n",
       "321                0  \n",
       "1264               0  \n",
       "12806              0  \n",
       "550                4  "
      ]
     },
     "execution_count": 148,
     "metadata": {},
     "output_type": "execute_result"
    }
   ],
   "source": [
    "human_sequence_occurences_df.sample(n=5)[['sequence','charge','number_of_runs_targets_extracted','missing_files']]"
   ]
  },
  {
   "cell_type": "code",
   "execution_count": 149,
   "metadata": {},
   "outputs": [
    {
     "data": {
      "text/plain": [
       "15085"
      ]
     },
     "execution_count": 149,
     "metadata": {},
     "output_type": "execute_result"
    }
   ],
   "source": [
    "unique_sequences_human_df = human_only_df.drop_duplicates(subset=['sequence', 'charge'], keep='first', inplace=False)\n",
    "number_of_unique_sequences_human = len(unique_sequences_human_df)\n",
    "number_of_unique_sequences_human"
   ]
  },
  {
   "cell_type": "code",
   "execution_count": 150,
   "metadata": {},
   "outputs": [
    {
     "data": {
      "image/png": "[encoded data removed]",
      "text/plain": [
       "<Figure size 1080x576 with 1 Axes>"
      ]
     },
     "metadata": {
      "needs_background": "light"
     },
     "output_type": "display_data"
    }
   ],
   "source": [
    "f, ax1 = plt.subplots()\n",
    "f.set_figheight(8)\n",
    "f.set_figwidth(15)\n",
    "\n",
    "plt.margins(0.06)\n",
    "plt.suptitle('Distribution of sequence identifications in the HeLa-only runs for TFD_E')\n",
    "plt.title('total {} modified peptide sequences'.format(number_of_unique_sequences_human))\n",
    "\n",
    "counts = np.bincount(human_sequence_occurences_df.number_of_runs_targets_extracted)\n",
    "ax1.bar(range(11), counts, width=0.8, align='center')\n",
    "plt.xlabel('number of files in which a modified sequence-charge was identified')\n",
    "plt.ylabel('frequency')\n",
    "ax1.set(xticks=range(1,11), xlim=[0, 11])\n",
    "plt.ylim((0,13000))\n",
    "\n",
    "plt.show()"
   ]
  },
  {
   "cell_type": "code",
   "execution_count": 151,
   "metadata": {},
   "outputs": [
    {
     "data": {
      "image/png": "[encoded data removed]",
      "text/plain": [
       "<Figure size 1080x576 with 1 Axes>"
      ]
     },
     "metadata": {
      "needs_background": "light"
     },
     "output_type": "display_data"
    }
   ],
   "source": [
    "f, ax1 = plt.subplots()\n",
    "f.set_figheight(8)\n",
    "f.set_figwidth(15)\n",
    "\n",
    "plt.margins(0.06)\n",
    "plt.suptitle('Distribution of sequence identifications in the HeLa-only runs for TFD_E')\n",
    "plt.title('total {} modified peptide sequences'.format(number_of_unique_sequences_human))\n",
    "\n",
    "counts_human = np.bincount(human_sequence_occurences_df[human_sequence_occurences_df.human == True].number_of_runs_targets_extracted)\n",
    "counts_other = np.bincount(human_sequence_occurences_df[human_sequence_occurences_df.human == False].number_of_runs_targets_extracted)\n",
    "\n",
    "ax1.bar(range(11), counts_human, bottom=counts_other, width=0.8, align='center')\n",
    "ax1.bar(range(11), counts_other, width=0.8, align='center')\n",
    "\n",
    "plt.xlabel('number of files in which a modified sequence-charge was identified')\n",
    "plt.ylabel('frequency')\n",
    "ax1.set(xticks=range(1,11), xlim=[0, 11])\n",
    "plt.ylim((0,13000))\n",
    "\n",
    "plt.show()"
   ]
  },
  {
   "cell_type": "code",
   "execution_count": null,
   "metadata": {},
   "outputs": [],
   "source": []
  }
 ],
 "metadata": {
  "kernelspec": {
   "display_name": "Python 3",
   "language": "python",
   "name": "python3"
  },
  "language_info": {
   "codemirror_mode": {
    "name": "ipython",
    "version": 3
   },
   "file_extension": ".py",
   "mimetype": "text/x-python",
   "name": "python",
   "nbconvert_exporter": "python",
   "pygments_lexer": "ipython3",
   "version": "3.6.8"
  }
 },
 "nbformat": 4,
 "nbformat_minor": 2
}
