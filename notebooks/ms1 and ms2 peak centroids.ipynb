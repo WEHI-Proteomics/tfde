{
 "cells": [
  {
   "cell_type": "markdown",
   "metadata": {},
   "source": [
    "This notebook provides for a visual check of ms1 and ms2 peak centroids"
   ]
  },
  {
   "cell_type": "code",
   "execution_count": 1,
   "metadata": {},
   "outputs": [],
   "source": [
    "import numpy as np\n",
    "import matplotlib.pyplot as plt\n",
    "import sqlite3\n",
    "import pandas as pd\n",
    "from scipy.signal import correlate"
   ]
  },
  {
   "cell_type": "code",
   "execution_count": 3,
   "metadata": {},
   "outputs": [],
   "source": [
    "feature_id = 11359\n",
    "ms1_peak_id = 2"
   ]
  },
  {
   "cell_type": "code",
   "execution_count": 4,
   "metadata": {},
   "outputs": [],
   "source": [
    "database_name = '/home/ubuntu/HeLa_20KInt/HeLa_20KInt-features-{}-{}.sqlite'.format(feature_id, feature_id)"
   ]
  },
  {
   "cell_type": "code",
   "execution_count": 5,
   "metadata": {},
   "outputs": [
    {
     "data": {
      "text/html": [
       "<div>\n",
       "<style scoped>\n",
       "    .dataframe tbody tr th:only-of-type {\n",
       "        vertical-align: middle;\n",
       "    }\n",
       "\n",
       "    .dataframe tbody tr th {\n",
       "        vertical-align: top;\n",
       "    }\n",
       "\n",
       "    .dataframe thead th {\n",
       "        text-align: right;\n",
       "    }\n",
       "</style>\n",
       "<table border=\"1\" class=\"dataframe\">\n",
       "  <thead>\n",
       "    <tr style=\"text-align: right;\">\n",
       "      <th></th>\n",
       "      <th>max(peak_id)</th>\n",
       "    </tr>\n",
       "  </thead>\n",
       "  <tbody>\n",
       "    <tr>\n",
       "      <th>0</th>\n",
       "      <td>4</td>\n",
       "    </tr>\n",
       "  </tbody>\n",
       "</table>\n",
       "</div>"
      ],
      "text/plain": [
       "   max(peak_id)\n",
       "0             4"
      ]
     },
     "execution_count": 5,
     "metadata": {},
     "output_type": "execute_result"
    }
   ],
   "source": [
    "source_conn = sqlite3.connect(database_name)\n",
    "max_peak_id_df = pd.read_sql_query(\"select max(peak_id) from ms1_feature_region_peaks where feature_id={}\".format(feature_id), source_conn)\n",
    "source_conn.close()\n",
    "max_peak_id_df"
   ]
  },
  {
   "cell_type": "code",
   "execution_count": 6,
   "metadata": {},
   "outputs": [],
   "source": [
    "source_conn = sqlite3.connect(database_name)\n",
    "ms1_peaks_df = pd.read_sql_query(\"select centroid_scan from ms1_feature_region_peaks where feature_id={} and peak_id={}\".format(feature_id,ms1_peak_id), source_conn)\n",
    "source_conn.close()"
   ]
  },
  {
   "cell_type": "code",
   "execution_count": 7,
   "metadata": {},
   "outputs": [
    {
     "data": {
      "text/plain": [
       "529.7912936620775"
      ]
     },
     "execution_count": 7,
     "metadata": {},
     "output_type": "execute_result"
    }
   ],
   "source": [
    "peak_centroid = ms1_peaks_df.loc[0].centroid_scan\n",
    "peak_centroid"
   ]
  },
  {
   "cell_type": "code",
   "execution_count": 8,
   "metadata": {},
   "outputs": [],
   "source": [
    "source_conn = sqlite3.connect(database_name)\n",
    "ms1_peak_points_df = pd.read_sql_query(\"select * from summed_ms1_regions where feature_id={} and peak_id={}\".format(feature_id,ms1_peak_id), source_conn)\n",
    "source_conn.close()"
   ]
  },
  {
   "cell_type": "code",
   "execution_count": 9,
   "metadata": {},
   "outputs": [
    {
     "data": {
      "text/html": [
       "<div>\n",
       "<style scoped>\n",
       "    .dataframe tbody tr th:only-of-type {\n",
       "        vertical-align: middle;\n",
       "    }\n",
       "\n",
       "    .dataframe tbody tr th {\n",
       "        vertical-align: top;\n",
       "    }\n",
       "\n",
       "    .dataframe thead th {\n",
       "        text-align: right;\n",
       "    }\n",
       "</style>\n",
       "<table border=\"1\" class=\"dataframe\">\n",
       "  <thead>\n",
       "    <tr style=\"text-align: right;\">\n",
       "      <th></th>\n",
       "      <th>feature_id</th>\n",
       "      <th>point_id</th>\n",
       "      <th>mz</th>\n",
       "      <th>retention_time_secs</th>\n",
       "      <th>scan</th>\n",
       "      <th>intensity</th>\n",
       "      <th>number_frames</th>\n",
       "      <th>peak_id</th>\n",
       "      <th>feature_point</th>\n",
       "    </tr>\n",
       "  </thead>\n",
       "  <tbody>\n",
       "    <tr>\n",
       "      <th>0</th>\n",
       "      <td>11359</td>\n",
       "      <td>2</td>\n",
       "      <td>703.330825</td>\n",
       "      <td>2333.888755</td>\n",
       "      <td>519</td>\n",
       "      <td>478</td>\n",
       "      <td>1</td>\n",
       "      <td>2</td>\n",
       "      <td>11359|2</td>\n",
       "    </tr>\n",
       "    <tr>\n",
       "      <th>1</th>\n",
       "      <td>11359</td>\n",
       "      <td>4</td>\n",
       "      <td>703.352972</td>\n",
       "      <td>2333.425213</td>\n",
       "      <td>520</td>\n",
       "      <td>411</td>\n",
       "      <td>1</td>\n",
       "      <td>2</td>\n",
       "      <td>11359|4</td>\n",
       "    </tr>\n",
       "    <tr>\n",
       "      <th>2</th>\n",
       "      <td>11359</td>\n",
       "      <td>6</td>\n",
       "      <td>703.359339</td>\n",
       "      <td>2334.277419</td>\n",
       "      <td>521</td>\n",
       "      <td>719</td>\n",
       "      <td>1</td>\n",
       "      <td>2</td>\n",
       "      <td>11359|6</td>\n",
       "    </tr>\n",
       "    <tr>\n",
       "      <th>3</th>\n",
       "      <td>11359</td>\n",
       "      <td>8</td>\n",
       "      <td>703.352522</td>\n",
       "      <td>2333.964965</td>\n",
       "      <td>522</td>\n",
       "      <td>757</td>\n",
       "      <td>1</td>\n",
       "      <td>2</td>\n",
       "      <td>11359|8</td>\n",
       "    </tr>\n",
       "    <tr>\n",
       "      <th>4</th>\n",
       "      <td>11359</td>\n",
       "      <td>10</td>\n",
       "      <td>703.361922</td>\n",
       "      <td>2333.848092</td>\n",
       "      <td>523</td>\n",
       "      <td>946</td>\n",
       "      <td>1</td>\n",
       "      <td>2</td>\n",
       "      <td>11359|10</td>\n",
       "    </tr>\n",
       "  </tbody>\n",
       "</table>\n",
       "</div>"
      ],
      "text/plain": [
       "   feature_id  point_id          mz  retention_time_secs  scan  intensity  \\\n",
       "0       11359         2  703.330825          2333.888755   519        478   \n",
       "1       11359         4  703.352972          2333.425213   520        411   \n",
       "2       11359         6  703.359339          2334.277419   521        719   \n",
       "3       11359         8  703.352522          2333.964965   522        757   \n",
       "4       11359        10  703.361922          2333.848092   523        946   \n",
       "\n",
       "   number_frames  peak_id feature_point  \n",
       "0              1        2       11359|2  \n",
       "1              1        2       11359|4  \n",
       "2              1        2       11359|6  \n",
       "3              1        2       11359|8  \n",
       "4              1        2      11359|10  "
      ]
     },
     "execution_count": 9,
     "metadata": {},
     "output_type": "execute_result"
    }
   ],
   "source": [
    "ms1_peak_points_df.head()"
   ]
  },
  {
   "cell_type": "code",
   "execution_count": 10,
   "metadata": {},
   "outputs": [
    {
     "data": {
      "image/png": "[encoded data removed]",
      "text/plain": [
       "<Figure size 1080x360 with 1 Axes>"
      ]
     },
     "metadata": {},
     "output_type": "display_data"
    }
   ],
   "source": [
    "fig, ax1 = plt.subplots()\n",
    "fig.set_figheight(5)\n",
    "fig.set_figwidth(15)\n",
    "ax1.plot(ms1_peak_points_df.scan, ms1_peak_points_df.intensity, marker='', linestyle='-.', ms=5, color='tab:gray', label='peak')\n",
    "plt.axvline(x=peak_centroid, linestyle=':', color='tab:red')\n",
    "plt.legend(loc='best')\n",
    "ax1.set_ylabel('intensity')\n",
    "ax1.set_xlabel('scan')\n",
    "plt.title(\"ms1 peak {} for feature {}\".format(ms1_peak_id,feature_id))\n",
    "plt.margins(0.06)\n",
    "plt.show()"
   ]
  },
  {
   "cell_type": "code",
   "execution_count": 11,
   "metadata": {},
   "outputs": [
    {
     "data": {
      "text/html": [
       "<div>\n",
       "<style scoped>\n",
       "    .dataframe tbody tr th:only-of-type {\n",
       "        vertical-align: middle;\n",
       "    }\n",
       "\n",
       "    .dataframe tbody tr th {\n",
       "        vertical-align: top;\n",
       "    }\n",
       "\n",
       "    .dataframe thead th {\n",
       "        text-align: right;\n",
       "    }\n",
       "</style>\n",
       "<table border=\"1\" class=\"dataframe\">\n",
       "  <thead>\n",
       "    <tr style=\"text-align: right;\">\n",
       "      <th></th>\n",
       "      <th>max(peak_id)</th>\n",
       "    </tr>\n",
       "  </thead>\n",
       "  <tbody>\n",
       "    <tr>\n",
       "      <th>0</th>\n",
       "      <td>112</td>\n",
       "    </tr>\n",
       "  </tbody>\n",
       "</table>\n",
       "</div>"
      ],
      "text/plain": [
       "   max(peak_id)\n",
       "0           112"
      ]
     },
     "execution_count": 11,
     "metadata": {},
     "output_type": "execute_result"
    }
   ],
   "source": [
    "source_conn = sqlite3.connect(database_name)\n",
    "max_peak_id_df = pd.read_sql_query(\"select max(peak_id) from ms2_peaks where feature_id={}\".format(feature_id), source_conn)\n",
    "source_conn.close()\n",
    "max_peak_id_df"
   ]
  },
  {
   "cell_type": "code",
   "execution_count": 15,
   "metadata": {},
   "outputs": [],
   "source": [
    "ms2_peak_id = 112"
   ]
  },
  {
   "cell_type": "code",
   "execution_count": 16,
   "metadata": {},
   "outputs": [],
   "source": [
    "source_conn = sqlite3.connect(database_name)\n",
    "ms2_peaks_df = pd.read_sql_query(\"select centroid_scan from ms2_peaks where feature_id={} and peak_id={}\".format(feature_id,ms2_peak_id), source_conn)\n",
    "source_conn.close()"
   ]
  },
  {
   "cell_type": "code",
   "execution_count": 17,
   "metadata": {},
   "outputs": [],
   "source": [
    "ms2_centroid_scan = ms2_peaks_df.loc[0].centroid_scan"
   ]
  },
  {
   "cell_type": "code",
   "execution_count": 18,
   "metadata": {},
   "outputs": [],
   "source": [
    "source_conn = sqlite3.connect(database_name)\n",
    "ms2_peak_points_df = pd.read_sql_query(\"select * from summed_ms2_regions where feature_id={} and peak_id={}\".format(feature_id,ms2_peak_id), source_conn)\n",
    "source_conn.close()"
   ]
  },
  {
   "cell_type": "code",
   "execution_count": 19,
   "metadata": {},
   "outputs": [
    {
     "data": {
      "text/html": [
       "<div>\n",
       "<style scoped>\n",
       "    .dataframe tbody tr th:only-of-type {\n",
       "        vertical-align: middle;\n",
       "    }\n",
       "\n",
       "    .dataframe tbody tr th {\n",
       "        vertical-align: top;\n",
       "    }\n",
       "\n",
       "    .dataframe thead th {\n",
       "        text-align: right;\n",
       "    }\n",
       "</style>\n",
       "<table border=\"1\" class=\"dataframe\">\n",
       "  <thead>\n",
       "    <tr style=\"text-align: right;\">\n",
       "      <th></th>\n",
       "      <th>feature_id</th>\n",
       "      <th>peak_id</th>\n",
       "      <th>point_id</th>\n",
       "      <th>mz</th>\n",
       "      <th>scan</th>\n",
       "      <th>intensity</th>\n",
       "    </tr>\n",
       "  </thead>\n",
       "  <tbody>\n",
       "    <tr>\n",
       "      <th>0</th>\n",
       "      <td>11359</td>\n",
       "      <td>112</td>\n",
       "      <td>785</td>\n",
       "      <td>1075.535</td>\n",
       "      <td>512</td>\n",
       "      <td>9</td>\n",
       "    </tr>\n",
       "    <tr>\n",
       "      <th>1</th>\n",
       "      <td>11359</td>\n",
       "      <td>112</td>\n",
       "      <td>786</td>\n",
       "      <td>1075.535</td>\n",
       "      <td>515</td>\n",
       "      <td>129</td>\n",
       "    </tr>\n",
       "    <tr>\n",
       "      <th>2</th>\n",
       "      <td>11359</td>\n",
       "      <td>112</td>\n",
       "      <td>787</td>\n",
       "      <td>1075.535</td>\n",
       "      <td>523</td>\n",
       "      <td>19</td>\n",
       "    </tr>\n",
       "    <tr>\n",
       "      <th>3</th>\n",
       "      <td>11359</td>\n",
       "      <td>112</td>\n",
       "      <td>788</td>\n",
       "      <td>1075.535</td>\n",
       "      <td>525</td>\n",
       "      <td>51</td>\n",
       "    </tr>\n",
       "    <tr>\n",
       "      <th>4</th>\n",
       "      <td>11359</td>\n",
       "      <td>112</td>\n",
       "      <td>789</td>\n",
       "      <td>1075.535</td>\n",
       "      <td>526</td>\n",
       "      <td>11</td>\n",
       "    </tr>\n",
       "  </tbody>\n",
       "</table>\n",
       "</div>"
      ],
      "text/plain": [
       "   feature_id  peak_id  point_id        mz  scan  intensity\n",
       "0       11359      112       785  1075.535   512          9\n",
       "1       11359      112       786  1075.535   515        129\n",
       "2       11359      112       787  1075.535   523         19\n",
       "3       11359      112       788  1075.535   525         51\n",
       "4       11359      112       789  1075.535   526         11"
      ]
     },
     "execution_count": 19,
     "metadata": {},
     "output_type": "execute_result"
    }
   ],
   "source": [
    "ms2_peak_points_df.head()"
   ]
  },
  {
   "cell_type": "code",
   "execution_count": 20,
   "metadata": {},
   "outputs": [
    {
     "data": {
      "image/png": "[encoded data removed]",
      "text/plain": [
       "<Figure size 1080x360 with 1 Axes>"
      ]
     },
     "metadata": {},
     "output_type": "display_data"
    }
   ],
   "source": [
    "fig, ax1 = plt.subplots()\n",
    "fig.set_figheight(5)\n",
    "fig.set_figwidth(15)\n",
    "ax1.plot(ms2_peak_points_df.scan, ms2_peak_points_df.intensity, marker='', linestyle='-.', ms=5, color='tab:gray', label='peak')\n",
    "plt.axvline(x=ms2_centroid_scan, linestyle=':', color='tab:red')\n",
    "plt.legend(loc='best')\n",
    "ax1.set_ylabel('intensity')\n",
    "ax1.set_xlabel('scan')\n",
    "plt.title(\"ms2 peak {} for feature {}\".format(ms2_peak_id,feature_id))\n",
    "plt.margins(0.06)\n",
    "plt.show()"
   ]
  },
  {
   "cell_type": "code",
   "execution_count": null,
   "metadata": {
    "collapsed": true
   },
   "outputs": [],
   "source": []
  }
 ],
 "metadata": {
  "kernelspec": {
   "display_name": "Python 2",
   "language": "python",
   "name": "python2"
  },
  "language_info": {
   "codemirror_mode": {
    "name": "ipython",
    "version": 2
   },
   "file_extension": ".py",
   "mimetype": "text/x-python",
   "name": "python",
   "nbconvert_exporter": "python",
   "pygments_lexer": "ipython2",
   "version": "2.7.15"
  }
 },
 "nbformat": 4,
 "nbformat_minor": 2
}
