{
 "cells": [
  {
   "cell_type": "code",
   "execution_count": 1,
   "metadata": {},
   "outputs": [],
   "source": [
    "import pandas as pd\n",
    "import numpy as np\n",
    "import sys\n",
    "import matplotlib.pyplot as plt\n",
    "import matplotlib.patches as patches\n",
    "from ms_deisotope import deconvolute_peaks, averagine, scoring\n",
    "from ms_deisotope.deconvolution import peak_retention_strategy\n",
    "import json\n",
    "from os.path import expanduser\n"
   ]
  },
  {
   "cell_type": "code",
   "execution_count": 2,
   "metadata": {},
   "outputs": [],
   "source": [
    "experiment_base_dir = '/media/big-ssd/experiments'\n",
    "experiment_name = 'P3856'\n",
    "precursor_definition_method = 'pasef'\n",
    "run_name = 'P3856_YHE211_1_Slot1-1_1_5104'\n",
    "\n",
    "EXPERIMENT_DIR = \"{}/{}\".format(experiment_base_dir, experiment_name)"
   ]
  },
  {
   "cell_type": "code",
   "execution_count": 3,
   "metadata": {},
   "outputs": [],
   "source": [
    "# select a precursor cuboid id to visualise\n",
    "# FEATURES_DIR = \"{}/features-{}\".format(EXPERIMENT_DIR, precursor_definition_method)\n",
    "# FEATURES_DEDUP_FILE = '{}/exp-{}-run-{}-features-{}-dedup.pkl'.format(FEATURES_DIR, experiment_name, run_name, precursor_definition_method)\n",
    "# d = pd.read_pickle(FEATURES_DEDUP_FILE)\n",
    "# features_df = d['features_df']\n",
    "# precursor_cuboid_id = features_df.sample(n=1).iloc[0].precursor_cuboid_id\n",
    "# precursor_cuboid_id\n",
    "\n",
    "# some good precursors for analysis\n",
    "# precursor_cuboid_id = 23911\n",
    "# precursor_cuboid_id = 18601\n",
    "precursor_cuboid_id = 35173"
   ]
  },
  {
   "cell_type": "code",
   "execution_count": 15,
   "metadata": {},
   "outputs": [],
   "source": [
    "VIS_FILE = '{}/feature-detection-visualisation-{}.pkl'.format(expanduser(\"~\"), precursor_cuboid_id)"
   ]
  },
  {
   "cell_type": "code",
   "execution_count": 16,
   "metadata": {},
   "outputs": [
    {
     "data": {
      "text/plain": [
       "dict_keys(['precursor_cuboid_d', 'wide_ms1_points_df', 'peaks_after_intensity_descent', 'deconvolution_features_df', 'features_df'])"
      ]
     },
     "execution_count": 16,
     "metadata": {},
     "output_type": "execute_result"
    }
   ],
   "source": [
    "# load the visualisation file for this precursor cuboid\n",
    "vis_d = pd.read_pickle(VIS_FILE)\n",
    "vis_d.keys()"
   ]
  },
  {
   "cell_type": "code",
   "execution_count": 17,
   "metadata": {},
   "outputs": [
    {
     "data": {
      "text/html": [
       "<div>\n",
       "<style scoped>\n",
       "    .dataframe tbody tr th:only-of-type {\n",
       "        vertical-align: middle;\n",
       "    }\n",
       "\n",
       "    .dataframe tbody tr th {\n",
       "        vertical-align: top;\n",
       "    }\n",
       "\n",
       "    .dataframe thead th {\n",
       "        text-align: right;\n",
       "    }\n",
       "</style>\n",
       "<table border=\"1\" class=\"dataframe\">\n",
       "  <thead>\n",
       "    <tr style=\"text-align: right;\">\n",
       "      <th></th>\n",
       "      <th>mz_apex_without_saturation_correction</th>\n",
       "      <th>mz_apex_with_saturation_correction</th>\n",
       "      <th>mz_lower</th>\n",
       "      <th>mz_upper</th>\n",
       "      <th>scan_apex</th>\n",
       "      <th>scan_lower</th>\n",
       "      <th>scan_upper</th>\n",
       "      <th>rt_apex</th>\n",
       "      <th>rt_lower</th>\n",
       "      <th>rt_upper</th>\n",
       "      <th>...</th>\n",
       "      <th>charge</th>\n",
       "      <th>monoisotopic_mass</th>\n",
       "      <th>feature_intensity</th>\n",
       "      <th>envelope</th>\n",
       "      <th>isotope_count</th>\n",
       "      <th>deconvolution_score</th>\n",
       "      <th>precursor_cuboid_id</th>\n",
       "      <th>fragment_ions_l</th>\n",
       "      <th>fmdw_before_after_d</th>\n",
       "      <th>feature_id</th>\n",
       "    </tr>\n",
       "  </thead>\n",
       "  <tbody>\n",
       "    <tr>\n",
       "      <th>0</th>\n",
       "      <td>964.493476</td>\n",
       "      <td>964.491604</td>\n",
       "      <td>964.462757</td>\n",
       "      <td>964.524195</td>\n",
       "      <td>239.0</td>\n",
       "      <td>208</td>\n",
       "      <td>240</td>\n",
       "      <td>2064.846238</td>\n",
       "      <td>2060.083891</td>\n",
       "      <td>2071.193947</td>\n",
       "      <td>...</td>\n",
       "      <td>2</td>\n",
       "      <td>1926.968656</td>\n",
       "      <td>21181</td>\n",
       "      <td>[[964.4934759909365, 47085.0], [964.9899454895...</td>\n",
       "      <td>4</td>\n",
       "      <td>455.857685</td>\n",
       "      <td>35173</td>\n",
       "      <td>[{\"singly_protonated_mass\": 288.2105, \"neutral...</td>\n",
       "      <td>{'before_fmdw': [{'singly_protonated_mass': 28...</td>\n",
       "      <td>3517301</td>\n",
       "    </tr>\n",
       "    <tr>\n",
       "      <th>1</th>\n",
       "      <td>966.494916</td>\n",
       "      <td>966.496252</td>\n",
       "      <td>966.464133</td>\n",
       "      <td>966.525698</td>\n",
       "      <td>203.0</td>\n",
       "      <td>165</td>\n",
       "      <td>240</td>\n",
       "      <td>2064.316138</td>\n",
       "      <td>2061.142138</td>\n",
       "      <td>2068.018871</td>\n",
       "      <td>...</td>\n",
       "      <td>2</td>\n",
       "      <td>1930.977950</td>\n",
       "      <td>329450</td>\n",
       "      <td>[[966.4949157249653, 664422.0], [966.996734652...</td>\n",
       "      <td>4</td>\n",
       "      <td>2658.885863</td>\n",
       "      <td>35173</td>\n",
       "      <td>[{\"singly_protonated_mass\": 288.2105, \"neutral...</td>\n",
       "      <td>{'before_fmdw': [{'singly_protonated_mass': 28...</td>\n",
       "      <td>3517302</td>\n",
       "    </tr>\n",
       "    <tr>\n",
       "      <th>2</th>\n",
       "      <td>967.038408</td>\n",
       "      <td>967.028029</td>\n",
       "      <td>967.007609</td>\n",
       "      <td>967.069208</td>\n",
       "      <td>210.0</td>\n",
       "      <td>165</td>\n",
       "      <td>240</td>\n",
       "      <td>2074.370156</td>\n",
       "      <td>2071.723415</td>\n",
       "      <td>2074.370156</td>\n",
       "      <td>...</td>\n",
       "      <td>2</td>\n",
       "      <td>1932.041506</td>\n",
       "      <td>7407</td>\n",
       "      <td>[[967.0384084096778, 22907.0], [967.5393065835...</td>\n",
       "      <td>4</td>\n",
       "      <td>458.189337</td>\n",
       "      <td>35173</td>\n",
       "      <td>[{\"singly_protonated_mass\": 288.2105, \"neutral...</td>\n",
       "      <td>{'before_fmdw': [{'singly_protonated_mass': 28...</td>\n",
       "      <td>3517303</td>\n",
       "    </tr>\n",
       "    <tr>\n",
       "      <th>3</th>\n",
       "      <td>967.950466</td>\n",
       "      <td>967.954229</td>\n",
       "      <td>967.919637</td>\n",
       "      <td>967.981295</td>\n",
       "      <td>201.0</td>\n",
       "      <td>165</td>\n",
       "      <td>222</td>\n",
       "      <td>2066.433093</td>\n",
       "      <td>2062.728918</td>\n",
       "      <td>2070.665493</td>\n",
       "      <td>...</td>\n",
       "      <td>2</td>\n",
       "      <td>1933.893906</td>\n",
       "      <td>33170</td>\n",
       "      <td>[[967.9504661005637, 42369.0], [968.4415545935...</td>\n",
       "      <td>4</td>\n",
       "      <td>375.174363</td>\n",
       "      <td>35173</td>\n",
       "      <td>[{\"singly_protonated_mass\": 288.2105, \"neutral...</td>\n",
       "      <td>{'before_fmdw': [{'singly_protonated_mass': 28...</td>\n",
       "      <td>3517304</td>\n",
       "    </tr>\n",
       "  </tbody>\n",
       "</table>\n",
       "<p>4 rows × 27 columns</p>\n",
       "</div>"
      ],
      "text/plain": [
       "   mz_apex_without_saturation_correction  mz_apex_with_saturation_correction  \\\n",
       "0                             964.493476                          964.491604   \n",
       "1                             966.494916                          966.496252   \n",
       "2                             967.038408                          967.028029   \n",
       "3                             967.950466                          967.954229   \n",
       "\n",
       "     mz_lower    mz_upper  scan_apex  scan_lower  scan_upper      rt_apex  \\\n",
       "0  964.462757  964.524195      239.0         208         240  2064.846238   \n",
       "1  966.464133  966.525698      203.0         165         240  2064.316138   \n",
       "2  967.007609  967.069208      210.0         165         240  2074.370156   \n",
       "3  967.919637  967.981295      201.0         165         222  2066.433093   \n",
       "\n",
       "      rt_lower     rt_upper  ...  charge  monoisotopic_mass feature_intensity  \\\n",
       "0  2060.083891  2071.193947  ...       2        1926.968656             21181   \n",
       "1  2061.142138  2068.018871  ...       2        1930.977950            329450   \n",
       "2  2071.723415  2074.370156  ...       2        1932.041506              7407   \n",
       "3  2062.728918  2070.665493  ...       2        1933.893906             33170   \n",
       "\n",
       "                                            envelope isotope_count  \\\n",
       "0  [[964.4934759909365, 47085.0], [964.9899454895...             4   \n",
       "1  [[966.4949157249653, 664422.0], [966.996734652...             4   \n",
       "2  [[967.0384084096778, 22907.0], [967.5393065835...             4   \n",
       "3  [[967.9504661005637, 42369.0], [968.4415545935...             4   \n",
       "\n",
       "  deconvolution_score  precursor_cuboid_id  \\\n",
       "0          455.857685                35173   \n",
       "1         2658.885863                35173   \n",
       "2          458.189337                35173   \n",
       "3          375.174363                35173   \n",
       "\n",
       "                                     fragment_ions_l  \\\n",
       "0  [{\"singly_protonated_mass\": 288.2105, \"neutral...   \n",
       "1  [{\"singly_protonated_mass\": 288.2105, \"neutral...   \n",
       "2  [{\"singly_protonated_mass\": 288.2105, \"neutral...   \n",
       "3  [{\"singly_protonated_mass\": 288.2105, \"neutral...   \n",
       "\n",
       "                                 fmdw_before_after_d  feature_id  \n",
       "0  {'before_fmdw': [{'singly_protonated_mass': 28...     3517301  \n",
       "1  {'before_fmdw': [{'singly_protonated_mass': 28...     3517302  \n",
       "2  {'before_fmdw': [{'singly_protonated_mass': 28...     3517303  \n",
       "3  {'before_fmdw': [{'singly_protonated_mass': 28...     3517304  \n",
       "\n",
       "[4 rows x 27 columns]"
      ]
     },
     "execution_count": 17,
     "metadata": {},
     "output_type": "execute_result"
    }
   ],
   "source": [
    "features_df = vis_d['features_df']\n",
    "features_df"
   ]
  },
  {
   "cell_type": "code",
   "execution_count": 18,
   "metadata": {},
   "outputs": [
    {
     "data": {
      "text/plain": [
       "3517302"
      ]
     },
     "execution_count": 18,
     "metadata": {},
     "output_type": "execute_result"
    }
   ],
   "source": [
    "selected_feature = 2\n",
    "selected_feature_id = features_df.iloc[selected_feature-1].feature_id\n",
    "selected_feature_id"
   ]
  },
  {
   "cell_type": "code",
   "execution_count": 8,
   "metadata": {},
   "outputs": [],
   "source": [
    "fragment_ions_before_df = pd.DataFrame(features_df.iloc[selected_feature-1].fmdw_before_after_d['before_fmdw'])\n",
    "fragment_ions_before_df['normalised_intensity'] = fragment_ions_before_df.intensity / fragment_ions_before_df.intensity.max()\n",
    "\n",
    "fragment_ions_after_df = pd.DataFrame(features_df.iloc[selected_feature-1].fmdw_before_after_d['after_fmdw'])\n",
    "fragment_ions_after_df['normalised_intensity'] = fragment_ions_after_df.intensity / fragment_ions_after_df.intensity.max()\n"
   ]
  },
  {
   "cell_type": "code",
   "execution_count": 9,
   "metadata": {},
   "outputs": [
    {
     "name": "stdout",
     "output_type": "stream",
     "text": [
      "205 ions before, 166 ions after, 19% reduction\n"
     ]
    }
   ],
   "source": [
    "reduced_by = (len(fragment_ions_before_df) - len(fragment_ions_after_df)) / len(fragment_ions_before_df) * 100\n",
    "print('{} ions before, {} ions after, {}% reduction'.format(len(fragment_ions_before_df), len(fragment_ions_after_df), round(reduced_by)))"
   ]
  },
  {
   "cell_type": "code",
   "execution_count": 10,
   "metadata": {
    "scrolled": false
   },
   "outputs": [
    {
     "data": {
      "image/png": "[encoded data removed]",
      "text/plain": [
       "<Figure size 1080x576 with 1 Axes>"
      ]
     },
     "metadata": {
      "needs_background": "light"
     },
     "output_type": "display_data"
    }
   ],
   "source": [
    "f, ax = plt.subplots()\n",
    "colors = ['tab:blue', 'tab:orange', 'tab:green', 'tab:red', 'tab:purple', 'tab:brown', 'tab:pink', 'tab:gray', 'tab:olive', 'tab:cyan']\n",
    "\n",
    "# plot the raw data\n",
    "markerline, stemlines, baseline = ax.stem(fragment_ions_before_df.neutral_mass, fragment_ions_before_df.normalised_intensity, markerfmt=\" \", use_line_collection=True, label='before mass defect filter')\n",
    "plt.setp(markerline, 'color', 'tab:green')\n",
    "plt.setp(stemlines, 'color', 'tab:green')\n",
    "plt.setp(baseline, 'color', 'tab:gray')\n",
    "\n",
    "# plot the filtered data\n",
    "markerline, stemlines, baseline = ax.stem(fragment_ions_after_df.neutral_mass, -fragment_ions_after_df.normalised_intensity, markerfmt=\" \", use_line_collection=True, label='after mass defect filter')\n",
    "plt.setp(markerline, 'color', 'tab:purple')\n",
    "plt.setp(stemlines, 'color', 'tab:purple')\n",
    "plt.setp(baseline, 'color', 'tab:gray')\n",
    "\n",
    "plt.xlabel('neutral mass (Da)')\n",
    "plt.ylabel('normalised intensity')\n",
    "f.set_figheight(8)\n",
    "f.set_figwidth(15)\n",
    "\n",
    "plt.margins(0.06)\n",
    "plt.legend(loc='best')\n",
    "plt.title('Raw ms2 spectra and mass defect windows\\nprecursor cuboid {}, experiment {}, run {}'.format(precursor_cuboid_id, experiment_name, run_name))\n",
    "plt.show()"
   ]
  },
  {
   "cell_type": "code",
   "execution_count": null,
   "metadata": {},
   "outputs": [],
   "source": []
  }
 ],
 "metadata": {
  "kernelspec": {
   "display_name": "Python 3",
   "language": "python",
   "name": "python3"
  },
  "language_info": {
   "codemirror_mode": {
    "name": "ipython",
    "version": 3
   },
   "file_extension": ".py",
   "mimetype": "text/x-python",
   "name": "python",
   "nbconvert_exporter": "python",
   "pygments_lexer": "ipython3",
   "version": "3.8.5"
  }
 },
 "nbformat": 4,
 "nbformat_minor": 2
}
