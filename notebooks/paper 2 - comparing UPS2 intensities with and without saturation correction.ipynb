{
 "cells": [
  {
   "cell_type": "code",
   "execution_count": 27,
   "metadata": {},
   "outputs": [],
   "source": [
    "import pandas as pd\n",
    "import numpy as np\n",
    "import os\n",
    "import matplotlib.pyplot as plt\n",
    "import pickle\n",
    "import seaborn as sns\n",
    "import json\n",
    "from os.path import expanduser"
   ]
  },
  {
   "cell_type": "code",
   "execution_count": 28,
   "metadata": {},
   "outputs": [],
   "source": [
    "experiment_name = 'P3830'\n",
    "feature_detection_method = 'pasef'"
   ]
  },
  {
   "cell_type": "code",
   "execution_count": 9,
   "metadata": {},
   "outputs": [],
   "source": [
    "MAXIMUM_Q_VALUE = 0.01"
   ]
  },
  {
   "cell_type": "markdown",
   "metadata": {},
   "source": [
    "#### identifications with correction for saturation"
   ]
  },
  {
   "cell_type": "code",
   "execution_count": 29,
   "metadata": {},
   "outputs": [],
   "source": [
    "IDENTIFICATIONS_WITH_CS_DIR = '{}/P3856-results-cs-true-fmdw-true-2021-05-01-14-59-47/identifications-pasef'.format(expanduser(\"~\"))\n",
    "IDENTIFICATIONS_WITH_CS_FILE = '{}/exp-{}-identifications-{}-recalibrated.pkl'.format(IDENTIFICATIONS_WITH_CS_DIR, experiment_name, feature_detection_method)"
   ]
  },
  {
   "cell_type": "code",
   "execution_count": null,
   "metadata": {},
   "outputs": [],
   "source": [
    "# load the identifications that had saturated points in the mono\n",
    "with open(IDENTIFICATIONS_WITH_CS_FILE, 'rb') as handle:\n",
    "    d = pickle.load(handle)\n",
    "identifications_with_cs_df = d['identifications_df']\n",
    "identifications_with_cs_df = identifications_with_cs_df[(identifications_with_cs_df['percolator q-value'] <= MAXIMUM_Q_VALUE)]"
   ]
  },
  {
   "cell_type": "code",
   "execution_count": 26,
   "metadata": {},
   "outputs": [
    {
     "ename": "FileNotFoundError",
     "evalue": "[Errno 2] No such file or directory: '/home/daryl/results-P3830/P3830-results-cs-true-fmdw-true-2021-05-06-16-55-14/identifications-pasef/exp-P3856-identifications-pasef-recalibrated.pkl'",
     "output_type": "error",
     "traceback": [
      "\u001b[0;31m---------------------------------------------------------------------------\u001b[0m",
      "\u001b[0;31mFileNotFoundError\u001b[0m                         Traceback (most recent call last)",
      "\u001b[0;32m<ipython-input-26-ca2de8ed4a96>\u001b[0m in \u001b[0;36m<module>\u001b[0;34m\u001b[0m\n\u001b[1;32m     21\u001b[0m \u001b[0;34m\u001b[0m\u001b[0m\n\u001b[1;32m     22\u001b[0m \u001b[0;31m# load the identifications that had saturated points in the mono\u001b[0m\u001b[0;34m\u001b[0m\u001b[0;34m\u001b[0m\u001b[0;34m\u001b[0m\u001b[0m\n\u001b[0;32m---> 23\u001b[0;31m \u001b[0;32mwith\u001b[0m \u001b[0mopen\u001b[0m\u001b[0;34m(\u001b[0m\u001b[0mIDENTIFICATIONS_WITH_CS_FILE\u001b[0m\u001b[0;34m,\u001b[0m \u001b[0;34m'rb'\u001b[0m\u001b[0;34m)\u001b[0m \u001b[0;32mas\u001b[0m \u001b[0mhandle\u001b[0m\u001b[0;34m:\u001b[0m\u001b[0;34m\u001b[0m\u001b[0;34m\u001b[0m\u001b[0m\n\u001b[0m\u001b[1;32m     24\u001b[0m     \u001b[0md\u001b[0m \u001b[0;34m=\u001b[0m \u001b[0mpickle\u001b[0m\u001b[0;34m.\u001b[0m\u001b[0mload\u001b[0m\u001b[0;34m(\u001b[0m\u001b[0mhandle\u001b[0m\u001b[0;34m)\u001b[0m\u001b[0;34m\u001b[0m\u001b[0;34m\u001b[0m\u001b[0m\n\u001b[1;32m     25\u001b[0m \u001b[0midentifications_with_cs_df\u001b[0m \u001b[0;34m=\u001b[0m \u001b[0md\u001b[0m\u001b[0;34m[\u001b[0m\u001b[0;34m'identifications_df'\u001b[0m\u001b[0;34m]\u001b[0m\u001b[0;34m\u001b[0m\u001b[0;34m\u001b[0m\u001b[0m\n",
      "\u001b[0;31mFileNotFoundError\u001b[0m: [Errno 2] No such file or directory: '/home/daryl/results-P3830/P3830-results-cs-true-fmdw-true-2021-05-06-16-55-14/identifications-pasef/exp-P3856-identifications-pasef-recalibrated.pkl'"
     ]
    }
   ],
   "source": [
    "import pandas as pd\n",
    "import numpy as np\n",
    "import os\n",
    "import matplotlib.pyplot as plt\n",
    "import pickle\n",
    "import seaborn as sns\n",
    "import json\n",
    "from os.path import expanduser\n",
    "\n",
    "experiment_name = 'P3856'\n",
    "feature_detection_method = 'pasef'\n",
    "\n",
    "IDENTIFICATIONS_WITH_CS_DIR = '{}/results-P3830/P3830-results-cs-true-fmdw-true-2021-05-06-16-55-14/identifications-pasef'.format(expanduser(\"~\"))\n",
    "IDENTIFICATIONS_WITH_CS_FILE = '{}/exp-{}-identifications-{}-recalibrated.pkl'.format(IDENTIFICATIONS_WITH_CS_DIR, experiment_name, feature_detection_method)\n",
    "\n",
    "IDENTIFICATIONS_WITH_CS_FILE\n",
    "\n",
    "MAXIMUM_Q_VALUE = 0.01\n",
    "\n",
    "#### identifications with correction for saturation\n",
    "\n",
    "# load the identifications that had saturated points in the mono\n",
    "with open(IDENTIFICATIONS_WITH_CS_FILE, 'rb') as handle:\n",
    "    d = pickle.load(handle)\n",
    "identifications_with_cs_df = d['identifications_df']\n",
    "identifications_with_cs_df = identifications_with_cs_df[(identifications_with_cs_df['percolator q-value'] <= MAXIMUM_Q_VALUE)]"
   ]
  },
  {
   "cell_type": "markdown",
   "metadata": {},
   "source": [
    "#### identifications without correction for saturation"
   ]
  },
  {
   "cell_type": "code",
   "execution_count": 10,
   "metadata": {},
   "outputs": [],
   "source": [
    "IDENTIFICATIONS_DIR = '{}/results-P3830/P3830-results-cs-false-fmdw-true-2021-05-06-10-17-36/identifications-pasef'.format(expanduser(\"~\"))\n",
    "IDENTIFICATIONS_FILE = '{}/exp-{}-identifications-{}-recalibrated.pkl'.format(IDENTIFICATIONS_DIR, experiment_name, feature_detection_method)"
   ]
  },
  {
   "cell_type": "code",
   "execution_count": 17,
   "metadata": {},
   "outputs": [],
   "source": [
    "# load the identifications that had saturated points in the mono\n",
    "with open(IDENTIFICATIONS_FILE, 'rb') as handle:\n",
    "    d = pickle.load(handle)\n",
    "identifications_without_cs_df = d['identifications_df']\n",
    "identifications_without_cs_df = identifications_without_cs_df[(identifications_without_cs_df['percolator q-value'] <= MAXIMUM_Q_VALUE) & (~identifications_without_cs_df['protein id'].str.contains('YEAST'))]"
   ]
  },
  {
   "cell_type": "code",
   "execution_count": 18,
   "metadata": {},
   "outputs": [
    {
     "data": {
      "text/plain": [
       "Index(['mono_mz_lower', 'mono_mz_upper', 'scan_apex', 'scan_lower',\n",
       "       'scan_upper', 'rt_apex', 'rt_lower', 'rt_upper',\n",
       "       'mono_intensity_without_saturation_correction',\n",
       "       'mono_intensity_with_saturation_correction',\n",
       "       'mono_intensity_adjustment_outcome', 'isotopic_peaks', 'scan_df',\n",
       "       'rt_df', 'monoisotopic_mz', 'charge', 'monoisotopic_mass',\n",
       "       'feature_intensity', 'envelope', 'isotope_count', 'deconvolution_score',\n",
       "       'precursor_cuboid_id', 'fragment_ions_l', 'fmdw_before_after_d',\n",
       "       'feature_id', 'run_name', 'predicted_mass_error',\n",
       "       'recalibrated_monoisotopic_mass', 'recalibrated_monoisotopic_mz',\n",
       "       'file_idx', 'spectrum precursor m/z', 'spectrum neutral mass',\n",
       "       'peptide mass', 'percolator score', 'percolator q-value',\n",
       "       'percolator PEP', 'total matches/spectrum', 'sequence', 'protein id',\n",
       "       'flanking aa', 'observed_monoisotopic_mass', 'theoretical_peptide_mass',\n",
       "       'mass_accuracy_ppm', 'mass_error'],\n",
       "      dtype='object')"
      ]
     },
     "execution_count": 18,
     "metadata": {},
     "output_type": "execute_result"
    }
   ],
   "source": [
    "identifications_without_cs_df.columns"
   ]
  },
  {
   "cell_type": "code",
   "execution_count": 19,
   "metadata": {},
   "outputs": [
    {
     "data": {
      "text/plain": [
       "3340      P69905ups|HBA_HUMAN_UPS\n",
       "112      P02768ups|ALBU_HUMAN_UPS\n",
       "18881    P02768ups|ALBU_HUMAN_UPS\n",
       "12806    P02768ups|ALBU_HUMAN_UPS\n",
       "15534    P04040ups|CATA_HUMAN_UPS\n",
       "15569    P02768ups|ALBU_HUMAN_UPS\n",
       "3022      P69905ups|HBA_HUMAN_UPS\n",
       "447      P02768ups|ALBU_HUMAN_UPS\n",
       "11864     P41159ups|LEP_HUMAN_UPS\n",
       "893      P02768ups|ALBU_HUMAN_UPS\n",
       "Name: protein id, dtype: object"
      ]
     },
     "execution_count": 19,
     "metadata": {},
     "output_type": "execute_result"
    }
   ],
   "source": [
    "identifications_without_cs_df['protein id'].sample(n=10)"
   ]
  },
  {
   "cell_type": "code",
   "execution_count": 20,
   "metadata": {},
   "outputs": [
    {
     "data": {
      "text/plain": [
       "17"
      ]
     },
     "execution_count": 20,
     "metadata": {},
     "output_type": "execute_result"
    }
   ],
   "source": [
    "len(identifications_without_cs_df['protein id'].unique())"
   ]
  },
  {
   "cell_type": "code",
   "execution_count": 25,
   "metadata": {},
   "outputs": [
    {
     "name": "stderr",
     "output_type": "stream",
     "text": [
      "/home/daryl/anaconda3/envs/py36/lib/python3.8/site-packages/seaborn/distributions.py:2557: FutureWarning: `distplot` is a deprecated function and will be removed in a future version. Please adapt your code to use either `displot` (a figure-level function with similar flexibility) or `histplot` (an axes-level function for histograms).\n",
      "  warnings.warn(msg, FutureWarning)\n"
     ]
    },
    {
     "data": {
      "image/png": "[encoded data removed]",
      "text/plain": [
       "<Figure size 1080x720 with 1 Axes>"
      ]
     },
     "metadata": {
      "needs_background": "light"
     },
     "output_type": "display_data"
    }
   ],
   "source": [
    "import seaborn as sns\n",
    "plt.figure(figsize=(15, 10))\n",
    "\n",
    "title = ''\n",
    "plt.title(title)\n",
    "\n",
    "# plt.xlim((-4,4))\n",
    "# plt.ylim((0,1))\n",
    "\n",
    "ax = sns.distplot(np.log10(identifications_without_cs_df.feature_intensity), hist = True, color='tab:green', kde = True, kde_kws = {'shade': True, 'linewidth': 1}, label = 'without correction')\n",
    "\n",
    "_ = ax.set(xlabel='feature intensity', ylabel='density')\n",
    "_ = ax.legend()"
   ]
  },
  {
   "cell_type": "code",
   "execution_count": null,
   "metadata": {},
   "outputs": [],
   "source": []
  }
 ],
 "metadata": {
  "kernelspec": {
   "display_name": "Python 3",
   "language": "python",
   "name": "python3"
  },
  "language_info": {
   "codemirror_mode": {
    "name": "ipython",
    "version": 3
   },
   "file_extension": ".py",
   "mimetype": "text/x-python",
   "name": "python",
   "nbconvert_exporter": "python",
   "pygments_lexer": "ipython3",
   "version": "3.8.5"
  }
 },
 "nbformat": 4,
 "nbformat_minor": 4
}
