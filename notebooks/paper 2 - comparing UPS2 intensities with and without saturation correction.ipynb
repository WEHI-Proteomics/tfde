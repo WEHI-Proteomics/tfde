{
 "cells": [
  {
   "cell_type": "code",
   "execution_count": 1,
   "metadata": {},
   "outputs": [],
   "source": [
    "import pandas as pd\n",
    "import numpy as np\n",
    "import os\n",
    "import matplotlib.pyplot as plt\n",
    "import pickle\n",
    "import seaborn as sns\n",
    "import json\n",
    "from os.path import expanduser"
   ]
  },
  {
   "cell_type": "code",
   "execution_count": 2,
   "metadata": {},
   "outputs": [],
   "source": [
    "experiment_name = 'P3830'\n",
    "feature_detection_method = 'pasef'"
   ]
  },
  {
   "cell_type": "code",
   "execution_count": 3,
   "metadata": {},
   "outputs": [],
   "source": [
    "MAXIMUM_Q_VALUE = 0.01"
   ]
  },
  {
   "cell_type": "code",
   "execution_count": 4,
   "metadata": {},
   "outputs": [],
   "source": [
    "BASE_RESULTS_DIR = '/media/big-ssd'"
   ]
  },
  {
   "cell_type": "markdown",
   "metadata": {},
   "source": [
    "#### identifications with correction for saturation"
   ]
  },
  {
   "cell_type": "code",
   "execution_count": 5,
   "metadata": {},
   "outputs": [],
   "source": [
    "IDENTIFICATIONS_WITH_CS_DIR = '{}/results-P3830/P3830-results-cs-true-fmdw-true-2021-05-17-15-49-22/identifications-pasef'.format(BASE_RESULTS_DIR)\n",
    "IDENTIFICATIONS_WITH_CS_FILE = '{}/exp-{}-identifications-{}-recalibrated.pkl'.format(IDENTIFICATIONS_WITH_CS_DIR, experiment_name, feature_detection_method)"
   ]
  },
  {
   "cell_type": "code",
   "execution_count": 6,
   "metadata": {},
   "outputs": [],
   "source": [
    "# load the identifications that had saturated points in the mono\n",
    "with open(IDENTIFICATIONS_WITH_CS_FILE, 'rb') as handle:\n",
    "    d = pickle.load(handle)\n",
    "identifications_with_cs_df = d['identifications_df']\n",
    "identifications_with_cs_df = identifications_with_cs_df[(identifications_with_cs_df['percolator q-value'] <= MAXIMUM_Q_VALUE) & (~identifications_with_cs_df['protein id'].str.contains('YEAST'))]"
   ]
  },
  {
   "cell_type": "code",
   "execution_count": 7,
   "metadata": {},
   "outputs": [
    {
     "data": {
      "text/html": [
       "<div>\n",
       "<style scoped>\n",
       "    .dataframe tbody tr th:only-of-type {\n",
       "        vertical-align: middle;\n",
       "    }\n",
       "\n",
       "    .dataframe tbody tr th {\n",
       "        vertical-align: top;\n",
       "    }\n",
       "\n",
       "    .dataframe thead th {\n",
       "        text-align: right;\n",
       "    }\n",
       "</style>\n",
       "<table border=\"1\" class=\"dataframe\">\n",
       "  <thead>\n",
       "    <tr style=\"text-align: right;\">\n",
       "      <th></th>\n",
       "      <th>counts</th>\n",
       "      <th>%</th>\n",
       "    </tr>\n",
       "  </thead>\n",
       "  <tbody>\n",
       "    <tr>\n",
       "      <th>monoisotopic_not_saturated</th>\n",
       "      <td>217</td>\n",
       "      <td>80.1</td>\n",
       "    </tr>\n",
       "    <tr>\n",
       "      <th>monoisotopic_saturated_adjusted</th>\n",
       "      <td>53</td>\n",
       "      <td>19.6</td>\n",
       "    </tr>\n",
       "    <tr>\n",
       "      <th>no_nonsaturated_isotopes</th>\n",
       "      <td>1</td>\n",
       "      <td>0.4</td>\n",
       "    </tr>\n",
       "  </tbody>\n",
       "</table>\n",
       "</div>"
      ],
      "text/plain": [
       "                                 counts     %\n",
       "monoisotopic_not_saturated          217  80.1\n",
       "monoisotopic_saturated_adjusted      53  19.6\n",
       "no_nonsaturated_isotopes              1   0.4"
      ]
     },
     "execution_count": 7,
     "metadata": {},
     "output_type": "execute_result"
    }
   ],
   "source": [
    "s1 = identifications_with_cs_df.mono_intensity_adjustment_outcome.value_counts(normalize=False).rename('counts', inplace=True)\n",
    "s2 = round(identifications_with_cs_df.mono_intensity_adjustment_outcome.value_counts(normalize=True)*100,1).rename('%', inplace=True)\n",
    "pd.concat([s1, s2], axis=1)"
   ]
  },
  {
   "cell_type": "code",
   "execution_count": 8,
   "metadata": {},
   "outputs": [
    {
     "name": "stdout",
     "output_type": "stream",
     "text": [
      "number of unique proteins: 19\n"
     ]
    }
   ],
   "source": [
    "print('number of unique proteins: {}'.format(len(identifications_with_cs_df['protein id'].unique())))"
   ]
  },
  {
   "cell_type": "markdown",
   "metadata": {},
   "source": [
    "#### identifications without correction for saturation"
   ]
  },
  {
   "cell_type": "code",
   "execution_count": 9,
   "metadata": {},
   "outputs": [],
   "source": [
    "IDENTIFICATIONS_WITHOUT_CS_DIR = '{}/results-P3830/P3830-results-cs-false-fmdw-true-2021-05-17-20-15-03/identifications-pasef'.format(BASE_RESULTS_DIR)\n",
    "IDENTIFICATIONS_WITHOUT_CS_FILE = '{}/exp-{}-identifications-{}-recalibrated.pkl'.format(IDENTIFICATIONS_WITHOUT_CS_DIR, experiment_name, feature_detection_method)"
   ]
  },
  {
   "cell_type": "code",
   "execution_count": 10,
   "metadata": {},
   "outputs": [],
   "source": [
    "# load the identifications that had saturated points in the mono\n",
    "with open(IDENTIFICATIONS_WITHOUT_CS_FILE, 'rb') as handle:\n",
    "    d = pickle.load(handle)\n",
    "identifications_without_cs_df = d['identifications_df']\n",
    "identifications_without_cs_df = identifications_without_cs_df[(identifications_without_cs_df['percolator q-value'] <= MAXIMUM_Q_VALUE) & (~identifications_without_cs_df['protein id'].str.contains('YEAST'))]"
   ]
  },
  {
   "cell_type": "code",
   "execution_count": 11,
   "metadata": {},
   "outputs": [
    {
     "name": "stdout",
     "output_type": "stream",
     "text": [
      "number of unique proteins: 19\n"
     ]
    }
   ],
   "source": [
    "print('number of unique proteins: {}'.format(len(identifications_without_cs_df['protein id'].unique())))"
   ]
  },
  {
   "cell_type": "markdown",
   "metadata": {},
   "source": [
    "#### using the Top3 approach to determine protein quanitification"
   ]
  },
  {
   "cell_type": "code",
   "execution_count": 12,
   "metadata": {},
   "outputs": [],
   "source": [
    "ups2_proteins_l = []\n",
    "\n",
    "ups2_proteins_l.append({'uniprot':'P00915', 'fmoles':50000})\n",
    "ups2_proteins_l.append({'uniprot':'P00918', 'fmoles':50000})\n",
    "ups2_proteins_l.append({'uniprot':'P01031', 'fmoles':50000})\n",
    "ups2_proteins_l.append({'uniprot':'P69905', 'fmoles':50000})\n",
    "ups2_proteins_l.append({'uniprot':'P68871', 'fmoles':50000})\n",
    "ups2_proteins_l.append({'uniprot':'P41159', 'fmoles':50000})\n",
    "ups2_proteins_l.append({'uniprot':'P02768', 'fmoles':50000})\n",
    "ups2_proteins_l.append({'uniprot':'P62988', 'fmoles':50000})\n",
    "\n",
    "ups2_proteins_l.append({'uniprot':'P04040', 'fmoles':5000})\n",
    "ups2_proteins_l.append({'uniprot':'P00167', 'fmoles':5000})\n",
    "ups2_proteins_l.append({'uniprot':'P01133', 'fmoles':5000})\n",
    "ups2_proteins_l.append({'uniprot':'P02144', 'fmoles':5000})\n",
    "ups2_proteins_l.append({'uniprot':'P15559', 'fmoles':5000})\n",
    "ups2_proteins_l.append({'uniprot':'P62937', 'fmoles':5000})\n",
    "ups2_proteins_l.append({'uniprot':'Q06830', 'fmoles':5000})\n",
    "ups2_proteins_l.append({'uniprot':'P63165', 'fmoles':5000})\n",
    "\n",
    "ups2_proteins_l.append({'uniprot':'P00709', 'fmoles':500})\n",
    "ups2_proteins_l.append({'uniprot':'P06732', 'fmoles':500})\n",
    "ups2_proteins_l.append({'uniprot':'P12081', 'fmoles':500})\n",
    "ups2_proteins_l.append({'uniprot':'P61626', 'fmoles':500})\n",
    "ups2_proteins_l.append({'uniprot':'Q15843', 'fmoles':500})\n",
    "ups2_proteins_l.append({'uniprot':'P02753', 'fmoles':500})\n",
    "ups2_proteins_l.append({'uniprot':'P16083', 'fmoles':500})\n",
    "ups2_proteins_l.append({'uniprot':'P63279', 'fmoles':500})\n",
    "\n",
    "ups2_proteins_l.append({'uniprot':'P01008', 'fmoles':50})\n",
    "ups2_proteins_l.append({'uniprot':'P61769', 'fmoles':50})\n",
    "ups2_proteins_l.append({'uniprot':'P55957', 'fmoles':50})\n",
    "ups2_proteins_l.append({'uniprot':'O76070', 'fmoles':50})\n",
    "ups2_proteins_l.append({'uniprot':'P08263', 'fmoles':50})\n",
    "ups2_proteins_l.append({'uniprot':'P01344', 'fmoles':50})\n",
    "ups2_proteins_l.append({'uniprot':'P01127', 'fmoles':50})\n",
    "ups2_proteins_l.append({'uniprot':'P10599', 'fmoles':50})\n",
    "\n",
    "ups2_proteins_l.append({'uniprot':'P99999', 'fmoles':5})\n",
    "ups2_proteins_l.append({'uniprot':'P06396', 'fmoles':5})\n",
    "ups2_proteins_l.append({'uniprot':'P09211', 'fmoles':5})\n",
    "ups2_proteins_l.append({'uniprot':'P01112', 'fmoles':5})\n",
    "ups2_proteins_l.append({'uniprot':'P01579', 'fmoles':5})\n",
    "ups2_proteins_l.append({'uniprot':'P02787', 'fmoles':5})\n",
    "ups2_proteins_l.append({'uniprot':'O00762', 'fmoles':5})\n",
    "ups2_proteins_l.append({'uniprot':'P51965', 'fmoles':5})\n",
    "\n",
    "ups2_proteins_l.append({'uniprot':'P08758', 'fmoles':0.5})\n",
    "ups2_proteins_l.append({'uniprot':'P02741', 'fmoles':0.5})\n",
    "ups2_proteins_l.append({'uniprot':'P05413', 'fmoles':0.5})\n",
    "ups2_proteins_l.append({'uniprot':'P10145', 'fmoles':0.5})\n",
    "ups2_proteins_l.append({'uniprot':'P02788', 'fmoles':0.5})\n",
    "ups2_proteins_l.append({'uniprot':'P10636-8', 'fmoles':0.5})\n",
    "ups2_proteins_l.append({'uniprot':'P00441', 'fmoles':0.5})\n",
    "ups2_proteins_l.append({'uniprot':'P01375', 'fmoles':0.5})\n",
    "\n",
    "ups2_d = {}\n",
    "for p in ups2_proteins_l:\n",
    "    ups2_d[p['uniprot']] = p['fmoles']"
   ]
  },
  {
   "cell_type": "markdown",
   "metadata": {},
   "source": [
    "#### with correction"
   ]
  },
  {
   "cell_type": "code",
   "execution_count": 13,
   "metadata": {},
   "outputs": [
    {
     "data": {
      "text/plain": [
       "array(['P02768ups|ALBU_HUMAN_UPS', 'P00915ups|CAH1_HUMAN_UPS',\n",
       "       'P00918ups|CAH2_HUMAN_UPS', 'P68871ups|HBB_HUMAN_UPS',\n",
       "       'P41159ups|LEP_HUMAN_UPS', 'P69905ups|HBA_HUMAN_UPS',\n",
       "       'P01031ups|CO5_HUMAN_UPS', 'P62988ups|UBIQ_HUMAN_UPS',\n",
       "       'Q06830ups|PRDX1_HUMAN_UPS', 'P04040ups|CATA_HUMAN_UPS',\n",
       "       'P02144ups|MYG_HUMAN_UPS', 'P00167ups|CYB5_HUMAN_UPS',\n",
       "       'P12081ups|SYHC_HUMAN_UPS',\n",
       "       'P62937ups|PPIA_HUMAN_UPS,P62988ups|UBIQ_HUMAN_UPS,O76070ups|SYUG_HUMAN_UPS',\n",
       "       'P15559ups|NQO1_HUMAN_UPS', 'P06732ups|KCRM_HUMAN_UPS',\n",
       "       'P00709ups|LALBA_HUMAN_UPS', 'P63165ups|SUMO1_HUMAN_UPS',\n",
       "       'P62937ups|PPIA_HUMAN_UPS'], dtype=object)"
      ]
     },
     "execution_count": 13,
     "metadata": {},
     "output_type": "execute_result"
    }
   ],
   "source": [
    "identifications_with_cs_df['protein id'].unique()"
   ]
  },
  {
   "cell_type": "code",
   "execution_count": 14,
   "metadata": {},
   "outputs": [
    {
     "name": "stdout",
     "output_type": "stream",
     "text": [
      "didn't have three peptides for P00167ups|CYB5_HUMAN_UPS\n",
      "didn't have three peptides for P00709ups|LALBA_HUMAN_UPS\n",
      "didn't have three peptides for P06732ups|KCRM_HUMAN_UPS\n",
      "didn't have three peptides for P62937ups|PPIA_HUMAN_UPS\n",
      "didn't have three peptides for P62988ups|UBIQ_HUMAN_UPS\n"
     ]
    }
   ],
   "source": [
    "# find the three most intense peptides for each protein\n",
    "top3_l = []\n",
    "for group_name,group_df in identifications_with_cs_df.groupby('protein id'):\n",
    "    df = group_df.sort_values(by=['feature_intensity'], ascending=False, inplace=False)\n",
    "    top3_df = df.head(n=3)\n",
    "    if len(top3_df) == 3:\n",
    "        uniprot_id = group_name.split('ups|')[0]\n",
    "        pmoles = ups2_d[uniprot_id] / 1000\n",
    "        average_intensity = top3_df.feature_intensity.mean()\n",
    "        signal_response_factor = average_intensity / pmoles\n",
    "        peptide_count = len(df)\n",
    "        attribs_d = top3_df[['feature_id','sequence','charge','feature_intensity']].to_dict('records')\n",
    "        top3_l.append({'protein':group_name, 'pmoles':pmoles, 'average_intensity':average_intensity, 'signal_response_factor':signal_response_factor, 'peptide_count':peptide_count, 'attribs_d':attribs_d})\n",
    "    else:\n",
    "        print('didn\\'t have three peptides for {}'.format(group_name))\n",
    "top3_with_df = pd.DataFrame(top3_l)"
   ]
  },
  {
   "cell_type": "code",
   "execution_count": 15,
   "metadata": {},
   "outputs": [
    {
     "data": {
      "text/plain": [
       "2705.826666666667"
      ]
     },
     "execution_count": 15,
     "metadata": {},
     "output_type": "execute_result"
    }
   ],
   "source": [
    "# using Serum albumin (P02768) as an internal reference\n",
    "universal_signal_response_factor = top3_with_df[top3_with_df.protein.str.startswith('P02768')].iloc[0].signal_response_factor\n",
    "universal_signal_response_factor"
   ]
  },
  {
   "cell_type": "code",
   "execution_count": 16,
   "metadata": {},
   "outputs": [],
   "source": [
    "top3_with_df['calculated_pmoles'] = top3_with_df.average_intensity / universal_signal_response_factor"
   ]
  },
  {
   "cell_type": "code",
   "execution_count": 17,
   "metadata": {},
   "outputs": [
    {
     "data": {
      "text/html": [
       "<div>\n",
       "<style scoped>\n",
       "    .dataframe tbody tr th:only-of-type {\n",
       "        vertical-align: middle;\n",
       "    }\n",
       "\n",
       "    .dataframe tbody tr th {\n",
       "        vertical-align: top;\n",
       "    }\n",
       "\n",
       "    .dataframe thead th {\n",
       "        text-align: right;\n",
       "    }\n",
       "</style>\n",
       "<table border=\"1\" class=\"dataframe\">\n",
       "  <thead>\n",
       "    <tr style=\"text-align: right;\">\n",
       "      <th></th>\n",
       "      <th>protein</th>\n",
       "      <th>pmoles</th>\n",
       "      <th>average_intensity</th>\n",
       "      <th>signal_response_factor</th>\n",
       "      <th>peptide_count</th>\n",
       "      <th>attribs_d</th>\n",
       "      <th>calculated_pmoles</th>\n",
       "    </tr>\n",
       "  </thead>\n",
       "  <tbody>\n",
       "    <tr>\n",
       "      <th>0</th>\n",
       "      <td>P00915ups|CAH1_HUMAN_UPS</td>\n",
       "      <td>50.0</td>\n",
       "      <td>57896.000000</td>\n",
       "      <td>1157.920000</td>\n",
       "      <td>21</td>\n",
       "      <td>[{'feature_id': 829701, 'sequence': 'HDTSLKPIS...</td>\n",
       "      <td>21.396788</td>\n",
       "    </tr>\n",
       "    <tr>\n",
       "      <th>1</th>\n",
       "      <td>P00918ups|CAH2_HUMAN_UPS</td>\n",
       "      <td>50.0</td>\n",
       "      <td>55843.000000</td>\n",
       "      <td>1116.860000</td>\n",
       "      <td>19</td>\n",
       "      <td>[{'feature_id': 2161501, 'sequence': 'YDPSLKPL...</td>\n",
       "      <td>20.638055</td>\n",
       "    </tr>\n",
       "    <tr>\n",
       "      <th>2</th>\n",
       "      <td>P01031ups|CO5_HUMAN_UPS</td>\n",
       "      <td>50.0</td>\n",
       "      <td>43721.666667</td>\n",
       "      <td>874.433333</td>\n",
       "      <td>4</td>\n",
       "      <td>[{'feature_id': 613701, 'sequence': 'CCYDGACVN...</td>\n",
       "      <td>16.158340</td>\n",
       "    </tr>\n",
       "    <tr>\n",
       "      <th>3</th>\n",
       "      <td>P02144ups|MYG_HUMAN_UPS</td>\n",
       "      <td>5.0</td>\n",
       "      <td>6799.666667</td>\n",
       "      <td>1359.933333</td>\n",
       "      <td>6</td>\n",
       "      <td>[{'feature_id': 1141101, 'sequence': 'VEADIPGH...</td>\n",
       "      <td>2.512972</td>\n",
       "    </tr>\n",
       "    <tr>\n",
       "      <th>4</th>\n",
       "      <td>P02768ups|ALBU_HUMAN_UPS</td>\n",
       "      <td>50.0</td>\n",
       "      <td>135291.333333</td>\n",
       "      <td>2705.826667</td>\n",
       "      <td>127</td>\n",
       "      <td>[{'feature_id': 4736101, 'sequence': 'MPCAEDYL...</td>\n",
       "      <td>50.000000</td>\n",
       "    </tr>\n",
       "    <tr>\n",
       "      <th>5</th>\n",
       "      <td>P04040ups|CATA_HUMAN_UPS</td>\n",
       "      <td>5.0</td>\n",
       "      <td>46716.000000</td>\n",
       "      <td>9343.200000</td>\n",
       "      <td>8</td>\n",
       "      <td>[{'feature_id': 3697701, 'sequence': 'GPLLVQDV...</td>\n",
       "      <td>17.264964</td>\n",
       "    </tr>\n",
       "    <tr>\n",
       "      <th>6</th>\n",
       "      <td>P12081ups|SYHC_HUMAN_UPS</td>\n",
       "      <td>0.5</td>\n",
       "      <td>3963.666667</td>\n",
       "      <td>7927.333333</td>\n",
       "      <td>3</td>\n",
       "      <td>[{'feature_id': 4697301, 'sequence': 'LLNQLQYC...</td>\n",
       "      <td>1.464863</td>\n",
       "    </tr>\n",
       "    <tr>\n",
       "      <th>7</th>\n",
       "      <td>P15559ups|NQO1_HUMAN_UPS</td>\n",
       "      <td>5.0</td>\n",
       "      <td>15619.000000</td>\n",
       "      <td>3123.800000</td>\n",
       "      <td>4</td>\n",
       "      <td>[{'feature_id': 834301, 'sequence': 'ALIVLAHSE...</td>\n",
       "      <td>5.772358</td>\n",
       "    </tr>\n",
       "    <tr>\n",
       "      <th>8</th>\n",
       "      <td>P41159ups|LEP_HUMAN_UPS</td>\n",
       "      <td>50.0</td>\n",
       "      <td>38552.333333</td>\n",
       "      <td>771.046667</td>\n",
       "      <td>29</td>\n",
       "      <td>[{'feature_id': 3952601, 'sequence': 'VTGLDFIP...</td>\n",
       "      <td>14.247895</td>\n",
       "    </tr>\n",
       "    <tr>\n",
       "      <th>9</th>\n",
       "      <td>P62937ups|PPIA_HUMAN_UPS,P62988ups|UBIQ_HUMAN_...</td>\n",
       "      <td>5.0</td>\n",
       "      <td>3851.333333</td>\n",
       "      <td>770.266667</td>\n",
       "      <td>5</td>\n",
       "      <td>[{'feature_id': 12101, 'sequence': 'GSSHHHHHHS...</td>\n",
       "      <td>1.423348</td>\n",
       "    </tr>\n",
       "    <tr>\n",
       "      <th>10</th>\n",
       "      <td>P63165ups|SUMO1_HUMAN_UPS</td>\n",
       "      <td>5.0</td>\n",
       "      <td>1993.000000</td>\n",
       "      <td>398.600000</td>\n",
       "      <td>3</td>\n",
       "      <td>[{'feature_id': 3621302, 'sequence': 'YIAWPLQG...</td>\n",
       "      <td>0.736559</td>\n",
       "    </tr>\n",
       "    <tr>\n",
       "      <th>11</th>\n",
       "      <td>P68871ups|HBB_HUMAN_UPS</td>\n",
       "      <td>50.0</td>\n",
       "      <td>51927.666667</td>\n",
       "      <td>1038.553333</td>\n",
       "      <td>12</td>\n",
       "      <td>[{'feature_id': 2713501, 'sequence': 'VLGAFSDG...</td>\n",
       "      <td>19.191054</td>\n",
       "    </tr>\n",
       "    <tr>\n",
       "      <th>12</th>\n",
       "      <td>P69905ups|HBA_HUMAN_UPS</td>\n",
       "      <td>50.0</td>\n",
       "      <td>25062.333333</td>\n",
       "      <td>501.246667</td>\n",
       "      <td>17</td>\n",
       "      <td>[{'feature_id': 3086001, 'sequence': 'KVADALTN...</td>\n",
       "      <td>9.262357</td>\n",
       "    </tr>\n",
       "    <tr>\n",
       "      <th>13</th>\n",
       "      <td>Q06830ups|PRDX1_HUMAN_UPS</td>\n",
       "      <td>5.0</td>\n",
       "      <td>11191.000000</td>\n",
       "      <td>2238.200000</td>\n",
       "      <td>5</td>\n",
       "      <td>[{'feature_id': 704501, 'sequence': 'HGEVCPAGW...</td>\n",
       "      <td>4.135889</td>\n",
       "    </tr>\n",
       "  </tbody>\n",
       "</table>\n",
       "</div>"
      ],
      "text/plain": [
       "                                              protein  pmoles  \\\n",
       "0                            P00915ups|CAH1_HUMAN_UPS    50.0   \n",
       "1                            P00918ups|CAH2_HUMAN_UPS    50.0   \n",
       "2                             P01031ups|CO5_HUMAN_UPS    50.0   \n",
       "3                             P02144ups|MYG_HUMAN_UPS     5.0   \n",
       "4                            P02768ups|ALBU_HUMAN_UPS    50.0   \n",
       "5                            P04040ups|CATA_HUMAN_UPS     5.0   \n",
       "6                            P12081ups|SYHC_HUMAN_UPS     0.5   \n",
       "7                            P15559ups|NQO1_HUMAN_UPS     5.0   \n",
       "8                             P41159ups|LEP_HUMAN_UPS    50.0   \n",
       "9   P62937ups|PPIA_HUMAN_UPS,P62988ups|UBIQ_HUMAN_...     5.0   \n",
       "10                          P63165ups|SUMO1_HUMAN_UPS     5.0   \n",
       "11                            P68871ups|HBB_HUMAN_UPS    50.0   \n",
       "12                            P69905ups|HBA_HUMAN_UPS    50.0   \n",
       "13                          Q06830ups|PRDX1_HUMAN_UPS     5.0   \n",
       "\n",
       "    average_intensity  signal_response_factor  peptide_count  \\\n",
       "0        57896.000000             1157.920000             21   \n",
       "1        55843.000000             1116.860000             19   \n",
       "2        43721.666667              874.433333              4   \n",
       "3         6799.666667             1359.933333              6   \n",
       "4       135291.333333             2705.826667            127   \n",
       "5        46716.000000             9343.200000              8   \n",
       "6         3963.666667             7927.333333              3   \n",
       "7        15619.000000             3123.800000              4   \n",
       "8        38552.333333              771.046667             29   \n",
       "9         3851.333333              770.266667              5   \n",
       "10        1993.000000              398.600000              3   \n",
       "11       51927.666667             1038.553333             12   \n",
       "12       25062.333333              501.246667             17   \n",
       "13       11191.000000             2238.200000              5   \n",
       "\n",
       "                                            attribs_d  calculated_pmoles  \n",
       "0   [{'feature_id': 829701, 'sequence': 'HDTSLKPIS...          21.396788  \n",
       "1   [{'feature_id': 2161501, 'sequence': 'YDPSLKPL...          20.638055  \n",
       "2   [{'feature_id': 613701, 'sequence': 'CCYDGACVN...          16.158340  \n",
       "3   [{'feature_id': 1141101, 'sequence': 'VEADIPGH...           2.512972  \n",
       "4   [{'feature_id': 4736101, 'sequence': 'MPCAEDYL...          50.000000  \n",
       "5   [{'feature_id': 3697701, 'sequence': 'GPLLVQDV...          17.264964  \n",
       "6   [{'feature_id': 4697301, 'sequence': 'LLNQLQYC...           1.464863  \n",
       "7   [{'feature_id': 834301, 'sequence': 'ALIVLAHSE...           5.772358  \n",
       "8   [{'feature_id': 3952601, 'sequence': 'VTGLDFIP...          14.247895  \n",
       "9   [{'feature_id': 12101, 'sequence': 'GSSHHHHHHS...           1.423348  \n",
       "10  [{'feature_id': 3621302, 'sequence': 'YIAWPLQG...           0.736559  \n",
       "11  [{'feature_id': 2713501, 'sequence': 'VLGAFSDG...          19.191054  \n",
       "12  [{'feature_id': 3086001, 'sequence': 'KVADALTN...           9.262357  \n",
       "13  [{'feature_id': 704501, 'sequence': 'HGEVCPAGW...           4.135889  "
      ]
     },
     "execution_count": 17,
     "metadata": {},
     "output_type": "execute_result"
    }
   ],
   "source": [
    "top3_with_df"
   ]
  },
  {
   "cell_type": "code",
   "execution_count": 18,
   "metadata": {},
   "outputs": [
    {
     "data": {
      "text/plain": [
       "1.1695607526938105"
      ]
     },
     "execution_count": 18,
     "metadata": {},
     "output_type": "execute_result"
    }
   ],
   "source": [
    "# calculate the CV for the signal response factor\n",
    "cv = top3_with_df.signal_response_factor.std() / top3_with_df.signal_response_factor.mean()\n",
    "cv"
   ]
  },
  {
   "cell_type": "markdown",
   "metadata": {},
   "source": [
    "#### without correction"
   ]
  },
  {
   "cell_type": "code",
   "execution_count": 19,
   "metadata": {},
   "outputs": [
    {
     "name": "stdout",
     "output_type": "stream",
     "text": [
      "didn't have three peptides for P00167ups|CYB5_HUMAN_UPS\n",
      "didn't have three peptides for P00709ups|LALBA_HUMAN_UPS\n",
      "didn't have three peptides for P06732ups|KCRM_HUMAN_UPS\n",
      "didn't have three peptides for P62937ups|PPIA_HUMAN_UPS\n",
      "didn't have three peptides for P62988ups|UBIQ_HUMAN_UPS\n"
     ]
    }
   ],
   "source": [
    "# find the three most intense peptides for each protein\n",
    "top3_l = []\n",
    "for group_name,group_df in identifications_without_cs_df.groupby('protein id'):\n",
    "    df = group_df.sort_values(by=['feature_intensity'], ascending=False, inplace=False)\n",
    "    top3_df = df.head(n=3)\n",
    "    if len(top3_df) == 3:\n",
    "        uniprot_id = group_name.split('ups|')[0]\n",
    "        pmoles = ups2_d[uniprot_id] / 1000\n",
    "        average_intensity = top3_df.feature_intensity.mean()\n",
    "        signal_response_factor = average_intensity / pmoles\n",
    "        peptide_count = len(df)\n",
    "        attribs_d = top3_df[['feature_id','sequence','charge','feature_intensity']].to_dict('records')\n",
    "        top3_l.append({'protein':group_name, 'pmoles':pmoles, 'average_intensity':average_intensity, 'signal_response_factor':signal_response_factor, 'peptide_count':peptide_count, 'attribs_d':attribs_d})\n",
    "    else:\n",
    "        print('didn\\'t have three peptides for {}'.format(group_name))\n",
    "top3_without_df = pd.DataFrame(top3_l)"
   ]
  },
  {
   "cell_type": "code",
   "execution_count": 20,
   "metadata": {},
   "outputs": [],
   "source": [
    "# using Serum albumin (P02768) as an internal reference\n",
    "universal_signal_response_factor = top3_without_df[top3_without_df.protein.str.startswith('P02768')].iloc[0].signal_response_factor"
   ]
  },
  {
   "cell_type": "code",
   "execution_count": 21,
   "metadata": {},
   "outputs": [],
   "source": [
    "top3_without_df['calculated_pmoles'] = top3_without_df.average_intensity / universal_signal_response_factor"
   ]
  },
  {
   "cell_type": "code",
   "execution_count": 22,
   "metadata": {},
   "outputs": [
    {
     "data": {
      "text/plain": [
       "1.199136606177974"
      ]
     },
     "execution_count": 22,
     "metadata": {},
     "output_type": "execute_result"
    }
   ],
   "source": [
    "# calculate the CV for the signal response factor\n",
    "cv = top3_without_df.signal_response_factor.std() / top3_without_df.signal_response_factor.mean()\n",
    "cv"
   ]
  },
  {
   "cell_type": "markdown",
   "metadata": {},
   "source": [
    "#### calculate correlation"
   ]
  },
  {
   "cell_type": "code",
   "execution_count": 23,
   "metadata": {},
   "outputs": [],
   "source": [
    "combined_df = pd.merge(top3_with_df, top3_without_df, how='inner', left_on=['protein'], right_on=['protein'], suffixes=['_with','_without'])"
   ]
  },
  {
   "cell_type": "code",
   "execution_count": 24,
   "metadata": {},
   "outputs": [
    {
     "data": {
      "text/html": [
       "<div>\n",
       "<style scoped>\n",
       "    .dataframe tbody tr th:only-of-type {\n",
       "        vertical-align: middle;\n",
       "    }\n",
       "\n",
       "    .dataframe tbody tr th {\n",
       "        vertical-align: top;\n",
       "    }\n",
       "\n",
       "    .dataframe thead th {\n",
       "        text-align: right;\n",
       "    }\n",
       "</style>\n",
       "<table border=\"1\" class=\"dataframe\">\n",
       "  <thead>\n",
       "    <tr style=\"text-align: right;\">\n",
       "      <th></th>\n",
       "      <th>protein</th>\n",
       "      <th>pmoles_with</th>\n",
       "      <th>average_intensity_with</th>\n",
       "      <th>signal_response_factor_with</th>\n",
       "      <th>peptide_count_with</th>\n",
       "      <th>attribs_d_with</th>\n",
       "      <th>calculated_pmoles_with</th>\n",
       "      <th>pmoles_without</th>\n",
       "      <th>average_intensity_without</th>\n",
       "      <th>signal_response_factor_without</th>\n",
       "      <th>peptide_count_without</th>\n",
       "      <th>attribs_d_without</th>\n",
       "      <th>calculated_pmoles_without</th>\n",
       "    </tr>\n",
       "  </thead>\n",
       "  <tbody>\n",
       "    <tr>\n",
       "      <th>8</th>\n",
       "      <td>P41159ups|LEP_HUMAN_UPS</td>\n",
       "      <td>50.0</td>\n",
       "      <td>38552.333333</td>\n",
       "      <td>771.046667</td>\n",
       "      <td>29</td>\n",
       "      <td>[{'feature_id': 3952601, 'sequence': 'VTGLDFIP...</td>\n",
       "      <td>14.247895</td>\n",
       "      <td>50.0</td>\n",
       "      <td>34207.666667</td>\n",
       "      <td>684.153333</td>\n",
       "      <td>29</td>\n",
       "      <td>[{'feature_id': 3952601, 'sequence': 'VTGLDFIP...</td>\n",
       "      <td>16.387430</td>\n",
       "    </tr>\n",
       "    <tr>\n",
       "      <th>6</th>\n",
       "      <td>P12081ups|SYHC_HUMAN_UPS</td>\n",
       "      <td>0.5</td>\n",
       "      <td>3963.666667</td>\n",
       "      <td>7927.333333</td>\n",
       "      <td>3</td>\n",
       "      <td>[{'feature_id': 4697301, 'sequence': 'LLNQLQYC...</td>\n",
       "      <td>1.464863</td>\n",
       "      <td>0.5</td>\n",
       "      <td>3963.666667</td>\n",
       "      <td>7927.333333</td>\n",
       "      <td>3</td>\n",
       "      <td>[{'feature_id': 4697301, 'sequence': 'LLNQLQYC...</td>\n",
       "      <td>1.898823</td>\n",
       "    </tr>\n",
       "    <tr>\n",
       "      <th>10</th>\n",
       "      <td>P63165ups|SUMO1_HUMAN_UPS</td>\n",
       "      <td>5.0</td>\n",
       "      <td>1993.000000</td>\n",
       "      <td>398.600000</td>\n",
       "      <td>3</td>\n",
       "      <td>[{'feature_id': 3621302, 'sequence': 'YIAWPLQG...</td>\n",
       "      <td>0.736559</td>\n",
       "      <td>5.0</td>\n",
       "      <td>1993.000000</td>\n",
       "      <td>398.600000</td>\n",
       "      <td>3</td>\n",
       "      <td>[{'feature_id': 3621302, 'sequence': 'YIAWPLQG...</td>\n",
       "      <td>0.954761</td>\n",
       "    </tr>\n",
       "  </tbody>\n",
       "</table>\n",
       "</div>"
      ],
      "text/plain": [
       "                      protein  pmoles_with  average_intensity_with  \\\n",
       "8     P41159ups|LEP_HUMAN_UPS         50.0            38552.333333   \n",
       "6    P12081ups|SYHC_HUMAN_UPS          0.5             3963.666667   \n",
       "10  P63165ups|SUMO1_HUMAN_UPS          5.0             1993.000000   \n",
       "\n",
       "    signal_response_factor_with  peptide_count_with  \\\n",
       "8                    771.046667                  29   \n",
       "6                   7927.333333                   3   \n",
       "10                   398.600000                   3   \n",
       "\n",
       "                                       attribs_d_with  calculated_pmoles_with  \\\n",
       "8   [{'feature_id': 3952601, 'sequence': 'VTGLDFIP...               14.247895   \n",
       "6   [{'feature_id': 4697301, 'sequence': 'LLNQLQYC...                1.464863   \n",
       "10  [{'feature_id': 3621302, 'sequence': 'YIAWPLQG...                0.736559   \n",
       "\n",
       "    pmoles_without  average_intensity_without  signal_response_factor_without  \\\n",
       "8             50.0               34207.666667                      684.153333   \n",
       "6              0.5                3963.666667                     7927.333333   \n",
       "10             5.0                1993.000000                      398.600000   \n",
       "\n",
       "    peptide_count_without                                  attribs_d_without  \\\n",
       "8                      29  [{'feature_id': 3952601, 'sequence': 'VTGLDFIP...   \n",
       "6                       3  [{'feature_id': 4697301, 'sequence': 'LLNQLQYC...   \n",
       "10                      3  [{'feature_id': 3621302, 'sequence': 'YIAWPLQG...   \n",
       "\n",
       "    calculated_pmoles_without  \n",
       "8                   16.387430  \n",
       "6                    1.898823  \n",
       "10                   0.954761  "
      ]
     },
     "execution_count": 24,
     "metadata": {},
     "output_type": "execute_result"
    }
   ],
   "source": [
    "combined_df.sample(n=3)"
   ]
  },
  {
   "cell_type": "code",
   "execution_count": 25,
   "metadata": {},
   "outputs": [
    {
     "data": {
      "text/plain": [
       "0.6671905312003801"
      ]
     },
     "execution_count": 25,
     "metadata": {},
     "output_type": "execute_result"
    }
   ],
   "source": [
    "combined_df['pmoles_with'].corr(combined_df['calculated_pmoles_with'])"
   ]
  },
  {
   "cell_type": "code",
   "execution_count": 26,
   "metadata": {},
   "outputs": [
    {
     "data": {
      "text/plain": [
       "0.6756979027475872"
      ]
     },
     "execution_count": 26,
     "metadata": {},
     "output_type": "execute_result"
    }
   ],
   "source": [
    "combined_df['pmoles_without'].corr(combined_df['calculated_pmoles_without'])"
   ]
  },
  {
   "cell_type": "code",
   "execution_count": null,
   "metadata": {},
   "outputs": [],
   "source": []
  }
 ],
 "metadata": {
  "kernelspec": {
   "display_name": "Python 3",
   "language": "python",
   "name": "python3"
  },
  "language_info": {
   "codemirror_mode": {
    "name": "ipython",
    "version": 3
   },
   "file_extension": ".py",
   "mimetype": "text/x-python",
   "name": "python",
   "nbconvert_exporter": "python",
   "pygments_lexer": "ipython3",
   "version": "3.8.5"
  }
 },
 "nbformat": 4,
 "nbformat_minor": 4
}
