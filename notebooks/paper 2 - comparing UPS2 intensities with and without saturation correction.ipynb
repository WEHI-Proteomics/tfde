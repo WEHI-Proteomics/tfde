{
 "cells": [
  {
   "cell_type": "code",
   "execution_count": 1,
   "metadata": {},
   "outputs": [],
   "source": [
    "import pandas as pd\n",
    "import numpy as np\n",
    "import os\n",
    "import matplotlib.pyplot as plt\n",
    "import pickle\n",
    "import seaborn as sns\n",
    "import json\n",
    "from os.path import expanduser"
   ]
  },
  {
   "cell_type": "code",
   "execution_count": 2,
   "metadata": {},
   "outputs": [],
   "source": [
    "experiment_name = 'P3830'\n",
    "feature_detection_method = 'pasef'"
   ]
  },
  {
   "cell_type": "code",
   "execution_count": 3,
   "metadata": {},
   "outputs": [],
   "source": [
    "MAXIMUM_Q_VALUE = 0.01"
   ]
  },
  {
   "cell_type": "code",
   "execution_count": 4,
   "metadata": {},
   "outputs": [],
   "source": [
    "BASE_RESULTS_DIR = '/media/data-drive'"
   ]
  },
  {
   "cell_type": "markdown",
   "metadata": {},
   "source": [
    "#### identifications with correction for saturation"
   ]
  },
  {
   "cell_type": "code",
   "execution_count": 5,
   "metadata": {},
   "outputs": [],
   "source": [
    "IDENTIFICATIONS_WITH_CS_DIR = '{}/results-P3830/P3830-results-cs-true-fmdw-true-2021-05-14-19-07-35/identifications-pasef'.format(BASE_RESULTS_DIR)\n",
    "IDENTIFICATIONS_WITH_CS_FILE = '{}/exp-{}-identifications-{}-recalibrated.pkl'.format(IDENTIFICATIONS_WITH_CS_DIR, experiment_name, feature_detection_method)"
   ]
  },
  {
   "cell_type": "code",
   "execution_count": 6,
   "metadata": {},
   "outputs": [],
   "source": [
    "# load the identifications that had saturated points in the mono\n",
    "with open(IDENTIFICATIONS_WITH_CS_FILE, 'rb') as handle:\n",
    "    d = pickle.load(handle)\n",
    "identifications_with_cs_df = d['identifications_df']\n",
    "identifications_with_cs_df = identifications_with_cs_df[(identifications_with_cs_df['percolator q-value'] <= MAXIMUM_Q_VALUE) & (~identifications_with_cs_df['protein id'].str.contains('YEAST'))]"
   ]
  },
  {
   "cell_type": "code",
   "execution_count": 7,
   "metadata": {},
   "outputs": [
    {
     "name": "stdout",
     "output_type": "stream",
     "text": [
      "number of unique proteins: 19\n"
     ]
    }
   ],
   "source": [
    "print('number of unique proteins: {}'.format(len(identifications_with_cs_df['protein id'].unique())))"
   ]
  },
  {
   "cell_type": "markdown",
   "metadata": {},
   "source": [
    "#### identifications without correction for saturation"
   ]
  },
  {
   "cell_type": "code",
   "execution_count": 8,
   "metadata": {},
   "outputs": [],
   "source": [
    "IDENTIFICATIONS_WITHOUT_CS_DIR = '{}/results-P3830/P3830-results-cs-false-fmdw-true-2021-05-15-02-19-02/identifications-pasef'.format(BASE_RESULTS_DIR)\n",
    "IDENTIFICATIONS_WITHOUT_CS_FILE = '{}/exp-{}-identifications-{}-recalibrated.pkl'.format(IDENTIFICATIONS_WITHOUT_CS_DIR, experiment_name, feature_detection_method)"
   ]
  },
  {
   "cell_type": "code",
   "execution_count": 9,
   "metadata": {},
   "outputs": [],
   "source": [
    "# load the identifications that had saturated points in the mono\n",
    "with open(IDENTIFICATIONS_WITHOUT_CS_FILE, 'rb') as handle:\n",
    "    d = pickle.load(handle)\n",
    "identifications_without_cs_df = d['identifications_df']\n",
    "identifications_without_cs_df = identifications_without_cs_df[(identifications_without_cs_df['percolator q-value'] <= MAXIMUM_Q_VALUE) & (~identifications_without_cs_df['protein id'].str.contains('YEAST'))]"
   ]
  },
  {
   "cell_type": "code",
   "execution_count": 10,
   "metadata": {},
   "outputs": [
    {
     "name": "stdout",
     "output_type": "stream",
     "text": [
      "number of unique proteins: 19\n"
     ]
    }
   ],
   "source": [
    "print('number of unique proteins: {}'.format(len(identifications_without_cs_df['protein id'].unique())))"
   ]
  },
  {
   "cell_type": "markdown",
   "metadata": {},
   "source": [
    "#### using the Top3 approach to determine protein quanitification"
   ]
  },
  {
   "cell_type": "code",
   "execution_count": 11,
   "metadata": {},
   "outputs": [],
   "source": [
    "ups2_proteins_l = []\n",
    "\n",
    "ups2_proteins_l.append({'uniprot':'P00915', 'fmoles':50000})\n",
    "ups2_proteins_l.append({'uniprot':'P00918', 'fmoles':50000})\n",
    "ups2_proteins_l.append({'uniprot':'P01031', 'fmoles':50000})\n",
    "ups2_proteins_l.append({'uniprot':'P69905', 'fmoles':50000})\n",
    "ups2_proteins_l.append({'uniprot':'P68871', 'fmoles':50000})\n",
    "ups2_proteins_l.append({'uniprot':'P41159', 'fmoles':50000})\n",
    "ups2_proteins_l.append({'uniprot':'P02768', 'fmoles':50000})\n",
    "ups2_proteins_l.append({'uniprot':'P62988', 'fmoles':50000})\n",
    "\n",
    "ups2_proteins_l.append({'uniprot':'P04040', 'fmoles':5000})\n",
    "ups2_proteins_l.append({'uniprot':'P00167', 'fmoles':5000})\n",
    "ups2_proteins_l.append({'uniprot':'P01133', 'fmoles':5000})\n",
    "ups2_proteins_l.append({'uniprot':'P02144', 'fmoles':5000})\n",
    "ups2_proteins_l.append({'uniprot':'P15559', 'fmoles':5000})\n",
    "ups2_proteins_l.append({'uniprot':'P62937', 'fmoles':5000})\n",
    "ups2_proteins_l.append({'uniprot':'Q06830', 'fmoles':5000})\n",
    "ups2_proteins_l.append({'uniprot':'P63165', 'fmoles':5000})\n",
    "\n",
    "ups2_proteins_l.append({'uniprot':'P00709', 'fmoles':500})\n",
    "ups2_proteins_l.append({'uniprot':'P06732', 'fmoles':500})\n",
    "ups2_proteins_l.append({'uniprot':'P12081', 'fmoles':500})\n",
    "ups2_proteins_l.append({'uniprot':'P61626', 'fmoles':500})\n",
    "ups2_proteins_l.append({'uniprot':'Q15843', 'fmoles':500})\n",
    "ups2_proteins_l.append({'uniprot':'P02753', 'fmoles':500})\n",
    "ups2_proteins_l.append({'uniprot':'P16083', 'fmoles':500})\n",
    "ups2_proteins_l.append({'uniprot':'P63279', 'fmoles':500})\n",
    "\n",
    "ups2_proteins_l.append({'uniprot':'P01008', 'fmoles':50})\n",
    "ups2_proteins_l.append({'uniprot':'P61769', 'fmoles':50})\n",
    "ups2_proteins_l.append({'uniprot':'P55957', 'fmoles':50})\n",
    "ups2_proteins_l.append({'uniprot':'O76070', 'fmoles':50})\n",
    "ups2_proteins_l.append({'uniprot':'P08263', 'fmoles':50})\n",
    "ups2_proteins_l.append({'uniprot':'P01344', 'fmoles':50})\n",
    "ups2_proteins_l.append({'uniprot':'P01127', 'fmoles':50})\n",
    "ups2_proteins_l.append({'uniprot':'P10599', 'fmoles':50})\n",
    "\n",
    "ups2_proteins_l.append({'uniprot':'P99999', 'fmoles':5})\n",
    "ups2_proteins_l.append({'uniprot':'P06396', 'fmoles':5})\n",
    "ups2_proteins_l.append({'uniprot':'P09211', 'fmoles':5})\n",
    "ups2_proteins_l.append({'uniprot':'P01112', 'fmoles':5})\n",
    "ups2_proteins_l.append({'uniprot':'P01579', 'fmoles':5})\n",
    "ups2_proteins_l.append({'uniprot':'P02787', 'fmoles':5})\n",
    "ups2_proteins_l.append({'uniprot':'O00762', 'fmoles':5})\n",
    "ups2_proteins_l.append({'uniprot':'P51965', 'fmoles':5})\n",
    "\n",
    "ups2_proteins_l.append({'uniprot':'P08758', 'fmoles':0.5})\n",
    "ups2_proteins_l.append({'uniprot':'P02741', 'fmoles':0.5})\n",
    "ups2_proteins_l.append({'uniprot':'P05413', 'fmoles':0.5})\n",
    "ups2_proteins_l.append({'uniprot':'P10145', 'fmoles':0.5})\n",
    "ups2_proteins_l.append({'uniprot':'P02788', 'fmoles':0.5})\n",
    "ups2_proteins_l.append({'uniprot':'P10636-8', 'fmoles':0.5})\n",
    "ups2_proteins_l.append({'uniprot':'P00441', 'fmoles':0.5})\n",
    "ups2_proteins_l.append({'uniprot':'P01375', 'fmoles':0.5})\n",
    "\n",
    "ups2_d = {}\n",
    "for p in ups2_proteins_l:\n",
    "    ups2_d[p['uniprot']] = p['fmoles']"
   ]
  },
  {
   "cell_type": "markdown",
   "metadata": {},
   "source": [
    "#### with correction"
   ]
  },
  {
   "cell_type": "code",
   "execution_count": 12,
   "metadata": {},
   "outputs": [
    {
     "data": {
      "text/plain": [
       "array(['P62937ups|PPIA_HUMAN_UPS,P62988ups|UBIQ_HUMAN_UPS,O76070ups|SYUG_HUMAN_UPS',\n",
       "       'P00918ups|CAH2_HUMAN_UPS', 'P02144ups|MYG_HUMAN_UPS',\n",
       "       'P02768ups|ALBU_HUMAN_UPS', 'P41159ups|LEP_HUMAN_UPS',\n",
       "       'P01031ups|CO5_HUMAN_UPS', 'P00915ups|CAH1_HUMAN_UPS',\n",
       "       'P69905ups|HBA_HUMAN_UPS', 'Q06830ups|PRDX1_HUMAN_UPS',\n",
       "       'P68871ups|HBB_HUMAN_UPS', 'P04040ups|CATA_HUMAN_UPS',\n",
       "       'P15559ups|NQO1_HUMAN_UPS', 'P00167ups|CYB5_HUMAN_UPS',\n",
       "       'P63165ups|SUMO1_HUMAN_UPS', 'P62937ups|PPIA_HUMAN_UPS',\n",
       "       'P62988ups|UBIQ_HUMAN_UPS', 'P06732ups|KCRM_HUMAN_UPS',\n",
       "       'P00709ups|LALBA_HUMAN_UPS', 'P12081ups|SYHC_HUMAN_UPS'],\n",
       "      dtype=object)"
      ]
     },
     "execution_count": 12,
     "metadata": {},
     "output_type": "execute_result"
    }
   ],
   "source": [
    "identifications_with_cs_df['protein id'].unique()"
   ]
  },
  {
   "cell_type": "code",
   "execution_count": 13,
   "metadata": {},
   "outputs": [
    {
     "name": "stdout",
     "output_type": "stream",
     "text": [
      "didn't have three peptides for P00709ups|LALBA_HUMAN_UPS\n",
      "didn't have three peptides for P06732ups|KCRM_HUMAN_UPS\n",
      "didn't have three peptides for P62937ups|PPIA_HUMAN_UPS\n"
     ]
    }
   ],
   "source": [
    "# find the three most intense peptides for each protein\n",
    "top3_l = []\n",
    "for group_name,group_df in identifications_with_cs_df.groupby('protein id'):\n",
    "    df = group_df.sort_values(by=['feature_intensity'], ascending=False, inplace=False)\n",
    "    top3_df = df.head(n=3)\n",
    "    if len(top3_df) == 3:\n",
    "        uniprot_id = group_name.split('ups|')[0]\n",
    "        pmoles = ups2_d[uniprot_id] / 1000\n",
    "        average_intensity = top3_df.feature_intensity.mean()\n",
    "        signal_response_factor = average_intensity / pmoles\n",
    "        peptide_count = len(df)\n",
    "        attribs_d = top3_df[['feature_id','sequence','charge','feature_intensity']].to_dict('records')\n",
    "        top3_l.append({'protein':group_name, 'pmoles':pmoles, 'average_intensity':average_intensity, 'signal_response_factor':signal_response_factor, 'peptide_count':peptide_count, 'attribs_d':attribs_d})\n",
    "    else:\n",
    "        print('didn\\'t have three peptides for {}'.format(group_name))\n",
    "top3_with_df = pd.DataFrame(top3_l)"
   ]
  },
  {
   "cell_type": "code",
   "execution_count": 14,
   "metadata": {},
   "outputs": [
    {
     "data": {
      "text/plain": [
       "746.14"
      ]
     },
     "execution_count": 14,
     "metadata": {},
     "output_type": "execute_result"
    }
   ],
   "source": [
    "# using Serum albumin (P02768) as an internal reference\n",
    "universal_signal_response_factor = top3_with_df[top3_with_df.protein.str.startswith('P02768')].iloc[0].signal_response_factor\n",
    "universal_signal_response_factor"
   ]
  },
  {
   "cell_type": "code",
   "execution_count": 15,
   "metadata": {},
   "outputs": [],
   "source": [
    "top3_with_df['calculated_pmoles'] = top3_with_df.average_intensity / universal_signal_response_factor"
   ]
  },
  {
   "cell_type": "code",
   "execution_count": 16,
   "metadata": {},
   "outputs": [
    {
     "data": {
      "text/html": [
       "<div>\n",
       "<style scoped>\n",
       "    .dataframe tbody tr th:only-of-type {\n",
       "        vertical-align: middle;\n",
       "    }\n",
       "\n",
       "    .dataframe tbody tr th {\n",
       "        vertical-align: top;\n",
       "    }\n",
       "\n",
       "    .dataframe thead th {\n",
       "        text-align: right;\n",
       "    }\n",
       "</style>\n",
       "<table border=\"1\" class=\"dataframe\">\n",
       "  <thead>\n",
       "    <tr style=\"text-align: right;\">\n",
       "      <th></th>\n",
       "      <th>protein</th>\n",
       "      <th>pmoles</th>\n",
       "      <th>average_intensity</th>\n",
       "      <th>signal_response_factor</th>\n",
       "      <th>peptide_count</th>\n",
       "      <th>attribs_d</th>\n",
       "      <th>calculated_pmoles</th>\n",
       "    </tr>\n",
       "  </thead>\n",
       "  <tbody>\n",
       "    <tr>\n",
       "      <th>0</th>\n",
       "      <td>P00167ups|CYB5_HUMAN_UPS</td>\n",
       "      <td>5.0</td>\n",
       "      <td>4738.666667</td>\n",
       "      <td>947.733333</td>\n",
       "      <td>4</td>\n",
       "      <td>[{'feature_id': 1257301, 'sequence': 'TFIIGELH...</td>\n",
       "      <td>6.350908</td>\n",
       "    </tr>\n",
       "    <tr>\n",
       "      <th>1</th>\n",
       "      <td>P00915ups|CAH1_HUMAN_UPS</td>\n",
       "      <td>50.0</td>\n",
       "      <td>29977.666667</td>\n",
       "      <td>599.553333</td>\n",
       "      <td>52</td>\n",
       "      <td>[{'feature_id': 817901, 'sequence': 'HDTSLKPIS...</td>\n",
       "      <td>40.177000</td>\n",
       "    </tr>\n",
       "    <tr>\n",
       "      <th>2</th>\n",
       "      <td>P00918ups|CAH2_HUMAN_UPS</td>\n",
       "      <td>50.0</td>\n",
       "      <td>19417.333333</td>\n",
       "      <td>388.346667</td>\n",
       "      <td>31</td>\n",
       "      <td>[{'feature_id': 2188301, 'sequence': 'YDPSLKPL...</td>\n",
       "      <td>26.023713</td>\n",
       "    </tr>\n",
       "    <tr>\n",
       "      <th>3</th>\n",
       "      <td>P01031ups|CO5_HUMAN_UPS</td>\n",
       "      <td>50.0</td>\n",
       "      <td>10243.000000</td>\n",
       "      <td>204.860000</td>\n",
       "      <td>6</td>\n",
       "      <td>[{'feature_id': 1576101, 'sequence': 'AFTECCVV...</td>\n",
       "      <td>13.727987</td>\n",
       "    </tr>\n",
       "    <tr>\n",
       "      <th>4</th>\n",
       "      <td>P02144ups|MYG_HUMAN_UPS</td>\n",
       "      <td>5.0</td>\n",
       "      <td>2552.000000</td>\n",
       "      <td>510.400000</td>\n",
       "      <td>10</td>\n",
       "      <td>[{'feature_id': 1141101, 'sequence': 'VEADIPGH...</td>\n",
       "      <td>3.420270</td>\n",
       "    </tr>\n",
       "    <tr>\n",
       "      <th>5</th>\n",
       "      <td>P02768ups|ALBU_HUMAN_UPS</td>\n",
       "      <td>50.0</td>\n",
       "      <td>37307.000000</td>\n",
       "      <td>746.140000</td>\n",
       "      <td>440</td>\n",
       "      <td>[{'feature_id': 581202, 'sequence': 'ECCEKPLLE...</td>\n",
       "      <td>50.000000</td>\n",
       "    </tr>\n",
       "    <tr>\n",
       "      <th>6</th>\n",
       "      <td>P04040ups|CATA_HUMAN_UPS</td>\n",
       "      <td>5.0</td>\n",
       "      <td>14848.000000</td>\n",
       "      <td>2969.600000</td>\n",
       "      <td>13</td>\n",
       "      <td>[{'feature_id': 3697701, 'sequence': 'GPLLVQDV...</td>\n",
       "      <td>19.899751</td>\n",
       "    </tr>\n",
       "    <tr>\n",
       "      <th>7</th>\n",
       "      <td>P12081ups|SYHC_HUMAN_UPS</td>\n",
       "      <td>0.5</td>\n",
       "      <td>1179.333333</td>\n",
       "      <td>2358.666667</td>\n",
       "      <td>5</td>\n",
       "      <td>[{'feature_id': 4694101, 'sequence': 'LLNQLQYC...</td>\n",
       "      <td>1.580579</td>\n",
       "    </tr>\n",
       "    <tr>\n",
       "      <th>8</th>\n",
       "      <td>P15559ups|NQO1_HUMAN_UPS</td>\n",
       "      <td>5.0</td>\n",
       "      <td>12739.666667</td>\n",
       "      <td>2547.933333</td>\n",
       "      <td>6</td>\n",
       "      <td>[{'feature_id': 831801, 'sequence': 'ALIVLAHSE...</td>\n",
       "      <td>17.074097</td>\n",
       "    </tr>\n",
       "    <tr>\n",
       "      <th>9</th>\n",
       "      <td>P41159ups|LEP_HUMAN_UPS</td>\n",
       "      <td>50.0</td>\n",
       "      <td>19042.666667</td>\n",
       "      <td>380.853333</td>\n",
       "      <td>91</td>\n",
       "      <td>[{'feature_id': 3963201, 'sequence': 'VTGLDFIP...</td>\n",
       "      <td>25.521573</td>\n",
       "    </tr>\n",
       "    <tr>\n",
       "      <th>10</th>\n",
       "      <td>P62937ups|PPIA_HUMAN_UPS,P62988ups|UBIQ_HUMAN_...</td>\n",
       "      <td>5.0</td>\n",
       "      <td>1902.000000</td>\n",
       "      <td>380.400000</td>\n",
       "      <td>17</td>\n",
       "      <td>[{'feature_id': 10101, 'sequence': 'GSSHHHHHHS...</td>\n",
       "      <td>2.549119</td>\n",
       "    </tr>\n",
       "    <tr>\n",
       "      <th>11</th>\n",
       "      <td>P62988ups|UBIQ_HUMAN_UPS</td>\n",
       "      <td>50.0</td>\n",
       "      <td>7764.666667</td>\n",
       "      <td>155.293333</td>\n",
       "      <td>3</td>\n",
       "      <td>[{'feature_id': 2353401, 'sequence': 'TITLEVEP...</td>\n",
       "      <td>10.406447</td>\n",
       "    </tr>\n",
       "    <tr>\n",
       "      <th>12</th>\n",
       "      <td>P63165ups|SUMO1_HUMAN_UPS</td>\n",
       "      <td>5.0</td>\n",
       "      <td>704.000000</td>\n",
       "      <td>140.800000</td>\n",
       "      <td>3</td>\n",
       "      <td>[{'feature_id': 2907601, 'sequence': 'LLLEYLEE...</td>\n",
       "      <td>0.943523</td>\n",
       "    </tr>\n",
       "    <tr>\n",
       "      <th>13</th>\n",
       "      <td>P68871ups|HBB_HUMAN_UPS</td>\n",
       "      <td>50.0</td>\n",
       "      <td>6362.666667</td>\n",
       "      <td>127.253333</td>\n",
       "      <td>18</td>\n",
       "      <td>[{'feature_id': 1215001, 'sequence': 'VNVDEVGG...</td>\n",
       "      <td>8.527443</td>\n",
       "    </tr>\n",
       "    <tr>\n",
       "      <th>14</th>\n",
       "      <td>P69905ups|HBA_HUMAN_UPS</td>\n",
       "      <td>50.0</td>\n",
       "      <td>13728.000000</td>\n",
       "      <td>274.560000</td>\n",
       "      <td>43</td>\n",
       "      <td>[{'feature_id': 3337401, 'sequence': 'VADALTNA...</td>\n",
       "      <td>18.398692</td>\n",
       "    </tr>\n",
       "    <tr>\n",
       "      <th>15</th>\n",
       "      <td>Q06830ups|PRDX1_HUMAN_UPS</td>\n",
       "      <td>5.0</td>\n",
       "      <td>4382.000000</td>\n",
       "      <td>876.400000</td>\n",
       "      <td>10</td>\n",
       "      <td>[{'feature_id': 696401, 'sequence': 'HGEVCPAGW...</td>\n",
       "      <td>5.872892</td>\n",
       "    </tr>\n",
       "  </tbody>\n",
       "</table>\n",
       "</div>"
      ],
      "text/plain": [
       "                                              protein  pmoles  \\\n",
       "0                            P00167ups|CYB5_HUMAN_UPS     5.0   \n",
       "1                            P00915ups|CAH1_HUMAN_UPS    50.0   \n",
       "2                            P00918ups|CAH2_HUMAN_UPS    50.0   \n",
       "3                             P01031ups|CO5_HUMAN_UPS    50.0   \n",
       "4                             P02144ups|MYG_HUMAN_UPS     5.0   \n",
       "5                            P02768ups|ALBU_HUMAN_UPS    50.0   \n",
       "6                            P04040ups|CATA_HUMAN_UPS     5.0   \n",
       "7                            P12081ups|SYHC_HUMAN_UPS     0.5   \n",
       "8                            P15559ups|NQO1_HUMAN_UPS     5.0   \n",
       "9                             P41159ups|LEP_HUMAN_UPS    50.0   \n",
       "10  P62937ups|PPIA_HUMAN_UPS,P62988ups|UBIQ_HUMAN_...     5.0   \n",
       "11                           P62988ups|UBIQ_HUMAN_UPS    50.0   \n",
       "12                          P63165ups|SUMO1_HUMAN_UPS     5.0   \n",
       "13                            P68871ups|HBB_HUMAN_UPS    50.0   \n",
       "14                            P69905ups|HBA_HUMAN_UPS    50.0   \n",
       "15                          Q06830ups|PRDX1_HUMAN_UPS     5.0   \n",
       "\n",
       "    average_intensity  signal_response_factor  peptide_count  \\\n",
       "0         4738.666667              947.733333              4   \n",
       "1        29977.666667              599.553333             52   \n",
       "2        19417.333333              388.346667             31   \n",
       "3        10243.000000              204.860000              6   \n",
       "4         2552.000000              510.400000             10   \n",
       "5        37307.000000              746.140000            440   \n",
       "6        14848.000000             2969.600000             13   \n",
       "7         1179.333333             2358.666667              5   \n",
       "8        12739.666667             2547.933333              6   \n",
       "9        19042.666667              380.853333             91   \n",
       "10        1902.000000              380.400000             17   \n",
       "11        7764.666667              155.293333              3   \n",
       "12         704.000000              140.800000              3   \n",
       "13        6362.666667              127.253333             18   \n",
       "14       13728.000000              274.560000             43   \n",
       "15        4382.000000              876.400000             10   \n",
       "\n",
       "                                            attribs_d  calculated_pmoles  \n",
       "0   [{'feature_id': 1257301, 'sequence': 'TFIIGELH...           6.350908  \n",
       "1   [{'feature_id': 817901, 'sequence': 'HDTSLKPIS...          40.177000  \n",
       "2   [{'feature_id': 2188301, 'sequence': 'YDPSLKPL...          26.023713  \n",
       "3   [{'feature_id': 1576101, 'sequence': 'AFTECCVV...          13.727987  \n",
       "4   [{'feature_id': 1141101, 'sequence': 'VEADIPGH...           3.420270  \n",
       "5   [{'feature_id': 581202, 'sequence': 'ECCEKPLLE...          50.000000  \n",
       "6   [{'feature_id': 3697701, 'sequence': 'GPLLVQDV...          19.899751  \n",
       "7   [{'feature_id': 4694101, 'sequence': 'LLNQLQYC...           1.580579  \n",
       "8   [{'feature_id': 831801, 'sequence': 'ALIVLAHSE...          17.074097  \n",
       "9   [{'feature_id': 3963201, 'sequence': 'VTGLDFIP...          25.521573  \n",
       "10  [{'feature_id': 10101, 'sequence': 'GSSHHHHHHS...           2.549119  \n",
       "11  [{'feature_id': 2353401, 'sequence': 'TITLEVEP...          10.406447  \n",
       "12  [{'feature_id': 2907601, 'sequence': 'LLLEYLEE...           0.943523  \n",
       "13  [{'feature_id': 1215001, 'sequence': 'VNVDEVGG...           8.527443  \n",
       "14  [{'feature_id': 3337401, 'sequence': 'VADALTNA...          18.398692  \n",
       "15  [{'feature_id': 696401, 'sequence': 'HGEVCPAGW...           5.872892  "
      ]
     },
     "execution_count": 16,
     "metadata": {},
     "output_type": "execute_result"
    }
   ],
   "source": [
    "top3_with_df"
   ]
  },
  {
   "cell_type": "code",
   "execution_count": 17,
   "metadata": {},
   "outputs": [
    {
     "data": {
      "text/plain": [
       "1.084370805882146"
      ]
     },
     "execution_count": 17,
     "metadata": {},
     "output_type": "execute_result"
    }
   ],
   "source": [
    "# calculate the CV for the signal response factor\n",
    "cv = top3_with_df.signal_response_factor.std() / top3_with_df.signal_response_factor.mean()\n",
    "cv"
   ]
  },
  {
   "cell_type": "markdown",
   "metadata": {},
   "source": [
    "#### without correction"
   ]
  },
  {
   "cell_type": "code",
   "execution_count": 18,
   "metadata": {},
   "outputs": [
    {
     "name": "stdout",
     "output_type": "stream",
     "text": [
      "didn't have three peptides for P00709ups|LALBA_HUMAN_UPS\n",
      "didn't have three peptides for P06732ups|KCRM_HUMAN_UPS\n",
      "didn't have three peptides for P62937ups|PPIA_HUMAN_UPS\n"
     ]
    }
   ],
   "source": [
    "# find the three most intense peptides for each protein\n",
    "top3_l = []\n",
    "for group_name,group_df in identifications_without_cs_df.groupby('protein id'):\n",
    "    df = group_df.sort_values(by=['feature_intensity'], ascending=False, inplace=False)\n",
    "    top3_df = df.head(n=3)\n",
    "    if len(top3_df) == 3:\n",
    "        uniprot_id = group_name.split('ups|')[0]\n",
    "        pmoles = ups2_d[uniprot_id] / 1000\n",
    "        average_intensity = top3_df.feature_intensity.mean()\n",
    "        signal_response_factor = average_intensity / pmoles\n",
    "        peptide_count = len(df)\n",
    "        attribs_d = top3_df[['feature_id','sequence','charge','feature_intensity']].to_dict('records')\n",
    "        top3_l.append({'protein':group_name, 'pmoles':pmoles, 'average_intensity':average_intensity, 'signal_response_factor':signal_response_factor, 'peptide_count':peptide_count, 'attribs_d':attribs_d})\n",
    "    else:\n",
    "        print('didn\\'t have three peptides for {}'.format(group_name))\n",
    "top3_without_df = pd.DataFrame(top3_l)"
   ]
  },
  {
   "cell_type": "code",
   "execution_count": 19,
   "metadata": {},
   "outputs": [],
   "source": [
    "# using Serum albumin (P02768) as an internal reference\n",
    "universal_signal_response_factor = top3_without_df[top3_without_df.protein.str.startswith('P02768')].iloc[0].signal_response_factor"
   ]
  },
  {
   "cell_type": "code",
   "execution_count": 20,
   "metadata": {},
   "outputs": [],
   "source": [
    "top3_without_df['calculated_pmoles'] = top3_without_df.average_intensity / universal_signal_response_factor"
   ]
  },
  {
   "cell_type": "code",
   "execution_count": 21,
   "metadata": {},
   "outputs": [
    {
     "data": {
      "text/plain": [
       "0.9880194234520789"
      ]
     },
     "execution_count": 21,
     "metadata": {},
     "output_type": "execute_result"
    }
   ],
   "source": [
    "# calculate the CV for the signal response factor\n",
    "cv = top3_without_df.signal_response_factor.std() / top3_without_df.signal_response_factor.mean()\n",
    "cv"
   ]
  },
  {
   "cell_type": "markdown",
   "metadata": {},
   "source": [
    "#### calculate correlation"
   ]
  },
  {
   "cell_type": "code",
   "execution_count": 22,
   "metadata": {},
   "outputs": [],
   "source": [
    "combined_df = pd.merge(top3_with_df, top3_without_df, how='inner', left_on=['protein'], right_on=['protein'], suffixes=['_with','_without'])"
   ]
  },
  {
   "cell_type": "code",
   "execution_count": 23,
   "metadata": {},
   "outputs": [
    {
     "data": {
      "text/html": [
       "<div>\n",
       "<style scoped>\n",
       "    .dataframe tbody tr th:only-of-type {\n",
       "        vertical-align: middle;\n",
       "    }\n",
       "\n",
       "    .dataframe tbody tr th {\n",
       "        vertical-align: top;\n",
       "    }\n",
       "\n",
       "    .dataframe thead th {\n",
       "        text-align: right;\n",
       "    }\n",
       "</style>\n",
       "<table border=\"1\" class=\"dataframe\">\n",
       "  <thead>\n",
       "    <tr style=\"text-align: right;\">\n",
       "      <th></th>\n",
       "      <th>protein</th>\n",
       "      <th>pmoles_with</th>\n",
       "      <th>average_intensity_with</th>\n",
       "      <th>signal_response_factor_with</th>\n",
       "      <th>peptide_count_with</th>\n",
       "      <th>attribs_d_with</th>\n",
       "      <th>calculated_pmoles_with</th>\n",
       "      <th>pmoles_without</th>\n",
       "      <th>average_intensity_without</th>\n",
       "      <th>signal_response_factor_without</th>\n",
       "      <th>peptide_count_without</th>\n",
       "      <th>attribs_d_without</th>\n",
       "      <th>calculated_pmoles_without</th>\n",
       "    </tr>\n",
       "  </thead>\n",
       "  <tbody>\n",
       "    <tr>\n",
       "      <th>13</th>\n",
       "      <td>P68871ups|HBB_HUMAN_UPS</td>\n",
       "      <td>50.0</td>\n",
       "      <td>6362.666667</td>\n",
       "      <td>127.253333</td>\n",
       "      <td>18</td>\n",
       "      <td>[{'feature_id': 1215001, 'sequence': 'VNVDEVGG...</td>\n",
       "      <td>8.527443</td>\n",
       "      <td>50.0</td>\n",
       "      <td>21853.333333</td>\n",
       "      <td>437.066667</td>\n",
       "      <td>22</td>\n",
       "      <td>[{'feature_id': 2709701, 'sequence': 'VLGAFSDG...</td>\n",
       "      <td>36.714716</td>\n",
       "    </tr>\n",
       "    <tr>\n",
       "      <th>15</th>\n",
       "      <td>Q06830ups|PRDX1_HUMAN_UPS</td>\n",
       "      <td>5.0</td>\n",
       "      <td>4382.000000</td>\n",
       "      <td>876.400000</td>\n",
       "      <td>10</td>\n",
       "      <td>[{'feature_id': 696401, 'sequence': 'HGEVCPAGW...</td>\n",
       "      <td>5.872892</td>\n",
       "      <td>5.0</td>\n",
       "      <td>4382.000000</td>\n",
       "      <td>876.400000</td>\n",
       "      <td>10</td>\n",
       "      <td>[{'feature_id': 696401, 'sequence': 'HGEVCPAGW...</td>\n",
       "      <td>7.361984</td>\n",
       "    </tr>\n",
       "    <tr>\n",
       "      <th>8</th>\n",
       "      <td>P15559ups|NQO1_HUMAN_UPS</td>\n",
       "      <td>5.0</td>\n",
       "      <td>12739.666667</td>\n",
       "      <td>2547.933333</td>\n",
       "      <td>6</td>\n",
       "      <td>[{'feature_id': 831801, 'sequence': 'ALIVLAHSE...</td>\n",
       "      <td>17.074097</td>\n",
       "      <td>5.0</td>\n",
       "      <td>9462.666667</td>\n",
       "      <td>1892.533333</td>\n",
       "      <td>6</td>\n",
       "      <td>[{'feature_id': 834301, 'sequence': 'ALIVLAHSE...</td>\n",
       "      <td>15.897763</td>\n",
       "    </tr>\n",
       "  </tbody>\n",
       "</table>\n",
       "</div>"
      ],
      "text/plain": [
       "                      protein  pmoles_with  average_intensity_with  \\\n",
       "13    P68871ups|HBB_HUMAN_UPS         50.0             6362.666667   \n",
       "15  Q06830ups|PRDX1_HUMAN_UPS          5.0             4382.000000   \n",
       "8    P15559ups|NQO1_HUMAN_UPS          5.0            12739.666667   \n",
       "\n",
       "    signal_response_factor_with  peptide_count_with  \\\n",
       "13                   127.253333                  18   \n",
       "15                   876.400000                  10   \n",
       "8                   2547.933333                   6   \n",
       "\n",
       "                                       attribs_d_with  calculated_pmoles_with  \\\n",
       "13  [{'feature_id': 1215001, 'sequence': 'VNVDEVGG...                8.527443   \n",
       "15  [{'feature_id': 696401, 'sequence': 'HGEVCPAGW...                5.872892   \n",
       "8   [{'feature_id': 831801, 'sequence': 'ALIVLAHSE...               17.074097   \n",
       "\n",
       "    pmoles_without  average_intensity_without  signal_response_factor_without  \\\n",
       "13            50.0               21853.333333                      437.066667   \n",
       "15             5.0                4382.000000                      876.400000   \n",
       "8              5.0                9462.666667                     1892.533333   \n",
       "\n",
       "    peptide_count_without                                  attribs_d_without  \\\n",
       "13                     22  [{'feature_id': 2709701, 'sequence': 'VLGAFSDG...   \n",
       "15                     10  [{'feature_id': 696401, 'sequence': 'HGEVCPAGW...   \n",
       "8                       6  [{'feature_id': 834301, 'sequence': 'ALIVLAHSE...   \n",
       "\n",
       "    calculated_pmoles_without  \n",
       "13                  36.714716  \n",
       "15                   7.361984  \n",
       "8                   15.897763  "
      ]
     },
     "execution_count": 23,
     "metadata": {},
     "output_type": "execute_result"
    }
   ],
   "source": [
    "combined_df.sample(n=3)"
   ]
  },
  {
   "cell_type": "code",
   "execution_count": 24,
   "metadata": {},
   "outputs": [
    {
     "data": {
      "text/plain": [
       "0.6196166398761731"
      ]
     },
     "execution_count": 24,
     "metadata": {},
     "output_type": "execute_result"
    }
   ],
   "source": [
    "combined_df['pmoles_with'].corr(combined_df['calculated_pmoles_with'])"
   ]
  },
  {
   "cell_type": "code",
   "execution_count": 25,
   "metadata": {},
   "outputs": [
    {
     "data": {
      "text/plain": [
       "0.7678089239233558"
      ]
     },
     "execution_count": 25,
     "metadata": {},
     "output_type": "execute_result"
    }
   ],
   "source": [
    "combined_df['pmoles_without'].corr(combined_df['calculated_pmoles_without'])"
   ]
  },
  {
   "cell_type": "code",
   "execution_count": null,
   "metadata": {},
   "outputs": [],
   "source": []
  }
 ],
 "metadata": {
  "kernelspec": {
   "display_name": "Python 3",
   "language": "python",
   "name": "python3"
  },
  "language_info": {
   "codemirror_mode": {
    "name": "ipython",
    "version": 3
   },
   "file_extension": ".py",
   "mimetype": "text/x-python",
   "name": "python",
   "nbconvert_exporter": "python",
   "pygments_lexer": "ipython3",
   "version": "3.8.5"
  }
 },
 "nbformat": 4,
 "nbformat_minor": 4
}
