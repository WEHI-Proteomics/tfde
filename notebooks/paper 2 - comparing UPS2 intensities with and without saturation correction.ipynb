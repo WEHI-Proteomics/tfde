{
 "cells": [
  {
   "cell_type": "code",
   "execution_count": 1,
   "metadata": {},
   "outputs": [],
   "source": [
    "import pandas as pd\n",
    "import numpy as np\n",
    "import os\n",
    "import matplotlib.pyplot as plt\n",
    "import pickle\n",
    "import seaborn as sns\n",
    "import json\n",
    "from os.path import expanduser"
   ]
  },
  {
   "cell_type": "code",
   "execution_count": 2,
   "metadata": {},
   "outputs": [],
   "source": [
    "experiment_name = 'P3830'\n",
    "feature_detection_method = 'pasef'"
   ]
  },
  {
   "cell_type": "code",
   "execution_count": 3,
   "metadata": {},
   "outputs": [],
   "source": [
    "MAXIMUM_Q_VALUE = 0.01"
   ]
  },
  {
   "cell_type": "code",
   "execution_count": 4,
   "metadata": {},
   "outputs": [],
   "source": [
    "BASE_RESULTS_DIR = '/media/big-ssd'\n",
    "# BASE_RESULTS_DIR = '/Users/darylwilding-mcbride/Downloads'.format(experiment_name)"
   ]
  },
  {
   "cell_type": "markdown",
   "metadata": {},
   "source": [
    "#### identifications with correction for saturation"
   ]
  },
  {
   "cell_type": "code",
   "execution_count": 5,
   "metadata": {},
   "outputs": [],
   "source": [
    "IDENTIFICATIONS_WITH_CS_DIR = '{}/results-P3830/P3830-results-cs-true-fmdw-false-2021-05-19-13-53-24/identifications-pasef'.format(BASE_RESULTS_DIR)\n",
    "IDENTIFICATIONS_WITH_CS_FILE = '{}/exp-{}-identifications-{}-recalibrated.pkl'.format(IDENTIFICATIONS_WITH_CS_DIR, experiment_name, feature_detection_method)"
   ]
  },
  {
   "cell_type": "code",
   "execution_count": 6,
   "metadata": {},
   "outputs": [],
   "source": [
    "# load the identifications\n",
    "with open(IDENTIFICATIONS_WITH_CS_FILE, 'rb') as handle:\n",
    "    d = pickle.load(handle)\n",
    "identifications_with_cs_df = d['identifications_df']\n",
    "identifications_with_cs_df = identifications_with_cs_df[(identifications_with_cs_df['percolator q-value'] <= MAXIMUM_Q_VALUE) & (~identifications_with_cs_df['protein id'].str.contains('YEAST'))]"
   ]
  },
  {
   "cell_type": "code",
   "execution_count": 7,
   "metadata": {},
   "outputs": [
    {
     "data": {
      "text/html": [
       "<div>\n",
       "<style scoped>\n",
       "    .dataframe tbody tr th:only-of-type {\n",
       "        vertical-align: middle;\n",
       "    }\n",
       "\n",
       "    .dataframe tbody tr th {\n",
       "        vertical-align: top;\n",
       "    }\n",
       "\n",
       "    .dataframe thead th {\n",
       "        text-align: right;\n",
       "    }\n",
       "</style>\n",
       "<table border=\"1\" class=\"dataframe\">\n",
       "  <thead>\n",
       "    <tr style=\"text-align: right;\">\n",
       "      <th></th>\n",
       "      <th>counts</th>\n",
       "      <th>%</th>\n",
       "    </tr>\n",
       "  </thead>\n",
       "  <tbody>\n",
       "    <tr>\n",
       "      <th>monoisotopic_not_saturated</th>\n",
       "      <td>218</td>\n",
       "      <td>79.9</td>\n",
       "    </tr>\n",
       "    <tr>\n",
       "      <th>monoisotopic_saturated_adjusted</th>\n",
       "      <td>54</td>\n",
       "      <td>19.8</td>\n",
       "    </tr>\n",
       "    <tr>\n",
       "      <th>no_nonsaturated_isotopes</th>\n",
       "      <td>1</td>\n",
       "      <td>0.4</td>\n",
       "    </tr>\n",
       "  </tbody>\n",
       "</table>\n",
       "</div>"
      ],
      "text/plain": [
       "                                 counts     %\n",
       "monoisotopic_not_saturated          218  79.9\n",
       "monoisotopic_saturated_adjusted      54  19.8\n",
       "no_nonsaturated_isotopes              1   0.4"
      ]
     },
     "execution_count": 7,
     "metadata": {},
     "output_type": "execute_result"
    }
   ],
   "source": [
    "s1 = identifications_with_cs_df.mono_intensity_adjustment_outcome.value_counts(normalize=False).rename('counts', inplace=True)\n",
    "s2 = round(identifications_with_cs_df.mono_intensity_adjustment_outcome.value_counts(normalize=True)*100,1).rename('%', inplace=True)\n",
    "pd.concat([s1, s2], axis=1)"
   ]
  },
  {
   "cell_type": "code",
   "execution_count": 8,
   "metadata": {},
   "outputs": [
    {
     "name": "stdout",
     "output_type": "stream",
     "text": [
      "number of unique proteins: 19\n"
     ]
    }
   ],
   "source": [
    "print('number of unique proteins: {}'.format(len(identifications_with_cs_df['protein id'].unique())))"
   ]
  },
  {
   "cell_type": "markdown",
   "metadata": {},
   "source": [
    "#### identifications without correction for saturation"
   ]
  },
  {
   "cell_type": "code",
   "execution_count": 9,
   "metadata": {},
   "outputs": [],
   "source": [
    "IDENTIFICATIONS_WITHOUT_CS_DIR = '{}/results-P3830/P3830-results-cs-false-fmdw-false-2021-05-19-17-54-56/identifications-pasef'.format(BASE_RESULTS_DIR)\n",
    "IDENTIFICATIONS_WITHOUT_CS_FILE = '{}/exp-{}-identifications-{}-recalibrated.pkl'.format(IDENTIFICATIONS_WITHOUT_CS_DIR, experiment_name, feature_detection_method)"
   ]
  },
  {
   "cell_type": "code",
   "execution_count": 10,
   "metadata": {},
   "outputs": [],
   "source": [
    "# load the identifications\n",
    "with open(IDENTIFICATIONS_WITHOUT_CS_FILE, 'rb') as handle:\n",
    "    d = pickle.load(handle)\n",
    "identifications_without_cs_df = d['identifications_df']\n",
    "identifications_without_cs_df = identifications_without_cs_df[(identifications_without_cs_df['percolator q-value'] <= MAXIMUM_Q_VALUE) & (~identifications_without_cs_df['protein id'].str.contains('YEAST'))]"
   ]
  },
  {
   "cell_type": "code",
   "execution_count": 11,
   "metadata": {},
   "outputs": [
    {
     "name": "stdout",
     "output_type": "stream",
     "text": [
      "number of unique proteins: 19\n"
     ]
    }
   ],
   "source": [
    "print('number of unique proteins: {}'.format(len(identifications_without_cs_df['protein id'].unique())))"
   ]
  },
  {
   "cell_type": "markdown",
   "metadata": {},
   "source": [
    "#### using the Top3 approach to determine protein quanitification"
   ]
  },
  {
   "cell_type": "code",
   "execution_count": 12,
   "metadata": {},
   "outputs": [],
   "source": [
    "ups2_proteins_l = []\n",
    "\n",
    "ups2_proteins_l.append({'uniprot':'P00915', 'fmoles':50000})\n",
    "ups2_proteins_l.append({'uniprot':'P00918', 'fmoles':50000})\n",
    "ups2_proteins_l.append({'uniprot':'P01031', 'fmoles':50000})\n",
    "ups2_proteins_l.append({'uniprot':'P69905', 'fmoles':50000})\n",
    "ups2_proteins_l.append({'uniprot':'P68871', 'fmoles':50000})\n",
    "ups2_proteins_l.append({'uniprot':'P41159', 'fmoles':50000})\n",
    "ups2_proteins_l.append({'uniprot':'P02768', 'fmoles':50000})\n",
    "ups2_proteins_l.append({'uniprot':'P62988', 'fmoles':50000})\n",
    "\n",
    "ups2_proteins_l.append({'uniprot':'P04040', 'fmoles':5000})\n",
    "ups2_proteins_l.append({'uniprot':'P00167', 'fmoles':5000})\n",
    "ups2_proteins_l.append({'uniprot':'P01133', 'fmoles':5000})\n",
    "ups2_proteins_l.append({'uniprot':'P02144', 'fmoles':5000})\n",
    "ups2_proteins_l.append({'uniprot':'P15559', 'fmoles':5000})\n",
    "ups2_proteins_l.append({'uniprot':'P62937', 'fmoles':5000})\n",
    "ups2_proteins_l.append({'uniprot':'Q06830', 'fmoles':5000})\n",
    "ups2_proteins_l.append({'uniprot':'P63165', 'fmoles':5000})\n",
    "\n",
    "ups2_proteins_l.append({'uniprot':'P00709', 'fmoles':500})\n",
    "ups2_proteins_l.append({'uniprot':'P06732', 'fmoles':500})\n",
    "ups2_proteins_l.append({'uniprot':'P12081', 'fmoles':500})\n",
    "ups2_proteins_l.append({'uniprot':'P61626', 'fmoles':500})\n",
    "ups2_proteins_l.append({'uniprot':'Q15843', 'fmoles':500})\n",
    "ups2_proteins_l.append({'uniprot':'P02753', 'fmoles':500})\n",
    "ups2_proteins_l.append({'uniprot':'P16083', 'fmoles':500})\n",
    "ups2_proteins_l.append({'uniprot':'P63279', 'fmoles':500})\n",
    "\n",
    "ups2_proteins_l.append({'uniprot':'P01008', 'fmoles':50})\n",
    "ups2_proteins_l.append({'uniprot':'P61769', 'fmoles':50})\n",
    "ups2_proteins_l.append({'uniprot':'P55957', 'fmoles':50})\n",
    "ups2_proteins_l.append({'uniprot':'O76070', 'fmoles':50})\n",
    "ups2_proteins_l.append({'uniprot':'P08263', 'fmoles':50})\n",
    "ups2_proteins_l.append({'uniprot':'P01344', 'fmoles':50})\n",
    "ups2_proteins_l.append({'uniprot':'P01127', 'fmoles':50})\n",
    "ups2_proteins_l.append({'uniprot':'P10599', 'fmoles':50})\n",
    "\n",
    "ups2_proteins_l.append({'uniprot':'P99999', 'fmoles':5})\n",
    "ups2_proteins_l.append({'uniprot':'P06396', 'fmoles':5})\n",
    "ups2_proteins_l.append({'uniprot':'P09211', 'fmoles':5})\n",
    "ups2_proteins_l.append({'uniprot':'P01112', 'fmoles':5})\n",
    "ups2_proteins_l.append({'uniprot':'P01579', 'fmoles':5})\n",
    "ups2_proteins_l.append({'uniprot':'P02787', 'fmoles':5})\n",
    "ups2_proteins_l.append({'uniprot':'O00762', 'fmoles':5})\n",
    "ups2_proteins_l.append({'uniprot':'P51965', 'fmoles':5})\n",
    "\n",
    "ups2_proteins_l.append({'uniprot':'P08758', 'fmoles':0.5})\n",
    "ups2_proteins_l.append({'uniprot':'P02741', 'fmoles':0.5})\n",
    "ups2_proteins_l.append({'uniprot':'P05413', 'fmoles':0.5})\n",
    "ups2_proteins_l.append({'uniprot':'P10145', 'fmoles':0.5})\n",
    "ups2_proteins_l.append({'uniprot':'P02788', 'fmoles':0.5})\n",
    "ups2_proteins_l.append({'uniprot':'P10636-8', 'fmoles':0.5})\n",
    "ups2_proteins_l.append({'uniprot':'P00441', 'fmoles':0.5})\n",
    "ups2_proteins_l.append({'uniprot':'P01375', 'fmoles':0.5})\n",
    "\n",
    "ups2_d = {}\n",
    "for p in ups2_proteins_l:\n",
    "    ups2_d[p['uniprot']] = p['fmoles']"
   ]
  },
  {
   "cell_type": "markdown",
   "metadata": {},
   "source": [
    "#### with correction"
   ]
  },
  {
   "cell_type": "code",
   "execution_count": 13,
   "metadata": {},
   "outputs": [
    {
     "data": {
      "text/plain": [
       "array(['P02768ups|ALBU_HUMAN_UPS', 'P00915ups|CAH1_HUMAN_UPS',\n",
       "       'P00918ups|CAH2_HUMAN_UPS', 'P68871ups|HBB_HUMAN_UPS',\n",
       "       'P41159ups|LEP_HUMAN_UPS', 'P69905ups|HBA_HUMAN_UPS',\n",
       "       'P01031ups|CO5_HUMAN_UPS', 'P62988ups|UBIQ_HUMAN_UPS',\n",
       "       'Q06830ups|PRDX1_HUMAN_UPS', 'P04040ups|CATA_HUMAN_UPS',\n",
       "       'P02144ups|MYG_HUMAN_UPS', 'P00167ups|CYB5_HUMAN_UPS',\n",
       "       'P12081ups|SYHC_HUMAN_UPS',\n",
       "       'P62937ups|PPIA_HUMAN_UPS,P62988ups|UBIQ_HUMAN_UPS,O76070ups|SYUG_HUMAN_UPS',\n",
       "       'P15559ups|NQO1_HUMAN_UPS', 'P06732ups|KCRM_HUMAN_UPS',\n",
       "       'P00709ups|LALBA_HUMAN_UPS', 'P63165ups|SUMO1_HUMAN_UPS',\n",
       "       'P62937ups|PPIA_HUMAN_UPS'], dtype=object)"
      ]
     },
     "execution_count": 13,
     "metadata": {},
     "output_type": "execute_result"
    }
   ],
   "source": [
    "identifications_with_cs_df['protein id'].unique()"
   ]
  },
  {
   "cell_type": "code",
   "execution_count": 14,
   "metadata": {},
   "outputs": [
    {
     "name": "stdout",
     "output_type": "stream",
     "text": [
      "didn't have three peptides for P00167ups|CYB5_HUMAN_UPS\n",
      "didn't have three peptides for P00709ups|LALBA_HUMAN_UPS\n",
      "didn't have three peptides for P06732ups|KCRM_HUMAN_UPS\n",
      "didn't have three peptides for P62937ups|PPIA_HUMAN_UPS\n",
      "didn't have three peptides for P62988ups|UBIQ_HUMAN_UPS\n"
     ]
    }
   ],
   "source": [
    "# find the three most intense peptides for each protein\n",
    "top3_l = []\n",
    "for group_name,group_df in identifications_with_cs_df.groupby('protein id'):\n",
    "    df = group_df.sort_values(by=['feature_intensity'], ascending=False, inplace=False)\n",
    "    top3_df = df.head(n=3)\n",
    "    if len(top3_df) == 3:\n",
    "        uniprot_id = group_name.split('ups')[0]\n",
    "        pmoles = ups2_d[uniprot_id] / 1000\n",
    "        average_intensity = top3_df.feature_intensity.mean()\n",
    "        signal_response_factor = average_intensity / pmoles\n",
    "        peptide_count = len(df)\n",
    "        intensity_adjusted = 'monoisotopic_saturated_adjusted' in list(top3_df.mono_intensity_adjustment_outcome)\n",
    "        attribs_d = top3_df[['feature_id','sequence','charge','feature_intensity']].to_dict('records')\n",
    "        top3_l.append({'protein':group_name, 'pmoles':pmoles, 'average_intensity':average_intensity, 'signal_response_factor':signal_response_factor, 'peptide_count':peptide_count, 'intensity_adjusted':intensity_adjusted, 'attribs_d':attribs_d})\n",
    "    else:\n",
    "        print('didn\\'t have three peptides for {}'.format(group_name))\n",
    "top3_with_df = pd.DataFrame(top3_l)"
   ]
  },
  {
   "cell_type": "code",
   "execution_count": 15,
   "metadata": {},
   "outputs": [
    {
     "data": {
      "text/plain": [
       "2319.0333333333333"
      ]
     },
     "execution_count": 15,
     "metadata": {},
     "output_type": "execute_result"
    }
   ],
   "source": [
    "# using Serum albumin (P02768) as an internal reference\n",
    "universal_signal_response_factor = top3_with_df[top3_with_df.protein.str.startswith('P02768')].iloc[0].signal_response_factor\n",
    "universal_signal_response_factor"
   ]
  },
  {
   "cell_type": "code",
   "execution_count": 16,
   "metadata": {},
   "outputs": [],
   "source": [
    "top3_with_df['calculated_pmoles'] = top3_with_df.average_intensity / universal_signal_response_factor"
   ]
  },
  {
   "cell_type": "code",
   "execution_count": 17,
   "metadata": {},
   "outputs": [
    {
     "data": {
      "text/plain": [
       "1.1493894200596158"
      ]
     },
     "execution_count": 17,
     "metadata": {},
     "output_type": "execute_result"
    }
   ],
   "source": [
    "# calculate the CV for the signal response factor\n",
    "cv = top3_with_df.signal_response_factor.std() / top3_with_df.signal_response_factor.mean()\n",
    "cv"
   ]
  },
  {
   "cell_type": "code",
   "execution_count": 18,
   "metadata": {},
   "outputs": [
    {
     "data": {
      "text/plain": [
       "'64.3% of proteins had at least one of their top-3 peptides adjusted for saturation'"
      ]
     },
     "execution_count": 18,
     "metadata": {},
     "output_type": "execute_result"
    }
   ],
   "source": [
    "'{}% of proteins had at least one of their top-3 peptides adjusted for saturation'.format(round(len(top3_with_df[(top3_with_df.intensity_adjusted == True)]) / len(top3_with_df) * 100,1))"
   ]
  },
  {
   "cell_type": "markdown",
   "metadata": {},
   "source": [
    "#### without correction"
   ]
  },
  {
   "cell_type": "code",
   "execution_count": 19,
   "metadata": {},
   "outputs": [
    {
     "name": "stdout",
     "output_type": "stream",
     "text": [
      "didn't have three peptides for P00167ups|CYB5_HUMAN_UPS\n",
      "didn't have three peptides for P00709ups|LALBA_HUMAN_UPS\n",
      "didn't have three peptides for P06732ups|KCRM_HUMAN_UPS\n",
      "didn't have three peptides for P62937ups|PPIA_HUMAN_UPS\n",
      "didn't have three peptides for P62988ups|UBIQ_HUMAN_UPS\n"
     ]
    }
   ],
   "source": [
    "# find the three most intense peptides for each protein\n",
    "top3_l = []\n",
    "for group_name,group_df in identifications_without_cs_df.groupby('protein id'):\n",
    "    df = group_df.sort_values(by=['feature_intensity'], ascending=False, inplace=False)\n",
    "    top3_df = df.head(n=3)\n",
    "    if len(top3_df) == 3:\n",
    "        uniprot_id = group_name.split('ups')[0]\n",
    "        pmoles = ups2_d[uniprot_id] / 1000\n",
    "        average_intensity = top3_df.feature_intensity.mean()\n",
    "        signal_response_factor = average_intensity / pmoles\n",
    "        peptide_count = len(df)\n",
    "        attribs_d = top3_df[['feature_id','sequence','charge','feature_intensity']].to_dict('records')\n",
    "        top3_l.append({'protein':group_name, 'pmoles':pmoles, 'average_intensity':average_intensity, 'signal_response_factor':signal_response_factor, 'peptide_count':peptide_count, 'attribs_d':attribs_d})\n",
    "    else:\n",
    "        print('didn\\'t have three peptides for {}'.format(group_name))\n",
    "top3_without_df = pd.DataFrame(top3_l)"
   ]
  },
  {
   "cell_type": "code",
   "execution_count": 20,
   "metadata": {},
   "outputs": [
    {
     "data": {
      "text/plain": [
       "1715.8933333333334"
      ]
     },
     "execution_count": 20,
     "metadata": {},
     "output_type": "execute_result"
    }
   ],
   "source": [
    "# using Serum albumin (P02768) as an internal reference\n",
    "universal_signal_response_factor = top3_without_df[top3_without_df.protein.str.startswith('P02768')].iloc[0].signal_response_factor\n",
    "universal_signal_response_factor"
   ]
  },
  {
   "cell_type": "code",
   "execution_count": 21,
   "metadata": {},
   "outputs": [],
   "source": [
    "top3_without_df['calculated_pmoles'] = top3_without_df.average_intensity / universal_signal_response_factor"
   ]
  },
  {
   "cell_type": "code",
   "execution_count": 22,
   "metadata": {},
   "outputs": [
    {
     "data": {
      "text/plain": [
       "1.1731338296562206"
      ]
     },
     "execution_count": 22,
     "metadata": {},
     "output_type": "execute_result"
    }
   ],
   "source": [
    "# calculate the CV for the signal response factor\n",
    "cv = top3_without_df.signal_response_factor.std() / top3_without_df.signal_response_factor.mean()\n",
    "cv"
   ]
  },
  {
   "cell_type": "markdown",
   "metadata": {},
   "source": [
    "#### calculate correlation"
   ]
  },
  {
   "cell_type": "code",
   "execution_count": 23,
   "metadata": {},
   "outputs": [],
   "source": [
    "combined_df = pd.merge(top3_with_df, top3_without_df, how='inner', left_on=['protein'], right_on=['protein'], suffixes=['_with','_without'])"
   ]
  },
  {
   "cell_type": "code",
   "execution_count": 24,
   "metadata": {},
   "outputs": [
    {
     "data": {
      "text/plain": [
       "14"
      ]
     },
     "execution_count": 24,
     "metadata": {},
     "output_type": "execute_result"
    }
   ],
   "source": [
    "len(combined_df)"
   ]
  },
  {
   "cell_type": "code",
   "execution_count": 25,
   "metadata": {},
   "outputs": [
    {
     "data": {
      "text/html": [
       "<div>\n",
       "<style scoped>\n",
       "    .dataframe tbody tr th:only-of-type {\n",
       "        vertical-align: middle;\n",
       "    }\n",
       "\n",
       "    .dataframe tbody tr th {\n",
       "        vertical-align: top;\n",
       "    }\n",
       "\n",
       "    .dataframe thead th {\n",
       "        text-align: right;\n",
       "    }\n",
       "</style>\n",
       "<table border=\"1\" class=\"dataframe\">\n",
       "  <thead>\n",
       "    <tr style=\"text-align: right;\">\n",
       "      <th></th>\n",
       "      <th>pmoles_with</th>\n",
       "      <th>average_intensity_with</th>\n",
       "      <th>average_intensity_without</th>\n",
       "      <th>calculated_pmoles_with</th>\n",
       "      <th>calculated_pmoles_without</th>\n",
       "    </tr>\n",
       "  </thead>\n",
       "  <tbody>\n",
       "    <tr>\n",
       "      <th>13</th>\n",
       "      <td>5.0</td>\n",
       "      <td>8234.333333</td>\n",
       "      <td>8234.333333</td>\n",
       "      <td>3.550761</td>\n",
       "      <td>4.798861</td>\n",
       "    </tr>\n",
       "    <tr>\n",
       "      <th>11</th>\n",
       "      <td>50.0</td>\n",
       "      <td>48142.000000</td>\n",
       "      <td>39346.000000</td>\n",
       "      <td>20.759512</td>\n",
       "      <td>22.930330</td>\n",
       "    </tr>\n",
       "    <tr>\n",
       "      <th>1</th>\n",
       "      <td>50.0</td>\n",
       "      <td>50845.666667</td>\n",
       "      <td>44935.333333</td>\n",
       "      <td>21.925371</td>\n",
       "      <td>26.187720</td>\n",
       "    </tr>\n",
       "    <tr>\n",
       "      <th>10</th>\n",
       "      <td>5.0</td>\n",
       "      <td>1740.000000</td>\n",
       "      <td>1740.000000</td>\n",
       "      <td>0.750313</td>\n",
       "      <td>1.014049</td>\n",
       "    </tr>\n",
       "    <tr>\n",
       "      <th>8</th>\n",
       "      <td>50.0</td>\n",
       "      <td>35351.333333</td>\n",
       "      <td>31006.666667</td>\n",
       "      <td>15.243995</td>\n",
       "      <td>18.070276</td>\n",
       "    </tr>\n",
       "    <tr>\n",
       "      <th>3</th>\n",
       "      <td>5.0</td>\n",
       "      <td>6118.000000</td>\n",
       "      <td>6118.000000</td>\n",
       "      <td>2.638168</td>\n",
       "      <td>3.565490</td>\n",
       "    </tr>\n",
       "    <tr>\n",
       "      <th>4</th>\n",
       "      <td>50.0</td>\n",
       "      <td>115951.666667</td>\n",
       "      <td>85794.666667</td>\n",
       "      <td>50.000000</td>\n",
       "      <td>50.000000</td>\n",
       "    </tr>\n",
       "    <tr>\n",
       "      <th>9</th>\n",
       "      <td>5.0</td>\n",
       "      <td>3289.000000</td>\n",
       "      <td>3289.000000</td>\n",
       "      <td>1.418263</td>\n",
       "      <td>1.916786</td>\n",
       "    </tr>\n",
       "    <tr>\n",
       "      <th>0</th>\n",
       "      <td>50.0</td>\n",
       "      <td>51605.000000</td>\n",
       "      <td>46840.000000</td>\n",
       "      <td>22.252806</td>\n",
       "      <td>27.297734</td>\n",
       "    </tr>\n",
       "    <tr>\n",
       "      <th>7</th>\n",
       "      <td>5.0</td>\n",
       "      <td>14905.666667</td>\n",
       "      <td>13049.333333</td>\n",
       "      <td>6.427534</td>\n",
       "      <td>7.604979</td>\n",
       "    </tr>\n",
       "  </tbody>\n",
       "</table>\n",
       "</div>"
      ],
      "text/plain": [
       "    pmoles_with  average_intensity_with  average_intensity_without  \\\n",
       "13          5.0             8234.333333                8234.333333   \n",
       "11         50.0            48142.000000               39346.000000   \n",
       "1          50.0            50845.666667               44935.333333   \n",
       "10          5.0             1740.000000                1740.000000   \n",
       "8          50.0            35351.333333               31006.666667   \n",
       "3           5.0             6118.000000                6118.000000   \n",
       "4          50.0           115951.666667               85794.666667   \n",
       "9           5.0             3289.000000                3289.000000   \n",
       "0          50.0            51605.000000               46840.000000   \n",
       "7           5.0            14905.666667               13049.333333   \n",
       "\n",
       "    calculated_pmoles_with  calculated_pmoles_without  \n",
       "13                3.550761                   4.798861  \n",
       "11               20.759512                  22.930330  \n",
       "1                21.925371                  26.187720  \n",
       "10                0.750313                   1.014049  \n",
       "8                15.243995                  18.070276  \n",
       "3                 2.638168                   3.565490  \n",
       "4                50.000000                  50.000000  \n",
       "9                 1.418263                   1.916786  \n",
       "0                22.252806                  27.297734  \n",
       "7                 6.427534                   7.604979  "
      ]
     },
     "execution_count": 25,
     "metadata": {},
     "output_type": "execute_result"
    }
   ],
   "source": [
    "combined_df[['pmoles_with','average_intensity_with','average_intensity_without','calculated_pmoles_with','calculated_pmoles_without']].sample(n=10)"
   ]
  },
  {
   "cell_type": "code",
   "execution_count": 26,
   "metadata": {},
   "outputs": [
    {
     "data": {
      "text/html": [
       "<div>\n",
       "<style scoped>\n",
       "    .dataframe tbody tr th:only-of-type {\n",
       "        vertical-align: middle;\n",
       "    }\n",
       "\n",
       "    .dataframe tbody tr th {\n",
       "        vertical-align: top;\n",
       "    }\n",
       "\n",
       "    .dataframe thead th {\n",
       "        text-align: right;\n",
       "    }\n",
       "</style>\n",
       "<table border=\"1\" class=\"dataframe\">\n",
       "  <thead>\n",
       "    <tr style=\"text-align: right;\">\n",
       "      <th></th>\n",
       "      <th>protein</th>\n",
       "      <th>pmoles_with</th>\n",
       "      <th>average_intensity_with</th>\n",
       "      <th>signal_response_factor_with</th>\n",
       "      <th>peptide_count_with</th>\n",
       "      <th>intensity_adjusted</th>\n",
       "      <th>attribs_d_with</th>\n",
       "      <th>calculated_pmoles_with</th>\n",
       "      <th>pmoles_without</th>\n",
       "      <th>average_intensity_without</th>\n",
       "      <th>signal_response_factor_without</th>\n",
       "      <th>peptide_count_without</th>\n",
       "      <th>attribs_d_without</th>\n",
       "      <th>calculated_pmoles_without</th>\n",
       "    </tr>\n",
       "  </thead>\n",
       "  <tbody>\n",
       "    <tr>\n",
       "      <th>4</th>\n",
       "      <td>P02768ups|ALBU_HUMAN_UPS</td>\n",
       "      <td>50.0</td>\n",
       "      <td>115951.666667</td>\n",
       "      <td>2319.033333</td>\n",
       "      <td>129</td>\n",
       "      <td>True</td>\n",
       "      <td>[{'feature_id': 4736101, 'sequence': 'MPCAEDYL...</td>\n",
       "      <td>50.0</td>\n",
       "      <td>50.0</td>\n",
       "      <td>85794.666667</td>\n",
       "      <td>1715.893333</td>\n",
       "      <td>127</td>\n",
       "      <td>[{'feature_id': 4736101, 'sequence': 'MPCAEDYL...</td>\n",
       "      <td>50.0</td>\n",
       "    </tr>\n",
       "  </tbody>\n",
       "</table>\n",
       "</div>"
      ],
      "text/plain": [
       "                    protein  pmoles_with  average_intensity_with  \\\n",
       "4  P02768ups|ALBU_HUMAN_UPS         50.0           115951.666667   \n",
       "\n",
       "   signal_response_factor_with  peptide_count_with  intensity_adjusted  \\\n",
       "4                  2319.033333                 129                True   \n",
       "\n",
       "                                      attribs_d_with  calculated_pmoles_with  \\\n",
       "4  [{'feature_id': 4736101, 'sequence': 'MPCAEDYL...                    50.0   \n",
       "\n",
       "   pmoles_without  average_intensity_without  signal_response_factor_without  \\\n",
       "4            50.0               85794.666667                     1715.893333   \n",
       "\n",
       "   peptide_count_without                                  attribs_d_without  \\\n",
       "4                    127  [{'feature_id': 4736101, 'sequence': 'MPCAEDYL...   \n",
       "\n",
       "   calculated_pmoles_without  \n",
       "4                       50.0  "
      ]
     },
     "execution_count": 26,
     "metadata": {},
     "output_type": "execute_result"
    }
   ],
   "source": [
    "combined_df[combined_df.protein.str.startswith('P02768')]"
   ]
  },
  {
   "cell_type": "code",
   "execution_count": 28,
   "metadata": {},
   "outputs": [],
   "source": [
    "universal_signal_response_factor_with = combined_df[combined_df.protein.str.startswith('P15559')].iloc[0].signal_response_factor_with\n",
    "universal_signal_response_factor_without = combined_df[combined_df.protein.str.startswith('P15559')].iloc[0].signal_response_factor_without"
   ]
  },
  {
   "cell_type": "code",
   "execution_count": 29,
   "metadata": {},
   "outputs": [],
   "source": [
    "combined_df['calculated_pmoles_with'] = combined_df.average_intensity_with / universal_signal_response_factor_with\n",
    "combined_df['calculated_pmoles_without'] = combined_df.average_intensity_without / universal_signal_response_factor_without"
   ]
  },
  {
   "cell_type": "code",
   "execution_count": 30,
   "metadata": {},
   "outputs": [
    {
     "data": {
      "text/plain": [
       "0.6753453132806627"
      ]
     },
     "execution_count": 30,
     "metadata": {},
     "output_type": "execute_result"
    }
   ],
   "source": [
    "combined_df['pmoles_with'].corr(combined_df['calculated_pmoles_with'])"
   ]
  },
  {
   "cell_type": "code",
   "execution_count": 31,
   "metadata": {},
   "outputs": [
    {
     "data": {
      "text/plain": [
       "0.6865460617111798"
      ]
     },
     "execution_count": 31,
     "metadata": {},
     "output_type": "execute_result"
    }
   ],
   "source": [
    "combined_df['pmoles_without'].corr(combined_df['calculated_pmoles_without'])"
   ]
  },
  {
   "cell_type": "markdown",
   "metadata": {},
   "source": [
    "### analyse UPS1"
   ]
  },
  {
   "cell_type": "markdown",
   "metadata": {},
   "source": [
    "#### identifications with correction for saturation"
   ]
  },
  {
   "cell_type": "code",
   "execution_count": 37,
   "metadata": {},
   "outputs": [],
   "source": [
    "IDENTIFICATIONS_UPS1_WITH_CS_DIR = '{}/results-P3830/P3830-results-cs-true-fmdw-false-2021-05-24-23-44-18/identifications-pasef'.format(BASE_RESULTS_DIR)\n",
    "IDENTIFICATIONS_UPS1_WITH_CS_FILE = '{}/exp-{}-identifications-{}-recalibrated.pkl'.format(IDENTIFICATIONS_UPS1_WITH_CS_DIR, experiment_name, feature_detection_method)"
   ]
  },
  {
   "cell_type": "code",
   "execution_count": 38,
   "metadata": {},
   "outputs": [],
   "source": [
    "# load the identifications\n",
    "with open(IDENTIFICATIONS_UPS1_WITH_CS_FILE, 'rb') as handle:\n",
    "    d = pickle.load(handle)\n",
    "identifications_UPS1_with_cs_df = d['identifications_df']\n",
    "identifications_UPS1_with_cs_df = identifications_UPS1_with_cs_df[(identifications_UPS1_with_cs_df['percolator q-value'] <= MAXIMUM_Q_VALUE) & (~identifications_UPS1_with_cs_df['protein id'].str.contains('YEAST'))]"
   ]
  },
  {
   "cell_type": "code",
   "execution_count": 39,
   "metadata": {},
   "outputs": [
    {
     "data": {
      "text/html": [
       "<div>\n",
       "<style scoped>\n",
       "    .dataframe tbody tr th:only-of-type {\n",
       "        vertical-align: middle;\n",
       "    }\n",
       "\n",
       "    .dataframe tbody tr th {\n",
       "        vertical-align: top;\n",
       "    }\n",
       "\n",
       "    .dataframe thead th {\n",
       "        text-align: right;\n",
       "    }\n",
       "</style>\n",
       "<table border=\"1\" class=\"dataframe\">\n",
       "  <thead>\n",
       "    <tr style=\"text-align: right;\">\n",
       "      <th></th>\n",
       "      <th>counts</th>\n",
       "      <th>%</th>\n",
       "    </tr>\n",
       "  </thead>\n",
       "  <tbody>\n",
       "    <tr>\n",
       "      <th>monoisotopic_not_saturated</th>\n",
       "      <td>338</td>\n",
       "      <td>92.1</td>\n",
       "    </tr>\n",
       "    <tr>\n",
       "      <th>monoisotopic_saturated_adjusted</th>\n",
       "      <td>29</td>\n",
       "      <td>7.9</td>\n",
       "    </tr>\n",
       "  </tbody>\n",
       "</table>\n",
       "</div>"
      ],
      "text/plain": [
       "                                 counts     %\n",
       "monoisotopic_not_saturated          338  92.1\n",
       "monoisotopic_saturated_adjusted      29   7.9"
      ]
     },
     "execution_count": 39,
     "metadata": {},
     "output_type": "execute_result"
    }
   ],
   "source": [
    "s1 = identifications_UPS1_with_cs_df.mono_intensity_adjustment_outcome.value_counts(normalize=False).rename('counts', inplace=True)\n",
    "s2 = round(identifications_UPS1_with_cs_df.mono_intensity_adjustment_outcome.value_counts(normalize=True)*100,1).rename('%', inplace=True)\n",
    "pd.concat([s1, s2], axis=1)"
   ]
  },
  {
   "cell_type": "code",
   "execution_count": 40,
   "metadata": {},
   "outputs": [
    {
     "name": "stdout",
     "output_type": "stream",
     "text": [
      "number of unique proteins: 46\n"
     ]
    }
   ],
   "source": [
    "print('number of unique proteins: {}'.format(len(identifications_UPS1_with_cs_df['protein id'].unique())))"
   ]
  },
  {
   "cell_type": "markdown",
   "metadata": {},
   "source": [
    "#### identifications without correction for saturation"
   ]
  },
  {
   "cell_type": "code",
   "execution_count": 41,
   "metadata": {},
   "outputs": [],
   "source": [
    "IDENTIFICATIONS_UPS1_WITHOUT_CS_DIR = '{}/results-P3830/P3830-results-cs-false-fmdw-false-2021-05-25-04-07-05/identifications-pasef'.format(BASE_RESULTS_DIR)\n",
    "IDENTIFICATIONS_UPS1_WITHOUT_CS_FILE = '{}/exp-{}-identifications-{}-recalibrated.pkl'.format(IDENTIFICATIONS_UPS1_WITHOUT_CS_DIR, experiment_name, feature_detection_method)"
   ]
  },
  {
   "cell_type": "code",
   "execution_count": 42,
   "metadata": {},
   "outputs": [],
   "source": [
    "# load the identifications\n",
    "with open(IDENTIFICATIONS_UPS1_WITHOUT_CS_FILE, 'rb') as handle:\n",
    "    d = pickle.load(handle)\n",
    "identifications_UPS1_without_cs_df = d['identifications_df']\n",
    "identifications_UPS1_without_cs_df = identifications_UPS1_without_cs_df[(identifications_UPS1_without_cs_df['percolator q-value'] <= MAXIMUM_Q_VALUE) & (~identifications_UPS1_without_cs_df['protein id'].str.contains('YEAST'))]"
   ]
  },
  {
   "cell_type": "code",
   "execution_count": 43,
   "metadata": {},
   "outputs": [
    {
     "data": {
      "text/html": [
       "<div>\n",
       "<style scoped>\n",
       "    .dataframe tbody tr th:only-of-type {\n",
       "        vertical-align: middle;\n",
       "    }\n",
       "\n",
       "    .dataframe tbody tr th {\n",
       "        vertical-align: top;\n",
       "    }\n",
       "\n",
       "    .dataframe thead th {\n",
       "        text-align: right;\n",
       "    }\n",
       "</style>\n",
       "<table border=\"1\" class=\"dataframe\">\n",
       "  <thead>\n",
       "    <tr style=\"text-align: right;\">\n",
       "      <th></th>\n",
       "      <th>counts</th>\n",
       "      <th>%</th>\n",
       "    </tr>\n",
       "  </thead>\n",
       "  <tbody>\n",
       "    <tr>\n",
       "      <th>monoisotopic_not_saturated</th>\n",
       "      <td>339</td>\n",
       "      <td>92.1</td>\n",
       "    </tr>\n",
       "    <tr>\n",
       "      <th>monoisotopic_saturated_adjusted</th>\n",
       "      <td>29</td>\n",
       "      <td>7.9</td>\n",
       "    </tr>\n",
       "  </tbody>\n",
       "</table>\n",
       "</div>"
      ],
      "text/plain": [
       "                                 counts     %\n",
       "monoisotopic_not_saturated          339  92.1\n",
       "monoisotopic_saturated_adjusted      29   7.9"
      ]
     },
     "execution_count": 43,
     "metadata": {},
     "output_type": "execute_result"
    }
   ],
   "source": [
    "s1 = identifications_UPS1_without_cs_df.mono_intensity_adjustment_outcome.value_counts(normalize=False).rename('counts', inplace=True)\n",
    "s2 = round(identifications_UPS1_without_cs_df.mono_intensity_adjustment_outcome.value_counts(normalize=True)*100,1).rename('%', inplace=True)\n",
    "pd.concat([s1, s2], axis=1)"
   ]
  },
  {
   "cell_type": "code",
   "execution_count": 44,
   "metadata": {},
   "outputs": [
    {
     "name": "stdout",
     "output_type": "stream",
     "text": [
      "number of unique proteins: 46\n"
     ]
    }
   ],
   "source": [
    "print('number of unique proteins: {}'.format(len(identifications_UPS1_without_cs_df['protein id'].unique())))"
   ]
  },
  {
   "cell_type": "markdown",
   "metadata": {},
   "source": [
    "### relative abundance of proteins found in common between UPS1 and UPS2"
   ]
  },
  {
   "cell_type": "markdown",
   "metadata": {},
   "source": [
    "#### with correction"
   ]
  },
  {
   "cell_type": "code",
   "execution_count": 45,
   "metadata": {},
   "outputs": [
    {
     "data": {
      "text/plain": [
       "array(['P02768ups|ALBU_HUMAN_UPS', 'P00441ups|SODC_HUMAN_UPS',\n",
       "       'P10636-8ups|TAU_HUMAN_UPS', 'P02787ups|TRFE_HUMAN_UPS',\n",
       "       'P08758ups|ANXA5_HUMAN_UPS', 'P00918ups|CAH2_HUMAN_UPS',\n",
       "       'P01031ups|CO5_HUMAN_UPS', 'Q06830ups|PRDX1_HUMAN_UPS',\n",
       "       'P06396ups|GELS_HUMAN_UPS', 'O76070ups|SYUG_HUMAN_UPS',\n",
       "       'P04040ups|CATA_HUMAN_UPS', 'P02788ups|TRFL_HUMAN_UPS',\n",
       "       'P10145ups|IL8_HUMAN_UPS', 'Q15843ups|NEDD8_HUMAN_UPS',\n",
       "       'P01008ups|ANT3_HUMAN_UPS', 'P12081ups|SYHC_HUMAN_UPS',\n",
       "       'P00167ups|CYB5_HUMAN_UPS', 'P00709ups|LALBA_HUMAN_UPS',\n",
       "       'P55957ups|BID_HUMAN_UPS', 'P06732ups|KCRM_HUMAN_UPS',\n",
       "       'P68871ups|HBB_HUMAN_UPS', 'P00915ups|CAH1_HUMAN_UPS',\n",
       "       'O00762ups|UBE2C_HUMAN_UPS', 'P41159ups|LEP_HUMAN_UPS',\n",
       "       'P09211ups|GSTP1_HUMAN_UPS', 'P05413ups|FABPH_HUMAN_UPS',\n",
       "       'P02144ups|MYG_HUMAN_UPS', 'P15559ups|NQO1_HUMAN_UPS',\n",
       "       'P08263ups|GSTA1_HUMAN_UPS', 'P16083ups|NQO2_HUMAN_UPS',\n",
       "       'P99999ups|CYC_HUMAN_UPS', 'P61769ups|B2MG_HUMAN_UPS',\n",
       "       'P01112ups|RASH_HUMAN_UPS', 'P01579ups|IFNG_HUMAN_UPS',\n",
       "       'P02741ups|CRP_HUMAN_UPS', 'P62988ups|UBIQ_HUMAN_UPS',\n",
       "       'P01375ups|TNFA_HUMAN_UPS', 'P69905ups|HBA_HUMAN_UPS',\n",
       "       'P01127ups|PDGFB_HUMAN_UPS', 'P63279ups|UBC9_HUMAN_UPS',\n",
       "       'P51965ups|UB2E1_HUMAN_UPS', 'P02753ups|RETBP_HUMAN_UPS',\n",
       "       'P01344ups|IGF2_HUMAN_UPS',\n",
       "       'P62937ups|PPIA_HUMAN_UPS,P62988ups|UBIQ_HUMAN_UPS,O76070ups|SYUG_HUMAN_UPS',\n",
       "       'P63165ups|SUMO1_HUMAN_UPS', 'P62937ups|PPIA_HUMAN_UPS'],\n",
       "      dtype=object)"
      ]
     },
     "execution_count": 45,
     "metadata": {},
     "output_type": "execute_result"
    }
   ],
   "source": [
    "identifications_UPS1_with_cs_df['protein id'].unique()"
   ]
  },
  {
   "cell_type": "code",
   "execution_count": 46,
   "metadata": {},
   "outputs": [
    {
     "name": "stdout",
     "output_type": "stream",
     "text": [
      "didn't have three peptides for P01344ups|IGF2_HUMAN_UPS\n",
      "didn't have three peptides for P01375ups|TNFA_HUMAN_UPS\n",
      "didn't have three peptides for P02741ups|CRP_HUMAN_UPS\n",
      "didn't have three peptides for P08263ups|GSTA1_HUMAN_UPS\n",
      "didn't have three peptides for P10145ups|IL8_HUMAN_UPS\n",
      "didn't have three peptides for P15559ups|NQO1_HUMAN_UPS\n",
      "didn't have three peptides for P51965ups|UB2E1_HUMAN_UPS\n",
      "didn't have three peptides for P61769ups|B2MG_HUMAN_UPS\n",
      "didn't have three peptides for P62937ups|PPIA_HUMAN_UPS\n",
      "didn't have three peptides for P62937ups|PPIA_HUMAN_UPS,P62988ups|UBIQ_HUMAN_UPS,O76070ups|SYUG_HUMAN_UPS\n",
      "didn't have three peptides for P62988ups|UBIQ_HUMAN_UPS\n",
      "didn't have three peptides for P63279ups|UBC9_HUMAN_UPS\n",
      "didn't have three peptides for P69905ups|HBA_HUMAN_UPS\n",
      "didn't have three peptides for Q15843ups|NEDD8_HUMAN_UPS\n"
     ]
    }
   ],
   "source": [
    "# find the three most intense peptides for each protein\n",
    "top3_l = []\n",
    "for group_name,group_df in identifications_UPS1_with_cs_df.groupby('protein id'):\n",
    "    df = group_df.sort_values(by=['feature_intensity'], ascending=False, inplace=False)\n",
    "    top3_df = df.head(n=3)\n",
    "    if len(top3_df) == 3:\n",
    "        uniprot_id = group_name.split('ups')[0]\n",
    "        pmoles = ups2_d[uniprot_id] / 1000\n",
    "        average_intensity = top3_df.feature_intensity.mean()\n",
    "        signal_response_factor = average_intensity / pmoles\n",
    "        peptide_count = len(df)\n",
    "        intensity_adjusted = 'monoisotopic_saturated_adjusted' in list(top3_df.mono_intensity_adjustment_outcome)\n",
    "        attribs_d = top3_df[['feature_id','sequence','charge','feature_intensity']].to_dict('records')\n",
    "        top3_l.append({'protein':group_name, 'pmoles':pmoles, 'average_intensity':average_intensity, 'signal_response_factor':signal_response_factor, 'peptide_count':peptide_count, 'intensity_adjusted':intensity_adjusted, 'attribs_d':attribs_d})\n",
    "    else:\n",
    "        print('didn\\'t have three peptides for {}'.format(group_name))\n",
    "top3_UPS1_with_df = pd.DataFrame(top3_l)"
   ]
  },
  {
   "cell_type": "code",
   "execution_count": 47,
   "metadata": {},
   "outputs": [
    {
     "data": {
      "text/plain": [
       "1119.18"
      ]
     },
     "execution_count": 47,
     "metadata": {},
     "output_type": "execute_result"
    }
   ],
   "source": [
    "# using Serum albumin (P02768) as an internal reference\n",
    "universal_signal_response_factor = top3_UPS1_with_df[top3_UPS1_with_df.protein.str.startswith('P02768')].iloc[0].signal_response_factor\n",
    "universal_signal_response_factor"
   ]
  },
  {
   "cell_type": "code",
   "execution_count": 48,
   "metadata": {},
   "outputs": [],
   "source": [
    "top3_UPS1_with_df['calculated_pmoles'] = top3_UPS1_with_df.average_intensity / universal_signal_response_factor"
   ]
  },
  {
   "cell_type": "code",
   "execution_count": 49,
   "metadata": {},
   "outputs": [
    {
     "data": {
      "text/plain": [
       "2.3555760100692424"
      ]
     },
     "execution_count": 49,
     "metadata": {},
     "output_type": "execute_result"
    }
   ],
   "source": [
    "# calculate the CV for the signal response factor\n",
    "cv = top3_UPS1_with_df.signal_response_factor.std() / top3_UPS1_with_df.signal_response_factor.mean()\n",
    "cv"
   ]
  },
  {
   "cell_type": "code",
   "execution_count": 50,
   "metadata": {},
   "outputs": [
    {
     "data": {
      "text/plain": [
       "'53.1% of proteins had at least one of their top-3 peptides adjusted for saturation'"
      ]
     },
     "execution_count": 50,
     "metadata": {},
     "output_type": "execute_result"
    }
   ],
   "source": [
    "'{}% of proteins had at least one of their top-3 peptides adjusted for saturation'.format(round(len(top3_UPS1_with_df[(top3_UPS1_with_df.intensity_adjusted == True)]) / len(top3_UPS1_with_df) * 100,1))"
   ]
  },
  {
   "cell_type": "markdown",
   "metadata": {},
   "source": [
    "#### without correction"
   ]
  },
  {
   "cell_type": "code",
   "execution_count": 51,
   "metadata": {},
   "outputs": [
    {
     "name": "stdout",
     "output_type": "stream",
     "text": [
      "didn't have three peptides for P01344ups|IGF2_HUMAN_UPS\n",
      "didn't have three peptides for P01375ups|TNFA_HUMAN_UPS\n",
      "didn't have three peptides for P02741ups|CRP_HUMAN_UPS\n",
      "didn't have three peptides for P08263ups|GSTA1_HUMAN_UPS\n",
      "didn't have three peptides for P10145ups|IL8_HUMAN_UPS\n",
      "didn't have three peptides for P15559ups|NQO1_HUMAN_UPS\n",
      "didn't have three peptides for P51965ups|UB2E1_HUMAN_UPS\n",
      "didn't have three peptides for P61769ups|B2MG_HUMAN_UPS\n",
      "didn't have three peptides for P62937ups|PPIA_HUMAN_UPS\n",
      "didn't have three peptides for P62937ups|PPIA_HUMAN_UPS,P62988ups|UBIQ_HUMAN_UPS,O76070ups|SYUG_HUMAN_UPS\n",
      "didn't have three peptides for P62988ups|UBIQ_HUMAN_UPS\n",
      "didn't have three peptides for P63279ups|UBC9_HUMAN_UPS\n",
      "didn't have three peptides for P69905ups|HBA_HUMAN_UPS\n",
      "didn't have three peptides for Q15843ups|NEDD8_HUMAN_UPS\n"
     ]
    }
   ],
   "source": [
    "# find the three most intense peptides for each protein\n",
    "top3_l = []\n",
    "for group_name,group_df in identifications_UPS1_without_cs_df.groupby('protein id'):\n",
    "    df = group_df.sort_values(by=['feature_intensity'], ascending=False, inplace=False)\n",
    "    top3_df = df.head(n=3)\n",
    "    if len(top3_df) == 3:\n",
    "        uniprot_id = group_name.split('ups')[0]\n",
    "        pmoles = ups2_d[uniprot_id] / 1000\n",
    "        average_intensity = top3_df.feature_intensity.mean()\n",
    "        signal_response_factor = average_intensity / pmoles\n",
    "        peptide_count = len(df)\n",
    "        attribs_d = top3_df[['feature_id','sequence','charge','feature_intensity']].to_dict('records')\n",
    "        top3_l.append({'protein':group_name, 'pmoles':pmoles, 'average_intensity':average_intensity, 'signal_response_factor':signal_response_factor, 'peptide_count':peptide_count, 'attribs_d':attribs_d})\n",
    "    else:\n",
    "        print('didn\\'t have three peptides for {}'.format(group_name))\n",
    "top3_UPS1_without_df = pd.DataFrame(top3_l)"
   ]
  },
  {
   "cell_type": "code",
   "execution_count": 52,
   "metadata": {},
   "outputs": [
    {
     "data": {
      "text/plain": [
       "775.5866666666667"
      ]
     },
     "execution_count": 52,
     "metadata": {},
     "output_type": "execute_result"
    }
   ],
   "source": [
    "# using Serum albumin (P02768) as an internal reference\n",
    "universal_signal_response_factor = top3_UPS1_without_df[top3_UPS1_without_df.protein.str.startswith('P02768')].iloc[0].signal_response_factor\n",
    "universal_signal_response_factor"
   ]
  },
  {
   "cell_type": "code",
   "execution_count": 53,
   "metadata": {},
   "outputs": [],
   "source": [
    "top3_UPS1_without_df['calculated_pmoles'] = top3_UPS1_without_df.average_intensity / universal_signal_response_factor"
   ]
  },
  {
   "cell_type": "code",
   "execution_count": 54,
   "metadata": {},
   "outputs": [
    {
     "data": {
      "text/plain": [
       "2.3819505131315406"
      ]
     },
     "execution_count": 54,
     "metadata": {},
     "output_type": "execute_result"
    }
   ],
   "source": [
    "# calculate the CV for the signal response factor\n",
    "cv = top3_UPS1_without_df.signal_response_factor.std() / top3_UPS1_without_df.signal_response_factor.mean()\n",
    "cv"
   ]
  },
  {
   "cell_type": "markdown",
   "metadata": {},
   "source": [
    "#### calculate correlation"
   ]
  },
  {
   "cell_type": "code",
   "execution_count": 55,
   "metadata": {},
   "outputs": [],
   "source": [
    "combined_UPS1_df = pd.merge(top3_UPS1_with_df, top3_UPS1_without_df, how='inner', left_on=['protein'], right_on=['protein'], suffixes=['_with','_without'])"
   ]
  },
  {
   "cell_type": "code",
   "execution_count": 56,
   "metadata": {},
   "outputs": [
    {
     "data": {
      "text/plain": [
       "32"
      ]
     },
     "execution_count": 56,
     "metadata": {},
     "output_type": "execute_result"
    }
   ],
   "source": [
    "len(combined_UPS1_df)"
   ]
  },
  {
   "cell_type": "code",
   "execution_count": 57,
   "metadata": {},
   "outputs": [
    {
     "data": {
      "text/html": [
       "<div>\n",
       "<style scoped>\n",
       "    .dataframe tbody tr th:only-of-type {\n",
       "        vertical-align: middle;\n",
       "    }\n",
       "\n",
       "    .dataframe tbody tr th {\n",
       "        vertical-align: top;\n",
       "    }\n",
       "\n",
       "    .dataframe thead th {\n",
       "        text-align: right;\n",
       "    }\n",
       "</style>\n",
       "<table border=\"1\" class=\"dataframe\">\n",
       "  <thead>\n",
       "    <tr style=\"text-align: right;\">\n",
       "      <th></th>\n",
       "      <th>pmoles_with</th>\n",
       "      <th>average_intensity_with</th>\n",
       "      <th>average_intensity_without</th>\n",
       "      <th>calculated_pmoles_with</th>\n",
       "      <th>calculated_pmoles_without</th>\n",
       "    </tr>\n",
       "  </thead>\n",
       "  <tbody>\n",
       "    <tr>\n",
       "      <th>12</th>\n",
       "      <td>5.0000</td>\n",
       "      <td>8067.666667</td>\n",
       "      <td>8067.666667</td>\n",
       "      <td>7.208551</td>\n",
       "      <td>10.402018</td>\n",
       "    </tr>\n",
       "    <tr>\n",
       "      <th>18</th>\n",
       "      <td>0.0005</td>\n",
       "      <td>8732.000000</td>\n",
       "      <td>8732.000000</td>\n",
       "      <td>7.802141</td>\n",
       "      <td>11.258574</td>\n",
       "    </tr>\n",
       "    <tr>\n",
       "      <th>9</th>\n",
       "      <td>0.0050</td>\n",
       "      <td>4801.000000</td>\n",
       "      <td>4801.000000</td>\n",
       "      <td>4.289748</td>\n",
       "      <td>6.190153</td>\n",
       "    </tr>\n",
       "    <tr>\n",
       "      <th>17</th>\n",
       "      <td>5.0000</td>\n",
       "      <td>48598.000000</td>\n",
       "      <td>42211.333333</td>\n",
       "      <td>43.422863</td>\n",
       "      <td>54.425037</td>\n",
       "    </tr>\n",
       "    <tr>\n",
       "      <th>3</th>\n",
       "      <td>0.0005</td>\n",
       "      <td>29713.333333</td>\n",
       "      <td>29713.333333</td>\n",
       "      <td>26.549200</td>\n",
       "      <td>38.310784</td>\n",
       "    </tr>\n",
       "    <tr>\n",
       "      <th>25</th>\n",
       "      <td>0.5000</td>\n",
       "      <td>5469.666667</td>\n",
       "      <td>5469.666667</td>\n",
       "      <td>4.887209</td>\n",
       "      <td>7.052296</td>\n",
       "    </tr>\n",
       "    <tr>\n",
       "      <th>4</th>\n",
       "      <td>0.5000</td>\n",
       "      <td>9668.000000</td>\n",
       "      <td>9668.000000</td>\n",
       "      <td>8.638467</td>\n",
       "      <td>12.465403</td>\n",
       "    </tr>\n",
       "    <tr>\n",
       "      <th>14</th>\n",
       "      <td>50.0000</td>\n",
       "      <td>55959.000000</td>\n",
       "      <td>38779.333333</td>\n",
       "      <td>50.000000</td>\n",
       "      <td>50.000000</td>\n",
       "    </tr>\n",
       "    <tr>\n",
       "      <th>20</th>\n",
       "      <td>0.5000</td>\n",
       "      <td>13709.000000</td>\n",
       "      <td>13709.000000</td>\n",
       "      <td>12.249147</td>\n",
       "      <td>17.675652</td>\n",
       "    </tr>\n",
       "    <tr>\n",
       "      <th>30</th>\n",
       "      <td>0.0050</td>\n",
       "      <td>5499.000000</td>\n",
       "      <td>5499.000000</td>\n",
       "      <td>4.913419</td>\n",
       "      <td>7.090117</td>\n",
       "    </tr>\n",
       "  </tbody>\n",
       "</table>\n",
       "</div>"
      ],
      "text/plain": [
       "    pmoles_with  average_intensity_with  average_intensity_without  \\\n",
       "12       5.0000             8067.666667                8067.666667   \n",
       "18       0.0005             8732.000000                8732.000000   \n",
       "9        0.0050             4801.000000                4801.000000   \n",
       "17       5.0000            48598.000000               42211.333333   \n",
       "3        0.0005            29713.333333               29713.333333   \n",
       "25       0.5000             5469.666667                5469.666667   \n",
       "4        0.5000             9668.000000                9668.000000   \n",
       "14      50.0000            55959.000000               38779.333333   \n",
       "20       0.5000            13709.000000               13709.000000   \n",
       "30       0.0050             5499.000000                5499.000000   \n",
       "\n",
       "    calculated_pmoles_with  calculated_pmoles_without  \n",
       "12                7.208551                  10.402018  \n",
       "18                7.802141                  11.258574  \n",
       "9                 4.289748                   6.190153  \n",
       "17               43.422863                  54.425037  \n",
       "3                26.549200                  38.310784  \n",
       "25                4.887209                   7.052296  \n",
       "4                 8.638467                  12.465403  \n",
       "14               50.000000                  50.000000  \n",
       "20               12.249147                  17.675652  \n",
       "30                4.913419                   7.090117  "
      ]
     },
     "execution_count": 57,
     "metadata": {},
     "output_type": "execute_result"
    }
   ],
   "source": [
    "combined_UPS1_df[['pmoles_with','average_intensity_with','average_intensity_without','calculated_pmoles_with','calculated_pmoles_without']].sample(n=10)"
   ]
  },
  {
   "cell_type": "code",
   "execution_count": 58,
   "metadata": {},
   "outputs": [
    {
     "data": {
      "text/html": [
       "<div>\n",
       "<style scoped>\n",
       "    .dataframe tbody tr th:only-of-type {\n",
       "        vertical-align: middle;\n",
       "    }\n",
       "\n",
       "    .dataframe tbody tr th {\n",
       "        vertical-align: top;\n",
       "    }\n",
       "\n",
       "    .dataframe thead th {\n",
       "        text-align: right;\n",
       "    }\n",
       "</style>\n",
       "<table border=\"1\" class=\"dataframe\">\n",
       "  <thead>\n",
       "    <tr style=\"text-align: right;\">\n",
       "      <th></th>\n",
       "      <th>protein</th>\n",
       "      <th>pmoles_with</th>\n",
       "      <th>average_intensity_with</th>\n",
       "      <th>signal_response_factor_with</th>\n",
       "      <th>peptide_count_with</th>\n",
       "      <th>intensity_adjusted</th>\n",
       "      <th>attribs_d_with</th>\n",
       "      <th>calculated_pmoles_with</th>\n",
       "      <th>pmoles_without</th>\n",
       "      <th>average_intensity_without</th>\n",
       "      <th>signal_response_factor_without</th>\n",
       "      <th>peptide_count_without</th>\n",
       "      <th>attribs_d_without</th>\n",
       "      <th>calculated_pmoles_without</th>\n",
       "    </tr>\n",
       "  </thead>\n",
       "  <tbody>\n",
       "    <tr>\n",
       "      <th>14</th>\n",
       "      <td>P02768ups|ALBU_HUMAN_UPS</td>\n",
       "      <td>50.0</td>\n",
       "      <td>55959.0</td>\n",
       "      <td>1119.18</td>\n",
       "      <td>47</td>\n",
       "      <td>True</td>\n",
       "      <td>[{'feature_id': 5142901, 'sequence': 'MPCAEDYL...</td>\n",
       "      <td>50.0</td>\n",
       "      <td>50.0</td>\n",
       "      <td>38779.333333</td>\n",
       "      <td>775.586667</td>\n",
       "      <td>48</td>\n",
       "      <td>[{'feature_id': 5142901, 'sequence': 'MPCAEDYL...</td>\n",
       "      <td>50.0</td>\n",
       "    </tr>\n",
       "  </tbody>\n",
       "</table>\n",
       "</div>"
      ],
      "text/plain": [
       "                     protein  pmoles_with  average_intensity_with  \\\n",
       "14  P02768ups|ALBU_HUMAN_UPS         50.0                 55959.0   \n",
       "\n",
       "    signal_response_factor_with  peptide_count_with  intensity_adjusted  \\\n",
       "14                      1119.18                  47                True   \n",
       "\n",
       "                                       attribs_d_with  calculated_pmoles_with  \\\n",
       "14  [{'feature_id': 5142901, 'sequence': 'MPCAEDYL...                    50.0   \n",
       "\n",
       "    pmoles_without  average_intensity_without  signal_response_factor_without  \\\n",
       "14            50.0               38779.333333                      775.586667   \n",
       "\n",
       "    peptide_count_without                                  attribs_d_without  \\\n",
       "14                     48  [{'feature_id': 5142901, 'sequence': 'MPCAEDYL...   \n",
       "\n",
       "    calculated_pmoles_without  \n",
       "14                       50.0  "
      ]
     },
     "execution_count": 58,
     "metadata": {},
     "output_type": "execute_result"
    }
   ],
   "source": [
    "combined_UPS1_df[combined_UPS1_df.protein.str.startswith('P02768')]"
   ]
  },
  {
   "cell_type": "code",
   "execution_count": 59,
   "metadata": {
    "scrolled": true
   },
   "outputs": [
    {
     "data": {
      "text/html": [
       "<div>\n",
       "<style scoped>\n",
       "    .dataframe tbody tr th:only-of-type {\n",
       "        vertical-align: middle;\n",
       "    }\n",
       "\n",
       "    .dataframe tbody tr th {\n",
       "        vertical-align: top;\n",
       "    }\n",
       "\n",
       "    .dataframe thead th {\n",
       "        text-align: right;\n",
       "    }\n",
       "</style>\n",
       "<table border=\"1\" class=\"dataframe\">\n",
       "  <thead>\n",
       "    <tr style=\"text-align: right;\">\n",
       "      <th></th>\n",
       "      <th>protein</th>\n",
       "      <th>pmoles_with</th>\n",
       "      <th>average_intensity_with</th>\n",
       "      <th>signal_response_factor_with</th>\n",
       "      <th>peptide_count_with</th>\n",
       "      <th>intensity_adjusted</th>\n",
       "      <th>attribs_d_with</th>\n",
       "      <th>calculated_pmoles_with</th>\n",
       "      <th>pmoles_without</th>\n",
       "      <th>average_intensity_without</th>\n",
       "      <th>signal_response_factor_without</th>\n",
       "      <th>peptide_count_without</th>\n",
       "      <th>attribs_d_without</th>\n",
       "      <th>calculated_pmoles_without</th>\n",
       "    </tr>\n",
       "  </thead>\n",
       "  <tbody>\n",
       "    <tr>\n",
       "      <th>29</th>\n",
       "      <td>P68871ups|HBB_HUMAN_UPS</td>\n",
       "      <td>50.0000</td>\n",
       "      <td>12399.666667</td>\n",
       "      <td>2.479933e+02</td>\n",
       "      <td>5</td>\n",
       "      <td>True</td>\n",
       "      <td>[{'feature_id': 3039101, 'sequence': 'VLGAFSDG...</td>\n",
       "      <td>11.079243</td>\n",
       "      <td>50.0000</td>\n",
       "      <td>12064.000000</td>\n",
       "      <td>2.412800e+02</td>\n",
       "      <td>5</td>\n",
       "      <td>[{'feature_id': 3039101, 'sequence': 'VLGAFSDG...</td>\n",
       "      <td>15.554677</td>\n",
       "    </tr>\n",
       "    <tr>\n",
       "      <th>26</th>\n",
       "      <td>P41159ups|LEP_HUMAN_UPS</td>\n",
       "      <td>50.0000</td>\n",
       "      <td>12501.666667</td>\n",
       "      <td>2.500333e+02</td>\n",
       "      <td>11</td>\n",
       "      <td>True</td>\n",
       "      <td>[{'feature_id': 534101, 'sequence': 'INDISHTQS...</td>\n",
       "      <td>11.170381</td>\n",
       "      <td>50.0000</td>\n",
       "      <td>11909.666667</td>\n",
       "      <td>2.381933e+02</td>\n",
       "      <td>11</td>\n",
       "      <td>[{'feature_id': 534101, 'sequence': 'INDISHTQS...</td>\n",
       "      <td>15.355688</td>\n",
       "    </tr>\n",
       "    <tr>\n",
       "      <th>14</th>\n",
       "      <td>P02768ups|ALBU_HUMAN_UPS</td>\n",
       "      <td>50.0000</td>\n",
       "      <td>55959.000000</td>\n",
       "      <td>1.119180e+03</td>\n",
       "      <td>47</td>\n",
       "      <td>True</td>\n",
       "      <td>[{'feature_id': 5142901, 'sequence': 'MPCAEDYL...</td>\n",
       "      <td>50.000000</td>\n",
       "      <td>50.0000</td>\n",
       "      <td>38779.333333</td>\n",
       "      <td>7.755867e+02</td>\n",
       "      <td>48</td>\n",
       "      <td>[{'feature_id': 5142901, 'sequence': 'MPCAEDYL...</td>\n",
       "      <td>50.000000</td>\n",
       "    </tr>\n",
       "    <tr>\n",
       "      <th>5</th>\n",
       "      <td>P00915ups|CAH1_HUMAN_UPS</td>\n",
       "      <td>50.0000</td>\n",
       "      <td>9993.333333</td>\n",
       "      <td>1.998667e+02</td>\n",
       "      <td>10</td>\n",
       "      <td>False</td>\n",
       "      <td>[{'feature_id': 1030401, 'sequence': 'HDTSLKPI...</td>\n",
       "      <td>8.929156</td>\n",
       "      <td>50.0000</td>\n",
       "      <td>9993.333333</td>\n",
       "      <td>1.998667e+02</td>\n",
       "      <td>10</td>\n",
       "      <td>[{'feature_id': 1030401, 'sequence': 'HDTSLKPI...</td>\n",
       "      <td>12.884870</td>\n",
       "    </tr>\n",
       "    <tr>\n",
       "      <th>6</th>\n",
       "      <td>P00918ups|CAH2_HUMAN_UPS</td>\n",
       "      <td>50.0000</td>\n",
       "      <td>19678.666667</td>\n",
       "      <td>3.935733e+02</td>\n",
       "      <td>8</td>\n",
       "      <td>True</td>\n",
       "      <td>[{'feature_id': 5162501, 'sequence': 'AVQQPDGL...</td>\n",
       "      <td>17.583111</td>\n",
       "      <td>50.0000</td>\n",
       "      <td>19202.666667</td>\n",
       "      <td>3.840533e+02</td>\n",
       "      <td>8</td>\n",
       "      <td>[{'feature_id': 5162501, 'sequence': 'AVQQPDGL...</td>\n",
       "      <td>24.758892</td>\n",
       "    </tr>\n",
       "    <tr>\n",
       "      <th>8</th>\n",
       "      <td>P01031ups|CO5_HUMAN_UPS</td>\n",
       "      <td>50.0000</td>\n",
       "      <td>16776.000000</td>\n",
       "      <td>3.355200e+02</td>\n",
       "      <td>3</td>\n",
       "      <td>True</td>\n",
       "      <td>[{'feature_id': 675301, 'sequence': 'CCYDGACVN...</td>\n",
       "      <td>14.989546</td>\n",
       "      <td>50.0000</td>\n",
       "      <td>13078.333333</td>\n",
       "      <td>2.615667e+02</td>\n",
       "      <td>3</td>\n",
       "      <td>[{'feature_id': 675301, 'sequence': 'CCYDGACVN...</td>\n",
       "      <td>16.862504</td>\n",
       "    </tr>\n",
       "    <tr>\n",
       "      <th>31</th>\n",
       "      <td>Q06830ups|PRDX1_HUMAN_UPS</td>\n",
       "      <td>5.0000</td>\n",
       "      <td>11774.333333</td>\n",
       "      <td>2.354867e+03</td>\n",
       "      <td>5</td>\n",
       "      <td>True</td>\n",
       "      <td>[{'feature_id': 813601, 'sequence': 'HGEVCPAGW...</td>\n",
       "      <td>10.520500</td>\n",
       "      <td>5.0000</td>\n",
       "      <td>11610.333333</td>\n",
       "      <td>2.322067e+03</td>\n",
       "      <td>5</td>\n",
       "      <td>[{'feature_id': 813601, 'sequence': 'HGEVCPAGW...</td>\n",
       "      <td>14.969743</td>\n",
       "    </tr>\n",
       "    <tr>\n",
       "      <th>17</th>\n",
       "      <td>P04040ups|CATA_HUMAN_UPS</td>\n",
       "      <td>5.0000</td>\n",
       "      <td>48598.000000</td>\n",
       "      <td>9.719600e+03</td>\n",
       "      <td>15</td>\n",
       "      <td>True</td>\n",
       "      <td>[{'feature_id': 4060101, 'sequence': 'GPLLVQDV...</td>\n",
       "      <td>43.422863</td>\n",
       "      <td>5.0000</td>\n",
       "      <td>42211.333333</td>\n",
       "      <td>8.442267e+03</td>\n",
       "      <td>15</td>\n",
       "      <td>[{'feature_id': 4060101, 'sequence': 'GPLLVQDV...</td>\n",
       "      <td>54.425037</td>\n",
       "    </tr>\n",
       "    <tr>\n",
       "      <th>12</th>\n",
       "      <td>P02144ups|MYG_HUMAN_UPS</td>\n",
       "      <td>5.0000</td>\n",
       "      <td>8067.666667</td>\n",
       "      <td>1.613533e+03</td>\n",
       "      <td>7</td>\n",
       "      <td>False</td>\n",
       "      <td>[{'feature_id': 709101, 'sequence': 'HPGDFGADA...</td>\n",
       "      <td>7.208551</td>\n",
       "      <td>5.0000</td>\n",
       "      <td>8067.666667</td>\n",
       "      <td>1.613533e+03</td>\n",
       "      <td>7</td>\n",
       "      <td>[{'feature_id': 709101, 'sequence': 'HPGDFGADA...</td>\n",
       "      <td>10.402018</td>\n",
       "    </tr>\n",
       "    <tr>\n",
       "      <th>28</th>\n",
       "      <td>P63165ups|SUMO1_HUMAN_UPS</td>\n",
       "      <td>5.0000</td>\n",
       "      <td>2482.000000</td>\n",
       "      <td>4.964000e+02</td>\n",
       "      <td>3</td>\n",
       "      <td>False</td>\n",
       "      <td>[{'feature_id': 3229301, 'sequence': 'LLLEYLEE...</td>\n",
       "      <td>2.217695</td>\n",
       "      <td>5.0000</td>\n",
       "      <td>2482.000000</td>\n",
       "      <td>4.964000e+02</td>\n",
       "      <td>3</td>\n",
       "      <td>[{'feature_id': 3229301, 'sequence': 'LLLEYLEE...</td>\n",
       "      <td>3.200158</td>\n",
       "    </tr>\n",
       "    <tr>\n",
       "      <th>2</th>\n",
       "      <td>P00167ups|CYB5_HUMAN_UPS</td>\n",
       "      <td>5.0000</td>\n",
       "      <td>11225.333333</td>\n",
       "      <td>2.245067e+03</td>\n",
       "      <td>3</td>\n",
       "      <td>True</td>\n",
       "      <td>[{'feature_id': 1201501, 'sequence': 'FLEEHPGG...</td>\n",
       "      <td>10.029962</td>\n",
       "      <td>5.0000</td>\n",
       "      <td>10668.333333</td>\n",
       "      <td>2.133667e+03</td>\n",
       "      <td>3</td>\n",
       "      <td>[{'feature_id': 1201501, 'sequence': 'FLEEHPGG...</td>\n",
       "      <td>13.755179</td>\n",
       "    </tr>\n",
       "    <tr>\n",
       "      <th>13</th>\n",
       "      <td>P02753ups|RETBP_HUMAN_UPS</td>\n",
       "      <td>0.5000</td>\n",
       "      <td>5431.666667</td>\n",
       "      <td>1.086333e+04</td>\n",
       "      <td>4</td>\n",
       "      <td>False</td>\n",
       "      <td>[{'feature_id': 1113101, 'sequence': 'Q[-17.02...</td>\n",
       "      <td>4.853256</td>\n",
       "      <td>0.5000</td>\n",
       "      <td>5431.666667</td>\n",
       "      <td>1.086333e+04</td>\n",
       "      <td>4</td>\n",
       "      <td>[{'feature_id': 1113101, 'sequence': 'Q[-17.02...</td>\n",
       "      <td>7.003301</td>\n",
       "    </tr>\n",
       "    <tr>\n",
       "      <th>4</th>\n",
       "      <td>P00709ups|LALBA_HUMAN_UPS</td>\n",
       "      <td>0.5000</td>\n",
       "      <td>9668.000000</td>\n",
       "      <td>1.933600e+04</td>\n",
       "      <td>5</td>\n",
       "      <td>True</td>\n",
       "      <td>[{'feature_id': 3606001, 'sequence': 'FLDDDITD...</td>\n",
       "      <td>8.638467</td>\n",
       "      <td>0.5000</td>\n",
       "      <td>9668.000000</td>\n",
       "      <td>1.933600e+04</td>\n",
       "      <td>5</td>\n",
       "      <td>[{'feature_id': 3606001, 'sequence': 'FLDDDITD...</td>\n",
       "      <td>12.465403</td>\n",
       "    </tr>\n",
       "    <tr>\n",
       "      <th>25</th>\n",
       "      <td>P16083ups|NQO2_HUMAN_UPS</td>\n",
       "      <td>0.5000</td>\n",
       "      <td>5469.666667</td>\n",
       "      <td>1.093933e+04</td>\n",
       "      <td>4</td>\n",
       "      <td>False</td>\n",
       "      <td>[{'feature_id': 2379001, 'sequence': 'ATDKDITG...</td>\n",
       "      <td>4.887209</td>\n",
       "      <td>0.5000</td>\n",
       "      <td>5469.666667</td>\n",
       "      <td>1.093933e+04</td>\n",
       "      <td>4</td>\n",
       "      <td>[{'feature_id': 2379001, 'sequence': 'ATDKDITG...</td>\n",
       "      <td>7.052296</td>\n",
       "    </tr>\n",
       "    <tr>\n",
       "      <th>20</th>\n",
       "      <td>P06732ups|KCRM_HUMAN_UPS</td>\n",
       "      <td>0.5000</td>\n",
       "      <td>13709.000000</td>\n",
       "      <td>2.741800e+04</td>\n",
       "      <td>32</td>\n",
       "      <td>False</td>\n",
       "      <td>[{'feature_id': 3111801, 'sequence': 'SFLVWVNE...</td>\n",
       "      <td>12.249147</td>\n",
       "      <td>0.5000</td>\n",
       "      <td>13709.000000</td>\n",
       "      <td>2.741800e+04</td>\n",
       "      <td>32</td>\n",
       "      <td>[{'feature_id': 3111801, 'sequence': 'SFLVWVNE...</td>\n",
       "      <td>17.675652</td>\n",
       "    </tr>\n",
       "    <tr>\n",
       "      <th>24</th>\n",
       "      <td>P12081ups|SYHC_HUMAN_UPS</td>\n",
       "      <td>0.5000</td>\n",
       "      <td>16261.666667</td>\n",
       "      <td>3.252333e+04</td>\n",
       "      <td>10</td>\n",
       "      <td>True</td>\n",
       "      <td>[{'feature_id': 2617001, 'sequence': 'HGAEVIDT...</td>\n",
       "      <td>14.529983</td>\n",
       "      <td>0.5000</td>\n",
       "      <td>16261.666667</td>\n",
       "      <td>3.252333e+04</td>\n",
       "      <td>10</td>\n",
       "      <td>[{'feature_id': 2617001, 'sequence': 'HGAEVIDT...</td>\n",
       "      <td>20.966924</td>\n",
       "    </tr>\n",
       "    <tr>\n",
       "      <th>10</th>\n",
       "      <td>P01127ups|PDGFB_HUMAN_UPS</td>\n",
       "      <td>0.0500</td>\n",
       "      <td>3446.666667</td>\n",
       "      <td>6.893333e+04</td>\n",
       "      <td>3</td>\n",
       "      <td>False</td>\n",
       "      <td>[{'feature_id': 3242502, 'sequence': 'SLGSLTIA...</td>\n",
       "      <td>3.079636</td>\n",
       "      <td>0.0500</td>\n",
       "      <td>3446.666667</td>\n",
       "      <td>6.893333e+04</td>\n",
       "      <td>3</td>\n",
       "      <td>[{'feature_id': 3242502, 'sequence': 'SLGSLTIA...</td>\n",
       "      <td>4.443948</td>\n",
       "    </tr>\n",
       "    <tr>\n",
       "      <th>7</th>\n",
       "      <td>P01008ups|ANT3_HUMAN_UPS</td>\n",
       "      <td>0.0500</td>\n",
       "      <td>12977.333333</td>\n",
       "      <td>2.595467e+05</td>\n",
       "      <td>7</td>\n",
       "      <td>False</td>\n",
       "      <td>[{'feature_id': 3231701, 'sequence': 'GDDITMVL...</td>\n",
       "      <td>11.595394</td>\n",
       "      <td>0.0500</td>\n",
       "      <td>12977.333333</td>\n",
       "      <td>2.595467e+05</td>\n",
       "      <td>7</td>\n",
       "      <td>[{'feature_id': 3231701, 'sequence': 'GDDITMVL...</td>\n",
       "      <td>16.732280</td>\n",
       "    </tr>\n",
       "    <tr>\n",
       "      <th>27</th>\n",
       "      <td>P55957ups|BID_HUMAN_UPS</td>\n",
       "      <td>0.0500</td>\n",
       "      <td>14120.333333</td>\n",
       "      <td>2.824067e+05</td>\n",
       "      <td>7</td>\n",
       "      <td>True</td>\n",
       "      <td>[{'feature_id': 268801, 'sequence': 'HLAQVGDSM...</td>\n",
       "      <td>12.616678</td>\n",
       "      <td>0.0500</td>\n",
       "      <td>13869.666667</td>\n",
       "      <td>2.773933e+05</td>\n",
       "      <td>7</td>\n",
       "      <td>[{'feature_id': 268801, 'sequence': 'HLAQVGDSM...</td>\n",
       "      <td>17.882807</td>\n",
       "    </tr>\n",
       "    <tr>\n",
       "      <th>1</th>\n",
       "      <td>O76070ups|SYUG_HUMAN_UPS</td>\n",
       "      <td>0.0500</td>\n",
       "      <td>26473.666667</td>\n",
       "      <td>5.294733e+05</td>\n",
       "      <td>10</td>\n",
       "      <td>True</td>\n",
       "      <td>[{'feature_id': 1144401, 'sequence': 'TKENVVQS...</td>\n",
       "      <td>23.654521</td>\n",
       "      <td>0.0500</td>\n",
       "      <td>26158.000000</td>\n",
       "      <td>5.231600e+05</td>\n",
       "      <td>10</td>\n",
       "      <td>[{'feature_id': 1144401, 'sequence': 'TKENVVQS...</td>\n",
       "      <td>33.726727</td>\n",
       "    </tr>\n",
       "    <tr>\n",
       "      <th>22</th>\n",
       "      <td>P09211ups|GSTP1_HUMAN_UPS</td>\n",
       "      <td>0.0050</td>\n",
       "      <td>9323.000000</td>\n",
       "      <td>1.864600e+06</td>\n",
       "      <td>6</td>\n",
       "      <td>False</td>\n",
       "      <td>[{'feature_id': 3145701, 'sequence': 'PPYTVVYF...</td>\n",
       "      <td>8.330206</td>\n",
       "      <td>0.0050</td>\n",
       "      <td>9323.000000</td>\n",
       "      <td>1.864600e+06</td>\n",
       "      <td>6</td>\n",
       "      <td>[{'feature_id': 3145701, 'sequence': 'PPYTVVYF...</td>\n",
       "      <td>12.020578</td>\n",
       "    </tr>\n",
       "    <tr>\n",
       "      <th>30</th>\n",
       "      <td>P99999ups|CYC_HUMAN_UPS</td>\n",
       "      <td>0.0050</td>\n",
       "      <td>5499.000000</td>\n",
       "      <td>1.099800e+06</td>\n",
       "      <td>5</td>\n",
       "      <td>False</td>\n",
       "      <td>[{'feature_id': 556701, 'sequence': 'KTGQAPGYS...</td>\n",
       "      <td>4.913419</td>\n",
       "      <td>0.0050</td>\n",
       "      <td>5499.000000</td>\n",
       "      <td>1.099800e+06</td>\n",
       "      <td>5</td>\n",
       "      <td>[{'feature_id': 556701, 'sequence': 'KTGQAPGYS...</td>\n",
       "      <td>7.090117</td>\n",
       "    </tr>\n",
       "    <tr>\n",
       "      <th>0</th>\n",
       "      <td>O00762ups|UBE2C_HUMAN_UPS</td>\n",
       "      <td>0.0050</td>\n",
       "      <td>6809.333333</td>\n",
       "      <td>1.361867e+06</td>\n",
       "      <td>5</td>\n",
       "      <td>False</td>\n",
       "      <td>[{'feature_id': 5133101, 'sequence': 'TILLSIQS...</td>\n",
       "      <td>6.084216</td>\n",
       "      <td>0.0050</td>\n",
       "      <td>6809.333333</td>\n",
       "      <td>1.361867e+06</td>\n",
       "      <td>5</td>\n",
       "      <td>[{'feature_id': 5133101, 'sequence': 'TILLSIQS...</td>\n",
       "      <td>8.779591</td>\n",
       "    </tr>\n",
       "    <tr>\n",
       "      <th>19</th>\n",
       "      <td>P06396ups|GELS_HUMAN_UPS</td>\n",
       "      <td>0.0050</td>\n",
       "      <td>19201.000000</td>\n",
       "      <td>3.840200e+06</td>\n",
       "      <td>21</td>\n",
       "      <td>True</td>\n",
       "      <td>[{'feature_id': 645601, 'sequence': 'DSQEEEKTE...</td>\n",
       "      <td>17.156311</td>\n",
       "      <td>0.0050</td>\n",
       "      <td>17001.666667</td>\n",
       "      <td>3.400333e+06</td>\n",
       "      <td>21</td>\n",
       "      <td>[{'feature_id': 645601, 'sequence': 'DSQEEEKTE...</td>\n",
       "      <td>21.921040</td>\n",
       "    </tr>\n",
       "    <tr>\n",
       "      <th>15</th>\n",
       "      <td>P02787ups|TRFE_HUMAN_UPS</td>\n",
       "      <td>0.0050</td>\n",
       "      <td>33425.333333</td>\n",
       "      <td>6.685067e+06</td>\n",
       "      <td>27</td>\n",
       "      <td>True</td>\n",
       "      <td>[{'feature_id': 2192001, 'sequence': 'ADRDQYEL...</td>\n",
       "      <td>29.865914</td>\n",
       "      <td>0.0050</td>\n",
       "      <td>27871.333333</td>\n",
       "      <td>5.574267e+06</td>\n",
       "      <td>27</td>\n",
       "      <td>[{'feature_id': 2192001, 'sequence': 'ADRDQYEL...</td>\n",
       "      <td>35.935808</td>\n",
       "    </tr>\n",
       "    <tr>\n",
       "      <th>11</th>\n",
       "      <td>P01579ups|IFNG_HUMAN_UPS</td>\n",
       "      <td>0.0050</td>\n",
       "      <td>5954.666667</td>\n",
       "      <td>1.190933e+06</td>\n",
       "      <td>5</td>\n",
       "      <td>False</td>\n",
       "      <td>[{'feature_id': 865601, 'sequence': 'SVETIKEDM...</td>\n",
       "      <td>5.320562</td>\n",
       "      <td>0.0050</td>\n",
       "      <td>5954.666667</td>\n",
       "      <td>1.190933e+06</td>\n",
       "      <td>5</td>\n",
       "      <td>[{'feature_id': 865601, 'sequence': 'SVETIKEDM...</td>\n",
       "      <td>7.677629</td>\n",
       "    </tr>\n",
       "    <tr>\n",
       "      <th>9</th>\n",
       "      <td>P01112ups|RASH_HUMAN_UPS</td>\n",
       "      <td>0.0050</td>\n",
       "      <td>4801.000000</td>\n",
       "      <td>9.602000e+05</td>\n",
       "      <td>7</td>\n",
       "      <td>False</td>\n",
       "      <td>[{'feature_id': 3578001, 'sequence': 'QGVEDAFY...</td>\n",
       "      <td>4.289748</td>\n",
       "      <td>0.0050</td>\n",
       "      <td>4801.000000</td>\n",
       "      <td>9.602000e+05</td>\n",
       "      <td>7</td>\n",
       "      <td>[{'feature_id': 3578001, 'sequence': 'QGVEDAFY...</td>\n",
       "      <td>6.190153</td>\n",
       "    </tr>\n",
       "    <tr>\n",
       "      <th>23</th>\n",
       "      <td>P10636-8ups|TAU_HUMAN_UPS</td>\n",
       "      <td>0.0005</td>\n",
       "      <td>21059.333333</td>\n",
       "      <td>4.211867e+07</td>\n",
       "      <td>23</td>\n",
       "      <td>True</td>\n",
       "      <td>[{'feature_id': 1075801, 'sequence': 'ESPLQTPT...</td>\n",
       "      <td>18.816753</td>\n",
       "      <td>0.0005</td>\n",
       "      <td>20196.333333</td>\n",
       "      <td>4.039267e+07</td>\n",
       "      <td>23</td>\n",
       "      <td>[{'feature_id': 1075801, 'sequence': 'ESPLQTPT...</td>\n",
       "      <td>26.040073</td>\n",
       "    </tr>\n",
       "    <tr>\n",
       "      <th>21</th>\n",
       "      <td>P08758ups|ANXA5_HUMAN_UPS</td>\n",
       "      <td>0.0005</td>\n",
       "      <td>33014.000000</td>\n",
       "      <td>6.602800e+07</td>\n",
       "      <td>9</td>\n",
       "      <td>True</td>\n",
       "      <td>[{'feature_id': 5104201, 'sequence': 'ETSGNLEQ...</td>\n",
       "      <td>29.498383</td>\n",
       "      <td>0.0005</td>\n",
       "      <td>33014.000000</td>\n",
       "      <td>6.602800e+07</td>\n",
       "      <td>9</td>\n",
       "      <td>[{'feature_id': 5104201, 'sequence': 'ETSGNLEQ...</td>\n",
       "      <td>42.566487</td>\n",
       "    </tr>\n",
       "    <tr>\n",
       "      <th>18</th>\n",
       "      <td>P05413ups|FABPH_HUMAN_UPS</td>\n",
       "      <td>0.0005</td>\n",
       "      <td>8732.000000</td>\n",
       "      <td>1.746400e+07</td>\n",
       "      <td>9</td>\n",
       "      <td>False</td>\n",
       "      <td>[{'feature_id': 1174001, 'sequence': 'LGVEFDET...</td>\n",
       "      <td>7.802141</td>\n",
       "      <td>0.0005</td>\n",
       "      <td>8732.000000</td>\n",
       "      <td>1.746400e+07</td>\n",
       "      <td>9</td>\n",
       "      <td>[{'feature_id': 1174001, 'sequence': 'LGVEFDET...</td>\n",
       "      <td>11.258574</td>\n",
       "    </tr>\n",
       "    <tr>\n",
       "      <th>3</th>\n",
       "      <td>P00441ups|SODC_HUMAN_UPS</td>\n",
       "      <td>0.0005</td>\n",
       "      <td>29713.333333</td>\n",
       "      <td>5.942667e+07</td>\n",
       "      <td>10</td>\n",
       "      <td>False</td>\n",
       "      <td>[{'feature_id': 3250801, 'sequence': 'HVGDLGNV...</td>\n",
       "      <td>26.549200</td>\n",
       "      <td>0.0005</td>\n",
       "      <td>29713.333333</td>\n",
       "      <td>5.942667e+07</td>\n",
       "      <td>10</td>\n",
       "      <td>[{'feature_id': 3250801, 'sequence': 'HVGDLGNV...</td>\n",
       "      <td>38.310784</td>\n",
       "    </tr>\n",
       "    <tr>\n",
       "      <th>16</th>\n",
       "      <td>P02788ups|TRFL_HUMAN_UPS</td>\n",
       "      <td>0.0005</td>\n",
       "      <td>16560.666667</td>\n",
       "      <td>3.312133e+07</td>\n",
       "      <td>20</td>\n",
       "      <td>True</td>\n",
       "      <td>[{'feature_id': 873701, 'sequence': 'LRPVAAEVY...</td>\n",
       "      <td>14.797143</td>\n",
       "      <td>0.0005</td>\n",
       "      <td>15607.666667</td>\n",
       "      <td>3.121533e+07</td>\n",
       "      <td>20</td>\n",
       "      <td>[{'feature_id': 4445301, 'sequence': 'IDSGLYLG...</td>\n",
       "      <td>20.123691</td>\n",
       "    </tr>\n",
       "  </tbody>\n",
       "</table>\n",
       "</div>"
      ],
      "text/plain": [
       "                      protein  pmoles_with  average_intensity_with  \\\n",
       "29    P68871ups|HBB_HUMAN_UPS      50.0000            12399.666667   \n",
       "26    P41159ups|LEP_HUMAN_UPS      50.0000            12501.666667   \n",
       "14   P02768ups|ALBU_HUMAN_UPS      50.0000            55959.000000   \n",
       "5    P00915ups|CAH1_HUMAN_UPS      50.0000             9993.333333   \n",
       "6    P00918ups|CAH2_HUMAN_UPS      50.0000            19678.666667   \n",
       "8     P01031ups|CO5_HUMAN_UPS      50.0000            16776.000000   \n",
       "31  Q06830ups|PRDX1_HUMAN_UPS       5.0000            11774.333333   \n",
       "17   P04040ups|CATA_HUMAN_UPS       5.0000            48598.000000   \n",
       "12    P02144ups|MYG_HUMAN_UPS       5.0000             8067.666667   \n",
       "28  P63165ups|SUMO1_HUMAN_UPS       5.0000             2482.000000   \n",
       "2    P00167ups|CYB5_HUMAN_UPS       5.0000            11225.333333   \n",
       "13  P02753ups|RETBP_HUMAN_UPS       0.5000             5431.666667   \n",
       "4   P00709ups|LALBA_HUMAN_UPS       0.5000             9668.000000   \n",
       "25   P16083ups|NQO2_HUMAN_UPS       0.5000             5469.666667   \n",
       "20   P06732ups|KCRM_HUMAN_UPS       0.5000            13709.000000   \n",
       "24   P12081ups|SYHC_HUMAN_UPS       0.5000            16261.666667   \n",
       "10  P01127ups|PDGFB_HUMAN_UPS       0.0500             3446.666667   \n",
       "7    P01008ups|ANT3_HUMAN_UPS       0.0500            12977.333333   \n",
       "27    P55957ups|BID_HUMAN_UPS       0.0500            14120.333333   \n",
       "1    O76070ups|SYUG_HUMAN_UPS       0.0500            26473.666667   \n",
       "22  P09211ups|GSTP1_HUMAN_UPS       0.0050             9323.000000   \n",
       "30    P99999ups|CYC_HUMAN_UPS       0.0050             5499.000000   \n",
       "0   O00762ups|UBE2C_HUMAN_UPS       0.0050             6809.333333   \n",
       "19   P06396ups|GELS_HUMAN_UPS       0.0050            19201.000000   \n",
       "15   P02787ups|TRFE_HUMAN_UPS       0.0050            33425.333333   \n",
       "11   P01579ups|IFNG_HUMAN_UPS       0.0050             5954.666667   \n",
       "9    P01112ups|RASH_HUMAN_UPS       0.0050             4801.000000   \n",
       "23  P10636-8ups|TAU_HUMAN_UPS       0.0005            21059.333333   \n",
       "21  P08758ups|ANXA5_HUMAN_UPS       0.0005            33014.000000   \n",
       "18  P05413ups|FABPH_HUMAN_UPS       0.0005             8732.000000   \n",
       "3    P00441ups|SODC_HUMAN_UPS       0.0005            29713.333333   \n",
       "16   P02788ups|TRFL_HUMAN_UPS       0.0005            16560.666667   \n",
       "\n",
       "    signal_response_factor_with  peptide_count_with  intensity_adjusted  \\\n",
       "29                 2.479933e+02                   5                True   \n",
       "26                 2.500333e+02                  11                True   \n",
       "14                 1.119180e+03                  47                True   \n",
       "5                  1.998667e+02                  10               False   \n",
       "6                  3.935733e+02                   8                True   \n",
       "8                  3.355200e+02                   3                True   \n",
       "31                 2.354867e+03                   5                True   \n",
       "17                 9.719600e+03                  15                True   \n",
       "12                 1.613533e+03                   7               False   \n",
       "28                 4.964000e+02                   3               False   \n",
       "2                  2.245067e+03                   3                True   \n",
       "13                 1.086333e+04                   4               False   \n",
       "4                  1.933600e+04                   5                True   \n",
       "25                 1.093933e+04                   4               False   \n",
       "20                 2.741800e+04                  32               False   \n",
       "24                 3.252333e+04                  10                True   \n",
       "10                 6.893333e+04                   3               False   \n",
       "7                  2.595467e+05                   7               False   \n",
       "27                 2.824067e+05                   7                True   \n",
       "1                  5.294733e+05                  10                True   \n",
       "22                 1.864600e+06                   6               False   \n",
       "30                 1.099800e+06                   5               False   \n",
       "0                  1.361867e+06                   5               False   \n",
       "19                 3.840200e+06                  21                True   \n",
       "15                 6.685067e+06                  27                True   \n",
       "11                 1.190933e+06                   5               False   \n",
       "9                  9.602000e+05                   7               False   \n",
       "23                 4.211867e+07                  23                True   \n",
       "21                 6.602800e+07                   9                True   \n",
       "18                 1.746400e+07                   9               False   \n",
       "3                  5.942667e+07                  10               False   \n",
       "16                 3.312133e+07                  20                True   \n",
       "\n",
       "                                       attribs_d_with  calculated_pmoles_with  \\\n",
       "29  [{'feature_id': 3039101, 'sequence': 'VLGAFSDG...               11.079243   \n",
       "26  [{'feature_id': 534101, 'sequence': 'INDISHTQS...               11.170381   \n",
       "14  [{'feature_id': 5142901, 'sequence': 'MPCAEDYL...               50.000000   \n",
       "5   [{'feature_id': 1030401, 'sequence': 'HDTSLKPI...                8.929156   \n",
       "6   [{'feature_id': 5162501, 'sequence': 'AVQQPDGL...               17.583111   \n",
       "8   [{'feature_id': 675301, 'sequence': 'CCYDGACVN...               14.989546   \n",
       "31  [{'feature_id': 813601, 'sequence': 'HGEVCPAGW...               10.520500   \n",
       "17  [{'feature_id': 4060101, 'sequence': 'GPLLVQDV...               43.422863   \n",
       "12  [{'feature_id': 709101, 'sequence': 'HPGDFGADA...                7.208551   \n",
       "28  [{'feature_id': 3229301, 'sequence': 'LLLEYLEE...                2.217695   \n",
       "2   [{'feature_id': 1201501, 'sequence': 'FLEEHPGG...               10.029962   \n",
       "13  [{'feature_id': 1113101, 'sequence': 'Q[-17.02...                4.853256   \n",
       "4   [{'feature_id': 3606001, 'sequence': 'FLDDDITD...                8.638467   \n",
       "25  [{'feature_id': 2379001, 'sequence': 'ATDKDITG...                4.887209   \n",
       "20  [{'feature_id': 3111801, 'sequence': 'SFLVWVNE...               12.249147   \n",
       "24  [{'feature_id': 2617001, 'sequence': 'HGAEVIDT...               14.529983   \n",
       "10  [{'feature_id': 3242502, 'sequence': 'SLGSLTIA...                3.079636   \n",
       "7   [{'feature_id': 3231701, 'sequence': 'GDDITMVL...               11.595394   \n",
       "27  [{'feature_id': 268801, 'sequence': 'HLAQVGDSM...               12.616678   \n",
       "1   [{'feature_id': 1144401, 'sequence': 'TKENVVQS...               23.654521   \n",
       "22  [{'feature_id': 3145701, 'sequence': 'PPYTVVYF...                8.330206   \n",
       "30  [{'feature_id': 556701, 'sequence': 'KTGQAPGYS...                4.913419   \n",
       "0   [{'feature_id': 5133101, 'sequence': 'TILLSIQS...                6.084216   \n",
       "19  [{'feature_id': 645601, 'sequence': 'DSQEEEKTE...               17.156311   \n",
       "15  [{'feature_id': 2192001, 'sequence': 'ADRDQYEL...               29.865914   \n",
       "11  [{'feature_id': 865601, 'sequence': 'SVETIKEDM...                5.320562   \n",
       "9   [{'feature_id': 3578001, 'sequence': 'QGVEDAFY...                4.289748   \n",
       "23  [{'feature_id': 1075801, 'sequence': 'ESPLQTPT...               18.816753   \n",
       "21  [{'feature_id': 5104201, 'sequence': 'ETSGNLEQ...               29.498383   \n",
       "18  [{'feature_id': 1174001, 'sequence': 'LGVEFDET...                7.802141   \n",
       "3   [{'feature_id': 3250801, 'sequence': 'HVGDLGNV...               26.549200   \n",
       "16  [{'feature_id': 873701, 'sequence': 'LRPVAAEVY...               14.797143   \n",
       "\n",
       "    pmoles_without  average_intensity_without  signal_response_factor_without  \\\n",
       "29         50.0000               12064.000000                    2.412800e+02   \n",
       "26         50.0000               11909.666667                    2.381933e+02   \n",
       "14         50.0000               38779.333333                    7.755867e+02   \n",
       "5          50.0000                9993.333333                    1.998667e+02   \n",
       "6          50.0000               19202.666667                    3.840533e+02   \n",
       "8          50.0000               13078.333333                    2.615667e+02   \n",
       "31          5.0000               11610.333333                    2.322067e+03   \n",
       "17          5.0000               42211.333333                    8.442267e+03   \n",
       "12          5.0000                8067.666667                    1.613533e+03   \n",
       "28          5.0000                2482.000000                    4.964000e+02   \n",
       "2           5.0000               10668.333333                    2.133667e+03   \n",
       "13          0.5000                5431.666667                    1.086333e+04   \n",
       "4           0.5000                9668.000000                    1.933600e+04   \n",
       "25          0.5000                5469.666667                    1.093933e+04   \n",
       "20          0.5000               13709.000000                    2.741800e+04   \n",
       "24          0.5000               16261.666667                    3.252333e+04   \n",
       "10          0.0500                3446.666667                    6.893333e+04   \n",
       "7           0.0500               12977.333333                    2.595467e+05   \n",
       "27          0.0500               13869.666667                    2.773933e+05   \n",
       "1           0.0500               26158.000000                    5.231600e+05   \n",
       "22          0.0050                9323.000000                    1.864600e+06   \n",
       "30          0.0050                5499.000000                    1.099800e+06   \n",
       "0           0.0050                6809.333333                    1.361867e+06   \n",
       "19          0.0050               17001.666667                    3.400333e+06   \n",
       "15          0.0050               27871.333333                    5.574267e+06   \n",
       "11          0.0050                5954.666667                    1.190933e+06   \n",
       "9           0.0050                4801.000000                    9.602000e+05   \n",
       "23          0.0005               20196.333333                    4.039267e+07   \n",
       "21          0.0005               33014.000000                    6.602800e+07   \n",
       "18          0.0005                8732.000000                    1.746400e+07   \n",
       "3           0.0005               29713.333333                    5.942667e+07   \n",
       "16          0.0005               15607.666667                    3.121533e+07   \n",
       "\n",
       "    peptide_count_without                                  attribs_d_without  \\\n",
       "29                      5  [{'feature_id': 3039101, 'sequence': 'VLGAFSDG...   \n",
       "26                     11  [{'feature_id': 534101, 'sequence': 'INDISHTQS...   \n",
       "14                     48  [{'feature_id': 5142901, 'sequence': 'MPCAEDYL...   \n",
       "5                      10  [{'feature_id': 1030401, 'sequence': 'HDTSLKPI...   \n",
       "6                       8  [{'feature_id': 5162501, 'sequence': 'AVQQPDGL...   \n",
       "8                       3  [{'feature_id': 675301, 'sequence': 'CCYDGACVN...   \n",
       "31                      5  [{'feature_id': 813601, 'sequence': 'HGEVCPAGW...   \n",
       "17                     15  [{'feature_id': 4060101, 'sequence': 'GPLLVQDV...   \n",
       "12                      7  [{'feature_id': 709101, 'sequence': 'HPGDFGADA...   \n",
       "28                      3  [{'feature_id': 3229301, 'sequence': 'LLLEYLEE...   \n",
       "2                       3  [{'feature_id': 1201501, 'sequence': 'FLEEHPGG...   \n",
       "13                      4  [{'feature_id': 1113101, 'sequence': 'Q[-17.02...   \n",
       "4                       5  [{'feature_id': 3606001, 'sequence': 'FLDDDITD...   \n",
       "25                      4  [{'feature_id': 2379001, 'sequence': 'ATDKDITG...   \n",
       "20                     32  [{'feature_id': 3111801, 'sequence': 'SFLVWVNE...   \n",
       "24                     10  [{'feature_id': 2617001, 'sequence': 'HGAEVIDT...   \n",
       "10                      3  [{'feature_id': 3242502, 'sequence': 'SLGSLTIA...   \n",
       "7                       7  [{'feature_id': 3231701, 'sequence': 'GDDITMVL...   \n",
       "27                      7  [{'feature_id': 268801, 'sequence': 'HLAQVGDSM...   \n",
       "1                      10  [{'feature_id': 1144401, 'sequence': 'TKENVVQS...   \n",
       "22                      6  [{'feature_id': 3145701, 'sequence': 'PPYTVVYF...   \n",
       "30                      5  [{'feature_id': 556701, 'sequence': 'KTGQAPGYS...   \n",
       "0                       5  [{'feature_id': 5133101, 'sequence': 'TILLSIQS...   \n",
       "19                     21  [{'feature_id': 645601, 'sequence': 'DSQEEEKTE...   \n",
       "15                     27  [{'feature_id': 2192001, 'sequence': 'ADRDQYEL...   \n",
       "11                      5  [{'feature_id': 865601, 'sequence': 'SVETIKEDM...   \n",
       "9                       7  [{'feature_id': 3578001, 'sequence': 'QGVEDAFY...   \n",
       "23                     23  [{'feature_id': 1075801, 'sequence': 'ESPLQTPT...   \n",
       "21                      9  [{'feature_id': 5104201, 'sequence': 'ETSGNLEQ...   \n",
       "18                      9  [{'feature_id': 1174001, 'sequence': 'LGVEFDET...   \n",
       "3                      10  [{'feature_id': 3250801, 'sequence': 'HVGDLGNV...   \n",
       "16                     20  [{'feature_id': 4445301, 'sequence': 'IDSGLYLG...   \n",
       "\n",
       "    calculated_pmoles_without  \n",
       "29                  15.554677  \n",
       "26                  15.355688  \n",
       "14                  50.000000  \n",
       "5                   12.884870  \n",
       "6                   24.758892  \n",
       "8                   16.862504  \n",
       "31                  14.969743  \n",
       "17                  54.425037  \n",
       "12                  10.402018  \n",
       "28                   3.200158  \n",
       "2                   13.755179  \n",
       "13                   7.003301  \n",
       "4                   12.465403  \n",
       "25                   7.052296  \n",
       "20                  17.675652  \n",
       "24                  20.966924  \n",
       "10                   4.443948  \n",
       "7                   16.732280  \n",
       "27                  17.882807  \n",
       "1                   33.726727  \n",
       "22                  12.020578  \n",
       "30                   7.090117  \n",
       "0                    8.779591  \n",
       "19                  21.921040  \n",
       "15                  35.935808  \n",
       "11                   7.677629  \n",
       "9                    6.190153  \n",
       "23                  26.040073  \n",
       "21                  42.566487  \n",
       "18                  11.258574  \n",
       "3                   38.310784  \n",
       "16                  20.123691  "
      ]
     },
     "execution_count": 59,
     "metadata": {},
     "output_type": "execute_result"
    }
   ],
   "source": [
    "combined_UPS1_df.sort_values(by=['pmoles_with'], ascending=False, inplace=False)"
   ]
  },
  {
   "cell_type": "code",
   "execution_count": 60,
   "metadata": {},
   "outputs": [],
   "source": [
    "universal_signal_response_factor_with = combined_UPS1_df[combined_UPS1_df.protein.str.startswith('P02768')].iloc[0].signal_response_factor_with\n",
    "universal_signal_response_factor_without = combined_UPS1_df[combined_UPS1_df.protein.str.startswith('P02768')].iloc[0].signal_response_factor_without"
   ]
  },
  {
   "cell_type": "code",
   "execution_count": 61,
   "metadata": {},
   "outputs": [],
   "source": [
    "combined_UPS1_df['calculated_pmoles_with'] = combined_UPS1_df.average_intensity_with / universal_signal_response_factor_with\n",
    "combined_UPS1_df['calculated_pmoles_without'] = combined_UPS1_df.average_intensity_without / universal_signal_response_factor_without"
   ]
  },
  {
   "cell_type": "code",
   "execution_count": 62,
   "metadata": {},
   "outputs": [
    {
     "data": {
      "text/plain": [
       "0.20665072017725014"
      ]
     },
     "execution_count": 62,
     "metadata": {},
     "output_type": "execute_result"
    }
   ],
   "source": [
    "combined_UPS1_df['pmoles_with'].corr(combined_UPS1_df['calculated_pmoles_with'])"
   ]
  },
  {
   "cell_type": "code",
   "execution_count": 63,
   "metadata": {},
   "outputs": [
    {
     "data": {
      "text/plain": [
       "0.13377350168611465"
      ]
     },
     "execution_count": 63,
     "metadata": {},
     "output_type": "execute_result"
    }
   ],
   "source": [
    "combined_UPS1_df['pmoles_without'].corr(combined_UPS1_df['calculated_pmoles_without'])"
   ]
  },
  {
   "cell_type": "markdown",
   "metadata": {},
   "source": [
    "### compare relative intensities of top-3 peptides for each protein found in common in UPS2 and UPS1"
   ]
  },
  {
   "cell_type": "code",
   "execution_count": 64,
   "metadata": {},
   "outputs": [],
   "source": [
    "ratios_df = pd.merge(combined_df[['protein','average_intensity_with','average_intensity_without']], combined_UPS1_df[['protein','average_intensity_with','average_intensity_without']], how='inner', left_on=['protein'], right_on=['protein'], suffixes=['_UPS2','_UPS1'])\n"
   ]
  },
  {
   "cell_type": "code",
   "execution_count": 65,
   "metadata": {},
   "outputs": [],
   "source": [
    "ratios_df['ratio_with'] = ratios_df.average_intensity_with_UPS2 / ratios_df.average_intensity_with_UPS1\n",
    "ratios_df['ratio_without'] = ratios_df.average_intensity_without_UPS2 / ratios_df.average_intensity_without_UPS1"
   ]
  },
  {
   "cell_type": "code",
   "execution_count": 66,
   "metadata": {},
   "outputs": [],
   "source": [
    "ratios_df['expected_ratio'] = ratios_df.apply(lambda row: (ups2_d[row.protein.split('ups')[0]] / 1000) / 5.0, axis=1)\n",
    "ratios_df['protein_code'] = ratios_df.apply(lambda row: row.protein.split('ups')[0], axis=1)"
   ]
  },
  {
   "cell_type": "code",
   "execution_count": 67,
   "metadata": {},
   "outputs": [],
   "source": [
    "ratios_df.sort_values(by=['expected_ratio'], ascending=False, inplace=True)"
   ]
  },
  {
   "cell_type": "code",
   "execution_count": 68,
   "metadata": {},
   "outputs": [
    {
     "data": {
      "text/html": [
       "<div>\n",
       "<style scoped>\n",
       "    .dataframe tbody tr th:only-of-type {\n",
       "        vertical-align: middle;\n",
       "    }\n",
       "\n",
       "    .dataframe tbody tr th {\n",
       "        vertical-align: top;\n",
       "    }\n",
       "\n",
       "    .dataframe thead th {\n",
       "        text-align: right;\n",
       "    }\n",
       "</style>\n",
       "<table border=\"1\" class=\"dataframe\">\n",
       "  <thead>\n",
       "    <tr style=\"text-align: right;\">\n",
       "      <th></th>\n",
       "      <th>protein</th>\n",
       "      <th>average_intensity_with_UPS2</th>\n",
       "      <th>average_intensity_without_UPS2</th>\n",
       "      <th>average_intensity_with_UPS1</th>\n",
       "      <th>average_intensity_without_UPS1</th>\n",
       "      <th>ratio_with</th>\n",
       "      <th>ratio_without</th>\n",
       "      <th>expected_ratio</th>\n",
       "      <th>protein_code</th>\n",
       "    </tr>\n",
       "  </thead>\n",
       "  <tbody>\n",
       "    <tr>\n",
       "      <th>0</th>\n",
       "      <td>P00915ups|CAH1_HUMAN_UPS</td>\n",
       "      <td>51605.000000</td>\n",
       "      <td>46840.000000</td>\n",
       "      <td>9993.333333</td>\n",
       "      <td>9993.333333</td>\n",
       "      <td>5.163943</td>\n",
       "      <td>4.687125</td>\n",
       "      <td>10.0</td>\n",
       "      <td>P00915</td>\n",
       "    </tr>\n",
       "    <tr>\n",
       "      <th>1</th>\n",
       "      <td>P00918ups|CAH2_HUMAN_UPS</td>\n",
       "      <td>50845.666667</td>\n",
       "      <td>44935.333333</td>\n",
       "      <td>19678.666667</td>\n",
       "      <td>19202.666667</td>\n",
       "      <td>2.583796</td>\n",
       "      <td>2.340057</td>\n",
       "      <td>10.0</td>\n",
       "      <td>P00918</td>\n",
       "    </tr>\n",
       "    <tr>\n",
       "      <th>2</th>\n",
       "      <td>P01031ups|CO5_HUMAN_UPS</td>\n",
       "      <td>38038.333333</td>\n",
       "      <td>21637.666667</td>\n",
       "      <td>16776.000000</td>\n",
       "      <td>13078.333333</td>\n",
       "      <td>2.267426</td>\n",
       "      <td>1.654467</td>\n",
       "      <td>10.0</td>\n",
       "      <td>P01031</td>\n",
       "    </tr>\n",
       "    <tr>\n",
       "      <th>4</th>\n",
       "      <td>P02768ups|ALBU_HUMAN_UPS</td>\n",
       "      <td>115951.666667</td>\n",
       "      <td>85794.666667</td>\n",
       "      <td>55959.000000</td>\n",
       "      <td>38779.333333</td>\n",
       "      <td>2.072083</td>\n",
       "      <td>2.212381</td>\n",
       "      <td>10.0</td>\n",
       "      <td>P02768</td>\n",
       "    </tr>\n",
       "    <tr>\n",
       "      <th>7</th>\n",
       "      <td>P41159ups|LEP_HUMAN_UPS</td>\n",
       "      <td>35351.333333</td>\n",
       "      <td>31006.666667</td>\n",
       "      <td>12501.666667</td>\n",
       "      <td>11909.666667</td>\n",
       "      <td>2.827730</td>\n",
       "      <td>2.603487</td>\n",
       "      <td>10.0</td>\n",
       "      <td>P41159</td>\n",
       "    </tr>\n",
       "    <tr>\n",
       "      <th>9</th>\n",
       "      <td>P68871ups|HBB_HUMAN_UPS</td>\n",
       "      <td>48142.000000</td>\n",
       "      <td>39346.000000</td>\n",
       "      <td>12399.666667</td>\n",
       "      <td>12064.000000</td>\n",
       "      <td>3.882524</td>\n",
       "      <td>3.261439</td>\n",
       "      <td>10.0</td>\n",
       "      <td>P68871</td>\n",
       "    </tr>\n",
       "    <tr>\n",
       "      <th>3</th>\n",
       "      <td>P02144ups|MYG_HUMAN_UPS</td>\n",
       "      <td>6118.000000</td>\n",
       "      <td>6118.000000</td>\n",
       "      <td>8067.666667</td>\n",
       "      <td>8067.666667</td>\n",
       "      <td>0.758336</td>\n",
       "      <td>0.758336</td>\n",
       "      <td>1.0</td>\n",
       "      <td>P02144</td>\n",
       "    </tr>\n",
       "    <tr>\n",
       "      <th>5</th>\n",
       "      <td>P04040ups|CATA_HUMAN_UPS</td>\n",
       "      <td>40783.666667</td>\n",
       "      <td>35444.000000</td>\n",
       "      <td>48598.000000</td>\n",
       "      <td>42211.333333</td>\n",
       "      <td>0.839205</td>\n",
       "      <td>0.839680</td>\n",
       "      <td>1.0</td>\n",
       "      <td>P04040</td>\n",
       "    </tr>\n",
       "    <tr>\n",
       "      <th>8</th>\n",
       "      <td>P63165ups|SUMO1_HUMAN_UPS</td>\n",
       "      <td>1740.000000</td>\n",
       "      <td>1740.000000</td>\n",
       "      <td>2482.000000</td>\n",
       "      <td>2482.000000</td>\n",
       "      <td>0.701048</td>\n",
       "      <td>0.701048</td>\n",
       "      <td>1.0</td>\n",
       "      <td>P63165</td>\n",
       "    </tr>\n",
       "    <tr>\n",
       "      <th>10</th>\n",
       "      <td>Q06830ups|PRDX1_HUMAN_UPS</td>\n",
       "      <td>8234.333333</td>\n",
       "      <td>8234.333333</td>\n",
       "      <td>11774.333333</td>\n",
       "      <td>11610.333333</td>\n",
       "      <td>0.699346</td>\n",
       "      <td>0.709225</td>\n",
       "      <td>1.0</td>\n",
       "      <td>Q06830</td>\n",
       "    </tr>\n",
       "    <tr>\n",
       "      <th>6</th>\n",
       "      <td>P12081ups|SYHC_HUMAN_UPS</td>\n",
       "      <td>3091.000000</td>\n",
       "      <td>3091.000000</td>\n",
       "      <td>16261.666667</td>\n",
       "      <td>16261.666667</td>\n",
       "      <td>0.190079</td>\n",
       "      <td>0.190079</td>\n",
       "      <td>0.1</td>\n",
       "      <td>P12081</td>\n",
       "    </tr>\n",
       "  </tbody>\n",
       "</table>\n",
       "</div>"
      ],
      "text/plain": [
       "                      protein  average_intensity_with_UPS2  \\\n",
       "0    P00915ups|CAH1_HUMAN_UPS                 51605.000000   \n",
       "1    P00918ups|CAH2_HUMAN_UPS                 50845.666667   \n",
       "2     P01031ups|CO5_HUMAN_UPS                 38038.333333   \n",
       "4    P02768ups|ALBU_HUMAN_UPS                115951.666667   \n",
       "7     P41159ups|LEP_HUMAN_UPS                 35351.333333   \n",
       "9     P68871ups|HBB_HUMAN_UPS                 48142.000000   \n",
       "3     P02144ups|MYG_HUMAN_UPS                  6118.000000   \n",
       "5    P04040ups|CATA_HUMAN_UPS                 40783.666667   \n",
       "8   P63165ups|SUMO1_HUMAN_UPS                  1740.000000   \n",
       "10  Q06830ups|PRDX1_HUMAN_UPS                  8234.333333   \n",
       "6    P12081ups|SYHC_HUMAN_UPS                  3091.000000   \n",
       "\n",
       "    average_intensity_without_UPS2  average_intensity_with_UPS1  \\\n",
       "0                     46840.000000                  9993.333333   \n",
       "1                     44935.333333                 19678.666667   \n",
       "2                     21637.666667                 16776.000000   \n",
       "4                     85794.666667                 55959.000000   \n",
       "7                     31006.666667                 12501.666667   \n",
       "9                     39346.000000                 12399.666667   \n",
       "3                      6118.000000                  8067.666667   \n",
       "5                     35444.000000                 48598.000000   \n",
       "8                      1740.000000                  2482.000000   \n",
       "10                     8234.333333                 11774.333333   \n",
       "6                      3091.000000                 16261.666667   \n",
       "\n",
       "    average_intensity_without_UPS1  ratio_with  ratio_without  expected_ratio  \\\n",
       "0                      9993.333333    5.163943       4.687125            10.0   \n",
       "1                     19202.666667    2.583796       2.340057            10.0   \n",
       "2                     13078.333333    2.267426       1.654467            10.0   \n",
       "4                     38779.333333    2.072083       2.212381            10.0   \n",
       "7                     11909.666667    2.827730       2.603487            10.0   \n",
       "9                     12064.000000    3.882524       3.261439            10.0   \n",
       "3                      8067.666667    0.758336       0.758336             1.0   \n",
       "5                     42211.333333    0.839205       0.839680             1.0   \n",
       "8                      2482.000000    0.701048       0.701048             1.0   \n",
       "10                    11610.333333    0.699346       0.709225             1.0   \n",
       "6                     16261.666667    0.190079       0.190079             0.1   \n",
       "\n",
       "   protein_code  \n",
       "0        P00915  \n",
       "1        P00918  \n",
       "2        P01031  \n",
       "4        P02768  \n",
       "7        P41159  \n",
       "9        P68871  \n",
       "3        P02144  \n",
       "5        P04040  \n",
       "8        P63165  \n",
       "10       Q06830  \n",
       "6        P12081  "
      ]
     },
     "execution_count": 68,
     "metadata": {},
     "output_type": "execute_result"
    }
   ],
   "source": [
    "ratios_df"
   ]
  },
  {
   "cell_type": "code",
   "execution_count": 69,
   "metadata": {},
   "outputs": [
    {
     "data": {
      "text/plain": [
       "0.8418835601816663"
      ]
     },
     "execution_count": 69,
     "metadata": {},
     "output_type": "execute_result"
    }
   ],
   "source": [
    "ratios_df['ratio_with'].corr(ratios_df['expected_ratio'])"
   ]
  },
  {
   "cell_type": "code",
   "execution_count": 70,
   "metadata": {},
   "outputs": [
    {
     "data": {
      "text/plain": [
       "0.8297629486953068"
      ]
     },
     "execution_count": 70,
     "metadata": {},
     "output_type": "execute_result"
    }
   ],
   "source": [
    "ratios_df['ratio_without'].corr(ratios_df['expected_ratio'])"
   ]
  },
  {
   "cell_type": "markdown",
   "metadata": {},
   "source": [
    "#### include MQ results for comparison"
   ]
  },
  {
   "cell_type": "code",
   "execution_count": 93,
   "metadata": {},
   "outputs": [],
   "source": [
    "# read the MQ ratios from the notebook \"paper 2 - UPS2 identifications with MaxQuant\"\n",
    "mq_ratios_df = pd.read_pickle('{}/mq_ratios_ups1_ups2.pkl'.format(expanduser('~')))"
   ]
  },
  {
   "cell_type": "code",
   "execution_count": 94,
   "metadata": {},
   "outputs": [
    {
     "data": {
      "text/plain": [
       "Index(['protein', 'average_intensity_UPS2', 'average_intensity_UPS1', 'ratio',\n",
       "       'expected_ratio', 'protein_code'],\n",
       "      dtype='object')"
      ]
     },
     "execution_count": 94,
     "metadata": {},
     "output_type": "execute_result"
    }
   ],
   "source": [
    "mq_ratios_df.columns"
   ]
  },
  {
   "cell_type": "code",
   "execution_count": 102,
   "metadata": {},
   "outputs": [],
   "source": [
    "# and combine them with the other results for plotting\n",
    "combined_ratios_df = pd.merge(ratios_df, mq_ratios_df[['protein','ratio']], how='inner', left_on=['protein'], right_on=['protein'], suffixes=['_TFDE','_MQ'])\n",
    "combined_ratios_df.rename(columns={'ratio': 'mq_ratio'}, inplace=True)"
   ]
  },
  {
   "cell_type": "code",
   "execution_count": 103,
   "metadata": {},
   "outputs": [
    {
     "data": {
      "text/html": [
       "<div>\n",
       "<style scoped>\n",
       "    .dataframe tbody tr th:only-of-type {\n",
       "        vertical-align: middle;\n",
       "    }\n",
       "\n",
       "    .dataframe tbody tr th {\n",
       "        vertical-align: top;\n",
       "    }\n",
       "\n",
       "    .dataframe thead th {\n",
       "        text-align: right;\n",
       "    }\n",
       "</style>\n",
       "<table border=\"1\" class=\"dataframe\">\n",
       "  <thead>\n",
       "    <tr style=\"text-align: right;\">\n",
       "      <th></th>\n",
       "      <th>protein</th>\n",
       "      <th>average_intensity_with_UPS2</th>\n",
       "      <th>average_intensity_without_UPS2</th>\n",
       "      <th>average_intensity_with_UPS1</th>\n",
       "      <th>average_intensity_without_UPS1</th>\n",
       "      <th>ratio_with</th>\n",
       "      <th>ratio_without</th>\n",
       "      <th>expected_ratio</th>\n",
       "      <th>protein_code</th>\n",
       "      <th>mq_ratio</th>\n",
       "    </tr>\n",
       "  </thead>\n",
       "  <tbody>\n",
       "    <tr>\n",
       "      <th>0</th>\n",
       "      <td>P00915ups|CAH1_HUMAN_UPS</td>\n",
       "      <td>51605.000000</td>\n",
       "      <td>46840.000000</td>\n",
       "      <td>9993.333333</td>\n",
       "      <td>9993.333333</td>\n",
       "      <td>5.163943</td>\n",
       "      <td>4.687125</td>\n",
       "      <td>10.0</td>\n",
       "      <td>P00915</td>\n",
       "      <td>6.718963</td>\n",
       "    </tr>\n",
       "    <tr>\n",
       "      <th>1</th>\n",
       "      <td>P00918ups|CAH2_HUMAN_UPS</td>\n",
       "      <td>50845.666667</td>\n",
       "      <td>44935.333333</td>\n",
       "      <td>19678.666667</td>\n",
       "      <td>19202.666667</td>\n",
       "      <td>2.583796</td>\n",
       "      <td>2.340057</td>\n",
       "      <td>10.0</td>\n",
       "      <td>P00918</td>\n",
       "      <td>3.008845</td>\n",
       "    </tr>\n",
       "    <tr>\n",
       "      <th>2</th>\n",
       "      <td>P01031ups|CO5_HUMAN_UPS</td>\n",
       "      <td>38038.333333</td>\n",
       "      <td>21637.666667</td>\n",
       "      <td>16776.000000</td>\n",
       "      <td>13078.333333</td>\n",
       "      <td>2.267426</td>\n",
       "      <td>1.654467</td>\n",
       "      <td>10.0</td>\n",
       "      <td>P01031</td>\n",
       "      <td>0.633459</td>\n",
       "    </tr>\n",
       "    <tr>\n",
       "      <th>3</th>\n",
       "      <td>P02768ups|ALBU_HUMAN_UPS</td>\n",
       "      <td>115951.666667</td>\n",
       "      <td>85794.666667</td>\n",
       "      <td>55959.000000</td>\n",
       "      <td>38779.333333</td>\n",
       "      <td>2.072083</td>\n",
       "      <td>2.212381</td>\n",
       "      <td>10.0</td>\n",
       "      <td>P02768</td>\n",
       "      <td>2.743569</td>\n",
       "    </tr>\n",
       "    <tr>\n",
       "      <th>4</th>\n",
       "      <td>P41159ups|LEP_HUMAN_UPS</td>\n",
       "      <td>35351.333333</td>\n",
       "      <td>31006.666667</td>\n",
       "      <td>12501.666667</td>\n",
       "      <td>11909.666667</td>\n",
       "      <td>2.827730</td>\n",
       "      <td>2.603487</td>\n",
       "      <td>10.0</td>\n",
       "      <td>P41159</td>\n",
       "      <td>2.059451</td>\n",
       "    </tr>\n",
       "    <tr>\n",
       "      <th>5</th>\n",
       "      <td>P68871ups|HBB_HUMAN_UPS</td>\n",
       "      <td>48142.000000</td>\n",
       "      <td>39346.000000</td>\n",
       "      <td>12399.666667</td>\n",
       "      <td>12064.000000</td>\n",
       "      <td>3.882524</td>\n",
       "      <td>3.261439</td>\n",
       "      <td>10.0</td>\n",
       "      <td>P68871</td>\n",
       "      <td>2.623932</td>\n",
       "    </tr>\n",
       "    <tr>\n",
       "      <th>6</th>\n",
       "      <td>P02144ups|MYG_HUMAN_UPS</td>\n",
       "      <td>6118.000000</td>\n",
       "      <td>6118.000000</td>\n",
       "      <td>8067.666667</td>\n",
       "      <td>8067.666667</td>\n",
       "      <td>0.758336</td>\n",
       "      <td>0.758336</td>\n",
       "      <td>1.0</td>\n",
       "      <td>P02144</td>\n",
       "      <td>1.140764</td>\n",
       "    </tr>\n",
       "    <tr>\n",
       "      <th>7</th>\n",
       "      <td>P04040ups|CATA_HUMAN_UPS</td>\n",
       "      <td>40783.666667</td>\n",
       "      <td>35444.000000</td>\n",
       "      <td>48598.000000</td>\n",
       "      <td>42211.333333</td>\n",
       "      <td>0.839205</td>\n",
       "      <td>0.839680</td>\n",
       "      <td>1.0</td>\n",
       "      <td>P04040</td>\n",
       "      <td>0.529186</td>\n",
       "    </tr>\n",
       "    <tr>\n",
       "      <th>8</th>\n",
       "      <td>P63165ups|SUMO1_HUMAN_UPS</td>\n",
       "      <td>1740.000000</td>\n",
       "      <td>1740.000000</td>\n",
       "      <td>2482.000000</td>\n",
       "      <td>2482.000000</td>\n",
       "      <td>0.701048</td>\n",
       "      <td>0.701048</td>\n",
       "      <td>1.0</td>\n",
       "      <td>P63165</td>\n",
       "      <td>0.353077</td>\n",
       "    </tr>\n",
       "    <tr>\n",
       "      <th>9</th>\n",
       "      <td>Q06830ups|PRDX1_HUMAN_UPS</td>\n",
       "      <td>8234.333333</td>\n",
       "      <td>8234.333333</td>\n",
       "      <td>11774.333333</td>\n",
       "      <td>11610.333333</td>\n",
       "      <td>0.699346</td>\n",
       "      <td>0.709225</td>\n",
       "      <td>1.0</td>\n",
       "      <td>Q06830</td>\n",
       "      <td>0.204661</td>\n",
       "    </tr>\n",
       "    <tr>\n",
       "      <th>10</th>\n",
       "      <td>P12081ups|SYHC_HUMAN_UPS</td>\n",
       "      <td>3091.000000</td>\n",
       "      <td>3091.000000</td>\n",
       "      <td>16261.666667</td>\n",
       "      <td>16261.666667</td>\n",
       "      <td>0.190079</td>\n",
       "      <td>0.190079</td>\n",
       "      <td>0.1</td>\n",
       "      <td>P12081</td>\n",
       "      <td>0.594955</td>\n",
       "    </tr>\n",
       "  </tbody>\n",
       "</table>\n",
       "</div>"
      ],
      "text/plain": [
       "                      protein  average_intensity_with_UPS2  \\\n",
       "0    P00915ups|CAH1_HUMAN_UPS                 51605.000000   \n",
       "1    P00918ups|CAH2_HUMAN_UPS                 50845.666667   \n",
       "2     P01031ups|CO5_HUMAN_UPS                 38038.333333   \n",
       "3    P02768ups|ALBU_HUMAN_UPS                115951.666667   \n",
       "4     P41159ups|LEP_HUMAN_UPS                 35351.333333   \n",
       "5     P68871ups|HBB_HUMAN_UPS                 48142.000000   \n",
       "6     P02144ups|MYG_HUMAN_UPS                  6118.000000   \n",
       "7    P04040ups|CATA_HUMAN_UPS                 40783.666667   \n",
       "8   P63165ups|SUMO1_HUMAN_UPS                  1740.000000   \n",
       "9   Q06830ups|PRDX1_HUMAN_UPS                  8234.333333   \n",
       "10   P12081ups|SYHC_HUMAN_UPS                  3091.000000   \n",
       "\n",
       "    average_intensity_without_UPS2  average_intensity_with_UPS1  \\\n",
       "0                     46840.000000                  9993.333333   \n",
       "1                     44935.333333                 19678.666667   \n",
       "2                     21637.666667                 16776.000000   \n",
       "3                     85794.666667                 55959.000000   \n",
       "4                     31006.666667                 12501.666667   \n",
       "5                     39346.000000                 12399.666667   \n",
       "6                      6118.000000                  8067.666667   \n",
       "7                     35444.000000                 48598.000000   \n",
       "8                      1740.000000                  2482.000000   \n",
       "9                      8234.333333                 11774.333333   \n",
       "10                     3091.000000                 16261.666667   \n",
       "\n",
       "    average_intensity_without_UPS1  ratio_with  ratio_without  expected_ratio  \\\n",
       "0                      9993.333333    5.163943       4.687125            10.0   \n",
       "1                     19202.666667    2.583796       2.340057            10.0   \n",
       "2                     13078.333333    2.267426       1.654467            10.0   \n",
       "3                     38779.333333    2.072083       2.212381            10.0   \n",
       "4                     11909.666667    2.827730       2.603487            10.0   \n",
       "5                     12064.000000    3.882524       3.261439            10.0   \n",
       "6                      8067.666667    0.758336       0.758336             1.0   \n",
       "7                     42211.333333    0.839205       0.839680             1.0   \n",
       "8                      2482.000000    0.701048       0.701048             1.0   \n",
       "9                     11610.333333    0.699346       0.709225             1.0   \n",
       "10                    16261.666667    0.190079       0.190079             0.1   \n",
       "\n",
       "   protein_code  mq_ratio  \n",
       "0        P00915  6.718963  \n",
       "1        P00918  3.008845  \n",
       "2        P01031  0.633459  \n",
       "3        P02768  2.743569  \n",
       "4        P41159  2.059451  \n",
       "5        P68871  2.623932  \n",
       "6        P02144  1.140764  \n",
       "7        P04040  0.529186  \n",
       "8        P63165  0.353077  \n",
       "9        Q06830  0.204661  \n",
       "10       P12081  0.594955  "
      ]
     },
     "execution_count": 103,
     "metadata": {},
     "output_type": "execute_result"
    }
   ],
   "source": [
    "combined_ratios_df"
   ]
  },
  {
   "cell_type": "code",
   "execution_count": 99,
   "metadata": {},
   "outputs": [
    {
     "data": {
      "text/plain": [
       "0.652762504346444"
      ]
     },
     "execution_count": 99,
     "metadata": {},
     "output_type": "execute_result"
    }
   ],
   "source": [
    "combined_ratios_df['mq_ratio'].corr(combined_ratios_df['expected_ratio'])"
   ]
  },
  {
   "cell_type": "markdown",
   "metadata": {},
   "source": [
    "#### plot the comparison"
   ]
  },
  {
   "cell_type": "code",
   "execution_count": 105,
   "metadata": {},
   "outputs": [
    {
     "data": {
      "image/png": "[encoded data removed]",
      "text/plain": [
       "<Figure size 1080x432 with 1 Axes>"
      ]
     },
     "metadata": {
      "needs_background": "light"
     },
     "output_type": "display_data"
    }
   ],
   "source": [
    "labels = combined_ratios_df.protein_code\n",
    "ratio_with = np.log10(combined_ratios_df.ratio_with)\n",
    "ratio_without = np.log10(combined_ratios_df.ratio_without)\n",
    "mq_ratio = np.log10(combined_ratios_df.mq_ratio)\n",
    "expected_ratio = np.log10(combined_ratios_df.expected_ratio)\n",
    "\n",
    "x = np.arange(len(labels))  # the label locations\n",
    "width = 0.1  # the width of the bars\n",
    "\n",
    "f, ax = plt.subplots()\n",
    "f.set_figheight(6)\n",
    "f.set_figwidth(15)\n",
    "\n",
    "plt.margins(0.06)\n",
    "plt.title('')\n",
    "\n",
    "rects1 = ax.bar(x - 2*width, ratio_with, width, label='with saturation correction')\n",
    "rects2 = ax.bar(x - width, ratio_without, width, label='without saturation correction')\n",
    "rects3 = ax.bar(x, mq_ratio, width, label='MaxQuant')\n",
    "rects4 = ax.bar(x + width, expected_ratio, width, label='expected ratio')\n",
    "\n",
    "# add text for labels, title and custom x-axis tick labels, etc.\n",
    "ax.set_ylabel('log10(UPS2/UPS1)')\n",
    "ax.set_title('ratio of protein intensity')\n",
    "ax.set_xticks(x)\n",
    "ax.set_xticklabels(labels, rotation=70, ha='right')\n",
    "ax.legend()\n",
    "\n",
    "# create offset transform (x=5pt)\n",
    "from matplotlib.transforms import ScaledTranslation\n",
    "dx, dy = 5, 0\n",
    "offset = ScaledTranslation(dx/f.dpi, dy/f.dpi, scale_trans=f.dpi_scale_trans)\n",
    "\n",
    "# apply offset transform to all xticklabels\n",
    "for label in ax.xaxis.get_majorticklabels():\n",
    "    label.set_transform(label.get_transform() + offset)\n",
    "    \n",
    "plt.show()"
   ]
  },
  {
   "cell_type": "markdown",
   "metadata": {},
   "source": [
    "### compare relative intensities of top-3 peptides for each protein in UPS2 relative to a protein that was not corrected for saturation"
   ]
  },
  {
   "cell_type": "code",
   "execution_count": null,
   "metadata": {},
   "outputs": [],
   "source": [
    "ratios_df = combined_df[['protein','average_intensity_with','average_intensity_without','intensity_adjusted']].copy()\n"
   ]
  },
  {
   "cell_type": "markdown",
   "metadata": {},
   "source": [
    "#### use for the intensity reference the most intense protein that was not corrected for saturation"
   ]
  },
  {
   "cell_type": "code",
   "execution_count": null,
   "metadata": {},
   "outputs": [],
   "source": [
    "reference_row = combined_df[combined_df.protein.str.startswith('Q06830')].iloc[0]\n",
    "reference_intensity = reference_row.average_intensity_with"
   ]
  },
  {
   "cell_type": "code",
   "execution_count": null,
   "metadata": {},
   "outputs": [],
   "source": [
    "ratios_df['ratio_with'] = ratios_df.average_intensity_with / reference_intensity\n",
    "ratios_df['ratio_without'] = ratios_df.average_intensity_without / reference_intensity"
   ]
  },
  {
   "cell_type": "code",
   "execution_count": null,
   "metadata": {},
   "outputs": [],
   "source": [
    "ratios_df['expected_ratio'] = ratios_df.apply(lambda row: (ups2_d[row.protein.split('ups')[0]] / 1000) / (ups2_d[reference_row.protein.split('ups')[0]] / 1000), axis=1)"
   ]
  },
  {
   "cell_type": "code",
   "execution_count": null,
   "metadata": {},
   "outputs": [],
   "source": [
    "ratios_df"
   ]
  },
  {
   "cell_type": "code",
   "execution_count": null,
   "metadata": {},
   "outputs": [],
   "source": [
    "ratios_df['ratio_with'].corr(ratios_df['expected_ratio'])"
   ]
  },
  {
   "cell_type": "code",
   "execution_count": null,
   "metadata": {},
   "outputs": [],
   "source": [
    "ratios_df['ratio_without'].corr(ratios_df['expected_ratio'])"
   ]
  },
  {
   "cell_type": "code",
   "execution_count": null,
   "metadata": {},
   "outputs": [],
   "source": []
  }
 ],
 "metadata": {
  "kernelspec": {
   "display_name": "Python 3",
   "language": "python",
   "name": "python3"
  },
  "language_info": {
   "codemirror_mode": {
    "name": "ipython",
    "version": 3
   },
   "file_extension": ".py",
   "mimetype": "text/x-python",
   "name": "python",
   "nbconvert_exporter": "python",
   "pygments_lexer": "ipython3",
   "version": "3.8.5"
  }
 },
 "nbformat": 4,
 "nbformat_minor": 4
}
