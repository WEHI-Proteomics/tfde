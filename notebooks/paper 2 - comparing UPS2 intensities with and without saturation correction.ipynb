{
 "cells": [
  {
   "cell_type": "code",
   "execution_count": 1,
   "metadata": {},
   "outputs": [],
   "source": [
    "import pandas as pd\n",
    "import numpy as np\n",
    "import os\n",
    "import matplotlib.pyplot as plt\n",
    "import pickle\n",
    "import seaborn as sns\n",
    "import json\n",
    "from os.path import expanduser"
   ]
  },
  {
   "cell_type": "code",
   "execution_count": 2,
   "metadata": {},
   "outputs": [],
   "source": [
    "experiment_name = 'P3830'\n",
    "feature_detection_method = 'pasef'"
   ]
  },
  {
   "cell_type": "code",
   "execution_count": 3,
   "metadata": {},
   "outputs": [],
   "source": [
    "MAXIMUM_Q_VALUE = 0.01"
   ]
  },
  {
   "cell_type": "code",
   "execution_count": 4,
   "metadata": {},
   "outputs": [],
   "source": [
    "BASE_RESULTS_DIR = '/media/big-ssd'\n",
    "# BASE_RESULTS_DIR = '/Users/darylwilding-mcbride/Downloads'.format(experiment_name)"
   ]
  },
  {
   "cell_type": "markdown",
   "metadata": {},
   "source": [
    "#### identifications with correction for saturation"
   ]
  },
  {
   "cell_type": "code",
   "execution_count": 5,
   "metadata": {},
   "outputs": [],
   "source": [
    "IDENTIFICATIONS_WITH_CS_DIR = '{}/results-P3830/P3830-results-cs-true-fmdw-false-2021-05-19-13-53-24/identifications-pasef'.format(BASE_RESULTS_DIR)\n",
    "IDENTIFICATIONS_WITH_CS_FILE = '{}/exp-{}-identifications-{}-recalibrated.pkl'.format(IDENTIFICATIONS_WITH_CS_DIR, experiment_name, feature_detection_method)"
   ]
  },
  {
   "cell_type": "code",
   "execution_count": 6,
   "metadata": {},
   "outputs": [],
   "source": [
    "# load the identifications\n",
    "with open(IDENTIFICATIONS_WITH_CS_FILE, 'rb') as handle:\n",
    "    d = pickle.load(handle)\n",
    "identifications_with_cs_df = d['identifications_df']\n",
    "identifications_with_cs_df = identifications_with_cs_df[(identifications_with_cs_df['percolator q-value'] <= MAXIMUM_Q_VALUE) & (~identifications_with_cs_df['protein id'].str.contains('YEAST'))]"
   ]
  },
  {
   "cell_type": "code",
   "execution_count": 7,
   "metadata": {},
   "outputs": [
    {
     "data": {
      "text/html": [
       "<div>\n",
       "<style scoped>\n",
       "    .dataframe tbody tr th:only-of-type {\n",
       "        vertical-align: middle;\n",
       "    }\n",
       "\n",
       "    .dataframe tbody tr th {\n",
       "        vertical-align: top;\n",
       "    }\n",
       "\n",
       "    .dataframe thead th {\n",
       "        text-align: right;\n",
       "    }\n",
       "</style>\n",
       "<table border=\"1\" class=\"dataframe\">\n",
       "  <thead>\n",
       "    <tr style=\"text-align: right;\">\n",
       "      <th></th>\n",
       "      <th>counts</th>\n",
       "      <th>%</th>\n",
       "    </tr>\n",
       "  </thead>\n",
       "  <tbody>\n",
       "    <tr>\n",
       "      <th>monoisotopic_not_saturated</th>\n",
       "      <td>218</td>\n",
       "      <td>79.9</td>\n",
       "    </tr>\n",
       "    <tr>\n",
       "      <th>monoisotopic_saturated_adjusted</th>\n",
       "      <td>54</td>\n",
       "      <td>19.8</td>\n",
       "    </tr>\n",
       "    <tr>\n",
       "      <th>no_nonsaturated_isotopes</th>\n",
       "      <td>1</td>\n",
       "      <td>0.4</td>\n",
       "    </tr>\n",
       "  </tbody>\n",
       "</table>\n",
       "</div>"
      ],
      "text/plain": [
       "                                 counts     %\n",
       "monoisotopic_not_saturated          218  79.9\n",
       "monoisotopic_saturated_adjusted      54  19.8\n",
       "no_nonsaturated_isotopes              1   0.4"
      ]
     },
     "execution_count": 7,
     "metadata": {},
     "output_type": "execute_result"
    }
   ],
   "source": [
    "s1 = identifications_with_cs_df.mono_intensity_adjustment_outcome.value_counts(normalize=False).rename('counts', inplace=True)\n",
    "s2 = round(identifications_with_cs_df.mono_intensity_adjustment_outcome.value_counts(normalize=True)*100,1).rename('%', inplace=True)\n",
    "pd.concat([s1, s2], axis=1)"
   ]
  },
  {
   "cell_type": "code",
   "execution_count": 8,
   "metadata": {},
   "outputs": [
    {
     "name": "stdout",
     "output_type": "stream",
     "text": [
      "number of unique proteins: 19\n"
     ]
    }
   ],
   "source": [
    "print('number of unique proteins: {}'.format(len(identifications_with_cs_df['protein id'].unique())))"
   ]
  },
  {
   "cell_type": "markdown",
   "metadata": {},
   "source": [
    "#### identifications without correction for saturation"
   ]
  },
  {
   "cell_type": "code",
   "execution_count": 9,
   "metadata": {},
   "outputs": [],
   "source": [
    "IDENTIFICATIONS_WITHOUT_CS_DIR = '{}/results-P3830/P3830-results-cs-false-fmdw-false-2021-05-19-17-54-56/identifications-pasef'.format(BASE_RESULTS_DIR)\n",
    "IDENTIFICATIONS_WITHOUT_CS_FILE = '{}/exp-{}-identifications-{}-recalibrated.pkl'.format(IDENTIFICATIONS_WITHOUT_CS_DIR, experiment_name, feature_detection_method)"
   ]
  },
  {
   "cell_type": "code",
   "execution_count": 10,
   "metadata": {},
   "outputs": [],
   "source": [
    "# load the identifications\n",
    "with open(IDENTIFICATIONS_WITHOUT_CS_FILE, 'rb') as handle:\n",
    "    d = pickle.load(handle)\n",
    "identifications_without_cs_df = d['identifications_df']\n",
    "identifications_without_cs_df = identifications_without_cs_df[(identifications_without_cs_df['percolator q-value'] <= MAXIMUM_Q_VALUE) & (~identifications_without_cs_df['protein id'].str.contains('YEAST'))]"
   ]
  },
  {
   "cell_type": "code",
   "execution_count": 11,
   "metadata": {},
   "outputs": [
    {
     "name": "stdout",
     "output_type": "stream",
     "text": [
      "number of unique proteins: 19\n"
     ]
    }
   ],
   "source": [
    "print('number of unique proteins: {}'.format(len(identifications_without_cs_df['protein id'].unique())))"
   ]
  },
  {
   "cell_type": "markdown",
   "metadata": {},
   "source": [
    "#### using the Top3 approach to determine protein quanitification"
   ]
  },
  {
   "cell_type": "code",
   "execution_count": 12,
   "metadata": {},
   "outputs": [],
   "source": [
    "ups2_proteins_l = []\n",
    "\n",
    "ups2_proteins_l.append({'uniprot':'P00915', 'fmoles':50000})\n",
    "ups2_proteins_l.append({'uniprot':'P00918', 'fmoles':50000})\n",
    "ups2_proteins_l.append({'uniprot':'P01031', 'fmoles':50000})\n",
    "ups2_proteins_l.append({'uniprot':'P69905', 'fmoles':50000})\n",
    "ups2_proteins_l.append({'uniprot':'P68871', 'fmoles':50000})\n",
    "ups2_proteins_l.append({'uniprot':'P41159', 'fmoles':50000})\n",
    "ups2_proteins_l.append({'uniprot':'P02768', 'fmoles':50000})\n",
    "ups2_proteins_l.append({'uniprot':'P62988', 'fmoles':50000})\n",
    "\n",
    "ups2_proteins_l.append({'uniprot':'P04040', 'fmoles':5000})\n",
    "ups2_proteins_l.append({'uniprot':'P00167', 'fmoles':5000})\n",
    "ups2_proteins_l.append({'uniprot':'P01133', 'fmoles':5000})\n",
    "ups2_proteins_l.append({'uniprot':'P02144', 'fmoles':5000})\n",
    "ups2_proteins_l.append({'uniprot':'P15559', 'fmoles':5000})\n",
    "ups2_proteins_l.append({'uniprot':'P62937', 'fmoles':5000})\n",
    "ups2_proteins_l.append({'uniprot':'Q06830', 'fmoles':5000})\n",
    "ups2_proteins_l.append({'uniprot':'P63165', 'fmoles':5000})\n",
    "\n",
    "ups2_proteins_l.append({'uniprot':'P00709', 'fmoles':500})\n",
    "ups2_proteins_l.append({'uniprot':'P06732', 'fmoles':500})\n",
    "ups2_proteins_l.append({'uniprot':'P12081', 'fmoles':500})\n",
    "ups2_proteins_l.append({'uniprot':'P61626', 'fmoles':500})\n",
    "ups2_proteins_l.append({'uniprot':'Q15843', 'fmoles':500})\n",
    "ups2_proteins_l.append({'uniprot':'P02753', 'fmoles':500})\n",
    "ups2_proteins_l.append({'uniprot':'P16083', 'fmoles':500})\n",
    "ups2_proteins_l.append({'uniprot':'P63279', 'fmoles':500})\n",
    "\n",
    "ups2_proteins_l.append({'uniprot':'P01008', 'fmoles':50})\n",
    "ups2_proteins_l.append({'uniprot':'P61769', 'fmoles':50})\n",
    "ups2_proteins_l.append({'uniprot':'P55957', 'fmoles':50})\n",
    "ups2_proteins_l.append({'uniprot':'O76070', 'fmoles':50})\n",
    "ups2_proteins_l.append({'uniprot':'P08263', 'fmoles':50})\n",
    "ups2_proteins_l.append({'uniprot':'P01344', 'fmoles':50})\n",
    "ups2_proteins_l.append({'uniprot':'P01127', 'fmoles':50})\n",
    "ups2_proteins_l.append({'uniprot':'P10599', 'fmoles':50})\n",
    "\n",
    "ups2_proteins_l.append({'uniprot':'P99999', 'fmoles':5})\n",
    "ups2_proteins_l.append({'uniprot':'P06396', 'fmoles':5})\n",
    "ups2_proteins_l.append({'uniprot':'P09211', 'fmoles':5})\n",
    "ups2_proteins_l.append({'uniprot':'P01112', 'fmoles':5})\n",
    "ups2_proteins_l.append({'uniprot':'P01579', 'fmoles':5})\n",
    "ups2_proteins_l.append({'uniprot':'P02787', 'fmoles':5})\n",
    "ups2_proteins_l.append({'uniprot':'O00762', 'fmoles':5})\n",
    "ups2_proteins_l.append({'uniprot':'P51965', 'fmoles':5})\n",
    "\n",
    "ups2_proteins_l.append({'uniprot':'P08758', 'fmoles':0.5})\n",
    "ups2_proteins_l.append({'uniprot':'P02741', 'fmoles':0.5})\n",
    "ups2_proteins_l.append({'uniprot':'P05413', 'fmoles':0.5})\n",
    "ups2_proteins_l.append({'uniprot':'P10145', 'fmoles':0.5})\n",
    "ups2_proteins_l.append({'uniprot':'P02788', 'fmoles':0.5})\n",
    "ups2_proteins_l.append({'uniprot':'P10636-8', 'fmoles':0.5})\n",
    "ups2_proteins_l.append({'uniprot':'P00441', 'fmoles':0.5})\n",
    "ups2_proteins_l.append({'uniprot':'P01375', 'fmoles':0.5})\n",
    "\n",
    "ups2_d = {}\n",
    "for p in ups2_proteins_l:\n",
    "    ups2_d[p['uniprot']] = p['fmoles']"
   ]
  },
  {
   "cell_type": "markdown",
   "metadata": {},
   "source": [
    "#### with correction"
   ]
  },
  {
   "cell_type": "code",
   "execution_count": 13,
   "metadata": {},
   "outputs": [
    {
     "data": {
      "text/plain": [
       "array(['P02768ups|ALBU_HUMAN_UPS', 'P00915ups|CAH1_HUMAN_UPS',\n",
       "       'P00918ups|CAH2_HUMAN_UPS', 'P68871ups|HBB_HUMAN_UPS',\n",
       "       'P41159ups|LEP_HUMAN_UPS', 'P69905ups|HBA_HUMAN_UPS',\n",
       "       'P01031ups|CO5_HUMAN_UPS', 'P62988ups|UBIQ_HUMAN_UPS',\n",
       "       'Q06830ups|PRDX1_HUMAN_UPS', 'P04040ups|CATA_HUMAN_UPS',\n",
       "       'P02144ups|MYG_HUMAN_UPS', 'P00167ups|CYB5_HUMAN_UPS',\n",
       "       'P12081ups|SYHC_HUMAN_UPS',\n",
       "       'P62937ups|PPIA_HUMAN_UPS,P62988ups|UBIQ_HUMAN_UPS,O76070ups|SYUG_HUMAN_UPS',\n",
       "       'P15559ups|NQO1_HUMAN_UPS', 'P06732ups|KCRM_HUMAN_UPS',\n",
       "       'P00709ups|LALBA_HUMAN_UPS', 'P63165ups|SUMO1_HUMAN_UPS',\n",
       "       'P62937ups|PPIA_HUMAN_UPS'], dtype=object)"
      ]
     },
     "execution_count": 13,
     "metadata": {},
     "output_type": "execute_result"
    }
   ],
   "source": [
    "identifications_with_cs_df['protein id'].unique()"
   ]
  },
  {
   "cell_type": "code",
   "execution_count": 14,
   "metadata": {},
   "outputs": [
    {
     "name": "stdout",
     "output_type": "stream",
     "text": [
      "didn't have three peptides for P00167ups|CYB5_HUMAN_UPS\n",
      "didn't have three peptides for P00709ups|LALBA_HUMAN_UPS\n",
      "didn't have three peptides for P06732ups|KCRM_HUMAN_UPS\n",
      "didn't have three peptides for P62937ups|PPIA_HUMAN_UPS\n",
      "didn't have three peptides for P62988ups|UBIQ_HUMAN_UPS\n"
     ]
    }
   ],
   "source": [
    "# find the three most intense peptides for each protein\n",
    "top3_l = []\n",
    "for group_name,group_df in identifications_with_cs_df.groupby('protein id'):\n",
    "    df = group_df.sort_values(by=['feature_intensity'], ascending=False, inplace=False)\n",
    "    top3_df = df.head(n=3)\n",
    "    if len(top3_df) == 3:\n",
    "        uniprot_id = group_name.split('ups')[0]\n",
    "        pmoles = ups2_d[uniprot_id] / 1000\n",
    "        average_intensity = top3_df.feature_intensity.mean()\n",
    "        signal_response_factor = average_intensity / pmoles\n",
    "        peptide_count = len(df)\n",
    "        intensity_adjusted = 'monoisotopic_saturated_adjusted' in list(top3_df.mono_intensity_adjustment_outcome)\n",
    "        attribs_d = top3_df[['feature_id','sequence','charge','feature_intensity']].to_dict('records')\n",
    "        top3_l.append({'protein':group_name, 'pmoles':pmoles, 'average_intensity':average_intensity, 'signal_response_factor':signal_response_factor, 'peptide_count':peptide_count, 'intensity_adjusted':intensity_adjusted, 'attribs_d':attribs_d})\n",
    "    else:\n",
    "        print('didn\\'t have three peptides for {}'.format(group_name))\n",
    "top3_with_df = pd.DataFrame(top3_l)"
   ]
  },
  {
   "cell_type": "code",
   "execution_count": 15,
   "metadata": {},
   "outputs": [
    {
     "data": {
      "text/plain": [
       "2319.0333333333333"
      ]
     },
     "execution_count": 15,
     "metadata": {},
     "output_type": "execute_result"
    }
   ],
   "source": [
    "# using Serum albumin (P02768) as an internal reference\n",
    "universal_signal_response_factor = top3_with_df[top3_with_df.protein.str.startswith('P02768')].iloc[0].signal_response_factor\n",
    "universal_signal_response_factor"
   ]
  },
  {
   "cell_type": "code",
   "execution_count": 16,
   "metadata": {},
   "outputs": [],
   "source": [
    "top3_with_df['calculated_pmoles'] = top3_with_df.average_intensity / universal_signal_response_factor"
   ]
  },
  {
   "cell_type": "code",
   "execution_count": 17,
   "metadata": {},
   "outputs": [
    {
     "data": {
      "text/plain": [
       "1.1493894200596158"
      ]
     },
     "execution_count": 17,
     "metadata": {},
     "output_type": "execute_result"
    }
   ],
   "source": [
    "# calculate the CV for the signal response factor\n",
    "cv = top3_with_df.signal_response_factor.std() / top3_with_df.signal_response_factor.mean()\n",
    "cv"
   ]
  },
  {
   "cell_type": "code",
   "execution_count": 18,
   "metadata": {},
   "outputs": [
    {
     "data": {
      "text/plain": [
       "'64.3% of proteins had at least one of their top-3 peptides adjusted for saturation'"
      ]
     },
     "execution_count": 18,
     "metadata": {},
     "output_type": "execute_result"
    }
   ],
   "source": [
    "'{}% of proteins had at least one of their top-3 peptides adjusted for saturation'.format(round(len(top3_with_df[(top3_with_df.intensity_adjusted == True)]) / len(top3_with_df) * 100,1))"
   ]
  },
  {
   "cell_type": "markdown",
   "metadata": {},
   "source": [
    "#### without correction"
   ]
  },
  {
   "cell_type": "code",
   "execution_count": 19,
   "metadata": {},
   "outputs": [
    {
     "name": "stdout",
     "output_type": "stream",
     "text": [
      "didn't have three peptides for P00167ups|CYB5_HUMAN_UPS\n",
      "didn't have three peptides for P00709ups|LALBA_HUMAN_UPS\n",
      "didn't have three peptides for P06732ups|KCRM_HUMAN_UPS\n",
      "didn't have three peptides for P62937ups|PPIA_HUMAN_UPS\n",
      "didn't have three peptides for P62988ups|UBIQ_HUMAN_UPS\n"
     ]
    }
   ],
   "source": [
    "# find the three most intense peptides for each protein\n",
    "top3_l = []\n",
    "for group_name,group_df in identifications_without_cs_df.groupby('protein id'):\n",
    "    df = group_df.sort_values(by=['feature_intensity'], ascending=False, inplace=False)\n",
    "    top3_df = df.head(n=3)\n",
    "    if len(top3_df) == 3:\n",
    "        uniprot_id = group_name.split('ups')[0]\n",
    "        pmoles = ups2_d[uniprot_id] / 1000\n",
    "        average_intensity = top3_df.feature_intensity.mean()\n",
    "        signal_response_factor = average_intensity / pmoles\n",
    "        peptide_count = len(df)\n",
    "        attribs_d = top3_df[['feature_id','sequence','charge','feature_intensity']].to_dict('records')\n",
    "        top3_l.append({'protein':group_name, 'pmoles':pmoles, 'average_intensity':average_intensity, 'signal_response_factor':signal_response_factor, 'peptide_count':peptide_count, 'attribs_d':attribs_d})\n",
    "    else:\n",
    "        print('didn\\'t have three peptides for {}'.format(group_name))\n",
    "top3_without_df = pd.DataFrame(top3_l)"
   ]
  },
  {
   "cell_type": "code",
   "execution_count": 20,
   "metadata": {},
   "outputs": [
    {
     "data": {
      "text/plain": [
       "1715.8933333333334"
      ]
     },
     "execution_count": 20,
     "metadata": {},
     "output_type": "execute_result"
    }
   ],
   "source": [
    "# using Serum albumin (P02768) as an internal reference\n",
    "universal_signal_response_factor = top3_without_df[top3_without_df.protein.str.startswith('P02768')].iloc[0].signal_response_factor\n",
    "universal_signal_response_factor"
   ]
  },
  {
   "cell_type": "code",
   "execution_count": 21,
   "metadata": {},
   "outputs": [],
   "source": [
    "top3_without_df['calculated_pmoles'] = top3_without_df.average_intensity / universal_signal_response_factor"
   ]
  },
  {
   "cell_type": "code",
   "execution_count": 22,
   "metadata": {},
   "outputs": [
    {
     "data": {
      "text/plain": [
       "1.1731338296562206"
      ]
     },
     "execution_count": 22,
     "metadata": {},
     "output_type": "execute_result"
    }
   ],
   "source": [
    "# calculate the CV for the signal response factor\n",
    "cv = top3_without_df.signal_response_factor.std() / top3_without_df.signal_response_factor.mean()\n",
    "cv"
   ]
  },
  {
   "cell_type": "markdown",
   "metadata": {},
   "source": [
    "#### calculate correlation"
   ]
  },
  {
   "cell_type": "code",
   "execution_count": 23,
   "metadata": {},
   "outputs": [],
   "source": [
    "combined_df = pd.merge(top3_with_df, top3_without_df, how='inner', left_on=['protein'], right_on=['protein'], suffixes=['_with','_without'])"
   ]
  },
  {
   "cell_type": "code",
   "execution_count": 24,
   "metadata": {},
   "outputs": [
    {
     "data": {
      "text/plain": [
       "14"
      ]
     },
     "execution_count": 24,
     "metadata": {},
     "output_type": "execute_result"
    }
   ],
   "source": [
    "len(combined_df)"
   ]
  },
  {
   "cell_type": "code",
   "execution_count": 25,
   "metadata": {},
   "outputs": [
    {
     "data": {
      "text/html": [
       "<div>\n",
       "<style scoped>\n",
       "    .dataframe tbody tr th:only-of-type {\n",
       "        vertical-align: middle;\n",
       "    }\n",
       "\n",
       "    .dataframe tbody tr th {\n",
       "        vertical-align: top;\n",
       "    }\n",
       "\n",
       "    .dataframe thead th {\n",
       "        text-align: right;\n",
       "    }\n",
       "</style>\n",
       "<table border=\"1\" class=\"dataframe\">\n",
       "  <thead>\n",
       "    <tr style=\"text-align: right;\">\n",
       "      <th></th>\n",
       "      <th>pmoles_with</th>\n",
       "      <th>average_intensity_with</th>\n",
       "      <th>average_intensity_without</th>\n",
       "      <th>calculated_pmoles_with</th>\n",
       "      <th>calculated_pmoles_without</th>\n",
       "    </tr>\n",
       "  </thead>\n",
       "  <tbody>\n",
       "    <tr>\n",
       "      <th>0</th>\n",
       "      <td>50.0</td>\n",
       "      <td>51605.000000</td>\n",
       "      <td>46840.000000</td>\n",
       "      <td>22.252806</td>\n",
       "      <td>27.297734</td>\n",
       "    </tr>\n",
       "    <tr>\n",
       "      <th>4</th>\n",
       "      <td>50.0</td>\n",
       "      <td>115951.666667</td>\n",
       "      <td>85794.666667</td>\n",
       "      <td>50.000000</td>\n",
       "      <td>50.000000</td>\n",
       "    </tr>\n",
       "    <tr>\n",
       "      <th>2</th>\n",
       "      <td>50.0</td>\n",
       "      <td>38038.333333</td>\n",
       "      <td>21637.666667</td>\n",
       "      <td>16.402668</td>\n",
       "      <td>12.610147</td>\n",
       "    </tr>\n",
       "    <tr>\n",
       "      <th>11</th>\n",
       "      <td>50.0</td>\n",
       "      <td>48142.000000</td>\n",
       "      <td>39346.000000</td>\n",
       "      <td>20.759512</td>\n",
       "      <td>22.930330</td>\n",
       "    </tr>\n",
       "    <tr>\n",
       "      <th>1</th>\n",
       "      <td>50.0</td>\n",
       "      <td>50845.666667</td>\n",
       "      <td>44935.333333</td>\n",
       "      <td>21.925371</td>\n",
       "      <td>26.187720</td>\n",
       "    </tr>\n",
       "    <tr>\n",
       "      <th>12</th>\n",
       "      <td>50.0</td>\n",
       "      <td>18814.666667</td>\n",
       "      <td>18814.666667</td>\n",
       "      <td>8.113151</td>\n",
       "      <td>10.964940</td>\n",
       "    </tr>\n",
       "    <tr>\n",
       "      <th>5</th>\n",
       "      <td>5.0</td>\n",
       "      <td>40783.666667</td>\n",
       "      <td>35444.000000</td>\n",
       "      <td>17.586494</td>\n",
       "      <td>20.656296</td>\n",
       "    </tr>\n",
       "    <tr>\n",
       "      <th>3</th>\n",
       "      <td>5.0</td>\n",
       "      <td>6118.000000</td>\n",
       "      <td>6118.000000</td>\n",
       "      <td>2.638168</td>\n",
       "      <td>3.565490</td>\n",
       "    </tr>\n",
       "    <tr>\n",
       "      <th>9</th>\n",
       "      <td>5.0</td>\n",
       "      <td>3289.000000</td>\n",
       "      <td>3289.000000</td>\n",
       "      <td>1.418263</td>\n",
       "      <td>1.916786</td>\n",
       "    </tr>\n",
       "    <tr>\n",
       "      <th>10</th>\n",
       "      <td>5.0</td>\n",
       "      <td>1740.000000</td>\n",
       "      <td>1740.000000</td>\n",
       "      <td>0.750313</td>\n",
       "      <td>1.014049</td>\n",
       "    </tr>\n",
       "  </tbody>\n",
       "</table>\n",
       "</div>"
      ],
      "text/plain": [
       "    pmoles_with  average_intensity_with  average_intensity_without  \\\n",
       "0          50.0            51605.000000               46840.000000   \n",
       "4          50.0           115951.666667               85794.666667   \n",
       "2          50.0            38038.333333               21637.666667   \n",
       "11         50.0            48142.000000               39346.000000   \n",
       "1          50.0            50845.666667               44935.333333   \n",
       "12         50.0            18814.666667               18814.666667   \n",
       "5           5.0            40783.666667               35444.000000   \n",
       "3           5.0             6118.000000                6118.000000   \n",
       "9           5.0             3289.000000                3289.000000   \n",
       "10          5.0             1740.000000                1740.000000   \n",
       "\n",
       "    calculated_pmoles_with  calculated_pmoles_without  \n",
       "0                22.252806                  27.297734  \n",
       "4                50.000000                  50.000000  \n",
       "2                16.402668                  12.610147  \n",
       "11               20.759512                  22.930330  \n",
       "1                21.925371                  26.187720  \n",
       "12                8.113151                  10.964940  \n",
       "5                17.586494                  20.656296  \n",
       "3                 2.638168                   3.565490  \n",
       "9                 1.418263                   1.916786  \n",
       "10                0.750313                   1.014049  "
      ]
     },
     "execution_count": 25,
     "metadata": {},
     "output_type": "execute_result"
    }
   ],
   "source": [
    "combined_df[['pmoles_with','average_intensity_with','average_intensity_without','calculated_pmoles_with','calculated_pmoles_without']].sample(n=10)"
   ]
  },
  {
   "cell_type": "code",
   "execution_count": 26,
   "metadata": {},
   "outputs": [
    {
     "data": {
      "text/html": [
       "<div>\n",
       "<style scoped>\n",
       "    .dataframe tbody tr th:only-of-type {\n",
       "        vertical-align: middle;\n",
       "    }\n",
       "\n",
       "    .dataframe tbody tr th {\n",
       "        vertical-align: top;\n",
       "    }\n",
       "\n",
       "    .dataframe thead th {\n",
       "        text-align: right;\n",
       "    }\n",
       "</style>\n",
       "<table border=\"1\" class=\"dataframe\">\n",
       "  <thead>\n",
       "    <tr style=\"text-align: right;\">\n",
       "      <th></th>\n",
       "      <th>protein</th>\n",
       "      <th>pmoles_with</th>\n",
       "      <th>average_intensity_with</th>\n",
       "      <th>signal_response_factor_with</th>\n",
       "      <th>peptide_count_with</th>\n",
       "      <th>intensity_adjusted</th>\n",
       "      <th>attribs_d_with</th>\n",
       "      <th>calculated_pmoles_with</th>\n",
       "      <th>pmoles_without</th>\n",
       "      <th>average_intensity_without</th>\n",
       "      <th>signal_response_factor_without</th>\n",
       "      <th>peptide_count_without</th>\n",
       "      <th>attribs_d_without</th>\n",
       "      <th>calculated_pmoles_without</th>\n",
       "    </tr>\n",
       "  </thead>\n",
       "  <tbody>\n",
       "    <tr>\n",
       "      <th>4</th>\n",
       "      <td>P02768ups|ALBU_HUMAN_UPS</td>\n",
       "      <td>50.0</td>\n",
       "      <td>115951.666667</td>\n",
       "      <td>2319.033333</td>\n",
       "      <td>129</td>\n",
       "      <td>True</td>\n",
       "      <td>[{'feature_id': 4736101, 'sequence': 'MPCAEDYL...</td>\n",
       "      <td>50.0</td>\n",
       "      <td>50.0</td>\n",
       "      <td>85794.666667</td>\n",
       "      <td>1715.893333</td>\n",
       "      <td>127</td>\n",
       "      <td>[{'feature_id': 4736101, 'sequence': 'MPCAEDYL...</td>\n",
       "      <td>50.0</td>\n",
       "    </tr>\n",
       "  </tbody>\n",
       "</table>\n",
       "</div>"
      ],
      "text/plain": [
       "                    protein  pmoles_with  average_intensity_with  \\\n",
       "4  P02768ups|ALBU_HUMAN_UPS         50.0           115951.666667   \n",
       "\n",
       "   signal_response_factor_with  peptide_count_with  intensity_adjusted  \\\n",
       "4                  2319.033333                 129                True   \n",
       "\n",
       "                                      attribs_d_with  calculated_pmoles_with  \\\n",
       "4  [{'feature_id': 4736101, 'sequence': 'MPCAEDYL...                    50.0   \n",
       "\n",
       "   pmoles_without  average_intensity_without  signal_response_factor_without  \\\n",
       "4            50.0               85794.666667                     1715.893333   \n",
       "\n",
       "   peptide_count_without                                  attribs_d_without  \\\n",
       "4                    127  [{'feature_id': 4736101, 'sequence': 'MPCAEDYL...   \n",
       "\n",
       "   calculated_pmoles_without  \n",
       "4                       50.0  "
      ]
     },
     "execution_count": 26,
     "metadata": {},
     "output_type": "execute_result"
    }
   ],
   "source": [
    "combined_df[combined_df.protein.str.startswith('P02768')]"
   ]
  },
  {
   "cell_type": "code",
   "execution_count": 27,
   "metadata": {},
   "outputs": [
    {
     "data": {
      "text/html": [
       "<div>\n",
       "<style scoped>\n",
       "    .dataframe tbody tr th:only-of-type {\n",
       "        vertical-align: middle;\n",
       "    }\n",
       "\n",
       "    .dataframe tbody tr th {\n",
       "        vertical-align: top;\n",
       "    }\n",
       "\n",
       "    .dataframe thead th {\n",
       "        text-align: right;\n",
       "    }\n",
       "</style>\n",
       "<table border=\"1\" class=\"dataframe\">\n",
       "  <thead>\n",
       "    <tr style=\"text-align: right;\">\n",
       "      <th></th>\n",
       "      <th>protein</th>\n",
       "      <th>pmoles_with</th>\n",
       "      <th>average_intensity_with</th>\n",
       "      <th>signal_response_factor_with</th>\n",
       "      <th>peptide_count_with</th>\n",
       "      <th>intensity_adjusted</th>\n",
       "      <th>attribs_d_with</th>\n",
       "      <th>calculated_pmoles_with</th>\n",
       "      <th>pmoles_without</th>\n",
       "      <th>average_intensity_without</th>\n",
       "      <th>signal_response_factor_without</th>\n",
       "      <th>peptide_count_without</th>\n",
       "      <th>attribs_d_without</th>\n",
       "      <th>calculated_pmoles_without</th>\n",
       "    </tr>\n",
       "  </thead>\n",
       "  <tbody>\n",
       "    <tr>\n",
       "      <th>0</th>\n",
       "      <td>P00915ups|CAH1_HUMAN_UPS</td>\n",
       "      <td>50.0</td>\n",
       "      <td>51605.000000</td>\n",
       "      <td>1032.100000</td>\n",
       "      <td>21</td>\n",
       "      <td>True</td>\n",
       "      <td>[{'feature_id': 829701, 'sequence': 'HDTSLKPIS...</td>\n",
       "      <td>22.252806</td>\n",
       "      <td>50.0</td>\n",
       "      <td>46840.000000</td>\n",
       "      <td>936.800000</td>\n",
       "      <td>21</td>\n",
       "      <td>[{'feature_id': 829701, 'sequence': 'HDTSLKPIS...</td>\n",
       "      <td>27.297734</td>\n",
       "    </tr>\n",
       "    <tr>\n",
       "      <th>1</th>\n",
       "      <td>P00918ups|CAH2_HUMAN_UPS</td>\n",
       "      <td>50.0</td>\n",
       "      <td>50845.666667</td>\n",
       "      <td>1016.913333</td>\n",
       "      <td>19</td>\n",
       "      <td>True</td>\n",
       "      <td>[{'feature_id': 2161501, 'sequence': 'YDPSLKPL...</td>\n",
       "      <td>21.925371</td>\n",
       "      <td>50.0</td>\n",
       "      <td>44935.333333</td>\n",
       "      <td>898.706667</td>\n",
       "      <td>19</td>\n",
       "      <td>[{'feature_id': 2161501, 'sequence': 'YDPSLKPL...</td>\n",
       "      <td>26.187720</td>\n",
       "    </tr>\n",
       "    <tr>\n",
       "      <th>2</th>\n",
       "      <td>P01031ups|CO5_HUMAN_UPS</td>\n",
       "      <td>50.0</td>\n",
       "      <td>38038.333333</td>\n",
       "      <td>760.766667</td>\n",
       "      <td>4</td>\n",
       "      <td>True</td>\n",
       "      <td>[{'feature_id': 613701, 'sequence': 'CCYDGACVN...</td>\n",
       "      <td>16.402668</td>\n",
       "      <td>50.0</td>\n",
       "      <td>21637.666667</td>\n",
       "      <td>432.753333</td>\n",
       "      <td>4</td>\n",
       "      <td>[{'feature_id': 613701, 'sequence': 'CCYDGACVN...</td>\n",
       "      <td>12.610147</td>\n",
       "    </tr>\n",
       "    <tr>\n",
       "      <th>4</th>\n",
       "      <td>P02768ups|ALBU_HUMAN_UPS</td>\n",
       "      <td>50.0</td>\n",
       "      <td>115951.666667</td>\n",
       "      <td>2319.033333</td>\n",
       "      <td>129</td>\n",
       "      <td>True</td>\n",
       "      <td>[{'feature_id': 4736101, 'sequence': 'MPCAEDYL...</td>\n",
       "      <td>50.000000</td>\n",
       "      <td>50.0</td>\n",
       "      <td>85794.666667</td>\n",
       "      <td>1715.893333</td>\n",
       "      <td>127</td>\n",
       "      <td>[{'feature_id': 4736101, 'sequence': 'MPCAEDYL...</td>\n",
       "      <td>50.000000</td>\n",
       "    </tr>\n",
       "    <tr>\n",
       "      <th>8</th>\n",
       "      <td>P41159ups|LEP_HUMAN_UPS</td>\n",
       "      <td>50.0</td>\n",
       "      <td>35351.333333</td>\n",
       "      <td>707.026667</td>\n",
       "      <td>29</td>\n",
       "      <td>True</td>\n",
       "      <td>[{'feature_id': 3952601, 'sequence': 'VTGLDFIP...</td>\n",
       "      <td>15.243995</td>\n",
       "      <td>50.0</td>\n",
       "      <td>31006.666667</td>\n",
       "      <td>620.133333</td>\n",
       "      <td>29</td>\n",
       "      <td>[{'feature_id': 3952601, 'sequence': 'VTGLDFIP...</td>\n",
       "      <td>18.070276</td>\n",
       "    </tr>\n",
       "    <tr>\n",
       "      <th>11</th>\n",
       "      <td>P68871ups|HBB_HUMAN_UPS</td>\n",
       "      <td>50.0</td>\n",
       "      <td>48142.000000</td>\n",
       "      <td>962.840000</td>\n",
       "      <td>12</td>\n",
       "      <td>True</td>\n",
       "      <td>[{'feature_id': 2713501, 'sequence': 'VLGAFSDG...</td>\n",
       "      <td>20.759512</td>\n",
       "      <td>50.0</td>\n",
       "      <td>39346.000000</td>\n",
       "      <td>786.920000</td>\n",
       "      <td>12</td>\n",
       "      <td>[{'feature_id': 2713501, 'sequence': 'VLGAFSDG...</td>\n",
       "      <td>22.930330</td>\n",
       "    </tr>\n",
       "    <tr>\n",
       "      <th>12</th>\n",
       "      <td>P69905ups|HBA_HUMAN_UPS</td>\n",
       "      <td>50.0</td>\n",
       "      <td>18814.666667</td>\n",
       "      <td>376.293333</td>\n",
       "      <td>17</td>\n",
       "      <td>True</td>\n",
       "      <td>[{'feature_id': 667601, 'sequence': 'VGAHAGEYG...</td>\n",
       "      <td>8.113151</td>\n",
       "      <td>50.0</td>\n",
       "      <td>18814.666667</td>\n",
       "      <td>376.293333</td>\n",
       "      <td>17</td>\n",
       "      <td>[{'feature_id': 667601, 'sequence': 'VGAHAGEYG...</td>\n",
       "      <td>10.964940</td>\n",
       "    </tr>\n",
       "    <tr>\n",
       "      <th>3</th>\n",
       "      <td>P02144ups|MYG_HUMAN_UPS</td>\n",
       "      <td>5.0</td>\n",
       "      <td>6118.000000</td>\n",
       "      <td>1223.600000</td>\n",
       "      <td>6</td>\n",
       "      <td>False</td>\n",
       "      <td>[{'feature_id': 1141101, 'sequence': 'VEADIPGH...</td>\n",
       "      <td>2.638168</td>\n",
       "      <td>5.0</td>\n",
       "      <td>6118.000000</td>\n",
       "      <td>1223.600000</td>\n",
       "      <td>6</td>\n",
       "      <td>[{'feature_id': 1141101, 'sequence': 'VEADIPGH...</td>\n",
       "      <td>3.565490</td>\n",
       "    </tr>\n",
       "    <tr>\n",
       "      <th>5</th>\n",
       "      <td>P04040ups|CATA_HUMAN_UPS</td>\n",
       "      <td>5.0</td>\n",
       "      <td>40783.666667</td>\n",
       "      <td>8156.733333</td>\n",
       "      <td>8</td>\n",
       "      <td>True</td>\n",
       "      <td>[{'feature_id': 3697701, 'sequence': 'GPLLVQDV...</td>\n",
       "      <td>17.586494</td>\n",
       "      <td>5.0</td>\n",
       "      <td>35444.000000</td>\n",
       "      <td>7088.800000</td>\n",
       "      <td>8</td>\n",
       "      <td>[{'feature_id': 3697701, 'sequence': 'GPLLVQDV...</td>\n",
       "      <td>20.656296</td>\n",
       "    </tr>\n",
       "    <tr>\n",
       "      <th>7</th>\n",
       "      <td>P15559ups|NQO1_HUMAN_UPS</td>\n",
       "      <td>5.0</td>\n",
       "      <td>14905.666667</td>\n",
       "      <td>2981.133333</td>\n",
       "      <td>4</td>\n",
       "      <td>True</td>\n",
       "      <td>[{'feature_id': 834301, 'sequence': 'ALIVLAHSE...</td>\n",
       "      <td>6.427534</td>\n",
       "      <td>5.0</td>\n",
       "      <td>13049.333333</td>\n",
       "      <td>2609.866667</td>\n",
       "      <td>4</td>\n",
       "      <td>[{'feature_id': 834301, 'sequence': 'ALIVLAHSE...</td>\n",
       "      <td>7.604979</td>\n",
       "    </tr>\n",
       "    <tr>\n",
       "      <th>9</th>\n",
       "      <td>P62937ups|PPIA_HUMAN_UPS,P62988ups|UBIQ_HUMAN_...</td>\n",
       "      <td>5.0</td>\n",
       "      <td>3289.000000</td>\n",
       "      <td>657.800000</td>\n",
       "      <td>5</td>\n",
       "      <td>False</td>\n",
       "      <td>[{'feature_id': 12101, 'sequence': 'GSSHHHHHHS...</td>\n",
       "      <td>1.418263</td>\n",
       "      <td>5.0</td>\n",
       "      <td>3289.000000</td>\n",
       "      <td>657.800000</td>\n",
       "      <td>5</td>\n",
       "      <td>[{'feature_id': 12101, 'sequence': 'GSSHHHHHHS...</td>\n",
       "      <td>1.916786</td>\n",
       "    </tr>\n",
       "    <tr>\n",
       "      <th>10</th>\n",
       "      <td>P63165ups|SUMO1_HUMAN_UPS</td>\n",
       "      <td>5.0</td>\n",
       "      <td>1740.000000</td>\n",
       "      <td>348.000000</td>\n",
       "      <td>3</td>\n",
       "      <td>False</td>\n",
       "      <td>[{'feature_id': 2907601, 'sequence': 'LLLEYLEE...</td>\n",
       "      <td>0.750313</td>\n",
       "      <td>5.0</td>\n",
       "      <td>1740.000000</td>\n",
       "      <td>348.000000</td>\n",
       "      <td>3</td>\n",
       "      <td>[{'feature_id': 2907601, 'sequence': 'LLLEYLEE...</td>\n",
       "      <td>1.014049</td>\n",
       "    </tr>\n",
       "    <tr>\n",
       "      <th>13</th>\n",
       "      <td>Q06830ups|PRDX1_HUMAN_UPS</td>\n",
       "      <td>5.0</td>\n",
       "      <td>8234.333333</td>\n",
       "      <td>1646.866667</td>\n",
       "      <td>5</td>\n",
       "      <td>False</td>\n",
       "      <td>[{'feature_id': 704501, 'sequence': 'HGEVCPAGW...</td>\n",
       "      <td>3.550761</td>\n",
       "      <td>5.0</td>\n",
       "      <td>8234.333333</td>\n",
       "      <td>1646.866667</td>\n",
       "      <td>5</td>\n",
       "      <td>[{'feature_id': 704501, 'sequence': 'HGEVCPAGW...</td>\n",
       "      <td>4.798861</td>\n",
       "    </tr>\n",
       "    <tr>\n",
       "      <th>6</th>\n",
       "      <td>P12081ups|SYHC_HUMAN_UPS</td>\n",
       "      <td>0.5</td>\n",
       "      <td>3091.000000</td>\n",
       "      <td>6182.000000</td>\n",
       "      <td>3</td>\n",
       "      <td>False</td>\n",
       "      <td>[{'feature_id': 4697301, 'sequence': 'LLNQLQYC...</td>\n",
       "      <td>1.332883</td>\n",
       "      <td>0.5</td>\n",
       "      <td>3091.000000</td>\n",
       "      <td>6182.000000</td>\n",
       "      <td>3</td>\n",
       "      <td>[{'feature_id': 4697301, 'sequence': 'LLNQLQYC...</td>\n",
       "      <td>1.801394</td>\n",
       "    </tr>\n",
       "  </tbody>\n",
       "</table>\n",
       "</div>"
      ],
      "text/plain": [
       "                                              protein  pmoles_with  \\\n",
       "0                            P00915ups|CAH1_HUMAN_UPS         50.0   \n",
       "1                            P00918ups|CAH2_HUMAN_UPS         50.0   \n",
       "2                             P01031ups|CO5_HUMAN_UPS         50.0   \n",
       "4                            P02768ups|ALBU_HUMAN_UPS         50.0   \n",
       "8                             P41159ups|LEP_HUMAN_UPS         50.0   \n",
       "11                            P68871ups|HBB_HUMAN_UPS         50.0   \n",
       "12                            P69905ups|HBA_HUMAN_UPS         50.0   \n",
       "3                             P02144ups|MYG_HUMAN_UPS          5.0   \n",
       "5                            P04040ups|CATA_HUMAN_UPS          5.0   \n",
       "7                            P15559ups|NQO1_HUMAN_UPS          5.0   \n",
       "9   P62937ups|PPIA_HUMAN_UPS,P62988ups|UBIQ_HUMAN_...          5.0   \n",
       "10                          P63165ups|SUMO1_HUMAN_UPS          5.0   \n",
       "13                          Q06830ups|PRDX1_HUMAN_UPS          5.0   \n",
       "6                            P12081ups|SYHC_HUMAN_UPS          0.5   \n",
       "\n",
       "    average_intensity_with  signal_response_factor_with  peptide_count_with  \\\n",
       "0             51605.000000                  1032.100000                  21   \n",
       "1             50845.666667                  1016.913333                  19   \n",
       "2             38038.333333                   760.766667                   4   \n",
       "4            115951.666667                  2319.033333                 129   \n",
       "8             35351.333333                   707.026667                  29   \n",
       "11            48142.000000                   962.840000                  12   \n",
       "12            18814.666667                   376.293333                  17   \n",
       "3              6118.000000                  1223.600000                   6   \n",
       "5             40783.666667                  8156.733333                   8   \n",
       "7             14905.666667                  2981.133333                   4   \n",
       "9              3289.000000                   657.800000                   5   \n",
       "10             1740.000000                   348.000000                   3   \n",
       "13             8234.333333                  1646.866667                   5   \n",
       "6              3091.000000                  6182.000000                   3   \n",
       "\n",
       "    intensity_adjusted                                     attribs_d_with  \\\n",
       "0                 True  [{'feature_id': 829701, 'sequence': 'HDTSLKPIS...   \n",
       "1                 True  [{'feature_id': 2161501, 'sequence': 'YDPSLKPL...   \n",
       "2                 True  [{'feature_id': 613701, 'sequence': 'CCYDGACVN...   \n",
       "4                 True  [{'feature_id': 4736101, 'sequence': 'MPCAEDYL...   \n",
       "8                 True  [{'feature_id': 3952601, 'sequence': 'VTGLDFIP...   \n",
       "11                True  [{'feature_id': 2713501, 'sequence': 'VLGAFSDG...   \n",
       "12                True  [{'feature_id': 667601, 'sequence': 'VGAHAGEYG...   \n",
       "3                False  [{'feature_id': 1141101, 'sequence': 'VEADIPGH...   \n",
       "5                 True  [{'feature_id': 3697701, 'sequence': 'GPLLVQDV...   \n",
       "7                 True  [{'feature_id': 834301, 'sequence': 'ALIVLAHSE...   \n",
       "9                False  [{'feature_id': 12101, 'sequence': 'GSSHHHHHHS...   \n",
       "10               False  [{'feature_id': 2907601, 'sequence': 'LLLEYLEE...   \n",
       "13               False  [{'feature_id': 704501, 'sequence': 'HGEVCPAGW...   \n",
       "6                False  [{'feature_id': 4697301, 'sequence': 'LLNQLQYC...   \n",
       "\n",
       "    calculated_pmoles_with  pmoles_without  average_intensity_without  \\\n",
       "0                22.252806            50.0               46840.000000   \n",
       "1                21.925371            50.0               44935.333333   \n",
       "2                16.402668            50.0               21637.666667   \n",
       "4                50.000000            50.0               85794.666667   \n",
       "8                15.243995            50.0               31006.666667   \n",
       "11               20.759512            50.0               39346.000000   \n",
       "12                8.113151            50.0               18814.666667   \n",
       "3                 2.638168             5.0                6118.000000   \n",
       "5                17.586494             5.0               35444.000000   \n",
       "7                 6.427534             5.0               13049.333333   \n",
       "9                 1.418263             5.0                3289.000000   \n",
       "10                0.750313             5.0                1740.000000   \n",
       "13                3.550761             5.0                8234.333333   \n",
       "6                 1.332883             0.5                3091.000000   \n",
       "\n",
       "    signal_response_factor_without  peptide_count_without  \\\n",
       "0                       936.800000                     21   \n",
       "1                       898.706667                     19   \n",
       "2                       432.753333                      4   \n",
       "4                      1715.893333                    127   \n",
       "8                       620.133333                     29   \n",
       "11                      786.920000                     12   \n",
       "12                      376.293333                     17   \n",
       "3                      1223.600000                      6   \n",
       "5                      7088.800000                      8   \n",
       "7                      2609.866667                      4   \n",
       "9                       657.800000                      5   \n",
       "10                      348.000000                      3   \n",
       "13                     1646.866667                      5   \n",
       "6                      6182.000000                      3   \n",
       "\n",
       "                                    attribs_d_without  \\\n",
       "0   [{'feature_id': 829701, 'sequence': 'HDTSLKPIS...   \n",
       "1   [{'feature_id': 2161501, 'sequence': 'YDPSLKPL...   \n",
       "2   [{'feature_id': 613701, 'sequence': 'CCYDGACVN...   \n",
       "4   [{'feature_id': 4736101, 'sequence': 'MPCAEDYL...   \n",
       "8   [{'feature_id': 3952601, 'sequence': 'VTGLDFIP...   \n",
       "11  [{'feature_id': 2713501, 'sequence': 'VLGAFSDG...   \n",
       "12  [{'feature_id': 667601, 'sequence': 'VGAHAGEYG...   \n",
       "3   [{'feature_id': 1141101, 'sequence': 'VEADIPGH...   \n",
       "5   [{'feature_id': 3697701, 'sequence': 'GPLLVQDV...   \n",
       "7   [{'feature_id': 834301, 'sequence': 'ALIVLAHSE...   \n",
       "9   [{'feature_id': 12101, 'sequence': 'GSSHHHHHHS...   \n",
       "10  [{'feature_id': 2907601, 'sequence': 'LLLEYLEE...   \n",
       "13  [{'feature_id': 704501, 'sequence': 'HGEVCPAGW...   \n",
       "6   [{'feature_id': 4697301, 'sequence': 'LLNQLQYC...   \n",
       "\n",
       "    calculated_pmoles_without  \n",
       "0                   27.297734  \n",
       "1                   26.187720  \n",
       "2                   12.610147  \n",
       "4                   50.000000  \n",
       "8                   18.070276  \n",
       "11                  22.930330  \n",
       "12                  10.964940  \n",
       "3                    3.565490  \n",
       "5                   20.656296  \n",
       "7                    7.604979  \n",
       "9                    1.916786  \n",
       "10                   1.014049  \n",
       "13                   4.798861  \n",
       "6                    1.801394  "
      ]
     },
     "execution_count": 27,
     "metadata": {},
     "output_type": "execute_result"
    }
   ],
   "source": [
    "combined_df.sort_values(by=['pmoles_with'], ascending=False, inplace=False)"
   ]
  },
  {
   "cell_type": "code",
   "execution_count": 28,
   "metadata": {},
   "outputs": [],
   "source": [
    "universal_signal_response_factor_with = combined_df[combined_df.protein.str.startswith('P15559')].iloc[0].signal_response_factor_with\n",
    "universal_signal_response_factor_without = combined_df[combined_df.protein.str.startswith('P15559')].iloc[0].signal_response_factor_without"
   ]
  },
  {
   "cell_type": "code",
   "execution_count": 29,
   "metadata": {},
   "outputs": [],
   "source": [
    "combined_df['calculated_pmoles_with'] = combined_df.average_intensity_with / universal_signal_response_factor_with\n",
    "combined_df['calculated_pmoles_without'] = combined_df.average_intensity_without / universal_signal_response_factor_without"
   ]
  },
  {
   "cell_type": "code",
   "execution_count": 30,
   "metadata": {},
   "outputs": [
    {
     "data": {
      "text/plain": [
       "0.6753453132806627"
      ]
     },
     "execution_count": 30,
     "metadata": {},
     "output_type": "execute_result"
    }
   ],
   "source": [
    "combined_df['pmoles_with'].corr(combined_df['calculated_pmoles_with'])"
   ]
  },
  {
   "cell_type": "code",
   "execution_count": 31,
   "metadata": {},
   "outputs": [
    {
     "data": {
      "text/plain": [
       "0.6865460617111798"
      ]
     },
     "execution_count": 31,
     "metadata": {},
     "output_type": "execute_result"
    }
   ],
   "source": [
    "combined_df['pmoles_without'].corr(combined_df['calculated_pmoles_without'])"
   ]
  },
  {
   "cell_type": "markdown",
   "metadata": {},
   "source": [
    "#### Universal signal-response curve for the absolute quantification of the standard proteins"
   ]
  },
  {
   "cell_type": "code",
   "execution_count": 32,
   "metadata": {},
   "outputs": [
    {
     "data": {
      "image/png": "[encoded data removed]",
      "text/plain": [
       "<Figure size 720x720 with 1 Axes>"
      ]
     },
     "metadata": {
      "needs_background": "light"
     },
     "output_type": "display_data"
    }
   ],
   "source": [
    "f, ax = plt.subplots()\n",
    "f.set_figheight(10)\n",
    "f.set_figwidth(10)\n",
    "\n",
    "plt.margins(0.06)\n",
    "plt.title('')\n",
    "\n",
    "ax.scatter(combined_df.pmoles_with, combined_df.calculated_pmoles_with, marker='o', lw=0, s=30, alpha=0.6, c='orange')\n",
    "ax.scatter(combined_df.pmoles_without, combined_df.calculated_pmoles_without, marker='o', lw=0, s=30, alpha=0.6, c='green')\n",
    "\n",
    "ax.plot([0, 1], [0, 1], transform=ax.transAxes, linestyle=':', linewidth=2, color='darkorange')\n",
    "\n",
    "# plt.xlim((-1,55.0))\n",
    "# plt.ylim((-1,55.0))\n",
    "\n",
    "nearest = 5.0\n",
    "range_l = round(combined_df.pmoles_with.min() / nearest) * nearest\n",
    "range_u = round(combined_df.pmoles_with.max() / nearest) * nearest\n",
    "plt.xticks(np.arange(range_l,range_u+nearest,nearest))\n",
    "plt.yticks(np.arange(range_l,range_u+nearest,nearest))\n",
    "\n",
    "plt.xlabel('concentration (pmoles on column)')\n",
    "plt.ylabel('calculated concentration (pmoles)')\n",
    "\n",
    "plt.show()"
   ]
  },
  {
   "cell_type": "code",
   "execution_count": 33,
   "metadata": {},
   "outputs": [
    {
     "data": {
      "image/png": "[encoded data removed]",
      "text/plain": [
       "<Figure size 720x720 with 1 Axes>"
      ]
     },
     "metadata": {
      "needs_background": "light"
     },
     "output_type": "display_data"
    }
   ],
   "source": [
    "f, ax = plt.subplots()\n",
    "f.set_figheight(10)\n",
    "f.set_figwidth(10)\n",
    "\n",
    "plt.margins(0.06)\n",
    "plt.title('')\n",
    "\n",
    "ax.scatter(combined_df.pmoles_with, combined_df.signal_response_factor_with, marker='o', lw=0, s=30, alpha=0.6, c='orange')\n",
    "ax.scatter(combined_df.pmoles_without, combined_df.signal_response_factor_without, marker='o', lw=0, s=30, alpha=0.6, c='green')\n",
    "\n",
    "ax.plot([0, 1], [0, 1], transform=ax.transAxes, linestyle=':', linewidth=2, color='darkorange')\n",
    "\n",
    "# plt.xlim((-1,55.0))\n",
    "# plt.ylim((-1,55.0))\n",
    "\n",
    "nearest = 5.0\n",
    "range_l = round(combined_df.pmoles_with.min() / nearest) * nearest\n",
    "range_u = round(combined_df.pmoles_with.max() / nearest) * nearest\n",
    "plt.xticks(np.arange(range_l,range_u+nearest,nearest))\n",
    "\n",
    "nearest = 2000.0\n",
    "range_l = round(combined_df.signal_response_factor_with.min() / nearest) * nearest\n",
    "range_u = round(combined_df.signal_response_factor_with.max() / nearest) * nearest\n",
    "plt.yticks(np.arange(range_l,range_u+nearest,nearest))\n",
    "\n",
    "plt.xlabel('concentration (pmoles on column)')\n",
    "plt.ylabel('signal response')\n",
    "\n",
    "plt.show()"
   ]
  },
  {
   "cell_type": "code",
   "execution_count": null,
   "metadata": {},
   "outputs": [],
   "source": []
  }
 ],
 "metadata": {
  "kernelspec": {
   "display_name": "Python 3",
   "language": "python",
   "name": "python3"
  },
  "language_info": {
   "codemirror_mode": {
    "name": "ipython",
    "version": 3
   },
   "file_extension": ".py",
   "mimetype": "text/x-python",
   "name": "python",
   "nbconvert_exporter": "python",
   "pygments_lexer": "ipython3",
   "version": "3.8.5"
  }
 },
 "nbformat": 4,
 "nbformat_minor": 4
}
