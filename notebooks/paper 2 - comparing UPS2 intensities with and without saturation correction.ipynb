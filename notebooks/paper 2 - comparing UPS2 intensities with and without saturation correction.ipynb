{
 "cells": [
  {
   "cell_type": "code",
   "execution_count": 2,
   "metadata": {},
   "outputs": [],
   "source": [
    "import pandas as pd\n",
    "import numpy as np\n",
    "import os\n",
    "import matplotlib.pyplot as plt\n",
    "import pickle\n",
    "import seaborn as sns\n",
    "import json\n",
    "from os.path import expanduser"
   ]
  },
  {
   "cell_type": "code",
   "execution_count": 3,
   "metadata": {},
   "outputs": [],
   "source": [
    "experiment_name = 'P3830'\n",
    "feature_detection_method = 'pasef'"
   ]
  },
  {
   "cell_type": "code",
   "execution_count": 4,
   "metadata": {},
   "outputs": [],
   "source": [
    "MAXIMUM_Q_VALUE = 0.01"
   ]
  },
  {
   "cell_type": "code",
   "execution_count": 5,
   "metadata": {},
   "outputs": [],
   "source": [
    "BASE_RESULTS_DIR = '/media/big-ssd'"
   ]
  },
  {
   "cell_type": "markdown",
   "metadata": {},
   "source": [
    "#### identifications with correction for saturation"
   ]
  },
  {
   "cell_type": "code",
   "execution_count": 6,
   "metadata": {},
   "outputs": [],
   "source": [
    "IDENTIFICATIONS_WITH_CS_DIR = '{}/results-P3830/P3830-results-cs-true-fmdw-true-2021-05-17-02-05-02/identifications-pasef'.format(BASE_RESULTS_DIR)\n",
    "IDENTIFICATIONS_WITH_CS_FILE = '{}/exp-{}-identifications-{}-recalibrated.pkl'.format(IDENTIFICATIONS_WITH_CS_DIR, experiment_name, feature_detection_method)"
   ]
  },
  {
   "cell_type": "code",
   "execution_count": 7,
   "metadata": {},
   "outputs": [],
   "source": [
    "# load the identifications that had saturated points in the mono\n",
    "with open(IDENTIFICATIONS_WITH_CS_FILE, 'rb') as handle:\n",
    "    d = pickle.load(handle)\n",
    "identifications_with_cs_df = d['identifications_df']\n",
    "identifications_with_cs_df = identifications_with_cs_df[(identifications_with_cs_df['percolator q-value'] <= MAXIMUM_Q_VALUE) & (~identifications_with_cs_df['protein id'].str.contains('YEAST'))]"
   ]
  },
  {
   "cell_type": "code",
   "execution_count": 9,
   "metadata": {},
   "outputs": [
    {
     "data": {
      "text/html": [
       "<div>\n",
       "<style scoped>\n",
       "    .dataframe tbody tr th:only-of-type {\n",
       "        vertical-align: middle;\n",
       "    }\n",
       "\n",
       "    .dataframe tbody tr th {\n",
       "        vertical-align: top;\n",
       "    }\n",
       "\n",
       "    .dataframe thead th {\n",
       "        text-align: right;\n",
       "    }\n",
       "</style>\n",
       "<table border=\"1\" class=\"dataframe\">\n",
       "  <thead>\n",
       "    <tr style=\"text-align: right;\">\n",
       "      <th></th>\n",
       "      <th>counts</th>\n",
       "      <th>%</th>\n",
       "    </tr>\n",
       "  </thead>\n",
       "  <tbody>\n",
       "    <tr>\n",
       "      <th>monoisotopic_not_saturated</th>\n",
       "      <td>647</td>\n",
       "      <td>78.8</td>\n",
       "    </tr>\n",
       "    <tr>\n",
       "      <th>monoisotopic_saturated_adjusted</th>\n",
       "      <td>168</td>\n",
       "      <td>20.5</td>\n",
       "    </tr>\n",
       "    <tr>\n",
       "      <th>no_nonsaturated_isotopes</th>\n",
       "      <td>6</td>\n",
       "      <td>0.7</td>\n",
       "    </tr>\n",
       "  </tbody>\n",
       "</table>\n",
       "</div>"
      ],
      "text/plain": [
       "                                 counts     %\n",
       "monoisotopic_not_saturated          647  78.8\n",
       "monoisotopic_saturated_adjusted     168  20.5\n",
       "no_nonsaturated_isotopes              6   0.7"
      ]
     },
     "execution_count": 9,
     "metadata": {},
     "output_type": "execute_result"
    }
   ],
   "source": [
    "s1 = identifications_with_cs_df.mono_intensity_adjustment_outcome.value_counts(normalize=False).rename('counts', inplace=True)\n",
    "s2 = round(identifications_with_cs_df.mono_intensity_adjustment_outcome.value_counts(normalize=True)*100,1).rename('%', inplace=True)\n",
    "pd.concat([s1, s2], axis=1)"
   ]
  },
  {
   "cell_type": "code",
   "execution_count": 7,
   "metadata": {},
   "outputs": [
    {
     "name": "stdout",
     "output_type": "stream",
     "text": [
      "number of unique proteins: 19\n"
     ]
    }
   ],
   "source": [
    "print('number of unique proteins: {}'.format(len(identifications_with_cs_df['protein id'].unique())))"
   ]
  },
  {
   "cell_type": "markdown",
   "metadata": {},
   "source": [
    "#### identifications without correction for saturation"
   ]
  },
  {
   "cell_type": "code",
   "execution_count": 8,
   "metadata": {},
   "outputs": [],
   "source": [
    "IDENTIFICATIONS_WITHOUT_CS_DIR = '{}/results-P3830/P3830-results-cs-false-fmdw-true-2021-05-17-06-32-21/identifications-pasef'.format(BASE_RESULTS_DIR)\n",
    "IDENTIFICATIONS_WITHOUT_CS_FILE = '{}/exp-{}-identifications-{}-recalibrated.pkl'.format(IDENTIFICATIONS_WITHOUT_CS_DIR, experiment_name, feature_detection_method)"
   ]
  },
  {
   "cell_type": "code",
   "execution_count": 9,
   "metadata": {},
   "outputs": [],
   "source": [
    "# load the identifications that had saturated points in the mono\n",
    "with open(IDENTIFICATIONS_WITHOUT_CS_FILE, 'rb') as handle:\n",
    "    d = pickle.load(handle)\n",
    "identifications_without_cs_df = d['identifications_df']\n",
    "identifications_without_cs_df = identifications_without_cs_df[(identifications_without_cs_df['percolator q-value'] <= MAXIMUM_Q_VALUE) & (~identifications_without_cs_df['protein id'].str.contains('YEAST'))]"
   ]
  },
  {
   "cell_type": "code",
   "execution_count": 10,
   "metadata": {},
   "outputs": [
    {
     "name": "stdout",
     "output_type": "stream",
     "text": [
      "number of unique proteins: 19\n"
     ]
    }
   ],
   "source": [
    "print('number of unique proteins: {}'.format(len(identifications_without_cs_df['protein id'].unique())))"
   ]
  },
  {
   "cell_type": "markdown",
   "metadata": {},
   "source": [
    "#### using the Top3 approach to determine protein quanitification"
   ]
  },
  {
   "cell_type": "code",
   "execution_count": 11,
   "metadata": {},
   "outputs": [],
   "source": [
    "ups2_proteins_l = []\n",
    "\n",
    "ups2_proteins_l.append({'uniprot':'P00915', 'fmoles':50000})\n",
    "ups2_proteins_l.append({'uniprot':'P00918', 'fmoles':50000})\n",
    "ups2_proteins_l.append({'uniprot':'P01031', 'fmoles':50000})\n",
    "ups2_proteins_l.append({'uniprot':'P69905', 'fmoles':50000})\n",
    "ups2_proteins_l.append({'uniprot':'P68871', 'fmoles':50000})\n",
    "ups2_proteins_l.append({'uniprot':'P41159', 'fmoles':50000})\n",
    "ups2_proteins_l.append({'uniprot':'P02768', 'fmoles':50000})\n",
    "ups2_proteins_l.append({'uniprot':'P62988', 'fmoles':50000})\n",
    "\n",
    "ups2_proteins_l.append({'uniprot':'P04040', 'fmoles':5000})\n",
    "ups2_proteins_l.append({'uniprot':'P00167', 'fmoles':5000})\n",
    "ups2_proteins_l.append({'uniprot':'P01133', 'fmoles':5000})\n",
    "ups2_proteins_l.append({'uniprot':'P02144', 'fmoles':5000})\n",
    "ups2_proteins_l.append({'uniprot':'P15559', 'fmoles':5000})\n",
    "ups2_proteins_l.append({'uniprot':'P62937', 'fmoles':5000})\n",
    "ups2_proteins_l.append({'uniprot':'Q06830', 'fmoles':5000})\n",
    "ups2_proteins_l.append({'uniprot':'P63165', 'fmoles':5000})\n",
    "\n",
    "ups2_proteins_l.append({'uniprot':'P00709', 'fmoles':500})\n",
    "ups2_proteins_l.append({'uniprot':'P06732', 'fmoles':500})\n",
    "ups2_proteins_l.append({'uniprot':'P12081', 'fmoles':500})\n",
    "ups2_proteins_l.append({'uniprot':'P61626', 'fmoles':500})\n",
    "ups2_proteins_l.append({'uniprot':'Q15843', 'fmoles':500})\n",
    "ups2_proteins_l.append({'uniprot':'P02753', 'fmoles':500})\n",
    "ups2_proteins_l.append({'uniprot':'P16083', 'fmoles':500})\n",
    "ups2_proteins_l.append({'uniprot':'P63279', 'fmoles':500})\n",
    "\n",
    "ups2_proteins_l.append({'uniprot':'P01008', 'fmoles':50})\n",
    "ups2_proteins_l.append({'uniprot':'P61769', 'fmoles':50})\n",
    "ups2_proteins_l.append({'uniprot':'P55957', 'fmoles':50})\n",
    "ups2_proteins_l.append({'uniprot':'O76070', 'fmoles':50})\n",
    "ups2_proteins_l.append({'uniprot':'P08263', 'fmoles':50})\n",
    "ups2_proteins_l.append({'uniprot':'P01344', 'fmoles':50})\n",
    "ups2_proteins_l.append({'uniprot':'P01127', 'fmoles':50})\n",
    "ups2_proteins_l.append({'uniprot':'P10599', 'fmoles':50})\n",
    "\n",
    "ups2_proteins_l.append({'uniprot':'P99999', 'fmoles':5})\n",
    "ups2_proteins_l.append({'uniprot':'P06396', 'fmoles':5})\n",
    "ups2_proteins_l.append({'uniprot':'P09211', 'fmoles':5})\n",
    "ups2_proteins_l.append({'uniprot':'P01112', 'fmoles':5})\n",
    "ups2_proteins_l.append({'uniprot':'P01579', 'fmoles':5})\n",
    "ups2_proteins_l.append({'uniprot':'P02787', 'fmoles':5})\n",
    "ups2_proteins_l.append({'uniprot':'O00762', 'fmoles':5})\n",
    "ups2_proteins_l.append({'uniprot':'P51965', 'fmoles':5})\n",
    "\n",
    "ups2_proteins_l.append({'uniprot':'P08758', 'fmoles':0.5})\n",
    "ups2_proteins_l.append({'uniprot':'P02741', 'fmoles':0.5})\n",
    "ups2_proteins_l.append({'uniprot':'P05413', 'fmoles':0.5})\n",
    "ups2_proteins_l.append({'uniprot':'P10145', 'fmoles':0.5})\n",
    "ups2_proteins_l.append({'uniprot':'P02788', 'fmoles':0.5})\n",
    "ups2_proteins_l.append({'uniprot':'P10636-8', 'fmoles':0.5})\n",
    "ups2_proteins_l.append({'uniprot':'P00441', 'fmoles':0.5})\n",
    "ups2_proteins_l.append({'uniprot':'P01375', 'fmoles':0.5})\n",
    "\n",
    "ups2_d = {}\n",
    "for p in ups2_proteins_l:\n",
    "    ups2_d[p['uniprot']] = p['fmoles']"
   ]
  },
  {
   "cell_type": "markdown",
   "metadata": {},
   "source": [
    "#### with correction"
   ]
  },
  {
   "cell_type": "code",
   "execution_count": 12,
   "metadata": {},
   "outputs": [
    {
     "data": {
      "text/plain": [
       "array(['P62937ups|PPIA_HUMAN_UPS,P62988ups|UBIQ_HUMAN_UPS,O76070ups|SYUG_HUMAN_UPS',\n",
       "       'P00918ups|CAH2_HUMAN_UPS', 'P02144ups|MYG_HUMAN_UPS',\n",
       "       'P02768ups|ALBU_HUMAN_UPS', 'P41159ups|LEP_HUMAN_UPS',\n",
       "       'P01031ups|CO5_HUMAN_UPS', 'P00915ups|CAH1_HUMAN_UPS',\n",
       "       'P69905ups|HBA_HUMAN_UPS', 'Q06830ups|PRDX1_HUMAN_UPS',\n",
       "       'P68871ups|HBB_HUMAN_UPS', 'P04040ups|CATA_HUMAN_UPS',\n",
       "       'P15559ups|NQO1_HUMAN_UPS', 'P00167ups|CYB5_HUMAN_UPS',\n",
       "       'P63165ups|SUMO1_HUMAN_UPS', 'P62937ups|PPIA_HUMAN_UPS',\n",
       "       'P62988ups|UBIQ_HUMAN_UPS', 'P06732ups|KCRM_HUMAN_UPS',\n",
       "       'P00709ups|LALBA_HUMAN_UPS', 'P12081ups|SYHC_HUMAN_UPS'],\n",
       "      dtype=object)"
      ]
     },
     "execution_count": 12,
     "metadata": {},
     "output_type": "execute_result"
    }
   ],
   "source": [
    "identifications_with_cs_df['protein id'].unique()"
   ]
  },
  {
   "cell_type": "code",
   "execution_count": 13,
   "metadata": {},
   "outputs": [
    {
     "name": "stdout",
     "output_type": "stream",
     "text": [
      "didn't have three peptides for P00709ups|LALBA_HUMAN_UPS\n",
      "didn't have three peptides for P06732ups|KCRM_HUMAN_UPS\n",
      "didn't have three peptides for P62937ups|PPIA_HUMAN_UPS\n"
     ]
    }
   ],
   "source": [
    "# find the three most intense peptides for each protein\n",
    "top3_l = []\n",
    "for group_name,group_df in identifications_with_cs_df.groupby('protein id'):\n",
    "    df = group_df.sort_values(by=['feature_intensity'], ascending=False, inplace=False)\n",
    "    top3_df = df.head(n=3)\n",
    "    if len(top3_df) == 3:\n",
    "        uniprot_id = group_name.split('ups|')[0]\n",
    "        pmoles = ups2_d[uniprot_id] / 1000\n",
    "        average_intensity = top3_df.feature_intensity.mean()\n",
    "        signal_response_factor = average_intensity / pmoles\n",
    "        peptide_count = len(df)\n",
    "        attribs_d = top3_df[['feature_id','sequence','charge','feature_intensity']].to_dict('records')\n",
    "        top3_l.append({'protein':group_name, 'pmoles':pmoles, 'average_intensity':average_intensity, 'signal_response_factor':signal_response_factor, 'peptide_count':peptide_count, 'attribs_d':attribs_d})\n",
    "    else:\n",
    "        print('didn\\'t have three peptides for {}'.format(group_name))\n",
    "top3_with_df = pd.DataFrame(top3_l)"
   ]
  },
  {
   "cell_type": "code",
   "execution_count": 14,
   "metadata": {},
   "outputs": [
    {
     "data": {
      "text/plain": [
       "3054.186666666667"
      ]
     },
     "execution_count": 14,
     "metadata": {},
     "output_type": "execute_result"
    }
   ],
   "source": [
    "# using Serum albumin (P02768) as an internal reference\n",
    "universal_signal_response_factor = top3_with_df[top3_with_df.protein.str.startswith('P02768')].iloc[0].signal_response_factor\n",
    "universal_signal_response_factor"
   ]
  },
  {
   "cell_type": "code",
   "execution_count": 15,
   "metadata": {},
   "outputs": [],
   "source": [
    "top3_with_df['calculated_pmoles'] = top3_with_df.average_intensity / universal_signal_response_factor"
   ]
  },
  {
   "cell_type": "code",
   "execution_count": 16,
   "metadata": {},
   "outputs": [
    {
     "data": {
      "text/html": [
       "<div>\n",
       "<style scoped>\n",
       "    .dataframe tbody tr th:only-of-type {\n",
       "        vertical-align: middle;\n",
       "    }\n",
       "\n",
       "    .dataframe tbody tr th {\n",
       "        vertical-align: top;\n",
       "    }\n",
       "\n",
       "    .dataframe thead th {\n",
       "        text-align: right;\n",
       "    }\n",
       "</style>\n",
       "<table border=\"1\" class=\"dataframe\">\n",
       "  <thead>\n",
       "    <tr style=\"text-align: right;\">\n",
       "      <th></th>\n",
       "      <th>protein</th>\n",
       "      <th>pmoles</th>\n",
       "      <th>average_intensity</th>\n",
       "      <th>signal_response_factor</th>\n",
       "      <th>peptide_count</th>\n",
       "      <th>attribs_d</th>\n",
       "      <th>calculated_pmoles</th>\n",
       "    </tr>\n",
       "  </thead>\n",
       "  <tbody>\n",
       "    <tr>\n",
       "      <th>0</th>\n",
       "      <td>P00167ups|CYB5_HUMAN_UPS</td>\n",
       "      <td>5.0</td>\n",
       "      <td>10376.666667</td>\n",
       "      <td>2075.333333</td>\n",
       "      <td>4</td>\n",
       "      <td>[{'feature_id': 1257301, 'sequence': 'TFIIGELH...</td>\n",
       "      <td>3.397522</td>\n",
       "    </tr>\n",
       "    <tr>\n",
       "      <th>1</th>\n",
       "      <td>P00915ups|CAH1_HUMAN_UPS</td>\n",
       "      <td>50.0</td>\n",
       "      <td>89997.000000</td>\n",
       "      <td>1799.940000</td>\n",
       "      <td>57</td>\n",
       "      <td>[{'feature_id': 799501, 'sequence': 'HDTSLKPIS...</td>\n",
       "      <td>29.466765</td>\n",
       "    </tr>\n",
       "    <tr>\n",
       "      <th>2</th>\n",
       "      <td>P00918ups|CAH2_HUMAN_UPS</td>\n",
       "      <td>50.0</td>\n",
       "      <td>64990.000000</td>\n",
       "      <td>1299.800000</td>\n",
       "      <td>41</td>\n",
       "      <td>[{'feature_id': 2195901, 'sequence': 'YDPSLKPL...</td>\n",
       "      <td>21.278988</td>\n",
       "    </tr>\n",
       "    <tr>\n",
       "      <th>3</th>\n",
       "      <td>P01031ups|CO5_HUMAN_UPS</td>\n",
       "      <td>50.0</td>\n",
       "      <td>73425.666667</td>\n",
       "      <td>1468.513333</td>\n",
       "      <td>8</td>\n",
       "      <td>[{'feature_id': 613701, 'sequence': 'CCYDGACVN...</td>\n",
       "      <td>24.040989</td>\n",
       "    </tr>\n",
       "    <tr>\n",
       "      <th>4</th>\n",
       "      <td>P02144ups|MYG_HUMAN_UPS</td>\n",
       "      <td>5.0</td>\n",
       "      <td>6807.333333</td>\n",
       "      <td>1361.466667</td>\n",
       "      <td>10</td>\n",
       "      <td>[{'feature_id': 1141101, 'sequence': 'VEADIPGH...</td>\n",
       "      <td>2.228853</td>\n",
       "    </tr>\n",
       "    <tr>\n",
       "      <th>5</th>\n",
       "      <td>P02768ups|ALBU_HUMAN_UPS</td>\n",
       "      <td>50.0</td>\n",
       "      <td>152709.333333</td>\n",
       "      <td>3054.186667</td>\n",
       "      <td>486</td>\n",
       "      <td>[{'feature_id': 4719401, 'sequence': 'MPCAEDYL...</td>\n",
       "      <td>50.000000</td>\n",
       "    </tr>\n",
       "    <tr>\n",
       "      <th>6</th>\n",
       "      <td>P04040ups|CATA_HUMAN_UPS</td>\n",
       "      <td>5.0</td>\n",
       "      <td>48846.000000</td>\n",
       "      <td>9769.200000</td>\n",
       "      <td>12</td>\n",
       "      <td>[{'feature_id': 3697701, 'sequence': 'GPLLVQDV...</td>\n",
       "      <td>15.993129</td>\n",
       "    </tr>\n",
       "    <tr>\n",
       "      <th>7</th>\n",
       "      <td>P12081ups|SYHC_HUMAN_UPS</td>\n",
       "      <td>0.5</td>\n",
       "      <td>5598.666667</td>\n",
       "      <td>11197.333333</td>\n",
       "      <td>5</td>\n",
       "      <td>[{'feature_id': 4694101, 'sequence': 'LLNQLQYC...</td>\n",
       "      <td>1.833112</td>\n",
       "    </tr>\n",
       "    <tr>\n",
       "      <th>8</th>\n",
       "      <td>P15559ups|NQO1_HUMAN_UPS</td>\n",
       "      <td>5.0</td>\n",
       "      <td>24372.666667</td>\n",
       "      <td>4874.533333</td>\n",
       "      <td>6</td>\n",
       "      <td>[{'feature_id': 831801, 'sequence': 'ALIVLAHSE...</td>\n",
       "      <td>7.980084</td>\n",
       "    </tr>\n",
       "    <tr>\n",
       "      <th>9</th>\n",
       "      <td>P41159ups|LEP_HUMAN_UPS</td>\n",
       "      <td>50.0</td>\n",
       "      <td>58850.000000</td>\n",
       "      <td>1177.000000</td>\n",
       "      <td>93</td>\n",
       "      <td>[{'feature_id': 3963201, 'sequence': 'VTGLDFIP...</td>\n",
       "      <td>19.268632</td>\n",
       "    </tr>\n",
       "    <tr>\n",
       "      <th>10</th>\n",
       "      <td>P62937ups|PPIA_HUMAN_UPS,P62988ups|UBIQ_HUMAN_...</td>\n",
       "      <td>5.0</td>\n",
       "      <td>5523.333333</td>\n",
       "      <td>1104.666667</td>\n",
       "      <td>18</td>\n",
       "      <td>[{'feature_id': 10101, 'sequence': 'GSSHHHHHHS...</td>\n",
       "      <td>1.808447</td>\n",
       "    </tr>\n",
       "    <tr>\n",
       "      <th>11</th>\n",
       "      <td>P62988ups|UBIQ_HUMAN_UPS</td>\n",
       "      <td>50.0</td>\n",
       "      <td>20251.000000</td>\n",
       "      <td>405.020000</td>\n",
       "      <td>3</td>\n",
       "      <td>[{'feature_id': 2353401, 'sequence': 'TITLEVEP...</td>\n",
       "      <td>6.630570</td>\n",
       "    </tr>\n",
       "    <tr>\n",
       "      <th>12</th>\n",
       "      <td>P63165ups|SUMO1_HUMAN_UPS</td>\n",
       "      <td>5.0</td>\n",
       "      <td>1993.000000</td>\n",
       "      <td>398.600000</td>\n",
       "      <td>3</td>\n",
       "      <td>[{'feature_id': 3621302, 'sequence': 'YIAWPLQG...</td>\n",
       "      <td>0.652547</td>\n",
       "    </tr>\n",
       "    <tr>\n",
       "      <th>13</th>\n",
       "      <td>P68871ups|HBB_HUMAN_UPS</td>\n",
       "      <td>50.0</td>\n",
       "      <td>68431.666667</td>\n",
       "      <td>1368.633333</td>\n",
       "      <td>22</td>\n",
       "      <td>[{'feature_id': 2709701, 'sequence': 'VLGAFSDG...</td>\n",
       "      <td>22.405856</td>\n",
       "    </tr>\n",
       "    <tr>\n",
       "      <th>14</th>\n",
       "      <td>P69905ups|HBA_HUMAN_UPS</td>\n",
       "      <td>50.0</td>\n",
       "      <td>27505.000000</td>\n",
       "      <td>550.100000</td>\n",
       "      <td>38</td>\n",
       "      <td>[{'feature_id': 3076701, 'sequence': 'KVADALTN...</td>\n",
       "      <td>9.005671</td>\n",
       "    </tr>\n",
       "    <tr>\n",
       "      <th>15</th>\n",
       "      <td>Q06830ups|PRDX1_HUMAN_UPS</td>\n",
       "      <td>5.0</td>\n",
       "      <td>18211.000000</td>\n",
       "      <td>3642.200000</td>\n",
       "      <td>11</td>\n",
       "      <td>[{'feature_id': 696401, 'sequence': 'HGEVCPAGW...</td>\n",
       "      <td>5.962635</td>\n",
       "    </tr>\n",
       "  </tbody>\n",
       "</table>\n",
       "</div>"
      ],
      "text/plain": [
       "                                              protein  pmoles  \\\n",
       "0                            P00167ups|CYB5_HUMAN_UPS     5.0   \n",
       "1                            P00915ups|CAH1_HUMAN_UPS    50.0   \n",
       "2                            P00918ups|CAH2_HUMAN_UPS    50.0   \n",
       "3                             P01031ups|CO5_HUMAN_UPS    50.0   \n",
       "4                             P02144ups|MYG_HUMAN_UPS     5.0   \n",
       "5                            P02768ups|ALBU_HUMAN_UPS    50.0   \n",
       "6                            P04040ups|CATA_HUMAN_UPS     5.0   \n",
       "7                            P12081ups|SYHC_HUMAN_UPS     0.5   \n",
       "8                            P15559ups|NQO1_HUMAN_UPS     5.0   \n",
       "9                             P41159ups|LEP_HUMAN_UPS    50.0   \n",
       "10  P62937ups|PPIA_HUMAN_UPS,P62988ups|UBIQ_HUMAN_...     5.0   \n",
       "11                           P62988ups|UBIQ_HUMAN_UPS    50.0   \n",
       "12                          P63165ups|SUMO1_HUMAN_UPS     5.0   \n",
       "13                            P68871ups|HBB_HUMAN_UPS    50.0   \n",
       "14                            P69905ups|HBA_HUMAN_UPS    50.0   \n",
       "15                          Q06830ups|PRDX1_HUMAN_UPS     5.0   \n",
       "\n",
       "    average_intensity  signal_response_factor  peptide_count  \\\n",
       "0        10376.666667             2075.333333              4   \n",
       "1        89997.000000             1799.940000             57   \n",
       "2        64990.000000             1299.800000             41   \n",
       "3        73425.666667             1468.513333              8   \n",
       "4         6807.333333             1361.466667             10   \n",
       "5       152709.333333             3054.186667            486   \n",
       "6        48846.000000             9769.200000             12   \n",
       "7         5598.666667            11197.333333              5   \n",
       "8        24372.666667             4874.533333              6   \n",
       "9        58850.000000             1177.000000             93   \n",
       "10        5523.333333             1104.666667             18   \n",
       "11       20251.000000              405.020000              3   \n",
       "12        1993.000000              398.600000              3   \n",
       "13       68431.666667             1368.633333             22   \n",
       "14       27505.000000              550.100000             38   \n",
       "15       18211.000000             3642.200000             11   \n",
       "\n",
       "                                            attribs_d  calculated_pmoles  \n",
       "0   [{'feature_id': 1257301, 'sequence': 'TFIIGELH...           3.397522  \n",
       "1   [{'feature_id': 799501, 'sequence': 'HDTSLKPIS...          29.466765  \n",
       "2   [{'feature_id': 2195901, 'sequence': 'YDPSLKPL...          21.278988  \n",
       "3   [{'feature_id': 613701, 'sequence': 'CCYDGACVN...          24.040989  \n",
       "4   [{'feature_id': 1141101, 'sequence': 'VEADIPGH...           2.228853  \n",
       "5   [{'feature_id': 4719401, 'sequence': 'MPCAEDYL...          50.000000  \n",
       "6   [{'feature_id': 3697701, 'sequence': 'GPLLVQDV...          15.993129  \n",
       "7   [{'feature_id': 4694101, 'sequence': 'LLNQLQYC...           1.833112  \n",
       "8   [{'feature_id': 831801, 'sequence': 'ALIVLAHSE...           7.980084  \n",
       "9   [{'feature_id': 3963201, 'sequence': 'VTGLDFIP...          19.268632  \n",
       "10  [{'feature_id': 10101, 'sequence': 'GSSHHHHHHS...           1.808447  \n",
       "11  [{'feature_id': 2353401, 'sequence': 'TITLEVEP...           6.630570  \n",
       "12  [{'feature_id': 3621302, 'sequence': 'YIAWPLQG...           0.652547  \n",
       "13  [{'feature_id': 2709701, 'sequence': 'VLGAFSDG...          22.405856  \n",
       "14  [{'feature_id': 3076701, 'sequence': 'KVADALTN...           9.005671  \n",
       "15  [{'feature_id': 696401, 'sequence': 'HGEVCPAGW...           5.962635  "
      ]
     },
     "execution_count": 16,
     "metadata": {},
     "output_type": "execute_result"
    }
   ],
   "source": [
    "top3_with_df"
   ]
  },
  {
   "cell_type": "code",
   "execution_count": 17,
   "metadata": {},
   "outputs": [
    {
     "data": {
      "text/plain": [
       "1.1323926386766945"
      ]
     },
     "execution_count": 17,
     "metadata": {},
     "output_type": "execute_result"
    }
   ],
   "source": [
    "# calculate the CV for the signal response factor\n",
    "cv = top3_with_df.signal_response_factor.std() / top3_with_df.signal_response_factor.mean()\n",
    "cv"
   ]
  },
  {
   "cell_type": "markdown",
   "metadata": {},
   "source": [
    "#### without correction"
   ]
  },
  {
   "cell_type": "code",
   "execution_count": 18,
   "metadata": {},
   "outputs": [
    {
     "name": "stdout",
     "output_type": "stream",
     "text": [
      "didn't have three peptides for P00709ups|LALBA_HUMAN_UPS\n",
      "didn't have three peptides for P06732ups|KCRM_HUMAN_UPS\n",
      "didn't have three peptides for P62937ups|PPIA_HUMAN_UPS\n"
     ]
    }
   ],
   "source": [
    "# find the three most intense peptides for each protein\n",
    "top3_l = []\n",
    "for group_name,group_df in identifications_without_cs_df.groupby('protein id'):\n",
    "    df = group_df.sort_values(by=['feature_intensity'], ascending=False, inplace=False)\n",
    "    top3_df = df.head(n=3)\n",
    "    if len(top3_df) == 3:\n",
    "        uniprot_id = group_name.split('ups|')[0]\n",
    "        pmoles = ups2_d[uniprot_id] / 1000\n",
    "        average_intensity = top3_df.feature_intensity.mean()\n",
    "        signal_response_factor = average_intensity / pmoles\n",
    "        peptide_count = len(df)\n",
    "        attribs_d = top3_df[['feature_id','sequence','charge','feature_intensity']].to_dict('records')\n",
    "        top3_l.append({'protein':group_name, 'pmoles':pmoles, 'average_intensity':average_intensity, 'signal_response_factor':signal_response_factor, 'peptide_count':peptide_count, 'attribs_d':attribs_d})\n",
    "    else:\n",
    "        print('didn\\'t have three peptides for {}'.format(group_name))\n",
    "top3_without_df = pd.DataFrame(top3_l)"
   ]
  },
  {
   "cell_type": "code",
   "execution_count": 19,
   "metadata": {},
   "outputs": [],
   "source": [
    "# using Serum albumin (P02768) as an internal reference\n",
    "universal_signal_response_factor = top3_without_df[top3_without_df.protein.str.startswith('P02768')].iloc[0].signal_response_factor"
   ]
  },
  {
   "cell_type": "code",
   "execution_count": 20,
   "metadata": {},
   "outputs": [],
   "source": [
    "top3_without_df['calculated_pmoles'] = top3_without_df.average_intensity / universal_signal_response_factor"
   ]
  },
  {
   "cell_type": "code",
   "execution_count": 21,
   "metadata": {},
   "outputs": [
    {
     "data": {
      "text/plain": [
       "1.1887880097439447"
      ]
     },
     "execution_count": 21,
     "metadata": {},
     "output_type": "execute_result"
    }
   ],
   "source": [
    "# calculate the CV for the signal response factor\n",
    "cv = top3_without_df.signal_response_factor.std() / top3_without_df.signal_response_factor.mean()\n",
    "cv"
   ]
  },
  {
   "cell_type": "markdown",
   "metadata": {},
   "source": [
    "#### calculate correlation"
   ]
  },
  {
   "cell_type": "code",
   "execution_count": 22,
   "metadata": {},
   "outputs": [],
   "source": [
    "combined_df = pd.merge(top3_with_df, top3_without_df, how='inner', left_on=['protein'], right_on=['protein'], suffixes=['_with','_without'])"
   ]
  },
  {
   "cell_type": "code",
   "execution_count": 23,
   "metadata": {},
   "outputs": [
    {
     "data": {
      "text/html": [
       "<div>\n",
       "<style scoped>\n",
       "    .dataframe tbody tr th:only-of-type {\n",
       "        vertical-align: middle;\n",
       "    }\n",
       "\n",
       "    .dataframe tbody tr th {\n",
       "        vertical-align: top;\n",
       "    }\n",
       "\n",
       "    .dataframe thead th {\n",
       "        text-align: right;\n",
       "    }\n",
       "</style>\n",
       "<table border=\"1\" class=\"dataframe\">\n",
       "  <thead>\n",
       "    <tr style=\"text-align: right;\">\n",
       "      <th></th>\n",
       "      <th>protein</th>\n",
       "      <th>pmoles_with</th>\n",
       "      <th>average_intensity_with</th>\n",
       "      <th>signal_response_factor_with</th>\n",
       "      <th>peptide_count_with</th>\n",
       "      <th>attribs_d_with</th>\n",
       "      <th>calculated_pmoles_with</th>\n",
       "      <th>pmoles_without</th>\n",
       "      <th>average_intensity_without</th>\n",
       "      <th>signal_response_factor_without</th>\n",
       "      <th>peptide_count_without</th>\n",
       "      <th>attribs_d_without</th>\n",
       "      <th>calculated_pmoles_without</th>\n",
       "    </tr>\n",
       "  </thead>\n",
       "  <tbody>\n",
       "    <tr>\n",
       "      <th>12</th>\n",
       "      <td>P63165ups|SUMO1_HUMAN_UPS</td>\n",
       "      <td>5.0</td>\n",
       "      <td>1993.000000</td>\n",
       "      <td>398.600000</td>\n",
       "      <td>3</td>\n",
       "      <td>[{'feature_id': 3621302, 'sequence': 'YIAWPLQG...</td>\n",
       "      <td>0.652547</td>\n",
       "      <td>5.0</td>\n",
       "      <td>1993.000000</td>\n",
       "      <td>398.600000</td>\n",
       "      <td>3</td>\n",
       "      <td>[{'feature_id': 3621302, 'sequence': 'YIAWPLQG...</td>\n",
       "      <td>0.831900</td>\n",
       "    </tr>\n",
       "    <tr>\n",
       "      <th>3</th>\n",
       "      <td>P01031ups|CO5_HUMAN_UPS</td>\n",
       "      <td>50.0</td>\n",
       "      <td>73425.666667</td>\n",
       "      <td>1468.513333</td>\n",
       "      <td>8</td>\n",
       "      <td>[{'feature_id': 613701, 'sequence': 'CCYDGACVN...</td>\n",
       "      <td>24.040989</td>\n",
       "      <td>50.0</td>\n",
       "      <td>39044.333333</td>\n",
       "      <td>780.886667</td>\n",
       "      <td>8</td>\n",
       "      <td>[{'feature_id': 613701, 'sequence': 'CCYDGACVN...</td>\n",
       "      <td>16.297536</td>\n",
       "    </tr>\n",
       "    <tr>\n",
       "      <th>1</th>\n",
       "      <td>P00915ups|CAH1_HUMAN_UPS</td>\n",
       "      <td>50.0</td>\n",
       "      <td>89997.000000</td>\n",
       "      <td>1799.940000</td>\n",
       "      <td>57</td>\n",
       "      <td>[{'feature_id': 799501, 'sequence': 'HDTSLKPIS...</td>\n",
       "      <td>29.466765</td>\n",
       "      <td>50.0</td>\n",
       "      <td>80456.000000</td>\n",
       "      <td>1609.120000</td>\n",
       "      <td>57</td>\n",
       "      <td>[{'feature_id': 799501, 'sequence': 'HDTSLKPIS...</td>\n",
       "      <td>33.583223</td>\n",
       "    </tr>\n",
       "  </tbody>\n",
       "</table>\n",
       "</div>"
      ],
      "text/plain": [
       "                      protein  pmoles_with  average_intensity_with  \\\n",
       "12  P63165ups|SUMO1_HUMAN_UPS          5.0             1993.000000   \n",
       "3     P01031ups|CO5_HUMAN_UPS         50.0            73425.666667   \n",
       "1    P00915ups|CAH1_HUMAN_UPS         50.0            89997.000000   \n",
       "\n",
       "    signal_response_factor_with  peptide_count_with  \\\n",
       "12                   398.600000                   3   \n",
       "3                   1468.513333                   8   \n",
       "1                   1799.940000                  57   \n",
       "\n",
       "                                       attribs_d_with  calculated_pmoles_with  \\\n",
       "12  [{'feature_id': 3621302, 'sequence': 'YIAWPLQG...                0.652547   \n",
       "3   [{'feature_id': 613701, 'sequence': 'CCYDGACVN...               24.040989   \n",
       "1   [{'feature_id': 799501, 'sequence': 'HDTSLKPIS...               29.466765   \n",
       "\n",
       "    pmoles_without  average_intensity_without  signal_response_factor_without  \\\n",
       "12             5.0                1993.000000                      398.600000   \n",
       "3             50.0               39044.333333                      780.886667   \n",
       "1             50.0               80456.000000                     1609.120000   \n",
       "\n",
       "    peptide_count_without                                  attribs_d_without  \\\n",
       "12                      3  [{'feature_id': 3621302, 'sequence': 'YIAWPLQG...   \n",
       "3                       8  [{'feature_id': 613701, 'sequence': 'CCYDGACVN...   \n",
       "1                      57  [{'feature_id': 799501, 'sequence': 'HDTSLKPIS...   \n",
       "\n",
       "    calculated_pmoles_without  \n",
       "12                   0.831900  \n",
       "3                   16.297536  \n",
       "1                   33.583223  "
      ]
     },
     "execution_count": 23,
     "metadata": {},
     "output_type": "execute_result"
    }
   ],
   "source": [
    "combined_df.sample(n=3)"
   ]
  },
  {
   "cell_type": "code",
   "execution_count": 24,
   "metadata": {},
   "outputs": [
    {
     "data": {
      "text/plain": [
       "0.686995399792728"
      ]
     },
     "execution_count": 24,
     "metadata": {},
     "output_type": "execute_result"
    }
   ],
   "source": [
    "combined_df['pmoles_with'].corr(combined_df['calculated_pmoles_with'])"
   ]
  },
  {
   "cell_type": "code",
   "execution_count": 25,
   "metadata": {},
   "outputs": [
    {
     "data": {
      "text/plain": [
       "0.6826985946515682"
      ]
     },
     "execution_count": 25,
     "metadata": {},
     "output_type": "execute_result"
    }
   ],
   "source": [
    "combined_df['pmoles_without'].corr(combined_df['calculated_pmoles_without'])"
   ]
  },
  {
   "cell_type": "code",
   "execution_count": null,
   "metadata": {},
   "outputs": [],
   "source": []
  }
 ],
 "metadata": {
  "kernelspec": {
   "display_name": "Python 3",
   "language": "python",
   "name": "python3"
  },
  "language_info": {
   "codemirror_mode": {
    "name": "ipython",
    "version": 3
   },
   "file_extension": ".py",
   "mimetype": "text/x-python",
   "name": "python",
   "nbconvert_exporter": "python",
   "pygments_lexer": "ipython3",
   "version": "3.8.5"
  }
 },
 "nbformat": 4,
 "nbformat_minor": 4
}
