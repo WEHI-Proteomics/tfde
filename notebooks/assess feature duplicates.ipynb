{
 "cells": [
  {
   "cell_type": "code",
   "execution_count": 8,
   "metadata": {},
   "outputs": [],
   "source": [
    "import pandas as pd\n",
    "import pickle\n",
    "import numpy as np"
   ]
  },
  {
   "cell_type": "code",
   "execution_count": 9,
   "metadata": {},
   "outputs": [],
   "source": [
    "DUP_MZ_TOLERANCE_PPM = 5\n",
    "DUP_SCAN_TOLERANCE = 10\n",
    "DUP_RT_TOLERANCE = 5"
   ]
  },
  {
   "cell_type": "code",
   "execution_count": 13,
   "metadata": {},
   "outputs": [],
   "source": [
    "experiment_base_dir = '/media/big-ssd/experiments'\n",
    "experiment_name = 'P3856'\n",
    "precursor_definition_method = 'pasef'\n",
    "run_name = 'P3856_YHE211_1_Slot1-1_1_5104'"
   ]
  },
  {
   "cell_type": "code",
   "execution_count": 34,
   "metadata": {},
   "outputs": [],
   "source": [
    "# load the pre-dedup features\n",
    "EXPERIMENT_DIR = '{}/{}'.format(experiment_base_dir, experiment_name)\n",
    "FEATURES_DIR = '{}/features-{}-backup'.format(EXPERIMENT_DIR, precursor_definition_method)\n",
    "FEATURES_FILE = '{}/exp-{}-run-{}-features-{}.pkl'.format(FEATURES_DIR, experiment_name, run_name, precursor_definition_method)\n"
   ]
  },
  {
   "cell_type": "code",
   "execution_count": 35,
   "metadata": {},
   "outputs": [],
   "source": [
    "# load the features\n",
    "with open(FEATURES_FILE, 'rb') as handle:\n",
    "    features_df = pickle.load(handle)['features_df']"
   ]
  },
  {
   "cell_type": "code",
   "execution_count": 36,
   "metadata": {},
   "outputs": [
    {
     "data": {
      "text/plain": [
       "155262"
      ]
     },
     "execution_count": 36,
     "metadata": {},
     "output_type": "execute_result"
    }
   ],
   "source": [
    "len(features_df)"
   ]
  },
  {
   "cell_type": "code",
   "execution_count": 38,
   "metadata": {},
   "outputs": [],
   "source": [
    "# set up dup definitions\n",
    "MZ_TOLERANCE_PERCENT = DUP_MZ_TOLERANCE_PPM * 10**-4\n",
    "features_df['dup_mz'] = features_df['monoisotopic_mz']  # shorthand to reduce verbosity\n",
    "features_df['dup_mz_ppm_tolerance'] = features_df.dup_mz * MZ_TOLERANCE_PERCENT / 100\n",
    "features_df['dup_mz_lower'] = features_df.dup_mz - features_df.dup_mz_ppm_tolerance\n",
    "features_df['dup_mz_upper'] = features_df.dup_mz + features_df.dup_mz_ppm_tolerance\n",
    "features_df['dup_scan_lower'] = features_df.scan_apex - DUP_SCAN_TOLERANCE\n",
    "features_df['dup_scan_upper'] = features_df.scan_apex + DUP_SCAN_TOLERANCE\n",
    "features_df['dup_rt_lower'] = features_df.rt_apex - DUP_RT_TOLERANCE\n",
    "features_df['dup_rt_upper'] = features_df.rt_apex + DUP_RT_TOLERANCE\n",
    "\n",
    "# remove these after we're finished\n",
    "columns_to_drop_l = []\n",
    "columns_to_drop_l.append('dup_mz')\n",
    "columns_to_drop_l.append('dup_mz_ppm_tolerance')\n",
    "columns_to_drop_l.append('dup_mz_lower')\n",
    "columns_to_drop_l.append('dup_mz_upper')\n",
    "columns_to_drop_l.append('dup_scan_lower')\n",
    "columns_to_drop_l.append('dup_scan_upper')\n",
    "columns_to_drop_l.append('dup_rt_lower')\n",
    "columns_to_drop_l.append('dup_rt_upper')\n",
    "\n",
    "# sort by decreasing intensity\n",
    "features_df.sort_values(by=['feature_intensity'], ascending=False, inplace=True)\n",
    "\n",
    "selected_features_df = features_df.sample(n=100)\n",
    "\n",
    "# see if any detections have a duplicate - if so, find the dup with the highest intensity (i.e. the first in the group) and keep it\n",
    "keep_l = []\n",
    "dups_l = []\n",
    "for row in selected_features_df.itertuples():\n",
    "    dup_df = features_df[(features_df.dup_mz > row.dup_mz_lower) & (features_df.dup_mz < row.dup_mz_upper) & (features_df.scan_apex > row.dup_scan_lower) & (features_df.scan_apex < row.dup_scan_upper) & (features_df.rt_apex > row.dup_rt_lower) & (features_df.rt_apex < row.dup_rt_upper)].copy()\n",
    "    if len(dup_df) > 1:\n",
    "        dups_l.append(dup_df)\n",
    "    # group the dups by charge - take the most intense for each charge\n",
    "    for group_name,group_df in dup_df.groupby(['charge'], as_index=False):\n",
    "        keep_l.append(group_df.iloc[0].feature_id)\n",
    "# remove any features that are not in the keep list\n",
    "dedup_df = features_df[features_df.feature_id.isin(keep_l)].copy()\n"
   ]
  },
  {
   "cell_type": "code",
   "execution_count": 46,
   "metadata": {},
   "outputs": [
    {
     "data": {
      "text/html": [
       "<div>\n",
       "<style scoped>\n",
       "    .dataframe tbody tr th:only-of-type {\n",
       "        vertical-align: middle;\n",
       "    }\n",
       "\n",
       "    .dataframe tbody tr th {\n",
       "        vertical-align: top;\n",
       "    }\n",
       "\n",
       "    .dataframe thead th {\n",
       "        text-align: right;\n",
       "    }\n",
       "</style>\n",
       "<table border=\"1\" class=\"dataframe\">\n",
       "  <thead>\n",
       "    <tr style=\"text-align: right;\">\n",
       "      <th></th>\n",
       "      <th>monoisotopic_mz</th>\n",
       "      <th>charge</th>\n",
       "      <th>scan_apex</th>\n",
       "      <th>rt_apex</th>\n",
       "      <th>feature_intensity</th>\n",
       "      <th>feature_id</th>\n",
       "      <th>dup_mz_lower</th>\n",
       "      <th>dup_mz_upper</th>\n",
       "    </tr>\n",
       "  </thead>\n",
       "  <tbody>\n",
       "    <tr>\n",
       "      <th>3</th>\n",
       "      <td>936.443668</td>\n",
       "      <td>2</td>\n",
       "      <td>342.0</td>\n",
       "      <td>1706.014571</td>\n",
       "      <td>677582.0</td>\n",
       "      <td>1208704</td>\n",
       "      <td>936.438986</td>\n",
       "      <td>936.448351</td>\n",
       "    </tr>\n",
       "    <tr>\n",
       "      <th>4</th>\n",
       "      <td>936.442928</td>\n",
       "      <td>2</td>\n",
       "      <td>342.0</td>\n",
       "      <td>1705.486022</td>\n",
       "      <td>633215.0</td>\n",
       "      <td>1231505</td>\n",
       "      <td>936.438246</td>\n",
       "      <td>936.447610</td>\n",
       "    </tr>\n",
       "    <tr>\n",
       "      <th>3</th>\n",
       "      <td>936.441622</td>\n",
       "      <td>2</td>\n",
       "      <td>341.0</td>\n",
       "      <td>1706.014571</td>\n",
       "      <td>622063.0</td>\n",
       "      <td>1194904</td>\n",
       "      <td>936.436939</td>\n",
       "      <td>936.446304</td>\n",
       "    </tr>\n",
       "    <tr>\n",
       "      <th>3</th>\n",
       "      <td>936.441549</td>\n",
       "      <td>2</td>\n",
       "      <td>341.0</td>\n",
       "      <td>1706.014571</td>\n",
       "      <td>618879.0</td>\n",
       "      <td>1193404</td>\n",
       "      <td>936.436867</td>\n",
       "      <td>936.446231</td>\n",
       "    </tr>\n",
       "    <tr>\n",
       "      <th>2</th>\n",
       "      <td>936.444472</td>\n",
       "      <td>2</td>\n",
       "      <td>337.0</td>\n",
       "      <td>1705.486022</td>\n",
       "      <td>560329.0</td>\n",
       "      <td>1156203</td>\n",
       "      <td>936.439790</td>\n",
       "      <td>936.449155</td>\n",
       "    </tr>\n",
       "    <tr>\n",
       "      <th>4</th>\n",
       "      <td>936.444792</td>\n",
       "      <td>2</td>\n",
       "      <td>341.0</td>\n",
       "      <td>1705.486022</td>\n",
       "      <td>557413.0</td>\n",
       "      <td>1266005</td>\n",
       "      <td>936.440110</td>\n",
       "      <td>936.449474</td>\n",
       "    </tr>\n",
       "    <tr>\n",
       "      <th>1</th>\n",
       "      <td>936.443811</td>\n",
       "      <td>2</td>\n",
       "      <td>342.0</td>\n",
       "      <td>1704.957376</td>\n",
       "      <td>551478.0</td>\n",
       "      <td>1262602</td>\n",
       "      <td>936.439129</td>\n",
       "      <td>936.448493</td>\n",
       "    </tr>\n",
       "    <tr>\n",
       "      <th>4</th>\n",
       "      <td>936.440322</td>\n",
       "      <td>2</td>\n",
       "      <td>343.0</td>\n",
       "      <td>1705.486022</td>\n",
       "      <td>502464.0</td>\n",
       "      <td>1202805</td>\n",
       "      <td>936.435640</td>\n",
       "      <td>936.445004</td>\n",
       "    </tr>\n",
       "  </tbody>\n",
       "</table>\n",
       "</div>"
      ],
      "text/plain": [
       "   monoisotopic_mz  charge  scan_apex      rt_apex  feature_intensity  \\\n",
       "3       936.443668       2      342.0  1706.014571           677582.0   \n",
       "4       936.442928       2      342.0  1705.486022           633215.0   \n",
       "3       936.441622       2      341.0  1706.014571           622063.0   \n",
       "3       936.441549       2      341.0  1706.014571           618879.0   \n",
       "2       936.444472       2      337.0  1705.486022           560329.0   \n",
       "4       936.444792       2      341.0  1705.486022           557413.0   \n",
       "1       936.443811       2      342.0  1704.957376           551478.0   \n",
       "4       936.440322       2      343.0  1705.486022           502464.0   \n",
       "\n",
       "   feature_id  dup_mz_lower  dup_mz_upper  \n",
       "3     1208704    936.438986    936.448351  \n",
       "4     1231505    936.438246    936.447610  \n",
       "3     1194904    936.436939    936.446304  \n",
       "3     1193404    936.436867    936.446231  \n",
       "2     1156203    936.439790    936.449155  \n",
       "4     1266005    936.440110    936.449474  \n",
       "1     1262602    936.439129    936.448493  \n",
       "4     1202805    936.435640    936.445004  "
      ]
     },
     "execution_count": 46,
     "metadata": {},
     "output_type": "execute_result"
    }
   ],
   "source": [
    "dups_l[50][['monoisotopic_mz','charge','scan_apex','rt_apex','feature_intensity','feature_id','dup_mz_lower','dup_mz_upper']]"
   ]
  },
  {
   "cell_type": "code",
   "execution_count": 48,
   "metadata": {},
   "outputs": [
    {
     "data": {
      "text/plain": [
       "0.004682500000001255"
      ]
     },
     "execution_count": 48,
     "metadata": {},
     "output_type": "execute_result"
    }
   ],
   "source": [
    "(936.448351-936.438986)/2"
   ]
  },
  {
   "cell_type": "code",
   "execution_count": null,
   "metadata": {},
   "outputs": [],
   "source": []
  }
 ],
 "metadata": {
  "kernelspec": {
   "display_name": "Python 3",
   "language": "python",
   "name": "python3"
  },
  "language_info": {
   "codemirror_mode": {
    "name": "ipython",
    "version": 3
   },
   "file_extension": ".py",
   "mimetype": "text/x-python",
   "name": "python",
   "nbconvert_exporter": "python",
   "pygments_lexer": "ipython3",
   "version": "3.8.5"
  }
 },
 "nbformat": 4,
 "nbformat_minor": 4
}
