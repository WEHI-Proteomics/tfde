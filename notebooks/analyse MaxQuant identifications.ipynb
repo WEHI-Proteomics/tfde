{
 "cells": [
  {
   "cell_type": "code",
   "execution_count": 1,
   "metadata": {},
   "outputs": [],
   "source": [
    "import pandas as pd\n",
    "import numpy as np\n",
    "import os\n",
    "import matplotlib.pyplot as plt"
   ]
  },
  {
   "cell_type": "code",
   "execution_count": 2,
   "metadata": {},
   "outputs": [],
   "source": [
    "sequences_df = pd.read_csv('/Users/darylwilding-mcbride/Downloads/evidence-yhe-no-mbr.txt', sep='\\\\t', engine='python')"
   ]
  },
  {
   "cell_type": "code",
   "execution_count": 4,
   "metadata": {},
   "outputs": [],
   "source": [
    "# remove decoys, which are indicated by a '+' in the Reverse column, and features with no intensity\n",
    "sequences_df = sequences_df[pd.isna(sequences_df.Reverse) & (sequences_df.Intensity > 0) & pd.notnull(sequences_df['Modified sequence'])]"
   ]
  },
  {
   "cell_type": "code",
   "execution_count": 6,
   "metadata": {},
   "outputs": [
    {
     "data": {
      "text/plain": [
       "31923"
      ]
     },
     "execution_count": 6,
     "metadata": {},
     "output_type": "execute_result"
    }
   ],
   "source": [
    "len(sequences_df.drop_duplicates(subset=['Modified sequence', 'Charge'], keep='first', inplace=False))"
   ]
  },
  {
   "cell_type": "code",
   "execution_count": 8,
   "metadata": {},
   "outputs": [],
   "source": [
    "sequences_df['group'] = sequences_df['Raw file'].apply(lambda x: x.split('_')[0])"
   ]
  },
  {
   "cell_type": "markdown",
   "metadata": {},
   "source": [
    "#### analyse the YHE runs"
   ]
  },
  {
   "cell_type": "code",
   "execution_count": 9,
   "metadata": {},
   "outputs": [],
   "source": [
    "yhe_only_df = sequences_df[(sequences_df.group == 'YHE211') | (sequences_df.group == 'YHE114')]"
   ]
  },
  {
   "cell_type": "code",
   "execution_count": 12,
   "metadata": {},
   "outputs": [],
   "source": [
    "# count how many runs each sequence/charge was extracted from\n",
    "sequence_occurences_l = []\n",
    "for group_name,group_df in yhe_only_df.groupby(['Modified sequence','Charge'], as_index=False):\n",
    "    sequence_occurences_l.append((group_name[0], group_name[1], len(group_df['Raw file'].unique())))\n",
    "yhe_sequence_occurences_df = pd.DataFrame(sequence_occurences_l, columns=['sequence','charge','number_of_runs_extracted'])"
   ]
  },
  {
   "cell_type": "code",
   "execution_count": 14,
   "metadata": {},
   "outputs": [
    {
     "name": "stdout",
     "output_type": "stream",
     "text": [
      "there are 21 runs in the experiment\n"
     ]
    }
   ],
   "source": [
    "number_of_yhe_runs_in_experiment = len(yhe_only_df['Raw file'].unique())\n",
    "print('there are {} runs in the experiment'.format(number_of_yhe_runs_in_experiment))"
   ]
  },
  {
   "cell_type": "code",
   "execution_count": 16,
   "metadata": {},
   "outputs": [
    {
     "name": "stdout",
     "output_type": "stream",
     "text": [
      "55.0% of values missing across the YHE runs.\n"
     ]
    }
   ],
   "source": [
    "# display the number of missing values across the experiment\n",
    "yhe_sequence_occurences_df['missing_files'] = number_of_yhe_runs_in_experiment - yhe_sequence_occurences_df.number_of_runs_extracted\n",
    "proportion_of_missing_extractions = yhe_sequence_occurences_df.missing_files.sum() / (len(yhe_sequence_occurences_df) * number_of_yhe_runs_in_experiment)\n",
    "print(\"{}% of values missing across the YHE runs.\".format(round(proportion_of_missing_extractions*100)))"
   ]
  },
  {
   "cell_type": "code",
   "execution_count": 18,
   "metadata": {},
   "outputs": [
    {
     "data": {
      "text/plain": [
       "23555"
      ]
     },
     "execution_count": 18,
     "metadata": {},
     "output_type": "execute_result"
    }
   ],
   "source": [
    "len(yhe_only_df['Modified sequence'].unique())"
   ]
  },
  {
   "cell_type": "code",
   "execution_count": 41,
   "metadata": {},
   "outputs": [
    {
     "data": {
      "image/png": "[encoded data removed]",
      "text/plain": [
       "<Figure size 1080x576 with 1 Axes>"
      ]
     },
     "metadata": {
      "needs_background": "light"
     },
     "output_type": "display_data"
    }
   ],
   "source": [
    "f, ax1 = plt.subplots()\n",
    "f.set_figheight(8)\n",
    "f.set_figwidth(15)\n",
    "\n",
    "plt.margins(0.06)\n",
    "plt.suptitle('Distribution of sequence identifications extracted from the YHE runs for MaxQuant (no MBR)')\n",
    "# plt.title('total {} modified peptide sequences'.format(modified_sequences_count))\n",
    "\n",
    "counts = np.bincount(yhe_sequence_occurences_df.number_of_runs_extracted)\n",
    "ax1.bar(range(22), counts, width=0.8, align='center')\n",
    "plt.xlabel('number of files in which a modified sequence-charge was extracted')\n",
    "plt.ylabel('frequency')\n",
    "ax1.set(xticks=range(1,22), xlim=[0, 22])\n",
    "# plt.ylim((0,20000))\n",
    "\n",
    "plt.show()"
   ]
  },
  {
   "cell_type": "markdown",
   "metadata": {},
   "source": [
    "#### analyse the human-only runs"
   ]
  },
  {
   "cell_type": "code",
   "execution_count": 29,
   "metadata": {},
   "outputs": [],
   "source": [
    "human_only_df = sequences_df[(sequences_df.group == 'YHE010')].copy()"
   ]
  },
  {
   "cell_type": "code",
   "execution_count": 30,
   "metadata": {},
   "outputs": [],
   "source": [
    "# count how many runs each sequence/charge was extracted from\n",
    "sequence_occurences_l = []\n",
    "for group_name,group_df in human_only_df.groupby(['Modified sequence','Charge'], as_index=False):\n",
    "    sequence_occurences_l.append((group_name[0], group_name[1], len(group_df['Raw file'].unique())))\n",
    "human_sequence_occurences_df = pd.DataFrame(sequence_occurences_l, columns=['sequence','charge','number_of_runs_extracted'])"
   ]
  },
  {
   "cell_type": "code",
   "execution_count": 31,
   "metadata": {},
   "outputs": [
    {
     "name": "stdout",
     "output_type": "stream",
     "text": [
      "there are 10 human-only runs in the experiment\n"
     ]
    }
   ],
   "source": [
    "number_of_human_runs_in_experiment = len(human_only_df['Raw file'].unique())\n",
    "print('there are {} human-only runs in the experiment'.format(number_of_human_runs_in_experiment))"
   ]
  },
  {
   "cell_type": "code",
   "execution_count": 32,
   "metadata": {},
   "outputs": [
    {
     "name": "stdout",
     "output_type": "stream",
     "text": [
      "49.0% of values missing across the experiment.\n"
     ]
    }
   ],
   "source": [
    "# display the number of missing values across the experiment\n",
    "human_sequence_occurences_df['missing_files'] = number_of_human_runs_in_experiment - human_sequence_occurences_df.number_of_runs_extracted\n",
    "proportion_of_missing_extractions = human_sequence_occurences_df.missing_files.sum() / (len(human_sequence_occurences_df) * number_of_human_runs_in_experiment)\n",
    "print(\"{}% of values missing across the experiment.\".format(round(proportion_of_missing_extractions*100)))"
   ]
  },
  {
   "cell_type": "code",
   "execution_count": 35,
   "metadata": {},
   "outputs": [],
   "source": [
    "unique_sequences_human_df = human_only_df.drop_duplicates(subset=['Modified sequence', 'Charge'], keep='first', inplace=False).copy()"
   ]
  },
  {
   "cell_type": "code",
   "execution_count": 36,
   "metadata": {},
   "outputs": [],
   "source": [
    "# how many are not human?\n",
    "unique_sequences_human_df['human'] = unique_sequences_human_df['Proteins'].str.contains('HUMAN')"
   ]
  },
  {
   "cell_type": "code",
   "execution_count": 37,
   "metadata": {},
   "outputs": [
    {
     "data": {
      "text/plain": [
       "True     20366\n",
       "False      270\n",
       "Name: human, dtype: int64"
      ]
     },
     "execution_count": 37,
     "metadata": {},
     "output_type": "execute_result"
    }
   ],
   "source": [
    "unique_sequences_human_df.human.value_counts()"
   ]
  },
  {
   "cell_type": "code",
   "execution_count": 38,
   "metadata": {},
   "outputs": [
    {
     "name": "stdout",
     "output_type": "stream",
     "text": [
      "false positives: 1.3%\n"
     ]
    }
   ],
   "source": [
    "print('false positives: {}%'.format(round(len(unique_sequences_human_df[(unique_sequences_human_df.human == False)]) / len(unique_sequences_human_df) * 100.0, 1)))"
   ]
  },
  {
   "cell_type": "code",
   "execution_count": 42,
   "metadata": {},
   "outputs": [
    {
     "data": {
      "image/png": "[encoded data removed]",
      "text/plain": [
       "<Figure size 1080x576 with 1 Axes>"
      ]
     },
     "metadata": {
      "needs_background": "light"
     },
     "output_type": "display_data"
    }
   ],
   "source": [
    "f, ax1 = plt.subplots()\n",
    "f.set_figheight(8)\n",
    "f.set_figwidth(15)\n",
    "\n",
    "plt.margins(0.06)\n",
    "plt.suptitle('Distribution of sequence identifications extracted from the human-only runs for MaxQuant (no MBR)')\n",
    "# plt.title('total {} modified peptide sequences'.format(modified_sequences_count))\n",
    "\n",
    "counts = np.bincount(human_sequence_occurences_df.number_of_runs_extracted)\n",
    "ax1.bar(range(11), counts, width=0.8, align='center')\n",
    "plt.xlabel('number of files in which a modified sequence-charge was extracted')\n",
    "plt.ylabel('frequency')\n",
    "ax1.set(xticks=range(1,11), xlim=[0, 11])\n",
    "# plt.ylim((0,20000))\n",
    "\n",
    "plt.show()"
   ]
  },
  {
   "cell_type": "code",
   "execution_count": null,
   "metadata": {},
   "outputs": [],
   "source": []
  }
 ],
 "metadata": {
  "kernelspec": {
   "display_name": "Python 3",
   "language": "python",
   "name": "python3"
  },
  "language_info": {
   "codemirror_mode": {
    "name": "ipython",
    "version": 3
   },
   "file_extension": ".py",
   "mimetype": "text/x-python",
   "name": "python",
   "nbconvert_exporter": "python",
   "pygments_lexer": "ipython3",
   "version": "3.6.8"
  }
 },
 "nbformat": 4,
 "nbformat_minor": 2
}
