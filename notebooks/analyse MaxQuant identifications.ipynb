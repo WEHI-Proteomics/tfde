{
 "cells": [
  {
   "cell_type": "code",
   "execution_count": 1,
   "metadata": {},
   "outputs": [],
   "source": [
    "import pandas as pd\n",
    "import numpy as np\n",
    "import os\n",
    "import matplotlib.pyplot as plt"
   ]
  },
  {
   "cell_type": "code",
   "execution_count": 2,
   "metadata": {},
   "outputs": [],
   "source": [
    "sequences_df = pd.read_csv('/Users/darylwilding-mcbride/Downloads/evidence-6-oct.txt', sep='\\\\t', engine='python')"
   ]
  },
  {
   "cell_type": "code",
   "execution_count": 3,
   "metadata": {},
   "outputs": [],
   "source": [
    "# remove decoys, which are indicated by a '+' in the Reverse column, and features with no intensity\n",
    "sequences_df = sequences_df[pd.isna(sequences_df.Reverse) & (sequences_df.Intensity > 0) & pd.notnull(sequences_df['Modified sequence'])]"
   ]
  },
  {
   "cell_type": "code",
   "execution_count": 4,
   "metadata": {},
   "outputs": [
    {
     "data": {
      "text/plain": [
       "Index(['Sequence', 'Length', 'Modifications', 'Modified sequence',\n",
       "       'Oxidation (M) Probabilities', 'Oxidation (M) Score Diffs',\n",
       "       'Acetyl (Protein N-term)', 'Oxidation (M)', 'Missed cleavages',\n",
       "       'Proteins', 'Leading proteins', 'Leading razor protein', 'Type',\n",
       "       'Raw file', 'MS/MS m/z', 'Charge', 'm/z', 'Mass',\n",
       "       'Uncalibrated - Calibrated m/z [ppm]',\n",
       "       'Uncalibrated - Calibrated m/z [Da]', 'Mass error [ppm]',\n",
       "       'Mass error [Da]', 'Uncalibrated mass error [ppm]',\n",
       "       'Uncalibrated mass error [Da]', 'Max intensity m/z 0', 'Retention time',\n",
       "       'Retention length', 'Calibrated retention time',\n",
       "       'Calibrated retention time start', 'Calibrated retention time finish',\n",
       "       'Retention time calibration', 'Ion mobility index',\n",
       "       'Ion mobility length', '1/K0', '1/K0 length', 'Calibrated 1/K0', 'CCS',\n",
       "       'Calibrated CCS', 'CCS length', 'Match time difference',\n",
       "       'Match m/z difference', 'Match K0 difference', 'Match q-value',\n",
       "       'Match score', 'Number of data points', 'Number of scans',\n",
       "       'Number of isotopic peaks', 'PIF', 'Fraction of total spectrum',\n",
       "       'Base peak fraction', 'PEP', 'MS/MS count', 'MS/MS scan number',\n",
       "       'Score', 'Delta score', 'Combinatorics', 'Intensity', 'Reverse',\n",
       "       'Potential contaminant', 'id', 'Protein group IDs', 'Peptide ID',\n",
       "       'Mod. peptide ID', 'MS/MS IDs', 'Best MS/MS', 'Oxidation (M) site IDs',\n",
       "       'Taxonomy IDs'],\n",
       "      dtype='object')"
      ]
     },
     "execution_count": 4,
     "metadata": {},
     "output_type": "execute_result"
    }
   ],
   "source": [
    "sequences_df.columns"
   ]
  },
  {
   "cell_type": "code",
   "execution_count": 5,
   "metadata": {},
   "outputs": [
    {
     "data": {
      "text/html": [
       "<div>\n",
       "<style scoped>\n",
       "    .dataframe tbody tr th:only-of-type {\n",
       "        vertical-align: middle;\n",
       "    }\n",
       "\n",
       "    .dataframe tbody tr th {\n",
       "        vertical-align: top;\n",
       "    }\n",
       "\n",
       "    .dataframe thead th {\n",
       "        text-align: right;\n",
       "    }\n",
       "</style>\n",
       "<table border=\"1\" class=\"dataframe\">\n",
       "  <thead>\n",
       "    <tr style=\"text-align: right;\">\n",
       "      <th></th>\n",
       "      <th>Sequence</th>\n",
       "      <th>Modifications</th>\n",
       "      <th>Modified sequence</th>\n",
       "    </tr>\n",
       "  </thead>\n",
       "  <tbody>\n",
       "    <tr>\n",
       "      <th>172066</th>\n",
       "      <td>FLSAPEAVEYGLVDSILTHR</td>\n",
       "      <td>Unmodified</td>\n",
       "      <td>_FLSAPEAVEYGLVDSILTHR_</td>\n",
       "    </tr>\n",
       "    <tr>\n",
       "      <th>490109</th>\n",
       "      <td>SGDAAIVDMVPGKPMCVESFSDYPPLGR</td>\n",
       "      <td>Unmodified</td>\n",
       "      <td>_SGDAAIVDMVPGKPMCVESFSDYPPLGR_</td>\n",
       "    </tr>\n",
       "    <tr>\n",
       "      <th>273213</th>\n",
       "      <td>IMYTVFEHTFHVR</td>\n",
       "      <td>Unmodified</td>\n",
       "      <td>_IMYTVFEHTFHVR_</td>\n",
       "    </tr>\n",
       "    <tr>\n",
       "      <th>344794</th>\n",
       "      <td>LLVVYPWTQR</td>\n",
       "      <td>Unmodified</td>\n",
       "      <td>_LLVVYPWTQR_</td>\n",
       "    </tr>\n",
       "    <tr>\n",
       "      <th>327215</th>\n",
       "      <td>LGTQEYLQQLESHMK</td>\n",
       "      <td>Unmodified</td>\n",
       "      <td>_LGTQEYLQQLESHMK_</td>\n",
       "    </tr>\n",
       "    <tr>\n",
       "      <th>486015</th>\n",
       "      <td>SEGTYLNSVIESHTEFIFTTIK</td>\n",
       "      <td>Unmodified</td>\n",
       "      <td>_SEGTYLNSVIESHTEFIFTTIK_</td>\n",
       "    </tr>\n",
       "    <tr>\n",
       "      <th>575575</th>\n",
       "      <td>VDSDDQWGEYSCVFLPEPMGTANIQLHGPPR</td>\n",
       "      <td>Unmodified</td>\n",
       "      <td>_VDSDDQWGEYSCVFLPEPMGTANIQLHGPPR_</td>\n",
       "    </tr>\n",
       "    <tr>\n",
       "      <th>401614</th>\n",
       "      <td>NAELDPVTTEEQVLDVK</td>\n",
       "      <td>Unmodified</td>\n",
       "      <td>_NAELDPVTTEEQVLDVK_</td>\n",
       "    </tr>\n",
       "    <tr>\n",
       "      <th>409591</th>\n",
       "      <td>NGLSPIHMAAQGDHLDCVR</td>\n",
       "      <td>Unmodified</td>\n",
       "      <td>_NGLSPIHMAAQGDHLDCVR_</td>\n",
       "    </tr>\n",
       "    <tr>\n",
       "      <th>447527</th>\n",
       "      <td>PYFLTDGTGTVTPANASGINDGAAAVVLMK</td>\n",
       "      <td>Unmodified</td>\n",
       "      <td>_PYFLTDGTGTVTPANASGINDGAAAVVLMK_</td>\n",
       "    </tr>\n",
       "  </tbody>\n",
       "</table>\n",
       "</div>"
      ],
      "text/plain": [
       "                               Sequence Modifications  \\\n",
       "172066             FLSAPEAVEYGLVDSILTHR    Unmodified   \n",
       "490109     SGDAAIVDMVPGKPMCVESFSDYPPLGR    Unmodified   \n",
       "273213                    IMYTVFEHTFHVR    Unmodified   \n",
       "344794                       LLVVYPWTQR    Unmodified   \n",
       "327215                  LGTQEYLQQLESHMK    Unmodified   \n",
       "486015           SEGTYLNSVIESHTEFIFTTIK    Unmodified   \n",
       "575575  VDSDDQWGEYSCVFLPEPMGTANIQLHGPPR    Unmodified   \n",
       "401614                NAELDPVTTEEQVLDVK    Unmodified   \n",
       "409591              NGLSPIHMAAQGDHLDCVR    Unmodified   \n",
       "447527   PYFLTDGTGTVTPANASGINDGAAAVVLMK    Unmodified   \n",
       "\n",
       "                        Modified sequence  \n",
       "172066             _FLSAPEAVEYGLVDSILTHR_  \n",
       "490109     _SGDAAIVDMVPGKPMCVESFSDYPPLGR_  \n",
       "273213                    _IMYTVFEHTFHVR_  \n",
       "344794                       _LLVVYPWTQR_  \n",
       "327215                  _LGTQEYLQQLESHMK_  \n",
       "486015           _SEGTYLNSVIESHTEFIFTTIK_  \n",
       "575575  _VDSDDQWGEYSCVFLPEPMGTANIQLHGPPR_  \n",
       "401614                _NAELDPVTTEEQVLDVK_  \n",
       "409591              _NGLSPIHMAAQGDHLDCVR_  \n",
       "447527   _PYFLTDGTGTVTPANASGINDGAAAVVLMK_  "
      ]
     },
     "execution_count": 5,
     "metadata": {},
     "output_type": "execute_result"
    }
   ],
   "source": [
    "sequences_df[['Sequence','Modifications','Modified sequence']].sample(n=10)"
   ]
  },
  {
   "cell_type": "code",
   "execution_count": 6,
   "metadata": {},
   "outputs": [
    {
     "data": {
      "text/plain": [
       "array(['Unmodified', 'Acetyl (Protein N-term)', 'Oxidation (M)',\n",
       "       'Acetyl (Protein N-term),Oxidation (M)', '2 Oxidation (M)',\n",
       "       'Acetyl (Protein N-term),2 Oxidation (M)'], dtype=object)"
      ]
     },
     "execution_count": 6,
     "metadata": {},
     "output_type": "execute_result"
    }
   ],
   "source": [
    "sequences_df.Modifications.unique()"
   ]
  },
  {
   "cell_type": "code",
   "execution_count": 7,
   "metadata": {},
   "outputs": [
    {
     "data": {
      "text/html": [
       "<div>\n",
       "<style scoped>\n",
       "    .dataframe tbody tr th:only-of-type {\n",
       "        vertical-align: middle;\n",
       "    }\n",
       "\n",
       "    .dataframe tbody tr th {\n",
       "        vertical-align: top;\n",
       "    }\n",
       "\n",
       "    .dataframe thead th {\n",
       "        text-align: right;\n",
       "    }\n",
       "</style>\n",
       "<table border=\"1\" class=\"dataframe\">\n",
       "  <thead>\n",
       "    <tr style=\"text-align: right;\">\n",
       "      <th></th>\n",
       "      <th>Sequence</th>\n",
       "      <th>Length</th>\n",
       "      <th>Modifications</th>\n",
       "      <th>Modified sequence</th>\n",
       "      <th>Oxidation (M) Probabilities</th>\n",
       "      <th>Oxidation (M) Score Diffs</th>\n",
       "      <th>Acetyl (Protein N-term)</th>\n",
       "      <th>Oxidation (M)</th>\n",
       "      <th>Missed cleavages</th>\n",
       "      <th>Proteins</th>\n",
       "      <th>...</th>\n",
       "      <th>Reverse</th>\n",
       "      <th>Potential contaminant</th>\n",
       "      <th>id</th>\n",
       "      <th>Protein group IDs</th>\n",
       "      <th>Peptide ID</th>\n",
       "      <th>Mod. peptide ID</th>\n",
       "      <th>MS/MS IDs</th>\n",
       "      <th>Best MS/MS</th>\n",
       "      <th>Oxidation (M) site IDs</th>\n",
       "      <th>Taxonomy IDs</th>\n",
       "    </tr>\n",
       "  </thead>\n",
       "  <tbody>\n",
       "  </tbody>\n",
       "</table>\n",
       "<p>0 rows × 67 columns</p>\n",
       "</div>"
      ],
      "text/plain": [
       "Empty DataFrame\n",
       "Columns: [Sequence, Length, Modifications, Modified sequence, Oxidation (M) Probabilities, Oxidation (M) Score Diffs, Acetyl (Protein N-term), Oxidation (M), Missed cleavages, Proteins, Leading proteins, Leading razor protein, Type, Raw file, MS/MS m/z, Charge, m/z, Mass, Uncalibrated - Calibrated m/z [ppm], Uncalibrated - Calibrated m/z [Da], Mass error [ppm], Mass error [Da], Uncalibrated mass error [ppm], Uncalibrated mass error [Da], Max intensity m/z 0, Retention time, Retention length, Calibrated retention time, Calibrated retention time start, Calibrated retention time finish, Retention time calibration, Ion mobility index, Ion mobility length, 1/K0, 1/K0 length, Calibrated 1/K0, CCS, Calibrated CCS, CCS length, Match time difference, Match m/z difference, Match K0 difference, Match q-value, Match score, Number of data points, Number of scans, Number of isotopic peaks, PIF, Fraction of total spectrum, Base peak fraction, PEP, MS/MS count, MS/MS scan number, Score, Delta score, Combinatorics, Intensity, Reverse, Potential contaminant, id, Protein group IDs, Peptide ID, Mod. peptide ID, MS/MS IDs, Best MS/MS, Oxidation (M) site IDs, Taxonomy IDs]\n",
       "Index: []\n",
       "\n",
       "[0 rows x 67 columns]"
      ]
     },
     "execution_count": 7,
     "metadata": {},
     "output_type": "execute_result"
    }
   ],
   "source": [
    "sequences_df[sequences_df['Modified sequence'] == '']"
   ]
  },
  {
   "cell_type": "code",
   "execution_count": 8,
   "metadata": {},
   "outputs": [
    {
     "data": {
      "text/plain": [
       "array(['TIMS-MULTI-MSMS'], dtype=object)"
      ]
     },
     "execution_count": 8,
     "metadata": {},
     "output_type": "execute_result"
    }
   ],
   "source": [
    "sequences_df['Type'].unique()"
   ]
  },
  {
   "cell_type": "code",
   "execution_count": 9,
   "metadata": {},
   "outputs": [
    {
     "data": {
      "text/plain": [
       "31278"
      ]
     },
     "execution_count": 9,
     "metadata": {},
     "output_type": "execute_result"
    }
   ],
   "source": [
    "len(sequences_df.drop_duplicates(subset=['Modified sequence', 'Charge'], keep='first', inplace=False))"
   ]
  },
  {
   "cell_type": "code",
   "execution_count": 10,
   "metadata": {},
   "outputs": [],
   "source": [
    "sequences_df['group'] = sequences_df['Raw file'].apply(lambda x: x.split('_')[0])"
   ]
  },
  {
   "cell_type": "markdown",
   "metadata": {},
   "source": [
    "#### analyse the YHE runs"
   ]
  },
  {
   "cell_type": "code",
   "execution_count": 11,
   "metadata": {},
   "outputs": [],
   "source": [
    "yhe_only_df = sequences_df[(sequences_df.group == 'YHE211') | (sequences_df.group == 'YHE114')]"
   ]
  },
  {
   "cell_type": "code",
   "execution_count": 12,
   "metadata": {},
   "outputs": [],
   "source": [
    "# count how many runs each sequence/charge was extracted from\n",
    "sequence_occurences_l = []\n",
    "for group_name,group_df in yhe_only_df.groupby(['Modified sequence','Charge'], as_index=False):\n",
    "    sequence_occurences_l.append((group_name[0], group_name[1], len(group_df['Raw file'].unique())))\n",
    "yhe_sequence_occurences_df = pd.DataFrame(sequence_occurences_l, columns=['sequence','charge','number_of_runs_extracted'])"
   ]
  },
  {
   "cell_type": "code",
   "execution_count": 13,
   "metadata": {},
   "outputs": [
    {
     "name": "stdout",
     "output_type": "stream",
     "text": [
      "there are 21 runs in the experiment\n"
     ]
    }
   ],
   "source": [
    "number_of_yhe_runs_in_experiment = len(yhe_only_df['Raw file'].unique())\n",
    "print('there are {} runs in the experiment'.format(number_of_yhe_runs_in_experiment))"
   ]
  },
  {
   "cell_type": "code",
   "execution_count": 14,
   "metadata": {},
   "outputs": [
    {
     "name": "stdout",
     "output_type": "stream",
     "text": [
      "52.0% of values missing across the YHE runs.\n"
     ]
    }
   ],
   "source": [
    "# display the number of missing values across the experiment\n",
    "yhe_sequence_occurences_df['missing_files'] = number_of_yhe_runs_in_experiment - yhe_sequence_occurences_df.number_of_runs_extracted\n",
    "proportion_of_missing_extractions = yhe_sequence_occurences_df.missing_files.sum() / (len(yhe_sequence_occurences_df) * number_of_yhe_runs_in_experiment)\n",
    "print(\"{}% of values missing across the YHE runs.\".format(round(proportion_of_missing_extractions*100)))"
   ]
  },
  {
   "cell_type": "code",
   "execution_count": 15,
   "metadata": {},
   "outputs": [
    {
     "data": {
      "text/plain": [
       "23182"
      ]
     },
     "execution_count": 15,
     "metadata": {},
     "output_type": "execute_result"
    }
   ],
   "source": [
    "modified_sequences_count = len(yhe_only_df['Modified sequence'].unique())\n",
    "modified_sequences_count"
   ]
  },
  {
   "cell_type": "code",
   "execution_count": 16,
   "metadata": {},
   "outputs": [
    {
     "data": {
      "image/png": "[encoded data removed]",
      "text/plain": [
       "<Figure size 1080x576 with 1 Axes>"
      ]
     },
     "metadata": {
      "needs_background": "light"
     },
     "output_type": "display_data"
    }
   ],
   "source": [
    "f, ax1 = plt.subplots()\n",
    "f.set_figheight(8)\n",
    "f.set_figwidth(15)\n",
    "\n",
    "plt.margins(0.06)\n",
    "plt.suptitle('Distribution of sequence identifications extracted from the YHE runs for MaxQuant (with MBR)')\n",
    "plt.title('total {} modified peptide sequences'.format(modified_sequences_count))\n",
    "\n",
    "counts = np.bincount(yhe_sequence_occurences_df.number_of_runs_extracted)\n",
    "ax1.bar(range(22), counts, width=0.8, align='center')\n",
    "plt.xlabel('number of files in which a modified sequence-charge was identified')\n",
    "plt.ylabel('frequency')\n",
    "ax1.set(xticks=range(1,22), xlim=[0, 22])\n",
    "plt.ylim((0,16000))\n",
    "\n",
    "plt.show()"
   ]
  },
  {
   "cell_type": "markdown",
   "metadata": {},
   "source": [
    "#### analyse the human-only runs"
   ]
  },
  {
   "cell_type": "code",
   "execution_count": 17,
   "metadata": {},
   "outputs": [],
   "source": [
    "human_only_df = sequences_df[(sequences_df.group == 'YHE010')].copy()"
   ]
  },
  {
   "cell_type": "code",
   "execution_count": 18,
   "metadata": {},
   "outputs": [],
   "source": [
    "# count how many runs each sequence/charge was extracted from\n",
    "sequence_occurences_l = []\n",
    "for group_name,group_df in human_only_df.groupby(['Modified sequence','Charge'], as_index=False):\n",
    "    sequence_occurences_l.append((group_name[0], group_name[1], len(group_df['Raw file'].unique())))\n",
    "human_sequence_occurences_df = pd.DataFrame(sequence_occurences_l, columns=['sequence','charge','number_of_runs_extracted'])"
   ]
  },
  {
   "cell_type": "code",
   "execution_count": 19,
   "metadata": {},
   "outputs": [
    {
     "name": "stdout",
     "output_type": "stream",
     "text": [
      "there are 10 human-only runs in the experiment\n"
     ]
    }
   ],
   "source": [
    "number_of_human_runs_in_experiment = len(human_only_df['Raw file'].unique())\n",
    "print('there are {} human-only runs in the experiment'.format(number_of_human_runs_in_experiment))"
   ]
  },
  {
   "cell_type": "code",
   "execution_count": 20,
   "metadata": {},
   "outputs": [
    {
     "name": "stdout",
     "output_type": "stream",
     "text": [
      "47.0% of values missing across the experiment.\n"
     ]
    }
   ],
   "source": [
    "# display the number of missing values across the experiment\n",
    "human_sequence_occurences_df['missing_files'] = number_of_human_runs_in_experiment - human_sequence_occurences_df.number_of_runs_extracted\n",
    "proportion_of_missing_extractions = human_sequence_occurences_df.missing_files.sum() / (len(human_sequence_occurences_df) * number_of_human_runs_in_experiment)\n",
    "print(\"{}% of values missing across the experiment.\".format(round(proportion_of_missing_extractions*100)))"
   ]
  },
  {
   "cell_type": "code",
   "execution_count": 21,
   "metadata": {},
   "outputs": [],
   "source": [
    "unique_sequences_human_df = human_only_df.drop_duplicates(subset=['Modified sequence', 'Charge'], keep='first', inplace=False).copy()"
   ]
  },
  {
   "cell_type": "code",
   "execution_count": 22,
   "metadata": {},
   "outputs": [],
   "source": [
    "# how many are not human?\n",
    "unique_sequences_human_df['human'] = unique_sequences_human_df['Proteins'].str.contains('HUMAN')"
   ]
  },
  {
   "cell_type": "code",
   "execution_count": 23,
   "metadata": {},
   "outputs": [
    {
     "data": {
      "text/plain": [
       "True     19986\n",
       "False      269\n",
       "Name: human, dtype: int64"
      ]
     },
     "execution_count": 23,
     "metadata": {},
     "output_type": "execute_result"
    }
   ],
   "source": [
    "unique_sequences_human_df.human.value_counts()"
   ]
  },
  {
   "cell_type": "code",
   "execution_count": 24,
   "metadata": {},
   "outputs": [
    {
     "name": "stdout",
     "output_type": "stream",
     "text": [
      "false positives: 1.3%\n"
     ]
    }
   ],
   "source": [
    "print('false positives: {}%'.format(round(len(unique_sequences_human_df[(unique_sequences_human_df.human == False)]) / len(unique_sequences_human_df) * 100.0, 1)))"
   ]
  },
  {
   "cell_type": "code",
   "execution_count": 26,
   "metadata": {},
   "outputs": [
    {
     "data": {
      "image/png": "[encoded data removed]",
      "text/plain": [
       "<Figure size 1080x576 with 1 Axes>"
      ]
     },
     "metadata": {
      "needs_background": "light"
     },
     "output_type": "display_data"
    }
   ],
   "source": [
    "f, ax1 = plt.subplots()\n",
    "f.set_figheight(8)\n",
    "f.set_figwidth(15)\n",
    "\n",
    "plt.margins(0.06)\n",
    "plt.suptitle('Distribution of sequence identifications in the HeLa-only runs for MaxQuant (with MBR)')\n",
    "# plt.title('total {} modified peptide sequences'.format(modified_sequences_count))\n",
    "\n",
    "counts = np.bincount(human_sequence_occurences_df.number_of_runs_extracted)\n",
    "ax1.bar(range(11), counts, width=0.8, align='center')\n",
    "plt.xlabel('number of files in which a modified sequence-charge was extracted')\n",
    "plt.ylabel('frequency')\n",
    "ax1.set(xticks=range(1,11), xlim=[0, 11])\n",
    "plt.ylim((0,12000))\n",
    "\n",
    "plt.show()"
   ]
  },
  {
   "cell_type": "code",
   "execution_count": null,
   "metadata": {},
   "outputs": [],
   "source": []
  }
 ],
 "metadata": {
  "kernelspec": {
   "display_name": "Python 3",
   "language": "python",
   "name": "python3"
  },
  "language_info": {
   "codemirror_mode": {
    "name": "ipython",
    "version": 3
   },
   "file_extension": ".py",
   "mimetype": "text/x-python",
   "name": "python",
   "nbconvert_exporter": "python",
   "pygments_lexer": "ipython3",
   "version": "3.6.8"
  }
 },
 "nbformat": 4,
 "nbformat_minor": 2
}
