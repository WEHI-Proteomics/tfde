{
 "cells": [
  {
   "cell_type": "code",
   "execution_count": 1,
   "metadata": {},
   "outputs": [],
   "source": [
    "import pandas as pd"
   ]
  },
  {
   "cell_type": "code",
   "execution_count": 3,
   "metadata": {},
   "outputs": [
    {
     "name": "stderr",
     "output_type": "stream",
     "text": [
      "/Users/darylwilding-mcbride/anaconda3/envs/py36/lib/python3.6/site-packages/ipykernel_launcher.py:1: ParserWarning: Falling back to the 'python' engine because the 'c' engine does not support regex separators (separators > 1 char and different from '\\s+' are interpreted as regex); you can avoid this warning by specifying engine='python'.\n",
      "  \"\"\"Entry point for launching an IPython kernel.\n"
     ]
    }
   ],
   "source": [
    "evidence_df = pd.read_csv('/Users/darylwilding-mcbride/Downloads/190719_Hela_Ecoli-combined/txt_noMatching/evidence.txt', sep='\\\\t')\n",
    "\n",
    "# remove decoys, which are indicated by a '+' in the Reverse column\n",
    "evidence_df = evidence_df[pd.isna(evidence_df.Reverse)]"
   ]
  },
  {
   "cell_type": "code",
   "execution_count": 4,
   "metadata": {},
   "outputs": [
    {
     "data": {
      "text/plain": [
       "Index(['Sequence', 'Length', 'Modifications', 'Modified sequence',\n",
       "       'Oxidation (M) Probabilities', 'Oxidation (M) Score Diffs',\n",
       "       'Acetyl (Protein N-term)', 'Oxidation (M)', 'Missed cleavages',\n",
       "       'Proteins', 'Leading proteins', 'Leading razor protein', 'Gene names',\n",
       "       'Protein names', 'Type', 'Raw file', 'Experiment', 'MS/MS m/z',\n",
       "       'Charge', 'm/z', 'Mass', 'Resolution',\n",
       "       'Uncalibrated - Calibrated m/z [ppm]',\n",
       "       'Uncalibrated - Calibrated m/z [Da]', 'Mass error [ppm]',\n",
       "       'Mass error [Da]', 'Uncalibrated mass error [ppm]',\n",
       "       'Uncalibrated mass error [Da]', 'Max intensity m/z 0', 'Retention time',\n",
       "       'Retention length', 'Calibrated retention time',\n",
       "       'Calibrated retention time start', 'Calibrated retention time finish',\n",
       "       'Retention time calibration', 'Ion mobility index',\n",
       "       'Ion mobility length', '1/K0', '1/K0 length', 'Calibrated 1/K0', 'CCS',\n",
       "       'CCS length', 'Match time difference', 'Match m/z difference',\n",
       "       'Match K0 difference', 'Match q-value', 'Match score',\n",
       "       'Number of data points', 'Number of scans', 'Number of isotopic peaks',\n",
       "       'PIF', 'Fraction of total spectrum', 'Base peak fraction', 'PEP',\n",
       "       'MS/MS count', 'MS/MS scan number', 'Score', 'Delta score',\n",
       "       'Combinatorics', 'Intensity', 'Reverse', 'Potential contaminant', 'id',\n",
       "       'Protein group IDs', 'Peptide ID', 'Mod. peptide ID', 'MS/MS IDs',\n",
       "       'Best MS/MS', 'Oxidation (M) site IDs'],\n",
       "      dtype='object')"
      ]
     },
     "execution_count": 4,
     "metadata": {},
     "output_type": "execute_result"
    }
   ],
   "source": [
    "evidence_df.columns"
   ]
  },
  {
   "cell_type": "code",
   "execution_count": 5,
   "metadata": {},
   "outputs": [
    {
     "data": {
      "text/plain": [
       "27901"
      ]
     },
     "execution_count": 5,
     "metadata": {},
     "output_type": "execute_result"
    }
   ],
   "source": [
    "len(evidence_df.Sequence.unique())"
   ]
  },
  {
   "cell_type": "code",
   "execution_count": 6,
   "metadata": {},
   "outputs": [
    {
     "data": {
      "text/plain": [
       "5575"
      ]
     },
     "execution_count": 6,
     "metadata": {},
     "output_type": "execute_result"
    }
   ],
   "source": [
    "len(evidence_df['Protein names'].unique())"
   ]
  },
  {
   "cell_type": "code",
   "execution_count": 8,
   "metadata": {},
   "outputs": [
    {
     "data": {
      "text/plain": [
       "array(['AAAAAAAAAPAAAATAPTTAATTAATAAQ', 'AAAAAAAAVPSAGPAGPAPTSAAGR',\n",
       "       'AAAAAAGAASGLPGPVAQGLK', ..., 'YYTSASGDEMVSLK', 'YYVTIIDAPGHR',\n",
       "       'YYYAVVDCDSPETASK'], dtype=object)"
      ]
     },
     "execution_count": 8,
     "metadata": {},
     "output_type": "execute_result"
    }
   ],
   "source": [
    "evidence_df.Sequence.unique()"
   ]
  },
  {
   "cell_type": "code",
   "execution_count": null,
   "metadata": {},
   "outputs": [],
   "source": []
  }
 ],
 "metadata": {
  "kernelspec": {
   "display_name": "Python 3",
   "language": "python",
   "name": "python3"
  },
  "language_info": {
   "codemirror_mode": {
    "name": "ipython",
    "version": 3
   },
   "file_extension": ".py",
   "mimetype": "text/x-python",
   "name": "python",
   "nbconvert_exporter": "python",
   "pygments_lexer": "ipython3",
   "version": "3.6.8"
  }
 },
 "nbformat": 4,
 "nbformat_minor": 2
}
