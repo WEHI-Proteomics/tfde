{
 "cells": [
  {
   "cell_type": "code",
   "execution_count": 1,
   "metadata": {},
   "outputs": [],
   "source": [
    "import pandas as pd"
   ]
  },
  {
   "cell_type": "code",
   "execution_count": 3,
   "metadata": {},
   "outputs": [
    {
     "name": "stderr",
     "output_type": "stream",
     "text": [
      "/Users/darylwilding-mcbride/anaconda3/envs/py36/lib/python3.6/site-packages/IPython/core/interactiveshell.py:3057: DtypeWarning: Columns (60,68) have mixed types. Specify dtype option on import or set low_memory=False.\n",
      "  interactivity=interactivity, compiler=compiler, result=result)\n"
     ]
    }
   ],
   "source": [
    "evidence_df = pd.read_csv('/Users/darylwilding-mcbride/Downloads/mq-search-190719_Hela_Ecoli/txt_noMatching/evidence.txt', sep='\\t')"
   ]
  },
  {
   "cell_type": "code",
   "execution_count": 4,
   "metadata": {},
   "outputs": [
    {
     "data": {
      "text/html": [
       "<div>\n",
       "<style scoped>\n",
       "    .dataframe tbody tr th:only-of-type {\n",
       "        vertical-align: middle;\n",
       "    }\n",
       "\n",
       "    .dataframe tbody tr th {\n",
       "        vertical-align: top;\n",
       "    }\n",
       "\n",
       "    .dataframe thead th {\n",
       "        text-align: right;\n",
       "    }\n",
       "</style>\n",
       "<table border=\"1\" class=\"dataframe\">\n",
       "  <thead>\n",
       "    <tr style=\"text-align: right;\">\n",
       "      <th></th>\n",
       "      <th>Sequence</th>\n",
       "      <th>Length</th>\n",
       "      <th>Modifications</th>\n",
       "      <th>Modified sequence</th>\n",
       "      <th>Oxidation (M) Probabilities</th>\n",
       "      <th>Oxidation (M) Score Diffs</th>\n",
       "      <th>Acetyl (Protein N-term)</th>\n",
       "      <th>Oxidation (M)</th>\n",
       "      <th>Missed cleavages</th>\n",
       "      <th>Proteins</th>\n",
       "      <th>...</th>\n",
       "      <th>Intensity</th>\n",
       "      <th>Reverse</th>\n",
       "      <th>Potential contaminant</th>\n",
       "      <th>id</th>\n",
       "      <th>Protein group IDs</th>\n",
       "      <th>Peptide ID</th>\n",
       "      <th>Mod. peptide ID</th>\n",
       "      <th>MS/MS IDs</th>\n",
       "      <th>Best MS/MS</th>\n",
       "      <th>Oxidation (M) site IDs</th>\n",
       "    </tr>\n",
       "  </thead>\n",
       "  <tbody>\n",
       "    <tr>\n",
       "      <th>0</th>\n",
       "      <td>AAAAAAAAAPAAAATAPTTAATTAATAAQ</td>\n",
       "      <td>29</td>\n",
       "      <td>Unmodified</td>\n",
       "      <td>_AAAAAAAAAPAAAATAPTTAATTAATAAQ_</td>\n",
       "      <td>NaN</td>\n",
       "      <td>NaN</td>\n",
       "      <td>0</td>\n",
       "      <td>0</td>\n",
       "      <td>0</td>\n",
       "      <td>P37108;H0YLW0</td>\n",
       "      <td>...</td>\n",
       "      <td>92559.0</td>\n",
       "      <td>NaN</td>\n",
       "      <td>NaN</td>\n",
       "      <td>0</td>\n",
       "      <td>2973</td>\n",
       "      <td>0</td>\n",
       "      <td>0</td>\n",
       "      <td>0</td>\n",
       "      <td>0</td>\n",
       "      <td>NaN</td>\n",
       "    </tr>\n",
       "    <tr>\n",
       "      <th>1</th>\n",
       "      <td>AAAAAAAAAPAAAATAPTTAATTAATAAQ</td>\n",
       "      <td>29</td>\n",
       "      <td>Unmodified</td>\n",
       "      <td>_AAAAAAAAAPAAAATAPTTAATTAATAAQ_</td>\n",
       "      <td>NaN</td>\n",
       "      <td>NaN</td>\n",
       "      <td>0</td>\n",
       "      <td>0</td>\n",
       "      <td>0</td>\n",
       "      <td>P37108;H0YLW0</td>\n",
       "      <td>...</td>\n",
       "      <td>78542.0</td>\n",
       "      <td>NaN</td>\n",
       "      <td>NaN</td>\n",
       "      <td>1</td>\n",
       "      <td>2973</td>\n",
       "      <td>0</td>\n",
       "      <td>0</td>\n",
       "      <td>1</td>\n",
       "      <td>1</td>\n",
       "      <td>NaN</td>\n",
       "    </tr>\n",
       "    <tr>\n",
       "      <th>2</th>\n",
       "      <td>AAAAAAAAAPAAAATAPTTAATTAATAAQ</td>\n",
       "      <td>29</td>\n",
       "      <td>Unmodified</td>\n",
       "      <td>_AAAAAAAAAPAAAATAPTTAATTAATAAQ_</td>\n",
       "      <td>NaN</td>\n",
       "      <td>NaN</td>\n",
       "      <td>0</td>\n",
       "      <td>0</td>\n",
       "      <td>0</td>\n",
       "      <td>P37108;H0YLW0</td>\n",
       "      <td>...</td>\n",
       "      <td>85265.0</td>\n",
       "      <td>NaN</td>\n",
       "      <td>NaN</td>\n",
       "      <td>2</td>\n",
       "      <td>2973</td>\n",
       "      <td>0</td>\n",
       "      <td>0</td>\n",
       "      <td>2</td>\n",
       "      <td>2</td>\n",
       "      <td>NaN</td>\n",
       "    </tr>\n",
       "    <tr>\n",
       "      <th>3</th>\n",
       "      <td>AAAAAAAAAPAAAATAPTTAATTAATAAQ</td>\n",
       "      <td>29</td>\n",
       "      <td>Unmodified</td>\n",
       "      <td>_AAAAAAAAAPAAAATAPTTAATTAATAAQ_</td>\n",
       "      <td>NaN</td>\n",
       "      <td>NaN</td>\n",
       "      <td>0</td>\n",
       "      <td>0</td>\n",
       "      <td>0</td>\n",
       "      <td>P37108;H0YLW0</td>\n",
       "      <td>...</td>\n",
       "      <td>75174.0</td>\n",
       "      <td>NaN</td>\n",
       "      <td>NaN</td>\n",
       "      <td>3</td>\n",
       "      <td>2973</td>\n",
       "      <td>0</td>\n",
       "      <td>0</td>\n",
       "      <td>3</td>\n",
       "      <td>3</td>\n",
       "      <td>NaN</td>\n",
       "    </tr>\n",
       "    <tr>\n",
       "      <th>4</th>\n",
       "      <td>AAAAAAAAAPAAAATAPTTAATTAATAAQ</td>\n",
       "      <td>29</td>\n",
       "      <td>Unmodified</td>\n",
       "      <td>_AAAAAAAAAPAAAATAPTTAATTAATAAQ_</td>\n",
       "      <td>NaN</td>\n",
       "      <td>NaN</td>\n",
       "      <td>0</td>\n",
       "      <td>0</td>\n",
       "      <td>0</td>\n",
       "      <td>P37108;H0YLW0</td>\n",
       "      <td>...</td>\n",
       "      <td>127540.0</td>\n",
       "      <td>NaN</td>\n",
       "      <td>NaN</td>\n",
       "      <td>4</td>\n",
       "      <td>2973</td>\n",
       "      <td>0</td>\n",
       "      <td>0</td>\n",
       "      <td>4</td>\n",
       "      <td>4</td>\n",
       "      <td>NaN</td>\n",
       "    </tr>\n",
       "  </tbody>\n",
       "</table>\n",
       "<p>5 rows × 69 columns</p>\n",
       "</div>"
      ],
      "text/plain": [
       "                        Sequence  Length Modifications  \\\n",
       "0  AAAAAAAAAPAAAATAPTTAATTAATAAQ      29    Unmodified   \n",
       "1  AAAAAAAAAPAAAATAPTTAATTAATAAQ      29    Unmodified   \n",
       "2  AAAAAAAAAPAAAATAPTTAATTAATAAQ      29    Unmodified   \n",
       "3  AAAAAAAAAPAAAATAPTTAATTAATAAQ      29    Unmodified   \n",
       "4  AAAAAAAAAPAAAATAPTTAATTAATAAQ      29    Unmodified   \n",
       "\n",
       "                 Modified sequence Oxidation (M) Probabilities  \\\n",
       "0  _AAAAAAAAAPAAAATAPTTAATTAATAAQ_                         NaN   \n",
       "1  _AAAAAAAAAPAAAATAPTTAATTAATAAQ_                         NaN   \n",
       "2  _AAAAAAAAAPAAAATAPTTAATTAATAAQ_                         NaN   \n",
       "3  _AAAAAAAAAPAAAATAPTTAATTAATAAQ_                         NaN   \n",
       "4  _AAAAAAAAAPAAAATAPTTAATTAATAAQ_                         NaN   \n",
       "\n",
       "  Oxidation (M) Score Diffs  Acetyl (Protein N-term)  Oxidation (M)  \\\n",
       "0                       NaN                        0              0   \n",
       "1                       NaN                        0              0   \n",
       "2                       NaN                        0              0   \n",
       "3                       NaN                        0              0   \n",
       "4                       NaN                        0              0   \n",
       "\n",
       "   Missed cleavages       Proteins  ... Intensity Reverse  \\\n",
       "0                 0  P37108;H0YLW0  ...   92559.0     NaN   \n",
       "1                 0  P37108;H0YLW0  ...   78542.0     NaN   \n",
       "2                 0  P37108;H0YLW0  ...   85265.0     NaN   \n",
       "3                 0  P37108;H0YLW0  ...   75174.0     NaN   \n",
       "4                 0  P37108;H0YLW0  ...  127540.0     NaN   \n",
       "\n",
       "  Potential contaminant id Protein group IDs Peptide ID Mod. peptide ID  \\\n",
       "0                   NaN  0              2973          0               0   \n",
       "1                   NaN  1              2973          0               0   \n",
       "2                   NaN  2              2973          0               0   \n",
       "3                   NaN  3              2973          0               0   \n",
       "4                   NaN  4              2973          0               0   \n",
       "\n",
       "   MS/MS IDs  Best MS/MS  Oxidation (M) site IDs  \n",
       "0          0           0                     NaN  \n",
       "1          1           1                     NaN  \n",
       "2          2           2                     NaN  \n",
       "3          3           3                     NaN  \n",
       "4          4           4                     NaN  \n",
       "\n",
       "[5 rows x 69 columns]"
      ]
     },
     "execution_count": 4,
     "metadata": {},
     "output_type": "execute_result"
    }
   ],
   "source": [
    "evidence_df.head()"
   ]
  },
  {
   "cell_type": "code",
   "execution_count": 6,
   "metadata": {},
   "outputs": [
    {
     "data": {
      "text/plain": [
       "Index(['Sequence', 'Length', 'Modifications', 'Modified sequence',\n",
       "       'Oxidation (M) Probabilities', 'Oxidation (M) Score Diffs',\n",
       "       'Acetyl (Protein N-term)', 'Oxidation (M)', 'Missed cleavages',\n",
       "       'Proteins', 'Leading proteins', 'Leading razor protein', 'Gene names',\n",
       "       'Protein names', 'Type', 'Raw file', 'Experiment', 'MS/MS m/z',\n",
       "       'Charge', 'm/z', 'Mass', 'Resolution',\n",
       "       'Uncalibrated - Calibrated m/z [ppm]',\n",
       "       'Uncalibrated - Calibrated m/z [Da]', 'Mass error [ppm]',\n",
       "       'Mass error [Da]', 'Uncalibrated mass error [ppm]',\n",
       "       'Uncalibrated mass error [Da]', 'Max intensity m/z 0', 'Retention time',\n",
       "       'Retention length', 'Calibrated retention time',\n",
       "       'Calibrated retention time start', 'Calibrated retention time finish',\n",
       "       'Retention time calibration', 'Ion mobility index',\n",
       "       'Ion mobility length', '1/K0', '1/K0 length', 'Calibrated 1/K0', 'CCS',\n",
       "       'CCS length', 'Match time difference', 'Match m/z difference',\n",
       "       'Match K0 difference', 'Match q-value', 'Match score',\n",
       "       'Number of data points', 'Number of scans', 'Number of isotopic peaks',\n",
       "       'PIF', 'Fraction of total spectrum', 'Base peak fraction', 'PEP',\n",
       "       'MS/MS count', 'MS/MS scan number', 'Score', 'Delta score',\n",
       "       'Combinatorics', 'Intensity', 'Reverse', 'Potential contaminant', 'id',\n",
       "       'Protein group IDs', 'Peptide ID', 'Mod. peptide ID', 'MS/MS IDs',\n",
       "       'Best MS/MS', 'Oxidation (M) site IDs'],\n",
       "      dtype='object')"
      ]
     },
     "execution_count": 6,
     "metadata": {},
     "output_type": "execute_result"
    }
   ],
   "source": [
    "evidence_df.columns"
   ]
  },
  {
   "cell_type": "code",
   "execution_count": 8,
   "metadata": {},
   "outputs": [
    {
     "data": {
      "text/plain": [
       "27963"
      ]
     },
     "execution_count": 8,
     "metadata": {},
     "output_type": "execute_result"
    }
   ],
   "source": [
    "len(evidence_df.Sequence.unique())"
   ]
  },
  {
   "cell_type": "code",
   "execution_count": 11,
   "metadata": {},
   "outputs": [
    {
     "data": {
      "text/plain": [
       "5575"
      ]
     },
     "execution_count": 11,
     "metadata": {},
     "output_type": "execute_result"
    }
   ],
   "source": [
    "len(evidence_df['Protein names'].unique())"
   ]
  },
  {
   "cell_type": "code",
   "execution_count": null,
   "metadata": {},
   "outputs": [],
   "source": []
  }
 ],
 "metadata": {
  "kernelspec": {
   "display_name": "Python 3",
   "language": "python",
   "name": "python3"
  },
  "language_info": {
   "codemirror_mode": {
    "name": "ipython",
    "version": 3
   },
   "file_extension": ".py",
   "mimetype": "text/x-python",
   "name": "python",
   "nbconvert_exporter": "python",
   "pygments_lexer": "ipython3",
   "version": "3.6.8"
  }
 },
 "nbformat": 4,
 "nbformat_minor": 2
}
