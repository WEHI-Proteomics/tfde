{
 "cells": [
  {
   "cell_type": "code",
   "execution_count": 12,
   "metadata": {},
   "outputs": [],
   "source": [
    "import pandas as pd\n",
    "import numpy as np\n",
    "import os\n",
    "import matplotlib.pyplot as plt"
   ]
  },
  {
   "cell_type": "code",
   "execution_count": 13,
   "metadata": {},
   "outputs": [],
   "source": [
    "evidence_df = pd.read_csv('/Users/darylwilding-mcbride/Downloads/190719_Hela_Ecoli-research-combined/txt/evidence.txt', sep='\\\\t', engine='python')"
   ]
  },
  {
   "cell_type": "code",
   "execution_count": 14,
   "metadata": {},
   "outputs": [],
   "source": [
    "# remove decoys, which are indicated by a '+' in the Reverse column, and features with no intensity\n",
    "evidence_filtered_df = evidence_df[pd.isna(evidence_df.Reverse) & (evidence_df.Intensity > 0) & pd.notnull(evidence_df['Modified sequence'])]"
   ]
  },
  {
   "cell_type": "code",
   "execution_count": 15,
   "metadata": {},
   "outputs": [
    {
     "data": {
      "text/plain": [
       "300577"
      ]
     },
     "execution_count": 15,
     "metadata": {},
     "output_type": "execute_result"
    }
   ],
   "source": [
    "len(evidence_filtered_df)"
   ]
  },
  {
   "cell_type": "code",
   "execution_count": 16,
   "metadata": {},
   "outputs": [
    {
     "data": {
      "text/plain": [
       "27829"
      ]
     },
     "execution_count": 16,
     "metadata": {},
     "output_type": "execute_result"
    }
   ],
   "source": [
    "modified_sequences_count = len(evidence_filtered_df['Modified sequence'].unique())\n",
    "modified_sequences_count"
   ]
  },
  {
   "cell_type": "code",
   "execution_count": 17,
   "metadata": {},
   "outputs": [
    {
     "data": {
      "text/plain": [
       "5581"
      ]
     },
     "execution_count": 17,
     "metadata": {},
     "output_type": "execute_result"
    }
   ],
   "source": [
    "proteins_count = len(evidence_filtered_df['Protein names'].unique())\n",
    "proteins_count"
   ]
  },
  {
   "cell_type": "code",
   "execution_count": 18,
   "metadata": {},
   "outputs": [
    {
     "data": {
      "text/plain": [
       "Index(['Sequence', 'Length', 'Modifications', 'Modified sequence',\n",
       "       'Oxidation (M) Probabilities', 'Oxidation (M) Score Diffs',\n",
       "       'Acetyl (Protein N-term)', 'Oxidation (M)', 'Missed cleavages',\n",
       "       'Proteins', 'Leading proteins', 'Leading razor protein', 'Gene names',\n",
       "       'Protein names', 'Type', 'Raw file', 'Experiment', 'MS/MS m/z',\n",
       "       'Charge', 'm/z', 'Mass', 'Resolution',\n",
       "       'Uncalibrated - Calibrated m/z [ppm]',\n",
       "       'Uncalibrated - Calibrated m/z [Da]', 'Mass error [ppm]',\n",
       "       'Mass error [Da]', 'Uncalibrated mass error [ppm]',\n",
       "       'Uncalibrated mass error [Da]', 'Max intensity m/z 0', 'Retention time',\n",
       "       'Retention length', 'Calibrated retention time',\n",
       "       'Calibrated retention time start', 'Calibrated retention time finish',\n",
       "       'Retention time calibration', 'Ion mobility index',\n",
       "       'Ion mobility length', '1/K0', '1/K0 length', 'Calibrated 1/K0', 'CCS',\n",
       "       'CCS length', 'Match time difference', 'Match m/z difference',\n",
       "       'Match K0 difference', 'Match q-value', 'Match score',\n",
       "       'Number of data points', 'Number of scans', 'Number of isotopic peaks',\n",
       "       'PIF', 'Fraction of total spectrum', 'Base peak fraction', 'PEP',\n",
       "       'MS/MS count', 'MS/MS scan number', 'Score', 'Delta score',\n",
       "       'Combinatorics', 'Intensity', 'Reporter PIF', 'Reporter fraction',\n",
       "       'Reverse', 'Potential contaminant', 'id', 'Protein group IDs',\n",
       "       'Peptide ID', 'Mod. peptide ID', 'MS/MS IDs', 'Best MS/MS',\n",
       "       'Oxidation (M) site IDs'],\n",
       "      dtype='object')"
      ]
     },
     "execution_count": 18,
     "metadata": {},
     "output_type": "execute_result"
    }
   ],
   "source": [
    "evidence_filtered_df.columns"
   ]
  },
  {
   "cell_type": "code",
   "execution_count": 19,
   "metadata": {},
   "outputs": [
    {
     "data": {
      "text/html": [
       "<div>\n",
       "<style scoped>\n",
       "    .dataframe tbody tr th:only-of-type {\n",
       "        vertical-align: middle;\n",
       "    }\n",
       "\n",
       "    .dataframe tbody tr th {\n",
       "        vertical-align: top;\n",
       "    }\n",
       "\n",
       "    .dataframe thead th {\n",
       "        text-align: right;\n",
       "    }\n",
       "</style>\n",
       "<table border=\"1\" class=\"dataframe\">\n",
       "  <thead>\n",
       "    <tr style=\"text-align: right;\">\n",
       "      <th></th>\n",
       "      <th>Sequence</th>\n",
       "      <th>Charge</th>\n",
       "      <th>Raw file</th>\n",
       "      <th>Modified sequence</th>\n",
       "      <th>Type</th>\n",
       "    </tr>\n",
       "  </thead>\n",
       "  <tbody>\n",
       "    <tr>\n",
       "      <th>346755</th>\n",
       "      <td>NMINVALNNGTLQHPVK</td>\n",
       "      <td>3</td>\n",
       "      <td>190719_Hela_Ecoli_1to1_09_Slot1-1_1_1944</td>\n",
       "      <td>_NMINVALNNGTLQHPVK_</td>\n",
       "      <td>TIMS-MULTI-MSMS</td>\n",
       "    </tr>\n",
       "    <tr>\n",
       "      <th>16876</th>\n",
       "      <td>AGIALNDNFVK</td>\n",
       "      <td>2</td>\n",
       "      <td>190719_Hela_Ecoli_1to3_09_Slot1-2_1_1951</td>\n",
       "      <td>_AGIALNDNFVK_</td>\n",
       "      <td>TIMS-MULTI-MSMS</td>\n",
       "    </tr>\n",
       "    <tr>\n",
       "      <th>493610</th>\n",
       "      <td>VGSLDNVGHLPAGGAVK</td>\n",
       "      <td>2</td>\n",
       "      <td>190719_Hela_Ecoli_1to1_04_Slot1-1_1_1929</td>\n",
       "      <td>_VGSLDNVGHLPAGGAVK_</td>\n",
       "      <td>TIMS-MULTI-MSMS</td>\n",
       "    </tr>\n",
       "    <tr>\n",
       "      <th>53614</th>\n",
       "      <td>CMHCSGENYEGK</td>\n",
       "      <td>2</td>\n",
       "      <td>190719_Hela_Ecoli_1to1_01_Slot1-1_1_1926</td>\n",
       "      <td>_CMHCSGENYEGK_</td>\n",
       "      <td>TIMS-MULTI-MSMS</td>\n",
       "    </tr>\n",
       "    <tr>\n",
       "      <th>291566</th>\n",
       "      <td>LMETQEEDVVLLTAGEHNK</td>\n",
       "      <td>3</td>\n",
       "      <td>190719_Hela_Ecoli_1to1_10_Slot1-1_1_1945</td>\n",
       "      <td>_LMETQEEDVVLLTAGEHNK_</td>\n",
       "      <td>TIMS-MULTI-MSMS</td>\n",
       "    </tr>\n",
       "    <tr>\n",
       "      <th>135810</th>\n",
       "      <td>FAFQAEVNR</td>\n",
       "      <td>2</td>\n",
       "      <td>190719_Hela_Ecoli_1to1_05_Slot1-1_1_1930</td>\n",
       "      <td>_FAFQAEVNR_</td>\n",
       "      <td>TIMS-MULTI-MSMS</td>\n",
       "    </tr>\n",
       "    <tr>\n",
       "      <th>356220</th>\n",
       "      <td>NVLGHMQQGGSPTPFDR</td>\n",
       "      <td>2</td>\n",
       "      <td>190719_Hela_Ecoli_1to1_05_Slot1-1_1_1930</td>\n",
       "      <td>_NVLGHMQQGGSPTPFDR_</td>\n",
       "      <td>TIMS-MULTI-MSMS</td>\n",
       "    </tr>\n",
       "    <tr>\n",
       "      <th>66308</th>\n",
       "      <td>DFLTPPLLSVR</td>\n",
       "      <td>2</td>\n",
       "      <td>190719_Hela_Ecoli_1to3_06_Slot1-2_1_1948</td>\n",
       "      <td>_DFLTPPLLSVR_</td>\n",
       "      <td>TIMS-MULTI-MSMS</td>\n",
       "    </tr>\n",
       "    <tr>\n",
       "      <th>519718</th>\n",
       "      <td>VVGIHMQGLGCDEMLQGFAVAVK</td>\n",
       "      <td>3</td>\n",
       "      <td>190719_Hela_Ecoli_1to1_07_Slot1-1_1_1942</td>\n",
       "      <td>_VVGIHMQGLGCDEMLQGFAVAVK_</td>\n",
       "      <td>TIMS-MULTI-MSMS</td>\n",
       "    </tr>\n",
       "    <tr>\n",
       "      <th>505741</th>\n",
       "      <td>VNIAFNYDMPEDSDTYLHR</td>\n",
       "      <td>2</td>\n",
       "      <td>190719_Hela_Ecoli_1to1_08_Slot1-1_1_1943</td>\n",
       "      <td>_VNIAFNYDMPEDSDTYLHR_</td>\n",
       "      <td>TIMS-MULTI-MSMS</td>\n",
       "    </tr>\n",
       "  </tbody>\n",
       "</table>\n",
       "</div>"
      ],
      "text/plain": [
       "                       Sequence  Charge  \\\n",
       "346755        NMINVALNNGTLQHPVK       3   \n",
       "16876               AGIALNDNFVK       2   \n",
       "493610        VGSLDNVGHLPAGGAVK       2   \n",
       "53614              CMHCSGENYEGK       2   \n",
       "291566      LMETQEEDVVLLTAGEHNK       3   \n",
       "135810                FAFQAEVNR       2   \n",
       "356220        NVLGHMQQGGSPTPFDR       2   \n",
       "66308               DFLTPPLLSVR       2   \n",
       "519718  VVGIHMQGLGCDEMLQGFAVAVK       3   \n",
       "505741      VNIAFNYDMPEDSDTYLHR       2   \n",
       "\n",
       "                                        Raw file          Modified sequence  \\\n",
       "346755  190719_Hela_Ecoli_1to1_09_Slot1-1_1_1944        _NMINVALNNGTLQHPVK_   \n",
       "16876   190719_Hela_Ecoli_1to3_09_Slot1-2_1_1951              _AGIALNDNFVK_   \n",
       "493610  190719_Hela_Ecoli_1to1_04_Slot1-1_1_1929        _VGSLDNVGHLPAGGAVK_   \n",
       "53614   190719_Hela_Ecoli_1to1_01_Slot1-1_1_1926             _CMHCSGENYEGK_   \n",
       "291566  190719_Hela_Ecoli_1to1_10_Slot1-1_1_1945      _LMETQEEDVVLLTAGEHNK_   \n",
       "135810  190719_Hela_Ecoli_1to1_05_Slot1-1_1_1930                _FAFQAEVNR_   \n",
       "356220  190719_Hela_Ecoli_1to1_05_Slot1-1_1_1930        _NVLGHMQQGGSPTPFDR_   \n",
       "66308   190719_Hela_Ecoli_1to3_06_Slot1-2_1_1948              _DFLTPPLLSVR_   \n",
       "519718  190719_Hela_Ecoli_1to1_07_Slot1-1_1_1942  _VVGIHMQGLGCDEMLQGFAVAVK_   \n",
       "505741  190719_Hela_Ecoli_1to1_08_Slot1-1_1_1943      _VNIAFNYDMPEDSDTYLHR_   \n",
       "\n",
       "                   Type  \n",
       "346755  TIMS-MULTI-MSMS  \n",
       "16876   TIMS-MULTI-MSMS  \n",
       "493610  TIMS-MULTI-MSMS  \n",
       "53614   TIMS-MULTI-MSMS  \n",
       "291566  TIMS-MULTI-MSMS  \n",
       "135810  TIMS-MULTI-MSMS  \n",
       "356220  TIMS-MULTI-MSMS  \n",
       "66308   TIMS-MULTI-MSMS  \n",
       "519718  TIMS-MULTI-MSMS  \n",
       "505741  TIMS-MULTI-MSMS  "
      ]
     },
     "execution_count": 19,
     "metadata": {},
     "output_type": "execute_result"
    }
   ],
   "source": [
    "evidence_filtered_df[['Sequence','Charge','Raw file','Modified sequence','Type']].sample(10)"
   ]
  },
  {
   "cell_type": "code",
   "execution_count": 20,
   "metadata": {},
   "outputs": [],
   "source": [
    "# for a sequence and charge, how many files did it appear in?\n",
    "sequence_unique_file_counts_l = []\n",
    "for group_name,group_df in evidence_df.groupby(['Modified sequence','Charge'], as_index=False):\n",
    "    files = group_df['Raw file'].unique()\n",
    "    unique_file_count = len(files)\n",
    "    sequence_unique_file_counts_l.append((group_name[0],group_name[1],unique_file_count,files))\n",
    "sequence_unique_file_counts_df = pd.DataFrame(sequence_unique_file_counts_l, columns=['modified_sequence','charge','number_of_files','files'])"
   ]
  },
  {
   "cell_type": "code",
   "execution_count": 21,
   "metadata": {},
   "outputs": [
    {
     "data": {
      "text/html": [
       "<div>\n",
       "<style scoped>\n",
       "    .dataframe tbody tr th:only-of-type {\n",
       "        vertical-align: middle;\n",
       "    }\n",
       "\n",
       "    .dataframe tbody tr th {\n",
       "        vertical-align: top;\n",
       "    }\n",
       "\n",
       "    .dataframe thead th {\n",
       "        text-align: right;\n",
       "    }\n",
       "</style>\n",
       "<table border=\"1\" class=\"dataframe\">\n",
       "  <thead>\n",
       "    <tr style=\"text-align: right;\">\n",
       "      <th></th>\n",
       "      <th>modified_sequence</th>\n",
       "      <th>charge</th>\n",
       "      <th>number_of_files</th>\n",
       "      <th>files</th>\n",
       "    </tr>\n",
       "  </thead>\n",
       "  <tbody>\n",
       "    <tr>\n",
       "      <th>26653</th>\n",
       "      <td>_VCNDEQLLLELQQIK_</td>\n",
       "      <td>2</td>\n",
       "      <td>18</td>\n",
       "      <td>[190719_Hela_Ecoli_1to3_07_Slot1-2_1_1949, 190...</td>\n",
       "    </tr>\n",
       "    <tr>\n",
       "      <th>24751</th>\n",
       "      <td>_TEDVDQVTVYSYK_</td>\n",
       "      <td>2</td>\n",
       "      <td>12</td>\n",
       "      <td>[190719_Hela_Ecoli_1to3_07_Slot1-2_1_1949, 190...</td>\n",
       "    </tr>\n",
       "    <tr>\n",
       "      <th>3839</th>\n",
       "      <td>_DFAPGSQLPILLYDSDAK_</td>\n",
       "      <td>2</td>\n",
       "      <td>16</td>\n",
       "      <td>[190719_Hela_Ecoli_1to3_07_Slot1-2_1_1949, 190...</td>\n",
       "    </tr>\n",
       "    <tr>\n",
       "      <th>5708</th>\n",
       "      <td>_EDVSLHGYK_</td>\n",
       "      <td>2</td>\n",
       "      <td>3</td>\n",
       "      <td>[190719_Hela_Ecoli_1to1_04_Slot1-1_1_1929, 190...</td>\n",
       "    </tr>\n",
       "    <tr>\n",
       "      <th>748</th>\n",
       "      <td>_ADDMSDDQGTSVQSK_</td>\n",
       "      <td>2</td>\n",
       "      <td>13</td>\n",
       "      <td>[190719_Hela_Ecoli_1to1_04_Slot1-1_1_1929, 190...</td>\n",
       "    </tr>\n",
       "    <tr>\n",
       "      <th>4465</th>\n",
       "      <td>_DLVHAIPLYAIK_</td>\n",
       "      <td>2</td>\n",
       "      <td>20</td>\n",
       "      <td>[190719_Hela_Ecoli_1to3_07_Slot1-2_1_1949, 190...</td>\n",
       "    </tr>\n",
       "    <tr>\n",
       "      <th>18216</th>\n",
       "      <td>_MNYSGDQGQTIR_</td>\n",
       "      <td>2</td>\n",
       "      <td>2</td>\n",
       "      <td>[190719_Hela_Ecoli_1to3_09_Slot1-2_1_1951, 190...</td>\n",
       "    </tr>\n",
       "    <tr>\n",
       "      <th>8404</th>\n",
       "      <td>_FMEPVTMQESGTFAFR_</td>\n",
       "      <td>2</td>\n",
       "      <td>1</td>\n",
       "      <td>[190719_Hela_Ecoli_1to1_05_Slot1-1_1_1930]</td>\n",
       "    </tr>\n",
       "    <tr>\n",
       "      <th>15798</th>\n",
       "      <td>_LIHIPINNIIVGG_</td>\n",
       "      <td>2</td>\n",
       "      <td>8</td>\n",
       "      <td>[190719_Hela_Ecoli_1to3_08_Slot1-2_1_1950, 190...</td>\n",
       "    </tr>\n",
       "    <tr>\n",
       "      <th>4098</th>\n",
       "      <td>_DHSVAESLNYVASWNMSMLQTQDLVK_</td>\n",
       "      <td>3</td>\n",
       "      <td>15</td>\n",
       "      <td>[190719_Hela_Ecoli_1to3_07_Slot1-2_1_1949, 190...</td>\n",
       "    </tr>\n",
       "  </tbody>\n",
       "</table>\n",
       "</div>"
      ],
      "text/plain": [
       "                  modified_sequence  charge  number_of_files  \\\n",
       "26653             _VCNDEQLLLELQQIK_       2               18   \n",
       "24751               _TEDVDQVTVYSYK_       2               12   \n",
       "3839           _DFAPGSQLPILLYDSDAK_       2               16   \n",
       "5708                    _EDVSLHGYK_       2                3   \n",
       "748               _ADDMSDDQGTSVQSK_       2               13   \n",
       "4465                 _DLVHAIPLYAIK_       2               20   \n",
       "18216                _MNYSGDQGQTIR_       2                2   \n",
       "8404             _FMEPVTMQESGTFAFR_       2                1   \n",
       "15798               _LIHIPINNIIVGG_       2                8   \n",
       "4098   _DHSVAESLNYVASWNMSMLQTQDLVK_       3               15   \n",
       "\n",
       "                                                   files  \n",
       "26653  [190719_Hela_Ecoli_1to3_07_Slot1-2_1_1949, 190...  \n",
       "24751  [190719_Hela_Ecoli_1to3_07_Slot1-2_1_1949, 190...  \n",
       "3839   [190719_Hela_Ecoli_1to3_07_Slot1-2_1_1949, 190...  \n",
       "5708   [190719_Hela_Ecoli_1to1_04_Slot1-1_1_1929, 190...  \n",
       "748    [190719_Hela_Ecoli_1to1_04_Slot1-1_1_1929, 190...  \n",
       "4465   [190719_Hela_Ecoli_1to3_07_Slot1-2_1_1949, 190...  \n",
       "18216  [190719_Hela_Ecoli_1to3_09_Slot1-2_1_1951, 190...  \n",
       "8404          [190719_Hela_Ecoli_1to1_05_Slot1-1_1_1930]  \n",
       "15798  [190719_Hela_Ecoli_1to3_08_Slot1-2_1_1950, 190...  \n",
       "4098   [190719_Hela_Ecoli_1to3_07_Slot1-2_1_1949, 190...  "
      ]
     },
     "execution_count": 21,
     "metadata": {},
     "output_type": "execute_result"
    }
   ],
   "source": [
    "sequence_unique_file_counts_df.sample(10)"
   ]
  },
  {
   "cell_type": "code",
   "execution_count": 22,
   "metadata": {},
   "outputs": [
    {
     "data": {
      "image/png": "[encoded data removed]",
      "text/plain": [
       "<Figure size 1080x576 with 1 Axes>"
      ]
     },
     "metadata": {
      "needs_background": "light"
     },
     "output_type": "display_data"
    }
   ],
   "source": [
    "f, ax1 = plt.subplots()\n",
    "f.set_figheight(8)\n",
    "f.set_figwidth(15)\n",
    "\n",
    "plt.margins(0.06)\n",
    "plt.suptitle('Distribution of sequence identifications found by MaxQuant')\n",
    "plt.title('total {} modified peptide sequences'.format(modified_sequences_count))\n",
    "\n",
    "counts = np.bincount(sequence_unique_file_counts_df.number_of_files)\n",
    "ax1.bar(range(21), counts, width=0.8, align='center')\n",
    "plt.xlabel('number of files in which a modified sequence-charge was identified')\n",
    "plt.ylabel('frequency')\n",
    "ax1.set(xticks=range(1,21), xlim=[0, 21])\n",
    "plt.ylim((0,20000))\n",
    "\n",
    "plt.show()"
   ]
  },
  {
   "cell_type": "code",
   "execution_count": 23,
   "metadata": {},
   "outputs": [],
   "source": [
    "sequence_unique_file_counts_df['missing_files'] = 20 - sequence_unique_file_counts_df.number_of_files"
   ]
  },
  {
   "cell_type": "code",
   "execution_count": 24,
   "metadata": {},
   "outputs": [
    {
     "data": {
      "text/html": [
       "<div>\n",
       "<style scoped>\n",
       "    .dataframe tbody tr th:only-of-type {\n",
       "        vertical-align: middle;\n",
       "    }\n",
       "\n",
       "    .dataframe tbody tr th {\n",
       "        vertical-align: top;\n",
       "    }\n",
       "\n",
       "    .dataframe thead th {\n",
       "        text-align: right;\n",
       "    }\n",
       "</style>\n",
       "<table border=\"1\" class=\"dataframe\">\n",
       "  <thead>\n",
       "    <tr style=\"text-align: right;\">\n",
       "      <th></th>\n",
       "      <th>modified_sequence</th>\n",
       "      <th>charge</th>\n",
       "      <th>number_of_files</th>\n",
       "      <th>files</th>\n",
       "      <th>missing_files</th>\n",
       "    </tr>\n",
       "  </thead>\n",
       "  <tbody>\n",
       "    <tr>\n",
       "      <th>6826</th>\n",
       "      <td>_ENDAHLVEVNLNNIK_</td>\n",
       "      <td>2</td>\n",
       "      <td>3</td>\n",
       "      <td>[190719_Hela_Ecoli_1to1_07_Slot1-1_1_1942, 190...</td>\n",
       "      <td>17</td>\n",
       "    </tr>\n",
       "    <tr>\n",
       "      <th>21319</th>\n",
       "      <td>_QLGQDLLNSYIENEGK_</td>\n",
       "      <td>2</td>\n",
       "      <td>1</td>\n",
       "      <td>[190719_Hela_Ecoli_1to1_04_Slot1-1_1_1929]</td>\n",
       "      <td>19</td>\n",
       "    </tr>\n",
       "    <tr>\n",
       "      <th>17571</th>\n",
       "      <td>_LVVPASQCGSLIGK_</td>\n",
       "      <td>2</td>\n",
       "      <td>9</td>\n",
       "      <td>[190719_Hela_Ecoli_1to3_08_Slot1-2_1_1950, 190...</td>\n",
       "      <td>11</td>\n",
       "    </tr>\n",
       "    <tr>\n",
       "      <th>23368</th>\n",
       "      <td>_SLIGVEYKPVSATGAEDK_</td>\n",
       "      <td>2</td>\n",
       "      <td>13</td>\n",
       "      <td>[190719_Hela_Ecoli_1to1_04_Slot1-1_1_1929, 190...</td>\n",
       "      <td>7</td>\n",
       "    </tr>\n",
       "    <tr>\n",
       "      <th>25949</th>\n",
       "      <td>_TSQTVATFLDELAQK_</td>\n",
       "      <td>2</td>\n",
       "      <td>20</td>\n",
       "      <td>[190719_Hela_Ecoli_1to3_07_Slot1-2_1_1949, 190...</td>\n",
       "      <td>0</td>\n",
       "    </tr>\n",
       "    <tr>\n",
       "      <th>4444</th>\n",
       "      <td>_DLSSPSQYDTGVALTGLSCFVTPDLAR_</td>\n",
       "      <td>3</td>\n",
       "      <td>1</td>\n",
       "      <td>[190719_Hela_Ecoli_1to3_07_Slot1-2_1_1949]</td>\n",
       "      <td>19</td>\n",
       "    </tr>\n",
       "    <tr>\n",
       "      <th>10194</th>\n",
       "      <td>_GNDMQVGTYIEK_</td>\n",
       "      <td>2</td>\n",
       "      <td>4</td>\n",
       "      <td>[190719_Hela_Ecoli_1to1_04_Slot1-1_1_1929, 190...</td>\n",
       "      <td>16</td>\n",
       "    </tr>\n",
       "    <tr>\n",
       "      <th>7564</th>\n",
       "      <td>_EVNEGIQALSNSEEEK_</td>\n",
       "      <td>2</td>\n",
       "      <td>13</td>\n",
       "      <td>[190719_Hela_Ecoli_1to1_04_Slot1-1_1_1929, 190...</td>\n",
       "      <td>7</td>\n",
       "    </tr>\n",
       "    <tr>\n",
       "      <th>20533</th>\n",
       "      <td>_PSIIFIDEVDSLCGSR_</td>\n",
       "      <td>2</td>\n",
       "      <td>2</td>\n",
       "      <td>[190719_Hela_Ecoli_1to1_02_Slot1-1_1_1927, 190...</td>\n",
       "      <td>18</td>\n",
       "    </tr>\n",
       "    <tr>\n",
       "      <th>11719</th>\n",
       "      <td>_HQFAQSLNYEIAK_</td>\n",
       "      <td>2</td>\n",
       "      <td>16</td>\n",
       "      <td>[190719_Hela_Ecoli_1to3_07_Slot1-2_1_1949, 190...</td>\n",
       "      <td>4</td>\n",
       "    </tr>\n",
       "  </tbody>\n",
       "</table>\n",
       "</div>"
      ],
      "text/plain": [
       "                   modified_sequence  charge  number_of_files  \\\n",
       "6826               _ENDAHLVEVNLNNIK_       2                3   \n",
       "21319             _QLGQDLLNSYIENEGK_       2                1   \n",
       "17571               _LVVPASQCGSLIGK_       2                9   \n",
       "23368           _SLIGVEYKPVSATGAEDK_       2               13   \n",
       "25949              _TSQTVATFLDELAQK_       2               20   \n",
       "4444   _DLSSPSQYDTGVALTGLSCFVTPDLAR_       3                1   \n",
       "10194                 _GNDMQVGTYIEK_       2                4   \n",
       "7564              _EVNEGIQALSNSEEEK_       2               13   \n",
       "20533             _PSIIFIDEVDSLCGSR_       2                2   \n",
       "11719                _HQFAQSLNYEIAK_       2               16   \n",
       "\n",
       "                                                   files  missing_files  \n",
       "6826   [190719_Hela_Ecoli_1to1_07_Slot1-1_1_1942, 190...             17  \n",
       "21319         [190719_Hela_Ecoli_1to1_04_Slot1-1_1_1929]             19  \n",
       "17571  [190719_Hela_Ecoli_1to3_08_Slot1-2_1_1950, 190...             11  \n",
       "23368  [190719_Hela_Ecoli_1to1_04_Slot1-1_1_1929, 190...              7  \n",
       "25949  [190719_Hela_Ecoli_1to3_07_Slot1-2_1_1949, 190...              0  \n",
       "4444          [190719_Hela_Ecoli_1to3_07_Slot1-2_1_1949]             19  \n",
       "10194  [190719_Hela_Ecoli_1to1_04_Slot1-1_1_1929, 190...             16  \n",
       "7564   [190719_Hela_Ecoli_1to1_04_Slot1-1_1_1929, 190...              7  \n",
       "20533  [190719_Hela_Ecoli_1to1_02_Slot1-1_1_1927, 190...             18  \n",
       "11719  [190719_Hela_Ecoli_1to3_07_Slot1-2_1_1949, 190...              4  "
      ]
     },
     "execution_count": 24,
     "metadata": {},
     "output_type": "execute_result"
    }
   ],
   "source": [
    "sequence_unique_file_counts_df.sample(10)"
   ]
  },
  {
   "cell_type": "code",
   "execution_count": 25,
   "metadata": {},
   "outputs": [
    {
     "data": {
      "text/plain": [
       "0.5121592527574442"
      ]
     },
     "execution_count": 25,
     "metadata": {},
     "output_type": "execute_result"
    }
   ],
   "source": [
    "proportion_of_missing_values = sequence_unique_file_counts_df.missing_files.sum() / (len(sequence_unique_file_counts_df) * 20)\n",
    "proportion_of_missing_values"
   ]
  },
  {
   "cell_type": "code",
   "execution_count": null,
   "metadata": {},
   "outputs": [],
   "source": []
  }
 ],
 "metadata": {
  "kernelspec": {
   "display_name": "Python 3",
   "language": "python",
   "name": "python3"
  },
  "language_info": {
   "codemirror_mode": {
    "name": "ipython",
    "version": 3
   },
   "file_extension": ".py",
   "mimetype": "text/x-python",
   "name": "python",
   "nbconvert_exporter": "python",
   "pygments_lexer": "ipython3",
   "version": "3.6.8"
  }
 },
 "nbformat": 4,
 "nbformat_minor": 2
}
