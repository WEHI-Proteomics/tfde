{
 "cells": [
  {
   "cell_type": "code",
   "execution_count": 5,
   "metadata": {},
   "outputs": [],
   "source": [
    "import pandas as pd\n",
    "import numpy as np\n",
    "import matplotlib.pyplot as plt\n",
    "%matplotlib inline\n",
    "import pickle"
   ]
  },
  {
   "cell_type": "code",
   "execution_count": 6,
   "metadata": {},
   "outputs": [],
   "source": [
    "experiment_name = 'P3856'\n",
    "feature_detection_method = 'pasef'\n",
    "\n",
    "# BASE_RESULTS_DIR = '/media/big-ssd/results-{}'.format(experiment_name)\n",
    "BASE_RESULTS_DIR = '/Users/darylwilding-mcbride/Downloads/results-{}'.format(experiment_name)\n",
    "\n",
    "IDENTIFICATIONS_DIR = '{}/P3856-results-cs-true-fmdw-true-2021-05-16-18-13-29/identifications-pasef'.format(BASE_RESULTS_DIR)\n",
    "IDENTIFICATIONS_FILE = '{}/exp-{}-identifications-{}-recalibrated.pkl'.format(IDENTIFICATIONS_DIR, experiment_name, feature_detection_method)"
   ]
  },
  {
   "cell_type": "code",
   "execution_count": 7,
   "metadata": {},
   "outputs": [
    {
     "data": {
      "text/plain": [
       "'/Users/darylwilding-mcbride/Downloads/results-P3856/P3856-results-cs-true-fmdw-true-2021-05-16-18-13-29/identifications-pasef/exp-P3856-identifications-pasef-recalibrated.pkl'"
      ]
     },
     "execution_count": 7,
     "metadata": {},
     "output_type": "execute_result"
    }
   ],
   "source": [
    "IDENTIFICATIONS_FILE"
   ]
  },
  {
   "cell_type": "code",
   "execution_count": 8,
   "metadata": {},
   "outputs": [],
   "source": [
    "MAXIMUM_Q_VALUE = 0.01"
   ]
  },
  {
   "cell_type": "markdown",
   "metadata": {},
   "source": [
    "#### identifications"
   ]
  },
  {
   "cell_type": "code",
   "execution_count": 9,
   "metadata": {},
   "outputs": [],
   "source": [
    "# load the identifications that had saturated points in the mono\n",
    "with open(IDENTIFICATIONS_FILE, 'rb') as handle:\n",
    "    d = pickle.load(handle)\n",
    "identifications_df = d['identifications_df']\n",
    "identifications_df = identifications_df[(identifications_df['percolator q-value'] <= MAXIMUM_Q_VALUE)]"
   ]
  },
  {
   "cell_type": "code",
   "execution_count": 13,
   "metadata": {},
   "outputs": [
    {
     "data": {
      "image/png": "[encoded data removed]",
      "text/plain": [
       "<Figure size 1080x576 with 1 Axes>"
      ]
     },
     "metadata": {
      "needs_background": "light"
     },
     "output_type": "display_data"
    }
   ],
   "source": [
    "f, ax1 = plt.subplots()\n",
    "f.set_figheight(8)\n",
    "f.set_figwidth(15)\n",
    "\n",
    "plt.margins(0.06)\n",
    "plt.title('')\n",
    "\n",
    "bins = 300\n",
    "values = identifications_df['percolator q-value']\n",
    "y, x, _ = ax1.hist(values, bins=bins)\n",
    "mean = np.mean(values)\n",
    "# ax1.axvline(mean, color='darkorange', lw=1.0, ls='-.', label='mean')\n",
    "\n",
    "plt.xlabel('Percolator q-value')\n",
    "plt.ylabel('count')\n",
    "plt.title('Peptide identification q-value from Percolator\\nexperiment {}, N={}'.format(experiment_name,len(identifications_df)))\n",
    "plt.xlim((0,0.01))\n",
    "# plt.ylim((0,1000))\n",
    "\n",
    "plt.show()"
   ]
  },
  {
   "cell_type": "code",
   "execution_count": 15,
   "metadata": {},
   "outputs": [
    {
     "data": {
      "text/html": [
       "<div>\n",
       "<style scoped>\n",
       "    .dataframe tbody tr th:only-of-type {\n",
       "        vertical-align: middle;\n",
       "    }\n",
       "\n",
       "    .dataframe tbody tr th {\n",
       "        vertical-align: top;\n",
       "    }\n",
       "\n",
       "    .dataframe thead th {\n",
       "        text-align: right;\n",
       "    }\n",
       "</style>\n",
       "<table border=\"1\" class=\"dataframe\">\n",
       "  <thead>\n",
       "    <tr style=\"text-align: right;\">\n",
       "      <th></th>\n",
       "      <th>mono_mz_lower</th>\n",
       "      <th>mono_mz_upper</th>\n",
       "      <th>scan_apex</th>\n",
       "      <th>scan_lower</th>\n",
       "      <th>scan_upper</th>\n",
       "      <th>rt_apex</th>\n",
       "      <th>rt_lower</th>\n",
       "      <th>rt_upper</th>\n",
       "      <th>intensity_without_saturation_correction</th>\n",
       "      <th>intensity_with_saturation_correction</th>\n",
       "      <th>...</th>\n",
       "      <th>percolator q-value</th>\n",
       "      <th>percolator PEP</th>\n",
       "      <th>total matches/spectrum</th>\n",
       "      <th>sequence</th>\n",
       "      <th>protein id</th>\n",
       "      <th>flanking aa</th>\n",
       "      <th>observed_monoisotopic_mass</th>\n",
       "      <th>theoretical_peptide_mass</th>\n",
       "      <th>mass_accuracy_ppm</th>\n",
       "      <th>mass_error</th>\n",
       "    </tr>\n",
       "  </thead>\n",
       "  <tbody>\n",
       "    <tr>\n",
       "      <th>82990</th>\n",
       "      <td>1008.472302</td>\n",
       "      <td>1008.536543</td>\n",
       "      <td>266.0</td>\n",
       "      <td>245</td>\n",
       "      <td>291</td>\n",
       "      <td>2090.779963</td>\n",
       "      <td>2087.603752</td>\n",
       "      <td>2093.956468</td>\n",
       "      <td>41719.0</td>\n",
       "      <td>51957.0</td>\n",
       "      <td>...</td>\n",
       "      <td>0.000199</td>\n",
       "      <td>0.001380</td>\n",
       "      <td>13700.6</td>\n",
       "      <td>ISLGLPVGAIMNCADNSGAR</td>\n",
       "      <td>sp|P0CX42|RL23B_YEAST,sp|P0CX41|RL23A_YEAST</td>\n",
       "      <td>RN</td>\n",
       "      <td>2014.992670</td>\n",
       "      <td>2014.992764</td>\n",
       "      <td>-0.046719</td>\n",
       "      <td>-0.000094</td>\n",
       "    </tr>\n",
       "    <tr>\n",
       "      <th>78401</th>\n",
       "      <td>781.028776</td>\n",
       "      <td>781.078529</td>\n",
       "      <td>638.0</td>\n",
       "      <td>619</td>\n",
       "      <td>658</td>\n",
       "      <td>2065.904414</td>\n",
       "      <td>2062.199575</td>\n",
       "      <td>2069.077685</td>\n",
       "      <td>4375.0</td>\n",
       "      <td>4375.0</td>\n",
       "      <td>...</td>\n",
       "      <td>0.000199</td>\n",
       "      <td>0.001714</td>\n",
       "      <td>13700.6</td>\n",
       "      <td>VLGSVGEPISPDLWEWYHEK</td>\n",
       "      <td>sp|P52910|ACS2_YEAST</td>\n",
       "      <td>RV</td>\n",
       "      <td>2340.144948</td>\n",
       "      <td>2340.142600</td>\n",
       "      <td>1.003481</td>\n",
       "      <td>0.002348</td>\n",
       "    </tr>\n",
       "    <tr>\n",
       "      <th>30787</th>\n",
       "      <td>990.411310</td>\n",
       "      <td>990.474400</td>\n",
       "      <td>255.0</td>\n",
       "      <td>219</td>\n",
       "      <td>294</td>\n",
       "      <td>1827.758085</td>\n",
       "      <td>1822.464558</td>\n",
       "      <td>1830.405171</td>\n",
       "      <td>18772.0</td>\n",
       "      <td>18772.0</td>\n",
       "      <td>...</td>\n",
       "      <td>0.000126</td>\n",
       "      <td>0.000066</td>\n",
       "      <td>13700.6</td>\n",
       "      <td>FSGWYDADLSPAGHEEAK</td>\n",
       "      <td>sp|P18669|PGAM1_HUMAN</td>\n",
       "      <td>RR</td>\n",
       "      <td>1978.872893</td>\n",
       "      <td>1978.869700</td>\n",
       "      <td>1.613361</td>\n",
       "      <td>0.003193</td>\n",
       "    </tr>\n",
       "    <tr>\n",
       "      <th>42572</th>\n",
       "      <td>682.808004</td>\n",
       "      <td>682.851500</td>\n",
       "      <td>665.0</td>\n",
       "      <td>641</td>\n",
       "      <td>690</td>\n",
       "      <td>1885.443187</td>\n",
       "      <td>1876.977672</td>\n",
       "      <td>1888.620075</td>\n",
       "      <td>3409.0</td>\n",
       "      <td>3409.0</td>\n",
       "      <td>...</td>\n",
       "      <td>0.000271</td>\n",
       "      <td>0.005841</td>\n",
       "      <td>13700.6</td>\n",
       "      <td>IFDIDEAEEGVK</td>\n",
       "      <td>sp|P20042|IF2B_HUMAN</td>\n",
       "      <td>KD</td>\n",
       "      <td>1363.649760</td>\n",
       "      <td>1363.650700</td>\n",
       "      <td>-0.689110</td>\n",
       "      <td>-0.000940</td>\n",
       "    </tr>\n",
       "    <tr>\n",
       "      <th>72041</th>\n",
       "      <td>736.670632</td>\n",
       "      <td>736.717559</td>\n",
       "      <td>676.0</td>\n",
       "      <td>653</td>\n",
       "      <td>697</td>\n",
       "      <td>2032.035375</td>\n",
       "      <td>2027.272889</td>\n",
       "      <td>2036.797901</td>\n",
       "      <td>4731.0</td>\n",
       "      <td>4731.0</td>\n",
       "      <td>...</td>\n",
       "      <td>0.000126</td>\n",
       "      <td>0.000376</td>\n",
       "      <td>13700.6</td>\n",
       "      <td>FGAVFLWDSGSSVGEITGHNK</td>\n",
       "      <td>sp|O75083|WDR1_HUMAN</td>\n",
       "      <td>KV</td>\n",
       "      <td>2207.065876</td>\n",
       "      <td>2207.064700</td>\n",
       "      <td>0.533045</td>\n",
       "      <td>0.001176</td>\n",
       "    </tr>\n",
       "    <tr>\n",
       "      <th>101449</th>\n",
       "      <td>970.931070</td>\n",
       "      <td>970.992920</td>\n",
       "      <td>266.0</td>\n",
       "      <td>225</td>\n",
       "      <td>287</td>\n",
       "      <td>2186.574076</td>\n",
       "      <td>2182.870203</td>\n",
       "      <td>2189.750594</td>\n",
       "      <td>9530.0</td>\n",
       "      <td>9530.0</td>\n",
       "      <td>...</td>\n",
       "      <td>0.000199</td>\n",
       "      <td>0.001094</td>\n",
       "      <td>13700.6</td>\n",
       "      <td>LLELFTDLSCNPEMMK</td>\n",
       "      <td>sp|Q5VW32|BROX_HUMAN</td>\n",
       "      <td>RN</td>\n",
       "      <td>1939.910362</td>\n",
       "      <td>1939.909364</td>\n",
       "      <td>0.514396</td>\n",
       "      <td>0.000998</td>\n",
       "    </tr>\n",
       "    <tr>\n",
       "      <th>27467</th>\n",
       "      <td>881.430922</td>\n",
       "      <td>881.487070</td>\n",
       "      <td>362.0</td>\n",
       "      <td>362</td>\n",
       "      <td>382</td>\n",
       "      <td>1813.996753</td>\n",
       "      <td>1809.233435</td>\n",
       "      <td>1817.702547</td>\n",
       "      <td>5045.0</td>\n",
       "      <td>5045.0</td>\n",
       "      <td>...</td>\n",
       "      <td>0.000499</td>\n",
       "      <td>0.016730</td>\n",
       "      <td>13700.6</td>\n",
       "      <td>ISQSNYIPTQQDVLR</td>\n",
       "      <td>sp|P08754|GNAI3_HUMAN</td>\n",
       "      <td>RT</td>\n",
       "      <td>1760.905492</td>\n",
       "      <td>1760.905700</td>\n",
       "      <td>-0.118249</td>\n",
       "      <td>-0.000208</td>\n",
       "    </tr>\n",
       "    <tr>\n",
       "      <th>76454</th>\n",
       "      <td>1095.450761</td>\n",
       "      <td>1095.520542</td>\n",
       "      <td>161.0</td>\n",
       "      <td>133</td>\n",
       "      <td>186</td>\n",
       "      <td>2055.849226</td>\n",
       "      <td>2052.674951</td>\n",
       "      <td>2059.025818</td>\n",
       "      <td>4023.0</td>\n",
       "      <td>4023.0</td>\n",
       "      <td>...</td>\n",
       "      <td>0.000199</td>\n",
       "      <td>0.002024</td>\n",
       "      <td>13700.6</td>\n",
       "      <td>IGGPCPDTNYLFMGDYVDR</td>\n",
       "      <td>sp|P23594|PP2A1_YEAST,sp|P23595|PP2A2_YEAST</td>\n",
       "      <td>KG</td>\n",
       "      <td>2188.957297</td>\n",
       "      <td>2188.955764</td>\n",
       "      <td>0.700336</td>\n",
       "      <td>0.001533</td>\n",
       "    </tr>\n",
       "    <tr>\n",
       "      <th>3602</th>\n",
       "      <td>616.830243</td>\n",
       "      <td>616.869536</td>\n",
       "      <td>737.0</td>\n",
       "      <td>731</td>\n",
       "      <td>763</td>\n",
       "      <td>1667.908146</td>\n",
       "      <td>1667.908146</td>\n",
       "      <td>1671.083844</td>\n",
       "      <td>4783.0</td>\n",
       "      <td>4783.0</td>\n",
       "      <td>...</td>\n",
       "      <td>0.000713</td>\n",
       "      <td>0.038052</td>\n",
       "      <td>13700.6</td>\n",
       "      <td>VLSNRPIMFR</td>\n",
       "      <td>sp|Q13283|G3BP1_HUMAN</td>\n",
       "      <td>KG</td>\n",
       "      <td>1231.687055</td>\n",
       "      <td>1231.685900</td>\n",
       "      <td>0.938055</td>\n",
       "      <td>0.001155</td>\n",
       "    </tr>\n",
       "    <tr>\n",
       "      <th>64775</th>\n",
       "      <td>1098.023250</td>\n",
       "      <td>1098.093196</td>\n",
       "      <td>153.0</td>\n",
       "      <td>120</td>\n",
       "      <td>185</td>\n",
       "      <td>1994.995127</td>\n",
       "      <td>1991.289805</td>\n",
       "      <td>2002.403237</td>\n",
       "      <td>11791.0</td>\n",
       "      <td>11791.0</td>\n",
       "      <td>...</td>\n",
       "      <td>0.000126</td>\n",
       "      <td>0.000005</td>\n",
       "      <td>13700.6</td>\n",
       "      <td>VGEQAQVVIIDMNDPSNPIR</td>\n",
       "      <td>sp|Q00610|CLH1_HUMAN</td>\n",
       "      <td>KR</td>\n",
       "      <td>2194.104003</td>\n",
       "      <td>2194.105200</td>\n",
       "      <td>-0.545533</td>\n",
       "      <td>-0.001197</td>\n",
       "    </tr>\n",
       "  </tbody>\n",
       "</table>\n",
       "<p>10 rows × 46 columns</p>\n",
       "</div>"
      ],
      "text/plain": [
       "        mono_mz_lower  mono_mz_upper  scan_apex  scan_lower  scan_upper  \\\n",
       "82990     1008.472302    1008.536543      266.0         245         291   \n",
       "78401      781.028776     781.078529      638.0         619         658   \n",
       "30787      990.411310     990.474400      255.0         219         294   \n",
       "42572      682.808004     682.851500      665.0         641         690   \n",
       "72041      736.670632     736.717559      676.0         653         697   \n",
       "101449     970.931070     970.992920      266.0         225         287   \n",
       "27467      881.430922     881.487070      362.0         362         382   \n",
       "76454     1095.450761    1095.520542      161.0         133         186   \n",
       "3602       616.830243     616.869536      737.0         731         763   \n",
       "64775     1098.023250    1098.093196      153.0         120         185   \n",
       "\n",
       "            rt_apex     rt_lower     rt_upper  \\\n",
       "82990   2090.779963  2087.603752  2093.956468   \n",
       "78401   2065.904414  2062.199575  2069.077685   \n",
       "30787   1827.758085  1822.464558  1830.405171   \n",
       "42572   1885.443187  1876.977672  1888.620075   \n",
       "72041   2032.035375  2027.272889  2036.797901   \n",
       "101449  2186.574076  2182.870203  2189.750594   \n",
       "27467   1813.996753  1809.233435  1817.702547   \n",
       "76454   2055.849226  2052.674951  2059.025818   \n",
       "3602    1667.908146  1667.908146  1671.083844   \n",
       "64775   1994.995127  1991.289805  2002.403237   \n",
       "\n",
       "        intensity_without_saturation_correction  \\\n",
       "82990                                   41719.0   \n",
       "78401                                    4375.0   \n",
       "30787                                   18772.0   \n",
       "42572                                    3409.0   \n",
       "72041                                    4731.0   \n",
       "101449                                   9530.0   \n",
       "27467                                    5045.0   \n",
       "76454                                    4023.0   \n",
       "3602                                     4783.0   \n",
       "64775                                   11791.0   \n",
       "\n",
       "        intensity_with_saturation_correction  ... percolator q-value  \\\n",
       "82990                                51957.0  ...           0.000199   \n",
       "78401                                 4375.0  ...           0.000199   \n",
       "30787                                18772.0  ...           0.000126   \n",
       "42572                                 3409.0  ...           0.000271   \n",
       "72041                                 4731.0  ...           0.000126   \n",
       "101449                                9530.0  ...           0.000199   \n",
       "27467                                 5045.0  ...           0.000499   \n",
       "76454                                 4023.0  ...           0.000199   \n",
       "3602                                  4783.0  ...           0.000713   \n",
       "64775                                11791.0  ...           0.000126   \n",
       "\n",
       "        percolator PEP  total matches/spectrum               sequence  \\\n",
       "82990         0.001380                 13700.6   ISLGLPVGAIMNCADNSGAR   \n",
       "78401         0.001714                 13700.6   VLGSVGEPISPDLWEWYHEK   \n",
       "30787         0.000066                 13700.6     FSGWYDADLSPAGHEEAK   \n",
       "42572         0.005841                 13700.6           IFDIDEAEEGVK   \n",
       "72041         0.000376                 13700.6  FGAVFLWDSGSSVGEITGHNK   \n",
       "101449        0.001094                 13700.6       LLELFTDLSCNPEMMK   \n",
       "27467         0.016730                 13700.6        ISQSNYIPTQQDVLR   \n",
       "76454         0.002024                 13700.6    IGGPCPDTNYLFMGDYVDR   \n",
       "3602          0.038052                 13700.6             VLSNRPIMFR   \n",
       "64775         0.000005                 13700.6   VGEQAQVVIIDMNDPSNPIR   \n",
       "\n",
       "                                         protein id flanking aa  \\\n",
       "82990   sp|P0CX42|RL23B_YEAST,sp|P0CX41|RL23A_YEAST          RN   \n",
       "78401                          sp|P52910|ACS2_YEAST          RV   \n",
       "30787                         sp|P18669|PGAM1_HUMAN          RR   \n",
       "42572                          sp|P20042|IF2B_HUMAN          KD   \n",
       "72041                          sp|O75083|WDR1_HUMAN          KV   \n",
       "101449                         sp|Q5VW32|BROX_HUMAN          RN   \n",
       "27467                         sp|P08754|GNAI3_HUMAN          RT   \n",
       "76454   sp|P23594|PP2A1_YEAST,sp|P23595|PP2A2_YEAST          KG   \n",
       "3602                          sp|Q13283|G3BP1_HUMAN          KG   \n",
       "64775                          sp|Q00610|CLH1_HUMAN          KR   \n",
       "\n",
       "        observed_monoisotopic_mass  theoretical_peptide_mass  \\\n",
       "82990                  2014.992670               2014.992764   \n",
       "78401                  2340.144948               2340.142600   \n",
       "30787                  1978.872893               1978.869700   \n",
       "42572                  1363.649760               1363.650700   \n",
       "72041                  2207.065876               2207.064700   \n",
       "101449                 1939.910362               1939.909364   \n",
       "27467                  1760.905492               1760.905700   \n",
       "76454                  2188.957297               2188.955764   \n",
       "3602                   1231.687055               1231.685900   \n",
       "64775                  2194.104003               2194.105200   \n",
       "\n",
       "        mass_accuracy_ppm  mass_error  \n",
       "82990           -0.046719   -0.000094  \n",
       "78401            1.003481    0.002348  \n",
       "30787            1.613361    0.003193  \n",
       "42572           -0.689110   -0.000940  \n",
       "72041            0.533045    0.001176  \n",
       "101449           0.514396    0.000998  \n",
       "27467           -0.118249   -0.000208  \n",
       "76454            0.700336    0.001533  \n",
       "3602             0.938055    0.001155  \n",
       "64775           -0.545533   -0.001197  \n",
       "\n",
       "[10 rows x 46 columns]"
      ]
     },
     "execution_count": 15,
     "metadata": {},
     "output_type": "execute_result"
    }
   ],
   "source": [
    "identifications_df.sample(n=10)"
   ]
  },
  {
   "cell_type": "code",
   "execution_count": 10,
   "metadata": {},
   "outputs": [
    {
     "data": {
      "text/plain": [
       "Index(['mono_mz_lower', 'mono_mz_upper', 'scan_apex', 'scan_lower',\n",
       "       'scan_upper', 'rt_apex', 'rt_lower', 'rt_upper',\n",
       "       'intensity_without_saturation_correction',\n",
       "       'intensity_with_saturation_correction',\n",
       "       'mono_intensity_adjustment_outcome',\n",
       "       'mono_mz_without_saturation_correction',\n",
       "       'mono_mz_with_saturation_correction', 'isotopic_peaks', 'scan_df',\n",
       "       'rt_df', 'monoisotopic_mz', 'charge', 'monoisotopic_mass',\n",
       "       'feature_intensity', 'envelope', 'isotope_count', 'deconvolution_score',\n",
       "       'precursor_cuboid_id', 'fragment_ions_l', 'fmdw_before_after_d',\n",
       "       'feature_id', 'run_name', 'predicted_mass_error',\n",
       "       'recalibrated_monoisotopic_mass', 'recalibrated_monoisotopic_mz',\n",
       "       'file_idx', 'spectrum precursor m/z', 'spectrum neutral mass',\n",
       "       'peptide mass', 'percolator score', 'percolator q-value',\n",
       "       'percolator PEP', 'total matches/spectrum', 'sequence', 'protein id',\n",
       "       'flanking aa', 'observed_monoisotopic_mass', 'theoretical_peptide_mass',\n",
       "       'mass_accuracy_ppm', 'mass_error'],\n",
       "      dtype='object')"
      ]
     },
     "execution_count": 10,
     "metadata": {},
     "output_type": "execute_result"
    }
   ],
   "source": [
    "identifications_df.columns"
   ]
  },
  {
   "cell_type": "code",
   "execution_count": 22,
   "metadata": {},
   "outputs": [],
   "source": [
    "sequences_l = []\n",
    "for group_name,group_df in identifications_df.groupby(['sequence','charge'], as_index=False):\n",
    "    sequence = group_name[0]\n",
    "    charge = group_name[1]\n",
    "    q_value = group_df['percolator q-value'].mean()\n",
    "    group_df['scan_base_peak_width'] = group_df.scan_upper - group_df.scan_lower\n",
    "    mean_scan_base_peak_width = group_df.scan_base_peak_width.mean()\n",
    "    group_df['rt_base_peak_width'] = group_df.rt_upper - group_df.rt_lower\n",
    "    mean_rt_base_peak_width = group_df.rt_base_peak_width.mean()\n",
    "    sequences_l.append({'sequence':sequence, 'charge':charge, 'q_value':q_value, 'mean_scan_base_peak_width':mean_scan_base_peak_width, 'mean_rt_base_peak_width':mean_rt_base_peak_width})\n",
    "sequences_df = pd.DataFrame(sequences_l)"
   ]
  },
  {
   "cell_type": "code",
   "execution_count": 31,
   "metadata": {},
   "outputs": [
    {
     "data": {
      "text/plain": [
       "8143"
      ]
     },
     "execution_count": 31,
     "metadata": {},
     "output_type": "execute_result"
    }
   ],
   "source": [
    "len(sequences_df)"
   ]
  },
  {
   "cell_type": "markdown",
   "metadata": {},
   "source": [
    "#### Percolator q-value of unique peptides"
   ]
  },
  {
   "cell_type": "code",
   "execution_count": 23,
   "metadata": {},
   "outputs": [
    {
     "data": {
      "image/png": "[encoded data removed]",
      "text/plain": [
       "<Figure size 1080x576 with 1 Axes>"
      ]
     },
     "metadata": {
      "needs_background": "light"
     },
     "output_type": "display_data"
    }
   ],
   "source": [
    "f, ax1 = plt.subplots()\n",
    "f.set_figheight(8)\n",
    "f.set_figwidth(15)\n",
    "\n",
    "plt.margins(0.06)\n",
    "plt.title('')\n",
    "\n",
    "bins = 300\n",
    "# values = sequences_df[sequences_df.q_value <= 0.05].q_value\n",
    "values = sequences_df.q_value\n",
    "y, x, _ = ax1.hist(values, bins=bins, label=None)\n",
    "\n",
    "ax1.axvline(0.01, color='darkorange', lw=1.0, ls='-.', label='peptide library maximum')\n",
    "ax1.axvline(0.005, color='darkblue', lw=1.0, ls='-.', label='coordinate estimator training set maximum')\n",
    "\n",
    "plt.xlabel('Percolator q-value')\n",
    "plt.ylabel('count')\n",
    "plt.title('Peptide identification q-value from Percolator\\nexperiment {}'.format(experiment_name))\n",
    "# plt.xlim((0,0.01))\n",
    "# plt.ylim((0,1000))\n",
    "\n",
    "plt.legend(loc='best')\n",
    "\n",
    "plt.show()"
   ]
  },
  {
   "cell_type": "markdown",
   "metadata": {},
   "source": [
    "#### distribution of CCS base peak width"
   ]
  },
  {
   "cell_type": "code",
   "execution_count": 32,
   "metadata": {},
   "outputs": [
    {
     "name": "stderr",
     "output_type": "stream",
     "text": [
      "No handles with labels found to put in legend.\n"
     ]
    },
    {
     "data": {
      "image/png": "[encoded data removed]",
      "text/plain": [
       "<Figure size 1080x576 with 1 Axes>"
      ]
     },
     "metadata": {
      "needs_background": "light"
     },
     "output_type": "display_data"
    }
   ],
   "source": [
    "f, ax1 = plt.subplots()\n",
    "f.set_figheight(8)\n",
    "f.set_figwidth(15)\n",
    "\n",
    "plt.margins(0.06)\n",
    "plt.title('')\n",
    "\n",
    "bins = 50\n",
    "values = sequences_df.mean_scan_base_peak_width\n",
    "y, x, _ = ax1.hist(values, bins=bins, label=None)\n",
    "\n",
    "plt.xlabel('CCS base peak width')\n",
    "plt.ylabel('count')\n",
    "plt.title('')\n",
    "# plt.xlim((0,0.01))\n",
    "# plt.ylim((0,1000))\n",
    "\n",
    "nearest = 5.0\n",
    "range_l = round(sequences_df.mean_scan_base_peak_width.min() / nearest) * nearest\n",
    "range_u = round(sequences_df.mean_scan_base_peak_width.max() / nearest) * nearest\n",
    "plt.xticks(np.arange(range_l,range_u+nearest,nearest))\n",
    "\n",
    "plt.legend(loc='best')\n",
    "\n",
    "plt.show()"
   ]
  },
  {
   "cell_type": "markdown",
   "metadata": {},
   "source": [
    "#### distribution of RT base peak width"
   ]
  },
  {
   "cell_type": "code",
   "execution_count": 36,
   "metadata": {},
   "outputs": [
    {
     "name": "stderr",
     "output_type": "stream",
     "text": [
      "No handles with labels found to put in legend.\n"
     ]
    },
    {
     "data": {
      "image/png": "[encoded data removed]",
      "text/plain": [
       "<Figure size 1080x576 with 1 Axes>"
      ]
     },
     "metadata": {
      "needs_background": "light"
     },
     "output_type": "display_data"
    }
   ],
   "source": [
    "f, ax1 = plt.subplots()\n",
    "f.set_figheight(8)\n",
    "f.set_figwidth(15)\n",
    "\n",
    "plt.margins(0.06)\n",
    "plt.title('')\n",
    "\n",
    "bins = 30\n",
    "values = sequences_df.mean_rt_base_peak_width\n",
    "y, x, _ = ax1.hist(values, bins=bins, label=None)\n",
    "\n",
    "plt.xlabel('RT base peak width')\n",
    "plt.ylabel('count')\n",
    "plt.title('')\n",
    "# plt.xlim((0,0.01))\n",
    "# plt.ylim((0,1000))\n",
    "\n",
    "nearest = 1.0\n",
    "range_l = round(sequences_df.mean_rt_base_peak_width.min() / nearest) * nearest\n",
    "range_u = round(sequences_df.mean_rt_base_peak_width.max() / nearest) * nearest\n",
    "plt.xticks(np.arange(range_l,range_u+nearest,nearest))\n",
    "\n",
    "plt.legend(loc='best')\n",
    "\n",
    "plt.show()"
   ]
  },
  {
   "cell_type": "code",
   "execution_count": null,
   "metadata": {},
   "outputs": [],
   "source": []
  }
 ],
 "metadata": {
  "kernelspec": {
   "display_name": "Python 3",
   "language": "python",
   "name": "python3"
  },
  "language_info": {
   "codemirror_mode": {
    "name": "ipython",
    "version": 3
   },
   "file_extension": ".py",
   "mimetype": "text/x-python",
   "name": "python",
   "nbconvert_exporter": "python",
   "pygments_lexer": "ipython3",
   "version": "3.8.8"
  }
 },
 "nbformat": 4,
 "nbformat_minor": 2
}
