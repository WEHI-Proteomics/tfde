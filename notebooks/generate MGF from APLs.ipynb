{
 "cells": [
  {
   "cell_type": "code",
   "execution_count": 1,
   "metadata": {},
   "outputs": [],
   "source": [
    "import sqlite3\n",
    "import pandas as pd\n",
    "import numpy as np\n",
    "import sys\n",
    "import glob, os\n",
    "from pyteomics import mgf"
   ]
  },
  {
   "cell_type": "code",
   "execution_count": 11,
   "metadata": {},
   "outputs": [],
   "source": [
    "BASE_MAXQUANT_DIR = '/Users/darylwilding-mcbride/Downloads/experiments/YHE-R/YHE114_01_YHE211_01-combined'\n",
    "MAXQUANT_TXT_DIR = '{}/txt'.format(BASE_MAXQUANT_DIR)\n",
    "ALLPEPTIDES_FILENAME = '{}/allPeptides.txt'.format(MAXQUANT_TXT_DIR)\n",
    "APL_DIR = '{}/andromeda'.format(BASE_MAXQUANT_DIR)"
   ]
  },
  {
   "cell_type": "code",
   "execution_count": 14,
   "metadata": {},
   "outputs": [],
   "source": [
    "allpeptides_df = pd.read_csv(ALLPEPTIDES_FILENAME, sep='\\t')\n",
    "allpeptides_df.rename(columns={'Number of isotopic peaks':'isotope_count', 'm/z':'mz', 'Number of data points':'number_data_points', 'Intensity':'intensity', 'Ion mobility index':'scan', 'Ion mobility index length':'scan_length', 'Ion mobility index length (FWHM)':'scan_length_fwhm', 'Retention time':'rt', 'Retention length':'rt_length', 'Retention length (FWHM)':'rt_length_fwhm', 'Charge':'charge_state', 'Number of pasef MS/MS':'number_pasef_ms2_ids', 'Pasef MS/MS IDs':'pasef_msms_ids', 'MS/MS scan number':'msms_scan_number', 'Isotope correlation':'isotope_correlation'}, inplace=True)\n",
    "# allpeptides_df = allpeptides_df[allpeptides_df.intensity.notnull() & (allpeptides_df.number_pasef_ms2_ids > 0) & (allpeptides_df.msms_scan_number >= 0) & allpeptides_df.pasef_msms_ids.notnull()].copy()\n",
    "allpeptides_df = allpeptides_df[(allpeptides_df.msms_scan_number >= 0)].copy()\n",
    "allpeptides_df.sort_values(by=['msms_scan_number'], ascending=True, inplace=True)"
   ]
  },
  {
   "cell_type": "code",
   "execution_count": 15,
   "metadata": {},
   "outputs": [],
   "source": [
    "allpeptides_df.msms_scan_number = allpeptides_df.msms_scan_number.apply(lambda x: int(x))"
   ]
  },
  {
   "cell_type": "code",
   "execution_count": 16,
   "metadata": {},
   "outputs": [
    {
     "data": {
      "text/plain": [
       "29928"
      ]
     },
     "execution_count": 16,
     "metadata": {},
     "output_type": "execute_result"
    }
   ],
   "source": [
    "allpeptides_df.msms_scan_number.max()"
   ]
  },
  {
   "cell_type": "code",
   "execution_count": 26,
   "metadata": {},
   "outputs": [
    {
     "data": {
      "text/html": [
       "<div>\n",
       "<style scoped>\n",
       "    .dataframe tbody tr th:only-of-type {\n",
       "        vertical-align: middle;\n",
       "    }\n",
       "\n",
       "    .dataframe tbody tr th {\n",
       "        vertical-align: top;\n",
       "    }\n",
       "\n",
       "    .dataframe thead th {\n",
       "        text-align: right;\n",
       "    }\n",
       "</style>\n",
       "<table border=\"1\" class=\"dataframe\">\n",
       "  <thead>\n",
       "    <tr style=\"text-align: right;\">\n",
       "      <th></th>\n",
       "      <th>Raw file</th>\n",
       "      <th>charge_state</th>\n",
       "      <th>mz</th>\n",
       "      <th>Mass</th>\n",
       "      <th>number_data_points</th>\n",
       "      <th>Number of frames</th>\n",
       "      <th>isotope_count</th>\n",
       "      <th>isotope_correlation</th>\n",
       "      <th>Mass fractional part</th>\n",
       "      <th>Mass deficit</th>\n",
       "      <th>...</th>\n",
       "      <th>Min frame index</th>\n",
       "      <th>Max frame index</th>\n",
       "      <th>scan</th>\n",
       "      <th>scan_length</th>\n",
       "      <th>scan_length_fwhm</th>\n",
       "      <th>intensity</th>\n",
       "      <th>Intensities</th>\n",
       "      <th>number_pasef_ms2_ids</th>\n",
       "      <th>pasef_msms_ids</th>\n",
       "      <th>msms_scan_number</th>\n",
       "    </tr>\n",
       "  </thead>\n",
       "  <tbody>\n",
       "    <tr>\n",
       "      <th>103597</th>\n",
       "      <td>YHE114_01_Slot1-1_1_3008</td>\n",
       "      <td>2</td>\n",
       "      <td>356.19120</td>\n",
       "      <td>710.36784</td>\n",
       "      <td>4973</td>\n",
       "      <td>31</td>\n",
       "      <td>2</td>\n",
       "      <td>0.978443</td>\n",
       "      <td>0.367840</td>\n",
       "      <td>0.001071</td>\n",
       "      <td>...</td>\n",
       "      <td>1535</td>\n",
       "      <td>1565</td>\n",
       "      <td>855</td>\n",
       "      <td>24</td>\n",
       "      <td>15</td>\n",
       "      <td>72975.0</td>\n",
       "      <td>NaN</td>\n",
       "      <td>2</td>\n",
       "      <td>7483;7486</td>\n",
       "      <td>200</td>\n",
       "    </tr>\n",
       "    <tr>\n",
       "      <th>103688</th>\n",
       "      <td>YHE114_01_Slot1-1_1_3008</td>\n",
       "      <td>2</td>\n",
       "      <td>356.19121</td>\n",
       "      <td>710.36786</td>\n",
       "      <td>31608</td>\n",
       "      <td>105</td>\n",
       "      <td>2</td>\n",
       "      <td>0.987466</td>\n",
       "      <td>0.367858</td>\n",
       "      <td>0.001089</td>\n",
       "      <td>...</td>\n",
       "      <td>1382</td>\n",
       "      <td>1486</td>\n",
       "      <td>852</td>\n",
       "      <td>27</td>\n",
       "      <td>18</td>\n",
       "      <td>348470.0</td>\n",
       "      <td>NaN</td>\n",
       "      <td>11</td>\n",
       "      <td>3842;4105;4107;4151;4211;4612;4613;4934;4936;5...</td>\n",
       "      <td>201</td>\n",
       "    </tr>\n",
       "    <tr>\n",
       "      <th>103713</th>\n",
       "      <td>YHE114_01_Slot1-1_1_3008</td>\n",
       "      <td>2</td>\n",
       "      <td>356.19135</td>\n",
       "      <td>710.36816</td>\n",
       "      <td>3956</td>\n",
       "      <td>22</td>\n",
       "      <td>2</td>\n",
       "      <td>0.993326</td>\n",
       "      <td>0.368157</td>\n",
       "      <td>0.001387</td>\n",
       "      <td>...</td>\n",
       "      <td>1135</td>\n",
       "      <td>1187</td>\n",
       "      <td>858</td>\n",
       "      <td>24</td>\n",
       "      <td>15</td>\n",
       "      <td>103620.0</td>\n",
       "      <td>NaN</td>\n",
       "      <td>2</td>\n",
       "      <td>110;111</td>\n",
       "      <td>202</td>\n",
       "    </tr>\n",
       "    <tr>\n",
       "      <th>103712</th>\n",
       "      <td>YHE114_01_Slot1-1_1_3008</td>\n",
       "      <td>2</td>\n",
       "      <td>356.19145</td>\n",
       "      <td>710.36834</td>\n",
       "      <td>3495</td>\n",
       "      <td>30</td>\n",
       "      <td>2</td>\n",
       "      <td>0.995587</td>\n",
       "      <td>0.368338</td>\n",
       "      <td>0.001568</td>\n",
       "      <td>...</td>\n",
       "      <td>1186</td>\n",
       "      <td>1220</td>\n",
       "      <td>858</td>\n",
       "      <td>21</td>\n",
       "      <td>15</td>\n",
       "      <td>87628.0</td>\n",
       "      <td>NaN</td>\n",
       "      <td>1</td>\n",
       "      <td>266</td>\n",
       "      <td>203</td>\n",
       "    </tr>\n",
       "    <tr>\n",
       "      <th>102775</th>\n",
       "      <td>YHE114_01_Slot1-1_1_3008</td>\n",
       "      <td>2</td>\n",
       "      <td>358.24160</td>\n",
       "      <td>714.46866</td>\n",
       "      <td>134</td>\n",
       "      <td>4</td>\n",
       "      <td>2</td>\n",
       "      <td>0.994498</td>\n",
       "      <td>0.468656</td>\n",
       "      <td>0.100001</td>\n",
       "      <td>...</td>\n",
       "      <td>3489</td>\n",
       "      <td>3493</td>\n",
       "      <td>819</td>\n",
       "      <td>21</td>\n",
       "      <td>15</td>\n",
       "      <td>8094.4</td>\n",
       "      <td>NaN</td>\n",
       "      <td>3</td>\n",
       "      <td>101594;101595;101596</td>\n",
       "      <td>207</td>\n",
       "    </tr>\n",
       "  </tbody>\n",
       "</table>\n",
       "<p>5 rows × 23 columns</p>\n",
       "</div>"
      ],
      "text/plain": [
       "                        Raw file  charge_state         mz       Mass  \\\n",
       "103597  YHE114_01_Slot1-1_1_3008             2  356.19120  710.36784   \n",
       "103688  YHE114_01_Slot1-1_1_3008             2  356.19121  710.36786   \n",
       "103713  YHE114_01_Slot1-1_1_3008             2  356.19135  710.36816   \n",
       "103712  YHE114_01_Slot1-1_1_3008             2  356.19145  710.36834   \n",
       "102775  YHE114_01_Slot1-1_1_3008             2  358.24160  714.46866   \n",
       "\n",
       "        number_data_points  Number of frames  isotope_count  \\\n",
       "103597                4973                31              2   \n",
       "103688               31608               105              2   \n",
       "103713                3956                22              2   \n",
       "103712                3495                30              2   \n",
       "102775                 134                 4              2   \n",
       "\n",
       "        isotope_correlation  Mass fractional part  Mass deficit  ...  \\\n",
       "103597             0.978443              0.367840      0.001071  ...   \n",
       "103688             0.987466              0.367858      0.001089  ...   \n",
       "103713             0.993326              0.368157      0.001387  ...   \n",
       "103712             0.995587              0.368338      0.001568  ...   \n",
       "102775             0.994498              0.468656      0.100001  ...   \n",
       "\n",
       "        Min frame index  Max frame index  scan  scan_length  scan_length_fwhm  \\\n",
       "103597             1535             1565   855           24                15   \n",
       "103688             1382             1486   852           27                18   \n",
       "103713             1135             1187   858           24                15   \n",
       "103712             1186             1220   858           21                15   \n",
       "102775             3489             3493   819           21                15   \n",
       "\n",
       "        intensity  Intensities  number_pasef_ms2_ids  \\\n",
       "103597    72975.0          NaN                     2   \n",
       "103688   348470.0          NaN                    11   \n",
       "103713   103620.0          NaN                     2   \n",
       "103712    87628.0          NaN                     1   \n",
       "102775     8094.4          NaN                     3   \n",
       "\n",
       "                                           pasef_msms_ids  msms_scan_number  \n",
       "103597                                          7483;7486               200  \n",
       "103688  3842;4105;4107;4151;4211;4612;4613;4934;4936;5...               201  \n",
       "103713                                            110;111               202  \n",
       "103712                                                266               203  \n",
       "102775                               101594;101595;101596               207  \n",
       "\n",
       "[5 rows x 23 columns]"
      ]
     },
     "execution_count": 26,
     "metadata": {},
     "output_type": "execute_result"
    }
   ],
   "source": [
    "allpeptides_df[(allpeptides_df['Raw file'] == 'YHE114_01_Slot1-1_1_3008') & (allpeptides_df.charge_state == 2)].head()"
   ]
  },
  {
   "cell_type": "code",
   "execution_count": 24,
   "metadata": {},
   "outputs": [
    {
     "data": {
      "text/plain": [
       "Index(['Raw file', 'charge_state', 'mz', 'Mass', 'number_data_points',\n",
       "       'Number of frames', 'isotope_count', 'isotope_correlation',\n",
       "       'Mass fractional part', 'Mass deficit', 'rt', 'rt_length',\n",
       "       'rt_length_fwhm', 'Min frame index', 'Max frame index', 'scan',\n",
       "       'scan_length', 'scan_length_fwhm', 'intensity', 'Intensities',\n",
       "       'number_pasef_ms2_ids', 'pasef_msms_ids', 'msms_scan_number'],\n",
       "      dtype='object')"
      ]
     },
     "execution_count": 24,
     "metadata": {},
     "output_type": "execute_result"
    }
   ],
   "source": [
    "allpeptides_df.columns"
   ]
  },
  {
   "cell_type": "code",
   "execution_count": 18,
   "metadata": {},
   "outputs": [
    {
     "data": {
      "text/plain": [
       "array(['YHE114_01_Slot1-1_1_3008', 'YHE211_01_Slot1-1_1_2997'],\n",
       "      dtype=object)"
      ]
     },
     "execution_count": 18,
     "metadata": {},
     "output_type": "execute_result"
    }
   ],
   "source": [
    "allpeptides_df['Raw file'].unique()"
   ]
  },
  {
   "cell_type": "code",
   "execution_count": 19,
   "metadata": {},
   "outputs": [],
   "source": [
    "def collate_spectra_for_feature(ms1_d, ms2_df):\n",
    "    # append the monoisotopic and the ms2 fragments to the list for MGF creation\n",
    "    pairs_df = ms2_df[['mz', 'intensity']].copy().sort_values(by=['mz'], ascending=True)\n",
    "    spectrum = {}\n",
    "    spectrum[\"m/z array\"] = pairs_df.mz.values\n",
    "    spectrum[\"intensity array\"] = pairs_df.intensity.values\n",
    "    params = {}\n",
    "    params[\"TITLE\"] = \"RawFile: {} Index: {} Charge: {} FeatureIntensity: {} RtApex: {}\".format(ms1_d['raw_file'], ms1_d['mq_index'], ms1_d['charge'], ms1_d['intensity'], round(ms1_d['rt_apex'],2))\n",
    "    params[\"INSTRUMENT\"] = \"ESI-QUAD-TOF\"\n",
    "    params[\"PEPMASS\"] = \"{} {}\".format(round(ms1_d['monoisotopic_mz'],6), ms1_d['intensity'])\n",
    "    params[\"CHARGE\"] = \"{}+\".format(ms1_d['charge'])\n",
    "    params[\"RTINSECONDS\"] = \"{}\".format(round(ms1_d['rt_apex'],2))\n",
    "    params[\"SCANS\"] = \"{}\".format(int(ms1_d['rt_apex']))\n",
    "    spectrum[\"params\"] = params\n",
    "    return spectrum"
   ]
  },
  {
   "cell_type": "code",
   "execution_count": 20,
   "metadata": {},
   "outputs": [],
   "source": [
    "# build a list of indexes from the APL files\n",
    "ms2_peaks = []\n",
    "apl_indexes = []\n",
    "for file in glob.glob(\"{}/*.apl\".format(APL_DIR)):\n",
    "    with open(file, 'r') as f:\n",
    "        for line in f:\n",
    "            line = line.rstrip()\n",
    "            if len(line) > 0:\n",
    "                if line.startswith(\"header=\"):\n",
    "                    line_a = line.split(' ')\n",
    "                    mq_index = int(line_a[3])\n",
    "                    raw_file = line_a[1]\n",
    "                if line[0].isdigit():\n",
    "                    line_a = line.split('\\t')\n",
    "                    mz = float(line_a[0])\n",
    "                    intensity = round(float(line_a[1]))\n",
    "                    ms2_peaks.append((mz, intensity))\n",
    "                if line.startswith(\"peaklist end\"):\n",
    "                    apl_indexes.append((mq_index, ms2_peaks.copy(), raw_file))\n",
    "                    del ms2_peaks[:]\n",
    "                    mq_index = 0\n",
    "apl_indexes_df = pd.DataFrame(apl_indexes, columns=['mq_index','ms2_peaks','raw_file'])\n",
    "apl_indexes_df.sort_values(by=['mq_index'], ascending=True, inplace=True)"
   ]
  },
  {
   "cell_type": "code",
   "execution_count": 21,
   "metadata": {
    "scrolled": true
   },
   "outputs": [
    {
     "name": "stdout",
     "output_type": "stream",
     "text": [
      "generating MGF: /Users/darylwilding-mcbride/Downloads/experiments/YHE-R/YHE114_01_YHE211_01-combined/YHE114_01_Slot1-1_1_3008-dwm.mgf\n",
      "generating MGF: /Users/darylwilding-mcbride/Downloads/experiments/YHE-R/YHE114_01_YHE211_01-combined/YHE211_01_Slot1-1_1_2997-dwm.mgf\n"
     ]
    }
   ],
   "source": [
    "for group_name,group_df in allpeptides_df.groupby('Raw file'):\n",
    "    mgf_spectra = []\n",
    "    mgf_file_name = '{}/{}-dwm.mgf'.format(BASE_MAXQUANT_DIR, group_name)\n",
    "    file_apl_indexes_df = apl_indexes_df[(apl_indexes_df['raw_file'] == group_name)]\n",
    "    for idx,row in group_df.iterrows():\n",
    "        mq_index = row.msms_scan_number\n",
    "        ms1_d = {'monoisotopic_mass':row.Mass, \n",
    "                 'charge':row.charge_state, \n",
    "                 'monoisotopic_mz':row.mz, \n",
    "                 'intensity':int(row.intensity), \n",
    "                 'scan_apex':row.scan, \n",
    "                 'rt_apex':row.rt,\n",
    "                 'raw_file':row['Raw file'],\n",
    "                 'mq_index':mq_index}\n",
    "        df = file_apl_indexes_df[(file_apl_indexes_df.mq_index == mq_index)]\n",
    "        ms2_peaks_df = pd.DataFrame(df.iloc[0].ms2_peaks, columns=['mz','intensity'])\n",
    "        feature_spectra = collate_spectra_for_feature(ms1_d, ms2_peaks_df)\n",
    "        mgf_spectra.append(feature_spectra)\n",
    "    # generate the MGF for all the features\n",
    "    print(\"generating MGF: {}\".format(mgf_file_name))\n",
    "    if os.path.isfile(mgf_file_name):\n",
    "        os.remove(mgf_file_name)\n",
    "    f = mgf.write(output=mgf_file_name, spectra=mgf_spectra)\n"
   ]
  },
  {
   "cell_type": "code",
   "execution_count": null,
   "metadata": {},
   "outputs": [],
   "source": []
  }
 ],
 "metadata": {
  "kernelspec": {
   "display_name": "Python 3",
   "language": "python",
   "name": "python3"
  },
  "language_info": {
   "codemirror_mode": {
    "name": "ipython",
    "version": 3
   },
   "file_extension": ".py",
   "mimetype": "text/x-python",
   "name": "python",
   "nbconvert_exporter": "python",
   "pygments_lexer": "ipython3",
   "version": "3.6.8"
  }
 },
 "nbformat": 4,
 "nbformat_minor": 2
}
