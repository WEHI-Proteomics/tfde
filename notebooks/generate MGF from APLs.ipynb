{
 "cells": [
  {
   "cell_type": "code",
   "execution_count": 1,
   "metadata": {},
   "outputs": [],
   "source": [
    "import sqlite3\n",
    "import pandas as pd\n",
    "import numpy as np\n",
    "import sys\n",
    "import glob, os\n",
    "from pyteomics import mgf\n",
    "from os.path import expanduser"
   ]
  },
  {
   "cell_type": "code",
   "execution_count": 2,
   "metadata": {},
   "outputs": [],
   "source": [
    "BASE_MAXQUANT_DIR = '{}/MQ-analysis-of-P3856/combined'.format(expanduser('~'))\n",
    "MAXQUANT_TXT_DIR = '{}/txt'.format(BASE_MAXQUANT_DIR)\n",
    "ALLPEPTIDES_FILENAME = '{}/allPeptides.txt'.format(MAXQUANT_TXT_DIR)\n",
    "APL_DIR = '{}/andromeda'.format(BASE_MAXQUANT_DIR)"
   ]
  },
  {
   "cell_type": "code",
   "execution_count": 3,
   "metadata": {},
   "outputs": [],
   "source": [
    "RT_LOWER = 1650\n",
    "RT_UPPER = 2200"
   ]
  },
  {
   "cell_type": "code",
   "execution_count": 4,
   "metadata": {},
   "outputs": [],
   "source": [
    "run_name = 'P3856_YHE211_1_Slot1-1_1_5104'"
   ]
  },
  {
   "cell_type": "code",
   "execution_count": 5,
   "metadata": {},
   "outputs": [],
   "source": [
    "allpeptides_df = pd.read_csv(ALLPEPTIDES_FILENAME, sep='\\t')\n",
    "allpeptides_df.rename(columns={'Number of isotopic peaks':'isotope_count', 'm/z':'mz', 'Number of data points':'number_data_points', 'Intensity':'intensity', 'Ion mobility index':'scan', 'Ion mobility index length':'scan_length', 'Ion mobility index length (FWHM)':'scan_length_fwhm', 'Retention time':'rt', 'Retention length':'rt_length', 'Retention length (FWHM)':'rt_length_fwhm', 'Charge':'charge_state', 'Number of pasef MS/MS':'number_pasef_ms2_ids', 'Pasef MS/MS IDs':'pasef_msms_ids', 'MS/MS scan number':'msms_scan_number', 'Isotope correlation':'isotope_correlation'}, inplace=True)\n",
    "# allpeptides_df = allpeptides_df[allpeptides_df.intensity.notnull() & (allpeptides_df.number_pasef_ms2_ids > 0) & (allpeptides_df.msms_scan_number >= 0) & allpeptides_df.pasef_msms_ids.notnull()].copy()\n",
    "allpeptides_df = allpeptides_df[(allpeptides_df.msms_scan_number >= 0)].copy()\n",
    "allpeptides_df['rt_in_seconds'] = allpeptides_df.rt * 60.0\n",
    "allpeptides_df.sort_values(by=['msms_scan_number'], ascending=True, inplace=True)"
   ]
  },
  {
   "cell_type": "code",
   "execution_count": 6,
   "metadata": {},
   "outputs": [],
   "source": [
    "allpeptides_df.msms_scan_number = allpeptides_df.msms_scan_number.apply(lambda x: int(x))"
   ]
  },
  {
   "cell_type": "code",
   "execution_count": 7,
   "metadata": {},
   "outputs": [
    {
     "data": {
      "text/plain": [
       "25266"
      ]
     },
     "execution_count": 7,
     "metadata": {},
     "output_type": "execute_result"
    }
   ],
   "source": [
    "allpeptides_df.msms_scan_number.max()"
   ]
  },
  {
   "cell_type": "code",
   "execution_count": 8,
   "metadata": {},
   "outputs": [
    {
     "data": {
      "text/plain": [
       "Index(['Raw file', 'charge_state', 'mz', 'Mass', 'number_data_points',\n",
       "       'Number of frames', 'isotope_count', 'isotope_correlation',\n",
       "       'Mass fractional part', 'Mass deficit', 'rt', 'rt_length',\n",
       "       'rt_length_fwhm', 'Min frame index', 'Max frame index', 'scan',\n",
       "       'scan_length', 'scan_length_fwhm', 'intensity', 'Intensities',\n",
       "       'number_pasef_ms2_ids', 'pasef_msms_ids', 'msms_scan_number',\n",
       "       'rt_in_seconds'],\n",
       "      dtype='object')"
      ]
     },
     "execution_count": 8,
     "metadata": {},
     "output_type": "execute_result"
    }
   ],
   "source": [
    "allpeptides_df.columns"
   ]
  },
  {
   "cell_type": "code",
   "execution_count": 9,
   "metadata": {},
   "outputs": [
    {
     "data": {
      "text/plain": [
       "array(['P3856_YHE010_8_Slot1-1_1_5100', 'P3856_YHE114_10_Slot1-1_1_5124',\n",
       "       'P3856_YHE211_9_Slot1-1_1_5112', 'P3856_YHE010_6_Slot1-1_1_5098',\n",
       "       'P3856_YHE211_10_Slot1-1_1_5113', 'P3856_YHE114_3_Slot1-1_1_5117',\n",
       "       'P3856_YHE010_3_Slot1-1_1_5095', 'P3856_YHE211_5_Slot1-1_1_5108',\n",
       "       'P3856_YHE010_5_Slot1-1_1_5097', 'P3856_YHE114_7_Slot1-1_1_5121',\n",
       "       'P3856_YHE114_6_Slot1-1_1_5120', 'P3856_YHE211_3_Slot1-1_1_5106',\n",
       "       'P3856_YHE114_5_Slot1-1_1_5119', 'P3856_YHE114_9_Slot1-1_1_5123',\n",
       "       'P3856_YHE211_7_Slot1-1_1_5110', 'P3856_YHE010_1_Slot1-1_1_5093',\n",
       "       'P3856_YHE114_8_Slot1-1_1_5122', 'P3856_YHE010_9_Slot1-1_1_5101',\n",
       "       'P3856_YHE114_2_Slot1-1_1_5116', 'P3856_YHE114_1_Slot1-1_1_5115',\n",
       "       'P3856_YHE114_4_Slot1-1_1_5118', 'P3856_YHE211_4_Slot1-1_1_5107',\n",
       "       'P3856_YHE211_6_Slot1-1_1_5109', 'P3856_YHE010_7_Slot1-1_1_5099',\n",
       "       'P3856_YHE211_2_Slot1-1_1_5105', 'P3856_YHE010_10_Slot1-1_1_5102',\n",
       "       'P3856_YHE211_8_Slot1-1_1_5111', 'P3856_YHE010_4_Slot1-1_1_5096',\n",
       "       'P3856_YHE211_1_Slot1-1_1_5104', 'P3856_YHE010_2_Slot1-1_1_5094'],\n",
       "      dtype=object)"
      ]
     },
     "execution_count": 9,
     "metadata": {},
     "output_type": "execute_result"
    }
   ],
   "source": [
    "allpeptides_df['Raw file'].unique()"
   ]
  },
  {
   "cell_type": "code",
   "execution_count": 10,
   "metadata": {},
   "outputs": [],
   "source": [
    "# restrict to the run and the RT range we're interested in\n",
    "run_allpeptides_df = allpeptides_df[(allpeptides_df['Raw file'] == run_name) & (allpeptides_df.rt_in_seconds >= RT_LOWER) & (allpeptides_df.rt_in_seconds <= RT_UPPER)]\n"
   ]
  },
  {
   "cell_type": "code",
   "execution_count": 11,
   "metadata": {},
   "outputs": [],
   "source": [
    "def collate_spectra_for_feature(ms1_d, ms2_df):\n",
    "    # append the monoisotopic and the ms2 fragments to the list for MGF creation\n",
    "    pairs_df = ms2_df[['mz', 'intensity']].copy().sort_values(by=['mz'], ascending=True)\n",
    "    spectrum = {}\n",
    "    spectrum[\"m/z array\"] = pairs_df.mz.values\n",
    "    spectrum[\"intensity array\"] = pairs_df.intensity.values\n",
    "    params = {}\n",
    "    params[\"TITLE\"] = \"RawFile: {} Index: {} Charge: {} FeatureIntensity: {} RtApex: {}\".format(ms1_d['raw_file'], ms1_d['mq_index'], ms1_d['charge'], ms1_d['intensity'], round(ms1_d['rt_apex'],2))\n",
    "    params[\"INSTRUMENT\"] = \"ESI-QUAD-TOF\"\n",
    "    params[\"PEPMASS\"] = \"{} {}\".format(round(ms1_d['monoisotopic_mz'],6), ms1_d['intensity'])\n",
    "    params[\"CHARGE\"] = \"{}+\".format(ms1_d['charge'])\n",
    "    params[\"RTINSECONDS\"] = \"{}\".format(round(ms1_d['rt_apex'],2))\n",
    "    params[\"SCANS\"] = \"{}\".format(int(ms1_d['rt_apex']))\n",
    "    spectrum[\"params\"] = params\n",
    "    return spectrum"
   ]
  },
  {
   "cell_type": "code",
   "execution_count": 12,
   "metadata": {},
   "outputs": [],
   "source": [
    "# build a list of indexes from the APL files\n",
    "ms2_peaks = []\n",
    "apl_indexes = []\n",
    "for file in glob.glob(\"{}/*.apl\".format(APL_DIR)):\n",
    "    with open(file, 'r') as f:\n",
    "        for line in f:\n",
    "            line = line.rstrip()\n",
    "            if len(line) > 0:\n",
    "                if line.startswith(\"header=\"):\n",
    "                    line_a = line.split(' ')\n",
    "                    mq_index = int(line_a[3])\n",
    "                    raw_file = line_a[1]\n",
    "                if line[0].isdigit():\n",
    "                    line_a = line.split('\\t')\n",
    "                    mz = float(line_a[0])\n",
    "                    intensity = round(float(line_a[1]))\n",
    "                    ms2_peaks.append((mz, intensity))\n",
    "                if line.startswith(\"peaklist end\"):\n",
    "                    apl_indexes.append((mq_index, ms2_peaks.copy(), raw_file))\n",
    "                    del ms2_peaks[:]\n",
    "                    mq_index = 0\n",
    "apl_indexes_df = pd.DataFrame(apl_indexes, columns=['mq_index','ms2_peaks','raw_file'])\n",
    "apl_indexes_df.sort_values(by=['mq_index'], ascending=True, inplace=True)"
   ]
  },
  {
   "cell_type": "code",
   "execution_count": 13,
   "metadata": {
    "scrolled": true
   },
   "outputs": [
    {
     "name": "stdout",
     "output_type": "stream",
     "text": [
      "generating MGF: /home/daryl/MQ-analysis-of-P3856/combined/P3856_YHE211_1_Slot1-1_1_5104-dwm.mgf\n",
      "saving DF: /home/daryl/MQ-analysis-of-P3856/combined/P3856_YHE211_1_Slot1-1_1_5104-dwm.pkl\n"
     ]
    }
   ],
   "source": [
    "for group_name,group_df in run_allpeptides_df.groupby('Raw file'):\n",
    "    mgf_spectra = []\n",
    "    visualisation_l = []\n",
    "    mgf_file_name = '{}/{}-dwm.mgf'.format(BASE_MAXQUANT_DIR, group_name)\n",
    "    df_file_name = '{}/{}-dwm.pkl'.format(BASE_MAXQUANT_DIR, group_name)\n",
    "    file_apl_indexes_df = apl_indexes_df[(apl_indexes_df['raw_file'] == group_name)]\n",
    "    for idx,row in group_df.iterrows():\n",
    "        mq_index = row.msms_scan_number\n",
    "        ms1_d = {'monoisotopic_mass':row.Mass, \n",
    "                 'charge':row.charge_state, \n",
    "                 'monoisotopic_mz':row.mz, \n",
    "                 'intensity':int(row.intensity), \n",
    "                 'scan_apex':row.scan, \n",
    "                 'rt_apex':row.rt_in_seconds,\n",
    "                 'raw_file':row['Raw file'],\n",
    "                 'mq_index':mq_index}\n",
    "        df = file_apl_indexes_df[(file_apl_indexes_df.mq_index == mq_index)]\n",
    "        ms2_peaks_df = pd.DataFrame(df.iloc[0].ms2_peaks, columns=['mz','intensity'])\n",
    "        # construct the visualisation DF\n",
    "        visualisation_l.append({**ms1_d, 'ms2_peaks':ms2_peaks_df.to_dict('records')})\n",
    "        # construct the MGF\n",
    "        feature_spectra = collate_spectra_for_feature(ms1_d, ms2_peaks_df)\n",
    "        mgf_spectra.append(feature_spectra)\n",
    "    # generate the MGF for all the features\n",
    "    print(\"generating MGF: {}\".format(mgf_file_name))\n",
    "    if os.path.isfile(mgf_file_name):\n",
    "        os.remove(mgf_file_name)\n",
    "    f = mgf.write(output=mgf_file_name, spectra=mgf_spectra)\n",
    "    # save the visualisation DF\n",
    "    print(\"saving DF: {}\".format(df_file_name))\n",
    "    vis_df = pd.DataFrame(visualisation_l)\n",
    "    vis_df.to_pickle(df_file_name)\n"
   ]
  },
  {
   "cell_type": "code",
   "execution_count": null,
   "metadata": {},
   "outputs": [],
   "source": []
  }
 ],
 "metadata": {
  "kernelspec": {
   "display_name": "Python 3",
   "language": "python",
   "name": "python3"
  },
  "language_info": {
   "codemirror_mode": {
    "name": "ipython",
    "version": 3
   },
   "file_extension": ".py",
   "mimetype": "text/x-python",
   "name": "python",
   "nbconvert_exporter": "python",
   "pygments_lexer": "ipython3",
   "version": "3.8.5"
  }
 },
 "nbformat": 4,
 "nbformat_minor": 2
}
