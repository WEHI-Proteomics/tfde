{
 "cells": [
  {
   "cell_type": "code",
   "execution_count": 3,
   "metadata": {},
   "outputs": [],
   "source": [
    "import pandas as pd\n",
    "import numpy as np\n",
    "import sys\n",
    "import pickle\n",
    "import glob\n",
    "import os\n",
    "import matplotlib.pyplot as plt"
   ]
  },
  {
   "cell_type": "code",
   "execution_count": 85,
   "metadata": {},
   "outputs": [],
   "source": [
    "FILE_IDX_FOR_ANALYSIS = 0"
   ]
  },
  {
   "cell_type": "code",
   "execution_count": 4,
   "metadata": {},
   "outputs": [],
   "source": [
    "SEQUENCE_FILE_COUNTS_FILE_NAME = '/Users/darylwilding-mcbride/Downloads/sequence-charge-file-counts-df.pkl'"
   ]
  },
  {
   "cell_type": "code",
   "execution_count": 5,
   "metadata": {},
   "outputs": [],
   "source": [
    "sequence_file_counts_df = pd.read_pickle(SEQUENCE_FILE_COUNTS_FILE_NAME)"
   ]
  },
  {
   "cell_type": "code",
   "execution_count": 6,
   "metadata": {},
   "outputs": [
    {
     "data": {
      "text/html": [
       "<div>\n",
       "<style scoped>\n",
       "    .dataframe tbody tr th:only-of-type {\n",
       "        vertical-align: middle;\n",
       "    }\n",
       "\n",
       "    .dataframe tbody tr th {\n",
       "        vertical-align: top;\n",
       "    }\n",
       "\n",
       "    .dataframe thead th {\n",
       "        text-align: right;\n",
       "    }\n",
       "</style>\n",
       "<table border=\"1\" class=\"dataframe\">\n",
       "  <thead>\n",
       "    <tr style=\"text-align: right;\">\n",
       "      <th></th>\n",
       "      <th>sequence</th>\n",
       "      <th>charge</th>\n",
       "      <th>number_of_files</th>\n",
       "      <th>file_idxs</th>\n",
       "    </tr>\n",
       "  </thead>\n",
       "  <tbody>\n",
       "    <tr>\n",
       "      <th>0</th>\n",
       "      <td>AAAAAAAAAPAAAATAPTTAATTAATAAQ</td>\n",
       "      <td>2</td>\n",
       "      <td>7</td>\n",
       "      <td>[0, 2, 5, 7, 11, 15, 16]</td>\n",
       "    </tr>\n",
       "    <tr>\n",
       "      <th>1</th>\n",
       "      <td>AAAAAAAAAPAAAATAPTTAATTAATAAQ</td>\n",
       "      <td>3</td>\n",
       "      <td>3</td>\n",
       "      <td>[10, 12, 17]</td>\n",
       "    </tr>\n",
       "    <tr>\n",
       "      <th>2</th>\n",
       "      <td>AAAAAAAAVPSAGPAGPAPTSAAGR</td>\n",
       "      <td>2</td>\n",
       "      <td>20</td>\n",
       "      <td>[0, 1, 2, 3, 4, 5, 6, 7, 8, 9, 10, 11, 12, 13,...</td>\n",
       "    </tr>\n",
       "    <tr>\n",
       "      <th>3</th>\n",
       "      <td>AAAAALSQQQSLQER</td>\n",
       "      <td>2</td>\n",
       "      <td>3</td>\n",
       "      <td>[12, 17, 18]</td>\n",
       "    </tr>\n",
       "    <tr>\n",
       "      <th>4</th>\n",
       "      <td>AAAAATVVPPMVGGPPFVGPVGFGPGDR</td>\n",
       "      <td>3</td>\n",
       "      <td>13</td>\n",
       "      <td>[1, 3, 5, 6, 7, 9, 10, 12, 14, 16, 17, 18, 19]</td>\n",
       "    </tr>\n",
       "  </tbody>\n",
       "</table>\n",
       "</div>"
      ],
      "text/plain": [
       "                        sequence  charge  number_of_files  \\\n",
       "0  AAAAAAAAAPAAAATAPTTAATTAATAAQ       2                7   \n",
       "1  AAAAAAAAAPAAAATAPTTAATTAATAAQ       3                3   \n",
       "2      AAAAAAAAVPSAGPAGPAPTSAAGR       2               20   \n",
       "3                AAAAALSQQQSLQER       2                3   \n",
       "4   AAAAATVVPPMVGGPPFVGPVGFGPGDR       3               13   \n",
       "\n",
       "                                           file_idxs  \n",
       "0                           [0, 2, 5, 7, 11, 15, 16]  \n",
       "1                                       [10, 12, 17]  \n",
       "2  [0, 1, 2, 3, 4, 5, 6, 7, 8, 9, 10, 11, 12, 13,...  \n",
       "3                                       [12, 17, 18]  \n",
       "4     [1, 3, 5, 6, 7, 9, 10, 12, 14, 16, 17, 18, 19]  "
      ]
     },
     "execution_count": 6,
     "metadata": {},
     "output_type": "execute_result"
    }
   ],
   "source": [
    "sequence_file_counts_df.head()"
   ]
  },
  {
   "cell_type": "code",
   "execution_count": 7,
   "metadata": {},
   "outputs": [],
   "source": [
    "EXPERIMENT_SEQUENCE_ATTRIBS_FILE_NAME = '/Users/darylwilding-mcbride/Downloads/experiments/190719_Hela_Ecoli/training-sets/experiment-sequence-charge-attribs-df.pkl'"
   ]
  },
  {
   "cell_type": "code",
   "execution_count": 8,
   "metadata": {},
   "outputs": [],
   "source": [
    "experiment_sequence_attribs_df = pd.read_pickle(EXPERIMENT_SEQUENCE_ATTRIBS_FILE_NAME)"
   ]
  },
  {
   "cell_type": "code",
   "execution_count": 9,
   "metadata": {},
   "outputs": [
    {
     "data": {
      "text/html": [
       "<div>\n",
       "<style scoped>\n",
       "    .dataframe tbody tr th:only-of-type {\n",
       "        vertical-align: middle;\n",
       "    }\n",
       "\n",
       "    .dataframe tbody tr th {\n",
       "        vertical-align: top;\n",
       "    }\n",
       "\n",
       "    .dataframe thead th {\n",
       "        text-align: right;\n",
       "    }\n",
       "</style>\n",
       "<table border=\"1\" class=\"dataframe\">\n",
       "  <thead>\n",
       "    <tr style=\"text-align: right;\">\n",
       "      <th></th>\n",
       "      <th>sequence</th>\n",
       "      <th>charge</th>\n",
       "      <th>theoretical_mz</th>\n",
       "      <th>experiment_scan</th>\n",
       "      <th>experiment_rt</th>\n",
       "      <th>experiment_intensity</th>\n",
       "    </tr>\n",
       "  </thead>\n",
       "  <tbody>\n",
       "    <tr>\n",
       "      <th>0</th>\n",
       "      <td>AAAAAAAAAPAAAATAPTTAATTAATAAQ</td>\n",
       "      <td>2</td>\n",
       "      <td>1184.1049</td>\n",
       "      <td>73.911301</td>\n",
       "      <td>602.012681</td>\n",
       "      <td>108754.444444</td>\n",
       "    </tr>\n",
       "    <tr>\n",
       "      <th>1</th>\n",
       "      <td>AAAAAAAAAPAAAATAPTTAATTAATAAQ</td>\n",
       "      <td>3</td>\n",
       "      <td>789.7394</td>\n",
       "      <td>335.868469</td>\n",
       "      <td>609.864140</td>\n",
       "      <td>29377.333333</td>\n",
       "    </tr>\n",
       "    <tr>\n",
       "      <th>2</th>\n",
       "      <td>AAAAAAAAVPSAGPAGPAPTSAAGR</td>\n",
       "      <td>2</td>\n",
       "      <td>1016.0286</td>\n",
       "      <td>160.291329</td>\n",
       "      <td>489.973155</td>\n",
       "      <td>58456.622222</td>\n",
       "    </tr>\n",
       "    <tr>\n",
       "      <th>3</th>\n",
       "      <td>AAAAALSQQQSLQER</td>\n",
       "      <td>2</td>\n",
       "      <td>785.9075</td>\n",
       "      <td>496.361511</td>\n",
       "      <td>375.039574</td>\n",
       "      <td>57092.250000</td>\n",
       "    </tr>\n",
       "    <tr>\n",
       "      <th>4</th>\n",
       "      <td>AAAAATVVPPMVGGPPFVGPVGFGPGDR</td>\n",
       "      <td>3</td>\n",
       "      <td>864.1171</td>\n",
       "      <td>707.537580</td>\n",
       "      <td>1039.861047</td>\n",
       "      <td>50988.518519</td>\n",
       "    </tr>\n",
       "  </tbody>\n",
       "</table>\n",
       "</div>"
      ],
      "text/plain": [
       "                        sequence  charge  theoretical_mz  experiment_scan  \\\n",
       "0  AAAAAAAAAPAAAATAPTTAATTAATAAQ       2       1184.1049        73.911301   \n",
       "1  AAAAAAAAAPAAAATAPTTAATTAATAAQ       3        789.7394       335.868469   \n",
       "2      AAAAAAAAVPSAGPAGPAPTSAAGR       2       1016.0286       160.291329   \n",
       "3                AAAAALSQQQSLQER       2        785.9075       496.361511   \n",
       "4   AAAAATVVPPMVGGPPFVGPVGFGPGDR       3        864.1171       707.537580   \n",
       "\n",
       "   experiment_rt  experiment_intensity  \n",
       "0     602.012681         108754.444444  \n",
       "1     609.864140          29377.333333  \n",
       "2     489.973155          58456.622222  \n",
       "3     375.039574          57092.250000  \n",
       "4    1039.861047          50988.518519  "
      ]
     },
     "execution_count": 9,
     "metadata": {},
     "output_type": "execute_result"
    }
   ],
   "source": [
    "experiment_sequence_attribs_df.head()"
   ]
  },
  {
   "cell_type": "code",
   "execution_count": 86,
   "metadata": {},
   "outputs": [],
   "source": [
    "# use the run-0 model to find AAAAATVVPPMVGGPPFVGPVGFGPGDR, charge 3 in the raw data of the file idx\n",
    "RUN_MZ_MODEL_FILE_NAME = '/Users/darylwilding-mcbride/Downloads/experiments/190719_Hela_Ecoli/trained-models/file-{}-mz-model.pkl'.format(FILE_IDX_FOR_ANALYSIS)\n",
    "RUN_SCAN_MODEL_FILE_NAME = '/Users/darylwilding-mcbride/Downloads/experiments/190719_Hela_Ecoli/trained-models/file-{}-scan-model.pkl'.format(FILE_IDX_FOR_ANALYSIS)\n",
    "RUN_RT_MODEL_FILE_NAME = '/Users/darylwilding-mcbride/Downloads/experiments/190719_Hela_Ecoli/trained-models/file-{}-rt-model.pkl'.format(FILE_IDX_FOR_ANALYSIS)"
   ]
  },
  {
   "cell_type": "code",
   "execution_count": 87,
   "metadata": {},
   "outputs": [],
   "source": [
    "with open(RUN_MZ_MODEL_FILE_NAME, 'rb') as file:\n",
    "    mz_estimator = pickle.load(file)\n",
    "with open(RUN_SCAN_MODEL_FILE_NAME, 'rb') as file:\n",
    "    scan_estimator = pickle.load(file)\n",
    "with open(RUN_RT_MODEL_FILE_NAME, 'rb') as file:\n",
    "    rt_estimator = pickle.load(file)"
   ]
  },
  {
   "cell_type": "code",
   "execution_count": 70,
   "metadata": {},
   "outputs": [],
   "source": [
    "# gather the sequence attributes to plug into each model\n",
    "sequence_df = experiment_sequence_attribs_df[(experiment_sequence_attribs_df.sequence == 'AAAAATVVPPMVGGPPFVGPVGFGPGDR') & (experiment_sequence_attribs_df.charge == 3)]\n",
    "sequence_estimation_attribs_df = sequence_df[['theoretical_mz','experiment_rt','experiment_scan','experiment_intensity']]\n",
    "sequence_estimation_attribs = sequence_estimation_attribs_df.values"
   ]
  },
  {
   "cell_type": "code",
   "execution_count": 71,
   "metadata": {},
   "outputs": [
    {
     "data": {
      "text/plain": [
       "array([[  864.1171    ,  1039.86104703,   707.53758032, 50988.51851852]])"
      ]
     },
     "execution_count": 71,
     "metadata": {},
     "output_type": "execute_result"
    }
   ],
   "source": [
    "sequence_estimation_attribs"
   ]
  },
  {
   "cell_type": "code",
   "execution_count": 95,
   "metadata": {},
   "outputs": [
    {
     "data": {
      "text/plain": [
       "864.4431811441947"
      ]
     },
     "execution_count": 95,
     "metadata": {},
     "output_type": "execute_result"
    }
   ],
   "source": [
    "# estimate the raw monoisotopic m/z\n",
    "mz_delta_estimated = mz_estimator.predict(sequence_estimation_attribs)\n",
    "estimated_monoisotopic_mz = sequence_attribs_df.iloc[0].theoretical_mz - mz_delta_estimated[0]\n",
    "estimated_monoisotopic_mz"
   ]
  },
  {
   "cell_type": "code",
   "execution_count": 96,
   "metadata": {},
   "outputs": [
    {
     "data": {
      "text/plain": [
       "707.0833914753989"
      ]
     },
     "execution_count": 96,
     "metadata": {},
     "output_type": "execute_result"
    }
   ],
   "source": [
    "# estimate the raw monoisotopic scan\n",
    "scan_estimated = scan_estimator.predict(sequence_estimation_attribs)\n",
    "estimated_scan_apex = scan_estimated[0]\n",
    "estimated_scan_apex"
   ]
  },
  {
   "cell_type": "code",
   "execution_count": 97,
   "metadata": {},
   "outputs": [
    {
     "data": {
      "text/plain": [
       "1038.4501532750114"
      ]
     },
     "execution_count": 97,
     "metadata": {},
     "output_type": "execute_result"
    }
   ],
   "source": [
    "# estimate the raw monoisotopic RT\n",
    "rt_estimated = rt_estimator.predict(sequence_estimation_attribs)\n",
    "estimated_rt_apex = rt_estimated[0]\n",
    "estimated_rt_apex"
   ]
  },
  {
   "cell_type": "markdown",
   "metadata": {},
   "source": [
    "Look in the raw data for a feature at these coordinates"
   ]
  },
  {
   "cell_type": "code",
   "execution_count": 81,
   "metadata": {},
   "outputs": [],
   "source": [
    "# the width to use for intensity descent, in m/z\n",
    "MS1_PEAK_DELTA = 0.1\n",
    "\n",
    "# Mass difference between Carbon-12 and Carbon-13 isotopes, in Da. For calculating the spacing between isotopic peaks.\n",
    "CARBON_MASS_DIFFERENCE = 1.003355\n",
    "\n",
    "# the collision energy to distinguish ms1 and ms2 frames\n",
    "MS1_COLLISION_ENERGY = 10"
   ]
  },
  {
   "cell_type": "code",
   "execution_count": 62,
   "metadata": {},
   "outputs": [],
   "source": [
    "# ms1_peaks_a is a numpy array of [mz,intensity]\n",
    "# returns a numpy array of [mz_centroid,summed_intensity]\n",
    "def ms1_intensity_descent(ms1_peaks_a):\n",
    "    # intensity descent\n",
    "    ms1_peaks_l = []\n",
    "    while len(ms1_peaks_a) > 0:\n",
    "        # find the most intense point\n",
    "        max_intensity_index = np.argmax(ms1_peaks_a[:,1])\n",
    "        peak_mz = ms1_peaks_a[max_intensity_index,0]\n",
    "        peak_mz_lower = peak_mz - MS1_PEAK_DELTA\n",
    "        peak_mz_upper = peak_mz + MS1_PEAK_DELTA\n",
    "\n",
    "        # get all the raw points within this m/z region\n",
    "        peak_indexes = np.where((ms1_peaks_a[:,0] >= peak_mz_lower) & (ms1_peaks_a[:,0] <= peak_mz_upper))[0]\n",
    "        if len(peak_indexes) > 0:\n",
    "            mz_cent = mz_centroid(ms1_peaks_a[peak_indexes,1], ms1_peaks_a[peak_indexes,0])\n",
    "            summed_intensity = ms1_peaks_a[peak_indexes,1].sum()\n",
    "            ms1_peaks_l.append((mz_cent, summed_intensity))\n",
    "            # remove the raw points assigned to this peak\n",
    "            ms1_peaks_a = np.delete(ms1_peaks_a, peak_indexes, axis=0)\n",
    "    return np.array(ms1_peaks_l)\n"
   ]
  },
  {
   "cell_type": "code",
   "execution_count": 78,
   "metadata": {},
   "outputs": [],
   "source": [
    "NUMBER_OF_ISOTOPES_RIGHT = 8     # the number of isotopes to look for in the m/z dimension\n",
    "NUMBER_OF_ISOTOPES_LEFT = 1\n",
    "\n",
    "expected_spacing_mz = CARBON_MASS_DIFFERENCE / sequence_df.iloc[0].charge\n",
    "\n",
    "MZ_WIDTH_RIGHT_FROM_MONOISOTOPIC = NUMBER_OF_ISOTOPES_RIGHT * expected_spacing_mz\n",
    "MZ_WIDTH_LEFT_FROM_MONOISOTOPIC = NUMBER_OF_ISOTOPES_LEFT * expected_spacing_mz\n",
    "\n",
    "# tolerances for looking either side of the scan and RT apex\n",
    "RT_WIDTH = 15.0       # from the standard deviation of 13 from the model against the test data\n",
    "SCAN_WIDTH = 10.0     # from the standard deviation of 8 from the model against the test data"
   ]
  },
  {
   "cell_type": "code",
   "execution_count": 98,
   "metadata": {},
   "outputs": [],
   "source": [
    "mz_lower = estimated_monoisotopic_mz - MZ_WIDTH_LEFT_FROM_MONOISOTOPIC\n",
    "mz_upper = estimated_monoisotopic_mz + MZ_WIDTH_RIGHT_FROM_MONOISOTOPIC\n",
    "scan_lower = estimated_scan_apex - SCAN_WIDTH\n",
    "scan_upper = estimated_scan_apex + SCAN_WIDTH\n",
    "rt_lower = estimated_rt_apex - RT_WIDTH\n",
    "rt_upper = estimated_rt_apex + RT_WIDTH"
   ]
  },
  {
   "cell_type": "code",
   "execution_count": 83,
   "metadata": {},
   "outputs": [],
   "source": [
    "# find the converted database file name for file idx 0\n",
    "MAPPING_FILE_NAME = '/Users/darylwilding-mcbride/Downloads/percolator_mapping_df.pkl'\n",
    "mapping_df = pd.read_pickle(MAPPING_FILE_NAME)"
   ]
  },
  {
   "cell_type": "code",
   "execution_count": 90,
   "metadata": {},
   "outputs": [
    {
     "data": {
      "text/plain": [
       "'190719_Hela_Ecoli_1to3_06-recalibrated'"
      ]
     },
     "execution_count": 90,
     "metadata": {},
     "output_type": "execute_result"
    }
   ],
   "source": [
    "run_name = mapping_df[mapping_df.file_idx == FILE_IDX_FOR_ANALYSIS].iloc[0].run_name\n",
    "run_name"
   ]
  },
  {
   "cell_type": "code",
   "execution_count": 91,
   "metadata": {},
   "outputs": [],
   "source": [
    "db_name = run_name.replace('-recalibrated', '-converted.sqlite')"
   ]
  },
  {
   "cell_type": "code",
   "execution_count": 92,
   "metadata": {},
   "outputs": [],
   "source": [
    "CONVERTED_DATABASE_NAME = '/Users/darylwilding-mcbride/Downloads/experiments/190719_Hela_Ecoli/converted-databases/{}'.format(db_name)"
   ]
  },
  {
   "cell_type": "code",
   "execution_count": 93,
   "metadata": {},
   "outputs": [
    {
     "data": {
      "text/plain": [
       "'/Users/darylwilding-mcbride/Downloads/experiments/190719_Hela_Ecoli/converted-databases/190719_Hela_Ecoli_1to3_06-converted.sqlite'"
      ]
     },
     "execution_count": 93,
     "metadata": {},
     "output_type": "execute_result"
    }
   ],
   "source": [
    "CONVERTED_DATABASE_NAME"
   ]
  },
  {
   "cell_type": "code",
   "execution_count": null,
   "metadata": {},
   "outputs": [],
   "source": [
    "db_conn = sqlite3.connect(CONVERTED_DATABASE_NAME)\n",
    "ms1_frame_properties_df = pd.read_sql_query(\"select frame_id,retention_time_secs from frame_properties where retention_time_secs >= {} and retention_time_secs <= {} and collision_energy == {} order by retention_time_secs\".format(rt_lower, rt_upper, MS1_COLLISION_ENERGY), db_conn)\n",
    "db_conn.close()\n",
    "ms1_frame_ids = tuple(ms1_frame_properties_df.frame_id)"
   ]
  },
  {
   "cell_type": "code",
   "execution_count": null,
   "metadata": {},
   "outputs": [],
   "source": [
    "# extract the raw data within this area of interest\n",
    "db_conn = sqlite3.connect(CONVERTED_DATABASE_NAME)\n",
    "ms1_raw_points_df = pd.read_sql_query(\"select frame_id,mz,scan,intensity,retention_time_secs from frames where mz >= {} and mz <= {} and scan >= {} and scan <= {} and retention_time_secs >= {} and retention_time_secs <= {} and frame_id in {}\".format(mz_lower, mz_upper, scan_lower, scan_upper, rt_lower, rt_upper, ms1_frame_ids), db_conn)\n",
    "db_conn.close()"
   ]
  },
  {
   "cell_type": "code",
   "execution_count": null,
   "metadata": {},
   "outputs": [],
   "source": [
    "f, ax = plt.subplots()\n",
    "colors = ['tab:blue', 'tab:orange', 'tab:green', 'tab:red', 'tab:purple', 'tab:brown', 'tab:pink', 'tab:gray', 'tab:olive', 'tab:cyan']\n",
    "markerline, stemlines, baseline = ax.stem(ms1_peaks_df.mz_centroid, ms1_peaks_df.summed_intensity, 'g')\n",
    "plt.setp(markerline, 'color', colors[2])\n",
    "plt.setp(stemlines, 'color', colors[2])\n",
    "plt.setp(baseline, 'color', colors[7])\n",
    "plt.xlabel('binned m/z')\n",
    "plt.ylabel('intensity')\n",
    "f.set_figheight(5)\n",
    "f.set_figwidth(15)\n",
    "plt.margins(0.06)\n",
    "plt.suptitle('Raw points centroided and summed by m/z bin for precursor ID {}'.format(precursor_id))\n",
    "plt.title('m/z bin width {} Th, narrow RT (FE +/- {} secs), wide mobility (FE +/- precursor scan width)'.format(MS1_MZ_BIN_WIDTH, RT_FRAGMENT_EVENT_DELTA_SECS))\n",
    "plt.show()"
   ]
  }
 ],
 "metadata": {
  "kernelspec": {
   "display_name": "Python 3",
   "language": "python",
   "name": "python3"
  },
  "language_info": {
   "codemirror_mode": {
    "name": "ipython",
    "version": 3
   },
   "file_extension": ".py",
   "mimetype": "text/x-python",
   "name": "python",
   "nbconvert_exporter": "python",
   "pygments_lexer": "ipython3",
   "version": "3.6.8"
  }
 },
 "nbformat": 4,
 "nbformat_minor": 2
}
