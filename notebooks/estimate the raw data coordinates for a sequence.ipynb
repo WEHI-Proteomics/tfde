{
 "cells": [
  {
   "cell_type": "code",
   "execution_count": 31,
   "metadata": {},
   "outputs": [],
   "source": [
    "import pandas as pd\n",
    "import numpy as np\n",
    "import sys\n",
    "import pickle\n",
    "import glob\n",
    "import os\n",
    "import sqlite3\n",
    "import peakutils\n",
    "import matplotlib.pyplot as plt"
   ]
  },
  {
   "cell_type": "code",
   "execution_count": 32,
   "metadata": {},
   "outputs": [],
   "source": [
    "FILE_IDX_FOR_ANALYSIS = 0"
   ]
  },
  {
   "cell_type": "code",
   "execution_count": 33,
   "metadata": {},
   "outputs": [],
   "source": [
    "SEQUENCE_FILE_COUNTS_FILE_NAME = '/Users/darylwilding-mcbride/Downloads/sequence-charge-file-counts-df.pkl'"
   ]
  },
  {
   "cell_type": "code",
   "execution_count": 34,
   "metadata": {},
   "outputs": [],
   "source": [
    "sequence_file_counts_df = pd.read_pickle(SEQUENCE_FILE_COUNTS_FILE_NAME)"
   ]
  },
  {
   "cell_type": "code",
   "execution_count": 35,
   "metadata": {},
   "outputs": [
    {
     "data": {
      "text/plain": [
       "Index(['sequence', 'charge', 'number_of_files', 'file_idxs'], dtype='object')"
      ]
     },
     "execution_count": 35,
     "metadata": {},
     "output_type": "execute_result"
    }
   ],
   "source": [
    "sequence_file_counts_df.columns"
   ]
  },
  {
   "cell_type": "code",
   "execution_count": 36,
   "metadata": {},
   "outputs": [
    {
     "data": {
      "text/html": [
       "<div>\n",
       "<style scoped>\n",
       "    .dataframe tbody tr th:only-of-type {\n",
       "        vertical-align: middle;\n",
       "    }\n",
       "\n",
       "    .dataframe tbody tr th {\n",
       "        vertical-align: top;\n",
       "    }\n",
       "\n",
       "    .dataframe thead th {\n",
       "        text-align: right;\n",
       "    }\n",
       "</style>\n",
       "<table border=\"1\" class=\"dataframe\">\n",
       "  <thead>\n",
       "    <tr style=\"text-align: right;\">\n",
       "      <th></th>\n",
       "      <th>sequence</th>\n",
       "      <th>charge</th>\n",
       "      <th>number_of_files</th>\n",
       "      <th>file_idxs</th>\n",
       "    </tr>\n",
       "  </thead>\n",
       "  <tbody>\n",
       "    <tr>\n",
       "      <th>31283</th>\n",
       "      <td>n[42.0106]M[15.9949]APRPPTAAPQESVTFK</td>\n",
       "      <td>2</td>\n",
       "      <td>1</td>\n",
       "      <td>[5]</td>\n",
       "    </tr>\n",
       "    <tr>\n",
       "      <th>31284</th>\n",
       "      <td>n[42.0106]M[15.9949]AQTDKPTCIPPELPK</td>\n",
       "      <td>2</td>\n",
       "      <td>1</td>\n",
       "      <td>[19]</td>\n",
       "    </tr>\n",
       "    <tr>\n",
       "      <th>31285</th>\n",
       "      <td>n[42.0106]M[15.9949]ASGDFCSPGEGMEILQQVCSK</td>\n",
       "      <td>2</td>\n",
       "      <td>1</td>\n",
       "      <td>[16]</td>\n",
       "    </tr>\n",
       "    <tr>\n",
       "      <th>31287</th>\n",
       "      <td>n[42.0106]M[15.9949]DKVLDSALLSSANK</td>\n",
       "      <td>2</td>\n",
       "      <td>1</td>\n",
       "      <td>[5]</td>\n",
       "    </tr>\n",
       "    <tr>\n",
       "      <th>31288</th>\n",
       "      <td>n[42.0106]M[15.9949]DLLQFLAFLFVLLLSGM[15.9949]...</td>\n",
       "      <td>3</td>\n",
       "      <td>1</td>\n",
       "      <td>[16]</td>\n",
       "    </tr>\n",
       "    <tr>\n",
       "      <th>31290</th>\n",
       "      <td>n[42.0106]M[15.9949]EADASVDMFSK</td>\n",
       "      <td>2</td>\n",
       "      <td>1</td>\n",
       "      <td>[18]</td>\n",
       "    </tr>\n",
       "    <tr>\n",
       "      <th>31291</th>\n",
       "      <td>n[42.0106]M[15.9949]EDSMDMDMSPLRPQNYLFGCELK</td>\n",
       "      <td>3</td>\n",
       "      <td>7</td>\n",
       "      <td>[1, 2, 11, 12, 14, 17, 18]</td>\n",
       "    </tr>\n",
       "    <tr>\n",
       "      <th>31292</th>\n",
       "      <td>n[42.0106]M[15.9949]ESGLAGNGTGAGLVMKVK</td>\n",
       "      <td>2</td>\n",
       "      <td>1</td>\n",
       "      <td>[14]</td>\n",
       "    </tr>\n",
       "    <tr>\n",
       "      <th>31293</th>\n",
       "      <td>n[42.0106]M[15.9949]GNSDSQYTLQGSK</td>\n",
       "      <td>2</td>\n",
       "      <td>2</td>\n",
       "      <td>[4, 19]</td>\n",
       "    </tr>\n",
       "    <tr>\n",
       "      <th>31294</th>\n",
       "      <td>n[42.0106]M[15.9949]GPELGWGHPR</td>\n",
       "      <td>2</td>\n",
       "      <td>1</td>\n",
       "      <td>[2]</td>\n",
       "    </tr>\n",
       "    <tr>\n",
       "      <th>31295</th>\n",
       "      <td>n[42.0106]M[15.9949]MGHRPVLVLSQNTK</td>\n",
       "      <td>3</td>\n",
       "      <td>1</td>\n",
       "      <td>[12]</td>\n",
       "    </tr>\n",
       "    <tr>\n",
       "      <th>31296</th>\n",
       "      <td>n[42.0106]M[15.9949]MLIPMASVM[15.9949]AVTEPK</td>\n",
       "      <td>2</td>\n",
       "      <td>10</td>\n",
       "      <td>[1, 4, 5, 7, 8, 10, 11, 12, 14, 15]</td>\n",
       "    </tr>\n",
       "    <tr>\n",
       "      <th>31297</th>\n",
       "      <td>n[42.0106]M[15.9949]NRPAPVEISYENMR</td>\n",
       "      <td>2</td>\n",
       "      <td>1</td>\n",
       "      <td>[14]</td>\n",
       "    </tr>\n",
       "    <tr>\n",
       "      <th>31298</th>\n",
       "      <td>n[42.0106]M[15.9949]PLFATNPFDQDVEK</td>\n",
       "      <td>2</td>\n",
       "      <td>1</td>\n",
       "      <td>[12]</td>\n",
       "    </tr>\n",
       "    <tr>\n",
       "      <th>31299</th>\n",
       "      <td>n[42.0106]M[15.9949]PYLGSEDVVK</td>\n",
       "      <td>2</td>\n",
       "      <td>1</td>\n",
       "      <td>[10]</td>\n",
       "    </tr>\n",
       "    <tr>\n",
       "      <th>31300</th>\n",
       "      <td>n[42.0106]M[15.9949]RPQDSTGVAELQEPGLPLTDDAPPGA...</td>\n",
       "      <td>3</td>\n",
       "      <td>6</td>\n",
       "      <td>[1, 2, 3, 9, 11, 15]</td>\n",
       "    </tr>\n",
       "    <tr>\n",
       "      <th>31301</th>\n",
       "      <td>n[42.0106]M[15.9949]STLSNFTQTLEDVFR</td>\n",
       "      <td>3</td>\n",
       "      <td>1</td>\n",
       "      <td>[6]</td>\n",
       "    </tr>\n",
       "    <tr>\n",
       "      <th>31302</th>\n",
       "      <td>n[42.0106]M[15.9949]TMAAAAVVAR</td>\n",
       "      <td>2</td>\n",
       "      <td>1</td>\n",
       "      <td>[19]</td>\n",
       "    </tr>\n",
       "    <tr>\n",
       "      <th>31303</th>\n",
       "      <td>n[42.0106]M[15.9949]TVGRPEGAPGGAEGSR</td>\n",
       "      <td>2</td>\n",
       "      <td>1</td>\n",
       "      <td>[16]</td>\n",
       "    </tr>\n",
       "    <tr>\n",
       "      <th>31304</th>\n",
       "      <td>n[42.0106]M[15.9949]TVLEAVLEIQAITGSR</td>\n",
       "      <td>3</td>\n",
       "      <td>1</td>\n",
       "      <td>[10]</td>\n",
       "    </tr>\n",
       "  </tbody>\n",
       "</table>\n",
       "</div>"
      ],
      "text/plain": [
       "                                                sequence  charge  \\\n",
       "31283               n[42.0106]M[15.9949]APRPPTAAPQESVTFK       2   \n",
       "31284                n[42.0106]M[15.9949]AQTDKPTCIPPELPK       2   \n",
       "31285          n[42.0106]M[15.9949]ASGDFCSPGEGMEILQQVCSK       2   \n",
       "31287                 n[42.0106]M[15.9949]DKVLDSALLSSANK       2   \n",
       "31288  n[42.0106]M[15.9949]DLLQFLAFLFVLLLSGM[15.9949]...       3   \n",
       "31290                    n[42.0106]M[15.9949]EADASVDMFSK       2   \n",
       "31291        n[42.0106]M[15.9949]EDSMDMDMSPLRPQNYLFGCELK       3   \n",
       "31292             n[42.0106]M[15.9949]ESGLAGNGTGAGLVMKVK       2   \n",
       "31293                  n[42.0106]M[15.9949]GNSDSQYTLQGSK       2   \n",
       "31294                     n[42.0106]M[15.9949]GPELGWGHPR       2   \n",
       "31295                 n[42.0106]M[15.9949]MGHRPVLVLSQNTK       3   \n",
       "31296       n[42.0106]M[15.9949]MLIPMASVM[15.9949]AVTEPK       2   \n",
       "31297                 n[42.0106]M[15.9949]NRPAPVEISYENMR       2   \n",
       "31298                 n[42.0106]M[15.9949]PLFATNPFDQDVEK       2   \n",
       "31299                     n[42.0106]M[15.9949]PYLGSEDVVK       2   \n",
       "31300  n[42.0106]M[15.9949]RPQDSTGVAELQEPGLPLTDDAPPGA...       3   \n",
       "31301                n[42.0106]M[15.9949]STLSNFTQTLEDVFR       3   \n",
       "31302                     n[42.0106]M[15.9949]TMAAAAVVAR       2   \n",
       "31303               n[42.0106]M[15.9949]TVGRPEGAPGGAEGSR       2   \n",
       "31304               n[42.0106]M[15.9949]TVLEAVLEIQAITGSR       3   \n",
       "\n",
       "       number_of_files                            file_idxs  \n",
       "31283                1                                  [5]  \n",
       "31284                1                                 [19]  \n",
       "31285                1                                 [16]  \n",
       "31287                1                                  [5]  \n",
       "31288                1                                 [16]  \n",
       "31290                1                                 [18]  \n",
       "31291                7           [1, 2, 11, 12, 14, 17, 18]  \n",
       "31292                1                                 [14]  \n",
       "31293                2                              [4, 19]  \n",
       "31294                1                                  [2]  \n",
       "31295                1                                 [12]  \n",
       "31296               10  [1, 4, 5, 7, 8, 10, 11, 12, 14, 15]  \n",
       "31297                1                                 [14]  \n",
       "31298                1                                 [12]  \n",
       "31299                1                                 [10]  \n",
       "31300                6                 [1, 2, 3, 9, 11, 15]  \n",
       "31301                1                                  [6]  \n",
       "31302                1                                 [19]  \n",
       "31303                1                                 [16]  \n",
       "31304                1                                 [10]  "
      ]
     },
     "execution_count": 36,
     "metadata": {},
     "output_type": "execute_result"
    }
   ],
   "source": [
    "sequence_file_counts_df[sequence_file_counts_df.file_idxs.apply(lambda x: 0 not in x)].tail(20)"
   ]
  },
  {
   "cell_type": "code",
   "execution_count": 37,
   "metadata": {},
   "outputs": [],
   "source": [
    "SEQUENCE_ROW_IDX_FOR_ANALYSIS = 31291"
   ]
  },
  {
   "cell_type": "code",
   "execution_count": 38,
   "metadata": {},
   "outputs": [],
   "source": [
    "EXPERIMENT_SEQUENCE_ATTRIBS_FILE_NAME = '/Users/darylwilding-mcbride/Downloads/experiments/190719_Hela_Ecoli/training-sets/experiment-sequence-charge-attribs-df.pkl'"
   ]
  },
  {
   "cell_type": "code",
   "execution_count": 39,
   "metadata": {},
   "outputs": [],
   "source": [
    "experiment_sequence_attribs_df = pd.read_pickle(EXPERIMENT_SEQUENCE_ATTRIBS_FILE_NAME)"
   ]
  },
  {
   "cell_type": "code",
   "execution_count": 40,
   "metadata": {},
   "outputs": [
    {
     "data": {
      "text/html": [
       "<div>\n",
       "<style scoped>\n",
       "    .dataframe tbody tr th:only-of-type {\n",
       "        vertical-align: middle;\n",
       "    }\n",
       "\n",
       "    .dataframe tbody tr th {\n",
       "        vertical-align: top;\n",
       "    }\n",
       "\n",
       "    .dataframe thead th {\n",
       "        text-align: right;\n",
       "    }\n",
       "</style>\n",
       "<table border=\"1\" class=\"dataframe\">\n",
       "  <thead>\n",
       "    <tr style=\"text-align: right;\">\n",
       "      <th></th>\n",
       "      <th>sequence</th>\n",
       "      <th>charge</th>\n",
       "      <th>theoretical_mz</th>\n",
       "      <th>experiment_scan</th>\n",
       "      <th>experiment_scan_peak_width</th>\n",
       "      <th>experiment_rt</th>\n",
       "      <th>experiment_rt_peak_width</th>\n",
       "      <th>experiment_intensity</th>\n",
       "    </tr>\n",
       "  </thead>\n",
       "  <tbody>\n",
       "    <tr>\n",
       "      <th>0</th>\n",
       "      <td>AAAAAAAAAPAAAATAPTTAATTAATAAQ</td>\n",
       "      <td>2</td>\n",
       "      <td>1184.1049</td>\n",
       "      <td>73.911301</td>\n",
       "      <td>57.626667</td>\n",
       "      <td>602.012681</td>\n",
       "      <td>18.706667</td>\n",
       "      <td>108754.444444</td>\n",
       "    </tr>\n",
       "    <tr>\n",
       "      <th>1</th>\n",
       "      <td>AAAAAAAAAPAAAATAPTTAATTAATAAQ</td>\n",
       "      <td>3</td>\n",
       "      <td>789.7394</td>\n",
       "      <td>335.868469</td>\n",
       "      <td>56.366667</td>\n",
       "      <td>609.864140</td>\n",
       "      <td>5.030000</td>\n",
       "      <td>29377.333333</td>\n",
       "    </tr>\n",
       "    <tr>\n",
       "      <th>2</th>\n",
       "      <td>AAAAAAAAVPSAGPAGPAPTSAAGR</td>\n",
       "      <td>2</td>\n",
       "      <td>1016.0286</td>\n",
       "      <td>160.291329</td>\n",
       "      <td>64.555556</td>\n",
       "      <td>489.973155</td>\n",
       "      <td>6.357111</td>\n",
       "      <td>58456.622222</td>\n",
       "    </tr>\n",
       "    <tr>\n",
       "      <th>3</th>\n",
       "      <td>AAAAALSQQQSLQER</td>\n",
       "      <td>2</td>\n",
       "      <td>785.9075</td>\n",
       "      <td>496.361511</td>\n",
       "      <td>45.912500</td>\n",
       "      <td>375.039574</td>\n",
       "      <td>6.140000</td>\n",
       "      <td>57092.250000</td>\n",
       "    </tr>\n",
       "    <tr>\n",
       "      <th>4</th>\n",
       "      <td>AAAAATVVPPMVGGPPFVGPVGFGPGDR</td>\n",
       "      <td>3</td>\n",
       "      <td>864.1171</td>\n",
       "      <td>707.537580</td>\n",
       "      <td>48.382593</td>\n",
       "      <td>1039.861047</td>\n",
       "      <td>16.666296</td>\n",
       "      <td>50988.518519</td>\n",
       "    </tr>\n",
       "  </tbody>\n",
       "</table>\n",
       "</div>"
      ],
      "text/plain": [
       "                        sequence  charge  theoretical_mz  experiment_scan  \\\n",
       "0  AAAAAAAAAPAAAATAPTTAATTAATAAQ       2       1184.1049        73.911301   \n",
       "1  AAAAAAAAAPAAAATAPTTAATTAATAAQ       3        789.7394       335.868469   \n",
       "2      AAAAAAAAVPSAGPAGPAPTSAAGR       2       1016.0286       160.291329   \n",
       "3                AAAAALSQQQSLQER       2        785.9075       496.361511   \n",
       "4   AAAAATVVPPMVGGPPFVGPVGFGPGDR       3        864.1171       707.537580   \n",
       "\n",
       "   experiment_scan_peak_width  experiment_rt  experiment_rt_peak_width  \\\n",
       "0                   57.626667     602.012681                 18.706667   \n",
       "1                   56.366667     609.864140                  5.030000   \n",
       "2                   64.555556     489.973155                  6.357111   \n",
       "3                   45.912500     375.039574                  6.140000   \n",
       "4                   48.382593    1039.861047                 16.666296   \n",
       "\n",
       "   experiment_intensity  \n",
       "0         108754.444444  \n",
       "1          29377.333333  \n",
       "2          58456.622222  \n",
       "3          57092.250000  \n",
       "4          50988.518519  "
      ]
     },
     "execution_count": 40,
     "metadata": {},
     "output_type": "execute_result"
    }
   ],
   "source": [
    "experiment_sequence_attribs_df.head()"
   ]
  },
  {
   "cell_type": "code",
   "execution_count": 41,
   "metadata": {},
   "outputs": [],
   "source": [
    "# use the run-0 model to find AAAAATVVPPMVGGPPFVGPVGFGPGDR, charge 3 in the raw data of the file idx\n",
    "RUN_MZ_MODEL_FILE_NAME = '/Users/darylwilding-mcbride/Downloads/experiments/190719_Hela_Ecoli/trained-models/file-{}-mz-model.pkl'.format(FILE_IDX_FOR_ANALYSIS)\n",
    "RUN_SCAN_MODEL_FILE_NAME = '/Users/darylwilding-mcbride/Downloads/experiments/190719_Hela_Ecoli/trained-models/file-{}-scan-model.pkl'.format(FILE_IDX_FOR_ANALYSIS)\n",
    "RUN_RT_MODEL_FILE_NAME = '/Users/darylwilding-mcbride/Downloads/experiments/190719_Hela_Ecoli/trained-models/file-{}-rt-model.pkl'.format(FILE_IDX_FOR_ANALYSIS)"
   ]
  },
  {
   "cell_type": "code",
   "execution_count": 42,
   "metadata": {},
   "outputs": [],
   "source": [
    "with open(RUN_MZ_MODEL_FILE_NAME, 'rb') as file:\n",
    "    mz_estimator = pickle.load(file)\n",
    "with open(RUN_SCAN_MODEL_FILE_NAME, 'rb') as file:\n",
    "    scan_estimator = pickle.load(file)\n",
    "with open(RUN_RT_MODEL_FILE_NAME, 'rb') as file:\n",
    "    rt_estimator = pickle.load(file)"
   ]
  },
  {
   "cell_type": "code",
   "execution_count": 43,
   "metadata": {},
   "outputs": [],
   "source": [
    "# gather the sequence attributes to plug into each model\n",
    "sequence_df = pd.DataFrame(experiment_sequence_attribs_df.iloc[SEQUENCE_ROW_IDX_FOR_ANALYSIS]).transpose()"
   ]
  },
  {
   "cell_type": "code",
   "execution_count": 44,
   "metadata": {},
   "outputs": [
    {
     "data": {
      "text/html": [
       "<div>\n",
       "<style scoped>\n",
       "    .dataframe tbody tr th:only-of-type {\n",
       "        vertical-align: middle;\n",
       "    }\n",
       "\n",
       "    .dataframe tbody tr th {\n",
       "        vertical-align: top;\n",
       "    }\n",
       "\n",
       "    .dataframe thead th {\n",
       "        text-align: right;\n",
       "    }\n",
       "</style>\n",
       "<table border=\"1\" class=\"dataframe\">\n",
       "  <thead>\n",
       "    <tr style=\"text-align: right;\">\n",
       "      <th></th>\n",
       "      <th>sequence</th>\n",
       "      <th>charge</th>\n",
       "      <th>theoretical_mz</th>\n",
       "      <th>experiment_scan</th>\n",
       "      <th>experiment_scan_peak_width</th>\n",
       "      <th>experiment_rt</th>\n",
       "      <th>experiment_rt_peak_width</th>\n",
       "      <th>experiment_intensity</th>\n",
       "    </tr>\n",
       "  </thead>\n",
       "  <tbody>\n",
       "    <tr>\n",
       "      <th>31291</th>\n",
       "      <td>n[42.0106]M[15.9949]EDSMDMDMSPLRPQNYLFGCELK</td>\n",
       "      <td>3</td>\n",
       "      <td>988.754</td>\n",
       "      <td>503.433</td>\n",
       "      <td>116.06</td>\n",
       "      <td>1004.41</td>\n",
       "      <td>19.4343</td>\n",
       "      <td>203452</td>\n",
       "    </tr>\n",
       "  </tbody>\n",
       "</table>\n",
       "</div>"
      ],
      "text/plain": [
       "                                          sequence charge theoretical_mz  \\\n",
       "31291  n[42.0106]M[15.9949]EDSMDMDMSPLRPQNYLFGCELK      3        988.754   \n",
       "\n",
       "      experiment_scan experiment_scan_peak_width experiment_rt  \\\n",
       "31291         503.433                     116.06       1004.41   \n",
       "\n",
       "      experiment_rt_peak_width experiment_intensity  \n",
       "31291                  19.4343               203452  "
      ]
     },
     "execution_count": 44,
     "metadata": {},
     "output_type": "execute_result"
    }
   ],
   "source": [
    "sequence_df"
   ]
  },
  {
   "cell_type": "code",
   "execution_count": 45,
   "metadata": {},
   "outputs": [],
   "source": [
    "sequence_estimation_attribs_df = sequence_df[['theoretical_mz','experiment_rt','experiment_scan','experiment_intensity']]\n",
    "sequence_estimation_attribs = sequence_estimation_attribs_df.values"
   ]
  },
  {
   "cell_type": "code",
   "execution_count": 46,
   "metadata": {},
   "outputs": [
    {
     "data": {
      "text/plain": [
       "array([[988.7542, 1004.4117534472807, 503.43327254688006,\n",
       "        203452.2857142857]], dtype=object)"
      ]
     },
     "execution_count": 46,
     "metadata": {},
     "output_type": "execute_result"
    }
   ],
   "source": [
    "sequence_estimation_attribs"
   ]
  },
  {
   "cell_type": "code",
   "execution_count": 47,
   "metadata": {},
   "outputs": [
    {
     "data": {
      "text/plain": [
       "989.076912072016"
      ]
     },
     "execution_count": 47,
     "metadata": {},
     "output_type": "execute_result"
    }
   ],
   "source": [
    "# estimate the raw monoisotopic m/z\n",
    "mz_delta_estimated = mz_estimator.predict(sequence_estimation_attribs)\n",
    "estimated_monoisotopic_mz = sequence_estimation_attribs_df.iloc[0].theoretical_mz - mz_delta_estimated[0]\n",
    "estimated_monoisotopic_mz"
   ]
  },
  {
   "cell_type": "code",
   "execution_count": 48,
   "metadata": {},
   "outputs": [
    {
     "data": {
      "text/plain": [
       "501.1255049741394"
      ]
     },
     "execution_count": 48,
     "metadata": {},
     "output_type": "execute_result"
    }
   ],
   "source": [
    "# estimate the raw monoisotopic scan\n",
    "scan_estimated = scan_estimator.predict(sequence_estimation_attribs)\n",
    "estimated_scan_apex = scan_estimated[0]\n",
    "estimated_scan_apex"
   ]
  },
  {
   "cell_type": "code",
   "execution_count": 49,
   "metadata": {},
   "outputs": [
    {
     "data": {
      "text/plain": [
       "1002.0583422827117"
      ]
     },
     "execution_count": 49,
     "metadata": {},
     "output_type": "execute_result"
    }
   ],
   "source": [
    "# estimate the raw monoisotopic RT\n",
    "rt_estimated = rt_estimator.predict(sequence_estimation_attribs)\n",
    "estimated_rt_apex = rt_estimated[0]\n",
    "estimated_rt_apex"
   ]
  },
  {
   "cell_type": "markdown",
   "metadata": {},
   "source": [
    "Look in the raw data for a feature at these coordinates"
   ]
  },
  {
   "cell_type": "code",
   "execution_count": 50,
   "metadata": {},
   "outputs": [],
   "source": [
    "# the width to use for intensity descent, in m/z\n",
    "MZ_TOLERANCE_PPM = 40  # +/- this amount\n",
    "MZ_TOLERANCE_PERCENT = MZ_TOLERANCE_PPM * 10**-4\n",
    "MS1_PEAK_DELTA = estimated_monoisotopic_mz * MZ_TOLERANCE_PERCENT / 100"
   ]
  },
  {
   "cell_type": "code",
   "execution_count": 51,
   "metadata": {},
   "outputs": [
    {
     "data": {
      "text/plain": [
       "0.03956307648288064"
      ]
     },
     "execution_count": 51,
     "metadata": {},
     "output_type": "execute_result"
    }
   ],
   "source": [
    "MS1_PEAK_DELTA"
   ]
  },
  {
   "cell_type": "code",
   "execution_count": 52,
   "metadata": {},
   "outputs": [],
   "source": [
    "# Mass difference between Carbon-12 and Carbon-13 isotopes, in Da. For calculating the spacing between isotopic peaks.\n",
    "CARBON_MASS_DIFFERENCE = 1.003355\n",
    "\n",
    "# the collision energy to distinguish ms1 and ms2 frames\n",
    "MS1_COLLISION_ENERGY = 10"
   ]
  },
  {
   "cell_type": "code",
   "execution_count": 53,
   "metadata": {},
   "outputs": [],
   "source": [
    "# takes a numpy array of intensity, and another of mz\n",
    "def mz_centroid(_int_f, _mz_f):\n",
    "    return ((_int_f/_int_f.sum()) * _mz_f).sum()"
   ]
  },
  {
   "cell_type": "code",
   "execution_count": 54,
   "metadata": {},
   "outputs": [],
   "source": [
    "# ms1_peaks_a is a numpy array of [mz,intensity]\n",
    "# returns a numpy array of [mz_centroid,summed_intensity]\n",
    "def ms1_intensity_descent(ms1_peaks_a):\n",
    "    # intensity descent\n",
    "    ms1_peaks_l = []\n",
    "    while len(ms1_peaks_a) > 0:\n",
    "        # find the most intense point\n",
    "        max_intensity_index = np.argmax(ms1_peaks_a[:,1])\n",
    "        peak_mz = ms1_peaks_a[max_intensity_index,0]\n",
    "        peak_mz_lower = peak_mz - MS1_PEAK_DELTA\n",
    "        peak_mz_upper = peak_mz + MS1_PEAK_DELTA\n",
    "\n",
    "        # get all the raw points within this m/z region\n",
    "        peak_indexes = np.where((ms1_peaks_a[:,0] >= peak_mz_lower) & (ms1_peaks_a[:,0] <= peak_mz_upper))[0]\n",
    "        if len(peak_indexes) > 0:\n",
    "            mz_cent = mz_centroid(ms1_peaks_a[peak_indexes,1], ms1_peaks_a[peak_indexes,0])\n",
    "            summed_intensity = ms1_peaks_a[peak_indexes,1].sum()\n",
    "            ms1_peaks_l.append((mz_cent, summed_intensity))\n",
    "            # remove the raw points assigned to this peak\n",
    "            ms1_peaks_a = np.delete(ms1_peaks_a, peak_indexes, axis=0)\n",
    "    return np.array(ms1_peaks_l)\n"
   ]
  },
  {
   "cell_type": "code",
   "execution_count": 55,
   "metadata": {},
   "outputs": [],
   "source": [
    "NUMBER_OF_ISOTOPES_RIGHT = 8     # the number of isotopes to look for in the m/z dimension\n",
    "NUMBER_OF_ISOTOPES_LEFT = 0.5\n",
    "\n",
    "expected_spacing_mz = CARBON_MASS_DIFFERENCE / sequence_df.iloc[0].charge\n",
    "\n",
    "MZ_WIDTH_RIGHT_FROM_MONOISOTOPIC = NUMBER_OF_ISOTOPES_RIGHT * expected_spacing_mz\n",
    "MZ_WIDTH_LEFT_FROM_MONOISOTOPIC = NUMBER_OF_ISOTOPES_LEFT * expected_spacing_mz\n",
    "\n",
    "# distance for looking either side of the scan and RT apex\n",
    "RT_WIDTH = sequence_df.iloc[0].experiment_rt_peak_width\n",
    "SCAN_WIDTH = sequence_df.iloc[0].experiment_scan_peak_width"
   ]
  },
  {
   "cell_type": "code",
   "execution_count": 56,
   "metadata": {},
   "outputs": [
    {
     "name": "stdout",
     "output_type": "stream",
     "text": [
      "mz: 988.9097-991.7525, scan: 385-617, rt: 982.6-1021.5\n"
     ]
    }
   ],
   "source": [
    "mz_lower = estimated_monoisotopic_mz - MZ_WIDTH_LEFT_FROM_MONOISOTOPIC\n",
    "mz_upper = estimated_monoisotopic_mz + MZ_WIDTH_RIGHT_FROM_MONOISOTOPIC\n",
    "scan_lower = estimated_scan_apex - SCAN_WIDTH\n",
    "scan_upper = estimated_scan_apex + SCAN_WIDTH\n",
    "rt_lower = estimated_rt_apex - RT_WIDTH\n",
    "rt_upper = estimated_rt_apex + RT_WIDTH\n",
    "print(\"mz: {}-{}, scan: {}-{}, rt: {}-{}\".format(round(mz_lower,4), round(mz_upper,4), int(scan_lower), int(scan_upper), round(rt_lower,1), round(rt_upper,1)))"
   ]
  },
  {
   "cell_type": "code",
   "execution_count": 57,
   "metadata": {},
   "outputs": [],
   "source": [
    "# find the converted database file name for file idx 0\n",
    "MAPPING_FILE_NAME = '/Users/darylwilding-mcbride/Downloads/percolator_mapping_df.pkl'\n",
    "mapping_df = pd.read_pickle(MAPPING_FILE_NAME)"
   ]
  },
  {
   "cell_type": "code",
   "execution_count": 58,
   "metadata": {},
   "outputs": [
    {
     "data": {
      "text/plain": [
       "'190719_Hela_Ecoli_1to3_06-recalibrated'"
      ]
     },
     "execution_count": 58,
     "metadata": {},
     "output_type": "execute_result"
    }
   ],
   "source": [
    "run_name = mapping_df[mapping_df.file_idx == FILE_IDX_FOR_ANALYSIS].iloc[0].run_name\n",
    "run_name"
   ]
  },
  {
   "cell_type": "code",
   "execution_count": 59,
   "metadata": {},
   "outputs": [],
   "source": [
    "db_name = run_name.replace('-recalibrated', '-converted.sqlite')"
   ]
  },
  {
   "cell_type": "code",
   "execution_count": 60,
   "metadata": {},
   "outputs": [],
   "source": [
    "CONVERTED_DATABASE_NAME = '/Users/darylwilding-mcbride/Downloads/experiments/190719_Hela_Ecoli/converted-databases/{}'.format(db_name)"
   ]
  },
  {
   "cell_type": "code",
   "execution_count": 61,
   "metadata": {},
   "outputs": [
    {
     "data": {
      "text/plain": [
       "'/Users/darylwilding-mcbride/Downloads/experiments/190719_Hela_Ecoli/converted-databases/190719_Hela_Ecoli_1to3_06-converted.sqlite'"
      ]
     },
     "execution_count": 61,
     "metadata": {},
     "output_type": "execute_result"
    }
   ],
   "source": [
    "CONVERTED_DATABASE_NAME"
   ]
  },
  {
   "cell_type": "code",
   "execution_count": 62,
   "metadata": {},
   "outputs": [],
   "source": [
    "db_conn = sqlite3.connect(CONVERTED_DATABASE_NAME)\n",
    "ms1_frame_properties_df = pd.read_sql_query(\"select frame_id,retention_time_secs from frame_properties where retention_time_secs >= {} and retention_time_secs <= {} and collision_energy == {} order by retention_time_secs\".format(rt_lower, rt_upper, MS1_COLLISION_ENERGY), db_conn)\n",
    "db_conn.close()\n",
    "ms1_frame_ids = tuple(ms1_frame_properties_df.frame_id)"
   ]
  },
  {
   "cell_type": "code",
   "execution_count": 63,
   "metadata": {},
   "outputs": [],
   "source": [
    "# extract the raw data within this area of interest\n",
    "db_conn = sqlite3.connect(CONVERTED_DATABASE_NAME)\n",
    "ms1_raw_points_df = pd.read_sql_query(\"select frame_id,mz,scan,intensity,retention_time_secs from frames where mz >= {} and mz <= {} and scan >= {} and scan <= {} and retention_time_secs >= {} and retention_time_secs <= {} and frame_id in {}\".format(mz_lower, mz_upper, scan_lower, scan_upper, rt_lower, rt_upper, ms1_frame_ids), db_conn)\n",
    "db_conn.close()"
   ]
  },
  {
   "cell_type": "code",
   "execution_count": 64,
   "metadata": {
    "scrolled": true
   },
   "outputs": [
    {
     "data": {
      "text/plain": [
       "11421"
      ]
     },
     "execution_count": 64,
     "metadata": {},
     "output_type": "execute_result"
    }
   ],
   "source": [
    "len(ms1_raw_points_df)"
   ]
  },
  {
   "cell_type": "code",
   "execution_count": 65,
   "metadata": {},
   "outputs": [],
   "source": [
    "ms1_raw_points_a = ms1_raw_points_df[['mz','intensity']].to_numpy()"
   ]
  },
  {
   "cell_type": "code",
   "execution_count": 66,
   "metadata": {},
   "outputs": [],
   "source": [
    "# perform intensity descent to resolve peaks\n",
    "peaks_a = ms1_intensity_descent(ms1_raw_points_a)"
   ]
  },
  {
   "cell_type": "code",
   "execution_count": 67,
   "metadata": {},
   "outputs": [],
   "source": [
    "peaks_df = pd.DataFrame(peaks_a, columns=['mz_centroid','summed_intensity'])"
   ]
  },
  {
   "cell_type": "code",
   "execution_count": 68,
   "metadata": {},
   "outputs": [
    {
     "data": {
      "text/html": [
       "<div>\n",
       "<style scoped>\n",
       "    .dataframe tbody tr th:only-of-type {\n",
       "        vertical-align: middle;\n",
       "    }\n",
       "\n",
       "    .dataframe tbody tr th {\n",
       "        vertical-align: top;\n",
       "    }\n",
       "\n",
       "    .dataframe thead th {\n",
       "        text-align: right;\n",
       "    }\n",
       "</style>\n",
       "<table border=\"1\" class=\"dataframe\">\n",
       "  <thead>\n",
       "    <tr style=\"text-align: right;\">\n",
       "      <th></th>\n",
       "      <th>mz_centroid</th>\n",
       "      <th>summed_intensity</th>\n",
       "    </tr>\n",
       "  </thead>\n",
       "  <tbody>\n",
       "    <tr>\n",
       "      <th>0</th>\n",
       "      <td>989.425291</td>\n",
       "      <td>193542.0</td>\n",
       "    </tr>\n",
       "    <tr>\n",
       "      <th>1</th>\n",
       "      <td>989.091105</td>\n",
       "      <td>124746.0</td>\n",
       "    </tr>\n",
       "    <tr>\n",
       "      <th>2</th>\n",
       "      <td>989.758883</td>\n",
       "      <td>181089.0</td>\n",
       "    </tr>\n",
       "    <tr>\n",
       "      <th>3</th>\n",
       "      <td>990.092465</td>\n",
       "      <td>132339.0</td>\n",
       "    </tr>\n",
       "    <tr>\n",
       "      <th>4</th>\n",
       "      <td>990.425949</td>\n",
       "      <td>80207.0</td>\n",
       "    </tr>\n",
       "    <tr>\n",
       "      <th>5</th>\n",
       "      <td>990.180819</td>\n",
       "      <td>43768.0</td>\n",
       "    </tr>\n",
       "    <tr>\n",
       "      <th>6</th>\n",
       "      <td>989.849861</td>\n",
       "      <td>39331.0</td>\n",
       "    </tr>\n",
       "    <tr>\n",
       "      <th>7</th>\n",
       "      <td>990.844903</td>\n",
       "      <td>15364.0</td>\n",
       "    </tr>\n",
       "    <tr>\n",
       "      <th>8</th>\n",
       "      <td>989.519787</td>\n",
       "      <td>40152.0</td>\n",
       "    </tr>\n",
       "    <tr>\n",
       "      <th>9</th>\n",
       "      <td>989.187456</td>\n",
       "      <td>39255.0</td>\n",
       "    </tr>\n",
       "    <tr>\n",
       "      <th>10</th>\n",
       "      <td>990.511895</td>\n",
       "      <td>29807.0</td>\n",
       "    </tr>\n",
       "    <tr>\n",
       "      <th>11</th>\n",
       "      <td>990.757659</td>\n",
       "      <td>36048.0</td>\n",
       "    </tr>\n",
       "    <tr>\n",
       "      <th>12</th>\n",
       "      <td>991.173015</td>\n",
       "      <td>7745.0</td>\n",
       "    </tr>\n",
       "    <tr>\n",
       "      <th>13</th>\n",
       "      <td>990.228391</td>\n",
       "      <td>247.0</td>\n",
       "    </tr>\n",
       "    <tr>\n",
       "      <th>14</th>\n",
       "      <td>991.506670</td>\n",
       "      <td>9879.0</td>\n",
       "    </tr>\n",
       "    <tr>\n",
       "      <th>15</th>\n",
       "      <td>989.799434</td>\n",
       "      <td>1593.0</td>\n",
       "    </tr>\n",
       "    <tr>\n",
       "      <th>16</th>\n",
       "      <td>990.136849</td>\n",
       "      <td>869.0</td>\n",
       "    </tr>\n",
       "    <tr>\n",
       "      <th>17</th>\n",
       "      <td>991.089308</td>\n",
       "      <td>8244.0</td>\n",
       "    </tr>\n",
       "    <tr>\n",
       "      <th>18</th>\n",
       "      <td>989.470067</td>\n",
       "      <td>628.0</td>\n",
       "    </tr>\n",
       "    <tr>\n",
       "      <th>19</th>\n",
       "      <td>989.138130</td>\n",
       "      <td>381.0</td>\n",
       "    </tr>\n",
       "    <tr>\n",
       "      <th>20</th>\n",
       "      <td>991.432390</td>\n",
       "      <td>604.0</td>\n",
       "    </tr>\n",
       "    <tr>\n",
       "      <th>21</th>\n",
       "      <td>990.475139</td>\n",
       "      <td>542.0</td>\n",
       "    </tr>\n",
       "    <tr>\n",
       "      <th>22</th>\n",
       "      <td>990.972078</td>\n",
       "      <td>429.0</td>\n",
       "    </tr>\n",
       "    <tr>\n",
       "      <th>23</th>\n",
       "      <td>990.716249</td>\n",
       "      <td>242.0</td>\n",
       "    </tr>\n",
       "  </tbody>\n",
       "</table>\n",
       "</div>"
      ],
      "text/plain": [
       "    mz_centroid  summed_intensity\n",
       "0    989.425291          193542.0\n",
       "1    989.091105          124746.0\n",
       "2    989.758883          181089.0\n",
       "3    990.092465          132339.0\n",
       "4    990.425949           80207.0\n",
       "5    990.180819           43768.0\n",
       "6    989.849861           39331.0\n",
       "7    990.844903           15364.0\n",
       "8    989.519787           40152.0\n",
       "9    989.187456           39255.0\n",
       "10   990.511895           29807.0\n",
       "11   990.757659           36048.0\n",
       "12   991.173015            7745.0\n",
       "13   990.228391             247.0\n",
       "14   991.506670            9879.0\n",
       "15   989.799434            1593.0\n",
       "16   990.136849             869.0\n",
       "17   991.089308            8244.0\n",
       "18   989.470067             628.0\n",
       "19   989.138130             381.0\n",
       "20   991.432390             604.0\n",
       "21   990.475139             542.0\n",
       "22   990.972078             429.0\n",
       "23   990.716249             242.0"
      ]
     },
     "execution_count": 68,
     "metadata": {},
     "output_type": "execute_result"
    }
   ],
   "source": [
    "peaks_df"
   ]
  },
  {
   "cell_type": "code",
   "execution_count": 69,
   "metadata": {},
   "outputs": [],
   "source": [
    "sequence_name = sequence_df.iloc[0].sequence\n",
    "sequence_charge = sequence_df.iloc[0].charge"
   ]
  },
  {
   "cell_type": "code",
   "execution_count": 70,
   "metadata": {},
   "outputs": [],
   "source": [
    "# a wider view for context\n",
    "mz_lower_wide = mz_lower - 1\n",
    "mz_upper_wide = mz_upper + 1\n",
    "scan_lower_wide = scan_lower - 20\n",
    "scan_upper_wide = scan_upper + 20\n",
    "rt_lower_wide = rt_lower - 10\n",
    "rt_upper_wide = rt_upper + 10\n",
    "\n",
    "# extract the raw data within this area of interest\n",
    "db_conn = sqlite3.connect(CONVERTED_DATABASE_NAME)\n",
    "wide_ms1_raw_points_df = pd.read_sql_query(\"select frame_id,mz,scan,intensity,retention_time_secs from frames where mz >= {} and mz <= {} and scan >= {} and scan <= {} and retention_time_secs >= {} and retention_time_secs <= {} and frame_id in {}\".format(mz_lower_wide, mz_upper_wide, scan_lower_wide, scan_upper_wide, rt_lower_wide, rt_upper_wide, ms1_frame_ids), db_conn)\n",
    "db_conn.close()"
   ]
  },
  {
   "cell_type": "code",
   "execution_count": 71,
   "metadata": {},
   "outputs": [
    {
     "data": {
      "image/png": "[encoded data removed]",
      "text/plain": [
       "<Figure size 1080x360 with 1 Axes>"
      ]
     },
     "metadata": {
      "needs_background": "light"
     },
     "output_type": "display_data"
    }
   ],
   "source": [
    "f, ax = plt.subplots()\n",
    "ax.plot(wide_ms1_raw_points_df.mz, wide_ms1_raw_points_df.scan, marker='o', color='tab:purple', linestyle='', ms=5)\n",
    "ax.plot(ms1_raw_points_df.mz, ms1_raw_points_df.scan, marker='o', color='tab:green', linestyle='', ms=5)\n",
    "plt.axvline(x=estimated_monoisotopic_mz, linestyle=':', color='springgreen', label='estimated mono mz')\n",
    "plt.axhline(y=estimated_scan_apex, linestyle=':', color='royalblue', label='estimated scan apex')\n",
    "plt.xlabel('m/z')\n",
    "plt.ylabel('scan')\n",
    "plt.legend(loc='best')\n",
    "plt.gca().invert_yaxis()\n",
    "f.set_figheight(5)\n",
    "f.set_figwidth(15)\n",
    "plt.suptitle('Raw points in the area predicted for sequence {}, charge {}'.format(sequence_name, sequence_charge))\n",
    "plt.xlim((mz_lower_wide,mz_upper_wide))\n",
    "plt.ylim((scan_upper_wide,scan_lower_wide))\n",
    "plt.margins(0.06)\n",
    "plt.show()"
   ]
  },
  {
   "cell_type": "code",
   "execution_count": 72,
   "metadata": {},
   "outputs": [
    {
     "data": {
      "image/png": "[encoded data removed]",
      "text/plain": [
       "<Figure size 1080x360 with 1 Axes>"
      ]
     },
     "metadata": {
      "needs_background": "light"
     },
     "output_type": "display_data"
    }
   ],
   "source": [
    "f, ax = plt.subplots()\n",
    "colors = ['tab:blue', 'tab:orange', 'tab:green', 'tab:red', 'tab:purple', 'tab:brown', 'tab:pink', 'tab:gray', 'tab:olive', 'tab:cyan']\n",
    "markerline, stemlines, baseline = ax.stem(peaks_df.mz_centroid, peaks_df.summed_intensity, 'g', use_line_collection=True)\n",
    "plt.setp(markerline, 'color', colors[2])\n",
    "plt.setp(stemlines, 'color', colors[2])\n",
    "plt.setp(baseline, 'color', colors[7])\n",
    "plt.xlabel('m/z centroid')\n",
    "plt.ylabel('summed intensity')\n",
    "f.set_figheight(5)\n",
    "f.set_figwidth(15)\n",
    "plt.margins(0.06)\n",
    "plt.suptitle('Peaks in the area predicted for sequence {}, charge {}'.format(sequence_name, sequence_charge))\n",
    "plt.show()"
   ]
  },
  {
   "cell_type": "markdown",
   "metadata": {},
   "source": [
    "Gather the raw points belonging to the monoisotopic peak"
   ]
  },
  {
   "cell_type": "code",
   "execution_count": 73,
   "metadata": {},
   "outputs": [],
   "source": [
    "mono_mz_lower = estimated_monoisotopic_mz - MS1_PEAK_DELTA\n",
    "mono_mz_upper = estimated_monoisotopic_mz + MS1_PEAK_DELTA\n",
    "mono_raw_points_df = ms1_raw_points_df[(ms1_raw_points_df.mz >= mono_mz_lower) & (ms1_raw_points_df.mz <= mono_mz_upper)].copy()"
   ]
  },
  {
   "cell_type": "markdown",
   "metadata": {},
   "source": [
    "Collapse the points onto the mobility dimension"
   ]
  },
  {
   "cell_type": "code",
   "execution_count": 74,
   "metadata": {},
   "outputs": [],
   "source": [
    "scan_df = mono_raw_points_df.groupby(['scan'], as_index=False).intensity.sum()"
   ]
  },
  {
   "cell_type": "code",
   "execution_count": 75,
   "metadata": {},
   "outputs": [],
   "source": [
    "scan_df.sort_values(by=['scan'], ascending=True, inplace=True)"
   ]
  },
  {
   "cell_type": "code",
   "execution_count": 76,
   "metadata": {},
   "outputs": [],
   "source": [
    "mobility_curve_fit = False\n",
    "try:\n",
    "    gaussian_params = peakutils.peak.gaussian_fit(scan_df.scan.values, scan_df.intensity.values, center_only=False)\n",
    "    scan_apex_fitted = gaussian_params[1]\n",
    "    scan_side_width = 2 * abs(gaussian_params[2])  # number of standard deviations either side of the apex\n",
    "    scan_lower = scan_apex_fitted - scan_side_width\n",
    "    scan_upper = scan_apex_fitted + scan_side_width\n",
    "    g = peakutils.peak.gaussian(scan_df.scan, gaussian_params[0], gaussian_params[1], gaussian_params[2])\n",
    "    mobility_curve_fit = True\n",
    "    if (scan_apex_fitted >= wide_scan_lower) and (scan_apex_fitted <= wide_scan_upper):\n",
    "        mobility_curve_fit = True\n",
    "except:\n",
    "    pass\n",
    "\n",
    "# if we couldn't fit a curve to the mobility dimension, take the intensity-weighted centroid\n",
    "if not mobility_curve_fit:\n",
    "    print(\"could not fit a gaussian to the points - calculating the centroid\")\n",
    "    scan_apex_centroid = mz_centroid(scan_df.intensity.to_numpy(), scan_df.scan.to_numpy())\n",
    "    scan_apex_max = scan_df.loc[scan_df.intensity.idxmax()].scan"
   ]
  },
  {
   "cell_type": "code",
   "execution_count": 77,
   "metadata": {},
   "outputs": [
    {
     "data": {
      "image/png": "[encoded data removed]",
      "text/plain": [
       "<Figure size 1080x360 with 1 Axes>"
      ]
     },
     "metadata": {
      "needs_background": "light"
     },
     "output_type": "display_data"
    }
   ],
   "source": [
    "# visualise the monoisotopic peak in the scan dimension\n",
    "f, ax = plt.subplots()\n",
    "ax.plot(scan_df.scan.values, scan_df.intensity.values, marker='o', color='tab:purple', linestyle='-', linewidth=1, ms=5)\n",
    "plt.axvline(x=estimated_scan_apex, linestyle=':', color='royalblue', label='estimated scan apex')\n",
    "if mobility_curve_fit:\n",
    "    plt.axvline(x=scan_apex_fitted, linestyle=':', color='orange', label='estimated scan apex (fitted)')\n",
    "    ax.plot(scan_df.scan, g, marker='', color='purple', linestyle='-', linewidth=1, ms=5)\n",
    "else:\n",
    "    plt.axvline(x=scan_apex_centroid, linestyle=':', color='coral', label='calculated scan apex (centroid)')\n",
    "    plt.axvline(x=scan_apex_max, linestyle=':', color='seagreen', label='calculated scan apex (max)')\n",
    "plt.xlabel('scan')\n",
    "plt.ylabel('intensity')\n",
    "plt.legend(loc='best')\n",
    "f.set_figheight(5)\n",
    "f.set_figwidth(15)\n",
    "plt.xlim((scan_lower,scan_upper))\n",
    "plt.suptitle('Raw points')\n",
    "plt.margins(0.06)\n",
    "plt.show()"
   ]
  },
  {
   "cell_type": "markdown",
   "metadata": {},
   "source": [
    "Collapse the points onto the RT dimension"
   ]
  },
  {
   "cell_type": "code",
   "execution_count": 78,
   "metadata": {},
   "outputs": [],
   "source": [
    "rt_df = mono_raw_points_df.groupby(['frame_id','retention_time_secs'], as_index=False).intensity.sum()"
   ]
  },
  {
   "cell_type": "code",
   "execution_count": 79,
   "metadata": {},
   "outputs": [],
   "source": [
    "rt_df.sort_values(by=['retention_time_secs'], ascending=True, inplace=True)"
   ]
  },
  {
   "cell_type": "code",
   "execution_count": 80,
   "metadata": {},
   "outputs": [],
   "source": [
    "rt_curve_fit = False\n",
    "try:\n",
    "    gaussian_params = peakutils.peak.gaussian_fit(rt_df.retention_time_secs.values, rt_df.intensity.values, center_only=False)\n",
    "    rt_apex_fitted = gaussian_params[1]\n",
    "    rt_side_width = 3 * abs(gaussian_params[2])  # number of standard deviations either side of the apex\n",
    "    rt_lower = rt_apex_fitted - rt_side_width\n",
    "    rt_upper = rt_apex_fitted + rt_side_width\n",
    "    g = peakutils.peak.gaussian(rt_df.retention_time_secs, gaussian_params[0], gaussian_params[1], gaussian_params[2])\n",
    "    if (rt_apex_fitted >= rt_lower) and (rt_apex_fitted <= rt_upper):\n",
    "        rt_curve_fit = True\n",
    "except:\n",
    "    pass\n",
    "\n",
    "# if we couldn't fit a curve to the RT dimension, take the intensity-weighted centroid\n",
    "if not rt_curve_fit:\n",
    "    print(\"could not fit a gaussian to the points - calculating the centroid\")\n",
    "    rt_apex_centroid = mz_centroid(rt_df.intensity.to_numpy(), rt_df.retention_time_secs.to_numpy())\n",
    "    rt_apex_max = rt_df.loc[rt_df.intensity.idxmax()].retention_time_secs"
   ]
  },
  {
   "cell_type": "code",
   "execution_count": 81,
   "metadata": {},
   "outputs": [
    {
     "data": {
      "image/png": "[encoded data removed]",
      "text/plain": [
       "<Figure size 1080x360 with 1 Axes>"
      ]
     },
     "metadata": {
      "needs_background": "light"
     },
     "output_type": "display_data"
    }
   ],
   "source": [
    "# visualise the monoisotopic peak in the RT dimension\n",
    "f, ax = plt.subplots()\n",
    "ax.plot(rt_df.retention_time_secs, rt_df.intensity, marker='o', color='tab:purple', linestyle='-', linewidth=1, ms=5)\n",
    "plt.axvline(x=estimated_rt_apex, linestyle=':', color='royalblue', label='estimated RT apex')\n",
    "if rt_curve_fit:\n",
    "    plt.axvline(x=rt_apex_fitted, linestyle=':', color='orange', label='calculated RT apex (fitted)')\n",
    "    ax.plot(rt_df.retention_time_secs, g, marker='', color='purple', linestyle='-', linewidth=1, ms=5)\n",
    "else:\n",
    "    plt.axvline(x=rt_apex_centroid, linestyle=':', color='coral', label='calculated RT apex (centroid)')\n",
    "    plt.axvline(x=rt_apex_max, linestyle=':', color='seagreen', label='calculated RT apex (max)')\n",
    "plt.xlabel('retention time (secs)')\n",
    "plt.ylabel('intensity')\n",
    "plt.legend(loc='best')\n",
    "f.set_figheight(5)\n",
    "f.set_figwidth(15)\n",
    "plt.xlim((rt_lower,rt_upper))\n",
    "plt.suptitle('Raw points')\n",
    "plt.margins(0.06)\n",
    "plt.show()"
   ]
  },
  {
   "cell_type": "code",
   "execution_count": null,
   "metadata": {},
   "outputs": [],
   "source": []
  }
 ],
 "metadata": {
  "kernelspec": {
   "display_name": "Python 3",
   "language": "python",
   "name": "python3"
  },
  "language_info": {
   "codemirror_mode": {
    "name": "ipython",
    "version": 3
   },
   "file_extension": ".py",
   "mimetype": "text/x-python",
   "name": "python",
   "nbconvert_exporter": "python",
   "pygments_lexer": "ipython3",
   "version": "3.6.8"
  }
 },
 "nbformat": 4,
 "nbformat_minor": 2
}
