{
 "cells": [
  {
   "cell_type": "code",
   "execution_count": null,
   "metadata": {
    "collapsed": true
   },
   "outputs": [],
   "source": [
    "import sqlite3\n",
    "import pandas as pd\n",
    "import glob"
   ]
  },
  {
   "cell_type": "code",
   "execution_count": 17,
   "metadata": {},
   "outputs": [],
   "source": [
    "source_db_names = glob.glob(\"/home/daryl/subset-data/subset-Hela_20A_20R_500-features-*-*.sqlite\")"
   ]
  },
  {
   "cell_type": "code",
   "execution_count": 24,
   "metadata": {},
   "outputs": [
    {
     "name": "stdout",
     "output_type": "stream",
     "text": [
      "merged 104 records from /home/daryl/subset-data/subset-Hela_20A_20R_500-features-4341-4774.sqlite\n",
      "merged 106 records from /home/daryl/subset-data/subset-Hela_20A_20R_500-features-3907-4340.sqlite\n",
      "merged 153 records from /home/daryl/subset-data/subset-Hela_20A_20R_500-features-1737-2170.sqlite\n",
      "merged 108 records from /home/daryl/subset-data/subset-Hela_20A_20R_500-features-4775-5208.sqlite\n",
      "merged 119 records from /home/daryl/subset-data/subset-Hela_20A_20R_500-features-3473-3906.sqlite\n",
      "merged 3 records from /home/daryl/subset-data/subset-Hela_20A_20R_500-features-5209-5212.sqlite\n",
      "merged 157 records from /home/daryl/subset-data/subset-Hela_20A_20R_500-features-869-1302.sqlite\n",
      "merged 185 records from /home/daryl/subset-data/subset-Hela_20A_20R_500-features-435-868.sqlite\n",
      "merged 166 records from /home/daryl/subset-data/subset-Hela_20A_20R_500-features-1303-1736.sqlite\n",
      "merged 129 records from /home/daryl/subset-data/subset-Hela_20A_20R_500-features-2605-3038.sqlite\n",
      "merged 122 records from /home/daryl/subset-data/subset-Hela_20A_20R_500-features-3039-3472.sqlite\n",
      "merged 190 records from /home/daryl/subset-data/subset-Hela_20A_20R_500-features-1-434.sqlite\n",
      "merged 165 records from /home/daryl/subset-data/subset-Hela_20A_20R_500-features-2171-2604.sqlite\n"
     ]
    }
   ],
   "source": [
    "destination_db_name = '/home/daryl/subset-data/subset-Hela_20A_20R_500.sqlite'\n",
    "table_name = 'precursor_ms2_peak_matches'\n",
    "\n",
    "destination_conn = sqlite3.connect(destination_db_name)\n",
    "\n",
    "# prepare the destination database\n",
    "source_conn = sqlite3.connect(source_db_names[0])\n",
    "df = pd.read_sql_query(\"SELECT sql,tbl_name FROM sqlite_master WHERE type='table' and tbl_name='{}'\".format(table_name), source_conn)\n",
    "source_conn.close()\n",
    "destination_conn.cursor().execute(\"drop table if exists {}\".format(table_name))\n",
    "destination_conn.cursor().execute(df.loc[0].sql)\n",
    "\n",
    "for source_db_name in source_db_names:\n",
    "    source_conn = sqlite3.connect(source_db_name)\n",
    "\n",
    "    table_df = pd.read_sql_query(\"SELECT * FROM {}\".format(table_name), source_conn)\n",
    "    table_df.to_sql(name=table_name, con=destination_conn, if_exists='append', index=False, chunksize=10000)\n",
    "    print(\"merged {} records from {}\".format(len(table_df), source_db_name))\n",
    "\n",
    "    source_conn.commit()\n",
    "    source_conn.close()\n",
    "\n",
    "destination_conn.close()"
   ]
  },
  {
   "cell_type": "code",
   "execution_count": null,
   "metadata": {
    "collapsed": true
   },
   "outputs": [],
   "source": []
  }
 ],
 "metadata": {
  "kernelspec": {
   "display_name": "Python 2",
   "language": "python",
   "name": "python2"
  },
  "language_info": {
   "codemirror_mode": {
    "name": "ipython",
    "version": 2
   },
   "file_extension": ".py",
   "mimetype": "text/x-python",
   "name": "python",
   "nbconvert_exporter": "python",
   "pygments_lexer": "ipython2",
   "version": "2.7.14"
  }
 },
 "nbformat": 4,
 "nbformat_minor": 2
}
