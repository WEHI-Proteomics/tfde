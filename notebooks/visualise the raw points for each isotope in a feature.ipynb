{
 "cells": [
  {
   "cell_type": "code",
   "execution_count": 74,
   "metadata": {},
   "outputs": [],
   "source": [
    "import sqlite3\n",
    "import pandas as pd\n",
    "import matplotlib.pyplot as plt\n",
    "import numpy as np"
   ]
  },
  {
   "cell_type": "code",
   "execution_count": 75,
   "metadata": {},
   "outputs": [],
   "source": [
    "feature_id = 20\n",
    "CONVERTED_DATABASE_NAME = '/Volumes/Samsung_T5/UPS2_DIA_180907/UPS2_DIA_180907.sqlite'\n",
    "SUMMED_REGIONS_DATABASE = '/Volumes/Samsung_T5/UPS2_DIA_180907/UPS2_DIA_180907-features-{}-{}.sqlite'.format(feature_id, feature_id)"
   ]
  },
  {
   "cell_type": "code",
   "execution_count": 76,
   "metadata": {},
   "outputs": [],
   "source": [
    "# set up indexes\n",
    "db_conn = sqlite3.connect(CONVERTED_DATABASE_NAME)\n",
    "db_conn.cursor().execute(\"DROP INDEX IF EXISTS idx_raw_summed_join_1\")\n",
    "db_conn.cursor().execute(\"DROP INDEX IF EXISTS idx_frames_4\")\n",
    "db_conn.cursor().execute(\"CREATE INDEX idx_raw_summed_join_1 ON raw_summed_join (summed_frame_point)\")\n",
    "db_conn.cursor().execute(\"CREATE INDEX idx_frames_4 ON frames (raw_frame_point)\")\n",
    "db_conn.close()\n",
    "\n",
    "db_conn = sqlite3.connect(SUMMED_REGIONS_DATABASE)\n",
    "db_conn.cursor().execute(\"DROP INDEX IF EXISTS idx_ms1_feature_frame_join_1\")\n",
    "db_conn.cursor().execute(\"CREATE INDEX idx_ms1_feature_frame_join_1 ON ms1_feature_frame_join (feature_id)\")\n",
    "db_conn.close()"
   ]
  },
  {
   "cell_type": "code",
   "execution_count": 77,
   "metadata": {},
   "outputs": [],
   "source": [
    "db_conn = sqlite3.connect(SUMMED_REGIONS_DATABASE)\n",
    "summed_ms1_region_df = pd.read_sql_query(\"select * from summed_ms1_regions where feature_id={} order by peak_id\".format(feature_id), db_conn)\n",
    "db_conn.close()"
   ]
  },
  {
   "cell_type": "code",
   "execution_count": 78,
   "metadata": {},
   "outputs": [
    {
     "data": {
      "text/html": [
       "<div>\n",
       "<style scoped>\n",
       "    .dataframe tbody tr th:only-of-type {\n",
       "        vertical-align: middle;\n",
       "    }\n",
       "\n",
       "    .dataframe tbody tr th {\n",
       "        vertical-align: top;\n",
       "    }\n",
       "\n",
       "    .dataframe thead th {\n",
       "        text-align: right;\n",
       "    }\n",
       "</style>\n",
       "<table border=\"1\" class=\"dataframe\">\n",
       "  <thead>\n",
       "    <tr style=\"text-align: right;\">\n",
       "      <th></th>\n",
       "      <th>feature_id</th>\n",
       "      <th>point_id</th>\n",
       "      <th>mz</th>\n",
       "      <th>retention_time_secs</th>\n",
       "      <th>scan</th>\n",
       "      <th>intensity</th>\n",
       "      <th>number_frames</th>\n",
       "      <th>peak_id</th>\n",
       "      <th>feature_point</th>\n",
       "    </tr>\n",
       "  </thead>\n",
       "  <tbody>\n",
       "    <tr>\n",
       "      <th>0</th>\n",
       "      <td>20</td>\n",
       "      <td>1</td>\n",
       "      <td>594.795346</td>\n",
       "      <td>393.262963</td>\n",
       "      <td>403</td>\n",
       "      <td>12401</td>\n",
       "      <td>14</td>\n",
       "      <td>1</td>\n",
       "      <td>20|1</td>\n",
       "    </tr>\n",
       "    <tr>\n",
       "      <th>1</th>\n",
       "      <td>20</td>\n",
       "      <td>4</td>\n",
       "      <td>594.797550</td>\n",
       "      <td>393.218921</td>\n",
       "      <td>404</td>\n",
       "      <td>15025</td>\n",
       "      <td>14</td>\n",
       "      <td>1</td>\n",
       "      <td>20|4</td>\n",
       "    </tr>\n",
       "    <tr>\n",
       "      <th>2</th>\n",
       "      <td>20</td>\n",
       "      <td>7</td>\n",
       "      <td>594.796218</td>\n",
       "      <td>393.201234</td>\n",
       "      <td>405</td>\n",
       "      <td>22245</td>\n",
       "      <td>15</td>\n",
       "      <td>1</td>\n",
       "      <td>20|7</td>\n",
       "    </tr>\n",
       "    <tr>\n",
       "      <th>3</th>\n",
       "      <td>20</td>\n",
       "      <td>10</td>\n",
       "      <td>594.796612</td>\n",
       "      <td>393.288341</td>\n",
       "      <td>406</td>\n",
       "      <td>26007</td>\n",
       "      <td>15</td>\n",
       "      <td>1</td>\n",
       "      <td>20|10</td>\n",
       "    </tr>\n",
       "    <tr>\n",
       "      <th>4</th>\n",
       "      <td>20</td>\n",
       "      <td>13</td>\n",
       "      <td>594.796649</td>\n",
       "      <td>393.248910</td>\n",
       "      <td>407</td>\n",
       "      <td>34729</td>\n",
       "      <td>15</td>\n",
       "      <td>1</td>\n",
       "      <td>20|13</td>\n",
       "    </tr>\n",
       "  </tbody>\n",
       "</table>\n",
       "</div>"
      ],
      "text/plain": [
       "   feature_id  point_id          mz  retention_time_secs  scan  intensity  \\\n",
       "0          20         1  594.795346           393.262963   403      12401   \n",
       "1          20         4  594.797550           393.218921   404      15025   \n",
       "2          20         7  594.796218           393.201234   405      22245   \n",
       "3          20        10  594.796612           393.288341   406      26007   \n",
       "4          20        13  594.796649           393.248910   407      34729   \n",
       "\n",
       "   number_frames  peak_id feature_point  \n",
       "0             14        1          20|1  \n",
       "1             14        1          20|4  \n",
       "2             15        1          20|7  \n",
       "3             15        1         20|10  \n",
       "4             15        1         20|13  "
      ]
     },
     "execution_count": 78,
     "metadata": {},
     "output_type": "execute_result"
    }
   ],
   "source": [
    "summed_ms1_region_df.head()"
   ]
  },
  {
   "cell_type": "code",
   "execution_count": 79,
   "metadata": {},
   "outputs": [],
   "source": [
    "summed_ms1_region_df.rename(columns={\"peak_id\":\"feature_peak_id\",\"point_id\":\"feature_point_id\"}, inplace=True)"
   ]
  },
  {
   "cell_type": "code",
   "execution_count": 80,
   "metadata": {},
   "outputs": [],
   "source": [
    "summed_ms1_region_df.drop(['mz', 'scan', 'intensity', 'number_frames'], axis=1, inplace=True)"
   ]
  },
  {
   "cell_type": "code",
   "execution_count": 81,
   "metadata": {},
   "outputs": [
    {
     "data": {
      "text/html": [
       "<div>\n",
       "<style scoped>\n",
       "    .dataframe tbody tr th:only-of-type {\n",
       "        vertical-align: middle;\n",
       "    }\n",
       "\n",
       "    .dataframe tbody tr th {\n",
       "        vertical-align: top;\n",
       "    }\n",
       "\n",
       "    .dataframe thead th {\n",
       "        text-align: right;\n",
       "    }\n",
       "</style>\n",
       "<table border=\"1\" class=\"dataframe\">\n",
       "  <thead>\n",
       "    <tr style=\"text-align: right;\">\n",
       "      <th></th>\n",
       "      <th>feature_id</th>\n",
       "      <th>feature_point_id</th>\n",
       "      <th>retention_time_secs</th>\n",
       "      <th>feature_peak_id</th>\n",
       "      <th>feature_point</th>\n",
       "    </tr>\n",
       "  </thead>\n",
       "  <tbody>\n",
       "    <tr>\n",
       "      <th>0</th>\n",
       "      <td>20</td>\n",
       "      <td>1</td>\n",
       "      <td>393.262963</td>\n",
       "      <td>1</td>\n",
       "      <td>20|1</td>\n",
       "    </tr>\n",
       "    <tr>\n",
       "      <th>1</th>\n",
       "      <td>20</td>\n",
       "      <td>4</td>\n",
       "      <td>393.218921</td>\n",
       "      <td>1</td>\n",
       "      <td>20|4</td>\n",
       "    </tr>\n",
       "    <tr>\n",
       "      <th>2</th>\n",
       "      <td>20</td>\n",
       "      <td>7</td>\n",
       "      <td>393.201234</td>\n",
       "      <td>1</td>\n",
       "      <td>20|7</td>\n",
       "    </tr>\n",
       "    <tr>\n",
       "      <th>3</th>\n",
       "      <td>20</td>\n",
       "      <td>10</td>\n",
       "      <td>393.288341</td>\n",
       "      <td>1</td>\n",
       "      <td>20|10</td>\n",
       "    </tr>\n",
       "    <tr>\n",
       "      <th>4</th>\n",
       "      <td>20</td>\n",
       "      <td>13</td>\n",
       "      <td>393.248910</td>\n",
       "      <td>1</td>\n",
       "      <td>20|13</td>\n",
       "    </tr>\n",
       "  </tbody>\n",
       "</table>\n",
       "</div>"
      ],
      "text/plain": [
       "   feature_id  feature_point_id  retention_time_secs  feature_peak_id  \\\n",
       "0          20                 1           393.262963                1   \n",
       "1          20                 4           393.218921                1   \n",
       "2          20                 7           393.201234                1   \n",
       "3          20                10           393.288341                1   \n",
       "4          20                13           393.248910                1   \n",
       "\n",
       "  feature_point  \n",
       "0          20|1  \n",
       "1          20|4  \n",
       "2          20|7  \n",
       "3         20|10  \n",
       "4         20|13  "
      ]
     },
     "execution_count": 81,
     "metadata": {},
     "output_type": "execute_result"
    }
   ],
   "source": [
    "summed_ms1_region_df.head()"
   ]
  },
  {
   "cell_type": "code",
   "execution_count": 82,
   "metadata": {},
   "outputs": [],
   "source": [
    "# add the summed_frame_point that contributed to each feature region point\n",
    "db_conn = sqlite3.connect(SUMMED_REGIONS_DATABASE)\n",
    "ms1_feature_frame_join_df = pd.read_sql_query(\"select * from ms1_feature_frame_join where feature_id={}\".format(feature_id), db_conn)\n",
    "db_conn.close()"
   ]
  },
  {
   "cell_type": "code",
   "execution_count": 83,
   "metadata": {},
   "outputs": [
    {
     "data": {
      "text/html": [
       "<div>\n",
       "<style scoped>\n",
       "    .dataframe tbody tr th:only-of-type {\n",
       "        vertical-align: middle;\n",
       "    }\n",
       "\n",
       "    .dataframe tbody tr th {\n",
       "        vertical-align: top;\n",
       "    }\n",
       "\n",
       "    .dataframe thead th {\n",
       "        text-align: right;\n",
       "    }\n",
       "</style>\n",
       "<table border=\"1\" class=\"dataframe\">\n",
       "  <thead>\n",
       "    <tr style=\"text-align: right;\">\n",
       "      <th></th>\n",
       "      <th>feature_id</th>\n",
       "      <th>feature_point_id</th>\n",
       "      <th>frame_id</th>\n",
       "      <th>frame_point_id</th>\n",
       "      <th>feature_point</th>\n",
       "      <th>summed_frame_point</th>\n",
       "    </tr>\n",
       "  </thead>\n",
       "  <tbody>\n",
       "    <tr>\n",
       "      <th>0</th>\n",
       "      <td>20</td>\n",
       "      <td>1</td>\n",
       "      <td>297</td>\n",
       "      <td>4746</td>\n",
       "      <td>20|1</td>\n",
       "      <td>297|4746</td>\n",
       "    </tr>\n",
       "    <tr>\n",
       "      <th>1</th>\n",
       "      <td>20</td>\n",
       "      <td>1</td>\n",
       "      <td>298</td>\n",
       "      <td>4653</td>\n",
       "      <td>20|1</td>\n",
       "      <td>298|4653</td>\n",
       "    </tr>\n",
       "    <tr>\n",
       "      <th>2</th>\n",
       "      <td>20</td>\n",
       "      <td>1</td>\n",
       "      <td>300</td>\n",
       "      <td>4750</td>\n",
       "      <td>20|1</td>\n",
       "      <td>300|4750</td>\n",
       "    </tr>\n",
       "    <tr>\n",
       "      <th>3</th>\n",
       "      <td>20</td>\n",
       "      <td>1</td>\n",
       "      <td>303</td>\n",
       "      <td>5052</td>\n",
       "      <td>20|1</td>\n",
       "      <td>303|5052</td>\n",
       "    </tr>\n",
       "    <tr>\n",
       "      <th>4</th>\n",
       "      <td>20</td>\n",
       "      <td>1</td>\n",
       "      <td>304</td>\n",
       "      <td>5121</td>\n",
       "      <td>20|1</td>\n",
       "      <td>304|5121</td>\n",
       "    </tr>\n",
       "  </tbody>\n",
       "</table>\n",
       "</div>"
      ],
      "text/plain": [
       "   feature_id  feature_point_id  frame_id  frame_point_id feature_point  \\\n",
       "0          20                 1       297            4746          20|1   \n",
       "1          20                 1       298            4653          20|1   \n",
       "2          20                 1       300            4750          20|1   \n",
       "3          20                 1       303            5052          20|1   \n",
       "4          20                 1       304            5121          20|1   \n",
       "\n",
       "  summed_frame_point  \n",
       "0           297|4746  \n",
       "1           298|4653  \n",
       "2           300|4750  \n",
       "3           303|5052  \n",
       "4           304|5121  "
      ]
     },
     "execution_count": 83,
     "metadata": {},
     "output_type": "execute_result"
    }
   ],
   "source": [
    "ms1_feature_frame_join_df.head()"
   ]
  },
  {
   "cell_type": "code",
   "execution_count": 84,
   "metadata": {},
   "outputs": [],
   "source": [
    "ms1_feature_frame_join_df.rename(columns={\"frame_id\":\"summed_frame_id\"}, inplace=True)"
   ]
  },
  {
   "cell_type": "code",
   "execution_count": 85,
   "metadata": {},
   "outputs": [],
   "source": [
    "ms1_feature_frame_join_df.drop(['feature_id', 'feature_point_id', 'frame_point_id'], axis=1, inplace=True)"
   ]
  },
  {
   "cell_type": "code",
   "execution_count": 86,
   "metadata": {},
   "outputs": [
    {
     "data": {
      "text/html": [
       "<div>\n",
       "<style scoped>\n",
       "    .dataframe tbody tr th:only-of-type {\n",
       "        vertical-align: middle;\n",
       "    }\n",
       "\n",
       "    .dataframe tbody tr th {\n",
       "        vertical-align: top;\n",
       "    }\n",
       "\n",
       "    .dataframe thead th {\n",
       "        text-align: right;\n",
       "    }\n",
       "</style>\n",
       "<table border=\"1\" class=\"dataframe\">\n",
       "  <thead>\n",
       "    <tr style=\"text-align: right;\">\n",
       "      <th></th>\n",
       "      <th>summed_frame_id</th>\n",
       "      <th>feature_point</th>\n",
       "      <th>summed_frame_point</th>\n",
       "    </tr>\n",
       "  </thead>\n",
       "  <tbody>\n",
       "    <tr>\n",
       "      <th>0</th>\n",
       "      <td>297</td>\n",
       "      <td>20|1</td>\n",
       "      <td>297|4746</td>\n",
       "    </tr>\n",
       "    <tr>\n",
       "      <th>1</th>\n",
       "      <td>298</td>\n",
       "      <td>20|1</td>\n",
       "      <td>298|4653</td>\n",
       "    </tr>\n",
       "    <tr>\n",
       "      <th>2</th>\n",
       "      <td>300</td>\n",
       "      <td>20|1</td>\n",
       "      <td>300|4750</td>\n",
       "    </tr>\n",
       "    <tr>\n",
       "      <th>3</th>\n",
       "      <td>303</td>\n",
       "      <td>20|1</td>\n",
       "      <td>303|5052</td>\n",
       "    </tr>\n",
       "    <tr>\n",
       "      <th>4</th>\n",
       "      <td>304</td>\n",
       "      <td>20|1</td>\n",
       "      <td>304|5121</td>\n",
       "    </tr>\n",
       "  </tbody>\n",
       "</table>\n",
       "</div>"
      ],
      "text/plain": [
       "   summed_frame_id feature_point summed_frame_point\n",
       "0              297          20|1           297|4746\n",
       "1              298          20|1           298|4653\n",
       "2              300          20|1           300|4750\n",
       "3              303          20|1           303|5052\n",
       "4              304          20|1           304|5121"
      ]
     },
     "execution_count": 86,
     "metadata": {},
     "output_type": "execute_result"
    }
   ],
   "source": [
    "ms1_feature_frame_join_df.head()"
   ]
  },
  {
   "cell_type": "code",
   "execution_count": 87,
   "metadata": {},
   "outputs": [],
   "source": [
    "summed_ms1_region_df = pd.merge(summed_ms1_region_df, ms1_feature_frame_join_df, how='left', left_on=['feature_point'], right_on=['feature_point'])"
   ]
  },
  {
   "cell_type": "code",
   "execution_count": 88,
   "metadata": {},
   "outputs": [],
   "source": [
    "summed_ms1_region_df.drop(['feature_point'], axis=1, inplace=True)"
   ]
  },
  {
   "cell_type": "code",
   "execution_count": 89,
   "metadata": {},
   "outputs": [
    {
     "data": {
      "text/html": [
       "<div>\n",
       "<style scoped>\n",
       "    .dataframe tbody tr th:only-of-type {\n",
       "        vertical-align: middle;\n",
       "    }\n",
       "\n",
       "    .dataframe tbody tr th {\n",
       "        vertical-align: top;\n",
       "    }\n",
       "\n",
       "    .dataframe thead th {\n",
       "        text-align: right;\n",
       "    }\n",
       "</style>\n",
       "<table border=\"1\" class=\"dataframe\">\n",
       "  <thead>\n",
       "    <tr style=\"text-align: right;\">\n",
       "      <th></th>\n",
       "      <th>feature_id</th>\n",
       "      <th>feature_point_id</th>\n",
       "      <th>retention_time_secs</th>\n",
       "      <th>feature_peak_id</th>\n",
       "      <th>summed_frame_id</th>\n",
       "      <th>summed_frame_point</th>\n",
       "    </tr>\n",
       "  </thead>\n",
       "  <tbody>\n",
       "    <tr>\n",
       "      <th>0</th>\n",
       "      <td>20</td>\n",
       "      <td>1</td>\n",
       "      <td>393.262963</td>\n",
       "      <td>1</td>\n",
       "      <td>297</td>\n",
       "      <td>297|4746</td>\n",
       "    </tr>\n",
       "    <tr>\n",
       "      <th>1</th>\n",
       "      <td>20</td>\n",
       "      <td>1</td>\n",
       "      <td>393.262963</td>\n",
       "      <td>1</td>\n",
       "      <td>298</td>\n",
       "      <td>298|4653</td>\n",
       "    </tr>\n",
       "    <tr>\n",
       "      <th>2</th>\n",
       "      <td>20</td>\n",
       "      <td>1</td>\n",
       "      <td>393.262963</td>\n",
       "      <td>1</td>\n",
       "      <td>300</td>\n",
       "      <td>300|4750</td>\n",
       "    </tr>\n",
       "    <tr>\n",
       "      <th>3</th>\n",
       "      <td>20</td>\n",
       "      <td>1</td>\n",
       "      <td>393.262963</td>\n",
       "      <td>1</td>\n",
       "      <td>303</td>\n",
       "      <td>303|5052</td>\n",
       "    </tr>\n",
       "    <tr>\n",
       "      <th>4</th>\n",
       "      <td>20</td>\n",
       "      <td>1</td>\n",
       "      <td>393.262963</td>\n",
       "      <td>1</td>\n",
       "      <td>304</td>\n",
       "      <td>304|5121</td>\n",
       "    </tr>\n",
       "  </tbody>\n",
       "</table>\n",
       "</div>"
      ],
      "text/plain": [
       "   feature_id  feature_point_id  retention_time_secs  feature_peak_id  \\\n",
       "0          20                 1           393.262963                1   \n",
       "1          20                 1           393.262963                1   \n",
       "2          20                 1           393.262963                1   \n",
       "3          20                 1           393.262963                1   \n",
       "4          20                 1           393.262963                1   \n",
       "\n",
       "   summed_frame_id summed_frame_point  \n",
       "0              297           297|4746  \n",
       "1              298           298|4653  \n",
       "2              300           300|4750  \n",
       "3              303           303|5052  \n",
       "4              304           304|5121  "
      ]
     },
     "execution_count": 89,
     "metadata": {},
     "output_type": "execute_result"
    }
   ],
   "source": [
    "summed_ms1_region_df.head()"
   ]
  },
  {
   "cell_type": "code",
   "execution_count": 90,
   "metadata": {},
   "outputs": [
    {
     "name": "stdout",
     "output_type": "stream",
     "text": [
      "100 loops, best of 3: 11.7 ms per loop\n"
     ]
    }
   ],
   "source": [
    "# add the raw_frame_point that contributed to each summed frame point\n",
    "db_conn = sqlite3.connect(CONVERTED_DATABASE_NAME)\n",
    "%timeit raw_summed_join_df = pd.read_sql_query(\"select * from raw_summed_join where summed_frame_point in {}\".format(tuple(summed_ms1_region_df.summed_frame_point.astype(str))), db_conn)\n",
    "db_conn.close()"
   ]
  },
  {
   "cell_type": "code",
   "execution_count": 91,
   "metadata": {},
   "outputs": [
    {
     "data": {
      "text/html": [
       "<div>\n",
       "<style scoped>\n",
       "    .dataframe tbody tr th:only-of-type {\n",
       "        vertical-align: middle;\n",
       "    }\n",
       "\n",
       "    .dataframe tbody tr th {\n",
       "        vertical-align: top;\n",
       "    }\n",
       "\n",
       "    .dataframe thead th {\n",
       "        text-align: right;\n",
       "    }\n",
       "</style>\n",
       "<table border=\"1\" class=\"dataframe\">\n",
       "  <thead>\n",
       "    <tr style=\"text-align: right;\">\n",
       "      <th></th>\n",
       "      <th>raw_frame_id</th>\n",
       "      <th>raw_point_id</th>\n",
       "      <th>summed_frame_point</th>\n",
       "      <th>raw_frame_point</th>\n",
       "    </tr>\n",
       "  </thead>\n",
       "  <tbody>\n",
       "    <tr>\n",
       "      <th>0</th>\n",
       "      <td>5108</td>\n",
       "      <td>16886</td>\n",
       "      <td>297|4746</td>\n",
       "      <td>5108|16886</td>\n",
       "    </tr>\n",
       "    <tr>\n",
       "      <th>1</th>\n",
       "      <td>5112</td>\n",
       "      <td>16772</td>\n",
       "      <td>297|4746</td>\n",
       "      <td>5112|16772</td>\n",
       "    </tr>\n",
       "    <tr>\n",
       "      <th>2</th>\n",
       "      <td>5108</td>\n",
       "      <td>17003</td>\n",
       "      <td>297|4789</td>\n",
       "      <td>5108|17003</td>\n",
       "    </tr>\n",
       "    <tr>\n",
       "      <th>3</th>\n",
       "      <td>5112</td>\n",
       "      <td>16898</td>\n",
       "      <td>297|4789</td>\n",
       "      <td>5112|16898</td>\n",
       "    </tr>\n",
       "    <tr>\n",
       "      <th>4</th>\n",
       "      <td>5108</td>\n",
       "      <td>17124</td>\n",
       "      <td>297|4833</td>\n",
       "      <td>5108|17124</td>\n",
       "    </tr>\n",
       "  </tbody>\n",
       "</table>\n",
       "</div>"
      ],
      "text/plain": [
       "   raw_frame_id  raw_point_id summed_frame_point raw_frame_point\n",
       "0          5108         16886           297|4746      5108|16886\n",
       "1          5112         16772           297|4746      5112|16772\n",
       "2          5108         17003           297|4789      5108|17003\n",
       "3          5112         16898           297|4789      5112|16898\n",
       "4          5108         17124           297|4833      5108|17124"
      ]
     },
     "execution_count": 91,
     "metadata": {},
     "output_type": "execute_result"
    }
   ],
   "source": [
    "raw_summed_join_df.head()"
   ]
  },
  {
   "cell_type": "code",
   "execution_count": 94,
   "metadata": {},
   "outputs": [],
   "source": [
    "summed_ms1_region_df = pd.merge(summed_ms1_region_df, raw_summed_join_df, how='left', left_on=['summed_frame_point'], right_on=['summed_frame_point'])"
   ]
  },
  {
   "cell_type": "code",
   "execution_count": 95,
   "metadata": {},
   "outputs": [],
   "source": [
    "summed_ms1_region_df.drop(['summed_frame_id','summed_frame_point','retention_time_secs'], axis=1, inplace=True)"
   ]
  },
  {
   "cell_type": "code",
   "execution_count": 96,
   "metadata": {},
   "outputs": [
    {
     "data": {
      "text/html": [
       "<div>\n",
       "<style scoped>\n",
       "    .dataframe tbody tr th:only-of-type {\n",
       "        vertical-align: middle;\n",
       "    }\n",
       "\n",
       "    .dataframe tbody tr th {\n",
       "        vertical-align: top;\n",
       "    }\n",
       "\n",
       "    .dataframe thead th {\n",
       "        text-align: right;\n",
       "    }\n",
       "</style>\n",
       "<table border=\"1\" class=\"dataframe\">\n",
       "  <thead>\n",
       "    <tr style=\"text-align: right;\">\n",
       "      <th></th>\n",
       "      <th>feature_id</th>\n",
       "      <th>feature_point_id</th>\n",
       "      <th>feature_peak_id</th>\n",
       "      <th>raw_frame_id</th>\n",
       "      <th>raw_point_id</th>\n",
       "      <th>raw_frame_point</th>\n",
       "    </tr>\n",
       "  </thead>\n",
       "  <tbody>\n",
       "    <tr>\n",
       "      <th>0</th>\n",
       "      <td>20</td>\n",
       "      <td>1</td>\n",
       "      <td>1</td>\n",
       "      <td>5108</td>\n",
       "      <td>16886</td>\n",
       "      <td>5108|16886</td>\n",
       "    </tr>\n",
       "    <tr>\n",
       "      <th>1</th>\n",
       "      <td>20</td>\n",
       "      <td>1</td>\n",
       "      <td>1</td>\n",
       "      <td>5112</td>\n",
       "      <td>16772</td>\n",
       "      <td>5112|16772</td>\n",
       "    </tr>\n",
       "    <tr>\n",
       "      <th>2</th>\n",
       "      <td>20</td>\n",
       "      <td>1</td>\n",
       "      <td>1</td>\n",
       "      <td>5112</td>\n",
       "      <td>16772</td>\n",
       "      <td>5112|16772</td>\n",
       "    </tr>\n",
       "    <tr>\n",
       "      <th>3</th>\n",
       "      <td>20</td>\n",
       "      <td>1</td>\n",
       "      <td>1</td>\n",
       "      <td>5118</td>\n",
       "      <td>17340</td>\n",
       "      <td>5118|17340</td>\n",
       "    </tr>\n",
       "    <tr>\n",
       "      <th>4</th>\n",
       "      <td>20</td>\n",
       "      <td>1</td>\n",
       "      <td>1</td>\n",
       "      <td>5120</td>\n",
       "      <td>17204</td>\n",
       "      <td>5120|17204</td>\n",
       "    </tr>\n",
       "  </tbody>\n",
       "</table>\n",
       "</div>"
      ],
      "text/plain": [
       "   feature_id  feature_point_id  feature_peak_id  raw_frame_id  raw_point_id  \\\n",
       "0          20                 1                1          5108         16886   \n",
       "1          20                 1                1          5112         16772   \n",
       "2          20                 1                1          5112         16772   \n",
       "3          20                 1                1          5118         17340   \n",
       "4          20                 1                1          5120         17204   \n",
       "\n",
       "  raw_frame_point  \n",
       "0      5108|16886  \n",
       "1      5112|16772  \n",
       "2      5112|16772  \n",
       "3      5118|17340  \n",
       "4      5120|17204  "
      ]
     },
     "execution_count": 96,
     "metadata": {},
     "output_type": "execute_result"
    }
   ],
   "source": [
    "summed_ms1_region_df.head()"
   ]
  },
  {
   "cell_type": "code",
   "execution_count": 97,
   "metadata": {},
   "outputs": [],
   "source": [
    "# get the raw frame point's intensity\n",
    "db_conn = sqlite3.connect(CONVERTED_DATABASE_NAME)\n",
    "raw_frames_df = pd.read_sql_query(\"select * from frames where raw_frame_point in {}\".format(tuple(summed_ms1_region_df.raw_frame_point.astype(str))), db_conn)\n",
    "db_conn.close()"
   ]
  },
  {
   "cell_type": "code",
   "execution_count": 98,
   "metadata": {},
   "outputs": [],
   "source": [
    "summed_ms1_region_df = pd.merge(summed_ms1_region_df, raw_frames_df, how='left', left_on=['raw_frame_point'], right_on=['raw_frame_point'])"
   ]
  },
  {
   "cell_type": "code",
   "execution_count": 99,
   "metadata": {},
   "outputs": [
    {
     "data": {
      "text/html": [
       "<div>\n",
       "<style scoped>\n",
       "    .dataframe tbody tr th:only-of-type {\n",
       "        vertical-align: middle;\n",
       "    }\n",
       "\n",
       "    .dataframe tbody tr th {\n",
       "        vertical-align: top;\n",
       "    }\n",
       "\n",
       "    .dataframe thead th {\n",
       "        text-align: right;\n",
       "    }\n",
       "</style>\n",
       "<table border=\"1\" class=\"dataframe\">\n",
       "  <thead>\n",
       "    <tr style=\"text-align: right;\">\n",
       "      <th></th>\n",
       "      <th>feature_id</th>\n",
       "      <th>feature_point_id</th>\n",
       "      <th>feature_peak_id</th>\n",
       "      <th>raw_frame_id</th>\n",
       "      <th>raw_point_id</th>\n",
       "      <th>raw_frame_point</th>\n",
       "      <th>frame_id</th>\n",
       "      <th>point_id</th>\n",
       "      <th>mz</th>\n",
       "      <th>scan</th>\n",
       "      <th>intensity</th>\n",
       "      <th>peak_id</th>\n",
       "      <th>retention_time_secs</th>\n",
       "    </tr>\n",
       "  </thead>\n",
       "  <tbody>\n",
       "    <tr>\n",
       "      <th>0</th>\n",
       "      <td>20</td>\n",
       "      <td>1</td>\n",
       "      <td>1</td>\n",
       "      <td>5108</td>\n",
       "      <td>16886</td>\n",
       "      <td>5108|16886</td>\n",
       "      <td>5108</td>\n",
       "      <td>16886</td>\n",
       "      <td>594.797945</td>\n",
       "      <td>403</td>\n",
       "      <td>114</td>\n",
       "      <td>0</td>\n",
       "      <td>390.151770</td>\n",
       "    </tr>\n",
       "    <tr>\n",
       "      <th>1</th>\n",
       "      <td>20</td>\n",
       "      <td>1</td>\n",
       "      <td>1</td>\n",
       "      <td>5112</td>\n",
       "      <td>16772</td>\n",
       "      <td>5112|16772</td>\n",
       "      <td>5112</td>\n",
       "      <td>16772</td>\n",
       "      <td>594.797945</td>\n",
       "      <td>403</td>\n",
       "      <td>74</td>\n",
       "      <td>0</td>\n",
       "      <td>390.456859</td>\n",
       "    </tr>\n",
       "    <tr>\n",
       "      <th>2</th>\n",
       "      <td>20</td>\n",
       "      <td>1</td>\n",
       "      <td>1</td>\n",
       "      <td>5112</td>\n",
       "      <td>16772</td>\n",
       "      <td>5112|16772</td>\n",
       "      <td>5112</td>\n",
       "      <td>16772</td>\n",
       "      <td>594.797945</td>\n",
       "      <td>403</td>\n",
       "      <td>74</td>\n",
       "      <td>0</td>\n",
       "      <td>390.456859</td>\n",
       "    </tr>\n",
       "    <tr>\n",
       "      <th>3</th>\n",
       "      <td>20</td>\n",
       "      <td>1</td>\n",
       "      <td>1</td>\n",
       "      <td>5118</td>\n",
       "      <td>17340</td>\n",
       "      <td>5118|17340</td>\n",
       "      <td>5118</td>\n",
       "      <td>17340</td>\n",
       "      <td>594.794099</td>\n",
       "      <td>403</td>\n",
       "      <td>263</td>\n",
       "      <td>0</td>\n",
       "      <td>390.913931</td>\n",
       "    </tr>\n",
       "    <tr>\n",
       "      <th>4</th>\n",
       "      <td>20</td>\n",
       "      <td>1</td>\n",
       "      <td>1</td>\n",
       "      <td>5120</td>\n",
       "      <td>17204</td>\n",
       "      <td>5120|17204</td>\n",
       "      <td>5120</td>\n",
       "      <td>17204</td>\n",
       "      <td>594.790254</td>\n",
       "      <td>403</td>\n",
       "      <td>136</td>\n",
       "      <td>0</td>\n",
       "      <td>391.066211</td>\n",
       "    </tr>\n",
       "  </tbody>\n",
       "</table>\n",
       "</div>"
      ],
      "text/plain": [
       "   feature_id  feature_point_id  feature_peak_id  raw_frame_id  raw_point_id  \\\n",
       "0          20                 1                1          5108         16886   \n",
       "1          20                 1                1          5112         16772   \n",
       "2          20                 1                1          5112         16772   \n",
       "3          20                 1                1          5118         17340   \n",
       "4          20                 1                1          5120         17204   \n",
       "\n",
       "  raw_frame_point  frame_id  point_id          mz  scan  intensity  peak_id  \\\n",
       "0      5108|16886      5108     16886  594.797945   403        114        0   \n",
       "1      5112|16772      5112     16772  594.797945   403         74        0   \n",
       "2      5112|16772      5112     16772  594.797945   403         74        0   \n",
       "3      5118|17340      5118     17340  594.794099   403        263        0   \n",
       "4      5120|17204      5120     17204  594.790254   403        136        0   \n",
       "\n",
       "   retention_time_secs  \n",
       "0           390.151770  \n",
       "1           390.456859  \n",
       "2           390.456859  \n",
       "3           390.913931  \n",
       "4           391.066211  "
      ]
     },
     "execution_count": 99,
     "metadata": {},
     "output_type": "execute_result"
    }
   ],
   "source": [
    "summed_ms1_region_df.head()"
   ]
  },
  {
   "cell_type": "code",
   "execution_count": 100,
   "metadata": {},
   "outputs": [],
   "source": [
    "summed_ms1_region_df.drop(['peak_id','frame_id','raw_frame_point','point_id'], axis=1, inplace=True)"
   ]
  },
  {
   "cell_type": "code",
   "execution_count": 101,
   "metadata": {},
   "outputs": [
    {
     "data": {
      "text/html": [
       "<div>\n",
       "<style scoped>\n",
       "    .dataframe tbody tr th:only-of-type {\n",
       "        vertical-align: middle;\n",
       "    }\n",
       "\n",
       "    .dataframe tbody tr th {\n",
       "        vertical-align: top;\n",
       "    }\n",
       "\n",
       "    .dataframe thead th {\n",
       "        text-align: right;\n",
       "    }\n",
       "</style>\n",
       "<table border=\"1\" class=\"dataframe\">\n",
       "  <thead>\n",
       "    <tr style=\"text-align: right;\">\n",
       "      <th></th>\n",
       "      <th>feature_id</th>\n",
       "      <th>feature_point_id</th>\n",
       "      <th>feature_peak_id</th>\n",
       "      <th>raw_frame_id</th>\n",
       "      <th>raw_point_id</th>\n",
       "      <th>mz</th>\n",
       "      <th>scan</th>\n",
       "      <th>intensity</th>\n",
       "      <th>retention_time_secs</th>\n",
       "    </tr>\n",
       "  </thead>\n",
       "  <tbody>\n",
       "    <tr>\n",
       "      <th>0</th>\n",
       "      <td>20</td>\n",
       "      <td>1</td>\n",
       "      <td>1</td>\n",
       "      <td>5108</td>\n",
       "      <td>16886</td>\n",
       "      <td>594.797945</td>\n",
       "      <td>403</td>\n",
       "      <td>114</td>\n",
       "      <td>390.151770</td>\n",
       "    </tr>\n",
       "    <tr>\n",
       "      <th>1</th>\n",
       "      <td>20</td>\n",
       "      <td>1</td>\n",
       "      <td>1</td>\n",
       "      <td>5112</td>\n",
       "      <td>16772</td>\n",
       "      <td>594.797945</td>\n",
       "      <td>403</td>\n",
       "      <td>74</td>\n",
       "      <td>390.456859</td>\n",
       "    </tr>\n",
       "    <tr>\n",
       "      <th>2</th>\n",
       "      <td>20</td>\n",
       "      <td>1</td>\n",
       "      <td>1</td>\n",
       "      <td>5112</td>\n",
       "      <td>16772</td>\n",
       "      <td>594.797945</td>\n",
       "      <td>403</td>\n",
       "      <td>74</td>\n",
       "      <td>390.456859</td>\n",
       "    </tr>\n",
       "    <tr>\n",
       "      <th>3</th>\n",
       "      <td>20</td>\n",
       "      <td>1</td>\n",
       "      <td>1</td>\n",
       "      <td>5118</td>\n",
       "      <td>17340</td>\n",
       "      <td>594.794099</td>\n",
       "      <td>403</td>\n",
       "      <td>263</td>\n",
       "      <td>390.913931</td>\n",
       "    </tr>\n",
       "    <tr>\n",
       "      <th>4</th>\n",
       "      <td>20</td>\n",
       "      <td>1</td>\n",
       "      <td>1</td>\n",
       "      <td>5120</td>\n",
       "      <td>17204</td>\n",
       "      <td>594.790254</td>\n",
       "      <td>403</td>\n",
       "      <td>136</td>\n",
       "      <td>391.066211</td>\n",
       "    </tr>\n",
       "  </tbody>\n",
       "</table>\n",
       "</div>"
      ],
      "text/plain": [
       "   feature_id  feature_point_id  feature_peak_id  raw_frame_id  raw_point_id  \\\n",
       "0          20                 1                1          5108         16886   \n",
       "1          20                 1                1          5112         16772   \n",
       "2          20                 1                1          5112         16772   \n",
       "3          20                 1                1          5118         17340   \n",
       "4          20                 1                1          5120         17204   \n",
       "\n",
       "           mz  scan  intensity  retention_time_secs  \n",
       "0  594.797945   403        114           390.151770  \n",
       "1  594.797945   403         74           390.456859  \n",
       "2  594.797945   403         74           390.456859  \n",
       "3  594.794099   403        263           390.913931  \n",
       "4  594.790254   403        136           391.066211  "
      ]
     },
     "execution_count": 101,
     "metadata": {},
     "output_type": "execute_result"
    }
   ],
   "source": [
    "summed_ms1_region_df.head()"
   ]
  },
  {
   "cell_type": "code",
   "execution_count": 102,
   "metadata": {},
   "outputs": [],
   "source": [
    "# for each feature peak, use the raw points to find the RT and drift intensity-weighted centroids\n",
    "peak_ids = summed_ms1_region_df.feature_peak_id.unique()"
   ]
  },
  {
   "cell_type": "code",
   "execution_count": 103,
   "metadata": {},
   "outputs": [
    {
     "name": "stdout",
     "output_type": "stream",
     "text": [
      "peak 1, scan 411.781614508, rt 393.086264523, mz 594.79684333\n",
      "peak 2, scan 411.831093946, rt 393.107173714, mz 595.298114951\n",
      "peak 3, scan 411.758421313, rt 392.924126359, mz 595.799648344\n",
      "peak 4, scan 415.747330961, rt 393.064897645, mz 596.302783139\n"
     ]
    }
   ],
   "source": [
    "import peakutils\n",
    "for peak_id in peak_ids:\n",
    "    peak_points_df = summed_ms1_region_df.loc[summed_ms1_region_df.feature_peak_id==peak_id]\n",
    "    centroid_scan = peakutils.centroid(peak_points_df.scan.astype(float), peak_points_df.intensity)\n",
    "    centroid_rt = peakutils.centroid(peak_points_df.retention_time_secs.astype(float), peak_points_df.intensity)\n",
    "    centroid_mz = peakutils.centroid(peak_points_df.mz.astype(float), peak_points_df.intensity)\n",
    "    print(\"peak {}, scan {}, rt {}, mz {}\".format(peak_id, centroid_scan, centroid_rt, centroid_mz))"
   ]
  },
  {
   "cell_type": "code",
   "execution_count": 104,
   "metadata": {},
   "outputs": [],
   "source": [
    "tableau20 = [(31, 119, 180), (174, 199, 232), (255, 127, 14), (255, 187, 120),  \n",
    "             (44, 160, 44), (152, 223, 138), (214, 39, 40), (255, 152, 150),  \n",
    "             (148, 103, 189), (197, 176, 213), (140, 86, 75), (196, 156, 148),  \n",
    "             (227, 119, 194), (247, 182, 210), (127, 127, 127), (199, 199, 199),  \n",
    "             (188, 189, 34), (219, 219, 141), (23, 190, 207), (158, 218, 229)]\n",
    "# Rescale to values between 0 and 1 \n",
    "for i in range(len(tableau20)):  \n",
    "    r, g, b = tableau20[i]  \n",
    "    tableau20[i] = (r / 255., g / 255., b / 255.)"
   ]
  },
  {
   "cell_type": "code",
   "execution_count": 105,
   "metadata": {},
   "outputs": [
    {
     "data": {
      "image/png": "[encoded data removed]",
      "text/plain": [
       "<Figure size 432x288 with 1 Axes>"
      ]
     },
     "metadata": {},
     "output_type": "display_data"
    }
   ],
   "source": [
    "fig, ax = plt.subplots()\n",
    "for idx,peak_id in enumerate(peak_ids):\n",
    "    peak_points_df = summed_ms1_region_df.loc[summed_ms1_region_df.feature_peak_id==peak_id]\n",
    "    ax.plot(peak_points_df.mz, peak_points_df.intensity, marker='o', color=tableau20[idx], linestyle='', ms=5, label=\"peak {}\".format(peak_id))\n",
    "plt.legend(loc='best')\n",
    "plt.xlabel('m/z')\n",
    "plt.ylabel('intensity')\n",
    "plt.suptitle('Raw points comprising the isotopic peaks for feature {}'.format(feature_id))\n",
    "plt.margins(0.06)\n",
    "plt.show()"
   ]
  },
  {
   "cell_type": "code",
   "execution_count": 106,
   "metadata": {},
   "outputs": [
    {
     "data": {
      "image/png": "[encoded data removed]",
      "text/plain": [
       "<Figure size 432x288 with 1 Axes>"
      ]
     },
     "metadata": {},
     "output_type": "display_data"
    }
   ],
   "source": [
    "fig, ax = plt.subplots()\n",
    "for idx,peak_id in enumerate(peak_ids):\n",
    "    peak_points_df = summed_ms1_region_df.loc[summed_ms1_region_df.feature_peak_id==peak_id]\n",
    "    ax.plot(peak_points_df.mz, peak_points_df.scan, marker='o', color=tableau20[idx], linestyle='', ms=5, label=\"peak {}\".format(peak_id))\n",
    "plt.legend(loc='best')\n",
    "plt.xlabel('m/z')\n",
    "plt.ylabel('scan')\n",
    "plt.gca().invert_yaxis()\n",
    "plt.suptitle('Raw points comprising the isotopic peaks for feature {}'.format(feature_id))\n",
    "plt.margins(0.06)\n",
    "plt.show()"
   ]
  },
  {
   "cell_type": "code",
   "execution_count": 107,
   "metadata": {},
   "outputs": [
    {
     "data": {
      "image/png": "[encoded data removed]",
      "text/plain": [
       "<Figure size 432x288 with 1 Axes>"
      ]
     },
     "metadata": {},
     "output_type": "display_data"
    }
   ],
   "source": [
    "fig, ax = plt.subplots()\n",
    "for idx,peak_id in enumerate(peak_ids):\n",
    "    peak_points_df = summed_ms1_region_df.loc[summed_ms1_region_df.feature_peak_id==peak_id]\n",
    "    ax.plot(peak_points_df.scan, peak_points_df.intensity, marker='o', color=tableau20[idx], linestyle='', ms=5, label=\"peak {}\".format(peak_id))\n",
    "plt.legend(loc='best')\n",
    "plt.xlabel('scan')\n",
    "plt.ylabel('intensity')\n",
    "plt.suptitle('Raw points comprising the isotopic peaks for feature {}'.format(feature_id))\n",
    "plt.margins(0.06)\n",
    "plt.show()"
   ]
  },
  {
   "cell_type": "code",
   "execution_count": 108,
   "metadata": {},
   "outputs": [
    {
     "data": {
      "image/png": "[encoded data removed]",
      "text/plain": [
       "<Figure size 432x288 with 1 Axes>"
      ]
     },
     "metadata": {},
     "output_type": "display_data"
    }
   ],
   "source": [
    "fig, ax = plt.subplots()\n",
    "for idx,peak_id in enumerate(peak_ids):\n",
    "    peak_points_df = summed_ms1_region_df.loc[summed_ms1_region_df.feature_peak_id==peak_id].copy()\n",
    "    peak_points_df.sort_values(by=['raw_frame_id'], inplace=True)\n",
    "    ax.plot(peak_points_df.retention_time_secs, peak_points_df.intensity, marker='o', color=tableau20[idx], linestyle='', ms=5, label=\"peak {}\".format(peak_id))\n",
    "plt.legend(loc='best')\n",
    "plt.xlabel('retention time (secs)')\n",
    "plt.ylabel('intensity')\n",
    "plt.suptitle('Raw points comprising the isotopic peaks for feature {}'.format(feature_id))\n",
    "plt.margins(0.06)\n",
    "plt.show()"
   ]
  },
  {
   "cell_type": "code",
   "execution_count": 109,
   "metadata": {},
   "outputs": [
    {
     "data": {
      "text/html": [
       "<div>\n",
       "<style scoped>\n",
       "    .dataframe tbody tr th:only-of-type {\n",
       "        vertical-align: middle;\n",
       "    }\n",
       "\n",
       "    .dataframe tbody tr th {\n",
       "        vertical-align: top;\n",
       "    }\n",
       "\n",
       "    .dataframe thead th {\n",
       "        text-align: right;\n",
       "    }\n",
       "</style>\n",
       "<table border=\"1\" class=\"dataframe\">\n",
       "  <thead>\n",
       "    <tr style=\"text-align: right;\">\n",
       "      <th></th>\n",
       "      <th>feature_id</th>\n",
       "      <th>feature_point_id</th>\n",
       "      <th>feature_peak_id</th>\n",
       "      <th>raw_frame_id</th>\n",
       "      <th>raw_point_id</th>\n",
       "      <th>mz</th>\n",
       "      <th>scan</th>\n",
       "      <th>intensity</th>\n",
       "      <th>retention_time_secs</th>\n",
       "    </tr>\n",
       "  </thead>\n",
       "  <tbody>\n",
       "    <tr>\n",
       "      <th>0</th>\n",
       "      <td>20</td>\n",
       "      <td>1</td>\n",
       "      <td>1</td>\n",
       "      <td>5108</td>\n",
       "      <td>16886</td>\n",
       "      <td>594.797945</td>\n",
       "      <td>403</td>\n",
       "      <td>114</td>\n",
       "      <td>390.151770</td>\n",
       "    </tr>\n",
       "    <tr>\n",
       "      <th>1</th>\n",
       "      <td>20</td>\n",
       "      <td>1</td>\n",
       "      <td>1</td>\n",
       "      <td>5112</td>\n",
       "      <td>16772</td>\n",
       "      <td>594.797945</td>\n",
       "      <td>403</td>\n",
       "      <td>74</td>\n",
       "      <td>390.456859</td>\n",
       "    </tr>\n",
       "    <tr>\n",
       "      <th>2</th>\n",
       "      <td>20</td>\n",
       "      <td>1</td>\n",
       "      <td>1</td>\n",
       "      <td>5112</td>\n",
       "      <td>16772</td>\n",
       "      <td>594.797945</td>\n",
       "      <td>403</td>\n",
       "      <td>74</td>\n",
       "      <td>390.456859</td>\n",
       "    </tr>\n",
       "    <tr>\n",
       "      <th>3</th>\n",
       "      <td>20</td>\n",
       "      <td>1</td>\n",
       "      <td>1</td>\n",
       "      <td>5118</td>\n",
       "      <td>17340</td>\n",
       "      <td>594.794099</td>\n",
       "      <td>403</td>\n",
       "      <td>263</td>\n",
       "      <td>390.913931</td>\n",
       "    </tr>\n",
       "    <tr>\n",
       "      <th>4</th>\n",
       "      <td>20</td>\n",
       "      <td>1</td>\n",
       "      <td>1</td>\n",
       "      <td>5120</td>\n",
       "      <td>17204</td>\n",
       "      <td>594.790254</td>\n",
       "      <td>403</td>\n",
       "      <td>136</td>\n",
       "      <td>391.066211</td>\n",
       "    </tr>\n",
       "  </tbody>\n",
       "</table>\n",
       "</div>"
      ],
      "text/plain": [
       "   feature_id  feature_point_id  feature_peak_id  raw_frame_id  raw_point_id  \\\n",
       "0          20                 1                1          5108         16886   \n",
       "1          20                 1                1          5112         16772   \n",
       "2          20                 1                1          5112         16772   \n",
       "3          20                 1                1          5118         17340   \n",
       "4          20                 1                1          5120         17204   \n",
       "\n",
       "           mz  scan  intensity  retention_time_secs  \n",
       "0  594.797945   403        114           390.151770  \n",
       "1  594.797945   403         74           390.456859  \n",
       "2  594.797945   403         74           390.456859  \n",
       "3  594.794099   403        263           390.913931  \n",
       "4  594.790254   403        136           391.066211  "
      ]
     },
     "execution_count": 109,
     "metadata": {},
     "output_type": "execute_result"
    }
   ],
   "source": [
    "summed_ms1_region_df.head()"
   ]
  },
  {
   "cell_type": "code",
   "execution_count": 110,
   "metadata": {},
   "outputs": [],
   "source": [
    "summed_ms1_region_df.rename(columns={\"retention_time_secs\":\"rt\"}, inplace=True)"
   ]
  },
  {
   "cell_type": "code",
   "execution_count": 111,
   "metadata": {},
   "outputs": [],
   "source": [
    "# get the raw frame point's intensity\n",
    "min_mz = summed_ms1_region_df.mz.min()\n",
    "max_mz = summed_ms1_region_df.mz.max()\n",
    "min_scan = summed_ms1_region_df.scan.min()\n",
    "max_scan = summed_ms1_region_df.scan.max()\n",
    "min_rt = summed_ms1_region_df.rt.min()\n",
    "max_rt = summed_ms1_region_df.rt.max()\n",
    "\n",
    "db_conn = sqlite3.connect(CONVERTED_DATABASE_NAME)\n",
    "raw_points_in_region_df = pd.read_sql_query(\"select * from frames where retention_time_secs >= {} and retention_time_secs <= {} and scan >= {} and scan <= {} and mz >= {} and mz <= {}\".format(min_rt, max_rt, min_scan, max_scan, min_mz, max_mz), db_conn)\n",
    "db_conn.close()"
   ]
  },
  {
   "cell_type": "code",
   "execution_count": 112,
   "metadata": {},
   "outputs": [
    {
     "data": {
      "image/png": "[encoded data removed]",
      "text/plain": [
       "<Figure size 432x288 with 1 Axes>"
      ]
     },
     "metadata": {},
     "output_type": "display_data"
    }
   ],
   "source": [
    "fig, ax = plt.subplots()\n",
    "ax.plot(raw_points_in_region_df.mz, raw_points_in_region_df.intensity, marker='o', color='grey', linestyle='', ms=5, label=\"unassigned\")\n",
    "for idx,peak_id in enumerate(peak_ids):\n",
    "    peak_points_df = summed_ms1_region_df.loc[summed_ms1_region_df.feature_peak_id==peak_id]\n",
    "    ax.plot(peak_points_df.mz, peak_points_df.intensity, marker='o', color=tableau20[idx], linestyle='', ms=5, label=\"peak {}\".format(peak_id))\n",
    "plt.legend(loc='best')\n",
    "plt.xlabel('m/z')\n",
    "plt.ylabel('intensity')\n",
    "plt.suptitle('Raw points comprising the isotopic peaks for feature {}'.format(feature_id))\n",
    "plt.margins(0.06)\n",
    "plt.show()"
   ]
  },
  {
   "cell_type": "code",
   "execution_count": 113,
   "metadata": {},
   "outputs": [
    {
     "data": {
      "image/png": "[encoded data removed]",
      "text/plain": [
       "<Figure size 432x288 with 1 Axes>"
      ]
     },
     "metadata": {},
     "output_type": "display_data"
    }
   ],
   "source": [
    "fig, ax = plt.subplots()\n",
    "ax.plot(raw_points_in_region_df.mz, raw_points_in_region_df.scan, marker='o', color='grey', linestyle='', ms=5, label=\"unassigned\")\n",
    "for idx,peak_id in enumerate(peak_ids):\n",
    "    peak_points_df = summed_ms1_region_df.loc[summed_ms1_region_df.feature_peak_id==peak_id]\n",
    "    ax.plot(peak_points_df.mz, peak_points_df.scan, marker='o', color=tableau20[idx], linestyle='', ms=5, label=\"peak {}\".format(peak_id))\n",
    "plt.legend(loc='best')\n",
    "plt.xlabel('m/z')\n",
    "plt.ylabel('scan')\n",
    "plt.gca().invert_yaxis()\n",
    "plt.suptitle('Raw points comprising the isotopic peaks for feature {}'.format(feature_id))\n",
    "plt.margins(0.06)\n",
    "plt.show()"
   ]
  },
  {
   "cell_type": "code",
   "execution_count": null,
   "metadata": {},
   "outputs": [],
   "source": []
  }
 ],
 "metadata": {
  "kernelspec": {
   "display_name": "Python 2",
   "language": "python",
   "name": "python2"
  },
  "language_info": {
   "codemirror_mode": {
    "name": "ipython",
    "version": 2
   },
   "file_extension": ".py",
   "mimetype": "text/x-python",
   "name": "python",
   "nbconvert_exporter": "python",
   "pygments_lexer": "ipython2",
   "version": "2.7.15"
  }
 },
 "nbformat": 4,
 "nbformat_minor": 2
}
