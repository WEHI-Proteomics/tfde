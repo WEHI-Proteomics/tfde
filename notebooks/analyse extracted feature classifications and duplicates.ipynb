{
 "cells": [
  {
   "cell_type": "code",
   "execution_count": 1,
   "metadata": {},
   "outputs": [],
   "source": [
    "import pandas as pd\n",
    "import numpy as np\n",
    "import sqlite3\n",
    "import json\n",
    "import matplotlib.pyplot as plt\n",
    "from scipy.spatial import distance\n",
    "from sklearn import preprocessing"
   ]
  },
  {
   "cell_type": "code",
   "execution_count": 2,
   "metadata": {},
   "outputs": [],
   "source": [
    "EXTRACTED_FEATURES_DB_NAME = '/data/experiments/YHE-R/extracted-features/extracted-features.sqlite'"
   ]
  },
  {
   "cell_type": "code",
   "execution_count": 3,
   "metadata": {},
   "outputs": [],
   "source": [
    "db_conn = sqlite3.connect(EXTRACTED_FEATURES_DB_NAME)\n",
    "sequences_df = pd.read_sql_query(\"select * from features\", db_conn)\n",
    "db_conn.close()"
   ]
  },
  {
   "cell_type": "code",
   "execution_count": 4,
   "metadata": {},
   "outputs": [
    {
     "data": {
      "text/plain": [
       "array(['decoy', 'target'], dtype=object)"
      ]
     },
     "execution_count": 4,
     "metadata": {},
     "output_type": "execute_result"
    }
   ],
   "source": [
    "sequences_df.classed_as.unique()"
   ]
  },
  {
   "cell_type": "code",
   "execution_count": 5,
   "metadata": {},
   "outputs": [
    {
     "data": {
      "text/plain": [
       "Index(['sequence', 'charge', 'file_idx', 'peak_idx', 'target_coords',\n",
       "       'theoretical_mz', 'q_value', 'delta_mz_ppm', 'delta_rt', 'delta_scan',\n",
       "       'fwhm_rt_0', 'fwhm_scan_0', 'geometric_mean_0_1',\n",
       "       'geometric_mean_0_1_2', 'isotope_0_1_mz_delta_ppm',\n",
       "       'isotope_0_1_rt_delta', 'isotope_0_1_scan_delta',\n",
       "       'isotope_0_2_mz_delta_ppm', 'isotope_0_2_rt_delta',\n",
       "       'isotope_0_2_scan_delta', 'monoisotope_auc_over_isotope_peak_auc_sum',\n",
       "       'monoisotope_int_over_isotope_peak_int_sum', 'mz_delta_ppm_std_dev_0',\n",
       "       'mz_delta_ppm_std_dev_1', 'number_of_frames_0', 'number_of_frames_1',\n",
       "       'number_of_frames_2', 'number_of_missing_frames_0',\n",
       "       'number_of_missing_frames_1', 'number_of_missing_frames_2',\n",
       "       'peak_base_width_rt_0', 'peak_base_width_scan_0', 'r_squared_phr',\n",
       "       'rt_isotope_correlation', 'rt_isotope_cv', 'rt_peak_symmetry_0',\n",
       "       'rt_peak_symmetry_1', 'rt_peak_symmetry_2', 'scan_isotope_correlation',\n",
       "       'scan_isotope_cv', 'scan_peak_symmetry_0', 'scan_peak_symmetry_1',\n",
       "       'scan_peak_symmetry_2', 'classed_as', 'prob_decoy', 'prob_target',\n",
       "       'inferred', 'intensity', 'isotope_1_filtered_points_l',\n",
       "       'isotope_1_rt_bounds', 'isotope_1_scan_bounds',\n",
       "       'isotope_2_filtered_points_l', 'isotope_2_rt_bounds',\n",
       "       'isotope_2_scan_bounds', 'isotope_idx_not_in_saturation',\n",
       "       'isotope_intensities_l', 'mono_filtered_points_l', 'mono_rt_bounds',\n",
       "       'mono_scan_bounds', 'monoisotopic_mass', 'monoisotopic_mz_centroid',\n",
       "       'monoisotopic_mz_delta_ppm', 'number_of_isotopes',\n",
       "       'peak_proportion_intensity', 'peak_proportions', 'rt_apex', 'scan_apex',\n",
       "       'run_name', 'group', 'human'],\n",
       "      dtype='object')"
      ]
     },
     "execution_count": 5,
     "metadata": {},
     "output_type": "execute_result"
    }
   ],
   "source": [
    "sequences_df.columns"
   ]
  },
  {
   "cell_type": "code",
   "execution_count": 7,
   "metadata": {},
   "outputs": [
    {
     "data": {
      "text/html": [
       "<div>\n",
       "<style scoped>\n",
       "    .dataframe tbody tr th:only-of-type {\n",
       "        vertical-align: middle;\n",
       "    }\n",
       "\n",
       "    .dataframe tbody tr th {\n",
       "        vertical-align: top;\n",
       "    }\n",
       "\n",
       "    .dataframe thead th {\n",
       "        text-align: right;\n",
       "    }\n",
       "</style>\n",
       "<table border=\"1\" class=\"dataframe\">\n",
       "  <thead>\n",
       "    <tr style=\"text-align: right;\">\n",
       "      <th></th>\n",
       "      <th>sequence</th>\n",
       "      <th>charge</th>\n",
       "      <th>run_name</th>\n",
       "      <th>human</th>\n",
       "      <th>group</th>\n",
       "      <th>classed_as</th>\n",
       "    </tr>\n",
       "  </thead>\n",
       "  <tbody>\n",
       "    <tr>\n",
       "      <th>170094</th>\n",
       "      <td>TAIEAMAAVFGGTQSLHTNSFDEALGLPTVK</td>\n",
       "      <td>3</td>\n",
       "      <td>YHE211_10_Slot1-1_1_3006</td>\n",
       "      <td>1</td>\n",
       "      <td>YHE211</td>\n",
       "      <td>target</td>\n",
       "    </tr>\n",
       "    <tr>\n",
       "      <th>368236</th>\n",
       "      <td>M[15.9949]EAWGGPEELGLAPAPNPR</td>\n",
       "      <td>2</td>\n",
       "      <td>YHE211_08_Slot1-1_1_3004</td>\n",
       "      <td>1</td>\n",
       "      <td>YHE211</td>\n",
       "      <td>target</td>\n",
       "    </tr>\n",
       "    <tr>\n",
       "      <th>108171</th>\n",
       "      <td>Q[-17.0265]DLM[15.9949]NIAGTTLSSK</td>\n",
       "      <td>2</td>\n",
       "      <td>YHE114_10_Slot1-1_1_3017</td>\n",
       "      <td>1</td>\n",
       "      <td>YHE114</td>\n",
       "      <td>target</td>\n",
       "    </tr>\n",
       "    <tr>\n",
       "      <th>44428</th>\n",
       "      <td>LLGGVTIAQGGVLPNIQAVLLPK</td>\n",
       "      <td>2</td>\n",
       "      <td>YHE114_06_Slot1-1_1_3013</td>\n",
       "      <td>1</td>\n",
       "      <td>YHE114</td>\n",
       "      <td>target</td>\n",
       "    </tr>\n",
       "    <tr>\n",
       "      <th>645403</th>\n",
       "      <td>AVAFQNPQTHVIENLHAAAYR</td>\n",
       "      <td>3</td>\n",
       "      <td>YHE010_02_Slot1-1_1_2987</td>\n",
       "      <td>1</td>\n",
       "      <td>YHE010</td>\n",
       "      <td>target</td>\n",
       "    </tr>\n",
       "  </tbody>\n",
       "</table>\n",
       "</div>"
      ],
      "text/plain": [
       "                                 sequence  charge                  run_name  \\\n",
       "170094    TAIEAMAAVFGGTQSLHTNSFDEALGLPTVK       3  YHE211_10_Slot1-1_1_3006   \n",
       "368236       M[15.9949]EAWGGPEELGLAPAPNPR       2  YHE211_08_Slot1-1_1_3004   \n",
       "108171  Q[-17.0265]DLM[15.9949]NIAGTTLSSK       2  YHE114_10_Slot1-1_1_3017   \n",
       "44428             LLGGVTIAQGGVLPNIQAVLLPK       2  YHE114_06_Slot1-1_1_3013   \n",
       "645403              AVAFQNPQTHVIENLHAAAYR       3  YHE010_02_Slot1-1_1_2987   \n",
       "\n",
       "        human   group classed_as  \n",
       "170094      1  YHE211     target  \n",
       "368236      1  YHE211     target  \n",
       "108171      1  YHE114     target  \n",
       "44428       1  YHE114     target  \n",
       "645403      1  YHE010     target  "
      ]
     },
     "execution_count": 7,
     "metadata": {},
     "output_type": "execute_result"
    }
   ],
   "source": [
    "sequences_df[['sequence','charge','run_name','human','group','classed_as']].sample(n=5)"
   ]
  },
  {
   "cell_type": "code",
   "execution_count": 8,
   "metadata": {},
   "outputs": [],
   "source": [
    "sequences_df['group'] = sequences_df.run_name.apply(lambda x: x.split('_')[0])"
   ]
  },
  {
   "cell_type": "code",
   "execution_count": 10,
   "metadata": {},
   "outputs": [
    {
     "data": {
      "text/html": [
       "<div>\n",
       "<style scoped>\n",
       "    .dataframe tbody tr th:only-of-type {\n",
       "        vertical-align: middle;\n",
       "    }\n",
       "\n",
       "    .dataframe tbody tr th {\n",
       "        vertical-align: top;\n",
       "    }\n",
       "\n",
       "    .dataframe thead th {\n",
       "        text-align: right;\n",
       "    }\n",
       "</style>\n",
       "<table border=\"1\" class=\"dataframe\">\n",
       "  <thead>\n",
       "    <tr style=\"text-align: right;\">\n",
       "      <th></th>\n",
       "      <th>sequence</th>\n",
       "      <th>charge</th>\n",
       "      <th>run_name</th>\n",
       "      <th>human</th>\n",
       "      <th>group</th>\n",
       "    </tr>\n",
       "  </thead>\n",
       "  <tbody>\n",
       "    <tr>\n",
       "      <th>120724</th>\n",
       "      <td>DIELHLESSSHQETLDHIQK</td>\n",
       "      <td>4</td>\n",
       "      <td>YHE114_07_Slot1-1_1_3014</td>\n",
       "      <td>1</td>\n",
       "      <td>YHE114</td>\n",
       "    </tr>\n",
       "    <tr>\n",
       "      <th>4927</th>\n",
       "      <td>DYIAYAHSTIMPR</td>\n",
       "      <td>2</td>\n",
       "      <td>YHE114_11_Slot1-1_1_3043</td>\n",
       "      <td>1</td>\n",
       "      <td>YHE114</td>\n",
       "    </tr>\n",
       "    <tr>\n",
       "      <th>155271</th>\n",
       "      <td>GDLENAFLNLVQCIQNKPLYFADR</td>\n",
       "      <td>3</td>\n",
       "      <td>YHE211_10_Slot1-1_1_3006</td>\n",
       "      <td>1</td>\n",
       "      <td>YHE211</td>\n",
       "    </tr>\n",
       "    <tr>\n",
       "      <th>654868</th>\n",
       "      <td>IAQDLEMYGVNYFSIK</td>\n",
       "      <td>2</td>\n",
       "      <td>YHE010_02_Slot1-1_1_2987</td>\n",
       "      <td>1</td>\n",
       "      <td>YHE010</td>\n",
       "    </tr>\n",
       "    <tr>\n",
       "      <th>809895</th>\n",
       "      <td>QTRPVQSWLCDPDAMEQGETPLTMLQSQVPNIVK</td>\n",
       "      <td>3</td>\n",
       "      <td>YHE114_05_Slot1-1_1_3012</td>\n",
       "      <td>1</td>\n",
       "      <td>YHE114</td>\n",
       "    </tr>\n",
       "  </tbody>\n",
       "</table>\n",
       "</div>"
      ],
      "text/plain": [
       "                                  sequence  charge                  run_name  \\\n",
       "120724                DIELHLESSSHQETLDHIQK       4  YHE114_07_Slot1-1_1_3014   \n",
       "4927                         DYIAYAHSTIMPR       2  YHE114_11_Slot1-1_1_3043   \n",
       "155271            GDLENAFLNLVQCIQNKPLYFADR       3  YHE211_10_Slot1-1_1_3006   \n",
       "654868                    IAQDLEMYGVNYFSIK       2  YHE010_02_Slot1-1_1_2987   \n",
       "809895  QTRPVQSWLCDPDAMEQGETPLTMLQSQVPNIVK       3  YHE114_05_Slot1-1_1_3012   \n",
       "\n",
       "        human   group  \n",
       "120724      1  YHE114  \n",
       "4927        1  YHE114  \n",
       "155271      1  YHE211  \n",
       "654868      1  YHE010  \n",
       "809895      1  YHE114  "
      ]
     },
     "execution_count": 10,
     "metadata": {},
     "output_type": "execute_result"
    }
   ],
   "source": [
    "sequences_df[['sequence','charge','run_name','human','group']].sample(n=5)"
   ]
  },
  {
   "cell_type": "code",
   "execution_count": 11,
   "metadata": {},
   "outputs": [],
   "source": [
    "yhe_only_df = sequences_df[(sequences_df.group == 'YHE211') | (sequences_df.group == 'YHE114')]\n",
    "yhe_only_targets_df = yhe_only_df[(yhe_only_df.classed_as == 'target')]"
   ]
  },
  {
   "cell_type": "code",
   "execution_count": 12,
   "metadata": {},
   "outputs": [
    {
     "name": "stdout",
     "output_type": "stream",
     "text": [
      "there are 21 runs in the experiment\n"
     ]
    }
   ],
   "source": [
    "number_of_yhe_runs_in_experiment = len(yhe_only_df.file_idx.unique())\n",
    "print('there are {} runs in the experiment'.format(number_of_yhe_runs_in_experiment))"
   ]
  },
  {
   "cell_type": "markdown",
   "metadata": {},
   "source": [
    "#### analyse the rate of successful extractions of peptides in the library"
   ]
  },
  {
   "cell_type": "code",
   "execution_count": 13,
   "metadata": {},
   "outputs": [],
   "source": [
    "# count how many runs each sequence/charge was extracted from\n",
    "sequence_occurences_l = []\n",
    "for group_name,group_df in yhe_only_df.groupby(['sequence','charge'], as_index=False):\n",
    "    sequence_occurences_l.append((group_name[0], group_name[1], len(group_df.file_idx.unique())))\n",
    "yhe_sequence_occurences_df = pd.DataFrame(sequence_occurences_l, columns=['sequence','charge','number_of_runs_extracted'])"
   ]
  },
  {
   "cell_type": "code",
   "execution_count": 14,
   "metadata": {},
   "outputs": [
    {
     "name": "stdout",
     "output_type": "stream",
     "text": [
      "1.0% of extractions missing across the experiment.\n"
     ]
    }
   ],
   "source": [
    "# display the number of missing extractions across the experiment\n",
    "yhe_sequence_occurences_df['missing_files'] = number_of_yhe_runs_in_experiment - yhe_sequence_occurences_df.number_of_runs_extracted\n",
    "proportion_of_missing_extractions = yhe_sequence_occurences_df.missing_files.sum() / (len(yhe_sequence_occurences_df) * number_of_yhe_runs_in_experiment)\n",
    "print(\"{}% of extractions missing across the experiment.\".format(round(proportion_of_missing_extractions*100)))"
   ]
  },
  {
   "cell_type": "code",
   "execution_count": 15,
   "metadata": {},
   "outputs": [
    {
     "data": {
      "image/png": "[encoded data removed]",
      "text/plain": [
       "<Figure size 1080x576 with 1 Axes>"
      ]
     },
     "metadata": {
      "needs_background": "light"
     },
     "output_type": "display_data"
    }
   ],
   "source": [
    "f, ax1 = plt.subplots()\n",
    "f.set_figheight(8)\n",
    "f.set_figwidth(15)\n",
    "\n",
    "plt.margins(0.06)\n",
    "plt.suptitle('Distribution of sequence identifications extracted from the YHE runs')\n",
    "# plt.title('total {} modified peptide sequences'.format(modified_sequences_count))\n",
    "\n",
    "counts = np.bincount(yhe_sequence_occurences_df.number_of_runs_extracted)\n",
    "ax1.bar(range(22), counts, width=0.8, align='center')\n",
    "plt.xlabel('number of files in which a modified sequence-charge was extracted')\n",
    "plt.ylabel('frequency')\n",
    "ax1.set(xticks=range(1,22), xlim=[0, 22])\n",
    "# plt.ylim((0,20000))\n",
    "\n",
    "plt.show()"
   ]
  },
  {
   "cell_type": "code",
   "execution_count": 16,
   "metadata": {},
   "outputs": [],
   "source": [
    "# count how many runs each sequence/charge was extracted from and classified as a target\n",
    "sequence_occurences_l = []\n",
    "for group_name,group_df in yhe_only_targets_df.groupby(['sequence','charge'], as_index=False):\n",
    "    sequence_occurences_l.append((group_name, len(group_df.file_idx.unique()), group_name[0], group_name[1]))\n",
    "yhe_sequence_occurences_df = pd.DataFrame(sequence_occurences_l, columns=['sequence_charge','number_of_runs_targets_extracted','sequence','charge'])"
   ]
  },
  {
   "cell_type": "code",
   "execution_count": 17,
   "metadata": {},
   "outputs": [
    {
     "name": "stdout",
     "output_type": "stream",
     "text": [
      "11.0% of values are missing across the YHE-only runs.\n"
     ]
    }
   ],
   "source": [
    "# display the number of missing values across the experiment\n",
    "yhe_sequence_occurences_df['missing_files'] = number_of_yhe_runs_in_experiment - yhe_sequence_occurences_df.number_of_runs_targets_extracted\n",
    "proportion_of_missing_values = yhe_sequence_occurences_df.missing_files.sum() / (len(yhe_sequence_occurences_df) * number_of_yhe_runs_in_experiment)\n",
    "print(\"{}% of values are missing across the YHE-only runs.\".format(round(proportion_of_missing_values*100)))"
   ]
  },
  {
   "cell_type": "code",
   "execution_count": 18,
   "metadata": {},
   "outputs": [
    {
     "data": {
      "text/html": [
       "<div>\n",
       "<style scoped>\n",
       "    .dataframe tbody tr th:only-of-type {\n",
       "        vertical-align: middle;\n",
       "    }\n",
       "\n",
       "    .dataframe tbody tr th {\n",
       "        vertical-align: top;\n",
       "    }\n",
       "\n",
       "    .dataframe thead th {\n",
       "        text-align: right;\n",
       "    }\n",
       "</style>\n",
       "<table border=\"1\" class=\"dataframe\">\n",
       "  <thead>\n",
       "    <tr style=\"text-align: right;\">\n",
       "      <th></th>\n",
       "      <th>sequence</th>\n",
       "      <th>charge</th>\n",
       "      <th>number_of_runs_targets_extracted</th>\n",
       "      <th>missing_files</th>\n",
       "    </tr>\n",
       "  </thead>\n",
       "  <tbody>\n",
       "    <tr>\n",
       "      <th>12555</th>\n",
       "      <td>IPEGTILTMDMLTVK</td>\n",
       "      <td>2</td>\n",
       "      <td>21</td>\n",
       "      <td>0</td>\n",
       "    </tr>\n",
       "    <tr>\n",
       "      <th>12364</th>\n",
       "      <td>ILSNLPESSLTDLPAVTK</td>\n",
       "      <td>2</td>\n",
       "      <td>20</td>\n",
       "      <td>1</td>\n",
       "    </tr>\n",
       "    <tr>\n",
       "      <th>24054</th>\n",
       "      <td>TGLSSEQTVNVLAQILK</td>\n",
       "      <td>2</td>\n",
       "      <td>21</td>\n",
       "      <td>0</td>\n",
       "    </tr>\n",
       "    <tr>\n",
       "      <th>28087</th>\n",
       "      <td>YESATASALVN</td>\n",
       "      <td>1</td>\n",
       "      <td>20</td>\n",
       "      <td>1</td>\n",
       "    </tr>\n",
       "    <tr>\n",
       "      <th>25662</th>\n",
       "      <td>VDEFPLCGHMVSDEYEQLSSEALEAAR</td>\n",
       "      <td>3</td>\n",
       "      <td>21</td>\n",
       "      <td>0</td>\n",
       "    </tr>\n",
       "    <tr>\n",
       "      <th>5854</th>\n",
       "      <td>EHEWLR</td>\n",
       "      <td>2</td>\n",
       "      <td>21</td>\n",
       "      <td>0</td>\n",
       "    </tr>\n",
       "    <tr>\n",
       "      <th>15400</th>\n",
       "      <td>LNGGNCLVHCFAGISR</td>\n",
       "      <td>2</td>\n",
       "      <td>21</td>\n",
       "      <td>0</td>\n",
       "    </tr>\n",
       "    <tr>\n",
       "      <th>17745</th>\n",
       "      <td>NECDPALALLSDYVLHNSNTMR</td>\n",
       "      <td>2</td>\n",
       "      <td>21</td>\n",
       "      <td>0</td>\n",
       "    </tr>\n",
       "    <tr>\n",
       "      <th>3066</th>\n",
       "      <td>DDGISFSNQTGPAWAGSER</td>\n",
       "      <td>2</td>\n",
       "      <td>14</td>\n",
       "      <td>7</td>\n",
       "    </tr>\n",
       "    <tr>\n",
       "      <th>23109</th>\n",
       "      <td>STHNEDQASCEVLTVK</td>\n",
       "      <td>2</td>\n",
       "      <td>12</td>\n",
       "      <td>9</td>\n",
       "    </tr>\n",
       "  </tbody>\n",
       "</table>\n",
       "</div>"
      ],
      "text/plain": [
       "                          sequence  charge  number_of_runs_targets_extracted  \\\n",
       "12555              IPEGTILTMDMLTVK       2                                21   \n",
       "12364           ILSNLPESSLTDLPAVTK       2                                20   \n",
       "24054            TGLSSEQTVNVLAQILK       2                                21   \n",
       "28087                  YESATASALVN       1                                20   \n",
       "25662  VDEFPLCGHMVSDEYEQLSSEALEAAR       3                                21   \n",
       "5854                        EHEWLR       2                                21   \n",
       "15400             LNGGNCLVHCFAGISR       2                                21   \n",
       "17745       NECDPALALLSDYVLHNSNTMR       2                                21   \n",
       "3066           DDGISFSNQTGPAWAGSER       2                                14   \n",
       "23109             STHNEDQASCEVLTVK       2                                12   \n",
       "\n",
       "       missing_files  \n",
       "12555              0  \n",
       "12364              1  \n",
       "24054              0  \n",
       "28087              1  \n",
       "25662              0  \n",
       "5854               0  \n",
       "15400              0  \n",
       "17745              0  \n",
       "3066               7  \n",
       "23109              9  "
      ]
     },
     "execution_count": 18,
     "metadata": {},
     "output_type": "execute_result"
    }
   ],
   "source": [
    "yhe_sequence_occurences_df.sample(n=10)[['sequence','charge','number_of_runs_targets_extracted','missing_files']]"
   ]
  },
  {
   "cell_type": "code",
   "execution_count": 20,
   "metadata": {},
   "outputs": [
    {
     "data": {
      "text/html": [
       "<div>\n",
       "<style scoped>\n",
       "    .dataframe tbody tr th:only-of-type {\n",
       "        vertical-align: middle;\n",
       "    }\n",
       "\n",
       "    .dataframe tbody tr th {\n",
       "        vertical-align: top;\n",
       "    }\n",
       "\n",
       "    .dataframe thead th {\n",
       "        text-align: right;\n",
       "    }\n",
       "</style>\n",
       "<table border=\"1\" class=\"dataframe\">\n",
       "  <thead>\n",
       "    <tr style=\"text-align: right;\">\n",
       "      <th></th>\n",
       "      <th>sequence</th>\n",
       "      <th>charge</th>\n",
       "      <th>file_idx</th>\n",
       "      <th>classed_as</th>\n",
       "      <th>prob_target</th>\n",
       "    </tr>\n",
       "  </thead>\n",
       "  <tbody>\n",
       "    <tr>\n",
       "      <th>24301</th>\n",
       "      <td>TGLSSEQTVNVLAQILK</td>\n",
       "      <td>2</td>\n",
       "      <td>15</td>\n",
       "      <td>target</td>\n",
       "      <td>0.999820</td>\n",
       "    </tr>\n",
       "    <tr>\n",
       "      <th>53571</th>\n",
       "      <td>TGLSSEQTVNVLAQILK</td>\n",
       "      <td>2</td>\n",
       "      <td>30</td>\n",
       "      <td>target</td>\n",
       "      <td>0.999848</td>\n",
       "    </tr>\n",
       "    <tr>\n",
       "      <th>82787</th>\n",
       "      <td>TGLSSEQTVNVLAQILK</td>\n",
       "      <td>2</td>\n",
       "      <td>8</td>\n",
       "      <td>target</td>\n",
       "      <td>0.999836</td>\n",
       "    </tr>\n",
       "    <tr>\n",
       "      <th>112080</th>\n",
       "      <td>TGLSSEQTVNVLAQILK</td>\n",
       "      <td>2</td>\n",
       "      <td>17</td>\n",
       "      <td>target</td>\n",
       "      <td>0.999859</td>\n",
       "    </tr>\n",
       "    <tr>\n",
       "      <th>141334</th>\n",
       "      <td>TGLSSEQTVNVLAQILK</td>\n",
       "      <td>2</td>\n",
       "      <td>18</td>\n",
       "      <td>target</td>\n",
       "      <td>0.999908</td>\n",
       "    </tr>\n",
       "    <tr>\n",
       "      <th>170638</th>\n",
       "      <td>TGLSSEQTVNVLAQILK</td>\n",
       "      <td>2</td>\n",
       "      <td>7</td>\n",
       "      <td>target</td>\n",
       "      <td>0.999785</td>\n",
       "    </tr>\n",
       "    <tr>\n",
       "      <th>229076</th>\n",
       "      <td>TGLSSEQTVNVLAQILK</td>\n",
       "      <td>2</td>\n",
       "      <td>25</td>\n",
       "      <td>target</td>\n",
       "      <td>0.999826</td>\n",
       "    </tr>\n",
       "    <tr>\n",
       "      <th>345660</th>\n",
       "      <td>TGLSSEQTVNVLAQILK</td>\n",
       "      <td>2</td>\n",
       "      <td>14</td>\n",
       "      <td>target</td>\n",
       "      <td>0.999849</td>\n",
       "    </tr>\n",
       "    <tr>\n",
       "      <th>374907</th>\n",
       "      <td>TGLSSEQTVNVLAQILK</td>\n",
       "      <td>2</td>\n",
       "      <td>28</td>\n",
       "      <td>target</td>\n",
       "      <td>0.999734</td>\n",
       "    </tr>\n",
       "    <tr>\n",
       "      <th>404189</th>\n",
       "      <td>TGLSSEQTVNVLAQILK</td>\n",
       "      <td>2</td>\n",
       "      <td>26</td>\n",
       "      <td>target</td>\n",
       "      <td>0.999365</td>\n",
       "    </tr>\n",
       "    <tr>\n",
       "      <th>433497</th>\n",
       "      <td>TGLSSEQTVNVLAQILK</td>\n",
       "      <td>2</td>\n",
       "      <td>24</td>\n",
       "      <td>target</td>\n",
       "      <td>0.999787</td>\n",
       "    </tr>\n",
       "    <tr>\n",
       "      <th>492007</th>\n",
       "      <td>TGLSSEQTVNVLAQILK</td>\n",
       "      <td>2</td>\n",
       "      <td>19</td>\n",
       "      <td>target</td>\n",
       "      <td>0.999623</td>\n",
       "    </tr>\n",
       "    <tr>\n",
       "      <th>521311</th>\n",
       "      <td>TGLSSEQTVNVLAQILK</td>\n",
       "      <td>2</td>\n",
       "      <td>0</td>\n",
       "      <td>target</td>\n",
       "      <td>0.999863</td>\n",
       "    </tr>\n",
       "    <tr>\n",
       "      <th>550541</th>\n",
       "      <td>TGLSSEQTVNVLAQILK</td>\n",
       "      <td>2</td>\n",
       "      <td>20</td>\n",
       "      <td>target</td>\n",
       "      <td>0.999881</td>\n",
       "    </tr>\n",
       "    <tr>\n",
       "      <th>579796</th>\n",
       "      <td>TGLSSEQTVNVLAQILK</td>\n",
       "      <td>2</td>\n",
       "      <td>10</td>\n",
       "      <td>target</td>\n",
       "      <td>0.999852</td>\n",
       "    </tr>\n",
       "    <tr>\n",
       "      <th>696831</th>\n",
       "      <td>TGLSSEQTVNVLAQILK</td>\n",
       "      <td>2</td>\n",
       "      <td>21</td>\n",
       "      <td>target</td>\n",
       "      <td>0.999846</td>\n",
       "    </tr>\n",
       "    <tr>\n",
       "      <th>726161</th>\n",
       "      <td>TGLSSEQTVNVLAQILK</td>\n",
       "      <td>2</td>\n",
       "      <td>11</td>\n",
       "      <td>target</td>\n",
       "      <td>0.999860</td>\n",
       "    </tr>\n",
       "    <tr>\n",
       "      <th>755468</th>\n",
       "      <td>TGLSSEQTVNVLAQILK</td>\n",
       "      <td>2</td>\n",
       "      <td>29</td>\n",
       "      <td>target</td>\n",
       "      <td>0.999859</td>\n",
       "    </tr>\n",
       "    <tr>\n",
       "      <th>784770</th>\n",
       "      <td>TGLSSEQTVNVLAQILK</td>\n",
       "      <td>2</td>\n",
       "      <td>13</td>\n",
       "      <td>target</td>\n",
       "      <td>0.999795</td>\n",
       "    </tr>\n",
       "    <tr>\n",
       "      <th>814059</th>\n",
       "      <td>TGLSSEQTVNVLAQILK</td>\n",
       "      <td>2</td>\n",
       "      <td>27</td>\n",
       "      <td>target</td>\n",
       "      <td>0.999831</td>\n",
       "    </tr>\n",
       "    <tr>\n",
       "      <th>843357</th>\n",
       "      <td>TGLSSEQTVNVLAQILK</td>\n",
       "      <td>2</td>\n",
       "      <td>23</td>\n",
       "      <td>target</td>\n",
       "      <td>0.999635</td>\n",
       "    </tr>\n",
       "  </tbody>\n",
       "</table>\n",
       "</div>"
      ],
      "text/plain": [
       "                 sequence  charge  file_idx classed_as  prob_target\n",
       "24301   TGLSSEQTVNVLAQILK       2        15     target     0.999820\n",
       "53571   TGLSSEQTVNVLAQILK       2        30     target     0.999848\n",
       "82787   TGLSSEQTVNVLAQILK       2         8     target     0.999836\n",
       "112080  TGLSSEQTVNVLAQILK       2        17     target     0.999859\n",
       "141334  TGLSSEQTVNVLAQILK       2        18     target     0.999908\n",
       "170638  TGLSSEQTVNVLAQILK       2         7     target     0.999785\n",
       "229076  TGLSSEQTVNVLAQILK       2        25     target     0.999826\n",
       "345660  TGLSSEQTVNVLAQILK       2        14     target     0.999849\n",
       "374907  TGLSSEQTVNVLAQILK       2        28     target     0.999734\n",
       "404189  TGLSSEQTVNVLAQILK       2        26     target     0.999365\n",
       "433497  TGLSSEQTVNVLAQILK       2        24     target     0.999787\n",
       "492007  TGLSSEQTVNVLAQILK       2        19     target     0.999623\n",
       "521311  TGLSSEQTVNVLAQILK       2         0     target     0.999863\n",
       "550541  TGLSSEQTVNVLAQILK       2        20     target     0.999881\n",
       "579796  TGLSSEQTVNVLAQILK       2        10     target     0.999852\n",
       "696831  TGLSSEQTVNVLAQILK       2        21     target     0.999846\n",
       "726161  TGLSSEQTVNVLAQILK       2        11     target     0.999860\n",
       "755468  TGLSSEQTVNVLAQILK       2        29     target     0.999859\n",
       "784770  TGLSSEQTVNVLAQILK       2        13     target     0.999795\n",
       "814059  TGLSSEQTVNVLAQILK       2        27     target     0.999831\n",
       "843357  TGLSSEQTVNVLAQILK       2        23     target     0.999635"
      ]
     },
     "execution_count": 20,
     "metadata": {},
     "output_type": "execute_result"
    }
   ],
   "source": [
    "df = yhe_only_df[(yhe_only_df.sequence == 'TGLSSEQTVNVLAQILK') & (yhe_only_df.charge == 2)][['sequence','charge','file_idx','classed_as','prob_target']]\n",
    "df"
   ]
  },
  {
   "cell_type": "code",
   "execution_count": 21,
   "metadata": {},
   "outputs": [
    {
     "data": {
      "text/plain": [
       "0.1326503358807591"
      ]
     },
     "execution_count": 21,
     "metadata": {},
     "output_type": "execute_result"
    }
   ],
   "source": [
    "len(yhe_only_df[yhe_only_df.classed_as == 'decoy']) / len(yhe_only_df[yhe_only_df.classed_as == 'target'])"
   ]
  },
  {
   "cell_type": "code",
   "execution_count": 22,
   "metadata": {},
   "outputs": [
    {
     "data": {
      "text/plain": [
       "29551"
      ]
     },
     "execution_count": 22,
     "metadata": {},
     "output_type": "execute_result"
    }
   ],
   "source": [
    "unique_sequences_yhe_df = yhe_only_df.drop_duplicates(subset=['sequence', 'charge'], keep='first', inplace=False)\n",
    "len(unique_sequences_yhe_df)"
   ]
  },
  {
   "cell_type": "code",
   "execution_count": 23,
   "metadata": {},
   "outputs": [
    {
     "data": {
      "text/plain": [
       "29552"
      ]
     },
     "execution_count": 23,
     "metadata": {},
     "output_type": "execute_result"
    }
   ],
   "source": [
    "unique_sequences_all_runs_df = sequences_df.drop_duplicates(subset=['sequence', 'charge'], keep='first', inplace=False)\n",
    "len(unique_sequences_all_runs_df)"
   ]
  },
  {
   "cell_type": "code",
   "execution_count": 24,
   "metadata": {},
   "outputs": [
    {
     "data": {
      "image/png": "[encoded data removed]",
      "text/plain": [
       "<Figure size 1080x576 with 1 Axes>"
      ]
     },
     "metadata": {
      "needs_background": "light"
     },
     "output_type": "display_data"
    }
   ],
   "source": [
    "f, ax1 = plt.subplots()\n",
    "f.set_figheight(8)\n",
    "f.set_figwidth(15)\n",
    "\n",
    "plt.margins(0.06)\n",
    "plt.suptitle('Distribution of sequence identifications in the Yeast / HeLa / E.coli runs for TFD_E')\n",
    "plt.title('total {} modified peptide sequences'.format(len(unique_sequences_yhe_df)))\n",
    "\n",
    "counts = np.bincount(yhe_sequence_occurences_df.number_of_runs_targets_extracted)\n",
    "ax1.bar(range(22), counts, width=0.8, align='center')\n",
    "plt.xlabel('number of files in which a modified sequence-charge was identified')\n",
    "plt.ylabel('frequency')\n",
    "ax1.set(xticks=range(1,22), xlim=[0, 22])\n",
    "# plt.ylim((0,20000))\n",
    "\n",
    "plt.show()"
   ]
  },
  {
   "cell_type": "markdown",
   "metadata": {},
   "source": [
    "#### now analyse the human-only runs"
   ]
  },
  {
   "cell_type": "code",
   "execution_count": 25,
   "metadata": {},
   "outputs": [],
   "source": [
    "human_only_df = sequences_df[(sequences_df.group == 'YHE010')].copy()\n",
    "human_only_targets_df = human_only_df[(human_only_df.classed_as == 'target')]"
   ]
  },
  {
   "cell_type": "code",
   "execution_count": 26,
   "metadata": {},
   "outputs": [],
   "source": [
    "# count how many runs each sequence/charge was extracted from\n",
    "sequence_occurences_l = []\n",
    "for group_name,group_df in human_only_targets_df.groupby(['sequence','charge'], as_index=False):\n",
    "    sequence_occurences_l.append((group_name, len(group_df.file_idx.unique()), group_name[0], group_name[1], group_df.iloc[0].human))\n",
    "human_sequence_occurences_df = pd.DataFrame(sequence_occurences_l, columns=['sequence_charge','number_of_runs_targets_extracted','sequence','charge','human'])\n"
   ]
  },
  {
   "cell_type": "code",
   "execution_count": 27,
   "metadata": {},
   "outputs": [
    {
     "name": "stdout",
     "output_type": "stream",
     "text": [
      "false positives: 16.5%\n"
     ]
    }
   ],
   "source": [
    "# proportion of false positives i.e. non-human peptides found in the human-only runs\n",
    "print('false positives: {}%'.format(round(len(human_sequence_occurences_df[(human_sequence_occurences_df.human == 0)]) / len(human_sequence_occurences_df) * 100.0, 1)))"
   ]
  },
  {
   "cell_type": "code",
   "execution_count": 28,
   "metadata": {},
   "outputs": [
    {
     "name": "stdout",
     "output_type": "stream",
     "text": [
      "there are 10 human-only runs in the experiment\n"
     ]
    }
   ],
   "source": [
    "number_of_human_runs_in_experiment = len(human_only_df.file_idx.unique())\n",
    "print('there are {} human-only runs in the experiment'.format(number_of_human_runs_in_experiment))"
   ]
  },
  {
   "cell_type": "code",
   "execution_count": 29,
   "metadata": {},
   "outputs": [
    {
     "name": "stdout",
     "output_type": "stream",
     "text": [
      "14.0% of values are missing in the human-only runs.\n"
     ]
    }
   ],
   "source": [
    "# display the number of missing values across the experiment\n",
    "human_sequence_occurences_df['missing_files'] = number_of_human_runs_in_experiment - human_sequence_occurences_df.number_of_runs_targets_extracted\n",
    "proportion_of_missing_values = human_sequence_occurences_df.missing_files.sum() / (len(human_sequence_occurences_df) * number_of_human_runs_in_experiment)\n",
    "print(\"{}% of values are missing in the human-only runs.\".format(round(proportion_of_missing_values*100)))"
   ]
  },
  {
   "cell_type": "code",
   "execution_count": 30,
   "metadata": {},
   "outputs": [
    {
     "data": {
      "text/html": [
       "<div>\n",
       "<style scoped>\n",
       "    .dataframe tbody tr th:only-of-type {\n",
       "        vertical-align: middle;\n",
       "    }\n",
       "\n",
       "    .dataframe tbody tr th {\n",
       "        vertical-align: top;\n",
       "    }\n",
       "\n",
       "    .dataframe thead th {\n",
       "        text-align: right;\n",
       "    }\n",
       "</style>\n",
       "<table border=\"1\" class=\"dataframe\">\n",
       "  <thead>\n",
       "    <tr style=\"text-align: right;\">\n",
       "      <th></th>\n",
       "      <th>sequence</th>\n",
       "      <th>charge</th>\n",
       "      <th>number_of_runs_targets_extracted</th>\n",
       "      <th>missing_files</th>\n",
       "    </tr>\n",
       "  </thead>\n",
       "  <tbody>\n",
       "    <tr>\n",
       "      <th>14823</th>\n",
       "      <td>LNSKPQDLTDAYGPPSNFLEIDIFNPQTVGVGR</td>\n",
       "      <td>3</td>\n",
       "      <td>7</td>\n",
       "      <td>3</td>\n",
       "    </tr>\n",
       "    <tr>\n",
       "      <th>12128</th>\n",
       "      <td>IPVGPETLGR</td>\n",
       "      <td>2</td>\n",
       "      <td>10</td>\n",
       "      <td>0</td>\n",
       "    </tr>\n",
       "    <tr>\n",
       "      <th>23672</th>\n",
       "      <td>TPETVVPTALELQPSTSTDRPVTSEPTSQATR</td>\n",
       "      <td>3</td>\n",
       "      <td>2</td>\n",
       "      <td>8</td>\n",
       "    </tr>\n",
       "    <tr>\n",
       "      <th>21632</th>\n",
       "      <td>SNLAYDIVQLPTGLTGIK</td>\n",
       "      <td>3</td>\n",
       "      <td>7</td>\n",
       "      <td>3</td>\n",
       "    </tr>\n",
       "    <tr>\n",
       "      <th>21106</th>\n",
       "      <td>SGSHTVAVMNVGAPAAGMNAAVR</td>\n",
       "      <td>2</td>\n",
       "      <td>10</td>\n",
       "      <td>0</td>\n",
       "    </tr>\n",
       "    <tr>\n",
       "      <th>7145</th>\n",
       "      <td>FDLLASNFPPLPGSSSR</td>\n",
       "      <td>2</td>\n",
       "      <td>10</td>\n",
       "      <td>0</td>\n",
       "    </tr>\n",
       "    <tr>\n",
       "      <th>8183</th>\n",
       "      <td>FVPFAAVAAANCINIPLMR</td>\n",
       "      <td>2</td>\n",
       "      <td>10</td>\n",
       "      <td>0</td>\n",
       "    </tr>\n",
       "    <tr>\n",
       "      <th>156</th>\n",
       "      <td>AAQYVASHPGEVCPAK</td>\n",
       "      <td>2</td>\n",
       "      <td>2</td>\n",
       "      <td>8</td>\n",
       "    </tr>\n",
       "    <tr>\n",
       "      <th>12653</th>\n",
       "      <td>KAPDFVFYAPR</td>\n",
       "      <td>2</td>\n",
       "      <td>10</td>\n",
       "      <td>0</td>\n",
       "    </tr>\n",
       "    <tr>\n",
       "      <th>12367</th>\n",
       "      <td>ITEDYYVHLIADNLPVATR</td>\n",
       "      <td>3</td>\n",
       "      <td>4</td>\n",
       "      <td>6</td>\n",
       "    </tr>\n",
       "  </tbody>\n",
       "</table>\n",
       "</div>"
      ],
      "text/plain": [
       "                                sequence  charge  \\\n",
       "14823  LNSKPQDLTDAYGPPSNFLEIDIFNPQTVGVGR       3   \n",
       "12128                         IPVGPETLGR       2   \n",
       "23672   TPETVVPTALELQPSTSTDRPVTSEPTSQATR       3   \n",
       "21632                 SNLAYDIVQLPTGLTGIK       3   \n",
       "21106            SGSHTVAVMNVGAPAAGMNAAVR       2   \n",
       "7145                   FDLLASNFPPLPGSSSR       2   \n",
       "8183                 FVPFAAVAAANCINIPLMR       2   \n",
       "156                     AAQYVASHPGEVCPAK       2   \n",
       "12653                        KAPDFVFYAPR       2   \n",
       "12367                ITEDYYVHLIADNLPVATR       3   \n",
       "\n",
       "       number_of_runs_targets_extracted  missing_files  \n",
       "14823                                 7              3  \n",
       "12128                                10              0  \n",
       "23672                                 2              8  \n",
       "21632                                 7              3  \n",
       "21106                                10              0  \n",
       "7145                                 10              0  \n",
       "8183                                 10              0  \n",
       "156                                   2              8  \n",
       "12653                                10              0  \n",
       "12367                                 4              6  "
      ]
     },
     "execution_count": 30,
     "metadata": {},
     "output_type": "execute_result"
    }
   ],
   "source": [
    "human_sequence_occurences_df.sample(n=10)[['sequence','charge','number_of_runs_targets_extracted','missing_files']]"
   ]
  },
  {
   "cell_type": "code",
   "execution_count": 31,
   "metadata": {},
   "outputs": [
    {
     "data": {
      "text/html": [
       "<div>\n",
       "<style scoped>\n",
       "    .dataframe tbody tr th:only-of-type {\n",
       "        vertical-align: middle;\n",
       "    }\n",
       "\n",
       "    .dataframe tbody tr th {\n",
       "        vertical-align: top;\n",
       "    }\n",
       "\n",
       "    .dataframe thead th {\n",
       "        text-align: right;\n",
       "    }\n",
       "</style>\n",
       "<table border=\"1\" class=\"dataframe\">\n",
       "  <thead>\n",
       "    <tr style=\"text-align: right;\">\n",
       "      <th></th>\n",
       "      <th>sequence</th>\n",
       "      <th>charge</th>\n",
       "      <th>file_idx</th>\n",
       "      <th>classed_as</th>\n",
       "      <th>prob_target</th>\n",
       "    </tr>\n",
       "  </thead>\n",
       "  <tbody>\n",
       "    <tr>\n",
       "      <th>177265</th>\n",
       "      <td>APVAIGVAAMSTAEMLTSGLK</td>\n",
       "      <td>2</td>\n",
       "      <td>9</td>\n",
       "      <td>target</td>\n",
       "      <td>0.990709</td>\n",
       "    </tr>\n",
       "    <tr>\n",
       "      <th>235669</th>\n",
       "      <td>APVAIGVAAMSTAEMLTSGLK</td>\n",
       "      <td>2</td>\n",
       "      <td>5</td>\n",
       "      <td>target</td>\n",
       "      <td>0.998446</td>\n",
       "    </tr>\n",
       "    <tr>\n",
       "      <th>264576</th>\n",
       "      <td>APVAIGVAAMSTAEMLTSGLK</td>\n",
       "      <td>2</td>\n",
       "      <td>22</td>\n",
       "      <td>target</td>\n",
       "      <td>0.998934</td>\n",
       "    </tr>\n",
       "    <tr>\n",
       "      <th>293853</th>\n",
       "      <td>APVAIGVAAMSTAEMLTSGLK</td>\n",
       "      <td>2</td>\n",
       "      <td>16</td>\n",
       "      <td>target</td>\n",
       "      <td>0.998695</td>\n",
       "    </tr>\n",
       "    <tr>\n",
       "      <th>440125</th>\n",
       "      <td>APVAIGVAAMSTAEMLTSGLK</td>\n",
       "      <td>2</td>\n",
       "      <td>2</td>\n",
       "      <td>target</td>\n",
       "      <td>0.997307</td>\n",
       "    </tr>\n",
       "    <tr>\n",
       "      <th>586424</th>\n",
       "      <td>APVAIGVAAMSTAEMLTSGLK</td>\n",
       "      <td>2</td>\n",
       "      <td>1</td>\n",
       "      <td>target</td>\n",
       "      <td>0.996677</td>\n",
       "    </tr>\n",
       "    <tr>\n",
       "      <th>615684</th>\n",
       "      <td>APVAIGVAAMSTAEMLTSGLK</td>\n",
       "      <td>2</td>\n",
       "      <td>12</td>\n",
       "      <td>target</td>\n",
       "      <td>0.934483</td>\n",
       "    </tr>\n",
       "    <tr>\n",
       "      <th>644941</th>\n",
       "      <td>APVAIGVAAMSTAEMLTSGLK</td>\n",
       "      <td>2</td>\n",
       "      <td>6</td>\n",
       "      <td>target</td>\n",
       "      <td>0.987191</td>\n",
       "    </tr>\n",
       "    <tr>\n",
       "      <th>849976</th>\n",
       "      <td>APVAIGVAAMSTAEMLTSGLK</td>\n",
       "      <td>2</td>\n",
       "      <td>4</td>\n",
       "      <td>target</td>\n",
       "      <td>0.999677</td>\n",
       "    </tr>\n",
       "    <tr>\n",
       "      <th>879162</th>\n",
       "      <td>APVAIGVAAMSTAEMLTSGLK</td>\n",
       "      <td>2</td>\n",
       "      <td>3</td>\n",
       "      <td>target</td>\n",
       "      <td>0.999553</td>\n",
       "    </tr>\n",
       "  </tbody>\n",
       "</table>\n",
       "</div>"
      ],
      "text/plain": [
       "                     sequence  charge  file_idx classed_as  prob_target\n",
       "177265  APVAIGVAAMSTAEMLTSGLK       2         9     target     0.990709\n",
       "235669  APVAIGVAAMSTAEMLTSGLK       2         5     target     0.998446\n",
       "264576  APVAIGVAAMSTAEMLTSGLK       2        22     target     0.998934\n",
       "293853  APVAIGVAAMSTAEMLTSGLK       2        16     target     0.998695\n",
       "440125  APVAIGVAAMSTAEMLTSGLK       2         2     target     0.997307\n",
       "586424  APVAIGVAAMSTAEMLTSGLK       2         1     target     0.996677\n",
       "615684  APVAIGVAAMSTAEMLTSGLK       2        12     target     0.934483\n",
       "644941  APVAIGVAAMSTAEMLTSGLK       2         6     target     0.987191\n",
       "849976  APVAIGVAAMSTAEMLTSGLK       2         4     target     0.999677\n",
       "879162  APVAIGVAAMSTAEMLTSGLK       2         3     target     0.999553"
      ]
     },
     "execution_count": 31,
     "metadata": {},
     "output_type": "execute_result"
    }
   ],
   "source": [
    "df = human_only_df[(human_only_df.sequence == 'APVAIGVAAMSTAEMLTSGLK') & (human_only_df.charge == 2)][['sequence','charge','file_idx','classed_as','prob_target']]\n",
    "df"
   ]
  },
  {
   "cell_type": "code",
   "execution_count": 32,
   "metadata": {},
   "outputs": [
    {
     "data": {
      "text/plain": [
       "10"
      ]
     },
     "execution_count": 32,
     "metadata": {},
     "output_type": "execute_result"
    }
   ],
   "source": [
    "len(df)"
   ]
  },
  {
   "cell_type": "code",
   "execution_count": 33,
   "metadata": {},
   "outputs": [
    {
     "data": {
      "text/plain": [
       "29524"
      ]
     },
     "execution_count": 33,
     "metadata": {},
     "output_type": "execute_result"
    }
   ],
   "source": [
    "unique_sequences_human_only_df = human_only_df.drop_duplicates(subset=['sequence', 'charge'], keep='first', inplace=False)\n",
    "len(unique_sequences_human_only_df)"
   ]
  },
  {
   "cell_type": "code",
   "execution_count": 34,
   "metadata": {},
   "outputs": [
    {
     "data": {
      "image/png": "[encoded data removed]",
      "text/plain": [
       "<Figure size 1080x576 with 1 Axes>"
      ]
     },
     "metadata": {
      "needs_background": "light"
     },
     "output_type": "display_data"
    }
   ],
   "source": [
    "f, ax1 = plt.subplots()\n",
    "f.set_figheight(8)\n",
    "f.set_figwidth(15)\n",
    "\n",
    "plt.margins(0.06)\n",
    "plt.suptitle('Distribution of sequence identifications in the HeLa-only runs for TFD_E')\n",
    "plt.title('total {} modified peptide sequences'.format(len(unique_sequences_human_only_df)))\n",
    "\n",
    "counts = np.bincount(human_sequence_occurences_df.number_of_runs_targets_extracted)\n",
    "ax1.bar(range(11), counts, width=0.8, align='center')\n",
    "plt.xlabel('number of files in which a modified sequence-charge was identified')\n",
    "plt.ylabel('frequency')\n",
    "ax1.set(xticks=range(1,11), xlim=[0, 11])\n",
    "# plt.ylim((0,20000))\n",
    "\n",
    "plt.show()"
   ]
  },
  {
   "cell_type": "code",
   "execution_count": 35,
   "metadata": {},
   "outputs": [
    {
     "data": {
      "image/png": "[encoded data removed]",
      "text/plain": [
       "<Figure size 1080x576 with 1 Axes>"
      ]
     },
     "metadata": {
      "needs_background": "light"
     },
     "output_type": "display_data"
    }
   ],
   "source": [
    "f, ax1 = plt.subplots()\n",
    "f.set_figheight(8)\n",
    "f.set_figwidth(15)\n",
    "\n",
    "plt.margins(0.06)\n",
    "plt.suptitle('Distribution of sequence identifications in the HeLa-only runs for TFD_E')\n",
    "plt.title('total {} modified peptide sequences'.format(len(unique_sequences_human_only_df)))\n",
    "\n",
    "counts_human = np.bincount(human_sequence_occurences_df[human_sequence_occurences_df.human == True].number_of_runs_targets_extracted)\n",
    "counts_other = np.bincount(human_sequence_occurences_df[human_sequence_occurences_df.human == False].number_of_runs_targets_extracted)\n",
    "\n",
    "ax1.bar(range(11), counts_human, bottom=counts_other, width=0.8, align='center')\n",
    "ax1.bar(range(11), counts_other, width=0.8, align='center')\n",
    "\n",
    "plt.xlabel('number of files in which a modified sequence-charge was identified')\n",
    "plt.ylabel('frequency')\n",
    "ax1.set(xticks=range(1,11), xlim=[0, 11])\n",
    "# plt.ylim((0,20000))\n",
    "\n",
    "plt.show()"
   ]
  },
  {
   "cell_type": "code",
   "execution_count": 36,
   "metadata": {},
   "outputs": [
    {
     "data": {
      "image/png": "[encoded data removed]",
      "text/plain": [
       "<Figure size 1080x576 with 1 Axes>"
      ]
     },
     "metadata": {
      "needs_background": "light"
     },
     "output_type": "display_data"
    }
   ],
   "source": [
    "f, ax1 = plt.subplots()\n",
    "f.set_figheight(8)\n",
    "f.set_figwidth(15)\n",
    "\n",
    "plt.margins(0.06)\n",
    "plt.title('')\n",
    "\n",
    "bins = 100\n",
    "values_targets_human = human_only_df[(human_only_df.classed_as == 'target') & (human_only_df.human == True)].prob_target\n",
    "values_targets_other = human_only_df[(human_only_df.classed_as == 'target') & (human_only_df.human == False)].prob_target\n",
    "values_decoys = human_only_df[human_only_df.classed_as == 'decoy'].prob_target\n",
    "\n",
    "y, x, _ = ax1.hist(values_targets_human, bins=bins)\n",
    "y, x, _ = ax1.hist(values_targets_other, bins=bins)\n",
    "y, x, _ = ax1.hist(values_decoys, bins=bins)\n",
    "# mean = np.mean(values)\n",
    "# ax1.axvline(mean, color='darkorange', lw=1.0, ls='-.', label='mean')\n",
    "# text_style = dict(size=10, color='brown', verticalalignment='center', horizontalalignment='left')\n",
    "# ax1.text(mean*0.85, y.max()*0.98, \"mean {}\".format(round(mean,2)), **text_style, rotation='vertical')\n",
    "\n",
    "plt.xlabel('target probability')\n",
    "plt.ylabel('count')\n",
    "# plt.title('pre-normalisation sequence intensity coefficient of variance across 1to1 runs, k={}\\n({} unique sequences appearing in all runs)'.format(number_of_neighbours, len(sequence_cv_df)))\n",
    "# plt.xlim((0,120))\n",
    "plt.ylim((0,10000))\n",
    "\n",
    "plt.show()"
   ]
  },
  {
   "cell_type": "code",
   "execution_count": 37,
   "metadata": {},
   "outputs": [
    {
     "data": {
      "image/png": "[encoded data removed]",
      "text/plain": [
       "<Figure size 1080x576 with 1 Axes>"
      ]
     },
     "metadata": {
      "needs_background": "light"
     },
     "output_type": "display_data"
    }
   ],
   "source": [
    "f, ax1 = plt.subplots()\n",
    "f.set_figheight(8)\n",
    "f.set_figwidth(15)\n",
    "\n",
    "plt.margins(0.06)\n",
    "plt.title('')\n",
    "\n",
    "bins = 300\n",
    "mz_delta_human = human_only_df[(human_only_df.classed_as == 'target') & (human_only_df.human == True)].delta_mz_ppm\n",
    "mz_delta_other = human_only_df[(human_only_df.classed_as == 'target') & (human_only_df.human == False)].delta_mz_ppm\n",
    "\n",
    "y, x, _ = ax1.hist(mz_delta_human, bins=bins, label='human')\n",
    "y, x, _ = ax1.hist(mz_delta_other, bins=bins, label='other')\n",
    "# mean = np.mean(values)\n",
    "# ax1.axvline(mean, color='darkorange', lw=1.0, ls='-.', label='mean')\n",
    "# text_style = dict(size=10, color='brown', verticalalignment='center', horizontalalignment='left')\n",
    "# ax1.text(mean*0.85, y.max()*0.98, \"mean {}\".format(round(mean,2)), **text_style, rotation='vertical')\n",
    "\n",
    "plt.xlabel('delta m/z ppm')\n",
    "plt.ylabel('count')\n",
    "plt.title('delta between estimated and extracted m/z as a proportion of the estimated m/z coordinate')\n",
    "plt.legend(loc='best')\n",
    "# plt.xlim((0,120))\n",
    "# plt.ylim((0,10000))\n",
    "\n",
    "plt.show()"
   ]
  },
  {
   "cell_type": "code",
   "execution_count": 38,
   "metadata": {},
   "outputs": [
    {
     "data": {
      "image/png": "[encoded data removed]",
      "text/plain": [
       "<Figure size 1080x576 with 1 Axes>"
      ]
     },
     "metadata": {
      "needs_background": "light"
     },
     "output_type": "display_data"
    }
   ],
   "source": [
    "f, ax1 = plt.subplots()\n",
    "f.set_figheight(8)\n",
    "f.set_figwidth(15)\n",
    "\n",
    "plt.margins(0.06)\n",
    "plt.title('')\n",
    "\n",
    "bins = 300\n",
    "rt_delta_human = human_only_df[(human_only_df.classed_as == 'target') & (human_only_df.human == True)].delta_rt\n",
    "rt_delta_other = human_only_df[(human_only_df.classed_as == 'target') & (human_only_df.human == False)].delta_rt\n",
    "\n",
    "y, x, _ = ax1.hist(rt_delta_human, bins=bins, label='human')\n",
    "y, x, _ = ax1.hist(rt_delta_other, bins=bins, label='other')\n",
    "# mean = np.mean(values)\n",
    "# ax1.axvline(mean, color='darkorange', lw=1.0, ls='-.', label='mean')\n",
    "# text_style = dict(size=10, color='brown', verticalalignment='center', horizontalalignment='left')\n",
    "# ax1.text(mean*0.85, y.max()*0.98, \"mean {}\".format(round(mean,2)), **text_style, rotation='vertical')\n",
    "\n",
    "plt.xlabel('delta RT')\n",
    "plt.ylabel('count')\n",
    "plt.title('delta between estimated and extracted RT as a proportion of the estimated RT coordinate')\n",
    "plt.legend(loc='best')\n",
    "# plt.xlim((0,120))\n",
    "plt.ylim((0,3000))\n",
    "\n",
    "plt.show()"
   ]
  },
  {
   "cell_type": "code",
   "execution_count": 39,
   "metadata": {},
   "outputs": [
    {
     "data": {
      "image/png": "[encoded data removed]",
      "text/plain": [
       "<Figure size 1080x576 with 1 Axes>"
      ]
     },
     "metadata": {
      "needs_background": "light"
     },
     "output_type": "display_data"
    }
   ],
   "source": [
    "f, ax1 = plt.subplots()\n",
    "f.set_figheight(8)\n",
    "f.set_figwidth(15)\n",
    "\n",
    "plt.margins(0.06)\n",
    "plt.title('')\n",
    "\n",
    "bins = 300\n",
    "scan_delta_human = human_only_df[(human_only_df.classed_as == 'target') & (human_only_df.human == True)].delta_scan\n",
    "scan_delta_other = human_only_df[(human_only_df.classed_as == 'target') & (human_only_df.human == False)].delta_scan\n",
    "\n",
    "y, x, _ = ax1.hist(scan_delta_human, bins=bins, label='human')\n",
    "y, x, _ = ax1.hist(scan_delta_other, bins=bins, label='other')\n",
    "# mean = np.mean(values)\n",
    "# ax1.axvline(mean, color='darkorange', lw=1.0, ls='-.', label='mean')\n",
    "# text_style = dict(size=10, color='brown', verticalalignment='center', horizontalalignment='left')\n",
    "# ax1.text(mean*0.85, y.max()*0.98, \"mean {}\".format(round(mean,2)), **text_style, rotation='vertical')\n",
    "\n",
    "plt.xlabel('delta CCS')\n",
    "plt.ylabel('count')\n",
    "plt.title('delta between estimated and extracted CCS as a proportion of the estimated CCS coordinate')\n",
    "plt.legend(loc='best')\n",
    "# plt.xlim((0,120))\n",
    "plt.ylim((0,2000))\n",
    "\n",
    "plt.show()"
   ]
  },
  {
   "cell_type": "code",
   "execution_count": 40,
   "metadata": {},
   "outputs": [
    {
     "data": {
      "text/plain": [
       "25234"
      ]
     },
     "execution_count": 40,
     "metadata": {},
     "output_type": "execute_result"
    }
   ],
   "source": [
    "df = human_only_df[(human_only_df.classed_as == 'target') & (human_only_df.human == False) & (abs(human_only_df.delta_scan <= 0.1)) & (abs(human_only_df.delta_rt <= 0.05)) & (abs(human_only_df.delta_mz_ppm <= 1))]\n",
    "\n",
    "len(df)"
   ]
  },
  {
   "cell_type": "code",
   "execution_count": 41,
   "metadata": {},
   "outputs": [
    {
     "data": {
      "text/plain": [
       "4426"
      ]
     },
     "execution_count": 41,
     "metadata": {},
     "output_type": "execute_result"
    }
   ],
   "source": [
    "len(df.drop_duplicates(subset=['sequence', 'charge'], keep='first', inplace=False))"
   ]
  },
  {
   "cell_type": "code",
   "execution_count": 42,
   "metadata": {},
   "outputs": [],
   "source": [
    "human_only_df['sequence_charge'] = human_only_df.apply(lambda row: '{}-{}'.format(row.sequence, row.charge), axis=1)"
   ]
  },
  {
   "cell_type": "code",
   "execution_count": 43,
   "metadata": {},
   "outputs": [],
   "source": [
    "human_only_df.target_coords = human_only_df.apply(lambda row: json.loads(row.target_coords), axis=1)"
   ]
  },
  {
   "cell_type": "code",
   "execution_count": 44,
   "metadata": {},
   "outputs": [],
   "source": [
    "human_only_df['estimated_rt_apex'] = human_only_df.apply(lambda row: row.target_coords['rt_apex'], axis=1)\n",
    "human_only_df['estimated_scan_apex'] = human_only_df.apply(lambda row: row.target_coords['scan_apex'], axis=1)\n",
    "human_only_df['estimated_monoisotopic_mz'] = human_only_df.apply(lambda row: row.target_coords['mono_mz'], axis=1)"
   ]
  },
  {
   "cell_type": "code",
   "execution_count": 45,
   "metadata": {},
   "outputs": [],
   "source": [
    "human_only_df['absolute_delta_rt'] = human_only_df.delta_rt * human_only_df.estimated_rt_apex\n",
    "human_only_df['absolute_delta_scan'] = human_only_df.delta_scan * human_only_df.estimated_scan_apex"
   ]
  },
  {
   "cell_type": "code",
   "execution_count": 46,
   "metadata": {},
   "outputs": [],
   "source": [
    "non_human_df = human_only_df[(human_only_df.classed_as == 'target') & (human_only_df.human == False)]\n",
    "human_df = human_only_df[(human_only_df.classed_as == 'target') & (human_only_df.human == True)]"
   ]
  },
  {
   "cell_type": "code",
   "execution_count": 47,
   "metadata": {},
   "outputs": [
    {
     "data": {
      "text/plain": [
       "34211"
      ]
     },
     "execution_count": 47,
     "metadata": {},
     "output_type": "execute_result"
    }
   ],
   "source": [
    "len(non_human_df)"
   ]
  },
  {
   "cell_type": "code",
   "execution_count": 48,
   "metadata": {},
   "outputs": [
    {
     "data": {
      "text/plain": [
       "205505"
      ]
     },
     "execution_count": 48,
     "metadata": {},
     "output_type": "execute_result"
    }
   ],
   "source": [
    "len(human_df)"
   ]
  },
  {
   "cell_type": "code",
   "execution_count": 49,
   "metadata": {},
   "outputs": [
    {
     "data": {
      "text/html": [
       "<div>\n",
       "<style scoped>\n",
       "    .dataframe tbody tr th:only-of-type {\n",
       "        vertical-align: middle;\n",
       "    }\n",
       "\n",
       "    .dataframe tbody tr th {\n",
       "        vertical-align: top;\n",
       "    }\n",
       "\n",
       "    .dataframe thead th {\n",
       "        text-align: right;\n",
       "    }\n",
       "</style>\n",
       "<table border=\"1\" class=\"dataframe\">\n",
       "  <thead>\n",
       "    <tr style=\"text-align: right;\">\n",
       "      <th></th>\n",
       "      <th>sequence</th>\n",
       "      <th>charge</th>\n",
       "      <th>file_idx</th>\n",
       "      <th>peak_idx</th>\n",
       "      <th>target_coords</th>\n",
       "      <th>theoretical_mz</th>\n",
       "      <th>q_value</th>\n",
       "      <th>delta_mz_ppm</th>\n",
       "      <th>delta_rt</th>\n",
       "      <th>delta_scan</th>\n",
       "      <th>...</th>\n",
       "      <th>scan_apex</th>\n",
       "      <th>run_name</th>\n",
       "      <th>group</th>\n",
       "      <th>human</th>\n",
       "      <th>sequence_charge</th>\n",
       "      <th>estimated_rt_apex</th>\n",
       "      <th>estimated_scan_apex</th>\n",
       "      <th>estimated_monoisotopic_mz</th>\n",
       "      <th>absolute_delta_rt</th>\n",
       "      <th>absolute_delta_scan</th>\n",
       "    </tr>\n",
       "  </thead>\n",
       "  <tbody>\n",
       "    <tr>\n",
       "      <th>849809</th>\n",
       "      <td>ANITDVCIAVPPWYTEEQR</td>\n",
       "      <td>2</td>\n",
       "      <td>4</td>\n",
       "      <td>0</td>\n",
       "      <td>{'mono_mz': 1131.5447926533964, 'scan_apex': 3...</td>\n",
       "      <td>1131.546608</td>\n",
       "      <td>0.000003</td>\n",
       "      <td>-0.422554</td>\n",
       "      <td>0.001128</td>\n",
       "      <td>0.063959</td>\n",
       "      <td>...</td>\n",
       "      <td>397</td>\n",
       "      <td>YHE010_10_Slot1-1_1_2995</td>\n",
       "      <td>YHE010</td>\n",
       "      <td>0</td>\n",
       "      <td>ANITDVCIAVPPWYTEEQR-2</td>\n",
       "      <td>2012.379177</td>\n",
       "      <td>373.134805</td>\n",
       "      <td>1131.544793</td>\n",
       "      <td>2.269613</td>\n",
       "      <td>23.865195</td>\n",
       "    </tr>\n",
       "    <tr>\n",
       "      <th>666904</th>\n",
       "      <td>SYYMLQEILETIK</td>\n",
       "      <td>2</td>\n",
       "      <td>6</td>\n",
       "      <td>0</td>\n",
       "      <td>{'mono_mz': 815.9244854200874, 'scan_apex': 53...</td>\n",
       "      <td>815.923476</td>\n",
       "      <td>0.000446</td>\n",
       "      <td>0.534381</td>\n",
       "      <td>-0.003984</td>\n",
       "      <td>-0.044322</td>\n",
       "      <td>...</td>\n",
       "      <td>511</td>\n",
       "      <td>YHE010_02_Slot1-1_1_2987</td>\n",
       "      <td>YHE010</td>\n",
       "      <td>0</td>\n",
       "      <td>SYYMLQEILETIK-2</td>\n",
       "      <td>2222.583726</td>\n",
       "      <td>534.699193</td>\n",
       "      <td>815.924485</td>\n",
       "      <td>-8.854790</td>\n",
       "      <td>-23.699193</td>\n",
       "    </tr>\n",
       "    <tr>\n",
       "      <th>591432</th>\n",
       "      <td>EPQHQAAVPVSQEENER</td>\n",
       "      <td>2</td>\n",
       "      <td>1</td>\n",
       "      <td>0</td>\n",
       "      <td>{'mono_mz': 974.4626292985434, 'scan_apex': 51...</td>\n",
       "      <td>974.461376</td>\n",
       "      <td>0.005202</td>\n",
       "      <td>1.939198</td>\n",
       "      <td>0.006184</td>\n",
       "      <td>0.013291</td>\n",
       "      <td>...</td>\n",
       "      <td>518</td>\n",
       "      <td>YHE010_05_Slot1-1_1_2990</td>\n",
       "      <td>YHE010</td>\n",
       "      <td>0</td>\n",
       "      <td>EPQHQAAVPVSQEENER-2</td>\n",
       "      <td>1537.932695</td>\n",
       "      <td>511.205616</td>\n",
       "      <td>974.462629</td>\n",
       "      <td>9.509837</td>\n",
       "      <td>6.794384</td>\n",
       "    </tr>\n",
       "    <tr>\n",
       "      <th>858591</th>\n",
       "      <td>GTITWIAPAGEYTLDEK</td>\n",
       "      <td>2</td>\n",
       "      <td>4</td>\n",
       "      <td>1</td>\n",
       "      <td>{'mono_mz': 932.9702608227395, 'scan_apex': 46...</td>\n",
       "      <td>932.969976</td>\n",
       "      <td>0.001871</td>\n",
       "      <td>1.945180</td>\n",
       "      <td>-0.007326</td>\n",
       "      <td>0.057279</td>\n",
       "      <td>...</td>\n",
       "      <td>487</td>\n",
       "      <td>YHE010_10_Slot1-1_1_2995</td>\n",
       "      <td>YHE010</td>\n",
       "      <td>0</td>\n",
       "      <td>GTITWIAPAGEYTLDEK-2</td>\n",
       "      <td>1928.410925</td>\n",
       "      <td>460.616304</td>\n",
       "      <td>932.970261</td>\n",
       "      <td>-14.127178</td>\n",
       "      <td>26.383696</td>\n",
       "    </tr>\n",
       "    <tr>\n",
       "      <th>442463</th>\n",
       "      <td>DLPENIILTSLMR</td>\n",
       "      <td>2</td>\n",
       "      <td>2</td>\n",
       "      <td>0</td>\n",
       "      <td>{'mono_mz': 757.9169292645789, 'scan_apex': 57...</td>\n",
       "      <td>757.915976</td>\n",
       "      <td>0.000846</td>\n",
       "      <td>-2.040079</td>\n",
       "      <td>0.000425</td>\n",
       "      <td>0.007783</td>\n",
       "      <td>...</td>\n",
       "      <td>580</td>\n",
       "      <td>YHE010_03_Slot1-1_1_2988</td>\n",
       "      <td>YHE010</td>\n",
       "      <td>0</td>\n",
       "      <td>DLPENIILTSLMR-2</td>\n",
       "      <td>2193.550697</td>\n",
       "      <td>575.520757</td>\n",
       "      <td>757.916929</td>\n",
       "      <td>0.932354</td>\n",
       "      <td>4.479243</td>\n",
       "    </tr>\n",
       "  </tbody>\n",
       "</table>\n",
       "<p>5 rows × 76 columns</p>\n",
       "</div>"
      ],
      "text/plain": [
       "                   sequence  charge  file_idx  peak_idx  \\\n",
       "849809  ANITDVCIAVPPWYTEEQR       2         4         0   \n",
       "666904        SYYMLQEILETIK       2         6         0   \n",
       "591432    EPQHQAAVPVSQEENER       2         1         0   \n",
       "858591    GTITWIAPAGEYTLDEK       2         4         1   \n",
       "442463        DLPENIILTSLMR       2         2         0   \n",
       "\n",
       "                                            target_coords  theoretical_mz  \\\n",
       "849809  {'mono_mz': 1131.5447926533964, 'scan_apex': 3...     1131.546608   \n",
       "666904  {'mono_mz': 815.9244854200874, 'scan_apex': 53...      815.923476   \n",
       "591432  {'mono_mz': 974.4626292985434, 'scan_apex': 51...      974.461376   \n",
       "858591  {'mono_mz': 932.9702608227395, 'scan_apex': 46...      932.969976   \n",
       "442463  {'mono_mz': 757.9169292645789, 'scan_apex': 57...      757.915976   \n",
       "\n",
       "         q_value  delta_mz_ppm  delta_rt  delta_scan  ...  scan_apex  \\\n",
       "849809  0.000003     -0.422554  0.001128    0.063959  ...        397   \n",
       "666904  0.000446      0.534381 -0.003984   -0.044322  ...        511   \n",
       "591432  0.005202      1.939198  0.006184    0.013291  ...        518   \n",
       "858591  0.001871      1.945180 -0.007326    0.057279  ...        487   \n",
       "442463  0.000846     -2.040079  0.000425    0.007783  ...        580   \n",
       "\n",
       "                        run_name   group  human        sequence_charge  \\\n",
       "849809  YHE010_10_Slot1-1_1_2995  YHE010      0  ANITDVCIAVPPWYTEEQR-2   \n",
       "666904  YHE010_02_Slot1-1_1_2987  YHE010      0        SYYMLQEILETIK-2   \n",
       "591432  YHE010_05_Slot1-1_1_2990  YHE010      0    EPQHQAAVPVSQEENER-2   \n",
       "858591  YHE010_10_Slot1-1_1_2995  YHE010      0    GTITWIAPAGEYTLDEK-2   \n",
       "442463  YHE010_03_Slot1-1_1_2988  YHE010      0        DLPENIILTSLMR-2   \n",
       "\n",
       "        estimated_rt_apex  estimated_scan_apex  estimated_monoisotopic_mz  \\\n",
       "849809        2012.379177           373.134805                1131.544793   \n",
       "666904        2222.583726           534.699193                 815.924485   \n",
       "591432        1537.932695           511.205616                 974.462629   \n",
       "858591        1928.410925           460.616304                 932.970261   \n",
       "442463        2193.550697           575.520757                 757.916929   \n",
       "\n",
       "        absolute_delta_rt  absolute_delta_scan  \n",
       "849809           2.269613            23.865195  \n",
       "666904          -8.854790           -23.699193  \n",
       "591432           9.509837             6.794384  \n",
       "858591         -14.127178            26.383696  \n",
       "442463           0.932354             4.479243  \n",
       "\n",
       "[5 rows x 76 columns]"
      ]
     },
     "execution_count": 49,
     "metadata": {},
     "output_type": "execute_result"
    }
   ],
   "source": [
    "non_human_df.sample(n=5)"
   ]
  },
  {
   "cell_type": "code",
   "execution_count": 50,
   "metadata": {},
   "outputs": [
    {
     "data": {
      "text/plain": [
       "Index(['sequence', 'charge', 'file_idx', 'peak_idx', 'target_coords',\n",
       "       'theoretical_mz', 'q_value', 'delta_mz_ppm', 'delta_rt', 'delta_scan',\n",
       "       'fwhm_rt_0', 'fwhm_scan_0', 'geometric_mean_0_1',\n",
       "       'geometric_mean_0_1_2', 'isotope_0_1_mz_delta_ppm',\n",
       "       'isotope_0_1_rt_delta', 'isotope_0_1_scan_delta',\n",
       "       'isotope_0_2_mz_delta_ppm', 'isotope_0_2_rt_delta',\n",
       "       'isotope_0_2_scan_delta', 'monoisotope_auc_over_isotope_peak_auc_sum',\n",
       "       'monoisotope_int_over_isotope_peak_int_sum', 'mz_delta_ppm_std_dev_0',\n",
       "       'mz_delta_ppm_std_dev_1', 'number_of_frames_0', 'number_of_frames_1',\n",
       "       'number_of_frames_2', 'number_of_missing_frames_0',\n",
       "       'number_of_missing_frames_1', 'number_of_missing_frames_2',\n",
       "       'peak_base_width_rt_0', 'peak_base_width_scan_0', 'r_squared_phr',\n",
       "       'rt_isotope_correlation', 'rt_isotope_cv', 'rt_peak_symmetry_0',\n",
       "       'rt_peak_symmetry_1', 'rt_peak_symmetry_2', 'scan_isotope_correlation',\n",
       "       'scan_isotope_cv', 'scan_peak_symmetry_0', 'scan_peak_symmetry_1',\n",
       "       'scan_peak_symmetry_2', 'classed_as', 'prob_decoy', 'prob_target',\n",
       "       'inferred', 'intensity', 'isotope_1_filtered_points_l',\n",
       "       'isotope_1_rt_bounds', 'isotope_1_scan_bounds',\n",
       "       'isotope_2_filtered_points_l', 'isotope_2_rt_bounds',\n",
       "       'isotope_2_scan_bounds', 'isotope_idx_not_in_saturation',\n",
       "       'isotope_intensities_l', 'mono_filtered_points_l', 'mono_rt_bounds',\n",
       "       'mono_scan_bounds', 'monoisotopic_mass', 'monoisotopic_mz_centroid',\n",
       "       'monoisotopic_mz_delta_ppm', 'number_of_isotopes',\n",
       "       'peak_proportion_intensity', 'peak_proportions', 'rt_apex', 'scan_apex',\n",
       "       'run_name', 'group', 'human', 'sequence_charge', 'estimated_rt_apex',\n",
       "       'estimated_scan_apex', 'estimated_monoisotopic_mz', 'absolute_delta_rt',\n",
       "       'absolute_delta_scan'],\n",
       "      dtype='object')"
      ]
     },
     "execution_count": 50,
     "metadata": {},
     "output_type": "execute_result"
    }
   ],
   "source": [
    "human_df.columns"
   ]
  },
  {
   "cell_type": "code",
   "execution_count": 51,
   "metadata": {},
   "outputs": [],
   "source": [
    "MZ_TOLERANCE_PPM = 5  # +/- this amount\n",
    "MZ_TOLERANCE_PERCENT = MZ_TOLERANCE_PPM * 10**-4\n",
    "\n",
    "RT_DELTA = 1.0    # tolerance for the RT apex to be a neighbour\n",
    "CCS_DELTA = 1.0   # tolerance for the CCS apex to be a neighbour"
   ]
  },
  {
   "cell_type": "code",
   "execution_count": 52,
   "metadata": {},
   "outputs": [
    {
     "data": {
      "text/plain": [
       "0.0051499499999999995"
      ]
     },
     "execution_count": 52,
     "metadata": {},
     "output_type": "execute_result"
    }
   ],
   "source": [
    "1029.99 * MZ_TOLERANCE_PERCENT / 100"
   ]
  },
  {
   "cell_type": "code",
   "execution_count": 53,
   "metadata": {},
   "outputs": [],
   "source": [
    "# count how many human sequences are in the same place in the same file as each non-human sequence\n",
    "number_of_human_neighbours_l = []\n",
    "for row in non_human_df.itertuples():\n",
    "    MZ_DELTA = row.monoisotopic_mz_centroid * MZ_TOLERANCE_PERCENT / 100\n",
    "\n",
    "    human_neighbours_df = human_df[(human_df.file_idx == row.file_idx) &\n",
    "                                   (abs(human_df.monoisotopic_mz_centroid - row.monoisotopic_mz_centroid) <= MZ_DELTA) &\n",
    "                                   (abs(human_df.rt_apex - row.rt_apex) <= RT_DELTA) &\n",
    "                                   (abs(human_df.scan_apex - row.scan_apex) <= CCS_DELTA)\n",
    "                                  ]\n",
    "    neighbours_l = human_neighbours_df.sequence_charge.to_list()\n",
    "    number_of_human_neighbours_l.append((row.sequence, row.charge, row.file_idx, len(human_neighbours_df), neighbours_l))\n"
   ]
  },
  {
   "cell_type": "code",
   "execution_count": 54,
   "metadata": {},
   "outputs": [],
   "source": [
    "number_of_human_neighbours_df = pd.DataFrame(number_of_human_neighbours_l, columns=['sequence','charge','file_idx','number_of_human_neighbours','human_neighbours'])"
   ]
  },
  {
   "cell_type": "code",
   "execution_count": 55,
   "metadata": {},
   "outputs": [
    {
     "data": {
      "text/html": [
       "<div>\n",
       "<style scoped>\n",
       "    .dataframe tbody tr th:only-of-type {\n",
       "        vertical-align: middle;\n",
       "    }\n",
       "\n",
       "    .dataframe tbody tr th {\n",
       "        vertical-align: top;\n",
       "    }\n",
       "\n",
       "    .dataframe thead th {\n",
       "        text-align: right;\n",
       "    }\n",
       "</style>\n",
       "<table border=\"1\" class=\"dataframe\">\n",
       "  <thead>\n",
       "    <tr style=\"text-align: right;\">\n",
       "      <th></th>\n",
       "      <th>sequence</th>\n",
       "      <th>charge</th>\n",
       "      <th>file_idx</th>\n",
       "      <th>number_of_human_neighbours</th>\n",
       "      <th>human_neighbours</th>\n",
       "    </tr>\n",
       "  </thead>\n",
       "  <tbody>\n",
       "    <tr>\n",
       "      <th>5</th>\n",
       "      <td>AADETAAAFYPSK</td>\n",
       "      <td>2</td>\n",
       "      <td>9</td>\n",
       "      <td>1</td>\n",
       "      <td>[ILYSQCGDVMR-2]</td>\n",
       "    </tr>\n",
       "    <tr>\n",
       "      <th>6</th>\n",
       "      <td>AADGQM[15.9949]VPFSAFSSSR</td>\n",
       "      <td>2</td>\n",
       "      <td>9</td>\n",
       "      <td>1</td>\n",
       "      <td>[AALTHNDNHFNYEK-2]</td>\n",
       "    </tr>\n",
       "    <tr>\n",
       "      <th>116</th>\n",
       "      <td>AIMGLPLTPYPVEK</td>\n",
       "      <td>2</td>\n",
       "      <td>9</td>\n",
       "      <td>1</td>\n",
       "      <td>[DPVQLNLLYVQAR-2]</td>\n",
       "    </tr>\n",
       "    <tr>\n",
       "      <th>129</th>\n",
       "      <td>ALELWGIPKTIGDLKDIFIK</td>\n",
       "      <td>3</td>\n",
       "      <td>9</td>\n",
       "      <td>1</td>\n",
       "      <td>[IAELLENVTLIHKPVSLQPR-3]</td>\n",
       "    </tr>\n",
       "    <tr>\n",
       "      <th>158</th>\n",
       "      <td>ANGNSFEFGPWEDIPR</td>\n",
       "      <td>2</td>\n",
       "      <td>9</td>\n",
       "      <td>1</td>\n",
       "      <td>[M[15.9949]TDQEAIQDLWQWR-2]</td>\n",
       "    </tr>\n",
       "    <tr>\n",
       "      <th>...</th>\n",
       "      <td>...</td>\n",
       "      <td>...</td>\n",
       "      <td>...</td>\n",
       "      <td>...</td>\n",
       "      <td>...</td>\n",
       "    </tr>\n",
       "    <tr>\n",
       "      <th>33923</th>\n",
       "      <td>VQAPTAYKPSYAHR</td>\n",
       "      <td>2</td>\n",
       "      <td>3</td>\n",
       "      <td>1</td>\n",
       "      <td>[LDYNNIPTVVFSHPPIGTVGLTEDEAIHK-4]</td>\n",
       "    </tr>\n",
       "    <tr>\n",
       "      <th>34175</th>\n",
       "      <td>YSLENTGSVEETVER</td>\n",
       "      <td>2</td>\n",
       "      <td>3</td>\n",
       "      <td>1</td>\n",
       "      <td>[GYAFVHFETQEAADK-2]</td>\n",
       "    </tr>\n",
       "    <tr>\n",
       "      <th>34180</th>\n",
       "      <td>YSTFAQTTSSEQTGQEK</td>\n",
       "      <td>2</td>\n",
       "      <td>3</td>\n",
       "      <td>1</td>\n",
       "      <td>[AQENYEGSEEVSPPQTK-2]</td>\n",
       "    </tr>\n",
       "    <tr>\n",
       "      <th>34207</th>\n",
       "      <td>YYSEEYPLDFAAVECEDSVNDK</td>\n",
       "      <td>2</td>\n",
       "      <td>3</td>\n",
       "      <td>1</td>\n",
       "      <td>[HCQLEPDHEGVPEETDDFGEFR-2]</td>\n",
       "    </tr>\n",
       "    <tr>\n",
       "      <th>34210</th>\n",
       "      <td>YYYTLHVTPEK</td>\n",
       "      <td>2</td>\n",
       "      <td>3</td>\n",
       "      <td>1</td>\n",
       "      <td>[NLYSDDIPHALR-2]</td>\n",
       "    </tr>\n",
       "  </tbody>\n",
       "</table>\n",
       "<p>576 rows × 5 columns</p>\n",
       "</div>"
      ],
      "text/plain": [
       "                        sequence  charge  file_idx  \\\n",
       "5                  AADETAAAFYPSK       2         9   \n",
       "6      AADGQM[15.9949]VPFSAFSSSR       2         9   \n",
       "116               AIMGLPLTPYPVEK       2         9   \n",
       "129         ALELWGIPKTIGDLKDIFIK       3         9   \n",
       "158             ANGNSFEFGPWEDIPR       2         9   \n",
       "...                          ...     ...       ...   \n",
       "33923             VQAPTAYKPSYAHR       2         3   \n",
       "34175            YSLENTGSVEETVER       2         3   \n",
       "34180          YSTFAQTTSSEQTGQEK       2         3   \n",
       "34207     YYSEEYPLDFAAVECEDSVNDK       2         3   \n",
       "34210                YYYTLHVTPEK       2         3   \n",
       "\n",
       "       number_of_human_neighbours                   human_neighbours  \n",
       "5                               1                    [ILYSQCGDVMR-2]  \n",
       "6                               1                 [AALTHNDNHFNYEK-2]  \n",
       "116                             1                  [DPVQLNLLYVQAR-2]  \n",
       "129                             1           [IAELLENVTLIHKPVSLQPR-3]  \n",
       "158                             1        [M[15.9949]TDQEAIQDLWQWR-2]  \n",
       "...                           ...                                ...  \n",
       "33923                           1  [LDYNNIPTVVFSHPPIGTVGLTEDEAIHK-4]  \n",
       "34175                           1                [GYAFVHFETQEAADK-2]  \n",
       "34180                           1              [AQENYEGSEEVSPPQTK-2]  \n",
       "34207                           1         [HCQLEPDHEGVPEETDDFGEFR-2]  \n",
       "34210                           1                   [NLYSDDIPHALR-2]  \n",
       "\n",
       "[576 rows x 5 columns]"
      ]
     },
     "execution_count": 55,
     "metadata": {},
     "output_type": "execute_result"
    }
   ],
   "source": [
    "number_of_human_neighbours_df[number_of_human_neighbours_df.number_of_human_neighbours >= 1]"
   ]
  },
  {
   "cell_type": "code",
   "execution_count": 56,
   "metadata": {},
   "outputs": [
    {
     "data": {
      "text/plain": [
       "array([0, 1, 2])"
      ]
     },
     "execution_count": 56,
     "metadata": {},
     "output_type": "execute_result"
    }
   ],
   "source": [
    "number_of_human_neighbours_df.number_of_human_neighbours.unique()"
   ]
  },
  {
   "cell_type": "code",
   "execution_count": 57,
   "metadata": {},
   "outputs": [
    {
     "data": {
      "text/plain": [
       "3"
      ]
     },
     "execution_count": 57,
     "metadata": {},
     "output_type": "execute_result"
    }
   ],
   "source": [
    "unique_values = len(number_of_human_neighbours_df.number_of_human_neighbours.unique())\n",
    "unique_values"
   ]
  },
  {
   "cell_type": "code",
   "execution_count": 58,
   "metadata": {},
   "outputs": [
    {
     "data": {
      "image/png": "[encoded data removed]",
      "text/plain": [
       "<Figure size 720x576 with 1 Axes>"
      ]
     },
     "metadata": {
      "needs_background": "light"
     },
     "output_type": "display_data"
    }
   ],
   "source": [
    "f, ax1 = plt.subplots()\n",
    "f.set_figheight(8)\n",
    "f.set_figwidth(10)\n",
    "\n",
    "plt.margins(0.06)\n",
    "plt.suptitle('Distribution of the number of human neighbours as non-human peptides in the same run')\n",
    "# plt.title('total {} modified peptide sequences'.format(len(unique_sequences_human_only_df)))\n",
    "\n",
    "counts_neighbours = np.bincount(number_of_human_neighbours_df.number_of_human_neighbours)\n",
    "\n",
    "ax1.bar(range(unique_values), counts_neighbours, width=0.4, align='center')\n",
    "\n",
    "plt.xlabel('number of human neighbours as non-human peptides in the same run')\n",
    "plt.ylabel('frequency')\n",
    "ax1.set(xticks=range(0,unique_values+1), xlim=[-1, unique_values+1])\n",
    "# plt.ylim((0,2000))\n",
    "\n",
    "plt.show()"
   ]
  },
  {
   "cell_type": "code",
   "execution_count": 59,
   "metadata": {},
   "outputs": [
    {
     "ename": "IndexError",
     "evalue": "single positional indexer is out-of-bounds",
     "output_type": "error",
     "traceback": [
      "\u001b[0;31m---------------------------------------------------------------------------\u001b[0m",
      "\u001b[0;31mIndexError\u001b[0m                                Traceback (most recent call last)",
      "\u001b[0;32m<ipython-input-59-fd7df554152d>\u001b[0m in \u001b[0;36m<module>\u001b[0;34m\u001b[0m\n\u001b[0;32m----> 1\u001b[0;31m \u001b[0mnon_human_peptide\u001b[0m \u001b[0;34m=\u001b[0m \u001b[0mnon_human_df\u001b[0m\u001b[0;34m[\u001b[0m\u001b[0;34m(\u001b[0m\u001b[0mnon_human_df\u001b[0m\u001b[0;34m.\u001b[0m\u001b[0msequence\u001b[0m \u001b[0;34m==\u001b[0m \u001b[0;34m'VEVETPEENTGDVIGDLSR'\u001b[0m\u001b[0;34m)\u001b[0m \u001b[0;34m&\u001b[0m \u001b[0;34m(\u001b[0m\u001b[0mnon_human_df\u001b[0m\u001b[0;34m.\u001b[0m\u001b[0mcharge\u001b[0m \u001b[0;34m==\u001b[0m \u001b[0;36m2\u001b[0m\u001b[0;34m)\u001b[0m \u001b[0;34m&\u001b[0m \u001b[0;34m(\u001b[0m\u001b[0mnon_human_df\u001b[0m\u001b[0;34m.\u001b[0m\u001b[0mfile_idx\u001b[0m \u001b[0;34m==\u001b[0m \u001b[0;36m7\u001b[0m\u001b[0;34m)\u001b[0m\u001b[0;34m]\u001b[0m\u001b[0;34m.\u001b[0m\u001b[0miloc\u001b[0m\u001b[0;34m[\u001b[0m\u001b[0;36m0\u001b[0m\u001b[0;34m]\u001b[0m\u001b[0;34m\u001b[0m\u001b[0;34m\u001b[0m\u001b[0m\n\u001b[0m\u001b[1;32m      2\u001b[0m \u001b[0mnon_human_peptide\u001b[0m\u001b[0;34m[\u001b[0m\u001b[0;34m[\u001b[0m\u001b[0;34m'sequence'\u001b[0m\u001b[0;34m,\u001b[0m\u001b[0;34m'charge'\u001b[0m\u001b[0;34m,\u001b[0m\u001b[0;34m'human'\u001b[0m\u001b[0;34m,\u001b[0m\u001b[0;34m'monoisotopic_mz_centroid'\u001b[0m\u001b[0;34m,\u001b[0m\u001b[0;34m'scan_apex'\u001b[0m\u001b[0;34m,\u001b[0m\u001b[0;34m'rt_apex'\u001b[0m\u001b[0;34m,\u001b[0m\u001b[0;34m'estimated_monoisotopic_mz'\u001b[0m\u001b[0;34m,\u001b[0m\u001b[0;34m'estimated_scan_apex'\u001b[0m\u001b[0;34m,\u001b[0m\u001b[0;34m'estimated_rt_apex'\u001b[0m\u001b[0;34m]\u001b[0m\u001b[0;34m]\u001b[0m\u001b[0;34m\u001b[0m\u001b[0;34m\u001b[0m\u001b[0m\n",
      "\u001b[0;32m~/anaconda3/envs/py36/lib/python3.6/site-packages/pandas/core/indexing.py\u001b[0m in \u001b[0;36m__getitem__\u001b[0;34m(self, key)\u001b[0m\n\u001b[1;32m   1765\u001b[0m \u001b[0;34m\u001b[0m\u001b[0m\n\u001b[1;32m   1766\u001b[0m             \u001b[0mmaybe_callable\u001b[0m \u001b[0;34m=\u001b[0m \u001b[0mcom\u001b[0m\u001b[0;34m.\u001b[0m\u001b[0mapply_if_callable\u001b[0m\u001b[0;34m(\u001b[0m\u001b[0mkey\u001b[0m\u001b[0;34m,\u001b[0m \u001b[0mself\u001b[0m\u001b[0;34m.\u001b[0m\u001b[0mobj\u001b[0m\u001b[0;34m)\u001b[0m\u001b[0;34m\u001b[0m\u001b[0;34m\u001b[0m\u001b[0m\n\u001b[0;32m-> 1767\u001b[0;31m             \u001b[0;32mreturn\u001b[0m \u001b[0mself\u001b[0m\u001b[0;34m.\u001b[0m\u001b[0m_getitem_axis\u001b[0m\u001b[0;34m(\u001b[0m\u001b[0mmaybe_callable\u001b[0m\u001b[0;34m,\u001b[0m \u001b[0maxis\u001b[0m\u001b[0;34m=\u001b[0m\u001b[0maxis\u001b[0m\u001b[0;34m)\u001b[0m\u001b[0;34m\u001b[0m\u001b[0;34m\u001b[0m\u001b[0m\n\u001b[0m\u001b[1;32m   1768\u001b[0m \u001b[0;34m\u001b[0m\u001b[0m\n\u001b[1;32m   1769\u001b[0m     \u001b[0;32mdef\u001b[0m \u001b[0m_is_scalar_access\u001b[0m\u001b[0;34m(\u001b[0m\u001b[0mself\u001b[0m\u001b[0;34m,\u001b[0m \u001b[0mkey\u001b[0m\u001b[0;34m:\u001b[0m \u001b[0mTuple\u001b[0m\u001b[0;34m)\u001b[0m\u001b[0;34m:\u001b[0m\u001b[0;34m\u001b[0m\u001b[0;34m\u001b[0m\u001b[0m\n",
      "\u001b[0;32m~/anaconda3/envs/py36/lib/python3.6/site-packages/pandas/core/indexing.py\u001b[0m in \u001b[0;36m_getitem_axis\u001b[0;34m(self, key, axis)\u001b[0m\n\u001b[1;32m   2135\u001b[0m \u001b[0;34m\u001b[0m\u001b[0m\n\u001b[1;32m   2136\u001b[0m             \u001b[0;31m# validate the location\u001b[0m\u001b[0;34m\u001b[0m\u001b[0;34m\u001b[0m\u001b[0;34m\u001b[0m\u001b[0m\n\u001b[0;32m-> 2137\u001b[0;31m             \u001b[0mself\u001b[0m\u001b[0;34m.\u001b[0m\u001b[0m_validate_integer\u001b[0m\u001b[0;34m(\u001b[0m\u001b[0mkey\u001b[0m\u001b[0;34m,\u001b[0m \u001b[0maxis\u001b[0m\u001b[0;34m)\u001b[0m\u001b[0;34m\u001b[0m\u001b[0;34m\u001b[0m\u001b[0m\n\u001b[0m\u001b[1;32m   2138\u001b[0m \u001b[0;34m\u001b[0m\u001b[0m\n\u001b[1;32m   2139\u001b[0m             \u001b[0;32mreturn\u001b[0m \u001b[0mself\u001b[0m\u001b[0;34m.\u001b[0m\u001b[0m_get_loc\u001b[0m\u001b[0;34m(\u001b[0m\u001b[0mkey\u001b[0m\u001b[0;34m,\u001b[0m \u001b[0maxis\u001b[0m\u001b[0;34m=\u001b[0m\u001b[0maxis\u001b[0m\u001b[0;34m)\u001b[0m\u001b[0;34m\u001b[0m\u001b[0;34m\u001b[0m\u001b[0m\n",
      "\u001b[0;32m~/anaconda3/envs/py36/lib/python3.6/site-packages/pandas/core/indexing.py\u001b[0m in \u001b[0;36m_validate_integer\u001b[0;34m(self, key, axis)\u001b[0m\n\u001b[1;32m   2060\u001b[0m         \u001b[0mlen_axis\u001b[0m \u001b[0;34m=\u001b[0m \u001b[0mlen\u001b[0m\u001b[0;34m(\u001b[0m\u001b[0mself\u001b[0m\u001b[0;34m.\u001b[0m\u001b[0mobj\u001b[0m\u001b[0;34m.\u001b[0m\u001b[0m_get_axis\u001b[0m\u001b[0;34m(\u001b[0m\u001b[0maxis\u001b[0m\u001b[0;34m)\u001b[0m\u001b[0;34m)\u001b[0m\u001b[0;34m\u001b[0m\u001b[0;34m\u001b[0m\u001b[0m\n\u001b[1;32m   2061\u001b[0m         \u001b[0;32mif\u001b[0m \u001b[0mkey\u001b[0m \u001b[0;34m>=\u001b[0m \u001b[0mlen_axis\u001b[0m \u001b[0;32mor\u001b[0m \u001b[0mkey\u001b[0m \u001b[0;34m<\u001b[0m \u001b[0;34m-\u001b[0m\u001b[0mlen_axis\u001b[0m\u001b[0;34m:\u001b[0m\u001b[0;34m\u001b[0m\u001b[0;34m\u001b[0m\u001b[0m\n\u001b[0;32m-> 2062\u001b[0;31m             \u001b[0;32mraise\u001b[0m \u001b[0mIndexError\u001b[0m\u001b[0;34m(\u001b[0m\u001b[0;34m\"single positional indexer is out-of-bounds\"\u001b[0m\u001b[0;34m)\u001b[0m\u001b[0;34m\u001b[0m\u001b[0;34m\u001b[0m\u001b[0m\n\u001b[0m\u001b[1;32m   2063\u001b[0m \u001b[0;34m\u001b[0m\u001b[0m\n\u001b[1;32m   2064\u001b[0m     \u001b[0;32mdef\u001b[0m \u001b[0m_getitem_tuple\u001b[0m\u001b[0;34m(\u001b[0m\u001b[0mself\u001b[0m\u001b[0;34m,\u001b[0m \u001b[0mtup\u001b[0m\u001b[0;34m:\u001b[0m \u001b[0mTuple\u001b[0m\u001b[0;34m)\u001b[0m\u001b[0;34m:\u001b[0m\u001b[0;34m\u001b[0m\u001b[0;34m\u001b[0m\u001b[0m\n",
      "\u001b[0;31mIndexError\u001b[0m: single positional indexer is out-of-bounds"
     ]
    }
   ],
   "source": [
    "non_human_peptide = non_human_df[(non_human_df.sequence == 'VEVETPEENTGDVIGDLSR') & (non_human_df.charge == 2) & (non_human_df.file_idx == 7)].iloc[0]\n",
    "non_human_peptide[['sequence','charge','human','monoisotopic_mz_centroid','scan_apex','rt_apex','estimated_monoisotopic_mz','estimated_scan_apex','estimated_rt_apex']]\n"
   ]
  },
  {
   "cell_type": "code",
   "execution_count": null,
   "metadata": {},
   "outputs": [],
   "source": [
    "human_peptide = human_df[(human_df.sequence == 'LDEMEFNPVQQPQLNEK') & (human_df.charge == 2) & (human_df.file_idx == 7)].iloc[0]\n",
    "human_peptide[['sequence','charge','human','monoisotopic_mz_centroid','scan_apex','rt_apex','estimated_monoisotopic_mz','estimated_scan_apex','estimated_rt_apex']]\n"
   ]
  },
  {
   "cell_type": "code",
   "execution_count": null,
   "metadata": {},
   "outputs": [],
   "source": [
    "f, ax1 = plt.subplots()\n",
    "f.set_figheight(8)\n",
    "f.set_figwidth(15)\n",
    "\n",
    "plt.margins(0.06)\n",
    "plt.title('')\n",
    "\n",
    "bins = 300\n",
    "rt_delta_human = human_only_df[(human_only_df.classed_as == 'target') & (human_only_df.human == True)].absolute_delta_rt\n",
    "rt_delta_other = human_only_df[(human_only_df.classed_as == 'target') & (human_only_df.human == False)].absolute_delta_rt\n",
    "\n",
    "y, x, _ = ax1.hist(rt_delta_human, bins=bins, label='human')\n",
    "y, x, _ = ax1.hist(rt_delta_other, bins=bins, label='other')\n",
    "# mean = np.mean(values)\n",
    "# ax1.axvline(mean, color='darkorange', lw=1.0, ls='-.', label='mean')\n",
    "# text_style = dict(size=10, color='brown', verticalalignment='center', horizontalalignment='left')\n",
    "# ax1.text(mean*0.85, y.max()*0.98, \"mean {}\".format(round(mean,2)), **text_style, rotation='vertical')\n",
    "\n",
    "plt.xlabel('delta RT')\n",
    "plt.ylabel('count')\n",
    "plt.title('absolute delta between estimated and extracted RT')\n",
    "plt.legend(loc='best')\n",
    "# plt.xlim((0,120))\n",
    "plt.ylim((0,3000))\n",
    "\n",
    "plt.show()"
   ]
  },
  {
   "cell_type": "code",
   "execution_count": null,
   "metadata": {},
   "outputs": [],
   "source": [
    "f, ax1 = plt.subplots()\n",
    "f.set_figheight(8)\n",
    "f.set_figwidth(15)\n",
    "\n",
    "plt.margins(0.06)\n",
    "plt.title('')\n",
    "\n",
    "bins = 300\n",
    "scan_delta_human = human_only_df[(human_only_df.classed_as == 'target') & (human_only_df.human == True)].absolute_delta_scan\n",
    "scan_delta_other = human_only_df[(human_only_df.classed_as == 'target') & (human_only_df.human == False)].absolute_delta_scan\n",
    "\n",
    "y, x, _ = ax1.hist(scan_delta_human, bins=bins, label='human')\n",
    "y, x, _ = ax1.hist(scan_delta_other, bins=bins, label='other')\n",
    "# mean = np.mean(values)\n",
    "# ax1.axvline(mean, color='darkorange', lw=1.0, ls='-.', label='mean')\n",
    "# text_style = dict(size=10, color='brown', verticalalignment='center', horizontalalignment='left')\n",
    "# ax1.text(mean*0.85, y.max()*0.98, \"mean {}\".format(round(mean,2)), **text_style, rotation='vertical')\n",
    "\n",
    "plt.xlabel('delta CCS')\n",
    "plt.ylabel('count')\n",
    "plt.title('absolute delta between estimated and extracted CCS')\n",
    "plt.legend(loc='best')\n",
    "# plt.xlim((0,120))\n",
    "plt.ylim((0,2000))\n",
    "\n",
    "plt.show()"
   ]
  },
  {
   "cell_type": "code",
   "execution_count": null,
   "metadata": {},
   "outputs": [],
   "source": [
    "human_only_targets_df.columns"
   ]
  },
  {
   "cell_type": "markdown",
   "metadata": {},
   "source": [
    "#### during feature extraction for each peptide in the library, for each run we have extracted one feature for each sequence. Now we need to make sure each feature has only been assigned to one sequence."
   ]
  },
  {
   "cell_type": "code",
   "execution_count": null,
   "metadata": {},
   "outputs": [],
   "source": [
    "sequence_targets_df = sequences_df[(sequences_df.classed_as == 'target')].copy()"
   ]
  },
  {
   "cell_type": "code",
   "execution_count": null,
   "metadata": {},
   "outputs": [],
   "source": [
    "def myround(x, base=5):\n",
    "    return base * round(x/base)"
   ]
  },
  {
   "cell_type": "code",
   "execution_count": null,
   "metadata": {},
   "outputs": [],
   "source": [
    "# normalise the deltas so we can compute the Euclidean distance\n",
    "sequence_targets_df['delta_mz_ppm_normed'] = (sequence_targets_df.delta_mz_ppm - sequence_targets_df.delta_mz_ppm.min())/(sequence_targets_df.delta_mz_ppm.max() - sequence_targets_df.delta_mz_ppm.min())\n",
    "sequence_targets_df['delta_rt_normed'] = (sequence_targets_df.delta_rt - sequence_targets_df.delta_rt.min())/(sequence_targets_df.delta_rt.max() - sequence_targets_df.delta_rt.min())\n",
    "sequence_targets_df['delta_scan_normed'] = (sequence_targets_df.delta_scan - sequence_targets_df.delta_scan.min())/(sequence_targets_df.delta_scan.max() - sequence_targets_df.delta_scan.min())\n"
   ]
  },
  {
   "cell_type": "code",
   "execution_count": null,
   "metadata": {},
   "outputs": [],
   "source": [
    "sequence_targets_df.sample(n=5)"
   ]
  },
  {
   "cell_type": "code",
   "execution_count": null,
   "metadata": {},
   "outputs": [],
   "source": [
    "# for each run, find any duplicate extractions\n",
    "features_l = []\n",
    "for group_name,group_df in sequence_targets_df.groupby(['file_idx'], as_index=False):\n",
    "    df = group_df.copy()\n",
    "    df['rounded_monoisotopic_mz_centroid'] = round(df.monoisotopic_mz_centroid,2)\n",
    "    df['rounded_rt_apex'] = myround(df.rt_apex, base=10)\n",
    "    df['rounded_scan_apex'] = myround(df.scan_apex, base=10)\n",
    "    feature_id = 1\n",
    "    for feature_group_name,feature_group_df in df.groupby(['charge','rounded_monoisotopic_mz_centroid','rounded_rt_apex','rounded_scan_apex'], as_index=False):\n",
    "        df2 = feature_group_df.copy()\n",
    "        df2['distance'] = df2.apply(lambda row: ((row.delta_mz_ppm_normed ** 2) + (row.delta_scan_normed ** 2) + (row.delta_rt_normed ** 2)) ** 0.5, axis=1)\n",
    "        df2.sort_values(by=['distance'], ascending=True, inplace=True)\n",
    "        sequences_l = df2[['sequence','human','group','monoisotopic_mz_centroid','rt_apex','scan_apex','distance']].to_dict('records')\n",
    "        selected_sequence = sequences_l[0]['sequence']\n",
    "        selected_sequence_human = sequences_l[0]['human']\n",
    "        selected_sequence_group = sequences_l[0]['group']\n",
    "        features_l.append((group_name,feature_id,feature_group_name[0],feature_group_name[1],feature_group_name[2],feature_group_name[3],len(feature_group_df),sequences_l,selected_sequence,selected_sequence_human,selected_sequence_group))\n",
    "        feature_id += 1\n",
    "        "
   ]
  },
  {
   "cell_type": "code",
   "execution_count": null,
   "metadata": {},
   "outputs": [],
   "source": [
    "features_df = pd.DataFrame(features_l, columns=['file_idx','feature_id','charge','rounded_monoisotopic_mz_centroid','rounded_rt_apex','rounded_scan_apex','number_of_sequences','sequences','selected_sequence','selected_sequence_human','selected_sequence_group'])\n"
   ]
  },
  {
   "cell_type": "markdown",
   "metadata": {},
   "source": [
    "#### analysing the human-only runs"
   ]
  },
  {
   "cell_type": "code",
   "execution_count": null,
   "metadata": {},
   "outputs": [],
   "source": [
    "human_only_runs_df = features_df[(features_df.selected_sequence_group == 'YHE010')].copy()"
   ]
  },
  {
   "cell_type": "code",
   "execution_count": null,
   "metadata": {},
   "outputs": [],
   "source": [
    "human_only_runs_df.sample(n=10)"
   ]
  },
  {
   "cell_type": "code",
   "execution_count": null,
   "metadata": {},
   "outputs": [],
   "source": [
    "human_only_runs_df.number_of_sequences.value_counts()"
   ]
  },
  {
   "cell_type": "code",
   "execution_count": null,
   "metadata": {},
   "outputs": [],
   "source": [
    "len(human_only_runs_df[(human_only_runs_df.number_of_sequences == 1) & (human_only_runs_df.selected_sequence_human == 0)])"
   ]
  },
  {
   "cell_type": "code",
   "execution_count": null,
   "metadata": {},
   "outputs": [],
   "source": [
    "len(human_only_runs_df[(human_only_runs_df.number_of_sequences > 1) & (human_only_runs_df.selected_sequence_human == 0)])"
   ]
  },
  {
   "cell_type": "code",
   "execution_count": null,
   "metadata": {},
   "outputs": [],
   "source": [
    "# proportion of non-human peptides found that have a feature assigned to more than one sequence\n",
    "len(human_only_runs_df[(human_only_runs_df.number_of_sequences > 1) & (human_only_runs_df.selected_sequence_human == 0)]) / len(human_only_runs_df[(human_only_runs_df.number_of_sequences == 1) & (human_only_runs_df.selected_sequence_human == 0)])"
   ]
  },
  {
   "cell_type": "code",
   "execution_count": null,
   "metadata": {},
   "outputs": [],
   "source": [
    "len(human_only_runs_df[(human_only_runs_df.number_of_sequences > 1)])\n"
   ]
  },
  {
   "cell_type": "code",
   "execution_count": null,
   "metadata": {},
   "outputs": [],
   "source": [
    "human_only_runs_df[(human_only_runs_df.number_of_sequences == 2) & (human_only_runs_df.selected_sequence_human == 0)].sample(n=5)"
   ]
  },
  {
   "cell_type": "code",
   "execution_count": null,
   "metadata": {},
   "outputs": [],
   "source": [
    "human_only_runs_df[(human_only_runs_df.number_of_sequences == 2) & (human_only_runs_df.selected_sequence_human == 1)].sample(n=5)"
   ]
  },
  {
   "cell_type": "code",
   "execution_count": null,
   "metadata": {},
   "outputs": [],
   "source": [
    "human_only_runs_df.loc[384137].sequences"
   ]
  },
  {
   "cell_type": "code",
   "execution_count": null,
   "metadata": {},
   "outputs": [],
   "source": [
    "print('FDR (number of non-human sequences out of total number): {}%'.format(round(len(human_only_runs_df[human_only_runs_df.selected_sequence_human == 0]) / len(human_only_runs_df) * 100,1)))"
   ]
  },
  {
   "cell_type": "code",
   "execution_count": null,
   "metadata": {},
   "outputs": [],
   "source": [
    "# count how many runs each sequence/charge was extracted from\n",
    "sequence_occurences_l = []\n",
    "for group_name,group_df in human_only_runs_df.groupby(['selected_sequence','charge'], as_index=False):\n",
    "    sequence_occurences_l.append((group_name, len(group_df.file_idx.unique()), group_name[0], group_name[1], group_df.iloc[0].selected_sequence_human))\n",
    "human_sequence_occurences_df = pd.DataFrame(sequence_occurences_l, columns=['sequence_charge','number_of_runs_targets_extracted','sequence','charge','human'])\n"
   ]
  },
  {
   "cell_type": "code",
   "execution_count": null,
   "metadata": {},
   "outputs": [],
   "source": [
    "number_of_human_runs_in_experiment = len(human_only_runs_df.file_idx.unique())\n",
    "print('there are {} human-only runs in the experiment'.format(number_of_human_runs_in_experiment))"
   ]
  },
  {
   "cell_type": "code",
   "execution_count": null,
   "metadata": {},
   "outputs": [],
   "source": [
    "# display the number of missing values across the experiment\n",
    "human_sequence_occurences_df['missing_files'] = number_of_human_runs_in_experiment - human_sequence_occurences_df.number_of_runs_targets_extracted\n",
    "proportion_of_missing_values = human_sequence_occurences_df.missing_files.sum() / (len(human_sequence_occurences_df) * number_of_human_runs_in_experiment)\n",
    "print(\"{}% of values are missing in the human-only runs.\".format(round(proportion_of_missing_values*100)))"
   ]
  }
 ],
 "metadata": {
  "kernelspec": {
   "display_name": "Python 3",
   "language": "python",
   "name": "python3"
  },
  "language_info": {
   "codemirror_mode": {
    "name": "ipython",
    "version": 3
   },
   "file_extension": ".py",
   "mimetype": "text/x-python",
   "name": "python",
   "nbconvert_exporter": "python",
   "pygments_lexer": "ipython3",
   "version": "3.6.8"
  }
 },
 "nbformat": 4,
 "nbformat_minor": 2
}
