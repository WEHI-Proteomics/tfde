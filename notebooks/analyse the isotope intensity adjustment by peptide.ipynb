{
 "cells": [
  {
   "cell_type": "markdown",
   "metadata": {},
   "source": [
    "This notebook takes the features classified as targets from the notebook \"classify all features extracted from all the runs\", finds experiment-wide means and standard deviations, "
   ]
  },
  {
   "cell_type": "code",
   "execution_count": 206,
   "metadata": {},
   "outputs": [],
   "source": [
    "import pandas as pd\n",
    "import numpy as np\n",
    "import sys\n",
    "import pickle\n",
    "import glob\n",
    "import os\n",
    "import matplotlib.pyplot as plt"
   ]
  },
  {
   "cell_type": "code",
   "execution_count": 207,
   "metadata": {},
   "outputs": [],
   "source": [
    "# produced by the notebook \"classify all features extracted from all the runs\"\n",
    "SEQUENCES_WITH_SPECIES_FILE_NAME = '/Users/darylwilding-mcbride/Downloads/sequences-with-species-df.pkl'\n"
   ]
  },
  {
   "cell_type": "code",
   "execution_count": 208,
   "metadata": {},
   "outputs": [],
   "source": [
    "sequences_df = pd.read_pickle(SEQUENCES_WITH_SPECIES_FILE_NAME)"
   ]
  },
  {
   "cell_type": "code",
   "execution_count": 209,
   "metadata": {},
   "outputs": [],
   "source": [
    "sequences_df['log_intensity'] = np.log2(sequences_df.intensity)"
   ]
  },
  {
   "cell_type": "markdown",
   "metadata": {},
   "source": [
    "#### use this sample of e.coli sequences that occur in a majority of the runs to analyse the intensity consistency"
   ]
  },
  {
   "cell_type": "code",
   "execution_count": 255,
   "metadata": {},
   "outputs": [
    {
     "data": {
      "text/html": [
       "<div>\n",
       "<style scoped>\n",
       "    .dataframe tbody tr th:only-of-type {\n",
       "        vertical-align: middle;\n",
       "    }\n",
       "\n",
       "    .dataframe tbody tr th {\n",
       "        vertical-align: top;\n",
       "    }\n",
       "\n",
       "    .dataframe thead th {\n",
       "        text-align: right;\n",
       "    }\n",
       "</style>\n",
       "<table border=\"1\" class=\"dataframe\">\n",
       "  <thead>\n",
       "    <tr style=\"text-align: right;\">\n",
       "      <th></th>\n",
       "      <th>sequence</th>\n",
       "      <th>charge</th>\n",
       "      <th>intensity</th>\n",
       "      <th>peak_count</th>\n",
       "      <th>file_idx</th>\n",
       "    </tr>\n",
       "  </thead>\n",
       "  <tbody>\n",
       "    <tr>\n",
       "      <th>5522</th>\n",
       "      <td>LLPHIPADQFPAQALACELYK</td>\n",
       "      <td>3</td>\n",
       "      <td>34716</td>\n",
       "      <td>1</td>\n",
       "      <td>11</td>\n",
       "    </tr>\n",
       "    <tr>\n",
       "      <th>1094</th>\n",
       "      <td>ASSGLNEDEIQK</td>\n",
       "      <td>2</td>\n",
       "      <td>32602</td>\n",
       "      <td>2</td>\n",
       "      <td>10</td>\n",
       "    </tr>\n",
       "    <tr>\n",
       "      <th>3130</th>\n",
       "      <td>GEYQYLNPNDHVNK</td>\n",
       "      <td>2</td>\n",
       "      <td>32178</td>\n",
       "      <td>1</td>\n",
       "      <td>5</td>\n",
       "    </tr>\n",
       "    <tr>\n",
       "      <th>6308</th>\n",
       "      <td>NPNVTSVEHVVVLK</td>\n",
       "      <td>2</td>\n",
       "      <td>27562</td>\n",
       "      <td>3</td>\n",
       "      <td>7</td>\n",
       "    </tr>\n",
       "    <tr>\n",
       "      <th>555</th>\n",
       "      <td>ALAINLVDPAAAGTVIEK</td>\n",
       "      <td>2</td>\n",
       "      <td>24944</td>\n",
       "      <td>3</td>\n",
       "      <td>1</td>\n",
       "    </tr>\n",
       "    <tr>\n",
       "      <th>844</th>\n",
       "      <td>APAIVMDDADLELAVK</td>\n",
       "      <td>2</td>\n",
       "      <td>24099</td>\n",
       "      <td>1</td>\n",
       "      <td>18</td>\n",
       "    </tr>\n",
       "    <tr>\n",
       "      <th>2014</th>\n",
       "      <td>EEESAAAAEVEER</td>\n",
       "      <td>2</td>\n",
       "      <td>23541</td>\n",
       "      <td>3</td>\n",
       "      <td>0</td>\n",
       "    </tr>\n",
       "    <tr>\n",
       "      <th>1159</th>\n",
       "      <td>ATLGEVGNAEHMLR</td>\n",
       "      <td>2</td>\n",
       "      <td>21433</td>\n",
       "      <td>1</td>\n",
       "      <td>15</td>\n",
       "    </tr>\n",
       "    <tr>\n",
       "      <th>8720</th>\n",
       "      <td>VGAGPFPTELFDETGEFLCK</td>\n",
       "      <td>2</td>\n",
       "      <td>19053</td>\n",
       "      <td>2</td>\n",
       "      <td>7</td>\n",
       "    </tr>\n",
       "    <tr>\n",
       "      <th>156</th>\n",
       "      <td>AAPSYEELSNSQELLETGIK</td>\n",
       "      <td>2</td>\n",
       "      <td>14443</td>\n",
       "      <td>2</td>\n",
       "      <td>16</td>\n",
       "    </tr>\n",
       "  </tbody>\n",
       "</table>\n",
       "</div>"
      ],
      "text/plain": [
       "                   sequence  charge  intensity  peak_count  file_idx\n",
       "5522  LLPHIPADQFPAQALACELYK       3      34716           1        11\n",
       "1094           ASSGLNEDEIQK       2      32602           2        10\n",
       "3130         GEYQYLNPNDHVNK       2      32178           1         5\n",
       "6308         NPNVTSVEHVVVLK       2      27562           3         7\n",
       "555      ALAINLVDPAAAGTVIEK       2      24944           3         1\n",
       "844        APAIVMDDADLELAVK       2      24099           1        18\n",
       "2014          EEESAAAAEVEER       2      23541           3         0\n",
       "1159         ATLGEVGNAEHMLR       2      21433           1        15\n",
       "8720   VGAGPFPTELFDETGEFLCK       2      19053           2         7\n",
       "156    AAPSYEELSNSQELLETGIK       2      14443           2        16"
      ]
     },
     "execution_count": 255,
     "metadata": {},
     "output_type": "execute_result"
    }
   ],
   "source": [
    "sequences_df[(sequences_df.number_of_runs_identified > 15) & (sequences_df.human == False)][['sequence','charge','intensity','peak_count','file_idx']].sample(10).sort_values(by=['intensity','sequence','charge'], ascending=False, inplace=False)\n"
   ]
  },
  {
   "cell_type": "markdown",
   "metadata": {},
   "source": [
    "#### analyse a selected sequence across the experiment for runs in which it was classified as a target"
   ]
  },
  {
   "cell_type": "code",
   "execution_count": 256,
   "metadata": {},
   "outputs": [],
   "source": [
    "selected_sequence = 'NPNVTSVEHVVVLK'\n",
    "selected_sequence_charge = 2"
   ]
  },
  {
   "cell_type": "code",
   "execution_count": 257,
   "metadata": {},
   "outputs": [],
   "source": [
    "selected_sequence_df = sequences_df[(sequences_df.sequence == selected_sequence) & (sequences_df.charge == selected_sequence_charge)].copy()\n",
    "selected_sequence_df.sort_values(by=['batch','run_name'], inplace=True)\n",
    "selected_sequence_df.to_pickle('/Users/darylwilding-mcbride/Downloads/sequence-{}-charge-{}-df.pkl'.format(selected_sequence, selected_sequence_charge))"
   ]
  },
  {
   "cell_type": "markdown",
   "metadata": {},
   "source": [
    "#### compare the intensities across the experiment for the selected sequence"
   ]
  },
  {
   "cell_type": "code",
   "execution_count": 258,
   "metadata": {},
   "outputs": [],
   "source": [
    "selected_sequence_1to1_df = selected_sequence_df[selected_sequence_df.batch == '1to1']\n",
    "selected_sequence_1to3_df = selected_sequence_df[selected_sequence_df.batch == '1to3']"
   ]
  },
  {
   "cell_type": "code",
   "execution_count": 259,
   "metadata": {
    "scrolled": false
   },
   "outputs": [
    {
     "data": {
      "image/png": "[encoded data removed]",
      "text/plain": [
       "<Figure size 1080x576 with 1 Axes>"
      ]
     },
     "metadata": {
      "needs_background": "light"
     },
     "output_type": "display_data"
    }
   ],
   "source": [
    "f, ax1 = plt.subplots()\n",
    "f.set_figheight(8)\n",
    "f.set_figwidth(15)\n",
    "\n",
    "plt.margins(0.06)\n",
    "\n",
    "mean_1to1 = round(np.mean(np.log2(selected_sequence_1to1_df.intensity)), 2)\n",
    "mean_1to3 = round(np.mean(np.log2(selected_sequence_1to3_df.intensity)), 2)\n",
    "\n",
    "plt.title('intensities from all runs for sequence {}, charge {}\\nmean 1to1 {}, mean 1to3 {}'.format(selected_sequence, selected_sequence_charge, mean_1to1, mean_1to3))\n",
    "\n",
    "ax1.scatter(selected_sequence_1to1_df.run_name, np.log2(selected_sequence_1to1_df.intensity), marker='o', color='tab:orange', lw=0, s=30, alpha=1.0, label='1to1')\n",
    "ax1.scatter(selected_sequence_1to3_df.run_name, np.log2(selected_sequence_1to3_df.intensity), marker='o', color='tab:blue', lw=0, s=30, alpha=1.0, label='1to3')\n",
    "\n",
    "# highlight whether a point was adjusted for saturation\n",
    "adj_sat_1to1 = selected_sequence_1to1_df[(selected_sequence_1to1_df.isotope_idx_not_in_saturation > 0)]\n",
    "ax1.plot(adj_sat_1to1.run_name, np.log2(adj_sat_1to1.intensity), marker='o', markerfacecolor='none', markeredgecolor='springgreen', linestyle='', markeredgewidth=2, ms=15)\n",
    "\n",
    "adj_sat_1to3 = selected_sequence_1to3_df[(selected_sequence_1to3_df.isotope_idx_not_in_saturation > 0)]\n",
    "ax1.plot(adj_sat_1to3.run_name, np.log2(adj_sat_1to3.intensity), marker='o', markerfacecolor='none', markeredgecolor='springgreen', linestyle='', markeredgewidth=2, ms=15)\n",
    "\n",
    "# show which isotope was used as a reference\n",
    "text_style = dict(size=10, color='blue')\n",
    "for idx,row in adj_sat_1to1.iterrows():\n",
    "    ax1.text(row.run_name, np.log2(row.intensity)+1, \"ref iso {}\".format(int(row.isotope_idx_not_in_saturation)), **text_style, rotation=90)\n",
    "for idx,row in adj_sat_1to3.iterrows():\n",
    "    ax1.text(row.run_name, np.log2(row.intensity)+1, \"ref iso {}\".format(int(row.isotope_idx_not_in_saturation)), **text_style, rotation=90)\n",
    "\n",
    "plt.xlabel('run name')\n",
    "plt.ylabel('log2 intensity')\n",
    "plt.legend(loc='best')\n",
    "\n",
    "# plt.xlim((0,50))\n",
    "plt.ylim((0,20))\n",
    "plt.xticks(rotation=90)\n",
    "\n",
    "plt.show()"
   ]
  },
  {
   "cell_type": "markdown",
   "metadata": {},
   "source": [
    "#### look at the distribution of intensity deltas for sequences in 1to1 runs 01 and 02"
   ]
  },
  {
   "cell_type": "code",
   "execution_count": 260,
   "metadata": {},
   "outputs": [],
   "source": [
    "run_A = '190719_Hela_Ecoli_1to1_01'\n",
    "run_B = '190719_Hela_Ecoli_1to1_02'\n",
    "sequences_in_run_01_df = sequences_df[(sequences_df.file_idx == file_idx_for_run(run_A))]\n",
    "sequences_in_run_02_df = sequences_df[(sequences_df.file_idx == file_idx_for_run(run_B))]"
   ]
  },
  {
   "cell_type": "code",
   "execution_count": 261,
   "metadata": {},
   "outputs": [],
   "source": [
    "sequences_in_both_runs_df = pd.merge(sequences_in_run_01_df, sequences_in_run_02_df, how='inner', left_on=['sequence','charge'], right_on=['sequence','charge'])\n"
   ]
  },
  {
   "cell_type": "code",
   "execution_count": 262,
   "metadata": {},
   "outputs": [],
   "source": [
    "sequences_in_both_runs_df['delta_log_intensity'] = sequences_in_both_runs_df.log_intensity_x - sequences_in_both_runs_df.log_intensity_y"
   ]
  },
  {
   "cell_type": "code",
   "execution_count": 263,
   "metadata": {},
   "outputs": [
    {
     "data": {
      "image/png": "[encoded data removed]",
      "text/plain": [
       "<Figure size 1080x576 with 1 Axes>"
      ]
     },
     "metadata": {
      "needs_background": "light"
     },
     "output_type": "display_data"
    }
   ],
   "source": [
    "f, ax1 = plt.subplots()\n",
    "f.set_figheight(8)\n",
    "f.set_figwidth(15)\n",
    "\n",
    "plt.margins(0.06)\n",
    "plt.title('')\n",
    "\n",
    "bins = 400\n",
    "hist, bins, _ = plt.hist(sequences_in_both_runs_df.delta_log_intensity, bins=bins)\n",
    "plt.xlabel('log2 delta intensity')\n",
    "plt.ylabel('count')\n",
    "plt.title('delta intensity for runs {} and {}'.format(run_A, run_B))\n",
    "ax1.set(xticks=range(-5,5), xlim=[-5, 5])\n",
    "\n",
    "plt.show()"
   ]
  },
  {
   "cell_type": "code",
   "execution_count": 264,
   "metadata": {},
   "outputs": [],
   "source": [
    "ecoli_sequences_df = sequences_df[(sequences_df.human == False) & (sequences_df.number_of_runs_identified >= 15)]\n",
    "# find the median intensity of each sequence in each 1to1 and 1to3 batch\n",
    "batch_medians_l = []\n",
    "for group_name,group_df in ecoli_sequences_df.groupby(['sequence','charge'], as_index=False):\n",
    "    batch_1to1_median = group_df[group_df.batch == '1to1'].intensity.median()\n",
    "    batch_1to3_median = group_df[group_df.batch == '1to3'].intensity.median()\n",
    "    batch_medians_l.append((group_name[0], group_name[1], batch_1to1_median, batch_1to3_median))\n",
    "batch_medians_df = pd.DataFrame(batch_medians_l, columns=['sequence','charge','batch_1to1_median','batch_1to3_median'])\n",
    "batch_medians_df['log_batch_1to1_median'] = np.log2(batch_medians_df.batch_1to1_median)\n",
    "batch_medians_df['log_batch_1to3_median'] = np.log2(batch_medians_df.batch_1to3_median)\n",
    "batch_medians_df['delta_log_median'] = batch_medians_df.log_batch_1to3_median - batch_medians_df.log_batch_1to1_median"
   ]
  },
  {
   "cell_type": "code",
   "execution_count": 265,
   "metadata": {},
   "outputs": [
    {
     "data": {
      "text/html": [
       "<div>\n",
       "<style scoped>\n",
       "    .dataframe tbody tr th:only-of-type {\n",
       "        vertical-align: middle;\n",
       "    }\n",
       "\n",
       "    .dataframe tbody tr th {\n",
       "        vertical-align: top;\n",
       "    }\n",
       "\n",
       "    .dataframe thead th {\n",
       "        text-align: right;\n",
       "    }\n",
       "</style>\n",
       "<table border=\"1\" class=\"dataframe\">\n",
       "  <thead>\n",
       "    <tr style=\"text-align: right;\">\n",
       "      <th></th>\n",
       "      <th>sequence</th>\n",
       "      <th>charge</th>\n",
       "      <th>batch_1to1_median</th>\n",
       "      <th>batch_1to3_median</th>\n",
       "      <th>log_batch_1to1_median</th>\n",
       "      <th>log_batch_1to3_median</th>\n",
       "      <th>delta_log_median</th>\n",
       "    </tr>\n",
       "  </thead>\n",
       "  <tbody>\n",
       "    <tr>\n",
       "      <th>143</th>\n",
       "      <td>VPYVGVDKDNLAEFSK</td>\n",
       "      <td>2</td>\n",
       "      <td>12843.5</td>\n",
       "      <td>25488.0</td>\n",
       "      <td>13.648751</td>\n",
       "      <td>14.637531</td>\n",
       "      <td>0.988780</td>\n",
       "    </tr>\n",
       "    <tr>\n",
       "      <th>25</th>\n",
       "      <td>AVGDSLEAQQYGIAFPK</td>\n",
       "      <td>2</td>\n",
       "      <td>16144.0</td>\n",
       "      <td>20882.5</td>\n",
       "      <td>13.978710</td>\n",
       "      <td>14.350007</td>\n",
       "      <td>0.371296</td>\n",
       "    </tr>\n",
       "    <tr>\n",
       "      <th>69</th>\n",
       "      <td>GIEEVGPNNVPYIVATITSNSAGGQPVSLANLK</td>\n",
       "      <td>3</td>\n",
       "      <td>6859.0</td>\n",
       "      <td>16887.0</td>\n",
       "      <td>12.743783</td>\n",
       "      <td>14.043625</td>\n",
       "      <td>1.299843</td>\n",
       "    </tr>\n",
       "    <tr>\n",
       "      <th>47</th>\n",
       "      <td>ELSAEGFNFIGTGVSGGEEGALK</td>\n",
       "      <td>2</td>\n",
       "      <td>8278.0</td>\n",
       "      <td>19135.0</td>\n",
       "      <td>13.015067</td>\n",
       "      <td>14.223926</td>\n",
       "      <td>1.208860</td>\n",
       "    </tr>\n",
       "    <tr>\n",
       "      <th>148</th>\n",
       "      <td>YEGEIIQSDRPGENILLFK</td>\n",
       "      <td>3</td>\n",
       "      <td>24939.0</td>\n",
       "      <td>29373.0</td>\n",
       "      <td>14.606116</td>\n",
       "      <td>14.842203</td>\n",
       "      <td>0.236087</td>\n",
       "    </tr>\n",
       "  </tbody>\n",
       "</table>\n",
       "</div>"
      ],
      "text/plain": [
       "                              sequence  charge  batch_1to1_median  \\\n",
       "143                   VPYVGVDKDNLAEFSK       2            12843.5   \n",
       "25                   AVGDSLEAQQYGIAFPK       2            16144.0   \n",
       "69   GIEEVGPNNVPYIVATITSNSAGGQPVSLANLK       3             6859.0   \n",
       "47             ELSAEGFNFIGTGVSGGEEGALK       2             8278.0   \n",
       "148                YEGEIIQSDRPGENILLFK       3            24939.0   \n",
       "\n",
       "     batch_1to3_median  log_batch_1to1_median  log_batch_1to3_median  \\\n",
       "143            25488.0              13.648751              14.637531   \n",
       "25             20882.5              13.978710              14.350007   \n",
       "69             16887.0              12.743783              14.043625   \n",
       "47             19135.0              13.015067              14.223926   \n",
       "148            29373.0              14.606116              14.842203   \n",
       "\n",
       "     delta_log_median  \n",
       "143          0.988780  \n",
       "25           0.371296  \n",
       "69           1.299843  \n",
       "47           1.208860  \n",
       "148          0.236087  "
      ]
     },
     "execution_count": 265,
     "metadata": {},
     "output_type": "execute_result"
    }
   ],
   "source": [
    "batch_medians_df.sample(n=5)"
   ]
  },
  {
   "cell_type": "code",
   "execution_count": 266,
   "metadata": {},
   "outputs": [
    {
     "data": {
      "image/png": "[encoded data removed]",
      "text/plain": [
       "<Figure size 1080x576 with 1 Axes>"
      ]
     },
     "metadata": {
      "needs_background": "light"
     },
     "output_type": "display_data"
    }
   ],
   "source": [
    "f, ax1 = plt.subplots()\n",
    "f.set_figheight(8)\n",
    "f.set_figwidth(15)\n",
    "\n",
    "plt.margins(0.06)\n",
    "plt.title('')\n",
    "\n",
    "bins = 400\n",
    "hist, bins, _ = plt.hist(batch_medians_df.delta_log_median, bins=bins)\n",
    "plt.xlabel('delta log2 intensity')\n",
    "plt.ylabel('count')\n",
    "plt.title('delta median intensity for sequences in 1to1 and 1to3 batches')\n",
    "# ax1.set(xticks=range(-5,5), xlim=[-5, 5])\n",
    "\n",
    "plt.show()"
   ]
  },
  {
   "cell_type": "code",
   "execution_count": 267,
   "metadata": {},
   "outputs": [],
   "source": [
    "ecoli_sequences_df = sequences_df[(sequences_df.human == False) & (sequences_df.number_of_runs_identified >= 15)]\n",
    "# find the median intensity of each sequence in each 1to1 and 1to3 batch\n",
    "batch_means_l = []\n",
    "for group_name,group_df in ecoli_sequences_df.groupby(['sequence','charge'], as_index=False):\n",
    "    batch_1to1_mean = group_df[group_df.batch == '1to1'].intensity.mean()\n",
    "    batch_1to3_mean = group_df[group_df.batch == '1to3'].intensity.mean()\n",
    "    batch_means_l.append((group_name[0], group_name[1], batch_1to1_mean, batch_1to3_mean))\n",
    "batch_means_df = pd.DataFrame(batch_means_l, columns=['sequence','charge','batch_1to1_mean','batch_1to3_mean'])\n",
    "batch_means_df['log_batch_1to1_mean'] = np.log2(batch_means_df.batch_1to1_mean)\n",
    "batch_means_df['log_batch_1to3_mean'] = np.log2(batch_means_df.batch_1to3_mean)\n",
    "batch_means_df['delta_log_mean'] = batch_means_df.log_batch_1to3_mean - batch_means_df.log_batch_1to1_mean"
   ]
  },
  {
   "cell_type": "code",
   "execution_count": 268,
   "metadata": {},
   "outputs": [
    {
     "data": {
      "image/png": "[encoded data removed]",
      "text/plain": [
       "<Figure size 1080x576 with 1 Axes>"
      ]
     },
     "metadata": {
      "needs_background": "light"
     },
     "output_type": "display_data"
    }
   ],
   "source": [
    "f, ax1 = plt.subplots()\n",
    "f.set_figheight(8)\n",
    "f.set_figwidth(15)\n",
    "\n",
    "plt.margins(0.06)\n",
    "plt.title('')\n",
    "\n",
    "bins = 400\n",
    "hist, bins, _ = plt.hist(batch_means_df.delta_log_mean, bins=bins)\n",
    "plt.xlabel('delta log2 intensity')\n",
    "plt.ylabel('count')\n",
    "plt.title('delta mean intensity for sequences in 1to1 and 1to3 batches')\n",
    "# ax1.set(xticks=range(-5,5), xlim=[-5, 5])\n",
    "\n",
    "plt.show()"
   ]
  },
  {
   "cell_type": "code",
   "execution_count": null,
   "metadata": {},
   "outputs": [],
   "source": []
  }
 ],
 "metadata": {
  "kernelspec": {
   "display_name": "Python 3",
   "language": "python",
   "name": "python3"
  },
  "language_info": {
   "codemirror_mode": {
    "name": "ipython",
    "version": 3
   },
   "file_extension": ".py",
   "mimetype": "text/x-python",
   "name": "python",
   "nbconvert_exporter": "python",
   "pygments_lexer": "ipython3",
   "version": "3.6.8"
  }
 },
 "nbformat": 4,
 "nbformat_minor": 2
}
