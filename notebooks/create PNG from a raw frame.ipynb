{
 "cells": [
  {
   "cell_type": "markdown",
   "metadata": {},
   "source": [
    "Generate a PNG of binned (0.1 m/z) raw data for a single frame"
   ]
  },
  {
   "cell_type": "code",
   "execution_count": 122,
   "metadata": {},
   "outputs": [],
   "source": [
    "import sqlite3\n",
    "import pandas as pd\n",
    "import numpy as np\n",
    "import sys"
   ]
  },
  {
   "cell_type": "code",
   "execution_count": 123,
   "metadata": {},
   "outputs": [],
   "source": [
    "RT_LIMIT_LOWER = 4340\n",
    "RT_LIMIT_UPPER = 4580"
   ]
  },
  {
   "cell_type": "code",
   "execution_count": 124,
   "metadata": {},
   "outputs": [],
   "source": [
    "MS1_CE = 10"
   ]
  },
  {
   "cell_type": "code",
   "execution_count": 125,
   "metadata": {},
   "outputs": [],
   "source": [
    "# BASE_NAME = \"/home/ubuntu/HeLa_20KInt-rt-{}-{}\".format(RT_LIMIT_LOWER,RT_LIMIT_UPPER)\n",
    "BASE_NAME = \"/Users/darylwilding-mcbride/Downloads/HeLa_20KInt-rt-{}-{}\".format(RT_LIMIT_LOWER,RT_LIMIT_UPPER)\n",
    "# ALLPEPTIDES_FILENAME = '/home/ubuntu/maxquant_results/txt/allPeptides.txt'\n",
    "ALLPEPTIDES_FILENAME = '/Users/darylwilding-mcbride/Downloads/maxquant_results/txt/allPeptides.txt'\n",
    "\n",
    "CONVERTED_DATABASE_NAME = '{}/HeLa_20KInt.sqlite'.format(BASE_NAME)"
   ]
  },
  {
   "cell_type": "code",
   "execution_count": 126,
   "metadata": {},
   "outputs": [
    {
     "data": {
      "text/plain": [
       "'/Users/darylwilding-mcbride/Downloads/HeLa_20KInt-rt-4340-4580/HeLa_20KInt.sqlite'"
      ]
     },
     "execution_count": 126,
     "metadata": {},
     "output_type": "execute_result"
    }
   ],
   "source": [
    "CONVERTED_DATABASE_NAME"
   ]
  },
  {
   "cell_type": "code",
   "execution_count": 127,
   "metadata": {},
   "outputs": [],
   "source": [
    "db_conn = sqlite3.connect(CONVERTED_DATABASE_NAME)\n",
    "frame_properties_df = pd.read_sql_query(\"select frame_id,retention_time_secs from frame_properties where retention_time_secs >= {} and retention_time_secs <= {} and collision_energy == {}\".format(RT_LIMIT_LOWER,RT_LIMIT_UPPER,MS1_CE), db_conn)\n",
    "db_conn.close()"
   ]
  },
  {
   "cell_type": "code",
   "execution_count": 128,
   "metadata": {},
   "outputs": [
    {
     "data": {
      "text/html": [
       "<div>\n",
       "<style scoped>\n",
       "    .dataframe tbody tr th:only-of-type {\n",
       "        vertical-align: middle;\n",
       "    }\n",
       "\n",
       "    .dataframe tbody tr th {\n",
       "        vertical-align: top;\n",
       "    }\n",
       "\n",
       "    .dataframe thead th {\n",
       "        text-align: right;\n",
       "    }\n",
       "</style>\n",
       "<table border=\"1\" class=\"dataframe\">\n",
       "  <thead>\n",
       "    <tr style=\"text-align: right;\">\n",
       "      <th></th>\n",
       "      <th>frame_id</th>\n",
       "      <th>retention_time_secs</th>\n",
       "    </tr>\n",
       "  </thead>\n",
       "  <tbody>\n",
       "    <tr>\n",
       "      <th>0</th>\n",
       "      <td>40411</td>\n",
       "      <td>4340.340330</td>\n",
       "    </tr>\n",
       "    <tr>\n",
       "      <th>1</th>\n",
       "      <td>40422</td>\n",
       "      <td>4341.521415</td>\n",
       "    </tr>\n",
       "    <tr>\n",
       "      <th>2</th>\n",
       "      <td>40433</td>\n",
       "      <td>4342.702923</td>\n",
       "    </tr>\n",
       "    <tr>\n",
       "      <th>3</th>\n",
       "      <td>40444</td>\n",
       "      <td>4343.883324</td>\n",
       "    </tr>\n",
       "    <tr>\n",
       "      <th>4</th>\n",
       "      <td>40455</td>\n",
       "      <td>4345.067491</td>\n",
       "    </tr>\n",
       "  </tbody>\n",
       "</table>\n",
       "</div>"
      ],
      "text/plain": [
       "   frame_id  retention_time_secs\n",
       "0     40411          4340.340330\n",
       "1     40422          4341.521415\n",
       "2     40433          4342.702923\n",
       "3     40444          4343.883324\n",
       "4     40455          4345.067491"
      ]
     },
     "execution_count": 128,
     "metadata": {},
     "output_type": "execute_result"
    }
   ],
   "source": [
    "frame_properties_df.head()"
   ]
  },
  {
   "cell_type": "code",
   "execution_count": 260,
   "metadata": {},
   "outputs": [
    {
     "data": {
      "text/plain": [
       "1.1810854877303427"
      ]
     },
     "execution_count": 260,
     "metadata": {},
     "output_type": "execute_result"
    }
   ],
   "source": [
    "frame_delay = frame_properties_df.iloc[1].retention_time_secs - frame_properties_df.iloc[0].retention_time_secs\n",
    "frame_delay"
   ]
  },
  {
   "cell_type": "code",
   "execution_count": 129,
   "metadata": {},
   "outputs": [
    {
     "data": {
      "text/plain": [
       "203"
      ]
     },
     "execution_count": 129,
     "metadata": {},
     "output_type": "execute_result"
    }
   ],
   "source": [
    "len(frame_properties_df)"
   ]
  },
  {
   "cell_type": "code",
   "execution_count": 215,
   "metadata": {},
   "outputs": [],
   "source": [
    "RAW_FRAME_ID = 40411\n",
    "RAW_FRAME_RT = frame_properties_df[frame_properties_df.frame_id == RAW_FRAME_ID].retention_time_secs.values[0]"
   ]
  },
  {
   "cell_type": "code",
   "execution_count": 216,
   "metadata": {},
   "outputs": [],
   "source": [
    "MZ_MIN = 100.0\n",
    "MZ_MAX = 1700.0\n",
    "MZ_BIN_WIDTH = 0.1\n",
    "MZ_BINS = int((MZ_MAX-MZ_MIN)/MZ_BIN_WIDTH)\n",
    "SCAN_MIN = 1\n",
    "SCAN_MAX = 910"
   ]
  },
  {
   "cell_type": "code",
   "execution_count": 217,
   "metadata": {},
   "outputs": [
    {
     "data": {
      "text/plain": [
       "16000"
      ]
     },
     "execution_count": 217,
     "metadata": {},
     "output_type": "execute_result"
    }
   ],
   "source": [
    "MZ_BINS"
   ]
  },
  {
   "cell_type": "markdown",
   "metadata": {},
   "source": [
    "Populate the intensity array with points from the raw frame"
   ]
  },
  {
   "cell_type": "code",
   "execution_count": 218,
   "metadata": {},
   "outputs": [],
   "source": [
    "# load the raw frame points\n",
    "db_conn = sqlite3.connect(CONVERTED_DATABASE_NAME)\n",
    "raw_points_df = pd.read_sql_query(\"select mz,scan,intensity from frames where frame_id == {}\".format(RAW_FRAME_ID), db_conn)\n",
    "db_conn.close()"
   ]
  },
  {
   "cell_type": "code",
   "execution_count": 219,
   "metadata": {},
   "outputs": [
    {
     "data": {
      "text/plain": [
       "11145"
      ]
     },
     "execution_count": 219,
     "metadata": {},
     "output_type": "execute_result"
    }
   ],
   "source": [
    "raw_points_df.intensity.max()"
   ]
  },
  {
   "cell_type": "code",
   "execution_count": 220,
   "metadata": {},
   "outputs": [
    {
     "data": {
      "text/plain": [
       "268542"
      ]
     },
     "execution_count": 220,
     "metadata": {},
     "output_type": "execute_result"
    }
   ],
   "source": [
    "len(raw_points_df)"
   ]
  },
  {
   "cell_type": "code",
   "execution_count": 221,
   "metadata": {},
   "outputs": [
    {
     "name": "stdout",
     "output_type": "stream",
     "text": [
      "CPU times: user 1.28 s, sys: 17.9 ms, total: 1.3 s\n",
      "Wall time: 1.3 s\n"
     ]
    }
   ],
   "source": [
    "%%time\n",
    "intensity_array = np.zeros([SCAN_MAX, MZ_BINS], dtype=np.uint16)  # scratchpad for the intensity value prior to image conversion\n",
    "for r in zip(raw_points_df.mz,raw_points_df.scan,raw_points_df.intensity):\n",
    "    mz = r[0]\n",
    "    scan = int(r[1])\n",
    "    if (mz >= MZ_MIN) and (mz <= MZ_MAX) and (scan >= SCAN_MIN) and (scan <= SCAN_MAX):\n",
    "        mz_array_idx = int((mz-MZ_MIN)/MZ_BIN_WIDTH)+1\n",
    "        scan_array_idx = scan\n",
    "        intensity = int(r[2])\n",
    "        intensity_array[scan_array_idx,mz_array_idx] += intensity"
   ]
  },
  {
   "cell_type": "code",
   "execution_count": 222,
   "metadata": {},
   "outputs": [
    {
     "data": {
      "text/plain": [
       "13128"
      ]
     },
     "execution_count": 222,
     "metadata": {},
     "output_type": "execute_result"
    }
   ],
   "source": [
    "intensity_array.max()"
   ]
  },
  {
   "cell_type": "code",
   "execution_count": 223,
   "metadata": {},
   "outputs": [],
   "source": [
    "DELTA_MZ = 1.003355     # Mass difference between Carbon-12 and Carbon-13 isotopes, in Da. For calculating the spacing between isotopic peaks."
   ]
  },
  {
   "cell_type": "code",
   "execution_count": 224,
   "metadata": {},
   "outputs": [],
   "source": [
    "MZ_TOLERANCE_PPM = 5\n",
    "MZ_TOLERANCE_PERCENT = MZ_TOLERANCE_PPM * 10**-4"
   ]
  },
  {
   "cell_type": "code",
   "execution_count": 225,
   "metadata": {},
   "outputs": [
    {
     "data": {
      "text/plain": [
       "2.3"
      ]
     },
     "execution_count": 225,
     "metadata": {},
     "output_type": "execute_result"
    }
   ],
   "source": [
    "round(2.3456788,1)"
   ]
  },
  {
   "cell_type": "code",
   "execution_count": 226,
   "metadata": {},
   "outputs": [],
   "source": [
    "import decimal"
   ]
  },
  {
   "cell_type": "code",
   "execution_count": 227,
   "metadata": {},
   "outputs": [
    {
     "data": {
      "text/plain": [
       "1"
      ]
     },
     "execution_count": 227,
     "metadata": {},
     "output_type": "execute_result"
    }
   ],
   "source": [
    "abs(decimal.Decimal(\"{}\".format(MZ_BIN_WIDTH)).as_tuple().exponent)"
   ]
  },
  {
   "cell_type": "code",
   "execution_count": 228,
   "metadata": {},
   "outputs": [
    {
     "data": {
      "text/plain": [
       "0.1"
      ]
     },
     "execution_count": 228,
     "metadata": {},
     "output_type": "execute_result"
    }
   ],
   "source": [
    "MZ_BIN_WIDTH"
   ]
  },
  {
   "cell_type": "markdown",
   "metadata": {},
   "source": [
    "Process the allpeptides file to get the MQ features"
   ]
  },
  {
   "cell_type": "code",
   "execution_count": 229,
   "metadata": {},
   "outputs": [],
   "source": [
    "MIN_ISOTOPE_CORRELATION = 0.9\n",
    "\n",
    "allpeptides_df = pd.read_csv(ALLPEPTIDES_FILENAME, sep='\\t')\n",
    "allpeptides_df.rename(columns={'Number of isotopic peaks':'isotope_count', 'm/z':'mz', 'Number of data points':'number_data_points', 'Intensity':'intensity', 'Ion mobility index':'scan', 'Ion mobility index length':'scan_length', 'Ion mobility index length (FWHM)':'scan_length_fwhm', 'Retention time':'rt', 'Retention length':'rt_length', 'Retention length (FWHM)':'rt_length_fwhm', 'Charge':'charge_state', 'Number of pasef MS/MS':'number_pasef_ms2_ids', 'Isotope correlation':'isotope_correlation'}, inplace=True)\n",
    "allpeptides_df = allpeptides_df[allpeptides_df.intensity.notnull()].copy()  # remove all the null intensity rows\n",
    "allpeptides_df = allpeptides_df[allpeptides_df.intensity.notnull() & (allpeptides_df.isotope_correlation >= MIN_ISOTOPE_CORRELATION) & (allpeptides_df.rt >= RT_LIMIT_LOWER) & (allpeptides_df.rt <= RT_LIMIT_UPPER)].copy()\n",
    "\n",
    "# use the feature's FWHM in RT\n",
    "allpeptides_df[\"rt_delta\"] = allpeptides_df.rt_length_fwhm / 2\n",
    "allpeptides_df[\"rt_lower\"] = allpeptides_df.rt - allpeptides_df.rt_delta\n",
    "allpeptides_df[\"rt_upper\"] = allpeptides_df.rt + allpeptides_df.rt_delta\n",
    "\n",
    "# sort the features by decreasing intensity and give them an ID\n",
    "allpeptides_df.sort_values(by=['intensity'], ascending=False, inplace=True)\n",
    "allpeptides_df[\"mq_feature_id\"] = np.arange(start=1, stop=len(allpeptides_df)+1)\n"
   ]
  },
  {
   "cell_type": "code",
   "execution_count": 318,
   "metadata": {},
   "outputs": [
    {
     "name": "stdout",
     "output_type": "stream",
     "text": [
      "charge states: 1 to 4\n"
     ]
    }
   ],
   "source": [
    "print(\"charge states: {} to {}\".format(allpeptides_df.charge_state.min(), allpeptides_df.charge_state.max()))"
   ]
  },
  {
   "cell_type": "markdown",
   "metadata": {},
   "source": [
    "Calculate the binned rectangle coordinates for all the MQ features"
   ]
  },
  {
   "cell_type": "code",
   "execution_count": 230,
   "metadata": {},
   "outputs": [
    {
     "data": {
      "text/plain": [
       "11524"
      ]
     },
     "execution_count": 230,
     "metadata": {},
     "output_type": "execute_result"
    }
   ],
   "source": [
    "len(allpeptides_df)"
   ]
  },
  {
   "cell_type": "code",
   "execution_count": 231,
   "metadata": {},
   "outputs": [],
   "source": [
    "mz_ppm_tolerance_l = []\n",
    "binned_mz_lower = []\n",
    "binned_mz_upper = []\n",
    "binned_mz_idx_lower = []\n",
    "binned_mz_idx_upper = []\n",
    "scan_lower = []\n",
    "scan_upper = []\n",
    "\n",
    "# calculate the MQ feature rectangles\n",
    "for r in zip(allpeptides_df.mq_feature_id,allpeptides_df.charge_state,allpeptides_df.isotope_count,allpeptides_df.mz,allpeptides_df.scan,allpeptides_df.scan_length):\n",
    "    mq_feature_id = int(r[0])\n",
    "    charge_state = int(r[1])\n",
    "    isotope_count = int(r[2])\n",
    "    mq_feature_mz = r[3]\n",
    "    mq_feature_scan = int(r[4])\n",
    "    mq_feature_scan_length = int(r[5])\n",
    "\n",
    "    expected_isotope_spacing_mz = DELTA_MZ / charge_state\n",
    "\n",
    "    # determine the bounding box coordinates for m/z and scan in real space\n",
    "    mz_ppm_tolerance = mq_feature_mz * MZ_TOLERANCE_PERCENT / 100\n",
    "    mz_ppm_tolerance_l.append((mz_ppm_tolerance))\n",
    "    \n",
    "    rect_mz_lower = int(mq_feature_mz / MZ_BIN_WIDTH) * MZ_BIN_WIDTH\n",
    "    rect_mz_upper = int((mq_feature_mz + ((isotope_count-1) * expected_isotope_spacing_mz)) / MZ_BIN_WIDTH) * MZ_BIN_WIDTH + MZ_BIN_WIDTH\n",
    "    rect_mz_range = rect_mz_upper - rect_mz_lower\n",
    "    binned_mz_lower.append(rect_mz_lower)\n",
    "    binned_mz_upper.append(rect_mz_upper)\n",
    "    binned_mz_idx_lower.append(int((rect_mz_lower-MZ_MIN)/MZ_BIN_WIDTH)+1)\n",
    "    binned_mz_idx_upper.append(int((rect_mz_upper-MZ_MIN)/MZ_BIN_WIDTH)+1)\n",
    "\n",
    "    rect_scan = mq_feature_scan\n",
    "    rect_scan_delta = mq_feature_scan_length / 2\n",
    "    rect_scan_lower = int(rect_scan - rect_scan_delta)\n",
    "    rect_scan_upper = int(rect_scan + rect_scan_delta)\n",
    "    rect_scan_range = int(mq_feature_scan_length)\n",
    "    scan_lower.append(rect_scan_lower)\n",
    "    scan_upper.append(rect_scan_upper)\n",
    "    \n",
    "allpeptides_df['mz_ppm_tolerance'] = mz_ppm_tolerance_l\n",
    "allpeptides_df['binned_rect_mz_lower'] = binned_mz_lower\n",
    "allpeptides_df['binned_rect_mz_upper'] = binned_mz_upper\n",
    "allpeptides_df['binned_rect_mz_idx_lower'] = binned_mz_idx_lower\n",
    "allpeptides_df['binned_rect_mz_idx_upper'] = binned_mz_idx_upper\n",
    "allpeptides_df['scan_lower'] = scan_lower\n",
    "allpeptides_df['scan_upper'] = scan_upper\n"
   ]
  },
  {
   "cell_type": "code",
   "execution_count": 232,
   "metadata": {},
   "outputs": [
    {
     "name": "stdout",
     "output_type": "stream",
     "text": [
      "there are 227 MQ features overlapping this frame\n"
     ]
    }
   ],
   "source": [
    "# for display, use the features that overlap with this frame\n",
    "allpeptides_subset_df = allpeptides_df[(allpeptides_df.rt_lower <= RAW_FRAME_RT) & (allpeptides_df.rt_upper >= RAW_FRAME_RT)].copy()\n",
    "print(\"there are {} MQ features overlapping this frame\".format(len(allpeptides_subset_df)))\n"
   ]
  },
  {
   "cell_type": "code",
   "execution_count": 297,
   "metadata": {},
   "outputs": [
    {
     "data": {
      "image/png": "[encoded data removed]",
      "text/plain": [
       "<Figure size 720x720 with 1 Axes>"
      ]
     },
     "metadata": {
      "needs_background": "light"
     },
     "output_type": "display_data"
    }
   ],
   "source": [
    "# overlay the image with MQ feature locations\n",
    "import matplotlib.patches as patches\n",
    "from matplotlib import colors, cm, pyplot as plt\n",
    "\n",
    "# the m/z range to display\n",
    "mz_display_lower = 700\n",
    "mz_display_upper = 718\n",
    "\n",
    "# the scan range to display\n",
    "scan_display_lower = 1\n",
    "scan_display_upper = 910\n",
    "\n",
    "mz_display_idx_lower = int((mz_display_lower-MZ_MIN)/MZ_BIN_WIDTH)+1\n",
    "mz_display_idx_upper = int((mz_display_upper-MZ_MIN)/MZ_BIN_WIDTH)+1\n",
    "\n",
    "f, ax1 = plt.subplots()\n",
    "\n",
    "f.set_figheight(10)\n",
    "f.set_figwidth(10)\n",
    "\n",
    "plt.xlabel('m/z')\n",
    "plt.ylabel('scan')\n",
    "plt.margins(0.06)\n",
    "\n",
    "# show the image\n",
    "cmap = cm.get_cmap('gist_yarg')\n",
    "# cmap = cm.get_cmap('PuRd')\n",
    "cmap_value_lower = 1\n",
    "cmap_value_upper = 150\n",
    "ax1.imshow(intensity_array[scan_display_lower:scan_display_upper,mz_display_idx_lower:mz_display_idx_upper], cmap=cmap, norm=colors.Normalize(vmin=cmap_value_lower, vmax=cmap_value_upper, clip=True), interpolation='none', aspect='auto', extent=[mz_display_lower,mz_display_upper,scan_display_upper,scan_display_lower])\n",
    "\n",
    "# overlay the MQ feature rectangles\n",
    "ap_df = allpeptides_subset_df\n",
    "for r in zip(ap_df.mq_feature_id,ap_df.mz,ap_df.charge_state,ap_df.isotope_count,ap_df.binned_rect_mz_lower,ap_df.binned_rect_mz_upper,ap_df.scan_lower,ap_df.scan_upper,ap_df.mz_ppm_tolerance):\n",
    "    mq_feature_id = int(r[0])\n",
    "    mq_feature_mz = r[1]\n",
    "    charge_state = int(r[2])\n",
    "    isotope_count = int(r[3])\n",
    "\n",
    "    expected_isotope_spacing_mz = DELTA_MZ / charge_state\n",
    "\n",
    "    # determine the bounding box coordinates for m/z and scan in real space\n",
    "    rect_mz_lower = r[4]\n",
    "    rect_mz_upper = r[5]\n",
    "    rect_mz_range = rect_mz_upper - rect_mz_lower\n",
    "\n",
    "    rect_scan_lower = int(r[6])\n",
    "    rect_scan_upper = int(r[7])\n",
    "    rect_scan_range = rect_scan_upper - rect_scan_lower\n",
    "    \n",
    "    # draw the rectangle for the feature's extent\n",
    "    mq_feature_rect = patches.Rectangle((rect_mz_lower,rect_scan_lower),rect_mz_range,rect_scan_range,linewidth=1,linestyle='-',edgecolor='r',facecolor='none', label='feature')\n",
    "    ax1.add_patch(mq_feature_rect)\n",
    "\n",
    "    # draw the isotopes\n",
    "    mz_ppm_tolerance = r[8]\n",
    "    isotope_base_mz_lower = mq_feature_mz - mz_ppm_tolerance\n",
    "    isotope_base_mz_upper = mq_feature_mz + mz_ppm_tolerance\n",
    "    for isotope_idx in range(0,isotope_count):\n",
    "        isotope_mz_lower = isotope_base_mz_lower + (isotope_idx * expected_isotope_spacing_mz)\n",
    "        isotope_mz_upper = isotope_base_mz_upper + (isotope_idx * expected_isotope_spacing_mz)\n",
    "        isotope_rect = patches.Rectangle((isotope_mz_lower,rect_scan_lower),isotope_mz_upper-isotope_mz_lower,rect_scan_range,linewidth=2,linestyle=':',edgecolor='g',facecolor='none', label='isotope')\n",
    "        ax1.add_patch(isotope_rect)\n",
    "    \n",
    "    # draw the feature label\n",
    "    text_style = dict(size=10, color='red')\n",
    "    text_x = rect_mz_lower\n",
    "    text_y = rect_scan_lower-0.5\n",
    "    if (text_x >= mz_display_lower) and (text_x <= mz_display_upper) and (text_y >= scan_display_lower) and (text_y <= scan_display_upper):\n",
    "        ax1.text(text_x, text_y, \"{}, +{}, {} iso\".format(mq_feature_id,charge_state,isotope_count), **text_style)\n",
    "\n"
   ]
  },
  {
   "cell_type": "code",
   "execution_count": 239,
   "metadata": {},
   "outputs": [],
   "source": [
    "PIXELS_PER_MZ_BIN = 5\n",
    "PIXELS_PER_SCAN = 1"
   ]
  },
  {
   "cell_type": "code",
   "execution_count": 240,
   "metadata": {},
   "outputs": [],
   "source": [
    "# will stretch the image to these dimensions\n",
    "TILE_HEIGHT = SCAN_MAX\n",
    "TILE_WIDTH = TILE_HEIGHT"
   ]
  },
  {
   "cell_type": "code",
   "execution_count": 241,
   "metadata": {},
   "outputs": [],
   "source": [
    "PIXELS_X = MZ_BINS * PIXELS_PER_MZ_BIN\n",
    "PIXELS_Y = SCAN_MAX * PIXELS_PER_SCAN\n",
    "MZ_BINS_PER_TILE = int(TILE_WIDTH / PIXELS_PER_MZ_BIN)\n",
    "TILES_PER_FRAME = int(MZ_BINS / MZ_BINS_PER_TILE)\n",
    "RESIZE_FACTOR_X = TILE_WIDTH / MZ_BINS_PER_TILE\n"
   ]
  },
  {
   "cell_type": "code",
   "execution_count": 242,
   "metadata": {},
   "outputs": [
    {
     "data": {
      "text/plain": [
       "5.0"
      ]
     },
     "execution_count": 242,
     "metadata": {},
     "output_type": "execute_result"
    }
   ],
   "source": [
    "RESIZE_FACTOR_X"
   ]
  },
  {
   "cell_type": "code",
   "execution_count": 243,
   "metadata": {},
   "outputs": [
    {
     "data": {
      "text/plain": [
       "182"
      ]
     },
     "execution_count": 243,
     "metadata": {},
     "output_type": "execute_result"
    }
   ],
   "source": [
    "MZ_BINS_PER_TILE"
   ]
  },
  {
   "cell_type": "code",
   "execution_count": 244,
   "metadata": {},
   "outputs": [
    {
     "data": {
      "text/plain": [
       "87"
      ]
     },
     "execution_count": 244,
     "metadata": {},
     "output_type": "execute_result"
    }
   ],
   "source": [
    "TILES_PER_FRAME"
   ]
  },
  {
   "cell_type": "code",
   "execution_count": 245,
   "metadata": {},
   "outputs": [],
   "source": [
    "# convert the intensity array to an image\n",
    "df = pd.DataFrame(intensity_array).stack().rename_axis(['y', 'x']).reset_index(name='intensity')\n",
    "\n",
    "# remove all the zero-intensity elements\n",
    "df = df[df.intensity > 0]"
   ]
  },
  {
   "cell_type": "code",
   "execution_count": 246,
   "metadata": {},
   "outputs": [
    {
     "data": {
      "text/plain": [
       "239199"
      ]
     },
     "execution_count": 246,
     "metadata": {},
     "output_type": "execute_result"
    }
   ],
   "source": [
    "len(df)"
   ]
  },
  {
   "cell_type": "code",
   "execution_count": 247,
   "metadata": {},
   "outputs": [
    {
     "data": {
      "text/html": [
       "<div>\n",
       "<style scoped>\n",
       "    .dataframe tbody tr th:only-of-type {\n",
       "        vertical-align: middle;\n",
       "    }\n",
       "\n",
       "    .dataframe tbody tr th {\n",
       "        vertical-align: top;\n",
       "    }\n",
       "\n",
       "    .dataframe thead th {\n",
       "        text-align: right;\n",
       "    }\n",
       "</style>\n",
       "<table border=\"1\" class=\"dataframe\">\n",
       "  <thead>\n",
       "    <tr style=\"text-align: right;\">\n",
       "      <th></th>\n",
       "      <th>y</th>\n",
       "      <th>x</th>\n",
       "      <th>intensity</th>\n",
       "    </tr>\n",
       "  </thead>\n",
       "  <tbody>\n",
       "    <tr>\n",
       "      <th>546100</th>\n",
       "      <td>34</td>\n",
       "      <td>2100</td>\n",
       "      <td>79</td>\n",
       "    </tr>\n",
       "    <tr>\n",
       "      <th>553322</th>\n",
       "      <td>34</td>\n",
       "      <td>9322</td>\n",
       "      <td>9</td>\n",
       "    </tr>\n",
       "    <tr>\n",
       "      <th>573624</th>\n",
       "      <td>35</td>\n",
       "      <td>13624</td>\n",
       "      <td>9</td>\n",
       "    </tr>\n",
       "    <tr>\n",
       "      <th>575759</th>\n",
       "      <td>35</td>\n",
       "      <td>15759</td>\n",
       "      <td>9</td>\n",
       "    </tr>\n",
       "    <tr>\n",
       "      <th>578438</th>\n",
       "      <td>36</td>\n",
       "      <td>2438</td>\n",
       "      <td>136</td>\n",
       "    </tr>\n",
       "  </tbody>\n",
       "</table>\n",
       "</div>"
      ],
      "text/plain": [
       "         y      x  intensity\n",
       "546100  34   2100         79\n",
       "553322  34   9322          9\n",
       "573624  35  13624          9\n",
       "575759  35  15759          9\n",
       "578438  36   2438        136"
      ]
     },
     "execution_count": 247,
     "metadata": {},
     "output_type": "execute_result"
    }
   ],
   "source": [
    "df.head()"
   ]
  },
  {
   "cell_type": "code",
   "execution_count": 248,
   "metadata": {},
   "outputs": [
    {
     "name": "stdout",
     "output_type": "stream",
     "text": [
      "(85, 85, 85, 255)\n"
     ]
    }
   ],
   "source": [
    "norm=colors.Normalize(vmin=cmap_value_lower, vmax=cmap_value_upper, clip=True)\n",
    "cmap = cm.get_cmap('gist_yarg')\n",
    "print(cmap(norm(100), bytes=True))"
   ]
  },
  {
   "cell_type": "code",
   "execution_count": 249,
   "metadata": {},
   "outputs": [],
   "source": [
    "def convert_to_colour(intensity):\n",
    "    return cmap(norm(intensity), bytes=True)[:3]"
   ]
  },
  {
   "cell_type": "code",
   "execution_count": 250,
   "metadata": {},
   "outputs": [
    {
     "name": "stdout",
     "output_type": "stream",
     "text": [
      "CPU times: user 42.5 s, sys: 164 ms, total: 42.6 s\n",
      "Wall time: 42.6 s\n"
     ]
    }
   ],
   "source": [
    "%%time\n",
    "colour_l = []\n",
    "for r in zip(df.intensity):\n",
    "    colour_l.append((convert_to_colour(r[0])))\n",
    "df['colour'] = colour_l"
   ]
  },
  {
   "cell_type": "code",
   "execution_count": 251,
   "metadata": {},
   "outputs": [
    {
     "data": {
      "text/html": [
       "<div>\n",
       "<style scoped>\n",
       "    .dataframe tbody tr th:only-of-type {\n",
       "        vertical-align: middle;\n",
       "    }\n",
       "\n",
       "    .dataframe tbody tr th {\n",
       "        vertical-align: top;\n",
       "    }\n",
       "\n",
       "    .dataframe thead th {\n",
       "        text-align: right;\n",
       "    }\n",
       "</style>\n",
       "<table border=\"1\" class=\"dataframe\">\n",
       "  <thead>\n",
       "    <tr style=\"text-align: right;\">\n",
       "      <th></th>\n",
       "      <th>y</th>\n",
       "      <th>x</th>\n",
       "      <th>intensity</th>\n",
       "      <th>colour</th>\n",
       "    </tr>\n",
       "  </thead>\n",
       "  <tbody>\n",
       "    <tr>\n",
       "      <th>546100</th>\n",
       "      <td>34</td>\n",
       "      <td>2100</td>\n",
       "      <td>79</td>\n",
       "      <td>(121, 121, 121)</td>\n",
       "    </tr>\n",
       "    <tr>\n",
       "      <th>553322</th>\n",
       "      <td>34</td>\n",
       "      <td>9322</td>\n",
       "      <td>9</td>\n",
       "      <td>(242, 242, 242)</td>\n",
       "    </tr>\n",
       "    <tr>\n",
       "      <th>573624</th>\n",
       "      <td>35</td>\n",
       "      <td>13624</td>\n",
       "      <td>9</td>\n",
       "      <td>(242, 242, 242)</td>\n",
       "    </tr>\n",
       "    <tr>\n",
       "      <th>575759</th>\n",
       "      <td>35</td>\n",
       "      <td>15759</td>\n",
       "      <td>9</td>\n",
       "      <td>(242, 242, 242)</td>\n",
       "    </tr>\n",
       "    <tr>\n",
       "      <th>578438</th>\n",
       "      <td>36</td>\n",
       "      <td>2438</td>\n",
       "      <td>136</td>\n",
       "      <td>(24, 24, 24)</td>\n",
       "    </tr>\n",
       "  </tbody>\n",
       "</table>\n",
       "</div>"
      ],
      "text/plain": [
       "         y      x  intensity           colour\n",
       "546100  34   2100         79  (121, 121, 121)\n",
       "553322  34   9322          9  (242, 242, 242)\n",
       "573624  35  13624          9  (242, 242, 242)\n",
       "575759  35  15759          9  (242, 242, 242)\n",
       "578438  36   2438        136     (24, 24, 24)"
      ]
     },
     "execution_count": 251,
     "metadata": {},
     "output_type": "execute_result"
    }
   ],
   "source": [
    "df.head()"
   ]
  },
  {
   "cell_type": "code",
   "execution_count": 252,
   "metadata": {},
   "outputs": [],
   "source": [
    "im_array = np.zeros([TILE_HEIGHT, MZ_BINS, 3], dtype=np.uint8)  # container for the image\n",
    "im_array[:] = 255 # fill it"
   ]
  },
  {
   "cell_type": "code",
   "execution_count": 253,
   "metadata": {},
   "outputs": [
    {
     "name": "stdout",
     "output_type": "stream",
     "text": [
      "CPU times: user 409 ms, sys: 3 ms, total: 412 ms\n",
      "Wall time: 413 ms\n"
     ]
    }
   ],
   "source": [
    "%%time\n",
    "for r in zip(df.x, df.y, df.colour):\n",
    "    x = r[0]\n",
    "    y = r[1]\n",
    "    c = r[2]\n",
    "    im_array[y,x,:] = c"
   ]
  },
  {
   "cell_type": "code",
   "execution_count": 254,
   "metadata": {},
   "outputs": [
    {
     "data": {
      "text/plain": [
       "255"
      ]
     },
     "execution_count": 254,
     "metadata": {},
     "output_type": "execute_result"
    }
   ],
   "source": [
    "im_array.max()"
   ]
  },
  {
   "cell_type": "code",
   "execution_count": 316,
   "metadata": {},
   "outputs": [],
   "source": [
    "TILE_BASE = '/Users/darylwilding-mcbride/Downloads/yolo-train'\n",
    "PRE_ASSIGNED_FILES_DIR = '{}/pre-assigned'.format(TILE_BASE)"
   ]
  },
  {
   "cell_type": "code",
   "execution_count": null,
   "metadata": {},
   "outputs": [],
   "source": [
    "# initialise the directories required for the data set creation\n",
    "if os.path.exists(TILE_BASE):\n",
    "    shutil.rmtree(TILE_BASE)\n",
    "os.makedirs(TILE_BASE)\n",
    "\n",
    "if os.path.exists(PRE_ASSIGNED_FILES_DIR):\n",
    "    shutil.rmtree(PRE_ASSIGNED_FILES_DIR)\n",
    "os.makedirs(PRE_ASSIGNED_FILES_DIR)\n"
   ]
  },
  {
   "cell_type": "code",
   "execution_count": 258,
   "metadata": {},
   "outputs": [],
   "source": [
    "from PIL import Image, ImageFont, ImageDraw, ImageEnhance\n",
    "\n",
    "for frame_r in zip(frame_properties_df.frame_id,frame_properties_df.retention_time_secs):\n",
    "    frame_id = int(frame_r[0])\n",
    "    frame_rt = frame_r[1]\n",
    "    \n",
    "    # get the features overlapping this frame\n",
    "    allpeptides_frame_overlap_df = allpeptides_df[(allpeptides_df.rt_lower <= frame_rt) & (allpeptides_df.rt_upper >= frame_rt)].copy()\n",
    "\n",
    "    # load the raw frame points\n",
    "    db_conn = sqlite3.connect(CONVERTED_DATABASE_NAME)\n",
    "    raw_points_df = pd.read_sql_query(\"select mz,scan,intensity from frames where frame_id == {}\".format(frame_id), db_conn)\n",
    "    db_conn.close()\n",
    "    \n",
    "    # convert the raw points to an intensity array\n",
    "    intensity_array = np.zeros([SCAN_MAX+1, MZ_BINS+1], dtype=np.uint16)  # scratchpad for the intensity value prior to image conversion\n",
    "    for r in zip(raw_points_df.mz,raw_points_df.scan,raw_points_df.intensity):\n",
    "        mz = r[0]\n",
    "        scan = int(r[1])\n",
    "        if (mz >= MZ_MIN) and (mz <= MZ_MAX) and (scan >= SCAN_MIN) and (scan <= SCAN_MAX):\n",
    "            mz_array_idx = int((mz-MZ_MIN)/MZ_BIN_WIDTH)+1\n",
    "            scan_array_idx = scan\n",
    "            intensity = int(r[2])\n",
    "            intensity_array[scan_array_idx,mz_array_idx] += intensity\n",
    "\n",
    "    # convert the intensity array to a dataframe\n",
    "    intensity_df = pd.DataFrame(intensity_array).stack().rename_axis(['y', 'x']).reset_index(name='intensity')\n",
    "    # remove all the zero-intensity elements\n",
    "    intensity_df = intensity_df[intensity_df.intensity > 0]\n",
    "    # calculate the colour to represent the intensity\n",
    "    colour_l = []\n",
    "    for r in zip(intensity_df.intensity):\n",
    "        colour_l.append((convert_to_colour(r[0])))\n",
    "    intensity_df['colour'] = colour_l\n",
    "\n",
    "    # create an image of the whole frame\n",
    "    frame_im_array = np.zeros([TILE_HEIGHT+1, MZ_BINS+1, 3], dtype=np.uint8)  # container for the image\n",
    "    frame_im_array[:] = 255 # fill it with white pixels\n",
    "    for r in zip(intensity_df.x, intensity_df.y, intensity_df.colour):\n",
    "        x = r[0]\n",
    "        y = r[1]\n",
    "        c = r[2]\n",
    "        frame_im_array[y,x,:] = c    \n",
    "\n",
    "    # write out the image tiles for the frame\n",
    "    for tile_idx in range(TILES_PER_FRAME):\n",
    "        # tile m/z coordinates\n",
    "        tile_base_mz = int((tile_idx * MZ_BINS_PER_TILE * MZ_BIN_WIDTH) + MZ_MIN)\n",
    "        tile_width_mz = int(MZ_BINS_PER_TILE * MZ_BIN_WIDTH)\n",
    "        # tile index coordinates\n",
    "        tile_idx_base = int(tile_idx * MZ_BINS_PER_TILE)\n",
    "        tile_idx_width = MZ_BINS_PER_TILE\n",
    "        # extract the subset of the frame for this image\n",
    "        tile_im_array = frame_im_array[:,tile_idx_base:tile_idx_base+tile_idx_width,:]\n",
    "        tile = Image.fromarray(tile_im_array, 'RGB')\n",
    "        tile_with_overlay = Image.fromarray(tile_im_array, 'RGB')\n",
    "\n",
    "        # stretch the image to be square\n",
    "        stretched_tile = tile.resize((TILE_WIDTH, TILE_HEIGHT))\n",
    "        stretched_tile_with_overlay = tile_with_overlay.resize((TILE_WIDTH, TILE_HEIGHT))\n",
    "\n",
    "        # get the MQ features that fully fit in the tile\n",
    "        feature_coordinates = []\n",
    "        ap_df = allpeptides_frame_overlap_df\n",
    "        for feature_r in zip(ap_df.mq_feature_id, ap_df.mz, ap_df.charge_state, ap_df.isotope_count, ap_df.binned_rect_mz_idx_lower, ap_df.binned_rect_mz_idx_upper, ap_df.scan_lower, ap_df.scan_upper):\n",
    "            mq_feature_id = int(feature_r[0])\n",
    "            mq_feature_mz = feature_r[1]\n",
    "            mq_feature_charge_state = int(feature_r[2])\n",
    "            isotope_count = int(feature_r[3])\n",
    "            binned_rect_mz_idx_lower = int(feature_r[4])\n",
    "            binned_rect_mz_idx_upper = int(feature_r[5])\n",
    "            scan_lower = int(feature_r[6])\n",
    "            scan_upper = int(feature_r[7])\n",
    "\n",
    "            # draw the MQ features overlay\n",
    "            draw = ImageDraw.Draw(stretched_tile_with_overlay)\n",
    "            x0 = (binned_rect_mz_idx_lower - tile_idx_base) * RESIZE_FACTOR_X\n",
    "            x1 = (binned_rect_mz_idx_upper - tile_idx_base) * RESIZE_FACTOR_X\n",
    "            y0 = scan_lower\n",
    "            y1 = scan_upper\n",
    "            # draw the MQ feature if it overlaps at all with the image\n",
    "            if ((x0 >= 0) and (x0 <= TILE_WIDTH)) or ((x1 >= 0) and (x1 <= TILE_WIDTH)):\n",
    "                draw.rectangle(xy=[(x0, y0), (x1, y1)], fill=None, outline='red')\n",
    "                draw.text((x0, y0-12), \"{}, +{}, {} iso\".format(mq_feature_id,mq_feature_charge_state,isotope_count), font=ImageFont.truetype('/Library/Fonts/Arial.ttf', 10), fill='red')\n",
    "                # text file coordinates\n",
    "                object_class = mq_feature_charge_state-1\n",
    "                width = (x1 - x0) / TILE_WIDTH\n",
    "                height = (y1 - y0) / TILE_HEIGHT\n",
    "                x = (x0 + ((x1 - x0) / 2)) / TILE_WIDTH  # YOLO expects x,y to be the centre point of the object\n",
    "                y = (y0 + ((y1 - y0) / 2)) / TILE_HEIGHT\n",
    "                feature_coordinates.append((\"{} {} {} {} {}\".format(object_class,x,y,width,height)))\n",
    "\n",
    "        # write them out\n",
    "        train_filename = '{}/pre-assigned/frame-{}-tile-{}-mz-{}-{}.png'.format(TILE_BASE, frame_id, tile_idx, tile_base_mz, tile_base_mz+tile_width_mz)\n",
    "        train_text_filename = '{}/pre-assigned/frame-{}-tile-{}-mz-{}-{}.txt'.format(TILE_BASE, frame_id, tile_idx, tile_base_mz, tile_base_mz+tile_width_mz)\n",
    "        overlay_filename = '{}/overlay/frame-{}-tile-{}-mz-{}-{}.png'.format(TILE_BASE, frame_id, tile_idx, tile_base_mz, tile_base_mz+tile_width_mz)\n",
    "        stretched_tile.save(train_filename)\n",
    "        stretched_tile_with_overlay.save(overlay_filename)\n",
    "        # write the text file\n",
    "        with open(train_text_filename, 'w') as f:\n",
    "            for item in feature_coordinates:\n",
    "                f.write(\"%s\\n\" % item)\n"
   ]
  },
  {
   "cell_type": "markdown",
   "metadata": {},
   "source": [
    "Split the tiles into training, test, validation sets"
   ]
  },
  {
   "cell_type": "code",
   "execution_count": 270,
   "metadata": {},
   "outputs": [],
   "source": [
    "# load the file names into a dataframe\n",
    "import glob, os\n",
    "\n",
    "filenames = []\n",
    "for file in glob.glob(\"{}/*.png\".format(PRE_ASSIGNED_FILES_DIR)):\n",
    "    filenames.append((os.path.basename(os.path.splitext(file)[0])))"
   ]
  },
  {
   "cell_type": "code",
   "execution_count": 271,
   "metadata": {},
   "outputs": [
    {
     "data": {
      "text/plain": [
       "'frame-42523-tile-64-mz-1264-1282'"
      ]
     },
     "execution_count": 271,
     "metadata": {},
     "output_type": "execute_result"
    }
   ],
   "source": [
    "filenames[2]"
   ]
  },
  {
   "cell_type": "code",
   "execution_count": 275,
   "metadata": {},
   "outputs": [],
   "source": [
    "fn_df = pd.DataFrame(filenames, columns=['name'])"
   ]
  },
  {
   "cell_type": "code",
   "execution_count": 276,
   "metadata": {},
   "outputs": [
    {
     "data": {
      "text/html": [
       "<div>\n",
       "<style scoped>\n",
       "    .dataframe tbody tr th:only-of-type {\n",
       "        vertical-align: middle;\n",
       "    }\n",
       "\n",
       "    .dataframe tbody tr th {\n",
       "        vertical-align: top;\n",
       "    }\n",
       "\n",
       "    .dataframe thead th {\n",
       "        text-align: right;\n",
       "    }\n",
       "</style>\n",
       "<table border=\"1\" class=\"dataframe\">\n",
       "  <thead>\n",
       "    <tr style=\"text-align: right;\">\n",
       "      <th></th>\n",
       "      <th>name</th>\n",
       "    </tr>\n",
       "  </thead>\n",
       "  <tbody>\n",
       "    <tr>\n",
       "      <th>0</th>\n",
       "      <td>frame-41027-tile-56-mz-1119-1137</td>\n",
       "    </tr>\n",
       "    <tr>\n",
       "      <th>1</th>\n",
       "      <td>frame-42358-tile-1-mz-118-136</td>\n",
       "    </tr>\n",
       "    <tr>\n",
       "      <th>2</th>\n",
       "      <td>frame-42523-tile-64-mz-1264-1282</td>\n",
       "    </tr>\n",
       "    <tr>\n",
       "      <th>3</th>\n",
       "      <td>frame-41005-tile-47-mz-955-973</td>\n",
       "    </tr>\n",
       "    <tr>\n",
       "      <th>4</th>\n",
       "      <td>frame-42501-tile-15-mz-373-391</td>\n",
       "    </tr>\n",
       "  </tbody>\n",
       "</table>\n",
       "</div>"
      ],
      "text/plain": [
       "                               name\n",
       "0  frame-41027-tile-56-mz-1119-1137\n",
       "1     frame-42358-tile-1-mz-118-136\n",
       "2  frame-42523-tile-64-mz-1264-1282\n",
       "3    frame-41005-tile-47-mz-955-973\n",
       "4    frame-42501-tile-15-mz-373-391"
      ]
     },
     "execution_count": 276,
     "metadata": {},
     "output_type": "execute_result"
    }
   ],
   "source": [
    "fn_df.head()"
   ]
  },
  {
   "cell_type": "code",
   "execution_count": 278,
   "metadata": {},
   "outputs": [],
   "source": [
    "def train_validate_test_split(df, train_percent=.9, validate_percent=.05, seed=None):\n",
    "    np.random.seed(seed)\n",
    "    perm = np.random.permutation(df.index)\n",
    "    m = len(df.index)\n",
    "    train_end = int(train_percent * m)\n",
    "    validate_end = int(validate_percent * m) + train_end\n",
    "    train = df.loc[perm[:train_end]]\n",
    "    validate = df.loc[perm[train_end:validate_end]]\n",
    "    test = df.loc[perm[validate_end:]]\n",
    "    return train, validate, test\n"
   ]
  },
  {
   "cell_type": "code",
   "execution_count": 279,
   "metadata": {},
   "outputs": [],
   "source": [
    "train_df,validate_df,test_df = train_validate_test_split(fn_df)"
   ]
  },
  {
   "cell_type": "code",
   "execution_count": 287,
   "metadata": {},
   "outputs": [
    {
     "name": "stdout",
     "output_type": "stream",
     "text": [
      "15894 883 884\n"
     ]
    }
   ],
   "source": [
    "print(len(train_df),len(validate_df),len(test_df))"
   ]
  },
  {
   "cell_type": "code",
   "execution_count": 291,
   "metadata": {},
   "outputs": [],
   "source": [
    "import shutil\n",
    "\n",
    "data_dirs = ['train', 'validation', 'test']\n",
    "data_dfs = [train_df, validate_df, test_df]\n"
   ]
  },
  {
   "cell_type": "code",
   "execution_count": 313,
   "metadata": {},
   "outputs": [],
   "source": [
    "DESTINATION_DATASET_BASE = 'data/peptides'\n",
    "DATA_FILES_DIR = '{}/data-files'.format(TILE_BASE)"
   ]
  },
  {
   "cell_type": "code",
   "execution_count": 314,
   "metadata": {},
   "outputs": [],
   "source": [
    "# initialise the directories required for the data set organisation\n",
    "if os.path.exists(DATA_FILES_DIR):\n",
    "    shutil.rmtree(DATA_FILES_DIR)\n",
    "os.makedirs(DATA_FILES_DIR)\n"
   ]
  },
  {
   "cell_type": "code",
   "execution_count": 317,
   "metadata": {},
   "outputs": [
    {
     "name": "stdout",
     "output_type": "stream",
     "text": [
      "processing train\n",
      "processing validation\n",
      "processing test\n"
     ]
    }
   ],
   "source": [
    "for idx,dd in enumerate(data_dirs):\n",
    "    print(\"processing {}\".format(dd))\n",
    "    \n",
    "    # initialise the directory for each set\n",
    "    data_dir = \"{}/{}\".format(TILE_BASE, dd)\n",
    "    if os.path.exists(data_dir):\n",
    "        shutil.rmtree(data_dir)\n",
    "    os.makedirs(data_dir)\n",
    "    \n",
    "    # create the prefix column\n",
    "    data_dfs[idx]['text_entry'] = '{}/{}/'.format(DESTINATION_DATASET_BASE, dd) + data_dfs[idx].name + '.png'\n",
    "\n",
    "    # copy the files into their respective directories\n",
    "    for r in zip(data_dfs[idx].name):\n",
    "        shutil.copyfile(\"{}/{}.png\".format(PRE_ASSIGNED_FILES_DIR,r[0]), \"{}/{}/{}.png\".format(TILE_BASE, dd, r[0]))\n",
    "        shutil.copyfile(\"{}/{}.txt\".format(PRE_ASSIGNED_FILES_DIR,r[0]), \"{}/{}/{}.txt\".format(TILE_BASE, dd, r[0]))\n",
    "\n",
    "    # generate the text files for each set\n",
    "    data_dfs[idx].text_entry.to_csv(\"{}/{}-list.txt\".format(DATA_FILES_DIR, dd), index=False, header=False)"
   ]
  },
  {
   "cell_type": "code",
   "execution_count": null,
   "metadata": {},
   "outputs": [],
   "source": []
  }
 ],
 "metadata": {
  "kernelspec": {
   "display_name": "Python 3",
   "language": "python",
   "name": "python3"
  },
  "language_info": {
   "codemirror_mode": {
    "name": "ipython",
    "version": 3
   },
   "file_extension": ".py",
   "mimetype": "text/x-python",
   "name": "python",
   "nbconvert_exporter": "python",
   "pygments_lexer": "ipython3",
   "version": "3.6.7"
  }
 },
 "nbformat": 4,
 "nbformat_minor": 2
}
