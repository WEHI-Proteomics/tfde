{
 "cells": [
  {
   "cell_type": "markdown",
   "metadata": {},
   "source": [
    "Generate a PNG of binned (0.1 m/z) raw data for a single frame"
   ]
  },
  {
   "cell_type": "code",
   "execution_count": 41,
   "metadata": {},
   "outputs": [],
   "source": [
    "import sqlite3\n",
    "import pandas as pd\n",
    "import numpy as np\n",
    "import sys"
   ]
  },
  {
   "cell_type": "code",
   "execution_count": 42,
   "metadata": {},
   "outputs": [],
   "source": [
    "RT_LIMIT_LOWER = 4340\n",
    "RT_LIMIT_UPPER = 4580"
   ]
  },
  {
   "cell_type": "code",
   "execution_count": 43,
   "metadata": {},
   "outputs": [],
   "source": [
    "MS1_CE = 10"
   ]
  },
  {
   "cell_type": "code",
   "execution_count": 221,
   "metadata": {},
   "outputs": [],
   "source": [
    "# BASE_NAME = \"/home/ubuntu/HeLa_20KInt-rt-{}-{}\".format(RT_LIMIT_LOWER,RT_LIMIT_UPPER)\n",
    "BASE_NAME = \"/Users/darylwilding-mcbride/Downloads/HeLa_20KInt-rt-{}-{}\".format(RT_LIMIT_LOWER,RT_LIMIT_UPPER)\n",
    "# ALLPEPTIDES_FILENAME = '/home/ubuntu/maxquant_results/txt/allPeptides.txt'\n",
    "ALLPEPTIDES_FILENAME = '/Users/darylwilding-mcbride/Downloads/maxquant_results/txt/allPeptides.txt'\n",
    "\n",
    "CONVERTED_DATABASE_NAME = '{}/HeLa_20KInt.sqlite'.format(BASE_NAME)"
   ]
  },
  {
   "cell_type": "code",
   "execution_count": 222,
   "metadata": {},
   "outputs": [
    {
     "data": {
      "text/plain": [
       "'/Users/darylwilding-mcbride/Downloads/HeLa_20KInt-rt-4340-4580/HeLa_20KInt.sqlite'"
      ]
     },
     "execution_count": 222,
     "metadata": {},
     "output_type": "execute_result"
    }
   ],
   "source": [
    "CONVERTED_DATABASE_NAME"
   ]
  },
  {
   "cell_type": "code",
   "execution_count": 46,
   "metadata": {},
   "outputs": [],
   "source": [
    "db_conn = sqlite3.connect(CONVERTED_DATABASE_NAME)\n",
    "df = pd.read_sql_query(\"select frame_id,retention_time_secs from frame_properties where retention_time_secs >= {} and retention_time_secs <= {} and collision_energy == {}\".format(RT_LIMIT_LOWER,RT_LIMIT_UPPER,MS1_CE), db_conn)\n",
    "db_conn.close()"
   ]
  },
  {
   "cell_type": "code",
   "execution_count": 47,
   "metadata": {},
   "outputs": [
    {
     "data": {
      "text/html": [
       "<div>\n",
       "<style scoped>\n",
       "    .dataframe tbody tr th:only-of-type {\n",
       "        vertical-align: middle;\n",
       "    }\n",
       "\n",
       "    .dataframe tbody tr th {\n",
       "        vertical-align: top;\n",
       "    }\n",
       "\n",
       "    .dataframe thead th {\n",
       "        text-align: right;\n",
       "    }\n",
       "</style>\n",
       "<table border=\"1\" class=\"dataframe\">\n",
       "  <thead>\n",
       "    <tr style=\"text-align: right;\">\n",
       "      <th></th>\n",
       "      <th>frame_id</th>\n",
       "      <th>retention_time_secs</th>\n",
       "    </tr>\n",
       "  </thead>\n",
       "  <tbody>\n",
       "    <tr>\n",
       "      <th>0</th>\n",
       "      <td>40411</td>\n",
       "      <td>4340.340330</td>\n",
       "    </tr>\n",
       "    <tr>\n",
       "      <th>1</th>\n",
       "      <td>40422</td>\n",
       "      <td>4341.521415</td>\n",
       "    </tr>\n",
       "    <tr>\n",
       "      <th>2</th>\n",
       "      <td>40433</td>\n",
       "      <td>4342.702923</td>\n",
       "    </tr>\n",
       "    <tr>\n",
       "      <th>3</th>\n",
       "      <td>40444</td>\n",
       "      <td>4343.883324</td>\n",
       "    </tr>\n",
       "    <tr>\n",
       "      <th>4</th>\n",
       "      <td>40455</td>\n",
       "      <td>4345.067491</td>\n",
       "    </tr>\n",
       "  </tbody>\n",
       "</table>\n",
       "</div>"
      ],
      "text/plain": [
       "   frame_id  retention_time_secs\n",
       "0     40411          4340.340330\n",
       "1     40422          4341.521415\n",
       "2     40433          4342.702923\n",
       "3     40444          4343.883324\n",
       "4     40455          4345.067491"
      ]
     },
     "execution_count": 47,
     "metadata": {},
     "output_type": "execute_result"
    }
   ],
   "source": [
    "df.head()"
   ]
  },
  {
   "cell_type": "code",
   "execution_count": 69,
   "metadata": {},
   "outputs": [],
   "source": [
    "RAW_FRAME_ID = 40444\n",
    "RAW_FRAME_RT = df[df.frame_id == RAW_FRAME_ID].retention_time_secs.values[0]"
   ]
  },
  {
   "cell_type": "code",
   "execution_count": 252,
   "metadata": {},
   "outputs": [],
   "source": [
    "MZ_MIN = 100.0\n",
    "MZ_MAX = 1700.0\n",
    "MZ_BIN_WIDTH = 0.1\n",
    "MZ_BINS = int((MZ_MAX-MZ_MIN)/MZ_BIN_WIDTH)\n",
    "SCAN_MIN = 1\n",
    "SCAN_MAX = 910"
   ]
  },
  {
   "cell_type": "code",
   "execution_count": 210,
   "metadata": {},
   "outputs": [
    {
     "data": {
      "text/plain": [
       "16000"
      ]
     },
     "execution_count": 210,
     "metadata": {},
     "output_type": "execute_result"
    }
   ],
   "source": [
    "MZ_BINS"
   ]
  },
  {
   "cell_type": "markdown",
   "metadata": {},
   "source": [
    "Populate the intensity array with points from the raw frame"
   ]
  },
  {
   "cell_type": "code",
   "execution_count": 53,
   "metadata": {},
   "outputs": [],
   "source": [
    "# load the raw frame points\n",
    "db_conn = sqlite3.connect(CONVERTED_DATABASE_NAME)\n",
    "raw_points_df = pd.read_sql_query(\"select mz,scan,intensity from frames where frame_id == {}\".format(RAW_FRAME_ID), db_conn)\n",
    "db_conn.close()"
   ]
  },
  {
   "cell_type": "code",
   "execution_count": 54,
   "metadata": {},
   "outputs": [
    {
     "data": {
      "text/plain": [
       "11145"
      ]
     },
     "execution_count": 54,
     "metadata": {},
     "output_type": "execute_result"
    }
   ],
   "source": [
    "raw_points_df.intensity.max()"
   ]
  },
  {
   "cell_type": "code",
   "execution_count": 55,
   "metadata": {},
   "outputs": [
    {
     "data": {
      "text/plain": [
       "256539"
      ]
     },
     "execution_count": 55,
     "metadata": {},
     "output_type": "execute_result"
    }
   ],
   "source": [
    "len(raw_points_df)"
   ]
  },
  {
   "cell_type": "code",
   "execution_count": 165,
   "metadata": {},
   "outputs": [],
   "source": [
    "intensity_array = np.zeros([SCAN_MAX, MZ_BINS], dtype=np.uint16)  # scratchpad for the intensity value prior to image conversion\n",
    "for point_idx in range(len(raw_points_df)):\n",
    "    point_df = raw_points_df.iloc[point_idx]\n",
    "    mz = point_df.mz\n",
    "    scan = int(point_df.scan)\n",
    "    if (mz >= MZ_MIN) and (mz <= MZ_MAX) and (scan >= SCAN_MIN) and (scan <= SCAN_MAX):\n",
    "        mz_array_idx = int((mz-MZ_MIN)/MZ_BIN_WIDTH)+1\n",
    "        scan_array_idx = scan\n",
    "        intensity = int(point_df.intensity)\n",
    "        intensity_array[scan_array_idx,mz_array_idx] += intensity"
   ]
  },
  {
   "cell_type": "code",
   "execution_count": 166,
   "metadata": {},
   "outputs": [
    {
     "data": {
      "text/plain": [
       "13171"
      ]
     },
     "execution_count": 166,
     "metadata": {},
     "output_type": "execute_result"
    }
   ],
   "source": [
    "intensity_array.max()"
   ]
  },
  {
   "cell_type": "code",
   "execution_count": 167,
   "metadata": {},
   "outputs": [],
   "source": [
    "DELTA_MZ = 1.003355     # Mass difference between Carbon-12 and Carbon-13 isotopes, in Da. For calculating the spacing between isotopic peaks."
   ]
  },
  {
   "cell_type": "code",
   "execution_count": 168,
   "metadata": {},
   "outputs": [],
   "source": [
    "MZ_TOLERANCE_PPM = 5\n",
    "MZ_TOLERANCE_PERCENT = MZ_TOLERANCE_PPM * 10**-4"
   ]
  },
  {
   "cell_type": "code",
   "execution_count": 169,
   "metadata": {},
   "outputs": [
    {
     "data": {
      "text/plain": [
       "2.3"
      ]
     },
     "execution_count": 169,
     "metadata": {},
     "output_type": "execute_result"
    }
   ],
   "source": [
    "round(2.3456788,1)"
   ]
  },
  {
   "cell_type": "code",
   "execution_count": 170,
   "metadata": {},
   "outputs": [],
   "source": [
    "import decimal"
   ]
  },
  {
   "cell_type": "code",
   "execution_count": 171,
   "metadata": {},
   "outputs": [
    {
     "data": {
      "text/plain": [
       "1"
      ]
     },
     "execution_count": 171,
     "metadata": {},
     "output_type": "execute_result"
    }
   ],
   "source": [
    "abs(decimal.Decimal(\"{}\".format(MZ_BIN_WIDTH)).as_tuple().exponent)"
   ]
  },
  {
   "cell_type": "code",
   "execution_count": 172,
   "metadata": {},
   "outputs": [
    {
     "data": {
      "text/plain": [
       "0.1"
      ]
     },
     "execution_count": 172,
     "metadata": {},
     "output_type": "execute_result"
    }
   ],
   "source": [
    "MZ_BIN_WIDTH"
   ]
  },
  {
   "cell_type": "code",
   "execution_count": 338,
   "metadata": {},
   "outputs": [
    {
     "name": "stdout",
     "output_type": "stream",
     "text": [
      "there are 330 MQ features overlapping this frame\n"
     ]
    },
    {
     "data": {
      "image/png": "[encoded data removed]",
      "text/plain": [
       "<Figure size 720x720 with 1 Axes>"
      ]
     },
     "metadata": {
      "needs_background": "light"
     },
     "output_type": "display_data"
    }
   ],
   "source": [
    "# overlay the image with MQ feature locations\n",
    "import matplotlib.patches as patches\n",
    "from matplotlib import colors, cm, pyplot as plt\n",
    "\n",
    "mz_actual_lower = 770\n",
    "mz_actual_upper = 776\n",
    "\n",
    "mz_idx_lower = int((mz_actual_lower-MZ_MIN)/MZ_BIN_WIDTH)+1\n",
    "mz_idx_upper = int((mz_actual_upper-MZ_MIN)/MZ_BIN_WIDTH)+1\n",
    "\n",
    "scan_lower = 1\n",
    "scan_upper = 910\n",
    "\n",
    "f, ax1 = plt.subplots()\n",
    "\n",
    "f.set_figheight(10)\n",
    "f.set_figwidth(10)\n",
    "\n",
    "plt.xlabel('m/z')\n",
    "plt.ylabel('scan')\n",
    "plt.margins(0.06)\n",
    "\n",
    "MIN_ISOTOPE_CORRELATION = 0.9\n",
    "\n",
    "allpeptides_df = pd.read_csv(ALLPEPTIDES_FILENAME, sep='\\t')\n",
    "allpeptides_df.rename(columns={'Number of isotopic peaks':'isotope_count', 'm/z':'mz', 'Number of data points':'number_data_points', 'Intensity':'intensity', 'Ion mobility index':'scan', 'Ion mobility index length':'scan_length', 'Ion mobility index length (FWHM)':'scan_length_fwhm', 'Retention time':'rt', 'Retention length':'rt_length', 'Retention length (FWHM)':'rt_length_fwhm', 'Charge':'charge_state', 'Number of pasef MS/MS':'number_pasef_ms2_ids', 'Isotope correlation':'isotope_correlation'}, inplace=True)\n",
    "\n",
    "# use the feature's FWHM in RT\n",
    "allpeptides_df[\"rt_delta\"] = allpeptides_df.rt_length_fwhm / 2\n",
    "allpeptides_df[\"rt_lower\"] = allpeptides_df.rt - allpeptides_df.rt_delta\n",
    "allpeptides_df[\"rt_upper\"] = allpeptides_df.rt + allpeptides_df.rt_delta\n",
    "\n",
    "# use the features that were found (not just identified) if their isotope correlation was more than MIN_ISOTOPE_CORRELATION\n",
    "allpeptides_subset_df = allpeptides_df[(allpeptides_df.intensity.notnull()) & (allpeptides_df.rt_lower <= RAW_FRAME_RT) & (allpeptides_df.rt_upper >= RAW_FRAME_RT) & (allpeptides_df.isotope_correlation >= MIN_ISOTOPE_CORRELATION)].copy()\n",
    "print(\"there are {} MQ features overlapping this frame\".format(len(allpeptides_subset_df)))\n",
    "\n",
    "# sort the MQ features by decreasing intensity and give them an ID\n",
    "allpeptides_subset_df.sort_values(by=['intensity'], ascending=False, inplace=True)\n",
    "allpeptides_subset_df[\"mq_feature_id\"] = np.arange(start=1, stop=len(allpeptides_subset_df)+1)\n",
    "\n",
    "# show the image\n",
    "cmap = cm.get_cmap('gist_yarg')\n",
    "cmap_value_lower = 1\n",
    "cmap_value_upper = 150\n",
    "ax1.imshow(intensity_array[scan_lower:scan_upper,mz_idx_lower:mz_idx_upper], cmap=cmap, norm=colors.Normalize(vmin=cmap_value_lower, vmax=cmap_value_upper, clip=True), interpolation='none', aspect='auto', extent=[mz_actual_lower,mz_actual_upper,scan_upper,scan_lower])\n",
    "\n",
    "binned_mz_idx_lower = []\n",
    "binned_mz_idx_upper = []\n",
    "binned_scan_idx_lower = []\n",
    "binned_scan_idx_upper = []\n",
    "\n",
    "# overlay the MQ feature rectangles\n",
    "for mq_feature_idx in range(len(allpeptides_subset_df)):\n",
    "    mq_feature_df = allpeptides_subset_df.iloc[mq_feature_idx]\n",
    "    df_idx = mq_feature_df.index\n",
    "    mq_feature_id = int(mq_feature_df.mq_feature_id)\n",
    "\n",
    "    charge_state = int(mq_feature_df.charge_state)\n",
    "    isotope_count = int(mq_feature_df.isotope_count)\n",
    "\n",
    "    expected_isotope_spacing_mz = DELTA_MZ / charge_state\n",
    "\n",
    "    # determine the bounding box coordinates for m/z and scan in real space\n",
    "    mq_feature_mz = mq_feature_df.mz\n",
    "    mz_delta = mq_feature_mz * MZ_TOLERANCE_PERCENT / 100\n",
    "    rect_mz_lower = int(mq_feature_mz / MZ_BIN_WIDTH) * MZ_BIN_WIDTH\n",
    "    rect_mz_upper = int((mq_feature_mz + ((isotope_count-1) * expected_isotope_spacing_mz)) / MZ_BIN_WIDTH) * MZ_BIN_WIDTH + MZ_BIN_WIDTH\n",
    "    rect_mz_range = rect_mz_upper - rect_mz_lower\n",
    "    binned_mz_idx_lower.append(int((rect_mz_lower-MZ_MIN)/MZ_BIN_WIDTH)+1)\n",
    "    binned_mz_idx_upper.append(int((rect_mz_upper-MZ_MIN)/MZ_BIN_WIDTH)+1)\n",
    "\n",
    "    rect_scan = mq_feature_df.scan\n",
    "    rect_scan_delta = int(mq_feature_df.scan_length / 2)\n",
    "    rect_scan_lower = rect_scan - rect_scan_delta\n",
    "    rect_scan_upper = rect_scan + rect_scan_delta\n",
    "    rect_scan_range = int(mq_feature_df.scan_length)\n",
    "    binned_scan_idx_lower.append(rect_scan_lower)\n",
    "    binned_scan_idx_upper.append(rect_scan_upper)\n",
    "    \n",
    "    # draw the rectangle for the feature's extent\n",
    "    mq_feature_rect = patches.Rectangle((rect_mz_lower,rect_scan_lower),rect_mz_range,rect_scan_range,linewidth=1,linestyle='-',edgecolor='r',facecolor='none', label='feature')\n",
    "    ax1.add_patch(mq_feature_rect)\n",
    "\n",
    "    # draw the isotopes\n",
    "    isotope_base_mz_lower = mq_feature_mz - mz_delta\n",
    "    isotope_base_mz_upper = mq_feature_mz + mz_delta\n",
    "    for isotope_idx in range(0,isotope_count):\n",
    "        isotope_mz_lower = isotope_base_mz_lower + (isotope_idx * expected_isotope_spacing_mz)\n",
    "        isotope_mz_upper = isotope_base_mz_upper + (isotope_idx * expected_isotope_spacing_mz)\n",
    "        isotope_rect = patches.Rectangle((isotope_mz_lower,rect_scan_lower),isotope_mz_upper-isotope_mz_lower,rect_scan_range,linewidth=2,linestyle=':',edgecolor='g',facecolor='none', label='isotope')\n",
    "        ax1.add_patch(isotope_rect)\n",
    "    \n",
    "    # draw the feature label\n",
    "    text_style = dict(size=12, color='red')\n",
    "    text_x = rect_mz_lower\n",
    "    text_y = rect_scan_lower-0.5\n",
    "    if (text_x >= mz_actual_lower) and (text_x <= mz_actual_upper) and (text_y >= scan_lower) and (text_y <= scan_upper):\n",
    "        ax1.text(text_x, text_y, \"{}\".format(mq_feature_id), **text_style)\n",
    "\n",
    "allpeptides_subset_df['binned_rect_mz_idx_lower'] = binned_mz_idx_lower\n",
    "allpeptides_subset_df['binned_rect_mz_idx_upper'] = binned_mz_idx_upper\n",
    "allpeptides_subset_df['binned_rect_scan_idx_lower'] = binned_scan_idx_lower\n",
    "allpeptides_subset_df['binned_rect_scan_idx_upper'] = binned_scan_idx_upper\n"
   ]
  },
  {
   "cell_type": "code",
   "execution_count": 315,
   "metadata": {},
   "outputs": [
    {
     "data": {
      "text/html": [
       "<div>\n",
       "<style scoped>\n",
       "    .dataframe tbody tr th:only-of-type {\n",
       "        vertical-align: middle;\n",
       "    }\n",
       "\n",
       "    .dataframe tbody tr th {\n",
       "        vertical-align: top;\n",
       "    }\n",
       "\n",
       "    .dataframe thead th {\n",
       "        text-align: right;\n",
       "    }\n",
       "</style>\n",
       "<table border=\"1\" class=\"dataframe\">\n",
       "  <thead>\n",
       "    <tr style=\"text-align: right;\">\n",
       "      <th></th>\n",
       "      <th>Raw file</th>\n",
       "      <th>charge_state</th>\n",
       "      <th>mz</th>\n",
       "      <th>Mass</th>\n",
       "      <th>Resolution</th>\n",
       "      <th>number_data_points</th>\n",
       "      <th>Number of frames</th>\n",
       "      <th>isotope_count</th>\n",
       "      <th>isotope_correlation</th>\n",
       "      <th>Mass fractional part</th>\n",
       "      <th>...</th>\n",
       "      <th>Pasef MS/MS IDs</th>\n",
       "      <th>MS/MS scan number</th>\n",
       "      <th>rt_delta</th>\n",
       "      <th>rt_lower</th>\n",
       "      <th>rt_upper</th>\n",
       "      <th>mq_feature_id</th>\n",
       "      <th>binned_rect_mz_lower</th>\n",
       "      <th>binned_rect_mz_upper</th>\n",
       "      <th>binned_rect_scan_lower</th>\n",
       "      <th>binned_rect_scan_upper</th>\n",
       "    </tr>\n",
       "  </thead>\n",
       "  <tbody>\n",
       "    <tr>\n",
       "      <th>235967</th>\n",
       "      <td>HeLa_20KInt_2KIT_Slot1-46_01_1179</td>\n",
       "      <td>2</td>\n",
       "      <td>781.34758</td>\n",
       "      <td>1560.6806</td>\n",
       "      <td>23857.587411</td>\n",
       "      <td>89302</td>\n",
       "      <td>62</td>\n",
       "      <td>6</td>\n",
       "      <td>0.999515</td>\n",
       "      <td>0.680615</td>\n",
       "      <td>...</td>\n",
       "      <td>312782;314090;314276;314489;316524;316575;316889</td>\n",
       "      <td>56573.0</td>\n",
       "      <td>4.1330</td>\n",
       "      <td>4337.3880</td>\n",
       "      <td>4345.6540</td>\n",
       "      <td>1</td>\n",
       "      <td>781.3</td>\n",
       "      <td>783.9</td>\n",
       "      <td>383</td>\n",
       "      <td>547</td>\n",
       "    </tr>\n",
       "    <tr>\n",
       "      <th>278902</th>\n",
       "      <td>HeLa_20KInt_2KIT_Slot1-46_01_1179</td>\n",
       "      <td>3</td>\n",
       "      <td>869.08526</td>\n",
       "      <td>2604.2340</td>\n",
       "      <td>24318.013641</td>\n",
       "      <td>67934</td>\n",
       "      <td>23</td>\n",
       "      <td>6</td>\n",
       "      <td>0.997396</td>\n",
       "      <td>0.233963</td>\n",
       "      <td>...</td>\n",
       "      <td>312923;312974;312986;313010;313022;313163;3132...</td>\n",
       "      <td>96070.0</td>\n",
       "      <td>4.7285</td>\n",
       "      <td>4341.5215</td>\n",
       "      <td>4350.9785</td>\n",
       "      <td>2</td>\n",
       "      <td>869.0</td>\n",
       "      <td>870.8</td>\n",
       "      <td>344</td>\n",
       "      <td>604</td>\n",
       "    </tr>\n",
       "    <tr>\n",
       "      <th>267086</th>\n",
       "      <td>HeLa_20KInt_2KIT_Slot1-46_01_1179</td>\n",
       "      <td>2</td>\n",
       "      <td>855.43633</td>\n",
       "      <td>1708.8581</td>\n",
       "      <td>23938.058772</td>\n",
       "      <td>77224</td>\n",
       "      <td>44</td>\n",
       "      <td>13</td>\n",
       "      <td>0.969803</td>\n",
       "      <td>0.858111</td>\n",
       "      <td>...</td>\n",
       "      <td>312343;312354;312365;312453;312475;312487;3125...</td>\n",
       "      <td>66473.0</td>\n",
       "      <td>4.1350</td>\n",
       "      <td>4338.5680</td>\n",
       "      <td>4346.8380</td>\n",
       "      <td>3</td>\n",
       "      <td>855.4</td>\n",
       "      <td>861.5</td>\n",
       "      <td>305</td>\n",
       "      <td>457</td>\n",
       "    </tr>\n",
       "    <tr>\n",
       "      <th>270797</th>\n",
       "      <td>HeLa_20KInt_2KIT_Slot1-46_01_1179</td>\n",
       "      <td>2</td>\n",
       "      <td>877.49010</td>\n",
       "      <td>1752.9657</td>\n",
       "      <td>24805.046260</td>\n",
       "      <td>13196</td>\n",
       "      <td>14</td>\n",
       "      <td>6</td>\n",
       "      <td>0.999118</td>\n",
       "      <td>0.965651</td>\n",
       "      <td>...</td>\n",
       "      <td>312934;312947;313044;313149</td>\n",
       "      <td>69096.0</td>\n",
       "      <td>2.9545</td>\n",
       "      <td>4343.2955</td>\n",
       "      <td>4349.2045</td>\n",
       "      <td>4</td>\n",
       "      <td>877.4</td>\n",
       "      <td>880.0</td>\n",
       "      <td>323</td>\n",
       "      <td>451</td>\n",
       "    </tr>\n",
       "    <tr>\n",
       "      <th>217119</th>\n",
       "      <td>HeLa_20KInt_2KIT_Slot1-46_01_1179</td>\n",
       "      <td>2</td>\n",
       "      <td>739.37134</td>\n",
       "      <td>1476.7281</td>\n",
       "      <td>23987.533743</td>\n",
       "      <td>23594</td>\n",
       "      <td>33</td>\n",
       "      <td>4</td>\n",
       "      <td>0.998484</td>\n",
       "      <td>0.728123</td>\n",
       "      <td>...</td>\n",
       "      <td>312124;312136;312835;313035;313047;314519</td>\n",
       "      <td>50353.0</td>\n",
       "      <td>3.5455</td>\n",
       "      <td>4341.5215</td>\n",
       "      <td>4348.6125</td>\n",
       "      <td>5</td>\n",
       "      <td>739.3</td>\n",
       "      <td>740.9</td>\n",
       "      <td>458</td>\n",
       "      <td>574</td>\n",
       "    </tr>\n",
       "  </tbody>\n",
       "</table>\n",
       "<p>5 rows × 32 columns</p>\n",
       "</div>"
      ],
      "text/plain": [
       "                                 Raw file  charge_state         mz       Mass  \\\n",
       "235967  HeLa_20KInt_2KIT_Slot1-46_01_1179             2  781.34758  1560.6806   \n",
       "278902  HeLa_20KInt_2KIT_Slot1-46_01_1179             3  869.08526  2604.2340   \n",
       "267086  HeLa_20KInt_2KIT_Slot1-46_01_1179             2  855.43633  1708.8581   \n",
       "270797  HeLa_20KInt_2KIT_Slot1-46_01_1179             2  877.49010  1752.9657   \n",
       "217119  HeLa_20KInt_2KIT_Slot1-46_01_1179             2  739.37134  1476.7281   \n",
       "\n",
       "          Resolution  number_data_points  Number of frames  isotope_count  \\\n",
       "235967  23857.587411               89302                62              6   \n",
       "278902  24318.013641               67934                23              6   \n",
       "267086  23938.058772               77224                44             13   \n",
       "270797  24805.046260               13196                14              6   \n",
       "217119  23987.533743               23594                33              4   \n",
       "\n",
       "        isotope_correlation  Mass fractional part  ...  \\\n",
       "235967             0.999515              0.680615  ...   \n",
       "278902             0.997396              0.233963  ...   \n",
       "267086             0.969803              0.858111  ...   \n",
       "270797             0.999118              0.965651  ...   \n",
       "217119             0.998484              0.728123  ...   \n",
       "\n",
       "                                          Pasef MS/MS IDs  MS/MS scan number  \\\n",
       "235967   312782;314090;314276;314489;316524;316575;316889            56573.0   \n",
       "278902  312923;312974;312986;313010;313022;313163;3132...            96070.0   \n",
       "267086  312343;312354;312365;312453;312475;312487;3125...            66473.0   \n",
       "270797                        312934;312947;313044;313149            69096.0   \n",
       "217119          312124;312136;312835;313035;313047;314519            50353.0   \n",
       "\n",
       "        rt_delta   rt_lower   rt_upper  mq_feature_id  binned_rect_mz_lower  \\\n",
       "235967    4.1330  4337.3880  4345.6540              1                 781.3   \n",
       "278902    4.7285  4341.5215  4350.9785              2                 869.0   \n",
       "267086    4.1350  4338.5680  4346.8380              3                 855.4   \n",
       "270797    2.9545  4343.2955  4349.2045              4                 877.4   \n",
       "217119    3.5455  4341.5215  4348.6125              5                 739.3   \n",
       "\n",
       "        binned_rect_mz_upper  binned_rect_scan_lower  binned_rect_scan_upper  \n",
       "235967                 783.9                     383                     547  \n",
       "278902                 870.8                     344                     604  \n",
       "267086                 861.5                     305                     457  \n",
       "270797                 880.0                     323                     451  \n",
       "217119                 740.9                     458                     574  \n",
       "\n",
       "[5 rows x 32 columns]"
      ]
     },
     "execution_count": 315,
     "metadata": {},
     "output_type": "execute_result"
    }
   ],
   "source": [
    "allpeptides_subset_df.head()"
   ]
  },
  {
   "cell_type": "code",
   "execution_count": null,
   "metadata": {},
   "outputs": [],
   "source": [
    "PIXELS_PER_MZ_BIN = 5\n",
    "PIXELS_PER_SCAN = 1"
   ]
  },
  {
   "cell_type": "code",
   "execution_count": 254,
   "metadata": {},
   "outputs": [],
   "source": [
    "# will stretch the image to these dimensions\n",
    "IMAGE_HEIGHT = SCAN_MAX\n",
    "IMAGE_WIDTH = IMAGE_HEIGHT"
   ]
  },
  {
   "cell_type": "code",
   "execution_count": 322,
   "metadata": {},
   "outputs": [],
   "source": [
    "PIXELS_X = MZ_BINS * PIXELS_PER_MZ_BIN\n",
    "PIXELS_Y = SCAN_MAX * PIXELS_PER_SCAN\n",
    "MZ_BINS_PER_IMAGE = int(IMAGE_WIDTH / PIXELS_PER_MZ_BIN)\n",
    "IMAGES_PER_FRAME = int(MZ_BINS / MZ_BINS_PER_IMAGE)\n",
    "RESIZE_FACTOR_X = IMAGE_WIDTH / MZ_BINS_PER_IMAGE\n"
   ]
  },
  {
   "cell_type": "code",
   "execution_count": 323,
   "metadata": {},
   "outputs": [
    {
     "data": {
      "text/plain": [
       "5.0"
      ]
     },
     "execution_count": 323,
     "metadata": {},
     "output_type": "execute_result"
    }
   ],
   "source": [
    "RESIZE_FACTOR_X"
   ]
  },
  {
   "cell_type": "code",
   "execution_count": 276,
   "metadata": {},
   "outputs": [
    {
     "data": {
      "text/plain": [
       "182"
      ]
     },
     "execution_count": 276,
     "metadata": {},
     "output_type": "execute_result"
    }
   ],
   "source": [
    "MZ_BINS_PER_IMAGE"
   ]
  },
  {
   "cell_type": "code",
   "execution_count": 277,
   "metadata": {},
   "outputs": [
    {
     "data": {
      "text/plain": [
       "87"
      ]
     },
     "execution_count": 277,
     "metadata": {},
     "output_type": "execute_result"
    }
   ],
   "source": [
    "IMAGES_PER_FRAME"
   ]
  },
  {
   "cell_type": "code",
   "execution_count": 237,
   "metadata": {},
   "outputs": [],
   "source": [
    "# convert the intensity array to an image\n",
    "df = pd.DataFrame(intensity_array).stack().rename_axis(['y', 'x']).reset_index(name='intensity')"
   ]
  },
  {
   "cell_type": "code",
   "execution_count": 238,
   "metadata": {},
   "outputs": [],
   "source": [
    "# remove all the zero-intensity elements\n",
    "df = df[df.intensity > 0]"
   ]
  },
  {
   "cell_type": "code",
   "execution_count": 239,
   "metadata": {},
   "outputs": [
    {
     "data": {
      "text/plain": [
       "229382"
      ]
     },
     "execution_count": 239,
     "metadata": {},
     "output_type": "execute_result"
    }
   ],
   "source": [
    "len(df)"
   ]
  },
  {
   "cell_type": "code",
   "execution_count": 240,
   "metadata": {},
   "outputs": [
    {
     "data": {
      "text/html": [
       "<div>\n",
       "<style scoped>\n",
       "    .dataframe tbody tr th:only-of-type {\n",
       "        vertical-align: middle;\n",
       "    }\n",
       "\n",
       "    .dataframe tbody tr th {\n",
       "        vertical-align: top;\n",
       "    }\n",
       "\n",
       "    .dataframe thead th {\n",
       "        text-align: right;\n",
       "    }\n",
       "</style>\n",
       "<table border=\"1\" class=\"dataframe\">\n",
       "  <thead>\n",
       "    <tr style=\"text-align: right;\">\n",
       "      <th></th>\n",
       "      <th>y</th>\n",
       "      <th>x</th>\n",
       "      <th>intensity</th>\n",
       "    </tr>\n",
       "  </thead>\n",
       "  <tbody>\n",
       "    <tr>\n",
       "      <th>551069</th>\n",
       "      <td>34</td>\n",
       "      <td>7069</td>\n",
       "      <td>11</td>\n",
       "    </tr>\n",
       "    <tr>\n",
       "      <th>552023</th>\n",
       "      <td>34</td>\n",
       "      <td>8023</td>\n",
       "      <td>9</td>\n",
       "    </tr>\n",
       "    <tr>\n",
       "      <th>561241</th>\n",
       "      <td>35</td>\n",
       "      <td>1241</td>\n",
       "      <td>9</td>\n",
       "    </tr>\n",
       "    <tr>\n",
       "      <th>583785</th>\n",
       "      <td>36</td>\n",
       "      <td>7785</td>\n",
       "      <td>13</td>\n",
       "    </tr>\n",
       "    <tr>\n",
       "      <th>600560</th>\n",
       "      <td>37</td>\n",
       "      <td>8560</td>\n",
       "      <td>9</td>\n",
       "    </tr>\n",
       "  </tbody>\n",
       "</table>\n",
       "</div>"
      ],
      "text/plain": [
       "         y     x  intensity\n",
       "551069  34  7069         11\n",
       "552023  34  8023          9\n",
       "561241  35  1241          9\n",
       "583785  36  7785         13\n",
       "600560  37  8560          9"
      ]
     },
     "execution_count": 240,
     "metadata": {},
     "output_type": "execute_result"
    }
   ],
   "source": [
    "df.head()"
   ]
  },
  {
   "cell_type": "code",
   "execution_count": 241,
   "metadata": {},
   "outputs": [
    {
     "name": "stdout",
     "output_type": "stream",
     "text": [
      "(85, 85, 85, 255)\n"
     ]
    }
   ],
   "source": [
    "norm=colors.Normalize(vmin=cmap_value_lower, vmax=cmap_value_upper, clip=True)\n",
    "cmap = cm.get_cmap('gist_yarg')\n",
    "print(cmap(norm(100), bytes=True))"
   ]
  },
  {
   "cell_type": "code",
   "execution_count": 269,
   "metadata": {},
   "outputs": [],
   "source": [
    "def convert_to_colour(intensity):\n",
    "    return cmap(norm(intensity), bytes=True)[:3]"
   ]
  },
  {
   "cell_type": "code",
   "execution_count": 271,
   "metadata": {},
   "outputs": [],
   "source": [
    "df['colour'] = df.apply(lambda x: convert_to_colour(x.intensity), axis=1)"
   ]
  },
  {
   "cell_type": "code",
   "execution_count": 272,
   "metadata": {},
   "outputs": [
    {
     "data": {
      "text/html": [
       "<div>\n",
       "<style scoped>\n",
       "    .dataframe tbody tr th:only-of-type {\n",
       "        vertical-align: middle;\n",
       "    }\n",
       "\n",
       "    .dataframe tbody tr th {\n",
       "        vertical-align: top;\n",
       "    }\n",
       "\n",
       "    .dataframe thead th {\n",
       "        text-align: right;\n",
       "    }\n",
       "</style>\n",
       "<table border=\"1\" class=\"dataframe\">\n",
       "  <thead>\n",
       "    <tr style=\"text-align: right;\">\n",
       "      <th></th>\n",
       "      <th>y</th>\n",
       "      <th>x</th>\n",
       "      <th>intensity</th>\n",
       "      <th>colour</th>\n",
       "    </tr>\n",
       "  </thead>\n",
       "  <tbody>\n",
       "    <tr>\n",
       "      <th>551069</th>\n",
       "      <td>34</td>\n",
       "      <td>7069</td>\n",
       "      <td>11</td>\n",
       "      <td>(238, 238, 238)</td>\n",
       "    </tr>\n",
       "    <tr>\n",
       "      <th>552023</th>\n",
       "      <td>34</td>\n",
       "      <td>8023</td>\n",
       "      <td>9</td>\n",
       "      <td>(242, 242, 242)</td>\n",
       "    </tr>\n",
       "    <tr>\n",
       "      <th>561241</th>\n",
       "      <td>35</td>\n",
       "      <td>1241</td>\n",
       "      <td>9</td>\n",
       "      <td>(242, 242, 242)</td>\n",
       "    </tr>\n",
       "    <tr>\n",
       "      <th>583785</th>\n",
       "      <td>36</td>\n",
       "      <td>7785</td>\n",
       "      <td>13</td>\n",
       "      <td>(235, 235, 235)</td>\n",
       "    </tr>\n",
       "    <tr>\n",
       "      <th>600560</th>\n",
       "      <td>37</td>\n",
       "      <td>8560</td>\n",
       "      <td>9</td>\n",
       "      <td>(242, 242, 242)</td>\n",
       "    </tr>\n",
       "  </tbody>\n",
       "</table>\n",
       "</div>"
      ],
      "text/plain": [
       "         y     x  intensity           colour\n",
       "551069  34  7069         11  (238, 238, 238)\n",
       "552023  34  8023          9  (242, 242, 242)\n",
       "561241  35  1241          9  (242, 242, 242)\n",
       "583785  36  7785         13  (235, 235, 235)\n",
       "600560  37  8560          9  (242, 242, 242)"
      ]
     },
     "execution_count": 272,
     "metadata": {},
     "output_type": "execute_result"
    }
   ],
   "source": [
    "df.head()"
   ]
  },
  {
   "cell_type": "code",
   "execution_count": 302,
   "metadata": {},
   "outputs": [],
   "source": [
    "im_array = np.zeros([IMAGE_HEIGHT, MZ_BINS, 3], dtype=np.uint8)  # container for the image\n",
    "im_array[:] = 255 # fill it"
   ]
  },
  {
   "cell_type": "code",
   "execution_count": 303,
   "metadata": {},
   "outputs": [],
   "source": [
    "for idx in range(len(df)):\n",
    "    row = df.iloc[idx]\n",
    "    x = int(row.x)\n",
    "    y = int(row.y)\n",
    "    c = row.colour\n",
    "    im_array[y,x,:] = c"
   ]
  },
  {
   "cell_type": "code",
   "execution_count": 336,
   "metadata": {},
   "outputs": [],
   "source": [
    "from PIL import Image, ImageFont, ImageDraw, ImageEnhance\n",
    "\n",
    "for image_idx in range(IMAGES_PER_FRAME):\n",
    "    # image m/z coordinates\n",
    "    image_base_mz = int((image_idx * MZ_BINS_PER_IMAGE * MZ_BIN_WIDTH) + MZ_MIN)\n",
    "    image_width_mz = int(MZ_BINS_PER_IMAGE * MZ_BIN_WIDTH)\n",
    "    # image index coordinates\n",
    "    image_idx_base = int(image_idx * MZ_BINS_PER_IMAGE)\n",
    "    image_idx_width = MZ_BINS_PER_IMAGE\n",
    "    # extract the subset of the frame for this image\n",
    "    im_subset = im_array[:,image_idx_base:image_idx_base+image_idx_width,:]\n",
    "    image = Image.fromarray(im_subset, 'RGB')\n",
    "    image_with_overlay = Image.fromarray(im_subset, 'RGB')\n",
    "    \n",
    "    # stretch the image to be square\n",
    "    stretched_image = image.resize((IMAGE_WIDTH, IMAGE_HEIGHT))\n",
    "    stretched_image_with_overlay = image_with_overlay.resize((IMAGE_WIDTH, IMAGE_HEIGHT))\n",
    "\n",
    "    # get the MQ features that fully fit in the tile\n",
    "    for mq_feature_idx in range(len(allpeptides_subset_df)):\n",
    "        mq_feature_df = allpeptides_subset_df.iloc[mq_feature_idx]\n",
    "        mq_feature_id = int(mq_feature_df.mq_feature_id)\n",
    "        mq_feature_mz = mq_feature_df.mz\n",
    "\n",
    "        # draw the MQ features overlay\n",
    "        draw = ImageDraw.Draw(stretched_image_with_overlay)\n",
    "        x0 = (mq_feature_df.binned_rect_mz_idx_lower - image_idx_base) * RESIZE_FACTOR_X\n",
    "        x1 = (mq_feature_df.binned_rect_mz_idx_upper - image_idx_base) * RESIZE_FACTOR_X\n",
    "        y0 = mq_feature_df.binned_rect_scan_idx_lower\n",
    "        y1 = mq_feature_df.binned_rect_scan_idx_upper\n",
    "        # draw the MQ feature if it overlaps at all with the image\n",
    "        if ((x0 >= 0) and (x0 <= IMAGE_WIDTH)) or ((x1 >= 0) and (x1 <= IMAGE_WIDTH)):\n",
    "            draw.rectangle(xy=[(x0, y0), (x1, y1)], fill=None, outline='red')\n",
    "            draw.text((x0, y0-12), \"{}\".format(mq_feature_id), font=ImageFont.truetype('/Library/Fonts/Arial.ttf', 12), fill='red')\n",
    "\n",
    "    # write them out\n",
    "    IMAGE_BASE = '/Users/darylwilding-mcbride/Downloads/yolo-train'\n",
    "    train_filename = '{}/test-{}-mz-{}-{}.png'.format(IMAGE_BASE, image_idx, image_base_mz, image_base_mz+image_width_mz)\n",
    "    overlay_filename = '{}/overlay/test-{}-mz-{}-{}.png'.format(IMAGE_BASE, image_idx, image_base_mz, image_base_mz+image_width_mz)\n",
    "    stretched_image.save(train_filename)\n",
    "    stretched_image_with_overlay.save(overlay_filename)\n",
    "\n",
    "    "
   ]
  },
  {
   "cell_type": "code",
   "execution_count": null,
   "metadata": {},
   "outputs": [],
   "source": []
  }
 ],
 "metadata": {
  "kernelspec": {
   "display_name": "Python 3",
   "language": "python",
   "name": "python3"
  },
  "language_info": {
   "codemirror_mode": {
    "name": "ipython",
    "version": 3
   },
   "file_extension": ".py",
   "mimetype": "text/x-python",
   "name": "python",
   "nbconvert_exporter": "python",
   "pygments_lexer": "ipython3",
   "version": "3.6.7"
  }
 },
 "nbformat": 4,
 "nbformat_minor": 2
}
