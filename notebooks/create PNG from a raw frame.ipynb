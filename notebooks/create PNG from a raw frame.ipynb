{
 "cells": [
  {
   "cell_type": "markdown",
   "metadata": {},
   "source": [
    "Generate a PNG of binned (0.1 m/z) raw data for a single frame"
   ]
  },
  {
   "cell_type": "code",
   "execution_count": 41,
   "metadata": {},
   "outputs": [],
   "source": [
    "import sqlite3\n",
    "import pandas as pd\n",
    "import numpy as np\n",
    "import sys"
   ]
  },
  {
   "cell_type": "code",
   "execution_count": 42,
   "metadata": {},
   "outputs": [],
   "source": [
    "RT_LIMIT_LOWER = 4340\n",
    "RT_LIMIT_UPPER = 4580"
   ]
  },
  {
   "cell_type": "code",
   "execution_count": 43,
   "metadata": {},
   "outputs": [],
   "source": [
    "MS1_CE = 10"
   ]
  },
  {
   "cell_type": "code",
   "execution_count": 44,
   "metadata": {},
   "outputs": [],
   "source": [
    "# BASE_NAME = \"/home/ubuntu/HeLa_20KInt-rt-{}-{}\".format(RT_LIMIT_LOWER,RT_LIMIT_UPPER)\n",
    "BASE_NAME = \"/Users/darylwilding-mcbride/Downloads/HeLa_20KInt-rt-{}-{}\".format(RT_LIMIT_LOWER,RT_LIMIT_UPPER)\n",
    "CONVERTED_DATABASE_NAME = '{}/HeLa_20KInt.sqlite'.format(BASE_NAME)\n",
    "# ALLPEPTIDES_FILENAME = '/home/ubuntu/maxquant_results/txt/allPeptides.txt'\n",
    "ALLPEPTIDES_FILENAME = '/Users/darylwilding-mcbride/Downloads/maxquant_results/txt/allPeptides.txt'"
   ]
  },
  {
   "cell_type": "code",
   "execution_count": 45,
   "metadata": {},
   "outputs": [
    {
     "data": {
      "text/plain": [
       "'/Users/darylwilding-mcbride/Downloads/HeLa_20KInt-rt-4340-4580/HeLa_20KInt.sqlite'"
      ]
     },
     "execution_count": 45,
     "metadata": {},
     "output_type": "execute_result"
    }
   ],
   "source": [
    "CONVERTED_DATABASE_NAME"
   ]
  },
  {
   "cell_type": "code",
   "execution_count": 46,
   "metadata": {},
   "outputs": [],
   "source": [
    "db_conn = sqlite3.connect(CONVERTED_DATABASE_NAME)\n",
    "df = pd.read_sql_query(\"select frame_id,retention_time_secs from frame_properties where retention_time_secs >= {} and retention_time_secs <= {} and collision_energy == {}\".format(RT_LIMIT_LOWER,RT_LIMIT_UPPER,MS1_CE), db_conn)\n",
    "db_conn.close()"
   ]
  },
  {
   "cell_type": "code",
   "execution_count": 47,
   "metadata": {},
   "outputs": [
    {
     "data": {
      "text/html": [
       "<div>\n",
       "<style scoped>\n",
       "    .dataframe tbody tr th:only-of-type {\n",
       "        vertical-align: middle;\n",
       "    }\n",
       "\n",
       "    .dataframe tbody tr th {\n",
       "        vertical-align: top;\n",
       "    }\n",
       "\n",
       "    .dataframe thead th {\n",
       "        text-align: right;\n",
       "    }\n",
       "</style>\n",
       "<table border=\"1\" class=\"dataframe\">\n",
       "  <thead>\n",
       "    <tr style=\"text-align: right;\">\n",
       "      <th></th>\n",
       "      <th>frame_id</th>\n",
       "      <th>retention_time_secs</th>\n",
       "    </tr>\n",
       "  </thead>\n",
       "  <tbody>\n",
       "    <tr>\n",
       "      <th>0</th>\n",
       "      <td>40411</td>\n",
       "      <td>4340.340330</td>\n",
       "    </tr>\n",
       "    <tr>\n",
       "      <th>1</th>\n",
       "      <td>40422</td>\n",
       "      <td>4341.521415</td>\n",
       "    </tr>\n",
       "    <tr>\n",
       "      <th>2</th>\n",
       "      <td>40433</td>\n",
       "      <td>4342.702923</td>\n",
       "    </tr>\n",
       "    <tr>\n",
       "      <th>3</th>\n",
       "      <td>40444</td>\n",
       "      <td>4343.883324</td>\n",
       "    </tr>\n",
       "    <tr>\n",
       "      <th>4</th>\n",
       "      <td>40455</td>\n",
       "      <td>4345.067491</td>\n",
       "    </tr>\n",
       "  </tbody>\n",
       "</table>\n",
       "</div>"
      ],
      "text/plain": [
       "   frame_id  retention_time_secs\n",
       "0     40411          4340.340330\n",
       "1     40422          4341.521415\n",
       "2     40433          4342.702923\n",
       "3     40444          4343.883324\n",
       "4     40455          4345.067491"
      ]
     },
     "execution_count": 47,
     "metadata": {},
     "output_type": "execute_result"
    }
   ],
   "source": [
    "df.head()"
   ]
  },
  {
   "cell_type": "code",
   "execution_count": 69,
   "metadata": {},
   "outputs": [],
   "source": [
    "RAW_FRAME_ID = 40444\n",
    "RAW_FRAME_RT = df[df.frame_id == RAW_FRAME_ID].retention_time_secs.values[0]"
   ]
  },
  {
   "cell_type": "code",
   "execution_count": 49,
   "metadata": {},
   "outputs": [],
   "source": [
    "MZ_MIN = 100.0\n",
    "MZ_MAX = 1700.0\n",
    "MZ_BIN_WIDTH = 0.1\n",
    "MZ_BINS = int((MZ_MAX-MZ_MIN)/MZ_BIN_WIDTH)\n",
    "SCAN_MIN = 1\n",
    "SCAN_MAX = 910"
   ]
  },
  {
   "cell_type": "code",
   "execution_count": 50,
   "metadata": {},
   "outputs": [
    {
     "data": {
      "text/plain": [
       "16000"
      ]
     },
     "execution_count": 50,
     "metadata": {},
     "output_type": "execute_result"
    }
   ],
   "source": [
    "MZ_BINS"
   ]
  },
  {
   "cell_type": "code",
   "execution_count": 51,
   "metadata": {},
   "outputs": [],
   "source": [
    "height = SCAN_MAX\n",
    "width = MZ_BINS"
   ]
  },
  {
   "cell_type": "code",
   "execution_count": 52,
   "metadata": {},
   "outputs": [],
   "source": [
    "im_array = np.zeros([height, width, 3], dtype=np.uint8)  # container for the image"
   ]
  },
  {
   "cell_type": "markdown",
   "metadata": {},
   "source": [
    "Populate the image array with points from the raw frame"
   ]
  },
  {
   "cell_type": "code",
   "execution_count": 53,
   "metadata": {},
   "outputs": [],
   "source": [
    "# load the raw frame points\n",
    "db_conn = sqlite3.connect(CONVERTED_DATABASE_NAME)\n",
    "raw_points_df = pd.read_sql_query(\"select mz,scan,intensity from frames where frame_id == {}\".format(RAW_FRAME_ID), db_conn)\n",
    "db_conn.close()"
   ]
  },
  {
   "cell_type": "code",
   "execution_count": 54,
   "metadata": {},
   "outputs": [
    {
     "data": {
      "text/plain": [
       "11145"
      ]
     },
     "execution_count": 54,
     "metadata": {},
     "output_type": "execute_result"
    }
   ],
   "source": [
    "raw_points_df.intensity.max()"
   ]
  },
  {
   "cell_type": "code",
   "execution_count": 55,
   "metadata": {},
   "outputs": [
    {
     "data": {
      "text/plain": [
       "256539"
      ]
     },
     "execution_count": 55,
     "metadata": {},
     "output_type": "execute_result"
    }
   ],
   "source": [
    "len(raw_points_df)"
   ]
  },
  {
   "cell_type": "code",
   "execution_count": 56,
   "metadata": {},
   "outputs": [],
   "source": [
    "intensity_array = np.zeros([height, width], dtype=np.uint16)  # scratchpad for the intensity value prior to image conversion\n",
    "for point_idx in range(len(raw_points_df)):\n",
    "    point_df = raw_points_df.iloc[point_idx]\n",
    "    mz = point_df.mz\n",
    "    scan = int(point_df.scan)\n",
    "    if (mz >= MZ_MIN) and (mz <= MZ_MAX) and (scan >= SCAN_MIN) and (scan <= SCAN_MAX):\n",
    "        mz_array_idx = int((mz-MZ_MIN)/MZ_BIN_WIDTH)+1\n",
    "        scan_array_idx = scan\n",
    "        intensity = int(point_df.intensity)\n",
    "        intensity_array[scan_array_idx,mz_array_idx] += intensity"
   ]
  },
  {
   "cell_type": "code",
   "execution_count": 57,
   "metadata": {},
   "outputs": [
    {
     "data": {
      "text/plain": [
       "13171"
      ]
     },
     "execution_count": 57,
     "metadata": {},
     "output_type": "execute_result"
    }
   ],
   "source": [
    "intensity_array.max()"
   ]
  },
  {
   "cell_type": "code",
   "execution_count": 58,
   "metadata": {},
   "outputs": [],
   "source": [
    "DELTA_MZ = 1.003355     # Mass difference between Carbon-12 and Carbon-13 isotopes, in Da. For calculating the spacing between isotopic peaks."
   ]
  },
  {
   "cell_type": "code",
   "execution_count": 59,
   "metadata": {},
   "outputs": [],
   "source": [
    "MZ_TOLERANCE_PPM = 5\n",
    "MZ_TOLERANCE_PERCENT = MZ_TOLERANCE_PPM * 10**-4"
   ]
  },
  {
   "cell_type": "code",
   "execution_count": 60,
   "metadata": {},
   "outputs": [
    {
     "data": {
      "text/plain": [
       "2.3"
      ]
     },
     "execution_count": 60,
     "metadata": {},
     "output_type": "execute_result"
    }
   ],
   "source": [
    "round(2.3456788,1)"
   ]
  },
  {
   "cell_type": "code",
   "execution_count": 61,
   "metadata": {},
   "outputs": [],
   "source": [
    "import decimal"
   ]
  },
  {
   "cell_type": "code",
   "execution_count": 62,
   "metadata": {},
   "outputs": [
    {
     "data": {
      "text/plain": [
       "1"
      ]
     },
     "execution_count": 62,
     "metadata": {},
     "output_type": "execute_result"
    }
   ],
   "source": [
    "abs(decimal.Decimal(\"{}\".format(MZ_BIN_WIDTH)).as_tuple().exponent)"
   ]
  },
  {
   "cell_type": "code",
   "execution_count": 63,
   "metadata": {},
   "outputs": [
    {
     "data": {
      "text/plain": [
       "0.1"
      ]
     },
     "execution_count": 63,
     "metadata": {},
     "output_type": "execute_result"
    }
   ],
   "source": [
    "MZ_BIN_WIDTH"
   ]
  },
  {
   "cell_type": "code",
   "execution_count": 130,
   "metadata": {},
   "outputs": [
    {
     "name": "stdout",
     "output_type": "stream",
     "text": [
      "there are 1001 MQ features overlapping this frame\n"
     ]
    },
    {
     "data": {
      "image/png": "[encoded data removed]",
      "text/plain": [
       "<Figure size 1080x576 with 1 Axes>"
      ]
     },
     "metadata": {
      "needs_background": "light"
     },
     "output_type": "display_data"
    }
   ],
   "source": [
    "# overlay the image with MQ feature locations\n",
    "import matplotlib.patches as patches\n",
    "from matplotlib import colors, cm, pyplot as plt\n",
    "\n",
    "mz_actual_lower = 781\n",
    "mz_actual_upper = 785\n",
    "\n",
    "mz_idx_lower = int((mz_actual_lower-MZ_MIN)/MZ_BIN_WIDTH)+1\n",
    "mz_idx_upper = int((mz_actual_upper-MZ_MIN)/MZ_BIN_WIDTH)+1\n",
    "\n",
    "scan_lower = 350\n",
    "scan_upper = 600\n",
    "\n",
    "f, ax1 = plt.subplots()\n",
    "f.set_figheight(8)\n",
    "f.set_figwidth(15)\n",
    "plt.xlabel('m/z')\n",
    "plt.ylabel('scan')\n",
    "plt.margins(0.06)\n",
    "\n",
    "allpeptides_df = pd.read_csv(ALLPEPTIDES_FILENAME, sep='\\t')\n",
    "allpeptides_df.rename(columns={'Number of isotopic peaks':'isotope_count', 'm/z':'mz', 'Number of data points':'number_data_points', 'Intensity':'intensity', 'Ion mobility index':'scan', 'Ion mobility index length':'scan_length', 'Ion mobility index length (FWHM)':'scan_length_fwhm', 'Retention time':'rt', 'Retention length':'rt_length', 'Retention length (FWHM)':'rt_length_fwhm', 'Charge':'charge_state', 'Number of pasef MS/MS':'number_pasef_ms2_ids', 'Isotope correlation':'isotope_correlation'}, inplace=True)\n",
    "allpeptides_df[\"rt_delta\"] = allpeptides_df.rt_length/2\n",
    "allpeptides_df[\"rt_lower\"] = allpeptides_df.rt - allpeptides_df.rt_delta\n",
    "allpeptides_df[\"rt_upper\"] = allpeptides_df.rt + allpeptides_df.rt_delta\n",
    "\n",
    "# allpeptides_subset_df = allpeptides_df[(allpeptides_df.intensity.notnull()) & (allpeptides_df.rt_lower <= RAW_FRAME_RT) & (allpeptides_df.rt_upper >= RAW_FRAME_RT) & (allpeptides_df.number_pasef_ms2_ids > 0)].copy()\n",
    "allpeptides_subset_df = allpeptides_df[(allpeptides_df.intensity.notnull()) & (allpeptides_df.rt_lower <= RAW_FRAME_RT) & (allpeptides_df.rt_upper >= RAW_FRAME_RT)].copy()\n",
    "print(\"there are {} MQ features overlapping this frame\".format(len(allpeptides_subset_df)))\n",
    "allpeptides_subset_df.sort_values(by=['intensity'], ascending=False, inplace=True)\n",
    "allpeptides_subset_df[\"mq_feature_id\"] = np.arange(start=1, stop=len(allpeptides_subset_df)+1)\n",
    "\n",
    "f.set_figheight(8)\n",
    "f.set_figwidth(15)\n",
    "\n",
    "# show the image\n",
    "cmap = cm.get_cmap('gist_yarg')\n",
    "cmap_value_lower = 1\n",
    "cmap_value_upper = 150\n",
    "ax1.imshow(intensity_array[scan_lower:scan_upper,mz_idx_lower:mz_idx_upper], cmap=cmap, norm=colors.Normalize(vmin=cmap_value_lower, vmax=cmap_value_upper, clip=True), interpolation='none', aspect='auto', extent=[mz_actual_lower,mz_actual_upper,scan_upper,scan_lower])\n",
    "\n",
    "# overlay the MQ feature rectangles\n",
    "for mq_feature_idx in range(len(allpeptides_subset_df)):\n",
    "    mq_feature_df = allpeptides_subset_df.iloc[mq_feature_idx]\n",
    "    mq_feature_id = int(mq_feature_df.mq_feature_id)\n",
    "\n",
    "    charge_state = int(mq_feature_df.charge_state)\n",
    "    isotope_count = int(mq_feature_df.isotope_count)\n",
    "\n",
    "    expected_isotope_spacing_mz = DELTA_MZ / charge_state\n",
    "\n",
    "    # determine the bounding box coordinates for m/z and scan in real space\n",
    "    mq_feature_mz = mq_feature_df.mz\n",
    "    mz_delta = mq_feature_mz * MZ_TOLERANCE_PERCENT / 100\n",
    "    rect_mz_lower = int(mq_feature_mz / MZ_BIN_WIDTH) * MZ_BIN_WIDTH\n",
    "    rect_mz_upper = int((mq_feature_mz + ((isotope_count-1) * expected_isotope_spacing_mz)) / MZ_BIN_WIDTH) * MZ_BIN_WIDTH + MZ_BIN_WIDTH\n",
    "    rect_mz_range = rect_mz_upper - rect_mz_lower\n",
    "\n",
    "    rect_scan = mq_feature_df.scan\n",
    "    rect_scan_delta = int(mq_feature_df.scan_length / 2)\n",
    "    rect_scan_lower = rect_scan - rect_scan_delta\n",
    "    rect_scan_upper = rect_scan + rect_scan_delta\n",
    "    rect_scan_range = int(mq_feature_df.scan_length)\n",
    "    \n",
    "    # draw the rectangle for the feature's extent\n",
    "    mq_feature_rect = patches.Rectangle((rect_mz_lower,rect_scan_lower),rect_mz_range,rect_scan_range,linewidth=1,linestyle='-',edgecolor='r',facecolor='none', label='feature')\n",
    "    ax1.add_patch(mq_feature_rect)\n",
    "\n",
    "    # draw the isotopes\n",
    "    isotope_base_mz_lower = mq_feature_mz - mz_delta\n",
    "    isotope_base_mz_upper = mq_feature_mz + mz_delta\n",
    "    for isotope_idx in range(0,isotope_count):\n",
    "        isotope_mz_lower = isotope_base_mz_lower + (isotope_idx * expected_isotope_spacing_mz)\n",
    "        isotope_mz_upper = isotope_base_mz_upper + (isotope_idx * expected_isotope_spacing_mz)\n",
    "        isotope_rect = patches.Rectangle((isotope_mz_lower,rect_scan_lower),isotope_mz_upper-isotope_mz_lower,rect_scan_range,linewidth=1,linestyle='-.',edgecolor='g',facecolor='none', label='isotope')\n",
    "        ax1.add_patch(isotope_rect)\n",
    "    \n",
    "    # draw the feature label\n",
    "    text_style = dict(size=12, color='red')\n",
    "    text_x = rect_mz_lower\n",
    "    text_y = rect_scan_lower-0.5\n",
    "    if (text_x >= mz_actual_lower) and (text_x <= mz_actual_upper) and (text_y >= scan_lower) and (text_y <= scan_upper):\n",
    "        ax1.text(text_x, text_y, \"{}\".format(mq_feature_id), **text_style)\n",
    "\n",
    "plt.show()"
   ]
  },
  {
   "cell_type": "code",
   "execution_count": 127,
   "metadata": {},
   "outputs": [
    {
     "data": {
      "text/plain": [
       "Raw file                HeLa_20KInt_2KIT_Slot1-46_01_1179\n",
       "charge_state                                            1\n",
       "mz                                                781.349\n",
       "Mass                                              780.342\n",
       "Resolution                                        22745.8\n",
       "number_data_points                                    196\n",
       "Number of frames                                       12\n",
       "isotope_count                                           2\n",
       "isotope_correlation                              0.976089\n",
       "Mass fractional part                             0.342031\n",
       "Mass deficit                                   -0.0569263\n",
       "rt                                                4339.16\n",
       "rt_length                                          12.989\n",
       "rt_length_fwhm                                      4.718\n",
       "Min frame index                                      3667\n",
       "Max frame index                                      3678\n",
       "scan                                                  588\n",
       "scan_length                                             9\n",
       "scan_length_fwhm                                        6\n",
       "intensity                                          1816.9\n",
       "Intensities                                           NaN\n",
       "number_pasef_ms2_ids                                    0\n",
       "Pasef MS/MS IDs                                       NaN\n",
       "MS/MS scan number                                     NaN\n",
       "rt_delta                                           6.4945\n",
       "rt_lower                                          4332.67\n",
       "rt_upper                                          4345.66\n",
       "mq_feature_id                                         918\n",
       "Name: 237640, dtype: object"
      ]
     },
     "execution_count": 127,
     "metadata": {},
     "output_type": "execute_result"
    }
   ],
   "source": [
    "feature_df = allpeptides_subset_df[allpeptides_subset_df.mq_feature_id==918].iloc[0]\n",
    "feature_df"
   ]
  },
  {
   "cell_type": "code",
   "execution_count": null,
   "metadata": {},
   "outputs": [],
   "source": []
  }
 ],
 "metadata": {
  "kernelspec": {
   "display_name": "Python 3",
   "language": "python",
   "name": "python3"
  },
  "language_info": {
   "codemirror_mode": {
    "name": "ipython",
    "version": 3
   },
   "file_extension": ".py",
   "mimetype": "text/x-python",
   "name": "python",
   "nbconvert_exporter": "python",
   "pygments_lexer": "ipython3",
   "version": "3.6.7"
  }
 },
 "nbformat": 4,
 "nbformat_minor": 2
}
