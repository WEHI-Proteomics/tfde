{
 "cells": [
  {
   "cell_type": "code",
   "execution_count": 1,
   "metadata": {},
   "outputs": [],
   "source": [
    "import pandas as pd\n",
    "import numpy as np\n",
    "import sqlite3\n",
    "import matplotlib.pyplot as plt\n",
    "from cmcrameri import cm\n",
    "from matplotlib import colors\n",
    "import matplotlib.patches as patches\n",
    "from scipy import signal\n",
    "import peakutils\n",
    "import math"
   ]
  },
  {
   "cell_type": "code",
   "execution_count": 23,
   "metadata": {},
   "outputs": [],
   "source": [
    "precursor_id = 6108"
   ]
  },
  {
   "cell_type": "code",
   "execution_count": 24,
   "metadata": {},
   "outputs": [],
   "source": [
    "before_df = pd.read_csv('/home/ubuntu/ms1-before-intensity-descent-precursor-{}.csv'.format(precursor_id))\n",
    "after_df = pd.read_csv('/home/ubuntu/ms1-after-intensity-descent-precursor-{}.csv'.format(precursor_id))"
   ]
  },
  {
   "cell_type": "code",
   "execution_count": 25,
   "metadata": {},
   "outputs": [],
   "source": [
    "before_df['normalised_intensity'] = before_df.intensity / before_df.intensity.max()\n",
    "after_df['normalised_intensity'] = after_df.intensity / after_df.intensity.max()"
   ]
  },
  {
   "cell_type": "code",
   "execution_count": 26,
   "metadata": {},
   "outputs": [
    {
     "data": {
      "text/html": [
       "<div>\n",
       "<style scoped>\n",
       "    .dataframe tbody tr th:only-of-type {\n",
       "        vertical-align: middle;\n",
       "    }\n",
       "\n",
       "    .dataframe tbody tr th {\n",
       "        vertical-align: top;\n",
       "    }\n",
       "\n",
       "    .dataframe thead th {\n",
       "        text-align: right;\n",
       "    }\n",
       "</style>\n",
       "<table border=\"1\" class=\"dataframe\">\n",
       "  <thead>\n",
       "    <tr style=\"text-align: right;\">\n",
       "      <th></th>\n",
       "      <th>monoisotopic_mz</th>\n",
       "      <th>charge</th>\n",
       "      <th>intensity</th>\n",
       "      <th>intensity_full_rt_extent</th>\n",
       "      <th>scan_apex</th>\n",
       "      <th>scan_curve_fit</th>\n",
       "      <th>scan_lower</th>\n",
       "      <th>scan_upper</th>\n",
       "      <th>rt_apex</th>\n",
       "      <th>rt_curve_fit</th>\n",
       "      <th>rt_lower</th>\n",
       "      <th>rt_upper</th>\n",
       "      <th>precursor_id</th>\n",
       "      <th>envelope</th>\n",
       "      <th>feature_id</th>\n",
       "      <th>candidate_phr_error</th>\n",
       "      <th>mono_adjusted</th>\n",
       "      <th>original_phr_error</th>\n",
       "      <th>original_phr</th>\n",
       "      <th>monoisotopic_mass</th>\n",
       "    </tr>\n",
       "  </thead>\n",
       "  <tbody>\n",
       "    <tr>\n",
       "      <th>0</th>\n",
       "      <td>669.327031</td>\n",
       "      <td>2</td>\n",
       "      <td>436459</td>\n",
       "      <td>139341</td>\n",
       "      <td>729.27</td>\n",
       "      <td>True</td>\n",
       "      <td>709.27</td>\n",
       "      <td>749.27</td>\n",
       "      <td>1669.02</td>\n",
       "      <td>True</td>\n",
       "      <td>1665.72</td>\n",
       "      <td>1672.31</td>\n",
       "      <td>6108</td>\n",
       "      <td>((669.3261, 161377.00), (669.8304, 134719.00),...</td>\n",
       "      <td>610801</td>\n",
       "      <td>13.429967</td>\n",
       "      <td>False</td>\n",
       "      <td>0.162477</td>\n",
       "      <td>0.834809</td>\n",
       "      <td>1336.639463</td>\n",
       "    </tr>\n",
       "    <tr>\n",
       "      <th>1</th>\n",
       "      <td>669.682911</td>\n",
       "      <td>3</td>\n",
       "      <td>14697</td>\n",
       "      <td>416</td>\n",
       "      <td>738.62</td>\n",
       "      <td>True</td>\n",
       "      <td>718.62</td>\n",
       "      <td>758.62</td>\n",
       "      <td>1669.87</td>\n",
       "      <td>False</td>\n",
       "      <td>1659.87</td>\n",
       "      <td>1679.87</td>\n",
       "      <td>6108</td>\n",
       "      <td>((669.6880, 3990.00), (670.0099, 4044.00), (67...</td>\n",
       "      <td>610802</td>\n",
       "      <td>-0.994523</td>\n",
       "      <td>False</td>\n",
       "      <td>-0.064538</td>\n",
       "      <td>1.013534</td>\n",
       "      <td>2006.026832</td>\n",
       "    </tr>\n",
       "    <tr>\n",
       "      <th>2</th>\n",
       "      <td>670.113998</td>\n",
       "      <td>1</td>\n",
       "      <td>2467</td>\n",
       "      <td>1097</td>\n",
       "      <td>736.12</td>\n",
       "      <td>False</td>\n",
       "      <td>716.12</td>\n",
       "      <td>756.12</td>\n",
       "      <td>1670.12</td>\n",
       "      <td>False</td>\n",
       "      <td>1660.12</td>\n",
       "      <td>1680.12</td>\n",
       "      <td>6108</td>\n",
       "      <td>((670.1203, 1808.00), (671.1556, 659.00), (672...</td>\n",
       "      <td>610803</td>\n",
       "      <td>NaN</td>\n",
       "      <td>False</td>\n",
       "      <td>0.021870</td>\n",
       "      <td>0.364491</td>\n",
       "      <td>669.106698</td>\n",
       "    </tr>\n",
       "  </tbody>\n",
       "</table>\n",
       "</div>"
      ],
      "text/plain": [
       "   monoisotopic_mz  charge  intensity  intensity_full_rt_extent  scan_apex  \\\n",
       "0       669.327031       2     436459                    139341     729.27   \n",
       "1       669.682911       3      14697                       416     738.62   \n",
       "2       670.113998       1       2467                      1097     736.12   \n",
       "\n",
       "   scan_curve_fit  scan_lower  scan_upper  rt_apex  rt_curve_fit  rt_lower  \\\n",
       "0            True      709.27      749.27  1669.02          True   1665.72   \n",
       "1            True      718.62      758.62  1669.87         False   1659.87   \n",
       "2           False      716.12      756.12  1670.12         False   1660.12   \n",
       "\n",
       "   rt_upper  precursor_id                                           envelope  \\\n",
       "0   1672.31          6108  ((669.3261, 161377.00), (669.8304, 134719.00),...   \n",
       "1   1679.87          6108  ((669.6880, 3990.00), (670.0099, 4044.00), (67...   \n",
       "2   1680.12          6108  ((670.1203, 1808.00), (671.1556, 659.00), (672...   \n",
       "\n",
       "   feature_id  candidate_phr_error  mono_adjusted  original_phr_error  \\\n",
       "0      610801            13.429967          False            0.162477   \n",
       "1      610802            -0.994523          False           -0.064538   \n",
       "2      610803                  NaN          False            0.021870   \n",
       "\n",
       "   original_phr  monoisotopic_mass  \n",
       "0      0.834809        1336.639463  \n",
       "1      1.013534        2006.026832  \n",
       "2      0.364491         669.106698  "
      ]
     },
     "execution_count": 26,
     "metadata": {},
     "output_type": "execute_result"
    }
   ],
   "source": [
    "feature_df = pd.read_pickle('/data2/experiments/P3856/precursor-cuboids-3did/exp-P3856-run-P3856_YHE211_1_Slot1-1_1_5104-features-3did.pkl')\n",
    "feature_df = feature_df[(feature_df.precursor_id == precursor_id)]\n",
    "feature_df"
   ]
  },
  {
   "cell_type": "code",
   "execution_count": 27,
   "metadata": {},
   "outputs": [],
   "source": [
    "tableau20 = [(31, 119, 180), (174, 199, 232), (255, 127, 14), (255, 187, 120),  \n",
    "             (44, 160, 44), (152, 223, 138), (214, 39, 40), (255, 152, 150),  \n",
    "             (148, 103, 189), (197, 176, 213), (140, 86, 75), (196, 156, 148),  \n",
    "             (227, 119, 194), (247, 182, 210), (127, 127, 127), (199, 199, 199),  \n",
    "             (188, 189, 34), (219, 219, 141), (23, 190, 207), (158, 218, 229)]\n",
    "\n",
    "# Rescale to values between 0 and 1\n",
    "tableau20_mpl = tableau20.copy()\n",
    "for i in range(len(tableau20_mpl)):  \n",
    "    r, g, b = tableau20_mpl[i]  \n",
    "    tableau20_mpl[i] = (r / 255., g / 255., b / 255.)"
   ]
  },
  {
   "cell_type": "code",
   "execution_count": 28,
   "metadata": {},
   "outputs": [
    {
     "data": {
      "image/png": "[encoded data removed]",
      "text/plain": [
       "<Figure size 1080x720 with 1 Axes>"
      ]
     },
     "metadata": {
      "needs_background": "light"
     },
     "output_type": "display_data"
    }
   ],
   "source": [
    "f, ax = plt.subplots()\n",
    "colors = ['tab:blue', 'tab:orange', 'tab:green', 'tab:red', 'tab:purple', 'tab:brown', 'tab:pink', 'tab:gray', 'tab:olive', 'tab:cyan']\n",
    "\n",
    "markerline, stemlines, baseline = ax.stem(before_df.mz, before_df.normalised_intensity, label='before')\n",
    "plt.setp(markerline, 'color', colors[1])\n",
    "plt.setp(stemlines, 'color', colors[1])\n",
    "plt.setp(baseline, 'color', colors[7])\n",
    "\n",
    "markerline, stemlines, baseline = ax.stem(after_df.mz, -after_df.normalised_intensity, label='after')\n",
    "plt.setp(markerline, 'color', colors[2])\n",
    "plt.setp(stemlines, 'color', colors[2])\n",
    "plt.setp(baseline, 'color', colors[7])\n",
    "\n",
    "plt.xlabel('m/z')\n",
    "plt.ylabel('normalised intensity')\n",
    "f.set_figheight(10)\n",
    "f.set_figwidth(15)\n",
    "\n",
    "nearest = 0.5\n",
    "range_l = round(before_df.mz.min() / nearest) * nearest\n",
    "range_u = round(before_df.mz.max() / nearest) * nearest\n",
    "plt.xticks(np.arange(range_l,range_u+nearest,nearest))\n",
    "\n",
    "for idx,row in enumerate(feature_df.itertuples()):\n",
    "    envelope = row.envelope\n",
    "    feature_id = row.feature_id\n",
    "    env_width = envelope[-1][0] - envelope[0][0]\n",
    "    rect = patches.Rectangle((envelope[0][0],0),env_width,-1.0+(idx*0.05),linewidth=1,linestyle=(0,(5,2)),edgecolor=(0.2,0.6,0.6,1.0),facecolor=tuple(i/255. for i in tableau20[idx+1])+(0.3,),fill=True)\n",
    "    ax.add_patch(rect)\n",
    "    plt.text(envelope[0][0], -1.05, 'feature {}'.format(feature_id))\n",
    "\n",
    "plt.margins(0.06)\n",
    "plt.legend(loc='best')\n",
    "plt.title('Comparing ms1 spectra before and after intensity descent for a precursor cuboid\\nprecursor cuboid {}'.format(precursor_id))\n",
    "plt.show()"
   ]
  },
  {
   "cell_type": "code",
   "execution_count": null,
   "metadata": {},
   "outputs": [],
   "source": []
  }
 ],
 "metadata": {
  "kernelspec": {
   "display_name": "Python 3",
   "language": "python",
   "name": "python3"
  },
  "language_info": {
   "codemirror_mode": {
    "name": "ipython",
    "version": 3
   },
   "file_extension": ".py",
   "mimetype": "text/x-python",
   "name": "python",
   "nbconvert_exporter": "python",
   "pygments_lexer": "ipython3",
   "version": "3.6.8"
  }
 },
 "nbformat": 4,
 "nbformat_minor": 2
}
