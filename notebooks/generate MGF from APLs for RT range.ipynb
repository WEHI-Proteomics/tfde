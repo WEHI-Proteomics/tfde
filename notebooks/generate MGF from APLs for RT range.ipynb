{
 "cells": [
  {
   "cell_type": "code",
   "execution_count": 1,
   "metadata": {},
   "outputs": [],
   "source": [
    "import sqlite3\n",
    "import pandas as pd\n",
    "import numpy as np\n",
    "import sys\n",
    "import glob, os\n",
    "from pyteomics import mgf"
   ]
  },
  {
   "cell_type": "code",
   "execution_count": 2,
   "metadata": {},
   "outputs": [],
   "source": [
    "RT_LIMIT_LOWER = 3000\n",
    "RT_LIMIT_UPPER = 3060"
   ]
  },
  {
   "cell_type": "code",
   "execution_count": 3,
   "metadata": {},
   "outputs": [],
   "source": [
    "BASE_MAXQUANT_DIR = '/Users/darylwilding-mcbride/Downloads/maxquant_results'\n",
    "MAXQUANT_TXT_DIR = '{}/txt'.format(BASE_MAXQUANT_DIR)\n",
    "ALLPEPTIDES_FILENAME = '{}/allPeptides.txt'.format(MAXQUANT_TXT_DIR)\n",
    "APL_DIR = '{}/andromeda'.format(BASE_MAXQUANT_DIR)"
   ]
  },
  {
   "cell_type": "code",
   "execution_count": 4,
   "metadata": {},
   "outputs": [],
   "source": [
    "MIN_ISOTOPE_CORRELATION = 0.9\n",
    "\n",
    "allpeptides_df = pd.read_csv(ALLPEPTIDES_FILENAME, sep='\\t')\n",
    "allpeptides_df.rename(columns={'Number of isotopic peaks':'isotope_count', 'm/z':'mz', 'Number of data points':'number_data_points', 'Intensity':'intensity', 'Ion mobility index':'scan', 'Ion mobility index length':'scan_length', 'Ion mobility index length (FWHM)':'scan_length_fwhm', 'Retention time':'rt', 'Retention length':'rt_length', 'Retention length (FWHM)':'rt_length_fwhm', 'Charge':'charge_state', 'Number of pasef MS/MS':'number_pasef_ms2_ids', 'Pasef MS/MS IDs':'pasef_msms_ids', 'MS/MS scan number':'msms_scan_number', 'Isotope correlation':'isotope_correlation'}, inplace=True)\n",
    "allpeptides_df = allpeptides_df[allpeptides_df.intensity.notnull() & (allpeptides_df.number_pasef_ms2_ids > 0) & (allpeptides_df.msms_scan_number >= 0) & allpeptides_df.pasef_msms_ids.notnull() & (allpeptides_df.isotope_correlation >= MIN_ISOTOPE_CORRELATION) & (allpeptides_df.rt >= RT_LIMIT_LOWER) & (allpeptides_df.rt <= RT_LIMIT_UPPER)].copy()\n"
   ]
  },
  {
   "cell_type": "code",
   "execution_count": 5,
   "metadata": {},
   "outputs": [],
   "source": [
    "allpeptides_df.msms_scan_number = allpeptides_df.msms_scan_number.apply(lambda x: int(x))"
   ]
  },
  {
   "cell_type": "code",
   "execution_count": 6,
   "metadata": {},
   "outputs": [
    {
     "data": {
      "text/plain": [
       "100522"
      ]
     },
     "execution_count": 6,
     "metadata": {},
     "output_type": "execute_result"
    }
   ],
   "source": [
    "allpeptides_df.msms_scan_number.max()"
   ]
  },
  {
   "cell_type": "code",
   "execution_count": 7,
   "metadata": {},
   "outputs": [
    {
     "data": {
      "text/html": [
       "<div>\n",
       "<style scoped>\n",
       "    .dataframe tbody tr th:only-of-type {\n",
       "        vertical-align: middle;\n",
       "    }\n",
       "\n",
       "    .dataframe tbody tr th {\n",
       "        vertical-align: top;\n",
       "    }\n",
       "\n",
       "    .dataframe thead th {\n",
       "        text-align: right;\n",
       "    }\n",
       "</style>\n",
       "<table border=\"1\" class=\"dataframe\">\n",
       "  <thead>\n",
       "    <tr style=\"text-align: right;\">\n",
       "      <th></th>\n",
       "      <th>Raw file</th>\n",
       "      <th>charge_state</th>\n",
       "      <th>mz</th>\n",
       "      <th>Mass</th>\n",
       "      <th>Resolution</th>\n",
       "      <th>number_data_points</th>\n",
       "      <th>Number of frames</th>\n",
       "      <th>isotope_count</th>\n",
       "      <th>isotope_correlation</th>\n",
       "      <th>Mass fractional part</th>\n",
       "      <th>...</th>\n",
       "      <th>Min frame index</th>\n",
       "      <th>Max frame index</th>\n",
       "      <th>scan</th>\n",
       "      <th>scan_length</th>\n",
       "      <th>scan_length_fwhm</th>\n",
       "      <th>intensity</th>\n",
       "      <th>Intensities</th>\n",
       "      <th>number_pasef_ms2_ids</th>\n",
       "      <th>pasef_msms_ids</th>\n",
       "      <th>msms_scan_number</th>\n",
       "    </tr>\n",
       "  </thead>\n",
       "  <tbody>\n",
       "    <tr>\n",
       "      <th>325494</th>\n",
       "      <td>HeLa_20KInt_2KIT_Slot1-46_01_1179</td>\n",
       "      <td>3</td>\n",
       "      <td>688.35495</td>\n",
       "      <td>2062.0430</td>\n",
       "      <td>24291.598528</td>\n",
       "      <td>10295</td>\n",
       "      <td>18</td>\n",
       "      <td>5</td>\n",
       "      <td>0.997244</td>\n",
       "      <td>0.043033</td>\n",
       "      <td>...</td>\n",
       "      <td>2563</td>\n",
       "      <td>2580</td>\n",
       "      <td>717</td>\n",
       "      <td>72</td>\n",
       "      <td>33</td>\n",
       "      <td>165630.0</td>\n",
       "      <td>NaN</td>\n",
       "      <td>2</td>\n",
       "      <td>200445;200455</td>\n",
       "      <td>83450</td>\n",
       "    </tr>\n",
       "    <tr>\n",
       "      <th>325495</th>\n",
       "      <td>HeLa_20KInt_2KIT_Slot1-46_01_1179</td>\n",
       "      <td>3</td>\n",
       "      <td>711.68902</td>\n",
       "      <td>2132.0452</td>\n",
       "      <td>24310.732974</td>\n",
       "      <td>22997</td>\n",
       "      <td>28</td>\n",
       "      <td>5</td>\n",
       "      <td>0.997653</td>\n",
       "      <td>0.045229</td>\n",
       "      <td>...</td>\n",
       "      <td>2527</td>\n",
       "      <td>2554</td>\n",
       "      <td>717</td>\n",
       "      <td>75</td>\n",
       "      <td>30</td>\n",
       "      <td>207660.0</td>\n",
       "      <td>NaN</td>\n",
       "      <td>4</td>\n",
       "      <td>197557;197565;197574;198693</td>\n",
       "      <td>85780</td>\n",
       "    </tr>\n",
       "    <tr>\n",
       "      <th>325604</th>\n",
       "      <td>HeLa_20KInt_2KIT_Slot1-46_01_1179</td>\n",
       "      <td>3</td>\n",
       "      <td>713.28610</td>\n",
       "      <td>2136.8365</td>\n",
       "      <td>24483.385523</td>\n",
       "      <td>18700</td>\n",
       "      <td>30</td>\n",
       "      <td>5</td>\n",
       "      <td>0.994567</td>\n",
       "      <td>0.836482</td>\n",
       "      <td>...</td>\n",
       "      <td>2536</td>\n",
       "      <td>2565</td>\n",
       "      <td>714</td>\n",
       "      <td>72</td>\n",
       "      <td>27</td>\n",
       "      <td>128140.0</td>\n",
       "      <td>NaN</td>\n",
       "      <td>2</td>\n",
       "      <td>198173;198184</td>\n",
       "      <td>85899</td>\n",
       "    </tr>\n",
       "    <tr>\n",
       "      <th>326521</th>\n",
       "      <td>HeLa_20KInt_2KIT_Slot1-46_01_1179</td>\n",
       "      <td>3</td>\n",
       "      <td>639.94334</td>\n",
       "      <td>1916.8082</td>\n",
       "      <td>24514.692836</td>\n",
       "      <td>27504</td>\n",
       "      <td>27</td>\n",
       "      <td>5</td>\n",
       "      <td>0.998548</td>\n",
       "      <td>0.808196</td>\n",
       "      <td>...</td>\n",
       "      <td>2571</td>\n",
       "      <td>2597</td>\n",
       "      <td>723</td>\n",
       "      <td>174</td>\n",
       "      <td>33</td>\n",
       "      <td>431340.0</td>\n",
       "      <td>NaN</td>\n",
       "      <td>4</td>\n",
       "      <td>201146;201155;201345;201353</td>\n",
       "      <td>77534</td>\n",
       "    </tr>\n",
       "    <tr>\n",
       "      <th>327447</th>\n",
       "      <td>HeLa_20KInt_2KIT_Slot1-46_01_1179</td>\n",
       "      <td>2</td>\n",
       "      <td>673.38573</td>\n",
       "      <td>1344.7569</td>\n",
       "      <td>23387.664514</td>\n",
       "      <td>1698</td>\n",
       "      <td>12</td>\n",
       "      <td>2</td>\n",
       "      <td>0.954187</td>\n",
       "      <td>0.756915</td>\n",
       "      <td>...</td>\n",
       "      <td>2551</td>\n",
       "      <td>2562</td>\n",
       "      <td>771</td>\n",
       "      <td>54</td>\n",
       "      <td>45</td>\n",
       "      <td>23594.0</td>\n",
       "      <td>NaN</td>\n",
       "      <td>1</td>\n",
       "      <td>199498</td>\n",
       "      <td>40002</td>\n",
       "    </tr>\n",
       "  </tbody>\n",
       "</table>\n",
       "<p>5 rows × 24 columns</p>\n",
       "</div>"
      ],
      "text/plain": [
       "                                 Raw file  charge_state         mz       Mass  \\\n",
       "325494  HeLa_20KInt_2KIT_Slot1-46_01_1179             3  688.35495  2062.0430   \n",
       "325495  HeLa_20KInt_2KIT_Slot1-46_01_1179             3  711.68902  2132.0452   \n",
       "325604  HeLa_20KInt_2KIT_Slot1-46_01_1179             3  713.28610  2136.8365   \n",
       "326521  HeLa_20KInt_2KIT_Slot1-46_01_1179             3  639.94334  1916.8082   \n",
       "327447  HeLa_20KInt_2KIT_Slot1-46_01_1179             2  673.38573  1344.7569   \n",
       "\n",
       "          Resolution  number_data_points  Number of frames  isotope_count  \\\n",
       "325494  24291.598528               10295                18              5   \n",
       "325495  24310.732974               22997                28              5   \n",
       "325604  24483.385523               18700                30              5   \n",
       "326521  24514.692836               27504                27              5   \n",
       "327447  23387.664514                1698                12              2   \n",
       "\n",
       "        isotope_correlation  Mass fractional part  ...  Min frame index  \\\n",
       "325494             0.997244              0.043033  ...             2563   \n",
       "325495             0.997653              0.045229  ...             2527   \n",
       "325604             0.994567              0.836482  ...             2536   \n",
       "326521             0.998548              0.808196  ...             2571   \n",
       "327447             0.954187              0.756915  ...             2551   \n",
       "\n",
       "        Max frame index  scan  scan_length  scan_length_fwhm  intensity  \\\n",
       "325494             2580   717           72                33   165630.0   \n",
       "325495             2554   717           75                30   207660.0   \n",
       "325604             2565   714           72                27   128140.0   \n",
       "326521             2597   723          174                33   431340.0   \n",
       "327447             2562   771           54                45    23594.0   \n",
       "\n",
       "        Intensities  number_pasef_ms2_ids               pasef_msms_ids  \\\n",
       "325494          NaN                     2                200445;200455   \n",
       "325495          NaN                     4  197557;197565;197574;198693   \n",
       "325604          NaN                     2                198173;198184   \n",
       "326521          NaN                     4  201146;201155;201345;201353   \n",
       "327447          NaN                     1                       199498   \n",
       "\n",
       "        msms_scan_number  \n",
       "325494             83450  \n",
       "325495             85780  \n",
       "325604             85899  \n",
       "326521             77534  \n",
       "327447             40002  \n",
       "\n",
       "[5 rows x 24 columns]"
      ]
     },
     "execution_count": 7,
     "metadata": {},
     "output_type": "execute_result"
    }
   ],
   "source": [
    "allpeptides_df.tail()"
   ]
  },
  {
   "cell_type": "code",
   "execution_count": 8,
   "metadata": {},
   "outputs": [
    {
     "data": {
      "text/plain": [
       "Index(['Raw file', 'charge_state', 'mz', 'Mass', 'Resolution',\n",
       "       'number_data_points', 'Number of frames', 'isotope_count',\n",
       "       'isotope_correlation', 'Mass fractional part', 'Mass deficit', 'rt',\n",
       "       'rt_length', 'rt_length_fwhm', 'Min frame index', 'Max frame index',\n",
       "       'scan', 'scan_length', 'scan_length_fwhm', 'intensity', 'Intensities',\n",
       "       'number_pasef_ms2_ids', 'pasef_msms_ids', 'msms_scan_number'],\n",
       "      dtype='object')"
      ]
     },
     "execution_count": 8,
     "metadata": {},
     "output_type": "execute_result"
    }
   ],
   "source": [
    "allpeptides_df.columns"
   ]
  },
  {
   "cell_type": "code",
   "execution_count": 16,
   "metadata": {},
   "outputs": [],
   "source": [
    "def collate_spectra_for_feature(ms1_d, ms2_df):\n",
    "    # append the monoisotopic and the ms2 fragments to the list for MGF creation\n",
    "    pairs_df = ms2_df[['mz', 'intensity']].copy().sort_values(by=['intensity'], ascending=False)\n",
    "    spectrum = {}\n",
    "    spectrum[\"m/z array\"] = pairs_df.mz.values\n",
    "    spectrum[\"intensity array\"] = pairs_df.intensity.values\n",
    "    params = {}\n",
    "    params[\"TITLE\"] = \"RawFile: {} Index: {} Charge: {} FeatureIntensity: {} RtApex: {}\".format(ms1_d['raw_file'], ms1_d['mq_index'], ms1_d['charge'], ms1_d['intensity'], round(ms1_d['rt_apex'],2))\n",
    "    params[\"INSTRUMENT\"] = \"ESI-QUAD-TOF\"\n",
    "    params[\"PEPMASS\"] = \"{} {}\".format(round(ms1_d['monoisotopic_mz'],6), ms1_d['intensity'])\n",
    "    params[\"CHARGE\"] = \"{}+\".format(ms1_d['charge'])\n",
    "    params[\"RTINSECONDS\"] = \"{}\".format(round(ms1_d['rt_apex'],2))\n",
    "    params[\"SCANS\"] = \"{}\".format(int(ms1_d['rt_apex']))\n",
    "    spectrum[\"params\"] = params\n",
    "    return spectrum"
   ]
  },
  {
   "cell_type": "code",
   "execution_count": 17,
   "metadata": {},
   "outputs": [],
   "source": [
    "# build a list of indexes from the APL files\n",
    "ms2_peaks = []\n",
    "apl_indexes = []\n",
    "for file in glob.glob(\"{}/*.apl\".format(APL_DIR)):\n",
    "    with open(file, 'r') as f:\n",
    "        for line in f:\n",
    "            line = line.rstrip()\n",
    "            if len(line) > 0:\n",
    "                if line.startswith(\"header=\"):\n",
    "                    mq_index = int(line.split(' ')[3])\n",
    "                if line[0].isdigit():\n",
    "                    line_a = line.split('\\t')\n",
    "                    mz = float(line_a[0])\n",
    "                    intensity = round(float(line_a[1]))\n",
    "                    ms2_peaks.append((mz, intensity))\n",
    "                if line.startswith(\"peaklist end\"):\n",
    "                    apl_indexes.append((mq_index, ms2_peaks.copy()))\n",
    "                    del ms2_peaks[:]\n",
    "                    mq_index = 0\n",
    "apl_indexes_df = pd.DataFrame(apl_indexes, columns=['mq_index','ms2_peaks'])"
   ]
  },
  {
   "cell_type": "code",
   "execution_count": 18,
   "metadata": {},
   "outputs": [
    {
     "data": {
      "text/html": [
       "<div>\n",
       "<style scoped>\n",
       "    .dataframe tbody tr th:only-of-type {\n",
       "        vertical-align: middle;\n",
       "    }\n",
       "\n",
       "    .dataframe tbody tr th {\n",
       "        vertical-align: top;\n",
       "    }\n",
       "\n",
       "    .dataframe thead th {\n",
       "        text-align: right;\n",
       "    }\n",
       "</style>\n",
       "<table border=\"1\" class=\"dataframe\">\n",
       "  <thead>\n",
       "    <tr style=\"text-align: right;\">\n",
       "      <th></th>\n",
       "      <th>mq_index</th>\n",
       "      <th>ms2_peaks</th>\n",
       "    </tr>\n",
       "  </thead>\n",
       "  <tbody>\n",
       "    <tr>\n",
       "      <th>0</th>\n",
       "      <td>18180</td>\n",
       "      <td>[(198.12835, 15), (226.11905, 16), (235.11728,...</td>\n",
       "    </tr>\n",
       "    <tr>\n",
       "      <th>1</th>\n",
       "      <td>18181</td>\n",
       "      <td>[(204.08961, 10), (231.11226, 21), (235.04234,...</td>\n",
       "    </tr>\n",
       "    <tr>\n",
       "      <th>2</th>\n",
       "      <td>18182</td>\n",
       "      <td>[(166.28784, 9), (171.15202, 26), (195.07293, ...</td>\n",
       "    </tr>\n",
       "    <tr>\n",
       "      <th>3</th>\n",
       "      <td>18183</td>\n",
       "      <td>[(212.10498, 15), (217.11978, 9), (237.10405, ...</td>\n",
       "    </tr>\n",
       "    <tr>\n",
       "      <th>4</th>\n",
       "      <td>18184</td>\n",
       "      <td>[(226.11908, 16), (227.12076, 10), (244.16614,...</td>\n",
       "    </tr>\n",
       "  </tbody>\n",
       "</table>\n",
       "</div>"
      ],
      "text/plain": [
       "   mq_index                                          ms2_peaks\n",
       "0     18180  [(198.12835, 15), (226.11905, 16), (235.11728,...\n",
       "1     18181  [(204.08961, 10), (231.11226, 21), (235.04234,...\n",
       "2     18182  [(166.28784, 9), (171.15202, 26), (195.07293, ...\n",
       "3     18183  [(212.10498, 15), (217.11978, 9), (237.10405, ...\n",
       "4     18184  [(226.11908, 16), (227.12076, 10), (244.16614,..."
      ]
     },
     "execution_count": 18,
     "metadata": {},
     "output_type": "execute_result"
    }
   ],
   "source": [
    "apl_indexes_df.head()"
   ]
  },
  {
   "cell_type": "code",
   "execution_count": 19,
   "metadata": {},
   "outputs": [],
   "source": [
    "mgf_spectra = []\n",
    "for idx,row in allpeptides_df.iterrows():\n",
    "    mq_index = row.msms_scan_number\n",
    "    ms1_d = {'monoisotopic_mass':row.Mass, \n",
    "             'charge':row.charge_state, \n",
    "             'monoisotopic_mz':row.mz, \n",
    "             'intensity':int(row.intensity), \n",
    "             'scan_apex':row.scan, \n",
    "             'rt_apex':row.rt,\n",
    "             'raw_file':row['Raw file'],\n",
    "             'mq_index':mq_index}\n",
    "    df = apl_indexes_df[apl_indexes_df.mq_index == mq_index]\n",
    "    if len(df) == 1:\n",
    "        ms2_peaks_df = pd.DataFrame(df.ms2_peaks.values[0], columns=['mz','intensity'])\n",
    "        feature_spectra = collate_spectra_for_feature(ms1_d, ms2_peaks_df)\n",
    "        mgf_spectra.append(feature_spectra)\n",
    "    else:\n",
    "        print(\"no match for mq_index {}\".format(mq_index))"
   ]
  },
  {
   "cell_type": "code",
   "execution_count": 20,
   "metadata": {},
   "outputs": [
    {
     "data": {
      "text/plain": [
       "858"
      ]
     },
     "execution_count": 20,
     "metadata": {},
     "output_type": "execute_result"
    }
   ],
   "source": [
    "len(mgf_spectra)"
   ]
  },
  {
   "cell_type": "code",
   "execution_count": 21,
   "metadata": {},
   "outputs": [
    {
     "data": {
      "text/plain": [
       "858"
      ]
     },
     "execution_count": 21,
     "metadata": {},
     "output_type": "execute_result"
    }
   ],
   "source": [
    "allpeptides_df.msms_scan_number.nunique()"
   ]
  },
  {
   "cell_type": "code",
   "execution_count": 22,
   "metadata": {},
   "outputs": [
    {
     "name": "stdout",
     "output_type": "stream",
     "text": [
      "generating the MGF: /Users/darylwilding-mcbride/Downloads/mq_features.mgf\n"
     ]
    }
   ],
   "source": [
    "MGF_FILE_NAME = '/Users/darylwilding-mcbride/Downloads/mq_features.mgf'\n",
    "# generate the MGF for all the features\n",
    "print(\"generating the MGF: {}\".format(MGF_FILE_NAME))\n",
    "if os.path.isfile(MGF_FILE_NAME):\n",
    "    os.remove(MGF_FILE_NAME)\n",
    "f = mgf.write(output=MGF_FILE_NAME, spectra=mgf_spectra)\n"
   ]
  },
  {
   "cell_type": "code",
   "execution_count": null,
   "metadata": {},
   "outputs": [],
   "source": []
  }
 ],
 "metadata": {
  "kernelspec": {
   "display_name": "Python 3",
   "language": "python",
   "name": "python3"
  },
  "language_info": {
   "codemirror_mode": {
    "name": "ipython",
    "version": 3
   },
   "file_extension": ".py",
   "mimetype": "text/x-python",
   "name": "python",
   "nbconvert_exporter": "python",
   "pygments_lexer": "ipython3",
   "version": "3.6.7"
  }
 },
 "nbformat": 4,
 "nbformat_minor": 2
}
