{
 "cells": [
  {
   "cell_type": "code",
   "execution_count": 1,
   "metadata": {},
   "outputs": [],
   "source": [
    "import sqlite3\n",
    "import pandas as pd\n",
    "import numpy as np\n",
    "import sys\n",
    "import glob, os\n",
    "from pyteomics import mgf"
   ]
  },
  {
   "cell_type": "code",
   "execution_count": 2,
   "metadata": {},
   "outputs": [],
   "source": [
    "RT_LIMIT_LOWER = 0\n",
    "RT_LIMIT_UPPER = 3000"
   ]
  },
  {
   "cell_type": "code",
   "execution_count": 3,
   "metadata": {},
   "outputs": [],
   "source": [
    "RT_BUFFER_WIDTH = 0"
   ]
  },
  {
   "cell_type": "code",
   "execution_count": 4,
   "metadata": {},
   "outputs": [],
   "source": [
    "BASE_MAXQUANT_DIR = '/Users/darylwilding-mcbride/Downloads/analyses/combined'\n",
    "MAXQUANT_TXT_DIR = '{}/txt'.format(BASE_MAXQUANT_DIR)\n",
    "ALLPEPTIDES_FILENAME = '{}/allPeptides.txt'.format(MAXQUANT_TXT_DIR)\n",
    "APL_DIR = '{}/andromeda'.format(BASE_MAXQUANT_DIR)"
   ]
  },
  {
   "cell_type": "code",
   "execution_count": 5,
   "metadata": {},
   "outputs": [],
   "source": [
    "BASE_NAME = 'P3795'\n",
    "MGF_FILE_NAME = '{}/{}-mq.mgf'.format(BASE_MAXQUANT_DIR, BASE_NAME)"
   ]
  },
  {
   "cell_type": "code",
   "execution_count": 17,
   "metadata": {},
   "outputs": [],
   "source": [
    "MIN_ISOTOPE_CORRELATION = 0.9\n",
    "\n",
    "allpeptides_df = pd.read_csv(ALLPEPTIDES_FILENAME, sep='\\t')\n",
    "allpeptides_df.rename(columns={'Number of isotopic peaks':'isotope_count', 'm/z':'mz', 'Number of data points':'number_data_points', 'Intensity':'intensity', 'Ion mobility index':'scan', 'Ion mobility index length':'scan_length', 'Ion mobility index length (FWHM)':'scan_length_fwhm', 'Retention time':'rt', 'Retention length':'rt_length', 'Retention length (FWHM)':'rt_length_fwhm', 'Charge':'charge_state', 'Number of pasef MS/MS':'number_pasef_ms2_ids', 'Pasef MS/MS IDs':'pasef_msms_ids', 'MS/MS scan number':'msms_scan_number', 'Isotope correlation':'isotope_correlation'}, inplace=True)\n",
    "# allpeptides_df = allpeptides_df[allpeptides_df.intensity.notnull() & (allpeptides_df.number_pasef_ms2_ids > 0) & (allpeptides_df.msms_scan_number >= 0) & allpeptides_df.pasef_msms_ids.notnull() & (allpeptides_df.isotope_correlation >= MIN_ISOTOPE_CORRELATION) & (allpeptides_df.rt >= RT_LIMIT_LOWER+RT_BUFFER_WIDTH) & (allpeptides_df.rt <= RT_LIMIT_UPPER-RT_BUFFER_WIDTH)].copy()\n",
    "allpeptides_df = allpeptides_df[allpeptides_df.intensity.notnull() & (allpeptides_df.number_pasef_ms2_ids > 0) & (allpeptides_df.msms_scan_number >= 0) & allpeptides_df.pasef_msms_ids.notnull() & (allpeptides_df.isotope_correlation >= MIN_ISOTOPE_CORRELATION)].copy()\n",
    "allpeptides_df.sort_values(by=['msms_scan_number'], ascending=True, inplace=True)"
   ]
  },
  {
   "cell_type": "code",
   "execution_count": 18,
   "metadata": {},
   "outputs": [],
   "source": [
    "allpeptides_df.msms_scan_number = allpeptides_df.msms_scan_number.apply(lambda x: int(x))"
   ]
  },
  {
   "cell_type": "code",
   "execution_count": 19,
   "metadata": {},
   "outputs": [
    {
     "data": {
      "text/plain": [
       "28687"
      ]
     },
     "execution_count": 19,
     "metadata": {},
     "output_type": "execute_result"
    }
   ],
   "source": [
    "allpeptides_df.msms_scan_number.max()"
   ]
  },
  {
   "cell_type": "code",
   "execution_count": 20,
   "metadata": {},
   "outputs": [
    {
     "data": {
      "text/html": [
       "<div>\n",
       "<style scoped>\n",
       "    .dataframe tbody tr th:only-of-type {\n",
       "        vertical-align: middle;\n",
       "    }\n",
       "\n",
       "    .dataframe tbody tr th {\n",
       "        vertical-align: top;\n",
       "    }\n",
       "\n",
       "    .dataframe thead th {\n",
       "        text-align: right;\n",
       "    }\n",
       "</style>\n",
       "<table border=\"1\" class=\"dataframe\">\n",
       "  <thead>\n",
       "    <tr style=\"text-align: right;\">\n",
       "      <th></th>\n",
       "      <th>Raw file</th>\n",
       "      <th>charge_state</th>\n",
       "      <th>mz</th>\n",
       "      <th>Mass</th>\n",
       "      <th>Resolution</th>\n",
       "      <th>number_data_points</th>\n",
       "      <th>Number of frames</th>\n",
       "      <th>isotope_count</th>\n",
       "      <th>isotope_correlation</th>\n",
       "      <th>Mass fractional part</th>\n",
       "      <th>...</th>\n",
       "      <th>Min frame index</th>\n",
       "      <th>Max frame index</th>\n",
       "      <th>scan</th>\n",
       "      <th>scan_length</th>\n",
       "      <th>scan_length_fwhm</th>\n",
       "      <th>intensity</th>\n",
       "      <th>Intensities</th>\n",
       "      <th>number_pasef_ms2_ids</th>\n",
       "      <th>pasef_msms_ids</th>\n",
       "      <th>msms_scan_number</th>\n",
       "    </tr>\n",
       "  </thead>\n",
       "  <tbody>\n",
       "    <tr>\n",
       "      <th>59883</th>\n",
       "      <td>P3795_noCompound_Slot1-14_1_3450</td>\n",
       "      <td>5</td>\n",
       "      <td>1666.7395</td>\n",
       "      <td>8328.6611</td>\n",
       "      <td>22639.073216</td>\n",
       "      <td>18868</td>\n",
       "      <td>29</td>\n",
       "      <td>9</td>\n",
       "      <td>0.989239</td>\n",
       "      <td>0.661119</td>\n",
       "      <td>...</td>\n",
       "      <td>3388</td>\n",
       "      <td>3416</td>\n",
       "      <td>510</td>\n",
       "      <td>105</td>\n",
       "      <td>45</td>\n",
       "      <td>159310.0</td>\n",
       "      <td>NaN</td>\n",
       "      <td>4</td>\n",
       "      <td>152391;152725;152735;153072</td>\n",
       "      <td>28680</td>\n",
       "    </tr>\n",
       "    <tr>\n",
       "      <th>59967</th>\n",
       "      <td>P3795_noCompound_Slot1-14_1_3450</td>\n",
       "      <td>5</td>\n",
       "      <td>1668.5325</td>\n",
       "      <td>8337.6263</td>\n",
       "      <td>23446.433319</td>\n",
       "      <td>4971</td>\n",
       "      <td>11</td>\n",
       "      <td>9</td>\n",
       "      <td>0.978880</td>\n",
       "      <td>0.626271</td>\n",
       "      <td>...</td>\n",
       "      <td>3336</td>\n",
       "      <td>3346</td>\n",
       "      <td>501</td>\n",
       "      <td>87</td>\n",
       "      <td>36</td>\n",
       "      <td>95395.0</td>\n",
       "      <td>NaN</td>\n",
       "      <td>9</td>\n",
       "      <td>146106;146130;146283;146296;146532;146543;1465...</td>\n",
       "      <td>28681</td>\n",
       "    </tr>\n",
       "    <tr>\n",
       "      <th>59940</th>\n",
       "      <td>P3795_noCompound_Slot1-14_1_3450</td>\n",
       "      <td>5</td>\n",
       "      <td>1674.7259</td>\n",
       "      <td>8368.5932</td>\n",
       "      <td>22969.669261</td>\n",
       "      <td>1376</td>\n",
       "      <td>10</td>\n",
       "      <td>6</td>\n",
       "      <td>0.925773</td>\n",
       "      <td>0.593178</td>\n",
       "      <td>...</td>\n",
       "      <td>3336</td>\n",
       "      <td>3345</td>\n",
       "      <td>504</td>\n",
       "      <td>33</td>\n",
       "      <td>30</td>\n",
       "      <td>26585.0</td>\n",
       "      <td>NaN</td>\n",
       "      <td>3</td>\n",
       "      <td>146554;146630;146642</td>\n",
       "      <td>28683</td>\n",
       "    </tr>\n",
       "    <tr>\n",
       "      <th>60014</th>\n",
       "      <td>P3795_noCompound_Slot1-14_1_3450</td>\n",
       "      <td>5</td>\n",
       "      <td>1681.1297</td>\n",
       "      <td>8400.6121</td>\n",
       "      <td>23472.955759</td>\n",
       "      <td>8141</td>\n",
       "      <td>19</td>\n",
       "      <td>9</td>\n",
       "      <td>0.991652</td>\n",
       "      <td>0.612135</td>\n",
       "      <td>...</td>\n",
       "      <td>3496</td>\n",
       "      <td>3514</td>\n",
       "      <td>486</td>\n",
       "      <td>90</td>\n",
       "      <td>57</td>\n",
       "      <td>113660.0</td>\n",
       "      <td>NaN</td>\n",
       "      <td>8</td>\n",
       "      <td>160290;160298;160306;160312;160528;160529;1605...</td>\n",
       "      <td>28684</td>\n",
       "    </tr>\n",
       "    <tr>\n",
       "      <th>60143</th>\n",
       "      <td>P3795_noCompound_Slot1-14_1_3450</td>\n",
       "      <td>5</td>\n",
       "      <td>1701.5219</td>\n",
       "      <td>8502.5732</td>\n",
       "      <td>24175.431004</td>\n",
       "      <td>26371</td>\n",
       "      <td>19</td>\n",
       "      <td>10</td>\n",
       "      <td>0.982443</td>\n",
       "      <td>0.573159</td>\n",
       "      <td>...</td>\n",
       "      <td>2813</td>\n",
       "      <td>2831</td>\n",
       "      <td>522</td>\n",
       "      <td>105</td>\n",
       "      <td>45</td>\n",
       "      <td>246330.0</td>\n",
       "      <td>NaN</td>\n",
       "      <td>14</td>\n",
       "      <td>93119;93127;93211;93221;93229;93298;93308;9331...</td>\n",
       "      <td>28687</td>\n",
       "    </tr>\n",
       "  </tbody>\n",
       "</table>\n",
       "<p>5 rows × 24 columns</p>\n",
       "</div>"
      ],
      "text/plain": [
       "                               Raw file  charge_state         mz       Mass  \\\n",
       "59883  P3795_noCompound_Slot1-14_1_3450             5  1666.7395  8328.6611   \n",
       "59967  P3795_noCompound_Slot1-14_1_3450             5  1668.5325  8337.6263   \n",
       "59940  P3795_noCompound_Slot1-14_1_3450             5  1674.7259  8368.5932   \n",
       "60014  P3795_noCompound_Slot1-14_1_3450             5  1681.1297  8400.6121   \n",
       "60143  P3795_noCompound_Slot1-14_1_3450             5  1701.5219  8502.5732   \n",
       "\n",
       "         Resolution  number_data_points  Number of frames  isotope_count  \\\n",
       "59883  22639.073216               18868                29              9   \n",
       "59967  23446.433319                4971                11              9   \n",
       "59940  22969.669261                1376                10              6   \n",
       "60014  23472.955759                8141                19              9   \n",
       "60143  24175.431004               26371                19             10   \n",
       "\n",
       "       isotope_correlation  Mass fractional part  ...  Min frame index  \\\n",
       "59883             0.989239              0.661119  ...             3388   \n",
       "59967             0.978880              0.626271  ...             3336   \n",
       "59940             0.925773              0.593178  ...             3336   \n",
       "60014             0.991652              0.612135  ...             3496   \n",
       "60143             0.982443              0.573159  ...             2813   \n",
       "\n",
       "       Max frame index  scan  scan_length  scan_length_fwhm  intensity  \\\n",
       "59883             3416   510          105                45   159310.0   \n",
       "59967             3346   501           87                36    95395.0   \n",
       "59940             3345   504           33                30    26585.0   \n",
       "60014             3514   486           90                57   113660.0   \n",
       "60143             2831   522          105                45   246330.0   \n",
       "\n",
       "       Intensities  number_pasef_ms2_ids  \\\n",
       "59883          NaN                     4   \n",
       "59967          NaN                     9   \n",
       "59940          NaN                     3   \n",
       "60014          NaN                     8   \n",
       "60143          NaN                    14   \n",
       "\n",
       "                                          pasef_msms_ids  msms_scan_number  \n",
       "59883                        152391;152725;152735;153072             28680  \n",
       "59967  146106;146130;146283;146296;146532;146543;1465...             28681  \n",
       "59940                               146554;146630;146642             28683  \n",
       "60014  160290;160298;160306;160312;160528;160529;1605...             28684  \n",
       "60143  93119;93127;93211;93221;93229;93298;93308;9331...             28687  \n",
       "\n",
       "[5 rows x 24 columns]"
      ]
     },
     "execution_count": 20,
     "metadata": {},
     "output_type": "execute_result"
    }
   ],
   "source": [
    "allpeptides_df.tail()"
   ]
  },
  {
   "cell_type": "code",
   "execution_count": 21,
   "metadata": {},
   "outputs": [
    {
     "data": {
      "text/plain": [
       "array(['P3795_withCompound_Slot1-15_1_3452',\n",
       "       'P3795_noCompound_Slot1-14_1_3450'], dtype=object)"
      ]
     },
     "execution_count": 21,
     "metadata": {},
     "output_type": "execute_result"
    }
   ],
   "source": [
    "allpeptides_df['Raw file'].unique()"
   ]
  },
  {
   "cell_type": "code",
   "execution_count": 22,
   "metadata": {},
   "outputs": [],
   "source": [
    "def collate_spectra_for_feature(ms1_d, ms2_df):\n",
    "    # append the monoisotopic and the ms2 fragments to the list for MGF creation\n",
    "    pairs_df = ms2_df[['mz', 'intensity']].copy().sort_values(by=['intensity'], ascending=False)\n",
    "    spectrum = {}\n",
    "    spectrum[\"m/z array\"] = pairs_df.mz.values\n",
    "    spectrum[\"intensity array\"] = pairs_df.intensity.values\n",
    "    params = {}\n",
    "    params[\"TITLE\"] = \"RawFile: {} Index: {} Charge: {} FeatureIntensity: {} RtApex: {}\".format(ms1_d['raw_file'], ms1_d['mq_index'], ms1_d['charge'], ms1_d['intensity'], round(ms1_d['rt_apex'],2))\n",
    "    params[\"INSTRUMENT\"] = \"ESI-QUAD-TOF\"\n",
    "    params[\"PEPMASS\"] = \"{} {}\".format(round(ms1_d['monoisotopic_mz'],6), ms1_d['intensity'])\n",
    "    params[\"CHARGE\"] = \"{}+\".format(ms1_d['charge'])\n",
    "    params[\"RTINSECONDS\"] = \"{}\".format(round(ms1_d['rt_apex'],2))\n",
    "    params[\"SCANS\"] = \"{}\".format(int(ms1_d['rt_apex']))\n",
    "    spectrum[\"params\"] = params\n",
    "    return spectrum"
   ]
  },
  {
   "cell_type": "code",
   "execution_count": 23,
   "metadata": {},
   "outputs": [],
   "source": [
    "# build a list of indexes from the APL files\n",
    "ms2_peaks = []\n",
    "apl_indexes = []\n",
    "for file in glob.glob(\"{}/*.apl\".format(APL_DIR)):\n",
    "    with open(file, 'r') as f:\n",
    "        for line in f:\n",
    "            line = line.rstrip()\n",
    "            if len(line) > 0:\n",
    "                if line.startswith(\"header=\"):\n",
    "                    line_a = line.split(' ')\n",
    "                    mq_index = int(line_a[3])\n",
    "                    raw_file = line_a[1]\n",
    "                if line[0].isdigit():\n",
    "                    line_a = line.split('\\t')\n",
    "                    mz = float(line_a[0])\n",
    "                    intensity = round(float(line_a[1]))\n",
    "                    ms2_peaks.append((mz, intensity))\n",
    "                if line.startswith(\"peaklist end\"):\n",
    "                    apl_indexes.append((mq_index, ms2_peaks.copy(), raw_file))\n",
    "                    del ms2_peaks[:]\n",
    "                    mq_index = 0\n",
    "apl_indexes_df = pd.DataFrame(apl_indexes, columns=['mq_index','ms2_peaks','raw_file'])\n",
    "apl_indexes_df.sort_values(by=['mq_index'], ascending=True, inplace=True)"
   ]
  },
  {
   "cell_type": "code",
   "execution_count": 24,
   "metadata": {
    "scrolled": true
   },
   "outputs": [
    {
     "name": "stdout",
     "output_type": "stream",
     "text": [
      "generating MGF: /Users/darylwilding-mcbride/Downloads/analyses/combined/P3795_noCompound_Slot1-14_1_3450-mq.mgf\n",
      "generating MGF: /Users/darylwilding-mcbride/Downloads/analyses/combined/P3795_withCompound_Slot1-15_1_3452-mq.mgf\n"
     ]
    }
   ],
   "source": [
    "for group_name,group_df in allpeptides_df.groupby('Raw file'):\n",
    "    mgf_spectra = []\n",
    "    mgf_file_name = '{}/{}-mq.mgf'.format(BASE_MAXQUANT_DIR, group_name)\n",
    "    file_apl_indexes_df = apl_indexes_df[(apl_indexes_df['raw_file'] == group_name)]\n",
    "    for idx,row in group_df.iterrows():\n",
    "        mq_index = row.msms_scan_number\n",
    "        ms1_d = {'monoisotopic_mass':row.Mass, \n",
    "                 'charge':row.charge_state, \n",
    "                 'monoisotopic_mz':row.mz, \n",
    "                 'intensity':int(row.intensity), \n",
    "                 'scan_apex':row.scan, \n",
    "                 'rt_apex':row.rt,\n",
    "                 'raw_file':row['Raw file'],\n",
    "                 'mq_index':mq_index}\n",
    "        df = file_apl_indexes_df[(file_apl_indexes_df.mq_index == mq_index)]\n",
    "        ms2_peaks_df = pd.DataFrame(df.iloc[0].ms2_peaks, columns=['mz','intensity'])\n",
    "        feature_spectra = collate_spectra_for_feature(ms1_d, ms2_peaks_df)\n",
    "        mgf_spectra.append(feature_spectra)\n",
    "    # generate the MGF for all the features\n",
    "    print(\"generating MGF: {}\".format(mgf_file_name))\n",
    "    if os.path.isfile(mgf_file_name):\n",
    "        os.remove(mgf_file_name)\n",
    "    f = mgf.write(output=mgf_file_name, spectra=mgf_spectra)\n"
   ]
  },
  {
   "cell_type": "code",
   "execution_count": null,
   "metadata": {},
   "outputs": [],
   "source": []
  }
 ],
 "metadata": {
  "kernelspec": {
   "display_name": "Python 3",
   "language": "python",
   "name": "python3"
  },
  "language_info": {
   "codemirror_mode": {
    "name": "ipython",
    "version": 3
   },
   "file_extension": ".py",
   "mimetype": "text/x-python",
   "name": "python",
   "nbconvert_exporter": "python",
   "pygments_lexer": "ipython3",
   "version": "3.6.8"
  }
 },
 "nbformat": 4,
 "nbformat_minor": 2
}
