{
 "cells": [
  {
   "cell_type": "code",
   "execution_count": 1,
   "metadata": {},
   "outputs": [],
   "source": [
    "import sqlite3\n",
    "import pandas as pd\n",
    "import numpy as np\n",
    "import sys\n",
    "import glob, os\n",
    "from pyteomics import mgf"
   ]
  },
  {
   "cell_type": "code",
   "execution_count": 2,
   "metadata": {},
   "outputs": [],
   "source": [
    "RT_LIMIT_LOWER = 0\n",
    "RT_LIMIT_UPPER = 3000"
   ]
  },
  {
   "cell_type": "code",
   "execution_count": 3,
   "metadata": {},
   "outputs": [],
   "source": [
    "RT_BUFFER_WIDTH = 0"
   ]
  },
  {
   "cell_type": "code",
   "execution_count": 5,
   "metadata": {},
   "outputs": [],
   "source": [
    "BASE_MAXQUANT_DIR = '/Users/darylwilding-mcbride/Downloads/analyses/combined'\n",
    "MAXQUANT_TXT_DIR = '{}/txt'.format(BASE_MAXQUANT_DIR)\n",
    "ALLPEPTIDES_FILENAME = '{}/allPeptides.txt'.format(MAXQUANT_TXT_DIR)\n",
    "APL_DIR = '{}/andromeda'.format(BASE_MAXQUANT_DIR)"
   ]
  },
  {
   "cell_type": "code",
   "execution_count": 6,
   "metadata": {},
   "outputs": [],
   "source": [
    "BASE_NAME = 'P3795'\n",
    "MGF_FILE_NAME = '{}/{}-mq.mgf'.format(BASE_MAXQUANT_DIR, BASE_NAME)"
   ]
  },
  {
   "cell_type": "code",
   "execution_count": 7,
   "metadata": {},
   "outputs": [],
   "source": [
    "MIN_ISOTOPE_CORRELATION = 0.9\n",
    "\n",
    "allpeptides_df = pd.read_csv(ALLPEPTIDES_FILENAME, sep='\\t')\n",
    "allpeptides_df.rename(columns={'Number of isotopic peaks':'isotope_count', 'm/z':'mz', 'Number of data points':'number_data_points', 'Intensity':'intensity', 'Ion mobility index':'scan', 'Ion mobility index length':'scan_length', 'Ion mobility index length (FWHM)':'scan_length_fwhm', 'Retention time':'rt', 'Retention length':'rt_length', 'Retention length (FWHM)':'rt_length_fwhm', 'Charge':'charge_state', 'Number of pasef MS/MS':'number_pasef_ms2_ids', 'Pasef MS/MS IDs':'pasef_msms_ids', 'MS/MS scan number':'msms_scan_number', 'Isotope correlation':'isotope_correlation'}, inplace=True)\n",
    "# allpeptides_df = allpeptides_df[allpeptides_df.intensity.notnull() & (allpeptides_df.number_pasef_ms2_ids > 0) & (allpeptides_df.msms_scan_number >= 0) & allpeptides_df.pasef_msms_ids.notnull() & (allpeptides_df.isotope_correlation >= MIN_ISOTOPE_CORRELATION) & (allpeptides_df.rt >= RT_LIMIT_LOWER+RT_BUFFER_WIDTH) & (allpeptides_df.rt <= RT_LIMIT_UPPER-RT_BUFFER_WIDTH)].copy()\n",
    "allpeptides_df = allpeptides_df[allpeptides_df.intensity.notnull() & (allpeptides_df.number_pasef_ms2_ids > 0) & (allpeptides_df.msms_scan_number >= 0) & allpeptides_df.pasef_msms_ids.notnull() & (allpeptides_df.isotope_correlation >= MIN_ISOTOPE_CORRELATION)].copy()\n"
   ]
  },
  {
   "cell_type": "code",
   "execution_count": 8,
   "metadata": {},
   "outputs": [],
   "source": [
    "allpeptides_df.msms_scan_number = allpeptides_df.msms_scan_number.apply(lambda x: int(x))"
   ]
  },
  {
   "cell_type": "code",
   "execution_count": 9,
   "metadata": {},
   "outputs": [
    {
     "data": {
      "text/plain": [
       "28687"
      ]
     },
     "execution_count": 9,
     "metadata": {},
     "output_type": "execute_result"
    }
   ],
   "source": [
    "allpeptides_df.msms_scan_number.max()"
   ]
  },
  {
   "cell_type": "code",
   "execution_count": 10,
   "metadata": {},
   "outputs": [
    {
     "data": {
      "text/html": [
       "<div>\n",
       "<style scoped>\n",
       "    .dataframe tbody tr th:only-of-type {\n",
       "        vertical-align: middle;\n",
       "    }\n",
       "\n",
       "    .dataframe tbody tr th {\n",
       "        vertical-align: top;\n",
       "    }\n",
       "\n",
       "    .dataframe thead th {\n",
       "        text-align: right;\n",
       "    }\n",
       "</style>\n",
       "<table border=\"1\" class=\"dataframe\">\n",
       "  <thead>\n",
       "    <tr style=\"text-align: right;\">\n",
       "      <th></th>\n",
       "      <th>Raw file</th>\n",
       "      <th>charge_state</th>\n",
       "      <th>mz</th>\n",
       "      <th>Mass</th>\n",
       "      <th>Resolution</th>\n",
       "      <th>number_data_points</th>\n",
       "      <th>Number of frames</th>\n",
       "      <th>isotope_count</th>\n",
       "      <th>isotope_correlation</th>\n",
       "      <th>Mass fractional part</th>\n",
       "      <th>...</th>\n",
       "      <th>Min frame index</th>\n",
       "      <th>Max frame index</th>\n",
       "      <th>scan</th>\n",
       "      <th>scan_length</th>\n",
       "      <th>scan_length_fwhm</th>\n",
       "      <th>intensity</th>\n",
       "      <th>Intensities</th>\n",
       "      <th>number_pasef_ms2_ids</th>\n",
       "      <th>pasef_msms_ids</th>\n",
       "      <th>msms_scan_number</th>\n",
       "    </tr>\n",
       "  </thead>\n",
       "  <tbody>\n",
       "    <tr>\n",
       "      <th>128924</th>\n",
       "      <td>P3795_withCompound_Slot1-15_1_3452</td>\n",
       "      <td>2</td>\n",
       "      <td>379.17882</td>\n",
       "      <td>756.34308</td>\n",
       "      <td>25425.739337</td>\n",
       "      <td>472</td>\n",
       "      <td>10</td>\n",
       "      <td>2</td>\n",
       "      <td>0.995390</td>\n",
       "      <td>0.343083</td>\n",
       "      <td>...</td>\n",
       "      <td>3763</td>\n",
       "      <td>3772</td>\n",
       "      <td>915</td>\n",
       "      <td>18</td>\n",
       "      <td>15</td>\n",
       "      <td>15209.0</td>\n",
       "      <td>NaN</td>\n",
       "      <td>4</td>\n",
       "      <td>75745;75756;75767;75777</td>\n",
       "      <td>659</td>\n",
       "    </tr>\n",
       "    <tr>\n",
       "      <th>128925</th>\n",
       "      <td>P3795_withCompound_Slot1-15_1_3452</td>\n",
       "      <td>3</td>\n",
       "      <td>357.16334</td>\n",
       "      <td>1068.46820</td>\n",
       "      <td>25817.435919</td>\n",
       "      <td>299</td>\n",
       "      <td>9</td>\n",
       "      <td>2</td>\n",
       "      <td>0.970008</td>\n",
       "      <td>0.468195</td>\n",
       "      <td>...</td>\n",
       "      <td>4007</td>\n",
       "      <td>4015</td>\n",
       "      <td>921</td>\n",
       "      <td>12</td>\n",
       "      <td>9</td>\n",
       "      <td>5005.6</td>\n",
       "      <td>NaN</td>\n",
       "      <td>7</td>\n",
       "      <td>100812;100825;100838;100850;100862;100874;100885</td>\n",
       "      <td>3232</td>\n",
       "    </tr>\n",
       "    <tr>\n",
       "      <th>128926</th>\n",
       "      <td>P3795_withCompound_Slot1-15_1_3452</td>\n",
       "      <td>3</td>\n",
       "      <td>429.83560</td>\n",
       "      <td>1286.48500</td>\n",
       "      <td>24442.451175</td>\n",
       "      <td>244</td>\n",
       "      <td>8</td>\n",
       "      <td>2</td>\n",
       "      <td>0.956107</td>\n",
       "      <td>0.484982</td>\n",
       "      <td>...</td>\n",
       "      <td>2454</td>\n",
       "      <td>2461</td>\n",
       "      <td>918</td>\n",
       "      <td>9</td>\n",
       "      <td>9</td>\n",
       "      <td>4836.1</td>\n",
       "      <td>NaN</td>\n",
       "      <td>12</td>\n",
       "      <td>10824;10833;10849;10866;10873;11121;11129;1119...</td>\n",
       "      <td>5669</td>\n",
       "    </tr>\n",
       "    <tr>\n",
       "      <th>128927</th>\n",
       "      <td>P3795_withCompound_Slot1-15_1_3452</td>\n",
       "      <td>1</td>\n",
       "      <td>421.25389</td>\n",
       "      <td>420.24661</td>\n",
       "      <td>24077.323974</td>\n",
       "      <td>3451</td>\n",
       "      <td>37</td>\n",
       "      <td>2</td>\n",
       "      <td>0.988118</td>\n",
       "      <td>0.246613</td>\n",
       "      <td>...</td>\n",
       "      <td>3245</td>\n",
       "      <td>3281</td>\n",
       "      <td>897</td>\n",
       "      <td>36</td>\n",
       "      <td>3</td>\n",
       "      <td>68638.0</td>\n",
       "      <td>NaN</td>\n",
       "      <td>8</td>\n",
       "      <td>44273;44277;44281;45054;45060;45066;45072;45078</td>\n",
       "      <td>32</td>\n",
       "    </tr>\n",
       "    <tr>\n",
       "      <th>128930</th>\n",
       "      <td>P3795_withCompound_Slot1-15_1_3452</td>\n",
       "      <td>3</td>\n",
       "      <td>405.15771</td>\n",
       "      <td>1212.45130</td>\n",
       "      <td>24077.563046</td>\n",
       "      <td>232</td>\n",
       "      <td>7</td>\n",
       "      <td>2</td>\n",
       "      <td>0.920694</td>\n",
       "      <td>0.451294</td>\n",
       "      <td>...</td>\n",
       "      <td>2455</td>\n",
       "      <td>2461</td>\n",
       "      <td>930</td>\n",
       "      <td>12</td>\n",
       "      <td>12</td>\n",
       "      <td>4524.8</td>\n",
       "      <td>NaN</td>\n",
       "      <td>3</td>\n",
       "      <td>10927;10935;10942</td>\n",
       "      <td>4822</td>\n",
       "    </tr>\n",
       "  </tbody>\n",
       "</table>\n",
       "<p>5 rows × 24 columns</p>\n",
       "</div>"
      ],
      "text/plain": [
       "                                  Raw file  charge_state         mz  \\\n",
       "128924  P3795_withCompound_Slot1-15_1_3452             2  379.17882   \n",
       "128925  P3795_withCompound_Slot1-15_1_3452             3  357.16334   \n",
       "128926  P3795_withCompound_Slot1-15_1_3452             3  429.83560   \n",
       "128927  P3795_withCompound_Slot1-15_1_3452             1  421.25389   \n",
       "128930  P3795_withCompound_Slot1-15_1_3452             3  405.15771   \n",
       "\n",
       "              Mass    Resolution  number_data_points  Number of frames  \\\n",
       "128924   756.34308  25425.739337                 472                10   \n",
       "128925  1068.46820  25817.435919                 299                 9   \n",
       "128926  1286.48500  24442.451175                 244                 8   \n",
       "128927   420.24661  24077.323974                3451                37   \n",
       "128930  1212.45130  24077.563046                 232                 7   \n",
       "\n",
       "        isotope_count  isotope_correlation  Mass fractional part  ...  \\\n",
       "128924              2             0.995390              0.343083  ...   \n",
       "128925              2             0.970008              0.468195  ...   \n",
       "128926              2             0.956107              0.484982  ...   \n",
       "128927              2             0.988118              0.246613  ...   \n",
       "128930              2             0.920694              0.451294  ...   \n",
       "\n",
       "        Min frame index  Max frame index  scan  scan_length  scan_length_fwhm  \\\n",
       "128924             3763             3772   915           18                15   \n",
       "128925             4007             4015   921           12                 9   \n",
       "128926             2454             2461   918            9                 9   \n",
       "128927             3245             3281   897           36                 3   \n",
       "128930             2455             2461   930           12                12   \n",
       "\n",
       "        intensity  Intensities  number_pasef_ms2_ids  \\\n",
       "128924    15209.0          NaN                     4   \n",
       "128925     5005.6          NaN                     7   \n",
       "128926     4836.1          NaN                    12   \n",
       "128927    68638.0          NaN                     8   \n",
       "128930     4524.8          NaN                     3   \n",
       "\n",
       "                                           pasef_msms_ids  msms_scan_number  \n",
       "128924                            75745;75756;75767;75777               659  \n",
       "128925   100812;100825;100838;100850;100862;100874;100885              3232  \n",
       "128926  10824;10833;10849;10866;10873;11121;11129;1119...              5669  \n",
       "128927    44273;44277;44281;45054;45060;45066;45072;45078                32  \n",
       "128930                                  10927;10935;10942              4822  \n",
       "\n",
       "[5 rows x 24 columns]"
      ]
     },
     "execution_count": 10,
     "metadata": {},
     "output_type": "execute_result"
    }
   ],
   "source": [
    "allpeptides_df.tail()"
   ]
  },
  {
   "cell_type": "code",
   "execution_count": 19,
   "metadata": {},
   "outputs": [
    {
     "data": {
      "text/plain": [
       "array(['P3795_noCompound_Slot1-14_1_3450',\n",
       "       'P3795_withCompound_Slot1-15_1_3452'], dtype=object)"
      ]
     },
     "execution_count": 19,
     "metadata": {},
     "output_type": "execute_result"
    }
   ],
   "source": [
    "allpeptides_df['Raw file'].unique()"
   ]
  },
  {
   "cell_type": "code",
   "execution_count": 11,
   "metadata": {},
   "outputs": [
    {
     "data": {
      "text/plain": [
       "Index(['Raw file', 'charge_state', 'mz', 'Mass', 'Resolution',\n",
       "       'number_data_points', 'Number of frames', 'isotope_count',\n",
       "       'isotope_correlation', 'Mass fractional part', 'Mass deficit', 'rt',\n",
       "       'rt_length', 'rt_length_fwhm', 'Min frame index', 'Max frame index',\n",
       "       'scan', 'scan_length', 'scan_length_fwhm', 'intensity', 'Intensities',\n",
       "       'number_pasef_ms2_ids', 'pasef_msms_ids', 'msms_scan_number'],\n",
       "      dtype='object')"
      ]
     },
     "execution_count": 11,
     "metadata": {},
     "output_type": "execute_result"
    }
   ],
   "source": [
    "allpeptides_df.columns"
   ]
  },
  {
   "cell_type": "code",
   "execution_count": 12,
   "metadata": {},
   "outputs": [],
   "source": [
    "def collate_spectra_for_feature(ms1_d, ms2_df):\n",
    "    # append the monoisotopic and the ms2 fragments to the list for MGF creation\n",
    "    pairs_df = ms2_df[['mz', 'intensity']].copy().sort_values(by=['intensity'], ascending=False)\n",
    "    spectrum = {}\n",
    "    spectrum[\"m/z array\"] = pairs_df.mz.values\n",
    "    spectrum[\"intensity array\"] = pairs_df.intensity.values\n",
    "    params = {}\n",
    "    params[\"TITLE\"] = \"RawFile: {} Index: {} Charge: {} FeatureIntensity: {} RtApex: {}\".format(ms1_d['raw_file'], ms1_d['mq_index'], ms1_d['charge'], ms1_d['intensity'], round(ms1_d['rt_apex'],2))\n",
    "    params[\"INSTRUMENT\"] = \"ESI-QUAD-TOF\"\n",
    "    params[\"PEPMASS\"] = \"{} {}\".format(round(ms1_d['monoisotopic_mz'],6), ms1_d['intensity'])\n",
    "    params[\"CHARGE\"] = \"{}+\".format(ms1_d['charge'])\n",
    "    params[\"RTINSECONDS\"] = \"{}\".format(round(ms1_d['rt_apex'],2))\n",
    "    params[\"SCANS\"] = \"{}\".format(int(ms1_d['rt_apex']))\n",
    "    spectrum[\"params\"] = params\n",
    "    return spectrum"
   ]
  },
  {
   "cell_type": "code",
   "execution_count": 50,
   "metadata": {},
   "outputs": [],
   "source": [
    "# build a list of indexes from the APL files\n",
    "ms2_peaks = []\n",
    "apl_indexes = []\n",
    "for file in glob.glob(\"{}/*.apl\".format(APL_DIR)):\n",
    "    with open(file, 'r') as f:\n",
    "        for line in f:\n",
    "            line = line.rstrip()\n",
    "            if len(line) > 0:\n",
    "                if line.startswith(\"header=\"):\n",
    "                    line_a = line.split(' ')\n",
    "                    mq_index = int(line_a[3])\n",
    "                    raw_file = line_a[1]\n",
    "                if line[0].isdigit():\n",
    "                    line_a = line.split('\\t')\n",
    "                    mz = float(line_a[0])\n",
    "                    intensity = round(float(line_a[1]))\n",
    "                    ms2_peaks.append((mz, intensity))\n",
    "                if line.startswith(\"peaklist end\"):\n",
    "                    apl_indexes.append((mq_index, ms2_peaks.copy(), raw_file))\n",
    "                    del ms2_peaks[:]\n",
    "                    mq_index = 0\n",
    "apl_indexes_df = pd.DataFrame(apl_indexes, columns=['mq_index','ms2_peaks','raw_file'])"
   ]
  },
  {
   "cell_type": "code",
   "execution_count": 53,
   "metadata": {
    "scrolled": true
   },
   "outputs": [],
   "source": [
    "mgf_spectra = []\n",
    "for idx,row in allpeptides_df.iterrows():\n",
    "    mq_index = row.msms_scan_number\n",
    "    ms1_d = {'monoisotopic_mass':row.Mass, \n",
    "             'charge':row.charge_state, \n",
    "             'monoisotopic_mz':row.mz, \n",
    "             'intensity':int(row.intensity), \n",
    "             'scan_apex':row.scan, \n",
    "             'rt_apex':row.rt,\n",
    "             'raw_file':row['Raw file'],\n",
    "             'mq_index':mq_index}\n",
    "    df = apl_indexes_df[(apl_indexes_df.mq_index == mq_index) & (apl_indexes_df['raw_file'] == row['Raw file'])]\n",
    "    ms2_peaks_df = pd.DataFrame(df.iloc[0].ms2_peaks, columns=['mz','intensity'])\n",
    "    feature_spectra = collate_spectra_for_feature(ms1_d, ms2_peaks_df)\n",
    "    mgf_spectra.append(feature_spectra)\n"
   ]
  },
  {
   "cell_type": "code",
   "execution_count": 54,
   "metadata": {},
   "outputs": [
    {
     "data": {
      "text/plain": [
       "37493"
      ]
     },
     "execution_count": 54,
     "metadata": {},
     "output_type": "execute_result"
    }
   ],
   "source": [
    "len(mgf_spectra)"
   ]
  },
  {
   "cell_type": "code",
   "execution_count": 55,
   "metadata": {},
   "outputs": [
    {
     "data": {
      "text/plain": [
       "24070"
      ]
     },
     "execution_count": 55,
     "metadata": {},
     "output_type": "execute_result"
    }
   ],
   "source": [
    "allpeptides_df.msms_scan_number.nunique()"
   ]
  },
  {
   "cell_type": "code",
   "execution_count": 56,
   "metadata": {},
   "outputs": [
    {
     "name": "stdout",
     "output_type": "stream",
     "text": [
      "generating the MGF: /Users/darylwilding-mcbride/Downloads/analyses/combined/P3795-mq.mgf\n"
     ]
    }
   ],
   "source": [
    "# generate the MGF for all the features\n",
    "print(\"generating the MGF: {}\".format(MGF_FILE_NAME))\n",
    "if os.path.isfile(MGF_FILE_NAME):\n",
    "    os.remove(MGF_FILE_NAME)\n",
    "f = mgf.write(output=MGF_FILE_NAME, spectra=mgf_spectra)\n"
   ]
  },
  {
   "cell_type": "code",
   "execution_count": null,
   "metadata": {},
   "outputs": [],
   "source": []
  }
 ],
 "metadata": {
  "kernelspec": {
   "display_name": "Python 3",
   "language": "python",
   "name": "python3"
  },
  "language_info": {
   "codemirror_mode": {
    "name": "ipython",
    "version": 3
   },
   "file_extension": ".py",
   "mimetype": "text/x-python",
   "name": "python",
   "nbconvert_exporter": "python",
   "pygments_lexer": "ipython3",
   "version": "3.6.8"
  }
 },
 "nbformat": 4,
 "nbformat_minor": 2
}
