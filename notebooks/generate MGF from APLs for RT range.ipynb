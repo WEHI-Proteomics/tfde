{
 "cells": [
  {
   "cell_type": "code",
   "execution_count": 27,
   "metadata": {},
   "outputs": [],
   "source": [
    "import sqlite3\n",
    "import pandas as pd\n",
    "import numpy as np\n",
    "import sys\n",
    "import glob, os\n",
    "from pyteomics import mgf"
   ]
  },
  {
   "cell_type": "code",
   "execution_count": 28,
   "metadata": {},
   "outputs": [],
   "source": [
    "RT_LIMIT_LOWER = 3000\n",
    "RT_LIMIT_UPPER = 3060"
   ]
  },
  {
   "cell_type": "code",
   "execution_count": 29,
   "metadata": {},
   "outputs": [],
   "source": [
    "RT_BUFFER_WIDTH = 15"
   ]
  },
  {
   "cell_type": "code",
   "execution_count": 30,
   "metadata": {},
   "outputs": [],
   "source": [
    "BASE_MAXQUANT_DIR = '/Users/darylwilding-mcbride/Downloads/maxquant_results'\n",
    "MAXQUANT_TXT_DIR = '{}/txt'.format(BASE_MAXQUANT_DIR)\n",
    "ALLPEPTIDES_FILENAME = '{}/allPeptides.txt'.format(MAXQUANT_TXT_DIR)\n",
    "APL_DIR = '{}/andromeda'.format(BASE_MAXQUANT_DIR)"
   ]
  },
  {
   "cell_type": "code",
   "execution_count": 32,
   "metadata": {},
   "outputs": [],
   "source": [
    "MIN_ISOTOPE_CORRELATION = 0.9\n",
    "\n",
    "allpeptides_df = pd.read_csv(ALLPEPTIDES_FILENAME, sep='\\t')\n",
    "allpeptides_df.rename(columns={'Number of isotopic peaks':'isotope_count', 'm/z':'mz', 'Number of data points':'number_data_points', 'Intensity':'intensity', 'Ion mobility index':'scan', 'Ion mobility index length':'scan_length', 'Ion mobility index length (FWHM)':'scan_length_fwhm', 'Retention time':'rt', 'Retention length':'rt_length', 'Retention length (FWHM)':'rt_length_fwhm', 'Charge':'charge_state', 'Number of pasef MS/MS':'number_pasef_ms2_ids', 'Pasef MS/MS IDs':'pasef_msms_ids', 'MS/MS scan number':'msms_scan_number', 'Isotope correlation':'isotope_correlation'}, inplace=True)\n",
    "allpeptides_df = allpeptides_df[allpeptides_df.intensity.notnull() & (allpeptides_df.number_pasef_ms2_ids > 0) & (allpeptides_df.msms_scan_number >= 0) & allpeptides_df.pasef_msms_ids.notnull() & (allpeptides_df.isotope_correlation >= MIN_ISOTOPE_CORRELATION) & (allpeptides_df.rt >= RT_LIMIT_LOWER+RT_BUFFER_WIDTH) & (allpeptides_df.rt <= RT_LIMIT_UPPER-RT_BUFFER_WIDTH)].copy()\n"
   ]
  },
  {
   "cell_type": "code",
   "execution_count": 33,
   "metadata": {},
   "outputs": [],
   "source": [
    "allpeptides_df.msms_scan_number = allpeptides_df.msms_scan_number.apply(lambda x: int(x))"
   ]
  },
  {
   "cell_type": "code",
   "execution_count": 34,
   "metadata": {},
   "outputs": [
    {
     "data": {
      "text/plain": [
       "100522"
      ]
     },
     "execution_count": 34,
     "metadata": {},
     "output_type": "execute_result"
    }
   ],
   "source": [
    "allpeptides_df.msms_scan_number.max()"
   ]
  },
  {
   "cell_type": "code",
   "execution_count": 35,
   "metadata": {},
   "outputs": [
    {
     "data": {
      "text/html": [
       "<div>\n",
       "<style scoped>\n",
       "    .dataframe tbody tr th:only-of-type {\n",
       "        vertical-align: middle;\n",
       "    }\n",
       "\n",
       "    .dataframe tbody tr th {\n",
       "        vertical-align: top;\n",
       "    }\n",
       "\n",
       "    .dataframe thead th {\n",
       "        text-align: right;\n",
       "    }\n",
       "</style>\n",
       "<table border=\"1\" class=\"dataframe\">\n",
       "  <thead>\n",
       "    <tr style=\"text-align: right;\">\n",
       "      <th></th>\n",
       "      <th>Raw file</th>\n",
       "      <th>charge_state</th>\n",
       "      <th>mz</th>\n",
       "      <th>Mass</th>\n",
       "      <th>Resolution</th>\n",
       "      <th>number_data_points</th>\n",
       "      <th>Number of frames</th>\n",
       "      <th>isotope_count</th>\n",
       "      <th>isotope_correlation</th>\n",
       "      <th>Mass fractional part</th>\n",
       "      <th>...</th>\n",
       "      <th>Min frame index</th>\n",
       "      <th>Max frame index</th>\n",
       "      <th>scan</th>\n",
       "      <th>scan_length</th>\n",
       "      <th>scan_length_fwhm</th>\n",
       "      <th>intensity</th>\n",
       "      <th>Intensities</th>\n",
       "      <th>number_pasef_ms2_ids</th>\n",
       "      <th>pasef_msms_ids</th>\n",
       "      <th>msms_scan_number</th>\n",
       "    </tr>\n",
       "  </thead>\n",
       "  <tbody>\n",
       "    <tr>\n",
       "      <th>317877</th>\n",
       "      <td>HeLa_20KInt_2KIT_Slot1-46_01_1179</td>\n",
       "      <td>2</td>\n",
       "      <td>1186.03860</td>\n",
       "      <td>2370.0627</td>\n",
       "      <td>23652.669585</td>\n",
       "      <td>1914</td>\n",
       "      <td>12</td>\n",
       "      <td>3</td>\n",
       "      <td>0.918753</td>\n",
       "      <td>0.062657</td>\n",
       "      <td>...</td>\n",
       "      <td>2561</td>\n",
       "      <td>2572</td>\n",
       "      <td>228</td>\n",
       "      <td>45</td>\n",
       "      <td>24</td>\n",
       "      <td>19775.0</td>\n",
       "      <td>NaN</td>\n",
       "      <td>9</td>\n",
       "      <td>200196;200205;200214;200223;200232;200292;2003...</td>\n",
       "      <td>92215</td>\n",
       "    </tr>\n",
       "    <tr>\n",
       "      <th>321399</th>\n",
       "      <td>HeLa_20KInt_2KIT_Slot1-46_01_1179</td>\n",
       "      <td>2</td>\n",
       "      <td>1263.03920</td>\n",
       "      <td>2524.0638</td>\n",
       "      <td>24217.124322</td>\n",
       "      <td>23646</td>\n",
       "      <td>19</td>\n",
       "      <td>5</td>\n",
       "      <td>0.997538</td>\n",
       "      <td>0.063765</td>\n",
       "      <td>...</td>\n",
       "      <td>2559</td>\n",
       "      <td>2577</td>\n",
       "      <td>210</td>\n",
       "      <td>138</td>\n",
       "      <td>63</td>\n",
       "      <td>233650.0</td>\n",
       "      <td>NaN</td>\n",
       "      <td>40</td>\n",
       "      <td>199857;199867;199877;199888;199898;199908;1999...</td>\n",
       "      <td>94898</td>\n",
       "    </tr>\n",
       "    <tr>\n",
       "      <th>325384</th>\n",
       "      <td>HeLa_20KInt_2KIT_Slot1-46_01_1179</td>\n",
       "      <td>3</td>\n",
       "      <td>670.30404</td>\n",
       "      <td>2007.8903</td>\n",
       "      <td>25049.187714</td>\n",
       "      <td>62271</td>\n",
       "      <td>28</td>\n",
       "      <td>7</td>\n",
       "      <td>0.999960</td>\n",
       "      <td>0.890286</td>\n",
       "      <td>...</td>\n",
       "      <td>2554</td>\n",
       "      <td>2581</td>\n",
       "      <td>708</td>\n",
       "      <td>120</td>\n",
       "      <td>48</td>\n",
       "      <td>1999200.0</td>\n",
       "      <td>NaN</td>\n",
       "      <td>3</td>\n",
       "      <td>199529;199777;201014</td>\n",
       "      <td>81401</td>\n",
       "    </tr>\n",
       "    <tr>\n",
       "      <th>325494</th>\n",
       "      <td>HeLa_20KInt_2KIT_Slot1-46_01_1179</td>\n",
       "      <td>3</td>\n",
       "      <td>688.35495</td>\n",
       "      <td>2062.0430</td>\n",
       "      <td>24291.598528</td>\n",
       "      <td>10295</td>\n",
       "      <td>18</td>\n",
       "      <td>5</td>\n",
       "      <td>0.997244</td>\n",
       "      <td>0.043033</td>\n",
       "      <td>...</td>\n",
       "      <td>2563</td>\n",
       "      <td>2580</td>\n",
       "      <td>717</td>\n",
       "      <td>72</td>\n",
       "      <td>33</td>\n",
       "      <td>165630.0</td>\n",
       "      <td>NaN</td>\n",
       "      <td>2</td>\n",
       "      <td>200445;200455</td>\n",
       "      <td>83450</td>\n",
       "    </tr>\n",
       "    <tr>\n",
       "      <th>327447</th>\n",
       "      <td>HeLa_20KInt_2KIT_Slot1-46_01_1179</td>\n",
       "      <td>2</td>\n",
       "      <td>673.38573</td>\n",
       "      <td>1344.7569</td>\n",
       "      <td>23387.664514</td>\n",
       "      <td>1698</td>\n",
       "      <td>12</td>\n",
       "      <td>2</td>\n",
       "      <td>0.954187</td>\n",
       "      <td>0.756915</td>\n",
       "      <td>...</td>\n",
       "      <td>2551</td>\n",
       "      <td>2562</td>\n",
       "      <td>771</td>\n",
       "      <td>54</td>\n",
       "      <td>45</td>\n",
       "      <td>23594.0</td>\n",
       "      <td>NaN</td>\n",
       "      <td>1</td>\n",
       "      <td>199498</td>\n",
       "      <td>40002</td>\n",
       "    </tr>\n",
       "  </tbody>\n",
       "</table>\n",
       "<p>5 rows × 24 columns</p>\n",
       "</div>"
      ],
      "text/plain": [
       "                                 Raw file  charge_state          mz  \\\n",
       "317877  HeLa_20KInt_2KIT_Slot1-46_01_1179             2  1186.03860   \n",
       "321399  HeLa_20KInt_2KIT_Slot1-46_01_1179             2  1263.03920   \n",
       "325384  HeLa_20KInt_2KIT_Slot1-46_01_1179             3   670.30404   \n",
       "325494  HeLa_20KInt_2KIT_Slot1-46_01_1179             3   688.35495   \n",
       "327447  HeLa_20KInt_2KIT_Slot1-46_01_1179             2   673.38573   \n",
       "\n",
       "             Mass    Resolution  number_data_points  Number of frames  \\\n",
       "317877  2370.0627  23652.669585                1914                12   \n",
       "321399  2524.0638  24217.124322               23646                19   \n",
       "325384  2007.8903  25049.187714               62271                28   \n",
       "325494  2062.0430  24291.598528               10295                18   \n",
       "327447  1344.7569  23387.664514                1698                12   \n",
       "\n",
       "        isotope_count  isotope_correlation  Mass fractional part  ...  \\\n",
       "317877              3             0.918753              0.062657  ...   \n",
       "321399              5             0.997538              0.063765  ...   \n",
       "325384              7             0.999960              0.890286  ...   \n",
       "325494              5             0.997244              0.043033  ...   \n",
       "327447              2             0.954187              0.756915  ...   \n",
       "\n",
       "        Min frame index  Max frame index  scan  scan_length  scan_length_fwhm  \\\n",
       "317877             2561             2572   228           45                24   \n",
       "321399             2559             2577   210          138                63   \n",
       "325384             2554             2581   708          120                48   \n",
       "325494             2563             2580   717           72                33   \n",
       "327447             2551             2562   771           54                45   \n",
       "\n",
       "        intensity  Intensities  number_pasef_ms2_ids  \\\n",
       "317877    19775.0          NaN                     9   \n",
       "321399   233650.0          NaN                    40   \n",
       "325384  1999200.0          NaN                     3   \n",
       "325494   165630.0          NaN                     2   \n",
       "327447    23594.0          NaN                     1   \n",
       "\n",
       "                                           pasef_msms_ids  msms_scan_number  \n",
       "317877  200196;200205;200214;200223;200232;200292;2003...             92215  \n",
       "321399  199857;199867;199877;199888;199898;199908;1999...             94898  \n",
       "325384                               199529;199777;201014             81401  \n",
       "325494                                      200445;200455             83450  \n",
       "327447                                             199498             40002  \n",
       "\n",
       "[5 rows x 24 columns]"
      ]
     },
     "execution_count": 35,
     "metadata": {},
     "output_type": "execute_result"
    }
   ],
   "source": [
    "allpeptides_df.tail()"
   ]
  },
  {
   "cell_type": "code",
   "execution_count": 36,
   "metadata": {},
   "outputs": [
    {
     "data": {
      "text/plain": [
       "Index(['Raw file', 'charge_state', 'mz', 'Mass', 'Resolution',\n",
       "       'number_data_points', 'Number of frames', 'isotope_count',\n",
       "       'isotope_correlation', 'Mass fractional part', 'Mass deficit', 'rt',\n",
       "       'rt_length', 'rt_length_fwhm', 'Min frame index', 'Max frame index',\n",
       "       'scan', 'scan_length', 'scan_length_fwhm', 'intensity', 'Intensities',\n",
       "       'number_pasef_ms2_ids', 'pasef_msms_ids', 'msms_scan_number'],\n",
       "      dtype='object')"
      ]
     },
     "execution_count": 36,
     "metadata": {},
     "output_type": "execute_result"
    }
   ],
   "source": [
    "allpeptides_df.columns"
   ]
  },
  {
   "cell_type": "code",
   "execution_count": 37,
   "metadata": {},
   "outputs": [],
   "source": [
    "def collate_spectra_for_feature(ms1_d, ms2_df):\n",
    "    # append the monoisotopic and the ms2 fragments to the list for MGF creation\n",
    "    pairs_df = ms2_df[['mz', 'intensity']].copy().sort_values(by=['intensity'], ascending=False)\n",
    "    spectrum = {}\n",
    "    spectrum[\"m/z array\"] = pairs_df.mz.values\n",
    "    spectrum[\"intensity array\"] = pairs_df.intensity.values\n",
    "    params = {}\n",
    "    params[\"TITLE\"] = \"RawFile: {} Index: {} Charge: {} FeatureIntensity: {} RtApex: {}\".format(ms1_d['raw_file'], ms1_d['mq_index'], ms1_d['charge'], ms1_d['intensity'], round(ms1_d['rt_apex'],2))\n",
    "    params[\"INSTRUMENT\"] = \"ESI-QUAD-TOF\"\n",
    "    params[\"PEPMASS\"] = \"{} {}\".format(round(ms1_d['monoisotopic_mz'],6), ms1_d['intensity'])\n",
    "    params[\"CHARGE\"] = \"{}+\".format(ms1_d['charge'])\n",
    "    params[\"RTINSECONDS\"] = \"{}\".format(round(ms1_d['rt_apex'],2))\n",
    "    params[\"SCANS\"] = \"{}\".format(int(ms1_d['rt_apex']))\n",
    "    spectrum[\"params\"] = params\n",
    "    return spectrum"
   ]
  },
  {
   "cell_type": "code",
   "execution_count": 38,
   "metadata": {},
   "outputs": [],
   "source": [
    "# build a list of indexes from the APL files\n",
    "ms2_peaks = []\n",
    "apl_indexes = []\n",
    "for file in glob.glob(\"{}/*.apl\".format(APL_DIR)):\n",
    "    with open(file, 'r') as f:\n",
    "        for line in f:\n",
    "            line = line.rstrip()\n",
    "            if len(line) > 0:\n",
    "                if line.startswith(\"header=\"):\n",
    "                    mq_index = int(line.split(' ')[3])\n",
    "                if line[0].isdigit():\n",
    "                    line_a = line.split('\\t')\n",
    "                    mz = float(line_a[0])\n",
    "                    intensity = round(float(line_a[1]))\n",
    "                    ms2_peaks.append((mz, intensity))\n",
    "                if line.startswith(\"peaklist end\"):\n",
    "                    apl_indexes.append((mq_index, ms2_peaks.copy()))\n",
    "                    del ms2_peaks[:]\n",
    "                    mq_index = 0\n",
    "apl_indexes_df = pd.DataFrame(apl_indexes, columns=['mq_index','ms2_peaks'])"
   ]
  },
  {
   "cell_type": "code",
   "execution_count": 39,
   "metadata": {},
   "outputs": [
    {
     "data": {
      "text/html": [
       "<div>\n",
       "<style scoped>\n",
       "    .dataframe tbody tr th:only-of-type {\n",
       "        vertical-align: middle;\n",
       "    }\n",
       "\n",
       "    .dataframe tbody tr th {\n",
       "        vertical-align: top;\n",
       "    }\n",
       "\n",
       "    .dataframe thead th {\n",
       "        text-align: right;\n",
       "    }\n",
       "</style>\n",
       "<table border=\"1\" class=\"dataframe\">\n",
       "  <thead>\n",
       "    <tr style=\"text-align: right;\">\n",
       "      <th></th>\n",
       "      <th>mq_index</th>\n",
       "      <th>ms2_peaks</th>\n",
       "    </tr>\n",
       "  </thead>\n",
       "  <tbody>\n",
       "    <tr>\n",
       "      <th>0</th>\n",
       "      <td>18180</td>\n",
       "      <td>[(198.12835, 15), (226.11905, 16), (235.11728,...</td>\n",
       "    </tr>\n",
       "    <tr>\n",
       "      <th>1</th>\n",
       "      <td>18181</td>\n",
       "      <td>[(204.08961, 10), (231.11226, 21), (235.04234,...</td>\n",
       "    </tr>\n",
       "    <tr>\n",
       "      <th>2</th>\n",
       "      <td>18182</td>\n",
       "      <td>[(166.28784, 9), (171.15202, 26), (195.07293, ...</td>\n",
       "    </tr>\n",
       "    <tr>\n",
       "      <th>3</th>\n",
       "      <td>18183</td>\n",
       "      <td>[(212.10498, 15), (217.11978, 9), (237.10405, ...</td>\n",
       "    </tr>\n",
       "    <tr>\n",
       "      <th>4</th>\n",
       "      <td>18184</td>\n",
       "      <td>[(226.11908, 16), (227.12076, 10), (244.16614,...</td>\n",
       "    </tr>\n",
       "  </tbody>\n",
       "</table>\n",
       "</div>"
      ],
      "text/plain": [
       "   mq_index                                          ms2_peaks\n",
       "0     18180  [(198.12835, 15), (226.11905, 16), (235.11728,...\n",
       "1     18181  [(204.08961, 10), (231.11226, 21), (235.04234,...\n",
       "2     18182  [(166.28784, 9), (171.15202, 26), (195.07293, ...\n",
       "3     18183  [(212.10498, 15), (217.11978, 9), (237.10405, ...\n",
       "4     18184  [(226.11908, 16), (227.12076, 10), (244.16614,..."
      ]
     },
     "execution_count": 39,
     "metadata": {},
     "output_type": "execute_result"
    }
   ],
   "source": [
    "apl_indexes_df.head()"
   ]
  },
  {
   "cell_type": "code",
   "execution_count": 40,
   "metadata": {},
   "outputs": [],
   "source": [
    "mgf_spectra = []\n",
    "for idx,row in allpeptides_df.iterrows():\n",
    "    mq_index = row.msms_scan_number\n",
    "    ms1_d = {'monoisotopic_mass':row.Mass, \n",
    "             'charge':row.charge_state, \n",
    "             'monoisotopic_mz':row.mz, \n",
    "             'intensity':int(row.intensity), \n",
    "             'scan_apex':row.scan, \n",
    "             'rt_apex':row.rt,\n",
    "             'raw_file':row['Raw file'],\n",
    "             'mq_index':mq_index}\n",
    "    df = apl_indexes_df[apl_indexes_df.mq_index == mq_index]\n",
    "    if len(df) == 1:\n",
    "        ms2_peaks_df = pd.DataFrame(df.ms2_peaks.values[0], columns=['mz','intensity'])\n",
    "        feature_spectra = collate_spectra_for_feature(ms1_d, ms2_peaks_df)\n",
    "        mgf_spectra.append(feature_spectra)\n",
    "    else:\n",
    "        print(\"no match for mq_index {}\".format(mq_index))"
   ]
  },
  {
   "cell_type": "code",
   "execution_count": 41,
   "metadata": {},
   "outputs": [
    {
     "data": {
      "text/plain": [
       "419"
      ]
     },
     "execution_count": 41,
     "metadata": {},
     "output_type": "execute_result"
    }
   ],
   "source": [
    "len(mgf_spectra)"
   ]
  },
  {
   "cell_type": "code",
   "execution_count": 42,
   "metadata": {},
   "outputs": [
    {
     "data": {
      "text/plain": [
       "419"
      ]
     },
     "execution_count": 42,
     "metadata": {},
     "output_type": "execute_result"
    }
   ],
   "source": [
    "allpeptides_df.msms_scan_number.nunique()"
   ]
  },
  {
   "cell_type": "code",
   "execution_count": 50,
   "metadata": {},
   "outputs": [
    {
     "name": "stdout",
     "output_type": "stream",
     "text": [
      "generating the MGF: /Users/darylwilding-mcbride/Downloads/mq_features-rt-3000-3060.mgf\n"
     ]
    }
   ],
   "source": [
    "MGF_FILE_NAME = '/Users/darylwilding-mcbride/Downloads/mq_features-rt-3000-3060.mgf'\n",
    "# generate the MGF for all the features\n",
    "print(\"generating the MGF: {}\".format(MGF_FILE_NAME))\n",
    "if os.path.isfile(MGF_FILE_NAME):\n",
    "    os.remove(MGF_FILE_NAME)\n",
    "f = mgf.write(output=MGF_FILE_NAME, spectra=mgf_spectra)\n"
   ]
  },
  {
   "cell_type": "code",
   "execution_count": 44,
   "metadata": {},
   "outputs": [],
   "source": [
    "ms1_features = []\n",
    "for idx,row in allpeptides_df.iterrows():\n",
    "    ms1_features.append((row.mz, row.charge_state, int(row.intensity), row.Mass, row.rt, row.scan, row.msms_scan_number))\n",
    "ms1_df = pd.DataFrame(ms1_features, columns=['mz','charge','intensity','monoisotopic_mass','rt','scan','msms_scan_number'])"
   ]
  },
  {
   "cell_type": "code",
   "execution_count": 45,
   "metadata": {},
   "outputs": [
    {
     "data": {
      "text/html": [
       "<div>\n",
       "<style scoped>\n",
       "    .dataframe tbody tr th:only-of-type {\n",
       "        vertical-align: middle;\n",
       "    }\n",
       "\n",
       "    .dataframe tbody tr th {\n",
       "        vertical-align: top;\n",
       "    }\n",
       "\n",
       "    .dataframe thead th {\n",
       "        text-align: right;\n",
       "    }\n",
       "</style>\n",
       "<table border=\"1\" class=\"dataframe\">\n",
       "  <thead>\n",
       "    <tr style=\"text-align: right;\">\n",
       "      <th></th>\n",
       "      <th>mz</th>\n",
       "      <th>charge</th>\n",
       "      <th>intensity</th>\n",
       "      <th>monoisotopic_mass</th>\n",
       "      <th>rt</th>\n",
       "      <th>scan</th>\n",
       "      <th>msms_scan_number</th>\n",
       "    </tr>\n",
       "  </thead>\n",
       "  <tbody>\n",
       "    <tr>\n",
       "      <th>0</th>\n",
       "      <td>326.70863</td>\n",
       "      <td>2</td>\n",
       "      <td>7996</td>\n",
       "      <td>651.40270</td>\n",
       "      <td>3017.769</td>\n",
       "      <td>852</td>\n",
       "      <td>1790</td>\n",
       "    </tr>\n",
       "    <tr>\n",
       "      <th>1</th>\n",
       "      <td>364.74869</td>\n",
       "      <td>2</td>\n",
       "      <td>35051</td>\n",
       "      <td>727.48282</td>\n",
       "      <td>3018.951</td>\n",
       "      <td>768</td>\n",
       "      <td>3086</td>\n",
       "    </tr>\n",
       "    <tr>\n",
       "      <th>2</th>\n",
       "      <td>363.87617</td>\n",
       "      <td>3</td>\n",
       "      <td>12509</td>\n",
       "      <td>1088.60670</td>\n",
       "      <td>3029.586</td>\n",
       "      <td>825</td>\n",
       "      <td>20281</td>\n",
       "    </tr>\n",
       "    <tr>\n",
       "      <th>3</th>\n",
       "      <td>367.21087</td>\n",
       "      <td>3</td>\n",
       "      <td>168590</td>\n",
       "      <td>1098.61080</td>\n",
       "      <td>3040.218</td>\n",
       "      <td>825</td>\n",
       "      <td>20900</td>\n",
       "    </tr>\n",
       "    <tr>\n",
       "      <th>4</th>\n",
       "      <td>371.21264</td>\n",
       "      <td>3</td>\n",
       "      <td>27040</td>\n",
       "      <td>1110.61610</td>\n",
       "      <td>3021.314</td>\n",
       "      <td>771</td>\n",
       "      <td>21731</td>\n",
       "    </tr>\n",
       "  </tbody>\n",
       "</table>\n",
       "</div>"
      ],
      "text/plain": [
       "          mz  charge  intensity  monoisotopic_mass        rt  scan  \\\n",
       "0  326.70863       2       7996          651.40270  3017.769   852   \n",
       "1  364.74869       2      35051          727.48282  3018.951   768   \n",
       "2  363.87617       3      12509         1088.60670  3029.586   825   \n",
       "3  367.21087       3     168590         1098.61080  3040.218   825   \n",
       "4  371.21264       3      27040         1110.61610  3021.314   771   \n",
       "\n",
       "   msms_scan_number  \n",
       "0              1790  \n",
       "1              3086  \n",
       "2             20281  \n",
       "3             20900  \n",
       "4             21731  "
      ]
     },
     "execution_count": 45,
     "metadata": {},
     "output_type": "execute_result"
    }
   ],
   "source": [
    "ms1_df.head()"
   ]
  },
  {
   "cell_type": "code",
   "execution_count": 46,
   "metadata": {},
   "outputs": [],
   "source": [
    "ms1_df.to_csv('/Users/darylwilding-mcbride/Downloads/mq-ms1-rt-3000-3060.csv', index=False)\n",
    "ms1_df.to_pickle('/Users/darylwilding-mcbride/Downloads/mq-ms1-rt-3000-3060.pkl')"
   ]
  },
  {
   "cell_type": "code",
   "execution_count": 47,
   "metadata": {},
   "outputs": [],
   "source": [
    "import pickle\n",
    "ms1_deduped_df = pd.read_pickle('/Users/darylwilding-mcbride/Downloads/my-ms1-rt-3000-3060.pkl')"
   ]
  },
  {
   "cell_type": "code",
   "execution_count": 48,
   "metadata": {},
   "outputs": [
    {
     "data": {
      "text/plain": [
       "4930"
      ]
     },
     "execution_count": 48,
     "metadata": {},
     "output_type": "execute_result"
    }
   ],
   "source": [
    "len(ms1_deduped_df)"
   ]
  },
  {
   "cell_type": "code",
   "execution_count": 49,
   "metadata": {},
   "outputs": [],
   "source": [
    "ms1_deduped_df.to_csv('/Users/darylwilding-mcbride/Downloads/my-ms1-rt-3000-3060.csv', index=False)"
   ]
  },
  {
   "cell_type": "code",
   "execution_count": null,
   "metadata": {},
   "outputs": [],
   "source": []
  }
 ],
 "metadata": {
  "kernelspec": {
   "display_name": "Python 3",
   "language": "python",
   "name": "python3"
  },
  "language_info": {
   "codemirror_mode": {
    "name": "ipython",
    "version": 3
   },
   "file_extension": ".py",
   "mimetype": "text/x-python",
   "name": "python",
   "nbconvert_exporter": "python",
   "pygments_lexer": "ipython3",
   "version": "3.6.7"
  }
 },
 "nbformat": 4,
 "nbformat_minor": 2
}
