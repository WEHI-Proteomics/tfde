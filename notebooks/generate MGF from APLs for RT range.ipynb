{
 "cells": [
  {
   "cell_type": "code",
   "execution_count": 18,
   "metadata": {},
   "outputs": [],
   "source": [
    "import sqlite3\n",
    "import pandas as pd\n",
    "import numpy as np\n",
    "import sys\n",
    "import glob, os\n",
    "from pyteomics import mgf"
   ]
  },
  {
   "cell_type": "code",
   "execution_count": 19,
   "metadata": {},
   "outputs": [],
   "source": [
    "RT_LIMIT_LOWER = 0\n",
    "RT_LIMIT_UPPER = 3000"
   ]
  },
  {
   "cell_type": "code",
   "execution_count": 20,
   "metadata": {},
   "outputs": [],
   "source": [
    "RT_BUFFER_WIDTH = 0"
   ]
  },
  {
   "cell_type": "code",
   "execution_count": 21,
   "metadata": {},
   "outputs": [],
   "source": [
    "BASE_NAME = '190719_Hela_Ecoli_1to1_01_Slot1-1_1_1926'"
   ]
  },
  {
   "cell_type": "code",
   "execution_count": 22,
   "metadata": {},
   "outputs": [],
   "source": [
    "BASE_MAXQUANT_DIR = '/Users/darylwilding-mcbride/Downloads/{}-combined'.format(BASE_NAME)\n",
    "MAXQUANT_TXT_DIR = '{}/txt'.format(BASE_MAXQUANT_DIR)\n",
    "ALLPEPTIDES_FILENAME = '{}/allPeptides.txt'.format(MAXQUANT_TXT_DIR)\n",
    "APL_DIR = '{}/andromeda'.format(BASE_MAXQUANT_DIR)"
   ]
  },
  {
   "cell_type": "code",
   "execution_count": 23,
   "metadata": {},
   "outputs": [],
   "source": [
    "MGF_FILE_NAME = '{}/{}-mq.mgf'.format(BASE_MAXQUANT_DIR, BASE_NAME)"
   ]
  },
  {
   "cell_type": "code",
   "execution_count": 24,
   "metadata": {},
   "outputs": [],
   "source": [
    "MIN_ISOTOPE_CORRELATION = 0.9\n",
    "\n",
    "allpeptides_df = pd.read_csv(ALLPEPTIDES_FILENAME, sep='\\t')\n",
    "allpeptides_df.rename(columns={'Number of isotopic peaks':'isotope_count', 'm/z':'mz', 'Number of data points':'number_data_points', 'Intensity':'intensity', 'Ion mobility index':'scan', 'Ion mobility index length':'scan_length', 'Ion mobility index length (FWHM)':'scan_length_fwhm', 'Retention time':'rt', 'Retention length':'rt_length', 'Retention length (FWHM)':'rt_length_fwhm', 'Charge':'charge_state', 'Number of pasef MS/MS':'number_pasef_ms2_ids', 'Pasef MS/MS IDs':'pasef_msms_ids', 'MS/MS scan number':'msms_scan_number', 'Isotope correlation':'isotope_correlation'}, inplace=True)\n",
    "allpeptides_df = allpeptides_df[allpeptides_df.intensity.notnull() & (allpeptides_df.number_pasef_ms2_ids > 0) & (allpeptides_df.msms_scan_number >= 0) & allpeptides_df.pasef_msms_ids.notnull() & (allpeptides_df.isotope_correlation >= MIN_ISOTOPE_CORRELATION) & (allpeptides_df.rt >= RT_LIMIT_LOWER+RT_BUFFER_WIDTH) & (allpeptides_df.rt <= RT_LIMIT_UPPER-RT_BUFFER_WIDTH)].copy()\n"
   ]
  },
  {
   "cell_type": "code",
   "execution_count": 25,
   "metadata": {},
   "outputs": [],
   "source": [
    "allpeptides_df.msms_scan_number = allpeptides_df.msms_scan_number.apply(lambda x: int(x))"
   ]
  },
  {
   "cell_type": "code",
   "execution_count": 26,
   "metadata": {},
   "outputs": [
    {
     "data": {
      "text/plain": [
       "39270"
      ]
     },
     "execution_count": 26,
     "metadata": {},
     "output_type": "execute_result"
    }
   ],
   "source": [
    "allpeptides_df.msms_scan_number.max()"
   ]
  },
  {
   "cell_type": "code",
   "execution_count": 27,
   "metadata": {},
   "outputs": [
    {
     "data": {
      "text/html": [
       "<div>\n",
       "<style scoped>\n",
       "    .dataframe tbody tr th:only-of-type {\n",
       "        vertical-align: middle;\n",
       "    }\n",
       "\n",
       "    .dataframe tbody tr th {\n",
       "        vertical-align: top;\n",
       "    }\n",
       "\n",
       "    .dataframe thead th {\n",
       "        text-align: right;\n",
       "    }\n",
       "</style>\n",
       "<table border=\"1\" class=\"dataframe\">\n",
       "  <thead>\n",
       "    <tr style=\"text-align: right;\">\n",
       "      <th></th>\n",
       "      <th>Raw file</th>\n",
       "      <th>charge_state</th>\n",
       "      <th>mz</th>\n",
       "      <th>Mass</th>\n",
       "      <th>Resolution</th>\n",
       "      <th>number_data_points</th>\n",
       "      <th>Number of frames</th>\n",
       "      <th>isotope_count</th>\n",
       "      <th>isotope_correlation</th>\n",
       "      <th>Mass fractional part</th>\n",
       "      <th>...</th>\n",
       "      <th>Min frame index</th>\n",
       "      <th>Max frame index</th>\n",
       "      <th>scan</th>\n",
       "      <th>scan_length</th>\n",
       "      <th>scan_length_fwhm</th>\n",
       "      <th>intensity</th>\n",
       "      <th>Intensities</th>\n",
       "      <th>number_pasef_ms2_ids</th>\n",
       "      <th>pasef_msms_ids</th>\n",
       "      <th>msms_scan_number</th>\n",
       "    </tr>\n",
       "  </thead>\n",
       "  <tbody>\n",
       "    <tr>\n",
       "      <th>191580</th>\n",
       "      <td>190719_Hela_Ecoli_1to1_01_Slot1-1_1_1926</td>\n",
       "      <td>2</td>\n",
       "      <td>580.28097</td>\n",
       "      <td>1158.54740</td>\n",
       "      <td>24593.888676</td>\n",
       "      <td>11088</td>\n",
       "      <td>33</td>\n",
       "      <td>3</td>\n",
       "      <td>0.958905</td>\n",
       "      <td>0.547387</td>\n",
       "      <td>...</td>\n",
       "      <td>343</td>\n",
       "      <td>375</td>\n",
       "      <td>891</td>\n",
       "      <td>54</td>\n",
       "      <td>27</td>\n",
       "      <td>174960.0</td>\n",
       "      <td>NaN</td>\n",
       "      <td>4</td>\n",
       "      <td>6625;6633;6641;6649</td>\n",
       "      <td>3881</td>\n",
       "    </tr>\n",
       "    <tr>\n",
       "      <th>191589</th>\n",
       "      <td>190719_Hela_Ecoli_1to1_01_Slot1-1_1_1926</td>\n",
       "      <td>3</td>\n",
       "      <td>712.94858</td>\n",
       "      <td>2135.82390</td>\n",
       "      <td>25287.251692</td>\n",
       "      <td>11715</td>\n",
       "      <td>22</td>\n",
       "      <td>5</td>\n",
       "      <td>0.993154</td>\n",
       "      <td>0.823906</td>\n",
       "      <td>...</td>\n",
       "      <td>186</td>\n",
       "      <td>207</td>\n",
       "      <td>897</td>\n",
       "      <td>45</td>\n",
       "      <td>18</td>\n",
       "      <td>141950.0</td>\n",
       "      <td>NaN</td>\n",
       "      <td>2</td>\n",
       "      <td>3575;3583</td>\n",
       "      <td>31608</td>\n",
       "    </tr>\n",
       "    <tr>\n",
       "      <th>191596</th>\n",
       "      <td>190719_Hela_Ecoli_1to1_01_Slot1-1_1_1926</td>\n",
       "      <td>2</td>\n",
       "      <td>512.25803</td>\n",
       "      <td>1022.50150</td>\n",
       "      <td>24976.754027</td>\n",
       "      <td>3429</td>\n",
       "      <td>29</td>\n",
       "      <td>3</td>\n",
       "      <td>0.997006</td>\n",
       "      <td>0.501507</td>\n",
       "      <td>...</td>\n",
       "      <td>170</td>\n",
       "      <td>198</td>\n",
       "      <td>903</td>\n",
       "      <td>21</td>\n",
       "      <td>12</td>\n",
       "      <td>51455.0</td>\n",
       "      <td>NaN</td>\n",
       "      <td>2</td>\n",
       "      <td>2828;2835</td>\n",
       "      <td>1033</td>\n",
       "    </tr>\n",
       "    <tr>\n",
       "      <th>191609</th>\n",
       "      <td>190719_Hela_Ecoli_1to1_01_Slot1-1_1_1926</td>\n",
       "      <td>2</td>\n",
       "      <td>472.28221</td>\n",
       "      <td>942.54987</td>\n",
       "      <td>25029.184983</td>\n",
       "      <td>19411</td>\n",
       "      <td>40</td>\n",
       "      <td>4</td>\n",
       "      <td>0.999323</td>\n",
       "      <td>0.549866</td>\n",
       "      <td>...</td>\n",
       "      <td>97</td>\n",
       "      <td>136</td>\n",
       "      <td>891</td>\n",
       "      <td>42</td>\n",
       "      <td>24</td>\n",
       "      <td>651280.0</td>\n",
       "      <td>NaN</td>\n",
       "      <td>1</td>\n",
       "      <td>1502</td>\n",
       "      <td>629</td>\n",
       "    </tr>\n",
       "    <tr>\n",
       "      <th>191629</th>\n",
       "      <td>190719_Hela_Ecoli_1to1_01_Slot1-1_1_1926</td>\n",
       "      <td>2</td>\n",
       "      <td>537.74573</td>\n",
       "      <td>1073.47690</td>\n",
       "      <td>25014.985918</td>\n",
       "      <td>8882</td>\n",
       "      <td>64</td>\n",
       "      <td>3</td>\n",
       "      <td>0.965886</td>\n",
       "      <td>0.476899</td>\n",
       "      <td>...</td>\n",
       "      <td>30</td>\n",
       "      <td>93</td>\n",
       "      <td>903</td>\n",
       "      <td>24</td>\n",
       "      <td>3</td>\n",
       "      <td>102050.0</td>\n",
       "      <td>NaN</td>\n",
       "      <td>4</td>\n",
       "      <td>800;804;808;812</td>\n",
       "      <td>1810</td>\n",
       "    </tr>\n",
       "  </tbody>\n",
       "</table>\n",
       "<p>5 rows × 24 columns</p>\n",
       "</div>"
      ],
      "text/plain": [
       "                                        Raw file  charge_state         mz  \\\n",
       "191580  190719_Hela_Ecoli_1to1_01_Slot1-1_1_1926             2  580.28097   \n",
       "191589  190719_Hela_Ecoli_1to1_01_Slot1-1_1_1926             3  712.94858   \n",
       "191596  190719_Hela_Ecoli_1to1_01_Slot1-1_1_1926             2  512.25803   \n",
       "191609  190719_Hela_Ecoli_1to1_01_Slot1-1_1_1926             2  472.28221   \n",
       "191629  190719_Hela_Ecoli_1to1_01_Slot1-1_1_1926             2  537.74573   \n",
       "\n",
       "              Mass    Resolution  number_data_points  Number of frames  \\\n",
       "191580  1158.54740  24593.888676               11088                33   \n",
       "191589  2135.82390  25287.251692               11715                22   \n",
       "191596  1022.50150  24976.754027                3429                29   \n",
       "191609   942.54987  25029.184983               19411                40   \n",
       "191629  1073.47690  25014.985918                8882                64   \n",
       "\n",
       "        isotope_count  isotope_correlation  Mass fractional part  ...  \\\n",
       "191580              3             0.958905              0.547387  ...   \n",
       "191589              5             0.993154              0.823906  ...   \n",
       "191596              3             0.997006              0.501507  ...   \n",
       "191609              4             0.999323              0.549866  ...   \n",
       "191629              3             0.965886              0.476899  ...   \n",
       "\n",
       "        Min frame index  Max frame index  scan  scan_length  scan_length_fwhm  \\\n",
       "191580              343              375   891           54                27   \n",
       "191589              186              207   897           45                18   \n",
       "191596              170              198   903           21                12   \n",
       "191609               97              136   891           42                24   \n",
       "191629               30               93   903           24                 3   \n",
       "\n",
       "        intensity  Intensities  number_pasef_ms2_ids       pasef_msms_ids  \\\n",
       "191580   174960.0          NaN                     4  6625;6633;6641;6649   \n",
       "191589   141950.0          NaN                     2            3575;3583   \n",
       "191596    51455.0          NaN                     2            2828;2835   \n",
       "191609   651280.0          NaN                     1                 1502   \n",
       "191629   102050.0          NaN                     4      800;804;808;812   \n",
       "\n",
       "        msms_scan_number  \n",
       "191580              3881  \n",
       "191589             31608  \n",
       "191596              1033  \n",
       "191609               629  \n",
       "191629              1810  \n",
       "\n",
       "[5 rows x 24 columns]"
      ]
     },
     "execution_count": 27,
     "metadata": {},
     "output_type": "execute_result"
    }
   ],
   "source": [
    "allpeptides_df.tail()"
   ]
  },
  {
   "cell_type": "code",
   "execution_count": 28,
   "metadata": {},
   "outputs": [
    {
     "data": {
      "text/plain": [
       "Index(['Raw file', 'charge_state', 'mz', 'Mass', 'Resolution',\n",
       "       'number_data_points', 'Number of frames', 'isotope_count',\n",
       "       'isotope_correlation', 'Mass fractional part', 'Mass deficit', 'rt',\n",
       "       'rt_length', 'rt_length_fwhm', 'Min frame index', 'Max frame index',\n",
       "       'scan', 'scan_length', 'scan_length_fwhm', 'intensity', 'Intensities',\n",
       "       'number_pasef_ms2_ids', 'pasef_msms_ids', 'msms_scan_number'],\n",
       "      dtype='object')"
      ]
     },
     "execution_count": 28,
     "metadata": {},
     "output_type": "execute_result"
    }
   ],
   "source": [
    "allpeptides_df.columns"
   ]
  },
  {
   "cell_type": "code",
   "execution_count": 29,
   "metadata": {},
   "outputs": [],
   "source": [
    "def collate_spectra_for_feature(ms1_d, ms2_df):\n",
    "    # append the monoisotopic and the ms2 fragments to the list for MGF creation\n",
    "    pairs_df = ms2_df[['mz', 'intensity']].copy().sort_values(by=['intensity'], ascending=False)\n",
    "    spectrum = {}\n",
    "    spectrum[\"m/z array\"] = pairs_df.mz.values\n",
    "    spectrum[\"intensity array\"] = pairs_df.intensity.values\n",
    "    params = {}\n",
    "    params[\"TITLE\"] = \"RawFile: {} Index: {} Charge: {} FeatureIntensity: {} RtApex: {}\".format(ms1_d['raw_file'], ms1_d['mq_index'], ms1_d['charge'], ms1_d['intensity'], round(ms1_d['rt_apex'],2))\n",
    "    params[\"INSTRUMENT\"] = \"ESI-QUAD-TOF\"\n",
    "    params[\"PEPMASS\"] = \"{} {}\".format(round(ms1_d['monoisotopic_mz'],6), ms1_d['intensity'])\n",
    "    params[\"CHARGE\"] = \"{}+\".format(ms1_d['charge'])\n",
    "    params[\"RTINSECONDS\"] = \"{}\".format(round(ms1_d['rt_apex'],2))\n",
    "    params[\"SCANS\"] = \"{}\".format(int(ms1_d['rt_apex']))\n",
    "    spectrum[\"params\"] = params\n",
    "    return spectrum"
   ]
  },
  {
   "cell_type": "code",
   "execution_count": 30,
   "metadata": {},
   "outputs": [],
   "source": [
    "# build a list of indexes from the APL files\n",
    "ms2_peaks = []\n",
    "apl_indexes = []\n",
    "for file in glob.glob(\"{}/*.apl\".format(APL_DIR)):\n",
    "    with open(file, 'r') as f:\n",
    "        for line in f:\n",
    "            line = line.rstrip()\n",
    "            if len(line) > 0:\n",
    "                if line.startswith(\"header=\"):\n",
    "                    mq_index = int(line.split(' ')[3])\n",
    "                if line[0].isdigit():\n",
    "                    line_a = line.split('\\t')\n",
    "                    mz = float(line_a[0])\n",
    "                    intensity = round(float(line_a[1]))\n",
    "                    ms2_peaks.append((mz, intensity))\n",
    "                if line.startswith(\"peaklist end\"):\n",
    "                    apl_indexes.append((mq_index, ms2_peaks.copy()))\n",
    "                    del ms2_peaks[:]\n",
    "                    mq_index = 0\n",
    "apl_indexes_df = pd.DataFrame(apl_indexes, columns=['mq_index','ms2_peaks'])"
   ]
  },
  {
   "cell_type": "code",
   "execution_count": 31,
   "metadata": {},
   "outputs": [
    {
     "data": {
      "text/html": [
       "<div>\n",
       "<style scoped>\n",
       "    .dataframe tbody tr th:only-of-type {\n",
       "        vertical-align: middle;\n",
       "    }\n",
       "\n",
       "    .dataframe tbody tr th {\n",
       "        vertical-align: top;\n",
       "    }\n",
       "\n",
       "    .dataframe thead th {\n",
       "        text-align: right;\n",
       "    }\n",
       "</style>\n",
       "<table border=\"1\" class=\"dataframe\">\n",
       "  <thead>\n",
       "    <tr style=\"text-align: right;\">\n",
       "      <th></th>\n",
       "      <th>mq_index</th>\n",
       "      <th>ms2_peaks</th>\n",
       "    </tr>\n",
       "  </thead>\n",
       "  <tbody>\n",
       "    <tr>\n",
       "      <th>0</th>\n",
       "      <td>11789</td>\n",
       "      <td>[(211.14923, 42), (232.55944, 4), (233.13281, ...</td>\n",
       "    </tr>\n",
       "    <tr>\n",
       "      <th>1</th>\n",
       "      <td>11790</td>\n",
       "      <td>[(198.08868, 16), (199.18705, 10), (228.13997,...</td>\n",
       "    </tr>\n",
       "    <tr>\n",
       "      <th>2</th>\n",
       "      <td>11791</td>\n",
       "      <td>[(262.6408, 8), (328.90376, 4), (329.18094, 45...</td>\n",
       "    </tr>\n",
       "    <tr>\n",
       "      <th>3</th>\n",
       "      <td>11792</td>\n",
       "      <td>[(232.11246, 17), (233.08101, 8), (233.15044, ...</td>\n",
       "    </tr>\n",
       "    <tr>\n",
       "      <th>4</th>\n",
       "      <td>11793</td>\n",
       "      <td>[(225.10429, 13), (228.17787, 9), (229.1315, 4...</td>\n",
       "    </tr>\n",
       "  </tbody>\n",
       "</table>\n",
       "</div>"
      ],
      "text/plain": [
       "   mq_index                                          ms2_peaks\n",
       "0     11789  [(211.14923, 42), (232.55944, 4), (233.13281, ...\n",
       "1     11790  [(198.08868, 16), (199.18705, 10), (228.13997,...\n",
       "2     11791  [(262.6408, 8), (328.90376, 4), (329.18094, 45...\n",
       "3     11792  [(232.11246, 17), (233.08101, 8), (233.15044, ...\n",
       "4     11793  [(225.10429, 13), (228.17787, 9), (229.1315, 4..."
      ]
     },
     "execution_count": 31,
     "metadata": {},
     "output_type": "execute_result"
    }
   ],
   "source": [
    "apl_indexes_df.head()"
   ]
  },
  {
   "cell_type": "code",
   "execution_count": 32,
   "metadata": {},
   "outputs": [],
   "source": [
    "mgf_spectra = []\n",
    "for idx,row in allpeptides_df.iterrows():\n",
    "    mq_index = row.msms_scan_number\n",
    "    ms1_d = {'monoisotopic_mass':row.Mass, \n",
    "             'charge':row.charge_state, \n",
    "             'monoisotopic_mz':row.mz, \n",
    "             'intensity':int(row.intensity), \n",
    "             'scan_apex':row.scan, \n",
    "             'rt_apex':row.rt,\n",
    "             'raw_file':row['Raw file'],\n",
    "             'mq_index':mq_index}\n",
    "    df = apl_indexes_df[apl_indexes_df.mq_index == mq_index]\n",
    "    if len(df) == 1:\n",
    "        ms2_peaks_df = pd.DataFrame(df.ms2_peaks.values[0], columns=['mz','intensity'])\n",
    "        feature_spectra = collate_spectra_for_feature(ms1_d, ms2_peaks_df)\n",
    "        mgf_spectra.append(feature_spectra)\n",
    "    else:\n",
    "        print(\"no match for mq_index {}\".format(mq_index))"
   ]
  },
  {
   "cell_type": "code",
   "execution_count": 33,
   "metadata": {},
   "outputs": [
    {
     "data": {
      "text/plain": [
       "36448"
      ]
     },
     "execution_count": 33,
     "metadata": {},
     "output_type": "execute_result"
    }
   ],
   "source": [
    "len(mgf_spectra)"
   ]
  },
  {
   "cell_type": "code",
   "execution_count": 34,
   "metadata": {},
   "outputs": [
    {
     "data": {
      "text/plain": [
       "36448"
      ]
     },
     "execution_count": 34,
     "metadata": {},
     "output_type": "execute_result"
    }
   ],
   "source": [
    "allpeptides_df.msms_scan_number.nunique()"
   ]
  },
  {
   "cell_type": "code",
   "execution_count": 35,
   "metadata": {},
   "outputs": [
    {
     "name": "stdout",
     "output_type": "stream",
     "text": [
      "generating the MGF: /Users/darylwilding-mcbride/Downloads/190719_Hela_Ecoli_1to1_01_Slot1-1_1_1926-combined/190719_Hela_Ecoli_1to1_01_Slot1-1_1_1926-mq.mgf\n"
     ]
    }
   ],
   "source": [
    "# generate the MGF for all the features\n",
    "print(\"generating the MGF: {}\".format(MGF_FILE_NAME))\n",
    "if os.path.isfile(MGF_FILE_NAME):\n",
    "    os.remove(MGF_FILE_NAME)\n",
    "f = mgf.write(output=MGF_FILE_NAME, spectra=mgf_spectra)\n"
   ]
  }
 ],
 "metadata": {
  "kernelspec": {
   "display_name": "Python 3",
   "language": "python",
   "name": "python3"
  },
  "language_info": {
   "codemirror_mode": {
    "name": "ipython",
    "version": 3
   },
   "file_extension": ".py",
   "mimetype": "text/x-python",
   "name": "python",
   "nbconvert_exporter": "python",
   "pygments_lexer": "ipython3",
   "version": "3.6.8"
  }
 },
 "nbformat": 4,
 "nbformat_minor": 2
}
