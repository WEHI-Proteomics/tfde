{
 "cells": [
  {
   "cell_type": "code",
   "execution_count": 2,
   "metadata": {},
   "outputs": [],
   "source": [
    "import pandas as pd\n",
    "import numpy as np\n",
    "import sqlite3\n",
    "import json\n",
    "import matplotlib.pyplot as plt\n",
    "%matplotlib inline\n",
    "from os.path import expanduser"
   ]
  },
  {
   "cell_type": "code",
   "execution_count": 3,
   "metadata": {},
   "outputs": [],
   "source": [
    "run_name = 'P3856_YHE211_1_Slot1-1_1_5104'\n",
    "RT_LOWER = 1650\n",
    "RT_UPPER = 2200"
   ]
  },
  {
   "cell_type": "markdown",
   "metadata": {},
   "source": [
    "#### prepare the MaxQuant results"
   ]
  },
  {
   "cell_type": "code",
   "execution_count": 4,
   "metadata": {},
   "outputs": [],
   "source": [
    "mq_results_df = pd.read_csv('{}/evidence-P3856.txt'.format(expanduser('~')), sep='\\\\t', engine='python')"
   ]
  },
  {
   "cell_type": "code",
   "execution_count": 5,
   "metadata": {},
   "outputs": [],
   "source": [
    "# remove decoys, which are indicated by a '+' in the Reverse column\n",
    "mq_results_df = mq_results_df[pd.isna(mq_results_df.Reverse)]\n",
    "# remove identifications with no intensity\n",
    "mq_results_df = mq_results_df[(mq_results_df.Intensity > 0)]\n",
    "# remove potential contaminants\n",
    "mq_results_df = mq_results_df[pd.isna(mq_results_df['Potential contaminant'])]\n",
    "# only those identifications for this run\n",
    "mq_results_df = mq_results_df[mq_results_df['Raw file'] == run_name]\n",
    "# only MS/MS\n",
    "mq_results_df = mq_results_df[mq_results_df['Type'] == 'TIMS-MULTI-MSMS']\n",
    "# remove identifications with large mass error\n",
    "mq_results_df = mq_results_df[np.abs(mq_results_df['Mass error [ppm]']) <= 20.0]\n",
    "# only those in the RT region of interest\n",
    "mq_results_df = mq_results_df[(mq_results_df['Retention time']*60.0 > RT_LOWER) & (mq_results_df['Retention time']*60.0 < RT_UPPER)]"
   ]
  },
  {
   "cell_type": "code",
   "execution_count": 12,
   "metadata": {},
   "outputs": [
    {
     "data": {
      "text/plain": [
       "array(['TIMS-MULTI-MSMS'], dtype=object)"
      ]
     },
     "execution_count": 12,
     "metadata": {},
     "output_type": "execute_result"
    }
   ],
   "source": [
    "mq_results_df['Type'].unique()"
   ]
  },
  {
   "cell_type": "code",
   "execution_count": 6,
   "metadata": {},
   "outputs": [],
   "source": [
    "# definition of uniqueness in MaxQuant output with MBR on\n",
    "unique_peptide_key = ['Sequence','Modifications','Charge']"
   ]
  },
  {
   "cell_type": "code",
   "execution_count": 21,
   "metadata": {},
   "outputs": [],
   "source": [
    "mq_sequences_l = []\n",
    "for group_name,group_df in mq_results_df.groupby(unique_peptide_key, as_index=False):\n",
    "    mq_sequences_l.append({'unique_peptide_key':group_name, 'mass_error_ppm':group_df['Mass error [ppm]'].min()})\n",
    "unique_identifications_mq_df = pd.DataFrame(mq_sequences_l)"
   ]
  },
  {
   "cell_type": "code",
   "execution_count": 22,
   "metadata": {},
   "outputs": [
    {
     "data": {
      "text/plain": [
       "7293"
      ]
     },
     "execution_count": 22,
     "metadata": {},
     "output_type": "execute_result"
    }
   ],
   "source": [
    "len(unique_identifications_mq_df)"
   ]
  },
  {
   "cell_type": "code",
   "execution_count": 23,
   "metadata": {},
   "outputs": [
    {
     "data": {
      "image/png": "[encoded data removed]",
      "text/plain": [
       "<Figure size 1080x576 with 1 Axes>"
      ]
     },
     "metadata": {
      "needs_background": "light"
     },
     "output_type": "display_data"
    }
   ],
   "source": [
    "f, ax1 = plt.subplots()\n",
    "f.set_figheight(8)\n",
    "f.set_figwidth(15)\n",
    "\n",
    "plt.margins(0.06)\n",
    "plt.title('MaxQuant peptide sequence mass error distribution')\n",
    "\n",
    "bins = 300\n",
    "hist, bins, _ = plt.hist(mq_results_df['Mass error [ppm]'], bins=bins)\n",
    "plt.xlabel('sequence mass error ppm')\n",
    "plt.ylabel('count')\n",
    "\n",
    "plt.xlim((-20,20))\n",
    "plt.ylim((0,650))\n",
    "\n",
    "plt.axvline(x=+1, linestyle=':', linewidth=4, color='orange')\n",
    "plt.axvline(x=-1, linestyle=':', linewidth=4, color='orange')\n",
    "\n",
    "plt.show()"
   ]
  },
  {
   "cell_type": "code",
   "execution_count": 24,
   "metadata": {},
   "outputs": [
    {
     "data": {
      "text/html": [
       "<div>\n",
       "<style scoped>\n",
       "    .dataframe tbody tr th:only-of-type {\n",
       "        vertical-align: middle;\n",
       "    }\n",
       "\n",
       "    .dataframe tbody tr th {\n",
       "        vertical-align: top;\n",
       "    }\n",
       "\n",
       "    .dataframe thead th {\n",
       "        text-align: right;\n",
       "    }\n",
       "</style>\n",
       "<table border=\"1\" class=\"dataframe\">\n",
       "  <thead>\n",
       "    <tr style=\"text-align: right;\">\n",
       "      <th></th>\n",
       "      <th>unique_peptide_key</th>\n",
       "      <th>mass_error_ppm</th>\n",
       "    </tr>\n",
       "  </thead>\n",
       "  <tbody>\n",
       "    <tr>\n",
       "      <th>7230</th>\n",
       "      <td>(YSESLLCSNLESATYSNR, Unmodified, 2)</td>\n",
       "      <td>2.06000</td>\n",
       "    </tr>\n",
       "    <tr>\n",
       "      <th>619</th>\n",
       "      <td>(AYHNSPAYLAYINAK, Unmodified, 2)</td>\n",
       "      <td>1.74260</td>\n",
       "    </tr>\n",
       "    <tr>\n",
       "      <th>3924</th>\n",
       "      <td>(LPSGVFSLEFQDFVNK, Unmodified, 2)</td>\n",
       "      <td>1.86110</td>\n",
       "    </tr>\n",
       "    <tr>\n",
       "      <th>5920</th>\n",
       "      <td>(TFCGTPDYIAPEIIAYQPYGK, Unmodified, 2)</td>\n",
       "      <td>-1.11180</td>\n",
       "    </tr>\n",
       "    <tr>\n",
       "      <th>5298</th>\n",
       "      <td>(RPEAAQLLEDVQAALKPFSVK, Unmodified, 3)</td>\n",
       "      <td>2.03620</td>\n",
       "    </tr>\n",
       "    <tr>\n",
       "      <th>3133</th>\n",
       "      <td>(ISFCLDIHNMSVK, Unmodified, 2)</td>\n",
       "      <td>-2.13390</td>\n",
       "    </tr>\n",
       "    <tr>\n",
       "      <th>532</th>\n",
       "      <td>(ATCIGNNSAAAVSMLK, Unmodified, 2)</td>\n",
       "      <td>-1.66570</td>\n",
       "    </tr>\n",
       "    <tr>\n",
       "      <th>6837</th>\n",
       "      <td>(VVIGMDVAASEFFR, Unmodified, 2)</td>\n",
       "      <td>-0.73692</td>\n",
       "    </tr>\n",
       "    <tr>\n",
       "      <th>6173</th>\n",
       "      <td>(TPYTDVNIVTIR, Unmodified, 2)</td>\n",
       "      <td>-1.59640</td>\n",
       "    </tr>\n",
       "    <tr>\n",
       "      <th>1967</th>\n",
       "      <td>(FVINYDYPNSSEDYIHR, Unmodified, 2)</td>\n",
       "      <td>1.65170</td>\n",
       "    </tr>\n",
       "    <tr>\n",
       "      <th>3445</th>\n",
       "      <td>(LEDLVCDVVDR, Unmodified, 2)</td>\n",
       "      <td>0.76925</td>\n",
       "    </tr>\n",
       "    <tr>\n",
       "      <th>6209</th>\n",
       "      <td>(TSGNVEDDLIIFPDDCEFK, Unmodified, 2)</td>\n",
       "      <td>0.36606</td>\n",
       "    </tr>\n",
       "    <tr>\n",
       "      <th>6114</th>\n",
       "      <td>(TNMLLQLDGSTPICEDIGR, Unmodified, 2)</td>\n",
       "      <td>-0.20019</td>\n",
       "    </tr>\n",
       "    <tr>\n",
       "      <th>5893</th>\n",
       "      <td>(TDPHLNTPQVSTSPTFER, Acetyl (Protein N-term), 2)</td>\n",
       "      <td>1.43270</td>\n",
       "    </tr>\n",
       "    <tr>\n",
       "      <th>3244</th>\n",
       "      <td>(IWVETLPVGEAGVHEAFER, Unmodified, 2)</td>\n",
       "      <td>-1.19020</td>\n",
       "    </tr>\n",
       "    <tr>\n",
       "      <th>2232</th>\n",
       "      <td>(GLLQDEGHEVVVSK, Unmodified, 2)</td>\n",
       "      <td>0.93720</td>\n",
       "    </tr>\n",
       "    <tr>\n",
       "      <th>5686</th>\n",
       "      <td>(SSEEINSDNQNIILR, Unmodified, 2)</td>\n",
       "      <td>0.62568</td>\n",
       "    </tr>\n",
       "    <tr>\n",
       "      <th>1018</th>\n",
       "      <td>(DPEAGDVEADPGLADLPQQLLFVHQGETELK, Unmodified, 3)</td>\n",
       "      <td>-0.01822</td>\n",
       "    </tr>\n",
       "    <tr>\n",
       "      <th>6842</th>\n",
       "      <td>(VVITAPSSTAPMFVMGVNEEK, Unmodified, 3)</td>\n",
       "      <td>-2.23780</td>\n",
       "    </tr>\n",
       "    <tr>\n",
       "      <th>5165</th>\n",
       "      <td>(QSGEAFVELGSEDDVK, Unmodified, 2)</td>\n",
       "      <td>-0.75303</td>\n",
       "    </tr>\n",
       "  </tbody>\n",
       "</table>\n",
       "</div>"
      ],
      "text/plain": [
       "                                    unique_peptide_key  mass_error_ppm\n",
       "7230               (YSESLLCSNLESATYSNR, Unmodified, 2)         2.06000\n",
       "619                   (AYHNSPAYLAYINAK, Unmodified, 2)         1.74260\n",
       "3924                 (LPSGVFSLEFQDFVNK, Unmodified, 2)         1.86110\n",
       "5920            (TFCGTPDYIAPEIIAYQPYGK, Unmodified, 2)        -1.11180\n",
       "5298            (RPEAAQLLEDVQAALKPFSVK, Unmodified, 3)         2.03620\n",
       "3133                    (ISFCLDIHNMSVK, Unmodified, 2)        -2.13390\n",
       "532                  (ATCIGNNSAAAVSMLK, Unmodified, 2)        -1.66570\n",
       "6837                   (VVIGMDVAASEFFR, Unmodified, 2)        -0.73692\n",
       "6173                     (TPYTDVNIVTIR, Unmodified, 2)        -1.59640\n",
       "1967                (FVINYDYPNSSEDYIHR, Unmodified, 2)         1.65170\n",
       "3445                      (LEDLVCDVVDR, Unmodified, 2)         0.76925\n",
       "6209              (TSGNVEDDLIIFPDDCEFK, Unmodified, 2)         0.36606\n",
       "6114              (TNMLLQLDGSTPICEDIGR, Unmodified, 2)        -0.20019\n",
       "5893  (TDPHLNTPQVSTSPTFER, Acetyl (Protein N-term), 2)         1.43270\n",
       "3244              (IWVETLPVGEAGVHEAFER, Unmodified, 2)        -1.19020\n",
       "2232                   (GLLQDEGHEVVVSK, Unmodified, 2)         0.93720\n",
       "5686                  (SSEEINSDNQNIILR, Unmodified, 2)         0.62568\n",
       "1018  (DPEAGDVEADPGLADLPQQLLFVHQGETELK, Unmodified, 3)        -0.01822\n",
       "6842            (VVITAPSSTAPMFVMGVNEEK, Unmodified, 3)        -2.23780\n",
       "5165                 (QSGEAFVELGSEDDVK, Unmodified, 2)        -0.75303"
      ]
     },
     "execution_count": 24,
     "metadata": {},
     "output_type": "execute_result"
    }
   ],
   "source": [
    "unique_identifications_mq_df.sample(n=20)"
   ]
  },
  {
   "cell_type": "code",
   "execution_count": 26,
   "metadata": {},
   "outputs": [
    {
     "data": {
      "image/png": "[encoded data removed]",
      "text/plain": [
       "<Figure size 1080x576 with 1 Axes>"
      ]
     },
     "metadata": {
      "needs_background": "light"
     },
     "output_type": "display_data"
    }
   ],
   "source": [
    "f, ax1 = plt.subplots()\n",
    "f.set_figheight(8)\n",
    "f.set_figwidth(15)\n",
    "\n",
    "plt.margins(0.06)\n",
    "plt.title('MaxQuant peptide sequence mass error distribution (N={})'.format(len(unique_identifications_mq_df)))\n",
    "\n",
    "bins = 300\n",
    "hist, bins, _ = plt.hist(unique_identifications_mq_df.mass_error_ppm, bins=bins)\n",
    "plt.xlabel('sequence mass error ppm')\n",
    "plt.ylabel('count')\n",
    "\n",
    "plt.xlim((-20,20))\n",
    "plt.ylim((0,500))\n",
    "\n",
    "plt.axvline(x=+1, linestyle=':', linewidth=4, color='orange')\n",
    "plt.axvline(x=-1, linestyle=':', linewidth=4, color='orange')\n",
    "\n",
    "plt.show()"
   ]
  },
  {
   "cell_type": "markdown",
   "metadata": {},
   "source": [
    "#### prepare the MSFragger results"
   ]
  },
  {
   "cell_type": "code",
   "execution_count": 22,
   "metadata": {},
   "outputs": [],
   "source": [
    "# use the Fragger analysis without MBR because there doesn't seem to be a way of distinguishing between identification and matching\n",
    "fragger_results_df = pd.read_csv('{}/MSstats-without-MBR.csv'.format(EXPERIMENT_DIR), sep=',')\n"
   ]
  },
  {
   "cell_type": "code",
   "execution_count": 23,
   "metadata": {},
   "outputs": [],
   "source": [
    "fragger_results_df = fragger_results_df[fragger_results_df.Intensity.notnull()]"
   ]
  },
  {
   "cell_type": "code",
   "execution_count": 24,
   "metadata": {},
   "outputs": [
    {
     "data": {
      "text/html": [
       "<div>\n",
       "<style scoped>\n",
       "    .dataframe tbody tr th:only-of-type {\n",
       "        vertical-align: middle;\n",
       "    }\n",
       "\n",
       "    .dataframe tbody tr th {\n",
       "        vertical-align: top;\n",
       "    }\n",
       "\n",
       "    .dataframe thead th {\n",
       "        text-align: right;\n",
       "    }\n",
       "</style>\n",
       "<table border=\"1\" class=\"dataframe\">\n",
       "  <thead>\n",
       "    <tr style=\"text-align: right;\">\n",
       "      <th></th>\n",
       "      <th>ProteinName</th>\n",
       "      <th>PeptideSequence</th>\n",
       "      <th>PrecursorCharge</th>\n",
       "      <th>FragmentIon</th>\n",
       "      <th>ProductCharge</th>\n",
       "      <th>IsotopeLabelType</th>\n",
       "      <th>Condition</th>\n",
       "      <th>BioReplicate</th>\n",
       "      <th>Run</th>\n",
       "      <th>Intensity</th>\n",
       "    </tr>\n",
       "  </thead>\n",
       "  <tbody>\n",
       "    <tr>\n",
       "      <th>212564</th>\n",
       "      <td>sp|P26368|U2AF2_HUMAN</td>\n",
       "      <td>LFIGGLPNYLNDDQVK</td>\n",
       "      <td>2</td>\n",
       "      <td>NaN</td>\n",
       "      <td>NaN</td>\n",
       "      <td>L</td>\n",
       "      <td>YHE114</td>\n",
       "      <td>4</td>\n",
       "      <td>P3856_YHE114_4_Slot1-1_1_5118</td>\n",
       "      <td>83068.330</td>\n",
       "    </tr>\n",
       "    <tr>\n",
       "      <th>500722</th>\n",
       "      <td>sp|Q6P2Q9|PRP8_HUMAN</td>\n",
       "      <td>GPGNPVPGPLAPLPDYMSEEK</td>\n",
       "      <td>2</td>\n",
       "      <td>NaN</td>\n",
       "      <td>NaN</td>\n",
       "      <td>L</td>\n",
       "      <td>YHE211</td>\n",
       "      <td>2</td>\n",
       "      <td>P3856_YHE211_2_Slot1-1_1_5105</td>\n",
       "      <td>195592.890</td>\n",
       "    </tr>\n",
       "    <tr>\n",
       "      <th>188000</th>\n",
       "      <td>sp|P21281|VATB2_HUMAN</td>\n",
       "      <td>GPVVLAEDFLDIMGQPINPQC[57.0215]R</td>\n",
       "      <td>3</td>\n",
       "      <td>NaN</td>\n",
       "      <td>NaN</td>\n",
       "      <td>L</td>\n",
       "      <td>YHE211</td>\n",
       "      <td>10</td>\n",
       "      <td>P3856_YHE211_10_Slot1-1_1_5113</td>\n",
       "      <td>28382.742</td>\n",
       "    </tr>\n",
       "    <tr>\n",
       "      <th>642703</th>\n",
       "      <td>sp|Q9P258|RCC2_HUMAN</td>\n",
       "      <td>NHTLALTETGSVFAFGENK</td>\n",
       "      <td>2</td>\n",
       "      <td>NaN</td>\n",
       "      <td>NaN</td>\n",
       "      <td>L</td>\n",
       "      <td>YHE114</td>\n",
       "      <td>3</td>\n",
       "      <td>P3856_YHE114_3_Slot1-1_1_5117</td>\n",
       "      <td>68730.630</td>\n",
       "    </tr>\n",
       "    <tr>\n",
       "      <th>373177</th>\n",
       "      <td>sp|P63010|AP2B1_HUMAN</td>\n",
       "      <td>LAPPLVTLLSGEPEVQYVALR</td>\n",
       "      <td>3</td>\n",
       "      <td>NaN</td>\n",
       "      <td>NaN</td>\n",
       "      <td>L</td>\n",
       "      <td>YHE010</td>\n",
       "      <td>7</td>\n",
       "      <td>P3856_YHE010_7_Slot1-1_1_5099</td>\n",
       "      <td>31515.666</td>\n",
       "    </tr>\n",
       "  </tbody>\n",
       "</table>\n",
       "</div>"
      ],
      "text/plain": [
       "                  ProteinName                  PeptideSequence  \\\n",
       "212564  sp|P26368|U2AF2_HUMAN                 LFIGGLPNYLNDDQVK   \n",
       "500722   sp|Q6P2Q9|PRP8_HUMAN            GPGNPVPGPLAPLPDYMSEEK   \n",
       "188000  sp|P21281|VATB2_HUMAN  GPVVLAEDFLDIMGQPINPQC[57.0215]R   \n",
       "642703   sp|Q9P258|RCC2_HUMAN              NHTLALTETGSVFAFGENK   \n",
       "373177  sp|P63010|AP2B1_HUMAN            LAPPLVTLLSGEPEVQYVALR   \n",
       "\n",
       "        PrecursorCharge  FragmentIon  ProductCharge IsotopeLabelType  \\\n",
       "212564                2          NaN            NaN                L   \n",
       "500722                2          NaN            NaN                L   \n",
       "188000                3          NaN            NaN                L   \n",
       "642703                2          NaN            NaN                L   \n",
       "373177                3          NaN            NaN                L   \n",
       "\n",
       "       Condition  BioReplicate                             Run   Intensity  \n",
       "212564    YHE114             4   P3856_YHE114_4_Slot1-1_1_5118   83068.330  \n",
       "500722    YHE211             2   P3856_YHE211_2_Slot1-1_1_5105  195592.890  \n",
       "188000    YHE211            10  P3856_YHE211_10_Slot1-1_1_5113   28382.742  \n",
       "642703    YHE114             3   P3856_YHE114_3_Slot1-1_1_5117   68730.630  \n",
       "373177    YHE010             7   P3856_YHE010_7_Slot1-1_1_5099   31515.666  "
      ]
     },
     "execution_count": 24,
     "metadata": {},
     "output_type": "execute_result"
    }
   ],
   "source": [
    "fragger_results_df.sample(n=5)"
   ]
  },
  {
   "cell_type": "code",
   "execution_count": 25,
   "metadata": {},
   "outputs": [],
   "source": [
    "# count the number of unique peptide identifications in each run\n",
    "fragger_counts_d = {}\n",
    "for group_name,group_df in fragger_results_df.groupby(['PeptideSequence', 'PrecursorCharge'], as_index=False):\n",
    "    for run_name in group_df['Run'].unique():\n",
    "        if run_name not in fragger_counts_d:\n",
    "            fragger_counts_d[run_name] = 0\n",
    "        fragger_counts_d[run_name] += 1"
   ]
  },
  {
   "cell_type": "code",
   "execution_count": 26,
   "metadata": {},
   "outputs": [],
   "source": [
    "# sort the run names by group then run number within the group\n",
    "sorted_counts_l = []\n",
    "for k in sorted(list(fragger_counts_d.keys()), key=lambda x: ( x.split('_')[1], int(x.split('_')[2]) )):\n",
    "    short_run_name = '_'.join(k.split('_Slot')[0].split('_')[1:])\n",
    "    sorted_counts_l.append((short_run_name, fragger_counts_d[k]))\n",
    "fragger_sorted_counts_df = pd.DataFrame(sorted_counts_l, columns=['run_name','count'])"
   ]
  },
  {
   "cell_type": "code",
   "execution_count": null,
   "metadata": {},
   "outputs": [],
   "source": []
  }
 ],
 "metadata": {
  "kernelspec": {
   "display_name": "Python 3",
   "language": "python",
   "name": "python3"
  },
  "language_info": {
   "codemirror_mode": {
    "name": "ipython",
    "version": 3
   },
   "file_extension": ".py",
   "mimetype": "text/x-python",
   "name": "python",
   "nbconvert_exporter": "python",
   "pygments_lexer": "ipython3",
   "version": "3.8.5"
  }
 },
 "nbformat": 4,
 "nbformat_minor": 4
}
