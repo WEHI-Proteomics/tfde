{
 "cells": [
  {
   "cell_type": "code",
   "execution_count": 4,
   "metadata": {},
   "outputs": [],
   "source": [
    "import pandas as pd\n",
    "import numpy as np\n",
    "import sys\n",
    "import pickle\n",
    "import glob\n",
    "import os\n",
    "import matplotlib.pyplot as plt\n",
    "import sqlite3"
   ]
  },
  {
   "cell_type": "code",
   "execution_count": 5,
   "metadata": {},
   "outputs": [],
   "source": [
    "EXPERIMENT_DIR = '/data2/experiments/P3856'\n",
    "# EXPERIMENT_DIR = '/Users/darylwilding-mcbride/Downloads/experiments/dwm-test'\n",
    "MINIMUM_NUMBER_OF_RUNS = 5"
   ]
  },
  {
   "cell_type": "code",
   "execution_count": 7,
   "metadata": {},
   "outputs": [],
   "source": [
    "EXTRACTED_FEATURES_DIR = \"{}/extracted-features\".format(EXPERIMENT_DIR)\n",
    "EXTRACTED_FEATURES_DB_NAME = \"{}/extracted-features.sqlite\".format(EXTRACTED_FEATURES_DIR)"
   ]
  },
  {
   "cell_type": "markdown",
   "metadata": {},
   "source": [
    "#### look at sequences that appear in more half the runs in the experiment"
   ]
  },
  {
   "cell_type": "code",
   "execution_count": 34,
   "metadata": {},
   "outputs": [],
   "source": [
    "subset_group = 'YHE114'"
   ]
  },
  {
   "cell_type": "code",
   "execution_count": 58,
   "metadata": {},
   "outputs": [],
   "source": [
    "db_conn = sqlite3.connect(EXTRACTED_FEATURES_DB_NAME)\n",
    "sequences_df = pd.read_sql_query('select sequence,charge,file_idx,peak_idx,human,run_name,intensity,isotope_idx_not_in_saturation,inferred,run_group,short_run_name from features where run_group==\\'{}\\' order by intensity desc'.format(subset_group), db_conn)\n",
    "sequences_df.human = sequences_df.human.astype(bool)\n",
    "sequences_df.inferred = sequences_df.inferred.astype(bool)\n",
    "db_conn.close()\n"
   ]
  },
  {
   "cell_type": "code",
   "execution_count": 59,
   "metadata": {},
   "outputs": [],
   "source": [
    "sequences_df['log_intensity'] = np.log2(sequences_df.intensity)"
   ]
  },
  {
   "cell_type": "code",
   "execution_count": 88,
   "metadata": {},
   "outputs": [
    {
     "data": {
      "text/html": [
       "<div>\n",
       "<style scoped>\n",
       "    .dataframe tbody tr th:only-of-type {\n",
       "        vertical-align: middle;\n",
       "    }\n",
       "\n",
       "    .dataframe tbody tr th {\n",
       "        vertical-align: top;\n",
       "    }\n",
       "\n",
       "    .dataframe thead th {\n",
       "        text-align: right;\n",
       "    }\n",
       "</style>\n",
       "<table border=\"1\" class=\"dataframe\">\n",
       "  <thead>\n",
       "    <tr style=\"text-align: right;\">\n",
       "      <th></th>\n",
       "      <th>sequence</th>\n",
       "      <th>charge</th>\n",
       "      <th>file_idx</th>\n",
       "      <th>peak_idx</th>\n",
       "      <th>human</th>\n",
       "      <th>run_name</th>\n",
       "      <th>intensity</th>\n",
       "      <th>isotope_idx_not_in_saturation</th>\n",
       "      <th>inferred</th>\n",
       "      <th>run_group</th>\n",
       "      <th>short_run_name</th>\n",
       "      <th>log_intensity</th>\n",
       "    </tr>\n",
       "  </thead>\n",
       "  <tbody>\n",
       "    <tr>\n",
       "      <th>7</th>\n",
       "      <td>MSVQPTVSLGGFEITPPVVLR</td>\n",
       "      <td>2</td>\n",
       "      <td>14</td>\n",
       "      <td>0</td>\n",
       "      <td>True</td>\n",
       "      <td>P3856_YHE114_1_Slot1-1_1_5115</td>\n",
       "      <td>41677</td>\n",
       "      <td>4</td>\n",
       "      <td>True</td>\n",
       "      <td>YHE114</td>\n",
       "      <td>YHE114_1</td>\n",
       "      <td>15.346964</td>\n",
       "    </tr>\n",
       "    <tr>\n",
       "      <th>141</th>\n",
       "      <td>TIGGGDDSFNTFFSETGAGK</td>\n",
       "      <td>2</td>\n",
       "      <td>14</td>\n",
       "      <td>0</td>\n",
       "      <td>True</td>\n",
       "      <td>P3856_YHE114_1_Slot1-1_1_5115</td>\n",
       "      <td>26745</td>\n",
       "      <td>3</td>\n",
       "      <td>True</td>\n",
       "      <td>YHE114</td>\n",
       "      <td>YHE114_1</td>\n",
       "      <td>14.706982</td>\n",
       "    </tr>\n",
       "    <tr>\n",
       "      <th>216</th>\n",
       "      <td>LAMQEFMILPVGAANFR</td>\n",
       "      <td>2</td>\n",
       "      <td>4</td>\n",
       "      <td>0</td>\n",
       "      <td>True</td>\n",
       "      <td>P3856_YHE114_2_Slot1-1_1_5116</td>\n",
       "      <td>23971</td>\n",
       "      <td>3</td>\n",
       "      <td>True</td>\n",
       "      <td>YHE114</td>\n",
       "      <td>YHE114_2</td>\n",
       "      <td>14.549002</td>\n",
       "    </tr>\n",
       "    <tr>\n",
       "      <th>264</th>\n",
       "      <td>YGIICMEDLIHEIYTVGK</td>\n",
       "      <td>3</td>\n",
       "      <td>15</td>\n",
       "      <td>0</td>\n",
       "      <td>True</td>\n",
       "      <td>P3856_YHE114_3_Slot1-1_1_5117</td>\n",
       "      <td>22674</td>\n",
       "      <td>3</td>\n",
       "      <td>True</td>\n",
       "      <td>YHE114</td>\n",
       "      <td>YHE114_3</td>\n",
       "      <td>14.468751</td>\n",
       "    </tr>\n",
       "    <tr>\n",
       "      <th>298</th>\n",
       "      <td>GLGTDEDTLIEILASR</td>\n",
       "      <td>2</td>\n",
       "      <td>12</td>\n",
       "      <td>0</td>\n",
       "      <td>True</td>\n",
       "      <td>P3856_YHE114_7_Slot1-1_1_5121</td>\n",
       "      <td>21862</td>\n",
       "      <td>3</td>\n",
       "      <td>True</td>\n",
       "      <td>YHE114</td>\n",
       "      <td>YHE114_7</td>\n",
       "      <td>14.416138</td>\n",
       "    </tr>\n",
       "    <tr>\n",
       "      <th>425</th>\n",
       "      <td>VPFCPMVGSEVYSTEIK</td>\n",
       "      <td>2</td>\n",
       "      <td>11</td>\n",
       "      <td>0</td>\n",
       "      <td>True</td>\n",
       "      <td>P3856_YHE114_8_Slot1-1_1_5122</td>\n",
       "      <td>18929</td>\n",
       "      <td>3</td>\n",
       "      <td>True</td>\n",
       "      <td>YHE114</td>\n",
       "      <td>YHE114_8</td>\n",
       "      <td>14.208311</td>\n",
       "    </tr>\n",
       "    <tr>\n",
       "      <th>505</th>\n",
       "      <td>VWLDPNETNEIANANSR</td>\n",
       "      <td>2</td>\n",
       "      <td>6</td>\n",
       "      <td>0</td>\n",
       "      <td>True</td>\n",
       "      <td>P3856_YHE114_5_Slot1-1_1_5119</td>\n",
       "      <td>17255</td>\n",
       "      <td>3</td>\n",
       "      <td>True</td>\n",
       "      <td>YHE114</td>\n",
       "      <td>YHE114_5</td>\n",
       "      <td>14.074727</td>\n",
       "    </tr>\n",
       "    <tr>\n",
       "      <th>547</th>\n",
       "      <td>GIIWGEDTLMEYLENPK</td>\n",
       "      <td>2</td>\n",
       "      <td>3</td>\n",
       "      <td>0</td>\n",
       "      <td>True</td>\n",
       "      <td>P3856_YHE114_9_Slot1-1_1_5123</td>\n",
       "      <td>16314</td>\n",
       "      <td>3</td>\n",
       "      <td>True</td>\n",
       "      <td>YHE114</td>\n",
       "      <td>YHE114_9</td>\n",
       "      <td>13.993823</td>\n",
       "    </tr>\n",
       "    <tr>\n",
       "      <th>654</th>\n",
       "      <td>AGAIAPCEVTVPAQNTGLGPEK</td>\n",
       "      <td>2</td>\n",
       "      <td>14</td>\n",
       "      <td>0</td>\n",
       "      <td>True</td>\n",
       "      <td>P3856_YHE114_1_Slot1-1_1_5115</td>\n",
       "      <td>13605</td>\n",
       "      <td>3</td>\n",
       "      <td>True</td>\n",
       "      <td>YHE114</td>\n",
       "      <td>YHE114_1</td>\n",
       "      <td>13.731849</td>\n",
       "    </tr>\n",
       "    <tr>\n",
       "      <th>774</th>\n",
       "      <td>DQQEAALVDMVNDGVEDLR</td>\n",
       "      <td>2</td>\n",
       "      <td>14</td>\n",
       "      <td>0</td>\n",
       "      <td>True</td>\n",
       "      <td>P3856_YHE114_1_Slot1-1_1_5115</td>\n",
       "      <td>9193</td>\n",
       "      <td>2</td>\n",
       "      <td>True</td>\n",
       "      <td>YHE114</td>\n",
       "      <td>YHE114_1</td>\n",
       "      <td>13.166320</td>\n",
       "    </tr>\n",
       "  </tbody>\n",
       "</table>\n",
       "</div>"
      ],
      "text/plain": [
       "                   sequence  charge  file_idx  peak_idx  human  \\\n",
       "7     MSVQPTVSLGGFEITPPVVLR       2        14         0   True   \n",
       "141    TIGGGDDSFNTFFSETGAGK       2        14         0   True   \n",
       "216       LAMQEFMILPVGAANFR       2         4         0   True   \n",
       "264      YGIICMEDLIHEIYTVGK       3        15         0   True   \n",
       "298        GLGTDEDTLIEILASR       2        12         0   True   \n",
       "425       VPFCPMVGSEVYSTEIK       2        11         0   True   \n",
       "505       VWLDPNETNEIANANSR       2         6         0   True   \n",
       "547       GIIWGEDTLMEYLENPK       2         3         0   True   \n",
       "654  AGAIAPCEVTVPAQNTGLGPEK       2        14         0   True   \n",
       "774     DQQEAALVDMVNDGVEDLR       2        14         0   True   \n",
       "\n",
       "                          run_name  intensity  isotope_idx_not_in_saturation  \\\n",
       "7    P3856_YHE114_1_Slot1-1_1_5115      41677                              4   \n",
       "141  P3856_YHE114_1_Slot1-1_1_5115      26745                              3   \n",
       "216  P3856_YHE114_2_Slot1-1_1_5116      23971                              3   \n",
       "264  P3856_YHE114_3_Slot1-1_1_5117      22674                              3   \n",
       "298  P3856_YHE114_7_Slot1-1_1_5121      21862                              3   \n",
       "425  P3856_YHE114_8_Slot1-1_1_5122      18929                              3   \n",
       "505  P3856_YHE114_5_Slot1-1_1_5119      17255                              3   \n",
       "547  P3856_YHE114_9_Slot1-1_1_5123      16314                              3   \n",
       "654  P3856_YHE114_1_Slot1-1_1_5115      13605                              3   \n",
       "774  P3856_YHE114_1_Slot1-1_1_5115       9193                              2   \n",
       "\n",
       "     inferred run_group short_run_name  log_intensity  \n",
       "7        True    YHE114       YHE114_1      15.346964  \n",
       "141      True    YHE114       YHE114_1      14.706982  \n",
       "216      True    YHE114       YHE114_2      14.549002  \n",
       "264      True    YHE114       YHE114_3      14.468751  \n",
       "298      True    YHE114       YHE114_7      14.416138  \n",
       "425      True    YHE114       YHE114_8      14.208311  \n",
       "505      True    YHE114       YHE114_5      14.074727  \n",
       "547      True    YHE114       YHE114_9      13.993823  \n",
       "654      True    YHE114       YHE114_1      13.731849  \n",
       "774      True    YHE114       YHE114_1      13.166320  "
      ]
     },
     "execution_count": 88,
     "metadata": {},
     "output_type": "execute_result"
    }
   ],
   "source": [
    "sequences_df.sample(10).sort_values(by=['intensity','sequence','charge'], ascending=False, inplace=False)\n"
   ]
  },
  {
   "cell_type": "markdown",
   "metadata": {},
   "source": [
    "#### analyse a selected sequence across the experiment for runs in which it was classified as a target"
   ]
  },
  {
   "cell_type": "code",
   "execution_count": 93,
   "metadata": {},
   "outputs": [],
   "source": [
    "selected_sequence = 'MSVQPTVSLGGFEITPPVVLR'\n",
    "selected_sequence_charge = 2"
   ]
  },
  {
   "cell_type": "code",
   "execution_count": 94,
   "metadata": {},
   "outputs": [],
   "source": [
    "selected_sequence_df = sequences_df[(sequences_df.sequence == selected_sequence) & (sequences_df.charge == selected_sequence_charge)].copy()\n",
    "selected_sequence_df.sort_values(by=['short_run_name'], inplace=True)"
   ]
  },
  {
   "cell_type": "markdown",
   "metadata": {},
   "source": [
    "#### compare the intensities across the experiment for the selected sequence"
   ]
  },
  {
   "cell_type": "code",
   "execution_count": 95,
   "metadata": {},
   "outputs": [],
   "source": [
    "MAX_SUMMED_APEX_POINTS = 3 * 3000"
   ]
  },
  {
   "cell_type": "code",
   "execution_count": 96,
   "metadata": {
    "scrolled": false
   },
   "outputs": [
    {
     "data": {
      "image/png": "[encoded data removed]",
      "text/plain": [
       "<Figure size 1080x576 with 1 Axes>"
      ]
     },
     "metadata": {
      "needs_background": "light"
     },
     "output_type": "display_data"
    }
   ],
   "source": [
    "f, ax1 = plt.subplots()\n",
    "f.set_figheight(8)\n",
    "f.set_figwidth(15)\n",
    "\n",
    "plt.margins(0.06)\n",
    "\n",
    "mean_group = round(np.mean(np.log2(selected_sequence_df.intensity)), 2)\n",
    "\n",
    "plt.title('intensities from 1to1 runs for sequence {}, charge {}\\ngroup mean {}'.format(selected_sequence, selected_sequence_charge, mean_group))\n",
    "\n",
    "ax1.scatter(selected_sequence_df.short_run_name, selected_sequence_df.log_intensity, marker='o', color='tab:orange', lw=0, s=30, alpha=1.0, label=subset_group)\n",
    "\n",
    "# highlight whether a point was adjusted for saturation\n",
    "adj_sat = selected_sequence_df[(selected_sequence_df.isotope_idx_not_in_saturation > 0)]\n",
    "if len(adj_sat) > 0:\n",
    "    ax1.plot(adj_sat.short_run_name, adj_sat.log_intensity, marker='o', markerfacecolor='none', markeredgecolor='springgreen', linestyle='', markeredgewidth=2, ms=15, label='inferred intensity')\n",
    "\n",
    "# show which isotope was used as a reference\n",
    "text_style = dict(size=10, color='blue')\n",
    "for idx,row in adj_sat.iterrows():\n",
    "    ax1.text(row.short_run_name, row.log_intensity+2.1, \"ref iso {}\".format(int(row.isotope_idx_not_in_saturation)), **text_style, rotation=90)\n",
    "\n",
    "plt.axhline(y=np.log2(MAX_SUMMED_APEX_POINTS), color='red', linestyle='-.', linewidth=0.6, label='maximum unsaturated mono intensity')\n",
    "\n",
    "plt.xlabel('run name')\n",
    "plt.ylabel('log2 intensity')\n",
    "plt.legend(loc='best')\n",
    "\n",
    "# plt.xlim((0,50))\n",
    "plt.ylim((0,20))\n",
    "plt.xticks(rotation=90)\n",
    "\n",
    "plt.show()"
   ]
  },
  {
   "cell_type": "markdown",
   "metadata": {},
   "source": [
    "#### look at the distribution of intensity CV across the group runs"
   ]
  },
  {
   "cell_type": "code",
   "execution_count": 78,
   "metadata": {},
   "outputs": [],
   "source": [
    "# find the intensity CV of each sequence in the runs\n",
    "sequence_intensity_cv_l = []\n",
    "for group_name,group_df in sequences_df.groupby(['sequence','charge'], as_index=False):\n",
    "    if len(group_df) >= 2:\n",
    "        sequence = group_name[0]\n",
    "        charge = group_name[1]\n",
    "        sequence_intensity_cv = np.std(group_df.intensity) / np.mean(group_df.intensity)\n",
    "        sequence_intensity_cv_l.append((sequence,charge,sequence_intensity_cv))\n",
    "sequence_intensity_cv_df = pd.DataFrame(sequence_intensity_cv_l, columns=['sequence','charge','intensity_cv'])\n"
   ]
  },
  {
   "cell_type": "code",
   "execution_count": 79,
   "metadata": {},
   "outputs": [
    {
     "data": {
      "image/png": "[encoded data removed]",
      "text/plain": [
       "<Figure size 1080x576 with 1 Axes>"
      ]
     },
     "metadata": {
      "needs_background": "light"
     },
     "output_type": "display_data"
    }
   ],
   "source": [
    "f, ax1 = plt.subplots()\n",
    "f.set_figheight(8)\n",
    "f.set_figwidth(15)\n",
    "\n",
    "plt.margins(0.06)\n",
    "plt.title('')\n",
    "\n",
    "bins = 30\n",
    "values = sequence_intensity_cv_df.intensity_cv\n",
    "y, x, _ = ax1.hist(values, bins=bins)\n",
    "mean = np.mean(values)\n",
    "ax1.axvline(mean, color='darkorange', lw=1.0, ls='-.', label='mean')\n",
    "text_style = dict(size=10, color='brown', verticalalignment='center', horizontalalignment='left')\n",
    "ax1.text(mean*0.85, y.max()*0.98, \"mean {}\".format(round(mean,2)), **text_style, rotation='vertical')\n",
    "\n",
    "plt.xlabel('sequence intensity CV')\n",
    "plt.ylabel('count')\n",
    "plt.title('sequence intensity coefficient of variance across runs in {}'.format(subset_group))\n",
    "\n",
    "plt.show()"
   ]
  },
  {
   "cell_type": "code",
   "execution_count": null,
   "metadata": {},
   "outputs": [],
   "source": []
  }
 ],
 "metadata": {
  "kernelspec": {
   "display_name": "Python 3",
   "language": "python",
   "name": "python3"
  },
  "language_info": {
   "codemirror_mode": {
    "name": "ipython",
    "version": 3
   },
   "file_extension": ".py",
   "mimetype": "text/x-python",
   "name": "python",
   "nbconvert_exporter": "python",
   "pygments_lexer": "ipython3",
   "version": "3.6.8"
  }
 },
 "nbformat": 4,
 "nbformat_minor": 2
}
