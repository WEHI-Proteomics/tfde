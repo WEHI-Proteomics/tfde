{
 "cells": [
  {
   "cell_type": "code",
   "execution_count": 1,
   "metadata": {},
   "outputs": [],
   "source": [
    "import pandas as pd\n",
    "import numpy as np\n",
    "import sys\n",
    "import pickle\n",
    "import glob\n",
    "import os\n",
    "import matplotlib.pyplot as plt\n",
    "import sqlite3"
   ]
  },
  {
   "cell_type": "code",
   "execution_count": 2,
   "metadata": {},
   "outputs": [],
   "source": [
    "EXPERIMENT_DIR = '/data2/experiments/P3856'\n",
    "# EXPERIMENT_DIR = '/Users/darylwilding-mcbride/Downloads/experiments/dwm-test'\n",
    "MINIMUM_NUMBER_OF_RUNS = 5"
   ]
  },
  {
   "cell_type": "code",
   "execution_count": 3,
   "metadata": {},
   "outputs": [],
   "source": [
    "EXTRACTED_FEATURES_DIR = \"{}/extracted-features\".format(EXPERIMENT_DIR)\n",
    "EXTRACTED_FEATURES_DB_NAME = \"{}/extracted-features.sqlite\".format(EXTRACTED_FEATURES_DIR)"
   ]
  },
  {
   "cell_type": "markdown",
   "metadata": {},
   "source": [
    "#### look at sequences that appear in more half the runs in the experiment"
   ]
  },
  {
   "cell_type": "code",
   "execution_count": 4,
   "metadata": {},
   "outputs": [],
   "source": [
    "subset_group = 'YHE114'"
   ]
  },
  {
   "cell_type": "code",
   "execution_count": 5,
   "metadata": {},
   "outputs": [],
   "source": [
    "db_conn = sqlite3.connect(EXTRACTED_FEATURES_DB_NAME)\n",
    "sequences_df = pd.read_sql_query('select sequence,charge,file_idx,peak_idx,human,run_name,intensity,isotope_idx_not_in_saturation,inferred,run_group,short_run_name from features where run_group==\\'{}\\' and classed_as==\\'target\\' order by intensity desc'.format(subset_group), db_conn)\n",
    "sequences_df.human = sequences_df.human.astype(bool)\n",
    "sequences_df.inferred = sequences_df.inferred.astype(bool)\n",
    "db_conn.close()\n"
   ]
  },
  {
   "cell_type": "code",
   "execution_count": 6,
   "metadata": {},
   "outputs": [],
   "source": [
    "sequences_df['log_intensity'] = np.log2(sequences_df.intensity)"
   ]
  },
  {
   "cell_type": "code",
   "execution_count": 19,
   "metadata": {},
   "outputs": [
    {
     "data": {
      "text/html": [
       "<div>\n",
       "<style scoped>\n",
       "    .dataframe tbody tr th:only-of-type {\n",
       "        vertical-align: middle;\n",
       "    }\n",
       "\n",
       "    .dataframe tbody tr th {\n",
       "        vertical-align: top;\n",
       "    }\n",
       "\n",
       "    .dataframe thead th {\n",
       "        text-align: right;\n",
       "    }\n",
       "</style>\n",
       "<table border=\"1\" class=\"dataframe\">\n",
       "  <thead>\n",
       "    <tr style=\"text-align: right;\">\n",
       "      <th></th>\n",
       "      <th>sequence</th>\n",
       "      <th>charge</th>\n",
       "      <th>file_idx</th>\n",
       "      <th>peak_idx</th>\n",
       "      <th>human</th>\n",
       "      <th>run_name</th>\n",
       "      <th>intensity</th>\n",
       "      <th>isotope_idx_not_in_saturation</th>\n",
       "      <th>inferred</th>\n",
       "      <th>run_group</th>\n",
       "      <th>short_run_name</th>\n",
       "      <th>log_intensity</th>\n",
       "    </tr>\n",
       "  </thead>\n",
       "  <tbody>\n",
       "    <tr>\n",
       "      <th>19135</th>\n",
       "      <td>DLDEVLQTHSVFVNVSK</td>\n",
       "      <td>2</td>\n",
       "      <td>3</td>\n",
       "      <td>0</td>\n",
       "      <td>True</td>\n",
       "      <td>P3856_YHE114_9_Slot1-1_1_5123</td>\n",
       "      <td>2847</td>\n",
       "      <td>0</td>\n",
       "      <td>False</td>\n",
       "      <td>YHE114</td>\n",
       "      <td>YHE114_9</td>\n",
       "      <td>11.475227</td>\n",
       "    </tr>\n",
       "    <tr>\n",
       "      <th>29612</th>\n",
       "      <td>QLVDVYTTLPYDFILEK</td>\n",
       "      <td>2</td>\n",
       "      <td>6</td>\n",
       "      <td>0</td>\n",
       "      <td>False</td>\n",
       "      <td>P3856_YHE114_5_Slot1-1_1_5119</td>\n",
       "      <td>2068</td>\n",
       "      <td>0</td>\n",
       "      <td>False</td>\n",
       "      <td>YHE114</td>\n",
       "      <td>YHE114_5</td>\n",
       "      <td>11.014020</td>\n",
       "    </tr>\n",
       "    <tr>\n",
       "      <th>50623</th>\n",
       "      <td>EFDLDGLFSSLDK</td>\n",
       "      <td>2</td>\n",
       "      <td>15</td>\n",
       "      <td>0</td>\n",
       "      <td>False</td>\n",
       "      <td>P3856_YHE114_3_Slot1-1_1_5117</td>\n",
       "      <td>1342</td>\n",
       "      <td>0</td>\n",
       "      <td>False</td>\n",
       "      <td>YHE114</td>\n",
       "      <td>YHE114_3</td>\n",
       "      <td>10.390169</td>\n",
       "    </tr>\n",
       "    <tr>\n",
       "      <th>55305</th>\n",
       "      <td>SAFSCFHYSTEEIK</td>\n",
       "      <td>2</td>\n",
       "      <td>16</td>\n",
       "      <td>0</td>\n",
       "      <td>True</td>\n",
       "      <td>P3856_YHE114_6_Slot1-1_1_5120</td>\n",
       "      <td>1246</td>\n",
       "      <td>0</td>\n",
       "      <td>False</td>\n",
       "      <td>YHE114</td>\n",
       "      <td>YHE114_6</td>\n",
       "      <td>10.283088</td>\n",
       "    </tr>\n",
       "    <tr>\n",
       "      <th>60998</th>\n",
       "      <td>LLLPWLEAR</td>\n",
       "      <td>2</td>\n",
       "      <td>3</td>\n",
       "      <td>0</td>\n",
       "      <td>True</td>\n",
       "      <td>P3856_YHE114_9_Slot1-1_1_5123</td>\n",
       "      <td>1147</td>\n",
       "      <td>0</td>\n",
       "      <td>False</td>\n",
       "      <td>YHE114</td>\n",
       "      <td>YHE114_9</td>\n",
       "      <td>10.163650</td>\n",
       "    </tr>\n",
       "    <tr>\n",
       "      <th>144959</th>\n",
       "      <td>DIADVTAVAEAILPK</td>\n",
       "      <td>2</td>\n",
       "      <td>12</td>\n",
       "      <td>0</td>\n",
       "      <td>True</td>\n",
       "      <td>P3856_YHE114_7_Slot1-1_1_5121</td>\n",
       "      <td>443</td>\n",
       "      <td>0</td>\n",
       "      <td>False</td>\n",
       "      <td>YHE114</td>\n",
       "      <td>YHE114_7</td>\n",
       "      <td>8.791163</td>\n",
       "    </tr>\n",
       "    <tr>\n",
       "      <th>149566</th>\n",
       "      <td>DLKPANILLDEHGHAR</td>\n",
       "      <td>2</td>\n",
       "      <td>6</td>\n",
       "      <td>0</td>\n",
       "      <td>True</td>\n",
       "      <td>P3856_YHE114_5_Slot1-1_1_5119</td>\n",
       "      <td>419</td>\n",
       "      <td>0</td>\n",
       "      <td>False</td>\n",
       "      <td>YHE114</td>\n",
       "      <td>YHE114_5</td>\n",
       "      <td>8.710806</td>\n",
       "    </tr>\n",
       "    <tr>\n",
       "      <th>176444</th>\n",
       "      <td>FGAQNEEMLPSILVLLK</td>\n",
       "      <td>2</td>\n",
       "      <td>3</td>\n",
       "      <td>0</td>\n",
       "      <td>True</td>\n",
       "      <td>P3856_YHE114_9_Slot1-1_1_5123</td>\n",
       "      <td>287</td>\n",
       "      <td>0</td>\n",
       "      <td>False</td>\n",
       "      <td>YHE114</td>\n",
       "      <td>YHE114_9</td>\n",
       "      <td>8.164907</td>\n",
       "    </tr>\n",
       "    <tr>\n",
       "      <th>181010</th>\n",
       "      <td>LSSICYENLLPFEK</td>\n",
       "      <td>2</td>\n",
       "      <td>15</td>\n",
       "      <td>0</td>\n",
       "      <td>False</td>\n",
       "      <td>P3856_YHE114_3_Slot1-1_1_5117</td>\n",
       "      <td>265</td>\n",
       "      <td>0</td>\n",
       "      <td>False</td>\n",
       "      <td>YHE114</td>\n",
       "      <td>YHE114_3</td>\n",
       "      <td>8.049849</td>\n",
       "    </tr>\n",
       "    <tr>\n",
       "      <th>195431</th>\n",
       "      <td>SDVMSVDIDKK</td>\n",
       "      <td>2</td>\n",
       "      <td>16</td>\n",
       "      <td>0</td>\n",
       "      <td>False</td>\n",
       "      <td>P3856_YHE114_6_Slot1-1_1_5120</td>\n",
       "      <td>186</td>\n",
       "      <td>0</td>\n",
       "      <td>False</td>\n",
       "      <td>YHE114</td>\n",
       "      <td>YHE114_6</td>\n",
       "      <td>7.539159</td>\n",
       "    </tr>\n",
       "  </tbody>\n",
       "</table>\n",
       "</div>"
      ],
      "text/plain": [
       "                 sequence  charge  file_idx  peak_idx  human  \\\n",
       "19135   DLDEVLQTHSVFVNVSK       2         3         0   True   \n",
       "29612   QLVDVYTTLPYDFILEK       2         6         0  False   \n",
       "50623       EFDLDGLFSSLDK       2        15         0  False   \n",
       "55305      SAFSCFHYSTEEIK       2        16         0   True   \n",
       "60998           LLLPWLEAR       2         3         0   True   \n",
       "144959    DIADVTAVAEAILPK       2        12         0   True   \n",
       "149566   DLKPANILLDEHGHAR       2         6         0   True   \n",
       "176444  FGAQNEEMLPSILVLLK       2         3         0   True   \n",
       "181010     LSSICYENLLPFEK       2        15         0  False   \n",
       "195431        SDVMSVDIDKK       2        16         0  False   \n",
       "\n",
       "                             run_name  intensity  \\\n",
       "19135   P3856_YHE114_9_Slot1-1_1_5123       2847   \n",
       "29612   P3856_YHE114_5_Slot1-1_1_5119       2068   \n",
       "50623   P3856_YHE114_3_Slot1-1_1_5117       1342   \n",
       "55305   P3856_YHE114_6_Slot1-1_1_5120       1246   \n",
       "60998   P3856_YHE114_9_Slot1-1_1_5123       1147   \n",
       "144959  P3856_YHE114_7_Slot1-1_1_5121        443   \n",
       "149566  P3856_YHE114_5_Slot1-1_1_5119        419   \n",
       "176444  P3856_YHE114_9_Slot1-1_1_5123        287   \n",
       "181010  P3856_YHE114_3_Slot1-1_1_5117        265   \n",
       "195431  P3856_YHE114_6_Slot1-1_1_5120        186   \n",
       "\n",
       "        isotope_idx_not_in_saturation  inferred run_group short_run_name  \\\n",
       "19135                               0     False    YHE114       YHE114_9   \n",
       "29612                               0     False    YHE114       YHE114_5   \n",
       "50623                               0     False    YHE114       YHE114_3   \n",
       "55305                               0     False    YHE114       YHE114_6   \n",
       "60998                               0     False    YHE114       YHE114_9   \n",
       "144959                              0     False    YHE114       YHE114_7   \n",
       "149566                              0     False    YHE114       YHE114_5   \n",
       "176444                              0     False    YHE114       YHE114_9   \n",
       "181010                              0     False    YHE114       YHE114_3   \n",
       "195431                              0     False    YHE114       YHE114_6   \n",
       "\n",
       "        log_intensity  \n",
       "19135       11.475227  \n",
       "29612       11.014020  \n",
       "50623       10.390169  \n",
       "55305       10.283088  \n",
       "60998       10.163650  \n",
       "144959       8.791163  \n",
       "149566       8.710806  \n",
       "176444       8.164907  \n",
       "181010       8.049849  \n",
       "195431       7.539159  "
      ]
     },
     "execution_count": 19,
     "metadata": {},
     "output_type": "execute_result"
    }
   ],
   "source": [
    "sequences_df.sample(10).sort_values(by=['intensity','sequence','charge'], ascending=False, inplace=False)\n"
   ]
  },
  {
   "cell_type": "markdown",
   "metadata": {},
   "source": [
    "#### analyse a selected sequence across the experiment for runs in which it was classified as a target"
   ]
  },
  {
   "cell_type": "code",
   "execution_count": 20,
   "metadata": {},
   "outputs": [],
   "source": [
    "selected_sequence = 'DLDEVLQTHSVFVNVSK'\n",
    "selected_sequence_charge = 2"
   ]
  },
  {
   "cell_type": "code",
   "execution_count": 21,
   "metadata": {},
   "outputs": [],
   "source": [
    "selected_sequence_df = sequences_df[(sequences_df.sequence == selected_sequence) & (sequences_df.charge == selected_sequence_charge)].copy()\n",
    "selected_sequence_df.sort_values(by=['short_run_name'], inplace=True)"
   ]
  },
  {
   "cell_type": "markdown",
   "metadata": {},
   "source": [
    "#### compare the intensities across the experiment for the selected sequence"
   ]
  },
  {
   "cell_type": "code",
   "execution_count": 22,
   "metadata": {},
   "outputs": [],
   "source": [
    "MAX_SUMMED_APEX_POINTS = 3 * 3000"
   ]
  },
  {
   "cell_type": "code",
   "execution_count": 23,
   "metadata": {
    "scrolled": false
   },
   "outputs": [
    {
     "data": {
      "image/png": "[encoded data removed]",
      "text/plain": [
       "<Figure size 1080x576 with 1 Axes>"
      ]
     },
     "metadata": {
      "needs_background": "light"
     },
     "output_type": "display_data"
    }
   ],
   "source": [
    "f, ax1 = plt.subplots()\n",
    "f.set_figheight(8)\n",
    "f.set_figwidth(15)\n",
    "\n",
    "plt.margins(0.06)\n",
    "\n",
    "mean_group = round(np.mean(np.log2(selected_sequence_df.intensity)), 2)\n",
    "\n",
    "plt.title('intensities from {} runs for sequence {}, charge {}\\ngroup mean {}'.format(subset_group, selected_sequence, selected_sequence_charge, mean_group))\n",
    "\n",
    "ax1.scatter(selected_sequence_df.short_run_name, selected_sequence_df.log_intensity, marker='o', color='tab:orange', lw=0, s=30, alpha=1.0, label=subset_group)\n",
    "\n",
    "# highlight whether a point was adjusted for saturation\n",
    "adj_sat = selected_sequence_df[(selected_sequence_df.isotope_idx_not_in_saturation > 0)]\n",
    "if len(adj_sat) > 0:\n",
    "    ax1.plot(adj_sat.short_run_name, adj_sat.log_intensity, marker='o', markerfacecolor='none', markeredgecolor='springgreen', linestyle='', markeredgewidth=2, ms=15, label='inferred intensity')\n",
    "\n",
    "# show which isotope was used as a reference\n",
    "text_style = dict(size=10, color='blue')\n",
    "for idx,row in adj_sat.iterrows():\n",
    "    ax1.text(row.short_run_name, row.log_intensity+2.1, \"ref iso {}\".format(int(row.isotope_idx_not_in_saturation)), **text_style, rotation=90)\n",
    "\n",
    "plt.axhline(y=np.log2(MAX_SUMMED_APEX_POINTS), color='red', linestyle='-.', linewidth=0.6, label='maximum unsaturated mono intensity')\n",
    "\n",
    "plt.xlabel('run name')\n",
    "plt.ylabel('log2 intensity')\n",
    "plt.legend(loc='best')\n",
    "\n",
    "# plt.xlim((0,50))\n",
    "plt.ylim((0,20))\n",
    "plt.xticks(rotation=90)\n",
    "\n",
    "plt.show()"
   ]
  },
  {
   "cell_type": "markdown",
   "metadata": {},
   "source": [
    "#### look at the distribution of intensity CV across the group runs"
   ]
  },
  {
   "cell_type": "code",
   "execution_count": 12,
   "metadata": {},
   "outputs": [],
   "source": [
    "# find the intensity CV of each sequence in the runs\n",
    "sequence_intensity_cv_l = []\n",
    "for group_name,group_df in sequences_df.groupby(['sequence','charge'], as_index=False):\n",
    "    if len(group_df) >= 2:\n",
    "        sequence = group_name[0]\n",
    "        charge = group_name[1]\n",
    "        sequence_intensity_cv = np.std(group_df.intensity) / np.mean(group_df.intensity)\n",
    "        sequence_intensity_cv_l.append((sequence,charge,sequence_intensity_cv))\n",
    "sequence_intensity_cv_df = pd.DataFrame(sequence_intensity_cv_l, columns=['sequence','charge','intensity_cv'])\n"
   ]
  },
  {
   "cell_type": "code",
   "execution_count": 14,
   "metadata": {},
   "outputs": [
    {
     "data": {
      "image/png": "[encoded data removed]",
      "text/plain": [
       "<Figure size 1080x576 with 1 Axes>"
      ]
     },
     "metadata": {
      "needs_background": "light"
     },
     "output_type": "display_data"
    }
   ],
   "source": [
    "f, ax1 = plt.subplots()\n",
    "f.set_figheight(8)\n",
    "f.set_figwidth(15)\n",
    "\n",
    "plt.margins(0.06)\n",
    "plt.title('')\n",
    "\n",
    "bins = 300\n",
    "values = sequence_intensity_cv_df.intensity_cv\n",
    "y, x, _ = ax1.hist(values, bins=bins)\n",
    "mean = np.mean(values)\n",
    "ax1.axvline(mean, color='darkorange', lw=1.0, ls='-.', label='mean')\n",
    "text_style = dict(size=10, color='brown', verticalalignment='center', horizontalalignment='left')\n",
    "ax1.text(mean*0.85, y.max()*0.98, \"mean {}\".format(round(mean,2)), **text_style, rotation='vertical')\n",
    "\n",
    "plt.xlabel('sequence intensity CV')\n",
    "plt.ylabel('count')\n",
    "plt.title('sequence intensity coefficient of variance across runs in {}'.format(subset_group))\n",
    "\n",
    "plt.show()"
   ]
  },
  {
   "cell_type": "code",
   "execution_count": null,
   "metadata": {},
   "outputs": [],
   "source": []
  }
 ],
 "metadata": {
  "kernelspec": {
   "display_name": "Python 3",
   "language": "python",
   "name": "python3"
  },
  "language_info": {
   "codemirror_mode": {
    "name": "ipython",
    "version": 3
   },
   "file_extension": ".py",
   "mimetype": "text/x-python",
   "name": "python",
   "nbconvert_exporter": "python",
   "pygments_lexer": "ipython3",
   "version": "3.6.8"
  }
 },
 "nbformat": 4,
 "nbformat_minor": 2
}
