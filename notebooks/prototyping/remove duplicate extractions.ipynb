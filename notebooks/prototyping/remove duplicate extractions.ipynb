{
 "cells": [
  {
   "cell_type": "code",
   "execution_count": 1,
   "metadata": {},
   "outputs": [],
   "source": [
    "import pandas as pd\n",
    "import numpy as np\n",
    "import sqlite3\n",
    "import json\n",
    "import matplotlib.pyplot as plt\n",
    "import seaborn as sns\n",
    "%matplotlib inline"
   ]
  },
  {
   "cell_type": "code",
   "execution_count": 2,
   "metadata": {},
   "outputs": [],
   "source": [
    "EXPERIMENT_NAME = 'P3856'"
   ]
  },
  {
   "cell_type": "code",
   "execution_count": 19,
   "metadata": {},
   "outputs": [],
   "source": [
    "MZ_TOLERANCE_PPM = 5\n",
    "MZ_TOLERANCE_PERCENT = MZ_TOLERANCE_PPM * 10**-4\n",
    "SCAN_TOLERANCE = 2\n",
    "RT_TOLERANCE = 1"
   ]
  },
  {
   "cell_type": "code",
   "execution_count": 20,
   "metadata": {},
   "outputs": [],
   "source": [
    "# load the extractions\n",
    "EXPERIMENT_DIR = '/Users/darylwilding-mcbride/Downloads/experiments/{}'.format(EXPERIMENT_NAME)\n",
    "EXTRACTIONS_FILE_NAME = '{}/extracted-features/extracted-features-YHE211_1.pkl'.format(EXPERIMENT_DIR)"
   ]
  },
  {
   "cell_type": "code",
   "execution_count": 85,
   "metadata": {},
   "outputs": [],
   "source": [
    "ext_df = pd.read_pickle(EXTRACTIONS_FILE_NAME)"
   ]
  },
  {
   "cell_type": "code",
   "execution_count": 86,
   "metadata": {},
   "outputs": [
    {
     "data": {
      "text/plain": [
       "Index(['sequence', 'charge', 'run_name', 'short_run_name', 'run_group',\n",
       "       'theoretical_mz', 'monoisotopic_mz_centroid', 'rt_apex', 'scan_apex'],\n",
       "      dtype='object')"
      ]
     },
     "execution_count": 86,
     "metadata": {},
     "output_type": "execute_result"
    }
   ],
   "source": [
    "ext_df.columns"
   ]
  },
  {
   "cell_type": "code",
   "execution_count": 87,
   "metadata": {},
   "outputs": [],
   "source": [
    "ext_df['mz'] = ext_df.monoisotopic_mz_centroid  # shorthand to reduce verbosity\n",
    "ext_df['mz_ppm_tolerance'] = ext_df.mz * MZ_TOLERANCE_PERCENT / 100\n",
    "ext_df['mz_lower'] = ext_df.mz - ext_df.mz_ppm_tolerance\n",
    "ext_df['mz_upper'] = ext_df.mz + ext_df.mz_ppm_tolerance\n",
    "ext_df['scan_lower'] = ext_df.scan_apex - SCAN_TOLERANCE\n",
    "ext_df['scan_upper'] = ext_df.scan_apex + SCAN_TOLERANCE\n",
    "ext_df['rt_lower'] = ext_df.rt_apex - RT_TOLERANCE\n",
    "ext_df['rt_upper'] = ext_df.rt_apex + RT_TOLERANCE\n",
    "ext_df['mz_delta'] = abs(ext_df.theoretical_mz - ext_df.mz)\n",
    "ext_df['composite_key'] = ext_df.apply(lambda row: '{},{},{}'.format(row.sequence, row.charge, row.short_run_name), axis=1)"
   ]
  },
  {
   "cell_type": "code",
   "execution_count": 88,
   "metadata": {},
   "outputs": [],
   "source": [
    "# remove these after we're finished\n",
    "columns_to_drop_l = []\n",
    "columns_to_drop_l.append('mz')\n",
    "columns_to_drop_l.append('mz_ppm_tolerance')\n",
    "columns_to_drop_l.append('mz_lower')\n",
    "columns_to_drop_l.append('mz_upper')\n",
    "columns_to_drop_l.append('scan_lower')\n",
    "columns_to_drop_l.append('scan_upper')\n",
    "columns_to_drop_l.append('rt_lower')\n",
    "columns_to_drop_l.append('rt_upper')\n",
    "columns_to_drop_l.append('mz_delta')\n",
    "columns_to_drop_l.append('composite_key')"
   ]
  },
  {
   "cell_type": "code",
   "execution_count": 89,
   "metadata": {},
   "outputs": [],
   "source": [
    "# see if any extractions have a duplicate - if so, find the dup with the lowest mass error and keep it\n",
    "keep_l = []\n",
    "for row in ext_df.itertuples():\n",
    "    dup_df = ext_df[(ext_df.mz > row.mz_lower) & (ext_df.mz < row.mz_upper) & (ext_df.scan_apex > row.scan_lower) & (ext_df.scan_apex < row.scan_upper) & (ext_df.rt_apex > row.rt_lower) & (ext_df.rt_apex < row.rt_upper)].copy()\n",
    "    dup_df.sort_values(by=['mz_delta'], ascending=True, inplace=True)\n",
    "    keep_l.append(dup_df.iloc[0][['sequence','charge','short_run_name','composite_key']])  # keep the dup with the lowest m/z delta\n",
    "keep_df = pd.DataFrame(keep_l)"
   ]
  },
  {
   "cell_type": "code",
   "execution_count": 90,
   "metadata": {},
   "outputs": [],
   "source": [
    "# remove any extractions that are not in the keep list\n",
    "dedup_df = ext_df[ext_df.composite_key.isin(keep_df.composite_key)].copy()"
   ]
  },
  {
   "cell_type": "code",
   "execution_count": 91,
   "metadata": {},
   "outputs": [
    {
     "data": {
      "text/plain": [
       "20784"
      ]
     },
     "execution_count": 91,
     "metadata": {},
     "output_type": "execute_result"
    }
   ],
   "source": [
    "len(ext_df)"
   ]
  },
  {
   "cell_type": "code",
   "execution_count": 92,
   "metadata": {},
   "outputs": [
    {
     "data": {
      "text/plain": [
       "20680"
      ]
     },
     "execution_count": 92,
     "metadata": {},
     "output_type": "execute_result"
    }
   ],
   "source": [
    "len(dedup_df)"
   ]
  },
  {
   "cell_type": "code",
   "execution_count": 93,
   "metadata": {},
   "outputs": [],
   "source": [
    "# remove the columns we added earlier\n",
    "dedup_df.drop(columns_to_drop_l, axis=1, inplace=True)"
   ]
  },
  {
   "cell_type": "code",
   "execution_count": 94,
   "metadata": {},
   "outputs": [
    {
     "data": {
      "text/html": [
       "<div>\n",
       "<style scoped>\n",
       "    .dataframe tbody tr th:only-of-type {\n",
       "        vertical-align: middle;\n",
       "    }\n",
       "\n",
       "    .dataframe tbody tr th {\n",
       "        vertical-align: top;\n",
       "    }\n",
       "\n",
       "    .dataframe thead th {\n",
       "        text-align: right;\n",
       "    }\n",
       "</style>\n",
       "<table border=\"1\" class=\"dataframe\">\n",
       "  <thead>\n",
       "    <tr style=\"text-align: right;\">\n",
       "      <th></th>\n",
       "      <th>sequence</th>\n",
       "      <th>charge</th>\n",
       "      <th>run_name</th>\n",
       "      <th>short_run_name</th>\n",
       "      <th>run_group</th>\n",
       "      <th>theoretical_mz</th>\n",
       "      <th>monoisotopic_mz_centroid</th>\n",
       "      <th>rt_apex</th>\n",
       "      <th>scan_apex</th>\n",
       "    </tr>\n",
       "  </thead>\n",
       "  <tbody>\n",
       "    <tr>\n",
       "      <th>242529</th>\n",
       "      <td>GLSPAQADSQFLENAK</td>\n",
       "      <td>2</td>\n",
       "      <td>P3856_YHE211_1_Slot1-1_1_5104</td>\n",
       "      <td>YHE211_1</td>\n",
       "      <td>YHE211</td>\n",
       "      <td>838.417926</td>\n",
       "      <td>838.416762</td>\n",
       "      <td>1833.579093</td>\n",
       "      <td>460</td>\n",
       "    </tr>\n",
       "    <tr>\n",
       "      <th>255242</th>\n",
       "      <td>VQENLLANGVDLVTYITR</td>\n",
       "      <td>2</td>\n",
       "      <td>P3856_YHE211_1_Slot1-1_1_5104</td>\n",
       "      <td>YHE211_1</td>\n",
       "      <td>YHE211</td>\n",
       "      <td>1009.549476</td>\n",
       "      <td>1009.548148</td>\n",
       "      <td>2282.897074</td>\n",
       "      <td>249</td>\n",
       "    </tr>\n",
       "    <tr>\n",
       "      <th>248536</th>\n",
       "      <td>NALESYAFNMK</td>\n",
       "      <td>2</td>\n",
       "      <td>P3856_YHE211_1_Slot1-1_1_5104</td>\n",
       "      <td>YHE211_1</td>\n",
       "      <td>YHE211</td>\n",
       "      <td>644.305526</td>\n",
       "      <td>644.305080</td>\n",
       "      <td>1874.861377</td>\n",
       "      <td>708</td>\n",
       "    </tr>\n",
       "  </tbody>\n",
       "</table>\n",
       "</div>"
      ],
      "text/plain": [
       "                  sequence  charge                       run_name  \\\n",
       "242529    GLSPAQADSQFLENAK       2  P3856_YHE211_1_Slot1-1_1_5104   \n",
       "255242  VQENLLANGVDLVTYITR       2  P3856_YHE211_1_Slot1-1_1_5104   \n",
       "248536         NALESYAFNMK       2  P3856_YHE211_1_Slot1-1_1_5104   \n",
       "\n",
       "       short_run_name run_group  theoretical_mz  monoisotopic_mz_centroid  \\\n",
       "242529       YHE211_1    YHE211      838.417926                838.416762   \n",
       "255242       YHE211_1    YHE211     1009.549476               1009.548148   \n",
       "248536       YHE211_1    YHE211      644.305526                644.305080   \n",
       "\n",
       "            rt_apex  scan_apex  \n",
       "242529  1833.579093        460  \n",
       "255242  2282.897074        249  \n",
       "248536  1874.861377        708  "
      ]
     },
     "execution_count": 94,
     "metadata": {},
     "output_type": "execute_result"
    }
   ],
   "source": [
    "dedup_df.sample(n=3)"
   ]
  },
  {
   "cell_type": "code",
   "execution_count": null,
   "metadata": {},
   "outputs": [],
   "source": []
  }
 ],
 "metadata": {
  "kernelspec": {
   "display_name": "Python 3",
   "language": "python",
   "name": "python3"
  },
  "language_info": {
   "codemirror_mode": {
    "name": "ipython",
    "version": 3
   },
   "file_extension": ".py",
   "mimetype": "text/x-python",
   "name": "python",
   "nbconvert_exporter": "python",
   "pygments_lexer": "ipython3",
   "version": "3.6.8"
  }
 },
 "nbformat": 4,
 "nbformat_minor": 4
}
