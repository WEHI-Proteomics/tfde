{
 "cells": [
  {
   "cell_type": "code",
   "execution_count": 1,
   "metadata": {},
   "outputs": [],
   "source": [
    "import sqlite3\n",
    "import numpy as np\n",
    "import pandas as pd\n",
    "import matplotlib.pyplot as plt"
   ]
  },
  {
   "cell_type": "code",
   "execution_count": 2,
   "metadata": {},
   "outputs": [],
   "source": [
    "EXPERIMENT_DIR = '/home/ubuntu/experiments/dwm-test'\n",
    "EXTRACTED_FEATURES_DIR = \"{}/extracted-features\".format(EXPERIMENT_DIR)\n",
    "EXTRACTED_FEATURES_DB_NAME = \"{}/extracted-features.sqlite\".format(EXTRACTED_FEATURES_DIR)\n"
   ]
  },
  {
   "cell_type": "code",
   "execution_count": 3,
   "metadata": {},
   "outputs": [],
   "source": [
    "db_conn = sqlite3.connect(EXTRACTED_FEATURES_DB_NAME)\n",
    "sequences_df = pd.read_sql_query('select * from features where number_of_isotopes >= 3', db_conn)\n",
    "db_conn.close()\n"
   ]
  },
  {
   "cell_type": "code",
   "execution_count": 4,
   "metadata": {},
   "outputs": [
    {
     "data": {
      "text/html": [
       "<div>\n",
       "<style scoped>\n",
       "    .dataframe tbody tr th:only-of-type {\n",
       "        vertical-align: middle;\n",
       "    }\n",
       "\n",
       "    .dataframe tbody tr th {\n",
       "        vertical-align: top;\n",
       "    }\n",
       "\n",
       "    .dataframe thead th {\n",
       "        text-align: right;\n",
       "    }\n",
       "</style>\n",
       "<table border=\"1\" class=\"dataframe\">\n",
       "  <thead>\n",
       "    <tr style=\"text-align: right;\">\n",
       "      <th></th>\n",
       "      <th>sequence</th>\n",
       "      <th>charge</th>\n",
       "      <th>file_idx</th>\n",
       "      <th>peak_idx</th>\n",
       "      <th>target_coords</th>\n",
       "      <th>theoretical_mz</th>\n",
       "      <th>q_value</th>\n",
       "      <th>delta_mz_ppm</th>\n",
       "      <th>delta_rt</th>\n",
       "      <th>delta_scan</th>\n",
       "      <th>...</th>\n",
       "      <th>mono_rt_bounds</th>\n",
       "      <th>monoisotopic_mass</th>\n",
       "      <th>monoisotopic_mz_centroid</th>\n",
       "      <th>number_of_isotopes</th>\n",
       "      <th>rt_apex</th>\n",
       "      <th>scan_apex</th>\n",
       "      <th>run_name</th>\n",
       "      <th>batch</th>\n",
       "      <th>human</th>\n",
       "      <th>number_of_runs_extracted</th>\n",
       "    </tr>\n",
       "  </thead>\n",
       "  <tbody>\n",
       "    <tr>\n",
       "      <th>65430</th>\n",
       "      <td>IAEENGAAFAGGTSLIQK</td>\n",
       "      <td>2</td>\n",
       "      <td>6</td>\n",
       "      <td>0</td>\n",
       "      <td>{\"mono_mz\": 888.9597152920951, \"scan_apex\": 34...</td>\n",
       "      <td>888.959926</td>\n",
       "      <td>0.000003</td>\n",
       "      <td>-0.768893</td>\n",
       "      <td>-0.002045</td>\n",
       "      <td>0.001514</td>\n",
       "      <td>...</td>\n",
       "      <td>[622.4730811960831, 632.2267478406583]</td>\n",
       "      <td>1775.904425</td>\n",
       "      <td>888.959489</td>\n",
       "      <td>7</td>\n",
       "      <td>628.458306</td>\n",
       "      <td>342.0</td>\n",
       "      <td>190719_Hela_Ecoli_1to1_03</td>\n",
       "      <td>1to1</td>\n",
       "      <td>1.0</td>\n",
       "      <td>6</td>\n",
       "    </tr>\n",
       "    <tr>\n",
       "      <th>21521</th>\n",
       "      <td>DLGLSESGEDVNAAILDESGK</td>\n",
       "      <td>2</td>\n",
       "      <td>17</td>\n",
       "      <td>0</td>\n",
       "      <td>{\"mono_mz\": 1060.005101631296, \"scan_apex\": 19...</td>\n",
       "      <td>1060.005476</td>\n",
       "      <td>0.000003</td>\n",
       "      <td>0.863556</td>\n",
       "      <td>0.001033</td>\n",
       "      <td>0.001721</td>\n",
       "      <td>...</td>\n",
       "      <td>[745.6890274563602, 752.7944776148029]</td>\n",
       "      <td>2117.999057</td>\n",
       "      <td>1060.006805</td>\n",
       "      <td>6</td>\n",
       "      <td>749.505514</td>\n",
       "      <td>199.0</td>\n",
       "      <td>190719_Hela_Ecoli_1to3_02</td>\n",
       "      <td>1to3</td>\n",
       "      <td>1.0</td>\n",
       "      <td>6</td>\n",
       "    </tr>\n",
       "    <tr>\n",
       "      <th>2385</th>\n",
       "      <td>ADPFSFEGPEIVDCDGCTIDWK</td>\n",
       "      <td>2</td>\n",
       "      <td>6</td>\n",
       "      <td>0</td>\n",
       "      <td>{\"mono_mz\": 1279.5458875320155, \"scan_apex\": 7...</td>\n",
       "      <td>1279.546140</td>\n",
       "      <td>0.000003</td>\n",
       "      <td>-0.969483</td>\n",
       "      <td>0.000570</td>\n",
       "      <td>-0.017745</td>\n",
       "      <td>...</td>\n",
       "      <td>[945.925790029286, 947.5521691081657]</td>\n",
       "      <td>2557.075755</td>\n",
       "      <td>1279.545154</td>\n",
       "      <td>4</td>\n",
       "      <td>946.488074</td>\n",
       "      <td>70.0</td>\n",
       "      <td>190719_Hela_Ecoli_1to1_03</td>\n",
       "      <td>1to1</td>\n",
       "      <td>1.0</td>\n",
       "      <td>6</td>\n",
       "    </tr>\n",
       "    <tr>\n",
       "      <th>17689</th>\n",
       "      <td>DDKEISSHDSSTNGLINR</td>\n",
       "      <td>2</td>\n",
       "      <td>13</td>\n",
       "      <td>0</td>\n",
       "      <td>{\"mono_mz\": 994.4691927843725, \"scan_apex\": 27...</td>\n",
       "      <td>994.469426</td>\n",
       "      <td>0.000003</td>\n",
       "      <td>0.261234</td>\n",
       "      <td>0.000033</td>\n",
       "      <td>-0.030430</td>\n",
       "      <td>...</td>\n",
       "      <td>[327.4517352749186, 339.10879528490074]</td>\n",
       "      <td>1986.923152</td>\n",
       "      <td>994.468852</td>\n",
       "      <td>6</td>\n",
       "      <td>330.620538</td>\n",
       "      <td>270.0</td>\n",
       "      <td>190719_Hela_Ecoli_1to3_03</td>\n",
       "      <td>1to3</td>\n",
       "      <td>0.0</td>\n",
       "      <td>5</td>\n",
       "    </tr>\n",
       "    <tr>\n",
       "      <th>136863</th>\n",
       "      <td>TLQIFNIEMK</td>\n",
       "      <td>2</td>\n",
       "      <td>11</td>\n",
       "      <td>0</td>\n",
       "      <td>{\"mono_mz\": 618.8362198240014, \"scan_apex\": 71...</td>\n",
       "      <td>618.836476</td>\n",
       "      <td>0.000259</td>\n",
       "      <td>-0.217651</td>\n",
       "      <td>-0.001460</td>\n",
       "      <td>0.002053</td>\n",
       "      <td>...</td>\n",
       "      <td>[857.6465716798447, 866.9042130275486]</td>\n",
       "      <td>1235.657249</td>\n",
       "      <td>618.835900</td>\n",
       "      <td>5</td>\n",
       "      <td>862.567904</td>\n",
       "      <td>718.0</td>\n",
       "      <td>190719_Hela_Ecoli_1to1_01</td>\n",
       "      <td>1to1</td>\n",
       "      <td>1.0</td>\n",
       "      <td>5</td>\n",
       "    </tr>\n",
       "  </tbody>\n",
       "</table>\n",
       "<p>5 rows × 62 columns</p>\n",
       "</div>"
      ],
      "text/plain": [
       "                      sequence  charge  file_idx  peak_idx  \\\n",
       "65430       IAEENGAAFAGGTSLIQK       2         6         0   \n",
       "21521    DLGLSESGEDVNAAILDESGK       2        17         0   \n",
       "2385    ADPFSFEGPEIVDCDGCTIDWK       2         6         0   \n",
       "17689       DDKEISSHDSSTNGLINR       2        13         0   \n",
       "136863              TLQIFNIEMK       2        11         0   \n",
       "\n",
       "                                            target_coords  theoretical_mz  \\\n",
       "65430   {\"mono_mz\": 888.9597152920951, \"scan_apex\": 34...      888.959926   \n",
       "21521   {\"mono_mz\": 1060.005101631296, \"scan_apex\": 19...     1060.005476   \n",
       "2385    {\"mono_mz\": 1279.5458875320155, \"scan_apex\": 7...     1279.546140   \n",
       "17689   {\"mono_mz\": 994.4691927843725, \"scan_apex\": 27...      994.469426   \n",
       "136863  {\"mono_mz\": 618.8362198240014, \"scan_apex\": 71...      618.836476   \n",
       "\n",
       "         q_value  delta_mz_ppm  delta_rt  delta_scan  ...  \\\n",
       "65430   0.000003     -0.768893 -0.002045    0.001514  ...   \n",
       "21521   0.000003      0.863556  0.001033    0.001721  ...   \n",
       "2385    0.000003     -0.969483  0.000570   -0.017745  ...   \n",
       "17689   0.000003      0.261234  0.000033   -0.030430  ...   \n",
       "136863  0.000259     -0.217651 -0.001460    0.002053  ...   \n",
       "\n",
       "                                 mono_rt_bounds  monoisotopic_mass  \\\n",
       "65430    [622.4730811960831, 632.2267478406583]        1775.904425   \n",
       "21521    [745.6890274563602, 752.7944776148029]        2117.999057   \n",
       "2385      [945.925790029286, 947.5521691081657]        2557.075755   \n",
       "17689   [327.4517352749186, 339.10879528490074]        1986.923152   \n",
       "136863   [857.6465716798447, 866.9042130275486]        1235.657249   \n",
       "\n",
       "        monoisotopic_mz_centroid  number_of_isotopes     rt_apex  scan_apex  \\\n",
       "65430                 888.959489                   7  628.458306      342.0   \n",
       "21521                1060.006805                   6  749.505514      199.0   \n",
       "2385                 1279.545154                   4  946.488074       70.0   \n",
       "17689                 994.468852                   6  330.620538      270.0   \n",
       "136863                618.835900                   5  862.567904      718.0   \n",
       "\n",
       "                         run_name  batch  human  number_of_runs_extracted  \n",
       "65430   190719_Hela_Ecoli_1to1_03   1to1    1.0                         6  \n",
       "21521   190719_Hela_Ecoli_1to3_02   1to3    1.0                         6  \n",
       "2385    190719_Hela_Ecoli_1to1_03   1to1    1.0                         6  \n",
       "17689   190719_Hela_Ecoli_1to3_03   1to3    0.0                         5  \n",
       "136863  190719_Hela_Ecoli_1to1_01   1to1    1.0                         5  \n",
       "\n",
       "[5 rows x 62 columns]"
      ]
     },
     "execution_count": 4,
     "metadata": {},
     "output_type": "execute_result"
    }
   ],
   "source": [
    "sequences_df.sample(5)"
   ]
  },
  {
   "cell_type": "code",
   "execution_count": 5,
   "metadata": {},
   "outputs": [
    {
     "data": {
      "text/plain": [
       "3"
      ]
     },
     "execution_count": 5,
     "metadata": {},
     "output_type": "execute_result"
    }
   ],
   "source": [
    "sequences_df.number_of_isotopes.min()"
   ]
  },
  {
   "cell_type": "code",
   "execution_count": 6,
   "metadata": {},
   "outputs": [
    {
     "data": {
      "text/plain": [
       "Index(['sequence', 'charge', 'file_idx', 'peak_idx', 'target_coords',\n",
       "       'theoretical_mz', 'q_value', 'delta_mz_ppm', 'delta_rt', 'delta_scan',\n",
       "       'fwhm_rt_0', 'fwhm_scan_0', 'geometric_mean_0_1',\n",
       "       'geometric_mean_0_1_2', 'isotope_0_1_mz_delta_ppm',\n",
       "       'isotope_0_1_rt_delta', 'isotope_0_1_scan_delta',\n",
       "       'isotope_0_2_mz_delta_ppm', 'isotope_0_2_rt_delta',\n",
       "       'isotope_0_2_scan_delta', 'monoisotope_auc_over_isotope_peak_auc_sum',\n",
       "       'monoisotope_int_over_isotope_peak_int_sum', 'mz_delta_ppm_std_dev_0',\n",
       "       'mz_delta_ppm_std_dev_1', 'number_of_frames_0', 'number_of_frames_1',\n",
       "       'number_of_frames_2', 'number_of_missing_frames_0',\n",
       "       'number_of_missing_frames_1', 'number_of_missing_frames_2',\n",
       "       'peak_base_width_rt_0', 'peak_base_width_scan_0', 'r_squared_phr',\n",
       "       'rt_isotope_correlation', 'rt_peak_symmetry_0', 'rt_peak_symmetry_1',\n",
       "       'rt_peak_symmetry_2', 'scan_isotope_correlation',\n",
       "       'scan_peak_symmetry_0', 'scan_peak_symmetry_1', 'scan_peak_symmetry_2',\n",
       "       'classed_as', 'inferred', 'intensity', 'isotope_1_filtered_points_l',\n",
       "       'isotope_1_rt_bounds', 'isotope_2_filtered_points_l',\n",
       "       'isotope_2_rt_bounds', 'isotope_idx_not_in_saturation',\n",
       "       'isotope_intensities_l', 'mono_filtered_points_l', 'mono_raw_points_l',\n",
       "       'mono_rt_bounds', 'monoisotopic_mass', 'monoisotopic_mz_centroid',\n",
       "       'number_of_isotopes', 'rt_apex', 'scan_apex', 'run_name', 'batch',\n",
       "       'human', 'number_of_runs_extracted'],\n",
       "      dtype='object')"
      ]
     },
     "execution_count": 6,
     "metadata": {},
     "output_type": "execute_result"
    }
   ],
   "source": [
    "sequences_df.columns"
   ]
  },
  {
   "cell_type": "code",
   "execution_count": 7,
   "metadata": {},
   "outputs": [
    {
     "data": {
      "text/html": [
       "<div>\n",
       "<style scoped>\n",
       "    .dataframe tbody tr th:only-of-type {\n",
       "        vertical-align: middle;\n",
       "    }\n",
       "\n",
       "    .dataframe tbody tr th {\n",
       "        vertical-align: top;\n",
       "    }\n",
       "\n",
       "    .dataframe thead th {\n",
       "        text-align: right;\n",
       "    }\n",
       "</style>\n",
       "<table border=\"1\" class=\"dataframe\">\n",
       "  <thead>\n",
       "    <tr style=\"text-align: right;\">\n",
       "      <th></th>\n",
       "      <th>sequence</th>\n",
       "      <th>charge</th>\n",
       "      <th>inferred</th>\n",
       "      <th>isotope_idx_not_in_saturation</th>\n",
       "    </tr>\n",
       "  </thead>\n",
       "  <tbody>\n",
       "    <tr>\n",
       "      <th>0</th>\n",
       "      <td>AAAAAAAAAAAAAAAASAGGK</td>\n",
       "      <td>2</td>\n",
       "      <td>0</td>\n",
       "      <td>0</td>\n",
       "    </tr>\n",
       "    <tr>\n",
       "      <th>1</th>\n",
       "      <td>AAAAAAAAAAAAAAAASAGGK</td>\n",
       "      <td>2</td>\n",
       "      <td>0</td>\n",
       "      <td>0</td>\n",
       "    </tr>\n",
       "    <tr>\n",
       "      <th>2</th>\n",
       "      <td>AAAAAAAAAAAAAAAASAGGK</td>\n",
       "      <td>2</td>\n",
       "      <td>0</td>\n",
       "      <td>0</td>\n",
       "    </tr>\n",
       "    <tr>\n",
       "      <th>3</th>\n",
       "      <td>AAAAAAAAAPAAAATAPTTAATTAATAAQ</td>\n",
       "      <td>2</td>\n",
       "      <td>1</td>\n",
       "      <td>2</td>\n",
       "    </tr>\n",
       "    <tr>\n",
       "      <th>4</th>\n",
       "      <td>AAAAAAAAAPAAAATAPTTAATTAATAAQ</td>\n",
       "      <td>2</td>\n",
       "      <td>0</td>\n",
       "      <td>0</td>\n",
       "    </tr>\n",
       "    <tr>\n",
       "      <th>...</th>\n",
       "      <td>...</td>\n",
       "      <td>...</td>\n",
       "      <td>...</td>\n",
       "      <td>...</td>\n",
       "    </tr>\n",
       "    <tr>\n",
       "      <th>163322</th>\n",
       "      <td>YYYAVVDCDSPETASK</td>\n",
       "      <td>2</td>\n",
       "      <td>0</td>\n",
       "      <td>0</td>\n",
       "    </tr>\n",
       "    <tr>\n",
       "      <th>163323</th>\n",
       "      <td>YYYDGDMICK</td>\n",
       "      <td>2</td>\n",
       "      <td>0</td>\n",
       "      <td>0</td>\n",
       "    </tr>\n",
       "    <tr>\n",
       "      <th>163324</th>\n",
       "      <td>YYYDGDMICK</td>\n",
       "      <td>2</td>\n",
       "      <td>0</td>\n",
       "      <td>0</td>\n",
       "    </tr>\n",
       "    <tr>\n",
       "      <th>163325</th>\n",
       "      <td>YYYDGDMICK</td>\n",
       "      <td>2</td>\n",
       "      <td>0</td>\n",
       "      <td>0</td>\n",
       "    </tr>\n",
       "    <tr>\n",
       "      <th>163326</th>\n",
       "      <td>YYYDGDMICK</td>\n",
       "      <td>2</td>\n",
       "      <td>0</td>\n",
       "      <td>0</td>\n",
       "    </tr>\n",
       "  </tbody>\n",
       "</table>\n",
       "<p>163327 rows × 4 columns</p>\n",
       "</div>"
      ],
      "text/plain": [
       "                             sequence  charge  inferred  \\\n",
       "0               AAAAAAAAAAAAAAAASAGGK       2         0   \n",
       "1               AAAAAAAAAAAAAAAASAGGK       2         0   \n",
       "2               AAAAAAAAAAAAAAAASAGGK       2         0   \n",
       "3       AAAAAAAAAPAAAATAPTTAATTAATAAQ       2         1   \n",
       "4       AAAAAAAAAPAAAATAPTTAATTAATAAQ       2         0   \n",
       "...                               ...     ...       ...   \n",
       "163322               YYYAVVDCDSPETASK       2         0   \n",
       "163323                     YYYDGDMICK       2         0   \n",
       "163324                     YYYDGDMICK       2         0   \n",
       "163325                     YYYDGDMICK       2         0   \n",
       "163326                     YYYDGDMICK       2         0   \n",
       "\n",
       "        isotope_idx_not_in_saturation  \n",
       "0                                   0  \n",
       "1                                   0  \n",
       "2                                   0  \n",
       "3                                   2  \n",
       "4                                   0  \n",
       "...                               ...  \n",
       "163322                              0  \n",
       "163323                              0  \n",
       "163324                              0  \n",
       "163325                              0  \n",
       "163326                              0  \n",
       "\n",
       "[163327 rows x 4 columns]"
      ]
     },
     "execution_count": 7,
     "metadata": {},
     "output_type": "execute_result"
    }
   ],
   "source": [
    "sequences_df[['sequence','charge','inferred','isotope_idx_not_in_saturation']]"
   ]
  },
  {
   "cell_type": "code",
   "execution_count": 8,
   "metadata": {},
   "outputs": [
    {
     "data": {
      "text/plain": [
       "0         0\n",
       "1         0\n",
       "2         0\n",
       "4         0\n",
       "5         0\n",
       "         ..\n",
       "163322    0\n",
       "163323    0\n",
       "163324    0\n",
       "163325    0\n",
       "163326    0\n",
       "Name: isotope_idx_not_in_saturation, Length: 148848, dtype: int64"
      ]
     },
     "execution_count": 8,
     "metadata": {},
     "output_type": "execute_result"
    }
   ],
   "source": [
    "sequences_df[sequences_df.inferred == 0].isotope_idx_not_in_saturation"
   ]
  },
  {
   "cell_type": "code",
   "execution_count": 9,
   "metadata": {},
   "outputs": [
    {
     "data": {
      "text/html": [
       "<div>\n",
       "<style scoped>\n",
       "    .dataframe tbody tr th:only-of-type {\n",
       "        vertical-align: middle;\n",
       "    }\n",
       "\n",
       "    .dataframe tbody tr th {\n",
       "        vertical-align: top;\n",
       "    }\n",
       "\n",
       "    .dataframe thead th {\n",
       "        text-align: right;\n",
       "    }\n",
       "</style>\n",
       "<table border=\"1\" class=\"dataframe\">\n",
       "  <thead>\n",
       "    <tr style=\"text-align: right;\">\n",
       "      <th></th>\n",
       "      <th>intensity</th>\n",
       "      <th>number_of_isotopes</th>\n",
       "    </tr>\n",
       "  </thead>\n",
       "  <tbody>\n",
       "  </tbody>\n",
       "</table>\n",
       "</div>"
      ],
      "text/plain": [
       "Empty DataFrame\n",
       "Columns: [intensity, number_of_isotopes]\n",
       "Index: []"
      ]
     },
     "execution_count": 9,
     "metadata": {},
     "output_type": "execute_result"
    }
   ],
   "source": [
    "sequences_df[(sequences_df.isotope_idx_not_in_saturation == -1) & (sequences_df.inferred == 0)][['intensity','number_of_isotopes']]"
   ]
  },
  {
   "cell_type": "code",
   "execution_count": 10,
   "metadata": {},
   "outputs": [
    {
     "data": {
      "text/plain": [
       "array([5, 3, 6, 4, 7])"
      ]
     },
     "execution_count": 10,
     "metadata": {},
     "output_type": "execute_result"
    }
   ],
   "source": [
    "sequences_df.number_of_isotopes.unique()"
   ]
  },
  {
   "cell_type": "code",
   "execution_count": 11,
   "metadata": {},
   "outputs": [
    {
     "data": {
      "text/plain": [
       "8498"
      ]
     },
     "execution_count": 11,
     "metadata": {},
     "output_type": "execute_result"
    }
   ],
   "source": [
    "sequences_df[(sequences_df.inferred == 0) & (sequences_df.isotope_idx_not_in_saturation != -1)].intensity.max()"
   ]
  },
  {
   "cell_type": "code",
   "execution_count": 12,
   "metadata": {},
   "outputs": [
    {
     "data": {
      "text/html": [
       "<div>\n",
       "<style scoped>\n",
       "    .dataframe tbody tr th:only-of-type {\n",
       "        vertical-align: middle;\n",
       "    }\n",
       "\n",
       "    .dataframe tbody tr th {\n",
       "        vertical-align: top;\n",
       "    }\n",
       "\n",
       "    .dataframe thead th {\n",
       "        text-align: right;\n",
       "    }\n",
       "</style>\n",
       "<table border=\"1\" class=\"dataframe\">\n",
       "  <thead>\n",
       "    <tr style=\"text-align: right;\">\n",
       "      <th></th>\n",
       "      <th>sequence</th>\n",
       "      <th>charge</th>\n",
       "      <th>file_idx</th>\n",
       "      <th>peak_idx</th>\n",
       "      <th>target_coords</th>\n",
       "      <th>theoretical_mz</th>\n",
       "      <th>q_value</th>\n",
       "      <th>delta_mz_ppm</th>\n",
       "      <th>delta_rt</th>\n",
       "      <th>delta_scan</th>\n",
       "      <th>...</th>\n",
       "      <th>mono_rt_bounds</th>\n",
       "      <th>monoisotopic_mass</th>\n",
       "      <th>monoisotopic_mz_centroid</th>\n",
       "      <th>number_of_isotopes</th>\n",
       "      <th>rt_apex</th>\n",
       "      <th>scan_apex</th>\n",
       "      <th>run_name</th>\n",
       "      <th>batch</th>\n",
       "      <th>human</th>\n",
       "      <th>number_of_runs_extracted</th>\n",
       "    </tr>\n",
       "  </thead>\n",
       "  <tbody>\n",
       "  </tbody>\n",
       "</table>\n",
       "<p>0 rows × 62 columns</p>\n",
       "</div>"
      ],
      "text/plain": [
       "Empty DataFrame\n",
       "Columns: [sequence, charge, file_idx, peak_idx, target_coords, theoretical_mz, q_value, delta_mz_ppm, delta_rt, delta_scan, fwhm_rt_0, fwhm_scan_0, geometric_mean_0_1, geometric_mean_0_1_2, isotope_0_1_mz_delta_ppm, isotope_0_1_rt_delta, isotope_0_1_scan_delta, isotope_0_2_mz_delta_ppm, isotope_0_2_rt_delta, isotope_0_2_scan_delta, monoisotope_auc_over_isotope_peak_auc_sum, monoisotope_int_over_isotope_peak_int_sum, mz_delta_ppm_std_dev_0, mz_delta_ppm_std_dev_1, number_of_frames_0, number_of_frames_1, number_of_frames_2, number_of_missing_frames_0, number_of_missing_frames_1, number_of_missing_frames_2, peak_base_width_rt_0, peak_base_width_scan_0, r_squared_phr, rt_isotope_correlation, rt_peak_symmetry_0, rt_peak_symmetry_1, rt_peak_symmetry_2, scan_isotope_correlation, scan_peak_symmetry_0, scan_peak_symmetry_1, scan_peak_symmetry_2, classed_as, inferred, intensity, isotope_1_filtered_points_l, isotope_1_rt_bounds, isotope_2_filtered_points_l, isotope_2_rt_bounds, isotope_idx_not_in_saturation, isotope_intensities_l, mono_filtered_points_l, mono_raw_points_l, mono_rt_bounds, monoisotopic_mass, monoisotopic_mz_centroid, number_of_isotopes, rt_apex, scan_apex, run_name, batch, human, number_of_runs_extracted]\n",
       "Index: []\n",
       "\n",
       "[0 rows x 62 columns]"
      ]
     },
     "execution_count": 12,
     "metadata": {},
     "output_type": "execute_result"
    }
   ],
   "source": [
    "sequences_df[(sequences_df.isotope_idx_not_in_saturation == -1)]"
   ]
  },
  {
   "cell_type": "code",
   "execution_count": 13,
   "metadata": {},
   "outputs": [
    {
     "data": {
      "text/plain": [
       "249394"
      ]
     },
     "execution_count": 13,
     "metadata": {},
     "output_type": "execute_result"
    }
   ],
   "source": [
    "sequences_df[(sequences_df.inferred == 1)].intensity.max()"
   ]
  },
  {
   "cell_type": "code",
   "execution_count": 14,
   "metadata": {},
   "outputs": [
    {
     "data": {
      "text/plain": [
       "99"
      ]
     },
     "execution_count": 14,
     "metadata": {},
     "output_type": "execute_result"
    }
   ],
   "source": [
    "sequences_df[(sequences_df.inferred == 1)].intensity.min()"
   ]
  },
  {
   "cell_type": "code",
   "execution_count": 15,
   "metadata": {},
   "outputs": [
    {
     "data": {
      "text/plain": [
       "(10, 249394)"
      ]
     },
     "execution_count": 15,
     "metadata": {},
     "output_type": "execute_result"
    }
   ],
   "source": [
    "sequences_df.intensity.min(), sequences_df.intensity.max()"
   ]
  },
  {
   "cell_type": "code",
   "execution_count": 16,
   "metadata": {},
   "outputs": [
    {
     "data": {
      "text/html": [
       "<div>\n",
       "<style scoped>\n",
       "    .dataframe tbody tr th:only-of-type {\n",
       "        vertical-align: middle;\n",
       "    }\n",
       "\n",
       "    .dataframe tbody tr th {\n",
       "        vertical-align: top;\n",
       "    }\n",
       "\n",
       "    .dataframe thead th {\n",
       "        text-align: right;\n",
       "    }\n",
       "</style>\n",
       "<table border=\"1\" class=\"dataframe\">\n",
       "  <thead>\n",
       "    <tr style=\"text-align: right;\">\n",
       "      <th></th>\n",
       "      <th>sequence</th>\n",
       "      <th>charge</th>\n",
       "      <th>file_idx</th>\n",
       "      <th>peak_idx</th>\n",
       "      <th>target_coords</th>\n",
       "      <th>theoretical_mz</th>\n",
       "      <th>q_value</th>\n",
       "      <th>delta_mz_ppm</th>\n",
       "      <th>delta_rt</th>\n",
       "      <th>delta_scan</th>\n",
       "      <th>...</th>\n",
       "      <th>mono_rt_bounds</th>\n",
       "      <th>monoisotopic_mass</th>\n",
       "      <th>monoisotopic_mz_centroid</th>\n",
       "      <th>number_of_isotopes</th>\n",
       "      <th>rt_apex</th>\n",
       "      <th>scan_apex</th>\n",
       "      <th>run_name</th>\n",
       "      <th>batch</th>\n",
       "      <th>human</th>\n",
       "      <th>number_of_runs_extracted</th>\n",
       "    </tr>\n",
       "  </thead>\n",
       "  <tbody>\n",
       "    <tr>\n",
       "      <th>20535</th>\n",
       "      <td>DILFPYIEENVK</td>\n",
       "      <td>2</td>\n",
       "      <td>13</td>\n",
       "      <td>2</td>\n",
       "      <td>{\"mono_mz\": 740.3899044895976, \"scan_apex\": 48...</td>\n",
       "      <td>740.390126</td>\n",
       "      <td>0.000090</td>\n",
       "      <td>0.263297</td>\n",
       "      <td>-0.00749</td>\n",
       "      <td>0.00000</td>\n",
       "      <td>...</td>\n",
       "      <td>[917.7195380095278, 918.8320947752912]</td>\n",
       "      <td>1478.765647</td>\n",
       "      <td>740.390100</td>\n",
       "      <td>3</td>\n",
       "      <td>918.283511</td>\n",
       "      <td>NaN</td>\n",
       "      <td>190719_Hela_Ecoli_1to3_03</td>\n",
       "      <td>1to3</td>\n",
       "      <td>1.0</td>\n",
       "      <td>6</td>\n",
       "    </tr>\n",
       "    <tr>\n",
       "      <th>115524</th>\n",
       "      <td>Q[-17.0265]IDQPLHLGITEAGGAR</td>\n",
       "      <td>2</td>\n",
       "      <td>11</td>\n",
       "      <td>0</td>\n",
       "      <td>{\"mono_mz\": 879.9600176535821, \"scan_apex\": 37...</td>\n",
       "      <td>879.960326</td>\n",
       "      <td>0.000003</td>\n",
       "      <td>0.017965</td>\n",
       "      <td>0.00182</td>\n",
       "      <td>-0.11203</td>\n",
       "      <td>...</td>\n",
       "      <td>[763.7798066377607, 764.8867960625986]</td>\n",
       "      <td>1757.905515</td>\n",
       "      <td>879.960034</td>\n",
       "      <td>3</td>\n",
       "      <td>764.347330</td>\n",
       "      <td>333.0</td>\n",
       "      <td>190719_Hela_Ecoli_1to1_01</td>\n",
       "      <td>1to1</td>\n",
       "      <td>0.0</td>\n",
       "      <td>6</td>\n",
       "    </tr>\n",
       "  </tbody>\n",
       "</table>\n",
       "<p>2 rows × 62 columns</p>\n",
       "</div>"
      ],
      "text/plain": [
       "                           sequence  charge  file_idx  peak_idx  \\\n",
       "20535                  DILFPYIEENVK       2        13         2   \n",
       "115524  Q[-17.0265]IDQPLHLGITEAGGAR       2        11         0   \n",
       "\n",
       "                                            target_coords  theoretical_mz  \\\n",
       "20535   {\"mono_mz\": 740.3899044895976, \"scan_apex\": 48...      740.390126   \n",
       "115524  {\"mono_mz\": 879.9600176535821, \"scan_apex\": 37...      879.960326   \n",
       "\n",
       "         q_value  delta_mz_ppm  delta_rt  delta_scan  ...  \\\n",
       "20535   0.000090      0.263297  -0.00749     0.00000  ...   \n",
       "115524  0.000003      0.017965   0.00182    -0.11203  ...   \n",
       "\n",
       "                                mono_rt_bounds  monoisotopic_mass  \\\n",
       "20535   [917.7195380095278, 918.8320947752912]        1478.765647   \n",
       "115524  [763.7798066377607, 764.8867960625986]        1757.905515   \n",
       "\n",
       "        monoisotopic_mz_centroid  number_of_isotopes     rt_apex  scan_apex  \\\n",
       "20535                 740.390100                   3  918.283511        NaN   \n",
       "115524                879.960034                   3  764.347330      333.0   \n",
       "\n",
       "                         run_name  batch  human  number_of_runs_extracted  \n",
       "20535   190719_Hela_Ecoli_1to3_03   1to3    1.0                         6  \n",
       "115524  190719_Hela_Ecoli_1to1_01   1to1    0.0                         6  \n",
       "\n",
       "[2 rows x 62 columns]"
      ]
     },
     "execution_count": 16,
     "metadata": {},
     "output_type": "execute_result"
    }
   ],
   "source": [
    "sequences_df[sequences_df.intensity == 19]"
   ]
  },
  {
   "cell_type": "code",
   "execution_count": 17,
   "metadata": {},
   "outputs": [
    {
     "data": {
      "text/plain": [
       "sequence                         HQGVMVGMGQK\n",
       "charge                                     2\n",
       "monoisotopic_mass                    1170.56\n",
       "inferred                                   1\n",
       "isotope_idx_not_in_saturation              4\n",
       "intensity                             249394\n",
       "Name: 63486, dtype: object"
      ]
     },
     "execution_count": 17,
     "metadata": {},
     "output_type": "execute_result"
    }
   ],
   "source": [
    "sequences_df[sequences_df.intensity == 249394][['sequence','charge','monoisotopic_mass','inferred','isotope_idx_not_in_saturation','intensity']].iloc[0]"
   ]
  },
  {
   "cell_type": "code",
   "execution_count": 18,
   "metadata": {},
   "outputs": [],
   "source": [
    "sequences_df.inferred = sequences_df.inferred.astype(bool)"
   ]
  },
  {
   "cell_type": "code",
   "execution_count": 19,
   "metadata": {},
   "outputs": [
    {
     "data": {
      "text/plain": [
       "8498"
      ]
     },
     "execution_count": 19,
     "metadata": {},
     "output_type": "execute_result"
    }
   ],
   "source": [
    "sequences_df[(sequences_df.inferred == False)].intensity.max()"
   ]
  },
  {
   "cell_type": "code",
   "execution_count": 20,
   "metadata": {},
   "outputs": [
    {
     "data": {
      "text/plain": [
       "10"
      ]
     },
     "execution_count": 20,
     "metadata": {},
     "output_type": "execute_result"
    }
   ],
   "source": [
    "sequences_df[(sequences_df.inferred == False)].intensity.min()"
   ]
  },
  {
   "cell_type": "code",
   "execution_count": 23,
   "metadata": {},
   "outputs": [],
   "source": [
    "NUMBER_OF_ISOTOPES = 7"
   ]
  },
  {
   "cell_type": "code",
   "execution_count": 24,
   "metadata": {},
   "outputs": [],
   "source": [
    "inferred_sequences_df = sequences_df[sequences_df.inferred == True]"
   ]
  },
  {
   "cell_type": "code",
   "execution_count": 25,
   "metadata": {},
   "outputs": [
    {
     "data": {
      "image/png": "[encoded data removed]",
      "text/plain": [
       "<Figure size 1080x576 with 1 Axes>"
      ]
     },
     "metadata": {
      "needs_background": "light"
     },
     "output_type": "display_data"
    }
   ],
   "source": [
    "f, ax1 = plt.subplots()\n",
    "f.set_figheight(8)\n",
    "f.set_figwidth(15)\n",
    "\n",
    "plt.margins(0.06)\n",
    "plt.title('Distribution of the number of isotopes')\n",
    "\n",
    "counts = np.bincount(sequences_df.number_of_isotopes)\n",
    "inferred_counts = np.bincount(inferred_sequences_df.number_of_isotopes)\n",
    "\n",
    "ax1.bar(range(NUMBER_OF_ISOTOPES+1), counts, width=0.8, align='center', label='total')\n",
    "ax1.bar(range(NUMBER_OF_ISOTOPES+1), inferred_counts, width=0.8, align='center', color='orange', label='inferred monoisotopic')\n",
    "\n",
    "plt.xlabel('number of files in which a sequence-charge was extracted')\n",
    "plt.ylabel('frequency')\n",
    "ax1.set(xticks=range(1,NUMBER_OF_ISOTOPES+1), xlim=[0, NUMBER_OF_ISOTOPES+1])\n",
    "\n",
    "plt.xlabel('number of isotopes')\n",
    "plt.ylabel('frequency')\n",
    "\n",
    "plt.legend(loc='best')\n",
    "\n",
    "plt.show()"
   ]
  },
  {
   "cell_type": "code",
   "execution_count": null,
   "metadata": {},
   "outputs": [],
   "source": []
  }
 ],
 "metadata": {
  "kernelspec": {
   "display_name": "Python 3",
   "language": "python",
   "name": "python3"
  },
  "language_info": {
   "codemirror_mode": {
    "name": "ipython",
    "version": 3
   },
   "file_extension": ".py",
   "mimetype": "text/x-python",
   "name": "python",
   "nbconvert_exporter": "python",
   "pygments_lexer": "ipython3",
   "version": "3.6.8"
  }
 },
 "nbformat": 4,
 "nbformat_minor": 2
}
