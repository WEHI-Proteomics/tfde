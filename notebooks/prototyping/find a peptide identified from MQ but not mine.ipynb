{
 "cells": [
  {
   "cell_type": "code",
   "execution_count": 18,
   "metadata": {},
   "outputs": [],
   "source": [
    "import pandas as pd\n",
    "from os.path import expanduser\n",
    "import numpy as np"
   ]
  },
  {
   "cell_type": "code",
   "execution_count": 2,
   "metadata": {},
   "outputs": [],
   "source": [
    "experiment_name = 'P3856'\n",
    "run_name = 'P3856_YHE211_1_Slot1-1_1_5104'\n",
    "precursor_definition_method = 'pasef'\n",
    "experiment_base_dir = '/media/big-ssd/experiments'"
   ]
  },
  {
   "cell_type": "code",
   "execution_count": 3,
   "metadata": {},
   "outputs": [],
   "source": [
    "EXPERIMENT_DIR = \"{}/{}\".format(experiment_base_dir, experiment_name)\n",
    "MQ_PERCOLATOR_OUTPUT_DIR = '{}/percolator-output-pasef-maxquant'.format(EXPERIMENT_DIR)"
   ]
  },
  {
   "cell_type": "code",
   "execution_count": 4,
   "metadata": {},
   "outputs": [],
   "source": [
    "MAXIMUM_Q_VALUE = 0.01"
   ]
  },
  {
   "cell_type": "code",
   "execution_count": 5,
   "metadata": {},
   "outputs": [],
   "source": [
    "# load the percolator output\n",
    "MQ_PERCOLATOR_OUTPUT_FILE_NAME = \"{}/{}.percolator.target.psms.txt\".format(MQ_PERCOLATOR_OUTPUT_DIR, experiment_name)\n",
    "mq_psms_df = pd.read_csv(MQ_PERCOLATOR_OUTPUT_FILE_NAME, sep='\\t')\n",
    "mq_psms_df.rename(columns={'scan': 'mq_index'}, inplace=True)\n",
    "# remove the poor quality identifications\n",
    "mq_psms_df = mq_psms_df[mq_psms_df['peptide mass'] > 0]"
   ]
  },
  {
   "cell_type": "code",
   "execution_count": 6,
   "metadata": {},
   "outputs": [],
   "source": [
    "mq_sequences_l = []\n",
    "for group_name,group_df in mq_psms_df.groupby(['sequence','charge'], as_index=False):\n",
    "    if group_df['percolator q-value'].min() <= MAXIMUM_Q_VALUE:\n",
    "        mq_index = group_df.loc[group_df['percolator q-value'].idxmin()].mq_index\n",
    "        mq_sequences_l.append({'sequence_key':'{}-{}'.format(group_name[0], group_name[1]), 'mq_index':mq_index})\n",
    "mq_sequences_df = pd.DataFrame(mq_sequences_l)"
   ]
  },
  {
   "cell_type": "code",
   "execution_count": 7,
   "metadata": {},
   "outputs": [
    {
     "data": {
      "text/html": [
       "<div>\n",
       "<style scoped>\n",
       "    .dataframe tbody tr th:only-of-type {\n",
       "        vertical-align: middle;\n",
       "    }\n",
       "\n",
       "    .dataframe tbody tr th {\n",
       "        vertical-align: top;\n",
       "    }\n",
       "\n",
       "    .dataframe thead th {\n",
       "        text-align: right;\n",
       "    }\n",
       "</style>\n",
       "<table border=\"1\" class=\"dataframe\">\n",
       "  <thead>\n",
       "    <tr style=\"text-align: right;\">\n",
       "      <th></th>\n",
       "      <th>sequence_key</th>\n",
       "      <th>mq_index</th>\n",
       "    </tr>\n",
       "  </thead>\n",
       "  <tbody>\n",
       "    <tr>\n",
       "      <th>1849</th>\n",
       "      <td>FISEQLSQSGFHDIK-2</td>\n",
       "      <td>10342</td>\n",
       "    </tr>\n",
       "    <tr>\n",
       "      <th>1543</th>\n",
       "      <td>EQFSDGVGYSWIDGLK-2</td>\n",
       "      <td>11879</td>\n",
       "    </tr>\n",
       "    <tr>\n",
       "      <th>4487</th>\n",
       "      <td>MQEAMTQEVSDVFSDTTTPIK-2</td>\n",
       "      <td>20563</td>\n",
       "    </tr>\n",
       "  </tbody>\n",
       "</table>\n",
       "</div>"
      ],
      "text/plain": [
       "                 sequence_key  mq_index\n",
       "1849        FISEQLSQSGFHDIK-2     10342\n",
       "1543       EQFSDGVGYSWIDGLK-2     11879\n",
       "4487  MQEAMTQEVSDVFSDTTTPIK-2     20563"
      ]
     },
     "execution_count": 7,
     "metadata": {},
     "output_type": "execute_result"
    }
   ],
   "source": [
    "mq_sequences_df.sample(n=3)"
   ]
  },
  {
   "cell_type": "code",
   "execution_count": 8,
   "metadata": {},
   "outputs": [],
   "source": [
    "# load my identifications\n",
    "BASE_DIR = '{}/P3856-results-cs-true-fmdw-true-2021-04-24-19-58-32'.format(expanduser('~'))\n",
    "IDENTS_DIR = '{}/identifications-{}'.format(BASE_DIR, precursor_definition_method)\n",
    "IDENTS_NAME = '{}/exp-{}-identifications-{}-recalibrated.pkl'.format(IDENTS_DIR, experiment_name, precursor_definition_method)"
   ]
  },
  {
   "cell_type": "code",
   "execution_count": 9,
   "metadata": {},
   "outputs": [],
   "source": [
    "identifications_before_unique_df = pd.read_pickle(IDENTS_NAME)['identifications_df']"
   ]
  },
  {
   "cell_type": "code",
   "execution_count": 22,
   "metadata": {},
   "outputs": [],
   "source": [
    "sequences_l = []\n",
    "for group_name,group_df in identifications_before_unique_df.groupby(['sequence','charge'], as_index=False):\n",
    "    if group_df['percolator q-value'].min() <= MAXIMUM_Q_VALUE:\n",
    "        feature_id = group_df.loc[group_df['percolator q-value'].idxmin()].feature_id\n",
    "        sequences_l.append({'sequence_key':'{}-{}'.format(group_name[0], group_name[1]), 'feature_id':int(feature_id)})\n",
    "sequences_df = pd.DataFrame(sequences_l)"
   ]
  },
  {
   "cell_type": "code",
   "execution_count": 23,
   "metadata": {},
   "outputs": [
    {
     "data": {
      "text/html": [
       "<div>\n",
       "<style scoped>\n",
       "    .dataframe tbody tr th:only-of-type {\n",
       "        vertical-align: middle;\n",
       "    }\n",
       "\n",
       "    .dataframe tbody tr th {\n",
       "        vertical-align: top;\n",
       "    }\n",
       "\n",
       "    .dataframe thead th {\n",
       "        text-align: right;\n",
       "    }\n",
       "</style>\n",
       "<table border=\"1\" class=\"dataframe\">\n",
       "  <thead>\n",
       "    <tr style=\"text-align: right;\">\n",
       "      <th></th>\n",
       "      <th>sequence_key</th>\n",
       "      <th>feature_id</th>\n",
       "    </tr>\n",
       "  </thead>\n",
       "  <tbody>\n",
       "    <tr>\n",
       "      <th>682</th>\n",
       "      <td>DVNAAIATIK-1</td>\n",
       "      <td>1556901</td>\n",
       "    </tr>\n",
       "    <tr>\n",
       "      <th>1742</th>\n",
       "      <td>IATDPFVGNLTFFR-2</td>\n",
       "      <td>4240803</td>\n",
       "    </tr>\n",
       "    <tr>\n",
       "      <th>701</th>\n",
       "      <td>DYGTDTILQDFHYDEKPLIAK-3</td>\n",
       "      <td>3080501</td>\n",
       "    </tr>\n",
       "  </tbody>\n",
       "</table>\n",
       "</div>"
      ],
      "text/plain": [
       "                 sequence_key  feature_id\n",
       "682              DVNAAIATIK-1     1556901\n",
       "1742         IATDPFVGNLTFFR-2     4240803\n",
       "701   DYGTDTILQDFHYDEKPLIAK-3     3080501"
      ]
     },
     "execution_count": 23,
     "metadata": {},
     "output_type": "execute_result"
    }
   ],
   "source": [
    "sequences_df.sample(n=3)"
   ]
  },
  {
   "cell_type": "code",
   "execution_count": 24,
   "metadata": {},
   "outputs": [],
   "source": [
    "common_df = pd.merge(mq_sequences_df, sequences_df, how='left', left_on=['sequence_key'], right_on=['sequence_key'])"
   ]
  },
  {
   "cell_type": "code",
   "execution_count": 25,
   "metadata": {},
   "outputs": [
    {
     "data": {
      "text/html": [
       "<div>\n",
       "<style scoped>\n",
       "    .dataframe tbody tr th:only-of-type {\n",
       "        vertical-align: middle;\n",
       "    }\n",
       "\n",
       "    .dataframe tbody tr th {\n",
       "        vertical-align: top;\n",
       "    }\n",
       "\n",
       "    .dataframe thead th {\n",
       "        text-align: right;\n",
       "    }\n",
       "</style>\n",
       "<table border=\"1\" class=\"dataframe\">\n",
       "  <thead>\n",
       "    <tr style=\"text-align: right;\">\n",
       "      <th></th>\n",
       "      <th>sequence_key</th>\n",
       "      <th>mq_index</th>\n",
       "      <th>feature_id</th>\n",
       "    </tr>\n",
       "  </thead>\n",
       "  <tbody>\n",
       "    <tr>\n",
       "      <th>4569</th>\n",
       "      <td>NAAFGQSGGAGSDSNSPGNVQPNSAPSVESHPVLEK-3</td>\n",
       "      <td>23121</td>\n",
       "      <td>NaN</td>\n",
       "    </tr>\n",
       "    <tr>\n",
       "      <th>6815</th>\n",
       "      <td>VNVTSAEGLQSVLETNLGPK-2</td>\n",
       "      <td>17107</td>\n",
       "      <td>NaN</td>\n",
       "    </tr>\n",
       "    <tr>\n",
       "      <th>2802</th>\n",
       "      <td>HVDENDTLYSLVSR-2</td>\n",
       "      <td>8321</td>\n",
       "      <td>NaN</td>\n",
       "    </tr>\n",
       "    <tr>\n",
       "      <th>7212</th>\n",
       "      <td>YFTLGLPTGSTPLGCYK-2</td>\n",
       "      <td>13551</td>\n",
       "      <td>3599007.0</td>\n",
       "    </tr>\n",
       "    <tr>\n",
       "      <th>5059</th>\n",
       "      <td>QITQVYGFYDECQTK-2</td>\n",
       "      <td>13651</td>\n",
       "      <td>NaN</td>\n",
       "    </tr>\n",
       "  </tbody>\n",
       "</table>\n",
       "</div>"
      ],
      "text/plain": [
       "                                sequence_key  mq_index  feature_id\n",
       "4569  NAAFGQSGGAGSDSNSPGNVQPNSAPSVESHPVLEK-3     23121         NaN\n",
       "6815                  VNVTSAEGLQSVLETNLGPK-2     17107         NaN\n",
       "2802                        HVDENDTLYSLVSR-2      8321         NaN\n",
       "7212                     YFTLGLPTGSTPLGCYK-2     13551   3599007.0\n",
       "5059                       QITQVYGFYDECQTK-2     13651         NaN"
      ]
     },
     "execution_count": 25,
     "metadata": {},
     "output_type": "execute_result"
    }
   ],
   "source": [
    "common_df.sample(n=5)"
   ]
  },
  {
   "cell_type": "code",
   "execution_count": 27,
   "metadata": {},
   "outputs": [
    {
     "data": {
      "text/html": [
       "<div>\n",
       "<style scoped>\n",
       "    .dataframe tbody tr th:only-of-type {\n",
       "        vertical-align: middle;\n",
       "    }\n",
       "\n",
       "    .dataframe tbody tr th {\n",
       "        vertical-align: top;\n",
       "    }\n",
       "\n",
       "    .dataframe thead th {\n",
       "        text-align: right;\n",
       "    }\n",
       "</style>\n",
       "<table border=\"1\" class=\"dataframe\">\n",
       "  <thead>\n",
       "    <tr style=\"text-align: right;\">\n",
       "      <th></th>\n",
       "      <th>sequence_key</th>\n",
       "      <th>mq_index</th>\n",
       "      <th>feature_id</th>\n",
       "    </tr>\n",
       "  </thead>\n",
       "  <tbody>\n",
       "    <tr>\n",
       "      <th>563</th>\n",
       "      <td>AVLPLLDAQQPCYLLYR-2</td>\n",
       "      <td>16715</td>\n",
       "      <td>NaN</td>\n",
       "    </tr>\n",
       "    <tr>\n",
       "      <th>1984</th>\n",
       "      <td>FSNTGEDWYVLVGVAK-2</td>\n",
       "      <td>11514</td>\n",
       "      <td>NaN</td>\n",
       "    </tr>\n",
       "    <tr>\n",
       "      <th>2017</th>\n",
       "      <td>FVADGDIGSGSVIIKPFVDMEHPETSIK-4</td>\n",
       "      <td>22460</td>\n",
       "      <td>NaN</td>\n",
       "    </tr>\n",
       "    <tr>\n",
       "      <th>235</th>\n",
       "      <td>AIGVQNAYFPMFVSSR-2</td>\n",
       "      <td>11547</td>\n",
       "      <td>NaN</td>\n",
       "    </tr>\n",
       "  </tbody>\n",
       "</table>\n",
       "</div>"
      ],
      "text/plain": [
       "                        sequence_key  mq_index  feature_id\n",
       "563              AVLPLLDAQQPCYLLYR-2     16715         NaN\n",
       "1984              FSNTGEDWYVLVGVAK-2     11514         NaN\n",
       "2017  FVADGDIGSGSVIIKPFVDMEHPETSIK-4     22460         NaN\n",
       "235               AIGVQNAYFPMFVSSR-2     11547         NaN"
      ]
     },
     "execution_count": 27,
     "metadata": {},
     "output_type": "execute_result"
    }
   ],
   "source": [
    "common_df[common_df.feature_id.isnull()].sample(n=4)"
   ]
  },
  {
   "cell_type": "code",
   "execution_count": null,
   "metadata": {},
   "outputs": [],
   "source": []
  }
 ],
 "metadata": {
  "kernelspec": {
   "display_name": "Python 3",
   "language": "python",
   "name": "python3"
  },
  "language_info": {
   "codemirror_mode": {
    "name": "ipython",
    "version": 3
   },
   "file_extension": ".py",
   "mimetype": "text/x-python",
   "name": "python",
   "nbconvert_exporter": "python",
   "pygments_lexer": "ipython3",
   "version": "3.8.5"
  }
 },
 "nbformat": 4,
 "nbformat_minor": 4
}
