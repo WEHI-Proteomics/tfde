{
 "cells": [
  {
   "cell_type": "code",
   "execution_count": 2,
   "metadata": {},
   "outputs": [],
   "source": [
    "steps = ['convert_instrument_db','cluster_detect_ms1','feature_detect_ms1',\n",
    "                    'feature_region_ms2_peak_detect','feature_region_ms1_peak_detect',\n",
    "                    'match_precursor_ms2_peaks','correlate_peaks','recombine_feature_databases',\n",
    "                    'deconvolve_ms2_spectra','create_search_mgf']"
   ]
  },
  {
   "cell_type": "code",
   "execution_count": 3,
   "metadata": {},
   "outputs": [
    {
     "data": {
      "text/plain": [
       "'feature_detect_ms1'"
      ]
     },
     "execution_count": 3,
     "metadata": {},
     "output_type": "execute_result"
    }
   ],
   "source": [
    "steps[2]"
   ]
  },
  {
   "cell_type": "code",
   "execution_count": 17,
   "metadata": {},
   "outputs": [],
   "source": [
    "processing_steps = {j:i for i,j in enumerate(steps)}"
   ]
  },
  {
   "cell_type": "code",
   "execution_count": 18,
   "metadata": {},
   "outputs": [
    {
     "data": {
      "text/plain": [
       "{'cluster_detect_ms1': 1,\n",
       " 'convert_instrument_db': 0,\n",
       " 'correlate_peaks': 6,\n",
       " 'create_search_mgf': 9,\n",
       " 'deconvolve_ms2_spectra': 8,\n",
       " 'feature_detect_ms1': 2,\n",
       " 'feature_region_ms1_peak_detect': 4,\n",
       " 'feature_region_ms2_peak_detect': 3,\n",
       " 'match_precursor_ms2_peaks': 5,\n",
       " 'recombine_feature_databases': 7}"
      ]
     },
     "execution_count": 18,
     "metadata": {},
     "output_type": "execute_result"
    }
   ],
   "source": [
    "processing_steps"
   ]
  },
  {
   "cell_type": "code",
   "execution_count": 19,
   "metadata": {},
   "outputs": [
    {
     "data": {
      "text/plain": [
       "2"
      ]
     },
     "execution_count": 19,
     "metadata": {},
     "output_type": "execute_result"
    }
   ],
   "source": [
    "steps_d['feature_detect_ms1']"
   ]
  },
  {
   "cell_type": "code",
   "execution_count": 20,
   "metadata": {},
   "outputs": [
    {
     "data": {
      "text/plain": [
       "True"
      ]
     },
     "execution_count": 20,
     "metadata": {},
     "output_type": "execute_result"
    }
   ],
   "source": [
    "steps_d['feature_detect_ms1'] > steps_d['cluster_detect_ms1']"
   ]
  },
  {
   "cell_type": "code",
   "execution_count": 21,
   "metadata": {},
   "outputs": [],
   "source": [
    "def process_this_step(op_arg, continue_flag, this_step):\n",
    "    result = ((op_arg == 'all') or (op_arg == this_step) or \n",
    "        ((continue_flag == True) and (processing_steps[this_step] > processing_steps[op_arg])))\n",
    "    return result"
   ]
  },
  {
   "cell_type": "code",
   "execution_count": 31,
   "metadata": {},
   "outputs": [
    {
     "data": {
      "text/plain": [
       "False"
      ]
     },
     "execution_count": 31,
     "metadata": {},
     "output_type": "execute_result"
    }
   ],
   "source": [
    "process_this_step(op_arg='match_precursor_ms2_peaks', continue_flag=True, this_step='feature_region_ms1_peak_detect')"
   ]
  },
  {
   "cell_type": "code",
   "execution_count": 33,
   "metadata": {},
   "outputs": [],
   "source": [
    "def continue_processing(op_arg, continue_flag):\n",
    "    result = ((op_arg == 'all') or (continue_flag == True))\n",
    "    return result"
   ]
  },
  {
   "cell_type": "code",
   "execution_count": 37,
   "metadata": {},
   "outputs": [
    {
     "data": {
      "text/plain": [
       "False"
      ]
     },
     "execution_count": 37,
     "metadata": {},
     "output_type": "execute_result"
    }
   ],
   "source": [
    "continue_processing('correlate_peaks', False)"
   ]
  },
  {
   "cell_type": "code",
   "execution_count": null,
   "metadata": {},
   "outputs": [],
   "source": []
  }
 ],
 "metadata": {
  "kernelspec": {
   "display_name": "Python 2",
   "language": "python",
   "name": "python2"
  },
  "language_info": {
   "codemirror_mode": {
    "name": "ipython",
    "version": 2
   },
   "file_extension": ".py",
   "mimetype": "text/x-python",
   "name": "python",
   "nbconvert_exporter": "python",
   "pygments_lexer": "ipython2",
   "version": "2.7.14"
  }
 },
 "nbformat": 4,
 "nbformat_minor": 2
}
