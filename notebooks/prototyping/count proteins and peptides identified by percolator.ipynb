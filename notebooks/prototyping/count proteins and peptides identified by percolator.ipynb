{
 "cells": [
  {
   "cell_type": "code",
   "execution_count": 1,
   "metadata": {},
   "outputs": [],
   "source": [
    "import pandas as pd\n",
    "import numpy as np\n",
    "import os\n"
   ]
  },
  {
   "cell_type": "code",
   "execution_count": 2,
   "metadata": {},
   "outputs": [],
   "source": [
    "PERCOLATOR_PEPTIDES_OUTPUT_FILE = '/Users/darylwilding-mcbride/Downloads/experiments/dwm-test/recalibrated-percolator-output/dwm-test.percolator.target.peptides.txt'\n",
    "PERCOLATOR_PROTEINS_OUTPUT_FILE = '/Users/darylwilding-mcbride/Downloads/experiments/dwm-test/recalibrated-percolator-output/dwm-test.percolator.target.proteins.txt'"
   ]
  },
  {
   "cell_type": "code",
   "execution_count": 3,
   "metadata": {},
   "outputs": [],
   "source": [
    "# count unique identifications\n",
    "MAX_Q_VALUE_FOR_COUNTING_RESULTS = 0.01"
   ]
  },
  {
   "cell_type": "code",
   "execution_count": 4,
   "metadata": {},
   "outputs": [],
   "source": [
    "df = pd.read_csv(PERCOLATOR_PEPTIDES_OUTPUT_FILE, sep='\\t')"
   ]
  },
  {
   "cell_type": "code",
   "execution_count": 5,
   "metadata": {},
   "outputs": [
    {
     "data": {
      "text/plain": [
       "Index(['file_idx', 'scan', 'charge', 'spectrum precursor m/z',\n",
       "       'spectrum neutral mass', 'peptide mass', 'percolator score',\n",
       "       'percolator q-value', 'percolator PEP', 'total matches/spectrum',\n",
       "       'sequence', 'protein id', 'flanking aa'],\n",
       "      dtype='object')"
      ]
     },
     "execution_count": 5,
     "metadata": {},
     "output_type": "execute_result"
    }
   ],
   "source": [
    "df.columns"
   ]
  },
  {
   "cell_type": "code",
   "execution_count": 6,
   "metadata": {},
   "outputs": [
    {
     "name": "stdout",
     "output_type": "stream",
     "text": [
      "there are 17104 peptides (max q-value is 0.01)\n"
     ]
    }
   ],
   "source": [
    "df = df[df['percolator q-value'] <= MAX_Q_VALUE_FOR_COUNTING_RESULTS]\n",
    "print(\"there are {} peptides (max q-value is {})\".format(len(df.sequence.unique()), MAX_Q_VALUE_FOR_COUNTING_RESULTS))"
   ]
  },
  {
   "cell_type": "code",
   "execution_count": 7,
   "metadata": {},
   "outputs": [],
   "source": [
    "df = pd.read_csv(PERCOLATOR_PROTEINS_OUTPUT_FILE, sep='\\t')"
   ]
  },
  {
   "cell_type": "code",
   "execution_count": 8,
   "metadata": {},
   "outputs": [
    {
     "data": {
      "text/plain": [
       "Index(['ProteinId', 'ProteinGroupId', 'q-value', 'posterior_error_prob',\n",
       "       'peptideIds'],\n",
       "      dtype='object')"
      ]
     },
     "execution_count": 8,
     "metadata": {},
     "output_type": "execute_result"
    }
   ],
   "source": [
    "df.columns"
   ]
  },
  {
   "cell_type": "code",
   "execution_count": 9,
   "metadata": {},
   "outputs": [
    {
     "data": {
      "text/html": [
       "<div>\n",
       "<style scoped>\n",
       "    .dataframe tbody tr th:only-of-type {\n",
       "        vertical-align: middle;\n",
       "    }\n",
       "\n",
       "    .dataframe tbody tr th {\n",
       "        vertical-align: top;\n",
       "    }\n",
       "\n",
       "    .dataframe thead th {\n",
       "        text-align: right;\n",
       "    }\n",
       "</style>\n",
       "<table border=\"1\" class=\"dataframe\">\n",
       "  <thead>\n",
       "    <tr style=\"text-align: right;\">\n",
       "      <th></th>\n",
       "      <th>ProteinId</th>\n",
       "      <th>ProteinGroupId</th>\n",
       "      <th>q-value</th>\n",
       "      <th>posterior_error_prob</th>\n",
       "      <th>peptideIds</th>\n",
       "    </tr>\n",
       "  </thead>\n",
       "  <tbody>\n",
       "    <tr>\n",
       "      <th>0</th>\n",
       "      <td>sp|P08729|K2C7_HUMAN</td>\n",
       "      <td>0</td>\n",
       "      <td>0.000196</td>\n",
       "      <td>0.0</td>\n",
       "      <td>LPDIFEAQIAGLR TLNETELTELQSQISDTSVVLSMDNSR GQLE...</td>\n",
       "    </tr>\n",
       "    <tr>\n",
       "      <th>1</th>\n",
       "      <td>sp|P05787|K2C8_HUMAN</td>\n",
       "      <td>1</td>\n",
       "      <td>0.000196</td>\n",
       "      <td>0.0</td>\n",
       "      <td>TTSGYAGGLSSAYGGLTSPGLSYSLGSSFGSGAGSSSFSR SNMDN...</td>\n",
       "    </tr>\n",
       "    <tr>\n",
       "      <th>2</th>\n",
       "      <td>sp|P05783|K1C18_HUMAN</td>\n",
       "      <td>2</td>\n",
       "      <td>0.000196</td>\n",
       "      <td>0.0</td>\n",
       "      <td>LLEDGEDFNLGDALDSSNSMQTIQK GGMGSGGLATGIAGGLAGMG...</td>\n",
       "    </tr>\n",
       "    <tr>\n",
       "      <th>3</th>\n",
       "      <td>sp|P13645|K1C10_HUMAN</td>\n",
       "      <td>3</td>\n",
       "      <td>0.000196</td>\n",
       "      <td>0.0</td>\n",
       "      <td>GSSGGGCFGGSSGGYGGLGGFGGGSFR SGGGGGGGGCGGGGGVSS...</td>\n",
       "    </tr>\n",
       "    <tr>\n",
       "      <th>4</th>\n",
       "      <td>sp|Q04695|K1C17_HUMAN</td>\n",
       "      <td>4</td>\n",
       "      <td>0.000196</td>\n",
       "      <td>0.0</td>\n",
       "      <td>LGSAGGLGSTLGGSSYSSCYSFGSGGGYGSSFGGVDGLLAGGEK G...</td>\n",
       "    </tr>\n",
       "  </tbody>\n",
       "</table>\n",
       "</div>"
      ],
      "text/plain": [
       "               ProteinId  ProteinGroupId   q-value  posterior_error_prob  \\\n",
       "0   sp|P08729|K2C7_HUMAN               0  0.000196                   0.0   \n",
       "1   sp|P05787|K2C8_HUMAN               1  0.000196                   0.0   \n",
       "2  sp|P05783|K1C18_HUMAN               2  0.000196                   0.0   \n",
       "3  sp|P13645|K1C10_HUMAN               3  0.000196                   0.0   \n",
       "4  sp|Q04695|K1C17_HUMAN               4  0.000196                   0.0   \n",
       "\n",
       "                                          peptideIds  \n",
       "0  LPDIFEAQIAGLR TLNETELTELQSQISDTSVVLSMDNSR GQLE...  \n",
       "1  TTSGYAGGLSSAYGGLTSPGLSYSLGSSFGSGAGSSSFSR SNMDN...  \n",
       "2  LLEDGEDFNLGDALDSSNSMQTIQK GGMGSGGLATGIAGGLAGMG...  \n",
       "3  GSSGGGCFGGSSGGYGGLGGFGGGSFR SGGGGGGGGCGGGGGVSS...  \n",
       "4  LGSAGGLGSTLGGSSYSSCYSFGSGGGYGSSFGGVDGLLAGGEK G...  "
      ]
     },
     "execution_count": 9,
     "metadata": {},
     "output_type": "execute_result"
    }
   ],
   "source": [
    "df.head()"
   ]
  },
  {
   "cell_type": "code",
   "execution_count": 10,
   "metadata": {},
   "outputs": [
    {
     "name": "stdout",
     "output_type": "stream",
     "text": [
      "there are 4286 proteins (max q-value is 0.01)\n"
     ]
    }
   ],
   "source": [
    "df = df[df['q-value'] <= MAX_Q_VALUE_FOR_COUNTING_RESULTS]\n",
    "print(\"there are {} proteins (max q-value is {})\".format(len(df.ProteinId.unique()), MAX_Q_VALUE_FOR_COUNTING_RESULTS))"
   ]
  },
  {
   "cell_type": "code",
   "execution_count": null,
   "metadata": {},
   "outputs": [],
   "source": []
  }
 ],
 "metadata": {
  "kernelspec": {
   "display_name": "Python 3",
   "language": "python",
   "name": "python3"
  },
  "language_info": {
   "codemirror_mode": {
    "name": "ipython",
    "version": 3
   },
   "file_extension": ".py",
   "mimetype": "text/x-python",
   "name": "python",
   "nbconvert_exporter": "python",
   "pygments_lexer": "ipython3",
   "version": "3.6.8"
  }
 },
 "nbformat": 4,
 "nbformat_minor": 2
}
