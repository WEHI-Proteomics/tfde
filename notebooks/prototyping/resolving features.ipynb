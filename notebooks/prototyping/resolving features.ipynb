{
 "cells": [
  {
   "cell_type": "code",
   "execution_count": 56,
   "metadata": {},
   "outputs": [],
   "source": [
    "import sys\n",
    "import sqlite3\n",
    "import pandas as pd\n",
    "import matplotlib.pyplot as plt\n",
    "import numpy as np\n",
    "import random"
   ]
  },
  {
   "cell_type": "code",
   "execution_count": 216,
   "metadata": {},
   "outputs": [],
   "source": [
    "feature_id = 75"
   ]
  },
  {
   "cell_type": "code",
   "execution_count": 217,
   "metadata": {},
   "outputs": [],
   "source": [
    "RT_LIMIT_LOWER = 4340\n",
    "RT_LIMIT_UPPER = 4580"
   ]
  },
  {
   "cell_type": "code",
   "execution_count": 218,
   "metadata": {},
   "outputs": [],
   "source": [
    "BASE_NAME = \"/home/ubuntu/HeLa_20KInt-rt-{}-{}\".format(RT_LIMIT_LOWER,RT_LIMIT_UPPER)\n",
    "CONVERTED_DATABASE_NAME = '{}/HeLa_20KInt.sqlite'.format(BASE_NAME)\n",
    "SUMMED_REGIONS_DATABASE = '{}/HeLa_20KInt-features-{}-{}.sqlite'.format(BASE_NAME, feature_id, feature_id)"
   ]
  },
  {
   "cell_type": "code",
   "execution_count": 219,
   "metadata": {},
   "outputs": [],
   "source": [
    "def standard_deviation(mz):\n",
    "    instrument_resolution = 40000.0\n",
    "    return ((mz / instrument_resolution) / 2.35482)"
   ]
  },
  {
   "cell_type": "code",
   "execution_count": 220,
   "metadata": {},
   "outputs": [],
   "source": [
    "db_conn = sqlite3.connect(SUMMED_REGIONS_DATABASE)\n",
    "feature_df = pd.read_sql_query(\"select * from feature_list where feature_id = {}\".format(feature_id), db_conn)\n",
    "db_conn.close()"
   ]
  },
  {
   "cell_type": "code",
   "execution_count": 221,
   "metadata": {},
   "outputs": [
    {
     "data": {
      "text/html": [
       "<div>\n",
       "<style scoped>\n",
       "    .dataframe tbody tr th:only-of-type {\n",
       "        vertical-align: middle;\n",
       "    }\n",
       "\n",
       "    .dataframe tbody tr th {\n",
       "        vertical-align: top;\n",
       "    }\n",
       "\n",
       "    .dataframe thead th {\n",
       "        text-align: right;\n",
       "    }\n",
       "</style>\n",
       "<table border=\"1\" class=\"dataframe\">\n",
       "  <thead>\n",
       "    <tr style=\"text-align: right;\">\n",
       "      <th></th>\n",
       "      <th>feature_id</th>\n",
       "      <th>charge_state</th>\n",
       "      <th>monoisotopic_mass</th>\n",
       "      <th>feature_centroid_scan</th>\n",
       "      <th>feature_centroid_rt</th>\n",
       "      <th>feature_centroid_mz</th>\n",
       "      <th>feature_start_rt</th>\n",
       "      <th>feature_end_rt</th>\n",
       "      <th>feature_scan_lower</th>\n",
       "      <th>feature_scan_upper</th>\n",
       "      <th>...</th>\n",
       "      <th>base_peak_scan_lower</th>\n",
       "      <th>base_peak_scan_upper</th>\n",
       "      <th>base_peak_centroid_rt</th>\n",
       "      <th>base_peak_std_dev_rt</th>\n",
       "      <th>base_peak_rt_lower</th>\n",
       "      <th>base_peak_rt_upper</th>\n",
       "      <th>base_peak_centroid_mz</th>\n",
       "      <th>base_peak_std_dev_mz</th>\n",
       "      <th>base_peak_mz_lower</th>\n",
       "      <th>base_peak_mz_upper</th>\n",
       "    </tr>\n",
       "  </thead>\n",
       "  <tbody>\n",
       "    <tr>\n",
       "      <th>0</th>\n",
       "      <td>75</td>\n",
       "      <td>3</td>\n",
       "      <td>1863.910963</td>\n",
       "      <td>711.116403</td>\n",
       "      <td>4437.937657</td>\n",
       "      <td>622.445334</td>\n",
       "      <td>4430.187565</td>\n",
       "      <td>4447.901546</td>\n",
       "      <td>704</td>\n",
       "      <td>724</td>\n",
       "      <td>...</td>\n",
       "      <td>704</td>\n",
       "      <td>724</td>\n",
       "      <td>4437.885545</td>\n",
       "      <td>2.337717</td>\n",
       "      <td>4430.187565</td>\n",
       "      <td>4447.901546</td>\n",
       "      <td>622.311419</td>\n",
       "      <td>0.003398</td>\n",
       "      <td>622.286203</td>\n",
       "      <td>622.345206</td>\n",
       "    </tr>\n",
       "  </tbody>\n",
       "</table>\n",
       "<p>1 rows × 38 columns</p>\n",
       "</div>"
      ],
      "text/plain": [
       "   feature_id  charge_state  monoisotopic_mass  feature_centroid_scan  \\\n",
       "0          75             3        1863.910963             711.116403   \n",
       "\n",
       "   feature_centroid_rt  feature_centroid_mz  feature_start_rt  feature_end_rt  \\\n",
       "0          4437.937657           622.445334       4430.187565     4447.901546   \n",
       "\n",
       "   feature_scan_lower  feature_scan_upper         ...          \\\n",
       "0                 704                 724         ...           \n",
       "\n",
       "   base_peak_scan_lower  base_peak_scan_upper  base_peak_centroid_rt  \\\n",
       "0                   704                   724            4437.885545   \n",
       "\n",
       "   base_peak_std_dev_rt  base_peak_rt_lower  base_peak_rt_upper  \\\n",
       "0              2.337717         4430.187565         4447.901546   \n",
       "\n",
       "   base_peak_centroid_mz  base_peak_std_dev_mz  base_peak_mz_lower  \\\n",
       "0             622.311419              0.003398          622.286203   \n",
       "\n",
       "   base_peak_mz_upper  \n",
       "0          622.345206  \n",
       "\n",
       "[1 rows x 38 columns]"
      ]
     },
     "execution_count": 221,
     "metadata": {},
     "output_type": "execute_result"
    }
   ],
   "source": [
    "feature_df"
   ]
  },
  {
   "cell_type": "code",
   "execution_count": 222,
   "metadata": {},
   "outputs": [],
   "source": [
    "charge_state = feature_df.iloc[0].charge_state"
   ]
  },
  {
   "cell_type": "code",
   "execution_count": 223,
   "metadata": {},
   "outputs": [],
   "source": [
    "db_conn = sqlite3.connect(SUMMED_REGIONS_DATABASE)\n",
    "peaks_df = pd.read_sql_query(\"select * from summed_ms1_regions where feature_id = {} order by peak_id\".format(feature_id), db_conn)\n",
    "peaks_df[\"marker_size\"] = (((np.log(peaks_df.intensity)-5)*2)**2)*4\n",
    "db_conn.close()"
   ]
  },
  {
   "cell_type": "code",
   "execution_count": 224,
   "metadata": {},
   "outputs": [],
   "source": [
    "db_conn = sqlite3.connect(SUMMED_REGIONS_DATABASE)\n",
    "unallocated_points_df = pd.read_sql_query(\"select * from summed_ms1_regions\", db_conn)\n",
    "unallocated_points_df[\"marker_size\"] = (((np.log(unallocated_points_df.intensity)-5)*2)**2)*4\n",
    "db_conn.close()"
   ]
  },
  {
   "cell_type": "code",
   "execution_count": 225,
   "metadata": {},
   "outputs": [
    {
     "data": {
      "text/html": [
       "<div>\n",
       "<style scoped>\n",
       "    .dataframe tbody tr th:only-of-type {\n",
       "        vertical-align: middle;\n",
       "    }\n",
       "\n",
       "    .dataframe tbody tr th {\n",
       "        vertical-align: top;\n",
       "    }\n",
       "\n",
       "    .dataframe thead th {\n",
       "        text-align: right;\n",
       "    }\n",
       "</style>\n",
       "<table border=\"1\" class=\"dataframe\">\n",
       "  <thead>\n",
       "    <tr style=\"text-align: right;\">\n",
       "      <th></th>\n",
       "      <th>feature_id</th>\n",
       "      <th>point_id</th>\n",
       "      <th>mz</th>\n",
       "      <th>retention_time_secs</th>\n",
       "      <th>scan</th>\n",
       "      <th>intensity</th>\n",
       "      <th>number_frames</th>\n",
       "      <th>peak_id</th>\n",
       "      <th>feature_point</th>\n",
       "      <th>marker_size</th>\n",
       "    </tr>\n",
       "  </thead>\n",
       "  <tbody>\n",
       "    <tr>\n",
       "      <th>0</th>\n",
       "      <td>75</td>\n",
       "      <td>1</td>\n",
       "      <td>622.310868</td>\n",
       "      <td>4438.327413</td>\n",
       "      <td>704</td>\n",
       "      <td>46631</td>\n",
       "      <td>3</td>\n",
       "      <td>1</td>\n",
       "      <td>75|1</td>\n",
       "      <td>529.003834</td>\n",
       "    </tr>\n",
       "    <tr>\n",
       "      <th>1</th>\n",
       "      <td>75</td>\n",
       "      <td>2</td>\n",
       "      <td>622.644772</td>\n",
       "      <td>4438.177923</td>\n",
       "      <td>704</td>\n",
       "      <td>26189</td>\n",
       "      <td>2</td>\n",
       "      <td>2</td>\n",
       "      <td>75|2</td>\n",
       "      <td>428.174549</td>\n",
       "    </tr>\n",
       "    <tr>\n",
       "      <th>2</th>\n",
       "      <td>75</td>\n",
       "      <td>3</td>\n",
       "      <td>622.978371</td>\n",
       "      <td>4438.019569</td>\n",
       "      <td>704</td>\n",
       "      <td>9060</td>\n",
       "      <td>2</td>\n",
       "      <td>4</td>\n",
       "      <td>75|3</td>\n",
       "      <td>270.487283</td>\n",
       "    </tr>\n",
       "    <tr>\n",
       "      <th>3</th>\n",
       "      <td>75</td>\n",
       "      <td>4</td>\n",
       "      <td>621.973514</td>\n",
       "      <td>4445.898700</td>\n",
       "      <td>704</td>\n",
       "      <td>708</td>\n",
       "      <td>1</td>\n",
       "      <td>3</td>\n",
       "      <td>75|4</td>\n",
       "      <td>39.059705</td>\n",
       "    </tr>\n",
       "    <tr>\n",
       "      <th>4</th>\n",
       "      <td>75</td>\n",
       "      <td>5</td>\n",
       "      <td>622.310204</td>\n",
       "      <td>4438.067505</td>\n",
       "      <td>705</td>\n",
       "      <td>46839</td>\n",
       "      <td>2</td>\n",
       "      <td>1</td>\n",
       "      <td>75|5</td>\n",
       "      <td>529.823070</td>\n",
       "    </tr>\n",
       "  </tbody>\n",
       "</table>\n",
       "</div>"
      ],
      "text/plain": [
       "   feature_id  point_id          mz  retention_time_secs  scan  intensity  \\\n",
       "0          75         1  622.310868          4438.327413   704      46631   \n",
       "1          75         2  622.644772          4438.177923   704      26189   \n",
       "2          75         3  622.978371          4438.019569   704       9060   \n",
       "3          75         4  621.973514          4445.898700   704        708   \n",
       "4          75         5  622.310204          4438.067505   705      46839   \n",
       "\n",
       "   number_frames  peak_id feature_point  marker_size  \n",
       "0              3        1          75|1   529.003834  \n",
       "1              2        2          75|2   428.174549  \n",
       "2              2        4          75|3   270.487283  \n",
       "3              1        3          75|4    39.059705  \n",
       "4              2        1          75|5   529.823070  "
      ]
     },
     "execution_count": 225,
     "metadata": {},
     "output_type": "execute_result"
    }
   ],
   "source": [
    "unallocated_points_df.head()"
   ]
  },
  {
   "cell_type": "code",
   "execution_count": 226,
   "metadata": {},
   "outputs": [],
   "source": [
    "tableau20 = [(31, 119, 180), (174, 199, 232), (255, 127, 14), (255, 187, 120),  \n",
    "             (44, 160, 44), (152, 223, 138), (214, 39, 40), (255, 152, 150),  \n",
    "             (148, 103, 189), (197, 176, 213), (140, 86, 75), (196, 156, 148),  \n",
    "             (227, 119, 194), (247, 182, 210), (127, 127, 127), (199, 199, 199),  \n",
    "             (188, 189, 34), (219, 219, 141), (23, 190, 207), (158, 218, 229)]\n",
    "# Rescale to values between 0 and 1 \n",
    "for i in range(len(tableau20)):  \n",
    "    r, g, b = tableau20[i]  \n",
    "    tableau20[i] = (r / 255., g / 255., b / 255.)"
   ]
  },
  {
   "cell_type": "code",
   "execution_count": 227,
   "metadata": {},
   "outputs": [
    {
     "data": {
      "image/png": "[encoded data removed]",
      "text/plain": [
       "<Figure size 720x360 with 1 Axes>"
      ]
     },
     "metadata": {
      "needs_background": "light"
     },
     "output_type": "display_data"
    }
   ],
   "source": [
    "fig, ax = plt.subplots()\n",
    "groups = peaks_df.groupby('peak_id')\n",
    "for i, (name, group) in enumerate(groups):\n",
    "    ax.plot(group.scan, group.intensity, color=tableau20[i], label=name)\n",
    "plt.legend(loc='best')\n",
    "plt.xlabel('scan')\n",
    "plt.ylabel('intensity')\n",
    "fig.set_figheight(5)\n",
    "fig.set_figwidth(10)\n",
    "plt.suptitle('Peaks detected in the summed feature region for feature {}'.format(feature_id))\n",
    "plt.margins(0.06)\n",
    "plt.show()"
   ]
  },
  {
   "cell_type": "code",
   "execution_count": 228,
   "metadata": {
    "scrolled": true
   },
   "outputs": [
    {
     "data": {
      "image/png": "[encoded data removed]",
      "text/plain": [
       "<Figure size 720x360 with 1 Axes>"
      ]
     },
     "metadata": {
      "needs_background": "light"
     },
     "output_type": "display_data"
    }
   ],
   "source": [
    "import matplotlib.pyplot as plt\n",
    "import numpy as np\n",
    "\n",
    "# plot the detected peaks\n",
    "fig, ax = plt.subplots()\n",
    "groups = peaks_df.groupby('peak_id')\n",
    "for i, (name, group) in enumerate(groups):\n",
    "    ax.scatter(group.mz, group.intensity, marker='.', color=tableau20[i], s=group.marker_size, label=name)\n",
    "\n",
    "plt.legend(loc='best')\n",
    "plt.xlabel('m/z')\n",
    "plt.ylabel('intensity')\n",
    "fig.set_figheight(5)\n",
    "fig.set_figwidth(10)\n",
    "plt.suptitle('Peaks detected in the summed feature region for feature {}'.format(feature_id))\n",
    "plt.margins(0.06)\n",
    "plt.show()"
   ]
  },
  {
   "cell_type": "code",
   "execution_count": 229,
   "metadata": {},
   "outputs": [
    {
     "data": {
      "image/png": "[encoded data removed]",
      "text/plain": [
       "<Figure size 720x360 with 1 Axes>"
      ]
     },
     "metadata": {
      "needs_background": "light"
     },
     "output_type": "display_data"
    }
   ],
   "source": [
    "import matplotlib.pyplot as plt\n",
    "import numpy as np\n",
    "\n",
    "fig, ax = plt.subplots()\n",
    "\n",
    "# plot the unallocated points\n",
    "ax.scatter(unallocated_points_df.mz, unallocated_points_df.scan, marker='.', color='grey', s=unallocated_points_df.marker_size)\n",
    "\n",
    "# plot the detected peaks\n",
    "groups = peaks_df.groupby('peak_id')\n",
    "for i, (name, group) in enumerate(groups):\n",
    "    for data_point in group.itertuples():\n",
    "        markersize = (((np.log(data_point.intensity)-5)*2)**2)*4\n",
    "        ax.scatter(data_point.mz, data_point.scan, marker='.', color=tableau20[i], s=markersize, label=name)\n",
    "\n",
    "plt.xlabel('m/z')\n",
    "plt.ylabel('scan')\n",
    "plt.gca().invert_yaxis()\n",
    "fig.set_figheight(5)\n",
    "fig.set_figwidth(10)\n",
    "plt.suptitle('Peaks detected in the summed feature region for feature {}'.format(feature_id))\n",
    "plt.margins(0.06)\n",
    "plt.show()"
   ]
  },
  {
   "cell_type": "code",
   "execution_count": 230,
   "metadata": {},
   "outputs": [],
   "source": [
    "def wavg(group, avg_name, weight_name):\n",
    "    \"\"\" http://stackoverflow.com/questions/10951341/pandas-dataframe-aggregate-function-using-multiple-columns\n",
    "    In rare instance, we may not have weights, so just return the mean. Customize this if your business case\n",
    "    should return otherwise.\n",
    "    \"\"\"\n",
    "    d = group[avg_name]\n",
    "    w = group[weight_name]\n",
    "    try:\n",
    "        return (d * w).sum() / w.sum()\n",
    "    except ZeroDivisionError:\n",
    "        return d.mean()"
   ]
  },
  {
   "cell_type": "code",
   "execution_count": 231,
   "metadata": {},
   "outputs": [],
   "source": [
    "mzs = peaks_df.groupby('peak_id').apply(wavg, \"mz\", \"intensity\").reset_index(name='mz_centroid')"
   ]
  },
  {
   "cell_type": "code",
   "execution_count": 232,
   "metadata": {},
   "outputs": [
    {
     "data": {
      "text/html": [
       "<div>\n",
       "<style scoped>\n",
       "    .dataframe tbody tr th:only-of-type {\n",
       "        vertical-align: middle;\n",
       "    }\n",
       "\n",
       "    .dataframe tbody tr th {\n",
       "        vertical-align: top;\n",
       "    }\n",
       "\n",
       "    .dataframe thead th {\n",
       "        text-align: right;\n",
       "    }\n",
       "</style>\n",
       "<table border=\"1\" class=\"dataframe\">\n",
       "  <thead>\n",
       "    <tr style=\"text-align: right;\">\n",
       "      <th></th>\n",
       "      <th>peak_id</th>\n",
       "      <th>mz_centroid</th>\n",
       "    </tr>\n",
       "  </thead>\n",
       "  <tbody>\n",
       "    <tr>\n",
       "      <th>0</th>\n",
       "      <td>1</td>\n",
       "      <td>622.311419</td>\n",
       "    </tr>\n",
       "    <tr>\n",
       "      <th>1</th>\n",
       "      <td>2</td>\n",
       "      <td>622.644513</td>\n",
       "    </tr>\n",
       "    <tr>\n",
       "      <th>2</th>\n",
       "      <td>3</td>\n",
       "      <td>621.976040</td>\n",
       "    </tr>\n",
       "    <tr>\n",
       "      <th>3</th>\n",
       "      <td>4</td>\n",
       "      <td>622.978513</td>\n",
       "    </tr>\n",
       "    <tr>\n",
       "      <th>4</th>\n",
       "      <td>5</td>\n",
       "      <td>623.310951</td>\n",
       "    </tr>\n",
       "    <tr>\n",
       "      <th>5</th>\n",
       "      <td>6</td>\n",
       "      <td>623.647588</td>\n",
       "    </tr>\n",
       "  </tbody>\n",
       "</table>\n",
       "</div>"
      ],
      "text/plain": [
       "   peak_id  mz_centroid\n",
       "0        1   622.311419\n",
       "1        2   622.644513\n",
       "2        3   621.976040\n",
       "3        4   622.978513\n",
       "4        5   623.310951\n",
       "5        6   623.647588"
      ]
     },
     "execution_count": 232,
     "metadata": {},
     "output_type": "execute_result"
    }
   ],
   "source": [
    "mzs"
   ]
  },
  {
   "cell_type": "code",
   "execution_count": 233,
   "metadata": {},
   "outputs": [],
   "source": [
    "intensities = peaks_df.groupby('peak_id').intensity.sum().reset_index(name='summed_intensity')"
   ]
  },
  {
   "cell_type": "code",
   "execution_count": 234,
   "metadata": {},
   "outputs": [
    {
     "data": {
      "text/html": [
       "<div>\n",
       "<style scoped>\n",
       "    .dataframe tbody tr th:only-of-type {\n",
       "        vertical-align: middle;\n",
       "    }\n",
       "\n",
       "    .dataframe tbody tr th {\n",
       "        vertical-align: top;\n",
       "    }\n",
       "\n",
       "    .dataframe thead th {\n",
       "        text-align: right;\n",
       "    }\n",
       "</style>\n",
       "<table border=\"1\" class=\"dataframe\">\n",
       "  <thead>\n",
       "    <tr style=\"text-align: right;\">\n",
       "      <th></th>\n",
       "      <th>peak_id</th>\n",
       "      <th>summed_intensity</th>\n",
       "    </tr>\n",
       "  </thead>\n",
       "  <tbody>\n",
       "    <tr>\n",
       "      <th>0</th>\n",
       "      <td>1</td>\n",
       "      <td>738034</td>\n",
       "    </tr>\n",
       "    <tr>\n",
       "      <th>1</th>\n",
       "      <td>2</td>\n",
       "      <td>302867</td>\n",
       "    </tr>\n",
       "    <tr>\n",
       "      <th>2</th>\n",
       "      <td>3</td>\n",
       "      <td>180468</td>\n",
       "    </tr>\n",
       "    <tr>\n",
       "      <th>3</th>\n",
       "      <td>4</td>\n",
       "      <td>58006</td>\n",
       "    </tr>\n",
       "    <tr>\n",
       "      <th>4</th>\n",
       "      <td>5</td>\n",
       "      <td>5657</td>\n",
       "    </tr>\n",
       "    <tr>\n",
       "      <th>5</th>\n",
       "      <td>6</td>\n",
       "      <td>2233</td>\n",
       "    </tr>\n",
       "  </tbody>\n",
       "</table>\n",
       "</div>"
      ],
      "text/plain": [
       "   peak_id  summed_intensity\n",
       "0        1            738034\n",
       "1        2            302867\n",
       "2        3            180468\n",
       "3        4             58006\n",
       "4        5              5657\n",
       "5        6              2233"
      ]
     },
     "execution_count": 234,
     "metadata": {},
     "output_type": "execute_result"
    }
   ],
   "source": [
    "intensities"
   ]
  },
  {
   "cell_type": "code",
   "execution_count": 235,
   "metadata": {},
   "outputs": [],
   "source": [
    "cluster_df = pd.concat([mzs, intensities.summed_intensity], axis=1)"
   ]
  },
  {
   "cell_type": "code",
   "execution_count": 236,
   "metadata": {},
   "outputs": [
    {
     "data": {
      "text/html": [
       "<div>\n",
       "<style scoped>\n",
       "    .dataframe tbody tr th:only-of-type {\n",
       "        vertical-align: middle;\n",
       "    }\n",
       "\n",
       "    .dataframe tbody tr th {\n",
       "        vertical-align: top;\n",
       "    }\n",
       "\n",
       "    .dataframe thead th {\n",
       "        text-align: right;\n",
       "    }\n",
       "</style>\n",
       "<table border=\"1\" class=\"dataframe\">\n",
       "  <thead>\n",
       "    <tr style=\"text-align: right;\">\n",
       "      <th></th>\n",
       "      <th>peak_id</th>\n",
       "      <th>mz_centroid</th>\n",
       "      <th>summed_intensity</th>\n",
       "    </tr>\n",
       "  </thead>\n",
       "  <tbody>\n",
       "    <tr>\n",
       "      <th>0</th>\n",
       "      <td>1</td>\n",
       "      <td>622.311419</td>\n",
       "      <td>738034</td>\n",
       "    </tr>\n",
       "    <tr>\n",
       "      <th>1</th>\n",
       "      <td>2</td>\n",
       "      <td>622.644513</td>\n",
       "      <td>302867</td>\n",
       "    </tr>\n",
       "    <tr>\n",
       "      <th>2</th>\n",
       "      <td>3</td>\n",
       "      <td>621.976040</td>\n",
       "      <td>180468</td>\n",
       "    </tr>\n",
       "    <tr>\n",
       "      <th>3</th>\n",
       "      <td>4</td>\n",
       "      <td>622.978513</td>\n",
       "      <td>58006</td>\n",
       "    </tr>\n",
       "    <tr>\n",
       "      <th>4</th>\n",
       "      <td>5</td>\n",
       "      <td>623.310951</td>\n",
       "      <td>5657</td>\n",
       "    </tr>\n",
       "    <tr>\n",
       "      <th>5</th>\n",
       "      <td>6</td>\n",
       "      <td>623.647588</td>\n",
       "      <td>2233</td>\n",
       "    </tr>\n",
       "  </tbody>\n",
       "</table>\n",
       "</div>"
      ],
      "text/plain": [
       "   peak_id  mz_centroid  summed_intensity\n",
       "0        1   622.311419            738034\n",
       "1        2   622.644513            302867\n",
       "2        3   621.976040            180468\n",
       "3        4   622.978513             58006\n",
       "4        5   623.310951              5657\n",
       "5        6   623.647588              2233"
      ]
     },
     "execution_count": 236,
     "metadata": {},
     "output_type": "execute_result"
    }
   ],
   "source": [
    "cluster_df"
   ]
  },
  {
   "cell_type": "code",
   "execution_count": 237,
   "metadata": {},
   "outputs": [],
   "source": [
    "cluster_df.sort_values(by='mz_centroid', inplace=True)"
   ]
  },
  {
   "cell_type": "code",
   "execution_count": 238,
   "metadata": {},
   "outputs": [
    {
     "data": {
      "text/html": [
       "<div>\n",
       "<style scoped>\n",
       "    .dataframe tbody tr th:only-of-type {\n",
       "        vertical-align: middle;\n",
       "    }\n",
       "\n",
       "    .dataframe tbody tr th {\n",
       "        vertical-align: top;\n",
       "    }\n",
       "\n",
       "    .dataframe thead th {\n",
       "        text-align: right;\n",
       "    }\n",
       "</style>\n",
       "<table border=\"1\" class=\"dataframe\">\n",
       "  <thead>\n",
       "    <tr style=\"text-align: right;\">\n",
       "      <th></th>\n",
       "      <th>peak_id</th>\n",
       "      <th>mz_centroid</th>\n",
       "      <th>summed_intensity</th>\n",
       "    </tr>\n",
       "  </thead>\n",
       "  <tbody>\n",
       "    <tr>\n",
       "      <th>2</th>\n",
       "      <td>3</td>\n",
       "      <td>621.976040</td>\n",
       "      <td>180468</td>\n",
       "    </tr>\n",
       "    <tr>\n",
       "      <th>0</th>\n",
       "      <td>1</td>\n",
       "      <td>622.311419</td>\n",
       "      <td>738034</td>\n",
       "    </tr>\n",
       "    <tr>\n",
       "      <th>1</th>\n",
       "      <td>2</td>\n",
       "      <td>622.644513</td>\n",
       "      <td>302867</td>\n",
       "    </tr>\n",
       "    <tr>\n",
       "      <th>3</th>\n",
       "      <td>4</td>\n",
       "      <td>622.978513</td>\n",
       "      <td>58006</td>\n",
       "    </tr>\n",
       "    <tr>\n",
       "      <th>4</th>\n",
       "      <td>5</td>\n",
       "      <td>623.310951</td>\n",
       "      <td>5657</td>\n",
       "    </tr>\n",
       "    <tr>\n",
       "      <th>5</th>\n",
       "      <td>6</td>\n",
       "      <td>623.647588</td>\n",
       "      <td>2233</td>\n",
       "    </tr>\n",
       "  </tbody>\n",
       "</table>\n",
       "</div>"
      ],
      "text/plain": [
       "   peak_id  mz_centroid  summed_intensity\n",
       "2        3   621.976040            180468\n",
       "0        1   622.311419            738034\n",
       "1        2   622.644513            302867\n",
       "3        4   622.978513             58006\n",
       "4        5   623.310951              5657\n",
       "5        6   623.647588              2233"
      ]
     },
     "execution_count": 238,
     "metadata": {},
     "output_type": "execute_result"
    }
   ],
   "source": [
    "cluster_df"
   ]
  },
  {
   "cell_type": "code",
   "execution_count": 239,
   "metadata": {},
   "outputs": [
    {
     "data": {
      "image/png": "[encoded data removed]",
      "text/plain": [
       "<Figure size 720x360 with 1 Axes>"
      ]
     },
     "metadata": {
      "needs_background": "light"
     },
     "output_type": "display_data"
    }
   ],
   "source": [
    "import matplotlib.pyplot as plt\n",
    "import numpy as np\n",
    "\n",
    "fig, ax = plt.subplots()\n",
    "colors = ['tab:blue', 'tab:orange', 'tab:green', 'tab:red', 'tab:purple', 'tab:brown', 'tab:pink', 'tab:gray', 'tab:olive', 'tab:cyan']\n",
    "ax.stem(cluster_df.mz_centroid, cluster_df.summed_intensity)\n",
    "plt.xlabel('m/z')\n",
    "plt.ylabel('intensity')\n",
    "plt.margins(0.06)\n",
    "fig.set_figheight(5)\n",
    "fig.set_figwidth(10)\n",
    "plt.suptitle('Cluster detected in the summed feature region for feature {}'.format(feature_id))\n",
    "plt.title('Before cleaning up isotopes')\n",
    "plt.show()"
   ]
  },
  {
   "cell_type": "code",
   "execution_count": 240,
   "metadata": {},
   "outputs": [
    {
     "data": {
      "text/html": [
       "<div>\n",
       "<style scoped>\n",
       "    .dataframe tbody tr th:only-of-type {\n",
       "        vertical-align: middle;\n",
       "    }\n",
       "\n",
       "    .dataframe tbody tr th {\n",
       "        vertical-align: top;\n",
       "    }\n",
       "\n",
       "    .dataframe thead th {\n",
       "        text-align: right;\n",
       "    }\n",
       "</style>\n",
       "<table border=\"1\" class=\"dataframe\">\n",
       "  <thead>\n",
       "    <tr style=\"text-align: right;\">\n",
       "      <th></th>\n",
       "      <th>peak_id</th>\n",
       "      <th>mz_centroid</th>\n",
       "      <th>summed_intensity</th>\n",
       "    </tr>\n",
       "  </thead>\n",
       "  <tbody>\n",
       "    <tr>\n",
       "      <th>0</th>\n",
       "      <td>3</td>\n",
       "      <td>621.976040</td>\n",
       "      <td>180468</td>\n",
       "    </tr>\n",
       "    <tr>\n",
       "      <th>1</th>\n",
       "      <td>1</td>\n",
       "      <td>622.311419</td>\n",
       "      <td>738034</td>\n",
       "    </tr>\n",
       "    <tr>\n",
       "      <th>2</th>\n",
       "      <td>2</td>\n",
       "      <td>622.644513</td>\n",
       "      <td>302867</td>\n",
       "    </tr>\n",
       "    <tr>\n",
       "      <th>3</th>\n",
       "      <td>4</td>\n",
       "      <td>622.978513</td>\n",
       "      <td>58006</td>\n",
       "    </tr>\n",
       "    <tr>\n",
       "      <th>4</th>\n",
       "      <td>5</td>\n",
       "      <td>623.310951</td>\n",
       "      <td>5657</td>\n",
       "    </tr>\n",
       "    <tr>\n",
       "      <th>5</th>\n",
       "      <td>6</td>\n",
       "      <td>623.647588</td>\n",
       "      <td>2233</td>\n",
       "    </tr>\n",
       "  </tbody>\n",
       "</table>\n",
       "</div>"
      ],
      "text/plain": [
       "   peak_id  mz_centroid  summed_intensity\n",
       "0        3   621.976040            180468\n",
       "1        1   622.311419            738034\n",
       "2        2   622.644513            302867\n",
       "3        4   622.978513             58006\n",
       "4        5   623.310951              5657\n",
       "5        6   623.647588              2233"
      ]
     },
     "execution_count": 240,
     "metadata": {},
     "output_type": "execute_result"
    }
   ],
   "source": [
    "cluster_df.reset_index(drop=True, inplace=True)\n",
    "base_peak_index = cluster_df.summed_intensity.idxmax()\n",
    "cluster_df"
   ]
  },
  {
   "cell_type": "code",
   "execution_count": 241,
   "metadata": {},
   "outputs": [],
   "source": [
    "DELTA_MZ = 1.003355     # Mass difference between Carbon-12 and Carbon-13 isotopes, in Da. For calculating the spacing between isotopic peaks.\n",
    "PROTON_MASS = 1.007276  # Mass of a proton in unified atomic mass units, or Da. For calculating the monoisotopic mass."
   ]
  },
  {
   "cell_type": "code",
   "execution_count": 242,
   "metadata": {},
   "outputs": [
    {
     "data": {
      "text/plain": [
       "0.33445166666666665"
      ]
     },
     "execution_count": 242,
     "metadata": {},
     "output_type": "execute_result"
    }
   ],
   "source": [
    "expected_spacing = DELTA_MZ / charge_state\n",
    "expected_spacing"
   ]
  },
  {
   "cell_type": "code",
   "execution_count": 243,
   "metadata": {},
   "outputs": [
    {
     "data": {
      "text/plain": [
       "0    0.000927\n",
       "1    0.000000\n",
       "2    0.333094\n",
       "3    0.332642\n",
       "4    0.330629\n",
       "5    0.332813\n",
       "Name: mz_centroid, dtype: float64"
      ]
     },
     "execution_count": 243,
     "metadata": {},
     "output_type": "execute_result"
    }
   ],
   "source": [
    "base_peak_mz = cluster_df.iloc[base_peak_index].mz_centroid\n",
    "spacing_from_base = abs(cluster_df.mz_centroid - base_peak_mz) % expected_spacing\n",
    "spacing_from_base"
   ]
  },
  {
   "cell_type": "code",
   "execution_count": 244,
   "metadata": {},
   "outputs": [
    {
     "data": {
      "text/plain": [
       "622.3114193913376"
      ]
     },
     "execution_count": 244,
     "metadata": {},
     "output_type": "execute_result"
    }
   ],
   "source": [
    "base_peak_mz"
   ]
  },
  {
   "cell_type": "code",
   "execution_count": 245,
   "metadata": {},
   "outputs": [
    {
     "data": {
      "text/plain": [
       "0    False\n",
       "1    False\n",
       "2     True\n",
       "3     True\n",
       "4     True\n",
       "5     True\n",
       "Name: mz_centroid, dtype: bool"
      ]
     },
     "execution_count": 245,
     "metadata": {},
     "output_type": "execute_result"
    }
   ],
   "source": [
    "# drop indices that are not within 4*stddev of an isotope\n",
    "std_dev = standard_deviation(base_peak_mz)\n",
    "close_to_next_isotope = (abs(spacing_from_base - expected_spacing) < (standard_deviation(base_peak_mz) * 4))\n",
    "close_to_next_isotope"
   ]
  },
  {
   "cell_type": "code",
   "execution_count": 246,
   "metadata": {},
   "outputs": [
    {
     "data": {
      "text/plain": [
       "0     True\n",
       "1     True\n",
       "2    False\n",
       "3    False\n",
       "4    False\n",
       "5    False\n",
       "Name: mz_centroid, dtype: bool"
      ]
     },
     "execution_count": 246,
     "metadata": {},
     "output_type": "execute_result"
    }
   ],
   "source": [
    "close_to_this_isotope = spacing_from_base < (standard_deviation(base_peak_mz) * 4)\n",
    "close_to_this_isotope"
   ]
  },
  {
   "cell_type": "code",
   "execution_count": 247,
   "metadata": {},
   "outputs": [
    {
     "data": {
      "text/plain": [
       "0    False\n",
       "1    False\n",
       "2    False\n",
       "3    False\n",
       "4    False\n",
       "5    False\n",
       "Name: mz_centroid, dtype: bool"
      ]
     },
     "execution_count": 247,
     "metadata": {},
     "output_type": "execute_result"
    }
   ],
   "source": [
    "indexes_to_drop = ~(close_to_next_isotope | close_to_this_isotope)\n",
    "indexes_to_drop"
   ]
  },
  {
   "cell_type": "code",
   "execution_count": 248,
   "metadata": {},
   "outputs": [],
   "source": [
    "cluster_df.drop(cluster_df.index[indexes_to_drop], inplace=True)\n",
    "cluster_df.reset_index(drop=True, inplace=True)"
   ]
  },
  {
   "cell_type": "code",
   "execution_count": 249,
   "metadata": {},
   "outputs": [
    {
     "data": {
      "image/png": "[encoded data removed]",
      "text/plain": [
       "<Figure size 720x360 with 1 Axes>"
      ]
     },
     "metadata": {
      "needs_background": "light"
     },
     "output_type": "display_data"
    }
   ],
   "source": [
    "import matplotlib.pyplot as plt\n",
    "import numpy as np\n",
    "\n",
    "fig, ax = plt.subplots()\n",
    "colors = ['tab:blue', 'tab:orange', 'tab:green', 'tab:red', 'tab:purple', 'tab:brown', 'tab:pink', 'tab:gray', 'tab:olive', 'tab:cyan']\n",
    "ax.stem(cluster_df.mz_centroid, cluster_df.summed_intensity)\n",
    "plt.xlabel('m/z')\n",
    "plt.ylabel('intensity')\n",
    "plt.margins(0.06)\n",
    "fig.set_figheight(5)\n",
    "fig.set_figwidth(10)\n",
    "plt.suptitle('Cluster detected in the summed feature region for feature {}'.format(feature_id))\n",
    "plt.title('After cleaning up isotopes')\n",
    "plt.show()"
   ]
  },
  {
   "cell_type": "code",
   "execution_count": 250,
   "metadata": {
    "scrolled": true
   },
   "outputs": [],
   "source": [
    "base_peak_index = cluster_df.summed_intensity.idxmax()\n",
    "base_peak_mz = cluster_df.iloc[base_peak_index].mz_centroid"
   ]
  },
  {
   "cell_type": "code",
   "execution_count": 251,
   "metadata": {},
   "outputs": [
    {
     "data": {
      "text/plain": [
       "0    False\n",
       "1    False\n",
       "2    False\n",
       "3    False\n",
       "4    False\n",
       "5    False\n",
       "Name: mz_centroid, dtype: bool"
      ]
     },
     "execution_count": 251,
     "metadata": {},
     "output_type": "execute_result"
    }
   ],
   "source": [
    "indexes_to_drop = abs(cluster_df.mz_centroid.diff() - expected_spacing) > 0.5\n",
    "indexes_to_drop"
   ]
  },
  {
   "cell_type": "code",
   "execution_count": 252,
   "metadata": {},
   "outputs": [],
   "source": [
    "cluster_df.drop(cluster_df.index[indexes_to_drop], inplace=True)\n",
    "cluster_df.reset_index(drop=True, inplace=True)"
   ]
  },
  {
   "cell_type": "code",
   "execution_count": 253,
   "metadata": {},
   "outputs": [
    {
     "data": {
      "image/png": "[encoded data removed]",
      "text/plain": [
       "<Figure size 720x360 with 1 Axes>"
      ]
     },
     "metadata": {
      "needs_background": "light"
     },
     "output_type": "display_data"
    }
   ],
   "source": [
    "import matplotlib.pyplot as plt\n",
    "import numpy as np\n",
    "\n",
    "fig, ax = plt.subplots()\n",
    "colors = ['tab:blue', 'tab:orange', 'tab:green', 'tab:red', 'tab:purple', 'tab:brown', 'tab:pink', 'tab:gray', 'tab:olive', 'tab:cyan']\n",
    "ax.stem(cluster_df.mz_centroid, cluster_df.summed_intensity)\n",
    "plt.xlabel('m/z')\n",
    "plt.ylabel('intensity')\n",
    "plt.margins(0.06)\n",
    "fig.set_figheight(5)\n",
    "fig.set_figwidth(10)\n",
    "plt.suptitle('Cluster detected in the summed feature region for feature {}'.format(feature_id))\n",
    "plt.title('After checking for gaps beteeen isotopes')\n",
    "plt.show()"
   ]
  },
  {
   "cell_type": "code",
   "execution_count": 254,
   "metadata": {},
   "outputs": [],
   "source": [
    "# From \"A Model-Based Method for the Prediction of the Isotopic Distribution of Peptides\", Dirk Valkenborg, \n",
    "# Ivy Jansen, and Tomasz Burzykowski, J Am Soc Mass Spectrom 2008, 19, 703–712\n",
    "\n",
    "MAX_NUMBER_OF_SULPHUR_ATOMS = 3\n",
    "MAX_NUMBER_OF_PREDICTED_RATIOS = 6\n",
    "\n",
    "S0_r = np.empty(MAX_NUMBER_OF_PREDICTED_RATIOS+1, dtype=object)\n",
    "S0_r[1] = [-0.00142320578040, 0.53158267080224, 0.00572776591574, -0.00040226083326, -0.00007968737684]\n",
    "S0_r[2] = [0.06258138406507, 0.24252967352808, 0.01729736525102, -0.00427641490976, 0.00038011211412]\n",
    "S0_r[3] = [0.03092092306220, 0.22353930450345, -0.02630395501009, 0.00728183023772, -0.00073155573939]\n",
    "S0_r[4] = [-0.02490747037406, 0.26363266501679, -0.07330346656184, 0.01876886839392, -0.00176688757979]\n",
    "S0_r[5] = [-0.19423148776489, 0.45952477474223, -0.18163820209523, 0.04173579115885, -0.00355426505742]\n",
    "S0_r[6] = [0.04574408690798, -0.05092121193598, 0.13874539944789, -0.04344815868749, 0.00449747222180]\n",
    "\n",
    "S1_r = np.empty(MAX_NUMBER_OF_PREDICTED_RATIOS+1, dtype=object)\n",
    "S1_r[1] = [-0.01040584267474, 0.53121149663696, 0.00576913817747, -0.00039325152252, -0.00007954180489]\n",
    "S1_r[2] = [0.37339166598255, -0.15814640001919, 0.24085046064819, -0.06068695741919, 0.00563606634601]\n",
    "S1_r[3] = [0.06969331604484, 0.28154425636993, -0.08121643989151, 0.02372741957255, -0.00238998426027]\n",
    "S1_r[4] = [0.04462649178239, 0.23204790123388, -0.06083969521863, 0.01564282892512, -0.00145145206815]\n",
    "S1_r[5] = [-0.20727547407753, 0.53536509500863, -0.22521649838170, 0.05180965157326, -0.00439750995163]\n",
    "S1_r[6] = [0.27169670700251, -0.37192045082925, 0.31939855191976, -0.08668833166842, 0.00822975581940]\n",
    "\n",
    "S2_r = np.empty(MAX_NUMBER_OF_PREDICTED_RATIOS+1, dtype=object)\n",
    "S2_r[1] = [-0.01937823810470, 0.53084210514216, 0.00580573751882, -0.00038281138203, -0.00007958217070]\n",
    "S2_r[2] = [0.68496829280011, -0.54558176102022, 0.44926662609767, -0.11154849560657, 0.01023294598884]\n",
    "S2_r[3] = [0.04215807391059, 0.40434195078925, -0.15884974959493, 0.04319968814535, -0.00413693825139]\n",
    "S2_r[4] = [0.14015578207913, 0.14407679007180, -0.01310480312503, 0.00362292256563, -0.00034189078786]\n",
    "S2_r[5] = [-0.02549241716294, 0.32153542852101, -0.11409513283836, 0.02617210469576, -0.00221816103608]\n",
    "S2_r[6] = [-0.14490868030324, 0.33629928307361, -0.08223564735018, 0.01023410734015, -0.00027717589598]\n",
    "\n",
    "model_params = np.empty(MAX_NUMBER_OF_SULPHUR_ATOMS, dtype=object)\n",
    "model_params[0] = S0_r\n",
    "model_params[1] = S1_r\n",
    "model_params[2] = S2_r\n",
    "\n",
    "# Find the ratio of H(peak_number)/H(peak_number-1) for peak_number=1..6\n",
    "# peak_number = 0 refers to the monoisotopic peak\n",
    "# number_of_sulphur = number of sulphur atoms in the molecule\n",
    "def peak_ratio(monoisotopic_mass, peak_number, number_of_sulphur):\n",
    "    ratio = 0.0\n",
    "    if (((1 <= peak_number <= 3) & (((number_of_sulphur == 0) & (498 <= monoisotopic_mass <= 3915)) |\n",
    "                                    ((number_of_sulphur == 1) & (530 <= monoisotopic_mass <= 3947)) |\n",
    "                                    ((number_of_sulphur == 2) & (562 <= monoisotopic_mass <= 3978)))) |\n",
    "       ((peak_number == 4) & (((number_of_sulphur == 0) & (907 <= monoisotopic_mass <= 3915)) |\n",
    "                              ((number_of_sulphur == 1) & (939 <= monoisotopic_mass <= 3947)) |\n",
    "                              ((number_of_sulphur == 2) & (971 <= monoisotopic_mass <= 3978)))) |\n",
    "       ((peak_number == 5) & (((number_of_sulphur == 0) & (1219 <= monoisotopic_mass <= 3915)) |\n",
    "                              ((number_of_sulphur == 1) & (1251 <= monoisotopic_mass <= 3947)) |\n",
    "                              ((number_of_sulphur == 2) & (1283 <= monoisotopic_mass <= 3978)))) |\n",
    "       ((peak_number == 6) & (((number_of_sulphur == 0) & (1559 <= monoisotopic_mass <= 3915)) |\n",
    "                              ((number_of_sulphur == 1) & (1591 <= monoisotopic_mass <= 3947)) |\n",
    "                              ((number_of_sulphur == 2) & (1623 <= monoisotopic_mass <= 3978))))):\n",
    "        beta0 = model_params[number_of_sulphur][peak_number][0]\n",
    "        beta1 = model_params[number_of_sulphur][peak_number][1]\n",
    "        beta2 = model_params[number_of_sulphur][peak_number][2]\n",
    "        beta3 = model_params[number_of_sulphur][peak_number][3]\n",
    "        beta4 = model_params[number_of_sulphur][peak_number][4]\n",
    "        scaled_m = monoisotopic_mass / 1000.0\n",
    "        ratio = beta0 + (beta1*scaled_m) + beta2*(scaled_m**2) + beta3*(scaled_m**3) + beta4*(scaled_m**4)\n",
    "    return ratio\n"
   ]
  },
  {
   "cell_type": "code",
   "execution_count": 255,
   "metadata": {},
   "outputs": [
    {
     "data": {
      "text/plain": [
       "0.80707722607587"
      ]
     },
     "execution_count": 255,
     "metadata": {},
     "output_type": "execute_result"
    }
   ],
   "source": [
    "peak_ratio(1500,1,0)"
   ]
  },
  {
   "cell_type": "code",
   "execution_count": 256,
   "metadata": {},
   "outputs": [
    {
     "data": {
      "text/plain": [
       "1.007276"
      ]
     },
     "execution_count": 256,
     "metadata": {},
     "output_type": "execute_result"
    }
   ],
   "source": [
    "PROTON_MASS"
   ]
  },
  {
   "cell_type": "code",
   "execution_count": 257,
   "metadata": {},
   "outputs": [
    {
     "data": {
      "text/plain": [
       "3.0"
      ]
     },
     "execution_count": 257,
     "metadata": {},
     "output_type": "execute_result"
    }
   ],
   "source": [
    "charge_state"
   ]
  },
  {
   "cell_type": "code",
   "execution_count": 258,
   "metadata": {},
   "outputs": [
    {
     "name": "stdout",
     "output_type": "stream",
     "text": [
      "mono index 0, peak 1, mono mass 1862.90629295, predicted ratio 1.00518286627, actual ratio 4.08955604318\n",
      "mono index 0, peak 2, mono mass 1862.90629295, predicted ratio 0.551351249664, actual ratio 0.410369982955\n",
      "mono index 0, peak 3, mono mass 1862.90629295, predicted ratio 0.394334731429, actual ratio 0.191523011751\n",
      "mono index 0, peak 4, mono mass 1862.90629295, predicted ratio 0.311883600571, actual ratio 0.0975243940282\n",
      "mono index 0, peak 5, mono mass 1862.90629295, predicted ratio 0.258477062171, actual ratio 0.394732190207\n",
      "error - test mono 0, S 0: 9.82382011619\n",
      "mono index 0, peak 1, mono mass 1862.90629295, predicted ratio 0.995712344844, actual ratio 4.08955604318\n",
      "mono index 0, peak 2, mono mass 1862.90629295, predicted ratio 0.590166452756, actual ratio 0.410369982955\n",
      "mono index 0, peak 3, mono mass 1862.90629295, predicted ratio 0.436943568503, actual ratio 0.191523011751\n",
      "mono index 0, peak 4, mono mass 1862.90629295, predicted ratio 0.349421619116, actual ratio 0.0975243940282\n",
      "mono index 0, peak 5, mono mass 1862.90629295, predicted ratio 0.290453798782, actual ratio 0.394732190207\n",
      "error - test mono 0, S 1: 10.0247388871\n",
      "mono index 0, peak 1, mono mass 1862.90629295, predicted ratio 0.986245832804, actual ratio 4.08955604318\n",
      "mono index 0, peak 2, mono mass 1862.90629295, predicted ratio 0.629819618138, actual ratio 0.410369982955\n",
      "mono index 0, peak 3, mono mass 1862.90629295, predicted ratio 0.473598276418, actual ratio 0.191523011751\n",
      "mono index 0, peak 4, mono mass 1862.90629295, predicted ratio 0.382382940028, actual ratio 0.0975243940282\n",
      "mono index 0, peak 5, mono mass 1862.90629295, predicted ratio 0.320029232744, actual ratio 0.394732190207\n",
      "error - test mono 0, S 2: 10.2389537315\n",
      "mono index 1, peak 1, mono mass 1863.91243017, predicted ratio 1.00573289765, actual ratio 0.410369982955\n",
      "mono index 1, peak 2, mono mass 1863.91243017, predicted ratio 0.551625205405, actual ratio 0.191523011751\n",
      "mono index 1, peak 3, mono mass 1863.91243017, predicted ratio 0.394518280692, actual ratio 0.0975243940282\n",
      "mono index 1, peak 4, mono mass 1863.91243017, predicted ratio 0.312024689015, actual ratio 0.394732190207\n",
      "error - test mono 1, S 0: 0.833012488298\n",
      "mono index 1, peak 1, mono mass 1863.91243017, predicted ratio 0.99626225612, actual ratio 0.410369982955\n",
      "mono index 1, peak 2, mono mass 1863.91243017, predicted ratio 0.59042116539, actual ratio 0.191523011751\n",
      "mono index 1, peak 3, mono mass 1863.91243017, predicted ratio 0.437108751437, actual ratio 0.0975243940282\n",
      "mono index 1, peak 4, mono mass 1863.91243017, predicted ratio 0.349553114767, actual ratio 0.394732190207\n",
      "error - test mono 1, S 1: 0.88371788922\n",
      "mono index 1, peak 1, mono mass 1863.91243017, predicted ratio 0.986795618028, actual ratio 0.410369982955\n",
      "mono index 1, peak 2, mono mass 1863.91243017, predicted ratio 0.630052646566, actual ratio 0.191523011751\n",
      "mono index 1, peak 3, mono mass 1863.91243017, predicted ratio 0.473754504194, actual ratio 0.0975243940282\n",
      "mono index 1, peak 4, mono mass 1863.91243017, predicted ratio 0.382507830407, actual ratio 0.394732190207\n",
      "error - test mono 1, S 2: 0.941110465639\n",
      "best mono index: 1, sulphurs 0, monoisotopic mass 1863.91243017, minimum error 0.833012488298\n"
     ]
    }
   ],
   "source": [
    "# find the combination of mono index and sulphurs that gives the smallest total height ratio error\n",
    "minimum_error = sys.float_info.max\n",
    "minimum_error_sulphur = None\n",
    "minimum_error_mono_index = None\n",
    "\n",
    "for test_mono_index in range(0,base_peak_index+1):  # consider moving it up to the base peak (but not beyond)\n",
    "    test_monoisotopic_mass = (cluster_df.loc[test_mono_index].mz_centroid - PROTON_MASS) * charge_state\n",
    "    for sulphur in range(0,MAX_NUMBER_OF_SULPHUR_ATOMS):\n",
    "        # find the total peak height ratio error for the mono in this position with this many sulphur atoms\n",
    "        error = 0\n",
    "        number_of_peaks_to_test = min(MAX_NUMBER_OF_PREDICTED_RATIOS, len(cluster_df)-test_mono_index)\n",
    "        for peak_number in range(1,number_of_peaks_to_test):\n",
    "            predicted_ratio = peak_ratio(test_monoisotopic_mass, peak_number=peak_number, number_of_sulphur=sulphur)\n",
    "            if predicted_ratio > 0:\n",
    "                observed_ratio = cluster_df.loc[test_mono_index+peak_number].summed_intensity / cluster_df.loc[test_mono_index+peak_number-1].summed_intensity\n",
    "                error += (predicted_ratio - observed_ratio)**2 / predicted_ratio\n",
    "            print(\"mono index {}, peak {}, mono mass {}, predicted ratio {}, actual ratio {}\".format(test_mono_index,peak_number,test_monoisotopic_mass,predicted_ratio,observed_ratio))\n",
    "        # if the error for the mono in this position is the lowest so far, record it\n",
    "        if error < minimum_error:\n",
    "            minimum_error = error\n",
    "            minimum_error_sulphur = sulphur\n",
    "            minimum_error_mono_index = test_mono_index\n",
    "        print(\"error - test mono {}, S {}: {}\".format(test_mono_index, sulphur, error))\n",
    "monoisotopic_mass = (cluster_df.loc[minimum_error_mono_index].mz_centroid - PROTON_MASS) * feature_df.loc[0].charge_state\n",
    "print(\"best mono index: {}, sulphurs {}, monoisotopic mass {}, minimum error {}\".format(minimum_error_mono_index, minimum_error_sulphur, monoisotopic_mass, minimum_error))"
   ]
  },
  {
   "cell_type": "code",
   "execution_count": 259,
   "metadata": {},
   "outputs": [],
   "source": [
    "cluster_df = cluster_df.loc[minimum_error_mono_index:].copy()"
   ]
  },
  {
   "cell_type": "code",
   "execution_count": 260,
   "metadata": {},
   "outputs": [],
   "source": [
    "cluster_df.reset_index(drop=True, inplace=True)"
   ]
  },
  {
   "cell_type": "code",
   "execution_count": 261,
   "metadata": {},
   "outputs": [
    {
     "data": {
      "text/html": [
       "<div>\n",
       "<style scoped>\n",
       "    .dataframe tbody tr th:only-of-type {\n",
       "        vertical-align: middle;\n",
       "    }\n",
       "\n",
       "    .dataframe tbody tr th {\n",
       "        vertical-align: top;\n",
       "    }\n",
       "\n",
       "    .dataframe thead th {\n",
       "        text-align: right;\n",
       "    }\n",
       "</style>\n",
       "<table border=\"1\" class=\"dataframe\">\n",
       "  <thead>\n",
       "    <tr style=\"text-align: right;\">\n",
       "      <th></th>\n",
       "      <th>peak_id</th>\n",
       "      <th>mz_centroid</th>\n",
       "      <th>summed_intensity</th>\n",
       "    </tr>\n",
       "  </thead>\n",
       "  <tbody>\n",
       "    <tr>\n",
       "      <th>0</th>\n",
       "      <td>1</td>\n",
       "      <td>622.311419</td>\n",
       "      <td>738034</td>\n",
       "    </tr>\n",
       "    <tr>\n",
       "      <th>1</th>\n",
       "      <td>2</td>\n",
       "      <td>622.644513</td>\n",
       "      <td>302867</td>\n",
       "    </tr>\n",
       "    <tr>\n",
       "      <th>2</th>\n",
       "      <td>4</td>\n",
       "      <td>622.978513</td>\n",
       "      <td>58006</td>\n",
       "    </tr>\n",
       "    <tr>\n",
       "      <th>3</th>\n",
       "      <td>5</td>\n",
       "      <td>623.310951</td>\n",
       "      <td>5657</td>\n",
       "    </tr>\n",
       "    <tr>\n",
       "      <th>4</th>\n",
       "      <td>6</td>\n",
       "      <td>623.647588</td>\n",
       "      <td>2233</td>\n",
       "    </tr>\n",
       "  </tbody>\n",
       "</table>\n",
       "</div>"
      ],
      "text/plain": [
       "   peak_id  mz_centroid  summed_intensity\n",
       "0        1   622.311419            738034\n",
       "1        2   622.644513            302867\n",
       "2        4   622.978513             58006\n",
       "3        5   623.310951              5657\n",
       "4        6   623.647588              2233"
      ]
     },
     "execution_count": 261,
     "metadata": {},
     "output_type": "execute_result"
    }
   ],
   "source": [
    "cluster_df"
   ]
  },
  {
   "cell_type": "code",
   "execution_count": 262,
   "metadata": {},
   "outputs": [
    {
     "data": {
      "image/png": "[encoded data removed]",
      "text/plain": [
       "<Figure size 720x360 with 1 Axes>"
      ]
     },
     "metadata": {
      "needs_background": "light"
     },
     "output_type": "display_data"
    }
   ],
   "source": [
    "import matplotlib.pyplot as plt\n",
    "import numpy as np\n",
    "\n",
    "fig, ax = plt.subplots()\n",
    "colors = ['tab:blue', 'tab:orange', 'tab:green', 'tab:red', 'tab:purple', 'tab:brown', 'tab:pink', 'tab:gray', 'tab:olive', 'tab:cyan']\n",
    "ax.stem(cluster_df.mz_centroid, cluster_df.summed_intensity)\n",
    "plt.xlabel('m/z')\n",
    "plt.ylabel('intensity')\n",
    "plt.margins(0.06)\n",
    "fig.set_figheight(5)\n",
    "fig.set_figwidth(10)\n",
    "plt.suptitle('Cluster detected in the summed feature region for feature {}'.format(feature_id))\n",
    "plt.title('After determining monoisotopic peak')\n",
    "plt.show()"
   ]
  },
  {
   "cell_type": "code",
   "execution_count": 263,
   "metadata": {},
   "outputs": [
    {
     "data": {
      "text/plain": [
       "0.33445166666666665"
      ]
     },
     "execution_count": 263,
     "metadata": {},
     "output_type": "execute_result"
    }
   ],
   "source": [
    "expected_spacing"
   ]
  },
  {
   "cell_type": "code",
   "execution_count": 264,
   "metadata": {},
   "outputs": [],
   "source": [
    "cluster_df['mz_mod'] = cluster_df.mz_centroid - (cluster_df.index*expected_spacing)"
   ]
  },
  {
   "cell_type": "code",
   "execution_count": 265,
   "metadata": {},
   "outputs": [
    {
     "data": {
      "text/html": [
       "<div>\n",
       "<style scoped>\n",
       "    .dataframe tbody tr th:only-of-type {\n",
       "        vertical-align: middle;\n",
       "    }\n",
       "\n",
       "    .dataframe tbody tr th {\n",
       "        vertical-align: top;\n",
       "    }\n",
       "\n",
       "    .dataframe thead th {\n",
       "        text-align: right;\n",
       "    }\n",
       "</style>\n",
       "<table border=\"1\" class=\"dataframe\">\n",
       "  <thead>\n",
       "    <tr style=\"text-align: right;\">\n",
       "      <th></th>\n",
       "      <th>peak_id</th>\n",
       "      <th>mz_centroid</th>\n",
       "      <th>summed_intensity</th>\n",
       "      <th>mz_mod</th>\n",
       "    </tr>\n",
       "  </thead>\n",
       "  <tbody>\n",
       "    <tr>\n",
       "      <th>0</th>\n",
       "      <td>1</td>\n",
       "      <td>622.311419</td>\n",
       "      <td>738034</td>\n",
       "      <td>622.311419</td>\n",
       "    </tr>\n",
       "    <tr>\n",
       "      <th>1</th>\n",
       "      <td>2</td>\n",
       "      <td>622.644513</td>\n",
       "      <td>302867</td>\n",
       "      <td>622.310062</td>\n",
       "    </tr>\n",
       "    <tr>\n",
       "      <th>2</th>\n",
       "      <td>4</td>\n",
       "      <td>622.978513</td>\n",
       "      <td>58006</td>\n",
       "      <td>622.309610</td>\n",
       "    </tr>\n",
       "    <tr>\n",
       "      <th>3</th>\n",
       "      <td>5</td>\n",
       "      <td>623.310951</td>\n",
       "      <td>5657</td>\n",
       "      <td>622.307596</td>\n",
       "    </tr>\n",
       "    <tr>\n",
       "      <th>4</th>\n",
       "      <td>6</td>\n",
       "      <td>623.647588</td>\n",
       "      <td>2233</td>\n",
       "      <td>622.309781</td>\n",
       "    </tr>\n",
       "  </tbody>\n",
       "</table>\n",
       "</div>"
      ],
      "text/plain": [
       "   peak_id  mz_centroid  summed_intensity      mz_mod\n",
       "0        1   622.311419            738034  622.311419\n",
       "1        2   622.644513            302867  622.310062\n",
       "2        4   622.978513             58006  622.309610\n",
       "3        5   623.310951              5657  622.307596\n",
       "4        6   623.647588              2233  622.309781"
      ]
     },
     "execution_count": 265,
     "metadata": {},
     "output_type": "execute_result"
    }
   ],
   "source": [
    "cluster_df"
   ]
  },
  {
   "cell_type": "code",
   "execution_count": 266,
   "metadata": {},
   "outputs": [
    {
     "data": {
      "text/plain": [
       "622.3109301888798"
      ]
     },
     "execution_count": 266,
     "metadata": {},
     "output_type": "execute_result"
    }
   ],
   "source": [
    "cluster_mz_centroid = wavg(cluster_df, \"mz_mod\", \"summed_intensity\")\n",
    "cluster_mz_centroid"
   ]
  },
  {
   "cell_type": "code",
   "execution_count": 267,
   "metadata": {},
   "outputs": [
    {
     "data": {
      "text/plain": [
       "1106797"
      ]
     },
     "execution_count": 267,
     "metadata": {},
     "output_type": "execute_result"
    }
   ],
   "source": [
    "cluster_summed_intensity = cluster_df.summed_intensity.sum()\n",
    "cluster_summed_intensity"
   ]
  },
  {
   "cell_type": "code",
   "execution_count": null,
   "metadata": {},
   "outputs": [],
   "source": [
    "monoisotopic_mass = (cluster_mz_centroid - PROTON_MASS) * charge_state\n",
    "monoisotopic_mass"
   ]
  },
  {
   "cell_type": "code",
   "execution_count": null,
   "metadata": {},
   "outputs": [],
   "source": []
  }
 ],
 "metadata": {
  "kernelspec": {
   "display_name": "Python 3",
   "language": "python",
   "name": "python3"
  },
  "language_info": {
   "codemirror_mode": {
    "name": "ipython",
    "version": 3
   },
   "file_extension": ".py",
   "mimetype": "text/x-python",
   "name": "python",
   "nbconvert_exporter": "python",
   "pygments_lexer": "ipython3",
   "version": "3.6.8"
  }
 },
 "nbformat": 4,
 "nbformat_minor": 4
}
