{
 "cells": [
  {
   "cell_type": "code",
   "execution_count": 2,
   "metadata": {},
   "outputs": [],
   "source": [
    "import pandas as pd\n",
    "import numpy as np\n",
    "import sys\n",
    "import matplotlib.pyplot as plt\n",
    "import matplotlib.patches as patches\n",
    "import json\n",
    "import glob"
   ]
  },
  {
   "cell_type": "code",
   "execution_count": 3,
   "metadata": {},
   "outputs": [],
   "source": [
    "experiment_name = 'P3856'\n",
    "run_name = 'P3856_YHE211_1_Slot1-1_1_5104'\n",
    "experiment_base_dir = '/data2/experiments'\n",
    "EXPERIMENT_DIR = \"{}/{}\".format(experiment_base_dir, experiment_name)"
   ]
  },
  {
   "cell_type": "code",
   "execution_count": 4,
   "metadata": {},
   "outputs": [
    {
     "name": "stdout",
     "output_type": "stream",
     "text": [
      "consolidating the features found in run P3856_YHE211_1_Slot1-1_1_5104\n",
      "found 52411 feature files for the run P3856_YHE211_1_Slot1-1_1_5104\n"
     ]
    }
   ],
   "source": [
    "# go through all the runs in the experiment and gather the features\n",
    "experiment_features_l = []\n",
    "\n",
    "print(\"consolidating the features found in run {}\".format(run_name))\n",
    "features_dir = '{}/features/{}'.format(EXPERIMENT_DIR, run_name)\n",
    "\n",
    "# consolidate the features found in this run\n",
    "run_feature_files = glob.glob(\"{}/exp-{}-run-{}-features-precursor-*.pkl\".format(features_dir, experiment_name, run_name))\n",
    "run_features_l = []\n",
    "print(\"found {} feature files for the run {}\".format(len(run_feature_files), run_name))\n",
    "for file in run_feature_files:\n",
    "    df = pd.read_pickle(file)\n",
    "    run_features_l.append(df)\n",
    "# make a single df from the list of dfs\n",
    "run_features_df = pd.concat(run_features_l, axis=0, sort=False)\n",
    "del run_features_l[:]\n",
    "\n",
    "experiment_features_l.append(run_features_df)"
   ]
  },
  {
   "cell_type": "code",
   "execution_count": 5,
   "metadata": {},
   "outputs": [
    {
     "name": "stdout",
     "output_type": "stream",
     "text": [
      "saving 234877 experiment features to ~/experiment-features.pkl\n"
     ]
    }
   ],
   "source": [
    "# consolidate the features found across the experiment\n",
    "EXPERIMENT_FEATURES_NAME = '~/{}'.format('experiment-features.pkl')\n",
    "experiment_features_df = pd.concat(experiment_features_l, axis=0, sort=False)\n",
    "experiment_features_df.reset_index(drop=True, inplace=True)\n",
    "print(\"saving {} experiment features to {}\".format(len(experiment_features_df), EXPERIMENT_FEATURES_NAME))\n",
    "experiment_features_df.to_pickle(EXPERIMENT_FEATURES_NAME)"
   ]
  },
  {
   "cell_type": "code",
   "execution_count": 6,
   "metadata": {},
   "outputs": [
    {
     "data": {
      "text/plain": [
       "Index(['monoisotopic_mz', 'charge', 'intensity', 'intensity_full_rt_extent',\n",
       "       'scan_apex', 'scan_curve_fit', 'scan_lower', 'scan_upper', 'rt_apex',\n",
       "       'rt_curve_fit', 'rt_lower', 'rt_upper', 'precursor_id', 'envelope',\n",
       "       'feature_id', 'candidate_phr_error', 'mono_adjusted',\n",
       "       'original_phr_error', 'original_phr', 'monoisotopic_mass'],\n",
       "      dtype='object')"
      ]
     },
     "execution_count": 6,
     "metadata": {},
     "output_type": "execute_result"
    }
   ],
   "source": [
    "experiment_features_df.columns"
   ]
  },
  {
   "cell_type": "code",
   "execution_count": 7,
   "metadata": {},
   "outputs": [
    {
     "data": {
      "text/plain": [
       "0.04048501981888392"
      ]
     },
     "execution_count": 7,
     "metadata": {},
     "output_type": "execute_result"
    }
   ],
   "source": [
    "experiment_features_df.mono_adjusted.sum() / len(experiment_features_df)"
   ]
  },
  {
   "cell_type": "code",
   "execution_count": 8,
   "metadata": {},
   "outputs": [
    {
     "data": {
      "text/html": [
       "<div>\n",
       "<style scoped>\n",
       "    .dataframe tbody tr th:only-of-type {\n",
       "        vertical-align: middle;\n",
       "    }\n",
       "\n",
       "    .dataframe tbody tr th {\n",
       "        vertical-align: top;\n",
       "    }\n",
       "\n",
       "    .dataframe thead th {\n",
       "        text-align: right;\n",
       "    }\n",
       "</style>\n",
       "<table border=\"1\" class=\"dataframe\">\n",
       "  <thead>\n",
       "    <tr style=\"text-align: right;\">\n",
       "      <th></th>\n",
       "      <th>monoisotopic_mz</th>\n",
       "      <th>charge</th>\n",
       "      <th>intensity</th>\n",
       "      <th>intensity_full_rt_extent</th>\n",
       "      <th>scan_apex</th>\n",
       "      <th>scan_curve_fit</th>\n",
       "      <th>scan_lower</th>\n",
       "      <th>scan_upper</th>\n",
       "      <th>rt_apex</th>\n",
       "      <th>rt_curve_fit</th>\n",
       "      <th>rt_lower</th>\n",
       "      <th>rt_upper</th>\n",
       "      <th>precursor_id</th>\n",
       "      <th>envelope</th>\n",
       "      <th>feature_id</th>\n",
       "      <th>candidate_phr_error</th>\n",
       "      <th>mono_adjusted</th>\n",
       "      <th>original_phr_error</th>\n",
       "      <th>original_phr</th>\n",
       "      <th>monoisotopic_mass</th>\n",
       "    </tr>\n",
       "  </thead>\n",
       "  <tbody>\n",
       "    <tr>\n",
       "      <th>171429</th>\n",
       "      <td>987.678453</td>\n",
       "      <td>2</td>\n",
       "      <td>1562.420054</td>\n",
       "      <td>488</td>\n",
       "      <td>230.42</td>\n",
       "      <td>False</td>\n",
       "      <td>195.00</td>\n",
       "      <td>270.00</td>\n",
       "      <td>1735.69</td>\n",
       "      <td>False</td>\n",
       "      <td>1725.87</td>\n",
       "      <td>1745.87</td>\n",
       "      <td>13987</td>\n",
       "      <td>[(987.6854194589077, 265.420054200542), (988.1...</td>\n",
       "      <td>1398704</td>\n",
       "      <td>0.0425128</td>\n",
       "      <td>True</td>\n",
       "      <td>1.03494</td>\n",
       "      <td>2.169492</td>\n",
       "      <td>1973.342306</td>\n",
       "    </tr>\n",
       "    <tr>\n",
       "      <th>63064</th>\n",
       "      <td>900.115944</td>\n",
       "      <td>1</td>\n",
       "      <td>2509.833333</td>\n",
       "      <td>1346</td>\n",
       "      <td>365.65</td>\n",
       "      <td>True</td>\n",
       "      <td>323.48</td>\n",
       "      <td>407.82</td>\n",
       "      <td>2285.41</td>\n",
       "      <td>False</td>\n",
       "      <td>2275.76</td>\n",
       "      <td>2296.18</td>\n",
       "      <td>49060</td>\n",
       "      <td>[(900.1176710083373, 1540.8333333333335), (901...</td>\n",
       "      <td>4906006</td>\n",
       "      <td>-0.00227102</td>\n",
       "      <td>True</td>\n",
       "      <td>-0.359912</td>\n",
       "      <td>0.308108</td>\n",
       "      <td>899.108644</td>\n",
       "    </tr>\n",
       "    <tr>\n",
       "      <th>101064</th>\n",
       "      <td>652.829723</td>\n",
       "      <td>2</td>\n",
       "      <td>103644.746722</td>\n",
       "      <td>35610</td>\n",
       "      <td>744.35</td>\n",
       "      <td>True</td>\n",
       "      <td>713.13</td>\n",
       "      <td>775.56</td>\n",
       "      <td>1762.63</td>\n",
       "      <td>True</td>\n",
       "      <td>1758.90</td>\n",
       "      <td>1766.36</td>\n",
       "      <td>15611</td>\n",
       "      <td>[(652.8376552642403, 42137.746722394884), (653...</td>\n",
       "      <td>1561102</td>\n",
       "      <td>0.0238647</td>\n",
       "      <td>True</td>\n",
       "      <td>0.476262</td>\n",
       "      <td>1.034467</td>\n",
       "      <td>1303.644846</td>\n",
       "    </tr>\n",
       "  </tbody>\n",
       "</table>\n",
       "</div>"
      ],
      "text/plain": [
       "        monoisotopic_mz  charge      intensity  intensity_full_rt_extent  \\\n",
       "171429       987.678453       2    1562.420054                       488   \n",
       "63064        900.115944       1    2509.833333                      1346   \n",
       "101064       652.829723       2  103644.746722                     35610   \n",
       "\n",
       "        scan_apex  scan_curve_fit  scan_lower  scan_upper  rt_apex  \\\n",
       "171429     230.42           False      195.00      270.00  1735.69   \n",
       "63064      365.65            True      323.48      407.82  2285.41   \n",
       "101064     744.35            True      713.13      775.56  1762.63   \n",
       "\n",
       "        rt_curve_fit  rt_lower  rt_upper  precursor_id  \\\n",
       "171429         False   1725.87   1745.87         13987   \n",
       "63064          False   2275.76   2296.18         49060   \n",
       "101064          True   1758.90   1766.36         15611   \n",
       "\n",
       "                                                 envelope  feature_id  \\\n",
       "171429  [(987.6854194589077, 265.420054200542), (988.1...     1398704   \n",
       "63064   [(900.1176710083373, 1540.8333333333335), (901...     4906006   \n",
       "101064  [(652.8376552642403, 42137.746722394884), (653...     1561102   \n",
       "\n",
       "       candidate_phr_error  mono_adjusted original_phr_error  original_phr  \\\n",
       "171429           0.0425128           True            1.03494      2.169492   \n",
       "63064          -0.00227102           True          -0.359912      0.308108   \n",
       "101064           0.0238647           True           0.476262      1.034467   \n",
       "\n",
       "        monoisotopic_mass  \n",
       "171429        1973.342306  \n",
       "63064          899.108644  \n",
       "101064        1303.644846  "
      ]
     },
     "execution_count": 8,
     "metadata": {},
     "output_type": "execute_result"
    }
   ],
   "source": [
    "experiment_features_df[(experiment_features_df.mono_adjusted == True)].sample(n=3)"
   ]
  },
  {
   "cell_type": "code",
   "execution_count": 9,
   "metadata": {},
   "outputs": [],
   "source": [
    "# Find the ratio of H(peak_number)/H(peak_number-1) for peak_number=1..6\n",
    "# peak_number = 0 refers to the monoisotopic peak\n",
    "# number_of_sulphur = number of sulphur atoms in the molecule\n",
    "def peak_ratio(monoisotopic_mass, peak_number, number_of_sulphur):\n",
    "    MAX_NUMBER_OF_SULPHUR_ATOMS = 3\n",
    "    MAX_NUMBER_OF_PREDICTED_RATIOS = 6\n",
    "\n",
    "    S0_r = np.empty(MAX_NUMBER_OF_PREDICTED_RATIOS+1, dtype=np.ndarray)\n",
    "    S0_r[1] = np.array([-0.00142320578040, 0.53158267080224, 0.00572776591574, -0.00040226083326, -0.00007968737684])\n",
    "    S0_r[2] = np.array([0.06258138406507, 0.24252967352808, 0.01729736525102, -0.00427641490976, 0.00038011211412])\n",
    "    S0_r[3] = np.array([0.03092092306220, 0.22353930450345, -0.02630395501009, 0.00728183023772, -0.00073155573939])\n",
    "    S0_r[4] = np.array([-0.02490747037406, 0.26363266501679, -0.07330346656184, 0.01876886839392, -0.00176688757979])\n",
    "    S0_r[5] = np.array([-0.19423148776489, 0.45952477474223, -0.18163820209523, 0.04173579115885, -0.00355426505742])\n",
    "    S0_r[6] = np.array([0.04574408690798, -0.05092121193598, 0.13874539944789, -0.04344815868749, 0.00449747222180])\n",
    "\n",
    "    S1_r = np.empty(MAX_NUMBER_OF_PREDICTED_RATIOS+1, dtype=np.ndarray)\n",
    "    S1_r[1] = np.array([-0.01040584267474, 0.53121149663696, 0.00576913817747, -0.00039325152252, -0.00007954180489])\n",
    "    S1_r[2] = np.array([0.37339166598255, -0.15814640001919, 0.24085046064819, -0.06068695741919, 0.00563606634601])\n",
    "    S1_r[3] = np.array([0.06969331604484, 0.28154425636993, -0.08121643989151, 0.02372741957255, -0.00238998426027])\n",
    "    S1_r[4] = np.array([0.04462649178239, 0.23204790123388, -0.06083969521863, 0.01564282892512, -0.00145145206815])\n",
    "    S1_r[5] = np.array([-0.20727547407753, 0.53536509500863, -0.22521649838170, 0.05180965157326, -0.00439750995163])\n",
    "    S1_r[6] = np.array([0.27169670700251, -0.37192045082925, 0.31939855191976, -0.08668833166842, 0.00822975581940])\n",
    "\n",
    "    S2_r = np.empty(MAX_NUMBER_OF_PREDICTED_RATIOS+1, dtype=np.ndarray)\n",
    "    S2_r[1] = np.array([-0.01937823810470, 0.53084210514216, 0.00580573751882, -0.00038281138203, -0.00007958217070])\n",
    "    S2_r[2] = np.array([0.68496829280011, -0.54558176102022, 0.44926662609767, -0.11154849560657, 0.01023294598884])\n",
    "    S2_r[3] = np.array([0.04215807391059, 0.40434195078925, -0.15884974959493, 0.04319968814535, -0.00413693825139])\n",
    "    S2_r[4] = np.array([0.14015578207913, 0.14407679007180, -0.01310480312503, 0.00362292256563, -0.00034189078786])\n",
    "    S2_r[5] = np.array([-0.02549241716294, 0.32153542852101, -0.11409513283836, 0.02617210469576, -0.00221816103608])\n",
    "    S2_r[6] = np.array([-0.14490868030324, 0.33629928307361, -0.08223564735018, 0.01023410734015, -0.00027717589598])\n",
    "\n",
    "    model_params = np.empty(MAX_NUMBER_OF_SULPHUR_ATOMS, dtype=np.ndarray)\n",
    "    model_params[0] = S0_r\n",
    "    model_params[1] = S1_r\n",
    "    model_params[2] = S2_r\n",
    "\n",
    "    ratio = None\n",
    "    if (((1 <= peak_number <= 3) & (((number_of_sulphur == 0) & (498 <= monoisotopic_mass <= 3915)) |\n",
    "                                    ((number_of_sulphur == 1) & (530 <= monoisotopic_mass <= 3947)) |\n",
    "                                    ((number_of_sulphur == 2) & (562 <= monoisotopic_mass <= 3978)))) |\n",
    "       ((peak_number == 4) & (((number_of_sulphur == 0) & (907 <= monoisotopic_mass <= 3915)) |\n",
    "                              ((number_of_sulphur == 1) & (939 <= monoisotopic_mass <= 3947)) |\n",
    "                              ((number_of_sulphur == 2) & (971 <= monoisotopic_mass <= 3978)))) |\n",
    "       ((peak_number == 5) & (((number_of_sulphur == 0) & (1219 <= monoisotopic_mass <= 3915)) |\n",
    "                              ((number_of_sulphur == 1) & (1251 <= monoisotopic_mass <= 3947)) |\n",
    "                              ((number_of_sulphur == 2) & (1283 <= monoisotopic_mass <= 3978)))) |\n",
    "       ((peak_number == 6) & (((number_of_sulphur == 0) & (1559 <= monoisotopic_mass <= 3915)) |\n",
    "                              ((number_of_sulphur == 1) & (1591 <= monoisotopic_mass <= 3947)) |\n",
    "                              ((number_of_sulphur == 2) & (1623 <= monoisotopic_mass <= 3978))))):\n",
    "        beta0 = model_params[number_of_sulphur][peak_number][0]\n",
    "        beta1 = model_params[number_of_sulphur][peak_number][1]\n",
    "        beta2 = model_params[number_of_sulphur][peak_number][2]\n",
    "        beta3 = model_params[number_of_sulphur][peak_number][3]\n",
    "        beta4 = model_params[number_of_sulphur][peak_number][4]\n",
    "        scaled_m = monoisotopic_mass / 1000.0\n",
    "        ratio = beta0 + (beta1*scaled_m) + beta2*(scaled_m**2) + beta3*(scaled_m**3) + beta4*(scaled_m**4)\n",
    "    return ratio\n"
   ]
  },
  {
   "cell_type": "code",
   "execution_count": 10,
   "metadata": {},
   "outputs": [
    {
     "data": {
      "text/plain": [
       "monoisotopic_mz                                                       891.086\n",
       "charge                                                                      2\n",
       "intensity                                                             1006.72\n",
       "intensity_full_rt_extent                                                  832\n",
       "scan_apex                                                              354.42\n",
       "scan_curve_fit                                                           True\n",
       "scan_lower                                                             334.42\n",
       "scan_upper                                                             374.42\n",
       "rt_apex                                                                  1873\n",
       "rt_curve_fit                                                            False\n",
       "rt_lower                                                                 1863\n",
       "rt_upper                                                                 1883\n",
       "precursor_id                                                            22610\n",
       "envelope                    [(891.0968434946863, 115.15937940761637), (891...\n",
       "feature_id                                                            2261006\n",
       "candidate_phr_error                                                -0.0236183\n",
       "mono_adjusted                                                            True\n",
       "original_phr_error                                                     2.4318\n",
       "original_phr                                                           3.2963\n",
       "monoisotopic_mass                                                     1780.16\n",
       "Name: 58961, dtype: object"
      ]
     },
     "execution_count": 10,
     "metadata": {},
     "output_type": "execute_result"
    }
   ],
   "source": [
    "experiment_features_df.loc[58961]"
   ]
  },
  {
   "cell_type": "code",
   "execution_count": 11,
   "metadata": {},
   "outputs": [
    {
     "data": {
      "text/plain": [
       "[(891.0968434946863, 115.15937940761637),\n",
       " (891.5809, 108.00),\n",
       " (892.0974, 356.00),\n",
       " (892.5981, 1.00),\n",
       " (893.0855, 426.56)]"
      ]
     },
     "execution_count": 11,
     "metadata": {},
     "output_type": "execute_result"
    }
   ],
   "source": [
    "experiment_features_df.loc[58961].envelope"
   ]
  },
  {
   "cell_type": "code",
   "execution_count": 12,
   "metadata": {},
   "outputs": [
    {
     "data": {
      "text/plain": [
       "0.9599606045173357"
      ]
     },
     "execution_count": 12,
     "metadata": {},
     "output_type": "execute_result"
    }
   ],
   "source": [
    "peak_ratio(monoisotopic_mass=1780.16, peak_number=1, number_of_sulphur=0)"
   ]
  },
  {
   "cell_type": "code",
   "execution_count": null,
   "metadata": {},
   "outputs": [],
   "source": []
  }
 ],
 "metadata": {
  "kernelspec": {
   "display_name": "Python 3",
   "language": "python",
   "name": "python3"
  }
 },
 "nbformat": 4,
 "nbformat_minor": 2
}
