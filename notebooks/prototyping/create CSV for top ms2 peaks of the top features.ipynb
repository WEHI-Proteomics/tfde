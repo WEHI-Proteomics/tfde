{
 "cells": [
  {
   "cell_type": "code",
   "execution_count": null,
   "metadata": {},
   "outputs": [],
   "source": [
    "import pandas as pd\n",
    "import sqlite3\n",
    "import numpy as np\n",
    "import matplotlib.pyplot as plt\n",
    "import peakutils\n",
    "import json\n",
    "import os"
   ]
  },
  {
   "cell_type": "markdown",
   "metadata": {},
   "source": [
    "Write out the top peaks for the top features"
   ]
  },
  {
   "cell_type": "code",
   "execution_count": null,
   "metadata": {},
   "outputs": [],
   "source": [
    "DB_NAME = '/home/ubuntu/UPS2_allion/UPS2_allion-features-1-1097.sqlite'\n",
    "CONV_DB_NAME = '/home/ubuntu/UPS2_allion/UPS2_allion.sqlite'\n",
    "\n",
    "NUMBER_OF_TOP_FEATURES = 200\n",
    "NUMBER_OF_TOP_PEAKS = 200\n",
    "\n",
    "# get the 200 top-matching ms2 peaks for the top 200 features\n",
    "db_conn = sqlite3.connect(CONV_DB_NAME)\n",
    "top_features_df = pd.read_sql_query(\"select feature_id from features order by feature_id ASC limit {}\".format(NUMBER_OF_TOP_FEATURES), db_conn)\n",
    "db_conn.close()"
   ]
  },
  {
   "cell_type": "code",
   "execution_count": null,
   "metadata": {},
   "outputs": [],
   "source": [
    "db_conn = sqlite3.connect(DB_NAME)\n",
    "filename = \"~/top_peaks.csv\"\n",
    "if os.path.isfile(filename):\n",
    "    os.remove(filename)\n",
    "    \n",
    "for idx in range(len(top_features_df)):\n",
    "    feature_id = top_features_df.loc[idx].feature_id\n",
    "    print(\"feature ID {}\".format(feature_id))\n",
    "    df_1 = pd.read_sql_query(\"select feature_id,peak_id,centroid_mz from ms2_peaks where feature_id || '-' || peak_id in (select feature_id || '-' || ms2_peak_id from peak_correlation where feature_id == {} and abs(rt_distance) <= {} and abs(scan_distance) <= {} order by ms2_peak_id limit {})\".format(feature_id, MAX_RT_DISTANCE, MAX_SCAN_DISTANCE, NUMBER_OF_TOP_PEAKS), db_conn)\n",
    "    df_2 = pd.read_sql_query(\"select * from peak_correlation where feature_id=={} and abs(rt_distance) <= {} and abs(scan_distance) <= {} order by ms2_peak_id limit {}\".format(feature_id, MAX_RT_DISTANCE, MAX_SCAN_DISTANCE, NUMBER_OF_TOP_PEAKS), db_conn)\n",
    "    df = pd.merge(df_1, df_2, left_on=['feature_id','peak_id'], right_on=['feature_id','ms2_peak_id'])\n",
    "    df.drop(['peak_id','correlation'], inplace=True, axis=1)\n",
    "    # write the CSV\n",
    "    if os.path.isfile(filename):\n",
    "        df.to_csv(filename, mode='a', sep=',', index=False, header=False)\n",
    "    else:\n",
    "        df.to_csv(filename, mode='a', sep=',', index=False, header=True)\n",
    "\n",
    "db_conn.close()"
   ]
  }
 ],
 "metadata": {
  "kernelspec": {
   "display_name": "Python 2",
   "language": "python",
   "name": "python2"
  },
  "language_info": {
   "codemirror_mode": {
    "name": "ipython",
    "version": 2
   },
   "file_extension": ".py",
   "mimetype": "text/x-python",
   "name": "python",
   "nbconvert_exporter": "python",
   "pygments_lexer": "ipython2",
   "version": "2.7.15"
  }
 },
 "nbformat": 4,
 "nbformat_minor": 2
}
