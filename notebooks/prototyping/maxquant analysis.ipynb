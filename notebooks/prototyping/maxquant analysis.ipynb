{
 "cells": [
  {
   "cell_type": "code",
   "execution_count": 2,
   "metadata": {},
   "outputs": [],
   "source": [
    "import sqlite3\n",
    "import pandas as pd\n",
    "import matplotlib.pyplot as plt\n",
    "import numpy as np\n",
    "import sys"
   ]
  },
  {
   "cell_type": "code",
   "execution_count": 3,
   "metadata": {},
   "outputs": [],
   "source": [
    "df = pd.read_csv('/Users/darylwilding-mcbride/Downloads/txt/pasefMsmsScans.txt', sep='\\t')"
   ]
  },
  {
   "cell_type": "code",
   "execution_count": 4,
   "metadata": {},
   "outputs": [
    {
     "data": {
      "text/plain": [
       "486938"
      ]
     },
     "execution_count": 4,
     "metadata": {},
     "output_type": "execute_result"
    }
   ],
   "source": [
    "len(df)"
   ]
  },
  {
   "cell_type": "code",
   "execution_count": 6,
   "metadata": {},
   "outputs": [
    {
     "data": {
      "text/html": [
       "<div>\n",
       "<style scoped>\n",
       "    .dataframe tbody tr th:only-of-type {\n",
       "        vertical-align: middle;\n",
       "    }\n",
       "\n",
       "    .dataframe tbody tr th {\n",
       "        vertical-align: top;\n",
       "    }\n",
       "\n",
       "    .dataframe thead th {\n",
       "        text-align: right;\n",
       "    }\n",
       "</style>\n",
       "<table border=\"1\" class=\"dataframe\">\n",
       "  <thead>\n",
       "    <tr style=\"text-align: right;\">\n",
       "      <th></th>\n",
       "      <th>Raw file</th>\n",
       "      <th>Frame</th>\n",
       "      <th>Precursor</th>\n",
       "      <th>IsolationMz</th>\n",
       "      <th>IsolationWidth</th>\n",
       "      <th>ScanNumBegin</th>\n",
       "      <th>ScanNumEnd</th>\n",
       "      <th>CollisionEnergy</th>\n",
       "      <th>Index</th>\n",
       "    </tr>\n",
       "  </thead>\n",
       "  <tbody>\n",
       "    <tr>\n",
       "      <th>486933</th>\n",
       "      <td>HeLa_20KInt_2KIT_Slot1-46_01_1179</td>\n",
       "      <td>64620</td>\n",
       "      <td>238324</td>\n",
       "      <td>304.029311</td>\n",
       "      <td>2.0</td>\n",
       "      <td>772</td>\n",
       "      <td>797</td>\n",
       "      <td>31.92</td>\n",
       "      <td>486933</td>\n",
       "    </tr>\n",
       "    <tr>\n",
       "      <th>486934</th>\n",
       "      <td>HeLa_20KInt_2KIT_Slot1-46_01_1179</td>\n",
       "      <td>64621</td>\n",
       "      <td>238324</td>\n",
       "      <td>304.029311</td>\n",
       "      <td>2.0</td>\n",
       "      <td>772</td>\n",
       "      <td>797</td>\n",
       "      <td>31.92</td>\n",
       "      <td>486934</td>\n",
       "    </tr>\n",
       "    <tr>\n",
       "      <th>486935</th>\n",
       "      <td>HeLa_20KInt_2KIT_Slot1-46_01_1179</td>\n",
       "      <td>64675</td>\n",
       "      <td>238325</td>\n",
       "      <td>524.074231</td>\n",
       "      <td>2.0</td>\n",
       "      <td>558</td>\n",
       "      <td>583</td>\n",
       "      <td>36.96</td>\n",
       "      <td>486935</td>\n",
       "    </tr>\n",
       "    <tr>\n",
       "      <th>486936</th>\n",
       "      <td>HeLa_20KInt_2KIT_Slot1-46_01_1179</td>\n",
       "      <td>64676</td>\n",
       "      <td>238325</td>\n",
       "      <td>524.074231</td>\n",
       "      <td>2.0</td>\n",
       "      <td>558</td>\n",
       "      <td>583</td>\n",
       "      <td>36.96</td>\n",
       "      <td>486936</td>\n",
       "    </tr>\n",
       "    <tr>\n",
       "      <th>486937</th>\n",
       "      <td>HeLa_20KInt_2KIT_Slot1-46_01_1179</td>\n",
       "      <td>64677</td>\n",
       "      <td>238325</td>\n",
       "      <td>524.074231</td>\n",
       "      <td>2.0</td>\n",
       "      <td>558</td>\n",
       "      <td>583</td>\n",
       "      <td>36.96</td>\n",
       "      <td>486937</td>\n",
       "    </tr>\n",
       "  </tbody>\n",
       "</table>\n",
       "</div>"
      ],
      "text/plain": [
       "                                 Raw file  Frame  Precursor  IsolationMz  \\\n",
       "486933  HeLa_20KInt_2KIT_Slot1-46_01_1179  64620     238324   304.029311   \n",
       "486934  HeLa_20KInt_2KIT_Slot1-46_01_1179  64621     238324   304.029311   \n",
       "486935  HeLa_20KInt_2KIT_Slot1-46_01_1179  64675     238325   524.074231   \n",
       "486936  HeLa_20KInt_2KIT_Slot1-46_01_1179  64676     238325   524.074231   \n",
       "486937  HeLa_20KInt_2KIT_Slot1-46_01_1179  64677     238325   524.074231   \n",
       "\n",
       "        IsolationWidth  ScanNumBegin  ScanNumEnd  CollisionEnergy   Index  \n",
       "486933             2.0           772         797            31.92  486933  \n",
       "486934             2.0           772         797            31.92  486934  \n",
       "486935             2.0           558         583            36.96  486935  \n",
       "486936             2.0           558         583            36.96  486936  \n",
       "486937             2.0           558         583            36.96  486937  "
      ]
     },
     "execution_count": 6,
     "metadata": {},
     "output_type": "execute_result"
    }
   ],
   "source": [
    "df.tail()"
   ]
  },
  {
   "cell_type": "code",
   "execution_count": 13,
   "metadata": {},
   "outputs": [],
   "source": [
    "allPeptides_df = pd.read_csv('/Users/darylwilding-mcbride/Downloads/txt/allPeptides.txt', sep='\\t')"
   ]
  },
  {
   "cell_type": "code",
   "execution_count": 14,
   "metadata": {},
   "outputs": [
    {
     "name": "stdout",
     "output_type": "stream",
     "text": [
      "<class 'pandas.core.frame.DataFrame'>\n",
      "RangeIndex: 328862 entries, 0 to 328861\n",
      "Data columns (total 24 columns):\n",
      "Raw file                            328862 non-null object\n",
      "Charge                              328862 non-null int64\n",
      "m/z                                 328862 non-null float64\n",
      "Mass                                328862 non-null float64\n",
      "Resolution                          328478 non-null float64\n",
      "Number of data points               328862 non-null int64\n",
      "Number of frames                    328862 non-null int64\n",
      "Number of isotopic peaks            328862 non-null int64\n",
      "Isotope correlation                 328862 non-null float64\n",
      "Mass fractional part                328862 non-null float64\n",
      "Mass deficit                        328862 non-null float64\n",
      "Retention time                      328862 non-null float64\n",
      "Retention length                    328862 non-null float64\n",
      "Retention length (FWHM)             328862 non-null float64\n",
      "Min frame index                     328862 non-null int64\n",
      "Max frame index                     328862 non-null int64\n",
      "Ion mobility index                  328862 non-null int64\n",
      "Ion mobility index length           328862 non-null int64\n",
      "Ion mobility index length (FWHM)    328862 non-null int64\n",
      "Intensity                           326207 non-null float64\n",
      "Intensities                         0 non-null float64\n",
      "Number of pasef MS/MS               328862 non-null int64\n",
      "Pasef MS/MS IDs                     102081 non-null object\n",
      "MS/MS scan number                   102081 non-null float64\n",
      "dtypes: float64(12), int64(10), object(2)\n",
      "memory usage: 60.2+ MB\n"
     ]
    }
   ],
   "source": [
    "allPeptides_df.info()"
   ]
  },
  {
   "cell_type": "code",
   "execution_count": 30,
   "metadata": {},
   "outputs": [],
   "source": [
    "# find the precursor IDs for the most intense feature\n",
    "precursor_ids = allPeptides_df.iloc[allPeptides_df.Intensity.idxmax()]['Pasef MS/MS IDs'].split(';')"
   ]
  },
  {
   "cell_type": "code",
   "execution_count": 32,
   "metadata": {},
   "outputs": [],
   "source": [
    "precursor_ids = [int(i) for i in precursor_ids]"
   ]
  },
  {
   "cell_type": "code",
   "execution_count": 33,
   "metadata": {},
   "outputs": [
    {
     "data": {
      "text/plain": [
       "[320702,\n",
       " 320713,\n",
       " 320725,\n",
       " 320875,\n",
       " 320898,\n",
       " 320909,\n",
       " 321094,\n",
       " 321332,\n",
       " 321498,\n",
       " 321511,\n",
       " 321538,\n",
       " 321560,\n",
       " 321919,\n",
       " 322153,\n",
       " 322774,\n",
       " 323007,\n",
       " 323334,\n",
       " 323347,\n",
       " 323779,\n",
       " 323793,\n",
       " 328586]"
      ]
     },
     "execution_count": 33,
     "metadata": {},
     "output_type": "execute_result"
    }
   ],
   "source": [
    "precursor_ids"
   ]
  },
  {
   "cell_type": "code",
   "execution_count": 34,
   "metadata": {},
   "outputs": [],
   "source": [
    "feature_isolation_matches_df = pd.read_csv('/Users/darylwilding-mcbride/Downloads/HeLa_20KInt/HeLa_20KInt-feature-isolation-matches.csv')"
   ]
  },
  {
   "cell_type": "code",
   "execution_count": 35,
   "metadata": {},
   "outputs": [
    {
     "data": {
      "text/html": [
       "<div>\n",
       "<style scoped>\n",
       "    .dataframe tbody tr th:only-of-type {\n",
       "        vertical-align: middle;\n",
       "    }\n",
       "\n",
       "    .dataframe tbody tr th {\n",
       "        vertical-align: top;\n",
       "    }\n",
       "\n",
       "    .dataframe thead th {\n",
       "        text-align: right;\n",
       "    }\n",
       "</style>\n",
       "<table border=\"1\" class=\"dataframe\">\n",
       "  <thead>\n",
       "    <tr style=\"text-align: right;\">\n",
       "      <th></th>\n",
       "      <th>feature_id</th>\n",
       "      <th>frame_id</th>\n",
       "      <th>precursor_id</th>\n",
       "    </tr>\n",
       "  </thead>\n",
       "  <tbody>\n",
       "    <tr>\n",
       "      <th>0</th>\n",
       "      <td>1</td>\n",
       "      <td>37315</td>\n",
       "      <td>131271</td>\n",
       "    </tr>\n",
       "    <tr>\n",
       "      <th>1</th>\n",
       "      <td>1</td>\n",
       "      <td>37381</td>\n",
       "      <td>131594</td>\n",
       "    </tr>\n",
       "    <tr>\n",
       "      <th>2</th>\n",
       "      <td>2</td>\n",
       "      <td>10049</td>\n",
       "      <td>26579</td>\n",
       "    </tr>\n",
       "    <tr>\n",
       "      <th>3</th>\n",
       "      <td>2</td>\n",
       "      <td>10057</td>\n",
       "      <td>26603</td>\n",
       "    </tr>\n",
       "    <tr>\n",
       "      <th>4</th>\n",
       "      <td>2</td>\n",
       "      <td>10079</td>\n",
       "      <td>26683</td>\n",
       "    </tr>\n",
       "  </tbody>\n",
       "</table>\n",
       "</div>"
      ],
      "text/plain": [
       "   feature_id  frame_id  precursor_id\n",
       "0           1     37315        131271\n",
       "1           1     37381        131594\n",
       "2           2     10049         26579\n",
       "3           2     10057         26603\n",
       "4           2     10079         26683"
      ]
     },
     "execution_count": 35,
     "metadata": {},
     "output_type": "execute_result"
    }
   ],
   "source": [
    "feature_isolation_matches_df.head()"
   ]
  },
  {
   "cell_type": "code",
   "execution_count": 44,
   "metadata": {},
   "outputs": [
    {
     "name": "stdout",
     "output_type": "stream",
     "text": [
      "0\n",
      "0\n",
      "0\n",
      "0\n",
      "0\n",
      "0\n",
      "0\n",
      "0\n",
      "0\n",
      "0\n",
      "0\n",
      "0\n",
      "0\n",
      "0\n",
      "0\n",
      "0\n",
      "0\n",
      "0\n",
      "0\n",
      "0\n",
      "0\n"
     ]
    }
   ],
   "source": [
    "# how many of these did I match to a feature?\n",
    "for precursor_id in precursor_ids:\n",
    "    matches = feature_isolation_matches_df[feature_isolation_matches_df.precursor_id == precursor_id]\n",
    "    print(len(matches))"
   ]
  },
  {
   "cell_type": "code",
   "execution_count": 37,
   "metadata": {},
   "outputs": [],
   "source": [
    "isolation_window_df = pd.read_csv(\"/Users/darylwilding-mcbride/Downloads/PasefFrameMsMsInfo.csv\")"
   ]
  },
  {
   "cell_type": "code",
   "execution_count": 38,
   "metadata": {},
   "outputs": [
    {
     "data": {
      "text/html": [
       "<div>\n",
       "<style scoped>\n",
       "    .dataframe tbody tr th:only-of-type {\n",
       "        vertical-align: middle;\n",
       "    }\n",
       "\n",
       "    .dataframe tbody tr th {\n",
       "        vertical-align: top;\n",
       "    }\n",
       "\n",
       "    .dataframe thead th {\n",
       "        text-align: right;\n",
       "    }\n",
       "</style>\n",
       "<table border=\"1\" class=\"dataframe\">\n",
       "  <thead>\n",
       "    <tr style=\"text-align: right;\">\n",
       "      <th></th>\n",
       "      <th>Frame</th>\n",
       "      <th>ScanNumBegin</th>\n",
       "      <th>ScanNumEnd</th>\n",
       "      <th>IsolationMz</th>\n",
       "      <th>IsolationWidth</th>\n",
       "      <th>CollisionEnergy</th>\n",
       "      <th>Precursor</th>\n",
       "    </tr>\n",
       "  </thead>\n",
       "  <tbody>\n",
       "    <tr>\n",
       "      <th>0</th>\n",
       "      <td>3</td>\n",
       "      <td>507</td>\n",
       "      <td>532</td>\n",
       "      <td>742.744835</td>\n",
       "      <td>2.427448</td>\n",
       "      <td>36.96</td>\n",
       "      <td>1</td>\n",
       "    </tr>\n",
       "    <tr>\n",
       "      <th>1</th>\n",
       "      <td>3</td>\n",
       "      <td>549</td>\n",
       "      <td>574</td>\n",
       "      <td>709.235759</td>\n",
       "      <td>2.092358</td>\n",
       "      <td>36.96</td>\n",
       "      <td>2</td>\n",
       "    </tr>\n",
       "    <tr>\n",
       "      <th>2</th>\n",
       "      <td>3</td>\n",
       "      <td>602</td>\n",
       "      <td>627</td>\n",
       "      <td>594.235088</td>\n",
       "      <td>2.000000</td>\n",
       "      <td>36.96</td>\n",
       "      <td>3</td>\n",
       "    </tr>\n",
       "    <tr>\n",
       "      <th>3</th>\n",
       "      <td>3</td>\n",
       "      <td>643</td>\n",
       "      <td>668</td>\n",
       "      <td>503.527768</td>\n",
       "      <td>2.000000</td>\n",
       "      <td>36.96</td>\n",
       "      <td>4</td>\n",
       "    </tr>\n",
       "    <tr>\n",
       "      <th>4</th>\n",
       "      <td>3</td>\n",
       "      <td>684</td>\n",
       "      <td>709</td>\n",
       "      <td>552.063870</td>\n",
       "      <td>2.000000</td>\n",
       "      <td>31.92</td>\n",
       "      <td>5</td>\n",
       "    </tr>\n",
       "  </tbody>\n",
       "</table>\n",
       "</div>"
      ],
      "text/plain": [
       "   Frame  ScanNumBegin  ScanNumEnd  IsolationMz  IsolationWidth  \\\n",
       "0      3           507         532   742.744835        2.427448   \n",
       "1      3           549         574   709.235759        2.092358   \n",
       "2      3           602         627   594.235088        2.000000   \n",
       "3      3           643         668   503.527768        2.000000   \n",
       "4      3           684         709   552.063870        2.000000   \n",
       "\n",
       "   CollisionEnergy  Precursor  \n",
       "0            36.96          1  \n",
       "1            36.96          2  \n",
       "2            36.96          3  \n",
       "3            36.96          4  \n",
       "4            31.92          5  "
      ]
     },
     "execution_count": 38,
     "metadata": {},
     "output_type": "execute_result"
    }
   ],
   "source": [
    "isolation_window_df.head()"
   ]
  },
  {
   "cell_type": "code",
   "execution_count": 39,
   "metadata": {},
   "outputs": [
    {
     "data": {
      "text/html": [
       "<div>\n",
       "<style scoped>\n",
       "    .dataframe tbody tr th:only-of-type {\n",
       "        vertical-align: middle;\n",
       "    }\n",
       "\n",
       "    .dataframe tbody tr th {\n",
       "        vertical-align: top;\n",
       "    }\n",
       "\n",
       "    .dataframe thead th {\n",
       "        text-align: right;\n",
       "    }\n",
       "</style>\n",
       "<table border=\"1\" class=\"dataframe\">\n",
       "  <thead>\n",
       "    <tr style=\"text-align: right;\">\n",
       "      <th></th>\n",
       "      <th>Frame</th>\n",
       "      <th>ScanNumBegin</th>\n",
       "      <th>ScanNumEnd</th>\n",
       "      <th>IsolationMz</th>\n",
       "      <th>IsolationWidth</th>\n",
       "      <th>CollisionEnergy</th>\n",
       "      <th>Precursor</th>\n",
       "    </tr>\n",
       "  </thead>\n",
       "  <tbody>\n",
       "  </tbody>\n",
       "</table>\n",
       "</div>"
      ],
      "text/plain": [
       "Empty DataFrame\n",
       "Columns: [Frame, ScanNumBegin, ScanNumEnd, IsolationMz, IsolationWidth, CollisionEnergy, Precursor]\n",
       "Index: []"
      ]
     },
     "execution_count": 39,
     "metadata": {},
     "output_type": "execute_result"
    }
   ],
   "source": [
    "isolation_window_df[isolation_window_df.Precursor==320702]"
   ]
  },
  {
   "cell_type": "code",
   "execution_count": 40,
   "metadata": {},
   "outputs": [
    {
     "data": {
      "text/plain": [
       "486938"
      ]
     },
     "execution_count": 40,
     "metadata": {},
     "output_type": "execute_result"
    }
   ],
   "source": [
    "len(isolation_window_df)"
   ]
  },
  {
   "cell_type": "code",
   "execution_count": 41,
   "metadata": {},
   "outputs": [
    {
     "data": {
      "text/plain": [
       "238325"
      ]
     },
     "execution_count": 41,
     "metadata": {},
     "output_type": "execute_result"
    }
   ],
   "source": [
    "isolation_window_df.Precursor.max()"
   ]
  },
  {
   "cell_type": "code",
   "execution_count": 42,
   "metadata": {},
   "outputs": [],
   "source": [
    "# there are NOT precursor IDs!"
   ]
  },
  {
   "cell_type": "code",
   "execution_count": 50,
   "metadata": {},
   "outputs": [],
   "source": [
    "# find the mass for the most intense feature\n",
    "mass = allPeptides_df.iloc[allPeptides_df.Intensity.idxmax()]['Mass']"
   ]
  },
  {
   "cell_type": "code",
   "execution_count": 51,
   "metadata": {},
   "outputs": [
    {
     "data": {
      "text/plain": [
       "1789.8988"
      ]
     },
     "execution_count": 51,
     "metadata": {},
     "output_type": "execute_result"
    }
   ],
   "source": [
    "mass"
   ]
  },
  {
   "cell_type": "code",
   "execution_count": 52,
   "metadata": {},
   "outputs": [],
   "source": [
    "# find the RT for the most intense feature\n",
    "retention_time = allPeptides_df.iloc[allPeptides_df.Intensity.idxmax()]['Retention time']"
   ]
  },
  {
   "cell_type": "code",
   "execution_count": 53,
   "metadata": {},
   "outputs": [
    {
     "data": {
      "text/plain": [
       "4432.552"
      ]
     },
     "execution_count": 53,
     "metadata": {},
     "output_type": "execute_result"
    }
   ],
   "source": [
    "retention_time"
   ]
  },
  {
   "cell_type": "code",
   "execution_count": 65,
   "metadata": {},
   "outputs": [
    {
     "data": {
      "text/plain": [
       "Raw file                                            HeLa_20KInt_2KIT_Slot1-46_01_1179\n",
       "Charge                                                                              2\n",
       "m/z                                                                           895.957\n",
       "Mass                                                                           1789.9\n",
       "Resolution                                                                    24866.3\n",
       "Number of data points                                                          207657\n",
       "Number of frames                                                                   86\n",
       "Number of isotopic peaks                                                            6\n",
       "Isotope correlation                                                           0.99299\n",
       "Mass fractional part                                                         0.898847\n",
       "Mass deficit                                                                0.0354935\n",
       "Retention time                                                                4432.55\n",
       "Retention length                                                              100.379\n",
       "Retention length (FWHM)                                                        10.631\n",
       "Min frame index                                                                  3735\n",
       "Max frame index                                                                  3820\n",
       "Ion mobility index                                                                363\n",
       "Ion mobility index length                                                         486\n",
       "Ion mobility index length (FWHM)                                                  111\n",
       "Intensity                                                                  2.6707e+07\n",
       "Intensities                                                                       NaN\n",
       "Number of pasef MS/MS                                                              21\n",
       "Pasef MS/MS IDs                     320702;320713;320725;320875;320898;320909;3210...\n",
       "MS/MS scan number                                                               71215\n",
       "Name: 273238, dtype: object"
      ]
     },
     "execution_count": 65,
     "metadata": {},
     "output_type": "execute_result"
    }
   ],
   "source": [
    "allPeptides_df.iloc[allPeptides_df.Intensity.idxmax()]"
   ]
  },
  {
   "cell_type": "code",
   "execution_count": 55,
   "metadata": {},
   "outputs": [
    {
     "data": {
      "text/plain": [
       "100.37899999999999"
      ]
     },
     "execution_count": 55,
     "metadata": {},
     "output_type": "execute_result"
    }
   ],
   "source": [
    "retention_length"
   ]
  },
  {
   "cell_type": "code",
   "execution_count": 57,
   "metadata": {},
   "outputs": [],
   "source": [
    "mz = allPeptides_df.iloc[allPeptides_df.Intensity.idxmax()]['m/z']"
   ]
  },
  {
   "cell_type": "code",
   "execution_count": 58,
   "metadata": {},
   "outputs": [
    {
     "data": {
      "text/plain": [
       "895.9567"
      ]
     },
     "execution_count": 58,
     "metadata": {},
     "output_type": "execute_result"
    }
   ],
   "source": [
    "mz"
   ]
  },
  {
   "cell_type": "code",
   "execution_count": 59,
   "metadata": {},
   "outputs": [],
   "source": [
    "# look for features detected in the same area\n",
    "feature_list_df = pd.read_csv(\"/Users/darylwilding-mcbride/Downloads/HeLa_20KInt/HeLa_20KInt-feature-list.csv\")"
   ]
  },
  {
   "cell_type": "code",
   "execution_count": 60,
   "metadata": {},
   "outputs": [
    {
     "data": {
      "text/html": [
       "<div>\n",
       "<style scoped>\n",
       "    .dataframe tbody tr th:only-of-type {\n",
       "        vertical-align: middle;\n",
       "    }\n",
       "\n",
       "    .dataframe tbody tr th {\n",
       "        vertical-align: top;\n",
       "    }\n",
       "\n",
       "    .dataframe thead th {\n",
       "        text-align: right;\n",
       "    }\n",
       "</style>\n",
       "<table border=\"1\" class=\"dataframe\">\n",
       "  <thead>\n",
       "    <tr style=\"text-align: right;\">\n",
       "      <th></th>\n",
       "      <th>feature_id</th>\n",
       "      <th>charge_state</th>\n",
       "      <th>monoisotopic_mass</th>\n",
       "      <th>feature_centroid_scan</th>\n",
       "      <th>feature_centroid_rt</th>\n",
       "      <th>feature_centroid_mz</th>\n",
       "      <th>feature_start_rt</th>\n",
       "      <th>feature_end_rt</th>\n",
       "      <th>feature_scan_lower</th>\n",
       "      <th>feature_scan_upper</th>\n",
       "      <th>...</th>\n",
       "      <th>base_peak_scan_lower</th>\n",
       "      <th>base_peak_scan_upper</th>\n",
       "      <th>base_peak_centroid_rt</th>\n",
       "      <th>base_peak_std_dev_rt</th>\n",
       "      <th>base_peak_rt_lower</th>\n",
       "      <th>base_peak_rt_upper</th>\n",
       "      <th>base_peak_centroid_mz</th>\n",
       "      <th>base_peak_std_dev_mz</th>\n",
       "      <th>base_peak_mz_lower</th>\n",
       "      <th>base_peak_mz_upper</th>\n",
       "    </tr>\n",
       "  </thead>\n",
       "  <tbody>\n",
       "    <tr>\n",
       "      <th>0</th>\n",
       "      <td>1</td>\n",
       "      <td>3</td>\n",
       "      <td>1960.915588</td>\n",
       "      <td>680.366484</td>\n",
       "      <td>4013.127018</td>\n",
       "      <td>654.717577</td>\n",
       "      <td>4005.957188</td>\n",
       "      <td>4021.318195</td>\n",
       "      <td>668</td>\n",
       "      <td>688</td>\n",
       "      <td>...</td>\n",
       "      <td>668</td>\n",
       "      <td>688</td>\n",
       "      <td>4013.130741</td>\n",
       "      <td>3.845270</td>\n",
       "      <td>4005.957188</td>\n",
       "      <td>4021.318195</td>\n",
       "      <td>654.645757</td>\n",
       "      <td>0.002612</td>\n",
       "      <td>654.619261</td>\n",
       "      <td>654.675743</td>\n",
       "    </tr>\n",
       "    <tr>\n",
       "      <th>1</th>\n",
       "      <td>2</td>\n",
       "      <td>2</td>\n",
       "      <td>1247.602054</td>\n",
       "      <td>574.224714</td>\n",
       "      <td>1085.766969</td>\n",
       "      <td>625.127677</td>\n",
       "      <td>1075.177570</td>\n",
       "      <td>1097.628037</td>\n",
       "      <td>565</td>\n",
       "      <td>585</td>\n",
       "      <td>...</td>\n",
       "      <td>565</td>\n",
       "      <td>585</td>\n",
       "      <td>1085.746282</td>\n",
       "      <td>2.179954</td>\n",
       "      <td>1075.177570</td>\n",
       "      <td>1097.628037</td>\n",
       "      <td>624.809083</td>\n",
       "      <td>0.002324</td>\n",
       "      <td>624.778556</td>\n",
       "      <td>624.833736</td>\n",
       "    </tr>\n",
       "    <tr>\n",
       "      <th>2</th>\n",
       "      <td>3</td>\n",
       "      <td>2</td>\n",
       "      <td>1789.900380</td>\n",
       "      <td>379.472823</td>\n",
       "      <td>4433.432999</td>\n",
       "      <td>896.216859</td>\n",
       "      <td>4421.919624</td>\n",
       "      <td>4439.635599</td>\n",
       "      <td>367</td>\n",
       "      <td>387</td>\n",
       "      <td>...</td>\n",
       "      <td>367</td>\n",
       "      <td>387</td>\n",
       "      <td>4436.255100</td>\n",
       "      <td>2.552869</td>\n",
       "      <td>4421.919624</td>\n",
       "      <td>4439.635599</td>\n",
       "      <td>896.459161</td>\n",
       "      <td>0.003005</td>\n",
       "      <td>896.413464</td>\n",
       "      <td>896.498444</td>\n",
       "    </tr>\n",
       "    <tr>\n",
       "      <th>3</th>\n",
       "      <td>4</td>\n",
       "      <td>2</td>\n",
       "      <td>1405.719333</td>\n",
       "      <td>527.432220</td>\n",
       "      <td>4034.358108</td>\n",
       "      <td>704.126734</td>\n",
       "      <td>4022.496117</td>\n",
       "      <td>4044.962866</td>\n",
       "      <td>519</td>\n",
       "      <td>539</td>\n",
       "      <td>...</td>\n",
       "      <td>519</td>\n",
       "      <td>539</td>\n",
       "      <td>4034.498268</td>\n",
       "      <td>3.537136</td>\n",
       "      <td>4024.859526</td>\n",
       "      <td>4044.962866</td>\n",
       "      <td>703.867085</td>\n",
       "      <td>0.005701</td>\n",
       "      <td>703.834050</td>\n",
       "      <td>703.900983</td>\n",
       "    </tr>\n",
       "    <tr>\n",
       "      <th>4</th>\n",
       "      <td>5</td>\n",
       "      <td>2</td>\n",
       "      <td>2214.082282</td>\n",
       "      <td>231.310785</td>\n",
       "      <td>5002.872698</td>\n",
       "      <td>1108.270682</td>\n",
       "      <td>4991.075059</td>\n",
       "      <td>5008.786578</td>\n",
       "      <td>221</td>\n",
       "      <td>241</td>\n",
       "      <td>...</td>\n",
       "      <td>221</td>\n",
       "      <td>241</td>\n",
       "      <td>5002.369948</td>\n",
       "      <td>1.875718</td>\n",
       "      <td>4991.075059</td>\n",
       "      <td>5008.786578</td>\n",
       "      <td>1108.049241</td>\n",
       "      <td>0.003916</td>\n",
       "      <td>1107.997794</td>\n",
       "      <td>1108.087022</td>\n",
       "    </tr>\n",
       "  </tbody>\n",
       "</table>\n",
       "<p>5 rows × 38 columns</p>\n",
       "</div>"
      ],
      "text/plain": [
       "   feature_id  charge_state  monoisotopic_mass  feature_centroid_scan  \\\n",
       "0           1             3        1960.915588             680.366484   \n",
       "1           2             2        1247.602054             574.224714   \n",
       "2           3             2        1789.900380             379.472823   \n",
       "3           4             2        1405.719333             527.432220   \n",
       "4           5             2        2214.082282             231.310785   \n",
       "\n",
       "   feature_centroid_rt  feature_centroid_mz  feature_start_rt  feature_end_rt  \\\n",
       "0          4013.127018           654.717577       4005.957188     4021.318195   \n",
       "1          1085.766969           625.127677       1075.177570     1097.628037   \n",
       "2          4433.432999           896.216859       4421.919624     4439.635599   \n",
       "3          4034.358108           704.126734       4022.496117     4044.962866   \n",
       "4          5002.872698          1108.270682       4991.075059     5008.786578   \n",
       "\n",
       "   feature_scan_lower  feature_scan_upper         ...          \\\n",
       "0                 668                 688         ...           \n",
       "1                 565                 585         ...           \n",
       "2                 367                 387         ...           \n",
       "3                 519                 539         ...           \n",
       "4                 221                 241         ...           \n",
       "\n",
       "   base_peak_scan_lower  base_peak_scan_upper  base_peak_centroid_rt  \\\n",
       "0                   668                   688            4013.130741   \n",
       "1                   565                   585            1085.746282   \n",
       "2                   367                   387            4436.255100   \n",
       "3                   519                   539            4034.498268   \n",
       "4                   221                   241            5002.369948   \n",
       "\n",
       "   base_peak_std_dev_rt  base_peak_rt_lower  base_peak_rt_upper  \\\n",
       "0              3.845270         4005.957188         4021.318195   \n",
       "1              2.179954         1075.177570         1097.628037   \n",
       "2              2.552869         4421.919624         4439.635599   \n",
       "3              3.537136         4024.859526         4044.962866   \n",
       "4              1.875718         4991.075059         5008.786578   \n",
       "\n",
       "   base_peak_centroid_mz  base_peak_std_dev_mz  base_peak_mz_lower  \\\n",
       "0             654.645757              0.002612          654.619261   \n",
       "1             624.809083              0.002324          624.778556   \n",
       "2             896.459161              0.003005          896.413464   \n",
       "3             703.867085              0.005701          703.834050   \n",
       "4            1108.049241              0.003916         1107.997794   \n",
       "\n",
       "   base_peak_mz_upper  \n",
       "0          654.675743  \n",
       "1          624.833736  \n",
       "2          896.498444  \n",
       "3          703.900983  \n",
       "4         1108.087022  \n",
       "\n",
       "[5 rows x 38 columns]"
      ]
     },
     "execution_count": 60,
     "metadata": {},
     "output_type": "execute_result"
    }
   ],
   "source": [
    "feature_list_df.head()"
   ]
  },
  {
   "cell_type": "code",
   "execution_count": 64,
   "metadata": {},
   "outputs": [
    {
     "data": {
      "text/html": [
       "<div>\n",
       "<style scoped>\n",
       "    .dataframe tbody tr th:only-of-type {\n",
       "        vertical-align: middle;\n",
       "    }\n",
       "\n",
       "    .dataframe tbody tr th {\n",
       "        vertical-align: top;\n",
       "    }\n",
       "\n",
       "    .dataframe thead th {\n",
       "        text-align: right;\n",
       "    }\n",
       "</style>\n",
       "<table border=\"1\" class=\"dataframe\">\n",
       "  <thead>\n",
       "    <tr style=\"text-align: right;\">\n",
       "      <th></th>\n",
       "      <th>feature_id</th>\n",
       "      <th>charge_state</th>\n",
       "      <th>monoisotopic_mass</th>\n",
       "      <th>feature_centroid_scan</th>\n",
       "      <th>feature_centroid_rt</th>\n",
       "      <th>feature_centroid_mz</th>\n",
       "      <th>feature_start_rt</th>\n",
       "      <th>feature_end_rt</th>\n",
       "      <th>feature_scan_lower</th>\n",
       "      <th>feature_scan_upper</th>\n",
       "      <th>...</th>\n",
       "      <th>base_peak_scan_lower</th>\n",
       "      <th>base_peak_scan_upper</th>\n",
       "      <th>base_peak_centroid_rt</th>\n",
       "      <th>base_peak_std_dev_rt</th>\n",
       "      <th>base_peak_rt_lower</th>\n",
       "      <th>base_peak_rt_upper</th>\n",
       "      <th>base_peak_centroid_mz</th>\n",
       "      <th>base_peak_std_dev_mz</th>\n",
       "      <th>base_peak_mz_lower</th>\n",
       "      <th>base_peak_mz_upper</th>\n",
       "    </tr>\n",
       "  </thead>\n",
       "  <tbody>\n",
       "    <tr>\n",
       "      <th>2</th>\n",
       "      <td>3</td>\n",
       "      <td>2</td>\n",
       "      <td>1789.900380</td>\n",
       "      <td>379.472823</td>\n",
       "      <td>4433.432999</td>\n",
       "      <td>896.216859</td>\n",
       "      <td>4421.919624</td>\n",
       "      <td>4439.635599</td>\n",
       "      <td>367</td>\n",
       "      <td>387</td>\n",
       "      <td>...</td>\n",
       "      <td>367</td>\n",
       "      <td>387</td>\n",
       "      <td>4436.255100</td>\n",
       "      <td>2.552869</td>\n",
       "      <td>4421.919624</td>\n",
       "      <td>4439.635599</td>\n",
       "      <td>896.459161</td>\n",
       "      <td>0.003005</td>\n",
       "      <td>896.413464</td>\n",
       "      <td>896.498444</td>\n",
       "    </tr>\n",
       "    <tr>\n",
       "      <th>14</th>\n",
       "      <td>15</td>\n",
       "      <td>2</td>\n",
       "      <td>1789.899107</td>\n",
       "      <td>363.909317</td>\n",
       "      <td>4432.183457</td>\n",
       "      <td>896.432413</td>\n",
       "      <td>4424.280661</td>\n",
       "      <td>4439.635599</td>\n",
       "      <td>357</td>\n",
       "      <td>377</td>\n",
       "      <td>...</td>\n",
       "      <td>357</td>\n",
       "      <td>377</td>\n",
       "      <td>4434.624981</td>\n",
       "      <td>3.522225</td>\n",
       "      <td>4424.280661</td>\n",
       "      <td>4439.635599</td>\n",
       "      <td>895.956215</td>\n",
       "      <td>0.002971</td>\n",
       "      <td>895.917833</td>\n",
       "      <td>895.993349</td>\n",
       "    </tr>\n",
       "    <tr>\n",
       "      <th>4917</th>\n",
       "      <td>4930</td>\n",
       "      <td>2</td>\n",
       "      <td>1790.906260</td>\n",
       "      <td>399.212910</td>\n",
       "      <td>4433.506117</td>\n",
       "      <td>896.588565</td>\n",
       "      <td>4429.005871</td>\n",
       "      <td>4441.995797</td>\n",
       "      <td>394</td>\n",
       "      <td>406</td>\n",
       "      <td>...</td>\n",
       "      <td>394</td>\n",
       "      <td>406</td>\n",
       "      <td>4434.433888</td>\n",
       "      <td>4.424939</td>\n",
       "      <td>4429.005871</td>\n",
       "      <td>4441.995797</td>\n",
       "      <td>896.459861</td>\n",
       "      <td>0.004491</td>\n",
       "      <td>896.418186</td>\n",
       "      <td>896.503165</td>\n",
       "    </tr>\n",
       "    <tr>\n",
       "      <th>166576</th>\n",
       "      <td>168570</td>\n",
       "      <td>2</td>\n",
       "      <td>1789.775696</td>\n",
       "      <td>414.004570</td>\n",
       "      <td>4433.363118</td>\n",
       "      <td>896.262751</td>\n",
       "      <td>4426.643707</td>\n",
       "      <td>4439.635599</td>\n",
       "      <td>405</td>\n",
       "      <td>425</td>\n",
       "      <td>...</td>\n",
       "      <td>406</td>\n",
       "      <td>425</td>\n",
       "      <td>4433.336186</td>\n",
       "      <td>3.484121</td>\n",
       "      <td>4426.643707</td>\n",
       "      <td>4439.635599</td>\n",
       "      <td>896.395499</td>\n",
       "      <td>0.017288</td>\n",
       "      <td>896.328489</td>\n",
       "      <td>896.418186</td>\n",
       "    </tr>\n",
       "  </tbody>\n",
       "</table>\n",
       "<p>4 rows × 38 columns</p>\n",
       "</div>"
      ],
      "text/plain": [
       "        feature_id  charge_state  monoisotopic_mass  feature_centroid_scan  \\\n",
       "2                3             2        1789.900380             379.472823   \n",
       "14              15             2        1789.899107             363.909317   \n",
       "4917          4930             2        1790.906260             399.212910   \n",
       "166576      168570             2        1789.775696             414.004570   \n",
       "\n",
       "        feature_centroid_rt  feature_centroid_mz  feature_start_rt  \\\n",
       "2               4433.432999           896.216859       4421.919624   \n",
       "14              4432.183457           896.432413       4424.280661   \n",
       "4917            4433.506117           896.588565       4429.005871   \n",
       "166576          4433.363118           896.262751       4426.643707   \n",
       "\n",
       "        feature_end_rt  feature_scan_lower  feature_scan_upper  \\\n",
       "2          4439.635599                 367                 387   \n",
       "14         4439.635599                 357                 377   \n",
       "4917       4441.995797                 394                 406   \n",
       "166576     4439.635599                 405                 425   \n",
       "\n",
       "               ...          base_peak_scan_lower  base_peak_scan_upper  \\\n",
       "2              ...                           367                   387   \n",
       "14             ...                           357                   377   \n",
       "4917           ...                           394                   406   \n",
       "166576         ...                           406                   425   \n",
       "\n",
       "        base_peak_centroid_rt  base_peak_std_dev_rt  base_peak_rt_lower  \\\n",
       "2                 4436.255100              2.552869         4421.919624   \n",
       "14                4434.624981              3.522225         4424.280661   \n",
       "4917              4434.433888              4.424939         4429.005871   \n",
       "166576            4433.336186              3.484121         4426.643707   \n",
       "\n",
       "        base_peak_rt_upper  base_peak_centroid_mz  base_peak_std_dev_mz  \\\n",
       "2              4439.635599             896.459161              0.003005   \n",
       "14             4439.635599             895.956215              0.002971   \n",
       "4917           4441.995797             896.459861              0.004491   \n",
       "166576         4439.635599             896.395499              0.017288   \n",
       "\n",
       "        base_peak_mz_lower  base_peak_mz_upper  \n",
       "2               896.413464          896.498444  \n",
       "14              895.917833          895.993349  \n",
       "4917            896.418186          896.503165  \n",
       "166576          896.328489          896.418186  \n",
       "\n",
       "[4 rows x 38 columns]"
      ]
     },
     "execution_count": 64,
     "metadata": {},
     "output_type": "execute_result"
    }
   ],
   "source": [
    "feature_list_df[(feature_list_df.feature_centroid_rt >= retention_time-1) & (feature_list_df.feature_centroid_rt <= retention_time+1) & (feature_list_df.feature_centroid_mz >= mz-1) & (feature_list_df.feature_centroid_mz <= mz+1) & (feature_list_df.feature_centroid_scan >= 250) & (feature_list_df.feature_centroid_scan <= 550)]"
   ]
  },
  {
   "cell_type": "code",
   "execution_count": 66,
   "metadata": {},
   "outputs": [],
   "source": [
    "feature_isotopes_df = pd.read_csv(\"/Users/darylwilding-mcbride/Downloads/HeLa_20KInt/HeLa_20KInt-feature-isotopes.csv\")"
   ]
  },
  {
   "cell_type": "code",
   "execution_count": 68,
   "metadata": {},
   "outputs": [
    {
     "data": {
      "text/html": [
       "<div>\n",
       "<style scoped>\n",
       "    .dataframe tbody tr th:only-of-type {\n",
       "        vertical-align: middle;\n",
       "    }\n",
       "\n",
       "    .dataframe tbody tr th {\n",
       "        vertical-align: top;\n",
       "    }\n",
       "\n",
       "    .dataframe thead th {\n",
       "        text-align: right;\n",
       "    }\n",
       "</style>\n",
       "<table border=\"1\" class=\"dataframe\">\n",
       "  <thead>\n",
       "    <tr style=\"text-align: right;\">\n",
       "      <th></th>\n",
       "      <th>feature_id</th>\n",
       "      <th>feature_region_peak_id</th>\n",
       "      <th>centroid_scan</th>\n",
       "      <th>centroid_rt</th>\n",
       "      <th>centroid_mz</th>\n",
       "      <th>peak_summed_intensity</th>\n",
       "    </tr>\n",
       "  </thead>\n",
       "  <tbody>\n",
       "    <tr>\n",
       "      <th>6</th>\n",
       "      <td>3</td>\n",
       "      <td>2</td>\n",
       "      <td>378.878148</td>\n",
       "      <td>4430.610825</td>\n",
       "      <td>895.957364</td>\n",
       "      <td>1997976</td>\n",
       "    </tr>\n",
       "    <tr>\n",
       "      <th>7</th>\n",
       "      <td>3</td>\n",
       "      <td>1</td>\n",
       "      <td>379.899082</td>\n",
       "      <td>4436.255100</td>\n",
       "      <td>896.459161</td>\n",
       "      <td>2002597</td>\n",
       "    </tr>\n",
       "    <tr>\n",
       "      <th>8</th>\n",
       "      <td>3</td>\n",
       "      <td>3</td>\n",
       "      <td>387.000000</td>\n",
       "      <td>4433.142833</td>\n",
       "      <td>896.964646</td>\n",
       "      <td>44442</td>\n",
       "    </tr>\n",
       "  </tbody>\n",
       "</table>\n",
       "</div>"
      ],
      "text/plain": [
       "   feature_id  feature_region_peak_id  centroid_scan  centroid_rt  \\\n",
       "6           3                       2     378.878148  4430.610825   \n",
       "7           3                       1     379.899082  4436.255100   \n",
       "8           3                       3     387.000000  4433.142833   \n",
       "\n",
       "   centroid_mz  peak_summed_intensity  \n",
       "6   895.957364                1997976  \n",
       "7   896.459161                2002597  \n",
       "8   896.964646                  44442  "
      ]
     },
     "execution_count": 68,
     "metadata": {},
     "output_type": "execute_result"
    }
   ],
   "source": [
    "feature_isotopes_df[feature_isotopes_df.feature_id==3]"
   ]
  },
  {
   "cell_type": "code",
   "execution_count": null,
   "metadata": {},
   "outputs": [],
   "source": []
  }
 ],
 "metadata": {
  "kernelspec": {
   "display_name": "Python 2",
   "language": "python",
   "name": "python2"
  },
  "language_info": {
   "codemirror_mode": {
    "name": "ipython",
    "version": 2
   },
   "file_extension": ".py",
   "mimetype": "text/x-python",
   "name": "python",
   "nbconvert_exporter": "python",
   "pygments_lexer": "ipython2",
   "version": "2.7.15"
  }
 },
 "nbformat": 4,
 "nbformat_minor": 2
}
