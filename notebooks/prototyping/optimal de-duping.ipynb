{
 "cells": [
  {
   "cell_type": "code",
   "execution_count": 1,
   "metadata": {},
   "outputs": [],
   "source": [
    "import pandas as pd\n",
    "import numpy as np\n",
    "import sys\n",
    "import matplotlib.pyplot as plt"
   ]
  },
  {
   "cell_type": "code",
   "execution_count": 29,
   "metadata": {},
   "outputs": [],
   "source": [
    "# ms2 features prior to de-dup\n",
    "df = pd.read_pickle('/Users/darylwilding-mcbride/Downloads/ms1_df.pkl')"
   ]
  },
  {
   "cell_type": "code",
   "execution_count": 30,
   "metadata": {},
   "outputs": [
    {
     "data": {
      "text/html": [
       "<div>\n",
       "<style scoped>\n",
       "    .dataframe tbody tr th:only-of-type {\n",
       "        vertical-align: middle;\n",
       "    }\n",
       "\n",
       "    .dataframe tbody tr th {\n",
       "        vertical-align: top;\n",
       "    }\n",
       "\n",
       "    .dataframe thead th {\n",
       "        text-align: right;\n",
       "    }\n",
       "</style>\n",
       "<table border=\"1\" class=\"dataframe\">\n",
       "  <thead>\n",
       "    <tr style=\"text-align: right;\">\n",
       "      <th></th>\n",
       "      <th>monoisotopic_mz</th>\n",
       "      <th>charge</th>\n",
       "      <th>intensity</th>\n",
       "      <th>scan_apex</th>\n",
       "      <th>scan_curve_fit</th>\n",
       "      <th>scan_lower</th>\n",
       "      <th>scan_upper</th>\n",
       "      <th>rt_apex</th>\n",
       "      <th>rt_curve_fit</th>\n",
       "      <th>precursor_id</th>\n",
       "      <th>ms2_frames</th>\n",
       "    </tr>\n",
       "  </thead>\n",
       "  <tbody>\n",
       "    <tr>\n",
       "      <th>0</th>\n",
       "      <td>984.896596</td>\n",
       "      <td>1</td>\n",
       "      <td>306</td>\n",
       "      <td>274.873399</td>\n",
       "      <td>True</td>\n",
       "      <td>258.918711</td>\n",
       "      <td>290.828087</td>\n",
       "      <td>3014.22</td>\n",
       "      <td>True</td>\n",
       "      <td>92541</td>\n",
       "      <td>[28077, 28078, 28079, 28081, 28082]</td>\n",
       "    </tr>\n",
       "    <tr>\n",
       "      <th>1</th>\n",
       "      <td>984.411713</td>\n",
       "      <td>2</td>\n",
       "      <td>7810</td>\n",
       "      <td>277.827167</td>\n",
       "      <td>True</td>\n",
       "      <td>262.566856</td>\n",
       "      <td>293.087477</td>\n",
       "      <td>3015.40</td>\n",
       "      <td>True</td>\n",
       "      <td>92541</td>\n",
       "      <td>[28077, 28078, 28079, 28081, 28082]</td>\n",
       "    </tr>\n",
       "    <tr>\n",
       "      <th>2</th>\n",
       "      <td>984.426200</td>\n",
       "      <td>2</td>\n",
       "      <td>1884</td>\n",
       "      <td>277.728795</td>\n",
       "      <td>True</td>\n",
       "      <td>260.069618</td>\n",
       "      <td>295.387972</td>\n",
       "      <td>3014.22</td>\n",
       "      <td>True</td>\n",
       "      <td>92541</td>\n",
       "      <td>[28077, 28078, 28079, 28081, 28082]</td>\n",
       "    </tr>\n",
       "    <tr>\n",
       "      <th>0</th>\n",
       "      <td>882.442016</td>\n",
       "      <td>1</td>\n",
       "      <td>421</td>\n",
       "      <td>356.231153</td>\n",
       "      <td>True</td>\n",
       "      <td>337.288853</td>\n",
       "      <td>375.173454</td>\n",
       "      <td>3015.40</td>\n",
       "      <td>True</td>\n",
       "      <td>92542</td>\n",
       "      <td>[28077, 28078]</td>\n",
       "    </tr>\n",
       "    <tr>\n",
       "      <th>1</th>\n",
       "      <td>881.432308</td>\n",
       "      <td>2</td>\n",
       "      <td>954</td>\n",
       "      <td>363.643638</td>\n",
       "      <td>True</td>\n",
       "      <td>348.494314</td>\n",
       "      <td>378.792962</td>\n",
       "      <td>3016.58</td>\n",
       "      <td>True</td>\n",
       "      <td>92542</td>\n",
       "      <td>[28077, 28078]</td>\n",
       "    </tr>\n",
       "  </tbody>\n",
       "</table>\n",
       "</div>"
      ],
      "text/plain": [
       "   monoisotopic_mz charge intensity   scan_apex scan_curve_fit  scan_lower  \\\n",
       "0       984.896596      1       306  274.873399           True  258.918711   \n",
       "1       984.411713      2      7810  277.827167           True  262.566856   \n",
       "2       984.426200      2      1884  277.728795           True  260.069618   \n",
       "0       882.442016      1       421  356.231153           True  337.288853   \n",
       "1       881.432308      2       954  363.643638           True  348.494314   \n",
       "\n",
       "   scan_upper  rt_apex rt_curve_fit precursor_id  \\\n",
       "0  290.828087  3014.22         True        92541   \n",
       "1  293.087477  3015.40         True        92541   \n",
       "2  295.387972  3014.22         True        92541   \n",
       "0  375.173454  3015.40         True        92542   \n",
       "1  378.792962  3016.58         True        92542   \n",
       "\n",
       "                            ms2_frames  \n",
       "0  [28077, 28078, 28079, 28081, 28082]  \n",
       "1  [28077, 28078, 28079, 28081, 28082]  \n",
       "2  [28077, 28078, 28079, 28081, 28082]  \n",
       "0                       [28077, 28078]  \n",
       "1                       [28077, 28078]  "
      ]
     },
     "execution_count": 30,
     "metadata": {},
     "output_type": "execute_result"
    }
   ],
   "source": [
    "df.head()"
   ]
  },
  {
   "cell_type": "code",
   "execution_count": 31,
   "metadata": {},
   "outputs": [
    {
     "data": {
      "text/plain": [
       "0.7922038980509745"
      ]
     },
     "execution_count": 31,
     "metadata": {},
     "output_type": "execute_result"
    }
   ],
   "source": [
    "len(df[df.scan_curve_fit]) / len(df)"
   ]
  },
  {
   "cell_type": "code",
   "execution_count": 32,
   "metadata": {},
   "outputs": [
    {
     "data": {
      "text/plain": [
       "0.9830584707646177"
      ]
     },
     "execution_count": 32,
     "metadata": {},
     "output_type": "execute_result"
    }
   ],
   "source": [
    "len(df[df.rt_curve_fit]) / len(df)"
   ]
  },
  {
   "cell_type": "code",
   "execution_count": 36,
   "metadata": {},
   "outputs": [],
   "source": [
    "RT_LOWER = 3010\n",
    "RT_UPPER = 3020\n",
    "SCAN_LOWER = 267\n",
    "SCAN_UPPER = 287"
   ]
  },
  {
   "cell_type": "code",
   "execution_count": 37,
   "metadata": {},
   "outputs": [],
   "source": [
    "# calculate the distance in m/z between all features\n",
    "constrained_df = df[(df.rt_apex >= RT_LOWER) & (df.rt_apex <= RT_UPPER) & (df.scan_apex >= SCAN_LOWER) & (df.scan_apex <= SCAN_UPPER)]"
   ]
  },
  {
   "cell_type": "code",
   "execution_count": 38,
   "metadata": {},
   "outputs": [
    {
     "data": {
      "text/plain": [
       "4"
      ]
     },
     "execution_count": 38,
     "metadata": {},
     "output_type": "execute_result"
    }
   ],
   "source": [
    "len(constrained_df)"
   ]
  },
  {
   "cell_type": "code",
   "execution_count": null,
   "metadata": {},
   "outputs": [],
   "source": []
  }
 ],
 "metadata": {
  "kernelspec": {
   "display_name": "Python 3",
   "language": "python",
   "name": "python3"
  },
  "language_info": {
   "codemirror_mode": {
    "name": "ipython",
    "version": 3
   },
   "file_extension": ".py",
   "mimetype": "text/x-python",
   "name": "python",
   "nbconvert_exporter": "python",
   "pygments_lexer": "ipython3",
   "version": "3.6.7"
  }
 },
 "nbformat": 4,
 "nbformat_minor": 2
}
