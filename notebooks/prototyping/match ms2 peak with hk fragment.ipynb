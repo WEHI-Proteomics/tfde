{
 "cells": [
  {
   "cell_type": "code",
   "execution_count": 1,
   "metadata": {},
   "outputs": [],
   "source": [
    "import pandas as pd\n",
    "import sqlite3\n",
    "import numpy as np\n",
    "import matplotlib.pyplot as plt\n",
    "import peakutils\n",
    "import json"
   ]
  },
  {
   "cell_type": "code",
   "execution_count": 2,
   "metadata": {},
   "outputs": [],
   "source": [
    "hk_directory = \"/home/ubuntu/UPS2_allion/hk\"\n",
    "feature_id = 19869\n",
    "minimum_peak_correlation = 0.6\n",
    "hk_filename = \"{}/feature-{}-correlation-{}.hk\".format(hk_directory, feature_id, minimum_peak_correlation)\n",
    "hk_results_df = pd.read_table(hk_filename, skiprows=1, header=None, names=['monoisotopic_mass','charge','intensity','base_isotope_peak','analysis_window','deprecated','modifications','correlation'])"
   ]
  },
  {
   "cell_type": "code",
   "execution_count": 3,
   "metadata": {},
   "outputs": [
    {
     "data": {
      "text/plain": [
       "32"
      ]
     },
     "execution_count": 3,
     "metadata": {},
     "output_type": "execute_result"
    }
   ],
   "source": [
    "len(hk_results_df)"
   ]
  },
  {
   "cell_type": "code",
   "execution_count": 4,
   "metadata": {},
   "outputs": [
    {
     "data": {
      "text/html": [
       "<div>\n",
       "<style scoped>\n",
       "    .dataframe tbody tr th:only-of-type {\n",
       "        vertical-align: middle;\n",
       "    }\n",
       "\n",
       "    .dataframe tbody tr th {\n",
       "        vertical-align: top;\n",
       "    }\n",
       "\n",
       "    .dataframe thead th {\n",
       "        text-align: right;\n",
       "    }\n",
       "</style>\n",
       "<table border=\"1\" class=\"dataframe\">\n",
       "  <thead>\n",
       "    <tr style=\"text-align: right;\">\n",
       "      <th></th>\n",
       "      <th>monoisotopic_mass</th>\n",
       "      <th>charge</th>\n",
       "      <th>intensity</th>\n",
       "      <th>base_isotope_peak</th>\n",
       "      <th>analysis_window</th>\n",
       "      <th>deprecated</th>\n",
       "      <th>modifications</th>\n",
       "      <th>correlation</th>\n",
       "    </tr>\n",
       "  </thead>\n",
       "  <tbody>\n",
       "    <tr>\n",
       "      <th>P</th>\n",
       "      <td>989.3841</td>\n",
       "      <td>3</td>\n",
       "      <td>8266</td>\n",
       "      <td>330.802</td>\n",
       "      <td>328.9110-331.9370</td>\n",
       "      <td>0.0</td>\n",
       "      <td>_</td>\n",
       "      <td>0.7213</td>\n",
       "    </tr>\n",
       "    <tr>\n",
       "      <th>P</th>\n",
       "      <td>355.2217</td>\n",
       "      <td>1</td>\n",
       "      <td>29952</td>\n",
       "      <td>356.229</td>\n",
       "      <td>356.1090-359.2230</td>\n",
       "      <td>0.0</td>\n",
       "      <td>_</td>\n",
       "      <td>0.9651</td>\n",
       "    </tr>\n",
       "    <tr>\n",
       "      <th>P</th>\n",
       "      <td>716.4314</td>\n",
       "      <td>2</td>\n",
       "      <td>36674</td>\n",
       "      <td>359.223</td>\n",
       "      <td>358.1100-360.9670</td>\n",
       "      <td>0.0</td>\n",
       "      <td>_</td>\n",
       "      <td>0.9926</td>\n",
       "    </tr>\n",
       "    <tr>\n",
       "      <th>P</th>\n",
       "      <td>1163.3181</td>\n",
       "      <td>3</td>\n",
       "      <td>16391</td>\n",
       "      <td>388.780</td>\n",
       "      <td>387.0930-391.0220</td>\n",
       "      <td>0.0</td>\n",
       "      <td>_</td>\n",
       "      <td>0.9602</td>\n",
       "    </tr>\n",
       "    <tr>\n",
       "      <th>P</th>\n",
       "      <td>1236.0891</td>\n",
       "      <td>3</td>\n",
       "      <td>10393</td>\n",
       "      <td>413.037</td>\n",
       "      <td>411.8920-417.0080</td>\n",
       "      <td>0.0</td>\n",
       "      <td>_</td>\n",
       "      <td>0.9190</td>\n",
       "    </tr>\n",
       "  </tbody>\n",
       "</table>\n",
       "</div>"
      ],
      "text/plain": [
       "   monoisotopic_mass  charge  intensity  base_isotope_peak    analysis_window  \\\n",
       "P           989.3841       3       8266            330.802  328.9110-331.9370   \n",
       "P           355.2217       1      29952            356.229  356.1090-359.2230   \n",
       "P           716.4314       2      36674            359.223  358.1100-360.9670   \n",
       "P          1163.3181       3      16391            388.780  387.0930-391.0220   \n",
       "P          1236.0891       3      10393            413.037  411.8920-417.0080   \n",
       "\n",
       "   deprecated modifications  correlation  \n",
       "P         0.0             _       0.7213  \n",
       "P         0.0             _       0.9651  \n",
       "P         0.0             _       0.9926  \n",
       "P         0.0             _       0.9602  \n",
       "P         0.0             _       0.9190  "
      ]
     },
     "execution_count": 4,
     "metadata": {},
     "output_type": "execute_result"
    }
   ],
   "source": [
    "hk_results_df.head()"
   ]
  },
  {
   "cell_type": "code",
   "execution_count": 5,
   "metadata": {},
   "outputs": [],
   "source": [
    "db_name = '/home/ubuntu/UPS2_allion/UPS2_allion-features-19738-20833.sqlite'\n",
    "db_conn = sqlite3.connect(db_name)\n",
    "ms2_peaks_df = pd.read_sql_query(\"select feature_id,peak_id,centroid_mz from ms2_peaks where feature_id={}\".format(feature_id), db_conn)\n",
    "db_conn.close()"
   ]
  },
  {
   "cell_type": "code",
   "execution_count": 6,
   "metadata": {},
   "outputs": [
    {
     "data": {
      "text/plain": [
       "27999"
      ]
     },
     "execution_count": 6,
     "metadata": {},
     "output_type": "execute_result"
    }
   ],
   "source": [
    "len(ms2_peaks_df)"
   ]
  },
  {
   "cell_type": "code",
   "execution_count": 7,
   "metadata": {},
   "outputs": [
    {
     "data": {
      "text/html": [
       "<div>\n",
       "<style scoped>\n",
       "    .dataframe tbody tr th:only-of-type {\n",
       "        vertical-align: middle;\n",
       "    }\n",
       "\n",
       "    .dataframe tbody tr th {\n",
       "        vertical-align: top;\n",
       "    }\n",
       "\n",
       "    .dataframe thead th {\n",
       "        text-align: right;\n",
       "    }\n",
       "</style>\n",
       "<table border=\"1\" class=\"dataframe\">\n",
       "  <thead>\n",
       "    <tr style=\"text-align: right;\">\n",
       "      <th></th>\n",
       "      <th>feature_id</th>\n",
       "      <th>peak_id</th>\n",
       "      <th>centroid_mz</th>\n",
       "    </tr>\n",
       "  </thead>\n",
       "  <tbody>\n",
       "    <tr>\n",
       "      <th>0</th>\n",
       "      <td>19869</td>\n",
       "      <td>1</td>\n",
       "      <td>600.334</td>\n",
       "    </tr>\n",
       "    <tr>\n",
       "      <th>1</th>\n",
       "      <td>19869</td>\n",
       "      <td>2</td>\n",
       "      <td>599.999</td>\n",
       "    </tr>\n",
       "    <tr>\n",
       "      <th>2</th>\n",
       "      <td>19869</td>\n",
       "      <td>3</td>\n",
       "      <td>809.449</td>\n",
       "    </tr>\n",
       "    <tr>\n",
       "      <th>3</th>\n",
       "      <td>19869</td>\n",
       "      <td>4</td>\n",
       "      <td>600.668</td>\n",
       "    </tr>\n",
       "    <tr>\n",
       "      <th>4</th>\n",
       "      <td>19869</td>\n",
       "      <td>5</td>\n",
       "      <td>595.353</td>\n",
       "    </tr>\n",
       "  </tbody>\n",
       "</table>\n",
       "</div>"
      ],
      "text/plain": [
       "   feature_id  peak_id  centroid_mz\n",
       "0       19869        1      600.334\n",
       "1       19869        2      599.999\n",
       "2       19869        3      809.449\n",
       "3       19869        4      600.668\n",
       "4       19869        5      595.353"
      ]
     },
     "execution_count": 7,
     "metadata": {},
     "output_type": "execute_result"
    }
   ],
   "source": [
    "ms2_peaks_df.head()"
   ]
  },
  {
   "cell_type": "markdown",
   "metadata": {},
   "source": [
    "For each fragment in the HK output, find the ms2 peak it originated from. The HK 'base_isotope_peak' should match the ms2 peak's 'centroid_mz'."
   ]
  },
  {
   "cell_type": "code",
   "execution_count": 8,
   "metadata": {},
   "outputs": [],
   "source": [
    "hk_results_df = pd.merge(hk_results_df, ms2_peaks_df, left_on=['base_isotope_peak'], right_on=['centroid_mz'])"
   ]
  },
  {
   "cell_type": "code",
   "execution_count": 9,
   "metadata": {},
   "outputs": [],
   "source": [
    "hk_results_df['intensity_peak_id'] = hk_results_df['intensity'].astype(str) + \".\" + hk_results_df['peak_id'].map('{0:05d}'.format)"
   ]
  },
  {
   "cell_type": "code",
   "execution_count": 10,
   "metadata": {},
   "outputs": [
    {
     "data": {
      "text/html": [
       "<div>\n",
       "<style scoped>\n",
       "    .dataframe tbody tr th:only-of-type {\n",
       "        vertical-align: middle;\n",
       "    }\n",
       "\n",
       "    .dataframe tbody tr th {\n",
       "        vertical-align: top;\n",
       "    }\n",
       "\n",
       "    .dataframe thead th {\n",
       "        text-align: right;\n",
       "    }\n",
       "</style>\n",
       "<table border=\"1\" class=\"dataframe\">\n",
       "  <thead>\n",
       "    <tr style=\"text-align: right;\">\n",
       "      <th></th>\n",
       "      <th>monoisotopic_mass</th>\n",
       "      <th>charge</th>\n",
       "      <th>intensity</th>\n",
       "      <th>base_isotope_peak</th>\n",
       "      <th>analysis_window</th>\n",
       "      <th>deprecated</th>\n",
       "      <th>modifications</th>\n",
       "      <th>correlation</th>\n",
       "      <th>feature_id</th>\n",
       "      <th>peak_id</th>\n",
       "      <th>centroid_mz</th>\n",
       "      <th>intensity_peak_id</th>\n",
       "    </tr>\n",
       "  </thead>\n",
       "  <tbody>\n",
       "    <tr>\n",
       "      <th>0</th>\n",
       "      <td>989.3841</td>\n",
       "      <td>3</td>\n",
       "      <td>8266</td>\n",
       "      <td>330.802</td>\n",
       "      <td>328.9110-331.9370</td>\n",
       "      <td>0.0</td>\n",
       "      <td>_</td>\n",
       "      <td>0.7213</td>\n",
       "      <td>19869</td>\n",
       "      <td>22977</td>\n",
       "      <td>330.802</td>\n",
       "      <td>8266.22977</td>\n",
       "    </tr>\n",
       "    <tr>\n",
       "      <th>1</th>\n",
       "      <td>355.2217</td>\n",
       "      <td>1</td>\n",
       "      <td>29952</td>\n",
       "      <td>356.229</td>\n",
       "      <td>356.1090-359.2230</td>\n",
       "      <td>0.0</td>\n",
       "      <td>_</td>\n",
       "      <td>0.9651</td>\n",
       "      <td>19869</td>\n",
       "      <td>6283</td>\n",
       "      <td>356.229</td>\n",
       "      <td>29952.06283</td>\n",
       "    </tr>\n",
       "    <tr>\n",
       "      <th>2</th>\n",
       "      <td>716.4314</td>\n",
       "      <td>2</td>\n",
       "      <td>36674</td>\n",
       "      <td>359.223</td>\n",
       "      <td>358.1100-360.9670</td>\n",
       "      <td>0.0</td>\n",
       "      <td>_</td>\n",
       "      <td>0.9926</td>\n",
       "      <td>19869</td>\n",
       "      <td>3966</td>\n",
       "      <td>359.223</td>\n",
       "      <td>36674.03966</td>\n",
       "    </tr>\n",
       "    <tr>\n",
       "      <th>3</th>\n",
       "      <td>1163.3181</td>\n",
       "      <td>3</td>\n",
       "      <td>16391</td>\n",
       "      <td>388.780</td>\n",
       "      <td>387.0930-391.0220</td>\n",
       "      <td>0.0</td>\n",
       "      <td>_</td>\n",
       "      <td>0.9602</td>\n",
       "      <td>19869</td>\n",
       "      <td>14043</td>\n",
       "      <td>388.780</td>\n",
       "      <td>16391.14043</td>\n",
       "    </tr>\n",
       "    <tr>\n",
       "      <th>4</th>\n",
       "      <td>1236.0891</td>\n",
       "      <td>3</td>\n",
       "      <td>10393</td>\n",
       "      <td>413.037</td>\n",
       "      <td>411.8920-417.0080</td>\n",
       "      <td>0.0</td>\n",
       "      <td>_</td>\n",
       "      <td>0.9190</td>\n",
       "      <td>19869</td>\n",
       "      <td>13939</td>\n",
       "      <td>413.037</td>\n",
       "      <td>10393.13939</td>\n",
       "    </tr>\n",
       "  </tbody>\n",
       "</table>\n",
       "</div>"
      ],
      "text/plain": [
       "   monoisotopic_mass  charge  intensity  base_isotope_peak    analysis_window  \\\n",
       "0           989.3841       3       8266            330.802  328.9110-331.9370   \n",
       "1           355.2217       1      29952            356.229  356.1090-359.2230   \n",
       "2           716.4314       2      36674            359.223  358.1100-360.9670   \n",
       "3          1163.3181       3      16391            388.780  387.0930-391.0220   \n",
       "4          1236.0891       3      10393            413.037  411.8920-417.0080   \n",
       "\n",
       "   deprecated modifications  correlation  feature_id  peak_id  centroid_mz  \\\n",
       "0         0.0             _       0.7213       19869    22977      330.802   \n",
       "1         0.0             _       0.9651       19869     6283      356.229   \n",
       "2         0.0             _       0.9926       19869     3966      359.223   \n",
       "3         0.0             _       0.9602       19869    14043      388.780   \n",
       "4         0.0             _       0.9190       19869    13939      413.037   \n",
       "\n",
       "  intensity_peak_id  \n",
       "0        8266.22977  \n",
       "1       29952.06283  \n",
       "2       36674.03966  \n",
       "3       16391.14043  \n",
       "4       10393.13939  "
      ]
     },
     "execution_count": 10,
     "metadata": {},
     "output_type": "execute_result"
    }
   ],
   "source": [
    "hk_results_df.head()"
   ]
  },
  {
   "cell_type": "code",
   "execution_count": 12,
   "metadata": {},
   "outputs": [
    {
     "data": {
      "text/plain": [
       "32"
      ]
     },
     "execution_count": 12,
     "metadata": {},
     "output_type": "execute_result"
    }
   ],
   "source": [
    "len(hk_results_df)"
   ]
  },
  {
   "cell_type": "code",
   "execution_count": 14,
   "metadata": {},
   "outputs": [
    {
     "data": {
      "text/html": [
       "<div>\n",
       "<style scoped>\n",
       "    .dataframe tbody tr th:only-of-type {\n",
       "        vertical-align: middle;\n",
       "    }\n",
       "\n",
       "    .dataframe tbody tr th {\n",
       "        vertical-align: top;\n",
       "    }\n",
       "\n",
       "    .dataframe thead th {\n",
       "        text-align: right;\n",
       "    }\n",
       "</style>\n",
       "<table border=\"1\" class=\"dataframe\">\n",
       "  <thead>\n",
       "    <tr style=\"text-align: right;\">\n",
       "      <th></th>\n",
       "      <th>monoisotopic_mass</th>\n",
       "      <th>charge</th>\n",
       "      <th>intensity</th>\n",
       "      <th>base_isotope_peak</th>\n",
       "      <th>analysis_window</th>\n",
       "      <th>deprecated</th>\n",
       "      <th>modifications</th>\n",
       "      <th>correlation</th>\n",
       "      <th>feature_id</th>\n",
       "      <th>peak_id</th>\n",
       "      <th>centroid_mz</th>\n",
       "      <th>intensity_peak_id</th>\n",
       "    </tr>\n",
       "  </thead>\n",
       "  <tbody>\n",
       "    <tr>\n",
       "      <th>0</th>\n",
       "      <td>989.3841</td>\n",
       "      <td>3</td>\n",
       "      <td>8266</td>\n",
       "      <td>330.802</td>\n",
       "      <td>328.9110-331.9370</td>\n",
       "      <td>0.0</td>\n",
       "      <td>_</td>\n",
       "      <td>0.7213</td>\n",
       "      <td>19869</td>\n",
       "      <td>22977</td>\n",
       "      <td>330.802</td>\n",
       "      <td>8266.22977</td>\n",
       "    </tr>\n",
       "  </tbody>\n",
       "</table>\n",
       "</div>"
      ],
      "text/plain": [
       "   monoisotopic_mass  charge  intensity  base_isotope_peak    analysis_window  \\\n",
       "0           989.3841       3       8266            330.802  328.9110-331.9370   \n",
       "\n",
       "   deprecated modifications  correlation  feature_id  peak_id  centroid_mz  \\\n",
       "0         0.0             _       0.7213       19869    22977      330.802   \n",
       "\n",
       "  intensity_peak_id  \n",
       "0        8266.22977  "
      ]
     },
     "execution_count": 14,
     "metadata": {},
     "output_type": "execute_result"
    }
   ],
   "source": [
    "hk_results_df[hk_results_df.monoisotopic_mass == 989.3841]"
   ]
  },
  {
   "cell_type": "code",
   "execution_count": null,
   "metadata": {},
   "outputs": [],
   "source": []
  }
 ],
 "metadata": {
  "kernelspec": {
   "display_name": "Python 2",
   "language": "python",
   "name": "python2"
  },
  "language_info": {
   "codemirror_mode": {
    "name": "ipython",
    "version": 2
   },
   "file_extension": ".py",
   "mimetype": "text/x-python",
   "name": "python",
   "nbconvert_exporter": "python",
   "pygments_lexer": "ipython2",
   "version": "2.7.15"
  }
 },
 "nbformat": 4,
 "nbformat_minor": 2
}
