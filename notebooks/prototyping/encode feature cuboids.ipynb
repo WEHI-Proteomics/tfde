{
 "cells": [
  {
   "cell_type": "code",
   "execution_count": 37,
   "metadata": {},
   "outputs": [],
   "source": [
    "from tensorflow.keras.applications.vgg16 import VGG16\n",
    "from tensorflow.keras.preprocessing import image\n",
    "from tensorflow.keras.applications.vgg16 import preprocess_input\n",
    "import numpy as np\n",
    "import PIL\n",
    "import glob\n",
    "import pickle\n",
    "import os\n",
    "import shutil"
   ]
  },
  {
   "cell_type": "code",
   "execution_count": 38,
   "metadata": {},
   "outputs": [],
   "source": [
    "model = VGG16(weights='imagenet', include_top=False)"
   ]
  },
  {
   "cell_type": "code",
   "execution_count": 39,
   "metadata": {},
   "outputs": [],
   "source": [
    "RUN_NAME = '190719_Hela_Ecoli_1to1_01'\n",
    "EXPERIMENT_DIR = '/Users/darylwilding-mcbride/Downloads/experiments/dwm-test'\n",
    "ENCODED_FEATURE_SLICES_DIR = '{}/encoded-features/{}/slices'.format(EXPERIMENT_DIR, RUN_NAME)\n",
    "ENCODED_FEATURE_VECTOR_SEQUENCES_DIR = '{}/encoded-features/{}/vector-sequences'.format(EXPERIMENT_DIR, RUN_NAME)"
   ]
  },
  {
   "cell_type": "code",
   "execution_count": 40,
   "metadata": {},
   "outputs": [],
   "source": [
    "if not os.path.exists(ENCODED_FEATURE_SLICES_DIR):\n",
    "    print(\"The encoded features directory doesn't exist: {}\".format(ENCODED_FEATURE_SLICES_DIR))\n",
    "    sys.exit(1)\n",
    "\n",
    "if os.path.exists(ENCODED_FEATURE_VECTOR_SEQUENCES_DIR):\n",
    "    shutil.rmtree(ENCODED_FEATURE_VECTOR_SEQUENCES_DIR)\n",
    "os.makedirs(ENCODED_FEATURE_VECTOR_SEQUENCES_DIR)"
   ]
  },
  {
   "cell_type": "code",
   "execution_count": 41,
   "metadata": {},
   "outputs": [],
   "source": [
    "FEATURE_ID = 946201"
   ]
  },
  {
   "cell_type": "code",
   "execution_count": 42,
   "metadata": {},
   "outputs": [],
   "source": [
    "feature_vectors_l = []\n",
    "feature_slices_l = glob.glob(\"{}/feature-{}-slice-*.png\".format(ENCODED_FEATURE_SLICES_DIR, FEATURE_ID))\n",
    "for feature_slice in sorted(feature_slices_l):\n",
    "    # load the image and generate the feature vector\n",
    "    img = image.load_img(feature_slice, target_size=(224, 224))\n",
    "    x = image.img_to_array(img)\n",
    "    x = np.expand_dims(x, axis=0)\n",
    "    x = preprocess_input(x)\n",
    "    features = model.predict(x)\n",
    "    feature_vector = features.flatten()\n",
    "    feature_vectors_l.append(feature_vector)\n",
    "\n",
    "# save the feature vectors\n",
    "VECTOR_SEQUENCE_FILE = '{}/vector-sequence-feature-{}.pkl'.format(ENCODED_FEATURE_VECTOR_SEQUENCES_DIR, FEATURE_ID)\n",
    "with open(VECTOR_SEQUENCE_FILE, 'wb') as f:\n",
    "    pickle.dump(feature_vectors_l, f)\n"
   ]
  },
  {
   "cell_type": "code",
   "execution_count": null,
   "metadata": {},
   "outputs": [],
   "source": []
  }
 ],
 "metadata": {
  "kernelspec": {
   "display_name": "py38-tf",
   "language": "python",
   "name": "py38-tf"
  },
  "language_info": {
   "codemirror_mode": {
    "name": "ipython",
    "version": 3
   },
   "file_extension": ".py",
   "mimetype": "text/x-python",
   "name": "python",
   "nbconvert_exporter": "python",
   "pygments_lexer": "ipython3",
   "version": "3.8.3"
  }
 },
 "nbformat": 4,
 "nbformat_minor": 4
}
