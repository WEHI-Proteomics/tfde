{
 "cells": [
  {
   "cell_type": "code",
   "execution_count": 1,
   "metadata": {},
   "outputs": [],
   "source": [
    "import pandas as pd\n",
    "import sqlite3\n",
    "import matplotlib.pyplot as plt"
   ]
  },
  {
   "cell_type": "code",
   "execution_count": 2,
   "metadata": {},
   "outputs": [],
   "source": [
    "identified_feaures_df = pd.read_pickle('/data/experiments/YHE/sequence-library/percolator-id-feature-mapping.pkl')"
   ]
  },
  {
   "cell_type": "code",
   "execution_count": 3,
   "metadata": {},
   "outputs": [
    {
     "data": {
      "text/plain": [
       "Index(['file_idx', 'scan', 'charge_x', 'spectrum precursor m/z',\n",
       "       'spectrum neutral mass', 'peptide mass', 'percolator score',\n",
       "       'percolator q-value', 'percolator PEP', 'total matches/spectrum',\n",
       "       'sequence', 'protein id', 'flanking aa', 'feature_id', 'charge_y',\n",
       "       'rt_apex', 'rt_peak_width', 'scan_apex', 'scan_peak_width', 'intensity',\n",
       "       'precursor_id', 'monoisotopic_mass', 'predicted_mass_error',\n",
       "       'recalibrated_monoisotopic_mass', 'recalibrated_monoisotopic_mz',\n",
       "       'percolator_idx', 'human'],\n",
       "      dtype='object')"
      ]
     },
     "execution_count": 3,
     "metadata": {},
     "output_type": "execute_result"
    }
   ],
   "source": [
    "identified_feaures_df.columns"
   ]
  },
  {
   "cell_type": "code",
   "execution_count": 4,
   "metadata": {},
   "outputs": [
    {
     "data": {
      "text/plain": [
       "3498"
      ]
     },
     "execution_count": 4,
     "metadata": {},
     "output_type": "execute_result"
    }
   ],
   "source": [
    "len(identified_feaures_df[identified_feaures_df['peptide mass'] <= 0])"
   ]
  },
  {
   "cell_type": "code",
   "execution_count": 5,
   "metadata": {},
   "outputs": [],
   "source": [
    "# remove the rubbish peptide masses\n",
    "identified_feaures_df = identified_feaures_df[identified_feaures_df['peptide mass'] > 0]"
   ]
  },
  {
   "cell_type": "code",
   "execution_count": 6,
   "metadata": {},
   "outputs": [
    {
     "data": {
      "text/plain": [
       "564292"
      ]
     },
     "execution_count": 6,
     "metadata": {},
     "output_type": "execute_result"
    }
   ],
   "source": [
    "len(identified_feaures_df)"
   ]
  },
  {
   "cell_type": "code",
   "execution_count": 7,
   "metadata": {},
   "outputs": [],
   "source": [
    "identified_features_from_runs_l = []\n",
    "for group_name,group_df in identified_feaures_df.groupby(['sequence','charge_x'], as_index=False):\n",
    "    file_ids_l = list(group_df.file_idx.unique())\n",
    "    identified_features_from_runs_l.append((group_name[0], group_name[1], file_ids_l))"
   ]
  },
  {
   "cell_type": "code",
   "execution_count": 8,
   "metadata": {},
   "outputs": [],
   "source": [
    "identified_features_from_runs_df = pd.DataFrame(identified_features_from_runs_l, columns=['sequence','charge','file_ids_identified'])"
   ]
  },
  {
   "cell_type": "code",
   "execution_count": 9,
   "metadata": {},
   "outputs": [],
   "source": [
    "db_conn = sqlite3.connect('/data/experiments/YHE/target-decoy-models/experiment-metrics-for-library-sequences.sqlite')\n",
    "extracted_features_df = pd.read_sql_query(\"select * from extracted_metrics\", db_conn)\n",
    "db_conn.close()"
   ]
  },
  {
   "cell_type": "code",
   "execution_count": 10,
   "metadata": {},
   "outputs": [
    {
     "data": {
      "text/plain": [
       "Index(['sequence', 'charge', 'theoretical_mz', 'experiment_scan_mean',\n",
       "       'experiment_scan_std_dev', 'experiment_scan_peak_width',\n",
       "       'experiment_rt_mean', 'experiment_rt_std_dev',\n",
       "       'experiment_rt_peak_width', 'experiment_intensity_mean',\n",
       "       'experiment_intensity_std_dev', 'number_of_runs_identified', 'q_value',\n",
       "       'file_idx', 'target_coords', 'decoy_coords', 'peak_idx',\n",
       "       'target_metrics', 'attributes', 'decoy_metrics', 'peak_count'],\n",
       "      dtype='object')"
      ]
     },
     "execution_count": 10,
     "metadata": {},
     "output_type": "execute_result"
    }
   ],
   "source": [
    "extracted_features_df.columns"
   ]
  },
  {
   "cell_type": "code",
   "execution_count": 11,
   "metadata": {},
   "outputs": [],
   "source": [
    "extracted_features_from_runs_l = []\n",
    "for group_name,group_df in extracted_features_df.groupby(['sequence','charge'], as_index=False):\n",
    "    file_ids_l = list(group_df.file_idx.unique())\n",
    "    extracted_features_from_runs_l.append((group_name[0], group_name[1], file_ids_l))"
   ]
  },
  {
   "cell_type": "code",
   "execution_count": 12,
   "metadata": {},
   "outputs": [],
   "source": [
    "extracted_features_from_runs_df = pd.DataFrame(extracted_features_from_runs_l, columns=['sequence','charge','file_ids_extracted'])"
   ]
  },
  {
   "cell_type": "code",
   "execution_count": 13,
   "metadata": {},
   "outputs": [],
   "source": [
    "features_df = pd.merge(identified_features_from_runs_df, extracted_features_from_runs_df, how='inner', left_on=['sequence','charge'], right_on=['sequence','charge'])"
   ]
  },
  {
   "cell_type": "code",
   "execution_count": 14,
   "metadata": {},
   "outputs": [],
   "source": [
    "features_df['runs_identified_not_extracted'] = features_df.apply(lambda row: list(set(row.file_ids_identified).difference(row.file_ids_extracted)), axis=1)\n",
    "features_df['number_runs_identified'] = features_df.apply(lambda row: len(row.file_ids_identified), axis=1)\n",
    "features_df['number_runs_extracted'] = features_df.apply(lambda row: len(row.file_ids_extracted), axis=1)\n",
    "features_df['number_runs_identified_not_extracted'] = features_df.apply(lambda row: len(row.runs_identified_not_extracted), axis=1)\n",
    "features_df['proportion_runs_identified_not_extracted'] = features_df.number_runs_identified_not_extracted / features_df.number_runs_identified"
   ]
  },
  {
   "cell_type": "code",
   "execution_count": 15,
   "metadata": {},
   "outputs": [
    {
     "data": {
      "text/html": [
       "<div>\n",
       "<style scoped>\n",
       "    .dataframe tbody tr th:only-of-type {\n",
       "        vertical-align: middle;\n",
       "    }\n",
       "\n",
       "    .dataframe tbody tr th {\n",
       "        vertical-align: top;\n",
       "    }\n",
       "\n",
       "    .dataframe thead th {\n",
       "        text-align: right;\n",
       "    }\n",
       "</style>\n",
       "<table border=\"1\" class=\"dataframe\">\n",
       "  <thead>\n",
       "    <tr style=\"text-align: right;\">\n",
       "      <th></th>\n",
       "      <th>sequence</th>\n",
       "      <th>charge</th>\n",
       "      <th>file_ids_identified</th>\n",
       "      <th>file_ids_extracted</th>\n",
       "      <th>runs_identified_not_extracted</th>\n",
       "      <th>number_runs_identified</th>\n",
       "      <th>number_runs_extracted</th>\n",
       "      <th>number_runs_identified_not_extracted</th>\n",
       "      <th>proportion_runs_identified_not_extracted</th>\n",
       "    </tr>\n",
       "  </thead>\n",
       "  <tbody>\n",
       "    <tr>\n",
       "      <th>1652</th>\n",
       "      <td>ANVVVHCASPMHGQNPDIYDIVNVK</td>\n",
       "      <td>3</td>\n",
       "      <td>[30, 28]</td>\n",
       "      <td>[16, 28, 4, 23, 15, 9, 25, 24, 27, 29, 14, 18,...</td>\n",
       "      <td>[]</td>\n",
       "      <td>2</td>\n",
       "      <td>21</td>\n",
       "      <td>0</td>\n",
       "      <td>0.0</td>\n",
       "    </tr>\n",
       "    <tr>\n",
       "      <th>20002</th>\n",
       "      <td>NLANTVTEEILEK</td>\n",
       "      <td>2</td>\n",
       "      <td>[6, 7, 17, 19, 18, 1, 24, 12, 2, 3, 29]</td>\n",
       "      <td>[16, 28, 4, 23, 17, 15, 9, 25, 24, 1, 27, 6, 2...</td>\n",
       "      <td>[]</td>\n",
       "      <td>11</td>\n",
       "      <td>31</td>\n",
       "      <td>0</td>\n",
       "      <td>0.0</td>\n",
       "    </tr>\n",
       "    <tr>\n",
       "      <th>30302</th>\n",
       "      <td>VWSDMAVWNEDYCK</td>\n",
       "      <td>2</td>\n",
       "      <td>[8, 11]</td>\n",
       "      <td>[16, 28, 4, 23, 17, 15, 9, 25, 24, 1, 27, 6, 2...</td>\n",
       "      <td>[]</td>\n",
       "      <td>2</td>\n",
       "      <td>31</td>\n",
       "      <td>0</td>\n",
       "      <td>0.0</td>\n",
       "    </tr>\n",
       "    <tr>\n",
       "      <th>8789</th>\n",
       "      <td>FNVLQYVVPEVK</td>\n",
       "      <td>2</td>\n",
       "      <td>[5, 1, 3, 4, 12, 2, 17, 7, 6, 19, 18, 26]</td>\n",
       "      <td>[16, 28, 4, 23, 17, 15, 9, 25, 24, 1, 27, 6, 2...</td>\n",
       "      <td>[]</td>\n",
       "      <td>12</td>\n",
       "      <td>31</td>\n",
       "      <td>0</td>\n",
       "      <td>0.0</td>\n",
       "    </tr>\n",
       "    <tr>\n",
       "      <th>27072</th>\n",
       "      <td>TNLDESDVQPVK</td>\n",
       "      <td>2</td>\n",
       "      <td>[20]</td>\n",
       "      <td>[17, 15, 20, 12, 3, 2, 14, 18, 10, 19, 30, 7, ...</td>\n",
       "      <td>[]</td>\n",
       "      <td>1</td>\n",
       "      <td>16</td>\n",
       "      <td>0</td>\n",
       "      <td>0.0</td>\n",
       "    </tr>\n",
       "    <tr>\n",
       "      <th>30161</th>\n",
       "      <td>VVITAPSSTAPM[15.9949]FVMGVNEEK</td>\n",
       "      <td>2</td>\n",
       "      <td>[13, 24, 28, 8, 20, 30, 26, 9, 15, 16, 18]</td>\n",
       "      <td>[16, 28, 4, 23, 17, 15, 9, 25, 24, 1, 27, 6, 2...</td>\n",
       "      <td>[]</td>\n",
       "      <td>11</td>\n",
       "      <td>31</td>\n",
       "      <td>0</td>\n",
       "      <td>0.0</td>\n",
       "    </tr>\n",
       "    <tr>\n",
       "      <th>7434</th>\n",
       "      <td>ESTLEAIGYICQDIDPEQLQDK</td>\n",
       "      <td>2</td>\n",
       "      <td>[20, 28, 16, 22, 8, 30, 24, 9, 13, 14, 21, 0, ...</td>\n",
       "      <td>[16, 28, 4, 23, 17, 15, 9, 25, 24, 1, 27, 6, 2...</td>\n",
       "      <td>[]</td>\n",
       "      <td>31</td>\n",
       "      <td>31</td>\n",
       "      <td>0</td>\n",
       "      <td>0.0</td>\n",
       "    </tr>\n",
       "    <tr>\n",
       "      <th>17213</th>\n",
       "      <td>LPSETIFVGCEFLHHLLR</td>\n",
       "      <td>3</td>\n",
       "      <td>[22, 18, 16, 27, 10, 30, 24, 9, 21, 11, 20, 26...</td>\n",
       "      <td>[16, 28, 4, 23, 17, 15, 9, 25, 24, 1, 27, 6, 2...</td>\n",
       "      <td>[]</td>\n",
       "      <td>17</td>\n",
       "      <td>31</td>\n",
       "      <td>0</td>\n",
       "      <td>0.0</td>\n",
       "    </tr>\n",
       "    <tr>\n",
       "      <th>1676</th>\n",
       "      <td>APEDFSQNWK</td>\n",
       "      <td>2</td>\n",
       "      <td>[17]</td>\n",
       "      <td>[16, 28, 4, 23, 17, 15, 9, 25, 24, 1, 27, 6, 2...</td>\n",
       "      <td>[]</td>\n",
       "      <td>1</td>\n",
       "      <td>31</td>\n",
       "      <td>0</td>\n",
       "      <td>0.0</td>\n",
       "    </tr>\n",
       "    <tr>\n",
       "      <th>22331</th>\n",
       "      <td>Q[-17.0265]FANSNNNNNDSGNNNQGDYVTK</td>\n",
       "      <td>2</td>\n",
       "      <td>[24, 11, 15, 0, 29, 20, 30, 13, 8, 22]</td>\n",
       "      <td>[16, 28, 23, 15, 9, 25, 24, 27, 20, 29, 14, 18...</td>\n",
       "      <td>[]</td>\n",
       "      <td>10</td>\n",
       "      <td>21</td>\n",
       "      <td>0</td>\n",
       "      <td>0.0</td>\n",
       "    </tr>\n",
       "  </tbody>\n",
       "</table>\n",
       "</div>"
      ],
      "text/plain": [
       "                                sequence  charge  \\\n",
       "1652           ANVVVHCASPMHGQNPDIYDIVNVK       3   \n",
       "20002                      NLANTVTEEILEK       2   \n",
       "30302                     VWSDMAVWNEDYCK       2   \n",
       "8789                        FNVLQYVVPEVK       2   \n",
       "27072                       TNLDESDVQPVK       2   \n",
       "30161     VVITAPSSTAPM[15.9949]FVMGVNEEK       2   \n",
       "7434              ESTLEAIGYICQDIDPEQLQDK       2   \n",
       "17213                 LPSETIFVGCEFLHHLLR       3   \n",
       "1676                          APEDFSQNWK       2   \n",
       "22331  Q[-17.0265]FANSNNNNNDSGNNNQGDYVTK       2   \n",
       "\n",
       "                                     file_ids_identified  \\\n",
       "1652                                            [30, 28]   \n",
       "20002            [6, 7, 17, 19, 18, 1, 24, 12, 2, 3, 29]   \n",
       "30302                                            [8, 11]   \n",
       "8789           [5, 1, 3, 4, 12, 2, 17, 7, 6, 19, 18, 26]   \n",
       "27072                                               [20]   \n",
       "30161         [13, 24, 28, 8, 20, 30, 26, 9, 15, 16, 18]   \n",
       "7434   [20, 28, 16, 22, 8, 30, 24, 9, 13, 14, 21, 0, ...   \n",
       "17213  [22, 18, 16, 27, 10, 30, 24, 9, 21, 11, 20, 26...   \n",
       "1676                                                [17]   \n",
       "22331             [24, 11, 15, 0, 29, 20, 30, 13, 8, 22]   \n",
       "\n",
       "                                      file_ids_extracted  \\\n",
       "1652   [16, 28, 4, 23, 15, 9, 25, 24, 27, 29, 14, 18,...   \n",
       "20002  [16, 28, 4, 23, 17, 15, 9, 25, 24, 1, 27, 6, 2...   \n",
       "30302  [16, 28, 4, 23, 17, 15, 9, 25, 24, 1, 27, 6, 2...   \n",
       "8789   [16, 28, 4, 23, 17, 15, 9, 25, 24, 1, 27, 6, 2...   \n",
       "27072  [17, 15, 20, 12, 3, 2, 14, 18, 10, 19, 30, 7, ...   \n",
       "30161  [16, 28, 4, 23, 17, 15, 9, 25, 24, 1, 27, 6, 2...   \n",
       "7434   [16, 28, 4, 23, 17, 15, 9, 25, 24, 1, 27, 6, 2...   \n",
       "17213  [16, 28, 4, 23, 17, 15, 9, 25, 24, 1, 27, 6, 2...   \n",
       "1676   [16, 28, 4, 23, 17, 15, 9, 25, 24, 1, 27, 6, 2...   \n",
       "22331  [16, 28, 23, 15, 9, 25, 24, 27, 20, 29, 14, 18...   \n",
       "\n",
       "      runs_identified_not_extracted  number_runs_identified  \\\n",
       "1652                             []                       2   \n",
       "20002                            []                      11   \n",
       "30302                            []                       2   \n",
       "8789                             []                      12   \n",
       "27072                            []                       1   \n",
       "30161                            []                      11   \n",
       "7434                             []                      31   \n",
       "17213                            []                      17   \n",
       "1676                             []                       1   \n",
       "22331                            []                      10   \n",
       "\n",
       "       number_runs_extracted  number_runs_identified_not_extracted  \\\n",
       "1652                      21                                     0   \n",
       "20002                     31                                     0   \n",
       "30302                     31                                     0   \n",
       "8789                      31                                     0   \n",
       "27072                     16                                     0   \n",
       "30161                     31                                     0   \n",
       "7434                      31                                     0   \n",
       "17213                     31                                     0   \n",
       "1676                      31                                     0   \n",
       "22331                     21                                     0   \n",
       "\n",
       "       proportion_runs_identified_not_extracted  \n",
       "1652                                        0.0  \n",
       "20002                                       0.0  \n",
       "30302                                       0.0  \n",
       "8789                                        0.0  \n",
       "27072                                       0.0  \n",
       "30161                                       0.0  \n",
       "7434                                        0.0  \n",
       "17213                                       0.0  \n",
       "1676                                        0.0  \n",
       "22331                                       0.0  "
      ]
     },
     "execution_count": 15,
     "metadata": {},
     "output_type": "execute_result"
    }
   ],
   "source": [
    "features_df.sample(n=10)"
   ]
  },
  {
   "cell_type": "code",
   "execution_count": 16,
   "metadata": {},
   "outputs": [
    {
     "data": {
      "image/png": "[encoded data removed]",
      "text/plain": [
       "<Figure size 1080x576 with 1 Axes>"
      ]
     },
     "metadata": {
      "needs_background": "light"
     },
     "output_type": "display_data"
    }
   ],
   "source": [
    "f, ax1 = plt.subplots()\n",
    "f.set_figheight(8)\n",
    "f.set_figwidth(15)\n",
    "\n",
    "plt.margins(0.06)\n",
    "plt.title('')\n",
    "\n",
    "bins = 30\n",
    "values = features_df.number_runs_identified_not_extracted\n",
    "y, x, _ = ax1.hist(values, bins=bins)\n",
    "# mean = np.mean(values)\n",
    "# ax1.axvline(mean, color='darkorange', lw=1.0, ls='-.', label='mean')\n",
    "# text_style = dict(size=10, color='brown', verticalalignment='center', horizontalalignment='left')\n",
    "# ax1.text(mean*0.85, y.max()*0.98, \"mean {}\".format(round(mean,2)), **text_style, rotation='vertical')\n",
    "\n",
    "plt.xlabel('number of runs a peptide could not be extracted from a run in which it was identified')\n",
    "plt.ylabel('peptide count')\n",
    "plt.title('distribution of the number of runs in which a peptide was identified but not extracted')\n",
    "# plt.xlim((0,120))\n",
    "# plt.ylim((0,600))\n",
    "\n",
    "plt.show()"
   ]
  },
  {
   "cell_type": "code",
   "execution_count": 17,
   "metadata": {},
   "outputs": [
    {
     "data": {
      "image/png": "[encoded data removed]",
      "text/plain": [
       "<Figure size 1080x576 with 1 Axes>"
      ]
     },
     "metadata": {
      "needs_background": "light"
     },
     "output_type": "display_data"
    }
   ],
   "source": [
    "f, ax1 = plt.subplots()\n",
    "f.set_figheight(8)\n",
    "f.set_figwidth(15)\n",
    "\n",
    "plt.margins(0.06)\n",
    "plt.title('')\n",
    "\n",
    "bins = 30\n",
    "values = features_df.proportion_runs_identified_not_extracted\n",
    "y, x, _ = ax1.hist(values, bins=bins)\n",
    "# mean = np.mean(values)\n",
    "# ax1.axvline(mean, color='darkorange', lw=1.0, ls='-.', label='mean')\n",
    "# text_style = dict(size=10, color='brown', verticalalignment='center', horizontalalignment='left')\n",
    "# ax1.text(mean*0.85, y.max()*0.98, \"mean {}\".format(round(mean,2)), **text_style, rotation='vertical')\n",
    "\n",
    "plt.xlabel('proportion of runs a peptide could not be extracted from a run in which it was identified')\n",
    "plt.ylabel('peptide count')\n",
    "plt.title('distribution of the number of runs in which a peptide was identified but not extracted')\n",
    "# plt.xlim((0,120))\n",
    "# plt.ylim((0,600))\n",
    "\n",
    "plt.show()"
   ]
  },
  {
   "cell_type": "markdown",
   "metadata": {},
   "source": [
    "#### analyse the reasons for extraction failure in one of the runs"
   ]
  },
  {
   "cell_type": "code",
   "execution_count": 31,
   "metadata": {},
   "outputs": [],
   "source": [
    "reasons_df = pd.read_csv('/home/ubuntu/reasons.csv', header=0, names=['reason','sequence','charge','run_name','file_id'])"
   ]
  },
  {
   "cell_type": "code",
   "execution_count": 32,
   "metadata": {},
   "outputs": [],
   "source": [
    "reasons_df['reason'] = reasons_df.apply(lambda row: row.reason.split(': ')[1], axis=1)\n",
    "reasons_df['sequence'] = reasons_df.apply(lambda row: row.sequence.split('sequence ')[1], axis=1)\n",
    "reasons_df['charge'] = reasons_df.apply(lambda row: int(row.charge.split('charge ')[1]), axis=1)\n",
    "reasons_df['file_id'] = reasons_df.apply(lambda row: int(row.file_id.split('file_id ')[1].split('.')[0]), axis=1)"
   ]
  },
  {
   "cell_type": "code",
   "execution_count": 33,
   "metadata": {},
   "outputs": [
    {
     "data": {
      "text/html": [
       "<div>\n",
       "<style scoped>\n",
       "    .dataframe tbody tr th:only-of-type {\n",
       "        vertical-align: middle;\n",
       "    }\n",
       "\n",
       "    .dataframe tbody tr th {\n",
       "        vertical-align: top;\n",
       "    }\n",
       "\n",
       "    .dataframe thead th {\n",
       "        text-align: right;\n",
       "    }\n",
       "</style>\n",
       "<table border=\"1\" class=\"dataframe\">\n",
       "  <thead>\n",
       "    <tr style=\"text-align: right;\">\n",
       "      <th></th>\n",
       "      <th>reason</th>\n",
       "      <th>sequence</th>\n",
       "      <th>charge</th>\n",
       "      <th>run_name</th>\n",
       "      <th>file_id</th>\n",
       "    </tr>\n",
       "  </thead>\n",
       "  <tbody>\n",
       "    <tr>\n",
       "      <th>375</th>\n",
       "      <td>only found 1 isotopes</td>\n",
       "      <td>DLSYCLSGMYDHR</td>\n",
       "      <td>3</td>\n",
       "      <td>run YHE114_01_Slot1-1_1_3008</td>\n",
       "      <td>0</td>\n",
       "    </tr>\n",
       "    <tr>\n",
       "      <th>2872</th>\n",
       "      <td>only found 0 isotopes</td>\n",
       "      <td>YASICQQNGIVPIVEPEILPDGDHDLKR</td>\n",
       "      <td>4</td>\n",
       "      <td>run YHE114_01_Slot1-1_1_3008</td>\n",
       "      <td>0</td>\n",
       "    </tr>\n",
       "    <tr>\n",
       "      <th>2015</th>\n",
       "      <td>only found 0 isotopes</td>\n",
       "      <td>Q[-17.0265]GGSQPSSFSPGQSQVTPQDQEK</td>\n",
       "      <td>2</td>\n",
       "      <td>run YHE114_01_Slot1-1_1_3008</td>\n",
       "      <td>0</td>\n",
       "    </tr>\n",
       "    <tr>\n",
       "      <th>1508</th>\n",
       "      <td>only found 0 isotopes</td>\n",
       "      <td>LNLPINIIGLAPLCENM[15.9949]PSGK</td>\n",
       "      <td>3</td>\n",
       "      <td>run YHE114_01_Slot1-1_1_3008</td>\n",
       "      <td>0</td>\n",
       "    </tr>\n",
       "    <tr>\n",
       "      <th>818</th>\n",
       "      <td>only found 0 isotopes</td>\n",
       "      <td>GEETPVIVGSALCALEGR</td>\n",
       "      <td>3</td>\n",
       "      <td>run YHE114_01_Slot1-1_1_3008</td>\n",
       "      <td>0</td>\n",
       "    </tr>\n",
       "  </tbody>\n",
       "</table>\n",
       "</div>"
      ],
      "text/plain": [
       "                     reason                           sequence  charge  \\\n",
       "375   only found 1 isotopes                      DLSYCLSGMYDHR       3   \n",
       "2872  only found 0 isotopes       YASICQQNGIVPIVEPEILPDGDHDLKR       4   \n",
       "2015  only found 0 isotopes  Q[-17.0265]GGSQPSSFSPGQSQVTPQDQEK       2   \n",
       "1508  only found 0 isotopes     LNLPINIIGLAPLCENM[15.9949]PSGK       3   \n",
       "818   only found 0 isotopes                 GEETPVIVGSALCALEGR       3   \n",
       "\n",
       "                           run_name  file_id  \n",
       "375    run YHE114_01_Slot1-1_1_3008        0  \n",
       "2872   run YHE114_01_Slot1-1_1_3008        0  \n",
       "2015   run YHE114_01_Slot1-1_1_3008        0  \n",
       "1508   run YHE114_01_Slot1-1_1_3008        0  \n",
       "818    run YHE114_01_Slot1-1_1_3008        0  "
      ]
     },
     "execution_count": 33,
     "metadata": {},
     "output_type": "execute_result"
    }
   ],
   "source": [
    "reasons_df.sample(n=5)"
   ]
  },
  {
   "cell_type": "code",
   "execution_count": 21,
   "metadata": {},
   "outputs": [],
   "source": [
    "file_id_of_interest = 2"
   ]
  },
  {
   "cell_type": "code",
   "execution_count": 22,
   "metadata": {},
   "outputs": [
    {
     "data": {
      "text/plain": [
       "990"
      ]
     },
     "execution_count": 22,
     "metadata": {},
     "output_type": "execute_result"
    }
   ],
   "source": [
    "failed_extracts_df = features_df[features_df.apply(lambda row: file_id_of_interest in row.runs_identified_not_extracted, axis=1)]\n",
    "len(failed_extracts_df)"
   ]
  },
  {
   "cell_type": "code",
   "execution_count": 23,
   "metadata": {},
   "outputs": [],
   "source": [
    "failed_extracts_reason_df = pd.merge(failed_extracts_df, reasons_df, how='left', left_on=['sequence','charge'], right_on=['sequence','charge'])\n"
   ]
  },
  {
   "cell_type": "code",
   "execution_count": 30,
   "metadata": {},
   "outputs": [
    {
     "data": {
      "text/html": [
       "<div>\n",
       "<style scoped>\n",
       "    .dataframe tbody tr th:only-of-type {\n",
       "        vertical-align: middle;\n",
       "    }\n",
       "\n",
       "    .dataframe tbody tr th {\n",
       "        vertical-align: top;\n",
       "    }\n",
       "\n",
       "    .dataframe thead th {\n",
       "        text-align: right;\n",
       "    }\n",
       "</style>\n",
       "<table border=\"1\" class=\"dataframe\">\n",
       "  <thead>\n",
       "    <tr style=\"text-align: right;\">\n",
       "      <th></th>\n",
       "      <th>sequence</th>\n",
       "      <th>charge</th>\n",
       "      <th>reason</th>\n",
       "    </tr>\n",
       "  </thead>\n",
       "  <tbody>\n",
       "    <tr>\n",
       "      <th>325</th>\n",
       "      <td>GPPALGTAGSR</td>\n",
       "      <td>2</td>\n",
       "      <td>only found 2 isotopes</td>\n",
       "    </tr>\n",
       "    <tr>\n",
       "      <th>43</th>\n",
       "      <td>ALADLVHSHIQSNELCSK</td>\n",
       "      <td>3</td>\n",
       "      <td>NaN</td>\n",
       "    </tr>\n",
       "    <tr>\n",
       "      <th>888</th>\n",
       "      <td>VGSLDNVGHLPAGGAVK</td>\n",
       "      <td>3</td>\n",
       "      <td>no L2 candidate peaks were found</td>\n",
       "    </tr>\n",
       "    <tr>\n",
       "      <th>172</th>\n",
       "      <td>DVATVAFCDAQSTQEIHEK</td>\n",
       "      <td>2</td>\n",
       "      <td>NaN</td>\n",
       "    </tr>\n",
       "    <tr>\n",
       "      <th>166</th>\n",
       "      <td>DSTLIMQLLR</td>\n",
       "      <td>2</td>\n",
       "      <td>NaN</td>\n",
       "    </tr>\n",
       "    <tr>\n",
       "      <th>224</th>\n",
       "      <td>ENAEVDGDDDAEEMEAK</td>\n",
       "      <td>2</td>\n",
       "      <td>no peaks were found in the monoisotopic peak f...</td>\n",
       "    </tr>\n",
       "    <tr>\n",
       "      <th>663</th>\n",
       "      <td>QVVQGLLSETYLEAHR</td>\n",
       "      <td>3</td>\n",
       "      <td>NaN</td>\n",
       "    </tr>\n",
       "    <tr>\n",
       "      <th>711</th>\n",
       "      <td>RFPELESLVPNALDYIR</td>\n",
       "      <td>3</td>\n",
       "      <td>only found 1 isotopes</td>\n",
       "    </tr>\n",
       "    <tr>\n",
       "      <th>892</th>\n",
       "      <td>VIAINVDDPDAANYNDINDVKR</td>\n",
       "      <td>3</td>\n",
       "      <td>NaN</td>\n",
       "    </tr>\n",
       "    <tr>\n",
       "      <th>682</th>\n",
       "      <td>Q[-17.0265]LEDCLILQTLLHSK</td>\n",
       "      <td>2</td>\n",
       "      <td>NaN</td>\n",
       "    </tr>\n",
       "    <tr>\n",
       "      <th>106</th>\n",
       "      <td>DASDFVASLLPFGNK</td>\n",
       "      <td>2</td>\n",
       "      <td>NaN</td>\n",
       "    </tr>\n",
       "    <tr>\n",
       "      <th>728</th>\n",
       "      <td>RTDLCDHALHISHDEL</td>\n",
       "      <td>3</td>\n",
       "      <td>NaN</td>\n",
       "    </tr>\n",
       "    <tr>\n",
       "      <th>39</th>\n",
       "      <td>AIQGGTSHHLGQNFSK</td>\n",
       "      <td>2</td>\n",
       "      <td>no L2 candidate peaks were found</td>\n",
       "    </tr>\n",
       "    <tr>\n",
       "      <th>645</th>\n",
       "      <td>QHMENEMAHYACDCWDAESK</td>\n",
       "      <td>3</td>\n",
       "      <td>NaN</td>\n",
       "    </tr>\n",
       "    <tr>\n",
       "      <th>672</th>\n",
       "      <td>Q[-17.0265]FAFVHMR</td>\n",
       "      <td>2</td>\n",
       "      <td>only found 0 isotopes</td>\n",
       "    </tr>\n",
       "    <tr>\n",
       "      <th>514</th>\n",
       "      <td>LNFSTPTSTNIVSVCR</td>\n",
       "      <td>2</td>\n",
       "      <td>NaN</td>\n",
       "    </tr>\n",
       "    <tr>\n",
       "      <th>126</th>\n",
       "      <td>DIAQNILSFLK</td>\n",
       "      <td>2</td>\n",
       "      <td>no L2 candidate peaks were found</td>\n",
       "    </tr>\n",
       "    <tr>\n",
       "      <th>34</th>\n",
       "      <td>AHDGGIYAISWSPDSTHLLSASGDK</td>\n",
       "      <td>2</td>\n",
       "      <td>NaN</td>\n",
       "    </tr>\n",
       "    <tr>\n",
       "      <th>764</th>\n",
       "      <td>SIFYVPDMKPSMFDVSR</td>\n",
       "      <td>3</td>\n",
       "      <td>no L2 candidate peaks were found</td>\n",
       "    </tr>\n",
       "    <tr>\n",
       "      <th>369</th>\n",
       "      <td>HPIQVSR</td>\n",
       "      <td>2</td>\n",
       "      <td>NaN</td>\n",
       "    </tr>\n",
       "  </tbody>\n",
       "</table>\n",
       "</div>"
      ],
      "text/plain": [
       "                      sequence  charge  \\\n",
       "325                GPPALGTAGSR       2   \n",
       "43          ALADLVHSHIQSNELCSK       3   \n",
       "888          VGSLDNVGHLPAGGAVK       3   \n",
       "172        DVATVAFCDAQSTQEIHEK       2   \n",
       "166                 DSTLIMQLLR       2   \n",
       "224          ENAEVDGDDDAEEMEAK       2   \n",
       "663           QVVQGLLSETYLEAHR       3   \n",
       "711          RFPELESLVPNALDYIR       3   \n",
       "892     VIAINVDDPDAANYNDINDVKR       3   \n",
       "682  Q[-17.0265]LEDCLILQTLLHSK       2   \n",
       "106            DASDFVASLLPFGNK       2   \n",
       "728           RTDLCDHALHISHDEL       3   \n",
       "39            AIQGGTSHHLGQNFSK       2   \n",
       "645       QHMENEMAHYACDCWDAESK       3   \n",
       "672         Q[-17.0265]FAFVHMR       2   \n",
       "514           LNFSTPTSTNIVSVCR       2   \n",
       "126                DIAQNILSFLK       2   \n",
       "34   AHDGGIYAISWSPDSTHLLSASGDK       2   \n",
       "764          SIFYVPDMKPSMFDVSR       3   \n",
       "369                    HPIQVSR       2   \n",
       "\n",
       "                                                reason  \n",
       "325                              only found 2 isotopes  \n",
       "43                                                 NaN  \n",
       "888                   no L2 candidate peaks were found  \n",
       "172                                                NaN  \n",
       "166                                                NaN  \n",
       "224  no peaks were found in the monoisotopic peak f...  \n",
       "663                                                NaN  \n",
       "711                              only found 1 isotopes  \n",
       "892                                                NaN  \n",
       "682                                                NaN  \n",
       "106                                                NaN  \n",
       "728                                                NaN  \n",
       "39                    no L2 candidate peaks were found  \n",
       "645                                                NaN  \n",
       "672                              only found 0 isotopes  \n",
       "514                                                NaN  \n",
       "126                   no L2 candidate peaks were found  \n",
       "34                                                 NaN  \n",
       "764                   no L2 candidate peaks were found  \n",
       "369                                                NaN  "
      ]
     },
     "execution_count": 30,
     "metadata": {},
     "output_type": "execute_result"
    }
   ],
   "source": [
    "failed_extracts_reason_df[['sequence','charge','reason']].sample(n=20)"
   ]
  },
  {
   "cell_type": "code",
   "execution_count": 25,
   "metadata": {},
   "outputs": [
    {
     "data": {
      "text/plain": [
       "no L2 candidate peaks were found                                              167\n",
       "no peaks were found in the monoisotopic peak flattened to the RT dimension    146\n",
       "only found 0 isotopes                                                          56\n",
       "only found 2 isotopes                                                          53\n",
       "only found 1 isotopes                                                          22\n",
       "no points were found in the feature extraction region                          15\n",
       "Name: reason, dtype: int64"
      ]
     },
     "execution_count": 25,
     "metadata": {},
     "output_type": "execute_result"
    }
   ],
   "source": [
    "failed_extracts_reason_df.reason.value_counts()"
   ]
  },
  {
   "cell_type": "markdown",
   "metadata": {},
   "source": [
    "#### now look at reasons overall, not just in extractions that failed for runs where the feature was identified"
   ]
  },
  {
   "cell_type": "code",
   "execution_count": 34,
   "metadata": {},
   "outputs": [
    {
     "data": {
      "text/plain": [
       "only found 0 isotopes                                    1408\n",
       "only found 2 isotopes                                     636\n",
       "no points were found in the feature extraction region     494\n",
       "only found 1 isotopes                                     447\n",
       "Name: reason, dtype: int64"
      ]
     },
     "execution_count": 34,
     "metadata": {},
     "output_type": "execute_result"
    }
   ],
   "source": [
    "reasons_df.reason.value_counts()"
   ]
  },
  {
   "cell_type": "code",
   "execution_count": null,
   "metadata": {},
   "outputs": [],
   "source": []
  }
 ],
 "metadata": {
  "kernelspec": {
   "display_name": "Python 3",
   "language": "python",
   "name": "python3"
  },
  "language_info": {
   "codemirror_mode": {
    "name": "ipython",
    "version": 3
   },
   "file_extension": ".py",
   "mimetype": "text/x-python",
   "name": "python",
   "nbconvert_exporter": "python",
   "pygments_lexer": "ipython3",
   "version": "3.6.8"
  }
 },
 "nbformat": 4,
 "nbformat_minor": 2
}
