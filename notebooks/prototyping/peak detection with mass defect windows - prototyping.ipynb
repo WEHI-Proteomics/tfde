{
 "cells": [
  {
   "cell_type": "code",
   "execution_count": 700,
   "metadata": {},
   "outputs": [],
   "source": [
    "import pandas as pd\n",
    "import numpy as np\n",
    "import sys\n",
    "import matplotlib.pyplot as plt\n",
    "from sys import getsizeof\n",
    "from numba import njit"
   ]
  },
  {
   "cell_type": "code",
   "execution_count": 701,
   "metadata": {},
   "outputs": [],
   "source": [
    "# from https://gist.github.com/alimanfoo/c5977e87111abe8127453b21204c1065\n",
    "def find_runs(x):\n",
    "    \"\"\"Find runs of consecutive items in an array.\"\"\"\n",
    "\n",
    "    # ensure array\n",
    "    x = np.asanyarray(x)\n",
    "    if x.ndim != 1:\n",
    "        raise ValueError('only 1D array supported')\n",
    "    n = x.shape[0]\n",
    "\n",
    "    # handle empty array\n",
    "    if n == 0:\n",
    "        return np.array([]), np.array([]), np.array([])\n",
    "\n",
    "    else:\n",
    "        # find run starts\n",
    "        loc_run_start = np.empty(n, dtype=bool)\n",
    "        loc_run_start[0] = True\n",
    "        np.not_equal(x[:-1], x[1:], out=loc_run_start[1:])\n",
    "        run_starts = np.nonzero(loc_run_start)[0]\n",
    "\n",
    "        # find run values\n",
    "        run_values = x[loc_run_start]\n",
    "\n",
    "        # find run lengths\n",
    "        run_lengths = np.diff(np.append(run_starts, n))\n",
    "\n",
    "        return run_values, run_starts, run_lengths"
   ]
  },
  {
   "cell_type": "code",
   "execution_count": 702,
   "metadata": {},
   "outputs": [],
   "source": [
    "feature_id = 1\n",
    "DELTA_MZ = 1.003355  # Mass difference between Carbon-12 and Carbon-13 isotopes, in Da. For calculating the spacing between isotopic peaks.\n",
    "PROTON_MASS = 1.0073  # Mass of a proton in unified atomic mass units, or Da. For calculating the monoisotopic mass."
   ]
  },
  {
   "cell_type": "code",
   "execution_count": 731,
   "metadata": {},
   "outputs": [],
   "source": [
    "DA_MIN = 100\n",
    "DA_MAX = 4000\n",
    "charge = 2"
   ]
  },
  {
   "cell_type": "code",
   "execution_count": 732,
   "metadata": {},
   "outputs": [],
   "source": [
    "feature_raw_ms2_df = pd.read_pickle('/Users/darylwilding-mcbride/Downloads/feature-{}-ms2-raw-points.pkl'.format(feature_id))\n",
    "feature_raw_ms2_df.sort_values(by=['mz'], ascending=True, inplace=True)\n",
    "feature_raw_ms2_df['decharged_mass'] = (feature_raw_ms2_df.mz + PROTON_MASS) * charge\n",
    "feature_raw_ms2_df['normalised_intensity'] = feature_raw_ms2_df.intensity / feature_raw_ms2_df.intensity.max()"
   ]
  },
  {
   "cell_type": "code",
   "execution_count": 733,
   "metadata": {},
   "outputs": [
    {
     "data": {
      "text/html": [
       "<div>\n",
       "<style scoped>\n",
       "    .dataframe tbody tr th:only-of-type {\n",
       "        vertical-align: middle;\n",
       "    }\n",
       "\n",
       "    .dataframe tbody tr th {\n",
       "        vertical-align: top;\n",
       "    }\n",
       "\n",
       "    .dataframe thead th {\n",
       "        text-align: right;\n",
       "    }\n",
       "</style>\n",
       "<table border=\"1\" class=\"dataframe\">\n",
       "  <thead>\n",
       "    <tr style=\"text-align: right;\">\n",
       "      <th></th>\n",
       "      <th>frame_id</th>\n",
       "      <th>mz</th>\n",
       "      <th>intensity</th>\n",
       "      <th>decharged_mass</th>\n",
       "      <th>normalised_intensity</th>\n",
       "    </tr>\n",
       "  </thead>\n",
       "  <tbody>\n",
       "    <tr>\n",
       "      <th>0</th>\n",
       "      <td>27938</td>\n",
       "      <td>133.596214</td>\n",
       "      <td>9</td>\n",
       "      <td>269.207028</td>\n",
       "      <td>0.068182</td>\n",
       "    </tr>\n",
       "    <tr>\n",
       "      <th>1</th>\n",
       "      <td>27938</td>\n",
       "      <td>180.467447</td>\n",
       "      <td>9</td>\n",
       "      <td>362.949493</td>\n",
       "      <td>0.068182</td>\n",
       "    </tr>\n",
       "    <tr>\n",
       "      <th>2</th>\n",
       "      <td>27938</td>\n",
       "      <td>213.418260</td>\n",
       "      <td>9</td>\n",
       "      <td>428.851120</td>\n",
       "      <td>0.068182</td>\n",
       "    </tr>\n",
       "    <tr>\n",
       "      <th>3</th>\n",
       "      <td>27938</td>\n",
       "      <td>266.156364</td>\n",
       "      <td>9</td>\n",
       "      <td>534.327328</td>\n",
       "      <td>0.068182</td>\n",
       "    </tr>\n",
       "    <tr>\n",
       "      <th>4</th>\n",
       "      <td>27938</td>\n",
       "      <td>268.404245</td>\n",
       "      <td>9</td>\n",
       "      <td>538.823090</td>\n",
       "      <td>0.068182</td>\n",
       "    </tr>\n",
       "  </tbody>\n",
       "</table>\n",
       "</div>"
      ],
      "text/plain": [
       "   frame_id          mz  intensity  decharged_mass  normalised_intensity\n",
       "0     27938  133.596214          9      269.207028              0.068182\n",
       "1     27938  180.467447          9      362.949493              0.068182\n",
       "2     27938  213.418260          9      428.851120              0.068182\n",
       "3     27938  266.156364          9      534.327328              0.068182\n",
       "4     27938  268.404245          9      538.823090              0.068182"
      ]
     },
     "execution_count": 733,
     "metadata": {},
     "output_type": "execute_result"
    }
   ],
   "source": [
    "feature_raw_ms2_df.head()"
   ]
  },
  {
   "cell_type": "code",
   "execution_count": 734,
   "metadata": {},
   "outputs": [
    {
     "data": {
      "text/plain": [
       "215"
      ]
     },
     "execution_count": 734,
     "metadata": {},
     "output_type": "execute_result"
    }
   ],
   "source": [
    "len(feature_raw_ms2_df)"
   ]
  },
  {
   "cell_type": "code",
   "execution_count": 735,
   "metadata": {},
   "outputs": [],
   "source": [
    "# generate a charge-aware mask of mass defect windows\n",
    "bin_edges_l = []\n",
    "for nominal_mass in np.arange(start=DA_MIN, stop=DA_MAX, step=1/charge):\n",
    "    proton_mass_adjustment = (charge - 1) * PROTON_MASS\n",
    "    mass_centre = (nominal_mass + proton_mass_adjustment) * 1.00048  # from https://www.ncbi.nlm.nih.gov/pmc/articles/PMC3184890/\n",
    "    width = (0.19 + (0.0001 * nominal_mass)) / charge\n",
    "    lower_mass = mass_centre - (width / 2)\n",
    "    upper_mass = mass_centre + (width / 2)\n",
    "    bin_edges_l.append(lower_mass)\n",
    "    bin_edges_l.append(upper_mass)\n",
    "bins = np.asarray(bin_edges_l)"
   ]
  },
  {
   "cell_type": "code",
   "execution_count": 736,
   "metadata": {},
   "outputs": [
    {
     "data": {
      "text/plain": [
       "array([101.0057835, 101.1057835, 101.506011 , 101.606036 , 102.0062385,\n",
       "       102.1062885, 102.506466 , 102.606541 , 103.0066935, 103.1067935,\n",
       "       103.506921 , 103.607046 , 104.0071485, 104.1072985, 104.507376 ,\n",
       "       104.607551 , 105.0076035, 105.1078035, 105.507831 , 105.608056 ])"
      ]
     },
     "execution_count": 736,
     "metadata": {},
     "output_type": "execute_result"
    }
   ],
   "source": [
    "bins[:20]"
   ]
  },
  {
   "cell_type": "code",
   "execution_count": 737,
   "metadata": {},
   "outputs": [
    {
     "data": {
      "text/plain": [
       "0"
      ]
     },
     "execution_count": 737,
     "metadata": {},
     "output_type": "execute_result"
    }
   ],
   "source": [
    "np.digitize(99.95, bins)"
   ]
  },
  {
   "cell_type": "code",
   "execution_count": 738,
   "metadata": {},
   "outputs": [],
   "source": [
    "decharged_mass_a = feature_raw_ms2_df.decharged_mass.to_numpy()\n",
    "mz_a = feature_raw_ms2_df.mz.to_numpy()\n",
    "intensity_a = feature_raw_ms2_df.intensity.to_numpy()\n",
    "available_a = np.full((len(mz_a)), True)  # the raw points not yet assigned to a peak"
   ]
  },
  {
   "cell_type": "code",
   "execution_count": 739,
   "metadata": {},
   "outputs": [
    {
     "data": {
      "text/plain": [
       "array([  674,  1048,  1312,  1734,  1751,  1928,  1933,  1958,  2029,\n",
       "        2156,  2206,  2229,  2438,  2483,  2493,  2493,  2606,  2781,\n",
       "        2805,  2821,  2829,  2869,  2900,  2902,  2910,  2925,  2941,\n",
       "        2998,  3037,  3053,  3053,  3068,  3101,  3229,  3269,  3328,\n",
       "        3341,  3421,  3485,  3520,  3597,  3597,  3637,  3661,  3693,\n",
       "        3693,  3701,  3702,  3772,  3781,  3837,  3838,  3845,  3845,\n",
       "        3853,  3861,  3861,  3925,  3925,  3925,  3933,  3933,  3941,\n",
       "        3941,  3941,  3957,  4005,  4012,  4037,  4063,  4197,  4213,\n",
       "        4232,  4253,  4308,  4341,  4398,  4470,  4478,  4525,  4526,\n",
       "        4540,  4597,  4605,  4737,  4741,  4744,  4749,  4813,  4925,\n",
       "        4958,  4965,  4981,  4989,  5168,  5201,  5205,  5269,  5318,\n",
       "        5425,  5601,  5601,  5662,  5756,  5805,  5877,  5884,  5885,\n",
       "        5892,  5892,  5893,  5958,  6093,  6206,  6436,  6436,  6437,\n",
       "        6444,  6444,  6445,  6445,  6445,  6445,  6452,  6452,  6453,\n",
       "        6453,  6453,  6453,  6453,  6453,  6453,  6453,  6453,  6453,\n",
       "        6461,  6461,  6461,  6461,  6461,  6461,  6461,  6461,  6461,\n",
       "        6466,  6482,  6717,  6973,  7036,  7189,  7221,  7276,  7349,\n",
       "        7349,  7349,  7357,  7357,  7365,  7373,  7373,  7608,  7806,\n",
       "        7926,  7989,  8026,  8045,  8124,  8149,  8149,  8157,  8157,\n",
       "        8157,  8157,  8157,  8165,  8165,  8165,  8165,  8165,  8173,\n",
       "        8173,  8180,  8189,  8228,  8445,  8612,  8685,  8884,  8885,\n",
       "        8900,  9045,  9053,  9061,  9189,  9197,  9197,  9204,  9205,\n",
       "        9205,  9205,  9205,  9213,  9213,  9213,  9259,  9461,  9477,\n",
       "        9569,  9669,  9868, 10004, 10305, 10477, 10662, 12261])"
      ]
     },
     "execution_count": 739,
     "metadata": {},
     "output_type": "execute_result"
    }
   ],
   "source": [
    "digitised_mass = np.digitize(decharged_mass_a[available_a == True], bins)  # an odd index means the point is inside a mass defect window\n",
    "digitised_mass"
   ]
  },
  {
   "cell_type": "code",
   "execution_count": 740,
   "metadata": {},
   "outputs": [],
   "source": [
    "# consecutive odd indexes means consecutive windows, suggesting a series of isotopic peaks"
   ]
  },
  {
   "cell_type": "code",
   "execution_count": 741,
   "metadata": {},
   "outputs": [
    {
     "data": {
      "text/plain": [
       "array([ 1751,  1933,  2029,  2229,  2483,  2493,  2493,  2781,  2805,\n",
       "        2821,  2829,  2869,  2925,  2941,  3037,  3053,  3053,  3101,\n",
       "        3229,  3269,  3341,  3421,  3485,  3597,  3597,  3637,  3661,\n",
       "        3693,  3693,  3701,  3781,  3837,  3845,  3845,  3853,  3861,\n",
       "        3861,  3925,  3925,  3925,  3933,  3933,  3941,  3941,  3941,\n",
       "        3957,  4005,  4037,  4063,  4197,  4213,  4253,  4341,  4525,\n",
       "        4597,  4605,  4737,  4741,  4749,  4813,  4925,  4965,  4981,\n",
       "        4989,  5201,  5205,  5269,  5425,  5601,  5601,  5805,  5877,\n",
       "        5885,  5893,  6093,  6437,  6445,  6445,  6445,  6445,  6453,\n",
       "        6453,  6453,  6453,  6453,  6453,  6453,  6453,  6453,  6453,\n",
       "        6461,  6461,  6461,  6461,  6461,  6461,  6461,  6461,  6461,\n",
       "        6717,  6973,  7189,  7221,  7349,  7349,  7349,  7357,  7357,\n",
       "        7365,  7373,  7373,  7989,  8045,  8149,  8149,  8157,  8157,\n",
       "        8157,  8157,  8157,  8165,  8165,  8165,  8165,  8165,  8173,\n",
       "        8173,  8189,  8445,  8685,  8885,  9045,  9053,  9061,  9189,\n",
       "        9197,  9197,  9205,  9205,  9205,  9205,  9213,  9213,  9213,\n",
       "        9259,  9461,  9477,  9569,  9669, 10305, 10477, 12261])"
      ]
     },
     "execution_count": 741,
     "metadata": {},
     "output_type": "execute_result"
    }
   ],
   "source": [
    "# remove all the even indexes - the odd indexes are the mass defect windows\n",
    "mass_defect_window_indexes = digitised_mass[(digitised_mass % 2) == 1]\n",
    "mass_defect_window_indexes"
   ]
  },
  {
   "cell_type": "code",
   "execution_count": 742,
   "metadata": {},
   "outputs": [
    {
     "data": {
      "text/plain": [
       "array([ 1751,  1933,  2029,  2229,  2483,  2493,  2781,  2805,  2821,\n",
       "        2829,  2869,  2925,  2941,  3037,  3053,  3101,  3229,  3269,\n",
       "        3341,  3421,  3485,  3597,  3637,  3661,  3693,  3701,  3781,\n",
       "        3837,  3845,  3853,  3861,  3925,  3933,  3941,  3957,  4005,\n",
       "        4037,  4063,  4197,  4213,  4253,  4341,  4525,  4597,  4605,\n",
       "        4737,  4741,  4749,  4813,  4925,  4965,  4981,  4989,  5201,\n",
       "        5205,  5269,  5425,  5601,  5805,  5877,  5885,  5893,  6093,\n",
       "        6437,  6445,  6453,  6461,  6717,  6973,  7189,  7221,  7349,\n",
       "        7357,  7365,  7373,  7989,  8045,  8149,  8157,  8165,  8173,\n",
       "        8189,  8445,  8685,  8885,  9045,  9053,  9061,  9189,  9197,\n",
       "        9205,  9213,  9259,  9461,  9477,  9569,  9669, 10305, 10477,\n",
       "       12261])"
      ]
     },
     "execution_count": 742,
     "metadata": {},
     "output_type": "execute_result"
    }
   ],
   "source": [
    "# remove the duplicates\n",
    "unique_mass_defect_window_indexes = np.unique(mass_defect_window_indexes)\n",
    "unique_mass_defect_window_indexes"
   ]
  },
  {
   "cell_type": "code",
   "execution_count": 743,
   "metadata": {},
   "outputs": [
    {
     "data": {
      "text/plain": [
       "100"
      ]
     },
     "execution_count": 743,
     "metadata": {},
     "output_type": "execute_result"
    }
   ],
   "source": [
    "len(unique_mass_defect_window_indexes)"
   ]
  },
  {
   "cell_type": "code",
   "execution_count": 744,
   "metadata": {},
   "outputs": [],
   "source": [
    "# the elements of unique_mass_defect_window_indexes are the bin indexes (mass defect windows) that have signal present"
   ]
  },
  {
   "cell_type": "code",
   "execution_count": 745,
   "metadata": {
    "scrolled": false
   },
   "outputs": [
    {
     "data": {
      "text/plain": [
       "array([False, False, False, False, False, False, False, False, False,\n",
       "       False, False, False, False, False, False, False, False, False,\n",
       "       False, False, False, False, False, False, False, False, False,\n",
       "       False, False, False, False, False, False, False, False, False,\n",
       "       False, False, False, False, False, False, False, False, False,\n",
       "       False, False, False, False, False, False, False, False, False,\n",
       "       False, False, False, False, False, False, False, False, False,\n",
       "       False, False, False, False, False, False, False, False, False,\n",
       "       False, False, False, False, False, False, False, False, False,\n",
       "       False, False, False, False, False, False, False, False, False,\n",
       "       False, False, False, False, False, False, False, False, False,\n",
       "       False])"
      ]
     },
     "execution_count": 745,
     "metadata": {},
     "output_type": "execute_result"
    }
   ],
   "source": [
    "# find where the windows are consecutive\n",
    "condition = (np.diff(unique_mass_defect_window_indexes) == 2)\n",
    "condition = np.hstack((condition[0],condition))  # now the flags correspond to whether each mass window is adjacent to the next one\n",
    "condition"
   ]
  },
  {
   "cell_type": "code",
   "execution_count": 746,
   "metadata": {},
   "outputs": [
    {
     "data": {
      "text/plain": [
       "100"
      ]
     },
     "execution_count": 746,
     "metadata": {},
     "output_type": "execute_result"
    }
   ],
   "source": [
    "len(condition)"
   ]
  },
  {
   "cell_type": "code",
   "execution_count": 747,
   "metadata": {},
   "outputs": [],
   "source": [
    "# the False values are stand-alone peaks we need to process as orphaned isotopes"
   ]
  },
  {
   "cell_type": "code",
   "execution_count": 748,
   "metadata": {},
   "outputs": [],
   "source": [
    "run_values, run_starts, run_lengths = find_runs(condition)"
   ]
  },
  {
   "cell_type": "code",
   "execution_count": 749,
   "metadata": {},
   "outputs": [
    {
     "data": {
      "text/plain": [
       "array([False])"
      ]
     },
     "execution_count": 749,
     "metadata": {},
     "output_type": "execute_result"
    }
   ],
   "source": [
    "run_values"
   ]
  },
  {
   "cell_type": "code",
   "execution_count": 750,
   "metadata": {},
   "outputs": [
    {
     "data": {
      "text/plain": [
       "array([], dtype=int64)"
      ]
     },
     "execution_count": 750,
     "metadata": {},
     "output_type": "execute_result"
    }
   ],
   "source": [
    "chunk_sizes = run_lengths[run_values == True]\n",
    "chunk_sizes"
   ]
  },
  {
   "cell_type": "code",
   "execution_count": 751,
   "metadata": {},
   "outputs": [
    {
     "data": {
      "text/plain": [
       "array([], dtype=int64)"
      ]
     },
     "execution_count": 751,
     "metadata": {},
     "output_type": "execute_result"
    }
   ],
   "source": [
    "chunk_starts = run_starts[run_values == True]\n",
    "chunk_starts"
   ]
  },
  {
   "cell_type": "code",
   "execution_count": 752,
   "metadata": {
    "scrolled": true
   },
   "outputs": [],
   "source": [
    "peaks_l = []\n",
    "isotope_series_indexes = []\n",
    "expected_peak_spacing = DELTA_MZ / charge\n",
    "for series_idx in range(len(chunk_sizes)):\n",
    "    number_of_windows = chunk_sizes[series_idx]\n",
    "    start_idx = chunk_starts[series_idx]\n",
    "    index_list = unique_mass_defect_window_indexes[start_idx:start_idx+number_of_windows].tolist()\n",
    "    print(\"isotope series {} ({} peaks):\".format(series_idx+1, number_of_windows))\n",
    "    mz_l = []\n",
    "    int_l = []\n",
    "    for peak_idx,i in enumerate(index_list):\n",
    "        isotope_series_indexes.append(i)\n",
    "        lower_mass = round(bins[i-1],4)\n",
    "        upper_mass = round(bins[i],4)\n",
    "        print(\"mass defect window [{}]: {}-{} Da\".format(i, lower_mass, upper_mass))\n",
    "        # get the raw points allocated to this bin\n",
    "        peak_indexes = np.where(digitised_mass == i)[0]\n",
    "        print(\"\\tpeak mass {}\".format(np.round(decharged_mass_a[peak_indexes],4)))\n",
    "        print(\"\\tpeak m/z {}\".format(np.round(mz_a[peak_indexes],4)))\n",
    "        mz_centroid = np.average(mz_a[peak_indexes], weights=intensity_a[peak_indexes])\n",
    "        intensity = np.sum(intensity_a[peak_indexes])\n",
    "        mz_l.append(mz_centroid)\n",
    "        int_l.append(intensity)\n",
    "        print(\"\\tpeak centroid {} m/z, {}\".format(np.round(mz_centroid,4), intensity))\n",
    "        available_a[peak_indexes] = False\n",
    "    # de-isotope the peaks\n",
    "    peaks_mz_a = np.array(mz_l)\n",
    "    peaks_int_a = np.array(int_l)\n",
    "    for i in range(len(peaks_mz_a)):\n",
    "        peaks_mz_a[i] = peaks_mz_a[i] - (i * expected_peak_spacing)\n",
    "    print(\"de-isotoped m/z {}\".format(np.round(peaks_mz_a,4)))\n",
    "    deisotoped_mz = np.average(peaks_mz_a, weights=peaks_int_a)\n",
    "    deisotoped_intensity = peaks_int_a.sum()\n",
    "    print(\"de-isotoped m/z centroid {}, {}\".format(np.round(deisotoped_mz,4), deisotoped_intensity))\n",
    "    monoisotopic_mass = (deisotoped_mz - PROTON_MASS) * charge\n",
    "    print(\"monoisotopic mass {} Da\".format(np.round(monoisotopic_mass,4)))\n",
    "    peaks_l.append((series_idx, monoisotopic_mass, deisotoped_intensity))\n",
    "    print()\n",
    "    "
   ]
  },
  {
   "cell_type": "code",
   "execution_count": 753,
   "metadata": {},
   "outputs": [
    {
     "data": {
      "text/plain": [
       "array([100])"
      ]
     },
     "execution_count": 753,
     "metadata": {},
     "output_type": "execute_result"
    }
   ],
   "source": [
    "# process the peaks that remain - the orphans\n",
    "orphaned_chunk_sizes = run_lengths[run_values == False]\n",
    "orphaned_chunk_sizes"
   ]
  },
  {
   "cell_type": "code",
   "execution_count": 754,
   "metadata": {},
   "outputs": [
    {
     "data": {
      "text/plain": [
       "100"
      ]
     },
     "execution_count": 754,
     "metadata": {},
     "output_type": "execute_result"
    }
   ],
   "source": [
    "number_of_orphans = orphaned_chunk_sizes.sum()\n",
    "number_of_orphans"
   ]
  },
  {
   "cell_type": "code",
   "execution_count": 755,
   "metadata": {},
   "outputs": [
    {
     "data": {
      "text/plain": [
       "array([0])"
      ]
     },
     "execution_count": 755,
     "metadata": {},
     "output_type": "execute_result"
    }
   ],
   "source": [
    "orphaned_chunk_starts = run_starts[run_values == False]\n",
    "orphaned_chunk_starts"
   ]
  },
  {
   "cell_type": "code",
   "execution_count": 756,
   "metadata": {},
   "outputs": [
    {
     "name": "stdout",
     "output_type": "stream",
     "text": [
      "mass defect window [1751]: 538.7048-538.8267 Da\n",
      "\tpeak mass [538.8231]\n",
      "\tpeak m/z [268.4042]\n",
      "\tpeak centroid 268.4042 m/z, 9\n",
      "mass defect window [1933]: 584.2255-584.3497 Da\n",
      "\tpeak mass [584.3092]\n",
      "\tpeak m/z [291.1473]\n",
      "\tpeak centroid 291.1473 m/z, 44\n",
      "mass defect window [2029]: 608.2365-608.3618 Da\n",
      "\tpeak mass [608.2756]\n",
      "\tpeak m/z [303.1305]\n",
      "\tpeak centroid 303.1305 m/z, 83\n",
      "mass defect window [2229]: 658.2592-658.3871 Da\n",
      "\tpeak mass [658.2922]\n",
      "\tpeak m/z [328.1388]\n",
      "\tpeak centroid 328.1388 m/z, 132\n",
      "mass defect window [2483]: 721.7881-721.9191 Da\n",
      "\tpeak mass [721.8509]\n",
      "\tpeak m/z [359.9182]\n",
      "\tpeak centroid 359.9182 m/z, 9\n",
      "mass defect window [2493]: 724.2892-724.4204 Da\n",
      "\tpeak mass [724.306 724.312]\n",
      "\tpeak m/z [361.1457 361.1487]\n",
      "\tpeak centroid 361.1474 m/z, 101\n",
      "mass defect window [2781]: 796.322-796.4568 Da\n",
      "\tpeak mass [796.3397]\n",
      "\tpeak m/z [397.1626]\n",
      "\tpeak centroid 397.1626 m/z, 54\n",
      "mass defect window [2805]: 802.3247-802.4598 Da\n",
      "\tpeak mass [802.454]\n",
      "\tpeak m/z [400.2197]\n",
      "\tpeak centroid 400.2197 m/z, 58\n",
      "mass defect window [2821]: 806.3266-806.4618 Da\n",
      "\tpeak mass [806.4525]\n",
      "\tpeak m/z [402.2189]\n",
      "\tpeak centroid 402.2189 m/z, 10\n",
      "mass defect window [2829]: 808.3275-808.4628 Da\n",
      "\tpeak mass [808.4017]\n",
      "\tpeak m/z [403.1935]\n",
      "\tpeak centroid 403.1935 m/z, 23\n",
      "mass defect window [2869]: 818.332-818.4679 Da\n",
      "\tpeak mass [818.3804]\n",
      "\tpeak m/z [408.1829]\n",
      "\tpeak centroid 408.1829 m/z, 95\n",
      "mass defect window [2925]: 832.3384-832.4749 Da\n",
      "\tpeak mass [832.4704]\n",
      "\tpeak m/z [415.2279]\n",
      "\tpeak centroid 415.2279 m/z, 92\n",
      "mass defect window [2941]: 836.3402-836.477 Da\n",
      "\tpeak mass [836.3756]\n",
      "\tpeak m/z [417.1805]\n",
      "\tpeak centroid 417.1805 m/z, 22\n",
      "mass defect window [3037]: 860.3511-860.4891 Da\n",
      "\tpeak mass [860.437]\n",
      "\tpeak m/z [429.2112]\n",
      "\tpeak centroid 429.2112 m/z, 62\n",
      "mass defect window [3053]: 864.3529-864.4911 Da\n",
      "\tpeak mass [864.3878 864.3878]\n",
      "\tpeak m/z [431.1866 431.1866]\n",
      "\tpeak centroid 431.1866 m/z, 104\n",
      "mass defect window [3101]: 876.3584-876.4972 Da\n",
      "\tpeak mass [876.4921]\n",
      "\tpeak m/z [437.2388]\n",
      "\tpeak centroid 437.2388 m/z, 51\n",
      "mass defect window [3229]: 908.373-908.5133 Da\n",
      "\tpeak mass [908.5114]\n",
      "\tpeak m/z [453.2484]\n",
      "\tpeak centroid 453.2484 m/z, 92\n",
      "mass defect window [3269]: 918.3775-918.5184 Da\n",
      "\tpeak mass [918.5022]\n",
      "\tpeak m/z [458.2438]\n",
      "\tpeak centroid 458.2438 m/z, 23\n",
      "mass defect window [3341]: 936.3857-936.5275 Da\n",
      "\tpeak mass [936.4722]\n",
      "\tpeak m/z [467.2288]\n",
      "\tpeak centroid 467.2288 m/z, 47\n",
      "mass defect window [3421]: 956.3948-956.5376 Da\n",
      "\tpeak mass [956.4759]\n",
      "\tpeak m/z [477.2306]\n",
      "\tpeak centroid 477.2306 m/z, 21\n",
      "mass defect window [3485]: 972.4021-972.5456 Da\n",
      "\tpeak mass [972.4979]\n",
      "\tpeak m/z [485.2417]\n",
      "\tpeak centroid 485.2417 m/z, 55\n",
      "mass defect window [3597]: 1000.4148-1000.5598 Da\n",
      "\tpeak mass [1000.4206 1000.5122]\n",
      "\tpeak m/z [499.203  499.2488]\n",
      "\tpeak centroid 499.2249 m/z, 96\n",
      "mass defect window [3637]: 1010.4194-1010.5648 Da\n",
      "\tpeak mass [1010.5147]\n",
      "\tpeak m/z [504.2501]\n",
      "\tpeak centroid 504.2501 m/z, 26\n",
      "mass defect window [3661]: 1016.4221-1016.5679 Da\n",
      "\tpeak mass [1016.4294]\n",
      "\tpeak m/z [507.2074]\n",
      "\tpeak centroid 507.2074 m/z, 65\n",
      "mass defect window [3693]: 1024.4257-1024.5719 Da\n",
      "\tpeak mass [1024.5136 1024.5207]\n",
      "\tpeak m/z [511.2495 511.2531]\n",
      "\tpeak centroid 511.2516 m/z, 99\n",
      "mass defect window [3701]: 1026.4267-1026.5729 Da\n",
      "\tpeak mass [1026.5254]\n",
      "\tpeak m/z [512.2554]\n",
      "\tpeak centroid 512.2554 m/z, 24\n",
      "mass defect window [3781]: 1046.4358-1046.583 Da\n",
      "\tpeak mass [1046.5215]\n",
      "\tpeak m/z [522.2534]\n",
      "\tpeak centroid 522.2534 m/z, 59\n",
      "mass defect window [3837]: 1060.4421-1060.5901 Da\n",
      "\tpeak mass [1060.535]\n",
      "\tpeak m/z [529.2602]\n",
      "\tpeak centroid 529.2602 m/z, 63\n",
      "mass defect window [3845]: 1062.443-1062.5911 Da\n",
      "\tpeak mass [1062.5311 1062.5602]\n",
      "\tpeak m/z [530.2583 530.2728]\n",
      "\tpeak centroid 530.2655 m/z, 104\n",
      "mass defect window [3853]: 1064.4439-1064.5921 Da\n",
      "\tpeak mass [1064.5509]\n",
      "\tpeak m/z [531.2681]\n",
      "\tpeak centroid 531.2681 m/z, 74\n",
      "mass defect window [3861]: 1066.4449-1066.5931 Da\n",
      "\tpeak mass [1066.5507 1066.5653]\n",
      "\tpeak m/z [532.2681 532.2753]\n",
      "\tpeak centroid 532.2717 m/z, 131\n",
      "mass defect window [3925]: 1082.4521-1082.6012 Da\n",
      "\tpeak mass [1082.4853 1082.4927 1082.5146]\n",
      "\tpeak m/z [540.2354 540.239  540.25  ]\n",
      "\tpeak centroid 540.2434 m/z, 74\n",
      "mass defect window [3933]: 1084.453-1084.6022 Da\n",
      "\tpeak mass [1084.5093 1084.524 ]\n",
      "\tpeak m/z [541.2474 541.2547]\n",
      "\tpeak centroid 541.2503 m/z, 110\n",
      "mass defect window [3941]: 1086.454-1086.6032 Da\n",
      "\tpeak mass [1086.4911 1086.4911 1086.4985]\n",
      "\tpeak m/z [542.2383 542.2383 542.2419]\n",
      "\tpeak centroid 542.2387 m/z, 169\n",
      "mass defect window [3957]: 1090.4558-1090.6052 Da\n",
      "\tpeak mass [1090.5191]\n",
      "\tpeak m/z [544.2522]\n",
      "\tpeak centroid 544.2522 m/z, 73\n",
      "mass defect window [4005]: 1102.4612-1102.6113 Da\n",
      "\tpeak mass [1102.5293]\n",
      "\tpeak m/z [550.2574]\n",
      "\tpeak centroid 550.2574 m/z, 27\n",
      "mass defect window [4037]: 1110.4649-1110.6153 Da\n",
      "\tpeak mass [1110.6149]\n",
      "\tpeak m/z [554.3001]\n",
      "\tpeak centroid 554.3001 m/z, 82\n",
      "mass defect window [4063]: 1116.9678-1117.1186 Da\n",
      "\tpeak mass [1117.0689]\n",
      "\tpeak m/z [557.5271]\n",
      "\tpeak centroid 557.5271 m/z, 9\n",
      "mass defect window [4197]: 1150.4831-1150.6355 Da\n",
      "\tpeak mass [1150.6322]\n",
      "\tpeak m/z [574.3088]\n",
      "\tpeak centroid 574.3088 m/z, 41\n",
      "mass defect window [4213]: 1154.4849-1154.6375 Da\n",
      "\tpeak mass [1154.5504]\n",
      "\tpeak m/z [576.2679]\n",
      "\tpeak centroid 576.2679 m/z, 49\n",
      "mass defect window [4253]: 1164.4894-1164.6426 Da\n",
      "\tpeak mass [1164.5497]\n",
      "\tpeak m/z [581.2676]\n",
      "\tpeak centroid 581.2676 m/z, 65\n",
      "mass defect window [4341]: 1186.4995-1186.6537 Da\n",
      "\tpeak mass [1186.5038]\n",
      "\tpeak m/z [592.2446]\n",
      "\tpeak centroid 592.2446 m/z, 43\n",
      "mass defect window [4525]: 1232.5204-1232.6769 Da\n",
      "\tpeak mass [1232.5921]\n",
      "\tpeak m/z [615.2888]\n",
      "\tpeak centroid 615.2888 m/z, 55\n",
      "mass defect window [4597]: 1250.5286-1250.686 Da\n",
      "\tpeak mass [1250.6811]\n",
      "\tpeak m/z [624.3333]\n",
      "\tpeak centroid 624.3333 m/z, 9\n",
      "mass defect window [4605]: 1252.5295-1252.687 Da\n",
      "\tpeak mass [1252.6834]\n",
      "\tpeak m/z [625.3344]\n",
      "\tpeak centroid 625.3344 m/z, 42\n",
      "mass defect window [4737]: 1285.5445-1285.7037 Da\n",
      "\tpeak mass [1285.6008]\n",
      "\tpeak m/z [641.7931]\n",
      "\tpeak centroid 641.7931 m/z, 56\n",
      "mass defect window [4741]: 1286.545-1286.7042 Da\n",
      "\tpeak mass [1286.6795]\n",
      "\tpeak m/z [642.3325]\n",
      "\tpeak centroid 642.3325 m/z, 60\n",
      "mass defect window [4749]: 1288.5459-1288.7052 Da\n",
      "\tpeak mass [1288.7024]\n",
      "\tpeak m/z [643.3439]\n",
      "\tpeak centroid 643.3439 m/z, 59\n",
      "mass defect window [4813]: 1304.5531-1304.7133 Da\n",
      "\tpeak mass [1304.5808]\n",
      "\tpeak m/z [651.2831]\n",
      "\tpeak centroid 651.2831 m/z, 31\n",
      "mass defect window [4925]: 1332.5659-1332.7274 Da\n",
      "\tpeak mass [1332.706]\n",
      "\tpeak m/z [665.3457]\n",
      "\tpeak centroid 665.3457 m/z, 24\n",
      "mass defect window [4965]: 1342.5704-1342.7325 Da\n",
      "\tpeak mass [1342.5996]\n",
      "\tpeak m/z [670.2925]\n",
      "\tpeak centroid 670.2925 m/z, 60\n",
      "mass defect window [4981]: 1346.5723-1346.7345 Da\n",
      "\tpeak mass [1346.6114]\n",
      "\tpeak m/z [672.2984]\n",
      "\tpeak centroid 672.2984 m/z, 40\n",
      "mass defect window [4989]: 1348.5732-1348.7355 Da\n",
      "\tpeak mass [1348.6237]\n",
      "\tpeak m/z [673.3045]\n",
      "\tpeak centroid 673.3045 m/z, 31\n",
      "mass defect window [5201]: 1401.5973-1401.7623 Da\n",
      "\tpeak mass [1401.7458]\n",
      "\tpeak m/z [699.8656]\n",
      "\tpeak centroid 699.8656 m/z, 49\n",
      "mass defect window [5205]: 1402.5977-1402.7628 Da\n",
      "\tpeak mass [1402.7388]\n",
      "\tpeak m/z [700.3621]\n",
      "\tpeak centroid 700.3621 m/z, 87\n",
      "mass defect window [5269]: 1418.605-1418.7709 Da\n",
      "\tpeak mass [1418.6071]\n",
      "\tpeak m/z [708.2962]\n",
      "\tpeak centroid 708.2962 m/z, 67\n",
      "mass defect window [5425]: 1457.6228-1457.7906 Da\n",
      "\tpeak mass [1457.7498]\n",
      "\tpeak m/z [727.8676]\n",
      "\tpeak centroid 727.8676 m/z, 97\n",
      "mass defect window [5601]: 1501.6428-1501.8128 Da\n",
      "\tpeak mass [1501.7406 1501.7493]\n",
      "\tpeak m/z [749.863  749.8673]\n",
      "\tpeak centroid 749.8648 m/z, 127\n",
      "mass defect window [5805]: 1552.666-1552.8385 Da\n",
      "\tpeak mass [1552.6935]\n",
      "\tpeak m/z [775.3395]\n",
      "\tpeak centroid 775.3395 m/z, 21\n",
      "mass defect window [5877]: 1570.6742-1570.8476 Da\n",
      "\tpeak mass [1570.7118]\n",
      "\tpeak m/z [784.3486]\n",
      "\tpeak centroid 784.3486 m/z, 77\n",
      "mass defect window [5885]: 1572.6751-1572.8486 Da\n",
      "\tpeak mass [1572.6908]\n",
      "\tpeak m/z [785.3381]\n",
      "\tpeak centroid 785.3381 m/z, 13\n",
      "mass defect window [5893]: 1574.676-1574.8496 Da\n",
      "\tpeak mass [1574.6799]\n",
      "\tpeak m/z [786.3327]\n",
      "\tpeak centroid 786.3327 m/z, 47\n",
      "mass defect window [6093]: 1624.6987-1624.8749 Da\n",
      "\tpeak mass [1624.7892]\n",
      "\tpeak m/z [811.3873]\n",
      "\tpeak centroid 811.3873 m/z, 48\n",
      "mass defect window [6437]: 1710.7379-1710.9183 Da\n",
      "\tpeak mass [1710.7607]\n",
      "\tpeak m/z [854.373]\n",
      "\tpeak centroid 854.373 m/z, 32\n",
      "mass defect window [6445]: 1712.7388-1712.9193 Da\n",
      "\tpeak mass [1712.7616 1712.7616 1712.7708 1712.7708]\n",
      "\tpeak m/z [855.3735 855.3735 855.3781 855.3781]\n",
      "\tpeak centroid 855.3759 m/z, 194\n",
      "mass defect window [6453]: 1714.7397-1714.9203 Da\n",
      "\tpeak mass [1714.7451 1714.7451 1714.7451 1714.7544 1714.7544 1714.7544 1714.7636\n",
      " 1714.7636 1714.7728 1714.8374]\n",
      "\tpeak m/z [856.3653 856.3653 856.3653 856.3699 856.3699 856.3699 856.3745 856.3745\n",
      " 856.3791 856.4114]\n",
      "\tpeak centroid 856.3755 m/z, 392\n",
      "mass defect window [6461]: 1716.7406-1716.9214 Da\n",
      "\tpeak mass [1716.7575 1716.7575 1716.7668 1716.7668 1716.7668 1716.7852 1716.7852\n",
      " 1716.7852 1716.7945]\n",
      "\tpeak m/z [857.3715 857.3715 857.3761 857.3761 857.3761 857.3853 857.3853 857.3853\n",
      " 857.3899]\n",
      "\tpeak centroid 857.3783 m/z, 288\n",
      "mass defect window [6717]: 1780.7697-1780.9537 Da\n",
      "\tpeak mass [1780.8947]\n",
      "\tpeak m/z [889.4401]\n",
      "\tpeak centroid 889.4401 m/z, 34\n",
      "mass defect window [6973]: 1844.7988-1844.986 Da\n",
      "\tpeak mass [1844.9552]\n",
      "\tpeak m/z [921.4703]\n",
      "\tpeak centroid 921.4703 m/z, 80\n",
      "mass defect window [7189]: 1898.8234-1899.0133 Da\n",
      "\tpeak mass [1898.8663]\n",
      "\tpeak m/z [948.4258]\n",
      "\tpeak centroid 948.4258 m/z, 9\n",
      "mass defect window [7221]: 1906.8271-1907.0173 Da\n",
      "\tpeak mass [1906.8384]\n",
      "\tpeak m/z [952.4119]\n",
      "\tpeak centroid 952.4119 m/z, 84\n",
      "mass defect window [7349]: 1938.8416-1939.0335 Da\n",
      "\tpeak mass [1938.9041 1938.9139 1938.9336]\n",
      "\tpeak m/z [968.4448 968.4497 968.4595]\n",
      "\tpeak centroid 968.451 m/z, 177\n",
      "mass defect window [7357]: 1940.8425-1941.0345 Da\n",
      "\tpeak mass [1940.8576 1940.9263]\n",
      "\tpeak m/z [969.4215 969.4559]\n",
      "\tpeak centroid 969.444 m/z, 125\n",
      "mass defect window [7365]: 1942.8434-1943.0355 Da\n",
      "\tpeak mass [1942.9398]\n",
      "\tpeak m/z [970.4626]\n",
      "\tpeak centroid 970.4626 m/z, 10\n",
      "mass defect window [7373]: 1944.8443-1945.0365 Da\n",
      "\tpeak mass [1944.9247 1944.9444]\n",
      "\tpeak m/z [971.4551 971.4649]\n",
      "\tpeak centroid 971.4614 m/z, 86\n",
      "mass defect window [7989]: 2098.9144-2099.1143 Da\n",
      "\tpeak mass [2099.0585]\n",
      "\tpeak m/z [1048.5219]\n",
      "\tpeak centroid 1048.5219 m/z, 28\n",
      "mass defect window [8045]: 2112.9208-2113.1213 Da\n",
      "\tpeak mass [2112.9795]\n",
      "\tpeak m/z [1055.4825]\n",
      "\tpeak centroid 1055.4825 m/z, 47\n",
      "mass defect window [8149]: 2138.9326-2139.1345 Da\n",
      "\tpeak mass [2138.9904 2139.0007]\n",
      "\tpeak m/z [1068.4879 1068.4931]\n",
      "\tpeak centroid 1068.492 m/z, 45\n",
      "mass defect window [8157]: 2140.9335-2141.1355 Da\n",
      "\tpeak mass [2140.9804 2141.001  2141.0216 2141.032  2141.032 ]\n",
      "\tpeak m/z [1069.4829 1069.4932 1069.5035 1069.5087 1069.5087]\n",
      "\tpeak centroid 1069.5002 m/z, 181\n",
      "mass defect window [8165]: 2142.9344-2143.1365 Da\n",
      "\tpeak mass [2143.0435 2143.0435 2143.0435 2143.0642 2143.0745]\n",
      "\tpeak m/z [1070.5145 1070.5145 1070.5145 1070.5248 1070.5299]\n",
      "\tpeak centroid 1070.5216 m/z, 109\n",
      "mass defect window [8173]: 2144.9353-2145.1375 Da\n",
      "\tpeak mass [2144.9941 2145.0148]\n",
      "\tpeak m/z [1071.4898 1071.5001]\n",
      "\tpeak centroid 1071.4915 m/z, 59\n",
      "mass defect window [8189]: 2148.9372-2149.1395 Da\n",
      "\tpeak mass [2149.0116]\n",
      "\tpeak m/z [1073.4985]\n",
      "\tpeak centroid 1073.4985 m/z, 37\n",
      "mass defect window [8445]: 2212.9663-2213.1718 Da\n",
      "\tpeak mass [2213.0583]\n",
      "\tpeak m/z [1105.5218]\n",
      "\tpeak centroid 1105.5218 m/z, 21\n",
      "mass defect window [8685]: 2272.9936-2273.2021 Da\n",
      "\tpeak mass [2273.017]\n",
      "\tpeak m/z [1135.5012]\n",
      "\tpeak centroid 1135.5012 m/z, 30\n",
      "mass defect window [8885]: 2323.0163-2323.2274 Da\n",
      "\tpeak mass [2323.0224]\n",
      "\tpeak m/z [1160.5039]\n",
      "\tpeak centroid 1160.5039 m/z, 55\n",
      "mass defect window [9045]: 2363.0345-2363.2476 Da\n",
      "\tpeak mass [2363.0612]\n",
      "\tpeak m/z [1180.5233]\n",
      "\tpeak centroid 1180.5233 m/z, 23\n",
      "mass defect window [9053]: 2365.0354-2365.2486 Da\n",
      "\tpeak mass [2365.0987]\n",
      "\tpeak m/z [1181.5421]\n",
      "\tpeak centroid 1181.5421 m/z, 37\n",
      "mass defect window [9061]: 2367.0364-2367.2496 Da\n",
      "\tpeak mass [2367.0937]\n",
      "\tpeak m/z [1182.5396]\n",
      "\tpeak centroid 1182.5396 m/z, 53\n",
      "mass defect window [9189]: 2399.0509-2399.2658 Da\n",
      "\tpeak mass [2399.128]\n",
      "\tpeak m/z [1198.5567]\n",
      "\tpeak centroid 1198.5567 m/z, 21\n",
      "mass defect window [9197]: 2401.0518-2401.2668 Da\n",
      "\tpeak mass [2401.0608 2401.1373]\n",
      "\tpeak m/z [1199.5231 1199.5613]\n",
      "\tpeak centroid 1199.5471 m/z, 35\n",
      "mass defect window [9205]: 2403.0527-2403.2678 Da\n",
      "\tpeak mass [2403.06   2403.1037 2403.1037 2403.1147]\n",
      "\tpeak m/z [1200.5227 1200.5446 1200.5446 1200.55  ]\n",
      "\tpeak centroid 1200.5403 m/z, 138\n",
      "mass defect window [9213]: 2405.0536-2405.2688 Da\n",
      "\tpeak mass [2405.1147 2405.1256 2405.1584]\n",
      "\tpeak m/z [1201.55   1201.5555 1201.5719]\n",
      "\tpeak centroid 1201.5555 m/z, 65\n",
      "mass defect window [9259]: 2416.5589-2416.7746 Da\n",
      "\tpeak mass [2416.5954]\n",
      "\tpeak m/z [1207.2904]\n",
      "\tpeak centroid 1207.2904 m/z, 9\n",
      "mass defect window [9461]: 2467.0819-2467.3001 Da\n",
      "\tpeak mass [2467.108]\n",
      "\tpeak m/z [1232.5467]\n",
      "\tpeak centroid 1232.5467 m/z, 41\n",
      "mass defect window [9477]: 2471.0837-2471.3021 Da\n",
      "\tpeak mass [2471.1286]\n",
      "\tpeak m/z [1234.557]\n",
      "\tpeak centroid 1234.557 m/z, 34\n",
      "mass defect window [9569]: 2494.0941-2494.3137 Da\n",
      "\tpeak mass [2494.1743]\n",
      "\tpeak m/z [1246.0799]\n",
      "\tpeak centroid 1246.0799 m/z, 9\n",
      "mass defect window [9669]: 2519.1055-2519.3264 Da\n",
      "\tpeak mass [2519.2063]\n",
      "\tpeak m/z [1258.5958]\n",
      "\tpeak centroid 1258.5958 m/z, 33\n",
      "mass defect window [10305]: 2678.1779-2678.4067 Da\n",
      "\tpeak mass [2678.193]\n",
      "\tpeak m/z [1338.0892]\n",
      "\tpeak centroid 1338.0892 m/z, 9\n",
      "mass defect window [10477]: 2721.1974-2721.4284 Da\n",
      "\tpeak mass [2721.3248]\n",
      "\tpeak m/z [1359.6551]\n",
      "\tpeak centroid 1359.6551 m/z, 9\n",
      "mass defect window [12261]: 3167.4004-3167.6536 Da\n",
      "\tpeak mass [3167.5411]\n",
      "\tpeak m/z [1582.7633]\n",
      "\tpeak centroid 1582.7633 m/z, 9\n"
     ]
    }
   ],
   "source": [
    "peak_idx = 1\n",
    "orphan_indexes = []\n",
    "for i in range(len(orphaned_chunk_sizes)):\n",
    "    chunk_size = orphaned_chunk_sizes[i]\n",
    "    chunk_start = orphaned_chunk_starts[i]\n",
    "    for chunk_idx in range(chunk_size):\n",
    "        index = unique_mass_defect_window_indexes[chunk_start+chunk_idx]\n",
    "        lower_mass = round(bins[index-1],4)\n",
    "        upper_mass = round(bins[index],4)\n",
    "        print(\"mass defect window [{}]: {}-{} Da\".format(index, lower_mass, upper_mass))\n",
    "        orphan_indexes.append(index)\n",
    "        # get the raw points allocated to this bin\n",
    "        peak_indexes = np.where(digitised_mass == index)[0]\n",
    "        print(\"\\tpeak mass {}\".format(np.round(decharged_mass_a[peak_indexes],4)))\n",
    "        print(\"\\tpeak m/z {}\".format(np.round(mz_a[peak_indexes],4)))\n",
    "        mz_centroid = np.average(mz_a[peak_indexes], weights=intensity_a[peak_indexes])\n",
    "        intensity = np.sum(intensity_a[peak_indexes])\n",
    "        print(\"\\tpeak centroid {} m/z, {}\".format(np.round(mz_centroid,4), intensity))\n",
    "        monoisotopic_mass = (mz_centroid - PROTON_MASS) * charge\n",
    "        peaks_l.append((0, monoisotopic_mass, intensity))\n",
    "        peak_idx += 1\n",
    "        "
   ]
  },
  {
   "cell_type": "code",
   "execution_count": 757,
   "metadata": {},
   "outputs": [
    {
     "data": {
      "text/plain": [
       "[]"
      ]
     },
     "execution_count": 757,
     "metadata": {},
     "output_type": "execute_result"
    }
   ],
   "source": [
    "# check for intersection between sets of mass defect windows\n",
    "list(set(isotope_series_indexes) & set(orphan_indexes))"
   ]
  },
  {
   "cell_type": "code",
   "execution_count": 730,
   "metadata": {},
   "outputs": [],
   "source": [
    "peaks_df = pd.DataFrame(peaks_l, columns=['series','monoisotopic_mass','intensity'])\n",
    "peaks_df['normalised_intensity'] = peaks_df.intensity / peaks_df.intensity.max()"
   ]
  },
  {
   "cell_type": "code",
   "execution_count": 699,
   "metadata": {},
   "outputs": [
    {
     "data": {
      "image/png": "[encoded data removed]",
      "text/plain": [
       "<Figure size 1080x720 with 1 Axes>"
      ]
     },
     "metadata": {
      "needs_background": "light"
     },
     "output_type": "display_data"
    }
   ],
   "source": [
    "f, ax = plt.subplots()\n",
    "colors = ['tab:blue', 'tab:orange', 'tab:green', 'tab:red', 'tab:purple', 'tab:brown', 'tab:pink', 'tab:gray', 'tab:olive', 'tab:cyan']\n",
    "\n",
    "markerline, stemlines, baseline = ax.stem(feature_raw_ms2_df.mz, feature_raw_ms2_df.normalised_intensity, label='before deconvolution', use_line_collection=True)\n",
    "plt.setp(markerline, 'color', colors[1])\n",
    "plt.setp(stemlines, 'color', colors[1])\n",
    "plt.setp(baseline, 'color', colors[7])\n",
    "\n",
    "groups = peaks_df.groupby('series')\n",
    "for i, (name, group) in enumerate(groups):\n",
    "    markerline, stemlines, baseline = ax.stem(group.monoisotopic_mass, -group.normalised_intensity, label=name, use_line_collection=True)\n",
    "    plt.setp(markerline, 'color', colors[i % len(colors)])\n",
    "    plt.setp(stemlines, 'color', colors[i % len(colors)])\n",
    "    plt.setp(baseline, 'color', colors[7])\n",
    "\n",
    "plt.xlabel('m/z')\n",
    "plt.ylabel('intensity')\n",
    "f.set_figheight(10)\n",
    "f.set_figwidth(15)\n",
    "ax.set_xlim((200,1400))\n",
    "plt.margins(0.06)\n",
    "# plt.legend(loc='best')\n",
    "plt.title('Comparing ms2 spectra before and after deconvolution for feature {} (for charge {})'.format(feature_id, charge))\n",
    "plt.show()"
   ]
  },
  {
   "cell_type": "code",
   "execution_count": null,
   "metadata": {},
   "outputs": [],
   "source": []
  }
 ],
 "metadata": {
  "kernelspec": {
   "display_name": "Python 3",
   "language": "python",
   "name": "python3"
  },
  "language_info": {
   "codemirror_mode": {
    "name": "ipython",
    "version": 3
   },
   "file_extension": ".py",
   "mimetype": "text/x-python",
   "name": "python",
   "nbconvert_exporter": "python",
   "pygments_lexer": "ipython3",
   "version": "3.6.8"
  }
 },
 "nbformat": 4,
 "nbformat_minor": 2
}
