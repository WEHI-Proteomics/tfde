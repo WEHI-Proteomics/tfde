{
 "cells": [
  {
   "cell_type": "code",
   "execution_count": 21,
   "metadata": {},
   "outputs": [],
   "source": [
    "import pandas as pd\n",
    "import pickle\n",
    "import tempfile\n",
    "import zipfile\n",
    "import json\n",
    "import shutil"
   ]
  },
  {
   "cell_type": "code",
   "execution_count": 23,
   "metadata": {},
   "outputs": [],
   "source": [
    "# loads the metadata, ms1 points, and ms2 points from the specified zip file\n",
    "def load_precursor_cuboid_zip(filename):\n",
    "    temp_dir = tempfile.TemporaryDirectory().name\n",
    "    with zipfile.ZipFile(filename, \"r\") as zf:\n",
    "        zf.extractall(path=temp_dir)\n",
    "        names = zf.namelist()\n",
    "        with open('{}/{}'.format(temp_dir, names[0])) as json_file:\n",
    "            metadata = json.load(json_file)\n",
    "        ms1_df = pd.read_pickle('{}/{}'.format(temp_dir, names[1]))\n",
    "        ms2_df = pd.read_pickle('{}/{}'.format(temp_dir, names[2]))\n",
    "    # clean up the temp directory\n",
    "    shutil.rmtree(temp_dir)\n",
    "    return (metadata, ms1_df, ms2_df)\n"
   ]
  },
  {
   "cell_type": "code",
   "execution_count": 24,
   "metadata": {},
   "outputs": [],
   "source": [
    "experiment_base_dir = '/Users/darylwilding-mcbride/Downloads/experiments'\n",
    "run_name = 'P3856_YHE211_1_Slot1-1_1_5104'\n",
    "experiment_name = 'P3856'\n",
    "precursor_id = 1000\n",
    "total_precursors = 52464"
   ]
  },
  {
   "cell_type": "code",
   "execution_count": 25,
   "metadata": {},
   "outputs": [],
   "source": [
    "precursor_zip_filename = '{}/{}/precursor-cuboids/{}/exp-{}-run-{}-precursor-{}-of-{}.zip'.format(experiment_base_dir, experiment_name, run_name, experiment_name, run_name, precursor_id, total_precursors)\n",
    "# precursor_metadata, ms1_points_df = load_precursor_cuboid_zip_ms1(precursor_zip_filename)\n",
    "precursor_metadata, ms1_points_df, ms2_points_df = load_precursor_cuboid_zip(precursor_zip_filename)"
   ]
  },
  {
   "cell_type": "code",
   "execution_count": 26,
   "metadata": {},
   "outputs": [
    {
     "data": {
      "text/plain": [
       "{'precursor_id': 1000,\n",
       " 'window_mz_lower': 606.3989053402448,\n",
       " 'window_mz_upper': 609.7989053402449,\n",
       " 'wide_mz_lower': 605.3955503402448,\n",
       " 'wide_mz_upper': 609.7989053402449,\n",
       " 'window_scan_width': 25,\n",
       " 'fe_scan_lower': 811,\n",
       " 'fe_scan_upper': 836,\n",
       " 'wide_scan_lower': 786,\n",
       " 'wide_scan_upper': 861,\n",
       " 'wide_rt_lower': 447.34784298957885,\n",
       " 'wide_rt_upper': 467.7675776990704,\n",
       " 'fe_ms1_frame_lower': 4078,\n",
       " 'fe_ms1_frame_upper': 4108,\n",
       " 'fe_ms2_frame_lower': 4090,\n",
       " 'fe_ms2_frame_upper': 4094,\n",
       " 'wide_frame_lower': 3993,\n",
       " 'wide_frame_upper': 4189,\n",
       " 'number_of_windows': 4}"
      ]
     },
     "execution_count": 26,
     "metadata": {},
     "output_type": "execute_result"
    }
   ],
   "source": [
    "precursor_metadata"
   ]
  },
  {
   "cell_type": "markdown",
   "metadata": {},
   "source": [
    "#### raw ms1 points"
   ]
  },
  {
   "cell_type": "code",
   "execution_count": 27,
   "metadata": {},
   "outputs": [
    {
     "data": {
      "text/html": [
       "<div>\n",
       "<style scoped>\n",
       "    .dataframe tbody tr th:only-of-type {\n",
       "        vertical-align: middle;\n",
       "    }\n",
       "\n",
       "    .dataframe tbody tr th {\n",
       "        vertical-align: top;\n",
       "    }\n",
       "\n",
       "    .dataframe thead th {\n",
       "        text-align: right;\n",
       "    }\n",
       "</style>\n",
       "<table border=\"1\" class=\"dataframe\">\n",
       "  <thead>\n",
       "    <tr style=\"text-align: right;\">\n",
       "      <th></th>\n",
       "      <th>frame_id</th>\n",
       "      <th>frame_type</th>\n",
       "      <th>mz</th>\n",
       "      <th>scan</th>\n",
       "      <th>intensity</th>\n",
       "      <th>retention_time_secs</th>\n",
       "    </tr>\n",
       "  </thead>\n",
       "  <tbody>\n",
       "    <tr>\n",
       "      <th>0</th>\n",
       "      <td>3993</td>\n",
       "      <td>0</td>\n",
       "      <td>605.725731</td>\n",
       "      <td>861</td>\n",
       "      <td>55</td>\n",
       "      <td>447.157516</td>\n",
       "    </tr>\n",
       "    <tr>\n",
       "      <th>1</th>\n",
       "      <td>3993</td>\n",
       "      <td>0</td>\n",
       "      <td>605.745030</td>\n",
       "      <td>824</td>\n",
       "      <td>76</td>\n",
       "      <td>447.157516</td>\n",
       "    </tr>\n",
       "    <tr>\n",
       "      <th>2</th>\n",
       "      <td>3993</td>\n",
       "      <td>0</td>\n",
       "      <td>605.802929</td>\n",
       "      <td>839</td>\n",
       "      <td>85</td>\n",
       "      <td>447.157516</td>\n",
       "    </tr>\n",
       "    <tr>\n",
       "      <th>3</th>\n",
       "      <td>3993</td>\n",
       "      <td>0</td>\n",
       "      <td>605.806789</td>\n",
       "      <td>847</td>\n",
       "      <td>78</td>\n",
       "      <td>447.157516</td>\n",
       "    </tr>\n",
       "    <tr>\n",
       "      <th>4</th>\n",
       "      <td>3993</td>\n",
       "      <td>0</td>\n",
       "      <td>605.810649</td>\n",
       "      <td>816</td>\n",
       "      <td>78</td>\n",
       "      <td>447.157516</td>\n",
       "    </tr>\n",
       "  </tbody>\n",
       "</table>\n",
       "</div>"
      ],
      "text/plain": [
       "   frame_id  frame_type          mz  scan  intensity  retention_time_secs\n",
       "0      3993           0  605.725731   861         55           447.157516\n",
       "1      3993           0  605.745030   824         76           447.157516\n",
       "2      3993           0  605.802929   839         85           447.157516\n",
       "3      3993           0  605.806789   847         78           447.157516\n",
       "4      3993           0  605.810649   816         78           447.157516"
      ]
     },
     "execution_count": 27,
     "metadata": {},
     "output_type": "execute_result"
    }
   ],
   "source": [
    "ms1_points_df.head()"
   ]
  },
  {
   "cell_type": "code",
   "execution_count": 28,
   "metadata": {},
   "outputs": [],
   "source": [
    "fe_raw_points_df = ms1_points_df[(ms1_points_df.mz >= precursor_metadata['window_mz_lower']) & (ms1_points_df.mz <= precursor_metadata['window_mz_upper'])]"
   ]
  },
  {
   "cell_type": "code",
   "execution_count": 29,
   "metadata": {},
   "outputs": [
    {
     "data": {
      "text/html": [
       "<div>\n",
       "<style scoped>\n",
       "    .dataframe tbody tr th:only-of-type {\n",
       "        vertical-align: middle;\n",
       "    }\n",
       "\n",
       "    .dataframe tbody tr th {\n",
       "        vertical-align: top;\n",
       "    }\n",
       "\n",
       "    .dataframe thead th {\n",
       "        text-align: right;\n",
       "    }\n",
       "</style>\n",
       "<table border=\"1\" class=\"dataframe\">\n",
       "  <thead>\n",
       "    <tr style=\"text-align: right;\">\n",
       "      <th></th>\n",
       "      <th>frame_id</th>\n",
       "      <th>frame_type</th>\n",
       "      <th>mz</th>\n",
       "      <th>scan</th>\n",
       "      <th>intensity</th>\n",
       "      <th>retention_time_secs</th>\n",
       "    </tr>\n",
       "  </thead>\n",
       "  <tbody>\n",
       "    <tr>\n",
       "      <th>11</th>\n",
       "      <td>3993</td>\n",
       "      <td>0</td>\n",
       "      <td>606.598351</td>\n",
       "      <td>819</td>\n",
       "      <td>9</td>\n",
       "      <td>447.157516</td>\n",
       "    </tr>\n",
       "    <tr>\n",
       "      <th>12</th>\n",
       "      <td>3993</td>\n",
       "      <td>0</td>\n",
       "      <td>606.764452</td>\n",
       "      <td>816</td>\n",
       "      <td>52</td>\n",
       "      <td>447.157516</td>\n",
       "    </tr>\n",
       "    <tr>\n",
       "      <th>13</th>\n",
       "      <td>3993</td>\n",
       "      <td>0</td>\n",
       "      <td>607.146956</td>\n",
       "      <td>816</td>\n",
       "      <td>23</td>\n",
       "      <td>447.157516</td>\n",
       "    </tr>\n",
       "    <tr>\n",
       "      <th>14</th>\n",
       "      <td>3993</td>\n",
       "      <td>0</td>\n",
       "      <td>607.591430</td>\n",
       "      <td>843</td>\n",
       "      <td>25</td>\n",
       "      <td>447.157516</td>\n",
       "    </tr>\n",
       "    <tr>\n",
       "      <th>15</th>\n",
       "      <td>3993</td>\n",
       "      <td>0</td>\n",
       "      <td>607.730603</td>\n",
       "      <td>861</td>\n",
       "      <td>92</td>\n",
       "      <td>447.157516</td>\n",
       "    </tr>\n",
       "  </tbody>\n",
       "</table>\n",
       "</div>"
      ],
      "text/plain": [
       "    frame_id  frame_type          mz  scan  intensity  retention_time_secs\n",
       "11      3993           0  606.598351   819          9           447.157516\n",
       "12      3993           0  606.764452   816         52           447.157516\n",
       "13      3993           0  607.146956   816         23           447.157516\n",
       "14      3993           0  607.591430   843         25           447.157516\n",
       "15      3993           0  607.730603   861         92           447.157516"
      ]
     },
     "execution_count": 29,
     "metadata": {},
     "output_type": "execute_result"
    }
   ],
   "source": [
    "fe_raw_points_df.head()"
   ]
  },
  {
   "cell_type": "markdown",
   "metadata": {},
   "source": [
    "#### fragment ions"
   ]
  },
  {
   "cell_type": "code",
   "execution_count": 36,
   "metadata": {},
   "outputs": [
    {
     "data": {
      "text/html": [
       "<div>\n",
       "<style scoped>\n",
       "    .dataframe tbody tr th:only-of-type {\n",
       "        vertical-align: middle;\n",
       "    }\n",
       "\n",
       "    .dataframe tbody tr th {\n",
       "        vertical-align: top;\n",
       "    }\n",
       "\n",
       "    .dataframe thead th {\n",
       "        text-align: right;\n",
       "    }\n",
       "</style>\n",
       "<table border=\"1\" class=\"dataframe\">\n",
       "  <thead>\n",
       "    <tr style=\"text-align: right;\">\n",
       "      <th></th>\n",
       "      <th>frame_id</th>\n",
       "      <th>frame_type</th>\n",
       "      <th>mz</th>\n",
       "      <th>scan</th>\n",
       "      <th>intensity</th>\n",
       "      <th>retention_time_secs</th>\n",
       "    </tr>\n",
       "  </thead>\n",
       "  <tbody>\n",
       "    <tr>\n",
       "      <th>0</th>\n",
       "      <td>3994</td>\n",
       "      <td>8</td>\n",
       "      <td>173.739556</td>\n",
       "      <td>814</td>\n",
       "      <td>9</td>\n",
       "      <td>447.263026</td>\n",
       "    </tr>\n",
       "    <tr>\n",
       "      <th>1</th>\n",
       "      <td>3994</td>\n",
       "      <td>8</td>\n",
       "      <td>176.262261</td>\n",
       "      <td>828</td>\n",
       "      <td>9</td>\n",
       "      <td>447.263026</td>\n",
       "    </tr>\n",
       "    <tr>\n",
       "      <th>2</th>\n",
       "      <td>3994</td>\n",
       "      <td>8</td>\n",
       "      <td>182.614667</td>\n",
       "      <td>837</td>\n",
       "      <td>9</td>\n",
       "      <td>447.263026</td>\n",
       "    </tr>\n",
       "  </tbody>\n",
       "</table>\n",
       "</div>"
      ],
      "text/plain": [
       "   frame_id  frame_type          mz  scan  intensity  retention_time_secs\n",
       "0      3994           8  173.739556   814          9           447.263026\n",
       "1      3994           8  176.262261   828          9           447.263026\n",
       "2      3994           8  182.614667   837          9           447.263026"
      ]
     },
     "execution_count": 36,
     "metadata": {},
     "output_type": "execute_result"
    }
   ],
   "source": [
    "ms2_points_df.head(n=3)"
   ]
  },
  {
   "cell_type": "markdown",
   "metadata": {},
   "source": [
    "#### derived feature attributes for this precursor cuboid"
   ]
  },
  {
   "cell_type": "code",
   "execution_count": 30,
   "metadata": {},
   "outputs": [],
   "source": [
    "feature_df = pd.read_pickle('{}/{}/features/experiment-features.pkl'.format(experiment_base_dir, experiment_name))"
   ]
  },
  {
   "cell_type": "code",
   "execution_count": 31,
   "metadata": {},
   "outputs": [
    {
     "data": {
      "text/html": [
       "<div>\n",
       "<style scoped>\n",
       "    .dataframe tbody tr th:only-of-type {\n",
       "        vertical-align: middle;\n",
       "    }\n",
       "\n",
       "    .dataframe tbody tr th {\n",
       "        vertical-align: top;\n",
       "    }\n",
       "\n",
       "    .dataframe thead th {\n",
       "        text-align: right;\n",
       "    }\n",
       "</style>\n",
       "<table border=\"1\" class=\"dataframe\">\n",
       "  <thead>\n",
       "    <tr style=\"text-align: right;\">\n",
       "      <th></th>\n",
       "      <th>monoisotopic_mz</th>\n",
       "      <th>charge</th>\n",
       "      <th>intensity</th>\n",
       "      <th>intensity_full_rt_extent</th>\n",
       "      <th>scan_apex</th>\n",
       "      <th>scan_curve_fit</th>\n",
       "      <th>scan_lower</th>\n",
       "      <th>scan_upper</th>\n",
       "      <th>rt_apex</th>\n",
       "      <th>rt_curve_fit</th>\n",
       "      <th>rt_lower</th>\n",
       "      <th>rt_upper</th>\n",
       "      <th>precursor_id</th>\n",
       "      <th>envelope</th>\n",
       "      <th>feature_id</th>\n",
       "      <th>candidate_phr_error</th>\n",
       "      <th>mono_adjusted</th>\n",
       "      <th>original_phr_error</th>\n",
       "      <th>original_phr</th>\n",
       "      <th>monoisotopic_mass</th>\n",
       "    </tr>\n",
       "  </thead>\n",
       "  <tbody>\n",
       "    <tr>\n",
       "      <th>95150</th>\n",
       "      <td>607.789175</td>\n",
       "      <td>2</td>\n",
       "      <td>34799.0</td>\n",
       "      <td>84296</td>\n",
       "      <td>822.76</td>\n",
       "      <td>True</td>\n",
       "      <td>808.66</td>\n",
       "      <td>836.86</td>\n",
       "      <td>456.91</td>\n",
       "      <td>True</td>\n",
       "      <td>446.91</td>\n",
       "      <td>466.91</td>\n",
       "      <td>1000</td>\n",
       "      <td>((607.7875, 17619.00), (608.2890, 11221.00), (...</td>\n",
       "      <td>100001</td>\n",
       "      <td>NaN</td>\n",
       "      <td>False</td>\n",
       "      <td>-0.0220516</td>\n",
       "      <td>0.636869</td>\n",
       "      <td>1213.563749</td>\n",
       "    </tr>\n",
       "    <tr>\n",
       "      <th>95151</th>\n",
       "      <td>606.798859</td>\n",
       "      <td>2</td>\n",
       "      <td>2019.0</td>\n",
       "      <td>1395</td>\n",
       "      <td>833.32</td>\n",
       "      <td>False</td>\n",
       "      <td>813.32</td>\n",
       "      <td>853.32</td>\n",
       "      <td>457.91</td>\n",
       "      <td>False</td>\n",
       "      <td>447.91</td>\n",
       "      <td>467.91</td>\n",
       "      <td>1000</td>\n",
       "      <td>((606.7935, 1019.00), (607.3003, 1000.00), (60...</td>\n",
       "      <td>100002</td>\n",
       "      <td>-0.316447</td>\n",
       "      <td>False</td>\n",
       "      <td>0.509418</td>\n",
       "      <td>0.981354</td>\n",
       "      <td>1211.583118</td>\n",
       "    </tr>\n",
       "  </tbody>\n",
       "</table>\n",
       "</div>"
      ],
      "text/plain": [
       "       monoisotopic_mz  charge  intensity  intensity_full_rt_extent  \\\n",
       "95150       607.789175       2    34799.0                     84296   \n",
       "95151       606.798859       2     2019.0                      1395   \n",
       "\n",
       "       scan_apex  scan_curve_fit  scan_lower  scan_upper  rt_apex  \\\n",
       "95150     822.76            True      808.66      836.86   456.91   \n",
       "95151     833.32           False      813.32      853.32   457.91   \n",
       "\n",
       "       rt_curve_fit  rt_lower  rt_upper  precursor_id  \\\n",
       "95150          True    446.91    466.91          1000   \n",
       "95151         False    447.91    467.91          1000   \n",
       "\n",
       "                                                envelope  feature_id  \\\n",
       "95150  ((607.7875, 17619.00), (608.2890, 11221.00), (...      100001   \n",
       "95151  ((606.7935, 1019.00), (607.3003, 1000.00), (60...      100002   \n",
       "\n",
       "      candidate_phr_error  mono_adjusted original_phr_error  original_phr  \\\n",
       "95150                 NaN          False         -0.0220516      0.636869   \n",
       "95151           -0.316447          False           0.509418      0.981354   \n",
       "\n",
       "       monoisotopic_mass  \n",
       "95150        1213.563749  \n",
       "95151        1211.583118  "
      ]
     },
     "execution_count": 31,
     "metadata": {},
     "output_type": "execute_result"
    }
   ],
   "source": [
    "feature_df[(feature_df.precursor_id == precursor_id)]"
   ]
  }
 ],
 "metadata": {
  "kernelspec": {
   "display_name": "Python 3",
   "language": "python",
   "name": "python3"
  },
  "language_info": {
   "codemirror_mode": {
    "name": "ipython",
    "version": 3
   },
   "file_extension": ".py",
   "mimetype": "text/x-python",
   "name": "python",
   "nbconvert_exporter": "python",
   "pygments_lexer": "ipython3",
   "version": "3.6.8"
  }
 },
 "nbformat": 4,
 "nbformat_minor": 2
}
