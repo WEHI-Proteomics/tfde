{
 "cells": [
  {
   "cell_type": "markdown",
   "metadata": {},
   "source": [
    "This notebook merges each identified sequence-charge with the detected feature it came from, and saves the DF in percolator_df"
   ]
  },
  {
   "cell_type": "code",
   "execution_count": 3,
   "metadata": {},
   "outputs": [],
   "source": [
    "import pandas as pd\n",
    "import numpy as np\n",
    "import os\n",
    "import matplotlib.pyplot as plt"
   ]
  },
  {
   "cell_type": "code",
   "execution_count": 4,
   "metadata": {},
   "outputs": [],
   "source": [
    "ANALYSE_RECALIBRATED_FEATURES = True"
   ]
  },
  {
   "cell_type": "code",
   "execution_count": 5,
   "metadata": {},
   "outputs": [],
   "source": [
    "MAXIMUM_Q_VALUE_PRE_RECAL = 0.01\n",
    "MAXIMUM_Q_VALUE_POST_RECAL = 0.005"
   ]
  },
  {
   "cell_type": "code",
   "execution_count": 6,
   "metadata": {},
   "outputs": [],
   "source": [
    "if ANALYSE_RECALIBRATED_FEATURES:\n",
    "    PERCOLATOR_OUTPUT_FILE = '/Users/darylwilding-mcbride/Downloads/experiments/190719_Hela_Ecoli/recalibrated-percolator-output/190719_Hela_Ecoli.percolator.target.psms.txt'\n",
    "    PERCOLATOR_STDOUT_FILE = '/Users/darylwilding-mcbride/Downloads/experiments/190719_Hela_Ecoli/recalibrated-percolator-output/recalibrated-percolator-stdout.log'\n",
    "    FEATURE_FILE = '/Users/darylwilding-mcbride/Downloads/experiments/190719_Hela_Ecoli/recalibrated-features/{}-features.pkl'\n",
    "    MAXIMUM_Q_VALUE = MAXIMUM_Q_VALUE_POST_RECAL\n",
    "else:\n",
    "    PERCOLATOR_OUTPUT_FILE = '/Users/darylwilding-mcbride/Downloads/experiments/190719_Hela_Ecoli/percolator-output/190719_Hela_Ecoli.percolator.target.psms.txt'\n",
    "    PERCOLATOR_STDOUT_FILE = '/Users/darylwilding-mcbride/Downloads/experiments/190719_Hela_Ecoli/percolator-output/percolator-stdout.log'\n",
    "    FEATURE_FILE = '/Users/darylwilding-mcbride/Downloads/experiments/190719_Hela_Ecoli/features/{}-features.pkl'\n",
    "    MAXIMUM_Q_VALUE = MAXIMUM_Q_VALUE_PRE_RECAL"
   ]
  },
  {
   "cell_type": "code",
   "execution_count": 7,
   "metadata": {},
   "outputs": [],
   "source": [
    "psms_df = pd.read_csv(PERCOLATOR_OUTPUT_FILE, sep='\\t')"
   ]
  },
  {
   "cell_type": "code",
   "execution_count": 8,
   "metadata": {},
   "outputs": [],
   "source": [
    "psms_df = psms_df[psms_df['percolator q-value'] <= MAXIMUM_Q_VALUE]"
   ]
  },
  {
   "cell_type": "code",
   "execution_count": 9,
   "metadata": {},
   "outputs": [
    {
     "name": "stdout",
     "output_type": "stream",
     "text": [
      "there are 7904 proteins and 29057 peptides (max q-value is 0.01)\n"
     ]
    }
   ],
   "source": [
    "# count unique identifications\n",
    "MAX_Q_VALUE_FOR_COUNTING_RESULTS = 0.01\n",
    "df = pd.read_csv(PERCOLATOR_OUTPUT_FILE, sep='\\t')\n",
    "df = df[df['percolator q-value'] <= MAX_Q_VALUE_FOR_COUNTING_RESULTS]\n",
    "print(\"there are {} proteins and {} peptides (max q-value is {})\".format(len(df['protein id'].unique()), len(df.sequence.unique()), MAX_Q_VALUE_FOR_COUNTING_RESULTS))"
   ]
  },
  {
   "cell_type": "code",
   "execution_count": 10,
   "metadata": {},
   "outputs": [
    {
     "data": {
      "text/plain": [
       "array(['sp|P0AAI9|FABD_ECOLI', 'sp|P0AB71|ALF_ECOLI',\n",
       "       'sp|Q13885|TBB2A_HUMAN,sp|Q9BVA1|TBB2B_HUMAN,sp|P68371|TBB4B_HUMAN,sp|P07437|TBB5_HUMAN,sp|Q13509|TBB3_HUMAN',\n",
       "       ..., 'sp|Q8N4N8|KIF2B_HUMAN', 'sp|O15178|TBXT_HUMAN',\n",
       "       'sp|O43439|MTG8R_HUMAN'], dtype=object)"
      ]
     },
     "execution_count": 10,
     "metadata": {},
     "output_type": "execute_result"
    }
   ],
   "source": [
    "df['protein id'].unique()"
   ]
  },
  {
   "cell_type": "code",
   "execution_count": 11,
   "metadata": {},
   "outputs": [
    {
     "data": {
      "text/html": [
       "<div>\n",
       "<style scoped>\n",
       "    .dataframe tbody tr th:only-of-type {\n",
       "        vertical-align: middle;\n",
       "    }\n",
       "\n",
       "    .dataframe tbody tr th {\n",
       "        vertical-align: top;\n",
       "    }\n",
       "\n",
       "    .dataframe thead th {\n",
       "        text-align: right;\n",
       "    }\n",
       "</style>\n",
       "<table border=\"1\" class=\"dataframe\">\n",
       "  <thead>\n",
       "    <tr style=\"text-align: right;\">\n",
       "      <th></th>\n",
       "      <th>file_idx</th>\n",
       "      <th>scan</th>\n",
       "      <th>charge</th>\n",
       "      <th>spectrum precursor m/z</th>\n",
       "      <th>spectrum neutral mass</th>\n",
       "      <th>peptide mass</th>\n",
       "      <th>percolator score</th>\n",
       "      <th>percolator q-value</th>\n",
       "      <th>percolator PEP</th>\n",
       "      <th>total matches/spectrum</th>\n",
       "      <th>sequence</th>\n",
       "      <th>protein id</th>\n",
       "      <th>flanking aa</th>\n",
       "    </tr>\n",
       "  </thead>\n",
       "  <tbody>\n",
       "    <tr>\n",
       "      <th>85528</th>\n",
       "      <td>0</td>\n",
       "      <td>3</td>\n",
       "      <td>2</td>\n",
       "      <td>871.9096</td>\n",
       "      <td>1741.8046</td>\n",
       "      <td>1742.8120</td>\n",
       "      <td>0.863303</td>\n",
       "      <td>0.000003</td>\n",
       "      <td>2.177940e-08</td>\n",
       "      <td>3292.08</td>\n",
       "      <td>AMGIMNSFVNDIFER</td>\n",
       "      <td>sp|Q5QNW6|H2B2F_HUMAN,sp|Q99879|H2B1M_HUMAN,sp...</td>\n",
       "      <td>KI</td>\n",
       "    </tr>\n",
       "    <tr>\n",
       "      <th>381962</th>\n",
       "      <td>0</td>\n",
       "      <td>4</td>\n",
       "      <td>2</td>\n",
       "      <td>901.9437</td>\n",
       "      <td>1801.8728</td>\n",
       "      <td>1802.8799</td>\n",
       "      <td>0.472076</td>\n",
       "      <td>0.000003</td>\n",
       "      <td>5.196051e-05</td>\n",
       "      <td>3292.08</td>\n",
       "      <td>GITINTSHVEYDTPTR</td>\n",
       "      <td>sp|P0CE48|EFTU2_ECOLI,sp|P0CE47|EFTU1_ECOLI</td>\n",
       "      <td>RH</td>\n",
       "    </tr>\n",
       "    <tr>\n",
       "      <th>22826</th>\n",
       "      <td>0</td>\n",
       "      <td>5</td>\n",
       "      <td>3</td>\n",
       "      <td>801.0827</td>\n",
       "      <td>2400.2263</td>\n",
       "      <td>2401.2336</td>\n",
       "      <td>1.047681</td>\n",
       "      <td>0.000003</td>\n",
       "      <td>5.560437e-10</td>\n",
       "      <td>3292.08</td>\n",
       "      <td>ANDAAGDGTTTATVLAQAIITEGLK</td>\n",
       "      <td>sp|P0A6F5|CH60_ECOLI</td>\n",
       "      <td>KA</td>\n",
       "    </tr>\n",
       "    <tr>\n",
       "      <th>221</th>\n",
       "      <td>0</td>\n",
       "      <td>6</td>\n",
       "      <td>2</td>\n",
       "      <td>1093.0820</td>\n",
       "      <td>2184.1494</td>\n",
       "      <td>2128.1350</td>\n",
       "      <td>1.533166</td>\n",
       "      <td>0.000003</td>\n",
       "      <td>3.554143e-14</td>\n",
       "      <td>3292.08</td>\n",
       "      <td>IPISGIAGDQQAALFGQLCVK</td>\n",
       "      <td>sp|P0A6F3|GLPK_ECOLI</td>\n",
       "      <td>RE</td>\n",
       "    </tr>\n",
       "    <tr>\n",
       "      <th>282742</th>\n",
       "      <td>0</td>\n",
       "      <td>7</td>\n",
       "      <td>2</td>\n",
       "      <td>965.5842</td>\n",
       "      <td>1929.1539</td>\n",
       "      <td>1930.1615</td>\n",
       "      <td>0.595956</td>\n",
       "      <td>0.000003</td>\n",
       "      <td>4.442605e-06</td>\n",
       "      <td>3292.08</td>\n",
       "      <td>VTIAQGGVLPNIQAVLLPK</td>\n",
       "      <td>sp|Q99878|H2A1J_HUMAN,sp|Q9BTM1|H2AJ_HUMAN,sp|...</td>\n",
       "      <td>KK</td>\n",
       "    </tr>\n",
       "  </tbody>\n",
       "</table>\n",
       "</div>"
      ],
      "text/plain": [
       "        file_idx  scan  charge  spectrum precursor m/z  spectrum neutral mass  \\\n",
       "85528          0     3       2                871.9096              1741.8046   \n",
       "381962         0     4       2                901.9437              1801.8728   \n",
       "22826          0     5       3                801.0827              2400.2263   \n",
       "221            0     6       2               1093.0820              2184.1494   \n",
       "282742         0     7       2                965.5842              1929.1539   \n",
       "\n",
       "        peptide mass  percolator score  percolator q-value  percolator PEP  \\\n",
       "85528      1742.8120          0.863303            0.000003    2.177940e-08   \n",
       "381962     1802.8799          0.472076            0.000003    5.196051e-05   \n",
       "22826      2401.2336          1.047681            0.000003    5.560437e-10   \n",
       "221        2128.1350          1.533166            0.000003    3.554143e-14   \n",
       "282742     1930.1615          0.595956            0.000003    4.442605e-06   \n",
       "\n",
       "        total matches/spectrum                   sequence  \\\n",
       "85528                  3292.08            AMGIMNSFVNDIFER   \n",
       "381962                 3292.08           GITINTSHVEYDTPTR   \n",
       "22826                  3292.08  ANDAAGDGTTTATVLAQAIITEGLK   \n",
       "221                    3292.08      IPISGIAGDQQAALFGQLCVK   \n",
       "282742                 3292.08        VTIAQGGVLPNIQAVLLPK   \n",
       "\n",
       "                                               protein id flanking aa  \n",
       "85528   sp|Q5QNW6|H2B2F_HUMAN,sp|Q99879|H2B1M_HUMAN,sp...          KI  \n",
       "381962        sp|P0CE48|EFTU2_ECOLI,sp|P0CE47|EFTU1_ECOLI          RH  \n",
       "22826                                sp|P0A6F5|CH60_ECOLI          KA  \n",
       "221                                  sp|P0A6F3|GLPK_ECOLI          RE  \n",
       "282742  sp|Q99878|H2A1J_HUMAN,sp|Q9BTM1|H2AJ_HUMAN,sp|...          KK  "
      ]
     },
     "execution_count": 11,
     "metadata": {},
     "output_type": "execute_result"
    }
   ],
   "source": [
    "psms_df[psms_df.file_idx == 0].sort_values(by='scan').head()"
   ]
  },
  {
   "cell_type": "code",
   "execution_count": 12,
   "metadata": {},
   "outputs": [],
   "source": [
    "# use the recalibrated percolator output to find the mapping from percolator index to run\n",
    "mapping = []\n",
    "with open(PERCOLATOR_STDOUT_FILE) as f:\n",
    "    lines = f.readlines()\n",
    "    for line in lines:\n",
    "        if line.startswith('INFO: Assigning index'):\n",
    "            splits = line.split(' ')\n",
    "            percolator_index = int(splits[3])\n",
    "            comet_filename = splits[5]\n",
    "            base_name = comet_filename.split('/')[-1].split('.')[0]\n",
    "            mapping.append((percolator_index, base_name))"
   ]
  },
  {
   "cell_type": "code",
   "execution_count": 13,
   "metadata": {},
   "outputs": [
    {
     "data": {
      "text/plain": [
       "[(0, '190719_Hela_Ecoli_1to3_06-recalibrated'),\n",
       " (1, '190719_Hela_Ecoli_1to1_07-recalibrated'),\n",
       " (2, '190719_Hela_Ecoli_1to1_09-recalibrated'),\n",
       " (3, '190719_Hela_Ecoli_1to3_05-recalibrated'),\n",
       " (4, '190719_Hela_Ecoli_1to3_09-recalibrated'),\n",
       " (5, '190719_Hela_Ecoli_1to3_08-recalibrated'),\n",
       " (6, '190719_Hela_Ecoli_1to3_07-recalibrated'),\n",
       " (7, '190719_Hela_Ecoli_1to3_01-recalibrated'),\n",
       " (8, '190719_Hela_Ecoli_1to3_10-recalibrated'),\n",
       " (9, '190719_Hela_Ecoli_1to3_04-recalibrated'),\n",
       " (10, '190719_Hela_Ecoli_1to1_02-recalibrated'),\n",
       " (11, '190719_Hela_Ecoli_1to1_10-recalibrated'),\n",
       " (12, '190719_Hela_Ecoli_1to1_04-recalibrated'),\n",
       " (13, '190719_Hela_Ecoli_1to1_06-recalibrated'),\n",
       " (14, '190719_Hela_Ecoli_1to1_03-recalibrated'),\n",
       " (15, '190719_Hela_Ecoli_1to1_08-recalibrated'),\n",
       " (16, '190719_Hela_Ecoli_1to3_03-recalibrated'),\n",
       " (17, '190719_Hela_Ecoli_1to1_01-recalibrated'),\n",
       " (18, '190719_Hela_Ecoli_1to1_05-recalibrated'),\n",
       " (19, '190719_Hela_Ecoli_1to3_02-recalibrated')]"
      ]
     },
     "execution_count": 13,
     "metadata": {},
     "output_type": "execute_result"
    }
   ],
   "source": [
    "mapping"
   ]
  },
  {
   "cell_type": "code",
   "execution_count": 19,
   "metadata": {},
   "outputs": [
    {
     "data": {
      "text/plain": [
       "12"
      ]
     },
     "execution_count": 19,
     "metadata": {},
     "output_type": "execute_result"
    }
   ],
   "source": [
    "[m[0] for m in mapping if m[1] == '190719_Hela_Ecoli_1to1_04-recalibrated'][0]"
   ]
  },
  {
   "cell_type": "code",
   "execution_count": 11,
   "metadata": {},
   "outputs": [],
   "source": [
    "# combine the features detected across the whole experiment into a single dataframe\n",
    "df_l = []\n",
    "for m in mapping:\n",
    "    idx = m[0]\n",
    "    filename = m[1]\n",
    "    df = pd.read_pickle(FEATURE_FILE.format(filename))\n",
    "    df['percolator_idx'] = idx\n",
    "    df['batch'] = filename.split('_')[3]\n",
    "    df_l.append(df)\n",
    "# make a single df from the list of dfs\n",
    "features_df = pd.concat(df_l, axis=0, sort=False)"
   ]
  },
  {
   "cell_type": "code",
   "execution_count": 12,
   "metadata": {},
   "outputs": [
    {
     "data": {
      "text/plain": [
       "Index(['feature_id', 'charge', 'rt_apex', 'rt_peak_width', 'scan_apex',\n",
       "       'scan_peak_width', 'intensity', 'precursor_id', 'monoisotopic_mass',\n",
       "       'predicted_mass_error', 'recalibrated_monoisotopic_mass',\n",
       "       'recalibrated_monoisotopic_mz', 'percolator_idx', 'batch'],\n",
       "      dtype='object')"
      ]
     },
     "execution_count": 12,
     "metadata": {},
     "output_type": "execute_result"
    }
   ],
   "source": [
    "features_df.columns"
   ]
  },
  {
   "cell_type": "code",
   "execution_count": 13,
   "metadata": {},
   "outputs": [
    {
     "data": {
      "text/plain": [
       "149261"
      ]
     },
     "execution_count": 13,
     "metadata": {},
     "output_type": "execute_result"
    }
   ],
   "source": [
    "len(features_df[features_df.percolator_idx == 0])"
   ]
  },
  {
   "cell_type": "code",
   "execution_count": 14,
   "metadata": {},
   "outputs": [],
   "source": [
    "# merge the features with the experiment-wide percolator identifications\n",
    "percolator_df = pd.merge(psms_df, features_df, how='left', left_on=['file_idx','scan'], right_on=['percolator_idx','feature_id'])\n",
    "percolator_df['human'] = percolator_df['protein id'].str.contains('HUMAN')"
   ]
  },
  {
   "cell_type": "code",
   "execution_count": 15,
   "metadata": {},
   "outputs": [
    {
     "data": {
      "text/plain": [
       "575632"
      ]
     },
     "execution_count": 15,
     "metadata": {},
     "output_type": "execute_result"
    }
   ],
   "source": [
    "len(percolator_df)"
   ]
  },
  {
   "cell_type": "markdown",
   "metadata": {},
   "source": [
    "percolator_df contains all the sequence-charge identifications across the experiment and the detected feature for each."
   ]
  },
  {
   "cell_type": "code",
   "execution_count": 16,
   "metadata": {},
   "outputs": [],
   "source": [
    "percolator_df.to_pickle('/Users/darylwilding-mcbride/Downloads/percolator_df.pkl')"
   ]
  },
  {
   "cell_type": "code",
   "execution_count": 17,
   "metadata": {},
   "outputs": [],
   "source": [
    "pd.DataFrame(mapping, columns=['file_idx','run_name']).to_pickle('/Users/darylwilding-mcbride/Downloads/percolator_mapping_df.pkl')"
   ]
  }
 ],
 "metadata": {
  "kernelspec": {
   "display_name": "Python 3",
   "language": "python",
   "name": "python3"
  },
  "language_info": {
   "codemirror_mode": {
    "name": "ipython",
    "version": 3
   },
   "file_extension": ".py",
   "mimetype": "text/x-python",
   "name": "python",
   "nbconvert_exporter": "python",
   "pygments_lexer": "ipython3",
   "version": "3.6.8"
  }
 },
 "nbformat": 4,
 "nbformat_minor": 2
}
