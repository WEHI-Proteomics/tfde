{
 "cells": [
  {
   "cell_type": "code",
   "execution_count": 37,
   "metadata": {},
   "outputs": [],
   "source": [
    "import pandas as pd\n",
    "import numpy as np\n",
    "from matplotlib import colors, cm, text, pyplot as plt\n",
    "import matplotlib.patches as patches\n",
    "import sqlite3\n",
    "from cmcrameri import cm\n",
    "from os.path import expanduser"
   ]
  },
  {
   "cell_type": "code",
   "execution_count": 14,
   "metadata": {},
   "outputs": [],
   "source": [
    "from sklearn.cluster import DBSCAN"
   ]
  },
  {
   "cell_type": "code",
   "execution_count": 15,
   "metadata": {},
   "outputs": [],
   "source": [
    "import peakutils\n",
    "from scipy import signal\n",
    "import math\n",
    "import os"
   ]
  },
  {
   "cell_type": "code",
   "execution_count": 16,
   "metadata": {},
   "outputs": [],
   "source": [
    "# define a straight line to exclude the charge-1 cloud\n",
    "def scan_coords_for_single_charge_region(mz_lower, mz_upper):\n",
    "    scan_for_mz_lower = -1 * ((1.2 * mz_lower) - 1252)\n",
    "    scan_for_mz_upper = -1 * ((1.2 * mz_upper) - 1252)\n",
    "    return (scan_for_mz_lower,scan_for_mz_upper)"
   ]
  },
  {
   "cell_type": "code",
   "execution_count": 17,
   "metadata": {},
   "outputs": [],
   "source": [
    "# determine the maximum filter length for the number of points\n",
    "def find_filter_length(number_of_points):\n",
    "    filter_lengths = [51,11,5]  # must be a positive odd number, greater than the polynomial order, and less than the number of points to be filtered\n",
    "    return filter_lengths[next(x[0] for x in enumerate(filter_lengths) if x[1] < number_of_points)]"
   ]
  },
  {
   "cell_type": "code",
   "execution_count": 27,
   "metadata": {},
   "outputs": [],
   "source": [
    "EXPERIMENT_NAME = 'P3856'\n",
    "EXPERIMENT_DIR = '/media/big-ssd/experiments/{}'.format(EXPERIMENT_NAME)\n",
    "RUN_NAME = 'P3856_YHE211_1_Slot1-1_1_5104'"
   ]
  },
  {
   "cell_type": "code",
   "execution_count": 28,
   "metadata": {},
   "outputs": [],
   "source": [
    "MZ_MIN = 760\n",
    "MZ_MAX = 766"
   ]
  },
  {
   "cell_type": "code",
   "execution_count": 29,
   "metadata": {},
   "outputs": [],
   "source": [
    "charge_one_scan_max = max(scan_coords_for_single_charge_region(mz_lower=MZ_MIN, mz_upper=MZ_MAX))"
   ]
  },
  {
   "cell_type": "code",
   "execution_count": 63,
   "metadata": {},
   "outputs": [],
   "source": [
    "# constrain the data to re-run the same feature for debugging\n",
    "MZ_MIN_DEBUG, MZ_MAX_DEBUG = (1037, 1041)\n",
    "SCAN_MIN_DEBUG, SCAN_MAX_DEBUG = (250, 350)\n",
    "RT_LOWER_DEBUG, RT_UPPER_DEBUG = (2010, 2020)"
   ]
  },
  {
   "cell_type": "code",
   "execution_count": 64,
   "metadata": {},
   "outputs": [],
   "source": [
    "PROCESSED_INTENSITY_INDICATOR = -1\n",
    "INTENSITY_THRESHOLD = 50"
   ]
  },
  {
   "cell_type": "code",
   "execution_count": 65,
   "metadata": {},
   "outputs": [],
   "source": [
    "# frame types for PASEF mode\n",
    "FRAME_TYPE_MS1 = 0\n",
    "FRAME_TYPE_MS2 = 8"
   ]
  },
  {
   "cell_type": "code",
   "execution_count": 66,
   "metadata": {},
   "outputs": [],
   "source": [
    "# filter and peak detection parameters\n",
    "VALLEYS_THRESHOLD_RT = 0.5    # only consider valleys that drop more than this proportion of the normalised maximum\n",
    "VALLEYS_THRESHOLD_SCAN = 0.5\n",
    "\n",
    "VALLEYS_MIN_DIST_RT = 2.0     # seconds\n",
    "VALLEYS_MIN_DIST_SCAN = 10.0  # scans\n",
    "\n",
    "SCAN_FILTER_POLY_ORDER = 3\n",
    "RT_FILTER_POLY_ORDER = 3"
   ]
  },
  {
   "cell_type": "code",
   "execution_count": 67,
   "metadata": {},
   "outputs": [],
   "source": [
    "converted_db_name = '{}/converted-databases/exp-{}-run-{}-converted.sqlite'.format(EXPERIMENT_DIR, EXPERIMENT_NAME, RUN_NAME)"
   ]
  },
  {
   "cell_type": "code",
   "execution_count": 124,
   "metadata": {},
   "outputs": [],
   "source": [
    "db_conn = sqlite3.connect(converted_db_name)\n",
    "raw_df = pd.read_sql_query(\"select * from frames where frame_type == {} and mz >= {} and mz <= {} and scan >= {} and scan <= {} and retention_time_secs >= {} and retention_time_secs <= {} and intensity >= {}\".format(FRAME_TYPE_MS1, MZ_MIN_DEBUG, MZ_MAX_DEBUG, SCAN_MIN_DEBUG, SCAN_MAX_DEBUG, RT_LOWER_DEBUG, RT_UPPER_DEBUG, INTENSITY_THRESHOLD), db_conn)\n",
    "db_conn.close()"
   ]
  },
  {
   "cell_type": "code",
   "execution_count": 125,
   "metadata": {},
   "outputs": [],
   "source": [
    "# assign each point a unique identifier\n",
    "raw_df['point_id'] = raw_df.index"
   ]
  },
  {
   "cell_type": "code",
   "execution_count": 126,
   "metadata": {},
   "outputs": [],
   "source": [
    "CUBOIDS_FILE = '{}/precursor-cuboids-debug.pkl'.format(expanduser('~'))\n",
    "precursor_cuboids_l = []\n",
    "# remove the cuboids file\n",
    "if os.path.isfile(CUBOIDS_FILE):\n",
    "    os.remove(CUBOIDS_FILE)\n",
    "# a unique id for each precursor cuboid\n",
    "precursor_cuboid_id = 1"
   ]
  },
  {
   "cell_type": "markdown",
   "metadata": {},
   "source": [
    "#### repeat from here"
   ]
  },
  {
   "cell_type": "code",
   "execution_count": 127,
   "metadata": {},
   "outputs": [
    {
     "data": {
      "text/plain": [
       "frame_id               18082.000000\n",
       "frame_type                 0.000000\n",
       "mz                      1040.504700\n",
       "scan                     281.000000\n",
       "intensity                166.000000\n",
       "retention_time_secs     2017.747258\n",
       "point_id                1431.000000\n",
       "Name: 1431, dtype: float64"
      ]
     },
     "execution_count": 127,
     "metadata": {},
     "output_type": "execute_result"
    }
   ],
   "source": [
    "# find the most intense point\n",
    "anchor_point_s = raw_df.loc[raw_df.intensity.idxmax()]\n",
    "anchor_point_s"
   ]
  },
  {
   "cell_type": "code",
   "execution_count": 72,
   "metadata": {},
   "outputs": [],
   "source": [
    "mz_lower = anchor_point_s.mz - 1.0\n",
    "mz_upper = anchor_point_s.mz + 7.0\n",
    "scan_lower = anchor_point_s.scan - 100\n",
    "scan_upper = anchor_point_s.scan + 100"
   ]
  },
  {
   "cell_type": "code",
   "execution_count": 73,
   "metadata": {},
   "outputs": [],
   "source": [
    "candidate_region_df = raw_df[(raw_df.frame_id == anchor_point_s.frame_id) & (raw_df.mz >= mz_lower) & (raw_df.mz <= mz_upper) & (raw_df.scan >= scan_lower) & (raw_df.scan <= scan_upper)].copy()\n"
   ]
  },
  {
   "cell_type": "code",
   "execution_count": 74,
   "metadata": {},
   "outputs": [],
   "source": [
    "MS1_PEAK_DELTA = 0.1"
   ]
  },
  {
   "cell_type": "code",
   "execution_count": 75,
   "metadata": {},
   "outputs": [],
   "source": [
    "peak_mz_lower = anchor_point_s.mz-MS1_PEAK_DELTA\n",
    "peak_mz_upper = anchor_point_s.mz+MS1_PEAK_DELTA"
   ]
  },
  {
   "cell_type": "code",
   "execution_count": 76,
   "metadata": {},
   "outputs": [],
   "source": [
    "minimum_pixel_intensity = 50\n",
    "maximum_pixel_intensity = 500"
   ]
  },
  {
   "cell_type": "code",
   "execution_count": 77,
   "metadata": {},
   "outputs": [],
   "source": [
    "# create the colour map to convert intensity to colour\n",
    "colour_map = cm.batlow_r\n",
    "norm = colors.LogNorm(vmin=minimum_pixel_intensity, vmax=maximum_pixel_intensity, clip=True)"
   ]
  },
  {
   "cell_type": "code",
   "execution_count": 78,
   "metadata": {},
   "outputs": [
    {
     "data": {
      "image/png": "[encoded data removed]",
      "text/plain": [
       "<Figure size 1080x1080 with 1 Axes>"
      ]
     },
     "metadata": {
      "needs_background": "light"
     },
     "output_type": "display_data"
    }
   ],
   "source": [
    "# plot the cluster assignments\n",
    "f, ax1 = plt.subplots()\n",
    "f.set_figheight(15)\n",
    "f.set_figwidth(15)\n",
    "\n",
    "plt.margins(0.06)\n",
    "\n",
    "plt.scatter(candidate_region_df.mz, candidate_region_df.scan, c=candidate_region_df.intensity, cmap=colour_map, norm=norm)\n",
    "plt.plot(anchor_point_s.mz, anchor_point_s.scan, marker='x', markerfacecolor='none', markeredgecolor='red', linestyle='', markeredgewidth=5, ms=25, label='anchor point')\n",
    "\n",
    "plt.axvline(x=peak_mz_lower, linestyle=':', color='orange', linewidth=2)\n",
    "plt.axvline(x=peak_mz_upper, linestyle=':', color='orange', linewidth=2)\n",
    "\n",
    "nearest = 0.5\n",
    "range_l = round(candidate_region_df.mz.min() / nearest) * nearest\n",
    "range_u = round(candidate_region_df.mz.max() / nearest) * nearest\n",
    "plt.xticks(np.arange(range_l,range_u+nearest,nearest))\n",
    "\n",
    "nearest = 10.0\n",
    "range_l = round(candidate_region_df.scan.min() / nearest) * nearest\n",
    "range_u = round(candidate_region_df.scan.max() / nearest) * nearest\n",
    "plt.yticks(np.arange(range_l,range_u+nearest,nearest))\n",
    "\n",
    "plt.xlabel(\"m/z\")\n",
    "plt.ylabel(\"scan\")\n",
    "plt.gca().invert_yaxis()\n",
    "plt.show()"
   ]
  },
  {
   "cell_type": "code",
   "execution_count": 79,
   "metadata": {},
   "outputs": [],
   "source": [
    "peak_df = candidate_region_df[(candidate_region_df.mz >= peak_mz_lower) & (candidate_region_df.mz <= peak_mz_upper)]"
   ]
  },
  {
   "cell_type": "code",
   "execution_count": 80,
   "metadata": {},
   "outputs": [
    {
     "data": {
      "image/png": "[encoded data removed]",
      "text/plain": [
       "<Figure size 1080x576 with 1 Axes>"
      ]
     },
     "metadata": {
      "needs_background": "light"
     },
     "output_type": "display_data"
    }
   ],
   "source": [
    "# plot the cluster assignments\n",
    "f, ax1 = plt.subplots()\n",
    "f.set_figheight(8)\n",
    "f.set_figwidth(15)\n",
    "\n",
    "plt.margins(0.06)\n",
    "\n",
    "plt.scatter(peak_df.scan, peak_df.intensity)\n",
    "plt.plot(anchor_point_s.scan, anchor_point_s.intensity, marker='o', markerfacecolor='none', markeredgecolor='red', linestyle='', markeredgewidth=2, ms=15, label='anchor point')\n",
    "\n",
    "plt.xlabel(\"scan\")\n",
    "plt.ylabel(\"intensity\")\n",
    "plt.show()"
   ]
  },
  {
   "cell_type": "code",
   "execution_count": 81,
   "metadata": {},
   "outputs": [],
   "source": [
    "scan_0_df = peak_df.groupby(['scan'], as_index=False).intensity.sum()\n",
    "scan_0_df.sort_values(by=['scan'], ascending=True, inplace=True)\n",
    "# filter the points\n",
    "scan_0_df['filtered_intensity'] = scan_0_df.intensity  # set the default\n",
    "window_length = 21\n",
    "if len(scan_0_df) > window_length:\n",
    "    try:\n",
    "        scan_0_df['filtered_intensity'] = signal.savgol_filter(scan_0_df.intensity, window_length=find_filter_length(number_of_points=len(scan_0_df)), polyorder=SCAN_FILTER_POLY_ORDER)\n",
    "        filtered = True\n",
    "    except:\n",
    "        filtered = False\n",
    "else:\n",
    "    filtered = False"
   ]
  },
  {
   "cell_type": "code",
   "execution_count": 82,
   "metadata": {
    "scrolled": true
   },
   "outputs": [
    {
     "data": {
      "text/plain": [
       "True"
      ]
     },
     "execution_count": 82,
     "metadata": {},
     "output_type": "execute_result"
    }
   ],
   "source": [
    "filtered"
   ]
  },
  {
   "cell_type": "code",
   "execution_count": 83,
   "metadata": {},
   "outputs": [],
   "source": [
    "# find the valleys nearest the anchor point\n",
    "valley_idxs = peakutils.indexes(-scan_0_df.filtered_intensity.values, thres=VALLEYS_THRESHOLD_SCAN, min_dist=VALLEYS_MIN_DIST_SCAN, thres_abs=False)\n",
    "valley_x_l = scan_0_df.iloc[valley_idxs].scan.to_list()\n",
    "valleys_df = scan_0_df[scan_0_df.scan.isin(valley_x_l)]\n",
    "\n",
    "upper_x = valleys_df[valleys_df.scan > anchor_point_s.scan].scan.min()\n",
    "if math.isnan(upper_x):\n",
    "    upper_x = scan_0_df.scan.max()\n",
    "lower_x = valleys_df[valleys_df.scan < anchor_point_s.scan].scan.max()\n",
    "if math.isnan(lower_x):\n",
    "    lower_x = scan_0_df.scan.min()\n",
    "\n",
    "scan_lower = lower_x\n",
    "scan_upper = upper_x"
   ]
  },
  {
   "cell_type": "code",
   "execution_count": 84,
   "metadata": {},
   "outputs": [
    {
     "data": {
      "text/html": [
       "<div>\n",
       "<style scoped>\n",
       "    .dataframe tbody tr th:only-of-type {\n",
       "        vertical-align: middle;\n",
       "    }\n",
       "\n",
       "    .dataframe tbody tr th {\n",
       "        vertical-align: top;\n",
       "    }\n",
       "\n",
       "    .dataframe thead th {\n",
       "        text-align: right;\n",
       "    }\n",
       "</style>\n",
       "<table border=\"1\" class=\"dataframe\">\n",
       "  <thead>\n",
       "    <tr style=\"text-align: right;\">\n",
       "      <th></th>\n",
       "      <th>scan</th>\n",
       "      <th>intensity</th>\n",
       "      <th>filtered_intensity</th>\n",
       "    </tr>\n",
       "  </thead>\n",
       "  <tbody>\n",
       "    <tr>\n",
       "      <th>5</th>\n",
       "      <td>258</td>\n",
       "      <td>79</td>\n",
       "      <td>70.337995</td>\n",
       "    </tr>\n",
       "    <tr>\n",
       "      <th>20</th>\n",
       "      <td>349</td>\n",
       "      <td>51</td>\n",
       "      <td>61.566434</td>\n",
       "    </tr>\n",
       "  </tbody>\n",
       "</table>\n",
       "</div>"
      ],
      "text/plain": [
       "    scan  intensity  filtered_intensity\n",
       "5    258         79           70.337995\n",
       "20   349         51           61.566434"
      ]
     },
     "execution_count": 84,
     "metadata": {},
     "output_type": "execute_result"
    }
   ],
   "source": [
    "valleys_df"
   ]
  },
  {
   "cell_type": "code",
   "execution_count": 85,
   "metadata": {},
   "outputs": [],
   "source": [
    "scan_0_extract_df = scan_0_df[(scan_0_df.scan >= lower_x) & (scan_0_df.scan <= upper_x)]"
   ]
  },
  {
   "cell_type": "code",
   "execution_count": 86,
   "metadata": {},
   "outputs": [
    {
     "data": {
      "image/png": "[encoded data removed]",
      "text/plain": [
       "<Figure size 1080x576 with 1 Axes>"
      ]
     },
     "metadata": {
      "needs_background": "light"
     },
     "output_type": "display_data"
    }
   ],
   "source": [
    "f, ax1 = plt.subplots()\n",
    "f.set_figheight(8)\n",
    "f.set_figwidth(15)\n",
    "\n",
    "plt.margins(0.06)\n",
    "\n",
    "# plot the flattened points\n",
    "plt.scatter(scan_0_df.scan, scan_0_df.intensity, c='silver')\n",
    "# plot the smoothed points\n",
    "plt.plot(scan_0_df.scan, scan_0_df.filtered_intensity, marker='', color='lightskyblue', linestyle='--', linewidth=1, ms=5, label='smoothed')\n",
    "plt.plot(scan_0_extract_df.scan, scan_0_extract_df.filtered_intensity, marker='', color='lightskyblue', linestyle=':', linewidth=3, ms=5, label='extracted')\n",
    "\n",
    "plt.plot(valleys_df.scan, valleys_df.filtered_intensity, marker='v', color='lightcoral', linestyle=None, linewidth=0, ms=15, label='valleys')\n",
    "plt.plot(anchor_point_s.scan, anchor_point_s.intensity, marker='o', markerfacecolor='none', markeredgecolor='red', linestyle='', markeredgewidth=2, ms=15, label='anchor point')\n",
    "\n",
    "plt.xlabel(\"scan\")\n",
    "plt.ylabel(\"intensity\")\n",
    "plt.show()"
   ]
  },
  {
   "cell_type": "markdown",
   "metadata": {},
   "source": [
    "#### trim the candidate region to account for the selected peak in mobility"
   ]
  },
  {
   "cell_type": "code",
   "execution_count": 87,
   "metadata": {},
   "outputs": [],
   "source": [
    "candidate_region_df = candidate_region_df[(candidate_region_df.scan >= lower_x) & (candidate_region_df.scan <= upper_x)]"
   ]
  },
  {
   "cell_type": "markdown",
   "metadata": {},
   "source": [
    "#### segment the raw data to reveal the isotopes in the feature"
   ]
  },
  {
   "cell_type": "code",
   "execution_count": 88,
   "metadata": {},
   "outputs": [],
   "source": [
    "X = candidate_region_df[['mz','scan']].values"
   ]
  },
  {
   "cell_type": "code",
   "execution_count": 89,
   "metadata": {},
   "outputs": [],
   "source": [
    "# a distance metric for points within an isotope\n",
    "def point_metric(r1, r2):\n",
    "    mz_1 = r1[0]\n",
    "    scan_1 = r1[1]\n",
    "    mz_2 = r2[0]\n",
    "    scan_2 = r2[1]\n",
    "    if (abs(mz_1 - mz_2) <= 0.1) and (abs(scan_1 - scan_2) <= 5):\n",
    "        result = 0.5\n",
    "    else:\n",
    "        result = 10\n",
    "    return result"
   ]
  },
  {
   "cell_type": "code",
   "execution_count": 90,
   "metadata": {},
   "outputs": [],
   "source": [
    "# cluster the data\n",
    "dbscan = DBSCAN(eps=1, min_samples=3, metric=point_metric)\n",
    "clusters = dbscan.fit_predict(X)"
   ]
  },
  {
   "cell_type": "code",
   "execution_count": 91,
   "metadata": {},
   "outputs": [],
   "source": [
    "candidate_region_df['cluster'] = clusters"
   ]
  },
  {
   "cell_type": "code",
   "execution_count": 92,
   "metadata": {},
   "outputs": [
    {
     "data": {
      "text/html": [
       "<div>\n",
       "<style scoped>\n",
       "    .dataframe tbody tr th:only-of-type {\n",
       "        vertical-align: middle;\n",
       "    }\n",
       "\n",
       "    .dataframe tbody tr th {\n",
       "        vertical-align: top;\n",
       "    }\n",
       "\n",
       "    .dataframe thead th {\n",
       "        text-align: right;\n",
       "    }\n",
       "</style>\n",
       "<table border=\"1\" class=\"dataframe\">\n",
       "  <thead>\n",
       "    <tr style=\"text-align: right;\">\n",
       "      <th></th>\n",
       "      <th>frame_id</th>\n",
       "      <th>frame_type</th>\n",
       "      <th>mz</th>\n",
       "      <th>scan</th>\n",
       "      <th>intensity</th>\n",
       "      <th>retention_time_secs</th>\n",
       "      <th>point_id</th>\n",
       "      <th>cluster</th>\n",
       "    </tr>\n",
       "  </thead>\n",
       "  <tbody>\n",
       "    <tr>\n",
       "      <th>1484</th>\n",
       "      <td>18082</td>\n",
       "      <td>0</td>\n",
       "      <td>1040.337767</td>\n",
       "      <td>317</td>\n",
       "      <td>60</td>\n",
       "      <td>2017.747258</td>\n",
       "      <td>1484</td>\n",
       "      <td>-1</td>\n",
       "    </tr>\n",
       "    <tr>\n",
       "      <th>1438</th>\n",
       "      <td>18082</td>\n",
       "      <td>0</td>\n",
       "      <td>1039.968538</td>\n",
       "      <td>283</td>\n",
       "      <td>55</td>\n",
       "      <td>2017.747258</td>\n",
       "      <td>1438</td>\n",
       "      <td>3</td>\n",
       "    </tr>\n",
       "    <tr>\n",
       "      <th>1413</th>\n",
       "      <td>18082</td>\n",
       "      <td>0</td>\n",
       "      <td>1040.019114</td>\n",
       "      <td>272</td>\n",
       "      <td>57</td>\n",
       "      <td>2017.747258</td>\n",
       "      <td>1413</td>\n",
       "      <td>3</td>\n",
       "    </tr>\n",
       "    <tr>\n",
       "      <th>1384</th>\n",
       "      <td>18082</td>\n",
       "      <td>0</td>\n",
       "      <td>1040.519877</td>\n",
       "      <td>258</td>\n",
       "      <td>79</td>\n",
       "      <td>2017.747258</td>\n",
       "      <td>1384</td>\n",
       "      <td>0</td>\n",
       "    </tr>\n",
       "    <tr>\n",
       "      <th>1397</th>\n",
       "      <td>18082</td>\n",
       "      <td>0</td>\n",
       "      <td>1040.934741</td>\n",
       "      <td>265</td>\n",
       "      <td>57</td>\n",
       "      <td>2017.747258</td>\n",
       "      <td>1397</td>\n",
       "      <td>2</td>\n",
       "    </tr>\n",
       "  </tbody>\n",
       "</table>\n",
       "</div>"
      ],
      "text/plain": [
       "      frame_id  frame_type           mz  scan  intensity  retention_time_secs  \\\n",
       "1484     18082           0  1040.337767   317         60          2017.747258   \n",
       "1438     18082           0  1039.968538   283         55          2017.747258   \n",
       "1413     18082           0  1040.019114   272         57          2017.747258   \n",
       "1384     18082           0  1040.519877   258         79          2017.747258   \n",
       "1397     18082           0  1040.934741   265         57          2017.747258   \n",
       "\n",
       "      point_id  cluster  \n",
       "1484      1484       -1  \n",
       "1438      1438        3  \n",
       "1413      1413        3  \n",
       "1384      1384        0  \n",
       "1397      1397        2  "
      ]
     },
     "execution_count": 92,
     "metadata": {},
     "output_type": "execute_result"
    }
   ],
   "source": [
    "candidate_region_df.sample(n=5)"
   ]
  },
  {
   "cell_type": "code",
   "execution_count": 93,
   "metadata": {},
   "outputs": [
    {
     "name": "stdout",
     "output_type": "stream",
     "text": [
      "found 7 point clusters\n"
     ]
    }
   ],
   "source": [
    "number_of_point_clusters = len(candidate_region_df[candidate_region_df.cluster >= 0].cluster.unique())\n",
    "print('found {} point clusters'.format(number_of_point_clusters))"
   ]
  },
  {
   "cell_type": "code",
   "execution_count": 94,
   "metadata": {},
   "outputs": [],
   "source": [
    "colour_map = plt.get_cmap('gist_ncar')\n",
    "norm = colors.Normalize(vmin=candidate_region_df.cluster.min(), vmax=candidate_region_df.cluster.max(), clip=False)"
   ]
  },
  {
   "cell_type": "code",
   "execution_count": 95,
   "metadata": {},
   "outputs": [],
   "source": [
    "# collect the points that are in the same point cluster as the anchor point\n",
    "anchor_point_cluster = candidate_region_df[candidate_region_df.point_id == anchor_point_s.point_id].iloc[0].cluster\n",
    "anchor_point_cluster_points_df = candidate_region_df[candidate_region_df.cluster == anchor_point_cluster]"
   ]
  },
  {
   "cell_type": "code",
   "execution_count": 96,
   "metadata": {},
   "outputs": [],
   "source": [
    "# calculate the cluster centroids\n",
    "centroids_l = []\n",
    "for group_name,group_df in candidate_region_df.groupby(['cluster'], as_index=False):\n",
    "    if group_name >= 0:\n",
    "        mz_centroid = peakutils.centroid(group_df.mz, group_df.intensity)\n",
    "        scan_centroid = peakutils.centroid(group_df.scan, group_df.intensity)\n",
    "        centroids_l.append((group_name, mz_centroid, scan_centroid))\n",
    "centroids_df = pd.DataFrame(centroids_l, columns=['cluster','mz','scan'])"
   ]
  },
  {
   "cell_type": "code",
   "execution_count": 97,
   "metadata": {},
   "outputs": [],
   "source": [
    "# determine a colour for each cluster\n",
    "cluster_colour_l = []\n",
    "for group_name,group_df in candidate_region_df.groupby(['cluster'], as_index=False):\n",
    "    c = colour_map(norm(group_name), bytes=False)[:3]\n",
    "    cluster_colour_l.append((group_name, c))\n",
    "cluster_colour_df = pd.DataFrame(cluster_colour_l, columns=['cluster','colour'])"
   ]
  },
  {
   "cell_type": "code",
   "execution_count": 98,
   "metadata": {},
   "outputs": [],
   "source": [
    "# give each point a colour\n",
    "candidate_region_df = pd.merge(candidate_region_df, cluster_colour_df, how='left', left_on=['cluster'], right_on=['cluster'])\n"
   ]
  },
  {
   "cell_type": "code",
   "execution_count": 99,
   "metadata": {},
   "outputs": [
    {
     "data": {
      "text/html": [
       "<div>\n",
       "<style scoped>\n",
       "    .dataframe tbody tr th:only-of-type {\n",
       "        vertical-align: middle;\n",
       "    }\n",
       "\n",
       "    .dataframe tbody tr th {\n",
       "        vertical-align: top;\n",
       "    }\n",
       "\n",
       "    .dataframe thead th {\n",
       "        text-align: right;\n",
       "    }\n",
       "</style>\n",
       "<table border=\"1\" class=\"dataframe\">\n",
       "  <thead>\n",
       "    <tr style=\"text-align: right;\">\n",
       "      <th></th>\n",
       "      <th>frame_id</th>\n",
       "      <th>frame_type</th>\n",
       "      <th>mz</th>\n",
       "      <th>scan</th>\n",
       "      <th>intensity</th>\n",
       "      <th>retention_time_secs</th>\n",
       "      <th>point_id</th>\n",
       "      <th>cluster</th>\n",
       "      <th>colour</th>\n",
       "    </tr>\n",
       "  </thead>\n",
       "  <tbody>\n",
       "    <tr>\n",
       "      <th>19</th>\n",
       "      <td>18082</td>\n",
       "      <td>0</td>\n",
       "      <td>1040.019114</td>\n",
       "      <td>272</td>\n",
       "      <td>57</td>\n",
       "      <td>2017.747258</td>\n",
       "      <td>1413</td>\n",
       "      <td>3</td>\n",
       "      <td>(1.0, 0.8743443122968675, 0.0)</td>\n",
       "    </tr>\n",
       "    <tr>\n",
       "      <th>36</th>\n",
       "      <td>18082</td>\n",
       "      <td>0</td>\n",
       "      <td>1039.781420</td>\n",
       "      <td>284</td>\n",
       "      <td>67</td>\n",
       "      <td>2017.747258</td>\n",
       "      <td>1441</td>\n",
       "      <td>-1</td>\n",
       "      <td>(0.0, 0.0, 0.502)</td>\n",
       "    </tr>\n",
       "    <tr>\n",
       "      <th>7</th>\n",
       "      <td>18082</td>\n",
       "      <td>0</td>\n",
       "      <td>1040.423761</td>\n",
       "      <td>265</td>\n",
       "      <td>55</td>\n",
       "      <td>2017.747258</td>\n",
       "      <td>1395</td>\n",
       "      <td>0</td>\n",
       "      <td>(0.0, 0.4981591003460206, 1.0)</td>\n",
       "    </tr>\n",
       "  </tbody>\n",
       "</table>\n",
       "</div>"
      ],
      "text/plain": [
       "    frame_id  frame_type           mz  scan  intensity  retention_time_secs  \\\n",
       "19     18082           0  1040.019114   272         57          2017.747258   \n",
       "36     18082           0  1039.781420   284         67          2017.747258   \n",
       "7      18082           0  1040.423761   265         55          2017.747258   \n",
       "\n",
       "    point_id  cluster                          colour  \n",
       "19      1413        3  (1.0, 0.8743443122968675, 0.0)  \n",
       "36      1441       -1               (0.0, 0.0, 0.502)  \n",
       "7       1395        0  (0.0, 0.4981591003460206, 1.0)  "
      ]
     },
     "execution_count": 99,
     "metadata": {},
     "output_type": "execute_result"
    }
   ],
   "source": [
    "candidate_region_df.sample(n=3)"
   ]
  },
  {
   "cell_type": "code",
   "execution_count": 100,
   "metadata": {},
   "outputs": [
    {
     "data": {
      "image/png": "[encoded data removed]",
      "text/plain": [
       "<Figure size 1080x1080 with 1 Axes>"
      ]
     },
     "metadata": {
      "needs_background": "light"
     },
     "output_type": "display_data"
    }
   ],
   "source": [
    "# plot the cluster assignments\n",
    "f, ax1 = plt.subplots()\n",
    "f.set_figheight(15)\n",
    "f.set_figwidth(15)\n",
    "\n",
    "plt.margins(0.06)\n",
    "\n",
    "# plot the unassigned points\n",
    "df = candidate_region_df[(candidate_region_df.cluster == -1)]\n",
    "plt.scatter(df.mz, df.scan, c='silver')\n",
    "\n",
    "df = candidate_region_df[(candidate_region_df.cluster >= 0)]\n",
    "for group_name,group_df in df.groupby(['cluster'], as_index=False):\n",
    "    # the raw points\n",
    "    plt.scatter(group_df.mz, group_df.scan, c=np.array([group_df.iloc[0].colour]))\n",
    "    # the cluster centroid\n",
    "    centroid_s = centroids_df[(centroids_df.cluster == group_name)].iloc[0]\n",
    "    plt.plot(centroid_s.mz, centroid_s.scan, marker='o', markerfacecolor='none', markeredgecolor='red', linestyle='', markeredgewidth=2, ms=15)\n",
    "    ax1.text(centroid_s.mz+0.1, centroid_s.scan, group_name, fontsize=12)\n",
    "    # draw the cluster rectangle\n",
    "    top_left = (group_df.mz.min(),group_df.scan.min())\n",
    "    width = group_df.mz.max() - group_df.mz.min()\n",
    "    height = group_df.scan.max() - group_df.scan.min()\n",
    "    cluster_rect = patches.Rectangle(top_left,width,height,linewidth=1.5,linestyle='--',edgecolor='silver',facecolor='none')\n",
    "    ax1.add_patch(cluster_rect)\n",
    "\n",
    "# the anchor point for this candidate region\n",
    "plt.plot(anchor_point_s.mz, anchor_point_s.scan, marker='x', markerfacecolor='none', markeredgecolor='limegreen', linestyle='', markeredgewidth=5, ms=15, label='anchor point')\n",
    "\n",
    "plt.xlabel(\"m/z\")\n",
    "plt.ylabel(\"scan\")\n",
    "plt.gca().invert_yaxis()\n",
    "plt.show()"
   ]
  },
  {
   "cell_type": "code",
   "execution_count": 101,
   "metadata": {},
   "outputs": [],
   "source": [
    "# a distance metric for isotopes within a series\n",
    "def isotope_metric(r1, r2):\n",
    "    mz_1 = r1[0]\n",
    "    scan_1 = r1[1]\n",
    "    mz_2 = r2[0]\n",
    "    scan_2 = r2[1]\n",
    "    if (abs(mz_1 - mz_2) <= 0.8) and (abs(mz_1 - mz_2) > 0.1) and (abs(scan_1 - scan_2) <= 10):\n",
    "        result = 0.5\n",
    "    else:\n",
    "        result = 10\n",
    "    # print('r1={}, r2={}, result={}'.format(r1,r2,result))\n",
    "    return result"
   ]
  },
  {
   "cell_type": "code",
   "execution_count": 102,
   "metadata": {},
   "outputs": [],
   "source": [
    "X = centroids_df[['mz','scan']].values"
   ]
  },
  {
   "cell_type": "code",
   "execution_count": 103,
   "metadata": {
    "scrolled": false
   },
   "outputs": [],
   "source": [
    "# cluster the data\n",
    "dbscan = DBSCAN(eps=1, min_samples=2, metric=isotope_metric)\n",
    "clusters = dbscan.fit_predict(X)\n",
    "centroids_df['isotope_cluster'] = clusters"
   ]
  },
  {
   "cell_type": "code",
   "execution_count": 104,
   "metadata": {},
   "outputs": [
    {
     "name": "stdout",
     "output_type": "stream",
     "text": [
      "found 1 isotope clusters\n"
     ]
    }
   ],
   "source": [
    "number_of_isotope_clusters = len(centroids_df[centroids_df.isotope_cluster >= 0].isotope_cluster.unique())\n",
    "print('found {} isotope clusters'.format(number_of_isotope_clusters))"
   ]
  },
  {
   "cell_type": "code",
   "execution_count": 105,
   "metadata": {},
   "outputs": [],
   "source": [
    "candidate_region_df = pd.merge(candidate_region_df, centroids_df[['cluster','isotope_cluster']], how='left', left_on=['cluster'], right_on=['cluster'])\n"
   ]
  },
  {
   "cell_type": "code",
   "execution_count": 106,
   "metadata": {},
   "outputs": [],
   "source": [
    "candidate_region_df.fillna(value=-1, inplace=True)\n",
    "candidate_region_df.isotope_cluster = candidate_region_df.isotope_cluster.astype(int)"
   ]
  },
  {
   "cell_type": "code",
   "execution_count": 107,
   "metadata": {},
   "outputs": [
    {
     "data": {
      "text/html": [
       "<div>\n",
       "<style scoped>\n",
       "    .dataframe tbody tr th:only-of-type {\n",
       "        vertical-align: middle;\n",
       "    }\n",
       "\n",
       "    .dataframe tbody tr th {\n",
       "        vertical-align: top;\n",
       "    }\n",
       "\n",
       "    .dataframe thead th {\n",
       "        text-align: right;\n",
       "    }\n",
       "</style>\n",
       "<table border=\"1\" class=\"dataframe\">\n",
       "  <thead>\n",
       "    <tr style=\"text-align: right;\">\n",
       "      <th></th>\n",
       "      <th>frame_id</th>\n",
       "      <th>frame_type</th>\n",
       "      <th>mz</th>\n",
       "      <th>scan</th>\n",
       "      <th>intensity</th>\n",
       "      <th>retention_time_secs</th>\n",
       "      <th>point_id</th>\n",
       "      <th>cluster</th>\n",
       "      <th>colour</th>\n",
       "      <th>isotope_cluster</th>\n",
       "    </tr>\n",
       "  </thead>\n",
       "  <tbody>\n",
       "    <tr>\n",
       "      <th>33</th>\n",
       "      <td>18082</td>\n",
       "      <td>0</td>\n",
       "      <td>1039.766249</td>\n",
       "      <td>283</td>\n",
       "      <td>102</td>\n",
       "      <td>2017.747258</td>\n",
       "      <td>1437</td>\n",
       "      <td>-1</td>\n",
       "      <td>(0.0, 0.0, 0.502)</td>\n",
       "      <td>-1</td>\n",
       "    </tr>\n",
       "    <tr>\n",
       "      <th>15</th>\n",
       "      <td>18082</td>\n",
       "      <td>0</td>\n",
       "      <td>1040.939801</td>\n",
       "      <td>267</td>\n",
       "      <td>52</td>\n",
       "      <td>2017.747258</td>\n",
       "      <td>1406</td>\n",
       "      <td>2</td>\n",
       "      <td>(0.5182809189613916, 0.9998402909550916, 0.046...</td>\n",
       "      <td>0</td>\n",
       "    </tr>\n",
       "    <tr>\n",
       "      <th>3</th>\n",
       "      <td>18082</td>\n",
       "      <td>0</td>\n",
       "      <td>1039.948308</td>\n",
       "      <td>260</td>\n",
       "      <td>80</td>\n",
       "      <td>2017.747258</td>\n",
       "      <td>1387</td>\n",
       "      <td>-1</td>\n",
       "      <td>(0.0, 0.0, 0.502)</td>\n",
       "      <td>-1</td>\n",
       "    </tr>\n",
       "  </tbody>\n",
       "</table>\n",
       "</div>"
      ],
      "text/plain": [
       "    frame_id  frame_type           mz  scan  intensity  retention_time_secs  \\\n",
       "33     18082           0  1039.766249   283        102          2017.747258   \n",
       "15     18082           0  1040.939801   267         52          2017.747258   \n",
       "3      18082           0  1039.948308   260         80          2017.747258   \n",
       "\n",
       "    point_id  cluster                                             colour  \\\n",
       "33      1437       -1                                  (0.0, 0.0, 0.502)   \n",
       "15      1406        2  (0.5182809189613916, 0.9998402909550916, 0.046...   \n",
       "3       1387       -1                                  (0.0, 0.0, 0.502)   \n",
       "\n",
       "    isotope_cluster  \n",
       "33               -1  \n",
       "15                0  \n",
       "3                -1  "
      ]
     },
     "execution_count": 107,
     "metadata": {},
     "output_type": "execute_result"
    }
   ],
   "source": [
    "candidate_region_df.sample(n=3)"
   ]
  },
  {
   "cell_type": "code",
   "execution_count": 108,
   "metadata": {},
   "outputs": [
    {
     "data": {
      "image/png": "[encoded data removed]",
      "text/plain": [
       "<Figure size 1080x1080 with 1 Axes>"
      ]
     },
     "metadata": {
      "needs_background": "light"
     },
     "output_type": "display_data"
    }
   ],
   "source": [
    "# plot the cluster assignments\n",
    "f, ax1 = plt.subplots()\n",
    "f.set_figheight(15)\n",
    "f.set_figwidth(15)\n",
    "\n",
    "plt.margins(0.06)\n",
    "\n",
    "# plot the unassigned points\n",
    "df = candidate_region_df[(candidate_region_df.cluster == -1)]\n",
    "plt.scatter(df.mz, df.scan, c='silver')\n",
    "\n",
    "df = candidate_region_df[(candidate_region_df.cluster >= 0)]\n",
    "for group_name,group_df in df.groupby(['cluster'], as_index=False):\n",
    "    # the raw points\n",
    "    plt.scatter(group_df.mz, group_df.scan, c=np.array([group_df.iloc[0].colour]))\n",
    "    # the cluster centroid\n",
    "    centroid_s = centroids_df[(centroids_df.cluster == group_name)].iloc[0]\n",
    "    plt.plot(centroid_s.mz, centroid_s.scan, marker='o', markerfacecolor='none', markeredgecolor='red', linestyle='', markeredgewidth=2, ms=15)\n",
    "    ax1.text(centroid_s.mz+0.1, centroid_s.scan, group_name, fontsize=12)\n",
    "\n",
    "df = candidate_region_df[(candidate_region_df.isotope_cluster >= 0)]\n",
    "for group_name,group_df in df.groupby(['isotope_cluster'], as_index=False):\n",
    "    # draw the cluster rectangle\n",
    "    top_left = (group_df.mz.min(),group_df.scan.min())\n",
    "    width = group_df.mz.max() - group_df.mz.min()\n",
    "    height = group_df.scan.max() - group_df.scan.min()\n",
    "    cluster_rect = patches.Rectangle(top_left,width,height,linewidth=1.5,linestyle='--',edgecolor='silver',facecolor='none')\n",
    "    ax1.add_patch(cluster_rect)\n",
    "    ax1.text(top_left[0], top_left[1]-0.5, 'isotope cluster {}'.format(int(group_name)), fontsize=12)\n",
    "\n",
    "# the anchor point for this candidate region\n",
    "plt.plot(anchor_point_s.mz, anchor_point_s.scan, marker='x', markerfacecolor='none', markeredgecolor='limegreen', linestyle='', markeredgewidth=5, ms=15, label='anchor point')\n",
    "\n",
    "plot_xlim = ax1.get_xlim()\n",
    "plot_ylim = ax1.get_ylim()\n",
    "\n",
    "plt.xlabel(\"m/z\")\n",
    "plt.ylabel(\"scan\")\n",
    "plt.gca().invert_yaxis()\n",
    "plt.show()"
   ]
  },
  {
   "cell_type": "markdown",
   "metadata": {},
   "source": [
    "#### we now have the 2D extent of the feature - take that extent through time and see if we can cluster the centroids in time"
   ]
  },
  {
   "cell_type": "code",
   "execution_count": 109,
   "metadata": {},
   "outputs": [],
   "source": [
    "# which cluster contains the anchor point?\n",
    "anchor_point_s = candidate_region_df[(candidate_region_df.point_id == anchor_point_s.point_id)].iloc[0]\n"
   ]
  },
  {
   "cell_type": "code",
   "execution_count": 110,
   "metadata": {},
   "outputs": [
    {
     "data": {
      "text/plain": [
       "frame_id                                        18082\n",
       "frame_type                                          0\n",
       "mz                                             1040.5\n",
       "scan                                              281\n",
       "intensity                                         166\n",
       "retention_time_secs                           2017.75\n",
       "point_id                                         1431\n",
       "cluster                                             0\n",
       "colour                 (0.0, 0.4981591003460206, 1.0)\n",
       "isotope_cluster                                     0\n",
       "Name: 30, dtype: object"
      ]
     },
     "execution_count": 110,
     "metadata": {},
     "output_type": "execute_result"
    }
   ],
   "source": [
    "anchor_point_s"
   ]
  },
  {
   "cell_type": "code",
   "execution_count": 111,
   "metadata": {},
   "outputs": [],
   "source": [
    "# get the extent of the isotope cluster in m/z and mobility\n",
    "points_in_cluster_df = candidate_region_df[(candidate_region_df.isotope_cluster == anchor_point_s.isotope_cluster)]\n",
    "mz_lower = points_in_cluster_df.mz.min()\n",
    "mz_upper = points_in_cluster_df.mz.max()\n",
    "scan_lower = points_in_cluster_df.scan.min()\n",
    "scan_upper = points_in_cluster_df.scan.max()"
   ]
  },
  {
   "cell_type": "code",
   "execution_count": 112,
   "metadata": {},
   "outputs": [],
   "source": [
    "RT_BASE_PEAK_WIDTH = 10"
   ]
  },
  {
   "cell_type": "code",
   "execution_count": 113,
   "metadata": {},
   "outputs": [],
   "source": [
    "# get the left-most peak in the isotope cluster\n",
    "monoisotopic_cluster_s = centroids_df.loc[centroids_df[(centroids_df.isotope_cluster == anchor_point_s.isotope_cluster)].mz.idxmin()]\n"
   ]
  },
  {
   "cell_type": "code",
   "execution_count": 114,
   "metadata": {},
   "outputs": [],
   "source": [
    "mono_raw_points_df = raw_df[(raw_df.mz >= anchor_point_cluster_points_df.mz.min()) & (raw_df.mz <= anchor_point_cluster_points_df.mz.max()) & (raw_df.scan >= anchor_point_cluster_points_df.scan.min()) & (raw_df.scan <= anchor_point_cluster_points_df.scan.max()) & (raw_df.retention_time_secs >= anchor_point_s.retention_time_secs-RT_BASE_PEAK_WIDTH) & (raw_df.retention_time_secs <= anchor_point_s.retention_time_secs+RT_BASE_PEAK_WIDTH)]\n",
    "rt_0_df = mono_raw_points_df.groupby(['frame_id','retention_time_secs'], as_index=False).intensity.sum()\n",
    "rt_0_df.sort_values(by=['retention_time_secs'], ascending=True, inplace=True)\n",
    "# filter the points\n",
    "rt_0_df['filtered_intensity'] = rt_0_df.intensity  # set the default\n",
    "window_length = 11\n",
    "if len(rt_0_df) > window_length:\n",
    "    try:\n",
    "        rt_0_df['filtered_intensity'] = signal.savgol_filter(rt_0_df.intensity, window_length=find_filter_length(number_of_points=len(rt_0_df)), polyorder=RT_FILTER_POLY_ORDER)\n",
    "        filtered = True\n",
    "    except:\n",
    "        filtered = False\n",
    "else:\n",
    "    filtered = False"
   ]
  },
  {
   "cell_type": "code",
   "execution_count": 115,
   "metadata": {
    "scrolled": true
   },
   "outputs": [
    {
     "data": {
      "text/plain": [
       "True"
      ]
     },
     "execution_count": 115,
     "metadata": {},
     "output_type": "execute_result"
    }
   ],
   "source": [
    "filtered"
   ]
  },
  {
   "cell_type": "code",
   "execution_count": 116,
   "metadata": {},
   "outputs": [
    {
     "data": {
      "text/plain": [
       "15"
      ]
     },
     "execution_count": 116,
     "metadata": {},
     "output_type": "execute_result"
    }
   ],
   "source": [
    "len(rt_0_df)"
   ]
  },
  {
   "cell_type": "code",
   "execution_count": 117,
   "metadata": {},
   "outputs": [],
   "source": [
    "peak_idxs = peakutils.indexes(rt_0_df.filtered_intensity.values, thres=0.05, min_dist=10/2, thres_abs=False)\n",
    "peak_x_l = rt_0_df.iloc[peak_idxs].retention_time_secs.to_list()\n",
    "peaks_df = rt_0_df[rt_0_df.retention_time_secs.isin(peak_x_l)]"
   ]
  },
  {
   "cell_type": "code",
   "execution_count": 118,
   "metadata": {},
   "outputs": [],
   "source": [
    "valley_idxs = peakutils.indexes(-rt_0_df.filtered_intensity.values, thres=0.05, min_dist=10/8, thres_abs=False)\n",
    "valley_x_l = rt_0_df.iloc[valley_idxs].retention_time_secs.to_list()\n",
    "valleys_df = rt_0_df[rt_0_df.retention_time_secs.isin(valley_x_l)]"
   ]
  },
  {
   "cell_type": "code",
   "execution_count": 119,
   "metadata": {},
   "outputs": [
    {
     "data": {
      "text/html": [
       "<div>\n",
       "<style scoped>\n",
       "    .dataframe tbody tr th:only-of-type {\n",
       "        vertical-align: middle;\n",
       "    }\n",
       "\n",
       "    .dataframe tbody tr th {\n",
       "        vertical-align: top;\n",
       "    }\n",
       "\n",
       "    .dataframe thead th {\n",
       "        text-align: right;\n",
       "    }\n",
       "</style>\n",
       "<table border=\"1\" class=\"dataframe\">\n",
       "  <thead>\n",
       "    <tr style=\"text-align: right;\">\n",
       "      <th></th>\n",
       "      <th>frame_id</th>\n",
       "      <th>retention_time_secs</th>\n",
       "      <th>intensity</th>\n",
       "      <th>filtered_intensity</th>\n",
       "    </tr>\n",
       "  </thead>\n",
       "  <tbody>\n",
       "    <tr>\n",
       "      <th>5</th>\n",
       "      <td>18047</td>\n",
       "      <td>2014.043101</td>\n",
       "      <td>60</td>\n",
       "      <td>186.624709</td>\n",
       "    </tr>\n",
       "  </tbody>\n",
       "</table>\n",
       "</div>"
      ],
      "text/plain": [
       "   frame_id  retention_time_secs  intensity  filtered_intensity\n",
       "5     18047          2014.043101         60          186.624709"
      ]
     },
     "execution_count": 119,
     "metadata": {},
     "output_type": "execute_result"
    }
   ],
   "source": [
    "valleys_df"
   ]
  },
  {
   "cell_type": "code",
   "execution_count": 120,
   "metadata": {},
   "outputs": [],
   "source": [
    "upper_x = valleys_df[valleys_df.retention_time_secs > anchor_point_s.retention_time_secs].retention_time_secs.min()\n",
    "if math.isnan(upper_x):\n",
    "    upper_x = rt_0_df.retention_time_secs.max()\n",
    "lower_x = valleys_df[valleys_df.retention_time_secs < anchor_point_s.retention_time_secs].retention_time_secs.max()\n",
    "if math.isnan(lower_x):\n",
    "    lower_x = rt_0_df.retention_time_secs.min()"
   ]
  },
  {
   "cell_type": "code",
   "execution_count": 121,
   "metadata": {},
   "outputs": [],
   "source": [
    "rt_lower = lower_x\n",
    "rt_upper = upper_x"
   ]
  },
  {
   "cell_type": "code",
   "execution_count": 122,
   "metadata": {},
   "outputs": [],
   "source": [
    "rt_0_extract_df = rt_0_df[(rt_0_df.retention_time_secs >= lower_x) & (rt_0_df.retention_time_secs <= upper_x)]"
   ]
  },
  {
   "cell_type": "code",
   "execution_count": 123,
   "metadata": {},
   "outputs": [
    {
     "data": {
      "image/png": "[encoded data removed]",
      "text/plain": [
       "<Figure size 1080x576 with 1 Axes>"
      ]
     },
     "metadata": {
      "needs_background": "light"
     },
     "output_type": "display_data"
    }
   ],
   "source": [
    "# plot the cluster assignments\n",
    "f, ax1 = plt.subplots()\n",
    "f.set_figheight(8)\n",
    "f.set_figwidth(15)\n",
    "\n",
    "plt.margins(0.06)\n",
    "\n",
    "# plot the flattened points\n",
    "plt.scatter(rt_0_df.retention_time_secs, rt_0_df.intensity, c='silver')\n",
    "# plot the smoothed points\n",
    "plt.plot(rt_0_df.retention_time_secs, rt_0_df.filtered_intensity, marker='', color='lightskyblue', linestyle='--', linewidth=1, ms=5, label='smoothed')\n",
    "plt.plot(rt_0_extract_df.retention_time_secs, rt_0_extract_df.filtered_intensity, marker='', color='lightskyblue', linestyle=':', linewidth=3, ms=5, label='extracted')\n",
    "\n",
    "plt.plot(valleys_df.retention_time_secs, valleys_df.filtered_intensity, marker='v', color='lightcoral', linestyle=None, linewidth=0, ms=15, label='valleys')\n",
    "plt.axvline(x=anchor_point_s.retention_time_secs, linestyle=':', color='royalblue', linewidth=2, label='anchor point')\n",
    "\n",
    "plt.xlabel(\"retention time (secs)\")\n",
    "plt.ylabel(\"intensity\")\n",
    "plt.show()"
   ]
  },
  {
   "cell_type": "code",
   "execution_count": null,
   "metadata": {},
   "outputs": [],
   "source": []
  }
 ],
 "metadata": {
  "kernelspec": {
   "display_name": "Python 3",
   "language": "python",
   "name": "python3"
  },
  "language_info": {
   "codemirror_mode": {
    "name": "ipython",
    "version": 3
   },
   "file_extension": ".py",
   "mimetype": "text/x-python",
   "name": "python",
   "nbconvert_exporter": "python",
   "pygments_lexer": "ipython3",
   "version": "3.8.5"
  }
 },
 "nbformat": 4,
 "nbformat_minor": 4
}
