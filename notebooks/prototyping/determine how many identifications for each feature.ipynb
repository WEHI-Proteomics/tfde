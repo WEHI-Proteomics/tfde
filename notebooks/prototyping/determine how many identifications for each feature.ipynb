{
 "cells": [
  {
   "cell_type": "code",
   "execution_count": 69,
   "metadata": {},
   "outputs": [],
   "source": [
    "import pandas as pd\n",
    "import numpy as np\n",
    "import sys\n",
    "import matplotlib.pyplot as plt"
   ]
  },
  {
   "cell_type": "code",
   "execution_count": 70,
   "metadata": {},
   "outputs": [],
   "source": [
    "# get the features detected in ms1 and de-duped\n",
    "ms1_dedup_features_df = pd.read_pickle('/Users/darylwilding-mcbride/Downloads/rt-3000-3060-nddms1.pkl')"
   ]
  },
  {
   "cell_type": "code",
   "execution_count": 71,
   "metadata": {},
   "outputs": [
    {
     "data": {
      "text/plain": [
       "Index(['candidate_phr_error', 'charge', 'envelope', 'intensity',\n",
       "       'intensity_full_rt_extent', 'mono_adjusted', 'monoisotopic_mz',\n",
       "       'ms2_frames', 'ms2_scan_ranges', 'original_phr', 'original_phr_error',\n",
       "       'precursor_id', 'rt_apex', 'rt_curve_fit', 'rt_lower', 'rt_upper',\n",
       "       'scan_apex', 'scan_curve_fit', 'scan_lower', 'scan_upper', 'duplicates',\n",
       "       'feature_id'],\n",
       "      dtype='object')"
      ]
     },
     "execution_count": 71,
     "metadata": {},
     "output_type": "execute_result"
    }
   ],
   "source": [
    "ms1_dedup_features_df.columns"
   ]
  },
  {
   "cell_type": "code",
   "execution_count": 72,
   "metadata": {},
   "outputs": [],
   "source": [
    "MZ_TOLERANCE_PPM = 40\n",
    "RT_APEX_TOLERANCE = 2\n",
    "SCAN_APEX_TOLERANCE = 20\n",
    "MZ_TOLERANCE_PERCENT = MZ_TOLERANCE_PPM * 10**-4"
   ]
  },
  {
   "cell_type": "code",
   "execution_count": 73,
   "metadata": {},
   "outputs": [],
   "source": [
    "features_belonging_together_l = []\n",
    "\n",
    "scratch_df = ms1_dedup_features_df.copy() # take a copy because we're going to delete stuff\n",
    "scratch_df.sort_values(by=['intensity'], ascending=False, inplace=True)\n",
    "group_id = 1\n",
    "\n",
    "while len(scratch_df) > 0:\n",
    "    scratch_df.reset_index(drop=True, inplace=True)\n",
    "    # take the first row\n",
    "    row = scratch_df.iloc[0]\n",
    "    mz = row.monoisotopic_mz\n",
    "    scan = row.scan_apex\n",
    "    rt = row.rt_apex\n",
    "\n",
    "    # calculate the matching bounds\n",
    "    mz_ppm_tolerance = mz * MZ_TOLERANCE_PERCENT / 100\n",
    "    mz_lower = mz - mz_ppm_tolerance\n",
    "    mz_upper = mz + mz_ppm_tolerance\n",
    "    scan_lower = scan - SCAN_APEX_TOLERANCE\n",
    "    scan_upper = scan + SCAN_APEX_TOLERANCE\n",
    "    rt_lower = rt - RT_APEX_TOLERANCE\n",
    "    rt_upper = rt + RT_APEX_TOLERANCE\n",
    "\n",
    "    # find the matches within these tolerances\n",
    "    cond_1 = (scratch_df.monoisotopic_mz >= mz_lower) & (scratch_df.monoisotopic_mz <= mz_upper) & (scratch_df.scan_apex >= scan_lower) & (scratch_df.scan_apex <= scan_upper) & (scratch_df.rt_apex >= rt_lower) & (scratch_df.rt_apex <= rt_upper)\n",
    "    matching_rows = scratch_df.loc[cond_1, :].copy()\n",
    "    matching_rows['group_id'] = group_id\n",
    "    group_id += 1\n",
    "    # add all the features belonging together to the list with the same group ID\n",
    "    features_belonging_together_l.append(matching_rows)\n",
    "    # drop the duplicates\n",
    "    scratch_df.drop(matching_rows.index, inplace=True)\n",
    "\n",
    "# join the list of dataframes into a single dataframe\n",
    "features_belonging_together_df = pd.concat(features_belonging_together_l, sort=True)\n"
   ]
  },
  {
   "cell_type": "code",
   "execution_count": 74,
   "metadata": {},
   "outputs": [
    {
     "data": {
      "text/html": [
       "<div>\n",
       "<style scoped>\n",
       "    .dataframe tbody tr th:only-of-type {\n",
       "        vertical-align: middle;\n",
       "    }\n",
       "\n",
       "    .dataframe tbody tr th {\n",
       "        vertical-align: top;\n",
       "    }\n",
       "\n",
       "    .dataframe thead th {\n",
       "        text-align: right;\n",
       "    }\n",
       "</style>\n",
       "<table border=\"1\" class=\"dataframe\">\n",
       "  <thead>\n",
       "    <tr style=\"text-align: right;\">\n",
       "      <th></th>\n",
       "      <th>candidate_phr_error</th>\n",
       "      <th>charge</th>\n",
       "      <th>duplicates</th>\n",
       "      <th>envelope</th>\n",
       "      <th>feature_id</th>\n",
       "      <th>group_id</th>\n",
       "      <th>intensity</th>\n",
       "      <th>intensity_full_rt_extent</th>\n",
       "      <th>mono_adjusted</th>\n",
       "      <th>monoisotopic_mz</th>\n",
       "      <th>...</th>\n",
       "      <th>original_phr_error</th>\n",
       "      <th>precursor_id</th>\n",
       "      <th>rt_apex</th>\n",
       "      <th>rt_curve_fit</th>\n",
       "      <th>rt_lower</th>\n",
       "      <th>rt_upper</th>\n",
       "      <th>scan_apex</th>\n",
       "      <th>scan_curve_fit</th>\n",
       "      <th>scan_lower</th>\n",
       "      <th>scan_upper</th>\n",
       "    </tr>\n",
       "  </thead>\n",
       "  <tbody>\n",
       "    <tr>\n",
       "      <th>0</th>\n",
       "      <td>NaN</td>\n",
       "      <td>3</td>\n",
       "      <td>10</td>\n",
       "      <td>((591.6430, 2853157.00), (591.9775, 2668880.00...</td>\n",
       "      <td>1</td>\n",
       "      <td>1</td>\n",
       "      <td>7666139.0</td>\n",
       "      <td>4364451</td>\n",
       "      <td>False</td>\n",
       "      <td>591.641799</td>\n",
       "      <td>...</td>\n",
       "      <td>-0.022660</td>\n",
       "      <td>93756</td>\n",
       "      <td>3050.48</td>\n",
       "      <td>True</td>\n",
       "      <td>3039.44</td>\n",
       "      <td>3061.51</td>\n",
       "      <td>613.23</td>\n",
       "      <td>True</td>\n",
       "      <td>573.25</td>\n",
       "      <td>653.21</td>\n",
       "    </tr>\n",
       "    <tr>\n",
       "      <th>0</th>\n",
       "      <td>NaN</td>\n",
       "      <td>3</td>\n",
       "      <td>9</td>\n",
       "      <td>((529.5872, 1940798.00), (529.9214, 1715981.00...</td>\n",
       "      <td>2</td>\n",
       "      <td>2</td>\n",
       "      <td>5037820.0</td>\n",
       "      <td>3316192</td>\n",
       "      <td>False</td>\n",
       "      <td>529.585476</td>\n",
       "      <td>...</td>\n",
       "      <td>0.033541</td>\n",
       "      <td>92233</td>\n",
       "      <td>3007.03</td>\n",
       "      <td>True</td>\n",
       "      <td>2994.55</td>\n",
       "      <td>3019.51</td>\n",
       "      <td>689.51</td>\n",
       "      <td>True</td>\n",
       "      <td>660.54</td>\n",
       "      <td>718.49</td>\n",
       "    </tr>\n",
       "  </tbody>\n",
       "</table>\n",
       "<p>2 rows × 23 columns</p>\n",
       "</div>"
      ],
      "text/plain": [
       "   candidate_phr_error  charge  duplicates  \\\n",
       "0                  NaN       3          10   \n",
       "0                  NaN       3           9   \n",
       "\n",
       "                                            envelope  feature_id  group_id  \\\n",
       "0  ((591.6430, 2853157.00), (591.9775, 2668880.00...           1         1   \n",
       "0  ((529.5872, 1940798.00), (529.9214, 1715981.00...           2         2   \n",
       "\n",
       "   intensity  intensity_full_rt_extent  mono_adjusted  monoisotopic_mz  ...  \\\n",
       "0  7666139.0                   4364451          False       591.641799  ...   \n",
       "0  5037820.0                   3316192          False       529.585476  ...   \n",
       "\n",
       "  original_phr_error precursor_id  rt_apex  rt_curve_fit  rt_lower  rt_upper  \\\n",
       "0          -0.022660        93756  3050.48          True   3039.44   3061.51   \n",
       "0           0.033541        92233  3007.03          True   2994.55   3019.51   \n",
       "\n",
       "   scan_apex  scan_curve_fit  scan_lower  scan_upper  \n",
       "0     613.23            True      573.25      653.21  \n",
       "0     689.51            True      660.54      718.49  \n",
       "\n",
       "[2 rows x 23 columns]"
      ]
     },
     "execution_count": 74,
     "metadata": {},
     "output_type": "execute_result"
    }
   ],
   "source": [
    "features_belonging_together_df.head(2)"
   ]
  },
  {
   "cell_type": "code",
   "execution_count": 75,
   "metadata": {},
   "outputs": [],
   "source": [
    "group_count = []\n",
    "for name,group_df in features_belonging_together_df.groupby('group_id'):\n",
    "    group_count.append((name, len(group_df)))"
   ]
  },
  {
   "cell_type": "code",
   "execution_count": 76,
   "metadata": {},
   "outputs": [],
   "source": [
    "group_count_df = pd.DataFrame(group_count, columns=['group_id','feature_count'])"
   ]
  },
  {
   "cell_type": "markdown",
   "metadata": {},
   "source": [
    "Show the number of features in a group"
   ]
  },
  {
   "cell_type": "code",
   "execution_count": 79,
   "metadata": {},
   "outputs": [
    {
     "data": {
      "image/png": "[encoded data removed]",
      "text/plain": [
       "<Figure size 1080x576 with 1 Axes>"
      ]
     },
     "metadata": {
      "needs_background": "light"
     },
     "output_type": "display_data"
    }
   ],
   "source": [
    "f, ax1 = plt.subplots()\n",
    "f.set_figheight(8)\n",
    "f.set_figwidth(15)\n",
    "\n",
    "plt.margins(0.06)\n",
    "plt.title('Grouped features distribution')\n",
    "\n",
    "h_bins = 10\n",
    "plt.hist(group_count_df.feature_count, bins=np.arange(start=1, stop=10)-0.5, rwidth=0.6, label='feature groups')\n",
    "plt.legend(loc='best')\n",
    "plt.xlabel('number of features in the group')\n",
    "plt.ylabel('frequency')\n",
    "\n",
    "# plt.xlim([25,150])\n",
    "# plt.ylim([0,25])\n",
    "\n",
    "plt.show()"
   ]
  },
  {
   "cell_type": "code",
   "execution_count": null,
   "metadata": {},
   "outputs": [],
   "source": [
    "Find the number of identifications for the features with more than one in a "
   ]
  }
 ],
 "metadata": {
  "kernelspec": {
   "display_name": "Python 3",
   "language": "python",
   "name": "python3"
  },
  "language_info": {
   "codemirror_mode": {
    "name": "ipython",
    "version": 3
   },
   "file_extension": ".py",
   "mimetype": "text/x-python",
   "name": "python",
   "nbconvert_exporter": "python",
   "pygments_lexer": "ipython3",
   "version": "3.6.8"
  }
 },
 "nbformat": 4,
 "nbformat_minor": 2
}
