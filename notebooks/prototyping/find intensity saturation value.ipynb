{
 "cells": [
  {
   "cell_type": "code",
   "execution_count": 1,
   "metadata": {},
   "outputs": [],
   "source": [
    "import sqlite3\n",
    "import pandas as pd\n",
    "import numpy as np\n",
    "import sys\n",
    "import matplotlib.pyplot as plt\n",
    "import os.path"
   ]
  },
  {
   "cell_type": "code",
   "execution_count": 8,
   "metadata": {},
   "outputs": [],
   "source": [
    "RT_LIMIT_LOWER = 3000  # RT range in the database\n",
    "RT_LIMIT_UPPER = 3060\n",
    "MS1_CE = 10"
   ]
  },
  {
   "cell_type": "code",
   "execution_count": 11,
   "metadata": {},
   "outputs": [],
   "source": [
    "BASE_NAME = \"/Users/darylwilding-mcbride/Downloads/HeLa_20KInt-rt-3000-3600-denoised\"\n",
    "CONVERTED_DATABASE_NAME = '{}/HeLa_20KInt.sqlite'.format(BASE_NAME)"
   ]
  },
  {
   "cell_type": "code",
   "execution_count": 13,
   "metadata": {},
   "outputs": [],
   "source": [
    "db_conn = sqlite3.connect(CONVERTED_DATABASE_NAME)\n",
    "ms1_frame_properties_df = pd.read_sql_query(\"select frame_id,retention_time_secs from frame_properties where collision_energy == {} and retention_time_secs >= {} and retention_time_secs <= {}\".format(MS1_CE, RT_LIMIT_LOWER, RT_LIMIT_UPPER), db_conn)\n",
    "ms2_frame_properties_df = pd.read_sql_query(\"select frame_id,retention_time_secs from frame_properties where collision_energy <> {} and retention_time_secs >= {} and retention_time_secs <= {}\".format(MS1_CE, RT_LIMIT_LOWER, RT_LIMIT_UPPER), db_conn)\n",
    "db_conn.close()"
   ]
  },
  {
   "cell_type": "code",
   "execution_count": 14,
   "metadata": {},
   "outputs": [],
   "source": [
    "ms1_frame_ids = tuple(ms1_frame_properties_df.frame_id)"
   ]
  },
  {
   "cell_type": "code",
   "execution_count": 15,
   "metadata": {},
   "outputs": [],
   "source": [
    "db_conn = sqlite3.connect(CONVERTED_DATABASE_NAME)\n",
    "ms1_raw_points_df = pd.read_sql_query(\"select intensity from frames where frame_id in {}\".format(ms1_frame_ids), db_conn)\n",
    "db_conn.close()"
   ]
  },
  {
   "cell_type": "code",
   "execution_count": 43,
   "metadata": {},
   "outputs": [],
   "source": [
    "subset = ms1_raw_points_df[(ms1_raw_points_df.intensity > 2500) & (ms1_raw_points_df.intensity < 4000)]"
   ]
  },
  {
   "cell_type": "code",
   "execution_count": 44,
   "metadata": {},
   "outputs": [
    {
     "data": {
      "image/png": "[encoded data removed]",
      "text/plain": [
       "<Figure size 1080x576 with 1 Axes>"
      ]
     },
     "metadata": {
      "needs_background": "light"
     },
     "output_type": "display_data"
    }
   ],
   "source": [
    "f, ax1 = plt.subplots()\n",
    "f.set_figheight(8)\n",
    "f.set_figwidth(15)\n",
    "\n",
    "plt.margins(0.06)\n",
    "plt.title('Raw intensity distribution')\n",
    "\n",
    "h_bins = 1000\n",
    "hist, bins, _ = plt.hist(subset.intensity, bins=h_bins, label='intensity')\n",
    "plt.legend(loc='best')\n",
    "plt.xlabel('intensity')\n",
    "plt.ylabel('frequency')\n",
    "\n",
    "# plt.xlim([3500,4000])\n",
    "# plt.ylim([0,3000])\n",
    "\n",
    "plt.show()"
   ]
  },
  {
   "cell_type": "code",
   "execution_count": null,
   "metadata": {},
   "outputs": [],
   "source": []
  }
 ],
 "metadata": {
  "kernelspec": {
   "display_name": "Python 3",
   "language": "python",
   "name": "python3"
  },
  "language_info": {
   "codemirror_mode": {
    "name": "ipython",
    "version": 3
   },
   "file_extension": ".py",
   "mimetype": "text/x-python",
   "name": "python",
   "nbconvert_exporter": "python",
   "pygments_lexer": "ipython3",
   "version": "3.6.8"
  }
 },
 "nbformat": 4,
 "nbformat_minor": 2
}
