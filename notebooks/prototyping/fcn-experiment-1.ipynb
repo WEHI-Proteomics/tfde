{
 "cells": [
  {
   "cell_type": "code",
   "execution_count": 2,
   "metadata": {},
   "outputs": [],
   "source": [
    "from fastai.tabular import *  # Quick accesss to tabular functionality"
   ]
  },
  {
   "cell_type": "code",
   "execution_count": 3,
   "metadata": {},
   "outputs": [],
   "source": [
    "import sqlite3\n",
    "import pandas as pd\n",
    "import numpy as np\n",
    "import sys"
   ]
  },
  {
   "cell_type": "code",
   "execution_count": 4,
   "metadata": {},
   "outputs": [],
   "source": [
    "RT_LIMIT_LOWER = 4340\n",
    "RT_LIMIT_UPPER = 4580"
   ]
  },
  {
   "cell_type": "code",
   "execution_count": 5,
   "metadata": {},
   "outputs": [],
   "source": [
    "BASE_NAME = \"/home/ubuntu/HeLa_20KInt-rt-{}-{}\".format(RT_LIMIT_LOWER,RT_LIMIT_UPPER)\n",
    "CONVERTED_DATABASE_NAME = '{}/HeLa_20KInt.sqlite'.format(BASE_NAME)"
   ]
  },
  {
   "cell_type": "code",
   "execution_count": 6,
   "metadata": {},
   "outputs": [],
   "source": [
    "MQ_FEATURE_ID = 487"
   ]
  },
  {
   "cell_type": "code",
   "execution_count": 7,
   "metadata": {},
   "outputs": [],
   "source": [
    "import pickle\n",
    "pkl_file_name = \"{}/mq-feature-{}-summed-frames-df.pkl\".format(BASE_NAME,MQ_FEATURE_ID)\n",
    "df = pd.read_pickle(pkl_file_name)"
   ]
  },
  {
   "cell_type": "code",
   "execution_count": 8,
   "metadata": {},
   "outputs": [],
   "source": [
    "df.reset_index(inplace=True)"
   ]
  },
  {
   "cell_type": "code",
   "execution_count": 9,
   "metadata": {},
   "outputs": [
    {
     "data": {
      "text/html": [
       "<div>\n",
       "<style scoped>\n",
       "    .dataframe tbody tr th:only-of-type {\n",
       "        vertical-align: middle;\n",
       "    }\n",
       "\n",
       "    .dataframe tbody tr th {\n",
       "        vertical-align: top;\n",
       "    }\n",
       "\n",
       "    .dataframe thead th {\n",
       "        text-align: right;\n",
       "    }\n",
       "</style>\n",
       "<table border=\"1\" class=\"dataframe\">\n",
       "  <thead>\n",
       "    <tr style=\"text-align: right;\">\n",
       "      <th></th>\n",
       "      <th>index</th>\n",
       "      <th>frame_id</th>\n",
       "      <th>point_id</th>\n",
       "      <th>mz</th>\n",
       "      <th>scan</th>\n",
       "      <th>intensity</th>\n",
       "      <th>retention_time_secs</th>\n",
       "      <th>peak_id</th>\n",
       "      <th>hover</th>\n",
       "      <th>frame_point</th>\n",
       "      <th>part_of_feature</th>\n",
       "    </tr>\n",
       "  </thead>\n",
       "  <tbody>\n",
       "    <tr>\n",
       "      <th>0</th>\n",
       "      <td>220</td>\n",
       "      <td>2</td>\n",
       "      <td>39899</td>\n",
       "      <td>816.393256</td>\n",
       "      <td>405</td>\n",
       "      <td>358</td>\n",
       "      <td>4344.591351</td>\n",
       "      <td>0</td>\n",
       "      <td>816.3933 m/z, 405 scan, RT 4344.6 secs</td>\n",
       "      <td>2|39899</td>\n",
       "      <td>True</td>\n",
       "    </tr>\n",
       "    <tr>\n",
       "      <th>1</th>\n",
       "      <td>696</td>\n",
       "      <td>3</td>\n",
       "      <td>40268</td>\n",
       "      <td>816.392134</td>\n",
       "      <td>409</td>\n",
       "      <td>96</td>\n",
       "      <td>4346.940378</td>\n",
       "      <td>0</td>\n",
       "      <td>816.3921 m/z, 409 scan, RT 4346.9 secs</td>\n",
       "      <td>3|40268</td>\n",
       "      <td>True</td>\n",
       "    </tr>\n",
       "    <tr>\n",
       "      <th>2</th>\n",
       "      <td>745</td>\n",
       "      <td>3</td>\n",
       "      <td>42059</td>\n",
       "      <td>816.395738</td>\n",
       "      <td>415</td>\n",
       "      <td>120</td>\n",
       "      <td>4346.605542</td>\n",
       "      <td>0</td>\n",
       "      <td>816.3957 m/z, 415 scan, RT 4346.6 secs</td>\n",
       "      <td>3|42059</td>\n",
       "      <td>True</td>\n",
       "    </tr>\n",
       "    <tr>\n",
       "      <th>3</th>\n",
       "      <td>1153</td>\n",
       "      <td>4</td>\n",
       "      <td>38028</td>\n",
       "      <td>816.389161</td>\n",
       "      <td>406</td>\n",
       "      <td>183</td>\n",
       "      <td>4349.734388</td>\n",
       "      <td>3481</td>\n",
       "      <td>816.3892 m/z, 406 scan, RT 4349.7 secs</td>\n",
       "      <td>4|38028</td>\n",
       "      <td>True</td>\n",
       "    </tr>\n",
       "    <tr>\n",
       "      <th>4</th>\n",
       "      <td>2831</td>\n",
       "      <td>8</td>\n",
       "      <td>35920</td>\n",
       "      <td>816.390690</td>\n",
       "      <td>378</td>\n",
       "      <td>156</td>\n",
       "      <td>4358.695199</td>\n",
       "      <td>0</td>\n",
       "      <td>816.3907 m/z, 378 scan, RT 4358.7 secs</td>\n",
       "      <td>8|35920</td>\n",
       "      <td>True</td>\n",
       "    </tr>\n",
       "  </tbody>\n",
       "</table>\n",
       "</div>"
      ],
      "text/plain": [
       "   index  frame_id  point_id          mz  scan  intensity  \\\n",
       "0    220         2     39899  816.393256   405        358   \n",
       "1    696         3     40268  816.392134   409         96   \n",
       "2    745         3     42059  816.395738   415        120   \n",
       "3   1153         4     38028  816.389161   406        183   \n",
       "4   2831         8     35920  816.390690   378        156   \n",
       "\n",
       "   retention_time_secs  peak_id                                   hover  \\\n",
       "0          4344.591351        0  816.3933 m/z, 405 scan, RT 4344.6 secs   \n",
       "1          4346.940378        0  816.3921 m/z, 409 scan, RT 4346.9 secs   \n",
       "2          4346.605542        0  816.3957 m/z, 415 scan, RT 4346.6 secs   \n",
       "3          4349.734388     3481  816.3892 m/z, 406 scan, RT 4349.7 secs   \n",
       "4          4358.695199        0  816.3907 m/z, 378 scan, RT 4358.7 secs   \n",
       "\n",
       "  frame_point  part_of_feature  \n",
       "0     2|39899             True  \n",
       "1     3|40268             True  \n",
       "2     3|42059             True  \n",
       "3     4|38028             True  \n",
       "4     8|35920             True  "
      ]
     },
     "execution_count": 9,
     "metadata": {},
     "output_type": "execute_result"
    }
   ],
   "source": [
    "df.head()"
   ]
  },
  {
   "cell_type": "code",
   "execution_count": 10,
   "metadata": {},
   "outputs": [],
   "source": [
    "dep_var = 'part_of_feature'\n",
    "cat_names = None\n",
    "cont_names = ['mz', 'scan', 'intensity']\n",
    "procs = [FillMissing, Categorify, Normalize]"
   ]
  },
  {
   "cell_type": "code",
   "execution_count": 11,
   "metadata": {},
   "outputs": [
    {
     "data": {
      "text/plain": [
       "8101"
      ]
     },
     "execution_count": 11,
     "metadata": {},
     "output_type": "execute_result"
    }
   ],
   "source": [
    "len(df)"
   ]
  },
  {
   "cell_type": "code",
   "execution_count": 12,
   "metadata": {},
   "outputs": [],
   "source": [
    "feature_points_df = df[df.part_of_feature == True]"
   ]
  },
  {
   "cell_type": "code",
   "execution_count": 13,
   "metadata": {},
   "outputs": [],
   "source": [
    "non_feature_points_df = df[df.part_of_feature == False]"
   ]
  },
  {
   "cell_type": "code",
   "execution_count": 14,
   "metadata": {},
   "outputs": [],
   "source": [
    "def train_validate_test_split(df, train_percent=.9, validate_percent=.05, seed=None):\n",
    "    np.random.seed(seed)\n",
    "    perm = np.random.permutation(df.index)\n",
    "    m = len(df.index)\n",
    "    train_end = int(train_percent * m)\n",
    "    validate_end = int(validate_percent * m) + train_end\n",
    "    train = df.loc[perm[:train_end]]\n",
    "    validate = df.loc[perm[train_end:validate_end]]\n",
    "    test = df.loc[perm[validate_end:]]\n",
    "    return train, validate, test"
   ]
  },
  {
   "cell_type": "code",
   "execution_count": 15,
   "metadata": {},
   "outputs": [],
   "source": [
    "feature_train_df,feature_validate_df,feature_test_df = train_validate_test_split(feature_points_df)\n",
    "non_feature_train_df,non_feature_validate_df,non_feature_test_df = train_validate_test_split(non_feature_points_df)"
   ]
  },
  {
   "cell_type": "code",
   "execution_count": 16,
   "metadata": {},
   "outputs": [],
   "source": [
    "train_df = pd.concat([feature_train_df,non_feature_train_df])\n",
    "valid_df = pd.concat([feature_validate_df,non_feature_validate_df])\n",
    "test_df = pd.concat([feature_test_df,non_feature_test_df])"
   ]
  },
  {
   "cell_type": "code",
   "execution_count": 17,
   "metadata": {},
   "outputs": [
    {
     "data": {
      "text/plain": [
       "8101"
      ]
     },
     "execution_count": 17,
     "metadata": {},
     "output_type": "execute_result"
    }
   ],
   "source": [
    "len(train_df)+len(valid_df)+len(test_df)"
   ]
  },
  {
   "cell_type": "code",
   "execution_count": 19,
   "metadata": {},
   "outputs": [],
   "source": [
    "# separate out the test data\n",
    "test = TabularList.from_df(test_df, path=BASE_NAME, cat_names=cat_names, cont_names=cont_names)"
   ]
  },
  {
   "cell_type": "code",
   "execution_count": 21,
   "metadata": {},
   "outputs": [],
   "source": [
    "data = (TabularList.from_df(pd.concat([train_df,valid_df]), path=BASE_NAME, cat_names=cat_names, cont_names=cont_names, procs=procs)\n",
    "                           .random_split_by_pct(0.1)\n",
    "                           .label_from_df(cols=dep_var)\n",
    "                           .add_test(test)\n",
    "                           .databunch())"
   ]
  },
  {
   "cell_type": "code",
   "execution_count": 22,
   "metadata": {},
   "outputs": [
    {
     "data": {
      "text/html": [
       "Total time: 00:03 <p><table border=\"1\" class=\"dataframe\">\n",
       "  <thead>\n",
       "    <tr style=\"text-align: left;\">\n",
       "      <th>epoch</th>\n",
       "      <th>train_loss</th>\n",
       "      <th>valid_loss</th>\n",
       "      <th>accuracy</th>\n",
       "      <th>time</th>\n",
       "    </tr>\n",
       "  </thead>\n",
       "  <tbody>\n",
       "    <tr>\n",
       "      <td>1</td>\n",
       "      <td>0.278670</td>\n",
       "      <td>0.291544</td>\n",
       "      <td>0.884265</td>\n",
       "      <td>00:01</td>\n",
       "    </tr>\n",
       "    <tr>\n",
       "      <td>2</td>\n",
       "      <td>0.266530</td>\n",
       "      <td>0.238551</td>\n",
       "      <td>0.903771</td>\n",
       "      <td>00:01</td>\n",
       "    </tr>\n",
       "    <tr>\n",
       "      <td>3</td>\n",
       "      <td>0.260185</td>\n",
       "      <td>0.257725</td>\n",
       "      <td>0.888166</td>\n",
       "      <td>00:01</td>\n",
       "    </tr>\n",
       "  </tbody>\n",
       "</table>"
      ],
      "text/plain": [
       "<IPython.core.display.HTML object>"
      ]
     },
     "metadata": {},
     "output_type": "display_data"
    }
   ],
   "source": [
    "learn = tabular_learner(data, layers=[200,200,200,100], metrics=accuracy)\n",
    "learn.fit(3, 1e-2)"
   ]
  },
  {
   "cell_type": "markdown",
   "metadata": {},
   "source": [
    "## Inference"
   ]
  },
  {
   "cell_type": "code",
   "execution_count": 23,
   "metadata": {},
   "outputs": [],
   "source": [
    "row = df[df.frame_point=='3|42059'].iloc[0]"
   ]
  },
  {
   "cell_type": "code",
   "execution_count": 24,
   "metadata": {},
   "outputs": [
    {
     "data": {
      "text/plain": [
       "index                                                     745\n",
       "frame_id                                                    3\n",
       "point_id                                                42059\n",
       "mz                                                    816.396\n",
       "scan                                                      415\n",
       "intensity                                                 120\n",
       "retention_time_secs                                   4346.61\n",
       "peak_id                                                     0\n",
       "hover                  816.3957 m/z, 415 scan, RT 4346.6 secs\n",
       "frame_point                                           3|42059\n",
       "part_of_feature                                          True\n",
       "Name: 2, dtype: object"
      ]
     },
     "execution_count": 24,
     "metadata": {},
     "output_type": "execute_result"
    }
   ],
   "source": [
    "row"
   ]
  },
  {
   "cell_type": "code",
   "execution_count": 29,
   "metadata": {},
   "outputs": [
    {
     "data": {
      "text/plain": [
       "(<fastai.core.Category at 0x7f4712238dd8>, tensor(0), tensor([0.9924, 0.0076]))"
      ]
     },
     "execution_count": 29,
     "metadata": {},
     "output_type": "execute_result"
    }
   ],
   "source": [
    "pred = learn.predict(row)\n",
    "pred"
   ]
  },
  {
   "cell_type": "code",
   "execution_count": 26,
   "metadata": {},
   "outputs": [
    {
     "data": {
      "text/plain": [
       "[False, True]"
      ]
     },
     "execution_count": 26,
     "metadata": {},
     "output_type": "execute_result"
    }
   ],
   "source": [
    "learn.data.classes"
   ]
  },
  {
   "cell_type": "code",
   "execution_count": 27,
   "metadata": {},
   "outputs": [],
   "source": [
    "probs = pred[2]"
   ]
  },
  {
   "cell_type": "code",
   "execution_count": 28,
   "metadata": {},
   "outputs": [
    {
     "data": {
      "text/plain": [
       "tensor(0.9924)"
      ]
     },
     "execution_count": 28,
     "metadata": {},
     "output_type": "execute_result"
    }
   ],
   "source": [
    "probs[0]"
   ]
  },
  {
   "cell_type": "code",
   "execution_count": null,
   "metadata": {},
   "outputs": [],
   "source": []
  }
 ],
 "metadata": {
  "kernelspec": {
   "display_name": "Environment (conda_pytorch_p36)",
   "language": "python",
   "name": "conda_pytorch_p36"
  },
  "language_info": {
   "codemirror_mode": {
    "name": "ipython",
    "version": 3
   },
   "file_extension": ".py",
   "mimetype": "text/x-python",
   "name": "python",
   "nbconvert_exporter": "python",
   "pygments_lexer": "ipython3",
   "version": "3.6.5"
  }
 },
 "nbformat": 4,
 "nbformat_minor": 2
}
