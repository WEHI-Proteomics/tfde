{
 "cells": [
  {
   "cell_type": "code",
   "execution_count": 71,
   "metadata": {},
   "outputs": [],
   "source": [
    "import pandas as pd\n",
    "import numpy as np\n",
    "import sys\n",
    "import matplotlib.pyplot as plt\n",
    "import glob"
   ]
  },
  {
   "cell_type": "code",
   "execution_count": 72,
   "metadata": {},
   "outputs": [],
   "source": [
    "PROTON_MASS = 1.0073  # Mass of a proton in unified atomic mass units, or Da. For calculating the monoisotopic mass."
   ]
  },
  {
   "cell_type": "code",
   "execution_count": 74,
   "metadata": {},
   "outputs": [],
   "source": [
    "df_list = []\n",
    "for feature_id in range(1,2718+1):\n",
    "    df = pd.read_csv('/Users/darylwilding-mcbride/Downloads/feature-{}-ms2-peaks-before-deconvolution.csv'.format(feature_id))\n",
    "    df_list.append(df)\n",
    "ms2_df = pd.concat(df_list)"
   ]
  },
  {
   "cell_type": "code",
   "execution_count": 75,
   "metadata": {},
   "outputs": [
    {
     "data": {
      "text/html": [
       "<div>\n",
       "<style scoped>\n",
       "    .dataframe tbody tr th:only-of-type {\n",
       "        vertical-align: middle;\n",
       "    }\n",
       "\n",
       "    .dataframe tbody tr th {\n",
       "        vertical-align: top;\n",
       "    }\n",
       "\n",
       "    .dataframe thead th {\n",
       "        text-align: right;\n",
       "    }\n",
       "</style>\n",
       "<table border=\"1\" class=\"dataframe\">\n",
       "  <thead>\n",
       "    <tr style=\"text-align: right;\">\n",
       "      <th></th>\n",
       "      <th>mz</th>\n",
       "      <th>intensity</th>\n",
       "    </tr>\n",
       "  </thead>\n",
       "  <tbody>\n",
       "    <tr>\n",
       "      <th>0</th>\n",
       "      <td>1075.500342</td>\n",
       "      <td>60730.0</td>\n",
       "    </tr>\n",
       "    <tr>\n",
       "      <th>1</th>\n",
       "      <td>946.458172</td>\n",
       "      <td>62844.0</td>\n",
       "    </tr>\n",
       "    <tr>\n",
       "      <th>2</th>\n",
       "      <td>1076.502522</td>\n",
       "      <td>36013.0</td>\n",
       "    </tr>\n",
       "    <tr>\n",
       "      <th>3</th>\n",
       "      <td>875.421389</td>\n",
       "      <td>39861.0</td>\n",
       "    </tr>\n",
       "    <tr>\n",
       "      <th>4</th>\n",
       "      <td>645.368214</td>\n",
       "      <td>33835.0</td>\n",
       "    </tr>\n",
       "  </tbody>\n",
       "</table>\n",
       "</div>"
      ],
      "text/plain": [
       "            mz  intensity\n",
       "0  1075.500342    60730.0\n",
       "1   946.458172    62844.0\n",
       "2  1076.502522    36013.0\n",
       "3   875.421389    39861.0\n",
       "4   645.368214    33835.0"
      ]
     },
     "execution_count": 75,
     "metadata": {},
     "output_type": "execute_result"
    }
   ],
   "source": [
    "ms2_df.head()"
   ]
  },
  {
   "cell_type": "code",
   "execution_count": 43,
   "metadata": {},
   "outputs": [],
   "source": [
    "def peak_within_mass_defect_window(decharged_mass):\n",
    "    nom_mass = round(decharged_mass) # closest nominal mass\n",
    "    mass_centre = nom_mass * 1.00048\n",
    "    width = 0.19 + (0.0001 * nom_mass)\n",
    "    lower_mass = mass_centre - (width / 2)\n",
    "    upper_mass = mass_centre + (width / 2)\n",
    "    return ((decharged_mass >= lower_mass) and (decharged_mass <= upper_mass))"
   ]
  },
  {
   "cell_type": "code",
   "execution_count": 44,
   "metadata": {},
   "outputs": [
    {
     "data": {
      "text/plain": [
       "True"
      ]
     },
     "execution_count": 44,
     "metadata": {},
     "output_type": "execute_result"
    }
   ],
   "source": [
    "peak_within_mass_defect_window(287.1763)"
   ]
  },
  {
   "cell_type": "code",
   "execution_count": 78,
   "metadata": {},
   "outputs": [
    {
     "name": "stdout",
     "output_type": "stream",
     "text": [
      "70.5% of the peaks detected are within a mass defect window\n"
     ]
    }
   ],
   "source": [
    "peaks_within_window = 0\n",
    "total_peaks = len(ms2_df)\n",
    "for idx,peak_df in ms2_df.iterrows():\n",
    "    if peak_within_mass_defect_window(peak_df.mz):\n",
    "        peaks_within_window += 1\n",
    "print(\"{}% of the peaks detected are within a mass defect window\".format(round(peaks_within_window/total_peaks*100,1)))"
   ]
  },
  {
   "cell_type": "code",
   "execution_count": 79,
   "metadata": {},
   "outputs": [],
   "source": [
    "ms2_df['rounded_mz'] = round(ms2_df.mz,2)"
   ]
  },
  {
   "cell_type": "code",
   "execution_count": 83,
   "metadata": {},
   "outputs": [],
   "source": [
    "subset_df = ms2_df[(ms2_df.rounded_mz >= 1500) & (ms2_df.rounded_mz <= 1503)]"
   ]
  },
  {
   "cell_type": "code",
   "execution_count": 85,
   "metadata": {},
   "outputs": [
    {
     "data": {
      "image/png": "[encoded data removed]",
      "text/plain": [
       "<Figure size 1080x576 with 1 Axes>"
      ]
     },
     "metadata": {
      "needs_background": "light"
     },
     "output_type": "display_data"
    }
   ],
   "source": [
    "f, ax1 = plt.subplots()\n",
    "f.set_figheight(8)\n",
    "f.set_figwidth(15)\n",
    "\n",
    "plt.margins(0.06)\n",
    "plt.title('mass distribution')\n",
    "\n",
    "bins = 1000\n",
    "hist, bins, _ = plt.hist(subset_df.rounded_mz, bins=bins)\n",
    "# plt.legend(loc='best')\n",
    "# plt.xlim([1527.0,1530.0])\n",
    "plt.xlabel('mass Da')\n",
    "plt.ylabel('count')\n",
    "\n",
    "plt.show()"
   ]
  },
  {
   "cell_type": "code",
   "execution_count": null,
   "metadata": {},
   "outputs": [],
   "source": []
  }
 ],
 "metadata": {
  "kernelspec": {
   "display_name": "Python 3",
   "language": "python",
   "name": "python3"
  },
  "language_info": {
   "codemirror_mode": {
    "name": "ipython",
    "version": 3
   },
   "file_extension": ".py",
   "mimetype": "text/x-python",
   "name": "python",
   "nbconvert_exporter": "python",
   "pygments_lexer": "ipython3",
   "version": "3.6.8"
  }
 },
 "nbformat": 4,
 "nbformat_minor": 2
}
