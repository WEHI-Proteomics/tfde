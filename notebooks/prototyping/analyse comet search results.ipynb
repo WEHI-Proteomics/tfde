{
 "cells": [
  {
   "cell_type": "code",
   "execution_count": 2,
   "metadata": {},
   "outputs": [],
   "source": [
    "import pandas as pd"
   ]
  },
  {
   "cell_type": "code",
   "execution_count": 3,
   "metadata": {},
   "outputs": [],
   "source": [
    "BASE_NAME = '190719_Hela_Ecoli'"
   ]
  },
  {
   "cell_type": "code",
   "execution_count": 6,
   "metadata": {},
   "outputs": [],
   "source": [
    "peptides_df = pd.read_csv('/Users/darylwilding-mcbride/Downloads/{}/{}.percolator.target.peptides.txt'.format(BASE_NAME, BASE_NAME), sep='\\t')\n",
    "proteins_df = pd.read_csv('/Users/darylwilding-mcbride/Downloads/{}/{}.percolator.target.proteins.txt'.format(BASE_NAME, BASE_NAME), sep='\\t')\n",
    "psms_df = pd.read_csv('/Users/darylwilding-mcbride/Downloads/{}/{}.percolator.target.psms.txt'.format(BASE_NAME, BASE_NAME), sep='\\t')"
   ]
  },
  {
   "cell_type": "code",
   "execution_count": 7,
   "metadata": {},
   "outputs": [],
   "source": [
    "MAXIMUM_Q_VALUE = 0.01"
   ]
  },
  {
   "cell_type": "code",
   "execution_count": 8,
   "metadata": {},
   "outputs": [],
   "source": [
    "peptides_df = peptides_df[peptides_df['percolator q-value'] <= MAXIMUM_Q_VALUE]\n",
    "proteins_df = proteins_df[proteins_df['q-value'] <= MAXIMUM_Q_VALUE]\n",
    "psms_df = psms_df[psms_df['percolator q-value'] <= MAXIMUM_Q_VALUE]"
   ]
  },
  {
   "cell_type": "code",
   "execution_count": 9,
   "metadata": {},
   "outputs": [
    {
     "data": {
      "text/html": [
       "<div>\n",
       "<style scoped>\n",
       "    .dataframe tbody tr th:only-of-type {\n",
       "        vertical-align: middle;\n",
       "    }\n",
       "\n",
       "    .dataframe tbody tr th {\n",
       "        vertical-align: top;\n",
       "    }\n",
       "\n",
       "    .dataframe thead th {\n",
       "        text-align: right;\n",
       "    }\n",
       "</style>\n",
       "<table border=\"1\" class=\"dataframe\">\n",
       "  <thead>\n",
       "    <tr style=\"text-align: right;\">\n",
       "      <th></th>\n",
       "      <th>file_idx</th>\n",
       "      <th>scan</th>\n",
       "      <th>charge</th>\n",
       "      <th>spectrum precursor m/z</th>\n",
       "      <th>spectrum neutral mass</th>\n",
       "      <th>peptide mass</th>\n",
       "      <th>percolator score</th>\n",
       "      <th>percolator q-value</th>\n",
       "      <th>percolator PEP</th>\n",
       "      <th>total matches/spectrum</th>\n",
       "      <th>sequence</th>\n",
       "      <th>protein id</th>\n",
       "      <th>flanking aa</th>\n",
       "    </tr>\n",
       "  </thead>\n",
       "  <tbody>\n",
       "    <tr>\n",
       "      <th>0</th>\n",
       "      <td>0</td>\n",
       "      <td>5561</td>\n",
       "      <td>3</td>\n",
       "      <td>965.1373</td>\n",
       "      <td>2892.3901</td>\n",
       "      <td>2836.3813</td>\n",
       "      <td>2.367485</td>\n",
       "      <td>0.000051</td>\n",
       "      <td>1.997526e-11</td>\n",
       "      <td>121793</td>\n",
       "      <td>ACEEAAEGQVVSPVNFNSPGQVVIAGHK</td>\n",
       "      <td>sp|P0AAI9|FABD_ECOLI</td>\n",
       "      <td>KE</td>\n",
       "    </tr>\n",
       "    <tr>\n",
       "      <th>1</th>\n",
       "      <td>5</td>\n",
       "      <td>20252</td>\n",
       "      <td>2</td>\n",
       "      <td>949.4695</td>\n",
       "      <td>1896.9245</td>\n",
       "      <td>1840.9141</td>\n",
       "      <td>2.097113</td>\n",
       "      <td>0.000051</td>\n",
       "      <td>3.476202e-10</td>\n",
       "      <td>121793</td>\n",
       "      <td>FCGAEGLNNVITLSTFR</td>\n",
       "      <td>sp|P0A862|TPX_ECOLI</td>\n",
       "      <td>RN</td>\n",
       "    </tr>\n",
       "    <tr>\n",
       "      <th>2</th>\n",
       "      <td>7</td>\n",
       "      <td>228</td>\n",
       "      <td>3</td>\n",
       "      <td>1104.1818</td>\n",
       "      <td>3309.5236</td>\n",
       "      <td>3196.4838</td>\n",
       "      <td>2.072579</td>\n",
       "      <td>0.000051</td>\n",
       "      <td>4.504839e-10</td>\n",
       "      <td>121793</td>\n",
       "      <td>EAESCDCLQGFQLTHSLGGGTGSGMGTLLISK</td>\n",
       "      <td>sp|P68371|TBB4B_HUMAN,sp|P07437|TBB5_HUMAN,sp|...</td>\n",
       "      <td>KI</td>\n",
       "    </tr>\n",
       "    <tr>\n",
       "      <th>3</th>\n",
       "      <td>10</td>\n",
       "      <td>4317</td>\n",
       "      <td>2</td>\n",
       "      <td>948.9229</td>\n",
       "      <td>1895.8312</td>\n",
       "      <td>1896.8312</td>\n",
       "      <td>1.985734</td>\n",
       "      <td>0.000051</td>\n",
       "      <td>1.127637e-09</td>\n",
       "      <td>121793</td>\n",
       "      <td>HMNADTDYSIAEAAFNK</td>\n",
       "      <td>sp|P0AEX9|MALE_ECOLI</td>\n",
       "      <td>KG</td>\n",
       "    </tr>\n",
       "    <tr>\n",
       "      <th>4</th>\n",
       "      <td>17</td>\n",
       "      <td>281</td>\n",
       "      <td>2</td>\n",
       "      <td>884.4697</td>\n",
       "      <td>1766.9248</td>\n",
       "      <td>1710.9087</td>\n",
       "      <td>1.906347</td>\n",
       "      <td>0.000051</td>\n",
       "      <td>2.608792e-09</td>\n",
       "      <td>121793</td>\n",
       "      <td>ACANPAAGSVILLENLR</td>\n",
       "      <td>sp|P00558|PGK1_HUMAN</td>\n",
       "      <td>KF</td>\n",
       "    </tr>\n",
       "  </tbody>\n",
       "</table>\n",
       "</div>"
      ],
      "text/plain": [
       "   file_idx   scan  charge  spectrum precursor m/z  spectrum neutral mass  \\\n",
       "0         0   5561       3                965.1373              2892.3901   \n",
       "1         5  20252       2                949.4695              1896.9245   \n",
       "2         7    228       3               1104.1818              3309.5236   \n",
       "3        10   4317       2                948.9229              1895.8312   \n",
       "4        17    281       2                884.4697              1766.9248   \n",
       "\n",
       "   peptide mass  percolator score  percolator q-value  percolator PEP  \\\n",
       "0     2836.3813          2.367485            0.000051    1.997526e-11   \n",
       "1     1840.9141          2.097113            0.000051    3.476202e-10   \n",
       "2     3196.4838          2.072579            0.000051    4.504839e-10   \n",
       "3     1896.8312          1.985734            0.000051    1.127637e-09   \n",
       "4     1710.9087          1.906347            0.000051    2.608792e-09   \n",
       "\n",
       "   total matches/spectrum                          sequence  \\\n",
       "0                  121793      ACEEAAEGQVVSPVNFNSPGQVVIAGHK   \n",
       "1                  121793                 FCGAEGLNNVITLSTFR   \n",
       "2                  121793  EAESCDCLQGFQLTHSLGGGTGSGMGTLLISK   \n",
       "3                  121793                 HMNADTDYSIAEAAFNK   \n",
       "4                  121793                 ACANPAAGSVILLENLR   \n",
       "\n",
       "                                          protein id flanking aa  \n",
       "0                               sp|P0AAI9|FABD_ECOLI          KE  \n",
       "1                                sp|P0A862|TPX_ECOLI          RN  \n",
       "2  sp|P68371|TBB4B_HUMAN,sp|P07437|TBB5_HUMAN,sp|...          KI  \n",
       "3                               sp|P0AEX9|MALE_ECOLI          KG  \n",
       "4                               sp|P00558|PGK1_HUMAN          KF  "
      ]
     },
     "execution_count": 9,
     "metadata": {},
     "output_type": "execute_result"
    }
   ],
   "source": [
    "peptides_df.head()"
   ]
  },
  {
   "cell_type": "code",
   "execution_count": 10,
   "metadata": {},
   "outputs": [
    {
     "data": {
      "text/plain": [
       "28202"
      ]
     },
     "execution_count": 10,
     "metadata": {},
     "output_type": "execute_result"
    }
   ],
   "source": [
    "len(peptides_df)"
   ]
  },
  {
   "cell_type": "code",
   "execution_count": 11,
   "metadata": {},
   "outputs": [
    {
     "name": "stdout",
     "output_type": "stream",
     "text": [
      "28202 unique peptide sequences\n"
     ]
    }
   ],
   "source": [
    "print(\"{} unique peptide sequences\".format(len(peptides_df.sequence.unique())))"
   ]
  },
  {
   "cell_type": "code",
   "execution_count": 12,
   "metadata": {},
   "outputs": [
    {
     "data": {
      "text/html": [
       "<div>\n",
       "<style scoped>\n",
       "    .dataframe tbody tr th:only-of-type {\n",
       "        vertical-align: middle;\n",
       "    }\n",
       "\n",
       "    .dataframe tbody tr th {\n",
       "        vertical-align: top;\n",
       "    }\n",
       "\n",
       "    .dataframe thead th {\n",
       "        text-align: right;\n",
       "    }\n",
       "</style>\n",
       "<table border=\"1\" class=\"dataframe\">\n",
       "  <thead>\n",
       "    <tr style=\"text-align: right;\">\n",
       "      <th></th>\n",
       "      <th>ProteinId</th>\n",
       "      <th>ProteinGroupId</th>\n",
       "      <th>q-value</th>\n",
       "      <th>posterior_error_prob</th>\n",
       "      <th>peptideIds</th>\n",
       "    </tr>\n",
       "  </thead>\n",
       "  <tbody>\n",
       "    <tr>\n",
       "      <th>0</th>\n",
       "      <td>sp|P08729|K2C7_HUMAN</td>\n",
       "      <td>0</td>\n",
       "      <td>0.000148</td>\n",
       "      <td>0.0</td>\n",
       "      <td>LPDIFEAQIAGLR TLNETELTELQSQISDTSVVLSMDNSR LEAA...</td>\n",
       "    </tr>\n",
       "    <tr>\n",
       "      <th>1</th>\n",
       "      <td>sp|P05787|K2C8_HUMAN</td>\n",
       "      <td>1</td>\n",
       "      <td>0.000148</td>\n",
       "      <td>0.0</td>\n",
       "      <td>TTSGYAGGLSSAYGGLTSPGLSYSLGSSFGSGAGSSSFSR ELQSQ...</td>\n",
       "    </tr>\n",
       "    <tr>\n",
       "      <th>2</th>\n",
       "      <td>sp|Q9BUF5|TBB6_HUMAN</td>\n",
       "      <td>2</td>\n",
       "      <td>0.000148</td>\n",
       "      <td>0.0</td>\n",
       "      <td>NSSYFVEWIPNNVK FWEVISDEHGIDPAGGYVGDSALQLER EIV...</td>\n",
       "    </tr>\n",
       "    <tr>\n",
       "      <th>3</th>\n",
       "      <td>sp|P35579|MYH9_HUMAN</td>\n",
       "      <td>3</td>\n",
       "      <td>0.000148</td>\n",
       "      <td>0.0</td>\n",
       "      <td>ELESQISELQEDLESER IAQLEEELEEEQGNTELINDR VEDMAE...</td>\n",
       "    </tr>\n",
       "    <tr>\n",
       "      <th>4</th>\n",
       "      <td>sp|P49792|RBP2_HUMAN</td>\n",
       "      <td>4</td>\n",
       "      <td>0.000148</td>\n",
       "      <td>0.0</td>\n",
       "      <td>EGQWDCSACLVQNEGSSTK SNNSETSSVAQSGSESK AEDIENDA...</td>\n",
       "    </tr>\n",
       "  </tbody>\n",
       "</table>\n",
       "</div>"
      ],
      "text/plain": [
       "              ProteinId  ProteinGroupId   q-value  posterior_error_prob  \\\n",
       "0  sp|P08729|K2C7_HUMAN               0  0.000148                   0.0   \n",
       "1  sp|P05787|K2C8_HUMAN               1  0.000148                   0.0   \n",
       "2  sp|Q9BUF5|TBB6_HUMAN               2  0.000148                   0.0   \n",
       "3  sp|P35579|MYH9_HUMAN               3  0.000148                   0.0   \n",
       "4  sp|P49792|RBP2_HUMAN               4  0.000148                   0.0   \n",
       "\n",
       "                                          peptideIds  \n",
       "0  LPDIFEAQIAGLR TLNETELTELQSQISDTSVVLSMDNSR LEAA...  \n",
       "1  TTSGYAGGLSSAYGGLTSPGLSYSLGSSFGSGAGSSSFSR ELQSQ...  \n",
       "2  NSSYFVEWIPNNVK FWEVISDEHGIDPAGGYVGDSALQLER EIV...  \n",
       "3  ELESQISELQEDLESER IAQLEEELEEEQGNTELINDR VEDMAE...  \n",
       "4  EGQWDCSACLVQNEGSSTK SNNSETSSVAQSGSESK AEDIENDA...  "
      ]
     },
     "execution_count": 12,
     "metadata": {},
     "output_type": "execute_result"
    }
   ],
   "source": [
    "proteins_df.head()"
   ]
  },
  {
   "cell_type": "code",
   "execution_count": 13,
   "metadata": {},
   "outputs": [
    {
     "data": {
      "text/plain": [
       "5456"
      ]
     },
     "execution_count": 13,
     "metadata": {},
     "output_type": "execute_result"
    }
   ],
   "source": [
    "len(proteins_df)"
   ]
  },
  {
   "cell_type": "code",
   "execution_count": 14,
   "metadata": {},
   "outputs": [
    {
     "data": {
      "text/plain": [
       "5456"
      ]
     },
     "execution_count": 14,
     "metadata": {},
     "output_type": "execute_result"
    }
   ],
   "source": [
    "len(proteins_df.ProteinId.unique())"
   ]
  },
  {
   "cell_type": "code",
   "execution_count": 15,
   "metadata": {},
   "outputs": [
    {
     "data": {
      "text/html": [
       "<div>\n",
       "<style scoped>\n",
       "    .dataframe tbody tr th:only-of-type {\n",
       "        vertical-align: middle;\n",
       "    }\n",
       "\n",
       "    .dataframe tbody tr th {\n",
       "        vertical-align: top;\n",
       "    }\n",
       "\n",
       "    .dataframe thead th {\n",
       "        text-align: right;\n",
       "    }\n",
       "</style>\n",
       "<table border=\"1\" class=\"dataframe\">\n",
       "  <thead>\n",
       "    <tr style=\"text-align: right;\">\n",
       "      <th></th>\n",
       "      <th>file_idx</th>\n",
       "      <th>scan</th>\n",
       "      <th>charge</th>\n",
       "      <th>spectrum precursor m/z</th>\n",
       "      <th>spectrum neutral mass</th>\n",
       "      <th>peptide mass</th>\n",
       "      <th>percolator score</th>\n",
       "      <th>percolator q-value</th>\n",
       "      <th>percolator PEP</th>\n",
       "      <th>total matches/spectrum</th>\n",
       "      <th>sequence</th>\n",
       "      <th>protein id</th>\n",
       "      <th>flanking aa</th>\n",
       "    </tr>\n",
       "  </thead>\n",
       "  <tbody>\n",
       "    <tr>\n",
       "      <th>0</th>\n",
       "      <td>0</td>\n",
       "      <td>5561</td>\n",
       "      <td>3</td>\n",
       "      <td>965.1373</td>\n",
       "      <td>2892.3901</td>\n",
       "      <td>2836.3813</td>\n",
       "      <td>2.367485</td>\n",
       "      <td>0.000003</td>\n",
       "      <td>4.233772e-18</td>\n",
       "      <td>121793</td>\n",
       "      <td>ACEEAAEGQVVSPVNFNSPGQVVIAGHK</td>\n",
       "      <td>sp|P0AAI9|FABD_ECOLI</td>\n",
       "      <td>KE</td>\n",
       "    </tr>\n",
       "    <tr>\n",
       "      <th>1</th>\n",
       "      <td>1</td>\n",
       "      <td>12695</td>\n",
       "      <td>3</td>\n",
       "      <td>965.1375</td>\n",
       "      <td>2892.3906</td>\n",
       "      <td>2836.3813</td>\n",
       "      <td>2.300224</td>\n",
       "      <td>0.000003</td>\n",
       "      <td>1.296500e-17</td>\n",
       "      <td>121793</td>\n",
       "      <td>ACEEAAEGQVVSPVNFNSPGQVVIAGHK</td>\n",
       "      <td>sp|P0AAI9|FABD_ECOLI</td>\n",
       "      <td>KE</td>\n",
       "    </tr>\n",
       "    <tr>\n",
       "      <th>2</th>\n",
       "      <td>2</td>\n",
       "      <td>10099</td>\n",
       "      <td>3</td>\n",
       "      <td>965.1386</td>\n",
       "      <td>2892.3940</td>\n",
       "      <td>2836.3813</td>\n",
       "      <td>2.182167</td>\n",
       "      <td>0.000003</td>\n",
       "      <td>9.244463e-17</td>\n",
       "      <td>121793</td>\n",
       "      <td>ACEEAAEGQVVSPVNFNSPGQVVIAGHK</td>\n",
       "      <td>sp|P0AAI9|FABD_ECOLI</td>\n",
       "      <td>KE</td>\n",
       "    </tr>\n",
       "    <tr>\n",
       "      <th>3</th>\n",
       "      <td>3</td>\n",
       "      <td>10212</td>\n",
       "      <td>3</td>\n",
       "      <td>965.1379</td>\n",
       "      <td>2892.3920</td>\n",
       "      <td>2836.3813</td>\n",
       "      <td>2.167468</td>\n",
       "      <td>0.000003</td>\n",
       "      <td>1.180595e-16</td>\n",
       "      <td>121793</td>\n",
       "      <td>ACEEAAEGQVVSPVNFNSPGQVVIAGHK</td>\n",
       "      <td>sp|P0AAI9|FABD_ECOLI</td>\n",
       "      <td>KE</td>\n",
       "    </tr>\n",
       "    <tr>\n",
       "      <th>4</th>\n",
       "      <td>4</td>\n",
       "      <td>8800</td>\n",
       "      <td>3</td>\n",
       "      <td>965.1384</td>\n",
       "      <td>2892.3933</td>\n",
       "      <td>2836.3813</td>\n",
       "      <td>2.161976</td>\n",
       "      <td>0.000003</td>\n",
       "      <td>1.293566e-16</td>\n",
       "      <td>121793</td>\n",
       "      <td>ACEEAAEGQVVSPVNFNSPGQVVIAGHK</td>\n",
       "      <td>sp|P0AAI9|FABD_ECOLI</td>\n",
       "      <td>KE</td>\n",
       "    </tr>\n",
       "  </tbody>\n",
       "</table>\n",
       "</div>"
      ],
      "text/plain": [
       "   file_idx   scan  charge  spectrum precursor m/z  spectrum neutral mass  \\\n",
       "0         0   5561       3                965.1373              2892.3901   \n",
       "1         1  12695       3                965.1375              2892.3906   \n",
       "2         2  10099       3                965.1386              2892.3940   \n",
       "3         3  10212       3                965.1379              2892.3920   \n",
       "4         4   8800       3                965.1384              2892.3933   \n",
       "\n",
       "   peptide mass  percolator score  percolator q-value  percolator PEP  \\\n",
       "0     2836.3813          2.367485            0.000003    4.233772e-18   \n",
       "1     2836.3813          2.300224            0.000003    1.296500e-17   \n",
       "2     2836.3813          2.182167            0.000003    9.244463e-17   \n",
       "3     2836.3813          2.167468            0.000003    1.180595e-16   \n",
       "4     2836.3813          2.161976            0.000003    1.293566e-16   \n",
       "\n",
       "   total matches/spectrum                      sequence            protein id  \\\n",
       "0                  121793  ACEEAAEGQVVSPVNFNSPGQVVIAGHK  sp|P0AAI9|FABD_ECOLI   \n",
       "1                  121793  ACEEAAEGQVVSPVNFNSPGQVVIAGHK  sp|P0AAI9|FABD_ECOLI   \n",
       "2                  121793  ACEEAAEGQVVSPVNFNSPGQVVIAGHK  sp|P0AAI9|FABD_ECOLI   \n",
       "3                  121793  ACEEAAEGQVVSPVNFNSPGQVVIAGHK  sp|P0AAI9|FABD_ECOLI   \n",
       "4                  121793  ACEEAAEGQVVSPVNFNSPGQVVIAGHK  sp|P0AAI9|FABD_ECOLI   \n",
       "\n",
       "  flanking aa  \n",
       "0          KE  \n",
       "1          KE  \n",
       "2          KE  \n",
       "3          KE  \n",
       "4          KE  "
      ]
     },
     "execution_count": 15,
     "metadata": {},
     "output_type": "execute_result"
    }
   ],
   "source": [
    "psms_df.head()"
   ]
  },
  {
   "cell_type": "code",
   "execution_count": 16,
   "metadata": {},
   "outputs": [
    {
     "data": {
      "text/plain": [
       "620122"
      ]
     },
     "execution_count": 16,
     "metadata": {},
     "output_type": "execute_result"
    }
   ],
   "source": [
    "len(psms_df)"
   ]
  },
  {
   "cell_type": "code",
   "execution_count": 17,
   "metadata": {},
   "outputs": [
    {
     "name": "stdout",
     "output_type": "stream",
     "text": [
      "28202 unique peptide sequences, 5456 proteins, 620122 PSMs (q-value <= 0.01)\n"
     ]
    }
   ],
   "source": [
    "print(\"{} unique peptide sequences, {} proteins, {} PSMs (q-value <= {})\".format(len(peptides_df.sequence.unique()), len(proteins_df), len(psms_df), MAXIMUM_Q_VALUE))"
   ]
  },
  {
   "cell_type": "code",
   "execution_count": null,
   "metadata": {},
   "outputs": [],
   "source": []
  }
 ],
 "metadata": {
  "kernelspec": {
   "display_name": "Python 3",
   "language": "python",
   "name": "python3"
  },
  "language_info": {
   "codemirror_mode": {
    "name": "ipython",
    "version": 3
   },
   "file_extension": ".py",
   "mimetype": "text/x-python",
   "name": "python",
   "nbconvert_exporter": "python",
   "pygments_lexer": "ipython3",
   "version": "3.6.8"
  }
 },
 "nbformat": 4,
 "nbformat_minor": 2
}
