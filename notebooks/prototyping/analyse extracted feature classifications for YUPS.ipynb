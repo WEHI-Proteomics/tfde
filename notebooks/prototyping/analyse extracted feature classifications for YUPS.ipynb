{
 "cells": [
  {
   "cell_type": "code",
   "execution_count": 47,
   "metadata": {},
   "outputs": [],
   "source": [
    "import pandas as pd\n",
    "import numpy as np\n",
    "import sqlite3\n",
    "import json\n",
    "import matplotlib.pyplot as plt"
   ]
  },
  {
   "cell_type": "code",
   "execution_count": 48,
   "metadata": {},
   "outputs": [],
   "source": [
    "EXTRACTED_FEATURES_DB_NAME = '/data/experiments/YUPS-R/extracted-features/extracted-features.sqlite'"
   ]
  },
  {
   "cell_type": "code",
   "execution_count": 49,
   "metadata": {},
   "outputs": [],
   "source": [
    "db_conn = sqlite3.connect(EXTRACTED_FEATURES_DB_NAME)\n",
    "sequences_df = pd.read_sql_query(\"select sequence,charge,run_name,human,classed_as from features\", db_conn)\n",
    "db_conn.close()"
   ]
  },
  {
   "cell_type": "code",
   "execution_count": 50,
   "metadata": {},
   "outputs": [
    {
     "data": {
      "text/plain": [
       "array(['decoy', 'target'], dtype=object)"
      ]
     },
     "execution_count": 50,
     "metadata": {},
     "output_type": "execute_result"
    }
   ],
   "source": [
    "sequences_df.classed_as.unique()"
   ]
  },
  {
   "cell_type": "code",
   "execution_count": 51,
   "metadata": {},
   "outputs": [],
   "source": [
    "sequences_df['group'] = sequences_df.run_name.apply(lambda x: x.split('_')[0])"
   ]
  },
  {
   "cell_type": "code",
   "execution_count": 52,
   "metadata": {},
   "outputs": [
    {
     "data": {
      "text/plain": [
       "Index(['sequence', 'charge', 'run_name', 'human', 'classed_as', 'group'], dtype='object')"
      ]
     },
     "execution_count": 52,
     "metadata": {},
     "output_type": "execute_result"
    }
   ],
   "source": [
    "sequences_df.columns"
   ]
  },
  {
   "cell_type": "code",
   "execution_count": 53,
   "metadata": {},
   "outputs": [
    {
     "data": {
      "text/html": [
       "<div>\n",
       "<style scoped>\n",
       "    .dataframe tbody tr th:only-of-type {\n",
       "        vertical-align: middle;\n",
       "    }\n",
       "\n",
       "    .dataframe tbody tr th {\n",
       "        vertical-align: top;\n",
       "    }\n",
       "\n",
       "    .dataframe thead th {\n",
       "        text-align: right;\n",
       "    }\n",
       "</style>\n",
       "<table border=\"1\" class=\"dataframe\">\n",
       "  <thead>\n",
       "    <tr style=\"text-align: right;\">\n",
       "      <th></th>\n",
       "      <th>sequence</th>\n",
       "      <th>charge</th>\n",
       "      <th>run_name</th>\n",
       "      <th>human</th>\n",
       "      <th>group</th>\n",
       "      <th>classed_as</th>\n",
       "    </tr>\n",
       "  </thead>\n",
       "  <tbody>\n",
       "    <tr>\n",
       "      <th>185721</th>\n",
       "      <td>AYLEDFYNFVTEEIPEPAK</td>\n",
       "      <td>2</td>\n",
       "      <td>YeastPlusUPS2_09_Slot1-1_1_3658</td>\n",
       "      <td>0</td>\n",
       "      <td>YeastPlusUPS2</td>\n",
       "      <td>target</td>\n",
       "    </tr>\n",
       "    <tr>\n",
       "      <th>176246</th>\n",
       "      <td>KLDESFEPVR</td>\n",
       "      <td>2</td>\n",
       "      <td>YeastPlusUPS2_03_Slot1-1_1_3650</td>\n",
       "      <td>0</td>\n",
       "      <td>YeastPlusUPS2</td>\n",
       "      <td>target</td>\n",
       "    </tr>\n",
       "    <tr>\n",
       "      <th>285164</th>\n",
       "      <td>LPLTDEQTAEGR</td>\n",
       "      <td>2</td>\n",
       "      <td>YeastPlusUPS1_01_Slot1-1_1_3663</td>\n",
       "      <td>0</td>\n",
       "      <td>YeastPlusUPS1</td>\n",
       "      <td>target</td>\n",
       "    </tr>\n",
       "    <tr>\n",
       "      <th>260383</th>\n",
       "      <td>VNEQETSAQEQEEETAEPSEENEDR</td>\n",
       "      <td>2</td>\n",
       "      <td>YeastPlusUPS1_06_Slot1-1_1_3668</td>\n",
       "      <td>0</td>\n",
       "      <td>YeastPlusUPS1</td>\n",
       "      <td>target</td>\n",
       "    </tr>\n",
       "    <tr>\n",
       "      <th>147573</th>\n",
       "      <td>M[15.9949]LQDNNGPAVK</td>\n",
       "      <td>2</td>\n",
       "      <td>YeastPlusUPS1_08_Slot1-1_1_3670</td>\n",
       "      <td>0</td>\n",
       "      <td>YeastPlusUPS1</td>\n",
       "      <td>target</td>\n",
       "    </tr>\n",
       "  </tbody>\n",
       "</table>\n",
       "</div>"
      ],
      "text/plain": [
       "                         sequence  charge                         run_name  \\\n",
       "185721        AYLEDFYNFVTEEIPEPAK       2  YeastPlusUPS2_09_Slot1-1_1_3658   \n",
       "176246                 KLDESFEPVR       2  YeastPlusUPS2_03_Slot1-1_1_3650   \n",
       "285164               LPLTDEQTAEGR       2  YeastPlusUPS1_01_Slot1-1_1_3663   \n",
       "260383  VNEQETSAQEQEEETAEPSEENEDR       2  YeastPlusUPS1_06_Slot1-1_1_3668   \n",
       "147573       M[15.9949]LQDNNGPAVK       2  YeastPlusUPS1_08_Slot1-1_1_3670   \n",
       "\n",
       "        human          group classed_as  \n",
       "185721      0  YeastPlusUPS2     target  \n",
       "176246      0  YeastPlusUPS2     target  \n",
       "285164      0  YeastPlusUPS1     target  \n",
       "260383      0  YeastPlusUPS1     target  \n",
       "147573      0  YeastPlusUPS1     target  "
      ]
     },
     "execution_count": 53,
     "metadata": {},
     "output_type": "execute_result"
    }
   ],
   "source": [
    "sequences_df[['sequence','charge','run_name','human','group','classed_as']].sample(n=5)"
   ]
  },
  {
   "cell_type": "markdown",
   "metadata": {},
   "source": [
    "#### analyse the UPS1 runs"
   ]
  },
  {
   "cell_type": "code",
   "execution_count": 54,
   "metadata": {},
   "outputs": [],
   "source": [
    "ups1_only_df = sequences_df[(sequences_df.group == 'YeastPlusUPS1')]\n",
    "ups1_only_targets_df = ups1_only_df[(ups1_only_df.classed_as == 'target')]"
   ]
  },
  {
   "cell_type": "code",
   "execution_count": 55,
   "metadata": {},
   "outputs": [
    {
     "name": "stdout",
     "output_type": "stream",
     "text": [
      "there are 10 UPS1 runs in the experiment\n"
     ]
    }
   ],
   "source": [
    "number_of_ups1_runs_in_experiment = len(ups1_only_df.run_name.unique())\n",
    "print('there are {} UPS1 runs in the experiment'.format(number_of_ups1_runs_in_experiment))"
   ]
  },
  {
   "cell_type": "code",
   "execution_count": 56,
   "metadata": {},
   "outputs": [],
   "source": [
    "# count how many runs each sequence/charge was extracted from and classified as a target\n",
    "sequence_occurences_l = []\n",
    "for group_name,group_df in ups1_only_targets_df.groupby(['sequence','charge'], as_index=False):\n",
    "    sequence_occurences_l.append((group_name, len(group_df.run_name.unique()), group_name[0], group_name[1]))\n",
    "ups1_sequence_occurences_df = pd.DataFrame(sequence_occurences_l, columns=['sequence_charge','number_of_runs_targets_extracted','sequence','charge'])"
   ]
  },
  {
   "cell_type": "code",
   "execution_count": 57,
   "metadata": {},
   "outputs": [
    {
     "name": "stdout",
     "output_type": "stream",
     "text": [
      "9.0% of values are missing across the UPS1-only runs.\n"
     ]
    }
   ],
   "source": [
    "# display the number of missing values across the experiment\n",
    "ups1_sequence_occurences_df['missing_files'] = number_of_ups1_runs_in_experiment - ups1_sequence_occurences_df.number_of_runs_targets_extracted\n",
    "proportion_of_missing_values = ups1_sequence_occurences_df.missing_files.sum() / (len(ups1_sequence_occurences_df) * number_of_ups1_runs_in_experiment)\n",
    "print(\"{}% of values are missing across the UPS1-only runs.\".format(round(proportion_of_missing_values*100)))"
   ]
  },
  {
   "cell_type": "code",
   "execution_count": 58,
   "metadata": {},
   "outputs": [
    {
     "data": {
      "text/html": [
       "<div>\n",
       "<style scoped>\n",
       "    .dataframe tbody tr th:only-of-type {\n",
       "        vertical-align: middle;\n",
       "    }\n",
       "\n",
       "    .dataframe tbody tr th {\n",
       "        vertical-align: top;\n",
       "    }\n",
       "\n",
       "    .dataframe thead th {\n",
       "        text-align: right;\n",
       "    }\n",
       "</style>\n",
       "<table border=\"1\" class=\"dataframe\">\n",
       "  <thead>\n",
       "    <tr style=\"text-align: right;\">\n",
       "      <th></th>\n",
       "      <th>sequence</th>\n",
       "      <th>charge</th>\n",
       "      <th>number_of_runs_targets_extracted</th>\n",
       "      <th>missing_files</th>\n",
       "    </tr>\n",
       "  </thead>\n",
       "  <tbody>\n",
       "    <tr>\n",
       "      <th>5527</th>\n",
       "      <td>IDSHVVLSFSGLNADSR</td>\n",
       "      <td>3</td>\n",
       "      <td>10</td>\n",
       "      <td>0</td>\n",
       "    </tr>\n",
       "    <tr>\n",
       "      <th>4717</th>\n",
       "      <td>GYGQYGPTMSVEEFLDKEFEEGR</td>\n",
       "      <td>3</td>\n",
       "      <td>10</td>\n",
       "      <td>0</td>\n",
       "    </tr>\n",
       "    <tr>\n",
       "      <th>3727</th>\n",
       "      <td>FSEGDVVCALCGLVLSDK</td>\n",
       "      <td>2</td>\n",
       "      <td>10</td>\n",
       "      <td>0</td>\n",
       "    </tr>\n",
       "    <tr>\n",
       "      <th>7885</th>\n",
       "      <td>LM[15.9949]TATISADGGGPSEIDPK</td>\n",
       "      <td>2</td>\n",
       "      <td>10</td>\n",
       "      <td>0</td>\n",
       "    </tr>\n",
       "    <tr>\n",
       "      <th>7292</th>\n",
       "      <td>LEDDLESDLLEDIIK</td>\n",
       "      <td>2</td>\n",
       "      <td>10</td>\n",
       "      <td>0</td>\n",
       "    </tr>\n",
       "    <tr>\n",
       "      <th>11338</th>\n",
       "      <td>SKDDAVIDVNDLR</td>\n",
       "      <td>2</td>\n",
       "      <td>10</td>\n",
       "      <td>0</td>\n",
       "    </tr>\n",
       "    <tr>\n",
       "      <th>11288</th>\n",
       "      <td>SILSNDEILNSQAPEELASFNQDWMK</td>\n",
       "      <td>3</td>\n",
       "      <td>10</td>\n",
       "      <td>0</td>\n",
       "    </tr>\n",
       "    <tr>\n",
       "      <th>3240</th>\n",
       "      <td>EYTELEDKVDTIK</td>\n",
       "      <td>2</td>\n",
       "      <td>10</td>\n",
       "      <td>0</td>\n",
       "    </tr>\n",
       "    <tr>\n",
       "      <th>9784</th>\n",
       "      <td>QDSLTQLK</td>\n",
       "      <td>2</td>\n",
       "      <td>10</td>\n",
       "      <td>0</td>\n",
       "    </tr>\n",
       "    <tr>\n",
       "      <th>2231</th>\n",
       "      <td>EDQAPDEDEEGPPPAMPARPTATTETTDATAAAVR</td>\n",
       "      <td>3</td>\n",
       "      <td>10</td>\n",
       "      <td>0</td>\n",
       "    </tr>\n",
       "  </tbody>\n",
       "</table>\n",
       "</div>"
      ],
      "text/plain": [
       "                                  sequence  charge  \\\n",
       "5527                     IDSHVVLSFSGLNADSR       3   \n",
       "4717               GYGQYGPTMSVEEFLDKEFEEGR       3   \n",
       "3727                    FSEGDVVCALCGLVLSDK       2   \n",
       "7885          LM[15.9949]TATISADGGGPSEIDPK       2   \n",
       "7292                       LEDDLESDLLEDIIK       2   \n",
       "11338                        SKDDAVIDVNDLR       2   \n",
       "11288           SILSNDEILNSQAPEELASFNQDWMK       3   \n",
       "3240                         EYTELEDKVDTIK       2   \n",
       "9784                              QDSLTQLK       2   \n",
       "2231   EDQAPDEDEEGPPPAMPARPTATTETTDATAAAVR       3   \n",
       "\n",
       "       number_of_runs_targets_extracted  missing_files  \n",
       "5527                                 10              0  \n",
       "4717                                 10              0  \n",
       "3727                                 10              0  \n",
       "7885                                 10              0  \n",
       "7292                                 10              0  \n",
       "11338                                10              0  \n",
       "11288                                10              0  \n",
       "3240                                 10              0  \n",
       "9784                                 10              0  \n",
       "2231                                 10              0  "
      ]
     },
     "execution_count": 58,
     "metadata": {},
     "output_type": "execute_result"
    }
   ],
   "source": [
    "ups1_sequence_occurences_df.sample(n=10)[['sequence','charge','number_of_runs_targets_extracted','missing_files']]"
   ]
  },
  {
   "cell_type": "code",
   "execution_count": 59,
   "metadata": {},
   "outputs": [
    {
     "data": {
      "text/plain": [
       "0.11643079002430244"
      ]
     },
     "execution_count": 59,
     "metadata": {},
     "output_type": "execute_result"
    }
   ],
   "source": [
    "len(ups1_only_df[ups1_only_df.classed_as == 'decoy']) / len(ups1_only_df)"
   ]
  },
  {
   "cell_type": "code",
   "execution_count": 60,
   "metadata": {},
   "outputs": [
    {
     "data": {
      "text/plain": [
       "14955"
      ]
     },
     "execution_count": 60,
     "metadata": {},
     "output_type": "execute_result"
    }
   ],
   "source": [
    "unique_sequences_ups1_df = ups1_only_targets_df.drop_duplicates(subset=['sequence', 'charge'], keep='first', inplace=False)\n",
    "number_of_unique_sequences_ups1 = len(unique_sequences_ups1_df)\n",
    "number_of_unique_sequences_ups1"
   ]
  },
  {
   "cell_type": "code",
   "execution_count": 61,
   "metadata": {},
   "outputs": [
    {
     "data": {
      "image/png": "[encoded data removed]",
      "text/plain": [
       "<Figure size 1080x576 with 1 Axes>"
      ]
     },
     "metadata": {
      "needs_background": "light"
     },
     "output_type": "display_data"
    }
   ],
   "source": [
    "f, ax1 = plt.subplots()\n",
    "f.set_figheight(8)\n",
    "f.set_figwidth(15)\n",
    "\n",
    "plt.margins(0.06)\n",
    "plt.suptitle('Distribution of sequence identifications in the Yeast+UPS1 runs for TFD_E')\n",
    "plt.title('total {} modified peptide sequences'.format(number_of_unique_sequences_ups1))\n",
    "\n",
    "counts = np.bincount(ups1_sequence_occurences_df.number_of_runs_targets_extracted)\n",
    "ax1.bar(range(11), counts, width=0.8, align='center')\n",
    "plt.xlabel('number of files in which a modified sequence-charge was identified')\n",
    "plt.ylabel('frequency')\n",
    "ax1.set(xticks=range(1,11), xlim=[0, 11])\n",
    "# plt.ylim((0,20000))\n",
    "\n",
    "plt.show()"
   ]
  },
  {
   "cell_type": "markdown",
   "metadata": {},
   "source": [
    "#### now analyse the UPS2 runs"
   ]
  },
  {
   "cell_type": "code",
   "execution_count": 62,
   "metadata": {},
   "outputs": [],
   "source": [
    "ups2_only_df = sequences_df[(sequences_df.group == 'YeastPlusUPS2')]\n",
    "ups2_only_targets_df = ups2_only_df[(ups2_only_df.classed_as == 'target')]"
   ]
  },
  {
   "cell_type": "code",
   "execution_count": 63,
   "metadata": {},
   "outputs": [
    {
     "name": "stdout",
     "output_type": "stream",
     "text": [
      "there are 10 UPS2 runs in the experiment\n"
     ]
    }
   ],
   "source": [
    "number_of_ups2_runs_in_experiment = len(ups1_only_df.run_name.unique())\n",
    "print('there are {} UPS2 runs in the experiment'.format(number_of_ups2_runs_in_experiment))"
   ]
  },
  {
   "cell_type": "code",
   "execution_count": 64,
   "metadata": {},
   "outputs": [],
   "source": [
    "# count how many runs each sequence/charge was extracted from and classified as a target\n",
    "sequence_occurences_l = []\n",
    "for group_name,group_df in ups2_only_targets_df.groupby(['sequence','charge'], as_index=False):\n",
    "    sequence_occurences_l.append((group_name, len(group_df.run_name.unique()), group_name[0], group_name[1]))\n",
    "ups2_sequence_occurences_df = pd.DataFrame(sequence_occurences_l, columns=['sequence_charge','number_of_runs_targets_extracted','sequence','charge'])"
   ]
  },
  {
   "cell_type": "code",
   "execution_count": 65,
   "metadata": {},
   "outputs": [
    {
     "name": "stdout",
     "output_type": "stream",
     "text": [
      "10.0% of values are missing across the UPS2-only runs.\n"
     ]
    }
   ],
   "source": [
    "# display the number of missing values across the experiment\n",
    "ups2_sequence_occurences_df['missing_files'] = number_of_ups2_runs_in_experiment - ups2_sequence_occurences_df.number_of_runs_targets_extracted\n",
    "proportion_of_missing_values = ups2_sequence_occurences_df.missing_files.sum() / (len(ups2_sequence_occurences_df) * number_of_ups2_runs_in_experiment)\n",
    "print(\"{}% of values are missing across the UPS2-only runs.\".format(round(proportion_of_missing_values*100)))"
   ]
  },
  {
   "cell_type": "code",
   "execution_count": 66,
   "metadata": {},
   "outputs": [
    {
     "data": {
      "text/html": [
       "<div>\n",
       "<style scoped>\n",
       "    .dataframe tbody tr th:only-of-type {\n",
       "        vertical-align: middle;\n",
       "    }\n",
       "\n",
       "    .dataframe tbody tr th {\n",
       "        vertical-align: top;\n",
       "    }\n",
       "\n",
       "    .dataframe thead th {\n",
       "        text-align: right;\n",
       "    }\n",
       "</style>\n",
       "<table border=\"1\" class=\"dataframe\">\n",
       "  <thead>\n",
       "    <tr style=\"text-align: right;\">\n",
       "      <th></th>\n",
       "      <th>sequence</th>\n",
       "      <th>charge</th>\n",
       "      <th>number_of_runs_targets_extracted</th>\n",
       "      <th>missing_files</th>\n",
       "    </tr>\n",
       "  </thead>\n",
       "  <tbody>\n",
       "    <tr>\n",
       "      <th>6074</th>\n",
       "      <td>IPVLGHADGICSIYLDEDADLIK</td>\n",
       "      <td>3</td>\n",
       "      <td>10</td>\n",
       "      <td>0</td>\n",
       "    </tr>\n",
       "    <tr>\n",
       "      <th>14459</th>\n",
       "      <td>YGPLLVDIIDPAK</td>\n",
       "      <td>2</td>\n",
       "      <td>10</td>\n",
       "      <td>0</td>\n",
       "    </tr>\n",
       "    <tr>\n",
       "      <th>11399</th>\n",
       "      <td>SLHTLFGDK</td>\n",
       "      <td>2</td>\n",
       "      <td>10</td>\n",
       "      <td>0</td>\n",
       "    </tr>\n",
       "    <tr>\n",
       "      <th>4083</th>\n",
       "      <td>GGNEPLTEWFK</td>\n",
       "      <td>2</td>\n",
       "      <td>10</td>\n",
       "      <td>0</td>\n",
       "    </tr>\n",
       "    <tr>\n",
       "      <th>9806</th>\n",
       "      <td>QGAGSATLSM[15.9949]AFAGAK</td>\n",
       "      <td>2</td>\n",
       "      <td>10</td>\n",
       "      <td>0</td>\n",
       "    </tr>\n",
       "    <tr>\n",
       "      <th>8163</th>\n",
       "      <td>LSEENKQQSGTMHIDTSPSVVSDIISSR</td>\n",
       "      <td>3</td>\n",
       "      <td>10</td>\n",
       "      <td>0</td>\n",
       "    </tr>\n",
       "    <tr>\n",
       "      <th>9142</th>\n",
       "      <td>NISIHPLNEGLIVDAGFLKPLVR</td>\n",
       "      <td>3</td>\n",
       "      <td>10</td>\n",
       "      <td>0</td>\n",
       "    </tr>\n",
       "    <tr>\n",
       "      <th>1035</th>\n",
       "      <td>CGGIDKR</td>\n",
       "      <td>2</td>\n",
       "      <td>10</td>\n",
       "      <td>0</td>\n",
       "    </tr>\n",
       "    <tr>\n",
       "      <th>5616</th>\n",
       "      <td>IFEVEGETHK</td>\n",
       "      <td>2</td>\n",
       "      <td>9</td>\n",
       "      <td>1</td>\n",
       "    </tr>\n",
       "    <tr>\n",
       "      <th>11595</th>\n",
       "      <td>SPLGGIFSDIEHNHCVEK</td>\n",
       "      <td>2</td>\n",
       "      <td>10</td>\n",
       "      <td>0</td>\n",
       "    </tr>\n",
       "  </tbody>\n",
       "</table>\n",
       "</div>"
      ],
      "text/plain": [
       "                           sequence  charge  number_of_runs_targets_extracted  \\\n",
       "6074        IPVLGHADGICSIYLDEDADLIK       3                                10   \n",
       "14459                 YGPLLVDIIDPAK       2                                10   \n",
       "11399                     SLHTLFGDK       2                                10   \n",
       "4083                    GGNEPLTEWFK       2                                10   \n",
       "9806      QGAGSATLSM[15.9949]AFAGAK       2                                10   \n",
       "8163   LSEENKQQSGTMHIDTSPSVVSDIISSR       3                                10   \n",
       "9142        NISIHPLNEGLIVDAGFLKPLVR       3                                10   \n",
       "1035                        CGGIDKR       2                                10   \n",
       "5616                     IFEVEGETHK       2                                 9   \n",
       "11595            SPLGGIFSDIEHNHCVEK       2                                10   \n",
       "\n",
       "       missing_files  \n",
       "6074               0  \n",
       "14459              0  \n",
       "11399              0  \n",
       "4083               0  \n",
       "9806               0  \n",
       "8163               0  \n",
       "9142               0  \n",
       "1035               0  \n",
       "5616               1  \n",
       "11595              0  "
      ]
     },
     "execution_count": 66,
     "metadata": {},
     "output_type": "execute_result"
    }
   ],
   "source": [
    "ups2_sequence_occurences_df.sample(n=10)[['sequence','charge','number_of_runs_targets_extracted','missing_files']]"
   ]
  },
  {
   "cell_type": "code",
   "execution_count": 67,
   "metadata": {},
   "outputs": [
    {
     "data": {
      "text/plain": [
       "0.12734377031701039"
      ]
     },
     "execution_count": 67,
     "metadata": {},
     "output_type": "execute_result"
    }
   ],
   "source": [
    "len(ups2_only_df[ups2_only_df.classed_as == 'decoy']) / len(ups2_only_df)"
   ]
  },
  {
   "cell_type": "code",
   "execution_count": 68,
   "metadata": {},
   "outputs": [
    {
     "data": {
      "text/plain": [
       "14903"
      ]
     },
     "execution_count": 68,
     "metadata": {},
     "output_type": "execute_result"
    }
   ],
   "source": [
    "unique_sequences_ups2_df = ups2_only_targets_df.drop_duplicates(subset=['sequence', 'charge'], keep='first', inplace=False)\n",
    "number_of_unique_sequences_ups2 = len(unique_sequences_ups2_df)\n",
    "number_of_unique_sequences_ups2"
   ]
  },
  {
   "cell_type": "code",
   "execution_count": 69,
   "metadata": {},
   "outputs": [
    {
     "data": {
      "image/png": "[encoded data removed]",
      "text/plain": [
       "<Figure size 1080x576 with 1 Axes>"
      ]
     },
     "metadata": {
      "needs_background": "light"
     },
     "output_type": "display_data"
    }
   ],
   "source": [
    "f, ax1 = plt.subplots()\n",
    "f.set_figheight(8)\n",
    "f.set_figwidth(15)\n",
    "\n",
    "plt.margins(0.06)\n",
    "plt.suptitle('Distribution of sequence identifications in the Yeast+UPS2 runs for TFD_E')\n",
    "plt.title('total {} modified peptide sequences'.format(number_of_unique_sequences_ups2))\n",
    "\n",
    "counts = np.bincount(ups2_sequence_occurences_df.number_of_runs_targets_extracted)\n",
    "ax1.bar(range(11), counts, width=0.8, align='center')\n",
    "plt.xlabel('number of files in which a modified sequence-charge was identified')\n",
    "plt.ylabel('frequency')\n",
    "ax1.set(xticks=range(1,11), xlim=[0, 11])\n",
    "# plt.ylim((0,20000))\n",
    "\n",
    "plt.show()"
   ]
  },
  {
   "cell_type": "code",
   "execution_count": null,
   "metadata": {},
   "outputs": [],
   "source": []
  }
 ],
 "metadata": {
  "kernelspec": {
   "display_name": "Python 3",
   "language": "python",
   "name": "python3"
  },
  "language_info": {
   "codemirror_mode": {
    "name": "ipython",
    "version": 3
   },
   "file_extension": ".py",
   "mimetype": "text/x-python",
   "name": "python",
   "nbconvert_exporter": "python",
   "pygments_lexer": "ipython3",
   "version": "3.6.8"
  }
 },
 "nbformat": 4,
 "nbformat_minor": 2
}
