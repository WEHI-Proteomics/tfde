{
 "cells": [
  {
   "cell_type": "code",
   "execution_count": 23,
   "metadata": {},
   "outputs": [],
   "source": [
    "import sys\n",
    "import sqlite3\n",
    "import pandas as pd\n",
    "import matplotlib.pyplot as plt\n",
    "import numpy as np"
   ]
  },
  {
   "cell_type": "code",
   "execution_count": 24,
   "metadata": {},
   "outputs": [],
   "source": [
    "import ms_deisotope\n",
    "from ms_deisotope.test.common import datafile\n",
    "from ms_deisotope.processor import ScanProcessor\n",
    "from ms_deisotope.scoring import MSDeconVFitter"
   ]
  },
  {
   "cell_type": "code",
   "execution_count": 25,
   "metadata": {},
   "outputs": [],
   "source": [
    "feature_id = 2"
   ]
  },
  {
   "cell_type": "code",
   "execution_count": 26,
   "metadata": {},
   "outputs": [],
   "source": [
    "db_name = '/home/ubuntu/HeLa_20KInt/HeLa_20KInt-features-{}-{}.sqlite'.format(feature_id, feature_id)"
   ]
  },
  {
   "cell_type": "code",
   "execution_count": 27,
   "metadata": {},
   "outputs": [],
   "source": [
    "# get all the feature matches with isolation windows\n",
    "db_conn = sqlite3.connect(db_name)\n",
    "feature_df = pd.read_sql_query(\"select * from feature_list where feature_id={}\".format(feature_id), db_conn)\n",
    "db_conn.close()"
   ]
  },
  {
   "cell_type": "code",
   "execution_count": 28,
   "metadata": {},
   "outputs": [
    {
     "data": {
      "text/html": [
       "<div>\n",
       "<style scoped>\n",
       "    .dataframe tbody tr th:only-of-type {\n",
       "        vertical-align: middle;\n",
       "    }\n",
       "\n",
       "    .dataframe tbody tr th {\n",
       "        vertical-align: top;\n",
       "    }\n",
       "\n",
       "    .dataframe thead th {\n",
       "        text-align: right;\n",
       "    }\n",
       "</style>\n",
       "<table border=\"1\" class=\"dataframe\">\n",
       "  <thead>\n",
       "    <tr style=\"text-align: right;\">\n",
       "      <th></th>\n",
       "      <th>feature_id</th>\n",
       "      <th>charge_state</th>\n",
       "      <th>monoisotopic_mass</th>\n",
       "      <th>feature_centroid_scan</th>\n",
       "      <th>feature_centroid_rt</th>\n",
       "      <th>feature_centroid_mz</th>\n",
       "      <th>feature_start_rt</th>\n",
       "      <th>feature_end_rt</th>\n",
       "      <th>feature_scan_lower</th>\n",
       "      <th>feature_scan_upper</th>\n",
       "      <th>...</th>\n",
       "      <th>base_peak_scan_lower</th>\n",
       "      <th>base_peak_scan_upper</th>\n",
       "      <th>base_peak_centroid_rt</th>\n",
       "      <th>base_peak_std_dev_rt</th>\n",
       "      <th>base_peak_rt_lower</th>\n",
       "      <th>base_peak_rt_upper</th>\n",
       "      <th>base_peak_centroid_mz</th>\n",
       "      <th>base_peak_std_dev_mz</th>\n",
       "      <th>base_peak_mz_lower</th>\n",
       "      <th>base_peak_mz_upper</th>\n",
       "    </tr>\n",
       "  </thead>\n",
       "  <tbody>\n",
       "    <tr>\n",
       "      <th>0</th>\n",
       "      <td>2</td>\n",
       "      <td>2</td>\n",
       "      <td>1247.602054</td>\n",
       "      <td>574.224714</td>\n",
       "      <td>1085.766969</td>\n",
       "      <td>625.127677</td>\n",
       "      <td>1075.17757</td>\n",
       "      <td>1097.628037</td>\n",
       "      <td>565</td>\n",
       "      <td>585</td>\n",
       "      <td>...</td>\n",
       "      <td>565</td>\n",
       "      <td>585</td>\n",
       "      <td>1085.746282</td>\n",
       "      <td>2.179954</td>\n",
       "      <td>1075.17757</td>\n",
       "      <td>1097.628037</td>\n",
       "      <td>624.809083</td>\n",
       "      <td>0.002324</td>\n",
       "      <td>624.778556</td>\n",
       "      <td>624.833736</td>\n",
       "    </tr>\n",
       "  </tbody>\n",
       "</table>\n",
       "<p>1 rows × 38 columns</p>\n",
       "</div>"
      ],
      "text/plain": [
       "   feature_id  charge_state  monoisotopic_mass  feature_centroid_scan  \\\n",
       "0           2             2        1247.602054             574.224714   \n",
       "\n",
       "   feature_centroid_rt  feature_centroid_mz  feature_start_rt  feature_end_rt  \\\n",
       "0          1085.766969           625.127677        1075.17757     1097.628037   \n",
       "\n",
       "   feature_scan_lower  feature_scan_upper         ...          \\\n",
       "0                 565                 585         ...           \n",
       "\n",
       "   base_peak_scan_lower  base_peak_scan_upper  base_peak_centroid_rt  \\\n",
       "0                   565                   585            1085.746282   \n",
       "\n",
       "   base_peak_std_dev_rt  base_peak_rt_lower  base_peak_rt_upper  \\\n",
       "0              2.179954          1075.17757         1097.628037   \n",
       "\n",
       "   base_peak_centroid_mz  base_peak_std_dev_mz  base_peak_mz_lower  \\\n",
       "0             624.809083              0.002324          624.778556   \n",
       "\n",
       "   base_peak_mz_upper  \n",
       "0          624.833736  \n",
       "\n",
       "[1 rows x 38 columns]"
      ]
     },
     "execution_count": 28,
     "metadata": {},
     "output_type": "execute_result"
    }
   ],
   "source": [
    "feature_df"
   ]
  },
  {
   "cell_type": "code",
   "execution_count": 29,
   "metadata": {},
   "outputs": [],
   "source": [
    "feature_charge_state = int(feature_df.charge_state)"
   ]
  },
  {
   "cell_type": "code",
   "execution_count": 30,
   "metadata": {},
   "outputs": [],
   "source": [
    "# get all the feature matches with isolation windows\n",
    "db_conn = sqlite3.connect(db_name)\n",
    "feature_isolation_matches_df = pd.read_sql_query(\"select distinct(precursor_id) from feature_isolation_matches where feature_id={}\".format(feature_id), db_conn)\n",
    "db_conn.close()"
   ]
  },
  {
   "cell_type": "code",
   "execution_count": 31,
   "metadata": {},
   "outputs": [
    {
     "data": {
      "text/html": [
       "<div>\n",
       "<style scoped>\n",
       "    .dataframe tbody tr th:only-of-type {\n",
       "        vertical-align: middle;\n",
       "    }\n",
       "\n",
       "    .dataframe tbody tr th {\n",
       "        vertical-align: top;\n",
       "    }\n",
       "\n",
       "    .dataframe thead th {\n",
       "        text-align: right;\n",
       "    }\n",
       "</style>\n",
       "<table border=\"1\" class=\"dataframe\">\n",
       "  <thead>\n",
       "    <tr style=\"text-align: right;\">\n",
       "      <th></th>\n",
       "      <th>precursor_id</th>\n",
       "    </tr>\n",
       "  </thead>\n",
       "  <tbody>\n",
       "    <tr>\n",
       "      <th>0</th>\n",
       "      <td>26579</td>\n",
       "    </tr>\n",
       "    <tr>\n",
       "      <th>1</th>\n",
       "      <td>26603</td>\n",
       "    </tr>\n",
       "    <tr>\n",
       "      <th>2</th>\n",
       "      <td>26683</td>\n",
       "    </tr>\n",
       "    <tr>\n",
       "      <th>3</th>\n",
       "      <td>27234</td>\n",
       "    </tr>\n",
       "  </tbody>\n",
       "</table>\n",
       "</div>"
      ],
      "text/plain": [
       "   precursor_id\n",
       "0         26579\n",
       "1         26603\n",
       "2         26683\n",
       "3         27234"
      ]
     },
     "execution_count": 31,
     "metadata": {},
     "output_type": "execute_result"
    }
   ],
   "source": [
    "feature_isolation_matches_df"
   ]
  },
  {
   "cell_type": "code",
   "execution_count": 32,
   "metadata": {},
   "outputs": [],
   "source": [
    "precursor_id = 26579"
   ]
  },
  {
   "cell_type": "code",
   "execution_count": 33,
   "metadata": {},
   "outputs": [],
   "source": [
    "# get all the ms2 peaks for this feature\n",
    "db_conn = sqlite3.connect(db_name)\n",
    "ms2_peaks_df = pd.read_sql_query(\"select * from ms2_peaks where feature_id={} and precursor={} order by peak_id ASC\".format(feature_id, precursor_id), db_conn)\n",
    "db_conn.close()"
   ]
  },
  {
   "cell_type": "code",
   "execution_count": 34,
   "metadata": {},
   "outputs": [
    {
     "data": {
      "image/png": "[encoded data removed]",
      "text/plain": [
       "<Figure size 1080x360 with 1 Axes>"
      ]
     },
     "metadata": {},
     "output_type": "display_data"
    }
   ],
   "source": [
    "fig, ax = plt.subplots()\n",
    "fig.set_figheight(5)\n",
    "fig.set_figwidth(15)\n",
    "colors = ['tab:blue', 'tab:orange', 'tab:green', 'tab:red', 'tab:purple', 'tab:brown', 'tab:pink', 'tab:gray', 'tab:olive', 'tab:cyan']\n",
    "ax.stem(ms2_peaks_df.centroid_mz, ms2_peaks_df.intensity, linefmt=\"C1-\", markerfmt=\"C1o\", basefmt=\"C7-\")\n",
    "plt.xlabel('m/z')\n",
    "plt.ylabel('intensity')\n",
    "plt.xlim(200,2250)\n",
    "plt.margins(0.06)\n",
    "plt.title('Ions associated with feature {} and isolation window {} prior to deconvolution & deisotoping'.format(feature_id, precursor_id))\n",
    "plt.show()"
   ]
  },
  {
   "cell_type": "markdown",
   "metadata": {},
   "source": [
    "Deconvolve and deisotope with ms_deisotope"
   ]
  },
  {
   "cell_type": "code",
   "execution_count": 35,
   "metadata": {},
   "outputs": [],
   "source": [
    "mgf_name = '/home/ubuntu/HeLa_20KInt/mgf/feature-{}-precursor-{}.mgf'.format(feature_id,precursor_id)"
   ]
  },
  {
   "cell_type": "code",
   "execution_count": 36,
   "metadata": {},
   "outputs": [],
   "source": [
    "reader = ms_deisotope.MSFileLoader(mgf_name)"
   ]
  },
  {
   "cell_type": "code",
   "execution_count": 37,
   "metadata": {},
   "outputs": [],
   "source": [
    "scan = next(reader)"
   ]
  },
  {
   "cell_type": "code",
   "execution_count": 38,
   "metadata": {},
   "outputs": [],
   "source": [
    "scan.pick_peaks().deconvolute(scorer=ms_deisotope.MSDeconVFitter(10), \n",
    "                              averagine=ms_deisotope.peptide,\n",
    "                              charge_range=(1,feature_charge_state),\n",
    "                              truncate_after=0.8)\n",
    "deconvoluted_peaks = []\n",
    "for peak in scan.deconvoluted_peak_set:\n",
    "    deconvoluted_peaks.append((peak.neutral_mass, peak.intensity))"
   ]
  },
  {
   "cell_type": "code",
   "execution_count": 39,
   "metadata": {},
   "outputs": [],
   "source": [
    "deconvoluted_peaks_df = pd.DataFrame(deconvoluted_peaks, columns=['neutral_mass','intensity'])"
   ]
  },
  {
   "cell_type": "code",
   "execution_count": 40,
   "metadata": {},
   "outputs": [
    {
     "data": {
      "text/html": [
       "<div>\n",
       "<style scoped>\n",
       "    .dataframe tbody tr th:only-of-type {\n",
       "        vertical-align: middle;\n",
       "    }\n",
       "\n",
       "    .dataframe tbody tr th {\n",
       "        vertical-align: top;\n",
       "    }\n",
       "\n",
       "    .dataframe thead th {\n",
       "        text-align: right;\n",
       "    }\n",
       "</style>\n",
       "<table border=\"1\" class=\"dataframe\">\n",
       "  <thead>\n",
       "    <tr style=\"text-align: right;\">\n",
       "      <th></th>\n",
       "      <th>neutral_mass</th>\n",
       "      <th>intensity</th>\n",
       "    </tr>\n",
       "  </thead>\n",
       "  <tbody>\n",
       "    <tr>\n",
       "      <th>0</th>\n",
       "      <td>332.177724</td>\n",
       "      <td>1363.000000</td>\n",
       "    </tr>\n",
       "    <tr>\n",
       "      <th>1</th>\n",
       "      <td>361.102724</td>\n",
       "      <td>184.000000</td>\n",
       "    </tr>\n",
       "    <tr>\n",
       "      <th>2</th>\n",
       "      <td>447.204724</td>\n",
       "      <td>2204.000000</td>\n",
       "    </tr>\n",
       "    <tr>\n",
       "      <th>3</th>\n",
       "      <td>447.211724</td>\n",
       "      <td>542.000000</td>\n",
       "    </tr>\n",
       "    <tr>\n",
       "      <th>4</th>\n",
       "      <td>502.255724</td>\n",
       "      <td>439.000000</td>\n",
       "    </tr>\n",
       "    <tr>\n",
       "      <th>5</th>\n",
       "      <td>508.716724</td>\n",
       "      <td>427.000000</td>\n",
       "    </tr>\n",
       "    <tr>\n",
       "      <th>6</th>\n",
       "      <td>510.169724</td>\n",
       "      <td>168.000000</td>\n",
       "    </tr>\n",
       "    <tr>\n",
       "      <th>7</th>\n",
       "      <td>517.717724</td>\n",
       "      <td>317.000000</td>\n",
       "    </tr>\n",
       "    <tr>\n",
       "      <th>8</th>\n",
       "      <td>560.287724</td>\n",
       "      <td>1923.000000</td>\n",
       "    </tr>\n",
       "    <tr>\n",
       "      <th>9</th>\n",
       "      <td>588.235724</td>\n",
       "      <td>266.000000</td>\n",
       "    </tr>\n",
       "    <tr>\n",
       "      <th>10</th>\n",
       "      <td>601.323724</td>\n",
       "      <td>680.000000</td>\n",
       "    </tr>\n",
       "    <tr>\n",
       "      <th>11</th>\n",
       "      <td>657.307724</td>\n",
       "      <td>343.000000</td>\n",
       "    </tr>\n",
       "    <tr>\n",
       "      <th>12</th>\n",
       "      <td>674.335724</td>\n",
       "      <td>3685.000000</td>\n",
       "    </tr>\n",
       "    <tr>\n",
       "      <th>13</th>\n",
       "      <td>788.422724</td>\n",
       "      <td>448.053254</td>\n",
       "    </tr>\n",
       "    <tr>\n",
       "      <th>14</th>\n",
       "      <td>800.374724</td>\n",
       "      <td>209.000000</td>\n",
       "    </tr>\n",
       "    <tr>\n",
       "      <th>15</th>\n",
       "      <td>834.359724</td>\n",
       "      <td>1974.000000</td>\n",
       "    </tr>\n",
       "    <tr>\n",
       "      <th>16</th>\n",
       "      <td>891.373724</td>\n",
       "      <td>605.000000</td>\n",
       "    </tr>\n",
       "    <tr>\n",
       "      <th>17</th>\n",
       "      <td>891.384724</td>\n",
       "      <td>3269.000000</td>\n",
       "    </tr>\n",
       "    <tr>\n",
       "      <th>18</th>\n",
       "      <td>892.373724</td>\n",
       "      <td>1167.000000</td>\n",
       "    </tr>\n",
       "    <tr>\n",
       "      <th>19</th>\n",
       "      <td>892.401724</td>\n",
       "      <td>246.000000</td>\n",
       "    </tr>\n",
       "    <tr>\n",
       "      <th>20</th>\n",
       "      <td>978.415724</td>\n",
       "      <td>2797.000000</td>\n",
       "    </tr>\n",
       "    <tr>\n",
       "      <th>21</th>\n",
       "      <td>980.420724</td>\n",
       "      <td>548.000000</td>\n",
       "    </tr>\n",
       "    <tr>\n",
       "      <th>22</th>\n",
       "      <td>1018.406724</td>\n",
       "      <td>828.000000</td>\n",
       "    </tr>\n",
       "    <tr>\n",
       "      <th>23</th>\n",
       "      <td>1018.415724</td>\n",
       "      <td>491.152299</td>\n",
       "    </tr>\n",
       "    <tr>\n",
       "      <th>24</th>\n",
       "      <td>1035.407724</td>\n",
       "      <td>1789.000000</td>\n",
       "    </tr>\n",
       "    <tr>\n",
       "      <th>25</th>\n",
       "      <td>1035.434724</td>\n",
       "      <td>14315.000000</td>\n",
       "    </tr>\n",
       "    <tr>\n",
       "      <th>26</th>\n",
       "      <td>1037.440724</td>\n",
       "      <td>2775.000000</td>\n",
       "    </tr>\n",
       "    <tr>\n",
       "      <th>27</th>\n",
       "      <td>1130.495447</td>\n",
       "      <td>698.000000</td>\n",
       "    </tr>\n",
       "    <tr>\n",
       "      <th>28</th>\n",
       "      <td>1148.479724</td>\n",
       "      <td>283.000000</td>\n",
       "    </tr>\n",
       "    <tr>\n",
       "      <th>29</th>\n",
       "      <td>1148.509724</td>\n",
       "      <td>1062.714399</td>\n",
       "    </tr>\n",
       "    <tr>\n",
       "      <th>30</th>\n",
       "      <td>1148.525447</td>\n",
       "      <td>798.000000</td>\n",
       "    </tr>\n",
       "    <tr>\n",
       "      <th>31</th>\n",
       "      <td>1149.535724</td>\n",
       "      <td>350.000000</td>\n",
       "    </tr>\n",
       "    <tr>\n",
       "      <th>32</th>\n",
       "      <td>1574.843447</td>\n",
       "      <td>990.000000</td>\n",
       "    </tr>\n",
       "    <tr>\n",
       "      <th>33</th>\n",
       "      <td>2034.837447</td>\n",
       "      <td>1528.000000</td>\n",
       "    </tr>\n",
       "  </tbody>\n",
       "</table>\n",
       "</div>"
      ],
      "text/plain": [
       "    neutral_mass     intensity\n",
       "0     332.177724   1363.000000\n",
       "1     361.102724    184.000000\n",
       "2     447.204724   2204.000000\n",
       "3     447.211724    542.000000\n",
       "4     502.255724    439.000000\n",
       "5     508.716724    427.000000\n",
       "6     510.169724    168.000000\n",
       "7     517.717724    317.000000\n",
       "8     560.287724   1923.000000\n",
       "9     588.235724    266.000000\n",
       "10    601.323724    680.000000\n",
       "11    657.307724    343.000000\n",
       "12    674.335724   3685.000000\n",
       "13    788.422724    448.053254\n",
       "14    800.374724    209.000000\n",
       "15    834.359724   1974.000000\n",
       "16    891.373724    605.000000\n",
       "17    891.384724   3269.000000\n",
       "18    892.373724   1167.000000\n",
       "19    892.401724    246.000000\n",
       "20    978.415724   2797.000000\n",
       "21    980.420724    548.000000\n",
       "22   1018.406724    828.000000\n",
       "23   1018.415724    491.152299\n",
       "24   1035.407724   1789.000000\n",
       "25   1035.434724  14315.000000\n",
       "26   1037.440724   2775.000000\n",
       "27   1130.495447    698.000000\n",
       "28   1148.479724    283.000000\n",
       "29   1148.509724   1062.714399\n",
       "30   1148.525447    798.000000\n",
       "31   1149.535724    350.000000\n",
       "32   1574.843447    990.000000\n",
       "33   2034.837447   1528.000000"
      ]
     },
     "execution_count": 40,
     "metadata": {},
     "output_type": "execute_result"
    }
   ],
   "source": [
    "deconvoluted_peaks_df"
   ]
  },
  {
   "cell_type": "code",
   "execution_count": 41,
   "metadata": {},
   "outputs": [
    {
     "data": {
      "image/png": "[encoded data removed]",
      "text/plain": [
       "<Figure size 1080x360 with 1 Axes>"
      ]
     },
     "metadata": {},
     "output_type": "display_data"
    }
   ],
   "source": [
    "fig, ax = plt.subplots()\n",
    "fig.set_figheight(5)\n",
    "fig.set_figwidth(15)\n",
    "colors = ['tab:blue', 'tab:orange', 'tab:green', 'tab:red', 'tab:purple', 'tab:brown', 'tab:pink', 'tab:gray', 'tab:olive', 'tab:cyan']\n",
    "ax.stem(deconvoluted_peaks_df.neutral_mass, deconvoluted_peaks_df.intensity, linefmt=\"C1-\", markerfmt=\"C1o\", basefmt=\"C7-\")\n",
    "plt.xlabel('m/z')\n",
    "plt.ylabel('intensity')\n",
    "plt.xlim(200,2250)\n",
    "plt.margins(0.06)\n",
    "plt.title('Ions associated with feature {} and isolation window {} after deconvolution & deisotoping'.format(feature_id, precursor_id))\n",
    "plt.show()"
   ]
  },
  {
   "cell_type": "code",
   "execution_count": null,
   "metadata": {},
   "outputs": [],
   "source": []
  }
 ],
 "metadata": {
  "kernelspec": {
   "display_name": "Python 2",
   "language": "python",
   "name": "python2"
  },
  "language_info": {
   "codemirror_mode": {
    "name": "ipython",
    "version": 2
   },
   "file_extension": ".py",
   "mimetype": "text/x-python",
   "name": "python",
   "nbconvert_exporter": "python",
   "pygments_lexer": "ipython2",
   "version": "2.7.15"
  }
 },
 "nbformat": 4,
 "nbformat_minor": 2
}
