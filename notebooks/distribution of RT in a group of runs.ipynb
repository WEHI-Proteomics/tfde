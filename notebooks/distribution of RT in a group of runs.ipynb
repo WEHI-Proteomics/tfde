{
 "cells": [
  {
   "cell_type": "code",
   "execution_count": 1,
   "metadata": {},
   "outputs": [],
   "source": [
    "import pandas as pd\n",
    "import numpy as np\n",
    "import sqlite3\n",
    "import json\n",
    "import matplotlib.pyplot as plt"
   ]
  },
  {
   "cell_type": "code",
   "execution_count": 2,
   "metadata": {},
   "outputs": [],
   "source": [
    "EXPERIMENT_DIR = '/Users/darylwilding-mcbride/Downloads/experiments/P3856'\n",
    "MAPPING_FILE_NAME = \"{}/percolator-idx-mapping.csv\".format(EXPERIMENT_DIR)"
   ]
  },
  {
   "cell_type": "code",
   "execution_count": 3,
   "metadata": {},
   "outputs": [],
   "source": [
    "# determine the mapping between the percolator index and the run file name\n",
    "def get_percolator_run_mapping(mapping_file_name):\n",
    "    df = pd.read_csv(mapping_file_name)\n",
    "    mapping_l = [tuple(r) for r in df.to_numpy()]\n",
    "    return mapping_l\n",
    "\n",
    "def run_name_for_file_idx(file_idx, run_mapping_l):\n",
    "    result = None\n",
    "    for m in run_mapping_l:\n",
    "        if m[0] == file_idx:\n",
    "            result = m[1]\n",
    "            break\n",
    "    return result"
   ]
  },
  {
   "cell_type": "code",
   "execution_count": 4,
   "metadata": {},
   "outputs": [],
   "source": [
    "run_mapping_l = get_percolator_run_mapping(MAPPING_FILE_NAME)"
   ]
  },
  {
   "cell_type": "code",
   "execution_count": 5,
   "metadata": {},
   "outputs": [],
   "source": [
    "identifications_df = pd.read_pickle('{}/percolator-id-feature-mapping.pkl'.format(EXPERIMENT_DIR))"
   ]
  },
  {
   "cell_type": "code",
   "execution_count": 6,
   "metadata": {},
   "outputs": [],
   "source": [
    "identifications_df['run_name'] = identifications_df.file_idx.apply(lambda x: run_name_for_file_idx(x, run_mapping_l))\n",
    "identifications_df['group'] = identifications_df['run_name'].apply(lambda x: x.split('_')[1])"
   ]
  },
  {
   "cell_type": "code",
   "execution_count": 7,
   "metadata": {},
   "outputs": [
    {
     "data": {
      "text/html": [
       "<div>\n",
       "<style scoped>\n",
       "    .dataframe tbody tr th:only-of-type {\n",
       "        vertical-align: middle;\n",
       "    }\n",
       "\n",
       "    .dataframe tbody tr th {\n",
       "        vertical-align: top;\n",
       "    }\n",
       "\n",
       "    .dataframe thead th {\n",
       "        text-align: right;\n",
       "    }\n",
       "</style>\n",
       "<table border=\"1\" class=\"dataframe\">\n",
       "  <thead>\n",
       "    <tr style=\"text-align: right;\">\n",
       "      <th></th>\n",
       "      <th>file_idx</th>\n",
       "      <th>scan</th>\n",
       "      <th>charge_x</th>\n",
       "      <th>spectrum precursor m/z</th>\n",
       "      <th>spectrum neutral mass</th>\n",
       "      <th>peptide mass</th>\n",
       "      <th>percolator score</th>\n",
       "      <th>percolator q-value</th>\n",
       "      <th>percolator PEP</th>\n",
       "      <th>total matches/spectrum</th>\n",
       "      <th>...</th>\n",
       "      <th>intensity</th>\n",
       "      <th>precursor_id</th>\n",
       "      <th>monoisotopic_mass</th>\n",
       "      <th>predicted_mass_error</th>\n",
       "      <th>recalibrated_monoisotopic_mass</th>\n",
       "      <th>recalibrated_monoisotopic_mz</th>\n",
       "      <th>percolator_idx</th>\n",
       "      <th>human</th>\n",
       "      <th>run_name</th>\n",
       "      <th>group</th>\n",
       "    </tr>\n",
       "  </thead>\n",
       "  <tbody>\n",
       "    <tr>\n",
       "      <th>70594</th>\n",
       "      <td>6</td>\n",
       "      <td>2549501</td>\n",
       "      <td>2</td>\n",
       "      <td>1190.0582</td>\n",
       "      <td>2378.1018</td>\n",
       "      <td>2379.1091</td>\n",
       "      <td>1.249986</td>\n",
       "      <td>0.000004</td>\n",
       "      <td>1.289463e-07</td>\n",
       "      <td>663.613</td>\n",
       "      <td>...</td>\n",
       "      <td>386300.0</td>\n",
       "      <td>25495</td>\n",
       "      <td>2379.101915</td>\n",
       "      <td>-0.007203</td>\n",
       "      <td>2379.109119</td>\n",
       "      <td>1190.561835</td>\n",
       "      <td>6</td>\n",
       "      <td>True</td>\n",
       "      <td>P3856_YHE114_5_Slot1-1_1_5119</td>\n",
       "      <td>YHE114</td>\n",
       "    </tr>\n",
       "    <tr>\n",
       "      <th>560064</th>\n",
       "      <td>2</td>\n",
       "      <td>1805501</td>\n",
       "      <td>1</td>\n",
       "      <td>1073.5596</td>\n",
       "      <td>1072.5523</td>\n",
       "      <td>1073.5604</td>\n",
       "      <td>0.066060</td>\n",
       "      <td>0.003753</td>\n",
       "      <td>1.923035e-01</td>\n",
       "      <td>663.613</td>\n",
       "      <td>...</td>\n",
       "      <td>61836.0</td>\n",
       "      <td>18055</td>\n",
       "      <td>1073.558263</td>\n",
       "      <td>-0.001347</td>\n",
       "      <td>1073.559610</td>\n",
       "      <td>1074.566886</td>\n",
       "      <td>2</td>\n",
       "      <td>True</td>\n",
       "      <td>P3856_YHE010_6_Slot1-1_1_5098</td>\n",
       "      <td>YHE010</td>\n",
       "    </tr>\n",
       "    <tr>\n",
       "      <th>340936</th>\n",
       "      <td>23</td>\n",
       "      <td>746601</td>\n",
       "      <td>2</td>\n",
       "      <td>673.3216</td>\n",
       "      <td>1344.6286</td>\n",
       "      <td>1345.6361</td>\n",
       "      <td>0.682433</td>\n",
       "      <td>0.000017</td>\n",
       "      <td>7.467895e-05</td>\n",
       "      <td>663.613</td>\n",
       "      <td>...</td>\n",
       "      <td>326958.0</td>\n",
       "      <td>7466</td>\n",
       "      <td>1345.632838</td>\n",
       "      <td>-0.003012</td>\n",
       "      <td>1345.635849</td>\n",
       "      <td>673.825201</td>\n",
       "      <td>23</td>\n",
       "      <td>True</td>\n",
       "      <td>P3856_YHE010_8_Slot1-1_1_5100</td>\n",
       "      <td>YHE010</td>\n",
       "    </tr>\n",
       "  </tbody>\n",
       "</table>\n",
       "<p>3 rows × 29 columns</p>\n",
       "</div>"
      ],
      "text/plain": [
       "        file_idx     scan  charge_x  spectrum precursor m/z  \\\n",
       "70594          6  2549501         2               1190.0582   \n",
       "560064         2  1805501         1               1073.5596   \n",
       "340936        23   746601         2                673.3216   \n",
       "\n",
       "        spectrum neutral mass  peptide mass  percolator score  \\\n",
       "70594               2378.1018     2379.1091          1.249986   \n",
       "560064              1072.5523     1073.5604          0.066060   \n",
       "340936              1344.6286     1345.6361          0.682433   \n",
       "\n",
       "        percolator q-value  percolator PEP  total matches/spectrum  ...  \\\n",
       "70594             0.000004    1.289463e-07                 663.613  ...   \n",
       "560064            0.003753    1.923035e-01                 663.613  ...   \n",
       "340936            0.000017    7.467895e-05                 663.613  ...   \n",
       "\n",
       "       intensity precursor_id monoisotopic_mass  predicted_mass_error  \\\n",
       "70594   386300.0        25495       2379.101915             -0.007203   \n",
       "560064   61836.0        18055       1073.558263             -0.001347   \n",
       "340936  326958.0         7466       1345.632838             -0.003012   \n",
       "\n",
       "        recalibrated_monoisotopic_mass  recalibrated_monoisotopic_mz  \\\n",
       "70594                      2379.109119                   1190.561835   \n",
       "560064                     1073.559610                   1074.566886   \n",
       "340936                     1345.635849                    673.825201   \n",
       "\n",
       "        percolator_idx  human                       run_name   group  \n",
       "70594                6   True  P3856_YHE114_5_Slot1-1_1_5119  YHE114  \n",
       "560064               2   True  P3856_YHE010_6_Slot1-1_1_5098  YHE010  \n",
       "340936              23   True  P3856_YHE010_8_Slot1-1_1_5100  YHE010  \n",
       "\n",
       "[3 rows x 29 columns]"
      ]
     },
     "execution_count": 7,
     "metadata": {},
     "output_type": "execute_result"
    }
   ],
   "source": [
    "identifications_df.sample(n=3)"
   ]
  },
  {
   "cell_type": "code",
   "execution_count": 8,
   "metadata": {},
   "outputs": [],
   "source": [
    "selected_peptide = 'YAGEVSHDDK'\n",
    "selected_peptide_charge = 2\n",
    "selected_group = 'YHE114'\n",
    "selected_df = identifications_df[(identifications_df.group == selected_group) & (identifications_df.sequence == selected_peptide) & (identifications_df.charge_x == selected_peptide_charge)]"
   ]
  },
  {
   "cell_type": "code",
   "execution_count": 9,
   "metadata": {},
   "outputs": [
    {
     "data": {
      "image/png": "[encoded data removed]",
      "text/plain": [
       "<Figure size 1080x576 with 1 Axes>"
      ]
     },
     "metadata": {
      "needs_background": "light"
     },
     "output_type": "display_data"
    }
   ],
   "source": [
    "f, ax1 = plt.subplots()\n",
    "f.set_figheight(8)\n",
    "f.set_figwidth(15)\n",
    "\n",
    "plt.margins(0.06)\n",
    "plt.title('Distributuion of RT in {} for features identified as {}, charge {}'.format(selected_group, selected_peptide, selected_peptide_charge))\n",
    "\n",
    "bins = 100\n",
    "hist, bins, _ = plt.hist(selected_df.rt_apex, bins=bins)\n",
    "plt.xlabel('RT apex (seconds)')\n",
    "plt.ylabel('count')\n",
    "\n",
    "# plt.ylim((0,5500))\n",
    "\n",
    "# plt.axvline(x=+1, linestyle=':', linewidth=4, color='orange')\n",
    "# plt.axvline(x=-1, linestyle=':', linewidth=4, color='orange')\n",
    "\n",
    "plt.show()"
   ]
  },
  {
   "cell_type": "code",
   "execution_count": null,
   "metadata": {},
   "outputs": [],
   "source": []
  }
 ],
 "metadata": {
  "kernelspec": {
   "display_name": "Python 3",
   "language": "python",
   "name": "python3"
  },
  "language_info": {
   "codemirror_mode": {
    "name": "ipython",
    "version": 3
   },
   "file_extension": ".py",
   "mimetype": "text/x-python",
   "name": "python",
   "nbconvert_exporter": "python",
   "pygments_lexer": "ipython3",
   "version": "3.6.8"
  }
 },
 "nbformat": 4,
 "nbformat_minor": 4
}
