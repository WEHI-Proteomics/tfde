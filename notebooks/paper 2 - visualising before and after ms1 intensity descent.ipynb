{
 "cells": [
  {
   "cell_type": "code",
   "execution_count": 1,
   "metadata": {},
   "outputs": [],
   "source": [
    "import pandas as pd\n",
    "import numpy as np\n",
    "import sys\n",
    "import matplotlib.pyplot as plt\n",
    "import matplotlib.patches as patches\n",
    "import json"
   ]
  },
  {
   "cell_type": "code",
   "execution_count": 2,
   "metadata": {},
   "outputs": [],
   "source": [
    "# include points from either side of the intense point\n",
    "MS1_PEAK_DELTA = 0.1"
   ]
  },
  {
   "cell_type": "code",
   "execution_count": 3,
   "metadata": {},
   "outputs": [],
   "source": [
    "experiment_base_dir = '/Users/darylwilding-mcbride/Downloads/experiments'\n",
    "EXPERIMENT_NAME = 'P3856'\n",
    "RUN_NAME = 'P3856_YHE211_1_Slot1-1_1_5104'\n",
    "precursor_id = 12291"
   ]
  },
  {
   "cell_type": "markdown",
   "metadata": {},
   "source": [
    "#### download the precursor cuboid\n",
    "gsutil cp gs://inbox-stage/exp-P3856-run-P3856_YHE211_1_Slot1-1_1_5104-precursor-22610-of-52464.zip /data2/experiments/P3856/precursor-cuboids/P3856_YHE211_1_Slot1-1_1_5104\n",
    "#### generate the CSVs\n",
    "python -u ./open-path/pda/process-precursor-cuboid.py -eb /data2/experiments -en P3856 -rn P3856_YHE211_1_Slot1-1_1_5104 -pid 22610 -ini ./open-path/pda/pasef-process-short-gradient.ini -tot 52464\n",
    "#### download the features that were derived prior to recalibration (they had the flag for mono adjustment)\n",
    "scp -i \\~/Documents/AWS\\ keys/dwm-protlab.pem ubuntu@13.238.185.213:~/experiment-features.pkl ~/Downloads/experiments/P3856/features/\n",
    "#### download the precursor cuboids to the local machine\n",
    "scp -r -i ~/Documents/AWS\\ keys/dwm-protlab.pem ubuntu@13.238.185.213:/data2/experiments/P3856/precursor-cuboids/ ~/Downloads/experiments/P3856/precursor-cuboids/"
   ]
  },
  {
   "cell_type": "code",
   "execution_count": 4,
   "metadata": {},
   "outputs": [],
   "source": [
    "# Find the ratio of H(peak_number)/H(peak_number-1) for peak_number=1..6\n",
    "# peak_number = 0 refers to the monoisotopic peak\n",
    "# number_of_sulphur = number of sulphur atoms in the molecule\n",
    "def peak_ratio(monoisotopic_mass, peak_number, number_of_sulphur):\n",
    "    MAX_NUMBER_OF_SULPHUR_ATOMS = 3\n",
    "    MAX_NUMBER_OF_PREDICTED_RATIOS = 6\n",
    "\n",
    "    S0_r = np.empty(MAX_NUMBER_OF_PREDICTED_RATIOS+1, dtype=np.ndarray)\n",
    "    S0_r[1] = np.array([-0.00142320578040, 0.53158267080224, 0.00572776591574, -0.00040226083326, -0.00007968737684])\n",
    "    S0_r[2] = np.array([0.06258138406507, 0.24252967352808, 0.01729736525102, -0.00427641490976, 0.00038011211412])\n",
    "    S0_r[3] = np.array([0.03092092306220, 0.22353930450345, -0.02630395501009, 0.00728183023772, -0.00073155573939])\n",
    "    S0_r[4] = np.array([-0.02490747037406, 0.26363266501679, -0.07330346656184, 0.01876886839392, -0.00176688757979])\n",
    "    S0_r[5] = np.array([-0.19423148776489, 0.45952477474223, -0.18163820209523, 0.04173579115885, -0.00355426505742])\n",
    "    S0_r[6] = np.array([0.04574408690798, -0.05092121193598, 0.13874539944789, -0.04344815868749, 0.00449747222180])\n",
    "\n",
    "    S1_r = np.empty(MAX_NUMBER_OF_PREDICTED_RATIOS+1, dtype=np.ndarray)\n",
    "    S1_r[1] = np.array([-0.01040584267474, 0.53121149663696, 0.00576913817747, -0.00039325152252, -0.00007954180489])\n",
    "    S1_r[2] = np.array([0.37339166598255, -0.15814640001919, 0.24085046064819, -0.06068695741919, 0.00563606634601])\n",
    "    S1_r[3] = np.array([0.06969331604484, 0.28154425636993, -0.08121643989151, 0.02372741957255, -0.00238998426027])\n",
    "    S1_r[4] = np.array([0.04462649178239, 0.23204790123388, -0.06083969521863, 0.01564282892512, -0.00145145206815])\n",
    "    S1_r[5] = np.array([-0.20727547407753, 0.53536509500863, -0.22521649838170, 0.05180965157326, -0.00439750995163])\n",
    "    S1_r[6] = np.array([0.27169670700251, -0.37192045082925, 0.31939855191976, -0.08668833166842, 0.00822975581940])\n",
    "\n",
    "    S2_r = np.empty(MAX_NUMBER_OF_PREDICTED_RATIOS+1, dtype=np.ndarray)\n",
    "    S2_r[1] = np.array([-0.01937823810470, 0.53084210514216, 0.00580573751882, -0.00038281138203, -0.00007958217070])\n",
    "    S2_r[2] = np.array([0.68496829280011, -0.54558176102022, 0.44926662609767, -0.11154849560657, 0.01023294598884])\n",
    "    S2_r[3] = np.array([0.04215807391059, 0.40434195078925, -0.15884974959493, 0.04319968814535, -0.00413693825139])\n",
    "    S2_r[4] = np.array([0.14015578207913, 0.14407679007180, -0.01310480312503, 0.00362292256563, -0.00034189078786])\n",
    "    S2_r[5] = np.array([-0.02549241716294, 0.32153542852101, -0.11409513283836, 0.02617210469576, -0.00221816103608])\n",
    "    S2_r[6] = np.array([-0.14490868030324, 0.33629928307361, -0.08223564735018, 0.01023410734015, -0.00027717589598])\n",
    "\n",
    "    model_params = np.empty(MAX_NUMBER_OF_SULPHUR_ATOMS, dtype=np.ndarray)\n",
    "    model_params[0] = S0_r\n",
    "    model_params[1] = S1_r\n",
    "    model_params[2] = S2_r\n",
    "\n",
    "    ratio = None\n",
    "    if (((1 <= peak_number <= 3) & (((number_of_sulphur == 0) & (498 <= monoisotopic_mass <= 3915)) |\n",
    "                                    ((number_of_sulphur == 1) & (530 <= monoisotopic_mass <= 3947)) |\n",
    "                                    ((number_of_sulphur == 2) & (562 <= monoisotopic_mass <= 3978)))) |\n",
    "       ((peak_number == 4) & (((number_of_sulphur == 0) & (907 <= monoisotopic_mass <= 3915)) |\n",
    "                              ((number_of_sulphur == 1) & (939 <= monoisotopic_mass <= 3947)) |\n",
    "                              ((number_of_sulphur == 2) & (971 <= monoisotopic_mass <= 3978)))) |\n",
    "       ((peak_number == 5) & (((number_of_sulphur == 0) & (1219 <= monoisotopic_mass <= 3915)) |\n",
    "                              ((number_of_sulphur == 1) & (1251 <= monoisotopic_mass <= 3947)) |\n",
    "                              ((number_of_sulphur == 2) & (1283 <= monoisotopic_mass <= 3978)))) |\n",
    "       ((peak_number == 6) & (((number_of_sulphur == 0) & (1559 <= monoisotopic_mass <= 3915)) |\n",
    "                              ((number_of_sulphur == 1) & (1591 <= monoisotopic_mass <= 3947)) |\n",
    "                              ((number_of_sulphur == 2) & (1623 <= monoisotopic_mass <= 3978))))):\n",
    "        beta0 = model_params[number_of_sulphur][peak_number][0]\n",
    "        beta1 = model_params[number_of_sulphur][peak_number][1]\n",
    "        beta2 = model_params[number_of_sulphur][peak_number][2]\n",
    "        beta3 = model_params[number_of_sulphur][peak_number][3]\n",
    "        beta4 = model_params[number_of_sulphur][peak_number][4]\n",
    "        scaled_m = monoisotopic_mass / 1000.0\n",
    "        ratio = beta0 + (beta1*scaled_m) + beta2*(scaled_m**2) + beta3*(scaled_m**3) + beta4*(scaled_m**4)\n",
    "    return ratio\n"
   ]
  },
  {
   "cell_type": "code",
   "execution_count": 5,
   "metadata": {},
   "outputs": [],
   "source": [
    "# inspect the features for this precursor\n",
    "features_df = pd.read_pickle('{}/{}/features/experiment-features.pkl'.format(experiment_base_dir, EXPERIMENT_NAME))"
   ]
  },
  {
   "cell_type": "code",
   "execution_count": 6,
   "metadata": {},
   "outputs": [
    {
     "data": {
      "text/html": [
       "<div>\n",
       "<style scoped>\n",
       "    .dataframe tbody tr th:only-of-type {\n",
       "        vertical-align: middle;\n",
       "    }\n",
       "\n",
       "    .dataframe tbody tr th {\n",
       "        vertical-align: top;\n",
       "    }\n",
       "\n",
       "    .dataframe thead th {\n",
       "        text-align: right;\n",
       "    }\n",
       "</style>\n",
       "<table border=\"1\" class=\"dataframe\">\n",
       "  <thead>\n",
       "    <tr style=\"text-align: right;\">\n",
       "      <th></th>\n",
       "      <th>monoisotopic_mz</th>\n",
       "      <th>charge</th>\n",
       "      <th>intensity</th>\n",
       "      <th>intensity_full_rt_extent</th>\n",
       "      <th>scan_apex</th>\n",
       "      <th>scan_curve_fit</th>\n",
       "      <th>scan_lower</th>\n",
       "      <th>scan_upper</th>\n",
       "      <th>rt_apex</th>\n",
       "      <th>rt_curve_fit</th>\n",
       "      <th>rt_lower</th>\n",
       "      <th>rt_upper</th>\n",
       "      <th>precursor_id</th>\n",
       "      <th>envelope</th>\n",
       "      <th>feature_id</th>\n",
       "      <th>candidate_phr_error</th>\n",
       "      <th>mono_adjusted</th>\n",
       "      <th>original_phr_error</th>\n",
       "      <th>original_phr</th>\n",
       "      <th>monoisotopic_mass</th>\n",
       "    </tr>\n",
       "  </thead>\n",
       "  <tbody>\n",
       "    <tr>\n",
       "      <th>157510</th>\n",
       "      <td>906.939601</td>\n",
       "      <td>2</td>\n",
       "      <td>121945.00000</td>\n",
       "      <td>66579</td>\n",
       "      <td>324.69</td>\n",
       "      <td>True</td>\n",
       "      <td>306.76</td>\n",
       "      <td>342.62</td>\n",
       "      <td>1709.56</td>\n",
       "      <td>True</td>\n",
       "      <td>1699.56</td>\n",
       "      <td>1719.56</td>\n",
       "      <td>12291</td>\n",
       "      <td>((906.9367, 35235.00), (907.4427, 37017.00), (...</td>\n",
       "      <td>1229101</td>\n",
       "      <td>1.16349</td>\n",
       "      <td>False</td>\n",
       "      <td>0.0749937</td>\n",
       "      <td>1.050575</td>\n",
       "      <td>1811.864601</td>\n",
       "    </tr>\n",
       "    <tr>\n",
       "      <th>157511</th>\n",
       "      <td>907.954564</td>\n",
       "      <td>2</td>\n",
       "      <td>56216.41119</td>\n",
       "      <td>60408</td>\n",
       "      <td>333.02</td>\n",
       "      <td>True</td>\n",
       "      <td>313.02</td>\n",
       "      <td>353.02</td>\n",
       "      <td>1705.44</td>\n",
       "      <td>True</td>\n",
       "      <td>1703.41</td>\n",
       "      <td>1707.46</td>\n",
       "      <td>12291</td>\n",
       "      <td>[(907.9578363766449, 10765.935644348487), (908...</td>\n",
       "      <td>1229102</td>\n",
       "      <td>0.0433846</td>\n",
       "      <td>True</td>\n",
       "      <td>0.86922</td>\n",
       "      <td>1.829859</td>\n",
       "      <td>1813.894528</td>\n",
       "    </tr>\n",
       "    <tr>\n",
       "      <th>157512</th>\n",
       "      <td>905.431310</td>\n",
       "      <td>2</td>\n",
       "      <td>36135.00000</td>\n",
       "      <td>32426</td>\n",
       "      <td>338.40</td>\n",
       "      <td>False</td>\n",
       "      <td>318.40</td>\n",
       "      <td>358.40</td>\n",
       "      <td>1705.77</td>\n",
       "      <td>False</td>\n",
       "      <td>1695.77</td>\n",
       "      <td>1715.77</td>\n",
       "      <td>12291</td>\n",
       "      <td>((905.4411, 10939.00), (905.9347, 12619.00), (...</td>\n",
       "      <td>1229103</td>\n",
       "      <td>-0.120908</td>\n",
       "      <td>False</td>\n",
       "      <td>0.182387</td>\n",
       "      <td>1.153579</td>\n",
       "      <td>1808.848020</td>\n",
       "    </tr>\n",
       "    <tr>\n",
       "      <th>157513</th>\n",
       "      <td>906.253226</td>\n",
       "      <td>2</td>\n",
       "      <td>988.00000</td>\n",
       "      <td>555</td>\n",
       "      <td>343.00</td>\n",
       "      <td>False</td>\n",
       "      <td>323.00</td>\n",
       "      <td>363.00</td>\n",
       "      <td>1711.05</td>\n",
       "      <td>False</td>\n",
       "      <td>1701.05</td>\n",
       "      <td>1721.05</td>\n",
       "      <td>12291</td>\n",
       "      <td>((906.2579, 369.00), (906.7552, 405.00), (907....</td>\n",
       "      <td>1229104</td>\n",
       "      <td>0.994863</td>\n",
       "      <td>False</td>\n",
       "      <td>0.123935</td>\n",
       "      <td>1.097561</td>\n",
       "      <td>1810.491853</td>\n",
       "    </tr>\n",
       "  </tbody>\n",
       "</table>\n",
       "</div>"
      ],
      "text/plain": [
       "        monoisotopic_mz  charge     intensity  intensity_full_rt_extent  \\\n",
       "157510       906.939601       2  121945.00000                     66579   \n",
       "157511       907.954564       2   56216.41119                     60408   \n",
       "157512       905.431310       2   36135.00000                     32426   \n",
       "157513       906.253226       2     988.00000                       555   \n",
       "\n",
       "        scan_apex  scan_curve_fit  scan_lower  scan_upper  rt_apex  \\\n",
       "157510     324.69            True      306.76      342.62  1709.56   \n",
       "157511     333.02            True      313.02      353.02  1705.44   \n",
       "157512     338.40           False      318.40      358.40  1705.77   \n",
       "157513     343.00           False      323.00      363.00  1711.05   \n",
       "\n",
       "        rt_curve_fit  rt_lower  rt_upper  precursor_id  \\\n",
       "157510          True   1699.56   1719.56         12291   \n",
       "157511          True   1703.41   1707.46         12291   \n",
       "157512         False   1695.77   1715.77         12291   \n",
       "157513         False   1701.05   1721.05         12291   \n",
       "\n",
       "                                                 envelope  feature_id  \\\n",
       "157510  ((906.9367, 35235.00), (907.4427, 37017.00), (...     1229101   \n",
       "157511  [(907.9578363766449, 10765.935644348487), (908...     1229102   \n",
       "157512  ((905.4411, 10939.00), (905.9347, 12619.00), (...     1229103   \n",
       "157513  ((906.2579, 369.00), (906.7552, 405.00), (907....     1229104   \n",
       "\n",
       "       candidate_phr_error  mono_adjusted original_phr_error  original_phr  \\\n",
       "157510             1.16349          False          0.0749937      1.050575   \n",
       "157511           0.0433846           True            0.86922      1.829859   \n",
       "157512           -0.120908          False           0.182387      1.153579   \n",
       "157513            0.994863          False           0.123935      1.097561   \n",
       "\n",
       "        monoisotopic_mass  \n",
       "157510        1811.864601  \n",
       "157511        1813.894528  \n",
       "157512        1808.848020  \n",
       "157513        1810.491853  "
      ]
     },
     "execution_count": 6,
     "metadata": {},
     "output_type": "execute_result"
    }
   ],
   "source": [
    "features_df[(features_df.precursor_id == precursor_id)]"
   ]
  },
  {
   "cell_type": "code",
   "execution_count": 7,
   "metadata": {},
   "outputs": [],
   "source": [
    "before_df = pd.read_csv('/Users/darylwilding-mcbride/Downloads/{}-{}-ms1-before-intensity-descent-precursor-{}.csv'.format(EXPERIMENT_NAME, RUN_NAME, precursor_id))\n",
    "after_df = pd.read_csv('/Users/darylwilding-mcbride/Downloads/{}-{}-ms1-after-intensity-descent-precursor-{}.csv'.format(EXPERIMENT_NAME, RUN_NAME, precursor_id))\n"
   ]
  },
  {
   "cell_type": "code",
   "execution_count": 8,
   "metadata": {},
   "outputs": [],
   "source": [
    "before_df['normalised_intensity'] = before_df.intensity / before_df.intensity.max()\n",
    "after_df['normalised_intensity'] = after_df.intensity / after_df.intensity.max()"
   ]
  },
  {
   "cell_type": "code",
   "execution_count": 9,
   "metadata": {},
   "outputs": [],
   "source": [
    "tableau20 = [(31, 119, 180), (174, 199, 232), (255, 127, 14), (255, 187, 120),  \n",
    "             (44, 160, 44), (152, 223, 138), (214, 39, 40), (255, 152, 150),  \n",
    "             (148, 103, 189), (197, 176, 213), (140, 86, 75), (196, 156, 148),  \n",
    "             (227, 119, 194), (247, 182, 210), (127, 127, 127), (199, 199, 199),  \n",
    "             (188, 189, 34), (219, 219, 141), (23, 190, 207), (158, 218, 229)]\n",
    "\n",
    "# Rescale to values between 0 and 1\n",
    "tableau20_mpl = tableau20.copy()\n",
    "for i in range(len(tableau20_mpl)):  \n",
    "    r, g, b = tableau20_mpl[i]  \n",
    "    tableau20_mpl[i] = (r / 255., g / 255., b / 255.)"
   ]
  },
  {
   "cell_type": "code",
   "execution_count": 10,
   "metadata": {},
   "outputs": [
    {
     "data": {
      "image/png": "[encoded data removed]",
      "text/plain": [
       "<Figure size 1080x720 with 1 Axes>"
      ]
     },
     "metadata": {
      "needs_background": "light"
     },
     "output_type": "display_data"
    }
   ],
   "source": [
    "f, ax = plt.subplots()\n",
    "colors = ['tab:blue', 'tab:orange', 'tab:green', 'tab:red', 'tab:purple', 'tab:brown', 'tab:pink', 'tab:gray', 'tab:olive', 'tab:cyan']\n",
    "\n",
    "markerline, stemlines, baseline = ax.stem(before_df.mz, before_df.normalised_intensity, use_line_collection=True, label='before')\n",
    "plt.setp(markerline, 'color', colors[1])\n",
    "plt.setp(stemlines, 'color', colors[1])\n",
    "plt.setp(baseline, 'color', colors[7])\n",
    "\n",
    "plt.xlabel('m/z')\n",
    "plt.ylabel('normalised intensity')\n",
    "f.set_figheight(10)\n",
    "f.set_figwidth(15)\n",
    "\n",
    "nearest = 0.5\n",
    "range_l = round(before_df.mz.min() / nearest) * nearest\n",
    "range_u = round(before_df.mz.max() / nearest) * nearest\n",
    "plt.xticks(np.arange(range_l,range_u+nearest,nearest))\n",
    "\n",
    "plt.margins(0.06)\n",
    "plt.legend(loc='best')\n",
    "plt.title('Raw spectra for a precursor cuboid collapsed to the m/z dimension\\nprecursor cuboid {}, run {}, experiment {}'.format(precursor_id, RUN_NAME, EXPERIMENT_NAME))\n",
    "plt.show()"
   ]
  },
  {
   "cell_type": "code",
   "execution_count": 11,
   "metadata": {},
   "outputs": [
    {
     "data": {
      "image/png": "[encoded data removed]",
      "text/plain": [
       "<Figure size 1080x720 with 1 Axes>"
      ]
     },
     "metadata": {
      "needs_background": "light"
     },
     "output_type": "display_data"
    }
   ],
   "source": [
    "f, ax = plt.subplots()\n",
    "colors = ['tab:blue', 'tab:orange', 'tab:green', 'tab:red', 'tab:purple', 'tab:brown', 'tab:pink', 'tab:gray', 'tab:olive', 'tab:cyan']\n",
    "\n",
    "markerline, stemlines, baseline = ax.stem(before_df.mz, before_df.normalised_intensity, use_line_collection=True, label='before')\n",
    "plt.setp(markerline, 'color', colors[1])\n",
    "plt.setp(stemlines, 'color', colors[1])\n",
    "plt.setp(baseline, 'color', colors[7])\n",
    "\n",
    "markerline, stemlines, baseline = ax.stem(after_df.mz, -after_df.normalised_intensity, use_line_collection=True, label='after')\n",
    "plt.setp(markerline, 'color', colors[2])\n",
    "plt.setp(stemlines, 'color', colors[2])\n",
    "plt.setp(baseline, 'color', colors[7])\n",
    "\n",
    "plt.xlabel('m/z')\n",
    "plt.ylabel('normalised intensity')\n",
    "f.set_figheight(10)\n",
    "f.set_figwidth(15)\n",
    "plt.xticks(np.arange(before_df.mz.min(),before_df.mz.max(),0.5))\n",
    "\n",
    "# plt.xlim((608.14,608.47))\n",
    "# plt.ylim((-3000,3000))\n",
    "\n",
    "plt.margins(0.06)\n",
    "plt.legend(loc='best')\n",
    "plt.title('Comparing ms1 spectra before and after intensity descent for a precursor cuboid\\nprecursor cuboid {}, run {}, experiment {}'.format(precursor_id, RUN_NAME, EXPERIMENT_NAME))\n",
    "plt.show()\n"
   ]
  },
  {
   "cell_type": "code",
   "execution_count": 12,
   "metadata": {},
   "outputs": [],
   "source": [
    "# look at the points in the region around a maximum\n",
    "max_intensity_idx = before_df[(before_df.mz >= 907.269) & (before_df.mz <= 907.769)].intensity.idxmax()"
   ]
  },
  {
   "cell_type": "code",
   "execution_count": 13,
   "metadata": {},
   "outputs": [],
   "source": [
    "mz_upper = before_df.loc[max_intensity_idx].mz + MS1_PEAK_DELTA\n",
    "mz_lower = before_df.loc[max_intensity_idx].mz - MS1_PEAK_DELTA"
   ]
  },
  {
   "cell_type": "code",
   "execution_count": 14,
   "metadata": {},
   "outputs": [
    {
     "data": {
      "image/png": "[encoded data removed]",
      "text/plain": [
       "<Figure size 1080x720 with 1 Axes>"
      ]
     },
     "metadata": {
      "needs_background": "light"
     },
     "output_type": "display_data"
    }
   ],
   "source": [
    "f, ax = plt.subplots()\n",
    "colors = ['tab:blue', 'tab:orange', 'tab:green', 'tab:red', 'tab:purple', 'tab:brown', 'tab:pink', 'tab:gray', 'tab:olive', 'tab:cyan']\n",
    "\n",
    "markerline, stemlines, baseline = ax.stem(before_df.mz, before_df.normalised_intensity, use_line_collection=True, label='before')\n",
    "plt.setp(markerline, 'color', colors[1])\n",
    "plt.setp(stemlines, 'color', colors[1])\n",
    "plt.setp(baseline, 'color', colors[7])\n",
    "\n",
    "markerline, stemlines, baseline = ax.stem(after_df.mz, -after_df.normalised_intensity, use_line_collection=True, label='after')\n",
    "plt.setp(markerline, 'color', colors[2])\n",
    "plt.setp(stemlines, 'color', colors[2])\n",
    "plt.setp(baseline, 'color', colors[7])\n",
    "\n",
    "plt.xlabel('m/z')\n",
    "plt.ylabel('normalised intensity')\n",
    "f.set_figheight(10)\n",
    "f.set_figwidth(15)\n",
    "# plt.xticks(np.arange(before_df.mz.min(),before_df.mz.max(),0.05))\n",
    "\n",
    "plt.xlim((mz_lower-0.1,mz_upper+0.1))\n",
    "# plt.ylim((-200,250))\n",
    "\n",
    "rect = patches.Rectangle((mz_lower,0),MS1_PEAK_DELTA*2,1.0,linewidth=1,linestyle=':',edgecolor=(0.2,0.6,0.6,1.0),facecolor=(0.2,0.2,0.4,0.1),fill=True)\n",
    "ax.add_patch(rect)\n",
    "plt.text(mz_lower, 1.02,'inclusion window')\n",
    "\n",
    "plt.margins(0.06)\n",
    "plt.legend(loc='best')\n",
    "plt.title('Comparing ms1 spectra before and after intensity descent for a precursor cuboid\\nprecursor cuboid {}, run {}, experiment {}'.format(precursor_id, RUN_NAME, EXPERIMENT_NAME))\n",
    "plt.show()"
   ]
  },
  {
   "cell_type": "markdown",
   "metadata": {},
   "source": [
    "#### features found in the cuboid with deconvolution"
   ]
  },
  {
   "cell_type": "code",
   "execution_count": 15,
   "metadata": {},
   "outputs": [],
   "source": [
    "after_deconvolution_df = pd.read_csv('/Users/darylwilding-mcbride/Downloads/{}-{}-ms1-after-deconvolution-precursor-{}.csv'.format(EXPERIMENT_NAME, RUN_NAME, precursor_id))"
   ]
  },
  {
   "cell_type": "code",
   "execution_count": 16,
   "metadata": {},
   "outputs": [],
   "source": [
    "after_deconvolution_df['normalised_intensity'] = after_deconvolution_df.intensity / after_deconvolution_df.intensity.max()"
   ]
  },
  {
   "cell_type": "code",
   "execution_count": 17,
   "metadata": {},
   "outputs": [
    {
     "data": {
      "text/html": [
       "<div>\n",
       "<style scoped>\n",
       "    .dataframe tbody tr th:only-of-type {\n",
       "        vertical-align: middle;\n",
       "    }\n",
       "\n",
       "    .dataframe tbody tr th {\n",
       "        vertical-align: top;\n",
       "    }\n",
       "\n",
       "    .dataframe thead th {\n",
       "        text-align: right;\n",
       "    }\n",
       "</style>\n",
       "<table border=\"1\" class=\"dataframe\">\n",
       "  <thead>\n",
       "    <tr style=\"text-align: right;\">\n",
       "      <th></th>\n",
       "      <th>monoisotopic_mz</th>\n",
       "      <th>charge</th>\n",
       "      <th>intensity</th>\n",
       "      <th>intensity_full_rt_extent</th>\n",
       "      <th>scan_apex</th>\n",
       "      <th>scan_curve_fit</th>\n",
       "      <th>scan_lower</th>\n",
       "      <th>scan_upper</th>\n",
       "      <th>rt_apex</th>\n",
       "      <th>rt_curve_fit</th>\n",
       "      <th>rt_lower</th>\n",
       "      <th>rt_upper</th>\n",
       "      <th>precursor_id</th>\n",
       "      <th>envelope</th>\n",
       "      <th>feature_id</th>\n",
       "      <th>normalised_intensity</th>\n",
       "    </tr>\n",
       "  </thead>\n",
       "  <tbody>\n",
       "    <tr>\n",
       "      <th>0</th>\n",
       "      <td>906.939601</td>\n",
       "      <td>2</td>\n",
       "      <td>121945</td>\n",
       "      <td>66579</td>\n",
       "      <td>324.69</td>\n",
       "      <td>True</td>\n",
       "      <td>306.76</td>\n",
       "      <td>342.62</td>\n",
       "      <td>1709.56</td>\n",
       "      <td>True</td>\n",
       "      <td>1699.56</td>\n",
       "      <td>1719.56</td>\n",
       "      <td>12291</td>\n",
       "      <td>[(906.9367, 35235.00), (907.4427, 37017.00), (...</td>\n",
       "      <td>1229101</td>\n",
       "      <td>1.000000</td>\n",
       "    </tr>\n",
       "    <tr>\n",
       "      <th>1</th>\n",
       "      <td>908.456752</td>\n",
       "      <td>2</td>\n",
       "      <td>45449</td>\n",
       "      <td>60408</td>\n",
       "      <td>333.02</td>\n",
       "      <td>True</td>\n",
       "      <td>313.02</td>\n",
       "      <td>353.02</td>\n",
       "      <td>1705.44</td>\n",
       "      <td>True</td>\n",
       "      <td>1703.41</td>\n",
       "      <td>1707.46</td>\n",
       "      <td>12291</td>\n",
       "      <td>[(908.4530, 10996.48), (908.9599, 20122.00), (...</td>\n",
       "      <td>1229102</td>\n",
       "      <td>0.372701</td>\n",
       "    </tr>\n",
       "    <tr>\n",
       "      <th>2</th>\n",
       "      <td>905.431310</td>\n",
       "      <td>2</td>\n",
       "      <td>36135</td>\n",
       "      <td>32426</td>\n",
       "      <td>338.40</td>\n",
       "      <td>False</td>\n",
       "      <td>318.40</td>\n",
       "      <td>358.40</td>\n",
       "      <td>1705.77</td>\n",
       "      <td>False</td>\n",
       "      <td>1695.77</td>\n",
       "      <td>1715.77</td>\n",
       "      <td>12291</td>\n",
       "      <td>[(905.4411, 10939.00), (905.9347, 12619.00), (...</td>\n",
       "      <td>1229103</td>\n",
       "      <td>0.296322</td>\n",
       "    </tr>\n",
       "    <tr>\n",
       "      <th>3</th>\n",
       "      <td>906.253226</td>\n",
       "      <td>2</td>\n",
       "      <td>988</td>\n",
       "      <td>555</td>\n",
       "      <td>343.00</td>\n",
       "      <td>False</td>\n",
       "      <td>323.00</td>\n",
       "      <td>363.00</td>\n",
       "      <td>1711.05</td>\n",
       "      <td>False</td>\n",
       "      <td>1701.05</td>\n",
       "      <td>1721.05</td>\n",
       "      <td>12291</td>\n",
       "      <td>[(906.2579, 369.00), (906.7552, 405.00), (907....</td>\n",
       "      <td>1229104</td>\n",
       "      <td>0.008102</td>\n",
       "    </tr>\n",
       "  </tbody>\n",
       "</table>\n",
       "</div>"
      ],
      "text/plain": [
       "   monoisotopic_mz  charge  intensity  intensity_full_rt_extent  scan_apex  \\\n",
       "0       906.939601       2     121945                     66579     324.69   \n",
       "1       908.456752       2      45449                     60408     333.02   \n",
       "2       905.431310       2      36135                     32426     338.40   \n",
       "3       906.253226       2        988                       555     343.00   \n",
       "\n",
       "   scan_curve_fit  scan_lower  scan_upper  rt_apex  rt_curve_fit  rt_lower  \\\n",
       "0            True      306.76      342.62  1709.56          True   1699.56   \n",
       "1            True      313.02      353.02  1705.44          True   1703.41   \n",
       "2           False      318.40      358.40  1705.77         False   1695.77   \n",
       "3           False      323.00      363.00  1711.05         False   1701.05   \n",
       "\n",
       "   rt_upper  precursor_id                                           envelope  \\\n",
       "0   1719.56         12291  [(906.9367, 35235.00), (907.4427, 37017.00), (...   \n",
       "1   1707.46         12291  [(908.4530, 10996.48), (908.9599, 20122.00), (...   \n",
       "2   1715.77         12291  [(905.4411, 10939.00), (905.9347, 12619.00), (...   \n",
       "3   1721.05         12291  [(906.2579, 369.00), (906.7552, 405.00), (907....   \n",
       "\n",
       "   feature_id  normalised_intensity  \n",
       "0     1229101              1.000000  \n",
       "1     1229102              0.372701  \n",
       "2     1229103              0.296322  \n",
       "3     1229104              0.008102  "
      ]
     },
     "execution_count": 17,
     "metadata": {},
     "output_type": "execute_result"
    }
   ],
   "source": [
    "after_deconvolution_df"
   ]
  },
  {
   "cell_type": "code",
   "execution_count": 18,
   "metadata": {},
   "outputs": [],
   "source": [
    "isotopes_l = []\n",
    "for idx,row in enumerate(after_deconvolution_df.itertuples()):\n",
    "    envelope = eval(row.envelope)\n",
    "    feature_id = row.feature_id\n",
    "    for isotope in envelope:\n",
    "        isotopes_l.append((feature_id,)+isotope)\n",
    "df = pd.DataFrame(isotopes_l, columns=['feature_id','mz','intensity'])\n",
    "df['normalised_intensity'] = df.intensity / df.intensity.max()"
   ]
  },
  {
   "cell_type": "code",
   "execution_count": 19,
   "metadata": {},
   "outputs": [
    {
     "data": {
      "text/html": [
       "<div>\n",
       "<style scoped>\n",
       "    .dataframe tbody tr th:only-of-type {\n",
       "        vertical-align: middle;\n",
       "    }\n",
       "\n",
       "    .dataframe tbody tr th {\n",
       "        vertical-align: top;\n",
       "    }\n",
       "\n",
       "    .dataframe thead th {\n",
       "        text-align: right;\n",
       "    }\n",
       "</style>\n",
       "<table border=\"1\" class=\"dataframe\">\n",
       "  <thead>\n",
       "    <tr style=\"text-align: right;\">\n",
       "      <th></th>\n",
       "      <th>feature_id</th>\n",
       "      <th>mz</th>\n",
       "      <th>intensity</th>\n",
       "      <th>normalised_intensity</th>\n",
       "    </tr>\n",
       "  </thead>\n",
       "  <tbody>\n",
       "    <tr>\n",
       "      <th>0</th>\n",
       "      <td>1229101</td>\n",
       "      <td>906.9367</td>\n",
       "      <td>35235.00</td>\n",
       "      <td>0.951860</td>\n",
       "    </tr>\n",
       "    <tr>\n",
       "      <th>1</th>\n",
       "      <td>1229101</td>\n",
       "      <td>907.4427</td>\n",
       "      <td>37017.00</td>\n",
       "      <td>1.000000</td>\n",
       "    </tr>\n",
       "    <tr>\n",
       "      <th>2</th>\n",
       "      <td>1229101</td>\n",
       "      <td>907.9453</td>\n",
       "      <td>27949.00</td>\n",
       "      <td>0.755031</td>\n",
       "    </tr>\n",
       "    <tr>\n",
       "      <th>3</th>\n",
       "      <td>1229101</td>\n",
       "      <td>908.4530</td>\n",
       "      <td>21744.00</td>\n",
       "      <td>0.587406</td>\n",
       "    </tr>\n",
       "    <tr>\n",
       "      <th>4</th>\n",
       "      <td>1229102</td>\n",
       "      <td>908.4530</td>\n",
       "      <td>10996.48</td>\n",
       "      <td>0.297066</td>\n",
       "    </tr>\n",
       "    <tr>\n",
       "      <th>5</th>\n",
       "      <td>1229102</td>\n",
       "      <td>908.9599</td>\n",
       "      <td>20122.00</td>\n",
       "      <td>0.543588</td>\n",
       "    </tr>\n",
       "    <tr>\n",
       "      <th>6</th>\n",
       "      <td>1229102</td>\n",
       "      <td>909.4568</td>\n",
       "      <td>14331.00</td>\n",
       "      <td>0.387146</td>\n",
       "    </tr>\n",
       "    <tr>\n",
       "      <th>7</th>\n",
       "      <td>1229102</td>\n",
       "      <td>909.9567</td>\n",
       "      <td>1.00</td>\n",
       "      <td>0.000027</td>\n",
       "    </tr>\n",
       "    <tr>\n",
       "      <th>8</th>\n",
       "      <td>1229103</td>\n",
       "      <td>905.4411</td>\n",
       "      <td>10939.00</td>\n",
       "      <td>0.295513</td>\n",
       "    </tr>\n",
       "    <tr>\n",
       "      <th>9</th>\n",
       "      <td>1229103</td>\n",
       "      <td>905.9347</td>\n",
       "      <td>12619.00</td>\n",
       "      <td>0.340897</td>\n",
       "    </tr>\n",
       "    <tr>\n",
       "      <th>10</th>\n",
       "      <td>1229103</td>\n",
       "      <td>906.4244</td>\n",
       "      <td>12577.00</td>\n",
       "      <td>0.339763</td>\n",
       "    </tr>\n",
       "    <tr>\n",
       "      <th>11</th>\n",
       "      <td>1229103</td>\n",
       "      <td>906.9363</td>\n",
       "      <td>1.00</td>\n",
       "      <td>0.000027</td>\n",
       "    </tr>\n",
       "    <tr>\n",
       "      <th>12</th>\n",
       "      <td>1229104</td>\n",
       "      <td>906.2579</td>\n",
       "      <td>369.00</td>\n",
       "      <td>0.009968</td>\n",
       "    </tr>\n",
       "    <tr>\n",
       "      <th>13</th>\n",
       "      <td>1229104</td>\n",
       "      <td>906.7552</td>\n",
       "      <td>405.00</td>\n",
       "      <td>0.010941</td>\n",
       "    </tr>\n",
       "    <tr>\n",
       "      <th>14</th>\n",
       "      <td>1229104</td>\n",
       "      <td>907.2563</td>\n",
       "      <td>214.00</td>\n",
       "      <td>0.005781</td>\n",
       "    </tr>\n",
       "    <tr>\n",
       "      <th>15</th>\n",
       "      <td>1229104</td>\n",
       "      <td>907.7568</td>\n",
       "      <td>1.00</td>\n",
       "      <td>0.000027</td>\n",
       "    </tr>\n",
       "  </tbody>\n",
       "</table>\n",
       "</div>"
      ],
      "text/plain": [
       "    feature_id        mz  intensity  normalised_intensity\n",
       "0      1229101  906.9367   35235.00              0.951860\n",
       "1      1229101  907.4427   37017.00              1.000000\n",
       "2      1229101  907.9453   27949.00              0.755031\n",
       "3      1229101  908.4530   21744.00              0.587406\n",
       "4      1229102  908.4530   10996.48              0.297066\n",
       "5      1229102  908.9599   20122.00              0.543588\n",
       "6      1229102  909.4568   14331.00              0.387146\n",
       "7      1229102  909.9567       1.00              0.000027\n",
       "8      1229103  905.4411   10939.00              0.295513\n",
       "9      1229103  905.9347   12619.00              0.340897\n",
       "10     1229103  906.4244   12577.00              0.339763\n",
       "11     1229103  906.9363       1.00              0.000027\n",
       "12     1229104  906.2579     369.00              0.009968\n",
       "13     1229104  906.7552     405.00              0.010941\n",
       "14     1229104  907.2563     214.00              0.005781\n",
       "15     1229104  907.7568       1.00              0.000027"
      ]
     },
     "execution_count": 19,
     "metadata": {},
     "output_type": "execute_result"
    }
   ],
   "source": [
    "df"
   ]
  },
  {
   "cell_type": "code",
   "execution_count": 20,
   "metadata": {},
   "outputs": [
    {
     "data": {
      "image/png": "[encoded data removed]",
      "text/plain": [
       "<Figure size 1080x720 with 1 Axes>"
      ]
     },
     "metadata": {
      "needs_background": "light"
     },
     "output_type": "display_data"
    }
   ],
   "source": [
    "f, ax = plt.subplots()\n",
    "colors = ['tab:blue', 'tab:orange', 'tab:green', 'tab:red', 'tab:purple', 'tab:brown', 'tab:pink', 'tab:gray', 'tab:olive', 'tab:cyan']\n",
    "\n",
    "markerline, stemlines, baseline = ax.stem(after_df.mz, after_df.normalised_intensity, use_line_collection=True, label='before')\n",
    "plt.setp(markerline, 'color', colors[1])\n",
    "plt.setp(stemlines, 'color', colors[1])\n",
    "plt.setp(baseline, 'color', colors[7])\n",
    "\n",
    "markerline, stemlines, baseline = ax.stem(df.mz, -df.normalised_intensity, use_line_collection=True, label='after')\n",
    "plt.setp(markerline, 'color', colors[2])\n",
    "plt.setp(stemlines, 'color', colors[2])\n",
    "plt.setp(baseline, 'color', colors[7])\n",
    "\n",
    "plt.xlabel('m/z')\n",
    "plt.ylabel('normalised intensity')\n",
    "f.set_figheight(10)\n",
    "f.set_figwidth(15)\n",
    "# plt.xticks(np.arange(after_deconvolution_df.mz.min(),after_deconvolution_df.mz.max(),0.05))\n",
    "\n",
    "# plt.xlim((608.14,608.47))\n",
    "# plt.ylim((-200,250))\n",
    "\n",
    "for idx,row in enumerate(after_deconvolution_df.itertuples()):\n",
    "    envelope = eval(row.envelope)\n",
    "    feature_id = row.feature_id\n",
    "    env_width = envelope[-1][0] - envelope[0][0]\n",
    "    rect = patches.Rectangle((envelope[0][0],0),env_width,-1.0,linewidth=1,linestyle=(0,(5,2)),edgecolor=(0.2,0.6,0.6,1.0),facecolor=tuple(i/255. for i in tableau20[idx+1])+(0.3,),fill=True)\n",
    "    ax.add_patch(rect)\n",
    "    plt.text(envelope[0][0], -1.05, 'feature {}'.format(feature_id))\n",
    "\n",
    "plt.margins(0.06)\n",
    "plt.legend(loc='best')\n",
    "plt.title('Comparing ms1 spectra before and after deconvolution for a precursor cuboid\\nprecursor cuboid {}, run {}, experiment {}'.format(precursor_id, RUN_NAME, EXPERIMENT_NAME))\n",
    "plt.show()"
   ]
  },
  {
   "cell_type": "code",
   "execution_count": 21,
   "metadata": {},
   "outputs": [
    {
     "data": {
      "text/html": [
       "<div>\n",
       "<style scoped>\n",
       "    .dataframe tbody tr th:only-of-type {\n",
       "        vertical-align: middle;\n",
       "    }\n",
       "\n",
       "    .dataframe tbody tr th {\n",
       "        vertical-align: top;\n",
       "    }\n",
       "\n",
       "    .dataframe thead th {\n",
       "        text-align: right;\n",
       "    }\n",
       "</style>\n",
       "<table border=\"1\" class=\"dataframe\">\n",
       "  <thead>\n",
       "    <tr style=\"text-align: right;\">\n",
       "      <th></th>\n",
       "      <th>monoisotopic_mz</th>\n",
       "      <th>charge</th>\n",
       "      <th>intensity</th>\n",
       "      <th>intensity_full_rt_extent</th>\n",
       "      <th>scan_apex</th>\n",
       "      <th>scan_curve_fit</th>\n",
       "      <th>scan_lower</th>\n",
       "      <th>scan_upper</th>\n",
       "      <th>rt_apex</th>\n",
       "      <th>rt_curve_fit</th>\n",
       "      <th>rt_lower</th>\n",
       "      <th>rt_upper</th>\n",
       "      <th>precursor_id</th>\n",
       "      <th>envelope</th>\n",
       "      <th>feature_id</th>\n",
       "      <th>candidate_phr_error</th>\n",
       "      <th>mono_adjusted</th>\n",
       "      <th>original_phr_error</th>\n",
       "      <th>original_phr</th>\n",
       "      <th>monoisotopic_mass</th>\n",
       "    </tr>\n",
       "  </thead>\n",
       "  <tbody>\n",
       "    <tr>\n",
       "      <th>157510</th>\n",
       "      <td>906.939601</td>\n",
       "      <td>2</td>\n",
       "      <td>121945.00000</td>\n",
       "      <td>66579</td>\n",
       "      <td>324.69</td>\n",
       "      <td>True</td>\n",
       "      <td>306.76</td>\n",
       "      <td>342.62</td>\n",
       "      <td>1709.56</td>\n",
       "      <td>True</td>\n",
       "      <td>1699.56</td>\n",
       "      <td>1719.56</td>\n",
       "      <td>12291</td>\n",
       "      <td>((906.9367, 35235.00), (907.4427, 37017.00), (...</td>\n",
       "      <td>1229101</td>\n",
       "      <td>1.16349</td>\n",
       "      <td>False</td>\n",
       "      <td>0.0749937</td>\n",
       "      <td>1.050575</td>\n",
       "      <td>1811.864601</td>\n",
       "    </tr>\n",
       "    <tr>\n",
       "      <th>157511</th>\n",
       "      <td>907.954564</td>\n",
       "      <td>2</td>\n",
       "      <td>56216.41119</td>\n",
       "      <td>60408</td>\n",
       "      <td>333.02</td>\n",
       "      <td>True</td>\n",
       "      <td>313.02</td>\n",
       "      <td>353.02</td>\n",
       "      <td>1705.44</td>\n",
       "      <td>True</td>\n",
       "      <td>1703.41</td>\n",
       "      <td>1707.46</td>\n",
       "      <td>12291</td>\n",
       "      <td>[(907.9578363766449, 10765.935644348487), (908...</td>\n",
       "      <td>1229102</td>\n",
       "      <td>0.0433846</td>\n",
       "      <td>True</td>\n",
       "      <td>0.86922</td>\n",
       "      <td>1.829859</td>\n",
       "      <td>1813.894528</td>\n",
       "    </tr>\n",
       "    <tr>\n",
       "      <th>157512</th>\n",
       "      <td>905.431310</td>\n",
       "      <td>2</td>\n",
       "      <td>36135.00000</td>\n",
       "      <td>32426</td>\n",
       "      <td>338.40</td>\n",
       "      <td>False</td>\n",
       "      <td>318.40</td>\n",
       "      <td>358.40</td>\n",
       "      <td>1705.77</td>\n",
       "      <td>False</td>\n",
       "      <td>1695.77</td>\n",
       "      <td>1715.77</td>\n",
       "      <td>12291</td>\n",
       "      <td>((905.4411, 10939.00), (905.9347, 12619.00), (...</td>\n",
       "      <td>1229103</td>\n",
       "      <td>-0.120908</td>\n",
       "      <td>False</td>\n",
       "      <td>0.182387</td>\n",
       "      <td>1.153579</td>\n",
       "      <td>1808.848020</td>\n",
       "    </tr>\n",
       "    <tr>\n",
       "      <th>157513</th>\n",
       "      <td>906.253226</td>\n",
       "      <td>2</td>\n",
       "      <td>988.00000</td>\n",
       "      <td>555</td>\n",
       "      <td>343.00</td>\n",
       "      <td>False</td>\n",
       "      <td>323.00</td>\n",
       "      <td>363.00</td>\n",
       "      <td>1711.05</td>\n",
       "      <td>False</td>\n",
       "      <td>1701.05</td>\n",
       "      <td>1721.05</td>\n",
       "      <td>12291</td>\n",
       "      <td>((906.2579, 369.00), (906.7552, 405.00), (907....</td>\n",
       "      <td>1229104</td>\n",
       "      <td>0.994863</td>\n",
       "      <td>False</td>\n",
       "      <td>0.123935</td>\n",
       "      <td>1.097561</td>\n",
       "      <td>1810.491853</td>\n",
       "    </tr>\n",
       "  </tbody>\n",
       "</table>\n",
       "</div>"
      ],
      "text/plain": [
       "        monoisotopic_mz  charge     intensity  intensity_full_rt_extent  \\\n",
       "157510       906.939601       2  121945.00000                     66579   \n",
       "157511       907.954564       2   56216.41119                     60408   \n",
       "157512       905.431310       2   36135.00000                     32426   \n",
       "157513       906.253226       2     988.00000                       555   \n",
       "\n",
       "        scan_apex  scan_curve_fit  scan_lower  scan_upper  rt_apex  \\\n",
       "157510     324.69            True      306.76      342.62  1709.56   \n",
       "157511     333.02            True      313.02      353.02  1705.44   \n",
       "157512     338.40           False      318.40      358.40  1705.77   \n",
       "157513     343.00           False      323.00      363.00  1711.05   \n",
       "\n",
       "        rt_curve_fit  rt_lower  rt_upper  precursor_id  \\\n",
       "157510          True   1699.56   1719.56         12291   \n",
       "157511          True   1703.41   1707.46         12291   \n",
       "157512         False   1695.77   1715.77         12291   \n",
       "157513         False   1701.05   1721.05         12291   \n",
       "\n",
       "                                                 envelope  feature_id  \\\n",
       "157510  ((906.9367, 35235.00), (907.4427, 37017.00), (...     1229101   \n",
       "157511  [(907.9578363766449, 10765.935644348487), (908...     1229102   \n",
       "157512  ((905.4411, 10939.00), (905.9347, 12619.00), (...     1229103   \n",
       "157513  ((906.2579, 369.00), (906.7552, 405.00), (907....     1229104   \n",
       "\n",
       "       candidate_phr_error  mono_adjusted original_phr_error  original_phr  \\\n",
       "157510             1.16349          False          0.0749937      1.050575   \n",
       "157511           0.0433846           True            0.86922      1.829859   \n",
       "157512           -0.120908          False           0.182387      1.153579   \n",
       "157513            0.994863          False           0.123935      1.097561   \n",
       "\n",
       "        monoisotopic_mass  \n",
       "157510        1811.864601  \n",
       "157511        1813.894528  \n",
       "157512        1808.848020  \n",
       "157513        1810.491853  "
      ]
     },
     "execution_count": 21,
     "metadata": {},
     "output_type": "execute_result"
    }
   ],
   "source": [
    "# the derived feature attributes\n",
    "features_df[(features_df.precursor_id == precursor_id)]"
   ]
  },
  {
   "cell_type": "markdown",
   "metadata": {},
   "source": [
    "#### only looking at one of the features that was mono-adjusted"
   ]
  },
  {
   "cell_type": "code",
   "execution_count": 22,
   "metadata": {},
   "outputs": [],
   "source": [
    "feature_id = 1229103"
   ]
  },
  {
   "cell_type": "code",
   "execution_count": 23,
   "metadata": {},
   "outputs": [
    {
     "data": {
      "text/plain": [
       "monoisotopic_mz                                                       905.431\n",
       "charge                                                                      2\n",
       "intensity                                                               36135\n",
       "intensity_full_rt_extent                                                32426\n",
       "scan_apex                                                               338.4\n",
       "scan_curve_fit                                                          False\n",
       "scan_lower                                                              318.4\n",
       "scan_upper                                                              358.4\n",
       "rt_apex                                                               1705.77\n",
       "rt_curve_fit                                                            False\n",
       "rt_lower                                                              1695.77\n",
       "rt_upper                                                              1715.77\n",
       "precursor_id                                                            12291\n",
       "envelope                    [(905.4411, 10939.00), (905.9347, 12619.00), (...\n",
       "feature_id                                                            1229103\n",
       "normalised_intensity                                                 0.296322\n",
       "Name: 2, dtype: object"
      ]
     },
     "execution_count": 23,
     "metadata": {},
     "output_type": "execute_result"
    }
   ],
   "source": [
    "# feature from deconvolution\n",
    "feature_after_deconvolution = after_deconvolution_df[(after_deconvolution_df.feature_id == feature_id)].iloc[0]\n",
    "feature_after_deconvolution"
   ]
  },
  {
   "cell_type": "code",
   "execution_count": 24,
   "metadata": {},
   "outputs": [
    {
     "data": {
      "text/plain": [
       "monoisotopic_mz                                                       905.431\n",
       "charge                                                                      2\n",
       "intensity                                                               36135\n",
       "intensity_full_rt_extent                                                32426\n",
       "scan_apex                                                               338.4\n",
       "scan_curve_fit                                                          False\n",
       "scan_lower                                                              318.4\n",
       "scan_upper                                                              358.4\n",
       "rt_apex                                                               1705.77\n",
       "rt_curve_fit                                                            False\n",
       "rt_lower                                                              1695.77\n",
       "rt_upper                                                              1715.77\n",
       "precursor_id                                                            12291\n",
       "envelope                    ((905.4411, 10939.00), (905.9347, 12619.00), (...\n",
       "feature_id                                                            1229103\n",
       "candidate_phr_error                                                 -0.120908\n",
       "mono_adjusted                                                           False\n",
       "original_phr_error                                                   0.182387\n",
       "original_phr                                                          1.15358\n",
       "monoisotopic_mass                                                     1808.85\n",
       "Name: 157512, dtype: object"
      ]
     },
     "execution_count": 24,
     "metadata": {},
     "output_type": "execute_result"
    }
   ],
   "source": [
    "# derived feature attributes after mono adjustment checks\n",
    "derived_feature_attributes = features_df[(features_df.feature_id == feature_id)].iloc[0]\n",
    "derived_feature_attributes"
   ]
  },
  {
   "cell_type": "code",
   "execution_count": 25,
   "metadata": {},
   "outputs": [],
   "source": [
    "adjustment_txt = 'monoisotopic peak was adjusted' if derived_feature_attributes.mono_adjusted else 'monoisotopic peak was not adjusted'"
   ]
  },
  {
   "cell_type": "code",
   "execution_count": 26,
   "metadata": {},
   "outputs": [],
   "source": [
    "adjusted_envelope = derived_feature_attributes.envelope"
   ]
  },
  {
   "cell_type": "code",
   "execution_count": 27,
   "metadata": {},
   "outputs": [
    {
     "data": {
      "text/plain": [
       "0.9756360647532144"
      ]
     },
     "execution_count": 27,
     "metadata": {},
     "output_type": "execute_result"
    }
   ],
   "source": [
    "expected_phr = peak_ratio(derived_feature_attributes.monoisotopic_mass, peak_number=1, number_of_sulphur=0)\n",
    "expected_phr"
   ]
  },
  {
   "cell_type": "code",
   "execution_count": 28,
   "metadata": {},
   "outputs": [
    {
     "data": {
      "text/plain": [
       "1.1535789377456807"
      ]
     },
     "execution_count": 28,
     "metadata": {},
     "output_type": "execute_result"
    }
   ],
   "source": [
    "observed_phr = derived_feature_attributes.original_phr\n",
    "observed_phr"
   ]
  },
  {
   "cell_type": "code",
   "execution_count": 29,
   "metadata": {},
   "outputs": [
    {
     "data": {
      "text/plain": [
       "0.18238652651434797"
      ]
     },
     "execution_count": 29,
     "metadata": {},
     "output_type": "execute_result"
    }
   ],
   "source": [
    "# note the mono is only adjusted if the candidate PHR gives a lower error _and_ it's lower than the acceptable error threshold\n",
    "phr_error = abs((observed_phr - expected_phr) / expected_phr)\n",
    "phr_error"
   ]
  },
  {
   "cell_type": "code",
   "execution_count": 30,
   "metadata": {},
   "outputs": [
    {
     "data": {
      "text/plain": [
       "1.1535789377456807"
      ]
     },
     "execution_count": 30,
     "metadata": {},
     "output_type": "execute_result"
    }
   ],
   "source": [
    "adjusted_phr = derived_feature_attributes.envelope[1][1] / derived_feature_attributes.envelope[0][1]\n",
    "adjusted_phr"
   ]
  },
  {
   "cell_type": "code",
   "execution_count": 31,
   "metadata": {},
   "outputs": [
    {
     "data": {
      "image/png": "[encoded data removed]",
      "text/plain": [
       "<Figure size 1080x720 with 1 Axes>"
      ]
     },
     "metadata": {
      "needs_background": "light"
     },
     "output_type": "display_data"
    }
   ],
   "source": [
    "f, ax = plt.subplots()\n",
    "colors = ['tab:blue', 'tab:orange', 'tab:green', 'tab:red', 'tab:purple', 'tab:brown', 'tab:pink', 'tab:gray', 'tab:olive', 'tab:cyan']\n",
    "\n",
    "row = after_deconvolution_df[(after_deconvolution_df.feature_id == feature_id)].iloc[0]\n",
    "envelope = eval(row.envelope)\n",
    "env_width = envelope[-1][0] - envelope[0][0]\n",
    "\n",
    "isotopes_l = []\n",
    "for i in envelope:\n",
    "    isotopes_l.append((i[0], i[1]))\n",
    "isotopes_df = pd.DataFrame(isotopes_l, columns=['mz','intensity'])\n",
    "isotopes_df['normalised_intensity'] = isotopes_df.intensity / isotopes_df.intensity.max()\n",
    "\n",
    "adjusted_isotopes_l = []\n",
    "for i in adjusted_envelope:\n",
    "    adjusted_isotopes_l.append((i[0], i[1]))\n",
    "adjusted_isotopes_df = pd.DataFrame(adjusted_isotopes_l, columns=['mz','intensity'])\n",
    "adjusted_isotopes_df['normalised_intensity'] = adjusted_isotopes_df.intensity / adjusted_isotopes_df.intensity.max()\n",
    "\n",
    "markerline, stemlines, baseline = ax.stem(isotopes_df.mz, isotopes_df.normalised_intensity, use_line_collection=True, label='after deconvolution')\n",
    "plt.setp(markerline, 'color', colors[1])\n",
    "plt.setp(stemlines, 'color', colors[1])\n",
    "plt.setp(baseline, 'color', colors[7])\n",
    "\n",
    "markerline, stemlines, baseline = ax.stem(adjusted_isotopes_df.mz, -adjusted_isotopes_df.normalised_intensity, use_line_collection=True, label='monoisotopic adjusted')\n",
    "plt.setp(markerline, 'color', colors[2])\n",
    "plt.setp(stemlines, 'color', colors[2])\n",
    "plt.setp(baseline, 'color', colors[7])\n",
    "\n",
    "plt.xlabel('m/z')\n",
    "plt.ylabel('normalised intensity')\n",
    "f.set_figheight(10)\n",
    "f.set_figwidth(15)\n",
    "# plt.xticks(np.arange(df.mz.min(),df.mz.max(),0.5))\n",
    "\n",
    "# plt.xlim((608.14,608.47))\n",
    "# plt.ylim((-3000,3000))\n",
    "\n",
    "plt.margins(0.06)\n",
    "plt.legend(loc='best')\n",
    "plt.title('Isotopic peaks before and after monoisotopic peak adjustment check - {}, PHR fit error {}\\nfeature {}, precursor cuboid {}, run {}, experiment {}'.format(adjustment_txt, round(phr_error,2), feature_id, precursor_id, RUN_NAME, EXPERIMENT_NAME))\n",
    "plt.show()"
   ]
  },
  {
   "cell_type": "code",
   "execution_count": null,
   "metadata": {},
   "outputs": [],
   "source": []
  }
 ],
 "metadata": {
  "kernelspec": {
   "display_name": "Python 3",
   "language": "python",
   "name": "python3"
  },
  "language_info": {
   "codemirror_mode": {
    "name": "ipython",
    "version": 3
   },
   "file_extension": ".py",
   "mimetype": "text/x-python",
   "name": "python",
   "nbconvert_exporter": "python",
   "pygments_lexer": "ipython3",
   "version": "3.6.8"
  }
 },
 "nbformat": 4,
 "nbformat_minor": 4
}
