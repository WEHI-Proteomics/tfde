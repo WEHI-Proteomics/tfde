{
 "cells": [
  {
   "cell_type": "code",
   "execution_count": 1,
   "metadata": {},
   "outputs": [],
   "source": [
    "import glob,os"
   ]
  },
  {
   "cell_type": "code",
   "execution_count": 2,
   "metadata": {},
   "outputs": [],
   "source": [
    "PREASSIGNED_DIR = '/Users/darylwilding-mcbride/Downloads/yolo-train/pre-assigned/'\n",
    "TARGET_DIR = 'data/peptides/pre-assigned'\n",
    "TILE_ID = 33\n",
    "FILE_LIST_FILENAME = '/Users/darylwilding-mcbride/Downloads/files.txt'"
   ]
  },
  {
   "cell_type": "code",
   "execution_count": 6,
   "metadata": {},
   "outputs": [],
   "source": [
    "with open(FILE_LIST_FILENAME, 'w') as f:\n",
    "    for file in sorted(glob.glob(\"{}/frame-*-tile-{}-mz-*.png\".format(PREASSIGNED_DIR, TILE_ID))):\n",
    "        f.write('{}/{}\\n'.format(TARGET_DIR, os.path.basename(file)))"
   ]
  }
 ],
 "metadata": {
  "kernelspec": {
   "display_name": "Python 3",
   "language": "python",
   "name": "python3"
  },
  "language_info": {
   "codemirror_mode": {
    "name": "ipython",
    "version": 3
   },
   "file_extension": ".py",
   "mimetype": "text/x-python",
   "name": "python",
   "nbconvert_exporter": "python",
   "pygments_lexer": "ipython3",
   "version": "3.6.7"
  }
 },
 "nbformat": 4,
 "nbformat_minor": 2
}
