{
 "cells": [
  {
   "cell_type": "code",
   "execution_count": 3,
   "metadata": {},
   "outputs": [],
   "source": [
    "import pandas as pd\n",
    "import pickle\n",
    "import tempfile\n",
    "import zipfile\n",
    "import json"
   ]
  },
  {
   "cell_type": "code",
   "execution_count": 4,
   "metadata": {},
   "outputs": [],
   "source": [
    "# loads the metadata, ms1 points from the specified zip file\n",
    "def load_precursor_cuboid_zip_ms1(filename):\n",
    "    temp_dir = tempfile.TemporaryDirectory().name\n",
    "    with zipfile.ZipFile(filename, \"r\") as zf:\n",
    "        zf.extractall(path=temp_dir)\n",
    "        names = zf.namelist()\n",
    "        with open('{}/{}'.format(temp_dir, names[0])) as json_file:\n",
    "            metadata = json.load(json_file)\n",
    "        ms1_df = pd.read_pickle('{}/{}'.format(temp_dir, names[1]))\n",
    "    return (metadata, ms1_df)\n"
   ]
  },
  {
   "cell_type": "code",
   "execution_count": 19,
   "metadata": {},
   "outputs": [],
   "source": [
    "precursor_id = 50040"
   ]
  },
  {
   "cell_type": "code",
   "execution_count": 20,
   "metadata": {},
   "outputs": [],
   "source": [
    "precursor_metadata, ms1_points_df = load_precursor_cuboid_zip_ms1('/Users/darylwilding-mcbride/Downloads/experiments/test/precursor-cuboids/190719_Hela_Ecoli_1to1_01/190719_Hela_Ecoli_1to1_01-precursor-{}.zip'.format(precursor_id))"
   ]
  },
  {
   "cell_type": "code",
   "execution_count": 21,
   "metadata": {},
   "outputs": [
    {
     "data": {
      "text/plain": [
       "{'precursor_id': 50040,\n",
       " 'window_mz_lower': 883.178214084962,\n",
       " 'window_mz_upper': 887.578214084962,\n",
       " 'wide_mz_lower': 882.1748590849619,\n",
       " 'wide_mz_upper': 887.578214084962,\n",
       " 'window_scan_width': 25,\n",
       " 'fe_scan_lower': 462,\n",
       " 'fe_scan_upper': 487,\n",
       " 'wide_scan_lower': 437,\n",
       " 'wide_scan_upper': 512,\n",
       " 'wide_rt_lower': 798.8779865556857,\n",
       " 'wide_rt_upper': 818.8779865556857,\n",
       " 'wide_frame_lower': 7474,\n",
       " 'wide_frame_upper': 7659,\n",
       " 'number_of_windows': 1}"
      ]
     },
     "execution_count": 21,
     "metadata": {},
     "output_type": "execute_result"
    }
   ],
   "source": [
    "precursor_metadata"
   ]
  },
  {
   "cell_type": "markdown",
   "metadata": {},
   "source": [
    "#### raw ms1 points"
   ]
  },
  {
   "cell_type": "code",
   "execution_count": 22,
   "metadata": {},
   "outputs": [
    {
     "data": {
      "text/html": [
       "<div>\n",
       "<style scoped>\n",
       "    .dataframe tbody tr th:only-of-type {\n",
       "        vertical-align: middle;\n",
       "    }\n",
       "\n",
       "    .dataframe tbody tr th {\n",
       "        vertical-align: top;\n",
       "    }\n",
       "\n",
       "    .dataframe thead th {\n",
       "        text-align: right;\n",
       "    }\n",
       "</style>\n",
       "<table border=\"1\" class=\"dataframe\">\n",
       "  <thead>\n",
       "    <tr style=\"text-align: right;\">\n",
       "      <th></th>\n",
       "      <th>frame_id</th>\n",
       "      <th>frame_type</th>\n",
       "      <th>mz</th>\n",
       "      <th>scan</th>\n",
       "      <th>intensity</th>\n",
       "      <th>retention_time_secs</th>\n",
       "    </tr>\n",
       "  </thead>\n",
       "  <tbody>\n",
       "    <tr>\n",
       "      <th>0</th>\n",
       "      <td>7474</td>\n",
       "      <td>0.0</td>\n",
       "      <td>882.385290</td>\n",
       "      <td>439</td>\n",
       "      <td>58</td>\n",
       "      <td>798.77859</td>\n",
       "    </tr>\n",
       "    <tr>\n",
       "      <th>1</th>\n",
       "      <td>7474</td>\n",
       "      <td>0.0</td>\n",
       "      <td>882.394606</td>\n",
       "      <td>445</td>\n",
       "      <td>52</td>\n",
       "      <td>798.77859</td>\n",
       "    </tr>\n",
       "    <tr>\n",
       "      <th>2</th>\n",
       "      <td>7474</td>\n",
       "      <td>0.0</td>\n",
       "      <td>882.394606</td>\n",
       "      <td>449</td>\n",
       "      <td>87</td>\n",
       "      <td>798.77859</td>\n",
       "    </tr>\n",
       "    <tr>\n",
       "      <th>3</th>\n",
       "      <td>7474</td>\n",
       "      <td>0.0</td>\n",
       "      <td>882.394606</td>\n",
       "      <td>450</td>\n",
       "      <td>27</td>\n",
       "      <td>798.77859</td>\n",
       "    </tr>\n",
       "    <tr>\n",
       "      <th>4</th>\n",
       "      <td>7474</td>\n",
       "      <td>0.0</td>\n",
       "      <td>882.408581</td>\n",
       "      <td>443</td>\n",
       "      <td>67</td>\n",
       "      <td>798.77859</td>\n",
       "    </tr>\n",
       "  </tbody>\n",
       "</table>\n",
       "</div>"
      ],
      "text/plain": [
       "   frame_id  frame_type          mz  scan  intensity  retention_time_secs\n",
       "0      7474         0.0  882.385290   439         58            798.77859\n",
       "1      7474         0.0  882.394606   445         52            798.77859\n",
       "2      7474         0.0  882.394606   449         87            798.77859\n",
       "3      7474         0.0  882.394606   450         27            798.77859\n",
       "4      7474         0.0  882.408581   443         67            798.77859"
      ]
     },
     "execution_count": 22,
     "metadata": {},
     "output_type": "execute_result"
    }
   ],
   "source": [
    "ms1_points_df.head()"
   ]
  },
  {
   "cell_type": "code",
   "execution_count": 23,
   "metadata": {},
   "outputs": [],
   "source": [
    "fe_raw_points_df = ms1_points_df[(ms1_points_df.mz >= precursor_metadata['window_mz_lower']) & (ms1_points_df.mz <= precursor_metadata['window_mz_upper'])]"
   ]
  },
  {
   "cell_type": "code",
   "execution_count": 24,
   "metadata": {},
   "outputs": [
    {
     "data": {
      "text/html": [
       "<div>\n",
       "<style scoped>\n",
       "    .dataframe tbody tr th:only-of-type {\n",
       "        vertical-align: middle;\n",
       "    }\n",
       "\n",
       "    .dataframe tbody tr th {\n",
       "        vertical-align: top;\n",
       "    }\n",
       "\n",
       "    .dataframe thead th {\n",
       "        text-align: right;\n",
       "    }\n",
       "</style>\n",
       "<table border=\"1\" class=\"dataframe\">\n",
       "  <thead>\n",
       "    <tr style=\"text-align: right;\">\n",
       "      <th></th>\n",
       "      <th>frame_id</th>\n",
       "      <th>frame_type</th>\n",
       "      <th>mz</th>\n",
       "      <th>scan</th>\n",
       "      <th>intensity</th>\n",
       "      <th>retention_time_secs</th>\n",
       "    </tr>\n",
       "  </thead>\n",
       "  <tbody>\n",
       "    <tr>\n",
       "      <th>25</th>\n",
       "      <td>7474</td>\n",
       "      <td>0.0</td>\n",
       "      <td>883.363784</td>\n",
       "      <td>437</td>\n",
       "      <td>42</td>\n",
       "      <td>798.77859</td>\n",
       "    </tr>\n",
       "    <tr>\n",
       "      <th>26</th>\n",
       "      <td>7474</td>\n",
       "      <td>0.0</td>\n",
       "      <td>883.377767</td>\n",
       "      <td>443</td>\n",
       "      <td>48</td>\n",
       "      <td>798.77859</td>\n",
       "    </tr>\n",
       "    <tr>\n",
       "      <th>27</th>\n",
       "      <td>7474</td>\n",
       "      <td>0.0</td>\n",
       "      <td>883.396410</td>\n",
       "      <td>440</td>\n",
       "      <td>24</td>\n",
       "      <td>798.77859</td>\n",
       "    </tr>\n",
       "    <tr>\n",
       "      <th>28</th>\n",
       "      <td>7474</td>\n",
       "      <td>0.0</td>\n",
       "      <td>883.424376</td>\n",
       "      <td>438</td>\n",
       "      <td>70</td>\n",
       "      <td>798.77859</td>\n",
       "    </tr>\n",
       "    <tr>\n",
       "      <th>29</th>\n",
       "      <td>7474</td>\n",
       "      <td>0.0</td>\n",
       "      <td>883.895194</td>\n",
       "      <td>437</td>\n",
       "      <td>79</td>\n",
       "      <td>798.77859</td>\n",
       "    </tr>\n",
       "  </tbody>\n",
       "</table>\n",
       "</div>"
      ],
      "text/plain": [
       "    frame_id  frame_type          mz  scan  intensity  retention_time_secs\n",
       "25      7474         0.0  883.363784   437         42            798.77859\n",
       "26      7474         0.0  883.377767   443         48            798.77859\n",
       "27      7474         0.0  883.396410   440         24            798.77859\n",
       "28      7474         0.0  883.424376   438         70            798.77859\n",
       "29      7474         0.0  883.895194   437         79            798.77859"
      ]
     },
     "execution_count": 24,
     "metadata": {},
     "output_type": "execute_result"
    }
   ],
   "source": [
    "fe_raw_points_df.head()"
   ]
  },
  {
   "cell_type": "markdown",
   "metadata": {},
   "source": [
    "#### derived feature attributes"
   ]
  },
  {
   "cell_type": "code",
   "execution_count": 27,
   "metadata": {},
   "outputs": [],
   "source": [
    "feature_df = pd.read_pickle('/Users/darylwilding-mcbride/Downloads/experiments/test/features/190719_Hela_Ecoli_1to1_01/190719_Hela_Ecoli_1to1_01-features-precursor-{}.pkl'.format(precursor_id))"
   ]
  },
  {
   "cell_type": "code",
   "execution_count": 28,
   "metadata": {},
   "outputs": [
    {
     "data": {
      "text/html": [
       "<div>\n",
       "<style scoped>\n",
       "    .dataframe tbody tr th:only-of-type {\n",
       "        vertical-align: middle;\n",
       "    }\n",
       "\n",
       "    .dataframe tbody tr th {\n",
       "        vertical-align: top;\n",
       "    }\n",
       "\n",
       "    .dataframe thead th {\n",
       "        text-align: right;\n",
       "    }\n",
       "</style>\n",
       "<table border=\"1\" class=\"dataframe\">\n",
       "  <thead>\n",
       "    <tr style=\"text-align: right;\">\n",
       "      <th></th>\n",
       "      <th>candidate_phr_error</th>\n",
       "      <th>charge</th>\n",
       "      <th>envelope</th>\n",
       "      <th>intensity</th>\n",
       "      <th>intensity_full_rt_extent</th>\n",
       "      <th>mono_adjusted</th>\n",
       "      <th>monoisotopic_mz</th>\n",
       "      <th>original_phr</th>\n",
       "      <th>original_phr_error</th>\n",
       "      <th>precursor_id</th>\n",
       "      <th>rt_apex</th>\n",
       "      <th>rt_curve_fit</th>\n",
       "      <th>rt_lower</th>\n",
       "      <th>rt_upper</th>\n",
       "      <th>scan_apex</th>\n",
       "      <th>scan_curve_fit</th>\n",
       "      <th>scan_lower</th>\n",
       "      <th>scan_upper</th>\n",
       "      <th>monoisotopic_mass</th>\n",
       "    </tr>\n",
       "  </thead>\n",
       "  <tbody>\n",
       "    <tr>\n",
       "      <th>0</th>\n",
       "      <td>-0.927812</td>\n",
       "      <td>1</td>\n",
       "      <td>((884.1343, 266.00), (885.1219, 343.00), (886....</td>\n",
       "      <td>609.000000</td>\n",
       "      <td>266</td>\n",
       "      <td>False</td>\n",
       "      <td>884.134332</td>\n",
       "      <td>1.289474</td>\n",
       "      <td>1.730932</td>\n",
       "      <td>50040</td>\n",
       "      <td>815.15</td>\n",
       "      <td>False</td>\n",
       "      <td>798.88</td>\n",
       "      <td>818.88</td>\n",
       "      <td>502.98</td>\n",
       "      <td>False</td>\n",
       "      <td>437.00</td>\n",
       "      <td>512.00</td>\n",
       "      <td>883.127032</td>\n",
       "    </tr>\n",
       "    <tr>\n",
       "      <th>1</th>\n",
       "      <td>3.384223</td>\n",
       "      <td>2</td>\n",
       "      <td>((884.3782, 12968.00), (884.8770, 42128.00), (...</td>\n",
       "      <td>93516.000000</td>\n",
       "      <td>11680</td>\n",
       "      <td>False</td>\n",
       "      <td>884.375905</td>\n",
       "      <td>3.248612</td>\n",
       "      <td>2.410160</td>\n",
       "      <td>50040</td>\n",
       "      <td>808.65</td>\n",
       "      <td>True</td>\n",
       "      <td>798.22</td>\n",
       "      <td>819.09</td>\n",
       "      <td>472.40</td>\n",
       "      <td>True</td>\n",
       "      <td>422.62</td>\n",
       "      <td>522.18</td>\n",
       "      <td>1766.737210</td>\n",
       "    </tr>\n",
       "    <tr>\n",
       "      <th>2</th>\n",
       "      <td>-0.033795</td>\n",
       "      <td>2</td>\n",
       "      <td>[(885.379556507406, 44118.199408121545), (885....</td>\n",
       "      <td>188643.199408</td>\n",
       "      <td>32219</td>\n",
       "      <td>True</td>\n",
       "      <td>885.381880</td>\n",
       "      <td>1.165151</td>\n",
       "      <td>0.220983</td>\n",
       "      <td>50040</td>\n",
       "      <td>808.93</td>\n",
       "      <td>True</td>\n",
       "      <td>805.24</td>\n",
       "      <td>812.62</td>\n",
       "      <td>469.11</td>\n",
       "      <td>True</td>\n",
       "      <td>421.92</td>\n",
       "      <td>516.29</td>\n",
       "      <td>1768.749160</td>\n",
       "    </tr>\n",
       "  </tbody>\n",
       "</table>\n",
       "</div>"
      ],
      "text/plain": [
       "   candidate_phr_error  charge  \\\n",
       "0            -0.927812       1   \n",
       "1             3.384223       2   \n",
       "2            -0.033795       2   \n",
       "\n",
       "                                            envelope      intensity  \\\n",
       "0  ((884.1343, 266.00), (885.1219, 343.00), (886....     609.000000   \n",
       "1  ((884.3782, 12968.00), (884.8770, 42128.00), (...   93516.000000   \n",
       "2  [(885.379556507406, 44118.199408121545), (885....  188643.199408   \n",
       "\n",
       "   intensity_full_rt_extent  mono_adjusted  monoisotopic_mz  original_phr  \\\n",
       "0                       266          False       884.134332      1.289474   \n",
       "1                     11680          False       884.375905      3.248612   \n",
       "2                     32219           True       885.381880      1.165151   \n",
       "\n",
       "   original_phr_error  precursor_id  rt_apex  rt_curve_fit  rt_lower  \\\n",
       "0            1.730932         50040   815.15         False    798.88   \n",
       "1            2.410160         50040   808.65          True    798.22   \n",
       "2            0.220983         50040   808.93          True    805.24   \n",
       "\n",
       "   rt_upper  scan_apex  scan_curve_fit  scan_lower  scan_upper  \\\n",
       "0    818.88     502.98           False      437.00      512.00   \n",
       "1    819.09     472.40            True      422.62      522.18   \n",
       "2    812.62     469.11            True      421.92      516.29   \n",
       "\n",
       "   monoisotopic_mass  \n",
       "0         883.127032  \n",
       "1        1766.737210  \n",
       "2        1768.749160  "
      ]
     },
     "execution_count": 28,
     "metadata": {},
     "output_type": "execute_result"
    }
   ],
   "source": [
    "feature_df"
   ]
  },
  {
   "cell_type": "markdown",
   "metadata": {},
   "source": [
    "#### fragment ions"
   ]
  },
  {
   "cell_type": "code",
   "execution_count": 29,
   "metadata": {},
   "outputs": [],
   "source": [
    "fragment_ions_df = pd.read_pickle('/Users/darylwilding-mcbride/Downloads/experiments/test/fragment-ions/190719_Hela_Ecoli_1to1_01/190719_Hela_Ecoli_1to1_01-fragment-ions-precursor-{}.pkl'.format(precursor_id))"
   ]
  },
  {
   "cell_type": "code",
   "execution_count": null,
   "metadata": {},
   "outputs": [],
   "source": []
  }
 ],
 "metadata": {
  "kernelspec": {
   "display_name": "Python 3",
   "language": "python",
   "name": "python3"
  },
  "language_info": {
   "codemirror_mode": {
    "name": "ipython",
    "version": 3
   },
   "file_extension": ".py",
   "mimetype": "text/x-python",
   "name": "python",
   "nbconvert_exporter": "python",
   "pygments_lexer": "ipython3",
   "version": "3.6.8"
  }
 },
 "nbformat": 4,
 "nbformat_minor": 2
}
