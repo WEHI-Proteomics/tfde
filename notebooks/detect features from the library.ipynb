{
 "cells": [
  {
   "cell_type": "markdown",
   "metadata": {},
   "source": [
    "Use the library of identified sequences to detect the feature in each run. Build a table of each feature's attributes and their decoy."
   ]
  },
  {
   "cell_type": "code",
   "execution_count": 51,
   "metadata": {},
   "outputs": [],
   "source": [
    "import pandas as pd\n",
    "import numpy as np\n",
    "import sys\n",
    "import pickle\n",
    "import glob\n",
    "import os\n",
    "import sqlite3\n",
    "import peakutils\n",
    "import matplotlib.pyplot as plt"
   ]
  },
  {
   "cell_type": "code",
   "execution_count": 52,
   "metadata": {},
   "outputs": [],
   "source": [
    "FILE_IDX_FOR_ANALYSIS = 0"
   ]
  },
  {
   "cell_type": "code",
   "execution_count": 53,
   "metadata": {},
   "outputs": [],
   "source": [
    "SEQUENCE_FILE_COUNTS_FILE_NAME = '/Users/darylwilding-mcbride/Downloads/sequence-charge-file-counts-df.pkl'"
   ]
  },
  {
   "cell_type": "code",
   "execution_count": 54,
   "metadata": {},
   "outputs": [],
   "source": [
    "sequence_file_counts_df = pd.read_pickle(SEQUENCE_FILE_COUNTS_FILE_NAME)"
   ]
  },
  {
   "cell_type": "code",
   "execution_count": 188,
   "metadata": {},
   "outputs": [
    {
     "data": {
      "text/html": [
       "<div>\n",
       "<style scoped>\n",
       "    .dataframe tbody tr th:only-of-type {\n",
       "        vertical-align: middle;\n",
       "    }\n",
       "\n",
       "    .dataframe tbody tr th {\n",
       "        vertical-align: top;\n",
       "    }\n",
       "\n",
       "    .dataframe thead th {\n",
       "        text-align: right;\n",
       "    }\n",
       "</style>\n",
       "<table border=\"1\" class=\"dataframe\">\n",
       "  <thead>\n",
       "    <tr style=\"text-align: right;\">\n",
       "      <th></th>\n",
       "      <th>sequence</th>\n",
       "      <th>charge</th>\n",
       "      <th>number_of_files</th>\n",
       "      <th>file_idxs</th>\n",
       "    </tr>\n",
       "  </thead>\n",
       "  <tbody>\n",
       "    <tr>\n",
       "      <th>18011</th>\n",
       "      <td>LVPLNQESVEER</td>\n",
       "      <td>2</td>\n",
       "      <td>1</td>\n",
       "      <td>[1]</td>\n",
       "    </tr>\n",
       "    <tr>\n",
       "      <th>2330</th>\n",
       "      <td>ATISNDGATILK</td>\n",
       "      <td>2</td>\n",
       "      <td>2</td>\n",
       "      <td>[2, 15]</td>\n",
       "    </tr>\n",
       "    <tr>\n",
       "      <th>21367</th>\n",
       "      <td>QPAPGGGGGGGPSPCGPGGGGR</td>\n",
       "      <td>2</td>\n",
       "      <td>1</td>\n",
       "      <td>[12]</td>\n",
       "    </tr>\n",
       "    <tr>\n",
       "      <th>22350</th>\n",
       "      <td>Q[-17.0265]SLSHMLSAK</td>\n",
       "      <td>2</td>\n",
       "      <td>11</td>\n",
       "      <td>[1, 7, 8, 9, 11, 12, 13, 14, 15, 17, 18]</td>\n",
       "    </tr>\n",
       "    <tr>\n",
       "      <th>23975</th>\n",
       "      <td>SLEPLPSSGPDFGGLGEEAEFVEVEPEAK</td>\n",
       "      <td>3</td>\n",
       "      <td>7</td>\n",
       "      <td>[5, 10, 12, 14, 15, 17, 18]</td>\n",
       "    </tr>\n",
       "    <tr>\n",
       "      <th>28330</th>\n",
       "      <td>VLDGLHNELQTIGFQIETIGK</td>\n",
       "      <td>3</td>\n",
       "      <td>1</td>\n",
       "      <td>[17]</td>\n",
       "    </tr>\n",
       "    <tr>\n",
       "      <th>8135</th>\n",
       "      <td>FFLSHPAYR</td>\n",
       "      <td>2</td>\n",
       "      <td>9</td>\n",
       "      <td>[1, 2, 10, 11, 12, 13, 14, 17, 18]</td>\n",
       "    </tr>\n",
       "    <tr>\n",
       "      <th>12792</th>\n",
       "      <td>IEGYEDQVLITEHGDLGNGK</td>\n",
       "      <td>3</td>\n",
       "      <td>9</td>\n",
       "      <td>[2, 6, 7, 10, 11, 12, 17, 18, 19]</td>\n",
       "    </tr>\n",
       "    <tr>\n",
       "      <th>12347</th>\n",
       "      <td>HVVLGAIENK</td>\n",
       "      <td>2</td>\n",
       "      <td>5</td>\n",
       "      <td>[1, 2, 11, 13, 15]</td>\n",
       "    </tr>\n",
       "    <tr>\n",
       "      <th>23492</th>\n",
       "      <td>SETCNEDLAGTTDEK</td>\n",
       "      <td>2</td>\n",
       "      <td>1</td>\n",
       "      <td>[2]</td>\n",
       "    </tr>\n",
       "    <tr>\n",
       "      <th>7494</th>\n",
       "      <td>ETQPGLLVASVLGLQK</td>\n",
       "      <td>2</td>\n",
       "      <td>1</td>\n",
       "      <td>[13]</td>\n",
       "    </tr>\n",
       "    <tr>\n",
       "      <th>6804</th>\n",
       "      <td>ENENGEYTEHLHSASCQIK</td>\n",
       "      <td>3</td>\n",
       "      <td>3</td>\n",
       "      <td>[1, 6, 11]</td>\n",
       "    </tr>\n",
       "    <tr>\n",
       "      <th>4312</th>\n",
       "      <td>DMEALNVLPPDVLTR</td>\n",
       "      <td>2</td>\n",
       "      <td>10</td>\n",
       "      <td>[1, 2, 10, 11, 12, 13, 14, 15, 17, 18]</td>\n",
       "    </tr>\n",
       "    <tr>\n",
       "      <th>26857</th>\n",
       "      <td>TTVLLADINDFNTVNEIYK</td>\n",
       "      <td>2</td>\n",
       "      <td>19</td>\n",
       "      <td>[1, 2, 3, 4, 5, 6, 7, 8, 9, 10, 11, 12, 13, 14...</td>\n",
       "    </tr>\n",
       "    <tr>\n",
       "      <th>19247</th>\n",
       "      <td>M[15.9949]YGISLCQAILDETK</td>\n",
       "      <td>2</td>\n",
       "      <td>9</td>\n",
       "      <td>[1, 4, 5, 8, 12, 13, 14, 17, 18]</td>\n",
       "    </tr>\n",
       "    <tr>\n",
       "      <th>16974</th>\n",
       "      <td>LPELQVYTR</td>\n",
       "      <td>2</td>\n",
       "      <td>1</td>\n",
       "      <td>[1]</td>\n",
       "    </tr>\n",
       "    <tr>\n",
       "      <th>10209</th>\n",
       "      <td>GLEAALVYVENAHVAGK</td>\n",
       "      <td>2</td>\n",
       "      <td>4</td>\n",
       "      <td>[1, 2, 11, 15]</td>\n",
       "    </tr>\n",
       "    <tr>\n",
       "      <th>4558</th>\n",
       "      <td>DPYLYPGLDIMR</td>\n",
       "      <td>2</td>\n",
       "      <td>9</td>\n",
       "      <td>[4, 5, 6, 7, 8, 9, 15, 16, 19]</td>\n",
       "    </tr>\n",
       "    <tr>\n",
       "      <th>17566</th>\n",
       "      <td>LSIDAIAAQLLR</td>\n",
       "      <td>2</td>\n",
       "      <td>1</td>\n",
       "      <td>[9]</td>\n",
       "    </tr>\n",
       "    <tr>\n",
       "      <th>13126</th>\n",
       "      <td>IHHHGLLAMTDCSTPEDGLACQK</td>\n",
       "      <td>3</td>\n",
       "      <td>4</td>\n",
       "      <td>[3, 7, 9, 16]</td>\n",
       "    </tr>\n",
       "  </tbody>\n",
       "</table>\n",
       "</div>"
      ],
      "text/plain": [
       "                            sequence  charge  number_of_files  \\\n",
       "18011                   LVPLNQESVEER       2                1   \n",
       "2330                    ATISNDGATILK       2                2   \n",
       "21367         QPAPGGGGGGGPSPCGPGGGGR       2                1   \n",
       "22350           Q[-17.0265]SLSHMLSAK       2               11   \n",
       "23975  SLEPLPSSGPDFGGLGEEAEFVEVEPEAK       3                7   \n",
       "28330          VLDGLHNELQTIGFQIETIGK       3                1   \n",
       "8135                       FFLSHPAYR       2                9   \n",
       "12792           IEGYEDQVLITEHGDLGNGK       3                9   \n",
       "12347                     HVVLGAIENK       2                5   \n",
       "23492                SETCNEDLAGTTDEK       2                1   \n",
       "7494                ETQPGLLVASVLGLQK       2                1   \n",
       "6804             ENENGEYTEHLHSASCQIK       3                3   \n",
       "4312                 DMEALNVLPPDVLTR       2               10   \n",
       "26857            TTVLLADINDFNTVNEIYK       2               19   \n",
       "19247       M[15.9949]YGISLCQAILDETK       2                9   \n",
       "16974                      LPELQVYTR       2                1   \n",
       "10209              GLEAALVYVENAHVAGK       2                4   \n",
       "4558                    DPYLYPGLDIMR       2                9   \n",
       "17566                   LSIDAIAAQLLR       2                1   \n",
       "13126        IHHHGLLAMTDCSTPEDGLACQK       3                4   \n",
       "\n",
       "                                               file_idxs  \n",
       "18011                                                [1]  \n",
       "2330                                             [2, 15]  \n",
       "21367                                               [12]  \n",
       "22350           [1, 7, 8, 9, 11, 12, 13, 14, 15, 17, 18]  \n",
       "23975                        [5, 10, 12, 14, 15, 17, 18]  \n",
       "28330                                               [17]  \n",
       "8135                  [1, 2, 10, 11, 12, 13, 14, 17, 18]  \n",
       "12792                  [2, 6, 7, 10, 11, 12, 17, 18, 19]  \n",
       "12347                                 [1, 2, 11, 13, 15]  \n",
       "23492                                                [2]  \n",
       "7494                                                [13]  \n",
       "6804                                          [1, 6, 11]  \n",
       "4312              [1, 2, 10, 11, 12, 13, 14, 15, 17, 18]  \n",
       "26857  [1, 2, 3, 4, 5, 6, 7, 8, 9, 10, 11, 12, 13, 14...  \n",
       "19247                   [1, 4, 5, 8, 12, 13, 14, 17, 18]  \n",
       "16974                                                [1]  \n",
       "10209                                     [1, 2, 11, 15]  \n",
       "4558                      [4, 5, 6, 7, 8, 9, 15, 16, 19]  \n",
       "17566                                                [9]  \n",
       "13126                                      [3, 7, 9, 16]  "
      ]
     },
     "execution_count": 188,
     "metadata": {},
     "output_type": "execute_result"
    }
   ],
   "source": [
    "sequence_file_counts_df[sequence_file_counts_df.file_idxs.apply(lambda x: 0 not in x)].sample(n=20)"
   ]
  },
  {
   "cell_type": "code",
   "execution_count": 324,
   "metadata": {},
   "outputs": [],
   "source": [
    "SEQUENCE_ROW_IDX_FOR_ANALYSIS = 26857"
   ]
  },
  {
   "cell_type": "code",
   "execution_count": 325,
   "metadata": {},
   "outputs": [],
   "source": [
    "EXPERIMENT_SEQUENCE_ATTRIBS_FILE_NAME = '/Users/darylwilding-mcbride/Downloads/experiments/190719_Hela_Ecoli/training-sets/experiment-sequence-charge-attribs-df.pkl'"
   ]
  },
  {
   "cell_type": "code",
   "execution_count": 326,
   "metadata": {},
   "outputs": [],
   "source": [
    "experiment_sequence_attribs_df = pd.read_pickle(EXPERIMENT_SEQUENCE_ATTRIBS_FILE_NAME)"
   ]
  },
  {
   "cell_type": "code",
   "execution_count": 327,
   "metadata": {},
   "outputs": [
    {
     "data": {
      "text/html": [
       "<div>\n",
       "<style scoped>\n",
       "    .dataframe tbody tr th:only-of-type {\n",
       "        vertical-align: middle;\n",
       "    }\n",
       "\n",
       "    .dataframe tbody tr th {\n",
       "        vertical-align: top;\n",
       "    }\n",
       "\n",
       "    .dataframe thead th {\n",
       "        text-align: right;\n",
       "    }\n",
       "</style>\n",
       "<table border=\"1\" class=\"dataframe\">\n",
       "  <thead>\n",
       "    <tr style=\"text-align: right;\">\n",
       "      <th></th>\n",
       "      <th>sequence</th>\n",
       "      <th>charge</th>\n",
       "      <th>theoretical_mz</th>\n",
       "      <th>experiment_scan</th>\n",
       "      <th>experiment_scan_peak_width</th>\n",
       "      <th>experiment_rt</th>\n",
       "      <th>experiment_rt_peak_width</th>\n",
       "      <th>experiment_intensity</th>\n",
       "    </tr>\n",
       "  </thead>\n",
       "  <tbody>\n",
       "    <tr>\n",
       "      <th>0</th>\n",
       "      <td>AAAAAAAAAPAAAATAPTTAATTAATAAQ</td>\n",
       "      <td>2</td>\n",
       "      <td>1184.1049</td>\n",
       "      <td>73.911301</td>\n",
       "      <td>57.626667</td>\n",
       "      <td>602.012681</td>\n",
       "      <td>18.706667</td>\n",
       "      <td>108754.444444</td>\n",
       "    </tr>\n",
       "    <tr>\n",
       "      <th>1</th>\n",
       "      <td>AAAAAAAAAPAAAATAPTTAATTAATAAQ</td>\n",
       "      <td>3</td>\n",
       "      <td>789.7394</td>\n",
       "      <td>335.868469</td>\n",
       "      <td>56.366667</td>\n",
       "      <td>609.864140</td>\n",
       "      <td>5.030000</td>\n",
       "      <td>29377.333333</td>\n",
       "    </tr>\n",
       "    <tr>\n",
       "      <th>2</th>\n",
       "      <td>AAAAAAAAVPSAGPAGPAPTSAAGR</td>\n",
       "      <td>2</td>\n",
       "      <td>1016.0286</td>\n",
       "      <td>160.291329</td>\n",
       "      <td>64.555556</td>\n",
       "      <td>489.973155</td>\n",
       "      <td>6.357111</td>\n",
       "      <td>58456.622222</td>\n",
       "    </tr>\n",
       "    <tr>\n",
       "      <th>3</th>\n",
       "      <td>AAAAALSQQQSLQER</td>\n",
       "      <td>2</td>\n",
       "      <td>785.9075</td>\n",
       "      <td>496.361511</td>\n",
       "      <td>45.912500</td>\n",
       "      <td>375.039574</td>\n",
       "      <td>6.140000</td>\n",
       "      <td>57092.250000</td>\n",
       "    </tr>\n",
       "    <tr>\n",
       "      <th>4</th>\n",
       "      <td>AAAAATVVPPMVGGPPFVGPVGFGPGDR</td>\n",
       "      <td>3</td>\n",
       "      <td>864.1171</td>\n",
       "      <td>707.537580</td>\n",
       "      <td>48.382593</td>\n",
       "      <td>1039.861047</td>\n",
       "      <td>16.666296</td>\n",
       "      <td>50988.518519</td>\n",
       "    </tr>\n",
       "  </tbody>\n",
       "</table>\n",
       "</div>"
      ],
      "text/plain": [
       "                        sequence  charge  theoretical_mz  experiment_scan  \\\n",
       "0  AAAAAAAAAPAAAATAPTTAATTAATAAQ       2       1184.1049        73.911301   \n",
       "1  AAAAAAAAAPAAAATAPTTAATTAATAAQ       3        789.7394       335.868469   \n",
       "2      AAAAAAAAVPSAGPAGPAPTSAAGR       2       1016.0286       160.291329   \n",
       "3                AAAAALSQQQSLQER       2        785.9075       496.361511   \n",
       "4   AAAAATVVPPMVGGPPFVGPVGFGPGDR       3        864.1171       707.537580   \n",
       "\n",
       "   experiment_scan_peak_width  experiment_rt  experiment_rt_peak_width  \\\n",
       "0                   57.626667     602.012681                 18.706667   \n",
       "1                   56.366667     609.864140                  5.030000   \n",
       "2                   64.555556     489.973155                  6.357111   \n",
       "3                   45.912500     375.039574                  6.140000   \n",
       "4                   48.382593    1039.861047                 16.666296   \n",
       "\n",
       "   experiment_intensity  \n",
       "0         108754.444444  \n",
       "1          29377.333333  \n",
       "2          58456.622222  \n",
       "3          57092.250000  \n",
       "4          50988.518519  "
      ]
     },
     "execution_count": 327,
     "metadata": {},
     "output_type": "execute_result"
    }
   ],
   "source": [
    "experiment_sequence_attribs_df.head()"
   ]
  },
  {
   "cell_type": "code",
   "execution_count": 328,
   "metadata": {},
   "outputs": [],
   "source": [
    "# use the run-0 model to find AAAAATVVPPMVGGPPFVGPVGFGPGDR, charge 3 in the raw data of the file idx\n",
    "RUN_MZ_MODEL_FILE_NAME = '/Users/darylwilding-mcbride/Downloads/experiments/190719_Hela_Ecoli/trained-models/file-{}-mz-model.pkl'.format(FILE_IDX_FOR_ANALYSIS)\n",
    "RUN_SCAN_MODEL_FILE_NAME = '/Users/darylwilding-mcbride/Downloads/experiments/190719_Hela_Ecoli/trained-models/file-{}-scan-model.pkl'.format(FILE_IDX_FOR_ANALYSIS)\n",
    "RUN_RT_MODEL_FILE_NAME = '/Users/darylwilding-mcbride/Downloads/experiments/190719_Hela_Ecoli/trained-models/file-{}-rt-model.pkl'.format(FILE_IDX_FOR_ANALYSIS)"
   ]
  },
  {
   "cell_type": "code",
   "execution_count": 329,
   "metadata": {},
   "outputs": [],
   "source": [
    "with open(RUN_MZ_MODEL_FILE_NAME, 'rb') as file:\n",
    "    mz_estimator = pickle.load(file)\n",
    "with open(RUN_SCAN_MODEL_FILE_NAME, 'rb') as file:\n",
    "    scan_estimator = pickle.load(file)\n",
    "with open(RUN_RT_MODEL_FILE_NAME, 'rb') as file:\n",
    "    rt_estimator = pickle.load(file)"
   ]
  },
  {
   "cell_type": "code",
   "execution_count": 330,
   "metadata": {},
   "outputs": [],
   "source": [
    "# gather the sequence attributes to plug into each model\n",
    "sequence_df = pd.DataFrame(experiment_sequence_attribs_df.iloc[SEQUENCE_ROW_IDX_FOR_ANALYSIS]).transpose()"
   ]
  },
  {
   "cell_type": "code",
   "execution_count": 331,
   "metadata": {},
   "outputs": [
    {
     "data": {
      "text/html": [
       "<div>\n",
       "<style scoped>\n",
       "    .dataframe tbody tr th:only-of-type {\n",
       "        vertical-align: middle;\n",
       "    }\n",
       "\n",
       "    .dataframe tbody tr th {\n",
       "        vertical-align: top;\n",
       "    }\n",
       "\n",
       "    .dataframe thead th {\n",
       "        text-align: right;\n",
       "    }\n",
       "</style>\n",
       "<table border=\"1\" class=\"dataframe\">\n",
       "  <thead>\n",
       "    <tr style=\"text-align: right;\">\n",
       "      <th></th>\n",
       "      <th>sequence</th>\n",
       "      <th>charge</th>\n",
       "      <th>theoretical_mz</th>\n",
       "      <th>experiment_scan</th>\n",
       "      <th>experiment_scan_peak_width</th>\n",
       "      <th>experiment_rt</th>\n",
       "      <th>experiment_rt_peak_width</th>\n",
       "      <th>experiment_intensity</th>\n",
       "    </tr>\n",
       "  </thead>\n",
       "  <tbody>\n",
       "    <tr>\n",
       "      <th>26857</th>\n",
       "      <td>TTVLLADINDFNTVNEIYK</td>\n",
       "      <td>2</td>\n",
       "      <td>1091.56</td>\n",
       "      <td>109.194</td>\n",
       "      <td>59.7732</td>\n",
       "      <td>977.328</td>\n",
       "      <td>10.2024</td>\n",
       "      <td>237048</td>\n",
       "    </tr>\n",
       "  </tbody>\n",
       "</table>\n",
       "</div>"
      ],
      "text/plain": [
       "                  sequence charge theoretical_mz experiment_scan  \\\n",
       "26857  TTVLLADINDFNTVNEIYK      2        1091.56         109.194   \n",
       "\n",
       "      experiment_scan_peak_width experiment_rt experiment_rt_peak_width  \\\n",
       "26857                    59.7732       977.328                  10.2024   \n",
       "\n",
       "      experiment_intensity  \n",
       "26857               237048  "
      ]
     },
     "execution_count": 331,
     "metadata": {},
     "output_type": "execute_result"
    }
   ],
   "source": [
    "sequence_df"
   ]
  },
  {
   "cell_type": "code",
   "execution_count": 332,
   "metadata": {},
   "outputs": [],
   "source": [
    "sequence_estimation_attribs_df = sequence_df[['theoretical_mz','experiment_rt','experiment_scan','experiment_intensity']]\n",
    "sequence_estimation_attribs = sequence_estimation_attribs_df.values"
   ]
  },
  {
   "cell_type": "code",
   "execution_count": 333,
   "metadata": {},
   "outputs": [
    {
     "data": {
      "text/plain": [
       "array([[1091.5615, 977.3281511821318, 109.19366121522847,\n",
       "        237048.34210526315]], dtype=object)"
      ]
     },
     "execution_count": 333,
     "metadata": {},
     "output_type": "execute_result"
    }
   ],
   "source": [
    "sequence_estimation_attribs"
   ]
  },
  {
   "cell_type": "code",
   "execution_count": 334,
   "metadata": {},
   "outputs": [
    {
     "data": {
      "text/plain": [
       "1092.0556180836163"
      ]
     },
     "execution_count": 334,
     "metadata": {},
     "output_type": "execute_result"
    }
   ],
   "source": [
    "# estimate the raw monoisotopic m/z\n",
    "mz_delta_estimated = mz_estimator.predict(sequence_estimation_attribs)\n",
    "estimated_monoisotopic_mz = sequence_estimation_attribs_df.iloc[0].theoretical_mz - mz_delta_estimated[0]\n",
    "estimated_monoisotopic_mz"
   ]
  },
  {
   "cell_type": "code",
   "execution_count": 335,
   "metadata": {},
   "outputs": [
    {
     "data": {
      "text/plain": [
       "108.94753940935118"
      ]
     },
     "execution_count": 335,
     "metadata": {},
     "output_type": "execute_result"
    }
   ],
   "source": [
    "# estimate the raw monoisotopic scan\n",
    "scan_estimated = scan_estimator.predict(sequence_estimation_attribs)\n",
    "estimated_scan_apex = scan_estimated[0]\n",
    "estimated_scan_apex"
   ]
  },
  {
   "cell_type": "code",
   "execution_count": 336,
   "metadata": {},
   "outputs": [
    {
     "data": {
      "text/plain": [
       "973.9890645650235"
      ]
     },
     "execution_count": 336,
     "metadata": {},
     "output_type": "execute_result"
    }
   ],
   "source": [
    "# estimate the raw monoisotopic RT\n",
    "rt_estimated = rt_estimator.predict(sequence_estimation_attribs)\n",
    "estimated_rt_apex = rt_estimated[0]\n",
    "estimated_rt_apex"
   ]
  },
  {
   "cell_type": "markdown",
   "metadata": {},
   "source": [
    "Look in the raw data for a feature at these coordinates"
   ]
  },
  {
   "cell_type": "code",
   "execution_count": 337,
   "metadata": {},
   "outputs": [],
   "source": [
    "# the width to use for intensity descent, in m/z\n",
    "MZ_TOLERANCE_PPM = 40  # +/- this amount\n",
    "MZ_TOLERANCE_PERCENT = MZ_TOLERANCE_PPM * 10**-4\n",
    "MS1_PEAK_DELTA = estimated_monoisotopic_mz * MZ_TOLERANCE_PERCENT / 100"
   ]
  },
  {
   "cell_type": "code",
   "execution_count": 338,
   "metadata": {},
   "outputs": [
    {
     "data": {
      "text/plain": [
       "0.043682224723344654"
      ]
     },
     "execution_count": 338,
     "metadata": {},
     "output_type": "execute_result"
    }
   ],
   "source": [
    "MS1_PEAK_DELTA"
   ]
  },
  {
   "cell_type": "code",
   "execution_count": 339,
   "metadata": {},
   "outputs": [],
   "source": [
    "# Mass difference between Carbon-12 and Carbon-13 isotopes, in Da. For calculating the spacing between isotopic peaks.\n",
    "CARBON_MASS_DIFFERENCE = 1.003355\n",
    "\n",
    "# the collision energy to distinguish ms1 and ms2 frames\n",
    "MS1_COLLISION_ENERGY = 10"
   ]
  },
  {
   "cell_type": "code",
   "execution_count": 340,
   "metadata": {},
   "outputs": [],
   "source": [
    "# takes a numpy array of intensity, and another of mz\n",
    "def mz_centroid(_int_f, _mz_f):\n",
    "    return ((_int_f/_int_f.sum()) * _mz_f).sum()"
   ]
  },
  {
   "cell_type": "code",
   "execution_count": 341,
   "metadata": {},
   "outputs": [],
   "source": [
    "# ms1_peaks_a is a numpy array of [mz,intensity]\n",
    "# returns a numpy array of [mz_centroid,summed_intensity]\n",
    "def ms1_intensity_descent(ms1_peaks_a):\n",
    "    # intensity descent\n",
    "    ms1_peaks_l = []\n",
    "    while len(ms1_peaks_a) > 0:\n",
    "        # find the most intense point\n",
    "        max_intensity_index = np.argmax(ms1_peaks_a[:,1])\n",
    "        peak_mz = ms1_peaks_a[max_intensity_index,0]\n",
    "        peak_mz_lower = peak_mz - MS1_PEAK_DELTA\n",
    "        peak_mz_upper = peak_mz + MS1_PEAK_DELTA\n",
    "\n",
    "        # get all the raw points within this m/z region\n",
    "        peak_indexes = np.where((ms1_peaks_a[:,0] >= peak_mz_lower) & (ms1_peaks_a[:,0] <= peak_mz_upper))[0]\n",
    "        if len(peak_indexes) > 0:\n",
    "            mz_cent = mz_centroid(ms1_peaks_a[peak_indexes,1], ms1_peaks_a[peak_indexes,0])\n",
    "            summed_intensity = ms1_peaks_a[peak_indexes,1].sum()\n",
    "            ms1_peaks_l.append((mz_cent, summed_intensity))\n",
    "            # remove the raw points assigned to this peak\n",
    "            ms1_peaks_a = np.delete(ms1_peaks_a, peak_indexes, axis=0)\n",
    "    return np.array(ms1_peaks_l)\n"
   ]
  },
  {
   "cell_type": "code",
   "execution_count": 342,
   "metadata": {},
   "outputs": [],
   "source": [
    "NUMBER_OF_ISOTOPES = 7     # the number of isotopes to look for in the m/z dimension - the theoretical model includes 7 (the monoisotopic plus 6 isotopes)\n",
    "\n",
    "expected_spacing_mz = CARBON_MASS_DIFFERENCE / sequence_df.iloc[0].charge"
   ]
  },
  {
   "cell_type": "code",
   "execution_count": 343,
   "metadata": {},
   "outputs": [],
   "source": [
    "# distance for looking either side of the scan and RT apex\n",
    "RT_WIDTH = sequence_df.iloc[0].experiment_rt_peak_width\n",
    "SCAN_WIDTH = sequence_df.iloc[0].experiment_scan_peak_width"
   ]
  },
  {
   "cell_type": "code",
   "execution_count": 344,
   "metadata": {},
   "outputs": [
    {
     "name": "stdout",
     "output_type": "stream",
     "text": [
      "mz: 1092.0119-1095.611, scan: -10-228, rt: 953.6-994.4\n"
     ]
    }
   ],
   "source": [
    "feature_region_mz_lower = estimated_monoisotopic_mz - MS1_PEAK_DELTA\n",
    "feature_region_mz_upper = estimated_monoisotopic_mz + (NUMBER_OF_ISOTOPES * expected_spacing_mz) + MS1_PEAK_DELTA\n",
    "scan_lower = estimated_scan_apex - (2 * SCAN_WIDTH)\n",
    "scan_upper = estimated_scan_apex + (2 * SCAN_WIDTH)\n",
    "rt_lower = estimated_rt_apex - (2 * RT_WIDTH)\n",
    "rt_upper = estimated_rt_apex + (2 * RT_WIDTH)\n",
    "print(\"mz: {}-{}, scan: {}-{}, rt: {}-{}\".format(round(feature_region_mz_lower,4), round(feature_region_mz_upper,4), int(scan_lower), int(scan_upper), round(rt_lower,1), round(rt_upper,1)))"
   ]
  },
  {
   "cell_type": "code",
   "execution_count": 345,
   "metadata": {},
   "outputs": [],
   "source": [
    "# find the converted database file name for file idx 0\n",
    "MAPPING_FILE_NAME = '/Users/darylwilding-mcbride/Downloads/percolator_mapping_df.pkl'\n",
    "mapping_df = pd.read_pickle(MAPPING_FILE_NAME)"
   ]
  },
  {
   "cell_type": "code",
   "execution_count": 346,
   "metadata": {},
   "outputs": [
    {
     "data": {
      "text/plain": [
       "'190719_Hela_Ecoli_1to3_06-recalibrated'"
      ]
     },
     "execution_count": 346,
     "metadata": {},
     "output_type": "execute_result"
    }
   ],
   "source": [
    "run_name = mapping_df[mapping_df.file_idx == FILE_IDX_FOR_ANALYSIS].iloc[0].run_name\n",
    "run_name"
   ]
  },
  {
   "cell_type": "code",
   "execution_count": 347,
   "metadata": {},
   "outputs": [],
   "source": [
    "db_name = run_name.replace('-recalibrated', '-converted.sqlite')"
   ]
  },
  {
   "cell_type": "code",
   "execution_count": 348,
   "metadata": {},
   "outputs": [
    {
     "data": {
      "text/plain": [
       "'/Users/darylwilding-mcbride/Downloads/experiments/190719_Hela_Ecoli/converted-databases/190719_Hela_Ecoli_1to3_06-converted.sqlite'"
      ]
     },
     "execution_count": 348,
     "metadata": {},
     "output_type": "execute_result"
    }
   ],
   "source": [
    "CONVERTED_DATABASE_NAME = '/Users/darylwilding-mcbride/Downloads/experiments/190719_Hela_Ecoli/converted-databases/{}'.format(db_name)\n",
    "CONVERTED_DATABASE_NAME"
   ]
  },
  {
   "cell_type": "code",
   "execution_count": 349,
   "metadata": {},
   "outputs": [],
   "source": [
    "db_conn = sqlite3.connect(CONVERTED_DATABASE_NAME)\n",
    "ms1_frame_properties_df = pd.read_sql_query(\"select frame_id,retention_time_secs from frame_properties where retention_time_secs >= {} and retention_time_secs <= {} and collision_energy == {} order by retention_time_secs\".format(rt_lower, rt_upper, MS1_COLLISION_ENERGY), db_conn)\n",
    "db_conn.close()\n",
    "ms1_frame_ids = tuple(ms1_frame_properties_df.frame_id)"
   ]
  },
  {
   "cell_type": "code",
   "execution_count": 350,
   "metadata": {},
   "outputs": [],
   "source": [
    "# extract the raw data within this area of interest\n",
    "db_conn = sqlite3.connect(CONVERTED_DATABASE_NAME)\n",
    "feature_region_raw_points_df = pd.read_sql_query(\"select frame_id,mz,scan,intensity,retention_time_secs from frames where mz >= {} and mz <= {} and scan >= {} and scan <= {} and retention_time_secs >= {} and retention_time_secs <= {} and frame_id in {}\".format(feature_region_mz_lower, feature_region_mz_upper, scan_lower, scan_upper, rt_lower, rt_upper, ms1_frame_ids), db_conn)\n",
    "db_conn.close()"
   ]
  },
  {
   "cell_type": "code",
   "execution_count": 351,
   "metadata": {},
   "outputs": [],
   "source": [
    "sequence_name = sequence_df.iloc[0].sequence\n",
    "sequence_charge = sequence_df.iloc[0].charge"
   ]
  },
  {
   "cell_type": "code",
   "execution_count": 352,
   "metadata": {},
   "outputs": [],
   "source": [
    "# a wider view for context\n",
    "feature_region_mz_wide_lower = feature_region_mz_lower - 1\n",
    "feature_region_mz_wide_upper = feature_region_mz_upper + 1\n",
    "scan_wide_lower = scan_lower - 30\n",
    "scan_wide_upper = scan_upper + 30\n",
    "rt_wide_lower = estimated_rt_apex - 1\n",
    "rt_wide_upper = estimated_rt_apex + 1\n",
    "\n",
    "# extract the raw data within this area of interest\n",
    "db_conn = sqlite3.connect(CONVERTED_DATABASE_NAME)\n",
    "wide_feature_region_raw_points_df = pd.read_sql_query(\"select frame_id,mz,scan,intensity,retention_time_secs from frames where mz >= {} and mz <= {} and scan >= {} and scan <= {} and retention_time_secs >= {} and retention_time_secs <= {} and frame_id in {}\".format(feature_region_mz_wide_lower, feature_region_mz_wide_upper, scan_wide_lower, scan_wide_upper, rt_wide_lower, rt_wide_upper, ms1_frame_ids), db_conn)\n",
    "db_conn.close()"
   ]
  },
  {
   "cell_type": "code",
   "execution_count": 353,
   "metadata": {},
   "outputs": [],
   "source": [
    "isotope_peaks_l = []\n",
    "isotope_raw_points_l = []\n",
    "# derive peaks for the monoisotopic and the isotopes\n",
    "for isotope_idx in range(NUMBER_OF_ISOTOPES):\n",
    "    estimated_isotope_midpoint = estimated_monoisotopic_mz + (isotope_idx * expected_spacing_mz)\n",
    "    isotope_mz_lower = estimated_isotope_midpoint - MS1_PEAK_DELTA\n",
    "    isotope_mz_upper = estimated_isotope_midpoint + MS1_PEAK_DELTA\n",
    "    isotope_raw_points_df = feature_region_raw_points_df[(feature_region_raw_points_df.mz >= isotope_mz_lower) & (feature_region_raw_points_df.mz <= isotope_mz_upper)]\n",
    "    isotope_raw_points_l.append(isotope_raw_points_df)\n",
    "    # perform intensity descent to get the peak for the isotope\n",
    "    isotope_raw_points_a = isotope_raw_points_df[['mz','intensity']].to_numpy()\n",
    "    isotope_peaks_a = ms1_intensity_descent(isotope_raw_points_a)\n",
    "    if len(isotope_peaks_a) == 0:\n",
    "        isotope_peaks_a = np.array([(estimated_isotope_midpoint,0)])\n",
    "    isotope_peaks_l.append(isotope_peaks_a[:1,:])  # take the first row\n",
    "isotope_peaks_df = pd.DataFrame(np.concatenate(isotope_peaks_l), columns=['mz_centroid','summed_intensity'])"
   ]
  },
  {
   "cell_type": "code",
   "execution_count": 354,
   "metadata": {},
   "outputs": [
    {
     "data": {
      "text/html": [
       "<div>\n",
       "<style scoped>\n",
       "    .dataframe tbody tr th:only-of-type {\n",
       "        vertical-align: middle;\n",
       "    }\n",
       "\n",
       "    .dataframe tbody tr th {\n",
       "        vertical-align: top;\n",
       "    }\n",
       "\n",
       "    .dataframe thead th {\n",
       "        text-align: right;\n",
       "    }\n",
       "</style>\n",
       "<table border=\"1\" class=\"dataframe\">\n",
       "  <thead>\n",
       "    <tr style=\"text-align: right;\">\n",
       "      <th></th>\n",
       "      <th>mz_centroid</th>\n",
       "      <th>summed_intensity</th>\n",
       "    </tr>\n",
       "  </thead>\n",
       "  <tbody>\n",
       "    <tr>\n",
       "      <th>0</th>\n",
       "      <td>1092.059230</td>\n",
       "      <td>308039.0</td>\n",
       "    </tr>\n",
       "    <tr>\n",
       "      <th>1</th>\n",
       "      <td>1092.563076</td>\n",
       "      <td>296593.0</td>\n",
       "    </tr>\n",
       "    <tr>\n",
       "      <th>2</th>\n",
       "      <td>1093.061744</td>\n",
       "      <td>232970.0</td>\n",
       "    </tr>\n",
       "    <tr>\n",
       "      <th>3</th>\n",
       "      <td>1093.568429</td>\n",
       "      <td>480202.0</td>\n",
       "    </tr>\n",
       "    <tr>\n",
       "      <th>4</th>\n",
       "      <td>1094.079380</td>\n",
       "      <td>2480557.0</td>\n",
       "    </tr>\n",
       "    <tr>\n",
       "      <th>5</th>\n",
       "      <td>1094.580580</td>\n",
       "      <td>4178436.0</td>\n",
       "    </tr>\n",
       "    <tr>\n",
       "      <th>6</th>\n",
       "      <td>1095.081329</td>\n",
       "      <td>3603297.0</td>\n",
       "    </tr>\n",
       "  </tbody>\n",
       "</table>\n",
       "</div>"
      ],
      "text/plain": [
       "   mz_centroid  summed_intensity\n",
       "0  1092.059230          308039.0\n",
       "1  1092.563076          296593.0\n",
       "2  1093.061744          232970.0\n",
       "3  1093.568429          480202.0\n",
       "4  1094.079380         2480557.0\n",
       "5  1094.580580         4178436.0\n",
       "6  1095.081329         3603297.0"
      ]
     },
     "execution_count": 354,
     "metadata": {},
     "output_type": "execute_result"
    }
   ],
   "source": [
    "isotope_peaks_df"
   ]
  },
  {
   "cell_type": "code",
   "execution_count": 355,
   "metadata": {},
   "outputs": [
    {
     "data": {
      "text/plain": [
       "7"
      ]
     },
     "execution_count": 355,
     "metadata": {},
     "output_type": "execute_result"
    }
   ],
   "source": [
    "len(isotope_raw_points_l)"
   ]
  },
  {
   "cell_type": "code",
   "execution_count": 356,
   "metadata": {},
   "outputs": [],
   "source": [
    "tableau20 = [(31, 119, 180), (174, 199, 232), (255, 127, 14), (255, 187, 120),  \n",
    "             (44, 160, 44), (152, 223, 138), (214, 39, 40), (255, 152, 150),  \n",
    "             (148, 103, 189), (197, 176, 213), (140, 86, 75), (196, 156, 148),  \n",
    "             (227, 119, 194), (247, 182, 210), (127, 127, 127), (199, 199, 199),  \n",
    "             (188, 189, 34), (219, 219, 141), (23, 190, 207), (158, 218, 229)]\n",
    "# Rescale to values between 0 and 1 \n",
    "for i in range(len(tableau20)):  \n",
    "    r, g, b = tableau20[i]  \n",
    "    tableau20[i] = (r / 255., g / 255., b / 255.)"
   ]
  },
  {
   "cell_type": "code",
   "execution_count": 357,
   "metadata": {},
   "outputs": [
    {
     "data": {
      "image/png": "[encoded data removed]",
      "text/plain": [
       "<Figure size 1080x360 with 1 Axes>"
      ]
     },
     "metadata": {
      "needs_background": "light"
     },
     "output_type": "display_data"
    }
   ],
   "source": [
    "f, ax = plt.subplots()\n",
    "ax.plot(wide_feature_region_raw_points_df.mz, wide_feature_region_raw_points_df.scan, marker='o', color='silver', linestyle='', ms=5)\n",
    "for idx,isotope_raw_df in enumerate(isotope_raw_points_l):\n",
    "    visualise_df = isotope_raw_df[(isotope_raw_df.retention_time_secs >= rt_wide_lower) & (isotope_raw_df.retention_time_secs <= rt_wide_upper)]\n",
    "    ax.plot(visualise_df.mz, visualise_df.scan, marker='o', color=tableau20[idx], linestyle='', ms=5)\n",
    "plt.axvline(x=estimated_monoisotopic_mz, linestyle=':', color='springgreen', label='estimated mono mz')\n",
    "plt.axhline(y=estimated_scan_apex, linestyle=':', color='royalblue', label='estimated scan apex')\n",
    "plt.xlabel('m/z')\n",
    "plt.ylabel('scan')\n",
    "plt.legend(loc='best')\n",
    "plt.gca().invert_yaxis()\n",
    "f.set_figheight(5)\n",
    "f.set_figwidth(15)\n",
    "plt.suptitle('Raw points in the area predicted for sequence {}, charge {}'.format(sequence_name, sequence_charge))\n",
    "plt.title('constrained to the apex in RT')\n",
    "plt.xlim((feature_region_mz_wide_lower,feature_region_mz_wide_upper))\n",
    "plt.ylim((scan_wide_upper,scan_wide_lower))\n",
    "plt.margins(0.06)\n",
    "plt.show()"
   ]
  },
  {
   "cell_type": "code",
   "execution_count": 358,
   "metadata": {},
   "outputs": [
    {
     "data": {
      "image/png": "[encoded data removed]",
      "text/plain": [
       "<Figure size 1080x360 with 1 Axes>"
      ]
     },
     "metadata": {
      "needs_background": "light"
     },
     "output_type": "display_data"
    }
   ],
   "source": [
    "f, ax = plt.subplots()\n",
    "colors = ['tab:blue', 'tab:orange', 'tab:green', 'tab:red', 'tab:purple', 'tab:brown', 'tab:pink', 'tab:gray', 'tab:olive', 'tab:cyan']\n",
    "markerline, stemlines, baseline = ax.stem(isotope_peaks_df.mz_centroid, isotope_peaks_df.summed_intensity, 'g', use_line_collection=True)\n",
    "plt.setp(markerline, 'color', colors[2])\n",
    "plt.setp(stemlines, 'color', colors[2])\n",
    "plt.setp(baseline, 'color', colors[7])\n",
    "plt.xlabel('m/z centroid')\n",
    "plt.ylabel('summed intensity')\n",
    "plt.xlim((feature_region_mz_wide_lower,feature_region_mz_wide_upper))\n",
    "f.set_figheight(5)\n",
    "f.set_figwidth(15)\n",
    "plt.margins(0.06)\n",
    "plt.suptitle('Peaks in the area predicted for sequence {}, charge {}'.format(sequence_name, sequence_charge))\n",
    "plt.show()"
   ]
  },
  {
   "cell_type": "markdown",
   "metadata": {},
   "source": [
    "Gather the raw points belonging to the monoisotopic peak"
   ]
  },
  {
   "cell_type": "code",
   "execution_count": 359,
   "metadata": {},
   "outputs": [],
   "source": [
    "mono_raw_points_df = isotope_raw_points_l[0]"
   ]
  },
  {
   "cell_type": "markdown",
   "metadata": {},
   "source": [
    "Collapse the points onto the mobility dimension"
   ]
  },
  {
   "cell_type": "code",
   "execution_count": 360,
   "metadata": {},
   "outputs": [],
   "source": [
    "scan_df = mono_raw_points_df.groupby(['scan'], as_index=False).intensity.sum()"
   ]
  },
  {
   "cell_type": "code",
   "execution_count": 361,
   "metadata": {},
   "outputs": [],
   "source": [
    "scan_df.sort_values(by=['scan'], ascending=True, inplace=True)"
   ]
  },
  {
   "cell_type": "code",
   "execution_count": 362,
   "metadata": {},
   "outputs": [],
   "source": [
    "mobility_curve_fit = False\n",
    "try:\n",
    "    gaussian_params = peakutils.peak.gaussian_fit(scan_df.scan.values, scan_df.intensity.values, center_only=False)\n",
    "    scan_apex_fitted = gaussian_params[1]\n",
    "    scan_side_width = 2 * abs(gaussian_params[2])  # number of standard deviations either side of the apex\n",
    "    scan_lower = scan_apex_fitted - scan_side_width\n",
    "    scan_upper = scan_apex_fitted + scan_side_width\n",
    "    g = peakutils.peak.gaussian(scan_df.scan, gaussian_params[0], gaussian_params[1], gaussian_params[2])\n",
    "    mobility_curve_fit = True\n",
    "    if (scan_apex_fitted >= wide_scan_lower) and (scan_apex_fitted <= wide_scan_upper):\n",
    "        mobility_curve_fit = True\n",
    "except:\n",
    "    pass\n",
    "\n",
    "# if we couldn't fit a curve to the mobility dimension, take the intensity-weighted centroid\n",
    "if not mobility_curve_fit:\n",
    "    print(\"could not fit a gaussian to the points - calculating the centroid\")\n",
    "    scan_apex_centroid = mz_centroid(scan_df.intensity.to_numpy(), scan_df.scan.to_numpy())\n",
    "    scan_apex_max = scan_df.loc[scan_df.intensity.idxmax()].scan"
   ]
  },
  {
   "cell_type": "code",
   "execution_count": 363,
   "metadata": {},
   "outputs": [
    {
     "data": {
      "image/png": "[encoded data removed]",
      "text/plain": [
       "<Figure size 1080x360 with 1 Axes>"
      ]
     },
     "metadata": {
      "needs_background": "light"
     },
     "output_type": "display_data"
    }
   ],
   "source": [
    "# visualise the monoisotopic peak in the scan dimension\n",
    "f, ax = plt.subplots()\n",
    "ax.plot(scan_df.scan.values, scan_df.intensity.values, marker='o', color='tab:purple', linestyle='-', linewidth=1, ms=5)\n",
    "plt.axvline(x=estimated_scan_apex, linestyle=':', color='royalblue', label='estimated scan apex')\n",
    "if mobility_curve_fit:\n",
    "    plt.axvline(x=scan_apex_fitted, linestyle=':', color='orange', label='estimated scan apex (fitted)')\n",
    "    ax.plot(scan_df.scan, g, marker='', color='purple', linestyle='-', linewidth=1, ms=5)\n",
    "else:\n",
    "    plt.axvline(x=scan_apex_centroid, linestyle=':', color='coral', label='calculated scan apex (centroid)')\n",
    "    plt.axvline(x=scan_apex_max, linestyle=':', color='seagreen', label='calculated scan apex (max)')\n",
    "plt.xlabel('scan')\n",
    "plt.ylabel('intensity')\n",
    "plt.legend(loc='best')\n",
    "f.set_figheight(5)\n",
    "f.set_figwidth(15)\n",
    "plt.xlim((scan_lower,scan_upper))\n",
    "plt.suptitle('Raw points')\n",
    "plt.margins(0.06)\n",
    "plt.show()"
   ]
  },
  {
   "cell_type": "markdown",
   "metadata": {},
   "source": [
    "Collapse the points onto the RT dimension"
   ]
  },
  {
   "cell_type": "code",
   "execution_count": 364,
   "metadata": {},
   "outputs": [],
   "source": [
    "rt_df = mono_raw_points_df.groupby(['frame_id','retention_time_secs'], as_index=False).intensity.sum()"
   ]
  },
  {
   "cell_type": "code",
   "execution_count": 365,
   "metadata": {},
   "outputs": [],
   "source": [
    "rt_df.sort_values(by=['retention_time_secs'], ascending=True, inplace=True)"
   ]
  },
  {
   "cell_type": "code",
   "execution_count": 366,
   "metadata": {},
   "outputs": [],
   "source": [
    "rt_curve_fit = False\n",
    "try:\n",
    "    gaussian_params = peakutils.peak.gaussian_fit(rt_df.retention_time_secs.values, rt_df.intensity.values, center_only=False)\n",
    "    rt_apex_fitted = gaussian_params[1]\n",
    "    rt_side_width = 3 * abs(gaussian_params[2])  # number of standard deviations either side of the apex\n",
    "    rt_lower = rt_apex_fitted - rt_side_width\n",
    "    rt_upper = rt_apex_fitted + rt_side_width\n",
    "    g = peakutils.peak.gaussian(rt_df.retention_time_secs, gaussian_params[0], gaussian_params[1], gaussian_params[2])\n",
    "    if (rt_apex_fitted >= rt_lower) and (rt_apex_fitted <= rt_upper):\n",
    "        rt_curve_fit = True\n",
    "except:\n",
    "    pass\n",
    "\n",
    "# if we couldn't fit a curve to the RT dimension, take the intensity-weighted centroid\n",
    "if not rt_curve_fit:\n",
    "    print(\"could not fit a gaussian to the points - calculating the centroid\")\n",
    "    rt_apex_centroid = mz_centroid(rt_df.intensity.to_numpy(), rt_df.retention_time_secs.to_numpy())\n",
    "    rt_apex_max = rt_df.loc[rt_df.intensity.idxmax()].retention_time_secs"
   ]
  },
  {
   "cell_type": "code",
   "execution_count": 367,
   "metadata": {},
   "outputs": [
    {
     "data": {
      "image/png": "[encoded data removed]",
      "text/plain": [
       "<Figure size 1080x360 with 1 Axes>"
      ]
     },
     "metadata": {
      "needs_background": "light"
     },
     "output_type": "display_data"
    }
   ],
   "source": [
    "# visualise the monoisotopic peak in the RT dimension\n",
    "f, ax = plt.subplots()\n",
    "ax.plot(rt_df.retention_time_secs, rt_df.intensity, marker='o', color='tab:purple', linestyle='-', linewidth=1, ms=5)\n",
    "plt.axvline(x=estimated_rt_apex, linestyle=':', color='royalblue', label='estimated RT apex')\n",
    "if rt_curve_fit:\n",
    "    plt.axvline(x=rt_apex_fitted, linestyle=':', color='orange', label='calculated RT apex (fitted)')\n",
    "    ax.plot(rt_df.retention_time_secs, g, marker='', color='purple', linestyle='-', linewidth=1, ms=5)\n",
    "else:\n",
    "    plt.axvline(x=rt_apex_centroid, linestyle=':', color='coral', label='calculated RT apex (centroid)')\n",
    "    plt.axvline(x=rt_apex_max, linestyle=':', color='seagreen', label='calculated RT apex (max)')\n",
    "plt.xlabel('retention time (secs)')\n",
    "plt.ylabel('intensity')\n",
    "plt.legend(loc='best')\n",
    "f.set_figheight(5)\n",
    "f.set_figwidth(15)\n",
    "plt.xlim((rt_lower,rt_upper))\n",
    "plt.suptitle('Raw points')\n",
    "plt.margins(0.06)\n",
    "plt.show()"
   ]
  },
  {
   "cell_type": "markdown",
   "metadata": {},
   "source": [
    "Calculate the feature metrics"
   ]
  },
  {
   "cell_type": "code",
   "execution_count": null,
   "metadata": {},
   "outputs": [],
   "source": [
    "delta_mz_ppm = "
   ]
  }
 ],
 "metadata": {
  "kernelspec": {
   "display_name": "Python 3",
   "language": "python",
   "name": "python3"
  },
  "language_info": {
   "codemirror_mode": {
    "name": "ipython",
    "version": 3
   },
   "file_extension": ".py",
   "mimetype": "text/x-python",
   "name": "python",
   "nbconvert_exporter": "python",
   "pygments_lexer": "ipython3",
   "version": "3.6.8"
  }
 },
 "nbformat": 4,
 "nbformat_minor": 2
}
