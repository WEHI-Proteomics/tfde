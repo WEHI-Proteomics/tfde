{
 "cells": [
  {
   "cell_type": "markdown",
   "metadata": {},
   "source": [
    "This notebook takes the combined run- and experiment-wide metrics of each sequence-charge, and builds a run-specific estimator for intensity delta."
   ]
  },
  {
   "cell_type": "markdown",
   "metadata": {},
   "source": [
    "X is a sequence's attributes in a run:\n",
    "- log2 intensity\n",
    "- uncalibrated m/z (the raw intensity as extracted by TFD)\n",
    "- charge\n",
    "- retention time\n",
    "- CCS\n",
    "\n",
    "y is the delta of intensity in a run from the median intensity of the sequence over the experiment.\n",
    "\n",
    "For training, filter:\n",
    "- human only\n",
    "- only sequences detected in at least half the runs\n",
    "- only 1to1 runs"
   ]
  },
  {
   "cell_type": "code",
   "execution_count": 2,
   "metadata": {},
   "outputs": [],
   "source": [
    "import pandas as pd\n",
    "import numpy as np\n",
    "import sys\n",
    "import pickle\n",
    "import glob\n",
    "import os\n",
    "import matplotlib.pyplot as plt"
   ]
  },
  {
   "cell_type": "code",
   "execution_count": 74,
   "metadata": {},
   "outputs": [],
   "source": [
    "from sklearn.ensemble import GradientBoostingRegressor\n",
    "from sklearn.model_selection import GridSearchCV,ShuffleSplit,RandomizedSearchCV"
   ]
  },
  {
   "cell_type": "code",
   "execution_count": 4,
   "metadata": {},
   "outputs": [],
   "source": [
    "from sklearn import preprocessing\n",
    "from sklearn.model_selection import train_test_split"
   ]
  },
  {
   "cell_type": "code",
   "execution_count": 6,
   "metadata": {},
   "outputs": [],
   "source": [
    "SEQUENCES_WITH_SPECIES_FILE_NAME = '/Users/darylwilding-mcbride/Downloads/sequences-with-species-df.pkl'"
   ]
  },
  {
   "cell_type": "code",
   "execution_count": 7,
   "metadata": {},
   "outputs": [],
   "source": [
    "sequences_with_species_df = pd.read_pickle(SEQUENCES_WITH_SPECIES_FILE_NAME)"
   ]
  },
  {
   "cell_type": "code",
   "execution_count": 8,
   "metadata": {},
   "outputs": [
    {
     "data": {
      "text/plain": [
       "Index(['sequence', 'charge', 'file_idx', 'intensity', 'classed_as', 'run_name',\n",
       "       'batch', 'human'],\n",
       "      dtype='object')"
      ]
     },
     "execution_count": 8,
     "metadata": {},
     "output_type": "execute_result"
    }
   ],
   "source": [
    "sequences_with_species_df.columns"
   ]
  },
  {
   "cell_type": "code",
   "execution_count": 9,
   "metadata": {},
   "outputs": [
    {
     "data": {
      "text/plain": [
       "sequence      0\n",
       "charge        0\n",
       "file_idx      0\n",
       "intensity     0\n",
       "classed_as    0\n",
       "run_name      0\n",
       "batch         0\n",
       "human         0\n",
       "dtype: int64"
      ]
     },
     "execution_count": 9,
     "metadata": {},
     "output_type": "execute_result"
    }
   ],
   "source": [
    "sequences_with_species_df.isnull().sum()"
   ]
  },
  {
   "cell_type": "code",
   "execution_count": 10,
   "metadata": {},
   "outputs": [],
   "source": [
    "TARGET_DECOY_MODEL_DIR = '/Users/darylwilding-mcbride/Downloads/experiments/dwm-test/target-decoy-models'\n",
    "EXPERIMENT_METRICS_FILE_NAME = \"{}/experiment-metrics-for-library-sequences.pkl\".format(TARGET_DECOY_MODEL_DIR)"
   ]
  },
  {
   "cell_type": "code",
   "execution_count": 11,
   "metadata": {},
   "outputs": [],
   "source": [
    "experiment_metrics_for_library_sequences_df = pd.read_pickle(EXPERIMENT_METRICS_FILE_NAME)"
   ]
  },
  {
   "cell_type": "code",
   "execution_count": 12,
   "metadata": {},
   "outputs": [
    {
     "data": {
      "text/plain": [
       "Index(['sequence', 'charge', 'theoretical_mz', 'experiment_scan_mean',\n",
       "       'experiment_scan_std_dev', 'experiment_scan_peak_width',\n",
       "       'experiment_rt_mean', 'experiment_rt_std_dev',\n",
       "       'experiment_rt_peak_width', 'experiment_intensity_mean',\n",
       "       'experiment_intensity_std_dev', 'number_of_runs_identified', 'q_value',\n",
       "       'file_idx', 'target_coords', 'decoy_coords', 'target_metrics',\n",
       "       'attributes', 'decoy_metrics'],\n",
       "      dtype='object')"
      ]
     },
     "execution_count": 12,
     "metadata": {},
     "output_type": "execute_result"
    }
   ],
   "source": [
    "experiment_metrics_for_library_sequences_df.columns"
   ]
  },
  {
   "cell_type": "code",
   "execution_count": 13,
   "metadata": {},
   "outputs": [
    {
     "data": {
      "text/plain": [
       "sequence                           0\n",
       "charge                             0\n",
       "theoretical_mz                     0\n",
       "experiment_scan_mean               0\n",
       "experiment_scan_std_dev            0\n",
       "experiment_scan_peak_width         0\n",
       "experiment_rt_mean                 0\n",
       "experiment_rt_std_dev              0\n",
       "experiment_rt_peak_width           0\n",
       "experiment_intensity_mean          0\n",
       "experiment_intensity_std_dev       0\n",
       "number_of_runs_identified          0\n",
       "q_value                            0\n",
       "file_idx                           0\n",
       "target_coords                      0\n",
       "decoy_coords                       0\n",
       "target_metrics                  1157\n",
       "attributes                         0\n",
       "decoy_metrics                   6537\n",
       "dtype: int64"
      ]
     },
     "execution_count": 13,
     "metadata": {},
     "output_type": "execute_result"
    }
   ],
   "source": [
    "experiment_metrics_for_library_sequences_df.isnull().sum()"
   ]
  },
  {
   "cell_type": "markdown",
   "metadata": {},
   "source": [
    "Merge the unpacked attributes of the TFD-extracted sequence (in experiment_metrics_for_library_sequences_df) with the sequences_with_species_df"
   ]
  },
  {
   "cell_type": "code",
   "execution_count": 14,
   "metadata": {},
   "outputs": [],
   "source": [
    "# unpack the TFD-extracted attributes from each sequence\n",
    "attributes = []\n",
    "attribute_names = [key for key in sorted(experiment_metrics_for_library_sequences_df.iloc[0].attributes)]\n",
    "\n",
    "for row in experiment_metrics_for_library_sequences_df.itertuples():\n",
    "    # target metric values\n",
    "    d = row.attributes\n",
    "    if (d is not None) and all(d.values()):\n",
    "        l = []\n",
    "        l.append(row.sequence)\n",
    "        l.append(row.charge)\n",
    "        l.append(row.file_idx)\n",
    "        l += [d[key] for key in sorted(d)]\n",
    "        attributes.append(tuple(l))\n",
    "\n",
    "columns = ['sequence','charge','file_idx']\n",
    "columns += attribute_names\n",
    "\n",
    "attributes_as_extracted_df = pd.DataFrame(attributes, columns=columns)"
   ]
  },
  {
   "cell_type": "code",
   "execution_count": 15,
   "metadata": {},
   "outputs": [
    {
     "data": {
      "text/plain": [
       "sequence                0\n",
       "charge                  0\n",
       "file_idx                0\n",
       "intensity_all_points    0\n",
       "intensity_top_3         0\n",
       "monoisotopic_mz         0\n",
       "rt_apex                 0\n",
       "scan_apex               0\n",
       "dtype: int64"
      ]
     },
     "execution_count": 15,
     "metadata": {},
     "output_type": "execute_result"
    }
   ],
   "source": [
    "attributes_as_extracted_df.isnull().sum()"
   ]
  },
  {
   "cell_type": "code",
   "execution_count": 16,
   "metadata": {},
   "outputs": [
    {
     "data": {
      "text/plain": [
       "586547"
      ]
     },
     "execution_count": 16,
     "metadata": {},
     "output_type": "execute_result"
    }
   ],
   "source": [
    "len(attributes_as_extracted_df)"
   ]
  },
  {
   "cell_type": "code",
   "execution_count": 17,
   "metadata": {},
   "outputs": [
    {
     "data": {
      "text/html": [
       "<div>\n",
       "<style scoped>\n",
       "    .dataframe tbody tr th:only-of-type {\n",
       "        vertical-align: middle;\n",
       "    }\n",
       "\n",
       "    .dataframe tbody tr th {\n",
       "        vertical-align: top;\n",
       "    }\n",
       "\n",
       "    .dataframe thead th {\n",
       "        text-align: right;\n",
       "    }\n",
       "</style>\n",
       "<table border=\"1\" class=\"dataframe\">\n",
       "  <thead>\n",
       "    <tr style=\"text-align: right;\">\n",
       "      <th></th>\n",
       "      <th>sequence</th>\n",
       "      <th>charge</th>\n",
       "      <th>file_idx</th>\n",
       "      <th>intensity_all_points</th>\n",
       "      <th>intensity_top_3</th>\n",
       "      <th>monoisotopic_mz</th>\n",
       "      <th>rt_apex</th>\n",
       "      <th>scan_apex</th>\n",
       "    </tr>\n",
       "  </thead>\n",
       "  <tbody>\n",
       "    <tr>\n",
       "      <th>0</th>\n",
       "      <td>AAAAAAAAAAAAAAAASAGGK</td>\n",
       "      <td>2</td>\n",
       "      <td>0</td>\n",
       "      <td>1956</td>\n",
       "      <td>331</td>\n",
       "      <td>778.415635</td>\n",
       "      <td>937.100303</td>\n",
       "      <td>533.000000</td>\n",
       "    </tr>\n",
       "    <tr>\n",
       "      <th>1</th>\n",
       "      <td>AAAAAAAAAPAAAATAPTTAATTAATAAQ</td>\n",
       "      <td>2</td>\n",
       "      <td>0</td>\n",
       "      <td>321139</td>\n",
       "      <td>6502</td>\n",
       "      <td>1184.609205</td>\n",
       "      <td>594.503517</td>\n",
       "      <td>70.440081</td>\n",
       "    </tr>\n",
       "    <tr>\n",
       "      <th>2</th>\n",
       "      <td>AAAAAAAAVPSAGPAGPAPTSAAGR</td>\n",
       "      <td>2</td>\n",
       "      <td>0</td>\n",
       "      <td>3014</td>\n",
       "      <td>328</td>\n",
       "      <td>1016.532371</td>\n",
       "      <td>486.625154</td>\n",
       "      <td>152.472187</td>\n",
       "    </tr>\n",
       "    <tr>\n",
       "      <th>3</th>\n",
       "      <td>AAAAATVVPPMVGGPPFVGPVGFGPGDR</td>\n",
       "      <td>3</td>\n",
       "      <td>0</td>\n",
       "      <td>8014</td>\n",
       "      <td>336</td>\n",
       "      <td>864.452576</td>\n",
       "      <td>1034.987311</td>\n",
       "      <td>708.747001</td>\n",
       "    </tr>\n",
       "    <tr>\n",
       "      <th>4</th>\n",
       "      <td>AAAAAWEEPSSGNGTAR</td>\n",
       "      <td>2</td>\n",
       "      <td>0</td>\n",
       "      <td>76396</td>\n",
       "      <td>1762</td>\n",
       "      <td>823.382040</td>\n",
       "      <td>367.242494</td>\n",
       "      <td>538.177052</td>\n",
       "    </tr>\n",
       "  </tbody>\n",
       "</table>\n",
       "</div>"
      ],
      "text/plain": [
       "                        sequence  charge  file_idx  intensity_all_points  \\\n",
       "0          AAAAAAAAAAAAAAAASAGGK       2         0                  1956   \n",
       "1  AAAAAAAAAPAAAATAPTTAATTAATAAQ       2         0                321139   \n",
       "2      AAAAAAAAVPSAGPAGPAPTSAAGR       2         0                  3014   \n",
       "3   AAAAATVVPPMVGGPPFVGPVGFGPGDR       3         0                  8014   \n",
       "4              AAAAAWEEPSSGNGTAR       2         0                 76396   \n",
       "\n",
       "   intensity_top_3  monoisotopic_mz      rt_apex   scan_apex  \n",
       "0              331       778.415635   937.100303  533.000000  \n",
       "1             6502      1184.609205   594.503517   70.440081  \n",
       "2              328      1016.532371   486.625154  152.472187  \n",
       "3              336       864.452576  1034.987311  708.747001  \n",
       "4             1762       823.382040   367.242494  538.177052  "
      ]
     },
     "execution_count": 17,
     "metadata": {},
     "output_type": "execute_result"
    }
   ],
   "source": [
    "attributes_as_extracted_df.head()"
   ]
  },
  {
   "cell_type": "code",
   "execution_count": 18,
   "metadata": {},
   "outputs": [
    {
     "data": {
      "text/plain": [
       "544165"
      ]
     },
     "execution_count": 18,
     "metadata": {},
     "output_type": "execute_result"
    }
   ],
   "source": [
    "len(sequences_with_species_df)"
   ]
  },
  {
   "cell_type": "code",
   "execution_count": 19,
   "metadata": {},
   "outputs": [],
   "source": [
    "sequences_with_attributes_df = pd.merge(attributes_as_extracted_df, sequences_with_species_df, how='inner', left_on=['sequence','charge','file_idx'], right_on=['sequence','charge','file_idx'])"
   ]
  },
  {
   "cell_type": "code",
   "execution_count": 20,
   "metadata": {},
   "outputs": [
    {
     "data": {
      "text/plain": [
       "Index(['sequence', 'charge', 'file_idx', 'intensity_all_points',\n",
       "       'intensity_top_3', 'monoisotopic_mz', 'rt_apex', 'scan_apex',\n",
       "       'intensity', 'classed_as', 'run_name', 'batch', 'human'],\n",
       "      dtype='object')"
      ]
     },
     "execution_count": 20,
     "metadata": {},
     "output_type": "execute_result"
    }
   ],
   "source": [
    "sequences_with_attributes_df.columns"
   ]
  },
  {
   "cell_type": "code",
   "execution_count": 21,
   "metadata": {
    "scrolled": true
   },
   "outputs": [
    {
     "data": {
      "text/plain": [
       "sequence                0\n",
       "charge                  0\n",
       "file_idx                0\n",
       "intensity_all_points    0\n",
       "intensity_top_3         0\n",
       "monoisotopic_mz         0\n",
       "rt_apex                 0\n",
       "scan_apex               0\n",
       "intensity               0\n",
       "classed_as              0\n",
       "run_name                0\n",
       "batch                   0\n",
       "human                   0\n",
       "dtype: int64"
      ]
     },
     "execution_count": 21,
     "metadata": {},
     "output_type": "execute_result"
    }
   ],
   "source": [
    "sequences_with_attributes_df.isnull().sum()"
   ]
  },
  {
   "cell_type": "code",
   "execution_count": 22,
   "metadata": {},
   "outputs": [
    {
     "data": {
      "text/plain": [
       "542616"
      ]
     },
     "execution_count": 22,
     "metadata": {},
     "output_type": "execute_result"
    }
   ],
   "source": [
    "len(sequences_with_attributes_df)"
   ]
  },
  {
   "cell_type": "code",
   "execution_count": 23,
   "metadata": {},
   "outputs": [],
   "source": [
    "# calculate median intensity for each sequence in the experiment - just human and 1to1\n",
    "sequences_with_attributes_df = sequences_with_attributes_df[(sequences_with_attributes_df.human == True) & (sequences_with_attributes_df.batch == '1to1')]\n",
    "\n",
    "# find the experiment-wide intensity median\n",
    "experiment_intensities_l = []\n",
    "for group_name,group_df in sequences_with_attributes_df.groupby(['sequence','charge'], as_index=False):\n",
    "    number_of_runs_for_sequence = len(group_df)\n",
    "    median_intensity_in_experiment = group_df.intensity_top_3.median()\n",
    "    sequence = group_name[0]\n",
    "    charge = group_name[1]\n",
    "    experiment_intensities_l.append((sequence,charge,median_intensity_in_experiment,number_of_runs_for_sequence))\n",
    "\n",
    "experiment_intensities_df = pd.DataFrame(experiment_intensities_l, columns=['sequence','charge','median_intensity_in_experiment','number_of_runs_identified'])"
   ]
  },
  {
   "cell_type": "code",
   "execution_count": 24,
   "metadata": {},
   "outputs": [
    {
     "data": {
      "text/html": [
       "<div>\n",
       "<style scoped>\n",
       "    .dataframe tbody tr th:only-of-type {\n",
       "        vertical-align: middle;\n",
       "    }\n",
       "\n",
       "    .dataframe tbody tr th {\n",
       "        vertical-align: top;\n",
       "    }\n",
       "\n",
       "    .dataframe thead th {\n",
       "        text-align: right;\n",
       "    }\n",
       "</style>\n",
       "<table border=\"1\" class=\"dataframe\">\n",
       "  <thead>\n",
       "    <tr style=\"text-align: right;\">\n",
       "      <th></th>\n",
       "      <th>sequence</th>\n",
       "      <th>charge</th>\n",
       "      <th>median_intensity_in_experiment</th>\n",
       "      <th>number_of_runs_identified</th>\n",
       "    </tr>\n",
       "  </thead>\n",
       "  <tbody>\n",
       "    <tr>\n",
       "      <th>0</th>\n",
       "      <td>AAAAAAAAAAAAAAAASAGGK</td>\n",
       "      <td>2</td>\n",
       "      <td>371.0</td>\n",
       "      <td>10</td>\n",
       "    </tr>\n",
       "    <tr>\n",
       "      <th>1</th>\n",
       "      <td>AAAAAAAAAPAAAATAPTTAATTAATAAQ</td>\n",
       "      <td>2</td>\n",
       "      <td>2169.0</td>\n",
       "      <td>10</td>\n",
       "    </tr>\n",
       "    <tr>\n",
       "      <th>2</th>\n",
       "      <td>AAAAAAAAAPAAAATAPTTAATTAATAAQ</td>\n",
       "      <td>3</td>\n",
       "      <td>396.0</td>\n",
       "      <td>7</td>\n",
       "    </tr>\n",
       "    <tr>\n",
       "      <th>3</th>\n",
       "      <td>AAAAAAAAVPSAGPAGPAPTSAAGR</td>\n",
       "      <td>2</td>\n",
       "      <td>446.5</td>\n",
       "      <td>10</td>\n",
       "    </tr>\n",
       "    <tr>\n",
       "      <th>4</th>\n",
       "      <td>AAAAALSQQQSLQER</td>\n",
       "      <td>2</td>\n",
       "      <td>699.0</td>\n",
       "      <td>10</td>\n",
       "    </tr>\n",
       "  </tbody>\n",
       "</table>\n",
       "</div>"
      ],
      "text/plain": [
       "                        sequence  charge  median_intensity_in_experiment  \\\n",
       "0          AAAAAAAAAAAAAAAASAGGK       2                           371.0   \n",
       "1  AAAAAAAAAPAAAATAPTTAATTAATAAQ       2                          2169.0   \n",
       "2  AAAAAAAAAPAAAATAPTTAATTAATAAQ       3                           396.0   \n",
       "3      AAAAAAAAVPSAGPAGPAPTSAAGR       2                           446.5   \n",
       "4                AAAAALSQQQSLQER       2                           699.0   \n",
       "\n",
       "   number_of_runs_identified  \n",
       "0                         10  \n",
       "1                         10  \n",
       "2                          7  \n",
       "3                         10  \n",
       "4                         10  "
      ]
     },
     "execution_count": 24,
     "metadata": {},
     "output_type": "execute_result"
    }
   ],
   "source": [
    "experiment_intensities_df.head()"
   ]
  },
  {
   "cell_type": "code",
   "execution_count": 209,
   "metadata": {},
   "outputs": [],
   "source": [
    "training_set_df = pd.merge(sequences_with_attributes_df, experiment_intensities_df, how='inner', left_on=['sequence','charge'], right_on=['sequence','charge'])"
   ]
  },
  {
   "cell_type": "code",
   "execution_count": 210,
   "metadata": {},
   "outputs": [
    {
     "data": {
      "text/html": [
       "<div>\n",
       "<style scoped>\n",
       "    .dataframe tbody tr th:only-of-type {\n",
       "        vertical-align: middle;\n",
       "    }\n",
       "\n",
       "    .dataframe tbody tr th {\n",
       "        vertical-align: top;\n",
       "    }\n",
       "\n",
       "    .dataframe thead th {\n",
       "        text-align: right;\n",
       "    }\n",
       "</style>\n",
       "<table border=\"1\" class=\"dataframe\">\n",
       "  <thead>\n",
       "    <tr style=\"text-align: right;\">\n",
       "      <th></th>\n",
       "      <th>sequence</th>\n",
       "      <th>charge</th>\n",
       "      <th>file_idx</th>\n",
       "      <th>intensity_all_points</th>\n",
       "      <th>intensity_top_3</th>\n",
       "      <th>monoisotopic_mz</th>\n",
       "      <th>rt_apex</th>\n",
       "      <th>scan_apex</th>\n",
       "      <th>intensity</th>\n",
       "      <th>classed_as</th>\n",
       "      <th>run_name</th>\n",
       "      <th>batch</th>\n",
       "      <th>human</th>\n",
       "      <th>median_intensity_in_experiment</th>\n",
       "      <th>number_of_runs_identified</th>\n",
       "    </tr>\n",
       "  </thead>\n",
       "  <tbody>\n",
       "    <tr>\n",
       "      <th>0</th>\n",
       "      <td>AAAAAAAAAAAAAAAASAGGK</td>\n",
       "      <td>2</td>\n",
       "      <td>1</td>\n",
       "      <td>25238</td>\n",
       "      <td>493</td>\n",
       "      <td>778.413822</td>\n",
       "      <td>941.074672</td>\n",
       "      <td>524.190759</td>\n",
       "      <td>493</td>\n",
       "      <td>target</td>\n",
       "      <td>190719_Hela_Ecoli_1to1_07</td>\n",
       "      <td>1to1</td>\n",
       "      <td>True</td>\n",
       "      <td>371.0</td>\n",
       "      <td>10</td>\n",
       "    </tr>\n",
       "    <tr>\n",
       "      <th>1</th>\n",
       "      <td>AAAAAAAAAAAAAAAASAGGK</td>\n",
       "      <td>2</td>\n",
       "      <td>2</td>\n",
       "      <td>4679</td>\n",
       "      <td>399</td>\n",
       "      <td>778.413926</td>\n",
       "      <td>958.106323</td>\n",
       "      <td>491.231962</td>\n",
       "      <td>399</td>\n",
       "      <td>target</td>\n",
       "      <td>190719_Hela_Ecoli_1to1_09</td>\n",
       "      <td>1to1</td>\n",
       "      <td>True</td>\n",
       "      <td>371.0</td>\n",
       "      <td>10</td>\n",
       "    </tr>\n",
       "    <tr>\n",
       "      <th>2</th>\n",
       "      <td>AAAAAAAAAAAAAAAASAGGK</td>\n",
       "      <td>2</td>\n",
       "      <td>6</td>\n",
       "      <td>3189</td>\n",
       "      <td>312</td>\n",
       "      <td>778.413890</td>\n",
       "      <td>941.712078</td>\n",
       "      <td>489.059477</td>\n",
       "      <td>312</td>\n",
       "      <td>target</td>\n",
       "      <td>190719_Hela_Ecoli_1to1_03</td>\n",
       "      <td>1to1</td>\n",
       "      <td>True</td>\n",
       "      <td>371.0</td>\n",
       "      <td>10</td>\n",
       "    </tr>\n",
       "    <tr>\n",
       "      <th>3</th>\n",
       "      <td>AAAAAAAAAAAAAAAASAGGK</td>\n",
       "      <td>2</td>\n",
       "      <td>8</td>\n",
       "      <td>13534</td>\n",
       "      <td>829</td>\n",
       "      <td>778.413947</td>\n",
       "      <td>913.778646</td>\n",
       "      <td>549.826553</td>\n",
       "      <td>829</td>\n",
       "      <td>target</td>\n",
       "      <td>190719_Hela_Ecoli_1to1_10</td>\n",
       "      <td>1to1</td>\n",
       "      <td>True</td>\n",
       "      <td>371.0</td>\n",
       "      <td>10</td>\n",
       "    </tr>\n",
       "    <tr>\n",
       "      <th>4</th>\n",
       "      <td>AAAAAAAAAAAAAAAASAGGK</td>\n",
       "      <td>2</td>\n",
       "      <td>10</td>\n",
       "      <td>3475</td>\n",
       "      <td>393</td>\n",
       "      <td>778.413886</td>\n",
       "      <td>1002.229545</td>\n",
       "      <td>492.093016</td>\n",
       "      <td>393</td>\n",
       "      <td>target</td>\n",
       "      <td>190719_Hela_Ecoli_1to1_08</td>\n",
       "      <td>1to1</td>\n",
       "      <td>True</td>\n",
       "      <td>371.0</td>\n",
       "      <td>10</td>\n",
       "    </tr>\n",
       "  </tbody>\n",
       "</table>\n",
       "</div>"
      ],
      "text/plain": [
       "                sequence  charge  file_idx  intensity_all_points  \\\n",
       "0  AAAAAAAAAAAAAAAASAGGK       2         1                 25238   \n",
       "1  AAAAAAAAAAAAAAAASAGGK       2         2                  4679   \n",
       "2  AAAAAAAAAAAAAAAASAGGK       2         6                  3189   \n",
       "3  AAAAAAAAAAAAAAAASAGGK       2         8                 13534   \n",
       "4  AAAAAAAAAAAAAAAASAGGK       2        10                  3475   \n",
       "\n",
       "   intensity_top_3  monoisotopic_mz      rt_apex   scan_apex  intensity  \\\n",
       "0              493       778.413822   941.074672  524.190759        493   \n",
       "1              399       778.413926   958.106323  491.231962        399   \n",
       "2              312       778.413890   941.712078  489.059477        312   \n",
       "3              829       778.413947   913.778646  549.826553        829   \n",
       "4              393       778.413886  1002.229545  492.093016        393   \n",
       "\n",
       "  classed_as                   run_name batch  human  \\\n",
       "0     target  190719_Hela_Ecoli_1to1_07  1to1   True   \n",
       "1     target  190719_Hela_Ecoli_1to1_09  1to1   True   \n",
       "2     target  190719_Hela_Ecoli_1to1_03  1to1   True   \n",
       "3     target  190719_Hela_Ecoli_1to1_10  1to1   True   \n",
       "4     target  190719_Hela_Ecoli_1to1_08  1to1   True   \n",
       "\n",
       "   median_intensity_in_experiment  number_of_runs_identified  \n",
       "0                           371.0                         10  \n",
       "1                           371.0                         10  \n",
       "2                           371.0                         10  \n",
       "3                           371.0                         10  \n",
       "4                           371.0                         10  "
      ]
     },
     "execution_count": 210,
     "metadata": {},
     "output_type": "execute_result"
    }
   ],
   "source": [
    "training_set_df.head()"
   ]
  },
  {
   "cell_type": "code",
   "execution_count": 211,
   "metadata": {},
   "outputs": [],
   "source": [
    "training_set_df['intensity_delta'] = training_set_df.median_intensity_in_experiment - training_set_df.intensity_top_3\n",
    "training_set_df['log_intensity_delta'] = np.log2(np.power(np.abs(training_set_df.intensity_delta), np.sign(training_set_df.intensity_delta)))\n",
    "training_set_df['log_intensity'] = np.log2(np.power(np.abs(training_set_df.intensity), np.sign(training_set_df.intensity)))"
   ]
  },
  {
   "cell_type": "code",
   "execution_count": 235,
   "metadata": {},
   "outputs": [
    {
     "data": {
      "text/html": [
       "<div>\n",
       "<style scoped>\n",
       "    .dataframe tbody tr th:only-of-type {\n",
       "        vertical-align: middle;\n",
       "    }\n",
       "\n",
       "    .dataframe tbody tr th {\n",
       "        vertical-align: top;\n",
       "    }\n",
       "\n",
       "    .dataframe thead th {\n",
       "        text-align: right;\n",
       "    }\n",
       "</style>\n",
       "<table border=\"1\" class=\"dataframe\">\n",
       "  <thead>\n",
       "    <tr style=\"text-align: right;\">\n",
       "      <th></th>\n",
       "      <th>sequence</th>\n",
       "      <th>charge</th>\n",
       "      <th>file_idx</th>\n",
       "      <th>intensity_all_points</th>\n",
       "      <th>intensity_top_3</th>\n",
       "      <th>monoisotopic_mz</th>\n",
       "      <th>rt_apex</th>\n",
       "      <th>scan_apex</th>\n",
       "      <th>intensity</th>\n",
       "      <th>classed_as</th>\n",
       "      <th>run_name</th>\n",
       "      <th>batch</th>\n",
       "      <th>human</th>\n",
       "      <th>median_intensity_in_experiment</th>\n",
       "      <th>number_of_runs_identified</th>\n",
       "      <th>intensity_delta</th>\n",
       "      <th>log_intensity_delta</th>\n",
       "      <th>log_intensity</th>\n",
       "    </tr>\n",
       "  </thead>\n",
       "  <tbody>\n",
       "    <tr>\n",
       "      <th>216564</th>\n",
       "      <td>YNPMYSEPVDQEYLPEELR</td>\n",
       "      <td>2</td>\n",
       "      <td>2</td>\n",
       "      <td>554</td>\n",
       "      <td>166</td>\n",
       "      <td>1186.540321</td>\n",
       "      <td>804.388525</td>\n",
       "      <td>104.000000</td>\n",
       "      <td>166</td>\n",
       "      <td>target</td>\n",
       "      <td>190719_Hela_Ecoli_1to1_09</td>\n",
       "      <td>1to1</td>\n",
       "      <td>True</td>\n",
       "      <td>293.0</td>\n",
       "      <td>9</td>\n",
       "      <td>127.0</td>\n",
       "      <td>6.988685</td>\n",
       "      <td>7.375039</td>\n",
       "    </tr>\n",
       "    <tr>\n",
       "      <th>216573</th>\n",
       "      <td>YQQQYLQPLPLTHYELVTDAFGHR</td>\n",
       "      <td>4</td>\n",
       "      <td>2</td>\n",
       "      <td>682</td>\n",
       "      <td>184</td>\n",
       "      <td>730.119498</td>\n",
       "      <td>924.974680</td>\n",
       "      <td>619.386906</td>\n",
       "      <td>184</td>\n",
       "      <td>target</td>\n",
       "      <td>190719_Hela_Ecoli_1to1_09</td>\n",
       "      <td>1to1</td>\n",
       "      <td>True</td>\n",
       "      <td>329.0</td>\n",
       "      <td>8</td>\n",
       "      <td>145.0</td>\n",
       "      <td>7.179909</td>\n",
       "      <td>7.523562</td>\n",
       "    </tr>\n",
       "    <tr>\n",
       "      <th>216581</th>\n",
       "      <td>YSAHSSHVTNVSFTHNDSHLISTGGK</td>\n",
       "      <td>3</td>\n",
       "      <td>2</td>\n",
       "      <td>2589</td>\n",
       "      <td>261</td>\n",
       "      <td>928.442358</td>\n",
       "      <td>388.312760</td>\n",
       "      <td>314.862810</td>\n",
       "      <td>261</td>\n",
       "      <td>target</td>\n",
       "      <td>190719_Hela_Ecoli_1to1_09</td>\n",
       "      <td>1to1</td>\n",
       "      <td>True</td>\n",
       "      <td>275.0</td>\n",
       "      <td>7</td>\n",
       "      <td>14.0</td>\n",
       "      <td>3.807355</td>\n",
       "      <td>8.027906</td>\n",
       "    </tr>\n",
       "    <tr>\n",
       "      <th>216588</th>\n",
       "      <td>YSFIQALVR</td>\n",
       "      <td>2</td>\n",
       "      <td>2</td>\n",
       "      <td>4842</td>\n",
       "      <td>678</td>\n",
       "      <td>548.810772</td>\n",
       "      <td>855.699639</td>\n",
       "      <td>856.719155</td>\n",
       "      <td>678</td>\n",
       "      <td>target</td>\n",
       "      <td>190719_Hela_Ecoli_1to1_09</td>\n",
       "      <td>1to1</td>\n",
       "      <td>True</td>\n",
       "      <td>577.0</td>\n",
       "      <td>6</td>\n",
       "      <td>-101.0</td>\n",
       "      <td>-6.658211</td>\n",
       "      <td>9.405141</td>\n",
       "    </tr>\n",
       "    <tr>\n",
       "      <th>216594</th>\n",
       "      <td>YSNEDTLSVALPYFWEHFDK</td>\n",
       "      <td>3</td>\n",
       "      <td>2</td>\n",
       "      <td>8967</td>\n",
       "      <td>286</td>\n",
       "      <td>821.049453</td>\n",
       "      <td>1081.428171</td>\n",
       "      <td>581.993548</td>\n",
       "      <td>286</td>\n",
       "      <td>target</td>\n",
       "      <td>190719_Hela_Ecoli_1to1_09</td>\n",
       "      <td>1to1</td>\n",
       "      <td>True</td>\n",
       "      <td>422.5</td>\n",
       "      <td>8</td>\n",
       "      <td>136.5</td>\n",
       "      <td>7.092757</td>\n",
       "      <td>8.159871</td>\n",
       "    </tr>\n",
       "  </tbody>\n",
       "</table>\n",
       "</div>"
      ],
      "text/plain": [
       "                          sequence  charge  file_idx  intensity_all_points  \\\n",
       "216564         YNPMYSEPVDQEYLPEELR       2         2                   554   \n",
       "216573    YQQQYLQPLPLTHYELVTDAFGHR       4         2                   682   \n",
       "216581  YSAHSSHVTNVSFTHNDSHLISTGGK       3         2                  2589   \n",
       "216588                   YSFIQALVR       2         2                  4842   \n",
       "216594        YSNEDTLSVALPYFWEHFDK       3         2                  8967   \n",
       "\n",
       "        intensity_top_3  monoisotopic_mz      rt_apex   scan_apex  intensity  \\\n",
       "216564              166      1186.540321   804.388525  104.000000        166   \n",
       "216573              184       730.119498   924.974680  619.386906        184   \n",
       "216581              261       928.442358   388.312760  314.862810        261   \n",
       "216588              678       548.810772   855.699639  856.719155        678   \n",
       "216594              286       821.049453  1081.428171  581.993548        286   \n",
       "\n",
       "       classed_as                   run_name batch  human  \\\n",
       "216564     target  190719_Hela_Ecoli_1to1_09  1to1   True   \n",
       "216573     target  190719_Hela_Ecoli_1to1_09  1to1   True   \n",
       "216581     target  190719_Hela_Ecoli_1to1_09  1to1   True   \n",
       "216588     target  190719_Hela_Ecoli_1to1_09  1to1   True   \n",
       "216594     target  190719_Hela_Ecoli_1to1_09  1to1   True   \n",
       "\n",
       "        median_intensity_in_experiment  number_of_runs_identified  \\\n",
       "216564                           293.0                          9   \n",
       "216573                           329.0                          8   \n",
       "216581                           275.0                          7   \n",
       "216588                           577.0                          6   \n",
       "216594                           422.5                          8   \n",
       "\n",
       "        intensity_delta  log_intensity_delta  log_intensity  \n",
       "216564            127.0             6.988685       7.375039  \n",
       "216573            145.0             7.179909       7.523562  \n",
       "216581             14.0             3.807355       8.027906  \n",
       "216588           -101.0            -6.658211       9.405141  \n",
       "216594            136.5             7.092757       8.159871  "
      ]
     },
     "execution_count": 235,
     "metadata": {},
     "output_type": "execute_result"
    }
   ],
   "source": [
    "training_set_df.tail()"
   ]
  },
  {
   "cell_type": "code",
   "execution_count": 213,
   "metadata": {},
   "outputs": [
    {
     "data": {
      "text/plain": [
       "sequence                          0\n",
       "charge                            0\n",
       "file_idx                          0\n",
       "intensity_all_points              0\n",
       "intensity_top_3                   0\n",
       "monoisotopic_mz                   0\n",
       "rt_apex                           0\n",
       "scan_apex                         0\n",
       "intensity                         0\n",
       "classed_as                        0\n",
       "run_name                          0\n",
       "batch                             0\n",
       "human                             0\n",
       "median_intensity_in_experiment    0\n",
       "number_of_runs_identified         0\n",
       "intensity_delta                   0\n",
       "log_intensity_delta               0\n",
       "log_intensity                     0\n",
       "dtype: int64"
      ]
     },
     "execution_count": 213,
     "metadata": {},
     "output_type": "execute_result"
    }
   ],
   "source": [
    "training_set_df.isnull().sum()"
   ]
  },
  {
   "cell_type": "code",
   "execution_count": 214,
   "metadata": {},
   "outputs": [
    {
     "data": {
      "text/plain": [
       "array([ 1,  2,  6,  8, 10, 11, 15, 16, 18, 19])"
      ]
     },
     "execution_count": 214,
     "metadata": {},
     "output_type": "execute_result"
    }
   ],
   "source": [
    "training_set_df.file_idx.unique()"
   ]
  },
  {
   "cell_type": "code",
   "execution_count": 215,
   "metadata": {},
   "outputs": [],
   "source": [
    "file_idx_for_this_model = 2"
   ]
  },
  {
   "cell_type": "code",
   "execution_count": 216,
   "metadata": {},
   "outputs": [],
   "source": [
    "# filter out rows we don't want in the training set for this run-specific model\n",
    "training_set_df = training_set_df[(training_set_df.file_idx == file_idx_for_this_model) & (training_set_df.number_of_runs_identified > 5)]"
   ]
  },
  {
   "cell_type": "code",
   "execution_count": 217,
   "metadata": {},
   "outputs": [
    {
     "data": {
      "text/plain": [
       "21243"
      ]
     },
     "execution_count": 217,
     "metadata": {},
     "output_type": "execute_result"
    }
   ],
   "source": [
    "print(\"there are {} sequences in the training set for file {}\".format(len(training_set_df), file_idx_for_this_model))"
   ]
  },
  {
   "cell_type": "code",
   "execution_count": 321,
   "metadata": {},
   "outputs": [],
   "source": [
    "# split the training set\n",
    "X = training_set_df[['intensity','monoisotopic_mz','rt_apex','scan_apex','charge']].values\n",
    "y = training_set_df[['intensity_delta','median_intensity_in_experiment']].values\n",
    "X_train, X_test, y_train, y_test = train_test_split(X, y, test_size=0.1)"
   ]
  },
  {
   "cell_type": "markdown",
   "metadata": {},
   "source": [
    "#### intensity estimation model"
   ]
  },
  {
   "cell_type": "code",
   "execution_count": 322,
   "metadata": {},
   "outputs": [],
   "source": [
    "def GradientBooster(param_grid, n_jobs, X_train, y_train):\n",
    "    estimator = GradientBoostingRegressor()\n",
    "    cv = ShuffleSplit(n_splits=10, train_size=0.8, test_size=0.2, random_state=0)\n",
    "    classifier = RandomizedSearchCV(estimator=estimator, cv=cv, param_distributions=param_grid, n_jobs=n_jobs)\n",
    "    classifier.fit(X_train, y_train)\n",
    "    print('best estimator found: {}'.format(classifier.best_estimator_))\n",
    "    return cv, classifier.best_estimator_\n"
   ]
  },
  {
   "cell_type": "code",
   "execution_count": 323,
   "metadata": {},
   "outputs": [
    {
     "name": "stdout",
     "output_type": "stream",
     "text": [
      "best estimator found: GradientBoostingRegressor(alpha=0.9, criterion='friedman_mse', init=None,\n",
      "                          learning_rate=0.1, loss='huber', max_depth=6,\n",
      "                          max_features=1.0, max_leaf_nodes=None,\n",
      "                          min_impurity_decrease=0.0, min_impurity_split=None,\n",
      "                          min_samples_leaf=5, min_samples_split=2,\n",
      "                          min_weight_fraction_leaf=0.0, n_estimators=500,\n",
      "                          n_iter_no_change=None, presort='auto',\n",
      "                          random_state=None, subsample=1.0, tol=0.0001,\n",
      "                          validation_fraction=0.1, verbose=0, warm_start=False)\n"
     ]
    }
   ],
   "source": [
    "# search for the best model in the specified hyperparameter space\n",
    "parameter_search_space = {'n_estimators':[500, 800, 1000], \n",
    "                          'learning_rate': [0.1, 0.05, 0.02, 0.01], \n",
    "                          'max_depth':[20, 10, 6, 4], \n",
    "                          'min_samples_leaf':[3, 5, 9, 17], \n",
    "                          'max_features':[1.0, 0.3, 0.1],\n",
    "                          'loss':['ls', 'lad', 'huber', 'quantile']\n",
    "                         }\n",
    "n_jobs = 4\n",
    "cv, best_estimator = GradientBooster(parameter_search_space, n_jobs, X_train, y_train[:,1])\n"
   ]
  },
  {
   "cell_type": "code",
   "execution_count": 324,
   "metadata": {},
   "outputs": [],
   "source": [
    "params = {'n_estimators': 500, 'learning_rate': 0.1, 'max_depth': 6, 'min_samples_leaf': 5, 'max_features': 1.0, 'loss':'huber'}"
   ]
  },
  {
   "cell_type": "code",
   "execution_count": 325,
   "metadata": {},
   "outputs": [],
   "source": [
    "best_estimator = GradientBoostingRegressor(**params)"
   ]
  },
  {
   "cell_type": "code",
   "execution_count": 326,
   "metadata": {},
   "outputs": [
    {
     "name": "stdout",
     "output_type": "stream",
     "text": [
      "R-squared for training set: 0.916647056055103\n",
      "R-squared for test set: 0.8315403446652577\n"
     ]
    }
   ],
   "source": [
    "# use the best parameters to train the model\n",
    "best_estimator.fit(X_train, y_train[:,1])\n",
    "print(\"R-squared for training set: {}\".format(best_estimator.score(X_train, y_train[:,1])))\n",
    "print(\"R-squared for test set: {}\".format(best_estimator.score(X_test, y_test[:,1])))"
   ]
  },
  {
   "cell_type": "code",
   "execution_count": 327,
   "metadata": {},
   "outputs": [],
   "source": [
    "feature_names = np.array(['intensity','monoisotopic_mz','rt_apex','scan_apex','charge'])"
   ]
  },
  {
   "cell_type": "code",
   "execution_count": 328,
   "metadata": {},
   "outputs": [
    {
     "data": {
      "image/png": "[encoded data removed]",
      "text/plain": [
       "<Figure size 1296x432 with 2 Axes>"
      ]
     },
     "metadata": {
      "needs_background": "light"
     },
     "output_type": "display_data"
    }
   ],
   "source": [
    "# Plot training loss\n",
    "\n",
    "# compute test set deviance\n",
    "test_score = np.zeros((params['n_estimators'],), dtype=np.float64)\n",
    "\n",
    "for i, y_pred in enumerate(best_estimator.staged_predict(X_test)):\n",
    "    test_score[i] = best_estimator.loss_(y_test[:,1], y_pred)\n",
    "\n",
    "plt.figure(figsize=(18, 6))\n",
    "plt.margins(0.06)\n",
    "plt.subplot(1, 2, 1)\n",
    "plt.title('Loss')\n",
    "plt.plot(np.arange(params['n_estimators']) + 1, best_estimator.train_score_, 'b-', label='Training Set')\n",
    "plt.plot(np.arange(params['n_estimators']) + 1, test_score, 'r-', label='Test Set')\n",
    "plt.legend(loc='best')\n",
    "plt.xlabel('Boosting Iterations')\n",
    "plt.ylabel('Loss')\n",
    "\n",
    "# Plot feature importance\n",
    "feature_importance = best_estimator.feature_importances_\n",
    "# make importances relative to max importance\n",
    "feature_importance = 100.0 * (feature_importance / feature_importance.max())\n",
    "sorted_idx = np.argsort(feature_importance)\n",
    "pos = np.arange(sorted_idx.shape[0]) + .5\n",
    "plt.subplot(1, 2, 2)\n",
    "plt.barh(pos, feature_importance[sorted_idx], align='center')\n",
    "plt.yticks(pos, feature_names[sorted_idx])\n",
    "plt.xlabel('Relative Importance')\n",
    "plt.title('Variable Importance')\n",
    "\n",
    "plt.show()"
   ]
  },
  {
   "cell_type": "code",
   "execution_count": 329,
   "metadata": {},
   "outputs": [],
   "source": [
    "# use the trained model to predict the intensity delta for the test set\n",
    "y_test_predicted = best_estimator.predict(X_test)"
   ]
  },
  {
   "cell_type": "code",
   "execution_count": 330,
   "metadata": {},
   "outputs": [],
   "source": [
    "intensity_df = pd.DataFrame()\n",
    "intensity_df['pre_adjustment_intensity_error'] = X_test[:,0] - y_test[:,1]\n",
    "intensity_df['post_adjustment_intensity_error'] = y_test_predicted - y_test[:,1]\n",
    "std_dev_before = intensity_df.pre_adjustment_intensity_error.std()\n",
    "std_dev_after = intensity_df.post_adjustment_intensity_error.std()\n",
    "median_before = intensity_df.pre_adjustment_intensity_error.median()\n",
    "median_after = intensity_df.post_adjustment_intensity_error.median()\n",
    "mean_before = intensity_df.pre_adjustment_intensity_error.mean()\n",
    "mean_after = intensity_df.post_adjustment_intensity_error.mean()"
   ]
  },
  {
   "cell_type": "code",
   "execution_count": 331,
   "metadata": {},
   "outputs": [
    {
     "data": {
      "text/plain": [
       "(1205.6919353412993, 1190.2061443031764)"
      ]
     },
     "execution_count": 331,
     "metadata": {},
     "output_type": "execute_result"
    }
   ],
   "source": [
    "std_dev_before, std_dev_after"
   ]
  },
  {
   "cell_type": "code",
   "execution_count": 332,
   "metadata": {},
   "outputs": [
    {
     "data": {
      "text/plain": [
       "(-39.5, 18.57783138509376)"
      ]
     },
     "execution_count": 332,
     "metadata": {},
     "output_type": "execute_result"
    }
   ],
   "source": [
    "median_before, median_after"
   ]
  },
  {
   "cell_type": "code",
   "execution_count": 333,
   "metadata": {},
   "outputs": [
    {
     "data": {
      "text/plain": [
       "(-66.9404705882353, -2.2563080225238603)"
      ]
     },
     "execution_count": 333,
     "metadata": {},
     "output_type": "execute_result"
    }
   ],
   "source": [
    "mean_before, mean_after"
   ]
  },
  {
   "cell_type": "markdown",
   "metadata": {},
   "source": [
    "plot intensity error before adjustment"
   ]
  },
  {
   "cell_type": "code",
   "execution_count": 334,
   "metadata": {},
   "outputs": [
    {
     "data": {
      "image/png": "[encoded data removed]",
      "text/plain": [
       "<Figure size 1080x576 with 1 Axes>"
      ]
     },
     "metadata": {
      "needs_background": "light"
     },
     "output_type": "display_data"
    }
   ],
   "source": [
    "f, ax1 = plt.subplots()\n",
    "f.set_figheight(8)\n",
    "f.set_figwidth(15)\n",
    "\n",
    "plt.margins(0.06)\n",
    "plt.title('error between intensity observed in this run and the experiment-wide median for the test set (N={})'.format(len(y_test_predicted)))\n",
    "\n",
    "bins = 100\n",
    "hist, bins, _ = plt.hist(intensity_df.pre_adjustment_intensity_error, bins=bins, label='intensity error')\n",
    "plt.xlabel('intensity error')\n",
    "plt.ylabel('count')\n",
    "\n",
    "plt.show()"
   ]
  },
  {
   "cell_type": "markdown",
   "metadata": {},
   "source": [
    "plot intensity error after adjustment"
   ]
  },
  {
   "cell_type": "code",
   "execution_count": 335,
   "metadata": {},
   "outputs": [
    {
     "data": {
      "image/png": "[encoded data removed]",
      "text/plain": [
       "<Figure size 1080x576 with 1 Axes>"
      ]
     },
     "metadata": {
      "needs_background": "light"
     },
     "output_type": "display_data"
    }
   ],
   "source": [
    "f, ax1 = plt.subplots()\n",
    "f.set_figheight(8)\n",
    "f.set_figwidth(15)\n",
    "\n",
    "plt.margins(0.06)\n",
    "plt.title('error between intensity observed in this run and the experiment-wide median for the test set (N={})'.format(len(y_test_predicted)))\n",
    "\n",
    "bins = 100\n",
    "hist, bins, _ = plt.hist(intensity_df.post_adjustment_intensity_error, bins=bins, label='intensity error')\n",
    "plt.xlabel('intensity error')\n",
    "plt.ylabel('count')\n",
    "\n",
    "plt.show()"
   ]
  },
  {
   "cell_type": "code",
   "execution_count": 303,
   "metadata": {},
   "outputs": [],
   "source": [
    "# save the trained model\n",
    "with open('/Users/darylwilding-mcbride/Downloads/experiments/dwm-test/intensity-models/file-{}-intensity-model.pkl'.format(file_idx_for_this_model), 'wb') as file:\n",
    "    pickle.dump(best_estimator, file)"
   ]
  },
  {
   "cell_type": "code",
   "execution_count": null,
   "metadata": {},
   "outputs": [],
   "source": []
  }
 ],
 "metadata": {
  "kernelspec": {
   "display_name": "Python 3",
   "language": "python",
   "name": "python3"
  },
  "language_info": {
   "codemirror_mode": {
    "name": "ipython",
    "version": 3
   },
   "file_extension": ".py",
   "mimetype": "text/x-python",
   "name": "python",
   "nbconvert_exporter": "python",
   "pygments_lexer": "ipython3",
   "version": "3.6.8"
  }
 },
 "nbformat": 4,
 "nbformat_minor": 2
}
