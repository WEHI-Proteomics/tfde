{
 "cells": [
  {
   "cell_type": "code",
   "execution_count": 20,
   "metadata": {},
   "outputs": [],
   "source": [
    "import pandas as pd\n",
    "import math\n",
    "import numpy as np\n",
    "import random\n",
    "import sqlite3\n",
    "import time\n",
    "from os.path import expanduser\n",
    "import os"
   ]
  },
  {
   "cell_type": "code",
   "execution_count": 4,
   "metadata": {},
   "outputs": [],
   "source": [
    "CONVERTED_DATABASE_NAME = '/media/big-ssd/experiments/P3856/converted-databases/exp-P3856-run-P3856_YHE211_1_Slot1-1_1_5104-converted.sqlite'\n",
    "# CONVERTED_DATABASE_NAME = '/Users/darylwilding-mcbride/Downloads/experiments/P3856/converted-databases/exp-P3856-run-P3856_YHE211_1_Slot1-1_1_5104-converted.sqlite'"
   ]
  },
  {
   "cell_type": "code",
   "execution_count": 5,
   "metadata": {},
   "outputs": [],
   "source": [
    "FRAME_TYPE_MS1 = 0\n",
    "rt_lower = 1650\n",
    "rt_upper = 2200\n",
    "scan_limit = 400\n",
    "segment_mz_lower = 780\n",
    "segment_mz_upper = 800"
   ]
  },
  {
   "cell_type": "code",
   "execution_count": 6,
   "metadata": {},
   "outputs": [
    {
     "name": "stdout",
     "output_type": "stream",
     "text": [
      "loaded 6763150 points in 35.3 seconds\n"
     ]
    }
   ],
   "source": [
    "start_run = time.time()\n",
    "\n",
    "db_conn = sqlite3.connect(CONVERTED_DATABASE_NAME)\n",
    "raw_df = pd.read_sql_query(\"select frame_id,mz,scan,intensity,retention_time_secs from frames where frame_type == {} and retention_time_secs >= {} and retention_time_secs <= {} and scan >= {} and mz >= {} and mz <= {}\".format(FRAME_TYPE_MS1, rt_lower, rt_upper, scan_limit, segment_mz_lower, segment_mz_upper), db_conn)\n",
    "db_conn.close()\n",
    "\n",
    "stop_run = time.time()\n",
    "print(\"loaded {} points in {} seconds\".format(len(raw_df), round(stop_run-start_run,1)))"
   ]
  },
  {
   "cell_type": "code",
   "execution_count": 38,
   "metadata": {},
   "outputs": [
    {
     "name": "stdout",
     "output_type": "stream",
     "text": [
      "<class 'pandas.core.frame.DataFrame'>\n",
      "RangeIndex: 6763150 entries, 0 to 6763149\n",
      "Data columns (total 5 columns):\n",
      " #   Column               Dtype  \n",
      "---  ------               -----  \n",
      " 0   frame_id             uint16 \n",
      " 1   mz                   float32\n",
      " 2   scan                 uint16 \n",
      " 3   intensity            uint16 \n",
      " 4   retention_time_secs  float32\n",
      "dtypes: float32(2), uint16(3)\n",
      "memory usage: 90.3 MB\n"
     ]
    }
   ],
   "source": [
    "raw_df.info()"
   ]
  },
  {
   "cell_type": "code",
   "execution_count": 33,
   "metadata": {},
   "outputs": [
    {
     "data": {
      "text/plain": [
       "Index                       128\n",
       "frame_id               13526300\n",
       "mz                     54105200\n",
       "scan                   13526300\n",
       "intensity              13526300\n",
       "retention_time_secs    54105200\n",
       "dtype: int64"
      ]
     },
     "execution_count": 33,
     "metadata": {},
     "output_type": "execute_result"
    }
   ],
   "source": [
    "raw_df.memory_usage(deep=True)"
   ]
  },
  {
   "cell_type": "code",
   "execution_count": 36,
   "metadata": {},
   "outputs": [],
   "source": [
    "int_columns = ['frame_id','scan','intensity']\n",
    "raw_df[int_columns] = raw_df[int_columns].apply(pd.to_numeric, downcast=\"unsigned\")"
   ]
  },
  {
   "cell_type": "code",
   "execution_count": 37,
   "metadata": {},
   "outputs": [],
   "source": [
    "float_columns = ['mz','retention_time_secs']\n",
    "raw_df[float_columns] = raw_df[float_columns].apply(pd.to_numeric, downcast=\"float\")"
   ]
  },
  {
   "cell_type": "code",
   "execution_count": 6,
   "metadata": {},
   "outputs": [
    {
     "data": {
      "text/plain": [
       "'/media/big-ssd/experiments/P3856/converted-databases/exp-P3856-run-P3856_YHE211_1_Slot1-1_1_5104-converted.hdf'"
      ]
     },
     "execution_count": 6,
     "metadata": {},
     "output_type": "execute_result"
    }
   ],
   "source": [
    "HDF_DATABASE_NAME = '/media/big-ssd/experiments/P3856/converted-databases/exp-P3856-run-P3856_YHE211_1_Slot1-1_1_5104-converted.hdf'\n",
    "# HDF_DATABASE_NAME = '{}/Downloads/exp-P3856-run-P3856_YHE211_1_Slot1-1_1_5104-converted.hdf'.format(expanduser('~'))\n",
    "HDF_DATABASE_NAME"
   ]
  },
  {
   "cell_type": "code",
   "execution_count": null,
   "metadata": {
    "scrolled": false
   },
   "outputs": [],
   "source": [
    "start_run = time.time()\n",
    "\n",
    "raw_df = pd.read_hdf(HDF_DATABASE_NAME, key='frames', columns=['frame_id','mz','retention_time_secs','scan','intensity'], where=[\"frame_type == {} and retention_time_secs >= {} and retention_time_secs <= {} and scan >= {} and mz >= {} and mz <= {}\".format(FRAME_TYPE_MS1, rt_lower, rt_upper, scan_limit, segment_mz_lower, segment_mz_upper)])\n",
    "\n",
    "stop_run = time.time()\n",
    "print(\"loaded {} points in {} seconds\".format(len(raw_df), round(stop_run-start_run,1)))"
   ]
  },
  {
   "cell_type": "code",
   "execution_count": 6,
   "metadata": {},
   "outputs": [
    {
     "data": {
      "text/html": [
       "<div>\n",
       "<style scoped>\n",
       "    .dataframe tbody tr th:only-of-type {\n",
       "        vertical-align: middle;\n",
       "    }\n",
       "\n",
       "    .dataframe tbody tr th {\n",
       "        vertical-align: top;\n",
       "    }\n",
       "\n",
       "    .dataframe thead th {\n",
       "        text-align: right;\n",
       "    }\n",
       "</style>\n",
       "<table border=\"1\" class=\"dataframe\">\n",
       "  <thead>\n",
       "    <tr style=\"text-align: right;\">\n",
       "      <th></th>\n",
       "      <th>frame_id</th>\n",
       "      <th>mz</th>\n",
       "      <th>retention_time_secs</th>\n",
       "      <th>scan</th>\n",
       "      <th>intensity</th>\n",
       "    </tr>\n",
       "  </thead>\n",
       "  <tbody>\n",
       "    <tr>\n",
       "      <th>18322346</th>\n",
       "      <td>14867</td>\n",
       "      <td>927.930839</td>\n",
       "      <td>1677.435519</td>\n",
       "      <td>425</td>\n",
       "      <td>96</td>\n",
       "    </tr>\n",
       "    <tr>\n",
       "      <th>16932351</th>\n",
       "      <td>14837</td>\n",
       "      <td>668.816649</td>\n",
       "      <td>1674.258781</td>\n",
       "      <td>668</td>\n",
       "      <td>65</td>\n",
       "    </tr>\n",
       "    <tr>\n",
       "      <th>8886646</th>\n",
       "      <td>14677</td>\n",
       "      <td>812.904921</td>\n",
       "      <td>1657.325852</td>\n",
       "      <td>501</td>\n",
       "      <td>41</td>\n",
       "    </tr>\n",
       "    <tr>\n",
       "      <th>13571428</th>\n",
       "      <td>15272</td>\n",
       "      <td>892.465779</td>\n",
       "      <td>1720.304310</td>\n",
       "      <td>345</td>\n",
       "      <td>106</td>\n",
       "    </tr>\n",
       "    <tr>\n",
       "      <th>16522334</th>\n",
       "      <td>15332</td>\n",
       "      <td>1146.831015</td>\n",
       "      <td>1726.658903</td>\n",
       "      <td>432</td>\n",
       "      <td>69</td>\n",
       "    </tr>\n",
       "  </tbody>\n",
       "</table>\n",
       "</div>"
      ],
      "text/plain": [
       "          frame_id           mz  retention_time_secs  scan  intensity\n",
       "18322346     14867   927.930839          1677.435519   425         96\n",
       "16932351     14837   668.816649          1674.258781   668         65\n",
       "8886646      14677   812.904921          1657.325852   501         41\n",
       "13571428     15272   892.465779          1720.304310   345        106\n",
       "16522334     15332  1146.831015          1726.658903   432         69"
      ]
     },
     "execution_count": 6,
     "metadata": {},
     "output_type": "execute_result"
    }
   ],
   "source": [
    "raw_df.sample(n=5)"
   ]
  },
  {
   "cell_type": "code",
   "execution_count": 7,
   "metadata": {},
   "outputs": [
    {
     "name": "stdout",
     "output_type": "stream",
     "text": [
      "<class 'pandas.core.frame.DataFrame'>\n",
      "Int64Index: 46945010 entries, 5563291 to 2672451\n",
      "Data columns (total 5 columns):\n",
      " #   Column               Dtype  \n",
      "---  ------               -----  \n",
      " 0   frame_id             int64  \n",
      " 1   mz                   float64\n",
      " 2   retention_time_secs  float64\n",
      " 3   scan                 int64  \n",
      " 4   intensity            int64  \n",
      "dtypes: float64(2), int64(3)\n",
      "memory usage: 2.1 GB\n"
     ]
    }
   ],
   "source": [
    "raw_df.info()"
   ]
  },
  {
   "cell_type": "code",
   "execution_count": 8,
   "metadata": {},
   "outputs": [
    {
     "name": "stdout",
     "output_type": "stream",
     "text": [
      "total running time: 78.8 seconds\n"
     ]
    }
   ],
   "source": [
    "start_run = time.time()\n",
    "for i in range(200):\n",
    "    subset_df = raw_df[(raw_df.mz >= 700) & (raw_df.mz <= 720) & (raw_df.scan >= 500) & (raw_df.scan <= 550) & (raw_df.retention_time_secs >= 1700) & (raw_df.retention_time_secs <= 1760)]\n",
    "stop_run = time.time()\n",
    "print(\"total running time: {} seconds\".format(round(stop_run-start_run,1)))"
   ]
  },
  {
   "cell_type": "code",
   "execution_count": 13,
   "metadata": {},
   "outputs": [
    {
     "name": "stdout",
     "output_type": "stream",
     "text": [
      "total running time: 16.0 seconds\n"
     ]
    }
   ],
   "source": [
    "start_run = time.time()\n",
    "for i in range(10000):\n",
    "    rt_df = subset_df.groupby(['frame_id'], as_index=False).intensity.sum()\n",
    "stop_run = time.time()\n",
    "print(\"total running time: {} seconds\".format(round(stop_run-start_run,1)))"
   ]
  },
  {
   "cell_type": "markdown",
   "metadata": {},
   "source": [
    "#### using cuDF"
   ]
  },
  {
   "cell_type": "code",
   "execution_count": 1,
   "metadata": {},
   "outputs": [
    {
     "ename": "ModuleNotFoundError",
     "evalue": "No module named 'cudf'",
     "output_type": "error",
     "traceback": [
      "\u001b[0;31m---------------------------------------------------------------------------\u001b[0m",
      "\u001b[0;31mModuleNotFoundError\u001b[0m                       Traceback (most recent call last)",
      "\u001b[0;32m<ipython-input-1-4d311da055f8>\u001b[0m in \u001b[0;36m<module>\u001b[0;34m\u001b[0m\n\u001b[0;32m----> 1\u001b[0;31m \u001b[0;32mimport\u001b[0m \u001b[0mcudf\u001b[0m\u001b[0;34m;\u001b[0m \u001b[0mprint\u001b[0m\u001b[0;34m(\u001b[0m\u001b[0;34m'cuDF Version:'\u001b[0m\u001b[0;34m,\u001b[0m \u001b[0mcudf\u001b[0m\u001b[0;34m.\u001b[0m\u001b[0m__version__\u001b[0m\u001b[0;34m)\u001b[0m\u001b[0;34m\u001b[0m\u001b[0;34m\u001b[0m\u001b[0m\n\u001b[0m",
      "\u001b[0;31mModuleNotFoundError\u001b[0m: No module named 'cudf'"
     ]
    }
   ],
   "source": [
    "import cudf; print('cuDF Version:', cudf.__version__)"
   ]
  },
  {
   "cell_type": "code",
   "execution_count": 8,
   "metadata": {},
   "outputs": [
    {
     "name": "stdout",
     "output_type": "stream",
     "text": [
      "total running time: 78.8 seconds\n"
     ]
    }
   ],
   "source": [
    "\n",
    "\n",
    "start_run = time.time()\n",
    "for i in range(200):\n",
    "    subset_df = raw_df[(raw_df.mz >= 700) & (raw_df.mz <= 720) & (raw_df.scan >= 500) & (raw_df.scan <= 550) & (raw_df.retention_time_secs >= 1700) & (raw_df.retention_time_secs <= 1760)]\n",
    "stop_run = time.time()\n",
    "print(\"total running time: {} seconds\".format(round(stop_run-start_run,1)))"
   ]
  },
  {
   "cell_type": "code",
   "execution_count": null,
   "metadata": {},
   "outputs": [],
   "source": []
  }
 ],
 "metadata": {
  "kernelspec": {
   "display_name": "Python 3",
   "language": "python",
   "name": "python3"
  },
  "language_info": {
   "codemirror_mode": {
    "name": "ipython",
    "version": 3
   },
   "file_extension": ".py",
   "mimetype": "text/x-python",
   "name": "python",
   "nbconvert_exporter": "python",
   "pygments_lexer": "ipython3",
   "version": "3.8.5"
  }
 },
 "nbformat": 4,
 "nbformat_minor": 4
}
