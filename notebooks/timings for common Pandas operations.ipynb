{
 "cells": [
  {
   "cell_type": "code",
   "execution_count": 1,
   "metadata": {},
   "outputs": [],
   "source": [
    "import pandas as pd\n",
    "import math\n",
    "import numpy as np\n",
    "import random\n",
    "import sqlite3\n",
    "import time\n",
    "from os.path import expanduser"
   ]
  },
  {
   "cell_type": "code",
   "execution_count": 2,
   "metadata": {},
   "outputs": [],
   "source": [
    "CONVERTED_DATABASE_NAME = '/Users/darylwilding-mcbride/Downloads/experiments/P3856/converted-databases/exp-P3856-run-P3856_YHE211_1_Slot1-1_1_5104-converted.sqlite'"
   ]
  },
  {
   "cell_type": "code",
   "execution_count": 5,
   "metadata": {},
   "outputs": [
    {
     "name": "stdout",
     "output_type": "stream",
     "text": [
      "loaded 46945010 points in 329.3 seconds\n"
     ]
    }
   ],
   "source": [
    "start_run = time.time()\n",
    "\n",
    "db_conn = sqlite3.connect(CONVERTED_DATABASE_NAME)\n",
    "raw_df = pd.read_sql_query(\"SELECT frame_id,mz,retention_time_secs,scan,intensity FROM frames where retention_time_secs >= 1650 and retention_time_secs <= 1750\", db_conn)\n",
    "db_conn.close()\n",
    "\n",
    "stop_run = time.time()\n",
    "print(\"loaded {} points in {} seconds\".format(len(raw_df), round(stop_run-start_run,1)))"
   ]
  },
  {
   "cell_type": "code",
   "execution_count": 3,
   "metadata": {},
   "outputs": [
    {
     "data": {
      "text/plain": [
       "'/Users/darylwilding-mcbride/Downloads/exp-P3856-run-P3856_YHE211_1_Slot1-1_1_5104-converted.hdf'"
      ]
     },
     "execution_count": 3,
     "metadata": {},
     "output_type": "execute_result"
    }
   ],
   "source": [
    "HDF_DATABASE_NAME = '{}/Downloads/exp-P3856-run-P3856_YHE211_1_Slot1-1_1_5104-converted.hdf'.format(expanduser('~'))\n",
    "HDF_DATABASE_NAME"
   ]
  },
  {
   "cell_type": "code",
   "execution_count": 4,
   "metadata": {
    "scrolled": false
   },
   "outputs": [
    {
     "name": "stdout",
     "output_type": "stream",
     "text": [
      "loaded 46945010 points in 40.0 seconds\n"
     ]
    }
   ],
   "source": [
    "start_run = time.time()\n",
    "\n",
    "raw_df = pd.read_hdf(HDF_DATABASE_NAME, key='frames', columns=['frame_id','mz','retention_time_secs','scan','intensity'], where=['retention_time_secs >= {} and retention_time_secs <= {}'.format(1650, 1750)])\n",
    "\n",
    "stop_run = time.time()\n",
    "print(\"loaded {} points in {} seconds\".format(len(raw_df), round(stop_run-start_run,1)))"
   ]
  },
  {
   "cell_type": "code",
   "execution_count": 8,
   "metadata": {},
   "outputs": [
    {
     "name": "stdout",
     "output_type": "stream",
     "text": [
      "total running time: 78.8 seconds\n"
     ]
    }
   ],
   "source": [
    "start_run = time.time()\n",
    "for i in range(200):\n",
    "    subset_df = raw_df[(raw_df.mz >= 700) & (raw_df.mz <= 720) & (raw_df.scan >= 500) & (raw_df.scan <= 550) & (raw_df.retention_time_secs >= 1700) & (raw_df.retention_time_secs <= 1760)]\n",
    "stop_run = time.time()\n",
    "print(\"total running time: {} seconds\".format(round(stop_run-start_run,1)))"
   ]
  },
  {
   "cell_type": "code",
   "execution_count": 13,
   "metadata": {},
   "outputs": [
    {
     "name": "stdout",
     "output_type": "stream",
     "text": [
      "total running time: 16.0 seconds\n"
     ]
    }
   ],
   "source": [
    "start_run = time.time()\n",
    "for i in range(10000):\n",
    "    rt_df = subset_df.groupby(['frame_id'], as_index=False).intensity.sum()\n",
    "stop_run = time.time()\n",
    "print(\"total running time: {} seconds\".format(round(stop_run-start_run,1)))"
   ]
  },
  {
   "cell_type": "code",
   "execution_count": null,
   "metadata": {},
   "outputs": [],
   "source": []
  }
 ],
 "metadata": {
  "kernelspec": {
   "display_name": "Python 3",
   "language": "python",
   "name": "python3"
  },
  "language_info": {
   "codemirror_mode": {
    "name": "ipython",
    "version": 3
   },
   "file_extension": ".py",
   "mimetype": "text/x-python",
   "name": "python",
   "nbconvert_exporter": "python",
   "pygments_lexer": "ipython3",
   "version": "3.8.8"
  }
 },
 "nbformat": 4,
 "nbformat_minor": 4
}
