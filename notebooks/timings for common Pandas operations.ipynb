{
 "cells": [
  {
   "cell_type": "code",
   "execution_count": 5,
   "metadata": {},
   "outputs": [],
   "source": [
    "import pandas as pd\n",
    "import math\n",
    "import numpy as np\n",
    "import random\n",
    "import sqlite3\n",
    "import time\n",
    "from os.path import expanduser"
   ]
  },
  {
   "cell_type": "code",
   "execution_count": 6,
   "metadata": {},
   "outputs": [],
   "source": [
    "CONVERTED_DATABASE_NAME = '/Users/darylwilding-mcbride/Downloads/experiments/P3856/converted-databases/exp-P3856-run-P3856_YHE211_1_Slot1-1_1_5104-converted.sqlite'"
   ]
  },
  {
   "cell_type": "code",
   "execution_count": 9,
   "metadata": {},
   "outputs": [
    {
     "name": "stdout",
     "output_type": "stream",
     "text": [
      "total running time: 324.8 seconds\n"
     ]
    }
   ],
   "source": [
    "start_run = time.time()\n",
    "\n",
    "db_conn = sqlite3.connect(CONVERTED_DATABASE_NAME)\n",
    "raw_df = pd.read_sql_query(\"SELECT frame_id,mz,retention_time_secs,scan,intensity FROM frames where retention_time_secs >= 1650 and retention_time_secs <= 1750\", db_conn)\n",
    "db_conn.close()\n",
    "\n",
    "stop_run = time.time()\n",
    "print(\"total running time: {} seconds\".format(round(stop_run-start_run,1)))"
   ]
  },
  {
   "cell_type": "code",
   "execution_count": 7,
   "metadata": {},
   "outputs": [
    {
     "data": {
      "text/plain": [
       "'/Users/darylwilding-mcbride/db.hdf'"
      ]
     },
     "execution_count": 7,
     "metadata": {},
     "output_type": "execute_result"
    }
   ],
   "source": [
    "HDF_DATABASE_NAME = '{}/db.hdf'.format(expanduser('~'))\n",
    "HDF_DATABASE_NAME"
   ]
  },
  {
   "cell_type": "code",
   "execution_count": 12,
   "metadata": {},
   "outputs": [],
   "source": [
    "raw_df.to_hdf(HDF_DATABASE_NAME, key='frames', format='table', data_columns=True)"
   ]
  },
  {
   "cell_type": "code",
   "execution_count": 13,
   "metadata": {
    "scrolled": false
   },
   "outputs": [
    {
     "name": "stdout",
     "output_type": "stream",
     "text": [
      "total running time: 24.7 seconds\n"
     ]
    }
   ],
   "source": [
    "start_run = time.time()\n",
    "raw_df = pd.read_hdf(HDF_DATABASE_NAME, key='frames', columns=['frame_id','mz','retention_time_secs','scan','intensity'], where=['retention_time_secs >= {} and retention_time_secs <= {}'.format(1650, 1750)])\n",
    "stop_run = time.time()\n",
    "print(\"total running time: {} seconds\".format(round(stop_run-start_run,1)))"
   ]
  },
  {
   "cell_type": "code",
   "execution_count": 13,
   "metadata": {},
   "outputs": [
    {
     "data": {
      "text/html": [
       "<div>\n",
       "<style scoped>\n",
       "    .dataframe tbody tr th:only-of-type {\n",
       "        vertical-align: middle;\n",
       "    }\n",
       "\n",
       "    .dataframe tbody tr th {\n",
       "        vertical-align: top;\n",
       "    }\n",
       "\n",
       "    .dataframe thead th {\n",
       "        text-align: right;\n",
       "    }\n",
       "</style>\n",
       "<table border=\"1\" class=\"dataframe\">\n",
       "  <thead>\n",
       "    <tr style=\"text-align: right;\">\n",
       "      <th></th>\n",
       "      <th>frame_id</th>\n",
       "      <th>mz</th>\n",
       "      <th>retention_time_secs</th>\n",
       "      <th>scan</th>\n",
       "      <th>intensity</th>\n",
       "    </tr>\n",
       "  </thead>\n",
       "  <tbody>\n",
       "    <tr>\n",
       "      <th>35576838</th>\n",
       "      <td>15327</td>\n",
       "      <td>679.305186</td>\n",
       "      <td>1726.129869</td>\n",
       "      <td>732</td>\n",
       "      <td>73</td>\n",
       "    </tr>\n",
       "    <tr>\n",
       "      <th>32291317</th>\n",
       "      <td>15262</td>\n",
       "      <td>1020.428067</td>\n",
       "      <td>1719.246419</td>\n",
       "      <td>335</td>\n",
       "      <td>20</td>\n",
       "    </tr>\n",
       "    <tr>\n",
       "      <th>8613329</th>\n",
       "      <td>14782</td>\n",
       "      <td>716.334464</td>\n",
       "      <td>1668.437367</td>\n",
       "      <td>160</td>\n",
       "      <td>22</td>\n",
       "    </tr>\n",
       "  </tbody>\n",
       "</table>\n",
       "</div>"
      ],
      "text/plain": [
       "          frame_id           mz  retention_time_secs  scan  intensity\n",
       "35576838     15327   679.305186          1726.129869   732         73\n",
       "32291317     15262  1020.428067          1719.246419   335         20\n",
       "8613329      14782   716.334464          1668.437367   160         22"
      ]
     },
     "execution_count": 13,
     "metadata": {},
     "output_type": "execute_result"
    }
   ],
   "source": [
    "raw_df.sample(n=3)"
   ]
  },
  {
   "cell_type": "code",
   "execution_count": 8,
   "metadata": {},
   "outputs": [
    {
     "name": "stdout",
     "output_type": "stream",
     "text": [
      "total running time: 78.8 seconds\n"
     ]
    }
   ],
   "source": [
    "start_run = time.time()\n",
    "for i in range(200):\n",
    "    subset_df = raw_df[(raw_df.mz >= 700) & (raw_df.mz <= 720) & (raw_df.scan >= 500) & (raw_df.scan <= 550) & (raw_df.retention_time_secs >= 1700) & (raw_df.retention_time_secs <= 1760)]\n",
    "stop_run = time.time()\n",
    "print(\"total running time: {} seconds\".format(round(stop_run-start_run,1)))"
   ]
  },
  {
   "cell_type": "code",
   "execution_count": 13,
   "metadata": {},
   "outputs": [
    {
     "name": "stdout",
     "output_type": "stream",
     "text": [
      "total running time: 16.0 seconds\n"
     ]
    }
   ],
   "source": [
    "start_run = time.time()\n",
    "for i in range(10000):\n",
    "    rt_df = subset_df.groupby(['frame_id'], as_index=False).intensity.sum()\n",
    "stop_run = time.time()\n",
    "print(\"total running time: {} seconds\".format(round(stop_run-start_run,1)))"
   ]
  },
  {
   "cell_type": "code",
   "execution_count": null,
   "metadata": {},
   "outputs": [],
   "source": []
  }
 ],
 "metadata": {
  "kernelspec": {
   "display_name": "Python 3",
   "language": "python",
   "name": "python3"
  },
  "language_info": {
   "codemirror_mode": {
    "name": "ipython",
    "version": 3
   },
   "file_extension": ".py",
   "mimetype": "text/x-python",
   "name": "python",
   "nbconvert_exporter": "python",
   "pygments_lexer": "ipython3",
   "version": "3.8.5"
  }
 },
 "nbformat": 4,
 "nbformat_minor": 4
}
