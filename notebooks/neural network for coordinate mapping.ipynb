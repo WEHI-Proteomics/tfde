{
 "cells": [
  {
   "cell_type": "code",
   "execution_count": 1,
   "metadata": {},
   "outputs": [],
   "source": [
    "import pandas as pd\n",
    "import numpy as np\n",
    "import sys\n",
    "import pickle\n",
    "import glob\n",
    "import os"
   ]
  },
  {
   "cell_type": "code",
   "execution_count": 2,
   "metadata": {},
   "outputs": [],
   "source": [
    "import peakutils"
   ]
  },
  {
   "cell_type": "code",
   "execution_count": 3,
   "metadata": {},
   "outputs": [],
   "source": [
    "NUMBER_OF_RUNS_IN_EXPERIMENT = 20"
   ]
  },
  {
   "cell_type": "code",
   "execution_count": 4,
   "metadata": {},
   "outputs": [],
   "source": [
    "percolator_df = pd.read_pickle('/Users/darylwilding-mcbride/Downloads/percolator_df.pkl')"
   ]
  },
  {
   "cell_type": "code",
   "execution_count": 5,
   "metadata": {},
   "outputs": [
    {
     "data": {
      "text/plain": [
       "Index(['file_idx', 'scan', 'charge_x', 'spectrum precursor m/z',\n",
       "       'spectrum neutral mass', 'peptide mass', 'percolator score',\n",
       "       'percolator q-value', 'percolator PEP', 'total matches/spectrum',\n",
       "       'sequence', 'protein id', 'flanking aa', 'feature_id', 'charge_y',\n",
       "       'rt_apex', 'scan_apex', 'intensity', 'precursor_id',\n",
       "       'monoisotopic_mass', 'predicted_mass_error',\n",
       "       'recalibrated_monoisotopic_mass', 'recalibrated_monoisotopic_mz',\n",
       "       'percolator_idx', 'batch', 'human'],\n",
       "      dtype='object')"
      ]
     },
     "execution_count": 5,
     "metadata": {},
     "output_type": "execute_result"
    }
   ],
   "source": [
    "percolator_df.columns"
   ]
  },
  {
   "cell_type": "code",
   "execution_count": 6,
   "metadata": {},
   "outputs": [],
   "source": [
    "# find the experiment-average for each sequence-charge\n",
    "experiment_sequences_l = []\n",
    "for group_name,group_df in percolator_df.groupby(['sequence','charge_x'], as_index=False):\n",
    "    sequence = group_name[0]\n",
    "    charge = group_name[1]\n",
    "    theoretical_mz = group_df.iloc[0]['spectrum precursor m/z']\n",
    "    experiment_scan = peakutils.centroid(group_df.scan_apex, group_df.intensity)\n",
    "    experiment_rt = peakutils.centroid(group_df.rt_apex, group_df.intensity)\n",
    "    experiment_intensity = group_df.intensity.mean()\n",
    "    experiment_sequences_l.append((sequence, charge, theoretical_mz, experiment_scan, experiment_rt, experiment_intensity))\n",
    "    "
   ]
  },
  {
   "cell_type": "code",
   "execution_count": 7,
   "metadata": {},
   "outputs": [],
   "source": [
    "experiment_sequences_df = pd.DataFrame(experiment_sequences_l, columns=['sequence','charge','theoretical_mz', 'experiment_scan', 'experiment_rt', 'experiment_intensity'])\n"
   ]
  },
  {
   "cell_type": "code",
   "execution_count": 8,
   "metadata": {},
   "outputs": [
    {
     "data": {
      "text/html": [
       "<div>\n",
       "<style scoped>\n",
       "    .dataframe tbody tr th:only-of-type {\n",
       "        vertical-align: middle;\n",
       "    }\n",
       "\n",
       "    .dataframe tbody tr th {\n",
       "        vertical-align: top;\n",
       "    }\n",
       "\n",
       "    .dataframe thead th {\n",
       "        text-align: right;\n",
       "    }\n",
       "</style>\n",
       "<table border=\"1\" class=\"dataframe\">\n",
       "  <thead>\n",
       "    <tr style=\"text-align: right;\">\n",
       "      <th></th>\n",
       "      <th>sequence</th>\n",
       "      <th>charge</th>\n",
       "      <th>theoretical_mz</th>\n",
       "      <th>experiment_scan</th>\n",
       "      <th>experiment_rt</th>\n",
       "      <th>experiment_intensity</th>\n",
       "    </tr>\n",
       "  </thead>\n",
       "  <tbody>\n",
       "    <tr>\n",
       "      <th>0</th>\n",
       "      <td>AAAAAAAAAPAAAATAPTTAATTAATAAQ</td>\n",
       "      <td>2</td>\n",
       "      <td>1184.1049</td>\n",
       "      <td>73.911301</td>\n",
       "      <td>602.012681</td>\n",
       "      <td>108754.444444</td>\n",
       "    </tr>\n",
       "    <tr>\n",
       "      <th>1</th>\n",
       "      <td>AAAAAAAAAPAAAATAPTTAATTAATAAQ</td>\n",
       "      <td>3</td>\n",
       "      <td>789.7394</td>\n",
       "      <td>335.868469</td>\n",
       "      <td>609.864140</td>\n",
       "      <td>29377.333333</td>\n",
       "    </tr>\n",
       "    <tr>\n",
       "      <th>2</th>\n",
       "      <td>AAAAAAAAVPSAGPAGPAPTSAAGR</td>\n",
       "      <td>2</td>\n",
       "      <td>1016.0286</td>\n",
       "      <td>160.291329</td>\n",
       "      <td>489.973155</td>\n",
       "      <td>58456.622222</td>\n",
       "    </tr>\n",
       "    <tr>\n",
       "      <th>3</th>\n",
       "      <td>AAAAALSQQQSLQER</td>\n",
       "      <td>2</td>\n",
       "      <td>785.9075</td>\n",
       "      <td>496.361511</td>\n",
       "      <td>375.039574</td>\n",
       "      <td>57092.250000</td>\n",
       "    </tr>\n",
       "    <tr>\n",
       "      <th>4</th>\n",
       "      <td>AAAAATVVPPMVGGPPFVGPVGFGPGDR</td>\n",
       "      <td>3</td>\n",
       "      <td>864.1171</td>\n",
       "      <td>707.537580</td>\n",
       "      <td>1039.861047</td>\n",
       "      <td>50988.518519</td>\n",
       "    </tr>\n",
       "  </tbody>\n",
       "</table>\n",
       "</div>"
      ],
      "text/plain": [
       "                        sequence  charge  theoretical_mz  experiment_scan  \\\n",
       "0  AAAAAAAAAPAAAATAPTTAATTAATAAQ       2       1184.1049        73.911301   \n",
       "1  AAAAAAAAAPAAAATAPTTAATTAATAAQ       3        789.7394       335.868469   \n",
       "2      AAAAAAAAVPSAGPAGPAPTSAAGR       2       1016.0286       160.291329   \n",
       "3                AAAAALSQQQSLQER       2        785.9075       496.361511   \n",
       "4   AAAAATVVPPMVGGPPFVGPVGFGPGDR       3        864.1171       707.537580   \n",
       "\n",
       "   experiment_rt  experiment_intensity  \n",
       "0     602.012681         108754.444444  \n",
       "1     609.864140          29377.333333  \n",
       "2     489.973155          58456.622222  \n",
       "3     375.039574          57092.250000  \n",
       "4    1039.861047          50988.518519  "
      ]
     },
     "execution_count": 8,
     "metadata": {},
     "output_type": "execute_result"
    }
   ],
   "source": [
    "experiment_sequences_df.head()"
   ]
  },
  {
   "cell_type": "code",
   "execution_count": 9,
   "metadata": {},
   "outputs": [
    {
     "data": {
      "text/plain": [
       "Index(['file_idx', 'scan', 'charge_x', 'spectrum precursor m/z',\n",
       "       'spectrum neutral mass', 'peptide mass', 'percolator score',\n",
       "       'percolator q-value', 'percolator PEP', 'total matches/spectrum',\n",
       "       'sequence', 'protein id', 'flanking aa', 'feature_id', 'charge_y',\n",
       "       'rt_apex', 'scan_apex', 'intensity', 'precursor_id',\n",
       "       'monoisotopic_mass', 'predicted_mass_error',\n",
       "       'recalibrated_monoisotopic_mass', 'recalibrated_monoisotopic_mz',\n",
       "       'percolator_idx', 'batch', 'human'],\n",
       "      dtype='object')"
      ]
     },
     "execution_count": 9,
     "metadata": {},
     "output_type": "execute_result"
    }
   ],
   "source": [
    "percolator_df.columns"
   ]
  },
  {
   "cell_type": "code",
   "execution_count": 50,
   "metadata": {},
   "outputs": [],
   "source": [
    "run_sequences_l = []\n",
    "for group_name,group_df in percolator_df.groupby(['file_idx','sequence','charge_x'], as_index=False):\n",
    "    file_idx = group_name[0]\n",
    "    sequence = group_name[1]\n",
    "    charge = group_name[2]\n",
    "    run_mz = peakutils.centroid(group_df.recalibrated_monoisotopic_mz, group_df.intensity)\n",
    "    run_mz_std_dev = np.std(group_df.recalibrated_monoisotopic_mz)\n",
    "    run_scan = peakutils.centroid(group_df.scan_apex, group_df.intensity)\n",
    "    run_scan_std_dev = np.std(group_df.scan_apex)\n",
    "    run_rt = peakutils.centroid(group_df.rt_apex, group_df.intensity)\n",
    "    run_rt_std_dev = np.std(group_df.rt_apex)\n",
    "    run_intensity = np.mean(group_df.intensity)\n",
    "    run_intensity_std_dev = np.std(group_df.intensity)\n",
    "    run_sequences_l.append((file_idx,sequence,charge,run_mz,run_scan,run_rt,run_mz_std_dev,run_scan_std_dev,run_rt_std_dev,run_intensity,run_intensity_std_dev))"
   ]
  },
  {
   "cell_type": "code",
   "execution_count": 51,
   "metadata": {},
   "outputs": [],
   "source": [
    "run_sequences_df = pd.DataFrame(run_sequences_l, columns=['file_idx','sequence','charge','run_mz','run_scan','run_rt','run_mz_std_dev','run_scan_std_dev','run_rt_std_dev','run_intensity','run_intensity_std_dev'])\n"
   ]
  },
  {
   "cell_type": "code",
   "execution_count": 52,
   "metadata": {},
   "outputs": [
    {
     "data": {
      "text/html": [
       "<div>\n",
       "<style scoped>\n",
       "    .dataframe tbody tr th:only-of-type {\n",
       "        vertical-align: middle;\n",
       "    }\n",
       "\n",
       "    .dataframe tbody tr th {\n",
       "        vertical-align: top;\n",
       "    }\n",
       "\n",
       "    .dataframe thead th {\n",
       "        text-align: right;\n",
       "    }\n",
       "</style>\n",
       "<table border=\"1\" class=\"dataframe\">\n",
       "  <thead>\n",
       "    <tr style=\"text-align: right;\">\n",
       "      <th></th>\n",
       "      <th>file_idx</th>\n",
       "      <th>sequence</th>\n",
       "      <th>charge</th>\n",
       "      <th>run_mz</th>\n",
       "      <th>run_scan</th>\n",
       "      <th>run_rt</th>\n",
       "      <th>run_mz_std_dev</th>\n",
       "      <th>run_scan_std_dev</th>\n",
       "      <th>run_rt_std_dev</th>\n",
       "      <th>run_intensity</th>\n",
       "      <th>run_intensity_std_dev</th>\n",
       "    </tr>\n",
       "  </thead>\n",
       "  <tbody>\n",
       "    <tr>\n",
       "      <th>0</th>\n",
       "      <td>0</td>\n",
       "      <td>AAAAAAAAAPAAAATAPTTAATTAATAAQ</td>\n",
       "      <td>2</td>\n",
       "      <td>1184.608424</td>\n",
       "      <td>74.065131</td>\n",
       "      <td>601.582008</td>\n",
       "      <td>0.000263</td>\n",
       "      <td>0.465000</td>\n",
       "      <td>0.065000</td>\n",
       "      <td>146908.000000</td>\n",
       "      <td>15838.0000</td>\n",
       "    </tr>\n",
       "    <tr>\n",
       "      <th>1</th>\n",
       "      <td>0</td>\n",
       "      <td>AAAAAAAAVPSAGPAGPAPTSAAGR</td>\n",
       "      <td>2</td>\n",
       "      <td>1016.532311</td>\n",
       "      <td>156.625361</td>\n",
       "      <td>486.692475</td>\n",
       "      <td>0.000087</td>\n",
       "      <td>2.523085</td>\n",
       "      <td>0.028284</td>\n",
       "      <td>53127.666667</td>\n",
       "      <td>4860.1922</td>\n",
       "    </tr>\n",
       "    <tr>\n",
       "      <th>2</th>\n",
       "      <td>0</td>\n",
       "      <td>AAAAAWEEPSSGNGTAR</td>\n",
       "      <td>2</td>\n",
       "      <td>823.382064</td>\n",
       "      <td>535.310000</td>\n",
       "      <td>367.240000</td>\n",
       "      <td>0.000000</td>\n",
       "      <td>0.000000</td>\n",
       "      <td>0.000000</td>\n",
       "      <td>258410.000000</td>\n",
       "      <td>0.0000</td>\n",
       "    </tr>\n",
       "    <tr>\n",
       "      <th>3</th>\n",
       "      <td>0</td>\n",
       "      <td>AAAAPVTGPLADDPIQETITFDDFAK</td>\n",
       "      <td>3</td>\n",
       "      <td>892.112987</td>\n",
       "      <td>468.100000</td>\n",
       "      <td>997.180000</td>\n",
       "      <td>0.000000</td>\n",
       "      <td>0.000000</td>\n",
       "      <td>0.000000</td>\n",
       "      <td>203979.000000</td>\n",
       "      <td>0.0000</td>\n",
       "    </tr>\n",
       "    <tr>\n",
       "      <th>4</th>\n",
       "      <td>0</td>\n",
       "      <td>AAAEDVNVTFEDQQK</td>\n",
       "      <td>2</td>\n",
       "      <td>832.891998</td>\n",
       "      <td>485.630000</td>\n",
       "      <td>471.790000</td>\n",
       "      <td>0.000000</td>\n",
       "      <td>0.000000</td>\n",
       "      <td>0.000000</td>\n",
       "      <td>74963.000000</td>\n",
       "      <td>0.0000</td>\n",
       "    </tr>\n",
       "  </tbody>\n",
       "</table>\n",
       "</div>"
      ],
      "text/plain": [
       "   file_idx                       sequence  charge       run_mz    run_scan  \\\n",
       "0         0  AAAAAAAAAPAAAATAPTTAATTAATAAQ       2  1184.608424   74.065131   \n",
       "1         0      AAAAAAAAVPSAGPAGPAPTSAAGR       2  1016.532311  156.625361   \n",
       "2         0              AAAAAWEEPSSGNGTAR       2   823.382064  535.310000   \n",
       "3         0     AAAAPVTGPLADDPIQETITFDDFAK       3   892.112987  468.100000   \n",
       "4         0                AAAEDVNVTFEDQQK       2   832.891998  485.630000   \n",
       "\n",
       "       run_rt  run_mz_std_dev  run_scan_std_dev  run_rt_std_dev  \\\n",
       "0  601.582008        0.000263          0.465000        0.065000   \n",
       "1  486.692475        0.000087          2.523085        0.028284   \n",
       "2  367.240000        0.000000          0.000000        0.000000   \n",
       "3  997.180000        0.000000          0.000000        0.000000   \n",
       "4  471.790000        0.000000          0.000000        0.000000   \n",
       "\n",
       "   run_intensity  run_intensity_std_dev  \n",
       "0  146908.000000             15838.0000  \n",
       "1   53127.666667              4860.1922  \n",
       "2  258410.000000                 0.0000  \n",
       "3  203979.000000                 0.0000  \n",
       "4   74963.000000                 0.0000  "
      ]
     },
     "execution_count": 52,
     "metadata": {},
     "output_type": "execute_result"
    }
   ],
   "source": [
    "run_sequences_df.head()"
   ]
  },
  {
   "cell_type": "code",
   "execution_count": 41,
   "metadata": {},
   "outputs": [],
   "source": [
    "import matplotlib.pyplot as plt"
   ]
  },
  {
   "cell_type": "code",
   "execution_count": 76,
   "metadata": {},
   "outputs": [],
   "source": [
    "cv_mz = run_sequences_df.run_mz_std_dev / run_sequences_df.run_mz"
   ]
  },
  {
   "cell_type": "code",
   "execution_count": 77,
   "metadata": {},
   "outputs": [
    {
     "data": {
      "image/png": "[encoded data removed]",
      "text/plain": [
       "<Figure size 1080x576 with 1 Axes>"
      ]
     },
     "metadata": {
      "needs_background": "light"
     },
     "output_type": "display_data"
    }
   ],
   "source": [
    "f, ax1 = plt.subplots()\n",
    "f.set_figheight(8)\n",
    "f.set_figwidth(15)\n",
    "\n",
    "plt.margins(0.06)\n",
    "plt.title('')\n",
    "\n",
    "bins = 100\n",
    "hist, bins, _ = plt.hist(cv_mz, bins=bins)\n",
    "plt.xlabel('sequence m/z coefficient of variation')\n",
    "plt.ylabel('count')\n",
    "\n",
    "plt.show()"
   ]
  },
  {
   "cell_type": "code",
   "execution_count": 74,
   "metadata": {},
   "outputs": [],
   "source": [
    "cv_scan = run_sequences_df.run_scan_std_dev / run_sequences_df.run_scan"
   ]
  },
  {
   "cell_type": "code",
   "execution_count": 75,
   "metadata": {},
   "outputs": [
    {
     "data": {
      "image/png": "[encoded data removed]",
      "text/plain": [
       "<Figure size 1080x576 with 1 Axes>"
      ]
     },
     "metadata": {
      "needs_background": "light"
     },
     "output_type": "display_data"
    }
   ],
   "source": [
    "f, ax1 = plt.subplots()\n",
    "f.set_figheight(8)\n",
    "f.set_figwidth(15)\n",
    "\n",
    "plt.margins(0.06)\n",
    "plt.title('')\n",
    "\n",
    "bins = 100\n",
    "hist, bins, _ = plt.hist(cv_scan, bins=bins)\n",
    "plt.xlabel('sequence scan coefficient of variation')\n",
    "plt.ylabel('count')\n",
    "\n",
    "plt.show()"
   ]
  },
  {
   "cell_type": "code",
   "execution_count": 70,
   "metadata": {},
   "outputs": [],
   "source": [
    "cv_rt = run_sequences_df.run_rt_std_dev / run_sequences_df.run_rt"
   ]
  },
  {
   "cell_type": "code",
   "execution_count": 71,
   "metadata": {},
   "outputs": [
    {
     "data": {
      "image/png": "[encoded data removed]",
      "text/plain": [
       "<Figure size 1080x576 with 1 Axes>"
      ]
     },
     "metadata": {
      "needs_background": "light"
     },
     "output_type": "display_data"
    }
   ],
   "source": [
    "f, ax1 = plt.subplots()\n",
    "f.set_figheight(8)\n",
    "f.set_figwidth(15)\n",
    "\n",
    "plt.margins(0.06)\n",
    "plt.title('')\n",
    "\n",
    "bins = 100\n",
    "hist, bins, _ = plt.hist(cv_rt, bins=bins, label='m/z delta')\n",
    "plt.xlabel('sequence RT coefficient of variation')\n",
    "plt.ylabel('count')\n",
    "\n",
    "plt.show()"
   ]
  },
  {
   "cell_type": "code",
   "execution_count": 72,
   "metadata": {},
   "outputs": [],
   "source": [
    "cv_intensity = run_sequences_df.run_intensity_std_dev / run_sequences_df.run_intensity"
   ]
  },
  {
   "cell_type": "code",
   "execution_count": 73,
   "metadata": {},
   "outputs": [
    {
     "data": {
      "image/png": "[encoded data removed]",
      "text/plain": [
       "<Figure size 1080x576 with 1 Axes>"
      ]
     },
     "metadata": {
      "needs_background": "light"
     },
     "output_type": "display_data"
    }
   ],
   "source": [
    "f, ax1 = plt.subplots()\n",
    "f.set_figheight(8)\n",
    "f.set_figwidth(15)\n",
    "\n",
    "plt.margins(0.06)\n",
    "plt.title('')\n",
    "\n",
    "bins = 100\n",
    "hist, bins, _ = plt.hist(cv_intensity, bins=bins)\n",
    "plt.xlabel('sequence intensity coefficient of variation')\n",
    "plt.ylabel('count')\n",
    "\n",
    "plt.show()"
   ]
  },
  {
   "cell_type": "code",
   "execution_count": 30,
   "metadata": {},
   "outputs": [],
   "source": [
    "merged_df = pd.merge(run_sequences_df, experiment_sequences_df, how='left', left_on=['sequence','charge'], right_on=['sequence','charge'])"
   ]
  },
  {
   "cell_type": "code",
   "execution_count": 31,
   "metadata": {},
   "outputs": [],
   "source": [
    "merged_df['delta_mz'] = merged_df.theoretical_mz - merged_df.run_mz\n",
    "merged_df['delta_scan'] = merged_df.experiment_scan - merged_df.run_scan\n",
    "merged_df['delta_rt'] = merged_df.experiment_rt - merged_df.run_rt"
   ]
  },
  {
   "cell_type": "code",
   "execution_count": 32,
   "metadata": {},
   "outputs": [
    {
     "data": {
      "text/html": [
       "<div>\n",
       "<style scoped>\n",
       "    .dataframe tbody tr th:only-of-type {\n",
       "        vertical-align: middle;\n",
       "    }\n",
       "\n",
       "    .dataframe tbody tr th {\n",
       "        vertical-align: top;\n",
       "    }\n",
       "\n",
       "    .dataframe thead th {\n",
       "        text-align: right;\n",
       "    }\n",
       "</style>\n",
       "<table border=\"1\" class=\"dataframe\">\n",
       "  <thead>\n",
       "    <tr style=\"text-align: right;\">\n",
       "      <th></th>\n",
       "      <th>file_idx</th>\n",
       "      <th>sequence</th>\n",
       "      <th>charge</th>\n",
       "      <th>run_mz</th>\n",
       "      <th>run_scan</th>\n",
       "      <th>run_rt</th>\n",
       "      <th>theoretical_mz</th>\n",
       "      <th>experiment_scan</th>\n",
       "      <th>experiment_rt</th>\n",
       "      <th>experiment_intensity</th>\n",
       "      <th>delta_mz</th>\n",
       "      <th>delta_scan</th>\n",
       "      <th>delta_rt</th>\n",
       "    </tr>\n",
       "  </thead>\n",
       "  <tbody>\n",
       "    <tr>\n",
       "      <th>0</th>\n",
       "      <td>0</td>\n",
       "      <td>AAAAAAAAAPAAAATAPTTAATTAATAAQ</td>\n",
       "      <td>2</td>\n",
       "      <td>1184.608424</td>\n",
       "      <td>74.065131</td>\n",
       "      <td>601.582008</td>\n",
       "      <td>1184.1049</td>\n",
       "      <td>73.911301</td>\n",
       "      <td>602.012681</td>\n",
       "      <td>108754.444444</td>\n",
       "      <td>-0.503524</td>\n",
       "      <td>-0.153831</td>\n",
       "      <td>0.430673</td>\n",
       "    </tr>\n",
       "    <tr>\n",
       "      <th>1</th>\n",
       "      <td>0</td>\n",
       "      <td>AAAAAAAAVPSAGPAGPAPTSAAGR</td>\n",
       "      <td>2</td>\n",
       "      <td>1016.532311</td>\n",
       "      <td>156.625361</td>\n",
       "      <td>486.692475</td>\n",
       "      <td>1016.0286</td>\n",
       "      <td>160.291329</td>\n",
       "      <td>489.973155</td>\n",
       "      <td>58456.622222</td>\n",
       "      <td>-0.503711</td>\n",
       "      <td>3.665967</td>\n",
       "      <td>3.280680</td>\n",
       "    </tr>\n",
       "    <tr>\n",
       "      <th>2</th>\n",
       "      <td>0</td>\n",
       "      <td>AAAAAWEEPSSGNGTAR</td>\n",
       "      <td>2</td>\n",
       "      <td>823.382064</td>\n",
       "      <td>535.310000</td>\n",
       "      <td>367.240000</td>\n",
       "      <td>822.8783</td>\n",
       "      <td>533.861853</td>\n",
       "      <td>371.271659</td>\n",
       "      <td>277023.690476</td>\n",
       "      <td>-0.503764</td>\n",
       "      <td>-1.448147</td>\n",
       "      <td>4.031659</td>\n",
       "    </tr>\n",
       "    <tr>\n",
       "      <th>3</th>\n",
       "      <td>0</td>\n",
       "      <td>AAAAPVTGPLADDPIQETITFDDFAK</td>\n",
       "      <td>3</td>\n",
       "      <td>892.112987</td>\n",
       "      <td>468.100000</td>\n",
       "      <td>997.180000</td>\n",
       "      <td>891.7775</td>\n",
       "      <td>465.668232</td>\n",
       "      <td>997.391366</td>\n",
       "      <td>150202.950000</td>\n",
       "      <td>-0.335487</td>\n",
       "      <td>-2.431768</td>\n",
       "      <td>0.211366</td>\n",
       "    </tr>\n",
       "    <tr>\n",
       "      <th>4</th>\n",
       "      <td>0</td>\n",
       "      <td>AAAEDVNVTFEDQQK</td>\n",
       "      <td>2</td>\n",
       "      <td>832.891998</td>\n",
       "      <td>485.630000</td>\n",
       "      <td>471.790000</td>\n",
       "      <td>832.3878</td>\n",
       "      <td>487.082550</td>\n",
       "      <td>475.841292</td>\n",
       "      <td>116982.693430</td>\n",
       "      <td>-0.504198</td>\n",
       "      <td>1.452550</td>\n",
       "      <td>4.051292</td>\n",
       "    </tr>\n",
       "  </tbody>\n",
       "</table>\n",
       "</div>"
      ],
      "text/plain": [
       "   file_idx                       sequence  charge       run_mz    run_scan  \\\n",
       "0         0  AAAAAAAAAPAAAATAPTTAATTAATAAQ       2  1184.608424   74.065131   \n",
       "1         0      AAAAAAAAVPSAGPAGPAPTSAAGR       2  1016.532311  156.625361   \n",
       "2         0              AAAAAWEEPSSGNGTAR       2   823.382064  535.310000   \n",
       "3         0     AAAAPVTGPLADDPIQETITFDDFAK       3   892.112987  468.100000   \n",
       "4         0                AAAEDVNVTFEDQQK       2   832.891998  485.630000   \n",
       "\n",
       "       run_rt  theoretical_mz  experiment_scan  experiment_rt  \\\n",
       "0  601.582008       1184.1049        73.911301     602.012681   \n",
       "1  486.692475       1016.0286       160.291329     489.973155   \n",
       "2  367.240000        822.8783       533.861853     371.271659   \n",
       "3  997.180000        891.7775       465.668232     997.391366   \n",
       "4  471.790000        832.3878       487.082550     475.841292   \n",
       "\n",
       "   experiment_intensity  delta_mz  delta_scan  delta_rt  \n",
       "0         108754.444444 -0.503524   -0.153831  0.430673  \n",
       "1          58456.622222 -0.503711    3.665967  3.280680  \n",
       "2         277023.690476 -0.503764   -1.448147  4.031659  \n",
       "3         150202.950000 -0.335487   -2.431768  0.211366  \n",
       "4         116982.693430 -0.504198    1.452550  4.051292  "
      ]
     },
     "execution_count": 32,
     "metadata": {},
     "output_type": "execute_result"
    }
   ],
   "source": [
    "merged_df.head()"
   ]
  },
  {
   "cell_type": "code",
   "execution_count": 33,
   "metadata": {},
   "outputs": [
    {
     "data": {
      "text/plain": [
       "1.010614427598739"
      ]
     },
     "execution_count": 33,
     "metadata": {},
     "output_type": "execute_result"
    }
   ],
   "source": [
    "np.abs(merged_df.delta_mz).max()"
   ]
  },
  {
   "cell_type": "code",
   "execution_count": 34,
   "metadata": {},
   "outputs": [],
   "source": [
    "merged_df.to_pickle('/Users/darylwilding-mcbride/Downloads/experiments/190719_Hela_Ecoli/training-sets/merged_df.pkl')"
   ]
  },
  {
   "cell_type": "markdown",
   "metadata": {},
   "source": [
    "Generate the training sets for each run"
   ]
  },
  {
   "cell_type": "code",
   "execution_count": null,
   "metadata": {},
   "outputs": [],
   "source": [
    "mapping_df = pd.read_pickle('/Users/darylwilding-mcbride/Downloads/percolator_mapping_df.pkl')"
   ]
  },
  {
   "cell_type": "code",
   "execution_count": null,
   "metadata": {},
   "outputs": [],
   "source": [
    "TRAINING_SET_DIR = '/Users/darylwilding-mcbride/Downloads/experiments/190719_Hela_Ecoli/training-sets'"
   ]
  },
  {
   "cell_type": "code",
   "execution_count": null,
   "metadata": {},
   "outputs": [],
   "source": [
    "for file_idx in range(NUMBER_OF_RUNS_IN_EXPERIMENT):\n",
    "    X_df = merged_df[merged_df.file_idx == file_idx][['theoretical_mz','experiment_average_scan','experiment_average_rt']]\n",
    "    y_df = merged_df[merged_df.file_idx == file_idx][['run_average_mz','run_average_scan','run_average_rt']]\n",
    "    run_name = mapping_df[mapping_df.file_idx == file_idx].run_name.iloc[0]\n",
    "    training_set_file_name_X = \"{}/X_df-file-{}-{}.pkl\".format(TRAINING_SET_DIR, file_idx, run_name)\n",
    "    X_df.to_pickle(training_set_file_name_X)\n",
    "    training_set_file_name_y = \"{}/y_df-file-{}-{}.pkl\".format(TRAINING_SET_DIR, file_idx, run_name)\n",
    "    y_df.to_pickle(training_set_file_name_y)"
   ]
  },
  {
   "cell_type": "markdown",
   "metadata": {},
   "source": [
    "Extract the training set for file_idx = 0"
   ]
  },
  {
   "cell_type": "code",
   "execution_count": null,
   "metadata": {},
   "outputs": [],
   "source": [
    "X_df = merged_df[merged_df.file_idx == 0][['theoretical_mz','experiment_average_scan','experiment_average_rt']]\n",
    "y_df = merged_df[merged_df.file_idx == 0][['run_average_mz','run_average_scan','run_average_rt']]"
   ]
  },
  {
   "cell_type": "code",
   "execution_count": null,
   "metadata": {},
   "outputs": [],
   "source": [
    "X = X_df.values\n",
    "y = y_df.values"
   ]
  },
  {
   "cell_type": "code",
   "execution_count": null,
   "metadata": {},
   "outputs": [],
   "source": [
    "from sklearn import preprocessing"
   ]
  },
  {
   "cell_type": "code",
   "execution_count": null,
   "metadata": {},
   "outputs": [],
   "source": [
    "min_max_scaler = preprocessing.MinMaxScaler()"
   ]
  },
  {
   "cell_type": "code",
   "execution_count": null,
   "metadata": {},
   "outputs": [],
   "source": [
    "X_scaled = min_max_scaler.fit_transform(X)"
   ]
  },
  {
   "cell_type": "code",
   "execution_count": null,
   "metadata": {},
   "outputs": [],
   "source": [
    "from sklearn.model_selection import train_test_split"
   ]
  },
  {
   "cell_type": "code",
   "execution_count": null,
   "metadata": {},
   "outputs": [],
   "source": [
    "X_train, X_val_and_test, y_train, y_val_and_test = train_test_split(X_scaled, y, test_size=0.3)"
   ]
  },
  {
   "cell_type": "code",
   "execution_count": null,
   "metadata": {},
   "outputs": [],
   "source": [
    "X_val, X_test, y_val, y_test = train_test_split(X_val_and_test, y_val_and_test, test_size=0.5)"
   ]
  },
  {
   "cell_type": "code",
   "execution_count": null,
   "metadata": {},
   "outputs": [],
   "source": [
    "print(X_train.shape, X_val.shape, X_test.shape, y_train.shape, y_val.shape, y_test.shape)"
   ]
  },
  {
   "cell_type": "code",
   "execution_count": null,
   "metadata": {},
   "outputs": [],
   "source": [
    "import keras\n",
    "from keras.models import Model\n",
    "from keras.layers import Input, Dense"
   ]
  },
  {
   "cell_type": "code",
   "execution_count": null,
   "metadata": {},
   "outputs": [],
   "source": [
    "keras.backend.clear_session()"
   ]
  },
  {
   "cell_type": "code",
   "execution_count": null,
   "metadata": {},
   "outputs": [],
   "source": [
    "inputs = Input(shape=(3,), dtype='float32', name='main_input')"
   ]
  },
  {
   "cell_type": "code",
   "execution_count": null,
   "metadata": {},
   "outputs": [],
   "source": [
    "x = Dense(32, activation='relu')(inputs)\n",
    "x = Dense(128, activation='relu')(x)\n",
    "x = Dense(128, activation='relu')(x)\n",
    "x = Dense(32, activation='relu')(x)\n",
    "predictions = Dense(3, activation='sigmoid')(x)"
   ]
  },
  {
   "cell_type": "code",
   "execution_count": null,
   "metadata": {},
   "outputs": [],
   "source": [
    "model = Model(inputs=inputs, outputs=predictions)"
   ]
  },
  {
   "cell_type": "code",
   "execution_count": null,
   "metadata": {},
   "outputs": [],
   "source": [
    "model.compile(optimizer='sgd',\n",
    "              loss='mean_squared_error',\n",
    "              metrics=['accuracy'])"
   ]
  },
  {
   "cell_type": "code",
   "execution_count": null,
   "metadata": {},
   "outputs": [],
   "source": [
    "hist = model.fit(X_train, y_train,\n",
    "          batch_size=8, epochs=200,\n",
    "          validation_data=(X_val, y_val))"
   ]
  },
  {
   "cell_type": "code",
   "execution_count": null,
   "metadata": {},
   "outputs": [],
   "source": [
    "import matplotlib.pyplot as plt"
   ]
  },
  {
   "cell_type": "code",
   "execution_count": null,
   "metadata": {},
   "outputs": [],
   "source": [
    "f, ax1 = plt.subplots()\n",
    "f.set_figheight(8)\n",
    "f.set_figwidth(15)\n",
    "\n",
    "plt.plot(hist.history['acc'])\n",
    "plt.plot(hist.history['val_acc'])\n",
    "plt.title('Model accuracy')\n",
    "plt.ylabel('Accuracy')\n",
    "plt.xlabel('Epoch')\n",
    "plt.legend(['Train', 'Val'], loc='lower right')\n",
    "plt.show()"
   ]
  },
  {
   "cell_type": "code",
   "execution_count": null,
   "metadata": {},
   "outputs": [],
   "source": [
    "model.evaluate(X_test, y_test)[1]"
   ]
  },
  {
   "cell_type": "code",
   "execution_count": null,
   "metadata": {},
   "outputs": [],
   "source": [
    "model.predict(X_train)"
   ]
  },
  {
   "cell_type": "code",
   "execution_count": null,
   "metadata": {},
   "outputs": [],
   "source": [
    "X_train"
   ]
  },
  {
   "cell_type": "code",
   "execution_count": null,
   "metadata": {},
   "outputs": [],
   "source": [
    "model.predict_on_batch(X_test)"
   ]
  },
  {
   "cell_type": "code",
   "execution_count": null,
   "metadata": {},
   "outputs": [],
   "source": []
  }
 ],
 "metadata": {
  "kernelspec": {
   "display_name": "Python 3",
   "language": "python",
   "name": "python3"
  },
  "language_info": {
   "codemirror_mode": {
    "name": "ipython",
    "version": 3
   },
   "file_extension": ".py",
   "mimetype": "text/x-python",
   "name": "python",
   "nbconvert_exporter": "python",
   "pygments_lexer": "ipython3",
   "version": "3.6.8"
  }
 },
 "nbformat": 4,
 "nbformat_minor": 2
}
