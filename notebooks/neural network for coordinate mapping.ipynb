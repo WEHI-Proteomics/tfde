{
 "cells": [
  {
   "cell_type": "code",
   "execution_count": 2,
   "metadata": {},
   "outputs": [],
   "source": [
    "import pandas as pd\n",
    "import numpy as np\n",
    "import sys\n",
    "import pickle\n",
    "import glob\n",
    "import os"
   ]
  },
  {
   "cell_type": "code",
   "execution_count": 87,
   "metadata": {},
   "outputs": [],
   "source": [
    "NUMBER_OF_RUNS_IN_EXPERIMENT = 20"
   ]
  },
  {
   "cell_type": "code",
   "execution_count": 3,
   "metadata": {},
   "outputs": [],
   "source": [
    "percolator_df = pd.read_pickle('/Users/darylwilding-mcbride/Downloads/percolator_df.pkl')"
   ]
  },
  {
   "cell_type": "code",
   "execution_count": 4,
   "metadata": {},
   "outputs": [
    {
     "data": {
      "text/plain": [
       "Index(['file_idx', 'scan', 'charge_x', 'spectrum precursor m/z',\n",
       "       'spectrum neutral mass', 'peptide mass', 'percolator score',\n",
       "       'percolator q-value', 'percolator PEP', 'total matches/spectrum',\n",
       "       'sequence', 'protein id', 'flanking aa', 'feature_id', 'charge_y',\n",
       "       'rt_apex', 'scan_apex', 'intensity', 'precursor_id',\n",
       "       'monoisotopic_mass', 'predicted_mass_error',\n",
       "       'recalibrated_monoisotopic_mass', 'recalibrated_monoisotopic_mz',\n",
       "       'percolator_idx', 'batch', 'human'],\n",
       "      dtype='object')"
      ]
     },
     "execution_count": 4,
     "metadata": {},
     "output_type": "execute_result"
    }
   ],
   "source": [
    "percolator_df.columns"
   ]
  },
  {
   "cell_type": "code",
   "execution_count": 8,
   "metadata": {},
   "outputs": [],
   "source": [
    "# find the experiment-average for each sequence-charge\n",
    "experiment_sequences_l = []\n",
    "for group_name,group_df in percolator_df.groupby(['sequence','charge_x'], as_index=False):\n",
    "    sequence = group_name[0]\n",
    "    charge = group_name[1]\n",
    "    theoretical_mz = group_df.iloc[0]['spectrum precursor m/z']\n",
    "    experiment_average_scan = group_df.scan_apex.mean()\n",
    "    experiment_average_rt = group_df.rt_apex.mean()\n",
    "    experiment_sequences_l.append((sequence, charge, theoretical_mz, experiment_average_scan, experiment_average_rt))"
   ]
  },
  {
   "cell_type": "code",
   "execution_count": 10,
   "metadata": {},
   "outputs": [],
   "source": [
    "experiment_sequences_df = pd.DataFrame(experiment_sequences_l, columns=['sequence','charge','theoretical_mz', 'experiment_average_scan', 'experiment_average_rt'])"
   ]
  },
  {
   "cell_type": "code",
   "execution_count": 11,
   "metadata": {},
   "outputs": [
    {
     "data": {
      "text/html": [
       "<div>\n",
       "<style scoped>\n",
       "    .dataframe tbody tr th:only-of-type {\n",
       "        vertical-align: middle;\n",
       "    }\n",
       "\n",
       "    .dataframe tbody tr th {\n",
       "        vertical-align: top;\n",
       "    }\n",
       "\n",
       "    .dataframe thead th {\n",
       "        text-align: right;\n",
       "    }\n",
       "</style>\n",
       "<table border=\"1\" class=\"dataframe\">\n",
       "  <thead>\n",
       "    <tr style=\"text-align: right;\">\n",
       "      <th></th>\n",
       "      <th>sequence</th>\n",
       "      <th>charge</th>\n",
       "      <th>theoretical_mz</th>\n",
       "      <th>experiment_average_scan</th>\n",
       "      <th>experiment_average_rt</th>\n",
       "    </tr>\n",
       "  </thead>\n",
       "  <tbody>\n",
       "    <tr>\n",
       "      <th>0</th>\n",
       "      <td>AAAAAAAAAPAAAATAPTTAATTAATAAQ</td>\n",
       "      <td>2</td>\n",
       "      <td>1184.1049</td>\n",
       "      <td>73.528889</td>\n",
       "      <td>604.371111</td>\n",
       "    </tr>\n",
       "    <tr>\n",
       "      <th>1</th>\n",
       "      <td>AAAAAAAAAPAAAATAPTTAATTAATAAQ</td>\n",
       "      <td>3</td>\n",
       "      <td>789.7394</td>\n",
       "      <td>336.016667</td>\n",
       "      <td>609.890000</td>\n",
       "    </tr>\n",
       "    <tr>\n",
       "      <th>2</th>\n",
       "      <td>AAAAAAAAVPSAGPAGPAPTSAAGR</td>\n",
       "      <td>2</td>\n",
       "      <td>1016.0286</td>\n",
       "      <td>159.998000</td>\n",
       "      <td>489.613333</td>\n",
       "    </tr>\n",
       "    <tr>\n",
       "      <th>3</th>\n",
       "      <td>AAAAALSQQQSLQER</td>\n",
       "      <td>2</td>\n",
       "      <td>785.9075</td>\n",
       "      <td>496.325000</td>\n",
       "      <td>375.042500</td>\n",
       "    </tr>\n",
       "    <tr>\n",
       "      <th>4</th>\n",
       "      <td>AAAAATVVPPMVGGPPFVGPVGFGPGDR</td>\n",
       "      <td>3</td>\n",
       "      <td>864.1171</td>\n",
       "      <td>706.957407</td>\n",
       "      <td>1039.716667</td>\n",
       "    </tr>\n",
       "  </tbody>\n",
       "</table>\n",
       "</div>"
      ],
      "text/plain": [
       "                        sequence  charge  theoretical_mz  \\\n",
       "0  AAAAAAAAAPAAAATAPTTAATTAATAAQ       2       1184.1049   \n",
       "1  AAAAAAAAAPAAAATAPTTAATTAATAAQ       3        789.7394   \n",
       "2      AAAAAAAAVPSAGPAGPAPTSAAGR       2       1016.0286   \n",
       "3                AAAAALSQQQSLQER       2        785.9075   \n",
       "4   AAAAATVVPPMVGGPPFVGPVGFGPGDR       3        864.1171   \n",
       "\n",
       "   experiment_average_scan  experiment_average_rt  \n",
       "0                73.528889             604.371111  \n",
       "1               336.016667             609.890000  \n",
       "2               159.998000             489.613333  \n",
       "3               496.325000             375.042500  \n",
       "4               706.957407            1039.716667  "
      ]
     },
     "execution_count": 11,
     "metadata": {},
     "output_type": "execute_result"
    }
   ],
   "source": [
    "experiment_sequences_df.head()"
   ]
  },
  {
   "cell_type": "code",
   "execution_count": 9,
   "metadata": {},
   "outputs": [],
   "source": [
    "run_sequences_l = []\n",
    "for group_name,group_df in percolator_df.groupby(['file_idx','sequence','charge_x'], as_index=False):\n",
    "    file_idx = group_name[0]\n",
    "    sequence = group_name[1]\n",
    "    charge = group_name[2]\n",
    "    run_average_mz = group_df.recalibrated_monoisotopic_mz.mean()\n",
    "    run_average_scan = group_df.scan_apex.mean()\n",
    "    run_average_rt = group_df.rt_apex.mean()\n",
    "    run_sequences_l.append((file_idx,sequence,charge,run_average_mz,run_average_scan,run_average_rt))"
   ]
  },
  {
   "cell_type": "code",
   "execution_count": 12,
   "metadata": {},
   "outputs": [],
   "source": [
    "run_sequences_df = pd.DataFrame(run_sequences_l, columns=['file_idx','sequence','charge','run_average_mz','run_average_scan','run_average_rt'])"
   ]
  },
  {
   "cell_type": "code",
   "execution_count": 13,
   "metadata": {},
   "outputs": [
    {
     "data": {
      "text/html": [
       "<div>\n",
       "<style scoped>\n",
       "    .dataframe tbody tr th:only-of-type {\n",
       "        vertical-align: middle;\n",
       "    }\n",
       "\n",
       "    .dataframe tbody tr th {\n",
       "        vertical-align: top;\n",
       "    }\n",
       "\n",
       "    .dataframe thead th {\n",
       "        text-align: right;\n",
       "    }\n",
       "</style>\n",
       "<table border=\"1\" class=\"dataframe\">\n",
       "  <thead>\n",
       "    <tr style=\"text-align: right;\">\n",
       "      <th></th>\n",
       "      <th>file_idx</th>\n",
       "      <th>sequence</th>\n",
       "      <th>charge</th>\n",
       "      <th>run_average_mz</th>\n",
       "      <th>run_average_scan</th>\n",
       "      <th>run_average_rt</th>\n",
       "    </tr>\n",
       "  </thead>\n",
       "  <tbody>\n",
       "    <tr>\n",
       "      <th>0</th>\n",
       "      <td>0</td>\n",
       "      <td>AAAAAAAAAPAAAATAPTTAATTAATAAQ</td>\n",
       "      <td>2</td>\n",
       "      <td>1184.608396</td>\n",
       "      <td>74.015000</td>\n",
       "      <td>601.575</td>\n",
       "    </tr>\n",
       "    <tr>\n",
       "      <th>1</th>\n",
       "      <td>0</td>\n",
       "      <td>AAAAAAAAVPSAGPAGPAPTSAAGR</td>\n",
       "      <td>2</td>\n",
       "      <td>1016.532319</td>\n",
       "      <td>156.406667</td>\n",
       "      <td>486.690</td>\n",
       "    </tr>\n",
       "    <tr>\n",
       "      <th>2</th>\n",
       "      <td>0</td>\n",
       "      <td>AAAAAWEEPSSGNGTAR</td>\n",
       "      <td>2</td>\n",
       "      <td>823.382064</td>\n",
       "      <td>535.310000</td>\n",
       "      <td>367.240</td>\n",
       "    </tr>\n",
       "    <tr>\n",
       "      <th>3</th>\n",
       "      <td>0</td>\n",
       "      <td>AAAAPVTGPLADDPIQETITFDDFAK</td>\n",
       "      <td>3</td>\n",
       "      <td>892.112987</td>\n",
       "      <td>468.100000</td>\n",
       "      <td>997.180</td>\n",
       "    </tr>\n",
       "    <tr>\n",
       "      <th>4</th>\n",
       "      <td>0</td>\n",
       "      <td>AAAEDVNVTFEDQQK</td>\n",
       "      <td>2</td>\n",
       "      <td>832.891998</td>\n",
       "      <td>485.630000</td>\n",
       "      <td>471.790</td>\n",
       "    </tr>\n",
       "  </tbody>\n",
       "</table>\n",
       "</div>"
      ],
      "text/plain": [
       "   file_idx                       sequence  charge  run_average_mz  \\\n",
       "0         0  AAAAAAAAAPAAAATAPTTAATTAATAAQ       2     1184.608396   \n",
       "1         0      AAAAAAAAVPSAGPAGPAPTSAAGR       2     1016.532319   \n",
       "2         0              AAAAAWEEPSSGNGTAR       2      823.382064   \n",
       "3         0     AAAAPVTGPLADDPIQETITFDDFAK       3      892.112987   \n",
       "4         0                AAAEDVNVTFEDQQK       2      832.891998   \n",
       "\n",
       "   run_average_scan  run_average_rt  \n",
       "0         74.015000         601.575  \n",
       "1        156.406667         486.690  \n",
       "2        535.310000         367.240  \n",
       "3        468.100000         997.180  \n",
       "4        485.630000         471.790  "
      ]
     },
     "execution_count": 13,
     "metadata": {},
     "output_type": "execute_result"
    }
   ],
   "source": [
    "run_sequences_df.head()"
   ]
  },
  {
   "cell_type": "code",
   "execution_count": 14,
   "metadata": {},
   "outputs": [],
   "source": [
    "merged_df = pd.merge(run_sequences_df, experiment_sequences_df, how='left', left_on=['sequence','charge'], right_on=['sequence','charge'])"
   ]
  },
  {
   "cell_type": "code",
   "execution_count": 15,
   "metadata": {},
   "outputs": [
    {
     "data": {
      "text/html": [
       "<div>\n",
       "<style scoped>\n",
       "    .dataframe tbody tr th:only-of-type {\n",
       "        vertical-align: middle;\n",
       "    }\n",
       "\n",
       "    .dataframe tbody tr th {\n",
       "        vertical-align: top;\n",
       "    }\n",
       "\n",
       "    .dataframe thead th {\n",
       "        text-align: right;\n",
       "    }\n",
       "</style>\n",
       "<table border=\"1\" class=\"dataframe\">\n",
       "  <thead>\n",
       "    <tr style=\"text-align: right;\">\n",
       "      <th></th>\n",
       "      <th>file_idx</th>\n",
       "      <th>sequence</th>\n",
       "      <th>charge</th>\n",
       "      <th>run_average_mz</th>\n",
       "      <th>run_average_scan</th>\n",
       "      <th>run_average_rt</th>\n",
       "      <th>theoretical_mz</th>\n",
       "      <th>experiment_average_scan</th>\n",
       "      <th>experiment_average_rt</th>\n",
       "    </tr>\n",
       "  </thead>\n",
       "  <tbody>\n",
       "    <tr>\n",
       "      <th>0</th>\n",
       "      <td>0</td>\n",
       "      <td>AAAAAAAAAPAAAATAPTTAATTAATAAQ</td>\n",
       "      <td>2</td>\n",
       "      <td>1184.608396</td>\n",
       "      <td>74.015000</td>\n",
       "      <td>601.575</td>\n",
       "      <td>1184.1049</td>\n",
       "      <td>73.528889</td>\n",
       "      <td>604.371111</td>\n",
       "    </tr>\n",
       "    <tr>\n",
       "      <th>1</th>\n",
       "      <td>0</td>\n",
       "      <td>AAAAAAAAVPSAGPAGPAPTSAAGR</td>\n",
       "      <td>2</td>\n",
       "      <td>1016.532319</td>\n",
       "      <td>156.406667</td>\n",
       "      <td>486.690</td>\n",
       "      <td>1016.0286</td>\n",
       "      <td>159.998000</td>\n",
       "      <td>489.613333</td>\n",
       "    </tr>\n",
       "    <tr>\n",
       "      <th>2</th>\n",
       "      <td>0</td>\n",
       "      <td>AAAAAWEEPSSGNGTAR</td>\n",
       "      <td>2</td>\n",
       "      <td>823.382064</td>\n",
       "      <td>535.310000</td>\n",
       "      <td>367.240</td>\n",
       "      <td>822.8783</td>\n",
       "      <td>532.994286</td>\n",
       "      <td>371.006190</td>\n",
       "    </tr>\n",
       "    <tr>\n",
       "      <th>3</th>\n",
       "      <td>0</td>\n",
       "      <td>AAAAPVTGPLADDPIQETITFDDFAK</td>\n",
       "      <td>3</td>\n",
       "      <td>892.112987</td>\n",
       "      <td>468.100000</td>\n",
       "      <td>997.180</td>\n",
       "      <td>891.7775</td>\n",
       "      <td>465.181500</td>\n",
       "      <td>997.738000</td>\n",
       "    </tr>\n",
       "    <tr>\n",
       "      <th>4</th>\n",
       "      <td>0</td>\n",
       "      <td>AAAEDVNVTFEDQQK</td>\n",
       "      <td>2</td>\n",
       "      <td>832.891998</td>\n",
       "      <td>485.630000</td>\n",
       "      <td>471.790</td>\n",
       "      <td>832.3878</td>\n",
       "      <td>486.112727</td>\n",
       "      <td>474.475455</td>\n",
       "    </tr>\n",
       "  </tbody>\n",
       "</table>\n",
       "</div>"
      ],
      "text/plain": [
       "   file_idx                       sequence  charge  run_average_mz  \\\n",
       "0         0  AAAAAAAAAPAAAATAPTTAATTAATAAQ       2     1184.608396   \n",
       "1         0      AAAAAAAAVPSAGPAGPAPTSAAGR       2     1016.532319   \n",
       "2         0              AAAAAWEEPSSGNGTAR       2      823.382064   \n",
       "3         0     AAAAPVTGPLADDPIQETITFDDFAK       3      892.112987   \n",
       "4         0                AAAEDVNVTFEDQQK       2      832.891998   \n",
       "\n",
       "   run_average_scan  run_average_rt  theoretical_mz  experiment_average_scan  \\\n",
       "0         74.015000         601.575       1184.1049                73.528889   \n",
       "1        156.406667         486.690       1016.0286               159.998000   \n",
       "2        535.310000         367.240        822.8783               532.994286   \n",
       "3        468.100000         997.180        891.7775               465.181500   \n",
       "4        485.630000         471.790        832.3878               486.112727   \n",
       "\n",
       "   experiment_average_rt  \n",
       "0             604.371111  \n",
       "1             489.613333  \n",
       "2             371.006190  \n",
       "3             997.738000  \n",
       "4             474.475455  "
      ]
     },
     "execution_count": 15,
     "metadata": {},
     "output_type": "execute_result"
    }
   ],
   "source": [
    "merged_df.head()"
   ]
  },
  {
   "cell_type": "markdown",
   "metadata": {},
   "source": [
    "Generate the training sets for each run"
   ]
  },
  {
   "cell_type": "code",
   "execution_count": 90,
   "metadata": {},
   "outputs": [],
   "source": [
    "mapping_df = pd.read_pickle('/Users/darylwilding-mcbride/Downloads/percolator_mapping_df.pkl')"
   ]
  },
  {
   "cell_type": "code",
   "execution_count": 92,
   "metadata": {},
   "outputs": [],
   "source": [
    "TRAINING_SET_DIR = '/Users/darylwilding-mcbride/Downloads/experiments/190719_Hela_Ecoli/training-sets'"
   ]
  },
  {
   "cell_type": "code",
   "execution_count": 94,
   "metadata": {},
   "outputs": [],
   "source": [
    "for file_idx in range(NUMBER_OF_RUNS_IN_EXPERIMENT):\n",
    "    X_df = merged_df[merged_df.file_idx == file_idx][['theoretical_mz','experiment_average_scan','experiment_average_rt']]\n",
    "    y_df = merged_df[merged_df.file_idx == file_idx][['run_average_mz','run_average_scan','run_average_rt']]\n",
    "    run_name = mapping_df[mapping_df.file_idx == file_idx].run_name.iloc[0]\n",
    "    training_set_file_name_X = \"{}/X_df-file-{}-{}.pkl\".format(TRAINING_SET_DIR, file_idx, run_name)\n",
    "    X_df.to_pickle(training_set_file_name_X)\n",
    "    training_set_file_name_y = \"{}/y_df-file-{}-{}.pkl\".format(TRAINING_SET_DIR, file_idx, run_name)\n",
    "    y_df.to_pickle(training_set_file_name_y)"
   ]
  },
  {
   "cell_type": "markdown",
   "metadata": {},
   "source": [
    "Extract the training set for file_idx = 0"
   ]
  },
  {
   "cell_type": "code",
   "execution_count": 107,
   "metadata": {},
   "outputs": [],
   "source": [
    "X_df = merged_df[merged_df.file_idx == 0][['theoretical_mz','experiment_average_scan','experiment_average_rt']]\n",
    "y_df = merged_df[merged_df.file_idx == 0][['run_average_mz','run_average_scan','run_average_rt']]"
   ]
  },
  {
   "cell_type": "code",
   "execution_count": 108,
   "metadata": {},
   "outputs": [],
   "source": [
    "X = X_df.values\n",
    "y = y_df.values"
   ]
  },
  {
   "cell_type": "code",
   "execution_count": 109,
   "metadata": {},
   "outputs": [],
   "source": [
    "from sklearn import preprocessing"
   ]
  },
  {
   "cell_type": "code",
   "execution_count": 110,
   "metadata": {},
   "outputs": [],
   "source": [
    "min_max_scaler = preprocessing.MinMaxScaler()"
   ]
  },
  {
   "cell_type": "code",
   "execution_count": 111,
   "metadata": {},
   "outputs": [],
   "source": [
    "X_scaled = min_max_scaler.fit_transform(X)"
   ]
  },
  {
   "cell_type": "code",
   "execution_count": 112,
   "metadata": {},
   "outputs": [],
   "source": [
    "from sklearn.model_selection import train_test_split"
   ]
  },
  {
   "cell_type": "code",
   "execution_count": 113,
   "metadata": {},
   "outputs": [],
   "source": [
    "X_train, X_val_and_test, y_train, y_val_and_test = train_test_split(X_scaled, y, test_size=0.3)"
   ]
  },
  {
   "cell_type": "code",
   "execution_count": 114,
   "metadata": {},
   "outputs": [],
   "source": [
    "X_val, X_test, y_val, y_test = train_test_split(X_val_and_test, y_val_and_test, test_size=0.5)"
   ]
  },
  {
   "cell_type": "code",
   "execution_count": 115,
   "metadata": {},
   "outputs": [
    {
     "name": "stdout",
     "output_type": "stream",
     "text": [
      "(9697, 3) (2078, 3) (2078, 3) (9697, 3) (2078, 3) (2078, 3)\n"
     ]
    }
   ],
   "source": [
    "print(X_train.shape, X_val.shape, X_test.shape, y_train.shape, y_val.shape, y_test.shape)"
   ]
  },
  {
   "cell_type": "code",
   "execution_count": 139,
   "metadata": {},
   "outputs": [],
   "source": [
    "import keras\n",
    "from keras.models import Model\n",
    "from keras.layers import Input, Dense"
   ]
  },
  {
   "cell_type": "code",
   "execution_count": 180,
   "metadata": {},
   "outputs": [],
   "source": [
    "keras.backend.clear_session()"
   ]
  },
  {
   "cell_type": "code",
   "execution_count": 181,
   "metadata": {},
   "outputs": [],
   "source": [
    "inputs = Input(shape=(3,), dtype='float32', name='main_input')"
   ]
  },
  {
   "cell_type": "code",
   "execution_count": 182,
   "metadata": {},
   "outputs": [],
   "source": [
    "x = Dense(32, activation='relu')(inputs)\n",
    "x = Dense(128, activation='relu')(x)\n",
    "x = Dense(128, activation='relu')(x)\n",
    "x = Dense(32, activation='relu')(x)\n",
    "predictions = Dense(3, activation='sigmoid')(x)"
   ]
  },
  {
   "cell_type": "code",
   "execution_count": 183,
   "metadata": {},
   "outputs": [],
   "source": [
    "model = Model(inputs=inputs, outputs=predictions)"
   ]
  },
  {
   "cell_type": "code",
   "execution_count": 184,
   "metadata": {},
   "outputs": [],
   "source": [
    "model.compile(optimizer='sgd',\n",
    "              loss='mean_squared_error',\n",
    "              metrics=['accuracy'])"
   ]
  },
  {
   "cell_type": "code",
   "execution_count": 185,
   "metadata": {},
   "outputs": [
    {
     "name": "stdout",
     "output_type": "stream",
     "text": [
      "Train on 9697 samples, validate on 2078 samples\n",
      "Epoch 1/200\n",
      "9697/9697 [==============================] - 2s 170us/step - loss: 504894.0266 - acc: 0.1521 - val_loss: 501458.3028 - val_acc: 0.1631\n",
      "Epoch 2/200\n",
      "9697/9697 [==============================] - 2s 158us/step - loss: 504893.3897 - acc: 0.1702 - val_loss: 501458.3028 - val_acc: 0.2026\n",
      "Epoch 3/200\n",
      "9697/9697 [==============================] - 2s 156us/step - loss: 504893.3900 - acc: 0.2067 - val_loss: 501458.3028 - val_acc: 0.2310\n",
      "Epoch 4/200\n",
      "9697/9697 [==============================] - 2s 162us/step - loss: 504893.3907 - acc: 0.2422 - val_loss: 501458.3028 - val_acc: 0.2565\n",
      "Epoch 5/200\n",
      "9697/9697 [==============================] - 2s 159us/step - loss: 504893.3915 - acc: 0.2771 - val_loss: 501458.3028 - val_acc: 0.2897\n",
      "Epoch 6/200\n",
      "9697/9697 [==============================] - 2s 224us/step - loss: 504893.3912 - acc: 0.3019 - val_loss: 501458.3028 - val_acc: 0.3219\n",
      "Epoch 7/200\n",
      "9697/9697 [==============================] - 2s 228us/step - loss: 504893.3908 - acc: 0.3298 - val_loss: 501458.3028 - val_acc: 0.3292\n",
      "Epoch 8/200\n",
      "9697/9697 [==============================] - 2s 244us/step - loss: 504893.3906 - acc: 0.3488 - val_loss: 501458.3028 - val_acc: 0.3426\n",
      "Epoch 9/200\n",
      "9697/9697 [==============================] - 2s 239us/step - loss: 504893.3912 - acc: 0.3725 - val_loss: 501458.3028 - val_acc: 0.3831\n",
      "Epoch 10/200\n",
      "9697/9697 [==============================] - 3s 308us/step - loss: 504893.3909 - acc: 0.3907 - val_loss: 501458.3028 - val_acc: 0.3908\n",
      "Epoch 11/200\n",
      "9697/9697 [==============================] - 2s 231us/step - loss: 504893.3904 - acc: 0.3988 - val_loss: 501458.3028 - val_acc: 0.4023\n",
      "Epoch 12/200\n",
      "9697/9697 [==============================] - 2s 185us/step - loss: 504893.3910 - acc: 0.4141 - val_loss: 501458.3028 - val_acc: 0.4071\n",
      "Epoch 13/200\n",
      "9697/9697 [==============================] - 2s 210us/step - loss: 504893.3904 - acc: 0.4220 - val_loss: 501458.3028 - val_acc: 0.4167\n",
      "Epoch 14/200\n",
      "9697/9697 [==============================] - 2s 187us/step - loss: 504893.3910 - acc: 0.4336 - val_loss: 501458.3028 - val_acc: 0.4326\n",
      "Epoch 15/200\n",
      "9697/9697 [==============================] - 2s 176us/step - loss: 504893.3911 - acc: 0.4430 - val_loss: 501458.3028 - val_acc: 0.4423\n",
      "Epoch 16/200\n",
      "9697/9697 [==============================] - 2s 181us/step - loss: 504893.3903 - acc: 0.4494 - val_loss: 501458.3028 - val_acc: 0.4403\n",
      "Epoch 17/200\n",
      "9697/9697 [==============================] - 2s 187us/step - loss: 504893.3903 - acc: 0.4578 - val_loss: 501458.3028 - val_acc: 0.4403\n",
      "Epoch 18/200\n",
      "9697/9697 [==============================] - 2s 189us/step - loss: 504893.3903 - acc: 0.4647 - val_loss: 501458.3028 - val_acc: 0.4562\n",
      "Epoch 19/200\n",
      "9697/9697 [==============================] - 2s 188us/step - loss: 504893.3903 - acc: 0.4695 - val_loss: 501458.3028 - val_acc: 0.4639\n",
      "Epoch 20/200\n",
      "9697/9697 [==============================] - 2s 179us/step - loss: 504893.3920 - acc: 0.4778 - val_loss: 501458.3028 - val_acc: 0.4745\n",
      "Epoch 21/200\n",
      "9697/9697 [==============================] - 2s 187us/step - loss: 504893.3901 - acc: 0.4825 - val_loss: 501458.3028 - val_acc: 0.4817\n",
      "Epoch 22/200\n",
      "9697/9697 [==============================] - 2s 186us/step - loss: 504893.3910 - acc: 0.4857 - val_loss: 501458.3028 - val_acc: 0.4860\n",
      "Epoch 23/200\n",
      "9697/9697 [==============================] - 2s 181us/step - loss: 504893.3916 - acc: 0.4905 - val_loss: 501458.3028 - val_acc: 0.4885\n",
      "Epoch 24/200\n",
      "9697/9697 [==============================] - 2s 180us/step - loss: 504893.3904 - acc: 0.4938 - val_loss: 501458.3028 - val_acc: 0.4899\n",
      "Epoch 25/200\n",
      "9697/9697 [==============================] - 2s 218us/step - loss: 504893.3910 - acc: 0.4976 - val_loss: 501458.3028 - val_acc: 0.4841\n",
      "Epoch 26/200\n",
      "9697/9697 [==============================] - 2s 181us/step - loss: 504893.3905 - acc: 0.4995 - val_loss: 501458.3028 - val_acc: 0.4870\n",
      "Epoch 27/200\n",
      "9697/9697 [==============================] - 2s 178us/step - loss: 504893.3906 - acc: 0.5038 - val_loss: 501458.3028 - val_acc: 0.4990\n",
      "Epoch 28/200\n",
      "9697/9697 [==============================] - 2s 177us/step - loss: 504893.3909 - acc: 0.5006 - val_loss: 501458.3028 - val_acc: 0.4962\n",
      "Epoch 29/200\n",
      "9697/9697 [==============================] - 2s 194us/step - loss: 504893.3903 - acc: 0.5079 - val_loss: 501458.3028 - val_acc: 0.4990\n",
      "Epoch 30/200\n",
      "9697/9697 [==============================] - 2s 202us/step - loss: 504893.3906 - acc: 0.5117 - val_loss: 501458.3028 - val_acc: 0.5038\n",
      "Epoch 31/200\n",
      "9697/9697 [==============================] - 2s 181us/step - loss: 504893.3908 - acc: 0.5119 - val_loss: 501458.3028 - val_acc: 0.5053\n",
      "Epoch 32/200\n",
      "9697/9697 [==============================] - 2s 191us/step - loss: 504893.3912 - acc: 0.5151 - val_loss: 501458.3028 - val_acc: 0.5221\n",
      "Epoch 33/200\n",
      "9697/9697 [==============================] - 2s 187us/step - loss: 504893.3900 - acc: 0.5184 - val_loss: 501458.3028 - val_acc: 0.5058\n",
      "Epoch 34/200\n",
      "9697/9697 [==============================] - 2s 187us/step - loss: 504893.3902 - acc: 0.5207 - val_loss: 501458.3028 - val_acc: 0.5178\n",
      "Epoch 35/200\n",
      "9697/9697 [==============================] - 2s 180us/step - loss: 504893.3914 - acc: 0.5200 - val_loss: 501458.3028 - val_acc: 0.5212\n",
      "Epoch 36/200\n",
      "9697/9697 [==============================] - 2s 190us/step - loss: 504893.3907 - acc: 0.5261 - val_loss: 501458.3028 - val_acc: 0.5217\n",
      "Epoch 37/200\n",
      "9697/9697 [==============================] - 2s 174us/step - loss: 504893.3916 - acc: 0.5243 - val_loss: 501458.3028 - val_acc: 0.5255\n",
      "Epoch 38/200\n",
      "9697/9697 [==============================] - 2s 176us/step - loss: 504893.3915 - acc: 0.5233 - val_loss: 501458.3028 - val_acc: 0.5289\n",
      "Epoch 39/200\n",
      "9697/9697 [==============================] - 2s 181us/step - loss: 504893.3904 - acc: 0.5303 - val_loss: 501458.3028 - val_acc: 0.5245\n",
      "Epoch 40/200\n",
      "9697/9697 [==============================] - 2s 181us/step - loss: 504893.3902 - acc: 0.5298 - val_loss: 501458.3028 - val_acc: 0.5284\n",
      "Epoch 41/200\n",
      "9697/9697 [==============================] - 2s 183us/step - loss: 504893.3905 - acc: 0.5308 - val_loss: 501458.3028 - val_acc: 0.5294\n",
      "Epoch 42/200\n",
      "9697/9697 [==============================] - 2s 180us/step - loss: 504893.3911 - acc: 0.5305 - val_loss: 501458.3028 - val_acc: 0.5371\n",
      "Epoch 43/200\n",
      "9697/9697 [==============================] - 2s 176us/step - loss: 504893.3907 - acc: 0.5336 - val_loss: 501458.3028 - val_acc: 0.5289\n",
      "Epoch 44/200\n",
      "9697/9697 [==============================] - 2s 173us/step - loss: 504893.3906 - acc: 0.5338 - val_loss: 501458.3028 - val_acc: 0.5289\n",
      "Epoch 45/200\n",
      "9697/9697 [==============================] - 2s 176us/step - loss: 504893.3914 - acc: 0.5350 - val_loss: 501458.3028 - val_acc: 0.5284\n",
      "Epoch 46/200\n",
      "9697/9697 [==============================] - 2s 177us/step - loss: 504893.3910 - acc: 0.5373 - val_loss: 501458.3028 - val_acc: 0.5346\n",
      "Epoch 47/200\n",
      "9697/9697 [==============================] - 2s 177us/step - loss: 504893.3906 - acc: 0.5359 - val_loss: 501458.3028 - val_acc: 0.5361\n",
      "Epoch 48/200\n",
      "9697/9697 [==============================] - 2s 177us/step - loss: 504893.3904 - acc: 0.5377 - val_loss: 501458.3028 - val_acc: 0.5351\n",
      "Epoch 49/200\n",
      "9697/9697 [==============================] - 2s 177us/step - loss: 504893.3916 - acc: 0.5411 - val_loss: 501458.3028 - val_acc: 0.5346\n",
      "Epoch 50/200\n",
      "9697/9697 [==============================] - 2s 180us/step - loss: 504893.3910 - acc: 0.5414 - val_loss: 501458.3028 - val_acc: 0.5356\n",
      "Epoch 51/200\n",
      "9697/9697 [==============================] - 2s 182us/step - loss: 504893.3901 - acc: 0.5415 - val_loss: 501458.3028 - val_acc: 0.5414\n",
      "Epoch 52/200\n",
      "9697/9697 [==============================] - 2s 178us/step - loss: 504893.3907 - acc: 0.5416 - val_loss: 501458.3028 - val_acc: 0.5399\n",
      "Epoch 53/200\n",
      "9697/9697 [==============================] - 2s 176us/step - loss: 504893.3913 - acc: 0.5421 - val_loss: 501458.3028 - val_acc: 0.5428\n",
      "Epoch 54/200\n",
      "9697/9697 [==============================] - 2s 176us/step - loss: 504893.3902 - acc: 0.5399 - val_loss: 501458.3028 - val_acc: 0.5419\n",
      "Epoch 55/200\n",
      "9697/9697 [==============================] - 2s 178us/step - loss: 504893.3915 - acc: 0.5437 - val_loss: 501458.3028 - val_acc: 0.5409\n",
      "Epoch 56/200\n"
     ]
    },
    {
     "name": "stdout",
     "output_type": "stream",
     "text": [
      "9697/9697 [==============================] - 2s 175us/step - loss: 504893.3911 - acc: 0.5440 - val_loss: 501458.3028 - val_acc: 0.5390\n",
      "Epoch 57/200\n",
      "9697/9697 [==============================] - 2s 171us/step - loss: 504893.3906 - acc: 0.5446 - val_loss: 501458.3028 - val_acc: 0.5428\n",
      "Epoch 58/200\n",
      "9697/9697 [==============================] - 2s 175us/step - loss: 504893.3901 - acc: 0.5468 - val_loss: 501458.3028 - val_acc: 0.5428\n",
      "Epoch 59/200\n",
      "9697/9697 [==============================] - 2s 193us/step - loss: 504893.3908 - acc: 0.5460 - val_loss: 501458.3028 - val_acc: 0.5462\n",
      "Epoch 60/200\n",
      "9697/9697 [==============================] - 2s 183us/step - loss: 504893.3902 - acc: 0.5454 - val_loss: 501458.3028 - val_acc: 0.5409\n",
      "Epoch 61/200\n",
      "9697/9697 [==============================] - 2s 172us/step - loss: 504893.3902 - acc: 0.5475 - val_loss: 501458.3028 - val_acc: 0.5448\n",
      "Epoch 62/200\n",
      "9697/9697 [==============================] - 2s 169us/step - loss: 504893.3901 - acc: 0.5469 - val_loss: 501458.3028 - val_acc: 0.5462\n",
      "Epoch 63/200\n",
      "9697/9697 [==============================] - 2s 206us/step - loss: 504893.3900 - acc: 0.5484 - val_loss: 501458.3028 - val_acc: 0.5496\n",
      "Epoch 64/200\n",
      "9697/9697 [==============================] - 2s 159us/step - loss: 504893.3907 - acc: 0.5486 - val_loss: 501458.3028 - val_acc: 0.5462\n",
      "Epoch 65/200\n",
      "9697/9697 [==============================] - 3s 267us/step - loss: 504893.3902 - acc: 0.5507 - val_loss: 501458.3028 - val_acc: 0.5457\n",
      "Epoch 66/200\n",
      "9697/9697 [==============================] - 2s 173us/step - loss: 504893.3905 - acc: 0.5497 - val_loss: 501458.3028 - val_acc: 0.5457\n",
      "Epoch 67/200\n",
      "9697/9697 [==============================] - 2s 172us/step - loss: 504893.3916 - acc: 0.5473 - val_loss: 501458.3028 - val_acc: 0.5452\n",
      "Epoch 68/200\n",
      "9697/9697 [==============================] - 2s 173us/step - loss: 504893.3909 - acc: 0.5500 - val_loss: 501458.3028 - val_acc: 0.5448\n",
      "Epoch 69/200\n",
      "9697/9697 [==============================] - 2s 172us/step - loss: 504893.3908 - acc: 0.5503 - val_loss: 501458.3028 - val_acc: 0.5515\n",
      "Epoch 70/200\n",
      "9697/9697 [==============================] - 2s 167us/step - loss: 504893.3907 - acc: 0.5500 - val_loss: 501458.3028 - val_acc: 0.5500\n",
      "Epoch 71/200\n",
      "9697/9697 [==============================] - 2s 161us/step - loss: 504893.3901 - acc: 0.5515 - val_loss: 501458.3028 - val_acc: 0.5539\n",
      "Epoch 72/200\n",
      "9697/9697 [==============================] - 2s 166us/step - loss: 504893.3908 - acc: 0.5500 - val_loss: 501458.3028 - val_acc: 0.5467\n",
      "Epoch 73/200\n",
      "9697/9697 [==============================] - 2s 165us/step - loss: 504893.3913 - acc: 0.5506 - val_loss: 501458.3028 - val_acc: 0.5520\n",
      "Epoch 74/200\n",
      "9697/9697 [==============================] - 2s 162us/step - loss: 504893.3900 - acc: 0.5511 - val_loss: 501458.3028 - val_acc: 0.5525\n",
      "Epoch 75/200\n",
      "9697/9697 [==============================] - 2s 160us/step - loss: 504893.3905 - acc: 0.5526 - val_loss: 501458.3028 - val_acc: 0.5491\n",
      "Epoch 76/200\n",
      "9697/9697 [==============================] - 2s 160us/step - loss: 504893.3903 - acc: 0.5543 - val_loss: 501458.3028 - val_acc: 0.5529\n",
      "Epoch 77/200\n",
      "9697/9697 [==============================] - 2s 174us/step - loss: 504893.3910 - acc: 0.5539 - val_loss: 501458.3028 - val_acc: 0.5491\n",
      "Epoch 78/200\n",
      "9697/9697 [==============================] - 2s 165us/step - loss: 504893.3907 - acc: 0.5537 - val_loss: 501458.3028 - val_acc: 0.5467\n",
      "Epoch 79/200\n",
      "9697/9697 [==============================] - 2s 160us/step - loss: 504893.3900 - acc: 0.5516 - val_loss: 501458.3028 - val_acc: 0.5539\n",
      "Epoch 80/200\n",
      "9697/9697 [==============================] - 2s 160us/step - loss: 504893.3893 - acc: 0.5525 - val_loss: 501458.3028 - val_acc: 0.5568\n",
      "Epoch 81/200\n",
      "9697/9697 [==============================] - 2s 158us/step - loss: 504893.3909 - acc: 0.5551 - val_loss: 501458.3028 - val_acc: 0.5534\n",
      "Epoch 82/200\n",
      "9697/9697 [==============================] - 2s 162us/step - loss: 504893.3911 - acc: 0.5553 - val_loss: 501458.3028 - val_acc: 0.5534\n",
      "Epoch 83/200\n",
      "9697/9697 [==============================] - 2s 162us/step - loss: 504893.3915 - acc: 0.5534 - val_loss: 501458.3028 - val_acc: 0.5544\n",
      "Epoch 84/200\n",
      "9697/9697 [==============================] - 2s 165us/step - loss: 504893.3911 - acc: 0.5560 - val_loss: 501458.3028 - val_acc: 0.5544\n",
      "Epoch 85/200\n",
      "9697/9697 [==============================] - 2s 162us/step - loss: 504893.3907 - acc: 0.5549 - val_loss: 501458.3028 - val_acc: 0.5558\n",
      "Epoch 86/200\n",
      "9697/9697 [==============================] - 2s 160us/step - loss: 504893.3917 - acc: 0.5559 - val_loss: 501458.3028 - val_acc: 0.5577\n",
      "Epoch 87/200\n",
      "9697/9697 [==============================] - 2s 170us/step - loss: 504893.3914 - acc: 0.5546 - val_loss: 501458.3028 - val_acc: 0.5577\n",
      "Epoch 88/200\n",
      "9697/9697 [==============================] - 2s 161us/step - loss: 504893.3907 - acc: 0.5562 - val_loss: 501458.3028 - val_acc: 0.5544\n",
      "Epoch 89/200\n",
      "9697/9697 [==============================] - 2s 195us/step - loss: 504893.3906 - acc: 0.5569 - val_loss: 501458.3028 - val_acc: 0.5539\n",
      "Epoch 90/200\n",
      "9697/9697 [==============================] - 2s 170us/step - loss: 504893.3903 - acc: 0.5577 - val_loss: 501458.3028 - val_acc: 0.5563\n",
      "Epoch 91/200\n",
      "9697/9697 [==============================] - 2s 172us/step - loss: 504893.3906 - acc: 0.5566 - val_loss: 501458.3028 - val_acc: 0.5597\n",
      "Epoch 92/200\n",
      "9697/9697 [==============================] - 2s 207us/step - loss: 504893.3915 - acc: 0.5581 - val_loss: 501458.3028 - val_acc: 0.5597\n",
      "Epoch 93/200\n",
      "9697/9697 [==============================] - 2s 162us/step - loss: 504893.3914 - acc: 0.5569 - val_loss: 501458.3028 - val_acc: 0.5568\n",
      "Epoch 94/200\n",
      "9697/9697 [==============================] - 2s 199us/step - loss: 504893.3910 - acc: 0.5571 - val_loss: 501458.3028 - val_acc: 0.5549\n",
      "Epoch 95/200\n",
      "9697/9697 [==============================] - 2s 170us/step - loss: 504893.3914 - acc: 0.5582 - val_loss: 501458.3028 - val_acc: 0.5602\n",
      "Epoch 96/200\n",
      "9697/9697 [==============================] - 2s 170us/step - loss: 504893.3905 - acc: 0.5592 - val_loss: 501458.3028 - val_acc: 0.5592\n",
      "Epoch 97/200\n",
      "9697/9697 [==============================] - 2s 167us/step - loss: 504893.3901 - acc: 0.5571 - val_loss: 501458.3028 - val_acc: 0.5558\n",
      "Epoch 98/200\n",
      "9697/9697 [==============================] - 2s 217us/step - loss: 504893.3904 - acc: 0.5596 - val_loss: 501458.3028 - val_acc: 0.5577\n",
      "Epoch 99/200\n",
      "9697/9697 [==============================] - ETA: 0s - loss: 504877.6222 - acc: 0.55 - 3s 303us/step - loss: 504893.3907 - acc: 0.5581 - val_loss: 501458.3028 - val_acc: 0.5630\n",
      "Epoch 100/200\n",
      "9697/9697 [==============================] - 2s 177us/step - loss: 504893.3907 - acc: 0.5596 - val_loss: 501458.3028 - val_acc: 0.5592\n",
      "Epoch 101/200\n",
      "9697/9697 [==============================] - 2s 198us/step - loss: 504893.3912 - acc: 0.5596 - val_loss: 501458.3028 - val_acc: 0.5606\n",
      "Epoch 102/200\n",
      "9697/9697 [==============================] - 1s 146us/step - loss: 504893.3906 - acc: 0.5579 - val_loss: 501458.3028 - val_acc: 0.5616\n",
      "Epoch 103/200\n",
      "9697/9697 [==============================] - 1s 149us/step - loss: 504893.3909 - acc: 0.5582 - val_loss: 501458.3028 - val_acc: 0.5587\n",
      "Epoch 104/200\n",
      "9697/9697 [==============================] - 2s 159us/step - loss: 504893.3900 - acc: 0.5582 - val_loss: 501458.3028 - val_acc: 0.5587\n",
      "Epoch 105/200\n",
      "9697/9697 [==============================] - 2s 155us/step - loss: 504893.3912 - acc: 0.5588 - val_loss: 501458.3028 - val_acc: 0.5592\n",
      "Epoch 106/200\n",
      "9697/9697 [==============================] - 1s 144us/step - loss: 504893.3904 - acc: 0.5600 - val_loss: 501458.3028 - val_acc: 0.5597\n",
      "Epoch 107/200\n",
      "9697/9697 [==============================] - 1s 151us/step - loss: 504893.3912 - acc: 0.5595 - val_loss: 501458.3028 - val_acc: 0.5577\n",
      "Epoch 108/200\n",
      "9697/9697 [==============================] - 1s 148us/step - loss: 504893.3898 - acc: 0.5602 - val_loss: 501458.3028 - val_acc: 0.5616\n",
      "Epoch 109/200\n",
      "9697/9697 [==============================] - 1s 152us/step - loss: 504893.3913 - acc: 0.5610 - val_loss: 501458.3028 - val_acc: 0.5626\n",
      "Epoch 110/200\n",
      "9697/9697 [==============================] - 2s 176us/step - loss: 504893.3902 - acc: 0.5599 - val_loss: 501458.3028 - val_acc: 0.5626\n",
      "Epoch 111/200\n"
     ]
    },
    {
     "name": "stdout",
     "output_type": "stream",
     "text": [
      "9697/9697 [==============================] - 1s 141us/step - loss: 504893.3909 - acc: 0.5602 - val_loss: 501458.3028 - val_acc: 0.5621\n",
      "Epoch 112/200\n",
      "9697/9697 [==============================] - 1s 148us/step - loss: 504893.3911 - acc: 0.5601 - val_loss: 501458.3028 - val_acc: 0.5621\n",
      "Epoch 113/200\n",
      "9697/9697 [==============================] - 1s 142us/step - loss: 504893.3916 - acc: 0.5604 - val_loss: 501458.3028 - val_acc: 0.5626\n",
      "Epoch 114/200\n",
      "9697/9697 [==============================] - 2s 185us/step - loss: 504893.3896 - acc: 0.5601 - val_loss: 501458.3028 - val_acc: 0.5621\n",
      "Epoch 115/200\n",
      "9697/9697 [==============================] - 3s 258us/step - loss: 504893.3900 - acc: 0.5601 - val_loss: 501458.3028 - val_acc: 0.5616\n",
      "Epoch 116/200\n",
      "9697/9697 [==============================] - 2s 185us/step - loss: 504893.3910 - acc: 0.5614 - val_loss: 501458.3028 - val_acc: 0.5616\n",
      "Epoch 117/200\n",
      "9697/9697 [==============================] - 2s 156us/step - loss: 504893.3906 - acc: 0.5625 - val_loss: 501458.3028 - val_acc: 0.5616\n",
      "Epoch 118/200\n",
      "9697/9697 [==============================] - 2s 163us/step - loss: 504893.3910 - acc: 0.5615 - val_loss: 501458.3028 - val_acc: 0.5635\n",
      "Epoch 119/200\n",
      "9697/9697 [==============================] - 1s 137us/step - loss: 504893.3904 - acc: 0.5602 - val_loss: 501458.3028 - val_acc: 0.5654\n",
      "Epoch 120/200\n",
      "9697/9697 [==============================] - 1s 148us/step - loss: 504893.3916 - acc: 0.5635 - val_loss: 501458.3028 - val_acc: 0.5650\n",
      "Epoch 121/200\n",
      "9697/9697 [==============================] - 2s 157us/step - loss: 504893.3900 - acc: 0.5603 - val_loss: 501458.3028 - val_acc: 0.5606\n",
      "Epoch 122/200\n",
      "9697/9697 [==============================] - 1s 147us/step - loss: 504893.3917 - acc: 0.5634 - val_loss: 501458.3028 - val_acc: 0.5669\n",
      "Epoch 123/200\n",
      "9697/9697 [==============================] - 2s 194us/step - loss: 504893.3913 - acc: 0.5605 - val_loss: 501458.3028 - val_acc: 0.5602\n",
      "Epoch 124/200\n",
      "9697/9697 [==============================] - 1s 147us/step - loss: 504893.3908 - acc: 0.5626 - val_loss: 501458.3028 - val_acc: 0.5654\n",
      "Epoch 125/200\n",
      "9697/9697 [==============================] - 1s 151us/step - loss: 504893.3909 - acc: 0.5613 - val_loss: 501458.3028 - val_acc: 0.5645\n",
      "Epoch 126/200\n",
      "9697/9697 [==============================] - 1s 134us/step - loss: 504893.3905 - acc: 0.5613 - val_loss: 501458.3028 - val_acc: 0.5597\n",
      "Epoch 127/200\n",
      "9697/9697 [==============================] - 1s 135us/step - loss: 504893.3909 - acc: 0.5616 - val_loss: 501458.3028 - val_acc: 0.5635\n",
      "Epoch 128/200\n",
      "9697/9697 [==============================] - 1s 150us/step - loss: 504893.3909 - acc: 0.5616 - val_loss: 501458.3028 - val_acc: 0.5654\n",
      "Epoch 129/200\n",
      "9697/9697 [==============================] - 1s 146us/step - loss: 504893.3918 - acc: 0.5613 - val_loss: 501458.3028 - val_acc: 0.5635\n",
      "Epoch 130/200\n",
      "9697/9697 [==============================] - 1s 145us/step - loss: 504893.3906 - acc: 0.5622 - val_loss: 501458.3028 - val_acc: 0.5654\n",
      "Epoch 131/200\n",
      "9697/9697 [==============================] - 1s 140us/step - loss: 504893.3912 - acc: 0.5631 - val_loss: 501458.3028 - val_acc: 0.5659\n",
      "Epoch 132/200\n",
      "9697/9697 [==============================] - 1s 139us/step - loss: 504893.3904 - acc: 0.5639 - val_loss: 501458.3028 - val_acc: 0.5654\n",
      "Epoch 133/200\n",
      "9697/9697 [==============================] - 1s 144us/step - loss: 504893.3903 - acc: 0.5628 - val_loss: 501458.3028 - val_acc: 0.5640\n",
      "Epoch 134/200\n",
      "9697/9697 [==============================] - 1s 149us/step - loss: 504893.3908 - acc: 0.5631 - val_loss: 501458.3028 - val_acc: 0.5645\n",
      "Epoch 135/200\n",
      "9697/9697 [==============================] - 1s 128us/step - loss: 504893.3904 - acc: 0.5634 - val_loss: 501458.3028 - val_acc: 0.5645\n",
      "Epoch 136/200\n",
      "9697/9697 [==============================] - 1s 149us/step - loss: 504893.3903 - acc: 0.5634 - val_loss: 501458.3028 - val_acc: 0.5645\n",
      "Epoch 137/200\n",
      "9697/9697 [==============================] - 1s 141us/step - loss: 504893.3904 - acc: 0.5641 - val_loss: 501458.3028 - val_acc: 0.5611\n",
      "Epoch 138/200\n",
      "9697/9697 [==============================] - 1s 141us/step - loss: 504893.3899 - acc: 0.5638 - val_loss: 501458.3028 - val_acc: 0.5669\n",
      "Epoch 139/200\n",
      "9697/9697 [==============================] - 1s 154us/step - loss: 504893.3914 - acc: 0.5614 - val_loss: 501458.3028 - val_acc: 0.5645\n",
      "Epoch 140/200\n",
      "9697/9697 [==============================] - 1s 145us/step - loss: 504893.3902 - acc: 0.5634 - val_loss: 501458.3028 - val_acc: 0.5650\n",
      "Epoch 141/200\n",
      "9697/9697 [==============================] - 1s 141us/step - loss: 504893.3896 - acc: 0.5645 - val_loss: 501458.3028 - val_acc: 0.5669\n",
      "Epoch 142/200\n",
      "9697/9697 [==============================] - 1s 136us/step - loss: 504893.3906 - acc: 0.5637 - val_loss: 501458.3028 - val_acc: 0.5669\n",
      "Epoch 143/200\n",
      "9697/9697 [==============================] - 1s 144us/step - loss: 504893.3896 - acc: 0.5642 - val_loss: 501458.3028 - val_acc: 0.5669\n",
      "Epoch 144/200\n",
      "9697/9697 [==============================] - 1s 130us/step - loss: 504893.3907 - acc: 0.5641 - val_loss: 501458.3028 - val_acc: 0.5645\n",
      "Epoch 145/200\n",
      "9697/9697 [==============================] - 1s 142us/step - loss: 504893.3905 - acc: 0.5634 - val_loss: 501458.3028 - val_acc: 0.5650\n",
      "Epoch 146/200\n",
      "9697/9697 [==============================] - 1s 138us/step - loss: 504893.3908 - acc: 0.5621 - val_loss: 501458.3028 - val_acc: 0.5645\n",
      "Epoch 147/200\n",
      "9697/9697 [==============================] - 2s 157us/step - loss: 504893.3906 - acc: 0.5643 - val_loss: 501458.3028 - val_acc: 0.5645\n",
      "Epoch 148/200\n",
      "9697/9697 [==============================] - 1s 141us/step - loss: 504893.3914 - acc: 0.5625 - val_loss: 501458.3028 - val_acc: 0.5650\n",
      "Epoch 149/200\n",
      "9697/9697 [==============================] - 2s 158us/step - loss: 504893.3896 - acc: 0.5646 - val_loss: 501458.3028 - val_acc: 0.5679\n",
      "Epoch 150/200\n",
      "9697/9697 [==============================] - 2s 209us/step - loss: 504893.3916 - acc: 0.5643 - val_loss: 501458.3028 - val_acc: 0.5659\n",
      "Epoch 151/200\n",
      "9697/9697 [==============================] - 2s 215us/step - loss: 504893.3920 - acc: 0.5641 - val_loss: 501458.3028 - val_acc: 0.5669\n",
      "Epoch 152/200\n",
      "9697/9697 [==============================] - 2s 218us/step - loss: 504893.3903 - acc: 0.5654 - val_loss: 501458.3028 - val_acc: 0.5645\n",
      "Epoch 153/200\n",
      "9697/9697 [==============================] - 2s 234us/step - loss: 504893.3907 - acc: 0.5648 - val_loss: 501458.3028 - val_acc: 0.5664\n",
      "Epoch 154/200\n",
      "9697/9697 [==============================] - 2s 211us/step - loss: 504893.3906 - acc: 0.5645 - val_loss: 501458.3028 - val_acc: 0.5645\n",
      "Epoch 155/200\n",
      "9697/9697 [==============================] - 2s 179us/step - loss: 504893.3918 - acc: 0.5640 - val_loss: 501458.3028 - val_acc: 0.5654\n",
      "Epoch 156/200\n",
      "9697/9697 [==============================] - 2s 221us/step - loss: 504893.3901 - acc: 0.5648 - val_loss: 501458.3028 - val_acc: 0.5664\n",
      "Epoch 157/200\n",
      "9697/9697 [==============================] - 2s 233us/step - loss: 504893.3894 - acc: 0.5644 - val_loss: 501458.3028 - val_acc: 0.5654\n",
      "Epoch 158/200\n",
      "9697/9697 [==============================] - 2s 190us/step - loss: 504893.3906 - acc: 0.5645 - val_loss: 501458.3028 - val_acc: 0.5688\n",
      "Epoch 159/200\n",
      "9697/9697 [==============================] - 2s 192us/step - loss: 504893.3914 - acc: 0.5649 - val_loss: 501458.3028 - val_acc: 0.5645\n",
      "Epoch 160/200\n",
      "9697/9697 [==============================] - 2s 172us/step - loss: 504893.3902 - acc: 0.5640 - val_loss: 501458.3028 - val_acc: 0.5674\n",
      "Epoch 161/200\n",
      "9697/9697 [==============================] - 2s 191us/step - loss: 504893.3902 - acc: 0.5649 - val_loss: 501458.3028 - val_acc: 0.5693\n",
      "Epoch 162/200\n",
      "9697/9697 [==============================] - 2s 169us/step - loss: 504893.3893 - acc: 0.5653 - val_loss: 501458.3028 - val_acc: 0.5679\n",
      "Epoch 163/200\n",
      "9697/9697 [==============================] - 2s 156us/step - loss: 504893.3910 - acc: 0.5652 - val_loss: 501458.3028 - val_acc: 0.5654\n",
      "Epoch 164/200\n",
      "9697/9697 [==============================] - 2s 159us/step - loss: 504893.3895 - acc: 0.5642 - val_loss: 501458.3028 - val_acc: 0.5669\n",
      "Epoch 165/200\n",
      "9697/9697 [==============================] - 2s 156us/step - loss: 504893.3917 - acc: 0.5645 - val_loss: 501458.3028 - val_acc: 0.5679\n",
      "Epoch 166/200\n"
     ]
    },
    {
     "name": "stdout",
     "output_type": "stream",
     "text": [
      "9697/9697 [==============================] - 2s 156us/step - loss: 504893.3906 - acc: 0.5654 - val_loss: 501458.3028 - val_acc: 0.5659\n",
      "Epoch 167/200\n",
      "9697/9697 [==============================] - 1s 154us/step - loss: 504893.3901 - acc: 0.5663 - val_loss: 501458.3028 - val_acc: 0.5674\n",
      "Epoch 168/200\n",
      "9697/9697 [==============================] - 2s 156us/step - loss: 504893.3911 - acc: 0.5653 - val_loss: 501458.3028 - val_acc: 0.5659\n",
      "Epoch 169/200\n",
      "9697/9697 [==============================] - 1s 154us/step - loss: 504893.3909 - acc: 0.5647 - val_loss: 501458.3028 - val_acc: 0.5650\n",
      "Epoch 170/200\n",
      "9697/9697 [==============================] - 1s 154us/step - loss: 504893.3908 - acc: 0.5642 - val_loss: 501458.3028 - val_acc: 0.5674\n",
      "Epoch 171/200\n",
      "9697/9697 [==============================] - 1s 152us/step - loss: 504893.3905 - acc: 0.5651 - val_loss: 501458.3028 - val_acc: 0.5650\n",
      "Epoch 172/200\n",
      "9697/9697 [==============================] - 2s 155us/step - loss: 504893.3914 - acc: 0.5647 - val_loss: 501458.3028 - val_acc: 0.5693\n",
      "Epoch 173/200\n",
      "9697/9697 [==============================] - 2s 161us/step - loss: 504893.3906 - acc: 0.5651 - val_loss: 501458.3028 - val_acc: 0.5659\n",
      "Epoch 174/200\n",
      "9697/9697 [==============================] - 2s 182us/step - loss: 504893.3905 - acc: 0.5640 - val_loss: 501458.3028 - val_acc: 0.5654\n",
      "Epoch 175/200\n",
      "9697/9697 [==============================] - 2s 165us/step - loss: 504893.3896 - acc: 0.5653 - val_loss: 501458.3028 - val_acc: 0.5664\n",
      "Epoch 176/200\n",
      "9697/9697 [==============================] - 2s 165us/step - loss: 504893.3906 - acc: 0.5648 - val_loss: 501458.3028 - val_acc: 0.5679\n",
      "Epoch 177/200\n",
      "9697/9697 [==============================] - 2s 175us/step - loss: 504893.3903 - acc: 0.5655 - val_loss: 501458.3028 - val_acc: 0.5674\n",
      "Epoch 178/200\n",
      "9697/9697 [==============================] - 2s 177us/step - loss: 504893.3913 - acc: 0.5653 - val_loss: 501458.3028 - val_acc: 0.5650\n",
      "Epoch 179/200\n",
      "9697/9697 [==============================] - 2s 165us/step - loss: 504893.3901 - acc: 0.5658 - val_loss: 501458.3028 - val_acc: 0.5712\n",
      "Epoch 180/200\n",
      "9697/9697 [==============================] - 2s 184us/step - loss: 504893.3913 - acc: 0.5653 - val_loss: 501458.3028 - val_acc: 0.5664\n",
      "Epoch 181/200\n",
      "9697/9697 [==============================] - 2s 185us/step - loss: 504893.3901 - acc: 0.5652 - val_loss: 501458.3028 - val_acc: 0.5669\n",
      "Epoch 182/200\n",
      "9697/9697 [==============================] - 2s 178us/step - loss: 504893.3914 - acc: 0.5668 - val_loss: 501458.3028 - val_acc: 0.5664\n",
      "Epoch 183/200\n",
      "9697/9697 [==============================] - 1s 154us/step - loss: 504893.3916 - acc: 0.5659 - val_loss: 501458.3028 - val_acc: 0.5693\n",
      "Epoch 184/200\n",
      "9697/9697 [==============================] - 2s 157us/step - loss: 504893.3897 - acc: 0.5659 - val_loss: 501458.3028 - val_acc: 0.5688\n",
      "Epoch 185/200\n",
      "9697/9697 [==============================] - 2s 157us/step - loss: 504893.3909 - acc: 0.5658 - val_loss: 501458.3028 - val_acc: 0.5674\n",
      "Epoch 186/200\n",
      "9697/9697 [==============================] - 2s 176us/step - loss: 504893.3905 - acc: 0.5658 - val_loss: 501458.3028 - val_acc: 0.5664\n",
      "Epoch 187/200\n",
      "9697/9697 [==============================] - 2s 180us/step - loss: 504893.3917 - acc: 0.5664 - val_loss: 501458.3028 - val_acc: 0.5674\n",
      "Epoch 188/200\n",
      "9697/9697 [==============================] - 2s 190us/step - loss: 504893.3901 - acc: 0.5663 - val_loss: 501458.3028 - val_acc: 0.5688\n",
      "Epoch 189/200\n",
      "9697/9697 [==============================] - 2s 163us/step - loss: 504893.3898 - acc: 0.5663 - val_loss: 501458.3028 - val_acc: 0.5693\n",
      "Epoch 190/200\n",
      "9697/9697 [==============================] - 2s 176us/step - loss: 504893.3907 - acc: 0.5662 - val_loss: 501458.3028 - val_acc: 0.5674\n",
      "Epoch 191/200\n",
      "9697/9697 [==============================] - 2s 157us/step - loss: 504893.3898 - acc: 0.5665 - val_loss: 501458.3028 - val_acc: 0.5679\n",
      "Epoch 192/200\n",
      "9697/9697 [==============================] - 2s 186us/step - loss: 504893.3901 - acc: 0.5658 - val_loss: 501458.3028 - val_acc: 0.5683\n",
      "Epoch 193/200\n",
      "9697/9697 [==============================] - 2s 195us/step - loss: 504893.3914 - acc: 0.5676 - val_loss: 501458.3028 - val_acc: 0.5654\n",
      "Epoch 194/200\n",
      "9697/9697 [==============================] - 2s 155us/step - loss: 504893.3911 - acc: 0.5677 - val_loss: 501458.3028 - val_acc: 0.5688\n",
      "Epoch 195/200\n",
      "9697/9697 [==============================] - 2s 155us/step - loss: 504893.3908 - acc: 0.5663 - val_loss: 501458.3028 - val_acc: 0.5679\n",
      "Epoch 196/200\n",
      "9697/9697 [==============================] - 2s 155us/step - loss: 504893.3905 - acc: 0.5667 - val_loss: 501458.3028 - val_acc: 0.5688\n",
      "Epoch 197/200\n",
      "9697/9697 [==============================] - 1s 152us/step - loss: 504893.3894 - acc: 0.5663 - val_loss: 501458.3028 - val_acc: 0.5717\n",
      "Epoch 198/200\n",
      "9697/9697 [==============================] - 2s 156us/step - loss: 504893.3899 - acc: 0.5668 - val_loss: 501458.3028 - val_acc: 0.5679\n",
      "Epoch 199/200\n",
      "9697/9697 [==============================] - 2s 155us/step - loss: 504893.3902 - acc: 0.5665 - val_loss: 501458.3028 - val_acc: 0.5674\n",
      "Epoch 200/200\n",
      "9697/9697 [==============================] - 2s 155us/step - loss: 504893.3900 - acc: 0.5667 - val_loss: 501458.3028 - val_acc: 0.5659\n"
     ]
    }
   ],
   "source": [
    "hist = model.fit(X_train, y_train,\n",
    "          batch_size=8, epochs=200,\n",
    "          validation_data=(X_val, y_val))"
   ]
  },
  {
   "cell_type": "code",
   "execution_count": 75,
   "metadata": {},
   "outputs": [],
   "source": [
    "import matplotlib.pyplot as plt"
   ]
  },
  {
   "cell_type": "code",
   "execution_count": 186,
   "metadata": {},
   "outputs": [
    {
     "data": {
      "image/png": "[encoded data removed]",
      "text/plain": [
       "<Figure size 1080x576 with 1 Axes>"
      ]
     },
     "metadata": {
      "needs_background": "light"
     },
     "output_type": "display_data"
    }
   ],
   "source": [
    "f, ax1 = plt.subplots()\n",
    "f.set_figheight(8)\n",
    "f.set_figwidth(15)\n",
    "\n",
    "plt.plot(hist.history['acc'])\n",
    "plt.plot(hist.history['val_acc'])\n",
    "plt.title('Model accuracy')\n",
    "plt.ylabel('Accuracy')\n",
    "plt.xlabel('Epoch')\n",
    "plt.legend(['Train', 'Val'], loc='lower right')\n",
    "plt.show()"
   ]
  },
  {
   "cell_type": "code",
   "execution_count": 187,
   "metadata": {},
   "outputs": [
    {
     "name": "stdout",
     "output_type": "stream",
     "text": [
      "2078/2078 [==============================] - 0s 27us/step\n"
     ]
    },
    {
     "data": {
      "text/plain": [
       "0.5726660249666943"
      ]
     },
     "execution_count": 187,
     "metadata": {},
     "output_type": "execute_result"
    }
   ],
   "source": [
    "model.evaluate(X_test, y_test)[1]"
   ]
  },
  {
   "cell_type": "code",
   "execution_count": 188,
   "metadata": {},
   "outputs": [
    {
     "data": {
      "text/plain": [
       "array([[1., 1., 1.],\n",
       "       [1., 1., 1.],\n",
       "       [1., 1., 1.],\n",
       "       ...,\n",
       "       [1., 1., 1.],\n",
       "       [1., 1., 1.],\n",
       "       [1., 1., 1.]], dtype=float32)"
      ]
     },
     "execution_count": 188,
     "metadata": {},
     "output_type": "execute_result"
    }
   ],
   "source": [
    "model.predict(X_train)"
   ]
  },
  {
   "cell_type": "code",
   "execution_count": 189,
   "metadata": {},
   "outputs": [
    {
     "data": {
      "text/plain": [
       "array([[0.39027931, 0.50293918, 0.88479407],\n",
       "       [0.51491844, 0.4500216 , 0.63824784],\n",
       "       [0.15817708, 0.68468095, 0.90609317],\n",
       "       ...,\n",
       "       [0.49995939, 0.19275479, 0.66202219],\n",
       "       [0.32906679, 0.44566312, 0.42464149],\n",
       "       [0.30942315, 0.71406285, 0.84682435]])"
      ]
     },
     "execution_count": 189,
     "metadata": {},
     "output_type": "execute_result"
    }
   ],
   "source": [
    "X_train"
   ]
  },
  {
   "cell_type": "code",
   "execution_count": 190,
   "metadata": {},
   "outputs": [
    {
     "data": {
      "text/plain": [
       "array([[1., 1., 1.],\n",
       "       [1., 1., 1.],\n",
       "       [1., 1., 1.],\n",
       "       ...,\n",
       "       [1., 1., 1.],\n",
       "       [1., 1., 1.],\n",
       "       [1., 1., 1.]], dtype=float32)"
      ]
     },
     "execution_count": 190,
     "metadata": {},
     "output_type": "execute_result"
    }
   ],
   "source": [
    "model.predict_on_batch(X_test)"
   ]
  },
  {
   "cell_type": "code",
   "execution_count": null,
   "metadata": {},
   "outputs": [],
   "source": []
  }
 ],
 "metadata": {
  "kernelspec": {
   "display_name": "Python 3",
   "language": "python",
   "name": "python3"
  },
  "language_info": {
   "codemirror_mode": {
    "name": "ipython",
    "version": 3
   },
   "file_extension": ".py",
   "mimetype": "text/x-python",
   "name": "python",
   "nbconvert_exporter": "python",
   "pygments_lexer": "ipython3",
   "version": "3.6.8"
  }
 },
 "nbformat": 4,
 "nbformat_minor": 2
}
