{
 "cells": [
  {
   "cell_type": "code",
   "execution_count": 1,
   "metadata": {},
   "outputs": [],
   "source": [
    "import pandas as pd\n",
    "import numpy as np\n",
    "import sqlite3\n",
    "import json\n",
    "import matplotlib.pyplot as plt"
   ]
  },
  {
   "cell_type": "code",
   "execution_count": 2,
   "metadata": {},
   "outputs": [],
   "source": [
    "EXTRACTED_FEATURES_DB_NAME = '/data/experiments/YHE-R/extracted-features/extracted-features.sqlite'"
   ]
  },
  {
   "cell_type": "code",
   "execution_count": 3,
   "metadata": {},
   "outputs": [],
   "source": [
    "db_conn = sqlite3.connect(EXTRACTED_FEATURES_DB_NAME)\n",
    "sequences_df = pd.read_sql_query(\"select sequence,charge,run_name,human,classed_as from features\", db_conn)\n",
    "db_conn.close()"
   ]
  },
  {
   "cell_type": "code",
   "execution_count": 4,
   "metadata": {},
   "outputs": [
    {
     "data": {
      "text/plain": [
       "array(['decoy', 'target'], dtype=object)"
      ]
     },
     "execution_count": 4,
     "metadata": {},
     "output_type": "execute_result"
    }
   ],
   "source": [
    "sequences_df.classed_as.unique()"
   ]
  },
  {
   "cell_type": "code",
   "execution_count": 5,
   "metadata": {},
   "outputs": [],
   "source": [
    "sequences_df['group'] = sequences_df.run_name.apply(lambda x: x.split('_')[0])"
   ]
  },
  {
   "cell_type": "code",
   "execution_count": 6,
   "metadata": {},
   "outputs": [
    {
     "data": {
      "text/plain": [
       "Index(['sequence', 'charge', 'run_name', 'human', 'classed_as', 'group'], dtype='object')"
      ]
     },
     "execution_count": 6,
     "metadata": {},
     "output_type": "execute_result"
    }
   ],
   "source": [
    "sequences_df.columns"
   ]
  },
  {
   "cell_type": "code",
   "execution_count": 7,
   "metadata": {},
   "outputs": [
    {
     "data": {
      "text/html": [
       "<div>\n",
       "<style scoped>\n",
       "    .dataframe tbody tr th:only-of-type {\n",
       "        vertical-align: middle;\n",
       "    }\n",
       "\n",
       "    .dataframe tbody tr th {\n",
       "        vertical-align: top;\n",
       "    }\n",
       "\n",
       "    .dataframe thead th {\n",
       "        text-align: right;\n",
       "    }\n",
       "</style>\n",
       "<table border=\"1\" class=\"dataframe\">\n",
       "  <thead>\n",
       "    <tr style=\"text-align: right;\">\n",
       "      <th></th>\n",
       "      <th>sequence</th>\n",
       "      <th>charge</th>\n",
       "      <th>run_name</th>\n",
       "      <th>human</th>\n",
       "      <th>group</th>\n",
       "      <th>classed_as</th>\n",
       "    </tr>\n",
       "  </thead>\n",
       "  <tbody>\n",
       "    <tr>\n",
       "      <th>653519</th>\n",
       "      <td>GTEGHQGPLTCVAANQDGSLILTGSVDCQAK</td>\n",
       "      <td>3</td>\n",
       "      <td>YHE010_02_Slot1-1_1_2987</td>\n",
       "      <td>1</td>\n",
       "      <td>YHE010</td>\n",
       "      <td>target</td>\n",
       "    </tr>\n",
       "    <tr>\n",
       "      <th>778156</th>\n",
       "      <td>M[15.9949]TTDQHQEILR</td>\n",
       "      <td>2</td>\n",
       "      <td>YHE211_05_Slot1-1_1_3001</td>\n",
       "      <td>0</td>\n",
       "      <td>YHE211</td>\n",
       "      <td>target</td>\n",
       "    </tr>\n",
       "    <tr>\n",
       "      <th>643072</th>\n",
       "      <td>YSLVSEQLEPAATSTYR</td>\n",
       "      <td>2</td>\n",
       "      <td>YHE010_06_Slot1-1_1_2991</td>\n",
       "      <td>1</td>\n",
       "      <td>YHE010</td>\n",
       "      <td>target</td>\n",
       "    </tr>\n",
       "    <tr>\n",
       "      <th>607843</th>\n",
       "      <td>SRAEAESMYQIK</td>\n",
       "      <td>2</td>\n",
       "      <td>YHE010_05_Slot1-1_1_2990</td>\n",
       "      <td>1</td>\n",
       "      <td>YHE010</td>\n",
       "      <td>decoy</td>\n",
       "    </tr>\n",
       "    <tr>\n",
       "      <th>741890</th>\n",
       "      <td>HENESGFDEGQIIR</td>\n",
       "      <td>2</td>\n",
       "      <td>YHE114_09_Slot1-1_1_3016</td>\n",
       "      <td>0</td>\n",
       "      <td>YHE114</td>\n",
       "      <td>target</td>\n",
       "    </tr>\n",
       "  </tbody>\n",
       "</table>\n",
       "</div>"
      ],
      "text/plain": [
       "                               sequence  charge                  run_name  \\\n",
       "653519  GTEGHQGPLTCVAANQDGSLILTGSVDCQAK       3  YHE010_02_Slot1-1_1_2987   \n",
       "778156             M[15.9949]TTDQHQEILR       2  YHE211_05_Slot1-1_1_3001   \n",
       "643072                YSLVSEQLEPAATSTYR       2  YHE010_06_Slot1-1_1_2991   \n",
       "607843                     SRAEAESMYQIK       2  YHE010_05_Slot1-1_1_2990   \n",
       "741890                   HENESGFDEGQIIR       2  YHE114_09_Slot1-1_1_3016   \n",
       "\n",
       "        human   group classed_as  \n",
       "653519      1  YHE010     target  \n",
       "778156      0  YHE211     target  \n",
       "643072      1  YHE010     target  \n",
       "607843      1  YHE010      decoy  \n",
       "741890      0  YHE114     target  "
      ]
     },
     "execution_count": 7,
     "metadata": {},
     "output_type": "execute_result"
    }
   ],
   "source": [
    "sequences_df[['sequence','charge','run_name','human','group','classed_as']].sample(n=5)"
   ]
  },
  {
   "cell_type": "markdown",
   "metadata": {},
   "source": [
    "#### analyse the YHE runs"
   ]
  },
  {
   "cell_type": "code",
   "execution_count": 9,
   "metadata": {},
   "outputs": [],
   "source": [
    "yhe_only_df = sequences_df[(sequences_df.group == 'YHE114') | (sequences_df.group == 'YHE211')]\n",
    "yhe_only_targets_df = yhe_only_df[(yhe_only_df.classed_as == 'target')]"
   ]
  },
  {
   "cell_type": "code",
   "execution_count": 10,
   "metadata": {},
   "outputs": [
    {
     "name": "stdout",
     "output_type": "stream",
     "text": [
      "there are 21 YHE runs in the experiment\n"
     ]
    }
   ],
   "source": [
    "number_of_yhe_runs_in_experiment = len(yhe_only_df.run_name.unique())\n",
    "print('there are {} YHE runs in the experiment'.format(number_of_yhe_runs_in_experiment))"
   ]
  },
  {
   "cell_type": "code",
   "execution_count": 11,
   "metadata": {},
   "outputs": [],
   "source": [
    "# count how many runs each sequence/charge was extracted from and classified as a target\n",
    "sequence_occurences_l = []\n",
    "for group_name,group_df in yhe_only_targets_df.groupby(['sequence','charge'], as_index=False):\n",
    "    sequence_occurences_l.append((group_name, len(group_df.run_name.unique()), group_name[0], group_name[1]))\n",
    "yhe_sequence_occurences_df = pd.DataFrame(sequence_occurences_l, columns=['sequence_charge','number_of_runs_targets_extracted','sequence','charge'])"
   ]
  },
  {
   "cell_type": "code",
   "execution_count": 12,
   "metadata": {},
   "outputs": [
    {
     "name": "stdout",
     "output_type": "stream",
     "text": [
      "11.0% of values are missing across the YHE-only runs.\n"
     ]
    }
   ],
   "source": [
    "# display the number of missing values across the experiment\n",
    "yhe_sequence_occurences_df['missing_files'] = number_of_yhe_runs_in_experiment - yhe_sequence_occurences_df.number_of_runs_targets_extracted\n",
    "proportion_of_missing_values = yhe_sequence_occurences_df.missing_files.sum() / (len(yhe_sequence_occurences_df) * number_of_yhe_runs_in_experiment)\n",
    "print(\"{}% of values are missing across the YHE-only runs.\".format(round(proportion_of_missing_values*100)))"
   ]
  },
  {
   "cell_type": "code",
   "execution_count": 13,
   "metadata": {},
   "outputs": [
    {
     "data": {
      "text/html": [
       "<div>\n",
       "<style scoped>\n",
       "    .dataframe tbody tr th:only-of-type {\n",
       "        vertical-align: middle;\n",
       "    }\n",
       "\n",
       "    .dataframe tbody tr th {\n",
       "        vertical-align: top;\n",
       "    }\n",
       "\n",
       "    .dataframe thead th {\n",
       "        text-align: right;\n",
       "    }\n",
       "</style>\n",
       "<table border=\"1\" class=\"dataframe\">\n",
       "  <thead>\n",
       "    <tr style=\"text-align: right;\">\n",
       "      <th></th>\n",
       "      <th>sequence</th>\n",
       "      <th>charge</th>\n",
       "      <th>number_of_runs_targets_extracted</th>\n",
       "      <th>missing_files</th>\n",
       "    </tr>\n",
       "  </thead>\n",
       "  <tbody>\n",
       "    <tr>\n",
       "      <th>7054</th>\n",
       "      <td>EVEAVIPDHCIFASNTSALPISEIAAVSK</td>\n",
       "      <td>3</td>\n",
       "      <td>21</td>\n",
       "      <td>0</td>\n",
       "    </tr>\n",
       "    <tr>\n",
       "      <th>146</th>\n",
       "      <td>AAPRPAPVAQPPAAAPPSAVGSSAAAPR</td>\n",
       "      <td>3</td>\n",
       "      <td>10</td>\n",
       "      <td>11</td>\n",
       "    </tr>\n",
       "    <tr>\n",
       "      <th>12549</th>\n",
       "      <td>IPEDYPYPEEILNK</td>\n",
       "      <td>2</td>\n",
       "      <td>21</td>\n",
       "      <td>0</td>\n",
       "    </tr>\n",
       "    <tr>\n",
       "      <th>13423</th>\n",
       "      <td>KSPDSDVAATLK</td>\n",
       "      <td>2</td>\n",
       "      <td>17</td>\n",
       "      <td>4</td>\n",
       "    </tr>\n",
       "    <tr>\n",
       "      <th>20379</th>\n",
       "      <td>Q[-17.0265]GSLHVGDEILEINGTNVTNHSVDQLQK</td>\n",
       "      <td>3</td>\n",
       "      <td>12</td>\n",
       "      <td>9</td>\n",
       "    </tr>\n",
       "    <tr>\n",
       "      <th>25385</th>\n",
       "      <td>TYNTDVPLVLMNSFNTDEDTK</td>\n",
       "      <td>2</td>\n",
       "      <td>21</td>\n",
       "      <td>0</td>\n",
       "    </tr>\n",
       "    <tr>\n",
       "      <th>2852</th>\n",
       "      <td>CYEIASARPNDSSTM[15.9949]R</td>\n",
       "      <td>3</td>\n",
       "      <td>16</td>\n",
       "      <td>5</td>\n",
       "    </tr>\n",
       "    <tr>\n",
       "      <th>1818</th>\n",
       "      <td>ASDSMDSLYSGQSSSSGITSCSDGTSNR</td>\n",
       "      <td>2</td>\n",
       "      <td>21</td>\n",
       "      <td>0</td>\n",
       "    </tr>\n",
       "    <tr>\n",
       "      <th>5818</th>\n",
       "      <td>EGTGTEMPMIGDR</td>\n",
       "      <td>2</td>\n",
       "      <td>20</td>\n",
       "      <td>1</td>\n",
       "    </tr>\n",
       "    <tr>\n",
       "      <th>2232</th>\n",
       "      <td>AVPHYNR</td>\n",
       "      <td>2</td>\n",
       "      <td>21</td>\n",
       "      <td>0</td>\n",
       "    </tr>\n",
       "  </tbody>\n",
       "</table>\n",
       "</div>"
      ],
      "text/plain": [
       "                                     sequence  charge  \\\n",
       "7054            EVEAVIPDHCIFASNTSALPISEIAAVSK       3   \n",
       "146              AAPRPAPVAQPPAAAPPSAVGSSAAAPR       3   \n",
       "12549                          IPEDYPYPEEILNK       2   \n",
       "13423                            KSPDSDVAATLK       2   \n",
       "20379  Q[-17.0265]GSLHVGDEILEINGTNVTNHSVDQLQK       3   \n",
       "25385                   TYNTDVPLVLMNSFNTDEDTK       2   \n",
       "2852                CYEIASARPNDSSTM[15.9949]R       3   \n",
       "1818             ASDSMDSLYSGQSSSSGITSCSDGTSNR       2   \n",
       "5818                            EGTGTEMPMIGDR       2   \n",
       "2232                                  AVPHYNR       2   \n",
       "\n",
       "       number_of_runs_targets_extracted  missing_files  \n",
       "7054                                 21              0  \n",
       "146                                  10             11  \n",
       "12549                                21              0  \n",
       "13423                                17              4  \n",
       "20379                                12              9  \n",
       "25385                                21              0  \n",
       "2852                                 16              5  \n",
       "1818                                 21              0  \n",
       "5818                                 20              1  \n",
       "2232                                 21              0  "
      ]
     },
     "execution_count": 13,
     "metadata": {},
     "output_type": "execute_result"
    }
   ],
   "source": [
    "yhe_sequence_occurences_df.sample(n=10)[['sequence','charge','number_of_runs_targets_extracted','missing_files']]"
   ]
  },
  {
   "cell_type": "code",
   "execution_count": 14,
   "metadata": {},
   "outputs": [
    {
     "data": {
      "text/plain": [
       "0.1171149927551198"
      ]
     },
     "execution_count": 14,
     "metadata": {},
     "output_type": "execute_result"
    }
   ],
   "source": [
    "len(yhe_only_df[yhe_only_df.classed_as == 'decoy']) / len(yhe_only_df)"
   ]
  },
  {
   "cell_type": "code",
   "execution_count": 15,
   "metadata": {},
   "outputs": [
    {
     "data": {
      "text/plain": [
       "28981"
      ]
     },
     "execution_count": 15,
     "metadata": {},
     "output_type": "execute_result"
    }
   ],
   "source": [
    "unique_sequences_yhe_df = yhe_only_targets_df.drop_duplicates(subset=['sequence', 'charge'], keep='first', inplace=False)\n",
    "number_of_unique_sequences_yhe = len(unique_sequences_yhe_df)\n",
    "number_of_unique_sequences_yhe"
   ]
  },
  {
   "cell_type": "code",
   "execution_count": 16,
   "metadata": {},
   "outputs": [
    {
     "data": {
      "image/png": "[encoded data removed]",
      "text/plain": [
       "<Figure size 1080x576 with 1 Axes>"
      ]
     },
     "metadata": {
      "needs_background": "light"
     },
     "output_type": "display_data"
    }
   ],
   "source": [
    "f, ax1 = plt.subplots()\n",
    "f.set_figheight(8)\n",
    "f.set_figwidth(15)\n",
    "\n",
    "plt.margins(0.06)\n",
    "plt.suptitle('Distribution of sequence identifications in the YHE runs for TFD_E')\n",
    "plt.title('total {} modified peptide sequences'.format(number_of_unique_sequences_yhe))\n",
    "\n",
    "counts = np.bincount(yhe_sequence_occurences_df.number_of_runs_targets_extracted)\n",
    "ax1.bar(range(22), counts, width=0.8, align='center')\n",
    "plt.xlabel('number of files in which a modified sequence-charge was identified')\n",
    "plt.ylabel('frequency')\n",
    "ax1.set(xticks=range(1,22), xlim=[0, 22])\n",
    "# plt.ylim((0,20000))\n",
    "\n",
    "plt.show()"
   ]
  },
  {
   "cell_type": "markdown",
   "metadata": {},
   "source": [
    "#### now analyse the HeLa-only runs"
   ]
  },
  {
   "cell_type": "code",
   "execution_count": 17,
   "metadata": {},
   "outputs": [],
   "source": [
    "human_only_df = sequences_df[(sequences_df.group == 'YHE010')]\n",
    "human_only_targets_df = human_only_df[(human_only_df.classed_as == 'target')]"
   ]
  },
  {
   "cell_type": "code",
   "execution_count": 18,
   "metadata": {},
   "outputs": [
    {
     "name": "stdout",
     "output_type": "stream",
     "text": [
      "there are 10 HeLa runs in the experiment\n"
     ]
    }
   ],
   "source": [
    "number_of_human_runs_in_experiment = len(human_only_df.run_name.unique())\n",
    "print('there are {} HeLa runs in the experiment'.format(number_of_human_runs_in_experiment))"
   ]
  },
  {
   "cell_type": "code",
   "execution_count": 19,
   "metadata": {},
   "outputs": [],
   "source": [
    "# count how many runs each sequence/charge was extracted from and classified as a target\n",
    "sequence_occurences_l = []\n",
    "for group_name,group_df in human_only_targets_df.groupby(['sequence','charge'], as_index=False):\n",
    "    sequence_occurences_l.append((group_name, len(group_df.run_name.unique()), group_name[0], group_name[1]))\n",
    "human_sequence_occurences_df = pd.DataFrame(sequence_occurences_l, columns=['sequence_charge','number_of_runs_targets_extracted','sequence','charge'])"
   ]
  },
  {
   "cell_type": "code",
   "execution_count": 20,
   "metadata": {},
   "outputs": [
    {
     "name": "stdout",
     "output_type": "stream",
     "text": [
      "14.0% of values are missing across the HeLa-only runs.\n"
     ]
    }
   ],
   "source": [
    "# display the number of missing values across the experiment\n",
    "human_sequence_occurences_df['missing_files'] = number_of_human_runs_in_experiment - human_sequence_occurences_df.number_of_runs_targets_extracted\n",
    "proportion_of_missing_values = human_sequence_occurences_df.missing_files.sum() / (len(human_sequence_occurences_df) * number_of_human_runs_in_experiment)\n",
    "print(\"{}% of values are missing across the HeLa-only runs.\".format(round(proportion_of_missing_values*100)))"
   ]
  },
  {
   "cell_type": "code",
   "execution_count": 21,
   "metadata": {},
   "outputs": [
    {
     "data": {
      "text/html": [
       "<div>\n",
       "<style scoped>\n",
       "    .dataframe tbody tr th:only-of-type {\n",
       "        vertical-align: middle;\n",
       "    }\n",
       "\n",
       "    .dataframe tbody tr th {\n",
       "        vertical-align: top;\n",
       "    }\n",
       "\n",
       "    .dataframe thead th {\n",
       "        text-align: right;\n",
       "    }\n",
       "</style>\n",
       "<table border=\"1\" class=\"dataframe\">\n",
       "  <thead>\n",
       "    <tr style=\"text-align: right;\">\n",
       "      <th></th>\n",
       "      <th>sequence</th>\n",
       "      <th>charge</th>\n",
       "      <th>number_of_runs_targets_extracted</th>\n",
       "      <th>missing_files</th>\n",
       "    </tr>\n",
       "  </thead>\n",
       "  <tbody>\n",
       "    <tr>\n",
       "      <th>25373</th>\n",
       "      <td>VLEGLREDMLETLVPK</td>\n",
       "      <td>3</td>\n",
       "      <td>9</td>\n",
       "      <td>1</td>\n",
       "    </tr>\n",
       "    <tr>\n",
       "      <th>7006</th>\n",
       "      <td>FAEQYSDAAFYK</td>\n",
       "      <td>2</td>\n",
       "      <td>8</td>\n",
       "      <td>2</td>\n",
       "    </tr>\n",
       "    <tr>\n",
       "      <th>10128</th>\n",
       "      <td>HDHEMEDCDTEMEVDSSQLR</td>\n",
       "      <td>3</td>\n",
       "      <td>9</td>\n",
       "      <td>1</td>\n",
       "    </tr>\n",
       "    <tr>\n",
       "      <th>6774</th>\n",
       "      <td>EVEEISLLQPQVEESVLNLGK</td>\n",
       "      <td>2</td>\n",
       "      <td>10</td>\n",
       "      <td>0</td>\n",
       "    </tr>\n",
       "    <tr>\n",
       "      <th>11566</th>\n",
       "      <td>IHGTFHMQK</td>\n",
       "      <td>2</td>\n",
       "      <td>10</td>\n",
       "      <td>0</td>\n",
       "    </tr>\n",
       "    <tr>\n",
       "      <th>14556</th>\n",
       "      <td>LLSSAFDEVYPALPSDVQTAIK</td>\n",
       "      <td>2</td>\n",
       "      <td>10</td>\n",
       "      <td>0</td>\n",
       "    </tr>\n",
       "    <tr>\n",
       "      <th>13049</th>\n",
       "      <td>LAPPAAASYSQAMK</td>\n",
       "      <td>2</td>\n",
       "      <td>10</td>\n",
       "      <td>0</td>\n",
       "    </tr>\n",
       "    <tr>\n",
       "      <th>6969</th>\n",
       "      <td>EYVESENGQMYIQK</td>\n",
       "      <td>2</td>\n",
       "      <td>2</td>\n",
       "      <td>8</td>\n",
       "    </tr>\n",
       "    <tr>\n",
       "      <th>7076</th>\n",
       "      <td>FCADHPFLFFIR</td>\n",
       "      <td>3</td>\n",
       "      <td>10</td>\n",
       "      <td>0</td>\n",
       "    </tr>\n",
       "    <tr>\n",
       "      <th>14693</th>\n",
       "      <td>LM[15.9949]DIADMIENTTR</td>\n",
       "      <td>2</td>\n",
       "      <td>8</td>\n",
       "      <td>2</td>\n",
       "    </tr>\n",
       "  </tbody>\n",
       "</table>\n",
       "</div>"
      ],
      "text/plain": [
       "                     sequence  charge  number_of_runs_targets_extracted  \\\n",
       "25373        VLEGLREDMLETLVPK       3                                 9   \n",
       "7006             FAEQYSDAAFYK       2                                 8   \n",
       "10128    HDHEMEDCDTEMEVDSSQLR       3                                 9   \n",
       "6774    EVEEISLLQPQVEESVLNLGK       2                                10   \n",
       "11566               IHGTFHMQK       2                                10   \n",
       "14556  LLSSAFDEVYPALPSDVQTAIK       2                                10   \n",
       "13049          LAPPAAASYSQAMK       2                                10   \n",
       "6969           EYVESENGQMYIQK       2                                 2   \n",
       "7076             FCADHPFLFFIR       3                                10   \n",
       "14693  LM[15.9949]DIADMIENTTR       2                                 8   \n",
       "\n",
       "       missing_files  \n",
       "25373              1  \n",
       "7006               2  \n",
       "10128              1  \n",
       "6774               0  \n",
       "11566              0  \n",
       "14556              0  \n",
       "13049              0  \n",
       "6969               8  \n",
       "7076               0  \n",
       "14693              2  "
      ]
     },
     "execution_count": 21,
     "metadata": {},
     "output_type": "execute_result"
    }
   ],
   "source": [
    "human_sequence_occurences_df.sample(n=10)[['sequence','charge','number_of_runs_targets_extracted','missing_files']]"
   ]
  },
  {
   "cell_type": "code",
   "execution_count": 23,
   "metadata": {},
   "outputs": [
    {
     "data": {
      "text/plain": [
       "0.17855686494895878"
      ]
     },
     "execution_count": 23,
     "metadata": {},
     "output_type": "execute_result"
    }
   ],
   "source": [
    "len(human_only_df[human_only_df.classed_as == 'decoy']) / len(human_only_df)"
   ]
  },
  {
   "cell_type": "code",
   "execution_count": 24,
   "metadata": {},
   "outputs": [
    {
     "data": {
      "text/plain": [
       "27816"
      ]
     },
     "execution_count": 24,
     "metadata": {},
     "output_type": "execute_result"
    }
   ],
   "source": [
    "unique_sequences_human_df = human_only_targets_df.drop_duplicates(subset=['sequence', 'charge'], keep='first', inplace=False)\n",
    "number_of_unique_sequences_human = len(unique_sequences_human_df)\n",
    "number_of_unique_sequences_human"
   ]
  },
  {
   "cell_type": "code",
   "execution_count": 25,
   "metadata": {},
   "outputs": [
    {
     "data": {
      "image/png": "[encoded data removed]",
      "text/plain": [
       "<Figure size 1080x576 with 1 Axes>"
      ]
     },
     "metadata": {
      "needs_background": "light"
     },
     "output_type": "display_data"
    }
   ],
   "source": [
    "f, ax1 = plt.subplots()\n",
    "f.set_figheight(8)\n",
    "f.set_figwidth(15)\n",
    "\n",
    "plt.margins(0.06)\n",
    "plt.suptitle('Distribution of sequence identifications in the HeLa-only runs for TFD_E')\n",
    "plt.title('total {} modified peptide sequences'.format(number_of_unique_sequences_human))\n",
    "\n",
    "counts = np.bincount(human_sequence_occurences_df.number_of_runs_targets_extracted)\n",
    "ax1.bar(range(11), counts, width=0.8, align='center')\n",
    "plt.xlabel('number of files in which a modified sequence-charge was identified')\n",
    "plt.ylabel('frequency')\n",
    "ax1.set(xticks=range(1,11), xlim=[0, 11])\n",
    "# plt.ylim((0,20000))\n",
    "\n",
    "plt.show()"
   ]
  },
  {
   "cell_type": "code",
   "execution_count": null,
   "metadata": {},
   "outputs": [],
   "source": []
  }
 ],
 "metadata": {
  "kernelspec": {
   "display_name": "Python 3",
   "language": "python",
   "name": "python3"
  },
  "language_info": {
   "codemirror_mode": {
    "name": "ipython",
    "version": 3
   },
   "file_extension": ".py",
   "mimetype": "text/x-python",
   "name": "python",
   "nbconvert_exporter": "python",
   "pygments_lexer": "ipython3",
   "version": "3.6.8"
  }
 },
 "nbformat": 4,
 "nbformat_minor": 2
}
