{
 "cells": [
  {
   "cell_type": "code",
   "execution_count": 1,
   "metadata": {},
   "outputs": [],
   "source": [
    "import pandas as pd\n",
    "import numpy as np\n",
    "import sqlite3\n",
    "import json\n",
    "import matplotlib.pyplot as plt"
   ]
  },
  {
   "cell_type": "markdown",
   "metadata": {},
   "source": [
    "#### prepare the TFD/E results"
   ]
  },
  {
   "cell_type": "code",
   "execution_count": 2,
   "metadata": {},
   "outputs": [],
   "source": [
    "# load the results\n",
    "EXPERIMENT_DIR = '/Users/darylwilding-mcbride/Downloads/experiments/YHE-R'\n",
    "RESULTS_DB_NAME = '{}/summarised-results/results.sqlite'.format(EXPERIMENT_DIR)\n",
    "db_conn = sqlite3.connect(RESULTS_DB_NAME)\n",
    "results_df = pd.read_sql_query(\"select * from sequences\", db_conn)\n",
    "db_conn.close()"
   ]
  },
  {
   "cell_type": "code",
   "execution_count": 3,
   "metadata": {},
   "outputs": [
    {
     "data": {
      "text/plain": [
       "29553"
      ]
     },
     "execution_count": 3,
     "metadata": {},
     "output_type": "execute_result"
    }
   ],
   "source": [
    "len(results_df)"
   ]
  },
  {
   "cell_type": "code",
   "execution_count": 4,
   "metadata": {},
   "outputs": [],
   "source": [
    "# convert the identifications from JSON to Python objects\n",
    "results_df['identifications_d'] = results_df.apply(lambda row: json.loads(row.identifications), axis=1)"
   ]
  },
  {
   "cell_type": "code",
   "execution_count": 5,
   "metadata": {},
   "outputs": [],
   "source": [
    "# separate some key metrics into separate columns\n",
    "results_df['id_perc_q_value'] = results_df.apply(lambda row: row.identifications_d['perc_q_value'], axis=1)\n",
    "results_df['id_count_all_runs'] = results_df.apply(lambda row: len(row.identifications_d['run_names']), axis=1)\n",
    "results_df['id_count_human_only_runs'] = results_df.apply(lambda row: sum('YHE010' in s for s in row.identifications_d['run_names']), axis=1)"
   ]
  },
  {
   "cell_type": "code",
   "execution_count": 6,
   "metadata": {},
   "outputs": [],
   "source": [
    "# remove the results that couldn't be extracted or were not classified as a target\n",
    "results_df = results_df[results_df.extractions.notnull()].copy()"
   ]
  },
  {
   "cell_type": "code",
   "execution_count": 7,
   "metadata": {},
   "outputs": [],
   "source": [
    "# convert from JSON to Python objects\n",
    "results_df['extractions_l'] = results_df.apply(lambda row: json.loads(row.extractions), axis=1)"
   ]
  },
  {
   "cell_type": "code",
   "execution_count": 8,
   "metadata": {},
   "outputs": [],
   "source": [
    "# separate some key metrics into separate columns\n",
    "results_df['ext_count_all_runs'] = results_df.apply(lambda row: len(row.extractions_l), axis=1)\n",
    "results_df['ext_count_human_only_runs'] = results_df.apply(lambda row: sum('YHE010' in s['run_name'] for s in row.extractions_l), axis=1)"
   ]
  },
  {
   "cell_type": "code",
   "execution_count": 9,
   "metadata": {},
   "outputs": [
    {
     "data": {
      "text/html": [
       "<div>\n",
       "<style scoped>\n",
       "    .dataframe tbody tr th:only-of-type {\n",
       "        vertical-align: middle;\n",
       "    }\n",
       "\n",
       "    .dataframe tbody tr th {\n",
       "        vertical-align: top;\n",
       "    }\n",
       "\n",
       "    .dataframe thead th {\n",
       "        text-align: right;\n",
       "    }\n",
       "</style>\n",
       "<table border=\"1\" class=\"dataframe\">\n",
       "  <thead>\n",
       "    <tr style=\"text-align: right;\">\n",
       "      <th></th>\n",
       "      <th>sequence</th>\n",
       "      <th>charge</th>\n",
       "      <th>human</th>\n",
       "      <th>identifications</th>\n",
       "      <th>extractions</th>\n",
       "      <th>identifications_d</th>\n",
       "      <th>id_perc_q_value</th>\n",
       "      <th>id_count_all_runs</th>\n",
       "      <th>id_count_human_only_runs</th>\n",
       "      <th>extractions_l</th>\n",
       "      <th>ext_count_all_runs</th>\n",
       "      <th>ext_count_human_only_runs</th>\n",
       "    </tr>\n",
       "  </thead>\n",
       "  <tbody>\n",
       "    <tr>\n",
       "      <th>7814</th>\n",
       "      <td>FGAQNESLLPSILVLLQR</td>\n",
       "      <td>2</td>\n",
       "      <td>1</td>\n",
       "      <td>{\"perc_q_value\": 1.9514534e-05, \"run_names\": [...</td>\n",
       "      <td>[{\"run_name\": \"YHE114_06_Slot1-1_1_3013\", \"pro...</td>\n",
       "      <td>{'perc_q_value': 1.9514534e-05, 'run_names': [...</td>\n",
       "      <td>0.000020</td>\n",
       "      <td>7</td>\n",
       "      <td>0</td>\n",
       "      <td>[{'run_name': 'YHE114_06_Slot1-1_1_3013', 'pro...</td>\n",
       "      <td>26</td>\n",
       "      <td>7</td>\n",
       "    </tr>\n",
       "    <tr>\n",
       "      <th>16023</th>\n",
       "      <td>LQDSFASETNLDFR</td>\n",
       "      <td>2</td>\n",
       "      <td>1</td>\n",
       "      <td>{\"perc_q_value\": 2.9439299e-06, \"run_names\": [...</td>\n",
       "      <td>[{\"run_name\": \"YHE114_11_Slot1-1_1_3043\", \"pro...</td>\n",
       "      <td>{'perc_q_value': 2.9439299e-06, 'run_names': [...</td>\n",
       "      <td>0.000003</td>\n",
       "      <td>5</td>\n",
       "      <td>1</td>\n",
       "      <td>[{'run_name': 'YHE114_11_Slot1-1_1_3043', 'pro...</td>\n",
       "      <td>31</td>\n",
       "      <td>10</td>\n",
       "    </tr>\n",
       "    <tr>\n",
       "      <th>3174</th>\n",
       "      <td>DDNLVVLHDHYLDR</td>\n",
       "      <td>2</td>\n",
       "      <td>0</td>\n",
       "      <td>{\"perc_q_value\": 2.9439299e-06, \"run_names\": [...</td>\n",
       "      <td>[{\"run_name\": \"YHE114_11_Slot1-1_1_3043\", \"pro...</td>\n",
       "      <td>{'perc_q_value': 2.9439299e-06, 'run_names': [...</td>\n",
       "      <td>0.000003</td>\n",
       "      <td>7</td>\n",
       "      <td>0</td>\n",
       "      <td>[{'run_name': 'YHE114_11_Slot1-1_1_3043', 'pro...</td>\n",
       "      <td>30</td>\n",
       "      <td>9</td>\n",
       "    </tr>\n",
       "  </tbody>\n",
       "</table>\n",
       "</div>"
      ],
      "text/plain": [
       "                 sequence  charge  human  \\\n",
       "7814   FGAQNESLLPSILVLLQR       2      1   \n",
       "16023      LQDSFASETNLDFR       2      1   \n",
       "3174       DDNLVVLHDHYLDR       2      0   \n",
       "\n",
       "                                         identifications  \\\n",
       "7814   {\"perc_q_value\": 1.9514534e-05, \"run_names\": [...   \n",
       "16023  {\"perc_q_value\": 2.9439299e-06, \"run_names\": [...   \n",
       "3174   {\"perc_q_value\": 2.9439299e-06, \"run_names\": [...   \n",
       "\n",
       "                                             extractions  \\\n",
       "7814   [{\"run_name\": \"YHE114_06_Slot1-1_1_3013\", \"pro...   \n",
       "16023  [{\"run_name\": \"YHE114_11_Slot1-1_1_3043\", \"pro...   \n",
       "3174   [{\"run_name\": \"YHE114_11_Slot1-1_1_3043\", \"pro...   \n",
       "\n",
       "                                       identifications_d  id_perc_q_value  \\\n",
       "7814   {'perc_q_value': 1.9514534e-05, 'run_names': [...         0.000020   \n",
       "16023  {'perc_q_value': 2.9439299e-06, 'run_names': [...         0.000003   \n",
       "3174   {'perc_q_value': 2.9439299e-06, 'run_names': [...         0.000003   \n",
       "\n",
       "       id_count_all_runs  id_count_human_only_runs  \\\n",
       "7814                   7                         0   \n",
       "16023                  5                         1   \n",
       "3174                   7                         0   \n",
       "\n",
       "                                           extractions_l  ext_count_all_runs  \\\n",
       "7814   [{'run_name': 'YHE114_06_Slot1-1_1_3013', 'pro...                  26   \n",
       "16023  [{'run_name': 'YHE114_11_Slot1-1_1_3043', 'pro...                  31   \n",
       "3174   [{'run_name': 'YHE114_11_Slot1-1_1_3043', 'pro...                  30   \n",
       "\n",
       "       ext_count_human_only_runs  \n",
       "7814                           7  \n",
       "16023                         10  \n",
       "3174                           9  "
      ]
     },
     "execution_count": 9,
     "metadata": {},
     "output_type": "execute_result"
    }
   ],
   "source": [
    "results_df.sample(n=3)"
   ]
  },
  {
   "cell_type": "code",
   "execution_count": 13,
   "metadata": {},
   "outputs": [],
   "source": [
    "# count the number of unique peptide identifications in each run\n",
    "counts_d = {}\n",
    "for row in results_df.itertuples():\n",
    "    for run_name in row.identifications_d['run_names']:\n",
    "        if run_name not in counts_d:\n",
    "            counts_d[run_name] = 0\n",
    "        counts_d[run_name] += 1"
   ]
  },
  {
   "cell_type": "code",
   "execution_count": 71,
   "metadata": {},
   "outputs": [],
   "source": [
    "sorted_counts_l = []\n",
    "for k in sorted(counts_d.keys()):\n",
    "    short_run_name = k.split('_Slot')[0]\n",
    "    sorted_counts_l.append((short_run_name, counts_d[k]))\n",
    "sorted_counts_df = pd.DataFrame(sorted_counts_l, columns=['run_name','count'])"
   ]
  },
  {
   "cell_type": "markdown",
   "metadata": {},
   "source": [
    "#### prepare the MaxQuant results"
   ]
  },
  {
   "cell_type": "code",
   "execution_count": 61,
   "metadata": {},
   "outputs": [],
   "source": [
    "mq_results_df = pd.read_csv('/Users/darylwilding-mcbride/Downloads/evidence-YHE-R-6-oct.txt', sep='\\\\t', engine='python')"
   ]
  },
  {
   "cell_type": "code",
   "execution_count": 62,
   "metadata": {},
   "outputs": [],
   "source": [
    "# remove decoys, which are indicated by a '+' in the Reverse column, and features with no intensity\n",
    "mq_results_df = mq_results_df[pd.isna(mq_results_df.Reverse) & (mq_results_df.Intensity > 0)]"
   ]
  },
  {
   "cell_type": "code",
   "execution_count": 63,
   "metadata": {},
   "outputs": [],
   "source": [
    "# definition of uniqueness in MaxQuant output with MBR on\n",
    "unique_peptide_key = ['Sequence','Modifications','Charge']"
   ]
  },
  {
   "cell_type": "code",
   "execution_count": 65,
   "metadata": {},
   "outputs": [],
   "source": [
    "# count the number of unique peptide identifications in each run\n",
    "mq_counts_d = {}\n",
    "for group_name,group_df in mq_results_df.groupby(unique_peptide_key, as_index=False):\n",
    "    df = group_df[(group_df.Type == 'TIMS-MULTI-MSMS')]\n",
    "    for run_name in df['Raw file'].unique():\n",
    "        if run_name not in mq_counts_d:\n",
    "            mq_counts_d[run_name] = 0\n",
    "        mq_counts_d[run_name] += 1"
   ]
  },
  {
   "cell_type": "code",
   "execution_count": 73,
   "metadata": {},
   "outputs": [],
   "source": [
    "mq_sorted_counts_l = []\n",
    "for k in sorted(mq_counts_d.keys()):\n",
    "    short_run_name = k.split('_Slot')[0]\n",
    "    mq_sorted_counts_l.append((short_run_name, mq_counts_d[k]))\n",
    "mq_sorted_counts_df = pd.DataFrame(mq_sorted_counts_l, columns=['run_name','count'])"
   ]
  },
  {
   "cell_type": "markdown",
   "metadata": {},
   "source": [
    "#### plot the results"
   ]
  },
  {
   "cell_type": "code",
   "execution_count": 80,
   "metadata": {},
   "outputs": [],
   "source": [
    "merged_df = pd.merge(sorted_counts_df, mq_sorted_counts_df, how='outer', left_on=['run_name'], right_on=['run_name'], suffixes=['_tfd_e','_mq'])\n",
    "merged_df.index = merged_df.run_name"
   ]
  },
  {
   "cell_type": "code",
   "execution_count": 82,
   "metadata": {},
   "outputs": [
    {
     "data": {
      "image/png": "[encoded data removed]",
      "text/plain": [
       "<Figure size 1080x576 with 1 Axes>"
      ]
     },
     "metadata": {
      "needs_background": "light"
     },
     "output_type": "display_data"
    }
   ],
   "source": [
    "merged_df.plot(kind='bar', figsize=(15,8))\n",
    "_ = plt.title(\"Unique peptide level\")\n",
    "_ = plt.xlabel(\"run\")\n",
    "_ = plt.ylabel(\"number of unique peptides detected\")"
   ]
  },
  {
   "cell_type": "code",
   "execution_count": null,
   "metadata": {},
   "outputs": [],
   "source": []
  }
 ],
 "metadata": {
  "kernelspec": {
   "display_name": "Python 3",
   "language": "python",
   "name": "python3"
  },
  "language_info": {
   "codemirror_mode": {
    "name": "ipython",
    "version": 3
   },
   "file_extension": ".py",
   "mimetype": "text/x-python",
   "name": "python",
   "nbconvert_exporter": "python",
   "pygments_lexer": "ipython3",
   "version": "3.6.8"
  }
 },
 "nbformat": 4,
 "nbformat_minor": 2
}
