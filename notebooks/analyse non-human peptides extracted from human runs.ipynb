{
 "cells": [
  {
   "cell_type": "code",
   "execution_count": 1,
   "metadata": {},
   "outputs": [],
   "source": [
    "import pandas as pd\n",
    "import numpy as np\n",
    "import sqlite3\n",
    "import json\n",
    "import matplotlib.pyplot as plt"
   ]
  },
  {
   "cell_type": "code",
   "execution_count": 2,
   "metadata": {},
   "outputs": [],
   "source": [
    "EXPERIMENT_DIR = '/Users/darylwilding-mcbride/Downloads/experiments/YHE-R'\n",
    "RESULTS_DB_NAME = '{}/summarised-results/results.sqlite'.format(EXPERIMENT_DIR)\n",
    "db_conn = sqlite3.connect(RESULTS_DB_NAME)\n",
    "results_df = pd.read_sql_query(\"select * from sequences\", db_conn)\n",
    "db_conn.close()"
   ]
  },
  {
   "cell_type": "code",
   "execution_count": 3,
   "metadata": {},
   "outputs": [
    {
     "data": {
      "text/plain": [
       "29553"
      ]
     },
     "execution_count": 3,
     "metadata": {},
     "output_type": "execute_result"
    }
   ],
   "source": [
    "len(results_df)"
   ]
  },
  {
   "cell_type": "code",
   "execution_count": 4,
   "metadata": {},
   "outputs": [
    {
     "data": {
      "text/html": [
       "<div>\n",
       "<style scoped>\n",
       "    .dataframe tbody tr th:only-of-type {\n",
       "        vertical-align: middle;\n",
       "    }\n",
       "\n",
       "    .dataframe tbody tr th {\n",
       "        vertical-align: top;\n",
       "    }\n",
       "\n",
       "    .dataframe thead th {\n",
       "        text-align: right;\n",
       "    }\n",
       "</style>\n",
       "<table border=\"1\" class=\"dataframe\">\n",
       "  <thead>\n",
       "    <tr style=\"text-align: right;\">\n",
       "      <th></th>\n",
       "      <th>sequence</th>\n",
       "      <th>charge</th>\n",
       "      <th>human</th>\n",
       "      <th>identifications</th>\n",
       "      <th>extractions</th>\n",
       "    </tr>\n",
       "  </thead>\n",
       "  <tbody>\n",
       "    <tr>\n",
       "      <th>23587</th>\n",
       "      <td>STHNEDQASCEVLTVK</td>\n",
       "      <td>2</td>\n",
       "      <td>1</td>\n",
       "      <td>{\"perc_q_value\": 4.5472297e-05, \"run_names\": [...</td>\n",
       "      <td>[{\"run_name\": \"YHE114_11_Slot1-1_1_3043\", \"pro...</td>\n",
       "    </tr>\n",
       "    <tr>\n",
       "      <th>12320</th>\n",
       "      <td>IIAGALDNGSLELYSTNEANNAINSMAR</td>\n",
       "      <td>2</td>\n",
       "      <td>0</td>\n",
       "      <td>{\"perc_q_value\": 2.9439299e-06, \"run_names\": [...</td>\n",
       "      <td>[{\"run_name\": \"YHE114_11_Slot1-1_1_3043\", \"pro...</td>\n",
       "    </tr>\n",
       "    <tr>\n",
       "      <th>26243</th>\n",
       "      <td>VDNMIIQSISLLDQLDK</td>\n",
       "      <td>2</td>\n",
       "      <td>1</td>\n",
       "      <td>{\"perc_q_value\": 2.9439299e-06, \"run_names\": [...</td>\n",
       "      <td>[{\"run_name\": \"YHE114_11_Slot1-1_1_3043\", \"pro...</td>\n",
       "    </tr>\n",
       "    <tr>\n",
       "      <th>28306</th>\n",
       "      <td>WNLDELPK</td>\n",
       "      <td>2</td>\n",
       "      <td>1</td>\n",
       "      <td>{\"perc_q_value\": 0.0066376925, \"run_names\": [\"...</td>\n",
       "      <td>[{\"run_name\": \"YHE114_11_Slot1-1_1_3043\", \"pro...</td>\n",
       "    </tr>\n",
       "    <tr>\n",
       "      <th>10889</th>\n",
       "      <td>HFIMQVVCEATQCPDTR</td>\n",
       "      <td>2</td>\n",
       "      <td>1</td>\n",
       "      <td>{\"perc_q_value\": 2.9439299e-06, \"run_names\": [...</td>\n",
       "      <td>[{\"run_name\": \"YHE114_11_Slot1-1_1_3043\", \"pro...</td>\n",
       "    </tr>\n",
       "  </tbody>\n",
       "</table>\n",
       "</div>"
      ],
      "text/plain": [
       "                           sequence  charge  human  \\\n",
       "23587              STHNEDQASCEVLTVK       2      1   \n",
       "12320  IIAGALDNGSLELYSTNEANNAINSMAR       2      0   \n",
       "26243             VDNMIIQSISLLDQLDK       2      1   \n",
       "28306                      WNLDELPK       2      1   \n",
       "10889             HFIMQVVCEATQCPDTR       2      1   \n",
       "\n",
       "                                         identifications  \\\n",
       "23587  {\"perc_q_value\": 4.5472297e-05, \"run_names\": [...   \n",
       "12320  {\"perc_q_value\": 2.9439299e-06, \"run_names\": [...   \n",
       "26243  {\"perc_q_value\": 2.9439299e-06, \"run_names\": [...   \n",
       "28306  {\"perc_q_value\": 0.0066376925, \"run_names\": [\"...   \n",
       "10889  {\"perc_q_value\": 2.9439299e-06, \"run_names\": [...   \n",
       "\n",
       "                                             extractions  \n",
       "23587  [{\"run_name\": \"YHE114_11_Slot1-1_1_3043\", \"pro...  \n",
       "12320  [{\"run_name\": \"YHE114_11_Slot1-1_1_3043\", \"pro...  \n",
       "26243  [{\"run_name\": \"YHE114_11_Slot1-1_1_3043\", \"pro...  \n",
       "28306  [{\"run_name\": \"YHE114_11_Slot1-1_1_3043\", \"pro...  \n",
       "10889  [{\"run_name\": \"YHE114_11_Slot1-1_1_3043\", \"pro...  "
      ]
     },
     "execution_count": 4,
     "metadata": {},
     "output_type": "execute_result"
    }
   ],
   "source": [
    "results_df.sample(n=5)"
   ]
  },
  {
   "cell_type": "code",
   "execution_count": 5,
   "metadata": {},
   "outputs": [],
   "source": [
    "results_df['identifications_d'] = results_df.apply(lambda row: json.loads(row.identifications), axis=1)\n",
    "results_df['id_perc_q_value'] = results_df.apply(lambda row: row.identifications_d['perc_q_value'], axis=1)\n",
    "results_df['id_count_all_runs'] = results_df.apply(lambda row: len(row.identifications_d['run_names']), axis=1)\n",
    "results_df['id_count_human_only_runs'] = results_df.apply(lambda row: sum('YHE010' in s for s in row.identifications_d['run_names']), axis=1)"
   ]
  },
  {
   "cell_type": "code",
   "execution_count": 6,
   "metadata": {},
   "outputs": [
    {
     "data": {
      "text/html": [
       "<div>\n",
       "<style scoped>\n",
       "    .dataframe tbody tr th:only-of-type {\n",
       "        vertical-align: middle;\n",
       "    }\n",
       "\n",
       "    .dataframe tbody tr th {\n",
       "        vertical-align: top;\n",
       "    }\n",
       "\n",
       "    .dataframe thead th {\n",
       "        text-align: right;\n",
       "    }\n",
       "</style>\n",
       "<table border=\"1\" class=\"dataframe\">\n",
       "  <thead>\n",
       "    <tr style=\"text-align: right;\">\n",
       "      <th></th>\n",
       "      <th>sequence</th>\n",
       "      <th>charge</th>\n",
       "      <th>human</th>\n",
       "      <th>identifications</th>\n",
       "      <th>extractions</th>\n",
       "      <th>identifications_d</th>\n",
       "      <th>id_perc_q_value</th>\n",
       "      <th>id_count_all_runs</th>\n",
       "      <th>id_count_human_only_runs</th>\n",
       "    </tr>\n",
       "  </thead>\n",
       "  <tbody>\n",
       "    <tr>\n",
       "      <th>25359</th>\n",
       "      <td>TQLEQDSIIEALLPLSMEAK</td>\n",
       "      <td>3</td>\n",
       "      <td>1</td>\n",
       "      <td>{\"perc_q_value\": 1.9514534e-05, \"run_names\": [...</td>\n",
       "      <td>[{\"run_name\": \"YHE114_11_Slot1-1_1_3043\", \"pro...</td>\n",
       "      <td>{'perc_q_value': 1.9514534e-05, 'run_names': [...</td>\n",
       "      <td>0.000020</td>\n",
       "      <td>3</td>\n",
       "      <td>0</td>\n",
       "    </tr>\n",
       "    <tr>\n",
       "      <th>18241</th>\n",
       "      <td>NFNDPEVQGDMK</td>\n",
       "      <td>2</td>\n",
       "      <td>0</td>\n",
       "      <td>{\"perc_q_value\": 2.9439299e-06, \"run_names\": [...</td>\n",
       "      <td>[{\"run_name\": \"YHE114_11_Slot1-1_1_3043\", \"pro...</td>\n",
       "      <td>{'perc_q_value': 2.9439299e-06, 'run_names': [...</td>\n",
       "      <td>0.000003</td>\n",
       "      <td>10</td>\n",
       "      <td>0</td>\n",
       "    </tr>\n",
       "    <tr>\n",
       "      <th>11226</th>\n",
       "      <td>HMLADVFSVK</td>\n",
       "      <td>2</td>\n",
       "      <td>1</td>\n",
       "      <td>{\"perc_q_value\": 0.0001248106, \"run_names\": [\"...</td>\n",
       "      <td>[{\"run_name\": \"YHE114_11_Slot1-1_1_3043\", \"pro...</td>\n",
       "      <td>{'perc_q_value': 0.0001248106, 'run_names': ['...</td>\n",
       "      <td>0.000125</td>\n",
       "      <td>2</td>\n",
       "      <td>1</td>\n",
       "    </tr>\n",
       "  </tbody>\n",
       "</table>\n",
       "</div>"
      ],
      "text/plain": [
       "                   sequence  charge  human  \\\n",
       "25359  TQLEQDSIIEALLPLSMEAK       3      1   \n",
       "18241          NFNDPEVQGDMK       2      0   \n",
       "11226            HMLADVFSVK       2      1   \n",
       "\n",
       "                                         identifications  \\\n",
       "25359  {\"perc_q_value\": 1.9514534e-05, \"run_names\": [...   \n",
       "18241  {\"perc_q_value\": 2.9439299e-06, \"run_names\": [...   \n",
       "11226  {\"perc_q_value\": 0.0001248106, \"run_names\": [\"...   \n",
       "\n",
       "                                             extractions  \\\n",
       "25359  [{\"run_name\": \"YHE114_11_Slot1-1_1_3043\", \"pro...   \n",
       "18241  [{\"run_name\": \"YHE114_11_Slot1-1_1_3043\", \"pro...   \n",
       "11226  [{\"run_name\": \"YHE114_11_Slot1-1_1_3043\", \"pro...   \n",
       "\n",
       "                                       identifications_d  id_perc_q_value  \\\n",
       "25359  {'perc_q_value': 1.9514534e-05, 'run_names': [...         0.000020   \n",
       "18241  {'perc_q_value': 2.9439299e-06, 'run_names': [...         0.000003   \n",
       "11226  {'perc_q_value': 0.0001248106, 'run_names': ['...         0.000125   \n",
       "\n",
       "       id_count_all_runs  id_count_human_only_runs  \n",
       "25359                  3                         0  \n",
       "18241                 10                         0  \n",
       "11226                  2                         1  "
      ]
     },
     "execution_count": 6,
     "metadata": {},
     "output_type": "execute_result"
    }
   ],
   "source": [
    "results_df.sample(n=3)"
   ]
  },
  {
   "cell_type": "code",
   "execution_count": 7,
   "metadata": {},
   "outputs": [],
   "source": [
    "results_df = results_df[results_df.extractions.notnull()].copy()"
   ]
  },
  {
   "cell_type": "code",
   "execution_count": 8,
   "metadata": {},
   "outputs": [],
   "source": [
    "results_df['extractions_l'] = results_df.apply(lambda row: json.loads(row.extractions), axis=1)"
   ]
  },
  {
   "cell_type": "code",
   "execution_count": 9,
   "metadata": {},
   "outputs": [
    {
     "data": {
      "text/html": [
       "<div>\n",
       "<style scoped>\n",
       "    .dataframe tbody tr th:only-of-type {\n",
       "        vertical-align: middle;\n",
       "    }\n",
       "\n",
       "    .dataframe tbody tr th {\n",
       "        vertical-align: top;\n",
       "    }\n",
       "\n",
       "    .dataframe thead th {\n",
       "        text-align: right;\n",
       "    }\n",
       "</style>\n",
       "<table border=\"1\" class=\"dataframe\">\n",
       "  <thead>\n",
       "    <tr style=\"text-align: right;\">\n",
       "      <th></th>\n",
       "      <th>sequence</th>\n",
       "      <th>charge</th>\n",
       "      <th>human</th>\n",
       "      <th>identifications</th>\n",
       "      <th>extractions</th>\n",
       "      <th>identifications_d</th>\n",
       "      <th>id_perc_q_value</th>\n",
       "      <th>id_count_all_runs</th>\n",
       "      <th>id_count_human_only_runs</th>\n",
       "      <th>extractions_l</th>\n",
       "    </tr>\n",
       "  </thead>\n",
       "  <tbody>\n",
       "    <tr>\n",
       "      <th>18649</th>\n",
       "      <td>NLVATFICVFEK</td>\n",
       "      <td>2</td>\n",
       "      <td>1</td>\n",
       "      <td>{\"perc_q_value\": 0.00046224997000000005, \"run_...</td>\n",
       "      <td>[{\"run_name\": \"YHE114_11_Slot1-1_1_3043\", \"pro...</td>\n",
       "      <td>{'perc_q_value': 0.00046224997000000005, 'run_...</td>\n",
       "      <td>0.000462</td>\n",
       "      <td>3</td>\n",
       "      <td>0</td>\n",
       "      <td>[{'run_name': 'YHE114_11_Slot1-1_1_3043', 'pro...</td>\n",
       "    </tr>\n",
       "    <tr>\n",
       "      <th>12774</th>\n",
       "      <td>INWGPVLTDLPMWDK</td>\n",
       "      <td>2</td>\n",
       "      <td>0</td>\n",
       "      <td>{\"perc_q_value\": 1.1546711000000001e-05, \"run_...</td>\n",
       "      <td>[{\"run_name\": \"YHE114_11_Slot1-1_1_3043\", \"pro...</td>\n",
       "      <td>{'perc_q_value': 1.1546711000000001e-05, 'run_...</td>\n",
       "      <td>0.000012</td>\n",
       "      <td>2</td>\n",
       "      <td>0</td>\n",
       "      <td>[{'run_name': 'YHE114_11_Slot1-1_1_3043', 'pro...</td>\n",
       "    </tr>\n",
       "    <tr>\n",
       "      <th>811</th>\n",
       "      <td>AGNWPGSPQVSGPSPAAR</td>\n",
       "      <td>2</td>\n",
       "      <td>1</td>\n",
       "      <td>{\"perc_q_value\": 2.7146619e-05, \"run_names\": [...</td>\n",
       "      <td>[{\"run_name\": \"YHE114_11_Slot1-1_1_3043\", \"pro...</td>\n",
       "      <td>{'perc_q_value': 2.7146619e-05, 'run_names': [...</td>\n",
       "      <td>0.000027</td>\n",
       "      <td>7</td>\n",
       "      <td>1</td>\n",
       "      <td>[{'run_name': 'YHE114_11_Slot1-1_1_3043', 'pro...</td>\n",
       "    </tr>\n",
       "    <tr>\n",
       "      <th>10043</th>\n",
       "      <td>GPLQSVQVFGR</td>\n",
       "      <td>2</td>\n",
       "      <td>1</td>\n",
       "      <td>{\"perc_q_value\": 2.9439299e-06, \"run_names\": [...</td>\n",
       "      <td>[{\"run_name\": \"YHE114_11_Slot1-1_1_3043\", \"pro...</td>\n",
       "      <td>{'perc_q_value': 2.9439299e-06, 'run_names': [...</td>\n",
       "      <td>0.000003</td>\n",
       "      <td>9</td>\n",
       "      <td>8</td>\n",
       "      <td>[{'run_name': 'YHE114_11_Slot1-1_1_3043', 'pro...</td>\n",
       "    </tr>\n",
       "    <tr>\n",
       "      <th>5140</th>\n",
       "      <td>EALQLMATYLPK</td>\n",
       "      <td>2</td>\n",
       "      <td>1</td>\n",
       "      <td>{\"perc_q_value\": 2.9439299e-06, \"run_names\": [...</td>\n",
       "      <td>[{\"run_name\": \"YHE114_11_Slot1-1_1_3043\", \"pro...</td>\n",
       "      <td>{'perc_q_value': 2.9439299e-06, 'run_names': [...</td>\n",
       "      <td>0.000003</td>\n",
       "      <td>10</td>\n",
       "      <td>10</td>\n",
       "      <td>[{'run_name': 'YHE114_11_Slot1-1_1_3043', 'pro...</td>\n",
       "    </tr>\n",
       "  </tbody>\n",
       "</table>\n",
       "</div>"
      ],
      "text/plain": [
       "                 sequence  charge  human  \\\n",
       "18649        NLVATFICVFEK       2      1   \n",
       "12774     INWGPVLTDLPMWDK       2      0   \n",
       "811    AGNWPGSPQVSGPSPAAR       2      1   \n",
       "10043         GPLQSVQVFGR       2      1   \n",
       "5140         EALQLMATYLPK       2      1   \n",
       "\n",
       "                                         identifications  \\\n",
       "18649  {\"perc_q_value\": 0.00046224997000000005, \"run_...   \n",
       "12774  {\"perc_q_value\": 1.1546711000000001e-05, \"run_...   \n",
       "811    {\"perc_q_value\": 2.7146619e-05, \"run_names\": [...   \n",
       "10043  {\"perc_q_value\": 2.9439299e-06, \"run_names\": [...   \n",
       "5140   {\"perc_q_value\": 2.9439299e-06, \"run_names\": [...   \n",
       "\n",
       "                                             extractions  \\\n",
       "18649  [{\"run_name\": \"YHE114_11_Slot1-1_1_3043\", \"pro...   \n",
       "12774  [{\"run_name\": \"YHE114_11_Slot1-1_1_3043\", \"pro...   \n",
       "811    [{\"run_name\": \"YHE114_11_Slot1-1_1_3043\", \"pro...   \n",
       "10043  [{\"run_name\": \"YHE114_11_Slot1-1_1_3043\", \"pro...   \n",
       "5140   [{\"run_name\": \"YHE114_11_Slot1-1_1_3043\", \"pro...   \n",
       "\n",
       "                                       identifications_d  id_perc_q_value  \\\n",
       "18649  {'perc_q_value': 0.00046224997000000005, 'run_...         0.000462   \n",
       "12774  {'perc_q_value': 1.1546711000000001e-05, 'run_...         0.000012   \n",
       "811    {'perc_q_value': 2.7146619e-05, 'run_names': [...         0.000027   \n",
       "10043  {'perc_q_value': 2.9439299e-06, 'run_names': [...         0.000003   \n",
       "5140   {'perc_q_value': 2.9439299e-06, 'run_names': [...         0.000003   \n",
       "\n",
       "       id_count_all_runs  id_count_human_only_runs  \\\n",
       "18649                  3                         0   \n",
       "12774                  2                         0   \n",
       "811                    7                         1   \n",
       "10043                  9                         8   \n",
       "5140                  10                        10   \n",
       "\n",
       "                                           extractions_l  \n",
       "18649  [{'run_name': 'YHE114_11_Slot1-1_1_3043', 'pro...  \n",
       "12774  [{'run_name': 'YHE114_11_Slot1-1_1_3043', 'pro...  \n",
       "811    [{'run_name': 'YHE114_11_Slot1-1_1_3043', 'pro...  \n",
       "10043  [{'run_name': 'YHE114_11_Slot1-1_1_3043', 'pro...  \n",
       "5140   [{'run_name': 'YHE114_11_Slot1-1_1_3043', 'pro...  "
      ]
     },
     "execution_count": 9,
     "metadata": {},
     "output_type": "execute_result"
    }
   ],
   "source": [
    "results_df.sample(n=5)"
   ]
  },
  {
   "cell_type": "code",
   "execution_count": 10,
   "metadata": {},
   "outputs": [
    {
     "data": {
      "text/plain": [
       "{'perc_q_value': 2.9439299e-06,\n",
       " 'run_names': ['YHE010_09_Slot1-1_1_2994',\n",
       "  'YHE010_07_Slot1-1_1_2992',\n",
       "  'YHE010_05_Slot1-1_1_2990',\n",
       "  'YHE010_08_Slot1-1_1_2993',\n",
       "  'YHE010_10_Slot1-1_1_2995',\n",
       "  'YHE010_04_Slot1-1_1_2989',\n",
       "  'YHE114_02_Slot1-1_1_3009',\n",
       "  'YHE010_03_Slot1-1_1_2988',\n",
       "  'YHE211_08_Slot1-1_1_3004',\n",
       "  'YHE010_02_Slot1-1_1_2987',\n",
       "  'YHE010_06_Slot1-1_1_2991',\n",
       "  'YHE114_11_Slot1-1_1_3043',\n",
       "  'YHE114_03_Slot1-1_1_3010',\n",
       "  'YHE114_07_Slot1-1_1_3014',\n",
       "  'YHE211_03_Slot1-1_1_2999',\n",
       "  'YHE211_04_Slot1-1_1_3000']}"
      ]
     },
     "execution_count": 10,
     "metadata": {},
     "output_type": "execute_result"
    }
   ],
   "source": [
    "results_df.loc[755].identifications_d"
   ]
  },
  {
   "cell_type": "code",
   "execution_count": 11,
   "metadata": {},
   "outputs": [],
   "source": [
    "results_df['ext_count_all_runs'] = results_df.apply(lambda row: len(row.extractions_l), axis=1)\n",
    "results_df['ext_count_human_only_runs'] = results_df.apply(lambda row: sum('YHE010' in s['run_name'] for s in row.extractions_l), axis=1)"
   ]
  },
  {
   "cell_type": "code",
   "execution_count": 12,
   "metadata": {},
   "outputs": [
    {
     "data": {
      "text/html": [
       "<div>\n",
       "<style scoped>\n",
       "    .dataframe tbody tr th:only-of-type {\n",
       "        vertical-align: middle;\n",
       "    }\n",
       "\n",
       "    .dataframe tbody tr th {\n",
       "        vertical-align: top;\n",
       "    }\n",
       "\n",
       "    .dataframe thead th {\n",
       "        text-align: right;\n",
       "    }\n",
       "</style>\n",
       "<table border=\"1\" class=\"dataframe\">\n",
       "  <thead>\n",
       "    <tr style=\"text-align: right;\">\n",
       "      <th></th>\n",
       "      <th>sequence</th>\n",
       "      <th>charge</th>\n",
       "      <th>human</th>\n",
       "      <th>identifications</th>\n",
       "      <th>extractions</th>\n",
       "      <th>identifications_d</th>\n",
       "      <th>id_perc_q_value</th>\n",
       "      <th>id_count_all_runs</th>\n",
       "      <th>id_count_human_only_runs</th>\n",
       "      <th>extractions_l</th>\n",
       "      <th>ext_count_all_runs</th>\n",
       "      <th>ext_count_human_only_runs</th>\n",
       "    </tr>\n",
       "  </thead>\n",
       "  <tbody>\n",
       "    <tr>\n",
       "      <th>3545</th>\n",
       "      <td>DGPLSTNVEAK</td>\n",
       "      <td>1</td>\n",
       "      <td>0</td>\n",
       "      <td>{\"perc_q_value\": 6.2057677e-05, \"run_names\": [...</td>\n",
       "      <td>[{\"run_name\": \"YHE114_11_Slot1-1_1_3043\", \"pro...</td>\n",
       "      <td>{'perc_q_value': 6.2057677e-05, 'run_names': [...</td>\n",
       "      <td>0.000062</td>\n",
       "      <td>2</td>\n",
       "      <td>0</td>\n",
       "      <td>[{'run_name': 'YHE114_11_Slot1-1_1_3043', 'pro...</td>\n",
       "      <td>19</td>\n",
       "      <td>8</td>\n",
       "    </tr>\n",
       "    <tr>\n",
       "      <th>8456</th>\n",
       "      <td>FQYLLCVLSYDPTK</td>\n",
       "      <td>2</td>\n",
       "      <td>1</td>\n",
       "      <td>{\"perc_q_value\": 2.9439299e-06, \"run_names\": [...</td>\n",
       "      <td>[{\"run_name\": \"YHE114_11_Slot1-1_1_3043\", \"pro...</td>\n",
       "      <td>{'perc_q_value': 2.9439299e-06, 'run_names': [...</td>\n",
       "      <td>0.000003</td>\n",
       "      <td>26</td>\n",
       "      <td>5</td>\n",
       "      <td>[{'run_name': 'YHE114_11_Slot1-1_1_3043', 'pro...</td>\n",
       "      <td>31</td>\n",
       "      <td>10</td>\n",
       "    </tr>\n",
       "    <tr>\n",
       "      <th>9924</th>\n",
       "      <td>GNLAAFVEQKPEAK</td>\n",
       "      <td>2</td>\n",
       "      <td>0</td>\n",
       "      <td>{\"perc_q_value\": 2.9439299e-06, \"run_names\": [...</td>\n",
       "      <td>[{\"run_name\": \"YHE114_11_Slot1-1_1_3043\", \"pro...</td>\n",
       "      <td>{'perc_q_value': 2.9439299e-06, 'run_names': [...</td>\n",
       "      <td>0.000003</td>\n",
       "      <td>11</td>\n",
       "      <td>0</td>\n",
       "      <td>[{'run_name': 'YHE114_11_Slot1-1_1_3043', 'pro...</td>\n",
       "      <td>25</td>\n",
       "      <td>4</td>\n",
       "    </tr>\n",
       "  </tbody>\n",
       "</table>\n",
       "</div>"
      ],
      "text/plain": [
       "            sequence  charge  human  \\\n",
       "3545     DGPLSTNVEAK       1      0   \n",
       "8456  FQYLLCVLSYDPTK       2      1   \n",
       "9924  GNLAAFVEQKPEAK       2      0   \n",
       "\n",
       "                                        identifications  \\\n",
       "3545  {\"perc_q_value\": 6.2057677e-05, \"run_names\": [...   \n",
       "8456  {\"perc_q_value\": 2.9439299e-06, \"run_names\": [...   \n",
       "9924  {\"perc_q_value\": 2.9439299e-06, \"run_names\": [...   \n",
       "\n",
       "                                            extractions  \\\n",
       "3545  [{\"run_name\": \"YHE114_11_Slot1-1_1_3043\", \"pro...   \n",
       "8456  [{\"run_name\": \"YHE114_11_Slot1-1_1_3043\", \"pro...   \n",
       "9924  [{\"run_name\": \"YHE114_11_Slot1-1_1_3043\", \"pro...   \n",
       "\n",
       "                                      identifications_d  id_perc_q_value  \\\n",
       "3545  {'perc_q_value': 6.2057677e-05, 'run_names': [...         0.000062   \n",
       "8456  {'perc_q_value': 2.9439299e-06, 'run_names': [...         0.000003   \n",
       "9924  {'perc_q_value': 2.9439299e-06, 'run_names': [...         0.000003   \n",
       "\n",
       "      id_count_all_runs  id_count_human_only_runs  \\\n",
       "3545                  2                         0   \n",
       "8456                 26                         5   \n",
       "9924                 11                         0   \n",
       "\n",
       "                                          extractions_l  ext_count_all_runs  \\\n",
       "3545  [{'run_name': 'YHE114_11_Slot1-1_1_3043', 'pro...                  19   \n",
       "8456  [{'run_name': 'YHE114_11_Slot1-1_1_3043', 'pro...                  31   \n",
       "9924  [{'run_name': 'YHE114_11_Slot1-1_1_3043', 'pro...                  25   \n",
       "\n",
       "      ext_count_human_only_runs  \n",
       "3545                          8  \n",
       "8456                         10  \n",
       "9924                          4  "
      ]
     },
     "execution_count": 12,
     "metadata": {},
     "output_type": "execute_result"
    }
   ],
   "source": [
    "results_df.sample(n=3)"
   ]
  },
  {
   "cell_type": "code",
   "execution_count": 13,
   "metadata": {},
   "outputs": [],
   "source": [
    "# remove the peptides that were not identified in the human-only runs\n",
    "human_id_df = results_df[(results_df.id_count_human_only_runs > 0)]"
   ]
  },
  {
   "cell_type": "code",
   "execution_count": 18,
   "metadata": {},
   "outputs": [
    {
     "data": {
      "text/plain": [
       "17751"
      ]
     },
     "execution_count": 18,
     "metadata": {},
     "output_type": "execute_result"
    }
   ],
   "source": [
    "len(human_id_df)"
   ]
  },
  {
   "cell_type": "code",
   "execution_count": 19,
   "metadata": {},
   "outputs": [
    {
     "data": {
      "image/png": "[encoded data removed]",
      "text/plain": [
       "<Figure size 1080x576 with 1 Axes>"
      ]
     },
     "metadata": {
      "needs_background": "light"
     },
     "output_type": "display_data"
    }
   ],
   "source": [
    "f, ax1 = plt.subplots()\n",
    "f.set_figheight(8)\n",
    "f.set_figwidth(15)\n",
    "\n",
    "plt.margins(0.06)\n",
    "plt.suptitle('Distribution of sequence extractions in the HeLa-only runs for TFD_E')\n",
    "plt.title('total {} modified peptide sequences'.format(len(human_id_df)))\n",
    "\n",
    "counts_human = np.bincount(human_id_df[human_id_df.human == True].ext_count_human_only_runs)\n",
    "counts_other = np.bincount(human_id_df[human_id_df.human == False].ext_count_human_only_runs)\n",
    "\n",
    "ax1.bar(range(11), counts_human, bottom=counts_other, width=0.8, align='center')\n",
    "ax1.bar(range(11), counts_other, width=0.8, align='center')\n",
    "\n",
    "plt.xlabel('number of files in which a modified sequence-charge was extracted')\n",
    "plt.ylabel('frequency')\n",
    "ax1.set(xticks=range(0,11), xlim=[-1, 11])\n",
    "# plt.ylim((0,20000))\n",
    "\n",
    "plt.show()"
   ]
  },
  {
   "cell_type": "code",
   "execution_count": 17,
   "metadata": {},
   "outputs": [
    {
     "data": {
      "text/plain": [
       "0.6333405234397469"
      ]
     },
     "execution_count": 17,
     "metadata": {},
     "output_type": "execute_result"
    }
   ],
   "source": [
    "len(results_df[(results_df.id_count_human_only_runs > 0) & (results_df.ext_count_human_only_runs > 0)]) / len(results_df[(results_df.ext_count_human_only_runs > 0)])"
   ]
  },
  {
   "cell_type": "code",
   "execution_count": 34,
   "metadata": {},
   "outputs": [
    {
     "data": {
      "text/plain": [
       "8.031096839614671"
      ]
     },
     "execution_count": 34,
     "metadata": {},
     "output_type": "execute_result"
    }
   ],
   "source": [
    "# missing values\n",
    "(1.0 - (human_id_df.ext_count_human_only_runs.sum() / (len(human_id_df) * 10))) * 100"
   ]
  },
  {
   "cell_type": "code",
   "execution_count": 35,
   "metadata": {},
   "outputs": [
    {
     "data": {
      "text/plain": [
       "1.7238465438566841"
      ]
     },
     "execution_count": 35,
     "metadata": {},
     "output_type": "execute_result"
    }
   ],
   "source": [
    "# false discovery rate\n",
    "len(human_id_df[human_id_df.human == False]) / len(human_id_df) * 100"
   ]
  },
  {
   "cell_type": "code",
   "execution_count": null,
   "metadata": {},
   "outputs": [],
   "source": []
  }
 ],
 "metadata": {
  "kernelspec": {
   "display_name": "Python 3",
   "language": "python",
   "name": "python3"
  },
  "language_info": {
   "codemirror_mode": {
    "name": "ipython",
    "version": 3
   },
   "file_extension": ".py",
   "mimetype": "text/x-python",
   "name": "python",
   "nbconvert_exporter": "python",
   "pygments_lexer": "ipython3",
   "version": "3.6.8"
  }
 },
 "nbformat": 4,
 "nbformat_minor": 2
}
