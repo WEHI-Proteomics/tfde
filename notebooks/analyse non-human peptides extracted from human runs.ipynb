{
 "cells": [
  {
   "cell_type": "code",
   "execution_count": 1,
   "metadata": {},
   "outputs": [],
   "source": [
    "import pandas as pd\n",
    "import numpy as np\n",
    "import sqlite3\n",
    "import json\n",
    "import matplotlib.pyplot as plt"
   ]
  },
  {
   "cell_type": "code",
   "execution_count": 36,
   "metadata": {},
   "outputs": [],
   "source": [
    "EXPERIMENT_DIR = '/Users/darylwilding-mcbride/Downloads/experiments/YHE-R'\n",
    "RESULTS_DB_NAME = '{}/summarised-results/results.sqlite'.format(EXPERIMENT_DIR)\n",
    "db_conn = sqlite3.connect(RESULTS_DB_NAME)\n",
    "results_df = pd.read_sql_query(\"select * from sequences\", db_conn)\n",
    "db_conn.close()"
   ]
  },
  {
   "cell_type": "code",
   "execution_count": 37,
   "metadata": {},
   "outputs": [
    {
     "data": {
      "text/plain": [
       "29553"
      ]
     },
     "execution_count": 37,
     "metadata": {},
     "output_type": "execute_result"
    }
   ],
   "source": [
    "len(results_df)"
   ]
  },
  {
   "cell_type": "code",
   "execution_count": 38,
   "metadata": {},
   "outputs": [
    {
     "data": {
      "text/html": [
       "<div>\n",
       "<style scoped>\n",
       "    .dataframe tbody tr th:only-of-type {\n",
       "        vertical-align: middle;\n",
       "    }\n",
       "\n",
       "    .dataframe tbody tr th {\n",
       "        vertical-align: top;\n",
       "    }\n",
       "\n",
       "    .dataframe thead th {\n",
       "        text-align: right;\n",
       "    }\n",
       "</style>\n",
       "<table border=\"1\" class=\"dataframe\">\n",
       "  <thead>\n",
       "    <tr style=\"text-align: right;\">\n",
       "      <th></th>\n",
       "      <th>sequence</th>\n",
       "      <th>charge</th>\n",
       "      <th>human</th>\n",
       "      <th>identifications</th>\n",
       "      <th>extractions</th>\n",
       "    </tr>\n",
       "  </thead>\n",
       "  <tbody>\n",
       "    <tr>\n",
       "      <th>13832</th>\n",
       "      <td>LALHSGMDYAIMTGGDVAPMGR</td>\n",
       "      <td>2</td>\n",
       "      <td>1</td>\n",
       "      <td>{\"perc_q_value\": 2.9439299e-06, \"run_names\": [...</td>\n",
       "      <td>[{\"run_name\": \"YHE114_11_Slot1-1_1_3043\", \"pro...</td>\n",
       "    </tr>\n",
       "    <tr>\n",
       "      <th>17982</th>\n",
       "      <td>NATGALLNMTHSEENRK</td>\n",
       "      <td>2</td>\n",
       "      <td>0</td>\n",
       "      <td>{\"perc_q_value\": 2.9439299e-06, \"run_names\": [...</td>\n",
       "      <td>[{\"run_name\": \"YHE114_04_Slot1-1_1_3011\", \"pro...</td>\n",
       "    </tr>\n",
       "    <tr>\n",
       "      <th>24440</th>\n",
       "      <td>TFRPAAMLIER</td>\n",
       "      <td>2</td>\n",
       "      <td>1</td>\n",
       "      <td>{\"perc_q_value\": 0.005894769100000001, \"run_na...</td>\n",
       "      <td>[{\"run_name\": \"YHE114_11_Slot1-1_1_3043\", \"pro...</td>\n",
       "    </tr>\n",
       "    <tr>\n",
       "      <th>9414</th>\n",
       "      <td>GGILAIASLIGVEGGNATR</td>\n",
       "      <td>2</td>\n",
       "      <td>1</td>\n",
       "      <td>{\"perc_q_value\": 2.9439299e-06, \"run_names\": [...</td>\n",
       "      <td>[{\"run_name\": \"YHE114_11_Slot1-1_1_3043\", \"pro...</td>\n",
       "    </tr>\n",
       "    <tr>\n",
       "      <th>9202</th>\n",
       "      <td>GEPEPMEVEEGELEIVPVR</td>\n",
       "      <td>2</td>\n",
       "      <td>1</td>\n",
       "      <td>{\"perc_q_value\": 0.0009560662699999999, \"run_n...</td>\n",
       "      <td>[{\"run_name\": \"YHE114_11_Slot1-1_1_3043\", \"pro...</td>\n",
       "    </tr>\n",
       "  </tbody>\n",
       "</table>\n",
       "</div>"
      ],
      "text/plain": [
       "                     sequence  charge  human  \\\n",
       "13832  LALHSGMDYAIMTGGDVAPMGR       2      1   \n",
       "17982       NATGALLNMTHSEENRK       2      0   \n",
       "24440             TFRPAAMLIER       2      1   \n",
       "9414      GGILAIASLIGVEGGNATR       2      1   \n",
       "9202      GEPEPMEVEEGELEIVPVR       2      1   \n",
       "\n",
       "                                         identifications  \\\n",
       "13832  {\"perc_q_value\": 2.9439299e-06, \"run_names\": [...   \n",
       "17982  {\"perc_q_value\": 2.9439299e-06, \"run_names\": [...   \n",
       "24440  {\"perc_q_value\": 0.005894769100000001, \"run_na...   \n",
       "9414   {\"perc_q_value\": 2.9439299e-06, \"run_names\": [...   \n",
       "9202   {\"perc_q_value\": 0.0009560662699999999, \"run_n...   \n",
       "\n",
       "                                             extractions  \n",
       "13832  [{\"run_name\": \"YHE114_11_Slot1-1_1_3043\", \"pro...  \n",
       "17982  [{\"run_name\": \"YHE114_04_Slot1-1_1_3011\", \"pro...  \n",
       "24440  [{\"run_name\": \"YHE114_11_Slot1-1_1_3043\", \"pro...  \n",
       "9414   [{\"run_name\": \"YHE114_11_Slot1-1_1_3043\", \"pro...  \n",
       "9202   [{\"run_name\": \"YHE114_11_Slot1-1_1_3043\", \"pro...  "
      ]
     },
     "execution_count": 38,
     "metadata": {},
     "output_type": "execute_result"
    }
   ],
   "source": [
    "results_df.sample(n=5)"
   ]
  },
  {
   "cell_type": "code",
   "execution_count": 39,
   "metadata": {},
   "outputs": [],
   "source": [
    "results_df['identifications_d'] = results_df.apply(lambda row: json.loads(row.identifications), axis=1)\n",
    "results_df['id_perc_q_value'] = results_df.apply(lambda row: row.identifications_d['perc_q_value'], axis=1)\n",
    "results_df['id_count_all_runs'] = results_df.apply(lambda row: len(row.identifications_d['run_names']), axis=1)\n",
    "results_df['id_count_human_only_runs'] = results_df.apply(lambda row: sum('YHE010' in s for s in row.identifications_d['run_names']), axis=1)"
   ]
  },
  {
   "cell_type": "code",
   "execution_count": 40,
   "metadata": {},
   "outputs": [
    {
     "data": {
      "text/html": [
       "<div>\n",
       "<style scoped>\n",
       "    .dataframe tbody tr th:only-of-type {\n",
       "        vertical-align: middle;\n",
       "    }\n",
       "\n",
       "    .dataframe tbody tr th {\n",
       "        vertical-align: top;\n",
       "    }\n",
       "\n",
       "    .dataframe thead th {\n",
       "        text-align: right;\n",
       "    }\n",
       "</style>\n",
       "<table border=\"1\" class=\"dataframe\">\n",
       "  <thead>\n",
       "    <tr style=\"text-align: right;\">\n",
       "      <th></th>\n",
       "      <th>sequence</th>\n",
       "      <th>charge</th>\n",
       "      <th>human</th>\n",
       "      <th>identifications</th>\n",
       "      <th>extractions</th>\n",
       "      <th>identifications_d</th>\n",
       "      <th>id_perc_q_value</th>\n",
       "      <th>id_count_all_runs</th>\n",
       "      <th>id_count_human_only_runs</th>\n",
       "    </tr>\n",
       "  </thead>\n",
       "  <tbody>\n",
       "    <tr>\n",
       "      <th>16066</th>\n",
       "      <td>LQGEVVAFDYQSK</td>\n",
       "      <td>2</td>\n",
       "      <td>1</td>\n",
       "      <td>{\"perc_q_value\": 2.9439299e-06, \"run_names\": [...</td>\n",
       "      <td>[{\"run_name\": \"YHE114_11_Slot1-1_1_3043\", \"pro...</td>\n",
       "      <td>{'perc_q_value': 2.9439299e-06, 'run_names': [...</td>\n",
       "      <td>0.000003</td>\n",
       "      <td>15</td>\n",
       "      <td>7</td>\n",
       "    </tr>\n",
       "    <tr>\n",
       "      <th>8692</th>\n",
       "      <td>FVQCPDGELQK</td>\n",
       "      <td>2</td>\n",
       "      <td>1</td>\n",
       "      <td>{\"perc_q_value\": 2.9439299e-06, \"run_names\": [...</td>\n",
       "      <td>[{\"run_name\": \"YHE114_11_Slot1-1_1_3043\", \"pro...</td>\n",
       "      <td>{'perc_q_value': 2.9439299e-06, 'run_names': [...</td>\n",
       "      <td>0.000003</td>\n",
       "      <td>1</td>\n",
       "      <td>0</td>\n",
       "    </tr>\n",
       "    <tr>\n",
       "      <th>9155</th>\n",
       "      <td>GEGILPDGGEYKPPSDSLK</td>\n",
       "      <td>2</td>\n",
       "      <td>1</td>\n",
       "      <td>{\"perc_q_value\": 0.009097390300000001, \"run_na...</td>\n",
       "      <td>[{\"run_name\": \"YHE114_11_Slot1-1_1_3043\", \"pro...</td>\n",
       "      <td>{'perc_q_value': 0.009097390300000001, 'run_na...</td>\n",
       "      <td>0.009097</td>\n",
       "      <td>1</td>\n",
       "      <td>1</td>\n",
       "    </tr>\n",
       "  </tbody>\n",
       "</table>\n",
       "</div>"
      ],
      "text/plain": [
       "                  sequence  charge  human  \\\n",
       "16066        LQGEVVAFDYQSK       2      1   \n",
       "8692           FVQCPDGELQK       2      1   \n",
       "9155   GEGILPDGGEYKPPSDSLK       2      1   \n",
       "\n",
       "                                         identifications  \\\n",
       "16066  {\"perc_q_value\": 2.9439299e-06, \"run_names\": [...   \n",
       "8692   {\"perc_q_value\": 2.9439299e-06, \"run_names\": [...   \n",
       "9155   {\"perc_q_value\": 0.009097390300000001, \"run_na...   \n",
       "\n",
       "                                             extractions  \\\n",
       "16066  [{\"run_name\": \"YHE114_11_Slot1-1_1_3043\", \"pro...   \n",
       "8692   [{\"run_name\": \"YHE114_11_Slot1-1_1_3043\", \"pro...   \n",
       "9155   [{\"run_name\": \"YHE114_11_Slot1-1_1_3043\", \"pro...   \n",
       "\n",
       "                                       identifications_d  id_perc_q_value  \\\n",
       "16066  {'perc_q_value': 2.9439299e-06, 'run_names': [...         0.000003   \n",
       "8692   {'perc_q_value': 2.9439299e-06, 'run_names': [...         0.000003   \n",
       "9155   {'perc_q_value': 0.009097390300000001, 'run_na...         0.009097   \n",
       "\n",
       "       id_count_all_runs  id_count_human_only_runs  \n",
       "16066                 15                         7  \n",
       "8692                   1                         0  \n",
       "9155                   1                         1  "
      ]
     },
     "execution_count": 40,
     "metadata": {},
     "output_type": "execute_result"
    }
   ],
   "source": [
    "results_df.sample(n=3)"
   ]
  },
  {
   "cell_type": "code",
   "execution_count": 42,
   "metadata": {},
   "outputs": [
    {
     "data": {
      "text/plain": [
       "24193"
      ]
     },
     "execution_count": 42,
     "metadata": {},
     "output_type": "execute_result"
    }
   ],
   "source": [
    "# number of human peptides identified\n",
    "len(results_df[results_df.human == True])"
   ]
  },
  {
   "cell_type": "code",
   "execution_count": 44,
   "metadata": {},
   "outputs": [
    {
     "data": {
      "text/plain": [
       "292"
      ]
     },
     "execution_count": 44,
     "metadata": {},
     "output_type": "execute_result"
    }
   ],
   "source": [
    "# number of human peptides that couldn't be extracted in any runs\n",
    "len(results_df[(results_df.human == True) & (results_df.extractions.isnull())])"
   ]
  },
  {
   "cell_type": "code",
   "execution_count": 45,
   "metadata": {},
   "outputs": [],
   "source": [
    "results_df = results_df[results_df.extractions.notnull()].copy()"
   ]
  },
  {
   "cell_type": "code",
   "execution_count": 46,
   "metadata": {},
   "outputs": [],
   "source": [
    "results_df['extractions_l'] = results_df.apply(lambda row: json.loads(row.extractions), axis=1)"
   ]
  },
  {
   "cell_type": "code",
   "execution_count": 47,
   "metadata": {},
   "outputs": [
    {
     "data": {
      "text/html": [
       "<div>\n",
       "<style scoped>\n",
       "    .dataframe tbody tr th:only-of-type {\n",
       "        vertical-align: middle;\n",
       "    }\n",
       "\n",
       "    .dataframe tbody tr th {\n",
       "        vertical-align: top;\n",
       "    }\n",
       "\n",
       "    .dataframe thead th {\n",
       "        text-align: right;\n",
       "    }\n",
       "</style>\n",
       "<table border=\"1\" class=\"dataframe\">\n",
       "  <thead>\n",
       "    <tr style=\"text-align: right;\">\n",
       "      <th></th>\n",
       "      <th>sequence</th>\n",
       "      <th>charge</th>\n",
       "      <th>human</th>\n",
       "      <th>identifications</th>\n",
       "      <th>extractions</th>\n",
       "      <th>identifications_d</th>\n",
       "      <th>id_perc_q_value</th>\n",
       "      <th>id_count_all_runs</th>\n",
       "      <th>id_count_human_only_runs</th>\n",
       "      <th>extractions_l</th>\n",
       "    </tr>\n",
       "  </thead>\n",
       "  <tbody>\n",
       "    <tr>\n",
       "      <th>10244</th>\n",
       "      <td>GSIFVVFDSIESAK</td>\n",
       "      <td>2</td>\n",
       "      <td>1</td>\n",
       "      <td>{\"perc_q_value\": 2.9439299e-06, \"run_names\": [...</td>\n",
       "      <td>[{\"run_name\": \"YHE114_11_Slot1-1_1_3043\", \"pro...</td>\n",
       "      <td>{'perc_q_value': 2.9439299e-06, 'run_names': [...</td>\n",
       "      <td>0.000003</td>\n",
       "      <td>31</td>\n",
       "      <td>10</td>\n",
       "      <td>[{'run_name': 'YHE114_11_Slot1-1_1_3043', 'pro...</td>\n",
       "    </tr>\n",
       "    <tr>\n",
       "      <th>8664</th>\n",
       "      <td>FVINYDYPNSSEDYIHR</td>\n",
       "      <td>2</td>\n",
       "      <td>1</td>\n",
       "      <td>{\"perc_q_value\": 2.9439299e-06, \"run_names\": [...</td>\n",
       "      <td>[{\"run_name\": \"YHE114_11_Slot1-1_1_3043\", \"pro...</td>\n",
       "      <td>{'perc_q_value': 2.9439299e-06, 'run_names': [...</td>\n",
       "      <td>0.000003</td>\n",
       "      <td>28</td>\n",
       "      <td>9</td>\n",
       "      <td>[{'run_name': 'YHE114_11_Slot1-1_1_3043', 'pro...</td>\n",
       "    </tr>\n",
       "    <tr>\n",
       "      <th>17825</th>\n",
       "      <td>M[15.9949]LPVDEFLPVMFDK</td>\n",
       "      <td>2</td>\n",
       "      <td>1</td>\n",
       "      <td>{\"perc_q_value\": 0.00043070090999999995, \"run_...</td>\n",
       "      <td>[{\"run_name\": \"YHE114_11_Slot1-1_1_3043\", \"pro...</td>\n",
       "      <td>{'perc_q_value': 0.00043070090999999995, 'run_...</td>\n",
       "      <td>0.000431</td>\n",
       "      <td>2</td>\n",
       "      <td>2</td>\n",
       "      <td>[{'run_name': 'YHE114_11_Slot1-1_1_3043', 'pro...</td>\n",
       "    </tr>\n",
       "    <tr>\n",
       "      <th>25221</th>\n",
       "      <td>TPIGTPAMNMATPTPGHIMSMTPEQLQAWR</td>\n",
       "      <td>3</td>\n",
       "      <td>1</td>\n",
       "      <td>{\"perc_q_value\": 2.9439299e-06, \"run_names\": [...</td>\n",
       "      <td>[{\"run_name\": \"YHE114_11_Slot1-1_1_3043\", \"pro...</td>\n",
       "      <td>{'perc_q_value': 2.9439299e-06, 'run_names': [...</td>\n",
       "      <td>0.000003</td>\n",
       "      <td>26</td>\n",
       "      <td>5</td>\n",
       "      <td>[{'run_name': 'YHE114_11_Slot1-1_1_3043', 'pro...</td>\n",
       "    </tr>\n",
       "    <tr>\n",
       "      <th>22859</th>\n",
       "      <td>SLSAVSQLYQPENHLGLHQAEPAEIK</td>\n",
       "      <td>3</td>\n",
       "      <td>0</td>\n",
       "      <td>{\"perc_q_value\": 2.9439299e-06, \"run_names\": [...</td>\n",
       "      <td>[{\"run_name\": \"YHE114_11_Slot1-1_1_3043\", \"pro...</td>\n",
       "      <td>{'perc_q_value': 2.9439299e-06, 'run_names': [...</td>\n",
       "      <td>0.000003</td>\n",
       "      <td>5</td>\n",
       "      <td>0</td>\n",
       "      <td>[{'run_name': 'YHE114_11_Slot1-1_1_3043', 'pro...</td>\n",
       "    </tr>\n",
       "  </tbody>\n",
       "</table>\n",
       "</div>"
      ],
      "text/plain": [
       "                             sequence  charge  human  \\\n",
       "10244                  GSIFVVFDSIESAK       2      1   \n",
       "8664                FVINYDYPNSSEDYIHR       2      1   \n",
       "17825         M[15.9949]LPVDEFLPVMFDK       2      1   \n",
       "25221  TPIGTPAMNMATPTPGHIMSMTPEQLQAWR       3      1   \n",
       "22859      SLSAVSQLYQPENHLGLHQAEPAEIK       3      0   \n",
       "\n",
       "                                         identifications  \\\n",
       "10244  {\"perc_q_value\": 2.9439299e-06, \"run_names\": [...   \n",
       "8664   {\"perc_q_value\": 2.9439299e-06, \"run_names\": [...   \n",
       "17825  {\"perc_q_value\": 0.00043070090999999995, \"run_...   \n",
       "25221  {\"perc_q_value\": 2.9439299e-06, \"run_names\": [...   \n",
       "22859  {\"perc_q_value\": 2.9439299e-06, \"run_names\": [...   \n",
       "\n",
       "                                             extractions  \\\n",
       "10244  [{\"run_name\": \"YHE114_11_Slot1-1_1_3043\", \"pro...   \n",
       "8664   [{\"run_name\": \"YHE114_11_Slot1-1_1_3043\", \"pro...   \n",
       "17825  [{\"run_name\": \"YHE114_11_Slot1-1_1_3043\", \"pro...   \n",
       "25221  [{\"run_name\": \"YHE114_11_Slot1-1_1_3043\", \"pro...   \n",
       "22859  [{\"run_name\": \"YHE114_11_Slot1-1_1_3043\", \"pro...   \n",
       "\n",
       "                                       identifications_d  id_perc_q_value  \\\n",
       "10244  {'perc_q_value': 2.9439299e-06, 'run_names': [...         0.000003   \n",
       "8664   {'perc_q_value': 2.9439299e-06, 'run_names': [...         0.000003   \n",
       "17825  {'perc_q_value': 0.00043070090999999995, 'run_...         0.000431   \n",
       "25221  {'perc_q_value': 2.9439299e-06, 'run_names': [...         0.000003   \n",
       "22859  {'perc_q_value': 2.9439299e-06, 'run_names': [...         0.000003   \n",
       "\n",
       "       id_count_all_runs  id_count_human_only_runs  \\\n",
       "10244                 31                        10   \n",
       "8664                  28                         9   \n",
       "17825                  2                         2   \n",
       "25221                 26                         5   \n",
       "22859                  5                         0   \n",
       "\n",
       "                                           extractions_l  \n",
       "10244  [{'run_name': 'YHE114_11_Slot1-1_1_3043', 'pro...  \n",
       "8664   [{'run_name': 'YHE114_11_Slot1-1_1_3043', 'pro...  \n",
       "17825  [{'run_name': 'YHE114_11_Slot1-1_1_3043', 'pro...  \n",
       "25221  [{'run_name': 'YHE114_11_Slot1-1_1_3043', 'pro...  \n",
       "22859  [{'run_name': 'YHE114_11_Slot1-1_1_3043', 'pro...  "
      ]
     },
     "execution_count": 47,
     "metadata": {},
     "output_type": "execute_result"
    }
   ],
   "source": [
    "results_df.sample(n=5)"
   ]
  },
  {
   "cell_type": "code",
   "execution_count": 49,
   "metadata": {},
   "outputs": [],
   "source": [
    "results_df['ext_count_all_runs'] = results_df.apply(lambda row: len(row.extractions_l), axis=1)\n",
    "results_df['ext_count_human_only_runs'] = results_df.apply(lambda row: sum('YHE010' in s['run_name'] for s in row.extractions_l), axis=1)"
   ]
  },
  {
   "cell_type": "code",
   "execution_count": 50,
   "metadata": {},
   "outputs": [
    {
     "data": {
      "text/html": [
       "<div>\n",
       "<style scoped>\n",
       "    .dataframe tbody tr th:only-of-type {\n",
       "        vertical-align: middle;\n",
       "    }\n",
       "\n",
       "    .dataframe tbody tr th {\n",
       "        vertical-align: top;\n",
       "    }\n",
       "\n",
       "    .dataframe thead th {\n",
       "        text-align: right;\n",
       "    }\n",
       "</style>\n",
       "<table border=\"1\" class=\"dataframe\">\n",
       "  <thead>\n",
       "    <tr style=\"text-align: right;\">\n",
       "      <th></th>\n",
       "      <th>sequence</th>\n",
       "      <th>charge</th>\n",
       "      <th>human</th>\n",
       "      <th>identifications</th>\n",
       "      <th>extractions</th>\n",
       "      <th>identifications_d</th>\n",
       "      <th>id_perc_q_value</th>\n",
       "      <th>id_count_all_runs</th>\n",
       "      <th>id_count_human_only_runs</th>\n",
       "      <th>extractions_l</th>\n",
       "      <th>ext_count_all_runs</th>\n",
       "      <th>ext_count_human_only_runs</th>\n",
       "    </tr>\n",
       "  </thead>\n",
       "  <tbody>\n",
       "    <tr>\n",
       "      <th>25881</th>\n",
       "      <td>TYGLVGYM[15.9949]R</td>\n",
       "      <td>2</td>\n",
       "      <td>1</td>\n",
       "      <td>{\"perc_q_value\": 0.009095566999999999, \"run_na...</td>\n",
       "      <td>[{\"run_name\": \"YHE114_11_Slot1-1_1_3043\", \"pro...</td>\n",
       "      <td>{'perc_q_value': 0.009095566999999999, 'run_na...</td>\n",
       "      <td>0.009096</td>\n",
       "      <td>1</td>\n",
       "      <td>1</td>\n",
       "      <td>[{'run_name': 'YHE114_11_Slot1-1_1_3043', 'pro...</td>\n",
       "      <td>29</td>\n",
       "      <td>9</td>\n",
       "    </tr>\n",
       "    <tr>\n",
       "      <th>523</th>\n",
       "      <td>AEPMQWASLELPAAK</td>\n",
       "      <td>2</td>\n",
       "      <td>1</td>\n",
       "      <td>{\"perc_q_value\": 2.9439299e-06, \"run_names\": [...</td>\n",
       "      <td>[{\"run_name\": \"YHE114_11_Slot1-1_1_3043\", \"pro...</td>\n",
       "      <td>{'perc_q_value': 2.9439299e-06, 'run_names': [...</td>\n",
       "      <td>0.000003</td>\n",
       "      <td>22</td>\n",
       "      <td>9</td>\n",
       "      <td>[{'run_name': 'YHE114_11_Slot1-1_1_3043', 'pro...</td>\n",
       "      <td>31</td>\n",
       "      <td>10</td>\n",
       "    </tr>\n",
       "    <tr>\n",
       "      <th>28281</th>\n",
       "      <td>WLSCTATPQIEEEVSLTQK</td>\n",
       "      <td>2</td>\n",
       "      <td>1</td>\n",
       "      <td>{\"perc_q_value\": 2.9439299e-06, \"run_names\": [...</td>\n",
       "      <td>[{\"run_name\": \"YHE114_11_Slot1-1_1_3043\", \"pro...</td>\n",
       "      <td>{'perc_q_value': 2.9439299e-06, 'run_names': [...</td>\n",
       "      <td>0.000003</td>\n",
       "      <td>4</td>\n",
       "      <td>0</td>\n",
       "      <td>[{'run_name': 'YHE114_11_Slot1-1_1_3043', 'pro...</td>\n",
       "      <td>31</td>\n",
       "      <td>10</td>\n",
       "    </tr>\n",
       "  </tbody>\n",
       "</table>\n",
       "</div>"
      ],
      "text/plain": [
       "                  sequence  charge  human  \\\n",
       "25881   TYGLVGYM[15.9949]R       2      1   \n",
       "523        AEPMQWASLELPAAK       2      1   \n",
       "28281  WLSCTATPQIEEEVSLTQK       2      1   \n",
       "\n",
       "                                         identifications  \\\n",
       "25881  {\"perc_q_value\": 0.009095566999999999, \"run_na...   \n",
       "523    {\"perc_q_value\": 2.9439299e-06, \"run_names\": [...   \n",
       "28281  {\"perc_q_value\": 2.9439299e-06, \"run_names\": [...   \n",
       "\n",
       "                                             extractions  \\\n",
       "25881  [{\"run_name\": \"YHE114_11_Slot1-1_1_3043\", \"pro...   \n",
       "523    [{\"run_name\": \"YHE114_11_Slot1-1_1_3043\", \"pro...   \n",
       "28281  [{\"run_name\": \"YHE114_11_Slot1-1_1_3043\", \"pro...   \n",
       "\n",
       "                                       identifications_d  id_perc_q_value  \\\n",
       "25881  {'perc_q_value': 0.009095566999999999, 'run_na...         0.009096   \n",
       "523    {'perc_q_value': 2.9439299e-06, 'run_names': [...         0.000003   \n",
       "28281  {'perc_q_value': 2.9439299e-06, 'run_names': [...         0.000003   \n",
       "\n",
       "       id_count_all_runs  id_count_human_only_runs  \\\n",
       "25881                  1                         1   \n",
       "523                   22                         9   \n",
       "28281                  4                         0   \n",
       "\n",
       "                                           extractions_l  ext_count_all_runs  \\\n",
       "25881  [{'run_name': 'YHE114_11_Slot1-1_1_3043', 'pro...                  29   \n",
       "523    [{'run_name': 'YHE114_11_Slot1-1_1_3043', 'pro...                  31   \n",
       "28281  [{'run_name': 'YHE114_11_Slot1-1_1_3043', 'pro...                  31   \n",
       "\n",
       "       ext_count_human_only_runs  \n",
       "25881                          9  \n",
       "523                           10  \n",
       "28281                         10  "
      ]
     },
     "execution_count": 50,
     "metadata": {},
     "output_type": "execute_result"
    }
   ],
   "source": [
    "results_df.sample(n=3)"
   ]
  },
  {
   "cell_type": "code",
   "execution_count": 51,
   "metadata": {},
   "outputs": [
    {
     "data": {
      "text/plain": [
       "23901"
      ]
     },
     "execution_count": 51,
     "metadata": {},
     "output_type": "execute_result"
    }
   ],
   "source": [
    "len(results_df[results_df.human == True])"
   ]
  },
  {
   "cell_type": "code",
   "execution_count": 52,
   "metadata": {},
   "outputs": [],
   "source": [
    "# remove the peptides that were not identified in the human-only runs\n",
    "human_id_df = results_df[(results_df.id_count_human_only_runs > 0)]"
   ]
  },
  {
   "cell_type": "code",
   "execution_count": 53,
   "metadata": {},
   "outputs": [
    {
     "data": {
      "text/plain": [
       "17751"
      ]
     },
     "execution_count": 53,
     "metadata": {},
     "output_type": "execute_result"
    }
   ],
   "source": [
    "len(human_id_df)"
   ]
  },
  {
   "cell_type": "code",
   "execution_count": 54,
   "metadata": {},
   "outputs": [
    {
     "data": {
      "text/plain": [
       "134"
      ]
     },
     "execution_count": 54,
     "metadata": {},
     "output_type": "execute_result"
    }
   ],
   "source": [
    "# number of peptides identified in the human-only runs but not extracted\n",
    "len(results_df[(results_df.id_count_human_only_runs > 0) & (results_df.ext_count_human_only_runs == 0)])"
   ]
  },
  {
   "cell_type": "code",
   "execution_count": 56,
   "metadata": {},
   "outputs": [
    {
     "data": {
      "image/png": "[encoded data removed]",
      "text/plain": [
       "<Figure size 1080x576 with 1 Axes>"
      ]
     },
     "metadata": {
      "needs_background": "light"
     },
     "output_type": "display_data"
    }
   ],
   "source": [
    "f, ax1 = plt.subplots()\n",
    "f.set_figheight(8)\n",
    "f.set_figwidth(15)\n",
    "\n",
    "plt.margins(0.06)\n",
    "plt.suptitle('Distribution of sequence extractions in the HeLa-only runs for TFD_E')\n",
    "plt.title('{} modified peptide sequences were identified in the HeLa-only runs'.format(len(human_id_df)))\n",
    "\n",
    "counts_human = np.bincount(human_id_df[human_id_df.human == True].ext_count_human_only_runs)\n",
    "counts_other = np.bincount(human_id_df[human_id_df.human == False].ext_count_human_only_runs)\n",
    "\n",
    "ax1.bar(range(11), counts_human, bottom=counts_other, width=0.8, align='center')\n",
    "ax1.bar(range(11), counts_other, width=0.8, align='center')\n",
    "\n",
    "plt.xlabel('number of files in which a modified sequence-charge was extracted')\n",
    "plt.ylabel('frequency')\n",
    "ax1.set(xticks=range(0,11), xlim=[-1, 11])\n",
    "# plt.ylim((0,20000))\n",
    "\n",
    "plt.show()"
   ]
  },
  {
   "cell_type": "code",
   "execution_count": 57,
   "metadata": {},
   "outputs": [
    {
     "data": {
      "text/plain": [
       "0.6333405234397469"
      ]
     },
     "execution_count": 57,
     "metadata": {},
     "output_type": "execute_result"
    }
   ],
   "source": [
    "len(results_df[(results_df.id_count_human_only_runs > 0) & (results_df.ext_count_human_only_runs > 0)]) / len(results_df[(results_df.ext_count_human_only_runs > 0)])"
   ]
  },
  {
   "cell_type": "code",
   "execution_count": 58,
   "metadata": {},
   "outputs": [
    {
     "data": {
      "text/plain": [
       "8.031096839614671"
      ]
     },
     "execution_count": 58,
     "metadata": {},
     "output_type": "execute_result"
    }
   ],
   "source": [
    "# missing values\n",
    "(1.0 - (human_id_df.ext_count_human_only_runs.sum() / (len(human_id_df) * 10))) * 100"
   ]
  },
  {
   "cell_type": "code",
   "execution_count": 59,
   "metadata": {},
   "outputs": [
    {
     "data": {
      "text/plain": [
       "1.7238465438566841"
      ]
     },
     "execution_count": 59,
     "metadata": {},
     "output_type": "execute_result"
    }
   ],
   "source": [
    "# false discovery rate\n",
    "len(human_id_df[human_id_df.human == False]) / len(human_id_df) * 100"
   ]
  },
  {
   "cell_type": "code",
   "execution_count": null,
   "metadata": {},
   "outputs": [],
   "source": []
  }
 ],
 "metadata": {
  "kernelspec": {
   "display_name": "Python 3",
   "language": "python",
   "name": "python3"
  },
  "language_info": {
   "codemirror_mode": {
    "name": "ipython",
    "version": 3
   },
   "file_extension": ".py",
   "mimetype": "text/x-python",
   "name": "python",
   "nbconvert_exporter": "python",
   "pygments_lexer": "ipython3",
   "version": "3.6.8"
  }
 },
 "nbformat": 4,
 "nbformat_minor": 2
}
