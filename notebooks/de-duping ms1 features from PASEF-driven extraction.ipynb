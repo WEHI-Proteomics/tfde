{
 "cells": [
  {
   "cell_type": "code",
   "execution_count": 68,
   "metadata": {},
   "outputs": [],
   "source": [
    "import sqlite3\n",
    "import pandas as pd\n",
    "import numpy as np\n",
    "import sys\n",
    "import matplotlib.pyplot as plt"
   ]
  },
  {
   "cell_type": "code",
   "execution_count": 69,
   "metadata": {},
   "outputs": [],
   "source": [
    "ms1_features_df = pd.read_csv('/Users/darylwilding-mcbride/Downloads/HeLa_20KInt-feature-characteristics.csv')"
   ]
  },
  {
   "cell_type": "code",
   "execution_count": 70,
   "metadata": {},
   "outputs": [
    {
     "data": {
      "text/plain": [
       "72970"
      ]
     },
     "execution_count": 70,
     "metadata": {},
     "output_type": "execute_result"
    }
   ],
   "source": [
    "len(ms1_features_df)"
   ]
  },
  {
   "cell_type": "code",
   "execution_count": 71,
   "metadata": {},
   "outputs": [],
   "source": [
    "# +/- these amounts\n",
    "MZ_TOLERANCE_PPM = 5\n",
    "MZ_TOLERANCE_PERCENT = MZ_TOLERANCE_PPM * 10**-4\n",
    "SCAN_TOLERANCE = 10\n",
    "RT_TOLERANCE = 0.1"
   ]
  },
  {
   "cell_type": "code",
   "execution_count": 72,
   "metadata": {},
   "outputs": [],
   "source": [
    "scratch_df = ms1_features_df.copy() # take a copy because we're going to delete stuff\n",
    "ms1_features_l = []\n",
    "while len(scratch_df) > 0:\n",
    "    # take the first row\n",
    "    row = scratch_df.iloc[0]\n",
    "    mz = row.monoisotopic_mz\n",
    "    scan = row.scan_apex\n",
    "    rt = row.rt_apex\n",
    "\n",
    "    # calculate the matching bounds\n",
    "    mz_ppm_tolerance = mz * MZ_TOLERANCE_PERCENT / 100\n",
    "    mz_lower = mz - mz_ppm_tolerance\n",
    "    mz_upper = mz + mz_ppm_tolerance\n",
    "    scan_lower = scan - SCAN_TOLERANCE\n",
    "    scan_upper = scan + SCAN_TOLERANCE\n",
    "    rt_lower = rt - RT_TOLERANCE\n",
    "    rt_upper = rt + RT_TOLERANCE\n",
    "    \n",
    "    # find the matches within these tolerances\n",
    "    matches_df = scratch_df[(scratch_df.monoisotopic_mz >= mz_lower) & (scratch_df.monoisotopic_mz <= mz_upper) & (scratch_df.scan_apex >= scan_lower) & (scratch_df.scan_apex <= scan_upper) & (scratch_df.rt_apex >= rt_lower) & (scratch_df.rt_apex <= rt_upper)]\n",
    "    peak_df = matches_df.loc[matches_df.intensity.idxmax()].copy()\n",
    "    peak_df['duplicates'] = len(matches_df)\n",
    "    \n",
    "    # add the most intense to the list\n",
    "    ms1_features_l.append(tuple(peak_df))\n",
    "\n",
    "    # remove the matches\n",
    "    scratch_df = scratch_df[~scratch_df.isin(matches_df)].dropna(how = 'all')\n"
   ]
  },
  {
   "cell_type": "code",
   "execution_count": 73,
   "metadata": {},
   "outputs": [
    {
     "data": {
      "text/plain": [
       "53910"
      ]
     },
     "execution_count": 73,
     "metadata": {},
     "output_type": "execute_result"
    }
   ],
   "source": [
    "len(ms1_features_l)"
   ]
  },
  {
   "cell_type": "code",
   "execution_count": 78,
   "metadata": {},
   "outputs": [
    {
     "name": "stdout",
     "output_type": "stream",
     "text": [
      "de-duping removed 19060 peaks\n"
     ]
    }
   ],
   "source": [
    "print(\"de-duping removed {} peaks\".format(len(ms1_features_df) - len(ms1_features_l)))"
   ]
  },
  {
   "cell_type": "code",
   "execution_count": 76,
   "metadata": {},
   "outputs": [],
   "source": [
    "ms1_peaks_df = pd.DataFrame(ms1_features_l, columns=['monoisotopic_mass', 'charge', 'monoisotopic_mz', 'intensity', 'scan_apex', 'scan_curve_fit', 'rt_apex', 'rt_curve_fit', 'precursor_id', 'duplicates'])"
   ]
  },
  {
   "cell_type": "code",
   "execution_count": 77,
   "metadata": {},
   "outputs": [],
   "source": [
    "ms1_peaks_df.to_csv('/Users/darylwilding-mcbride/Downloads/HeLa_20KInt-feature-characteristics-deduped.csv')"
   ]
  },
  {
   "cell_type": "code",
   "execution_count": null,
   "metadata": {},
   "outputs": [],
   "source": []
  }
 ],
 "metadata": {
  "kernelspec": {
   "display_name": "Python 3",
   "language": "python",
   "name": "python3"
  },
  "language_info": {
   "codemirror_mode": {
    "name": "ipython",
    "version": 3
   },
   "file_extension": ".py",
   "mimetype": "text/x-python",
   "name": "python",
   "nbconvert_exporter": "python",
   "pygments_lexer": "ipython3",
   "version": "3.6.7"
  }
 },
 "nbformat": 4,
 "nbformat_minor": 2
}
