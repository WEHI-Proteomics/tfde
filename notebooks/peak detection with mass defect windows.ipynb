{
 "cells": [
  {
   "cell_type": "code",
   "execution_count": 178,
   "metadata": {},
   "outputs": [],
   "source": [
    "import pandas as pd\n",
    "import numpy as np\n",
    "import sys\n",
    "import matplotlib.pyplot as plt\n",
    "from sys import getsizeof\n",
    "from numba import njit"
   ]
  },
  {
   "cell_type": "code",
   "execution_count": 229,
   "metadata": {},
   "outputs": [],
   "source": [
    "feature_id = 1\n",
    "mz_scaling_factor = 1000\n",
    "charge = 1\n",
    "DELTA_MZ = 1.003355  # Mass difference between Carbon-12 and Carbon-13 isotopes, in Da. For calculating the spacing between isotopic peaks.\n",
    "PROTON_MASS = 1.0073  # Mass of a proton in unified atomic mass units, or Da. For calculating the monoisotopic mass."
   ]
  },
  {
   "cell_type": "code",
   "execution_count": 254,
   "metadata": {},
   "outputs": [],
   "source": [
    "feature_raw_ms2_df = pd.read_pickle('/Users/darylwilding-mcbride/Downloads/feature-{}-ms2-raw-points.pkl'.format(feature_id))\n",
    "feature_raw_ms2_df.sort_values(by=['mz'], ascending=True, inplace=True)\n",
    "feature_raw_ms2_df['decharged_mass'] = (feature_raw_ms2_df.mz + PROTON_MASS) * charge"
   ]
  },
  {
   "cell_type": "code",
   "execution_count": 255,
   "metadata": {},
   "outputs": [
    {
     "data": {
      "text/html": [
       "<div>\n",
       "<style scoped>\n",
       "    .dataframe tbody tr th:only-of-type {\n",
       "        vertical-align: middle;\n",
       "    }\n",
       "\n",
       "    .dataframe tbody tr th {\n",
       "        vertical-align: top;\n",
       "    }\n",
       "\n",
       "    .dataframe thead th {\n",
       "        text-align: right;\n",
       "    }\n",
       "</style>\n",
       "<table border=\"1\" class=\"dataframe\">\n",
       "  <thead>\n",
       "    <tr style=\"text-align: right;\">\n",
       "      <th></th>\n",
       "      <th>frame_id</th>\n",
       "      <th>mz</th>\n",
       "      <th>intensity</th>\n",
       "      <th>decharged_mass</th>\n",
       "    </tr>\n",
       "  </thead>\n",
       "  <tbody>\n",
       "    <tr>\n",
       "      <th>0</th>\n",
       "      <td>27938</td>\n",
       "      <td>133.596214</td>\n",
       "      <td>9</td>\n",
       "      <td>134.603514</td>\n",
       "    </tr>\n",
       "    <tr>\n",
       "      <th>1</th>\n",
       "      <td>27938</td>\n",
       "      <td>180.467447</td>\n",
       "      <td>9</td>\n",
       "      <td>181.474747</td>\n",
       "    </tr>\n",
       "    <tr>\n",
       "      <th>2</th>\n",
       "      <td>27938</td>\n",
       "      <td>213.418260</td>\n",
       "      <td>9</td>\n",
       "      <td>214.425560</td>\n",
       "    </tr>\n",
       "    <tr>\n",
       "      <th>3</th>\n",
       "      <td>27938</td>\n",
       "      <td>266.156364</td>\n",
       "      <td>9</td>\n",
       "      <td>267.163664</td>\n",
       "    </tr>\n",
       "    <tr>\n",
       "      <th>4</th>\n",
       "      <td>27938</td>\n",
       "      <td>268.404245</td>\n",
       "      <td>9</td>\n",
       "      <td>269.411545</td>\n",
       "    </tr>\n",
       "  </tbody>\n",
       "</table>\n",
       "</div>"
      ],
      "text/plain": [
       "   frame_id          mz  intensity  decharged_mass\n",
       "0     27938  133.596214          9      134.603514\n",
       "1     27938  180.467447          9      181.474747\n",
       "2     27938  213.418260          9      214.425560\n",
       "3     27938  266.156364          9      267.163664\n",
       "4     27938  268.404245          9      269.411545"
      ]
     },
     "execution_count": 255,
     "metadata": {},
     "output_type": "execute_result"
    }
   ],
   "source": [
    "feature_raw_ms2_df.head()"
   ]
  },
  {
   "cell_type": "code",
   "execution_count": 256,
   "metadata": {},
   "outputs": [
    {
     "data": {
      "text/plain": [
       "215"
      ]
     },
     "execution_count": 256,
     "metadata": {},
     "output_type": "execute_result"
    }
   ],
   "source": [
    "len(feature_raw_ms2_df)"
   ]
  },
  {
   "cell_type": "code",
   "execution_count": 257,
   "metadata": {},
   "outputs": [],
   "source": [
    "MZ_MIN = 100\n",
    "MZ_MAX = 1800"
   ]
  },
  {
   "cell_type": "code",
   "execution_count": 258,
   "metadata": {},
   "outputs": [],
   "source": [
    "# generate a charge-1 mask of mass defect windows\n",
    "bin_edges_l = []\n",
    "for nominal_mass in range(MZ_MIN,MZ_MAX):\n",
    "    mass_centre = nominal_mass * 1.00048\n",
    "    width = 0.19 + (0.0001 * nominal_mass)\n",
    "    lower_mass = mass_centre - (width / 2)\n",
    "    upper_mass = mass_centre + (width / 2)\n",
    "    bin_edges_l.append(lower_mass)\n",
    "    bin_edges_l.append(upper_mass)\n",
    "bins = np.asarray(bin_edges_l)"
   ]
  },
  {
   "cell_type": "code",
   "execution_count": 259,
   "metadata": {},
   "outputs": [
    {
     "data": {
      "text/plain": [
       "array([ 99.948  , 100.148  , 100.94843, 101.14853, 101.94886, 102.14906,\n",
       "       102.94929, 103.14959, 103.94972, 104.15012])"
      ]
     },
     "execution_count": 259,
     "metadata": {},
     "output_type": "execute_result"
    }
   ],
   "source": [
    "bins[:10]"
   ]
  },
  {
   "cell_type": "code",
   "execution_count": 260,
   "metadata": {},
   "outputs": [
    {
     "data": {
      "text/plain": [
       "1"
      ]
     },
     "execution_count": 260,
     "metadata": {},
     "output_type": "execute_result"
    }
   ],
   "source": [
    "np.digitize(99.95, bins)"
   ]
  },
  {
   "cell_type": "code",
   "execution_count": 268,
   "metadata": {},
   "outputs": [],
   "source": [
    "decharged_mass_a = feature_raw_ms2_df.decharged_mass.to_numpy()\n",
    "mz_a = feature_raw_ms2_df.mz.to_numpy()\n",
    "intensity_a = feature_raw_ms2_df.intensity.to_numpy()"
   ]
  },
  {
   "cell_type": "code",
   "execution_count": 262,
   "metadata": {},
   "outputs": [
    {
     "data": {
      "text/plain": [
       "array([  70,  164,  230,  335,  340,  384,  385,  391,  409,  441,  453,\n",
       "        459,  511,  522,  525,  525,  553,  597,  603,  607,  609,  619,\n",
       "        626,  627,  629,  633,  637,  651,  661,  665,  665,  669,  677,\n",
       "        709,  719,  734,  737,  757,  773,  782,  801,  801,  811,  817,\n",
       "        825,  825,  827,  828,  845,  847,  861,  861,  863,  863,  865,\n",
       "        867,  867,  883,  883,  883,  885,  885,  887,  887,  887,  891,\n",
       "        903,  905,  911,  918,  951,  955,  960,  965,  979,  987, 1001,\n",
       "       1019, 1021, 1033, 1033, 1037, 1051, 1053, 1086, 1087, 1088, 1089,\n",
       "       1105, 1133, 1141, 1143, 1147, 1149, 1194, 1202, 1203, 1219, 1231,\n",
       "       1258, 1302, 1302, 1318, 1341, 1353, 1371, 1373, 1373, 1375, 1375,\n",
       "       1375, 1391, 1425, 1453, 1511, 1511, 1511, 1513, 1513, 1513, 1513,\n",
       "       1513, 1513, 1515, 1515, 1515, 1515, 1515, 1515, 1515, 1515, 1515,\n",
       "       1515, 1515, 1515, 1517, 1517, 1517, 1517, 1517, 1517, 1517, 1517,\n",
       "       1517, 1518, 1522, 1581, 1645, 1661, 1699, 1707, 1720, 1739, 1739,\n",
       "       1739, 1741, 1741, 1743, 1745, 1745, 1804, 1854, 1883, 1899, 1908,\n",
       "       1913, 1933, 1939, 1939, 1941, 1941, 1941, 1941, 1941, 1943, 1943,\n",
       "       1943, 1943, 1943, 1945, 1945, 1947, 1949, 1958, 2013, 2055, 2073,\n",
       "       2123, 2123, 2126, 2163, 2165, 2167, 2199, 2201, 2201, 2203, 2203,\n",
       "       2203, 2203, 2203, 2205, 2205, 2205, 2216, 2267, 2271, 2294, 2319,\n",
       "       2369, 2403, 2478, 2521, 2567, 2967])"
      ]
     },
     "execution_count": 262,
     "metadata": {},
     "output_type": "execute_result"
    }
   ],
   "source": [
    "digitised_mass = np.digitize(decharged_mass_a, bins)  # an odd index means the point is inside a mass defect window\n",
    "digitised_mass"
   ]
  },
  {
   "cell_type": "code",
   "execution_count": 134,
   "metadata": {},
   "outputs": [],
   "source": [
    "# consecutive odd indexes means consecutive windows, suggesting a series of isotopic peaks"
   ]
  },
  {
   "cell_type": "code",
   "execution_count": 263,
   "metadata": {},
   "outputs": [
    {
     "data": {
      "text/plain": [
       "array([ 335,  385,  391,  409,  441,  453,  459,  511,  525,  525,  553,\n",
       "        597,  603,  607,  609,  619,  627,  629,  633,  637,  651,  661,\n",
       "        665,  665,  669,  677,  709,  719,  737,  757,  773,  801,  801,\n",
       "        811,  817,  825,  825,  827,  845,  847,  861,  861,  863,  863,\n",
       "        865,  867,  867,  883,  883,  883,  885,  885,  887,  887,  887,\n",
       "        891,  903,  905,  911,  951,  955,  965,  979,  987, 1001, 1019,\n",
       "       1021, 1033, 1033, 1037, 1051, 1053, 1087, 1089, 1105, 1133, 1141,\n",
       "       1143, 1147, 1149, 1203, 1219, 1231, 1341, 1353, 1371, 1373, 1373,\n",
       "       1375, 1375, 1375, 1391, 1425, 1453, 1511, 1511, 1511, 1513, 1513,\n",
       "       1513, 1513, 1513, 1513, 1515, 1515, 1515, 1515, 1515, 1515, 1515,\n",
       "       1515, 1515, 1515, 1515, 1515, 1517, 1517, 1517, 1517, 1517, 1517,\n",
       "       1517, 1517, 1517, 1581, 1645, 1661, 1699, 1707, 1739, 1739, 1739,\n",
       "       1741, 1741, 1743, 1745, 1745, 1883, 1899, 1913, 1933, 1939, 1939,\n",
       "       1941, 1941, 1941, 1941, 1941, 1943, 1943, 1943, 1943, 1943, 1945,\n",
       "       1945, 1947, 1949, 2013, 2055, 2073, 2123, 2123, 2163, 2165, 2167,\n",
       "       2199, 2201, 2201, 2203, 2203, 2203, 2203, 2203, 2205, 2205, 2205,\n",
       "       2267, 2271, 2319, 2369, 2403, 2521, 2567, 2967])"
      ]
     },
     "execution_count": 263,
     "metadata": {},
     "output_type": "execute_result"
    }
   ],
   "source": [
    "# remove all the even indexes - the odd indexes are the mass defect windows\n",
    "mass_defect_window_indexes = digitised_mass[(digitised_mass % 2) == 1]\n",
    "mass_defect_window_indexes"
   ]
  },
  {
   "cell_type": "code",
   "execution_count": 264,
   "metadata": {},
   "outputs": [
    {
     "data": {
      "text/plain": [
       "array([ 335,  385,  391,  409,  441,  453,  459,  511,  525,  553,  597,\n",
       "        603,  607,  609,  619,  627,  629,  633,  637,  651,  661,  665,\n",
       "        669,  677,  709,  719,  737,  757,  773,  801,  811,  817,  825,\n",
       "        827,  845,  847,  861,  863,  865,  867,  883,  885,  887,  891,\n",
       "        903,  905,  911,  951,  955,  965,  979,  987, 1001, 1019, 1021,\n",
       "       1033, 1037, 1051, 1053, 1087, 1089, 1105, 1133, 1141, 1143, 1147,\n",
       "       1149, 1203, 1219, 1231, 1341, 1353, 1371, 1373, 1375, 1391, 1425,\n",
       "       1453, 1511, 1513, 1515, 1517, 1581, 1645, 1661, 1699, 1707, 1739,\n",
       "       1741, 1743, 1745, 1883, 1899, 1913, 1933, 1939, 1941, 1943, 1945,\n",
       "       1947, 1949, 2013, 2055, 2073, 2123, 2163, 2165, 2167, 2199, 2201,\n",
       "       2203, 2205, 2267, 2271, 2319, 2369, 2403, 2521, 2567, 2967])"
      ]
     },
     "execution_count": 264,
     "metadata": {},
     "output_type": "execute_result"
    }
   ],
   "source": [
    "# remove the duplicates\n",
    "unique_mass_defect_window_indexes = np.unique(mass_defect_window_indexes)\n",
    "unique_mass_defect_window_indexes"
   ]
  },
  {
   "cell_type": "code",
   "execution_count": 265,
   "metadata": {},
   "outputs": [
    {
     "data": {
      "text/plain": [
       "array([False, False, False, False, False, False, False, False, False,\n",
       "       False, False, False,  True, False, False,  True, False, False,\n",
       "       False, False, False, False, False, False, False, False, False,\n",
       "       False, False, False, False, False,  True, False,  True, False,\n",
       "        True,  True,  True, False,  True,  True, False, False,  True,\n",
       "       False, False, False, False, False, False, False, False,  True,\n",
       "       False, False, False,  True, False,  True, False, False, False,\n",
       "        True, False,  True, False, False, False, False, False, False,\n",
       "        True,  True, False, False, False, False,  True,  True,  True,\n",
       "       False, False, False, False, False, False,  True,  True,  True,\n",
       "       False, False, False, False, False,  True,  True,  True,  True,\n",
       "        True, False, False, False, False, False,  True,  True, False,\n",
       "        True,  True,  True, False, False, False, False, False, False,\n",
       "       False, False])"
      ]
     },
     "execution_count": 265,
     "metadata": {},
     "output_type": "execute_result"
    }
   ],
   "source": [
    "# find where the windows are consecutive\n",
    "condition = (np.diff(unique_mass_defect_window_indexes) == 2)\n",
    "condition"
   ]
  },
  {
   "cell_type": "code",
   "execution_count": 266,
   "metadata": {},
   "outputs": [
    {
     "data": {
      "text/plain": [
       "array([1, 1, 1, 1, 3, 2, 1, 1, 1, 1, 1, 1, 2, 3, 3, 5, 2, 3])"
      ]
     },
     "execution_count": 266,
     "metadata": {},
     "output_type": "execute_result"
    }
   ],
   "source": [
    "chunk_sizes = np.diff(np.where(np.concatenate(([condition[0]],\n",
    "                                     condition[:-1] != condition[1:],\n",
    "                                     [True])))[0])[::2]\n",
    "chunk_sizes"
   ]
  },
  {
   "cell_type": "code",
   "execution_count": 267,
   "metadata": {},
   "outputs": [
    {
     "data": {
      "text/plain": [
       "array([ 12,  15,  32,  34,  36,  37,  38,  40,  41,  44,  53,  57,  59,\n",
       "        63,  65,  72,  73,  78,  79,  80,  87,  88,  89,  95,  96,  97,\n",
       "        98,  99, 105, 106, 108, 109, 110])"
      ]
     },
     "execution_count": 267,
     "metadata": {},
     "output_type": "execute_result"
    }
   ],
   "source": [
    "consecutive_window_indexes = np.where(condition == True)[0]\n",
    "consecutive_window_indexes"
   ]
  },
  {
   "cell_type": "code",
   "execution_count": 280,
   "metadata": {
    "scrolled": false
   },
   "outputs": [
    {
     "name": "stdout",
     "output_type": "stream",
     "text": [
      "isotope series 1 (2 peaks):\n",
      "mass defect window [607]: 403.0783-403.3086 Da\n",
      "\tpeak m/z [402.2189]\n",
      "\tpeak centroid 402.2189 m/z, 10\n",
      "mass defect window [609]: 404.0787-404.3091 Da\n",
      "\tpeak m/z [403.1935]\n",
      "\tpeak centroid 403.1935 m/z, 23\n",
      "de-isotoped m/z [402.2189 402.1902]\n",
      "de-isotoped m/z centroid 402.1989\n",
      "monoisotopic mass 401.1916 Da\n",
      "\n",
      "isotope series 2 (2 peaks):\n",
      "mass defect window [627]: 413.0826-413.3139 Da\n",
      "\tpeak m/z [412.2579]\n",
      "\tpeak centroid 412.2579 m/z, 27\n",
      "mass defect window [629]: 414.083-414.3144 Da\n",
      "\tpeak m/z [413.2542]\n",
      "\tpeak centroid 413.2542 m/z, 114\n",
      "de-isotoped m/z [412.2579 412.2509]\n",
      "de-isotoped m/z centroid 412.2522\n",
      "monoisotopic mass 411.2449 Da\n",
      "\n",
      "isotope series 3 (2 peaks):\n",
      "mass defect window [825]: 512.1252-512.3664 Da\n",
      "\tpeak m/z [511.2531 512.2554]\n",
      "\tpeak centroid 511.8302 m/z, 99\n",
      "mass defect window [827]: 513.1256-513.3669 Da\n",
      "\tpeak m/z [512.4303]\n",
      "\tpeak centroid 512.4303 m/z, 24\n",
      "de-isotoped m/z [511.8302 511.4269]\n",
      "de-isotoped m/z centroid 511.7515\n",
      "monoisotopic mass 510.7442 Da\n",
      "\n",
      "isotope series 4 (2 peaks):\n",
      "mass defect window [845]: 522.1295-522.3717 Da\n",
      "\tpeak m/z [522.2534]\n",
      "\tpeak centroid 522.2534 m/z, 10\n",
      "mass defect window [847]: 523.1299-523.3722 Da\n",
      "\tpeak m/z [529.2602]\n",
      "\tpeak centroid 529.2602 m/z, 59\n",
      "de-isotoped m/z [522.2534 528.2569]\n",
      "de-isotoped m/z centroid 527.3868\n",
      "monoisotopic mass 526.3795 Da\n",
      "\n",
      "isotope series 5 (4 peaks):\n",
      "mass defect window [861]: 530.1329-530.3759 Da\n",
      "\tpeak m/z [529.3545 530.2583]\n",
      "\tpeak centroid 529.716 m/z, 105\n",
      "mass defect window [863]: 531.1333-531.3764 Da\n",
      "\tpeak m/z [530.2728 531.2681]\n",
      "\tpeak centroid 530.7705 m/z, 104\n",
      "mass defect window [865]: 532.1338-532.377 Da\n",
      "\tpeak m/z [532.2681]\n",
      "\tpeak centroid 532.2681 m/z, 74\n",
      "mass defect window [867]: 533.1342-533.3775 Da\n",
      "\tpeak m/z [532.2753 540.2354]\n",
      "\tpeak centroid 536.225 m/z, 131\n",
      "de-isotoped m/z [529.716  529.7671 530.2614 533.2149]\n",
      "de-isotoped m/z centroid 530.9335\n",
      "monoisotopic mass 529.9262 Da\n",
      "\n",
      "isotope series 6 (3 peaks):\n",
      "mass defect window [883]: 541.1376-541.3817 Da\n",
      "\tpeak m/z [540.239  540.25   541.2474]\n",
      "\tpeak centroid 540.7585 m/z, 74\n",
      "mass defect window [885]: 542.1381-542.3823 Da\n",
      "\tpeak m/z [541.2547 542.2383]\n",
      "\tpeak centroid 541.6481 m/z, 110\n",
      "mass defect window [887]: 543.1385-543.3828 Da\n",
      "\tpeak m/z [542.2419 544.2522 550.2574]\n",
      "\tpeak centroid 544.1182 m/z, 169\n",
      "de-isotoped m/z [540.7585 540.6448 542.1115]\n",
      "de-isotoped m/z centroid 541.3708\n",
      "monoisotopic mass 540.3635 Da\n",
      "\n",
      "isotope series 7 (2 peaks):\n",
      "mass defect window [903]: 551.1419-551.387 Da\n",
      "\tpeak m/z [554.3001]\n",
      "\tpeak centroid 554.3001 m/z, 27\n",
      "mass defect window [905]: 552.1424-552.3876 Da\n",
      "\tpeak m/z [557.5271]\n",
      "\tpeak centroid 557.5271 m/z, 9\n",
      "de-isotoped m/z [554.3001 556.5238]\n",
      "de-isotoped m/z centroid 554.856\n",
      "monoisotopic mass 553.8487 Da\n",
      "\n",
      "isotope series 8 (2 peaks):\n",
      "mass defect window [1019]: 609.1669-609.4178 Da\n",
      "\tpeak m/z [615.2888]\n",
      "\tpeak centroid 615.2888 m/z, 50\n",
      "mass defect window [1021]: 610.1673-610.4183 Da\n",
      "\tpeak m/z [615.3592]\n",
      "\tpeak centroid 615.3592 m/z, 80\n",
      "de-isotoped m/z [615.2888 614.3558]\n",
      "de-isotoped m/z centroid 614.7146\n",
      "monoisotopic mass 613.7073 Da\n",
      "\n",
      "isotope series 9 (2 peaks):\n",
      "mass defect window [1051]: 625.1738-625.4263 Da\n",
      "\tpeak m/z [641.7931]\n",
      "\tpeak centroid 641.7931 m/z, 9\n",
      "mass defect window [1053]: 626.1742-626.4268 Da\n",
      "\tpeak m/z [642.3325]\n",
      "\tpeak centroid 642.3325 m/z, 42\n",
      "de-isotoped m/z [641.7931 641.3291]\n",
      "de-isotoped m/z centroid 641.411\n",
      "monoisotopic mass 640.4037 Da\n",
      "\n",
      "isotope series 10 (2 peaks):\n",
      "mass defect window [1087]: 643.1815-643.4358 Da\n",
      "\tpeak m/z [643.3439]\n",
      "\tpeak centroid 643.3439 m/z, 60\n",
      "mass defect window [1089]: 644.1819-644.4363 Da\n",
      "\tpeak m/z [665.3457]\n",
      "\tpeak centroid 665.3457 m/z, 59\n",
      "de-isotoped m/z [643.3439 664.3424]\n",
      "de-isotoped m/z centroid 653.7549\n",
      "monoisotopic mass 652.7476 Da\n",
      "\n",
      "isotope series 11 (2 peaks):\n",
      "mass defect window [1141]: 670.1931-670.4501 Da\n",
      "\tpeak m/z [672.2984]\n",
      "\tpeak centroid 672.2984 m/z, 55\n",
      "mass defect window [1143]: 671.1935-671.4506 Da\n",
      "\tpeak m/z [673.3045]\n",
      "\tpeak centroid 673.3045 m/z, 60\n",
      "de-isotoped m/z [672.2984 672.3012]\n",
      "de-isotoped m/z centroid 672.2999\n",
      "monoisotopic mass 671.2926 Da\n",
      "\n",
      "isotope series 12 (2 peaks):\n",
      "mass defect window [1147]: 673.1944-673.4517 Da\n",
      "\tpeak m/z [695.7462]\n",
      "\tpeak centroid 695.7462 m/z, 40\n",
      "mass defect window [1149]: 674.1948-674.4522 Da\n",
      "\tpeak m/z [699.8656]\n",
      "\tpeak centroid 699.8656 m/z, 31\n",
      "de-isotoped m/z [695.7462 698.8622]\n",
      "de-isotoped m/z centroid 697.1067\n",
      "monoisotopic mass 696.0994 Da\n",
      "\n",
      "isotope series 13 (3 peaks):\n",
      "mass defect window [1371]: 785.2426-785.511 Da\n",
      "\tpeak m/z [785.3381]\n",
      "\tpeak centroid 785.3381 m/z, 77\n",
      "mass defect window [1373]: 786.243-786.5116 Da\n",
      "\tpeak m/z [786.3282 786.3327]\n",
      "\tpeak centroid 786.3289 m/z, 92\n",
      "mass defect window [1375]: 787.2434-787.5121 Da\n",
      "\tpeak m/z [794.4272 811.3873 825.4431]\n",
      "\tpeak centroid 810.22 m/z, 146\n",
      "de-isotoped m/z [785.3381 785.3255 808.2133]\n",
      "de-isotoped m/z centroid 795.9369\n",
      "monoisotopic mass 794.9296 Da\n",
      "\n",
      "isotope series 14 (4 peaks):\n",
      "mass defect window [1511]: 855.2726-855.5482 Da\n",
      "\tpeak m/z [855.3596 855.3735 855.3781]\n",
      "\tpeak centroid 855.3717 m/z, 95\n",
      "mass defect window [1513]: 856.2731-856.5487 Da\n",
      "\tpeak m/z [856.3606 856.3653 856.3699 856.3745 856.3791 856.4114]\n",
      "\tpeak centroid 856.3773 m/z, 281\n",
      "mass defect window [1515]: 857.2735-857.5492 Da\n",
      "\tpeak m/z [857.3715 857.3761 857.3853 857.3899 858.0226 860.0884 889.4401 921.4703\n",
      " 929.3561 948.4258 952.4119 959.2856]\n",
      "\tpeak centroid 891.7045 m/z, 528\n",
      "mass defect window [1517]: 858.2739-858.5497 Da\n",
      "\tpeak m/z [ 968.4448  968.4497  968.4595  969.4215  969.4559  970.4626  971.4551\n",
      "  971.4649 1000.8521]\n",
      "\tpeak centroid 973.0417 m/z, 288\n",
      "de-isotoped m/z [855.3717 855.3739 889.6978 970.0316]\n",
      "de-isotoped m/z centroid 898.2801\n",
      "monoisotopic mass 897.2728 Da\n",
      "\n",
      "isotope series 15 (4 peaks):\n",
      "mass defect window [1739]: 969.3217-969.6086 Da\n",
      "\tpeak m/z [1069.4829 1069.4932 1069.5035]\n",
      "\tpeak centroid 1069.493 m/z, 177\n",
      "mass defect window [1741]: 970.3221-970.6091 Da\n",
      "\tpeak m/z [1069.5087 1070.5145]\n",
      "\tpeak centroid 1070.1685 m/z, 125\n",
      "mass defect window [1743]: 971.3225-971.6096 Da\n",
      "\tpeak m/z [1070.5248]\n",
      "\tpeak centroid 1070.5248 m/z, 10\n",
      "mass defect window [1745]: 972.323-972.6102 Da\n",
      "\tpeak m/z [1070.5299 1071.4898]\n",
      "\tpeak centroid 1071.1438 m/z, 86\n",
      "de-isotoped m/z [1069.493  1069.1651 1068.5181 1068.1337]\n",
      "de-isotoped m/z centroid 1069.0718\n",
      "monoisotopic mass 1068.0645 Da\n",
      "\n",
      "isotope series 16 (6 peaks):\n",
      "mass defect window [1939]: 1069.3647-1069.6616 Da\n",
      "\tpeak m/z [1160.4932 1160.5039]\n",
      "\tpeak centroid 1160.5018 m/z, 45\n",
      "mass defect window [1941]: 1070.3651-1070.6621 Da\n",
      "\tpeak m/z [1162.374  1180.5233 1181.5421 1182.5396 1198.5567]\n",
      "\tpeak centroid 1182.1124 m/z, 181\n",
      "mass defect window [1943]: 1071.3655-1071.6626 Da\n",
      "\tpeak m/z [1199.5231 1199.5613 1200.4408 1200.5227 1200.5446]\n",
      "\tpeak centroid 1200.2109 m/z, 109\n",
      "mass defect window [1945]: 1072.366-1072.6632 Da\n",
      "\tpeak m/z [1200.55 1201.55]\n",
      "\tpeak centroid 1200.7195 m/z, 59\n",
      "mass defect window [1947]: 1073.3664-1073.6637 Da\n",
      "\tpeak m/z [1201.5555]\n",
      "\tpeak centroid 1201.5555 m/z, 35\n",
      "mass defect window [1949]: 1074.3668-1074.6642 Da\n",
      "\tpeak m/z [1201.5719]\n",
      "\tpeak centroid 1201.5719 m/z, 37\n",
      "de-isotoped m/z [1160.5018 1181.109  1198.2042 1197.7095 1197.5421 1196.5551]\n",
      "de-isotoped m/z centroid 1187.6801\n",
      "monoisotopic mass 1186.6728 Da\n",
      "\n",
      "isotope series 17 (3 peaks):\n",
      "mass defect window [2163]: 1181.4128-1181.7209 Da\n",
      "\tpeak m/z [1338.0892]\n",
      "\tpeak centroid 1338.0892 m/z, 23\n",
      "mass defect window [2165]: 1182.4133-1182.7215 Da\n",
      "\tpeak m/z [1359.6551]\n",
      "\tpeak centroid 1359.6551 m/z, 37\n",
      "mass defect window [2167]: 1183.4137-1183.722 Da\n",
      "\tpeak m/z [1382.8003]\n",
      "\tpeak centroid 1382.8003 m/z, 53\n",
      "de-isotoped m/z [1338.0892 1358.6517 1380.7936]\n",
      "de-isotoped m/z centroid 1364.8516\n",
      "monoisotopic mass 1363.8443 Da\n",
      "\n",
      "isotope series 18 (4 peaks):\n",
      "mass defect window [2199]: 1199.4206-1199.7305 Da\n",
      "\tpeak m/z [1582.7633]\n",
      "\tpeak centroid 1582.7633 m/z, 21\n",
      "mass defect window [2201]: 1200.421-1200.731 Da\n"
     ]
    },
    {
     "ename": "IndexError",
     "evalue": "index 194 is out of bounds for axis 0 with size 194",
     "output_type": "error",
     "traceback": [
      "\u001b[0;31m---------------------------------------------------------------------------\u001b[0m",
      "\u001b[0;31mIndexError\u001b[0m                                Traceback (most recent call last)",
      "\u001b[0;32m<ipython-input-280-2cce5b0f34f0>\u001b[0m in \u001b[0;36m<module>\u001b[0;34m\u001b[0m\n\u001b[1;32m     14\u001b[0m         \u001b[0;31m# get the raw points allocated to this bin\u001b[0m\u001b[0;34m\u001b[0m\u001b[0;34m\u001b[0m\u001b[0;34m\u001b[0m\u001b[0m\n\u001b[1;32m     15\u001b[0m         \u001b[0mpeak_indexes\u001b[0m \u001b[0;34m=\u001b[0m \u001b[0mnp\u001b[0m\u001b[0;34m.\u001b[0m\u001b[0mwhere\u001b[0m\u001b[0;34m(\u001b[0m\u001b[0mdigitised_mass\u001b[0m \u001b[0;34m==\u001b[0m \u001b[0munique_mass_defect_window_indexes\u001b[0m\u001b[0;34m[\u001b[0m\u001b[0mi\u001b[0m\u001b[0;34m]\u001b[0m\u001b[0;34m)\u001b[0m\u001b[0;34m[\u001b[0m\u001b[0;36m0\u001b[0m\u001b[0;34m]\u001b[0m\u001b[0;34m\u001b[0m\u001b[0;34m\u001b[0m\u001b[0m\n\u001b[0;32m---> 16\u001b[0;31m         \u001b[0mprint\u001b[0m\u001b[0;34m(\u001b[0m\u001b[0;34m\"\\tpeak m/z {}\"\u001b[0m\u001b[0;34m.\u001b[0m\u001b[0mformat\u001b[0m\u001b[0;34m(\u001b[0m\u001b[0mnp\u001b[0m\u001b[0;34m.\u001b[0m\u001b[0mround\u001b[0m\u001b[0;34m(\u001b[0m\u001b[0mmz_a\u001b[0m\u001b[0;34m[\u001b[0m\u001b[0mpeak_indexes\u001b[0m\u001b[0;34m]\u001b[0m\u001b[0;34m,\u001b[0m\u001b[0;36m4\u001b[0m\u001b[0;34m)\u001b[0m\u001b[0;34m)\u001b[0m\u001b[0;34m)\u001b[0m\u001b[0;34m\u001b[0m\u001b[0;34m\u001b[0m\u001b[0m\n\u001b[0m\u001b[1;32m     17\u001b[0m         \u001b[0mmz_centroid\u001b[0m \u001b[0;34m=\u001b[0m \u001b[0mnp\u001b[0m\u001b[0;34m.\u001b[0m\u001b[0maverage\u001b[0m\u001b[0;34m(\u001b[0m\u001b[0mmz_a\u001b[0m\u001b[0;34m[\u001b[0m\u001b[0mpeak_indexes\u001b[0m\u001b[0;34m]\u001b[0m\u001b[0;34m,\u001b[0m \u001b[0mweights\u001b[0m\u001b[0;34m=\u001b[0m\u001b[0mintensity_a\u001b[0m\u001b[0;34m[\u001b[0m\u001b[0mpeak_indexes\u001b[0m\u001b[0;34m]\u001b[0m\u001b[0;34m)\u001b[0m\u001b[0;34m\u001b[0m\u001b[0;34m\u001b[0m\u001b[0m\n\u001b[1;32m     18\u001b[0m         \u001b[0mintensity\u001b[0m \u001b[0;34m=\u001b[0m \u001b[0mnp\u001b[0m\u001b[0;34m.\u001b[0m\u001b[0msum\u001b[0m\u001b[0;34m(\u001b[0m\u001b[0mintensity_a\u001b[0m\u001b[0;34m[\u001b[0m\u001b[0mpeak_indexes\u001b[0m\u001b[0;34m]\u001b[0m\u001b[0;34m)\u001b[0m\u001b[0;34m\u001b[0m\u001b[0;34m\u001b[0m\u001b[0m\n",
      "\u001b[0;31mIndexError\u001b[0m: index 194 is out of bounds for axis 0 with size 194"
     ]
    }
   ],
   "source": [
    "expected_peak_spacing = DELTA_MZ / charge\n",
    "for idx in range(len(chunk_sizes)):\n",
    "    number_of_windows = chunk_sizes[idx]\n",
    "    start_idx = chunk_sizes[:idx].sum()\n",
    "    index_list = consecutive_window_indexes[start_idx:start_idx+number_of_windows].tolist()\n",
    "    index_list.append(index_list[-1]+1)\n",
    "    print(\"isotope series {} ({} peaks):\".format(idx+1, number_of_windows+1))\n",
    "    mz_l = []\n",
    "    int_l = []\n",
    "    for i in index_list:\n",
    "        lower_mass = round(bins[unique_mass_defect_window_indexes[i]-1],4)\n",
    "        upper_mass = round(bins[unique_mass_defect_window_indexes[i]],4)\n",
    "        print(\"mass defect window [{}]: {}-{} Da\".format(unique_mass_defect_window_indexes[i], lower_mass, upper_mass))\n",
    "        # get the raw points allocated to this bin\n",
    "        peak_indexes = np.where(digitised_mass == unique_mass_defect_window_indexes[i])[0]\n",
    "        print(\"\\tpeak m/z {}\".format(np.round(mz_a[peak_indexes],4)))\n",
    "        mz_centroid = np.average(mz_a[peak_indexes], weights=intensity_a[peak_indexes])\n",
    "        intensity = np.sum(intensity_a[peak_indexes])\n",
    "        mz_l.append(mz_centroid)\n",
    "        int_l.append(intensity)\n",
    "        print(\"\\tpeak centroid {} m/z, {}\".format(np.round(mz_centroid,4), intensity))\n",
    "    # de-isotope the peaks\n",
    "    peaks_mz_a = np.array(mz_l)\n",
    "    peaks_int_a = np.array(int_l)\n",
    "    for i in range(len(peaks_mz_a)):\n",
    "        peaks_mz_a[i] = peaks_mz_a[i] - (i * expected_peak_spacing)\n",
    "    print(\"de-isotoped m/z {}\".format(np.round(peaks_mz_a,4)))\n",
    "    deisotoped_mz = np.average(peaks_mz_a, weights=peaks_int_a)\n",
    "    print(\"de-isotoped m/z centroid {}\".format(np.round(deisotoped_mz,4)))\n",
    "    monoisotopic_mass = (deisotoped_mz - PROTON_MASS) * charge\n",
    "    print(\"monoisotopic mass {} Da\".format(np.round(monoisotopic_mass,4)))\n",
    "    print()\n",
    "    "
   ]
  },
  {
   "cell_type": "code",
   "execution_count": null,
   "metadata": {},
   "outputs": [],
   "source": []
  }
 ],
 "metadata": {
  "kernelspec": {
   "display_name": "Python 3",
   "language": "python",
   "name": "python3"
  },
  "language_info": {
   "codemirror_mode": {
    "name": "ipython",
    "version": 3
   },
   "file_extension": ".py",
   "mimetype": "text/x-python",
   "name": "python",
   "nbconvert_exporter": "python",
   "pygments_lexer": "ipython3",
   "version": "3.6.8"
  }
 },
 "nbformat": 4,
 "nbformat_minor": 2
}
