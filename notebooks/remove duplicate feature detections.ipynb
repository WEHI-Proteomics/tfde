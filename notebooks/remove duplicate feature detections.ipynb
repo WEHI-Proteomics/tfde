{
 "cells": [
  {
   "cell_type": "code",
   "execution_count": 1,
   "metadata": {},
   "outputs": [],
   "source": [
    "import pandas as pd\n",
    "import numpy as np\n",
    "import sqlite3\n",
    "import json\n",
    "import matplotlib.pyplot as plt\n",
    "import seaborn as sns\n",
    "%matplotlib inline"
   ]
  },
  {
   "cell_type": "code",
   "execution_count": 2,
   "metadata": {},
   "outputs": [],
   "source": [
    "EXPERIMENT_NAME = 'P3856'\n",
    "RUN_NAME = 'P3856_YHE211_1_Slot1-1_1_5104'"
   ]
  },
  {
   "cell_type": "code",
   "execution_count": 3,
   "metadata": {},
   "outputs": [],
   "source": [
    "MZ_TOLERANCE_PPM = 5\n",
    "MZ_TOLERANCE_PERCENT = MZ_TOLERANCE_PPM * 10**-4\n",
    "SCAN_TOLERANCE = 2\n",
    "RT_TOLERANCE = 1"
   ]
  },
  {
   "cell_type": "markdown",
   "metadata": {},
   "source": [
    "##### 3DID parameters"
   ]
  },
  {
   "cell_type": "raw",
   "metadata": {},
   "source": [
    "# load the detected features\n",
    "EXPERIMENT_DIR = '/data2/experiments/{}'.format(EXPERIMENT_NAME)\n",
    "FEATURES_DIR = '{}/features-3did'.format(EXPERIMENT_DIR)\n",
    "FEATURES_FILE = '{}/exp-{}-run-{}-features-3did.pkl'.format(FEATURES_DIR, EXPERIMENT_NAME, RUN_NAME)\n",
    "FEATURES_DEDUP_FILE = '{}/exp-{}-run-{}-features-3did-dedup.pkl'.format(FEATURES_DIR, EXPERIMENT_NAME, RUN_NAME)\n",
    "MZ_COLUMN_NAME = 'monoisotopic_mz'"
   ]
  },
  {
   "cell_type": "raw",
   "metadata": {},
   "source": [
    "features_df = pd.read_pickle(FEATURES_FILE)"
   ]
  },
  {
   "cell_type": "markdown",
   "metadata": {},
   "source": [
    "##### PASEF parameters"
   ]
  },
  {
   "cell_type": "code",
   "execution_count": 4,
   "metadata": {},
   "outputs": [],
   "source": [
    "# load the detected features\n",
    "EXPERIMENT_DIR = '/data2/experiments/{}'.format(EXPERIMENT_NAME)\n",
    "FEATURES_DIR = '{}/features'.format(EXPERIMENT_DIR)\n",
    "FEATURES_FILE = '{}/detected-features-no-recal.sqlite'.format(FEATURES_DIR)\n",
    "FEATURES_DEDUP_FILE = '{}/exp-{}-run-{}-features-pasef-dedup.pkl'.format(FEATURES_DIR, EXPERIMENT_NAME, RUN_NAME)\n",
    "MZ_COLUMN_NAME = 'monoisotopic_mz'"
   ]
  },
  {
   "cell_type": "code",
   "execution_count": 5,
   "metadata": {},
   "outputs": [],
   "source": [
    "RT_LOWER = 1650\n",
    "RT_UPPER = 2200\n",
    "\n",
    "db_conn = sqlite3.connect(FEATURES_FILE)\n",
    "features_df = pd.read_sql_query(\"select * from features where rt_apex >= {} and rt_apex <= {} and run_name=='{}'\".format(RT_LOWER, RT_UPPER, RUN_NAME), db_conn)\n",
    "db_conn.close()"
   ]
  },
  {
   "cell_type": "code",
   "execution_count": 6,
   "metadata": {},
   "outputs": [
    {
     "name": "stdout",
     "output_type": "stream",
     "text": [
      "there are 252796 features prior to de-dup\n"
     ]
    }
   ],
   "source": [
    "print('there are {} features prior to de-dup'.format(len(features_df)))"
   ]
  },
  {
   "cell_type": "code",
   "execution_count": 8,
   "metadata": {},
   "outputs": [],
   "source": [
    "features_df['dup_mz'] = features_df[MZ_COLUMN_NAME]  # shorthand to reduce verbosity\n",
    "features_df['dup_mz_ppm_tolerance'] = features_df.dup_mz * MZ_TOLERANCE_PERCENT / 100\n",
    "features_df['dup_mz_lower'] = features_df.dup_mz - features_df.dup_mz_ppm_tolerance\n",
    "features_df['dup_mz_upper'] = features_df.dup_mz + features_df.dup_mz_ppm_tolerance\n",
    "features_df['dup_scan_lower'] = features_df.scan_apex - SCAN_TOLERANCE\n",
    "features_df['dup_scan_upper'] = features_df.scan_apex + SCAN_TOLERANCE\n",
    "features_df['dup_rt_lower'] = features_df.rt_apex - RT_TOLERANCE\n",
    "features_df['dup_rt_upper'] = features_df.rt_apex + RT_TOLERANCE\n",
    "features_df['dup_composite_key'] = features_df.apply(lambda row: '{},{}'.format(row.feature_id, row.precursor_id), axis=1)"
   ]
  },
  {
   "cell_type": "code",
   "execution_count": 9,
   "metadata": {},
   "outputs": [],
   "source": [
    "# remove these after we're finished\n",
    "columns_to_drop_l = []\n",
    "columns_to_drop_l.append('dup_mz')\n",
    "columns_to_drop_l.append('dup_mz_ppm_tolerance')\n",
    "columns_to_drop_l.append('dup_mz_lower')\n",
    "columns_to_drop_l.append('dup_mz_upper')\n",
    "columns_to_drop_l.append('dup_scan_lower')\n",
    "columns_to_drop_l.append('dup_scan_upper')\n",
    "columns_to_drop_l.append('dup_rt_lower')\n",
    "columns_to_drop_l.append('dup_rt_upper')\n",
    "columns_to_drop_l.append('dup_composite_key')\n"
   ]
  },
  {
   "cell_type": "code",
   "execution_count": 10,
   "metadata": {},
   "outputs": [],
   "source": [
    "features_df.sort_values(by=['intensity'], ascending=False, inplace=True)"
   ]
  },
  {
   "cell_type": "code",
   "execution_count": 13,
   "metadata": {},
   "outputs": [],
   "source": [
    "# see if any detections have a duplicate - if so, find the dup with the highest intensity and keep it\n",
    "keep_l = []\n",
    "for row in features_df.itertuples():\n",
    "    dup_df = features_df[(features_df.dup_mz > row.dup_mz_lower) & (features_df.dup_mz < row.dup_mz_upper) & (features_df.scan_apex > row.dup_scan_lower) & (features_df.scan_apex < row.dup_scan_upper) & (features_df.rt_apex > row.dup_rt_lower) & (features_df.rt_apex < row.dup_rt_upper)].copy()\n",
    "    # group the dups by charge - take the most intense for each charge\n",
    "    for group_name,group_df in dup_df.groupby(['charge'], as_index=False):\n",
    "        keep_l.append(group_df.iloc[0].dup_composite_key)\n"
   ]
  },
  {
   "cell_type": "code",
   "execution_count": 15,
   "metadata": {},
   "outputs": [],
   "source": [
    "# remove any features that are not in the keep list\n",
    "dedup_df = features_df[features_df.dup_composite_key.isin(keep_l)].copy()"
   ]
  },
  {
   "cell_type": "code",
   "execution_count": 16,
   "metadata": {},
   "outputs": [
    {
     "name": "stdout",
     "output_type": "stream",
     "text": [
      "removed 21287 duplicates (8% of the original detections)\n",
      "there are 231509 detected de-duplicated features\n"
     ]
    }
   ],
   "source": [
    "number_of_dups = len(features_df)-len(dedup_df)\n",
    "print('removed {} duplicates ({}% of the original detections)'.format(number_of_dups, round(number_of_dups/len(features_df)*100)))\n",
    "print('there are {} detected de-duplicated features'.format(len(dedup_df)))"
   ]
  },
  {
   "cell_type": "code",
   "execution_count": 17,
   "metadata": {},
   "outputs": [],
   "source": [
    "# remove the columns we added earlier\n",
    "dedup_df.drop(columns_to_drop_l, axis=1, inplace=True)"
   ]
  },
  {
   "cell_type": "code",
   "execution_count": 18,
   "metadata": {},
   "outputs": [
    {
     "data": {
      "text/html": [
       "<div>\n",
       "<style scoped>\n",
       "    .dataframe tbody tr th:only-of-type {\n",
       "        vertical-align: middle;\n",
       "    }\n",
       "\n",
       "    .dataframe tbody tr th {\n",
       "        vertical-align: top;\n",
       "    }\n",
       "\n",
       "    .dataframe thead th {\n",
       "        text-align: right;\n",
       "    }\n",
       "</style>\n",
       "<table border=\"1\" class=\"dataframe\">\n",
       "  <thead>\n",
       "    <tr style=\"text-align: right;\">\n",
       "      <th></th>\n",
       "      <th>monoisotopic_mz</th>\n",
       "      <th>charge</th>\n",
       "      <th>intensity</th>\n",
       "      <th>intensity_full_rt_extent</th>\n",
       "      <th>intensity_six_sigma</th>\n",
       "      <th>scan_apex</th>\n",
       "      <th>scan_lower</th>\n",
       "      <th>scan_upper</th>\n",
       "      <th>rt_apex</th>\n",
       "      <th>rt_lower</th>\n",
       "      <th>rt_upper</th>\n",
       "      <th>precursor_id</th>\n",
       "      <th>envelope</th>\n",
       "      <th>deconvolution_score</th>\n",
       "      <th>envelope_mono_peak_intensity</th>\n",
       "      <th>feature_id</th>\n",
       "      <th>monoisotopic_mass</th>\n",
       "      <th>run_name</th>\n",
       "    </tr>\n",
       "  </thead>\n",
       "  <tbody>\n",
       "    <tr>\n",
       "      <th>6246</th>\n",
       "      <td>822.400316</td>\n",
       "      <td>1</td>\n",
       "      <td>20287.0</td>\n",
       "      <td>43200</td>\n",
       "      <td>39894</td>\n",
       "      <td>489.35</td>\n",
       "      <td>469.35</td>\n",
       "      <td>509.35</td>\n",
       "      <td>1822.69</td>\n",
       "      <td>1812.69</td>\n",
       "      <td>1832.69</td>\n",
       "      <td>19345</td>\n",
       "      <td>[[822.3993952060689, 10762.196394618164], [823...</td>\n",
       "      <td>118.649454</td>\n",
       "      <td>10762.196395</td>\n",
       "      <td>1934505</td>\n",
       "      <td>821.393016</td>\n",
       "      <td>P3856_YHE211_1_Slot1-1_1_5104</td>\n",
       "    </tr>\n",
       "    <tr>\n",
       "      <th>91383</th>\n",
       "      <td>1075.882019</td>\n",
       "      <td>3</td>\n",
       "      <td>16947.0</td>\n",
       "      <td>987</td>\n",
       "      <td>809</td>\n",
       "      <td>128.83</td>\n",
       "      <td>108.83</td>\n",
       "      <td>148.83</td>\n",
       "      <td>1965.46</td>\n",
       "      <td>1955.46</td>\n",
       "      <td>1975.46</td>\n",
       "      <td>29128</td>\n",
       "      <td>[[1076.5471696522732, 5460.620970188946], [107...</td>\n",
       "      <td>58.318790</td>\n",
       "      <td>5460.620970</td>\n",
       "      <td>2912803</td>\n",
       "      <td>3224.624158</td>\n",
       "      <td>P3856_YHE211_1_Slot1-1_1_5104</td>\n",
       "    </tr>\n",
       "    <tr>\n",
       "      <th>136775</th>\n",
       "      <td>979.417370</td>\n",
       "      <td>4</td>\n",
       "      <td>137678.0</td>\n",
       "      <td>429884</td>\n",
       "      <td>427483</td>\n",
       "      <td>494.71</td>\n",
       "      <td>474.71</td>\n",
       "      <td>514.71</td>\n",
       "      <td>1964.34</td>\n",
       "      <td>1954.34</td>\n",
       "      <td>1974.34</td>\n",
       "      <td>28210</td>\n",
       "      <td>[[979.4311231131832, 19148.0], [979.6694982165...</td>\n",
       "      <td>612.129611</td>\n",
       "      <td>19148.000000</td>\n",
       "      <td>2821001</td>\n",
       "      <td>3913.640281</td>\n",
       "      <td>P3856_YHE211_1_Slot1-1_1_5104</td>\n",
       "    </tr>\n",
       "  </tbody>\n",
       "</table>\n",
       "</div>"
      ],
      "text/plain": [
       "        monoisotopic_mz  charge  intensity  intensity_full_rt_extent  \\\n",
       "6246         822.400316       1    20287.0                     43200   \n",
       "91383       1075.882019       3    16947.0                       987   \n",
       "136775       979.417370       4   137678.0                    429884   \n",
       "\n",
       "        intensity_six_sigma  scan_apex  scan_lower  scan_upper  rt_apex  \\\n",
       "6246                  39894     489.35      469.35      509.35  1822.69   \n",
       "91383                   809     128.83      108.83      148.83  1965.46   \n",
       "136775               427483     494.71      474.71      514.71  1964.34   \n",
       "\n",
       "        rt_lower  rt_upper  precursor_id  \\\n",
       "6246     1812.69   1832.69         19345   \n",
       "91383    1955.46   1975.46         29128   \n",
       "136775   1954.34   1974.34         28210   \n",
       "\n",
       "                                                 envelope  \\\n",
       "6246    [[822.3993952060689, 10762.196394618164], [823...   \n",
       "91383   [[1076.5471696522732, 5460.620970188946], [107...   \n",
       "136775  [[979.4311231131832, 19148.0], [979.6694982165...   \n",
       "\n",
       "        deconvolution_score  envelope_mono_peak_intensity  feature_id  \\\n",
       "6246             118.649454                  10762.196395     1934505   \n",
       "91383             58.318790                   5460.620970     2912803   \n",
       "136775           612.129611                  19148.000000     2821001   \n",
       "\n",
       "        monoisotopic_mass                       run_name  \n",
       "6246           821.393016  P3856_YHE211_1_Slot1-1_1_5104  \n",
       "91383         3224.624158  P3856_YHE211_1_Slot1-1_1_5104  \n",
       "136775        3913.640281  P3856_YHE211_1_Slot1-1_1_5104  "
      ]
     },
     "execution_count": 18,
     "metadata": {},
     "output_type": "execute_result"
    }
   ],
   "source": [
    "dedup_df.sample(n=3)"
   ]
  },
  {
   "cell_type": "code",
   "execution_count": 19,
   "metadata": {},
   "outputs": [],
   "source": [
    "dedup_df.to_pickle(FEATURES_DEDUP_FILE)"
   ]
  },
  {
   "cell_type": "code",
   "execution_count": null,
   "metadata": {},
   "outputs": [],
   "source": []
  }
 ],
 "metadata": {
  "kernelspec": {
   "display_name": "Python 3",
   "language": "python",
   "name": "python3"
  },
  "language_info": {
   "codemirror_mode": {
    "name": "ipython",
    "version": 3
   },
   "file_extension": ".py",
   "mimetype": "text/x-python",
   "name": "python",
   "nbconvert_exporter": "python",
   "pygments_lexer": "ipython3",
   "version": "3.6.8"
  }
 },
 "nbformat": 4,
 "nbformat_minor": 4
}
