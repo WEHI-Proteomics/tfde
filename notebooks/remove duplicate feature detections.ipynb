{
 "cells": [
  {
   "cell_type": "code",
   "execution_count": 1,
   "metadata": {},
   "outputs": [],
   "source": [
    "import pandas as pd\n",
    "import numpy as np\n",
    "import sqlite3\n",
    "import json\n",
    "import matplotlib.pyplot as plt\n",
    "import seaborn as sns\n",
    "%matplotlib inline"
   ]
  },
  {
   "cell_type": "code",
   "execution_count": 2,
   "metadata": {},
   "outputs": [],
   "source": [
    "EXPERIMENT_NAME = 'P3856'"
   ]
  },
  {
   "cell_type": "code",
   "execution_count": 3,
   "metadata": {},
   "outputs": [],
   "source": [
    "MZ_TOLERANCE_PPM = 5\n",
    "MZ_TOLERANCE_PERCENT = MZ_TOLERANCE_PPM * 10**-4\n",
    "SCAN_TOLERANCE = 2\n",
    "RT_TOLERANCE = 1"
   ]
  },
  {
   "cell_type": "code",
   "execution_count": 21,
   "metadata": {},
   "outputs": [],
   "source": [
    "# load the detected features\n",
    "EXPERIMENT_DIR = '/Users/darylwilding-mcbride/Downloads/experiments/{}'.format(EXPERIMENT_NAME)\n",
    "# PASEF\n",
    "# FEATURES_FILE_NAME = '{}/features/P3856_YHE211_1-features.pkl'.format(EXPERIMENT_DIR)\n",
    "# DEDUP_FEATURES_FILE_NAME = '{}/features/P3856_YHE211_1-features-dedup.pkl'.format(EXPERIMENT_DIR)\n",
    "# 3DID\n",
    "FEATURES_FILE_NAME = '{}/features-3did/experiment-features.pkl'.format(EXPERIMENT_DIR)\n",
    "DEDUP_FEATURES_FILE_NAME = '{}/features-3did/experiment-features-dedup.pkl'.format(EXPERIMENT_DIR)\n",
    "\n",
    "# EXPERIMENT_DIR = '/data2/experiments/{}'.format(EXPERIMENT_NAME)\n",
    "# FEATURES_FILE_NAME = '{}/recalibrated-features/experiment-features.pkl'.format(EXPERIMENT_DIR)"
   ]
  },
  {
   "cell_type": "code",
   "execution_count": 22,
   "metadata": {},
   "outputs": [],
   "source": [
    "perc_id = 29\n",
    "\n",
    "# MAPPING_FILE = '{}/recalibrated-percolator-output/percolator-idx-mapping.csv'.format(EXPERIMENT_DIR)\n",
    "# SELECTED_RUN = 'P3856_YHE211_1_Slot1-1_1_5104'\n",
    "# map_df = pd.read_csv(MAPPING_FILE, sep=',')\n",
    "# perc_id = map_df[(map_df.run_name == SELECTED_RUN)].iloc[0].file_idx"
   ]
  },
  {
   "cell_type": "code",
   "execution_count": 24,
   "metadata": {},
   "outputs": [],
   "source": [
    "features_df = pd.read_pickle(FEATURES_FILE_NAME)\n",
    "# features_df = features_df[(features_df.percolator_idx == perc_id)]"
   ]
  },
  {
   "cell_type": "code",
   "execution_count": 25,
   "metadata": {},
   "outputs": [
    {
     "name": "stdout",
     "output_type": "stream",
     "text": [
      "there are 24400 features priot to de-dup\n"
     ]
    }
   ],
   "source": [
    "print('there are {} features priot to de-dup'.format(len(features_df)))"
   ]
  },
  {
   "cell_type": "code",
   "execution_count": 26,
   "metadata": {},
   "outputs": [
    {
     "data": {
      "text/plain": [
       "Index(['monoisotopic_mz', 'charge', 'intensity', 'intensity_full_rt_extent',\n",
       "       'scan_apex', 'scan_curve_fit', 'scan_lower', 'scan_upper', 'rt_apex',\n",
       "       'rt_curve_fit', 'rt_lower', 'rt_upper', 'precursor_id', 'envelope',\n",
       "       'feature_id', 'candidate_phr_error', 'mono_adjusted',\n",
       "       'original_phr_error', 'original_phr', 'monoisotopic_mass', 'run_name'],\n",
       "      dtype='object')"
      ]
     },
     "execution_count": 26,
     "metadata": {},
     "output_type": "execute_result"
    }
   ],
   "source": [
    "features_df.columns"
   ]
  },
  {
   "cell_type": "code",
   "execution_count": 29,
   "metadata": {},
   "outputs": [],
   "source": [
    "# features_df['mz'] = features_df.recalibrated_monoisotopic_mz  # shorthand to reduce verbosity\n",
    "features_df['mz'] = features_df.monoisotopic_mz  # shorthand to reduce verbosity\n",
    "features_df['mz_ppm_tolerance'] = features_df.mz * MZ_TOLERANCE_PERCENT / 100\n",
    "features_df['mz_lower'] = features_df.mz - features_df.mz_ppm_tolerance\n",
    "features_df['mz_upper'] = features_df.mz + features_df.mz_ppm_tolerance\n",
    "features_df['scan_lower'] = features_df.scan_apex - SCAN_TOLERANCE\n",
    "features_df['scan_upper'] = features_df.scan_apex + SCAN_TOLERANCE\n",
    "features_df['rt_lower'] = features_df.rt_apex - RT_TOLERANCE\n",
    "features_df['rt_upper'] = features_df.rt_apex + RT_TOLERANCE\n",
    "# features_df['composite_key'] = features_df.apply(lambda row: '{},{},{}'.format(row.feature_id, row.precursor_id, row.percolator_idx), axis=1)\n",
    "features_df['composite_key'] = features_df.apply(lambda row: '{},{}'.format(row.feature_id, row.precursor_id), axis=1)"
   ]
  },
  {
   "cell_type": "code",
   "execution_count": 30,
   "metadata": {},
   "outputs": [],
   "source": [
    "# remove these after we're finished\n",
    "columns_to_drop_l = []\n",
    "columns_to_drop_l.append('mz')\n",
    "columns_to_drop_l.append('mz_ppm_tolerance')\n",
    "columns_to_drop_l.append('mz_lower')\n",
    "columns_to_drop_l.append('mz_upper')\n",
    "columns_to_drop_l.append('scan_lower')\n",
    "columns_to_drop_l.append('scan_upper')\n",
    "columns_to_drop_l.append('rt_lower')\n",
    "columns_to_drop_l.append('rt_upper')\n",
    "columns_to_drop_l.append('composite_key')\n"
   ]
  },
  {
   "cell_type": "code",
   "execution_count": 31,
   "metadata": {},
   "outputs": [],
   "source": [
    "features_df.sort_values(by=['intensity'], ascending=False, inplace=True)"
   ]
  },
  {
   "cell_type": "code",
   "execution_count": 32,
   "metadata": {},
   "outputs": [],
   "source": [
    "# see if any detections have a duplicate - if so, find the dup with the highest intensity and keep it\n",
    "keep_l = []\n",
    "for row in features_df.itertuples():\n",
    "    dup_df = features_df[(features_df.mz > row.mz_lower) & (features_df.mz < row.mz_upper) & (features_df.scan_apex > row.scan_lower) & (features_df.scan_apex < row.scan_upper) & (features_df.rt_apex > row.rt_lower) & (features_df.rt_apex < row.rt_upper)].copy()\n",
    "    # group the dups by charge - take the most intense for each charge\n",
    "    for group_name,group_df in dup_df.groupby(['charge'], as_index=False):\n",
    "        keep_l.append(group_df.iloc[0].composite_key)\n"
   ]
  },
  {
   "cell_type": "code",
   "execution_count": 33,
   "metadata": {},
   "outputs": [],
   "source": [
    "# remove any extractions that are not in the keep list\n",
    "dedup_df = features_df[features_df.composite_key.isin(keep_l)].copy()"
   ]
  },
  {
   "cell_type": "code",
   "execution_count": 34,
   "metadata": {},
   "outputs": [
    {
     "name": "stdout",
     "output_type": "stream",
     "text": [
      "removed 333 duplicates (1% of the original detections)\n",
      "there are 24067 detected de-duplicated features\n"
     ]
    }
   ],
   "source": [
    "number_of_dups = len(features_df)-len(dedup_df)\n",
    "print('removed {} duplicates ({}% of the original detections)'.format(number_of_dups, round(number_of_dups/len(features_df)*100)))\n",
    "print('there are {} detected de-duplicated features'.format(len(dedup_df)))"
   ]
  },
  {
   "cell_type": "code",
   "execution_count": 35,
   "metadata": {},
   "outputs": [],
   "source": [
    "# remove the columns we added earlier\n",
    "dedup_df.drop(columns_to_drop_l, axis=1, inplace=True)"
   ]
  },
  {
   "cell_type": "code",
   "execution_count": 36,
   "metadata": {},
   "outputs": [
    {
     "data": {
      "text/html": [
       "<div>\n",
       "<style scoped>\n",
       "    .dataframe tbody tr th:only-of-type {\n",
       "        vertical-align: middle;\n",
       "    }\n",
       "\n",
       "    .dataframe tbody tr th {\n",
       "        vertical-align: top;\n",
       "    }\n",
       "\n",
       "    .dataframe thead th {\n",
       "        text-align: right;\n",
       "    }\n",
       "</style>\n",
       "<table border=\"1\" class=\"dataframe\">\n",
       "  <thead>\n",
       "    <tr style=\"text-align: right;\">\n",
       "      <th></th>\n",
       "      <th>monoisotopic_mz</th>\n",
       "      <th>charge</th>\n",
       "      <th>intensity</th>\n",
       "      <th>intensity_full_rt_extent</th>\n",
       "      <th>scan_apex</th>\n",
       "      <th>scan_curve_fit</th>\n",
       "      <th>rt_apex</th>\n",
       "      <th>rt_curve_fit</th>\n",
       "      <th>precursor_id</th>\n",
       "      <th>envelope</th>\n",
       "      <th>feature_id</th>\n",
       "      <th>candidate_phr_error</th>\n",
       "      <th>mono_adjusted</th>\n",
       "      <th>original_phr_error</th>\n",
       "      <th>original_phr</th>\n",
       "      <th>monoisotopic_mass</th>\n",
       "      <th>run_name</th>\n",
       "    </tr>\n",
       "  </thead>\n",
       "  <tbody>\n",
       "    <tr>\n",
       "      <th>1</th>\n",
       "      <td>705.060853</td>\n",
       "      <td>1</td>\n",
       "      <td>1079.0</td>\n",
       "      <td>591</td>\n",
       "      <td>563.15</td>\n",
       "      <td>False</td>\n",
       "      <td>1694.90</td>\n",
       "      <td>False</td>\n",
       "      <td>3788</td>\n",
       "      <td>((705.0609, 591.00), (706.0585, 488.00), (707....</td>\n",
       "      <td>378802</td>\n",
       "      <td>None</td>\n",
       "      <td>False</td>\n",
       "      <td>1.19888</td>\n",
       "      <td>0.825719</td>\n",
       "      <td>704.053553</td>\n",
       "      <td>P3856_YHE211_1_Slot1-1_1_5104</td>\n",
       "    </tr>\n",
       "    <tr>\n",
       "      <th>0</th>\n",
       "      <td>848.927529</td>\n",
       "      <td>2</td>\n",
       "      <td>54134.0</td>\n",
       "      <td>20649</td>\n",
       "      <td>393.42</td>\n",
       "      <td>True</td>\n",
       "      <td>1703.37</td>\n",
       "      <td>False</td>\n",
       "      <td>9199</td>\n",
       "      <td>((848.9274, 21147.00), (849.4293, 20378.00), (...</td>\n",
       "      <td>919901</td>\n",
       "      <td>NaN</td>\n",
       "      <td>False</td>\n",
       "      <td>0.0544124</td>\n",
       "      <td>0.963636</td>\n",
       "      <td>1695.840458</td>\n",
       "      <td>P3856_YHE211_1_Slot1-1_1_5104</td>\n",
       "    </tr>\n",
       "    <tr>\n",
       "      <th>1</th>\n",
       "      <td>918.229762</td>\n",
       "      <td>1</td>\n",
       "      <td>434.0</td>\n",
       "      <td>104</td>\n",
       "      <td>338.00</td>\n",
       "      <td>False</td>\n",
       "      <td>1930.43</td>\n",
       "      <td>False</td>\n",
       "      <td>11294</td>\n",
       "      <td>((918.2454, 269.00), (919.2494, 165.00), (920....</td>\n",
       "      <td>1129402</td>\n",
       "      <td>None</td>\n",
       "      <td>False</td>\n",
       "      <td>0.25025</td>\n",
       "      <td>0.613383</td>\n",
       "      <td>917.222462</td>\n",
       "      <td>P3856_YHE211_1_Slot1-1_1_5104</td>\n",
       "    </tr>\n",
       "  </tbody>\n",
       "</table>\n",
       "</div>"
      ],
      "text/plain": [
       "   monoisotopic_mz  charge  intensity  intensity_full_rt_extent  scan_apex  \\\n",
       "1       705.060853       1     1079.0                       591     563.15   \n",
       "0       848.927529       2    54134.0                     20649     393.42   \n",
       "1       918.229762       1      434.0                       104     338.00   \n",
       "\n",
       "   scan_curve_fit  rt_apex  rt_curve_fit  precursor_id  \\\n",
       "1           False  1694.90         False          3788   \n",
       "0            True  1703.37         False          9199   \n",
       "1           False  1930.43         False         11294   \n",
       "\n",
       "                                            envelope  feature_id  \\\n",
       "1  ((705.0609, 591.00), (706.0585, 488.00), (707....      378802   \n",
       "0  ((848.9274, 21147.00), (849.4293, 20378.00), (...      919901   \n",
       "1  ((918.2454, 269.00), (919.2494, 165.00), (920....     1129402   \n",
       "\n",
       "  candidate_phr_error  mono_adjusted original_phr_error  original_phr  \\\n",
       "1                None          False            1.19888      0.825719   \n",
       "0                 NaN          False          0.0544124      0.963636   \n",
       "1                None          False            0.25025      0.613383   \n",
       "\n",
       "   monoisotopic_mass                       run_name  \n",
       "1         704.053553  P3856_YHE211_1_Slot1-1_1_5104  \n",
       "0        1695.840458  P3856_YHE211_1_Slot1-1_1_5104  \n",
       "1         917.222462  P3856_YHE211_1_Slot1-1_1_5104  "
      ]
     },
     "execution_count": 36,
     "metadata": {},
     "output_type": "execute_result"
    }
   ],
   "source": [
    "dedup_df.sample(n=3)"
   ]
  },
  {
   "cell_type": "code",
   "execution_count": 37,
   "metadata": {},
   "outputs": [],
   "source": [
    "dedup_df.to_pickle(DEDUP_FEATURES_FILE_NAME)"
   ]
  },
  {
   "cell_type": "code",
   "execution_count": null,
   "metadata": {},
   "outputs": [],
   "source": []
  }
 ],
 "metadata": {
  "kernelspec": {
   "display_name": "Python 3",
   "language": "python",
   "name": "python3"
  },
  "language_info": {
   "codemirror_mode": {
    "name": "ipython",
    "version": 3
   },
   "file_extension": ".py",
   "mimetype": "text/x-python",
   "name": "python",
   "nbconvert_exporter": "python",
   "pygments_lexer": "ipython3",
   "version": "3.6.8"
  }
 },
 "nbformat": 4,
 "nbformat_minor": 4
}
