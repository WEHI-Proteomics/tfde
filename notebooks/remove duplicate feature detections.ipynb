{
 "cells": [
  {
   "cell_type": "code",
   "execution_count": 1,
   "metadata": {},
   "outputs": [],
   "source": [
    "import pandas as pd\n",
    "import numpy as np\n",
    "import sqlite3\n",
    "import json\n",
    "import matplotlib.pyplot as plt\n",
    "import seaborn as sns\n",
    "%matplotlib inline"
   ]
  },
  {
   "cell_type": "code",
   "execution_count": 2,
   "metadata": {},
   "outputs": [],
   "source": [
    "EXPERIMENT_NAME = 'P3856'"
   ]
  },
  {
   "cell_type": "code",
   "execution_count": 3,
   "metadata": {},
   "outputs": [],
   "source": [
    "MZ_TOLERANCE_PPM = 5\n",
    "MZ_TOLERANCE_PERCENT = MZ_TOLERANCE_PPM * 10**-4\n",
    "SCAN_TOLERANCE = 2\n",
    "RT_TOLERANCE = 1"
   ]
  },
  {
   "cell_type": "code",
   "execution_count": 4,
   "metadata": {},
   "outputs": [],
   "source": [
    "# load the detected features\n",
    "# EXPERIMENT_DIR = '/Users/darylwilding-mcbride/Downloads/experiments/{}'.format(EXPERIMENT_NAME)\n",
    "EXPERIMENT_DIR = '/data2/experiments/{}'.format(EXPERIMENT_NAME)\n",
    "FEATURES_FILE_NAME = '{}/recalibrated-features/experiment-features.pkl'.format(EXPERIMENT_DIR)"
   ]
  },
  {
   "cell_type": "code",
   "execution_count": 5,
   "metadata": {},
   "outputs": [],
   "source": [
    "MAPPING_FILE = '{}/recalibrated-percolator-output/percolator-idx-mapping.csv'.format(EXPERIMENT_DIR)\n",
    "SELECTED_RUN = 'P3856_YHE211_1_Slot1-1_1_5104'\n",
    "map_df = pd.read_csv(MAPPING_FILE, sep=',')\n",
    "perc_id = map_df[(map_df.run_name == SELECTED_RUN)].iloc[0].file_idx"
   ]
  },
  {
   "cell_type": "code",
   "execution_count": 6,
   "metadata": {},
   "outputs": [],
   "source": [
    "features_df = pd.read_pickle(FEATURES_FILE_NAME)\n",
    "features_df = features_df[(features_df.percolator_idx == perc_id)]"
   ]
  },
  {
   "cell_type": "code",
   "execution_count": 7,
   "metadata": {},
   "outputs": [
    {
     "data": {
      "text/plain": [
       "Index(['feature_id', 'charge', 'rt_apex', 'rt_peak_width', 'scan_apex',\n",
       "       'scan_peak_width', 'intensity', 'precursor_id', 'monoisotopic_mass',\n",
       "       'predicted_mass_error', 'recalibrated_monoisotopic_mass',\n",
       "       'recalibrated_monoisotopic_mz', 'percolator_idx'],\n",
       "      dtype='object')"
      ]
     },
     "execution_count": 7,
     "metadata": {},
     "output_type": "execute_result"
    }
   ],
   "source": [
    "features_df.columns"
   ]
  },
  {
   "cell_type": "code",
   "execution_count": 8,
   "metadata": {},
   "outputs": [],
   "source": [
    "features_df['mz'] = features_df.recalibrated_monoisotopic_mz  # shorthand to reduce verbosity\n",
    "features_df['mz_ppm_tolerance'] = features_df.mz * MZ_TOLERANCE_PERCENT / 100\n",
    "features_df['mz_lower'] = features_df.mz - features_df.mz_ppm_tolerance\n",
    "features_df['mz_upper'] = features_df.mz + features_df.mz_ppm_tolerance\n",
    "features_df['scan_lower'] = features_df.scan_apex - SCAN_TOLERANCE\n",
    "features_df['scan_upper'] = features_df.scan_apex + SCAN_TOLERANCE\n",
    "features_df['rt_lower'] = features_df.rt_apex - RT_TOLERANCE\n",
    "features_df['rt_upper'] = features_df.rt_apex + RT_TOLERANCE\n",
    "features_df['composite_key'] = features_df.apply(lambda row: '{},{},{}'.format(row.feature_id, row.precursor_id, row.percolator_idx), axis=1)\n"
   ]
  },
  {
   "cell_type": "code",
   "execution_count": 13,
   "metadata": {},
   "outputs": [],
   "source": [
    "# remove these after we're finished\n",
    "columns_to_drop_l = []\n",
    "columns_to_drop_l.append('mz')\n",
    "columns_to_drop_l.append('mz_ppm_tolerance')\n",
    "columns_to_drop_l.append('mz_lower')\n",
    "columns_to_drop_l.append('mz_upper')\n",
    "columns_to_drop_l.append('scan_lower')\n",
    "columns_to_drop_l.append('scan_upper')\n",
    "columns_to_drop_l.append('rt_lower')\n",
    "columns_to_drop_l.append('rt_upper')\n",
    "columns_to_drop_l.append('composite_key')\n"
   ]
  },
  {
   "cell_type": "code",
   "execution_count": 14,
   "metadata": {},
   "outputs": [],
   "source": [
    "features_df.sort_values(by=['intensity'], ascending=False, inplace=True)"
   ]
  },
  {
   "cell_type": "code",
   "execution_count": 15,
   "metadata": {},
   "outputs": [],
   "source": [
    "# see if any detections have a duplicate - if so, find the dup with the highest intensity and keep it\n",
    "keep_l = []\n",
    "for row in features_df.itertuples():\n",
    "    dup_df = features_df[(features_df.mz > row.mz_lower) & (features_df.mz < row.mz_upper) & (features_df.scan_apex > row.scan_lower) & (features_df.scan_apex < row.scan_upper) & (features_df.rt_apex > row.rt_lower) & (features_df.rt_apex < row.rt_upper)].copy()\n",
    "    # group the dups by charge - take the most intense for each charge\n",
    "    for group_name,group_df in dup_df.groupby(['charge'], as_index=False):\n",
    "        keep_l.append(group_df.iloc[0].composite_key)\n"
   ]
  },
  {
   "cell_type": "code",
   "execution_count": 16,
   "metadata": {},
   "outputs": [],
   "source": [
    "# remove any extractions that are not in the keep list\n",
    "dedup_df = features_df[features_df.composite_key.isin(keep_l)].copy()"
   ]
  },
  {
   "cell_type": "code",
   "execution_count": 26,
   "metadata": {},
   "outputs": [
    {
     "name": "stdout",
     "output_type": "stream",
     "text": [
      "removed 23544 duplicates (10% of the original detections)\n",
      "there are 211333 detected de-duplicated features\n"
     ]
    }
   ],
   "source": [
    "number_of_dups = len(features_df)-len(dedup_df)\n",
    "print('removed {} duplicates ({}% of the original detections)'.format(number_of_dups, round(number_of_dups/len(features_df)*100)))\n",
    "print('there are {} detected de-duplicated features'.format(len(dedup_df)))"
   ]
  },
  {
   "cell_type": "code",
   "execution_count": 20,
   "metadata": {},
   "outputs": [],
   "source": [
    "# remove the columns we added earlier\n",
    "dedup_df.drop(columns_to_drop_l, axis=1, inplace=True)"
   ]
  },
  {
   "cell_type": "code",
   "execution_count": 21,
   "metadata": {},
   "outputs": [
    {
     "data": {
      "text/html": [
       "<div>\n",
       "<style scoped>\n",
       "    .dataframe tbody tr th:only-of-type {\n",
       "        vertical-align: middle;\n",
       "    }\n",
       "\n",
       "    .dataframe tbody tr th {\n",
       "        vertical-align: top;\n",
       "    }\n",
       "\n",
       "    .dataframe thead th {\n",
       "        text-align: right;\n",
       "    }\n",
       "</style>\n",
       "<table border=\"1\" class=\"dataframe\">\n",
       "  <thead>\n",
       "    <tr style=\"text-align: right;\">\n",
       "      <th></th>\n",
       "      <th>feature_id</th>\n",
       "      <th>charge</th>\n",
       "      <th>rt_apex</th>\n",
       "      <th>rt_peak_width</th>\n",
       "      <th>scan_apex</th>\n",
       "      <th>scan_peak_width</th>\n",
       "      <th>intensity</th>\n",
       "      <th>precursor_id</th>\n",
       "      <th>monoisotopic_mass</th>\n",
       "      <th>predicted_mass_error</th>\n",
       "      <th>recalibrated_monoisotopic_mass</th>\n",
       "      <th>recalibrated_monoisotopic_mz</th>\n",
       "      <th>percolator_idx</th>\n",
       "    </tr>\n",
       "  </thead>\n",
       "  <tbody>\n",
       "    <tr>\n",
       "      <th>2</th>\n",
       "      <td>4339703</td>\n",
       "      <td>2</td>\n",
       "      <td>2192.04</td>\n",
       "      <td>20.00</td>\n",
       "      <td>302.04</td>\n",
       "      <td>75.00</td>\n",
       "      <td>12652.309906</td>\n",
       "      <td>43397</td>\n",
       "      <td>1993.662062</td>\n",
       "      <td>0.002621</td>\n",
       "      <td>1993.659441</td>\n",
       "      <td>997.836996</td>\n",
       "      <td>29</td>\n",
       "    </tr>\n",
       "    <tr>\n",
       "      <th>4</th>\n",
       "      <td>4616905</td>\n",
       "      <td>1</td>\n",
       "      <td>2236.12</td>\n",
       "      <td>20.00</td>\n",
       "      <td>432.58</td>\n",
       "      <td>75.00</td>\n",
       "      <td>2983.000000</td>\n",
       "      <td>46169</td>\n",
       "      <td>848.831008</td>\n",
       "      <td>-0.000848</td>\n",
       "      <td>848.831855</td>\n",
       "      <td>849.839131</td>\n",
       "      <td>29</td>\n",
       "    </tr>\n",
       "    <tr>\n",
       "      <th>0</th>\n",
       "      <td>2289301</td>\n",
       "      <td>2</td>\n",
       "      <td>1879.27</td>\n",
       "      <td>5.97</td>\n",
       "      <td>220.57</td>\n",
       "      <td>48.73</td>\n",
       "      <td>224693.000000</td>\n",
       "      <td>22893</td>\n",
       "      <td>2087.988752</td>\n",
       "      <td>-0.000600</td>\n",
       "      <td>2087.989352</td>\n",
       "      <td>1045.001952</td>\n",
       "      <td>29</td>\n",
       "    </tr>\n",
       "  </tbody>\n",
       "</table>\n",
       "</div>"
      ],
      "text/plain": [
       "   feature_id  charge  rt_apex  rt_peak_width  scan_apex  scan_peak_width  \\\n",
       "2     4339703       2  2192.04          20.00     302.04            75.00   \n",
       "4     4616905       1  2236.12          20.00     432.58            75.00   \n",
       "0     2289301       2  1879.27           5.97     220.57            48.73   \n",
       "\n",
       "       intensity  precursor_id  monoisotopic_mass  predicted_mass_error  \\\n",
       "2   12652.309906         43397        1993.662062              0.002621   \n",
       "4    2983.000000         46169         848.831008             -0.000848   \n",
       "0  224693.000000         22893        2087.988752             -0.000600   \n",
       "\n",
       "   recalibrated_monoisotopic_mass  recalibrated_monoisotopic_mz  \\\n",
       "2                     1993.659441                    997.836996   \n",
       "4                      848.831855                    849.839131   \n",
       "0                     2087.989352                   1045.001952   \n",
       "\n",
       "   percolator_idx  \n",
       "2              29  \n",
       "4              29  \n",
       "0              29  "
      ]
     },
     "execution_count": 21,
     "metadata": {},
     "output_type": "execute_result"
    }
   ],
   "source": [
    "dedup_df.sample(n=3)"
   ]
  },
  {
   "cell_type": "code",
   "execution_count": 27,
   "metadata": {},
   "outputs": [],
   "source": [
    "dedup_df.to_pickle('/home/ubuntu/P3856_YHE211_1_Slot1-1_1_5104-dedup-features.pkl')"
   ]
  },
  {
   "cell_type": "code",
   "execution_count": null,
   "metadata": {},
   "outputs": [],
   "source": []
  }
 ],
 "metadata": {
  "kernelspec": {
   "display_name": "Python 3",
   "language": "python",
   "name": "python3"
  },
  "language_info": {
   "codemirror_mode": {
    "name": "ipython",
    "version": 3
   },
   "file_extension": ".py",
   "mimetype": "text/x-python",
   "name": "python",
   "nbconvert_exporter": "python",
   "pygments_lexer": "ipython3",
   "version": "3.6.8"
  }
 },
 "nbformat": 4,
 "nbformat_minor": 4
}
