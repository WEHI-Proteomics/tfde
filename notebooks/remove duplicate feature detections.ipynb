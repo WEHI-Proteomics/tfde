{
 "cells": [
  {
   "cell_type": "code",
   "execution_count": 1,
   "metadata": {},
   "outputs": [],
   "source": [
    "import pandas as pd\n",
    "import numpy as np\n",
    "import sqlite3\n",
    "import json\n",
    "import matplotlib.pyplot as plt\n",
    "import seaborn as sns\n",
    "%matplotlib inline"
   ]
  },
  {
   "cell_type": "code",
   "execution_count": 2,
   "metadata": {},
   "outputs": [],
   "source": [
    "EXPERIMENT_NAME = 'P3856'\n",
    "RUN_NAME = 'P3856_YHE211_1_Slot1-1_1_5104'"
   ]
  },
  {
   "cell_type": "code",
   "execution_count": 3,
   "metadata": {},
   "outputs": [],
   "source": [
    "MZ_TOLERANCE_PPM = 5\n",
    "MZ_TOLERANCE_PERCENT = MZ_TOLERANCE_PPM * 10**-4\n",
    "SCAN_TOLERANCE = 2\n",
    "RT_TOLERANCE = 1"
   ]
  },
  {
   "cell_type": "markdown",
   "metadata": {},
   "source": [
    "##### 3DID parameters"
   ]
  },
  {
   "cell_type": "code",
   "execution_count": 4,
   "metadata": {},
   "outputs": [],
   "source": [
    "# load the detected features\n",
    "EXPERIMENT_DIR = '/data2/experiments/{}'.format(EXPERIMENT_NAME)\n",
    "FEATURES_DIR = '{}/features-3did'.format(EXPERIMENT_DIR)\n",
    "FEATURES_FILE = '{}/exp-{}-run-{}-features-3did.pkl'.format(FEATURES_DIR, EXPERIMENT_NAME, RUN_NAME)\n",
    "FEATURES_DEDUP_FILE = '{}/exp-{}-run-{}-features-3did-dedup.pkl'.format(FEATURES_DIR, EXPERIMENT_NAME, RUN_NAME)\n",
    "MZ_COLUMN_NAME = 'monoisotopic_mz'"
   ]
  },
  {
   "cell_type": "code",
   "execution_count": 5,
   "metadata": {},
   "outputs": [],
   "source": [
    "features_df = pd.read_pickle(FEATURES_FILE)"
   ]
  },
  {
   "cell_type": "markdown",
   "metadata": {},
   "source": [
    "##### PASEF parameters"
   ]
  },
  {
   "cell_type": "raw",
   "metadata": {},
   "source": [
    "# load the detected features\n",
    "EXPERIMENT_DIR = '/data2/experiments/{}'.format(EXPERIMENT_NAME)\n",
    "FEATURES_DIR = '{}/recalibrated-features'.format(EXPERIMENT_DIR)\n",
    "FEATURES_FILE = '{}/experiment-features.pkl'.format(FEATURES_DIR)\n",
    "FEATURES_DEDUP_FILE = '{}/exp-{}-run-{}-features-pasef-dedup.pkl'.format(FEATURES_DIR, EXPERIMENT_NAME, RUN_NAME)\n",
    "MZ_COLUMN_NAME = 'recalibrated_monoisotopic_mz'"
   ]
  },
  {
   "cell_type": "raw",
   "metadata": {},
   "source": [
    "perc_id = 29\n",
    "RT_LOWER = 1650\n",
    "RT_UPPER = 2200\n",
    "\n",
    "features_df = pd.read_pickle(FEATURES_FILE)\n",
    "features_df = features_df[(features_df.percolator_idx == perc_id) & (features_df.rt_apex >= RT_LOWER) & (features_df.rt_apex <= RT_UPPER)]"
   ]
  },
  {
   "cell_type": "code",
   "execution_count": 6,
   "metadata": {},
   "outputs": [
    {
     "name": "stdout",
     "output_type": "stream",
     "text": [
      "there are 177134 features prior to de-dup\n"
     ]
    }
   ],
   "source": [
    "print('there are {} features prior to de-dup'.format(len(features_df)))"
   ]
  },
  {
   "cell_type": "code",
   "execution_count": 7,
   "metadata": {},
   "outputs": [],
   "source": [
    "# features_df['mz'] = features_df.recalibrated_monoisotopic_mz  # shorthand to reduce verbosity\n",
    "features_df['mz'] = features_df[MZ_COLUMN_NAME]  # shorthand to reduce verbosity\n",
    "features_df['mz_ppm_tolerance'] = features_df.mz * MZ_TOLERANCE_PERCENT / 100\n",
    "features_df['mz_lower'] = features_df.mz - features_df.mz_ppm_tolerance\n",
    "features_df['mz_upper'] = features_df.mz + features_df.mz_ppm_tolerance\n",
    "features_df['scan_lower'] = features_df.scan_apex - SCAN_TOLERANCE\n",
    "features_df['scan_upper'] = features_df.scan_apex + SCAN_TOLERANCE\n",
    "features_df['rt_lower'] = features_df.rt_apex - RT_TOLERANCE\n",
    "features_df['rt_upper'] = features_df.rt_apex + RT_TOLERANCE\n",
    "# features_df['composite_key'] = features_df.apply(lambda row: '{},{},{}'.format(row.feature_id, row.precursor_id, row.percolator_idx), axis=1)\n",
    "features_df['composite_key'] = features_df.apply(lambda row: '{},{}'.format(row.feature_id, row.precursor_id), axis=1)"
   ]
  },
  {
   "cell_type": "code",
   "execution_count": 8,
   "metadata": {},
   "outputs": [],
   "source": [
    "# remove these after we're finished\n",
    "columns_to_drop_l = []\n",
    "columns_to_drop_l.append('mz')\n",
    "columns_to_drop_l.append('mz_ppm_tolerance')\n",
    "columns_to_drop_l.append('mz_lower')\n",
    "columns_to_drop_l.append('mz_upper')\n",
    "columns_to_drop_l.append('scan_lower')\n",
    "columns_to_drop_l.append('scan_upper')\n",
    "columns_to_drop_l.append('rt_lower')\n",
    "columns_to_drop_l.append('rt_upper')\n",
    "columns_to_drop_l.append('composite_key')\n"
   ]
  },
  {
   "cell_type": "code",
   "execution_count": 9,
   "metadata": {},
   "outputs": [],
   "source": [
    "features_df.sort_values(by=['intensity'], ascending=False, inplace=True)"
   ]
  },
  {
   "cell_type": "code",
   "execution_count": 10,
   "metadata": {},
   "outputs": [],
   "source": [
    "# see if any detections have a duplicate - if so, find the dup with the highest intensity and keep it\n",
    "keep_l = []\n",
    "for row in features_df.itertuples():\n",
    "    dup_df = features_df[(features_df.mz > row.mz_lower) & (features_df.mz < row.mz_upper) & (features_df.scan_apex > row.scan_lower) & (features_df.scan_apex < row.scan_upper) & (features_df.rt_apex > row.rt_lower) & (features_df.rt_apex < row.rt_upper)].copy()\n",
    "    # group the dups by charge - take the most intense for each charge\n",
    "    for group_name,group_df in dup_df.groupby(['charge'], as_index=False):\n",
    "        keep_l.append(group_df.iloc[0].composite_key)\n"
   ]
  },
  {
   "cell_type": "code",
   "execution_count": 11,
   "metadata": {},
   "outputs": [],
   "source": [
    "# remove any features that are not in the keep list\n",
    "dedup_df = features_df[features_df.composite_key.isin(keep_l)].copy()"
   ]
  },
  {
   "cell_type": "code",
   "execution_count": 12,
   "metadata": {},
   "outputs": [
    {
     "name": "stdout",
     "output_type": "stream",
     "text": [
      "removed 587 duplicates (0% of the original detections)\n",
      "there are 176547 detected de-duplicated features\n"
     ]
    }
   ],
   "source": [
    "number_of_dups = len(features_df)-len(dedup_df)\n",
    "print('removed {} duplicates ({}% of the original detections)'.format(number_of_dups, round(number_of_dups/len(features_df)*100)))\n",
    "print('there are {} detected de-duplicated features'.format(len(dedup_df)))"
   ]
  },
  {
   "cell_type": "code",
   "execution_count": 13,
   "metadata": {},
   "outputs": [],
   "source": [
    "# remove the columns we added earlier\n",
    "dedup_df.drop(columns_to_drop_l, axis=1, inplace=True)"
   ]
  },
  {
   "cell_type": "code",
   "execution_count": 14,
   "metadata": {},
   "outputs": [
    {
     "data": {
      "text/html": [
       "<div>\n",
       "<style scoped>\n",
       "    .dataframe tbody tr th:only-of-type {\n",
       "        vertical-align: middle;\n",
       "    }\n",
       "\n",
       "    .dataframe tbody tr th {\n",
       "        vertical-align: top;\n",
       "    }\n",
       "\n",
       "    .dataframe thead th {\n",
       "        text-align: right;\n",
       "    }\n",
       "</style>\n",
       "<table border=\"1\" class=\"dataframe\">\n",
       "  <thead>\n",
       "    <tr style=\"text-align: right;\">\n",
       "      <th></th>\n",
       "      <th>monoisotopic_mz</th>\n",
       "      <th>charge</th>\n",
       "      <th>intensity</th>\n",
       "      <th>intensity_full_rt_extent</th>\n",
       "      <th>scan_apex</th>\n",
       "      <th>scan_curve_fit</th>\n",
       "      <th>rt_apex</th>\n",
       "      <th>rt_curve_fit</th>\n",
       "      <th>precursor_id</th>\n",
       "      <th>envelope</th>\n",
       "      <th>feature_id</th>\n",
       "      <th>mono_adjusted</th>\n",
       "      <th>original_phr_error</th>\n",
       "      <th>candidate_phr_error</th>\n",
       "      <th>original_phr</th>\n",
       "      <th>monoisotopic_mass</th>\n",
       "    </tr>\n",
       "  </thead>\n",
       "  <tbody>\n",
       "    <tr>\n",
       "      <th>0</th>\n",
       "      <td>753.342420</td>\n",
       "      <td>2</td>\n",
       "      <td>21330.0</td>\n",
       "      <td>6292</td>\n",
       "      <td>490.25</td>\n",
       "      <td>False</td>\n",
       "      <td>1675.39</td>\n",
       "      <td>True</td>\n",
       "      <td>16024</td>\n",
       "      <td>((753.3617, 8737.00), (753.8555, 7196.00), (75...</td>\n",
       "      <td>1602401</td>\n",
       "      <td>False</td>\n",
       "      <td>0.0172935</td>\n",
       "      <td>None</td>\n",
       "      <td>0.823624</td>\n",
       "      <td>1504.670241</td>\n",
       "    </tr>\n",
       "    <tr>\n",
       "      <th>0</th>\n",
       "      <td>651.343369</td>\n",
       "      <td>2</td>\n",
       "      <td>51140.0</td>\n",
       "      <td>3488</td>\n",
       "      <td>723.36</td>\n",
       "      <td>True</td>\n",
       "      <td>1925.89</td>\n",
       "      <td>True</td>\n",
       "      <td>5015</td>\n",
       "      <td>((651.3407, 22115.00), (651.8427, 19729.00), (...</td>\n",
       "      <td>501501</td>\n",
       "      <td>False</td>\n",
       "      <td>0.277054</td>\n",
       "      <td>2.68047</td>\n",
       "      <td>0.892109</td>\n",
       "      <td>1300.672139</td>\n",
       "    </tr>\n",
       "    <tr>\n",
       "      <th>0</th>\n",
       "      <td>879.436726</td>\n",
       "      <td>3</td>\n",
       "      <td>70325.0</td>\n",
       "      <td>4944</td>\n",
       "      <td>331.24</td>\n",
       "      <td>False</td>\n",
       "      <td>2095.77</td>\n",
       "      <td>False</td>\n",
       "      <td>32114</td>\n",
       "      <td>((879.4338, 14065.00), (879.4338, 14065.00), (...</td>\n",
       "      <td>3211401</td>\n",
       "      <td>False</td>\n",
       "      <td>-0.299731</td>\n",
       "      <td>6.60402</td>\n",
       "      <td>1.000000</td>\n",
       "      <td>2635.288278</td>\n",
       "    </tr>\n",
       "  </tbody>\n",
       "</table>\n",
       "</div>"
      ],
      "text/plain": [
       "   monoisotopic_mz  charge  intensity  intensity_full_rt_extent  scan_apex  \\\n",
       "0       753.342420       2    21330.0                      6292     490.25   \n",
       "0       651.343369       2    51140.0                      3488     723.36   \n",
       "0       879.436726       3    70325.0                      4944     331.24   \n",
       "\n",
       "   scan_curve_fit  rt_apex  rt_curve_fit  precursor_id  \\\n",
       "0           False  1675.39          True         16024   \n",
       "0            True  1925.89          True          5015   \n",
       "0           False  2095.77         False         32114   \n",
       "\n",
       "                                            envelope  feature_id  \\\n",
       "0  ((753.3617, 8737.00), (753.8555, 7196.00), (75...     1602401   \n",
       "0  ((651.3407, 22115.00), (651.8427, 19729.00), (...      501501   \n",
       "0  ((879.4338, 14065.00), (879.4338, 14065.00), (...     3211401   \n",
       "\n",
       "   mono_adjusted original_phr_error candidate_phr_error  original_phr  \\\n",
       "0          False          0.0172935                None      0.823624   \n",
       "0          False           0.277054             2.68047      0.892109   \n",
       "0          False          -0.299731             6.60402      1.000000   \n",
       "\n",
       "   monoisotopic_mass  \n",
       "0        1504.670241  \n",
       "0        1300.672139  \n",
       "0        2635.288278  "
      ]
     },
     "execution_count": 14,
     "metadata": {},
     "output_type": "execute_result"
    }
   ],
   "source": [
    "dedup_df.sample(n=3)"
   ]
  },
  {
   "cell_type": "code",
   "execution_count": 15,
   "metadata": {},
   "outputs": [],
   "source": [
    "dedup_df.to_pickle(FEATURES_DEDUP_FILE)"
   ]
  }
 ],
 "metadata": {
  "kernelspec": {
   "display_name": "Python 3",
   "language": "python",
   "name": "python3"
  },
  "language_info": {
   "codemirror_mode": {
    "name": "ipython",
    "version": 3
   },
   "file_extension": ".py",
   "mimetype": "text/x-python",
   "name": "python",
   "nbconvert_exporter": "python",
   "pygments_lexer": "ipython3",
   "version": "3.6.8"
  }
 },
 "nbformat": 4,
 "nbformat_minor": 4
}
