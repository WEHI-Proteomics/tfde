{
 "cells": [
  {
   "cell_type": "code",
   "execution_count": 1,
   "metadata": {},
   "outputs": [],
   "source": [
    "import pandas as pd\n",
    "import numpy as np\n",
    "import sqlite3\n",
    "import json\n",
    "import matplotlib.pyplot as plt\n",
    "import seaborn as sns\n",
    "%matplotlib inline"
   ]
  },
  {
   "cell_type": "code",
   "execution_count": 2,
   "metadata": {},
   "outputs": [],
   "source": [
    "EXPERIMENT_NAME = 'P3856'\n",
    "RUN_NAME = 'P3856_YHE211_1_Slot1-1_1_5104'"
   ]
  },
  {
   "cell_type": "code",
   "execution_count": 3,
   "metadata": {},
   "outputs": [],
   "source": [
    "MZ_TOLERANCE_PPM = 5\n",
    "MZ_TOLERANCE_PERCENT = MZ_TOLERANCE_PPM * 10**-4\n",
    "SCAN_TOLERANCE = 2\n",
    "RT_TOLERANCE = 1"
   ]
  },
  {
   "cell_type": "markdown",
   "metadata": {},
   "source": [
    "##### 3DID parameters"
   ]
  },
  {
   "cell_type": "code",
   "execution_count": 4,
   "metadata": {},
   "outputs": [],
   "source": [
    "# load the detected features\n",
    "EXPERIMENT_DIR = '/data2/experiments/{}'.format(EXPERIMENT_NAME)\n",
    "FEATURES_DIR = '{}/features-3did'.format(EXPERIMENT_DIR)\n",
    "FEATURES_FILE = '{}/exp-{}-run-{}-features-3did.pkl'.format(FEATURES_DIR, EXPERIMENT_NAME, RUN_NAME)\n",
    "FEATURES_DEDUP_FILE = '{}/exp-{}-run-{}-features-3did-dedup.pkl'.format(FEATURES_DIR, EXPERIMENT_NAME, RUN_NAME)\n",
    "MZ_COLUMN_NAME = 'monoisotopic_mz'"
   ]
  },
  {
   "cell_type": "code",
   "execution_count": 5,
   "metadata": {},
   "outputs": [],
   "source": [
    "features_df = pd.read_pickle(FEATURES_FILE)"
   ]
  },
  {
   "cell_type": "markdown",
   "metadata": {},
   "source": [
    "##### PASEF parameters"
   ]
  },
  {
   "cell_type": "raw",
   "metadata": {},
   "source": [
    "# load the detected features\n",
    "EXPERIMENT_DIR = '/data2/experiments/{}'.format(EXPERIMENT_NAME)\n",
    "FEATURES_DIR = '{}/recalibrated-features'.format(EXPERIMENT_DIR)\n",
    "FEATURES_FILE = '{}/experiment-features.pkl'.format(FEATURES_DIR)\n",
    "FEATURES_DEDUP_FILE = '{}/exp-{}-run-{}-features-pasef-dedup.pkl'.format(FEATURES_DIR, EXPERIMENT_NAME, RUN_NAME)\n",
    "MZ_COLUMN_NAME = 'recalibrated_monoisotopic_mz'"
   ]
  },
  {
   "cell_type": "raw",
   "metadata": {},
   "source": [
    "RT_LOWER = 1650\n",
    "RT_UPPER = 2200\n",
    "\n",
    "features_df = pd.read_pickle(FEATURES_FILE)\n",
    "# features_df = features_df[(features_df.run_name == RUN_NAME) & (features_df.rt_apex >= RT_LOWER) & (features_df.rt_apex <= RT_UPPER)]\n",
    "features_df = features_df[(features_df.rt_apex >= RT_LOWER) & (features_df.rt_apex <= RT_UPPER)]"
   ]
  },
  {
   "cell_type": "code",
   "execution_count": 6,
   "metadata": {},
   "outputs": [
    {
     "name": "stdout",
     "output_type": "stream",
     "text": [
      "there are 182811 features prior to de-dup\n"
     ]
    }
   ],
   "source": [
    "print('there are {} features prior to de-dup'.format(len(features_df)))"
   ]
  },
  {
   "cell_type": "code",
   "execution_count": 7,
   "metadata": {},
   "outputs": [
    {
     "data": {
      "text/plain": [
       "Index(['monoisotopic_mz', 'charge', 'monoisotopic_mass', 'feature_intensity',\n",
       "       'envelope_mono_peak_intensity', 'envelope', 'isotope_count',\n",
       "       'deconvolution_score', 'precursor_id',\n",
       "       'envelope_mono_peak_three_sigma_intensity', 'scan_apex', 'scan_lower',\n",
       "       'scan_upper', 'rt_apex', 'rt_lower', 'rt_upper', 'feature_id'],\n",
       "      dtype='object')"
      ]
     },
     "execution_count": 7,
     "metadata": {},
     "output_type": "execute_result"
    }
   ],
   "source": [
    "features_df.columns"
   ]
  },
  {
   "cell_type": "code",
   "execution_count": 8,
   "metadata": {},
   "outputs": [],
   "source": [
    "# features_df['mz'] = features_df.recalibrated_monoisotopic_mz  # shorthand to reduce verbosity\n",
    "features_df['dup_mz'] = features_df[MZ_COLUMN_NAME]  # shorthand to reduce verbosity\n",
    "features_df['dup_mz_ppm_tolerance'] = features_df.dup_mz * MZ_TOLERANCE_PERCENT / 100\n",
    "features_df['dup_mz_lower'] = features_df.dup_mz - features_df.dup_mz_ppm_tolerance\n",
    "features_df['dup_mz_upper'] = features_df.dup_mz + features_df.dup_mz_ppm_tolerance\n",
    "features_df['dup_scan_lower'] = features_df.scan_apex - SCAN_TOLERANCE\n",
    "features_df['dup_scan_upper'] = features_df.scan_apex + SCAN_TOLERANCE\n",
    "features_df['dup_rt_lower'] = features_df.rt_apex - RT_TOLERANCE\n",
    "features_df['dup_rt_upper'] = features_df.rt_apex + RT_TOLERANCE\n",
    "# features_df['composite_key'] = features_df.apply(lambda row: '{},{},{}'.format(row.feature_id, row.precursor_id, row.percolator_idx), axis=1)\n",
    "features_df['dup_composite_key'] = features_df.apply(lambda row: '{},{}'.format(row.feature_id, row.precursor_id), axis=1)"
   ]
  },
  {
   "cell_type": "code",
   "execution_count": 9,
   "metadata": {},
   "outputs": [],
   "source": [
    "# remove these after we're finished\n",
    "columns_to_drop_l = []\n",
    "columns_to_drop_l.append('dup_mz')\n",
    "columns_to_drop_l.append('dup_mz_ppm_tolerance')\n",
    "columns_to_drop_l.append('dup_mz_lower')\n",
    "columns_to_drop_l.append('dup_mz_upper')\n",
    "columns_to_drop_l.append('dup_scan_lower')\n",
    "columns_to_drop_l.append('dup_scan_upper')\n",
    "columns_to_drop_l.append('dup_rt_lower')\n",
    "columns_to_drop_l.append('dup_rt_upper')\n",
    "columns_to_drop_l.append('dup_composite_key')\n"
   ]
  },
  {
   "cell_type": "code",
   "execution_count": 10,
   "metadata": {},
   "outputs": [],
   "source": [
    "features_df.sort_values(by=['feature_intensity'], ascending=False, inplace=True)"
   ]
  },
  {
   "cell_type": "code",
   "execution_count": 11,
   "metadata": {},
   "outputs": [],
   "source": [
    "# see if any detections have a duplicate - if so, find the dup with the highest intensity and keep it\n",
    "keep_l = []\n",
    "for row in features_df.itertuples():\n",
    "    dup_df = features_df[(features_df.dup_mz > row.dup_mz_lower) & (features_df.dup_mz < row.dup_mz_upper) & (features_df.scan_apex > row.dup_scan_lower) & (features_df.scan_apex < row.dup_scan_upper) & (features_df.rt_apex > row.dup_rt_lower) & (features_df.rt_apex < row.dup_rt_upper)].copy()\n",
    "    # group the dups by charge - take the most intense for each charge\n",
    "    for group_name,group_df in dup_df.groupby(['charge'], as_index=False):\n",
    "        keep_l.append(group_df.iloc[0].dup_composite_key)\n"
   ]
  },
  {
   "cell_type": "code",
   "execution_count": 12,
   "metadata": {},
   "outputs": [],
   "source": [
    "# remove any features that are not in the keep list\n",
    "dedup_df = features_df[features_df.dup_composite_key.isin(keep_l)].copy()"
   ]
  },
  {
   "cell_type": "code",
   "execution_count": 13,
   "metadata": {},
   "outputs": [
    {
     "name": "stdout",
     "output_type": "stream",
     "text": [
      "removed 21 duplicates (0% of the original detections)\n",
      "there are 182790 detected de-duplicated features\n"
     ]
    }
   ],
   "source": [
    "number_of_dups = len(features_df)-len(dedup_df)\n",
    "print('removed {} duplicates ({}% of the original detections)'.format(number_of_dups, round(number_of_dups/len(features_df)*100)))\n",
    "print('there are {} detected de-duplicated features'.format(len(dedup_df)))"
   ]
  },
  {
   "cell_type": "code",
   "execution_count": 14,
   "metadata": {},
   "outputs": [],
   "source": [
    "# remove the columns we added earlier\n",
    "dedup_df.drop(columns_to_drop_l, axis=1, inplace=True)"
   ]
  },
  {
   "cell_type": "code",
   "execution_count": 15,
   "metadata": {},
   "outputs": [
    {
     "data": {
      "text/html": [
       "<div>\n",
       "<style scoped>\n",
       "    .dataframe tbody tr th:only-of-type {\n",
       "        vertical-align: middle;\n",
       "    }\n",
       "\n",
       "    .dataframe tbody tr th {\n",
       "        vertical-align: top;\n",
       "    }\n",
       "\n",
       "    .dataframe thead th {\n",
       "        text-align: right;\n",
       "    }\n",
       "</style>\n",
       "<table border=\"1\" class=\"dataframe\">\n",
       "  <thead>\n",
       "    <tr style=\"text-align: right;\">\n",
       "      <th></th>\n",
       "      <th>monoisotopic_mz</th>\n",
       "      <th>charge</th>\n",
       "      <th>monoisotopic_mass</th>\n",
       "      <th>feature_intensity</th>\n",
       "      <th>envelope_mono_peak_intensity</th>\n",
       "      <th>envelope</th>\n",
       "      <th>isotope_count</th>\n",
       "      <th>deconvolution_score</th>\n",
       "      <th>precursor_id</th>\n",
       "      <th>envelope_mono_peak_three_sigma_intensity</th>\n",
       "      <th>scan_apex</th>\n",
       "      <th>scan_lower</th>\n",
       "      <th>scan_upper</th>\n",
       "      <th>rt_apex</th>\n",
       "      <th>rt_lower</th>\n",
       "      <th>rt_upper</th>\n",
       "      <th>feature_id</th>\n",
       "    </tr>\n",
       "  </thead>\n",
       "  <tbody>\n",
       "    <tr>\n",
       "      <th>2</th>\n",
       "      <td>717.965117</td>\n",
       "      <td>5.0</td>\n",
       "      <td>3584.789207</td>\n",
       "      <td>18464.0</td>\n",
       "      <td>5957.0</td>\n",
       "      <td>[[718.3664594144516, 5957.0], [718.36645941445...</td>\n",
       "      <td>6.0</td>\n",
       "      <td>61.925594</td>\n",
       "      <td>12249.0</td>\n",
       "      <td>4766.0</td>\n",
       "      <td>553.0</td>\n",
       "      <td>536.0</td>\n",
       "      <td>567.0</td>\n",
       "      <td>2042.616955</td>\n",
       "      <td>2038.384417</td>\n",
       "      <td>2047.380789</td>\n",
       "      <td>1224903</td>\n",
       "    </tr>\n",
       "    <tr>\n",
       "      <th>2</th>\n",
       "      <td>755.473012</td>\n",
       "      <td>4.0</td>\n",
       "      <td>3017.862946</td>\n",
       "      <td>5539.0</td>\n",
       "      <td>470.0</td>\n",
       "      <td>[[755.5316067533754, 470.0], [755.723851164268...</td>\n",
       "      <td>6.0</td>\n",
       "      <td>39.708516</td>\n",
       "      <td>16140.0</td>\n",
       "      <td>75.0</td>\n",
       "      <td>615.0</td>\n",
       "      <td>594.0</td>\n",
       "      <td>627.0</td>\n",
       "      <td>1659.971843</td>\n",
       "      <td>1655.735556</td>\n",
       "      <td>1664.204048</td>\n",
       "      <td>1614003</td>\n",
       "    </tr>\n",
       "    <tr>\n",
       "      <th>2</th>\n",
       "      <td>992.963293</td>\n",
       "      <td>2.0</td>\n",
       "      <td>1983.912035</td>\n",
       "      <td>31117.0</td>\n",
       "      <td>9856.0</td>\n",
       "      <td>[[992.9579628876895, 9856.0], [993.46497079988...</td>\n",
       "      <td>4.0</td>\n",
       "      <td>249.527360</td>\n",
       "      <td>49261.0</td>\n",
       "      <td>7647.0</td>\n",
       "      <td>270.0</td>\n",
       "      <td>270.0</td>\n",
       "      <td>278.0</td>\n",
       "      <td>1800.766571</td>\n",
       "      <td>1795.766571</td>\n",
       "      <td>1805.766571</td>\n",
       "      <td>4926103</td>\n",
       "    </tr>\n",
       "  </tbody>\n",
       "</table>\n",
       "</div>"
      ],
      "text/plain": [
       "   monoisotopic_mz  charge  monoisotopic_mass  feature_intensity  \\\n",
       "2       717.965117     5.0        3584.789207            18464.0   \n",
       "2       755.473012     4.0        3017.862946             5539.0   \n",
       "2       992.963293     2.0        1983.912035            31117.0   \n",
       "\n",
       "   envelope_mono_peak_intensity  \\\n",
       "2                        5957.0   \n",
       "2                         470.0   \n",
       "2                        9856.0   \n",
       "\n",
       "                                            envelope  isotope_count  \\\n",
       "2  [[718.3664594144516, 5957.0], [718.36645941445...            6.0   \n",
       "2  [[755.5316067533754, 470.0], [755.723851164268...            6.0   \n",
       "2  [[992.9579628876895, 9856.0], [993.46497079988...            4.0   \n",
       "\n",
       "   deconvolution_score  precursor_id  \\\n",
       "2            61.925594       12249.0   \n",
       "2            39.708516       16140.0   \n",
       "2           249.527360       49261.0   \n",
       "\n",
       "   envelope_mono_peak_three_sigma_intensity  scan_apex  scan_lower  \\\n",
       "2                                    4766.0      553.0       536.0   \n",
       "2                                      75.0      615.0       594.0   \n",
       "2                                    7647.0      270.0       270.0   \n",
       "\n",
       "   scan_upper      rt_apex     rt_lower     rt_upper  feature_id  \n",
       "2       567.0  2042.616955  2038.384417  2047.380789     1224903  \n",
       "2       627.0  1659.971843  1655.735556  1664.204048     1614003  \n",
       "2       278.0  1800.766571  1795.766571  1805.766571     4926103  "
      ]
     },
     "execution_count": 15,
     "metadata": {},
     "output_type": "execute_result"
    }
   ],
   "source": [
    "dedup_df.sample(n=3)"
   ]
  },
  {
   "cell_type": "code",
   "execution_count": 16,
   "metadata": {},
   "outputs": [],
   "source": [
    "dedup_df.to_pickle(FEATURES_DEDUP_FILE)"
   ]
  }
 ],
 "metadata": {
  "kernelspec": {
   "display_name": "Python 3",
   "language": "python",
   "name": "python3"
  },
  "language_info": {
   "codemirror_mode": {
    "name": "ipython",
    "version": 3
   },
   "file_extension": ".py",
   "mimetype": "text/x-python",
   "name": "python",
   "nbconvert_exporter": "python",
   "pygments_lexer": "ipython3",
   "version": "3.6.8"
  }
 },
 "nbformat": 4,
 "nbformat_minor": 4
}
