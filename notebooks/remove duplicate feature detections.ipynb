{
 "cells": [
  {
   "cell_type": "code",
   "execution_count": 1,
   "metadata": {},
   "outputs": [],
   "source": [
    "import pandas as pd\n",
    "import numpy as np\n",
    "import sqlite3\n",
    "import json\n",
    "import matplotlib.pyplot as plt\n",
    "import seaborn as sns\n",
    "%matplotlib inline"
   ]
  },
  {
   "cell_type": "code",
   "execution_count": 2,
   "metadata": {},
   "outputs": [],
   "source": [
    "EXPERIMENT_NAME = 'P3856'\n",
    "RUN_NAME = 'P3856_YHE211_1_Slot1-1_1_5104'"
   ]
  },
  {
   "cell_type": "code",
   "execution_count": 3,
   "metadata": {},
   "outputs": [],
   "source": [
    "MZ_TOLERANCE_PPM = 5\n",
    "MZ_TOLERANCE_PERCENT = MZ_TOLERANCE_PPM * 10**-4\n",
    "SCAN_TOLERANCE = 2\n",
    "RT_TOLERANCE = 1"
   ]
  },
  {
   "cell_type": "markdown",
   "metadata": {},
   "source": [
    "##### 3DID parameters"
   ]
  },
  {
   "cell_type": "raw",
   "metadata": {},
   "source": [
    "# load the detected features\n",
    "EXPERIMENT_DIR = '/data2/experiments/{}'.format(EXPERIMENT_NAME)\n",
    "FEATURES_DIR = '{}/features-3did'.format(EXPERIMENT_DIR)\n",
    "FEATURES_FILE = '{}/exp-{}-run-{}-features-3did.pkl'.format(FEATURES_DIR, EXPERIMENT_NAME, RUN_NAME)\n",
    "FEATURES_DEDUP_FILE = '{}/exp-{}-run-{}-features-3did-dedup.pkl'.format(FEATURES_DIR, EXPERIMENT_NAME, RUN_NAME)\n",
    "MZ_COLUMN_NAME = 'monoisotopic_mz'"
   ]
  },
  {
   "cell_type": "raw",
   "metadata": {},
   "source": [
    "features_df = pd.read_pickle(FEATURES_FILE)"
   ]
  },
  {
   "cell_type": "markdown",
   "metadata": {},
   "source": [
    "##### PASEF parameters"
   ]
  },
  {
   "cell_type": "code",
   "execution_count": 4,
   "metadata": {},
   "outputs": [],
   "source": [
    "# load the detected features\n",
    "EXPERIMENT_DIR = '/data2/experiments/{}'.format(EXPERIMENT_NAME)\n",
    "FEATURES_DIR = '{}/recalibrated-features'.format(EXPERIMENT_DIR)\n",
    "FEATURES_FILE = '{}/experiment-features.pkl'.format(FEATURES_DIR)\n",
    "FEATURES_DEDUP_FILE = '{}/exp-{}-run-{}-features-pasef-dedup.pkl'.format(FEATURES_DIR, EXPERIMENT_NAME, RUN_NAME)\n",
    "MZ_COLUMN_NAME = 'recalibrated_monoisotopic_mz'"
   ]
  },
  {
   "cell_type": "code",
   "execution_count": 5,
   "metadata": {},
   "outputs": [],
   "source": [
    "perc_id = 29\n",
    "RT_LOWER = 1650\n",
    "RT_UPPER = 2200\n",
    "\n",
    "features_df = pd.read_pickle(FEATURES_FILE)\n",
    "features_df = features_df[(features_df.percolator_idx == perc_id) & (features_df.rt_apex >= RT_LOWER) & (features_df.rt_apex <= RT_UPPER)]"
   ]
  },
  {
   "cell_type": "code",
   "execution_count": 6,
   "metadata": {},
   "outputs": [
    {
     "name": "stdout",
     "output_type": "stream",
     "text": [
      "there are 169088 features prior to de-dup\n"
     ]
    }
   ],
   "source": [
    "print('there are {} features prior to de-dup'.format(len(features_df)))"
   ]
  },
  {
   "cell_type": "code",
   "execution_count": 7,
   "metadata": {},
   "outputs": [],
   "source": [
    "# features_df['mz'] = features_df.recalibrated_monoisotopic_mz  # shorthand to reduce verbosity\n",
    "features_df['mz'] = features_df[MZ_COLUMN_NAME]  # shorthand to reduce verbosity\n",
    "features_df['mz_ppm_tolerance'] = features_df.mz * MZ_TOLERANCE_PERCENT / 100\n",
    "features_df['mz_lower'] = features_df.mz - features_df.mz_ppm_tolerance\n",
    "features_df['mz_upper'] = features_df.mz + features_df.mz_ppm_tolerance\n",
    "features_df['scan_lower'] = features_df.scan_apex - SCAN_TOLERANCE\n",
    "features_df['scan_upper'] = features_df.scan_apex + SCAN_TOLERANCE\n",
    "features_df['rt_lower'] = features_df.rt_apex - RT_TOLERANCE\n",
    "features_df['rt_upper'] = features_df.rt_apex + RT_TOLERANCE\n",
    "# features_df['composite_key'] = features_df.apply(lambda row: '{},{},{}'.format(row.feature_id, row.precursor_id, row.percolator_idx), axis=1)\n",
    "features_df['composite_key'] = features_df.apply(lambda row: '{},{}'.format(row.feature_id, row.precursor_id), axis=1)"
   ]
  },
  {
   "cell_type": "code",
   "execution_count": 8,
   "metadata": {},
   "outputs": [],
   "source": [
    "# remove these after we're finished\n",
    "columns_to_drop_l = []\n",
    "columns_to_drop_l.append('mz')\n",
    "columns_to_drop_l.append('mz_ppm_tolerance')\n",
    "columns_to_drop_l.append('mz_lower')\n",
    "columns_to_drop_l.append('mz_upper')\n",
    "columns_to_drop_l.append('scan_lower')\n",
    "columns_to_drop_l.append('scan_upper')\n",
    "columns_to_drop_l.append('rt_lower')\n",
    "columns_to_drop_l.append('rt_upper')\n",
    "columns_to_drop_l.append('composite_key')\n"
   ]
  },
  {
   "cell_type": "code",
   "execution_count": 9,
   "metadata": {},
   "outputs": [],
   "source": [
    "features_df.sort_values(by=['intensity'], ascending=False, inplace=True)"
   ]
  },
  {
   "cell_type": "code",
   "execution_count": 10,
   "metadata": {},
   "outputs": [],
   "source": [
    "# see if any detections have a duplicate - if so, find the dup with the highest intensity and keep it\n",
    "keep_l = []\n",
    "for row in features_df.itertuples():\n",
    "    dup_df = features_df[(features_df.mz > row.mz_lower) & (features_df.mz < row.mz_upper) & (features_df.scan_apex > row.scan_lower) & (features_df.scan_apex < row.scan_upper) & (features_df.rt_apex > row.rt_lower) & (features_df.rt_apex < row.rt_upper)].copy()\n",
    "    # group the dups by charge - take the most intense for each charge\n",
    "    for group_name,group_df in dup_df.groupby(['charge'], as_index=False):\n",
    "        keep_l.append(group_df.iloc[0].composite_key)\n"
   ]
  },
  {
   "cell_type": "code",
   "execution_count": 11,
   "metadata": {},
   "outputs": [],
   "source": [
    "# remove any features that are not in the keep list\n",
    "dedup_df = features_df[features_df.composite_key.isin(keep_l)].copy()"
   ]
  },
  {
   "cell_type": "code",
   "execution_count": 12,
   "metadata": {},
   "outputs": [
    {
     "name": "stdout",
     "output_type": "stream",
     "text": [
      "removed 14864 duplicates (9% of the original detections)\n",
      "there are 154224 detected de-duplicated features\n"
     ]
    }
   ],
   "source": [
    "number_of_dups = len(features_df)-len(dedup_df)\n",
    "print('removed {} duplicates ({}% of the original detections)'.format(number_of_dups, round(number_of_dups/len(features_df)*100)))\n",
    "print('there are {} detected de-duplicated features'.format(len(dedup_df)))"
   ]
  },
  {
   "cell_type": "code",
   "execution_count": 13,
   "metadata": {},
   "outputs": [],
   "source": [
    "# remove the columns we added earlier\n",
    "dedup_df.drop(columns_to_drop_l, axis=1, inplace=True)"
   ]
  },
  {
   "cell_type": "code",
   "execution_count": 14,
   "metadata": {},
   "outputs": [
    {
     "data": {
      "text/html": [
       "<div>\n",
       "<style scoped>\n",
       "    .dataframe tbody tr th:only-of-type {\n",
       "        vertical-align: middle;\n",
       "    }\n",
       "\n",
       "    .dataframe tbody tr th {\n",
       "        vertical-align: top;\n",
       "    }\n",
       "\n",
       "    .dataframe thead th {\n",
       "        text-align: right;\n",
       "    }\n",
       "</style>\n",
       "<table border=\"1\" class=\"dataframe\">\n",
       "  <thead>\n",
       "    <tr style=\"text-align: right;\">\n",
       "      <th></th>\n",
       "      <th>feature_id</th>\n",
       "      <th>charge</th>\n",
       "      <th>rt_apex</th>\n",
       "      <th>rt_peak_width</th>\n",
       "      <th>scan_apex</th>\n",
       "      <th>scan_peak_width</th>\n",
       "      <th>intensity</th>\n",
       "      <th>intensity_full_rt_extent</th>\n",
       "      <th>precursor_id</th>\n",
       "      <th>monoisotopic_mass</th>\n",
       "      <th>predicted_mass_error</th>\n",
       "      <th>recalibrated_monoisotopic_mass</th>\n",
       "      <th>recalibrated_monoisotopic_mz</th>\n",
       "      <th>percolator_idx</th>\n",
       "      <th>run_name</th>\n",
       "    </tr>\n",
       "  </thead>\n",
       "  <tbody>\n",
       "    <tr>\n",
       "      <th>5</th>\n",
       "      <td>3656806</td>\n",
       "      <td>1</td>\n",
       "      <td>2107.86</td>\n",
       "      <td>70.35</td>\n",
       "      <td>160.41</td>\n",
       "      <td>75.00</td>\n",
       "      <td>1106.0</td>\n",
       "      <td>2048</td>\n",
       "      <td>36568</td>\n",
       "      <td>949.846800</td>\n",
       "      <td>-0.008258</td>\n",
       "      <td>949.855059</td>\n",
       "      <td>950.862335</td>\n",
       "      <td>29</td>\n",
       "      <td>P3856_YHE114_10_Slot1-1_1_5124</td>\n",
       "    </tr>\n",
       "    <tr>\n",
       "      <th>1</th>\n",
       "      <td>3375402</td>\n",
       "      <td>1</td>\n",
       "      <td>2054.57</td>\n",
       "      <td>20.00</td>\n",
       "      <td>502.25</td>\n",
       "      <td>107.61</td>\n",
       "      <td>7312.0</td>\n",
       "      <td>8262</td>\n",
       "      <td>33754</td>\n",
       "      <td>1059.501367</td>\n",
       "      <td>-0.002339</td>\n",
       "      <td>1059.503706</td>\n",
       "      <td>1060.510982</td>\n",
       "      <td>29</td>\n",
       "      <td>P3856_YHE114_10_Slot1-1_1_5124</td>\n",
       "    </tr>\n",
       "    <tr>\n",
       "      <th>1</th>\n",
       "      <td>2165702</td>\n",
       "      <td>2</td>\n",
       "      <td>1874.51</td>\n",
       "      <td>35.32</td>\n",
       "      <td>79.88</td>\n",
       "      <td>75.00</td>\n",
       "      <td>8399.0</td>\n",
       "      <td>5524</td>\n",
       "      <td>21657</td>\n",
       "      <td>2408.922200</td>\n",
       "      <td>-0.007530</td>\n",
       "      <td>2408.929730</td>\n",
       "      <td>1205.472141</td>\n",
       "      <td>29</td>\n",
       "      <td>P3856_YHE114_10_Slot1-1_1_5124</td>\n",
       "    </tr>\n",
       "  </tbody>\n",
       "</table>\n",
       "</div>"
      ],
      "text/plain": [
       "   feature_id  charge  rt_apex  rt_peak_width  scan_apex  scan_peak_width  \\\n",
       "5     3656806       1  2107.86          70.35     160.41            75.00   \n",
       "1     3375402       1  2054.57          20.00     502.25           107.61   \n",
       "1     2165702       2  1874.51          35.32      79.88            75.00   \n",
       "\n",
       "   intensity  intensity_full_rt_extent  precursor_id  monoisotopic_mass  \\\n",
       "5     1106.0                      2048         36568         949.846800   \n",
       "1     7312.0                      8262         33754        1059.501367   \n",
       "1     8399.0                      5524         21657        2408.922200   \n",
       "\n",
       "   predicted_mass_error  recalibrated_monoisotopic_mass  \\\n",
       "5             -0.008258                      949.855059   \n",
       "1             -0.002339                     1059.503706   \n",
       "1             -0.007530                     2408.929730   \n",
       "\n",
       "   recalibrated_monoisotopic_mz  percolator_idx  \\\n",
       "5                    950.862335              29   \n",
       "1                   1060.510982              29   \n",
       "1                   1205.472141              29   \n",
       "\n",
       "                         run_name  \n",
       "5  P3856_YHE114_10_Slot1-1_1_5124  \n",
       "1  P3856_YHE114_10_Slot1-1_1_5124  \n",
       "1  P3856_YHE114_10_Slot1-1_1_5124  "
      ]
     },
     "execution_count": 14,
     "metadata": {},
     "output_type": "execute_result"
    }
   ],
   "source": [
    "dedup_df.sample(n=3)"
   ]
  },
  {
   "cell_type": "code",
   "execution_count": 15,
   "metadata": {},
   "outputs": [],
   "source": [
    "dedup_df.to_pickle(FEATURES_DEDUP_FILE)"
   ]
  }
 ],
 "metadata": {
  "kernelspec": {
   "display_name": "Python 3",
   "language": "python",
   "name": "python3"
  },
  "language_info": {
   "codemirror_mode": {
    "name": "ipython",
    "version": 3
   },
   "file_extension": ".py",
   "mimetype": "text/x-python",
   "name": "python",
   "nbconvert_exporter": "python",
   "pygments_lexer": "ipython3",
   "version": "3.6.8"
  }
 },
 "nbformat": 4,
 "nbformat_minor": 4
}
