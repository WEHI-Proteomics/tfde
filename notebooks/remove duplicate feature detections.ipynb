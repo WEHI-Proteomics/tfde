{
 "cells": [
  {
   "cell_type": "code",
   "execution_count": 1,
   "metadata": {},
   "outputs": [],
   "source": [
    "import pandas as pd\n",
    "import numpy as np\n",
    "import sqlite3\n",
    "import json\n",
    "import matplotlib.pyplot as plt\n",
    "import seaborn as sns\n",
    "%matplotlib inline"
   ]
  },
  {
   "cell_type": "code",
   "execution_count": 2,
   "metadata": {},
   "outputs": [],
   "source": [
    "EXPERIMENT_NAME = 'P3856'\n",
    "RUN_NAME = 'P3856_YHE211_1_Slot1-1_1_5104'"
   ]
  },
  {
   "cell_type": "code",
   "execution_count": 3,
   "metadata": {},
   "outputs": [],
   "source": [
    "MZ_TOLERANCE_PPM = 5\n",
    "MZ_TOLERANCE_PERCENT = MZ_TOLERANCE_PPM * 10**-4\n",
    "SCAN_TOLERANCE = 5\n",
    "RT_TOLERANCE = 5"
   ]
  },
  {
   "cell_type": "markdown",
   "metadata": {},
   "source": [
    "##### 3DID parameters"
   ]
  },
  {
   "cell_type": "raw",
   "metadata": {},
   "source": [
    "# load the detected features\n",
    "EXPERIMENT_DIR = '/data2/experiments/{}'.format(EXPERIMENT_NAME)\n",
    "FEATURES_DIR = '{}/features-3did'.format(EXPERIMENT_DIR)\n",
    "FEATURES_FILE = '{}/exp-{}-run-{}-features-3did.pkl'.format(FEATURES_DIR, EXPERIMENT_NAME, RUN_NAME)\n",
    "FEATURES_DEDUP_FILE = '{}/exp-{}-run-{}-features-3did-dedup.pkl'.format(FEATURES_DIR, EXPERIMENT_NAME, RUN_NAME)\n",
    "MZ_COLUMN_NAME = 'monoisotopic_mz'"
   ]
  },
  {
   "cell_type": "raw",
   "metadata": {},
   "source": [
    "features_df = pd.read_pickle(FEATURES_FILE)"
   ]
  },
  {
   "cell_type": "markdown",
   "metadata": {},
   "source": [
    "##### PASEF parameters"
   ]
  },
  {
   "cell_type": "code",
   "execution_count": 4,
   "metadata": {},
   "outputs": [],
   "source": [
    "# load the detected features\n",
    "EXPERIMENT_DIR = '/data2/experiments/{}'.format(EXPERIMENT_NAME)\n",
    "FEATURES_DIR = '{}/features'.format(EXPERIMENT_DIR)\n",
    "FEATURES_FILE = '{}/detected-features-no-recal.sqlite'.format(FEATURES_DIR)\n",
    "FEATURES_DEDUP_FILE = '{}/exp-{}-run-{}-features-pasef-dedup.pkl'.format(FEATURES_DIR, EXPERIMENT_NAME, RUN_NAME)\n",
    "MZ_COLUMN_NAME = 'monoisotopic_mz'"
   ]
  },
  {
   "cell_type": "code",
   "execution_count": 5,
   "metadata": {},
   "outputs": [],
   "source": [
    "RT_LOWER = 1650\n",
    "RT_UPPER = 2200\n",
    "\n",
    "db_conn = sqlite3.connect(FEATURES_FILE)\n",
    "features_df = pd.read_sql_query(\"select * from features where rt_apex >= {} and rt_apex <= {} and run_name=='{}'\".format(RT_LOWER, RT_UPPER, RUN_NAME), db_conn)\n",
    "db_conn.close()"
   ]
  },
  {
   "cell_type": "code",
   "execution_count": 6,
   "metadata": {},
   "outputs": [
    {
     "name": "stdout",
     "output_type": "stream",
     "text": [
      "there are 252796 features prior to de-dup\n"
     ]
    }
   ],
   "source": [
    "print('there are {} features prior to de-dup'.format(len(features_df)))"
   ]
  },
  {
   "cell_type": "code",
   "execution_count": 7,
   "metadata": {},
   "outputs": [],
   "source": [
    "features_df['dup_mz'] = features_df[MZ_COLUMN_NAME]  # shorthand to reduce verbosity\n",
    "features_df['dup_mz_ppm_tolerance'] = features_df.dup_mz * MZ_TOLERANCE_PERCENT / 100\n",
    "features_df['dup_mz_lower'] = features_df.dup_mz - features_df.dup_mz_ppm_tolerance\n",
    "features_df['dup_mz_upper'] = features_df.dup_mz + features_df.dup_mz_ppm_tolerance\n",
    "features_df['dup_scan_lower'] = features_df.scan_apex - SCAN_TOLERANCE\n",
    "features_df['dup_scan_upper'] = features_df.scan_apex + SCAN_TOLERANCE\n",
    "features_df['dup_rt_lower'] = features_df.rt_apex - RT_TOLERANCE\n",
    "features_df['dup_rt_upper'] = features_df.rt_apex + RT_TOLERANCE\n",
    "features_df['dup_composite_key'] = features_df.apply(lambda row: '{},{}'.format(row.feature_id, row.precursor_id), axis=1)"
   ]
  },
  {
   "cell_type": "code",
   "execution_count": 8,
   "metadata": {},
   "outputs": [],
   "source": [
    "# remove these after we're finished\n",
    "columns_to_drop_l = []\n",
    "columns_to_drop_l.append('dup_mz')\n",
    "columns_to_drop_l.append('dup_mz_ppm_tolerance')\n",
    "columns_to_drop_l.append('dup_mz_lower')\n",
    "columns_to_drop_l.append('dup_mz_upper')\n",
    "columns_to_drop_l.append('dup_scan_lower')\n",
    "columns_to_drop_l.append('dup_scan_upper')\n",
    "columns_to_drop_l.append('dup_rt_lower')\n",
    "columns_to_drop_l.append('dup_rt_upper')\n",
    "columns_to_drop_l.append('dup_composite_key')\n"
   ]
  },
  {
   "cell_type": "code",
   "execution_count": 9,
   "metadata": {},
   "outputs": [],
   "source": [
    "features_df.sort_values(by=['intensity'], ascending=False, inplace=True)"
   ]
  },
  {
   "cell_type": "code",
   "execution_count": 10,
   "metadata": {},
   "outputs": [],
   "source": [
    "# see if any detections have a duplicate - if so, find the dup with the highest intensity and keep it\n",
    "keep_l = []\n",
    "for row in features_df.itertuples():\n",
    "    dup_df = features_df[(features_df.dup_mz > row.dup_mz_lower) & (features_df.dup_mz < row.dup_mz_upper) & (features_df.scan_apex > row.dup_scan_lower) & (features_df.scan_apex < row.dup_scan_upper) & (features_df.rt_apex > row.dup_rt_lower) & (features_df.rt_apex < row.dup_rt_upper)].copy()\n",
    "    # group the dups by charge - take the most intense for each charge\n",
    "    for group_name,group_df in dup_df.groupby(['charge'], as_index=False):\n",
    "        keep_l.append(group_df.iloc[0].dup_composite_key)\n"
   ]
  },
  {
   "cell_type": "code",
   "execution_count": 11,
   "metadata": {},
   "outputs": [],
   "source": [
    "# remove any features that are not in the keep list\n",
    "dedup_df = features_df[features_df.dup_composite_key.isin(keep_l)].copy()"
   ]
  },
  {
   "cell_type": "code",
   "execution_count": 12,
   "metadata": {},
   "outputs": [
    {
     "name": "stdout",
     "output_type": "stream",
     "text": [
      "removed 28830 duplicates (11% of the original detections)\n",
      "there are 223966 detected de-duplicated features\n"
     ]
    }
   ],
   "source": [
    "number_of_dups = len(features_df)-len(dedup_df)\n",
    "print('removed {} duplicates ({}% of the original detections)'.format(number_of_dups, round(number_of_dups/len(features_df)*100)))\n",
    "print('there are {} detected de-duplicated features'.format(len(dedup_df)))"
   ]
  },
  {
   "cell_type": "code",
   "execution_count": 13,
   "metadata": {},
   "outputs": [],
   "source": [
    "# remove the columns we added earlier\n",
    "dedup_df.drop(columns_to_drop_l, axis=1, inplace=True)"
   ]
  },
  {
   "cell_type": "code",
   "execution_count": 14,
   "metadata": {},
   "outputs": [
    {
     "data": {
      "text/html": [
       "<div>\n",
       "<style scoped>\n",
       "    .dataframe tbody tr th:only-of-type {\n",
       "        vertical-align: middle;\n",
       "    }\n",
       "\n",
       "    .dataframe tbody tr th {\n",
       "        vertical-align: top;\n",
       "    }\n",
       "\n",
       "    .dataframe thead th {\n",
       "        text-align: right;\n",
       "    }\n",
       "</style>\n",
       "<table border=\"1\" class=\"dataframe\">\n",
       "  <thead>\n",
       "    <tr style=\"text-align: right;\">\n",
       "      <th></th>\n",
       "      <th>monoisotopic_mz</th>\n",
       "      <th>charge</th>\n",
       "      <th>intensity</th>\n",
       "      <th>intensity_full_rt_extent</th>\n",
       "      <th>intensity_six_sigma</th>\n",
       "      <th>scan_apex</th>\n",
       "      <th>scan_lower</th>\n",
       "      <th>scan_upper</th>\n",
       "      <th>rt_apex</th>\n",
       "      <th>rt_lower</th>\n",
       "      <th>rt_upper</th>\n",
       "      <th>precursor_id</th>\n",
       "      <th>envelope</th>\n",
       "      <th>deconvolution_score</th>\n",
       "      <th>envelope_mono_peak_intensity</th>\n",
       "      <th>feature_id</th>\n",
       "      <th>monoisotopic_mass</th>\n",
       "      <th>run_name</th>\n",
       "    </tr>\n",
       "  </thead>\n",
       "  <tbody>\n",
       "    <tr>\n",
       "      <th>42486</th>\n",
       "      <td>592.548165</td>\n",
       "      <td>4</td>\n",
       "      <td>12409.000000</td>\n",
       "      <td>363</td>\n",
       "      <td>335</td>\n",
       "      <td>847.72</td>\n",
       "      <td>836.26</td>\n",
       "      <td>859.19</td>\n",
       "      <td>1969.84</td>\n",
       "      <td>1962.93</td>\n",
       "      <td>1976.75</td>\n",
       "      <td>29215</td>\n",
       "      <td>[[592.8017395419953, 3448.0], [592.80173954199...</td>\n",
       "      <td>70.609796</td>\n",
       "      <td>3448.0</td>\n",
       "      <td>2921503</td>\n",
       "      <td>2366.163461</td>\n",
       "      <td>P3856_YHE211_1_Slot1-1_1_5104</td>\n",
       "    </tr>\n",
       "    <tr>\n",
       "      <th>50675</th>\n",
       "      <td>927.990951</td>\n",
       "      <td>2</td>\n",
       "      <td>85381.470588</td>\n",
       "      <td>89190</td>\n",
       "      <td>56884</td>\n",
       "      <td>267.86</td>\n",
       "      <td>247.86</td>\n",
       "      <td>287.86</td>\n",
       "      <td>2016.79</td>\n",
       "      <td>2014.83</td>\n",
       "      <td>2018.74</td>\n",
       "      <td>32570</td>\n",
       "      <td>[[927.9837258289976, 24392.470588235294], [928...</td>\n",
       "      <td>361.989940</td>\n",
       "      <td>23656.0</td>\n",
       "      <td>3257001</td>\n",
       "      <td>1853.967303</td>\n",
       "      <td>P3856_YHE211_1_Slot1-1_1_5104</td>\n",
       "    </tr>\n",
       "    <tr>\n",
       "      <th>108131</th>\n",
       "      <td>1001.951778</td>\n",
       "      <td>5</td>\n",
       "      <td>34858.000000</td>\n",
       "      <td>1074</td>\n",
       "      <td>1074</td>\n",
       "      <td>544.68</td>\n",
       "      <td>524.68</td>\n",
       "      <td>564.68</td>\n",
       "      <td>2052.22</td>\n",
       "      <td>2042.22</td>\n",
       "      <td>2062.22</td>\n",
       "      <td>34572</td>\n",
       "      <td>[[1001.9604635907656, 124.0], [1002.1518782997...</td>\n",
       "      <td>68.441413</td>\n",
       "      <td>124.0</td>\n",
       "      <td>3457204</td>\n",
       "      <td>5004.722392</td>\n",
       "      <td>P3856_YHE211_1_Slot1-1_1_5104</td>\n",
       "    </tr>\n",
       "  </tbody>\n",
       "</table>\n",
       "</div>"
      ],
      "text/plain": [
       "        monoisotopic_mz  charge     intensity  intensity_full_rt_extent  \\\n",
       "42486        592.548165       4  12409.000000                       363   \n",
       "50675        927.990951       2  85381.470588                     89190   \n",
       "108131      1001.951778       5  34858.000000                      1074   \n",
       "\n",
       "        intensity_six_sigma  scan_apex  scan_lower  scan_upper  rt_apex  \\\n",
       "42486                   335     847.72      836.26      859.19  1969.84   \n",
       "50675                 56884     267.86      247.86      287.86  2016.79   \n",
       "108131                 1074     544.68      524.68      564.68  2052.22   \n",
       "\n",
       "        rt_lower  rt_upper  precursor_id  \\\n",
       "42486    1962.93   1976.75         29215   \n",
       "50675    2014.83   2018.74         32570   \n",
       "108131   2042.22   2062.22         34572   \n",
       "\n",
       "                                                 envelope  \\\n",
       "42486   [[592.8017395419953, 3448.0], [592.80173954199...   \n",
       "50675   [[927.9837258289976, 24392.470588235294], [928...   \n",
       "108131  [[1001.9604635907656, 124.0], [1002.1518782997...   \n",
       "\n",
       "        deconvolution_score  envelope_mono_peak_intensity  feature_id  \\\n",
       "42486             70.609796                        3448.0     2921503   \n",
       "50675            361.989940                       23656.0     3257001   \n",
       "108131            68.441413                         124.0     3457204   \n",
       "\n",
       "        monoisotopic_mass                       run_name  \n",
       "42486         2366.163461  P3856_YHE211_1_Slot1-1_1_5104  \n",
       "50675         1853.967303  P3856_YHE211_1_Slot1-1_1_5104  \n",
       "108131        5004.722392  P3856_YHE211_1_Slot1-1_1_5104  "
      ]
     },
     "execution_count": 14,
     "metadata": {},
     "output_type": "execute_result"
    }
   ],
   "source": [
    "dedup_df.sample(n=3)"
   ]
  },
  {
   "cell_type": "code",
   "execution_count": 15,
   "metadata": {},
   "outputs": [],
   "source": [
    "dedup_df.to_pickle(FEATURES_DEDUP_FILE)"
   ]
  },
  {
   "cell_type": "code",
   "execution_count": null,
   "metadata": {},
   "outputs": [],
   "source": []
  }
 ],
 "metadata": {
  "kernelspec": {
   "display_name": "Python 3",
   "language": "python",
   "name": "python3"
  },
  "language_info": {
   "codemirror_mode": {
    "name": "ipython",
    "version": 3
   },
   "file_extension": ".py",
   "mimetype": "text/x-python",
   "name": "python",
   "nbconvert_exporter": "python",
   "pygments_lexer": "ipython3",
   "version": "3.6.8"
  }
 },
 "nbformat": 4,
 "nbformat_minor": 4
}
