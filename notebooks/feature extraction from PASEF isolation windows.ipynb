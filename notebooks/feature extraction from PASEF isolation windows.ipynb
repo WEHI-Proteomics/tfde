{
 "cells": [
  {
   "cell_type": "code",
   "execution_count": 1,
   "metadata": {},
   "outputs": [],
   "source": [
    "import sqlite3\n",
    "import pandas as pd\n",
    "import numpy as np\n",
    "import sys\n",
    "import matplotlib.pyplot as plt"
   ]
  },
  {
   "cell_type": "code",
   "execution_count": 2,
   "metadata": {},
   "outputs": [],
   "source": [
    "RT_LIMIT_LOWER = 4340  # RT range in the database\n",
    "RT_LIMIT_UPPER = 4580\n",
    "RT_BASE_PEAK_WIDTH_SECS = 30.0  # assumption about base peak width in RT\n",
    "MS1_CE = 10"
   ]
  },
  {
   "cell_type": "code",
   "execution_count": 3,
   "metadata": {},
   "outputs": [],
   "source": [
    "BASE_NAME = \"/Users/darylwilding-mcbride/Downloads/HeLa_20KInt-rt-{}-{}\".format(RT_LIMIT_LOWER,RT_LIMIT_UPPER)\n",
    "ALLPEPTIDES_FILENAME = '/Users/darylwilding-mcbride/Downloads/maxquant_results/txt/allPeptides.txt'\n",
    "# BASE_NAME = \"/home/ubuntu/HeLa_20KInt-rt-{}-{}\".format(RT_LIMIT_LOWER,RT_LIMIT_UPPER)\n",
    "# ALLPEPTIDES_FILENAME = '/home/ubuntu/maxquant_results/txt/allPeptides.txt'\n",
    "\n",
    "CONVERTED_DATABASE_NAME = '{}/HeLa_20KInt.sqlite'.format(BASE_NAME)"
   ]
  },
  {
   "cell_type": "code",
   "execution_count": 4,
   "metadata": {},
   "outputs": [
    {
     "data": {
      "text/plain": [
       "'/Users/darylwilding-mcbride/Downloads/HeLa_20KInt-rt-4340-4580/HeLa_20KInt.sqlite'"
      ]
     },
     "execution_count": 4,
     "metadata": {},
     "output_type": "execute_result"
    }
   ],
   "source": [
    "CONVERTED_DATABASE_NAME"
   ]
  },
  {
   "cell_type": "code",
   "execution_count": 5,
   "metadata": {},
   "outputs": [],
   "source": [
    "db_conn = sqlite3.connect(CONVERTED_DATABASE_NAME)\n",
    "ms1_frame_properties_df = pd.read_sql_query(\"select frame_id,retention_time_secs from frame_properties where retention_time_secs >= {} and retention_time_secs <= {} and collision_energy == {}\".format(RT_LIMIT_LOWER,RT_LIMIT_UPPER,MS1_CE), db_conn)\n",
    "ms2_frame_properties_df = pd.read_sql_query(\"select frame_id,retention_time_secs from frame_properties where retention_time_secs >= {} and retention_time_secs <= {} and collision_energy <> {}\".format(RT_LIMIT_LOWER,RT_LIMIT_UPPER,MS1_CE), db_conn)\n",
    "db_conn.close()"
   ]
  },
  {
   "cell_type": "code",
   "execution_count": 6,
   "metadata": {},
   "outputs": [
    {
     "data": {
      "text/html": [
       "<div>\n",
       "<style scoped>\n",
       "    .dataframe tbody tr th:only-of-type {\n",
       "        vertical-align: middle;\n",
       "    }\n",
       "\n",
       "    .dataframe tbody tr th {\n",
       "        vertical-align: top;\n",
       "    }\n",
       "\n",
       "    .dataframe thead th {\n",
       "        text-align: right;\n",
       "    }\n",
       "</style>\n",
       "<table border=\"1\" class=\"dataframe\">\n",
       "  <thead>\n",
       "    <tr style=\"text-align: right;\">\n",
       "      <th></th>\n",
       "      <th>frame_id</th>\n",
       "      <th>retention_time_secs</th>\n",
       "    </tr>\n",
       "  </thead>\n",
       "  <tbody>\n",
       "    <tr>\n",
       "      <th>0</th>\n",
       "      <td>40411</td>\n",
       "      <td>4340.340330</td>\n",
       "    </tr>\n",
       "    <tr>\n",
       "      <th>1</th>\n",
       "      <td>40422</td>\n",
       "      <td>4341.521415</td>\n",
       "    </tr>\n",
       "    <tr>\n",
       "      <th>2</th>\n",
       "      <td>40433</td>\n",
       "      <td>4342.702923</td>\n",
       "    </tr>\n",
       "    <tr>\n",
       "      <th>3</th>\n",
       "      <td>40444</td>\n",
       "      <td>4343.883324</td>\n",
       "    </tr>\n",
       "    <tr>\n",
       "      <th>4</th>\n",
       "      <td>40455</td>\n",
       "      <td>4345.067491</td>\n",
       "    </tr>\n",
       "  </tbody>\n",
       "</table>\n",
       "</div>"
      ],
      "text/plain": [
       "   frame_id  retention_time_secs\n",
       "0     40411          4340.340330\n",
       "1     40422          4341.521415\n",
       "2     40433          4342.702923\n",
       "3     40444          4343.883324\n",
       "4     40455          4345.067491"
      ]
     },
     "execution_count": 6,
     "metadata": {},
     "output_type": "execute_result"
    }
   ],
   "source": [
    "ms1_frame_properties_df.head()"
   ]
  },
  {
   "cell_type": "code",
   "execution_count": 7,
   "metadata": {},
   "outputs": [
    {
     "data": {
      "text/html": [
       "<div>\n",
       "<style scoped>\n",
       "    .dataframe tbody tr th:only-of-type {\n",
       "        vertical-align: middle;\n",
       "    }\n",
       "\n",
       "    .dataframe tbody tr th {\n",
       "        vertical-align: top;\n",
       "    }\n",
       "\n",
       "    .dataframe thead th {\n",
       "        text-align: right;\n",
       "    }\n",
       "</style>\n",
       "<table border=\"1\" class=\"dataframe\">\n",
       "  <thead>\n",
       "    <tr style=\"text-align: right;\">\n",
       "      <th></th>\n",
       "      <th>frame_id</th>\n",
       "      <th>retention_time_secs</th>\n",
       "    </tr>\n",
       "  </thead>\n",
       "  <tbody>\n",
       "    <tr>\n",
       "      <th>0</th>\n",
       "      <td>40408</td>\n",
       "      <td>4340.019894</td>\n",
       "    </tr>\n",
       "    <tr>\n",
       "      <th>1</th>\n",
       "      <td>40409</td>\n",
       "      <td>4340.127084</td>\n",
       "    </tr>\n",
       "    <tr>\n",
       "      <th>2</th>\n",
       "      <td>40410</td>\n",
       "      <td>4340.233855</td>\n",
       "    </tr>\n",
       "    <tr>\n",
       "      <th>3</th>\n",
       "      <td>40412</td>\n",
       "      <td>4340.446655</td>\n",
       "    </tr>\n",
       "    <tr>\n",
       "      <th>4</th>\n",
       "      <td>40413</td>\n",
       "      <td>4340.554812</td>\n",
       "    </tr>\n",
       "  </tbody>\n",
       "</table>\n",
       "</div>"
      ],
      "text/plain": [
       "   frame_id  retention_time_secs\n",
       "0     40408          4340.019894\n",
       "1     40409          4340.127084\n",
       "2     40410          4340.233855\n",
       "3     40412          4340.446655\n",
       "4     40413          4340.554812"
      ]
     },
     "execution_count": 7,
     "metadata": {},
     "output_type": "execute_result"
    }
   ],
   "source": [
    "ms2_frame_properties_df.head()"
   ]
  },
  {
   "cell_type": "code",
   "execution_count": 8,
   "metadata": {},
   "outputs": [
    {
     "data": {
      "text/plain": [
       "1.1810854877303427"
      ]
     },
     "execution_count": 8,
     "metadata": {},
     "output_type": "execute_result"
    }
   ],
   "source": [
    "ms1_frame_delay = ms1_frame_properties_df.iloc[1].retention_time_secs - ms1_frame_properties_df.iloc[0].retention_time_secs\n",
    "ms1_frame_delay"
   ]
  },
  {
   "cell_type": "code",
   "execution_count": 9,
   "metadata": {},
   "outputs": [
    {
     "data": {
      "text/plain": [
       "203"
      ]
     },
     "execution_count": 9,
     "metadata": {},
     "output_type": "execute_result"
    }
   ],
   "source": [
    "len(ms1_frame_properties_df)"
   ]
  },
  {
   "cell_type": "code",
   "execution_count": 10,
   "metadata": {},
   "outputs": [],
   "source": [
    "# get all the isolation windows\n",
    "isolation_window_df = pd.read_pickle('/Users/darylwilding-mcbride/Downloads/isolation_window_df.pkl')"
   ]
  },
  {
   "cell_type": "code",
   "execution_count": 11,
   "metadata": {},
   "outputs": [
    {
     "data": {
      "text/html": [
       "<div>\n",
       "<style scoped>\n",
       "    .dataframe tbody tr th:only-of-type {\n",
       "        vertical-align: middle;\n",
       "    }\n",
       "\n",
       "    .dataframe tbody tr th {\n",
       "        vertical-align: top;\n",
       "    }\n",
       "\n",
       "    .dataframe thead th {\n",
       "        text-align: right;\n",
       "    }\n",
       "</style>\n",
       "<table border=\"1\" class=\"dataframe\">\n",
       "  <thead>\n",
       "    <tr style=\"text-align: right;\">\n",
       "      <th></th>\n",
       "      <th>Frame</th>\n",
       "      <th>ScanNumBegin</th>\n",
       "      <th>ScanNumEnd</th>\n",
       "      <th>IsolationMz</th>\n",
       "      <th>IsolationWidth</th>\n",
       "      <th>CollisionEnergy</th>\n",
       "      <th>Precursor</th>\n",
       "    </tr>\n",
       "  </thead>\n",
       "  <tbody>\n",
       "    <tr>\n",
       "      <th>0</th>\n",
       "      <td>3</td>\n",
       "      <td>507</td>\n",
       "      <td>532</td>\n",
       "      <td>742.744835</td>\n",
       "      <td>2.427448</td>\n",
       "      <td>36.96</td>\n",
       "      <td>1</td>\n",
       "    </tr>\n",
       "    <tr>\n",
       "      <th>1</th>\n",
       "      <td>3</td>\n",
       "      <td>549</td>\n",
       "      <td>574</td>\n",
       "      <td>709.235759</td>\n",
       "      <td>2.092358</td>\n",
       "      <td>36.96</td>\n",
       "      <td>2</td>\n",
       "    </tr>\n",
       "    <tr>\n",
       "      <th>2</th>\n",
       "      <td>3</td>\n",
       "      <td>602</td>\n",
       "      <td>627</td>\n",
       "      <td>594.235088</td>\n",
       "      <td>2.000000</td>\n",
       "      <td>36.96</td>\n",
       "      <td>3</td>\n",
       "    </tr>\n",
       "    <tr>\n",
       "      <th>3</th>\n",
       "      <td>3</td>\n",
       "      <td>643</td>\n",
       "      <td>668</td>\n",
       "      <td>503.527768</td>\n",
       "      <td>2.000000</td>\n",
       "      <td>36.96</td>\n",
       "      <td>4</td>\n",
       "    </tr>\n",
       "    <tr>\n",
       "      <th>4</th>\n",
       "      <td>3</td>\n",
       "      <td>684</td>\n",
       "      <td>709</td>\n",
       "      <td>552.063870</td>\n",
       "      <td>2.000000</td>\n",
       "      <td>31.92</td>\n",
       "      <td>5</td>\n",
       "    </tr>\n",
       "  </tbody>\n",
       "</table>\n",
       "</div>"
      ],
      "text/plain": [
       "   Frame  ScanNumBegin  ScanNumEnd  IsolationMz  IsolationWidth  \\\n",
       "0      3           507         532   742.744835        2.427448   \n",
       "1      3           549         574   709.235759        2.092358   \n",
       "2      3           602         627   594.235088        2.000000   \n",
       "3      3           643         668   503.527768        2.000000   \n",
       "4      3           684         709   552.063870        2.000000   \n",
       "\n",
       "   CollisionEnergy  Precursor  \n",
       "0            36.96          1  \n",
       "1            36.96          2  \n",
       "2            36.96          3  \n",
       "3            36.96          4  \n",
       "4            31.92          5  "
      ]
     },
     "execution_count": 11,
     "metadata": {},
     "output_type": "execute_result"
    }
   ],
   "source": [
    "isolation_window_df.head()"
   ]
  },
  {
   "cell_type": "code",
   "execution_count": 12,
   "metadata": {},
   "outputs": [],
   "source": [
    "# add-in the retention time for the isolation windows and filter out the window not in range\n",
    "isolation_window_df = pd.merge(isolation_window_df, ms2_frame_properties_df, how='left', left_on=['Frame'], right_on=['frame_id'])\n",
    "isolation_window_df.drop(['frame_id', 'CollisionEnergy'], axis=1, inplace=True)\n",
    "isolation_window_df.dropna(subset=['retention_time_secs'], inplace=True)\n",
    "isolation_window_df['mz_lower'] = isolation_window_df.IsolationMz - (isolation_window_df.IsolationWidth / 2)\n",
    "isolation_window_df['mz_upper'] = isolation_window_df.IsolationMz + (isolation_window_df.IsolationWidth / 2)\n",
    "isolation_window_df['rt_lower'] = isolation_window_df.retention_time_secs - RT_BASE_PEAK_WIDTH_SECS\n",
    "isolation_window_df['rt_upper'] = isolation_window_df.retention_time_secs + RT_BASE_PEAK_WIDTH_SECS"
   ]
  },
  {
   "cell_type": "code",
   "execution_count": 13,
   "metadata": {},
   "outputs": [],
   "source": [
    "# filter out isolation windows that don't fit in the database subset we have loaded\n",
    "isolation_window_df = isolation_window_df[(isolation_window_df.rt_lower >= RT_LIMIT_LOWER) & (isolation_window_df.rt_upper <= RT_LIMIT_UPPER)]"
   ]
  },
  {
   "cell_type": "code",
   "execution_count": 14,
   "metadata": {},
   "outputs": [
    {
     "data": {
      "text/html": [
       "<div>\n",
       "<style scoped>\n",
       "    .dataframe tbody tr th:only-of-type {\n",
       "        vertical-align: middle;\n",
       "    }\n",
       "\n",
       "    .dataframe tbody tr th {\n",
       "        vertical-align: top;\n",
       "    }\n",
       "\n",
       "    .dataframe thead th {\n",
       "        text-align: right;\n",
       "    }\n",
       "</style>\n",
       "<table border=\"1\" class=\"dataframe\">\n",
       "  <thead>\n",
       "    <tr style=\"text-align: right;\">\n",
       "      <th></th>\n",
       "      <th>Frame</th>\n",
       "      <th>ScanNumBegin</th>\n",
       "      <th>ScanNumEnd</th>\n",
       "      <th>IsolationMz</th>\n",
       "      <th>IsolationWidth</th>\n",
       "      <th>Precursor</th>\n",
       "      <th>retention_time_secs</th>\n",
       "      <th>mz_lower</th>\n",
       "      <th>mz_upper</th>\n",
       "      <th>rt_lower</th>\n",
       "      <th>rt_upper</th>\n",
       "    </tr>\n",
       "  </thead>\n",
       "  <tbody>\n",
       "    <tr>\n",
       "      <th>315657</th>\n",
       "      <td>40688</td>\n",
       "      <td>219</td>\n",
       "      <td>244</td>\n",
       "      <td>1106.675230</td>\n",
       "      <td>3.0</td>\n",
       "      <td>148941</td>\n",
       "      <td>4370.101926</td>\n",
       "      <td>1105.175230</td>\n",
       "      <td>1108.175230</td>\n",
       "      <td>4340.101926</td>\n",
       "      <td>4400.101926</td>\n",
       "    </tr>\n",
       "    <tr>\n",
       "      <th>315658</th>\n",
       "      <td>40688</td>\n",
       "      <td>287</td>\n",
       "      <td>312</td>\n",
       "      <td>987.488407</td>\n",
       "      <td>3.0</td>\n",
       "      <td>148938</td>\n",
       "      <td>4370.101926</td>\n",
       "      <td>985.988407</td>\n",
       "      <td>988.988407</td>\n",
       "      <td>4340.101926</td>\n",
       "      <td>4400.101926</td>\n",
       "    </tr>\n",
       "    <tr>\n",
       "      <th>315659</th>\n",
       "      <td>40688</td>\n",
       "      <td>344</td>\n",
       "      <td>369</td>\n",
       "      <td>922.491024</td>\n",
       "      <td>3.0</td>\n",
       "      <td>148930</td>\n",
       "      <td>4370.101926</td>\n",
       "      <td>920.991024</td>\n",
       "      <td>923.991024</td>\n",
       "      <td>4340.101926</td>\n",
       "      <td>4400.101926</td>\n",
       "    </tr>\n",
       "    <tr>\n",
       "      <th>315660</th>\n",
       "      <td>40688</td>\n",
       "      <td>386</td>\n",
       "      <td>411</td>\n",
       "      <td>884.941548</td>\n",
       "      <td>3.0</td>\n",
       "      <td>148942</td>\n",
       "      <td>4370.101926</td>\n",
       "      <td>883.441548</td>\n",
       "      <td>886.441548</td>\n",
       "      <td>4340.101926</td>\n",
       "      <td>4400.101926</td>\n",
       "    </tr>\n",
       "    <tr>\n",
       "      <th>315661</th>\n",
       "      <td>40688</td>\n",
       "      <td>434</td>\n",
       "      <td>459</td>\n",
       "      <td>876.400632</td>\n",
       "      <td>3.0</td>\n",
       "      <td>148943</td>\n",
       "      <td>4370.101926</td>\n",
       "      <td>874.900632</td>\n",
       "      <td>877.900632</td>\n",
       "      <td>4340.101926</td>\n",
       "      <td>4400.101926</td>\n",
       "    </tr>\n",
       "  </tbody>\n",
       "</table>\n",
       "</div>"
      ],
      "text/plain": [
       "        Frame  ScanNumBegin  ScanNumEnd  IsolationMz  IsolationWidth  \\\n",
       "315657  40688           219         244  1106.675230             3.0   \n",
       "315658  40688           287         312   987.488407             3.0   \n",
       "315659  40688           344         369   922.491024             3.0   \n",
       "315660  40688           386         411   884.941548             3.0   \n",
       "315661  40688           434         459   876.400632             3.0   \n",
       "\n",
       "        Precursor  retention_time_secs     mz_lower     mz_upper     rt_lower  \\\n",
       "315657     148941          4370.101926  1105.175230  1108.175230  4340.101926   \n",
       "315658     148938          4370.101926   985.988407   988.988407  4340.101926   \n",
       "315659     148930          4370.101926   920.991024   923.991024  4340.101926   \n",
       "315660     148942          4370.101926   883.441548   886.441548  4340.101926   \n",
       "315661     148943          4370.101926   874.900632   877.900632  4340.101926   \n",
       "\n",
       "           rt_upper  \n",
       "315657  4400.101926  \n",
       "315658  4400.101926  \n",
       "315659  4400.101926  \n",
       "315660  4400.101926  \n",
       "315661  4400.101926  "
      ]
     },
     "execution_count": 14,
     "metadata": {},
     "output_type": "execute_result"
    }
   ],
   "source": [
    "isolation_window_df.head()"
   ]
  },
  {
   "cell_type": "markdown",
   "metadata": {},
   "source": [
    "Select one of the precursors"
   ]
  },
  {
   "cell_type": "code",
   "execution_count": 15,
   "metadata": {},
   "outputs": [
    {
     "name": "stdout",
     "output_type": "stream",
     "text": [
      "There are 17860 precursor isolation windows.\n"
     ]
    }
   ],
   "source": [
    "print(\"There are {} precursor isolation windows.\".format(len(isolation_window_df)))"
   ]
  },
  {
   "cell_type": "code",
   "execution_count": 1326,
   "metadata": {},
   "outputs": [],
   "source": [
    "ISOLATION_WINDOW_IDX = 8089\n",
    "window_df = isolation_window_df.iloc[ISOLATION_WINDOW_IDX]"
   ]
  },
  {
   "cell_type": "code",
   "execution_count": 1327,
   "metadata": {},
   "outputs": [],
   "source": [
    "# PRECURSOR_ID = 154951\n",
    "# window_df = isolation_window_df[isolation_window_df.Precursor == PRECURSOR_ID].iloc[0]"
   ]
  },
  {
   "cell_type": "code",
   "execution_count": 1328,
   "metadata": {},
   "outputs": [
    {
     "data": {
      "text/plain": [
       "Frame                   41440.000000\n",
       "ScanNumBegin              529.000000\n",
       "ScanNumEnd                554.000000\n",
       "IsolationMz               637.196938\n",
       "IsolationWidth              2.000000\n",
       "Precursor              153212.000000\n",
       "retention_time_secs      4450.910639\n",
       "mz_lower                  636.196938\n",
       "mz_upper                  638.196938\n",
       "rt_lower                 4420.910639\n",
       "rt_upper                 4480.910639\n",
       "Name: 323746, dtype: float64"
      ]
     },
     "execution_count": 1328,
     "metadata": {},
     "output_type": "execute_result"
    }
   ],
   "source": [
    "window_df"
   ]
  },
  {
   "cell_type": "code",
   "execution_count": 1329,
   "metadata": {},
   "outputs": [],
   "source": [
    "mz_lower = window_df.mz_lower\n",
    "mz_upper = window_df.mz_upper\n",
    "scan_width = int(window_df.ScanNumEnd - window_df.ScanNumBegin)\n",
    "scan_lower = int(window_df.ScanNumBegin - scan_width)\n",
    "scan_upper = int(window_df.ScanNumEnd + scan_width)\n",
    "rt_lower = window_df.rt_lower\n",
    "rt_upper = window_df.rt_upper\n",
    "precursor_id = int(window_df.Precursor)"
   ]
  },
  {
   "cell_type": "code",
   "execution_count": 1330,
   "metadata": {},
   "outputs": [],
   "source": [
    "# get the ms1 frame IDs\n",
    "ms1_frame_ids = tuple(ms1_frame_properties_df.astype(int).values[:,0])\n"
   ]
  },
  {
   "cell_type": "code",
   "execution_count": 1331,
   "metadata": {},
   "outputs": [],
   "source": [
    "# load the cube's raw ms1 points\n",
    "db_conn = sqlite3.connect(CONVERTED_DATABASE_NAME)\n",
    "raw_points_df = pd.read_sql_query(\"select frame_id,mz,scan,intensity,retention_time_secs from frames where mz >= {} and mz <= {} and scan >= {} and scan <= {} and retention_time_secs >= {} and retention_time_secs <= {} and frame_id in {}\".format(mz_lower, mz_upper, scan_lower, scan_upper, rt_lower, rt_upper, ms1_frame_ids), db_conn)\n",
    "db_conn.close()"
   ]
  },
  {
   "cell_type": "code",
   "execution_count": 1332,
   "metadata": {},
   "outputs": [
    {
     "data": {
      "text/plain": [
       "28144"
      ]
     },
     "execution_count": 1332,
     "metadata": {},
     "output_type": "execute_result"
    }
   ],
   "source": [
    "len(raw_points_df)"
   ]
  },
  {
   "cell_type": "code",
   "execution_count": 1333,
   "metadata": {},
   "outputs": [
    {
     "data": {
      "text/plain": [
       "5870"
      ]
     },
     "execution_count": 1333,
     "metadata": {},
     "output_type": "execute_result"
    }
   ],
   "source": [
    "raw_points_df.intensity.max()"
   ]
  },
  {
   "cell_type": "code",
   "execution_count": 1334,
   "metadata": {},
   "outputs": [
    {
     "data": {
      "text/html": [
       "<div>\n",
       "<style scoped>\n",
       "    .dataframe tbody tr th:only-of-type {\n",
       "        vertical-align: middle;\n",
       "    }\n",
       "\n",
       "    .dataframe tbody tr th {\n",
       "        vertical-align: top;\n",
       "    }\n",
       "\n",
       "    .dataframe thead th {\n",
       "        text-align: right;\n",
       "    }\n",
       "</style>\n",
       "<table border=\"1\" class=\"dataframe\">\n",
       "  <thead>\n",
       "    <tr style=\"text-align: right;\">\n",
       "      <th></th>\n",
       "      <th>frame_id</th>\n",
       "      <th>mz</th>\n",
       "      <th>scan</th>\n",
       "      <th>intensity</th>\n",
       "      <th>retention_time_secs</th>\n",
       "    </tr>\n",
       "  </thead>\n",
       "  <tbody>\n",
       "    <tr>\n",
       "      <th>0</th>\n",
       "      <td>41170</td>\n",
       "      <td>636.208854</td>\n",
       "      <td>553</td>\n",
       "      <td>19</td>\n",
       "      <td>4421.919624</td>\n",
       "    </tr>\n",
       "    <tr>\n",
       "      <th>1</th>\n",
       "      <td>41170</td>\n",
       "      <td>636.236694</td>\n",
       "      <td>518</td>\n",
       "      <td>26</td>\n",
       "      <td>4421.919624</td>\n",
       "    </tr>\n",
       "    <tr>\n",
       "      <th>2</th>\n",
       "      <td>41170</td>\n",
       "      <td>636.252603</td>\n",
       "      <td>549</td>\n",
       "      <td>21</td>\n",
       "      <td>4421.919624</td>\n",
       "    </tr>\n",
       "    <tr>\n",
       "      <th>3</th>\n",
       "      <td>41170</td>\n",
       "      <td>636.268513</td>\n",
       "      <td>517</td>\n",
       "      <td>11</td>\n",
       "      <td>4421.919624</td>\n",
       "    </tr>\n",
       "    <tr>\n",
       "      <th>4</th>\n",
       "      <td>41170</td>\n",
       "      <td>636.272490</td>\n",
       "      <td>551</td>\n",
       "      <td>41</td>\n",
       "      <td>4421.919624</td>\n",
       "    </tr>\n",
       "  </tbody>\n",
       "</table>\n",
       "</div>"
      ],
      "text/plain": [
       "   frame_id          mz  scan  intensity  retention_time_secs\n",
       "0     41170  636.208854   553         19          4421.919624\n",
       "1     41170  636.236694   518         26          4421.919624\n",
       "2     41170  636.252603   549         21          4421.919624\n",
       "3     41170  636.268513   517         11          4421.919624\n",
       "4     41170  636.272490   551         41          4421.919624"
      ]
     },
     "execution_count": 1334,
     "metadata": {},
     "output_type": "execute_result"
    }
   ],
   "source": [
    "raw_points_df.head()"
   ]
  },
  {
   "cell_type": "code",
   "execution_count": 1335,
   "metadata": {},
   "outputs": [],
   "source": [
    "MZ_MIN = mz_lower\n",
    "MZ_MAX = mz_upper\n",
    "MZ_BIN_WIDTH = 0.1"
   ]
  },
  {
   "cell_type": "code",
   "execution_count": 1336,
   "metadata": {},
   "outputs": [],
   "source": [
    "bins = np.arange(start=MZ_MIN, stop=MZ_MAX+MZ_BIN_WIDTH, step=MZ_BIN_WIDTH)  # go slightly wider to accomodate the maximum value\n"
   ]
  },
  {
   "cell_type": "code",
   "execution_count": 1337,
   "metadata": {},
   "outputs": [
    {
     "data": {
      "text/plain": [
       "array([636.19693781, 636.29693781, 636.39693781, 636.49693781,\n",
       "       636.59693781, 636.69693781, 636.79693781, 636.89693781,\n",
       "       636.99693781, 637.09693781, 637.19693781, 637.29693781,\n",
       "       637.39693781, 637.49693781, 637.59693781, 637.69693781,\n",
       "       637.79693781, 637.89693781, 637.99693781, 638.09693781,\n",
       "       638.19693781, 638.29693781])"
      ]
     },
     "execution_count": 1337,
     "metadata": {},
     "output_type": "execute_result"
    }
   ],
   "source": [
    "bins"
   ]
  },
  {
   "cell_type": "code",
   "execution_count": 1338,
   "metadata": {},
   "outputs": [],
   "source": [
    "MZ_BIN_COUNT = len(bins)"
   ]
  },
  {
   "cell_type": "code",
   "execution_count": 1339,
   "metadata": {},
   "outputs": [],
   "source": [
    "# initialise an array of lists to hold the m/z and intensity values allocated to each bin\n",
    "mz_values_array = np.empty(MZ_BIN_COUNT, dtype=np.object)\n",
    "for idx in range(MZ_BIN_COUNT):\n",
    "    mz_values_array[idx] = []\n"
   ]
  },
  {
   "cell_type": "code",
   "execution_count": 1340,
   "metadata": {},
   "outputs": [],
   "source": [
    "# gather the m/z values into bins\n",
    "for r in zip(raw_points_df.mz, raw_points_df.intensity):\n",
    "    mz = r[0]\n",
    "    intensity = int(r[1])\n",
    "    if (mz >= MZ_MIN) and (mz <= MZ_MAX): # it should already but just to be sure\n",
    "        mz_array_idx = int(np.digitize(mz, bins)) # in which bin should this mz go\n",
    "        mz_values_array[mz_array_idx].append((mz, intensity))"
   ]
  },
  {
   "cell_type": "code",
   "execution_count": 1341,
   "metadata": {},
   "outputs": [],
   "source": [
    "import peakutils"
   ]
  },
  {
   "cell_type": "code",
   "execution_count": 1342,
   "metadata": {},
   "outputs": [],
   "source": [
    "# compute the intensity-weighted m/z centroid and the summed intensity of the bins\n",
    "peaks = []\n",
    "for bin_idx in range(MZ_BIN_COUNT):\n",
    "    if len(mz_values_array[bin_idx]) > 0:\n",
    "        mz_values_for_bin = np.array([ list[0] for list in mz_values_array[bin_idx]])\n",
    "        intensity_values_for_bin = np.array([ list[1] for list in mz_values_array[bin_idx]]).astype(int)\n",
    "        mz_centroid = peakutils.centroid(mz_values_for_bin, intensity_values_for_bin)\n",
    "        summed_intensity = intensity_values_for_bin.sum()\n",
    "        peaks.append((mz_centroid,summed_intensity))"
   ]
  },
  {
   "cell_type": "code",
   "execution_count": 1343,
   "metadata": {},
   "outputs": [
    {
     "data": {
      "text/plain": [
       "[(636.2714884020947, 31952),\n",
       " (636.3275145405626, 711859),\n",
       " (636.4619644252298, 9618),\n",
       " (636.5777190190605, 91613),\n",
       " (636.6328634622145, 127318),\n",
       " (636.7587520818887, 27422),\n",
       " (636.8634257346097, 1136442),\n",
       " (636.9649472462008, 155841),\n",
       " (637.0566103911937, 51380),\n",
       " (637.1248580266218, 32892),\n",
       " (637.2750492259514, 65246),\n",
       " (637.3638130012824, 926110),\n",
       " (637.4231895309271, 12254),\n",
       " (637.5653558596503, 59605),\n",
       " (637.6375613237939, 92934),\n",
       " (637.7688538753978, 23776),\n",
       " (637.8626660624541, 478753),\n",
       " (637.9612587008176, 35494),\n",
       " (638.0638932016059, 53226),\n",
       " (638.1300989701502, 15667)]"
      ]
     },
     "execution_count": 1343,
     "metadata": {},
     "output_type": "execute_result"
    }
   ],
   "source": [
    "peaks"
   ]
  },
  {
   "cell_type": "code",
   "execution_count": 1344,
   "metadata": {},
   "outputs": [],
   "source": [
    "peaks_df = pd.DataFrame(peaks, columns=['mz_centroid','summed_intensity'])"
   ]
  },
  {
   "cell_type": "code",
   "execution_count": 1345,
   "metadata": {},
   "outputs": [
    {
     "data": {
      "image/png": "[encoded data removed]",
      "text/plain": [
       "<Figure size 1080x360 with 1 Axes>"
      ]
     },
     "metadata": {
      "needs_background": "light"
     },
     "output_type": "display_data"
    }
   ],
   "source": [
    "f, ax = plt.subplots()\n",
    "colors = ['tab:blue', 'tab:orange', 'tab:green', 'tab:red', 'tab:purple', 'tab:brown', 'tab:pink', 'tab:gray', 'tab:olive', 'tab:cyan']\n",
    "markerline, stemlines, baseline = ax.stem(peaks_df.mz_centroid, peaks_df.summed_intensity, 'g')\n",
    "plt.setp(markerline, 'color', colors[2])\n",
    "plt.setp(stemlines, 'color', colors[2])\n",
    "plt.setp(baseline, 'color', colors[7])\n",
    "plt.xlabel('binned m/z')\n",
    "plt.ylabel('intensity')\n",
    "f.set_figheight(5)\n",
    "f.set_figwidth(15)\n",
    "plt.margins(0.06)\n",
    "plt.suptitle('Raw points centroided and summed by m/z bin for precursor ID {}'.format(precursor_id))\n",
    "plt.title('bin width {} Th'.format(MZ_BIN_WIDTH))\n",
    "plt.show()"
   ]
  },
  {
   "cell_type": "code",
   "execution_count": 1346,
   "metadata": {},
   "outputs": [],
   "source": [
    "PROTON_MASS = 1.0073  # Mass of a proton in unified atomic mass units, or Da. For calculating the monoisotopic mass.\n"
   ]
  },
  {
   "cell_type": "code",
   "execution_count": 1347,
   "metadata": {},
   "outputs": [],
   "source": [
    "from ms_deisotope import deconvolute_peaks, averagine, scoring\n",
    "\n",
    "# see https://github.com/mobiusklein/ms_deisotope/blob/ee4b083ad7ab5f77722860ce2d6fdb751886271e/ms_deisotope/deconvolution/api.py#L17\n",
    "deconvoluted_peaks, _priority_targets = deconvolute_peaks(peaks, averagine=averagine.peptide, charge_range=(1,5), scorer=scoring.MSDeconVFitter(10.0), truncate_after=0.95)\n"
   ]
  },
  {
   "cell_type": "code",
   "execution_count": 1348,
   "metadata": {},
   "outputs": [
    {
     "name": "stdout",
     "output_type": "stream",
     "text": [
      "DeconvolutedPeak(a_to_a2_ratio=13.66201139407719, area=97198.0, average_mass=635.7659923472531, charge=1, chosen_for_msms=False, envelope=[(636.2715, 31952.00), (637.2750, 19894.01), (638.2769, 1.00)], full_width_at_half_max=0.01, index=0|0, intensity=51846.01190349287, most_abundant_mass=635.2642119353247, mz=636.2714884020947, neutral_mass=635.2642119353247, score=249.12756229022494, signal_to_noise=48599.0)\n",
      "\n",
      "DeconvolutedPeak(a_to_a2_ratio=3.6910085273013875, area=92668.0, average_mass=1272.0192483743, charge=2, chosen_for_msms=False, envelope=[(636.7588, 27422.00), (637.2750, 7367.30), (637.7683, 1.00)], full_width_at_half_max=0.01, index=1|2, intensity=34789.30271031348, most_abundant_mass=1271.5029512302374, mz=636.7654990375978, neutral_mass=1271.5164451416556, score=92.98836825239894, signal_to_noise=46334.0)\n",
      "\n",
      "DeconvolutedPeak(a_to_a2_ratio=3.691008527301388, area=2541305.0, average_mass=1272.7120502653574, charge=2, chosen_for_msms=False, envelope=[(636.8634, 1136442.00), (637.3638, 926110.00), (637.8627, 478753.00)], full_width_at_half_max=0.01, index=2|3, intensity=2541305.0, most_abundant_mass=1271.7122985356793, mz=636.8621355823824, neutral_mass=1271.7097182312248, score=2286.0920187179913, signal_to_noise=847101.6666666666)\n",
      "\n",
      "DeconvolutedPeak(a_to_a2_ratio=3.691008527301388, area=164211.0, average_mass=1273.109353368093, charge=2, chosen_for_msms=False, envelope=[(637.0566, 51380.00), (637.5654, 59605.00), (638.0639, 53226.00)], full_width_at_half_max=0.01, index=3|4, intensity=164211.0, most_abundant_mass=1273.1161587857605, mz=637.0636784407502, neutral_mass=1272.1128039479604, score=389.4758331280147, signal_to_noise=54737.0)\n",
      "\n",
      "DeconvolutedPeak(a_to_a2_ratio=3.691008527301388, area=141493.0, average_mass=1273.2471259468373, charge=2, chosen_for_msms=False, envelope=[(637.1249, 32892.00), (637.6376, 57246.10), (638.1301, 15667.00)], full_width_at_half_max=0.01, index=4|5, intensity=105805.09688611634, most_abundant_mass=1273.2605697140477, mz=637.1267441323503, neutral_mass=1272.2389353311605, score=272.02025954351757, signal_to_noise=47164.333333333336)\n",
      "\n",
      "DeconvolutedPeak(a_to_a2_ratio=3.6910085273013875, area=89022.0, average_mass=1273.0293501678093, charge=2, chosen_for_msms=False, envelope=[(637.2750, 65246.00), (637.7689, 23776.00), (638.2778, 1.00)], full_width_at_half_max=0.01, index=5|6, intensity=89022.0, most_abundant_mass=1272.5355455183628, mz=637.2750492259514, neutral_mass=1272.5355455183628, score=252.0460072103918, signal_to_noise=44511.0)\n",
      "\n",
      "DeconvolutedPeak(a_to_a2_ratio=1.59315214556842, area=376093.0, average_mass=1908.213542631899, charge=3, chosen_for_msms=False, envelope=[(636.6329, 127318.00), (636.9649, 155841.00), (637.3012, 1.00), (637.6376, 92934.00)], full_width_at_half_max=0.01, index=6|1, intensity=376093.0, most_abundant_mass=1907.8730123382925, mz=636.6328634622145, neutral_mass=1906.8767609863332, score=757.156954900096, signal_to_noise=125364.33333333333)\n",
      "\n"
     ]
    }
   ],
   "source": [
    "peaks_l = []\n",
    "for peak in deconvoluted_peaks:\n",
    "    # discard a monoisotopic peak that has a second isotope with intensity of 1 (rubbish value)\n",
    "    if ((len(peak.envelope) > 1) and (peak.envelope[1][1] > 1)):\n",
    "        peaks_l.append((peak.mz, peak.neutral_mass, peak.intensity, peak.score, peak.signal_to_noise))\n",
    "        print(\"{}\\n\".format(peak))\n",
    "\n",
    "deconvoluted_peaks_df = pd.DataFrame(peaks_l, columns=['mz','neutral_mass','intensity','score','SN'])\n",
    "# 'neutral mass' is the zero charge M, so we add the proton mass to get M+H (the monoisotopic mass)\n",
    "deconvoluted_peaks_df['m_plus_h'] = deconvoluted_peaks_df.neutral_mass + PROTON_MASS\n"
   ]
  },
  {
   "cell_type": "code",
   "execution_count": 1349,
   "metadata": {
    "scrolled": true
   },
   "outputs": [
    {
     "data": {
      "text/html": [
       "<div>\n",
       "<style scoped>\n",
       "    .dataframe tbody tr th:only-of-type {\n",
       "        vertical-align: middle;\n",
       "    }\n",
       "\n",
       "    .dataframe tbody tr th {\n",
       "        vertical-align: top;\n",
       "    }\n",
       "\n",
       "    .dataframe thead th {\n",
       "        text-align: right;\n",
       "    }\n",
       "</style>\n",
       "<table border=\"1\" class=\"dataframe\">\n",
       "  <thead>\n",
       "    <tr style=\"text-align: right;\">\n",
       "      <th></th>\n",
       "      <th>mz</th>\n",
       "      <th>neutral_mass</th>\n",
       "      <th>intensity</th>\n",
       "      <th>score</th>\n",
       "      <th>SN</th>\n",
       "      <th>m_plus_h</th>\n",
       "    </tr>\n",
       "  </thead>\n",
       "  <tbody>\n",
       "    <tr>\n",
       "      <th>0</th>\n",
       "      <td>636.271488</td>\n",
       "      <td>635.264212</td>\n",
       "      <td>5.184601e+04</td>\n",
       "      <td>249.127562</td>\n",
       "      <td>48599.000000</td>\n",
       "      <td>636.271512</td>\n",
       "    </tr>\n",
       "    <tr>\n",
       "      <th>1</th>\n",
       "      <td>636.765499</td>\n",
       "      <td>1271.516445</td>\n",
       "      <td>3.478930e+04</td>\n",
       "      <td>92.988368</td>\n",
       "      <td>46334.000000</td>\n",
       "      <td>1272.523745</td>\n",
       "    </tr>\n",
       "    <tr>\n",
       "      <th>2</th>\n",
       "      <td>636.862136</td>\n",
       "      <td>1271.709718</td>\n",
       "      <td>2.541305e+06</td>\n",
       "      <td>2286.092019</td>\n",
       "      <td>847101.666667</td>\n",
       "      <td>1272.717018</td>\n",
       "    </tr>\n",
       "    <tr>\n",
       "      <th>3</th>\n",
       "      <td>637.063678</td>\n",
       "      <td>1272.112804</td>\n",
       "      <td>1.642110e+05</td>\n",
       "      <td>389.475833</td>\n",
       "      <td>54737.000000</td>\n",
       "      <td>1273.120104</td>\n",
       "    </tr>\n",
       "    <tr>\n",
       "      <th>4</th>\n",
       "      <td>637.126744</td>\n",
       "      <td>1272.238935</td>\n",
       "      <td>1.058051e+05</td>\n",
       "      <td>272.020260</td>\n",
       "      <td>47164.333333</td>\n",
       "      <td>1273.246235</td>\n",
       "    </tr>\n",
       "    <tr>\n",
       "      <th>5</th>\n",
       "      <td>637.275049</td>\n",
       "      <td>1272.535546</td>\n",
       "      <td>8.902200e+04</td>\n",
       "      <td>252.046007</td>\n",
       "      <td>44511.000000</td>\n",
       "      <td>1273.542846</td>\n",
       "    </tr>\n",
       "    <tr>\n",
       "      <th>6</th>\n",
       "      <td>636.632863</td>\n",
       "      <td>1906.876761</td>\n",
       "      <td>3.760930e+05</td>\n",
       "      <td>757.156955</td>\n",
       "      <td>125364.333333</td>\n",
       "      <td>1907.884061</td>\n",
       "    </tr>\n",
       "  </tbody>\n",
       "</table>\n",
       "</div>"
      ],
      "text/plain": [
       "           mz  neutral_mass     intensity        score             SN  \\\n",
       "0  636.271488    635.264212  5.184601e+04   249.127562   48599.000000   \n",
       "1  636.765499   1271.516445  3.478930e+04    92.988368   46334.000000   \n",
       "2  636.862136   1271.709718  2.541305e+06  2286.092019  847101.666667   \n",
       "3  637.063678   1272.112804  1.642110e+05   389.475833   54737.000000   \n",
       "4  637.126744   1272.238935  1.058051e+05   272.020260   47164.333333   \n",
       "5  637.275049   1272.535546  8.902200e+04   252.046007   44511.000000   \n",
       "6  636.632863   1906.876761  3.760930e+05   757.156955  125364.333333   \n",
       "\n",
       "      m_plus_h  \n",
       "0   636.271512  \n",
       "1  1272.523745  \n",
       "2  1272.717018  \n",
       "3  1273.120104  \n",
       "4  1273.246235  \n",
       "5  1273.542846  \n",
       "6  1907.884061  "
      ]
     },
     "execution_count": 1349,
     "metadata": {},
     "output_type": "execute_result"
    }
   ],
   "source": [
    "deconvoluted_peaks_df"
   ]
  },
  {
   "cell_type": "code",
   "execution_count": 1350,
   "metadata": {},
   "outputs": [
    {
     "data": {
      "image/png": "[encoded data removed]",
      "text/plain": [
       "<Figure size 1080x360 with 1 Axes>"
      ]
     },
     "metadata": {
      "needs_background": "light"
     },
     "output_type": "display_data"
    }
   ],
   "source": [
    "f, ax = plt.subplots()\n",
    "colors = ['tab:blue', 'tab:orange', 'tab:green', 'tab:red', 'tab:purple', 'tab:brown', 'tab:pink', 'tab:gray', 'tab:olive', 'tab:cyan']\n",
    "markerline, stemlines, baseline = ax.stem(deconvoluted_peaks_df.mz, deconvoluted_peaks_df.intensity, 'g')\n",
    "plt.setp(markerline, 'color', colors[2])\n",
    "plt.setp(stemlines, 'color', colors[2])\n",
    "plt.setp(baseline, 'color', colors[7])\n",
    "plt.xlabel('m/z')\n",
    "plt.ylabel('intensity')\n",
    "f.set_figheight(5)\n",
    "f.set_figwidth(15)\n",
    "plt.margins(0.06)\n",
    "plt.suptitle('Deconvoluted peaks for precursor ID {}'.format(precursor_id))\n",
    "plt.title('bin width {} Th'.format(MZ_BIN_WIDTH))\n",
    "plt.show()"
   ]
  },
  {
   "cell_type": "markdown",
   "metadata": {},
   "source": [
    "For each monoisotopic peak found, find its apex in RT and mobility"
   ]
  },
  {
   "cell_type": "code",
   "execution_count": 1375,
   "metadata": {},
   "outputs": [],
   "source": [
    "# assume the high score is for the monoisotopic peak\n",
    "monoisotopic_mz = deconvoluted_peaks_df.iloc[2].mz"
   ]
  },
  {
   "cell_type": "code",
   "execution_count": 1376,
   "metadata": {},
   "outputs": [
    {
     "data": {
      "text/plain": [
       "636.8621355823824"
      ]
     },
     "execution_count": 1376,
     "metadata": {},
     "output_type": "execute_result"
    }
   ],
   "source": [
    "monoisotopic_mz"
   ]
  },
  {
   "cell_type": "markdown",
   "metadata": {},
   "source": [
    "Get the raw points for the monoisotopic peak"
   ]
  },
  {
   "cell_type": "code",
   "execution_count": 1377,
   "metadata": {},
   "outputs": [],
   "source": [
    "MZ_TOLERANCE_PPM = 20\n",
    "MZ_TOLERANCE_PERCENT = MZ_TOLERANCE_PPM * 10**-4"
   ]
  },
  {
   "cell_type": "code",
   "execution_count": 1378,
   "metadata": {},
   "outputs": [],
   "source": [
    "monoisotopic_mz_ppm_tolerance = monoisotopic_mz * MZ_TOLERANCE_PERCENT / 100\n",
    "monoisotopic_mz_lower = monoisotopic_mz - monoisotopic_mz_ppm_tolerance\n",
    "monoisotopic_mz_upper = monoisotopic_mz + monoisotopic_mz_ppm_tolerance"
   ]
  },
  {
   "cell_type": "code",
   "execution_count": 1379,
   "metadata": {},
   "outputs": [],
   "source": [
    "monoisotopic_raw_points_df = raw_points_df[(raw_points_df.mz >= monoisotopic_mz_lower) & (raw_points_df.mz <= monoisotopic_mz_upper)]"
   ]
  },
  {
   "cell_type": "code",
   "execution_count": 1380,
   "metadata": {},
   "outputs": [
    {
     "data": {
      "text/html": [
       "<div>\n",
       "<style scoped>\n",
       "    .dataframe tbody tr th:only-of-type {\n",
       "        vertical-align: middle;\n",
       "    }\n",
       "\n",
       "    .dataframe tbody tr th {\n",
       "        vertical-align: top;\n",
       "    }\n",
       "\n",
       "    .dataframe thead th {\n",
       "        text-align: right;\n",
       "    }\n",
       "</style>\n",
       "<table border=\"1\" class=\"dataframe\">\n",
       "  <thead>\n",
       "    <tr style=\"text-align: right;\">\n",
       "      <th></th>\n",
       "      <th>frame_id</th>\n",
       "      <th>mz</th>\n",
       "      <th>scan</th>\n",
       "      <th>intensity</th>\n",
       "      <th>retention_time_secs</th>\n",
       "    </tr>\n",
       "  </thead>\n",
       "  <tbody>\n",
       "    <tr>\n",
       "      <th>79</th>\n",
       "      <td>41170</td>\n",
       "      <td>636.853320</td>\n",
       "      <td>567</td>\n",
       "      <td>79</td>\n",
       "      <td>4421.919624</td>\n",
       "    </tr>\n",
       "    <tr>\n",
       "      <th>80</th>\n",
       "      <td>41170</td>\n",
       "      <td>636.853320</td>\n",
       "      <td>568</td>\n",
       "      <td>129</td>\n",
       "      <td>4421.919624</td>\n",
       "    </tr>\n",
       "    <tr>\n",
       "      <th>81</th>\n",
       "      <td>41170</td>\n",
       "      <td>636.857299</td>\n",
       "      <td>531</td>\n",
       "      <td>9</td>\n",
       "      <td>4421.919624</td>\n",
       "    </tr>\n",
       "    <tr>\n",
       "      <th>82</th>\n",
       "      <td>41170</td>\n",
       "      <td>636.857299</td>\n",
       "      <td>579</td>\n",
       "      <td>52</td>\n",
       "      <td>4421.919624</td>\n",
       "    </tr>\n",
       "    <tr>\n",
       "      <th>83</th>\n",
       "      <td>41170</td>\n",
       "      <td>636.861278</td>\n",
       "      <td>554</td>\n",
       "      <td>59</td>\n",
       "      <td>4421.919624</td>\n",
       "    </tr>\n",
       "  </tbody>\n",
       "</table>\n",
       "</div>"
      ],
      "text/plain": [
       "    frame_id          mz  scan  intensity  retention_time_secs\n",
       "79     41170  636.853320   567         79          4421.919624\n",
       "80     41170  636.853320   568        129          4421.919624\n",
       "81     41170  636.857299   531          9          4421.919624\n",
       "82     41170  636.857299   579         52          4421.919624\n",
       "83     41170  636.861278   554         59          4421.919624"
      ]
     },
     "execution_count": 1380,
     "metadata": {},
     "output_type": "execute_result"
    }
   ],
   "source": [
    "monoisotopic_raw_points_df.head()"
   ]
  },
  {
   "cell_type": "markdown",
   "metadata": {},
   "source": [
    "Collapsing the summed points onto the RT dimension"
   ]
  },
  {
   "cell_type": "code",
   "execution_count": 1381,
   "metadata": {
    "scrolled": true
   },
   "outputs": [],
   "source": [
    "rt_df = monoisotopic_raw_points_df.groupby(['frame_id','retention_time_secs'], as_index=False).intensity.sum()"
   ]
  },
  {
   "cell_type": "code",
   "execution_count": 1382,
   "metadata": {},
   "outputs": [],
   "source": [
    "peaks_threshold = 0.3\n",
    "peaks_idx = peakutils.indexes(rt_df.intensity.values, thres=peaks_threshold, min_dist=10)\n",
    "if len(peaks_idx) == 0:\n",
    "    peaks_threshold -= 0.1\n",
    "    peaks_idx = peakutils.indexes(rt_df.intensity.values, thres=peaks_threshold, min_dist=10)\n",
    "peaks_df = rt_df.iloc[peaks_idx].copy()"
   ]
  },
  {
   "cell_type": "code",
   "execution_count": 1383,
   "metadata": {},
   "outputs": [
    {
     "data": {
      "text/html": [
       "<div>\n",
       "<style scoped>\n",
       "    .dataframe tbody tr th:only-of-type {\n",
       "        vertical-align: middle;\n",
       "    }\n",
       "\n",
       "    .dataframe tbody tr th {\n",
       "        vertical-align: top;\n",
       "    }\n",
       "\n",
       "    .dataframe thead th {\n",
       "        text-align: right;\n",
       "    }\n",
       "</style>\n",
       "<table border=\"1\" class=\"dataframe\">\n",
       "  <thead>\n",
       "    <tr style=\"text-align: right;\">\n",
       "      <th></th>\n",
       "      <th>frame_id</th>\n",
       "      <th>retention_time_secs</th>\n",
       "      <th>intensity</th>\n",
       "    </tr>\n",
       "  </thead>\n",
       "  <tbody>\n",
       "    <tr>\n",
       "      <th>36</th>\n",
       "      <td>41566</td>\n",
       "      <td>4464.423259</td>\n",
       "      <td>15477</td>\n",
       "    </tr>\n",
       "  </tbody>\n",
       "</table>\n",
       "</div>"
      ],
      "text/plain": [
       "    frame_id  retention_time_secs  intensity\n",
       "36     41566          4464.423259      15477"
      ]
     },
     "execution_count": 1383,
     "metadata": {},
     "output_type": "execute_result"
    }
   ],
   "source": [
    "peaks_df"
   ]
  },
  {
   "cell_type": "code",
   "execution_count": 1384,
   "metadata": {},
   "outputs": [],
   "source": [
    "peaks_df['fragmentation_rt_delta'] = abs(window_df.retention_time_secs - peaks_df.retention_time_secs)"
   ]
  },
  {
   "cell_type": "code",
   "execution_count": 1385,
   "metadata": {},
   "outputs": [
    {
     "data": {
      "text/html": [
       "<div>\n",
       "<style scoped>\n",
       "    .dataframe tbody tr th:only-of-type {\n",
       "        vertical-align: middle;\n",
       "    }\n",
       "\n",
       "    .dataframe tbody tr th {\n",
       "        vertical-align: top;\n",
       "    }\n",
       "\n",
       "    .dataframe thead th {\n",
       "        text-align: right;\n",
       "    }\n",
       "</style>\n",
       "<table border=\"1\" class=\"dataframe\">\n",
       "  <thead>\n",
       "    <tr style=\"text-align: right;\">\n",
       "      <th></th>\n",
       "      <th>frame_id</th>\n",
       "      <th>retention_time_secs</th>\n",
       "      <th>intensity</th>\n",
       "      <th>fragmentation_rt_delta</th>\n",
       "    </tr>\n",
       "  </thead>\n",
       "  <tbody>\n",
       "    <tr>\n",
       "      <th>36</th>\n",
       "      <td>41566</td>\n",
       "      <td>4464.423259</td>\n",
       "      <td>15477</td>\n",
       "      <td>13.51262</td>\n",
       "    </tr>\n",
       "  </tbody>\n",
       "</table>\n",
       "</div>"
      ],
      "text/plain": [
       "    frame_id  retention_time_secs  intensity  fragmentation_rt_delta\n",
       "36     41566          4464.423259      15477                13.51262"
      ]
     },
     "execution_count": 1385,
     "metadata": {},
     "output_type": "execute_result"
    }
   ],
   "source": [
    "peaks_df"
   ]
  },
  {
   "cell_type": "code",
   "execution_count": 1386,
   "metadata": {},
   "outputs": [
    {
     "data": {
      "text/plain": [
       "frame_id                  41566.000000\n",
       "retention_time_secs        4464.423259\n",
       "intensity                 15477.000000\n",
       "fragmentation_rt_delta       13.512620\n",
       "Name: 36, dtype: float64"
      ]
     },
     "execution_count": 1386,
     "metadata": {},
     "output_type": "execute_result"
    }
   ],
   "source": [
    "# get the peak closest to the fragmentation event\n",
    "peaks_df.loc[peaks_df.fragmentation_rt_delta.idxmin()]"
   ]
  },
  {
   "cell_type": "code",
   "execution_count": 1387,
   "metadata": {},
   "outputs": [
    {
     "data": {
      "text/plain": [
       "36"
      ]
     },
     "execution_count": 1387,
     "metadata": {},
     "output_type": "execute_result"
    }
   ],
   "source": [
    "# index of the closest peak\n",
    "peak_idx = peaks_df.fragmentation_rt_delta.idxmin()\n",
    "peak_idx"
   ]
  },
  {
   "cell_type": "code",
   "execution_count": 1388,
   "metadata": {},
   "outputs": [],
   "source": [
    "valleys_idx = peakutils.indexes(-rt_df.intensity.values, thres=0.6, min_dist=RT_BASE_PEAK_WIDTH_SECS/20)\n",
    "valleys_df = rt_df.iloc[valleys_idx].copy()"
   ]
  },
  {
   "cell_type": "code",
   "execution_count": 1389,
   "metadata": {},
   "outputs": [
    {
     "data": {
      "text/html": [
       "<div>\n",
       "<style scoped>\n",
       "    .dataframe tbody tr th:only-of-type {\n",
       "        vertical-align: middle;\n",
       "    }\n",
       "\n",
       "    .dataframe tbody tr th {\n",
       "        vertical-align: top;\n",
       "    }\n",
       "\n",
       "    .dataframe thead th {\n",
       "        text-align: right;\n",
       "    }\n",
       "</style>\n",
       "<table border=\"1\" class=\"dataframe\">\n",
       "  <thead>\n",
       "    <tr style=\"text-align: right;\">\n",
       "      <th></th>\n",
       "      <th>frame_id</th>\n",
       "      <th>retention_time_secs</th>\n",
       "      <th>intensity</th>\n",
       "    </tr>\n",
       "  </thead>\n",
       "  <tbody>\n",
       "    <tr>\n",
       "      <th>4</th>\n",
       "      <td>41214</td>\n",
       "      <td>4426.643707</td>\n",
       "      <td>299</td>\n",
       "    </tr>\n",
       "    <tr>\n",
       "      <th>8</th>\n",
       "      <td>41258</td>\n",
       "      <td>4431.368938</td>\n",
       "      <td>570</td>\n",
       "    </tr>\n",
       "    <tr>\n",
       "      <th>10</th>\n",
       "      <td>41280</td>\n",
       "      <td>4433.733502</td>\n",
       "      <td>477</td>\n",
       "    </tr>\n",
       "    <tr>\n",
       "      <th>12</th>\n",
       "      <td>41302</td>\n",
       "      <td>4436.095270</td>\n",
       "      <td>891</td>\n",
       "    </tr>\n",
       "    <tr>\n",
       "      <th>17</th>\n",
       "      <td>41357</td>\n",
       "      <td>4441.995797</td>\n",
       "      <td>321</td>\n",
       "    </tr>\n",
       "    <tr>\n",
       "      <th>21</th>\n",
       "      <td>41401</td>\n",
       "      <td>4446.722907</td>\n",
       "      <td>496</td>\n",
       "    </tr>\n",
       "    <tr>\n",
       "      <th>25</th>\n",
       "      <td>41445</td>\n",
       "      <td>4451.447545</td>\n",
       "      <td>1168</td>\n",
       "    </tr>\n",
       "    <tr>\n",
       "      <th>27</th>\n",
       "      <td>41467</td>\n",
       "      <td>4453.805803</td>\n",
       "      <td>1692</td>\n",
       "    </tr>\n",
       "    <tr>\n",
       "      <th>31</th>\n",
       "      <td>41511</td>\n",
       "      <td>4458.525167</td>\n",
       "      <td>1525</td>\n",
       "    </tr>\n",
       "    <tr>\n",
       "      <th>46</th>\n",
       "      <td>41676</td>\n",
       "      <td>4476.228771</td>\n",
       "      <td>1081</td>\n",
       "    </tr>\n",
       "  </tbody>\n",
       "</table>\n",
       "</div>"
      ],
      "text/plain": [
       "    frame_id  retention_time_secs  intensity\n",
       "4      41214          4426.643707        299\n",
       "8      41258          4431.368938        570\n",
       "10     41280          4433.733502        477\n",
       "12     41302          4436.095270        891\n",
       "17     41357          4441.995797        321\n",
       "21     41401          4446.722907        496\n",
       "25     41445          4451.447545       1168\n",
       "27     41467          4453.805803       1692\n",
       "31     41511          4458.525167       1525\n",
       "46     41676          4476.228771       1081"
      ]
     },
     "execution_count": 1389,
     "metadata": {},
     "output_type": "execute_result"
    }
   ],
   "source": [
    "valleys_df"
   ]
  },
  {
   "cell_type": "code",
   "execution_count": 1390,
   "metadata": {},
   "outputs": [
    {
     "data": {
      "text/plain": [
       "array([ 4,  8, 10, 12, 17, 21, 25, 27, 31, 46])"
      ]
     },
     "execution_count": 1390,
     "metadata": {},
     "output_type": "execute_result"
    }
   ],
   "source": [
    "valleys_idx"
   ]
  },
  {
   "cell_type": "code",
   "execution_count": 1391,
   "metadata": {},
   "outputs": [],
   "source": [
    "# find the closest valley above the peak\n",
    "if max(valleys_idx) > peak_idx:\n",
    "    valley_idx_above = valleys_idx[valleys_idx > peak_idx].min()\n",
    "else:\n",
    "    valley_idx_above = -1"
   ]
  },
  {
   "cell_type": "code",
   "execution_count": 1392,
   "metadata": {},
   "outputs": [],
   "source": [
    "# find the closest valley below the peak\n",
    "if min(valleys_idx) < peak_idx:\n",
    "    valley_idx_below = valleys_idx[valleys_idx < peak_idx].max()\n",
    "else:\n",
    "    valley_idx_below = -1"
   ]
  },
  {
   "cell_type": "code",
   "execution_count": 1393,
   "metadata": {},
   "outputs": [
    {
     "name": "stdout",
     "output_type": "stream",
     "text": [
      "31,46\n"
     ]
    }
   ],
   "source": [
    "print(\"{},{}\".format(valley_idx_below, valley_idx_above))"
   ]
  },
  {
   "cell_type": "code",
   "execution_count": 1394,
   "metadata": {
    "scrolled": false
   },
   "outputs": [
    {
     "data": {
      "image/png": "[encoded data removed]",
      "text/plain": [
       "<Figure size 1080x360 with 1 Axes>"
      ]
     },
     "metadata": {
      "needs_background": "light"
     },
     "output_type": "display_data"
    }
   ],
   "source": [
    "f, ax = plt.subplots()\n",
    "ax.plot(rt_df.retention_time_secs, rt_df.intensity, marker='o', color='green', linestyle='-', linewidth=1, ms=5)\n",
    "ax.plot(peaks_df.retention_time_secs, peaks_df.intensity, marker='o', color='orange', linestyle='', markeredgewidth=3, ms=10, label='peak')\n",
    "ax.plot(peaks_df.loc[peak_idx].retention_time_secs, peaks_df.loc[peak_idx].intensity, marker='o', markerfacecolor='none', markeredgecolor='saddlebrown', linestyle='', markeredgewidth=4, ms=15, label='selected peak')\n",
    "if valley_idx_below != -1:\n",
    "    ax.plot(valleys_df.loc[valley_idx_below].retention_time_secs, valleys_df.loc[valley_idx_below].intensity, marker='o', color='springgreen', linestyle='', markeredgewidth=1, ms=10, label='valley below')\n",
    "if valley_idx_above != -1:\n",
    "    ax.plot(valleys_df.loc[valley_idx_above].retention_time_secs, valleys_df.loc[valley_idx_above].intensity, marker='o', color='red', linestyle='', markeredgewidth=1, ms=10, label='valley above')\n",
    "plt.axvline(x=window_df.retention_time_secs, linestyle=':', color='tab:red', label='fragmentation')\n",
    "plt.legend(loc='best')\n",
    "plt.xlabel('RT secs')\n",
    "plt.ylabel('intensity')\n",
    "f.set_figheight(5)\n",
    "f.set_figwidth(15)\n",
    "plt.suptitle('Raw points summed by frame for precursor ID {}'.format(precursor_id))\n",
    "plt.title('for base peak width in RT of {} secs'.format(RT_BASE_PEAK_WIDTH_SECS))\n",
    "plt.margins(0.06)\n",
    "plt.show()"
   ]
  },
  {
   "cell_type": "markdown",
   "metadata": {},
   "source": [
    "Collapsing the summed points onto the mobility dimension"
   ]
  },
  {
   "cell_type": "code",
   "execution_count": 1395,
   "metadata": {},
   "outputs": [
    {
     "name": "stdout",
     "output_type": "stream",
     "text": [
      "updating RT to be above 4458.525166869978\n"
     ]
    }
   ],
   "source": [
    "# constrain the RT to the peak width estimated in the previous step\n",
    "if valley_idx_below != -1:\n",
    "    rt_lower = valleys_df.loc[valley_idx_below].retention_time_secs\n",
    "    print(\"updating RT to be above {}\".format(rt_lower))\n",
    "    monoisotopic_raw_points_df = monoisotopic_raw_points_df[monoisotopic_raw_points_df.retention_time_secs >= rt_lower]"
   ]
  },
  {
   "cell_type": "code",
   "execution_count": 1396,
   "metadata": {},
   "outputs": [
    {
     "name": "stdout",
     "output_type": "stream",
     "text": [
      "updating RT to be below 4476.2287711842455\n"
     ]
    }
   ],
   "source": [
    "# constrain the RT to the peak width estimated in the previous step\n",
    "if valley_idx_above != -1:\n",
    "    rt_upper = valleys_df.loc[valley_idx_above].retention_time_secs\n",
    "    print(\"updating RT to be below {}\".format(rt_upper))\n",
    "    monoisotopic_raw_points_df = monoisotopic_raw_points_df[monoisotopic_raw_points_df.retention_time_secs <= rt_upper]"
   ]
  },
  {
   "cell_type": "code",
   "execution_count": 1397,
   "metadata": {
    "scrolled": false
   },
   "outputs": [],
   "source": [
    "scan_df = monoisotopic_raw_points_df.groupby(['scan'], as_index=False).intensity.sum()"
   ]
  },
  {
   "cell_type": "code",
   "execution_count": 1399,
   "metadata": {},
   "outputs": [],
   "source": [
    "centroid_scan = peakutils.centroid(scan_df.scan, scan_df.intensity)"
   ]
  },
  {
   "cell_type": "code",
   "execution_count": 1400,
   "metadata": {},
   "outputs": [
    {
     "data": {
      "text/plain": [
       "544.9568175096125"
      ]
     },
     "execution_count": 1400,
     "metadata": {},
     "output_type": "execute_result"
    }
   ],
   "source": [
    "centroid_scan"
   ]
  },
  {
   "cell_type": "code",
   "execution_count": 1401,
   "metadata": {},
   "outputs": [
    {
     "data": {
      "image/png": "[encoded data removed]",
      "text/plain": [
       "<Figure size 1080x360 with 1 Axes>"
      ]
     },
     "metadata": {
      "needs_background": "light"
     },
     "output_type": "display_data"
    }
   ],
   "source": [
    "f, ax = plt.subplots()\n",
    "ax.plot(scan_df.scan, scan_df.intensity, marker='o', color='green', linestyle='-', linewidth=1, ms=5)\n",
    "# ax.plot(peaks_df.retention_time_secs, peaks_df.intensity, marker='o', color='orange', linestyle='', markeredgewidth=3, ms=10, label='peak')\n",
    "plt.axvline(x=window_df.ScanNumBegin, linestyle=':', color='springgreen', label='Lower MQ range')\n",
    "plt.axvline(x=window_df.ScanNumEnd, linestyle=':', color='red', label='Upper MQ range')\n",
    "plt.axvline(x=centroid_scan, linestyle=':', color='orange', label='Centroid')\n",
    "plt.legend(loc='best')\n",
    "plt.xlabel('scan')\n",
    "plt.ylabel('intensity')\n",
    "f.set_figheight(5)\n",
    "f.set_figwidth(15)\n",
    "plt.suptitle('Raw points summed by scan for precursor ID {}'.format(precursor_id))\n",
    "# plt.title('RT width {} secs'.format(2*RT_BASE_PEAK_WIDTH_SECS))\n",
    "plt.margins(0.06)\n",
    "plt.show()"
   ]
  },
  {
   "cell_type": "code",
   "execution_count": null,
   "metadata": {},
   "outputs": [],
   "source": []
  }
 ],
 "metadata": {
  "kernelspec": {
   "display_name": "Python 3",
   "language": "python",
   "name": "python3"
  },
  "language_info": {
   "codemirror_mode": {
    "name": "ipython",
    "version": 3
   },
   "file_extension": ".py",
   "mimetype": "text/x-python",
   "name": "python",
   "nbconvert_exporter": "python",
   "pygments_lexer": "ipython3",
   "version": "3.6.7"
  }
 },
 "nbformat": 4,
 "nbformat_minor": 2
}
