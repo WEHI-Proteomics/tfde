{
 "cells": [
  {
   "cell_type": "code",
   "execution_count": 1,
   "metadata": {},
   "outputs": [],
   "source": [
    "import sqlite3\n",
    "import pandas as pd\n",
    "import numpy as np\n",
    "import sys\n",
    "import matplotlib.pyplot as plt"
   ]
  },
  {
   "cell_type": "code",
   "execution_count": 2,
   "metadata": {},
   "outputs": [],
   "source": [
    "RT_LIMIT_LOWER = 4340  # RT range in the database\n",
    "RT_LIMIT_UPPER = 4580\n",
    "RT_BASE_PEAK_WIDTH_SECS = 30.0  # assumption about base peak width in RT\n",
    "MS1_CE = 10"
   ]
  },
  {
   "cell_type": "code",
   "execution_count": 3,
   "metadata": {},
   "outputs": [],
   "source": [
    "BASE_NAME = \"/Users/darylwilding-mcbride/Downloads/HeLa_20KInt-rt-{}-{}\".format(RT_LIMIT_LOWER,RT_LIMIT_UPPER)\n",
    "ALLPEPTIDES_FILENAME = '/Users/darylwilding-mcbride/Downloads/maxquant_results/txt/allPeptides.txt'\n",
    "# BASE_NAME = \"/home/ubuntu/HeLa_20KInt-rt-{}-{}\".format(RT_LIMIT_LOWER,RT_LIMIT_UPPER)\n",
    "# ALLPEPTIDES_FILENAME = '/home/ubuntu/maxquant_results/txt/allPeptides.txt'\n",
    "\n",
    "CONVERTED_DATABASE_NAME = '{}/HeLa_20KInt.sqlite'.format(BASE_NAME)"
   ]
  },
  {
   "cell_type": "code",
   "execution_count": 4,
   "metadata": {},
   "outputs": [
    {
     "data": {
      "text/plain": [
       "'/Users/darylwilding-mcbride/Downloads/HeLa_20KInt-rt-4340-4580/HeLa_20KInt.sqlite'"
      ]
     },
     "execution_count": 4,
     "metadata": {},
     "output_type": "execute_result"
    }
   ],
   "source": [
    "CONVERTED_DATABASE_NAME"
   ]
  },
  {
   "cell_type": "code",
   "execution_count": 5,
   "metadata": {},
   "outputs": [],
   "source": [
    "db_conn = sqlite3.connect(CONVERTED_DATABASE_NAME)\n",
    "ms1_frame_properties_df = pd.read_sql_query(\"select frame_id,retention_time_secs from frame_properties where retention_time_secs >= {} and retention_time_secs <= {} and collision_energy == {}\".format(RT_LIMIT_LOWER,RT_LIMIT_UPPER,MS1_CE), db_conn)\n",
    "ms2_frame_properties_df = pd.read_sql_query(\"select frame_id,retention_time_secs from frame_properties where retention_time_secs >= {} and retention_time_secs <= {} and collision_energy <> {}\".format(RT_LIMIT_LOWER,RT_LIMIT_UPPER,MS1_CE), db_conn)\n",
    "db_conn.close()"
   ]
  },
  {
   "cell_type": "code",
   "execution_count": 6,
   "metadata": {},
   "outputs": [
    {
     "data": {
      "text/html": [
       "<div>\n",
       "<style scoped>\n",
       "    .dataframe tbody tr th:only-of-type {\n",
       "        vertical-align: middle;\n",
       "    }\n",
       "\n",
       "    .dataframe tbody tr th {\n",
       "        vertical-align: top;\n",
       "    }\n",
       "\n",
       "    .dataframe thead th {\n",
       "        text-align: right;\n",
       "    }\n",
       "</style>\n",
       "<table border=\"1\" class=\"dataframe\">\n",
       "  <thead>\n",
       "    <tr style=\"text-align: right;\">\n",
       "      <th></th>\n",
       "      <th>frame_id</th>\n",
       "      <th>retention_time_secs</th>\n",
       "    </tr>\n",
       "  </thead>\n",
       "  <tbody>\n",
       "    <tr>\n",
       "      <th>0</th>\n",
       "      <td>40411</td>\n",
       "      <td>4340.340330</td>\n",
       "    </tr>\n",
       "    <tr>\n",
       "      <th>1</th>\n",
       "      <td>40422</td>\n",
       "      <td>4341.521415</td>\n",
       "    </tr>\n",
       "    <tr>\n",
       "      <th>2</th>\n",
       "      <td>40433</td>\n",
       "      <td>4342.702923</td>\n",
       "    </tr>\n",
       "    <tr>\n",
       "      <th>3</th>\n",
       "      <td>40444</td>\n",
       "      <td>4343.883324</td>\n",
       "    </tr>\n",
       "    <tr>\n",
       "      <th>4</th>\n",
       "      <td>40455</td>\n",
       "      <td>4345.067491</td>\n",
       "    </tr>\n",
       "  </tbody>\n",
       "</table>\n",
       "</div>"
      ],
      "text/plain": [
       "   frame_id  retention_time_secs\n",
       "0     40411          4340.340330\n",
       "1     40422          4341.521415\n",
       "2     40433          4342.702923\n",
       "3     40444          4343.883324\n",
       "4     40455          4345.067491"
      ]
     },
     "execution_count": 6,
     "metadata": {},
     "output_type": "execute_result"
    }
   ],
   "source": [
    "ms1_frame_properties_df.head()"
   ]
  },
  {
   "cell_type": "code",
   "execution_count": 7,
   "metadata": {},
   "outputs": [
    {
     "data": {
      "text/html": [
       "<div>\n",
       "<style scoped>\n",
       "    .dataframe tbody tr th:only-of-type {\n",
       "        vertical-align: middle;\n",
       "    }\n",
       "\n",
       "    .dataframe tbody tr th {\n",
       "        vertical-align: top;\n",
       "    }\n",
       "\n",
       "    .dataframe thead th {\n",
       "        text-align: right;\n",
       "    }\n",
       "</style>\n",
       "<table border=\"1\" class=\"dataframe\">\n",
       "  <thead>\n",
       "    <tr style=\"text-align: right;\">\n",
       "      <th></th>\n",
       "      <th>frame_id</th>\n",
       "      <th>retention_time_secs</th>\n",
       "    </tr>\n",
       "  </thead>\n",
       "  <tbody>\n",
       "    <tr>\n",
       "      <th>0</th>\n",
       "      <td>40408</td>\n",
       "      <td>4340.019894</td>\n",
       "    </tr>\n",
       "    <tr>\n",
       "      <th>1</th>\n",
       "      <td>40409</td>\n",
       "      <td>4340.127084</td>\n",
       "    </tr>\n",
       "    <tr>\n",
       "      <th>2</th>\n",
       "      <td>40410</td>\n",
       "      <td>4340.233855</td>\n",
       "    </tr>\n",
       "    <tr>\n",
       "      <th>3</th>\n",
       "      <td>40412</td>\n",
       "      <td>4340.446655</td>\n",
       "    </tr>\n",
       "    <tr>\n",
       "      <th>4</th>\n",
       "      <td>40413</td>\n",
       "      <td>4340.554812</td>\n",
       "    </tr>\n",
       "  </tbody>\n",
       "</table>\n",
       "</div>"
      ],
      "text/plain": [
       "   frame_id  retention_time_secs\n",
       "0     40408          4340.019894\n",
       "1     40409          4340.127084\n",
       "2     40410          4340.233855\n",
       "3     40412          4340.446655\n",
       "4     40413          4340.554812"
      ]
     },
     "execution_count": 7,
     "metadata": {},
     "output_type": "execute_result"
    }
   ],
   "source": [
    "ms2_frame_properties_df.head()"
   ]
  },
  {
   "cell_type": "code",
   "execution_count": 8,
   "metadata": {},
   "outputs": [
    {
     "data": {
      "text/plain": [
       "1.1810854877303427"
      ]
     },
     "execution_count": 8,
     "metadata": {},
     "output_type": "execute_result"
    }
   ],
   "source": [
    "ms1_frame_delay = ms1_frame_properties_df.iloc[1].retention_time_secs - ms1_frame_properties_df.iloc[0].retention_time_secs\n",
    "ms1_frame_delay"
   ]
  },
  {
   "cell_type": "code",
   "execution_count": 9,
   "metadata": {},
   "outputs": [
    {
     "data": {
      "text/plain": [
       "203"
      ]
     },
     "execution_count": 9,
     "metadata": {},
     "output_type": "execute_result"
    }
   ],
   "source": [
    "len(ms1_frame_properties_df)"
   ]
  },
  {
   "cell_type": "code",
   "execution_count": 10,
   "metadata": {},
   "outputs": [],
   "source": [
    "# get all the isolation windows\n",
    "isolation_window_df = pd.read_pickle('/Users/darylwilding-mcbride/Downloads/isolation_window_df.pkl')"
   ]
  },
  {
   "cell_type": "code",
   "execution_count": 11,
   "metadata": {},
   "outputs": [
    {
     "data": {
      "text/html": [
       "<div>\n",
       "<style scoped>\n",
       "    .dataframe tbody tr th:only-of-type {\n",
       "        vertical-align: middle;\n",
       "    }\n",
       "\n",
       "    .dataframe tbody tr th {\n",
       "        vertical-align: top;\n",
       "    }\n",
       "\n",
       "    .dataframe thead th {\n",
       "        text-align: right;\n",
       "    }\n",
       "</style>\n",
       "<table border=\"1\" class=\"dataframe\">\n",
       "  <thead>\n",
       "    <tr style=\"text-align: right;\">\n",
       "      <th></th>\n",
       "      <th>Frame</th>\n",
       "      <th>ScanNumBegin</th>\n",
       "      <th>ScanNumEnd</th>\n",
       "      <th>IsolationMz</th>\n",
       "      <th>IsolationWidth</th>\n",
       "      <th>CollisionEnergy</th>\n",
       "      <th>Precursor</th>\n",
       "    </tr>\n",
       "  </thead>\n",
       "  <tbody>\n",
       "    <tr>\n",
       "      <th>0</th>\n",
       "      <td>3</td>\n",
       "      <td>507</td>\n",
       "      <td>532</td>\n",
       "      <td>742.744835</td>\n",
       "      <td>2.427448</td>\n",
       "      <td>36.96</td>\n",
       "      <td>1</td>\n",
       "    </tr>\n",
       "    <tr>\n",
       "      <th>1</th>\n",
       "      <td>3</td>\n",
       "      <td>549</td>\n",
       "      <td>574</td>\n",
       "      <td>709.235759</td>\n",
       "      <td>2.092358</td>\n",
       "      <td>36.96</td>\n",
       "      <td>2</td>\n",
       "    </tr>\n",
       "    <tr>\n",
       "      <th>2</th>\n",
       "      <td>3</td>\n",
       "      <td>602</td>\n",
       "      <td>627</td>\n",
       "      <td>594.235088</td>\n",
       "      <td>2.000000</td>\n",
       "      <td>36.96</td>\n",
       "      <td>3</td>\n",
       "    </tr>\n",
       "    <tr>\n",
       "      <th>3</th>\n",
       "      <td>3</td>\n",
       "      <td>643</td>\n",
       "      <td>668</td>\n",
       "      <td>503.527768</td>\n",
       "      <td>2.000000</td>\n",
       "      <td>36.96</td>\n",
       "      <td>4</td>\n",
       "    </tr>\n",
       "    <tr>\n",
       "      <th>4</th>\n",
       "      <td>3</td>\n",
       "      <td>684</td>\n",
       "      <td>709</td>\n",
       "      <td>552.063870</td>\n",
       "      <td>2.000000</td>\n",
       "      <td>31.92</td>\n",
       "      <td>5</td>\n",
       "    </tr>\n",
       "  </tbody>\n",
       "</table>\n",
       "</div>"
      ],
      "text/plain": [
       "   Frame  ScanNumBegin  ScanNumEnd  IsolationMz  IsolationWidth  \\\n",
       "0      3           507         532   742.744835        2.427448   \n",
       "1      3           549         574   709.235759        2.092358   \n",
       "2      3           602         627   594.235088        2.000000   \n",
       "3      3           643         668   503.527768        2.000000   \n",
       "4      3           684         709   552.063870        2.000000   \n",
       "\n",
       "   CollisionEnergy  Precursor  \n",
       "0            36.96          1  \n",
       "1            36.96          2  \n",
       "2            36.96          3  \n",
       "3            36.96          4  \n",
       "4            31.92          5  "
      ]
     },
     "execution_count": 11,
     "metadata": {},
     "output_type": "execute_result"
    }
   ],
   "source": [
    "isolation_window_df.head()"
   ]
  },
  {
   "cell_type": "code",
   "execution_count": 12,
   "metadata": {},
   "outputs": [],
   "source": [
    "# add-in the retention time for the isolation windows and filter out the window not in range\n",
    "isolation_window_df = pd.merge(isolation_window_df, ms2_frame_properties_df, how='left', left_on=['Frame'], right_on=['frame_id'])\n",
    "isolation_window_df.drop(['frame_id', 'CollisionEnergy'], axis=1, inplace=True)\n",
    "isolation_window_df.dropna(subset=['retention_time_secs'], inplace=True)\n",
    "isolation_window_df['mz_lower'] = isolation_window_df.IsolationMz - (isolation_window_df.IsolationWidth / 2)\n",
    "isolation_window_df['mz_upper'] = isolation_window_df.IsolationMz + (isolation_window_df.IsolationWidth / 2)\n",
    "isolation_window_df['rt_lower'] = isolation_window_df.retention_time_secs - RT_BASE_PEAK_WIDTH_SECS\n",
    "isolation_window_df['rt_upper'] = isolation_window_df.retention_time_secs + RT_BASE_PEAK_WIDTH_SECS"
   ]
  },
  {
   "cell_type": "code",
   "execution_count": 13,
   "metadata": {},
   "outputs": [],
   "source": [
    "# filter out isolation windows that don't fit in the database subset we have loaded\n",
    "isolation_window_df = isolation_window_df[(isolation_window_df.rt_lower >= RT_LIMIT_LOWER) & (isolation_window_df.rt_upper <= RT_LIMIT_UPPER)]"
   ]
  },
  {
   "cell_type": "code",
   "execution_count": 14,
   "metadata": {},
   "outputs": [
    {
     "data": {
      "text/html": [
       "<div>\n",
       "<style scoped>\n",
       "    .dataframe tbody tr th:only-of-type {\n",
       "        vertical-align: middle;\n",
       "    }\n",
       "\n",
       "    .dataframe tbody tr th {\n",
       "        vertical-align: top;\n",
       "    }\n",
       "\n",
       "    .dataframe thead th {\n",
       "        text-align: right;\n",
       "    }\n",
       "</style>\n",
       "<table border=\"1\" class=\"dataframe\">\n",
       "  <thead>\n",
       "    <tr style=\"text-align: right;\">\n",
       "      <th></th>\n",
       "      <th>Frame</th>\n",
       "      <th>ScanNumBegin</th>\n",
       "      <th>ScanNumEnd</th>\n",
       "      <th>IsolationMz</th>\n",
       "      <th>IsolationWidth</th>\n",
       "      <th>Precursor</th>\n",
       "      <th>retention_time_secs</th>\n",
       "      <th>mz_lower</th>\n",
       "      <th>mz_upper</th>\n",
       "      <th>rt_lower</th>\n",
       "      <th>rt_upper</th>\n",
       "    </tr>\n",
       "  </thead>\n",
       "  <tbody>\n",
       "    <tr>\n",
       "      <th>315657</th>\n",
       "      <td>40688</td>\n",
       "      <td>219</td>\n",
       "      <td>244</td>\n",
       "      <td>1106.675230</td>\n",
       "      <td>3.0</td>\n",
       "      <td>148941</td>\n",
       "      <td>4370.101926</td>\n",
       "      <td>1105.175230</td>\n",
       "      <td>1108.175230</td>\n",
       "      <td>4340.101926</td>\n",
       "      <td>4400.101926</td>\n",
       "    </tr>\n",
       "    <tr>\n",
       "      <th>315658</th>\n",
       "      <td>40688</td>\n",
       "      <td>287</td>\n",
       "      <td>312</td>\n",
       "      <td>987.488407</td>\n",
       "      <td>3.0</td>\n",
       "      <td>148938</td>\n",
       "      <td>4370.101926</td>\n",
       "      <td>985.988407</td>\n",
       "      <td>988.988407</td>\n",
       "      <td>4340.101926</td>\n",
       "      <td>4400.101926</td>\n",
       "    </tr>\n",
       "    <tr>\n",
       "      <th>315659</th>\n",
       "      <td>40688</td>\n",
       "      <td>344</td>\n",
       "      <td>369</td>\n",
       "      <td>922.491024</td>\n",
       "      <td>3.0</td>\n",
       "      <td>148930</td>\n",
       "      <td>4370.101926</td>\n",
       "      <td>920.991024</td>\n",
       "      <td>923.991024</td>\n",
       "      <td>4340.101926</td>\n",
       "      <td>4400.101926</td>\n",
       "    </tr>\n",
       "    <tr>\n",
       "      <th>315660</th>\n",
       "      <td>40688</td>\n",
       "      <td>386</td>\n",
       "      <td>411</td>\n",
       "      <td>884.941548</td>\n",
       "      <td>3.0</td>\n",
       "      <td>148942</td>\n",
       "      <td>4370.101926</td>\n",
       "      <td>883.441548</td>\n",
       "      <td>886.441548</td>\n",
       "      <td>4340.101926</td>\n",
       "      <td>4400.101926</td>\n",
       "    </tr>\n",
       "    <tr>\n",
       "      <th>315661</th>\n",
       "      <td>40688</td>\n",
       "      <td>434</td>\n",
       "      <td>459</td>\n",
       "      <td>876.400632</td>\n",
       "      <td>3.0</td>\n",
       "      <td>148943</td>\n",
       "      <td>4370.101926</td>\n",
       "      <td>874.900632</td>\n",
       "      <td>877.900632</td>\n",
       "      <td>4340.101926</td>\n",
       "      <td>4400.101926</td>\n",
       "    </tr>\n",
       "  </tbody>\n",
       "</table>\n",
       "</div>"
      ],
      "text/plain": [
       "        Frame  ScanNumBegin  ScanNumEnd  IsolationMz  IsolationWidth  \\\n",
       "315657  40688           219         244  1106.675230             3.0   \n",
       "315658  40688           287         312   987.488407             3.0   \n",
       "315659  40688           344         369   922.491024             3.0   \n",
       "315660  40688           386         411   884.941548             3.0   \n",
       "315661  40688           434         459   876.400632             3.0   \n",
       "\n",
       "        Precursor  retention_time_secs     mz_lower     mz_upper     rt_lower  \\\n",
       "315657     148941          4370.101926  1105.175230  1108.175230  4340.101926   \n",
       "315658     148938          4370.101926   985.988407   988.988407  4340.101926   \n",
       "315659     148930          4370.101926   920.991024   923.991024  4340.101926   \n",
       "315660     148942          4370.101926   883.441548   886.441548  4340.101926   \n",
       "315661     148943          4370.101926   874.900632   877.900632  4340.101926   \n",
       "\n",
       "           rt_upper  \n",
       "315657  4400.101926  \n",
       "315658  4400.101926  \n",
       "315659  4400.101926  \n",
       "315660  4400.101926  \n",
       "315661  4400.101926  "
      ]
     },
     "execution_count": 14,
     "metadata": {},
     "output_type": "execute_result"
    }
   ],
   "source": [
    "isolation_window_df.head()"
   ]
  },
  {
   "cell_type": "markdown",
   "metadata": {},
   "source": [
    "Select one of the precursors"
   ]
  },
  {
   "cell_type": "code",
   "execution_count": 15,
   "metadata": {},
   "outputs": [
    {
     "name": "stdout",
     "output_type": "stream",
     "text": [
      "There are 17860 precursor isolation windows.\n"
     ]
    }
   ],
   "source": [
    "print(\"There are {} precursor isolation windows.\".format(len(isolation_window_df)))"
   ]
  },
  {
   "cell_type": "code",
   "execution_count": 555,
   "metadata": {},
   "outputs": [],
   "source": [
    "ISOLATION_WINDOW_IDX = 2305\n",
    "window_df = isolation_window_df.iloc[ISOLATION_WINDOW_IDX]"
   ]
  },
  {
   "cell_type": "code",
   "execution_count": 556,
   "metadata": {},
   "outputs": [],
   "source": [
    "# PRECURSOR_ID = 154951\n",
    "# window_df = isolation_window_df[isolation_window_df.Precursor == PRECURSOR_ID].iloc[0]"
   ]
  },
  {
   "cell_type": "code",
   "execution_count": 557,
   "metadata": {},
   "outputs": [
    {
     "data": {
      "text/plain": [
       "Frame                   40905.000000\n",
       "ScanNumBegin              231.000000\n",
       "ScanNumEnd                256.000000\n",
       "IsolationMz              1056.147912\n",
       "IsolationWidth              3.000000\n",
       "Precursor              150185.000000\n",
       "retention_time_secs      4393.467107\n",
       "mz_lower                 1054.647912\n",
       "mz_upper                 1057.647912\n",
       "rt_lower                 4363.467107\n",
       "rt_upper                 4423.467107\n",
       "Name: 317962, dtype: float64"
      ]
     },
     "execution_count": 557,
     "metadata": {},
     "output_type": "execute_result"
    }
   ],
   "source": [
    "window_df"
   ]
  },
  {
   "cell_type": "code",
   "execution_count": 558,
   "metadata": {},
   "outputs": [],
   "source": [
    "mz_lower = window_df.mz_lower\n",
    "mz_upper = window_df.mz_upper\n",
    "scan_width = int(window_df.ScanNumEnd - window_df.ScanNumBegin)\n",
    "scan_lower = int(window_df.ScanNumBegin - scan_width)\n",
    "scan_upper = int(window_df.ScanNumEnd + scan_width)\n",
    "rt_lower = window_df.rt_lower\n",
    "rt_upper = window_df.rt_upper\n",
    "precursor_id = int(window_df.Precursor)"
   ]
  },
  {
   "cell_type": "code",
   "execution_count": 559,
   "metadata": {},
   "outputs": [],
   "source": [
    "# get the ms1 frame IDs\n",
    "ms1_frame_ids = tuple(ms1_frame_properties_df.astype(int).values[:,0])\n"
   ]
  },
  {
   "cell_type": "code",
   "execution_count": 560,
   "metadata": {},
   "outputs": [],
   "source": [
    "# load the cube's raw ms1 points\n",
    "db_conn = sqlite3.connect(CONVERTED_DATABASE_NAME)\n",
    "raw_points_df = pd.read_sql_query(\"select frame_id,mz,scan,intensity,retention_time_secs from frames where mz >= {} and mz <= {} and scan >= {} and scan <= {} and retention_time_secs >= {} and retention_time_secs <= {} and frame_id in {}\".format(mz_lower, mz_upper, scan_lower, scan_upper, rt_lower, rt_upper, ms1_frame_ids), db_conn)\n",
    "db_conn.close()"
   ]
  },
  {
   "cell_type": "code",
   "execution_count": 561,
   "metadata": {},
   "outputs": [
    {
     "data": {
      "text/plain": [
       "8826"
      ]
     },
     "execution_count": 561,
     "metadata": {},
     "output_type": "execute_result"
    }
   ],
   "source": [
    "len(raw_points_df)"
   ]
  },
  {
   "cell_type": "code",
   "execution_count": 562,
   "metadata": {},
   "outputs": [
    {
     "data": {
      "text/plain": [
       "358"
      ]
     },
     "execution_count": 562,
     "metadata": {},
     "output_type": "execute_result"
    }
   ],
   "source": [
    "raw_points_df.intensity.max()"
   ]
  },
  {
   "cell_type": "code",
   "execution_count": 563,
   "metadata": {},
   "outputs": [
    {
     "data": {
      "text/html": [
       "<div>\n",
       "<style scoped>\n",
       "    .dataframe tbody tr th:only-of-type {\n",
       "        vertical-align: middle;\n",
       "    }\n",
       "\n",
       "    .dataframe tbody tr th {\n",
       "        vertical-align: top;\n",
       "    }\n",
       "\n",
       "    .dataframe thead th {\n",
       "        text-align: right;\n",
       "    }\n",
       "</style>\n",
       "<table border=\"1\" class=\"dataframe\">\n",
       "  <thead>\n",
       "    <tr style=\"text-align: right;\">\n",
       "      <th></th>\n",
       "      <th>frame_id</th>\n",
       "      <th>mz</th>\n",
       "      <th>scan</th>\n",
       "      <th>intensity</th>\n",
       "      <th>retention_time_secs</th>\n",
       "    </tr>\n",
       "  </thead>\n",
       "  <tbody>\n",
       "    <tr>\n",
       "      <th>0</th>\n",
       "      <td>40631</td>\n",
       "      <td>1054.888304</td>\n",
       "      <td>238</td>\n",
       "      <td>30</td>\n",
       "      <td>4363.985263</td>\n",
       "    </tr>\n",
       "    <tr>\n",
       "      <th>1</th>\n",
       "      <td>40631</td>\n",
       "      <td>1054.919032</td>\n",
       "      <td>255</td>\n",
       "      <td>103</td>\n",
       "      <td>4363.985263</td>\n",
       "    </tr>\n",
       "    <tr>\n",
       "      <th>2</th>\n",
       "      <td>40631</td>\n",
       "      <td>1054.924153</td>\n",
       "      <td>273</td>\n",
       "      <td>80</td>\n",
       "      <td>4363.985263</td>\n",
       "    </tr>\n",
       "    <tr>\n",
       "      <th>3</th>\n",
       "      <td>40631</td>\n",
       "      <td>1054.975367</td>\n",
       "      <td>256</td>\n",
       "      <td>35</td>\n",
       "      <td>4363.985263</td>\n",
       "    </tr>\n",
       "    <tr>\n",
       "      <th>4</th>\n",
       "      <td>40631</td>\n",
       "      <td>1054.980489</td>\n",
       "      <td>270</td>\n",
       "      <td>43</td>\n",
       "      <td>4363.985263</td>\n",
       "    </tr>\n",
       "  </tbody>\n",
       "</table>\n",
       "</div>"
      ],
      "text/plain": [
       "   frame_id           mz  scan  intensity  retention_time_secs\n",
       "0     40631  1054.888304   238         30          4363.985263\n",
       "1     40631  1054.919032   255        103          4363.985263\n",
       "2     40631  1054.924153   273         80          4363.985263\n",
       "3     40631  1054.975367   256         35          4363.985263\n",
       "4     40631  1054.980489   270         43          4363.985263"
      ]
     },
     "execution_count": 563,
     "metadata": {},
     "output_type": "execute_result"
    }
   ],
   "source": [
    "raw_points_df.head()"
   ]
  },
  {
   "cell_type": "code",
   "execution_count": 564,
   "metadata": {},
   "outputs": [],
   "source": [
    "MZ_MIN = mz_lower\n",
    "MZ_MAX = mz_upper\n",
    "MZ_BIN_WIDTH = 0.1"
   ]
  },
  {
   "cell_type": "code",
   "execution_count": 565,
   "metadata": {},
   "outputs": [],
   "source": [
    "bins = np.arange(start=MZ_MIN, stop=MZ_MAX+MZ_BIN_WIDTH, step=MZ_BIN_WIDTH)  # go slightly wider to accomodate the maximum value\n"
   ]
  },
  {
   "cell_type": "code",
   "execution_count": 566,
   "metadata": {},
   "outputs": [
    {
     "data": {
      "text/plain": [
       "array([1054.64791242, 1054.74791242, 1054.84791242, 1054.94791242,\n",
       "       1055.04791242, 1055.14791242, 1055.24791242, 1055.34791242,\n",
       "       1055.44791242, 1055.54791242, 1055.64791242, 1055.74791242,\n",
       "       1055.84791242, 1055.94791242, 1056.04791242, 1056.14791242,\n",
       "       1056.24791242, 1056.34791242, 1056.44791242, 1056.54791242,\n",
       "       1056.64791242, 1056.74791242, 1056.84791242, 1056.94791242,\n",
       "       1057.04791242, 1057.14791242, 1057.24791242, 1057.34791242,\n",
       "       1057.44791242, 1057.54791242, 1057.64791242])"
      ]
     },
     "execution_count": 566,
     "metadata": {},
     "output_type": "execute_result"
    }
   ],
   "source": [
    "bins"
   ]
  },
  {
   "cell_type": "code",
   "execution_count": 567,
   "metadata": {},
   "outputs": [],
   "source": [
    "MZ_BIN_COUNT = len(bins)"
   ]
  },
  {
   "cell_type": "code",
   "execution_count": 568,
   "metadata": {},
   "outputs": [],
   "source": [
    "# initialise an array of lists to hold the m/z and intensity values allocated to each bin\n",
    "mz_values_array = np.empty(MZ_BIN_COUNT, dtype=np.object)\n",
    "for idx in range(MZ_BIN_COUNT):\n",
    "    mz_values_array[idx] = []\n"
   ]
  },
  {
   "cell_type": "code",
   "execution_count": 569,
   "metadata": {},
   "outputs": [],
   "source": [
    "# gather the m/z values into bins\n",
    "for r in zip(raw_points_df.mz, raw_points_df.intensity):\n",
    "    mz = r[0]\n",
    "    intensity = int(r[1])\n",
    "    if (mz >= MZ_MIN) and (mz <= MZ_MAX): # it should already but just to be sure\n",
    "        mz_array_idx = int(np.digitize(mz, bins)) # in which bin should this mz go\n",
    "        mz_values_array[mz_array_idx].append((mz, intensity))"
   ]
  },
  {
   "cell_type": "code",
   "execution_count": 570,
   "metadata": {},
   "outputs": [],
   "source": [
    "import peakutils"
   ]
  },
  {
   "cell_type": "code",
   "execution_count": 571,
   "metadata": {},
   "outputs": [],
   "source": [
    "# compute the intensity-weighted m/z centroid and the summed intensity of the bins\n",
    "peaks = []\n",
    "for bin_idx in range(MZ_BIN_COUNT):\n",
    "    if len(mz_values_array[bin_idx]) > 0:\n",
    "        mz_values_for_bin = np.array([ list[0] for list in mz_values_array[bin_idx]])\n",
    "        intensity_values_for_bin = np.array([ list[1] for list in mz_values_array[bin_idx]]).astype(int)\n",
    "        mz_centroid = peakutils.centroid(mz_values_for_bin, intensity_values_for_bin)\n",
    "        summed_intensity = intensity_values_for_bin.sum()\n",
    "        peaks.append((mz_centroid,summed_intensity))"
   ]
  },
  {
   "cell_type": "code",
   "execution_count": 572,
   "metadata": {},
   "outputs": [
    {
     "data": {
      "text/plain": [
       "[(1054.6923625177972, 828),\n",
       " (1054.7952958391445, 984),\n",
       " (1054.9138535547715, 4633),\n",
       " (1055.002985779961, 70056),\n",
       " (1055.0751153331255, 3065),\n",
       " (1055.194736469101, 797),\n",
       " (1055.299138374885, 1230),\n",
       " (1055.4147788230155, 5571),\n",
       " (1055.4989945222435, 112721),\n",
       " (1055.5698798142778, 2605),\n",
       " (1055.7049209377817, 914),\n",
       " (1055.8019092718257, 1186),\n",
       " (1055.9153146143265, 3994),\n",
       " (1055.9950316586205, 113365),\n",
       " (1056.0766373878666, 2340),\n",
       " (1056.17839089169, 3336),\n",
       " (1056.2900890085814, 1266),\n",
       " (1056.4167892610233, 4955),\n",
       " (1056.4931748570439, 85363),\n",
       " (1056.5711710768135, 2809),\n",
       " (1056.7102773997806, 800),\n",
       " (1056.8223484655782, 2997),\n",
       " (1056.9135297514827, 3531),\n",
       " (1056.9901777973673, 53159),\n",
       " (1057.0758561290302, 2707),\n",
       " (1057.1898434411605, 3213),\n",
       " (1057.3000964919318, 1287),\n",
       " (1057.4140624678007, 3721),\n",
       " (1057.4947449463689, 37935),\n",
       " (1057.566051192892, 11892)]"
      ]
     },
     "execution_count": 572,
     "metadata": {},
     "output_type": "execute_result"
    }
   ],
   "source": [
    "peaks"
   ]
  },
  {
   "cell_type": "code",
   "execution_count": 573,
   "metadata": {},
   "outputs": [],
   "source": [
    "peaks_df = pd.DataFrame(peaks, columns=['mz_centroid','summed_intensity'])"
   ]
  },
  {
   "cell_type": "code",
   "execution_count": 574,
   "metadata": {},
   "outputs": [
    {
     "data": {
      "image/png": "[encoded data removed]",
      "text/plain": [
       "<Figure size 1080x360 with 1 Axes>"
      ]
     },
     "metadata": {
      "needs_background": "light"
     },
     "output_type": "display_data"
    }
   ],
   "source": [
    "f, ax = plt.subplots()\n",
    "colors = ['tab:blue', 'tab:orange', 'tab:green', 'tab:red', 'tab:purple', 'tab:brown', 'tab:pink', 'tab:gray', 'tab:olive', 'tab:cyan']\n",
    "markerline, stemlines, baseline = ax.stem(peaks_df.mz_centroid, peaks_df.summed_intensity, 'g')\n",
    "plt.setp(markerline, 'color', colors[2])\n",
    "plt.setp(stemlines, 'color', colors[2])\n",
    "plt.setp(baseline, 'color', colors[7])\n",
    "plt.xlabel('binned m/z')\n",
    "plt.ylabel('intensity')\n",
    "f.set_figheight(5)\n",
    "f.set_figwidth(15)\n",
    "plt.margins(0.06)\n",
    "plt.suptitle('Raw points centroided and summed by m/z bin for precursor ID {}'.format(precursor_id))\n",
    "plt.title('bin width {} Th'.format(MZ_BIN_WIDTH))\n",
    "plt.show()"
   ]
  },
  {
   "cell_type": "code",
   "execution_count": 575,
   "metadata": {},
   "outputs": [],
   "source": [
    "PROTON_MASS = 1.0073  # Mass of a proton in unified atomic mass units, or Da. For calculating the monoisotopic mass.\n"
   ]
  },
  {
   "cell_type": "code",
   "execution_count": 576,
   "metadata": {},
   "outputs": [],
   "source": [
    "from ms_deisotope import deconvolute_peaks, averagine, scoring\n",
    "\n",
    "# see https://github.com/mobiusklein/ms_deisotope/blob/ee4b083ad7ab5f77722860ce2d6fdb751886271e/ms_deisotope/deconvolution/api.py#L17\n",
    "deconvoluted_peaks, _priority_targets = deconvolute_peaks(peaks, averagine=averagine.peptide, charge_range=(1,5), scorer=scoring.MSDeconVFitter(10.0), truncate_after=0.95)\n"
   ]
  },
  {
   "cell_type": "code",
   "execution_count": 577,
   "metadata": {},
   "outputs": [
    {
     "name": "stdout",
     "output_type": "stream",
     "text": [
      "DeconvolutedPeak(a_to_a2_ratio=5.295100793831989, area=6549.0, average_mass=1055.6768406996553, charge=1, chosen_for_msms=False, envelope=[(1056.1784, 3336.00), (1057.1898, 3213.00), (1058.1839, 1.00)], full_width_at_half_max=0.01, index=0|5, intensity=6549.0, most_abundant_mass=1055.17111442492, mz=1056.17839089169, neutral_mass=1055.17111442492, score=75.37619853574225, signal_to_noise=3274.5)\n",
      "\n",
      "DeconvolutedPeak(a_to_a2_ratio=5.295100793831988, area=2553.0, average_mass=1055.7878162834866, charge=1, chosen_for_msms=False, envelope=[(1056.2901, 770.22), (1057.3001, 1287.00), (1058.3023, 1.00)], full_width_at_half_max=0.01, index=1|6, intensity=2057.2182210591604, most_abundant_mass=1056.2928200251617, mz=1056.2967416541317, neutral_mass=1055.2894651873617, score=29.16281003302499, signal_to_noise=1276.5)\n",
      "\n",
      "DeconvolutedPeak(a_to_a2_ratio=5.295100793831989, area=8676.0, average_mass=1055.908149397642, charge=1, chosen_for_msms=False, envelope=[(1056.4168, 2545.25), (1057.4141, 3721.00), (1058.4223, 1.00)], full_width_at_half_max=0.01, index=2|7, intensity=6266.247723699591, most_abundant_mass=1056.4067860010307, mz=1056.4167892610233, neutral_mass=1055.4095127942533, score=59.82314741497856, signal_to_noise=4338.0)\n",
      "\n",
      "DeconvolutedPeak(a_to_a2_ratio=5.293260660984102, area=14701.0, average_mass=1056.0613346680827, charge=1, chosen_for_msms=False, envelope=[(1056.5712, 1372.11), (1057.5661, 11892.00), (1058.5682, 1.00)], full_width_at_half_max=0.01, index=3|8, intensity=13264.114561398372, most_abundant_mass=1056.558774726122, mz=1056.562696355092, neutral_mass=1055.555419888322, score=38.54087749374938, signal_to_noise=7350.5)\n",
      "\n",
      "DeconvolutedPeak(a_to_a2_ratio=1.3281092836029467, area=3339.0, average_mass=2109.1365957286903, charge=2, chosen_for_msms=False, envelope=[(1054.6924, 828.00), (1055.1947, 797.00), (1055.7049, 914.00), (1056.1965, 1.00), (1056.7103, 800.00)], full_width_at_half_max=0.01, index=4|0, intensity=3339.0, most_abundant_mass=2109.3952889420234, mz=1054.6930590502009, neutral_mass=2107.3715651668617, score=58.78607319861899, signal_to_noise=834.75)\n",
      "\n",
      "DeconvolutedPeak(a_to_a2_ratio=1.3281092836029467, area=4666.0, average_mass=2109.078663313678, charge=2, chosen_for_msms=False, envelope=[(1054.7953, 984.00), (1055.2991, 1230.00), (1055.8019, 1186.00), (1056.2901, 1266.00), (1056.7996, 1.00)], full_width_at_half_max=0.01, index=5|1, intensity=4666.0, most_abundant_mass=2110.5656250836228, mz=1054.7952958391445, neutral_mass=2107.576038744749, score=79.28684346060118, signal_to_noise=1166.5)\n",
      "\n",
      "DeconvolutedPeak(a_to_a2_ratio=1.3281092836029467, area=22684.0, average_mass=2109.815153468308, charge=2, chosen_for_msms=False, envelope=[(1054.9139, 4633.00), (1055.4148, 5571.00), (1055.9153, 3994.00), (1056.4168, 4955.00), (1056.9135, 3531.00)], full_width_at_half_max=0.01, index=6|2, intensity=22684.0, most_abundant_mass=2108.815004712491, mz=1054.9131014041154, neutral_mass=2107.811649874691, score=196.27243047149915, signal_to_noise=4536.8)\n",
      "\n",
      "DeconvolutedPeak(a_to_a2_ratio=1.3281092836029467, area=13526.0, average_mass=2110.1329109629055, charge=2, chosen_for_msms=False, envelope=[(1055.0751, 3065.00), (1055.5699, 2605.00), (1056.0766, 2340.00), (1056.5712, 2809.00), (1057.0759, 2707.00)], full_width_at_half_max=0.01, index=7|3, intensity=13526.0, most_abundant_mass=2108.135677732711, mz=1055.0732825500666, neutral_mass=2108.132012166593, score=119.89812398980115, signal_to_noise=2705.2)\n",
      "\n",
      "DeconvolutedPeak(a_to_a2_ratio=1.3281092836029464, area=402543.0, average_mass=2110.974296579118, charge=2, chosen_for_msms=False, envelope=[(1055.4990, 112721.00), (1055.9950, 113365.00), (1056.4932, 85363.00), (1056.9902, 53159.00), (1057.4947, 37935.00)], full_width_at_half_max=0.01, index=8|4, intensity=402543.0, most_abundant_mass=2109.975510383701, mz=1055.4933542397205, neutral_mass=2108.972155545901, score=969.5102453560138, signal_to_noise=80508.6)\n",
      "\n"
     ]
    }
   ],
   "source": [
    "peaks_l = []\n",
    "for peak in deconvoluted_peaks:\n",
    "    # discard a monoisotopic peak that has a second isotope with intensity of 1 (rubbish value)\n",
    "    if ((len(peak.envelope) > 1) and (peak.envelope[1][1] > 1)):\n",
    "        peaks_l.append((peak.mz, peak.neutral_mass, peak.intensity, peak.score, peak.signal_to_noise))\n",
    "        print(\"{}\\n\".format(peak))\n",
    "\n",
    "deconvoluted_peaks_df = pd.DataFrame(peaks_l, columns=['mz','neutral_mass','intensity','score','SN'])\n",
    "# 'neutral mass' is the zero charge M, so we add the proton mass to get M+H (the monoisotopic mass)\n",
    "deconvoluted_peaks_df['m_plus_h'] = deconvoluted_peaks_df.neutral_mass + PROTON_MASS\n"
   ]
  },
  {
   "cell_type": "code",
   "execution_count": 578,
   "metadata": {
    "scrolled": true
   },
   "outputs": [
    {
     "data": {
      "text/html": [
       "<div>\n",
       "<style scoped>\n",
       "    .dataframe tbody tr th:only-of-type {\n",
       "        vertical-align: middle;\n",
       "    }\n",
       "\n",
       "    .dataframe tbody tr th {\n",
       "        vertical-align: top;\n",
       "    }\n",
       "\n",
       "    .dataframe thead th {\n",
       "        text-align: right;\n",
       "    }\n",
       "</style>\n",
       "<table border=\"1\" class=\"dataframe\">\n",
       "  <thead>\n",
       "    <tr style=\"text-align: right;\">\n",
       "      <th></th>\n",
       "      <th>mz</th>\n",
       "      <th>neutral_mass</th>\n",
       "      <th>intensity</th>\n",
       "      <th>score</th>\n",
       "      <th>SN</th>\n",
       "      <th>m_plus_h</th>\n",
       "    </tr>\n",
       "  </thead>\n",
       "  <tbody>\n",
       "    <tr>\n",
       "      <th>0</th>\n",
       "      <td>1056.178391</td>\n",
       "      <td>1055.171114</td>\n",
       "      <td>6549.000000</td>\n",
       "      <td>75.376199</td>\n",
       "      <td>3274.50</td>\n",
       "      <td>1056.178414</td>\n",
       "    </tr>\n",
       "    <tr>\n",
       "      <th>1</th>\n",
       "      <td>1056.296742</td>\n",
       "      <td>1055.289465</td>\n",
       "      <td>2057.218221</td>\n",
       "      <td>29.162810</td>\n",
       "      <td>1276.50</td>\n",
       "      <td>1056.296765</td>\n",
       "    </tr>\n",
       "    <tr>\n",
       "      <th>2</th>\n",
       "      <td>1056.416789</td>\n",
       "      <td>1055.409513</td>\n",
       "      <td>6266.247724</td>\n",
       "      <td>59.823147</td>\n",
       "      <td>4338.00</td>\n",
       "      <td>1056.416813</td>\n",
       "    </tr>\n",
       "    <tr>\n",
       "      <th>3</th>\n",
       "      <td>1056.562696</td>\n",
       "      <td>1055.555420</td>\n",
       "      <td>13264.114561</td>\n",
       "      <td>38.540877</td>\n",
       "      <td>7350.50</td>\n",
       "      <td>1056.562720</td>\n",
       "    </tr>\n",
       "    <tr>\n",
       "      <th>4</th>\n",
       "      <td>1054.693059</td>\n",
       "      <td>2107.371565</td>\n",
       "      <td>3339.000000</td>\n",
       "      <td>58.786073</td>\n",
       "      <td>834.75</td>\n",
       "      <td>2108.378865</td>\n",
       "    </tr>\n",
       "    <tr>\n",
       "      <th>5</th>\n",
       "      <td>1054.795296</td>\n",
       "      <td>2107.576039</td>\n",
       "      <td>4666.000000</td>\n",
       "      <td>79.286843</td>\n",
       "      <td>1166.50</td>\n",
       "      <td>2108.583339</td>\n",
       "    </tr>\n",
       "    <tr>\n",
       "      <th>6</th>\n",
       "      <td>1054.913101</td>\n",
       "      <td>2107.811650</td>\n",
       "      <td>22684.000000</td>\n",
       "      <td>196.272430</td>\n",
       "      <td>4536.80</td>\n",
       "      <td>2108.818950</td>\n",
       "    </tr>\n",
       "    <tr>\n",
       "      <th>7</th>\n",
       "      <td>1055.073283</td>\n",
       "      <td>2108.132012</td>\n",
       "      <td>13526.000000</td>\n",
       "      <td>119.898124</td>\n",
       "      <td>2705.20</td>\n",
       "      <td>2109.139312</td>\n",
       "    </tr>\n",
       "    <tr>\n",
       "      <th>8</th>\n",
       "      <td>1055.493354</td>\n",
       "      <td>2108.972156</td>\n",
       "      <td>402543.000000</td>\n",
       "      <td>969.510245</td>\n",
       "      <td>80508.60</td>\n",
       "      <td>2109.979456</td>\n",
       "    </tr>\n",
       "  </tbody>\n",
       "</table>\n",
       "</div>"
      ],
      "text/plain": [
       "            mz  neutral_mass      intensity       score        SN     m_plus_h\n",
       "0  1056.178391   1055.171114    6549.000000   75.376199   3274.50  1056.178414\n",
       "1  1056.296742   1055.289465    2057.218221   29.162810   1276.50  1056.296765\n",
       "2  1056.416789   1055.409513    6266.247724   59.823147   4338.00  1056.416813\n",
       "3  1056.562696   1055.555420   13264.114561   38.540877   7350.50  1056.562720\n",
       "4  1054.693059   2107.371565    3339.000000   58.786073    834.75  2108.378865\n",
       "5  1054.795296   2107.576039    4666.000000   79.286843   1166.50  2108.583339\n",
       "6  1054.913101   2107.811650   22684.000000  196.272430   4536.80  2108.818950\n",
       "7  1055.073283   2108.132012   13526.000000  119.898124   2705.20  2109.139312\n",
       "8  1055.493354   2108.972156  402543.000000  969.510245  80508.60  2109.979456"
      ]
     },
     "execution_count": 578,
     "metadata": {},
     "output_type": "execute_result"
    }
   ],
   "source": [
    "deconvoluted_peaks_df"
   ]
  },
  {
   "cell_type": "code",
   "execution_count": 579,
   "metadata": {},
   "outputs": [
    {
     "data": {
      "image/png": "[encoded data removed]",
      "text/plain": [
       "<Figure size 1080x360 with 1 Axes>"
      ]
     },
     "metadata": {
      "needs_background": "light"
     },
     "output_type": "display_data"
    }
   ],
   "source": [
    "f, ax = plt.subplots()\n",
    "colors = ['tab:blue', 'tab:orange', 'tab:green', 'tab:red', 'tab:purple', 'tab:brown', 'tab:pink', 'tab:gray', 'tab:olive', 'tab:cyan']\n",
    "markerline, stemlines, baseline = ax.stem(deconvoluted_peaks_df.mz, deconvoluted_peaks_df.intensity, 'g')\n",
    "plt.setp(markerline, 'color', colors[2])\n",
    "plt.setp(stemlines, 'color', colors[2])\n",
    "plt.setp(baseline, 'color', colors[7])\n",
    "plt.xlabel('m/z')\n",
    "plt.ylabel('intensity')\n",
    "f.set_figheight(5)\n",
    "f.set_figwidth(15)\n",
    "plt.margins(0.06)\n",
    "plt.suptitle('Deconvoluted peaks for precursor ID {}'.format(precursor_id))\n",
    "plt.title('bin width {} Th'.format(MZ_BIN_WIDTH))\n",
    "plt.show()"
   ]
  },
  {
   "cell_type": "markdown",
   "metadata": {},
   "source": [
    "For each monoisotopic peak found, find its apex in RT and mobility"
   ]
  },
  {
   "cell_type": "code",
   "execution_count": 624,
   "metadata": {},
   "outputs": [],
   "source": [
    "# assume the high score is for the monoisotopic peak\n",
    "monoisotopic_mz = deconvoluted_peaks_df.iloc[6].mz"
   ]
  },
  {
   "cell_type": "code",
   "execution_count": 625,
   "metadata": {},
   "outputs": [
    {
     "data": {
      "text/plain": [
       "1054.9131014041154"
      ]
     },
     "execution_count": 625,
     "metadata": {},
     "output_type": "execute_result"
    }
   ],
   "source": [
    "monoisotopic_mz"
   ]
  },
  {
   "cell_type": "markdown",
   "metadata": {},
   "source": [
    "Get the raw points for the monoisotopic peak"
   ]
  },
  {
   "cell_type": "code",
   "execution_count": 626,
   "metadata": {},
   "outputs": [],
   "source": [
    "MZ_TOLERANCE_PPM = 20\n",
    "MZ_TOLERANCE_PERCENT = MZ_TOLERANCE_PPM * 10**-4"
   ]
  },
  {
   "cell_type": "code",
   "execution_count": 627,
   "metadata": {},
   "outputs": [],
   "source": [
    "monoisotopic_mz_ppm_tolerance = monoisotopic_mz * MZ_TOLERANCE_PERCENT / 100\n",
    "monoisotopic_mz_lower = monoisotopic_mz - monoisotopic_mz_ppm_tolerance\n",
    "monoisotopic_mz_upper = monoisotopic_mz + monoisotopic_mz_ppm_tolerance"
   ]
  },
  {
   "cell_type": "code",
   "execution_count": 628,
   "metadata": {},
   "outputs": [],
   "source": [
    "monoisotopic_raw_points_df = raw_points_df[(raw_points_df.mz >= monoisotopic_mz_lower) & (raw_points_df.mz <= monoisotopic_mz_upper)]"
   ]
  },
  {
   "cell_type": "code",
   "execution_count": 629,
   "metadata": {},
   "outputs": [
    {
     "data": {
      "text/html": [
       "<div>\n",
       "<style scoped>\n",
       "    .dataframe tbody tr th:only-of-type {\n",
       "        vertical-align: middle;\n",
       "    }\n",
       "\n",
       "    .dataframe tbody tr th {\n",
       "        vertical-align: top;\n",
       "    }\n",
       "\n",
       "    .dataframe thead th {\n",
       "        text-align: right;\n",
       "    }\n",
       "</style>\n",
       "<table border=\"1\" class=\"dataframe\">\n",
       "  <thead>\n",
       "    <tr style=\"text-align: right;\">\n",
       "      <th></th>\n",
       "      <th>frame_id</th>\n",
       "      <th>mz</th>\n",
       "      <th>scan</th>\n",
       "      <th>intensity</th>\n",
       "      <th>retention_time_secs</th>\n",
       "    </tr>\n",
       "  </thead>\n",
       "  <tbody>\n",
       "    <tr>\n",
       "      <th>1</th>\n",
       "      <td>40631</td>\n",
       "      <td>1054.919032</td>\n",
       "      <td>255</td>\n",
       "      <td>103</td>\n",
       "      <td>4363.985263</td>\n",
       "    </tr>\n",
       "    <tr>\n",
       "      <th>2</th>\n",
       "      <td>40631</td>\n",
       "      <td>1054.924153</td>\n",
       "      <td>273</td>\n",
       "      <td>80</td>\n",
       "      <td>4363.985263</td>\n",
       "    </tr>\n",
       "    <tr>\n",
       "      <th>178</th>\n",
       "      <td>40642</td>\n",
       "      <td>1054.913910</td>\n",
       "      <td>278</td>\n",
       "      <td>67</td>\n",
       "      <td>4365.164748</td>\n",
       "    </tr>\n",
       "    <tr>\n",
       "      <th>537</th>\n",
       "      <td>40664</td>\n",
       "      <td>1054.913910</td>\n",
       "      <td>279</td>\n",
       "      <td>48</td>\n",
       "      <td>4367.530406</td>\n",
       "    </tr>\n",
       "    <tr>\n",
       "      <th>967</th>\n",
       "      <td>40697</td>\n",
       "      <td>1054.919032</td>\n",
       "      <td>263</td>\n",
       "      <td>57</td>\n",
       "      <td>4371.067913</td>\n",
       "    </tr>\n",
       "  </tbody>\n",
       "</table>\n",
       "</div>"
      ],
      "text/plain": [
       "     frame_id           mz  scan  intensity  retention_time_secs\n",
       "1       40631  1054.919032   255        103          4363.985263\n",
       "2       40631  1054.924153   273         80          4363.985263\n",
       "178     40642  1054.913910   278         67          4365.164748\n",
       "537     40664  1054.913910   279         48          4367.530406\n",
       "967     40697  1054.919032   263         57          4371.067913"
      ]
     },
     "execution_count": 629,
     "metadata": {},
     "output_type": "execute_result"
    }
   ],
   "source": [
    "monoisotopic_raw_points_df.head()"
   ]
  },
  {
   "cell_type": "markdown",
   "metadata": {},
   "source": [
    "Collapsing the summed points onto the RT dimension"
   ]
  },
  {
   "cell_type": "code",
   "execution_count": 630,
   "metadata": {
    "scrolled": true
   },
   "outputs": [],
   "source": [
    "rt_df = monoisotopic_raw_points_df.groupby(['frame_id','retention_time_secs'], as_index=False).intensity.sum()"
   ]
  },
  {
   "cell_type": "code",
   "execution_count": 631,
   "metadata": {},
   "outputs": [],
   "source": [
    "peaks_idx = peakutils.indexes(rt_df.intensity.values, thres=0.3, min_dist=10)\n",
    "peaks_df = rt_df.iloc[peaks_idx].copy()"
   ]
  },
  {
   "cell_type": "code",
   "execution_count": 632,
   "metadata": {},
   "outputs": [
    {
     "data": {
      "text/html": [
       "<div>\n",
       "<style scoped>\n",
       "    .dataframe tbody tr th:only-of-type {\n",
       "        vertical-align: middle;\n",
       "    }\n",
       "\n",
       "    .dataframe tbody tr th {\n",
       "        vertical-align: top;\n",
       "    }\n",
       "\n",
       "    .dataframe thead th {\n",
       "        text-align: right;\n",
       "    }\n",
       "</style>\n",
       "<table border=\"1\" class=\"dataframe\">\n",
       "  <thead>\n",
       "    <tr style=\"text-align: right;\">\n",
       "      <th></th>\n",
       "      <th>frame_id</th>\n",
       "      <th>retention_time_secs</th>\n",
       "      <th>intensity</th>\n",
       "    </tr>\n",
       "  </thead>\n",
       "  <tbody>\n",
       "    <tr>\n",
       "      <th>11</th>\n",
       "      <td>40851</td>\n",
       "      <td>4387.664618</td>\n",
       "      <td>226</td>\n",
       "    </tr>\n",
       "  </tbody>\n",
       "</table>\n",
       "</div>"
      ],
      "text/plain": [
       "    frame_id  retention_time_secs  intensity\n",
       "11     40851          4387.664618        226"
      ]
     },
     "execution_count": 632,
     "metadata": {},
     "output_type": "execute_result"
    }
   ],
   "source": [
    "peaks_df"
   ]
  },
  {
   "cell_type": "code",
   "execution_count": 633,
   "metadata": {},
   "outputs": [],
   "source": [
    "peaks_df['fragmentation_rt_delta'] = abs(window_df.retention_time_secs - peaks_df.retention_time_secs)"
   ]
  },
  {
   "cell_type": "code",
   "execution_count": 634,
   "metadata": {},
   "outputs": [
    {
     "data": {
      "text/html": [
       "<div>\n",
       "<style scoped>\n",
       "    .dataframe tbody tr th:only-of-type {\n",
       "        vertical-align: middle;\n",
       "    }\n",
       "\n",
       "    .dataframe tbody tr th {\n",
       "        vertical-align: top;\n",
       "    }\n",
       "\n",
       "    .dataframe thead th {\n",
       "        text-align: right;\n",
       "    }\n",
       "</style>\n",
       "<table border=\"1\" class=\"dataframe\">\n",
       "  <thead>\n",
       "    <tr style=\"text-align: right;\">\n",
       "      <th></th>\n",
       "      <th>frame_id</th>\n",
       "      <th>retention_time_secs</th>\n",
       "      <th>intensity</th>\n",
       "      <th>fragmentation_rt_delta</th>\n",
       "    </tr>\n",
       "  </thead>\n",
       "  <tbody>\n",
       "    <tr>\n",
       "      <th>11</th>\n",
       "      <td>40851</td>\n",
       "      <td>4387.664618</td>\n",
       "      <td>226</td>\n",
       "      <td>5.802489</td>\n",
       "    </tr>\n",
       "  </tbody>\n",
       "</table>\n",
       "</div>"
      ],
      "text/plain": [
       "    frame_id  retention_time_secs  intensity  fragmentation_rt_delta\n",
       "11     40851          4387.664618        226                5.802489"
      ]
     },
     "execution_count": 634,
     "metadata": {},
     "output_type": "execute_result"
    }
   ],
   "source": [
    "peaks_df"
   ]
  },
  {
   "cell_type": "code",
   "execution_count": 635,
   "metadata": {},
   "outputs": [
    {
     "data": {
      "text/plain": [
       "frame_id                  40851.000000\n",
       "retention_time_secs        4387.664618\n",
       "intensity                   226.000000\n",
       "fragmentation_rt_delta        5.802489\n",
       "Name: 11, dtype: float64"
      ]
     },
     "execution_count": 635,
     "metadata": {},
     "output_type": "execute_result"
    }
   ],
   "source": [
    "# get the peak closest to the fragmentation event\n",
    "peaks_df.loc[peaks_df.fragmentation_rt_delta.idxmin()]"
   ]
  },
  {
   "cell_type": "code",
   "execution_count": 636,
   "metadata": {},
   "outputs": [
    {
     "data": {
      "text/plain": [
       "11"
      ]
     },
     "execution_count": 636,
     "metadata": {},
     "output_type": "execute_result"
    }
   ],
   "source": [
    "# index of the closest peak\n",
    "peak_idx = peaks_df.fragmentation_rt_delta.idxmin()\n",
    "peak_idx"
   ]
  },
  {
   "cell_type": "code",
   "execution_count": 637,
   "metadata": {},
   "outputs": [],
   "source": [
    "valleys_idx = peakutils.indexes(-rt_df.intensity.values, thres=0.3, min_dist=RT_BASE_PEAK_WIDTH_SECS/20)\n",
    "valleys_df = rt_df.iloc[valleys_idx].copy()"
   ]
  },
  {
   "cell_type": "code",
   "execution_count": 638,
   "metadata": {},
   "outputs": [
    {
     "data": {
      "text/html": [
       "<div>\n",
       "<style scoped>\n",
       "    .dataframe tbody tr th:only-of-type {\n",
       "        vertical-align: middle;\n",
       "    }\n",
       "\n",
       "    .dataframe tbody tr th {\n",
       "        vertical-align: top;\n",
       "    }\n",
       "\n",
       "    .dataframe thead th {\n",
       "        text-align: right;\n",
       "    }\n",
       "</style>\n",
       "<table border=\"1\" class=\"dataframe\">\n",
       "  <thead>\n",
       "    <tr style=\"text-align: right;\">\n",
       "      <th></th>\n",
       "      <th>frame_id</th>\n",
       "      <th>retention_time_secs</th>\n",
       "      <th>intensity</th>\n",
       "    </tr>\n",
       "  </thead>\n",
       "  <tbody>\n",
       "    <tr>\n",
       "      <th>2</th>\n",
       "      <td>40664</td>\n",
       "      <td>4367.530406</td>\n",
       "      <td>48</td>\n",
       "    </tr>\n",
       "    <tr>\n",
       "      <th>5</th>\n",
       "      <td>40752</td>\n",
       "      <td>4377.032400</td>\n",
       "      <td>30</td>\n",
       "    </tr>\n",
       "    <tr>\n",
       "      <th>7</th>\n",
       "      <td>40807</td>\n",
       "      <td>4382.936461</td>\n",
       "      <td>14</td>\n",
       "    </tr>\n",
       "    <tr>\n",
       "      <th>10</th>\n",
       "      <td>40840</td>\n",
       "      <td>4386.483937</td>\n",
       "      <td>30</td>\n",
       "    </tr>\n",
       "    <tr>\n",
       "      <th>13</th>\n",
       "      <td>40928</td>\n",
       "      <td>4395.938098</td>\n",
       "      <td>38</td>\n",
       "    </tr>\n",
       "    <tr>\n",
       "      <th>15</th>\n",
       "      <td>40983</td>\n",
       "      <td>4401.841289</td>\n",
       "      <td>65</td>\n",
       "    </tr>\n",
       "    <tr>\n",
       "      <th>19</th>\n",
       "      <td>41060</td>\n",
       "      <td>4410.104776</td>\n",
       "      <td>25</td>\n",
       "    </tr>\n",
       "    <tr>\n",
       "      <th>22</th>\n",
       "      <td>41126</td>\n",
       "      <td>4417.189548</td>\n",
       "      <td>50</td>\n",
       "    </tr>\n",
       "  </tbody>\n",
       "</table>\n",
       "</div>"
      ],
      "text/plain": [
       "    frame_id  retention_time_secs  intensity\n",
       "2      40664          4367.530406         48\n",
       "5      40752          4377.032400         30\n",
       "7      40807          4382.936461         14\n",
       "10     40840          4386.483937         30\n",
       "13     40928          4395.938098         38\n",
       "15     40983          4401.841289         65\n",
       "19     41060          4410.104776         25\n",
       "22     41126          4417.189548         50"
      ]
     },
     "execution_count": 638,
     "metadata": {},
     "output_type": "execute_result"
    }
   ],
   "source": [
    "valleys_df"
   ]
  },
  {
   "cell_type": "code",
   "execution_count": 639,
   "metadata": {},
   "outputs": [
    {
     "data": {
      "text/plain": [
       "array([ 2,  5,  7, 10, 13, 15, 19, 22])"
      ]
     },
     "execution_count": 639,
     "metadata": {},
     "output_type": "execute_result"
    }
   ],
   "source": [
    "valleys_idx"
   ]
  },
  {
   "cell_type": "code",
   "execution_count": 640,
   "metadata": {},
   "outputs": [],
   "source": [
    "# find the closest valley above the peak\n",
    "if max(valleys_idx) > peak_idx:\n",
    "    valley_idx_above = valleys_idx[valleys_idx > peak_idx].min()\n",
    "else:\n",
    "    valley_idx_above = -1"
   ]
  },
  {
   "cell_type": "code",
   "execution_count": 641,
   "metadata": {},
   "outputs": [],
   "source": [
    "# find the closest valley below the peak\n",
    "if min(valleys_idx) < peak_idx:\n",
    "    valley_idx_below = valleys_idx[valleys_idx < peak_idx].max()\n",
    "else:\n",
    "    valley_idx_below = -1"
   ]
  },
  {
   "cell_type": "code",
   "execution_count": 642,
   "metadata": {},
   "outputs": [
    {
     "name": "stdout",
     "output_type": "stream",
     "text": [
      "10,13\n"
     ]
    }
   ],
   "source": [
    "print(\"{},{}\".format(valley_idx_below, valley_idx_above))"
   ]
  },
  {
   "cell_type": "code",
   "execution_count": 643,
   "metadata": {
    "scrolled": false
   },
   "outputs": [
    {
     "data": {
      "image/png": "[encoded data removed]",
      "text/plain": [
       "<Figure size 1080x360 with 1 Axes>"
      ]
     },
     "metadata": {
      "needs_background": "light"
     },
     "output_type": "display_data"
    }
   ],
   "source": [
    "f, ax = plt.subplots()\n",
    "ax.plot(rt_df.retention_time_secs, rt_df.intensity, marker='o', color='green', linestyle='-', ms=5)\n",
    "ax.plot(peaks_df.retention_time_secs, peaks_df.intensity, marker='x', color='orange', linestyle='', markeredgewidth=3, ms=10, label='peak')\n",
    "if valley_idx_below != -1:\n",
    "    ax.plot(valleys_df.loc[valley_idx_below].retention_time_secs, valleys_df.loc[valley_idx_below].intensity, marker='o', color='springgreen', linestyle='', markeredgewidth=1, ms=10, label='valley below')\n",
    "if valley_idx_above != -1:\n",
    "    ax.plot(valleys_df.loc[valley_idx_above].retention_time_secs, valleys_df.loc[valley_idx_above].intensity, marker='o', color='red', linestyle='', markeredgewidth=1, ms=10, label='valley above')\n",
    "plt.axvline(x=window_df.retention_time_secs, linestyle=':', color='tab:red', label='fragmentation')\n",
    "plt.legend(loc='best')\n",
    "plt.xlabel('RT secs')\n",
    "plt.ylabel('intensity')\n",
    "f.set_figheight(5)\n",
    "f.set_figwidth(15)\n",
    "plt.suptitle('Raw points summed by frame for precursor ID {}'.format(precursor_id))\n",
    "plt.title('for base peak width in RT of {} secs'.format(RT_BASE_PEAK_WIDTH_SECS))\n",
    "plt.margins(0.06)\n",
    "plt.show()"
   ]
  },
  {
   "cell_type": "markdown",
   "metadata": {},
   "source": [
    "Collapsing the summed points onto the mobility dimension"
   ]
  },
  {
   "cell_type": "code",
   "execution_count": 644,
   "metadata": {
    "scrolled": true
   },
   "outputs": [
    {
     "data": {
      "text/html": [
       "<div>\n",
       "<style scoped>\n",
       "    .dataframe tbody tr th:only-of-type {\n",
       "        vertical-align: middle;\n",
       "    }\n",
       "\n",
       "    .dataframe tbody tr th {\n",
       "        vertical-align: top;\n",
       "    }\n",
       "\n",
       "    .dataframe thead th {\n",
       "        text-align: right;\n",
       "    }\n",
       "</style>\n",
       "<table border=\"1\" class=\"dataframe\">\n",
       "  <thead>\n",
       "    <tr style=\"text-align: right;\">\n",
       "      <th></th>\n",
       "      <th>scan</th>\n",
       "      <th>intensity</th>\n",
       "    </tr>\n",
       "  </thead>\n",
       "  <tbody>\n",
       "    <tr>\n",
       "      <th>0</th>\n",
       "      <td>213</td>\n",
       "      <td>70</td>\n",
       "    </tr>\n",
       "    <tr>\n",
       "      <th>1</th>\n",
       "      <td>217</td>\n",
       "      <td>63</td>\n",
       "    </tr>\n",
       "    <tr>\n",
       "      <th>2</th>\n",
       "      <td>222</td>\n",
       "      <td>11</td>\n",
       "    </tr>\n",
       "    <tr>\n",
       "      <th>3</th>\n",
       "      <td>235</td>\n",
       "      <td>52</td>\n",
       "    </tr>\n",
       "    <tr>\n",
       "      <th>4</th>\n",
       "      <td>239</td>\n",
       "      <td>19</td>\n",
       "    </tr>\n",
       "    <tr>\n",
       "      <th>5</th>\n",
       "      <td>240</td>\n",
       "      <td>67</td>\n",
       "    </tr>\n",
       "    <tr>\n",
       "      <th>6</th>\n",
       "      <td>243</td>\n",
       "      <td>10</td>\n",
       "    </tr>\n",
       "    <tr>\n",
       "      <th>7</th>\n",
       "      <td>244</td>\n",
       "      <td>44</td>\n",
       "    </tr>\n",
       "    <tr>\n",
       "      <th>8</th>\n",
       "      <td>245</td>\n",
       "      <td>98</td>\n",
       "    </tr>\n",
       "    <tr>\n",
       "      <th>9</th>\n",
       "      <td>246</td>\n",
       "      <td>189</td>\n",
       "    </tr>\n",
       "    <tr>\n",
       "      <th>10</th>\n",
       "      <td>247</td>\n",
       "      <td>30</td>\n",
       "    </tr>\n",
       "    <tr>\n",
       "      <th>11</th>\n",
       "      <td>253</td>\n",
       "      <td>50</td>\n",
       "    </tr>\n",
       "    <tr>\n",
       "      <th>12</th>\n",
       "      <td>255</td>\n",
       "      <td>103</td>\n",
       "    </tr>\n",
       "    <tr>\n",
       "      <th>13</th>\n",
       "      <td>257</td>\n",
       "      <td>62</td>\n",
       "    </tr>\n",
       "    <tr>\n",
       "      <th>14</th>\n",
       "      <td>258</td>\n",
       "      <td>91</td>\n",
       "    </tr>\n",
       "    <tr>\n",
       "      <th>15</th>\n",
       "      <td>259</td>\n",
       "      <td>78</td>\n",
       "    </tr>\n",
       "    <tr>\n",
       "      <th>16</th>\n",
       "      <td>262</td>\n",
       "      <td>41</td>\n",
       "    </tr>\n",
       "    <tr>\n",
       "      <th>17</th>\n",
       "      <td>263</td>\n",
       "      <td>57</td>\n",
       "    </tr>\n",
       "    <tr>\n",
       "      <th>18</th>\n",
       "      <td>265</td>\n",
       "      <td>12</td>\n",
       "    </tr>\n",
       "    <tr>\n",
       "      <th>19</th>\n",
       "      <td>266</td>\n",
       "      <td>109</td>\n",
       "    </tr>\n",
       "    <tr>\n",
       "      <th>20</th>\n",
       "      <td>270</td>\n",
       "      <td>25</td>\n",
       "    </tr>\n",
       "    <tr>\n",
       "      <th>21</th>\n",
       "      <td>271</td>\n",
       "      <td>55</td>\n",
       "    </tr>\n",
       "    <tr>\n",
       "      <th>22</th>\n",
       "      <td>272</td>\n",
       "      <td>40</td>\n",
       "    </tr>\n",
       "    <tr>\n",
       "      <th>23</th>\n",
       "      <td>273</td>\n",
       "      <td>80</td>\n",
       "    </tr>\n",
       "    <tr>\n",
       "      <th>24</th>\n",
       "      <td>278</td>\n",
       "      <td>91</td>\n",
       "    </tr>\n",
       "    <tr>\n",
       "      <th>25</th>\n",
       "      <td>279</td>\n",
       "      <td>132</td>\n",
       "    </tr>\n",
       "    <tr>\n",
       "      <th>26</th>\n",
       "      <td>280</td>\n",
       "      <td>54</td>\n",
       "    </tr>\n",
       "    <tr>\n",
       "      <th>27</th>\n",
       "      <td>281</td>\n",
       "      <td>42</td>\n",
       "    </tr>\n",
       "  </tbody>\n",
       "</table>\n",
       "</div>"
      ],
      "text/plain": [
       "    scan  intensity\n",
       "0    213         70\n",
       "1    217         63\n",
       "2    222         11\n",
       "3    235         52\n",
       "4    239         19\n",
       "5    240         67\n",
       "6    243         10\n",
       "7    244         44\n",
       "8    245         98\n",
       "9    246        189\n",
       "10   247         30\n",
       "11   253         50\n",
       "12   255        103\n",
       "13   257         62\n",
       "14   258         91\n",
       "15   259         78\n",
       "16   262         41\n",
       "17   263         57\n",
       "18   265         12\n",
       "19   266        109\n",
       "20   270         25\n",
       "21   271         55\n",
       "22   272         40\n",
       "23   273         80\n",
       "24   278         91\n",
       "25   279        132\n",
       "26   280         54\n",
       "27   281         42"
      ]
     },
     "execution_count": 644,
     "metadata": {},
     "output_type": "execute_result"
    }
   ],
   "source": [
    "scan_df = monoisotopic_raw_points_df.groupby(['scan'], as_index=False).intensity.sum()\n",
    "scan_df"
   ]
  },
  {
   "cell_type": "code",
   "execution_count": 645,
   "metadata": {},
   "outputs": [
    {
     "data": {
      "image/png": "[encoded data removed]",
      "text/plain": [
       "<Figure size 1080x360 with 1 Axes>"
      ]
     },
     "metadata": {
      "needs_background": "light"
     },
     "output_type": "display_data"
    }
   ],
   "source": [
    "f, ax = plt.subplots()\n",
    "ax.plot(scan_df.scan, scan_df.intensity, marker='o', color='green', linestyle='-', ms=5)\n",
    "plt.legend(loc='best')\n",
    "plt.xlabel('scan')\n",
    "plt.ylabel('intensity')\n",
    "f.set_figheight(5)\n",
    "f.set_figwidth(15)\n",
    "plt.suptitle('Raw points summed by scan for precursor ID {}'.format(precursor_id))\n",
    "# plt.title('RT width {} secs'.format(2*RT_BASE_PEAK_WIDTH_SECS))\n",
    "plt.margins(0.06)\n",
    "plt.show()"
   ]
  },
  {
   "cell_type": "code",
   "execution_count": null,
   "metadata": {},
   "outputs": [],
   "source": []
  }
 ],
 "metadata": {
  "kernelspec": {
   "display_name": "Python 3",
   "language": "python",
   "name": "python3"
  },
  "language_info": {
   "codemirror_mode": {
    "name": "ipython",
    "version": 3
   },
   "file_extension": ".py",
   "mimetype": "text/x-python",
   "name": "python",
   "nbconvert_exporter": "python",
   "pygments_lexer": "ipython3",
   "version": "3.6.7"
  }
 },
 "nbformat": 4,
 "nbformat_minor": 2
}
