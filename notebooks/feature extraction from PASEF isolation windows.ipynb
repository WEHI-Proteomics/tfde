{
 "cells": [
  {
   "cell_type": "code",
   "execution_count": 1,
   "metadata": {},
   "outputs": [],
   "source": [
    "import sqlite3\n",
    "import pandas as pd\n",
    "import numpy as np\n",
    "import sys\n",
    "import matplotlib.pyplot as plt"
   ]
  },
  {
   "cell_type": "code",
   "execution_count": 18,
   "metadata": {},
   "outputs": [],
   "source": [
    "RT_LIMIT_LOWER = 4340  # RT range in the database\n",
    "RT_LIMIT_UPPER = 4580\n",
    "RT_BASE_PEAK_WIDTH_SECS = 30.0  # assumption about base peak width in RT\n",
    "RT_FRAGMENT_EVENT_DELTA_SECS = 3.5  # use this window for constraining RT to focus on the fragmentation event\n",
    "MS1_CE = 10"
   ]
  },
  {
   "cell_type": "code",
   "execution_count": 19,
   "metadata": {},
   "outputs": [],
   "source": [
    "BASE_NAME = \"/Users/darylwilding-mcbride/Downloads/HeLa_20KInt-rt-{}-{}-denoised\".format(RT_LIMIT_LOWER,RT_LIMIT_UPPER)\n",
    "BASE_MAXQUANT_TXT_DIR = '/Users/darylwilding-mcbride/Downloads/maxquant_results/txt'\n",
    "ALLPEPTIDES_FILENAME = '{}/allPeptides.txt'.format(BASE_MAXQUANT_TXT_DIR)\n",
    "PASEF_MSMS_SCANS_FILENAME = '{}/pasefMsmsScans.txt'.format(BASE_MAXQUANT_TXT_DIR)\n",
    "\n",
    "# BASE_NAME = \"/home/ubuntu/HeLa_20KInt-rt-{}-{}\".format(RT_LIMIT_LOWER,RT_LIMIT_UPPER)\n",
    "# ALLPEPTIDES_FILENAME = '/home/ubuntu/maxquant_results/txt/allPeptides.txt'\n",
    "\n",
    "CONVERTED_DATABASE_NAME = '{}/HeLa_20KInt.sqlite'.format(BASE_NAME)"
   ]
  },
  {
   "cell_type": "code",
   "execution_count": 20,
   "metadata": {},
   "outputs": [
    {
     "data": {
      "text/plain": [
       "'/Users/darylwilding-mcbride/Downloads/HeLa_20KInt-rt-4340-4580-denoised/HeLa_20KInt.sqlite'"
      ]
     },
     "execution_count": 20,
     "metadata": {},
     "output_type": "execute_result"
    }
   ],
   "source": [
    "CONVERTED_DATABASE_NAME"
   ]
  },
  {
   "cell_type": "code",
   "execution_count": 21,
   "metadata": {},
   "outputs": [],
   "source": [
    "db_conn = sqlite3.connect(CONVERTED_DATABASE_NAME)\n",
    "ms1_frame_properties_df = pd.read_sql_query(\"select frame_id,retention_time_secs from frame_properties where retention_time_secs >= {} and retention_time_secs <= {} and collision_energy == {}\".format(RT_LIMIT_LOWER,RT_LIMIT_UPPER,MS1_CE), db_conn)\n",
    "ms2_frame_properties_df = pd.read_sql_query(\"select frame_id,retention_time_secs from frame_properties where retention_time_secs >= {} and retention_time_secs <= {} and collision_energy <> {}\".format(RT_LIMIT_LOWER,RT_LIMIT_UPPER,MS1_CE), db_conn)\n",
    "db_conn.close()"
   ]
  },
  {
   "cell_type": "code",
   "execution_count": 22,
   "metadata": {},
   "outputs": [
    {
     "data": {
      "text/html": [
       "<div>\n",
       "<style scoped>\n",
       "    .dataframe tbody tr th:only-of-type {\n",
       "        vertical-align: middle;\n",
       "    }\n",
       "\n",
       "    .dataframe tbody tr th {\n",
       "        vertical-align: top;\n",
       "    }\n",
       "\n",
       "    .dataframe thead th {\n",
       "        text-align: right;\n",
       "    }\n",
       "</style>\n",
       "<table border=\"1\" class=\"dataframe\">\n",
       "  <thead>\n",
       "    <tr style=\"text-align: right;\">\n",
       "      <th></th>\n",
       "      <th>frame_id</th>\n",
       "      <th>retention_time_secs</th>\n",
       "    </tr>\n",
       "  </thead>\n",
       "  <tbody>\n",
       "    <tr>\n",
       "      <th>0</th>\n",
       "      <td>40411</td>\n",
       "      <td>4340.340330</td>\n",
       "    </tr>\n",
       "    <tr>\n",
       "      <th>1</th>\n",
       "      <td>40422</td>\n",
       "      <td>4341.521415</td>\n",
       "    </tr>\n",
       "    <tr>\n",
       "      <th>2</th>\n",
       "      <td>40433</td>\n",
       "      <td>4342.702923</td>\n",
       "    </tr>\n",
       "    <tr>\n",
       "      <th>3</th>\n",
       "      <td>40444</td>\n",
       "      <td>4343.883324</td>\n",
       "    </tr>\n",
       "    <tr>\n",
       "      <th>4</th>\n",
       "      <td>40455</td>\n",
       "      <td>4345.067491</td>\n",
       "    </tr>\n",
       "  </tbody>\n",
       "</table>\n",
       "</div>"
      ],
      "text/plain": [
       "   frame_id  retention_time_secs\n",
       "0     40411          4340.340330\n",
       "1     40422          4341.521415\n",
       "2     40433          4342.702923\n",
       "3     40444          4343.883324\n",
       "4     40455          4345.067491"
      ]
     },
     "execution_count": 22,
     "metadata": {},
     "output_type": "execute_result"
    }
   ],
   "source": [
    "ms1_frame_properties_df.head()"
   ]
  },
  {
   "cell_type": "code",
   "execution_count": 23,
   "metadata": {},
   "outputs": [
    {
     "data": {
      "text/html": [
       "<div>\n",
       "<style scoped>\n",
       "    .dataframe tbody tr th:only-of-type {\n",
       "        vertical-align: middle;\n",
       "    }\n",
       "\n",
       "    .dataframe tbody tr th {\n",
       "        vertical-align: top;\n",
       "    }\n",
       "\n",
       "    .dataframe thead th {\n",
       "        text-align: right;\n",
       "    }\n",
       "</style>\n",
       "<table border=\"1\" class=\"dataframe\">\n",
       "  <thead>\n",
       "    <tr style=\"text-align: right;\">\n",
       "      <th></th>\n",
       "      <th>frame_id</th>\n",
       "      <th>retention_time_secs</th>\n",
       "    </tr>\n",
       "  </thead>\n",
       "  <tbody>\n",
       "    <tr>\n",
       "      <th>0</th>\n",
       "      <td>40408</td>\n",
       "      <td>4340.019894</td>\n",
       "    </tr>\n",
       "    <tr>\n",
       "      <th>1</th>\n",
       "      <td>40409</td>\n",
       "      <td>4340.127084</td>\n",
       "    </tr>\n",
       "    <tr>\n",
       "      <th>2</th>\n",
       "      <td>40410</td>\n",
       "      <td>4340.233855</td>\n",
       "    </tr>\n",
       "    <tr>\n",
       "      <th>3</th>\n",
       "      <td>40412</td>\n",
       "      <td>4340.446655</td>\n",
       "    </tr>\n",
       "    <tr>\n",
       "      <th>4</th>\n",
       "      <td>40413</td>\n",
       "      <td>4340.554812</td>\n",
       "    </tr>\n",
       "  </tbody>\n",
       "</table>\n",
       "</div>"
      ],
      "text/plain": [
       "   frame_id  retention_time_secs\n",
       "0     40408          4340.019894\n",
       "1     40409          4340.127084\n",
       "2     40410          4340.233855\n",
       "3     40412          4340.446655\n",
       "4     40413          4340.554812"
      ]
     },
     "execution_count": 23,
     "metadata": {},
     "output_type": "execute_result"
    }
   ],
   "source": [
    "ms2_frame_properties_df.head()"
   ]
  },
  {
   "cell_type": "code",
   "execution_count": 24,
   "metadata": {},
   "outputs": [
    {
     "data": {
      "text/plain": [
       "1.1810854877303427"
      ]
     },
     "execution_count": 24,
     "metadata": {},
     "output_type": "execute_result"
    }
   ],
   "source": [
    "ms1_frame_delay = ms1_frame_properties_df.iloc[1].retention_time_secs - ms1_frame_properties_df.iloc[0].retention_time_secs\n",
    "ms1_frame_delay"
   ]
  },
  {
   "cell_type": "code",
   "execution_count": 25,
   "metadata": {},
   "outputs": [
    {
     "data": {
      "text/plain": [
       "203"
      ]
     },
     "execution_count": 25,
     "metadata": {},
     "output_type": "execute_result"
    }
   ],
   "source": [
    "len(ms1_frame_properties_df)"
   ]
  },
  {
   "cell_type": "code",
   "execution_count": 26,
   "metadata": {},
   "outputs": [],
   "source": [
    "# get all the isolation windows\n",
    "isolation_window_df = pd.read_pickle('/Users/darylwilding-mcbride/Downloads/isolation_window_df.pkl')"
   ]
  },
  {
   "cell_type": "code",
   "execution_count": 27,
   "metadata": {},
   "outputs": [
    {
     "data": {
      "text/html": [
       "<div>\n",
       "<style scoped>\n",
       "    .dataframe tbody tr th:only-of-type {\n",
       "        vertical-align: middle;\n",
       "    }\n",
       "\n",
       "    .dataframe tbody tr th {\n",
       "        vertical-align: top;\n",
       "    }\n",
       "\n",
       "    .dataframe thead th {\n",
       "        text-align: right;\n",
       "    }\n",
       "</style>\n",
       "<table border=\"1\" class=\"dataframe\">\n",
       "  <thead>\n",
       "    <tr style=\"text-align: right;\">\n",
       "      <th></th>\n",
       "      <th>Frame</th>\n",
       "      <th>ScanNumBegin</th>\n",
       "      <th>ScanNumEnd</th>\n",
       "      <th>IsolationMz</th>\n",
       "      <th>IsolationWidth</th>\n",
       "      <th>CollisionEnergy</th>\n",
       "      <th>Precursor</th>\n",
       "    </tr>\n",
       "  </thead>\n",
       "  <tbody>\n",
       "    <tr>\n",
       "      <th>0</th>\n",
       "      <td>3</td>\n",
       "      <td>507</td>\n",
       "      <td>532</td>\n",
       "      <td>742.744835</td>\n",
       "      <td>2.427448</td>\n",
       "      <td>36.96</td>\n",
       "      <td>1</td>\n",
       "    </tr>\n",
       "    <tr>\n",
       "      <th>1</th>\n",
       "      <td>3</td>\n",
       "      <td>549</td>\n",
       "      <td>574</td>\n",
       "      <td>709.235759</td>\n",
       "      <td>2.092358</td>\n",
       "      <td>36.96</td>\n",
       "      <td>2</td>\n",
       "    </tr>\n",
       "    <tr>\n",
       "      <th>2</th>\n",
       "      <td>3</td>\n",
       "      <td>602</td>\n",
       "      <td>627</td>\n",
       "      <td>594.235088</td>\n",
       "      <td>2.000000</td>\n",
       "      <td>36.96</td>\n",
       "      <td>3</td>\n",
       "    </tr>\n",
       "    <tr>\n",
       "      <th>3</th>\n",
       "      <td>3</td>\n",
       "      <td>643</td>\n",
       "      <td>668</td>\n",
       "      <td>503.527768</td>\n",
       "      <td>2.000000</td>\n",
       "      <td>36.96</td>\n",
       "      <td>4</td>\n",
       "    </tr>\n",
       "    <tr>\n",
       "      <th>4</th>\n",
       "      <td>3</td>\n",
       "      <td>684</td>\n",
       "      <td>709</td>\n",
       "      <td>552.063870</td>\n",
       "      <td>2.000000</td>\n",
       "      <td>31.92</td>\n",
       "      <td>5</td>\n",
       "    </tr>\n",
       "  </tbody>\n",
       "</table>\n",
       "</div>"
      ],
      "text/plain": [
       "   Frame  ScanNumBegin  ScanNumEnd  IsolationMz  IsolationWidth  \\\n",
       "0      3           507         532   742.744835        2.427448   \n",
       "1      3           549         574   709.235759        2.092358   \n",
       "2      3           602         627   594.235088        2.000000   \n",
       "3      3           643         668   503.527768        2.000000   \n",
       "4      3           684         709   552.063870        2.000000   \n",
       "\n",
       "   CollisionEnergy  Precursor  \n",
       "0            36.96          1  \n",
       "1            36.96          2  \n",
       "2            36.96          3  \n",
       "3            36.96          4  \n",
       "4            31.92          5  "
      ]
     },
     "execution_count": 27,
     "metadata": {},
     "output_type": "execute_result"
    }
   ],
   "source": [
    "isolation_window_df.head()"
   ]
  },
  {
   "cell_type": "code",
   "execution_count": 28,
   "metadata": {},
   "outputs": [],
   "source": [
    "# add-in the retention time for the isolation windows and filter out the window not in range\n",
    "isolation_window_df = pd.merge(isolation_window_df, ms2_frame_properties_df, how='left', left_on=['Frame'], right_on=['frame_id'])\n",
    "isolation_window_df.drop(['frame_id', 'CollisionEnergy'], axis=1, inplace=True)\n",
    "isolation_window_df.dropna(subset=['retention_time_secs'], inplace=True)\n",
    "isolation_window_df['mz_lower'] = isolation_window_df.IsolationMz - (isolation_window_df.IsolationWidth / 2) - 0.7\n",
    "isolation_window_df['mz_upper'] = isolation_window_df.IsolationMz + (isolation_window_df.IsolationWidth / 2) + 0.7\n",
    "isolation_window_df['wide_rt_lower'] = isolation_window_df.retention_time_secs - RT_BASE_PEAK_WIDTH_SECS\n",
    "isolation_window_df['wide_rt_upper'] = isolation_window_df.retention_time_secs + RT_BASE_PEAK_WIDTH_SECS\n",
    "isolation_window_df['fe_rt_lower'] = isolation_window_df.retention_time_secs - RT_FRAGMENT_EVENT_DELTA_SECS\n",
    "isolation_window_df['fe_rt_upper'] = isolation_window_df.retention_time_secs + RT_FRAGMENT_EVENT_DELTA_SECS"
   ]
  },
  {
   "cell_type": "code",
   "execution_count": 29,
   "metadata": {},
   "outputs": [],
   "source": [
    "# filter out isolation windows that don't fit in the database subset we have loaded\n",
    "isolation_window_df = isolation_window_df[(isolation_window_df.wide_rt_lower >= RT_LIMIT_LOWER) & (isolation_window_df.wide_rt_upper <= RT_LIMIT_UPPER)]"
   ]
  },
  {
   "cell_type": "code",
   "execution_count": 30,
   "metadata": {},
   "outputs": [
    {
     "data": {
      "text/html": [
       "<div>\n",
       "<style scoped>\n",
       "    .dataframe tbody tr th:only-of-type {\n",
       "        vertical-align: middle;\n",
       "    }\n",
       "\n",
       "    .dataframe tbody tr th {\n",
       "        vertical-align: top;\n",
       "    }\n",
       "\n",
       "    .dataframe thead th {\n",
       "        text-align: right;\n",
       "    }\n",
       "</style>\n",
       "<table border=\"1\" class=\"dataframe\">\n",
       "  <thead>\n",
       "    <tr style=\"text-align: right;\">\n",
       "      <th></th>\n",
       "      <th>Frame</th>\n",
       "      <th>ScanNumBegin</th>\n",
       "      <th>ScanNumEnd</th>\n",
       "      <th>IsolationMz</th>\n",
       "      <th>IsolationWidth</th>\n",
       "      <th>Precursor</th>\n",
       "      <th>retention_time_secs</th>\n",
       "      <th>mz_lower</th>\n",
       "      <th>mz_upper</th>\n",
       "      <th>wide_rt_lower</th>\n",
       "      <th>wide_rt_upper</th>\n",
       "      <th>fe_rt_lower</th>\n",
       "      <th>fe_rt_upper</th>\n",
       "    </tr>\n",
       "  </thead>\n",
       "  <tbody>\n",
       "    <tr>\n",
       "      <th>315657</th>\n",
       "      <td>40688</td>\n",
       "      <td>219</td>\n",
       "      <td>244</td>\n",
       "      <td>1106.675230</td>\n",
       "      <td>3.0</td>\n",
       "      <td>148941</td>\n",
       "      <td>4370.101926</td>\n",
       "      <td>1104.475230</td>\n",
       "      <td>1108.875230</td>\n",
       "      <td>4340.101926</td>\n",
       "      <td>4400.101926</td>\n",
       "      <td>4366.601926</td>\n",
       "      <td>4373.601926</td>\n",
       "    </tr>\n",
       "    <tr>\n",
       "      <th>315658</th>\n",
       "      <td>40688</td>\n",
       "      <td>287</td>\n",
       "      <td>312</td>\n",
       "      <td>987.488407</td>\n",
       "      <td>3.0</td>\n",
       "      <td>148938</td>\n",
       "      <td>4370.101926</td>\n",
       "      <td>985.288407</td>\n",
       "      <td>989.688407</td>\n",
       "      <td>4340.101926</td>\n",
       "      <td>4400.101926</td>\n",
       "      <td>4366.601926</td>\n",
       "      <td>4373.601926</td>\n",
       "    </tr>\n",
       "    <tr>\n",
       "      <th>315659</th>\n",
       "      <td>40688</td>\n",
       "      <td>344</td>\n",
       "      <td>369</td>\n",
       "      <td>922.491024</td>\n",
       "      <td>3.0</td>\n",
       "      <td>148930</td>\n",
       "      <td>4370.101926</td>\n",
       "      <td>920.291024</td>\n",
       "      <td>924.691024</td>\n",
       "      <td>4340.101926</td>\n",
       "      <td>4400.101926</td>\n",
       "      <td>4366.601926</td>\n",
       "      <td>4373.601926</td>\n",
       "    </tr>\n",
       "    <tr>\n",
       "      <th>315660</th>\n",
       "      <td>40688</td>\n",
       "      <td>386</td>\n",
       "      <td>411</td>\n",
       "      <td>884.941548</td>\n",
       "      <td>3.0</td>\n",
       "      <td>148942</td>\n",
       "      <td>4370.101926</td>\n",
       "      <td>882.741548</td>\n",
       "      <td>887.141548</td>\n",
       "      <td>4340.101926</td>\n",
       "      <td>4400.101926</td>\n",
       "      <td>4366.601926</td>\n",
       "      <td>4373.601926</td>\n",
       "    </tr>\n",
       "    <tr>\n",
       "      <th>315661</th>\n",
       "      <td>40688</td>\n",
       "      <td>434</td>\n",
       "      <td>459</td>\n",
       "      <td>876.400632</td>\n",
       "      <td>3.0</td>\n",
       "      <td>148943</td>\n",
       "      <td>4370.101926</td>\n",
       "      <td>874.200632</td>\n",
       "      <td>878.600632</td>\n",
       "      <td>4340.101926</td>\n",
       "      <td>4400.101926</td>\n",
       "      <td>4366.601926</td>\n",
       "      <td>4373.601926</td>\n",
       "    </tr>\n",
       "  </tbody>\n",
       "</table>\n",
       "</div>"
      ],
      "text/plain": [
       "        Frame  ScanNumBegin  ScanNumEnd  IsolationMz  IsolationWidth  \\\n",
       "315657  40688           219         244  1106.675230             3.0   \n",
       "315658  40688           287         312   987.488407             3.0   \n",
       "315659  40688           344         369   922.491024             3.0   \n",
       "315660  40688           386         411   884.941548             3.0   \n",
       "315661  40688           434         459   876.400632             3.0   \n",
       "\n",
       "        Precursor  retention_time_secs     mz_lower     mz_upper  \\\n",
       "315657     148941          4370.101926  1104.475230  1108.875230   \n",
       "315658     148938          4370.101926   985.288407   989.688407   \n",
       "315659     148930          4370.101926   920.291024   924.691024   \n",
       "315660     148942          4370.101926   882.741548   887.141548   \n",
       "315661     148943          4370.101926   874.200632   878.600632   \n",
       "\n",
       "        wide_rt_lower  wide_rt_upper  fe_rt_lower  fe_rt_upper  \n",
       "315657    4340.101926    4400.101926  4366.601926  4373.601926  \n",
       "315658    4340.101926    4400.101926  4366.601926  4373.601926  \n",
       "315659    4340.101926    4400.101926  4366.601926  4373.601926  \n",
       "315660    4340.101926    4400.101926  4366.601926  4373.601926  \n",
       "315661    4340.101926    4400.101926  4366.601926  4373.601926  "
      ]
     },
     "execution_count": 30,
     "metadata": {},
     "output_type": "execute_result"
    }
   ],
   "source": [
    "isolation_window_df.head()"
   ]
  },
  {
   "cell_type": "markdown",
   "metadata": {},
   "source": [
    "### Select one of the isolation windows for analysis"
   ]
  },
  {
   "cell_type": "code",
   "execution_count": 31,
   "metadata": {},
   "outputs": [
    {
     "name": "stdout",
     "output_type": "stream",
     "text": [
      "There are 17860 precursor isolation windows.\n"
     ]
    }
   ],
   "source": [
    "print(\"There are {} precursor isolation windows.\".format(len(isolation_window_df)))"
   ]
  },
  {
   "cell_type": "code",
   "execution_count": 32,
   "metadata": {},
   "outputs": [],
   "source": [
    "# ISOLATION_WINDOW_IDX = 8089\n",
    "# window_df = isolation_window_df.iloc[ISOLATION_WINDOW_IDX]"
   ]
  },
  {
   "cell_type": "code",
   "execution_count": 33,
   "metadata": {},
   "outputs": [],
   "source": [
    "PRECURSOR_ID = 153421\n",
    "window_df = isolation_window_df[isolation_window_df.Precursor == PRECURSOR_ID].iloc[0]"
   ]
  },
  {
   "cell_type": "code",
   "execution_count": 34,
   "metadata": {},
   "outputs": [
    {
     "data": {
      "text/plain": [
       "Frame                   41474.000000\n",
       "ScanNumBegin              462.000000\n",
       "ScanNumEnd                487.000000\n",
       "IsolationMz               860.444362\n",
       "IsolationWidth              3.000000\n",
       "Precursor              153421.000000\n",
       "retention_time_secs      4454.557286\n",
       "mz_lower                  858.244362\n",
       "mz_upper                  862.644362\n",
       "wide_rt_lower            4424.557286\n",
       "wide_rt_upper            4484.557286\n",
       "fe_rt_lower              4451.057286\n",
       "fe_rt_upper              4458.057286\n",
       "Name: 324135, dtype: float64"
      ]
     },
     "execution_count": 34,
     "metadata": {},
     "output_type": "execute_result"
    }
   ],
   "source": [
    "window_df"
   ]
  },
  {
   "cell_type": "code",
   "execution_count": 35,
   "metadata": {},
   "outputs": [],
   "source": [
    "window_mz_lower = window_df.mz_lower\n",
    "window_mz_upper = window_df.mz_upper\n",
    "scan_width = int(window_df.ScanNumEnd - window_df.ScanNumBegin)\n",
    "wide_scan_lower = int(window_df.ScanNumBegin - scan_width)\n",
    "wide_scan_upper = int(window_df.ScanNumEnd + scan_width)\n",
    "fe_scan_lower = int(window_df.ScanNumBegin)\n",
    "fe_scan_upper = int(window_df.ScanNumEnd)\n",
    "wide_rt_lower = window_df.wide_rt_lower\n",
    "wide_rt_upper = window_df.wide_rt_upper\n",
    "fe_rt_lower = window_df.fe_rt_lower\n",
    "fe_rt_upper = window_df.fe_rt_upper\n",
    "precursor_id = int(window_df.Precursor)"
   ]
  },
  {
   "cell_type": "code",
   "execution_count": 36,
   "metadata": {},
   "outputs": [],
   "source": [
    "# get the ms1 frame IDs\n",
    "ms1_frame_ids = tuple(ms1_frame_properties_df.astype(int).values[:,0])\n"
   ]
  },
  {
   "cell_type": "code",
   "execution_count": 37,
   "metadata": {},
   "outputs": [],
   "source": [
    "# load the cube's raw ms1 points\n",
    "db_conn = sqlite3.connect(CONVERTED_DATABASE_NAME)\n",
    "ms1_raw_points_df = pd.read_sql_query(\"select frame_id,mz,scan,intensity,retention_time_secs from frames where mz >= {} and mz <= {} and scan >= {} and scan <= {} and retention_time_secs >= {} and retention_time_secs <= {} and frame_id in {}\".format(window_mz_lower, window_mz_upper, wide_scan_lower, wide_scan_upper, wide_rt_lower, wide_rt_upper, ms1_frame_ids), db_conn)\n",
    "db_conn.close()"
   ]
  },
  {
   "cell_type": "code",
   "execution_count": 38,
   "metadata": {},
   "outputs": [
    {
     "data": {
      "text/plain": [
       "13336"
      ]
     },
     "execution_count": 38,
     "metadata": {},
     "output_type": "execute_result"
    }
   ],
   "source": [
    "len(ms1_raw_points_df)"
   ]
  },
  {
   "cell_type": "code",
   "execution_count": 39,
   "metadata": {},
   "outputs": [
    {
     "data": {
      "text/plain": [
       "1788"
      ]
     },
     "execution_count": 39,
     "metadata": {},
     "output_type": "execute_result"
    }
   ],
   "source": [
    "ms1_raw_points_df.intensity.max()"
   ]
  },
  {
   "cell_type": "code",
   "execution_count": 40,
   "metadata": {},
   "outputs": [
    {
     "data": {
      "text/html": [
       "<div>\n",
       "<style scoped>\n",
       "    .dataframe tbody tr th:only-of-type {\n",
       "        vertical-align: middle;\n",
       "    }\n",
       "\n",
       "    .dataframe tbody tr th {\n",
       "        vertical-align: top;\n",
       "    }\n",
       "\n",
       "    .dataframe thead th {\n",
       "        text-align: right;\n",
       "    }\n",
       "</style>\n",
       "<table border=\"1\" class=\"dataframe\">\n",
       "  <thead>\n",
       "    <tr style=\"text-align: right;\">\n",
       "      <th></th>\n",
       "      <th>frame_id</th>\n",
       "      <th>mz</th>\n",
       "      <th>scan</th>\n",
       "      <th>intensity</th>\n",
       "      <th>retention_time_secs</th>\n",
       "    </tr>\n",
       "  </thead>\n",
       "  <tbody>\n",
       "    <tr>\n",
       "      <th>0</th>\n",
       "      <td>41203</td>\n",
       "      <td>858.410610</td>\n",
       "      <td>437</td>\n",
       "      <td>28</td>\n",
       "      <td>4425.463095</td>\n",
       "    </tr>\n",
       "    <tr>\n",
       "      <th>1</th>\n",
       "      <td>41203</td>\n",
       "      <td>858.881894</td>\n",
       "      <td>437</td>\n",
       "      <td>61</td>\n",
       "      <td>4425.463095</td>\n",
       "    </tr>\n",
       "    <tr>\n",
       "      <th>2</th>\n",
       "      <td>41203</td>\n",
       "      <td>859.385664</td>\n",
       "      <td>437</td>\n",
       "      <td>99</td>\n",
       "      <td>4425.463095</td>\n",
       "    </tr>\n",
       "    <tr>\n",
       "      <th>3</th>\n",
       "      <td>41203</td>\n",
       "      <td>859.898830</td>\n",
       "      <td>437</td>\n",
       "      <td>54</td>\n",
       "      <td>4425.463095</td>\n",
       "    </tr>\n",
       "    <tr>\n",
       "      <th>4</th>\n",
       "      <td>41203</td>\n",
       "      <td>860.384397</td>\n",
       "      <td>437</td>\n",
       "      <td>58</td>\n",
       "      <td>4425.463095</td>\n",
       "    </tr>\n",
       "  </tbody>\n",
       "</table>\n",
       "</div>"
      ],
      "text/plain": [
       "   frame_id          mz  scan  intensity  retention_time_secs\n",
       "0     41203  858.410610   437         28          4425.463095\n",
       "1     41203  858.881894   437         61          4425.463095\n",
       "2     41203  859.385664   437         99          4425.463095\n",
       "3     41203  859.898830   437         54          4425.463095\n",
       "4     41203  860.384397   437         58          4425.463095"
      ]
     },
     "execution_count": 40,
     "metadata": {},
     "output_type": "execute_result"
    }
   ],
   "source": [
    "ms1_raw_points_df.head()"
   ]
  },
  {
   "cell_type": "code",
   "execution_count": 41,
   "metadata": {},
   "outputs": [
    {
     "data": {
      "text/html": [
       "<div>\n",
       "<style scoped>\n",
       "    .dataframe tbody tr th:only-of-type {\n",
       "        vertical-align: middle;\n",
       "    }\n",
       "\n",
       "    .dataframe tbody tr th {\n",
       "        vertical-align: top;\n",
       "    }\n",
       "\n",
       "    .dataframe thead th {\n",
       "        text-align: right;\n",
       "    }\n",
       "</style>\n",
       "<table border=\"1\" class=\"dataframe\">\n",
       "  <thead>\n",
       "    <tr style=\"text-align: right;\">\n",
       "      <th></th>\n",
       "      <th>frame_id</th>\n",
       "      <th>mz</th>\n",
       "      <th>scan</th>\n",
       "      <th>intensity</th>\n",
       "      <th>retention_time_secs</th>\n",
       "    </tr>\n",
       "  </thead>\n",
       "  <tbody>\n",
       "    <tr>\n",
       "      <th>count</th>\n",
       "      <td>13336.000000</td>\n",
       "      <td>13336.000000</td>\n",
       "      <td>13336.000000</td>\n",
       "      <td>13336.000000</td>\n",
       "      <td>13336.000000</td>\n",
       "    </tr>\n",
       "    <tr>\n",
       "      <th>mean</th>\n",
       "      <td>41456.343131</td>\n",
       "      <td>859.647011</td>\n",
       "      <td>459.934388</td>\n",
       "      <td>109.451860</td>\n",
       "      <td>4452.659558</td>\n",
       "    </tr>\n",
       "    <tr>\n",
       "      <th>std</th>\n",
       "      <td>121.385214</td>\n",
       "      <td>1.033862</td>\n",
       "      <td>17.687030</td>\n",
       "      <td>180.296047</td>\n",
       "      <td>13.026997</td>\n",
       "    </tr>\n",
       "    <tr>\n",
       "      <th>min</th>\n",
       "      <td>41203.000000</td>\n",
       "      <td>858.350554</td>\n",
       "      <td>437.000000</td>\n",
       "      <td>9.000000</td>\n",
       "      <td>4425.463095</td>\n",
       "    </tr>\n",
       "    <tr>\n",
       "      <th>25%</th>\n",
       "      <td>41379.000000</td>\n",
       "      <td>858.900379</td>\n",
       "      <td>445.000000</td>\n",
       "      <td>37.000000</td>\n",
       "      <td>4444.358407</td>\n",
       "    </tr>\n",
       "    <tr>\n",
       "      <th>50%</th>\n",
       "      <td>41467.000000</td>\n",
       "      <td>859.427267</td>\n",
       "      <td>456.000000</td>\n",
       "      <td>59.000000</td>\n",
       "      <td>4453.805803</td>\n",
       "    </tr>\n",
       "    <tr>\n",
       "      <th>75%</th>\n",
       "      <td>41522.000000</td>\n",
       "      <td>860.393648</td>\n",
       "      <td>471.000000</td>\n",
       "      <td>93.000000</td>\n",
       "      <td>4459.706028</td>\n",
       "    </tr>\n",
       "    <tr>\n",
       "      <th>max</th>\n",
       "      <td>41753.000000</td>\n",
       "      <td>862.476217</td>\n",
       "      <td>512.000000</td>\n",
       "      <td>1788.000000</td>\n",
       "      <td>4484.495019</td>\n",
       "    </tr>\n",
       "  </tbody>\n",
       "</table>\n",
       "</div>"
      ],
      "text/plain": [
       "           frame_id            mz          scan     intensity  \\\n",
       "count  13336.000000  13336.000000  13336.000000  13336.000000   \n",
       "mean   41456.343131    859.647011    459.934388    109.451860   \n",
       "std      121.385214      1.033862     17.687030    180.296047   \n",
       "min    41203.000000    858.350554    437.000000      9.000000   \n",
       "25%    41379.000000    858.900379    445.000000     37.000000   \n",
       "50%    41467.000000    859.427267    456.000000     59.000000   \n",
       "75%    41522.000000    860.393648    471.000000     93.000000   \n",
       "max    41753.000000    862.476217    512.000000   1788.000000   \n",
       "\n",
       "       retention_time_secs  \n",
       "count         13336.000000  \n",
       "mean           4452.659558  \n",
       "std              13.026997  \n",
       "min            4425.463095  \n",
       "25%            4444.358407  \n",
       "50%            4453.805803  \n",
       "75%            4459.706028  \n",
       "max            4484.495019  "
      ]
     },
     "execution_count": 41,
     "metadata": {},
     "output_type": "execute_result"
    }
   ],
   "source": [
    "ms1_raw_points_df.describe()"
   ]
  },
  {
   "cell_type": "code",
   "execution_count": 42,
   "metadata": {},
   "outputs": [],
   "source": [
    "# get the raw points constrained to the fragmentation event's RT\n",
    "fe_raw_points_df = ms1_raw_points_df[(ms1_raw_points_df.retention_time_secs >= fe_rt_lower) & (ms1_raw_points_df.retention_time_secs <= fe_rt_upper)]"
   ]
  },
  {
   "cell_type": "code",
   "execution_count": 43,
   "metadata": {},
   "outputs": [],
   "source": [
    "fe_raw_points_df.to_csv('/Users/darylwilding-mcbride/Downloads/fe_raw_points_ms1.csv')"
   ]
  },
  {
   "cell_type": "code",
   "execution_count": 44,
   "metadata": {},
   "outputs": [],
   "source": [
    "MS1_MZ_BIN_WIDTH = 0.1"
   ]
  },
  {
   "cell_type": "code",
   "execution_count": 45,
   "metadata": {},
   "outputs": [],
   "source": [
    "ms1_bins = np.arange(start=window_mz_lower, stop=window_mz_upper+MS1_MZ_BIN_WIDTH, step=MS1_MZ_BIN_WIDTH)  # go slightly wider to accomodate the maximum value\n"
   ]
  },
  {
   "cell_type": "code",
   "execution_count": 46,
   "metadata": {},
   "outputs": [],
   "source": [
    "# adjust the bins to illustrate the peak splitting issue\n",
    "# ms1_bins += 0.06"
   ]
  },
  {
   "cell_type": "code",
   "execution_count": 47,
   "metadata": {},
   "outputs": [],
   "source": [
    "MZ_BIN_COUNT = len(ms1_bins)"
   ]
  },
  {
   "cell_type": "code",
   "execution_count": 48,
   "metadata": {},
   "outputs": [],
   "source": [
    "# initialise an array of lists to hold the m/z and intensity values allocated to each bin\n",
    "ms1_mz_values_array = np.empty(MZ_BIN_COUNT, dtype=np.object)\n",
    "for idx in range(MZ_BIN_COUNT):\n",
    "    ms1_mz_values_array[idx] = []\n"
   ]
  },
  {
   "cell_type": "code",
   "execution_count": 49,
   "metadata": {},
   "outputs": [
    {
     "name": "stdout",
     "output_type": "stream",
     "text": [
      "CPU times: user 14.1 ms, sys: 2.84 ms, total: 17 ms\n",
      "Wall time: 15 ms\n"
     ]
    }
   ],
   "source": [
    "%%time\n",
    "\n",
    "# gather the m/z values into bins\n",
    "for r in zip(fe_raw_points_df.mz, fe_raw_points_df.intensity):\n",
    "    mz = r[0]\n",
    "    intensity = int(r[1])\n",
    "    if (mz >= window_mz_lower) and (mz <= window_mz_upper): # it should already but just to be sure\n",
    "        mz_array_idx = int(np.digitize(mz, ms1_bins)) # in which bin should this mz go\n",
    "        ms1_mz_values_array[mz_array_idx].append((mz, intensity))"
   ]
  },
  {
   "cell_type": "code",
   "execution_count": 50,
   "metadata": {},
   "outputs": [],
   "source": [
    "import peakutils"
   ]
  },
  {
   "cell_type": "code",
   "execution_count": 51,
   "metadata": {},
   "outputs": [
    {
     "name": "stdout",
     "output_type": "stream",
     "text": [
      "CPU times: user 3.66 ms, sys: 1.2 ms, total: 4.85 ms\n",
      "Wall time: 3.99 ms\n"
     ]
    }
   ],
   "source": [
    "%%time\n",
    "\n",
    "# compute the intensity-weighted m/z centroid and the summed intensity of the bins\n",
    "ms1_peaks = []\n",
    "for bin_idx in range(MZ_BIN_COUNT):\n",
    "    if len(ms1_mz_values_array[bin_idx]) > 0:\n",
    "        mz_values_for_bin = np.array([ list[0] for list in ms1_mz_values_array[bin_idx]])\n",
    "        intensity_values_for_bin = np.array([ list[1] for list in ms1_mz_values_array[bin_idx]]).astype(int)\n",
    "        mz_centroid = peakutils.centroid(mz_values_for_bin, intensity_values_for_bin)\n",
    "        summed_intensity = intensity_values_for_bin.sum()\n",
    "        ms1_peaks.append((mz_centroid,summed_intensity))"
   ]
  },
  {
   "cell_type": "code",
   "execution_count": 52,
   "metadata": {},
   "outputs": [
    {
     "data": {
      "text/plain": [
       "[(858.4183662399726, 9157),\n",
       " (858.4648362183859, 13978),\n",
       " (858.7342638713561, 507),\n",
       " (858.7873276735494, 11134),\n",
       " (858.9359173297187, 268289),\n",
       " (858.9497802205657, 9338),\n",
       " (859.1245770969986, 7283),\n",
       " (859.1794667234411, 6523),\n",
       " (859.2787483097467, 574),\n",
       " (859.4364314387802, 223956),\n",
       " (859.4480388241063, 30504),\n",
       " (859.6260753528118, 496),\n",
       " (859.6783692241803, 3523),\n",
       " (859.8002561384817, 1703),\n",
       " (859.9356916579763, 94177),\n",
       " (859.9461141889395, 41067),\n",
       " (860.4321745299839, 28941),\n",
       " (860.4474659675384, 24082),\n",
       " (860.7405677886669, 89),\n",
       " (860.757036224673, 2388),\n",
       " (860.9352023500139, 11078),\n",
       " (860.9530934654725, 5359),\n",
       " (861.0887512192197, 1353),\n",
       " (861.4253009144168, 4720),\n",
       " (861.4526655904288, 1487),\n",
       " (861.9350534441518, 2530),\n",
       " (861.9507504952408, 1279),\n",
       " (862.433912659556, 2398),\n",
       " (862.4513218681186, 1056)]"
      ]
     },
     "execution_count": 52,
     "metadata": {},
     "output_type": "execute_result"
    }
   ],
   "source": [
    "ms1_peaks"
   ]
  },
  {
   "cell_type": "code",
   "execution_count": 53,
   "metadata": {},
   "outputs": [],
   "source": [
    "ms1_peaks_df = pd.DataFrame(ms1_peaks, columns=['mz_centroid','summed_intensity'])"
   ]
  },
  {
   "cell_type": "code",
   "execution_count": 54,
   "metadata": {
    "scrolled": true
   },
   "outputs": [
    {
     "data": {
      "image/png": "[encoded data removed]",
      "text/plain": [
       "<Figure size 1080x360 with 1 Axes>"
      ]
     },
     "metadata": {
      "needs_background": "light"
     },
     "output_type": "display_data"
    }
   ],
   "source": [
    "f, ax = plt.subplots()\n",
    "colors = ['tab:blue', 'tab:orange', 'tab:green', 'tab:red', 'tab:purple', 'tab:brown', 'tab:pink', 'tab:gray', 'tab:olive', 'tab:cyan']\n",
    "markerline, stemlines, baseline = ax.stem(ms1_peaks_df.mz_centroid, ms1_peaks_df.summed_intensity, 'g')\n",
    "plt.setp(markerline, 'color', colors[2])\n",
    "plt.setp(stemlines, 'color', colors[2])\n",
    "plt.setp(baseline, 'color', colors[7])\n",
    "plt.xlabel('binned m/z')\n",
    "plt.ylabel('intensity')\n",
    "f.set_figheight(5)\n",
    "f.set_figwidth(15)\n",
    "plt.margins(0.06)\n",
    "plt.suptitle('Raw points centroided and summed by m/z bin for precursor ID {}'.format(precursor_id))\n",
    "plt.title('m/z bin width {} Th, narrow RT (FE +/- {} secs), wide mobility (FE +/- precursor scan width)'.format(MS1_MZ_BIN_WIDTH, RT_FRAGMENT_EVENT_DELTA_SECS))\n",
    "plt.show()"
   ]
  },
  {
   "cell_type": "markdown",
   "metadata": {},
   "source": [
    "Trying very small bins, then intensity descent"
   ]
  },
  {
   "cell_type": "code",
   "execution_count": 274,
   "metadata": {},
   "outputs": [],
   "source": [
    "MS1_MZ_BIN_WIDTH = 1e-5"
   ]
  },
  {
   "cell_type": "code",
   "execution_count": 56,
   "metadata": {},
   "outputs": [],
   "source": [
    "ms1_bins = np.arange(start=window_mz_lower, stop=window_mz_upper+MS1_MZ_BIN_WIDTH, step=MS1_MZ_BIN_WIDTH)  # go slightly wider to accomodate the maximum value\n"
   ]
  },
  {
   "cell_type": "code",
   "execution_count": 57,
   "metadata": {},
   "outputs": [],
   "source": [
    "# adjust the bins to illustrate the peak splitting issue\n",
    "# ms1_bins += 0.06"
   ]
  },
  {
   "cell_type": "code",
   "execution_count": 58,
   "metadata": {},
   "outputs": [],
   "source": [
    "MZ_BIN_COUNT = len(ms1_bins)"
   ]
  },
  {
   "cell_type": "code",
   "execution_count": 59,
   "metadata": {},
   "outputs": [
    {
     "data": {
      "text/plain": [
       "440002"
      ]
     },
     "execution_count": 59,
     "metadata": {},
     "output_type": "execute_result"
    }
   ],
   "source": [
    "MZ_BIN_COUNT"
   ]
  },
  {
   "cell_type": "code",
   "execution_count": 60,
   "metadata": {},
   "outputs": [],
   "source": [
    "# initialise an array of lists to hold the m/z and intensity values allocated to each bin\n",
    "ms1_mz_values_array = np.empty(MZ_BIN_COUNT, dtype=np.object)\n",
    "for idx in range(MZ_BIN_COUNT):\n",
    "    ms1_mz_values_array[idx] = []\n"
   ]
  },
  {
   "cell_type": "code",
   "execution_count": 61,
   "metadata": {},
   "outputs": [
    {
     "name": "stdout",
     "output_type": "stream",
     "text": [
      "CPU times: user 1.42 s, sys: 8.31 ms, total: 1.43 s\n",
      "Wall time: 1.45 s\n"
     ]
    }
   ],
   "source": [
    "%%time\n",
    "\n",
    "# gather the m/z values into bins\n",
    "for r in zip(fe_raw_points_df.mz, fe_raw_points_df.intensity):\n",
    "    mz = r[0]\n",
    "    intensity = int(r[1])\n",
    "    if (mz >= window_mz_lower) and (mz <= window_mz_upper): # it should already but just to be sure\n",
    "        mz_array_idx = int(np.digitize(mz, ms1_bins)) # in which bin should this mz go\n",
    "        ms1_mz_values_array[mz_array_idx].append((mz, intensity))"
   ]
  },
  {
   "cell_type": "code",
   "execution_count": 62,
   "metadata": {},
   "outputs": [],
   "source": [
    "import peakutils"
   ]
  },
  {
   "cell_type": "code",
   "execution_count": 63,
   "metadata": {},
   "outputs": [
    {
     "name": "stdout",
     "output_type": "stream",
     "text": [
      "CPU times: user 129 ms, sys: 5.64 ms, total: 134 ms\n",
      "Wall time: 131 ms\n"
     ]
    }
   ],
   "source": [
    "%%time\n",
    "\n",
    "# compute the intensity-weighted m/z centroid and the summed intensity of the bins\n",
    "binned_ms1_l = []\n",
    "for bin_idx in range(MZ_BIN_COUNT):\n",
    "    if len(ms1_mz_values_array[bin_idx]) > 0:\n",
    "        mz_values_for_bin = np.array([ list[0] for list in ms1_mz_values_array[bin_idx]])\n",
    "        intensity_values_for_bin = np.array([ list[1] for list in ms1_mz_values_array[bin_idx]]).astype(int)\n",
    "        mz_centroid = peakutils.centroid(mz_values_for_bin, intensity_values_for_bin)\n",
    "        summed_intensity = intensity_values_for_bin.sum()\n",
    "        binned_ms1_l.append((mz_centroid,summed_intensity))"
   ]
  },
  {
   "cell_type": "code",
   "execution_count": 64,
   "metadata": {},
   "outputs": [],
   "source": [
    "binned_ms1_df = pd.DataFrame(binned_ms1_l, columns=['mz_centroid','summed_intensity'])"
   ]
  },
  {
   "cell_type": "code",
   "execution_count": 65,
   "metadata": {
    "scrolled": true
   },
   "outputs": [
    {
     "data": {
      "image/png": "[encoded data removed]",
      "text/plain": [
       "<Figure size 1080x360 with 1 Axes>"
      ]
     },
     "metadata": {
      "needs_background": "light"
     },
     "output_type": "display_data"
    }
   ],
   "source": [
    "f, ax = plt.subplots()\n",
    "colors = ['tab:blue', 'tab:orange', 'tab:green', 'tab:red', 'tab:purple', 'tab:brown', 'tab:pink', 'tab:gray', 'tab:olive', 'tab:cyan']\n",
    "markerline, stemlines, baseline = ax.stem(binned_ms1_df.mz_centroid, binned_ms1_df.summed_intensity, 'g')\n",
    "plt.setp(markerline, 'color', colors[2])\n",
    "plt.setp(stemlines, 'color', colors[2])\n",
    "plt.setp(baseline, 'color', colors[7])\n",
    "plt.xlabel('binned m/z')\n",
    "plt.ylabel('intensity')\n",
    "f.set_figheight(5)\n",
    "f.set_figwidth(15)\n",
    "plt.margins(0.06)\n",
    "plt.suptitle('Raw points centroided and summed by m/z bin for precursor ID {}'.format(precursor_id))\n",
    "plt.title('m/z bin width {} Th, narrow RT (FE +/- {} secs), wide mobility (FE +/- precursor scan width)'.format(MS1_MZ_BIN_WIDTH, RT_FRAGMENT_EVENT_DELTA_SECS))\n",
    "plt.show()"
   ]
  },
  {
   "cell_type": "markdown",
   "metadata": {},
   "source": [
    "Zooming in on a peak region"
   ]
  },
  {
   "cell_type": "code",
   "execution_count": 66,
   "metadata": {},
   "outputs": [
    {
     "data": {
      "image/png": "[encoded data removed]",
      "text/plain": [
       "<Figure size 1080x360 with 1 Axes>"
      ]
     },
     "metadata": {
      "needs_background": "light"
     },
     "output_type": "display_data"
    }
   ],
   "source": [
    "f, ax = plt.subplots()\n",
    "colors = ['tab:blue', 'tab:orange', 'tab:green', 'tab:red', 'tab:purple', 'tab:brown', 'tab:pink', 'tab:gray', 'tab:olive', 'tab:cyan']\n",
    "markerline, stemlines, baseline = ax.stem(binned_ms1_df.mz_centroid, binned_ms1_df.summed_intensity, 'g')\n",
    "plt.setp(markerline, 'color', colors[2])\n",
    "plt.setp(stemlines, 'color', colors[2])\n",
    "plt.setp(baseline, 'color', colors[7])\n",
    "plt.xlabel('binned m/z')\n",
    "plt.ylabel('intensity')\n",
    "f.set_figheight(5)\n",
    "f.set_figwidth(15)\n",
    "plt.xlim([858.9,858.98])\n",
    "plt.margins(0.06)\n",
    "plt.suptitle('Raw points centroided and summed by m/z bin for precursor ID {}'.format(precursor_id))\n",
    "plt.title('m/z bin width {} Th, narrow RT (FE +/- {} secs), wide mobility (FE +/- precursor scan width)'.format(MS1_MZ_BIN_WIDTH, RT_FRAGMENT_EVENT_DELTA_SECS))\n",
    "plt.show()"
   ]
  },
  {
   "cell_type": "code",
   "execution_count": 67,
   "metadata": {},
   "outputs": [],
   "source": [
    "raw_scratch_df = binned_ms1_df.copy() # take a copy because we're going to delete stuff"
   ]
  },
  {
   "cell_type": "code",
   "execution_count": 68,
   "metadata": {},
   "outputs": [
    {
     "data": {
      "text/plain": [
       "301"
      ]
     },
     "execution_count": 68,
     "metadata": {},
     "output_type": "execute_result"
    }
   ],
   "source": [
    "len(raw_scratch_df)"
   ]
  },
  {
   "cell_type": "code",
   "execution_count": 69,
   "metadata": {},
   "outputs": [],
   "source": [
    "MZ_DELTA = 0.01"
   ]
  },
  {
   "cell_type": "code",
   "execution_count": 70,
   "metadata": {},
   "outputs": [],
   "source": [
    "ms1_peaks_l = []\n",
    "while len(raw_scratch_df) > 0:\n",
    "    # find the most intense point\n",
    "    peak_df = raw_scratch_df.loc[raw_scratch_df.summed_intensity.idxmax()]\n",
    "    peak_mz = peak_df.mz_centroid\n",
    "    peak_mz_lower = peak_mz - MZ_DELTA\n",
    "    peak_mz_upper = peak_mz + MZ_DELTA\n",
    "\n",
    "    # get all the raw points within this m/z region\n",
    "    peak_raw_points_df = raw_scratch_df[(raw_scratch_df.mz_centroid >= peak_mz_lower) & (raw_scratch_df.mz_centroid <= peak_mz_upper)]\n",
    "    mz_centroid = peakutils.centroid(peak_raw_points_df.mz_centroid, peak_raw_points_df.summed_intensity)\n",
    "    summed_intensity = peak_raw_points_df.summed_intensity.sum()\n",
    "    ms1_peaks_l.append((mz_centroid, summed_intensity))\n",
    "\n",
    "    # remove the raw points assigned to this peak\n",
    "    raw_scratch_df = raw_scratch_df[~raw_scratch_df.isin(peak_raw_points_df)].dropna(how = 'all')"
   ]
  },
  {
   "cell_type": "code",
   "execution_count": 71,
   "metadata": {},
   "outputs": [],
   "source": [
    "ms1_peaks_df = pd.DataFrame(ms1_peaks_l, columns=['mz','intensity'])"
   ]
  },
  {
   "cell_type": "code",
   "execution_count": 72,
   "metadata": {},
   "outputs": [
    {
     "data": {
      "image/png": "[encoded data removed]",
      "text/plain": [
       "<Figure size 1080x360 with 1 Axes>"
      ]
     },
     "metadata": {
      "needs_background": "light"
     },
     "output_type": "display_data"
    }
   ],
   "source": [
    "f, ax = plt.subplots()\n",
    "colors = ['tab:blue', 'tab:orange', 'tab:green', 'tab:red', 'tab:purple', 'tab:brown', 'tab:pink', 'tab:gray', 'tab:olive', 'tab:cyan']\n",
    "markerline, stemlines, baseline = ax.stem(binned_ms1_df.mz_centroid, binned_ms1_df.summed_intensity, 'g')\n",
    "plt.setp(markerline, 'color', colors[2])\n",
    "plt.setp(stemlines, 'color', colors[2])\n",
    "plt.setp(baseline, 'color', colors[7])\n",
    "markerline, stemlines, baseline = ax.stem(ms1_peaks_df.mz, ms1_peaks_df.intensity, 'g')\n",
    "plt.setp(markerline, 'color', colors[4])\n",
    "plt.setp(stemlines, 'color', colors[4])\n",
    "plt.setp(baseline, 'color', colors[7])\n",
    "plt.xlabel('binned m/z')\n",
    "plt.ylabel('intensity')\n",
    "f.set_figheight(5)\n",
    "f.set_figwidth(15)\n",
    "plt.xlim([858.9,858.98])\n",
    "plt.margins(0.06)\n",
    "plt.suptitle('Raw points centroided and summed by m/z bin for precursor ID {}'.format(precursor_id))\n",
    "plt.title('m/z bin width {} Th, narrow RT (FE +/- {} secs), wide mobility (FE +/- precursor scan width)'.format(MS1_MZ_BIN_WIDTH, RT_FRAGMENT_EVENT_DELTA_SECS))\n",
    "plt.show()"
   ]
  },
  {
   "cell_type": "code",
   "execution_count": 73,
   "metadata": {},
   "outputs": [
    {
     "data": {
      "text/plain": [
       "91"
      ]
     },
     "execution_count": 73,
     "metadata": {},
     "output_type": "execute_result"
    }
   ],
   "source": [
    "len(ms1_peaks_df)"
   ]
  },
  {
   "cell_type": "markdown",
   "metadata": {},
   "source": [
    "### Deconvolute the raw (bin-summed, centroided) peaks to find monoisotopic peaks"
   ]
  },
  {
   "cell_type": "code",
   "execution_count": 74,
   "metadata": {},
   "outputs": [],
   "source": [
    "PROTON_MASS = 1.0073  # Mass of a proton in unified atomic mass units, or Da. For calculating the monoisotopic mass.\n"
   ]
  },
  {
   "cell_type": "code",
   "execution_count": 75,
   "metadata": {},
   "outputs": [],
   "source": [
    "from ms_deisotope import deconvolute_peaks, averagine, scoring"
   ]
  },
  {
   "cell_type": "code",
   "execution_count": 76,
   "metadata": {},
   "outputs": [
    {
     "name": "stdout",
     "output_type": "stream",
     "text": [
      "CPU times: user 256 ms, sys: 6.17 ms, total: 262 ms\n",
      "Wall time: 266 ms\n"
     ]
    }
   ],
   "source": [
    "%%time\n",
    "\n",
    "# see https://github.com/mobiusklein/ms_deisotope/blob/ee4b083ad7ab5f77722860ce2d6fdb751886271e/ms_deisotope/deconvolution/api.py#L17\n",
    "deconvoluted_peaks, _priority_targets = deconvolute_peaks(ms1_peaks_l, averagine=averagine.peptide, charge_range=(1,5), scorer=scoring.MSDeconVFitter(10.0), truncate_after=0.95)"
   ]
  },
  {
   "cell_type": "code",
   "execution_count": 131,
   "metadata": {},
   "outputs": [
    {
     "name": "stdout",
     "output_type": "stream",
     "text": [
      "DeconvolutedPeak(a_to_a2_ratio=1.9308970182410141, area=8845.0, average_mass=1717.2576353965273, charge=2, chosen_for_msms=False, envelope=[(858.8877, 2893.00), (859.3866, 3421.00), (859.8864, 1868.00), (860.3836, 663.00)], full_width_at_half_max=0.01, index=0|4, intensity=8845.0, most_abundant_mass=1716.758689704914, mz=858.884943900327, neutral_mass=1715.755334867114, score=151.62093104819013, signal_to_noise=2211.25)\n",
      "\n",
      "DeconvolutedPeak(a_to_a2_ratio=1.9308970182410141, area=20125.0, average_mass=1717.2893115897689, charge=2, chosen_for_msms=False, envelope=[(858.9026, 7938.00), (859.4025, 7153.00), (859.9029, 3563.00), (860.3997, 1471.00)], full_width_at_half_max=0.01, index=1|5, intensity=20125.0, most_abundant_mass=1715.7906722266334, mz=858.9008362629999, neutral_mass=1715.7871195924597, score=243.27637463042277, signal_to_noise=5031.25)\n",
      "\n",
      "DeconvolutedPeak(a_to_a2_ratio=1.930897018241014, area=671128.0, average_mass=1717.3660155592238, charge=2, chosen_for_msms=False, envelope=[(858.9381, 263157.00), (859.4396, 237879.00), (859.9409, 125793.00), (860.4426, 44299.00)], full_width_at_half_max=0.01, index=2|7, intensity=671128.0, most_abundant_mass=1715.8616151974559, mz=858.938084065498, neutral_mass=1715.8616151974559, score=1478.708703026671, signal_to_noise=167782.0)\n",
      "\n",
      "DeconvolutedPeak(a_to_a2_ratio=1.9304992030147672, area=5259.0, average_mass=1719.3222144886802, charge=2, chosen_for_msms=False, envelope=[(859.9237, 1396.38), (860.4128, 1466.00), (860.9209, 694.00), (861.4162, 544.08)], full_width_at_half_max=0.01, index=3|8, intensity=4100.459317116558, most_abundant_mass=1718.811082177272, mz=859.9175190894756, neutral_mass=1717.8204852454112, score=84.07077079155074, signal_to_noise=1314.75)\n",
      "\n",
      "DeconvolutedPeak(a_to_a2_ratio=1.9297039163476315, area=738.0, average_mass=1720.7505260279756, charge=2, chosen_for_msms=False, envelope=[(860.8836, 345.00), (861.3851, 294.00), (861.8790, 99.00), (862.3866, 1.00)], full_width_at_half_max=0.01, index=4|10, intensity=738.0, most_abundant_mass=1719.7525796042444, mz=860.8834187385155, neutral_mass=1719.752284543491, score=34.00952919117434, signal_to_noise=246.0)\n",
      "\n",
      "DeconvolutedPeak(a_to_a2_ratio=1.929703916347632, area=1101.0, average_mass=1721.28091423986, charge=2, chosen_for_msms=False, envelope=[(860.9014, 550.00), (861.3992, 398.00), (861.8928, 50.00), (862.3975, 103.00)], full_width_at_half_max=0.01, index=5|11, intensity=1101.0, most_abundant_mass=1719.7882860063671, mz=860.8974984690631, neutral_mass=1719.7804440045861, score=40.54221725746645, signal_to_noise=275.25)\n",
      "\n",
      "DeconvolutedPeak(a_to_a2_ratio=1.9297039163476317, area=20642.0, average_mass=1721.3666402168337, charge=2, chosen_for_msms=False, envelope=[(860.9418, 11839.00), (861.4359, 2983.00), (861.9434, 3393.00), (862.4412, 2427.00)], full_width_at_half_max=0.01, index=6|12, intensity=20642.0, most_abundant_mass=1719.8690596358629, mz=860.9418062847014, neutral_mass=1719.8690596358629, score=148.4910469080023, signal_to_noise=5160.5)\n",
      "\n",
      "DeconvolutedPeak(a_to_a2_ratio=0.9323095964318837, area=11852.0, average_mass=2573.7498935346985, charge=3, chosen_for_msms=False, envelope=[(858.0887, 1.00), (858.4231, 5662.00), (858.7534, 3067.00), (859.0945, 939.00), (859.4245, 2184.00)], full_width_at_half_max=0.01, index=7|0, intensity=11852.0, most_abundant_mass=2572.247509259869, mz=858.0886612741263, neutral_mass=2571.244154422069, score=117.39259506932414, signal_to_noise=2963.0)\n",
      "\n",
      "DeconvolutedPeak(a_to_a2_ratio=0.9323095964318836, area=26362.0, average_mass=2573.876347433088, charge=3, chosen_for_msms=False, envelope=[(858.1296, 1.00), (858.4638, 11862.00), (858.7985, 6651.00), (859.1317, 5522.00), (859.4702, 2327.00)], full_width_at_half_max=0.01, index=8|1, intensity=26362.0, most_abundant_mass=2572.3695602275197, mz=858.1296418658587, neutral_mass=2571.3670961972666, score=230.02460851196395, signal_to_noise=6590.5)\n",
      "\n",
      "DeconvolutedPeak(a_to_a2_ratio=0.9205201335444002, area=8110.0, average_mass=2579.745221602744, charge=3, chosen_for_msms=False, envelope=[(860.0887, 1.00), (860.4274, 3507.00), (860.7577, 2270.00), (861.0881, 1288.00), (861.4162, 1045.00)], full_width_at_half_max=0.01, index=9|9, intensity=8110.0, most_abundant_mass=2578.260516441647, mz=860.0887485921207, neutral_mass=2577.2444163760524, score=110.71147332005465, signal_to_noise=2027.5)\n",
      "\n",
      "DeconvolutedPeak(a_to_a2_ratio=0.5371954549852934, area=3577.0, average_mass=3433.4469888617095, charge=4, chosen_for_msms=False, envelope=[(858.6176, 1.00), (858.8684, 1150.00), (859.1129, 774.00), (859.3698, 861.00), (859.6230, 398.00), (859.8710, 394.00)], full_width_at_half_max=0.01, index=10|2, intensity=3577.0, most_abundant_mass=3431.4445785083576, mz=858.6175823844094, neutral_mass=3430.4412236705575, score=90.74710808864619, signal_to_noise=715.4)\n",
      "\n",
      "DeconvolutedPeak(a_to_a2_ratio=0.5371954549852934, area=4938.0, average_mass=3433.7882739709053, charge=4, chosen_for_msms=False, envelope=[(858.6986, 1.00), (858.9550, 930.00), (859.2003, 1319.00), (859.4589, 635.00), (859.7005, 512.00), (859.9570, 1542.00)], full_width_at_half_max=0.01, index=11|3, intensity=4938.0, most_abundant_mass=3435.798895863301, mz=858.6985746660215, neutral_mass=3430.765192797006, score=86.74828362756027, signal_to_noise=987.6)\n",
      "\n",
      "DeconvolutedPeak(a_to_a2_ratio=0.5371954549852935, area=7111.0, average_mass=3433.6796580533573, charge=4, chosen_for_msms=False, envelope=[(858.9216, 627.00), (859.1830, 1618.00), (859.4245, 1461.33), (859.6832, 628.00), (859.9237, 2054.00), (860.1759, 1.00)], full_width_at_half_max=0.01, index=12|6, intensity=6388.3295785169375, most_abundant_mass=3435.6655076888496, mz=858.9228571414665, neutral_mass=3431.662322698786, score=86.90933603020451, signal_to_noise=1422.2)\n",
      "\n"
     ]
    }
   ],
   "source": [
    "peaks_l = []\n",
    "for peak in deconvoluted_peaks:\n",
    "    # discard a monoisotopic peak that has a second isotope with intensity of 1 (rubbish value)\n",
    "    if ((len(peak.envelope) > 1) and (peak.envelope[1][1] > 1)):\n",
    "        peaks_l.append((peak.mz, peak.neutral_mass, peak.intensity, peak.score, peak.signal_to_noise, peak.envelope))\n",
    "        print(\"{}\\n\".format(peak))\n",
    "\n",
    "deconvoluted_peaks_df = pd.DataFrame(peaks_l, columns=['mz','neutral_mass','intensity','score','SN','envelope'])\n",
    "# 'neutral mass' is the zero charge M, so we add the proton mass to get M+H (the monoisotopic mass)\n",
    "deconvoluted_peaks_df['m_plus_h'] = deconvoluted_peaks_df.neutral_mass + PROTON_MASS\n"
   ]
  },
  {
   "cell_type": "code",
   "execution_count": 132,
   "metadata": {},
   "outputs": [
    {
     "data": {
      "text/html": [
       "<div>\n",
       "<style scoped>\n",
       "    .dataframe tbody tr th:only-of-type {\n",
       "        vertical-align: middle;\n",
       "    }\n",
       "\n",
       "    .dataframe tbody tr th {\n",
       "        vertical-align: top;\n",
       "    }\n",
       "\n",
       "    .dataframe thead th {\n",
       "        text-align: right;\n",
       "    }\n",
       "</style>\n",
       "<table border=\"1\" class=\"dataframe\">\n",
       "  <thead>\n",
       "    <tr style=\"text-align: right;\">\n",
       "      <th></th>\n",
       "      <th>mz</th>\n",
       "      <th>neutral_mass</th>\n",
       "      <th>intensity</th>\n",
       "      <th>score</th>\n",
       "      <th>SN</th>\n",
       "      <th>envelope</th>\n",
       "      <th>m_plus_h</th>\n",
       "    </tr>\n",
       "  </thead>\n",
       "  <tbody>\n",
       "    <tr>\n",
       "      <th>0</th>\n",
       "      <td>858.884944</td>\n",
       "      <td>1715.755335</td>\n",
       "      <td>8845.000000</td>\n",
       "      <td>151.620931</td>\n",
       "      <td>2211.25</td>\n",
       "      <td>((858.8877, 2893.00), (859.3866, 3421.00), (85...</td>\n",
       "      <td>1716.762635</td>\n",
       "    </tr>\n",
       "    <tr>\n",
       "      <th>1</th>\n",
       "      <td>858.900836</td>\n",
       "      <td>1715.787120</td>\n",
       "      <td>20125.000000</td>\n",
       "      <td>243.276375</td>\n",
       "      <td>5031.25</td>\n",
       "      <td>((858.9026, 7938.00), (859.4025, 7153.00), (85...</td>\n",
       "      <td>1716.794420</td>\n",
       "    </tr>\n",
       "    <tr>\n",
       "      <th>2</th>\n",
       "      <td>858.938084</td>\n",
       "      <td>1715.861615</td>\n",
       "      <td>671128.000000</td>\n",
       "      <td>1478.708703</td>\n",
       "      <td>167782.00</td>\n",
       "      <td>((858.9381, 263157.00), (859.4396, 237879.00),...</td>\n",
       "      <td>1716.868915</td>\n",
       "    </tr>\n",
       "    <tr>\n",
       "      <th>3</th>\n",
       "      <td>859.917519</td>\n",
       "      <td>1717.820485</td>\n",
       "      <td>4100.459317</td>\n",
       "      <td>84.070771</td>\n",
       "      <td>1314.75</td>\n",
       "      <td>((859.9237, 1396.38), (860.4128, 1466.00), (86...</td>\n",
       "      <td>1718.827785</td>\n",
       "    </tr>\n",
       "    <tr>\n",
       "      <th>4</th>\n",
       "      <td>860.883419</td>\n",
       "      <td>1719.752285</td>\n",
       "      <td>738.000000</td>\n",
       "      <td>34.009529</td>\n",
       "      <td>246.00</td>\n",
       "      <td>((860.8836, 345.00), (861.3851, 294.00), (861....</td>\n",
       "      <td>1720.759585</td>\n",
       "    </tr>\n",
       "    <tr>\n",
       "      <th>5</th>\n",
       "      <td>860.897498</td>\n",
       "      <td>1719.780444</td>\n",
       "      <td>1101.000000</td>\n",
       "      <td>40.542217</td>\n",
       "      <td>275.25</td>\n",
       "      <td>((860.9014, 550.00), (861.3992, 398.00), (861....</td>\n",
       "      <td>1720.787744</td>\n",
       "    </tr>\n",
       "    <tr>\n",
       "      <th>6</th>\n",
       "      <td>860.941806</td>\n",
       "      <td>1719.869060</td>\n",
       "      <td>20642.000000</td>\n",
       "      <td>148.491047</td>\n",
       "      <td>5160.50</td>\n",
       "      <td>((860.9418, 11839.00), (861.4359, 2983.00), (8...</td>\n",
       "      <td>1720.876360</td>\n",
       "    </tr>\n",
       "    <tr>\n",
       "      <th>7</th>\n",
       "      <td>858.088661</td>\n",
       "      <td>2571.244154</td>\n",
       "      <td>11852.000000</td>\n",
       "      <td>117.392595</td>\n",
       "      <td>2963.00</td>\n",
       "      <td>((858.0887, 1.00), (858.4231, 5662.00), (858.7...</td>\n",
       "      <td>2572.251454</td>\n",
       "    </tr>\n",
       "    <tr>\n",
       "      <th>8</th>\n",
       "      <td>858.129642</td>\n",
       "      <td>2571.367096</td>\n",
       "      <td>26362.000000</td>\n",
       "      <td>230.024609</td>\n",
       "      <td>6590.50</td>\n",
       "      <td>((858.1296, 1.00), (858.4638, 11862.00), (858....</td>\n",
       "      <td>2572.374396</td>\n",
       "    </tr>\n",
       "    <tr>\n",
       "      <th>9</th>\n",
       "      <td>860.088749</td>\n",
       "      <td>2577.244416</td>\n",
       "      <td>8110.000000</td>\n",
       "      <td>110.711473</td>\n",
       "      <td>2027.50</td>\n",
       "      <td>((860.0887, 1.00), (860.4274, 3507.00), (860.7...</td>\n",
       "      <td>2578.251716</td>\n",
       "    </tr>\n",
       "    <tr>\n",
       "      <th>10</th>\n",
       "      <td>858.617582</td>\n",
       "      <td>3430.441224</td>\n",
       "      <td>3577.000000</td>\n",
       "      <td>90.747108</td>\n",
       "      <td>715.40</td>\n",
       "      <td>((858.6176, 1.00), (858.8684, 1150.00), (859.1...</td>\n",
       "      <td>3431.448524</td>\n",
       "    </tr>\n",
       "    <tr>\n",
       "      <th>11</th>\n",
       "      <td>858.698575</td>\n",
       "      <td>3430.765193</td>\n",
       "      <td>4938.000000</td>\n",
       "      <td>86.748284</td>\n",
       "      <td>987.60</td>\n",
       "      <td>((858.6986, 1.00), (858.9550, 930.00), (859.20...</td>\n",
       "      <td>3431.772493</td>\n",
       "    </tr>\n",
       "    <tr>\n",
       "      <th>12</th>\n",
       "      <td>858.922857</td>\n",
       "      <td>3431.662323</td>\n",
       "      <td>6388.329579</td>\n",
       "      <td>86.909336</td>\n",
       "      <td>1422.20</td>\n",
       "      <td>((858.9216, 627.00), (859.1830, 1618.00), (859...</td>\n",
       "      <td>3432.669623</td>\n",
       "    </tr>\n",
       "  </tbody>\n",
       "</table>\n",
       "</div>"
      ],
      "text/plain": [
       "            mz  neutral_mass      intensity        score         SN  \\\n",
       "0   858.884944   1715.755335    8845.000000   151.620931    2211.25   \n",
       "1   858.900836   1715.787120   20125.000000   243.276375    5031.25   \n",
       "2   858.938084   1715.861615  671128.000000  1478.708703  167782.00   \n",
       "3   859.917519   1717.820485    4100.459317    84.070771    1314.75   \n",
       "4   860.883419   1719.752285     738.000000    34.009529     246.00   \n",
       "5   860.897498   1719.780444    1101.000000    40.542217     275.25   \n",
       "6   860.941806   1719.869060   20642.000000   148.491047    5160.50   \n",
       "7   858.088661   2571.244154   11852.000000   117.392595    2963.00   \n",
       "8   858.129642   2571.367096   26362.000000   230.024609    6590.50   \n",
       "9   860.088749   2577.244416    8110.000000   110.711473    2027.50   \n",
       "10  858.617582   3430.441224    3577.000000    90.747108     715.40   \n",
       "11  858.698575   3430.765193    4938.000000    86.748284     987.60   \n",
       "12  858.922857   3431.662323    6388.329579    86.909336    1422.20   \n",
       "\n",
       "                                             envelope     m_plus_h  \n",
       "0   ((858.8877, 2893.00), (859.3866, 3421.00), (85...  1716.762635  \n",
       "1   ((858.9026, 7938.00), (859.4025, 7153.00), (85...  1716.794420  \n",
       "2   ((858.9381, 263157.00), (859.4396, 237879.00),...  1716.868915  \n",
       "3   ((859.9237, 1396.38), (860.4128, 1466.00), (86...  1718.827785  \n",
       "4   ((860.8836, 345.00), (861.3851, 294.00), (861....  1720.759585  \n",
       "5   ((860.9014, 550.00), (861.3992, 398.00), (861....  1720.787744  \n",
       "6   ((860.9418, 11839.00), (861.4359, 2983.00), (8...  1720.876360  \n",
       "7   ((858.0887, 1.00), (858.4231, 5662.00), (858.7...  2572.251454  \n",
       "8   ((858.1296, 1.00), (858.4638, 11862.00), (858....  2572.374396  \n",
       "9   ((860.0887, 1.00), (860.4274, 3507.00), (860.7...  2578.251716  \n",
       "10  ((858.6176, 1.00), (858.8684, 1150.00), (859.1...  3431.448524  \n",
       "11  ((858.6986, 1.00), (858.9550, 930.00), (859.20...  3431.772493  \n",
       "12  ((858.9216, 627.00), (859.1830, 1618.00), (859...  3432.669623  "
      ]
     },
     "execution_count": 132,
     "metadata": {},
     "output_type": "execute_result"
    }
   ],
   "source": [
    "deconvoluted_peaks_df"
   ]
  },
  {
   "cell_type": "code",
   "execution_count": 133,
   "metadata": {},
   "outputs": [
    {
     "data": {
      "image/png": "[encoded data removed]",
      "text/plain": [
       "<Figure size 1080x360 with 1 Axes>"
      ]
     },
     "metadata": {
      "needs_background": "light"
     },
     "output_type": "display_data"
    }
   ],
   "source": [
    "f, ax = plt.subplots()\n",
    "colors = ['tab:blue', 'tab:orange', 'tab:green', 'tab:red', 'tab:purple', 'tab:brown', 'tab:pink', 'tab:gray', 'tab:olive', 'tab:cyan']\n",
    "markerline, stemlines, baseline = ax.stem(deconvoluted_peaks_df.mz, deconvoluted_peaks_df.intensity, 'g')\n",
    "plt.setp(markerline, 'color', colors[2])\n",
    "plt.setp(stemlines, 'color', colors[2])\n",
    "plt.setp(baseline, 'color', colors[7])\n",
    "plt.xlabel('m/z')\n",
    "plt.ylabel('intensity')\n",
    "f.set_figheight(5)\n",
    "f.set_figwidth(15)\n",
    "plt.margins(0.06)\n",
    "plt.suptitle('Deconvoluted peaks for precursor ID {}'.format(precursor_id))\n",
    "plt.title('m/z bin width {} Th'.format(MS1_MZ_BIN_WIDTH))\n",
    "plt.show()"
   ]
  },
  {
   "cell_type": "markdown",
   "metadata": {},
   "source": [
    "### For each monoisotopic peak found, find its apex in RT and mobility"
   ]
  },
  {
   "cell_type": "code",
   "execution_count": 134,
   "metadata": {},
   "outputs": [],
   "source": [
    "# picking one of the monoisotopic peaks for analysis\n",
    "DECONVOLUTED_PEAK_IDX = 2\n",
    "feature_monoisotopic_mz = deconvoluted_peaks_df.iloc[DECONVOLUTED_PEAK_IDX].mz"
   ]
  },
  {
   "cell_type": "code",
   "execution_count": 135,
   "metadata": {},
   "outputs": [
    {
     "data": {
      "text/plain": [
       "858.938084065498"
      ]
     },
     "execution_count": 135,
     "metadata": {},
     "output_type": "execute_result"
    }
   ],
   "source": [
    "feature_monoisotopic_mz"
   ]
  },
  {
   "cell_type": "code",
   "execution_count": 136,
   "metadata": {},
   "outputs": [],
   "source": [
    "second_peak_mz = deconvoluted_peaks_df.iloc[DECONVOLUTED_PEAK_IDX].envelope[1][0]"
   ]
  },
  {
   "cell_type": "code",
   "execution_count": 137,
   "metadata": {},
   "outputs": [
    {
     "data": {
      "text/plain": [
       "859.4396160724222"
      ]
     },
     "execution_count": 137,
     "metadata": {},
     "output_type": "execute_result"
    }
   ],
   "source": [
    "second_peak_mz"
   ]
  },
  {
   "cell_type": "markdown",
   "metadata": {},
   "source": [
    "Get the raw points for the monoisotopic peak (constrained by the fragmentation event)"
   ]
  },
  {
   "cell_type": "code",
   "execution_count": 138,
   "metadata": {},
   "outputs": [],
   "source": [
    "MZ_TOLERANCE_PPM = 20\n",
    "MZ_TOLERANCE_PERCENT = MZ_TOLERANCE_PPM * 10**-4"
   ]
  },
  {
   "cell_type": "code",
   "execution_count": 139,
   "metadata": {},
   "outputs": [],
   "source": [
    "monoisotopic_mz_ppm_tolerance = feature_monoisotopic_mz * MZ_TOLERANCE_PERCENT / 100\n",
    "monoisotopic_mz_lower = feature_monoisotopic_mz - monoisotopic_mz_ppm_tolerance\n",
    "monoisotopic_mz_upper = feature_monoisotopic_mz + monoisotopic_mz_ppm_tolerance"
   ]
  },
  {
   "cell_type": "code",
   "execution_count": 140,
   "metadata": {},
   "outputs": [],
   "source": [
    "monoisotopic_raw_points_df = fe_raw_points_df[(fe_raw_points_df.mz >= monoisotopic_mz_lower) & (fe_raw_points_df.mz <= monoisotopic_mz_upper)]"
   ]
  },
  {
   "cell_type": "code",
   "execution_count": 141,
   "metadata": {},
   "outputs": [
    {
     "data": {
      "text/html": [
       "<div>\n",
       "<style scoped>\n",
       "    .dataframe tbody tr th:only-of-type {\n",
       "        vertical-align: middle;\n",
       "    }\n",
       "\n",
       "    .dataframe tbody tr th {\n",
       "        vertical-align: top;\n",
       "    }\n",
       "\n",
       "    .dataframe thead th {\n",
       "        text-align: right;\n",
       "    }\n",
       "</style>\n",
       "<table border=\"1\" class=\"dataframe\">\n",
       "  <thead>\n",
       "    <tr style=\"text-align: right;\">\n",
       "      <th></th>\n",
       "      <th>frame_id</th>\n",
       "      <th>mz</th>\n",
       "      <th>scan</th>\n",
       "      <th>intensity</th>\n",
       "      <th>retention_time_secs</th>\n",
       "    </tr>\n",
       "  </thead>\n",
       "  <tbody>\n",
       "    <tr>\n",
       "      <th>5022</th>\n",
       "      <td>41445</td>\n",
       "      <td>858.932727</td>\n",
       "      <td>437</td>\n",
       "      <td>1037</td>\n",
       "      <td>4451.447545</td>\n",
       "    </tr>\n",
       "    <tr>\n",
       "      <th>5041</th>\n",
       "      <td>41445</td>\n",
       "      <td>858.932727</td>\n",
       "      <td>438</td>\n",
       "      <td>1443</td>\n",
       "      <td>4451.447545</td>\n",
       "    </tr>\n",
       "    <tr>\n",
       "      <th>5056</th>\n",
       "      <td>41445</td>\n",
       "      <td>858.937348</td>\n",
       "      <td>439</td>\n",
       "      <td>1495</td>\n",
       "      <td>4451.447545</td>\n",
       "    </tr>\n",
       "    <tr>\n",
       "      <th>5079</th>\n",
       "      <td>41445</td>\n",
       "      <td>858.932727</td>\n",
       "      <td>440</td>\n",
       "      <td>872</td>\n",
       "      <td>4451.447545</td>\n",
       "    </tr>\n",
       "    <tr>\n",
       "      <th>5098</th>\n",
       "      <td>41445</td>\n",
       "      <td>858.937348</td>\n",
       "      <td>441</td>\n",
       "      <td>1466</td>\n",
       "      <td>4451.447545</td>\n",
       "    </tr>\n",
       "  </tbody>\n",
       "</table>\n",
       "</div>"
      ],
      "text/plain": [
       "      frame_id          mz  scan  intensity  retention_time_secs\n",
       "5022     41445  858.932727   437       1037          4451.447545\n",
       "5041     41445  858.932727   438       1443          4451.447545\n",
       "5056     41445  858.937348   439       1495          4451.447545\n",
       "5079     41445  858.932727   440        872          4451.447545\n",
       "5098     41445  858.937348   441       1466          4451.447545"
      ]
     },
     "execution_count": 141,
     "metadata": {},
     "output_type": "execute_result"
    }
   ],
   "source": [
    "monoisotopic_raw_points_df.head()"
   ]
  },
  {
   "cell_type": "markdown",
   "metadata": {},
   "source": [
    "### Collapsing the monoisotopic's summed points onto the mobility dimension"
   ]
  },
  {
   "cell_type": "code",
   "execution_count": 142,
   "metadata": {
    "scrolled": false
   },
   "outputs": [],
   "source": [
    "scan_df = monoisotopic_raw_points_df.groupby(['scan'], as_index=False).intensity.sum()"
   ]
  },
  {
   "cell_type": "code",
   "execution_count": 143,
   "metadata": {},
   "outputs": [],
   "source": [
    "centroid_scan = peakutils.centroid(scan_df.scan, scan_df.intensity)"
   ]
  },
  {
   "cell_type": "code",
   "execution_count": 144,
   "metadata": {},
   "outputs": [
    {
     "data": {
      "text/plain": [
       "462.40349209355173"
      ]
     },
     "execution_count": 144,
     "metadata": {},
     "output_type": "execute_result"
    }
   ],
   "source": [
    "centroid_scan"
   ]
  },
  {
   "cell_type": "code",
   "execution_count": 145,
   "metadata": {},
   "outputs": [],
   "source": [
    "feature_scan_centroid = centroid_scan\n",
    "feature_scan_lower = window_df.ScanNumBegin\n",
    "feature_scan_upper = window_df.ScanNumEnd"
   ]
  },
  {
   "cell_type": "code",
   "execution_count": 146,
   "metadata": {},
   "outputs": [
    {
     "data": {
      "text/plain": [
       "(462.40349209355173, 462.0, 487.0)"
      ]
     },
     "execution_count": 146,
     "metadata": {},
     "output_type": "execute_result"
    }
   ],
   "source": [
    "feature_scan_centroid, feature_scan_lower, feature_scan_upper"
   ]
  },
  {
   "cell_type": "code",
   "execution_count": 147,
   "metadata": {},
   "outputs": [
    {
     "data": {
      "image/png": "[encoded data removed]",
      "text/plain": [
       "<Figure size 1080x360 with 1 Axes>"
      ]
     },
     "metadata": {
      "needs_background": "light"
     },
     "output_type": "display_data"
    }
   ],
   "source": [
    "f, ax = plt.subplots()\n",
    "ax.plot(scan_df.scan, scan_df.intensity, marker='o', color='green', linestyle='-', linewidth=1, ms=5)\n",
    "plt.axvline(x=window_df.ScanNumBegin, linestyle=':', color='springgreen', label='lower MQ range')\n",
    "plt.axvline(x=window_df.ScanNumEnd, linestyle=':', color='red', label='upper MQ range')\n",
    "plt.axvline(x=centroid_scan, linestyle=':', color='orange', label='centroid')\n",
    "plt.legend(loc='best')\n",
    "plt.xlabel('scan')\n",
    "plt.ylabel('intensity')\n",
    "f.set_figheight(5)\n",
    "f.set_figwidth(15)\n",
    "plt.suptitle('Raw points for the monoisotopic at {:.4f} m/z summed by scan for precursor ID {}'.format(feature_monoisotopic_mz, precursor_id))\n",
    "plt.title('m/z bin width {} Th, narrow RT (FE +/- {} secs), wide mobility (FE +/- precursor scan width)'.format(MS1_MZ_BIN_WIDTH, RT_FRAGMENT_EVENT_DELTA_SECS))\n",
    "plt.margins(0.06)\n",
    "plt.show()"
   ]
  },
  {
   "cell_type": "markdown",
   "metadata": {},
   "source": [
    "### In the RT dimension, look wider to find the apex of the peak closest to the fragmentation event"
   ]
  },
  {
   "cell_type": "code",
   "execution_count": 148,
   "metadata": {},
   "outputs": [],
   "source": [
    "wide_rt_monoisotopic_raw_points_df = ms1_raw_points_df[(ms1_raw_points_df.mz >= monoisotopic_mz_lower) & (ms1_raw_points_df.mz <= monoisotopic_mz_upper)]"
   ]
  },
  {
   "cell_type": "code",
   "execution_count": 149,
   "metadata": {},
   "outputs": [
    {
     "data": {
      "text/plain": [
       "1133"
      ]
     },
     "execution_count": 149,
     "metadata": {},
     "output_type": "execute_result"
    }
   ],
   "source": [
    "len(wide_rt_monoisotopic_raw_points_df)"
   ]
  },
  {
   "cell_type": "code",
   "execution_count": 150,
   "metadata": {
    "scrolled": true
   },
   "outputs": [],
   "source": [
    "rt_df = wide_rt_monoisotopic_raw_points_df.groupby(['frame_id','retention_time_secs'], as_index=False).intensity.sum()"
   ]
  },
  {
   "cell_type": "code",
   "execution_count": 151,
   "metadata": {},
   "outputs": [],
   "source": [
    "peaks_threshold = 0.3\n",
    "peaks_idx = peakutils.indexes(rt_df.intensity.values, thres=peaks_threshold, min_dist=10)\n",
    "if len(peaks_idx) == 0:\n",
    "    peaks_threshold -= 0.1\n",
    "    peaks_idx = peakutils.indexes(rt_df.intensity.values, thres=peaks_threshold, min_dist=10)\n",
    "peaks_df = rt_df.iloc[peaks_idx].copy()"
   ]
  },
  {
   "cell_type": "code",
   "execution_count": 152,
   "metadata": {},
   "outputs": [
    {
     "data": {
      "text/html": [
       "<div>\n",
       "<style scoped>\n",
       "    .dataframe tbody tr th:only-of-type {\n",
       "        vertical-align: middle;\n",
       "    }\n",
       "\n",
       "    .dataframe tbody tr th {\n",
       "        vertical-align: top;\n",
       "    }\n",
       "\n",
       "    .dataframe thead th {\n",
       "        text-align: right;\n",
       "    }\n",
       "</style>\n",
       "<table border=\"1\" class=\"dataframe\">\n",
       "  <thead>\n",
       "    <tr style=\"text-align: right;\">\n",
       "      <th></th>\n",
       "      <th>frame_id</th>\n",
       "      <th>retention_time_secs</th>\n",
       "      <th>intensity</th>\n",
       "    </tr>\n",
       "  </thead>\n",
       "  <tbody>\n",
       "    <tr>\n",
       "      <th>22</th>\n",
       "      <td>41467</td>\n",
       "      <td>4453.805803</td>\n",
       "      <td>59480</td>\n",
       "    </tr>\n",
       "  </tbody>\n",
       "</table>\n",
       "</div>"
      ],
      "text/plain": [
       "    frame_id  retention_time_secs  intensity\n",
       "22     41467          4453.805803      59480"
      ]
     },
     "execution_count": 152,
     "metadata": {},
     "output_type": "execute_result"
    }
   ],
   "source": [
    "peaks_df"
   ]
  },
  {
   "cell_type": "code",
   "execution_count": 153,
   "metadata": {},
   "outputs": [],
   "source": [
    "peaks_df['fragmentation_rt_delta'] = abs(window_df.retention_time_secs - peaks_df.retention_time_secs)"
   ]
  },
  {
   "cell_type": "code",
   "execution_count": 154,
   "metadata": {},
   "outputs": [
    {
     "data": {
      "text/html": [
       "<div>\n",
       "<style scoped>\n",
       "    .dataframe tbody tr th:only-of-type {\n",
       "        vertical-align: middle;\n",
       "    }\n",
       "\n",
       "    .dataframe tbody tr th {\n",
       "        vertical-align: top;\n",
       "    }\n",
       "\n",
       "    .dataframe thead th {\n",
       "        text-align: right;\n",
       "    }\n",
       "</style>\n",
       "<table border=\"1\" class=\"dataframe\">\n",
       "  <thead>\n",
       "    <tr style=\"text-align: right;\">\n",
       "      <th></th>\n",
       "      <th>frame_id</th>\n",
       "      <th>retention_time_secs</th>\n",
       "      <th>intensity</th>\n",
       "      <th>fragmentation_rt_delta</th>\n",
       "    </tr>\n",
       "  </thead>\n",
       "  <tbody>\n",
       "    <tr>\n",
       "      <th>22</th>\n",
       "      <td>41467</td>\n",
       "      <td>4453.805803</td>\n",
       "      <td>59480</td>\n",
       "      <td>0.751483</td>\n",
       "    </tr>\n",
       "  </tbody>\n",
       "</table>\n",
       "</div>"
      ],
      "text/plain": [
       "    frame_id  retention_time_secs  intensity  fragmentation_rt_delta\n",
       "22     41467          4453.805803      59480                0.751483"
      ]
     },
     "execution_count": 154,
     "metadata": {},
     "output_type": "execute_result"
    }
   ],
   "source": [
    "peaks_df"
   ]
  },
  {
   "cell_type": "code",
   "execution_count": 155,
   "metadata": {},
   "outputs": [
    {
     "data": {
      "text/plain": [
       "frame_id                  41467.000000\n",
       "retention_time_secs        4453.805803\n",
       "intensity                 59480.000000\n",
       "fragmentation_rt_delta        0.751483\n",
       "Name: 22, dtype: float64"
      ]
     },
     "execution_count": 155,
     "metadata": {},
     "output_type": "execute_result"
    }
   ],
   "source": [
    "# get the peak closest to the fragmentation event\n",
    "peaks_df.loc[peaks_df.fragmentation_rt_delta.idxmin()]"
   ]
  },
  {
   "cell_type": "code",
   "execution_count": 156,
   "metadata": {},
   "outputs": [
    {
     "data": {
      "text/plain": [
       "22"
      ]
     },
     "execution_count": 156,
     "metadata": {},
     "output_type": "execute_result"
    }
   ],
   "source": [
    "# index of the closest peak\n",
    "peak_idx = peaks_df.fragmentation_rt_delta.idxmin()\n",
    "peak_idx"
   ]
  },
  {
   "cell_type": "code",
   "execution_count": 157,
   "metadata": {},
   "outputs": [],
   "source": [
    "feature_rt_apex = peaks_df.loc[peak_idx].retention_time_secs"
   ]
  },
  {
   "cell_type": "code",
   "execution_count": 158,
   "metadata": {},
   "outputs": [
    {
     "data": {
      "text/plain": [
       "4453.805803394633"
      ]
     },
     "execution_count": 158,
     "metadata": {},
     "output_type": "execute_result"
    }
   ],
   "source": [
    "feature_rt_apex"
   ]
  },
  {
   "cell_type": "code",
   "execution_count": 159,
   "metadata": {},
   "outputs": [],
   "source": [
    "valleys_idx = peakutils.indexes(-rt_df.intensity.values, thres=0.6, min_dist=RT_BASE_PEAK_WIDTH_SECS/20)\n",
    "valleys_df = rt_df.iloc[valleys_idx].copy()"
   ]
  },
  {
   "cell_type": "code",
   "execution_count": 160,
   "metadata": {},
   "outputs": [
    {
     "data": {
      "text/html": [
       "<div>\n",
       "<style scoped>\n",
       "    .dataframe tbody tr th:only-of-type {\n",
       "        vertical-align: middle;\n",
       "    }\n",
       "\n",
       "    .dataframe tbody tr th {\n",
       "        vertical-align: top;\n",
       "    }\n",
       "\n",
       "    .dataframe thead th {\n",
       "        text-align: right;\n",
       "    }\n",
       "</style>\n",
       "<table border=\"1\" class=\"dataframe\">\n",
       "  <thead>\n",
       "    <tr style=\"text-align: right;\">\n",
       "      <th></th>\n",
       "      <th>frame_id</th>\n",
       "      <th>retention_time_secs</th>\n",
       "      <th>intensity</th>\n",
       "    </tr>\n",
       "  </thead>\n",
       "  <tbody>\n",
       "    <tr>\n",
       "      <th>1</th>\n",
       "      <td>41236</td>\n",
       "      <td>4429.005871</td>\n",
       "      <td>109</td>\n",
       "    </tr>\n",
       "    <tr>\n",
       "      <th>4</th>\n",
       "      <td>41269</td>\n",
       "      <td>4432.552213</td>\n",
       "      <td>263</td>\n",
       "    </tr>\n",
       "    <tr>\n",
       "      <th>6</th>\n",
       "      <td>41291</td>\n",
       "      <td>4434.916672</td>\n",
       "      <td>394</td>\n",
       "    </tr>\n",
       "    <tr>\n",
       "      <th>10</th>\n",
       "      <td>41335</td>\n",
       "      <td>4439.635599</td>\n",
       "      <td>783</td>\n",
       "    </tr>\n",
       "    <tr>\n",
       "      <th>15</th>\n",
       "      <td>41390</td>\n",
       "      <td>4445.543040</td>\n",
       "      <td>731</td>\n",
       "    </tr>\n",
       "    <tr>\n",
       "      <th>30</th>\n",
       "      <td>41555</td>\n",
       "      <td>4463.244902</td>\n",
       "      <td>1020</td>\n",
       "    </tr>\n",
       "    <tr>\n",
       "      <th>37</th>\n",
       "      <td>41632</td>\n",
       "      <td>4471.506226</td>\n",
       "      <td>284</td>\n",
       "    </tr>\n",
       "    <tr>\n",
       "      <th>42</th>\n",
       "      <td>41687</td>\n",
       "      <td>4477.407621</td>\n",
       "      <td>85</td>\n",
       "    </tr>\n",
       "    <tr>\n",
       "      <th>44</th>\n",
       "      <td>41709</td>\n",
       "      <td>4479.769855</td>\n",
       "      <td>117</td>\n",
       "    </tr>\n",
       "    <tr>\n",
       "      <th>47</th>\n",
       "      <td>41742</td>\n",
       "      <td>4483.310929</td>\n",
       "      <td>94</td>\n",
       "    </tr>\n",
       "  </tbody>\n",
       "</table>\n",
       "</div>"
      ],
      "text/plain": [
       "    frame_id  retention_time_secs  intensity\n",
       "1      41236          4429.005871        109\n",
       "4      41269          4432.552213        263\n",
       "6      41291          4434.916672        394\n",
       "10     41335          4439.635599        783\n",
       "15     41390          4445.543040        731\n",
       "30     41555          4463.244902       1020\n",
       "37     41632          4471.506226        284\n",
       "42     41687          4477.407621         85\n",
       "44     41709          4479.769855        117\n",
       "47     41742          4483.310929         94"
      ]
     },
     "execution_count": 160,
     "metadata": {},
     "output_type": "execute_result"
    }
   ],
   "source": [
    "valleys_df"
   ]
  },
  {
   "cell_type": "code",
   "execution_count": 161,
   "metadata": {},
   "outputs": [
    {
     "data": {
      "text/plain": [
       "array([ 1,  4,  6, 10, 15, 30, 37, 42, 44, 47])"
      ]
     },
     "execution_count": 161,
     "metadata": {},
     "output_type": "execute_result"
    }
   ],
   "source": [
    "valleys_idx"
   ]
  },
  {
   "cell_type": "code",
   "execution_count": 162,
   "metadata": {},
   "outputs": [],
   "source": [
    "# find the closest valley above the peak\n",
    "if max(valleys_idx) > peak_idx:\n",
    "    valley_idx_above = valleys_idx[valleys_idx > peak_idx].min()\n",
    "else:\n",
    "    valley_idx_above = -1"
   ]
  },
  {
   "cell_type": "code",
   "execution_count": 163,
   "metadata": {},
   "outputs": [],
   "source": [
    "# find the closest valley below the peak\n",
    "if min(valleys_idx) < peak_idx:\n",
    "    valley_idx_below = valleys_idx[valleys_idx < peak_idx].max()\n",
    "else:\n",
    "    valley_idx_below = -1"
   ]
  },
  {
   "cell_type": "code",
   "execution_count": 164,
   "metadata": {},
   "outputs": [
    {
     "name": "stdout",
     "output_type": "stream",
     "text": [
      "15,30\n"
     ]
    }
   ],
   "source": [
    "print(\"{},{}\".format(valley_idx_below, valley_idx_above))"
   ]
  },
  {
   "cell_type": "code",
   "execution_count": 165,
   "metadata": {},
   "outputs": [],
   "source": [
    "feature_rt_base_lower = valleys_df.loc[valley_idx_below].retention_time_secs\n",
    "feature_rt_base_upper = valleys_df.loc[valley_idx_above].retention_time_secs"
   ]
  },
  {
   "cell_type": "code",
   "execution_count": 166,
   "metadata": {},
   "outputs": [
    {
     "data": {
      "text/plain": [
       "(4445.5430400577025, 4463.244901890858)"
      ]
     },
     "execution_count": 166,
     "metadata": {},
     "output_type": "execute_result"
    }
   ],
   "source": [
    "feature_rt_base_lower, feature_rt_base_upper"
   ]
  },
  {
   "cell_type": "code",
   "execution_count": 167,
   "metadata": {
    "scrolled": false
   },
   "outputs": [
    {
     "data": {
      "image/png": "[encoded data removed]",
      "text/plain": [
       "<Figure size 1080x360 with 1 Axes>"
      ]
     },
     "metadata": {
      "needs_background": "light"
     },
     "output_type": "display_data"
    }
   ],
   "source": [
    "f, ax = plt.subplots()\n",
    "ax.plot(rt_df.retention_time_secs, rt_df.intensity, marker='o', color='green', linestyle='-', linewidth=1, ms=5)\n",
    "ax.plot(peaks_df.retention_time_secs, peaks_df.intensity, marker='o', color='orange', linestyle='', markeredgewidth=3, ms=10, label='peak')\n",
    "ax.plot(peaks_df.loc[peak_idx].retention_time_secs, peaks_df.loc[peak_idx].intensity, marker='o', markerfacecolor='none', markeredgecolor='saddlebrown', linestyle='', markeredgewidth=4, ms=15, label='selected peak')\n",
    "if valley_idx_below != -1:\n",
    "    ax.plot(valleys_df.loc[valley_idx_below].retention_time_secs, valleys_df.loc[valley_idx_below].intensity, marker='o', color='springgreen', linestyle='', markeredgewidth=1, ms=10, label='valley below')\n",
    "if valley_idx_above != -1:\n",
    "    ax.plot(valleys_df.loc[valley_idx_above].retention_time_secs, valleys_df.loc[valley_idx_above].intensity, marker='o', color='red', linestyle='', markeredgewidth=1, ms=10, label='valley above')\n",
    "plt.axvline(x=window_df.retention_time_secs, linestyle=':', color='tab:red', label='fragmentation')\n",
    "plt.legend(loc='best')\n",
    "plt.xlabel('RT secs')\n",
    "plt.ylabel('intensity')\n",
    "f.set_figheight(5)\n",
    "f.set_figwidth(15)\n",
    "plt.suptitle('Raw points for the monoisotopic at {:.4f} m/z summed by frame for precursor ID {}'.format(feature_monoisotopic_mz, precursor_id))\n",
    "plt.title('m/z bin width {} Th, wide RT (FE +/- {} secs), wide mobility (FE +/- precursor scan width)'.format(MS1_MZ_BIN_WIDTH, RT_BASE_PEAK_WIDTH_SECS))\n",
    "plt.margins(0.06)\n",
    "plt.show()"
   ]
  },
  {
   "cell_type": "markdown",
   "metadata": {},
   "source": [
    "### Having extracted the MS1 feature characteristics, find all isolation windows that overlap with it"
   ]
  },
  {
   "cell_type": "code",
   "execution_count": 168,
   "metadata": {},
   "outputs": [
    {
     "data": {
      "text/plain": [
       "(858.938084065498,\n",
       " 4453.805803394633,\n",
       " 4445.5430400577025,\n",
       " 4463.244901890858,\n",
       " 462.40349209355173,\n",
       " 462.0,\n",
       " 487.0)"
      ]
     },
     "execution_count": 168,
     "metadata": {},
     "output_type": "execute_result"
    }
   ],
   "source": [
    "feature_monoisotopic_mz, feature_rt_apex, feature_rt_base_lower, feature_rt_base_upper, feature_scan_centroid, feature_scan_lower, feature_scan_upper"
   ]
  },
  {
   "cell_type": "code",
   "execution_count": 169,
   "metadata": {},
   "outputs": [],
   "source": [
    "# get all the isolation windows\n",
    "isolation_window_df = pd.read_pickle('/Users/darylwilding-mcbride/Downloads/isolation_window_df.pkl')"
   ]
  },
  {
   "cell_type": "code",
   "execution_count": 170,
   "metadata": {},
   "outputs": [],
   "source": [
    "# add-in the retention time for the isolation windows and filter out the windows not in range\n",
    "isolation_window_df = pd.merge(isolation_window_df, ms2_frame_properties_df, how='left', left_on=['Frame'], right_on=['frame_id'])"
   ]
  },
  {
   "cell_type": "code",
   "execution_count": 171,
   "metadata": {},
   "outputs": [],
   "source": [
    "isolation_window_df.drop(['frame_id', 'CollisionEnergy'], axis=1, inplace=True)\n",
    "isolation_window_df.dropna(subset=['retention_time_secs'], inplace=True)\n",
    "isolation_window_df['mz_lower'] = isolation_window_df.IsolationMz - (isolation_window_df.IsolationWidth / 2)\n",
    "isolation_window_df['mz_upper'] = isolation_window_df.IsolationMz + (isolation_window_df.IsolationWidth / 2)"
   ]
  },
  {
   "cell_type": "code",
   "execution_count": 172,
   "metadata": {
    "scrolled": true
   },
   "outputs": [
    {
     "data": {
      "text/html": [
       "<div>\n",
       "<style scoped>\n",
       "    .dataframe tbody tr th:only-of-type {\n",
       "        vertical-align: middle;\n",
       "    }\n",
       "\n",
       "    .dataframe tbody tr th {\n",
       "        vertical-align: top;\n",
       "    }\n",
       "\n",
       "    .dataframe thead th {\n",
       "        text-align: right;\n",
       "    }\n",
       "</style>\n",
       "<table border=\"1\" class=\"dataframe\">\n",
       "  <thead>\n",
       "    <tr style=\"text-align: right;\">\n",
       "      <th></th>\n",
       "      <th>Frame</th>\n",
       "      <th>ScanNumBegin</th>\n",
       "      <th>ScanNumEnd</th>\n",
       "      <th>IsolationMz</th>\n",
       "      <th>IsolationWidth</th>\n",
       "      <th>Precursor</th>\n",
       "      <th>retention_time_secs</th>\n",
       "      <th>mz_lower</th>\n",
       "      <th>mz_upper</th>\n",
       "    </tr>\n",
       "  </thead>\n",
       "  <tbody>\n",
       "    <tr>\n",
       "      <th>312803</th>\n",
       "      <td>40408</td>\n",
       "      <td>112</td>\n",
       "      <td>137</td>\n",
       "      <td>1135.738520</td>\n",
       "      <td>3.000000</td>\n",
       "      <td>147429</td>\n",
       "      <td>4340.019894</td>\n",
       "      <td>1134.238520</td>\n",
       "      <td>1137.238520</td>\n",
       "    </tr>\n",
       "    <tr>\n",
       "      <th>312804</th>\n",
       "      <td>40408</td>\n",
       "      <td>181</td>\n",
       "      <td>206</td>\n",
       "      <td>994.022363</td>\n",
       "      <td>3.000000</td>\n",
       "      <td>147430</td>\n",
       "      <td>4340.019894</td>\n",
       "      <td>992.522363</td>\n",
       "      <td>995.522363</td>\n",
       "    </tr>\n",
       "    <tr>\n",
       "      <th>312805</th>\n",
       "      <td>40408</td>\n",
       "      <td>263</td>\n",
       "      <td>288</td>\n",
       "      <td>1054.650881</td>\n",
       "      <td>3.000000</td>\n",
       "      <td>147451</td>\n",
       "      <td>4340.019894</td>\n",
       "      <td>1053.150881</td>\n",
       "      <td>1056.150881</td>\n",
       "    </tr>\n",
       "    <tr>\n",
       "      <th>312806</th>\n",
       "      <td>40408</td>\n",
       "      <td>324</td>\n",
       "      <td>349</td>\n",
       "      <td>789.368380</td>\n",
       "      <td>2.893684</td>\n",
       "      <td>147452</td>\n",
       "      <td>4340.019894</td>\n",
       "      <td>787.921538</td>\n",
       "      <td>790.815222</td>\n",
       "    </tr>\n",
       "    <tr>\n",
       "      <th>312807</th>\n",
       "      <td>40408</td>\n",
       "      <td>368</td>\n",
       "      <td>393</td>\n",
       "      <td>826.901660</td>\n",
       "      <td>3.000000</td>\n",
       "      <td>147453</td>\n",
       "      <td>4340.019894</td>\n",
       "      <td>825.401660</td>\n",
       "      <td>828.401660</td>\n",
       "    </tr>\n",
       "  </tbody>\n",
       "</table>\n",
       "</div>"
      ],
      "text/plain": [
       "        Frame  ScanNumBegin  ScanNumEnd  IsolationMz  IsolationWidth  \\\n",
       "312803  40408           112         137  1135.738520        3.000000   \n",
       "312804  40408           181         206   994.022363        3.000000   \n",
       "312805  40408           263         288  1054.650881        3.000000   \n",
       "312806  40408           324         349   789.368380        2.893684   \n",
       "312807  40408           368         393   826.901660        3.000000   \n",
       "\n",
       "        Precursor  retention_time_secs     mz_lower     mz_upper  \n",
       "312803     147429          4340.019894  1134.238520  1137.238520  \n",
       "312804     147430          4340.019894   992.522363   995.522363  \n",
       "312805     147451          4340.019894  1053.150881  1056.150881  \n",
       "312806     147452          4340.019894   787.921538   790.815222  \n",
       "312807     147453          4340.019894   825.401660   828.401660  "
      ]
     },
     "execution_count": 172,
     "metadata": {},
     "output_type": "execute_result"
    }
   ],
   "source": [
    "isolation_window_df.head()"
   ]
  },
  {
   "cell_type": "code",
   "execution_count": 173,
   "metadata": {},
   "outputs": [],
   "source": [
    "# define the visualisation window\n",
    "visualisation_mz_upper = feature_monoisotopic_mz + 3\n",
    "visualisation_mz_lower = feature_monoisotopic_mz - 3\n",
    "visualisation_scan_upper = feature_scan_upper + 20\n",
    "visualisation_scan_lower = feature_scan_lower - 20\n",
    "visualisation_rt_upper = feature_rt_base_upper\n",
    "visualisation_rt_lower = feature_rt_base_lower"
   ]
  },
  {
   "cell_type": "code",
   "execution_count": 174,
   "metadata": {},
   "outputs": [],
   "source": [
    "# find the isolation windows visible in the visualisation window\n",
    "indexes = isolation_window_df.index[\n",
    "                        (\n",
    "                            ((isolation_window_df.mz_lower >= visualisation_mz_lower) &\n",
    "                             (isolation_window_df.mz_lower <= visualisation_mz_upper)) |\n",
    "                            ((isolation_window_df.mz_upper >= visualisation_mz_lower) &\n",
    "                            (isolation_window_df.mz_upper <= visualisation_mz_upper))\n",
    "                        ) &\n",
    "                        (\n",
    "                            ((isolation_window_df.ScanNumBegin >= visualisation_scan_lower) &\n",
    "                             (isolation_window_df.ScanNumBegin <= visualisation_scan_upper)) |\n",
    "                            ((isolation_window_df.ScanNumEnd >= visualisation_scan_lower) &\n",
    "                            (isolation_window_df.ScanNumEnd <= visualisation_scan_upper))\n",
    "                        ) &\n",
    "                        (isolation_window_df.retention_time_secs >= visualisation_rt_lower) &\n",
    "                        (isolation_window_df.retention_time_secs <= visualisation_rt_upper)\n",
    "                       ]\n",
    "isolation_windows_in_visualisation_area_df = isolation_window_df.loc[indexes]"
   ]
  },
  {
   "cell_type": "code",
   "execution_count": 175,
   "metadata": {},
   "outputs": [
    {
     "data": {
      "text/html": [
       "<div>\n",
       "<style scoped>\n",
       "    .dataframe tbody tr th:only-of-type {\n",
       "        vertical-align: middle;\n",
       "    }\n",
       "\n",
       "    .dataframe tbody tr th {\n",
       "        vertical-align: top;\n",
       "    }\n",
       "\n",
       "    .dataframe thead th {\n",
       "        text-align: right;\n",
       "    }\n",
       "</style>\n",
       "<table border=\"1\" class=\"dataframe\">\n",
       "  <thead>\n",
       "    <tr style=\"text-align: right;\">\n",
       "      <th></th>\n",
       "      <th>Frame</th>\n",
       "      <th>ScanNumBegin</th>\n",
       "      <th>ScanNumEnd</th>\n",
       "      <th>IsolationMz</th>\n",
       "      <th>IsolationWidth</th>\n",
       "      <th>Precursor</th>\n",
       "      <th>retention_time_secs</th>\n",
       "      <th>mz_lower</th>\n",
       "      <th>mz_upper</th>\n",
       "    </tr>\n",
       "  </thead>\n",
       "  <tbody>\n",
       "    <tr>\n",
       "      <th>323591</th>\n",
       "      <td>41426</td>\n",
       "      <td>429</td>\n",
       "      <td>454</td>\n",
       "      <td>859.431517</td>\n",
       "      <td>3.0</td>\n",
       "      <td>153135</td>\n",
       "      <td>4449.405822</td>\n",
       "      <td>857.931517</td>\n",
       "      <td>860.931517</td>\n",
       "    </tr>\n",
       "    <tr>\n",
       "      <th>323603</th>\n",
       "      <td>41427</td>\n",
       "      <td>429</td>\n",
       "      <td>454</td>\n",
       "      <td>859.431517</td>\n",
       "      <td>3.0</td>\n",
       "      <td>153135</td>\n",
       "      <td>4449.513830</td>\n",
       "      <td>857.931517</td>\n",
       "      <td>860.931517</td>\n",
       "    </tr>\n",
       "    <tr>\n",
       "      <th>323757</th>\n",
       "      <td>41441</td>\n",
       "      <td>431</td>\n",
       "      <td>456</td>\n",
       "      <td>859.436098</td>\n",
       "      <td>3.0</td>\n",
       "      <td>153221</td>\n",
       "      <td>4451.018196</td>\n",
       "      <td>857.936098</td>\n",
       "      <td>860.936098</td>\n",
       "    </tr>\n",
       "    <tr>\n",
       "      <th>324135</th>\n",
       "      <td>41474</td>\n",
       "      <td>462</td>\n",
       "      <td>487</td>\n",
       "      <td>860.444362</td>\n",
       "      <td>3.0</td>\n",
       "      <td>153421</td>\n",
       "      <td>4454.557286</td>\n",
       "      <td>858.944362</td>\n",
       "      <td>861.944362</td>\n",
       "    </tr>\n",
       "  </tbody>\n",
       "</table>\n",
       "</div>"
      ],
      "text/plain": [
       "        Frame  ScanNumBegin  ScanNumEnd  IsolationMz  IsolationWidth  \\\n",
       "323591  41426           429         454   859.431517             3.0   \n",
       "323603  41427           429         454   859.431517             3.0   \n",
       "323757  41441           431         456   859.436098             3.0   \n",
       "324135  41474           462         487   860.444362             3.0   \n",
       "\n",
       "        Precursor  retention_time_secs    mz_lower    mz_upper  \n",
       "323591     153135          4449.405822  857.931517  860.931517  \n",
       "323603     153135          4449.513830  857.931517  860.931517  \n",
       "323757     153221          4451.018196  857.936098  860.936098  \n",
       "324135     153421          4454.557286  858.944362  861.944362  "
      ]
     },
     "execution_count": 175,
     "metadata": {},
     "output_type": "execute_result"
    }
   ],
   "source": [
    "isolation_windows_in_visualisation_area_df"
   ]
  },
  {
   "cell_type": "code",
   "execution_count": 176,
   "metadata": {},
   "outputs": [
    {
     "data": {
      "text/plain": [
       "858.938084065498"
      ]
     },
     "execution_count": 176,
     "metadata": {},
     "output_type": "execute_result"
    }
   ],
   "source": [
    "feature_monoisotopic_mz"
   ]
  },
  {
   "cell_type": "code",
   "execution_count": 177,
   "metadata": {},
   "outputs": [
    {
     "data": {
      "text/plain": [
       "(4445.5430400577025, 4463.244901890858)"
      ]
     },
     "execution_count": 177,
     "metadata": {},
     "output_type": "execute_result"
    }
   ],
   "source": [
    "feature_rt_base_lower, feature_rt_base_upper"
   ]
  },
  {
   "cell_type": "code",
   "execution_count": 178,
   "metadata": {},
   "outputs": [
    {
     "data": {
      "text/plain": [
       "462.40349209355173"
      ]
     },
     "execution_count": 178,
     "metadata": {},
     "output_type": "execute_result"
    }
   ],
   "source": [
    "feature_scan_centroid"
   ]
  },
  {
   "cell_type": "code",
   "execution_count": 179,
   "metadata": {},
   "outputs": [],
   "source": [
    "# find the isolation windows overlapping the feature's mono or second peak, plus scan and RT\n",
    "indexes = isolation_window_df.index[\n",
    "                            (((isolation_window_df.mz_upper >= feature_monoisotopic_mz) & (isolation_window_df.mz_lower <= feature_monoisotopic_mz)) |\n",
    "                            ((isolation_window_df.mz_upper >= second_peak_mz) & (isolation_window_df.mz_lower <= second_peak_mz))) &\n",
    "                            (isolation_window_df.ScanNumEnd >= feature_scan_centroid) &\n",
    "                            (isolation_window_df.ScanNumBegin <= feature_scan_centroid) &\n",
    "                            (isolation_window_df.retention_time_secs >= feature_rt_base_lower) &\n",
    "                            (isolation_window_df.retention_time_secs <= feature_rt_base_upper)\n",
    "                       ]\n",
    "isolation_windows_overlapping_feature_df = isolation_window_df.loc[indexes]"
   ]
  },
  {
   "cell_type": "code",
   "execution_count": 180,
   "metadata": {},
   "outputs": [
    {
     "data": {
      "text/html": [
       "<div>\n",
       "<style scoped>\n",
       "    .dataframe tbody tr th:only-of-type {\n",
       "        vertical-align: middle;\n",
       "    }\n",
       "\n",
       "    .dataframe tbody tr th {\n",
       "        vertical-align: top;\n",
       "    }\n",
       "\n",
       "    .dataframe thead th {\n",
       "        text-align: right;\n",
       "    }\n",
       "</style>\n",
       "<table border=\"1\" class=\"dataframe\">\n",
       "  <thead>\n",
       "    <tr style=\"text-align: right;\">\n",
       "      <th></th>\n",
       "      <th>Frame</th>\n",
       "      <th>ScanNumBegin</th>\n",
       "      <th>ScanNumEnd</th>\n",
       "      <th>IsolationMz</th>\n",
       "      <th>IsolationWidth</th>\n",
       "      <th>Precursor</th>\n",
       "      <th>retention_time_secs</th>\n",
       "      <th>mz_lower</th>\n",
       "      <th>mz_upper</th>\n",
       "    </tr>\n",
       "  </thead>\n",
       "  <tbody>\n",
       "    <tr>\n",
       "      <th>324135</th>\n",
       "      <td>41474</td>\n",
       "      <td>462</td>\n",
       "      <td>487</td>\n",
       "      <td>860.444362</td>\n",
       "      <td>3.0</td>\n",
       "      <td>153421</td>\n",
       "      <td>4454.557286</td>\n",
       "      <td>858.944362</td>\n",
       "      <td>861.944362</td>\n",
       "    </tr>\n",
       "  </tbody>\n",
       "</table>\n",
       "</div>"
      ],
      "text/plain": [
       "        Frame  ScanNumBegin  ScanNumEnd  IsolationMz  IsolationWidth  \\\n",
       "324135  41474           462         487   860.444362             3.0   \n",
       "\n",
       "        Precursor  retention_time_secs    mz_lower    mz_upper  \n",
       "324135     153421          4454.557286  858.944362  861.944362  "
      ]
     },
     "execution_count": 180,
     "metadata": {},
     "output_type": "execute_result"
    }
   ],
   "source": [
    "isolation_windows_overlapping_feature_df"
   ]
  },
  {
   "cell_type": "code",
   "execution_count": 181,
   "metadata": {},
   "outputs": [],
   "source": [
    "tableau20 = [(31, 119, 180), (174, 199, 232), (255, 127, 14), (255, 187, 120),  \n",
    "             (44, 160, 44), (152, 223, 138), (214, 39, 40), (255, 152, 150),  \n",
    "             (148, 103, 189), (197, 176, 213), (140, 86, 75), (196, 156, 148),  \n",
    "             (227, 119, 194), (247, 182, 210), (127, 127, 127), (199, 199, 199),  \n",
    "             (188, 189, 34), (219, 219, 141), (23, 190, 207), (158, 218, 229)]\n",
    "# Rescale to values between 0 and 1 \n",
    "for i in range(len(tableau20)):  \n",
    "    r, g, b = tableau20[i]  \n",
    "    tableau20[i] = (r / 255., g / 255., b / 255.)"
   ]
  },
  {
   "cell_type": "code",
   "execution_count": 182,
   "metadata": {},
   "outputs": [
    {
     "data": {
      "image/png": "[encoded data removed]",
      "text/plain": [
       "<Figure size 1080x576 with 1 Axes>"
      ]
     },
     "metadata": {
      "needs_background": "light"
     },
     "output_type": "display_data"
    }
   ],
   "source": [
    "import matplotlib.patches as patches\n",
    "\n",
    "f, ax1 = plt.subplots()\n",
    "\n",
    "# add the mono peak's centroid\n",
    "plt.plot(feature_monoisotopic_mz, feature_scan_centroid, 'bx', ms=10, mew=2, label='centroid')\n",
    "\n",
    "# add isolation windows matched\n",
    "for idx in range(len(isolation_windows_in_visualisation_area_df)):\n",
    "    window = isolation_windows_in_visualisation_area_df.iloc[idx]\n",
    "    drift_range = window.ScanNumEnd - window.ScanNumBegin\n",
    "    mz_range = window.mz_upper - window.mz_lower\n",
    "    isolation_window_rect = patches.Rectangle((window.mz_lower,window.ScanNumBegin),mz_range,drift_range,linewidth=1.5,linestyle='--',edgecolor=tableau20[idx%len(tableau20)],facecolor='none')\n",
    "    ax1.add_patch(isolation_window_rect)\n",
    "    text_style = dict(size=12, color=tableau20[idx%len(tableau20)])\n",
    "#     ax1.text(window.mz_lower, window.ScanNumBegin-0.5, window.frame_precursor, **text_style)\n",
    "    \n",
    "f.set_figheight(8)\n",
    "f.set_figwidth(15)\n",
    "# plt.gca().invert_yaxis()\n",
    "plt.gca().set_xlim([visualisation_mz_lower,visualisation_mz_upper])\n",
    "plt.gca().set_ylim([visualisation_scan_upper,visualisation_scan_lower])\n",
    "plt.xlabel('m/z')\n",
    "plt.ylabel('scan')\n",
    "# plt.legend(loc='best')\n",
    "plt.margins(0.02)\n",
    "# plt.suptitle(\"Feature {} and isolation window overlap, RT={} to {}\".format(feature_id_of_interest, round(feature.feature_start_rt,1), round(feature.feature_end_rt,1)))\n",
    "# plt.title('{}'.format(feature_list_filename))\n",
    "plt.show()"
   ]
  },
  {
   "cell_type": "markdown",
   "metadata": {},
   "source": [
    "### Extract all the raw ms2 points from the overlapping isolation windows"
   ]
  },
  {
   "cell_type": "code",
   "execution_count": 183,
   "metadata": {},
   "outputs": [],
   "source": [
    "# get the ms2 frame IDs\n",
    "ms2_frame_ids = tuple(ms2_frame_properties_df.astype(int).values[:,0])\n"
   ]
  },
  {
   "cell_type": "code",
   "execution_count": 226,
   "metadata": {},
   "outputs": [
    {
     "data": {
      "text/html": [
       "<div>\n",
       "<style scoped>\n",
       "    .dataframe tbody tr th:only-of-type {\n",
       "        vertical-align: middle;\n",
       "    }\n",
       "\n",
       "    .dataframe tbody tr th {\n",
       "        vertical-align: top;\n",
       "    }\n",
       "\n",
       "    .dataframe thead th {\n",
       "        text-align: right;\n",
       "    }\n",
       "</style>\n",
       "<table border=\"1\" class=\"dataframe\">\n",
       "  <thead>\n",
       "    <tr style=\"text-align: right;\">\n",
       "      <th></th>\n",
       "      <th>frame_id</th>\n",
       "      <th>retention_time_secs</th>\n",
       "    </tr>\n",
       "  </thead>\n",
       "  <tbody>\n",
       "    <tr>\n",
       "      <th>969</th>\n",
       "      <td>41474</td>\n",
       "      <td>4454.557286</td>\n",
       "    </tr>\n",
       "  </tbody>\n",
       "</table>\n",
       "</div>"
      ],
      "text/plain": [
       "     frame_id  retention_time_secs\n",
       "969     41474          4454.557286"
      ]
     },
     "execution_count": 226,
     "metadata": {},
     "output_type": "execute_result"
    }
   ],
   "source": [
    "ms2_frame_properties_df[ms2_frame_properties_df.frame_id == 41474]"
   ]
  },
  {
   "cell_type": "code",
   "execution_count": 184,
   "metadata": {},
   "outputs": [],
   "source": [
    "isolation_window_scan_lower = int(isolation_windows_overlapping_feature_df.iloc[0].ScanNumBegin)\n",
    "isolation_window_scan_upper = int(isolation_windows_overlapping_feature_df.iloc[0].ScanNumEnd)\n",
    "isolation_window_frame_id = int(isolation_windows_overlapping_feature_df.iloc[0].Frame)"
   ]
  },
  {
   "cell_type": "code",
   "execution_count": 185,
   "metadata": {},
   "outputs": [
    {
     "data": {
      "text/plain": [
       "(462, 487, 41474)"
      ]
     },
     "execution_count": 185,
     "metadata": {},
     "output_type": "execute_result"
    }
   ],
   "source": [
    "isolation_window_scan_lower, isolation_window_scan_upper, isolation_window_frame_id"
   ]
  },
  {
   "cell_type": "code",
   "execution_count": 319,
   "metadata": {},
   "outputs": [],
   "source": [
    "# get the raw ms2 points from the fragmentation frame within the scan constraints\n",
    "db_conn = sqlite3.connect(CONVERTED_DATABASE_NAME)\n",
    "ms2_raw_points_df = pd.read_sql_query(\"select frame_id,mz,scan,intensity,retention_time_secs from frames where frame_id == {} and scan >= {} and scan <= {}\".format(isolation_window_frame_id,isolation_window_scan_lower,isolation_window_scan_upper), db_conn)\n",
    "db_conn.close()"
   ]
  },
  {
   "cell_type": "code",
   "execution_count": 320,
   "metadata": {},
   "outputs": [
    {
     "data": {
      "text/plain": [
       "1540"
      ]
     },
     "execution_count": 320,
     "metadata": {},
     "output_type": "execute_result"
    }
   ],
   "source": [
    "len(ms2_raw_points_df)"
   ]
  },
  {
   "cell_type": "code",
   "execution_count": 321,
   "metadata": {},
   "outputs": [],
   "source": [
    "MS2_MZ_MAX = ms2_raw_points_df.mz.max()\n",
    "MS2_MZ_MIN = ms2_raw_points_df.mz.min()"
   ]
  },
  {
   "cell_type": "code",
   "execution_count": 322,
   "metadata": {},
   "outputs": [
    {
     "data": {
      "text/plain": [
       "(154.84300242408736, 1648.85541796288)"
      ]
     },
     "execution_count": 322,
     "metadata": {},
     "output_type": "execute_result"
    }
   ],
   "source": [
    "MS2_MZ_MIN, MS2_MZ_MAX"
   ]
  },
  {
   "cell_type": "code",
   "execution_count": 323,
   "metadata": {},
   "outputs": [],
   "source": [
    "MS2_MZ_BIN_WIDTH = 1e-5"
   ]
  },
  {
   "cell_type": "code",
   "execution_count": 324,
   "metadata": {},
   "outputs": [],
   "source": [
    "ms2_bins = np.arange(start=MS2_MZ_MIN, stop=MS2_MZ_MAX+MS2_MZ_BIN_WIDTH, step=MS2_MZ_BIN_WIDTH)  # go slightly wider to accomodate the maximum value\n"
   ]
  },
  {
   "cell_type": "code",
   "execution_count": 325,
   "metadata": {},
   "outputs": [],
   "source": [
    "MS2_MZ_BIN_COUNT = len(ms2_bins)"
   ]
  },
  {
   "cell_type": "code",
   "execution_count": 326,
   "metadata": {},
   "outputs": [
    {
     "data": {
      "text/plain": [
       "149401243"
      ]
     },
     "execution_count": 326,
     "metadata": {},
     "output_type": "execute_result"
    }
   ],
   "source": [
    "MS2_MZ_BIN_COUNT"
   ]
  },
  {
   "cell_type": "code",
   "execution_count": 327,
   "metadata": {},
   "outputs": [],
   "source": [
    "# initialise an array of lists to hold the m/z and intensity values allocated to each bin\n",
    "ms2_mz_values_array = np.empty(MS2_MZ_BIN_COUNT, dtype=np.object)\n",
    "for idx in range(MS2_MZ_BIN_COUNT):\n",
    "    ms2_mz_values_array[idx] = []\n"
   ]
  },
  {
   "cell_type": "code",
   "execution_count": 328,
   "metadata": {},
   "outputs": [
    {
     "name": "stdout",
     "output_type": "stream",
     "text": [
      "CPU times: user 3min 34s, sys: 3.9 s, total: 3min 38s\n",
      "Wall time: 3min 50s\n"
     ]
    }
   ],
   "source": [
    "%%time\n",
    "\n",
    "# gather the m/z values into bins\n",
    "for r in zip(ms2_raw_points_df.mz, ms2_raw_points_df.intensity):\n",
    "    mz = r[0]\n",
    "    intensity = int(r[1])\n",
    "    if (mz >= MS2_MZ_MIN) and (mz <= MS2_MZ_MAX): # it should already but just to be sure\n",
    "        mz_array_idx = int(np.digitize(mz, ms2_bins)) # in which bin should this mz go\n",
    "        ms2_mz_values_array[mz_array_idx].append((mz, intensity))"
   ]
  },
  {
   "cell_type": "code",
   "execution_count": 329,
   "metadata": {},
   "outputs": [
    {
     "name": "stdout",
     "output_type": "stream",
     "text": [
      "CPU times: user 41.9 s, sys: 15.7 s, total: 57.6 s\n",
      "Wall time: 1min 12s\n"
     ]
    }
   ],
   "source": [
    "%%time\n",
    "\n",
    "# compute the intensity-weighted m/z centroid and the summed intensity of the bins\n",
    "binned_ms2_l = []\n",
    "for bin_idx in range(MS2_MZ_BIN_COUNT):\n",
    "    if len(ms2_mz_values_array[bin_idx]) > 0:\n",
    "        mz_values_for_bin = np.array([ list[0] for list in ms2_mz_values_array[bin_idx]])\n",
    "        intensity_values_for_bin = np.array([ list[1] for list in ms2_mz_values_array[bin_idx]]).astype(int)\n",
    "        mz_centroid = peakutils.centroid(mz_values_for_bin, intensity_values_for_bin)\n",
    "        summed_intensity = intensity_values_for_bin.sum()\n",
    "        binned_ms2_l.append((mz_centroid,summed_intensity))"
   ]
  },
  {
   "cell_type": "code",
   "execution_count": 330,
   "metadata": {},
   "outputs": [
    {
     "data": {
      "text/plain": [
       "1184"
      ]
     },
     "execution_count": 330,
     "metadata": {},
     "output_type": "execute_result"
    }
   ],
   "source": [
    "len(binned_ms2_l)"
   ]
  },
  {
   "cell_type": "code",
   "execution_count": 331,
   "metadata": {},
   "outputs": [],
   "source": [
    "binned_ms2_df = pd.DataFrame(binned_ms2_l, columns=['mz_centroid','summed_intensity'])"
   ]
  },
  {
   "cell_type": "markdown",
   "metadata": {},
   "source": [
    "now do intensity descent to find the peaks"
   ]
  },
  {
   "cell_type": "code",
   "execution_count": 332,
   "metadata": {},
   "outputs": [],
   "source": [
    "raw_scratch_df = binned_ms2_df.copy() # take a copy because we're going to delete stuff"
   ]
  },
  {
   "cell_type": "code",
   "execution_count": 333,
   "metadata": {},
   "outputs": [
    {
     "data": {
      "text/plain": [
       "1184"
      ]
     },
     "execution_count": 333,
     "metadata": {},
     "output_type": "execute_result"
    }
   ],
   "source": [
    "len(raw_scratch_df)"
   ]
  },
  {
   "cell_type": "code",
   "execution_count": 334,
   "metadata": {},
   "outputs": [],
   "source": [
    "MZ_DELTA = 0.01"
   ]
  },
  {
   "cell_type": "code",
   "execution_count": 335,
   "metadata": {},
   "outputs": [],
   "source": [
    "ms2_peaks_l = []\n",
    "while len(raw_scratch_df) > 0:\n",
    "    # find the most intense point\n",
    "    peak_df = raw_scratch_df.loc[raw_scratch_df.summed_intensity.idxmax()]\n",
    "    peak_mz = peak_df.mz_centroid\n",
    "    peak_mz_lower = peak_mz - MZ_DELTA\n",
    "    peak_mz_upper = peak_mz + MZ_DELTA\n",
    "\n",
    "    # get all the raw points within this m/z region\n",
    "    peak_raw_points_df = raw_scratch_df[(raw_scratch_df.mz_centroid >= peak_mz_lower) & (raw_scratch_df.mz_centroid <= peak_mz_upper)]\n",
    "    mz_centroid = peakutils.centroid(peak_raw_points_df.mz_centroid, peak_raw_points_df.summed_intensity)\n",
    "    summed_intensity = peak_raw_points_df.summed_intensity.sum()\n",
    "    ms2_peaks_l.append((mz_centroid, summed_intensity))\n",
    "\n",
    "    # remove the raw points assigned to this peak\n",
    "    raw_scratch_df = raw_scratch_df[~raw_scratch_df.isin(peak_raw_points_df)].dropna(how = 'all')"
   ]
  },
  {
   "cell_type": "code",
   "execution_count": 336,
   "metadata": {},
   "outputs": [],
   "source": [
    "ms2_peaks_df = pd.DataFrame(ms2_peaks_l, columns=['mz','intensity'])"
   ]
  },
  {
   "cell_type": "code",
   "execution_count": 337,
   "metadata": {},
   "outputs": [
    {
     "data": {
      "image/png": "[encoded data removed]",
      "text/plain": [
       "<Figure size 1080x360 with 1 Axes>"
      ]
     },
     "metadata": {
      "needs_background": "light"
     },
     "output_type": "display_data"
    }
   ],
   "source": [
    "f, ax = plt.subplots()\n",
    "colors = ['tab:blue', 'tab:orange', 'tab:green', 'tab:red', 'tab:purple', 'tab:brown', 'tab:pink', 'tab:gray', 'tab:olive', 'tab:cyan']\n",
    "markerline, stemlines, baseline = ax.stem(ms2_peaks_df.mz, ms2_peaks_df.intensity, 'g')\n",
    "plt.setp(markerline, 'color', colors[2])\n",
    "plt.setp(stemlines, 'color', colors[2])\n",
    "plt.setp(baseline, 'color', colors[7])\n",
    "plt.xlabel('m/z')\n",
    "plt.ylabel('intensity')\n",
    "f.set_figheight(5)\n",
    "f.set_figwidth(15)\n",
    "ax.set_xlim((100,1900))\n",
    "plt.margins(0.06)\n",
    "plt.suptitle('Raw peaks in ms2 for precursor ID {}'.format(precursor_id))\n",
    "plt.title('bin width {} Th'.format(MS2_MZ_BIN_WIDTH))\n",
    "plt.show()"
   ]
  },
  {
   "cell_type": "code",
   "execution_count": 338,
   "metadata": {},
   "outputs": [
    {
     "name": "stdout",
     "output_type": "stream",
     "text": [
      "CPU times: user 556 ms, sys: 67.1 ms, total: 623 ms\n",
      "Wall time: 635 ms\n"
     ]
    }
   ],
   "source": [
    "%%time\n",
    "\n",
    "# ms2_deconvoluted_peaks, _ = deconvolute_peaks(ms2_peaks, averagine=averagine.peptide, charge_range=(1,5), scorer=scoring.MSDeconVFitter(10.0), truncate_after=0.95)\n",
    "ms2_deconvoluted_peaks, _ = deconvolute_peaks(ms2_peaks_l, averagine=averagine.peptide, charge_range=(1,5), scorer=scoring.MSDeconVFitter(10.0), truncate_after=0.95)"
   ]
  },
  {
   "cell_type": "code",
   "execution_count": 339,
   "metadata": {},
   "outputs": [
    {
     "name": "stdout",
     "output_type": "stream",
     "text": [
      "DeconvolutedPeak(a_to_a2_ratio=0.0, area=434.0, average_mass=317.6739006769863, charge=1, chosen_for_msms=False, envelope=[(318.1818, 315.00), (319.1806, 119.00)], full_width_at_half_max=0.01, index=1|1, intensity=434.0, most_abundant_mass=317.1744823999862, mz=318.1817588667562, neutral_mass=317.1744823999862, score=20.483664404011243, signal_to_noise=217.0)\n",
      "\n",
      "DeconvolutedPeak(a_to_a2_ratio=0.0, area=539.0, average_mass=386.69763017763495, charge=1, chosen_for_msms=False, envelope=[(387.2005, 367.00), (388.2093, 172.00)], full_width_at_half_max=0.01, index=2|2, intensity=539.0, most_abundant_mass=386.19324179781336, mz=387.20051826458337, neutral_mass=386.19324179781336, score=21.53819871600001, signal_to_noise=269.5)\n",
      "\n",
      "DeconvolutedPeak(a_to_a2_ratio=0.0, area=134.0, average_mass=398.68121198954657, charge=1, chosen_for_msms=False, envelope=[(399.1888, 86.00), (400.1881, 48.00)], full_width_at_half_max=0.01, index=3|3, intensity=134.0, most_abundant_mass=398.18156340156605, mz=399.18883986833606, neutral_mass=398.18156340156605, score=10.410708599363698, signal_to_noise=67.0)\n",
      "\n",
      "DeconvolutedPeak(a_to_a2_ratio=0.0, area=206.0, average_mass=405.66246971400767, charge=1, chosen_for_msms=False, envelope=[(406.1658, 142.00), (407.1736, 64.00)], full_width_at_half_max=0.01, index=4|4, intensity=206.0, most_abundant_mass=405.15856595139104, mz=406.16584241816105, neutral_mass=405.15856595139104, score=14.0260018711673, signal_to_noise=103.0)\n",
      "\n",
      "DeconvolutedPeak(a_to_a2_ratio=0.0, area=847.0, average_mass=443.70886378556145, charge=1, chosen_for_msms=False, envelope=[(444.2184, 679.00), (445.2139, 168.00)], full_width_at_half_max=0.01, index=6|6, intensity=847.0, most_abundant_mass=443.2111356936312, mz=444.2184121604012, neutral_mass=443.2111356936312, score=33.93871941364278, signal_to_noise=423.5)\n",
      "\n",
      "DeconvolutedPeak(a_to_a2_ratio=0.0, area=147.0, average_mass=485.7110658121217, charge=1, chosen_for_msms=False, envelope=[(486.2166, 106.00), (487.2200, 41.00)], full_width_at_half_max=0.01, index=7|7, intensity=147.0, most_abundant_mass=485.2093656260962, mz=486.2166420928662, neutral_mass=485.2093656260962, score=14.465988813102221, signal_to_noise=73.5)\n",
      "\n",
      "DeconvolutedPeak(a_to_a2_ratio=0.0, area=279.0, average_mass=500.7365850193286, charge=1, chosen_for_msms=False, envelope=[(501.2433, 216.00), (502.2444, 63.00)], full_width_at_half_max=0.01, index=9|9, intensity=279.0, most_abundant_mass=500.23601134089625, mz=501.24328780766626, neutral_mass=500.23601134089625, score=21.313992735990865, signal_to_noise=139.5)\n",
      "\n",
      "DeconvolutedPeak(a_to_a2_ratio=0.0, area=341.0, average_mass=519.7534823668135, charge=1, chosen_for_msms=False, envelope=[(520.2586, 246.56), (521.2630, 20.00)], full_width_at_half_max=0.01, index=11|14, intensity=266.5558758850939, most_abundant_mass=519.2512823996681, mz=520.2585588664381, neutral_mass=519.2512823996681, score=13.275280277124159, signal_to_noise=170.5)\n",
      "\n",
      "DeconvolutedPeak(a_to_a2_ratio=0.0, area=213.0, average_mass=530.7314056712792, charge=1, chosen_for_msms=False, envelope=[(531.2384, 150.00), (532.2390, 63.00)], full_width_at_half_max=0.01, index=12|15, intensity=213.0, most_abundant_mass=530.2311282505015, mz=531.2384047172715, neutral_mass=530.2311282505015, score=16.857576290606303, signal_to_noise=106.5)\n",
      "\n",
      "DeconvolutedPeak(a_to_a2_ratio=16.972107216910125, area=240.0, average_mass=553.2344609456892, charge=1, chosen_for_msms=False, envelope=[(553.2373, 146.00), (554.2370, 60.00), (555.2509, 34.00)], full_width_at_half_max=0.01, index=13|16, intensity=240.0, most_abundant_mass=552.230011010807, mz=553.237287477577, neutral_mass=552.230011010807, score=17.395719567567603, signal_to_noise=80.0)\n",
      "\n",
      "DeconvolutedPeak(a_to_a2_ratio=16.96205947774689, area=89.0, average_mass=553.742254130847, charge=1, chosen_for_msms=False, envelope=[(554.2482, 55.00), (555.2509, 23.62), (556.2535, 1.00)], full_width_at_half_max=0.01, index=14|17, intensity=78.62050820538852, most_abundant_mass=553.240885455564, mz=554.248161922334, neutral_mass=553.240885455564, score=10.791301521344165, signal_to_noise=44.5)\n",
      "\n",
      "DeconvolutedPeak(a_to_a2_ratio=16.89195135421145, area=316.0, average_mass=561.2561258547292, charge=1, chosen_for_msms=False, envelope=[(561.2604, 193.00), (562.2580, 78.00), (563.2717, 45.00)], full_width_at_half_max=0.01, index=15|18, intensity=316.0, most_abundant_mass=560.2531418403108, mz=561.2604183070808, neutral_mass=560.2531418403108, score=19.49229633957672, signal_to_noise=105.33333333333333)\n",
      "\n",
      "DeconvolutedPeak(a_to_a2_ratio=15.568451883369788, area=133.0, average_mass=576.7786703793652, charge=1, chosen_for_msms=False, envelope=[(577.2790, 91.00), (578.2929, 42.00), (579.2843, 1.00)], full_width_at_half_max=0.01, index=16|20, intensity=133.0, most_abundant_mass=576.2716902494038, mz=577.2789667161738, neutral_mass=576.2716902494038, score=11.290749351696315, signal_to_noise=66.5)\n",
      "\n",
      "DeconvolutedPeak(a_to_a2_ratio=15.472523466436261, area=346.0, average_mass=588.7546616421771, charge=1, chosen_for_msms=False, envelope=[(589.2639, 226.00), (590.2600, 120.00), (591.2693, 1.00)], full_width_at_half_max=0.01, index=18|23, intensity=346.0, most_abundant_mass=588.2566403712057, mz=589.2639168379757, neutral_mass=588.2566403712057, score=18.82921838540925, signal_to_noise=173.0)\n",
      "\n",
      "DeconvolutedPeak(a_to_a2_ratio=15.472523466436261, area=162.0, average_mass=588.7764539346174, charge=1, chosen_for_msms=False, envelope=[(589.2821, 107.00), (590.2854, 55.00), (591.2875, 1.00)], full_width_at_half_max=0.01, index=19|24, intensity=162.0, most_abundant_mass=588.2748132862513, mz=589.2820897530213, neutral_mass=588.2748132862513, score=14.668518475745028, signal_to_noise=81.0)\n",
      "\n",
      "DeconvolutedPeak(a_to_a2_ratio=15.420535051477392, area=279.0, average_mass=594.2953973125183, charge=1, chosen_for_msms=False, envelope=[(594.3013, 225.00), (595.2992, 45.00), (596.3076, 9.00)], full_width_at_half_max=0.01, index=20|25, intensity=279.0, most_abundant_mass=593.2939787421967, mz=594.3012552089667, neutral_mass=593.2939787421967, score=18.834386248494006, signal_to_noise=93.0)\n",
      "\n",
      "DeconvolutedPeak(a_to_a2_ratio=15.411893265842805, area=179.0, average_mass=595.277478481588, charge=1, chosen_for_msms=False, envelope=[(595.2838, 122.00), (596.2845, 34.00), (597.2860, 23.00)], full_width_at_half_max=0.01, index=21|26, intensity=179.0, most_abundant_mass=594.2765237976955, mz=595.2838002644655, neutral_mass=594.2765237976955, score=16.663201839307806, signal_to_noise=59.666666666666664)\n",
      "\n",
      "DeconvolutedPeak(a_to_a2_ratio=15.40325802213792, area=96.0, average_mass=595.7933654672744, charge=1, chosen_for_msms=False, envelope=[(596.2960, 67.00), (597.3053, 29.00), (598.3014, 1.00)], full_width_at_half_max=0.01, index=22|27, intensity=96.0, most_abundant_mass=595.2887495082842, mz=596.2960259750542, neutral_mass=595.2887495082842, score=10.798958775900775, signal_to_noise=48.0)\n",
      "\n",
      "DeconvolutedPeak(a_to_a2_ratio=14.69665737165602, area=159.0, average_mass=599.7559547983851, charge=1, chosen_for_msms=False, envelope=[(600.2608, 112.00), (601.2657, 47.00), (602.2662, 1.00)], full_width_at_half_max=0.01, index=23|28, intensity=159.0, most_abundant_mass=599.2535311439965, mz=600.2608076107665, neutral_mass=599.2535311439965, score=15.383583883964265, signal_to_noise=79.5)\n",
      "\n",
      "DeconvolutedPeak(a_to_a2_ratio=14.648142572366432, area=281.0, average_mass=605.782991528218, charge=1, chosen_for_msms=False, envelope=[(606.2859, 167.00), (607.2947, 114.00), (608.2913, 1.00)], full_width_at_half_max=0.01, index=24|29, intensity=281.0, most_abundant_mass=605.2785976276033, mz=606.2858740943733, neutral_mass=605.2785976276033, score=15.60248030622659, signal_to_noise=140.5)\n",
      "\n",
      "DeconvolutedPeak(a_to_a2_ratio=14.648142572366432, area=181.0, average_mass=605.7874204066741, charge=1, chosen_for_msms=False, envelope=[(606.2947, 67.00), (607.2947, 47.91), (608.3002, 1.00)], full_width_at_half_max=0.01, index=25|30, intensity=114.91397894575715, most_abundant_mass=605.2874553845157, mz=606.2947318512857, neutral_mass=605.2874553845157, score=10.264079525456408, signal_to_noise=90.5)\n",
      "\n",
      "DeconvolutedPeak(a_to_a2_ratio=14.599845514021414, area=9708.0, average_mass=612.3055090837289, charge=1, chosen_for_msms=False, envelope=[(612.3085, 6097.00), (613.3142, 3023.00), (614.3156, 588.00)], full_width_at_half_max=0.01, index=26|33, intensity=9708.0, most_abundant_mass=611.3012615019799, mz=612.3085379687499, neutral_mass=611.3012615019799, score=125.49536009828462, signal_to_noise=3236.0)\n",
      "\n",
      "DeconvolutedPeak(a_to_a2_ratio=14.599845514021416, area=309.0, average_mass=612.3221834931455, charge=1, chosen_for_msms=False, envelope=[(612.3228, 240.00), (613.3269, 60.00), (614.3387, 9.00)], full_width_at_half_max=0.01, index=27|34, intensity=309.0, most_abundant_mass=611.3155118985237, mz=612.3227883652937, neutral_mass=611.3155118985237, score=21.218243150937536, signal_to_noise=103.0)\n",
      "\n",
      "DeconvolutedPeak(a_to_a2_ratio=14.59181709323695, area=667.0, average_mass=613.3009536882798, charge=1, chosen_for_msms=False, envelope=[(613.3015, 347.00), (614.3046, 253.00), (615.3186, 67.00)], full_width_at_half_max=0.01, index=28|35, intensity=667.0, most_abundant_mass=612.2941915932894, mz=613.3014680600594, neutral_mass=612.2941915932894, score=25.025456418225932, signal_to_noise=222.33333333333334)\n",
      "\n",
      "DeconvolutedPeak(a_to_a2_ratio=14.583794683785207, area=320.0, average_mass=613.8043347357751, charge=1, chosen_for_msms=False, envelope=[(614.3046, 96.43), (615.3186, 34.26), (616.3101, 1.00)], full_width_at_half_max=0.01, index=29|36, intensity=130.68846248037667, most_abundant_mass=613.2973486256751, mz=614.3046250924451, neutral_mass=613.2973486256751, score=11.970511413880562, signal_to_noise=160.0)\n",
      "\n",
      "DeconvolutedPeak(a_to_a2_ratio=14.419909228831012, area=207.0, average_mass=616.8157794426163, charge=1, chosen_for_msms=False, envelope=[(617.3204, 116.00), (618.3257, 91.00), (619.3257, 1.00)], full_width_at_half_max=0.01, index=30|37, intensity=207.0, most_abundant_mass=616.3130984932139, mz=617.320374959984, neutral_mass=616.3130984932139, score=13.2642188806438, signal_to_noise=103.5)\n",
      "\n",
      "DeconvolutedPeak(a_to_a2_ratio=13.706139598131482, area=128.0, average_mass=629.778470340941, charge=1, chosen_for_msms=False, envelope=[(630.2848, 89.00), (631.2867, 39.00), (632.2902, 1.00)], full_width_at_half_max=0.01, index=32|39, intensity=128.0, most_abundant_mass=629.277506274138, mz=630.284782740908, neutral_mass=629.277506274138, score=14.061135093931949, signal_to_noise=64.0)\n",
      "\n",
      "DeconvolutedPeak(a_to_a2_ratio=12.080734233117639, area=167.0, average_mass=673.2770922041747, charge=1, chosen_for_msms=False, envelope=[(673.2759, 80.00), (674.2868, 77.00), (675.2904, 10.00)], full_width_at_half_max=0.01, index=33|41, intensity=167.0, most_abundant_mass=672.2686164824129, mz=673.2836558432024, neutral_mass=672.2763793764324, score=11.208186234815965, signal_to_noise=55.666666666666664)\n",
      "\n",
      "DeconvolutedPeak(a_to_a2_ratio=12.050278594004457, area=112.0, average_mass=677.8075330749684, charge=1, chosen_for_msms=False, envelope=[(678.3136, 62.00), (679.3160, 50.00), (680.3191, 1.00)], full_width_at_half_max=0.01, index=34|42, intensity=112.0, most_abundant_mass=677.3063335007823, mz=678.3136099675523, neutral_mass=677.3063335007823, score=10.462084293826729, signal_to_noise=56.0)\n",
      "\n",
      "DeconvolutedPeak(a_to_a2_ratio=11.348176681508956, area=308.0, average_mass=700.2918369396481, charge=1, chosen_for_msms=False, envelope=[(700.3018, 210.00), (701.2918, 70.00), (702.3038, 28.00)], full_width_at_half_max=0.01, index=35|44, intensity=308.0, most_abundant_mass=699.2944837638289, mz=700.3017602305989, neutral_mass=699.2944837638289, score=20.15327646085036, signal_to_noise=102.66666666666667)\n",
      "\n",
      "DeconvolutedPeak(a_to_a2_ratio=11.309069140500272, area=95.0, average_mass=706.8107208048069, charge=1, chosen_for_msms=False, envelope=[(707.3188, 57.00), (708.3172, 38.00), (709.3242, 1.00)], full_width_at_half_max=0.01, index=36|45, intensity=95.0, most_abundant_mass=706.3115110936586, mz=707.3187875604286, neutral_mass=706.3115110936586, score=10.019891901503623, signal_to_noise=47.5)\n",
      "\n",
      "DeconvolutedPeak(a_to_a2_ratio=11.309069140500272, area=160.0, average_mass=706.8310742243345, charge=1, chosen_for_msms=False, envelope=[(707.3385, 118.00), (708.3382, 42.00), (709.3439, 1.00)], full_width_at_half_max=0.01, index=37|46, intensity=160.0, most_abundant_mass=706.3312351826378, mz=707.3385116494078, neutral_mass=706.3312351826378, score=15.491967001207492, signal_to_noise=80.0)\n",
      "\n",
      "DeconvolutedPeak(a_to_a2_ratio=10.647210106210268, area=498.0, average_mass=717.302875702528, charge=1, chosen_for_msms=False, envelope=[(717.3099, 176.00), (718.3105, 96.00), (719.3100, 95.83)], full_width_at_half_max=0.01, index=39|48, intensity=367.82927468372407, most_abundant_mass=716.3025821607985, mz=717.3098586275685, neutral_mass=716.3025821607985, score=19.769266442174775, signal_to_noise=166.0)\n",
      "\n",
      "DeconvolutedPeak(a_to_a2_ratio=10.642152586936463, area=398.0, average_mass=718.2987026853526, charge=1, chosen_for_msms=False, envelope=[(718.2970, 148.00), (719.3100, 72.52), (720.3108, 24.00)], full_width_at_half_max=0.01, index=40|49, intensity=244.51826735424802, most_abundant_mass=717.2897655465083, mz=718.2970420132783, neutral_mass=717.2897655465083, score=16.91369402656284, signal_to_noise=132.66666666666666)\n",
      "\n",
      "DeconvolutedPeak(a_to_a2_ratio=10.642152586936463, area=496.0, average_mass=717.808375452784, charge=1, chosen_for_msms=False, envelope=[(718.3213, 270.00), (719.3100, 226.00), (720.3267, 1.00)], full_width_at_half_max=0.01, index=41|50, intensity=496.0, most_abundant_mass=717.3139775686636, mz=718.3212540354336, neutral_mass=717.3139775686636, score=16.44770683871494, signal_to_noise=248.0)\n",
      "\n",
      "DeconvolutedPeak(a_to_a2_ratio=10.606842368311296, area=885.0, average_mass=725.3872337204801, charge=1, chosen_for_msms=False, envelope=[(725.3923, 537.00), (726.3918, 263.00), (727.3995, 85.00)], full_width_at_half_max=0.01, index=42|51, intensity=885.0, most_abundant_mass=724.3850491918515, mz=725.3923256586215, neutral_mass=724.3850491918515, score=39.13295231189112, signal_to_noise=295.0)\n",
      "\n",
      "DeconvolutedPeak(a_to_a2_ratio=10.601811222865653, area=191.0, average_mass=725.8932668869888, charge=1, chosen_for_msms=False, envelope=[(726.4016, 106.00), (727.3995, 28.75), (728.4070, 1.00)], full_width_at_half_max=0.01, index=43|52, intensity=134.74857736122001, most_abundant_mass=725.394355742328, mz=726.401632209098, neutral_mass=725.394355742328, score=12.283393339843464, signal_to_noise=95.5)\n",
      "\n",
      "DeconvolutedPeak(a_to_a2_ratio=10.177454956865988, area=185.0, average_mass=732.3597848889082, charge=1, chosen_for_msms=False, envelope=[(732.3668, 78.00), (733.3614, 55.00), (734.3731, 52.00)], full_width_at_half_max=0.01, index=44|53, intensity=185.0, most_abundant_mass=731.3594943585076, mz=732.366345361631, neutral_mass=731.359068894861, score=10.136737295593926, signal_to_noise=61.666666666666664)\n",
      "\n",
      "DeconvolutedPeak(a_to_a2_ratio=10.167949983400188, area=759.0, average_mass=734.8253977543159, charge=1, chosen_for_msms=False, envelope=[(735.3313, 530.00), (736.3340, 229.00), (737.3368, 1.00)], full_width_at_half_max=0.01, index=45|54, intensity=759.0, most_abundant_mass=734.3240553332842, mz=735.3313318000542, neutral_mass=734.3240553332842, score=35.30003899015428, signal_to_noise=379.5)\n",
      "\n",
      "DeconvolutedPeak(a_to_a2_ratio=9.163050259472037, area=3495.0, average_mass=782.4108751510138, charge=1, chosen_for_msms=False, envelope=[(782.4159, 2200.00), (783.4201, 994.00), (784.4185, 301.00)], full_width_at_half_max=0.01, index=47|58, intensity=3495.0, most_abundant_mass=781.4086494255437, mz=782.4159258923137, neutral_mass=781.4086494255437, score=87.07913878375221, signal_to_noise=1165.0)\n",
      "\n",
      "DeconvolutedPeak(a_to_a2_ratio=9.163050259472039, area=466.0, average_mass=783.403783728543, charge=1, chosen_for_msms=False, envelope=[(783.4077, 281.00), (784.4034, 142.00), (785.4221, 43.00)], full_width_at_half_max=0.01, index=49|60, intensity=466.0, most_abundant_mass=782.4004054451594, mz=783.4076819119294, neutral_mass=782.4004054451594, score=25.808157403948872, signal_to_noise=155.33333333333334)\n",
      "\n",
      "DeconvolutedPeak(a_to_a2_ratio=9.138422789946256, area=162.0, average_mass=787.874824339708, charge=1, chosen_for_msms=False, envelope=[(788.3812, 120.00), (789.3830, 42.00), (790.3866, 1.00)], full_width_at_half_max=0.01, index=50|61, intensity=162.0, most_abundant_mass=787.3739007401903, mz=788.3811772069603, neutral_mass=787.3739007401903, score=15.573106336724733, signal_to_noise=81.0)\n",
      "\n",
      "DeconvolutedPeak(a_to_a2_ratio=8.645996418333395, area=191.0, average_mass=805.3281094174339, charge=1, chosen_for_msms=False, envelope=[(805.3363, 75.00), (806.3378, 54.00), (807.3321, 62.00)], full_width_at_half_max=0.01, index=51|62, intensity=191.0, most_abundant_mass=804.3290394902439, mz=805.3344122107742, neutral_mass=804.3271357440042, score=11.842859276380977, signal_to_noise=63.666666666666664)\n",
      "\n",
      "DeconvolutedPeak(a_to_a2_ratio=8.586259315106377, area=319.0, average_mass=820.4081019491099, charge=1, chosen_for_msms=False, envelope=[(820.4194, 186.00), (821.4116, 28.00), (822.4151, 105.00)], full_width_at_half_max=0.01, index=52|63, intensity=319.0, most_abundant_mass=819.4121240943053, mz=820.4194005610753, neutral_mass=819.4121240943053, score=14.042107648483686, signal_to_noise=106.33333333333333)\n",
      "\n",
      "DeconvolutedPeak(a_to_a2_ratio=8.257505734198997, area=343.0, average_mass=830.4010232015395, charge=1, chosen_for_msms=False, envelope=[(830.4113, 171.00), (831.3974, 106.00), (832.4162, 66.00)], full_width_at_half_max=0.01, index=53|64, intensity=343.0, most_abundant_mass=829.4039978649377, mz=830.4094697080104, neutral_mass=829.4021932412404, score=15.190556291057064, signal_to_noise=114.33333333333333)\n",
      "\n",
      "DeconvolutedPeak(a_to_a2_ratio=8.253987271039389, area=363.0, average_mass=831.3781528610851, charge=1, chosen_for_msms=False, envelope=[(831.3824, 191.00), (832.3884, 128.00), (833.3855, 44.00)], full_width_at_half_max=0.01, index=54|65, intensity=363.0, most_abundant_mass=830.3751248842232, mz=831.3824013509932, neutral_mass=830.3751248842232, score=23.456602878673984, signal_to_noise=121.0)\n",
      "\n",
      "DeconvolutedPeak(a_to_a2_ratio=7.919293845672427, area=778.0, average_mass=847.9096600222869, charge=1, chosen_for_msms=False, envelope=[(848.4151, 690.00), (849.4187, 88.00), (850.4207, 1.00)], full_width_at_half_max=0.01, index=55|67, intensity=778.0, most_abundant_mass=847.4078522704173, mz=848.4151287371873, neutral_mass=847.4078522704173, score=18.69131223458298, signal_to_noise=389.0)\n",
      "\n",
      "DeconvolutedPeak(a_to_a2_ratio=7.912657545592614, area=584.0, average_mass=850.4183282926966, charge=1, chosen_for_msms=False, envelope=[(850.4202, 394.00), (851.4274, 149.00), (852.4292, 41.00)], full_width_at_half_max=0.01, index=56|70, intensity=584.0, most_abundant_mass=849.4129254409431, mz=850.4202019077131, neutral_mass=849.4129254409431, score=32.23773113310404, signal_to_noise=194.66666666666666)\n",
      "\n",
      "DeconvolutedPeak(a_to_a2_ratio=7.459048608356074, area=126.0, average_mass=869.4151536901647, charge=1, chosen_for_msms=False, envelope=[(869.4177, 83.00), (870.4269, 11.00), (871.4227, 32.00)], full_width_at_half_max=0.01, index=58|75, intensity=126.0, most_abundant_mass=868.4104172860478, mz=869.4176937528179, neutral_mass=868.4104172860478, score=10.425309912102287, signal_to_noise=42.0)\n",
      "\n",
      "DeconvolutedPeak(a_to_a2_ratio=7.459048608356074, area=4981.0, average_mass=869.439668420196, charge=1, chosen_for_msms=False, envelope=[(869.4466, 2871.00), (870.4481, 1684.00), (871.4462, 426.00)], full_width_at_half_max=0.01, index=59|76, intensity=4981.0, most_abundant_mass=868.4393304643162, mz=869.4466069310862, neutral_mass=868.4393304643162, score=98.63450392630206, signal_to_noise=1660.3333333333333)\n",
      "\n",
      "DeconvolutedPeak(a_to_a2_ratio=7.459048608356073, area=828.0, average_mass=869.4549849758713, charge=1, chosen_for_msms=False, envelope=[(869.4639, 412.00), (870.4595, 224.00), (871.4634, 192.00)], full_width_at_half_max=0.01, index=60|77, intensity=828.0, most_abundant_mass=868.4566177399757, mz=869.4567262620924, neutral_mass=868.4494497953224, score=29.727459376608742, signal_to_noise=276.0)\n",
      "\n",
      "DeconvolutedPeak(a_to_a2_ratio=7.4530020846175065, area=282.0, average_mass=871.4581947929104, charge=1, chosen_for_msms=False, envelope=[(871.4634, 122.92), (872.4657, 45.00), (873.4673, 45.00)], full_width_at_half_max=0.01, index=61|78, intensity=212.9168055500942, most_abundant_mass=870.4561594709223, mz=871.4634359376923, neutral_mass=870.4561594709223, score=17.71203278013001, signal_to_noise=94.0)\n",
      "\n",
      "DeconvolutedPeak(a_to_a2_ratio=7.428884501165066, area=67.0, average_mass=878.8678557478365, charge=1, chosen_for_msms=False, envelope=[(879.3723, 47.00), (880.3779, 20.00), (881.3778, 1.00)], full_width_at_half_max=0.01, index=62|79, intensity=67.0, most_abundant_mass=878.3650565817657, mz=879.3723330485357, neutral_mass=878.3650565817657, score=10.025597302853912, signal_to_noise=33.5)\n",
      "\n",
      "DeconvolutedPeak(a_to_a2_ratio=7.4198685833880065, area=138.0, average_mass=882.9464124909393, charge=1, chosen_for_msms=False, envelope=[(883.4544, 85.00), (884.4530, 53.00), (885.4599, 1.00)], full_width_at_half_max=0.01, index=63|80, intensity=138.0, most_abundant_mass=882.4471373606152, mz=883.4544138273852, neutral_mass=882.4471373606152, score=13.553663674706979, signal_to_noise=69.0)\n",
      "\n",
      "DeconvolutedPeak(a_to_a2_ratio=6.857071226181485, area=227.0, average_mass=917.9147803131235, charge=1, chosen_for_msms=False, envelope=[(918.4223, 123.00), (919.4218, 104.00), (920.4278, 1.00)], full_width_at_half_max=0.01, index=64|81, intensity=227.0, most_abundant_mass=917.415013532741, mz=918.422289999511, neutral_mass=917.415013532741, score=15.8959198023083, signal_to_noise=113.5)\n",
      "\n",
      "DeconvolutedPeak(a_to_a2_ratio=6.854383017063331, area=133.0, average_mass=919.9079553395368, charge=1, chosen_for_msms=False, envelope=[(920.4080, 82.00), (921.4224, 51.00), (922.4136, 1.00)], full_width_at_half_max=0.01, index=65|82, intensity=133.0, most_abundant_mass=919.4007412345197, mz=920.4080177012897, neutral_mass=919.4007412345197, score=11.412524137043842, signal_to_noise=66.5)\n",
      "\n",
      "DeconvolutedPeak(a_to_a2_ratio=6.600410972151792, area=196.0, average_mass=935.4407393079571, charge=1, chosen_for_msms=False, envelope=[(935.4446, 117.00), (936.4550, 56.00), (937.4444, 23.00)], full_width_at_half_max=0.01, index=66|83, intensity=196.0, most_abundant_mass=934.4373623368112, mz=935.4516314821601, neutral_mass=934.4443550153901, score=15.380795843068322, signal_to_noise=65.33333333333333)\n",
      "\n",
      "DeconvolutedPeak(a_to_a2_ratio=6.211988961275116, area=177.0, average_mass=974.451045620064, charge=1, chosen_for_msms=False, envelope=[(974.4557, 123.00), (975.4547, 9.00), (976.4646, 45.00)], full_width_at_half_max=0.01, index=67|84, intensity=177.0, most_abundant_mass=973.4483999940188, mz=974.4556764607888, neutral_mass=973.4483999940188, score=11.5731774584175, signal_to_noise=59.0)\n",
      "\n",
      "DeconvolutedPeak(a_to_a2_ratio=6.209667821557489, area=166.0, average_mass=974.936873460769, charge=1, chosen_for_msms=False, envelope=[(975.4408, 109.00), (976.4475, 57.00), (977.4463, 1.00)], full_width_at_half_max=0.01, index=68|85, intensity=166.0, most_abundant_mass=974.4334958636059, mz=975.4407723303759, neutral_mass=974.4334958636059, score=15.039550809051866, signal_to_noise=83.0)\n",
      "\n",
      "DeconvolutedPeak(a_to_a2_ratio=6.009900097031392, area=186.0, average_mass=981.975209297115, charge=1, chosen_for_msms=False, envelope=[(982.4813, 119.00), (983.4837, 67.00), (984.4868, 1.00)], full_width_at_half_max=0.01, index=69|86, intensity=186.0, most_abundant_mass=981.4740301632296, mz=982.4813066299996, neutral_mass=981.4740301632296, score=17.063054053612184, signal_to_noise=93.0)\n",
      "\n",
      "DeconvolutedPeak(a_to_a2_ratio=6.007684509686617, area=2320.0, average_mass=982.5236524521464, charge=1, chosen_for_msms=False, envelope=[(982.5274, 1024.00), (983.5368, 881.00), (984.5287, 415.00)], full_width_at_half_max=0.01, index=70|87, intensity=2320.0, most_abundant_mass=981.5200976062879, mz=982.5273740730579, neutral_mass=981.5200976062879, score=50.00676290020574, signal_to_noise=773.3333333333334)\n",
      "\n",
      "DeconvolutedPeak(a_to_a2_ratio=6.007684509686617, area=540.0, average_mass=982.5399579281991, charge=1, chosen_for_msms=False, envelope=[(982.5422, 319.00), (983.5529, 34.00), (984.5466, 187.00)], full_width_at_half_max=0.01, index=71|88, intensity=540.0, most_abundant_mass=981.5349242680622, mz=982.5422007348322, neutral_mass=981.5349242680622, score=21.43282001614705, signal_to_noise=180.0)\n",
      "\n",
      "DeconvolutedPeak(a_to_a2_ratio=6.0054700782419035, area=701.0, average_mass=983.0170208466068, charge=1, chosen_for_msms=False, envelope=[(983.5199, 286.00), (984.5287, 187.85), (985.5255, 1.00)], full_width_at_half_max=0.01, index=72|89, intensity=473.85440796142166, most_abundant_mass=982.5126630461826, mz=983.5199395129526, neutral_mass=982.5126630461826, score=24.22430888627022, signal_to_noise=350.5)\n",
      "\n",
      "DeconvolutedPeak(a_to_a2_ratio=6.005470078241903, area=326.0, average_mass=984.5384987227724, charge=1, chosen_for_msms=False, envelope=[(984.5466, 134.13), (985.5499, 61.00), (986.5409, 78.00)], full_width_at_half_max=0.01, index=73|90, intensity=273.1299053013654, most_abundant_mass=983.5393309797246, mz=984.5466074464946, neutral_mass=983.5393309797246, score=16.894285356752967, signal_to_noise=108.66666666666667)\n",
      "\n",
      "DeconvolutedPeak(a_to_a2_ratio=5.987796149182566, area=132.0, average_mass=991.9347141739072, charge=1, chosen_for_msms=False, envelope=[(992.4459, 82.00), (993.4381, 50.00), (994.4514, 1.00)], full_width_at_half_max=0.01, index=74|91, intensity=132.0, most_abundant_mass=991.4385771218114, mz=992.4458535885814, neutral_mass=991.4385771218114, score=11.401271837593535, signal_to_noise=66.0)\n",
      "\n",
      "DeconvolutedPeak(a_to_a2_ratio=5.987796149182566, area=479.0, average_mass=992.4677645631378, charge=1, chosen_for_msms=False, envelope=[(992.4652, 284.00), (993.4828, 141.00), (994.4771, 54.00)], full_width_at_half_max=0.01, index=75|92, intensity=479.0, most_abundant_mass=991.4579199636602, mz=992.4703950841393, neutral_mass=991.4631186173693, score=24.37579190349753, signal_to_noise=159.66666666666666)\n",
      "\n",
      "DeconvolutedPeak(a_to_a2_ratio=5.789493351330999, area=149.0, average_mass=1003.0014143110246, charge=1, chosen_for_msms=False, envelope=[(1003.5055, 90.00), (1004.5119, 59.00), (1005.5110, 1.00)], full_width_at_half_max=0.01, index=76|93, intensity=149.0, most_abundant_mass=1002.4982082793719, mz=1003.5054847461419, neutral_mass=1002.4982082793719, score=14.31552932523012, signal_to_noise=74.5)\n",
      "\n",
      "DeconvolutedPeak(a_to_a2_ratio=5.122204328838955, area=260.0, average_mass=1070.0097172789178, charge=1, chosen_for_msms=False, envelope=[(1070.5133, 130.00), (1071.5207, 130.00), (1072.5188, 1.00)], full_width_at_half_max=0.01, index=81|95, intensity=260.0, most_abundant_mass=1069.5059936662415, mz=1070.5132701330115, neutral_mass=1069.5059936662415, score=16.337784343094572, signal_to_noise=130.0)\n",
      "\n",
      "DeconvolutedPeak(a_to_a2_ratio=5.1099330851356735, area=231.0, average_mass=1077.0408572252568, charge=1, chosen_for_msms=False, envelope=[(1077.5444, 177.00), (1078.5519, 54.00), (1079.5500, 1.00)], full_width_at_half_max=0.01, index=82|96, intensity=231.0, most_abundant_mass=1076.537133212258, mz=1077.544409679028, neutral_mass=1076.537133212258, score=13.794515409795615, signal_to_noise=115.5)\n",
      "\n",
      "DeconvolutedPeak(a_to_a2_ratio=5.1099330851356735, area=105.0, average_mass=1077.5585479458134, charge=1, chosen_for_msms=False, envelope=[(1077.5578, 55.00), (1078.5622, 40.00), (1079.5774, 10.00)], full_width_at_half_max=0.01, index=83|97, intensity=105.0, most_abundant_mass=1076.5505557363717, mz=1077.5588597112555, neutral_mass=1076.5515832444855, score=13.075618014512717, signal_to_noise=35.0)\n",
      "\n",
      "DeconvolutedPeak(a_to_a2_ratio=5.09247522360811, area=249.0, average_mass=1087.0288660644947, charge=1, chosen_for_msms=False, envelope=[(1087.5342, 206.00), (1088.5381, 43.00), (1089.5397, 1.00)], full_width_at_half_max=0.01, index=84|98, intensity=249.0, most_abundant_mass=1086.5268814658277, mz=1087.5341579325977, neutral_mass=1086.5268814658277, score=10.581549105355455, signal_to_noise=124.5)\n",
      "\n",
      "DeconvolutedPeak(a_to_a2_ratio=5.090734110587983, area=342.0, average_mass=1088.5214057998753, charge=1, chosen_for_msms=False, envelope=[(1088.5277, 176.00), (1089.5268, 102.00), (1090.5315, 64.00)], full_width_at_half_max=0.01, index=86|100, intensity=342.0, most_abundant_mass=1087.5204460322943, mz=1088.5277224990643, neutral_mass=1087.5204460322943, score=24.59589991819108, signal_to_noise=114.0)\n",
      "\n",
      "DeconvolutedPeak(a_to_a2_ratio=5.090734110587983, area=103.0, average_mass=1088.0489890357028, charge=1, chosen_for_msms=False, envelope=[(1088.5522, 62.00), (1089.5603, 41.00), (1090.5578, 1.00)], full_width_at_half_max=0.01, index=87|101, intensity=103.0, most_abundant_mass=1087.5449473404246, mz=1088.5522238071947, neutral_mass=1087.5449473404246, score=11.367710835473263, signal_to_noise=51.5)\n",
      "\n",
      "DeconvolutedPeak(a_to_a2_ratio=4.8663977791170865, area=202.0, average_mass=1105.5402558362305, charge=1, chosen_for_msms=False, envelope=[(1105.5428, 47.00), (1106.5444, 48.00), (1107.5554, 48.03)], full_width_at_half_max=0.01, index=88|102, intensity=143.0283578513635, most_abundant_mass=1106.548111194988, mz=1105.5428033709466, neutral_mass=1104.5355269041765, score=10.688219408158815, signal_to_noise=67.33333333333333)\n",
      "\n",
      "DeconvolutedPeak(a_to_a2_ratio=4.8663977791170865, area=517.0, average_mass=1105.5482104499617, charge=1, chosen_for_msms=False, envelope=[(1105.5550, 269.00), (1106.5560, 141.00), (1107.5554, 107.00)], full_width_at_half_max=0.01, index=89|103, intensity=517.0, most_abundant_mass=1104.5477471575803, mz=1105.5550236243503, neutral_mass=1104.5477471575803, score=29.389555093369786, signal_to_noise=172.33333333333334)\n",
      "\n",
      "DeconvolutedPeak(a_to_a2_ratio=4.8663977791170865, area=345.0, average_mass=1105.5617590132508, charge=1, chosen_for_msms=False, envelope=[(1105.5638, 127.00), (1106.5706, 197.00), (1107.5727, 21.00)], full_width_at_half_max=0.01, index=90|104, intensity=345.0, most_abundant_mass=1105.5633554618562, mz=1105.567277090826, neutral_mass=1104.560000624056, score=14.338585985683808, signal_to_noise=115.0)\n",
      "\n",
      "DeconvolutedPeak(a_to_a2_ratio=4.856672002117312, area=724.0, average_mass=1111.562110658656, charge=1, chosen_for_msms=False, envelope=[(1111.5669, 440.00), (1112.5669, 166.00), (1113.5744, 118.00)], full_width_at_half_max=0.01, index=91|105, intensity=724.0, most_abundant_mass=1110.5596271414274, mz=1111.5669036081974, neutral_mass=1110.5596271414274, score=33.37018053783669, signal_to_noise=241.33333333333334)\n",
      "\n",
      "DeconvolutedPeak(a_to_a2_ratio=4.856672002117312, area=764.0, average_mass=1111.572388001926, charge=1, chosen_for_msms=False, envelope=[(1111.5770, 304.00), (1112.5779, 408.00), (1113.5841, 52.00)], full_width_at_half_max=0.01, index=92|106, intensity=764.0, most_abundant_mass=1111.5706286021702, mz=1111.5769810436475, neutral_mass=1110.5697045768775, score=26.537740361341978, signal_to_noise=254.66666666666666)\n",
      "\n",
      "DeconvolutedPeak(a_to_a2_ratio=4.856672002117311, area=552.0, average_mass=1111.5787377349045, charge=1, chosen_for_msms=False, envelope=[(1111.5855, 94.00), (1112.5779, 49.65), (1113.5946, 50.00)], full_width_at_half_max=0.01, index=93|107, intensity=193.65044676188623, most_abundant_mass=1110.5782300756416, mz=1111.5855065424116, neutral_mass=1110.5782300756416, score=14.15083134275685, signal_to_noise=184.0)\n",
      "\n",
      "DeconvolutedPeak(a_to_a2_ratio=4.7075179140958925, area=107.0, average_mass=1124.0350617279664, charge=2, chosen_for_msms=False, envelope=[(562.7779, 62.00), (563.2717, 31.28), (563.7806, 1.00)], full_width_at_half_max=0.01, index=95|19, intensity=93.28090035623603, most_abundant_mass=1123.5411916626808, mz=562.7778722981104, neutral_mass=1123.5411916626808, score=10.043851207073386, signal_to_noise=53.5)\n",
      "\n",
      "DeconvolutedPeak(a_to_a2_ratio=4.373792730181017, area=148.0, average_mass=1171.9074445211859, charge=2, chosen_for_msms=False, envelope=[(586.7127, 74.00), (587.2093, 74.00), (587.7155, 1.00)], full_width_at_half_max=0.01, index=96|21, intensity=148.0, most_abundant_mass=1171.4108258658543, mz=586.7126893996972, neutral_mass=1171.4108258658543, score=12.665391059187225, signal_to_noise=74.0)\n",
      "\n",
      "DeconvolutedPeak(a_to_a2_ratio=4.206533037815422, area=100.0, average_mass=1198.0926918846992, charge=1, chosen_for_msms=False, envelope=[(1198.6004, 54.00), (1199.5996, 46.00), (1200.6059, 1.00)], full_width_at_half_max=0.01, index=97|109, intensity=100.0, most_abundant_mass=1197.5930891210237, mz=1198.6003655877937, neutral_mass=1197.5930891210237, score=11.46579376017388, signal_to_noise=50.0)\n",
      "\n",
      "DeconvolutedPeak(a_to_a2_ratio=4.206533037815422, area=860.0, average_mass=1198.6051762965212, charge=1, chosen_for_msms=False, envelope=[(1198.6097, 462.00), (1199.6113, 316.00), (1200.6163, 82.00)], full_width_at_half_max=0.01, index=98|110, intensity=860.0, most_abundant_mass=1197.6024592473623, mz=1198.6097357141323, neutral_mass=1197.6024592473623, score=43.41790567783454, signal_to_noise=286.6666666666667)\n",
      "\n",
      "DeconvolutedPeak(a_to_a2_ratio=4.206533037815423, area=91.0, average_mass=1198.6179202761205, charge=1, chosen_for_msms=False, envelope=[(1198.6222, 45.00), (1199.6269, 21.00), (1200.6265, 25.00)], full_width_at_half_max=0.01, index=99|111, intensity=91.0, most_abundant_mass=1197.614925228502, mz=1198.622201695272, neutral_mass=1197.614925228502, score=11.212977843063026, signal_to_noise=30.333333333333332)\n",
      "\n",
      "DeconvolutedPeak(a_to_a2_ratio=4.205220665543921, area=307.0, average_mass=1199.5918599727759, charge=1, chosen_for_msms=False, envelope=[(1199.5886, 157.00), (1200.5986, 101.00), (1201.6102, 49.00)], full_width_at_half_max=0.01, index=100|112, intensity=307.0, most_abundant_mass=1198.5813721192765, mz=1199.5886485860465, neutral_mass=1198.5813721192765, score=19.745457451837886, signal_to_noise=102.33333333333333)\n",
      "\n",
      "DeconvolutedPeak(a_to_a2_ratio=3.8073935124337814, area=129.0, average_mass=1267.6307734975587, charge=1, chosen_for_msms=False, envelope=[(1267.6351, 45.00), (1268.6446, 49.00), (1269.6344, 35.00)], full_width_at_half_max=0.01, index=101|113, intensity=129.0, most_abundant_mass=1267.6373664041855, mz=1267.6350656548352, neutral_mass=1266.6277891880652, score=10.601739319728408, signal_to_noise=43.0)\n",
      "\n",
      "DeconvolutedPeak(a_to_a2_ratio=3.8062603839774076, area=85.0, average_mass=1268.0626245800527, charge=1, chosen_for_msms=False, envelope=[(1268.5672, 47.00), (1269.5726, 38.00), (1270.5728, 1.00)], full_width_at_half_max=0.01, index=102|114, intensity=85.0, most_abundant_mass=1267.5598863115897, mz=1268.5671627783597, neutral_mass=1267.5598863115897, score=10.713517297247115, signal_to_noise=42.5)\n",
      "\n",
      "DeconvolutedPeak(a_to_a2_ratio=3.806260383977408, area=98.0, average_mass=1268.1047532801103, charge=1, chosen_for_msms=False, envelope=[(1268.6121, 46.00), (1269.6120, 52.00), (1270.6177, 1.00)], full_width_at_half_max=0.01, index=103|115, intensity=98.0, most_abundant_mass=1268.604691252962, mz=1268.6120917740286, neutral_mass=1267.6048153072586, score=10.445186257109878, signal_to_noise=49.0)\n",
      "\n",
      "DeconvolutedPeak(a_to_a2_ratio=3.6780308708908223, area=200.0, average_mass=1285.6076772406818, charge=1, chosen_for_msms=False, envelope=[(1285.6108, 148.00), (1286.6249, 14.00), (1287.6092, 38.00)], full_width_at_half_max=0.01, index=104|116, intensity=200.0, most_abundant_mass=1284.6035188333515, mz=1285.6107953001215, neutral_mass=1284.6035188333515, score=11.245949689624295, signal_to_noise=66.66666666666667)\n",
      "\n",
      "DeconvolutedPeak(a_to_a2_ratio=3.6780308708908223, area=447.0, average_mass=1285.6265381077742, charge=1, chosen_for_msms=False, envelope=[(1285.6377, 219.00), (1286.6354, 141.00), (1287.6284, 87.00)], full_width_at_half_max=0.01, index=105|117, intensity=447.0, most_abundant_mass=1284.6304063797875, mz=1285.632029781, neutral_mass=1284.62475331423, score=24.784531103205225, signal_to_noise=149.0)\n",
      "\n",
      "DeconvolutedPeak(a_to_a2_ratio=3.6780308708908223, area=385.0, average_mass=1285.6488392189367, charge=1, chosen_for_msms=False, envelope=[(1285.6572, 162.00), (1286.6511, 160.00), (1287.6601, 63.00)], full_width_at_half_max=0.01, index=106|118, intensity=385.0, most_abundant_mass=1284.6498876007672, mz=1285.653404225305, neutral_mass=1284.646127758535, score=23.249622652120536, signal_to_noise=128.33333333333334)\n",
      "\n",
      "DeconvolutedPeak(a_to_a2_ratio=3.676952355184564, area=97.0, average_mass=1286.129534069435, charge=2, chosen_for_msms=False, envelope=[(643.8199, 55.00), (644.3241, 42.00), (644.8227, 1.00)], full_width_at_half_max=0.01, index=107|40, intensity=97.0, most_abundant_mass=1285.6253223509832, mz=643.8199376422616, neutral_mass=1285.6253223509832, score=11.319555716852072, signal_to_noise=48.5)\n",
      "\n",
      "DeconvolutedPeak(a_to_a2_ratio=2.800459793316921, area=436.0, average_mass=1383.162630766994, charge=2, chosen_for_msms=False, envelope=[(691.8407, 217.00), (692.3399, 56.00), (692.8378, 105.00), (693.3360, 58.00)], full_width_at_half_max=0.01, index=108|43, intensity=436.0, most_abundant_mass=1381.6668663506398, mz=691.8407096420899, neutral_mass=1381.6668663506398, score=20.394291674001664, signal_to_noise=109.0)\n",
      "\n",
      "DeconvolutedPeak(a_to_a2_ratio=2.457278290352329, area=215.0, average_mass=1494.7682634438129, charge=2, chosen_for_msms=False, envelope=[(747.8824, 56.00), (748.3957, 92.00), (748.8961, 67.00), (749.3969, 1.00)], full_width_at_half_max=0.01, index=110|55, intensity=215.0, most_abundant_mass=1494.7767762259225, mz=747.8939871608312, neutral_mass=1493.7734213881224, score=13.587789687434356, signal_to_noise=71.66666666666667)\n",
      "\n",
      "DeconvolutedPeak(a_to_a2_ratio=2.4030027550436084, area=290.0, average_mass=1513.0998154145502, charge=2, chosen_for_msms=False, envelope=[(756.8902, 145.00), (757.3924, 100.00), (757.8925, 1.00), (758.3889, 45.00)], full_width_at_half_max=0.01, index=111|56, intensity=290.0, most_abundant_mass=1511.765900211703, mz=756.8902265726215, neutral_mass=1511.765900211703, score=21.935124754660993, signal_to_noise=96.66666666666667)\n",
      "\n",
      "DeconvolutedPeak(a_to_a2_ratio=1.9812659310563647, area=493.0, average_mass=1681.313721517629, charge=2, chosen_for_msms=False, envelope=[(840.9150, 176.00), (841.4205, 158.00), (841.9166, 136.00), (842.4044, 23.00)], full_width_at_half_max=0.01, index=112|66, intensity=493.0, most_abundant_mass=1679.8154318096206, mz=840.9149923715803, neutral_mass=1679.8154318096206, score=30.735265980471233, signal_to_noise=123.25)\n",
      "\n",
      "DeconvolutedPeak(a_to_a2_ratio=1.9376774513852875, area=359.0, average_mass=1698.8479807397093, charge=2, chosen_for_msms=False, envelope=[(849.9254, 128.00), (850.4370, 94.00), (850.9314, 137.00), (851.4312, 1.00)], full_width_at_half_max=0.01, index=114|69, intensity=359.0, most_abundant_mass=1699.8483136528496, mz=849.9280784553948, neutral_mass=1697.8416039772496, score=19.831913245129947, signal_to_noise=119.66666666666667)\n",
      "\n",
      "DeconvolutedPeak(a_to_a2_ratio=1.930897018241014, area=1630.0, average_mass=1718.3511062835237, charge=2, chosen_for_msms=False, envelope=[(859.4281, 831.00), (859.9338, 409.00), (860.4403, 226.00), (860.9291, 164.00)], full_width_at_half_max=0.01, index=116|72, intensity=1630.0, most_abundant_mass=1716.841683081664, mz=859.432131101864, neutral_mass=1716.849709270188, score=45.89968031093509, signal_to_noise=407.5)\n",
      "\n",
      "DeconvolutedPeak(a_to_a2_ratio=1.9301015023970933, area=352.0, average_mass=1719.1726005912708, charge=2, chosen_for_msms=False, envelope=[(859.9201, 120.97), (860.4214, 43.95), (860.9224, 1.00), (861.4392, 53.08)], full_width_at_half_max=0.01, index=117|74, intensity=217.99263911624928, most_abundant_mass=1717.8256188078506, mz=859.9200858706953, neutral_mass=1717.8256188078506, score=10.241328097936293, signal_to_noise=117.33333333333333)\n",
      "\n",
      "DeconvolutedPeak(a_to_a2_ratio=1.7294617272239696, area=176.0, average_mass=1835.1384113764564, charge=3, chosen_for_msms=False, envelope=[(612.2755, 115.00), (612.6125, 40.00), (612.9438, 1.00), (613.2722, 21.00)], full_width_at_half_max=0.01, index=118|31, intensity=176.0, most_abundant_mass=1833.8047821156, mz=612.27553717197, neutral_mass=1833.8047821156, score=11.38684199178601, signal_to_noise=58.666666666666664)\n",
      "\n",
      "DeconvolutedPeak(a_to_a2_ratio=1.0143187866117542, area=297.0, average_mass=2447.1348679572893, charge=4, chosen_for_msms=False, envelope=[(612.2886, 80.00), (612.5422, 9.00), (612.7899, 1.00), (613.0458, 31.00), (613.2874, 177.00)], full_width_at_half_max=0.01, index=119|32, intensity=297.0, most_abundant_mass=2449.120402186709, mz=612.2885992936822, neutral_mass=2445.1252913076487, score=12.637844509341273, signal_to_noise=74.25)\n",
      "\n"
     ]
    }
   ],
   "source": [
    "ms2_peaks_l = []\n",
    "for peak in ms2_deconvoluted_peaks:\n",
    "    # discard a monoisotopic peak that has a second isotope with intensity of 1 (rubbish value)\n",
    "    if ((len(peak.envelope) > 1) and (peak.envelope[1][1] > 1)):\n",
    "        ms2_peaks_l.append((peak.mz, peak.charge, peak.neutral_mass, peak.intensity, peak.score, peak.signal_to_noise))\n",
    "        print(\"{}\\n\".format(peak))\n",
    "\n",
    "ms2_deconvoluted_peaks_df = pd.DataFrame(ms2_peaks_l, columns=['mz','charge','neutral_mass','intensity','score','SN'])\n",
    "# 'neutral mass' is the zero charge M, so we add the proton mass to get M+H (the monoisotopic mass)\n",
    "ms2_deconvoluted_peaks_df['m_plus_h'] = ms2_deconvoluted_peaks_df.neutral_mass + PROTON_MASS\n"
   ]
  },
  {
   "cell_type": "code",
   "execution_count": 340,
   "metadata": {},
   "outputs": [
    {
     "data": {
      "text/plain": [
       "101"
      ]
     },
     "execution_count": 340,
     "metadata": {},
     "output_type": "execute_result"
    }
   ],
   "source": [
    "len(ms2_deconvoluted_peaks_df)"
   ]
  },
  {
   "cell_type": "code",
   "execution_count": 341,
   "metadata": {},
   "outputs": [
    {
     "data": {
      "text/plain": [
       "(318.1817588667562, 1285.653404225305)"
      ]
     },
     "execution_count": 341,
     "metadata": {},
     "output_type": "execute_result"
    }
   ],
   "source": [
    "ms2_deconvoluted_peaks_df.mz.min(),ms2_deconvoluted_peaks_df.mz.max()"
   ]
  },
  {
   "cell_type": "code",
   "execution_count": 342,
   "metadata": {},
   "outputs": [
    {
     "data": {
      "image/png": "[encoded data removed]",
      "text/plain": [
       "<Figure size 1080x360 with 1 Axes>"
      ]
     },
     "metadata": {
      "needs_background": "light"
     },
     "output_type": "display_data"
    }
   ],
   "source": [
    "f, ax = plt.subplots()\n",
    "colors = ['tab:blue', 'tab:orange', 'tab:green', 'tab:red', 'tab:purple', 'tab:brown', 'tab:pink', 'tab:gray', 'tab:olive', 'tab:cyan']\n",
    "markerline, stemlines, baseline = ax.stem(ms2_deconvoluted_peaks_df.m_plus_h, ms2_deconvoluted_peaks_df.intensity, 'g')\n",
    "plt.setp(markerline, 'color', colors[2])\n",
    "plt.setp(stemlines, 'color', colors[2])\n",
    "plt.setp(baseline, 'color', colors[7])\n",
    "plt.xlabel('m/z')\n",
    "plt.ylabel('intensity')\n",
    "f.set_figheight(5)\n",
    "f.set_figwidth(15)\n",
    "ax.set_xlim((100,1900))\n",
    "plt.margins(0.06)\n",
    "plt.suptitle('Deconvoluted peaks (M+H) in ms2 for precursor ID {}'.format(precursor_id))\n",
    "plt.title('bin width {} Th'.format(MS2_MZ_BIN_WIDTH))\n",
    "plt.show()"
   ]
  },
  {
   "cell_type": "code",
   "execution_count": 343,
   "metadata": {},
   "outputs": [],
   "source": [
    "ms2_deconvoluted_peaks_df[['mz','intensity']].to_csv('/Users/darylwilding-mcbride/Downloads/my_ms2_for_precursor_{}.csv'.format(precursor_id))"
   ]
  },
  {
   "cell_type": "code",
   "execution_count": 344,
   "metadata": {
    "scrolled": false
   },
   "outputs": [
    {
     "data": {
      "text/html": [
       "<div>\n",
       "<style scoped>\n",
       "    .dataframe tbody tr th:only-of-type {\n",
       "        vertical-align: middle;\n",
       "    }\n",
       "\n",
       "    .dataframe tbody tr th {\n",
       "        vertical-align: top;\n",
       "    }\n",
       "\n",
       "    .dataframe thead th {\n",
       "        text-align: right;\n",
       "    }\n",
       "</style>\n",
       "<table border=\"1\" class=\"dataframe\">\n",
       "  <thead>\n",
       "    <tr style=\"text-align: right;\">\n",
       "      <th></th>\n",
       "      <th>mz</th>\n",
       "      <th>charge</th>\n",
       "      <th>neutral_mass</th>\n",
       "      <th>intensity</th>\n",
       "      <th>score</th>\n",
       "      <th>SN</th>\n",
       "      <th>m_plus_h</th>\n",
       "    </tr>\n",
       "  </thead>\n",
       "  <tbody>\n",
       "    <tr>\n",
       "      <th>21</th>\n",
       "      <td>612.308538</td>\n",
       "      <td>1</td>\n",
       "      <td>611.301262</td>\n",
       "      <td>9708.0</td>\n",
       "      <td>125.495360</td>\n",
       "      <td>3236.000000</td>\n",
       "      <td>612.308562</td>\n",
       "    </tr>\n",
       "    <tr>\n",
       "      <th>49</th>\n",
       "      <td>869.446607</td>\n",
       "      <td>1</td>\n",
       "      <td>868.439330</td>\n",
       "      <td>4981.0</td>\n",
       "      <td>98.634504</td>\n",
       "      <td>1660.333333</td>\n",
       "      <td>869.446630</td>\n",
       "    </tr>\n",
       "    <tr>\n",
       "      <th>39</th>\n",
       "      <td>782.415926</td>\n",
       "      <td>1</td>\n",
       "      <td>781.408649</td>\n",
       "      <td>3495.0</td>\n",
       "      <td>87.079139</td>\n",
       "      <td>1165.000000</td>\n",
       "      <td>782.415949</td>\n",
       "    </tr>\n",
       "    <tr>\n",
       "      <th>60</th>\n",
       "      <td>982.527374</td>\n",
       "      <td>1</td>\n",
       "      <td>981.520098</td>\n",
       "      <td>2320.0</td>\n",
       "      <td>50.006763</td>\n",
       "      <td>773.333333</td>\n",
       "      <td>982.527398</td>\n",
       "    </tr>\n",
       "    <tr>\n",
       "      <th>97</th>\n",
       "      <td>859.432131</td>\n",
       "      <td>2</td>\n",
       "      <td>1716.849709</td>\n",
       "      <td>1630.0</td>\n",
       "      <td>45.899680</td>\n",
       "      <td>407.500000</td>\n",
       "      <td>1717.857009</td>\n",
       "    </tr>\n",
       "    <tr>\n",
       "      <th>35</th>\n",
       "      <td>725.392326</td>\n",
       "      <td>1</td>\n",
       "      <td>724.385049</td>\n",
       "      <td>885.0</td>\n",
       "      <td>39.132952</td>\n",
       "      <td>295.000000</td>\n",
       "      <td>725.392349</td>\n",
       "    </tr>\n",
       "    <tr>\n",
       "      <th>82</th>\n",
       "      <td>1198.609736</td>\n",
       "      <td>1</td>\n",
       "      <td>1197.602459</td>\n",
       "      <td>860.0</td>\n",
       "      <td>43.417906</td>\n",
       "      <td>286.666667</td>\n",
       "      <td>1198.609759</td>\n",
       "    </tr>\n",
       "    <tr>\n",
       "      <th>4</th>\n",
       "      <td>444.218412</td>\n",
       "      <td>1</td>\n",
       "      <td>443.211136</td>\n",
       "      <td>847.0</td>\n",
       "      <td>33.938719</td>\n",
       "      <td>423.500000</td>\n",
       "      <td>444.218436</td>\n",
       "    </tr>\n",
       "    <tr>\n",
       "      <th>50</th>\n",
       "      <td>869.456726</td>\n",
       "      <td>1</td>\n",
       "      <td>868.449450</td>\n",
       "      <td>828.0</td>\n",
       "      <td>29.727459</td>\n",
       "      <td>276.000000</td>\n",
       "      <td>869.456750</td>\n",
       "    </tr>\n",
       "    <tr>\n",
       "      <th>46</th>\n",
       "      <td>848.415129</td>\n",
       "      <td>1</td>\n",
       "      <td>847.407852</td>\n",
       "      <td>778.0</td>\n",
       "      <td>18.691312</td>\n",
       "      <td>389.000000</td>\n",
       "      <td>848.415152</td>\n",
       "    </tr>\n",
       "  </tbody>\n",
       "</table>\n",
       "</div>"
      ],
      "text/plain": [
       "             mz  charge  neutral_mass  intensity       score           SN  \\\n",
       "21   612.308538       1    611.301262     9708.0  125.495360  3236.000000   \n",
       "49   869.446607       1    868.439330     4981.0   98.634504  1660.333333   \n",
       "39   782.415926       1    781.408649     3495.0   87.079139  1165.000000   \n",
       "60   982.527374       1    981.520098     2320.0   50.006763   773.333333   \n",
       "97   859.432131       2   1716.849709     1630.0   45.899680   407.500000   \n",
       "35   725.392326       1    724.385049      885.0   39.132952   295.000000   \n",
       "82  1198.609736       1   1197.602459      860.0   43.417906   286.666667   \n",
       "4    444.218412       1    443.211136      847.0   33.938719   423.500000   \n",
       "50   869.456726       1    868.449450      828.0   29.727459   276.000000   \n",
       "46   848.415129       1    847.407852      778.0   18.691312   389.000000   \n",
       "\n",
       "       m_plus_h  \n",
       "21   612.308562  \n",
       "49   869.446630  \n",
       "39   782.415949  \n",
       "60   982.527398  \n",
       "97  1717.857009  \n",
       "35   725.392349  \n",
       "82  1198.609759  \n",
       "4    444.218436  \n",
       "50   869.456750  \n",
       "46   848.415152  "
      ]
     },
     "execution_count": 344,
     "metadata": {},
     "output_type": "execute_result"
    }
   ],
   "source": [
    "# find the top peaks by intensity\n",
    "ms2_deconvoluted_peaks_df.sort_values(by=['intensity'], ascending=False).head(10)"
   ]
  },
  {
   "cell_type": "markdown",
   "metadata": {},
   "source": [
    "### Compare with the ms2 spectra recorded by MaxQuant in the APL files"
   ]
  },
  {
   "cell_type": "code",
   "execution_count": 345,
   "metadata": {},
   "outputs": [],
   "source": [
    "pasef_msms_scans_df = pd.read_csv(PASEF_MSMS_SCANS_FILENAME, sep='\\t')"
   ]
  },
  {
   "cell_type": "code",
   "execution_count": 346,
   "metadata": {},
   "outputs": [
    {
     "data": {
      "text/html": [
       "<div>\n",
       "<style scoped>\n",
       "    .dataframe tbody tr th:only-of-type {\n",
       "        vertical-align: middle;\n",
       "    }\n",
       "\n",
       "    .dataframe tbody tr th {\n",
       "        vertical-align: top;\n",
       "    }\n",
       "\n",
       "    .dataframe thead th {\n",
       "        text-align: right;\n",
       "    }\n",
       "</style>\n",
       "<table border=\"1\" class=\"dataframe\">\n",
       "  <thead>\n",
       "    <tr style=\"text-align: right;\">\n",
       "      <th></th>\n",
       "      <th>Raw file</th>\n",
       "      <th>Frame</th>\n",
       "      <th>Precursor</th>\n",
       "      <th>IsolationMz</th>\n",
       "      <th>IsolationWidth</th>\n",
       "      <th>ScanNumBegin</th>\n",
       "      <th>ScanNumEnd</th>\n",
       "      <th>CollisionEnergy</th>\n",
       "      <th>Index</th>\n",
       "    </tr>\n",
       "  </thead>\n",
       "  <tbody>\n",
       "    <tr>\n",
       "      <th>0</th>\n",
       "      <td>HeLa_20KInt_2KIT_Slot1-46_01_1179</td>\n",
       "      <td>3</td>\n",
       "      <td>1</td>\n",
       "      <td>742.744835</td>\n",
       "      <td>2.427448</td>\n",
       "      <td>507</td>\n",
       "      <td>532</td>\n",
       "      <td>36.96</td>\n",
       "      <td>0</td>\n",
       "    </tr>\n",
       "    <tr>\n",
       "      <th>1</th>\n",
       "      <td>HeLa_20KInt_2KIT_Slot1-46_01_1179</td>\n",
       "      <td>3</td>\n",
       "      <td>2</td>\n",
       "      <td>709.235759</td>\n",
       "      <td>2.092358</td>\n",
       "      <td>549</td>\n",
       "      <td>574</td>\n",
       "      <td>36.96</td>\n",
       "      <td>1</td>\n",
       "    </tr>\n",
       "    <tr>\n",
       "      <th>2</th>\n",
       "      <td>HeLa_20KInt_2KIT_Slot1-46_01_1179</td>\n",
       "      <td>3</td>\n",
       "      <td>3</td>\n",
       "      <td>594.235088</td>\n",
       "      <td>2.000000</td>\n",
       "      <td>602</td>\n",
       "      <td>627</td>\n",
       "      <td>36.96</td>\n",
       "      <td>2</td>\n",
       "    </tr>\n",
       "    <tr>\n",
       "      <th>3</th>\n",
       "      <td>HeLa_20KInt_2KIT_Slot1-46_01_1179</td>\n",
       "      <td>3</td>\n",
       "      <td>4</td>\n",
       "      <td>503.527768</td>\n",
       "      <td>2.000000</td>\n",
       "      <td>643</td>\n",
       "      <td>668</td>\n",
       "      <td>36.96</td>\n",
       "      <td>3</td>\n",
       "    </tr>\n",
       "    <tr>\n",
       "      <th>4</th>\n",
       "      <td>HeLa_20KInt_2KIT_Slot1-46_01_1179</td>\n",
       "      <td>3</td>\n",
       "      <td>5</td>\n",
       "      <td>552.063870</td>\n",
       "      <td>2.000000</td>\n",
       "      <td>684</td>\n",
       "      <td>709</td>\n",
       "      <td>31.92</td>\n",
       "      <td>4</td>\n",
       "    </tr>\n",
       "  </tbody>\n",
       "</table>\n",
       "</div>"
      ],
      "text/plain": [
       "                            Raw file  Frame  Precursor  IsolationMz  \\\n",
       "0  HeLa_20KInt_2KIT_Slot1-46_01_1179      3          1   742.744835   \n",
       "1  HeLa_20KInt_2KIT_Slot1-46_01_1179      3          2   709.235759   \n",
       "2  HeLa_20KInt_2KIT_Slot1-46_01_1179      3          3   594.235088   \n",
       "3  HeLa_20KInt_2KIT_Slot1-46_01_1179      3          4   503.527768   \n",
       "4  HeLa_20KInt_2KIT_Slot1-46_01_1179      3          5   552.063870   \n",
       "\n",
       "   IsolationWidth  ScanNumBegin  ScanNumEnd  CollisionEnergy  Index  \n",
       "0        2.427448           507         532            36.96      0  \n",
       "1        2.092358           549         574            36.96      1  \n",
       "2        2.000000           602         627            36.96      2  \n",
       "3        2.000000           643         668            36.96      3  \n",
       "4        2.000000           684         709            31.92      4  "
      ]
     },
     "execution_count": 346,
     "metadata": {},
     "output_type": "execute_result"
    }
   ],
   "source": [
    "pasef_msms_scans_df.head()"
   ]
  },
  {
   "cell_type": "code",
   "execution_count": 347,
   "metadata": {},
   "outputs": [
    {
     "data": {
      "text/html": [
       "<div>\n",
       "<style scoped>\n",
       "    .dataframe tbody tr th:only-of-type {\n",
       "        vertical-align: middle;\n",
       "    }\n",
       "\n",
       "    .dataframe tbody tr th {\n",
       "        vertical-align: top;\n",
       "    }\n",
       "\n",
       "    .dataframe thead th {\n",
       "        text-align: right;\n",
       "    }\n",
       "</style>\n",
       "<table border=\"1\" class=\"dataframe\">\n",
       "  <thead>\n",
       "    <tr style=\"text-align: right;\">\n",
       "      <th></th>\n",
       "      <th>Raw file</th>\n",
       "      <th>Frame</th>\n",
       "      <th>Precursor</th>\n",
       "      <th>IsolationMz</th>\n",
       "      <th>IsolationWidth</th>\n",
       "      <th>ScanNumBegin</th>\n",
       "      <th>ScanNumEnd</th>\n",
       "      <th>CollisionEnergy</th>\n",
       "      <th>Index</th>\n",
       "    </tr>\n",
       "  </thead>\n",
       "  <tbody>\n",
       "    <tr>\n",
       "      <th>324135</th>\n",
       "      <td>HeLa_20KInt_2KIT_Slot1-46_01_1179</td>\n",
       "      <td>41474</td>\n",
       "      <td>153421</td>\n",
       "      <td>860.444362</td>\n",
       "      <td>3.0</td>\n",
       "      <td>462</td>\n",
       "      <td>487</td>\n",
       "      <td>42.0</td>\n",
       "      <td>324135</td>\n",
       "    </tr>\n",
       "  </tbody>\n",
       "</table>\n",
       "</div>"
      ],
      "text/plain": [
       "                                 Raw file  Frame  Precursor  IsolationMz  \\\n",
       "324135  HeLa_20KInt_2KIT_Slot1-46_01_1179  41474     153421   860.444362   \n",
       "\n",
       "        IsolationWidth  ScanNumBegin  ScanNumEnd  CollisionEnergy   Index  \n",
       "324135             3.0           462         487             42.0  324135  "
      ]
     },
     "execution_count": 347,
     "metadata": {},
     "output_type": "execute_result"
    }
   ],
   "source": [
    "pasef_msms_scans_df[pasef_msms_scans_df.Index == 324135]"
   ]
  },
  {
   "cell_type": "code",
   "execution_count": 348,
   "metadata": {},
   "outputs": [],
   "source": [
    "mq_index = pasef_msms_scans_df[pasef_msms_scans_df.Precursor == precursor_id].index.values[0]"
   ]
  },
  {
   "cell_type": "code",
   "execution_count": 349,
   "metadata": {},
   "outputs": [
    {
     "data": {
      "text/plain": [
       "324135"
      ]
     },
     "execution_count": 349,
     "metadata": {},
     "output_type": "execute_result"
    }
   ],
   "source": [
    "mq_index"
   ]
  },
  {
   "cell_type": "code",
   "execution_count": 350,
   "metadata": {},
   "outputs": [],
   "source": [
    "MIN_ISOTOPE_CORRELATION = 0.9\n",
    "\n",
    "allpeptides_df = pd.read_csv(ALLPEPTIDES_FILENAME, sep='\\t')\n",
    "allpeptides_df.rename(columns={'Number of isotopic peaks':'isotope_count', 'm/z':'mz', 'Number of data points':'number_data_points', 'Intensity':'intensity', 'Ion mobility index':'scan', 'Ion mobility index length':'scan_length', 'Ion mobility index length (FWHM)':'scan_length_fwhm', 'Retention time':'rt', 'Retention length':'rt_length', 'Retention length (FWHM)':'rt_length_fwhm', 'Charge':'charge_state', 'Number of pasef MS/MS':'number_pasef_ms2_ids', 'Pasef MS/MS IDs':'pasef_msms_ids', 'MS/MS scan number':'msms_scan_number', 'Isotope correlation':'isotope_correlation'}, inplace=True)\n",
    "# allpeptides_df = allpeptides_df[allpeptides_df.intensity.notnull() & (allpeptides_df.isotope_correlation >= MIN_ISOTOPE_CORRELATION) & (allpeptides_df.rt >= RT_LIMIT_LOWER) & (allpeptides_df.rt <= RT_LIMIT_UPPER)].copy()\n",
    "allpeptides_df = allpeptides_df[allpeptides_df.intensity.notnull() & allpeptides_df.pasef_msms_ids.notnull() & (allpeptides_df.rt >= RT_LIMIT_LOWER) & (allpeptides_df.rt <= RT_LIMIT_UPPER)].copy()\n",
    "allpeptides_df.msms_scan_number = allpeptides_df.msms_scan_number.apply(lambda x: int(x))"
   ]
  },
  {
   "cell_type": "code",
   "execution_count": 351,
   "metadata": {
    "scrolled": true
   },
   "outputs": [
    {
     "data": {
      "text/html": [
       "<div>\n",
       "<style scoped>\n",
       "    .dataframe tbody tr th:only-of-type {\n",
       "        vertical-align: middle;\n",
       "    }\n",
       "\n",
       "    .dataframe tbody tr th {\n",
       "        vertical-align: top;\n",
       "    }\n",
       "\n",
       "    .dataframe thead th {\n",
       "        text-align: right;\n",
       "    }\n",
       "</style>\n",
       "<table border=\"1\" class=\"dataframe\">\n",
       "  <thead>\n",
       "    <tr style=\"text-align: right;\">\n",
       "      <th></th>\n",
       "      <th>Raw file</th>\n",
       "      <th>charge_state</th>\n",
       "      <th>mz</th>\n",
       "      <th>Mass</th>\n",
       "      <th>Resolution</th>\n",
       "      <th>number_data_points</th>\n",
       "      <th>Number of frames</th>\n",
       "      <th>isotope_count</th>\n",
       "      <th>isotope_correlation</th>\n",
       "      <th>Mass fractional part</th>\n",
       "      <th>...</th>\n",
       "      <th>Min frame index</th>\n",
       "      <th>Max frame index</th>\n",
       "      <th>scan</th>\n",
       "      <th>scan_length</th>\n",
       "      <th>scan_length_fwhm</th>\n",
       "      <th>intensity</th>\n",
       "      <th>Intensities</th>\n",
       "      <th>number_pasef_ms2_ids</th>\n",
       "      <th>pasef_msms_ids</th>\n",
       "      <th>msms_scan_number</th>\n",
       "    </tr>\n",
       "  </thead>\n",
       "  <tbody>\n",
       "    <tr>\n",
       "      <th>636</th>\n",
       "      <td>HeLa_20KInt_2KIT_Slot1-46_01_1179</td>\n",
       "      <td>2</td>\n",
       "      <td>323.16731</td>\n",
       "      <td>644.32008</td>\n",
       "      <td>24772.615335</td>\n",
       "      <td>702</td>\n",
       "      <td>10</td>\n",
       "      <td>2</td>\n",
       "      <td>0.995725</td>\n",
       "      <td>0.320075</td>\n",
       "      <td>...</td>\n",
       "      <td>3851</td>\n",
       "      <td>3860</td>\n",
       "      <td>837</td>\n",
       "      <td>18</td>\n",
       "      <td>18</td>\n",
       "      <td>11378.0</td>\n",
       "      <td>NaN</td>\n",
       "      <td>7</td>\n",
       "      <td>333643;333656;333670;333684;333696;333707;333719</td>\n",
       "      <td>1664</td>\n",
       "    </tr>\n",
       "    <tr>\n",
       "      <th>675</th>\n",
       "      <td>HeLa_20KInt_2KIT_Slot1-46_01_1179</td>\n",
       "      <td>2</td>\n",
       "      <td>315.67536</td>\n",
       "      <td>629.33616</td>\n",
       "      <td>24676.000506</td>\n",
       "      <td>738</td>\n",
       "      <td>13</td>\n",
       "      <td>2</td>\n",
       "      <td>0.978703</td>\n",
       "      <td>0.336164</td>\n",
       "      <td>...</td>\n",
       "      <td>3766</td>\n",
       "      <td>3778</td>\n",
       "      <td>849</td>\n",
       "      <td>15</td>\n",
       "      <td>15</td>\n",
       "      <td>8728.3</td>\n",
       "      <td>NaN</td>\n",
       "      <td>14</td>\n",
       "      <td>323932;323944;323992;324006;324019;324033;3240...</td>\n",
       "      <td>1500</td>\n",
       "    </tr>\n",
       "    <tr>\n",
       "      <th>1286</th>\n",
       "      <td>HeLa_20KInt_2KIT_Slot1-46_01_1179</td>\n",
       "      <td>2</td>\n",
       "      <td>340.68087</td>\n",
       "      <td>679.34719</td>\n",
       "      <td>24552.706844</td>\n",
       "      <td>1458</td>\n",
       "      <td>12</td>\n",
       "      <td>3</td>\n",
       "      <td>0.998440</td>\n",
       "      <td>0.347187</td>\n",
       "      <td>...</td>\n",
       "      <td>3784</td>\n",
       "      <td>3795</td>\n",
       "      <td>795</td>\n",
       "      <td>27</td>\n",
       "      <td>18</td>\n",
       "      <td>27244.0</td>\n",
       "      <td>NaN</td>\n",
       "      <td>2</td>\n",
       "      <td>325991;326003</td>\n",
       "      <td>2180</td>\n",
       "    </tr>\n",
       "    <tr>\n",
       "      <th>1329</th>\n",
       "      <td>HeLa_20KInt_2KIT_Slot1-46_01_1179</td>\n",
       "      <td>2</td>\n",
       "      <td>345.18050</td>\n",
       "      <td>688.34645</td>\n",
       "      <td>24691.651393</td>\n",
       "      <td>1696</td>\n",
       "      <td>16</td>\n",
       "      <td>3</td>\n",
       "      <td>0.997846</td>\n",
       "      <td>0.346450</td>\n",
       "      <td>...</td>\n",
       "      <td>3747</td>\n",
       "      <td>3762</td>\n",
       "      <td>798</td>\n",
       "      <td>27</td>\n",
       "      <td>18</td>\n",
       "      <td>23557.0</td>\n",
       "      <td>NaN</td>\n",
       "      <td>4</td>\n",
       "      <td>321629;321641;321654;321666</td>\n",
       "      <td>2323</td>\n",
       "    </tr>\n",
       "    <tr>\n",
       "      <th>1482</th>\n",
       "      <td>HeLa_20KInt_2KIT_Slot1-46_01_1179</td>\n",
       "      <td>2</td>\n",
       "      <td>350.21987</td>\n",
       "      <td>698.42518</td>\n",
       "      <td>24909.307290</td>\n",
       "      <td>3616</td>\n",
       "      <td>21</td>\n",
       "      <td>3</td>\n",
       "      <td>0.999539</td>\n",
       "      <td>0.425184</td>\n",
       "      <td>...</td>\n",
       "      <td>3705</td>\n",
       "      <td>3725</td>\n",
       "      <td>807</td>\n",
       "      <td>30</td>\n",
       "      <td>18</td>\n",
       "      <td>51037.0</td>\n",
       "      <td>NaN</td>\n",
       "      <td>10</td>\n",
       "      <td>316763;316777;316791;316817;316832;316845;3168...</td>\n",
       "      <td>2490</td>\n",
       "    </tr>\n",
       "  </tbody>\n",
       "</table>\n",
       "<p>5 rows × 24 columns</p>\n",
       "</div>"
      ],
      "text/plain": [
       "                               Raw file  charge_state         mz       Mass  \\\n",
       "636   HeLa_20KInt_2KIT_Slot1-46_01_1179             2  323.16731  644.32008   \n",
       "675   HeLa_20KInt_2KIT_Slot1-46_01_1179             2  315.67536  629.33616   \n",
       "1286  HeLa_20KInt_2KIT_Slot1-46_01_1179             2  340.68087  679.34719   \n",
       "1329  HeLa_20KInt_2KIT_Slot1-46_01_1179             2  345.18050  688.34645   \n",
       "1482  HeLa_20KInt_2KIT_Slot1-46_01_1179             2  350.21987  698.42518   \n",
       "\n",
       "        Resolution  number_data_points  Number of frames  isotope_count  \\\n",
       "636   24772.615335                 702                10              2   \n",
       "675   24676.000506                 738                13              2   \n",
       "1286  24552.706844                1458                12              3   \n",
       "1329  24691.651393                1696                16              3   \n",
       "1482  24909.307290                3616                21              3   \n",
       "\n",
       "      isotope_correlation  Mass fractional part  ...  Min frame index  \\\n",
       "636              0.995725              0.320075  ...             3851   \n",
       "675              0.978703              0.336164  ...             3766   \n",
       "1286             0.998440              0.347187  ...             3784   \n",
       "1329             0.997846              0.346450  ...             3747   \n",
       "1482             0.999539              0.425184  ...             3705   \n",
       "\n",
       "      Max frame index  scan  scan_length  scan_length_fwhm  intensity  \\\n",
       "636              3860   837           18                18    11378.0   \n",
       "675              3778   849           15                15     8728.3   \n",
       "1286             3795   795           27                18    27244.0   \n",
       "1329             3762   798           27                18    23557.0   \n",
       "1482             3725   807           30                18    51037.0   \n",
       "\n",
       "      Intensities  number_pasef_ms2_ids  \\\n",
       "636           NaN                     7   \n",
       "675           NaN                    14   \n",
       "1286          NaN                     2   \n",
       "1329          NaN                     4   \n",
       "1482          NaN                    10   \n",
       "\n",
       "                                         pasef_msms_ids  msms_scan_number  \n",
       "636    333643;333656;333670;333684;333696;333707;333719              1664  \n",
       "675   323932;323944;323992;324006;324019;324033;3240...              1500  \n",
       "1286                                      325991;326003              2180  \n",
       "1329                        321629;321641;321654;321666              2323  \n",
       "1482  316763;316777;316791;316817;316832;316845;3168...              2490  \n",
       "\n",
       "[5 rows x 24 columns]"
      ]
     },
     "execution_count": 351,
     "metadata": {},
     "output_type": "execute_result"
    }
   ],
   "source": [
    "allpeptides_df.head()"
   ]
  },
  {
   "cell_type": "code",
   "execution_count": 352,
   "metadata": {},
   "outputs": [],
   "source": [
    "allpeptides_df['pasef_msms_ids_list'] = allpeptides_df.pasef_msms_ids.str.split(\";\").apply(lambda x: [int(i) for i in x])"
   ]
  },
  {
   "cell_type": "code",
   "execution_count": 353,
   "metadata": {},
   "outputs": [
    {
     "data": {
      "text/html": [
       "<div>\n",
       "<style scoped>\n",
       "    .dataframe tbody tr th:only-of-type {\n",
       "        vertical-align: middle;\n",
       "    }\n",
       "\n",
       "    .dataframe tbody tr th {\n",
       "        vertical-align: top;\n",
       "    }\n",
       "\n",
       "    .dataframe thead th {\n",
       "        text-align: right;\n",
       "    }\n",
       "</style>\n",
       "<table border=\"1\" class=\"dataframe\">\n",
       "  <thead>\n",
       "    <tr style=\"text-align: right;\">\n",
       "      <th></th>\n",
       "      <th>Raw file</th>\n",
       "      <th>charge_state</th>\n",
       "      <th>mz</th>\n",
       "      <th>Mass</th>\n",
       "      <th>Resolution</th>\n",
       "      <th>number_data_points</th>\n",
       "      <th>Number of frames</th>\n",
       "      <th>isotope_count</th>\n",
       "      <th>isotope_correlation</th>\n",
       "      <th>Mass fractional part</th>\n",
       "      <th>...</th>\n",
       "      <th>Max frame index</th>\n",
       "      <th>scan</th>\n",
       "      <th>scan_length</th>\n",
       "      <th>scan_length_fwhm</th>\n",
       "      <th>intensity</th>\n",
       "      <th>Intensities</th>\n",
       "      <th>number_pasef_ms2_ids</th>\n",
       "      <th>pasef_msms_ids</th>\n",
       "      <th>msms_scan_number</th>\n",
       "      <th>pasef_msms_ids_list</th>\n",
       "    </tr>\n",
       "  </thead>\n",
       "  <tbody>\n",
       "    <tr>\n",
       "      <th>276594</th>\n",
       "      <td>HeLa_20KInt_2KIT_Slot1-46_01_1179</td>\n",
       "      <td>2</td>\n",
       "      <td>858.93758</td>\n",
       "      <td>1715.8606</td>\n",
       "      <td>24510.713702</td>\n",
       "      <td>13211</td>\n",
       "      <td>19</td>\n",
       "      <td>5</td>\n",
       "      <td>0.999522</td>\n",
       "      <td>0.860598</td>\n",
       "      <td>...</td>\n",
       "      <td>3782</td>\n",
       "      <td>438</td>\n",
       "      <td>108</td>\n",
       "      <td>54</td>\n",
       "      <td>423970.0</td>\n",
       "      <td>NaN</td>\n",
       "      <td>1</td>\n",
       "      <td>324135</td>\n",
       "      <td>66893</td>\n",
       "      <td>[324135]</td>\n",
       "    </tr>\n",
       "  </tbody>\n",
       "</table>\n",
       "<p>1 rows × 25 columns</p>\n",
       "</div>"
      ],
      "text/plain": [
       "                                 Raw file  charge_state         mz       Mass  \\\n",
       "276594  HeLa_20KInt_2KIT_Slot1-46_01_1179             2  858.93758  1715.8606   \n",
       "\n",
       "          Resolution  number_data_points  Number of frames  isotope_count  \\\n",
       "276594  24510.713702               13211                19              5   \n",
       "\n",
       "        isotope_correlation  Mass fractional part  ...  Max frame index  scan  \\\n",
       "276594             0.999522              0.860598  ...             3782   438   \n",
       "\n",
       "        scan_length  scan_length_fwhm  intensity  Intensities  \\\n",
       "276594          108                54   423970.0          NaN   \n",
       "\n",
       "        number_pasef_ms2_ids  pasef_msms_ids  msms_scan_number  \\\n",
       "276594                     1          324135             66893   \n",
       "\n",
       "        pasef_msms_ids_list  \n",
       "276594             [324135]  \n",
       "\n",
       "[1 rows x 25 columns]"
      ]
     },
     "execution_count": 353,
     "metadata": {},
     "output_type": "execute_result"
    }
   ],
   "source": [
    "allpeptides_df[allpeptides_df.pasef_msms_ids_list.apply(lambda x: 324135 in x)]"
   ]
  },
  {
   "cell_type": "code",
   "execution_count": 354,
   "metadata": {},
   "outputs": [
    {
     "data": {
      "text/html": [
       "<div>\n",
       "<style scoped>\n",
       "    .dataframe tbody tr th:only-of-type {\n",
       "        vertical-align: middle;\n",
       "    }\n",
       "\n",
       "    .dataframe tbody tr th {\n",
       "        vertical-align: top;\n",
       "    }\n",
       "\n",
       "    .dataframe thead th {\n",
       "        text-align: right;\n",
       "    }\n",
       "</style>\n",
       "<table border=\"1\" class=\"dataframe\">\n",
       "  <thead>\n",
       "    <tr style=\"text-align: right;\">\n",
       "      <th></th>\n",
       "      <th>Raw file</th>\n",
       "      <th>charge_state</th>\n",
       "      <th>mz</th>\n",
       "      <th>Mass</th>\n",
       "      <th>Resolution</th>\n",
       "      <th>number_data_points</th>\n",
       "      <th>Number of frames</th>\n",
       "      <th>isotope_count</th>\n",
       "      <th>isotope_correlation</th>\n",
       "      <th>Mass fractional part</th>\n",
       "      <th>...</th>\n",
       "      <th>Max frame index</th>\n",
       "      <th>scan</th>\n",
       "      <th>scan_length</th>\n",
       "      <th>scan_length_fwhm</th>\n",
       "      <th>intensity</th>\n",
       "      <th>Intensities</th>\n",
       "      <th>number_pasef_ms2_ids</th>\n",
       "      <th>pasef_msms_ids</th>\n",
       "      <th>msms_scan_number</th>\n",
       "      <th>pasef_msms_ids_list</th>\n",
       "    </tr>\n",
       "  </thead>\n",
       "  <tbody>\n",
       "    <tr>\n",
       "      <th>276594</th>\n",
       "      <td>HeLa_20KInt_2KIT_Slot1-46_01_1179</td>\n",
       "      <td>2</td>\n",
       "      <td>858.93758</td>\n",
       "      <td>1715.8606</td>\n",
       "      <td>24510.713702</td>\n",
       "      <td>13211</td>\n",
       "      <td>19</td>\n",
       "      <td>5</td>\n",
       "      <td>0.999522</td>\n",
       "      <td>0.860598</td>\n",
       "      <td>...</td>\n",
       "      <td>3782</td>\n",
       "      <td>438</td>\n",
       "      <td>108</td>\n",
       "      <td>54</td>\n",
       "      <td>423970.0</td>\n",
       "      <td>NaN</td>\n",
       "      <td>1</td>\n",
       "      <td>324135</td>\n",
       "      <td>66893</td>\n",
       "      <td>[324135]</td>\n",
       "    </tr>\n",
       "  </tbody>\n",
       "</table>\n",
       "<p>1 rows × 25 columns</p>\n",
       "</div>"
      ],
      "text/plain": [
       "                                 Raw file  charge_state         mz       Mass  \\\n",
       "276594  HeLa_20KInt_2KIT_Slot1-46_01_1179             2  858.93758  1715.8606   \n",
       "\n",
       "          Resolution  number_data_points  Number of frames  isotope_count  \\\n",
       "276594  24510.713702               13211                19              5   \n",
       "\n",
       "        isotope_correlation  Mass fractional part  ...  Max frame index  scan  \\\n",
       "276594             0.999522              0.860598  ...             3782   438   \n",
       "\n",
       "        scan_length  scan_length_fwhm  intensity  Intensities  \\\n",
       "276594          108                54   423970.0          NaN   \n",
       "\n",
       "        number_pasef_ms2_ids  pasef_msms_ids  msms_scan_number  \\\n",
       "276594                     1          324135             66893   \n",
       "\n",
       "        pasef_msms_ids_list  \n",
       "276594             [324135]  \n",
       "\n",
       "[1 rows x 25 columns]"
      ]
     },
     "execution_count": 354,
     "metadata": {},
     "output_type": "execute_result"
    }
   ],
   "source": [
    "allpeptides_df[allpeptides_df.pasef_msms_ids_list.apply(lambda x: mq_index in x)]"
   ]
  },
  {
   "cell_type": "code",
   "execution_count": 355,
   "metadata": {},
   "outputs": [],
   "source": [
    "msms_scan_number = int(allpeptides_df[allpeptides_df.pasef_msms_ids_list.apply(lambda x: mq_index in x)].msms_scan_number)"
   ]
  },
  {
   "cell_type": "code",
   "execution_count": 356,
   "metadata": {},
   "outputs": [
    {
     "data": {
      "text/plain": [
       "66893"
      ]
     },
     "execution_count": 356,
     "metadata": {},
     "output_type": "execute_result"
    }
   ],
   "source": [
    "msms_scan_number"
   ]
  },
  {
   "cell_type": "code",
   "execution_count": 357,
   "metadata": {},
   "outputs": [],
   "source": [
    "# load the ms2 spectra from the APL (hand-pasted into a file for now)\n",
    "apl_df = pd.read_csv('/Users/darylwilding-mcbride/Downloads/allSpectra_5_apl_index_66893.txt', header=None, names=['mz','intensity'], sep='\\t')"
   ]
  },
  {
   "cell_type": "code",
   "execution_count": 358,
   "metadata": {},
   "outputs": [
    {
     "data": {
      "image/png": "[encoded data removed]",
      "text/plain": [
       "<Figure size 1080x720 with 1 Axes>"
      ]
     },
     "metadata": {
      "needs_background": "light"
     },
     "output_type": "display_data"
    }
   ],
   "source": [
    "f, ax = plt.subplots()\n",
    "colors = ['tab:blue', 'tab:orange', 'tab:green', 'tab:red', 'tab:purple', 'tab:brown', 'tab:pink', 'tab:gray', 'tab:olive', 'tab:cyan']\n",
    "markerline, stemlines, baseline = ax.stem(apl_df.mz, apl_df.intensity, 'g', label='MaxQuant')\n",
    "plt.setp(markerline, 'color', colors[1])\n",
    "plt.setp(stemlines, 'color', colors[1])\n",
    "plt.setp(baseline, 'color', colors[7])\n",
    "markerline, stemlines, baseline = ax.stem(ms2_deconvoluted_peaks_df.m_plus_h, -ms2_deconvoluted_peaks_df.intensity, 'g', label='DWM')\n",
    "plt.setp(markerline, 'color', colors[2])\n",
    "plt.setp(stemlines, 'color', colors[2])\n",
    "plt.setp(baseline, 'color', colors[7])\n",
    "plt.xlabel('m/z')\n",
    "plt.ylabel('intensity')\n",
    "f.set_figheight(10)\n",
    "f.set_figwidth(15)\n",
    "ax.set_xlim((100,1900))\n",
    "plt.margins(0.06)\n",
    "plt.legend(loc='best')\n",
    "plt.suptitle('ms2 peaks for precursor ID {} (Index {})'.format(precursor_id, msms_scan_number))\n",
    "plt.show()"
   ]
  },
  {
   "cell_type": "markdown",
   "metadata": {},
   "source": [
    "### Compare with the real identification from MaxQuant"
   ]
  },
  {
   "cell_type": "code",
   "execution_count": null,
   "metadata": {},
   "outputs": [],
   "source": [
    "# check the error from the identification\n",
    "evidence_df = pd.read_csv('/Users/darylwilding-mcbride/Downloads/maxquant_results/txt/evidence.txt', sep='\\t')"
   ]
  }
 ],
 "metadata": {
  "kernelspec": {
   "display_name": "Python 3",
   "language": "python",
   "name": "python3"
  },
  "language_info": {
   "codemirror_mode": {
    "name": "ipython",
    "version": 3
   },
   "file_extension": ".py",
   "mimetype": "text/x-python",
   "name": "python",
   "nbconvert_exporter": "python",
   "pygments_lexer": "ipython3",
   "version": "3.6.7"
  }
 },
 "nbformat": 4,
 "nbformat_minor": 2
}
