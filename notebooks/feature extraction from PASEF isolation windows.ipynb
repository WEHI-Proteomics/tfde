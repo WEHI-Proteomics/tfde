{
 "cells": [
  {
   "cell_type": "code",
   "execution_count": 719,
   "metadata": {},
   "outputs": [],
   "source": [
    "import sqlite3\n",
    "import pandas as pd\n",
    "import numpy as np\n",
    "import sys\n",
    "import matplotlib.pyplot as plt"
   ]
  },
  {
   "cell_type": "code",
   "execution_count": 720,
   "metadata": {},
   "outputs": [],
   "source": [
    "RT_LIMIT_LOWER = 4340\n",
    "RT_LIMIT_UPPER = 4580"
   ]
  },
  {
   "cell_type": "code",
   "execution_count": 721,
   "metadata": {},
   "outputs": [],
   "source": [
    "MS1_CE = 10"
   ]
  },
  {
   "cell_type": "code",
   "execution_count": 722,
   "metadata": {},
   "outputs": [],
   "source": [
    "BASE_NAME = \"/Users/darylwilding-mcbride/Downloads/HeLa_20KInt-rt-{}-{}\".format(RT_LIMIT_LOWER,RT_LIMIT_UPPER)\n",
    "ALLPEPTIDES_FILENAME = '/Users/darylwilding-mcbride/Downloads/maxquant_results/txt/allPeptides.txt'\n",
    "# BASE_NAME = \"/home/ubuntu/HeLa_20KInt-rt-{}-{}\".format(RT_LIMIT_LOWER,RT_LIMIT_UPPER)\n",
    "# ALLPEPTIDES_FILENAME = '/home/ubuntu/maxquant_results/txt/allPeptides.txt'\n",
    "\n",
    "CONVERTED_DATABASE_NAME = '{}/HeLa_20KInt.sqlite'.format(BASE_NAME)"
   ]
  },
  {
   "cell_type": "code",
   "execution_count": 723,
   "metadata": {},
   "outputs": [
    {
     "data": {
      "text/plain": [
       "'/Users/darylwilding-mcbride/Downloads/HeLa_20KInt-rt-4340-4580/HeLa_20KInt.sqlite'"
      ]
     },
     "execution_count": 723,
     "metadata": {},
     "output_type": "execute_result"
    }
   ],
   "source": [
    "CONVERTED_DATABASE_NAME"
   ]
  },
  {
   "cell_type": "code",
   "execution_count": 724,
   "metadata": {},
   "outputs": [],
   "source": [
    "db_conn = sqlite3.connect(CONVERTED_DATABASE_NAME)\n",
    "ms1_frame_properties_df = pd.read_sql_query(\"select frame_id,retention_time_secs from frame_properties where retention_time_secs >= {} and retention_time_secs <= {} and collision_energy == {}\".format(RT_LIMIT_LOWER,RT_LIMIT_UPPER,MS1_CE), db_conn)\n",
    "ms2_frame_properties_df = pd.read_sql_query(\"select frame_id,retention_time_secs from frame_properties where retention_time_secs >= {} and retention_time_secs <= {} and collision_energy <> {}\".format(RT_LIMIT_LOWER,RT_LIMIT_UPPER,MS1_CE), db_conn)\n",
    "db_conn.close()"
   ]
  },
  {
   "cell_type": "code",
   "execution_count": 725,
   "metadata": {},
   "outputs": [
    {
     "data": {
      "text/html": [
       "<div>\n",
       "<style scoped>\n",
       "    .dataframe tbody tr th:only-of-type {\n",
       "        vertical-align: middle;\n",
       "    }\n",
       "\n",
       "    .dataframe tbody tr th {\n",
       "        vertical-align: top;\n",
       "    }\n",
       "\n",
       "    .dataframe thead th {\n",
       "        text-align: right;\n",
       "    }\n",
       "</style>\n",
       "<table border=\"1\" class=\"dataframe\">\n",
       "  <thead>\n",
       "    <tr style=\"text-align: right;\">\n",
       "      <th></th>\n",
       "      <th>frame_id</th>\n",
       "      <th>retention_time_secs</th>\n",
       "    </tr>\n",
       "  </thead>\n",
       "  <tbody>\n",
       "    <tr>\n",
       "      <th>0</th>\n",
       "      <td>40411</td>\n",
       "      <td>4340.340330</td>\n",
       "    </tr>\n",
       "    <tr>\n",
       "      <th>1</th>\n",
       "      <td>40422</td>\n",
       "      <td>4341.521415</td>\n",
       "    </tr>\n",
       "    <tr>\n",
       "      <th>2</th>\n",
       "      <td>40433</td>\n",
       "      <td>4342.702923</td>\n",
       "    </tr>\n",
       "    <tr>\n",
       "      <th>3</th>\n",
       "      <td>40444</td>\n",
       "      <td>4343.883324</td>\n",
       "    </tr>\n",
       "    <tr>\n",
       "      <th>4</th>\n",
       "      <td>40455</td>\n",
       "      <td>4345.067491</td>\n",
       "    </tr>\n",
       "  </tbody>\n",
       "</table>\n",
       "</div>"
      ],
      "text/plain": [
       "   frame_id  retention_time_secs\n",
       "0     40411          4340.340330\n",
       "1     40422          4341.521415\n",
       "2     40433          4342.702923\n",
       "3     40444          4343.883324\n",
       "4     40455          4345.067491"
      ]
     },
     "execution_count": 725,
     "metadata": {},
     "output_type": "execute_result"
    }
   ],
   "source": [
    "ms1_frame_properties_df.head()"
   ]
  },
  {
   "cell_type": "code",
   "execution_count": 726,
   "metadata": {},
   "outputs": [
    {
     "data": {
      "text/html": [
       "<div>\n",
       "<style scoped>\n",
       "    .dataframe tbody tr th:only-of-type {\n",
       "        vertical-align: middle;\n",
       "    }\n",
       "\n",
       "    .dataframe tbody tr th {\n",
       "        vertical-align: top;\n",
       "    }\n",
       "\n",
       "    .dataframe thead th {\n",
       "        text-align: right;\n",
       "    }\n",
       "</style>\n",
       "<table border=\"1\" class=\"dataframe\">\n",
       "  <thead>\n",
       "    <tr style=\"text-align: right;\">\n",
       "      <th></th>\n",
       "      <th>frame_id</th>\n",
       "      <th>retention_time_secs</th>\n",
       "    </tr>\n",
       "  </thead>\n",
       "  <tbody>\n",
       "    <tr>\n",
       "      <th>0</th>\n",
       "      <td>40408</td>\n",
       "      <td>4340.019894</td>\n",
       "    </tr>\n",
       "    <tr>\n",
       "      <th>1</th>\n",
       "      <td>40409</td>\n",
       "      <td>4340.127084</td>\n",
       "    </tr>\n",
       "    <tr>\n",
       "      <th>2</th>\n",
       "      <td>40410</td>\n",
       "      <td>4340.233855</td>\n",
       "    </tr>\n",
       "    <tr>\n",
       "      <th>3</th>\n",
       "      <td>40412</td>\n",
       "      <td>4340.446655</td>\n",
       "    </tr>\n",
       "    <tr>\n",
       "      <th>4</th>\n",
       "      <td>40413</td>\n",
       "      <td>4340.554812</td>\n",
       "    </tr>\n",
       "  </tbody>\n",
       "</table>\n",
       "</div>"
      ],
      "text/plain": [
       "   frame_id  retention_time_secs\n",
       "0     40408          4340.019894\n",
       "1     40409          4340.127084\n",
       "2     40410          4340.233855\n",
       "3     40412          4340.446655\n",
       "4     40413          4340.554812"
      ]
     },
     "execution_count": 726,
     "metadata": {},
     "output_type": "execute_result"
    }
   ],
   "source": [
    "ms2_frame_properties_df.head()"
   ]
  },
  {
   "cell_type": "code",
   "execution_count": 727,
   "metadata": {},
   "outputs": [
    {
     "data": {
      "text/plain": [
       "1.1810854877303427"
      ]
     },
     "execution_count": 727,
     "metadata": {},
     "output_type": "execute_result"
    }
   ],
   "source": [
    "ms1_frame_delay = ms1_frame_properties_df.iloc[1].retention_time_secs - ms1_frame_properties_df.iloc[0].retention_time_secs\n",
    "ms1_frame_delay"
   ]
  },
  {
   "cell_type": "code",
   "execution_count": 728,
   "metadata": {},
   "outputs": [
    {
     "data": {
      "text/plain": [
       "203"
      ]
     },
     "execution_count": 728,
     "metadata": {},
     "output_type": "execute_result"
    }
   ],
   "source": [
    "len(ms1_frame_properties_df)"
   ]
  },
  {
   "cell_type": "code",
   "execution_count": 729,
   "metadata": {},
   "outputs": [],
   "source": [
    "RT_BASE_PEAK_WIDTH_SECS = float(30)"
   ]
  },
  {
   "cell_type": "code",
   "execution_count": 730,
   "metadata": {},
   "outputs": [],
   "source": [
    "# get all the isolation windows\n",
    "isolation_window_df = pd.read_pickle('/Users/darylwilding-mcbride/Downloads/isolation_window_df.pkl')"
   ]
  },
  {
   "cell_type": "code",
   "execution_count": 731,
   "metadata": {},
   "outputs": [
    {
     "data": {
      "text/html": [
       "<div>\n",
       "<style scoped>\n",
       "    .dataframe tbody tr th:only-of-type {\n",
       "        vertical-align: middle;\n",
       "    }\n",
       "\n",
       "    .dataframe tbody tr th {\n",
       "        vertical-align: top;\n",
       "    }\n",
       "\n",
       "    .dataframe thead th {\n",
       "        text-align: right;\n",
       "    }\n",
       "</style>\n",
       "<table border=\"1\" class=\"dataframe\">\n",
       "  <thead>\n",
       "    <tr style=\"text-align: right;\">\n",
       "      <th></th>\n",
       "      <th>Frame</th>\n",
       "      <th>ScanNumBegin</th>\n",
       "      <th>ScanNumEnd</th>\n",
       "      <th>IsolationMz</th>\n",
       "      <th>IsolationWidth</th>\n",
       "      <th>CollisionEnergy</th>\n",
       "      <th>Precursor</th>\n",
       "    </tr>\n",
       "  </thead>\n",
       "  <tbody>\n",
       "    <tr>\n",
       "      <th>0</th>\n",
       "      <td>3</td>\n",
       "      <td>507</td>\n",
       "      <td>532</td>\n",
       "      <td>742.744835</td>\n",
       "      <td>2.427448</td>\n",
       "      <td>36.96</td>\n",
       "      <td>1</td>\n",
       "    </tr>\n",
       "    <tr>\n",
       "      <th>1</th>\n",
       "      <td>3</td>\n",
       "      <td>549</td>\n",
       "      <td>574</td>\n",
       "      <td>709.235759</td>\n",
       "      <td>2.092358</td>\n",
       "      <td>36.96</td>\n",
       "      <td>2</td>\n",
       "    </tr>\n",
       "    <tr>\n",
       "      <th>2</th>\n",
       "      <td>3</td>\n",
       "      <td>602</td>\n",
       "      <td>627</td>\n",
       "      <td>594.235088</td>\n",
       "      <td>2.000000</td>\n",
       "      <td>36.96</td>\n",
       "      <td>3</td>\n",
       "    </tr>\n",
       "    <tr>\n",
       "      <th>3</th>\n",
       "      <td>3</td>\n",
       "      <td>643</td>\n",
       "      <td>668</td>\n",
       "      <td>503.527768</td>\n",
       "      <td>2.000000</td>\n",
       "      <td>36.96</td>\n",
       "      <td>4</td>\n",
       "    </tr>\n",
       "    <tr>\n",
       "      <th>4</th>\n",
       "      <td>3</td>\n",
       "      <td>684</td>\n",
       "      <td>709</td>\n",
       "      <td>552.063870</td>\n",
       "      <td>2.000000</td>\n",
       "      <td>31.92</td>\n",
       "      <td>5</td>\n",
       "    </tr>\n",
       "  </tbody>\n",
       "</table>\n",
       "</div>"
      ],
      "text/plain": [
       "   Frame  ScanNumBegin  ScanNumEnd  IsolationMz  IsolationWidth  \\\n",
       "0      3           507         532   742.744835        2.427448   \n",
       "1      3           549         574   709.235759        2.092358   \n",
       "2      3           602         627   594.235088        2.000000   \n",
       "3      3           643         668   503.527768        2.000000   \n",
       "4      3           684         709   552.063870        2.000000   \n",
       "\n",
       "   CollisionEnergy  Precursor  \n",
       "0            36.96          1  \n",
       "1            36.96          2  \n",
       "2            36.96          3  \n",
       "3            36.96          4  \n",
       "4            31.92          5  "
      ]
     },
     "execution_count": 731,
     "metadata": {},
     "output_type": "execute_result"
    }
   ],
   "source": [
    "isolation_window_df.head()"
   ]
  },
  {
   "cell_type": "code",
   "execution_count": 732,
   "metadata": {},
   "outputs": [],
   "source": [
    "# add-in the retention time for the isolation windows and filter out the window not in range\n",
    "isolation_window_df = pd.merge(isolation_window_df, ms2_frame_properties_df, how='left', left_on=['Frame'], right_on=['frame_id'])\n",
    "isolation_window_df.drop(['frame_id', 'CollisionEnergy'], axis=1, inplace=True)\n",
    "isolation_window_df.dropna(subset=['retention_time_secs'], inplace=True)\n",
    "isolation_window_df['mz_lower'] = isolation_window_df.IsolationMz - (isolation_window_df.IsolationWidth / 2)\n",
    "isolation_window_df['mz_upper'] = isolation_window_df.IsolationMz + (isolation_window_df.IsolationWidth / 2)\n",
    "isolation_window_df['rt_lower'] = isolation_window_df.retention_time_secs - RT_BASE_PEAK_WIDTH_SECS\n",
    "isolation_window_df['rt_upper'] = isolation_window_df.retention_time_secs + RT_BASE_PEAK_WIDTH_SECS"
   ]
  },
  {
   "cell_type": "code",
   "execution_count": 733,
   "metadata": {},
   "outputs": [
    {
     "data": {
      "text/html": [
       "<div>\n",
       "<style scoped>\n",
       "    .dataframe tbody tr th:only-of-type {\n",
       "        vertical-align: middle;\n",
       "    }\n",
       "\n",
       "    .dataframe tbody tr th {\n",
       "        vertical-align: top;\n",
       "    }\n",
       "\n",
       "    .dataframe thead th {\n",
       "        text-align: right;\n",
       "    }\n",
       "</style>\n",
       "<table border=\"1\" class=\"dataframe\">\n",
       "  <thead>\n",
       "    <tr style=\"text-align: right;\">\n",
       "      <th></th>\n",
       "      <th>Frame</th>\n",
       "      <th>ScanNumBegin</th>\n",
       "      <th>ScanNumEnd</th>\n",
       "      <th>IsolationMz</th>\n",
       "      <th>IsolationWidth</th>\n",
       "      <th>Precursor</th>\n",
       "      <th>retention_time_secs</th>\n",
       "      <th>mz_lower</th>\n",
       "      <th>mz_upper</th>\n",
       "      <th>rt_lower</th>\n",
       "      <th>rt_upper</th>\n",
       "    </tr>\n",
       "  </thead>\n",
       "  <tbody>\n",
       "    <tr>\n",
       "      <th>312803</th>\n",
       "      <td>40408</td>\n",
       "      <td>112</td>\n",
       "      <td>137</td>\n",
       "      <td>1135.738520</td>\n",
       "      <td>3.000000</td>\n",
       "      <td>147429</td>\n",
       "      <td>4340.019894</td>\n",
       "      <td>1134.238520</td>\n",
       "      <td>1137.238520</td>\n",
       "      <td>4310.019894</td>\n",
       "      <td>4370.019894</td>\n",
       "    </tr>\n",
       "    <tr>\n",
       "      <th>312804</th>\n",
       "      <td>40408</td>\n",
       "      <td>181</td>\n",
       "      <td>206</td>\n",
       "      <td>994.022363</td>\n",
       "      <td>3.000000</td>\n",
       "      <td>147430</td>\n",
       "      <td>4340.019894</td>\n",
       "      <td>992.522363</td>\n",
       "      <td>995.522363</td>\n",
       "      <td>4310.019894</td>\n",
       "      <td>4370.019894</td>\n",
       "    </tr>\n",
       "    <tr>\n",
       "      <th>312805</th>\n",
       "      <td>40408</td>\n",
       "      <td>263</td>\n",
       "      <td>288</td>\n",
       "      <td>1054.650881</td>\n",
       "      <td>3.000000</td>\n",
       "      <td>147451</td>\n",
       "      <td>4340.019894</td>\n",
       "      <td>1053.150881</td>\n",
       "      <td>1056.150881</td>\n",
       "      <td>4310.019894</td>\n",
       "      <td>4370.019894</td>\n",
       "    </tr>\n",
       "    <tr>\n",
       "      <th>312806</th>\n",
       "      <td>40408</td>\n",
       "      <td>324</td>\n",
       "      <td>349</td>\n",
       "      <td>789.368380</td>\n",
       "      <td>2.893684</td>\n",
       "      <td>147452</td>\n",
       "      <td>4340.019894</td>\n",
       "      <td>787.921538</td>\n",
       "      <td>790.815222</td>\n",
       "      <td>4310.019894</td>\n",
       "      <td>4370.019894</td>\n",
       "    </tr>\n",
       "    <tr>\n",
       "      <th>312807</th>\n",
       "      <td>40408</td>\n",
       "      <td>368</td>\n",
       "      <td>393</td>\n",
       "      <td>826.901660</td>\n",
       "      <td>3.000000</td>\n",
       "      <td>147453</td>\n",
       "      <td>4340.019894</td>\n",
       "      <td>825.401660</td>\n",
       "      <td>828.401660</td>\n",
       "      <td>4310.019894</td>\n",
       "      <td>4370.019894</td>\n",
       "    </tr>\n",
       "  </tbody>\n",
       "</table>\n",
       "</div>"
      ],
      "text/plain": [
       "        Frame  ScanNumBegin  ScanNumEnd  IsolationMz  IsolationWidth  \\\n",
       "312803  40408           112         137  1135.738520        3.000000   \n",
       "312804  40408           181         206   994.022363        3.000000   \n",
       "312805  40408           263         288  1054.650881        3.000000   \n",
       "312806  40408           324         349   789.368380        2.893684   \n",
       "312807  40408           368         393   826.901660        3.000000   \n",
       "\n",
       "        Precursor  retention_time_secs     mz_lower     mz_upper     rt_lower  \\\n",
       "312803     147429          4340.019894  1134.238520  1137.238520  4310.019894   \n",
       "312804     147430          4340.019894   992.522363   995.522363  4310.019894   \n",
       "312805     147451          4340.019894  1053.150881  1056.150881  4310.019894   \n",
       "312806     147452          4340.019894   787.921538   790.815222  4310.019894   \n",
       "312807     147453          4340.019894   825.401660   828.401660  4310.019894   \n",
       "\n",
       "           rt_upper  \n",
       "312803  4370.019894  \n",
       "312804  4370.019894  \n",
       "312805  4370.019894  \n",
       "312806  4370.019894  \n",
       "312807  4370.019894  "
      ]
     },
     "execution_count": 733,
     "metadata": {},
     "output_type": "execute_result"
    }
   ],
   "source": [
    "isolation_window_df.head()"
   ]
  },
  {
   "cell_type": "code",
   "execution_count": 734,
   "metadata": {},
   "outputs": [
    {
     "data": {
      "text/plain": [
       "23727"
      ]
     },
     "execution_count": 734,
     "metadata": {},
     "output_type": "execute_result"
    }
   ],
   "source": [
    "len(isolation_window_df)"
   ]
  },
  {
   "cell_type": "markdown",
   "metadata": {},
   "source": [
    "Select one of the precursors"
   ]
  },
  {
   "cell_type": "code",
   "execution_count": 735,
   "metadata": {},
   "outputs": [
    {
     "data": {
      "text/plain": [
       "Frame                   41815.000000\n",
       "ScanNumBegin              669.000000\n",
       "ScanNumEnd                694.000000\n",
       "IsolationMz               643.367227\n",
       "IsolationWidth              2.000000\n",
       "Precursor              155272.000000\n",
       "retention_time_secs      4491.152876\n",
       "mz_lower                  642.367227\n",
       "mz_upper                  644.367227\n",
       "rt_lower                 4461.152876\n",
       "rt_upper                 4521.152876\n",
       "Name: 327803, dtype: float64"
      ]
     },
     "execution_count": 735,
     "metadata": {},
     "output_type": "execute_result"
    }
   ],
   "source": [
    "window_df = isolation_window_df.iloc[15000]\n",
    "window_df"
   ]
  },
  {
   "cell_type": "code",
   "execution_count": 736,
   "metadata": {},
   "outputs": [],
   "source": [
    "mz_lower = window_df.mz_lower\n",
    "mz_upper = window_df.mz_upper\n",
    "scan_lower = int(window_df.ScanNumBegin)\n",
    "scan_upper = int(window_df.ScanNumEnd)\n",
    "rt_lower = window_df.rt_lower\n",
    "rt_upper = window_df.rt_upper\n",
    "precursor_id = int(window_df.Precursor)"
   ]
  },
  {
   "cell_type": "code",
   "execution_count": 737,
   "metadata": {},
   "outputs": [],
   "source": [
    "# get the ms1 frame IDs\n",
    "ms1_frame_ids = tuple(ms1_frame_properties_df.astype(int).values[:,0])\n"
   ]
  },
  {
   "cell_type": "code",
   "execution_count": 738,
   "metadata": {},
   "outputs": [],
   "source": [
    "# load the cube's raw ms1 points\n",
    "db_conn = sqlite3.connect(CONVERTED_DATABASE_NAME)\n",
    "raw_points_df = pd.read_sql_query(\"select frame_id,mz,scan,intensity,retention_time_secs from frames where mz >= {} and mz <= {} and scan >= {} and scan <= {} and retention_time_secs >= {} and retention_time_secs <= {} and frame_id in {}\".format(mz_lower, mz_upper, scan_lower, scan_upper, rt_lower, rt_upper, ms1_frame_ids), db_conn)\n",
    "db_conn.close()"
   ]
  },
  {
   "cell_type": "code",
   "execution_count": 739,
   "metadata": {},
   "outputs": [
    {
     "data": {
      "text/plain": [
       "10960"
      ]
     },
     "execution_count": 739,
     "metadata": {},
     "output_type": "execute_result"
    }
   ],
   "source": [
    "len(raw_points_df)"
   ]
  },
  {
   "cell_type": "code",
   "execution_count": 740,
   "metadata": {},
   "outputs": [
    {
     "data": {
      "text/plain": [
       "3094"
      ]
     },
     "execution_count": 740,
     "metadata": {},
     "output_type": "execute_result"
    }
   ],
   "source": [
    "raw_points_df.intensity.max()"
   ]
  },
  {
   "cell_type": "code",
   "execution_count": 741,
   "metadata": {},
   "outputs": [
    {
     "data": {
      "text/html": [
       "<div>\n",
       "<style scoped>\n",
       "    .dataframe tbody tr th:only-of-type {\n",
       "        vertical-align: middle;\n",
       "    }\n",
       "\n",
       "    .dataframe tbody tr th {\n",
       "        vertical-align: top;\n",
       "    }\n",
       "\n",
       "    .dataframe thead th {\n",
       "        text-align: right;\n",
       "    }\n",
       "</style>\n",
       "<table border=\"1\" class=\"dataframe\">\n",
       "  <thead>\n",
       "    <tr style=\"text-align: right;\">\n",
       "      <th></th>\n",
       "      <th>frame_id</th>\n",
       "      <th>mz</th>\n",
       "      <th>scan</th>\n",
       "      <th>intensity</th>\n",
       "      <th>retention_time_secs</th>\n",
       "    </tr>\n",
       "  </thead>\n",
       "  <tbody>\n",
       "    <tr>\n",
       "      <th>0</th>\n",
       "      <td>41544</td>\n",
       "      <td>642.400403</td>\n",
       "      <td>681</td>\n",
       "      <td>87</td>\n",
       "      <td>4462.064699</td>\n",
       "    </tr>\n",
       "    <tr>\n",
       "      <th>1</th>\n",
       "      <td>41544</td>\n",
       "      <td>642.508312</td>\n",
       "      <td>679</td>\n",
       "      <td>10</td>\n",
       "      <td>4462.064699</td>\n",
       "    </tr>\n",
       "    <tr>\n",
       "      <th>2</th>\n",
       "      <td>41544</td>\n",
       "      <td>642.528297</td>\n",
       "      <td>672</td>\n",
       "      <td>40</td>\n",
       "      <td>4462.064699</td>\n",
       "    </tr>\n",
       "    <tr>\n",
       "      <th>3</th>\n",
       "      <td>41544</td>\n",
       "      <td>642.564269</td>\n",
       "      <td>675</td>\n",
       "      <td>58</td>\n",
       "      <td>4462.064699</td>\n",
       "    </tr>\n",
       "    <tr>\n",
       "      <th>4</th>\n",
       "      <td>41544</td>\n",
       "      <td>642.564269</td>\n",
       "      <td>678</td>\n",
       "      <td>44</td>\n",
       "      <td>4462.064699</td>\n",
       "    </tr>\n",
       "  </tbody>\n",
       "</table>\n",
       "</div>"
      ],
      "text/plain": [
       "   frame_id          mz  scan  intensity  retention_time_secs\n",
       "0     41544  642.400403   681         87          4462.064699\n",
       "1     41544  642.508312   679         10          4462.064699\n",
       "2     41544  642.528297   672         40          4462.064699\n",
       "3     41544  642.564269   675         58          4462.064699\n",
       "4     41544  642.564269   678         44          4462.064699"
      ]
     },
     "execution_count": 741,
     "metadata": {},
     "output_type": "execute_result"
    }
   ],
   "source": [
    "raw_points_df.head()"
   ]
  },
  {
   "cell_type": "code",
   "execution_count": 742,
   "metadata": {},
   "outputs": [],
   "source": [
    "MZ_MIN = mz_lower\n",
    "MZ_MAX = mz_upper\n",
    "MZ_BIN_WIDTH = 0.1"
   ]
  },
  {
   "cell_type": "code",
   "execution_count": 743,
   "metadata": {},
   "outputs": [],
   "source": [
    "bins = np.arange(start=MZ_MIN, stop=MZ_MAX+(MZ_BIN_WIDTH*0.1), step=MZ_BIN_WIDTH)  # go slightly wider to accomodate the maximum value"
   ]
  },
  {
   "cell_type": "code",
   "execution_count": 744,
   "metadata": {},
   "outputs": [
    {
     "data": {
      "text/plain": [
       "array([642.36722721, 642.46722721, 642.56722721, 642.66722721,\n",
       "       642.76722721, 642.86722721, 642.96722721, 643.06722721,\n",
       "       643.16722721, 643.26722721, 643.36722721, 643.46722721,\n",
       "       643.56722721, 643.66722721, 643.76722721, 643.86722721,\n",
       "       643.96722721, 644.06722721, 644.16722721, 644.26722721,\n",
       "       644.36722721])"
      ]
     },
     "execution_count": 744,
     "metadata": {},
     "output_type": "execute_result"
    }
   ],
   "source": [
    "bins"
   ]
  },
  {
   "cell_type": "code",
   "execution_count": 745,
   "metadata": {},
   "outputs": [],
   "source": [
    "MZ_BIN_COUNT = len(bins)"
   ]
  },
  {
   "cell_type": "code",
   "execution_count": 746,
   "metadata": {},
   "outputs": [],
   "source": [
    "# initialise an array of lists to hold the m/z and intensity values allocated to each bin\n",
    "mz_values_array = np.empty(MZ_BIN_COUNT, dtype=np.object)\n",
    "for idx in range(MZ_BIN_COUNT):\n",
    "    mz_values_array[idx] = []\n"
   ]
  },
  {
   "cell_type": "code",
   "execution_count": 747,
   "metadata": {},
   "outputs": [],
   "source": [
    "# gather the m/z values into bins\n",
    "for r in zip(raw_points_df.mz, raw_points_df.intensity):\n",
    "    mz = r[0]\n",
    "    intensity = int(r[1])\n",
    "    if (mz >= MZ_MIN) and (mz <= MZ_MAX): # it should already but just to be sure\n",
    "        mz_array_idx = int(np.digitize(mz, bins)) # in which bin should this mz go\n",
    "        mz_values_array[mz_array_idx].append((mz, intensity))"
   ]
  },
  {
   "cell_type": "code",
   "execution_count": 748,
   "metadata": {},
   "outputs": [],
   "source": [
    "import peakutils"
   ]
  },
  {
   "cell_type": "code",
   "execution_count": 749,
   "metadata": {},
   "outputs": [],
   "source": [
    "# compute the intensity-weighted m/z centroid and the summed intensity of the bins\n",
    "peaks = []\n",
    "for bin_idx in range(MZ_BIN_COUNT):\n",
    "    if len(mz_values_array[bin_idx]) > 0:\n",
    "        mz_values_for_bin = np.array([ list[0] for list in mz_values_array[bin_idx]])\n",
    "        intensity_values_for_bin = np.array([ list[1] for list in mz_values_array[bin_idx]]).astype(int)\n",
    "        mz_centroid = peakutils.centroid(mz_values_for_bin, intensity_values_for_bin)\n",
    "        summed_intensity = intensity_values_for_bin.sum()\n",
    "        peaks.append((mz_centroid,summed_intensity))"
   ]
  },
  {
   "cell_type": "code",
   "execution_count": 750,
   "metadata": {},
   "outputs": [
    {
     "data": {
      "text/plain": [
       "[(642.4068412822277, 4554),\n",
       " (642.5337244842575, 8678),\n",
       " (642.6418781537727, 53353),\n",
       " (642.6965968783323, 14980),\n",
       " (642.8096053650733, 10539),\n",
       " (642.9360873373437, 16958),\n",
       " (643.0168806926459, 489026),\n",
       " (643.1121067277205, 2840),\n",
       " (643.226860008136, 28205),\n",
       " (643.3493361888092, 520303),\n",
       " (643.3937575349045, 10943),\n",
       " (643.5356802588873, 19378),\n",
       " (643.6242099745265, 39722),\n",
       " (643.6883715068063, 292886),\n",
       " (643.8174608072086, 7743),\n",
       " (643.9338255528725, 26707),\n",
       " (644.0058974853173, 335999),\n",
       " (644.1220982603915, 5158),\n",
       " (644.2273736097846, 11940),\n",
       " (644.3316223629977, 297584)]"
      ]
     },
     "execution_count": 750,
     "metadata": {},
     "output_type": "execute_result"
    }
   ],
   "source": [
    "peaks"
   ]
  },
  {
   "cell_type": "code",
   "execution_count": 751,
   "metadata": {},
   "outputs": [],
   "source": [
    "peaks_df = pd.DataFrame(peaks, columns=['mz_centroid','summed_intensity'])"
   ]
  },
  {
   "cell_type": "code",
   "execution_count": 752,
   "metadata": {},
   "outputs": [
    {
     "data": {
      "image/png": "[encoded data removed]",
      "text/plain": [
       "<Figure size 1080x360 with 1 Axes>"
      ]
     },
     "metadata": {
      "needs_background": "light"
     },
     "output_type": "display_data"
    }
   ],
   "source": [
    "f, ax = plt.subplots()\n",
    "colors = ['tab:blue', 'tab:orange', 'tab:green', 'tab:red', 'tab:purple', 'tab:brown', 'tab:pink', 'tab:gray', 'tab:olive', 'tab:cyan']\n",
    "markerline, stemlines, baseline = ax.stem(peaks_df.mz_centroid, peaks_df.summed_intensity, 'g')\n",
    "plt.setp(markerline, 'color', colors[2])\n",
    "plt.setp(stemlines, 'color', colors[2])\n",
    "plt.setp(baseline, 'color', colors[7])\n",
    "plt.xlabel('binned m/z')\n",
    "plt.ylabel('intensity')\n",
    "f.set_figheight(5)\n",
    "f.set_figwidth(15)\n",
    "plt.margins(0.06)\n",
    "plt.suptitle('Raw points centroided and summed by m/z bin for precursor ID {}'.format(precursor_id))\n",
    "plt.title('bin width {} Th'.format(MZ_BIN_WIDTH))\n",
    "plt.show()"
   ]
  },
  {
   "cell_type": "code",
   "execution_count": 753,
   "metadata": {},
   "outputs": [],
   "source": [
    "PROTON_MASS = 1.0073  # Mass of a proton in unified atomic mass units, or Da. For calculating the monoisotopic mass.\n"
   ]
  },
  {
   "cell_type": "code",
   "execution_count": 754,
   "metadata": {},
   "outputs": [],
   "source": [
    "from ms_deisotope import deconvolute_peaks, averagine, scoring\n",
    "\n",
    "# see https://github.com/mobiusklein/ms_deisotope/blob/ee4b083ad7ab5f77722860ce2d6fdb751886271e/ms_deisotope/deconvolution/api.py#L17\n",
    "deconvoluted_peaks, _priority_targets = deconvolute_peaks(peaks, averagine=averagine.peptide, scorer=scoring.MSDeconVFitter(10.0))\n"
   ]
  },
  {
   "cell_type": "code",
   "execution_count": 755,
   "metadata": {},
   "outputs": [],
   "source": [
    "peaks_l = []\n",
    "for peak in deconvoluted_peaks:\n",
    "    peaks_l.append((peak.mz, peak.neutral_mass, peak.intensity, peak.score, peak.signal_to_noise))\n",
    "deconvoluted_peaks_df = pd.DataFrame(peaks_l, columns=['mz','neutral_mass','intensity','score','SN'])\n",
    "# 'neutral mass' is the zero charge M, so we add the proton mass to get M+H (the monoisotopic mass)\n",
    "deconvoluted_peaks_df['m_plus_h'] = deconvoluted_peaks_df.neutral_mass + PROTON_MASS\n"
   ]
  },
  {
   "cell_type": "code",
   "execution_count": 756,
   "metadata": {
    "scrolled": true
   },
   "outputs": [
    {
     "data": {
      "text/html": [
       "<div>\n",
       "<style scoped>\n",
       "    .dataframe tbody tr th:only-of-type {\n",
       "        vertical-align: middle;\n",
       "    }\n",
       "\n",
       "    .dataframe tbody tr th {\n",
       "        vertical-align: top;\n",
       "    }\n",
       "\n",
       "    .dataframe thead th {\n",
       "        text-align: right;\n",
       "    }\n",
       "</style>\n",
       "<table border=\"1\" class=\"dataframe\">\n",
       "  <thead>\n",
       "    <tr style=\"text-align: right;\">\n",
       "      <th></th>\n",
       "      <th>mz</th>\n",
       "      <th>neutral_mass</th>\n",
       "      <th>intensity</th>\n",
       "      <th>score</th>\n",
       "      <th>SN</th>\n",
       "      <th>m_plus_h</th>\n",
       "    </tr>\n",
       "  </thead>\n",
       "  <tbody>\n",
       "    <tr>\n",
       "      <th>0</th>\n",
       "      <td>641.528971</td>\n",
       "      <td>640.521694</td>\n",
       "      <td>28056.0</td>\n",
       "      <td>77.240753</td>\n",
       "      <td>14028.000000</td>\n",
       "      <td>641.528994</td>\n",
       "    </tr>\n",
       "    <tr>\n",
       "      <th>1</th>\n",
       "      <td>643.226860</td>\n",
       "      <td>642.219584</td>\n",
       "      <td>40145.0</td>\n",
       "      <td>246.821113</td>\n",
       "      <td>20072.500000</td>\n",
       "      <td>643.226884</td>\n",
       "    </tr>\n",
       "    <tr>\n",
       "      <th>2</th>\n",
       "      <td>642.936087</td>\n",
       "      <td>1283.857622</td>\n",
       "      <td>43665.0</td>\n",
       "      <td>130.464778</td>\n",
       "      <td>21832.500000</td>\n",
       "      <td>1284.864922</td>\n",
       "    </tr>\n",
       "    <tr>\n",
       "      <th>3</th>\n",
       "      <td>643.122533</td>\n",
       "      <td>1284.230512</td>\n",
       "      <td>47720.0</td>\n",
       "      <td>132.580938</td>\n",
       "      <td>15906.666667</td>\n",
       "      <td>1285.237812</td>\n",
       "    </tr>\n",
       "    <tr>\n",
       "      <th>4</th>\n",
       "      <td>643.829945</td>\n",
       "      <td>1285.645337</td>\n",
       "      <td>305327.0</td>\n",
       "      <td>195.134523</td>\n",
       "      <td>152663.500000</td>\n",
       "      <td>1286.652637</td>\n",
       "    </tr>\n",
       "    <tr>\n",
       "      <th>5</th>\n",
       "      <td>643.014885</td>\n",
       "      <td>1926.022824</td>\n",
       "      <td>1638214.0</td>\n",
       "      <td>1726.033342</td>\n",
       "      <td>409553.500000</td>\n",
       "      <td>1927.030124</td>\n",
       "    </tr>\n",
       "  </tbody>\n",
       "</table>\n",
       "</div>"
      ],
      "text/plain": [
       "           mz  neutral_mass  intensity        score             SN  \\\n",
       "0  641.528971    640.521694    28056.0    77.240753   14028.000000   \n",
       "1  643.226860    642.219584    40145.0   246.821113   20072.500000   \n",
       "2  642.936087   1283.857622    43665.0   130.464778   21832.500000   \n",
       "3  643.122533   1284.230512    47720.0   132.580938   15906.666667   \n",
       "4  643.829945   1285.645337   305327.0   195.134523  152663.500000   \n",
       "5  643.014885   1926.022824  1638214.0  1726.033342  409553.500000   \n",
       "\n",
       "      m_plus_h  \n",
       "0   641.528994  \n",
       "1   643.226884  \n",
       "2  1284.864922  \n",
       "3  1285.237812  \n",
       "4  1286.652637  \n",
       "5  1927.030124  "
      ]
     },
     "execution_count": 756,
     "metadata": {},
     "output_type": "execute_result"
    }
   ],
   "source": [
    "deconvoluted_peaks_df"
   ]
  },
  {
   "cell_type": "code",
   "execution_count": 757,
   "metadata": {},
   "outputs": [
    {
     "data": {
      "image/png": "[encoded data removed]",
      "text/plain": [
       "<Figure size 1080x360 with 1 Axes>"
      ]
     },
     "metadata": {
      "needs_background": "light"
     },
     "output_type": "display_data"
    }
   ],
   "source": [
    "f, ax = plt.subplots()\n",
    "colors = ['tab:blue', 'tab:orange', 'tab:green', 'tab:red', 'tab:purple', 'tab:brown', 'tab:pink', 'tab:gray', 'tab:olive', 'tab:cyan']\n",
    "markerline, stemlines, baseline = ax.stem(deconvoluted_peaks_df.mz, deconvoluted_peaks_df.intensity, 'g')\n",
    "plt.setp(markerline, 'color', colors[2])\n",
    "plt.setp(stemlines, 'color', colors[2])\n",
    "plt.setp(baseline, 'color', colors[7])\n",
    "plt.xlabel('m/z')\n",
    "plt.ylabel('intensity')\n",
    "f.set_figheight(5)\n",
    "f.set_figwidth(15)\n",
    "plt.margins(0.06)\n",
    "plt.suptitle('Deconvoluted peaks for precursor ID {}'.format(precursor_id))\n",
    "plt.title('bin width {} Th'.format(MZ_BIN_WIDTH))\n",
    "plt.show()"
   ]
  },
  {
   "cell_type": "code",
   "execution_count": 758,
   "metadata": {},
   "outputs": [],
   "source": [
    "# assume the high score is for the monoisotopic peak\n",
    "monoisotopic_mz = deconvoluted_peaks_df.iloc[deconvoluted_peaks_df.score.idxmax()].mz"
   ]
  },
  {
   "cell_type": "code",
   "execution_count": 759,
   "metadata": {},
   "outputs": [
    {
     "data": {
      "text/plain": [
       "643.0148845762092"
      ]
     },
     "execution_count": 759,
     "metadata": {},
     "output_type": "execute_result"
    }
   ],
   "source": [
    "monoisotopic_mz"
   ]
  },
  {
   "cell_type": "code",
   "execution_count": 760,
   "metadata": {},
   "outputs": [],
   "source": [
    "monoisotopic_bin = int(np.digitize(monoisotopic_mz, bins))"
   ]
  },
  {
   "cell_type": "markdown",
   "metadata": {},
   "source": [
    "Get the raw points for the monoisotopic peak"
   ]
  },
  {
   "cell_type": "code",
   "execution_count": 761,
   "metadata": {},
   "outputs": [],
   "source": [
    "MZ_TOLERANCE_PPM = 5\n",
    "MZ_TOLERANCE_PERCENT = MZ_TOLERANCE_PPM * 10**-4"
   ]
  },
  {
   "cell_type": "code",
   "execution_count": 762,
   "metadata": {},
   "outputs": [],
   "source": [
    "monoisotopic_mz_ppm_tolerance = monoisotopic_mz * MZ_TOLERANCE_PERCENT / 100\n",
    "monoisotopic_mz_lower = monoisotopic_mz - monoisotopic_mz_ppm_tolerance\n",
    "monoisotopic_mz_upper = monoisotopic_mz + monoisotopic_mz_ppm_tolerance"
   ]
  },
  {
   "cell_type": "code",
   "execution_count": 763,
   "metadata": {},
   "outputs": [],
   "source": [
    "monoisotopic_raw_points_df = raw_points_df[(raw_points_df.mz >= monoisotopic_mz_lower) & (raw_points_df.mz <= monoisotopic_mz_upper)]"
   ]
  },
  {
   "cell_type": "code",
   "execution_count": 764,
   "metadata": {},
   "outputs": [
    {
     "data": {
      "text/html": [
       "<div>\n",
       "<style scoped>\n",
       "    .dataframe tbody tr th:only-of-type {\n",
       "        vertical-align: middle;\n",
       "    }\n",
       "\n",
       "    .dataframe tbody tr th {\n",
       "        vertical-align: top;\n",
       "    }\n",
       "\n",
       "    .dataframe thead th {\n",
       "        text-align: right;\n",
       "    }\n",
       "</style>\n",
       "<table border=\"1\" class=\"dataframe\">\n",
       "  <thead>\n",
       "    <tr style=\"text-align: right;\">\n",
       "      <th></th>\n",
       "      <th>frame_id</th>\n",
       "      <th>mz</th>\n",
       "      <th>scan</th>\n",
       "      <th>intensity</th>\n",
       "      <th>retention_time_secs</th>\n",
       "    </tr>\n",
       "  </thead>\n",
       "  <tbody>\n",
       "    <tr>\n",
       "      <th>28</th>\n",
       "      <td>41544</td>\n",
       "      <td>643.012010</td>\n",
       "      <td>676</td>\n",
       "      <td>48</td>\n",
       "      <td>4462.064699</td>\n",
       "    </tr>\n",
       "    <tr>\n",
       "      <th>118</th>\n",
       "      <td>41555</td>\n",
       "      <td>643.016009</td>\n",
       "      <td>672</td>\n",
       "      <td>97</td>\n",
       "      <td>4463.244902</td>\n",
       "    </tr>\n",
       "    <tr>\n",
       "      <th>313</th>\n",
       "      <td>41577</td>\n",
       "      <td>643.016009</td>\n",
       "      <td>678</td>\n",
       "      <td>157</td>\n",
       "      <td>4465.608514</td>\n",
       "    </tr>\n",
       "    <tr>\n",
       "      <th>420</th>\n",
       "      <td>41588</td>\n",
       "      <td>643.012010</td>\n",
       "      <td>680</td>\n",
       "      <td>70</td>\n",
       "      <td>4466.791048</td>\n",
       "    </tr>\n",
       "    <tr>\n",
       "      <th>421</th>\n",
       "      <td>41588</td>\n",
       "      <td>643.012010</td>\n",
       "      <td>694</td>\n",
       "      <td>49</td>\n",
       "      <td>4466.791048</td>\n",
       "    </tr>\n",
       "  </tbody>\n",
       "</table>\n",
       "</div>"
      ],
      "text/plain": [
       "     frame_id          mz  scan  intensity  retention_time_secs\n",
       "28      41544  643.012010   676         48          4462.064699\n",
       "118     41555  643.016009   672         97          4463.244902\n",
       "313     41577  643.016009   678        157          4465.608514\n",
       "420     41588  643.012010   680         70          4466.791048\n",
       "421     41588  643.012010   694         49          4466.791048"
      ]
     },
     "execution_count": 764,
     "metadata": {},
     "output_type": "execute_result"
    }
   ],
   "source": [
    "monoisotopic_raw_points_df.head()"
   ]
  },
  {
   "cell_type": "markdown",
   "metadata": {},
   "source": [
    "Collapsing the summed points onto the RT dimension"
   ]
  },
  {
   "cell_type": "code",
   "execution_count": 765,
   "metadata": {
    "scrolled": true
   },
   "outputs": [
    {
     "data": {
      "text/html": [
       "<div>\n",
       "<style scoped>\n",
       "    .dataframe tbody tr th:only-of-type {\n",
       "        vertical-align: middle;\n",
       "    }\n",
       "\n",
       "    .dataframe tbody tr th {\n",
       "        vertical-align: top;\n",
       "    }\n",
       "\n",
       "    .dataframe thead th {\n",
       "        text-align: right;\n",
       "    }\n",
       "</style>\n",
       "<table border=\"1\" class=\"dataframe\">\n",
       "  <thead>\n",
       "    <tr style=\"text-align: right;\">\n",
       "      <th></th>\n",
       "      <th>frame_id</th>\n",
       "      <th>retention_time_secs</th>\n",
       "      <th>intensity</th>\n",
       "    </tr>\n",
       "  </thead>\n",
       "  <tbody>\n",
       "    <tr>\n",
       "      <th>0</th>\n",
       "      <td>41544</td>\n",
       "      <td>4462.064699</td>\n",
       "      <td>48</td>\n",
       "    </tr>\n",
       "    <tr>\n",
       "      <th>1</th>\n",
       "      <td>41555</td>\n",
       "      <td>4463.244902</td>\n",
       "      <td>97</td>\n",
       "    </tr>\n",
       "    <tr>\n",
       "      <th>2</th>\n",
       "      <td>41577</td>\n",
       "      <td>4465.608514</td>\n",
       "      <td>157</td>\n",
       "    </tr>\n",
       "    <tr>\n",
       "      <th>3</th>\n",
       "      <td>41588</td>\n",
       "      <td>4466.791048</td>\n",
       "      <td>119</td>\n",
       "    </tr>\n",
       "    <tr>\n",
       "      <th>4</th>\n",
       "      <td>41687</td>\n",
       "      <td>4477.407621</td>\n",
       "      <td>154</td>\n",
       "    </tr>\n",
       "    <tr>\n",
       "      <th>5</th>\n",
       "      <td>41753</td>\n",
       "      <td>4484.495019</td>\n",
       "      <td>166</td>\n",
       "    </tr>\n",
       "    <tr>\n",
       "      <th>6</th>\n",
       "      <td>41764</td>\n",
       "      <td>4485.676983</td>\n",
       "      <td>98</td>\n",
       "    </tr>\n",
       "    <tr>\n",
       "      <th>7</th>\n",
       "      <td>41775</td>\n",
       "      <td>4486.857597</td>\n",
       "      <td>85</td>\n",
       "    </tr>\n",
       "    <tr>\n",
       "      <th>8</th>\n",
       "      <td>41786</td>\n",
       "      <td>4488.034919</td>\n",
       "      <td>505</td>\n",
       "    </tr>\n",
       "    <tr>\n",
       "      <th>9</th>\n",
       "      <td>41797</td>\n",
       "      <td>4489.217368</td>\n",
       "      <td>1408</td>\n",
       "    </tr>\n",
       "    <tr>\n",
       "      <th>10</th>\n",
       "      <td>41808</td>\n",
       "      <td>4490.399128</td>\n",
       "      <td>2968</td>\n",
       "    </tr>\n",
       "    <tr>\n",
       "      <th>11</th>\n",
       "      <td>41819</td>\n",
       "      <td>4491.584403</td>\n",
       "      <td>6313</td>\n",
       "    </tr>\n",
       "    <tr>\n",
       "      <th>12</th>\n",
       "      <td>41830</td>\n",
       "      <td>4492.767718</td>\n",
       "      <td>13130</td>\n",
       "    </tr>\n",
       "    <tr>\n",
       "      <th>13</th>\n",
       "      <td>41841</td>\n",
       "      <td>4493.947549</td>\n",
       "      <td>8737</td>\n",
       "    </tr>\n",
       "    <tr>\n",
       "      <th>14</th>\n",
       "      <td>41852</td>\n",
       "      <td>4495.130174</td>\n",
       "      <td>25428</td>\n",
       "    </tr>\n",
       "    <tr>\n",
       "      <th>15</th>\n",
       "      <td>41863</td>\n",
       "      <td>4496.307867</td>\n",
       "      <td>6488</td>\n",
       "    </tr>\n",
       "    <tr>\n",
       "      <th>16</th>\n",
       "      <td>41874</td>\n",
       "      <td>4497.488806</td>\n",
       "      <td>24997</td>\n",
       "    </tr>\n",
       "    <tr>\n",
       "      <th>17</th>\n",
       "      <td>41885</td>\n",
       "      <td>4498.668742</td>\n",
       "      <td>2452</td>\n",
       "    </tr>\n",
       "    <tr>\n",
       "      <th>18</th>\n",
       "      <td>41896</td>\n",
       "      <td>4499.851856</td>\n",
       "      <td>1441</td>\n",
       "    </tr>\n",
       "    <tr>\n",
       "      <th>19</th>\n",
       "      <td>41907</td>\n",
       "      <td>4501.031480</td>\n",
       "      <td>2694</td>\n",
       "    </tr>\n",
       "    <tr>\n",
       "      <th>20</th>\n",
       "      <td>41918</td>\n",
       "      <td>4502.216294</td>\n",
       "      <td>2745</td>\n",
       "    </tr>\n",
       "    <tr>\n",
       "      <th>21</th>\n",
       "      <td>41929</td>\n",
       "      <td>4503.398299</td>\n",
       "      <td>6422</td>\n",
       "    </tr>\n",
       "    <tr>\n",
       "      <th>22</th>\n",
       "      <td>41940</td>\n",
       "      <td>4504.581118</td>\n",
       "      <td>20207</td>\n",
       "    </tr>\n",
       "    <tr>\n",
       "      <th>23</th>\n",
       "      <td>41951</td>\n",
       "      <td>4505.763663</td>\n",
       "      <td>11766</td>\n",
       "    </tr>\n",
       "    <tr>\n",
       "      <th>24</th>\n",
       "      <td>41962</td>\n",
       "      <td>4506.949030</td>\n",
       "      <td>6446</td>\n",
       "    </tr>\n",
       "    <tr>\n",
       "      <th>25</th>\n",
       "      <td>41973</td>\n",
       "      <td>4508.129040</td>\n",
       "      <td>5773</td>\n",
       "    </tr>\n",
       "    <tr>\n",
       "      <th>26</th>\n",
       "      <td>41984</td>\n",
       "      <td>4509.308456</td>\n",
       "      <td>2705</td>\n",
       "    </tr>\n",
       "    <tr>\n",
       "      <th>27</th>\n",
       "      <td>41995</td>\n",
       "      <td>4510.489876</td>\n",
       "      <td>1083</td>\n",
       "    </tr>\n",
       "    <tr>\n",
       "      <th>28</th>\n",
       "      <td>42006</td>\n",
       "      <td>4511.669113</td>\n",
       "      <td>1219</td>\n",
       "    </tr>\n",
       "    <tr>\n",
       "      <th>29</th>\n",
       "      <td>42017</td>\n",
       "      <td>4512.850903</td>\n",
       "      <td>537</td>\n",
       "    </tr>\n",
       "    <tr>\n",
       "      <th>30</th>\n",
       "      <td>42028</td>\n",
       "      <td>4514.032183</td>\n",
       "      <td>228</td>\n",
       "    </tr>\n",
       "    <tr>\n",
       "      <th>31</th>\n",
       "      <td>42039</td>\n",
       "      <td>4515.213913</td>\n",
       "      <td>1133</td>\n",
       "    </tr>\n",
       "    <tr>\n",
       "      <th>32</th>\n",
       "      <td>42050</td>\n",
       "      <td>4516.395450</td>\n",
       "      <td>330</td>\n",
       "    </tr>\n",
       "    <tr>\n",
       "      <th>33</th>\n",
       "      <td>42061</td>\n",
       "      <td>4517.574495</td>\n",
       "      <td>303</td>\n",
       "    </tr>\n",
       "    <tr>\n",
       "      <th>34</th>\n",
       "      <td>42072</td>\n",
       "      <td>4518.753401</td>\n",
       "      <td>378</td>\n",
       "    </tr>\n",
       "    <tr>\n",
       "      <th>35</th>\n",
       "      <td>42094</td>\n",
       "      <td>4521.114647</td>\n",
       "      <td>380</td>\n",
       "    </tr>\n",
       "  </tbody>\n",
       "</table>\n",
       "</div>"
      ],
      "text/plain": [
       "    frame_id  retention_time_secs  intensity\n",
       "0      41544          4462.064699         48\n",
       "1      41555          4463.244902         97\n",
       "2      41577          4465.608514        157\n",
       "3      41588          4466.791048        119\n",
       "4      41687          4477.407621        154\n",
       "5      41753          4484.495019        166\n",
       "6      41764          4485.676983         98\n",
       "7      41775          4486.857597         85\n",
       "8      41786          4488.034919        505\n",
       "9      41797          4489.217368       1408\n",
       "10     41808          4490.399128       2968\n",
       "11     41819          4491.584403       6313\n",
       "12     41830          4492.767718      13130\n",
       "13     41841          4493.947549       8737\n",
       "14     41852          4495.130174      25428\n",
       "15     41863          4496.307867       6488\n",
       "16     41874          4497.488806      24997\n",
       "17     41885          4498.668742       2452\n",
       "18     41896          4499.851856       1441\n",
       "19     41907          4501.031480       2694\n",
       "20     41918          4502.216294       2745\n",
       "21     41929          4503.398299       6422\n",
       "22     41940          4504.581118      20207\n",
       "23     41951          4505.763663      11766\n",
       "24     41962          4506.949030       6446\n",
       "25     41973          4508.129040       5773\n",
       "26     41984          4509.308456       2705\n",
       "27     41995          4510.489876       1083\n",
       "28     42006          4511.669113       1219\n",
       "29     42017          4512.850903        537\n",
       "30     42028          4514.032183        228\n",
       "31     42039          4515.213913       1133\n",
       "32     42050          4516.395450        330\n",
       "33     42061          4517.574495        303\n",
       "34     42072          4518.753401        378\n",
       "35     42094          4521.114647        380"
      ]
     },
     "execution_count": 765,
     "metadata": {},
     "output_type": "execute_result"
    }
   ],
   "source": [
    "rt_df = monoisotopic_raw_points_df.groupby(['frame_id','retention_time_secs'], as_index=False).intensity.sum()\n",
    "rt_df"
   ]
  },
  {
   "cell_type": "code",
   "execution_count": 766,
   "metadata": {
    "scrolled": true
   },
   "outputs": [
    {
     "data": {
      "image/png": "[encoded data removed]",
      "text/plain": [
       "<Figure size 1080x360 with 1 Axes>"
      ]
     },
     "metadata": {
      "needs_background": "light"
     },
     "output_type": "display_data"
    }
   ],
   "source": [
    "f, ax = plt.subplots()\n",
    "ax.plot(rt_df.retention_time_secs, rt_df.intensity, marker='o', color='green', linestyle='-', ms=5)\n",
    "plt.legend(loc='best')\n",
    "plt.xlabel('RT secs')\n",
    "plt.ylabel('intensity')\n",
    "f.set_figheight(5)\n",
    "f.set_figwidth(15)\n",
    "plt.suptitle('Raw points summed by frame for precursor ID {}'.format(precursor_id))\n",
    "plt.title('for base peak width in RT of {} secs'.format(RT_BASE_PEAK_WIDTH_SECS))\n",
    "plt.margins(0.06)\n",
    "plt.show()"
   ]
  },
  {
   "cell_type": "markdown",
   "metadata": {},
   "source": [
    "Collapsing the summed points onto the mobility dimension"
   ]
  },
  {
   "cell_type": "code",
   "execution_count": 767,
   "metadata": {
    "scrolled": true
   },
   "outputs": [
    {
     "data": {
      "text/html": [
       "<div>\n",
       "<style scoped>\n",
       "    .dataframe tbody tr th:only-of-type {\n",
       "        vertical-align: middle;\n",
       "    }\n",
       "\n",
       "    .dataframe tbody tr th {\n",
       "        vertical-align: top;\n",
       "    }\n",
       "\n",
       "    .dataframe thead th {\n",
       "        text-align: right;\n",
       "    }\n",
       "</style>\n",
       "<table border=\"1\" class=\"dataframe\">\n",
       "  <thead>\n",
       "    <tr style=\"text-align: right;\">\n",
       "      <th></th>\n",
       "      <th>scan</th>\n",
       "      <th>intensity</th>\n",
       "    </tr>\n",
       "  </thead>\n",
       "  <tbody>\n",
       "    <tr>\n",
       "      <th>0</th>\n",
       "      <td>669</td>\n",
       "      <td>2314</td>\n",
       "    </tr>\n",
       "    <tr>\n",
       "      <th>1</th>\n",
       "      <td>670</td>\n",
       "      <td>1528</td>\n",
       "    </tr>\n",
       "    <tr>\n",
       "      <th>2</th>\n",
       "      <td>671</td>\n",
       "      <td>1397</td>\n",
       "    </tr>\n",
       "    <tr>\n",
       "      <th>3</th>\n",
       "      <td>672</td>\n",
       "      <td>2394</td>\n",
       "    </tr>\n",
       "    <tr>\n",
       "      <th>4</th>\n",
       "      <td>673</td>\n",
       "      <td>2921</td>\n",
       "    </tr>\n",
       "    <tr>\n",
       "      <th>5</th>\n",
       "      <td>674</td>\n",
       "      <td>3753</td>\n",
       "    </tr>\n",
       "    <tr>\n",
       "      <th>6</th>\n",
       "      <td>675</td>\n",
       "      <td>1768</td>\n",
       "    </tr>\n",
       "    <tr>\n",
       "      <th>7</th>\n",
       "      <td>676</td>\n",
       "      <td>4553</td>\n",
       "    </tr>\n",
       "    <tr>\n",
       "      <th>8</th>\n",
       "      <td>677</td>\n",
       "      <td>3017</td>\n",
       "    </tr>\n",
       "    <tr>\n",
       "      <th>9</th>\n",
       "      <td>678</td>\n",
       "      <td>7480</td>\n",
       "    </tr>\n",
       "    <tr>\n",
       "      <th>10</th>\n",
       "      <td>679</td>\n",
       "      <td>6345</td>\n",
       "    </tr>\n",
       "    <tr>\n",
       "      <th>11</th>\n",
       "      <td>680</td>\n",
       "      <td>7933</td>\n",
       "    </tr>\n",
       "    <tr>\n",
       "      <th>12</th>\n",
       "      <td>681</td>\n",
       "      <td>9422</td>\n",
       "    </tr>\n",
       "    <tr>\n",
       "      <th>13</th>\n",
       "      <td>682</td>\n",
       "      <td>4935</td>\n",
       "    </tr>\n",
       "    <tr>\n",
       "      <th>14</th>\n",
       "      <td>683</td>\n",
       "      <td>9603</td>\n",
       "    </tr>\n",
       "    <tr>\n",
       "      <th>15</th>\n",
       "      <td>684</td>\n",
       "      <td>6317</td>\n",
       "    </tr>\n",
       "    <tr>\n",
       "      <th>16</th>\n",
       "      <td>685</td>\n",
       "      <td>8699</td>\n",
       "    </tr>\n",
       "    <tr>\n",
       "      <th>17</th>\n",
       "      <td>686</td>\n",
       "      <td>5780</td>\n",
       "    </tr>\n",
       "    <tr>\n",
       "      <th>18</th>\n",
       "      <td>687</td>\n",
       "      <td>9644</td>\n",
       "    </tr>\n",
       "    <tr>\n",
       "      <th>19</th>\n",
       "      <td>688</td>\n",
       "      <td>11441</td>\n",
       "    </tr>\n",
       "    <tr>\n",
       "      <th>20</th>\n",
       "      <td>689</td>\n",
       "      <td>6715</td>\n",
       "    </tr>\n",
       "    <tr>\n",
       "      <th>21</th>\n",
       "      <td>690</td>\n",
       "      <td>6921</td>\n",
       "    </tr>\n",
       "    <tr>\n",
       "      <th>22</th>\n",
       "      <td>691</td>\n",
       "      <td>4322</td>\n",
       "    </tr>\n",
       "    <tr>\n",
       "      <th>23</th>\n",
       "      <td>692</td>\n",
       "      <td>8698</td>\n",
       "    </tr>\n",
       "    <tr>\n",
       "      <th>24</th>\n",
       "      <td>693</td>\n",
       "      <td>13346</td>\n",
       "    </tr>\n",
       "    <tr>\n",
       "      <th>25</th>\n",
       "      <td>694</td>\n",
       "      <td>7894</td>\n",
       "    </tr>\n",
       "  </tbody>\n",
       "</table>\n",
       "</div>"
      ],
      "text/plain": [
       "    scan  intensity\n",
       "0    669       2314\n",
       "1    670       1528\n",
       "2    671       1397\n",
       "3    672       2394\n",
       "4    673       2921\n",
       "5    674       3753\n",
       "6    675       1768\n",
       "7    676       4553\n",
       "8    677       3017\n",
       "9    678       7480\n",
       "10   679       6345\n",
       "11   680       7933\n",
       "12   681       9422\n",
       "13   682       4935\n",
       "14   683       9603\n",
       "15   684       6317\n",
       "16   685       8699\n",
       "17   686       5780\n",
       "18   687       9644\n",
       "19   688      11441\n",
       "20   689       6715\n",
       "21   690       6921\n",
       "22   691       4322\n",
       "23   692       8698\n",
       "24   693      13346\n",
       "25   694       7894"
      ]
     },
     "execution_count": 767,
     "metadata": {},
     "output_type": "execute_result"
    }
   ],
   "source": [
    "scan_df = monoisotopic_raw_points_df.groupby(['scan'], as_index=False).intensity.sum()\n",
    "scan_df"
   ]
  },
  {
   "cell_type": "code",
   "execution_count": 768,
   "metadata": {},
   "outputs": [
    {
     "data": {
      "image/png": "[encoded data removed]",
      "text/plain": [
       "<Figure size 1080x360 with 1 Axes>"
      ]
     },
     "metadata": {
      "needs_background": "light"
     },
     "output_type": "display_data"
    }
   ],
   "source": [
    "f, ax = plt.subplots()\n",
    "ax.plot(scan_df.scan, scan_df.intensity, marker='o', color='green', linestyle='-', ms=5)\n",
    "plt.legend(loc='best')\n",
    "plt.xlabel('scan')\n",
    "plt.ylabel('intensity')\n",
    "f.set_figheight(5)\n",
    "f.set_figwidth(15)\n",
    "plt.suptitle('Raw points summed by scan for precursor ID {}'.format(precursor_id))\n",
    "# plt.title('RT width {} secs'.format(2*RT_BASE_PEAK_WIDTH_SECS))\n",
    "plt.margins(0.06)\n",
    "plt.show()"
   ]
  },
  {
   "cell_type": "code",
   "execution_count": null,
   "metadata": {},
   "outputs": [],
   "source": []
  }
 ],
 "metadata": {
  "kernelspec": {
   "display_name": "Python 3",
   "language": "python",
   "name": "python3"
  },
  "language_info": {
   "codemirror_mode": {
    "name": "ipython",
    "version": 3
   },
   "file_extension": ".py",
   "mimetype": "text/x-python",
   "name": "python",
   "nbconvert_exporter": "python",
   "pygments_lexer": "ipython3",
   "version": "3.6.7"
  }
 },
 "nbformat": 4,
 "nbformat_minor": 2
}
