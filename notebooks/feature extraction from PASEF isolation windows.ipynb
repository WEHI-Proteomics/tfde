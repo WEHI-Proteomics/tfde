{
 "cells": [
  {
   "cell_type": "code",
   "execution_count": 591,
   "metadata": {},
   "outputs": [],
   "source": [
    "import sqlite3\n",
    "import pandas as pd\n",
    "import numpy as np\n",
    "import sys\n",
    "import matplotlib.pyplot as plt"
   ]
  },
  {
   "cell_type": "code",
   "execution_count": 592,
   "metadata": {},
   "outputs": [],
   "source": [
    "RT_LIMIT_LOWER = 4340  # RT range in the database\n",
    "RT_LIMIT_UPPER = 4580\n",
    "RT_BASE_PEAK_WIDTH_SECS = 30.0  # assumption about base peak width in RT\n",
    "RT_FRAGMENT_EVENT_DELTA_SECS = 3.5  # use this window for constraining RT to focus on the fragmentation event\n",
    "MS1_CE = 10"
   ]
  },
  {
   "cell_type": "code",
   "execution_count": 593,
   "metadata": {},
   "outputs": [],
   "source": [
    "BASE_NAME = \"/Users/darylwilding-mcbride/Downloads/HeLa_20KInt-rt-{}-{}\".format(RT_LIMIT_LOWER,RT_LIMIT_UPPER)\n",
    "BASE_MAXQUANT_TXT_DIR = '/Users/darylwilding-mcbride/Downloads/maxquant_results/txt'\n",
    "ALLPEPTIDES_FILENAME = '{}/allPeptides.txt'.format(BASE_MAXQUANT_TXT_DIR)\n",
    "PASEF_MSMS_SCANS_FILENAME = '{}/pasefMsmsScans.txt'.format(BASE_MAXQUANT_TXT_DIR)\n",
    "\n",
    "# BASE_NAME = \"/home/ubuntu/HeLa_20KInt-rt-{}-{}\".format(RT_LIMIT_LOWER,RT_LIMIT_UPPER)\n",
    "# ALLPEPTIDES_FILENAME = '/home/ubuntu/maxquant_results/txt/allPeptides.txt'\n",
    "\n",
    "CONVERTED_DATABASE_NAME = '{}/HeLa_20KInt.sqlite'.format(BASE_NAME)"
   ]
  },
  {
   "cell_type": "code",
   "execution_count": 594,
   "metadata": {},
   "outputs": [
    {
     "data": {
      "text/plain": [
       "'/Users/darylwilding-mcbride/Downloads/HeLa_20KInt-rt-4340-4580/HeLa_20KInt.sqlite'"
      ]
     },
     "execution_count": 594,
     "metadata": {},
     "output_type": "execute_result"
    }
   ],
   "source": [
    "CONVERTED_DATABASE_NAME"
   ]
  },
  {
   "cell_type": "code",
   "execution_count": 595,
   "metadata": {},
   "outputs": [],
   "source": [
    "db_conn = sqlite3.connect(CONVERTED_DATABASE_NAME)\n",
    "ms1_frame_properties_df = pd.read_sql_query(\"select frame_id,retention_time_secs from frame_properties where retention_time_secs >= {} and retention_time_secs <= {} and collision_energy == {}\".format(RT_LIMIT_LOWER,RT_LIMIT_UPPER,MS1_CE), db_conn)\n",
    "ms2_frame_properties_df = pd.read_sql_query(\"select frame_id,retention_time_secs from frame_properties where retention_time_secs >= {} and retention_time_secs <= {} and collision_energy <> {}\".format(RT_LIMIT_LOWER,RT_LIMIT_UPPER,MS1_CE), db_conn)\n",
    "db_conn.close()"
   ]
  },
  {
   "cell_type": "code",
   "execution_count": 596,
   "metadata": {},
   "outputs": [
    {
     "data": {
      "text/html": [
       "<div>\n",
       "<style scoped>\n",
       "    .dataframe tbody tr th:only-of-type {\n",
       "        vertical-align: middle;\n",
       "    }\n",
       "\n",
       "    .dataframe tbody tr th {\n",
       "        vertical-align: top;\n",
       "    }\n",
       "\n",
       "    .dataframe thead th {\n",
       "        text-align: right;\n",
       "    }\n",
       "</style>\n",
       "<table border=\"1\" class=\"dataframe\">\n",
       "  <thead>\n",
       "    <tr style=\"text-align: right;\">\n",
       "      <th></th>\n",
       "      <th>frame_id</th>\n",
       "      <th>retention_time_secs</th>\n",
       "    </tr>\n",
       "  </thead>\n",
       "  <tbody>\n",
       "    <tr>\n",
       "      <th>0</th>\n",
       "      <td>40411</td>\n",
       "      <td>4340.340330</td>\n",
       "    </tr>\n",
       "    <tr>\n",
       "      <th>1</th>\n",
       "      <td>40422</td>\n",
       "      <td>4341.521415</td>\n",
       "    </tr>\n",
       "    <tr>\n",
       "      <th>2</th>\n",
       "      <td>40433</td>\n",
       "      <td>4342.702923</td>\n",
       "    </tr>\n",
       "    <tr>\n",
       "      <th>3</th>\n",
       "      <td>40444</td>\n",
       "      <td>4343.883324</td>\n",
       "    </tr>\n",
       "    <tr>\n",
       "      <th>4</th>\n",
       "      <td>40455</td>\n",
       "      <td>4345.067491</td>\n",
       "    </tr>\n",
       "  </tbody>\n",
       "</table>\n",
       "</div>"
      ],
      "text/plain": [
       "   frame_id  retention_time_secs\n",
       "0     40411          4340.340330\n",
       "1     40422          4341.521415\n",
       "2     40433          4342.702923\n",
       "3     40444          4343.883324\n",
       "4     40455          4345.067491"
      ]
     },
     "execution_count": 596,
     "metadata": {},
     "output_type": "execute_result"
    }
   ],
   "source": [
    "ms1_frame_properties_df.head()"
   ]
  },
  {
   "cell_type": "code",
   "execution_count": 597,
   "metadata": {},
   "outputs": [
    {
     "data": {
      "text/html": [
       "<div>\n",
       "<style scoped>\n",
       "    .dataframe tbody tr th:only-of-type {\n",
       "        vertical-align: middle;\n",
       "    }\n",
       "\n",
       "    .dataframe tbody tr th {\n",
       "        vertical-align: top;\n",
       "    }\n",
       "\n",
       "    .dataframe thead th {\n",
       "        text-align: right;\n",
       "    }\n",
       "</style>\n",
       "<table border=\"1\" class=\"dataframe\">\n",
       "  <thead>\n",
       "    <tr style=\"text-align: right;\">\n",
       "      <th></th>\n",
       "      <th>frame_id</th>\n",
       "      <th>retention_time_secs</th>\n",
       "    </tr>\n",
       "  </thead>\n",
       "  <tbody>\n",
       "    <tr>\n",
       "      <th>0</th>\n",
       "      <td>40408</td>\n",
       "      <td>4340.019894</td>\n",
       "    </tr>\n",
       "    <tr>\n",
       "      <th>1</th>\n",
       "      <td>40409</td>\n",
       "      <td>4340.127084</td>\n",
       "    </tr>\n",
       "    <tr>\n",
       "      <th>2</th>\n",
       "      <td>40410</td>\n",
       "      <td>4340.233855</td>\n",
       "    </tr>\n",
       "    <tr>\n",
       "      <th>3</th>\n",
       "      <td>40412</td>\n",
       "      <td>4340.446655</td>\n",
       "    </tr>\n",
       "    <tr>\n",
       "      <th>4</th>\n",
       "      <td>40413</td>\n",
       "      <td>4340.554812</td>\n",
       "    </tr>\n",
       "  </tbody>\n",
       "</table>\n",
       "</div>"
      ],
      "text/plain": [
       "   frame_id  retention_time_secs\n",
       "0     40408          4340.019894\n",
       "1     40409          4340.127084\n",
       "2     40410          4340.233855\n",
       "3     40412          4340.446655\n",
       "4     40413          4340.554812"
      ]
     },
     "execution_count": 597,
     "metadata": {},
     "output_type": "execute_result"
    }
   ],
   "source": [
    "ms2_frame_properties_df.head()"
   ]
  },
  {
   "cell_type": "code",
   "execution_count": 598,
   "metadata": {},
   "outputs": [
    {
     "data": {
      "text/plain": [
       "1.1810854877303427"
      ]
     },
     "execution_count": 598,
     "metadata": {},
     "output_type": "execute_result"
    }
   ],
   "source": [
    "ms1_frame_delay = ms1_frame_properties_df.iloc[1].retention_time_secs - ms1_frame_properties_df.iloc[0].retention_time_secs\n",
    "ms1_frame_delay"
   ]
  },
  {
   "cell_type": "code",
   "execution_count": 599,
   "metadata": {},
   "outputs": [
    {
     "data": {
      "text/plain": [
       "203"
      ]
     },
     "execution_count": 599,
     "metadata": {},
     "output_type": "execute_result"
    }
   ],
   "source": [
    "len(ms1_frame_properties_df)"
   ]
  },
  {
   "cell_type": "code",
   "execution_count": 600,
   "metadata": {},
   "outputs": [],
   "source": [
    "# get all the isolation windows\n",
    "isolation_window_df = pd.read_pickle('/Users/darylwilding-mcbride/Downloads/isolation_window_df.pkl')"
   ]
  },
  {
   "cell_type": "code",
   "execution_count": 601,
   "metadata": {},
   "outputs": [
    {
     "data": {
      "text/html": [
       "<div>\n",
       "<style scoped>\n",
       "    .dataframe tbody tr th:only-of-type {\n",
       "        vertical-align: middle;\n",
       "    }\n",
       "\n",
       "    .dataframe tbody tr th {\n",
       "        vertical-align: top;\n",
       "    }\n",
       "\n",
       "    .dataframe thead th {\n",
       "        text-align: right;\n",
       "    }\n",
       "</style>\n",
       "<table border=\"1\" class=\"dataframe\">\n",
       "  <thead>\n",
       "    <tr style=\"text-align: right;\">\n",
       "      <th></th>\n",
       "      <th>Frame</th>\n",
       "      <th>ScanNumBegin</th>\n",
       "      <th>ScanNumEnd</th>\n",
       "      <th>IsolationMz</th>\n",
       "      <th>IsolationWidth</th>\n",
       "      <th>CollisionEnergy</th>\n",
       "      <th>Precursor</th>\n",
       "    </tr>\n",
       "  </thead>\n",
       "  <tbody>\n",
       "    <tr>\n",
       "      <th>0</th>\n",
       "      <td>3</td>\n",
       "      <td>507</td>\n",
       "      <td>532</td>\n",
       "      <td>742.744835</td>\n",
       "      <td>2.427448</td>\n",
       "      <td>36.96</td>\n",
       "      <td>1</td>\n",
       "    </tr>\n",
       "    <tr>\n",
       "      <th>1</th>\n",
       "      <td>3</td>\n",
       "      <td>549</td>\n",
       "      <td>574</td>\n",
       "      <td>709.235759</td>\n",
       "      <td>2.092358</td>\n",
       "      <td>36.96</td>\n",
       "      <td>2</td>\n",
       "    </tr>\n",
       "    <tr>\n",
       "      <th>2</th>\n",
       "      <td>3</td>\n",
       "      <td>602</td>\n",
       "      <td>627</td>\n",
       "      <td>594.235088</td>\n",
       "      <td>2.000000</td>\n",
       "      <td>36.96</td>\n",
       "      <td>3</td>\n",
       "    </tr>\n",
       "    <tr>\n",
       "      <th>3</th>\n",
       "      <td>3</td>\n",
       "      <td>643</td>\n",
       "      <td>668</td>\n",
       "      <td>503.527768</td>\n",
       "      <td>2.000000</td>\n",
       "      <td>36.96</td>\n",
       "      <td>4</td>\n",
       "    </tr>\n",
       "    <tr>\n",
       "      <th>4</th>\n",
       "      <td>3</td>\n",
       "      <td>684</td>\n",
       "      <td>709</td>\n",
       "      <td>552.063870</td>\n",
       "      <td>2.000000</td>\n",
       "      <td>31.92</td>\n",
       "      <td>5</td>\n",
       "    </tr>\n",
       "  </tbody>\n",
       "</table>\n",
       "</div>"
      ],
      "text/plain": [
       "   Frame  ScanNumBegin  ScanNumEnd  IsolationMz  IsolationWidth  \\\n",
       "0      3           507         532   742.744835        2.427448   \n",
       "1      3           549         574   709.235759        2.092358   \n",
       "2      3           602         627   594.235088        2.000000   \n",
       "3      3           643         668   503.527768        2.000000   \n",
       "4      3           684         709   552.063870        2.000000   \n",
       "\n",
       "   CollisionEnergy  Precursor  \n",
       "0            36.96          1  \n",
       "1            36.96          2  \n",
       "2            36.96          3  \n",
       "3            36.96          4  \n",
       "4            31.92          5  "
      ]
     },
     "execution_count": 601,
     "metadata": {},
     "output_type": "execute_result"
    }
   ],
   "source": [
    "isolation_window_df.head()"
   ]
  },
  {
   "cell_type": "code",
   "execution_count": 602,
   "metadata": {},
   "outputs": [],
   "source": [
    "# add-in the retention time for the isolation windows and filter out the window not in range\n",
    "isolation_window_df = pd.merge(isolation_window_df, ms2_frame_properties_df, how='left', left_on=['Frame'], right_on=['frame_id'])\n",
    "isolation_window_df.drop(['frame_id', 'CollisionEnergy'], axis=1, inplace=True)\n",
    "isolation_window_df.dropna(subset=['retention_time_secs'], inplace=True)\n",
    "isolation_window_df['mz_lower'] = isolation_window_df.IsolationMz - (isolation_window_df.IsolationWidth / 2)\n",
    "isolation_window_df['mz_upper'] = isolation_window_df.IsolationMz + (isolation_window_df.IsolationWidth / 2)\n",
    "isolation_window_df['wide_rt_lower'] = isolation_window_df.retention_time_secs - RT_BASE_PEAK_WIDTH_SECS\n",
    "isolation_window_df['wide_rt_upper'] = isolation_window_df.retention_time_secs + RT_BASE_PEAK_WIDTH_SECS\n",
    "isolation_window_df['fe_rt_lower'] = isolation_window_df.retention_time_secs - RT_FRAGMENT_EVENT_DELTA_SECS\n",
    "isolation_window_df['fe_rt_upper'] = isolation_window_df.retention_time_secs + RT_FRAGMENT_EVENT_DELTA_SECS"
   ]
  },
  {
   "cell_type": "code",
   "execution_count": 603,
   "metadata": {},
   "outputs": [],
   "source": [
    "# filter out isolation windows that don't fit in the database subset we have loaded\n",
    "isolation_window_df = isolation_window_df[(isolation_window_df.wide_rt_lower >= RT_LIMIT_LOWER) & (isolation_window_df.wide_rt_upper <= RT_LIMIT_UPPER)]"
   ]
  },
  {
   "cell_type": "code",
   "execution_count": 604,
   "metadata": {},
   "outputs": [
    {
     "data": {
      "text/html": [
       "<div>\n",
       "<style scoped>\n",
       "    .dataframe tbody tr th:only-of-type {\n",
       "        vertical-align: middle;\n",
       "    }\n",
       "\n",
       "    .dataframe tbody tr th {\n",
       "        vertical-align: top;\n",
       "    }\n",
       "\n",
       "    .dataframe thead th {\n",
       "        text-align: right;\n",
       "    }\n",
       "</style>\n",
       "<table border=\"1\" class=\"dataframe\">\n",
       "  <thead>\n",
       "    <tr style=\"text-align: right;\">\n",
       "      <th></th>\n",
       "      <th>Frame</th>\n",
       "      <th>ScanNumBegin</th>\n",
       "      <th>ScanNumEnd</th>\n",
       "      <th>IsolationMz</th>\n",
       "      <th>IsolationWidth</th>\n",
       "      <th>Precursor</th>\n",
       "      <th>retention_time_secs</th>\n",
       "      <th>mz_lower</th>\n",
       "      <th>mz_upper</th>\n",
       "      <th>wide_rt_lower</th>\n",
       "      <th>wide_rt_upper</th>\n",
       "      <th>fe_rt_lower</th>\n",
       "      <th>fe_rt_upper</th>\n",
       "    </tr>\n",
       "  </thead>\n",
       "  <tbody>\n",
       "    <tr>\n",
       "      <th>315657</th>\n",
       "      <td>40688</td>\n",
       "      <td>219</td>\n",
       "      <td>244</td>\n",
       "      <td>1106.675230</td>\n",
       "      <td>3.0</td>\n",
       "      <td>148941</td>\n",
       "      <td>4370.101926</td>\n",
       "      <td>1105.175230</td>\n",
       "      <td>1108.175230</td>\n",
       "      <td>4340.101926</td>\n",
       "      <td>4400.101926</td>\n",
       "      <td>4366.601926</td>\n",
       "      <td>4373.601926</td>\n",
       "    </tr>\n",
       "    <tr>\n",
       "      <th>315658</th>\n",
       "      <td>40688</td>\n",
       "      <td>287</td>\n",
       "      <td>312</td>\n",
       "      <td>987.488407</td>\n",
       "      <td>3.0</td>\n",
       "      <td>148938</td>\n",
       "      <td>4370.101926</td>\n",
       "      <td>985.988407</td>\n",
       "      <td>988.988407</td>\n",
       "      <td>4340.101926</td>\n",
       "      <td>4400.101926</td>\n",
       "      <td>4366.601926</td>\n",
       "      <td>4373.601926</td>\n",
       "    </tr>\n",
       "    <tr>\n",
       "      <th>315659</th>\n",
       "      <td>40688</td>\n",
       "      <td>344</td>\n",
       "      <td>369</td>\n",
       "      <td>922.491024</td>\n",
       "      <td>3.0</td>\n",
       "      <td>148930</td>\n",
       "      <td>4370.101926</td>\n",
       "      <td>920.991024</td>\n",
       "      <td>923.991024</td>\n",
       "      <td>4340.101926</td>\n",
       "      <td>4400.101926</td>\n",
       "      <td>4366.601926</td>\n",
       "      <td>4373.601926</td>\n",
       "    </tr>\n",
       "    <tr>\n",
       "      <th>315660</th>\n",
       "      <td>40688</td>\n",
       "      <td>386</td>\n",
       "      <td>411</td>\n",
       "      <td>884.941548</td>\n",
       "      <td>3.0</td>\n",
       "      <td>148942</td>\n",
       "      <td>4370.101926</td>\n",
       "      <td>883.441548</td>\n",
       "      <td>886.441548</td>\n",
       "      <td>4340.101926</td>\n",
       "      <td>4400.101926</td>\n",
       "      <td>4366.601926</td>\n",
       "      <td>4373.601926</td>\n",
       "    </tr>\n",
       "    <tr>\n",
       "      <th>315661</th>\n",
       "      <td>40688</td>\n",
       "      <td>434</td>\n",
       "      <td>459</td>\n",
       "      <td>876.400632</td>\n",
       "      <td>3.0</td>\n",
       "      <td>148943</td>\n",
       "      <td>4370.101926</td>\n",
       "      <td>874.900632</td>\n",
       "      <td>877.900632</td>\n",
       "      <td>4340.101926</td>\n",
       "      <td>4400.101926</td>\n",
       "      <td>4366.601926</td>\n",
       "      <td>4373.601926</td>\n",
       "    </tr>\n",
       "  </tbody>\n",
       "</table>\n",
       "</div>"
      ],
      "text/plain": [
       "        Frame  ScanNumBegin  ScanNumEnd  IsolationMz  IsolationWidth  \\\n",
       "315657  40688           219         244  1106.675230             3.0   \n",
       "315658  40688           287         312   987.488407             3.0   \n",
       "315659  40688           344         369   922.491024             3.0   \n",
       "315660  40688           386         411   884.941548             3.0   \n",
       "315661  40688           434         459   876.400632             3.0   \n",
       "\n",
       "        Precursor  retention_time_secs     mz_lower     mz_upper  \\\n",
       "315657     148941          4370.101926  1105.175230  1108.175230   \n",
       "315658     148938          4370.101926   985.988407   988.988407   \n",
       "315659     148930          4370.101926   920.991024   923.991024   \n",
       "315660     148942          4370.101926   883.441548   886.441548   \n",
       "315661     148943          4370.101926   874.900632   877.900632   \n",
       "\n",
       "        wide_rt_lower  wide_rt_upper  fe_rt_lower  fe_rt_upper  \n",
       "315657    4340.101926    4400.101926  4366.601926  4373.601926  \n",
       "315658    4340.101926    4400.101926  4366.601926  4373.601926  \n",
       "315659    4340.101926    4400.101926  4366.601926  4373.601926  \n",
       "315660    4340.101926    4400.101926  4366.601926  4373.601926  \n",
       "315661    4340.101926    4400.101926  4366.601926  4373.601926  "
      ]
     },
     "execution_count": 604,
     "metadata": {},
     "output_type": "execute_result"
    }
   ],
   "source": [
    "isolation_window_df.head()"
   ]
  },
  {
   "cell_type": "markdown",
   "metadata": {},
   "source": [
    "### Select one of the precursors for analysis"
   ]
  },
  {
   "cell_type": "code",
   "execution_count": 605,
   "metadata": {},
   "outputs": [
    {
     "name": "stdout",
     "output_type": "stream",
     "text": [
      "There are 17860 precursor isolation windows.\n"
     ]
    }
   ],
   "source": [
    "print(\"There are {} precursor isolation windows.\".format(len(isolation_window_df)))"
   ]
  },
  {
   "cell_type": "code",
   "execution_count": 606,
   "metadata": {},
   "outputs": [],
   "source": [
    "# ISOLATION_WINDOW_IDX = 8089\n",
    "# window_df = isolation_window_df.iloc[ISOLATION_WINDOW_IDX]"
   ]
  },
  {
   "cell_type": "code",
   "execution_count": 607,
   "metadata": {},
   "outputs": [],
   "source": [
    "PRECURSOR_ID = 153421\n",
    "window_df = isolation_window_df[isolation_window_df.Precursor == PRECURSOR_ID].iloc[0]"
   ]
  },
  {
   "cell_type": "code",
   "execution_count": 608,
   "metadata": {},
   "outputs": [
    {
     "data": {
      "text/plain": [
       "Frame                   41474.000000\n",
       "ScanNumBegin              462.000000\n",
       "ScanNumEnd                487.000000\n",
       "IsolationMz               860.444362\n",
       "IsolationWidth              3.000000\n",
       "Precursor              153421.000000\n",
       "retention_time_secs      4454.557286\n",
       "mz_lower                  858.944362\n",
       "mz_upper                  861.944362\n",
       "wide_rt_lower            4424.557286\n",
       "wide_rt_upper            4484.557286\n",
       "fe_rt_lower              4451.057286\n",
       "fe_rt_upper              4458.057286\n",
       "Name: 324135, dtype: float64"
      ]
     },
     "execution_count": 608,
     "metadata": {},
     "output_type": "execute_result"
    }
   ],
   "source": [
    "window_df"
   ]
  },
  {
   "cell_type": "code",
   "execution_count": 609,
   "metadata": {},
   "outputs": [],
   "source": [
    "mz_lower = window_df.mz_lower\n",
    "mz_upper = window_df.mz_upper\n",
    "scan_width = int(window_df.ScanNumEnd - window_df.ScanNumBegin)\n",
    "wide_scan_lower = int(window_df.ScanNumBegin - scan_width)\n",
    "wide_scan_upper = int(window_df.ScanNumEnd + scan_width)\n",
    "fe_scan_lower = int(window_df.ScanNumBegin)\n",
    "fe_scan_upper = int(window_df.ScanNumEnd)\n",
    "wide_rt_lower = window_df.wide_rt_lower\n",
    "wide_rt_upper = window_df.wide_rt_upper\n",
    "fe_rt_lower = window_df.fe_rt_lower\n",
    "fe_rt_upper = window_df.fe_rt_upper\n",
    "precursor_id = int(window_df.Precursor)"
   ]
  },
  {
   "cell_type": "code",
   "execution_count": 610,
   "metadata": {},
   "outputs": [],
   "source": [
    "# get the ms1 frame IDs\n",
    "ms1_frame_ids = tuple(ms1_frame_properties_df.astype(int).values[:,0])\n"
   ]
  },
  {
   "cell_type": "code",
   "execution_count": 611,
   "metadata": {},
   "outputs": [],
   "source": [
    "# load the cube's raw ms1 points\n",
    "db_conn = sqlite3.connect(CONVERTED_DATABASE_NAME)\n",
    "ms1_raw_points_df = pd.read_sql_query(\"select frame_id,mz,scan,intensity,retention_time_secs from frames where mz >= {} and mz <= {} and scan >= {} and scan <= {} and retention_time_secs >= {} and retention_time_secs <= {} and frame_id in {}\".format(mz_lower, mz_upper, wide_scan_lower, wide_scan_upper, wide_rt_lower, wide_rt_upper, ms1_frame_ids), db_conn)\n",
    "db_conn.close()"
   ]
  },
  {
   "cell_type": "code",
   "execution_count": 612,
   "metadata": {},
   "outputs": [
    {
     "data": {
      "text/plain": [
       "13118"
      ]
     },
     "execution_count": 612,
     "metadata": {},
     "output_type": "execute_result"
    }
   ],
   "source": [
    "len(ms1_raw_points_df)"
   ]
  },
  {
   "cell_type": "code",
   "execution_count": 613,
   "metadata": {},
   "outputs": [
    {
     "data": {
      "text/plain": [
       "1587"
      ]
     },
     "execution_count": 613,
     "metadata": {},
     "output_type": "execute_result"
    }
   ],
   "source": [
    "ms1_raw_points_df.intensity.max()"
   ]
  },
  {
   "cell_type": "code",
   "execution_count": 614,
   "metadata": {},
   "outputs": [
    {
     "data": {
      "text/html": [
       "<div>\n",
       "<style scoped>\n",
       "    .dataframe tbody tr th:only-of-type {\n",
       "        vertical-align: middle;\n",
       "    }\n",
       "\n",
       "    .dataframe tbody tr th {\n",
       "        vertical-align: top;\n",
       "    }\n",
       "\n",
       "    .dataframe thead th {\n",
       "        text-align: right;\n",
       "    }\n",
       "</style>\n",
       "<table border=\"1\" class=\"dataframe\">\n",
       "  <thead>\n",
       "    <tr style=\"text-align: right;\">\n",
       "      <th></th>\n",
       "      <th>frame_id</th>\n",
       "      <th>mz</th>\n",
       "      <th>scan</th>\n",
       "      <th>intensity</th>\n",
       "      <th>retention_time_secs</th>\n",
       "    </tr>\n",
       "  </thead>\n",
       "  <tbody>\n",
       "    <tr>\n",
       "      <th>0</th>\n",
       "      <td>41203</td>\n",
       "      <td>859.075990</td>\n",
       "      <td>467</td>\n",
       "      <td>45</td>\n",
       "      <td>4425.463095</td>\n",
       "    </tr>\n",
       "    <tr>\n",
       "      <th>1</th>\n",
       "      <td>41203</td>\n",
       "      <td>859.103719</td>\n",
       "      <td>453</td>\n",
       "      <td>64</td>\n",
       "      <td>4425.463095</td>\n",
       "    </tr>\n",
       "    <tr>\n",
       "      <th>2</th>\n",
       "      <td>41203</td>\n",
       "      <td>859.103719</td>\n",
       "      <td>499</td>\n",
       "      <td>97</td>\n",
       "      <td>4425.463095</td>\n",
       "    </tr>\n",
       "    <tr>\n",
       "      <th>3</th>\n",
       "      <td>41203</td>\n",
       "      <td>859.108341</td>\n",
       "      <td>461</td>\n",
       "      <td>56</td>\n",
       "      <td>4425.463095</td>\n",
       "    </tr>\n",
       "    <tr>\n",
       "      <th>4</th>\n",
       "      <td>41203</td>\n",
       "      <td>859.163802</td>\n",
       "      <td>470</td>\n",
       "      <td>21</td>\n",
       "      <td>4425.463095</td>\n",
       "    </tr>\n",
       "  </tbody>\n",
       "</table>\n",
       "</div>"
      ],
      "text/plain": [
       "   frame_id          mz  scan  intensity  retention_time_secs\n",
       "0     41203  859.075990   467         45          4425.463095\n",
       "1     41203  859.103719   453         64          4425.463095\n",
       "2     41203  859.103719   499         97          4425.463095\n",
       "3     41203  859.108341   461         56          4425.463095\n",
       "4     41203  859.163802   470         21          4425.463095"
      ]
     },
     "execution_count": 614,
     "metadata": {},
     "output_type": "execute_result"
    }
   ],
   "source": [
    "ms1_raw_points_df.head()"
   ]
  },
  {
   "cell_type": "code",
   "execution_count": 615,
   "metadata": {},
   "outputs": [],
   "source": [
    "# get the raw points constrained to the fragmentation event's RT\n",
    "fe_raw_points_df = ms1_raw_points_df[(ms1_raw_points_df.retention_time_secs >= fe_rt_lower) & (ms1_raw_points_df.retention_time_secs <= fe_rt_upper)]"
   ]
  },
  {
   "cell_type": "code",
   "execution_count": 616,
   "metadata": {},
   "outputs": [],
   "source": [
    "MZ_BIN_WIDTH = 0.1"
   ]
  },
  {
   "cell_type": "code",
   "execution_count": 617,
   "metadata": {},
   "outputs": [],
   "source": [
    "ms1_bins = np.arange(start=mz_lower, stop=mz_upper+MZ_BIN_WIDTH, step=MZ_BIN_WIDTH)  # go slightly wider to accomodate the maximum value\n"
   ]
  },
  {
   "cell_type": "code",
   "execution_count": 618,
   "metadata": {},
   "outputs": [
    {
     "data": {
      "text/plain": [
       "array([858.9443622, 859.0443622, 859.1443622, 859.2443622, 859.3443622,\n",
       "       859.4443622, 859.5443622, 859.6443622, 859.7443622, 859.8443622,\n",
       "       859.9443622, 860.0443622, 860.1443622, 860.2443622, 860.3443622,\n",
       "       860.4443622, 860.5443622, 860.6443622, 860.7443622, 860.8443622,\n",
       "       860.9443622, 861.0443622, 861.1443622, 861.2443622, 861.3443622,\n",
       "       861.4443622, 861.5443622, 861.6443622, 861.7443622, 861.8443622,\n",
       "       861.9443622, 862.0443622])"
      ]
     },
     "execution_count": 618,
     "metadata": {},
     "output_type": "execute_result"
    }
   ],
   "source": [
    "ms1_bins"
   ]
  },
  {
   "cell_type": "code",
   "execution_count": 619,
   "metadata": {},
   "outputs": [],
   "source": [
    "MZ_BIN_COUNT = len(ms1_bins)"
   ]
  },
  {
   "cell_type": "code",
   "execution_count": 620,
   "metadata": {},
   "outputs": [],
   "source": [
    "# initialise an array of lists to hold the m/z and intensity values allocated to each bin\n",
    "ms1_mz_values_array = np.empty(MZ_BIN_COUNT, dtype=np.object)\n",
    "for idx in range(MZ_BIN_COUNT):\n",
    "    ms1_mz_values_array[idx] = []\n"
   ]
  },
  {
   "cell_type": "code",
   "execution_count": 621,
   "metadata": {},
   "outputs": [
    {
     "name": "stdout",
     "output_type": "stream",
     "text": [
      "CPU times: user 22.1 ms, sys: 5.49 ms, total: 27.6 ms\n",
      "Wall time: 22.8 ms\n"
     ]
    }
   ],
   "source": [
    "%%time\n",
    "\n",
    "# gather the m/z values into bins\n",
    "for r in zip(fe_raw_points_df.mz, fe_raw_points_df.intensity):\n",
    "    mz = r[0]\n",
    "    intensity = int(r[1])\n",
    "    if (mz >= mz_lower) and (mz <= mz_upper): # it should already but just to be sure\n",
    "        mz_array_idx = int(np.digitize(mz, ms1_bins)) # in which bin should this mz go\n",
    "        ms1_mz_values_array[mz_array_idx].append((mz, intensity))"
   ]
  },
  {
   "cell_type": "code",
   "execution_count": 622,
   "metadata": {},
   "outputs": [],
   "source": [
    "import peakutils"
   ]
  },
  {
   "cell_type": "code",
   "execution_count": 623,
   "metadata": {},
   "outputs": [
    {
     "name": "stdout",
     "output_type": "stream",
     "text": [
      "CPU times: user 4.28 ms, sys: 1.67 ms, total: 5.95 ms\n",
      "Wall time: 5.16 ms\n"
     ]
    }
   ],
   "source": [
    "%%time\n",
    "\n",
    "# compute the intensity-weighted m/z centroid and the summed intensity of the bins\n",
    "ms1_peaks = []\n",
    "for bin_idx in range(MZ_BIN_COUNT):\n",
    "    if len(ms1_mz_values_array[bin_idx]) > 0:\n",
    "        mz_values_for_bin = np.array([ list[0] for list in ms1_mz_values_array[bin_idx]])\n",
    "        intensity_values_for_bin = np.array([ list[1] for list in ms1_mz_values_array[bin_idx]]).astype(int)\n",
    "        mz_centroid = peakutils.centroid(mz_values_for_bin, intensity_values_for_bin)\n",
    "        summed_intensity = intensity_values_for_bin.sum()\n",
    "        ms1_peaks.append((mz_centroid,summed_intensity))"
   ]
  },
  {
   "cell_type": "code",
   "execution_count": 624,
   "metadata": {},
   "outputs": [
    {
     "data": {
      "text/plain": [
       "[(858.9516466447012, 9940),\n",
       " (859.1208940486085, 8079),\n",
       " (859.1821062969926, 6982),\n",
       " (859.2946312248371, 2543),\n",
       " (859.4361960156403, 224788),\n",
       " (859.4490209647806, 31453),\n",
       " (859.6091632864104, 1429),\n",
       " (859.6853834084554, 4604),\n",
       " (859.7967688411497, 3364),\n",
       " (859.935393496842, 94665),\n",
       " (859.9472638620093, 42416),\n",
       " (860.1060037938984, 1260),\n",
       " (860.1913913896184, 916),\n",
       " (860.2983399986923, 1171),\n",
       " (860.4299517267889, 30129),\n",
       " (860.4482722652153, 24693),\n",
       " (860.6230286298403, 780),\n",
       " (860.7045773307269, 1005),\n",
       " (860.7701657549426, 3646),\n",
       " (860.9285217216856, 12664),\n",
       " (860.9605445323161, 6053),\n",
       " (861.0900519372763, 2870),\n",
       " (861.2006988183343, 454),\n",
       " (861.3011943777786, 379),\n",
       " (861.4159109889537, 6407),\n",
       " (861.4555748531699, 1900),\n",
       " (861.5979309210318, 934),\n",
       " (861.6800378620966, 1625),\n",
       " (861.7862292425392, 1039),\n",
       " (861.9130892020266, 5259)]"
      ]
     },
     "execution_count": 624,
     "metadata": {},
     "output_type": "execute_result"
    }
   ],
   "source": [
    "ms1_peaks"
   ]
  },
  {
   "cell_type": "code",
   "execution_count": 625,
   "metadata": {},
   "outputs": [],
   "source": [
    "ms1_peaks_df = pd.DataFrame(ms1_peaks, columns=['mz_centroid','summed_intensity'])"
   ]
  },
  {
   "cell_type": "code",
   "execution_count": 626,
   "metadata": {},
   "outputs": [
    {
     "data": {
      "image/png": "[encoded data removed]",
      "text/plain": [
       "<Figure size 1080x360 with 1 Axes>"
      ]
     },
     "metadata": {
      "needs_background": "light"
     },
     "output_type": "display_data"
    }
   ],
   "source": [
    "f, ax = plt.subplots()\n",
    "colors = ['tab:blue', 'tab:orange', 'tab:green', 'tab:red', 'tab:purple', 'tab:brown', 'tab:pink', 'tab:gray', 'tab:olive', 'tab:cyan']\n",
    "markerline, stemlines, baseline = ax.stem(ms1_peaks_df.mz_centroid, ms1_peaks_df.summed_intensity, 'g')\n",
    "plt.setp(markerline, 'color', colors[2])\n",
    "plt.setp(stemlines, 'color', colors[2])\n",
    "plt.setp(baseline, 'color', colors[7])\n",
    "plt.xlabel('binned m/z')\n",
    "plt.ylabel('intensity')\n",
    "f.set_figheight(5)\n",
    "f.set_figwidth(15)\n",
    "plt.margins(0.06)\n",
    "plt.suptitle('Raw points centroided and summed by m/z bin for precursor ID {}'.format(precursor_id))\n",
    "plt.title('m/z bin width {} Th, narrow RT (FE +/- {} secs), wide mobility (FE +/- precursor scan width)'.format(MZ_BIN_WIDTH, RT_FRAGMENT_EVENT_DELTA_SECS))\n",
    "plt.show()"
   ]
  },
  {
   "cell_type": "markdown",
   "metadata": {},
   "source": [
    "### Deconvolute the raw (bin-summed, centroided) peaks to find monoisotopic peaks"
   ]
  },
  {
   "cell_type": "code",
   "execution_count": 627,
   "metadata": {},
   "outputs": [],
   "source": [
    "PROTON_MASS = 1.0073  # Mass of a proton in unified atomic mass units, or Da. For calculating the monoisotopic mass.\n"
   ]
  },
  {
   "cell_type": "code",
   "execution_count": 628,
   "metadata": {},
   "outputs": [],
   "source": [
    "from ms_deisotope import deconvolute_peaks, averagine, scoring"
   ]
  },
  {
   "cell_type": "code",
   "execution_count": 629,
   "metadata": {},
   "outputs": [
    {
     "name": "stdout",
     "output_type": "stream",
     "text": [
      "CPU times: user 20.8 ms, sys: 362 µs, total: 21.2 ms\n",
      "Wall time: 21.2 ms\n"
     ]
    }
   ],
   "source": [
    "%%time\n",
    "\n",
    "# see https://github.com/mobiusklein/ms_deisotope/blob/ee4b083ad7ab5f77722860ce2d6fdb751886271e/ms_deisotope/deconvolution/api.py#L17\n",
    "deconvoluted_peaks, _priority_targets = deconvolute_peaks(ms1_peaks, averagine=averagine.peptide, charge_range=(1,5), scorer=scoring.MSDeconVFitter(10.0), truncate_after=0.95)"
   ]
  },
  {
   "cell_type": "code",
   "execution_count": 630,
   "metadata": {},
   "outputs": [
    {
     "name": "stdout",
     "output_type": "stream",
     "text": [
      "DeconvolutedPeak(a_to_a2_ratio=7.818466700420237, area=4685.0, average_mass=860.2709210319708, charge=1, chosen_for_msms=False, envelope=[(860.7702, 3646.00), (861.7862, 1039.00), (862.7756, 1.00)], full_width_at_half_max=0.01, index=2|7, intensity=4685.0, most_abundant_mass=859.7628892881726, mz=860.7701657549426, neutral_mass=859.7628892881726, score=57.375259102244875, signal_to_noise=2342.5)\n",
      "\n",
      "DeconvolutedPeak(a_to_a2_ratio=1.930499203014767, area=359522.0, average_mass=1717.3620410084463, charge=2, chosen_for_msms=False, envelope=[(858.9516, 9940.00), (859.4362, 224788.00), (859.9354, 94665.00), (860.4300, 30129.00)], full_width_at_half_max=0.01, index=3|0, intensity=359522.0, most_abundant_mass=1716.8578390977407, mz=858.9345185967403, neutral_mass=1715.8544842599406, score=574.1427980607958, signal_to_noise=89880.5)\n",
      "\n",
      "DeconvolutedPeak(a_to_a2_ratio=1.9304992030147672, area=12502.0, average_mass=1717.3580344631707, charge=2, chosen_for_msms=False, envelope=[(859.1821, 6982.00), (859.6854, 4604.00), (860.1914, 916.00), (860.6869, 1.00)], full_width_at_half_max=0.01, index=4|2, intensity=12502.0, most_abundant_mass=1716.3496596604452, mz=859.1837059895554, neutral_mass=1716.3528590455708, score=115.22398012922451, signal_to_noise=4167.333333333333)\n",
      "\n",
      "DeconvolutedPeak(a_to_a2_ratio=1.9304992030147672, area=7078.0, average_mass=1717.5786071095795, charge=2, chosen_for_msms=False, envelope=[(859.2946, 2543.00), (859.7968, 3364.00), (860.2983, 1171.00), (860.7983, 1.00)], full_width_at_half_max=0.01, index=5|3, intensity=7078.0, most_abundant_mass=1717.5789847487595, mz=859.2950914222497, neutral_mass=1716.5756299109594, score=119.27330318148402, signal_to_noise=2359.3333333333335)\n",
      "\n",
      "DeconvolutedPeak(a_to_a2_ratio=1.9304992030147672, area=104615.0, average_mass=1718.3879978786208, charge=2, chosen_for_msms=False, envelope=[(859.4490, 31453.00), (859.9473, 42416.00), (860.4483, 24693.00), (860.9605, 6053.00)], full_width_at_half_max=0.01, index=6|5, intensity=104615.0, most_abundant_mass=1717.8799747904786, mz=859.4455864431093, neutral_mass=1716.8766199526785, score=448.5239292560219, signal_to_noise=26153.75)\n",
      "\n",
      "DeconvolutedPeak(a_to_a2_ratio=1.930101502397093, area=3469.0, average_mass=1718.210910873226, charge=2, chosen_for_msms=False, envelope=[(859.6092, 1429.00), (860.1060, 1260.00), (860.6230, 780.00), (861.1123, 1.00)], full_width_at_half_max=0.01, index=7|6, intensity=3469.0, most_abundant_mass=1717.2037736392808, mz=859.6091632864104, neutral_mass=1717.2037736392808, score=71.0628071077454, signal_to_noise=1156.3333333333333)\n",
      "\n",
      "DeconvolutedPeak(a_to_a2_ratio=1.929703916347632, area=24330.0, average_mass=1720.823795008237, charge=2, chosen_for_msms=False, envelope=[(860.9285, 12664.00), (861.4159, 6407.00), (861.9131, 5259.00), (862.4174, 1.00)], full_width_at_half_max=0.01, index=8|8, intensity=24330.0, most_abundant_mass=1719.8424905098311, mz=860.9142335700536, neutral_mass=1719.8139142065672, score=138.543067524908, signal_to_noise=8110.0)\n",
      "\n"
     ]
    }
   ],
   "source": [
    "peaks_l = []\n",
    "for peak in deconvoluted_peaks:\n",
    "    # discard a monoisotopic peak that has a second isotope with intensity of 1 (rubbish value)\n",
    "    if ((len(peak.envelope) > 1) and (peak.envelope[1][1] > 1)):\n",
    "        peaks_l.append((peak.mz, peak.neutral_mass, peak.intensity, peak.score, peak.signal_to_noise))\n",
    "        print(\"{}\\n\".format(peak))\n",
    "\n",
    "deconvoluted_peaks_df = pd.DataFrame(peaks_l, columns=['mz','neutral_mass','intensity','score','SN'])\n",
    "# 'neutral mass' is the zero charge M, so we add the proton mass to get M+H (the monoisotopic mass)\n",
    "deconvoluted_peaks_df['m_plus_h'] = deconvoluted_peaks_df.neutral_mass + PROTON_MASS\n"
   ]
  },
  {
   "cell_type": "code",
   "execution_count": 631,
   "metadata": {
    "scrolled": true
   },
   "outputs": [
    {
     "data": {
      "text/html": [
       "<div>\n",
       "<style scoped>\n",
       "    .dataframe tbody tr th:only-of-type {\n",
       "        vertical-align: middle;\n",
       "    }\n",
       "\n",
       "    .dataframe tbody tr th {\n",
       "        vertical-align: top;\n",
       "    }\n",
       "\n",
       "    .dataframe thead th {\n",
       "        text-align: right;\n",
       "    }\n",
       "</style>\n",
       "<table border=\"1\" class=\"dataframe\">\n",
       "  <thead>\n",
       "    <tr style=\"text-align: right;\">\n",
       "      <th></th>\n",
       "      <th>mz</th>\n",
       "      <th>neutral_mass</th>\n",
       "      <th>intensity</th>\n",
       "      <th>score</th>\n",
       "      <th>SN</th>\n",
       "      <th>m_plus_h</th>\n",
       "    </tr>\n",
       "  </thead>\n",
       "  <tbody>\n",
       "    <tr>\n",
       "      <th>0</th>\n",
       "      <td>860.770166</td>\n",
       "      <td>859.762889</td>\n",
       "      <td>4685.0</td>\n",
       "      <td>57.375259</td>\n",
       "      <td>2342.500000</td>\n",
       "      <td>860.770189</td>\n",
       "    </tr>\n",
       "    <tr>\n",
       "      <th>1</th>\n",
       "      <td>858.934519</td>\n",
       "      <td>1715.854484</td>\n",
       "      <td>359522.0</td>\n",
       "      <td>574.142798</td>\n",
       "      <td>89880.500000</td>\n",
       "      <td>1716.861784</td>\n",
       "    </tr>\n",
       "    <tr>\n",
       "      <th>2</th>\n",
       "      <td>859.183706</td>\n",
       "      <td>1716.352859</td>\n",
       "      <td>12502.0</td>\n",
       "      <td>115.223980</td>\n",
       "      <td>4167.333333</td>\n",
       "      <td>1717.360159</td>\n",
       "    </tr>\n",
       "    <tr>\n",
       "      <th>3</th>\n",
       "      <td>859.295091</td>\n",
       "      <td>1716.575630</td>\n",
       "      <td>7078.0</td>\n",
       "      <td>119.273303</td>\n",
       "      <td>2359.333333</td>\n",
       "      <td>1717.582930</td>\n",
       "    </tr>\n",
       "    <tr>\n",
       "      <th>4</th>\n",
       "      <td>859.445586</td>\n",
       "      <td>1716.876620</td>\n",
       "      <td>104615.0</td>\n",
       "      <td>448.523929</td>\n",
       "      <td>26153.750000</td>\n",
       "      <td>1717.883920</td>\n",
       "    </tr>\n",
       "    <tr>\n",
       "      <th>5</th>\n",
       "      <td>859.609163</td>\n",
       "      <td>1717.203774</td>\n",
       "      <td>3469.0</td>\n",
       "      <td>71.062807</td>\n",
       "      <td>1156.333333</td>\n",
       "      <td>1718.211074</td>\n",
       "    </tr>\n",
       "    <tr>\n",
       "      <th>6</th>\n",
       "      <td>860.914234</td>\n",
       "      <td>1719.813914</td>\n",
       "      <td>24330.0</td>\n",
       "      <td>138.543068</td>\n",
       "      <td>8110.000000</td>\n",
       "      <td>1720.821214</td>\n",
       "    </tr>\n",
       "  </tbody>\n",
       "</table>\n",
       "</div>"
      ],
      "text/plain": [
       "           mz  neutral_mass  intensity       score            SN     m_plus_h\n",
       "0  860.770166    859.762889     4685.0   57.375259   2342.500000   860.770189\n",
       "1  858.934519   1715.854484   359522.0  574.142798  89880.500000  1716.861784\n",
       "2  859.183706   1716.352859    12502.0  115.223980   4167.333333  1717.360159\n",
       "3  859.295091   1716.575630     7078.0  119.273303   2359.333333  1717.582930\n",
       "4  859.445586   1716.876620   104615.0  448.523929  26153.750000  1717.883920\n",
       "5  859.609163   1717.203774     3469.0   71.062807   1156.333333  1718.211074\n",
       "6  860.914234   1719.813914    24330.0  138.543068   8110.000000  1720.821214"
      ]
     },
     "execution_count": 631,
     "metadata": {},
     "output_type": "execute_result"
    }
   ],
   "source": [
    "deconvoluted_peaks_df"
   ]
  },
  {
   "cell_type": "code",
   "execution_count": 632,
   "metadata": {},
   "outputs": [
    {
     "data": {
      "image/png": "[encoded data removed]",
      "text/plain": [
       "<Figure size 1080x360 with 1 Axes>"
      ]
     },
     "metadata": {
      "needs_background": "light"
     },
     "output_type": "display_data"
    }
   ],
   "source": [
    "f, ax = plt.subplots()\n",
    "colors = ['tab:blue', 'tab:orange', 'tab:green', 'tab:red', 'tab:purple', 'tab:brown', 'tab:pink', 'tab:gray', 'tab:olive', 'tab:cyan']\n",
    "markerline, stemlines, baseline = ax.stem(deconvoluted_peaks_df.mz, deconvoluted_peaks_df.intensity, 'g')\n",
    "plt.setp(markerline, 'color', colors[2])\n",
    "plt.setp(stemlines, 'color', colors[2])\n",
    "plt.setp(baseline, 'color', colors[7])\n",
    "plt.xlabel('m/z')\n",
    "plt.ylabel('intensity')\n",
    "f.set_figheight(5)\n",
    "f.set_figwidth(15)\n",
    "plt.margins(0.06)\n",
    "plt.suptitle('Deconvoluted peaks for precursor ID {}'.format(precursor_id))\n",
    "plt.title('m/z bin width {} Th'.format(MZ_BIN_WIDTH))\n",
    "plt.show()"
   ]
  },
  {
   "cell_type": "markdown",
   "metadata": {},
   "source": [
    "### For each monoisotopic peak found, find its apex in RT and mobility"
   ]
  },
  {
   "cell_type": "code",
   "execution_count": 633,
   "metadata": {},
   "outputs": [],
   "source": [
    "# picking one of the monoisotopic peaks for analysis\n",
    "feature_monoisotopic_mz = deconvoluted_peaks_df.iloc[4].mz"
   ]
  },
  {
   "cell_type": "code",
   "execution_count": 634,
   "metadata": {},
   "outputs": [
    {
     "data": {
      "text/plain": [
       "859.4455864431093"
      ]
     },
     "execution_count": 634,
     "metadata": {},
     "output_type": "execute_result"
    }
   ],
   "source": [
    "feature_monoisotopic_mz"
   ]
  },
  {
   "cell_type": "markdown",
   "metadata": {},
   "source": [
    "Get the raw points for the monoisotopic peak (constrained by the fragmentation event)"
   ]
  },
  {
   "cell_type": "code",
   "execution_count": 635,
   "metadata": {},
   "outputs": [],
   "source": [
    "MZ_TOLERANCE_PPM = 20\n",
    "MZ_TOLERANCE_PERCENT = MZ_TOLERANCE_PPM * 10**-4"
   ]
  },
  {
   "cell_type": "code",
   "execution_count": 636,
   "metadata": {},
   "outputs": [],
   "source": [
    "monoisotopic_mz_ppm_tolerance = feature_monoisotopic_mz * MZ_TOLERANCE_PERCENT / 100\n",
    "monoisotopic_mz_lower = feature_monoisotopic_mz - monoisotopic_mz_ppm_tolerance\n",
    "monoisotopic_mz_upper = feature_monoisotopic_mz + monoisotopic_mz_ppm_tolerance"
   ]
  },
  {
   "cell_type": "code",
   "execution_count": 637,
   "metadata": {},
   "outputs": [],
   "source": [
    "monoisotopic_raw_points_df = fe_raw_points_df[(fe_raw_points_df.mz >= monoisotopic_mz_lower) & (fe_raw_points_df.mz <= monoisotopic_mz_upper)]"
   ]
  },
  {
   "cell_type": "code",
   "execution_count": 638,
   "metadata": {},
   "outputs": [
    {
     "data": {
      "text/html": [
       "<div>\n",
       "<style scoped>\n",
       "    .dataframe tbody tr th:only-of-type {\n",
       "        vertical-align: middle;\n",
       "    }\n",
       "\n",
       "    .dataframe tbody tr th {\n",
       "        vertical-align: top;\n",
       "    }\n",
       "\n",
       "    .dataframe thead th {\n",
       "        text-align: right;\n",
       "    }\n",
       "</style>\n",
       "<table border=\"1\" class=\"dataframe\">\n",
       "  <thead>\n",
       "    <tr style=\"text-align: right;\">\n",
       "      <th></th>\n",
       "      <th>frame_id</th>\n",
       "      <th>mz</th>\n",
       "      <th>scan</th>\n",
       "      <th>intensity</th>\n",
       "      <th>retention_time_secs</th>\n",
       "    </tr>\n",
       "  </thead>\n",
       "  <tbody>\n",
       "    <tr>\n",
       "      <th>5079</th>\n",
       "      <td>41445</td>\n",
       "      <td>859.431889</td>\n",
       "      <td>437</td>\n",
       "      <td>1203</td>\n",
       "      <td>4451.447545</td>\n",
       "    </tr>\n",
       "    <tr>\n",
       "      <th>5080</th>\n",
       "      <td>41445</td>\n",
       "      <td>859.431889</td>\n",
       "      <td>438</td>\n",
       "      <td>1587</td>\n",
       "      <td>4451.447545</td>\n",
       "    </tr>\n",
       "    <tr>\n",
       "      <th>5081</th>\n",
       "      <td>41445</td>\n",
       "      <td>859.431889</td>\n",
       "      <td>442</td>\n",
       "      <td>669</td>\n",
       "      <td>4451.447545</td>\n",
       "    </tr>\n",
       "    <tr>\n",
       "      <th>5082</th>\n",
       "      <td>41445</td>\n",
       "      <td>859.431889</td>\n",
       "      <td>453</td>\n",
       "      <td>1158</td>\n",
       "      <td>4451.447545</td>\n",
       "    </tr>\n",
       "    <tr>\n",
       "      <th>5083</th>\n",
       "      <td>41445</td>\n",
       "      <td>859.431889</td>\n",
       "      <td>454</td>\n",
       "      <td>547</td>\n",
       "      <td>4451.447545</td>\n",
       "    </tr>\n",
       "  </tbody>\n",
       "</table>\n",
       "</div>"
      ],
      "text/plain": [
       "      frame_id          mz  scan  intensity  retention_time_secs\n",
       "5079     41445  859.431889   437       1203          4451.447545\n",
       "5080     41445  859.431889   438       1587          4451.447545\n",
       "5081     41445  859.431889   442        669          4451.447545\n",
       "5082     41445  859.431889   453       1158          4451.447545\n",
       "5083     41445  859.431889   454        547          4451.447545"
      ]
     },
     "execution_count": 638,
     "metadata": {},
     "output_type": "execute_result"
    }
   ],
   "source": [
    "monoisotopic_raw_points_df.head()"
   ]
  },
  {
   "cell_type": "markdown",
   "metadata": {},
   "source": [
    "### Collapsing the monoisotopic's summed points onto the mobility dimension"
   ]
  },
  {
   "cell_type": "code",
   "execution_count": 639,
   "metadata": {
    "scrolled": false
   },
   "outputs": [],
   "source": [
    "scan_df = monoisotopic_raw_points_df.groupby(['scan'], as_index=False).intensity.sum()"
   ]
  },
  {
   "cell_type": "code",
   "execution_count": 640,
   "metadata": {},
   "outputs": [],
   "source": [
    "centroid_scan = peakutils.centroid(scan_df.scan, scan_df.intensity)"
   ]
  },
  {
   "cell_type": "code",
   "execution_count": 641,
   "metadata": {},
   "outputs": [
    {
     "data": {
      "text/plain": [
       "462.4720226066394"
      ]
     },
     "execution_count": 641,
     "metadata": {},
     "output_type": "execute_result"
    }
   ],
   "source": [
    "centroid_scan"
   ]
  },
  {
   "cell_type": "code",
   "execution_count": 642,
   "metadata": {},
   "outputs": [],
   "source": [
    "feature_scan_centroid = centroid_scan\n",
    "feature_scan_lower = window_df.ScanNumBegin\n",
    "feature_scan_upper = window_df.ScanNumEnd"
   ]
  },
  {
   "cell_type": "code",
   "execution_count": 643,
   "metadata": {},
   "outputs": [
    {
     "data": {
      "text/plain": [
       "(462.4720226066394, 462.0, 487.0)"
      ]
     },
     "execution_count": 643,
     "metadata": {},
     "output_type": "execute_result"
    }
   ],
   "source": [
    "feature_scan_centroid, feature_scan_lower, feature_scan_upper"
   ]
  },
  {
   "cell_type": "code",
   "execution_count": 644,
   "metadata": {},
   "outputs": [
    {
     "data": {
      "image/png": "[encoded data removed]",
      "text/plain": [
       "<Figure size 1080x360 with 1 Axes>"
      ]
     },
     "metadata": {
      "needs_background": "light"
     },
     "output_type": "display_data"
    }
   ],
   "source": [
    "f, ax = plt.subplots()\n",
    "ax.plot(scan_df.scan, scan_df.intensity, marker='o', color='green', linestyle='-', linewidth=1, ms=5)\n",
    "plt.axvline(x=window_df.ScanNumBegin, linestyle=':', color='springgreen', label='lower MQ range')\n",
    "plt.axvline(x=window_df.ScanNumEnd, linestyle=':', color='red', label='upper MQ range')\n",
    "plt.axvline(x=centroid_scan, linestyle=':', color='orange', label='centroid')\n",
    "plt.legend(loc='best')\n",
    "plt.xlabel('scan')\n",
    "plt.ylabel('intensity')\n",
    "f.set_figheight(5)\n",
    "f.set_figwidth(15)\n",
    "plt.suptitle('Raw points for the monoisotopic at {:.4f} m/z summed by scan for precursor ID {}'.format(monoisotopic_mz, precursor_id))\n",
    "plt.title('m/z bin width {} Th, narrow RT (FE +/- {} secs), wide mobility (FE +/- precursor scan width)'.format(MZ_BIN_WIDTH, RT_FRAGMENT_EVENT_DELTA_SECS))\n",
    "plt.margins(0.06)\n",
    "plt.show()"
   ]
  },
  {
   "cell_type": "markdown",
   "metadata": {},
   "source": [
    "### In the RT dimension, look wider to find the apex of the peak closest to the fragmentation event"
   ]
  },
  {
   "cell_type": "code",
   "execution_count": 645,
   "metadata": {},
   "outputs": [],
   "source": [
    "wide_rt_monoisotopic_raw_points_df = ms1_raw_points_df[(ms1_raw_points_df.mz >= monoisotopic_mz_lower) & (ms1_raw_points_df.mz <= monoisotopic_mz_upper)]"
   ]
  },
  {
   "cell_type": "code",
   "execution_count": 646,
   "metadata": {},
   "outputs": [
    {
     "data": {
      "text/plain": [
       "1100"
      ]
     },
     "execution_count": 646,
     "metadata": {},
     "output_type": "execute_result"
    }
   ],
   "source": [
    "len(wide_rt_monoisotopic_raw_points_df)"
   ]
  },
  {
   "cell_type": "code",
   "execution_count": 647,
   "metadata": {
    "scrolled": true
   },
   "outputs": [],
   "source": [
    "rt_df = wide_rt_monoisotopic_raw_points_df.groupby(['frame_id','retention_time_secs'], as_index=False).intensity.sum()"
   ]
  },
  {
   "cell_type": "code",
   "execution_count": 648,
   "metadata": {},
   "outputs": [],
   "source": [
    "peaks_threshold = 0.3\n",
    "peaks_idx = peakutils.indexes(rt_df.intensity.values, thres=peaks_threshold, min_dist=10)\n",
    "if len(peaks_idx) == 0:\n",
    "    peaks_threshold -= 0.1\n",
    "    peaks_idx = peakutils.indexes(rt_df.intensity.values, thres=peaks_threshold, min_dist=10)\n",
    "peaks_df = rt_df.iloc[peaks_idx].copy()"
   ]
  },
  {
   "cell_type": "code",
   "execution_count": 649,
   "metadata": {},
   "outputs": [
    {
     "data": {
      "text/html": [
       "<div>\n",
       "<style scoped>\n",
       "    .dataframe tbody tr th:only-of-type {\n",
       "        vertical-align: middle;\n",
       "    }\n",
       "\n",
       "    .dataframe tbody tr th {\n",
       "        vertical-align: top;\n",
       "    }\n",
       "\n",
       "    .dataframe thead th {\n",
       "        text-align: right;\n",
       "    }\n",
       "</style>\n",
       "<table border=\"1\" class=\"dataframe\">\n",
       "  <thead>\n",
       "    <tr style=\"text-align: right;\">\n",
       "      <th></th>\n",
       "      <th>frame_id</th>\n",
       "      <th>retention_time_secs</th>\n",
       "      <th>intensity</th>\n",
       "    </tr>\n",
       "  </thead>\n",
       "  <tbody>\n",
       "    <tr>\n",
       "      <th>22</th>\n",
       "      <td>41456</td>\n",
       "      <td>4452.627073</td>\n",
       "      <td>50813</td>\n",
       "    </tr>\n",
       "  </tbody>\n",
       "</table>\n",
       "</div>"
      ],
      "text/plain": [
       "    frame_id  retention_time_secs  intensity\n",
       "22     41456          4452.627073      50813"
      ]
     },
     "execution_count": 649,
     "metadata": {},
     "output_type": "execute_result"
    }
   ],
   "source": [
    "peaks_df"
   ]
  },
  {
   "cell_type": "code",
   "execution_count": 650,
   "metadata": {},
   "outputs": [],
   "source": [
    "peaks_df['fragmentation_rt_delta'] = abs(window_df.retention_time_secs - peaks_df.retention_time_secs)"
   ]
  },
  {
   "cell_type": "code",
   "execution_count": 651,
   "metadata": {},
   "outputs": [
    {
     "data": {
      "text/html": [
       "<div>\n",
       "<style scoped>\n",
       "    .dataframe tbody tr th:only-of-type {\n",
       "        vertical-align: middle;\n",
       "    }\n",
       "\n",
       "    .dataframe tbody tr th {\n",
       "        vertical-align: top;\n",
       "    }\n",
       "\n",
       "    .dataframe thead th {\n",
       "        text-align: right;\n",
       "    }\n",
       "</style>\n",
       "<table border=\"1\" class=\"dataframe\">\n",
       "  <thead>\n",
       "    <tr style=\"text-align: right;\">\n",
       "      <th></th>\n",
       "      <th>frame_id</th>\n",
       "      <th>retention_time_secs</th>\n",
       "      <th>intensity</th>\n",
       "      <th>fragmentation_rt_delta</th>\n",
       "    </tr>\n",
       "  </thead>\n",
       "  <tbody>\n",
       "    <tr>\n",
       "      <th>22</th>\n",
       "      <td>41456</td>\n",
       "      <td>4452.627073</td>\n",
       "      <td>50813</td>\n",
       "      <td>1.930213</td>\n",
       "    </tr>\n",
       "  </tbody>\n",
       "</table>\n",
       "</div>"
      ],
      "text/plain": [
       "    frame_id  retention_time_secs  intensity  fragmentation_rt_delta\n",
       "22     41456          4452.627073      50813                1.930213"
      ]
     },
     "execution_count": 651,
     "metadata": {},
     "output_type": "execute_result"
    }
   ],
   "source": [
    "peaks_df"
   ]
  },
  {
   "cell_type": "code",
   "execution_count": 652,
   "metadata": {},
   "outputs": [
    {
     "data": {
      "text/plain": [
       "frame_id                  41456.000000\n",
       "retention_time_secs        4452.627073\n",
       "intensity                 50813.000000\n",
       "fragmentation_rt_delta        1.930213\n",
       "Name: 22, dtype: float64"
      ]
     },
     "execution_count": 652,
     "metadata": {},
     "output_type": "execute_result"
    }
   ],
   "source": [
    "# get the peak closest to the fragmentation event\n",
    "peaks_df.loc[peaks_df.fragmentation_rt_delta.idxmin()]"
   ]
  },
  {
   "cell_type": "code",
   "execution_count": 653,
   "metadata": {},
   "outputs": [
    {
     "data": {
      "text/plain": [
       "22"
      ]
     },
     "execution_count": 653,
     "metadata": {},
     "output_type": "execute_result"
    }
   ],
   "source": [
    "# index of the closest peak\n",
    "peak_idx = peaks_df.fragmentation_rt_delta.idxmin()\n",
    "peak_idx"
   ]
  },
  {
   "cell_type": "code",
   "execution_count": 654,
   "metadata": {},
   "outputs": [],
   "source": [
    "feature_rt_apex = peaks_df.loc[peak_idx].retention_time_secs"
   ]
  },
  {
   "cell_type": "code",
   "execution_count": 655,
   "metadata": {},
   "outputs": [
    {
     "data": {
      "text/plain": [
       "4452.627073276864"
      ]
     },
     "execution_count": 655,
     "metadata": {},
     "output_type": "execute_result"
    }
   ],
   "source": [
    "feature_rt_apex"
   ]
  },
  {
   "cell_type": "code",
   "execution_count": 656,
   "metadata": {},
   "outputs": [],
   "source": [
    "valleys_idx = peakutils.indexes(-rt_df.intensity.values, thres=0.6, min_dist=RT_BASE_PEAK_WIDTH_SECS/20)\n",
    "valleys_df = rt_df.iloc[valleys_idx].copy()"
   ]
  },
  {
   "cell_type": "code",
   "execution_count": 657,
   "metadata": {},
   "outputs": [
    {
     "data": {
      "text/html": [
       "<div>\n",
       "<style scoped>\n",
       "    .dataframe tbody tr th:only-of-type {\n",
       "        vertical-align: middle;\n",
       "    }\n",
       "\n",
       "    .dataframe tbody tr th {\n",
       "        vertical-align: top;\n",
       "    }\n",
       "\n",
       "    .dataframe thead th {\n",
       "        text-align: right;\n",
       "    }\n",
       "</style>\n",
       "<table border=\"1\" class=\"dataframe\">\n",
       "  <thead>\n",
       "    <tr style=\"text-align: right;\">\n",
       "      <th></th>\n",
       "      <th>frame_id</th>\n",
       "      <th>retention_time_secs</th>\n",
       "      <th>intensity</th>\n",
       "    </tr>\n",
       "  </thead>\n",
       "  <tbody>\n",
       "    <tr>\n",
       "      <th>2</th>\n",
       "      <td>41236</td>\n",
       "      <td>4429.005871</td>\n",
       "      <td>168</td>\n",
       "    </tr>\n",
       "    <tr>\n",
       "      <th>5</th>\n",
       "      <td>41269</td>\n",
       "      <td>4432.552213</td>\n",
       "      <td>369</td>\n",
       "    </tr>\n",
       "    <tr>\n",
       "      <th>10</th>\n",
       "      <td>41324</td>\n",
       "      <td>4438.455780</td>\n",
       "      <td>235</td>\n",
       "    </tr>\n",
       "    <tr>\n",
       "      <th>14</th>\n",
       "      <td>41368</td>\n",
       "      <td>4443.177867</td>\n",
       "      <td>439</td>\n",
       "    </tr>\n",
       "    <tr>\n",
       "      <th>16</th>\n",
       "      <td>41390</td>\n",
       "      <td>4445.543040</td>\n",
       "      <td>657</td>\n",
       "    </tr>\n",
       "    <tr>\n",
       "      <th>32</th>\n",
       "      <td>41566</td>\n",
       "      <td>4464.423259</td>\n",
       "      <td>454</td>\n",
       "    </tr>\n",
       "    <tr>\n",
       "      <th>35</th>\n",
       "      <td>41599</td>\n",
       "      <td>4467.970942</td>\n",
       "      <td>280</td>\n",
       "    </tr>\n",
       "    <tr>\n",
       "      <th>37</th>\n",
       "      <td>41621</td>\n",
       "      <td>4470.328991</td>\n",
       "      <td>513</td>\n",
       "    </tr>\n",
       "    <tr>\n",
       "      <th>41</th>\n",
       "      <td>41665</td>\n",
       "      <td>4475.049270</td>\n",
       "      <td>657</td>\n",
       "    </tr>\n",
       "    <tr>\n",
       "      <th>44</th>\n",
       "      <td>41698</td>\n",
       "      <td>4478.591580</td>\n",
       "      <td>203</td>\n",
       "    </tr>\n",
       "    <tr>\n",
       "      <th>48</th>\n",
       "      <td>41742</td>\n",
       "      <td>4483.310929</td>\n",
       "      <td>99</td>\n",
       "    </tr>\n",
       "  </tbody>\n",
       "</table>\n",
       "</div>"
      ],
      "text/plain": [
       "    frame_id  retention_time_secs  intensity\n",
       "2      41236          4429.005871        168\n",
       "5      41269          4432.552213        369\n",
       "10     41324          4438.455780        235\n",
       "14     41368          4443.177867        439\n",
       "16     41390          4445.543040        657\n",
       "32     41566          4464.423259        454\n",
       "35     41599          4467.970942        280\n",
       "37     41621          4470.328991        513\n",
       "41     41665          4475.049270        657\n",
       "44     41698          4478.591580        203\n",
       "48     41742          4483.310929         99"
      ]
     },
     "execution_count": 657,
     "metadata": {},
     "output_type": "execute_result"
    }
   ],
   "source": [
    "valleys_df"
   ]
  },
  {
   "cell_type": "code",
   "execution_count": 658,
   "metadata": {},
   "outputs": [
    {
     "data": {
      "text/plain": [
       "array([ 2,  5, 10, 14, 16, 32, 35, 37, 41, 44, 48])"
      ]
     },
     "execution_count": 658,
     "metadata": {},
     "output_type": "execute_result"
    }
   ],
   "source": [
    "valleys_idx"
   ]
  },
  {
   "cell_type": "code",
   "execution_count": 659,
   "metadata": {},
   "outputs": [],
   "source": [
    "# find the closest valley above the peak\n",
    "if max(valleys_idx) > peak_idx:\n",
    "    valley_idx_above = valleys_idx[valleys_idx > peak_idx].min()\n",
    "else:\n",
    "    valley_idx_above = -1"
   ]
  },
  {
   "cell_type": "code",
   "execution_count": 660,
   "metadata": {},
   "outputs": [],
   "source": [
    "# find the closest valley below the peak\n",
    "if min(valleys_idx) < peak_idx:\n",
    "    valley_idx_below = valleys_idx[valleys_idx < peak_idx].max()\n",
    "else:\n",
    "    valley_idx_below = -1"
   ]
  },
  {
   "cell_type": "code",
   "execution_count": 661,
   "metadata": {},
   "outputs": [
    {
     "name": "stdout",
     "output_type": "stream",
     "text": [
      "16,32\n"
     ]
    }
   ],
   "source": [
    "print(\"{},{}\".format(valley_idx_below, valley_idx_above))"
   ]
  },
  {
   "cell_type": "code",
   "execution_count": 662,
   "metadata": {},
   "outputs": [],
   "source": [
    "feature_rt_base_lower = valleys_df.loc[valley_idx_below].retention_time_secs\n",
    "feature_rt_base_upper = valleys_df.loc[valley_idx_above].retention_time_secs"
   ]
  },
  {
   "cell_type": "code",
   "execution_count": 663,
   "metadata": {},
   "outputs": [
    {
     "data": {
      "text/plain": [
       "(4445.5430400577025, 4464.423258996849)"
      ]
     },
     "execution_count": 663,
     "metadata": {},
     "output_type": "execute_result"
    }
   ],
   "source": [
    "feature_rt_base_lower, feature_rt_base_upper"
   ]
  },
  {
   "cell_type": "code",
   "execution_count": 664,
   "metadata": {
    "scrolled": false
   },
   "outputs": [
    {
     "data": {
      "image/png": "[encoded data removed]",
      "text/plain": [
       "<Figure size 1080x360 with 1 Axes>"
      ]
     },
     "metadata": {
      "needs_background": "light"
     },
     "output_type": "display_data"
    }
   ],
   "source": [
    "f, ax = plt.subplots()\n",
    "ax.plot(rt_df.retention_time_secs, rt_df.intensity, marker='o', color='green', linestyle='-', linewidth=1, ms=5)\n",
    "ax.plot(peaks_df.retention_time_secs, peaks_df.intensity, marker='o', color='orange', linestyle='', markeredgewidth=3, ms=10, label='peak')\n",
    "ax.plot(peaks_df.loc[peak_idx].retention_time_secs, peaks_df.loc[peak_idx].intensity, marker='o', markerfacecolor='none', markeredgecolor='saddlebrown', linestyle='', markeredgewidth=4, ms=15, label='selected peak')\n",
    "if valley_idx_below != -1:\n",
    "    ax.plot(valleys_df.loc[valley_idx_below].retention_time_secs, valleys_df.loc[valley_idx_below].intensity, marker='o', color='springgreen', linestyle='', markeredgewidth=1, ms=10, label='valley below')\n",
    "if valley_idx_above != -1:\n",
    "    ax.plot(valleys_df.loc[valley_idx_above].retention_time_secs, valleys_df.loc[valley_idx_above].intensity, marker='o', color='red', linestyle='', markeredgewidth=1, ms=10, label='valley above')\n",
    "plt.axvline(x=window_df.retention_time_secs, linestyle=':', color='tab:red', label='fragmentation')\n",
    "plt.legend(loc='best')\n",
    "plt.xlabel('RT secs')\n",
    "plt.ylabel('intensity')\n",
    "f.set_figheight(5)\n",
    "f.set_figwidth(15)\n",
    "plt.suptitle('Raw points for the monoisotopic at {:.4f} m/z summed by frame for precursor ID {}'.format(monoisotopic_mz, precursor_id))\n",
    "plt.title('m/z bin width {} Th, wide RT (FE +/- {} secs), wide mobility (FE +/- precursor scan width)'.format(MZ_BIN_WIDTH, RT_BASE_PEAK_WIDTH_SECS))\n",
    "plt.margins(0.06)\n",
    "plt.show()"
   ]
  },
  {
   "cell_type": "markdown",
   "metadata": {},
   "source": [
    "### Having extracted the MS1 feature characteristics, find all isolation windows that overlap with it"
   ]
  },
  {
   "cell_type": "code",
   "execution_count": 665,
   "metadata": {},
   "outputs": [
    {
     "data": {
      "text/plain": [
       "(859.4455864431093,\n",
       " 4452.627073276864,\n",
       " 4445.5430400577025,\n",
       " 4464.423258996849,\n",
       " 462.4720226066394,\n",
       " 462.0,\n",
       " 487.0)"
      ]
     },
     "execution_count": 665,
     "metadata": {},
     "output_type": "execute_result"
    }
   ],
   "source": [
    "feature_monoisotopic_mz, feature_rt_apex, feature_rt_base_lower, feature_rt_base_upper, feature_scan_centroid, feature_scan_lower, feature_scan_upper"
   ]
  },
  {
   "cell_type": "code",
   "execution_count": 666,
   "metadata": {},
   "outputs": [],
   "source": [
    "# get all the isolation windows\n",
    "isolation_window_df = pd.read_pickle('/Users/darylwilding-mcbride/Downloads/isolation_window_df.pkl')"
   ]
  },
  {
   "cell_type": "code",
   "execution_count": 667,
   "metadata": {},
   "outputs": [],
   "source": [
    "# add-in the retention time for the isolation windows and filter out the windows not in range\n",
    "isolation_window_df = pd.merge(isolation_window_df, ms2_frame_properties_df, how='left', left_on=['Frame'], right_on=['frame_id'])"
   ]
  },
  {
   "cell_type": "code",
   "execution_count": 668,
   "metadata": {},
   "outputs": [],
   "source": [
    "isolation_window_df.drop(['frame_id', 'CollisionEnergy'], axis=1, inplace=True)\n",
    "isolation_window_df.dropna(subset=['retention_time_secs'], inplace=True)\n",
    "isolation_window_df['mz_lower'] = isolation_window_df.IsolationMz - (isolation_window_df.IsolationWidth / 2)\n",
    "isolation_window_df['mz_upper'] = isolation_window_df.IsolationMz + (isolation_window_df.IsolationWidth / 2)"
   ]
  },
  {
   "cell_type": "code",
   "execution_count": 669,
   "metadata": {
    "scrolled": true
   },
   "outputs": [
    {
     "data": {
      "text/html": [
       "<div>\n",
       "<style scoped>\n",
       "    .dataframe tbody tr th:only-of-type {\n",
       "        vertical-align: middle;\n",
       "    }\n",
       "\n",
       "    .dataframe tbody tr th {\n",
       "        vertical-align: top;\n",
       "    }\n",
       "\n",
       "    .dataframe thead th {\n",
       "        text-align: right;\n",
       "    }\n",
       "</style>\n",
       "<table border=\"1\" class=\"dataframe\">\n",
       "  <thead>\n",
       "    <tr style=\"text-align: right;\">\n",
       "      <th></th>\n",
       "      <th>Frame</th>\n",
       "      <th>ScanNumBegin</th>\n",
       "      <th>ScanNumEnd</th>\n",
       "      <th>IsolationMz</th>\n",
       "      <th>IsolationWidth</th>\n",
       "      <th>Precursor</th>\n",
       "      <th>retention_time_secs</th>\n",
       "      <th>mz_lower</th>\n",
       "      <th>mz_upper</th>\n",
       "    </tr>\n",
       "  </thead>\n",
       "  <tbody>\n",
       "    <tr>\n",
       "      <th>312803</th>\n",
       "      <td>40408</td>\n",
       "      <td>112</td>\n",
       "      <td>137</td>\n",
       "      <td>1135.738520</td>\n",
       "      <td>3.000000</td>\n",
       "      <td>147429</td>\n",
       "      <td>4340.019894</td>\n",
       "      <td>1134.238520</td>\n",
       "      <td>1137.238520</td>\n",
       "    </tr>\n",
       "    <tr>\n",
       "      <th>312804</th>\n",
       "      <td>40408</td>\n",
       "      <td>181</td>\n",
       "      <td>206</td>\n",
       "      <td>994.022363</td>\n",
       "      <td>3.000000</td>\n",
       "      <td>147430</td>\n",
       "      <td>4340.019894</td>\n",
       "      <td>992.522363</td>\n",
       "      <td>995.522363</td>\n",
       "    </tr>\n",
       "    <tr>\n",
       "      <th>312805</th>\n",
       "      <td>40408</td>\n",
       "      <td>263</td>\n",
       "      <td>288</td>\n",
       "      <td>1054.650881</td>\n",
       "      <td>3.000000</td>\n",
       "      <td>147451</td>\n",
       "      <td>4340.019894</td>\n",
       "      <td>1053.150881</td>\n",
       "      <td>1056.150881</td>\n",
       "    </tr>\n",
       "    <tr>\n",
       "      <th>312806</th>\n",
       "      <td>40408</td>\n",
       "      <td>324</td>\n",
       "      <td>349</td>\n",
       "      <td>789.368380</td>\n",
       "      <td>2.893684</td>\n",
       "      <td>147452</td>\n",
       "      <td>4340.019894</td>\n",
       "      <td>787.921538</td>\n",
       "      <td>790.815222</td>\n",
       "    </tr>\n",
       "    <tr>\n",
       "      <th>312807</th>\n",
       "      <td>40408</td>\n",
       "      <td>368</td>\n",
       "      <td>393</td>\n",
       "      <td>826.901660</td>\n",
       "      <td>3.000000</td>\n",
       "      <td>147453</td>\n",
       "      <td>4340.019894</td>\n",
       "      <td>825.401660</td>\n",
       "      <td>828.401660</td>\n",
       "    </tr>\n",
       "  </tbody>\n",
       "</table>\n",
       "</div>"
      ],
      "text/plain": [
       "        Frame  ScanNumBegin  ScanNumEnd  IsolationMz  IsolationWidth  \\\n",
       "312803  40408           112         137  1135.738520        3.000000   \n",
       "312804  40408           181         206   994.022363        3.000000   \n",
       "312805  40408           263         288  1054.650881        3.000000   \n",
       "312806  40408           324         349   789.368380        2.893684   \n",
       "312807  40408           368         393   826.901660        3.000000   \n",
       "\n",
       "        Precursor  retention_time_secs     mz_lower     mz_upper  \n",
       "312803     147429          4340.019894  1134.238520  1137.238520  \n",
       "312804     147430          4340.019894   992.522363   995.522363  \n",
       "312805     147451          4340.019894  1053.150881  1056.150881  \n",
       "312806     147452          4340.019894   787.921538   790.815222  \n",
       "312807     147453          4340.019894   825.401660   828.401660  "
      ]
     },
     "execution_count": 669,
     "metadata": {},
     "output_type": "execute_result"
    }
   ],
   "source": [
    "isolation_window_df.head()"
   ]
  },
  {
   "cell_type": "code",
   "execution_count": 670,
   "metadata": {},
   "outputs": [],
   "source": [
    "# define the visualisation window\n",
    "visualisation_mz_upper = feature_monoisotopic_mz + 3\n",
    "visualisation_mz_lower = feature_monoisotopic_mz - 3\n",
    "visualisation_scan_upper = feature_scan_upper + 20\n",
    "visualisation_scan_lower = feature_scan_lower - 20\n",
    "visualisation_rt_upper = feature_rt_base_upper\n",
    "visualisation_rt_lower = feature_rt_base_lower"
   ]
  },
  {
   "cell_type": "code",
   "execution_count": 671,
   "metadata": {},
   "outputs": [],
   "source": [
    "# find the isolation windows visible in the visualisation window\n",
    "indexes = isolation_window_df.index[\n",
    "                        (\n",
    "                            ((isolation_window_df.mz_lower >= visualisation_mz_lower) &\n",
    "                             (isolation_window_df.mz_lower <= visualisation_mz_upper)) |\n",
    "                            ((isolation_window_df.mz_upper >= visualisation_mz_lower) &\n",
    "                            (isolation_window_df.mz_upper <= visualisation_mz_upper))\n",
    "                        ) &\n",
    "                        (\n",
    "                            ((isolation_window_df.ScanNumBegin >= visualisation_scan_lower) &\n",
    "                             (isolation_window_df.ScanNumBegin <= visualisation_scan_upper)) |\n",
    "                            ((isolation_window_df.ScanNumEnd >= visualisation_scan_lower) &\n",
    "                            (isolation_window_df.ScanNumEnd <= visualisation_scan_upper))\n",
    "                        ) &\n",
    "                        (isolation_window_df.retention_time_secs >= visualisation_rt_lower) &\n",
    "                        (isolation_window_df.retention_time_secs <= visualisation_rt_upper)\n",
    "                       ]\n",
    "isolation_windows_in_visualisation_area_df = isolation_window_df.loc[indexes]"
   ]
  },
  {
   "cell_type": "code",
   "execution_count": 672,
   "metadata": {},
   "outputs": [
    {
     "data": {
      "text/html": [
       "<div>\n",
       "<style scoped>\n",
       "    .dataframe tbody tr th:only-of-type {\n",
       "        vertical-align: middle;\n",
       "    }\n",
       "\n",
       "    .dataframe tbody tr th {\n",
       "        vertical-align: top;\n",
       "    }\n",
       "\n",
       "    .dataframe thead th {\n",
       "        text-align: right;\n",
       "    }\n",
       "</style>\n",
       "<table border=\"1\" class=\"dataframe\">\n",
       "  <thead>\n",
       "    <tr style=\"text-align: right;\">\n",
       "      <th></th>\n",
       "      <th>Frame</th>\n",
       "      <th>ScanNumBegin</th>\n",
       "      <th>ScanNumEnd</th>\n",
       "      <th>IsolationMz</th>\n",
       "      <th>IsolationWidth</th>\n",
       "      <th>Precursor</th>\n",
       "      <th>retention_time_secs</th>\n",
       "      <th>mz_lower</th>\n",
       "      <th>mz_upper</th>\n",
       "    </tr>\n",
       "  </thead>\n",
       "  <tbody>\n",
       "    <tr>\n",
       "      <th>323591</th>\n",
       "      <td>41426</td>\n",
       "      <td>429</td>\n",
       "      <td>454</td>\n",
       "      <td>859.431517</td>\n",
       "      <td>3.0</td>\n",
       "      <td>153135</td>\n",
       "      <td>4449.405822</td>\n",
       "      <td>857.931517</td>\n",
       "      <td>860.931517</td>\n",
       "    </tr>\n",
       "    <tr>\n",
       "      <th>323603</th>\n",
       "      <td>41427</td>\n",
       "      <td>429</td>\n",
       "      <td>454</td>\n",
       "      <td>859.431517</td>\n",
       "      <td>3.0</td>\n",
       "      <td>153135</td>\n",
       "      <td>4449.513830</td>\n",
       "      <td>857.931517</td>\n",
       "      <td>860.931517</td>\n",
       "    </tr>\n",
       "    <tr>\n",
       "      <th>323757</th>\n",
       "      <td>41441</td>\n",
       "      <td>431</td>\n",
       "      <td>456</td>\n",
       "      <td>859.436098</td>\n",
       "      <td>3.0</td>\n",
       "      <td>153221</td>\n",
       "      <td>4451.018196</td>\n",
       "      <td>857.936098</td>\n",
       "      <td>860.936098</td>\n",
       "    </tr>\n",
       "    <tr>\n",
       "      <th>324135</th>\n",
       "      <td>41474</td>\n",
       "      <td>462</td>\n",
       "      <td>487</td>\n",
       "      <td>860.444362</td>\n",
       "      <td>3.0</td>\n",
       "      <td>153421</td>\n",
       "      <td>4454.557286</td>\n",
       "      <td>858.944362</td>\n",
       "      <td>861.944362</td>\n",
       "    </tr>\n",
       "    <tr>\n",
       "      <th>325119</th>\n",
       "      <td>41563</td>\n",
       "      <td>419</td>\n",
       "      <td>444</td>\n",
       "      <td>856.909312</td>\n",
       "      <td>3.0</td>\n",
       "      <td>153898</td>\n",
       "      <td>4464.101919</td>\n",
       "      <td>855.409312</td>\n",
       "      <td>858.409312</td>\n",
       "    </tr>\n",
       "    <tr>\n",
       "      <th>325130</th>\n",
       "      <td>41564</td>\n",
       "      <td>419</td>\n",
       "      <td>444</td>\n",
       "      <td>856.909312</td>\n",
       "      <td>3.0</td>\n",
       "      <td>153898</td>\n",
       "      <td>4464.209104</td>\n",
       "      <td>855.409312</td>\n",
       "      <td>858.409312</td>\n",
       "    </tr>\n",
       "  </tbody>\n",
       "</table>\n",
       "</div>"
      ],
      "text/plain": [
       "        Frame  ScanNumBegin  ScanNumEnd  IsolationMz  IsolationWidth  \\\n",
       "323591  41426           429         454   859.431517             3.0   \n",
       "323603  41427           429         454   859.431517             3.0   \n",
       "323757  41441           431         456   859.436098             3.0   \n",
       "324135  41474           462         487   860.444362             3.0   \n",
       "325119  41563           419         444   856.909312             3.0   \n",
       "325130  41564           419         444   856.909312             3.0   \n",
       "\n",
       "        Precursor  retention_time_secs    mz_lower    mz_upper  \n",
       "323591     153135          4449.405822  857.931517  860.931517  \n",
       "323603     153135          4449.513830  857.931517  860.931517  \n",
       "323757     153221          4451.018196  857.936098  860.936098  \n",
       "324135     153421          4454.557286  858.944362  861.944362  \n",
       "325119     153898          4464.101919  855.409312  858.409312  \n",
       "325130     153898          4464.209104  855.409312  858.409312  "
      ]
     },
     "execution_count": 672,
     "metadata": {},
     "output_type": "execute_result"
    }
   ],
   "source": [
    "isolation_windows_in_visualisation_area_df"
   ]
  },
  {
   "cell_type": "code",
   "execution_count": 673,
   "metadata": {},
   "outputs": [
    {
     "data": {
      "text/plain": [
       "859.4455864431093"
      ]
     },
     "execution_count": 673,
     "metadata": {},
     "output_type": "execute_result"
    }
   ],
   "source": [
    "feature_monoisotopic_mz"
   ]
  },
  {
   "cell_type": "code",
   "execution_count": 674,
   "metadata": {},
   "outputs": [
    {
     "data": {
      "text/plain": [
       "(4445.5430400577025, 4464.423258996849)"
      ]
     },
     "execution_count": 674,
     "metadata": {},
     "output_type": "execute_result"
    }
   ],
   "source": [
    "feature_rt_base_lower, feature_rt_base_upper"
   ]
  },
  {
   "cell_type": "code",
   "execution_count": 675,
   "metadata": {},
   "outputs": [
    {
     "data": {
      "text/plain": [
       "462.4720226066394"
      ]
     },
     "execution_count": 675,
     "metadata": {},
     "output_type": "execute_result"
    }
   ],
   "source": [
    "feature_scan_centroid"
   ]
  },
  {
   "cell_type": "code",
   "execution_count": 676,
   "metadata": {},
   "outputs": [],
   "source": [
    "# find the isolation windows overlapping the feature's characteristics\n",
    "indexes = isolation_window_df.index[\n",
    "                            (isolation_window_df.mz_upper >= feature_monoisotopic_mz) &\n",
    "                            (isolation_window_df.mz_lower <= feature_monoisotopic_mz) &\n",
    "                            (isolation_window_df.ScanNumEnd >= feature_scan_centroid) &\n",
    "                            (isolation_window_df.ScanNumBegin <= feature_scan_centroid) &\n",
    "                            (isolation_window_df.retention_time_secs >= feature_rt_base_lower) &\n",
    "                            (isolation_window_df.retention_time_secs <= feature_rt_base_upper)\n",
    "                       ]\n",
    "isolation_windows_overlapping_feature_df = isolation_window_df.loc[indexes]"
   ]
  },
  {
   "cell_type": "code",
   "execution_count": 677,
   "metadata": {},
   "outputs": [
    {
     "data": {
      "text/html": [
       "<div>\n",
       "<style scoped>\n",
       "    .dataframe tbody tr th:only-of-type {\n",
       "        vertical-align: middle;\n",
       "    }\n",
       "\n",
       "    .dataframe tbody tr th {\n",
       "        vertical-align: top;\n",
       "    }\n",
       "\n",
       "    .dataframe thead th {\n",
       "        text-align: right;\n",
       "    }\n",
       "</style>\n",
       "<table border=\"1\" class=\"dataframe\">\n",
       "  <thead>\n",
       "    <tr style=\"text-align: right;\">\n",
       "      <th></th>\n",
       "      <th>Frame</th>\n",
       "      <th>ScanNumBegin</th>\n",
       "      <th>ScanNumEnd</th>\n",
       "      <th>IsolationMz</th>\n",
       "      <th>IsolationWidth</th>\n",
       "      <th>Precursor</th>\n",
       "      <th>retention_time_secs</th>\n",
       "      <th>mz_lower</th>\n",
       "      <th>mz_upper</th>\n",
       "    </tr>\n",
       "  </thead>\n",
       "  <tbody>\n",
       "    <tr>\n",
       "      <th>324135</th>\n",
       "      <td>41474</td>\n",
       "      <td>462</td>\n",
       "      <td>487</td>\n",
       "      <td>860.444362</td>\n",
       "      <td>3.0</td>\n",
       "      <td>153421</td>\n",
       "      <td>4454.557286</td>\n",
       "      <td>858.944362</td>\n",
       "      <td>861.944362</td>\n",
       "    </tr>\n",
       "  </tbody>\n",
       "</table>\n",
       "</div>"
      ],
      "text/plain": [
       "        Frame  ScanNumBegin  ScanNumEnd  IsolationMz  IsolationWidth  \\\n",
       "324135  41474           462         487   860.444362             3.0   \n",
       "\n",
       "        Precursor  retention_time_secs    mz_lower    mz_upper  \n",
       "324135     153421          4454.557286  858.944362  861.944362  "
      ]
     },
     "execution_count": 677,
     "metadata": {},
     "output_type": "execute_result"
    }
   ],
   "source": [
    "isolation_windows_overlapping_feature_df"
   ]
  },
  {
   "cell_type": "code",
   "execution_count": 678,
   "metadata": {},
   "outputs": [],
   "source": [
    "tableau20 = [(31, 119, 180), (174, 199, 232), (255, 127, 14), (255, 187, 120),  \n",
    "             (44, 160, 44), (152, 223, 138), (214, 39, 40), (255, 152, 150),  \n",
    "             (148, 103, 189), (197, 176, 213), (140, 86, 75), (196, 156, 148),  \n",
    "             (227, 119, 194), (247, 182, 210), (127, 127, 127), (199, 199, 199),  \n",
    "             (188, 189, 34), (219, 219, 141), (23, 190, 207), (158, 218, 229)]\n",
    "# Rescale to values between 0 and 1 \n",
    "for i in range(len(tableau20)):  \n",
    "    r, g, b = tableau20[i]  \n",
    "    tableau20[i] = (r / 255., g / 255., b / 255.)"
   ]
  },
  {
   "cell_type": "code",
   "execution_count": 679,
   "metadata": {},
   "outputs": [
    {
     "data": {
      "image/png": "[encoded data removed]",
      "text/plain": [
       "<Figure size 1080x576 with 1 Axes>"
      ]
     },
     "metadata": {
      "needs_background": "light"
     },
     "output_type": "display_data"
    }
   ],
   "source": [
    "import matplotlib.patches as patches\n",
    "\n",
    "f, ax1 = plt.subplots()\n",
    "\n",
    "# add the mono peak's centroid\n",
    "plt.plot(feature_monoisotopic_mz, feature_scan_centroid, 'bx', ms=10, mew=2, label='centroid')\n",
    "\n",
    "# add isolation windows matched\n",
    "for idx in range(len(isolation_windows_in_visualisation_area_df)):\n",
    "    window = isolation_windows_in_visualisation_area_df.iloc[idx]\n",
    "    drift_range = window.ScanNumEnd - window.ScanNumBegin\n",
    "    mz_range = window.mz_upper - window.mz_lower\n",
    "    isolation_window_rect = patches.Rectangle((window.mz_lower,window.ScanNumBegin),mz_range,drift_range,linewidth=1.5,linestyle='--',edgecolor=tableau20[idx%len(tableau20)],facecolor='none')\n",
    "    ax1.add_patch(isolation_window_rect)\n",
    "    text_style = dict(size=12, color=tableau20[idx%len(tableau20)])\n",
    "#     ax1.text(window.mz_lower, window.ScanNumBegin-0.5, window.frame_precursor, **text_style)\n",
    "    \n",
    "f.set_figheight(8)\n",
    "f.set_figwidth(15)\n",
    "# plt.gca().invert_yaxis()\n",
    "plt.gca().set_xlim([visualisation_mz_lower,visualisation_mz_upper])\n",
    "plt.gca().set_ylim([visualisation_scan_upper,visualisation_scan_lower])\n",
    "plt.xlabel('m/z')\n",
    "plt.ylabel('scan')\n",
    "# plt.legend(loc='best')\n",
    "plt.margins(0.02)\n",
    "# plt.suptitle(\"Feature {} and isolation window overlap, RT={} to {}\".format(feature_id_of_interest, round(feature.feature_start_rt,1), round(feature.feature_end_rt,1)))\n",
    "# plt.title('{}'.format(feature_list_filename))\n",
    "plt.show()"
   ]
  },
  {
   "cell_type": "markdown",
   "metadata": {},
   "source": [
    "### Extract the raw ms2 points from these isolation windows"
   ]
  },
  {
   "cell_type": "code",
   "execution_count": 680,
   "metadata": {},
   "outputs": [],
   "source": [
    "# get the ms2 frame IDs\n",
    "ms2_frame_ids = tuple(ms2_frame_properties_df.astype(int).values[:,0])\n"
   ]
  },
  {
   "cell_type": "code",
   "execution_count": 681,
   "metadata": {},
   "outputs": [],
   "source": [
    "isolation_window_scan_lower = int(isolation_windows_overlapping_feature_df.iloc[0].ScanNumBegin)\n",
    "isolation_window_scan_upper = int(isolation_windows_overlapping_feature_df.iloc[0].ScanNumEnd)\n",
    "isolation_window_frame_id = int(isolation_windows_overlapping_feature_df.iloc[0].Frame)"
   ]
  },
  {
   "cell_type": "code",
   "execution_count": 682,
   "metadata": {},
   "outputs": [
    {
     "data": {
      "text/plain": [
       "(462, 487, 41474)"
      ]
     },
     "execution_count": 682,
     "metadata": {},
     "output_type": "execute_result"
    }
   ],
   "source": [
    "isolation_window_scan_lower, isolation_window_scan_upper, isolation_window_frame_id"
   ]
  },
  {
   "cell_type": "code",
   "execution_count": 683,
   "metadata": {},
   "outputs": [],
   "source": [
    "# get the raw ms2 points from the fragmentation frame within the scan constraints\n",
    "db_conn = sqlite3.connect(CONVERTED_DATABASE_NAME)\n",
    "ms2_raw_points_df = pd.read_sql_query(\"select frame_id,mz,scan,intensity,retention_time_secs from frames where scan >= {} and scan <= {} and frame_id == {}\".format(isolation_window_scan_lower, isolation_window_scan_upper, isolation_window_frame_id), db_conn)\n",
    "db_conn.close()"
   ]
  },
  {
   "cell_type": "code",
   "execution_count": 684,
   "metadata": {},
   "outputs": [
    {
     "data": {
      "text/plain": [
       "1575"
      ]
     },
     "execution_count": 684,
     "metadata": {},
     "output_type": "execute_result"
    }
   ],
   "source": [
    "len(ms2_raw_points_df)"
   ]
  },
  {
   "cell_type": "code",
   "execution_count": 685,
   "metadata": {},
   "outputs": [],
   "source": [
    "MS2_MZ_MAX = ms2_raw_points_df.mz.max()\n",
    "MS2_MZ_MIN = ms2_raw_points_df.mz.min()"
   ]
  },
  {
   "cell_type": "code",
   "execution_count": 686,
   "metadata": {},
   "outputs": [
    {
     "data": {
      "text/plain": [
       "(154.84300242408736, 1686.899942827893)"
      ]
     },
     "execution_count": 686,
     "metadata": {},
     "output_type": "execute_result"
    }
   ],
   "source": [
    "MS2_MZ_MIN, MS2_MZ_MAX"
   ]
  },
  {
   "cell_type": "code",
   "execution_count": 687,
   "metadata": {},
   "outputs": [],
   "source": [
    "ms2_bins = np.arange(start=MS2_MZ_MIN, stop=MS2_MZ_MAX+MZ_BIN_WIDTH, step=MZ_BIN_WIDTH)  # go slightly wider to accomodate the maximum value\n"
   ]
  },
  {
   "cell_type": "code",
   "execution_count": 688,
   "metadata": {},
   "outputs": [],
   "source": [
    "MS2_MZ_BIN_COUNT = len(ms2_bins)"
   ]
  },
  {
   "cell_type": "code",
   "execution_count": 689,
   "metadata": {},
   "outputs": [],
   "source": [
    "# initialise an array of lists to hold the m/z and intensity values allocated to each bin\n",
    "ms2_mz_values_array = np.empty(MS2_MZ_BIN_COUNT, dtype=np.object)\n",
    "for idx in range(MS2_MZ_BIN_COUNT):\n",
    "    ms2_mz_values_array[idx] = []\n"
   ]
  },
  {
   "cell_type": "code",
   "execution_count": 690,
   "metadata": {},
   "outputs": [
    {
     "name": "stdout",
     "output_type": "stream",
     "text": [
      "CPU times: user 25.6 ms, sys: 117 µs, total: 25.7 ms\n",
      "Wall time: 27.5 ms\n"
     ]
    }
   ],
   "source": [
    "%%time\n",
    "\n",
    "# gather the m/z values into bins\n",
    "for r in zip(ms2_raw_points_df.mz, ms2_raw_points_df.intensity):\n",
    "    mz = r[0]\n",
    "    intensity = int(r[1])\n",
    "    if (mz >= MS2_MZ_MIN) and (mz <= MS2_MZ_MAX): # it should already but just to be sure\n",
    "        mz_array_idx = int(np.digitize(mz, ms2_bins)) # in which bin should this mz go\n",
    "        ms2_mz_values_array[mz_array_idx].append((mz, intensity))"
   ]
  },
  {
   "cell_type": "code",
   "execution_count": 723,
   "metadata": {},
   "outputs": [
    {
     "name": "stdout",
     "output_type": "stream",
     "text": [
      "4575\n",
      "[337 490 287  80 287  40 258 249 582 332 220 150 237 199 183 312  75 206\n",
      " 243 378 108 112  57 226 217 136 309  80  57  85 156]\n",
      "6688\n",
      "CPU times: user 30.4 ms, sys: 8.57 ms, total: 38.9 ms\n",
      "Wall time: 32.2 ms\n"
     ]
    }
   ],
   "source": [
    "%%time\n",
    "\n",
    "# compute the intensity-weighted m/z centroid and the summed intensity of the bins\n",
    "ms2_peaks = []\n",
    "for bin_idx in range(MS2_MZ_BIN_COUNT):\n",
    "    if len(ms2_mz_values_array[bin_idx]) > 0:\n",
    "        mz_values_for_bin = np.array([ list[0] for list in ms2_mz_values_array[bin_idx]])\n",
    "        intensity_values_for_bin = np.array([ list[1] for list in ms2_mz_values_array[bin_idx]]).astype(int)\n",
    "        mz_centroid = peakutils.centroid(mz_values_for_bin, intensity_values_for_bin)\n",
    "        summed_intensity = intensity_values_for_bin.sum()\n",
    "        if summed_intensity > 6500:\n",
    "            print(bin_idx)\n",
    "            print(intensity_values_for_bin)\n",
    "            print(intensity_values_for_bin.sum())\n",
    "        ms2_peaks.append((mz_centroid,summed_intensity))"
   ]
  },
  {
   "cell_type": "code",
   "execution_count": 739,
   "metadata": {},
   "outputs": [],
   "source": [
    "df = pd.DataFrame(ms2_mz_values_array[4575], columns=['mz','intensity'])"
   ]
  },
  {
   "cell_type": "code",
   "execution_count": 740,
   "metadata": {},
   "outputs": [
    {
     "data": {
      "text/html": [
       "<div>\n",
       "<style scoped>\n",
       "    .dataframe tbody tr th:only-of-type {\n",
       "        vertical-align: middle;\n",
       "    }\n",
       "\n",
       "    .dataframe tbody tr th {\n",
       "        vertical-align: top;\n",
       "    }\n",
       "\n",
       "    .dataframe thead th {\n",
       "        text-align: right;\n",
       "    }\n",
       "</style>\n",
       "<table border=\"1\" class=\"dataframe\">\n",
       "  <thead>\n",
       "    <tr style=\"text-align: right;\">\n",
       "      <th></th>\n",
       "      <th>mz</th>\n",
       "      <th>intensity</th>\n",
       "    </tr>\n",
       "  </thead>\n",
       "  <tbody>\n",
       "    <tr>\n",
       "      <th>14</th>\n",
       "      <td>612.323715</td>\n",
       "      <td>183</td>\n",
       "    </tr>\n",
       "    <tr>\n",
       "      <th>22</th>\n",
       "      <td>612.319813</td>\n",
       "      <td>57</td>\n",
       "    </tr>\n",
       "    <tr>\n",
       "      <th>0</th>\n",
       "      <td>612.315911</td>\n",
       "      <td>337</td>\n",
       "    </tr>\n",
       "    <tr>\n",
       "      <th>27</th>\n",
       "      <td>612.315911</td>\n",
       "      <td>80</td>\n",
       "    </tr>\n",
       "    <tr>\n",
       "      <th>26</th>\n",
       "      <td>612.312010</td>\n",
       "      <td>309</td>\n",
       "    </tr>\n",
       "    <tr>\n",
       "      <th>24</th>\n",
       "      <td>612.312010</td>\n",
       "      <td>217</td>\n",
       "    </tr>\n",
       "    <tr>\n",
       "      <th>19</th>\n",
       "      <td>612.312010</td>\n",
       "      <td>378</td>\n",
       "    </tr>\n",
       "    <tr>\n",
       "      <th>17</th>\n",
       "      <td>612.312010</td>\n",
       "      <td>206</td>\n",
       "    </tr>\n",
       "    <tr>\n",
       "      <th>1</th>\n",
       "      <td>612.312010</td>\n",
       "      <td>490</td>\n",
       "    </tr>\n",
       "    <tr>\n",
       "      <th>30</th>\n",
       "      <td>612.312010</td>\n",
       "      <td>156</td>\n",
       "    </tr>\n",
       "    <tr>\n",
       "      <th>10</th>\n",
       "      <td>612.308108</td>\n",
       "      <td>220</td>\n",
       "    </tr>\n",
       "    <tr>\n",
       "      <th>18</th>\n",
       "      <td>612.308108</td>\n",
       "      <td>243</td>\n",
       "    </tr>\n",
       "    <tr>\n",
       "      <th>28</th>\n",
       "      <td>612.308108</td>\n",
       "      <td>57</td>\n",
       "    </tr>\n",
       "    <tr>\n",
       "      <th>2</th>\n",
       "      <td>612.308108</td>\n",
       "      <td>287</td>\n",
       "    </tr>\n",
       "    <tr>\n",
       "      <th>4</th>\n",
       "      <td>612.308108</td>\n",
       "      <td>287</td>\n",
       "    </tr>\n",
       "    <tr>\n",
       "      <th>23</th>\n",
       "      <td>612.308108</td>\n",
       "      <td>226</td>\n",
       "    </tr>\n",
       "    <tr>\n",
       "      <th>11</th>\n",
       "      <td>612.308108</td>\n",
       "      <td>150</td>\n",
       "    </tr>\n",
       "    <tr>\n",
       "      <th>15</th>\n",
       "      <td>612.308108</td>\n",
       "      <td>312</td>\n",
       "    </tr>\n",
       "    <tr>\n",
       "      <th>7</th>\n",
       "      <td>612.308108</td>\n",
       "      <td>249</td>\n",
       "    </tr>\n",
       "    <tr>\n",
       "      <th>9</th>\n",
       "      <td>612.308108</td>\n",
       "      <td>332</td>\n",
       "    </tr>\n",
       "    <tr>\n",
       "      <th>13</th>\n",
       "      <td>612.308108</td>\n",
       "      <td>199</td>\n",
       "    </tr>\n",
       "    <tr>\n",
       "      <th>6</th>\n",
       "      <td>612.304206</td>\n",
       "      <td>258</td>\n",
       "    </tr>\n",
       "    <tr>\n",
       "      <th>21</th>\n",
       "      <td>612.304206</td>\n",
       "      <td>112</td>\n",
       "    </tr>\n",
       "    <tr>\n",
       "      <th>8</th>\n",
       "      <td>612.304206</td>\n",
       "      <td>582</td>\n",
       "    </tr>\n",
       "    <tr>\n",
       "      <th>12</th>\n",
       "      <td>612.304206</td>\n",
       "      <td>237</td>\n",
       "    </tr>\n",
       "    <tr>\n",
       "      <th>29</th>\n",
       "      <td>612.304206</td>\n",
       "      <td>85</td>\n",
       "    </tr>\n",
       "    <tr>\n",
       "      <th>25</th>\n",
       "      <td>612.300304</td>\n",
       "      <td>136</td>\n",
       "    </tr>\n",
       "    <tr>\n",
       "      <th>20</th>\n",
       "      <td>612.300304</td>\n",
       "      <td>108</td>\n",
       "    </tr>\n",
       "    <tr>\n",
       "      <th>3</th>\n",
       "      <td>612.288599</td>\n",
       "      <td>80</td>\n",
       "    </tr>\n",
       "    <tr>\n",
       "      <th>16</th>\n",
       "      <td>612.276894</td>\n",
       "      <td>75</td>\n",
       "    </tr>\n",
       "    <tr>\n",
       "      <th>5</th>\n",
       "      <td>612.272993</td>\n",
       "      <td>40</td>\n",
       "    </tr>\n",
       "  </tbody>\n",
       "</table>\n",
       "</div>"
      ],
      "text/plain": [
       "            mz  intensity\n",
       "14  612.323715        183\n",
       "22  612.319813         57\n",
       "0   612.315911        337\n",
       "27  612.315911         80\n",
       "26  612.312010        309\n",
       "24  612.312010        217\n",
       "19  612.312010        378\n",
       "17  612.312010        206\n",
       "1   612.312010        490\n",
       "30  612.312010        156\n",
       "10  612.308108        220\n",
       "18  612.308108        243\n",
       "28  612.308108         57\n",
       "2   612.308108        287\n",
       "4   612.308108        287\n",
       "23  612.308108        226\n",
       "11  612.308108        150\n",
       "15  612.308108        312\n",
       "7   612.308108        249\n",
       "9   612.308108        332\n",
       "13  612.308108        199\n",
       "6   612.304206        258\n",
       "21  612.304206        112\n",
       "8   612.304206        582\n",
       "12  612.304206        237\n",
       "29  612.304206         85\n",
       "25  612.300304        136\n",
       "20  612.300304        108\n",
       "3   612.288599         80\n",
       "16  612.276894         75\n",
       "5   612.272993         40"
      ]
     },
     "execution_count": 740,
     "metadata": {},
     "output_type": "execute_result"
    }
   ],
   "source": [
    "df.sort_values(by=['mz'], ascending=False)"
   ]
  },
  {
   "cell_type": "code",
   "execution_count": 738,
   "metadata": {},
   "outputs": [
    {
     "data": {
      "text/plain": [
       "6688"
      ]
     },
     "execution_count": 738,
     "metadata": {},
     "output_type": "execute_result"
    }
   ],
   "source": [
    "df.intensity.sum()"
   ]
  },
  {
   "cell_type": "code",
   "execution_count": 755,
   "metadata": {},
   "outputs": [
    {
     "data": {
      "text/plain": [
       "1545.8757575757577"
      ]
     },
     "execution_count": 755,
     "metadata": {},
     "output_type": "execute_result"
    }
   ],
   "source": [
    "df.groupby('mz').intensity.mean().sum()"
   ]
  },
  {
   "cell_type": "code",
   "execution_count": 741,
   "metadata": {},
   "outputs": [],
   "source": [
    "df.to_csv('/Users/darylwilding-mcbride/Downloads/example_bin_4575.csv')"
   ]
  },
  {
   "cell_type": "code",
   "execution_count": 733,
   "metadata": {
    "scrolled": false
   },
   "outputs": [
    {
     "data": {
      "text/html": [
       "<div>\n",
       "<style scoped>\n",
       "    .dataframe tbody tr th:only-of-type {\n",
       "        vertical-align: middle;\n",
       "    }\n",
       "\n",
       "    .dataframe tbody tr th {\n",
       "        vertical-align: top;\n",
       "    }\n",
       "\n",
       "    .dataframe thead th {\n",
       "        text-align: right;\n",
       "    }\n",
       "</style>\n",
       "<table border=\"1\" class=\"dataframe\">\n",
       "  <thead>\n",
       "    <tr style=\"text-align: right;\">\n",
       "      <th></th>\n",
       "      <th>frame_id</th>\n",
       "      <th>mz</th>\n",
       "      <th>scan</th>\n",
       "      <th>intensity</th>\n",
       "      <th>retention_time_secs</th>\n",
       "    </tr>\n",
       "  </thead>\n",
       "  <tbody>\n",
       "    <tr>\n",
       "      <th>176</th>\n",
       "      <td>41474</td>\n",
       "      <td>612.308108</td>\n",
       "      <td>464</td>\n",
       "      <td>287</td>\n",
       "      <td>4454.557286</td>\n",
       "    </tr>\n",
       "    <tr>\n",
       "      <th>258</th>\n",
       "      <td>41474</td>\n",
       "      <td>612.308108</td>\n",
       "      <td>465</td>\n",
       "      <td>287</td>\n",
       "      <td>4454.557286</td>\n",
       "    </tr>\n",
       "    <tr>\n",
       "      <th>416</th>\n",
       "      <td>41474</td>\n",
       "      <td>612.308108</td>\n",
       "      <td>467</td>\n",
       "      <td>249</td>\n",
       "      <td>4454.557286</td>\n",
       "    </tr>\n",
       "    <tr>\n",
       "      <th>552</th>\n",
       "      <td>41474</td>\n",
       "      <td>612.308108</td>\n",
       "      <td>469</td>\n",
       "      <td>332</td>\n",
       "      <td>4454.557286</td>\n",
       "    </tr>\n",
       "    <tr>\n",
       "      <th>628</th>\n",
       "      <td>41474</td>\n",
       "      <td>612.308108</td>\n",
       "      <td>470</td>\n",
       "      <td>220</td>\n",
       "      <td>4454.557286</td>\n",
       "    </tr>\n",
       "    <tr>\n",
       "      <th>692</th>\n",
       "      <td>41474</td>\n",
       "      <td>612.308108</td>\n",
       "      <td>471</td>\n",
       "      <td>150</td>\n",
       "      <td>4454.557286</td>\n",
       "    </tr>\n",
       "    <tr>\n",
       "      <th>819</th>\n",
       "      <td>41474</td>\n",
       "      <td>612.308108</td>\n",
       "      <td>473</td>\n",
       "      <td>199</td>\n",
       "      <td>4454.557286</td>\n",
       "    </tr>\n",
       "    <tr>\n",
       "      <th>894</th>\n",
       "      <td>41474</td>\n",
       "      <td>612.308108</td>\n",
       "      <td>474</td>\n",
       "      <td>312</td>\n",
       "      <td>4454.557286</td>\n",
       "    </tr>\n",
       "    <tr>\n",
       "      <th>1023</th>\n",
       "      <td>41474</td>\n",
       "      <td>612.308108</td>\n",
       "      <td>476</td>\n",
       "      <td>243</td>\n",
       "      <td>4454.557286</td>\n",
       "    </tr>\n",
       "    <tr>\n",
       "      <th>1246</th>\n",
       "      <td>41474</td>\n",
       "      <td>612.308108</td>\n",
       "      <td>480</td>\n",
       "      <td>226</td>\n",
       "      <td>4454.557286</td>\n",
       "    </tr>\n",
       "    <tr>\n",
       "      <th>1471</th>\n",
       "      <td>41474</td>\n",
       "      <td>612.308108</td>\n",
       "      <td>485</td>\n",
       "      <td>57</td>\n",
       "      <td>4454.557286</td>\n",
       "    </tr>\n",
       "  </tbody>\n",
       "</table>\n",
       "</div>"
      ],
      "text/plain": [
       "      frame_id          mz  scan  intensity  retention_time_secs\n",
       "176      41474  612.308108   464        287          4454.557286\n",
       "258      41474  612.308108   465        287          4454.557286\n",
       "416      41474  612.308108   467        249          4454.557286\n",
       "552      41474  612.308108   469        332          4454.557286\n",
       "628      41474  612.308108   470        220          4454.557286\n",
       "692      41474  612.308108   471        150          4454.557286\n",
       "819      41474  612.308108   473        199          4454.557286\n",
       "894      41474  612.308108   474        312          4454.557286\n",
       "1023     41474  612.308108   476        243          4454.557286\n",
       "1246     41474  612.308108   480        226          4454.557286\n",
       "1471     41474  612.308108   485         57          4454.557286"
      ]
     },
     "execution_count": 733,
     "metadata": {},
     "output_type": "execute_result"
    }
   ],
   "source": [
    "df = ms2_raw_points_df[(ms2_raw_points_df.mz >= 612.308) & (ms2_raw_points_df.mz <= 612.309)]\n",
    "df"
   ]
  },
  {
   "cell_type": "code",
   "execution_count": 735,
   "metadata": {},
   "outputs": [
    {
     "data": {
      "text/plain": [
       "2562"
      ]
     },
     "execution_count": 735,
     "metadata": {},
     "output_type": "execute_result"
    }
   ],
   "source": [
    "df.intensity.sum()"
   ]
  },
  {
   "cell_type": "code",
   "execution_count": 692,
   "metadata": {},
   "outputs": [
    {
     "data": {
      "text/plain": [
       "678"
      ]
     },
     "execution_count": 692,
     "metadata": {},
     "output_type": "execute_result"
    }
   ],
   "source": [
    "len(ms2_peaks)"
   ]
  },
  {
   "cell_type": "code",
   "execution_count": 693,
   "metadata": {},
   "outputs": [],
   "source": [
    "ms2_peaks_df = pd.DataFrame(ms2_peaks, columns=['mz','intensity'])"
   ]
  },
  {
   "cell_type": "code",
   "execution_count": 694,
   "metadata": {},
   "outputs": [
    {
     "data": {
      "image/png": "[encoded data removed]",
      "text/plain": [
       "<Figure size 1080x360 with 1 Axes>"
      ]
     },
     "metadata": {
      "needs_background": "light"
     },
     "output_type": "display_data"
    }
   ],
   "source": [
    "f, ax = plt.subplots()\n",
    "colors = ['tab:blue', 'tab:orange', 'tab:green', 'tab:red', 'tab:purple', 'tab:brown', 'tab:pink', 'tab:gray', 'tab:olive', 'tab:cyan']\n",
    "markerline, stemlines, baseline = ax.stem(ms2_peaks_df.mz, ms2_peaks_df.intensity, 'g')\n",
    "plt.setp(markerline, 'color', colors[2])\n",
    "plt.setp(stemlines, 'color', colors[2])\n",
    "plt.setp(baseline, 'color', colors[7])\n",
    "plt.xlabel('m/z')\n",
    "plt.ylabel('intensity')\n",
    "f.set_figheight(5)\n",
    "f.set_figwidth(15)\n",
    "ax.set_xlim((100,1900))\n",
    "plt.margins(0.06)\n",
    "plt.suptitle('Raw peaks in ms2 for precursor ID {}'.format(precursor_id))\n",
    "plt.title('bin width {} Th'.format(MZ_BIN_WIDTH))\n",
    "plt.show()"
   ]
  },
  {
   "cell_type": "code",
   "execution_count": 695,
   "metadata": {},
   "outputs": [
    {
     "name": "stdout",
     "output_type": "stream",
     "text": [
      "CPU times: user 339 ms, sys: 5.93 ms, total: 345 ms\n",
      "Wall time: 344 ms\n"
     ]
    }
   ],
   "source": [
    "%%time\n",
    "\n",
    "# ms2_deconvoluted_peaks, _ = deconvolute_peaks(ms2_peaks, averagine=averagine.peptide, charge_range=(1,5), scorer=scoring.MSDeconVFitter(10.0), truncate_after=0.95)\n",
    "ms2_deconvoluted_peaks, _ = deconvolute_peaks(ms2_peaks, averagine=averagine.peptide, charge_range=(1,5), scorer=scoring.MSDeconVFitter(10.0), truncate_after=0.95)"
   ]
  },
  {
   "cell_type": "code",
   "execution_count": 696,
   "metadata": {},
   "outputs": [
    {
     "name": "stdout",
     "output_type": "stream",
     "text": [
      "DeconvolutedPeak(a_to_a2_ratio=0.0, area=434.0, average_mass=317.6739006769863, charge=1, chosen_for_msms=False, envelope=[(318.1818, 315.00), (319.1806, 119.00)], full_width_at_half_max=0.01, index=1|1, intensity=434.0, most_abundant_mass=317.1744823999862, mz=318.1817588667562, neutral_mass=317.1744823999862, score=20.483664404011243, signal_to_noise=217.0)\n",
      "\n",
      "DeconvolutedPeak(a_to_a2_ratio=0.0, area=703.0, average_mass=386.6971117152199, charge=1, chosen_for_msms=False, envelope=[(387.1995, 531.00), (388.2093, 172.00)], full_width_at_half_max=0.01, index=2|2, intensity=703.0, most_abundant_mass=386.1922048729834, mz=387.1994813397534, neutral_mass=386.1922048729834, score=27.818602552488993, signal_to_noise=351.5)\n",
      "\n",
      "DeconvolutedPeak(a_to_a2_ratio=0.0, area=174.0, average_mass=485.71228105060027, charge=1, chosen_for_msms=False, envelope=[(486.2191, 133.00), (487.2200, 41.00)], full_width_at_half_max=0.01, index=12|12, intensity=174.0, most_abundant_mass=485.21179610305336, mz=486.21907256982337, neutral_mass=485.21179610305336, score=16.509846562823235, signal_to_noise=87.0)\n",
      "\n",
      "DeconvolutedPeak(a_to_a2_ratio=0.0, area=302.0, average_mass=500.7405763613923, charge=1, chosen_for_msms=False, envelope=[(501.2513, 239.00), (502.2444, 63.00)], full_width_at_half_max=0.01, index=14|15, intensity=302.0, most_abundant_mass=500.24399402502365, mz=501.25127049179366, neutral_mass=500.24399402502365, score=19.4702339825223, signal_to_noise=151.0)\n",
      "\n",
      "DeconvolutedPeak(a_to_a2_ratio=0.0, area=443.0, average_mass=515.7482269130194, charge=1, chosen_for_msms=False, envelope=[(516.2582, 320.00), (517.2528, 123.00)], full_width_at_half_max=0.01, index=18|19, intensity=443.0, most_abundant_mass=515.2509296094609, mz=516.2582060762309, neutral_mass=515.2509296094609, score=22.148497338821414, signal_to_noise=221.5)\n",
      "\n",
      "DeconvolutedPeak(a_to_a2_ratio=0.0, area=791.0, average_mass=518.7512253583338, charge=1, chosen_for_msms=False, envelope=[(519.2584, 470.00), (520.2586, 321.00)], full_width_at_half_max=0.01, index=19|20, intensity=791.0, most_abundant_mass=518.2511683169998, mz=519.2584447837698, neutral_mass=518.2511683169998, score=25.277433444898776, signal_to_noise=395.5)\n",
      "\n",
      "DeconvolutedPeak(a_to_a2_ratio=0.0, area=341.0, average_mass=519.7534823668134, charge=1, chosen_for_msms=False, envelope=[(520.2586, 148.63), (521.2630, 20.00)], full_width_at_half_max=0.01, index=20|21, intensity=168.62670457958635, most_abundant_mass=519.2512823996678, mz=520.2585588664379, neutral_mass=519.2512823996678, score=11.72662149459669, signal_to_noise=170.5)\n",
      "\n",
      "DeconvolutedPeak(a_to_a2_ratio=16.972107216910125, area=240.0, average_mass=553.2344609456893, charge=1, chosen_for_msms=False, envelope=[(553.2373, 146.00), (554.2370, 60.00), (555.2509, 34.00)], full_width_at_half_max=0.01, index=21|23, intensity=240.0, most_abundant_mass=552.2300110108071, mz=553.2372874775771, neutral_mass=552.2300110108071, score=17.395719567538492, signal_to_noise=80.0)\n",
      "\n",
      "DeconvolutedPeak(a_to_a2_ratio=16.96205947774689, area=89.0, average_mass=553.742254130847, charge=1, chosen_for_msms=False, envelope=[(554.2482, 55.00), (555.2509, 23.62), (556.2535, 1.00)], full_width_at_half_max=0.01, index=22|24, intensity=78.62050820538852, most_abundant_mass=553.240885455564, mz=554.248161922334, neutral_mass=553.240885455564, score=10.791301521344165, signal_to_noise=44.5)\n",
      "\n",
      "DeconvolutedPeak(a_to_a2_ratio=16.891951354211447, area=351.0, average_mass=561.2568795559166, charge=1, chosen_for_msms=False, envelope=[(561.2627, 228.00), (562.2580, 78.00), (563.2717, 45.00)], full_width_at_half_max=0.01, index=23|25, intensity=351.0, most_abundant_mass=560.2554029438727, mz=561.2626794106427, neutral_mass=560.2554029438727, score=21.327380590125546, signal_to_noise=117.0)\n",
      "\n",
      "DeconvolutedPeak(a_to_a2_ratio=15.568451883369788, area=133.0, average_mass=576.7786703793652, charge=1, chosen_for_msms=False, envelope=[(577.2790, 91.00), (578.2929, 42.00), (579.2843, 1.00)], full_width_at_half_max=0.01, index=25|27, intensity=133.0, most_abundant_mass=576.2716902494038, mz=577.2789667161738, neutral_mass=576.2716902494038, score=11.290749351696315, signal_to_noise=66.5)\n",
      "\n",
      "DeconvolutedPeak(a_to_a2_ratio=15.472523466436263, area=602.0, average_mass=589.263779789764, charge=1, chosen_for_msms=False, envelope=[(589.2698, 333.00), (590.2692, 224.00), (591.2742, 45.00)], full_width_at_half_max=0.01, index=26|29, intensity=602.0, most_abundant_mass=588.2624797162803, mz=589.2697561830503, neutral_mass=588.2624797162803, score=26.032660809085794, signal_to_noise=200.66666666666666)\n",
      "\n",
      "DeconvolutedPeak(a_to_a2_ratio=15.45516772777441, area=269.0, average_mass=589.764429826506, charge=1, chosen_for_msms=False, envelope=[(590.2692, 86.39), (591.2742, 16.81), (592.2746, 1.00)], full_width_at_half_max=0.01, index=27|30, intensity=103.20161119503008, most_abundant_mass=589.2619671420592, mz=590.2692436088292, neutral_mass=589.2619671420592, score=10.676340666872113, signal_to_noise=134.5)\n",
      "\n",
      "DeconvolutedPeak(a_to_a2_ratio=15.411893265842803, area=329.0, average_mass=595.2854178902693, charge=1, chosen_for_msms=False, envelope=[(595.2879, 167.00), (596.2934, 110.00), (597.2967, 52.00)], full_width_at_half_max=0.01, index=28|31, intensity=329.0, most_abundant_mass=594.2806704340746, mz=595.290045885237, neutral_mass=594.282769418467, score=16.95435257177834, signal_to_noise=109.66666666666667)\n",
      "\n",
      "DeconvolutedPeak(a_to_a2_ratio=14.69665737165602, area=159.0, average_mass=599.7559547983851, charge=1, chosen_for_msms=False, envelope=[(600.2608, 112.00), (601.2657, 47.00), (602.2662, 1.00)], full_width_at_half_max=0.01, index=29|32, intensity=159.0, most_abundant_mass=599.2535311439965, mz=600.2608076107665, neutral_mass=599.2535311439965, score=15.383583883964265, signal_to_noise=79.5)\n",
      "\n",
      "DeconvolutedPeak(a_to_a2_ratio=14.648142572366428, area=391.0, average_mass=605.782038149626, charge=1, chosen_for_msms=False, envelope=[(606.2840, 277.00), (607.2947, 114.00), (608.2894, 1.00)], full_width_at_half_max=0.01, index=30|33, intensity=391.0, most_abundant_mass=605.2766908704195, mz=606.2839673371896, neutral_mass=605.2766908704195, score=21.783880316765078, signal_to_noise=195.5)\n",
      "\n",
      "DeconvolutedPeak(a_to_a2_ratio=14.599845514021414, area=11211.0, average_mass=612.3035904881497, charge=1, chosen_for_msms=False, envelope=[(612.3083, 6688.00), (613.3117, 3673.00), (614.3126, 850.00)], full_width_at_half_max=0.01, index=31|34, intensity=11211.0, most_abundant_mass=611.3010479099748, mz=612.3083243767448, neutral_mass=611.3010479099748, score=131.81759537186355, signal_to_noise=3737.0)\n",
      "\n",
      "DeconvolutedPeak(a_to_a2_ratio=14.583794683785209, area=940.0, average_mass=614.3116770725412, charge=1, chosen_for_msms=False, envelope=[(614.3126, 300.00), (615.3186, 67.00), (616.3257, 23.00)], full_width_at_half_max=0.01, index=32|35, intensity=390.00023139637597, most_abundant_mass=613.3053049509455, mz=614.3125814177155, neutral_mass=613.3053049509455, score=23.719532645706714, signal_to_noise=313.3333333333333)\n",
      "\n",
      "DeconvolutedPeak(a_to_a2_ratio=13.706139598131482, area=128.0, average_mass=629.778470340941, charge=1, chosen_for_msms=False, envelope=[(630.2848, 89.00), (631.2867, 39.00), (632.2902, 1.00)], full_width_at_half_max=0.01, index=34|37, intensity=128.0, most_abundant_mass=629.277506274138, mz=630.284782740908, neutral_mass=629.277506274138, score=14.061135093931949, signal_to_noise=64.0)\n",
      "\n",
      "DeconvolutedPeak(a_to_a2_ratio=12.690515021025647, area=425.0, average_mass=657.2819195714825, charge=1, chosen_for_msms=False, envelope=[(657.2839, 235.00), (658.2873, 104.00), (659.2964, 86.00)], full_width_at_half_max=0.01, index=35|39, intensity=425.0, most_abundant_mass=656.2766323261664, mz=657.2839137475044, neutral_mass=656.2766372807343, score=24.243966902776606, signal_to_noise=141.66666666666666)\n",
      "\n",
      "DeconvolutedPeak(a_to_a2_ratio=12.050278594004457, area=161.0, average_mass=677.8048138014658, charge=1, chosen_for_msms=False, envelope=[(678.3082, 111.00), (679.3160, 50.00), (680.3136, 1.00)], full_width_at_half_max=0.01, index=36|40, intensity=161.0, most_abundant_mass=677.300894953777, mz=678.308171420547, neutral_mass=677.300894953777, score=14.835407859757536, signal_to_noise=80.5)\n",
      "\n",
      "DeconvolutedPeak(a_to_a2_ratio=11.348176681508955, area=506.0, average_mass=700.287989881777, charge=1, chosen_for_msms=False, envelope=[(700.2902, 408.00), (701.2918, 70.00), (702.3038, 28.00)], full_width_at_half_max=0.01, index=37|42, intensity=506.0, most_abundant_mass=699.2829425902155, mz=700.2902190569855, neutral_mass=699.2829425902155, score=21.506203816740683, signal_to_noise=168.66666666666666)\n",
      "\n",
      "DeconvolutedPeak(a_to_a2_ratio=11.309069140500272, area=318.0, average_mass=706.8231625802275, charge=1, chosen_for_msms=False, envelope=[(707.3310, 160.00), (708.3299, 158.00), (709.3364, 1.00)], full_width_at_half_max=0.01, index=38|43, intensity=318.0, most_abundant_mass=706.3236987106663, mz=707.3309751774364, neutral_mass=706.3236987106663, score=14.717120895071595, signal_to_noise=159.0)\n",
      "\n",
      "DeconvolutedPeak(a_to_a2_ratio=10.642152586936463, area=847.0, average_mass=718.3014093512069, charge=1, chosen_for_msms=False, envelope=[(718.3090, 551.00), (719.3062, 272.00), (720.3108, 24.00)], full_width_at_half_max=0.01, index=39|44, intensity=847.0, most_abundant_mass=717.301768433192, mz=718.309044899962, neutral_mass=717.301768433192, score=32.60362456359581, signal_to_noise=282.3333333333333)\n",
      "\n",
      "DeconvolutedPeak(a_to_a2_ratio=10.606842368311298, area=1185.0, average_mass=725.3877086873093, charge=1, chosen_for_msms=False, envelope=[(725.3909, 731.00), (726.3946, 369.00), (727.3995, 85.00)], full_width_at_half_max=0.01, index=40|45, intensity=1185.0, most_abundant_mass=724.3836354168235, mz=725.3909118835935, neutral_mass=724.3836354168235, score=48.06005903670092, signal_to_noise=395.0)\n",
      "\n",
      "DeconvolutedPeak(a_to_a2_ratio=10.177454956865988, area=185.0, average_mass=732.3597848889082, charge=1, chosen_for_msms=False, envelope=[(732.3668, 78.00), (733.3614, 55.00), (734.3731, 52.00)], full_width_at_half_max=0.01, index=41|46, intensity=185.0, most_abundant_mass=731.3594943585076, mz=732.366345361631, neutral_mass=731.359068894861, score=10.136737295593926, signal_to_noise=61.666666666666664)\n",
      "\n",
      "DeconvolutedPeak(a_to_a2_ratio=10.167949983400188, area=759.0, average_mass=734.8253977543159, charge=1, chosen_for_msms=False, envelope=[(735.3313, 530.00), (736.3340, 229.00), (737.3368, 1.00)], full_width_at_half_max=0.01, index=42|47, intensity=759.0, most_abundant_mass=734.3240553332842, mz=735.3313318000542, neutral_mass=734.3240553332842, score=35.30003899015428, signal_to_noise=379.5)\n",
      "\n",
      "DeconvolutedPeak(a_to_a2_ratio=9.62903878635993, area=191.0, average_mass=770.8515036865836, charge=1, chosen_for_msms=False, envelope=[(771.3601, 128.00), (772.3575, 63.00), (773.3656, 1.00)], full_width_at_half_max=0.01, index=43|49, intensity=191.0, most_abundant_mass=770.352833415858, mz=771.360109882628, neutral_mass=770.352833415858, score=15.936485175939184, signal_to_noise=95.5)\n",
      "\n",
      "DeconvolutedPeak(a_to_a2_ratio=9.163050259472039, area=4413.0, average_mass=782.4085294258069, charge=1, chosen_for_msms=False, envelope=[(782.4150, 2586.00), (783.4167, 1334.00), (784.4156, 493.00)], full_width_at_half_max=0.01, index=45|51, intensity=4413.0, most_abundant_mass=781.4077597382292, mz=782.4150362049992, neutral_mass=781.4077597382292, score=89.91556886755967, signal_to_noise=1471.0)\n",
      "\n",
      "DeconvolutedPeak(a_to_a2_ratio=9.158939241498189, area=640.0, average_mass=783.9078913614366, charge=1, chosen_for_msms=False, envelope=[(784.4156, 179.26), (785.4147, 147.00), (786.4211, 1.00)], full_width_at_half_max=0.01, index=46|52, intensity=326.25742599317965, most_abundant_mass=783.4083601195799, mz=784.4156365863499, neutral_mass=783.4083601195799, score=17.902779598804006, signal_to_noise=320.0)\n",
      "\n",
      "DeconvolutedPeak(a_to_a2_ratio=9.138422789946258, area=298.0, average_mass=787.8709041241536, charge=1, chosen_for_msms=False, envelope=[(788.3812, 223.00), (789.3752, 75.00), (790.3867, 1.00)], full_width_at_half_max=0.01, index=47|53, intensity=298.0, most_abundant_mass=787.3739206281873, mz=788.3811970949573, neutral_mass=787.3739206281873, score=17.547690327290855, signal_to_noise=149.0)\n",
      "\n",
      "DeconvolutedPeak(a_to_a2_ratio=8.645996418333395, area=191.0, average_mass=805.3281094174339, charge=1, chosen_for_msms=False, envelope=[(805.3363, 75.00), (806.3378, 54.00), (807.3321, 62.00)], full_width_at_half_max=0.01, index=48|54, intensity=191.0, most_abundant_mass=804.3290394902439, mz=805.3344122107742, neutral_mass=804.3271357440042, score=11.842859276380977, signal_to_noise=63.666666666666664)\n",
      "\n",
      "DeconvolutedPeak(a_to_a2_ratio=8.586259315106377, area=353.0, average_mass=820.41001477714, charge=1, chosen_for_msms=False, envelope=[(820.4166, 195.00), (821.4201, 53.00), (822.4151, 105.00)], full_width_at_half_max=0.01, index=49|55, intensity=353.0, most_abundant_mass=819.4093358501113, mz=820.4166123168814, neutral_mass=819.4093358501113, score=15.457317536634994, signal_to_noise=117.66666666666667)\n",
      "\n",
      "DeconvolutedPeak(a_to_a2_ratio=8.25398727103939, area=637.0, average_mass=831.3880103441609, charge=1, chosen_for_msms=False, envelope=[(831.3878, 297.00), (832.3979, 215.00), (833.4002, 125.00)], full_width_at_half_max=0.01, index=50|56, intensity=637.0, most_abundant_mass=830.3804941013727, mz=831.3945216493404, neutral_mass=830.3872451825704, score=24.95421693424456, signal_to_noise=212.33333333333334)\n",
      "\n",
      "DeconvolutedPeak(a_to_a2_ratio=7.919293845672428, area=1752.0, average_mass=848.4051506334682, charge=1, chosen_for_msms=False, envelope=[(848.4097, 822.00), (849.4069, 358.00), (850.4207, 180.25)], full_width_at_half_max=0.01, index=51|58, intensity=1360.2537579629227, most_abundant_mass=847.4023928353342, mz=848.4096693021042, neutral_mass=847.4023928353342, score=46.65690218450133, signal_to_noise=584.0)\n",
      "\n",
      "DeconvolutedPeak(a_to_a2_ratio=7.459048608356073, area=1108.0, average_mass=869.4292786643781, charge=1, chosen_for_msms=False, envelope=[(869.4368, 750.00), (870.4378, 204.00), (871.4351, 154.00)], full_width_at_half_max=0.01, index=52|62, intensity=1108.0, most_abundant_mass=868.4294920333397, mz=869.4367685001097, neutral_mass=868.4294920333397, score=36.56955339197821, signal_to_noise=369.3333333333333)\n",
      "\n",
      "DeconvolutedPeak(a_to_a2_ratio=7.459048608356073, area=5098.0, average_mass=869.4460024635989, charge=1, chosen_for_msms=False, envelope=[(869.4509, 2694.00), (870.4542, 1908.00), (871.4548, 496.00)], full_width_at_half_max=0.01, index=53|63, intensity=5098.0, most_abundant_mass=868.443596252736, mz=869.450872719506, neutral_mass=868.443596252736, score=97.50383171505034, signal_to_noise=1699.3333333333333)\n",
      "\n",
      "DeconvolutedPeak(a_to_a2_ratio=7.453002084617507, area=112.0, average_mass=871.9569184870422, charge=1, chosen_for_msms=False, envelope=[(872.4611, 67.00), (873.4673, 45.00), (874.4665, 1.00)], full_width_at_half_max=0.01, index=54|64, intensity=112.0, most_abundant_mass=871.4538032077159, mz=872.4610796744859, neutral_mass=871.4538032077159, score=12.094568549162313, signal_to_noise=56.0)\n",
      "\n",
      "DeconvolutedPeak(a_to_a2_ratio=7.428884501165066, area=67.0, average_mass=878.8678557478365, charge=1, chosen_for_msms=False, envelope=[(879.3723, 47.00), (880.3779, 20.00), (881.3778, 1.00)], full_width_at_half_max=0.01, index=55|65, intensity=67.0, most_abundant_mass=878.3650565817657, mz=879.3723330485357, neutral_mass=878.3650565817657, score=10.025597302853912, signal_to_noise=33.5)\n",
      "\n",
      "DeconvolutedPeak(a_to_a2_ratio=7.419868583388007, area=170.0, average_mass=882.9483352495378, charge=1, chosen_for_msms=False, envelope=[(883.4583, 117.00), (884.4530, 53.00), (885.4637, 1.00)], full_width_at_half_max=0.01, index=56|66, intensity=170.0, most_abundant_mass=882.4509828778121, mz=883.4582593445821, neutral_mass=882.4509828778121, score=13.920093962571471, signal_to_noise=85.0)\n",
      "\n",
      "DeconvolutedPeak(a_to_a2_ratio=6.857071226181485, area=251.0, average_mass=917.9162198374497, charge=1, chosen_for_msms=False, envelope=[(918.4223, 123.00), (919.4247, 128.00), (920.4278, 1.00)], full_width_at_half_max=0.01, index=57|68, intensity=251.0, most_abundant_mass=918.4174261421585, mz=918.422289999511, neutral_mass=917.415013532741, score=15.901742663061203, signal_to_noise=125.5)\n",
      "\n",
      "DeconvolutedPeak(a_to_a2_ratio=6.854383017063331, area=133.0, average_mass=919.9079553395368, charge=1, chosen_for_msms=False, envelope=[(920.4080, 82.00), (921.4224, 51.00), (922.4136, 1.00)], full_width_at_half_max=0.01, index=58|69, intensity=133.0, most_abundant_mass=919.4007412345197, mz=920.4080177012897, neutral_mass=919.4007412345197, score=11.412524137043842, signal_to_noise=66.5)\n",
      "\n",
      "DeconvolutedPeak(a_to_a2_ratio=6.600410972151792, area=228.0, average_mass=934.9306709279277, charge=1, chosen_for_msms=False, envelope=[(935.4369, 90.00), (936.4390, 138.00), (937.4425, 1.00)], full_width_at_half_max=0.01, index=59|70, intensity=228.0, most_abundant_mass=935.4316957151664, mz=935.4369226074591, neutral_mass=934.4296461406891, score=11.202409093402547, signal_to_noise=114.0)\n",
      "\n",
      "DeconvolutedPeak(a_to_a2_ratio=6.600410972151792, area=224.0, average_mass=935.9524149971555, charge=1, chosen_for_msms=False, envelope=[(936.4564, 160.00), (937.4630, 64.00), (938.4620, 1.00)], full_width_at_half_max=0.01, index=60|71, intensity=224.0, most_abundant_mass=935.4491272965023, mz=936.4564037632723, neutral_mass=935.4491272965023, score=16.97562443462353, signal_to_noise=112.0)\n",
      "\n",
      "DeconvolutedPeak(a_to_a2_ratio=6.211988961275115, area=263.0, average_mass=974.4474706614534, charge=1, chosen_for_msms=False, envelope=[(974.4588, 147.00), (975.4482, 27.00), (976.4572, 89.00)], full_width_at_half_max=0.01, index=61|72, intensity=263.0, most_abundant_mass=973.4515491541549, mz=974.4588256209249, neutral_mass=973.4515491541549, score=13.438301587639096, signal_to_noise=87.66666666666667)\n",
      "\n",
      "DeconvolutedPeak(a_to_a2_ratio=6.209667821557489, area=205.0, average_mass=974.9201569684867, charge=1, chosen_for_msms=False, envelope=[(975.4303, 146.00), (976.4246, 59.00), (977.4358, 1.00)], full_width_at_half_max=0.01, index=62|73, intensity=205.0, most_abundant_mass=974.4230358192528, mz=975.4303122860229, neutral_mass=974.4230358192528, score=14.279322021843097, signal_to_noise=102.5)\n",
      "\n",
      "DeconvolutedPeak(a_to_a2_ratio=6.009900097031391, area=3020.0, average_mass=982.5197345009299, charge=1, chosen_for_msms=False, envelope=[(982.5229, 1466.00), (983.5268, 1036.00), (984.5313, 518.00)], full_width_at_half_max=0.01, index=64|74, intensity=3020.0, most_abundant_mass=981.515591789694, mz=982.5234688535085, neutral_mass=981.5161923867385, score=72.45613121929577, signal_to_noise=1006.6666666666666)\n",
      "\n",
      "DeconvolutedPeak(a_to_a2_ratio=6.007684509686618, area=450.0, average_mass=983.546555009894, charge=1, chosen_for_msms=False, envelope=[(983.5544, 260.00), (984.5572, 129.00), (985.5499, 61.00)], full_width_at_half_max=0.01, index=65|75, intensity=450.0, most_abundant_mass=982.5471211901358, mz=983.5543976569058, neutral_mass=982.5471211901358, score=29.50430487941336, signal_to_noise=150.0)\n",
      "\n",
      "DeconvolutedPeak(a_to_a2_ratio=6.0054700782419035, area=590.0, average_mass=984.021882658978, charge=1, chosen_for_msms=False, envelope=[(984.5313, 222.40), (985.5270, 72.00), (986.5369, 1.00)], full_width_at_half_max=0.01, index=66|76, intensity=294.3974374135736, most_abundant_mass=983.5240644885572, mz=984.5313409553272, neutral_mass=983.5240644885572, score=16.018549479089664, signal_to_noise=295.0)\n",
      "\n",
      "DeconvolutedPeak(a_to_a2_ratio=5.987796149182567, area=655.0, average_mass=992.4670138669227, charge=1, chosen_for_msms=False, envelope=[(992.4668, 426.00), (993.4790, 175.00), (994.4771, 54.00)], full_width_at_half_max=0.01, index=67|77, intensity=655.0, most_abundant_mass=991.459523404327, mz=992.466799871097, neutral_mass=991.459523404327, score=29.937448844832325, signal_to_noise=218.33333333333334)\n",
      "\n",
      "DeconvolutedPeak(a_to_a2_ratio=5.789493351330999, area=149.0, average_mass=1003.0014143110246, charge=1, chosen_for_msms=False, envelope=[(1003.5055, 90.00), (1004.5119, 59.00), (1005.5110, 1.00)], full_width_at_half_max=0.01, index=68|78, intensity=149.0, most_abundant_mass=1002.4982082793719, mz=1003.5054847461419, neutral_mass=1002.4982082793719, score=14.31552932523012, signal_to_noise=74.5)\n",
      "\n",
      "DeconvolutedPeak(a_to_a2_ratio=5.122204328838955, area=328.0, average_mass=1070.0070343754994, charge=1, chosen_for_msms=False, envelope=[(1070.5143, 139.00), (1071.5143, 189.00), (1072.5199, 1.00)], full_width_at_half_max=0.01, index=71|80, intensity=328.0, most_abundant_mass=1070.5069958716604, mz=1070.5143493461087, neutral_mass=1069.5070728793387, score=15.762753831936479, signal_to_noise=164.0)\n",
      "\n",
      "DeconvolutedPeak(a_to_a2_ratio=5.109933085135674, area=231.0, average_mass=1077.5546084330047, charge=1, chosen_for_msms=False, envelope=[(1077.5520, 127.00), (1078.5563, 94.00), (1079.5774, 10.00)], full_width_at_half_max=0.01, index=72|81, intensity=231.0, most_abundant_mass=1076.5446868743034, mz=1077.5519633410734, neutral_mass=1076.5446868743034, score=18.398887006007826, signal_to_noise=77.0)\n",
      "\n",
      "DeconvolutedPeak(a_to_a2_ratio=5.092475223608109, area=268.0, average_mass=1087.0359144031263, charge=1, chosen_for_msms=False, envelope=[(1087.5342, 206.00), (1088.5522, 62.00), (1089.5397, 1.00)], full_width_at_half_max=0.01, index=73|82, intensity=268.0, most_abundant_mass=1086.526881465828, mz=1087.534157932598, neutral_mass=1086.526881465828, score=11.839557300815875, signal_to_noise=134.0)\n",
      "\n",
      "DeconvolutedPeak(a_to_a2_ratio=5.090734110587983, area=658.0, average_mass=1088.5168873183513, charge=1, chosen_for_msms=False, envelope=[(1088.5142, 492.00), (1089.5268, 102.00), (1090.5315, 64.00)], full_width_at_half_max=0.01, index=74|83, intensity=658.0, most_abundant_mass=1087.5068905877226, mz=1088.5141670544926, neutral_mass=1087.5068905877226, score=19.691592464772828, signal_to_noise=219.33333333333334)\n",
      "\n",
      "DeconvolutedPeak(a_to_a2_ratio=4.866397779117087, area=277.0, average_mass=1105.0238100394886, charge=1, chosen_for_msms=False, envelope=[(1105.5260, 123.00), (1106.5362, 154.00), (1107.5315, 1.00)], full_width_at_half_max=0.01, index=75|84, intensity=277.0, most_abundant_mass=1105.5288870016482, mz=1105.526009544099, neutral_mass=1104.518733077329, score=13.970607553854805, signal_to_noise=138.5)\n",
      "\n",
      "DeconvolutedPeak(a_to_a2_ratio=4.8663977791170865, area=962.0, average_mass=1105.5527265594765, charge=1, chosen_for_msms=False, envelope=[(1105.5597, 448.00), (1106.5620, 386.00), (1107.5582, 128.00)], full_width_at_half_max=0.01, index=76|85, intensity=962.0, most_abundant_mass=1104.5524607713664, mz=1105.5597372381364, neutral_mass=1104.5524607713664, score=40.71907395558236, signal_to_noise=320.6666666666667)\n",
      "\n",
      "DeconvolutedPeak(a_to_a2_ratio=4.856672002117312, area=1777.0, average_mass=1111.569348349129, charge=1, chosen_for_msms=False, envelope=[(1111.5717, 872.00), (1112.5730, 642.00), (1113.5852, 263.00)], full_width_at_half_max=0.01, index=77|86, intensity=1777.0, most_abundant_mass=1110.5644362392013, mz=1111.5717127059713, neutral_mass=1110.5644362392013, score=56.179265341736524, signal_to_noise=592.3333333333334)\n",
      "\n",
      "DeconvolutedPeak(a_to_a2_ratio=4.373792730181017, area=148.0, average_mass=1171.9074445211859, charge=2, chosen_for_msms=False, envelope=[(586.7127, 74.00), (587.2093, 74.00), (587.7155, 1.00)], full_width_at_half_max=0.01, index=78|28, intensity=148.0, most_abundant_mass=1171.4108258658543, mz=586.7126893996972, neutral_mass=1171.4108258658543, score=12.665391059187225, signal_to_noise=74.0)\n",
      "\n",
      "DeconvolutedPeak(a_to_a2_ratio=4.206533037815422, area=1491.0, average_mass=1198.596555884094, charge=1, chosen_for_msms=False, envelope=[(1198.6057, 641.00), (1199.6043, 540.00), (1200.6015, 310.00)], full_width_at_half_max=0.01, index=79|87, intensity=1491.0, most_abundant_mass=1197.5984119025184, mz=1198.6009696431051, neutral_mass=1197.5936931763351, score=45.903135296274016, signal_to_noise=497.0)\n",
      "\n",
      "DeconvolutedPeak(a_to_a2_ratio=4.203908878118899, area=492.0, average_mass=1200.604985034767, charge=1, chosen_for_msms=False, envelope=[(1200.6015, 121.74), (1201.6198, 137.00), (1202.6155, 45.00)], full_width_at_half_max=0.01, index=80|88, intensity=303.7418198709016, most_abundant_mass=1200.612541387878, mz=1200.608772771964, neutral_mass=1199.601496305194, score=16.094260477505582, signal_to_noise=164.0)\n",
      "\n",
      "DeconvolutedPeak(a_to_a2_ratio=3.806260383977407, area=228.0, average_mass=1268.0930340396228, charge=1, chosen_for_msms=False, envelope=[(1268.5943, 103.00), (1269.6063, 125.00), (1270.5999, 1.00)], full_width_at_half_max=0.01, index=81|89, intensity=228.0, most_abundant_mass=1268.5990280393, mz=1268.5943165067154, neutral_mass=1267.5870400399454, score=13.203676423216203, signal_to_noise=114.0)\n",
      "\n",
      "DeconvolutedPeak(a_to_a2_ratio=3.6780308708908227, area=707.0, average_mass=1285.6135183676429, charge=1, chosen_for_msms=False, envelope=[(1285.6227, 390.00), (1286.6344, 155.00), (1287.6053, 162.00)], full_width_at_half_max=0.01, index=82|90, intensity=707.0, most_abundant_mass=1284.6153934294575, mz=1285.6226698962275, neutral_mass=1284.6153934294575, score=21.645715996500982, signal_to_noise=235.66666666666666)\n",
      "\n",
      "DeconvolutedPeak(a_to_a2_ratio=3.6780308708908223, area=420.0, average_mass=1285.647492036079, charge=1, chosen_for_msms=False, envelope=[(1285.6572, 162.00), (1286.6511, 160.00), (1287.6561, 98.00)], full_width_at_half_max=0.01, index=83|91, intensity=420.0, most_abundant_mass=1284.6498876007672, mz=1285.6493626767317, neutral_mass=1284.6420862099617, score=22.629448344064343, signal_to_noise=140.0)\n",
      "\n",
      "DeconvolutedPeak(a_to_a2_ratio=3.676952355184564, area=97.0, average_mass=1286.129534069435, charge=2, chosen_for_msms=False, envelope=[(643.8199, 55.00), (644.3241, 42.00), (644.8227, 1.00)], full_width_at_half_max=0.01, index=84|38, intensity=97.0, most_abundant_mass=1285.6253223509832, mz=643.8199376422616, neutral_mass=1285.6253223509832, score=11.319555716852072, signal_to_noise=48.5)\n",
      "\n",
      "DeconvolutedPeak(a_to_a2_ratio=2.800459793316921, area=436.0, average_mass=1383.162630766994, charge=2, chosen_for_msms=False, envelope=[(691.8407, 217.00), (692.3399, 56.00), (692.8378, 105.00), (693.3360, 58.00)], full_width_at_half_max=0.01, index=85|41, intensity=436.0, most_abundant_mass=1381.6668663506398, mz=691.8407096420899, neutral_mass=1381.6668663506398, score=20.394291674001664, signal_to_noise=109.0)\n",
      "\n",
      "DeconvolutedPeak(a_to_a2_ratio=2.4572782903523285, area=310.0, average_mass=1494.7576589332864, charge=2, chosen_for_msms=False, envelope=[(747.8824, 56.00), (748.3865, 114.00), (748.8894, 140.00), (749.3878, 1.00)], full_width_at_half_max=0.01, index=87|48, intensity=310.0, most_abundant_mass=1495.7642013970415, mz=747.8848303419545, neutral_mass=1493.755107750369, score=13.796802239411356, signal_to_noise=103.33333333333333)\n",
      "\n",
      "DeconvolutedPeak(a_to_a2_ratio=1.9812659310563647, area=536.0, average_mass=1681.3122754698447, charge=2, chosen_for_msms=False, envelope=[(840.9150, 176.00), (841.4176, 201.00), (841.9166, 136.00), (842.4044, 23.00)], full_width_at_half_max=0.01, index=88|57, intensity=536.0, most_abundant_mass=1680.8207432457425, mz=840.9149923715803, neutral_mass=1679.8154318096206, score=33.242442016840194, signal_to_noise=134.0)\n",
      "\n",
      "DeconvolutedPeak(a_to_a2_ratio=1.9710554382416814, area=1030.0, average_mass=1699.828882117004, charge=2, chosen_for_msms=False, envelope=[(850.4207, 572.00), (850.9170, 309.00), (851.4274, 149.00), (851.9238, 1.00)], full_width_at_half_max=0.01, index=89|59, intensity=1030.0, most_abundant_mass=1698.8268276704425, mz=850.4206903019913, neutral_mass=1698.8268276704425, score=35.55737921973674, signal_to_noise=343.3333333333333)\n",
      "\n",
      "DeconvolutedPeak(a_to_a2_ratio=1.930499203014767, area=1869.0, average_mass=1718.341211724242, charge=2, chosen_for_msms=False, envelope=[(859.4292, 909.00), (859.9272, 539.00), (860.4260, 257.00), (860.9291, 164.00)], full_width_at_half_max=0.01, index=90|60, intensity=1869.0, most_abundant_mass=1716.8439169480046, mz=859.4255304991543, neutral_mass=1716.8365080647686, score=60.53986742580754, signal_to_noise=467.25)\n",
      "\n",
      "DeconvolutedPeak(a_to_a2_ratio=1.930499203014767, area=276.0, average_mass=1717.8756811189771, charge=2, chosen_for_msms=False, envelope=[(859.4458, 109.00), (859.9451, 71.00), (860.4445, 96.00), (860.9466, 1.00)], full_width_at_half_max=0.01, index=91|61, intensity=276.0, most_abundant_mass=1716.876961371293, mz=859.4433912736479, neutral_mass=1716.8722296137557, score=20.165705917088957, signal_to_noise=92.0)\n",
      "\n",
      "DeconvolutedPeak(a_to_a2_ratio=1.7294617272239694, area=115.0, average_mass=1833.3665808440637, charge=2, chosen_for_msms=False, envelope=[(916.9431, 25.00), (917.4397, 45.00), (917.9269, 25.00), (918.4525, 20.00)], full_width_at_half_max=0.01, index=92|67, intensity=115.0, most_abundant_mass=1832.8648951079704, mz=916.9380466018551, neutral_mass=1831.8615402701703, score=10.2297857562226, signal_to_noise=28.75)\n",
      "\n"
     ]
    }
   ],
   "source": [
    "ms2_peaks_l = []\n",
    "for peak in ms2_deconvoluted_peaks:\n",
    "    # discard a monoisotopic peak that has a second isotope with intensity of 1 (rubbish value)\n",
    "    if ((len(peak.envelope) > 1) and (peak.envelope[1][1] > 1)):\n",
    "        ms2_peaks_l.append((peak.mz, peak.charge, peak.neutral_mass, peak.intensity, peak.score, peak.signal_to_noise))\n",
    "        print(\"{}\\n\".format(peak))\n",
    "\n",
    "ms2_deconvoluted_peaks_df = pd.DataFrame(ms2_peaks_l, columns=['mz','charge','neutral_mass','intensity','score','SN'])\n",
    "# 'neutral mass' is the zero charge M, so we add the proton mass to get M+H (the monoisotopic mass)\n",
    "ms2_deconvoluted_peaks_df['m_plus_h'] = ms2_deconvoluted_peaks_df.neutral_mass + PROTON_MASS\n"
   ]
  },
  {
   "cell_type": "code",
   "execution_count": 697,
   "metadata": {},
   "outputs": [
    {
     "data": {
      "text/plain": [
       "72"
      ]
     },
     "execution_count": 697,
     "metadata": {},
     "output_type": "execute_result"
    }
   ],
   "source": [
    "len(ms2_deconvoluted_peaks_df)"
   ]
  },
  {
   "cell_type": "code",
   "execution_count": 698,
   "metadata": {},
   "outputs": [
    {
     "data": {
      "text/plain": [
       "(318.1817588667562, 1285.6493626767317)"
      ]
     },
     "execution_count": 698,
     "metadata": {},
     "output_type": "execute_result"
    }
   ],
   "source": [
    "ms2_deconvoluted_peaks_df.mz.min(),ms2_deconvoluted_peaks_df.mz.max()"
   ]
  },
  {
   "cell_type": "code",
   "execution_count": 699,
   "metadata": {},
   "outputs": [
    {
     "data": {
      "image/png": "[encoded data removed]",
      "text/plain": [
       "<Figure size 1080x360 with 1 Axes>"
      ]
     },
     "metadata": {
      "needs_background": "light"
     },
     "output_type": "display_data"
    }
   ],
   "source": [
    "f, ax = plt.subplots()\n",
    "colors = ['tab:blue', 'tab:orange', 'tab:green', 'tab:red', 'tab:purple', 'tab:brown', 'tab:pink', 'tab:gray', 'tab:olive', 'tab:cyan']\n",
    "markerline, stemlines, baseline = ax.stem(ms2_deconvoluted_peaks_df.m_plus_h, ms2_deconvoluted_peaks_df.intensity, 'g')\n",
    "plt.setp(markerline, 'color', colors[2])\n",
    "plt.setp(stemlines, 'color', colors[2])\n",
    "plt.setp(baseline, 'color', colors[7])\n",
    "plt.xlabel('m/z')\n",
    "plt.ylabel('intensity')\n",
    "f.set_figheight(5)\n",
    "f.set_figwidth(15)\n",
    "ax.set_xlim((100,1900))\n",
    "plt.margins(0.06)\n",
    "plt.suptitle('Deconvoluted peaks (M+H) in ms2 for precursor ID {}'.format(precursor_id))\n",
    "plt.title('bin width {} Th'.format(MZ_BIN_WIDTH))\n",
    "plt.show()"
   ]
  },
  {
   "cell_type": "code",
   "execution_count": 700,
   "metadata": {},
   "outputs": [],
   "source": [
    "ms2_deconvoluted_peaks_df[['mz','intensity']].to_csv('/Users/darylwilding-mcbride/Downloads/my_ms2_for_precursor_{}.csv'.format(precursor_id))"
   ]
  },
  {
   "cell_type": "code",
   "execution_count": 701,
   "metadata": {
    "scrolled": false
   },
   "outputs": [
    {
     "data": {
      "text/html": [
       "<div>\n",
       "<style scoped>\n",
       "    .dataframe tbody tr th:only-of-type {\n",
       "        vertical-align: middle;\n",
       "    }\n",
       "\n",
       "    .dataframe tbody tr th {\n",
       "        vertical-align: top;\n",
       "    }\n",
       "\n",
       "    .dataframe thead th {\n",
       "        text-align: right;\n",
       "    }\n",
       "</style>\n",
       "<table border=\"1\" class=\"dataframe\">\n",
       "  <thead>\n",
       "    <tr style=\"text-align: right;\">\n",
       "      <th></th>\n",
       "      <th>mz</th>\n",
       "      <th>charge</th>\n",
       "      <th>neutral_mass</th>\n",
       "      <th>intensity</th>\n",
       "      <th>score</th>\n",
       "      <th>SN</th>\n",
       "      <th>m_plus_h</th>\n",
       "    </tr>\n",
       "  </thead>\n",
       "  <tbody>\n",
       "    <tr>\n",
       "      <th>16</th>\n",
       "      <td>612.308324</td>\n",
       "      <td>1</td>\n",
       "      <td>611.301048</td>\n",
       "      <td>11211.000000</td>\n",
       "      <td>131.817595</td>\n",
       "      <td>3737.000000</td>\n",
       "      <td>612.308348</td>\n",
       "    </tr>\n",
       "    <tr>\n",
       "      <th>36</th>\n",
       "      <td>869.450873</td>\n",
       "      <td>1</td>\n",
       "      <td>868.443596</td>\n",
       "      <td>5098.000000</td>\n",
       "      <td>97.503832</td>\n",
       "      <td>1699.333333</td>\n",
       "      <td>869.450896</td>\n",
       "    </tr>\n",
       "    <tr>\n",
       "      <th>28</th>\n",
       "      <td>782.415036</td>\n",
       "      <td>1</td>\n",
       "      <td>781.407760</td>\n",
       "      <td>4413.000000</td>\n",
       "      <td>89.915569</td>\n",
       "      <td>1471.000000</td>\n",
       "      <td>782.415060</td>\n",
       "    </tr>\n",
       "    <tr>\n",
       "      <th>46</th>\n",
       "      <td>982.523469</td>\n",
       "      <td>1</td>\n",
       "      <td>981.516192</td>\n",
       "      <td>3020.000000</td>\n",
       "      <td>72.456131</td>\n",
       "      <td>1006.666667</td>\n",
       "      <td>982.523492</td>\n",
       "    </tr>\n",
       "    <tr>\n",
       "      <th>69</th>\n",
       "      <td>859.425530</td>\n",
       "      <td>2</td>\n",
       "      <td>1716.836508</td>\n",
       "      <td>1869.000000</td>\n",
       "      <td>60.539867</td>\n",
       "      <td>467.250000</td>\n",
       "      <td>1717.843808</td>\n",
       "    </tr>\n",
       "    <tr>\n",
       "      <th>57</th>\n",
       "      <td>1111.571713</td>\n",
       "      <td>1</td>\n",
       "      <td>1110.564436</td>\n",
       "      <td>1777.000000</td>\n",
       "      <td>56.179265</td>\n",
       "      <td>592.333333</td>\n",
       "      <td>1111.571736</td>\n",
       "    </tr>\n",
       "    <tr>\n",
       "      <th>59</th>\n",
       "      <td>1198.600970</td>\n",
       "      <td>1</td>\n",
       "      <td>1197.593693</td>\n",
       "      <td>1491.000000</td>\n",
       "      <td>45.903135</td>\n",
       "      <td>497.000000</td>\n",
       "      <td>1198.600993</td>\n",
       "    </tr>\n",
       "    <tr>\n",
       "      <th>34</th>\n",
       "      <td>848.409669</td>\n",
       "      <td>1</td>\n",
       "      <td>847.402393</td>\n",
       "      <td>1360.253758</td>\n",
       "      <td>46.656902</td>\n",
       "      <td>584.000000</td>\n",
       "      <td>848.409693</td>\n",
       "    </tr>\n",
       "    <tr>\n",
       "      <th>24</th>\n",
       "      <td>725.390912</td>\n",
       "      <td>1</td>\n",
       "      <td>724.383635</td>\n",
       "      <td>1185.000000</td>\n",
       "      <td>48.060059</td>\n",
       "      <td>395.000000</td>\n",
       "      <td>725.390935</td>\n",
       "    </tr>\n",
       "    <tr>\n",
       "      <th>35</th>\n",
       "      <td>869.436769</td>\n",
       "      <td>1</td>\n",
       "      <td>868.429492</td>\n",
       "      <td>1108.000000</td>\n",
       "      <td>36.569553</td>\n",
       "      <td>369.333333</td>\n",
       "      <td>869.436792</td>\n",
       "    </tr>\n",
       "  </tbody>\n",
       "</table>\n",
       "</div>"
      ],
      "text/plain": [
       "             mz  charge  neutral_mass     intensity       score           SN  \\\n",
       "16   612.308324       1    611.301048  11211.000000  131.817595  3737.000000   \n",
       "36   869.450873       1    868.443596   5098.000000   97.503832  1699.333333   \n",
       "28   782.415036       1    781.407760   4413.000000   89.915569  1471.000000   \n",
       "46   982.523469       1    981.516192   3020.000000   72.456131  1006.666667   \n",
       "69   859.425530       2   1716.836508   1869.000000   60.539867   467.250000   \n",
       "57  1111.571713       1   1110.564436   1777.000000   56.179265   592.333333   \n",
       "59  1198.600970       1   1197.593693   1491.000000   45.903135   497.000000   \n",
       "34   848.409669       1    847.402393   1360.253758   46.656902   584.000000   \n",
       "24   725.390912       1    724.383635   1185.000000   48.060059   395.000000   \n",
       "35   869.436769       1    868.429492   1108.000000   36.569553   369.333333   \n",
       "\n",
       "       m_plus_h  \n",
       "16   612.308348  \n",
       "36   869.450896  \n",
       "28   782.415060  \n",
       "46   982.523492  \n",
       "69  1717.843808  \n",
       "57  1111.571736  \n",
       "59  1198.600993  \n",
       "34   848.409693  \n",
       "24   725.390935  \n",
       "35   869.436792  "
      ]
     },
     "execution_count": 701,
     "metadata": {},
     "output_type": "execute_result"
    }
   ],
   "source": [
    "# find the top peaks by intensity\n",
    "ms2_deconvoluted_peaks_df.sort_values(by=['intensity'], ascending=False).head(10)"
   ]
  },
  {
   "cell_type": "markdown",
   "metadata": {},
   "source": [
    "### Compare with the ms2 spectra recorded by MaxQuant in the APL files"
   ]
  },
  {
   "cell_type": "code",
   "execution_count": 702,
   "metadata": {},
   "outputs": [],
   "source": [
    "pasef_msms_scans_df = pd.read_csv(PASEF_MSMS_SCANS_FILENAME, sep='\\t')"
   ]
  },
  {
   "cell_type": "code",
   "execution_count": 703,
   "metadata": {},
   "outputs": [
    {
     "data": {
      "text/html": [
       "<div>\n",
       "<style scoped>\n",
       "    .dataframe tbody tr th:only-of-type {\n",
       "        vertical-align: middle;\n",
       "    }\n",
       "\n",
       "    .dataframe tbody tr th {\n",
       "        vertical-align: top;\n",
       "    }\n",
       "\n",
       "    .dataframe thead th {\n",
       "        text-align: right;\n",
       "    }\n",
       "</style>\n",
       "<table border=\"1\" class=\"dataframe\">\n",
       "  <thead>\n",
       "    <tr style=\"text-align: right;\">\n",
       "      <th></th>\n",
       "      <th>Raw file</th>\n",
       "      <th>Frame</th>\n",
       "      <th>Precursor</th>\n",
       "      <th>IsolationMz</th>\n",
       "      <th>IsolationWidth</th>\n",
       "      <th>ScanNumBegin</th>\n",
       "      <th>ScanNumEnd</th>\n",
       "      <th>CollisionEnergy</th>\n",
       "      <th>Index</th>\n",
       "    </tr>\n",
       "  </thead>\n",
       "  <tbody>\n",
       "    <tr>\n",
       "      <th>0</th>\n",
       "      <td>HeLa_20KInt_2KIT_Slot1-46_01_1179</td>\n",
       "      <td>3</td>\n",
       "      <td>1</td>\n",
       "      <td>742.744835</td>\n",
       "      <td>2.427448</td>\n",
       "      <td>507</td>\n",
       "      <td>532</td>\n",
       "      <td>36.96</td>\n",
       "      <td>0</td>\n",
       "    </tr>\n",
       "    <tr>\n",
       "      <th>1</th>\n",
       "      <td>HeLa_20KInt_2KIT_Slot1-46_01_1179</td>\n",
       "      <td>3</td>\n",
       "      <td>2</td>\n",
       "      <td>709.235759</td>\n",
       "      <td>2.092358</td>\n",
       "      <td>549</td>\n",
       "      <td>574</td>\n",
       "      <td>36.96</td>\n",
       "      <td>1</td>\n",
       "    </tr>\n",
       "    <tr>\n",
       "      <th>2</th>\n",
       "      <td>HeLa_20KInt_2KIT_Slot1-46_01_1179</td>\n",
       "      <td>3</td>\n",
       "      <td>3</td>\n",
       "      <td>594.235088</td>\n",
       "      <td>2.000000</td>\n",
       "      <td>602</td>\n",
       "      <td>627</td>\n",
       "      <td>36.96</td>\n",
       "      <td>2</td>\n",
       "    </tr>\n",
       "    <tr>\n",
       "      <th>3</th>\n",
       "      <td>HeLa_20KInt_2KIT_Slot1-46_01_1179</td>\n",
       "      <td>3</td>\n",
       "      <td>4</td>\n",
       "      <td>503.527768</td>\n",
       "      <td>2.000000</td>\n",
       "      <td>643</td>\n",
       "      <td>668</td>\n",
       "      <td>36.96</td>\n",
       "      <td>3</td>\n",
       "    </tr>\n",
       "    <tr>\n",
       "      <th>4</th>\n",
       "      <td>HeLa_20KInt_2KIT_Slot1-46_01_1179</td>\n",
       "      <td>3</td>\n",
       "      <td>5</td>\n",
       "      <td>552.063870</td>\n",
       "      <td>2.000000</td>\n",
       "      <td>684</td>\n",
       "      <td>709</td>\n",
       "      <td>31.92</td>\n",
       "      <td>4</td>\n",
       "    </tr>\n",
       "  </tbody>\n",
       "</table>\n",
       "</div>"
      ],
      "text/plain": [
       "                            Raw file  Frame  Precursor  IsolationMz  \\\n",
       "0  HeLa_20KInt_2KIT_Slot1-46_01_1179      3          1   742.744835   \n",
       "1  HeLa_20KInt_2KIT_Slot1-46_01_1179      3          2   709.235759   \n",
       "2  HeLa_20KInt_2KIT_Slot1-46_01_1179      3          3   594.235088   \n",
       "3  HeLa_20KInt_2KIT_Slot1-46_01_1179      3          4   503.527768   \n",
       "4  HeLa_20KInt_2KIT_Slot1-46_01_1179      3          5   552.063870   \n",
       "\n",
       "   IsolationWidth  ScanNumBegin  ScanNumEnd  CollisionEnergy  Index  \n",
       "0        2.427448           507         532            36.96      0  \n",
       "1        2.092358           549         574            36.96      1  \n",
       "2        2.000000           602         627            36.96      2  \n",
       "3        2.000000           643         668            36.96      3  \n",
       "4        2.000000           684         709            31.92      4  "
      ]
     },
     "execution_count": 703,
     "metadata": {},
     "output_type": "execute_result"
    }
   ],
   "source": [
    "pasef_msms_scans_df.head()"
   ]
  },
  {
   "cell_type": "code",
   "execution_count": 704,
   "metadata": {},
   "outputs": [
    {
     "data": {
      "text/html": [
       "<div>\n",
       "<style scoped>\n",
       "    .dataframe tbody tr th:only-of-type {\n",
       "        vertical-align: middle;\n",
       "    }\n",
       "\n",
       "    .dataframe tbody tr th {\n",
       "        vertical-align: top;\n",
       "    }\n",
       "\n",
       "    .dataframe thead th {\n",
       "        text-align: right;\n",
       "    }\n",
       "</style>\n",
       "<table border=\"1\" class=\"dataframe\">\n",
       "  <thead>\n",
       "    <tr style=\"text-align: right;\">\n",
       "      <th></th>\n",
       "      <th>Raw file</th>\n",
       "      <th>Frame</th>\n",
       "      <th>Precursor</th>\n",
       "      <th>IsolationMz</th>\n",
       "      <th>IsolationWidth</th>\n",
       "      <th>ScanNumBegin</th>\n",
       "      <th>ScanNumEnd</th>\n",
       "      <th>CollisionEnergy</th>\n",
       "      <th>Index</th>\n",
       "    </tr>\n",
       "  </thead>\n",
       "  <tbody>\n",
       "    <tr>\n",
       "      <th>324135</th>\n",
       "      <td>HeLa_20KInt_2KIT_Slot1-46_01_1179</td>\n",
       "      <td>41474</td>\n",
       "      <td>153421</td>\n",
       "      <td>860.444362</td>\n",
       "      <td>3.0</td>\n",
       "      <td>462</td>\n",
       "      <td>487</td>\n",
       "      <td>42.0</td>\n",
       "      <td>324135</td>\n",
       "    </tr>\n",
       "  </tbody>\n",
       "</table>\n",
       "</div>"
      ],
      "text/plain": [
       "                                 Raw file  Frame  Precursor  IsolationMz  \\\n",
       "324135  HeLa_20KInt_2KIT_Slot1-46_01_1179  41474     153421   860.444362   \n",
       "\n",
       "        IsolationWidth  ScanNumBegin  ScanNumEnd  CollisionEnergy   Index  \n",
       "324135             3.0           462         487             42.0  324135  "
      ]
     },
     "execution_count": 704,
     "metadata": {},
     "output_type": "execute_result"
    }
   ],
   "source": [
    "pasef_msms_scans_df[pasef_msms_scans_df.Index == 324135]"
   ]
  },
  {
   "cell_type": "code",
   "execution_count": 705,
   "metadata": {},
   "outputs": [],
   "source": [
    "mq_index = pasef_msms_scans_df[pasef_msms_scans_df.Precursor == precursor_id].index.values[0]"
   ]
  },
  {
   "cell_type": "code",
   "execution_count": 706,
   "metadata": {},
   "outputs": [
    {
     "data": {
      "text/plain": [
       "324135"
      ]
     },
     "execution_count": 706,
     "metadata": {},
     "output_type": "execute_result"
    }
   ],
   "source": [
    "mq_index"
   ]
  },
  {
   "cell_type": "code",
   "execution_count": 707,
   "metadata": {},
   "outputs": [],
   "source": [
    "MIN_ISOTOPE_CORRELATION = 0.9\n",
    "\n",
    "allpeptides_df = pd.read_csv(ALLPEPTIDES_FILENAME, sep='\\t')\n",
    "allpeptides_df.rename(columns={'Number of isotopic peaks':'isotope_count', 'm/z':'mz', 'Number of data points':'number_data_points', 'Intensity':'intensity', 'Ion mobility index':'scan', 'Ion mobility index length':'scan_length', 'Ion mobility index length (FWHM)':'scan_length_fwhm', 'Retention time':'rt', 'Retention length':'rt_length', 'Retention length (FWHM)':'rt_length_fwhm', 'Charge':'charge_state', 'Number of pasef MS/MS':'number_pasef_ms2_ids', 'Pasef MS/MS IDs':'pasef_msms_ids', 'MS/MS scan number':'msms_scan_number', 'Isotope correlation':'isotope_correlation'}, inplace=True)\n",
    "# allpeptides_df = allpeptides_df[allpeptides_df.intensity.notnull() & (allpeptides_df.isotope_correlation >= MIN_ISOTOPE_CORRELATION) & (allpeptides_df.rt >= RT_LIMIT_LOWER) & (allpeptides_df.rt <= RT_LIMIT_UPPER)].copy()\n",
    "allpeptides_df = allpeptides_df[allpeptides_df.intensity.notnull() & allpeptides_df.pasef_msms_ids.notnull() & (allpeptides_df.rt >= RT_LIMIT_LOWER) & (allpeptides_df.rt <= RT_LIMIT_UPPER)].copy()\n",
    "allpeptides_df.msms_scan_number = allpeptides_df.msms_scan_number.apply(lambda x: int(x))"
   ]
  },
  {
   "cell_type": "code",
   "execution_count": 708,
   "metadata": {
    "scrolled": true
   },
   "outputs": [
    {
     "data": {
      "text/html": [
       "<div>\n",
       "<style scoped>\n",
       "    .dataframe tbody tr th:only-of-type {\n",
       "        vertical-align: middle;\n",
       "    }\n",
       "\n",
       "    .dataframe tbody tr th {\n",
       "        vertical-align: top;\n",
       "    }\n",
       "\n",
       "    .dataframe thead th {\n",
       "        text-align: right;\n",
       "    }\n",
       "</style>\n",
       "<table border=\"1\" class=\"dataframe\">\n",
       "  <thead>\n",
       "    <tr style=\"text-align: right;\">\n",
       "      <th></th>\n",
       "      <th>Raw file</th>\n",
       "      <th>charge_state</th>\n",
       "      <th>mz</th>\n",
       "      <th>Mass</th>\n",
       "      <th>Resolution</th>\n",
       "      <th>number_data_points</th>\n",
       "      <th>Number of frames</th>\n",
       "      <th>isotope_count</th>\n",
       "      <th>isotope_correlation</th>\n",
       "      <th>Mass fractional part</th>\n",
       "      <th>...</th>\n",
       "      <th>Min frame index</th>\n",
       "      <th>Max frame index</th>\n",
       "      <th>scan</th>\n",
       "      <th>scan_length</th>\n",
       "      <th>scan_length_fwhm</th>\n",
       "      <th>intensity</th>\n",
       "      <th>Intensities</th>\n",
       "      <th>number_pasef_ms2_ids</th>\n",
       "      <th>pasef_msms_ids</th>\n",
       "      <th>msms_scan_number</th>\n",
       "    </tr>\n",
       "  </thead>\n",
       "  <tbody>\n",
       "    <tr>\n",
       "      <th>636</th>\n",
       "      <td>HeLa_20KInt_2KIT_Slot1-46_01_1179</td>\n",
       "      <td>2</td>\n",
       "      <td>323.16731</td>\n",
       "      <td>644.32008</td>\n",
       "      <td>24772.615335</td>\n",
       "      <td>702</td>\n",
       "      <td>10</td>\n",
       "      <td>2</td>\n",
       "      <td>0.995725</td>\n",
       "      <td>0.320075</td>\n",
       "      <td>...</td>\n",
       "      <td>3851</td>\n",
       "      <td>3860</td>\n",
       "      <td>837</td>\n",
       "      <td>18</td>\n",
       "      <td>18</td>\n",
       "      <td>11378.0</td>\n",
       "      <td>NaN</td>\n",
       "      <td>7</td>\n",
       "      <td>333643;333656;333670;333684;333696;333707;333719</td>\n",
       "      <td>1664</td>\n",
       "    </tr>\n",
       "    <tr>\n",
       "      <th>675</th>\n",
       "      <td>HeLa_20KInt_2KIT_Slot1-46_01_1179</td>\n",
       "      <td>2</td>\n",
       "      <td>315.67536</td>\n",
       "      <td>629.33616</td>\n",
       "      <td>24676.000506</td>\n",
       "      <td>738</td>\n",
       "      <td>13</td>\n",
       "      <td>2</td>\n",
       "      <td>0.978703</td>\n",
       "      <td>0.336164</td>\n",
       "      <td>...</td>\n",
       "      <td>3766</td>\n",
       "      <td>3778</td>\n",
       "      <td>849</td>\n",
       "      <td>15</td>\n",
       "      <td>15</td>\n",
       "      <td>8728.3</td>\n",
       "      <td>NaN</td>\n",
       "      <td>14</td>\n",
       "      <td>323932;323944;323992;324006;324019;324033;3240...</td>\n",
       "      <td>1500</td>\n",
       "    </tr>\n",
       "    <tr>\n",
       "      <th>1286</th>\n",
       "      <td>HeLa_20KInt_2KIT_Slot1-46_01_1179</td>\n",
       "      <td>2</td>\n",
       "      <td>340.68087</td>\n",
       "      <td>679.34719</td>\n",
       "      <td>24552.706844</td>\n",
       "      <td>1458</td>\n",
       "      <td>12</td>\n",
       "      <td>3</td>\n",
       "      <td>0.998440</td>\n",
       "      <td>0.347187</td>\n",
       "      <td>...</td>\n",
       "      <td>3784</td>\n",
       "      <td>3795</td>\n",
       "      <td>795</td>\n",
       "      <td>27</td>\n",
       "      <td>18</td>\n",
       "      <td>27244.0</td>\n",
       "      <td>NaN</td>\n",
       "      <td>2</td>\n",
       "      <td>325991;326003</td>\n",
       "      <td>2180</td>\n",
       "    </tr>\n",
       "    <tr>\n",
       "      <th>1329</th>\n",
       "      <td>HeLa_20KInt_2KIT_Slot1-46_01_1179</td>\n",
       "      <td>2</td>\n",
       "      <td>345.18050</td>\n",
       "      <td>688.34645</td>\n",
       "      <td>24691.651393</td>\n",
       "      <td>1696</td>\n",
       "      <td>16</td>\n",
       "      <td>3</td>\n",
       "      <td>0.997846</td>\n",
       "      <td>0.346450</td>\n",
       "      <td>...</td>\n",
       "      <td>3747</td>\n",
       "      <td>3762</td>\n",
       "      <td>798</td>\n",
       "      <td>27</td>\n",
       "      <td>18</td>\n",
       "      <td>23557.0</td>\n",
       "      <td>NaN</td>\n",
       "      <td>4</td>\n",
       "      <td>321629;321641;321654;321666</td>\n",
       "      <td>2323</td>\n",
       "    </tr>\n",
       "    <tr>\n",
       "      <th>1482</th>\n",
       "      <td>HeLa_20KInt_2KIT_Slot1-46_01_1179</td>\n",
       "      <td>2</td>\n",
       "      <td>350.21987</td>\n",
       "      <td>698.42518</td>\n",
       "      <td>24909.307290</td>\n",
       "      <td>3616</td>\n",
       "      <td>21</td>\n",
       "      <td>3</td>\n",
       "      <td>0.999539</td>\n",
       "      <td>0.425184</td>\n",
       "      <td>...</td>\n",
       "      <td>3705</td>\n",
       "      <td>3725</td>\n",
       "      <td>807</td>\n",
       "      <td>30</td>\n",
       "      <td>18</td>\n",
       "      <td>51037.0</td>\n",
       "      <td>NaN</td>\n",
       "      <td>10</td>\n",
       "      <td>316763;316777;316791;316817;316832;316845;3168...</td>\n",
       "      <td>2490</td>\n",
       "    </tr>\n",
       "  </tbody>\n",
       "</table>\n",
       "<p>5 rows × 24 columns</p>\n",
       "</div>"
      ],
      "text/plain": [
       "                               Raw file  charge_state         mz       Mass  \\\n",
       "636   HeLa_20KInt_2KIT_Slot1-46_01_1179             2  323.16731  644.32008   \n",
       "675   HeLa_20KInt_2KIT_Slot1-46_01_1179             2  315.67536  629.33616   \n",
       "1286  HeLa_20KInt_2KIT_Slot1-46_01_1179             2  340.68087  679.34719   \n",
       "1329  HeLa_20KInt_2KIT_Slot1-46_01_1179             2  345.18050  688.34645   \n",
       "1482  HeLa_20KInt_2KIT_Slot1-46_01_1179             2  350.21987  698.42518   \n",
       "\n",
       "        Resolution  number_data_points  Number of frames  isotope_count  \\\n",
       "636   24772.615335                 702                10              2   \n",
       "675   24676.000506                 738                13              2   \n",
       "1286  24552.706844                1458                12              3   \n",
       "1329  24691.651393                1696                16              3   \n",
       "1482  24909.307290                3616                21              3   \n",
       "\n",
       "      isotope_correlation  Mass fractional part  ...  Min frame index  \\\n",
       "636              0.995725              0.320075  ...             3851   \n",
       "675              0.978703              0.336164  ...             3766   \n",
       "1286             0.998440              0.347187  ...             3784   \n",
       "1329             0.997846              0.346450  ...             3747   \n",
       "1482             0.999539              0.425184  ...             3705   \n",
       "\n",
       "      Max frame index  scan  scan_length  scan_length_fwhm  intensity  \\\n",
       "636              3860   837           18                18    11378.0   \n",
       "675              3778   849           15                15     8728.3   \n",
       "1286             3795   795           27                18    27244.0   \n",
       "1329             3762   798           27                18    23557.0   \n",
       "1482             3725   807           30                18    51037.0   \n",
       "\n",
       "      Intensities  number_pasef_ms2_ids  \\\n",
       "636           NaN                     7   \n",
       "675           NaN                    14   \n",
       "1286          NaN                     2   \n",
       "1329          NaN                     4   \n",
       "1482          NaN                    10   \n",
       "\n",
       "                                         pasef_msms_ids  msms_scan_number  \n",
       "636    333643;333656;333670;333684;333696;333707;333719              1664  \n",
       "675   323932;323944;323992;324006;324019;324033;3240...              1500  \n",
       "1286                                      325991;326003              2180  \n",
       "1329                        321629;321641;321654;321666              2323  \n",
       "1482  316763;316777;316791;316817;316832;316845;3168...              2490  \n",
       "\n",
       "[5 rows x 24 columns]"
      ]
     },
     "execution_count": 708,
     "metadata": {},
     "output_type": "execute_result"
    }
   ],
   "source": [
    "allpeptides_df.head()"
   ]
  },
  {
   "cell_type": "code",
   "execution_count": 709,
   "metadata": {},
   "outputs": [],
   "source": [
    "allpeptides_df['pasef_msms_ids_list'] = allpeptides_df.pasef_msms_ids.str.split(\";\").apply(lambda x: [int(i) for i in x])"
   ]
  },
  {
   "cell_type": "code",
   "execution_count": 710,
   "metadata": {},
   "outputs": [
    {
     "data": {
      "text/html": [
       "<div>\n",
       "<style scoped>\n",
       "    .dataframe tbody tr th:only-of-type {\n",
       "        vertical-align: middle;\n",
       "    }\n",
       "\n",
       "    .dataframe tbody tr th {\n",
       "        vertical-align: top;\n",
       "    }\n",
       "\n",
       "    .dataframe thead th {\n",
       "        text-align: right;\n",
       "    }\n",
       "</style>\n",
       "<table border=\"1\" class=\"dataframe\">\n",
       "  <thead>\n",
       "    <tr style=\"text-align: right;\">\n",
       "      <th></th>\n",
       "      <th>Raw file</th>\n",
       "      <th>charge_state</th>\n",
       "      <th>mz</th>\n",
       "      <th>Mass</th>\n",
       "      <th>Resolution</th>\n",
       "      <th>number_data_points</th>\n",
       "      <th>Number of frames</th>\n",
       "      <th>isotope_count</th>\n",
       "      <th>isotope_correlation</th>\n",
       "      <th>Mass fractional part</th>\n",
       "      <th>...</th>\n",
       "      <th>Max frame index</th>\n",
       "      <th>scan</th>\n",
       "      <th>scan_length</th>\n",
       "      <th>scan_length_fwhm</th>\n",
       "      <th>intensity</th>\n",
       "      <th>Intensities</th>\n",
       "      <th>number_pasef_ms2_ids</th>\n",
       "      <th>pasef_msms_ids</th>\n",
       "      <th>msms_scan_number</th>\n",
       "      <th>pasef_msms_ids_list</th>\n",
       "    </tr>\n",
       "  </thead>\n",
       "  <tbody>\n",
       "    <tr>\n",
       "      <th>276594</th>\n",
       "      <td>HeLa_20KInt_2KIT_Slot1-46_01_1179</td>\n",
       "      <td>2</td>\n",
       "      <td>858.93758</td>\n",
       "      <td>1715.8606</td>\n",
       "      <td>24510.713702</td>\n",
       "      <td>13211</td>\n",
       "      <td>19</td>\n",
       "      <td>5</td>\n",
       "      <td>0.999522</td>\n",
       "      <td>0.860598</td>\n",
       "      <td>...</td>\n",
       "      <td>3782</td>\n",
       "      <td>438</td>\n",
       "      <td>108</td>\n",
       "      <td>54</td>\n",
       "      <td>423970.0</td>\n",
       "      <td>NaN</td>\n",
       "      <td>1</td>\n",
       "      <td>324135</td>\n",
       "      <td>66893</td>\n",
       "      <td>[324135]</td>\n",
       "    </tr>\n",
       "  </tbody>\n",
       "</table>\n",
       "<p>1 rows × 25 columns</p>\n",
       "</div>"
      ],
      "text/plain": [
       "                                 Raw file  charge_state         mz       Mass  \\\n",
       "276594  HeLa_20KInt_2KIT_Slot1-46_01_1179             2  858.93758  1715.8606   \n",
       "\n",
       "          Resolution  number_data_points  Number of frames  isotope_count  \\\n",
       "276594  24510.713702               13211                19              5   \n",
       "\n",
       "        isotope_correlation  Mass fractional part  ...  Max frame index  scan  \\\n",
       "276594             0.999522              0.860598  ...             3782   438   \n",
       "\n",
       "        scan_length  scan_length_fwhm  intensity  Intensities  \\\n",
       "276594          108                54   423970.0          NaN   \n",
       "\n",
       "        number_pasef_ms2_ids  pasef_msms_ids  msms_scan_number  \\\n",
       "276594                     1          324135             66893   \n",
       "\n",
       "        pasef_msms_ids_list  \n",
       "276594             [324135]  \n",
       "\n",
       "[1 rows x 25 columns]"
      ]
     },
     "execution_count": 710,
     "metadata": {},
     "output_type": "execute_result"
    }
   ],
   "source": [
    "allpeptides_df[allpeptides_df.pasef_msms_ids_list.apply(lambda x: 324135 in x)]"
   ]
  },
  {
   "cell_type": "code",
   "execution_count": 711,
   "metadata": {},
   "outputs": [
    {
     "data": {
      "text/html": [
       "<div>\n",
       "<style scoped>\n",
       "    .dataframe tbody tr th:only-of-type {\n",
       "        vertical-align: middle;\n",
       "    }\n",
       "\n",
       "    .dataframe tbody tr th {\n",
       "        vertical-align: top;\n",
       "    }\n",
       "\n",
       "    .dataframe thead th {\n",
       "        text-align: right;\n",
       "    }\n",
       "</style>\n",
       "<table border=\"1\" class=\"dataframe\">\n",
       "  <thead>\n",
       "    <tr style=\"text-align: right;\">\n",
       "      <th></th>\n",
       "      <th>Raw file</th>\n",
       "      <th>charge_state</th>\n",
       "      <th>mz</th>\n",
       "      <th>Mass</th>\n",
       "      <th>Resolution</th>\n",
       "      <th>number_data_points</th>\n",
       "      <th>Number of frames</th>\n",
       "      <th>isotope_count</th>\n",
       "      <th>isotope_correlation</th>\n",
       "      <th>Mass fractional part</th>\n",
       "      <th>...</th>\n",
       "      <th>Max frame index</th>\n",
       "      <th>scan</th>\n",
       "      <th>scan_length</th>\n",
       "      <th>scan_length_fwhm</th>\n",
       "      <th>intensity</th>\n",
       "      <th>Intensities</th>\n",
       "      <th>number_pasef_ms2_ids</th>\n",
       "      <th>pasef_msms_ids</th>\n",
       "      <th>msms_scan_number</th>\n",
       "      <th>pasef_msms_ids_list</th>\n",
       "    </tr>\n",
       "  </thead>\n",
       "  <tbody>\n",
       "    <tr>\n",
       "      <th>276594</th>\n",
       "      <td>HeLa_20KInt_2KIT_Slot1-46_01_1179</td>\n",
       "      <td>2</td>\n",
       "      <td>858.93758</td>\n",
       "      <td>1715.8606</td>\n",
       "      <td>24510.713702</td>\n",
       "      <td>13211</td>\n",
       "      <td>19</td>\n",
       "      <td>5</td>\n",
       "      <td>0.999522</td>\n",
       "      <td>0.860598</td>\n",
       "      <td>...</td>\n",
       "      <td>3782</td>\n",
       "      <td>438</td>\n",
       "      <td>108</td>\n",
       "      <td>54</td>\n",
       "      <td>423970.0</td>\n",
       "      <td>NaN</td>\n",
       "      <td>1</td>\n",
       "      <td>324135</td>\n",
       "      <td>66893</td>\n",
       "      <td>[324135]</td>\n",
       "    </tr>\n",
       "  </tbody>\n",
       "</table>\n",
       "<p>1 rows × 25 columns</p>\n",
       "</div>"
      ],
      "text/plain": [
       "                                 Raw file  charge_state         mz       Mass  \\\n",
       "276594  HeLa_20KInt_2KIT_Slot1-46_01_1179             2  858.93758  1715.8606   \n",
       "\n",
       "          Resolution  number_data_points  Number of frames  isotope_count  \\\n",
       "276594  24510.713702               13211                19              5   \n",
       "\n",
       "        isotope_correlation  Mass fractional part  ...  Max frame index  scan  \\\n",
       "276594             0.999522              0.860598  ...             3782   438   \n",
       "\n",
       "        scan_length  scan_length_fwhm  intensity  Intensities  \\\n",
       "276594          108                54   423970.0          NaN   \n",
       "\n",
       "        number_pasef_ms2_ids  pasef_msms_ids  msms_scan_number  \\\n",
       "276594                     1          324135             66893   \n",
       "\n",
       "        pasef_msms_ids_list  \n",
       "276594             [324135]  \n",
       "\n",
       "[1 rows x 25 columns]"
      ]
     },
     "execution_count": 711,
     "metadata": {},
     "output_type": "execute_result"
    }
   ],
   "source": [
    "allpeptides_df[allpeptides_df.pasef_msms_ids_list.apply(lambda x: mq_index in x)]"
   ]
  },
  {
   "cell_type": "code",
   "execution_count": 712,
   "metadata": {},
   "outputs": [],
   "source": [
    "msms_scan_number = int(allpeptides_df[allpeptides_df.pasef_msms_ids_list.apply(lambda x: mq_index in x)].msms_scan_number)"
   ]
  },
  {
   "cell_type": "code",
   "execution_count": 713,
   "metadata": {},
   "outputs": [
    {
     "data": {
      "text/plain": [
       "66893"
      ]
     },
     "execution_count": 713,
     "metadata": {},
     "output_type": "execute_result"
    }
   ],
   "source": [
    "msms_scan_number"
   ]
  },
  {
   "cell_type": "code",
   "execution_count": 714,
   "metadata": {},
   "outputs": [],
   "source": [
    "import os, glob, shutil"
   ]
  },
  {
   "cell_type": "code",
   "execution_count": 715,
   "metadata": {},
   "outputs": [],
   "source": [
    "# ms_deistope likes to guess the file format from the extension, so we rename the APLs to MGFs\n",
    "MGF_DIR = \"{}/mgf\".format(APL_DIR)\n",
    "if os.path.exists(MGF_DIR):\n",
    "    shutil.rmtree(MGF_DIR)\n",
    "os.makedirs(MGF_DIR)\n"
   ]
  },
  {
   "cell_type": "code",
   "execution_count": 716,
   "metadata": {},
   "outputs": [],
   "source": [
    "APL_DIR = '/Users/darylwilding-mcbride/Downloads/maxquant_results/andromeda'\n",
    "for file in glob.glob(\"{}/*.apl\".format(APL_DIR)):\n",
    "    basename = os.path.basename(os.path.splitext(file)[0])\n",
    "    oldname = \"{}/{}.apl\".format(APL_DIR, basename)\n",
    "    newname = \"{}/mgf/{}_apl.mgf\".format(APL_DIR, basename)\n",
    "    shutil.copyfile(oldname, newname)\n"
   ]
  },
  {
   "cell_type": "code",
   "execution_count": 717,
   "metadata": {},
   "outputs": [],
   "source": [
    "apl_df = pd.read_csv('/Users/darylwilding-mcbride/Downloads/allSpectra_5_apl_index_66893.txt', header=None, names=['mz','intensity'], sep='\\t')"
   ]
  },
  {
   "cell_type": "code",
   "execution_count": 757,
   "metadata": {},
   "outputs": [
    {
     "data": {
      "text/plain": [
       "1588.0517642248901"
      ]
     },
     "execution_count": 757,
     "metadata": {},
     "output_type": "execute_result"
    }
   ],
   "source": [
    "apl_df.intensity.max()"
   ]
  },
  {
   "cell_type": "code",
   "execution_count": 718,
   "metadata": {},
   "outputs": [
    {
     "data": {
      "image/png": "[encoded data removed]",
      "text/plain": [
       "<Figure size 1080x720 with 1 Axes>"
      ]
     },
     "metadata": {
      "needs_background": "light"
     },
     "output_type": "display_data"
    }
   ],
   "source": [
    "f, ax = plt.subplots()\n",
    "colors = ['tab:blue', 'tab:orange', 'tab:green', 'tab:red', 'tab:purple', 'tab:brown', 'tab:pink', 'tab:gray', 'tab:olive', 'tab:cyan']\n",
    "markerline, stemlines, baseline = ax.stem(apl_df.mz, apl_df.intensity, 'g', label='MaxQuant')\n",
    "plt.setp(markerline, 'color', colors[1])\n",
    "plt.setp(stemlines, 'color', colors[1])\n",
    "plt.setp(baseline, 'color', colors[7])\n",
    "markerline, stemlines, baseline = ax.stem(ms2_deconvoluted_peaks_df.m_plus_h, -ms2_deconvoluted_peaks_df.intensity, 'g', label='DWM')\n",
    "plt.setp(markerline, 'color', colors[2])\n",
    "plt.setp(stemlines, 'color', colors[2])\n",
    "plt.setp(baseline, 'color', colors[7])\n",
    "plt.xlabel('m/z')\n",
    "plt.ylabel('intensity')\n",
    "f.set_figheight(10)\n",
    "f.set_figwidth(15)\n",
    "ax.set_xlim((100,1900))\n",
    "plt.margins(0.06)\n",
    "plt.legend(loc='best')\n",
    "plt.suptitle('ms2 peaks for precursor ID {} (Index {})'.format(precursor_id, msms_scan_number))\n",
    "plt.show()"
   ]
  },
  {
   "cell_type": "code",
   "execution_count": null,
   "metadata": {},
   "outputs": [],
   "source": []
  }
 ],
 "metadata": {
  "kernelspec": {
   "display_name": "Python 3",
   "language": "python",
   "name": "python3"
  },
  "language_info": {
   "codemirror_mode": {
    "name": "ipython",
    "version": 3
   },
   "file_extension": ".py",
   "mimetype": "text/x-python",
   "name": "python",
   "nbconvert_exporter": "python",
   "pygments_lexer": "ipython3",
   "version": "3.6.7"
  }
 },
 "nbformat": 4,
 "nbformat_minor": 2
}
