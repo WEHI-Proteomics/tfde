{
 "cells": [
  {
   "cell_type": "code",
   "execution_count": 639,
   "metadata": {},
   "outputs": [],
   "source": [
    "import sqlite3\n",
    "import pandas as pd\n",
    "import numpy as np\n",
    "import sys\n",
    "import matplotlib.pyplot as plt"
   ]
  },
  {
   "cell_type": "code",
   "execution_count": 640,
   "metadata": {},
   "outputs": [],
   "source": [
    "RT_LIMIT_LOWER = 4340  # RT range in the database\n",
    "RT_LIMIT_UPPER = 4580\n",
    "RT_BASE_PEAK_WIDTH_SECS = 30.0  # assumption about base peak width in RT\n",
    "RT_FRAGMENT_EVENT_DELTA_SECS = 3.5  # use this window for constraining RT to focus on the fragmentation event\n",
    "MS1_CE = 10"
   ]
  },
  {
   "cell_type": "code",
   "execution_count": 641,
   "metadata": {},
   "outputs": [],
   "source": [
    "BASE_NAME = \"/Users/darylwilding-mcbride/Downloads/HeLa_20KInt-rt-{}-{}\".format(RT_LIMIT_LOWER,RT_LIMIT_UPPER)\n",
    "BASE_MAXQUANT_TXT_DIR = '/Users/darylwilding-mcbride/Downloads/maxquant_results/txt'\n",
    "ALLPEPTIDES_FILENAME = '{}/allPeptides.txt'.format(BASE_MAXQUANT_TXT_DIR)\n",
    "PASEF_MSMS_SCANS_FILENAME = '{}/pasefMsmsScans.txt'.format(BASE_MAXQUANT_TXT_DIR)\n",
    "\n",
    "# BASE_NAME = \"/home/ubuntu/HeLa_20KInt-rt-{}-{}\".format(RT_LIMIT_LOWER,RT_LIMIT_UPPER)\n",
    "# ALLPEPTIDES_FILENAME = '/home/ubuntu/maxquant_results/txt/allPeptides.txt'\n",
    "\n",
    "CONVERTED_DATABASE_NAME = '{}/HeLa_20KInt.sqlite'.format(BASE_NAME)"
   ]
  },
  {
   "cell_type": "code",
   "execution_count": 642,
   "metadata": {},
   "outputs": [
    {
     "data": {
      "text/plain": [
       "'/Users/darylwilding-mcbride/Downloads/HeLa_20KInt-rt-4340-4580/HeLa_20KInt.sqlite'"
      ]
     },
     "execution_count": 642,
     "metadata": {},
     "output_type": "execute_result"
    }
   ],
   "source": [
    "CONVERTED_DATABASE_NAME"
   ]
  },
  {
   "cell_type": "code",
   "execution_count": 643,
   "metadata": {},
   "outputs": [],
   "source": [
    "db_conn = sqlite3.connect(CONVERTED_DATABASE_NAME)\n",
    "ms1_frame_properties_df = pd.read_sql_query(\"select frame_id,retention_time_secs from frame_properties where retention_time_secs >= {} and retention_time_secs <= {} and collision_energy == {}\".format(RT_LIMIT_LOWER,RT_LIMIT_UPPER,MS1_CE), db_conn)\n",
    "ms2_frame_properties_df = pd.read_sql_query(\"select frame_id,retention_time_secs from frame_properties where retention_time_secs >= {} and retention_time_secs <= {} and collision_energy <> {}\".format(RT_LIMIT_LOWER,RT_LIMIT_UPPER,MS1_CE), db_conn)\n",
    "db_conn.close()"
   ]
  },
  {
   "cell_type": "code",
   "execution_count": 644,
   "metadata": {},
   "outputs": [
    {
     "data": {
      "text/html": [
       "<div>\n",
       "<style scoped>\n",
       "    .dataframe tbody tr th:only-of-type {\n",
       "        vertical-align: middle;\n",
       "    }\n",
       "\n",
       "    .dataframe tbody tr th {\n",
       "        vertical-align: top;\n",
       "    }\n",
       "\n",
       "    .dataframe thead th {\n",
       "        text-align: right;\n",
       "    }\n",
       "</style>\n",
       "<table border=\"1\" class=\"dataframe\">\n",
       "  <thead>\n",
       "    <tr style=\"text-align: right;\">\n",
       "      <th></th>\n",
       "      <th>frame_id</th>\n",
       "      <th>retention_time_secs</th>\n",
       "    </tr>\n",
       "  </thead>\n",
       "  <tbody>\n",
       "    <tr>\n",
       "      <th>0</th>\n",
       "      <td>40411</td>\n",
       "      <td>4340.340330</td>\n",
       "    </tr>\n",
       "    <tr>\n",
       "      <th>1</th>\n",
       "      <td>40422</td>\n",
       "      <td>4341.521415</td>\n",
       "    </tr>\n",
       "    <tr>\n",
       "      <th>2</th>\n",
       "      <td>40433</td>\n",
       "      <td>4342.702923</td>\n",
       "    </tr>\n",
       "    <tr>\n",
       "      <th>3</th>\n",
       "      <td>40444</td>\n",
       "      <td>4343.883324</td>\n",
       "    </tr>\n",
       "    <tr>\n",
       "      <th>4</th>\n",
       "      <td>40455</td>\n",
       "      <td>4345.067491</td>\n",
       "    </tr>\n",
       "  </tbody>\n",
       "</table>\n",
       "</div>"
      ],
      "text/plain": [
       "   frame_id  retention_time_secs\n",
       "0     40411          4340.340330\n",
       "1     40422          4341.521415\n",
       "2     40433          4342.702923\n",
       "3     40444          4343.883324\n",
       "4     40455          4345.067491"
      ]
     },
     "execution_count": 644,
     "metadata": {},
     "output_type": "execute_result"
    }
   ],
   "source": [
    "ms1_frame_properties_df.head()"
   ]
  },
  {
   "cell_type": "code",
   "execution_count": 645,
   "metadata": {},
   "outputs": [
    {
     "data": {
      "text/html": [
       "<div>\n",
       "<style scoped>\n",
       "    .dataframe tbody tr th:only-of-type {\n",
       "        vertical-align: middle;\n",
       "    }\n",
       "\n",
       "    .dataframe tbody tr th {\n",
       "        vertical-align: top;\n",
       "    }\n",
       "\n",
       "    .dataframe thead th {\n",
       "        text-align: right;\n",
       "    }\n",
       "</style>\n",
       "<table border=\"1\" class=\"dataframe\">\n",
       "  <thead>\n",
       "    <tr style=\"text-align: right;\">\n",
       "      <th></th>\n",
       "      <th>frame_id</th>\n",
       "      <th>retention_time_secs</th>\n",
       "    </tr>\n",
       "  </thead>\n",
       "  <tbody>\n",
       "    <tr>\n",
       "      <th>0</th>\n",
       "      <td>40408</td>\n",
       "      <td>4340.019894</td>\n",
       "    </tr>\n",
       "    <tr>\n",
       "      <th>1</th>\n",
       "      <td>40409</td>\n",
       "      <td>4340.127084</td>\n",
       "    </tr>\n",
       "    <tr>\n",
       "      <th>2</th>\n",
       "      <td>40410</td>\n",
       "      <td>4340.233855</td>\n",
       "    </tr>\n",
       "    <tr>\n",
       "      <th>3</th>\n",
       "      <td>40412</td>\n",
       "      <td>4340.446655</td>\n",
       "    </tr>\n",
       "    <tr>\n",
       "      <th>4</th>\n",
       "      <td>40413</td>\n",
       "      <td>4340.554812</td>\n",
       "    </tr>\n",
       "  </tbody>\n",
       "</table>\n",
       "</div>"
      ],
      "text/plain": [
       "   frame_id  retention_time_secs\n",
       "0     40408          4340.019894\n",
       "1     40409          4340.127084\n",
       "2     40410          4340.233855\n",
       "3     40412          4340.446655\n",
       "4     40413          4340.554812"
      ]
     },
     "execution_count": 645,
     "metadata": {},
     "output_type": "execute_result"
    }
   ],
   "source": [
    "ms2_frame_properties_df.head()"
   ]
  },
  {
   "cell_type": "code",
   "execution_count": 646,
   "metadata": {},
   "outputs": [
    {
     "data": {
      "text/plain": [
       "1.1810854877303427"
      ]
     },
     "execution_count": 646,
     "metadata": {},
     "output_type": "execute_result"
    }
   ],
   "source": [
    "ms1_frame_delay = ms1_frame_properties_df.iloc[1].retention_time_secs - ms1_frame_properties_df.iloc[0].retention_time_secs\n",
    "ms1_frame_delay"
   ]
  },
  {
   "cell_type": "code",
   "execution_count": 647,
   "metadata": {},
   "outputs": [
    {
     "data": {
      "text/plain": [
       "203"
      ]
     },
     "execution_count": 647,
     "metadata": {},
     "output_type": "execute_result"
    }
   ],
   "source": [
    "len(ms1_frame_properties_df)"
   ]
  },
  {
   "cell_type": "code",
   "execution_count": 648,
   "metadata": {},
   "outputs": [],
   "source": [
    "# get all the isolation windows\n",
    "isolation_window_df = pd.read_pickle('/Users/darylwilding-mcbride/Downloads/isolation_window_df.pkl')"
   ]
  },
  {
   "cell_type": "code",
   "execution_count": 649,
   "metadata": {},
   "outputs": [
    {
     "data": {
      "text/html": [
       "<div>\n",
       "<style scoped>\n",
       "    .dataframe tbody tr th:only-of-type {\n",
       "        vertical-align: middle;\n",
       "    }\n",
       "\n",
       "    .dataframe tbody tr th {\n",
       "        vertical-align: top;\n",
       "    }\n",
       "\n",
       "    .dataframe thead th {\n",
       "        text-align: right;\n",
       "    }\n",
       "</style>\n",
       "<table border=\"1\" class=\"dataframe\">\n",
       "  <thead>\n",
       "    <tr style=\"text-align: right;\">\n",
       "      <th></th>\n",
       "      <th>Frame</th>\n",
       "      <th>ScanNumBegin</th>\n",
       "      <th>ScanNumEnd</th>\n",
       "      <th>IsolationMz</th>\n",
       "      <th>IsolationWidth</th>\n",
       "      <th>CollisionEnergy</th>\n",
       "      <th>Precursor</th>\n",
       "    </tr>\n",
       "  </thead>\n",
       "  <tbody>\n",
       "    <tr>\n",
       "      <th>0</th>\n",
       "      <td>3</td>\n",
       "      <td>507</td>\n",
       "      <td>532</td>\n",
       "      <td>742.744835</td>\n",
       "      <td>2.427448</td>\n",
       "      <td>36.96</td>\n",
       "      <td>1</td>\n",
       "    </tr>\n",
       "    <tr>\n",
       "      <th>1</th>\n",
       "      <td>3</td>\n",
       "      <td>549</td>\n",
       "      <td>574</td>\n",
       "      <td>709.235759</td>\n",
       "      <td>2.092358</td>\n",
       "      <td>36.96</td>\n",
       "      <td>2</td>\n",
       "    </tr>\n",
       "    <tr>\n",
       "      <th>2</th>\n",
       "      <td>3</td>\n",
       "      <td>602</td>\n",
       "      <td>627</td>\n",
       "      <td>594.235088</td>\n",
       "      <td>2.000000</td>\n",
       "      <td>36.96</td>\n",
       "      <td>3</td>\n",
       "    </tr>\n",
       "    <tr>\n",
       "      <th>3</th>\n",
       "      <td>3</td>\n",
       "      <td>643</td>\n",
       "      <td>668</td>\n",
       "      <td>503.527768</td>\n",
       "      <td>2.000000</td>\n",
       "      <td>36.96</td>\n",
       "      <td>4</td>\n",
       "    </tr>\n",
       "    <tr>\n",
       "      <th>4</th>\n",
       "      <td>3</td>\n",
       "      <td>684</td>\n",
       "      <td>709</td>\n",
       "      <td>552.063870</td>\n",
       "      <td>2.000000</td>\n",
       "      <td>31.92</td>\n",
       "      <td>5</td>\n",
       "    </tr>\n",
       "  </tbody>\n",
       "</table>\n",
       "</div>"
      ],
      "text/plain": [
       "   Frame  ScanNumBegin  ScanNumEnd  IsolationMz  IsolationWidth  \\\n",
       "0      3           507         532   742.744835        2.427448   \n",
       "1      3           549         574   709.235759        2.092358   \n",
       "2      3           602         627   594.235088        2.000000   \n",
       "3      3           643         668   503.527768        2.000000   \n",
       "4      3           684         709   552.063870        2.000000   \n",
       "\n",
       "   CollisionEnergy  Precursor  \n",
       "0            36.96          1  \n",
       "1            36.96          2  \n",
       "2            36.96          3  \n",
       "3            36.96          4  \n",
       "4            31.92          5  "
      ]
     },
     "execution_count": 649,
     "metadata": {},
     "output_type": "execute_result"
    }
   ],
   "source": [
    "isolation_window_df.head()"
   ]
  },
  {
   "cell_type": "code",
   "execution_count": 650,
   "metadata": {},
   "outputs": [],
   "source": [
    "# add-in the retention time for the isolation windows and filter out the window not in range\n",
    "isolation_window_df = pd.merge(isolation_window_df, ms2_frame_properties_df, how='left', left_on=['Frame'], right_on=['frame_id'])\n",
    "isolation_window_df.drop(['frame_id', 'CollisionEnergy'], axis=1, inplace=True)\n",
    "isolation_window_df.dropna(subset=['retention_time_secs'], inplace=True)\n",
    "isolation_window_df['mz_lower'] = isolation_window_df.IsolationMz - (isolation_window_df.IsolationWidth / 2) - 0.7\n",
    "isolation_window_df['mz_upper'] = isolation_window_df.IsolationMz + (isolation_window_df.IsolationWidth / 2) + 0.7\n",
    "isolation_window_df['wide_rt_lower'] = isolation_window_df.retention_time_secs - RT_BASE_PEAK_WIDTH_SECS\n",
    "isolation_window_df['wide_rt_upper'] = isolation_window_df.retention_time_secs + RT_BASE_PEAK_WIDTH_SECS\n",
    "isolation_window_df['fe_rt_lower'] = isolation_window_df.retention_time_secs - RT_FRAGMENT_EVENT_DELTA_SECS\n",
    "isolation_window_df['fe_rt_upper'] = isolation_window_df.retention_time_secs + RT_FRAGMENT_EVENT_DELTA_SECS"
   ]
  },
  {
   "cell_type": "code",
   "execution_count": 651,
   "metadata": {},
   "outputs": [],
   "source": [
    "# filter out isolation windows that don't fit in the database subset we have loaded\n",
    "isolation_window_df = isolation_window_df[(isolation_window_df.wide_rt_lower >= RT_LIMIT_LOWER) & (isolation_window_df.wide_rt_upper <= RT_LIMIT_UPPER)]"
   ]
  },
  {
   "cell_type": "code",
   "execution_count": 652,
   "metadata": {},
   "outputs": [
    {
     "data": {
      "text/html": [
       "<div>\n",
       "<style scoped>\n",
       "    .dataframe tbody tr th:only-of-type {\n",
       "        vertical-align: middle;\n",
       "    }\n",
       "\n",
       "    .dataframe tbody tr th {\n",
       "        vertical-align: top;\n",
       "    }\n",
       "\n",
       "    .dataframe thead th {\n",
       "        text-align: right;\n",
       "    }\n",
       "</style>\n",
       "<table border=\"1\" class=\"dataframe\">\n",
       "  <thead>\n",
       "    <tr style=\"text-align: right;\">\n",
       "      <th></th>\n",
       "      <th>Frame</th>\n",
       "      <th>ScanNumBegin</th>\n",
       "      <th>ScanNumEnd</th>\n",
       "      <th>IsolationMz</th>\n",
       "      <th>IsolationWidth</th>\n",
       "      <th>Precursor</th>\n",
       "      <th>retention_time_secs</th>\n",
       "      <th>mz_lower</th>\n",
       "      <th>mz_upper</th>\n",
       "      <th>wide_rt_lower</th>\n",
       "      <th>wide_rt_upper</th>\n",
       "      <th>fe_rt_lower</th>\n",
       "      <th>fe_rt_upper</th>\n",
       "    </tr>\n",
       "  </thead>\n",
       "  <tbody>\n",
       "    <tr>\n",
       "      <th>315657</th>\n",
       "      <td>40688</td>\n",
       "      <td>219</td>\n",
       "      <td>244</td>\n",
       "      <td>1106.675230</td>\n",
       "      <td>3.0</td>\n",
       "      <td>148941</td>\n",
       "      <td>4370.101926</td>\n",
       "      <td>1104.475230</td>\n",
       "      <td>1108.875230</td>\n",
       "      <td>4340.101926</td>\n",
       "      <td>4400.101926</td>\n",
       "      <td>4366.601926</td>\n",
       "      <td>4373.601926</td>\n",
       "    </tr>\n",
       "    <tr>\n",
       "      <th>315658</th>\n",
       "      <td>40688</td>\n",
       "      <td>287</td>\n",
       "      <td>312</td>\n",
       "      <td>987.488407</td>\n",
       "      <td>3.0</td>\n",
       "      <td>148938</td>\n",
       "      <td>4370.101926</td>\n",
       "      <td>985.288407</td>\n",
       "      <td>989.688407</td>\n",
       "      <td>4340.101926</td>\n",
       "      <td>4400.101926</td>\n",
       "      <td>4366.601926</td>\n",
       "      <td>4373.601926</td>\n",
       "    </tr>\n",
       "    <tr>\n",
       "      <th>315659</th>\n",
       "      <td>40688</td>\n",
       "      <td>344</td>\n",
       "      <td>369</td>\n",
       "      <td>922.491024</td>\n",
       "      <td>3.0</td>\n",
       "      <td>148930</td>\n",
       "      <td>4370.101926</td>\n",
       "      <td>920.291024</td>\n",
       "      <td>924.691024</td>\n",
       "      <td>4340.101926</td>\n",
       "      <td>4400.101926</td>\n",
       "      <td>4366.601926</td>\n",
       "      <td>4373.601926</td>\n",
       "    </tr>\n",
       "    <tr>\n",
       "      <th>315660</th>\n",
       "      <td>40688</td>\n",
       "      <td>386</td>\n",
       "      <td>411</td>\n",
       "      <td>884.941548</td>\n",
       "      <td>3.0</td>\n",
       "      <td>148942</td>\n",
       "      <td>4370.101926</td>\n",
       "      <td>882.741548</td>\n",
       "      <td>887.141548</td>\n",
       "      <td>4340.101926</td>\n",
       "      <td>4400.101926</td>\n",
       "      <td>4366.601926</td>\n",
       "      <td>4373.601926</td>\n",
       "    </tr>\n",
       "    <tr>\n",
       "      <th>315661</th>\n",
       "      <td>40688</td>\n",
       "      <td>434</td>\n",
       "      <td>459</td>\n",
       "      <td>876.400632</td>\n",
       "      <td>3.0</td>\n",
       "      <td>148943</td>\n",
       "      <td>4370.101926</td>\n",
       "      <td>874.200632</td>\n",
       "      <td>878.600632</td>\n",
       "      <td>4340.101926</td>\n",
       "      <td>4400.101926</td>\n",
       "      <td>4366.601926</td>\n",
       "      <td>4373.601926</td>\n",
       "    </tr>\n",
       "  </tbody>\n",
       "</table>\n",
       "</div>"
      ],
      "text/plain": [
       "        Frame  ScanNumBegin  ScanNumEnd  IsolationMz  IsolationWidth  \\\n",
       "315657  40688           219         244  1106.675230             3.0   \n",
       "315658  40688           287         312   987.488407             3.0   \n",
       "315659  40688           344         369   922.491024             3.0   \n",
       "315660  40688           386         411   884.941548             3.0   \n",
       "315661  40688           434         459   876.400632             3.0   \n",
       "\n",
       "        Precursor  retention_time_secs     mz_lower     mz_upper  \\\n",
       "315657     148941          4370.101926  1104.475230  1108.875230   \n",
       "315658     148938          4370.101926   985.288407   989.688407   \n",
       "315659     148930          4370.101926   920.291024   924.691024   \n",
       "315660     148942          4370.101926   882.741548   887.141548   \n",
       "315661     148943          4370.101926   874.200632   878.600632   \n",
       "\n",
       "        wide_rt_lower  wide_rt_upper  fe_rt_lower  fe_rt_upper  \n",
       "315657    4340.101926    4400.101926  4366.601926  4373.601926  \n",
       "315658    4340.101926    4400.101926  4366.601926  4373.601926  \n",
       "315659    4340.101926    4400.101926  4366.601926  4373.601926  \n",
       "315660    4340.101926    4400.101926  4366.601926  4373.601926  \n",
       "315661    4340.101926    4400.101926  4366.601926  4373.601926  "
      ]
     },
     "execution_count": 652,
     "metadata": {},
     "output_type": "execute_result"
    }
   ],
   "source": [
    "isolation_window_df.head()"
   ]
  },
  {
   "cell_type": "markdown",
   "metadata": {},
   "source": [
    "### Select one of the isolation windows for analysis"
   ]
  },
  {
   "cell_type": "code",
   "execution_count": 653,
   "metadata": {},
   "outputs": [
    {
     "name": "stdout",
     "output_type": "stream",
     "text": [
      "There are 17860 precursor isolation windows.\n"
     ]
    }
   ],
   "source": [
    "print(\"There are {} precursor isolation windows.\".format(len(isolation_window_df)))"
   ]
  },
  {
   "cell_type": "code",
   "execution_count": 654,
   "metadata": {},
   "outputs": [],
   "source": [
    "# ISOLATION_WINDOW_IDX = 8089\n",
    "# window_df = isolation_window_df.iloc[ISOLATION_WINDOW_IDX]"
   ]
  },
  {
   "cell_type": "code",
   "execution_count": 655,
   "metadata": {},
   "outputs": [],
   "source": [
    "PRECURSOR_ID = 153421\n",
    "window_df = isolation_window_df[isolation_window_df.Precursor == PRECURSOR_ID].iloc[0]"
   ]
  },
  {
   "cell_type": "code",
   "execution_count": 656,
   "metadata": {},
   "outputs": [
    {
     "data": {
      "text/plain": [
       "Frame                   41474.000000\n",
       "ScanNumBegin              462.000000\n",
       "ScanNumEnd                487.000000\n",
       "IsolationMz               860.444362\n",
       "IsolationWidth              3.000000\n",
       "Precursor              153421.000000\n",
       "retention_time_secs      4454.557286\n",
       "mz_lower                  858.244362\n",
       "mz_upper                  862.644362\n",
       "wide_rt_lower            4424.557286\n",
       "wide_rt_upper            4484.557286\n",
       "fe_rt_lower              4451.057286\n",
       "fe_rt_upper              4458.057286\n",
       "Name: 324135, dtype: float64"
      ]
     },
     "execution_count": 656,
     "metadata": {},
     "output_type": "execute_result"
    }
   ],
   "source": [
    "window_df"
   ]
  },
  {
   "cell_type": "code",
   "execution_count": 657,
   "metadata": {},
   "outputs": [],
   "source": [
    "mz_lower = window_df.mz_lower\n",
    "mz_upper = window_df.mz_upper\n",
    "scan_width = int(window_df.ScanNumEnd - window_df.ScanNumBegin)\n",
    "wide_scan_lower = int(window_df.ScanNumBegin - scan_width)\n",
    "wide_scan_upper = int(window_df.ScanNumEnd + scan_width)\n",
    "fe_scan_lower = int(window_df.ScanNumBegin)\n",
    "fe_scan_upper = int(window_df.ScanNumEnd)\n",
    "wide_rt_lower = window_df.wide_rt_lower\n",
    "wide_rt_upper = window_df.wide_rt_upper\n",
    "fe_rt_lower = window_df.fe_rt_lower\n",
    "fe_rt_upper = window_df.fe_rt_upper\n",
    "precursor_id = int(window_df.Precursor)"
   ]
  },
  {
   "cell_type": "code",
   "execution_count": 658,
   "metadata": {},
   "outputs": [],
   "source": [
    "# get the ms1 frame IDs\n",
    "ms1_frame_ids = tuple(ms1_frame_properties_df.astype(int).values[:,0])\n"
   ]
  },
  {
   "cell_type": "code",
   "execution_count": 659,
   "metadata": {},
   "outputs": [],
   "source": [
    "# load the cube's raw ms1 points\n",
    "db_conn = sqlite3.connect(CONVERTED_DATABASE_NAME)\n",
    "ms1_raw_points_df = pd.read_sql_query(\"select frame_id,mz,scan,intensity,retention_time_secs from frames where mz >= {} and mz <= {} and scan >= {} and scan <= {} and retention_time_secs >= {} and retention_time_secs <= {} and frame_id in {}\".format(mz_lower, mz_upper, wide_scan_lower, wide_scan_upper, wide_rt_lower, wide_rt_upper, ms1_frame_ids), db_conn)\n",
    "db_conn.close()"
   ]
  },
  {
   "cell_type": "code",
   "execution_count": 660,
   "metadata": {},
   "outputs": [
    {
     "data": {
      "text/plain": [
       "20794"
      ]
     },
     "execution_count": 660,
     "metadata": {},
     "output_type": "execute_result"
    }
   ],
   "source": [
    "len(ms1_raw_points_df)"
   ]
  },
  {
   "cell_type": "code",
   "execution_count": 661,
   "metadata": {},
   "outputs": [
    {
     "data": {
      "text/plain": [
       "1788"
      ]
     },
     "execution_count": 661,
     "metadata": {},
     "output_type": "execute_result"
    }
   ],
   "source": [
    "ms1_raw_points_df.intensity.max()"
   ]
  },
  {
   "cell_type": "code",
   "execution_count": 662,
   "metadata": {},
   "outputs": [
    {
     "data": {
      "text/html": [
       "<div>\n",
       "<style scoped>\n",
       "    .dataframe tbody tr th:only-of-type {\n",
       "        vertical-align: middle;\n",
       "    }\n",
       "\n",
       "    .dataframe tbody tr th {\n",
       "        vertical-align: top;\n",
       "    }\n",
       "\n",
       "    .dataframe thead th {\n",
       "        text-align: right;\n",
       "    }\n",
       "</style>\n",
       "<table border=\"1\" class=\"dataframe\">\n",
       "  <thead>\n",
       "    <tr style=\"text-align: right;\">\n",
       "      <th></th>\n",
       "      <th>frame_id</th>\n",
       "      <th>mz</th>\n",
       "      <th>scan</th>\n",
       "      <th>intensity</th>\n",
       "      <th>retention_time_secs</th>\n",
       "    </tr>\n",
       "  </thead>\n",
       "  <tbody>\n",
       "    <tr>\n",
       "      <th>0</th>\n",
       "      <td>41203</td>\n",
       "      <td>858.304358</td>\n",
       "      <td>469</td>\n",
       "      <td>9</td>\n",
       "      <td>4425.463095</td>\n",
       "    </tr>\n",
       "    <tr>\n",
       "      <th>1</th>\n",
       "      <td>41203</td>\n",
       "      <td>858.322836</td>\n",
       "      <td>511</td>\n",
       "      <td>47</td>\n",
       "      <td>4425.463095</td>\n",
       "    </tr>\n",
       "    <tr>\n",
       "      <th>2</th>\n",
       "      <td>41203</td>\n",
       "      <td>858.332075</td>\n",
       "      <td>443</td>\n",
       "      <td>10</td>\n",
       "      <td>4425.463095</td>\n",
       "    </tr>\n",
       "    <tr>\n",
       "      <th>3</th>\n",
       "      <td>41203</td>\n",
       "      <td>858.336695</td>\n",
       "      <td>445</td>\n",
       "      <td>72</td>\n",
       "      <td>4425.463095</td>\n",
       "    </tr>\n",
       "    <tr>\n",
       "      <th>4</th>\n",
       "      <td>41203</td>\n",
       "      <td>858.336695</td>\n",
       "      <td>449</td>\n",
       "      <td>63</td>\n",
       "      <td>4425.463095</td>\n",
       "    </tr>\n",
       "  </tbody>\n",
       "</table>\n",
       "</div>"
      ],
      "text/plain": [
       "   frame_id          mz  scan  intensity  retention_time_secs\n",
       "0     41203  858.304358   469          9          4425.463095\n",
       "1     41203  858.322836   511         47          4425.463095\n",
       "2     41203  858.332075   443         10          4425.463095\n",
       "3     41203  858.336695   445         72          4425.463095\n",
       "4     41203  858.336695   449         63          4425.463095"
      ]
     },
     "execution_count": 662,
     "metadata": {},
     "output_type": "execute_result"
    }
   ],
   "source": [
    "ms1_raw_points_df.head()"
   ]
  },
  {
   "cell_type": "code",
   "execution_count": 663,
   "metadata": {},
   "outputs": [
    {
     "data": {
      "text/html": [
       "<div>\n",
       "<style scoped>\n",
       "    .dataframe tbody tr th:only-of-type {\n",
       "        vertical-align: middle;\n",
       "    }\n",
       "\n",
       "    .dataframe tbody tr th {\n",
       "        vertical-align: top;\n",
       "    }\n",
       "\n",
       "    .dataframe thead th {\n",
       "        text-align: right;\n",
       "    }\n",
       "</style>\n",
       "<table border=\"1\" class=\"dataframe\">\n",
       "  <thead>\n",
       "    <tr style=\"text-align: right;\">\n",
       "      <th></th>\n",
       "      <th>frame_id</th>\n",
       "      <th>mz</th>\n",
       "      <th>scan</th>\n",
       "      <th>intensity</th>\n",
       "      <th>retention_time_secs</th>\n",
       "    </tr>\n",
       "  </thead>\n",
       "  <tbody>\n",
       "    <tr>\n",
       "      <th>count</th>\n",
       "      <td>20794.000000</td>\n",
       "      <td>20794.000000</td>\n",
       "      <td>20794.000000</td>\n",
       "      <td>20794.000000</td>\n",
       "      <td>20794.000000</td>\n",
       "    </tr>\n",
       "    <tr>\n",
       "      <th>mean</th>\n",
       "      <td>41464.131240</td>\n",
       "      <td>859.932500</td>\n",
       "      <td>464.408050</td>\n",
       "      <td>87.869241</td>\n",
       "      <td>4453.494892</td>\n",
       "    </tr>\n",
       "    <tr>\n",
       "      <th>std</th>\n",
       "      <td>135.338354</td>\n",
       "      <td>1.193663</td>\n",
       "      <td>19.942714</td>\n",
       "      <td>148.292643</td>\n",
       "      <td>14.524340</td>\n",
       "    </tr>\n",
       "    <tr>\n",
       "      <th>min</th>\n",
       "      <td>41203.000000</td>\n",
       "      <td>858.248925</td>\n",
       "      <td>437.000000</td>\n",
       "      <td>9.000000</td>\n",
       "      <td>4425.463095</td>\n",
       "    </tr>\n",
       "    <tr>\n",
       "      <th>25%</th>\n",
       "      <td>41368.000000</td>\n",
       "      <td>858.928106</td>\n",
       "      <td>448.000000</td>\n",
       "      <td>32.000000</td>\n",
       "      <td>4443.177867</td>\n",
       "    </tr>\n",
       "    <tr>\n",
       "      <th>50%</th>\n",
       "      <td>41467.000000</td>\n",
       "      <td>859.667655</td>\n",
       "      <td>461.000000</td>\n",
       "      <td>54.000000</td>\n",
       "      <td>4453.805803</td>\n",
       "    </tr>\n",
       "    <tr>\n",
       "      <th>75%</th>\n",
       "      <td>41544.000000</td>\n",
       "      <td>860.860850</td>\n",
       "      <td>479.000000</td>\n",
       "      <td>81.000000</td>\n",
       "      <td>4462.064699</td>\n",
       "    </tr>\n",
       "    <tr>\n",
       "      <th>max</th>\n",
       "      <td>41753.000000</td>\n",
       "      <td>862.642931</td>\n",
       "      <td>512.000000</td>\n",
       "      <td>1788.000000</td>\n",
       "      <td>4484.495019</td>\n",
       "    </tr>\n",
       "  </tbody>\n",
       "</table>\n",
       "</div>"
      ],
      "text/plain": [
       "           frame_id            mz          scan     intensity  \\\n",
       "count  20794.000000  20794.000000  20794.000000  20794.000000   \n",
       "mean   41464.131240    859.932500    464.408050     87.869241   \n",
       "std      135.338354      1.193663     19.942714    148.292643   \n",
       "min    41203.000000    858.248925    437.000000      9.000000   \n",
       "25%    41368.000000    858.928106    448.000000     32.000000   \n",
       "50%    41467.000000    859.667655    461.000000     54.000000   \n",
       "75%    41544.000000    860.860850    479.000000     81.000000   \n",
       "max    41753.000000    862.642931    512.000000   1788.000000   \n",
       "\n",
       "       retention_time_secs  \n",
       "count         20794.000000  \n",
       "mean           4453.494892  \n",
       "std              14.524340  \n",
       "min            4425.463095  \n",
       "25%            4443.177867  \n",
       "50%            4453.805803  \n",
       "75%            4462.064699  \n",
       "max            4484.495019  "
      ]
     },
     "execution_count": 663,
     "metadata": {},
     "output_type": "execute_result"
    }
   ],
   "source": [
    "ms1_raw_points_df.describe()"
   ]
  },
  {
   "cell_type": "code",
   "execution_count": 664,
   "metadata": {},
   "outputs": [],
   "source": [
    "# get the raw points constrained to the fragmentation event's RT\n",
    "fe_raw_points_df = ms1_raw_points_df[(ms1_raw_points_df.retention_time_secs >= fe_rt_lower) & (ms1_raw_points_df.retention_time_secs <= fe_rt_upper)]"
   ]
  },
  {
   "cell_type": "code",
   "execution_count": 665,
   "metadata": {},
   "outputs": [],
   "source": [
    "fe_raw_points_df.to_csv('/Users/darylwilding-mcbride/Downloads/fe_raw_points_ms1.csv')"
   ]
  },
  {
   "cell_type": "code",
   "execution_count": 618,
   "metadata": {},
   "outputs": [],
   "source": [
    "MZ_BIN_WIDTH = 0.1"
   ]
  },
  {
   "cell_type": "code",
   "execution_count": 619,
   "metadata": {},
   "outputs": [],
   "source": [
    "ms1_bins = np.arange(start=mz_lower, stop=mz_upper+MZ_BIN_WIDTH, step=MZ_BIN_WIDTH)  # go slightly wider to accomodate the maximum value\n"
   ]
  },
  {
   "cell_type": "code",
   "execution_count": 620,
   "metadata": {},
   "outputs": [],
   "source": [
    "# adjust the bins to illustrate the peak splitting issue\n",
    "# ms1_bins += 0.06"
   ]
  },
  {
   "cell_type": "code",
   "execution_count": 621,
   "metadata": {},
   "outputs": [],
   "source": [
    "MZ_BIN_COUNT = len(ms1_bins)"
   ]
  },
  {
   "cell_type": "code",
   "execution_count": 622,
   "metadata": {},
   "outputs": [],
   "source": [
    "# initialise an array of lists to hold the m/z and intensity values allocated to each bin\n",
    "ms1_mz_values_array = np.empty(MZ_BIN_COUNT, dtype=np.object)\n",
    "for idx in range(MZ_BIN_COUNT):\n",
    "    ms1_mz_values_array[idx] = []\n"
   ]
  },
  {
   "cell_type": "code",
   "execution_count": 623,
   "metadata": {},
   "outputs": [
    {
     "name": "stdout",
     "output_type": "stream",
     "text": [
      "CPU times: user 38.5 ms, sys: 16.7 ms, total: 55.1 ms\n",
      "Wall time: 41.3 ms\n"
     ]
    }
   ],
   "source": [
    "%%time\n",
    "\n",
    "# gather the m/z values into bins\n",
    "for r in zip(fe_raw_points_df.mz, fe_raw_points_df.intensity):\n",
    "    mz = r[0]\n",
    "    intensity = int(r[1])\n",
    "    if (mz >= mz_lower) and (mz <= mz_upper): # it should already but just to be sure\n",
    "        mz_array_idx = int(np.digitize(mz, ms1_bins)) # in which bin should this mz go\n",
    "        ms1_mz_values_array[mz_array_idx].append((mz, intensity))"
   ]
  },
  {
   "cell_type": "code",
   "execution_count": 624,
   "metadata": {},
   "outputs": [],
   "source": [
    "import peakutils"
   ]
  },
  {
   "cell_type": "code",
   "execution_count": 625,
   "metadata": {},
   "outputs": [
    {
     "name": "stdout",
     "output_type": "stream",
     "text": [
      "CPU times: user 3.91 ms, sys: 786 µs, total: 4.7 ms\n",
      "Wall time: 4.01 ms\n"
     ]
    }
   ],
   "source": [
    "%%time\n",
    "\n",
    "# compute the intensity-weighted m/z centroid and the summed intensity of the bins\n",
    "ms1_peaks = []\n",
    "for bin_idx in range(MZ_BIN_COUNT):\n",
    "    if len(ms1_mz_values_array[bin_idx]) > 0:\n",
    "        mz_values_for_bin = np.array([ list[0] for list in ms1_mz_values_array[bin_idx]])\n",
    "        intensity_values_for_bin = np.array([ list[1] for list in ms1_mz_values_array[bin_idx]]).astype(int)\n",
    "        mz_centroid = peakutils.centroid(mz_values_for_bin, intensity_values_for_bin)\n",
    "        summed_intensity = intensity_values_for_bin.sum()\n",
    "        ms1_peaks.append((mz_centroid,summed_intensity))"
   ]
  },
  {
   "cell_type": "code",
   "execution_count": 626,
   "metadata": {},
   "outputs": [
    {
     "data": {
      "text/plain": [
       "[(858.3066489556553, 843),\n",
       " (858.4120324811556, 10591),\n",
       " (858.46634376448, 14446),\n",
       " (858.6087345569211, 643),\n",
       " (858.7002300476615, 2357),\n",
       " (858.7869569958199, 12416),\n",
       " (858.9356914530805, 269132),\n",
       " (858.9516466447012, 9940),\n",
       " (859.1208940486085, 8079),\n",
       " (859.1821062969926, 6982),\n",
       " (859.2946312248371, 2543),\n",
       " (859.4361960156403, 224788),\n",
       " (859.4490209647806, 31453),\n",
       " (859.6091632864104, 1429),\n",
       " (859.6853834084554, 4604),\n",
       " (859.7967688411497, 3364),\n",
       " (859.935393496842, 94665),\n",
       " (859.9472638620093, 42416),\n",
       " (860.1060037938984, 1260),\n",
       " (860.1913913896184, 916),\n",
       " (860.2983399986923, 1171),\n",
       " (860.4299517267889, 30129),\n",
       " (860.4482722652153, 24693),\n",
       " (860.6230286298403, 780),\n",
       " (860.7045773307269, 1005),\n",
       " (860.7701657549426, 3646),\n",
       " (860.9285217216856, 12664),\n",
       " (860.9605445323161, 6053),\n",
       " (861.0900519372763, 2870),\n",
       " (861.2006988183343, 454),\n",
       " (861.3011943777786, 379),\n",
       " (861.4159109889537, 6407),\n",
       " (861.4555748531699, 1900),\n",
       " (861.5979309210318, 934),\n",
       " (861.6800378620966, 1625),\n",
       " (861.7862292425392, 1039),\n",
       " (861.9130892020266, 5259),\n",
       " (861.9650779688511, 1805),\n",
       " (862.0865899162658, 1155),\n",
       " (862.1840286407755, 1010),\n",
       " (862.3070883421188, 625),\n",
       " (862.413973395774, 4663),\n",
       " (862.4588418119203, 1476),\n",
       " (862.5931500931946, 618)]"
      ]
     },
     "execution_count": 626,
     "metadata": {},
     "output_type": "execute_result"
    }
   ],
   "source": [
    "ms1_peaks"
   ]
  },
  {
   "cell_type": "code",
   "execution_count": 627,
   "metadata": {},
   "outputs": [],
   "source": [
    "ms1_peaks_df = pd.DataFrame(ms1_peaks, columns=['mz_centroid','summed_intensity'])"
   ]
  },
  {
   "cell_type": "code",
   "execution_count": 628,
   "metadata": {
    "scrolled": true
   },
   "outputs": [
    {
     "data": {
      "image/png": "[encoded data removed]",
      "text/plain": [
       "<Figure size 1080x360 with 1 Axes>"
      ]
     },
     "metadata": {
      "needs_background": "light"
     },
     "output_type": "display_data"
    }
   ],
   "source": [
    "f, ax = plt.subplots()\n",
    "colors = ['tab:blue', 'tab:orange', 'tab:green', 'tab:red', 'tab:purple', 'tab:brown', 'tab:pink', 'tab:gray', 'tab:olive', 'tab:cyan']\n",
    "markerline, stemlines, baseline = ax.stem(ms1_peaks_df.mz_centroid, ms1_peaks_df.summed_intensity, 'g')\n",
    "plt.setp(markerline, 'color', colors[2])\n",
    "plt.setp(stemlines, 'color', colors[2])\n",
    "plt.setp(baseline, 'color', colors[7])\n",
    "plt.xlabel('binned m/z')\n",
    "plt.ylabel('intensity')\n",
    "f.set_figheight(5)\n",
    "f.set_figwidth(15)\n",
    "plt.margins(0.06)\n",
    "plt.suptitle('Raw points centroided and summed by m/z bin for precursor ID {}'.format(precursor_id))\n",
    "plt.title('m/z bin width {} Th, narrow RT (FE +/- {} secs), wide mobility (FE +/- precursor scan width)'.format(MZ_BIN_WIDTH, RT_FRAGMENT_EVENT_DELTA_SECS))\n",
    "plt.show()"
   ]
  },
  {
   "cell_type": "markdown",
   "metadata": {},
   "source": [
    "Try the intensity descent approach instead of binning"
   ]
  },
  {
   "cell_type": "code",
   "execution_count": 666,
   "metadata": {},
   "outputs": [
    {
     "data": {
      "text/plain": [
       "5560"
      ]
     },
     "execution_count": 666,
     "metadata": {},
     "output_type": "execute_result"
    }
   ],
   "source": [
    "len(fe_raw_points_df)"
   ]
  },
  {
   "cell_type": "code",
   "execution_count": 667,
   "metadata": {},
   "outputs": [
    {
     "data": {
      "text/plain": [
       "1788"
      ]
     },
     "execution_count": 667,
     "metadata": {},
     "output_type": "execute_result"
    }
   ],
   "source": [
    "fe_raw_points_df.intensity.max()"
   ]
  },
  {
   "cell_type": "code",
   "execution_count": 631,
   "metadata": {},
   "outputs": [],
   "source": [
    "MZ_TOLERANCE_PPM = 5\n",
    "MZ_TOLERANCE_PERCENT = MZ_TOLERANCE_PPM * 10**-4"
   ]
  },
  {
   "cell_type": "code",
   "execution_count": 668,
   "metadata": {},
   "outputs": [],
   "source": [
    "raw_scratch_df = fe_raw_points_df.copy() # take a copy because we're going to delete stuff\n",
    "peaks_l = []\n",
    "while len(raw_scratch_df) > 0:\n",
    "    # find the most intense point\n",
    "    peak_df = raw_scratch_df.loc[raw_scratch_df.intensity.idxmax()]\n",
    "    mz = peak_df.mz\n",
    "    mz_delta = mz * MZ_TOLERANCE_PERCENT / 100\n",
    "    mz_lower = mz - mz_delta\n",
    "    mz_upper = mz + mz_delta\n",
    "\n",
    "    # get all the raw points within this m/z region\n",
    "    peak_raw_points_df = raw_scratch_df[(raw_scratch_df.mz >= mz_lower) & (raw_scratch_df.mz <= mz_upper)]\n",
    "\n",
    "    mz_centroid = peakutils.centroid(peak_raw_points_df.mz, peak_raw_points_df.intensity)\n",
    "    summed_intensity = peak_raw_points_df.intensity.sum()\n",
    "    peaks_l.append((mz_centroid, summed_intensity))\n",
    "\n",
    "    # remove the raw points assigned to this peak\n",
    "    raw_scratch_df = raw_scratch_df[~raw_scratch_df.isin(peak_raw_points_df)].dropna(how = 'all')\n"
   ]
  },
  {
   "cell_type": "code",
   "execution_count": 669,
   "metadata": {},
   "outputs": [],
   "source": [
    "id_peaks_df = pd.DataFrame(peaks_l, columns=['mz','intensity'])"
   ]
  },
  {
   "cell_type": "code",
   "execution_count": 670,
   "metadata": {},
   "outputs": [
    {
     "data": {
      "image/png": "[encoded data removed]",
      "text/plain": [
       "<Figure size 1080x360 with 1 Axes>"
      ]
     },
     "metadata": {
      "needs_background": "light"
     },
     "output_type": "display_data"
    }
   ],
   "source": [
    "f, ax = plt.subplots()\n",
    "colors = ['tab:blue', 'tab:orange', 'tab:green', 'tab:red', 'tab:purple', 'tab:brown', 'tab:pink', 'tab:gray', 'tab:olive', 'tab:cyan']\n",
    "markerline, stemlines, baseline = ax.stem(id_peaks_df.mz, id_peaks_df.intensity, 'g')\n",
    "plt.setp(markerline, 'color', colors[2])\n",
    "plt.setp(stemlines, 'color', colors[2])\n",
    "plt.setp(baseline, 'color', colors[7])\n",
    "plt.xlabel('binned m/z')\n",
    "plt.ylabel('intensity')\n",
    "f.set_figheight(5)\n",
    "f.set_figwidth(15)\n",
    "plt.margins(0.06)\n",
    "plt.suptitle('Raw points centroided and summed by intensity descent for precursor ID {}'.format(precursor_id))\n",
    "# plt.title('m/z bin width {} Th, narrow RT (FE +/- {} secs), wide mobility (FE +/- precursor scan width)'.format(MZ_BIN_WIDTH, RT_FRAGMENT_EVENT_DELTA_SECS))\n",
    "plt.show()"
   ]
  },
  {
   "cell_type": "code",
   "execution_count": 636,
   "metadata": {},
   "outputs": [
    {
     "name": "stdout",
     "output_type": "stream",
     "text": [
      "CPU times: user 1min 1s, sys: 93.6 ms, total: 1min 1s\n",
      "Wall time: 1min 1s\n"
     ]
    }
   ],
   "source": [
    "%%time\n",
    "\n",
    "# see https://github.com/mobiusklein/ms_deisotope/blob/ee4b083ad7ab5f77722860ce2d6fdb751886271e/ms_deisotope/deconvolution/api.py#L17\n",
    "deconvoluted_peaks, _priority_targets = deconvolute_peaks(peaks_l, averagine=averagine.peptide, charge_range=(1,5), scorer=scoring.MSDeconVFitter(10.0), truncate_after=0.95)"
   ]
  },
  {
   "cell_type": "code",
   "execution_count": 637,
   "metadata": {},
   "outputs": [
    {
     "data": {
      "text/plain": [
       "935"
      ]
     },
     "execution_count": 637,
     "metadata": {},
     "output_type": "execute_result"
    }
   ],
   "source": [
    "len(peaks_l)"
   ]
  },
  {
   "cell_type": "markdown",
   "metadata": {},
   "source": [
    "### Deconvolute the raw (bin-summed, centroided) peaks to find monoisotopic peaks"
   ]
  },
  {
   "cell_type": "code",
   "execution_count": 511,
   "metadata": {},
   "outputs": [],
   "source": [
    "PROTON_MASS = 1.0073  # Mass of a proton in unified atomic mass units, or Da. For calculating the monoisotopic mass.\n"
   ]
  },
  {
   "cell_type": "code",
   "execution_count": 512,
   "metadata": {},
   "outputs": [],
   "source": [
    "from ms_deisotope import deconvolute_peaks, averagine, scoring"
   ]
  },
  {
   "cell_type": "code",
   "execution_count": 513,
   "metadata": {},
   "outputs": [
    {
     "name": "stdout",
     "output_type": "stream",
     "text": [
      "CPU times: user 49 ms, sys: 1.87 ms, total: 50.8 ms\n",
      "Wall time: 49.3 ms\n"
     ]
    }
   ],
   "source": [
    "%%time\n",
    "\n",
    "# see https://github.com/mobiusklein/ms_deisotope/blob/ee4b083ad7ab5f77722860ce2d6fdb751886271e/ms_deisotope/deconvolution/api.py#L17\n",
    "deconvoluted_peaks, _priority_targets = deconvolute_peaks(ms1_peaks, averagine=averagine.peptide, charge_range=(1,5), scorer=scoring.MSDeconVFitter(10.0), truncate_after=0.95)"
   ]
  },
  {
   "cell_type": "code",
   "execution_count": 514,
   "metadata": {},
   "outputs": [
    {
     "name": "stdout",
     "output_type": "stream",
     "text": [
      "DeconvolutedPeak(a_to_a2_ratio=7.821728632160368, area=4710.0, average_mass=860.2444939248454, charge=1, chosen_for_msms=False, envelope=[(860.7559, 2759.38), (861.7477, 1053.00), (862.7613, 1.00)], full_width_at_half_max=0.01, index=2|7, intensity=3812.3822599466735, most_abundant_mass=859.7485979472101, mz=860.7558744139801, neutral_mass=859.7485979472101, score=59.66284355090838, signal_to_noise=2355.0)\n",
      "\n",
      "DeconvolutedPeak(a_to_a2_ratio=7.821728632160368, area=878.0, average_mass=860.7364433387493, charge=1, chosen_for_msms=False, envelope=[(861.2415, 376.00), (862.2459, 502.00), (863.2470, 1.00)], full_width_at_half_max=0.01, index=3|12, intensity=878.0, most_abundant_mass=861.23866442863, mz=861.2414987156385, neutral_mass=860.2342222488685, score=23.015077460783722, signal_to_noise=439.0)\n",
      "\n",
      "DeconvolutedPeak(a_to_a2_ratio=1.9308970182410141, area=19070.0, average_mass=1716.7942522238052, charge=2, chosen_for_msms=False, envelope=[(858.6583, 1637.00), (859.1487, 11888.00), (859.6576, 4144.00), (860.1530, 1401.00)], full_width_at_half_max=0.01, index=4|1, intensity=19070.0, most_abundant_mass=1716.2828043814918, mz=858.6470012386159, neutral_mass=1715.2794495436917, score=124.59643476887192, signal_to_noise=4767.5)\n",
      "\n",
      "DeconvolutedPeak(a_to_a2_ratio=1.9308970182410141, area=32955.0, average_mass=1717.2430787826393, charge=2, chosen_for_msms=False, envelope=[(858.8742, 11105.00), (859.3860, 11437.00), (859.8766, 6544.00), (860.3784, 3869.00)], full_width_at_half_max=0.01, index=5|2, intensity=32955.0, most_abundant_mass=1716.7574992792947, mz=858.874222692014, neutral_mass=1715.733892450488, score=269.319955743019, signal_to_noise=8238.75)\n",
      "\n",
      "DeconvolutedPeak(a_to_a2_ratio=1.930897018241014, area=698553.0, average_mass=1717.3654286942717, charge=2, chosen_for_msms=False, envelope=[(858.9379, 269905.00), (859.4397, 245549.00), (859.9409, 131682.00), (860.4415, 51417.00)], full_width_at_half_max=0.01, index=6|3, intensity=698553.0, most_abundant_mass=1715.8611522572467, mz=858.9380609071485, neutral_mass=1715.861568880757, score=1546.4978804875925, signal_to_noise=174638.25)\n",
      "\n",
      "DeconvolutedPeak(a_to_a2_ratio=1.9308970182410141, area=11161.0, average_mass=1718.0005468643924, charge=2, chosen_for_msms=False, envelope=[(859.2506, 3146.00), (859.7562, 3463.00), (860.2675, 895.00), (860.7559, 3657.00)], full_width_at_half_max=0.01, index=7|4, intensity=11161.0, most_abundant_mass=1719.4971958944202, mz=859.2545487373303, neutral_mass=1716.4945445411206, score=102.02132392879614, signal_to_noise=2790.25)\n",
      "\n",
      "DeconvolutedPeak(a_to_a2_ratio=1.930499203014767, area=4227.0, average_mass=1718.6077270569253, charge=2, chosen_for_msms=False, envelope=[(859.5629, 590.00), (860.0611, 750.00), (860.5526, 126.00), (861.0679, 1047.45)], full_width_at_half_max=0.01, index=8|5, intensity=2513.4455096183924, most_abundant_mass=1720.1212311959248, mz=859.5594621863472, neutral_mass=1717.1043714391544, score=39.03981143352149, signal_to_noise=1056.75)\n",
      "\n",
      "DeconvolutedPeak(a_to_a2_ratio=1.9297039163476317, area=9324.0, average_mass=1721.2282160602244, charge=2, chosen_for_msms=False, envelope=[(860.8692, 2783.00), (861.3772, 2142.00), (861.8678, 2229.00), (862.3713, 2170.00)], full_width_at_half_max=0.01, index=9|8, intensity=9324.0, most_abundant_mass=1719.7238641728143, mz=860.8692085531771, neutral_mass=1719.7238641728143, score=108.81363154196228, signal_to_noise=2331.0)\n",
      "\n",
      "DeconvolutedPeak(a_to_a2_ratio=1.9297039163476317, area=31600.0, average_mass=1721.3660307789642, charge=2, chosen_for_msms=False, envelope=[(860.9433, 15912.00), (861.4372, 6379.00), (861.9414, 5046.00), (862.4394, 4263.00)], full_width_at_half_max=0.01, index=10|9, intensity=31600.0, most_abundant_mass=1719.8719532899293, mz=860.9379964246277, neutral_mass=1719.8614399157154, score=188.3525479823316, signal_to_noise=7900.0)\n",
      "\n",
      "DeconvolutedPeak(a_to_a2_ratio=1.9297039163476317, area=4559.0, average_mass=1721.6129173858967, charge=2, chosen_for_msms=False, envelope=[(861.0679, 2761.00), (861.5666, 395.00), (862.0600, 912.00), (862.5604, 491.00)], full_width_at_half_max=0.01, index=11|10, intensity=4559.0, most_abundant_mass=1720.1212311959248, mz=861.0566033661058, neutral_mass=1720.0986537986716, score=58.12804827929946, signal_to_noise=1139.75)\n",
      "\n",
      "DeconvolutedPeak(a_to_a2_ratio=1.929703916347632, area=3876.0, average_mass=1721.2793953415887, charge=2, chosen_for_msms=False, envelope=[(861.1343, 958.00), (861.6531, 1785.00), (862.1535, 1133.00), (862.6546, 1.00)], full_width_at_half_max=0.01, index=12|11, intensity=3876.0, most_abundant_mass=1721.2917370295493, mz=861.1514675626446, neutral_mass=1720.2883821917492, score=56.25823926373074, signal_to_noise=1292.0)\n",
      "\n"
     ]
    }
   ],
   "source": [
    "peaks_l = []\n",
    "for peak in deconvoluted_peaks:\n",
    "    # discard a monoisotopic peak that has a second isotope with intensity of 1 (rubbish value)\n",
    "    if ((len(peak.envelope) > 1) and (peak.envelope[1][1] > 1)):\n",
    "        peaks_l.append((peak.mz, peak.neutral_mass, peak.intensity, peak.score, peak.signal_to_noise))\n",
    "        print(\"{}\\n\".format(peak))\n",
    "\n",
    "deconvoluted_peaks_df = pd.DataFrame(peaks_l, columns=['mz','neutral_mass','intensity','score','SN'])\n",
    "# 'neutral mass' is the zero charge M, so we add the proton mass to get M+H (the monoisotopic mass)\n",
    "deconvoluted_peaks_df['m_plus_h'] = deconvoluted_peaks_df.neutral_mass + PROTON_MASS\n"
   ]
  },
  {
   "cell_type": "code",
   "execution_count": 515,
   "metadata": {},
   "outputs": [
    {
     "data": {
      "text/html": [
       "<div>\n",
       "<style scoped>\n",
       "    .dataframe tbody tr th:only-of-type {\n",
       "        vertical-align: middle;\n",
       "    }\n",
       "\n",
       "    .dataframe tbody tr th {\n",
       "        vertical-align: top;\n",
       "    }\n",
       "\n",
       "    .dataframe thead th {\n",
       "        text-align: right;\n",
       "    }\n",
       "</style>\n",
       "<table border=\"1\" class=\"dataframe\">\n",
       "  <thead>\n",
       "    <tr style=\"text-align: right;\">\n",
       "      <th></th>\n",
       "      <th>mz</th>\n",
       "      <th>neutral_mass</th>\n",
       "      <th>intensity</th>\n",
       "      <th>score</th>\n",
       "      <th>SN</th>\n",
       "      <th>m_plus_h</th>\n",
       "    </tr>\n",
       "  </thead>\n",
       "  <tbody>\n",
       "    <tr>\n",
       "      <th>0</th>\n",
       "      <td>860.755874</td>\n",
       "      <td>859.748598</td>\n",
       "      <td>3812.38226</td>\n",
       "      <td>59.662844</td>\n",
       "      <td>2355.00</td>\n",
       "      <td>860.755898</td>\n",
       "    </tr>\n",
       "    <tr>\n",
       "      <th>1</th>\n",
       "      <td>861.241499</td>\n",
       "      <td>860.234222</td>\n",
       "      <td>878.00000</td>\n",
       "      <td>23.015077</td>\n",
       "      <td>439.00</td>\n",
       "      <td>861.241522</td>\n",
       "    </tr>\n",
       "    <tr>\n",
       "      <th>2</th>\n",
       "      <td>858.647001</td>\n",
       "      <td>1715.279450</td>\n",
       "      <td>19070.00000</td>\n",
       "      <td>124.596435</td>\n",
       "      <td>4767.50</td>\n",
       "      <td>1716.286750</td>\n",
       "    </tr>\n",
       "    <tr>\n",
       "      <th>3</th>\n",
       "      <td>858.874223</td>\n",
       "      <td>1715.733892</td>\n",
       "      <td>32955.00000</td>\n",
       "      <td>269.319956</td>\n",
       "      <td>8238.75</td>\n",
       "      <td>1716.741192</td>\n",
       "    </tr>\n",
       "    <tr>\n",
       "      <th>4</th>\n",
       "      <td>858.938061</td>\n",
       "      <td>1715.861569</td>\n",
       "      <td>698553.00000</td>\n",
       "      <td>1546.497880</td>\n",
       "      <td>174638.25</td>\n",
       "      <td>1716.868869</td>\n",
       "    </tr>\n",
       "    <tr>\n",
       "      <th>5</th>\n",
       "      <td>859.254549</td>\n",
       "      <td>1716.494545</td>\n",
       "      <td>11161.00000</td>\n",
       "      <td>102.021324</td>\n",
       "      <td>2790.25</td>\n",
       "      <td>1717.501845</td>\n",
       "    </tr>\n",
       "    <tr>\n",
       "      <th>6</th>\n",
       "      <td>859.559462</td>\n",
       "      <td>1717.104371</td>\n",
       "      <td>2513.44551</td>\n",
       "      <td>39.039811</td>\n",
       "      <td>1056.75</td>\n",
       "      <td>1718.111671</td>\n",
       "    </tr>\n",
       "    <tr>\n",
       "      <th>7</th>\n",
       "      <td>860.869209</td>\n",
       "      <td>1719.723864</td>\n",
       "      <td>9324.00000</td>\n",
       "      <td>108.813632</td>\n",
       "      <td>2331.00</td>\n",
       "      <td>1720.731164</td>\n",
       "    </tr>\n",
       "    <tr>\n",
       "      <th>8</th>\n",
       "      <td>860.937996</td>\n",
       "      <td>1719.861440</td>\n",
       "      <td>31600.00000</td>\n",
       "      <td>188.352548</td>\n",
       "      <td>7900.00</td>\n",
       "      <td>1720.868740</td>\n",
       "    </tr>\n",
       "    <tr>\n",
       "      <th>9</th>\n",
       "      <td>861.056603</td>\n",
       "      <td>1720.098654</td>\n",
       "      <td>4559.00000</td>\n",
       "      <td>58.128048</td>\n",
       "      <td>1139.75</td>\n",
       "      <td>1721.105954</td>\n",
       "    </tr>\n",
       "    <tr>\n",
       "      <th>10</th>\n",
       "      <td>861.151468</td>\n",
       "      <td>1720.288382</td>\n",
       "      <td>3876.00000</td>\n",
       "      <td>56.258239</td>\n",
       "      <td>1292.00</td>\n",
       "      <td>1721.295682</td>\n",
       "    </tr>\n",
       "  </tbody>\n",
       "</table>\n",
       "</div>"
      ],
      "text/plain": [
       "            mz  neutral_mass     intensity        score         SN  \\\n",
       "0   860.755874    859.748598    3812.38226    59.662844    2355.00   \n",
       "1   861.241499    860.234222     878.00000    23.015077     439.00   \n",
       "2   858.647001   1715.279450   19070.00000   124.596435    4767.50   \n",
       "3   858.874223   1715.733892   32955.00000   269.319956    8238.75   \n",
       "4   858.938061   1715.861569  698553.00000  1546.497880  174638.25   \n",
       "5   859.254549   1716.494545   11161.00000   102.021324    2790.25   \n",
       "6   859.559462   1717.104371    2513.44551    39.039811    1056.75   \n",
       "7   860.869209   1719.723864    9324.00000   108.813632    2331.00   \n",
       "8   860.937996   1719.861440   31600.00000   188.352548    7900.00   \n",
       "9   861.056603   1720.098654    4559.00000    58.128048    1139.75   \n",
       "10  861.151468   1720.288382    3876.00000    56.258239    1292.00   \n",
       "\n",
       "       m_plus_h  \n",
       "0    860.755898  \n",
       "1    861.241522  \n",
       "2   1716.286750  \n",
       "3   1716.741192  \n",
       "4   1716.868869  \n",
       "5   1717.501845  \n",
       "6   1718.111671  \n",
       "7   1720.731164  \n",
       "8   1720.868740  \n",
       "9   1721.105954  \n",
       "10  1721.295682  "
      ]
     },
     "execution_count": 515,
     "metadata": {},
     "output_type": "execute_result"
    }
   ],
   "source": [
    "deconvoluted_peaks_df"
   ]
  },
  {
   "cell_type": "code",
   "execution_count": 516,
   "metadata": {},
   "outputs": [
    {
     "data": {
      "image/png": "[encoded data removed]",
      "text/plain": [
       "<Figure size 1080x360 with 1 Axes>"
      ]
     },
     "metadata": {
      "needs_background": "light"
     },
     "output_type": "display_data"
    }
   ],
   "source": [
    "f, ax = plt.subplots()\n",
    "colors = ['tab:blue', 'tab:orange', 'tab:green', 'tab:red', 'tab:purple', 'tab:brown', 'tab:pink', 'tab:gray', 'tab:olive', 'tab:cyan']\n",
    "markerline, stemlines, baseline = ax.stem(deconvoluted_peaks_df.mz, deconvoluted_peaks_df.intensity, 'g')\n",
    "plt.setp(markerline, 'color', colors[2])\n",
    "plt.setp(stemlines, 'color', colors[2])\n",
    "plt.setp(baseline, 'color', colors[7])\n",
    "plt.xlabel('m/z')\n",
    "plt.ylabel('intensity')\n",
    "f.set_figheight(5)\n",
    "f.set_figwidth(15)\n",
    "plt.margins(0.06)\n",
    "plt.suptitle('Deconvoluted peaks for precursor ID {}'.format(precursor_id))\n",
    "plt.title('m/z bin width {} Th'.format(MZ_BIN_WIDTH))\n",
    "plt.show()"
   ]
  },
  {
   "cell_type": "markdown",
   "metadata": {},
   "source": [
    "### For each monoisotopic peak found, find its apex in RT and mobility"
   ]
  },
  {
   "cell_type": "code",
   "execution_count": 419,
   "metadata": {},
   "outputs": [],
   "source": [
    "# picking one of the monoisotopic peaks for analysis\n",
    "feature_monoisotopic_mz = deconvoluted_peaks_df.iloc[1].mz"
   ]
  },
  {
   "cell_type": "code",
   "execution_count": 420,
   "metadata": {},
   "outputs": [
    {
     "data": {
      "text/plain": [
       "858.9345185967403"
      ]
     },
     "execution_count": 420,
     "metadata": {},
     "output_type": "execute_result"
    }
   ],
   "source": [
    "feature_monoisotopic_mz"
   ]
  },
  {
   "cell_type": "markdown",
   "metadata": {},
   "source": [
    "Get the raw points for the monoisotopic peak (constrained by the fragmentation event)"
   ]
  },
  {
   "cell_type": "code",
   "execution_count": 421,
   "metadata": {},
   "outputs": [],
   "source": [
    "MZ_TOLERANCE_PPM = 20\n",
    "MZ_TOLERANCE_PERCENT = MZ_TOLERANCE_PPM * 10**-4"
   ]
  },
  {
   "cell_type": "code",
   "execution_count": 422,
   "metadata": {},
   "outputs": [],
   "source": [
    "monoisotopic_mz_ppm_tolerance = feature_monoisotopic_mz * MZ_TOLERANCE_PERCENT / 100\n",
    "monoisotopic_mz_lower = feature_monoisotopic_mz - monoisotopic_mz_ppm_tolerance\n",
    "monoisotopic_mz_upper = feature_monoisotopic_mz + monoisotopic_mz_ppm_tolerance"
   ]
  },
  {
   "cell_type": "code",
   "execution_count": 423,
   "metadata": {},
   "outputs": [],
   "source": [
    "monoisotopic_raw_points_df = fe_raw_points_df[(fe_raw_points_df.mz >= monoisotopic_mz_lower) & (fe_raw_points_df.mz <= monoisotopic_mz_upper)]"
   ]
  },
  {
   "cell_type": "code",
   "execution_count": 424,
   "metadata": {},
   "outputs": [
    {
     "data": {
      "text/html": [
       "<div>\n",
       "<style scoped>\n",
       "    .dataframe tbody tr th:only-of-type {\n",
       "        vertical-align: middle;\n",
       "    }\n",
       "\n",
       "    .dataframe tbody tr th {\n",
       "        vertical-align: top;\n",
       "    }\n",
       "\n",
       "    .dataframe thead th {\n",
       "        text-align: right;\n",
       "    }\n",
       "</style>\n",
       "<table border=\"1\" class=\"dataframe\">\n",
       "  <thead>\n",
       "    <tr style=\"text-align: right;\">\n",
       "      <th></th>\n",
       "      <th>frame_id</th>\n",
       "      <th>mz</th>\n",
       "      <th>scan</th>\n",
       "      <th>intensity</th>\n",
       "      <th>retention_time_secs</th>\n",
       "    </tr>\n",
       "  </thead>\n",
       "  <tbody>\n",
       "    <tr>\n",
       "      <th>4950</th>\n",
       "      <td>41445</td>\n",
       "      <td>858.946590</td>\n",
       "      <td>479</td>\n",
       "      <td>217</td>\n",
       "      <td>4451.447545</td>\n",
       "    </tr>\n",
       "    <tr>\n",
       "      <th>4951</th>\n",
       "      <td>41445</td>\n",
       "      <td>858.946590</td>\n",
       "      <td>495</td>\n",
       "      <td>60</td>\n",
       "      <td>4451.447545</td>\n",
       "    </tr>\n",
       "    <tr>\n",
       "      <th>4952</th>\n",
       "      <td>41445</td>\n",
       "      <td>858.951212</td>\n",
       "      <td>487</td>\n",
       "      <td>155</td>\n",
       "      <td>4451.447545</td>\n",
       "    </tr>\n",
       "    <tr>\n",
       "      <th>4953</th>\n",
       "      <td>41445</td>\n",
       "      <td>858.951212</td>\n",
       "      <td>489</td>\n",
       "      <td>52</td>\n",
       "      <td>4451.447545</td>\n",
       "    </tr>\n",
       "    <tr>\n",
       "      <th>4954</th>\n",
       "      <td>41445</td>\n",
       "      <td>858.951212</td>\n",
       "      <td>497</td>\n",
       "      <td>59</td>\n",
       "      <td>4451.447545</td>\n",
       "    </tr>\n",
       "  </tbody>\n",
       "</table>\n",
       "</div>"
      ],
      "text/plain": [
       "      frame_id          mz  scan  intensity  retention_time_secs\n",
       "4950     41445  858.946590   479        217          4451.447545\n",
       "4951     41445  858.946590   495         60          4451.447545\n",
       "4952     41445  858.951212   487        155          4451.447545\n",
       "4953     41445  858.951212   489         52          4451.447545\n",
       "4954     41445  858.951212   497         59          4451.447545"
      ]
     },
     "execution_count": 424,
     "metadata": {},
     "output_type": "execute_result"
    }
   ],
   "source": [
    "monoisotopic_raw_points_df.head()"
   ]
  },
  {
   "cell_type": "markdown",
   "metadata": {},
   "source": [
    "### Collapsing the monoisotopic's summed points onto the mobility dimension"
   ]
  },
  {
   "cell_type": "code",
   "execution_count": 425,
   "metadata": {
    "scrolled": false
   },
   "outputs": [],
   "source": [
    "scan_df = monoisotopic_raw_points_df.groupby(['scan'], as_index=False).intensity.sum()"
   ]
  },
  {
   "cell_type": "code",
   "execution_count": 426,
   "metadata": {},
   "outputs": [],
   "source": [
    "centroid_scan = peakutils.centroid(scan_df.scan, scan_df.intensity)"
   ]
  },
  {
   "cell_type": "code",
   "execution_count": 427,
   "metadata": {},
   "outputs": [
    {
     "data": {
      "text/plain": [
       "482.51876019575855"
      ]
     },
     "execution_count": 427,
     "metadata": {},
     "output_type": "execute_result"
    }
   ],
   "source": [
    "centroid_scan"
   ]
  },
  {
   "cell_type": "code",
   "execution_count": 428,
   "metadata": {},
   "outputs": [],
   "source": [
    "feature_scan_centroid = centroid_scan\n",
    "feature_scan_lower = window_df.ScanNumBegin\n",
    "feature_scan_upper = window_df.ScanNumEnd"
   ]
  },
  {
   "cell_type": "code",
   "execution_count": 429,
   "metadata": {},
   "outputs": [
    {
     "data": {
      "text/plain": [
       "(482.51876019575855, 462.0, 487.0)"
      ]
     },
     "execution_count": 429,
     "metadata": {},
     "output_type": "execute_result"
    }
   ],
   "source": [
    "feature_scan_centroid, feature_scan_lower, feature_scan_upper"
   ]
  },
  {
   "cell_type": "code",
   "execution_count": 430,
   "metadata": {},
   "outputs": [
    {
     "data": {
      "image/png": "[encoded data removed]",
      "text/plain": [
       "<Figure size 1080x360 with 1 Axes>"
      ]
     },
     "metadata": {
      "needs_background": "light"
     },
     "output_type": "display_data"
    }
   ],
   "source": [
    "f, ax = plt.subplots()\n",
    "ax.plot(scan_df.scan, scan_df.intensity, marker='o', color='green', linestyle='-', linewidth=1, ms=5)\n",
    "plt.axvline(x=window_df.ScanNumBegin, linestyle=':', color='springgreen', label='lower MQ range')\n",
    "plt.axvline(x=window_df.ScanNumEnd, linestyle=':', color='red', label='upper MQ range')\n",
    "plt.axvline(x=centroid_scan, linestyle=':', color='orange', label='centroid')\n",
    "plt.legend(loc='best')\n",
    "plt.xlabel('scan')\n",
    "plt.ylabel('intensity')\n",
    "f.set_figheight(5)\n",
    "f.set_figwidth(15)\n",
    "plt.suptitle('Raw points for the monoisotopic at {:.4f} m/z summed by scan for precursor ID {}'.format(feature_monoisotopic_mz, precursor_id))\n",
    "plt.title('m/z bin width {} Th, narrow RT (FE +/- {} secs), wide mobility (FE +/- precursor scan width)'.format(MZ_BIN_WIDTH, RT_FRAGMENT_EVENT_DELTA_SECS))\n",
    "plt.margins(0.06)\n",
    "plt.show()"
   ]
  },
  {
   "cell_type": "markdown",
   "metadata": {},
   "source": [
    "### In the RT dimension, look wider to find the apex of the peak closest to the fragmentation event"
   ]
  },
  {
   "cell_type": "code",
   "execution_count": 431,
   "metadata": {},
   "outputs": [],
   "source": [
    "wide_rt_monoisotopic_raw_points_df = ms1_raw_points_df[(ms1_raw_points_df.mz >= monoisotopic_mz_lower) & (ms1_raw_points_df.mz <= monoisotopic_mz_upper)]"
   ]
  },
  {
   "cell_type": "code",
   "execution_count": 432,
   "metadata": {},
   "outputs": [
    {
     "data": {
      "text/plain": [
       "107"
      ]
     },
     "execution_count": 432,
     "metadata": {},
     "output_type": "execute_result"
    }
   ],
   "source": [
    "len(wide_rt_monoisotopic_raw_points_df)"
   ]
  },
  {
   "cell_type": "code",
   "execution_count": 433,
   "metadata": {
    "scrolled": true
   },
   "outputs": [],
   "source": [
    "rt_df = wide_rt_monoisotopic_raw_points_df.groupby(['frame_id','retention_time_secs'], as_index=False).intensity.sum()"
   ]
  },
  {
   "cell_type": "code",
   "execution_count": 434,
   "metadata": {},
   "outputs": [],
   "source": [
    "peaks_threshold = 0.3\n",
    "peaks_idx = peakutils.indexes(rt_df.intensity.values, thres=peaks_threshold, min_dist=10)\n",
    "if len(peaks_idx) == 0:\n",
    "    peaks_threshold -= 0.1\n",
    "    peaks_idx = peakutils.indexes(rt_df.intensity.values, thres=peaks_threshold, min_dist=10)\n",
    "peaks_df = rt_df.iloc[peaks_idx].copy()"
   ]
  },
  {
   "cell_type": "code",
   "execution_count": 435,
   "metadata": {},
   "outputs": [
    {
     "data": {
      "text/html": [
       "<div>\n",
       "<style scoped>\n",
       "    .dataframe tbody tr th:only-of-type {\n",
       "        vertical-align: middle;\n",
       "    }\n",
       "\n",
       "    .dataframe tbody tr th {\n",
       "        vertical-align: top;\n",
       "    }\n",
       "\n",
       "    .dataframe thead th {\n",
       "        text-align: right;\n",
       "    }\n",
       "</style>\n",
       "<table border=\"1\" class=\"dataframe\">\n",
       "  <thead>\n",
       "    <tr style=\"text-align: right;\">\n",
       "      <th></th>\n",
       "      <th>frame_id</th>\n",
       "      <th>retention_time_secs</th>\n",
       "      <th>intensity</th>\n",
       "    </tr>\n",
       "  </thead>\n",
       "  <tbody>\n",
       "    <tr>\n",
       "      <th>21</th>\n",
       "      <td>41467</td>\n",
       "      <td>4453.805803</td>\n",
       "      <td>3182</td>\n",
       "    </tr>\n",
       "  </tbody>\n",
       "</table>\n",
       "</div>"
      ],
      "text/plain": [
       "    frame_id  retention_time_secs  intensity\n",
       "21     41467          4453.805803       3182"
      ]
     },
     "execution_count": 435,
     "metadata": {},
     "output_type": "execute_result"
    }
   ],
   "source": [
    "peaks_df"
   ]
  },
  {
   "cell_type": "code",
   "execution_count": 436,
   "metadata": {},
   "outputs": [],
   "source": [
    "peaks_df['fragmentation_rt_delta'] = abs(window_df.retention_time_secs - peaks_df.retention_time_secs)"
   ]
  },
  {
   "cell_type": "code",
   "execution_count": 437,
   "metadata": {},
   "outputs": [
    {
     "data": {
      "text/html": [
       "<div>\n",
       "<style scoped>\n",
       "    .dataframe tbody tr th:only-of-type {\n",
       "        vertical-align: middle;\n",
       "    }\n",
       "\n",
       "    .dataframe tbody tr th {\n",
       "        vertical-align: top;\n",
       "    }\n",
       "\n",
       "    .dataframe thead th {\n",
       "        text-align: right;\n",
       "    }\n",
       "</style>\n",
       "<table border=\"1\" class=\"dataframe\">\n",
       "  <thead>\n",
       "    <tr style=\"text-align: right;\">\n",
       "      <th></th>\n",
       "      <th>frame_id</th>\n",
       "      <th>retention_time_secs</th>\n",
       "      <th>intensity</th>\n",
       "      <th>fragmentation_rt_delta</th>\n",
       "    </tr>\n",
       "  </thead>\n",
       "  <tbody>\n",
       "    <tr>\n",
       "      <th>21</th>\n",
       "      <td>41467</td>\n",
       "      <td>4453.805803</td>\n",
       "      <td>3182</td>\n",
       "      <td>0.751483</td>\n",
       "    </tr>\n",
       "  </tbody>\n",
       "</table>\n",
       "</div>"
      ],
      "text/plain": [
       "    frame_id  retention_time_secs  intensity  fragmentation_rt_delta\n",
       "21     41467          4453.805803       3182                0.751483"
      ]
     },
     "execution_count": 437,
     "metadata": {},
     "output_type": "execute_result"
    }
   ],
   "source": [
    "peaks_df"
   ]
  },
  {
   "cell_type": "code",
   "execution_count": 438,
   "metadata": {},
   "outputs": [
    {
     "data": {
      "text/plain": [
       "frame_id                  41467.000000\n",
       "retention_time_secs        4453.805803\n",
       "intensity                  3182.000000\n",
       "fragmentation_rt_delta        0.751483\n",
       "Name: 21, dtype: float64"
      ]
     },
     "execution_count": 438,
     "metadata": {},
     "output_type": "execute_result"
    }
   ],
   "source": [
    "# get the peak closest to the fragmentation event\n",
    "peaks_df.loc[peaks_df.fragmentation_rt_delta.idxmin()]"
   ]
  },
  {
   "cell_type": "code",
   "execution_count": 439,
   "metadata": {},
   "outputs": [
    {
     "data": {
      "text/plain": [
       "21"
      ]
     },
     "execution_count": 439,
     "metadata": {},
     "output_type": "execute_result"
    }
   ],
   "source": [
    "# index of the closest peak\n",
    "peak_idx = peaks_df.fragmentation_rt_delta.idxmin()\n",
    "peak_idx"
   ]
  },
  {
   "cell_type": "code",
   "execution_count": 440,
   "metadata": {},
   "outputs": [],
   "source": [
    "feature_rt_apex = peaks_df.loc[peak_idx].retention_time_secs"
   ]
  },
  {
   "cell_type": "code",
   "execution_count": 441,
   "metadata": {},
   "outputs": [
    {
     "data": {
      "text/plain": [
       "4453.805803394633"
      ]
     },
     "execution_count": 441,
     "metadata": {},
     "output_type": "execute_result"
    }
   ],
   "source": [
    "feature_rt_apex"
   ]
  },
  {
   "cell_type": "code",
   "execution_count": 442,
   "metadata": {},
   "outputs": [],
   "source": [
    "valleys_idx = peakutils.indexes(-rt_df.intensity.values, thres=0.6, min_dist=RT_BASE_PEAK_WIDTH_SECS/20)\n",
    "valleys_df = rt_df.iloc[valleys_idx].copy()"
   ]
  },
  {
   "cell_type": "code",
   "execution_count": 443,
   "metadata": {},
   "outputs": [
    {
     "data": {
      "text/html": [
       "<div>\n",
       "<style scoped>\n",
       "    .dataframe tbody tr th:only-of-type {\n",
       "        vertical-align: middle;\n",
       "    }\n",
       "\n",
       "    .dataframe tbody tr th {\n",
       "        vertical-align: top;\n",
       "    }\n",
       "\n",
       "    .dataframe thead th {\n",
       "        text-align: right;\n",
       "    }\n",
       "</style>\n",
       "<table border=\"1\" class=\"dataframe\">\n",
       "  <thead>\n",
       "    <tr style=\"text-align: right;\">\n",
       "      <th></th>\n",
       "      <th>frame_id</th>\n",
       "      <th>retention_time_secs</th>\n",
       "      <th>intensity</th>\n",
       "    </tr>\n",
       "  </thead>\n",
       "  <tbody>\n",
       "    <tr>\n",
       "      <th>2</th>\n",
       "      <td>41258</td>\n",
       "      <td>4431.368938</td>\n",
       "      <td>48</td>\n",
       "    </tr>\n",
       "    <tr>\n",
       "      <th>4</th>\n",
       "      <td>41280</td>\n",
       "      <td>4433.733502</td>\n",
       "      <td>10</td>\n",
       "    </tr>\n",
       "    <tr>\n",
       "      <th>8</th>\n",
       "      <td>41324</td>\n",
       "      <td>4438.455780</td>\n",
       "      <td>30</td>\n",
       "    </tr>\n",
       "    <tr>\n",
       "      <th>10</th>\n",
       "      <td>41346</td>\n",
       "      <td>4440.816682</td>\n",
       "      <td>50</td>\n",
       "    </tr>\n",
       "    <tr>\n",
       "      <th>13</th>\n",
       "      <td>41379</td>\n",
       "      <td>4444.358407</td>\n",
       "      <td>70</td>\n",
       "    </tr>\n",
       "    <tr>\n",
       "      <th>15</th>\n",
       "      <td>41401</td>\n",
       "      <td>4446.722907</td>\n",
       "      <td>57</td>\n",
       "    </tr>\n",
       "    <tr>\n",
       "      <th>19</th>\n",
       "      <td>41445</td>\n",
       "      <td>4451.447545</td>\n",
       "      <td>543</td>\n",
       "    </tr>\n",
       "    <tr>\n",
       "      <th>23</th>\n",
       "      <td>41489</td>\n",
       "      <td>4456.163586</td>\n",
       "      <td>1159</td>\n",
       "    </tr>\n",
       "    <tr>\n",
       "      <th>29</th>\n",
       "      <td>41555</td>\n",
       "      <td>4463.244902</td>\n",
       "      <td>34</td>\n",
       "    </tr>\n",
       "    <tr>\n",
       "      <th>31</th>\n",
       "      <td>41577</td>\n",
       "      <td>4465.608514</td>\n",
       "      <td>126</td>\n",
       "    </tr>\n",
       "  </tbody>\n",
       "</table>\n",
       "</div>"
      ],
      "text/plain": [
       "    frame_id  retention_time_secs  intensity\n",
       "2      41258          4431.368938         48\n",
       "4      41280          4433.733502         10\n",
       "8      41324          4438.455780         30\n",
       "10     41346          4440.816682         50\n",
       "13     41379          4444.358407         70\n",
       "15     41401          4446.722907         57\n",
       "19     41445          4451.447545        543\n",
       "23     41489          4456.163586       1159\n",
       "29     41555          4463.244902         34\n",
       "31     41577          4465.608514        126"
      ]
     },
     "execution_count": 443,
     "metadata": {},
     "output_type": "execute_result"
    }
   ],
   "source": [
    "valleys_df"
   ]
  },
  {
   "cell_type": "code",
   "execution_count": 444,
   "metadata": {},
   "outputs": [
    {
     "data": {
      "text/plain": [
       "array([ 2,  4,  8, 10, 13, 15, 19, 23, 29, 31])"
      ]
     },
     "execution_count": 444,
     "metadata": {},
     "output_type": "execute_result"
    }
   ],
   "source": [
    "valleys_idx"
   ]
  },
  {
   "cell_type": "code",
   "execution_count": 445,
   "metadata": {},
   "outputs": [],
   "source": [
    "# find the closest valley above the peak\n",
    "if max(valleys_idx) > peak_idx:\n",
    "    valley_idx_above = valleys_idx[valleys_idx > peak_idx].min()\n",
    "else:\n",
    "    valley_idx_above = -1"
   ]
  },
  {
   "cell_type": "code",
   "execution_count": 446,
   "metadata": {},
   "outputs": [],
   "source": [
    "# find the closest valley below the peak\n",
    "if min(valleys_idx) < peak_idx:\n",
    "    valley_idx_below = valleys_idx[valleys_idx < peak_idx].max()\n",
    "else:\n",
    "    valley_idx_below = -1"
   ]
  },
  {
   "cell_type": "code",
   "execution_count": 447,
   "metadata": {},
   "outputs": [
    {
     "name": "stdout",
     "output_type": "stream",
     "text": [
      "19,23\n"
     ]
    }
   ],
   "source": [
    "print(\"{},{}\".format(valley_idx_below, valley_idx_above))"
   ]
  },
  {
   "cell_type": "code",
   "execution_count": 448,
   "metadata": {},
   "outputs": [],
   "source": [
    "feature_rt_base_lower = valleys_df.loc[valley_idx_below].retention_time_secs\n",
    "feature_rt_base_upper = valleys_df.loc[valley_idx_above].retention_time_secs"
   ]
  },
  {
   "cell_type": "code",
   "execution_count": 449,
   "metadata": {},
   "outputs": [
    {
     "data": {
      "text/plain": [
       "(4451.447545230602, 4456.1635864964965)"
      ]
     },
     "execution_count": 449,
     "metadata": {},
     "output_type": "execute_result"
    }
   ],
   "source": [
    "feature_rt_base_lower, feature_rt_base_upper"
   ]
  },
  {
   "cell_type": "code",
   "execution_count": 450,
   "metadata": {
    "scrolled": false
   },
   "outputs": [
    {
     "data": {
      "image/png": "[encoded data removed]",
      "text/plain": [
       "<Figure size 1080x360 with 1 Axes>"
      ]
     },
     "metadata": {
      "needs_background": "light"
     },
     "output_type": "display_data"
    }
   ],
   "source": [
    "f, ax = plt.subplots()\n",
    "ax.plot(rt_df.retention_time_secs, rt_df.intensity, marker='o', color='green', linestyle='-', linewidth=1, ms=5)\n",
    "ax.plot(peaks_df.retention_time_secs, peaks_df.intensity, marker='o', color='orange', linestyle='', markeredgewidth=3, ms=10, label='peak')\n",
    "ax.plot(peaks_df.loc[peak_idx].retention_time_secs, peaks_df.loc[peak_idx].intensity, marker='o', markerfacecolor='none', markeredgecolor='saddlebrown', linestyle='', markeredgewidth=4, ms=15, label='selected peak')\n",
    "if valley_idx_below != -1:\n",
    "    ax.plot(valleys_df.loc[valley_idx_below].retention_time_secs, valleys_df.loc[valley_idx_below].intensity, marker='o', color='springgreen', linestyle='', markeredgewidth=1, ms=10, label='valley below')\n",
    "if valley_idx_above != -1:\n",
    "    ax.plot(valleys_df.loc[valley_idx_above].retention_time_secs, valleys_df.loc[valley_idx_above].intensity, marker='o', color='red', linestyle='', markeredgewidth=1, ms=10, label='valley above')\n",
    "plt.axvline(x=window_df.retention_time_secs, linestyle=':', color='tab:red', label='fragmentation')\n",
    "plt.legend(loc='best')\n",
    "plt.xlabel('RT secs')\n",
    "plt.ylabel('intensity')\n",
    "f.set_figheight(5)\n",
    "f.set_figwidth(15)\n",
    "plt.suptitle('Raw points for the monoisotopic at {:.4f} m/z summed by frame for precursor ID {}'.format(feature_monoisotopic_mz, precursor_id))\n",
    "plt.title('m/z bin width {} Th, wide RT (FE +/- {} secs), wide mobility (FE +/- precursor scan width)'.format(MZ_BIN_WIDTH, RT_BASE_PEAK_WIDTH_SECS))\n",
    "plt.margins(0.06)\n",
    "plt.show()"
   ]
  },
  {
   "cell_type": "markdown",
   "metadata": {},
   "source": [
    "### Having extracted the MS1 feature characteristics, find all isolation windows that overlap with it"
   ]
  },
  {
   "cell_type": "code",
   "execution_count": 451,
   "metadata": {},
   "outputs": [
    {
     "data": {
      "text/plain": [
       "(858.9345185967403,\n",
       " 4453.805803394633,\n",
       " 4451.447545230602,\n",
       " 4456.1635864964965,\n",
       " 482.51876019575855,\n",
       " 462.0,\n",
       " 487.0)"
      ]
     },
     "execution_count": 451,
     "metadata": {},
     "output_type": "execute_result"
    }
   ],
   "source": [
    "feature_monoisotopic_mz, feature_rt_apex, feature_rt_base_lower, feature_rt_base_upper, feature_scan_centroid, feature_scan_lower, feature_scan_upper"
   ]
  },
  {
   "cell_type": "code",
   "execution_count": 452,
   "metadata": {},
   "outputs": [],
   "source": [
    "# get all the isolation windows\n",
    "isolation_window_df = pd.read_pickle('/Users/darylwilding-mcbride/Downloads/isolation_window_df.pkl')"
   ]
  },
  {
   "cell_type": "code",
   "execution_count": 453,
   "metadata": {},
   "outputs": [],
   "source": [
    "# add-in the retention time for the isolation windows and filter out the windows not in range\n",
    "isolation_window_df = pd.merge(isolation_window_df, ms2_frame_properties_df, how='left', left_on=['Frame'], right_on=['frame_id'])"
   ]
  },
  {
   "cell_type": "code",
   "execution_count": 454,
   "metadata": {},
   "outputs": [],
   "source": [
    "isolation_window_df.drop(['frame_id', 'CollisionEnergy'], axis=1, inplace=True)\n",
    "isolation_window_df.dropna(subset=['retention_time_secs'], inplace=True)\n",
    "isolation_window_df['mz_lower'] = isolation_window_df.IsolationMz - (isolation_window_df.IsolationWidth / 2)\n",
    "isolation_window_df['mz_upper'] = isolation_window_df.IsolationMz + (isolation_window_df.IsolationWidth / 2)"
   ]
  },
  {
   "cell_type": "code",
   "execution_count": 455,
   "metadata": {
    "scrolled": true
   },
   "outputs": [
    {
     "data": {
      "text/html": [
       "<div>\n",
       "<style scoped>\n",
       "    .dataframe tbody tr th:only-of-type {\n",
       "        vertical-align: middle;\n",
       "    }\n",
       "\n",
       "    .dataframe tbody tr th {\n",
       "        vertical-align: top;\n",
       "    }\n",
       "\n",
       "    .dataframe thead th {\n",
       "        text-align: right;\n",
       "    }\n",
       "</style>\n",
       "<table border=\"1\" class=\"dataframe\">\n",
       "  <thead>\n",
       "    <tr style=\"text-align: right;\">\n",
       "      <th></th>\n",
       "      <th>Frame</th>\n",
       "      <th>ScanNumBegin</th>\n",
       "      <th>ScanNumEnd</th>\n",
       "      <th>IsolationMz</th>\n",
       "      <th>IsolationWidth</th>\n",
       "      <th>Precursor</th>\n",
       "      <th>retention_time_secs</th>\n",
       "      <th>mz_lower</th>\n",
       "      <th>mz_upper</th>\n",
       "    </tr>\n",
       "  </thead>\n",
       "  <tbody>\n",
       "    <tr>\n",
       "      <th>312803</th>\n",
       "      <td>40408</td>\n",
       "      <td>112</td>\n",
       "      <td>137</td>\n",
       "      <td>1135.738520</td>\n",
       "      <td>3.000000</td>\n",
       "      <td>147429</td>\n",
       "      <td>4340.019894</td>\n",
       "      <td>1134.238520</td>\n",
       "      <td>1137.238520</td>\n",
       "    </tr>\n",
       "    <tr>\n",
       "      <th>312804</th>\n",
       "      <td>40408</td>\n",
       "      <td>181</td>\n",
       "      <td>206</td>\n",
       "      <td>994.022363</td>\n",
       "      <td>3.000000</td>\n",
       "      <td>147430</td>\n",
       "      <td>4340.019894</td>\n",
       "      <td>992.522363</td>\n",
       "      <td>995.522363</td>\n",
       "    </tr>\n",
       "    <tr>\n",
       "      <th>312805</th>\n",
       "      <td>40408</td>\n",
       "      <td>263</td>\n",
       "      <td>288</td>\n",
       "      <td>1054.650881</td>\n",
       "      <td>3.000000</td>\n",
       "      <td>147451</td>\n",
       "      <td>4340.019894</td>\n",
       "      <td>1053.150881</td>\n",
       "      <td>1056.150881</td>\n",
       "    </tr>\n",
       "    <tr>\n",
       "      <th>312806</th>\n",
       "      <td>40408</td>\n",
       "      <td>324</td>\n",
       "      <td>349</td>\n",
       "      <td>789.368380</td>\n",
       "      <td>2.893684</td>\n",
       "      <td>147452</td>\n",
       "      <td>4340.019894</td>\n",
       "      <td>787.921538</td>\n",
       "      <td>790.815222</td>\n",
       "    </tr>\n",
       "    <tr>\n",
       "      <th>312807</th>\n",
       "      <td>40408</td>\n",
       "      <td>368</td>\n",
       "      <td>393</td>\n",
       "      <td>826.901660</td>\n",
       "      <td>3.000000</td>\n",
       "      <td>147453</td>\n",
       "      <td>4340.019894</td>\n",
       "      <td>825.401660</td>\n",
       "      <td>828.401660</td>\n",
       "    </tr>\n",
       "  </tbody>\n",
       "</table>\n",
       "</div>"
      ],
      "text/plain": [
       "        Frame  ScanNumBegin  ScanNumEnd  IsolationMz  IsolationWidth  \\\n",
       "312803  40408           112         137  1135.738520        3.000000   \n",
       "312804  40408           181         206   994.022363        3.000000   \n",
       "312805  40408           263         288  1054.650881        3.000000   \n",
       "312806  40408           324         349   789.368380        2.893684   \n",
       "312807  40408           368         393   826.901660        3.000000   \n",
       "\n",
       "        Precursor  retention_time_secs     mz_lower     mz_upper  \n",
       "312803     147429          4340.019894  1134.238520  1137.238520  \n",
       "312804     147430          4340.019894   992.522363   995.522363  \n",
       "312805     147451          4340.019894  1053.150881  1056.150881  \n",
       "312806     147452          4340.019894   787.921538   790.815222  \n",
       "312807     147453          4340.019894   825.401660   828.401660  "
      ]
     },
     "execution_count": 455,
     "metadata": {},
     "output_type": "execute_result"
    }
   ],
   "source": [
    "isolation_window_df.head()"
   ]
  },
  {
   "cell_type": "code",
   "execution_count": 456,
   "metadata": {},
   "outputs": [],
   "source": [
    "# define the visualisation window\n",
    "visualisation_mz_upper = feature_monoisotopic_mz + 3\n",
    "visualisation_mz_lower = feature_monoisotopic_mz - 3\n",
    "visualisation_scan_upper = feature_scan_upper + 20\n",
    "visualisation_scan_lower = feature_scan_lower - 20\n",
    "visualisation_rt_upper = feature_rt_base_upper\n",
    "visualisation_rt_lower = feature_rt_base_lower"
   ]
  },
  {
   "cell_type": "code",
   "execution_count": 457,
   "metadata": {},
   "outputs": [],
   "source": [
    "# find the isolation windows visible in the visualisation window\n",
    "indexes = isolation_window_df.index[\n",
    "                        (\n",
    "                            ((isolation_window_df.mz_lower >= visualisation_mz_lower) &\n",
    "                             (isolation_window_df.mz_lower <= visualisation_mz_upper)) |\n",
    "                            ((isolation_window_df.mz_upper >= visualisation_mz_lower) &\n",
    "                            (isolation_window_df.mz_upper <= visualisation_mz_upper))\n",
    "                        ) &\n",
    "                        (\n",
    "                            ((isolation_window_df.ScanNumBegin >= visualisation_scan_lower) &\n",
    "                             (isolation_window_df.ScanNumBegin <= visualisation_scan_upper)) |\n",
    "                            ((isolation_window_df.ScanNumEnd >= visualisation_scan_lower) &\n",
    "                            (isolation_window_df.ScanNumEnd <= visualisation_scan_upper))\n",
    "                        ) &\n",
    "                        (isolation_window_df.retention_time_secs >= visualisation_rt_lower) &\n",
    "                        (isolation_window_df.retention_time_secs <= visualisation_rt_upper)\n",
    "                       ]\n",
    "isolation_windows_in_visualisation_area_df = isolation_window_df.loc[indexes]"
   ]
  },
  {
   "cell_type": "code",
   "execution_count": 458,
   "metadata": {},
   "outputs": [
    {
     "data": {
      "text/html": [
       "<div>\n",
       "<style scoped>\n",
       "    .dataframe tbody tr th:only-of-type {\n",
       "        vertical-align: middle;\n",
       "    }\n",
       "\n",
       "    .dataframe tbody tr th {\n",
       "        vertical-align: top;\n",
       "    }\n",
       "\n",
       "    .dataframe thead th {\n",
       "        text-align: right;\n",
       "    }\n",
       "</style>\n",
       "<table border=\"1\" class=\"dataframe\">\n",
       "  <thead>\n",
       "    <tr style=\"text-align: right;\">\n",
       "      <th></th>\n",
       "      <th>Frame</th>\n",
       "      <th>ScanNumBegin</th>\n",
       "      <th>ScanNumEnd</th>\n",
       "      <th>IsolationMz</th>\n",
       "      <th>IsolationWidth</th>\n",
       "      <th>Precursor</th>\n",
       "      <th>retention_time_secs</th>\n",
       "      <th>mz_lower</th>\n",
       "      <th>mz_upper</th>\n",
       "    </tr>\n",
       "  </thead>\n",
       "  <tbody>\n",
       "    <tr>\n",
       "      <th>324135</th>\n",
       "      <td>41474</td>\n",
       "      <td>462</td>\n",
       "      <td>487</td>\n",
       "      <td>860.444362</td>\n",
       "      <td>3.0</td>\n",
       "      <td>153421</td>\n",
       "      <td>4454.557286</td>\n",
       "      <td>858.944362</td>\n",
       "      <td>861.944362</td>\n",
       "    </tr>\n",
       "  </tbody>\n",
       "</table>\n",
       "</div>"
      ],
      "text/plain": [
       "        Frame  ScanNumBegin  ScanNumEnd  IsolationMz  IsolationWidth  \\\n",
       "324135  41474           462         487   860.444362             3.0   \n",
       "\n",
       "        Precursor  retention_time_secs    mz_lower    mz_upper  \n",
       "324135     153421          4454.557286  858.944362  861.944362  "
      ]
     },
     "execution_count": 458,
     "metadata": {},
     "output_type": "execute_result"
    }
   ],
   "source": [
    "isolation_windows_in_visualisation_area_df"
   ]
  },
  {
   "cell_type": "code",
   "execution_count": 459,
   "metadata": {},
   "outputs": [
    {
     "data": {
      "text/plain": [
       "858.9345185967403"
      ]
     },
     "execution_count": 459,
     "metadata": {},
     "output_type": "execute_result"
    }
   ],
   "source": [
    "feature_monoisotopic_mz"
   ]
  },
  {
   "cell_type": "code",
   "execution_count": 460,
   "metadata": {},
   "outputs": [
    {
     "data": {
      "text/plain": [
       "(4451.447545230602, 4456.1635864964965)"
      ]
     },
     "execution_count": 460,
     "metadata": {},
     "output_type": "execute_result"
    }
   ],
   "source": [
    "feature_rt_base_lower, feature_rt_base_upper"
   ]
  },
  {
   "cell_type": "code",
   "execution_count": 461,
   "metadata": {},
   "outputs": [
    {
     "data": {
      "text/plain": [
       "482.51876019575855"
      ]
     },
     "execution_count": 461,
     "metadata": {},
     "output_type": "execute_result"
    }
   ],
   "source": [
    "feature_scan_centroid"
   ]
  },
  {
   "cell_type": "code",
   "execution_count": 462,
   "metadata": {},
   "outputs": [],
   "source": [
    "# find the isolation windows overlapping the feature's characteristics\n",
    "indexes = isolation_window_df.index[\n",
    "                            (isolation_window_df.mz_upper >= feature_monoisotopic_mz) &\n",
    "                            (isolation_window_df.mz_lower <= feature_monoisotopic_mz) &\n",
    "                            (isolation_window_df.ScanNumEnd >= feature_scan_centroid) &\n",
    "                            (isolation_window_df.ScanNumBegin <= feature_scan_centroid) &\n",
    "                            (isolation_window_df.retention_time_secs >= feature_rt_base_lower) &\n",
    "                            (isolation_window_df.retention_time_secs <= feature_rt_base_upper)\n",
    "                       ]\n",
    "isolation_windows_overlapping_feature_df = isolation_window_df.loc[indexes]"
   ]
  },
  {
   "cell_type": "code",
   "execution_count": 463,
   "metadata": {},
   "outputs": [
    {
     "data": {
      "text/html": [
       "<div>\n",
       "<style scoped>\n",
       "    .dataframe tbody tr th:only-of-type {\n",
       "        vertical-align: middle;\n",
       "    }\n",
       "\n",
       "    .dataframe tbody tr th {\n",
       "        vertical-align: top;\n",
       "    }\n",
       "\n",
       "    .dataframe thead th {\n",
       "        text-align: right;\n",
       "    }\n",
       "</style>\n",
       "<table border=\"1\" class=\"dataframe\">\n",
       "  <thead>\n",
       "    <tr style=\"text-align: right;\">\n",
       "      <th></th>\n",
       "      <th>Frame</th>\n",
       "      <th>ScanNumBegin</th>\n",
       "      <th>ScanNumEnd</th>\n",
       "      <th>IsolationMz</th>\n",
       "      <th>IsolationWidth</th>\n",
       "      <th>Precursor</th>\n",
       "      <th>retention_time_secs</th>\n",
       "      <th>mz_lower</th>\n",
       "      <th>mz_upper</th>\n",
       "    </tr>\n",
       "  </thead>\n",
       "  <tbody>\n",
       "  </tbody>\n",
       "</table>\n",
       "</div>"
      ],
      "text/plain": [
       "Empty DataFrame\n",
       "Columns: [Frame, ScanNumBegin, ScanNumEnd, IsolationMz, IsolationWidth, Precursor, retention_time_secs, mz_lower, mz_upper]\n",
       "Index: []"
      ]
     },
     "execution_count": 463,
     "metadata": {},
     "output_type": "execute_result"
    }
   ],
   "source": [
    "isolation_windows_overlapping_feature_df"
   ]
  },
  {
   "cell_type": "code",
   "execution_count": 352,
   "metadata": {},
   "outputs": [],
   "source": [
    "tableau20 = [(31, 119, 180), (174, 199, 232), (255, 127, 14), (255, 187, 120),  \n",
    "             (44, 160, 44), (152, 223, 138), (214, 39, 40), (255, 152, 150),  \n",
    "             (148, 103, 189), (197, 176, 213), (140, 86, 75), (196, 156, 148),  \n",
    "             (227, 119, 194), (247, 182, 210), (127, 127, 127), (199, 199, 199),  \n",
    "             (188, 189, 34), (219, 219, 141), (23, 190, 207), (158, 218, 229)]\n",
    "# Rescale to values between 0 and 1 \n",
    "for i in range(len(tableau20)):  \n",
    "    r, g, b = tableau20[i]  \n",
    "    tableau20[i] = (r / 255., g / 255., b / 255.)"
   ]
  },
  {
   "cell_type": "code",
   "execution_count": 353,
   "metadata": {},
   "outputs": [
    {
     "data": {
      "image/png": "[encoded data removed]",
      "text/plain": [
       "<Figure size 1080x576 with 1 Axes>"
      ]
     },
     "metadata": {
      "needs_background": "light"
     },
     "output_type": "display_data"
    }
   ],
   "source": [
    "import matplotlib.patches as patches\n",
    "\n",
    "f, ax1 = plt.subplots()\n",
    "\n",
    "# add the mono peak's centroid\n",
    "plt.plot(feature_monoisotopic_mz, feature_scan_centroid, 'bx', ms=10, mew=2, label='centroid')\n",
    "\n",
    "# add isolation windows matched\n",
    "for idx in range(len(isolation_windows_in_visualisation_area_df)):\n",
    "    window = isolation_windows_in_visualisation_area_df.iloc[idx]\n",
    "    drift_range = window.ScanNumEnd - window.ScanNumBegin\n",
    "    mz_range = window.mz_upper - window.mz_lower\n",
    "    isolation_window_rect = patches.Rectangle((window.mz_lower,window.ScanNumBegin),mz_range,drift_range,linewidth=1.5,linestyle='--',edgecolor=tableau20[idx%len(tableau20)],facecolor='none')\n",
    "    ax1.add_patch(isolation_window_rect)\n",
    "    text_style = dict(size=12, color=tableau20[idx%len(tableau20)])\n",
    "#     ax1.text(window.mz_lower, window.ScanNumBegin-0.5, window.frame_precursor, **text_style)\n",
    "    \n",
    "f.set_figheight(8)\n",
    "f.set_figwidth(15)\n",
    "# plt.gca().invert_yaxis()\n",
    "plt.gca().set_xlim([visualisation_mz_lower,visualisation_mz_upper])\n",
    "plt.gca().set_ylim([visualisation_scan_upper,visualisation_scan_lower])\n",
    "plt.xlabel('m/z')\n",
    "plt.ylabel('scan')\n",
    "# plt.legend(loc='best')\n",
    "plt.margins(0.02)\n",
    "# plt.suptitle(\"Feature {} and isolation window overlap, RT={} to {}\".format(feature_id_of_interest, round(feature.feature_start_rt,1), round(feature.feature_end_rt,1)))\n",
    "# plt.title('{}'.format(feature_list_filename))\n",
    "plt.show()"
   ]
  },
  {
   "cell_type": "markdown",
   "metadata": {},
   "source": [
    "### Extract the raw ms2 points from these isolation windows"
   ]
  },
  {
   "cell_type": "code",
   "execution_count": 354,
   "metadata": {},
   "outputs": [],
   "source": [
    "# get the ms2 frame IDs\n",
    "ms2_frame_ids = tuple(ms2_frame_properties_df.astype(int).values[:,0])\n"
   ]
  },
  {
   "cell_type": "code",
   "execution_count": 355,
   "metadata": {},
   "outputs": [],
   "source": [
    "isolation_window_scan_lower = int(isolation_windows_overlapping_feature_df.iloc[0].ScanNumBegin)\n",
    "isolation_window_scan_upper = int(isolation_windows_overlapping_feature_df.iloc[0].ScanNumEnd)\n",
    "isolation_window_frame_id = int(isolation_windows_overlapping_feature_df.iloc[0].Frame)"
   ]
  },
  {
   "cell_type": "code",
   "execution_count": 356,
   "metadata": {},
   "outputs": [
    {
     "data": {
      "text/plain": [
       "(462, 487, 41474)"
      ]
     },
     "execution_count": 356,
     "metadata": {},
     "output_type": "execute_result"
    }
   ],
   "source": [
    "isolation_window_scan_lower, isolation_window_scan_upper, isolation_window_frame_id"
   ]
  },
  {
   "cell_type": "code",
   "execution_count": 357,
   "metadata": {},
   "outputs": [],
   "source": [
    "# get the raw ms2 points from the fragmentation frame within the scan constraints\n",
    "db_conn = sqlite3.connect(CONVERTED_DATABASE_NAME)\n",
    "ms2_raw_points_df = pd.read_sql_query(\"select frame_id,mz,scan,intensity,retention_time_secs from frames where scan >= {} and scan <= {} and frame_id == {}\".format(isolation_window_scan_lower, isolation_window_scan_upper, isolation_window_frame_id), db_conn)\n",
    "db_conn.close()"
   ]
  },
  {
   "cell_type": "code",
   "execution_count": 358,
   "metadata": {},
   "outputs": [
    {
     "data": {
      "text/plain": [
       "1575"
      ]
     },
     "execution_count": 358,
     "metadata": {},
     "output_type": "execute_result"
    }
   ],
   "source": [
    "len(ms2_raw_points_df)"
   ]
  },
  {
   "cell_type": "code",
   "execution_count": 359,
   "metadata": {},
   "outputs": [],
   "source": [
    "MS2_MZ_MAX = ms2_raw_points_df.mz.max()\n",
    "MS2_MZ_MIN = ms2_raw_points_df.mz.min()"
   ]
  },
  {
   "cell_type": "code",
   "execution_count": 360,
   "metadata": {},
   "outputs": [
    {
     "data": {
      "text/plain": [
       "(154.84300242408736, 1686.899942827893)"
      ]
     },
     "execution_count": 360,
     "metadata": {},
     "output_type": "execute_result"
    }
   ],
   "source": [
    "MS2_MZ_MIN, MS2_MZ_MAX"
   ]
  },
  {
   "cell_type": "code",
   "execution_count": 361,
   "metadata": {},
   "outputs": [],
   "source": [
    "ms2_bins = np.arange(start=MS2_MZ_MIN, stop=MS2_MZ_MAX+MZ_BIN_WIDTH, step=MZ_BIN_WIDTH)  # go slightly wider to accomodate the maximum value\n"
   ]
  },
  {
   "cell_type": "code",
   "execution_count": 362,
   "metadata": {},
   "outputs": [],
   "source": [
    "MS2_MZ_BIN_COUNT = len(ms2_bins)"
   ]
  },
  {
   "cell_type": "code",
   "execution_count": 363,
   "metadata": {},
   "outputs": [],
   "source": [
    "# initialise an array of lists to hold the m/z and intensity values allocated to each bin\n",
    "ms2_mz_values_array = np.empty(MS2_MZ_BIN_COUNT, dtype=np.object)\n",
    "for idx in range(MS2_MZ_BIN_COUNT):\n",
    "    ms2_mz_values_array[idx] = []\n"
   ]
  },
  {
   "cell_type": "code",
   "execution_count": 364,
   "metadata": {},
   "outputs": [
    {
     "name": "stdout",
     "output_type": "stream",
     "text": [
      "CPU times: user 26.9 ms, sys: 1.48 ms, total: 28.4 ms\n",
      "Wall time: 33.9 ms\n"
     ]
    }
   ],
   "source": [
    "%%time\n",
    "\n",
    "# gather the m/z values into bins\n",
    "for r in zip(ms2_raw_points_df.mz, ms2_raw_points_df.intensity):\n",
    "    mz = r[0]\n",
    "    intensity = int(r[1])\n",
    "    if (mz >= MS2_MZ_MIN) and (mz <= MS2_MZ_MAX): # it should already but just to be sure\n",
    "        mz_array_idx = int(np.digitize(mz, ms2_bins)) # in which bin should this mz go\n",
    "        ms2_mz_values_array[mz_array_idx].append((mz, intensity))"
   ]
  },
  {
   "cell_type": "code",
   "execution_count": 365,
   "metadata": {},
   "outputs": [
    {
     "name": "stdout",
     "output_type": "stream",
     "text": [
      "4575\n",
      "[337 490 287  80 287  40 258 249 582 332 220 150 237 199 183 312  75 206\n",
      " 243 378 108 112  57 226 217 136 309  80  57  85 156]\n",
      "6688\n",
      "CPU times: user 26.5 ms, sys: 5.96 ms, total: 32.5 ms\n",
      "Wall time: 27.6 ms\n"
     ]
    }
   ],
   "source": [
    "%%time\n",
    "\n",
    "# compute the intensity-weighted m/z centroid and the summed intensity of the bins\n",
    "ms2_peaks = []\n",
    "for bin_idx in range(MS2_MZ_BIN_COUNT):\n",
    "    if len(ms2_mz_values_array[bin_idx]) > 0:\n",
    "        mz_values_for_bin = np.array([ list[0] for list in ms2_mz_values_array[bin_idx]])\n",
    "        intensity_values_for_bin = np.array([ list[1] for list in ms2_mz_values_array[bin_idx]]).astype(int)\n",
    "        mz_centroid = peakutils.centroid(mz_values_for_bin, intensity_values_for_bin)\n",
    "        summed_intensity = intensity_values_for_bin.sum()\n",
    "        if summed_intensity > 6500:\n",
    "            print(bin_idx)\n",
    "            print(intensity_values_for_bin)\n",
    "            print(intensity_values_for_bin.sum())\n",
    "        ms2_peaks.append((mz_centroid,summed_intensity))"
   ]
  },
  {
   "cell_type": "code",
   "execution_count": 366,
   "metadata": {},
   "outputs": [],
   "source": [
    "df = pd.DataFrame(ms2_mz_values_array[4575], columns=['mz','intensity'])"
   ]
  },
  {
   "cell_type": "code",
   "execution_count": 367,
   "metadata": {},
   "outputs": [
    {
     "data": {
      "text/html": [
       "<div>\n",
       "<style scoped>\n",
       "    .dataframe tbody tr th:only-of-type {\n",
       "        vertical-align: middle;\n",
       "    }\n",
       "\n",
       "    .dataframe tbody tr th {\n",
       "        vertical-align: top;\n",
       "    }\n",
       "\n",
       "    .dataframe thead th {\n",
       "        text-align: right;\n",
       "    }\n",
       "</style>\n",
       "<table border=\"1\" class=\"dataframe\">\n",
       "  <thead>\n",
       "    <tr style=\"text-align: right;\">\n",
       "      <th></th>\n",
       "      <th>mz</th>\n",
       "      <th>intensity</th>\n",
       "    </tr>\n",
       "  </thead>\n",
       "  <tbody>\n",
       "    <tr>\n",
       "      <th>14</th>\n",
       "      <td>612.323715</td>\n",
       "      <td>183</td>\n",
       "    </tr>\n",
       "    <tr>\n",
       "      <th>22</th>\n",
       "      <td>612.319813</td>\n",
       "      <td>57</td>\n",
       "    </tr>\n",
       "    <tr>\n",
       "      <th>0</th>\n",
       "      <td>612.315911</td>\n",
       "      <td>337</td>\n",
       "    </tr>\n",
       "    <tr>\n",
       "      <th>27</th>\n",
       "      <td>612.315911</td>\n",
       "      <td>80</td>\n",
       "    </tr>\n",
       "    <tr>\n",
       "      <th>26</th>\n",
       "      <td>612.312010</td>\n",
       "      <td>309</td>\n",
       "    </tr>\n",
       "    <tr>\n",
       "      <th>24</th>\n",
       "      <td>612.312010</td>\n",
       "      <td>217</td>\n",
       "    </tr>\n",
       "    <tr>\n",
       "      <th>19</th>\n",
       "      <td>612.312010</td>\n",
       "      <td>378</td>\n",
       "    </tr>\n",
       "    <tr>\n",
       "      <th>17</th>\n",
       "      <td>612.312010</td>\n",
       "      <td>206</td>\n",
       "    </tr>\n",
       "    <tr>\n",
       "      <th>1</th>\n",
       "      <td>612.312010</td>\n",
       "      <td>490</td>\n",
       "    </tr>\n",
       "    <tr>\n",
       "      <th>30</th>\n",
       "      <td>612.312010</td>\n",
       "      <td>156</td>\n",
       "    </tr>\n",
       "    <tr>\n",
       "      <th>10</th>\n",
       "      <td>612.308108</td>\n",
       "      <td>220</td>\n",
       "    </tr>\n",
       "    <tr>\n",
       "      <th>18</th>\n",
       "      <td>612.308108</td>\n",
       "      <td>243</td>\n",
       "    </tr>\n",
       "    <tr>\n",
       "      <th>28</th>\n",
       "      <td>612.308108</td>\n",
       "      <td>57</td>\n",
       "    </tr>\n",
       "    <tr>\n",
       "      <th>2</th>\n",
       "      <td>612.308108</td>\n",
       "      <td>287</td>\n",
       "    </tr>\n",
       "    <tr>\n",
       "      <th>4</th>\n",
       "      <td>612.308108</td>\n",
       "      <td>287</td>\n",
       "    </tr>\n",
       "    <tr>\n",
       "      <th>23</th>\n",
       "      <td>612.308108</td>\n",
       "      <td>226</td>\n",
       "    </tr>\n",
       "    <tr>\n",
       "      <th>11</th>\n",
       "      <td>612.308108</td>\n",
       "      <td>150</td>\n",
       "    </tr>\n",
       "    <tr>\n",
       "      <th>15</th>\n",
       "      <td>612.308108</td>\n",
       "      <td>312</td>\n",
       "    </tr>\n",
       "    <tr>\n",
       "      <th>7</th>\n",
       "      <td>612.308108</td>\n",
       "      <td>249</td>\n",
       "    </tr>\n",
       "    <tr>\n",
       "      <th>9</th>\n",
       "      <td>612.308108</td>\n",
       "      <td>332</td>\n",
       "    </tr>\n",
       "    <tr>\n",
       "      <th>13</th>\n",
       "      <td>612.308108</td>\n",
       "      <td>199</td>\n",
       "    </tr>\n",
       "    <tr>\n",
       "      <th>6</th>\n",
       "      <td>612.304206</td>\n",
       "      <td>258</td>\n",
       "    </tr>\n",
       "    <tr>\n",
       "      <th>21</th>\n",
       "      <td>612.304206</td>\n",
       "      <td>112</td>\n",
       "    </tr>\n",
       "    <tr>\n",
       "      <th>8</th>\n",
       "      <td>612.304206</td>\n",
       "      <td>582</td>\n",
       "    </tr>\n",
       "    <tr>\n",
       "      <th>12</th>\n",
       "      <td>612.304206</td>\n",
       "      <td>237</td>\n",
       "    </tr>\n",
       "    <tr>\n",
       "      <th>29</th>\n",
       "      <td>612.304206</td>\n",
       "      <td>85</td>\n",
       "    </tr>\n",
       "    <tr>\n",
       "      <th>25</th>\n",
       "      <td>612.300304</td>\n",
       "      <td>136</td>\n",
       "    </tr>\n",
       "    <tr>\n",
       "      <th>20</th>\n",
       "      <td>612.300304</td>\n",
       "      <td>108</td>\n",
       "    </tr>\n",
       "    <tr>\n",
       "      <th>3</th>\n",
       "      <td>612.288599</td>\n",
       "      <td>80</td>\n",
       "    </tr>\n",
       "    <tr>\n",
       "      <th>16</th>\n",
       "      <td>612.276894</td>\n",
       "      <td>75</td>\n",
       "    </tr>\n",
       "    <tr>\n",
       "      <th>5</th>\n",
       "      <td>612.272993</td>\n",
       "      <td>40</td>\n",
       "    </tr>\n",
       "  </tbody>\n",
       "</table>\n",
       "</div>"
      ],
      "text/plain": [
       "            mz  intensity\n",
       "14  612.323715        183\n",
       "22  612.319813         57\n",
       "0   612.315911        337\n",
       "27  612.315911         80\n",
       "26  612.312010        309\n",
       "24  612.312010        217\n",
       "19  612.312010        378\n",
       "17  612.312010        206\n",
       "1   612.312010        490\n",
       "30  612.312010        156\n",
       "10  612.308108        220\n",
       "18  612.308108        243\n",
       "28  612.308108         57\n",
       "2   612.308108        287\n",
       "4   612.308108        287\n",
       "23  612.308108        226\n",
       "11  612.308108        150\n",
       "15  612.308108        312\n",
       "7   612.308108        249\n",
       "9   612.308108        332\n",
       "13  612.308108        199\n",
       "6   612.304206        258\n",
       "21  612.304206        112\n",
       "8   612.304206        582\n",
       "12  612.304206        237\n",
       "29  612.304206         85\n",
       "25  612.300304        136\n",
       "20  612.300304        108\n",
       "3   612.288599         80\n",
       "16  612.276894         75\n",
       "5   612.272993         40"
      ]
     },
     "execution_count": 367,
     "metadata": {},
     "output_type": "execute_result"
    }
   ],
   "source": [
    "df.sort_values(by=['mz'], ascending=False)"
   ]
  },
  {
   "cell_type": "code",
   "execution_count": 368,
   "metadata": {},
   "outputs": [
    {
     "data": {
      "text/plain": [
       "6688"
      ]
     },
     "execution_count": 368,
     "metadata": {},
     "output_type": "execute_result"
    }
   ],
   "source": [
    "df.intensity.sum()"
   ]
  },
  {
   "cell_type": "code",
   "execution_count": 369,
   "metadata": {},
   "outputs": [
    {
     "data": {
      "text/plain": [
       "1545.8757575757577"
      ]
     },
     "execution_count": 369,
     "metadata": {},
     "output_type": "execute_result"
    }
   ],
   "source": [
    "df.groupby('mz').intensity.mean().sum()"
   ]
  },
  {
   "cell_type": "code",
   "execution_count": 370,
   "metadata": {},
   "outputs": [],
   "source": [
    "df.to_csv('/Users/darylwilding-mcbride/Downloads/example_bin_4575.csv')"
   ]
  },
  {
   "cell_type": "code",
   "execution_count": 371,
   "metadata": {
    "scrolled": false
   },
   "outputs": [
    {
     "data": {
      "text/html": [
       "<div>\n",
       "<style scoped>\n",
       "    .dataframe tbody tr th:only-of-type {\n",
       "        vertical-align: middle;\n",
       "    }\n",
       "\n",
       "    .dataframe tbody tr th {\n",
       "        vertical-align: top;\n",
       "    }\n",
       "\n",
       "    .dataframe thead th {\n",
       "        text-align: right;\n",
       "    }\n",
       "</style>\n",
       "<table border=\"1\" class=\"dataframe\">\n",
       "  <thead>\n",
       "    <tr style=\"text-align: right;\">\n",
       "      <th></th>\n",
       "      <th>frame_id</th>\n",
       "      <th>mz</th>\n",
       "      <th>scan</th>\n",
       "      <th>intensity</th>\n",
       "      <th>retention_time_secs</th>\n",
       "    </tr>\n",
       "  </thead>\n",
       "  <tbody>\n",
       "    <tr>\n",
       "      <th>176</th>\n",
       "      <td>41474</td>\n",
       "      <td>612.308108</td>\n",
       "      <td>464</td>\n",
       "      <td>287</td>\n",
       "      <td>4454.557286</td>\n",
       "    </tr>\n",
       "    <tr>\n",
       "      <th>258</th>\n",
       "      <td>41474</td>\n",
       "      <td>612.308108</td>\n",
       "      <td>465</td>\n",
       "      <td>287</td>\n",
       "      <td>4454.557286</td>\n",
       "    </tr>\n",
       "    <tr>\n",
       "      <th>416</th>\n",
       "      <td>41474</td>\n",
       "      <td>612.308108</td>\n",
       "      <td>467</td>\n",
       "      <td>249</td>\n",
       "      <td>4454.557286</td>\n",
       "    </tr>\n",
       "    <tr>\n",
       "      <th>552</th>\n",
       "      <td>41474</td>\n",
       "      <td>612.308108</td>\n",
       "      <td>469</td>\n",
       "      <td>332</td>\n",
       "      <td>4454.557286</td>\n",
       "    </tr>\n",
       "    <tr>\n",
       "      <th>628</th>\n",
       "      <td>41474</td>\n",
       "      <td>612.308108</td>\n",
       "      <td>470</td>\n",
       "      <td>220</td>\n",
       "      <td>4454.557286</td>\n",
       "    </tr>\n",
       "    <tr>\n",
       "      <th>692</th>\n",
       "      <td>41474</td>\n",
       "      <td>612.308108</td>\n",
       "      <td>471</td>\n",
       "      <td>150</td>\n",
       "      <td>4454.557286</td>\n",
       "    </tr>\n",
       "    <tr>\n",
       "      <th>819</th>\n",
       "      <td>41474</td>\n",
       "      <td>612.308108</td>\n",
       "      <td>473</td>\n",
       "      <td>199</td>\n",
       "      <td>4454.557286</td>\n",
       "    </tr>\n",
       "    <tr>\n",
       "      <th>894</th>\n",
       "      <td>41474</td>\n",
       "      <td>612.308108</td>\n",
       "      <td>474</td>\n",
       "      <td>312</td>\n",
       "      <td>4454.557286</td>\n",
       "    </tr>\n",
       "    <tr>\n",
       "      <th>1023</th>\n",
       "      <td>41474</td>\n",
       "      <td>612.308108</td>\n",
       "      <td>476</td>\n",
       "      <td>243</td>\n",
       "      <td>4454.557286</td>\n",
       "    </tr>\n",
       "    <tr>\n",
       "      <th>1246</th>\n",
       "      <td>41474</td>\n",
       "      <td>612.308108</td>\n",
       "      <td>480</td>\n",
       "      <td>226</td>\n",
       "      <td>4454.557286</td>\n",
       "    </tr>\n",
       "    <tr>\n",
       "      <th>1471</th>\n",
       "      <td>41474</td>\n",
       "      <td>612.308108</td>\n",
       "      <td>485</td>\n",
       "      <td>57</td>\n",
       "      <td>4454.557286</td>\n",
       "    </tr>\n",
       "  </tbody>\n",
       "</table>\n",
       "</div>"
      ],
      "text/plain": [
       "      frame_id          mz  scan  intensity  retention_time_secs\n",
       "176      41474  612.308108   464        287          4454.557286\n",
       "258      41474  612.308108   465        287          4454.557286\n",
       "416      41474  612.308108   467        249          4454.557286\n",
       "552      41474  612.308108   469        332          4454.557286\n",
       "628      41474  612.308108   470        220          4454.557286\n",
       "692      41474  612.308108   471        150          4454.557286\n",
       "819      41474  612.308108   473        199          4454.557286\n",
       "894      41474  612.308108   474        312          4454.557286\n",
       "1023     41474  612.308108   476        243          4454.557286\n",
       "1246     41474  612.308108   480        226          4454.557286\n",
       "1471     41474  612.308108   485         57          4454.557286"
      ]
     },
     "execution_count": 371,
     "metadata": {},
     "output_type": "execute_result"
    }
   ],
   "source": [
    "df = ms2_raw_points_df[(ms2_raw_points_df.mz >= 612.308) & (ms2_raw_points_df.mz <= 612.309)]\n",
    "df"
   ]
  },
  {
   "cell_type": "code",
   "execution_count": 372,
   "metadata": {},
   "outputs": [
    {
     "data": {
      "text/plain": [
       "2562"
      ]
     },
     "execution_count": 372,
     "metadata": {},
     "output_type": "execute_result"
    }
   ],
   "source": [
    "df.intensity.sum()"
   ]
  },
  {
   "cell_type": "code",
   "execution_count": 373,
   "metadata": {},
   "outputs": [
    {
     "data": {
      "text/plain": [
       "678"
      ]
     },
     "execution_count": 373,
     "metadata": {},
     "output_type": "execute_result"
    }
   ],
   "source": [
    "len(ms2_peaks)"
   ]
  },
  {
   "cell_type": "code",
   "execution_count": 374,
   "metadata": {},
   "outputs": [],
   "source": [
    "ms2_peaks_df = pd.DataFrame(ms2_peaks, columns=['mz','intensity'])"
   ]
  },
  {
   "cell_type": "code",
   "execution_count": 375,
   "metadata": {},
   "outputs": [
    {
     "data": {
      "image/png": "[encoded data removed]",
      "text/plain": [
       "<Figure size 1080x360 with 1 Axes>"
      ]
     },
     "metadata": {
      "needs_background": "light"
     },
     "output_type": "display_data"
    }
   ],
   "source": [
    "f, ax = plt.subplots()\n",
    "colors = ['tab:blue', 'tab:orange', 'tab:green', 'tab:red', 'tab:purple', 'tab:brown', 'tab:pink', 'tab:gray', 'tab:olive', 'tab:cyan']\n",
    "markerline, stemlines, baseline = ax.stem(ms2_peaks_df.mz, ms2_peaks_df.intensity, 'g')\n",
    "plt.setp(markerline, 'color', colors[2])\n",
    "plt.setp(stemlines, 'color', colors[2])\n",
    "plt.setp(baseline, 'color', colors[7])\n",
    "plt.xlabel('m/z')\n",
    "plt.ylabel('intensity')\n",
    "f.set_figheight(5)\n",
    "f.set_figwidth(15)\n",
    "ax.set_xlim((100,1900))\n",
    "plt.margins(0.06)\n",
    "plt.suptitle('Raw peaks in ms2 for precursor ID {}'.format(precursor_id))\n",
    "plt.title('bin width {} Th'.format(MZ_BIN_WIDTH))\n",
    "plt.show()"
   ]
  },
  {
   "cell_type": "code",
   "execution_count": 376,
   "metadata": {},
   "outputs": [
    {
     "name": "stdout",
     "output_type": "stream",
     "text": [
      "CPU times: user 331 ms, sys: 4.12 ms, total: 335 ms\n",
      "Wall time: 335 ms\n"
     ]
    }
   ],
   "source": [
    "%%time\n",
    "\n",
    "# ms2_deconvoluted_peaks, _ = deconvolute_peaks(ms2_peaks, averagine=averagine.peptide, charge_range=(1,5), scorer=scoring.MSDeconVFitter(10.0), truncate_after=0.95)\n",
    "ms2_deconvoluted_peaks, _ = deconvolute_peaks(ms2_peaks, averagine=averagine.peptide, charge_range=(1,5), scorer=scoring.MSDeconVFitter(10.0), truncate_after=0.95)"
   ]
  },
  {
   "cell_type": "code",
   "execution_count": 377,
   "metadata": {},
   "outputs": [
    {
     "name": "stdout",
     "output_type": "stream",
     "text": [
      "DeconvolutedPeak(a_to_a2_ratio=0.0, area=434.0, average_mass=317.6739006769863, charge=1, chosen_for_msms=False, envelope=[(318.1818, 315.00), (319.1806, 119.00)], full_width_at_half_max=0.01, index=1|1, intensity=434.0, most_abundant_mass=317.1744823999862, mz=318.1817588667562, neutral_mass=317.1744823999862, score=20.483664404011243, signal_to_noise=217.0)\n",
      "\n",
      "DeconvolutedPeak(a_to_a2_ratio=0.0, area=703.0, average_mass=386.6971117152199, charge=1, chosen_for_msms=False, envelope=[(387.1995, 531.00), (388.2093, 172.00)], full_width_at_half_max=0.01, index=2|2, intensity=703.0, most_abundant_mass=386.1922048729834, mz=387.1994813397534, neutral_mass=386.1922048729834, score=27.818602552488993, signal_to_noise=351.5)\n",
      "\n",
      "DeconvolutedPeak(a_to_a2_ratio=0.0, area=174.0, average_mass=485.71228105060027, charge=1, chosen_for_msms=False, envelope=[(486.2191, 133.00), (487.2200, 41.00)], full_width_at_half_max=0.01, index=12|12, intensity=174.0, most_abundant_mass=485.21179610305336, mz=486.21907256982337, neutral_mass=485.21179610305336, score=16.509846562823235, signal_to_noise=87.0)\n",
      "\n",
      "DeconvolutedPeak(a_to_a2_ratio=0.0, area=302.0, average_mass=500.7405763613923, charge=1, chosen_for_msms=False, envelope=[(501.2513, 239.00), (502.2444, 63.00)], full_width_at_half_max=0.01, index=14|15, intensity=302.0, most_abundant_mass=500.24399402502365, mz=501.25127049179366, neutral_mass=500.24399402502365, score=19.4702339825223, signal_to_noise=151.0)\n",
      "\n",
      "DeconvolutedPeak(a_to_a2_ratio=0.0, area=443.0, average_mass=515.7482269130194, charge=1, chosen_for_msms=False, envelope=[(516.2582, 320.00), (517.2528, 123.00)], full_width_at_half_max=0.01, index=18|19, intensity=443.0, most_abundant_mass=515.2509296094609, mz=516.2582060762309, neutral_mass=515.2509296094609, score=22.148497338821414, signal_to_noise=221.5)\n",
      "\n",
      "DeconvolutedPeak(a_to_a2_ratio=0.0, area=791.0, average_mass=518.7512253583338, charge=1, chosen_for_msms=False, envelope=[(519.2584, 470.00), (520.2586, 321.00)], full_width_at_half_max=0.01, index=19|20, intensity=791.0, most_abundant_mass=518.2511683169998, mz=519.2584447837698, neutral_mass=518.2511683169998, score=25.277433444898776, signal_to_noise=395.5)\n",
      "\n",
      "DeconvolutedPeak(a_to_a2_ratio=0.0, area=341.0, average_mass=519.7534823668134, charge=1, chosen_for_msms=False, envelope=[(520.2586, 148.63), (521.2630, 20.00)], full_width_at_half_max=0.01, index=20|21, intensity=168.62670457958635, most_abundant_mass=519.2512823996678, mz=520.2585588664379, neutral_mass=519.2512823996678, score=11.72662149459669, signal_to_noise=170.5)\n",
      "\n",
      "DeconvolutedPeak(a_to_a2_ratio=16.972107216910125, area=240.0, average_mass=553.2344609456893, charge=1, chosen_for_msms=False, envelope=[(553.2373, 146.00), (554.2370, 60.00), (555.2509, 34.00)], full_width_at_half_max=0.01, index=21|23, intensity=240.0, most_abundant_mass=552.2300110108071, mz=553.2372874775771, neutral_mass=552.2300110108071, score=17.395719567538492, signal_to_noise=80.0)\n",
      "\n",
      "DeconvolutedPeak(a_to_a2_ratio=16.96205947774689, area=89.0, average_mass=553.742254130847, charge=1, chosen_for_msms=False, envelope=[(554.2482, 55.00), (555.2509, 23.62), (556.2535, 1.00)], full_width_at_half_max=0.01, index=22|24, intensity=78.62050820538852, most_abundant_mass=553.240885455564, mz=554.248161922334, neutral_mass=553.240885455564, score=10.791301521344165, signal_to_noise=44.5)\n",
      "\n",
      "DeconvolutedPeak(a_to_a2_ratio=16.891951354211447, area=351.0, average_mass=561.2568795559166, charge=1, chosen_for_msms=False, envelope=[(561.2627, 228.00), (562.2580, 78.00), (563.2717, 45.00)], full_width_at_half_max=0.01, index=23|25, intensity=351.0, most_abundant_mass=560.2554029438727, mz=561.2626794106427, neutral_mass=560.2554029438727, score=21.327380590125546, signal_to_noise=117.0)\n",
      "\n",
      "DeconvolutedPeak(a_to_a2_ratio=15.568451883369788, area=133.0, average_mass=576.7786703793652, charge=1, chosen_for_msms=False, envelope=[(577.2790, 91.00), (578.2929, 42.00), (579.2843, 1.00)], full_width_at_half_max=0.01, index=25|27, intensity=133.0, most_abundant_mass=576.2716902494038, mz=577.2789667161738, neutral_mass=576.2716902494038, score=11.290749351696315, signal_to_noise=66.5)\n",
      "\n",
      "DeconvolutedPeak(a_to_a2_ratio=15.472523466436263, area=602.0, average_mass=589.263779789764, charge=1, chosen_for_msms=False, envelope=[(589.2698, 333.00), (590.2692, 224.00), (591.2742, 45.00)], full_width_at_half_max=0.01, index=26|29, intensity=602.0, most_abundant_mass=588.2624797162803, mz=589.2697561830503, neutral_mass=588.2624797162803, score=26.032660809085794, signal_to_noise=200.66666666666666)\n",
      "\n",
      "DeconvolutedPeak(a_to_a2_ratio=15.45516772777441, area=269.0, average_mass=589.764429826506, charge=1, chosen_for_msms=False, envelope=[(590.2692, 86.39), (591.2742, 16.81), (592.2746, 1.00)], full_width_at_half_max=0.01, index=27|30, intensity=103.20161119503008, most_abundant_mass=589.2619671420592, mz=590.2692436088292, neutral_mass=589.2619671420592, score=10.676340666872113, signal_to_noise=134.5)\n",
      "\n",
      "DeconvolutedPeak(a_to_a2_ratio=15.411893265842803, area=329.0, average_mass=595.2854178902693, charge=1, chosen_for_msms=False, envelope=[(595.2879, 167.00), (596.2934, 110.00), (597.2967, 52.00)], full_width_at_half_max=0.01, index=28|31, intensity=329.0, most_abundant_mass=594.2806704340746, mz=595.290045885237, neutral_mass=594.282769418467, score=16.95435257177834, signal_to_noise=109.66666666666667)\n",
      "\n",
      "DeconvolutedPeak(a_to_a2_ratio=14.69665737165602, area=159.0, average_mass=599.7559547983851, charge=1, chosen_for_msms=False, envelope=[(600.2608, 112.00), (601.2657, 47.00), (602.2662, 1.00)], full_width_at_half_max=0.01, index=29|32, intensity=159.0, most_abundant_mass=599.2535311439965, mz=600.2608076107665, neutral_mass=599.2535311439965, score=15.383583883964265, signal_to_noise=79.5)\n",
      "\n",
      "DeconvolutedPeak(a_to_a2_ratio=14.648142572366428, area=391.0, average_mass=605.782038149626, charge=1, chosen_for_msms=False, envelope=[(606.2840, 277.00), (607.2947, 114.00), (608.2894, 1.00)], full_width_at_half_max=0.01, index=30|33, intensity=391.0, most_abundant_mass=605.2766908704195, mz=606.2839673371896, neutral_mass=605.2766908704195, score=21.783880316765078, signal_to_noise=195.5)\n",
      "\n",
      "DeconvolutedPeak(a_to_a2_ratio=14.599845514021414, area=11211.0, average_mass=612.3035904881497, charge=1, chosen_for_msms=False, envelope=[(612.3083, 6688.00), (613.3117, 3673.00), (614.3126, 850.00)], full_width_at_half_max=0.01, index=31|34, intensity=11211.0, most_abundant_mass=611.3010479099748, mz=612.3083243767448, neutral_mass=611.3010479099748, score=131.81759537186355, signal_to_noise=3737.0)\n",
      "\n",
      "DeconvolutedPeak(a_to_a2_ratio=14.583794683785209, area=940.0, average_mass=614.3116770725412, charge=1, chosen_for_msms=False, envelope=[(614.3126, 300.00), (615.3186, 67.00), (616.3257, 23.00)], full_width_at_half_max=0.01, index=32|35, intensity=390.00023139637597, most_abundant_mass=613.3053049509455, mz=614.3125814177155, neutral_mass=613.3053049509455, score=23.719532645706714, signal_to_noise=313.3333333333333)\n",
      "\n",
      "DeconvolutedPeak(a_to_a2_ratio=13.706139598131482, area=128.0, average_mass=629.778470340941, charge=1, chosen_for_msms=False, envelope=[(630.2848, 89.00), (631.2867, 39.00), (632.2902, 1.00)], full_width_at_half_max=0.01, index=34|37, intensity=128.0, most_abundant_mass=629.277506274138, mz=630.284782740908, neutral_mass=629.277506274138, score=14.061135093931949, signal_to_noise=64.0)\n",
      "\n",
      "DeconvolutedPeak(a_to_a2_ratio=12.690515021025647, area=425.0, average_mass=657.2819195714825, charge=1, chosen_for_msms=False, envelope=[(657.2839, 235.00), (658.2873, 104.00), (659.2964, 86.00)], full_width_at_half_max=0.01, index=35|39, intensity=425.0, most_abundant_mass=656.2766323261664, mz=657.2839137475044, neutral_mass=656.2766372807343, score=24.243966902776606, signal_to_noise=141.66666666666666)\n",
      "\n",
      "DeconvolutedPeak(a_to_a2_ratio=12.050278594004457, area=161.0, average_mass=677.8048138014658, charge=1, chosen_for_msms=False, envelope=[(678.3082, 111.00), (679.3160, 50.00), (680.3136, 1.00)], full_width_at_half_max=0.01, index=36|40, intensity=161.0, most_abundant_mass=677.300894953777, mz=678.308171420547, neutral_mass=677.300894953777, score=14.835407859757536, signal_to_noise=80.5)\n",
      "\n",
      "DeconvolutedPeak(a_to_a2_ratio=11.348176681508955, area=506.0, average_mass=700.287989881777, charge=1, chosen_for_msms=False, envelope=[(700.2902, 408.00), (701.2918, 70.00), (702.3038, 28.00)], full_width_at_half_max=0.01, index=37|42, intensity=506.0, most_abundant_mass=699.2829425902155, mz=700.2902190569855, neutral_mass=699.2829425902155, score=21.506203816740683, signal_to_noise=168.66666666666666)\n",
      "\n",
      "DeconvolutedPeak(a_to_a2_ratio=11.309069140500272, area=318.0, average_mass=706.8231625802275, charge=1, chosen_for_msms=False, envelope=[(707.3310, 160.00), (708.3299, 158.00), (709.3364, 1.00)], full_width_at_half_max=0.01, index=38|43, intensity=318.0, most_abundant_mass=706.3236987106663, mz=707.3309751774364, neutral_mass=706.3236987106663, score=14.717120895071595, signal_to_noise=159.0)\n",
      "\n",
      "DeconvolutedPeak(a_to_a2_ratio=10.642152586936463, area=847.0, average_mass=718.3014093512069, charge=1, chosen_for_msms=False, envelope=[(718.3090, 551.00), (719.3062, 272.00), (720.3108, 24.00)], full_width_at_half_max=0.01, index=39|44, intensity=847.0, most_abundant_mass=717.301768433192, mz=718.309044899962, neutral_mass=717.301768433192, score=32.60362456359581, signal_to_noise=282.3333333333333)\n",
      "\n",
      "DeconvolutedPeak(a_to_a2_ratio=10.606842368311298, area=1185.0, average_mass=725.3877086873093, charge=1, chosen_for_msms=False, envelope=[(725.3909, 731.00), (726.3946, 369.00), (727.3995, 85.00)], full_width_at_half_max=0.01, index=40|45, intensity=1185.0, most_abundant_mass=724.3836354168235, mz=725.3909118835935, neutral_mass=724.3836354168235, score=48.06005903670092, signal_to_noise=395.0)\n",
      "\n",
      "DeconvolutedPeak(a_to_a2_ratio=10.177454956865988, area=185.0, average_mass=732.3597848889082, charge=1, chosen_for_msms=False, envelope=[(732.3668, 78.00), (733.3614, 55.00), (734.3731, 52.00)], full_width_at_half_max=0.01, index=41|46, intensity=185.0, most_abundant_mass=731.3594943585076, mz=732.366345361631, neutral_mass=731.359068894861, score=10.136737295593926, signal_to_noise=61.666666666666664)\n",
      "\n",
      "DeconvolutedPeak(a_to_a2_ratio=10.167949983400188, area=759.0, average_mass=734.8253977543159, charge=1, chosen_for_msms=False, envelope=[(735.3313, 530.00), (736.3340, 229.00), (737.3368, 1.00)], full_width_at_half_max=0.01, index=42|47, intensity=759.0, most_abundant_mass=734.3240553332842, mz=735.3313318000542, neutral_mass=734.3240553332842, score=35.30003899015428, signal_to_noise=379.5)\n",
      "\n",
      "DeconvolutedPeak(a_to_a2_ratio=9.62903878635993, area=191.0, average_mass=770.8515036865836, charge=1, chosen_for_msms=False, envelope=[(771.3601, 128.00), (772.3575, 63.00), (773.3656, 1.00)], full_width_at_half_max=0.01, index=43|49, intensity=191.0, most_abundant_mass=770.352833415858, mz=771.360109882628, neutral_mass=770.352833415858, score=15.936485175939184, signal_to_noise=95.5)\n",
      "\n",
      "DeconvolutedPeak(a_to_a2_ratio=9.163050259472039, area=4413.0, average_mass=782.4085294258069, charge=1, chosen_for_msms=False, envelope=[(782.4150, 2586.00), (783.4167, 1334.00), (784.4156, 493.00)], full_width_at_half_max=0.01, index=45|51, intensity=4413.0, most_abundant_mass=781.4077597382292, mz=782.4150362049992, neutral_mass=781.4077597382292, score=89.91556886755967, signal_to_noise=1471.0)\n",
      "\n",
      "DeconvolutedPeak(a_to_a2_ratio=9.158939241498189, area=640.0, average_mass=783.9078913614366, charge=1, chosen_for_msms=False, envelope=[(784.4156, 179.26), (785.4147, 147.00), (786.4211, 1.00)], full_width_at_half_max=0.01, index=46|52, intensity=326.25742599317965, most_abundant_mass=783.4083601195799, mz=784.4156365863499, neutral_mass=783.4083601195799, score=17.902779598804006, signal_to_noise=320.0)\n",
      "\n",
      "DeconvolutedPeak(a_to_a2_ratio=9.138422789946258, area=298.0, average_mass=787.8709041241536, charge=1, chosen_for_msms=False, envelope=[(788.3812, 223.00), (789.3752, 75.00), (790.3867, 1.00)], full_width_at_half_max=0.01, index=47|53, intensity=298.0, most_abundant_mass=787.3739206281873, mz=788.3811970949573, neutral_mass=787.3739206281873, score=17.547690327290855, signal_to_noise=149.0)\n",
      "\n",
      "DeconvolutedPeak(a_to_a2_ratio=8.645996418333395, area=191.0, average_mass=805.3281094174339, charge=1, chosen_for_msms=False, envelope=[(805.3363, 75.00), (806.3378, 54.00), (807.3321, 62.00)], full_width_at_half_max=0.01, index=48|54, intensity=191.0, most_abundant_mass=804.3290394902439, mz=805.3344122107742, neutral_mass=804.3271357440042, score=11.842859276380977, signal_to_noise=63.666666666666664)\n",
      "\n",
      "DeconvolutedPeak(a_to_a2_ratio=8.586259315106377, area=353.0, average_mass=820.41001477714, charge=1, chosen_for_msms=False, envelope=[(820.4166, 195.00), (821.4201, 53.00), (822.4151, 105.00)], full_width_at_half_max=0.01, index=49|55, intensity=353.0, most_abundant_mass=819.4093358501113, mz=820.4166123168814, neutral_mass=819.4093358501113, score=15.457317536634994, signal_to_noise=117.66666666666667)\n",
      "\n",
      "DeconvolutedPeak(a_to_a2_ratio=8.25398727103939, area=637.0, average_mass=831.3880103441609, charge=1, chosen_for_msms=False, envelope=[(831.3878, 297.00), (832.3979, 215.00), (833.4002, 125.00)], full_width_at_half_max=0.01, index=50|56, intensity=637.0, most_abundant_mass=830.3804941013727, mz=831.3945216493404, neutral_mass=830.3872451825704, score=24.95421693424456, signal_to_noise=212.33333333333334)\n",
      "\n",
      "DeconvolutedPeak(a_to_a2_ratio=7.919293845672428, area=1752.0, average_mass=848.4051506334682, charge=1, chosen_for_msms=False, envelope=[(848.4097, 822.00), (849.4069, 358.00), (850.4207, 180.25)], full_width_at_half_max=0.01, index=51|58, intensity=1360.2537579629227, most_abundant_mass=847.4023928353342, mz=848.4096693021042, neutral_mass=847.4023928353342, score=46.65690218450133, signal_to_noise=584.0)\n",
      "\n",
      "DeconvolutedPeak(a_to_a2_ratio=7.459048608356073, area=1108.0, average_mass=869.4292786643781, charge=1, chosen_for_msms=False, envelope=[(869.4368, 750.00), (870.4378, 204.00), (871.4351, 154.00)], full_width_at_half_max=0.01, index=52|62, intensity=1108.0, most_abundant_mass=868.4294920333397, mz=869.4367685001097, neutral_mass=868.4294920333397, score=36.56955339197821, signal_to_noise=369.3333333333333)\n",
      "\n",
      "DeconvolutedPeak(a_to_a2_ratio=7.459048608356073, area=5098.0, average_mass=869.4460024635989, charge=1, chosen_for_msms=False, envelope=[(869.4509, 2694.00), (870.4542, 1908.00), (871.4548, 496.00)], full_width_at_half_max=0.01, index=53|63, intensity=5098.0, most_abundant_mass=868.443596252736, mz=869.450872719506, neutral_mass=868.443596252736, score=97.50383171505034, signal_to_noise=1699.3333333333333)\n",
      "\n",
      "DeconvolutedPeak(a_to_a2_ratio=7.453002084617507, area=112.0, average_mass=871.9569184870422, charge=1, chosen_for_msms=False, envelope=[(872.4611, 67.00), (873.4673, 45.00), (874.4665, 1.00)], full_width_at_half_max=0.01, index=54|64, intensity=112.0, most_abundant_mass=871.4538032077159, mz=872.4610796744859, neutral_mass=871.4538032077159, score=12.094568549162313, signal_to_noise=56.0)\n",
      "\n",
      "DeconvolutedPeak(a_to_a2_ratio=7.428884501165066, area=67.0, average_mass=878.8678557478365, charge=1, chosen_for_msms=False, envelope=[(879.3723, 47.00), (880.3779, 20.00), (881.3778, 1.00)], full_width_at_half_max=0.01, index=55|65, intensity=67.0, most_abundant_mass=878.3650565817657, mz=879.3723330485357, neutral_mass=878.3650565817657, score=10.025597302853912, signal_to_noise=33.5)\n",
      "\n",
      "DeconvolutedPeak(a_to_a2_ratio=7.419868583388007, area=170.0, average_mass=882.9483352495378, charge=1, chosen_for_msms=False, envelope=[(883.4583, 117.00), (884.4530, 53.00), (885.4637, 1.00)], full_width_at_half_max=0.01, index=56|66, intensity=170.0, most_abundant_mass=882.4509828778121, mz=883.4582593445821, neutral_mass=882.4509828778121, score=13.920093962571471, signal_to_noise=85.0)\n",
      "\n",
      "DeconvolutedPeak(a_to_a2_ratio=6.857071226181485, area=251.0, average_mass=917.9162198374497, charge=1, chosen_for_msms=False, envelope=[(918.4223, 123.00), (919.4247, 128.00), (920.4278, 1.00)], full_width_at_half_max=0.01, index=57|68, intensity=251.0, most_abundant_mass=918.4174261421585, mz=918.422289999511, neutral_mass=917.415013532741, score=15.901742663061203, signal_to_noise=125.5)\n",
      "\n",
      "DeconvolutedPeak(a_to_a2_ratio=6.854383017063331, area=133.0, average_mass=919.9079553395368, charge=1, chosen_for_msms=False, envelope=[(920.4080, 82.00), (921.4224, 51.00), (922.4136, 1.00)], full_width_at_half_max=0.01, index=58|69, intensity=133.0, most_abundant_mass=919.4007412345197, mz=920.4080177012897, neutral_mass=919.4007412345197, score=11.412524137043842, signal_to_noise=66.5)\n",
      "\n",
      "DeconvolutedPeak(a_to_a2_ratio=6.600410972151792, area=228.0, average_mass=934.9306709279277, charge=1, chosen_for_msms=False, envelope=[(935.4369, 90.00), (936.4390, 138.00), (937.4425, 1.00)], full_width_at_half_max=0.01, index=59|70, intensity=228.0, most_abundant_mass=935.4316957151664, mz=935.4369226074591, neutral_mass=934.4296461406891, score=11.202409093402547, signal_to_noise=114.0)\n",
      "\n",
      "DeconvolutedPeak(a_to_a2_ratio=6.600410972151792, area=224.0, average_mass=935.9524149971555, charge=1, chosen_for_msms=False, envelope=[(936.4564, 160.00), (937.4630, 64.00), (938.4620, 1.00)], full_width_at_half_max=0.01, index=60|71, intensity=224.0, most_abundant_mass=935.4491272965023, mz=936.4564037632723, neutral_mass=935.4491272965023, score=16.97562443462353, signal_to_noise=112.0)\n",
      "\n",
      "DeconvolutedPeak(a_to_a2_ratio=6.211988961275115, area=263.0, average_mass=974.4474706614534, charge=1, chosen_for_msms=False, envelope=[(974.4588, 147.00), (975.4482, 27.00), (976.4572, 89.00)], full_width_at_half_max=0.01, index=61|72, intensity=263.0, most_abundant_mass=973.4515491541549, mz=974.4588256209249, neutral_mass=973.4515491541549, score=13.438301587639096, signal_to_noise=87.66666666666667)\n",
      "\n",
      "DeconvolutedPeak(a_to_a2_ratio=6.209667821557489, area=205.0, average_mass=974.9201569684867, charge=1, chosen_for_msms=False, envelope=[(975.4303, 146.00), (976.4246, 59.00), (977.4358, 1.00)], full_width_at_half_max=0.01, index=62|73, intensity=205.0, most_abundant_mass=974.4230358192528, mz=975.4303122860229, neutral_mass=974.4230358192528, score=14.279322021843097, signal_to_noise=102.5)\n",
      "\n",
      "DeconvolutedPeak(a_to_a2_ratio=6.009900097031391, area=3020.0, average_mass=982.5197345009299, charge=1, chosen_for_msms=False, envelope=[(982.5229, 1466.00), (983.5268, 1036.00), (984.5313, 518.00)], full_width_at_half_max=0.01, index=64|74, intensity=3020.0, most_abundant_mass=981.515591789694, mz=982.5234688535085, neutral_mass=981.5161923867385, score=72.45613121929577, signal_to_noise=1006.6666666666666)\n",
      "\n",
      "DeconvolutedPeak(a_to_a2_ratio=6.007684509686618, area=450.0, average_mass=983.546555009894, charge=1, chosen_for_msms=False, envelope=[(983.5544, 260.00), (984.5572, 129.00), (985.5499, 61.00)], full_width_at_half_max=0.01, index=65|75, intensity=450.0, most_abundant_mass=982.5471211901358, mz=983.5543976569058, neutral_mass=982.5471211901358, score=29.50430487941336, signal_to_noise=150.0)\n",
      "\n",
      "DeconvolutedPeak(a_to_a2_ratio=6.0054700782419035, area=590.0, average_mass=984.021882658978, charge=1, chosen_for_msms=False, envelope=[(984.5313, 222.40), (985.5270, 72.00), (986.5369, 1.00)], full_width_at_half_max=0.01, index=66|76, intensity=294.3974374135736, most_abundant_mass=983.5240644885572, mz=984.5313409553272, neutral_mass=983.5240644885572, score=16.018549479089664, signal_to_noise=295.0)\n",
      "\n",
      "DeconvolutedPeak(a_to_a2_ratio=5.987796149182567, area=655.0, average_mass=992.4670138669227, charge=1, chosen_for_msms=False, envelope=[(992.4668, 426.00), (993.4790, 175.00), (994.4771, 54.00)], full_width_at_half_max=0.01, index=67|77, intensity=655.0, most_abundant_mass=991.459523404327, mz=992.466799871097, neutral_mass=991.459523404327, score=29.937448844832325, signal_to_noise=218.33333333333334)\n",
      "\n",
      "DeconvolutedPeak(a_to_a2_ratio=5.789493351330999, area=149.0, average_mass=1003.0014143110246, charge=1, chosen_for_msms=False, envelope=[(1003.5055, 90.00), (1004.5119, 59.00), (1005.5110, 1.00)], full_width_at_half_max=0.01, index=68|78, intensity=149.0, most_abundant_mass=1002.4982082793719, mz=1003.5054847461419, neutral_mass=1002.4982082793719, score=14.31552932523012, signal_to_noise=74.5)\n",
      "\n",
      "DeconvolutedPeak(a_to_a2_ratio=5.122204328838955, area=328.0, average_mass=1070.0070343754994, charge=1, chosen_for_msms=False, envelope=[(1070.5143, 139.00), (1071.5143, 189.00), (1072.5199, 1.00)], full_width_at_half_max=0.01, index=71|80, intensity=328.0, most_abundant_mass=1070.5069958716604, mz=1070.5143493461087, neutral_mass=1069.5070728793387, score=15.762753831936479, signal_to_noise=164.0)\n",
      "\n",
      "DeconvolutedPeak(a_to_a2_ratio=5.109933085135674, area=231.0, average_mass=1077.5546084330047, charge=1, chosen_for_msms=False, envelope=[(1077.5520, 127.00), (1078.5563, 94.00), (1079.5774, 10.00)], full_width_at_half_max=0.01, index=72|81, intensity=231.0, most_abundant_mass=1076.5446868743034, mz=1077.5519633410734, neutral_mass=1076.5446868743034, score=18.398887006007826, signal_to_noise=77.0)\n",
      "\n",
      "DeconvolutedPeak(a_to_a2_ratio=5.092475223608109, area=268.0, average_mass=1087.0359144031263, charge=1, chosen_for_msms=False, envelope=[(1087.5342, 206.00), (1088.5522, 62.00), (1089.5397, 1.00)], full_width_at_half_max=0.01, index=73|82, intensity=268.0, most_abundant_mass=1086.526881465828, mz=1087.534157932598, neutral_mass=1086.526881465828, score=11.839557300815875, signal_to_noise=134.0)\n",
      "\n",
      "DeconvolutedPeak(a_to_a2_ratio=5.090734110587983, area=658.0, average_mass=1088.5168873183513, charge=1, chosen_for_msms=False, envelope=[(1088.5142, 492.00), (1089.5268, 102.00), (1090.5315, 64.00)], full_width_at_half_max=0.01, index=74|83, intensity=658.0, most_abundant_mass=1087.5068905877226, mz=1088.5141670544926, neutral_mass=1087.5068905877226, score=19.691592464772828, signal_to_noise=219.33333333333334)\n",
      "\n",
      "DeconvolutedPeak(a_to_a2_ratio=4.866397779117087, area=277.0, average_mass=1105.0238100394886, charge=1, chosen_for_msms=False, envelope=[(1105.5260, 123.00), (1106.5362, 154.00), (1107.5315, 1.00)], full_width_at_half_max=0.01, index=75|84, intensity=277.0, most_abundant_mass=1105.5288870016482, mz=1105.526009544099, neutral_mass=1104.518733077329, score=13.970607553854805, signal_to_noise=138.5)\n",
      "\n",
      "DeconvolutedPeak(a_to_a2_ratio=4.8663977791170865, area=962.0, average_mass=1105.5527265594765, charge=1, chosen_for_msms=False, envelope=[(1105.5597, 448.00), (1106.5620, 386.00), (1107.5582, 128.00)], full_width_at_half_max=0.01, index=76|85, intensity=962.0, most_abundant_mass=1104.5524607713664, mz=1105.5597372381364, neutral_mass=1104.5524607713664, score=40.71907395558236, signal_to_noise=320.6666666666667)\n",
      "\n",
      "DeconvolutedPeak(a_to_a2_ratio=4.856672002117312, area=1777.0, average_mass=1111.569348349129, charge=1, chosen_for_msms=False, envelope=[(1111.5717, 872.00), (1112.5730, 642.00), (1113.5852, 263.00)], full_width_at_half_max=0.01, index=77|86, intensity=1777.0, most_abundant_mass=1110.5644362392013, mz=1111.5717127059713, neutral_mass=1110.5644362392013, score=56.179265341736524, signal_to_noise=592.3333333333334)\n",
      "\n",
      "DeconvolutedPeak(a_to_a2_ratio=4.373792730181017, area=148.0, average_mass=1171.9074445211859, charge=2, chosen_for_msms=False, envelope=[(586.7127, 74.00), (587.2093, 74.00), (587.7155, 1.00)], full_width_at_half_max=0.01, index=78|28, intensity=148.0, most_abundant_mass=1171.4108258658543, mz=586.7126893996972, neutral_mass=1171.4108258658543, score=12.665391059187225, signal_to_noise=74.0)\n",
      "\n",
      "DeconvolutedPeak(a_to_a2_ratio=4.206533037815422, area=1491.0, average_mass=1198.596555884094, charge=1, chosen_for_msms=False, envelope=[(1198.6057, 641.00), (1199.6043, 540.00), (1200.6015, 310.00)], full_width_at_half_max=0.01, index=79|87, intensity=1491.0, most_abundant_mass=1197.5984119025184, mz=1198.6009696431051, neutral_mass=1197.5936931763351, score=45.903135296274016, signal_to_noise=497.0)\n",
      "\n",
      "DeconvolutedPeak(a_to_a2_ratio=4.203908878118899, area=492.0, average_mass=1200.604985034767, charge=1, chosen_for_msms=False, envelope=[(1200.6015, 121.74), (1201.6198, 137.00), (1202.6155, 45.00)], full_width_at_half_max=0.01, index=80|88, intensity=303.7418198709016, most_abundant_mass=1200.612541387878, mz=1200.608772771964, neutral_mass=1199.601496305194, score=16.094260477505582, signal_to_noise=164.0)\n",
      "\n",
      "DeconvolutedPeak(a_to_a2_ratio=3.806260383977407, area=228.0, average_mass=1268.0930340396228, charge=1, chosen_for_msms=False, envelope=[(1268.5943, 103.00), (1269.6063, 125.00), (1270.5999, 1.00)], full_width_at_half_max=0.01, index=81|89, intensity=228.0, most_abundant_mass=1268.5990280393, mz=1268.5943165067154, neutral_mass=1267.5870400399454, score=13.203676423216203, signal_to_noise=114.0)\n",
      "\n",
      "DeconvolutedPeak(a_to_a2_ratio=3.6780308708908227, area=707.0, average_mass=1285.6135183676429, charge=1, chosen_for_msms=False, envelope=[(1285.6227, 390.00), (1286.6344, 155.00), (1287.6053, 162.00)], full_width_at_half_max=0.01, index=82|90, intensity=707.0, most_abundant_mass=1284.6153934294575, mz=1285.6226698962275, neutral_mass=1284.6153934294575, score=21.645715996500982, signal_to_noise=235.66666666666666)\n",
      "\n",
      "DeconvolutedPeak(a_to_a2_ratio=3.6780308708908223, area=420.0, average_mass=1285.647492036079, charge=1, chosen_for_msms=False, envelope=[(1285.6572, 162.00), (1286.6511, 160.00), (1287.6561, 98.00)], full_width_at_half_max=0.01, index=83|91, intensity=420.0, most_abundant_mass=1284.6498876007672, mz=1285.6493626767317, neutral_mass=1284.6420862099617, score=22.629448344064343, signal_to_noise=140.0)\n",
      "\n",
      "DeconvolutedPeak(a_to_a2_ratio=3.676952355184564, area=97.0, average_mass=1286.129534069435, charge=2, chosen_for_msms=False, envelope=[(643.8199, 55.00), (644.3241, 42.00), (644.8227, 1.00)], full_width_at_half_max=0.01, index=84|38, intensity=97.0, most_abundant_mass=1285.6253223509832, mz=643.8199376422616, neutral_mass=1285.6253223509832, score=11.319555716852072, signal_to_noise=48.5)\n",
      "\n",
      "DeconvolutedPeak(a_to_a2_ratio=2.800459793316921, area=436.0, average_mass=1383.162630766994, charge=2, chosen_for_msms=False, envelope=[(691.8407, 217.00), (692.3399, 56.00), (692.8378, 105.00), (693.3360, 58.00)], full_width_at_half_max=0.01, index=85|41, intensity=436.0, most_abundant_mass=1381.6668663506398, mz=691.8407096420899, neutral_mass=1381.6668663506398, score=20.394291674001664, signal_to_noise=109.0)\n",
      "\n",
      "DeconvolutedPeak(a_to_a2_ratio=2.4572782903523285, area=310.0, average_mass=1494.7576589332864, charge=2, chosen_for_msms=False, envelope=[(747.8824, 56.00), (748.3865, 114.00), (748.8894, 140.00), (749.3878, 1.00)], full_width_at_half_max=0.01, index=87|48, intensity=310.0, most_abundant_mass=1495.7642013970415, mz=747.8848303419545, neutral_mass=1493.755107750369, score=13.796802239411356, signal_to_noise=103.33333333333333)\n",
      "\n",
      "DeconvolutedPeak(a_to_a2_ratio=1.9812659310563647, area=536.0, average_mass=1681.3122754698447, charge=2, chosen_for_msms=False, envelope=[(840.9150, 176.00), (841.4176, 201.00), (841.9166, 136.00), (842.4044, 23.00)], full_width_at_half_max=0.01, index=88|57, intensity=536.0, most_abundant_mass=1680.8207432457425, mz=840.9149923715803, neutral_mass=1679.8154318096206, score=33.242442016840194, signal_to_noise=134.0)\n",
      "\n",
      "DeconvolutedPeak(a_to_a2_ratio=1.9710554382416814, area=1030.0, average_mass=1699.828882117004, charge=2, chosen_for_msms=False, envelope=[(850.4207, 572.00), (850.9170, 309.00), (851.4274, 149.00), (851.9238, 1.00)], full_width_at_half_max=0.01, index=89|59, intensity=1030.0, most_abundant_mass=1698.8268276704425, mz=850.4206903019913, neutral_mass=1698.8268276704425, score=35.55737921973674, signal_to_noise=343.3333333333333)\n",
      "\n",
      "DeconvolutedPeak(a_to_a2_ratio=1.930499203014767, area=1869.0, average_mass=1718.341211724242, charge=2, chosen_for_msms=False, envelope=[(859.4292, 909.00), (859.9272, 539.00), (860.4260, 257.00), (860.9291, 164.00)], full_width_at_half_max=0.01, index=90|60, intensity=1869.0, most_abundant_mass=1716.8439169480046, mz=859.4255304991543, neutral_mass=1716.8365080647686, score=60.53986742580754, signal_to_noise=467.25)\n",
      "\n",
      "DeconvolutedPeak(a_to_a2_ratio=1.930499203014767, area=276.0, average_mass=1717.8756811189771, charge=2, chosen_for_msms=False, envelope=[(859.4458, 109.00), (859.9451, 71.00), (860.4445, 96.00), (860.9466, 1.00)], full_width_at_half_max=0.01, index=91|61, intensity=276.0, most_abundant_mass=1716.876961371293, mz=859.4433912736479, neutral_mass=1716.8722296137557, score=20.165705917088957, signal_to_noise=92.0)\n",
      "\n",
      "DeconvolutedPeak(a_to_a2_ratio=1.7294617272239694, area=115.0, average_mass=1833.3665808440637, charge=2, chosen_for_msms=False, envelope=[(916.9431, 25.00), (917.4397, 45.00), (917.9269, 25.00), (918.4525, 20.00)], full_width_at_half_max=0.01, index=92|67, intensity=115.0, most_abundant_mass=1832.8648951079704, mz=916.9380466018551, neutral_mass=1831.8615402701703, score=10.2297857562226, signal_to_noise=28.75)\n",
      "\n"
     ]
    }
   ],
   "source": [
    "ms2_peaks_l = []\n",
    "for peak in ms2_deconvoluted_peaks:\n",
    "    # discard a monoisotopic peak that has a second isotope with intensity of 1 (rubbish value)\n",
    "    if ((len(peak.envelope) > 1) and (peak.envelope[1][1] > 1)):\n",
    "        ms2_peaks_l.append((peak.mz, peak.charge, peak.neutral_mass, peak.intensity, peak.score, peak.signal_to_noise))\n",
    "        print(\"{}\\n\".format(peak))\n",
    "\n",
    "ms2_deconvoluted_peaks_df = pd.DataFrame(ms2_peaks_l, columns=['mz','charge','neutral_mass','intensity','score','SN'])\n",
    "# 'neutral mass' is the zero charge M, so we add the proton mass to get M+H (the monoisotopic mass)\n",
    "ms2_deconvoluted_peaks_df['m_plus_h'] = ms2_deconvoluted_peaks_df.neutral_mass + PROTON_MASS\n"
   ]
  },
  {
   "cell_type": "code",
   "execution_count": 378,
   "metadata": {},
   "outputs": [
    {
     "data": {
      "text/plain": [
       "72"
      ]
     },
     "execution_count": 378,
     "metadata": {},
     "output_type": "execute_result"
    }
   ],
   "source": [
    "len(ms2_deconvoluted_peaks_df)"
   ]
  },
  {
   "cell_type": "code",
   "execution_count": 379,
   "metadata": {},
   "outputs": [
    {
     "data": {
      "text/plain": [
       "(318.1817588667562, 1285.6493626767317)"
      ]
     },
     "execution_count": 379,
     "metadata": {},
     "output_type": "execute_result"
    }
   ],
   "source": [
    "ms2_deconvoluted_peaks_df.mz.min(),ms2_deconvoluted_peaks_df.mz.max()"
   ]
  },
  {
   "cell_type": "code",
   "execution_count": 380,
   "metadata": {},
   "outputs": [
    {
     "data": {
      "image/png": "[encoded data removed]",
      "text/plain": [
       "<Figure size 1080x360 with 1 Axes>"
      ]
     },
     "metadata": {
      "needs_background": "light"
     },
     "output_type": "display_data"
    }
   ],
   "source": [
    "f, ax = plt.subplots()\n",
    "colors = ['tab:blue', 'tab:orange', 'tab:green', 'tab:red', 'tab:purple', 'tab:brown', 'tab:pink', 'tab:gray', 'tab:olive', 'tab:cyan']\n",
    "markerline, stemlines, baseline = ax.stem(ms2_deconvoluted_peaks_df.m_plus_h, ms2_deconvoluted_peaks_df.intensity, 'g')\n",
    "plt.setp(markerline, 'color', colors[2])\n",
    "plt.setp(stemlines, 'color', colors[2])\n",
    "plt.setp(baseline, 'color', colors[7])\n",
    "plt.xlabel('m/z')\n",
    "plt.ylabel('intensity')\n",
    "f.set_figheight(5)\n",
    "f.set_figwidth(15)\n",
    "ax.set_xlim((100,1900))\n",
    "plt.margins(0.06)\n",
    "plt.suptitle('Deconvoluted peaks (M+H) in ms2 for precursor ID {}'.format(precursor_id))\n",
    "plt.title('bin width {} Th'.format(MZ_BIN_WIDTH))\n",
    "plt.show()"
   ]
  },
  {
   "cell_type": "code",
   "execution_count": 381,
   "metadata": {},
   "outputs": [],
   "source": [
    "ms2_deconvoluted_peaks_df[['mz','intensity']].to_csv('/Users/darylwilding-mcbride/Downloads/my_ms2_for_precursor_{}.csv'.format(precursor_id))"
   ]
  },
  {
   "cell_type": "code",
   "execution_count": 382,
   "metadata": {
    "scrolled": false
   },
   "outputs": [
    {
     "data": {
      "text/html": [
       "<div>\n",
       "<style scoped>\n",
       "    .dataframe tbody tr th:only-of-type {\n",
       "        vertical-align: middle;\n",
       "    }\n",
       "\n",
       "    .dataframe tbody tr th {\n",
       "        vertical-align: top;\n",
       "    }\n",
       "\n",
       "    .dataframe thead th {\n",
       "        text-align: right;\n",
       "    }\n",
       "</style>\n",
       "<table border=\"1\" class=\"dataframe\">\n",
       "  <thead>\n",
       "    <tr style=\"text-align: right;\">\n",
       "      <th></th>\n",
       "      <th>mz</th>\n",
       "      <th>charge</th>\n",
       "      <th>neutral_mass</th>\n",
       "      <th>intensity</th>\n",
       "      <th>score</th>\n",
       "      <th>SN</th>\n",
       "      <th>m_plus_h</th>\n",
       "    </tr>\n",
       "  </thead>\n",
       "  <tbody>\n",
       "    <tr>\n",
       "      <th>16</th>\n",
       "      <td>612.308324</td>\n",
       "      <td>1</td>\n",
       "      <td>611.301048</td>\n",
       "      <td>11211.000000</td>\n",
       "      <td>131.817595</td>\n",
       "      <td>3737.000000</td>\n",
       "      <td>612.308348</td>\n",
       "    </tr>\n",
       "    <tr>\n",
       "      <th>36</th>\n",
       "      <td>869.450873</td>\n",
       "      <td>1</td>\n",
       "      <td>868.443596</td>\n",
       "      <td>5098.000000</td>\n",
       "      <td>97.503832</td>\n",
       "      <td>1699.333333</td>\n",
       "      <td>869.450896</td>\n",
       "    </tr>\n",
       "    <tr>\n",
       "      <th>28</th>\n",
       "      <td>782.415036</td>\n",
       "      <td>1</td>\n",
       "      <td>781.407760</td>\n",
       "      <td>4413.000000</td>\n",
       "      <td>89.915569</td>\n",
       "      <td>1471.000000</td>\n",
       "      <td>782.415060</td>\n",
       "    </tr>\n",
       "    <tr>\n",
       "      <th>46</th>\n",
       "      <td>982.523469</td>\n",
       "      <td>1</td>\n",
       "      <td>981.516192</td>\n",
       "      <td>3020.000000</td>\n",
       "      <td>72.456131</td>\n",
       "      <td>1006.666667</td>\n",
       "      <td>982.523492</td>\n",
       "    </tr>\n",
       "    <tr>\n",
       "      <th>69</th>\n",
       "      <td>859.425530</td>\n",
       "      <td>2</td>\n",
       "      <td>1716.836508</td>\n",
       "      <td>1869.000000</td>\n",
       "      <td>60.539867</td>\n",
       "      <td>467.250000</td>\n",
       "      <td>1717.843808</td>\n",
       "    </tr>\n",
       "    <tr>\n",
       "      <th>57</th>\n",
       "      <td>1111.571713</td>\n",
       "      <td>1</td>\n",
       "      <td>1110.564436</td>\n",
       "      <td>1777.000000</td>\n",
       "      <td>56.179265</td>\n",
       "      <td>592.333333</td>\n",
       "      <td>1111.571736</td>\n",
       "    </tr>\n",
       "    <tr>\n",
       "      <th>59</th>\n",
       "      <td>1198.600970</td>\n",
       "      <td>1</td>\n",
       "      <td>1197.593693</td>\n",
       "      <td>1491.000000</td>\n",
       "      <td>45.903135</td>\n",
       "      <td>497.000000</td>\n",
       "      <td>1198.600993</td>\n",
       "    </tr>\n",
       "    <tr>\n",
       "      <th>34</th>\n",
       "      <td>848.409669</td>\n",
       "      <td>1</td>\n",
       "      <td>847.402393</td>\n",
       "      <td>1360.253758</td>\n",
       "      <td>46.656902</td>\n",
       "      <td>584.000000</td>\n",
       "      <td>848.409693</td>\n",
       "    </tr>\n",
       "    <tr>\n",
       "      <th>24</th>\n",
       "      <td>725.390912</td>\n",
       "      <td>1</td>\n",
       "      <td>724.383635</td>\n",
       "      <td>1185.000000</td>\n",
       "      <td>48.060059</td>\n",
       "      <td>395.000000</td>\n",
       "      <td>725.390935</td>\n",
       "    </tr>\n",
       "    <tr>\n",
       "      <th>35</th>\n",
       "      <td>869.436769</td>\n",
       "      <td>1</td>\n",
       "      <td>868.429492</td>\n",
       "      <td>1108.000000</td>\n",
       "      <td>36.569553</td>\n",
       "      <td>369.333333</td>\n",
       "      <td>869.436792</td>\n",
       "    </tr>\n",
       "  </tbody>\n",
       "</table>\n",
       "</div>"
      ],
      "text/plain": [
       "             mz  charge  neutral_mass     intensity       score           SN  \\\n",
       "16   612.308324       1    611.301048  11211.000000  131.817595  3737.000000   \n",
       "36   869.450873       1    868.443596   5098.000000   97.503832  1699.333333   \n",
       "28   782.415036       1    781.407760   4413.000000   89.915569  1471.000000   \n",
       "46   982.523469       1    981.516192   3020.000000   72.456131  1006.666667   \n",
       "69   859.425530       2   1716.836508   1869.000000   60.539867   467.250000   \n",
       "57  1111.571713       1   1110.564436   1777.000000   56.179265   592.333333   \n",
       "59  1198.600970       1   1197.593693   1491.000000   45.903135   497.000000   \n",
       "34   848.409669       1    847.402393   1360.253758   46.656902   584.000000   \n",
       "24   725.390912       1    724.383635   1185.000000   48.060059   395.000000   \n",
       "35   869.436769       1    868.429492   1108.000000   36.569553   369.333333   \n",
       "\n",
       "       m_plus_h  \n",
       "16   612.308348  \n",
       "36   869.450896  \n",
       "28   782.415060  \n",
       "46   982.523492  \n",
       "69  1717.843808  \n",
       "57  1111.571736  \n",
       "59  1198.600993  \n",
       "34   848.409693  \n",
       "24   725.390935  \n",
       "35   869.436792  "
      ]
     },
     "execution_count": 382,
     "metadata": {},
     "output_type": "execute_result"
    }
   ],
   "source": [
    "# find the top peaks by intensity\n",
    "ms2_deconvoluted_peaks_df.sort_values(by=['intensity'], ascending=False).head(10)"
   ]
  },
  {
   "cell_type": "markdown",
   "metadata": {},
   "source": [
    "### Compare with the ms2 spectra recorded by MaxQuant in the APL files"
   ]
  },
  {
   "cell_type": "code",
   "execution_count": 383,
   "metadata": {},
   "outputs": [],
   "source": [
    "pasef_msms_scans_df = pd.read_csv(PASEF_MSMS_SCANS_FILENAME, sep='\\t')"
   ]
  },
  {
   "cell_type": "code",
   "execution_count": 384,
   "metadata": {},
   "outputs": [
    {
     "data": {
      "text/html": [
       "<div>\n",
       "<style scoped>\n",
       "    .dataframe tbody tr th:only-of-type {\n",
       "        vertical-align: middle;\n",
       "    }\n",
       "\n",
       "    .dataframe tbody tr th {\n",
       "        vertical-align: top;\n",
       "    }\n",
       "\n",
       "    .dataframe thead th {\n",
       "        text-align: right;\n",
       "    }\n",
       "</style>\n",
       "<table border=\"1\" class=\"dataframe\">\n",
       "  <thead>\n",
       "    <tr style=\"text-align: right;\">\n",
       "      <th></th>\n",
       "      <th>Raw file</th>\n",
       "      <th>Frame</th>\n",
       "      <th>Precursor</th>\n",
       "      <th>IsolationMz</th>\n",
       "      <th>IsolationWidth</th>\n",
       "      <th>ScanNumBegin</th>\n",
       "      <th>ScanNumEnd</th>\n",
       "      <th>CollisionEnergy</th>\n",
       "      <th>Index</th>\n",
       "    </tr>\n",
       "  </thead>\n",
       "  <tbody>\n",
       "    <tr>\n",
       "      <th>0</th>\n",
       "      <td>HeLa_20KInt_2KIT_Slot1-46_01_1179</td>\n",
       "      <td>3</td>\n",
       "      <td>1</td>\n",
       "      <td>742.744835</td>\n",
       "      <td>2.427448</td>\n",
       "      <td>507</td>\n",
       "      <td>532</td>\n",
       "      <td>36.96</td>\n",
       "      <td>0</td>\n",
       "    </tr>\n",
       "    <tr>\n",
       "      <th>1</th>\n",
       "      <td>HeLa_20KInt_2KIT_Slot1-46_01_1179</td>\n",
       "      <td>3</td>\n",
       "      <td>2</td>\n",
       "      <td>709.235759</td>\n",
       "      <td>2.092358</td>\n",
       "      <td>549</td>\n",
       "      <td>574</td>\n",
       "      <td>36.96</td>\n",
       "      <td>1</td>\n",
       "    </tr>\n",
       "    <tr>\n",
       "      <th>2</th>\n",
       "      <td>HeLa_20KInt_2KIT_Slot1-46_01_1179</td>\n",
       "      <td>3</td>\n",
       "      <td>3</td>\n",
       "      <td>594.235088</td>\n",
       "      <td>2.000000</td>\n",
       "      <td>602</td>\n",
       "      <td>627</td>\n",
       "      <td>36.96</td>\n",
       "      <td>2</td>\n",
       "    </tr>\n",
       "    <tr>\n",
       "      <th>3</th>\n",
       "      <td>HeLa_20KInt_2KIT_Slot1-46_01_1179</td>\n",
       "      <td>3</td>\n",
       "      <td>4</td>\n",
       "      <td>503.527768</td>\n",
       "      <td>2.000000</td>\n",
       "      <td>643</td>\n",
       "      <td>668</td>\n",
       "      <td>36.96</td>\n",
       "      <td>3</td>\n",
       "    </tr>\n",
       "    <tr>\n",
       "      <th>4</th>\n",
       "      <td>HeLa_20KInt_2KIT_Slot1-46_01_1179</td>\n",
       "      <td>3</td>\n",
       "      <td>5</td>\n",
       "      <td>552.063870</td>\n",
       "      <td>2.000000</td>\n",
       "      <td>684</td>\n",
       "      <td>709</td>\n",
       "      <td>31.92</td>\n",
       "      <td>4</td>\n",
       "    </tr>\n",
       "  </tbody>\n",
       "</table>\n",
       "</div>"
      ],
      "text/plain": [
       "                            Raw file  Frame  Precursor  IsolationMz  \\\n",
       "0  HeLa_20KInt_2KIT_Slot1-46_01_1179      3          1   742.744835   \n",
       "1  HeLa_20KInt_2KIT_Slot1-46_01_1179      3          2   709.235759   \n",
       "2  HeLa_20KInt_2KIT_Slot1-46_01_1179      3          3   594.235088   \n",
       "3  HeLa_20KInt_2KIT_Slot1-46_01_1179      3          4   503.527768   \n",
       "4  HeLa_20KInt_2KIT_Slot1-46_01_1179      3          5   552.063870   \n",
       "\n",
       "   IsolationWidth  ScanNumBegin  ScanNumEnd  CollisionEnergy  Index  \n",
       "0        2.427448           507         532            36.96      0  \n",
       "1        2.092358           549         574            36.96      1  \n",
       "2        2.000000           602         627            36.96      2  \n",
       "3        2.000000           643         668            36.96      3  \n",
       "4        2.000000           684         709            31.92      4  "
      ]
     },
     "execution_count": 384,
     "metadata": {},
     "output_type": "execute_result"
    }
   ],
   "source": [
    "pasef_msms_scans_df.head()"
   ]
  },
  {
   "cell_type": "code",
   "execution_count": 385,
   "metadata": {},
   "outputs": [
    {
     "data": {
      "text/html": [
       "<div>\n",
       "<style scoped>\n",
       "    .dataframe tbody tr th:only-of-type {\n",
       "        vertical-align: middle;\n",
       "    }\n",
       "\n",
       "    .dataframe tbody tr th {\n",
       "        vertical-align: top;\n",
       "    }\n",
       "\n",
       "    .dataframe thead th {\n",
       "        text-align: right;\n",
       "    }\n",
       "</style>\n",
       "<table border=\"1\" class=\"dataframe\">\n",
       "  <thead>\n",
       "    <tr style=\"text-align: right;\">\n",
       "      <th></th>\n",
       "      <th>Raw file</th>\n",
       "      <th>Frame</th>\n",
       "      <th>Precursor</th>\n",
       "      <th>IsolationMz</th>\n",
       "      <th>IsolationWidth</th>\n",
       "      <th>ScanNumBegin</th>\n",
       "      <th>ScanNumEnd</th>\n",
       "      <th>CollisionEnergy</th>\n",
       "      <th>Index</th>\n",
       "    </tr>\n",
       "  </thead>\n",
       "  <tbody>\n",
       "    <tr>\n",
       "      <th>324135</th>\n",
       "      <td>HeLa_20KInt_2KIT_Slot1-46_01_1179</td>\n",
       "      <td>41474</td>\n",
       "      <td>153421</td>\n",
       "      <td>860.444362</td>\n",
       "      <td>3.0</td>\n",
       "      <td>462</td>\n",
       "      <td>487</td>\n",
       "      <td>42.0</td>\n",
       "      <td>324135</td>\n",
       "    </tr>\n",
       "  </tbody>\n",
       "</table>\n",
       "</div>"
      ],
      "text/plain": [
       "                                 Raw file  Frame  Precursor  IsolationMz  \\\n",
       "324135  HeLa_20KInt_2KIT_Slot1-46_01_1179  41474     153421   860.444362   \n",
       "\n",
       "        IsolationWidth  ScanNumBegin  ScanNumEnd  CollisionEnergy   Index  \n",
       "324135             3.0           462         487             42.0  324135  "
      ]
     },
     "execution_count": 385,
     "metadata": {},
     "output_type": "execute_result"
    }
   ],
   "source": [
    "pasef_msms_scans_df[pasef_msms_scans_df.Index == 324135]"
   ]
  },
  {
   "cell_type": "code",
   "execution_count": 386,
   "metadata": {},
   "outputs": [],
   "source": [
    "mq_index = pasef_msms_scans_df[pasef_msms_scans_df.Precursor == precursor_id].index.values[0]"
   ]
  },
  {
   "cell_type": "code",
   "execution_count": 387,
   "metadata": {},
   "outputs": [
    {
     "data": {
      "text/plain": [
       "324135"
      ]
     },
     "execution_count": 387,
     "metadata": {},
     "output_type": "execute_result"
    }
   ],
   "source": [
    "mq_index"
   ]
  },
  {
   "cell_type": "code",
   "execution_count": 388,
   "metadata": {},
   "outputs": [],
   "source": [
    "MIN_ISOTOPE_CORRELATION = 0.9\n",
    "\n",
    "allpeptides_df = pd.read_csv(ALLPEPTIDES_FILENAME, sep='\\t')\n",
    "allpeptides_df.rename(columns={'Number of isotopic peaks':'isotope_count', 'm/z':'mz', 'Number of data points':'number_data_points', 'Intensity':'intensity', 'Ion mobility index':'scan', 'Ion mobility index length':'scan_length', 'Ion mobility index length (FWHM)':'scan_length_fwhm', 'Retention time':'rt', 'Retention length':'rt_length', 'Retention length (FWHM)':'rt_length_fwhm', 'Charge':'charge_state', 'Number of pasef MS/MS':'number_pasef_ms2_ids', 'Pasef MS/MS IDs':'pasef_msms_ids', 'MS/MS scan number':'msms_scan_number', 'Isotope correlation':'isotope_correlation'}, inplace=True)\n",
    "# allpeptides_df = allpeptides_df[allpeptides_df.intensity.notnull() & (allpeptides_df.isotope_correlation >= MIN_ISOTOPE_CORRELATION) & (allpeptides_df.rt >= RT_LIMIT_LOWER) & (allpeptides_df.rt <= RT_LIMIT_UPPER)].copy()\n",
    "allpeptides_df = allpeptides_df[allpeptides_df.intensity.notnull() & allpeptides_df.pasef_msms_ids.notnull() & (allpeptides_df.rt >= RT_LIMIT_LOWER) & (allpeptides_df.rt <= RT_LIMIT_UPPER)].copy()\n",
    "allpeptides_df.msms_scan_number = allpeptides_df.msms_scan_number.apply(lambda x: int(x))"
   ]
  },
  {
   "cell_type": "code",
   "execution_count": 389,
   "metadata": {
    "scrolled": true
   },
   "outputs": [
    {
     "data": {
      "text/html": [
       "<div>\n",
       "<style scoped>\n",
       "    .dataframe tbody tr th:only-of-type {\n",
       "        vertical-align: middle;\n",
       "    }\n",
       "\n",
       "    .dataframe tbody tr th {\n",
       "        vertical-align: top;\n",
       "    }\n",
       "\n",
       "    .dataframe thead th {\n",
       "        text-align: right;\n",
       "    }\n",
       "</style>\n",
       "<table border=\"1\" class=\"dataframe\">\n",
       "  <thead>\n",
       "    <tr style=\"text-align: right;\">\n",
       "      <th></th>\n",
       "      <th>Raw file</th>\n",
       "      <th>charge_state</th>\n",
       "      <th>mz</th>\n",
       "      <th>Mass</th>\n",
       "      <th>Resolution</th>\n",
       "      <th>number_data_points</th>\n",
       "      <th>Number of frames</th>\n",
       "      <th>isotope_count</th>\n",
       "      <th>isotope_correlation</th>\n",
       "      <th>Mass fractional part</th>\n",
       "      <th>...</th>\n",
       "      <th>Min frame index</th>\n",
       "      <th>Max frame index</th>\n",
       "      <th>scan</th>\n",
       "      <th>scan_length</th>\n",
       "      <th>scan_length_fwhm</th>\n",
       "      <th>intensity</th>\n",
       "      <th>Intensities</th>\n",
       "      <th>number_pasef_ms2_ids</th>\n",
       "      <th>pasef_msms_ids</th>\n",
       "      <th>msms_scan_number</th>\n",
       "    </tr>\n",
       "  </thead>\n",
       "  <tbody>\n",
       "    <tr>\n",
       "      <th>636</th>\n",
       "      <td>HeLa_20KInt_2KIT_Slot1-46_01_1179</td>\n",
       "      <td>2</td>\n",
       "      <td>323.16731</td>\n",
       "      <td>644.32008</td>\n",
       "      <td>24772.615335</td>\n",
       "      <td>702</td>\n",
       "      <td>10</td>\n",
       "      <td>2</td>\n",
       "      <td>0.995725</td>\n",
       "      <td>0.320075</td>\n",
       "      <td>...</td>\n",
       "      <td>3851</td>\n",
       "      <td>3860</td>\n",
       "      <td>837</td>\n",
       "      <td>18</td>\n",
       "      <td>18</td>\n",
       "      <td>11378.0</td>\n",
       "      <td>NaN</td>\n",
       "      <td>7</td>\n",
       "      <td>333643;333656;333670;333684;333696;333707;333719</td>\n",
       "      <td>1664</td>\n",
       "    </tr>\n",
       "    <tr>\n",
       "      <th>675</th>\n",
       "      <td>HeLa_20KInt_2KIT_Slot1-46_01_1179</td>\n",
       "      <td>2</td>\n",
       "      <td>315.67536</td>\n",
       "      <td>629.33616</td>\n",
       "      <td>24676.000506</td>\n",
       "      <td>738</td>\n",
       "      <td>13</td>\n",
       "      <td>2</td>\n",
       "      <td>0.978703</td>\n",
       "      <td>0.336164</td>\n",
       "      <td>...</td>\n",
       "      <td>3766</td>\n",
       "      <td>3778</td>\n",
       "      <td>849</td>\n",
       "      <td>15</td>\n",
       "      <td>15</td>\n",
       "      <td>8728.3</td>\n",
       "      <td>NaN</td>\n",
       "      <td>14</td>\n",
       "      <td>323932;323944;323992;324006;324019;324033;3240...</td>\n",
       "      <td>1500</td>\n",
       "    </tr>\n",
       "    <tr>\n",
       "      <th>1286</th>\n",
       "      <td>HeLa_20KInt_2KIT_Slot1-46_01_1179</td>\n",
       "      <td>2</td>\n",
       "      <td>340.68087</td>\n",
       "      <td>679.34719</td>\n",
       "      <td>24552.706844</td>\n",
       "      <td>1458</td>\n",
       "      <td>12</td>\n",
       "      <td>3</td>\n",
       "      <td>0.998440</td>\n",
       "      <td>0.347187</td>\n",
       "      <td>...</td>\n",
       "      <td>3784</td>\n",
       "      <td>3795</td>\n",
       "      <td>795</td>\n",
       "      <td>27</td>\n",
       "      <td>18</td>\n",
       "      <td>27244.0</td>\n",
       "      <td>NaN</td>\n",
       "      <td>2</td>\n",
       "      <td>325991;326003</td>\n",
       "      <td>2180</td>\n",
       "    </tr>\n",
       "    <tr>\n",
       "      <th>1329</th>\n",
       "      <td>HeLa_20KInt_2KIT_Slot1-46_01_1179</td>\n",
       "      <td>2</td>\n",
       "      <td>345.18050</td>\n",
       "      <td>688.34645</td>\n",
       "      <td>24691.651393</td>\n",
       "      <td>1696</td>\n",
       "      <td>16</td>\n",
       "      <td>3</td>\n",
       "      <td>0.997846</td>\n",
       "      <td>0.346450</td>\n",
       "      <td>...</td>\n",
       "      <td>3747</td>\n",
       "      <td>3762</td>\n",
       "      <td>798</td>\n",
       "      <td>27</td>\n",
       "      <td>18</td>\n",
       "      <td>23557.0</td>\n",
       "      <td>NaN</td>\n",
       "      <td>4</td>\n",
       "      <td>321629;321641;321654;321666</td>\n",
       "      <td>2323</td>\n",
       "    </tr>\n",
       "    <tr>\n",
       "      <th>1482</th>\n",
       "      <td>HeLa_20KInt_2KIT_Slot1-46_01_1179</td>\n",
       "      <td>2</td>\n",
       "      <td>350.21987</td>\n",
       "      <td>698.42518</td>\n",
       "      <td>24909.307290</td>\n",
       "      <td>3616</td>\n",
       "      <td>21</td>\n",
       "      <td>3</td>\n",
       "      <td>0.999539</td>\n",
       "      <td>0.425184</td>\n",
       "      <td>...</td>\n",
       "      <td>3705</td>\n",
       "      <td>3725</td>\n",
       "      <td>807</td>\n",
       "      <td>30</td>\n",
       "      <td>18</td>\n",
       "      <td>51037.0</td>\n",
       "      <td>NaN</td>\n",
       "      <td>10</td>\n",
       "      <td>316763;316777;316791;316817;316832;316845;3168...</td>\n",
       "      <td>2490</td>\n",
       "    </tr>\n",
       "  </tbody>\n",
       "</table>\n",
       "<p>5 rows × 24 columns</p>\n",
       "</div>"
      ],
      "text/plain": [
       "                               Raw file  charge_state         mz       Mass  \\\n",
       "636   HeLa_20KInt_2KIT_Slot1-46_01_1179             2  323.16731  644.32008   \n",
       "675   HeLa_20KInt_2KIT_Slot1-46_01_1179             2  315.67536  629.33616   \n",
       "1286  HeLa_20KInt_2KIT_Slot1-46_01_1179             2  340.68087  679.34719   \n",
       "1329  HeLa_20KInt_2KIT_Slot1-46_01_1179             2  345.18050  688.34645   \n",
       "1482  HeLa_20KInt_2KIT_Slot1-46_01_1179             2  350.21987  698.42518   \n",
       "\n",
       "        Resolution  number_data_points  Number of frames  isotope_count  \\\n",
       "636   24772.615335                 702                10              2   \n",
       "675   24676.000506                 738                13              2   \n",
       "1286  24552.706844                1458                12              3   \n",
       "1329  24691.651393                1696                16              3   \n",
       "1482  24909.307290                3616                21              3   \n",
       "\n",
       "      isotope_correlation  Mass fractional part  ...  Min frame index  \\\n",
       "636              0.995725              0.320075  ...             3851   \n",
       "675              0.978703              0.336164  ...             3766   \n",
       "1286             0.998440              0.347187  ...             3784   \n",
       "1329             0.997846              0.346450  ...             3747   \n",
       "1482             0.999539              0.425184  ...             3705   \n",
       "\n",
       "      Max frame index  scan  scan_length  scan_length_fwhm  intensity  \\\n",
       "636              3860   837           18                18    11378.0   \n",
       "675              3778   849           15                15     8728.3   \n",
       "1286             3795   795           27                18    27244.0   \n",
       "1329             3762   798           27                18    23557.0   \n",
       "1482             3725   807           30                18    51037.0   \n",
       "\n",
       "      Intensities  number_pasef_ms2_ids  \\\n",
       "636           NaN                     7   \n",
       "675           NaN                    14   \n",
       "1286          NaN                     2   \n",
       "1329          NaN                     4   \n",
       "1482          NaN                    10   \n",
       "\n",
       "                                         pasef_msms_ids  msms_scan_number  \n",
       "636    333643;333656;333670;333684;333696;333707;333719              1664  \n",
       "675   323932;323944;323992;324006;324019;324033;3240...              1500  \n",
       "1286                                      325991;326003              2180  \n",
       "1329                        321629;321641;321654;321666              2323  \n",
       "1482  316763;316777;316791;316817;316832;316845;3168...              2490  \n",
       "\n",
       "[5 rows x 24 columns]"
      ]
     },
     "execution_count": 389,
     "metadata": {},
     "output_type": "execute_result"
    }
   ],
   "source": [
    "allpeptides_df.head()"
   ]
  },
  {
   "cell_type": "code",
   "execution_count": 390,
   "metadata": {},
   "outputs": [],
   "source": [
    "allpeptides_df['pasef_msms_ids_list'] = allpeptides_df.pasef_msms_ids.str.split(\";\").apply(lambda x: [int(i) for i in x])"
   ]
  },
  {
   "cell_type": "code",
   "execution_count": 391,
   "metadata": {},
   "outputs": [
    {
     "data": {
      "text/html": [
       "<div>\n",
       "<style scoped>\n",
       "    .dataframe tbody tr th:only-of-type {\n",
       "        vertical-align: middle;\n",
       "    }\n",
       "\n",
       "    .dataframe tbody tr th {\n",
       "        vertical-align: top;\n",
       "    }\n",
       "\n",
       "    .dataframe thead th {\n",
       "        text-align: right;\n",
       "    }\n",
       "</style>\n",
       "<table border=\"1\" class=\"dataframe\">\n",
       "  <thead>\n",
       "    <tr style=\"text-align: right;\">\n",
       "      <th></th>\n",
       "      <th>Raw file</th>\n",
       "      <th>charge_state</th>\n",
       "      <th>mz</th>\n",
       "      <th>Mass</th>\n",
       "      <th>Resolution</th>\n",
       "      <th>number_data_points</th>\n",
       "      <th>Number of frames</th>\n",
       "      <th>isotope_count</th>\n",
       "      <th>isotope_correlation</th>\n",
       "      <th>Mass fractional part</th>\n",
       "      <th>...</th>\n",
       "      <th>Max frame index</th>\n",
       "      <th>scan</th>\n",
       "      <th>scan_length</th>\n",
       "      <th>scan_length_fwhm</th>\n",
       "      <th>intensity</th>\n",
       "      <th>Intensities</th>\n",
       "      <th>number_pasef_ms2_ids</th>\n",
       "      <th>pasef_msms_ids</th>\n",
       "      <th>msms_scan_number</th>\n",
       "      <th>pasef_msms_ids_list</th>\n",
       "    </tr>\n",
       "  </thead>\n",
       "  <tbody>\n",
       "    <tr>\n",
       "      <th>276594</th>\n",
       "      <td>HeLa_20KInt_2KIT_Slot1-46_01_1179</td>\n",
       "      <td>2</td>\n",
       "      <td>858.93758</td>\n",
       "      <td>1715.8606</td>\n",
       "      <td>24510.713702</td>\n",
       "      <td>13211</td>\n",
       "      <td>19</td>\n",
       "      <td>5</td>\n",
       "      <td>0.999522</td>\n",
       "      <td>0.860598</td>\n",
       "      <td>...</td>\n",
       "      <td>3782</td>\n",
       "      <td>438</td>\n",
       "      <td>108</td>\n",
       "      <td>54</td>\n",
       "      <td>423970.0</td>\n",
       "      <td>NaN</td>\n",
       "      <td>1</td>\n",
       "      <td>324135</td>\n",
       "      <td>66893</td>\n",
       "      <td>[324135]</td>\n",
       "    </tr>\n",
       "  </tbody>\n",
       "</table>\n",
       "<p>1 rows × 25 columns</p>\n",
       "</div>"
      ],
      "text/plain": [
       "                                 Raw file  charge_state         mz       Mass  \\\n",
       "276594  HeLa_20KInt_2KIT_Slot1-46_01_1179             2  858.93758  1715.8606   \n",
       "\n",
       "          Resolution  number_data_points  Number of frames  isotope_count  \\\n",
       "276594  24510.713702               13211                19              5   \n",
       "\n",
       "        isotope_correlation  Mass fractional part  ...  Max frame index  scan  \\\n",
       "276594             0.999522              0.860598  ...             3782   438   \n",
       "\n",
       "        scan_length  scan_length_fwhm  intensity  Intensities  \\\n",
       "276594          108                54   423970.0          NaN   \n",
       "\n",
       "        number_pasef_ms2_ids  pasef_msms_ids  msms_scan_number  \\\n",
       "276594                     1          324135             66893   \n",
       "\n",
       "        pasef_msms_ids_list  \n",
       "276594             [324135]  \n",
       "\n",
       "[1 rows x 25 columns]"
      ]
     },
     "execution_count": 391,
     "metadata": {},
     "output_type": "execute_result"
    }
   ],
   "source": [
    "allpeptides_df[allpeptides_df.pasef_msms_ids_list.apply(lambda x: 324135 in x)]"
   ]
  },
  {
   "cell_type": "code",
   "execution_count": 392,
   "metadata": {},
   "outputs": [
    {
     "data": {
      "text/html": [
       "<div>\n",
       "<style scoped>\n",
       "    .dataframe tbody tr th:only-of-type {\n",
       "        vertical-align: middle;\n",
       "    }\n",
       "\n",
       "    .dataframe tbody tr th {\n",
       "        vertical-align: top;\n",
       "    }\n",
       "\n",
       "    .dataframe thead th {\n",
       "        text-align: right;\n",
       "    }\n",
       "</style>\n",
       "<table border=\"1\" class=\"dataframe\">\n",
       "  <thead>\n",
       "    <tr style=\"text-align: right;\">\n",
       "      <th></th>\n",
       "      <th>Raw file</th>\n",
       "      <th>charge_state</th>\n",
       "      <th>mz</th>\n",
       "      <th>Mass</th>\n",
       "      <th>Resolution</th>\n",
       "      <th>number_data_points</th>\n",
       "      <th>Number of frames</th>\n",
       "      <th>isotope_count</th>\n",
       "      <th>isotope_correlation</th>\n",
       "      <th>Mass fractional part</th>\n",
       "      <th>...</th>\n",
       "      <th>Max frame index</th>\n",
       "      <th>scan</th>\n",
       "      <th>scan_length</th>\n",
       "      <th>scan_length_fwhm</th>\n",
       "      <th>intensity</th>\n",
       "      <th>Intensities</th>\n",
       "      <th>number_pasef_ms2_ids</th>\n",
       "      <th>pasef_msms_ids</th>\n",
       "      <th>msms_scan_number</th>\n",
       "      <th>pasef_msms_ids_list</th>\n",
       "    </tr>\n",
       "  </thead>\n",
       "  <tbody>\n",
       "    <tr>\n",
       "      <th>276594</th>\n",
       "      <td>HeLa_20KInt_2KIT_Slot1-46_01_1179</td>\n",
       "      <td>2</td>\n",
       "      <td>858.93758</td>\n",
       "      <td>1715.8606</td>\n",
       "      <td>24510.713702</td>\n",
       "      <td>13211</td>\n",
       "      <td>19</td>\n",
       "      <td>5</td>\n",
       "      <td>0.999522</td>\n",
       "      <td>0.860598</td>\n",
       "      <td>...</td>\n",
       "      <td>3782</td>\n",
       "      <td>438</td>\n",
       "      <td>108</td>\n",
       "      <td>54</td>\n",
       "      <td>423970.0</td>\n",
       "      <td>NaN</td>\n",
       "      <td>1</td>\n",
       "      <td>324135</td>\n",
       "      <td>66893</td>\n",
       "      <td>[324135]</td>\n",
       "    </tr>\n",
       "  </tbody>\n",
       "</table>\n",
       "<p>1 rows × 25 columns</p>\n",
       "</div>"
      ],
      "text/plain": [
       "                                 Raw file  charge_state         mz       Mass  \\\n",
       "276594  HeLa_20KInt_2KIT_Slot1-46_01_1179             2  858.93758  1715.8606   \n",
       "\n",
       "          Resolution  number_data_points  Number of frames  isotope_count  \\\n",
       "276594  24510.713702               13211                19              5   \n",
       "\n",
       "        isotope_correlation  Mass fractional part  ...  Max frame index  scan  \\\n",
       "276594             0.999522              0.860598  ...             3782   438   \n",
       "\n",
       "        scan_length  scan_length_fwhm  intensity  Intensities  \\\n",
       "276594          108                54   423970.0          NaN   \n",
       "\n",
       "        number_pasef_ms2_ids  pasef_msms_ids  msms_scan_number  \\\n",
       "276594                     1          324135             66893   \n",
       "\n",
       "        pasef_msms_ids_list  \n",
       "276594             [324135]  \n",
       "\n",
       "[1 rows x 25 columns]"
      ]
     },
     "execution_count": 392,
     "metadata": {},
     "output_type": "execute_result"
    }
   ],
   "source": [
    "allpeptides_df[allpeptides_df.pasef_msms_ids_list.apply(lambda x: mq_index in x)]"
   ]
  },
  {
   "cell_type": "code",
   "execution_count": 393,
   "metadata": {},
   "outputs": [],
   "source": [
    "msms_scan_number = int(allpeptides_df[allpeptides_df.pasef_msms_ids_list.apply(lambda x: mq_index in x)].msms_scan_number)"
   ]
  },
  {
   "cell_type": "code",
   "execution_count": 394,
   "metadata": {},
   "outputs": [
    {
     "data": {
      "text/plain": [
       "66893"
      ]
     },
     "execution_count": 394,
     "metadata": {},
     "output_type": "execute_result"
    }
   ],
   "source": [
    "msms_scan_number"
   ]
  },
  {
   "cell_type": "code",
   "execution_count": 395,
   "metadata": {},
   "outputs": [],
   "source": [
    "# load the ms2 spectra from the APL (hand-pasted into a file for now)\n",
    "apl_df = pd.read_csv('/Users/darylwilding-mcbride/Downloads/allSpectra_5_apl_index_66893.txt', header=None, names=['mz','intensity'], sep='\\t')"
   ]
  },
  {
   "cell_type": "code",
   "execution_count": 396,
   "metadata": {},
   "outputs": [
    {
     "data": {
      "image/png": "[encoded data removed]",
      "text/plain": [
       "<Figure size 1080x720 with 1 Axes>"
      ]
     },
     "metadata": {
      "needs_background": "light"
     },
     "output_type": "display_data"
    }
   ],
   "source": [
    "f, ax = plt.subplots()\n",
    "colors = ['tab:blue', 'tab:orange', 'tab:green', 'tab:red', 'tab:purple', 'tab:brown', 'tab:pink', 'tab:gray', 'tab:olive', 'tab:cyan']\n",
    "markerline, stemlines, baseline = ax.stem(apl_df.mz, apl_df.intensity, 'g', label='MaxQuant')\n",
    "plt.setp(markerline, 'color', colors[1])\n",
    "plt.setp(stemlines, 'color', colors[1])\n",
    "plt.setp(baseline, 'color', colors[7])\n",
    "markerline, stemlines, baseline = ax.stem(ms2_deconvoluted_peaks_df.m_plus_h, -ms2_deconvoluted_peaks_df.intensity, 'g', label='DWM')\n",
    "plt.setp(markerline, 'color', colors[2])\n",
    "plt.setp(stemlines, 'color', colors[2])\n",
    "plt.setp(baseline, 'color', colors[7])\n",
    "plt.xlabel('m/z')\n",
    "plt.ylabel('intensity')\n",
    "f.set_figheight(10)\n",
    "f.set_figwidth(15)\n",
    "ax.set_xlim((100,1900))\n",
    "plt.margins(0.06)\n",
    "plt.legend(loc='best')\n",
    "plt.suptitle('ms2 peaks for precursor ID {} (Index {})'.format(precursor_id, msms_scan_number))\n",
    "plt.show()"
   ]
  },
  {
   "cell_type": "markdown",
   "metadata": {},
   "source": [
    "### Compare with the real identification from MaxQuant"
   ]
  },
  {
   "cell_type": "code",
   "execution_count": 399,
   "metadata": {},
   "outputs": [],
   "source": [
    "# check the error from the identification\n",
    "evidence_df = pd.read_csv('/Users/darylwilding-mcbride/Downloads/maxquant_results/txt/evidence.txt', sep='\\t')"
   ]
  },
  {
   "cell_type": "code",
   "execution_count": 464,
   "metadata": {},
   "outputs": [
    {
     "data": {
      "text/plain": [
       "66893"
      ]
     },
     "execution_count": 464,
     "metadata": {},
     "output_type": "execute_result"
    }
   ],
   "source": [
    "msms_scan_number"
   ]
  },
  {
   "cell_type": "code",
   "execution_count": 466,
   "metadata": {},
   "outputs": [],
   "source": [
    "df = evidence_df[evidence_df['MS/MS scan number'] == msms_scan_number]"
   ]
  },
  {
   "cell_type": "code",
   "execution_count": 467,
   "metadata": {},
   "outputs": [
    {
     "data": {
      "text/html": [
       "<div>\n",
       "<style scoped>\n",
       "    .dataframe tbody tr th:only-of-type {\n",
       "        vertical-align: middle;\n",
       "    }\n",
       "\n",
       "    .dataframe tbody tr th {\n",
       "        vertical-align: top;\n",
       "    }\n",
       "\n",
       "    .dataframe thead th {\n",
       "        text-align: right;\n",
       "    }\n",
       "</style>\n",
       "<table border=\"1\" class=\"dataframe\">\n",
       "  <thead>\n",
       "    <tr style=\"text-align: right;\">\n",
       "      <th></th>\n",
       "      <th>13872</th>\n",
       "    </tr>\n",
       "  </thead>\n",
       "  <tbody>\n",
       "    <tr>\n",
       "      <th>Sequence</th>\n",
       "      <td>GFLNSSELSGLPAGPDR</td>\n",
       "    </tr>\n",
       "    <tr>\n",
       "      <th>Length</th>\n",
       "      <td>17</td>\n",
       "    </tr>\n",
       "    <tr>\n",
       "      <th>Modifications</th>\n",
       "      <td>Unmodified</td>\n",
       "    </tr>\n",
       "    <tr>\n",
       "      <th>Modified sequence</th>\n",
       "      <td>_GFLNSSELSGLPAGPDR_</td>\n",
       "    </tr>\n",
       "    <tr>\n",
       "      <th>Oxidation (M) Probabilities</th>\n",
       "      <td>NaN</td>\n",
       "    </tr>\n",
       "    <tr>\n",
       "      <th>Oxidation (M) Score Diffs</th>\n",
       "      <td>NaN</td>\n",
       "    </tr>\n",
       "    <tr>\n",
       "      <th>Acetyl (Protein N-term)</th>\n",
       "      <td>0</td>\n",
       "    </tr>\n",
       "    <tr>\n",
       "      <th>Oxidation (M)</th>\n",
       "      <td>0</td>\n",
       "    </tr>\n",
       "    <tr>\n",
       "      <th>Missed cleavages</th>\n",
       "      <td>0</td>\n",
       "    </tr>\n",
       "    <tr>\n",
       "      <th>Proteins</th>\n",
       "      <td>sp|P43897|EFTS_HUMAN;tr|C9JG32|C9JG32_HUMAN;tr...</td>\n",
       "    </tr>\n",
       "    <tr>\n",
       "      <th>Leading proteins</th>\n",
       "      <td>sp|P43897|EFTS_HUMAN</td>\n",
       "    </tr>\n",
       "    <tr>\n",
       "      <th>Leading razor protein</th>\n",
       "      <td>sp|P43897|EFTS_HUMAN</td>\n",
       "    </tr>\n",
       "    <tr>\n",
       "      <th>Type</th>\n",
       "      <td>TIMS-MULTI-MSMS</td>\n",
       "    </tr>\n",
       "    <tr>\n",
       "      <th>Raw file</th>\n",
       "      <td>HeLa_20KInt_2KIT_Slot1-46_01_1179</td>\n",
       "    </tr>\n",
       "    <tr>\n",
       "      <th>MS/MS m/z</th>\n",
       "      <td>NaN</td>\n",
       "    </tr>\n",
       "    <tr>\n",
       "      <th>Charge</th>\n",
       "      <td>2</td>\n",
       "    </tr>\n",
       "    <tr>\n",
       "      <th>m/z</th>\n",
       "      <td>858.931</td>\n",
       "    </tr>\n",
       "    <tr>\n",
       "      <th>Mass</th>\n",
       "      <td>1715.85</td>\n",
       "    </tr>\n",
       "    <tr>\n",
       "      <th>Resolution</th>\n",
       "      <td>24713.1</td>\n",
       "    </tr>\n",
       "    <tr>\n",
       "      <th>Uncalibrated - Calibrated m/z [ppm]</th>\n",
       "      <td>0.61754</td>\n",
       "    </tr>\n",
       "    <tr>\n",
       "      <th>Uncalibrated - Calibrated m/z [Da]</th>\n",
       "      <td>0.00053042</td>\n",
       "    </tr>\n",
       "    <tr>\n",
       "      <th>Mass error [ppm]</th>\n",
       "      <td>6.7943</td>\n",
       "    </tr>\n",
       "    <tr>\n",
       "      <th>Mass error [Da]</th>\n",
       "      <td>0.0058358</td>\n",
       "    </tr>\n",
       "    <tr>\n",
       "      <th>Uncalibrated mass error [ppm]</th>\n",
       "      <td>7.4118</td>\n",
       "    </tr>\n",
       "    <tr>\n",
       "      <th>Uncalibrated mass error [Da]</th>\n",
       "      <td>0.0063663</td>\n",
       "    </tr>\n",
       "    <tr>\n",
       "      <th>Max intensity m/z 0</th>\n",
       "      <td>858.937</td>\n",
       "    </tr>\n",
       "    <tr>\n",
       "      <th>Retention time</th>\n",
       "      <td>4453.8</td>\n",
       "    </tr>\n",
       "    <tr>\n",
       "      <th>Retention length</th>\n",
       "      <td>21.248</td>\n",
       "    </tr>\n",
       "    <tr>\n",
       "      <th>Calibrated retention time</th>\n",
       "      <td>4453.8</td>\n",
       "    </tr>\n",
       "    <tr>\n",
       "      <th>Calibrated retention time start</th>\n",
       "      <td>4445.5</td>\n",
       "    </tr>\n",
       "    <tr>\n",
       "      <th>...</th>\n",
       "      <td>...</td>\n",
       "    </tr>\n",
       "    <tr>\n",
       "      <th>Ion mobility length</th>\n",
       "      <td>109</td>\n",
       "    </tr>\n",
       "    <tr>\n",
       "      <th>CCS</th>\n",
       "      <td>1.43792e-35</td>\n",
       "    </tr>\n",
       "    <tr>\n",
       "      <th>CCS length</th>\n",
       "      <td>8.94166e-37</td>\n",
       "    </tr>\n",
       "    <tr>\n",
       "      <th>Match time difference</th>\n",
       "      <td>NaN</td>\n",
       "    </tr>\n",
       "    <tr>\n",
       "      <th>Match m/z difference</th>\n",
       "      <td>NaN</td>\n",
       "    </tr>\n",
       "    <tr>\n",
       "      <th>Match q-value</th>\n",
       "      <td>NaN</td>\n",
       "    </tr>\n",
       "    <tr>\n",
       "      <th>Match score</th>\n",
       "      <td>NaN</td>\n",
       "    </tr>\n",
       "    <tr>\n",
       "      <th>Number of data points</th>\n",
       "      <td>1269</td>\n",
       "    </tr>\n",
       "    <tr>\n",
       "      <th>Number of scans</th>\n",
       "      <td>19</td>\n",
       "    </tr>\n",
       "    <tr>\n",
       "      <th>Number of isotopic peaks</th>\n",
       "      <td>5</td>\n",
       "    </tr>\n",
       "    <tr>\n",
       "      <th>PIF</th>\n",
       "      <td>NaN</td>\n",
       "    </tr>\n",
       "    <tr>\n",
       "      <th>Fraction of total spectrum</th>\n",
       "      <td>NaN</td>\n",
       "    </tr>\n",
       "    <tr>\n",
       "      <th>Base peak fraction</th>\n",
       "      <td>NaN</td>\n",
       "    </tr>\n",
       "    <tr>\n",
       "      <th>PEP</th>\n",
       "      <td>3.0624e-26</td>\n",
       "    </tr>\n",
       "    <tr>\n",
       "      <th>MS/MS count</th>\n",
       "      <td>1</td>\n",
       "    </tr>\n",
       "    <tr>\n",
       "      <th>MS/MS scan number</th>\n",
       "      <td>66893</td>\n",
       "    </tr>\n",
       "    <tr>\n",
       "      <th>Score</th>\n",
       "      <td>220.34</td>\n",
       "    </tr>\n",
       "    <tr>\n",
       "      <th>Delta score</th>\n",
       "      <td>183.83</td>\n",
       "    </tr>\n",
       "    <tr>\n",
       "      <th>Combinatorics</th>\n",
       "      <td>1</td>\n",
       "    </tr>\n",
       "    <tr>\n",
       "      <th>Intensity</th>\n",
       "      <td>423970</td>\n",
       "    </tr>\n",
       "    <tr>\n",
       "      <th>Reverse</th>\n",
       "      <td>NaN</td>\n",
       "    </tr>\n",
       "    <tr>\n",
       "      <th>Potential contaminant</th>\n",
       "      <td>NaN</td>\n",
       "    </tr>\n",
       "    <tr>\n",
       "      <th>id</th>\n",
       "      <td>13872</td>\n",
       "    </tr>\n",
       "    <tr>\n",
       "      <th>Protein group IDs</th>\n",
       "      <td>1482</td>\n",
       "    </tr>\n",
       "    <tr>\n",
       "      <th>Peptide ID</th>\n",
       "      <td>10861</td>\n",
       "    </tr>\n",
       "    <tr>\n",
       "      <th>Mod. peptide ID</th>\n",
       "      <td>10937</td>\n",
       "    </tr>\n",
       "    <tr>\n",
       "      <th>MS/MS IDs</th>\n",
       "      <td>13872</td>\n",
       "    </tr>\n",
       "    <tr>\n",
       "      <th>Best MS/MS</th>\n",
       "      <td>13872</td>\n",
       "    </tr>\n",
       "    <tr>\n",
       "      <th>AIF MS/MS IDs</th>\n",
       "      <td>NaN</td>\n",
       "    </tr>\n",
       "    <tr>\n",
       "      <th>Oxidation (M) site IDs</th>\n",
       "      <td>NaN</td>\n",
       "    </tr>\n",
       "  </tbody>\n",
       "</table>\n",
       "<p>63 rows × 1 columns</p>\n",
       "</div>"
      ],
      "text/plain": [
       "                                                                                 13872\n",
       "Sequence                                                             GFLNSSELSGLPAGPDR\n",
       "Length                                                                              17\n",
       "Modifications                                                               Unmodified\n",
       "Modified sequence                                                  _GFLNSSELSGLPAGPDR_\n",
       "Oxidation (M) Probabilities                                                        NaN\n",
       "Oxidation (M) Score Diffs                                                          NaN\n",
       "Acetyl (Protein N-term)                                                              0\n",
       "Oxidation (M)                                                                        0\n",
       "Missed cleavages                                                                     0\n",
       "Proteins                             sp|P43897|EFTS_HUMAN;tr|C9JG32|C9JG32_HUMAN;tr...\n",
       "Leading proteins                                                  sp|P43897|EFTS_HUMAN\n",
       "Leading razor protein                                             sp|P43897|EFTS_HUMAN\n",
       "Type                                                                   TIMS-MULTI-MSMS\n",
       "Raw file                                             HeLa_20KInt_2KIT_Slot1-46_01_1179\n",
       "MS/MS m/z                                                                          NaN\n",
       "Charge                                                                               2\n",
       "m/z                                                                            858.931\n",
       "Mass                                                                           1715.85\n",
       "Resolution                                                                     24713.1\n",
       "Uncalibrated - Calibrated m/z [ppm]                                            0.61754\n",
       "Uncalibrated - Calibrated m/z [Da]                                          0.00053042\n",
       "Mass error [ppm]                                                                6.7943\n",
       "Mass error [Da]                                                              0.0058358\n",
       "Uncalibrated mass error [ppm]                                                   7.4118\n",
       "Uncalibrated mass error [Da]                                                 0.0063663\n",
       "Max intensity m/z 0                                                            858.937\n",
       "Retention time                                                                  4453.8\n",
       "Retention length                                                                21.248\n",
       "Calibrated retention time                                                       4453.8\n",
       "Calibrated retention time start                                                 4445.5\n",
       "...                                                                                ...\n",
       "Ion mobility length                                                                109\n",
       "CCS                                                                        1.43792e-35\n",
       "CCS length                                                                 8.94166e-37\n",
       "Match time difference                                                              NaN\n",
       "Match m/z difference                                                               NaN\n",
       "Match q-value                                                                      NaN\n",
       "Match score                                                                        NaN\n",
       "Number of data points                                                             1269\n",
       "Number of scans                                                                     19\n",
       "Number of isotopic peaks                                                             5\n",
       "PIF                                                                                NaN\n",
       "Fraction of total spectrum                                                         NaN\n",
       "Base peak fraction                                                                 NaN\n",
       "PEP                                                                         3.0624e-26\n",
       "MS/MS count                                                                          1\n",
       "MS/MS scan number                                                                66893\n",
       "Score                                                                           220.34\n",
       "Delta score                                                                     183.83\n",
       "Combinatorics                                                                        1\n",
       "Intensity                                                                       423970\n",
       "Reverse                                                                            NaN\n",
       "Potential contaminant                                                              NaN\n",
       "id                                                                               13872\n",
       "Protein group IDs                                                                 1482\n",
       "Peptide ID                                                                       10861\n",
       "Mod. peptide ID                                                                  10937\n",
       "MS/MS IDs                                                                        13872\n",
       "Best MS/MS                                                                       13872\n",
       "AIF MS/MS IDs                                                                      NaN\n",
       "Oxidation (M) site IDs                                                             NaN\n",
       "\n",
       "[63 rows x 1 columns]"
      ]
     },
     "execution_count": 467,
     "metadata": {},
     "output_type": "execute_result"
    }
   ],
   "source": [
    "df.transpose()"
   ]
  },
  {
   "cell_type": "code",
   "execution_count": 417,
   "metadata": {},
   "outputs": [
    {
     "data": {
      "text/plain": [
       "859.4455864431093"
      ]
     },
     "execution_count": 417,
     "metadata": {},
     "output_type": "execute_result"
    }
   ],
   "source": [
    "feature_monoisotopic_mz"
   ]
  },
  {
   "cell_type": "code",
   "execution_count": 418,
   "metadata": {},
   "outputs": [
    {
     "data": {
      "text/plain": [
       "mz                 858.934519\n",
       "neutral_mass      1715.854484\n",
       "intensity       359522.000000\n",
       "score              574.142798\n",
       "SN               89880.500000\n",
       "m_plus_h          1716.861784\n",
       "Name: 1, dtype: float64"
      ]
     },
     "execution_count": 418,
     "metadata": {},
     "output_type": "execute_result"
    }
   ],
   "source": [
    "deconvoluted_peaks_df.iloc[1]"
   ]
  },
  {
   "cell_type": "code",
   "execution_count": null,
   "metadata": {},
   "outputs": [],
   "source": []
  }
 ],
 "metadata": {
  "kernelspec": {
   "display_name": "Python 3",
   "language": "python",
   "name": "python3"
  },
  "language_info": {
   "codemirror_mode": {
    "name": "ipython",
    "version": 3
   },
   "file_extension": ".py",
   "mimetype": "text/x-python",
   "name": "python",
   "nbconvert_exporter": "python",
   "pygments_lexer": "ipython3",
   "version": "3.6.7"
  }
 },
 "nbformat": 4,
 "nbformat_minor": 2
}
