{
 "cells": [
  {
   "cell_type": "code",
   "execution_count": 78,
   "metadata": {},
   "outputs": [],
   "source": [
    "import glob\n",
    "import os\n",
    "from PIL import Image\n",
    "import sqlite3\n",
    "import pandas as pd\n",
    "import shutil"
   ]
  },
  {
   "cell_type": "code",
   "execution_count": 88,
   "metadata": {},
   "outputs": [],
   "source": [
    "FRAME_ID = 27937\n",
    "TILES_DIR = '/Users/darylwilding-mcbride/Downloads/tiles-inf-method/all'\n",
    "ANIMATION_FRAMES_DIR = '{}/frames'.format(TILES_DIR)\n",
    "VIDEO_DIR = '{}/video'.format(TILES_DIR)\n",
    "TILE_START = 20\n",
    "TILE_END = 60\n",
    "CONVERTED_DATABASE = '/Users/darylwilding-mcbride/Downloads/HeLa_20KInt-rt-3000-3600-denoised/HeLa_20KInt.sqlite'\n",
    "RT_LOWER = 3000\n",
    "RT_UPPER = 3060\n",
    "MS1_CE = 10"
   ]
  },
  {
   "cell_type": "code",
   "execution_count": 89,
   "metadata": {},
   "outputs": [],
   "source": [
    "# initialise the directories required\n",
    "if os.path.exists(ANIMATION_FRAMES_DIR):\n",
    "    shutil.rmtree(ANIMATION_FRAMES_DIR)\n",
    "os.makedirs(ANIMATION_FRAMES_DIR)\n",
    "\n",
    "# if os.path.exists(VIDEO_DIR):\n",
    "#     shutil.rmtree(VIDEO_DIR)\n",
    "# os.makedirs(VIDEO_DIR)"
   ]
  },
  {
   "cell_type": "code",
   "execution_count": 90,
   "metadata": {},
   "outputs": [],
   "source": [
    "db_conn = sqlite3.connect(CONVERTED_DATABASE)\n",
    "ms1_frame_properties_df = pd.read_sql_query(\"select frame_id,retention_time_secs from frame_properties where retention_time_secs >= {} and retention_time_secs <= {} and collision_energy == {}\".format(RT_LOWER, RT_UPPER, MS1_CE), db_conn)\n",
    "db_conn.close()"
   ]
  },
  {
   "cell_type": "code",
   "execution_count": 91,
   "metadata": {},
   "outputs": [],
   "source": [
    "for idx in range(len(ms1_frame_properties_df)):\n",
    "    frame_id = int(ms1_frame_properties_df.iloc[idx].frame_id)\n",
    "    file_list = []\n",
    "    for tile_id in range(TILE_START, TILE_END+1):\n",
    "        file_list.append(glob.glob(\"{}/frame-{}-tile-{}-mz-*.png\".format(TILES_DIR, frame_id, tile_id))[0])\n",
    "    images = list(map(Image.open, file_list))\n",
    "    \n",
    "    widths, heights = zip(*(i.size for i in images))\n",
    "    total_width = sum(widths)\n",
    "    max_height = max(heights)\n",
    "\n",
    "    new_im = Image.new('RGB', (total_width, max_height))\n",
    "\n",
    "    x_offset = 0\n",
    "    for im in images:\n",
    "      new_im.paste(im, (x_offset,0))\n",
    "      x_offset += im.size[0]\n",
    "\n",
    "    new_im.save('{}/frame-{:04d}.png'.format(ANIMATION_FRAMES_DIR, idx))"
   ]
  },
  {
   "cell_type": "code",
   "execution_count": null,
   "metadata": {},
   "outputs": [],
   "source": []
  },
  {
   "cell_type": "code",
   "execution_count": null,
   "metadata": {},
   "outputs": [],
   "source": []
  }
 ],
 "metadata": {
  "kernelspec": {
   "display_name": "Python 3",
   "language": "python",
   "name": "python3"
  },
  "language_info": {
   "codemirror_mode": {
    "name": "ipython",
    "version": 3
   },
   "file_extension": ".py",
   "mimetype": "text/x-python",
   "name": "python",
   "nbconvert_exporter": "python",
   "pygments_lexer": "ipython3",
   "version": "3.6.7"
  }
 },
 "nbformat": 4,
 "nbformat_minor": 2
}
