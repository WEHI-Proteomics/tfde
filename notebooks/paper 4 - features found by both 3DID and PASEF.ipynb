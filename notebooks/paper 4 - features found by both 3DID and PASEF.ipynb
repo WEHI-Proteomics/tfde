{
 "cells": [
  {
   "cell_type": "code",
   "execution_count": 1,
   "metadata": {},
   "outputs": [],
   "source": [
    "import pandas as pd\n",
    "import numpy as np\n",
    "import os\n",
    "import matplotlib.pyplot as plt\n",
    "import pickle\n",
    "import json\n",
    "from os.path import expanduser"
   ]
  },
  {
   "cell_type": "markdown",
   "metadata": {},
   "source": [
    "#### compare PASEF features that were identified and see whether 3DID also detected them"
   ]
  },
  {
   "cell_type": "code",
   "execution_count": 7,
   "metadata": {},
   "outputs": [],
   "source": [
    "experiment_name = 'P3856'\n",
    "run_name = 'P3856_YHE211_1_Slot1-1_1_5104'\n",
    "\n",
    "EXPERIMENT_DIR = '/media/big-ssd/experiments/{}'.format(experiment_name)\n",
    "\n",
    "IDENTS_PASEF_DIR = '{}/P3856-results-cs-true-fmdw-true-2021-04-21-05-43-13/identifications-pasef'.format(expanduser(\"~\"))\n",
    "IDENTS_PASEF_FILE = '{}/exp-{}-identifications-pasef-recalibrated.pkl'.format(IDENTS_PASEF_DIR, experiment_name)\n",
    "\n",
    "FEATURES_3DID_DIR = '{}/features-3did'.format(EXPERIMENT_DIR)\n",
    "FEATURES_3DID_FILE = '{}/exp-{}-run-{}-features-3did-dedup.pkl'.format(FEATURES_3DID_DIR, experiment_name, run_name)"
   ]
  },
  {
   "cell_type": "code",
   "execution_count": 12,
   "metadata": {},
   "outputs": [],
   "source": [
    "# load the features detected by PASEF\n",
    "with open(IDENTS_PASEF_FILE, 'rb') as handle:\n",
    "    d = pickle.load(handle)\n",
    "idents_pasef_df = d['identifications_df']\n",
    "idents_pasef_df = idents_pasef_df[(idents_pasef_df.run_name == run_name)]"
   ]
  },
  {
   "cell_type": "code",
   "execution_count": 13,
   "metadata": {},
   "outputs": [
    {
     "data": {
      "text/plain": [
       "Index(['mz_apex_without_saturation_correction',\n",
       "       'mz_apex_with_saturation_correction', 'mz_lower', 'mz_upper',\n",
       "       'scan_apex', 'scan_lower', 'scan_upper', 'rt_apex', 'rt_lower',\n",
       "       'rt_upper', 'mono_intensity_without_saturation_correction',\n",
       "       'mono_intensity_with_saturation_correction',\n",
       "       'mono_intensity_adjustment_outcome', 'isotopic_peaks', 'scan_df',\n",
       "       'rt_df', 'monoisotopic_mz', 'charge', 'monoisotopic_mass',\n",
       "       'feature_intensity', 'envelope', 'isotope_count', 'deconvolution_score',\n",
       "       'precursor_cuboid_id', 'fragment_ions_l', 'fmdw_before_after_d',\n",
       "       'feature_id', 'run_name', 'predicted_mass_error',\n",
       "       'recalibrated_monoisotopic_mass', 'recalibrated_monoisotopic_mz',\n",
       "       'file_idx', 'spectrum precursor m/z', 'spectrum neutral mass',\n",
       "       'peptide mass', 'percolator score', 'percolator q-value',\n",
       "       'percolator PEP', 'total matches/spectrum', 'sequence', 'protein id',\n",
       "       'flanking aa', 'observed_monoisotopic_mass', 'theoretical_peptide_mass',\n",
       "       'mass_accuracy_ppm', 'mass_error'],\n",
       "      dtype='object')"
      ]
     },
     "execution_count": 13,
     "metadata": {},
     "output_type": "execute_result"
    }
   ],
   "source": [
    "idents_pasef_df.columns"
   ]
  },
  {
   "cell_type": "code",
   "execution_count": 14,
   "metadata": {},
   "outputs": [],
   "source": [
    "# load the features detected by 3DID\n",
    "with open(FEATURES_3DID_FILE, 'rb') as handle:\n",
    "    d = pickle.load(handle)\n",
    "features_3did_df = d['features_df']"
   ]
  },
  {
   "cell_type": "code",
   "execution_count": 16,
   "metadata": {},
   "outputs": [
    {
     "name": "stdout",
     "output_type": "stream",
     "text": [
      "34134 features from PASEF, 44783 features from 3DID\n"
     ]
    }
   ],
   "source": [
    "print('{} features from PASEF, {} features from 3DID'.format(len(idents_pasef_df), len(features_3did_df)))"
   ]
  },
  {
   "cell_type": "code",
   "execution_count": 17,
   "metadata": {},
   "outputs": [
    {
     "data": {
      "text/plain": [
       "2    28665\n",
       "3     3059\n",
       "4     1825\n",
       "1      300\n",
       "5      285\n",
       "Name: charge, dtype: int64"
      ]
     },
     "execution_count": 17,
     "metadata": {},
     "output_type": "execute_result"
    }
   ],
   "source": [
    "idents_pasef_df.charge.value_counts()"
   ]
  },
  {
   "cell_type": "code",
   "execution_count": 18,
   "metadata": {},
   "outputs": [
    {
     "data": {
      "text/plain": [
       "2    34159\n",
       "4     4128\n",
       "3     3895\n",
       "1     1468\n",
       "5     1133\n",
       "Name: charge, dtype: int64"
      ]
     },
     "execution_count": 18,
     "metadata": {},
     "output_type": "execute_result"
    }
   ],
   "source": [
    "features_3did_df.charge.value_counts()"
   ]
  },
  {
   "cell_type": "code",
   "execution_count": 28,
   "metadata": {},
   "outputs": [],
   "source": [
    "DUP_MZ_TOLERANCE_PPM = 20\n",
    "DUP_SCAN_TOLERANCE = 20\n",
    "DUP_RT_TOLERANCE = 5"
   ]
  },
  {
   "cell_type": "code",
   "execution_count": 29,
   "metadata": {},
   "outputs": [],
   "source": [
    "# set up dup definitions for 3DID\n",
    "MZ_TOLERANCE_PERCENT = DUP_MZ_TOLERANCE_PPM * 10**-4\n",
    "features_3did_df['dup_mz'] = features_3did_df['monoisotopic_mz']  # shorthand to reduce verbosity\n",
    "features_3did_df['dup_mz_ppm_tolerance'] = features_3did_df.dup_mz * MZ_TOLERANCE_PERCENT / 100\n",
    "features_3did_df['dup_mz_lower'] = features_3did_df.dup_mz - features_3did_df.dup_mz_ppm_tolerance\n",
    "features_3did_df['dup_mz_upper'] = features_3did_df.dup_mz + features_3did_df.dup_mz_ppm_tolerance\n",
    "features_3did_df['dup_scan_lower'] = features_3did_df.scan_apex - DUP_SCAN_TOLERANCE\n",
    "features_3did_df['dup_scan_upper'] = features_3did_df.scan_apex + DUP_SCAN_TOLERANCE\n",
    "features_3did_df['dup_rt_lower'] = features_3did_df.rt_apex - DUP_RT_TOLERANCE\n",
    "features_3did_df['dup_rt_upper'] = features_3did_df.rt_apex + DUP_RT_TOLERANCE"
   ]
  },
  {
   "cell_type": "code",
   "execution_count": 30,
   "metadata": {},
   "outputs": [],
   "source": [
    "# set up dup definitions for PASEF\n",
    "MZ_TOLERANCE_PERCENT = DUP_MZ_TOLERANCE_PPM * 10**-4\n",
    "idents_pasef_df['dup_mz'] = idents_pasef_df['monoisotopic_mz']  # shorthand to reduce verbosity\n",
    "idents_pasef_df['dup_mz_ppm_tolerance'] = idents_pasef_df.dup_mz * MZ_TOLERANCE_PERCENT / 100\n",
    "idents_pasef_df['dup_mz_lower'] = idents_pasef_df.dup_mz - idents_pasef_df.dup_mz_ppm_tolerance\n",
    "idents_pasef_df['dup_mz_upper'] = idents_pasef_df.dup_mz + idents_pasef_df.dup_mz_ppm_tolerance\n",
    "idents_pasef_df['dup_scan_lower'] = idents_pasef_df.scan_apex - DUP_SCAN_TOLERANCE\n",
    "idents_pasef_df['dup_scan_upper'] = idents_pasef_df.scan_apex + DUP_SCAN_TOLERANCE\n",
    "idents_pasef_df['dup_rt_lower'] = idents_pasef_df.rt_apex - DUP_RT_TOLERANCE\n",
    "idents_pasef_df['dup_rt_upper'] = idents_pasef_df.rt_apex + DUP_RT_TOLERANCE"
   ]
  },
  {
   "cell_type": "code",
   "execution_count": 31,
   "metadata": {},
   "outputs": [],
   "source": [
    "idents_pasef_df.sort_values(by=['deconvolution_score'], ascending=False, inplace=True)\n",
    "features_3did_df.sort_values(by=['deconvolution_score'], ascending=False, inplace=True)"
   ]
  },
  {
   "cell_type": "code",
   "execution_count": 35,
   "metadata": {},
   "outputs": [],
   "source": [
    "# find whether a feature detected by PASEF was also detected by 3DID\n",
    "common_l = []\n",
    "for row in idents_pasef_df.itertuples():\n",
    "#     df = features_3did_df[(row.charge == features_3did_df.charge) & (row.dup_mz >= features_3did_df.dup_mz_lower) & (row.dup_mz <= features_3did_df.dup_mz_upper) & (row.scan_apex >= features_3did_df.dup_scan_lower) & (row.scan_apex <= features_3did_df.dup_scan_upper) & (row.rt_apex >= features_3did_df.dup_rt_lower) & (row.rt_apex <= features_3did_df.dup_rt_upper)].copy()\n",
    "    df = features_3did_df[(row.dup_mz >= features_3did_df.dup_mz_lower) & (row.dup_mz <= features_3did_df.dup_mz_upper) & (row.scan_apex >= features_3did_df.dup_scan_lower) & (row.scan_apex <= features_3did_df.dup_scan_upper) & (row.rt_apex >= features_3did_df.dup_rt_lower) & (row.rt_apex <= features_3did_df.dup_rt_upper)].copy()\n",
    "    if len(df) > 0:\n",
    "        common_l.append(\n",
    "            {\n",
    "                'feature_id_pasef':row.feature_id, \n",
    "                'deconv_score_pasef':row.deconvolution_score,\n",
    "                'feature_intensity_pasef':row.feature_intensity,\n",
    "                'feature_id_3did':df.iloc[0].feature_id, \n",
    "                'deconv_score_3did':df.iloc[0].deconvolution_score,\n",
    "                'feature_intensity_3did':df.iloc[0].feature_intensity\n",
    "            }\n",
    "        )\n",
    "common_df = pd.DataFrame(common_l)"
   ]
  },
  {
   "cell_type": "code",
   "execution_count": 37,
   "metadata": {},
   "outputs": [
    {
     "name": "stdout",
     "output_type": "stream",
     "text": [
      "11733 features in common\n"
     ]
    }
   ],
   "source": [
    "print('{} features in common'.format(len(common_df)))"
   ]
  },
  {
   "cell_type": "code",
   "execution_count": 38,
   "metadata": {},
   "outputs": [
    {
     "data": {
      "image/png": "[encoded data removed]",
      "text/plain": [
       "<Figure size 720x720 with 1 Axes>"
      ]
     },
     "metadata": {
      "needs_background": "light"
     },
     "output_type": "display_data"
    }
   ],
   "source": [
    "f, ax = plt.subplots()\n",
    "f.set_figheight(10)\n",
    "f.set_figwidth(10)\n",
    "\n",
    "plt.margins(0.06)\n",
    "plt.title('')\n",
    "\n",
    "ax.scatter(common_df.deconv_score_pasef, common_df.deconv_score_3did, marker='o', lw=0, s=15, alpha=0.6)\n",
    "\n",
    "ax.plot([0, 1], [0, 1], transform=ax.transAxes, linestyle=':', linewidth=2, color='darkorange')\n",
    "\n",
    "plt.xlim((-1,10000))\n",
    "plt.ylim((-1,10000))\n",
    "\n",
    "plt.xlabel('PASEF feature score')\n",
    "plt.ylabel('3DID feature score')\n",
    "\n",
    "plt.show()"
   ]
  },
  {
   "cell_type": "markdown",
   "metadata": {},
   "source": [
    "#### visualise a feature detected by PASEF but not by 3DID"
   ]
  },
  {
   "cell_type": "code",
   "execution_count": 40,
   "metadata": {},
   "outputs": [],
   "source": [
    "# find the PASEF feature IDs that are not in the common set\n",
    "feature_ids_not_found_by_3did_l = list(set(idents_pasef_df.feature_id.to_list()) - set(common_df.feature_id_pasef.to_list()))\n"
   ]
  },
  {
   "cell_type": "code",
   "execution_count": 46,
   "metadata": {},
   "outputs": [
    {
     "data": {
      "text/plain": [
       "2490104"
      ]
     },
     "execution_count": 46,
     "metadata": {},
     "output_type": "execute_result"
    }
   ],
   "source": [
    "import random\n",
    "\n",
    "pasef_feature_not_detected = random.choice(feature_ids_not_found_by_3did_l)\n",
    "pasef_feature_not_detected"
   ]
  },
  {
   "cell_type": "code",
   "execution_count": 47,
   "metadata": {},
   "outputs": [
    {
     "data": {
      "text/plain": [
       "mz_apex_without_saturation_correction                                                     858.415\n",
       "mz_apex_with_saturation_correction                                                        858.414\n",
       "mz_lower                                                                                  858.388\n",
       "mz_upper                                                                                  858.442\n",
       "scan_apex                                                                                     432\n",
       "scan_lower                                                                                    394\n",
       "scan_upper                                                                                    463\n",
       "rt_apex                                                                                   1906.62\n",
       "rt_lower                                                                                  1903.44\n",
       "rt_upper                                                                                  1909.26\n",
       "mono_intensity_without_saturation_correction                                                42434\n",
       "mono_intensity_with_saturation_correction                                                   42434\n",
       "mono_intensity_adjustment_outcome                                      monoisotopic_not_saturated\n",
       "isotopic_peaks                                  [{'mz': 858.4150284581738, 'mz_lower': 858.387...\n",
       "scan_df                                         [{'scan': 388, 'intensity': 1256, 'filtered_in...\n",
       "rt_df                                           [{'frame_id': 16937, 'retention_time_secs': 18...\n",
       "monoisotopic_mz                                                                           858.414\n",
       "charge                                                                                          2\n",
       "monoisotopic_mass                                                                         1714.81\n",
       "feature_intensity                                                                           42434\n",
       "envelope                                        [[858.4150284581738, 124485.0], [858.912291500...\n",
       "isotope_count                                                                                   4\n",
       "deconvolution_score                                                                       916.398\n",
       "precursor_cuboid_id                                                                         24901\n",
       "fragment_ions_l                                 [{\"singly_protonated_mass\": 259.0922, \"neutral...\n",
       "fmdw_before_after_d                             {'before_fmdw': [{'singly_protonated_mass': 25...\n",
       "feature_id                                                                                2490104\n",
       "run_name                                                            P3856_YHE211_1_Slot1-1_1_5104\n",
       "predicted_mass_error                                                                  -0.00118936\n",
       "recalibrated_monoisotopic_mass                                                            1714.82\n",
       "recalibrated_monoisotopic_mz                                                              858.415\n",
       "file_idx                                                                                        0\n",
       "spectrum precursor m/z                                                                    857.911\n",
       "spectrum neutral mass                                                                     1713.81\n",
       "peptide mass                                                                              1657.78\n",
       "percolator score                                                                          0.27824\n",
       "percolator q-value                                                                    0.000407747\n",
       "percolator PEP                                                                          0.0241215\n",
       "total matches/spectrum                                                                      58184\n",
       "sequence                                                                          DVESCHDMAALNILK\n",
       "protein id                                                                  sp|O95793|STAU1_HUMAN\n",
       "flanking aa                                                                                    KL\n",
       "observed_monoisotopic_mass                                                                1714.82\n",
       "theoretical_peptide_mass                                                                   1714.8\n",
       "mass_accuracy_ppm                                                                         8.02198\n",
       "mass_error                                                                              0.0137561\n",
       "dup_mz                                                                                    858.414\n",
       "dup_mz_ppm_tolerance                                                                    0.0171683\n",
       "dup_mz_lower                                                                              858.397\n",
       "dup_mz_upper                                                                              858.432\n",
       "dup_scan_lower                                                                                412\n",
       "dup_scan_upper                                                                                452\n",
       "dup_rt_lower                                                                              1901.62\n",
       "dup_rt_upper                                                                              1911.62\n",
       "Name: 21848, dtype: object"
      ]
     },
     "execution_count": 47,
     "metadata": {},
     "output_type": "execute_result"
    }
   ],
   "source": [
    "selected_feature = idents_pasef_df[(idents_pasef_df.feature_id == pasef_feature_not_detected)].iloc[0]\n",
    "selected_feature"
   ]
  },
  {
   "cell_type": "code",
   "execution_count": 48,
   "metadata": {},
   "outputs": [
    {
     "data": {
      "text/plain": [
       "{'MZ_MIN': 853.414491842376,\n",
       " 'MZ_MAX': 863.414491842376,\n",
       " 'SCAN_MIN': 282.0,\n",
       " 'SCAN_MAX': 582.0,\n",
       " 'RT_MIN': 1891.6164580602874,\n",
       " 'RT_MAX': 1921.6164580602874}"
      ]
     },
     "execution_count": 48,
     "metadata": {},
     "output_type": "execute_result"
    }
   ],
   "source": [
    "{\n",
    "'MZ_MIN': selected_feature.monoisotopic_mz - 5,\n",
    "'MZ_MAX': selected_feature.monoisotopic_mz + 5,\n",
    "'SCAN_MIN': selected_feature.scan_apex - 150,\n",
    "'SCAN_MAX': selected_feature.scan_apex + 150,\n",
    "'RT_MIN': selected_feature.rt_apex - 15,\n",
    "'RT_MAX': selected_feature.rt_apex + 15\n",
    "}"
   ]
  },
  {
   "cell_type": "code",
   "execution_count": null,
   "metadata": {},
   "outputs": [],
   "source": []
  }
 ],
 "metadata": {
  "kernelspec": {
   "display_name": "Python 3",
   "language": "python",
   "name": "python3"
  },
  "language_info": {
   "codemirror_mode": {
    "name": "ipython",
    "version": 3
   },
   "file_extension": ".py",
   "mimetype": "text/x-python",
   "name": "python",
   "nbconvert_exporter": "python",
   "pygments_lexer": "ipython3",
   "version": "3.8.5"
  }
 },
 "nbformat": 4,
 "nbformat_minor": 4
}
