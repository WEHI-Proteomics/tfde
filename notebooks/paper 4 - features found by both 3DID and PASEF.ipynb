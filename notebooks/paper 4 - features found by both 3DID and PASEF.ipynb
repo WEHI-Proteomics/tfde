{
 "cells": [
  {
   "cell_type": "code",
   "execution_count": 1,
   "metadata": {},
   "outputs": [],
   "source": [
    "import pandas as pd\n",
    "import numpy as np\n",
    "import os\n",
    "import matplotlib.pyplot as plt\n",
    "import pickle\n",
    "import json\n",
    "from os.path import expanduser"
   ]
  },
  {
   "cell_type": "code",
   "execution_count": 2,
   "metadata": {},
   "outputs": [],
   "source": [
    "experiment_name = 'P3856'\n",
    "run_name = 'P3856_YHE211_1_Slot1-1_1_5104'\n",
    "\n",
    "EXPERIMENT_DIR = '/media/big-ssd/experiments/{}'.format(experiment_name)\n",
    "\n",
    "FEATURES_PASEF_DIR = '{}/features-pasef-cs-true-fmdw-false'.format(expanduser(\"~\"))\n",
    "FEATURES_PASEF_FILE = '{}/exp-{}-run-{}-features-pasef-dedup.pkl'.format(FEATURES_PASEF_DIR, experiment_name, run_name)\n",
    "\n",
    "IDENTIFICATIONS_PASEF_DIR = '{}/identifications-pasef-cs-true-fmdw-false'.format(expanduser(\"~\"))\n",
    "IDENTIFICATIONS_PASEF_FILE = '{}/exp-{}-identifications-pasef-recalibrated.pkl'.format(IDENTIFICATIONS_PASEF_DIR, experiment_name)\n",
    "\n",
    "FEATURES_3DID_DIR = '{}/features-3did'.format(EXPERIMENT_DIR)\n",
    "FEATURES_3DID_FILE = '{}/exp-{}-run-{}-features-3did-dedup.pkl'.format(FEATURES_3DID_DIR, experiment_name, run_name)"
   ]
  },
  {
   "cell_type": "code",
   "execution_count": 24,
   "metadata": {},
   "outputs": [],
   "source": [
    "def max_scan_for_mz(mz):\n",
    "    scan_for_mz = max(int(-1 * ((1.2 * mz) - 1252)), 0)\n",
    "    return scan_for_mz"
   ]
  },
  {
   "cell_type": "code",
   "execution_count": 27,
   "metadata": {},
   "outputs": [
    {
     "data": {
      "text/plain": [
       "772"
      ]
     },
     "execution_count": 27,
     "metadata": {},
     "output_type": "execute_result"
    }
   ],
   "source": [
    "max_scan_for_mz(400)"
   ]
  },
  {
   "cell_type": "code",
   "execution_count": 3,
   "metadata": {},
   "outputs": [],
   "source": [
    "# load the features detected by PASEF\n",
    "with open(FEATURES_PASEF_FILE, 'rb') as handle:\n",
    "    d = pickle.load(handle)\n",
    "features_pasef_df = d['features_df']"
   ]
  },
  {
   "cell_type": "code",
   "execution_count": 4,
   "metadata": {},
   "outputs": [],
   "source": [
    "MAXIMUM_Q_VALUE = 0.01"
   ]
  },
  {
   "cell_type": "code",
   "execution_count": 5,
   "metadata": {},
   "outputs": [],
   "source": [
    "# load the identifications by PASEF\n",
    "with open(IDENTIFICATIONS_PASEF_FILE, 'rb') as handle:\n",
    "    d = pickle.load(handle)\n",
    "identifications_pasef_df = d['identifications_df']\n",
    "identifications_pasef_df = identifications_pasef_df[(identifications_pasef_df['percolator q-value'] <= MAXIMUM_Q_VALUE)]"
   ]
  },
  {
   "cell_type": "code",
   "execution_count": 28,
   "metadata": {},
   "outputs": [
    {
     "data": {
      "text/plain": [
       "Index(['mz_apex_without_saturation_correction',\n",
       "       'mz_apex_with_saturation_correction', 'mz_lower', 'mz_upper',\n",
       "       'scan_apex', 'scan_lower', 'scan_upper', 'rt_apex', 'rt_lower',\n",
       "       'rt_upper', 'mono_intensity_without_saturation_correction',\n",
       "       'mono_intensity_with_saturation_correction',\n",
       "       'mono_intensity_adjustment_outcome', 'isotopic_peaks', 'scan_df',\n",
       "       'rt_df', 'monoisotopic_mz', 'charge', 'monoisotopic_mass',\n",
       "       'feature_intensity', 'envelope', 'isotope_count', 'deconvolution_score',\n",
       "       'precursor_cuboid_id', 'fragment_ions_l', 'feature_id', 'run_name',\n",
       "       'predicted_mass_error', 'recalibrated_monoisotopic_mass',\n",
       "       'recalibrated_monoisotopic_mz', 'file_idx', 'spectrum precursor m/z',\n",
       "       'spectrum neutral mass', 'peptide mass', 'percolator score',\n",
       "       'percolator q-value', 'percolator PEP', 'total matches/spectrum',\n",
       "       'sequence', 'protein id', 'flanking aa', 'observed_monoisotopic_mass',\n",
       "       'theoretical_peptide_mass', 'mass_accuracy_ppm', 'mass_error'],\n",
       "      dtype='object')"
      ]
     },
     "execution_count": 28,
     "metadata": {},
     "output_type": "execute_result"
    }
   ],
   "source": [
    "identifications_pasef_df.columns"
   ]
  },
  {
   "cell_type": "code",
   "execution_count": 31,
   "metadata": {},
   "outputs": [],
   "source": [
    "# exclude the features/idents that were above the charge-1 line (to make consistent with what 3DID does)\n",
    "identifications_pasef_df['exclude'] = identifications_pasef_df.apply(lambda row: True if row.scan_lower <= max_scan_for_mz(row.mz_apex_without_saturation_correction) else False, axis=1)"
   ]
  },
  {
   "cell_type": "code",
   "execution_count": 32,
   "metadata": {},
   "outputs": [
    {
     "data": {
      "text/plain": [
       "False    5955\n",
       "True      135\n",
       "Name: exclude, dtype: int64"
      ]
     },
     "execution_count": 32,
     "metadata": {},
     "output_type": "execute_result"
    }
   ],
   "source": [
    "identifications_pasef_df['exclude'].value_counts()"
   ]
  },
  {
   "cell_type": "code",
   "execution_count": 6,
   "metadata": {},
   "outputs": [],
   "source": [
    "# take the best instance of a unique sequence\n",
    "sequences_l = []\n",
    "for group_name,group_df in identifications_pasef_df.groupby(['sequence','charge'], as_index=False):\n",
    "    sequence = group_name[0]\n",
    "    charge = group_name[1]\n",
    "    best = group_df.loc[group_df['percolator q-value'].idxmin()]\n",
    "    sequences_l.append({'feature_id':best.feature_id, 'sequence':sequence, 'charge':charge, 'score':best['percolator score'], 'q_value':best['percolator q-value']})\n",
    "unique_identifications_pasef_df = pd.DataFrame(sequences_l)"
   ]
  },
  {
   "cell_type": "code",
   "execution_count": 7,
   "metadata": {},
   "outputs": [],
   "source": [
    "# load the features detected by 3DID\n",
    "with open(FEATURES_3DID_FILE, 'rb') as handle:\n",
    "    d = pickle.load(handle)\n",
    "features_3did_df = d['features_df']"
   ]
  },
  {
   "cell_type": "code",
   "execution_count": 8,
   "metadata": {},
   "outputs": [
    {
     "name": "stdout",
     "output_type": "stream",
     "text": [
      "80838 detected (4980 uniques identified with q-value < 0.01) by PASEF method, 62028 detected by 3DID method\n"
     ]
    }
   ],
   "source": [
    "print('{} detected ({} uniques identified with q-value < {}) by PASEF method, {} detected by 3DID method'.format(len(features_pasef_df), len(unique_identifications_pasef_df), MAXIMUM_Q_VALUE, len(features_3did_df)))\n"
   ]
  },
  {
   "cell_type": "code",
   "execution_count": 21,
   "metadata": {},
   "outputs": [
    {
     "data": {
      "text/plain": [
       "2    68841\n",
       "3     6129\n",
       "4     3923\n",
       "1     1167\n",
       "5      778\n",
       "Name: charge, dtype: int64"
      ]
     },
     "execution_count": 21,
     "metadata": {},
     "output_type": "execute_result"
    }
   ],
   "source": [
    "features_pasef_df.charge.value_counts()"
   ]
  },
  {
   "cell_type": "code",
   "execution_count": 22,
   "metadata": {},
   "outputs": [
    {
     "data": {
      "text/plain": [
       "2    45538\n",
       "3    10842\n",
       "4     4113\n",
       "5      788\n",
       "1      747\n",
       "Name: charge, dtype: int64"
      ]
     },
     "execution_count": 22,
     "metadata": {},
     "output_type": "execute_result"
    }
   ],
   "source": [
    "features_3did_df.charge.value_counts()"
   ]
  },
  {
   "cell_type": "code",
   "execution_count": 9,
   "metadata": {},
   "outputs": [],
   "source": [
    "DUP_MZ_TOLERANCE_PPM = 5\n",
    "DUP_SCAN_TOLERANCE = 2\n",
    "DUP_RT_TOLERANCE = 1"
   ]
  },
  {
   "cell_type": "code",
   "execution_count": 10,
   "metadata": {},
   "outputs": [],
   "source": [
    "# set up dup definitions for 3DID\n",
    "MZ_TOLERANCE_PERCENT = DUP_MZ_TOLERANCE_PPM * 10**-4\n",
    "features_3did_df['dup_mz'] = features_3did_df['monoisotopic_mz']  # shorthand to reduce verbosity\n",
    "features_3did_df['dup_mz_ppm_tolerance'] = features_3did_df.dup_mz * MZ_TOLERANCE_PERCENT / 100\n",
    "features_3did_df['dup_mz_lower'] = features_3did_df.dup_mz - features_3did_df.dup_mz_ppm_tolerance\n",
    "features_3did_df['dup_mz_upper'] = features_3did_df.dup_mz + features_3did_df.dup_mz_ppm_tolerance\n",
    "features_3did_df['dup_scan_lower'] = features_3did_df.scan_apex - DUP_SCAN_TOLERANCE\n",
    "features_3did_df['dup_scan_upper'] = features_3did_df.scan_apex + DUP_SCAN_TOLERANCE\n",
    "features_3did_df['dup_rt_lower'] = features_3did_df.rt_apex - DUP_RT_TOLERANCE\n",
    "features_3did_df['dup_rt_upper'] = features_3did_df.rt_apex + DUP_RT_TOLERANCE"
   ]
  },
  {
   "cell_type": "code",
   "execution_count": 11,
   "metadata": {},
   "outputs": [],
   "source": [
    "# set up dup definitions for PASEF\n",
    "MZ_TOLERANCE_PERCENT = DUP_MZ_TOLERANCE_PPM * 10**-4\n",
    "features_pasef_df['dup_mz'] = features_pasef_df['monoisotopic_mz']  # shorthand to reduce verbosity\n",
    "features_pasef_df['dup_mz_ppm_tolerance'] = features_pasef_df.dup_mz * MZ_TOLERANCE_PERCENT / 100\n",
    "features_pasef_df['dup_mz_lower'] = features_pasef_df.dup_mz - features_pasef_df.dup_mz_ppm_tolerance\n",
    "features_pasef_df['dup_mz_upper'] = features_pasef_df.dup_mz + features_pasef_df.dup_mz_ppm_tolerance\n",
    "features_pasef_df['dup_scan_lower'] = features_pasef_df.scan_apex - DUP_SCAN_TOLERANCE\n",
    "features_pasef_df['dup_scan_upper'] = features_pasef_df.scan_apex + DUP_SCAN_TOLERANCE\n",
    "features_pasef_df['dup_rt_lower'] = features_pasef_df.rt_apex - DUP_RT_TOLERANCE\n",
    "features_pasef_df['dup_rt_upper'] = features_pasef_df.rt_apex + DUP_RT_TOLERANCE"
   ]
  },
  {
   "cell_type": "code",
   "execution_count": 12,
   "metadata": {},
   "outputs": [
    {
     "data": {
      "text/plain": [
       "Index(['mz_apex_without_saturation_correction',\n",
       "       'mz_apex_with_saturation_correction', 'mz_lower', 'mz_upper',\n",
       "       'scan_apex', 'scan_lower', 'scan_upper', 'rt_apex', 'rt_lower',\n",
       "       'rt_upper', 'mono_intensity_without_saturation_correction',\n",
       "       'mono_intensity_with_saturation_correction',\n",
       "       'mono_intensity_adjustment_outcome', 'isotopic_peaks', 'scan_df',\n",
       "       'rt_df', 'monoisotopic_mz', 'charge', 'monoisotopic_mass',\n",
       "       'feature_intensity', 'envelope', 'isotope_count', 'deconvolution_score',\n",
       "       'precursor_cuboid_id', 'fragment_ions_l', 'feature_id', 'run_name',\n",
       "       'dup_mz', 'dup_mz_ppm_tolerance', 'dup_mz_lower', 'dup_mz_upper',\n",
       "       'dup_scan_lower', 'dup_scan_upper', 'dup_rt_lower', 'dup_rt_upper'],\n",
       "      dtype='object')"
      ]
     },
     "execution_count": 12,
     "metadata": {},
     "output_type": "execute_result"
    }
   ],
   "source": [
    "features_3did_df.columns"
   ]
  },
  {
   "cell_type": "code",
   "execution_count": 13,
   "metadata": {},
   "outputs": [],
   "source": [
    "features_pasef_df.sort_values(by=['deconvolution_score'], ascending=False, inplace=True)\n",
    "features_3did_df.sort_values(by=['deconvolution_score'], ascending=False, inplace=True)"
   ]
  },
  {
   "cell_type": "code",
   "execution_count": 14,
   "metadata": {},
   "outputs": [],
   "source": [
    "# find whether a feature detected by PASEF was also detected by 3DID\n",
    "common_l = []\n",
    "for row in features_pasef_df.itertuples():\n",
    "    df = features_3did_df[(features_3did_df.charge == row.charge) & (features_3did_df.dup_mz > row.dup_mz_lower) & (features_3did_df.dup_mz < row.dup_mz_upper) & (features_3did_df.scan_apex > row.dup_scan_lower) & (features_3did_df.scan_apex < row.dup_scan_upper) & (features_3did_df.rt_apex > row.dup_rt_lower) & (features_3did_df.rt_apex < row.dup_rt_upper)].copy()\n",
    "    if len(df) > 0:\n",
    "        common_l.append(\n",
    "            {\n",
    "                'feature_id_pasef':row.feature_id, \n",
    "                'deconv_score_pasef':row.deconvolution_score,\n",
    "                'feature_intensity_pasef':row.feature_intensity,\n",
    "                'feature_id_3did':df.iloc[0].feature_id, \n",
    "                'deconv_score_3did':df.iloc[0].deconvolution_score,\n",
    "                'feature_intensity_3did':df.iloc[0].feature_intensity\n",
    "            }\n",
    "        )\n",
    "common_df = pd.DataFrame(common_l)"
   ]
  },
  {
   "cell_type": "code",
   "execution_count": 15,
   "metadata": {},
   "outputs": [
    {
     "data": {
      "text/html": [
       "<div>\n",
       "<style scoped>\n",
       "    .dataframe tbody tr th:only-of-type {\n",
       "        vertical-align: middle;\n",
       "    }\n",
       "\n",
       "    .dataframe tbody tr th {\n",
       "        vertical-align: top;\n",
       "    }\n",
       "\n",
       "    .dataframe thead th {\n",
       "        text-align: right;\n",
       "    }\n",
       "</style>\n",
       "<table border=\"1\" class=\"dataframe\">\n",
       "  <thead>\n",
       "    <tr style=\"text-align: right;\">\n",
       "      <th></th>\n",
       "      <th>feature_id_pasef</th>\n",
       "      <th>deconv_score_pasef</th>\n",
       "      <th>feature_intensity_pasef</th>\n",
       "      <th>feature_id_3did</th>\n",
       "      <th>deconv_score_3did</th>\n",
       "      <th>feature_intensity_3did</th>\n",
       "    </tr>\n",
       "  </thead>\n",
       "  <tbody>\n",
       "    <tr>\n",
       "      <th>0</th>\n",
       "      <td>4201402</td>\n",
       "      <td>7950.768140</td>\n",
       "      <td>2470352</td>\n",
       "      <td>4934102</td>\n",
       "      <td>8034.788916</td>\n",
       "      <td>2369345</td>\n",
       "    </tr>\n",
       "    <tr>\n",
       "      <th>1</th>\n",
       "      <td>4022902</td>\n",
       "      <td>7167.560053</td>\n",
       "      <td>2355634</td>\n",
       "      <td>5456803</td>\n",
       "      <td>10099.115730</td>\n",
       "      <td>5038190</td>\n",
       "    </tr>\n",
       "    <tr>\n",
       "      <th>2</th>\n",
       "      <td>4256503</td>\n",
       "      <td>6688.417228</td>\n",
       "      <td>3243078</td>\n",
       "      <td>5456301</td>\n",
       "      <td>6902.283550</td>\n",
       "      <td>3499218</td>\n",
       "    </tr>\n",
       "    <tr>\n",
       "      <th>3</th>\n",
       "      <td>1755703</td>\n",
       "      <td>6341.592659</td>\n",
       "      <td>5979336</td>\n",
       "      <td>1780401</td>\n",
       "      <td>6385.548202</td>\n",
       "      <td>5984135</td>\n",
       "    </tr>\n",
       "    <tr>\n",
       "      <th>4</th>\n",
       "      <td>1258202</td>\n",
       "      <td>6244.506548</td>\n",
       "      <td>3657229</td>\n",
       "      <td>4713801</td>\n",
       "      <td>6372.979491</td>\n",
       "      <td>3797565</td>\n",
       "    </tr>\n",
       "    <tr>\n",
       "      <th>...</th>\n",
       "      <td>...</td>\n",
       "      <td>...</td>\n",
       "      <td>...</td>\n",
       "      <td>...</td>\n",
       "      <td>...</td>\n",
       "      <td>...</td>\n",
       "    </tr>\n",
       "    <tr>\n",
       "      <th>12548</th>\n",
       "      <td>3700001</td>\n",
       "      <td>174.087001</td>\n",
       "      <td>6649</td>\n",
       "      <td>11101</td>\n",
       "      <td>147.124423</td>\n",
       "      <td>5834</td>\n",
       "    </tr>\n",
       "    <tr>\n",
       "      <th>12549</th>\n",
       "      <td>2029801</td>\n",
       "      <td>173.729193</td>\n",
       "      <td>4978</td>\n",
       "      <td>72701</td>\n",
       "      <td>147.163543</td>\n",
       "      <td>4377</td>\n",
       "    </tr>\n",
       "    <tr>\n",
       "      <th>12550</th>\n",
       "      <td>921801</td>\n",
       "      <td>165.883396</td>\n",
       "      <td>5041</td>\n",
       "      <td>11001</td>\n",
       "      <td>121.103134</td>\n",
       "      <td>3519</td>\n",
       "    </tr>\n",
       "    <tr>\n",
       "      <th>12551</th>\n",
       "      <td>3678601</td>\n",
       "      <td>136.978021</td>\n",
       "      <td>3292</td>\n",
       "      <td>25101</td>\n",
       "      <td>111.639283</td>\n",
       "      <td>2534</td>\n",
       "    </tr>\n",
       "    <tr>\n",
       "      <th>12552</th>\n",
       "      <td>2496101</td>\n",
       "      <td>118.521255</td>\n",
       "      <td>3361</td>\n",
       "      <td>9201</td>\n",
       "      <td>113.608157</td>\n",
       "      <td>2521</td>\n",
       "    </tr>\n",
       "  </tbody>\n",
       "</table>\n",
       "<p>12553 rows × 6 columns</p>\n",
       "</div>"
      ],
      "text/plain": [
       "       feature_id_pasef  deconv_score_pasef  feature_intensity_pasef  \\\n",
       "0               4201402         7950.768140                  2470352   \n",
       "1               4022902         7167.560053                  2355634   \n",
       "2               4256503         6688.417228                  3243078   \n",
       "3               1755703         6341.592659                  5979336   \n",
       "4               1258202         6244.506548                  3657229   \n",
       "...                 ...                 ...                      ...   \n",
       "12548           3700001          174.087001                     6649   \n",
       "12549           2029801          173.729193                     4978   \n",
       "12550            921801          165.883396                     5041   \n",
       "12551           3678601          136.978021                     3292   \n",
       "12552           2496101          118.521255                     3361   \n",
       "\n",
       "       feature_id_3did  deconv_score_3did  feature_intensity_3did  \n",
       "0              4934102        8034.788916                 2369345  \n",
       "1              5456803       10099.115730                 5038190  \n",
       "2              5456301        6902.283550                 3499218  \n",
       "3              1780401        6385.548202                 5984135  \n",
       "4              4713801        6372.979491                 3797565  \n",
       "...                ...                ...                     ...  \n",
       "12548            11101         147.124423                    5834  \n",
       "12549            72701         147.163543                    4377  \n",
       "12550            11001         121.103134                    3519  \n",
       "12551            25101         111.639283                    2534  \n",
       "12552             9201         113.608157                    2521  \n",
       "\n",
       "[12553 rows x 6 columns]"
      ]
     },
     "execution_count": 15,
     "metadata": {},
     "output_type": "execute_result"
    }
   ],
   "source": [
    "common_df"
   ]
  },
  {
   "cell_type": "code",
   "execution_count": 16,
   "metadata": {},
   "outputs": [
    {
     "data": {
      "image/png": "[encoded data removed]",
      "text/plain": [
       "<Figure size 720x720 with 1 Axes>"
      ]
     },
     "metadata": {
      "needs_background": "light"
     },
     "output_type": "display_data"
    }
   ],
   "source": [
    "f, ax = plt.subplots()\n",
    "f.set_figheight(10)\n",
    "f.set_figwidth(10)\n",
    "\n",
    "plt.margins(0.06)\n",
    "plt.title('')\n",
    "\n",
    "ax.scatter(common_df.deconv_score_pasef, common_df.deconv_score_3did, marker='o', lw=0, s=15, alpha=0.6)\n",
    "\n",
    "ax.plot([0, 1], [0, 1], transform=ax.transAxes, linestyle=':', linewidth=2, color='darkorange')\n",
    "\n",
    "plt.xlim((-1,10000))\n",
    "plt.ylim((-1,10000))\n",
    "\n",
    "plt.xlabel('PASEF feature score')\n",
    "plt.ylabel('3DID feature score')\n",
    "\n",
    "plt.show()"
   ]
  },
  {
   "cell_type": "markdown",
   "metadata": {},
   "source": [
    "#### of the features identified by PASEF, how many were also detected by 3DID?"
   ]
  },
  {
   "cell_type": "code",
   "execution_count": 17,
   "metadata": {},
   "outputs": [],
   "source": [
    "features_3did_identified_df = pd.merge(unique_identifications_pasef_df, common_df, how='inner', left_on=['feature_id'], right_on=['feature_id_pasef'])\n"
   ]
  },
  {
   "cell_type": "code",
   "execution_count": 18,
   "metadata": {},
   "outputs": [
    {
     "data": {
      "text/html": [
       "<div>\n",
       "<style scoped>\n",
       "    .dataframe tbody tr th:only-of-type {\n",
       "        vertical-align: middle;\n",
       "    }\n",
       "\n",
       "    .dataframe tbody tr th {\n",
       "        vertical-align: top;\n",
       "    }\n",
       "\n",
       "    .dataframe thead th {\n",
       "        text-align: right;\n",
       "    }\n",
       "</style>\n",
       "<table border=\"1\" class=\"dataframe\">\n",
       "  <thead>\n",
       "    <tr style=\"text-align: right;\">\n",
       "      <th></th>\n",
       "      <th>feature_id</th>\n",
       "      <th>sequence</th>\n",
       "      <th>charge</th>\n",
       "      <th>score</th>\n",
       "      <th>q_value</th>\n",
       "      <th>feature_id_pasef</th>\n",
       "      <th>deconv_score_pasef</th>\n",
       "      <th>feature_intensity_pasef</th>\n",
       "      <th>feature_id_3did</th>\n",
       "      <th>deconv_score_3did</th>\n",
       "      <th>feature_intensity_3did</th>\n",
       "    </tr>\n",
       "  </thead>\n",
       "  <tbody>\n",
       "    <tr>\n",
       "      <th>1723</th>\n",
       "      <td>3210901</td>\n",
       "      <td>QSLGELIGTLNAAK</td>\n",
       "      <td>2</td>\n",
       "      <td>0.396979</td>\n",
       "      <td>0.000493</td>\n",
       "      <td>3210901</td>\n",
       "      <td>1140.330324</td>\n",
       "      <td>156511</td>\n",
       "      <td>1052301</td>\n",
       "      <td>1076.763000</td>\n",
       "      <td>156634</td>\n",
       "    </tr>\n",
       "    <tr>\n",
       "      <th>1731</th>\n",
       "      <td>2491704</td>\n",
       "      <td>QTTADFLTSVTSPSER</td>\n",
       "      <td>2</td>\n",
       "      <td>0.193755</td>\n",
       "      <td>0.000949</td>\n",
       "      <td>2491704</td>\n",
       "      <td>782.538565</td>\n",
       "      <td>56281</td>\n",
       "      <td>3172103</td>\n",
       "      <td>709.051804</td>\n",
       "      <td>55523</td>\n",
       "    </tr>\n",
       "    <tr>\n",
       "      <th>92</th>\n",
       "      <td>2361803</td>\n",
       "      <td>ALEHFTDLYDIK</td>\n",
       "      <td>2</td>\n",
       "      <td>0.737031</td>\n",
       "      <td>0.000287</td>\n",
       "      <td>2361803</td>\n",
       "      <td>864.602718</td>\n",
       "      <td>102810</td>\n",
       "      <td>1296001</td>\n",
       "      <td>814.545782</td>\n",
       "      <td>100685</td>\n",
       "    </tr>\n",
       "    <tr>\n",
       "      <th>1835</th>\n",
       "      <td>4044902</td>\n",
       "      <td>SAMQSVVDDWIESYK</td>\n",
       "      <td>2</td>\n",
       "      <td>0.624516</td>\n",
       "      <td>0.000287</td>\n",
       "      <td>4044902</td>\n",
       "      <td>789.119223</td>\n",
       "      <td>67805</td>\n",
       "      <td>3184801</td>\n",
       "      <td>395.719678</td>\n",
       "      <td>67940</td>\n",
       "    </tr>\n",
       "    <tr>\n",
       "      <th>65</th>\n",
       "      <td>3912503</td>\n",
       "      <td>AGSGTSQLDQLAALQALSSSLNK</td>\n",
       "      <td>2</td>\n",
       "      <td>0.885868</td>\n",
       "      <td>0.000287</td>\n",
       "      <td>3912503</td>\n",
       "      <td>959.276586</td>\n",
       "      <td>63988</td>\n",
       "      <td>5863401</td>\n",
       "      <td>853.161410</td>\n",
       "      <td>56054</td>\n",
       "    </tr>\n",
       "  </tbody>\n",
       "</table>\n",
       "</div>"
      ],
      "text/plain": [
       "      feature_id                 sequence  charge     score   q_value  \\\n",
       "1723     3210901           QSLGELIGTLNAAK       2  0.396979  0.000493   \n",
       "1731     2491704         QTTADFLTSVTSPSER       2  0.193755  0.000949   \n",
       "92       2361803             ALEHFTDLYDIK       2  0.737031  0.000287   \n",
       "1835     4044902          SAMQSVVDDWIESYK       2  0.624516  0.000287   \n",
       "65       3912503  AGSGTSQLDQLAALQALSSSLNK       2  0.885868  0.000287   \n",
       "\n",
       "      feature_id_pasef  deconv_score_pasef  feature_intensity_pasef  \\\n",
       "1723           3210901         1140.330324                   156511   \n",
       "1731           2491704          782.538565                    56281   \n",
       "92             2361803          864.602718                   102810   \n",
       "1835           4044902          789.119223                    67805   \n",
       "65             3912503          959.276586                    63988   \n",
       "\n",
       "      feature_id_3did  deconv_score_3did  feature_intensity_3did  \n",
       "1723          1052301        1076.763000                  156634  \n",
       "1731          3172103         709.051804                   55523  \n",
       "92            1296001         814.545782                  100685  \n",
       "1835          3184801         395.719678                   67940  \n",
       "65            5863401         853.161410                   56054  "
      ]
     },
     "execution_count": 18,
     "metadata": {},
     "output_type": "execute_result"
    }
   ],
   "source": [
    "features_3did_identified_df.sample(n=5)"
   ]
  },
  {
   "cell_type": "code",
   "execution_count": 19,
   "metadata": {},
   "outputs": [
    {
     "data": {
      "text/plain": [
       "2516"
      ]
     },
     "execution_count": 19,
     "metadata": {},
     "output_type": "execute_result"
    }
   ],
   "source": [
    "len(features_3did_identified_df)"
   ]
  },
  {
   "cell_type": "code",
   "execution_count": 20,
   "metadata": {},
   "outputs": [
    {
     "data": {
      "text/plain": [
       "4980"
      ]
     },
     "execution_count": 20,
     "metadata": {},
     "output_type": "execute_result"
    }
   ],
   "source": [
    "len(unique_identifications_pasef_df)"
   ]
  }
 ],
 "metadata": {
  "kernelspec": {
   "display_name": "Python 3",
   "language": "python",
   "name": "python3"
  },
  "language_info": {
   "codemirror_mode": {
    "name": "ipython",
    "version": 3
   },
   "file_extension": ".py",
   "mimetype": "text/x-python",
   "name": "python",
   "nbconvert_exporter": "python",
   "pygments_lexer": "ipython3",
   "version": "3.8.5"
  }
 },
 "nbformat": 4,
 "nbformat_minor": 4
}
