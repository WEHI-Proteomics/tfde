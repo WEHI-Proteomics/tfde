{
 "cells": [
  {
   "cell_type": "code",
   "execution_count": 1,
   "metadata": {},
   "outputs": [],
   "source": [
    "import pandas as pd\n",
    "import numpy as np\n",
    "import os\n",
    "import matplotlib.pyplot as plt\n",
    "import pickle\n",
    "import json\n",
    "from os.path import expanduser\n",
    "import sqlite3"
   ]
  },
  {
   "cell_type": "markdown",
   "metadata": {},
   "source": [
    "#### compare PASEF features that were identified and see whether 3DID also detected them"
   ]
  },
  {
   "cell_type": "code",
   "execution_count": 2,
   "metadata": {},
   "outputs": [],
   "source": [
    "experiment_name = 'P3856'\n",
    "run_name = 'P3856_YHE211_1_Slot1-1_1_5104'\n",
    "\n",
    "EXPERIMENT_DIR = '/media/big-ssd/experiments/{}'.format(experiment_name)\n",
    "\n",
    "RESULTS_DIR = '/media/big-ssd/results-P3856'\n",
    "# IDENTS_PASEF_DIR = '{}/P3856-results-cs-true-fmdw-true-2021-05-20-02-44-34/identifications-pasef'.format(RESULTS_DIR)\n",
    "IDENTS_PASEF_DIR = '{}/identifications-pasef'.format(EXPERIMENT_DIR)\n",
    "IDENTS_PASEF_FILE = '{}/exp-{}-identifications-pasef-recalibrated.pkl'.format(IDENTS_PASEF_DIR, experiment_name)\n",
    "\n",
    "# FEATURES_PASEF_DIR = '{}/P3856-results-cs-true-fmdw-true-2021-05-20-02-44-34/features-pasef'.format(RESULTS_DIR)\n",
    "FEATURES_PASEF_DIR = '{}/features-pasef'.format(EXPERIMENT_DIR)\n",
    "FEATURES_PASEF_FILE = '{}/exp-{}-run-{}-features-pasef-dedup.pkl'.format(FEATURES_PASEF_DIR, experiment_name, run_name)\n",
    "\n",
    "FEATURES_3DID_DIR = '{}/features-3did'.format(EXPERIMENT_DIR)\n",
    "FEATURES_3DID_FILE = '{}/exp-{}-run-{}-features-3did-dedup.pkl'.format(FEATURES_3DID_DIR, experiment_name, run_name)\n",
    "\n",
    "FEATURES_MQ_DIR = '{}/features-mq'.format(EXPERIMENT_DIR)\n",
    "FEATURES_MQ_FILE = '{}/exp-{}-run-{}-features-mq-dedup.pkl'.format(FEATURES_MQ_DIR, experiment_name, run_name)"
   ]
  },
  {
   "cell_type": "code",
   "execution_count": 3,
   "metadata": {},
   "outputs": [],
   "source": [
    "MAXIMUM_Q_VALUE = 0.01"
   ]
  },
  {
   "cell_type": "raw",
   "metadata": {},
   "source": [
    "# for limiting the feature scope\n",
    "mz_lower = 700\n",
    "mz_upper = 720\n",
    "scan_lower = 450\n",
    "rt_lower = 1650\n",
    "rt_upper = 2200"
   ]
  },
  {
   "cell_type": "code",
   "execution_count": 4,
   "metadata": {},
   "outputs": [],
   "source": [
    "# define a straight line to exclude the charge-1 cloud\n",
    "def scan_coords_for_single_charge_region(mz_lower, mz_upper):\n",
    "    scan_for_mz_lower = max(int(-1 * ((1.2 * mz_lower) - 1252)), 0)\n",
    "    scan_for_mz_upper = max(int(-1 * ((1.2 * mz_upper) - 1252)), 0)\n",
    "    return {'scan_for_mz_lower':scan_for_mz_lower, 'scan_for_mz_upper':scan_for_mz_upper}"
   ]
  },
  {
   "cell_type": "code",
   "execution_count": 5,
   "metadata": {},
   "outputs": [],
   "source": [
    "# load the features identified by PASEF\n",
    "with open(IDENTS_PASEF_FILE, 'rb') as handle:\n",
    "    d = pickle.load(handle)\n",
    "idents_pasef_df = d['identifications_df']\n",
    "idents_pasef_df = idents_pasef_df[(idents_pasef_df.run_name == run_name) & (idents_pasef_df['percolator q-value'] <= MAXIMUM_Q_VALUE)].copy()\n",
    "# idents_pasef_df = idents_pasef_df[(idents_pasef_df.mono_mz > mz_lower) & (idents_pasef_df.mono_mz < mz_upper) & (idents_pasef_df.scan_apex > scan_lower) & (idents_pasef_df.rt_apex > rt_lower) & (idents_pasef_df.rt_apex < rt_upper)]"
   ]
  },
  {
   "cell_type": "code",
   "execution_count": 6,
   "metadata": {},
   "outputs": [],
   "source": [
    "idents_pasef_df['excluded'] = idents_pasef_df.apply(lambda row: row.scan_apex < scan_coords_for_single_charge_region(row.monoisotopic_mz, row.monoisotopic_mz)['scan_for_mz_lower'], axis=1)\n",
    "idents_pasef_df = idents_pasef_df[(idents_pasef_df.excluded == False)]"
   ]
  },
  {
   "cell_type": "code",
   "execution_count": 7,
   "metadata": {},
   "outputs": [],
   "source": [
    "# load the features detected by PASEF\n",
    "with open(FEATURES_PASEF_FILE, 'rb') as handle:\n",
    "    d = pickle.load(handle)\n",
    "features_pasef_df = d['features_df']"
   ]
  },
  {
   "cell_type": "code",
   "execution_count": 8,
   "metadata": {},
   "outputs": [],
   "source": [
    "features_pasef_df['excluded'] = features_pasef_df.apply(lambda row: row.scan_apex < scan_coords_for_single_charge_region(row.monoisotopic_mz, row.monoisotopic_mz)['scan_for_mz_lower'], axis=1)\n",
    "features_pasef_df = features_pasef_df[(features_pasef_df.excluded == False)]"
   ]
  },
  {
   "cell_type": "code",
   "execution_count": 9,
   "metadata": {},
   "outputs": [],
   "source": [
    "# load the features detected by 3DID\n",
    "with open(FEATURES_3DID_FILE, 'rb') as handle:\n",
    "    d = pickle.load(handle)\n",
    "features_3did_df = d['features_df']"
   ]
  },
  {
   "cell_type": "code",
   "execution_count": 10,
   "metadata": {},
   "outputs": [],
   "source": [
    "# load the features detected by MaxQuant\n",
    "with open(FEATURES_MQ_FILE, 'rb') as handle:\n",
    "    d = pickle.load(handle)\n",
    "features_mq_df = d['features_df']"
   ]
  },
  {
   "cell_type": "code",
   "execution_count": 11,
   "metadata": {},
   "outputs": [],
   "source": [
    "features_mq_df['excluded'] = features_mq_df.apply(lambda row: row.scan_apex < scan_coords_for_single_charge_region(row.monoisotopic_mz, row.monoisotopic_mz)['scan_for_mz_lower'], axis=1)\n",
    "features_mq_df = features_mq_df[(features_mq_df.excluded == False)].copy()"
   ]
  },
  {
   "cell_type": "code",
   "execution_count": 12,
   "metadata": {},
   "outputs": [
    {
     "name": "stdout",
     "output_type": "stream",
     "text": [
      "73312 features from PASEF, 23107 features from MaxQuant, 158249 features from 3DID\n"
     ]
    }
   ],
   "source": [
    "print('{} features from PASEF, {} features from MaxQuant, {} features from 3DID'.format(len(features_pasef_df), len(features_mq_df), len(features_3did_df)))\n"
   ]
  },
  {
   "cell_type": "code",
   "execution_count": 13,
   "metadata": {},
   "outputs": [
    {
     "data": {
      "text/plain": [
       "2    54989\n",
       "3     7937\n",
       "1     7148\n",
       "4     2153\n",
       "5      669\n",
       "6      287\n",
       "8       70\n",
       "7       59\n",
       "Name: charge, dtype: int64"
      ]
     },
     "execution_count": 13,
     "metadata": {},
     "output_type": "execute_result"
    }
   ],
   "source": [
    "features_pasef_df.charge.value_counts()"
   ]
  },
  {
   "cell_type": "code",
   "execution_count": 14,
   "metadata": {},
   "outputs": [
    {
     "data": {
      "text/plain": [
       "2    19067\n",
       "3     3097\n",
       "4      628\n",
       "1      315\n",
       "Name: charge, dtype: int64"
      ]
     },
     "execution_count": 14,
     "metadata": {},
     "output_type": "execute_result"
    }
   ],
   "source": [
    "features_mq_df.charge.value_counts()"
   ]
  },
  {
   "cell_type": "code",
   "execution_count": 15,
   "metadata": {},
   "outputs": [
    {
     "data": {
      "text/plain": [
       "2    123791\n",
       "1     18267\n",
       "3     13067\n",
       "4      2036\n",
       "5       822\n",
       "6       182\n",
       "7        49\n",
       "8        35\n",
       "Name: charge, dtype: int64"
      ]
     },
     "execution_count": 15,
     "metadata": {},
     "output_type": "execute_result"
    }
   ],
   "source": [
    "features_3did_df.charge.value_counts()"
   ]
  },
  {
   "cell_type": "code",
   "execution_count": 42,
   "metadata": {},
   "outputs": [
    {
     "data": {
      "image/png": "[encoded data removed]",
      "text/plain": [
       "<Figure size 1080x576 with 1 Axes>"
      ]
     },
     "metadata": {
      "needs_background": "light"
     },
     "output_type": "display_data"
    }
   ],
   "source": [
    "f, ax1 = plt.subplots()\n",
    "f.set_figheight(8)\n",
    "f.set_figwidth(15)\n",
    "\n",
    "plt.margins(0.06)\n",
    "plt.title('')\n",
    "\n",
    "barwidth = 0.2\n",
    "max_charge = max(features_pasef_df.charge.max(), features_mq_df.charge.max(), features_3did_df.charge.max())\n",
    "\n",
    "pos1 = [x - barwidth for x in range(max_charge+1)]\n",
    "pos2 = [x + barwidth for x in pos1]\n",
    "pos3 = [x + (2*barwidth) for x in pos1]\n",
    "\n",
    "counts = np.bincount(features_mq_df.charge, minlength=9)\n",
    "ax1.bar(pos1, counts, width=barwidth, align='center', log=True, label='MaxQuant')\n",
    "\n",
    "counts = np.bincount(features_pasef_df.charge, minlength=9)\n",
    "ax1.bar(pos2, counts, width=barwidth, align='center', log=True, label='PASEF-seeded')\n",
    "\n",
    "counts = np.bincount(features_3did_df.charge, minlength=9)\n",
    "ax1.bar(pos3, counts, width=barwidth, align='center', log=True, label='3DID')\n",
    "\n",
    "ax1.set(xticks=range(1,max_charge+1), xlim=[0, max_charge+1])\n",
    "\n",
    "plt.xlabel('charge state')\n",
    "plt.ylabel('log count')\n",
    "plt.title('distribution of charge states for detected features\\nrun {}, experiment {}'.format(run_name, experiment_name))\n",
    "\n",
    "plt.legend()\n",
    "plt.show()"
   ]
  },
  {
   "cell_type": "markdown",
   "metadata": {},
   "source": [
    "#### find the features in common"
   ]
  },
  {
   "cell_type": "code",
   "execution_count": 17,
   "metadata": {},
   "outputs": [],
   "source": [
    "DUP_MZ_TOLERANCE_PPM = 5\n",
    "DUP_SCAN_TOLERANCE = 10\n",
    "DUP_RT_TOLERANCE = 5"
   ]
  },
  {
   "cell_type": "code",
   "execution_count": 18,
   "metadata": {},
   "outputs": [],
   "source": [
    "# set up dup definitions for 3DID\n",
    "MZ_TOLERANCE_PERCENT = DUP_MZ_TOLERANCE_PPM * 10**-4\n",
    "features_3did_df['dup_mz'] = features_3did_df['monoisotopic_mz']  # shorthand to reduce verbosity\n",
    "features_3did_df['dup_mz_ppm_tolerance'] = features_3did_df.dup_mz * MZ_TOLERANCE_PERCENT / 100\n",
    "features_3did_df['dup_mz_lower'] = features_3did_df.dup_mz - features_3did_df.dup_mz_ppm_tolerance\n",
    "features_3did_df['dup_mz_upper'] = features_3did_df.dup_mz + features_3did_df.dup_mz_ppm_tolerance\n",
    "features_3did_df['dup_scan_lower'] = features_3did_df.scan_apex - DUP_SCAN_TOLERANCE\n",
    "features_3did_df['dup_scan_upper'] = features_3did_df.scan_apex + DUP_SCAN_TOLERANCE\n",
    "features_3did_df['dup_rt_lower'] = features_3did_df.rt_apex - DUP_RT_TOLERANCE\n",
    "features_3did_df['dup_rt_upper'] = features_3did_df.rt_apex + DUP_RT_TOLERANCE"
   ]
  },
  {
   "cell_type": "code",
   "execution_count": 19,
   "metadata": {},
   "outputs": [],
   "source": [
    "# set up dup definitions for PASEF\n",
    "MZ_TOLERANCE_PERCENT = DUP_MZ_TOLERANCE_PPM * 10**-4\n",
    "idents_pasef_df['dup_mz'] = idents_pasef_df['monoisotopic_mz']  # shorthand to reduce verbosity\n",
    "idents_pasef_df['dup_mz_ppm_tolerance'] = idents_pasef_df.dup_mz * MZ_TOLERANCE_PERCENT / 100\n",
    "idents_pasef_df['dup_mz_lower'] = idents_pasef_df.dup_mz - idents_pasef_df.dup_mz_ppm_tolerance\n",
    "idents_pasef_df['dup_mz_upper'] = idents_pasef_df.dup_mz + idents_pasef_df.dup_mz_ppm_tolerance\n",
    "idents_pasef_df['dup_scan_lower'] = idents_pasef_df.scan_apex - DUP_SCAN_TOLERANCE\n",
    "idents_pasef_df['dup_scan_upper'] = idents_pasef_df.scan_apex + DUP_SCAN_TOLERANCE\n",
    "idents_pasef_df['dup_rt_lower'] = idents_pasef_df.rt_apex - DUP_RT_TOLERANCE\n",
    "idents_pasef_df['dup_rt_upper'] = idents_pasef_df.rt_apex + DUP_RT_TOLERANCE"
   ]
  },
  {
   "cell_type": "code",
   "execution_count": 20,
   "metadata": {},
   "outputs": [],
   "source": [
    "idents_pasef_df.sort_values(by=['deconvolution_score'], ascending=False, inplace=True)\n",
    "features_3did_df.sort_values(by=['deconvolution_score'], ascending=False, inplace=True)"
   ]
  },
  {
   "cell_type": "code",
   "execution_count": 21,
   "metadata": {},
   "outputs": [],
   "source": [
    "# find whether a feature detected by PASEF was also detected by 3DID\n",
    "common_l = []\n",
    "features_processed = set()\n",
    "for row in idents_pasef_df.itertuples():\n",
    "    if row.feature_id not in features_processed:\n",
    "        df = features_3did_df[(row.charge == features_3did_df.charge) & (row.dup_mz >= features_3did_df.dup_mz_lower) & (row.dup_mz <= features_3did_df.dup_mz_upper) & (row.scan_apex >= features_3did_df.dup_scan_lower) & (row.scan_apex <= features_3did_df.dup_scan_upper) & (row.rt_apex >= features_3did_df.dup_rt_lower) & (row.rt_apex <= features_3did_df.dup_rt_upper)].copy()\n",
    "        if len(df) > 0:\n",
    "            common_l.append(\n",
    "                {\n",
    "                    'feature_id_pasef':row.feature_id, \n",
    "                    'deconv_score_pasef':row.deconvolution_score,\n",
    "                    'feature_intensity_pasef':row.feature_intensity,\n",
    "                    'feature_id_3did':df.iloc[0].feature_id, \n",
    "                    'deconv_score_3did':df.iloc[0].deconvolution_score,\n",
    "                    'feature_intensity_3did':df.iloc[0].feature_intensity\n",
    "                }\n",
    "            )\n",
    "            # record the features that have been processed\n",
    "            features_processed.update(set(df.feature_id.tolist()))\n",
    "\n",
    "common_pasef_3did_df = pd.DataFrame(common_l)"
   ]
  },
  {
   "cell_type": "code",
   "execution_count": 22,
   "metadata": {},
   "outputs": [
    {
     "name": "stdout",
     "output_type": "stream",
     "text": [
      "5819 features in common\n"
     ]
    }
   ],
   "source": [
    "print('{} features in common'.format(len(common_pasef_3did_df)))"
   ]
  },
  {
   "cell_type": "code",
   "execution_count": 23,
   "metadata": {},
   "outputs": [
    {
     "data": {
      "image/png": "[encoded data removed]",
      "text/plain": [
       "<Figure size 720x720 with 1 Axes>"
      ]
     },
     "metadata": {
      "needs_background": "light"
     },
     "output_type": "display_data"
    }
   ],
   "source": [
    "f, ax = plt.subplots()\n",
    "f.set_figheight(10)\n",
    "f.set_figwidth(10)\n",
    "\n",
    "plt.margins(0.06)\n",
    "# plt.title('deconvolution score for features identified by PASEF-seeded and features detected by 3DID methods')\n",
    "\n",
    "ax.scatter(common_pasef_3did_df.deconv_score_pasef, common_pasef_3did_df.deconv_score_3did, marker='o', lw=0, s=15, alpha=0.6)\n",
    "\n",
    "ax.plot([0, 1], [0, 1], transform=ax.transAxes, linestyle=':', linewidth=2, color='darkorange')\n",
    "\n",
    "plt.xlim((-1,4000))\n",
    "plt.ylim((-1,4000))\n",
    "\n",
    "plt.xlabel('PASEF feature score')\n",
    "plt.ylabel('3DID feature score')\n",
    "\n",
    "plt.show()"
   ]
  },
  {
   "cell_type": "markdown",
   "metadata": {},
   "source": [
    "#### visualise a feature detected and identified by PASEF but not by 3DID"
   ]
  },
  {
   "cell_type": "code",
   "execution_count": 24,
   "metadata": {},
   "outputs": [],
   "source": [
    "# find the PASEF feature IDs that are not in the common set\n",
    "feature_ids_not_found_by_3did_l = list(set(idents_pasef_df.feature_id.to_list()) - set(common_pasef_3did_df.feature_id_pasef.to_list()))\n"
   ]
  },
  {
   "cell_type": "code",
   "execution_count": 25,
   "metadata": {},
   "outputs": [
    {
     "data": {
      "text/plain": [
       "2850"
      ]
     },
     "execution_count": 25,
     "metadata": {},
     "output_type": "execute_result"
    }
   ],
   "source": [
    "len(feature_ids_not_found_by_3did_l)"
   ]
  },
  {
   "cell_type": "code",
   "execution_count": 26,
   "metadata": {},
   "outputs": [
    {
     "data": {
      "text/plain": [
       "3694801"
      ]
     },
     "execution_count": 26,
     "metadata": {},
     "output_type": "execute_result"
    }
   ],
   "source": [
    "import random\n",
    "\n",
    "pasef_feature_not_detected = random.choice(feature_ids_not_found_by_3did_l)\n",
    "pasef_feature_not_detected"
   ]
  },
  {
   "cell_type": "code",
   "execution_count": 27,
   "metadata": {},
   "outputs": [
    {
     "data": {
      "text/html": [
       "<div>\n",
       "<style scoped>\n",
       "    .dataframe tbody tr th:only-of-type {\n",
       "        vertical-align: middle;\n",
       "    }\n",
       "\n",
       "    .dataframe tbody tr th {\n",
       "        vertical-align: top;\n",
       "    }\n",
       "\n",
       "    .dataframe thead th {\n",
       "        text-align: right;\n",
       "    }\n",
       "</style>\n",
       "<table border=\"1\" class=\"dataframe\">\n",
       "  <thead>\n",
       "    <tr style=\"text-align: right;\">\n",
       "      <th></th>\n",
       "      <th>mono_mz_lower</th>\n",
       "      <th>mono_mz_upper</th>\n",
       "      <th>scan_apex</th>\n",
       "      <th>scan_lower</th>\n",
       "      <th>scan_upper</th>\n",
       "      <th>rt_apex</th>\n",
       "      <th>rt_lower</th>\n",
       "      <th>rt_upper</th>\n",
       "      <th>intensity_without_saturation_correction</th>\n",
       "      <th>intensity_with_saturation_correction</th>\n",
       "      <th>...</th>\n",
       "      <th>mass_error</th>\n",
       "      <th>excluded</th>\n",
       "      <th>dup_mz</th>\n",
       "      <th>dup_mz_ppm_tolerance</th>\n",
       "      <th>dup_mz_lower</th>\n",
       "      <th>dup_mz_upper</th>\n",
       "      <th>dup_scan_lower</th>\n",
       "      <th>dup_scan_upper</th>\n",
       "      <th>dup_rt_lower</th>\n",
       "      <th>dup_rt_upper</th>\n",
       "    </tr>\n",
       "  </thead>\n",
       "  <tbody>\n",
       "    <tr>\n",
       "      <th>2500</th>\n",
       "      <td>1069.47567</td>\n",
       "      <td>1069.543796</td>\n",
       "      <td>180.0</td>\n",
       "      <td>148</td>\n",
       "      <td>205</td>\n",
       "      <td>2092.896672</td>\n",
       "      <td>2088.133066</td>\n",
       "      <td>2096.601745</td>\n",
       "      <td>6458.0</td>\n",
       "      <td>6458.0</td>\n",
       "      <td>...</td>\n",
       "      <td>0.005541</td>\n",
       "      <td>False</td>\n",
       "      <td>1069.509733</td>\n",
       "      <td>0.005348</td>\n",
       "      <td>1069.504385</td>\n",
       "      <td>1069.515081</td>\n",
       "      <td>170.0</td>\n",
       "      <td>190.0</td>\n",
       "      <td>2087.896672</td>\n",
       "      <td>2097.896672</td>\n",
       "    </tr>\n",
       "  </tbody>\n",
       "</table>\n",
       "<p>1 rows × 54 columns</p>\n",
       "</div>"
      ],
      "text/plain": [
       "      mono_mz_lower  mono_mz_upper  scan_apex  scan_lower  scan_upper  \\\n",
       "2500     1069.47567    1069.543796      180.0         148         205   \n",
       "\n",
       "          rt_apex     rt_lower     rt_upper  \\\n",
       "2500  2092.896672  2088.133066  2096.601745   \n",
       "\n",
       "      intensity_without_saturation_correction  \\\n",
       "2500                                   6458.0   \n",
       "\n",
       "      intensity_with_saturation_correction  ... mass_error  excluded  \\\n",
       "2500                                6458.0  ...   0.005541     False   \n",
       "\n",
       "           dup_mz dup_mz_ppm_tolerance dup_mz_lower  dup_mz_upper  \\\n",
       "2500  1069.509733             0.005348  1069.504385   1069.515081   \n",
       "\n",
       "      dup_scan_lower  dup_scan_upper  dup_rt_lower dup_rt_upper  \n",
       "2500           170.0           190.0   2087.896672  2097.896672  \n",
       "\n",
       "[1 rows x 54 columns]"
      ]
     },
     "execution_count": 27,
     "metadata": {},
     "output_type": "execute_result"
    }
   ],
   "source": [
    "idents_pasef_df[(idents_pasef_df.feature_id == pasef_feature_not_detected)]"
   ]
  },
  {
   "cell_type": "markdown",
   "metadata": {},
   "source": [
    "#### plot the intensities of features identified by PASEF but not detected by 3DID"
   ]
  },
  {
   "cell_type": "code",
   "execution_count": 28,
   "metadata": {},
   "outputs": [],
   "source": [
    "idents_pasef_df['log_intensity'] = np.log10(idents_pasef_df.feature_intensity)"
   ]
  },
  {
   "cell_type": "code",
   "execution_count": 29,
   "metadata": {},
   "outputs": [],
   "source": [
    "idents_pasef_df['not_detected_3did'] = idents_pasef_df.apply(lambda row: row.feature_id in feature_ids_not_found_by_3did_l, axis=1)"
   ]
  },
  {
   "cell_type": "code",
   "execution_count": 30,
   "metadata": {},
   "outputs": [],
   "source": [
    "idents_not_detected_3did_df = idents_pasef_df[(idents_pasef_df.not_detected_3did == True)]"
   ]
  },
  {
   "cell_type": "code",
   "execution_count": 31,
   "metadata": {},
   "outputs": [
    {
     "data": {
      "image/png": "[encoded data removed]",
      "text/plain": [
       "<Figure size 1080x576 with 1 Axes>"
      ]
     },
     "metadata": {
      "needs_background": "light"
     },
     "output_type": "display_data"
    }
   ],
   "source": [
    "f, ax1 = plt.subplots()\n",
    "f.set_figheight(8)\n",
    "f.set_figwidth(15)\n",
    "\n",
    "plt.margins(0.06)\n",
    "plt.title('PASEF-driven features')\n",
    "\n",
    "bins = 100\n",
    "hist, bins, _ = plt.hist(idents_pasef_df.log_intensity, bins=bins, label='PASEF-driven identified feature')\n",
    "hist, bins, _ = plt.hist(idents_not_detected_3did_df.log_intensity, bins=bins, label='PASEF-driven identified feature not detected by 3DID')\n",
    "\n",
    "plt.xlabel('log10 feature intensity')\n",
    "plt.ylabel('count')\n",
    "\n",
    "# plt.xlim((-20,20))\n",
    "# plt.ylim((0,300))\n",
    "\n",
    "plt.legend()\n",
    "plt.show()"
   ]
  },
  {
   "cell_type": "markdown",
   "metadata": {},
   "source": [
    "#### plot the intensities of features identified by MaxQuant but not detected by 3DID"
   ]
  },
  {
   "cell_type": "code",
   "execution_count": 32,
   "metadata": {},
   "outputs": [],
   "source": [
    "# set up dup definitions for MaxQuant\n",
    "MZ_TOLERANCE_PERCENT = DUP_MZ_TOLERANCE_PPM * 10**-4\n",
    "features_mq_df['dup_mz'] = features_mq_df['monoisotopic_mz']  # shorthand to reduce verbosity\n",
    "features_mq_df['dup_mz_ppm_tolerance'] = features_mq_df.dup_mz * MZ_TOLERANCE_PERCENT / 100\n",
    "features_mq_df['dup_mz_lower'] = features_mq_df.dup_mz - idents_pasef_df.dup_mz_ppm_tolerance\n",
    "features_mq_df['dup_mz_upper'] = features_mq_df.dup_mz + idents_pasef_df.dup_mz_ppm_tolerance\n",
    "features_mq_df['dup_scan_lower'] = features_mq_df.scan_apex - DUP_SCAN_TOLERANCE\n",
    "features_mq_df['dup_scan_upper'] = features_mq_df.scan_apex + DUP_SCAN_TOLERANCE\n",
    "features_mq_df['dup_rt_lower'] = features_mq_df.rt_apex - DUP_RT_TOLERANCE\n",
    "features_mq_df['dup_rt_upper'] = features_mq_df.rt_apex + DUP_RT_TOLERANCE"
   ]
  },
  {
   "cell_type": "code",
   "execution_count": 33,
   "metadata": {},
   "outputs": [],
   "source": [
    "# find whether a feature detected by MaxQuant was also detected by 3DID\n",
    "common_l = []\n",
    "features_processed = set()\n",
    "for row in features_mq_df.itertuples():\n",
    "    if row.feature_id not in features_processed:\n",
    "        df = features_3did_df[(row.charge == features_3did_df.charge) & (row.dup_mz >= features_3did_df.dup_mz_lower) & (row.dup_mz <= features_3did_df.dup_mz_upper) & (row.scan_apex >= features_3did_df.dup_scan_lower) & (row.scan_apex <= features_3did_df.dup_scan_upper) & (row.rt_apex >= features_3did_df.dup_rt_lower) & (row.rt_apex <= features_3did_df.dup_rt_upper)].copy()\n",
    "        if len(df) > 0:\n",
    "            common_l.append(\n",
    "                {\n",
    "                    'feature_id_mq':row.feature_id, \n",
    "                    'feature_intensity_mq':row.intensity,\n",
    "                    'feature_id_3did':df.iloc[0].feature_id, \n",
    "                    'deconv_score_3did':df.iloc[0].deconvolution_score,\n",
    "                    'feature_intensity_3did':df.iloc[0].feature_intensity\n",
    "                }\n",
    "            )\n",
    "            # record the features that have been processed\n",
    "            features_processed.update(set(df.feature_id.tolist()))\n",
    "\n",
    "common_mq_3did_df = pd.DataFrame(common_l)"
   ]
  },
  {
   "cell_type": "code",
   "execution_count": 34,
   "metadata": {},
   "outputs": [
    {
     "name": "stdout",
     "output_type": "stream",
     "text": [
      "11945 features in common\n"
     ]
    }
   ],
   "source": [
    "print('{} features in common'.format(len(common_mq_3did_df)))"
   ]
  },
  {
   "cell_type": "code",
   "execution_count": 35,
   "metadata": {},
   "outputs": [],
   "source": [
    "# find the PASEF feature IDs that are not in the common set\n",
    "feature_ids_not_found_by_3did_l = list(set(features_mq_df.feature_id.to_list()) - set(common_mq_3did_df.feature_id_mq.to_list()))\n"
   ]
  },
  {
   "cell_type": "code",
   "execution_count": 36,
   "metadata": {},
   "outputs": [
    {
     "data": {
      "text/plain": [
       "11162"
      ]
     },
     "execution_count": 36,
     "metadata": {},
     "output_type": "execute_result"
    }
   ],
   "source": [
    "len(feature_ids_not_found_by_3did_l)"
   ]
  },
  {
   "cell_type": "code",
   "execution_count": 37,
   "metadata": {},
   "outputs": [],
   "source": [
    "features_mq_df['log_intensity'] = np.log10(features_mq_df.intensity)"
   ]
  },
  {
   "cell_type": "code",
   "execution_count": 38,
   "metadata": {},
   "outputs": [],
   "source": [
    "features_mq_df['not_detected_3did'] = features_mq_df.apply(lambda row: row.feature_id in feature_ids_not_found_by_3did_l, axis=1)"
   ]
  },
  {
   "cell_type": "code",
   "execution_count": 39,
   "metadata": {},
   "outputs": [],
   "source": [
    "idents_not_detected_3did_df = features_mq_df[(features_mq_df.not_detected_3did == True)]"
   ]
  },
  {
   "cell_type": "code",
   "execution_count": 40,
   "metadata": {},
   "outputs": [
    {
     "data": {
      "image/png": "[encoded data removed]",
      "text/plain": [
       "<Figure size 1080x576 with 1 Axes>"
      ]
     },
     "metadata": {
      "needs_background": "light"
     },
     "output_type": "display_data"
    }
   ],
   "source": [
    "f, ax1 = plt.subplots()\n",
    "f.set_figheight(8)\n",
    "f.set_figwidth(15)\n",
    "\n",
    "plt.margins(0.06)\n",
    "plt.title('MaxQuant features')\n",
    "\n",
    "bins = 100\n",
    "hist, bins, _ = plt.hist(features_mq_df.log_intensity, bins=bins, label='MaxQuant feature')\n",
    "hist, bins, _ = plt.hist(idents_not_detected_3did_df.log_intensity, bins=bins, label='MaxQuant feature not detected by 3DID')\n",
    "\n",
    "plt.xlabel('log10 feature intensity')\n",
    "plt.ylabel('count')\n",
    "\n",
    "# plt.xlim((-20,20))\n",
    "# plt.ylim((0,300))\n",
    "\n",
    "plt.legend()\n",
    "plt.show()"
   ]
  },
  {
   "cell_type": "code",
   "execution_count": null,
   "metadata": {},
   "outputs": [],
   "source": []
  }
 ],
 "metadata": {
  "kernelspec": {
   "display_name": "Python 3",
   "language": "python",
   "name": "python3"
  },
  "language_info": {
   "codemirror_mode": {
    "name": "ipython",
    "version": 3
   },
   "file_extension": ".py",
   "mimetype": "text/x-python",
   "name": "python",
   "nbconvert_exporter": "python",
   "pygments_lexer": "ipython3",
   "version": "3.8.5"
  }
 },
 "nbformat": 4,
 "nbformat_minor": 4
}
