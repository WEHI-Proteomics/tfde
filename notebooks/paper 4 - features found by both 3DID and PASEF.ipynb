{
 "cells": [
  {
   "cell_type": "code",
   "execution_count": 28,
   "metadata": {},
   "outputs": [],
   "source": [
    "import pandas as pd\n",
    "import numpy as np\n",
    "import os\n",
    "import matplotlib.pyplot as plt\n",
    "import pickle\n",
    "import json\n",
    "from os.path import expanduser\n",
    "import sqlite3"
   ]
  },
  {
   "cell_type": "markdown",
   "metadata": {},
   "source": [
    "#### compare PASEF features that were identified and see whether 3DID also detected them"
   ]
  },
  {
   "cell_type": "code",
   "execution_count": 2,
   "metadata": {},
   "outputs": [],
   "source": [
    "experiment_name = 'P3856'\n",
    "run_name = 'P3856_YHE211_1_Slot1-1_1_5104'\n",
    "\n",
    "EXPERIMENT_DIR = '/media/big-ssd/experiments/{}'.format(experiment_name)\n",
    "\n",
    "IDENTS_PASEF_DIR = '{}/P3856-results-cs-false-fmdw-true-2021-04-28-22-33-56/identifications-pasef'.format(expanduser(\"~\"))\n",
    "IDENTS_PASEF_FILE = '{}/exp-{}-identifications-pasef-recalibrated.pkl'.format(IDENTS_PASEF_DIR, experiment_name)\n",
    "\n",
    "FEATURES_3DID_DIR = '{}/features-3did'.format(EXPERIMENT_DIR)\n",
    "FEATURES_3DID_FILE = '{}/exp-{}-run-{}-features-3did-dedup.pkl'.format(FEATURES_3DID_DIR, experiment_name, run_name)"
   ]
  },
  {
   "cell_type": "code",
   "execution_count": 3,
   "metadata": {},
   "outputs": [],
   "source": [
    "MAXIMUM_Q_VALUE = 0.01"
   ]
  },
  {
   "cell_type": "code",
   "execution_count": 4,
   "metadata": {},
   "outputs": [],
   "source": [
    "# load the features identified by PASEF\n",
    "with open(IDENTS_PASEF_FILE, 'rb') as handle:\n",
    "    d = pickle.load(handle)\n",
    "idents_pasef_df = d['identifications_df']\n",
    "idents_pasef_df = idents_pasef_df[(idents_pasef_df.run_name == run_name) & (idents_pasef_df['percolator q-value'] <= MAXIMUM_Q_VALUE)]\n"
   ]
  },
  {
   "cell_type": "code",
   "execution_count": 5,
   "metadata": {},
   "outputs": [],
   "source": [
    "# load the features detected by 3DID\n",
    "with open(FEATURES_3DID_FILE, 'rb') as handle:\n",
    "    d = pickle.load(handle)\n",
    "features_3did_df = d['features_df']"
   ]
  },
  {
   "cell_type": "code",
   "execution_count": 6,
   "metadata": {},
   "outputs": [
    {
     "name": "stdout",
     "output_type": "stream",
     "text": [
      "8827 identified features from PASEF, 21888 features from 3DID\n"
     ]
    }
   ],
   "source": [
    "print('{} identified features from PASEF, {} features from 3DID'.format(len(idents_pasef_df), len(features_3did_df)))"
   ]
  },
  {
   "cell_type": "code",
   "execution_count": 7,
   "metadata": {},
   "outputs": [
    {
     "data": {
      "text/plain": [
       "2    6954\n",
       "3    1436\n",
       "4     324\n",
       "5      62\n",
       "1      46\n",
       "6       5\n",
       "Name: charge, dtype: int64"
      ]
     },
     "execution_count": 7,
     "metadata": {},
     "output_type": "execute_result"
    }
   ],
   "source": [
    "idents_pasef_df.charge.value_counts()"
   ]
  },
  {
   "cell_type": "code",
   "execution_count": 8,
   "metadata": {},
   "outputs": [
    {
     "data": {
      "text/plain": [
       "2    17718\n",
       "3     2266\n",
       "1      968\n",
       "4      619\n",
       "5      191\n",
       "6       86\n",
       "8       25\n",
       "7       15\n",
       "Name: charge, dtype: int64"
      ]
     },
     "execution_count": 8,
     "metadata": {},
     "output_type": "execute_result"
    }
   ],
   "source": [
    "features_3did_df.charge.value_counts()"
   ]
  },
  {
   "cell_type": "code",
   "execution_count": 9,
   "metadata": {},
   "outputs": [
    {
     "data": {
      "image/png": "[encoded data removed]",
      "text/plain": [
       "<Figure size 1080x576 with 1 Axes>"
      ]
     },
     "metadata": {
      "needs_background": "light"
     },
     "output_type": "display_data"
    }
   ],
   "source": [
    "f, ax1 = plt.subplots()\n",
    "f.set_figheight(8)\n",
    "f.set_figwidth(15)\n",
    "\n",
    "plt.margins(0.06)\n",
    "plt.title('')\n",
    "\n",
    "barwidth = 0.25\n",
    "\n",
    "pos1 = [x - barwidth/2 for x in range(max(idents_pasef_df.charge.max(), features_3did_df.charge.max())+1)]\n",
    "pos2 = [x + barwidth for x in pos1]\n",
    "\n",
    "counts = np.bincount(idents_pasef_df.charge, minlength=9)\n",
    "ax1.bar(pos1, counts, width=barwidth, align='center', label='PASEF')\n",
    "\n",
    "counts = np.bincount(features_3did_df.charge, minlength=9)\n",
    "ax1.bar(pos2, counts, width=barwidth, align='center', label='3DID')\n",
    "\n",
    "ax1.set(xticks=range(1,idents_pasef_df.charge.max()+1), xlim=[0, idents_pasef_df.charge.max()+1])\n",
    "\n",
    "plt.xlabel('charge state')\n",
    "plt.ylabel('count')\n",
    "plt.title('distribution of charge states')\n",
    "\n",
    "plt.legend()\n",
    "plt.show()"
   ]
  },
  {
   "cell_type": "markdown",
   "metadata": {},
   "source": [
    "#### find the features in common"
   ]
  },
  {
   "cell_type": "code",
   "execution_count": 10,
   "metadata": {},
   "outputs": [],
   "source": [
    "DUP_MZ_TOLERANCE_PPM = 5\n",
    "DUP_SCAN_TOLERANCE = 20\n",
    "DUP_RT_TOLERANCE = 10"
   ]
  },
  {
   "cell_type": "code",
   "execution_count": 11,
   "metadata": {},
   "outputs": [],
   "source": [
    "# set up dup definitions for 3DID\n",
    "MZ_TOLERANCE_PERCENT = DUP_MZ_TOLERANCE_PPM * 10**-4\n",
    "features_3did_df['dup_mz'] = features_3did_df['monoisotopic_mz']  # shorthand to reduce verbosity\n",
    "features_3did_df['dup_mz_ppm_tolerance'] = features_3did_df.dup_mz * MZ_TOLERANCE_PERCENT / 100\n",
    "features_3did_df['dup_mz_lower'] = features_3did_df.dup_mz - features_3did_df.dup_mz_ppm_tolerance\n",
    "features_3did_df['dup_mz_upper'] = features_3did_df.dup_mz + features_3did_df.dup_mz_ppm_tolerance\n",
    "features_3did_df['dup_scan_lower'] = features_3did_df.scan_apex - DUP_SCAN_TOLERANCE\n",
    "features_3did_df['dup_scan_upper'] = features_3did_df.scan_apex + DUP_SCAN_TOLERANCE\n",
    "features_3did_df['dup_rt_lower'] = features_3did_df.rt_apex - DUP_RT_TOLERANCE\n",
    "features_3did_df['dup_rt_upper'] = features_3did_df.rt_apex + DUP_RT_TOLERANCE"
   ]
  },
  {
   "cell_type": "code",
   "execution_count": 12,
   "metadata": {},
   "outputs": [],
   "source": [
    "# set up dup definitions for PASEF\n",
    "MZ_TOLERANCE_PERCENT = DUP_MZ_TOLERANCE_PPM * 10**-4\n",
    "idents_pasef_df['dup_mz'] = idents_pasef_df['monoisotopic_mz']  # shorthand to reduce verbosity\n",
    "idents_pasef_df['dup_mz_ppm_tolerance'] = idents_pasef_df.dup_mz * MZ_TOLERANCE_PERCENT / 100\n",
    "idents_pasef_df['dup_mz_lower'] = idents_pasef_df.dup_mz - idents_pasef_df.dup_mz_ppm_tolerance\n",
    "idents_pasef_df['dup_mz_upper'] = idents_pasef_df.dup_mz + idents_pasef_df.dup_mz_ppm_tolerance\n",
    "idents_pasef_df['dup_scan_lower'] = idents_pasef_df.scan_apex - DUP_SCAN_TOLERANCE\n",
    "idents_pasef_df['dup_scan_upper'] = idents_pasef_df.scan_apex + DUP_SCAN_TOLERANCE\n",
    "idents_pasef_df['dup_rt_lower'] = idents_pasef_df.rt_apex - DUP_RT_TOLERANCE\n",
    "idents_pasef_df['dup_rt_upper'] = idents_pasef_df.rt_apex + DUP_RT_TOLERANCE"
   ]
  },
  {
   "cell_type": "code",
   "execution_count": 13,
   "metadata": {},
   "outputs": [],
   "source": [
    "idents_pasef_df.sort_values(by=['deconvolution_score'], ascending=False, inplace=True)\n",
    "features_3did_df.sort_values(by=['deconvolution_score'], ascending=False, inplace=True)"
   ]
  },
  {
   "cell_type": "code",
   "execution_count": 14,
   "metadata": {},
   "outputs": [],
   "source": [
    "# find whether a feature detected by PASEF was also detected by 3DID\n",
    "common_l = []\n",
    "for row in idents_pasef_df.itertuples():\n",
    "#     df = features_3did_df[(row.charge == features_3did_df.charge) & (row.dup_mz >= features_3did_df.dup_mz_lower) & (row.dup_mz <= features_3did_df.dup_mz_upper) & (row.scan_apex >= features_3did_df.dup_scan_lower) & (row.scan_apex <= features_3did_df.dup_scan_upper) & (row.rt_apex >= features_3did_df.dup_rt_lower) & (row.rt_apex <= features_3did_df.dup_rt_upper)].copy()\n",
    "    df = features_3did_df[(row.dup_mz >= features_3did_df.dup_mz_lower) & (row.dup_mz <= features_3did_df.dup_mz_upper) & (row.scan_apex >= features_3did_df.dup_scan_lower) & (row.scan_apex <= features_3did_df.dup_scan_upper) & (row.rt_apex >= features_3did_df.dup_rt_lower) & (row.rt_apex <= features_3did_df.dup_rt_upper)].copy()\n",
    "    if len(df) > 0:\n",
    "        common_l.append(\n",
    "            {\n",
    "                'feature_id_pasef':row.feature_id, \n",
    "                'deconv_score_pasef':row.deconvolution_score,\n",
    "                'feature_intensity_pasef':row.feature_intensity,\n",
    "                'feature_id_3did':df.iloc[0].feature_id, \n",
    "                'deconv_score_3did':df.iloc[0].deconvolution_score,\n",
    "                'feature_intensity_3did':df.iloc[0].feature_intensity\n",
    "            }\n",
    "        )\n",
    "common_df = pd.DataFrame(common_l)"
   ]
  },
  {
   "cell_type": "code",
   "execution_count": 15,
   "metadata": {},
   "outputs": [
    {
     "name": "stdout",
     "output_type": "stream",
     "text": [
      "4456 features in common\n"
     ]
    }
   ],
   "source": [
    "print('{} features in common'.format(len(common_df)))"
   ]
  },
  {
   "cell_type": "code",
   "execution_count": 16,
   "metadata": {},
   "outputs": [
    {
     "data": {
      "image/png": "[encoded data removed]",
      "text/plain": [
       "<Figure size 720x720 with 1 Axes>"
      ]
     },
     "metadata": {
      "needs_background": "light"
     },
     "output_type": "display_data"
    }
   ],
   "source": [
    "f, ax = plt.subplots()\n",
    "f.set_figheight(10)\n",
    "f.set_figwidth(10)\n",
    "\n",
    "plt.margins(0.06)\n",
    "plt.title('deconvolution score for features identified by PASEF and detected by 3DID precursor detection methods')\n",
    "\n",
    "ax.scatter(common_df.deconv_score_pasef, common_df.deconv_score_3did, marker='o', lw=0, s=15, alpha=0.6)\n",
    "\n",
    "ax.plot([0, 1], [0, 1], transform=ax.transAxes, linestyle=':', linewidth=2, color='darkorange')\n",
    "\n",
    "plt.xlim((-1,10000))\n",
    "plt.ylim((-1,10000))\n",
    "\n",
    "plt.xlabel('PASEF feature score')\n",
    "plt.ylabel('3DID feature score')\n",
    "\n",
    "plt.show()"
   ]
  },
  {
   "cell_type": "markdown",
   "metadata": {},
   "source": [
    "#### visualise a feature detected by PASEF but not by 3DID"
   ]
  },
  {
   "cell_type": "code",
   "execution_count": 17,
   "metadata": {},
   "outputs": [],
   "source": [
    "# find the PASEF feature IDs that are not in the common set\n",
    "feature_ids_not_found_by_3did_l = list(set(idents_pasef_df.feature_id.to_list()) - set(common_df.feature_id_pasef.to_list()))\n"
   ]
  },
  {
   "cell_type": "code",
   "execution_count": 18,
   "metadata": {},
   "outputs": [
    {
     "data": {
      "text/plain": [
       "2850902"
      ]
     },
     "execution_count": 18,
     "metadata": {},
     "output_type": "execute_result"
    }
   ],
   "source": [
    "import random\n",
    "\n",
    "pasef_feature_not_detected = random.choice(feature_ids_not_found_by_3did_l)\n",
    "pasef_feature_not_detected"
   ]
  },
  {
   "cell_type": "code",
   "execution_count": 19,
   "metadata": {},
   "outputs": [
    {
     "data": {
      "text/plain": [
       "mono_mz_lower                                                                             846.897\n",
       "mono_mz_upper                                                                             846.951\n",
       "scan_apex                                                                                     447\n",
       "scan_lower                                                                                    414\n",
       "scan_upper                                                                                    489\n",
       "rt_apex                                                                                   1957.42\n",
       "rt_lower                                                                                  1953.19\n",
       "rt_upper                                                                                  1963.77\n",
       "mono_intensity_without_saturation_correction                                                77789\n",
       "mono_intensity_with_saturation_correction                                                   77789\n",
       "mono_intensity_adjustment_outcome                                      monoisotopic_not_saturated\n",
       "isotopic_peaks                                  [{'mz': 846.923542722337, 'mz_lower': 846.8965...\n",
       "scan_df                                         [{'scan': 414, 'intensity': 609, 'filtered_int...\n",
       "rt_df                                           [{'frame_id': 17437, 'retention_time_secs': 19...\n",
       "monoisotopic_mz                                                                           846.925\n",
       "charge                                                                                          2\n",
       "monoisotopic_mass                                                                         1691.84\n",
       "feature_intensity                                                                           77789\n",
       "envelope                                        [[846.923542722337, 13428.0], [847.42702295403...\n",
       "isotope_count                                                                                   4\n",
       "deconvolution_score                                                                        295.34\n",
       "precursor_cuboid_id                                                                         28509\n",
       "fragment_ions_l                                 [{\"singly_protonated_mass\": 228.1351, \"neutral...\n",
       "fmdw_before_after_d                             {'before_fmdw': [{'singly_protonated_mass': 22...\n",
       "feature_id                                                                                2850902\n",
       "run_name                                                            P3856_YHE211_1_Slot1-1_1_5104\n",
       "predicted_mass_error                                                                  -0.00460211\n",
       "recalibrated_monoisotopic_mass                                                            1691.84\n",
       "recalibrated_monoisotopic_mz                                                              846.928\n",
       "file_idx                                                                                        0\n",
       "spectrum precursor m/z                                                                    846.928\n",
       "spectrum neutral mass                                                                     1691.84\n",
       "peptide mass                                                                              1691.84\n",
       "percolator score                                                                         0.567882\n",
       "percolator q-value                                                                    0.000307078\n",
       "percolator PEP                                                                         0.00167681\n",
       "total matches/spectrum                                                                    5023.46\n",
       "sequence                                                                          VQSEYLGIPEEGPFK\n",
       "protein id                                                                   sp|P39954|SAHH_YEAST\n",
       "flanking aa                                                                                    KA\n",
       "observed_monoisotopic_mass                                                                1691.84\n",
       "theoretical_peptide_mass                                                                  1691.84\n",
       "mass_accuracy_ppm                                                                        0.082892\n",
       "mass_error                                                                             0.00014024\n",
       "dup_mz                                                                                    846.925\n",
       "dup_mz_ppm_tolerance                                                                   0.00423463\n",
       "dup_mz_lower                                                                              846.921\n",
       "dup_mz_upper                                                                               846.93\n",
       "dup_scan_lower                                                                                427\n",
       "dup_scan_upper                                                                                467\n",
       "dup_rt_lower                                                                              1947.42\n",
       "dup_rt_upper                                                                              1967.42\n",
       "Name: 18393, dtype: object"
      ]
     },
     "execution_count": 19,
     "metadata": {},
     "output_type": "execute_result"
    }
   ],
   "source": [
    "selected_feature = idents_pasef_df[(idents_pasef_df.feature_id == pasef_feature_not_detected)].iloc[0]\n",
    "selected_feature"
   ]
  },
  {
   "cell_type": "markdown",
   "metadata": {},
   "source": [
    "#### find the most intense raw point in this feature's envelope"
   ]
  },
  {
   "cell_type": "code",
   "execution_count": 25,
   "metadata": {},
   "outputs": [],
   "source": [
    "envelope = json.loads(selected_feature.envelope)"
   ]
  },
  {
   "cell_type": "code",
   "execution_count": 26,
   "metadata": {},
   "outputs": [],
   "source": [
    "mz_lower = envelope[0][0]\n",
    "mz_upper = envelope[-1][0]\n",
    "scan_lower = selected_feature.scan_lower\n",
    "scan_upper = selected_feature.scan_upper\n",
    "rt_lower = selected_feature.rt_lower\n",
    "rt_upper = selected_feature.rt_upper"
   ]
  },
  {
   "cell_type": "code",
   "execution_count": 23,
   "metadata": {},
   "outputs": [],
   "source": [
    "CONVERTED_DATABASE_NAME = '/media/big-ssd/experiments/P3856/converted-databases/exp-P3856-run-{}-converted.sqlite'.format(run_name)"
   ]
  },
  {
   "cell_type": "code",
   "execution_count": 29,
   "metadata": {},
   "outputs": [],
   "source": [
    "db_conn = sqlite3.connect(CONVERTED_DATABASE_NAME)\n",
    "raw_df = pd.read_sql_query(\"select * from frames where frame_type == 0 and mz >= {} and mz <= {} and scan >= {} and scan <= {} and retention_time_secs >= {} and retention_time_secs <= {};\".format(mz_lower, mz_upper, scan_lower, scan_upper, rt_lower, rt_upper), db_conn)\n",
    "db_conn.close()"
   ]
  },
  {
   "cell_type": "code",
   "execution_count": 30,
   "metadata": {},
   "outputs": [
    {
     "data": {
      "text/plain": [
       "393"
      ]
     },
     "execution_count": 30,
     "metadata": {},
     "output_type": "execute_result"
    }
   ],
   "source": [
    "raw_df.intensity.max()"
   ]
  },
  {
   "cell_type": "markdown",
   "metadata": {},
   "source": [
    "#### plot the intensities of features identified by PASEF but not detected by 3DID"
   ]
  },
  {
   "cell_type": "raw",
   "metadata": {},
   "source": [
    "intensities_l = []\n",
    "for row in idents_pasef_df.itertuples():\n",
    "    envelope = json.loads(row.envelope)\n",
    "    mz_lower = envelope[0][0]\n",
    "    mz_upper = envelope[-1][0]\n",
    "    scan_lower = row.scan_lower\n",
    "    scan_upper = row.scan_upper\n",
    "    rt_lower = row.rt_lower\n",
    "    rt_upper = row.rt_upper\n",
    "    db_conn = sqlite3.connect(CONVERTED_DATABASE_NAME)\n",
    "    raw_df = pd.read_sql_query(\"select intensity from frames where frame_type == 0 and mz >= {} and mz <= {} and scan >= {} and scan <= {} and retention_time_secs >= {} and retention_time_secs <= {};\".format(mz_lower, mz_upper, scan_lower, scan_upper, rt_lower, rt_upper), db_conn)\n",
    "    db_conn.close()\n",
    "    not_detected_3did = row.feature_id in feature_ids_not_found_by_3did_l\n",
    "    intensities_l.append({'feature_id':row.feature_id, 'max_intensity':raw_df.intensity.max(), 'not_detected_3did':not_detected_3did})\n",
    "intensities_df = pd.DataFrame(intensities_l)"
   ]
  },
  {
   "cell_type": "raw",
   "metadata": {},
   "source": [
    "intensities_df.to_pickle('~/feature-raw-max-intensity.pkl')"
   ]
  },
  {
   "cell_type": "code",
   "execution_count": 37,
   "metadata": {},
   "outputs": [],
   "source": [
    "intensities_not_detected_3did_df = intensities_df[(intensities_df.not_detected_3did == True)]"
   ]
  },
  {
   "cell_type": "code",
   "execution_count": 41,
   "metadata": {},
   "outputs": [
    {
     "data": {
      "image/png": "[encoded data removed]",
      "text/plain": [
       "<Figure size 1080x576 with 1 Axes>"
      ]
     },
     "metadata": {
      "needs_background": "light"
     },
     "output_type": "display_data"
    }
   ],
   "source": [
    "f, ax1 = plt.subplots()\n",
    "f.set_figheight(8)\n",
    "f.set_figwidth(15)\n",
    "\n",
    "plt.margins(0.06)\n",
    "plt.title('PASEF-driven features')\n",
    "\n",
    "bins = 300\n",
    "hist, bins, _ = plt.hist(intensities_df.max_intensity, bins=bins, label='PASEF-driven feature')\n",
    "hist, bins, _ = plt.hist(intensities_not_detected_3did_df.max_intensity, bins=bins, label='PASEF-driven feature not detected by 3DID')\n",
    "\n",
    "plt.xlabel('max intensity in raw points from features')\n",
    "plt.ylabel('count')\n",
    "\n",
    "plt.axvline(x=500, linestyle=':', color='red', linewidth=2, label='minimum intensity searched by 3DID')\n",
    "\n",
    "# plt.xlim((-20,20))\n",
    "# plt.ylim((0,300))\n",
    "\n",
    "plt.legend()\n",
    "plt.show()"
   ]
  },
  {
   "cell_type": "code",
   "execution_count": null,
   "metadata": {},
   "outputs": [],
   "source": []
  }
 ],
 "metadata": {
  "kernelspec": {
   "display_name": "Python 3",
   "language": "python",
   "name": "python3"
  },
  "language_info": {
   "codemirror_mode": {
    "name": "ipython",
    "version": 3
   },
   "file_extension": ".py",
   "mimetype": "text/x-python",
   "name": "python",
   "nbconvert_exporter": "python",
   "pygments_lexer": "ipython3",
   "version": "3.8.5"
  }
 },
 "nbformat": 4,
 "nbformat_minor": 4
}
