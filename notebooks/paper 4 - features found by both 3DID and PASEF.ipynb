{
 "cells": [
  {
   "cell_type": "code",
   "execution_count": 1,
   "metadata": {},
   "outputs": [],
   "source": [
    "import pandas as pd\n",
    "import numpy as np\n",
    "import os\n",
    "import matplotlib.pyplot as plt\n",
    "import pickle\n",
    "import json\n",
    "from os.path import expanduser"
   ]
  },
  {
   "cell_type": "markdown",
   "metadata": {},
   "source": [
    "#### compare PASEF features that were identified and see whether 3DID also detected them"
   ]
  },
  {
   "cell_type": "code",
   "execution_count": 2,
   "metadata": {},
   "outputs": [],
   "source": [
    "experiment_name = 'P3856'\n",
    "run_name = 'P3856_YHE211_1_Slot1-1_1_5104'\n",
    "\n",
    "EXPERIMENT_DIR = '/media/big-ssd/experiments/{}'.format(experiment_name)\n",
    "\n",
    "IDENTS_PASEF_DIR = '{}/P3856-results-cs-true-fmdw-true-2021-04-26-21-16-43/identifications-pasef'.format(expanduser(\"~\"))\n",
    "IDENTS_PASEF_FILE = '{}/exp-{}-identifications-pasef-recalibrated.pkl'.format(IDENTS_PASEF_DIR, experiment_name)\n",
    "\n",
    "FEATURES_3DID_DIR = '{}/features-3did'.format(EXPERIMENT_DIR)\n",
    "FEATURES_3DID_FILE = '{}/exp-{}-run-{}-features-3did-dedup.pkl'.format(FEATURES_3DID_DIR, experiment_name, run_name)"
   ]
  },
  {
   "cell_type": "code",
   "execution_count": 3,
   "metadata": {},
   "outputs": [],
   "source": [
    "# load the features detected by PASEF\n",
    "with open(IDENTS_PASEF_FILE, 'rb') as handle:\n",
    "    d = pickle.load(handle)\n",
    "idents_pasef_df = d['identifications_df']\n",
    "idents_pasef_df = idents_pasef_df[(idents_pasef_df.run_name == run_name)]"
   ]
  },
  {
   "cell_type": "code",
   "execution_count": 4,
   "metadata": {},
   "outputs": [],
   "source": [
    "# load the features detected by 3DID\n",
    "with open(FEATURES_3DID_FILE, 'rb') as handle:\n",
    "    d = pickle.load(handle)\n",
    "features_3did_df = d['features_df']"
   ]
  },
  {
   "cell_type": "code",
   "execution_count": 5,
   "metadata": {},
   "outputs": [
    {
     "name": "stdout",
     "output_type": "stream",
     "text": [
      "55172 features from PASEF, 44783 features from 3DID\n"
     ]
    }
   ],
   "source": [
    "print('{} features from PASEF, {} features from 3DID'.format(len(idents_pasef_df), len(features_3did_df)))"
   ]
  },
  {
   "cell_type": "code",
   "execution_count": 6,
   "metadata": {},
   "outputs": [
    {
     "data": {
      "text/plain": [
       "2    41080\n",
       "3     6251\n",
       "1     4940\n",
       "4     2090\n",
       "5      629\n",
       "6      182\n",
       "Name: charge, dtype: int64"
      ]
     },
     "execution_count": 6,
     "metadata": {},
     "output_type": "execute_result"
    }
   ],
   "source": [
    "idents_pasef_df.charge.value_counts()"
   ]
  },
  {
   "cell_type": "code",
   "execution_count": 7,
   "metadata": {},
   "outputs": [
    {
     "data": {
      "text/plain": [
       "2    34159\n",
       "4     4128\n",
       "3     3895\n",
       "1     1468\n",
       "5     1133\n",
       "Name: charge, dtype: int64"
      ]
     },
     "execution_count": 7,
     "metadata": {},
     "output_type": "execute_result"
    }
   ],
   "source": [
    "features_3did_df.charge.value_counts()"
   ]
  },
  {
   "cell_type": "code",
   "execution_count": 8,
   "metadata": {},
   "outputs": [],
   "source": [
    "DUP_MZ_TOLERANCE_PPM = 5\n",
    "DUP_SCAN_TOLERANCE = 20\n",
    "DUP_RT_TOLERANCE = 10"
   ]
  },
  {
   "cell_type": "code",
   "execution_count": 9,
   "metadata": {},
   "outputs": [],
   "source": [
    "# set up dup definitions for 3DID\n",
    "MZ_TOLERANCE_PERCENT = DUP_MZ_TOLERANCE_PPM * 10**-4\n",
    "features_3did_df['dup_mz'] = features_3did_df['monoisotopic_mz']  # shorthand to reduce verbosity\n",
    "features_3did_df['dup_mz_ppm_tolerance'] = features_3did_df.dup_mz * MZ_TOLERANCE_PERCENT / 100\n",
    "features_3did_df['dup_mz_lower'] = features_3did_df.dup_mz - features_3did_df.dup_mz_ppm_tolerance\n",
    "features_3did_df['dup_mz_upper'] = features_3did_df.dup_mz + features_3did_df.dup_mz_ppm_tolerance\n",
    "features_3did_df['dup_scan_lower'] = features_3did_df.scan_apex - DUP_SCAN_TOLERANCE\n",
    "features_3did_df['dup_scan_upper'] = features_3did_df.scan_apex + DUP_SCAN_TOLERANCE\n",
    "features_3did_df['dup_rt_lower'] = features_3did_df.rt_apex - DUP_RT_TOLERANCE\n",
    "features_3did_df['dup_rt_upper'] = features_3did_df.rt_apex + DUP_RT_TOLERANCE"
   ]
  },
  {
   "cell_type": "code",
   "execution_count": 10,
   "metadata": {},
   "outputs": [],
   "source": [
    "# set up dup definitions for PASEF\n",
    "MZ_TOLERANCE_PERCENT = DUP_MZ_TOLERANCE_PPM * 10**-4\n",
    "idents_pasef_df['dup_mz'] = idents_pasef_df['monoisotopic_mz']  # shorthand to reduce verbosity\n",
    "idents_pasef_df['dup_mz_ppm_tolerance'] = idents_pasef_df.dup_mz * MZ_TOLERANCE_PERCENT / 100\n",
    "idents_pasef_df['dup_mz_lower'] = idents_pasef_df.dup_mz - idents_pasef_df.dup_mz_ppm_tolerance\n",
    "idents_pasef_df['dup_mz_upper'] = idents_pasef_df.dup_mz + idents_pasef_df.dup_mz_ppm_tolerance\n",
    "idents_pasef_df['dup_scan_lower'] = idents_pasef_df.scan_apex - DUP_SCAN_TOLERANCE\n",
    "idents_pasef_df['dup_scan_upper'] = idents_pasef_df.scan_apex + DUP_SCAN_TOLERANCE\n",
    "idents_pasef_df['dup_rt_lower'] = idents_pasef_df.rt_apex - DUP_RT_TOLERANCE\n",
    "idents_pasef_df['dup_rt_upper'] = idents_pasef_df.rt_apex + DUP_RT_TOLERANCE"
   ]
  },
  {
   "cell_type": "code",
   "execution_count": 11,
   "metadata": {},
   "outputs": [],
   "source": [
    "idents_pasef_df.sort_values(by=['deconvolution_score'], ascending=False, inplace=True)\n",
    "features_3did_df.sort_values(by=['deconvolution_score'], ascending=False, inplace=True)"
   ]
  },
  {
   "cell_type": "code",
   "execution_count": 12,
   "metadata": {},
   "outputs": [],
   "source": [
    "# find whether a feature detected by PASEF was also detected by 3DID\n",
    "common_l = []\n",
    "for row in idents_pasef_df.itertuples():\n",
    "#     df = features_3did_df[(row.charge == features_3did_df.charge) & (row.dup_mz >= features_3did_df.dup_mz_lower) & (row.dup_mz <= features_3did_df.dup_mz_upper) & (row.scan_apex >= features_3did_df.dup_scan_lower) & (row.scan_apex <= features_3did_df.dup_scan_upper) & (row.rt_apex >= features_3did_df.dup_rt_lower) & (row.rt_apex <= features_3did_df.dup_rt_upper)].copy()\n",
    "    df = features_3did_df[(row.dup_mz >= features_3did_df.dup_mz_lower) & (row.dup_mz <= features_3did_df.dup_mz_upper) & (row.scan_apex >= features_3did_df.dup_scan_lower) & (row.scan_apex <= features_3did_df.dup_scan_upper) & (row.rt_apex >= features_3did_df.dup_rt_lower) & (row.rt_apex <= features_3did_df.dup_rt_upper)].copy()\n",
    "    if len(df) > 0:\n",
    "        common_l.append(\n",
    "            {\n",
    "                'feature_id_pasef':row.feature_id, \n",
    "                'deconv_score_pasef':row.deconvolution_score,\n",
    "                'feature_intensity_pasef':row.feature_intensity,\n",
    "                'feature_id_3did':df.iloc[0].feature_id, \n",
    "                'deconv_score_3did':df.iloc[0].deconvolution_score,\n",
    "                'feature_intensity_3did':df.iloc[0].feature_intensity\n",
    "            }\n",
    "        )\n",
    "common_df = pd.DataFrame(common_l)"
   ]
  },
  {
   "cell_type": "code",
   "execution_count": 13,
   "metadata": {},
   "outputs": [
    {
     "name": "stdout",
     "output_type": "stream",
     "text": [
      "11398 features in common\n"
     ]
    }
   ],
   "source": [
    "print('{} features in common'.format(len(common_df)))"
   ]
  },
  {
   "cell_type": "code",
   "execution_count": 14,
   "metadata": {},
   "outputs": [
    {
     "data": {
      "image/png": "[encoded data removed]",
      "text/plain": [
       "<Figure size 720x720 with 1 Axes>"
      ]
     },
     "metadata": {
      "needs_background": "light"
     },
     "output_type": "display_data"
    }
   ],
   "source": [
    "f, ax = plt.subplots()\n",
    "f.set_figheight(10)\n",
    "f.set_figwidth(10)\n",
    "\n",
    "plt.margins(0.06)\n",
    "plt.title('')\n",
    "\n",
    "ax.scatter(common_df.deconv_score_pasef, common_df.deconv_score_3did, marker='o', lw=0, s=15, alpha=0.6)\n",
    "\n",
    "ax.plot([0, 1], [0, 1], transform=ax.transAxes, linestyle=':', linewidth=2, color='darkorange')\n",
    "\n",
    "plt.xlim((-1,10000))\n",
    "plt.ylim((-1,10000))\n",
    "\n",
    "plt.xlabel('PASEF feature score')\n",
    "plt.ylabel('3DID feature score')\n",
    "\n",
    "plt.show()"
   ]
  },
  {
   "cell_type": "markdown",
   "metadata": {},
   "source": [
    "#### visualise a feature detected by PASEF but not by 3DID"
   ]
  },
  {
   "cell_type": "code",
   "execution_count": 15,
   "metadata": {},
   "outputs": [],
   "source": [
    "# find the PASEF feature IDs that are not in the common set\n",
    "feature_ids_not_found_by_3did_l = list(set(idents_pasef_df.feature_id.to_list()) - set(common_df.feature_id_pasef.to_list()))\n"
   ]
  },
  {
   "cell_type": "code",
   "execution_count": 16,
   "metadata": {},
   "outputs": [
    {
     "data": {
      "text/plain": [
       "3272105"
      ]
     },
     "execution_count": 16,
     "metadata": {},
     "output_type": "execute_result"
    }
   ],
   "source": [
    "import random\n",
    "\n",
    "pasef_feature_not_detected = random.choice(feature_ids_not_found_by_3did_l)\n",
    "pasef_feature_not_detected"
   ]
  },
  {
   "cell_type": "code",
   "execution_count": 17,
   "metadata": {},
   "outputs": [
    {
     "data": {
      "text/plain": [
       "mz_apex_without_saturation_correction                                                      1037.9\n",
       "mz_apex_with_saturation_correction                                                         1037.9\n",
       "mz_lower                                                                                  1037.87\n",
       "mz_upper                                                                                  1037.93\n",
       "scan_apex                                                                                     308\n",
       "scan_lower                                                                                    271\n",
       "scan_upper                                                                                    346\n",
       "rt_apex                                                                                   2016.69\n",
       "rt_lower                                                                                  2013.51\n",
       "rt_upper                                                                                  2019.86\n",
       "mono_intensity_without_saturation_correction                                                 4642\n",
       "mono_intensity_with_saturation_correction                                                    4642\n",
       "mono_intensity_adjustment_outcome                                      monoisotopic_not_saturated\n",
       "isotopic_peaks                                  [{'mz': 1037.8982362047286, 'mz_lower': 1037.8...\n",
       "scan_df                                         [{'scan': 271, 'intensity': 176, 'filtered_int...\n",
       "rt_df                                           [{'frame_id': 18037, 'retention_time_secs': 20...\n",
       "monoisotopic_mz                                                                            1037.9\n",
       "charge                                                                                          2\n",
       "monoisotopic_mass                                                                         2073.78\n",
       "feature_intensity                                                                            4642\n",
       "envelope                                        [[1037.8982362047286, 437.0], [1038.3915882659...\n",
       "isotope_count                                                                                   5\n",
       "deconvolution_score                                                                       32.7613\n",
       "precursor_cuboid_id                                                                         32721\n",
       "fragment_ions_l                                 [{\"singly_protonated_mass\": 258.1458, \"neutral...\n",
       "fmdw_before_after_d                             {'before_fmdw': [{'singly_protonated_mass': 25...\n",
       "feature_id                                                                                3272105\n",
       "run_name                                                            P3856_YHE211_1_Slot1-1_1_5104\n",
       "predicted_mass_error                                                                  -0.00183506\n",
       "recalibrated_monoisotopic_mass                                                            2073.79\n",
       "recalibrated_monoisotopic_mz                                                               1037.9\n",
       "file_idx                                                                                        0\n",
       "spectrum precursor m/z                                                                     1037.9\n",
       "spectrum neutral mass                                                                     2073.79\n",
       "peptide mass                                                                              1902.73\n",
       "percolator score                                                                        -0.529964\n",
       "percolator q-value                                                                       0.692605\n",
       "percolator PEP                                                                           0.986389\n",
       "total matches/spectrum                                                                    286.025\n",
       "sequence                                                                       DGRCVCDPGYTGEDCGTR\n",
       "protein id                                                                   sp|P22105|TENX_HUMAN\n",
       "flanking aa                                                                                    KS\n",
       "observed_monoisotopic_mass                                                                2073.79\n",
       "theoretical_peptide_mass                                                                  2073.79\n",
       "mass_accuracy_ppm                                                                        -3.91013\n",
       "mass_error                                                                             -0.0081088\n",
       "dup_mz                                                                                     1037.9\n",
       "dup_mz_ppm_tolerance                                                                    0.0051895\n",
       "dup_mz_lower                                                                              1037.89\n",
       "dup_mz_upper                                                                               1037.9\n",
       "dup_scan_lower                                                                                288\n",
       "dup_scan_upper                                                                                328\n",
       "dup_rt_lower                                                                              2006.69\n",
       "dup_rt_upper                                                                              2026.69\n",
       "Name: 104044, dtype: object"
      ]
     },
     "execution_count": 17,
     "metadata": {},
     "output_type": "execute_result"
    }
   ],
   "source": [
    "selected_feature = idents_pasef_df[(idents_pasef_df.feature_id == pasef_feature_not_detected)].iloc[0]\n",
    "selected_feature"
   ]
  },
  {
   "cell_type": "code",
   "execution_count": null,
   "metadata": {},
   "outputs": [],
   "source": []
  }
 ],
 "metadata": {
  "kernelspec": {
   "display_name": "Python 3",
   "language": "python",
   "name": "python3"
  },
  "language_info": {
   "codemirror_mode": {
    "name": "ipython",
    "version": 3
   },
   "file_extension": ".py",
   "mimetype": "text/x-python",
   "name": "python",
   "nbconvert_exporter": "python",
   "pygments_lexer": "ipython3",
   "version": "3.8.5"
  }
 },
 "nbformat": 4,
 "nbformat_minor": 4
}
