{
 "cells": [
  {
   "cell_type": "code",
   "execution_count": 2,
   "metadata": {},
   "outputs": [],
   "source": [
    "import pandas as pd\n",
    "import numpy as np\n",
    "import matplotlib.pyplot as plt"
   ]
  },
  {
   "cell_type": "code",
   "execution_count": 3,
   "metadata": {},
   "outputs": [],
   "source": [
    "PROTON_MASS = 1.007276\n",
    "# the level of intensity at which the detector is in saturation\n",
    "SATURATION_INTENSITY = 3000\n",
    "# the number of isotopes to look for in the m/z dimension - the theoretical model includes 7 (the monoisotopic plus 6 isotopes)\n",
    "NUMBER_OF_ISOTOPES = 7\n"
   ]
  },
  {
   "cell_type": "code",
   "execution_count": 4,
   "metadata": {},
   "outputs": [],
   "source": [
    "def calculate_monoisotopic_mass_from_mz(monoisotopic_mz, charge):\n",
    "    monoisotopic_mass = (monoisotopic_mz * charge) - (PROTON_MASS * charge)\n",
    "    return monoisotopic_mass"
   ]
  },
  {
   "cell_type": "code",
   "execution_count": 5,
   "metadata": {},
   "outputs": [],
   "source": [
    "# Find the ratio of H(peak_number)/H(peak_number-1) for peak_number=1..6\n",
    "# peak_number = 0 refers to the monoisotopic peak\n",
    "# number_of_sulphur = number of sulphur atoms in the molecule\n",
    "#\n",
    "# source: Valkenborg et al, \"A Model-Based Method for the Prediction of the Isotopic Distribution of Peptides\", https://core.ac.uk/download/pdf/82021511.pdf\n",
    "def peak_ratio(monoisotopic_mass, peak_number, number_of_sulphur):\n",
    "    MAX_NUMBER_OF_SULPHUR_ATOMS = 3\n",
    "    MAX_NUMBER_OF_PREDICTED_RATIOS = 6\n",
    "\n",
    "    S0_r = np.empty(MAX_NUMBER_OF_PREDICTED_RATIOS+1, dtype=np.ndarray)\n",
    "    S0_r[1] = np.array([-0.00142320578040, 0.53158267080224, 0.00572776591574, -0.00040226083326, -0.00007968737684])\n",
    "    S0_r[2] = np.array([0.06258138406507, 0.24252967352808, 0.01729736525102, -0.00427641490976, 0.00038011211412])\n",
    "    S0_r[3] = np.array([0.03092092306220, 0.22353930450345, -0.02630395501009, 0.00728183023772, -0.00073155573939])\n",
    "    S0_r[4] = np.array([-0.02490747037406, 0.26363266501679, -0.07330346656184, 0.01876886839392, -0.00176688757979])\n",
    "    S0_r[5] = np.array([-0.19423148776489, 0.45952477474223, -0.18163820209523, 0.04173579115885, -0.00355426505742])\n",
    "    S0_r[6] = np.array([0.04574408690798, -0.05092121193598, 0.13874539944789, -0.04344815868749, 0.00449747222180])\n",
    "\n",
    "    S1_r = np.empty(MAX_NUMBER_OF_PREDICTED_RATIOS+1, dtype=np.ndarray)\n",
    "    S1_r[1] = np.array([-0.01040584267474, 0.53121149663696, 0.00576913817747, -0.00039325152252, -0.00007954180489])\n",
    "    S1_r[2] = np.array([0.37339166598255, -0.15814640001919, 0.24085046064819, -0.06068695741919, 0.00563606634601])\n",
    "    S1_r[3] = np.array([0.06969331604484, 0.28154425636993, -0.08121643989151, 0.02372741957255, -0.00238998426027])\n",
    "    S1_r[4] = np.array([0.04462649178239, 0.23204790123388, -0.06083969521863, 0.01564282892512, -0.00145145206815])\n",
    "    S1_r[5] = np.array([-0.20727547407753, 0.53536509500863, -0.22521649838170, 0.05180965157326, -0.00439750995163])\n",
    "    S1_r[6] = np.array([0.27169670700251, -0.37192045082925, 0.31939855191976, -0.08668833166842, 0.00822975581940])\n",
    "\n",
    "    S2_r = np.empty(MAX_NUMBER_OF_PREDICTED_RATIOS+1, dtype=np.ndarray)\n",
    "    S2_r[1] = np.array([-0.01937823810470, 0.53084210514216, 0.00580573751882, -0.00038281138203, -0.00007958217070])\n",
    "    S2_r[2] = np.array([0.68496829280011, -0.54558176102022, 0.44926662609767, -0.11154849560657, 0.01023294598884])\n",
    "    S2_r[3] = np.array([0.04215807391059, 0.40434195078925, -0.15884974959493, 0.04319968814535, -0.00413693825139])\n",
    "    S2_r[4] = np.array([0.14015578207913, 0.14407679007180, -0.01310480312503, 0.00362292256563, -0.00034189078786])\n",
    "    S2_r[5] = np.array([-0.02549241716294, 0.32153542852101, -0.11409513283836, 0.02617210469576, -0.00221816103608])\n",
    "    S2_r[6] = np.array([-0.14490868030324, 0.33629928307361, -0.08223564735018, 0.01023410734015, -0.00027717589598])\n",
    "\n",
    "    model_params = np.empty(MAX_NUMBER_OF_SULPHUR_ATOMS, dtype=np.ndarray)\n",
    "    model_params[0] = S0_r\n",
    "    model_params[1] = S1_r\n",
    "    model_params[2] = S2_r\n",
    "\n",
    "    ratio = None\n",
    "    if (((1 <= peak_number <= 3) & (((number_of_sulphur == 0) & (498 <= monoisotopic_mass <= 3915)) |\n",
    "                                    ((number_of_sulphur == 1) & (530 <= monoisotopic_mass <= 3947)) |\n",
    "                                    ((number_of_sulphur == 2) & (562 <= monoisotopic_mass <= 3978)))) |\n",
    "       ((peak_number == 4) & (((number_of_sulphur == 0) & (907 <= monoisotopic_mass <= 3915)) |\n",
    "                              ((number_of_sulphur == 1) & (939 <= monoisotopic_mass <= 3947)) |\n",
    "                              ((number_of_sulphur == 2) & (971 <= monoisotopic_mass <= 3978)))) |\n",
    "       ((peak_number == 5) & (((number_of_sulphur == 0) & (1219 <= monoisotopic_mass <= 3915)) |\n",
    "                              ((number_of_sulphur == 1) & (1251 <= monoisotopic_mass <= 3947)) |\n",
    "                              ((number_of_sulphur == 2) & (1283 <= monoisotopic_mass <= 3978)))) |\n",
    "       ((peak_number == 6) & (((number_of_sulphur == 0) & (1559 <= monoisotopic_mass <= 3915)) |\n",
    "                              ((number_of_sulphur == 1) & (1591 <= monoisotopic_mass <= 3947)) |\n",
    "                              ((number_of_sulphur == 2) & (1623 <= monoisotopic_mass <= 3978))))):\n",
    "        beta0 = model_params[number_of_sulphur][peak_number][0]\n",
    "        beta1 = model_params[number_of_sulphur][peak_number][1]\n",
    "        beta2 = model_params[number_of_sulphur][peak_number][2]\n",
    "        beta3 = model_params[number_of_sulphur][peak_number][3]\n",
    "        beta4 = model_params[number_of_sulphur][peak_number][4]\n",
    "        scaled_m = monoisotopic_mass / 1000.0\n",
    "        ratio = beta0 + (beta1*scaled_m) + beta2*(scaled_m**2) + beta3*(scaled_m**3) + beta4*(scaled_m**4)\n",
    "    return ratio\n"
   ]
  },
  {
   "cell_type": "code",
   "execution_count": 9,
   "metadata": {},
   "outputs": [],
   "source": [
    "isotope_idx_not_in_saturation = 4"
   ]
  },
  {
   "cell_type": "code",
   "execution_count": 10,
   "metadata": {},
   "outputs": [],
   "source": [
    "isotope_intensities_l = []\n",
    "isotope_intensities_l.append((1130.578349, 10000))\n",
    "isotope_intensities_l.append((1131.080031, 12000))\n",
    "isotope_intensities_l.append((1131.581029, 11000))\n",
    "isotope_intensities_l.append((1132.082188, 10500))\n",
    "isotope_intensities_l.append((1132.582894, 10000))\n",
    "isotope_intensities_l.append((1133.084192, 9500))\n",
    "isotope_intensities_l.append((1133.585446, 9000))\n",
    "\n",
    "isotope_intensities_df = pd.DataFrame(isotope_intensities_l, columns=['mz_centroid','summed_intensity'])"
   ]
  },
  {
   "cell_type": "code",
   "execution_count": 11,
   "metadata": {},
   "outputs": [],
   "source": [
    "charge = 2\n",
    "monoisotopic_mz = isotope_intensities_df.iloc[0].mz_centroid\n",
    "monoisotopic_mass = calculate_monoisotopic_mass_from_mz(monoisotopic_mz, charge)"
   ]
  },
  {
   "cell_type": "code",
   "execution_count": 12,
   "metadata": {},
   "outputs": [],
   "source": [
    "monoisotopic_mass = 1170"
   ]
  },
  {
   "cell_type": "code",
   "execution_count": 13,
   "metadata": {},
   "outputs": [],
   "source": [
    "isotope_intensities_df['inferred_intensity'] = isotope_intensities_df.summed_intensity  # set the summed intensity to be the default adjusted intensity for all isotopes\n",
    "isotope_intensities_df['inferred'] = False\n",
    "\n",
    "# adjust the monoisotopic intensity if it has points in saturation. We can use an isotope that's\n",
    "# not in saturation as a reference, as long as there is one\n",
    "if (isotope_idx_not_in_saturation is not None) and (isotope_idx_not_in_saturation > 0):\n",
    "    # using as a reference the most intense isotope that is not in saturation, derive the isotope intensities back to the monoisotopic\n",
    "    Hpn = isotope_intensities_df.iloc[isotope_idx_not_in_saturation].summed_intensity\n",
    "    for peak_number in reversed(range(1,isotope_idx_not_in_saturation+1)):\n",
    "        phr = peak_ratio(monoisotopic_mass, peak_number, number_of_sulphur=0)\n",
    "        if phr is not None:\n",
    "            Hpn_minus_1 = Hpn / phr\n",
    "            isotope_intensities_df.at[peak_number-1, 'inferred_intensity'] = int(Hpn_minus_1)\n",
    "            isotope_intensities_df.at[peak_number-1, 'inferred'] = True\n",
    "            Hpn = Hpn_minus_1\n",
    "        else:\n",
    "            break\n",
    "\n",
    "intensity = int(isotope_intensities_df.iloc[0].inferred_intensity)    # the inferred saturation\n",
    "inferred = int(isotope_intensities_df.iloc[0].inferred)               # whether the monoisotope intensity was inferred\n"
   ]
  },
  {
   "cell_type": "code",
   "execution_count": 14,
   "metadata": {},
   "outputs": [
    {
     "data": {
      "text/html": [
       "<div>\n",
       "<style scoped>\n",
       "    .dataframe tbody tr th:only-of-type {\n",
       "        vertical-align: middle;\n",
       "    }\n",
       "\n",
       "    .dataframe tbody tr th {\n",
       "        vertical-align: top;\n",
       "    }\n",
       "\n",
       "    .dataframe thead th {\n",
       "        text-align: right;\n",
       "    }\n",
       "</style>\n",
       "<table border=\"1\" class=\"dataframe\">\n",
       "  <thead>\n",
       "    <tr style=\"text-align: right;\">\n",
       "      <th></th>\n",
       "      <th>mz_centroid</th>\n",
       "      <th>summed_intensity</th>\n",
       "      <th>inferred_intensity</th>\n",
       "      <th>inferred</th>\n",
       "    </tr>\n",
       "  </thead>\n",
       "  <tbody>\n",
       "    <tr>\n",
       "      <th>0</th>\n",
       "      <td>1130.578349</td>\n",
       "      <td>10000</td>\n",
       "      <td>781923</td>\n",
       "      <td>True</td>\n",
       "    </tr>\n",
       "    <tr>\n",
       "      <th>1</th>\n",
       "      <td>1131.080031</td>\n",
       "      <td>12000</td>\n",
       "      <td>490716</td>\n",
       "      <td>True</td>\n",
       "    </tr>\n",
       "    <tr>\n",
       "      <th>2</th>\n",
       "      <td>1131.581029</td>\n",
       "      <td>11000</td>\n",
       "      <td>178563</td>\n",
       "      <td>True</td>\n",
       "    </tr>\n",
       "    <tr>\n",
       "      <th>3</th>\n",
       "      <td>1132.082188</td>\n",
       "      <td>10500</td>\n",
       "      <td>47631</td>\n",
       "      <td>True</td>\n",
       "    </tr>\n",
       "    <tr>\n",
       "      <th>4</th>\n",
       "      <td>1132.582894</td>\n",
       "      <td>10000</td>\n",
       "      <td>10000</td>\n",
       "      <td>False</td>\n",
       "    </tr>\n",
       "    <tr>\n",
       "      <th>5</th>\n",
       "      <td>1133.084192</td>\n",
       "      <td>9500</td>\n",
       "      <td>9500</td>\n",
       "      <td>False</td>\n",
       "    </tr>\n",
       "    <tr>\n",
       "      <th>6</th>\n",
       "      <td>1133.585446</td>\n",
       "      <td>9000</td>\n",
       "      <td>9000</td>\n",
       "      <td>False</td>\n",
       "    </tr>\n",
       "  </tbody>\n",
       "</table>\n",
       "</div>"
      ],
      "text/plain": [
       "   mz_centroid  summed_intensity  inferred_intensity  inferred\n",
       "0  1130.578349             10000              781923      True\n",
       "1  1131.080031             12000              490716      True\n",
       "2  1131.581029             11000              178563      True\n",
       "3  1132.082188             10500               47631      True\n",
       "4  1132.582894             10000               10000     False\n",
       "5  1133.084192              9500                9500     False\n",
       "6  1133.585446              9000                9000     False"
      ]
     },
     "execution_count": 14,
     "metadata": {},
     "output_type": "execute_result"
    }
   ],
   "source": [
    "isotope_intensities_df"
   ]
  },
  {
   "cell_type": "code",
   "execution_count": null,
   "metadata": {},
   "outputs": [],
   "source": [
    "intensity"
   ]
  },
  {
   "cell_type": "code",
   "execution_count": null,
   "metadata": {},
   "outputs": [],
   "source": [
    "f, ax = plt.subplots()\n",
    "colors = ['tab:blue', 'tab:orange', 'tab:green', 'tab:red', 'tab:purple', 'tab:brown', 'tab:pink', 'tab:gray', 'tab:olive', 'tab:cyan']\n",
    "\n",
    "markerline, stemlines, baseline = ax.stem(isotope_intensities_df.mz_centroid, isotope_intensities_df.summed_intensity, use_line_collection=True, label='before adjustment for saturation')\n",
    "plt.setp(markerline, 'color', 'tab:green')\n",
    "plt.setp(stemlines, 'color', 'tab:green')\n",
    "plt.setp(baseline, 'color', colors[7])\n",
    "plt.setp(markerline, 'alpha', 0.6)\n",
    "plt.setp(stemlines, 'alpha', 0.6)\n",
    "\n",
    "markerline, stemlines, baseline = ax.stem(isotope_intensities_df.mz_centroid, isotope_intensities_df.inferred_intensity, use_line_collection=True, label='after adjustment for saturation')\n",
    "plt.setp(markerline, 'color', 'tab:orange')\n",
    "plt.setp(stemlines, 'color', 'tab:orange')\n",
    "plt.setp(baseline, 'color', colors[7])\n",
    "plt.setp(markerline, 'alpha', 0.6)\n",
    "plt.setp(stemlines, 'alpha', 0.6)\n",
    "\n",
    "plt.xlabel('m/z')\n",
    "plt.ylabel('intensity')\n",
    "f.set_figheight(8)\n",
    "f.set_figwidth(15)\n",
    "plt.margins(0.06)\n",
    "plt.legend(loc='best')\n",
    "plt.title('Isotopes before and after saturation adjustment')\n",
    "plt.show()"
   ]
  },
  {
   "cell_type": "markdown",
   "metadata": {},
   "source": [
    "#### plot the maximum inferred intensity"
   ]
  },
  {
   "cell_type": "code",
   "execution_count": 17,
   "metadata": {},
   "outputs": [],
   "source": [
    "MAX_SUMMED_APEX_POINTS = 3 * SATURATION_INTENSITY\n",
    "isotope_idx_not_in_saturation = 4"
   ]
  },
  {
   "cell_type": "code",
   "execution_count": null,
   "metadata": {},
   "outputs": [],
   "source": [
    "mz_lower = 300\n",
    "mz_upper = 1700\n",
    "charge_lower = 2\n",
    "charge_upper = 4\n",
    "isotope_not_saturated_indexes = [1,2,3,4,5,6]  # index of the first isotope not saturated"
   ]
  },
  {
   "cell_type": "code",
   "execution_count": null,
   "metadata": {},
   "outputs": [],
   "source": [
    "mono_mass_lower = calculate_monoisotopic_mass_from_mz(mz_lower, charge_lower)\n",
    "mono_mass_upper = calculate_monoisotopic_mass_from_mz(mz_upper, charge_upper)\n",
    "mono_mass_lower, mono_mass_upper"
   ]
  },
  {
   "cell_type": "code",
   "execution_count": null,
   "metadata": {},
   "outputs": [],
   "source": [
    "mono_mass_values = list(np.arange(start=mono_mass_lower, stop=mono_mass_upper))"
   ]
  },
  {
   "cell_type": "code",
   "execution_count": null,
   "metadata": {},
   "outputs": [],
   "source": [
    "isotopes_l = []\n",
    "for isotope_idx_not_in_saturation in isotope_not_saturated_indexes:\n",
    "    mono_intensities_l = []\n",
    "    for monoisotopic_mass in mono_mass_values:\n",
    "        isotope_intensities_l = list(np.full((NUMBER_OF_ISOTOPES,), MAX_SUMMED_APEX_POINTS))\n",
    "        isotope_intensities_df = pd.DataFrame(isotope_intensities_l, columns=['summed_intensity'])\n",
    "        isotope_intensities_df['inferred_intensity'] = isotope_intensities_df.summed_intensity\n",
    "        isotope_intensities_df['inferred'] = False\n",
    "\n",
    "        # using as a reference the most intense isotope that is not in saturation, derive the isotope intensities back to the monoisotopic\n",
    "        Hpn = isotope_intensities_df.iloc[isotope_idx_not_in_saturation].summed_intensity\n",
    "        for peak_number in reversed(range(1,isotope_idx_not_in_saturation+1)):\n",
    "            phr = peak_ratio(monoisotopic_mass, peak_number, number_of_sulphur=0)\n",
    "            if phr is not None:\n",
    "                Hpn_minus_1 = Hpn / phr\n",
    "                isotope_intensities_df.at[peak_number-1, 'inferred_intensity'] = int(Hpn_minus_1)\n",
    "                isotope_intensities_df.at[peak_number-1, 'inferred'] = True\n",
    "                Hpn = Hpn_minus_1\n",
    "            else:\n",
    "                break\n",
    "        monoisotope_intensity = int(isotope_intensities_df.iloc[0].inferred_intensity)  # the inferred saturation\n",
    "        inferred = int(isotope_intensities_df.iloc[0].inferred)  # whether the monoisotope intensity was inferred\n",
    "        mono_intensities_l.append((monoisotopic_mass,monoisotope_intensity,inferred))\n",
    "    mono_intensities_df = pd.DataFrame(mono_intensities_l, columns=['monoisotopic_mass','inferred_mono_intensity','inferred'])\n",
    "    isotopes_l.append(mono_intensities_df)\n",
    "    "
   ]
  },
  {
   "cell_type": "code",
   "execution_count": null,
   "metadata": {},
   "outputs": [],
   "source": [
    "tableau20 = [(31, 119, 180), (174, 199, 232), (255, 127, 14), (255, 187, 120),  \n",
    "             (44, 160, 44), (152, 223, 138), (214, 39, 40), (255, 152, 150),  \n",
    "             (148, 103, 189), (197, 176, 213), (140, 86, 75), (196, 156, 148),  \n",
    "             (227, 119, 194), (247, 182, 210), (127, 127, 127), (199, 199, 199),  \n",
    "             (188, 189, 34), (219, 219, 141), (23, 190, 207), (158, 218, 229)]\n",
    "# Rescale to values between 0 and 1 \n",
    "for i in range(len(tableau20)):  \n",
    "    r, g, b = tableau20[i]  \n",
    "    tableau20[i] = (r / 255., g / 255., b / 255.)"
   ]
  },
  {
   "cell_type": "code",
   "execution_count": null,
   "metadata": {},
   "outputs": [],
   "source": [
    "f, ax = plt.subplots()\n",
    "f.set_figheight(8)\n",
    "f.set_figwidth(15)\n",
    "plt.margins(0.06)\n",
    "\n",
    "title = 'maximum inferred intensity by monoisotopic mass'\n",
    "plt.title(title)\n",
    "\n",
    "for idx in range(len(isotopes_l)):\n",
    "    mono_intensities_df = isotopes_l[idx]\n",
    "    plot_df = mono_intensities_df[mono_intensities_df.inferred == True]\n",
    "    ax.plot(plot_df.monoisotopic_mass, np.log2(plot_df.inferred_mono_intensity), marker='', color=tableau20[idx+1 % len(tableau20)], linestyle='-', linewidth=1, ms=5, label='isotope {} not saturated'.format(idx+1))\n",
    "\n",
    "plt.axhline(y=np.log2(MAX_SUMMED_APEX_POINTS), color='red', linestyle='-.', linewidth=1, label='maximum unsaturated mono intensity')\n",
    "    \n",
    "plt.legend(loc='best')\n",
    "plt.xlabel('monoisotopic mass (Da)')\n",
    "plt.ylabel('log2 inferred intensity')\n",
    "\n",
    "plt.show()"
   ]
  },
  {
   "cell_type": "code",
   "execution_count": 15,
   "metadata": {},
   "outputs": [],
   "source": [
    "monoisotopic_mass = 1170.563881"
   ]
  },
  {
   "cell_type": "code",
   "execution_count": 18,
   "metadata": {},
   "outputs": [],
   "source": [
    "isotope_intensities_l = list(np.full((NUMBER_OF_ISOTOPES,), MAX_SUMMED_APEX_POINTS))\n",
    "isotope_intensities_df = pd.DataFrame(isotope_intensities_l, columns=['summed_intensity'])\n",
    "isotope_intensities_df['inferred_intensity'] = isotope_intensities_df.summed_intensity\n",
    "isotope_intensities_df['inferred'] = False\n",
    "\n",
    "# using as a reference the most intense isotope that is not in saturation, derive the isotope intensities back to the monoisotopic\n",
    "Hpn = isotope_intensities_df.iloc[isotope_idx_not_in_saturation].summed_intensity\n",
    "for peak_number in reversed(range(1,isotope_idx_not_in_saturation+1)):\n",
    "    phr = peak_ratio(monoisotopic_mass, peak_number, number_of_sulphur=0)\n",
    "    if phr is not None:\n",
    "        Hpn_minus_1 = Hpn / phr\n",
    "        isotope_intensities_df.at[peak_number-1, 'inferred_intensity'] = int(Hpn_minus_1)\n",
    "        isotope_intensities_df.at[peak_number-1, 'inferred'] = True\n",
    "        Hpn = Hpn_minus_1\n",
    "    else:\n",
    "        break\n",
    "monoisotope_intensity = int(isotope_intensities_df.iloc[0].inferred_intensity)  # the inferred saturation\n"
   ]
  },
  {
   "cell_type": "code",
   "execution_count": 19,
   "metadata": {},
   "outputs": [
    {
     "data": {
      "text/plain": [
       "702520"
      ]
     },
     "execution_count": 19,
     "metadata": {},
     "output_type": "execute_result"
    }
   ],
   "source": [
    "monoisotope_intensity"
   ]
  },
  {
   "cell_type": "code",
   "execution_count": null,
   "metadata": {},
   "outputs": [],
   "source": []
  }
 ],
 "metadata": {
  "kernelspec": {
   "display_name": "Python 3",
   "language": "python",
   "name": "python3"
  },
  "language_info": {
   "codemirror_mode": {
    "name": "ipython",
    "version": 3
   },
   "file_extension": ".py",
   "mimetype": "text/x-python",
   "name": "python",
   "nbconvert_exporter": "python",
   "pygments_lexer": "ipython3",
   "version": "3.6.8"
  }
 },
 "nbformat": 4,
 "nbformat_minor": 2
}
