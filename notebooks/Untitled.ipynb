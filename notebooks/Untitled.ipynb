{
 "cells": [
  {
   "cell_type": "code",
   "execution_count": 2,
   "metadata": {},
   "outputs": [
    {
     "data": {
      "text/html": [
       "<div>\n",
       "  <iframe src=\"/app/endpoints/a9f3b13a8f6743a884f22299c9fa2a58/\" width=800 height=600 frameborder=\"0\"></iframe>\n",
       "  <hr/><a href=\"/app/endpoints/a9f3b13a8f6743a884f22299c9fa2a58/\" target=\"_new\">Open in new window</a> for /app/endpoints/a9f3b13a8f6743a884f22299c9fa2a58/\n",
       "</div>"
      ],
      "text/plain": [
       "<jupyter_plotly_dash.dash_wrapper.JupyterDash at 0x7faa64471128>"
      ]
     },
     "execution_count": 2,
     "metadata": {},
     "output_type": "execute_result"
    }
   ],
   "source": [
    "from jupyter_plotly_dash import JupyterDash\n",
    "\n",
    "import dash\n",
    "import dash_core_components as dcc\n",
    "import dash_html_components as html\n",
    "from dash.dependencies import Input, Output\n",
    "\n",
    "app = JupyterDash('SimpleExample')\n",
    "\n",
    "app.layout = html.Div([\n",
    "    dcc.RadioItems(\n",
    "        id='dropdown-color',\n",
    "        options=[{'label': c, 'value': c.lower()}\n",
    "                 for c in ['Red', 'Green', 'Blue']],\n",
    "        value='red'\n",
    "    ),\n",
    "    html.Div(id='output-color'),\n",
    "    dcc.RadioItems(\n",
    "        id='dropdown-size',\n",
    "        options=[{'label': i, 'value': j}\n",
    "                 for i, j in [('L','large'), ('M','medium'), ('S','small')]],\n",
    "        value='medium'\n",
    "    ),\n",
    "    html.Div(id='output-size')\n",
    "\n",
    "])\n",
    "\n",
    "@app.callback(\n",
    "    dash.dependencies.Output('output-color', 'children'),\n",
    "    [dash.dependencies.Input('dropdown-color', 'value')])\n",
    "def callback_color(dropdown_value):\n",
    "    return \"The selected color is %s.\" % dropdown_value\n",
    "\n",
    "@app.callback(\n",
    "    dash.dependencies.Output('output-size', 'children'),\n",
    "    [dash.dependencies.Input('dropdown-color', 'value'),\n",
    "     dash.dependencies.Input('dropdown-size', 'value')])\n",
    "def callback_size(dropdown_color, dropdown_size):\n",
    "    return \"The chosen T-shirt is a %s %s one.\" %(dropdown_size,\n",
    "                                                  dropdown_color)\n",
    "\n",
    "app"
   ]
  },
  {
   "cell_type": "code",
   "execution_count": null,
   "metadata": {},
   "outputs": [],
   "source": []
  }
 ],
 "metadata": {
  "kernelspec": {
   "display_name": "Python 3",
   "language": "python",
   "name": "python3"
  },
  "language_info": {
   "codemirror_mode": {
    "name": "ipython",
    "version": 3
   },
   "file_extension": ".py",
   "mimetype": "text/x-python",
   "name": "python",
   "nbconvert_exporter": "python",
   "pygments_lexer": "ipython3",
   "version": "3.6.8"
  }
 },
 "nbformat": 4,
 "nbformat_minor": 2
}
