{
 "cells": [
  {
   "cell_type": "code",
   "execution_count": 2,
   "metadata": {},
   "outputs": [],
   "source": [
    "import pandas as pd\n",
    "import numpy as np\n",
    "import sys\n",
    "import matplotlib.pyplot as plt"
   ]
  },
  {
   "cell_type": "code",
   "execution_count": 26,
   "metadata": {},
   "outputs": [],
   "source": [
    "my_results_df = pd.read_csv('/Users/darylwilding-mcbride/Downloads/F359469.csv', sep=',', index_col=False, skiprows=61)\n",
    "mq_results_df = pd.read_csv('/Users/darylwilding-mcbride/Downloads/F359466.csv', sep=',', index_col=False, skiprows=61)"
   ]
  },
  {
   "cell_type": "code",
   "execution_count": 27,
   "metadata": {},
   "outputs": [
    {
     "name": "stdout",
     "output_type": "stream",
     "text": [
      "number of unique peptide sequences: mq 221, mine 777\n"
     ]
    }
   ],
   "source": [
    "print(\"number of unique peptide sequences: mq {}, mine {}\".format(mq_results_df.pep_seq.nunique(), my_results_df.pep_seq.nunique()))"
   ]
  },
  {
   "cell_type": "code",
   "execution_count": 45,
   "metadata": {},
   "outputs": [
    {
     "data": {
      "text/plain": [
       "Index(['prot_hit_num', 'prot_family_member', 'prot_acc', 'prot_desc',\n",
       "       'prot_score', 'prot_mass', 'prot_matches', 'prot_matches_sig',\n",
       "       'prot_sequences', 'prot_sequences_sig', 'pep_query', 'pep_rank',\n",
       "       'pep_isbold', 'pep_isunique', 'pep_exp_mz', 'pep_exp_mr', 'pep_exp_z',\n",
       "       'pep_calc_mr', 'pep_delta', 'pep_miss', 'pep_score', 'pep_expect',\n",
       "       'pep_res_before', 'pep_seq', 'pep_res_after', 'pep_var_mod',\n",
       "       'pep_var_mod_pos', 'pep_summed_mod_pos', 'pep_scan_title'],\n",
       "      dtype='object')"
      ]
     },
     "execution_count": 45,
     "metadata": {},
     "output_type": "execute_result"
    }
   ],
   "source": [
    "my_results_df.columns"
   ]
  },
  {
   "cell_type": "code",
   "execution_count": 46,
   "metadata": {},
   "outputs": [
    {
     "data": {
      "text/html": [
       "<div>\n",
       "<style scoped>\n",
       "    .dataframe tbody tr th:only-of-type {\n",
       "        vertical-align: middle;\n",
       "    }\n",
       "\n",
       "    .dataframe tbody tr th {\n",
       "        vertical-align: top;\n",
       "    }\n",
       "\n",
       "    .dataframe thead th {\n",
       "        text-align: right;\n",
       "    }\n",
       "</style>\n",
       "<table border=\"1\" class=\"dataframe\">\n",
       "  <thead>\n",
       "    <tr style=\"text-align: right;\">\n",
       "      <th></th>\n",
       "      <th>prot_hit_num</th>\n",
       "      <th>prot_family_member</th>\n",
       "      <th>prot_acc</th>\n",
       "      <th>prot_desc</th>\n",
       "      <th>prot_score</th>\n",
       "      <th>prot_mass</th>\n",
       "      <th>prot_matches</th>\n",
       "      <th>prot_matches_sig</th>\n",
       "      <th>prot_sequences</th>\n",
       "      <th>prot_sequences_sig</th>\n",
       "      <th>...</th>\n",
       "      <th>pep_miss</th>\n",
       "      <th>pep_score</th>\n",
       "      <th>pep_expect</th>\n",
       "      <th>pep_res_before</th>\n",
       "      <th>pep_seq</th>\n",
       "      <th>pep_res_after</th>\n",
       "      <th>pep_var_mod</th>\n",
       "      <th>pep_var_mod_pos</th>\n",
       "      <th>pep_summed_mod_pos</th>\n",
       "      <th>pep_scan_title</th>\n",
       "    </tr>\n",
       "  </thead>\n",
       "  <tbody>\n",
       "    <tr>\n",
       "      <th>0</th>\n",
       "      <td>1</td>\n",
       "      <td>1.0</td>\n",
       "      <td>2::PTPRA_HUMAN</td>\n",
       "      <td>Receptor-type tyrosine-protein phosphatase alp...</td>\n",
       "      <td>84</td>\n",
       "      <td>91574</td>\n",
       "      <td>6</td>\n",
       "      <td>6</td>\n",
       "      <td>1</td>\n",
       "      <td>1</td>\n",
       "      <td>...</td>\n",
       "      <td>1</td>\n",
       "      <td>37.23</td>\n",
       "      <td>0.0017</td>\n",
       "      <td>R</td>\n",
       "      <td>LINSSTAEPVKEEAK</td>\n",
       "      <td>T</td>\n",
       "      <td>NaN</td>\n",
       "      <td>NaN</td>\n",
       "      <td>NaN</td>\n",
       "      <td>RawFile: HeLa_20KInt Charge: 3 FeatureIntensit...</td>\n",
       "    </tr>\n",
       "    <tr>\n",
       "      <th>1</th>\n",
       "      <td>1</td>\n",
       "      <td>1.0</td>\n",
       "      <td>2::PTPRA_HUMAN</td>\n",
       "      <td>Receptor-type tyrosine-protein phosphatase alp...</td>\n",
       "      <td>84</td>\n",
       "      <td>91574</td>\n",
       "      <td>6</td>\n",
       "      <td>6</td>\n",
       "      <td>1</td>\n",
       "      <td>1</td>\n",
       "      <td>...</td>\n",
       "      <td>1</td>\n",
       "      <td>33.26</td>\n",
       "      <td>0.0047</td>\n",
       "      <td>R</td>\n",
       "      <td>LINSSTAEPVKEEAK</td>\n",
       "      <td>T</td>\n",
       "      <td>NaN</td>\n",
       "      <td>NaN</td>\n",
       "      <td>NaN</td>\n",
       "      <td>RawFile: HeLa_20KInt Charge: 3 FeatureIntensit...</td>\n",
       "    </tr>\n",
       "    <tr>\n",
       "      <th>2</th>\n",
       "      <td>1</td>\n",
       "      <td>1.0</td>\n",
       "      <td>2::PTPRA_HUMAN</td>\n",
       "      <td>Receptor-type tyrosine-protein phosphatase alp...</td>\n",
       "      <td>84</td>\n",
       "      <td>91574</td>\n",
       "      <td>6</td>\n",
       "      <td>6</td>\n",
       "      <td>1</td>\n",
       "      <td>1</td>\n",
       "      <td>...</td>\n",
       "      <td>1</td>\n",
       "      <td>31.28</td>\n",
       "      <td>0.0037</td>\n",
       "      <td>R</td>\n",
       "      <td>LINSSTAEPVKEEAK</td>\n",
       "      <td>T</td>\n",
       "      <td>NaN</td>\n",
       "      <td>NaN</td>\n",
       "      <td>NaN</td>\n",
       "      <td>RawFile: HeLa_20KInt Charge: 3 FeatureIntensit...</td>\n",
       "    </tr>\n",
       "    <tr>\n",
       "      <th>3</th>\n",
       "      <td>1</td>\n",
       "      <td>1.0</td>\n",
       "      <td>2::PTPRA_HUMAN</td>\n",
       "      <td>Receptor-type tyrosine-protein phosphatase alp...</td>\n",
       "      <td>84</td>\n",
       "      <td>91574</td>\n",
       "      <td>6</td>\n",
       "      <td>6</td>\n",
       "      <td>1</td>\n",
       "      <td>1</td>\n",
       "      <td>...</td>\n",
       "      <td>1</td>\n",
       "      <td>31.25</td>\n",
       "      <td>0.0051</td>\n",
       "      <td>R</td>\n",
       "      <td>LINSSTAEPVKEEAK</td>\n",
       "      <td>T</td>\n",
       "      <td>NaN</td>\n",
       "      <td>NaN</td>\n",
       "      <td>NaN</td>\n",
       "      <td>RawFile: HeLa_20KInt Charge: 3 FeatureIntensit...</td>\n",
       "    </tr>\n",
       "    <tr>\n",
       "      <th>4</th>\n",
       "      <td>1</td>\n",
       "      <td>1.0</td>\n",
       "      <td>2::PTPRA_HUMAN</td>\n",
       "      <td>Receptor-type tyrosine-protein phosphatase alp...</td>\n",
       "      <td>84</td>\n",
       "      <td>91574</td>\n",
       "      <td>6</td>\n",
       "      <td>6</td>\n",
       "      <td>1</td>\n",
       "      <td>1</td>\n",
       "      <td>...</td>\n",
       "      <td>1</td>\n",
       "      <td>31.25</td>\n",
       "      <td>0.0100</td>\n",
       "      <td>R</td>\n",
       "      <td>LINSSTAEPVKEEAK</td>\n",
       "      <td>T</td>\n",
       "      <td>NaN</td>\n",
       "      <td>NaN</td>\n",
       "      <td>NaN</td>\n",
       "      <td>RawFile: HeLa_20KInt Charge: 3 FeatureIntensit...</td>\n",
       "    </tr>\n",
       "  </tbody>\n",
       "</table>\n",
       "<p>5 rows × 29 columns</p>\n",
       "</div>"
      ],
      "text/plain": [
       "   prot_hit_num  prot_family_member        prot_acc  \\\n",
       "0             1                 1.0  2::PTPRA_HUMAN   \n",
       "1             1                 1.0  2::PTPRA_HUMAN   \n",
       "2             1                 1.0  2::PTPRA_HUMAN   \n",
       "3             1                 1.0  2::PTPRA_HUMAN   \n",
       "4             1                 1.0  2::PTPRA_HUMAN   \n",
       "\n",
       "                                           prot_desc  prot_score  prot_mass  \\\n",
       "0  Receptor-type tyrosine-protein phosphatase alp...          84      91574   \n",
       "1  Receptor-type tyrosine-protein phosphatase alp...          84      91574   \n",
       "2  Receptor-type tyrosine-protein phosphatase alp...          84      91574   \n",
       "3  Receptor-type tyrosine-protein phosphatase alp...          84      91574   \n",
       "4  Receptor-type tyrosine-protein phosphatase alp...          84      91574   \n",
       "\n",
       "   prot_matches  prot_matches_sig  prot_sequences  prot_sequences_sig  ...  \\\n",
       "0             6                 6               1                   1  ...   \n",
       "1             6                 6               1                   1  ...   \n",
       "2             6                 6               1                   1  ...   \n",
       "3             6                 6               1                   1  ...   \n",
       "4             6                 6               1                   1  ...   \n",
       "\n",
       "   pep_miss  pep_score  pep_expect  pep_res_before          pep_seq  \\\n",
       "0         1      37.23      0.0017               R  LINSSTAEPVKEEAK   \n",
       "1         1      33.26      0.0047               R  LINSSTAEPVKEEAK   \n",
       "2         1      31.28      0.0037               R  LINSSTAEPVKEEAK   \n",
       "3         1      31.25      0.0051               R  LINSSTAEPVKEEAK   \n",
       "4         1      31.25      0.0100               R  LINSSTAEPVKEEAK   \n",
       "\n",
       "   pep_res_after  pep_var_mod  pep_var_mod_pos  pep_summed_mod_pos  \\\n",
       "0              T          NaN              NaN                 NaN   \n",
       "1              T          NaN              NaN                 NaN   \n",
       "2              T          NaN              NaN                 NaN   \n",
       "3              T          NaN              NaN                 NaN   \n",
       "4              T          NaN              NaN                 NaN   \n",
       "\n",
       "                                      pep_scan_title  \n",
       "0  RawFile: HeLa_20KInt Charge: 3 FeatureIntensit...  \n",
       "1  RawFile: HeLa_20KInt Charge: 3 FeatureIntensit...  \n",
       "2  RawFile: HeLa_20KInt Charge: 3 FeatureIntensit...  \n",
       "3  RawFile: HeLa_20KInt Charge: 3 FeatureIntensit...  \n",
       "4  RawFile: HeLa_20KInt Charge: 3 FeatureIntensit...  \n",
       "\n",
       "[5 rows x 29 columns]"
      ]
     },
     "execution_count": 46,
     "metadata": {},
     "output_type": "execute_result"
    }
   ],
   "source": [
    "my_results_df.head()"
   ]
  },
  {
   "cell_type": "code",
   "execution_count": 30,
   "metadata": {},
   "outputs": [
    {
     "data": {
      "image/png": "[encoded data removed]",
      "text/plain": [
       "<Figure size 1080x576 with 1 Axes>"
      ]
     },
     "metadata": {
      "needs_background": "light"
     },
     "output_type": "display_data"
    }
   ],
   "source": [
    "f, ax1 = plt.subplots()\n",
    "f.set_figheight(8)\n",
    "f.set_figwidth(15)\n",
    "\n",
    "plt.margins(0.06)\n",
    "plt.suptitle('Peptide score distribution')\n",
    "\n",
    "bins = 50\n",
    "hist, bins, _ = plt.hist(my_results_df.pep_score, bins=bins, label='Mine')\n",
    "hist, bins, _ = plt.hist(mq_results_df.pep_score, bins=bins, label='MaxQuant')\n",
    "plt.legend(loc='best')\n",
    "plt.xlabel('peptide score')\n",
    "plt.ylabel('count')\n",
    "\n",
    "plt.show()"
   ]
  },
  {
   "cell_type": "code",
   "execution_count": 32,
   "metadata": {},
   "outputs": [],
   "source": [
    "tableau20 = [(31, 119, 180), (174, 199, 232), (255, 127, 14), (255, 187, 120),  \n",
    "             (44, 160, 44), (152, 223, 138), (214, 39, 40), (255, 152, 150),  \n",
    "             (148, 103, 189), (197, 176, 213), (140, 86, 75), (196, 156, 148),  \n",
    "             (227, 119, 194), (247, 182, 210), (127, 127, 127), (199, 199, 199),  \n",
    "             (188, 189, 34), (219, 219, 141), (23, 190, 207), (158, 218, 229)]\n",
    "\n",
    "# Rescale to values between 0 and 1\n",
    "tableau20_mpl = tableau20.copy()\n",
    "for i in range(len(tableau20_mpl)):  \n",
    "    r, g, b = tableau20_mpl[i]  \n",
    "    tableau20_mpl[i] = (r / 255., g / 255., b / 255.)"
   ]
  },
  {
   "cell_type": "code",
   "execution_count": 44,
   "metadata": {},
   "outputs": [
    {
     "data": {
      "image/png": "[encoded data removed]",
      "text/plain": [
       "<Figure size 1080x576 with 1 Axes>"
      ]
     },
     "metadata": {
      "needs_background": "light"
     },
     "output_type": "display_data"
    }
   ],
   "source": [
    "f, ax = plt.subplots()\n",
    "f.set_figheight(8)\n",
    "f.set_figwidth(15)\n",
    "\n",
    "plt.margins(0.06)\n",
    "plt.suptitle('Peptide score distribution')\n",
    "\n",
    "ax.scatter(my_results_df.pep_score, my_results_df.pep_delta, marker='o', color=tableau20_mpl[0], lw=0, s=30, alpha=1.0, label=\"Mine\")\n",
    "ax.scatter(mq_results_df.pep_score, mq_results_df.pep_delta, marker='o', color=tableau20_mpl[2], lw=0, s=30, alpha=1.0, label=\"MaxQuant\")\n",
    "\n",
    "plt.legend(loc='best')\n",
    "plt.xlabel('pep_score')\n",
    "plt.ylabel('pep_delta (Da)')\n",
    "\n",
    "plt.show()"
   ]
  },
  {
   "cell_type": "code",
   "execution_count": 52,
   "metadata": {},
   "outputs": [],
   "source": [
    "# number of peptide matches\n",
    "my_peptides = list(my_results_df.pep_seq.unique())\n",
    "mq_peptides = list(mq_results_df.pep_seq.unique())"
   ]
  },
  {
   "cell_type": "code",
   "execution_count": 56,
   "metadata": {},
   "outputs": [
    {
     "data": {
      "text/plain": [
       "{'EIYPGQFQPSLCHK'}"
      ]
     },
     "execution_count": 56,
     "metadata": {},
     "output_type": "execute_result"
    }
   ],
   "source": [
    "set(mq_peptides).intersection(my_peptides)"
   ]
  },
  {
   "cell_type": "code",
   "execution_count": null,
   "metadata": {},
   "outputs": [],
   "source": []
  }
 ],
 "metadata": {
  "kernelspec": {
   "display_name": "Python 3",
   "language": "python",
   "name": "python3"
  },
  "language_info": {
   "codemirror_mode": {
    "name": "ipython",
    "version": 3
   },
   "file_extension": ".py",
   "mimetype": "text/x-python",
   "name": "python",
   "nbconvert_exporter": "python",
   "pygments_lexer": "ipython3",
   "version": "3.6.7"
  }
 },
 "nbformat": 4,
 "nbformat_minor": 2
}
