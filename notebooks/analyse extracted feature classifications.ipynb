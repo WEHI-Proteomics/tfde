{
 "cells": [
  {
   "cell_type": "code",
   "execution_count": 1,
   "metadata": {},
   "outputs": [],
   "source": [
    "import pandas as pd\n",
    "import sqlite3\n",
    "import matplotlib.pyplot as plt"
   ]
  },
  {
   "cell_type": "code",
   "execution_count": 2,
   "metadata": {},
   "outputs": [],
   "source": [
    "EXTRACTED_FEATURES_DB_NAME = '/data/experiments/YHE/extracted-features/extracted-features.sqlite'"
   ]
  },
  {
   "cell_type": "code",
   "execution_count": 3,
   "metadata": {},
   "outputs": [],
   "source": [
    "db_conn = sqlite3.connect(EXTRACTED_FEATURES_DB_NAME)\n",
    "sequences_df = pd.read_sql_query(\"select * from features\", db_conn)\n",
    "db_conn.close()"
   ]
  },
  {
   "cell_type": "code",
   "execution_count": 4,
   "metadata": {},
   "outputs": [
    {
     "data": {
      "text/plain": [
       "Index(['sequence', 'charge', 'file_idx', 'peak_idx', 'target_coords',\n",
       "       'theoretical_mz', 'q_value', 'delta_mz_ppm', 'delta_rt', 'delta_scan',\n",
       "       'fwhm_rt_0', 'fwhm_scan_0', 'geometric_mean_0_1',\n",
       "       'geometric_mean_0_1_2', 'isotope_0_1_mz_delta_ppm',\n",
       "       'isotope_0_1_rt_delta', 'isotope_0_1_scan_delta',\n",
       "       'isotope_0_2_mz_delta_ppm', 'isotope_0_2_rt_delta',\n",
       "       'isotope_0_2_scan_delta', 'monoisotope_auc_over_isotope_peak_auc_sum',\n",
       "       'monoisotope_int_over_isotope_peak_int_sum', 'mz_delta_ppm_std_dev_0',\n",
       "       'mz_delta_ppm_std_dev_1', 'number_of_frames_0', 'number_of_frames_1',\n",
       "       'number_of_frames_2', 'number_of_missing_frames_0',\n",
       "       'number_of_missing_frames_1', 'number_of_missing_frames_2',\n",
       "       'peak_base_width_rt_0', 'peak_base_width_scan_0', 'r_squared_phr',\n",
       "       'rt_isotope_correlation', 'rt_isotope_cv', 'rt_peak_symmetry_0',\n",
       "       'rt_peak_symmetry_1', 'rt_peak_symmetry_2', 'scan_isotope_correlation',\n",
       "       'scan_isotope_cv', 'scan_peak_symmetry_0', 'scan_peak_symmetry_1',\n",
       "       'scan_peak_symmetry_2', 'classed_as', 'inferred', 'intensity',\n",
       "       'isotope_1_filtered_points_l', 'isotope_1_rt_bounds',\n",
       "       'isotope_1_scan_bounds', 'isotope_2_filtered_points_l',\n",
       "       'isotope_2_rt_bounds', 'isotope_2_scan_bounds',\n",
       "       'isotope_idx_not_in_saturation', 'isotope_intensities_l',\n",
       "       'mono_filtered_points_l', 'mono_rt_bounds', 'mono_scan_bounds',\n",
       "       'monoisotopic_mass', 'monoisotopic_mz_centroid',\n",
       "       'monoisotopic_mz_delta_ppm', 'number_of_isotopes',\n",
       "       'peak_proportion_intensity', 'peak_proportions', 'rt_apex', 'scan_apex',\n",
       "       'run_name', 'group', 'human', 'number_of_runs_extracted'],\n",
       "      dtype='object')"
      ]
     },
     "execution_count": 4,
     "metadata": {},
     "output_type": "execute_result"
    }
   ],
   "source": [
    "sequences_df.columns"
   ]
  },
  {
   "cell_type": "code",
   "execution_count": 5,
   "metadata": {},
   "outputs": [
    {
     "data": {
      "text/plain": [
       "Text(0, 0.5, 'count')"
      ]
     },
     "execution_count": 5,
     "metadata": {},
     "output_type": "execute_result"
    }
   ],
   "source": [
    "import matplotlib.pyplot as plt\n",
    "\n",
    "f, ax1 = plt.subplots()\n",
    "f.set_figheight(8)\n",
    "f.set_figwidth(15)\n",
    "\n",
    "plt.margins(0.06)\n",
    "plt.title('')\n",
    "\n",
    "bins = 300\n",
    "values = sequences_df.isotope_0_1_mz_delta_ppm\n",
    "y, x, _ = ax1.hist(values, bins=bins)\n",
    "# mean = np.mean(values)\n",
    "# ax1.axvline(mean, color='darkorange', lw=1.0, ls='-.', label='mean')\n",
    "# text_style = dict(size=10, color='brown', verticalalignment='center', horizontalalignment='left')\n",
    "# ax1.text(mean*0.85, y.max()*0.98, \"mean {}\".format(round(mean,2)), **text_style, rotation='vertical')\n",
    "\n",
    "plt.xlabel('isotope_0_1_mz_delta_ppm')\n",
    "plt.ylabel('count')\n",
    "# plt.title('pre-normalisation sequence intensity coefficient of variance across 1to1 runs, k={}\\n({} unique sequences appearing in all runs)'.format(number_of_neighbours, len(sequence_cv_df)))\n",
    "# plt.xlim((0,2))\n",
    "# plt.ylim((0,600))\n",
    "\n",
    "# plt.show()"
   ]
  },
  {
   "cell_type": "code",
   "execution_count": 6,
   "metadata": {},
   "outputs": [
    {
     "data": {
      "text/plain": [
       "Text(0, 0.5, 'count')"
      ]
     },
     "execution_count": 6,
     "metadata": {},
     "output_type": "execute_result"
    },
    {
     "data": {
      "image/png": "[encoded data removed]",
      "text/plain": [
       "<Figure size 1080x576 with 1 Axes>"
      ]
     },
     "metadata": {
      "needs_background": "light"
     },
     "output_type": "display_data"
    }
   ],
   "source": [
    "f, ax1 = plt.subplots()\n",
    "f.set_figheight(8)\n",
    "f.set_figwidth(15)\n",
    "\n",
    "plt.margins(0.06)\n",
    "plt.title('')\n",
    "\n",
    "bins = 300\n",
    "values = sequences_df.isotope_0_2_mz_delta_ppm\n",
    "y, x, _ = ax1.hist(values, bins=bins)\n",
    "# mean = np.mean(values)\n",
    "# ax1.axvline(mean, color='darkorange', lw=1.0, ls='-.', label='mean')\n",
    "# text_style = dict(size=10, color='brown', verticalalignment='center', horizontalalignment='left')\n",
    "# ax1.text(mean*0.85, y.max()*0.98, \"mean {}\".format(round(mean,2)), **text_style, rotation='vertical')\n",
    "\n",
    "plt.xlabel('isotope_0_1_mz_delta_ppm')\n",
    "plt.ylabel('count')\n",
    "# plt.title('pre-normalisation sequence intensity coefficient of variance across 1to1 runs, k={}\\n({} unique sequences appearing in all runs)'.format(number_of_neighbours, len(sequence_cv_df)))\n",
    "# plt.xlim((0,2))\n",
    "# plt.ylim((0,600))\n",
    "\n",
    "# plt.show()"
   ]
  },
  {
   "cell_type": "code",
   "execution_count": 7,
   "metadata": {},
   "outputs": [
    {
     "data": {
      "text/html": [
       "<div>\n",
       "<style scoped>\n",
       "    .dataframe tbody tr th:only-of-type {\n",
       "        vertical-align: middle;\n",
       "    }\n",
       "\n",
       "    .dataframe tbody tr th {\n",
       "        vertical-align: top;\n",
       "    }\n",
       "\n",
       "    .dataframe thead th {\n",
       "        text-align: right;\n",
       "    }\n",
       "</style>\n",
       "<table border=\"1\" class=\"dataframe\">\n",
       "  <thead>\n",
       "    <tr style=\"text-align: right;\">\n",
       "      <th></th>\n",
       "      <th>sequence</th>\n",
       "      <th>charge</th>\n",
       "      <th>run_name</th>\n",
       "      <th>number_of_runs_extracted</th>\n",
       "      <th>human</th>\n",
       "      <th>group</th>\n",
       "      <th>classed_as</th>\n",
       "    </tr>\n",
       "  </thead>\n",
       "  <tbody>\n",
       "    <tr>\n",
       "      <th>77974</th>\n",
       "      <td>GEQMNSAVLPEMENQVAVSSLSAVIK</td>\n",
       "      <td>3</td>\n",
       "      <td>YHE114_04_Slot1-1_1_3011</td>\n",
       "      <td>28</td>\n",
       "      <td>1</td>\n",
       "      <td>YHE114</td>\n",
       "      <td>decoy</td>\n",
       "    </tr>\n",
       "    <tr>\n",
       "      <th>274558</th>\n",
       "      <td>QNVQVFEFQLTSEEMK</td>\n",
       "      <td>2</td>\n",
       "      <td>YHE010_11_Slot1-1_1_3041</td>\n",
       "      <td>31</td>\n",
       "      <td>1</td>\n",
       "      <td>YHE010</td>\n",
       "      <td>target</td>\n",
       "    </tr>\n",
       "    <tr>\n",
       "      <th>634186</th>\n",
       "      <td>ISAYSALSHPYFQDLER</td>\n",
       "      <td>2</td>\n",
       "      <td>YHE211_05_Slot1-1_1_3001</td>\n",
       "      <td>31</td>\n",
       "      <td>1</td>\n",
       "      <td>YHE211</td>\n",
       "      <td>target</td>\n",
       "    </tr>\n",
       "    <tr>\n",
       "      <th>270579</th>\n",
       "      <td>LCLGHER</td>\n",
       "      <td>2</td>\n",
       "      <td>YHE010_11_Slot1-1_1_3041</td>\n",
       "      <td>31</td>\n",
       "      <td>1</td>\n",
       "      <td>YHE010</td>\n",
       "      <td>decoy</td>\n",
       "    </tr>\n",
       "    <tr>\n",
       "      <th>311184</th>\n",
       "      <td>FQMTQEVVCDECPNVK</td>\n",
       "      <td>2</td>\n",
       "      <td>YHE114_06_Slot1-1_1_3013</td>\n",
       "      <td>28</td>\n",
       "      <td>1</td>\n",
       "      <td>YHE114</td>\n",
       "      <td>decoy</td>\n",
       "    </tr>\n",
       "  </tbody>\n",
       "</table>\n",
       "</div>"
      ],
      "text/plain": [
       "                          sequence  charge                  run_name  \\\n",
       "77974   GEQMNSAVLPEMENQVAVSSLSAVIK       3  YHE114_04_Slot1-1_1_3011   \n",
       "274558            QNVQVFEFQLTSEEMK       2  YHE010_11_Slot1-1_1_3041   \n",
       "634186           ISAYSALSHPYFQDLER       2  YHE211_05_Slot1-1_1_3001   \n",
       "270579                     LCLGHER       2  YHE010_11_Slot1-1_1_3041   \n",
       "311184            FQMTQEVVCDECPNVK       2  YHE114_06_Slot1-1_1_3013   \n",
       "\n",
       "        number_of_runs_extracted  human   group classed_as  \n",
       "77974                         28      1  YHE114      decoy  \n",
       "274558                        31      1  YHE010     target  \n",
       "634186                        31      1  YHE211     target  \n",
       "270579                        31      1  YHE010      decoy  \n",
       "311184                        28      1  YHE114      decoy  "
      ]
     },
     "execution_count": 7,
     "metadata": {},
     "output_type": "execute_result"
    }
   ],
   "source": [
    "sequences_df[['sequence','charge','run_name','number_of_runs_extracted','human','group','classed_as']].sample(n=5)"
   ]
  },
  {
   "cell_type": "code",
   "execution_count": 8,
   "metadata": {},
   "outputs": [],
   "source": [
    "sequences_df['group'] = sequences_df.run_name.apply(lambda x: x.split('_')[0])"
   ]
  },
  {
   "cell_type": "code",
   "execution_count": 9,
   "metadata": {},
   "outputs": [
    {
     "data": {
      "text/html": [
       "<div>\n",
       "<style scoped>\n",
       "    .dataframe tbody tr th:only-of-type {\n",
       "        vertical-align: middle;\n",
       "    }\n",
       "\n",
       "    .dataframe tbody tr th {\n",
       "        vertical-align: top;\n",
       "    }\n",
       "\n",
       "    .dataframe thead th {\n",
       "        text-align: right;\n",
       "    }\n",
       "</style>\n",
       "<table border=\"1\" class=\"dataframe\">\n",
       "  <thead>\n",
       "    <tr style=\"text-align: right;\">\n",
       "      <th></th>\n",
       "      <th>sequence</th>\n",
       "      <th>charge</th>\n",
       "      <th>run_name</th>\n",
       "      <th>number_of_runs_extracted</th>\n",
       "      <th>human</th>\n",
       "      <th>group</th>\n",
       "    </tr>\n",
       "  </thead>\n",
       "  <tbody>\n",
       "    <tr>\n",
       "      <th>462702</th>\n",
       "      <td>WIDLTMEDIR</td>\n",
       "      <td>2</td>\n",
       "      <td>YHE211_10_Slot1-1_1_3006</td>\n",
       "      <td>31</td>\n",
       "      <td>1</td>\n",
       "      <td>YHE211</td>\n",
       "    </tr>\n",
       "    <tr>\n",
       "      <th>474572</th>\n",
       "      <td>MQQENMKPQEQLTLEPYER</td>\n",
       "      <td>2</td>\n",
       "      <td>YHE010_07_Slot1-1_1_2992</td>\n",
       "      <td>31</td>\n",
       "      <td>1</td>\n",
       "      <td>YHE010</td>\n",
       "    </tr>\n",
       "    <tr>\n",
       "      <th>150743</th>\n",
       "      <td>ILGSGISSSSVLHGMVFK</td>\n",
       "      <td>2</td>\n",
       "      <td>YHE211_09_Slot1-1_1_3005</td>\n",
       "      <td>31</td>\n",
       "      <td>1</td>\n",
       "      <td>YHE211</td>\n",
       "    </tr>\n",
       "    <tr>\n",
       "      <th>555176</th>\n",
       "      <td>DALLLLM[15.9949]ALSAGSPTVGR</td>\n",
       "      <td>2</td>\n",
       "      <td>YHE211_07_Slot1-1_1_3003</td>\n",
       "      <td>31</td>\n",
       "      <td>1</td>\n",
       "      <td>YHE211</td>\n",
       "    </tr>\n",
       "    <tr>\n",
       "      <th>173867</th>\n",
       "      <td>GQILMPNIGYGSNK</td>\n",
       "      <td>2</td>\n",
       "      <td>YHE114_07_Slot1-1_1_3014</td>\n",
       "      <td>29</td>\n",
       "      <td>1</td>\n",
       "      <td>YHE114</td>\n",
       "    </tr>\n",
       "  </tbody>\n",
       "</table>\n",
       "</div>"
      ],
      "text/plain": [
       "                           sequence  charge                  run_name  \\\n",
       "462702                   WIDLTMEDIR       2  YHE211_10_Slot1-1_1_3006   \n",
       "474572          MQQENMKPQEQLTLEPYER       2  YHE010_07_Slot1-1_1_2992   \n",
       "150743           ILGSGISSSSVLHGMVFK       2  YHE211_09_Slot1-1_1_3005   \n",
       "555176  DALLLLM[15.9949]ALSAGSPTVGR       2  YHE211_07_Slot1-1_1_3003   \n",
       "173867               GQILMPNIGYGSNK       2  YHE114_07_Slot1-1_1_3014   \n",
       "\n",
       "        number_of_runs_extracted  human   group  \n",
       "462702                        31      1  YHE211  \n",
       "474572                        31      1  YHE010  \n",
       "150743                        31      1  YHE211  \n",
       "555176                        31      1  YHE211  \n",
       "173867                        29      1  YHE114  "
      ]
     },
     "execution_count": 9,
     "metadata": {},
     "output_type": "execute_result"
    }
   ],
   "source": [
    "sequences_df[['sequence','charge','run_name','number_of_runs_extracted','human','group']].sample(n=5)"
   ]
  },
  {
   "cell_type": "code",
   "execution_count": 10,
   "metadata": {},
   "outputs": [],
   "source": [
    "yhe_only_df = sequences_df[(sequences_df.group == 'YHE211') | (sequences_df.group == 'YHE114')]\n",
    "yhe_only_targets_df = yhe_only_df[(yhe_only_df.classed_as == 'target')]"
   ]
  },
  {
   "cell_type": "code",
   "execution_count": 11,
   "metadata": {},
   "outputs": [
    {
     "name": "stdout",
     "output_type": "stream",
     "text": [
      "there are 21 runs in the experiment\n"
     ]
    }
   ],
   "source": [
    "number_of_yhe_runs_in_experiment = len(yhe_only_df.file_idx.unique())\n",
    "print('there are {} runs in the experiment'.format(number_of_yhe_runs_in_experiment))"
   ]
  },
  {
   "cell_type": "code",
   "execution_count": 12,
   "metadata": {},
   "outputs": [],
   "source": [
    "# count how many runs each sequence/charge was extracted from\n",
    "sequence_occurences_l = []\n",
    "for group_name,group_df in yhe_only_targets_df.groupby(['sequence','charge'], as_index=False):\n",
    "    sequence_occurences_l.append((group_name, len(group_df), group_name[0], group_name[1]))\n",
    "yhe_sequence_occurences_df = pd.DataFrame(sequence_occurences_l, columns=['sequence_charge','number_of_runs_extracted','sequence','charge'])"
   ]
  },
  {
   "cell_type": "code",
   "execution_count": 13,
   "metadata": {},
   "outputs": [
    {
     "data": {
      "text/html": [
       "<div>\n",
       "<style scoped>\n",
       "    .dataframe tbody tr th:only-of-type {\n",
       "        vertical-align: middle;\n",
       "    }\n",
       "\n",
       "    .dataframe tbody tr th {\n",
       "        vertical-align: top;\n",
       "    }\n",
       "\n",
       "    .dataframe thead th {\n",
       "        text-align: right;\n",
       "    }\n",
       "</style>\n",
       "<table border=\"1\" class=\"dataframe\">\n",
       "  <thead>\n",
       "    <tr style=\"text-align: right;\">\n",
       "      <th></th>\n",
       "      <th>sequence_charge</th>\n",
       "      <th>number_of_runs_extracted</th>\n",
       "      <th>sequence</th>\n",
       "      <th>charge</th>\n",
       "    </tr>\n",
       "  </thead>\n",
       "  <tbody>\n",
       "    <tr>\n",
       "      <th>8530</th>\n",
       "      <td>(HFLEAIENNK, 2)</td>\n",
       "      <td>2</td>\n",
       "      <td>HFLEAIENNK</td>\n",
       "      <td>2</td>\n",
       "    </tr>\n",
       "    <tr>\n",
       "      <th>6088</th>\n",
       "      <td>(FFQGMPEKPTTTVR, 2)</td>\n",
       "      <td>20</td>\n",
       "      <td>FFQGMPEKPTTTVR</td>\n",
       "      <td>2</td>\n",
       "    </tr>\n",
       "    <tr>\n",
       "      <th>5937</th>\n",
       "      <td>(FDLVYHNENGAEVVEYAVTQESK, 2)</td>\n",
       "      <td>1</td>\n",
       "      <td>FDLVYHNENGAEVVEYAVTQESK</td>\n",
       "      <td>2</td>\n",
       "    </tr>\n",
       "    <tr>\n",
       "      <th>11680</th>\n",
       "      <td>(LGAEVDTNQYSVNDYR, 2)</td>\n",
       "      <td>19</td>\n",
       "      <td>LGAEVDTNQYSVNDYR</td>\n",
       "      <td>2</td>\n",
       "    </tr>\n",
       "    <tr>\n",
       "      <th>454</th>\n",
       "      <td>(AFGYYGPLR, 2)</td>\n",
       "      <td>10</td>\n",
       "      <td>AFGYYGPLR</td>\n",
       "      <td>2</td>\n",
       "    </tr>\n",
       "    <tr>\n",
       "      <th>1828</th>\n",
       "      <td>(AVSSAIAQLLGEVAQGNENYAGIAAR, 3)</td>\n",
       "      <td>21</td>\n",
       "      <td>AVSSAIAQLLGEVAQGNENYAGIAAR</td>\n",
       "      <td>3</td>\n",
       "    </tr>\n",
       "    <tr>\n",
       "      <th>6844</th>\n",
       "      <td>(FWCQVIFDETLQK, 2)</td>\n",
       "      <td>4</td>\n",
       "      <td>FWCQVIFDETLQK</td>\n",
       "      <td>2</td>\n",
       "    </tr>\n",
       "    <tr>\n",
       "      <th>13152</th>\n",
       "      <td>(LSNNAQNWGMQR, 2)</td>\n",
       "      <td>12</td>\n",
       "      <td>LSNNAQNWGMQR</td>\n",
       "      <td>2</td>\n",
       "    </tr>\n",
       "    <tr>\n",
       "      <th>5023</th>\n",
       "      <td>(ELSENINAVTLMK, 2)</td>\n",
       "      <td>21</td>\n",
       "      <td>ELSENINAVTLMK</td>\n",
       "      <td>2</td>\n",
       "    </tr>\n",
       "    <tr>\n",
       "      <th>9059</th>\n",
       "      <td>(HVVFGEVVDGYDIVK, 2)</td>\n",
       "      <td>15</td>\n",
       "      <td>HVVFGEVVDGYDIVK</td>\n",
       "      <td>2</td>\n",
       "    </tr>\n",
       "  </tbody>\n",
       "</table>\n",
       "</div>"
      ],
      "text/plain": [
       "                       sequence_charge  number_of_runs_extracted  \\\n",
       "8530                   (HFLEAIENNK, 2)                         2   \n",
       "6088               (FFQGMPEKPTTTVR, 2)                        20   \n",
       "5937      (FDLVYHNENGAEVVEYAVTQESK, 2)                         1   \n",
       "11680            (LGAEVDTNQYSVNDYR, 2)                        19   \n",
       "454                     (AFGYYGPLR, 2)                        10   \n",
       "1828   (AVSSAIAQLLGEVAQGNENYAGIAAR, 3)                        21   \n",
       "6844                (FWCQVIFDETLQK, 2)                         4   \n",
       "13152                (LSNNAQNWGMQR, 2)                        12   \n",
       "5023                (ELSENINAVTLMK, 2)                        21   \n",
       "9059              (HVVFGEVVDGYDIVK, 2)                        15   \n",
       "\n",
       "                         sequence  charge  \n",
       "8530                   HFLEAIENNK       2  \n",
       "6088               FFQGMPEKPTTTVR       2  \n",
       "5937      FDLVYHNENGAEVVEYAVTQESK       2  \n",
       "11680            LGAEVDTNQYSVNDYR       2  \n",
       "454                     AFGYYGPLR       2  \n",
       "1828   AVSSAIAQLLGEVAQGNENYAGIAAR       3  \n",
       "6844                FWCQVIFDETLQK       2  \n",
       "13152                LSNNAQNWGMQR       2  \n",
       "5023                ELSENINAVTLMK       2  \n",
       "9059              HVVFGEVVDGYDIVK       2  "
      ]
     },
     "execution_count": 13,
     "metadata": {},
     "output_type": "execute_result"
    }
   ],
   "source": [
    "yhe_sequence_occurences_df.sample(n=10)"
   ]
  },
  {
   "cell_type": "code",
   "execution_count": 14,
   "metadata": {},
   "outputs": [
    {
     "data": {
      "text/html": [
       "<div>\n",
       "<style scoped>\n",
       "    .dataframe tbody tr th:only-of-type {\n",
       "        vertical-align: middle;\n",
       "    }\n",
       "\n",
       "    .dataframe tbody tr th {\n",
       "        vertical-align: top;\n",
       "    }\n",
       "\n",
       "    .dataframe thead th {\n",
       "        text-align: right;\n",
       "    }\n",
       "</style>\n",
       "<table border=\"1\" class=\"dataframe\">\n",
       "  <thead>\n",
       "    <tr style=\"text-align: right;\">\n",
       "      <th></th>\n",
       "      <th>sequence</th>\n",
       "      <th>charge</th>\n",
       "      <th>file_idx</th>\n",
       "      <th>classed_as</th>\n",
       "    </tr>\n",
       "  </thead>\n",
       "  <tbody>\n",
       "    <tr>\n",
       "      <th>23682</th>\n",
       "      <td>VTVLTHCNTGALATAGYGTALGVIR</td>\n",
       "      <td>2</td>\n",
       "      <td>16</td>\n",
       "      <td>decoy</td>\n",
       "    </tr>\n",
       "    <tr>\n",
       "      <th>48379</th>\n",
       "      <td>VTVLTHCNTGALATAGYGTALGVIR</td>\n",
       "      <td>2</td>\n",
       "      <td>28</td>\n",
       "      <td>target</td>\n",
       "    </tr>\n",
       "    <tr>\n",
       "      <th>138789</th>\n",
       "      <td>VTVLTHCNTGALATAGYGTALGVIR</td>\n",
       "      <td>2</td>\n",
       "      <td>15</td>\n",
       "      <td>target</td>\n",
       "    </tr>\n",
       "    <tr>\n",
       "      <th>163771</th>\n",
       "      <td>VTVLTHCNTGALATAGYGTALGVIR</td>\n",
       "      <td>2</td>\n",
       "      <td>9</td>\n",
       "      <td>decoy</td>\n",
       "    </tr>\n",
       "    <tr>\n",
       "      <th>189035</th>\n",
       "      <td>VTVLTHCNTGALATAGYGTALGVIR</td>\n",
       "      <td>2</td>\n",
       "      <td>25</td>\n",
       "      <td>decoy</td>\n",
       "    </tr>\n",
       "    <tr>\n",
       "      <th>213961</th>\n",
       "      <td>VTVLTHCNTGALATAGYGTALGVIR</td>\n",
       "      <td>2</td>\n",
       "      <td>24</td>\n",
       "      <td>target</td>\n",
       "    </tr>\n",
       "    <tr>\n",
       "      <th>260385</th>\n",
       "      <td>VTVLTHCNTGALATAGYGTALGVIR</td>\n",
       "      <td>2</td>\n",
       "      <td>27</td>\n",
       "      <td>target</td>\n",
       "    </tr>\n",
       "    <tr>\n",
       "      <th>303223</th>\n",
       "      <td>VTVLTHCNTGALATAGYGTALGVIR</td>\n",
       "      <td>2</td>\n",
       "      <td>20</td>\n",
       "      <td>decoy</td>\n",
       "    </tr>\n",
       "    <tr>\n",
       "      <th>326406</th>\n",
       "      <td>VTVLTHCNTGALATAGYGTALGVIR</td>\n",
       "      <td>2</td>\n",
       "      <td>29</td>\n",
       "      <td>decoy</td>\n",
       "    </tr>\n",
       "    <tr>\n",
       "      <th>412469</th>\n",
       "      <td>VTVLTHCNTGALATAGYGTALGVIR</td>\n",
       "      <td>2</td>\n",
       "      <td>14</td>\n",
       "      <td>target</td>\n",
       "    </tr>\n",
       "    <tr>\n",
       "      <th>437396</th>\n",
       "      <td>VTVLTHCNTGALATAGYGTALGVIR</td>\n",
       "      <td>2</td>\n",
       "      <td>18</td>\n",
       "      <td>decoy</td>\n",
       "    </tr>\n",
       "    <tr>\n",
       "      <th>505770</th>\n",
       "      <td>VTVLTHCNTGALATAGYGTALGVIR</td>\n",
       "      <td>2</td>\n",
       "      <td>10</td>\n",
       "      <td>target</td>\n",
       "    </tr>\n",
       "    <tr>\n",
       "      <th>551206</th>\n",
       "      <td>VTVLTHCNTGALATAGYGTALGVIR</td>\n",
       "      <td>2</td>\n",
       "      <td>30</td>\n",
       "      <td>target</td>\n",
       "    </tr>\n",
       "    <tr>\n",
       "      <th>576127</th>\n",
       "      <td>VTVLTHCNTGALATAGYGTALGVIR</td>\n",
       "      <td>2</td>\n",
       "      <td>26</td>\n",
       "      <td>decoy</td>\n",
       "    </tr>\n",
       "    <tr>\n",
       "      <th>621997</th>\n",
       "      <td>VTVLTHCNTGALATAGYGTALGVIR</td>\n",
       "      <td>2</td>\n",
       "      <td>0</td>\n",
       "      <td>target</td>\n",
       "    </tr>\n",
       "    <tr>\n",
       "      <th>646559</th>\n",
       "      <td>VTVLTHCNTGALATAGYGTALGVIR</td>\n",
       "      <td>2</td>\n",
       "      <td>11</td>\n",
       "      <td>decoy</td>\n",
       "    </tr>\n",
       "    <tr>\n",
       "      <th>672076</th>\n",
       "      <td>VTVLTHCNTGALATAGYGTALGVIR</td>\n",
       "      <td>2</td>\n",
       "      <td>22</td>\n",
       "      <td>decoy</td>\n",
       "    </tr>\n",
       "    <tr>\n",
       "      <th>697198</th>\n",
       "      <td>VTVLTHCNTGALATAGYGTALGVIR</td>\n",
       "      <td>2</td>\n",
       "      <td>21</td>\n",
       "      <td>target</td>\n",
       "    </tr>\n",
       "    <tr>\n",
       "      <th>720730</th>\n",
       "      <td>VTVLTHCNTGALATAGYGTALGVIR</td>\n",
       "      <td>2</td>\n",
       "      <td>13</td>\n",
       "      <td>target</td>\n",
       "    </tr>\n",
       "  </tbody>\n",
       "</table>\n",
       "</div>"
      ],
      "text/plain": [
       "                         sequence  charge  file_idx classed_as\n",
       "23682   VTVLTHCNTGALATAGYGTALGVIR       2        16      decoy\n",
       "48379   VTVLTHCNTGALATAGYGTALGVIR       2        28     target\n",
       "138789  VTVLTHCNTGALATAGYGTALGVIR       2        15     target\n",
       "163771  VTVLTHCNTGALATAGYGTALGVIR       2         9      decoy\n",
       "189035  VTVLTHCNTGALATAGYGTALGVIR       2        25      decoy\n",
       "213961  VTVLTHCNTGALATAGYGTALGVIR       2        24     target\n",
       "260385  VTVLTHCNTGALATAGYGTALGVIR       2        27     target\n",
       "303223  VTVLTHCNTGALATAGYGTALGVIR       2        20      decoy\n",
       "326406  VTVLTHCNTGALATAGYGTALGVIR       2        29      decoy\n",
       "412469  VTVLTHCNTGALATAGYGTALGVIR       2        14     target\n",
       "437396  VTVLTHCNTGALATAGYGTALGVIR       2        18      decoy\n",
       "505770  VTVLTHCNTGALATAGYGTALGVIR       2        10     target\n",
       "551206  VTVLTHCNTGALATAGYGTALGVIR       2        30     target\n",
       "576127  VTVLTHCNTGALATAGYGTALGVIR       2        26      decoy\n",
       "621997  VTVLTHCNTGALATAGYGTALGVIR       2         0     target\n",
       "646559  VTVLTHCNTGALATAGYGTALGVIR       2        11      decoy\n",
       "672076  VTVLTHCNTGALATAGYGTALGVIR       2        22      decoy\n",
       "697198  VTVLTHCNTGALATAGYGTALGVIR       2        21     target\n",
       "720730  VTVLTHCNTGALATAGYGTALGVIR       2        13     target"
      ]
     },
     "execution_count": 14,
     "metadata": {},
     "output_type": "execute_result"
    }
   ],
   "source": [
    "df = yhe_only_df[(yhe_only_df.sequence == 'VTVLTHCNTGALATAGYGTALGVIR') & (yhe_only_df.charge == 2)][['sequence','charge','file_idx','classed_as']]\n",
    "df"
   ]
  },
  {
   "cell_type": "code",
   "execution_count": 15,
   "metadata": {},
   "outputs": [
    {
     "data": {
      "text/plain": [
       "19"
      ]
     },
     "execution_count": 15,
     "metadata": {},
     "output_type": "execute_result"
    }
   ],
   "source": [
    "len(df)"
   ]
  },
  {
   "cell_type": "code",
   "execution_count": 16,
   "metadata": {},
   "outputs": [
    {
     "name": "stdout",
     "output_type": "stream",
     "text": [
      "there are 27265 unique extracted sequences.\n",
      "38.0% of values are missing across the experiment.\n"
     ]
    }
   ],
   "source": [
    "# display the number of missing values across the experiment\n",
    "print(\"there are {} unique extracted sequences.\".format(len(yhe_only_df['sequence'].unique())))\n",
    "yhe_sequence_occurences_df['missing_files'] = number_of_yhe_runs_in_experiment - yhe_sequence_occurences_df.number_of_runs_extracted\n",
    "proportion_of_missing_values = yhe_sequence_occurences_df.missing_files.sum() / (len(yhe_sequence_occurences_df) * number_of_yhe_runs_in_experiment)\n",
    "print(\"{}% of values are missing across the experiment.\".format(round(proportion_of_missing_values*100)))"
   ]
  },
  {
   "cell_type": "code",
   "execution_count": 17,
   "metadata": {},
   "outputs": [
    {
     "data": {
      "text/plain": [
       "21"
      ]
     },
     "execution_count": 17,
     "metadata": {},
     "output_type": "execute_result"
    }
   ],
   "source": [
    "yhe_sequence_occurences_df.number_of_runs_extracted.max()"
   ]
  },
  {
   "cell_type": "code",
   "execution_count": 18,
   "metadata": {},
   "outputs": [],
   "source": [
    "human_only_df = sequences_df[(sequences_df.group == 'YHE010')]"
   ]
  },
  {
   "cell_type": "code",
   "execution_count": 19,
   "metadata": {},
   "outputs": [],
   "source": [
    "# count how many runs each sequence/charge was extracted from\n",
    "sequence_occurences_l = []\n",
    "for group_name,group_df in human_only_df.groupby(['sequence','charge'], as_index=False):\n",
    "    sequence_occurences_l.append((group_name, len(group_df), group_name[0], group_name[1], group_df.iloc[0].human))\n",
    "human_sequence_occurences_df = pd.DataFrame(sequence_occurences_l, columns=['sequence_charge','number_of_runs_extracted','sequence','charge','human'])\n"
   ]
  },
  {
   "cell_type": "code",
   "execution_count": 20,
   "metadata": {},
   "outputs": [
    {
     "data": {
      "text/html": [
       "<div>\n",
       "<style scoped>\n",
       "    .dataframe tbody tr th:only-of-type {\n",
       "        vertical-align: middle;\n",
       "    }\n",
       "\n",
       "    .dataframe tbody tr th {\n",
       "        vertical-align: top;\n",
       "    }\n",
       "\n",
       "    .dataframe thead th {\n",
       "        text-align: right;\n",
       "    }\n",
       "</style>\n",
       "<table border=\"1\" class=\"dataframe\">\n",
       "  <thead>\n",
       "    <tr style=\"text-align: right;\">\n",
       "      <th></th>\n",
       "      <th>sequence_charge</th>\n",
       "      <th>number_of_runs_extracted</th>\n",
       "      <th>sequence</th>\n",
       "      <th>charge</th>\n",
       "      <th>human</th>\n",
       "    </tr>\n",
       "  </thead>\n",
       "  <tbody>\n",
       "    <tr>\n",
       "      <th>15096</th>\n",
       "      <td>(MSNYDTDLFVPYFEAIQK, 2)</td>\n",
       "      <td>10</td>\n",
       "      <td>MSNYDTDLFVPYFEAIQK</td>\n",
       "      <td>2</td>\n",
       "      <td>1</td>\n",
       "    </tr>\n",
       "    <tr>\n",
       "      <th>20963</th>\n",
       "      <td>(TGQAPGYSYTAANK, 2)</td>\n",
       "      <td>10</td>\n",
       "      <td>TGQAPGYSYTAANK</td>\n",
       "      <td>2</td>\n",
       "      <td>1</td>\n",
       "    </tr>\n",
       "    <tr>\n",
       "      <th>11744</th>\n",
       "      <td>(LAGQWVEQEVEDRPEVK, 3)</td>\n",
       "      <td>10</td>\n",
       "      <td>LAGQWVEQEVEDRPEVK</td>\n",
       "      <td>3</td>\n",
       "      <td>1</td>\n",
       "    </tr>\n",
       "    <tr>\n",
       "      <th>12112</th>\n",
       "      <td>(LDSSGVAFAVVGACQALGLR, 2)</td>\n",
       "      <td>3</td>\n",
       "      <td>LDSSGVAFAVVGACQALGLR</td>\n",
       "      <td>2</td>\n",
       "      <td>1</td>\n",
       "    </tr>\n",
       "    <tr>\n",
       "      <th>740</th>\n",
       "      <td>(AHLAEIQLNGGSISEK, 2)</td>\n",
       "      <td>4</td>\n",
       "      <td>AHLAEIQLNGGSISEK</td>\n",
       "      <td>2</td>\n",
       "      <td>0</td>\n",
       "    </tr>\n",
       "    <tr>\n",
       "      <th>17301</th>\n",
       "      <td>(QQNVNGAFAELR, 2)</td>\n",
       "      <td>10</td>\n",
       "      <td>QQNVNGAFAELR</td>\n",
       "      <td>2</td>\n",
       "      <td>1</td>\n",
       "    </tr>\n",
       "    <tr>\n",
       "      <th>2830</th>\n",
       "      <td>(DFSHPQMPK, 2)</td>\n",
       "      <td>8</td>\n",
       "      <td>DFSHPQMPK</td>\n",
       "      <td>2</td>\n",
       "      <td>1</td>\n",
       "    </tr>\n",
       "    <tr>\n",
       "      <th>2211</th>\n",
       "      <td>(CLTQSGIAGGYKPFNLETCR, 3)</td>\n",
       "      <td>7</td>\n",
       "      <td>CLTQSGIAGGYKPFNLETCR</td>\n",
       "      <td>3</td>\n",
       "      <td>1</td>\n",
       "    </tr>\n",
       "    <tr>\n",
       "      <th>19001</th>\n",
       "      <td>(SEVIGDGNQIEIEIPPTR, 2)</td>\n",
       "      <td>10</td>\n",
       "      <td>SEVIGDGNQIEIEIPPTR</td>\n",
       "      <td>2</td>\n",
       "      <td>1</td>\n",
       "    </tr>\n",
       "    <tr>\n",
       "      <th>11529</th>\n",
       "      <td>(KGEDEDKGPPCGPVNCNEK, 3)</td>\n",
       "      <td>6</td>\n",
       "      <td>KGEDEDKGPPCGPVNCNEK</td>\n",
       "      <td>3</td>\n",
       "      <td>1</td>\n",
       "    </tr>\n",
       "  </tbody>\n",
       "</table>\n",
       "</div>"
      ],
      "text/plain": [
       "                 sequence_charge  number_of_runs_extracted  \\\n",
       "15096    (MSNYDTDLFVPYFEAIQK, 2)                        10   \n",
       "20963        (TGQAPGYSYTAANK, 2)                        10   \n",
       "11744     (LAGQWVEQEVEDRPEVK, 3)                        10   \n",
       "12112  (LDSSGVAFAVVGACQALGLR, 2)                         3   \n",
       "740        (AHLAEIQLNGGSISEK, 2)                         4   \n",
       "17301          (QQNVNGAFAELR, 2)                        10   \n",
       "2830              (DFSHPQMPK, 2)                         8   \n",
       "2211   (CLTQSGIAGGYKPFNLETCR, 3)                         7   \n",
       "19001    (SEVIGDGNQIEIEIPPTR, 2)                        10   \n",
       "11529   (KGEDEDKGPPCGPVNCNEK, 3)                         6   \n",
       "\n",
       "                   sequence  charge  human  \n",
       "15096    MSNYDTDLFVPYFEAIQK       2      1  \n",
       "20963        TGQAPGYSYTAANK       2      1  \n",
       "11744     LAGQWVEQEVEDRPEVK       3      1  \n",
       "12112  LDSSGVAFAVVGACQALGLR       2      1  \n",
       "740        AHLAEIQLNGGSISEK       2      0  \n",
       "17301          QQNVNGAFAELR       2      1  \n",
       "2830              DFSHPQMPK       2      1  \n",
       "2211   CLTQSGIAGGYKPFNLETCR       3      1  \n",
       "19001    SEVIGDGNQIEIEIPPTR       2      1  \n",
       "11529   KGEDEDKGPPCGPVNCNEK       3      1  "
      ]
     },
     "execution_count": 20,
     "metadata": {},
     "output_type": "execute_result"
    }
   ],
   "source": [
    "human_sequence_occurences_df.sample(n=10)"
   ]
  },
  {
   "cell_type": "code",
   "execution_count": 21,
   "metadata": {},
   "outputs": [
    {
     "data": {
      "text/plain": [
       "25309"
      ]
     },
     "execution_count": 21,
     "metadata": {},
     "output_type": "execute_result"
    }
   ],
   "source": [
    "len(human_sequence_occurences_df)"
   ]
  },
  {
   "cell_type": "code",
   "execution_count": 22,
   "metadata": {},
   "outputs": [
    {
     "data": {
      "text/plain": [
       "0.1297562132047888"
      ]
     },
     "execution_count": 22,
     "metadata": {},
     "output_type": "execute_result"
    }
   ],
   "source": [
    "# proportion of false positives i.e. non-human peptides found in the human-only runs\n",
    "len(human_sequence_occurences_df[(human_sequence_occurences_df.human == 0)]) / len(human_sequence_occurences_df)"
   ]
  },
  {
   "cell_type": "code",
   "execution_count": 23,
   "metadata": {},
   "outputs": [
    {
     "name": "stdout",
     "output_type": "stream",
     "text": [
      "there are 10 human-only runs in the experiment\n"
     ]
    }
   ],
   "source": [
    "number_of_human_runs_in_experiment = len(human_only_df.file_idx.unique())\n",
    "print('there are {} human-only runs in the experiment'.format(number_of_human_runs_in_experiment))"
   ]
  },
  {
   "cell_type": "code",
   "execution_count": 24,
   "metadata": {},
   "outputs": [
    {
     "name": "stdout",
     "output_type": "stream",
     "text": [
      "there are 23414 unique extracted sequences.\n",
      "21.0% of values are missing across the experiment.\n"
     ]
    }
   ],
   "source": [
    "# display the number of missing values across the experiment\n",
    "print(\"there are {} unique extracted sequences.\".format(len(human_only_df['sequence'].unique())))\n",
    "human_sequence_occurences_df['missing_files'] = number_of_human_runs_in_experiment - human_sequence_occurences_df.number_of_runs_extracted\n",
    "proportion_of_missing_values = human_sequence_occurences_df.missing_files.sum() / (len(human_sequence_occurences_df) * number_of_human_runs_in_experiment)\n",
    "print(\"{}% of values are missing across the experiment.\".format(round(proportion_of_missing_values*100)))"
   ]
  },
  {
   "cell_type": "code",
   "execution_count": null,
   "metadata": {},
   "outputs": [],
   "source": []
  }
 ],
 "metadata": {
  "kernelspec": {
   "display_name": "Python 3",
   "language": "python",
   "name": "python3"
  },
  "language_info": {
   "codemirror_mode": {
    "name": "ipython",
    "version": 3
   },
   "file_extension": ".py",
   "mimetype": "text/x-python",
   "name": "python",
   "nbconvert_exporter": "python",
   "pygments_lexer": "ipython3",
   "version": "3.6.8"
  }
 },
 "nbformat": 4,
 "nbformat_minor": 2
}
