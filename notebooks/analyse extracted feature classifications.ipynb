{
 "cells": [
  {
   "cell_type": "code",
   "execution_count": 1,
   "metadata": {},
   "outputs": [],
   "source": [
    "import pandas as pd\n",
    "import sqlite3\n",
    "import matplotlib.pyplot as plt"
   ]
  },
  {
   "cell_type": "code",
   "execution_count": 2,
   "metadata": {},
   "outputs": [],
   "source": [
    "EXTRACTED_FEATURES_DB_NAME = '/data/experiments/YHE/extracted-features/extracted-features.sqlite'"
   ]
  },
  {
   "cell_type": "code",
   "execution_count": 3,
   "metadata": {},
   "outputs": [],
   "source": [
    "db_conn = sqlite3.connect(EXTRACTED_FEATURES_DB_NAME)\n",
    "sequences_df = pd.read_sql_query(\"select * from features\", db_conn)\n",
    "db_conn.close()"
   ]
  },
  {
   "cell_type": "code",
   "execution_count": 4,
   "metadata": {},
   "outputs": [
    {
     "data": {
      "text/plain": [
       "Index(['sequence', 'charge', 'file_idx', 'peak_idx', 'target_coords',\n",
       "       'theoretical_mz', 'q_value', 'delta_mz_ppm', 'delta_rt', 'delta_scan',\n",
       "       'fwhm_rt_0', 'fwhm_scan_0', 'geometric_mean_0_1',\n",
       "       'geometric_mean_0_1_2', 'isotope_0_1_mz_delta_ppm',\n",
       "       'isotope_0_1_rt_delta', 'isotope_0_1_scan_delta',\n",
       "       'isotope_0_2_mz_delta_ppm', 'isotope_0_2_rt_delta',\n",
       "       'isotope_0_2_scan_delta', 'monoisotope_auc_over_isotope_peak_auc_sum',\n",
       "       'monoisotope_int_over_isotope_peak_int_sum', 'mz_delta_ppm_std_dev_0',\n",
       "       'mz_delta_ppm_std_dev_1', 'number_of_frames_0', 'number_of_frames_1',\n",
       "       'number_of_frames_2', 'number_of_missing_frames_0',\n",
       "       'number_of_missing_frames_1', 'number_of_missing_frames_2',\n",
       "       'peak_base_width_rt_0', 'peak_base_width_scan_0', 'r_squared_phr',\n",
       "       'rt_isotope_correlation', 'rt_isotope_cv', 'rt_peak_symmetry_0',\n",
       "       'rt_peak_symmetry_1', 'rt_peak_symmetry_2', 'scan_isotope_correlation',\n",
       "       'scan_isotope_cv', 'scan_peak_symmetry_0', 'scan_peak_symmetry_1',\n",
       "       'scan_peak_symmetry_2', 'classed_as', 'inferred', 'intensity',\n",
       "       'isotope_1_filtered_points_l', 'isotope_1_rt_bounds',\n",
       "       'isotope_1_scan_bounds', 'isotope_2_filtered_points_l',\n",
       "       'isotope_2_rt_bounds', 'isotope_2_scan_bounds',\n",
       "       'isotope_idx_not_in_saturation', 'isotope_intensities_l',\n",
       "       'mono_filtered_points_l', 'mono_rt_bounds', 'mono_scan_bounds',\n",
       "       'monoisotopic_mass', 'monoisotopic_mz_centroid',\n",
       "       'monoisotopic_mz_delta_ppm', 'number_of_isotopes',\n",
       "       'peak_proportion_intensity', 'peak_proportions', 'rt_apex', 'scan_apex',\n",
       "       'run_name', 'group', 'human', 'number_of_runs_extracted'],\n",
       "      dtype='object')"
      ]
     },
     "execution_count": 4,
     "metadata": {},
     "output_type": "execute_result"
    }
   ],
   "source": [
    "sequences_df.columns"
   ]
  },
  {
   "cell_type": "code",
   "execution_count": 7,
   "metadata": {},
   "outputs": [
    {
     "data": {
      "text/html": [
       "<div>\n",
       "<style scoped>\n",
       "    .dataframe tbody tr th:only-of-type {\n",
       "        vertical-align: middle;\n",
       "    }\n",
       "\n",
       "    .dataframe tbody tr th {\n",
       "        vertical-align: top;\n",
       "    }\n",
       "\n",
       "    .dataframe thead th {\n",
       "        text-align: right;\n",
       "    }\n",
       "</style>\n",
       "<table border=\"1\" class=\"dataframe\">\n",
       "  <thead>\n",
       "    <tr style=\"text-align: right;\">\n",
       "      <th></th>\n",
       "      <th>sequence</th>\n",
       "      <th>charge</th>\n",
       "      <th>run_name</th>\n",
       "      <th>number_of_runs_extracted</th>\n",
       "      <th>human</th>\n",
       "      <th>group</th>\n",
       "      <th>classed_as</th>\n",
       "    </tr>\n",
       "  </thead>\n",
       "  <tbody>\n",
       "    <tr>\n",
       "      <th>289495</th>\n",
       "      <td>HLSYQR</td>\n",
       "      <td>2</td>\n",
       "      <td>YHE211_02_Slot1-1_1_2998</td>\n",
       "      <td>20</td>\n",
       "      <td>0</td>\n",
       "      <td>YHE211</td>\n",
       "      <td>decoy</td>\n",
       "    </tr>\n",
       "    <tr>\n",
       "      <th>213406</th>\n",
       "      <td>VMTIAPGLFGTPLLTSLPEK</td>\n",
       "      <td>2</td>\n",
       "      <td>YHE211_03_Slot1-1_1_2999</td>\n",
       "      <td>31</td>\n",
       "      <td>1</td>\n",
       "      <td>YHE211</td>\n",
       "      <td>target</td>\n",
       "    </tr>\n",
       "    <tr>\n",
       "      <th>649403</th>\n",
       "      <td>APLATGEDDDDEVPDLVENFDEASK</td>\n",
       "      <td>2</td>\n",
       "      <td>YHE114_03_Slot1-1_1_3010</td>\n",
       "      <td>31</td>\n",
       "      <td>1</td>\n",
       "      <td>YHE114</td>\n",
       "      <td>target</td>\n",
       "    </tr>\n",
       "    <tr>\n",
       "      <th>134177</th>\n",
       "      <td>SGYHQSASEHGLVVIAPDTSPR</td>\n",
       "      <td>2</td>\n",
       "      <td>YHE114_10_Slot1-1_1_3017</td>\n",
       "      <td>29</td>\n",
       "      <td>1</td>\n",
       "      <td>YHE114</td>\n",
       "      <td>decoy</td>\n",
       "    </tr>\n",
       "    <tr>\n",
       "      <th>39797</th>\n",
       "      <td>MQAQMQMQMQGGDGDGGALGHHV</td>\n",
       "      <td>3</td>\n",
       "      <td>YHE211_01_Slot1-1_1_2997</td>\n",
       "      <td>28</td>\n",
       "      <td>1</td>\n",
       "      <td>YHE211</td>\n",
       "      <td>decoy</td>\n",
       "    </tr>\n",
       "  </tbody>\n",
       "</table>\n",
       "</div>"
      ],
      "text/plain": [
       "                         sequence  charge                  run_name  \\\n",
       "289495                     HLSYQR       2  YHE211_02_Slot1-1_1_2998   \n",
       "213406       VMTIAPGLFGTPLLTSLPEK       2  YHE211_03_Slot1-1_1_2999   \n",
       "649403  APLATGEDDDDEVPDLVENFDEASK       2  YHE114_03_Slot1-1_1_3010   \n",
       "134177     SGYHQSASEHGLVVIAPDTSPR       2  YHE114_10_Slot1-1_1_3017   \n",
       "39797     MQAQMQMQMQGGDGDGGALGHHV       3  YHE211_01_Slot1-1_1_2997   \n",
       "\n",
       "        number_of_runs_extracted  human   group classed_as  \n",
       "289495                        20      0  YHE211      decoy  \n",
       "213406                        31      1  YHE211     target  \n",
       "649403                        31      1  YHE114     target  \n",
       "134177                        29      1  YHE114      decoy  \n",
       "39797                         28      1  YHE211      decoy  "
      ]
     },
     "execution_count": 7,
     "metadata": {},
     "output_type": "execute_result"
    }
   ],
   "source": [
    "sequences_df[['sequence','charge','run_name','number_of_runs_extracted','human','group','classed_as']].sample(n=5)"
   ]
  },
  {
   "cell_type": "code",
   "execution_count": 8,
   "metadata": {},
   "outputs": [],
   "source": [
    "sequences_df['group'] = sequences_df.run_name.apply(lambda x: x.split('_')[0])"
   ]
  },
  {
   "cell_type": "code",
   "execution_count": 9,
   "metadata": {},
   "outputs": [
    {
     "data": {
      "text/html": [
       "<div>\n",
       "<style scoped>\n",
       "    .dataframe tbody tr th:only-of-type {\n",
       "        vertical-align: middle;\n",
       "    }\n",
       "\n",
       "    .dataframe tbody tr th {\n",
       "        vertical-align: top;\n",
       "    }\n",
       "\n",
       "    .dataframe thead th {\n",
       "        text-align: right;\n",
       "    }\n",
       "</style>\n",
       "<table border=\"1\" class=\"dataframe\">\n",
       "  <thead>\n",
       "    <tr style=\"text-align: right;\">\n",
       "      <th></th>\n",
       "      <th>sequence</th>\n",
       "      <th>charge</th>\n",
       "      <th>run_name</th>\n",
       "      <th>number_of_runs_extracted</th>\n",
       "      <th>human</th>\n",
       "      <th>group</th>\n",
       "    </tr>\n",
       "  </thead>\n",
       "  <tbody>\n",
       "    <tr>\n",
       "      <th>127958</th>\n",
       "      <td>LITSHLVDTDPEVDSIIK</td>\n",
       "      <td>2</td>\n",
       "      <td>YHE114_10_Slot1-1_1_3017</td>\n",
       "      <td>21</td>\n",
       "      <td>0</td>\n",
       "      <td>YHE114</td>\n",
       "    </tr>\n",
       "    <tr>\n",
       "      <th>474741</th>\n",
       "      <td>M[15.9949]DDSALQLNHTANEFAR</td>\n",
       "      <td>2</td>\n",
       "      <td>YHE010_07_Slot1-1_1_2992</td>\n",
       "      <td>30</td>\n",
       "      <td>1</td>\n",
       "      <td>YHE010</td>\n",
       "    </tr>\n",
       "    <tr>\n",
       "      <th>576182</th>\n",
       "      <td>VVEVCLADLQGSEDHSFR</td>\n",
       "      <td>2</td>\n",
       "      <td>YHE211_07_Slot1-1_1_3003</td>\n",
       "      <td>21</td>\n",
       "      <td>0</td>\n",
       "      <td>YHE211</td>\n",
       "    </tr>\n",
       "    <tr>\n",
       "      <th>442768</th>\n",
       "      <td>DTTALSFFHMLNGAALR</td>\n",
       "      <td>2</td>\n",
       "      <td>YHE211_10_Slot1-1_1_3006</td>\n",
       "      <td>31</td>\n",
       "      <td>1</td>\n",
       "      <td>YHE211</td>\n",
       "    </tr>\n",
       "    <tr>\n",
       "      <th>414144</th>\n",
       "      <td>ADGGTGDSSPSPGSSLPSPLSDPR</td>\n",
       "      <td>2</td>\n",
       "      <td>YHE114_11_Slot1-1_1_3043</td>\n",
       "      <td>31</td>\n",
       "      <td>1</td>\n",
       "      <td>YHE114</td>\n",
       "    </tr>\n",
       "  </tbody>\n",
       "</table>\n",
       "</div>"
      ],
      "text/plain": [
       "                          sequence  charge                  run_name  \\\n",
       "127958          LITSHLVDTDPEVDSIIK       2  YHE114_10_Slot1-1_1_3017   \n",
       "474741  M[15.9949]DDSALQLNHTANEFAR       2  YHE010_07_Slot1-1_1_2992   \n",
       "576182          VVEVCLADLQGSEDHSFR       2  YHE211_07_Slot1-1_1_3003   \n",
       "442768           DTTALSFFHMLNGAALR       2  YHE211_10_Slot1-1_1_3006   \n",
       "414144    ADGGTGDSSPSPGSSLPSPLSDPR       2  YHE114_11_Slot1-1_1_3043   \n",
       "\n",
       "        number_of_runs_extracted  human   group  \n",
       "127958                        21      0  YHE114  \n",
       "474741                        30      1  YHE010  \n",
       "576182                        21      0  YHE211  \n",
       "442768                        31      1  YHE211  \n",
       "414144                        31      1  YHE114  "
      ]
     },
     "execution_count": 9,
     "metadata": {},
     "output_type": "execute_result"
    }
   ],
   "source": [
    "sequences_df[['sequence','charge','run_name','number_of_runs_extracted','human','group']].sample(n=5)"
   ]
  },
  {
   "cell_type": "code",
   "execution_count": 10,
   "metadata": {},
   "outputs": [],
   "source": [
    "yhe_only_df = sequences_df[(sequences_df.group == 'YHE211') | (sequences_df.group == 'YHE114')]\n",
    "yhe_only_targets_df = yhe_only_df[(yhe_only_df.classed_as == 'target')]"
   ]
  },
  {
   "cell_type": "code",
   "execution_count": 11,
   "metadata": {},
   "outputs": [
    {
     "name": "stdout",
     "output_type": "stream",
     "text": [
      "there are 21 runs in the experiment\n"
     ]
    }
   ],
   "source": [
    "number_of_yhe_runs_in_experiment = len(yhe_only_df.file_idx.unique())\n",
    "print('there are {} runs in the experiment'.format(number_of_yhe_runs_in_experiment))"
   ]
  },
  {
   "cell_type": "code",
   "execution_count": 12,
   "metadata": {},
   "outputs": [],
   "source": [
    "# count how many runs each sequence/charge was extracted from\n",
    "sequence_occurences_l = []\n",
    "for group_name,group_df in yhe_only_targets_df.groupby(['sequence','charge'], as_index=False):\n",
    "    sequence_occurences_l.append((group_name, len(group_df), group_name[0], group_name[1]))\n",
    "yhe_sequence_occurences_df = pd.DataFrame(sequence_occurences_l, columns=['sequence_charge','number_of_runs_extracted','sequence','charge'])"
   ]
  },
  {
   "cell_type": "code",
   "execution_count": 26,
   "metadata": {},
   "outputs": [
    {
     "data": {
      "text/html": [
       "<div>\n",
       "<style scoped>\n",
       "    .dataframe tbody tr th:only-of-type {\n",
       "        vertical-align: middle;\n",
       "    }\n",
       "\n",
       "    .dataframe tbody tr th {\n",
       "        vertical-align: top;\n",
       "    }\n",
       "\n",
       "    .dataframe thead th {\n",
       "        text-align: right;\n",
       "    }\n",
       "</style>\n",
       "<table border=\"1\" class=\"dataframe\">\n",
       "  <thead>\n",
       "    <tr style=\"text-align: right;\">\n",
       "      <th></th>\n",
       "      <th>sequence</th>\n",
       "      <th>charge</th>\n",
       "      <th>file_idx</th>\n",
       "      <th>classed_as</th>\n",
       "    </tr>\n",
       "  </thead>\n",
       "  <tbody>\n",
       "    <tr>\n",
       "      <th>2365</th>\n",
       "      <td>CQNIYLTTGYAGSK</td>\n",
       "      <td>2</td>\n",
       "      <td>16</td>\n",
       "      <td>decoy</td>\n",
       "    </tr>\n",
       "    <tr>\n",
       "      <th>27477</th>\n",
       "      <td>CQNIYLTTGYAGSK</td>\n",
       "      <td>2</td>\n",
       "      <td>28</td>\n",
       "      <td>decoy</td>\n",
       "    </tr>\n",
       "    <tr>\n",
       "      <th>72559</th>\n",
       "      <td>CQNIYLTTGYAGSK</td>\n",
       "      <td>2</td>\n",
       "      <td>23</td>\n",
       "      <td>decoy</td>\n",
       "    </tr>\n",
       "    <tr>\n",
       "      <th>117473</th>\n",
       "      <td>CQNIYLTTGYAGSK</td>\n",
       "      <td>2</td>\n",
       "      <td>15</td>\n",
       "      <td>decoy</td>\n",
       "    </tr>\n",
       "    <tr>\n",
       "      <th>142576</th>\n",
       "      <td>CQNIYLTTGYAGSK</td>\n",
       "      <td>2</td>\n",
       "      <td>9</td>\n",
       "      <td>decoy</td>\n",
       "    </tr>\n",
       "    <tr>\n",
       "      <th>167617</th>\n",
       "      <td>CQNIYLTTGYAGSK</td>\n",
       "      <td>2</td>\n",
       "      <td>25</td>\n",
       "      <td>target</td>\n",
       "    </tr>\n",
       "    <tr>\n",
       "      <th>192832</th>\n",
       "      <td>CQNIYLTTGYAGSK</td>\n",
       "      <td>2</td>\n",
       "      <td>24</td>\n",
       "      <td>target</td>\n",
       "    </tr>\n",
       "    <tr>\n",
       "      <th>238919</th>\n",
       "      <td>CQNIYLTTGYAGSK</td>\n",
       "      <td>2</td>\n",
       "      <td>27</td>\n",
       "      <td>decoy</td>\n",
       "    </tr>\n",
       "    <tr>\n",
       "      <th>282673</th>\n",
       "      <td>CQNIYLTTGYAGSK</td>\n",
       "      <td>2</td>\n",
       "      <td>20</td>\n",
       "      <td>target</td>\n",
       "    </tr>\n",
       "    <tr>\n",
       "      <th>306781</th>\n",
       "      <td>CQNIYLTTGYAGSK</td>\n",
       "      <td>2</td>\n",
       "      <td>29</td>\n",
       "      <td>target</td>\n",
       "    </tr>\n",
       "    <tr>\n",
       "      <th>391776</th>\n",
       "      <td>CQNIYLTTGYAGSK</td>\n",
       "      <td>2</td>\n",
       "      <td>14</td>\n",
       "      <td>target</td>\n",
       "    </tr>\n",
       "    <tr>\n",
       "      <th>416225</th>\n",
       "      <td>CQNIYLTTGYAGSK</td>\n",
       "      <td>2</td>\n",
       "      <td>18</td>\n",
       "      <td>target</td>\n",
       "    </tr>\n",
       "    <tr>\n",
       "      <th>441153</th>\n",
       "      <td>CQNIYLTTGYAGSK</td>\n",
       "      <td>2</td>\n",
       "      <td>8</td>\n",
       "      <td>decoy</td>\n",
       "    </tr>\n",
       "    <tr>\n",
       "      <th>484224</th>\n",
       "      <td>CQNIYLTTGYAGSK</td>\n",
       "      <td>2</td>\n",
       "      <td>10</td>\n",
       "      <td>target</td>\n",
       "    </tr>\n",
       "    <tr>\n",
       "      <th>530492</th>\n",
       "      <td>CQNIYLTTGYAGSK</td>\n",
       "      <td>2</td>\n",
       "      <td>30</td>\n",
       "      <td>decoy</td>\n",
       "    </tr>\n",
       "    <tr>\n",
       "      <th>554989</th>\n",
       "      <td>CQNIYLTTGYAGSK</td>\n",
       "      <td>2</td>\n",
       "      <td>26</td>\n",
       "      <td>decoy</td>\n",
       "    </tr>\n",
       "    <tr>\n",
       "      <th>600337</th>\n",
       "      <td>CQNIYLTTGYAGSK</td>\n",
       "      <td>2</td>\n",
       "      <td>0</td>\n",
       "      <td>decoy</td>\n",
       "    </tr>\n",
       "    <tr>\n",
       "      <th>625784</th>\n",
       "      <td>CQNIYLTTGYAGSK</td>\n",
       "      <td>2</td>\n",
       "      <td>11</td>\n",
       "      <td>decoy</td>\n",
       "    </tr>\n",
       "    <tr>\n",
       "      <th>650392</th>\n",
       "      <td>CQNIYLTTGYAGSK</td>\n",
       "      <td>2</td>\n",
       "      <td>22</td>\n",
       "      <td>decoy</td>\n",
       "    </tr>\n",
       "    <tr>\n",
       "      <th>675949</th>\n",
       "      <td>CQNIYLTTGYAGSK</td>\n",
       "      <td>2</td>\n",
       "      <td>21</td>\n",
       "      <td>target</td>\n",
       "    </tr>\n",
       "    <tr>\n",
       "      <th>700837</th>\n",
       "      <td>CQNIYLTTGYAGSK</td>\n",
       "      <td>2</td>\n",
       "      <td>13</td>\n",
       "      <td>decoy</td>\n",
       "    </tr>\n",
       "  </tbody>\n",
       "</table>\n",
       "</div>"
      ],
      "text/plain": [
       "              sequence  charge  file_idx classed_as\n",
       "2365    CQNIYLTTGYAGSK       2        16      decoy\n",
       "27477   CQNIYLTTGYAGSK       2        28      decoy\n",
       "72559   CQNIYLTTGYAGSK       2        23      decoy\n",
       "117473  CQNIYLTTGYAGSK       2        15      decoy\n",
       "142576  CQNIYLTTGYAGSK       2         9      decoy\n",
       "167617  CQNIYLTTGYAGSK       2        25     target\n",
       "192832  CQNIYLTTGYAGSK       2        24     target\n",
       "238919  CQNIYLTTGYAGSK       2        27      decoy\n",
       "282673  CQNIYLTTGYAGSK       2        20     target\n",
       "306781  CQNIYLTTGYAGSK       2        29     target\n",
       "391776  CQNIYLTTGYAGSK       2        14     target\n",
       "416225  CQNIYLTTGYAGSK       2        18     target\n",
       "441153  CQNIYLTTGYAGSK       2         8      decoy\n",
       "484224  CQNIYLTTGYAGSK       2        10     target\n",
       "530492  CQNIYLTTGYAGSK       2        30      decoy\n",
       "554989  CQNIYLTTGYAGSK       2        26      decoy\n",
       "600337  CQNIYLTTGYAGSK       2         0      decoy\n",
       "625784  CQNIYLTTGYAGSK       2        11      decoy\n",
       "650392  CQNIYLTTGYAGSK       2        22      decoy\n",
       "675949  CQNIYLTTGYAGSK       2        21     target\n",
       "700837  CQNIYLTTGYAGSK       2        13      decoy"
      ]
     },
     "execution_count": 26,
     "metadata": {},
     "output_type": "execute_result"
    }
   ],
   "source": [
    "df = yhe_only_df[(yhe_only_df.sequence == 'CQNIYLTTGYAGSK') & (yhe_only_df.charge == 2)][['sequence','charge','file_idx','classed_as']]\n",
    "df"
   ]
  },
  {
   "cell_type": "code",
   "execution_count": 15,
   "metadata": {},
   "outputs": [
    {
     "data": {
      "text/plain": [
       "19"
      ]
     },
     "execution_count": 15,
     "metadata": {},
     "output_type": "execute_result"
    }
   ],
   "source": [
    "len(df)"
   ]
  },
  {
   "cell_type": "code",
   "execution_count": 16,
   "metadata": {},
   "outputs": [
    {
     "name": "stdout",
     "output_type": "stream",
     "text": [
      "there are 27265 unique extracted sequences.\n",
      "38.0% of values are missing across the experiment.\n"
     ]
    }
   ],
   "source": [
    "# display the number of missing values across the experiment\n",
    "print(\"there are {} unique extracted sequences.\".format(len(yhe_only_df['sequence'].unique())))\n",
    "yhe_sequence_occurences_df['missing_files'] = number_of_yhe_runs_in_experiment - yhe_sequence_occurences_df.number_of_runs_extracted\n",
    "proportion_of_missing_values = yhe_sequence_occurences_df.missing_files.sum() / (len(yhe_sequence_occurences_df) * number_of_yhe_runs_in_experiment)\n",
    "print(\"{}% of values are missing across the experiment.\".format(round(proportion_of_missing_values*100)))"
   ]
  },
  {
   "cell_type": "code",
   "execution_count": 25,
   "metadata": {},
   "outputs": [
    {
     "data": {
      "text/html": [
       "<div>\n",
       "<style scoped>\n",
       "    .dataframe tbody tr th:only-of-type {\n",
       "        vertical-align: middle;\n",
       "    }\n",
       "\n",
       "    .dataframe tbody tr th {\n",
       "        vertical-align: top;\n",
       "    }\n",
       "\n",
       "    .dataframe thead th {\n",
       "        text-align: right;\n",
       "    }\n",
       "</style>\n",
       "<table border=\"1\" class=\"dataframe\">\n",
       "  <thead>\n",
       "    <tr style=\"text-align: right;\">\n",
       "      <th></th>\n",
       "      <th>sequence_charge</th>\n",
       "      <th>number_of_runs_extracted</th>\n",
       "      <th>sequence</th>\n",
       "      <th>charge</th>\n",
       "      <th>missing_files</th>\n",
       "    </tr>\n",
       "  </thead>\n",
       "  <tbody>\n",
       "    <tr>\n",
       "      <th>2122</th>\n",
       "      <td>(CQNIYLTTGYAGSK, 2)</td>\n",
       "      <td>8</td>\n",
       "      <td>CQNIYLTTGYAGSK</td>\n",
       "      <td>2</td>\n",
       "      <td>13</td>\n",
       "    </tr>\n",
       "    <tr>\n",
       "      <th>11286</th>\n",
       "      <td>(LEPSTSTDQPVTPEPTSQATR, 2)</td>\n",
       "      <td>3</td>\n",
       "      <td>LEPSTSTDQPVTPEPTSQATR</td>\n",
       "      <td>2</td>\n",
       "      <td>18</td>\n",
       "    </tr>\n",
       "    <tr>\n",
       "      <th>11311</th>\n",
       "      <td>(LESEMEDAYHEHQANLLR, 3)</td>\n",
       "      <td>21</td>\n",
       "      <td>LESEMEDAYHEHQANLLR</td>\n",
       "      <td>3</td>\n",
       "      <td>0</td>\n",
       "    </tr>\n",
       "    <tr>\n",
       "      <th>21968</th>\n",
       "      <td>(VVQLHEYSEELEK, 2)</td>\n",
       "      <td>13</td>\n",
       "      <td>VVQLHEYSEELEK</td>\n",
       "      <td>2</td>\n",
       "      <td>8</td>\n",
       "    </tr>\n",
       "    <tr>\n",
       "      <th>11620</th>\n",
       "      <td>(LGPLFSLLNENHR, 2)</td>\n",
       "      <td>21</td>\n",
       "      <td>LGPLFSLLNENHR</td>\n",
       "      <td>2</td>\n",
       "      <td>0</td>\n",
       "    </tr>\n",
       "    <tr>\n",
       "      <th>10266</th>\n",
       "      <td>(ITLQDVVSHSK, 2)</td>\n",
       "      <td>5</td>\n",
       "      <td>ITLQDVVSHSK</td>\n",
       "      <td>2</td>\n",
       "      <td>16</td>\n",
       "    </tr>\n",
       "    <tr>\n",
       "      <th>20198</th>\n",
       "      <td>(TWYPVSIPAFYNPVTSLLKPVGEK, 3)</td>\n",
       "      <td>21</td>\n",
       "      <td>TWYPVSIPAFYNPVTSLLKPVGEK</td>\n",
       "      <td>3</td>\n",
       "      <td>0</td>\n",
       "    </tr>\n",
       "    <tr>\n",
       "      <th>9695</th>\n",
       "      <td>(ILLANFLAQTEALMR, 2)</td>\n",
       "      <td>21</td>\n",
       "      <td>ILLANFLAQTEALMR</td>\n",
       "      <td>2</td>\n",
       "      <td>0</td>\n",
       "    </tr>\n",
       "    <tr>\n",
       "      <th>12644</th>\n",
       "      <td>(LQEGYDHSYYFIATFITDHIR, 3)</td>\n",
       "      <td>18</td>\n",
       "      <td>LQEGYDHSYYFIATFITDHIR</td>\n",
       "      <td>3</td>\n",
       "      <td>3</td>\n",
       "    </tr>\n",
       "    <tr>\n",
       "      <th>2242</th>\n",
       "      <td>(DAAASASTPAQAPTSDSPVAEDASR, 2)</td>\n",
       "      <td>11</td>\n",
       "      <td>DAAASASTPAQAPTSDSPVAEDASR</td>\n",
       "      <td>2</td>\n",
       "      <td>10</td>\n",
       "    </tr>\n",
       "  </tbody>\n",
       "</table>\n",
       "</div>"
      ],
      "text/plain": [
       "                      sequence_charge  number_of_runs_extracted  \\\n",
       "2122              (CQNIYLTTGYAGSK, 2)                         8   \n",
       "11286      (LEPSTSTDQPVTPEPTSQATR, 2)                         3   \n",
       "11311         (LESEMEDAYHEHQANLLR, 3)                        21   \n",
       "21968              (VVQLHEYSEELEK, 2)                        13   \n",
       "11620              (LGPLFSLLNENHR, 2)                        21   \n",
       "10266                (ITLQDVVSHSK, 2)                         5   \n",
       "20198   (TWYPVSIPAFYNPVTSLLKPVGEK, 3)                        21   \n",
       "9695             (ILLANFLAQTEALMR, 2)                        21   \n",
       "12644      (LQEGYDHSYYFIATFITDHIR, 3)                        18   \n",
       "2242   (DAAASASTPAQAPTSDSPVAEDASR, 2)                        11   \n",
       "\n",
       "                        sequence  charge  missing_files  \n",
       "2122              CQNIYLTTGYAGSK       2             13  \n",
       "11286      LEPSTSTDQPVTPEPTSQATR       2             18  \n",
       "11311         LESEMEDAYHEHQANLLR       3              0  \n",
       "21968              VVQLHEYSEELEK       2              8  \n",
       "11620              LGPLFSLLNENHR       2              0  \n",
       "10266                ITLQDVVSHSK       2             16  \n",
       "20198   TWYPVSIPAFYNPVTSLLKPVGEK       3              0  \n",
       "9695             ILLANFLAQTEALMR       2              0  \n",
       "12644      LQEGYDHSYYFIATFITDHIR       3              3  \n",
       "2242   DAAASASTPAQAPTSDSPVAEDASR       2             10  "
      ]
     },
     "execution_count": 25,
     "metadata": {},
     "output_type": "execute_result"
    }
   ],
   "source": [
    "yhe_sequence_occurences_df.sample(n=10)"
   ]
  },
  {
   "cell_type": "code",
   "execution_count": 17,
   "metadata": {},
   "outputs": [
    {
     "data": {
      "text/plain": [
       "21"
      ]
     },
     "execution_count": 17,
     "metadata": {},
     "output_type": "execute_result"
    }
   ],
   "source": [
    "yhe_sequence_occurences_df.number_of_runs_extracted.max()"
   ]
  },
  {
   "cell_type": "code",
   "execution_count": 18,
   "metadata": {},
   "outputs": [],
   "source": [
    "human_only_df = sequences_df[(sequences_df.group == 'YHE010')]"
   ]
  },
  {
   "cell_type": "code",
   "execution_count": 19,
   "metadata": {},
   "outputs": [],
   "source": [
    "# count how many runs each sequence/charge was extracted from\n",
    "sequence_occurences_l = []\n",
    "for group_name,group_df in human_only_df.groupby(['sequence','charge'], as_index=False):\n",
    "    sequence_occurences_l.append((group_name, len(group_df), group_name[0], group_name[1], group_df.iloc[0].human))\n",
    "human_sequence_occurences_df = pd.DataFrame(sequence_occurences_l, columns=['sequence_charge','number_of_runs_extracted','sequence','charge','human'])\n"
   ]
  },
  {
   "cell_type": "code",
   "execution_count": 20,
   "metadata": {},
   "outputs": [
    {
     "data": {
      "text/html": [
       "<div>\n",
       "<style scoped>\n",
       "    .dataframe tbody tr th:only-of-type {\n",
       "        vertical-align: middle;\n",
       "    }\n",
       "\n",
       "    .dataframe tbody tr th {\n",
       "        vertical-align: top;\n",
       "    }\n",
       "\n",
       "    .dataframe thead th {\n",
       "        text-align: right;\n",
       "    }\n",
       "</style>\n",
       "<table border=\"1\" class=\"dataframe\">\n",
       "  <thead>\n",
       "    <tr style=\"text-align: right;\">\n",
       "      <th></th>\n",
       "      <th>sequence_charge</th>\n",
       "      <th>number_of_runs_extracted</th>\n",
       "      <th>sequence</th>\n",
       "      <th>charge</th>\n",
       "      <th>human</th>\n",
       "    </tr>\n",
       "  </thead>\n",
       "  <tbody>\n",
       "    <tr>\n",
       "      <th>17752</th>\n",
       "      <td>(Q[-17.0265]GIQGQGSFQAQWQESHK, 2)</td>\n",
       "      <td>9</td>\n",
       "      <td>Q[-17.0265]GIQGQGSFQAQWQESHK</td>\n",
       "      <td>2</td>\n",
       "      <td>0</td>\n",
       "    </tr>\n",
       "    <tr>\n",
       "      <th>20423</th>\n",
       "      <td>(TAAYAIPMLQLLLHR, 2)</td>\n",
       "      <td>9</td>\n",
       "      <td>TAAYAIPMLQLLLHR</td>\n",
       "      <td>2</td>\n",
       "      <td>1</td>\n",
       "    </tr>\n",
       "    <tr>\n",
       "      <th>9332</th>\n",
       "      <td>(HIDFSLR, 2)</td>\n",
       "      <td>5</td>\n",
       "      <td>HIDFSLR</td>\n",
       "      <td>2</td>\n",
       "      <td>1</td>\n",
       "    </tr>\n",
       "    <tr>\n",
       "      <th>24563</th>\n",
       "      <td>(YFNSYTLTGR, 2)</td>\n",
       "      <td>10</td>\n",
       "      <td>YFNSYTLTGR</td>\n",
       "      <td>2</td>\n",
       "      <td>1</td>\n",
       "    </tr>\n",
       "    <tr>\n",
       "      <th>10379</th>\n",
       "      <td>(IGNFSTDIK, 2)</td>\n",
       "      <td>8</td>\n",
       "      <td>IGNFSTDIK</td>\n",
       "      <td>2</td>\n",
       "      <td>1</td>\n",
       "    </tr>\n",
       "    <tr>\n",
       "      <th>456</th>\n",
       "      <td>(AEVSDVGNAILDGADCVMLSGETAK, 2)</td>\n",
       "      <td>8</td>\n",
       "      <td>AEVSDVGNAILDGADCVMLSGETAK</td>\n",
       "      <td>2</td>\n",
       "      <td>0</td>\n",
       "    </tr>\n",
       "    <tr>\n",
       "      <th>2083</th>\n",
       "      <td>(CFIVGADNVGSK, 2)</td>\n",
       "      <td>10</td>\n",
       "      <td>CFIVGADNVGSK</td>\n",
       "      <td>2</td>\n",
       "      <td>1</td>\n",
       "    </tr>\n",
       "    <tr>\n",
       "      <th>20702</th>\n",
       "      <td>(TEELEEESFPER, 2)</td>\n",
       "      <td>10</td>\n",
       "      <td>TEELEEESFPER</td>\n",
       "      <td>2</td>\n",
       "      <td>1</td>\n",
       "    </tr>\n",
       "    <tr>\n",
       "      <th>11797</th>\n",
       "      <td>(LAPEECFSPLDLFNK, 2)</td>\n",
       "      <td>10</td>\n",
       "      <td>LAPEECFSPLDLFNK</td>\n",
       "      <td>2</td>\n",
       "      <td>1</td>\n",
       "    </tr>\n",
       "    <tr>\n",
       "      <th>15272</th>\n",
       "      <td>(M[15.9949]DALM[15.9949]PISGTSFAVGIDFHAENDTIYW...</td>\n",
       "      <td>6</td>\n",
       "      <td>M[15.9949]DALM[15.9949]PISGTSFAVGIDFHAENDTIYWT...</td>\n",
       "      <td>3</td>\n",
       "      <td>1</td>\n",
       "    </tr>\n",
       "  </tbody>\n",
       "</table>\n",
       "</div>"
      ],
      "text/plain": [
       "                                         sequence_charge  \\\n",
       "17752                  (Q[-17.0265]GIQGQGSFQAQWQESHK, 2)   \n",
       "20423                               (TAAYAIPMLQLLLHR, 2)   \n",
       "9332                                        (HIDFSLR, 2)   \n",
       "24563                                    (YFNSYTLTGR, 2)   \n",
       "10379                                     (IGNFSTDIK, 2)   \n",
       "456                       (AEVSDVGNAILDGADCVMLSGETAK, 2)   \n",
       "2083                                   (CFIVGADNVGSK, 2)   \n",
       "20702                                  (TEELEEESFPER, 2)   \n",
       "11797                               (LAPEECFSPLDLFNK, 2)   \n",
       "15272  (M[15.9949]DALM[15.9949]PISGTSFAVGIDFHAENDTIYW...   \n",
       "\n",
       "       number_of_runs_extracted  \\\n",
       "17752                         9   \n",
       "20423                         9   \n",
       "9332                          5   \n",
       "24563                        10   \n",
       "10379                         8   \n",
       "456                           8   \n",
       "2083                         10   \n",
       "20702                        10   \n",
       "11797                        10   \n",
       "15272                         6   \n",
       "\n",
       "                                                sequence  charge  human  \n",
       "17752                       Q[-17.0265]GIQGQGSFQAQWQESHK       2      0  \n",
       "20423                                    TAAYAIPMLQLLLHR       2      1  \n",
       "9332                                             HIDFSLR       2      1  \n",
       "24563                                         YFNSYTLTGR       2      1  \n",
       "10379                                          IGNFSTDIK       2      1  \n",
       "456                            AEVSDVGNAILDGADCVMLSGETAK       2      0  \n",
       "2083                                        CFIVGADNVGSK       2      1  \n",
       "20702                                       TEELEEESFPER       2      1  \n",
       "11797                                    LAPEECFSPLDLFNK       2      1  \n",
       "15272  M[15.9949]DALM[15.9949]PISGTSFAVGIDFHAENDTIYWT...       3      1  "
      ]
     },
     "execution_count": 20,
     "metadata": {},
     "output_type": "execute_result"
    }
   ],
   "source": [
    "human_sequence_occurences_df.sample(n=10)"
   ]
  },
  {
   "cell_type": "code",
   "execution_count": 21,
   "metadata": {},
   "outputs": [
    {
     "data": {
      "text/plain": [
       "25309"
      ]
     },
     "execution_count": 21,
     "metadata": {},
     "output_type": "execute_result"
    }
   ],
   "source": [
    "len(human_sequence_occurences_df)"
   ]
  },
  {
   "cell_type": "code",
   "execution_count": 22,
   "metadata": {},
   "outputs": [
    {
     "data": {
      "text/plain": [
       "0.1297562132047888"
      ]
     },
     "execution_count": 22,
     "metadata": {},
     "output_type": "execute_result"
    }
   ],
   "source": [
    "# proportion of false positives i.e. non-human peptides found in the human-only runs\n",
    "len(human_sequence_occurences_df[(human_sequence_occurences_df.human == 0)]) / len(human_sequence_occurences_df)"
   ]
  },
  {
   "cell_type": "code",
   "execution_count": 23,
   "metadata": {},
   "outputs": [
    {
     "name": "stdout",
     "output_type": "stream",
     "text": [
      "there are 10 human-only runs in the experiment\n"
     ]
    }
   ],
   "source": [
    "number_of_human_runs_in_experiment = len(human_only_df.file_idx.unique())\n",
    "print('there are {} human-only runs in the experiment'.format(number_of_human_runs_in_experiment))"
   ]
  },
  {
   "cell_type": "code",
   "execution_count": 24,
   "metadata": {},
   "outputs": [
    {
     "name": "stdout",
     "output_type": "stream",
     "text": [
      "there are 23414 unique extracted sequences.\n",
      "21.0% of values are missing across the experiment.\n"
     ]
    }
   ],
   "source": [
    "# display the number of missing values across the experiment\n",
    "print(\"there are {} unique extracted sequences.\".format(len(human_only_df['sequence'].unique())))\n",
    "human_sequence_occurences_df['missing_files'] = number_of_human_runs_in_experiment - human_sequence_occurences_df.number_of_runs_extracted\n",
    "proportion_of_missing_values = human_sequence_occurences_df.missing_files.sum() / (len(human_sequence_occurences_df) * number_of_human_runs_in_experiment)\n",
    "print(\"{}% of values are missing across the experiment.\".format(round(proportion_of_missing_values*100)))"
   ]
  },
  {
   "cell_type": "code",
   "execution_count": null,
   "metadata": {},
   "outputs": [],
   "source": []
  }
 ],
 "metadata": {
  "kernelspec": {
   "display_name": "Python 3",
   "language": "python",
   "name": "python3"
  },
  "language_info": {
   "codemirror_mode": {
    "name": "ipython",
    "version": 3
   },
   "file_extension": ".py",
   "mimetype": "text/x-python",
   "name": "python",
   "nbconvert_exporter": "python",
   "pygments_lexer": "ipython3",
   "version": "3.6.8"
  }
 },
 "nbformat": 4,
 "nbformat_minor": 2
}
