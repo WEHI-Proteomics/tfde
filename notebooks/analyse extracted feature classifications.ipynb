{
 "cells": [
  {
   "cell_type": "code",
   "execution_count": 1,
   "metadata": {},
   "outputs": [],
   "source": [
    "import pandas as pd\n",
    "import numpy as np\n",
    "import sqlite3\n",
    "import matplotlib.pyplot as plt"
   ]
  },
  {
   "cell_type": "code",
   "execution_count": 2,
   "metadata": {},
   "outputs": [],
   "source": [
    "EXTRACTED_FEATURES_DB_NAME = '/data/experiments/YHE/extracted-features/extracted-features.sqlite'"
   ]
  },
  {
   "cell_type": "code",
   "execution_count": 3,
   "metadata": {},
   "outputs": [],
   "source": [
    "db_conn = sqlite3.connect(EXTRACTED_FEATURES_DB_NAME)\n",
    "sequences_df = pd.read_sql_query(\"select * from features\", db_conn)\n",
    "db_conn.close()"
   ]
  },
  {
   "cell_type": "code",
   "execution_count": 4,
   "metadata": {},
   "outputs": [
    {
     "data": {
      "text/html": [
       "<div>\n",
       "<style scoped>\n",
       "    .dataframe tbody tr th:only-of-type {\n",
       "        vertical-align: middle;\n",
       "    }\n",
       "\n",
       "    .dataframe tbody tr th {\n",
       "        vertical-align: top;\n",
       "    }\n",
       "\n",
       "    .dataframe thead th {\n",
       "        text-align: right;\n",
       "    }\n",
       "</style>\n",
       "<table border=\"1\" class=\"dataframe\">\n",
       "  <thead>\n",
       "    <tr style=\"text-align: right;\">\n",
       "      <th></th>\n",
       "      <th>sequence</th>\n",
       "      <th>charge</th>\n",
       "      <th>run_name</th>\n",
       "      <th>number_of_runs_extracted</th>\n",
       "      <th>human</th>\n",
       "      <th>group</th>\n",
       "      <th>classed_as</th>\n",
       "    </tr>\n",
       "  </thead>\n",
       "  <tbody>\n",
       "    <tr>\n",
       "      <th>721648</th>\n",
       "      <td>YLDGMDSDFTSMTSLLTGSVK</td>\n",
       "      <td>2</td>\n",
       "      <td>YHE211_04_Slot1-1_1_3000</td>\n",
       "      <td>21</td>\n",
       "      <td>1</td>\n",
       "      <td>YHE211</td>\n",
       "      <td>target</td>\n",
       "    </tr>\n",
       "    <tr>\n",
       "      <th>430459</th>\n",
       "      <td>QDLPNAMNAAEITDK</td>\n",
       "      <td>2</td>\n",
       "      <td>YHE114_11_Slot1-1_1_3043</td>\n",
       "      <td>31</td>\n",
       "      <td>1</td>\n",
       "      <td>YHE114</td>\n",
       "      <td>target</td>\n",
       "    </tr>\n",
       "    <tr>\n",
       "      <th>270899</th>\n",
       "      <td>LFCDIAGMLLK</td>\n",
       "      <td>2</td>\n",
       "      <td>YHE010_11_Slot1-1_1_3041</td>\n",
       "      <td>30</td>\n",
       "      <td>1</td>\n",
       "      <td>YHE010</td>\n",
       "      <td>decoy</td>\n",
       "    </tr>\n",
       "    <tr>\n",
       "      <th>665263</th>\n",
       "      <td>QLGEWAGLGK</td>\n",
       "      <td>2</td>\n",
       "      <td>YHE114_03_Slot1-1_1_3010</td>\n",
       "      <td>6</td>\n",
       "      <td>0</td>\n",
       "      <td>YHE114</td>\n",
       "      <td>target</td>\n",
       "    </tr>\n",
       "    <tr>\n",
       "      <th>120588</th>\n",
       "      <td>EMSGDLEEGMLAVVK</td>\n",
       "      <td>2</td>\n",
       "      <td>YHE114_10_Slot1-1_1_3017</td>\n",
       "      <td>31</td>\n",
       "      <td>1</td>\n",
       "      <td>YHE114</td>\n",
       "      <td>target</td>\n",
       "    </tr>\n",
       "  </tbody>\n",
       "</table>\n",
       "</div>"
      ],
      "text/plain": [
       "                     sequence  charge                  run_name  \\\n",
       "721648  YLDGMDSDFTSMTSLLTGSVK       2  YHE211_04_Slot1-1_1_3000   \n",
       "430459        QDLPNAMNAAEITDK       2  YHE114_11_Slot1-1_1_3043   \n",
       "270899            LFCDIAGMLLK       2  YHE010_11_Slot1-1_1_3041   \n",
       "665263             QLGEWAGLGK       2  YHE114_03_Slot1-1_1_3010   \n",
       "120588        EMSGDLEEGMLAVVK       2  YHE114_10_Slot1-1_1_3017   \n",
       "\n",
       "        number_of_runs_extracted  human   group classed_as  \n",
       "721648                        21      1  YHE211     target  \n",
       "430459                        31      1  YHE114     target  \n",
       "270899                        30      1  YHE010      decoy  \n",
       "665263                         6      0  YHE114     target  \n",
       "120588                        31      1  YHE114     target  "
      ]
     },
     "execution_count": 4,
     "metadata": {},
     "output_type": "execute_result"
    }
   ],
   "source": [
    "sequences_df[['sequence','charge','run_name','number_of_runs_extracted','human','group','classed_as']].sample(n=5)"
   ]
  },
  {
   "cell_type": "code",
   "execution_count": 5,
   "metadata": {},
   "outputs": [],
   "source": [
    "sequences_df['group'] = sequences_df.run_name.apply(lambda x: x.split('_')[0])"
   ]
  },
  {
   "cell_type": "code",
   "execution_count": 6,
   "metadata": {},
   "outputs": [
    {
     "data": {
      "text/html": [
       "<div>\n",
       "<style scoped>\n",
       "    .dataframe tbody tr th:only-of-type {\n",
       "        vertical-align: middle;\n",
       "    }\n",
       "\n",
       "    .dataframe tbody tr th {\n",
       "        vertical-align: top;\n",
       "    }\n",
       "\n",
       "    .dataframe thead th {\n",
       "        text-align: right;\n",
       "    }\n",
       "</style>\n",
       "<table border=\"1\" class=\"dataframe\">\n",
       "  <thead>\n",
       "    <tr style=\"text-align: right;\">\n",
       "      <th></th>\n",
       "      <th>sequence</th>\n",
       "      <th>charge</th>\n",
       "      <th>run_name</th>\n",
       "      <th>number_of_runs_extracted</th>\n",
       "      <th>human</th>\n",
       "      <th>group</th>\n",
       "    </tr>\n",
       "  </thead>\n",
       "  <tbody>\n",
       "    <tr>\n",
       "      <th>130338</th>\n",
       "      <td>M[15.9949]LLDSEQHPCQLK</td>\n",
       "      <td>2</td>\n",
       "      <td>YHE114_10_Slot1-1_1_3017</td>\n",
       "      <td>29</td>\n",
       "      <td>1</td>\n",
       "      <td>YHE114</td>\n",
       "    </tr>\n",
       "    <tr>\n",
       "      <th>224305</th>\n",
       "      <td>ILGTSPDMIDSAENR</td>\n",
       "      <td>2</td>\n",
       "      <td>YHE010_05_Slot1-1_1_2990</td>\n",
       "      <td>29</td>\n",
       "      <td>0</td>\n",
       "      <td>YHE010</td>\n",
       "    </tr>\n",
       "    <tr>\n",
       "      <th>700101</th>\n",
       "      <td>AQVPFEQILSLPELK</td>\n",
       "      <td>2</td>\n",
       "      <td>YHE211_04_Slot1-1_1_3000</td>\n",
       "      <td>28</td>\n",
       "      <td>1</td>\n",
       "      <td>YHE211</td>\n",
       "    </tr>\n",
       "    <tr>\n",
       "      <th>430922</th>\n",
       "      <td>QNGAGPLSGQPPNQDHK</td>\n",
       "      <td>2</td>\n",
       "      <td>YHE114_11_Slot1-1_1_3043</td>\n",
       "      <td>31</td>\n",
       "      <td>1</td>\n",
       "      <td>YHE114</td>\n",
       "    </tr>\n",
       "    <tr>\n",
       "      <th>21752</th>\n",
       "      <td>TTYYVVGSAIGPHPYPTLVR</td>\n",
       "      <td>2</td>\n",
       "      <td>YHE114_02_Slot1-1_1_3009</td>\n",
       "      <td>21</td>\n",
       "      <td>0</td>\n",
       "      <td>YHE114</td>\n",
       "    </tr>\n",
       "  </tbody>\n",
       "</table>\n",
       "</div>"
      ],
      "text/plain": [
       "                      sequence  charge                  run_name  \\\n",
       "130338  M[15.9949]LLDSEQHPCQLK       2  YHE114_10_Slot1-1_1_3017   \n",
       "224305         ILGTSPDMIDSAENR       2  YHE010_05_Slot1-1_1_2990   \n",
       "700101         AQVPFEQILSLPELK       2  YHE211_04_Slot1-1_1_3000   \n",
       "430922       QNGAGPLSGQPPNQDHK       2  YHE114_11_Slot1-1_1_3043   \n",
       "21752     TTYYVVGSAIGPHPYPTLVR       2  YHE114_02_Slot1-1_1_3009   \n",
       "\n",
       "        number_of_runs_extracted  human   group  \n",
       "130338                        29      1  YHE114  \n",
       "224305                        29      0  YHE010  \n",
       "700101                        28      1  YHE211  \n",
       "430922                        31      1  YHE114  \n",
       "21752                         21      0  YHE114  "
      ]
     },
     "execution_count": 6,
     "metadata": {},
     "output_type": "execute_result"
    }
   ],
   "source": [
    "sequences_df[['sequence','charge','run_name','number_of_runs_extracted','human','group']].sample(n=5)"
   ]
  },
  {
   "cell_type": "code",
   "execution_count": 7,
   "metadata": {},
   "outputs": [],
   "source": [
    "yhe_only_df = sequences_df[(sequences_df.group == 'YHE211') | (sequences_df.group == 'YHE114')]\n",
    "yhe_only_targets_df = yhe_only_df[(yhe_only_df.classed_as == 'target')]"
   ]
  },
  {
   "cell_type": "code",
   "execution_count": 8,
   "metadata": {},
   "outputs": [
    {
     "name": "stdout",
     "output_type": "stream",
     "text": [
      "there are 21 runs in the experiment\n"
     ]
    }
   ],
   "source": [
    "number_of_yhe_runs_in_experiment = len(yhe_only_df.file_idx.unique())\n",
    "print('there are {} runs in the experiment'.format(number_of_yhe_runs_in_experiment))"
   ]
  },
  {
   "cell_type": "markdown",
   "metadata": {},
   "source": [
    "#### analyse the rate of successful extractions of peptides in the library"
   ]
  },
  {
   "cell_type": "code",
   "execution_count": 36,
   "metadata": {},
   "outputs": [],
   "source": [
    "# count how many runs each sequence/charge was extracted from\n",
    "sequence_occurences_l = []\n",
    "for group_name,group_df in yhe_only_df.groupby(['sequence','charge'], as_index=False):\n",
    "    sequence_occurences_l.append((group_name[0], group_name[1], len(group_df.file_idx.unique())))\n",
    "yhe_sequence_occurences_df = pd.DataFrame(sequence_occurences_l, columns=['sequence','charge','number_of_runs_extracted'])"
   ]
  },
  {
   "cell_type": "code",
   "execution_count": 42,
   "metadata": {},
   "outputs": [
    {
     "name": "stdout",
     "output_type": "stream",
     "text": [
      "17.0% of extractions missing across the experiment.\n"
     ]
    }
   ],
   "source": [
    "# display the number of missing extractions across the experiment\n",
    "yhe_sequence_occurences_df['missing_files'] = number_of_yhe_runs_in_experiment - yhe_sequence_occurences_df.number_of_runs_extracted\n",
    "proportion_of_missing_extractions = yhe_sequence_occurences_df.missing_files.sum() / (len(yhe_sequence_occurences_df) * number_of_yhe_runs_in_experiment)\n",
    "print(\"{}% of extractions missing across the experiment.\".format(round(proportion_of_missing_extractions*100)))"
   ]
  },
  {
   "cell_type": "code",
   "execution_count": 41,
   "metadata": {},
   "outputs": [
    {
     "data": {
      "image/png": "[encoded data removed]",
      "text/plain": [
       "<Figure size 1080x576 with 1 Axes>"
      ]
     },
     "metadata": {
      "needs_background": "light"
     },
     "output_type": "display_data"
    }
   ],
   "source": [
    "f, ax1 = plt.subplots()\n",
    "f.set_figheight(8)\n",
    "f.set_figwidth(15)\n",
    "\n",
    "plt.margins(0.06)\n",
    "plt.suptitle('Distribution of sequence identifications extracted from the YHE runs')\n",
    "# plt.title('total {} modified peptide sequences'.format(modified_sequences_count))\n",
    "\n",
    "counts = np.bincount(yhe_sequence_occurences_df.number_of_runs_extracted)\n",
    "ax1.bar(range(22), counts, width=0.8, align='center')\n",
    "plt.xlabel('number of files in which a modified sequence-charge was extracted')\n",
    "plt.ylabel('frequency')\n",
    "ax1.set(xticks=range(1,22), xlim=[0, 22])\n",
    "# plt.ylim((0,20000))\n",
    "\n",
    "plt.show()"
   ]
  },
  {
   "cell_type": "code",
   "execution_count": 9,
   "metadata": {},
   "outputs": [],
   "source": [
    "# count how many runs each sequence/charge was extracted from and classified as a target\n",
    "sequence_occurences_l = []\n",
    "for group_name,group_df in yhe_only_targets_df.groupby(['sequence','charge'], as_index=False):\n",
    "    sequence_occurences_l.append((group_name, len(group_df), group_name[0], group_name[1]))\n",
    "yhe_sequence_occurences_df = pd.DataFrame(sequence_occurences_l, columns=['sequence_charge','number_of_runs_targets_extracted','sequence','charge'])"
   ]
  },
  {
   "cell_type": "code",
   "execution_count": 27,
   "metadata": {},
   "outputs": [
    {
     "name": "stdout",
     "output_type": "stream",
     "text": [
      "28.0% of values are missing across the experiment.\n"
     ]
    }
   ],
   "source": [
    "# display the number of missing values across the experiment\n",
    "yhe_sequence_occurences_df['missing_files'] = number_of_yhe_runs_in_experiment - yhe_sequence_occurences_df.number_of_runs_targets_extracted\n",
    "proportion_of_missing_values = yhe_sequence_occurences_df.missing_files.sum() / (len(yhe_sequence_occurences_df) * number_of_yhe_runs_in_experiment)\n",
    "print(\"{}% of values are missing across the experiment.\".format(round(proportion_of_missing_values*100)))"
   ]
  },
  {
   "cell_type": "code",
   "execution_count": 11,
   "metadata": {},
   "outputs": [
    {
     "data": {
      "text/html": [
       "<div>\n",
       "<style scoped>\n",
       "    .dataframe tbody tr th:only-of-type {\n",
       "        vertical-align: middle;\n",
       "    }\n",
       "\n",
       "    .dataframe tbody tr th {\n",
       "        vertical-align: top;\n",
       "    }\n",
       "\n",
       "    .dataframe thead th {\n",
       "        text-align: right;\n",
       "    }\n",
       "</style>\n",
       "<table border=\"1\" class=\"dataframe\">\n",
       "  <thead>\n",
       "    <tr style=\"text-align: right;\">\n",
       "      <th></th>\n",
       "      <th>sequence</th>\n",
       "      <th>charge</th>\n",
       "      <th>number_of_runs_targets_extracted</th>\n",
       "      <th>missing_files</th>\n",
       "    </tr>\n",
       "  </thead>\n",
       "  <tbody>\n",
       "    <tr>\n",
       "      <th>17401</th>\n",
       "      <td>NTVLCNVVEQFLQADLAR</td>\n",
       "      <td>2</td>\n",
       "      <td>20</td>\n",
       "      <td>1</td>\n",
       "    </tr>\n",
       "    <tr>\n",
       "      <th>21809</th>\n",
       "      <td>TEAASDPQHPAASEGAAAAAASPPLLR</td>\n",
       "      <td>3</td>\n",
       "      <td>2</td>\n",
       "      <td>19</td>\n",
       "    </tr>\n",
       "    <tr>\n",
       "      <th>7835</th>\n",
       "      <td>GAEISEENSEGGLHVDLAQIIEACDVCLK</td>\n",
       "      <td>3</td>\n",
       "      <td>20</td>\n",
       "      <td>1</td>\n",
       "    </tr>\n",
       "    <tr>\n",
       "      <th>15605</th>\n",
       "      <td>MIAPM[15.9949]IEKFSEQYPQADFYK</td>\n",
       "      <td>2</td>\n",
       "      <td>15</td>\n",
       "      <td>6</td>\n",
       "    </tr>\n",
       "    <tr>\n",
       "      <th>5322</th>\n",
       "      <td>EIAVGDSEGQIVIYDVGEQIAVPR</td>\n",
       "      <td>2</td>\n",
       "      <td>21</td>\n",
       "      <td>0</td>\n",
       "    </tr>\n",
       "    <tr>\n",
       "      <th>23501</th>\n",
       "      <td>VCEEIAIIPSK</td>\n",
       "      <td>2</td>\n",
       "      <td>1</td>\n",
       "      <td>20</td>\n",
       "    </tr>\n",
       "    <tr>\n",
       "      <th>4213</th>\n",
       "      <td>DVALLVTSGLALAR</td>\n",
       "      <td>2</td>\n",
       "      <td>12</td>\n",
       "      <td>9</td>\n",
       "    </tr>\n",
       "    <tr>\n",
       "      <th>19646</th>\n",
       "      <td>RTPALIALR</td>\n",
       "      <td>2</td>\n",
       "      <td>1</td>\n",
       "      <td>20</td>\n",
       "    </tr>\n",
       "    <tr>\n",
       "      <th>9135</th>\n",
       "      <td>GSSGVGLTAAVTTDQETGER</td>\n",
       "      <td>2</td>\n",
       "      <td>21</td>\n",
       "      <td>0</td>\n",
       "    </tr>\n",
       "    <tr>\n",
       "      <th>12474</th>\n",
       "      <td>LAQQNAVTSLSEECK</td>\n",
       "      <td>2</td>\n",
       "      <td>20</td>\n",
       "      <td>1</td>\n",
       "    </tr>\n",
       "  </tbody>\n",
       "</table>\n",
       "</div>"
      ],
      "text/plain": [
       "                            sequence  charge  \\\n",
       "17401             NTVLCNVVEQFLQADLAR       2   \n",
       "21809    TEAASDPQHPAASEGAAAAAASPPLLR       3   \n",
       "7835   GAEISEENSEGGLHVDLAQIIEACDVCLK       3   \n",
       "15605  MIAPM[15.9949]IEKFSEQYPQADFYK       2   \n",
       "5322        EIAVGDSEGQIVIYDVGEQIAVPR       2   \n",
       "23501                    VCEEIAIIPSK       2   \n",
       "4213                  DVALLVTSGLALAR       2   \n",
       "19646                      RTPALIALR       2   \n",
       "9135            GSSGVGLTAAVTTDQETGER       2   \n",
       "12474                LAQQNAVTSLSEECK       2   \n",
       "\n",
       "       number_of_runs_targets_extracted  missing_files  \n",
       "17401                                20              1  \n",
       "21809                                 2             19  \n",
       "7835                                 20              1  \n",
       "15605                                15              6  \n",
       "5322                                 21              0  \n",
       "23501                                 1             20  \n",
       "4213                                 12              9  \n",
       "19646                                 1             20  \n",
       "9135                                 21              0  \n",
       "12474                                20              1  "
      ]
     },
     "execution_count": 11,
     "metadata": {},
     "output_type": "execute_result"
    }
   ],
   "source": [
    "yhe_sequence_occurences_df.sample(n=10)[['sequence','charge','number_of_runs_targets_extracted','missing_files']]"
   ]
  },
  {
   "cell_type": "code",
   "execution_count": 12,
   "metadata": {},
   "outputs": [
    {
     "data": {
      "text/html": [
       "<div>\n",
       "<style scoped>\n",
       "    .dataframe tbody tr th:only-of-type {\n",
       "        vertical-align: middle;\n",
       "    }\n",
       "\n",
       "    .dataframe tbody tr th {\n",
       "        vertical-align: top;\n",
       "    }\n",
       "\n",
       "    .dataframe thead th {\n",
       "        text-align: right;\n",
       "    }\n",
       "</style>\n",
       "<table border=\"1\" class=\"dataframe\">\n",
       "  <thead>\n",
       "    <tr style=\"text-align: right;\">\n",
       "      <th></th>\n",
       "      <th>sequence</th>\n",
       "      <th>charge</th>\n",
       "      <th>file_idx</th>\n",
       "      <th>classed_as</th>\n",
       "      <th>prob_target</th>\n",
       "    </tr>\n",
       "  </thead>\n",
       "  <tbody>\n",
       "    <tr>\n",
       "      <th>4989</th>\n",
       "      <td>EHHIDPTAITR</td>\n",
       "      <td>2</td>\n",
       "      <td>16</td>\n",
       "      <td>target</td>\n",
       "      <td>0.769184</td>\n",
       "    </tr>\n",
       "    <tr>\n",
       "      <th>30081</th>\n",
       "      <td>EHHIDPTAITR</td>\n",
       "      <td>2</td>\n",
       "      <td>28</td>\n",
       "      <td>target</td>\n",
       "      <td>0.949875</td>\n",
       "    </tr>\n",
       "    <tr>\n",
       "      <th>75195</th>\n",
       "      <td>EHHIDPTAITR</td>\n",
       "      <td>2</td>\n",
       "      <td>23</td>\n",
       "      <td>decoy</td>\n",
       "      <td>0.004988</td>\n",
       "    </tr>\n",
       "    <tr>\n",
       "      <th>145215</th>\n",
       "      <td>EHHIDPTAITR</td>\n",
       "      <td>2</td>\n",
       "      <td>9</td>\n",
       "      <td>target</td>\n",
       "      <td>0.987639</td>\n",
       "    </tr>\n",
       "    <tr>\n",
       "      <th>170275</th>\n",
       "      <td>EHHIDPTAITR</td>\n",
       "      <td>2</td>\n",
       "      <td>25</td>\n",
       "      <td>decoy</td>\n",
       "      <td>0.230228</td>\n",
       "    </tr>\n",
       "    <tr>\n",
       "      <th>195448</th>\n",
       "      <td>EHHIDPTAITR</td>\n",
       "      <td>2</td>\n",
       "      <td>24</td>\n",
       "      <td>target</td>\n",
       "      <td>0.996354</td>\n",
       "    </tr>\n",
       "    <tr>\n",
       "      <th>241602</th>\n",
       "      <td>EHHIDPTAITR</td>\n",
       "      <td>2</td>\n",
       "      <td>27</td>\n",
       "      <td>target</td>\n",
       "      <td>0.961668</td>\n",
       "    </tr>\n",
       "    <tr>\n",
       "      <th>285211</th>\n",
       "      <td>EHHIDPTAITR</td>\n",
       "      <td>2</td>\n",
       "      <td>20</td>\n",
       "      <td>decoy</td>\n",
       "      <td>0.192898</td>\n",
       "    </tr>\n",
       "    <tr>\n",
       "      <th>309215</th>\n",
       "      <td>EHHIDPTAITR</td>\n",
       "      <td>2</td>\n",
       "      <td>29</td>\n",
       "      <td>decoy</td>\n",
       "      <td>0.091118</td>\n",
       "    </tr>\n",
       "    <tr>\n",
       "      <th>394380</th>\n",
       "      <td>EHHIDPTAITR</td>\n",
       "      <td>2</td>\n",
       "      <td>14</td>\n",
       "      <td>target</td>\n",
       "      <td>0.550377</td>\n",
       "    </tr>\n",
       "    <tr>\n",
       "      <th>418850</th>\n",
       "      <td>EHHIDPTAITR</td>\n",
       "      <td>2</td>\n",
       "      <td>18</td>\n",
       "      <td>target</td>\n",
       "      <td>0.911661</td>\n",
       "    </tr>\n",
       "    <tr>\n",
       "      <th>443807</th>\n",
       "      <td>EHHIDPTAITR</td>\n",
       "      <td>2</td>\n",
       "      <td>8</td>\n",
       "      <td>target</td>\n",
       "      <td>0.999921</td>\n",
       "    </tr>\n",
       "    <tr>\n",
       "      <th>486905</th>\n",
       "      <td>EHHIDPTAITR</td>\n",
       "      <td>2</td>\n",
       "      <td>10</td>\n",
       "      <td>decoy</td>\n",
       "      <td>0.203808</td>\n",
       "    </tr>\n",
       "    <tr>\n",
       "      <th>533073</th>\n",
       "      <td>EHHIDPTAITR</td>\n",
       "      <td>2</td>\n",
       "      <td>30</td>\n",
       "      <td>target</td>\n",
       "      <td>0.998045</td>\n",
       "    </tr>\n",
       "    <tr>\n",
       "      <th>557636</th>\n",
       "      <td>EHHIDPTAITR</td>\n",
       "      <td>2</td>\n",
       "      <td>26</td>\n",
       "      <td>target</td>\n",
       "      <td>0.980919</td>\n",
       "    </tr>\n",
       "    <tr>\n",
       "      <th>603029</th>\n",
       "      <td>EHHIDPTAITR</td>\n",
       "      <td>2</td>\n",
       "      <td>0</td>\n",
       "      <td>target</td>\n",
       "      <td>0.875418</td>\n",
       "    </tr>\n",
       "    <tr>\n",
       "      <th>628370</th>\n",
       "      <td>EHHIDPTAITR</td>\n",
       "      <td>2</td>\n",
       "      <td>11</td>\n",
       "      <td>target</td>\n",
       "      <td>0.998342</td>\n",
       "    </tr>\n",
       "    <tr>\n",
       "      <th>653089</th>\n",
       "      <td>EHHIDPTAITR</td>\n",
       "      <td>2</td>\n",
       "      <td>22</td>\n",
       "      <td>target</td>\n",
       "      <td>0.991050</td>\n",
       "    </tr>\n",
       "    <tr>\n",
       "      <th>678607</th>\n",
       "      <td>EHHIDPTAITR</td>\n",
       "      <td>2</td>\n",
       "      <td>21</td>\n",
       "      <td>target</td>\n",
       "      <td>0.524232</td>\n",
       "    </tr>\n",
       "    <tr>\n",
       "      <th>703325</th>\n",
       "      <td>EHHIDPTAITR</td>\n",
       "      <td>2</td>\n",
       "      <td>13</td>\n",
       "      <td>target</td>\n",
       "      <td>0.991812</td>\n",
       "    </tr>\n",
       "  </tbody>\n",
       "</table>\n",
       "</div>"
      ],
      "text/plain": [
       "           sequence  charge  file_idx classed_as  prob_target\n",
       "4989    EHHIDPTAITR       2        16     target     0.769184\n",
       "30081   EHHIDPTAITR       2        28     target     0.949875\n",
       "75195   EHHIDPTAITR       2        23      decoy     0.004988\n",
       "145215  EHHIDPTAITR       2         9     target     0.987639\n",
       "170275  EHHIDPTAITR       2        25      decoy     0.230228\n",
       "195448  EHHIDPTAITR       2        24     target     0.996354\n",
       "241602  EHHIDPTAITR       2        27     target     0.961668\n",
       "285211  EHHIDPTAITR       2        20      decoy     0.192898\n",
       "309215  EHHIDPTAITR       2        29      decoy     0.091118\n",
       "394380  EHHIDPTAITR       2        14     target     0.550377\n",
       "418850  EHHIDPTAITR       2        18     target     0.911661\n",
       "443807  EHHIDPTAITR       2         8     target     0.999921\n",
       "486905  EHHIDPTAITR       2        10      decoy     0.203808\n",
       "533073  EHHIDPTAITR       2        30     target     0.998045\n",
       "557636  EHHIDPTAITR       2        26     target     0.980919\n",
       "603029  EHHIDPTAITR       2         0     target     0.875418\n",
       "628370  EHHIDPTAITR       2        11     target     0.998342\n",
       "653089  EHHIDPTAITR       2        22     target     0.991050\n",
       "678607  EHHIDPTAITR       2        21     target     0.524232\n",
       "703325  EHHIDPTAITR       2        13     target     0.991812"
      ]
     },
     "execution_count": 12,
     "metadata": {},
     "output_type": "execute_result"
    }
   ],
   "source": [
    "df = yhe_only_df[(yhe_only_df.sequence == 'EHHIDPTAITR') & (yhe_only_df.charge == 2)][['sequence','charge','file_idx','classed_as','prob_target']]\n",
    "df"
   ]
  },
  {
   "cell_type": "code",
   "execution_count": 32,
   "metadata": {},
   "outputs": [
    {
     "data": {
      "text/plain": [
       "0.29285393526041964"
      ]
     },
     "execution_count": 32,
     "metadata": {},
     "output_type": "execute_result"
    }
   ],
   "source": [
    "len(yhe_only_df[yhe_only_df.classed_as == 'decoy']) / len(yhe_only_df[yhe_only_df.classed_as == 'target'])"
   ]
  },
  {
   "cell_type": "code",
   "execution_count": 13,
   "metadata": {},
   "outputs": [
    {
     "data": {
      "text/plain": [
       "20"
      ]
     },
     "execution_count": 13,
     "metadata": {},
     "output_type": "execute_result"
    }
   ],
   "source": [
    "len(df)"
   ]
  },
  {
   "cell_type": "code",
   "execution_count": 14,
   "metadata": {},
   "outputs": [
    {
     "data": {
      "text/plain": [
       "26695"
      ]
     },
     "execution_count": 14,
     "metadata": {},
     "output_type": "execute_result"
    }
   ],
   "source": [
    "modified_sequences_count = len(yhe_sequence_occurences_df)\n",
    "modified_sequences_count"
   ]
  },
  {
   "cell_type": "code",
   "execution_count": 15,
   "metadata": {},
   "outputs": [
    {
     "data": {
      "image/png": "[encoded data removed]",
      "text/plain": [
       "<Figure size 1080x576 with 1 Axes>"
      ]
     },
     "metadata": {
      "needs_background": "light"
     },
     "output_type": "display_data"
    }
   ],
   "source": [
    "f, ax1 = plt.subplots()\n",
    "f.set_figheight(8)\n",
    "f.set_figwidth(15)\n",
    "\n",
    "plt.margins(0.06)\n",
    "plt.suptitle('Distribution of sequence identifications in the Yeast / HeLa / E.coli runs')\n",
    "plt.title('total {} modified peptide sequences'.format(modified_sequences_count))\n",
    "\n",
    "counts = np.bincount(yhe_sequence_occurences_df.number_of_runs_targets_extracted)\n",
    "ax1.bar(range(22), counts, width=0.8, align='center')\n",
    "plt.xlabel('number of files in which a modified sequence-charge was identified')\n",
    "plt.ylabel('frequency')\n",
    "ax1.set(xticks=range(1,22), xlim=[0, 22])\n",
    "# plt.ylim((0,20000))\n",
    "\n",
    "plt.show()"
   ]
  },
  {
   "cell_type": "markdown",
   "metadata": {},
   "source": [
    "#### now analyse the human-only runs"
   ]
  },
  {
   "cell_type": "code",
   "execution_count": 16,
   "metadata": {},
   "outputs": [],
   "source": [
    "human_only_df = sequences_df[(sequences_df.group == 'YHE010')]\n",
    "human_only_targets_df = human_only_df[(human_only_df.classed_as == 'target')]"
   ]
  },
  {
   "cell_type": "code",
   "execution_count": 17,
   "metadata": {},
   "outputs": [],
   "source": [
    "# count how many runs each sequence/charge was extracted from\n",
    "sequence_occurences_l = []\n",
    "for group_name,group_df in human_only_targets_df.groupby(['sequence','charge'], as_index=False):\n",
    "    sequence_occurences_l.append((group_name, len(group_df), group_name[0], group_name[1], group_df.iloc[0].human))\n",
    "human_sequence_occurences_df = pd.DataFrame(sequence_occurences_l, columns=['sequence_charge','number_of_runs_targets_extracted','sequence','charge','human'])\n"
   ]
  },
  {
   "cell_type": "code",
   "execution_count": 18,
   "metadata": {},
   "outputs": [
    {
     "name": "stdout",
     "output_type": "stream",
     "text": [
      "false positives: 9.0%\n"
     ]
    }
   ],
   "source": [
    "# proportion of false positives i.e. non-human peptides found in the human-only runs\n",
    "print('false positives: {}%'.format(round(len(human_sequence_occurences_df[(human_sequence_occurences_df.human == 0)]) / len(human_sequence_occurences_df) * 100.0, 1)))"
   ]
  },
  {
   "cell_type": "code",
   "execution_count": 19,
   "metadata": {},
   "outputs": [
    {
     "name": "stdout",
     "output_type": "stream",
     "text": [
      "there are 10 human-only runs in the experiment\n"
     ]
    }
   ],
   "source": [
    "number_of_human_runs_in_experiment = len(human_only_df.file_idx.unique())\n",
    "print('there are {} human-only runs in the experiment'.format(number_of_human_runs_in_experiment))"
   ]
  },
  {
   "cell_type": "code",
   "execution_count": 28,
   "metadata": {},
   "outputs": [
    {
     "name": "stdout",
     "output_type": "stream",
     "text": [
      "30.0% of values are missing across the experiment.\n"
     ]
    }
   ],
   "source": [
    "# display the number of missing values across the experiment\n",
    "human_sequence_occurences_df['missing_files'] = number_of_human_runs_in_experiment - human_sequence_occurences_df.number_of_runs_targets_extracted\n",
    "proportion_of_missing_values = human_sequence_occurences_df.missing_files.sum() / (len(human_sequence_occurences_df) * number_of_human_runs_in_experiment)\n",
    "print(\"{}% of values are missing across the experiment.\".format(round(proportion_of_missing_values*100)))"
   ]
  },
  {
   "cell_type": "code",
   "execution_count": 21,
   "metadata": {},
   "outputs": [
    {
     "data": {
      "text/html": [
       "<div>\n",
       "<style scoped>\n",
       "    .dataframe tbody tr th:only-of-type {\n",
       "        vertical-align: middle;\n",
       "    }\n",
       "\n",
       "    .dataframe tbody tr th {\n",
       "        vertical-align: top;\n",
       "    }\n",
       "\n",
       "    .dataframe thead th {\n",
       "        text-align: right;\n",
       "    }\n",
       "</style>\n",
       "<table border=\"1\" class=\"dataframe\">\n",
       "  <thead>\n",
       "    <tr style=\"text-align: right;\">\n",
       "      <th></th>\n",
       "      <th>sequence</th>\n",
       "      <th>charge</th>\n",
       "      <th>number_of_runs_targets_extracted</th>\n",
       "      <th>missing_files</th>\n",
       "    </tr>\n",
       "  </thead>\n",
       "  <tbody>\n",
       "    <tr>\n",
       "      <th>11983</th>\n",
       "      <td>LWSLDSDEPVADIEGHTVR</td>\n",
       "      <td>3</td>\n",
       "      <td>8</td>\n",
       "      <td>2</td>\n",
       "    </tr>\n",
       "    <tr>\n",
       "      <th>20824</th>\n",
       "      <td>YPYVCHAELNAIMNK</td>\n",
       "      <td>3</td>\n",
       "      <td>3</td>\n",
       "      <td>7</td>\n",
       "    </tr>\n",
       "    <tr>\n",
       "      <th>13706</th>\n",
       "      <td>NVFLLGFIPAK</td>\n",
       "      <td>2</td>\n",
       "      <td>10</td>\n",
       "      <td>0</td>\n",
       "    </tr>\n",
       "    <tr>\n",
       "      <th>5656</th>\n",
       "      <td>FLSPQDTFEALK</td>\n",
       "      <td>2</td>\n",
       "      <td>10</td>\n",
       "      <td>0</td>\n",
       "    </tr>\n",
       "    <tr>\n",
       "      <th>12961</th>\n",
       "      <td>NELHNLLDKPQLQGIPVLVLGNK</td>\n",
       "      <td>3</td>\n",
       "      <td>10</td>\n",
       "      <td>0</td>\n",
       "    </tr>\n",
       "    <tr>\n",
       "      <th>12401</th>\n",
       "      <td>MLVIEQCK</td>\n",
       "      <td>2</td>\n",
       "      <td>1</td>\n",
       "      <td>9</td>\n",
       "    </tr>\n",
       "    <tr>\n",
       "      <th>6607</th>\n",
       "      <td>GGTTSWGTSGQPSPSYDSSR</td>\n",
       "      <td>2</td>\n",
       "      <td>5</td>\n",
       "      <td>5</td>\n",
       "    </tr>\n",
       "    <tr>\n",
       "      <th>8433</th>\n",
       "      <td>IEFVVVGPEAPLAAGIVGNLR</td>\n",
       "      <td>2</td>\n",
       "      <td>9</td>\n",
       "      <td>1</td>\n",
       "    </tr>\n",
       "    <tr>\n",
       "      <th>18641</th>\n",
       "      <td>VEELEEHVSHLTEK</td>\n",
       "      <td>2</td>\n",
       "      <td>10</td>\n",
       "      <td>0</td>\n",
       "    </tr>\n",
       "    <tr>\n",
       "      <th>5828</th>\n",
       "      <td>FQENYVAQLILDVR</td>\n",
       "      <td>2</td>\n",
       "      <td>10</td>\n",
       "      <td>0</td>\n",
       "    </tr>\n",
       "  </tbody>\n",
       "</table>\n",
       "</div>"
      ],
      "text/plain": [
       "                      sequence  charge  number_of_runs_targets_extracted  \\\n",
       "11983      LWSLDSDEPVADIEGHTVR       3                                 8   \n",
       "20824          YPYVCHAELNAIMNK       3                                 3   \n",
       "13706              NVFLLGFIPAK       2                                10   \n",
       "5656              FLSPQDTFEALK       2                                10   \n",
       "12961  NELHNLLDKPQLQGIPVLVLGNK       3                                10   \n",
       "12401                 MLVIEQCK       2                                 1   \n",
       "6607      GGTTSWGTSGQPSPSYDSSR       2                                 5   \n",
       "8433     IEFVVVGPEAPLAAGIVGNLR       2                                 9   \n",
       "18641           VEELEEHVSHLTEK       2                                10   \n",
       "5828            FQENYVAQLILDVR       2                                10   \n",
       "\n",
       "       missing_files  \n",
       "11983              2  \n",
       "20824              7  \n",
       "13706              0  \n",
       "5656               0  \n",
       "12961              0  \n",
       "12401              9  \n",
       "6607               5  \n",
       "8433               1  \n",
       "18641              0  \n",
       "5828               0  "
      ]
     },
     "execution_count": 21,
     "metadata": {},
     "output_type": "execute_result"
    }
   ],
   "source": [
    "human_sequence_occurences_df.sample(n=10)[['sequence','charge','number_of_runs_targets_extracted','missing_files']]"
   ]
  },
  {
   "cell_type": "code",
   "execution_count": 22,
   "metadata": {},
   "outputs": [
    {
     "data": {
      "text/html": [
       "<div>\n",
       "<style scoped>\n",
       "    .dataframe tbody tr th:only-of-type {\n",
       "        vertical-align: middle;\n",
       "    }\n",
       "\n",
       "    .dataframe tbody tr th {\n",
       "        vertical-align: top;\n",
       "    }\n",
       "\n",
       "    .dataframe thead th {\n",
       "        text-align: right;\n",
       "    }\n",
       "</style>\n",
       "<table border=\"1\" class=\"dataframe\">\n",
       "  <thead>\n",
       "    <tr style=\"text-align: right;\">\n",
       "      <th></th>\n",
       "      <th>sequence</th>\n",
       "      <th>charge</th>\n",
       "      <th>file_idx</th>\n",
       "      <th>classed_as</th>\n",
       "      <th>prob_target</th>\n",
       "    </tr>\n",
       "  </thead>\n",
       "  <tbody>\n",
       "    <tr>\n",
       "      <th>50967</th>\n",
       "      <td>APVAIGVAAMSTAEMLTSGLK</td>\n",
       "      <td>2</td>\n",
       "      <td>4</td>\n",
       "      <td>target</td>\n",
       "      <td>0.998877</td>\n",
       "    </tr>\n",
       "    <tr>\n",
       "      <th>216599</th>\n",
       "      <td>APVAIGVAAMSTAEMLTSGLK</td>\n",
       "      <td>2</td>\n",
       "      <td>1</td>\n",
       "      <td>decoy</td>\n",
       "      <td>0.215683</td>\n",
       "    </tr>\n",
       "    <tr>\n",
       "      <th>328981</th>\n",
       "      <td>APVAIGVAAMSTAEMLTSGLK</td>\n",
       "      <td>2</td>\n",
       "      <td>12</td>\n",
       "      <td>target</td>\n",
       "      <td>0.646673</td>\n",
       "    </tr>\n",
       "    <tr>\n",
       "      <th>350284</th>\n",
       "      <td>APVAIGVAAMSTAEMLTSGLK</td>\n",
       "      <td>2</td>\n",
       "      <td>3</td>\n",
       "      <td>target</td>\n",
       "      <td>0.563356</td>\n",
       "    </tr>\n",
       "    <tr>\n",
       "      <th>370485</th>\n",
       "      <td>APVAIGVAAMSTAEMLTSGLK</td>\n",
       "      <td>2</td>\n",
       "      <td>2</td>\n",
       "      <td>decoy</td>\n",
       "      <td>0.033295</td>\n",
       "    </tr>\n",
       "    <tr>\n",
       "      <th>464829</th>\n",
       "      <td>APVAIGVAAMSTAEMLTSGLK</td>\n",
       "      <td>2</td>\n",
       "      <td>5</td>\n",
       "      <td>decoy</td>\n",
       "      <td>0.188320</td>\n",
       "    </tr>\n",
       "    <tr>\n",
       "      <th>508429</th>\n",
       "      <td>APVAIGVAAMSTAEMLTSGLK</td>\n",
       "      <td>2</td>\n",
       "      <td>19</td>\n",
       "      <td>target</td>\n",
       "      <td>0.999673</td>\n",
       "    </tr>\n",
       "    <tr>\n",
       "      <th>578727</th>\n",
       "      <td>APVAIGVAAMSTAEMLTSGLK</td>\n",
       "      <td>2</td>\n",
       "      <td>7</td>\n",
       "      <td>target</td>\n",
       "      <td>0.999144</td>\n",
       "    </tr>\n",
       "  </tbody>\n",
       "</table>\n",
       "</div>"
      ],
      "text/plain": [
       "                     sequence  charge  file_idx classed_as  prob_target\n",
       "50967   APVAIGVAAMSTAEMLTSGLK       2         4     target     0.998877\n",
       "216599  APVAIGVAAMSTAEMLTSGLK       2         1      decoy     0.215683\n",
       "328981  APVAIGVAAMSTAEMLTSGLK       2        12     target     0.646673\n",
       "350284  APVAIGVAAMSTAEMLTSGLK       2         3     target     0.563356\n",
       "370485  APVAIGVAAMSTAEMLTSGLK       2         2      decoy     0.033295\n",
       "464829  APVAIGVAAMSTAEMLTSGLK       2         5      decoy     0.188320\n",
       "508429  APVAIGVAAMSTAEMLTSGLK       2        19     target     0.999673\n",
       "578727  APVAIGVAAMSTAEMLTSGLK       2         7     target     0.999144"
      ]
     },
     "execution_count": 22,
     "metadata": {},
     "output_type": "execute_result"
    }
   ],
   "source": [
    "df = human_only_df[(human_only_df.sequence == 'APVAIGVAAMSTAEMLTSGLK') & (human_only_df.charge == 2)][['sequence','charge','file_idx','classed_as','prob_target']]\n",
    "df"
   ]
  },
  {
   "cell_type": "code",
   "execution_count": 23,
   "metadata": {},
   "outputs": [
    {
     "data": {
      "text/plain": [
       "8"
      ]
     },
     "execution_count": 23,
     "metadata": {},
     "output_type": "execute_result"
    }
   ],
   "source": [
    "len(df)"
   ]
  },
  {
   "cell_type": "code",
   "execution_count": 24,
   "metadata": {},
   "outputs": [
    {
     "data": {
      "text/plain": [
       "21061"
      ]
     },
     "execution_count": 24,
     "metadata": {},
     "output_type": "execute_result"
    }
   ],
   "source": [
    "modified_sequences_count = len(human_sequence_occurences_df)\n",
    "modified_sequences_count"
   ]
  },
  {
   "cell_type": "code",
   "execution_count": 25,
   "metadata": {},
   "outputs": [
    {
     "data": {
      "image/png": "[encoded data removed]",
      "text/plain": [
       "<Figure size 1080x576 with 1 Axes>"
      ]
     },
     "metadata": {
      "needs_background": "light"
     },
     "output_type": "display_data"
    }
   ],
   "source": [
    "f, ax1 = plt.subplots()\n",
    "f.set_figheight(8)\n",
    "f.set_figwidth(15)\n",
    "\n",
    "plt.margins(0.06)\n",
    "plt.suptitle('Distribution of sequence identifications in the HeLa-only runs')\n",
    "plt.title('total {} modified peptide sequences'.format(modified_sequences_count))\n",
    "\n",
    "counts = np.bincount(human_sequence_occurences_df.number_of_runs_targets_extracted)\n",
    "ax1.bar(range(11), counts, width=0.8, align='center')\n",
    "plt.xlabel('number of files in which a modified sequence-charge was identified')\n",
    "plt.ylabel('frequency')\n",
    "ax1.set(xticks=range(1,11), xlim=[0, 11])\n",
    "# plt.ylim((0,20000))\n",
    "\n",
    "plt.show()"
   ]
  },
  {
   "cell_type": "code",
   "execution_count": null,
   "metadata": {},
   "outputs": [],
   "source": []
  }
 ],
 "metadata": {
  "kernelspec": {
   "display_name": "Python 3",
   "language": "python",
   "name": "python3"
  },
  "language_info": {
   "codemirror_mode": {
    "name": "ipython",
    "version": 3
   },
   "file_extension": ".py",
   "mimetype": "text/x-python",
   "name": "python",
   "nbconvert_exporter": "python",
   "pygments_lexer": "ipython3",
   "version": "3.6.8"
  }
 },
 "nbformat": 4,
 "nbformat_minor": 2
}
