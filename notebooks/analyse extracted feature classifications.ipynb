{
 "cells": [
  {
   "cell_type": "code",
   "execution_count": 1,
   "metadata": {},
   "outputs": [],
   "source": [
    "import pandas as pd\n",
    "import numpy as np\n",
    "import sqlite3\n",
    "import matplotlib.pyplot as plt"
   ]
  },
  {
   "cell_type": "code",
   "execution_count": 2,
   "metadata": {},
   "outputs": [],
   "source": [
    "EXTRACTED_FEATURES_DB_NAME = '/data/experiments/YHE/extracted-features/extracted-features.sqlite'"
   ]
  },
  {
   "cell_type": "code",
   "execution_count": 3,
   "metadata": {},
   "outputs": [],
   "source": [
    "db_conn = sqlite3.connect(EXTRACTED_FEATURES_DB_NAME)\n",
    "sequences_df = pd.read_sql_query(\"select * from features\", db_conn)\n",
    "db_conn.close()"
   ]
  },
  {
   "cell_type": "code",
   "execution_count": 4,
   "metadata": {},
   "outputs": [
    {
     "data": {
      "text/html": [
       "<div>\n",
       "<style scoped>\n",
       "    .dataframe tbody tr th:only-of-type {\n",
       "        vertical-align: middle;\n",
       "    }\n",
       "\n",
       "    .dataframe tbody tr th {\n",
       "        vertical-align: top;\n",
       "    }\n",
       "\n",
       "    .dataframe thead th {\n",
       "        text-align: right;\n",
       "    }\n",
       "</style>\n",
       "<table border=\"1\" class=\"dataframe\">\n",
       "  <thead>\n",
       "    <tr style=\"text-align: right;\">\n",
       "      <th></th>\n",
       "      <th>sequence</th>\n",
       "      <th>charge</th>\n",
       "      <th>run_name</th>\n",
       "      <th>number_of_runs_extracted</th>\n",
       "      <th>human</th>\n",
       "      <th>group</th>\n",
       "      <th>classed_as</th>\n",
       "    </tr>\n",
       "  </thead>\n",
       "  <tbody>\n",
       "    <tr>\n",
       "      <th>170747</th>\n",
       "      <td>AVDDGVNTFK</td>\n",
       "      <td>2</td>\n",
       "      <td>YHE211_09_Slot1-1_1_3005</td>\n",
       "      <td>30</td>\n",
       "      <td>1</td>\n",
       "      <td>YHE211</td>\n",
       "      <td>target</td>\n",
       "    </tr>\n",
       "    <tr>\n",
       "      <th>389894</th>\n",
       "      <td>TYPVQEYFLEDCIQMTHFVPPPK</td>\n",
       "      <td>3</td>\n",
       "      <td>YHE114_06_Slot1-1_1_3013</td>\n",
       "      <td>31</td>\n",
       "      <td>1</td>\n",
       "      <td>YHE114</td>\n",
       "      <td>target</td>\n",
       "    </tr>\n",
       "    <tr>\n",
       "      <th>315224</th>\n",
       "      <td>CLCNLVLSSPVAQMLAAEAR</td>\n",
       "      <td>2</td>\n",
       "      <td>YHE010_11_Slot1-1_1_3041</td>\n",
       "      <td>29</td>\n",
       "      <td>1</td>\n",
       "      <td>YHE010</td>\n",
       "      <td>decoy</td>\n",
       "    </tr>\n",
       "    <tr>\n",
       "      <th>184469</th>\n",
       "      <td>LPEYTLSQEGGPAHK</td>\n",
       "      <td>3</td>\n",
       "      <td>YHE211_09_Slot1-1_1_3005</td>\n",
       "      <td>24</td>\n",
       "      <td>1</td>\n",
       "      <td>YHE211</td>\n",
       "      <td>target</td>\n",
       "    </tr>\n",
       "    <tr>\n",
       "      <th>325544</th>\n",
       "      <td>LLDFTQAQILQGLR</td>\n",
       "      <td>2</td>\n",
       "      <td>YHE010_11_Slot1-1_1_3041</td>\n",
       "      <td>31</td>\n",
       "      <td>1</td>\n",
       "      <td>YHE010</td>\n",
       "      <td>target</td>\n",
       "    </tr>\n",
       "  </tbody>\n",
       "</table>\n",
       "</div>"
      ],
      "text/plain": [
       "                       sequence  charge                  run_name  \\\n",
       "170747               AVDDGVNTFK       2  YHE211_09_Slot1-1_1_3005   \n",
       "389894  TYPVQEYFLEDCIQMTHFVPPPK       3  YHE114_06_Slot1-1_1_3013   \n",
       "315224     CLCNLVLSSPVAQMLAAEAR       2  YHE010_11_Slot1-1_1_3041   \n",
       "184469          LPEYTLSQEGGPAHK       3  YHE211_09_Slot1-1_1_3005   \n",
       "325544           LLDFTQAQILQGLR       2  YHE010_11_Slot1-1_1_3041   \n",
       "\n",
       "        number_of_runs_extracted  human   group classed_as  \n",
       "170747                        30      1  YHE211     target  \n",
       "389894                        31      1  YHE114     target  \n",
       "315224                        29      1  YHE010      decoy  \n",
       "184469                        24      1  YHE211     target  \n",
       "325544                        31      1  YHE010     target  "
      ]
     },
     "execution_count": 4,
     "metadata": {},
     "output_type": "execute_result"
    }
   ],
   "source": [
    "sequences_df[['sequence','charge','run_name','number_of_runs_extracted','human','group','classed_as']].sample(n=5)"
   ]
  },
  {
   "cell_type": "code",
   "execution_count": 5,
   "metadata": {},
   "outputs": [],
   "source": [
    "sequences_df['group'] = sequences_df.run_name.apply(lambda x: x.split('_')[0])"
   ]
  },
  {
   "cell_type": "code",
   "execution_count": 6,
   "metadata": {},
   "outputs": [
    {
     "data": {
      "text/html": [
       "<div>\n",
       "<style scoped>\n",
       "    .dataframe tbody tr th:only-of-type {\n",
       "        vertical-align: middle;\n",
       "    }\n",
       "\n",
       "    .dataframe tbody tr th {\n",
       "        vertical-align: top;\n",
       "    }\n",
       "\n",
       "    .dataframe thead th {\n",
       "        text-align: right;\n",
       "    }\n",
       "</style>\n",
       "<table border=\"1\" class=\"dataframe\">\n",
       "  <thead>\n",
       "    <tr style=\"text-align: right;\">\n",
       "      <th></th>\n",
       "      <th>sequence</th>\n",
       "      <th>charge</th>\n",
       "      <th>run_name</th>\n",
       "      <th>number_of_runs_extracted</th>\n",
       "      <th>human</th>\n",
       "      <th>group</th>\n",
       "    </tr>\n",
       "  </thead>\n",
       "  <tbody>\n",
       "    <tr>\n",
       "      <th>682387</th>\n",
       "      <td>LGLLESLDLAHQQILDTSGQIK</td>\n",
       "      <td>2</td>\n",
       "      <td>YHE211_07_Slot1-1_1_3003</td>\n",
       "      <td>21</td>\n",
       "      <td>0</td>\n",
       "      <td>YHE211</td>\n",
       "    </tr>\n",
       "    <tr>\n",
       "      <th>192121</th>\n",
       "      <td>STAESIVYSALETLAQR</td>\n",
       "      <td>2</td>\n",
       "      <td>YHE211_09_Slot1-1_1_3005</td>\n",
       "      <td>26</td>\n",
       "      <td>0</td>\n",
       "      <td>YHE211</td>\n",
       "    </tr>\n",
       "    <tr>\n",
       "      <th>825602</th>\n",
       "      <td>LALSSVDASEQTEWQQLVDDAK</td>\n",
       "      <td>2</td>\n",
       "      <td>YHE114_05_Slot1-1_1_3012</td>\n",
       "      <td>31</td>\n",
       "      <td>1</td>\n",
       "      <td>YHE114</td>\n",
       "    </tr>\n",
       "    <tr>\n",
       "      <th>488426</th>\n",
       "      <td>MSANISETTAMITDIATAPAEIDR</td>\n",
       "      <td>3</td>\n",
       "      <td>YHE211_06_Slot1-1_1_3002</td>\n",
       "      <td>23</td>\n",
       "      <td>0</td>\n",
       "      <td>YHE211</td>\n",
       "    </tr>\n",
       "    <tr>\n",
       "      <th>259440</th>\n",
       "      <td>CLDPILTIACTLAYR</td>\n",
       "      <td>2</td>\n",
       "      <td>YHE010_05_Slot1-1_1_2990</td>\n",
       "      <td>29</td>\n",
       "      <td>1</td>\n",
       "      <td>YHE010</td>\n",
       "    </tr>\n",
       "  </tbody>\n",
       "</table>\n",
       "</div>"
      ],
      "text/plain": [
       "                        sequence  charge                  run_name  \\\n",
       "682387    LGLLESLDLAHQQILDTSGQIK       2  YHE211_07_Slot1-1_1_3003   \n",
       "192121         STAESIVYSALETLAQR       2  YHE211_09_Slot1-1_1_3005   \n",
       "825602    LALSSVDASEQTEWQQLVDDAK       2  YHE114_05_Slot1-1_1_3012   \n",
       "488426  MSANISETTAMITDIATAPAEIDR       3  YHE211_06_Slot1-1_1_3002   \n",
       "259440           CLDPILTIACTLAYR       2  YHE010_05_Slot1-1_1_2990   \n",
       "\n",
       "        number_of_runs_extracted  human   group  \n",
       "682387                        21      0  YHE211  \n",
       "192121                        26      0  YHE211  \n",
       "825602                        31      1  YHE114  \n",
       "488426                        23      0  YHE211  \n",
       "259440                        29      1  YHE010  "
      ]
     },
     "execution_count": 6,
     "metadata": {},
     "output_type": "execute_result"
    }
   ],
   "source": [
    "sequences_df[['sequence','charge','run_name','number_of_runs_extracted','human','group']].sample(n=5)"
   ]
  },
  {
   "cell_type": "code",
   "execution_count": 7,
   "metadata": {},
   "outputs": [],
   "source": [
    "yhe_only_df = sequences_df[(sequences_df.group == 'YHE211') | (sequences_df.group == 'YHE114')]\n",
    "yhe_only_targets_df = yhe_only_df[(yhe_only_df.classed_as == 'target')]"
   ]
  },
  {
   "cell_type": "code",
   "execution_count": 8,
   "metadata": {},
   "outputs": [
    {
     "name": "stdout",
     "output_type": "stream",
     "text": [
      "there are 21 runs in the experiment\n"
     ]
    }
   ],
   "source": [
    "number_of_yhe_runs_in_experiment = len(yhe_only_df.file_idx.unique())\n",
    "print('there are {} runs in the experiment'.format(number_of_yhe_runs_in_experiment))"
   ]
  },
  {
   "cell_type": "markdown",
   "metadata": {},
   "source": [
    "#### analyse the rate of successful extractions of peptides in the library"
   ]
  },
  {
   "cell_type": "code",
   "execution_count": 9,
   "metadata": {},
   "outputs": [],
   "source": [
    "# count how many runs each sequence/charge was extracted from\n",
    "sequence_occurences_l = []\n",
    "for group_name,group_df in yhe_only_df.groupby(['sequence','charge'], as_index=False):\n",
    "    sequence_occurences_l.append((group_name[0], group_name[1], len(group_df.file_idx.unique())))\n",
    "yhe_sequence_occurences_df = pd.DataFrame(sequence_occurences_l, columns=['sequence','charge','number_of_runs_extracted'])"
   ]
  },
  {
   "cell_type": "code",
   "execution_count": 10,
   "metadata": {},
   "outputs": [
    {
     "name": "stdout",
     "output_type": "stream",
     "text": [
      "7.0% of extractions missing across the experiment.\n"
     ]
    }
   ],
   "source": [
    "# display the number of missing extractions across the experiment\n",
    "yhe_sequence_occurences_df['missing_files'] = number_of_yhe_runs_in_experiment - yhe_sequence_occurences_df.number_of_runs_extracted\n",
    "proportion_of_missing_extractions = yhe_sequence_occurences_df.missing_files.sum() / (len(yhe_sequence_occurences_df) * number_of_yhe_runs_in_experiment)\n",
    "print(\"{}% of extractions missing across the experiment.\".format(round(proportion_of_missing_extractions*100)))"
   ]
  },
  {
   "cell_type": "code",
   "execution_count": 11,
   "metadata": {},
   "outputs": [
    {
     "data": {
      "image/png": "[encoded data removed]",
      "text/plain": [
       "<Figure size 1080x576 with 1 Axes>"
      ]
     },
     "metadata": {
      "needs_background": "light"
     },
     "output_type": "display_data"
    }
   ],
   "source": [
    "f, ax1 = plt.subplots()\n",
    "f.set_figheight(8)\n",
    "f.set_figwidth(15)\n",
    "\n",
    "plt.margins(0.06)\n",
    "plt.suptitle('Distribution of sequence identifications extracted from the YHE runs')\n",
    "# plt.title('total {} modified peptide sequences'.format(modified_sequences_count))\n",
    "\n",
    "counts = np.bincount(yhe_sequence_occurences_df.number_of_runs_extracted)\n",
    "ax1.bar(range(22), counts, width=0.8, align='center')\n",
    "plt.xlabel('number of files in which a modified sequence-charge was extracted')\n",
    "plt.ylabel('frequency')\n",
    "ax1.set(xticks=range(1,22), xlim=[0, 22])\n",
    "# plt.ylim((0,20000))\n",
    "\n",
    "plt.show()"
   ]
  },
  {
   "cell_type": "code",
   "execution_count": 14,
   "metadata": {},
   "outputs": [
    {
     "data": {
      "text/plain": [
       "Index(['sequence', 'charge', 'file_idx', 'peak_idx', 'target_coords',\n",
       "       'theoretical_mz', 'q_value', 'delta_mz_ppm', 'delta_rt', 'delta_scan',\n",
       "       'fwhm_rt_0', 'fwhm_scan_0', 'geometric_mean_0_1',\n",
       "       'geometric_mean_0_1_2', 'isotope_0_1_mz_delta_ppm',\n",
       "       'isotope_0_1_rt_delta', 'isotope_0_1_scan_delta',\n",
       "       'isotope_0_2_mz_delta_ppm', 'isotope_0_2_rt_delta',\n",
       "       'isotope_0_2_scan_delta', 'monoisotope_auc_over_isotope_peak_auc_sum',\n",
       "       'monoisotope_int_over_isotope_peak_int_sum', 'mz_delta_ppm_std_dev_0',\n",
       "       'mz_delta_ppm_std_dev_1', 'number_of_frames_0', 'number_of_frames_1',\n",
       "       'number_of_frames_2', 'number_of_missing_frames_0',\n",
       "       'number_of_missing_frames_1', 'number_of_missing_frames_2',\n",
       "       'peak_base_width_rt_0', 'peak_base_width_scan_0', 'r_squared_phr',\n",
       "       'rt_isotope_correlation', 'rt_isotope_cv', 'rt_peak_symmetry_0',\n",
       "       'rt_peak_symmetry_1', 'rt_peak_symmetry_2', 'scan_isotope_correlation',\n",
       "       'scan_isotope_cv', 'scan_peak_symmetry_0', 'scan_peak_symmetry_1',\n",
       "       'scan_peak_symmetry_2', 'classed_as', 'prob_decoy', 'prob_target',\n",
       "       'inferred', 'intensity', 'isotope_1_filtered_points_l',\n",
       "       'isotope_1_rt_bounds', 'isotope_1_scan_bounds',\n",
       "       'isotope_2_filtered_points_l', 'isotope_2_rt_bounds',\n",
       "       'isotope_2_scan_bounds', 'isotope_idx_not_in_saturation',\n",
       "       'isotope_intensities_l', 'mono_filtered_points_l', 'mono_rt_bounds',\n",
       "       'mono_scan_bounds', 'monoisotopic_mass', 'monoisotopic_mz_centroid',\n",
       "       'monoisotopic_mz_delta_ppm', 'number_of_isotopes',\n",
       "       'peak_proportion_intensity', 'peak_proportions', 'rt_apex', 'scan_apex',\n",
       "       'run_name', 'group', 'human', 'number_of_runs_extracted'],\n",
       "      dtype='object')"
      ]
     },
     "execution_count": 14,
     "metadata": {},
     "output_type": "execute_result"
    }
   ],
   "source": [
    "yhe_only_targets_df.columns"
   ]
  },
  {
   "cell_type": "code",
   "execution_count": 15,
   "metadata": {},
   "outputs": [],
   "source": [
    "# count how many runs each sequence/charge was extracted from and classified as a target\n",
    "sequence_occurences_l = []\n",
    "for group_name,group_df in yhe_only_targets_df.groupby(['sequence','charge'], as_index=False):\n",
    "    sequence_occurences_l.append((group_name, len(group_df.file_idx.unique()), group_name[0], group_name[1]))\n",
    "yhe_sequence_occurences_df = pd.DataFrame(sequence_occurences_l, columns=['sequence_charge','number_of_runs_targets_extracted','sequence','charge'])"
   ]
  },
  {
   "cell_type": "code",
   "execution_count": 36,
   "metadata": {},
   "outputs": [
    {
     "name": "stdout",
     "output_type": "stream",
     "text": [
      "18.0% of values are missing across the YHE-only runs.\n"
     ]
    }
   ],
   "source": [
    "# display the number of missing values across the experiment\n",
    "yhe_sequence_occurences_df['missing_files'] = number_of_yhe_runs_in_experiment - yhe_sequence_occurences_df.number_of_runs_targets_extracted\n",
    "proportion_of_missing_values = yhe_sequence_occurences_df.missing_files.sum() / (len(yhe_sequence_occurences_df) * number_of_yhe_runs_in_experiment)\n",
    "print(\"{}% of values are missing across the YHE-only runs.\".format(round(proportion_of_missing_values*100)))"
   ]
  },
  {
   "cell_type": "code",
   "execution_count": 17,
   "metadata": {},
   "outputs": [
    {
     "data": {
      "text/html": [
       "<div>\n",
       "<style scoped>\n",
       "    .dataframe tbody tr th:only-of-type {\n",
       "        vertical-align: middle;\n",
       "    }\n",
       "\n",
       "    .dataframe tbody tr th {\n",
       "        vertical-align: top;\n",
       "    }\n",
       "\n",
       "    .dataframe thead th {\n",
       "        text-align: right;\n",
       "    }\n",
       "</style>\n",
       "<table border=\"1\" class=\"dataframe\">\n",
       "  <thead>\n",
       "    <tr style=\"text-align: right;\">\n",
       "      <th></th>\n",
       "      <th>sequence</th>\n",
       "      <th>charge</th>\n",
       "      <th>number_of_runs_targets_extracted</th>\n",
       "      <th>missing_files</th>\n",
       "    </tr>\n",
       "  </thead>\n",
       "  <tbody>\n",
       "    <tr>\n",
       "      <th>23605</th>\n",
       "      <td>SPTAPSVFSPTGNR</td>\n",
       "      <td>2</td>\n",
       "      <td>21</td>\n",
       "      <td>0</td>\n",
       "    </tr>\n",
       "    <tr>\n",
       "      <th>26959</th>\n",
       "      <td>VFQSLPHENKPLTLSNYQTNK</td>\n",
       "      <td>2</td>\n",
       "      <td>21</td>\n",
       "      <td>0</td>\n",
       "    </tr>\n",
       "    <tr>\n",
       "      <th>1567</th>\n",
       "      <td>APAALPALCDLLASAADPQIR</td>\n",
       "      <td>3</td>\n",
       "      <td>21</td>\n",
       "      <td>0</td>\n",
       "    </tr>\n",
       "    <tr>\n",
       "      <th>2712</th>\n",
       "      <td>CNEEHPAYLASDEITTVR</td>\n",
       "      <td>3</td>\n",
       "      <td>8</td>\n",
       "      <td>13</td>\n",
       "    </tr>\n",
       "    <tr>\n",
       "      <th>11578</th>\n",
       "      <td>HWPFMVVNDAGRPK</td>\n",
       "      <td>3</td>\n",
       "      <td>21</td>\n",
       "      <td>0</td>\n",
       "    </tr>\n",
       "    <tr>\n",
       "      <th>9790</th>\n",
       "      <td>GLQTSQDAR</td>\n",
       "      <td>2</td>\n",
       "      <td>11</td>\n",
       "      <td>10</td>\n",
       "    </tr>\n",
       "    <tr>\n",
       "      <th>3602</th>\n",
       "      <td>DGVPEGAQLQGPVHR</td>\n",
       "      <td>2</td>\n",
       "      <td>20</td>\n",
       "      <td>1</td>\n",
       "    </tr>\n",
       "    <tr>\n",
       "      <th>5351</th>\n",
       "      <td>EDKPVCDK</td>\n",
       "      <td>2</td>\n",
       "      <td>21</td>\n",
       "      <td>0</td>\n",
       "    </tr>\n",
       "    <tr>\n",
       "      <th>24166</th>\n",
       "      <td>SVNNTDATGLIQGVK</td>\n",
       "      <td>2</td>\n",
       "      <td>21</td>\n",
       "      <td>0</td>\n",
       "    </tr>\n",
       "    <tr>\n",
       "      <th>7901</th>\n",
       "      <td>FGQAATMEGIGAIGGTPPAFNR</td>\n",
       "      <td>2</td>\n",
       "      <td>21</td>\n",
       "      <td>0</td>\n",
       "    </tr>\n",
       "  </tbody>\n",
       "</table>\n",
       "</div>"
      ],
      "text/plain": [
       "                     sequence  charge  number_of_runs_targets_extracted  \\\n",
       "23605          SPTAPSVFSPTGNR       2                                21   \n",
       "26959   VFQSLPHENKPLTLSNYQTNK       2                                21   \n",
       "1567    APAALPALCDLLASAADPQIR       3                                21   \n",
       "2712       CNEEHPAYLASDEITTVR       3                                 8   \n",
       "11578          HWPFMVVNDAGRPK       3                                21   \n",
       "9790                GLQTSQDAR       2                                11   \n",
       "3602          DGVPEGAQLQGPVHR       2                                20   \n",
       "5351                 EDKPVCDK       2                                21   \n",
       "24166         SVNNTDATGLIQGVK       2                                21   \n",
       "7901   FGQAATMEGIGAIGGTPPAFNR       2                                21   \n",
       "\n",
       "       missing_files  \n",
       "23605              0  \n",
       "26959              0  \n",
       "1567               0  \n",
       "2712              13  \n",
       "11578              0  \n",
       "9790              10  \n",
       "3602               1  \n",
       "5351               0  \n",
       "24166              0  \n",
       "7901               0  "
      ]
     },
     "execution_count": 17,
     "metadata": {},
     "output_type": "execute_result"
    }
   ],
   "source": [
    "yhe_sequence_occurences_df.sample(n=10)[['sequence','charge','number_of_runs_targets_extracted','missing_files']]"
   ]
  },
  {
   "cell_type": "code",
   "execution_count": 18,
   "metadata": {},
   "outputs": [
    {
     "data": {
      "text/html": [
       "<div>\n",
       "<style scoped>\n",
       "    .dataframe tbody tr th:only-of-type {\n",
       "        vertical-align: middle;\n",
       "    }\n",
       "\n",
       "    .dataframe tbody tr th {\n",
       "        vertical-align: top;\n",
       "    }\n",
       "\n",
       "    .dataframe thead th {\n",
       "        text-align: right;\n",
       "    }\n",
       "</style>\n",
       "<table border=\"1\" class=\"dataframe\">\n",
       "  <thead>\n",
       "    <tr style=\"text-align: right;\">\n",
       "      <th></th>\n",
       "      <th>sequence</th>\n",
       "      <th>charge</th>\n",
       "      <th>file_idx</th>\n",
       "      <th>classed_as</th>\n",
       "      <th>prob_target</th>\n",
       "    </tr>\n",
       "  </thead>\n",
       "  <tbody>\n",
       "    <tr>\n",
       "      <th>5852</th>\n",
       "      <td>EHHIDPTAITR</td>\n",
       "      <td>2</td>\n",
       "      <td>16</td>\n",
       "      <td>target</td>\n",
       "      <td>0.998782</td>\n",
       "    </tr>\n",
       "    <tr>\n",
       "      <th>35214</th>\n",
       "      <td>EHHIDPTAITR</td>\n",
       "      <td>2</td>\n",
       "      <td>28</td>\n",
       "      <td>target</td>\n",
       "      <td>0.998985</td>\n",
       "    </tr>\n",
       "    <tr>\n",
       "      <th>90264</th>\n",
       "      <td>EHHIDPTAITR</td>\n",
       "      <td>2</td>\n",
       "      <td>23</td>\n",
       "      <td>target</td>\n",
       "      <td>0.749908</td>\n",
       "    </tr>\n",
       "    <tr>\n",
       "      <th>144927</th>\n",
       "      <td>EHHIDPTAITR</td>\n",
       "      <td>2</td>\n",
       "      <td>15</td>\n",
       "      <td>target</td>\n",
       "      <td>0.999727</td>\n",
       "    </tr>\n",
       "    <tr>\n",
       "      <th>174500</th>\n",
       "      <td>EHHIDPTAITR</td>\n",
       "      <td>2</td>\n",
       "      <td>9</td>\n",
       "      <td>target</td>\n",
       "      <td>0.998874</td>\n",
       "    </tr>\n",
       "    <tr>\n",
       "      <th>204060</th>\n",
       "      <td>EHHIDPTAITR</td>\n",
       "      <td>2</td>\n",
       "      <td>25</td>\n",
       "      <td>target</td>\n",
       "      <td>0.946110</td>\n",
       "    </tr>\n",
       "    <tr>\n",
       "      <th>233557</th>\n",
       "      <td>EHHIDPTAITR</td>\n",
       "      <td>2</td>\n",
       "      <td>24</td>\n",
       "      <td>target</td>\n",
       "      <td>0.996008</td>\n",
       "    </tr>\n",
       "    <tr>\n",
       "      <th>289452</th>\n",
       "      <td>EHHIDPTAITR</td>\n",
       "      <td>2</td>\n",
       "      <td>27</td>\n",
       "      <td>target</td>\n",
       "      <td>0.999569</td>\n",
       "    </tr>\n",
       "    <tr>\n",
       "      <th>343170</th>\n",
       "      <td>EHHIDPTAITR</td>\n",
       "      <td>2</td>\n",
       "      <td>20</td>\n",
       "      <td>target</td>\n",
       "      <td>0.871875</td>\n",
       "    </tr>\n",
       "    <tr>\n",
       "      <th>371629</th>\n",
       "      <td>EHHIDPTAITR</td>\n",
       "      <td>2</td>\n",
       "      <td>29</td>\n",
       "      <td>target</td>\n",
       "      <td>0.932164</td>\n",
       "    </tr>\n",
       "    <tr>\n",
       "      <th>476902</th>\n",
       "      <td>EHHIDPTAITR</td>\n",
       "      <td>2</td>\n",
       "      <td>14</td>\n",
       "      <td>target</td>\n",
       "      <td>0.986815</td>\n",
       "    </tr>\n",
       "    <tr>\n",
       "      <th>505983</th>\n",
       "      <td>EHHIDPTAITR</td>\n",
       "      <td>2</td>\n",
       "      <td>18</td>\n",
       "      <td>target</td>\n",
       "      <td>0.985943</td>\n",
       "    </tr>\n",
       "    <tr>\n",
       "      <th>535324</th>\n",
       "      <td>EHHIDPTAITR</td>\n",
       "      <td>2</td>\n",
       "      <td>8</td>\n",
       "      <td>target</td>\n",
       "      <td>0.999747</td>\n",
       "    </tr>\n",
       "    <tr>\n",
       "      <th>588237</th>\n",
       "      <td>EHHIDPTAITR</td>\n",
       "      <td>2</td>\n",
       "      <td>10</td>\n",
       "      <td>target</td>\n",
       "      <td>0.986583</td>\n",
       "    </tr>\n",
       "    <tr>\n",
       "      <th>644352</th>\n",
       "      <td>EHHIDPTAITR</td>\n",
       "      <td>2</td>\n",
       "      <td>30</td>\n",
       "      <td>target</td>\n",
       "      <td>0.999551</td>\n",
       "    </tr>\n",
       "    <tr>\n",
       "      <th>673561</th>\n",
       "      <td>EHHIDPTAITR</td>\n",
       "      <td>2</td>\n",
       "      <td>26</td>\n",
       "      <td>target</td>\n",
       "      <td>0.997696</td>\n",
       "    </tr>\n",
       "    <tr>\n",
       "      <th>728731</th>\n",
       "      <td>EHHIDPTAITR</td>\n",
       "      <td>2</td>\n",
       "      <td>0</td>\n",
       "      <td>target</td>\n",
       "      <td>0.999304</td>\n",
       "    </tr>\n",
       "    <tr>\n",
       "      <th>758472</th>\n",
       "      <td>EHHIDPTAITR</td>\n",
       "      <td>2</td>\n",
       "      <td>11</td>\n",
       "      <td>target</td>\n",
       "      <td>0.999549</td>\n",
       "    </tr>\n",
       "    <tr>\n",
       "      <th>787814</th>\n",
       "      <td>EHHIDPTAITR</td>\n",
       "      <td>2</td>\n",
       "      <td>22</td>\n",
       "      <td>target</td>\n",
       "      <td>0.999604</td>\n",
       "    </tr>\n",
       "    <tr>\n",
       "      <th>817742</th>\n",
       "      <td>EHHIDPTAITR</td>\n",
       "      <td>2</td>\n",
       "      <td>21</td>\n",
       "      <td>target</td>\n",
       "      <td>0.989977</td>\n",
       "    </tr>\n",
       "    <tr>\n",
       "      <th>847045</th>\n",
       "      <td>EHHIDPTAITR</td>\n",
       "      <td>2</td>\n",
       "      <td>13</td>\n",
       "      <td>target</td>\n",
       "      <td>0.968480</td>\n",
       "    </tr>\n",
       "  </tbody>\n",
       "</table>\n",
       "</div>"
      ],
      "text/plain": [
       "           sequence  charge  file_idx classed_as  prob_target\n",
       "5852    EHHIDPTAITR       2        16     target     0.998782\n",
       "35214   EHHIDPTAITR       2        28     target     0.998985\n",
       "90264   EHHIDPTAITR       2        23     target     0.749908\n",
       "144927  EHHIDPTAITR       2        15     target     0.999727\n",
       "174500  EHHIDPTAITR       2         9     target     0.998874\n",
       "204060  EHHIDPTAITR       2        25     target     0.946110\n",
       "233557  EHHIDPTAITR       2        24     target     0.996008\n",
       "289452  EHHIDPTAITR       2        27     target     0.999569\n",
       "343170  EHHIDPTAITR       2        20     target     0.871875\n",
       "371629  EHHIDPTAITR       2        29     target     0.932164\n",
       "476902  EHHIDPTAITR       2        14     target     0.986815\n",
       "505983  EHHIDPTAITR       2        18     target     0.985943\n",
       "535324  EHHIDPTAITR       2         8     target     0.999747\n",
       "588237  EHHIDPTAITR       2        10     target     0.986583\n",
       "644352  EHHIDPTAITR       2        30     target     0.999551\n",
       "673561  EHHIDPTAITR       2        26     target     0.997696\n",
       "728731  EHHIDPTAITR       2         0     target     0.999304\n",
       "758472  EHHIDPTAITR       2        11     target     0.999549\n",
       "787814  EHHIDPTAITR       2        22     target     0.999604\n",
       "817742  EHHIDPTAITR       2        21     target     0.989977\n",
       "847045  EHHIDPTAITR       2        13     target     0.968480"
      ]
     },
     "execution_count": 18,
     "metadata": {},
     "output_type": "execute_result"
    }
   ],
   "source": [
    "df = yhe_only_df[(yhe_only_df.sequence == 'EHHIDPTAITR') & (yhe_only_df.charge == 2)][['sequence','charge','file_idx','classed_as','prob_target']]\n",
    "df"
   ]
  },
  {
   "cell_type": "code",
   "execution_count": 19,
   "metadata": {},
   "outputs": [
    {
     "data": {
      "text/plain": [
       "0.19080700123915736"
      ]
     },
     "execution_count": 19,
     "metadata": {},
     "output_type": "execute_result"
    }
   ],
   "source": [
    "len(yhe_only_df[yhe_only_df.classed_as == 'decoy']) / len(yhe_only_df[yhe_only_df.classed_as == 'target'])"
   ]
  },
  {
   "cell_type": "code",
   "execution_count": 23,
   "metadata": {},
   "outputs": [
    {
     "data": {
      "text/plain": [
       "31659"
      ]
     },
     "execution_count": 23,
     "metadata": {},
     "output_type": "execute_result"
    }
   ],
   "source": [
    "unique_sequences_yhe_df = yhe_only_df.drop_duplicates(subset=['sequence', 'charge'], keep='first', inplace=False)\n",
    "len(unique_sequences_yhe_df)"
   ]
  },
  {
   "cell_type": "code",
   "execution_count": 24,
   "metadata": {},
   "outputs": [
    {
     "data": {
      "text/plain": [
       "31905"
      ]
     },
     "execution_count": 24,
     "metadata": {},
     "output_type": "execute_result"
    }
   ],
   "source": [
    "unique_sequences_all_runs_df = sequences_df.drop_duplicates(subset=['sequence', 'charge'], keep='first', inplace=False)\n",
    "len(unique_sequences_all_runs_df)"
   ]
  },
  {
   "cell_type": "code",
   "execution_count": 37,
   "metadata": {},
   "outputs": [
    {
     "data": {
      "image/png": "[encoded data removed]",
      "text/plain": [
       "<Figure size 1080x576 with 1 Axes>"
      ]
     },
     "metadata": {
      "needs_background": "light"
     },
     "output_type": "display_data"
    }
   ],
   "source": [
    "f, ax1 = plt.subplots()\n",
    "f.set_figheight(8)\n",
    "f.set_figwidth(15)\n",
    "\n",
    "plt.margins(0.06)\n",
    "plt.suptitle('Distribution of sequence identifications in the Yeast / HeLa / E.coli runs')\n",
    "plt.title('total {} modified peptide sequences'.format(len(unique_sequences_yhe_df)))\n",
    "\n",
    "counts = np.bincount(yhe_sequence_occurences_df.number_of_runs_targets_extracted)\n",
    "ax1.bar(range(22), counts, width=0.8, align='center')\n",
    "plt.xlabel('number of files in which a modified sequence-charge was identified')\n",
    "plt.ylabel('frequency')\n",
    "ax1.set(xticks=range(1,22), xlim=[0, 22])\n",
    "# plt.ylim((0,20000))\n",
    "\n",
    "plt.show()"
   ]
  },
  {
   "cell_type": "markdown",
   "metadata": {},
   "source": [
    "#### now analyse the human-only runs"
   ]
  },
  {
   "cell_type": "code",
   "execution_count": 38,
   "metadata": {},
   "outputs": [],
   "source": [
    "human_only_df = sequences_df[(sequences_df.group == 'YHE010')]\n",
    "human_only_targets_df = human_only_df[(human_only_df.classed_as == 'target')]"
   ]
  },
  {
   "cell_type": "code",
   "execution_count": 39,
   "metadata": {},
   "outputs": [],
   "source": [
    "# count how many runs each sequence/charge was extracted from\n",
    "sequence_occurences_l = []\n",
    "for group_name,group_df in human_only_targets_df.groupby(['sequence','charge'], as_index=False):\n",
    "    sequence_occurences_l.append((group_name, len(group_df.file_idx.unique()), group_name[0], group_name[1], group_df.iloc[0].human))\n",
    "human_sequence_occurences_df = pd.DataFrame(sequence_occurences_l, columns=['sequence_charge','number_of_runs_targets_extracted','sequence','charge','human'])\n"
   ]
  },
  {
   "cell_type": "code",
   "execution_count": 40,
   "metadata": {},
   "outputs": [
    {
     "name": "stdout",
     "output_type": "stream",
     "text": [
      "false positives: 11.7%\n"
     ]
    }
   ],
   "source": [
    "# proportion of false positives i.e. non-human peptides found in the human-only runs\n",
    "print('false positives: {}%'.format(round(len(human_sequence_occurences_df[(human_sequence_occurences_df.human == 0)]) / len(human_sequence_occurences_df) * 100.0, 1)))"
   ]
  },
  {
   "cell_type": "code",
   "execution_count": 41,
   "metadata": {},
   "outputs": [
    {
     "name": "stdout",
     "output_type": "stream",
     "text": [
      "there are 10 human-only runs in the experiment\n"
     ]
    }
   ],
   "source": [
    "number_of_human_runs_in_experiment = len(human_only_df.file_idx.unique())\n",
    "print('there are {} human-only runs in the experiment'.format(number_of_human_runs_in_experiment))"
   ]
  },
  {
   "cell_type": "code",
   "execution_count": 42,
   "metadata": {},
   "outputs": [
    {
     "name": "stdout",
     "output_type": "stream",
     "text": [
      "23.0% of values are missing in the human-only runs.\n"
     ]
    }
   ],
   "source": [
    "# display the number of missing values across the experiment\n",
    "human_sequence_occurences_df['missing_files'] = number_of_human_runs_in_experiment - human_sequence_occurences_df.number_of_runs_targets_extracted\n",
    "proportion_of_missing_values = human_sequence_occurences_df.missing_files.sum() / (len(human_sequence_occurences_df) * number_of_human_runs_in_experiment)\n",
    "print(\"{}% of values are missing in the human-only runs.\".format(round(proportion_of_missing_values*100)))"
   ]
  },
  {
   "cell_type": "code",
   "execution_count": 43,
   "metadata": {},
   "outputs": [
    {
     "data": {
      "text/html": [
       "<div>\n",
       "<style scoped>\n",
       "    .dataframe tbody tr th:only-of-type {\n",
       "        vertical-align: middle;\n",
       "    }\n",
       "\n",
       "    .dataframe tbody tr th {\n",
       "        vertical-align: top;\n",
       "    }\n",
       "\n",
       "    .dataframe thead th {\n",
       "        text-align: right;\n",
       "    }\n",
       "</style>\n",
       "<table border=\"1\" class=\"dataframe\">\n",
       "  <thead>\n",
       "    <tr style=\"text-align: right;\">\n",
       "      <th></th>\n",
       "      <th>sequence</th>\n",
       "      <th>charge</th>\n",
       "      <th>number_of_runs_targets_extracted</th>\n",
       "      <th>missing_files</th>\n",
       "    </tr>\n",
       "  </thead>\n",
       "  <tbody>\n",
       "    <tr>\n",
       "      <th>5165</th>\n",
       "      <td>EKPKPTPDYLMQLMNDK</td>\n",
       "      <td>3</td>\n",
       "      <td>9</td>\n",
       "      <td>1</td>\n",
       "    </tr>\n",
       "    <tr>\n",
       "      <th>5006</th>\n",
       "      <td>EHLELFWSR</td>\n",
       "      <td>2</td>\n",
       "      <td>10</td>\n",
       "      <td>0</td>\n",
       "    </tr>\n",
       "    <tr>\n",
       "      <th>21343</th>\n",
       "      <td>TLAESALQLLYTAK</td>\n",
       "      <td>2</td>\n",
       "      <td>10</td>\n",
       "      <td>0</td>\n",
       "    </tr>\n",
       "    <tr>\n",
       "      <th>17725</th>\n",
       "      <td>Q[-17.0265]ALVAIFTHLR</td>\n",
       "      <td>2</td>\n",
       "      <td>10</td>\n",
       "      <td>0</td>\n",
       "    </tr>\n",
       "    <tr>\n",
       "      <th>9961</th>\n",
       "      <td>IASLLGLLSK</td>\n",
       "      <td>2</td>\n",
       "      <td>1</td>\n",
       "      <td>9</td>\n",
       "    </tr>\n",
       "    <tr>\n",
       "      <th>13195</th>\n",
       "      <td>LLHHDDPEVLADTCWAISYLTDGPNER</td>\n",
       "      <td>3</td>\n",
       "      <td>3</td>\n",
       "      <td>7</td>\n",
       "    </tr>\n",
       "    <tr>\n",
       "      <th>1297</th>\n",
       "      <td>APEDAGPQPGSYEIR</td>\n",
       "      <td>2</td>\n",
       "      <td>10</td>\n",
       "      <td>0</td>\n",
       "    </tr>\n",
       "    <tr>\n",
       "      <th>9909</th>\n",
       "      <td>IAFADAGDTVEDANFDESNANAAILR</td>\n",
       "      <td>2</td>\n",
       "      <td>9</td>\n",
       "      <td>1</td>\n",
       "    </tr>\n",
       "    <tr>\n",
       "      <th>10332</th>\n",
       "      <td>IFYHPETTQLMILSASEATVK</td>\n",
       "      <td>2</td>\n",
       "      <td>9</td>\n",
       "      <td>1</td>\n",
       "    </tr>\n",
       "    <tr>\n",
       "      <th>18182</th>\n",
       "      <td>Q[-17.0265]NAEQHVTQLMSTEPLPR</td>\n",
       "      <td>2</td>\n",
       "      <td>10</td>\n",
       "      <td>0</td>\n",
       "    </tr>\n",
       "  </tbody>\n",
       "</table>\n",
       "</div>"
      ],
      "text/plain": [
       "                           sequence  charge  number_of_runs_targets_extracted  \\\n",
       "5165              EKPKPTPDYLMQLMNDK       3                                 9   \n",
       "5006                      EHLELFWSR       2                                10   \n",
       "21343                TLAESALQLLYTAK       2                                10   \n",
       "17725         Q[-17.0265]ALVAIFTHLR       2                                10   \n",
       "9961                     IASLLGLLSK       2                                 1   \n",
       "13195   LLHHDDPEVLADTCWAISYLTDGPNER       3                                 3   \n",
       "1297                APEDAGPQPGSYEIR       2                                10   \n",
       "9909     IAFADAGDTVEDANFDESNANAAILR       2                                 9   \n",
       "10332         IFYHPETTQLMILSASEATVK       2                                 9   \n",
       "18182  Q[-17.0265]NAEQHVTQLMSTEPLPR       2                                10   \n",
       "\n",
       "       missing_files  \n",
       "5165               1  \n",
       "5006               0  \n",
       "21343              0  \n",
       "17725              0  \n",
       "9961               9  \n",
       "13195              7  \n",
       "1297               0  \n",
       "9909               1  \n",
       "10332              1  \n",
       "18182              0  "
      ]
     },
     "execution_count": 43,
     "metadata": {},
     "output_type": "execute_result"
    }
   ],
   "source": [
    "human_sequence_occurences_df.sample(n=10)[['sequence','charge','number_of_runs_targets_extracted','missing_files']]"
   ]
  },
  {
   "cell_type": "code",
   "execution_count": 44,
   "metadata": {},
   "outputs": [
    {
     "data": {
      "text/html": [
       "<div>\n",
       "<style scoped>\n",
       "    .dataframe tbody tr th:only-of-type {\n",
       "        vertical-align: middle;\n",
       "    }\n",
       "\n",
       "    .dataframe tbody tr th {\n",
       "        vertical-align: top;\n",
       "    }\n",
       "\n",
       "    .dataframe thead th {\n",
       "        text-align: right;\n",
       "    }\n",
       "</style>\n",
       "<table border=\"1\" class=\"dataframe\">\n",
       "  <thead>\n",
       "    <tr style=\"text-align: right;\">\n",
       "      <th></th>\n",
       "      <th>sequence</th>\n",
       "      <th>charge</th>\n",
       "      <th>file_idx</th>\n",
       "      <th>classed_as</th>\n",
       "      <th>prob_target</th>\n",
       "    </tr>\n",
       "  </thead>\n",
       "  <tbody>\n",
       "    <tr>\n",
       "      <th>60106</th>\n",
       "      <td>APVAIGVAAMSTAEMLTSGLK</td>\n",
       "      <td>2</td>\n",
       "      <td>4</td>\n",
       "      <td>target</td>\n",
       "      <td>0.999214</td>\n",
       "    </tr>\n",
       "    <tr>\n",
       "      <th>115175</th>\n",
       "      <td>APVAIGVAAMSTAEMLTSGLK</td>\n",
       "      <td>2</td>\n",
       "      <td>17</td>\n",
       "      <td>target</td>\n",
       "      <td>0.999445</td>\n",
       "    </tr>\n",
       "    <tr>\n",
       "      <th>258615</th>\n",
       "      <td>APVAIGVAAMSTAEMLTSGLK</td>\n",
       "      <td>2</td>\n",
       "      <td>1</td>\n",
       "      <td>target</td>\n",
       "      <td>0.957707</td>\n",
       "    </tr>\n",
       "    <tr>\n",
       "      <th>314473</th>\n",
       "      <td>APVAIGVAAMSTAEMLTSGLK</td>\n",
       "      <td>2</td>\n",
       "      <td>6</td>\n",
       "      <td>target</td>\n",
       "      <td>0.989224</td>\n",
       "    </tr>\n",
       "    <tr>\n",
       "      <th>394816</th>\n",
       "      <td>APVAIGVAAMSTAEMLTSGLK</td>\n",
       "      <td>2</td>\n",
       "      <td>12</td>\n",
       "      <td>target</td>\n",
       "      <td>0.980972</td>\n",
       "    </tr>\n",
       "    <tr>\n",
       "      <th>421445</th>\n",
       "      <td>APVAIGVAAMSTAEMLTSGLK</td>\n",
       "      <td>2</td>\n",
       "      <td>3</td>\n",
       "      <td>target</td>\n",
       "      <td>0.951320</td>\n",
       "    </tr>\n",
       "    <tr>\n",
       "      <th>447007</th>\n",
       "      <td>APVAIGVAAMSTAEMLTSGLK</td>\n",
       "      <td>2</td>\n",
       "      <td>2</td>\n",
       "      <td>decoy</td>\n",
       "      <td>0.476260</td>\n",
       "    </tr>\n",
       "    <tr>\n",
       "      <th>560275</th>\n",
       "      <td>APVAIGVAAMSTAEMLTSGLK</td>\n",
       "      <td>2</td>\n",
       "      <td>5</td>\n",
       "      <td>target</td>\n",
       "      <td>0.981317</td>\n",
       "    </tr>\n",
       "    <tr>\n",
       "      <th>613658</th>\n",
       "      <td>APVAIGVAAMSTAEMLTSGLK</td>\n",
       "      <td>2</td>\n",
       "      <td>19</td>\n",
       "      <td>target</td>\n",
       "      <td>0.999955</td>\n",
       "    </tr>\n",
       "    <tr>\n",
       "      <th>698555</th>\n",
       "      <td>APVAIGVAAMSTAEMLTSGLK</td>\n",
       "      <td>2</td>\n",
       "      <td>7</td>\n",
       "      <td>target</td>\n",
       "      <td>0.991500</td>\n",
       "    </tr>\n",
       "  </tbody>\n",
       "</table>\n",
       "</div>"
      ],
      "text/plain": [
       "                     sequence  charge  file_idx classed_as  prob_target\n",
       "60106   APVAIGVAAMSTAEMLTSGLK       2         4     target     0.999214\n",
       "115175  APVAIGVAAMSTAEMLTSGLK       2        17     target     0.999445\n",
       "258615  APVAIGVAAMSTAEMLTSGLK       2         1     target     0.957707\n",
       "314473  APVAIGVAAMSTAEMLTSGLK       2         6     target     0.989224\n",
       "394816  APVAIGVAAMSTAEMLTSGLK       2        12     target     0.980972\n",
       "421445  APVAIGVAAMSTAEMLTSGLK       2         3     target     0.951320\n",
       "447007  APVAIGVAAMSTAEMLTSGLK       2         2      decoy     0.476260\n",
       "560275  APVAIGVAAMSTAEMLTSGLK       2         5     target     0.981317\n",
       "613658  APVAIGVAAMSTAEMLTSGLK       2        19     target     0.999955\n",
       "698555  APVAIGVAAMSTAEMLTSGLK       2         7     target     0.991500"
      ]
     },
     "execution_count": 44,
     "metadata": {},
     "output_type": "execute_result"
    }
   ],
   "source": [
    "df = human_only_df[(human_only_df.sequence == 'APVAIGVAAMSTAEMLTSGLK') & (human_only_df.charge == 2)][['sequence','charge','file_idx','classed_as','prob_target']]\n",
    "df"
   ]
  },
  {
   "cell_type": "code",
   "execution_count": 45,
   "metadata": {},
   "outputs": [
    {
     "data": {
      "text/plain": [
       "10"
      ]
     },
     "execution_count": 45,
     "metadata": {},
     "output_type": "execute_result"
    }
   ],
   "source": [
    "len(df)"
   ]
  },
  {
   "cell_type": "code",
   "execution_count": 48,
   "metadata": {},
   "outputs": [
    {
     "data": {
      "text/plain": [
       "28814"
      ]
     },
     "execution_count": 48,
     "metadata": {},
     "output_type": "execute_result"
    }
   ],
   "source": [
    "unique_sequences_human_only_df = human_only_df.drop_duplicates(subset=['sequence', 'charge'], keep='first', inplace=False)\n",
    "len(unique_sequences_human_only_df)"
   ]
  },
  {
   "cell_type": "code",
   "execution_count": 49,
   "metadata": {},
   "outputs": [
    {
     "data": {
      "image/png": "[encoded data removed]",
      "text/plain": [
       "<Figure size 1080x576 with 1 Axes>"
      ]
     },
     "metadata": {
      "needs_background": "light"
     },
     "output_type": "display_data"
    }
   ],
   "source": [
    "f, ax1 = plt.subplots()\n",
    "f.set_figheight(8)\n",
    "f.set_figwidth(15)\n",
    "\n",
    "plt.margins(0.06)\n",
    "plt.suptitle('Distribution of sequence identifications in the HeLa-only runs')\n",
    "plt.title('total {} modified peptide sequences'.format(len(unique_sequences_human_only_df)))\n",
    "\n",
    "counts = np.bincount(human_sequence_occurences_df.number_of_runs_targets_extracted)\n",
    "ax1.bar(range(11), counts, width=0.8, align='center')\n",
    "plt.xlabel('number of files in which a modified sequence-charge was identified')\n",
    "plt.ylabel('frequency')\n",
    "ax1.set(xticks=range(1,11), xlim=[0, 11])\n",
    "# plt.ylim((0,20000))\n",
    "\n",
    "plt.show()"
   ]
  },
  {
   "cell_type": "code",
   "execution_count": null,
   "metadata": {},
   "outputs": [],
   "source": []
  }
 ],
 "metadata": {
  "kernelspec": {
   "display_name": "Python 3",
   "language": "python",
   "name": "python3"
  },
  "language_info": {
   "codemirror_mode": {
    "name": "ipython",
    "version": 3
   },
   "file_extension": ".py",
   "mimetype": "text/x-python",
   "name": "python",
   "nbconvert_exporter": "python",
   "pygments_lexer": "ipython3",
   "version": "3.6.8"
  }
 },
 "nbformat": 4,
 "nbformat_minor": 2
}
