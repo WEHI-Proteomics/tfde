{
 "cells": [
  {
   "cell_type": "code",
   "execution_count": 72,
   "metadata": {},
   "outputs": [],
   "source": [
    "import pandas as pd\n",
    "import numpy as np\n",
    "import sqlite3\n",
    "import json\n",
    "import matplotlib.pyplot as plt"
   ]
  },
  {
   "cell_type": "code",
   "execution_count": 2,
   "metadata": {},
   "outputs": [],
   "source": [
    "EXTRACTED_FEATURES_DB_NAME = '/data/experiments/YHE/extracted-features/extracted-features.sqlite'"
   ]
  },
  {
   "cell_type": "code",
   "execution_count": 3,
   "metadata": {},
   "outputs": [],
   "source": [
    "db_conn = sqlite3.connect(EXTRACTED_FEATURES_DB_NAME)\n",
    "sequences_df = pd.read_sql_query(\"select * from features\", db_conn)\n",
    "db_conn.close()"
   ]
  },
  {
   "cell_type": "code",
   "execution_count": 4,
   "metadata": {},
   "outputs": [
    {
     "data": {
      "text/html": [
       "<div>\n",
       "<style scoped>\n",
       "    .dataframe tbody tr th:only-of-type {\n",
       "        vertical-align: middle;\n",
       "    }\n",
       "\n",
       "    .dataframe tbody tr th {\n",
       "        vertical-align: top;\n",
       "    }\n",
       "\n",
       "    .dataframe thead th {\n",
       "        text-align: right;\n",
       "    }\n",
       "</style>\n",
       "<table border=\"1\" class=\"dataframe\">\n",
       "  <thead>\n",
       "    <tr style=\"text-align: right;\">\n",
       "      <th></th>\n",
       "      <th>sequence</th>\n",
       "      <th>charge</th>\n",
       "      <th>run_name</th>\n",
       "      <th>number_of_runs_extracted</th>\n",
       "      <th>human</th>\n",
       "      <th>group</th>\n",
       "      <th>classed_as</th>\n",
       "    </tr>\n",
       "  </thead>\n",
       "  <tbody>\n",
       "    <tr>\n",
       "      <th>226280</th>\n",
       "      <td>WCEYGLTFTEK</td>\n",
       "      <td>2</td>\n",
       "      <td>YHE114_07_Slot1-1_1_3014</td>\n",
       "      <td>31</td>\n",
       "      <td>1</td>\n",
       "      <td>YHE114</td>\n",
       "      <td>decoy</td>\n",
       "    </tr>\n",
       "    <tr>\n",
       "      <th>212430</th>\n",
       "      <td>LEESGWQVNNNMNHNMNK</td>\n",
       "      <td>2</td>\n",
       "      <td>YHE114_07_Slot1-1_1_3014</td>\n",
       "      <td>30</td>\n",
       "      <td>1</td>\n",
       "      <td>YHE114</td>\n",
       "      <td>target</td>\n",
       "    </tr>\n",
       "    <tr>\n",
       "      <th>503960</th>\n",
       "      <td>DLESIDPEFYNSLIWVK</td>\n",
       "      <td>2</td>\n",
       "      <td>YHE114_11_Slot1-1_1_3043</td>\n",
       "      <td>25</td>\n",
       "      <td>1</td>\n",
       "      <td>YHE114</td>\n",
       "      <td>target</td>\n",
       "    </tr>\n",
       "    <tr>\n",
       "      <th>174872</th>\n",
       "      <td>ELLNALFSNPMDDNLICAVK</td>\n",
       "      <td>2</td>\n",
       "      <td>YHE211_09_Slot1-1_1_3005</td>\n",
       "      <td>31</td>\n",
       "      <td>1</td>\n",
       "      <td>YHE211</td>\n",
       "      <td>target</td>\n",
       "    </tr>\n",
       "    <tr>\n",
       "      <th>669690</th>\n",
       "      <td>ATFCLPILGVK</td>\n",
       "      <td>2</td>\n",
       "      <td>YHE211_07_Slot1-1_1_3003</td>\n",
       "      <td>31</td>\n",
       "      <td>1</td>\n",
       "      <td>YHE211</td>\n",
       "      <td>decoy</td>\n",
       "    </tr>\n",
       "  </tbody>\n",
       "</table>\n",
       "</div>"
      ],
      "text/plain": [
       "                    sequence  charge                  run_name  \\\n",
       "226280           WCEYGLTFTEK       2  YHE114_07_Slot1-1_1_3014   \n",
       "212430    LEESGWQVNNNMNHNMNK       2  YHE114_07_Slot1-1_1_3014   \n",
       "503960     DLESIDPEFYNSLIWVK       2  YHE114_11_Slot1-1_1_3043   \n",
       "174872  ELLNALFSNPMDDNLICAVK       2  YHE211_09_Slot1-1_1_3005   \n",
       "669690           ATFCLPILGVK       2  YHE211_07_Slot1-1_1_3003   \n",
       "\n",
       "        number_of_runs_extracted  human   group classed_as  \n",
       "226280                        31      1  YHE114      decoy  \n",
       "212430                        30      1  YHE114     target  \n",
       "503960                        25      1  YHE114     target  \n",
       "174872                        31      1  YHE211     target  \n",
       "669690                        31      1  YHE211      decoy  "
      ]
     },
     "execution_count": 4,
     "metadata": {},
     "output_type": "execute_result"
    }
   ],
   "source": [
    "sequences_df[['sequence','charge','run_name','number_of_runs_extracted','human','group','classed_as']].sample(n=5)"
   ]
  },
  {
   "cell_type": "code",
   "execution_count": 5,
   "metadata": {},
   "outputs": [],
   "source": [
    "sequences_df['group'] = sequences_df.run_name.apply(lambda x: x.split('_')[0])"
   ]
  },
  {
   "cell_type": "code",
   "execution_count": 6,
   "metadata": {},
   "outputs": [
    {
     "data": {
      "text/html": [
       "<div>\n",
       "<style scoped>\n",
       "    .dataframe tbody tr th:only-of-type {\n",
       "        vertical-align: middle;\n",
       "    }\n",
       "\n",
       "    .dataframe tbody tr th {\n",
       "        vertical-align: top;\n",
       "    }\n",
       "\n",
       "    .dataframe thead th {\n",
       "        text-align: right;\n",
       "    }\n",
       "</style>\n",
       "<table border=\"1\" class=\"dataframe\">\n",
       "  <thead>\n",
       "    <tr style=\"text-align: right;\">\n",
       "      <th></th>\n",
       "      <th>sequence</th>\n",
       "      <th>charge</th>\n",
       "      <th>run_name</th>\n",
       "      <th>number_of_runs_extracted</th>\n",
       "      <th>human</th>\n",
       "      <th>group</th>\n",
       "    </tr>\n",
       "  </thead>\n",
       "  <tbody>\n",
       "    <tr>\n",
       "      <th>848366</th>\n",
       "      <td>EYDELNVAPYNPVVCSGPHCK</td>\n",
       "      <td>2</td>\n",
       "      <td>YHE211_04_Slot1-1_1_3000</td>\n",
       "      <td>29</td>\n",
       "      <td>0</td>\n",
       "      <td>YHE211</td>\n",
       "    </tr>\n",
       "    <tr>\n",
       "      <th>697749</th>\n",
       "      <td>AGEGRPNGEGAEPGPGR</td>\n",
       "      <td>2</td>\n",
       "      <td>YHE010_10_Slot1-1_1_2995</td>\n",
       "      <td>31</td>\n",
       "      <td>1</td>\n",
       "      <td>YHE010</td>\n",
       "    </tr>\n",
       "    <tr>\n",
       "      <th>854259</th>\n",
       "      <td>KEKEPEEELYDLSK</td>\n",
       "      <td>2</td>\n",
       "      <td>YHE211_04_Slot1-1_1_3000</td>\n",
       "      <td>31</td>\n",
       "      <td>1</td>\n",
       "      <td>YHE211</td>\n",
       "    </tr>\n",
       "    <tr>\n",
       "      <th>655544</th>\n",
       "      <td>MGYAEEAPYDAIHVGAAAPVVPQALIDQLKPGGR</td>\n",
       "      <td>3</td>\n",
       "      <td>YHE211_08_Slot1-1_1_3004</td>\n",
       "      <td>27</td>\n",
       "      <td>1</td>\n",
       "      <td>YHE211</td>\n",
       "    </tr>\n",
       "    <tr>\n",
       "      <th>231977</th>\n",
       "      <td>DPTGMDPDDIWQLSSSLK</td>\n",
       "      <td>2</td>\n",
       "      <td>YHE211_03_Slot1-1_1_2999</td>\n",
       "      <td>31</td>\n",
       "      <td>1</td>\n",
       "      <td>YHE211</td>\n",
       "    </tr>\n",
       "  </tbody>\n",
       "</table>\n",
       "</div>"
      ],
      "text/plain": [
       "                                  sequence  charge                  run_name  \\\n",
       "848366               EYDELNVAPYNPVVCSGPHCK       2  YHE211_04_Slot1-1_1_3000   \n",
       "697749                   AGEGRPNGEGAEPGPGR       2  YHE010_10_Slot1-1_1_2995   \n",
       "854259                      KEKEPEEELYDLSK       2  YHE211_04_Slot1-1_1_3000   \n",
       "655544  MGYAEEAPYDAIHVGAAAPVVPQALIDQLKPGGR       3  YHE211_08_Slot1-1_1_3004   \n",
       "231977                  DPTGMDPDDIWQLSSSLK       2  YHE211_03_Slot1-1_1_2999   \n",
       "\n",
       "        number_of_runs_extracted  human   group  \n",
       "848366                        29      0  YHE211  \n",
       "697749                        31      1  YHE010  \n",
       "854259                        31      1  YHE211  \n",
       "655544                        27      1  YHE211  \n",
       "231977                        31      1  YHE211  "
      ]
     },
     "execution_count": 6,
     "metadata": {},
     "output_type": "execute_result"
    }
   ],
   "source": [
    "sequences_df[['sequence','charge','run_name','number_of_runs_extracted','human','group']].sample(n=5)"
   ]
  },
  {
   "cell_type": "code",
   "execution_count": 7,
   "metadata": {},
   "outputs": [],
   "source": [
    "yhe_only_df = sequences_df[(sequences_df.group == 'YHE211') | (sequences_df.group == 'YHE114')]\n",
    "yhe_only_targets_df = yhe_only_df[(yhe_only_df.classed_as == 'target')]"
   ]
  },
  {
   "cell_type": "code",
   "execution_count": 8,
   "metadata": {},
   "outputs": [
    {
     "name": "stdout",
     "output_type": "stream",
     "text": [
      "there are 21 runs in the experiment\n"
     ]
    }
   ],
   "source": [
    "number_of_yhe_runs_in_experiment = len(yhe_only_df.file_idx.unique())\n",
    "print('there are {} runs in the experiment'.format(number_of_yhe_runs_in_experiment))"
   ]
  },
  {
   "cell_type": "markdown",
   "metadata": {},
   "source": [
    "#### analyse the rate of successful extractions of peptides in the library"
   ]
  },
  {
   "cell_type": "code",
   "execution_count": 9,
   "metadata": {},
   "outputs": [],
   "source": [
    "# count how many runs each sequence/charge was extracted from\n",
    "sequence_occurences_l = []\n",
    "for group_name,group_df in yhe_only_df.groupby(['sequence','charge'], as_index=False):\n",
    "    sequence_occurences_l.append((group_name[0], group_name[1], len(group_df.file_idx.unique())))\n",
    "yhe_sequence_occurences_df = pd.DataFrame(sequence_occurences_l, columns=['sequence','charge','number_of_runs_extracted'])"
   ]
  },
  {
   "cell_type": "code",
   "execution_count": 10,
   "metadata": {},
   "outputs": [
    {
     "name": "stdout",
     "output_type": "stream",
     "text": [
      "7.0% of extractions missing across the experiment.\n"
     ]
    }
   ],
   "source": [
    "# display the number of missing extractions across the experiment\n",
    "yhe_sequence_occurences_df['missing_files'] = number_of_yhe_runs_in_experiment - yhe_sequence_occurences_df.number_of_runs_extracted\n",
    "proportion_of_missing_extractions = yhe_sequence_occurences_df.missing_files.sum() / (len(yhe_sequence_occurences_df) * number_of_yhe_runs_in_experiment)\n",
    "print(\"{}% of extractions missing across the experiment.\".format(round(proportion_of_missing_extractions*100)))"
   ]
  },
  {
   "cell_type": "code",
   "execution_count": 11,
   "metadata": {},
   "outputs": [
    {
     "data": {
      "image/png": "[encoded data removed]",
      "text/plain": [
       "<Figure size 1080x576 with 1 Axes>"
      ]
     },
     "metadata": {
      "needs_background": "light"
     },
     "output_type": "display_data"
    }
   ],
   "source": [
    "f, ax1 = plt.subplots()\n",
    "f.set_figheight(8)\n",
    "f.set_figwidth(15)\n",
    "\n",
    "plt.margins(0.06)\n",
    "plt.suptitle('Distribution of sequence identifications extracted from the YHE runs')\n",
    "# plt.title('total {} modified peptide sequences'.format(modified_sequences_count))\n",
    "\n",
    "counts = np.bincount(yhe_sequence_occurences_df.number_of_runs_extracted)\n",
    "ax1.bar(range(22), counts, width=0.8, align='center')\n",
    "plt.xlabel('number of files in which a modified sequence-charge was extracted')\n",
    "plt.ylabel('frequency')\n",
    "ax1.set(xticks=range(1,22), xlim=[0, 22])\n",
    "# plt.ylim((0,20000))\n",
    "\n",
    "plt.show()"
   ]
  },
  {
   "cell_type": "code",
   "execution_count": 12,
   "metadata": {},
   "outputs": [
    {
     "data": {
      "text/plain": [
       "Index(['sequence', 'charge', 'file_idx', 'peak_idx', 'target_coords',\n",
       "       'theoretical_mz', 'q_value', 'delta_mz_ppm', 'delta_rt', 'delta_scan',\n",
       "       'fwhm_rt_0', 'fwhm_scan_0', 'geometric_mean_0_1',\n",
       "       'geometric_mean_0_1_2', 'isotope_0_1_mz_delta_ppm',\n",
       "       'isotope_0_1_rt_delta', 'isotope_0_1_scan_delta',\n",
       "       'isotope_0_2_mz_delta_ppm', 'isotope_0_2_rt_delta',\n",
       "       'isotope_0_2_scan_delta', 'monoisotope_auc_over_isotope_peak_auc_sum',\n",
       "       'monoisotope_int_over_isotope_peak_int_sum', 'mz_delta_ppm_std_dev_0',\n",
       "       'mz_delta_ppm_std_dev_1', 'number_of_frames_0', 'number_of_frames_1',\n",
       "       'number_of_frames_2', 'number_of_missing_frames_0',\n",
       "       'number_of_missing_frames_1', 'number_of_missing_frames_2',\n",
       "       'peak_base_width_rt_0', 'peak_base_width_scan_0', 'r_squared_phr',\n",
       "       'rt_isotope_correlation', 'rt_isotope_cv', 'rt_peak_symmetry_0',\n",
       "       'rt_peak_symmetry_1', 'rt_peak_symmetry_2', 'scan_isotope_correlation',\n",
       "       'scan_isotope_cv', 'scan_peak_symmetry_0', 'scan_peak_symmetry_1',\n",
       "       'scan_peak_symmetry_2', 'classed_as', 'prob_decoy', 'prob_target',\n",
       "       'inferred', 'intensity', 'isotope_1_filtered_points_l',\n",
       "       'isotope_1_rt_bounds', 'isotope_1_scan_bounds',\n",
       "       'isotope_2_filtered_points_l', 'isotope_2_rt_bounds',\n",
       "       'isotope_2_scan_bounds', 'isotope_idx_not_in_saturation',\n",
       "       'isotope_intensities_l', 'mono_filtered_points_l', 'mono_rt_bounds',\n",
       "       'mono_scan_bounds', 'monoisotopic_mass', 'monoisotopic_mz_centroid',\n",
       "       'monoisotopic_mz_delta_ppm', 'number_of_isotopes',\n",
       "       'peak_proportion_intensity', 'peak_proportions', 'rt_apex', 'scan_apex',\n",
       "       'run_name', 'group', 'human', 'number_of_runs_extracted'],\n",
       "      dtype='object')"
      ]
     },
     "execution_count": 12,
     "metadata": {},
     "output_type": "execute_result"
    }
   ],
   "source": [
    "yhe_only_targets_df.columns"
   ]
  },
  {
   "cell_type": "code",
   "execution_count": 13,
   "metadata": {},
   "outputs": [],
   "source": [
    "# count how many runs each sequence/charge was extracted from and classified as a target\n",
    "sequence_occurences_l = []\n",
    "for group_name,group_df in yhe_only_targets_df.groupby(['sequence','charge'], as_index=False):\n",
    "    sequence_occurences_l.append((group_name, len(group_df.file_idx.unique()), group_name[0], group_name[1]))\n",
    "yhe_sequence_occurences_df = pd.DataFrame(sequence_occurences_l, columns=['sequence_charge','number_of_runs_targets_extracted','sequence','charge'])"
   ]
  },
  {
   "cell_type": "code",
   "execution_count": 14,
   "metadata": {},
   "outputs": [
    {
     "name": "stdout",
     "output_type": "stream",
     "text": [
      "18.0% of values are missing across the YHE-only runs.\n"
     ]
    }
   ],
   "source": [
    "# display the number of missing values across the experiment\n",
    "yhe_sequence_occurences_df['missing_files'] = number_of_yhe_runs_in_experiment - yhe_sequence_occurences_df.number_of_runs_targets_extracted\n",
    "proportion_of_missing_values = yhe_sequence_occurences_df.missing_files.sum() / (len(yhe_sequence_occurences_df) * number_of_yhe_runs_in_experiment)\n",
    "print(\"{}% of values are missing across the YHE-only runs.\".format(round(proportion_of_missing_values*100)))"
   ]
  },
  {
   "cell_type": "code",
   "execution_count": 15,
   "metadata": {},
   "outputs": [
    {
     "data": {
      "text/html": [
       "<div>\n",
       "<style scoped>\n",
       "    .dataframe tbody tr th:only-of-type {\n",
       "        vertical-align: middle;\n",
       "    }\n",
       "\n",
       "    .dataframe tbody tr th {\n",
       "        vertical-align: top;\n",
       "    }\n",
       "\n",
       "    .dataframe thead th {\n",
       "        text-align: right;\n",
       "    }\n",
       "</style>\n",
       "<table border=\"1\" class=\"dataframe\">\n",
       "  <thead>\n",
       "    <tr style=\"text-align: right;\">\n",
       "      <th></th>\n",
       "      <th>sequence</th>\n",
       "      <th>charge</th>\n",
       "      <th>number_of_runs_targets_extracted</th>\n",
       "      <th>missing_files</th>\n",
       "    </tr>\n",
       "  </thead>\n",
       "  <tbody>\n",
       "    <tr>\n",
       "      <th>25904</th>\n",
       "      <td>TSPSPTGPNPNNSPSPSSPISR</td>\n",
       "      <td>2</td>\n",
       "      <td>4</td>\n",
       "      <td>17</td>\n",
       "    </tr>\n",
       "    <tr>\n",
       "      <th>29223</th>\n",
       "      <td>YFNPTGAHASGCIGEDPQGIPNNLMPYVSQVAIGR</td>\n",
       "      <td>3</td>\n",
       "      <td>21</td>\n",
       "      <td>0</td>\n",
       "    </tr>\n",
       "    <tr>\n",
       "      <th>14643</th>\n",
       "      <td>LESEEEGVPSTAIR</td>\n",
       "      <td>2</td>\n",
       "      <td>21</td>\n",
       "      <td>0</td>\n",
       "    </tr>\n",
       "    <tr>\n",
       "      <th>10238</th>\n",
       "      <td>GSGVYSLLNQEDSSTSSADPK</td>\n",
       "      <td>3</td>\n",
       "      <td>13</td>\n",
       "      <td>8</td>\n",
       "    </tr>\n",
       "    <tr>\n",
       "      <th>28309</th>\n",
       "      <td>VTSVGTGNFSSSVSK</td>\n",
       "      <td>2</td>\n",
       "      <td>9</td>\n",
       "      <td>12</td>\n",
       "    </tr>\n",
       "    <tr>\n",
       "      <th>3555</th>\n",
       "      <td>DGQVINETSQHHDDLE</td>\n",
       "      <td>2</td>\n",
       "      <td>20</td>\n",
       "      <td>1</td>\n",
       "    </tr>\n",
       "    <tr>\n",
       "      <th>1748</th>\n",
       "      <td>AQDPSEVLTMLTNETGFEISSSDATVK</td>\n",
       "      <td>2</td>\n",
       "      <td>21</td>\n",
       "      <td>0</td>\n",
       "    </tr>\n",
       "    <tr>\n",
       "      <th>19651</th>\n",
       "      <td>NVGSQTLQTFKAR</td>\n",
       "      <td>2</td>\n",
       "      <td>21</td>\n",
       "      <td>0</td>\n",
       "    </tr>\n",
       "    <tr>\n",
       "      <th>17183</th>\n",
       "      <td>LYFLQCETCHSR</td>\n",
       "      <td>3</td>\n",
       "      <td>18</td>\n",
       "      <td>3</td>\n",
       "    </tr>\n",
       "    <tr>\n",
       "      <th>14904</th>\n",
       "      <td>LGELPSWILMR</td>\n",
       "      <td>2</td>\n",
       "      <td>21</td>\n",
       "      <td>0</td>\n",
       "    </tr>\n",
       "  </tbody>\n",
       "</table>\n",
       "</div>"
      ],
      "text/plain": [
       "                                  sequence  charge  \\\n",
       "25904               TSPSPTGPNPNNSPSPSSPISR       2   \n",
       "29223  YFNPTGAHASGCIGEDPQGIPNNLMPYVSQVAIGR       3   \n",
       "14643                       LESEEEGVPSTAIR       2   \n",
       "10238                GSGVYSLLNQEDSSTSSADPK       3   \n",
       "28309                      VTSVGTGNFSSSVSK       2   \n",
       "3555                      DGQVINETSQHHDDLE       2   \n",
       "1748           AQDPSEVLTMLTNETGFEISSSDATVK       2   \n",
       "19651                        NVGSQTLQTFKAR       2   \n",
       "17183                         LYFLQCETCHSR       3   \n",
       "14904                          LGELPSWILMR       2   \n",
       "\n",
       "       number_of_runs_targets_extracted  missing_files  \n",
       "25904                                 4             17  \n",
       "29223                                21              0  \n",
       "14643                                21              0  \n",
       "10238                                13              8  \n",
       "28309                                 9             12  \n",
       "3555                                 20              1  \n",
       "1748                                 21              0  \n",
       "19651                                21              0  \n",
       "17183                                18              3  \n",
       "14904                                21              0  "
      ]
     },
     "execution_count": 15,
     "metadata": {},
     "output_type": "execute_result"
    }
   ],
   "source": [
    "yhe_sequence_occurences_df.sample(n=10)[['sequence','charge','number_of_runs_targets_extracted','missing_files']]"
   ]
  },
  {
   "cell_type": "code",
   "execution_count": 16,
   "metadata": {},
   "outputs": [
    {
     "data": {
      "text/html": [
       "<div>\n",
       "<style scoped>\n",
       "    .dataframe tbody tr th:only-of-type {\n",
       "        vertical-align: middle;\n",
       "    }\n",
       "\n",
       "    .dataframe tbody tr th {\n",
       "        vertical-align: top;\n",
       "    }\n",
       "\n",
       "    .dataframe thead th {\n",
       "        text-align: right;\n",
       "    }\n",
       "</style>\n",
       "<table border=\"1\" class=\"dataframe\">\n",
       "  <thead>\n",
       "    <tr style=\"text-align: right;\">\n",
       "      <th></th>\n",
       "      <th>sequence</th>\n",
       "      <th>charge</th>\n",
       "      <th>file_idx</th>\n",
       "      <th>classed_as</th>\n",
       "      <th>prob_target</th>\n",
       "    </tr>\n",
       "  </thead>\n",
       "  <tbody>\n",
       "    <tr>\n",
       "      <th>5852</th>\n",
       "      <td>EHHIDPTAITR</td>\n",
       "      <td>2</td>\n",
       "      <td>16</td>\n",
       "      <td>target</td>\n",
       "      <td>0.998782</td>\n",
       "    </tr>\n",
       "    <tr>\n",
       "      <th>35214</th>\n",
       "      <td>EHHIDPTAITR</td>\n",
       "      <td>2</td>\n",
       "      <td>28</td>\n",
       "      <td>target</td>\n",
       "      <td>0.998985</td>\n",
       "    </tr>\n",
       "    <tr>\n",
       "      <th>90264</th>\n",
       "      <td>EHHIDPTAITR</td>\n",
       "      <td>2</td>\n",
       "      <td>23</td>\n",
       "      <td>target</td>\n",
       "      <td>0.749908</td>\n",
       "    </tr>\n",
       "    <tr>\n",
       "      <th>144927</th>\n",
       "      <td>EHHIDPTAITR</td>\n",
       "      <td>2</td>\n",
       "      <td>15</td>\n",
       "      <td>target</td>\n",
       "      <td>0.999727</td>\n",
       "    </tr>\n",
       "    <tr>\n",
       "      <th>174500</th>\n",
       "      <td>EHHIDPTAITR</td>\n",
       "      <td>2</td>\n",
       "      <td>9</td>\n",
       "      <td>target</td>\n",
       "      <td>0.998874</td>\n",
       "    </tr>\n",
       "    <tr>\n",
       "      <th>204060</th>\n",
       "      <td>EHHIDPTAITR</td>\n",
       "      <td>2</td>\n",
       "      <td>25</td>\n",
       "      <td>target</td>\n",
       "      <td>0.946110</td>\n",
       "    </tr>\n",
       "    <tr>\n",
       "      <th>233557</th>\n",
       "      <td>EHHIDPTAITR</td>\n",
       "      <td>2</td>\n",
       "      <td>24</td>\n",
       "      <td>target</td>\n",
       "      <td>0.996008</td>\n",
       "    </tr>\n",
       "    <tr>\n",
       "      <th>289452</th>\n",
       "      <td>EHHIDPTAITR</td>\n",
       "      <td>2</td>\n",
       "      <td>27</td>\n",
       "      <td>target</td>\n",
       "      <td>0.999569</td>\n",
       "    </tr>\n",
       "    <tr>\n",
       "      <th>343170</th>\n",
       "      <td>EHHIDPTAITR</td>\n",
       "      <td>2</td>\n",
       "      <td>20</td>\n",
       "      <td>target</td>\n",
       "      <td>0.871875</td>\n",
       "    </tr>\n",
       "    <tr>\n",
       "      <th>371629</th>\n",
       "      <td>EHHIDPTAITR</td>\n",
       "      <td>2</td>\n",
       "      <td>29</td>\n",
       "      <td>target</td>\n",
       "      <td>0.932164</td>\n",
       "    </tr>\n",
       "    <tr>\n",
       "      <th>476902</th>\n",
       "      <td>EHHIDPTAITR</td>\n",
       "      <td>2</td>\n",
       "      <td>14</td>\n",
       "      <td>target</td>\n",
       "      <td>0.986815</td>\n",
       "    </tr>\n",
       "    <tr>\n",
       "      <th>505983</th>\n",
       "      <td>EHHIDPTAITR</td>\n",
       "      <td>2</td>\n",
       "      <td>18</td>\n",
       "      <td>target</td>\n",
       "      <td>0.985943</td>\n",
       "    </tr>\n",
       "    <tr>\n",
       "      <th>535324</th>\n",
       "      <td>EHHIDPTAITR</td>\n",
       "      <td>2</td>\n",
       "      <td>8</td>\n",
       "      <td>target</td>\n",
       "      <td>0.999747</td>\n",
       "    </tr>\n",
       "    <tr>\n",
       "      <th>588237</th>\n",
       "      <td>EHHIDPTAITR</td>\n",
       "      <td>2</td>\n",
       "      <td>10</td>\n",
       "      <td>target</td>\n",
       "      <td>0.986583</td>\n",
       "    </tr>\n",
       "    <tr>\n",
       "      <th>644352</th>\n",
       "      <td>EHHIDPTAITR</td>\n",
       "      <td>2</td>\n",
       "      <td>30</td>\n",
       "      <td>target</td>\n",
       "      <td>0.999551</td>\n",
       "    </tr>\n",
       "    <tr>\n",
       "      <th>673561</th>\n",
       "      <td>EHHIDPTAITR</td>\n",
       "      <td>2</td>\n",
       "      <td>26</td>\n",
       "      <td>target</td>\n",
       "      <td>0.997696</td>\n",
       "    </tr>\n",
       "    <tr>\n",
       "      <th>728731</th>\n",
       "      <td>EHHIDPTAITR</td>\n",
       "      <td>2</td>\n",
       "      <td>0</td>\n",
       "      <td>target</td>\n",
       "      <td>0.999304</td>\n",
       "    </tr>\n",
       "    <tr>\n",
       "      <th>758472</th>\n",
       "      <td>EHHIDPTAITR</td>\n",
       "      <td>2</td>\n",
       "      <td>11</td>\n",
       "      <td>target</td>\n",
       "      <td>0.999549</td>\n",
       "    </tr>\n",
       "    <tr>\n",
       "      <th>787814</th>\n",
       "      <td>EHHIDPTAITR</td>\n",
       "      <td>2</td>\n",
       "      <td>22</td>\n",
       "      <td>target</td>\n",
       "      <td>0.999604</td>\n",
       "    </tr>\n",
       "    <tr>\n",
       "      <th>817742</th>\n",
       "      <td>EHHIDPTAITR</td>\n",
       "      <td>2</td>\n",
       "      <td>21</td>\n",
       "      <td>target</td>\n",
       "      <td>0.989977</td>\n",
       "    </tr>\n",
       "    <tr>\n",
       "      <th>847045</th>\n",
       "      <td>EHHIDPTAITR</td>\n",
       "      <td>2</td>\n",
       "      <td>13</td>\n",
       "      <td>target</td>\n",
       "      <td>0.968480</td>\n",
       "    </tr>\n",
       "  </tbody>\n",
       "</table>\n",
       "</div>"
      ],
      "text/plain": [
       "           sequence  charge  file_idx classed_as  prob_target\n",
       "5852    EHHIDPTAITR       2        16     target     0.998782\n",
       "35214   EHHIDPTAITR       2        28     target     0.998985\n",
       "90264   EHHIDPTAITR       2        23     target     0.749908\n",
       "144927  EHHIDPTAITR       2        15     target     0.999727\n",
       "174500  EHHIDPTAITR       2         9     target     0.998874\n",
       "204060  EHHIDPTAITR       2        25     target     0.946110\n",
       "233557  EHHIDPTAITR       2        24     target     0.996008\n",
       "289452  EHHIDPTAITR       2        27     target     0.999569\n",
       "343170  EHHIDPTAITR       2        20     target     0.871875\n",
       "371629  EHHIDPTAITR       2        29     target     0.932164\n",
       "476902  EHHIDPTAITR       2        14     target     0.986815\n",
       "505983  EHHIDPTAITR       2        18     target     0.985943\n",
       "535324  EHHIDPTAITR       2         8     target     0.999747\n",
       "588237  EHHIDPTAITR       2        10     target     0.986583\n",
       "644352  EHHIDPTAITR       2        30     target     0.999551\n",
       "673561  EHHIDPTAITR       2        26     target     0.997696\n",
       "728731  EHHIDPTAITR       2         0     target     0.999304\n",
       "758472  EHHIDPTAITR       2        11     target     0.999549\n",
       "787814  EHHIDPTAITR       2        22     target     0.999604\n",
       "817742  EHHIDPTAITR       2        21     target     0.989977\n",
       "847045  EHHIDPTAITR       2        13     target     0.968480"
      ]
     },
     "execution_count": 16,
     "metadata": {},
     "output_type": "execute_result"
    }
   ],
   "source": [
    "df = yhe_only_df[(yhe_only_df.sequence == 'EHHIDPTAITR') & (yhe_only_df.charge == 2)][['sequence','charge','file_idx','classed_as','prob_target']]\n",
    "df"
   ]
  },
  {
   "cell_type": "code",
   "execution_count": 17,
   "metadata": {},
   "outputs": [
    {
     "data": {
      "text/plain": [
       "0.19080700123915736"
      ]
     },
     "execution_count": 17,
     "metadata": {},
     "output_type": "execute_result"
    }
   ],
   "source": [
    "len(yhe_only_df[yhe_only_df.classed_as == 'decoy']) / len(yhe_only_df[yhe_only_df.classed_as == 'target'])"
   ]
  },
  {
   "cell_type": "code",
   "execution_count": 18,
   "metadata": {},
   "outputs": [
    {
     "data": {
      "text/plain": [
       "31659"
      ]
     },
     "execution_count": 18,
     "metadata": {},
     "output_type": "execute_result"
    }
   ],
   "source": [
    "unique_sequences_yhe_df = yhe_only_df.drop_duplicates(subset=['sequence', 'charge'], keep='first', inplace=False)\n",
    "len(unique_sequences_yhe_df)"
   ]
  },
  {
   "cell_type": "code",
   "execution_count": 19,
   "metadata": {},
   "outputs": [
    {
     "data": {
      "text/plain": [
       "31905"
      ]
     },
     "execution_count": 19,
     "metadata": {},
     "output_type": "execute_result"
    }
   ],
   "source": [
    "unique_sequences_all_runs_df = sequences_df.drop_duplicates(subset=['sequence', 'charge'], keep='first', inplace=False)\n",
    "len(unique_sequences_all_runs_df)"
   ]
  },
  {
   "cell_type": "code",
   "execution_count": 20,
   "metadata": {},
   "outputs": [
    {
     "data": {
      "image/png": "[encoded data removed]",
      "text/plain": [
       "<Figure size 1080x576 with 1 Axes>"
      ]
     },
     "metadata": {
      "needs_background": "light"
     },
     "output_type": "display_data"
    }
   ],
   "source": [
    "f, ax1 = plt.subplots()\n",
    "f.set_figheight(8)\n",
    "f.set_figwidth(15)\n",
    "\n",
    "plt.margins(0.06)\n",
    "plt.suptitle('Distribution of sequence identifications in the Yeast / HeLa / E.coli runs for TFD_E')\n",
    "plt.title('total {} modified peptide sequences'.format(len(unique_sequences_yhe_df)))\n",
    "\n",
    "counts = np.bincount(yhe_sequence_occurences_df.number_of_runs_targets_extracted)\n",
    "ax1.bar(range(22), counts, width=0.8, align='center')\n",
    "plt.xlabel('number of files in which a modified sequence-charge was identified')\n",
    "plt.ylabel('frequency')\n",
    "ax1.set(xticks=range(1,22), xlim=[0, 22])\n",
    "# plt.ylim((0,20000))\n",
    "\n",
    "plt.show()"
   ]
  },
  {
   "cell_type": "markdown",
   "metadata": {},
   "source": [
    "#### now analyse the human-only runs"
   ]
  },
  {
   "cell_type": "code",
   "execution_count": 75,
   "metadata": {},
   "outputs": [],
   "source": [
    "human_only_df = sequences_df[(sequences_df.group == 'YHE010')].copy()\n",
    "human_only_targets_df = human_only_df[(human_only_df.classed_as == 'target')]"
   ]
  },
  {
   "cell_type": "code",
   "execution_count": 76,
   "metadata": {},
   "outputs": [],
   "source": [
    "# count how many runs each sequence/charge was extracted from\n",
    "sequence_occurences_l = []\n",
    "for group_name,group_df in human_only_targets_df.groupby(['sequence','charge'], as_index=False):\n",
    "    sequence_occurences_l.append((group_name, len(group_df.file_idx.unique()), group_name[0], group_name[1], group_df.iloc[0].human))\n",
    "human_sequence_occurences_df = pd.DataFrame(sequence_occurences_l, columns=['sequence_charge','number_of_runs_targets_extracted','sequence','charge','human'])\n"
   ]
  },
  {
   "cell_type": "code",
   "execution_count": 77,
   "metadata": {},
   "outputs": [
    {
     "name": "stdout",
     "output_type": "stream",
     "text": [
      "false positives: 11.7%\n"
     ]
    }
   ],
   "source": [
    "# proportion of false positives i.e. non-human peptides found in the human-only runs\n",
    "print('false positives: {}%'.format(round(len(human_sequence_occurences_df[(human_sequence_occurences_df.human == 0)]) / len(human_sequence_occurences_df) * 100.0, 1)))"
   ]
  },
  {
   "cell_type": "code",
   "execution_count": 78,
   "metadata": {},
   "outputs": [
    {
     "name": "stdout",
     "output_type": "stream",
     "text": [
      "there are 10 human-only runs in the experiment\n"
     ]
    }
   ],
   "source": [
    "number_of_human_runs_in_experiment = len(human_only_df.file_idx.unique())\n",
    "print('there are {} human-only runs in the experiment'.format(number_of_human_runs_in_experiment))"
   ]
  },
  {
   "cell_type": "code",
   "execution_count": 79,
   "metadata": {},
   "outputs": [
    {
     "name": "stdout",
     "output_type": "stream",
     "text": [
      "23.0% of values are missing in the human-only runs.\n"
     ]
    }
   ],
   "source": [
    "# display the number of missing values across the experiment\n",
    "human_sequence_occurences_df['missing_files'] = number_of_human_runs_in_experiment - human_sequence_occurences_df.number_of_runs_targets_extracted\n",
    "proportion_of_missing_values = human_sequence_occurences_df.missing_files.sum() / (len(human_sequence_occurences_df) * number_of_human_runs_in_experiment)\n",
    "print(\"{}% of values are missing in the human-only runs.\".format(round(proportion_of_missing_values*100)))"
   ]
  },
  {
   "cell_type": "code",
   "execution_count": 80,
   "metadata": {},
   "outputs": [
    {
     "data": {
      "text/html": [
       "<div>\n",
       "<style scoped>\n",
       "    .dataframe tbody tr th:only-of-type {\n",
       "        vertical-align: middle;\n",
       "    }\n",
       "\n",
       "    .dataframe tbody tr th {\n",
       "        vertical-align: top;\n",
       "    }\n",
       "\n",
       "    .dataframe thead th {\n",
       "        text-align: right;\n",
       "    }\n",
       "</style>\n",
       "<table border=\"1\" class=\"dataframe\">\n",
       "  <thead>\n",
       "    <tr style=\"text-align: right;\">\n",
       "      <th></th>\n",
       "      <th>sequence</th>\n",
       "      <th>charge</th>\n",
       "      <th>number_of_runs_targets_extracted</th>\n",
       "      <th>missing_files</th>\n",
       "    </tr>\n",
       "  </thead>\n",
       "  <tbody>\n",
       "    <tr>\n",
       "      <th>19172</th>\n",
       "      <td>SEVFSTYADNQPGVLIQVFEGER</td>\n",
       "      <td>3</td>\n",
       "      <td>2</td>\n",
       "      <td>8</td>\n",
       "    </tr>\n",
       "    <tr>\n",
       "      <th>7666</th>\n",
       "      <td>GEDTGTCQGLPDSESSFTYTLDEK</td>\n",
       "      <td>2</td>\n",
       "      <td>10</td>\n",
       "      <td>0</td>\n",
       "    </tr>\n",
       "    <tr>\n",
       "      <th>15371</th>\n",
       "      <td>MYDLNSNNPNPIISYDGVNK</td>\n",
       "      <td>2</td>\n",
       "      <td>10</td>\n",
       "      <td>0</td>\n",
       "    </tr>\n",
       "    <tr>\n",
       "      <th>22346</th>\n",
       "      <td>VAELVEFLLLK</td>\n",
       "      <td>2</td>\n",
       "      <td>10</td>\n",
       "      <td>0</td>\n",
       "    </tr>\n",
       "    <tr>\n",
       "      <th>14837</th>\n",
       "      <td>MGELASESQGSK</td>\n",
       "      <td>2</td>\n",
       "      <td>9</td>\n",
       "      <td>1</td>\n",
       "    </tr>\n",
       "    <tr>\n",
       "      <th>19497</th>\n",
       "      <td>SINPDEAVAYGAAVQAAILM[15.9949]GDK</td>\n",
       "      <td>2</td>\n",
       "      <td>10</td>\n",
       "      <td>0</td>\n",
       "    </tr>\n",
       "    <tr>\n",
       "      <th>10558</th>\n",
       "      <td>IISNASCTTNCLAPLAK</td>\n",
       "      <td>2</td>\n",
       "      <td>10</td>\n",
       "      <td>0</td>\n",
       "    </tr>\n",
       "    <tr>\n",
       "      <th>11482</th>\n",
       "      <td>IYYSEETSSDQGNEDEEEPK</td>\n",
       "      <td>2</td>\n",
       "      <td>1</td>\n",
       "      <td>9</td>\n",
       "    </tr>\n",
       "    <tr>\n",
       "      <th>17824</th>\n",
       "      <td>Q[-17.0265]EKPAEKPAETPVATSPTATDSTSGDSSR</td>\n",
       "      <td>2</td>\n",
       "      <td>3</td>\n",
       "      <td>7</td>\n",
       "    </tr>\n",
       "    <tr>\n",
       "      <th>22674</th>\n",
       "      <td>VEGEFPTEEVTCK</td>\n",
       "      <td>2</td>\n",
       "      <td>10</td>\n",
       "      <td>0</td>\n",
       "    </tr>\n",
       "  </tbody>\n",
       "</table>\n",
       "</div>"
      ],
      "text/plain": [
       "                                      sequence  charge  \\\n",
       "19172                  SEVFSTYADNQPGVLIQVFEGER       3   \n",
       "7666                  GEDTGTCQGLPDSESSFTYTLDEK       2   \n",
       "15371                     MYDLNSNNPNPIISYDGVNK       2   \n",
       "22346                              VAELVEFLLLK       2   \n",
       "14837                             MGELASESQGSK       2   \n",
       "19497         SINPDEAVAYGAAVQAAILM[15.9949]GDK       2   \n",
       "10558                        IISNASCTTNCLAPLAK       2   \n",
       "11482                     IYYSEETSSDQGNEDEEEPK       2   \n",
       "17824  Q[-17.0265]EKPAEKPAETPVATSPTATDSTSGDSSR       2   \n",
       "22674                            VEGEFPTEEVTCK       2   \n",
       "\n",
       "       number_of_runs_targets_extracted  missing_files  \n",
       "19172                                 2              8  \n",
       "7666                                 10              0  \n",
       "15371                                10              0  \n",
       "22346                                10              0  \n",
       "14837                                 9              1  \n",
       "19497                                10              0  \n",
       "10558                                10              0  \n",
       "11482                                 1              9  \n",
       "17824                                 3              7  \n",
       "22674                                10              0  "
      ]
     },
     "execution_count": 80,
     "metadata": {},
     "output_type": "execute_result"
    }
   ],
   "source": [
    "human_sequence_occurences_df.sample(n=10)[['sequence','charge','number_of_runs_targets_extracted','missing_files']]"
   ]
  },
  {
   "cell_type": "code",
   "execution_count": 81,
   "metadata": {},
   "outputs": [
    {
     "data": {
      "text/html": [
       "<div>\n",
       "<style scoped>\n",
       "    .dataframe tbody tr th:only-of-type {\n",
       "        vertical-align: middle;\n",
       "    }\n",
       "\n",
       "    .dataframe tbody tr th {\n",
       "        vertical-align: top;\n",
       "    }\n",
       "\n",
       "    .dataframe thead th {\n",
       "        text-align: right;\n",
       "    }\n",
       "</style>\n",
       "<table border=\"1\" class=\"dataframe\">\n",
       "  <thead>\n",
       "    <tr style=\"text-align: right;\">\n",
       "      <th></th>\n",
       "      <th>sequence</th>\n",
       "      <th>charge</th>\n",
       "      <th>file_idx</th>\n",
       "      <th>classed_as</th>\n",
       "      <th>prob_target</th>\n",
       "    </tr>\n",
       "  </thead>\n",
       "  <tbody>\n",
       "    <tr>\n",
       "      <th>60106</th>\n",
       "      <td>APVAIGVAAMSTAEMLTSGLK</td>\n",
       "      <td>2</td>\n",
       "      <td>4</td>\n",
       "      <td>target</td>\n",
       "      <td>0.999214</td>\n",
       "    </tr>\n",
       "    <tr>\n",
       "      <th>115175</th>\n",
       "      <td>APVAIGVAAMSTAEMLTSGLK</td>\n",
       "      <td>2</td>\n",
       "      <td>17</td>\n",
       "      <td>target</td>\n",
       "      <td>0.999445</td>\n",
       "    </tr>\n",
       "    <tr>\n",
       "      <th>258615</th>\n",
       "      <td>APVAIGVAAMSTAEMLTSGLK</td>\n",
       "      <td>2</td>\n",
       "      <td>1</td>\n",
       "      <td>target</td>\n",
       "      <td>0.957707</td>\n",
       "    </tr>\n",
       "    <tr>\n",
       "      <th>314473</th>\n",
       "      <td>APVAIGVAAMSTAEMLTSGLK</td>\n",
       "      <td>2</td>\n",
       "      <td>6</td>\n",
       "      <td>target</td>\n",
       "      <td>0.989224</td>\n",
       "    </tr>\n",
       "    <tr>\n",
       "      <th>394816</th>\n",
       "      <td>APVAIGVAAMSTAEMLTSGLK</td>\n",
       "      <td>2</td>\n",
       "      <td>12</td>\n",
       "      <td>target</td>\n",
       "      <td>0.980972</td>\n",
       "    </tr>\n",
       "    <tr>\n",
       "      <th>421445</th>\n",
       "      <td>APVAIGVAAMSTAEMLTSGLK</td>\n",
       "      <td>2</td>\n",
       "      <td>3</td>\n",
       "      <td>target</td>\n",
       "      <td>0.951320</td>\n",
       "    </tr>\n",
       "    <tr>\n",
       "      <th>447007</th>\n",
       "      <td>APVAIGVAAMSTAEMLTSGLK</td>\n",
       "      <td>2</td>\n",
       "      <td>2</td>\n",
       "      <td>decoy</td>\n",
       "      <td>0.476260</td>\n",
       "    </tr>\n",
       "    <tr>\n",
       "      <th>560275</th>\n",
       "      <td>APVAIGVAAMSTAEMLTSGLK</td>\n",
       "      <td>2</td>\n",
       "      <td>5</td>\n",
       "      <td>target</td>\n",
       "      <td>0.981317</td>\n",
       "    </tr>\n",
       "    <tr>\n",
       "      <th>613658</th>\n",
       "      <td>APVAIGVAAMSTAEMLTSGLK</td>\n",
       "      <td>2</td>\n",
       "      <td>19</td>\n",
       "      <td>target</td>\n",
       "      <td>0.999955</td>\n",
       "    </tr>\n",
       "    <tr>\n",
       "      <th>698555</th>\n",
       "      <td>APVAIGVAAMSTAEMLTSGLK</td>\n",
       "      <td>2</td>\n",
       "      <td>7</td>\n",
       "      <td>target</td>\n",
       "      <td>0.991500</td>\n",
       "    </tr>\n",
       "  </tbody>\n",
       "</table>\n",
       "</div>"
      ],
      "text/plain": [
       "                     sequence  charge  file_idx classed_as  prob_target\n",
       "60106   APVAIGVAAMSTAEMLTSGLK       2         4     target     0.999214\n",
       "115175  APVAIGVAAMSTAEMLTSGLK       2        17     target     0.999445\n",
       "258615  APVAIGVAAMSTAEMLTSGLK       2         1     target     0.957707\n",
       "314473  APVAIGVAAMSTAEMLTSGLK       2         6     target     0.989224\n",
       "394816  APVAIGVAAMSTAEMLTSGLK       2        12     target     0.980972\n",
       "421445  APVAIGVAAMSTAEMLTSGLK       2         3     target     0.951320\n",
       "447007  APVAIGVAAMSTAEMLTSGLK       2         2      decoy     0.476260\n",
       "560275  APVAIGVAAMSTAEMLTSGLK       2         5     target     0.981317\n",
       "613658  APVAIGVAAMSTAEMLTSGLK       2        19     target     0.999955\n",
       "698555  APVAIGVAAMSTAEMLTSGLK       2         7     target     0.991500"
      ]
     },
     "execution_count": 81,
     "metadata": {},
     "output_type": "execute_result"
    }
   ],
   "source": [
    "df = human_only_df[(human_only_df.sequence == 'APVAIGVAAMSTAEMLTSGLK') & (human_only_df.charge == 2)][['sequence','charge','file_idx','classed_as','prob_target']]\n",
    "df"
   ]
  },
  {
   "cell_type": "code",
   "execution_count": 82,
   "metadata": {},
   "outputs": [
    {
     "data": {
      "text/plain": [
       "10"
      ]
     },
     "execution_count": 82,
     "metadata": {},
     "output_type": "execute_result"
    }
   ],
   "source": [
    "len(df)"
   ]
  },
  {
   "cell_type": "code",
   "execution_count": 83,
   "metadata": {},
   "outputs": [
    {
     "data": {
      "text/plain": [
       "28814"
      ]
     },
     "execution_count": 83,
     "metadata": {},
     "output_type": "execute_result"
    }
   ],
   "source": [
    "unique_sequences_human_only_df = human_only_df.drop_duplicates(subset=['sequence', 'charge'], keep='first', inplace=False)\n",
    "len(unique_sequences_human_only_df)"
   ]
  },
  {
   "cell_type": "code",
   "execution_count": 84,
   "metadata": {},
   "outputs": [
    {
     "data": {
      "image/png": "[encoded data removed]",
      "text/plain": [
       "<Figure size 1080x576 with 1 Axes>"
      ]
     },
     "metadata": {
      "needs_background": "light"
     },
     "output_type": "display_data"
    }
   ],
   "source": [
    "f, ax1 = plt.subplots()\n",
    "f.set_figheight(8)\n",
    "f.set_figwidth(15)\n",
    "\n",
    "plt.margins(0.06)\n",
    "plt.suptitle('Distribution of sequence identifications in the HeLa-only runs for TFD_E')\n",
    "plt.title('total {} modified peptide sequences'.format(len(unique_sequences_human_only_df)))\n",
    "\n",
    "counts = np.bincount(human_sequence_occurences_df.number_of_runs_targets_extracted)\n",
    "ax1.bar(range(11), counts, width=0.8, align='center')\n",
    "plt.xlabel('number of files in which a modified sequence-charge was identified')\n",
    "plt.ylabel('frequency')\n",
    "ax1.set(xticks=range(1,11), xlim=[0, 11])\n",
    "# plt.ylim((0,20000))\n",
    "\n",
    "plt.show()"
   ]
  },
  {
   "cell_type": "code",
   "execution_count": 85,
   "metadata": {},
   "outputs": [
    {
     "data": {
      "image/png": "[encoded data removed]",
      "text/plain": [
       "<Figure size 1080x576 with 1 Axes>"
      ]
     },
     "metadata": {
      "needs_background": "light"
     },
     "output_type": "display_data"
    }
   ],
   "source": [
    "f, ax1 = plt.subplots()\n",
    "f.set_figheight(8)\n",
    "f.set_figwidth(15)\n",
    "\n",
    "plt.margins(0.06)\n",
    "plt.suptitle('Distribution of sequence identifications in the HeLa-only runs for TFD_E')\n",
    "plt.title('total {} modified peptide sequences'.format(len(unique_sequences_human_only_df)))\n",
    "\n",
    "counts_human = np.bincount(human_sequence_occurences_df[human_sequence_occurences_df.human == True].number_of_runs_targets_extracted)\n",
    "counts_other = np.bincount(human_sequence_occurences_df[human_sequence_occurences_df.human == False].number_of_runs_targets_extracted)\n",
    "\n",
    "ax1.bar(range(11), counts_human, bottom=counts_other, width=0.8, align='center')\n",
    "ax1.bar(range(11), counts_other, width=0.8, align='center')\n",
    "\n",
    "plt.xlabel('number of files in which a modified sequence-charge was identified')\n",
    "plt.ylabel('frequency')\n",
    "ax1.set(xticks=range(1,11), xlim=[0, 11])\n",
    "# plt.ylim((0,20000))\n",
    "\n",
    "plt.show()"
   ]
  },
  {
   "cell_type": "code",
   "execution_count": 86,
   "metadata": {},
   "outputs": [
    {
     "data": {
      "image/png": "[encoded data removed]",
      "text/plain": [
       "<Figure size 1080x576 with 1 Axes>"
      ]
     },
     "metadata": {
      "needs_background": "light"
     },
     "output_type": "display_data"
    }
   ],
   "source": [
    "f, ax1 = plt.subplots()\n",
    "f.set_figheight(8)\n",
    "f.set_figwidth(15)\n",
    "\n",
    "plt.margins(0.06)\n",
    "plt.title('')\n",
    "\n",
    "bins = 100\n",
    "values_targets_human = human_only_df[(human_only_df.classed_as == 'target') & (human_only_df.human == True)].prob_target\n",
    "values_targets_other = human_only_df[(human_only_df.classed_as == 'target') & (human_only_df.human == False)].prob_target\n",
    "values_decoys = human_only_df[human_only_df.classed_as == 'decoy'].prob_target\n",
    "\n",
    "y, x, _ = ax1.hist(values_targets_human, bins=bins)\n",
    "y, x, _ = ax1.hist(values_targets_other, bins=bins)\n",
    "y, x, _ = ax1.hist(values_decoys, bins=bins)\n",
    "# mean = np.mean(values)\n",
    "# ax1.axvline(mean, color='darkorange', lw=1.0, ls='-.', label='mean')\n",
    "# text_style = dict(size=10, color='brown', verticalalignment='center', horizontalalignment='left')\n",
    "# ax1.text(mean*0.85, y.max()*0.98, \"mean {}\".format(round(mean,2)), **text_style, rotation='vertical')\n",
    "\n",
    "plt.xlabel('target probability')\n",
    "plt.ylabel('count')\n",
    "# plt.title('pre-normalisation sequence intensity coefficient of variance across 1to1 runs, k={}\\n({} unique sequences appearing in all runs)'.format(number_of_neighbours, len(sequence_cv_df)))\n",
    "# plt.xlim((0,120))\n",
    "plt.ylim((0,10000))\n",
    "\n",
    "plt.show()"
   ]
  },
  {
   "cell_type": "code",
   "execution_count": 87,
   "metadata": {},
   "outputs": [
    {
     "data": {
      "image/png": "[encoded data removed]",
      "text/plain": [
       "<Figure size 1080x576 with 1 Axes>"
      ]
     },
     "metadata": {
      "needs_background": "light"
     },
     "output_type": "display_data"
    }
   ],
   "source": [
    "f, ax1 = plt.subplots()\n",
    "f.set_figheight(8)\n",
    "f.set_figwidth(15)\n",
    "\n",
    "plt.margins(0.06)\n",
    "plt.title('')\n",
    "\n",
    "bins = 300\n",
    "mz_delta_human = human_only_df[(human_only_df.classed_as == 'target') & (human_only_df.human == True)].delta_mz_ppm\n",
    "mz_delta_other = human_only_df[(human_only_df.classed_as == 'target') & (human_only_df.human == False)].delta_mz_ppm\n",
    "\n",
    "y, x, _ = ax1.hist(mz_delta_human, bins=bins, label='human')\n",
    "y, x, _ = ax1.hist(mz_delta_other, bins=bins, label='other')\n",
    "# mean = np.mean(values)\n",
    "# ax1.axvline(mean, color='darkorange', lw=1.0, ls='-.', label='mean')\n",
    "# text_style = dict(size=10, color='brown', verticalalignment='center', horizontalalignment='left')\n",
    "# ax1.text(mean*0.85, y.max()*0.98, \"mean {}\".format(round(mean,2)), **text_style, rotation='vertical')\n",
    "\n",
    "plt.xlabel('delta m/z ppm')\n",
    "plt.ylabel('count')\n",
    "plt.title('delta between estimated and extracted m/z as a proportion of the estimated m/z coordinate')\n",
    "plt.legend(loc='best')\n",
    "# plt.xlim((0,120))\n",
    "# plt.ylim((0,10000))\n",
    "\n",
    "plt.show()"
   ]
  },
  {
   "cell_type": "code",
   "execution_count": 88,
   "metadata": {},
   "outputs": [
    {
     "data": {
      "image/png": "[encoded data removed]",
      "text/plain": [
       "<Figure size 1080x576 with 1 Axes>"
      ]
     },
     "metadata": {
      "needs_background": "light"
     },
     "output_type": "display_data"
    }
   ],
   "source": [
    "f, ax1 = plt.subplots()\n",
    "f.set_figheight(8)\n",
    "f.set_figwidth(15)\n",
    "\n",
    "plt.margins(0.06)\n",
    "plt.title('')\n",
    "\n",
    "bins = 300\n",
    "rt_delta_human = human_only_df[(human_only_df.classed_as == 'target') & (human_only_df.human == True)].delta_rt\n",
    "rt_delta_other = human_only_df[(human_only_df.classed_as == 'target') & (human_only_df.human == False)].delta_rt\n",
    "\n",
    "y, x, _ = ax1.hist(rt_delta_human, bins=bins, label='human')\n",
    "y, x, _ = ax1.hist(rt_delta_other, bins=bins, label='other')\n",
    "# mean = np.mean(values)\n",
    "# ax1.axvline(mean, color='darkorange', lw=1.0, ls='-.', label='mean')\n",
    "# text_style = dict(size=10, color='brown', verticalalignment='center', horizontalalignment='left')\n",
    "# ax1.text(mean*0.85, y.max()*0.98, \"mean {}\".format(round(mean,2)), **text_style, rotation='vertical')\n",
    "\n",
    "plt.xlabel('delta RT')\n",
    "plt.ylabel('count')\n",
    "plt.title('delta between estimated and extracted RT as a proportion of the estimated RT coordinate')\n",
    "plt.legend(loc='best')\n",
    "# plt.xlim((0,120))\n",
    "plt.ylim((0,3000))\n",
    "\n",
    "plt.show()"
   ]
  },
  {
   "cell_type": "code",
   "execution_count": 89,
   "metadata": {},
   "outputs": [
    {
     "data": {
      "image/png": "[encoded data removed]",
      "text/plain": [
       "<Figure size 1080x576 with 1 Axes>"
      ]
     },
     "metadata": {
      "needs_background": "light"
     },
     "output_type": "display_data"
    }
   ],
   "source": [
    "f, ax1 = plt.subplots()\n",
    "f.set_figheight(8)\n",
    "f.set_figwidth(15)\n",
    "\n",
    "plt.margins(0.06)\n",
    "plt.title('')\n",
    "\n",
    "bins = 300\n",
    "scan_delta_human = human_only_df[(human_only_df.classed_as == 'target') & (human_only_df.human == True)].delta_scan\n",
    "scan_delta_other = human_only_df[(human_only_df.classed_as == 'target') & (human_only_df.human == False)].delta_scan\n",
    "\n",
    "y, x, _ = ax1.hist(scan_delta_human, bins=bins, label='human')\n",
    "y, x, _ = ax1.hist(scan_delta_other, bins=bins, label='other')\n",
    "# mean = np.mean(values)\n",
    "# ax1.axvline(mean, color='darkorange', lw=1.0, ls='-.', label='mean')\n",
    "# text_style = dict(size=10, color='brown', verticalalignment='center', horizontalalignment='left')\n",
    "# ax1.text(mean*0.85, y.max()*0.98, \"mean {}\".format(round(mean,2)), **text_style, rotation='vertical')\n",
    "\n",
    "plt.xlabel('delta CCS')\n",
    "plt.ylabel('count')\n",
    "plt.title('delta between estimated and extracted CCS as a proportion of the estimated CCS coordinate')\n",
    "plt.legend(loc='best')\n",
    "# plt.xlim((0,120))\n",
    "plt.ylim((0,2000))\n",
    "\n",
    "plt.show()"
   ]
  },
  {
   "cell_type": "code",
   "execution_count": 90,
   "metadata": {},
   "outputs": [
    {
     "data": {
      "text/plain": [
       "13689"
      ]
     },
     "execution_count": 90,
     "metadata": {},
     "output_type": "execute_result"
    }
   ],
   "source": [
    "df = human_only_df[(human_only_df.classed_as == 'target') & (human_only_df.human == False) & (abs(human_only_df.delta_scan <= 0.1)) & (abs(human_only_df.delta_rt <= 0.05)) & (abs(human_only_df.delta_mz_ppm <= 1))]\n",
    "\n",
    "len(df)"
   ]
  },
  {
   "cell_type": "code",
   "execution_count": 91,
   "metadata": {},
   "outputs": [
    {
     "data": {
      "text/plain": [
       "2796"
      ]
     },
     "execution_count": 91,
     "metadata": {},
     "output_type": "execute_result"
    }
   ],
   "source": [
    "len(df.drop_duplicates(subset=['sequence', 'charge'], keep='first', inplace=False))"
   ]
  },
  {
   "cell_type": "code",
   "execution_count": 92,
   "metadata": {},
   "outputs": [],
   "source": [
    "human_only_df['sequence_charge'] = human_only_df.apply(lambda row: '{}-{}'.format(row.sequence, row.charge), axis=1)"
   ]
  },
  {
   "cell_type": "code",
   "execution_count": 95,
   "metadata": {},
   "outputs": [],
   "source": [
    "human_only_df.target_coords = human_only_df.apply(lambda row: json.loads(row.target_coords), axis=1)"
   ]
  },
  {
   "cell_type": "code",
   "execution_count": 98,
   "metadata": {},
   "outputs": [],
   "source": [
    "human_only_df['estimated_rt_apex'] = human_only_df.apply(lambda row: row.target_coords['rt_apex'], axis=1)\n",
    "human_only_df['estimated_scan_apex'] = human_only_df.apply(lambda row: row.target_coords['scan_apex'], axis=1)\n",
    "human_only_df['estimated_monoisotopic_mz'] = human_only_df.apply(lambda row: row.target_coords['mono_mz'], axis=1)"
   ]
  },
  {
   "cell_type": "code",
   "execution_count": 99,
   "metadata": {},
   "outputs": [],
   "source": [
    "human_only_df['absolute_delta_rt'] = human_only_df.delta_rt * human_only_df.estimated_rt_apex\n",
    "human_only_df['absolute_delta_scan'] = human_only_df.delta_scan * human_only_df.estimated_scan_apex"
   ]
  },
  {
   "cell_type": "code",
   "execution_count": 100,
   "metadata": {},
   "outputs": [],
   "source": [
    "non_human_df = human_only_df[(human_only_df.classed_as == 'target') & (human_only_df.human == False)]\n",
    "human_df = human_only_df[(human_only_df.classed_as == 'target') & (human_only_df.human == True)]"
   ]
  },
  {
   "cell_type": "code",
   "execution_count": 40,
   "metadata": {},
   "outputs": [
    {
     "data": {
      "text/plain": [
       "17532"
      ]
     },
     "execution_count": 40,
     "metadata": {},
     "output_type": "execute_result"
    }
   ],
   "source": [
    "len(non_human_df)"
   ]
  },
  {
   "cell_type": "code",
   "execution_count": 41,
   "metadata": {},
   "outputs": [
    {
     "data": {
      "text/plain": [
       "178935"
      ]
     },
     "execution_count": 41,
     "metadata": {},
     "output_type": "execute_result"
    }
   ],
   "source": [
    "len(human_df)"
   ]
  },
  {
   "cell_type": "code",
   "execution_count": 42,
   "metadata": {},
   "outputs": [
    {
     "data": {
      "text/html": [
       "<div>\n",
       "<style scoped>\n",
       "    .dataframe tbody tr th:only-of-type {\n",
       "        vertical-align: middle;\n",
       "    }\n",
       "\n",
       "    .dataframe tbody tr th {\n",
       "        vertical-align: top;\n",
       "    }\n",
       "\n",
       "    .dataframe thead th {\n",
       "        text-align: right;\n",
       "    }\n",
       "</style>\n",
       "<table border=\"1\" class=\"dataframe\">\n",
       "  <thead>\n",
       "    <tr style=\"text-align: right;\">\n",
       "      <th></th>\n",
       "      <th>sequence</th>\n",
       "      <th>charge</th>\n",
       "      <th>file_idx</th>\n",
       "      <th>peak_idx</th>\n",
       "      <th>target_coords</th>\n",
       "      <th>theoretical_mz</th>\n",
       "      <th>q_value</th>\n",
       "      <th>delta_mz_ppm</th>\n",
       "      <th>delta_rt</th>\n",
       "      <th>delta_scan</th>\n",
       "      <th>...</th>\n",
       "      <th>number_of_isotopes</th>\n",
       "      <th>peak_proportion_intensity</th>\n",
       "      <th>peak_proportions</th>\n",
       "      <th>rt_apex</th>\n",
       "      <th>scan_apex</th>\n",
       "      <th>run_name</th>\n",
       "      <th>group</th>\n",
       "      <th>human</th>\n",
       "      <th>number_of_runs_extracted</th>\n",
       "      <th>sequence_charge</th>\n",
       "    </tr>\n",
       "  </thead>\n",
       "  <tbody>\n",
       "    <tr>\n",
       "      <th>64118</th>\n",
       "      <td>ELPGVAFLSEK</td>\n",
       "      <td>2</td>\n",
       "      <td>4</td>\n",
       "      <td>0</td>\n",
       "      <td>{\"mono_mz\": 595.3253646334565, \"scan_apex\": 71...</td>\n",
       "      <td>595.326776</td>\n",
       "      <td>0.000073</td>\n",
       "      <td>-0.248005</td>\n",
       "      <td>0.000345</td>\n",
       "      <td>-0.030720</td>\n",
       "      <td>...</td>\n",
       "      <td>7</td>\n",
       "      <td>1000</td>\n",
       "      <td>{\"ccs_proportion\": 0.1, \"rt_proportion\": 0.8}</td>\n",
       "      <td>1913.661837</td>\n",
       "      <td>694</td>\n",
       "      <td>YHE010_09_Slot1-1_1_2994</td>\n",
       "      <td>YHE010</td>\n",
       "      <td>0</td>\n",
       "      <td>31</td>\n",
       "      <td>ELPGVAFLSEK-2</td>\n",
       "    </tr>\n",
       "    <tr>\n",
       "      <th>263184</th>\n",
       "      <td>EQVM[15.9949]VAVQSLNPDHDSRVEAIDK</td>\n",
       "      <td>2</td>\n",
       "      <td>1</td>\n",
       "      <td>0</td>\n",
       "      <td>{\"mono_mz\": 1298.6390390016372, \"scan_apex\": 2...</td>\n",
       "      <td>1298.637176</td>\n",
       "      <td>0.000581</td>\n",
       "      <td>-0.024861</td>\n",
       "      <td>0.000357</td>\n",
       "      <td>0.005140</td>\n",
       "      <td>...</td>\n",
       "      <td>6</td>\n",
       "      <td>613</td>\n",
       "      <td>{\"ccs_proportion\": 0.1, \"rt_proportion\": 0.8}</td>\n",
       "      <td>1780.849098</td>\n",
       "      <td>300</td>\n",
       "      <td>YHE010_05_Slot1-1_1_2990</td>\n",
       "      <td>YHE010</td>\n",
       "      <td>0</td>\n",
       "      <td>12</td>\n",
       "      <td>EQVM[15.9949]VAVQSLNPDHDSRVEAIDK-2</td>\n",
       "    </tr>\n",
       "    <tr>\n",
       "      <th>713451</th>\n",
       "      <td>NNLPVYVNQVHEVCK</td>\n",
       "      <td>2</td>\n",
       "      <td>7</td>\n",
       "      <td>0</td>\n",
       "      <td>{\"mono_mz\": 906.956974830647, \"scan_apex\": 483...</td>\n",
       "      <td>906.956708</td>\n",
       "      <td>0.000034</td>\n",
       "      <td>0.041313</td>\n",
       "      <td>0.001380</td>\n",
       "      <td>-0.025652</td>\n",
       "      <td>...</td>\n",
       "      <td>7</td>\n",
       "      <td>2639</td>\n",
       "      <td>{\"ccs_proportion\": 0.1, \"rt_proportion\": 0.8}</td>\n",
       "      <td>1638.205926</td>\n",
       "      <td>471</td>\n",
       "      <td>YHE010_10_Slot1-1_1_2995</td>\n",
       "      <td>YHE010</td>\n",
       "      <td>0</td>\n",
       "      <td>31</td>\n",
       "      <td>NNLPVYVNQVHEVCK-2</td>\n",
       "    </tr>\n",
       "    <tr>\n",
       "      <th>620634</th>\n",
       "      <td>GILNQIDNLPFLTK</td>\n",
       "      <td>2</td>\n",
       "      <td>19</td>\n",
       "      <td>0</td>\n",
       "      <td>{\"mono_mz\": 793.450763975388, \"scan_apex\": 567...</td>\n",
       "      <td>793.451026</td>\n",
       "      <td>0.000004</td>\n",
       "      <td>-0.560563</td>\n",
       "      <td>0.001555</td>\n",
       "      <td>0.017253</td>\n",
       "      <td>...</td>\n",
       "      <td>7</td>\n",
       "      <td>2796</td>\n",
       "      <td>{\"ccs_proportion\": 0.1, \"rt_proportion\": 0.8}</td>\n",
       "      <td>2132.084451</td>\n",
       "      <td>577</td>\n",
       "      <td>YHE010_04_Slot1-1_1_2989</td>\n",
       "      <td>YHE010</td>\n",
       "      <td>0</td>\n",
       "      <td>31</td>\n",
       "      <td>GILNQIDNLPFLTK-2</td>\n",
       "    </tr>\n",
       "    <tr>\n",
       "      <th>315953</th>\n",
       "      <td>DGPLSTNVEAK</td>\n",
       "      <td>2</td>\n",
       "      <td>6</td>\n",
       "      <td>1</td>\n",
       "      <td>{\"mono_mz\": 565.7880048432718, \"scan_apex\": 73...</td>\n",
       "      <td>565.788026</td>\n",
       "      <td>0.000004</td>\n",
       "      <td>0.082530</td>\n",
       "      <td>0.043665</td>\n",
       "      <td>0.009195</td>\n",
       "      <td>...</td>\n",
       "      <td>7</td>\n",
       "      <td>12085</td>\n",
       "      <td>{\"ccs_proportion\": 0.1, \"rt_proportion\": 0.8}</td>\n",
       "      <td>1643.958173</td>\n",
       "      <td>741</td>\n",
       "      <td>YHE010_11_Slot1-1_1_3041</td>\n",
       "      <td>YHE010</td>\n",
       "      <td>0</td>\n",
       "      <td>31</td>\n",
       "      <td>DGPLSTNVEAK-2</td>\n",
       "    </tr>\n",
       "  </tbody>\n",
       "</table>\n",
       "<p>5 rows × 72 columns</p>\n",
       "</div>"
      ],
      "text/plain": [
       "                                sequence  charge  file_idx  peak_idx  \\\n",
       "64118                        ELPGVAFLSEK       2         4         0   \n",
       "263184  EQVM[15.9949]VAVQSLNPDHDSRVEAIDK       2         1         0   \n",
       "713451                   NNLPVYVNQVHEVCK       2         7         0   \n",
       "620634                    GILNQIDNLPFLTK       2        19         0   \n",
       "315953                       DGPLSTNVEAK       2         6         1   \n",
       "\n",
       "                                            target_coords  theoretical_mz  \\\n",
       "64118   {\"mono_mz\": 595.3253646334565, \"scan_apex\": 71...      595.326776   \n",
       "263184  {\"mono_mz\": 1298.6390390016372, \"scan_apex\": 2...     1298.637176   \n",
       "713451  {\"mono_mz\": 906.956974830647, \"scan_apex\": 483...      906.956708   \n",
       "620634  {\"mono_mz\": 793.450763975388, \"scan_apex\": 567...      793.451026   \n",
       "315953  {\"mono_mz\": 565.7880048432718, \"scan_apex\": 73...      565.788026   \n",
       "\n",
       "         q_value  delta_mz_ppm  delta_rt  delta_scan  ...  number_of_isotopes  \\\n",
       "64118   0.000073     -0.248005  0.000345   -0.030720  ...                   7   \n",
       "263184  0.000581     -0.024861  0.000357    0.005140  ...                   6   \n",
       "713451  0.000034      0.041313  0.001380   -0.025652  ...                   7   \n",
       "620634  0.000004     -0.560563  0.001555    0.017253  ...                   7   \n",
       "315953  0.000004      0.082530  0.043665    0.009195  ...                   7   \n",
       "\n",
       "        peak_proportion_intensity  \\\n",
       "64118                        1000   \n",
       "263184                        613   \n",
       "713451                       2639   \n",
       "620634                       2796   \n",
       "315953                      12085   \n",
       "\n",
       "                                     peak_proportions      rt_apex  scan_apex  \\\n",
       "64118   {\"ccs_proportion\": 0.1, \"rt_proportion\": 0.8}  1913.661837        694   \n",
       "263184  {\"ccs_proportion\": 0.1, \"rt_proportion\": 0.8}  1780.849098        300   \n",
       "713451  {\"ccs_proportion\": 0.1, \"rt_proportion\": 0.8}  1638.205926        471   \n",
       "620634  {\"ccs_proportion\": 0.1, \"rt_proportion\": 0.8}  2132.084451        577   \n",
       "315953  {\"ccs_proportion\": 0.1, \"rt_proportion\": 0.8}  1643.958173        741   \n",
       "\n",
       "                        run_name   group  human  number_of_runs_extracted  \\\n",
       "64118   YHE010_09_Slot1-1_1_2994  YHE010      0                        31   \n",
       "263184  YHE010_05_Slot1-1_1_2990  YHE010      0                        12   \n",
       "713451  YHE010_10_Slot1-1_1_2995  YHE010      0                        31   \n",
       "620634  YHE010_04_Slot1-1_1_2989  YHE010      0                        31   \n",
       "315953  YHE010_11_Slot1-1_1_3041  YHE010      0                        31   \n",
       "\n",
       "                           sequence_charge  \n",
       "64118                        ELPGVAFLSEK-2  \n",
       "263184  EQVM[15.9949]VAVQSLNPDHDSRVEAIDK-2  \n",
       "713451                   NNLPVYVNQVHEVCK-2  \n",
       "620634                    GILNQIDNLPFLTK-2  \n",
       "315953                       DGPLSTNVEAK-2  \n",
       "\n",
       "[5 rows x 72 columns]"
      ]
     },
     "execution_count": 42,
     "metadata": {},
     "output_type": "execute_result"
    }
   ],
   "source": [
    "non_human_df.sample(n=5)"
   ]
  },
  {
   "cell_type": "code",
   "execution_count": 43,
   "metadata": {},
   "outputs": [
    {
     "data": {
      "text/plain": [
       "Index(['sequence', 'charge', 'file_idx', 'peak_idx', 'target_coords',\n",
       "       'theoretical_mz', 'q_value', 'delta_mz_ppm', 'delta_rt', 'delta_scan',\n",
       "       'fwhm_rt_0', 'fwhm_scan_0', 'geometric_mean_0_1',\n",
       "       'geometric_mean_0_1_2', 'isotope_0_1_mz_delta_ppm',\n",
       "       'isotope_0_1_rt_delta', 'isotope_0_1_scan_delta',\n",
       "       'isotope_0_2_mz_delta_ppm', 'isotope_0_2_rt_delta',\n",
       "       'isotope_0_2_scan_delta', 'monoisotope_auc_over_isotope_peak_auc_sum',\n",
       "       'monoisotope_int_over_isotope_peak_int_sum', 'mz_delta_ppm_std_dev_0',\n",
       "       'mz_delta_ppm_std_dev_1', 'number_of_frames_0', 'number_of_frames_1',\n",
       "       'number_of_frames_2', 'number_of_missing_frames_0',\n",
       "       'number_of_missing_frames_1', 'number_of_missing_frames_2',\n",
       "       'peak_base_width_rt_0', 'peak_base_width_scan_0', 'r_squared_phr',\n",
       "       'rt_isotope_correlation', 'rt_isotope_cv', 'rt_peak_symmetry_0',\n",
       "       'rt_peak_symmetry_1', 'rt_peak_symmetry_2', 'scan_isotope_correlation',\n",
       "       'scan_isotope_cv', 'scan_peak_symmetry_0', 'scan_peak_symmetry_1',\n",
       "       'scan_peak_symmetry_2', 'classed_as', 'prob_decoy', 'prob_target',\n",
       "       'inferred', 'intensity', 'isotope_1_filtered_points_l',\n",
       "       'isotope_1_rt_bounds', 'isotope_1_scan_bounds',\n",
       "       'isotope_2_filtered_points_l', 'isotope_2_rt_bounds',\n",
       "       'isotope_2_scan_bounds', 'isotope_idx_not_in_saturation',\n",
       "       'isotope_intensities_l', 'mono_filtered_points_l', 'mono_rt_bounds',\n",
       "       'mono_scan_bounds', 'monoisotopic_mass', 'monoisotopic_mz_centroid',\n",
       "       'monoisotopic_mz_delta_ppm', 'number_of_isotopes',\n",
       "       'peak_proportion_intensity', 'peak_proportions', 'rt_apex', 'scan_apex',\n",
       "       'run_name', 'group', 'human', 'number_of_runs_extracted',\n",
       "       'sequence_charge'],\n",
       "      dtype='object')"
      ]
     },
     "execution_count": 43,
     "metadata": {},
     "output_type": "execute_result"
    }
   ],
   "source": [
    "human_df.columns"
   ]
  },
  {
   "cell_type": "code",
   "execution_count": 44,
   "metadata": {},
   "outputs": [],
   "source": [
    "MZ_TOLERANCE_PPM = 5  # +/- this amount\n",
    "MZ_TOLERANCE_PERCENT = MZ_TOLERANCE_PPM * 10**-4\n",
    "\n",
    "RT_DELTA = 0.05\n",
    "CCS_DELTA = 0.1"
   ]
  },
  {
   "cell_type": "code",
   "execution_count": 45,
   "metadata": {},
   "outputs": [],
   "source": [
    "# count how many human sequences are in the same place in the same file as each non-human sequence\n",
    "number_of_human_neighbours_l = []\n",
    "for row in non_human_df.itertuples():\n",
    "    MZ_DELTA = row.monoisotopic_mz_centroid * MZ_TOLERANCE_PERCENT / 100\n",
    "\n",
    "    human_neighbours_df = human_df[(human_df.file_idx == row.file_idx) &\n",
    "                                   (abs(human_df.monoisotopic_mz_centroid - row.monoisotopic_mz_centroid) <= MZ_DELTA) &\n",
    "                                   (abs(human_df.rt_apex - row.rt_apex) <= RT_DELTA) &\n",
    "                                   (abs(human_df.scan_apex - row.scan_apex) <= CCS_DELTA)\n",
    "                                  ]\n",
    "    neighbours_l = human_neighbours_df.sequence_charge.to_list()\n",
    "    number_of_human_neighbours_l.append((row.sequence, row.charge, row.file_idx, len(human_neighbours_df), neighbours_l))\n"
   ]
  },
  {
   "cell_type": "code",
   "execution_count": 46,
   "metadata": {},
   "outputs": [],
   "source": [
    "number_of_human_neighbours_df = pd.DataFrame(number_of_human_neighbours_l, columns=['sequence','charge','file_idx','number_of_human_neighbours','human_neighbours'])"
   ]
  },
  {
   "cell_type": "code",
   "execution_count": 47,
   "metadata": {},
   "outputs": [
    {
     "data": {
      "text/html": [
       "<div>\n",
       "<style scoped>\n",
       "    .dataframe tbody tr th:only-of-type {\n",
       "        vertical-align: middle;\n",
       "    }\n",
       "\n",
       "    .dataframe tbody tr th {\n",
       "        vertical-align: top;\n",
       "    }\n",
       "\n",
       "    .dataframe thead th {\n",
       "        text-align: right;\n",
       "    }\n",
       "</style>\n",
       "<table border=\"1\" class=\"dataframe\">\n",
       "  <thead>\n",
       "    <tr style=\"text-align: right;\">\n",
       "      <th></th>\n",
       "      <th>sequence</th>\n",
       "      <th>charge</th>\n",
       "      <th>file_idx</th>\n",
       "      <th>number_of_human_neighbours</th>\n",
       "      <th>human_neighbours</th>\n",
       "    </tr>\n",
       "  </thead>\n",
       "  <tbody>\n",
       "    <tr>\n",
       "      <th>52</th>\n",
       "      <td>AIMGLPLTPYPVEK</td>\n",
       "      <td>2</td>\n",
       "      <td>4</td>\n",
       "      <td>1</td>\n",
       "      <td>[LLTGELLPTDGMIR-2]</td>\n",
       "    </tr>\n",
       "    <tr>\n",
       "      <th>54</th>\n",
       "      <td>ALAEFLFDDESNVIR</td>\n",
       "      <td>2</td>\n",
       "      <td>4</td>\n",
       "      <td>1</td>\n",
       "      <td>[EFNEEGALSVLQQFK-2]</td>\n",
       "    </tr>\n",
       "    <tr>\n",
       "      <th>59</th>\n",
       "      <td>ALGLIENVYLFGTPAVM[15.9949]K</td>\n",
       "      <td>2</td>\n",
       "      <td>4</td>\n",
       "      <td>1</td>\n",
       "      <td>[TYLTITDTQLVNSLLEK-2]</td>\n",
       "    </tr>\n",
       "    <tr>\n",
       "      <th>91</th>\n",
       "      <td>AQTDEVLENPDPR</td>\n",
       "      <td>2</td>\n",
       "      <td>4</td>\n",
       "      <td>1</td>\n",
       "      <td>[FSTVAGESGSADTVR-2]</td>\n",
       "    </tr>\n",
       "    <tr>\n",
       "      <th>100</th>\n",
       "      <td>ASTSINVPDPTPFVTYF</td>\n",
       "      <td>2</td>\n",
       "      <td>4</td>\n",
       "      <td>1</td>\n",
       "      <td>[MYVFGGWVPLVMDDVK-2]</td>\n",
       "    </tr>\n",
       "    <tr>\n",
       "      <th>...</th>\n",
       "      <td>...</td>\n",
       "      <td>...</td>\n",
       "      <td>...</td>\n",
       "      <td>...</td>\n",
       "      <td>...</td>\n",
       "    </tr>\n",
       "    <tr>\n",
       "      <th>17121</th>\n",
       "      <td>SSPDENSTLLSNDSISLK</td>\n",
       "      <td>2</td>\n",
       "      <td>7</td>\n",
       "      <td>1</td>\n",
       "      <td>[VDEFVTHNLSFDEINK-2]</td>\n",
       "    </tr>\n",
       "    <tr>\n",
       "      <th>17312</th>\n",
       "      <td>VEVETPEENTGDVIGDLSR</td>\n",
       "      <td>2</td>\n",
       "      <td>7</td>\n",
       "      <td>1</td>\n",
       "      <td>[LDEMEFNPVQQPQLNEK-2]</td>\n",
       "    </tr>\n",
       "    <tr>\n",
       "      <th>17469</th>\n",
       "      <td>YFLLTDYSLWSGILYNPDLPK</td>\n",
       "      <td>3</td>\n",
       "      <td>7</td>\n",
       "      <td>1</td>\n",
       "      <td>[SPNPSLLHLCGSLAQLACVEPVR-3]</td>\n",
       "    </tr>\n",
       "    <tr>\n",
       "      <th>17482</th>\n",
       "      <td>YIDAARVAFGSK</td>\n",
       "      <td>2</td>\n",
       "      <td>7</td>\n",
       "      <td>1</td>\n",
       "      <td>[LYDMVLQFLR-2]</td>\n",
       "    </tr>\n",
       "    <tr>\n",
       "      <th>17506</th>\n",
       "      <td>YNTLGGVCLNVGCIPSK</td>\n",
       "      <td>2</td>\n",
       "      <td>7</td>\n",
       "      <td>1</td>\n",
       "      <td>[TIRPMDMETIEASVMK-2]</td>\n",
       "    </tr>\n",
       "  </tbody>\n",
       "</table>\n",
       "<p>452 rows × 5 columns</p>\n",
       "</div>"
      ],
      "text/plain": [
       "                          sequence  charge  file_idx  \\\n",
       "52                  AIMGLPLTPYPVEK       2         4   \n",
       "54                 ALAEFLFDDESNVIR       2         4   \n",
       "59     ALGLIENVYLFGTPAVM[15.9949]K       2         4   \n",
       "91                   AQTDEVLENPDPR       2         4   \n",
       "100              ASTSINVPDPTPFVTYF       2         4   \n",
       "...                            ...     ...       ...   \n",
       "17121           SSPDENSTLLSNDSISLK       2         7   \n",
       "17312          VEVETPEENTGDVIGDLSR       2         7   \n",
       "17469        YFLLTDYSLWSGILYNPDLPK       3         7   \n",
       "17482                 YIDAARVAFGSK       2         7   \n",
       "17506            YNTLGGVCLNVGCIPSK       2         7   \n",
       "\n",
       "       number_of_human_neighbours             human_neighbours  \n",
       "52                              1           [LLTGELLPTDGMIR-2]  \n",
       "54                              1          [EFNEEGALSVLQQFK-2]  \n",
       "59                              1        [TYLTITDTQLVNSLLEK-2]  \n",
       "91                              1          [FSTVAGESGSADTVR-2]  \n",
       "100                             1         [MYVFGGWVPLVMDDVK-2]  \n",
       "...                           ...                          ...  \n",
       "17121                           1         [VDEFVTHNLSFDEINK-2]  \n",
       "17312                           1        [LDEMEFNPVQQPQLNEK-2]  \n",
       "17469                           1  [SPNPSLLHLCGSLAQLACVEPVR-3]  \n",
       "17482                           1               [LYDMVLQFLR-2]  \n",
       "17506                           1         [TIRPMDMETIEASVMK-2]  \n",
       "\n",
       "[452 rows x 5 columns]"
      ]
     },
     "execution_count": 47,
     "metadata": {},
     "output_type": "execute_result"
    }
   ],
   "source": [
    "number_of_human_neighbours_df[number_of_human_neighbours_df.number_of_human_neighbours >= 1]"
   ]
  },
  {
   "cell_type": "code",
   "execution_count": 48,
   "metadata": {},
   "outputs": [
    {
     "data": {
      "text/plain": [
       "array([0, 1, 2, 3])"
      ]
     },
     "execution_count": 48,
     "metadata": {},
     "output_type": "execute_result"
    }
   ],
   "source": [
    "number_of_human_neighbours_df.number_of_human_neighbours.unique()"
   ]
  },
  {
   "cell_type": "code",
   "execution_count": 49,
   "metadata": {},
   "outputs": [
    {
     "data": {
      "text/plain": [
       "(monoisotopic_mz_centroid    1029.99\n",
       " scan_apex                       443\n",
       " rt_apex                     1832.72\n",
       " Name: 719962, dtype: object,\n",
       " '{\"mono_mz\": 1029.9946322716664, \"scan_apex\": 450.6244683094015, \"rt_apex\": 1839.124758634213}')"
      ]
     },
     "execution_count": 49,
     "metadata": {},
     "output_type": "execute_result"
    }
   ],
   "source": [
    "s = non_human_df[(non_human_df.sequence == 'VEVETPEENTGDVIGDLSR') & (non_human_df.charge == 2) & (non_human_df.file_idx == 7)].iloc[0]\n",
    "s[['monoisotopic_mz_centroid','scan_apex','rt_apex']], s.target_coords"
   ]
  },
  {
   "cell_type": "code",
   "execution_count": 50,
   "metadata": {},
   "outputs": [
    {
     "data": {
      "text/plain": [
       "(monoisotopic_mz_centroid    1029.99\n",
       " scan_apex                       443\n",
       " rt_apex                     1832.72\n",
       " Name: 709287, dtype: object,\n",
       " '{\"mono_mz\": 1029.993860608672, \"scan_apex\": 445.7783972711734, \"rt_apex\": 1836.390526585189}')"
      ]
     },
     "execution_count": 50,
     "metadata": {},
     "output_type": "execute_result"
    }
   ],
   "source": [
    "s = human_df[(human_df.sequence == 'LDEMEFNPVQQPQLNEK') & (human_df.charge == 2) & (human_df.file_idx == 7)].iloc[0]\n",
    "s[['monoisotopic_mz_centroid','scan_apex','rt_apex']], s.target_coords"
   ]
  },
  {
   "cell_type": "code",
   "execution_count": 64,
   "metadata": {},
   "outputs": [],
   "source": [
    "target_coords = json.loads(s.target_coords)"
   ]
  },
  {
   "cell_type": "code",
   "execution_count": 65,
   "metadata": {},
   "outputs": [
    {
     "data": {
      "text/plain": [
       "-3.671496527151021"
      ]
     },
     "execution_count": 65,
     "metadata": {},
     "output_type": "execute_result"
    }
   ],
   "source": [
    "absolute_rt_delta = s.delta_rt * target_coords['rt_apex']\n",
    "absolute_rt_delta"
   ]
  },
  {
   "cell_type": "code",
   "execution_count": 101,
   "metadata": {},
   "outputs": [
    {
     "data": {
      "image/png": "[encoded data removed]",
      "text/plain": [
       "<Figure size 1080x576 with 1 Axes>"
      ]
     },
     "metadata": {
      "needs_background": "light"
     },
     "output_type": "display_data"
    }
   ],
   "source": [
    "f, ax1 = plt.subplots()\n",
    "f.set_figheight(8)\n",
    "f.set_figwidth(15)\n",
    "\n",
    "plt.margins(0.06)\n",
    "plt.title('')\n",
    "\n",
    "bins = 300\n",
    "rt_delta_human = human_only_df[(human_only_df.classed_as == 'target') & (human_only_df.human == True)].absolute_delta_rt\n",
    "rt_delta_other = human_only_df[(human_only_df.classed_as == 'target') & (human_only_df.human == False)].absolute_delta_rt\n",
    "\n",
    "y, x, _ = ax1.hist(rt_delta_human, bins=bins, label='human')\n",
    "y, x, _ = ax1.hist(rt_delta_other, bins=bins, label='other')\n",
    "# mean = np.mean(values)\n",
    "# ax1.axvline(mean, color='darkorange', lw=1.0, ls='-.', label='mean')\n",
    "# text_style = dict(size=10, color='brown', verticalalignment='center', horizontalalignment='left')\n",
    "# ax1.text(mean*0.85, y.max()*0.98, \"mean {}\".format(round(mean,2)), **text_style, rotation='vertical')\n",
    "\n",
    "plt.xlabel('delta RT')\n",
    "plt.ylabel('count')\n",
    "plt.title('absolute delta between estimated and extracted RT')\n",
    "plt.legend(loc='best')\n",
    "# plt.xlim((0,120))\n",
    "plt.ylim((0,3000))\n",
    "\n",
    "plt.show()"
   ]
  },
  {
   "cell_type": "code",
   "execution_count": 102,
   "metadata": {},
   "outputs": [
    {
     "data": {
      "image/png": "[encoded data removed]",
      "text/plain": [
       "<Figure size 1080x576 with 1 Axes>"
      ]
     },
     "metadata": {
      "needs_background": "light"
     },
     "output_type": "display_data"
    }
   ],
   "source": [
    "f, ax1 = plt.subplots()\n",
    "f.set_figheight(8)\n",
    "f.set_figwidth(15)\n",
    "\n",
    "plt.margins(0.06)\n",
    "plt.title('')\n",
    "\n",
    "bins = 300\n",
    "scan_delta_human = human_only_df[(human_only_df.classed_as == 'target') & (human_only_df.human == True)].absolute_delta_scan\n",
    "scan_delta_other = human_only_df[(human_only_df.classed_as == 'target') & (human_only_df.human == False)].absolute_delta_scan\n",
    "\n",
    "y, x, _ = ax1.hist(scan_delta_human, bins=bins, label='human')\n",
    "y, x, _ = ax1.hist(scan_delta_other, bins=bins, label='other')\n",
    "# mean = np.mean(values)\n",
    "# ax1.axvline(mean, color='darkorange', lw=1.0, ls='-.', label='mean')\n",
    "# text_style = dict(size=10, color='brown', verticalalignment='center', horizontalalignment='left')\n",
    "# ax1.text(mean*0.85, y.max()*0.98, \"mean {}\".format(round(mean,2)), **text_style, rotation='vertical')\n",
    "\n",
    "plt.xlabel('delta CCS')\n",
    "plt.ylabel('count')\n",
    "plt.title('absolute delta between estimated and extracted CCS')\n",
    "plt.legend(loc='best')\n",
    "# plt.xlim((0,120))\n",
    "plt.ylim((0,2000))\n",
    "\n",
    "plt.show()"
   ]
  },
  {
   "cell_type": "code",
   "execution_count": null,
   "metadata": {},
   "outputs": [],
   "source": []
  }
 ],
 "metadata": {
  "kernelspec": {
   "display_name": "Python 3",
   "language": "python",
   "name": "python3"
  },
  "language_info": {
   "codemirror_mode": {
    "name": "ipython",
    "version": 3
   },
   "file_extension": ".py",
   "mimetype": "text/x-python",
   "name": "python",
   "nbconvert_exporter": "python",
   "pygments_lexer": "ipython3",
   "version": "3.6.8"
  }
 },
 "nbformat": 4,
 "nbformat_minor": 2
}
