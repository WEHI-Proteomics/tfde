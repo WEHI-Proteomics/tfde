{
 "cells": [
  {
   "cell_type": "code",
   "execution_count": 1,
   "metadata": {},
   "outputs": [],
   "source": [
    "import pandas as pd\n",
    "import sqlite3\n",
    "import matplotlib.pyplot as plt"
   ]
  },
  {
   "cell_type": "code",
   "execution_count": 2,
   "metadata": {},
   "outputs": [],
   "source": [
    "EXTRACTED_FEATURES_DB_NAME = '/data/experiments/YHE/extracted-features/extracted-features.sqlite'"
   ]
  },
  {
   "cell_type": "code",
   "execution_count": 3,
   "metadata": {},
   "outputs": [],
   "source": [
    "db_conn = sqlite3.connect(EXTRACTED_FEATURES_DB_NAME)\n",
    "sequences_df = pd.read_sql_query(\"select * from features\", db_conn)\n",
    "db_conn.close()"
   ]
  },
  {
   "cell_type": "code",
   "execution_count": 4,
   "metadata": {},
   "outputs": [
    {
     "data": {
      "text/plain": [
       "Index(['sequence', 'charge', 'file_idx', 'peak_idx', 'target_coords',\n",
       "       'theoretical_mz', 'q_value', 'delta_mz_ppm', 'delta_rt', 'delta_scan',\n",
       "       'fwhm_rt_0', 'fwhm_scan_0', 'geometric_mean_0_1',\n",
       "       'geometric_mean_0_1_2', 'isotope_0_1_mz_delta_ppm',\n",
       "       'isotope_0_1_rt_delta', 'isotope_0_1_scan_delta',\n",
       "       'isotope_0_2_mz_delta_ppm', 'isotope_0_2_rt_delta',\n",
       "       'isotope_0_2_scan_delta', 'monoisotope_auc_over_isotope_peak_auc_sum',\n",
       "       'monoisotope_int_over_isotope_peak_int_sum', 'mz_delta_ppm_std_dev_0',\n",
       "       'mz_delta_ppm_std_dev_1', 'number_of_frames_0', 'number_of_frames_1',\n",
       "       'number_of_frames_2', 'number_of_missing_frames_0',\n",
       "       'number_of_missing_frames_1', 'number_of_missing_frames_2',\n",
       "       'peak_base_width_rt_0', 'peak_base_width_scan_0', 'r_squared_phr',\n",
       "       'rt_isotope_correlation', 'rt_isotope_cv', 'rt_peak_symmetry_0',\n",
       "       'rt_peak_symmetry_1', 'rt_peak_symmetry_2', 'scan_isotope_correlation',\n",
       "       'scan_isotope_cv', 'scan_peak_symmetry_0', 'scan_peak_symmetry_1',\n",
       "       'scan_peak_symmetry_2', 'classed_as', 'inferred', 'intensity',\n",
       "       'isotope_1_filtered_points_l', 'isotope_1_rt_bounds',\n",
       "       'isotope_1_scan_bounds', 'isotope_2_filtered_points_l',\n",
       "       'isotope_2_rt_bounds', 'isotope_2_scan_bounds',\n",
       "       'isotope_idx_not_in_saturation', 'isotope_intensities_l',\n",
       "       'mono_filtered_points_l', 'mono_rt_bounds', 'mono_scan_bounds',\n",
       "       'monoisotopic_mass', 'monoisotopic_mz_centroid',\n",
       "       'monoisotopic_mz_delta_ppm', 'number_of_isotopes',\n",
       "       'peak_proportion_intensity', 'peak_proportions', 'rt_apex', 'scan_apex',\n",
       "       'run_name', 'group', 'human', 'number_of_runs_extracted'],\n",
       "      dtype='object')"
      ]
     },
     "execution_count": 4,
     "metadata": {},
     "output_type": "execute_result"
    }
   ],
   "source": [
    "sequences_df.columns"
   ]
  },
  {
   "cell_type": "code",
   "execution_count": 5,
   "metadata": {},
   "outputs": [
    {
     "data": {
      "text/plain": [
       "Text(0, 0.5, 'count')"
      ]
     },
     "execution_count": 5,
     "metadata": {},
     "output_type": "execute_result"
    },
    {
     "data": {
      "image/png": "[encoded data removed]",
      "text/plain": [
       "<Figure size 1080x576 with 1 Axes>"
      ]
     },
     "metadata": {
      "needs_background": "light"
     },
     "output_type": "display_data"
    }
   ],
   "source": [
    "import matplotlib.pyplot as plt\n",
    "\n",
    "f, ax1 = plt.subplots()\n",
    "f.set_figheight(8)\n",
    "f.set_figwidth(15)\n",
    "\n",
    "plt.margins(0.06)\n",
    "plt.title('')\n",
    "\n",
    "bins = 300\n",
    "values = sequences_df.isotope_0_1_mz_delta_ppm\n",
    "y, x, _ = ax1.hist(values, bins=bins)\n",
    "# mean = np.mean(values)\n",
    "# ax1.axvline(mean, color='darkorange', lw=1.0, ls='-.', label='mean')\n",
    "# text_style = dict(size=10, color='brown', verticalalignment='center', horizontalalignment='left')\n",
    "# ax1.text(mean*0.85, y.max()*0.98, \"mean {}\".format(round(mean,2)), **text_style, rotation='vertical')\n",
    "\n",
    "plt.xlabel('isotope_0_1_mz_delta_ppm')\n",
    "plt.ylabel('count')\n",
    "# plt.title('pre-normalisation sequence intensity coefficient of variance across 1to1 runs, k={}\\n({} unique sequences appearing in all runs)'.format(number_of_neighbours, len(sequence_cv_df)))\n",
    "# plt.xlim((0,2))\n",
    "# plt.ylim((0,600))\n",
    "\n",
    "# plt.show()"
   ]
  },
  {
   "cell_type": "code",
   "execution_count": 6,
   "metadata": {},
   "outputs": [
    {
     "data": {
      "text/plain": [
       "Text(0, 0.5, 'count')"
      ]
     },
     "execution_count": 6,
     "metadata": {},
     "output_type": "execute_result"
    },
    {
     "data": {
      "image/png": "[encoded data removed]",
      "text/plain": [
       "<Figure size 1080x576 with 1 Axes>"
      ]
     },
     "metadata": {
      "needs_background": "light"
     },
     "output_type": "display_data"
    }
   ],
   "source": [
    "f, ax1 = plt.subplots()\n",
    "f.set_figheight(8)\n",
    "f.set_figwidth(15)\n",
    "\n",
    "plt.margins(0.06)\n",
    "plt.title('')\n",
    "\n",
    "bins = 300\n",
    "values = sequences_df.isotope_0_2_mz_delta_ppm\n",
    "y, x, _ = ax1.hist(values, bins=bins)\n",
    "# mean = np.mean(values)\n",
    "# ax1.axvline(mean, color='darkorange', lw=1.0, ls='-.', label='mean')\n",
    "# text_style = dict(size=10, color='brown', verticalalignment='center', horizontalalignment='left')\n",
    "# ax1.text(mean*0.85, y.max()*0.98, \"mean {}\".format(round(mean,2)), **text_style, rotation='vertical')\n",
    "\n",
    "plt.xlabel('isotope_0_1_mz_delta_ppm')\n",
    "plt.ylabel('count')\n",
    "# plt.title('pre-normalisation sequence intensity coefficient of variance across 1to1 runs, k={}\\n({} unique sequences appearing in all runs)'.format(number_of_neighbours, len(sequence_cv_df)))\n",
    "# plt.xlim((0,2))\n",
    "# plt.ylim((0,600))\n",
    "\n",
    "# plt.show()"
   ]
  },
  {
   "cell_type": "code",
   "execution_count": 7,
   "metadata": {},
   "outputs": [
    {
     "data": {
      "text/html": [
       "<div>\n",
       "<style scoped>\n",
       "    .dataframe tbody tr th:only-of-type {\n",
       "        vertical-align: middle;\n",
       "    }\n",
       "\n",
       "    .dataframe tbody tr th {\n",
       "        vertical-align: top;\n",
       "    }\n",
       "\n",
       "    .dataframe thead th {\n",
       "        text-align: right;\n",
       "    }\n",
       "</style>\n",
       "<table border=\"1\" class=\"dataframe\">\n",
       "  <thead>\n",
       "    <tr style=\"text-align: right;\">\n",
       "      <th></th>\n",
       "      <th>sequence</th>\n",
       "      <th>charge</th>\n",
       "      <th>run_name</th>\n",
       "      <th>number_of_runs_extracted</th>\n",
       "      <th>human</th>\n",
       "      <th>group</th>\n",
       "      <th>classed_as</th>\n",
       "    </tr>\n",
       "  </thead>\n",
       "  <tbody>\n",
       "    <tr>\n",
       "      <th>529491</th>\n",
       "      <td>APAALPALCDLLASAADPQIR</td>\n",
       "      <td>3</td>\n",
       "      <td>YHE211_08_Slot1-1_1_3004</td>\n",
       "      <td>31</td>\n",
       "      <td>1</td>\n",
       "      <td>YHE211</td>\n",
       "      <td>target</td>\n",
       "    </tr>\n",
       "    <tr>\n",
       "      <th>401693</th>\n",
       "      <td>LGLGIDEDDPTADDTSAAVTEEMPPLEGDDDTSR</td>\n",
       "      <td>3</td>\n",
       "      <td>YHE211_06_Slot1-1_1_3002</td>\n",
       "      <td>29</td>\n",
       "      <td>1</td>\n",
       "      <td>YHE211</td>\n",
       "      <td>target</td>\n",
       "    </tr>\n",
       "    <tr>\n",
       "      <th>220111</th>\n",
       "      <td>ENVPENSRPATGYPLPPQIFNESQYR</td>\n",
       "      <td>3</td>\n",
       "      <td>YHE010_05_Slot1-1_1_2990</td>\n",
       "      <td>31</td>\n",
       "      <td>1</td>\n",
       "      <td>YHE010</td>\n",
       "      <td>target</td>\n",
       "    </tr>\n",
       "    <tr>\n",
       "      <th>408062</th>\n",
       "      <td>SINPDEAVAYGAAVQAAILMGDK</td>\n",
       "      <td>3</td>\n",
       "      <td>YHE211_06_Slot1-1_1_3002</td>\n",
       "      <td>29</td>\n",
       "      <td>1</td>\n",
       "      <td>YHE211</td>\n",
       "      <td>target</td>\n",
       "    </tr>\n",
       "    <tr>\n",
       "      <th>573127</th>\n",
       "      <td>TFDLYANVRPCVSIEGYK</td>\n",
       "      <td>2</td>\n",
       "      <td>YHE211_07_Slot1-1_1_3003</td>\n",
       "      <td>29</td>\n",
       "      <td>1</td>\n",
       "      <td>YHE211</td>\n",
       "      <td>target</td>\n",
       "    </tr>\n",
       "  </tbody>\n",
       "</table>\n",
       "</div>"
      ],
      "text/plain": [
       "                                  sequence  charge                  run_name  \\\n",
       "529491               APAALPALCDLLASAADPQIR       3  YHE211_08_Slot1-1_1_3004   \n",
       "401693  LGLGIDEDDPTADDTSAAVTEEMPPLEGDDDTSR       3  YHE211_06_Slot1-1_1_3002   \n",
       "220111          ENVPENSRPATGYPLPPQIFNESQYR       3  YHE010_05_Slot1-1_1_2990   \n",
       "408062             SINPDEAVAYGAAVQAAILMGDK       3  YHE211_06_Slot1-1_1_3002   \n",
       "573127                  TFDLYANVRPCVSIEGYK       2  YHE211_07_Slot1-1_1_3003   \n",
       "\n",
       "        number_of_runs_extracted  human   group classed_as  \n",
       "529491                        31      1  YHE211     target  \n",
       "401693                        29      1  YHE211     target  \n",
       "220111                        31      1  YHE010     target  \n",
       "408062                        29      1  YHE211     target  \n",
       "573127                        29      1  YHE211     target  "
      ]
     },
     "execution_count": 7,
     "metadata": {},
     "output_type": "execute_result"
    }
   ],
   "source": [
    "sequences_df[['sequence','charge','run_name','number_of_runs_extracted','human','group','classed_as']].sample(n=5)"
   ]
  },
  {
   "cell_type": "code",
   "execution_count": 8,
   "metadata": {},
   "outputs": [],
   "source": [
    "sequences_df['group'] = sequences_df.run_name.apply(lambda x: x.split('_')[0])"
   ]
  },
  {
   "cell_type": "code",
   "execution_count": 9,
   "metadata": {},
   "outputs": [
    {
     "data": {
      "text/html": [
       "<div>\n",
       "<style scoped>\n",
       "    .dataframe tbody tr th:only-of-type {\n",
       "        vertical-align: middle;\n",
       "    }\n",
       "\n",
       "    .dataframe tbody tr th {\n",
       "        vertical-align: top;\n",
       "    }\n",
       "\n",
       "    .dataframe thead th {\n",
       "        text-align: right;\n",
       "    }\n",
       "</style>\n",
       "<table border=\"1\" class=\"dataframe\">\n",
       "  <thead>\n",
       "    <tr style=\"text-align: right;\">\n",
       "      <th></th>\n",
       "      <th>sequence</th>\n",
       "      <th>charge</th>\n",
       "      <th>run_name</th>\n",
       "      <th>number_of_runs_extracted</th>\n",
       "      <th>human</th>\n",
       "      <th>group</th>\n",
       "    </tr>\n",
       "  </thead>\n",
       "  <tbody>\n",
       "    <tr>\n",
       "      <th>541440</th>\n",
       "      <td>LQAQQDAVNIVCHSK</td>\n",
       "      <td>2</td>\n",
       "      <td>YHE211_08_Slot1-1_1_3004</td>\n",
       "      <td>25</td>\n",
       "      <td>1</td>\n",
       "      <td>YHE211</td>\n",
       "    </tr>\n",
       "    <tr>\n",
       "      <th>637317</th>\n",
       "      <td>LVLLELNFLPTTGTK</td>\n",
       "      <td>2</td>\n",
       "      <td>YHE211_05_Slot1-1_1_3001</td>\n",
       "      <td>31</td>\n",
       "      <td>1</td>\n",
       "      <td>YHE211</td>\n",
       "    </tr>\n",
       "    <tr>\n",
       "      <th>68612</th>\n",
       "      <td>VNQQPNTSDK</td>\n",
       "      <td>2</td>\n",
       "      <td>YHE010_09_Slot1-1_1_2994</td>\n",
       "      <td>31</td>\n",
       "      <td>1</td>\n",
       "      <td>YHE010</td>\n",
       "    </tr>\n",
       "    <tr>\n",
       "      <th>326657</th>\n",
       "      <td>WAPDGSCILTNSADNILR</td>\n",
       "      <td>2</td>\n",
       "      <td>YHE114_06_Slot1-1_1_3013</td>\n",
       "      <td>31</td>\n",
       "      <td>1</td>\n",
       "      <td>YHE114</td>\n",
       "    </tr>\n",
       "    <tr>\n",
       "      <th>656566</th>\n",
       "      <td>GPDGPWGVGTPRMERK</td>\n",
       "      <td>2</td>\n",
       "      <td>YHE114_03_Slot1-1_1_3010</td>\n",
       "      <td>29</td>\n",
       "      <td>1</td>\n",
       "      <td>YHE114</td>\n",
       "    </tr>\n",
       "  </tbody>\n",
       "</table>\n",
       "</div>"
      ],
      "text/plain": [
       "                  sequence  charge                  run_name  \\\n",
       "541440     LQAQQDAVNIVCHSK       2  YHE211_08_Slot1-1_1_3004   \n",
       "637317     LVLLELNFLPTTGTK       2  YHE211_05_Slot1-1_1_3001   \n",
       "68612           VNQQPNTSDK       2  YHE010_09_Slot1-1_1_2994   \n",
       "326657  WAPDGSCILTNSADNILR       2  YHE114_06_Slot1-1_1_3013   \n",
       "656566    GPDGPWGVGTPRMERK       2  YHE114_03_Slot1-1_1_3010   \n",
       "\n",
       "        number_of_runs_extracted  human   group  \n",
       "541440                        25      1  YHE211  \n",
       "637317                        31      1  YHE211  \n",
       "68612                         31      1  YHE010  \n",
       "326657                        31      1  YHE114  \n",
       "656566                        29      1  YHE114  "
      ]
     },
     "execution_count": 9,
     "metadata": {},
     "output_type": "execute_result"
    }
   ],
   "source": [
    "sequences_df[['sequence','charge','run_name','number_of_runs_extracted','human','group']].sample(n=5)"
   ]
  },
  {
   "cell_type": "code",
   "execution_count": 10,
   "metadata": {},
   "outputs": [],
   "source": [
    "yhe_only_df = sequences_df[(sequences_df.group == 'YHE211') | (sequences_df.group == 'YHE114')]\n",
    "yhe_only_targets_df = yhe_only_df[(yhe_only_df.classed_as == 'target')]"
   ]
  },
  {
   "cell_type": "code",
   "execution_count": 11,
   "metadata": {},
   "outputs": [
    {
     "name": "stdout",
     "output_type": "stream",
     "text": [
      "there are 21 runs in the experiment\n"
     ]
    }
   ],
   "source": [
    "number_of_yhe_runs_in_experiment = len(yhe_only_df.file_idx.unique())\n",
    "print('there are {} runs in the experiment'.format(number_of_yhe_runs_in_experiment))"
   ]
  },
  {
   "cell_type": "code",
   "execution_count": 12,
   "metadata": {},
   "outputs": [],
   "source": [
    "# count how many runs each sequence/charge was extracted from\n",
    "sequence_occurences_l = []\n",
    "for group_name,group_df in yhe_only_targets_df.groupby(['sequence','charge'], as_index=False):\n",
    "    sequence_occurences_l.append((group_name, len(group_df), group_name[0], group_name[1]))\n",
    "yhe_sequence_occurences_df = pd.DataFrame(sequence_occurences_l, columns=['sequence_charge','number_of_runs_extracted','sequence','charge'])"
   ]
  },
  {
   "cell_type": "code",
   "execution_count": 13,
   "metadata": {},
   "outputs": [
    {
     "data": {
      "text/html": [
       "<div>\n",
       "<style scoped>\n",
       "    .dataframe tbody tr th:only-of-type {\n",
       "        vertical-align: middle;\n",
       "    }\n",
       "\n",
       "    .dataframe tbody tr th {\n",
       "        vertical-align: top;\n",
       "    }\n",
       "\n",
       "    .dataframe thead th {\n",
       "        text-align: right;\n",
       "    }\n",
       "</style>\n",
       "<table border=\"1\" class=\"dataframe\">\n",
       "  <thead>\n",
       "    <tr style=\"text-align: right;\">\n",
       "      <th></th>\n",
       "      <th>sequence_charge</th>\n",
       "      <th>number_of_runs_extracted</th>\n",
       "      <th>sequence</th>\n",
       "      <th>charge</th>\n",
       "    </tr>\n",
       "  </thead>\n",
       "  <tbody>\n",
       "    <tr>\n",
       "      <th>20640</th>\n",
       "      <td>(VELAQLQEEWNEHNAK, 2)</td>\n",
       "      <td>21</td>\n",
       "      <td>VELAQLQEEWNEHNAK</td>\n",
       "      <td>2</td>\n",
       "    </tr>\n",
       "    <tr>\n",
       "      <th>20565</th>\n",
       "      <td>(VDVADQAQDKDR, 2)</td>\n",
       "      <td>19</td>\n",
       "      <td>VDVADQAQDKDR</td>\n",
       "      <td>2</td>\n",
       "    </tr>\n",
       "    <tr>\n",
       "      <th>11117</th>\n",
       "      <td>(LDPDSIPSPIQVIENDR, 2)</td>\n",
       "      <td>2</td>\n",
       "      <td>LDPDSIPSPIQVIENDR</td>\n",
       "      <td>2</td>\n",
       "    </tr>\n",
       "    <tr>\n",
       "      <th>21270</th>\n",
       "      <td>(VLRPQVTAVAQQNQGEVPEPQDMK, 3)</td>\n",
       "      <td>17</td>\n",
       "      <td>VLRPQVTAVAQQNQGEVPEPQDMK</td>\n",
       "      <td>3</td>\n",
       "    </tr>\n",
       "    <tr>\n",
       "      <th>11442</th>\n",
       "      <td>(LFSADPFDLEAQAK, 2)</td>\n",
       "      <td>21</td>\n",
       "      <td>LFSADPFDLEAQAK</td>\n",
       "      <td>2</td>\n",
       "    </tr>\n",
       "    <tr>\n",
       "      <th>6946</th>\n",
       "      <td>(GDLSTALEVAIDCYEK, 2)</td>\n",
       "      <td>17</td>\n",
       "      <td>GDLSTALEVAIDCYEK</td>\n",
       "      <td>2</td>\n",
       "    </tr>\n",
       "    <tr>\n",
       "      <th>7649</th>\n",
       "      <td>(GNLNFTCDGNSVISPVGNR, 2)</td>\n",
       "      <td>3</td>\n",
       "      <td>GNLNFTCDGNSVISPVGNR</td>\n",
       "      <td>2</td>\n",
       "    </tr>\n",
       "    <tr>\n",
       "      <th>2152</th>\n",
       "      <td>(CSDNTEVEVSNLENK, 2)</td>\n",
       "      <td>7</td>\n",
       "      <td>CSDNTEVEVSNLENK</td>\n",
       "      <td>2</td>\n",
       "    </tr>\n",
       "    <tr>\n",
       "      <th>12604</th>\n",
       "      <td>(LPTDLTACDNR, 2)</td>\n",
       "      <td>13</td>\n",
       "      <td>LPTDLTACDNR</td>\n",
       "      <td>2</td>\n",
       "    </tr>\n",
       "    <tr>\n",
       "      <th>5525</th>\n",
       "      <td>(EVEQFTQVAK, 2)</td>\n",
       "      <td>1</td>\n",
       "      <td>EVEQFTQVAK</td>\n",
       "      <td>2</td>\n",
       "    </tr>\n",
       "  </tbody>\n",
       "</table>\n",
       "</div>"
      ],
      "text/plain": [
       "                     sequence_charge  number_of_runs_extracted  \\\n",
       "20640          (VELAQLQEEWNEHNAK, 2)                        21   \n",
       "20565              (VDVADQAQDKDR, 2)                        19   \n",
       "11117         (LDPDSIPSPIQVIENDR, 2)                         2   \n",
       "21270  (VLRPQVTAVAQQNQGEVPEPQDMK, 3)                        17   \n",
       "11442            (LFSADPFDLEAQAK, 2)                        21   \n",
       "6946           (GDLSTALEVAIDCYEK, 2)                        17   \n",
       "7649        (GNLNFTCDGNSVISPVGNR, 2)                         3   \n",
       "2152            (CSDNTEVEVSNLENK, 2)                         7   \n",
       "12604               (LPTDLTACDNR, 2)                        13   \n",
       "5525                 (EVEQFTQVAK, 2)                         1   \n",
       "\n",
       "                       sequence  charge  \n",
       "20640          VELAQLQEEWNEHNAK       2  \n",
       "20565              VDVADQAQDKDR       2  \n",
       "11117         LDPDSIPSPIQVIENDR       2  \n",
       "21270  VLRPQVTAVAQQNQGEVPEPQDMK       3  \n",
       "11442            LFSADPFDLEAQAK       2  \n",
       "6946           GDLSTALEVAIDCYEK       2  \n",
       "7649        GNLNFTCDGNSVISPVGNR       2  \n",
       "2152            CSDNTEVEVSNLENK       2  \n",
       "12604               LPTDLTACDNR       2  \n",
       "5525                 EVEQFTQVAK       2  "
      ]
     },
     "execution_count": 13,
     "metadata": {},
     "output_type": "execute_result"
    }
   ],
   "source": [
    "yhe_sequence_occurences_df.sample(n=10)"
   ]
  },
  {
   "cell_type": "code",
   "execution_count": 14,
   "metadata": {},
   "outputs": [
    {
     "data": {
      "text/html": [
       "<div>\n",
       "<style scoped>\n",
       "    .dataframe tbody tr th:only-of-type {\n",
       "        vertical-align: middle;\n",
       "    }\n",
       "\n",
       "    .dataframe tbody tr th {\n",
       "        vertical-align: top;\n",
       "    }\n",
       "\n",
       "    .dataframe thead th {\n",
       "        text-align: right;\n",
       "    }\n",
       "</style>\n",
       "<table border=\"1\" class=\"dataframe\">\n",
       "  <thead>\n",
       "    <tr style=\"text-align: right;\">\n",
       "      <th></th>\n",
       "      <th>sequence</th>\n",
       "      <th>charge</th>\n",
       "      <th>file_idx</th>\n",
       "      <th>classed_as</th>\n",
       "    </tr>\n",
       "  </thead>\n",
       "  <tbody>\n",
       "    <tr>\n",
       "      <th>23682</th>\n",
       "      <td>VTVLTHCNTGALATAGYGTALGVIR</td>\n",
       "      <td>2</td>\n",
       "      <td>16</td>\n",
       "      <td>decoy</td>\n",
       "    </tr>\n",
       "    <tr>\n",
       "      <th>48379</th>\n",
       "      <td>VTVLTHCNTGALATAGYGTALGVIR</td>\n",
       "      <td>2</td>\n",
       "      <td>28</td>\n",
       "      <td>target</td>\n",
       "    </tr>\n",
       "    <tr>\n",
       "      <th>138789</th>\n",
       "      <td>VTVLTHCNTGALATAGYGTALGVIR</td>\n",
       "      <td>2</td>\n",
       "      <td>15</td>\n",
       "      <td>target</td>\n",
       "    </tr>\n",
       "    <tr>\n",
       "      <th>163771</th>\n",
       "      <td>VTVLTHCNTGALATAGYGTALGVIR</td>\n",
       "      <td>2</td>\n",
       "      <td>9</td>\n",
       "      <td>decoy</td>\n",
       "    </tr>\n",
       "    <tr>\n",
       "      <th>189035</th>\n",
       "      <td>VTVLTHCNTGALATAGYGTALGVIR</td>\n",
       "      <td>2</td>\n",
       "      <td>25</td>\n",
       "      <td>decoy</td>\n",
       "    </tr>\n",
       "    <tr>\n",
       "      <th>213961</th>\n",
       "      <td>VTVLTHCNTGALATAGYGTALGVIR</td>\n",
       "      <td>2</td>\n",
       "      <td>24</td>\n",
       "      <td>target</td>\n",
       "    </tr>\n",
       "    <tr>\n",
       "      <th>260385</th>\n",
       "      <td>VTVLTHCNTGALATAGYGTALGVIR</td>\n",
       "      <td>2</td>\n",
       "      <td>27</td>\n",
       "      <td>decoy</td>\n",
       "    </tr>\n",
       "    <tr>\n",
       "      <th>303223</th>\n",
       "      <td>VTVLTHCNTGALATAGYGTALGVIR</td>\n",
       "      <td>2</td>\n",
       "      <td>20</td>\n",
       "      <td>decoy</td>\n",
       "    </tr>\n",
       "    <tr>\n",
       "      <th>326406</th>\n",
       "      <td>VTVLTHCNTGALATAGYGTALGVIR</td>\n",
       "      <td>2</td>\n",
       "      <td>29</td>\n",
       "      <td>decoy</td>\n",
       "    </tr>\n",
       "    <tr>\n",
       "      <th>412469</th>\n",
       "      <td>VTVLTHCNTGALATAGYGTALGVIR</td>\n",
       "      <td>2</td>\n",
       "      <td>14</td>\n",
       "      <td>target</td>\n",
       "    </tr>\n",
       "    <tr>\n",
       "      <th>437396</th>\n",
       "      <td>VTVLTHCNTGALATAGYGTALGVIR</td>\n",
       "      <td>2</td>\n",
       "      <td>18</td>\n",
       "      <td>decoy</td>\n",
       "    </tr>\n",
       "    <tr>\n",
       "      <th>505770</th>\n",
       "      <td>VTVLTHCNTGALATAGYGTALGVIR</td>\n",
       "      <td>2</td>\n",
       "      <td>10</td>\n",
       "      <td>target</td>\n",
       "    </tr>\n",
       "    <tr>\n",
       "      <th>551206</th>\n",
       "      <td>VTVLTHCNTGALATAGYGTALGVIR</td>\n",
       "      <td>2</td>\n",
       "      <td>30</td>\n",
       "      <td>target</td>\n",
       "    </tr>\n",
       "    <tr>\n",
       "      <th>576127</th>\n",
       "      <td>VTVLTHCNTGALATAGYGTALGVIR</td>\n",
       "      <td>2</td>\n",
       "      <td>26</td>\n",
       "      <td>decoy</td>\n",
       "    </tr>\n",
       "    <tr>\n",
       "      <th>621997</th>\n",
       "      <td>VTVLTHCNTGALATAGYGTALGVIR</td>\n",
       "      <td>2</td>\n",
       "      <td>0</td>\n",
       "      <td>target</td>\n",
       "    </tr>\n",
       "    <tr>\n",
       "      <th>646559</th>\n",
       "      <td>VTVLTHCNTGALATAGYGTALGVIR</td>\n",
       "      <td>2</td>\n",
       "      <td>11</td>\n",
       "      <td>decoy</td>\n",
       "    </tr>\n",
       "    <tr>\n",
       "      <th>672076</th>\n",
       "      <td>VTVLTHCNTGALATAGYGTALGVIR</td>\n",
       "      <td>2</td>\n",
       "      <td>22</td>\n",
       "      <td>decoy</td>\n",
       "    </tr>\n",
       "    <tr>\n",
       "      <th>697198</th>\n",
       "      <td>VTVLTHCNTGALATAGYGTALGVIR</td>\n",
       "      <td>2</td>\n",
       "      <td>21</td>\n",
       "      <td>decoy</td>\n",
       "    </tr>\n",
       "    <tr>\n",
       "      <th>720730</th>\n",
       "      <td>VTVLTHCNTGALATAGYGTALGVIR</td>\n",
       "      <td>2</td>\n",
       "      <td>13</td>\n",
       "      <td>target</td>\n",
       "    </tr>\n",
       "  </tbody>\n",
       "</table>\n",
       "</div>"
      ],
      "text/plain": [
       "                         sequence  charge  file_idx classed_as\n",
       "23682   VTVLTHCNTGALATAGYGTALGVIR       2        16      decoy\n",
       "48379   VTVLTHCNTGALATAGYGTALGVIR       2        28     target\n",
       "138789  VTVLTHCNTGALATAGYGTALGVIR       2        15     target\n",
       "163771  VTVLTHCNTGALATAGYGTALGVIR       2         9      decoy\n",
       "189035  VTVLTHCNTGALATAGYGTALGVIR       2        25      decoy\n",
       "213961  VTVLTHCNTGALATAGYGTALGVIR       2        24     target\n",
       "260385  VTVLTHCNTGALATAGYGTALGVIR       2        27      decoy\n",
       "303223  VTVLTHCNTGALATAGYGTALGVIR       2        20      decoy\n",
       "326406  VTVLTHCNTGALATAGYGTALGVIR       2        29      decoy\n",
       "412469  VTVLTHCNTGALATAGYGTALGVIR       2        14     target\n",
       "437396  VTVLTHCNTGALATAGYGTALGVIR       2        18      decoy\n",
       "505770  VTVLTHCNTGALATAGYGTALGVIR       2        10     target\n",
       "551206  VTVLTHCNTGALATAGYGTALGVIR       2        30     target\n",
       "576127  VTVLTHCNTGALATAGYGTALGVIR       2        26      decoy\n",
       "621997  VTVLTHCNTGALATAGYGTALGVIR       2         0     target\n",
       "646559  VTVLTHCNTGALATAGYGTALGVIR       2        11      decoy\n",
       "672076  VTVLTHCNTGALATAGYGTALGVIR       2        22      decoy\n",
       "697198  VTVLTHCNTGALATAGYGTALGVIR       2        21      decoy\n",
       "720730  VTVLTHCNTGALATAGYGTALGVIR       2        13     target"
      ]
     },
     "execution_count": 14,
     "metadata": {},
     "output_type": "execute_result"
    }
   ],
   "source": [
    "df = yhe_only_df[(yhe_only_df.sequence == 'VTVLTHCNTGALATAGYGTALGVIR') & (yhe_only_df.charge == 2)][['sequence','charge','file_idx','classed_as']]\n",
    "df"
   ]
  },
  {
   "cell_type": "code",
   "execution_count": 15,
   "metadata": {},
   "outputs": [
    {
     "data": {
      "text/plain": [
       "19"
      ]
     },
     "execution_count": 15,
     "metadata": {},
     "output_type": "execute_result"
    }
   ],
   "source": [
    "len(df)"
   ]
  },
  {
   "cell_type": "code",
   "execution_count": 16,
   "metadata": {},
   "outputs": [
    {
     "name": "stdout",
     "output_type": "stream",
     "text": [
      "there are 27265 unique extracted sequences.\n",
      "38.0% of values are missing across the experiment.\n"
     ]
    }
   ],
   "source": [
    "# display the number of missing values across the experiment\n",
    "print(\"there are {} unique extracted sequences.\".format(len(yhe_only_df['sequence'].unique())))\n",
    "yhe_sequence_occurences_df['missing_files'] = number_of_yhe_runs_in_experiment - yhe_sequence_occurences_df.number_of_runs_extracted\n",
    "proportion_of_missing_values = yhe_sequence_occurences_df.missing_files.sum() / (len(yhe_sequence_occurences_df) * number_of_yhe_runs_in_experiment)\n",
    "print(\"{}% of values are missing across the experiment.\".format(round(proportion_of_missing_values*100)))"
   ]
  },
  {
   "cell_type": "code",
   "execution_count": 17,
   "metadata": {},
   "outputs": [
    {
     "data": {
      "text/plain": [
       "21"
      ]
     },
     "execution_count": 17,
     "metadata": {},
     "output_type": "execute_result"
    }
   ],
   "source": [
    "yhe_sequence_occurences_df.number_of_runs_extracted.max()"
   ]
  },
  {
   "cell_type": "code",
   "execution_count": 18,
   "metadata": {},
   "outputs": [],
   "source": [
    "human_only_df = sequences_df[(sequences_df.group == 'YHE010')]"
   ]
  },
  {
   "cell_type": "code",
   "execution_count": 19,
   "metadata": {},
   "outputs": [],
   "source": [
    "# count how many runs each sequence/charge was extracted from\n",
    "sequence_occurences_l = []\n",
    "for group_name,group_df in human_only_df.groupby(['sequence','charge'], as_index=False):\n",
    "    sequence_occurences_l.append((group_name, len(group_df), group_name[0], group_name[1], group_df.iloc[0].human))\n",
    "human_sequence_occurences_df = pd.DataFrame(sequence_occurences_l, columns=['sequence_charge','number_of_runs_extracted','sequence','charge','human'])\n"
   ]
  },
  {
   "cell_type": "code",
   "execution_count": 20,
   "metadata": {},
   "outputs": [
    {
     "data": {
      "text/html": [
       "<div>\n",
       "<style scoped>\n",
       "    .dataframe tbody tr th:only-of-type {\n",
       "        vertical-align: middle;\n",
       "    }\n",
       "\n",
       "    .dataframe tbody tr th {\n",
       "        vertical-align: top;\n",
       "    }\n",
       "\n",
       "    .dataframe thead th {\n",
       "        text-align: right;\n",
       "    }\n",
       "</style>\n",
       "<table border=\"1\" class=\"dataframe\">\n",
       "  <thead>\n",
       "    <tr style=\"text-align: right;\">\n",
       "      <th></th>\n",
       "      <th>sequence_charge</th>\n",
       "      <th>number_of_runs_extracted</th>\n",
       "      <th>sequence</th>\n",
       "      <th>charge</th>\n",
       "      <th>human</th>\n",
       "    </tr>\n",
       "  </thead>\n",
       "  <tbody>\n",
       "    <tr>\n",
       "      <th>12757</th>\n",
       "      <td>(LHISPSNMTNQNTPEYMEK, 2)</td>\n",
       "      <td>10</td>\n",
       "      <td>LHISPSNMTNQNTPEYMEK</td>\n",
       "      <td>2</td>\n",
       "      <td>1</td>\n",
       "    </tr>\n",
       "    <tr>\n",
       "      <th>13120</th>\n",
       "      <td>(LLLPVAEYFSGVQLPPHLSPFVTEK, 3)</td>\n",
       "      <td>1</td>\n",
       "      <td>LLLPVAEYFSGVQLPPHLSPFVTEK</td>\n",
       "      <td>3</td>\n",
       "      <td>1</td>\n",
       "    </tr>\n",
       "    <tr>\n",
       "      <th>23990</th>\n",
       "      <td>(VYCENQPMLPIGLSDIPGEAMVK, 2)</td>\n",
       "      <td>10</td>\n",
       "      <td>VYCENQPMLPIGLSDIPGEAMVK</td>\n",
       "      <td>2</td>\n",
       "      <td>1</td>\n",
       "    </tr>\n",
       "    <tr>\n",
       "      <th>7151</th>\n",
       "      <td>(FSGAMDGAPPGLGAPLGAAAAYR, 3)</td>\n",
       "      <td>8</td>\n",
       "      <td>FSGAMDGAPPGLGAPLGAAAAYR</td>\n",
       "      <td>3</td>\n",
       "      <td>1</td>\n",
       "    </tr>\n",
       "    <tr>\n",
       "      <th>671</th>\n",
       "      <td>(AGQAVDDFIEK, 1)</td>\n",
       "      <td>2</td>\n",
       "      <td>AGQAVDDFIEK</td>\n",
       "      <td>1</td>\n",
       "      <td>1</td>\n",
       "    </tr>\n",
       "    <tr>\n",
       "      <th>18151</th>\n",
       "      <td>(Q[-17.0265]SAGGAAIIHFLGGIHEIYFPYVLMNPR, 3)</td>\n",
       "      <td>10</td>\n",
       "      <td>Q[-17.0265]SAGGAAIIHFLGGIHEIYFPYVLMNPR</td>\n",
       "      <td>3</td>\n",
       "      <td>0</td>\n",
       "    </tr>\n",
       "    <tr>\n",
       "      <th>15978</th>\n",
       "      <td>(NLSTLQLM[15.9949]GSYTEIR, 2)</td>\n",
       "      <td>10</td>\n",
       "      <td>NLSTLQLM[15.9949]GSYTEIR</td>\n",
       "      <td>2</td>\n",
       "      <td>1</td>\n",
       "    </tr>\n",
       "    <tr>\n",
       "      <th>22780</th>\n",
       "      <td>(VGWSTMQASLDLGTDK, 2)</td>\n",
       "      <td>10</td>\n",
       "      <td>VGWSTMQASLDLGTDK</td>\n",
       "      <td>2</td>\n",
       "      <td>1</td>\n",
       "    </tr>\n",
       "    <tr>\n",
       "      <th>13518</th>\n",
       "      <td>(LPDNVTFEEGALIEPLSVGIHACR, 3)</td>\n",
       "      <td>5</td>\n",
       "      <td>LPDNVTFEEGALIEPLSVGIHACR</td>\n",
       "      <td>3</td>\n",
       "      <td>1</td>\n",
       "    </tr>\n",
       "    <tr>\n",
       "      <th>784</th>\n",
       "      <td>(AIDYVEATANSHSR, 2)</td>\n",
       "      <td>8</td>\n",
       "      <td>AIDYVEATANSHSR</td>\n",
       "      <td>2</td>\n",
       "      <td>0</td>\n",
       "    </tr>\n",
       "  </tbody>\n",
       "</table>\n",
       "</div>"
      ],
      "text/plain": [
       "                                   sequence_charge  number_of_runs_extracted  \\\n",
       "12757                     (LHISPSNMTNQNTPEYMEK, 2)                        10   \n",
       "13120               (LLLPVAEYFSGVQLPPHLSPFVTEK, 3)                         1   \n",
       "23990                 (VYCENQPMLPIGLSDIPGEAMVK, 2)                        10   \n",
       "7151                  (FSGAMDGAPPGLGAPLGAAAAYR, 3)                         8   \n",
       "671                               (AGQAVDDFIEK, 1)                         2   \n",
       "18151  (Q[-17.0265]SAGGAAIIHFLGGIHEIYFPYVLMNPR, 3)                        10   \n",
       "15978                (NLSTLQLM[15.9949]GSYTEIR, 2)                        10   \n",
       "22780                        (VGWSTMQASLDLGTDK, 2)                        10   \n",
       "13518                (LPDNVTFEEGALIEPLSVGIHACR, 3)                         5   \n",
       "784                            (AIDYVEATANSHSR, 2)                         8   \n",
       "\n",
       "                                     sequence  charge  human  \n",
       "12757                     LHISPSNMTNQNTPEYMEK       2      1  \n",
       "13120               LLLPVAEYFSGVQLPPHLSPFVTEK       3      1  \n",
       "23990                 VYCENQPMLPIGLSDIPGEAMVK       2      1  \n",
       "7151                  FSGAMDGAPPGLGAPLGAAAAYR       3      1  \n",
       "671                               AGQAVDDFIEK       1      1  \n",
       "18151  Q[-17.0265]SAGGAAIIHFLGGIHEIYFPYVLMNPR       3      0  \n",
       "15978                NLSTLQLM[15.9949]GSYTEIR       2      1  \n",
       "22780                        VGWSTMQASLDLGTDK       2      1  \n",
       "13518                LPDNVTFEEGALIEPLSVGIHACR       3      1  \n",
       "784                            AIDYVEATANSHSR       2      0  "
      ]
     },
     "execution_count": 20,
     "metadata": {},
     "output_type": "execute_result"
    }
   ],
   "source": [
    "human_sequence_occurences_df.sample(n=10)"
   ]
  },
  {
   "cell_type": "code",
   "execution_count": 21,
   "metadata": {},
   "outputs": [
    {
     "data": {
      "text/plain": [
       "25309"
      ]
     },
     "execution_count": 21,
     "metadata": {},
     "output_type": "execute_result"
    }
   ],
   "source": [
    "len(human_sequence_occurences_df)"
   ]
  },
  {
   "cell_type": "code",
   "execution_count": 22,
   "metadata": {},
   "outputs": [
    {
     "data": {
      "text/plain": [
       "0.1297562132047888"
      ]
     },
     "execution_count": 22,
     "metadata": {},
     "output_type": "execute_result"
    }
   ],
   "source": [
    "# proportion of false positives i.e. non-human peptides found in the human-only runs\n",
    "len(human_sequence_occurences_df[(human_sequence_occurences_df.human == 0)]) / len(human_sequence_occurences_df)"
   ]
  },
  {
   "cell_type": "code",
   "execution_count": 23,
   "metadata": {},
   "outputs": [
    {
     "name": "stdout",
     "output_type": "stream",
     "text": [
      "there are 10 human-only runs in the experiment\n"
     ]
    }
   ],
   "source": [
    "number_of_human_runs_in_experiment = len(human_only_df.file_idx.unique())\n",
    "print('there are {} human-only runs in the experiment'.format(number_of_human_runs_in_experiment))"
   ]
  },
  {
   "cell_type": "code",
   "execution_count": 24,
   "metadata": {},
   "outputs": [
    {
     "name": "stdout",
     "output_type": "stream",
     "text": [
      "there are 23414 unique extracted sequences.\n",
      "21.0% of values are missing across the experiment.\n"
     ]
    }
   ],
   "source": [
    "# display the number of missing values across the experiment\n",
    "print(\"there are {} unique extracted sequences.\".format(len(human_only_df['sequence'].unique())))\n",
    "human_sequence_occurences_df['missing_files'] = number_of_human_runs_in_experiment - human_sequence_occurences_df.number_of_runs_extracted\n",
    "proportion_of_missing_values = human_sequence_occurences_df.missing_files.sum() / (len(human_sequence_occurences_df) * number_of_human_runs_in_experiment)\n",
    "print(\"{}% of values are missing across the experiment.\".format(round(proportion_of_missing_values*100)))"
   ]
  },
  {
   "cell_type": "code",
   "execution_count": null,
   "metadata": {},
   "outputs": [],
   "source": []
  }
 ],
 "metadata": {
  "kernelspec": {
   "display_name": "Python 3",
   "language": "python",
   "name": "python3"
  },
  "language_info": {
   "codemirror_mode": {
    "name": "ipython",
    "version": 3
   },
   "file_extension": ".py",
   "mimetype": "text/x-python",
   "name": "python",
   "nbconvert_exporter": "python",
   "pygments_lexer": "ipython3",
   "version": "3.6.8"
  }
 },
 "nbformat": 4,
 "nbformat_minor": 2
}
