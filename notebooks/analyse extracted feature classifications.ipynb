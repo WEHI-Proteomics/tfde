{
 "cells": [
  {
   "cell_type": "code",
   "execution_count": 1,
   "metadata": {},
   "outputs": [],
   "source": [
    "import pandas as pd\n",
    "import numpy as np\n",
    "import sqlite3\n",
    "import matplotlib.pyplot as plt"
   ]
  },
  {
   "cell_type": "code",
   "execution_count": 2,
   "metadata": {},
   "outputs": [],
   "source": [
    "EXTRACTED_FEATURES_DB_NAME = '/data/experiments/YHE/extracted-features/extracted-features.sqlite'"
   ]
  },
  {
   "cell_type": "code",
   "execution_count": 3,
   "metadata": {},
   "outputs": [
    {
     "ename": "OperationalError",
     "evalue": "unable to open database file",
     "output_type": "error",
     "traceback": [
      "\u001b[0;31m---------------------------------------------------------------------------\u001b[0m",
      "\u001b[0;31mOperationalError\u001b[0m                          Traceback (most recent call last)",
      "\u001b[0;32m<ipython-input-3-71ea4822b153>\u001b[0m in \u001b[0;36m<module>\u001b[0;34m\u001b[0m\n\u001b[0;32m----> 1\u001b[0;31m \u001b[0mdb_conn\u001b[0m \u001b[0;34m=\u001b[0m \u001b[0msqlite3\u001b[0m\u001b[0;34m.\u001b[0m\u001b[0mconnect\u001b[0m\u001b[0;34m(\u001b[0m\u001b[0mEXTRACTED_FEATURES_DB_NAME\u001b[0m\u001b[0;34m)\u001b[0m\u001b[0;34m\u001b[0m\u001b[0;34m\u001b[0m\u001b[0m\n\u001b[0m\u001b[1;32m      2\u001b[0m \u001b[0msequences_df\u001b[0m \u001b[0;34m=\u001b[0m \u001b[0mpd\u001b[0m\u001b[0;34m.\u001b[0m\u001b[0mread_sql_query\u001b[0m\u001b[0;34m(\u001b[0m\u001b[0;34m\"select * from features\"\u001b[0m\u001b[0;34m,\u001b[0m \u001b[0mdb_conn\u001b[0m\u001b[0;34m)\u001b[0m\u001b[0;34m\u001b[0m\u001b[0;34m\u001b[0m\u001b[0m\n\u001b[1;32m      3\u001b[0m \u001b[0mdb_conn\u001b[0m\u001b[0;34m.\u001b[0m\u001b[0mclose\u001b[0m\u001b[0;34m(\u001b[0m\u001b[0;34m)\u001b[0m\u001b[0;34m\u001b[0m\u001b[0;34m\u001b[0m\u001b[0m\n",
      "\u001b[0;31mOperationalError\u001b[0m: unable to open database file"
     ]
    }
   ],
   "source": [
    "db_conn = sqlite3.connect(EXTRACTED_FEATURES_DB_NAME)\n",
    "sequences_df = pd.read_sql_query(\"select * from features\", db_conn)\n",
    "db_conn.close()"
   ]
  },
  {
   "cell_type": "code",
   "execution_count": null,
   "metadata": {},
<<<<<<< HEAD
   "outputs": [
    {
     "data": {
      "text/html": [
       "<div>\n",
       "<style scoped>\n",
       "    .dataframe tbody tr th:only-of-type {\n",
       "        vertical-align: middle;\n",
       "    }\n",
       "\n",
       "    .dataframe tbody tr th {\n",
       "        vertical-align: top;\n",
       "    }\n",
       "\n",
       "    .dataframe thead th {\n",
       "        text-align: right;\n",
       "    }\n",
       "</style>\n",
       "<table border=\"1\" class=\"dataframe\">\n",
       "  <thead>\n",
       "    <tr style=\"text-align: right;\">\n",
       "      <th></th>\n",
       "      <th>sequence</th>\n",
       "      <th>charge</th>\n",
       "      <th>run_name</th>\n",
       "      <th>number_of_runs_extracted</th>\n",
       "      <th>human</th>\n",
       "      <th>group</th>\n",
       "      <th>classed_as</th>\n",
       "    </tr>\n",
       "  </thead>\n",
       "  <tbody>\n",
       "    <tr>\n",
       "      <th>92315</th>\n",
       "      <td>FLDGDELTLADCNLLPK</td>\n",
       "      <td>2</td>\n",
       "      <td>YHE114_04_Slot1-1_1_3011</td>\n",
       "      <td>31</td>\n",
       "      <td>1</td>\n",
       "      <td>YHE114</td>\n",
       "      <td>target</td>\n",
       "    </tr>\n",
       "    <tr>\n",
       "      <th>610649</th>\n",
       "      <td>VVTTPAFMCETALHYIHDGIGAMVR</td>\n",
       "      <td>4</td>\n",
       "      <td>YHE114_08_Slot1-1_1_3015</td>\n",
       "      <td>29</td>\n",
       "      <td>1</td>\n",
       "      <td>YHE114</td>\n",
       "      <td>target</td>\n",
       "    </tr>\n",
       "    <tr>\n",
       "      <th>372605</th>\n",
       "      <td>ETAIELGYLTAEQFDEWVKPK</td>\n",
       "      <td>3</td>\n",
       "      <td>YHE114_06_Slot1-1_1_3013</td>\n",
       "      <td>31</td>\n",
       "      <td>1</td>\n",
       "      <td>YHE114</td>\n",
       "      <td>target</td>\n",
       "    </tr>\n",
       "    <tr>\n",
       "      <th>636745</th>\n",
       "      <td>VSDSGIVTLAYK</td>\n",
       "      <td>2</td>\n",
       "      <td>YHE010_04_Slot1-1_1_2989</td>\n",
       "      <td>31</td>\n",
       "      <td>0</td>\n",
       "      <td>YHE010</td>\n",
       "      <td>target</td>\n",
       "    </tr>\n",
       "    <tr>\n",
       "      <th>500998</th>\n",
       "      <td>AGYITPVPGGVGPMTVAMLMK</td>\n",
       "      <td>2</td>\n",
       "      <td>YHE114_11_Slot1-1_1_3043</td>\n",
       "      <td>31</td>\n",
       "      <td>1</td>\n",
       "      <td>YHE114</td>\n",
       "      <td>target</td>\n",
       "    </tr>\n",
       "  </tbody>\n",
       "</table>\n",
       "</div>"
      ],
      "text/plain": [
       "                         sequence  charge                  run_name  \\\n",
       "92315           FLDGDELTLADCNLLPK       2  YHE114_04_Slot1-1_1_3011   \n",
       "610649  VVTTPAFMCETALHYIHDGIGAMVR       4  YHE114_08_Slot1-1_1_3015   \n",
       "372605      ETAIELGYLTAEQFDEWVKPK       3  YHE114_06_Slot1-1_1_3013   \n",
       "636745               VSDSGIVTLAYK       2  YHE010_04_Slot1-1_1_2989   \n",
       "500998      AGYITPVPGGVGPMTVAMLMK       2  YHE114_11_Slot1-1_1_3043   \n",
       "\n",
       "        number_of_runs_extracted  human   group classed_as  \n",
       "92315                         31      1  YHE114     target  \n",
       "610649                        29      1  YHE114     target  \n",
       "372605                        31      1  YHE114     target  \n",
       "636745                        31      0  YHE010     target  \n",
       "500998                        31      1  YHE114     target  "
      ]
     },
     "execution_count": 4,
     "metadata": {},
     "output_type": "execute_result"
    }
   ],
=======
   "outputs": [],
>>>>>>> d3025c54a3826fb2e2afae6ac032fb65269cb6f0
   "source": [
    "sequences_df[['sequence','charge','run_name','number_of_runs_extracted','human','group','classed_as']].sample(n=5)"
   ]
  },
  {
   "cell_type": "code",
   "execution_count": null,
   "metadata": {},
   "outputs": [],
   "source": [
    "sequences_df['group'] = sequences_df.run_name.apply(lambda x: x.split('_')[0])"
   ]
  },
  {
   "cell_type": "code",
   "execution_count": null,
   "metadata": {},
<<<<<<< HEAD
   "outputs": [
    {
     "data": {
      "text/html": [
       "<div>\n",
       "<style scoped>\n",
       "    .dataframe tbody tr th:only-of-type {\n",
       "        vertical-align: middle;\n",
       "    }\n",
       "\n",
       "    .dataframe tbody tr th {\n",
       "        vertical-align: top;\n",
       "    }\n",
       "\n",
       "    .dataframe thead th {\n",
       "        text-align: right;\n",
       "    }\n",
       "</style>\n",
       "<table border=\"1\" class=\"dataframe\">\n",
       "  <thead>\n",
       "    <tr style=\"text-align: right;\">\n",
       "      <th></th>\n",
       "      <th>sequence</th>\n",
       "      <th>charge</th>\n",
       "      <th>run_name</th>\n",
       "      <th>number_of_runs_extracted</th>\n",
       "      <th>human</th>\n",
       "      <th>group</th>\n",
       "    </tr>\n",
       "  </thead>\n",
       "  <tbody>\n",
       "    <tr>\n",
       "      <th>247966</th>\n",
       "      <td>QSTSFLVLQEILESEEK</td>\n",
       "      <td>2</td>\n",
       "      <td>YHE211_03_Slot1-1_1_2999</td>\n",
       "      <td>31</td>\n",
       "      <td>1</td>\n",
       "      <td>YHE211</td>\n",
       "    </tr>\n",
       "    <tr>\n",
       "      <th>756225</th>\n",
       "      <td>DIESHAENK</td>\n",
       "      <td>1</td>\n",
       "      <td>YHE211_05_Slot1-1_1_3001</td>\n",
       "      <td>31</td>\n",
       "      <td>1</td>\n",
       "      <td>YHE211</td>\n",
       "    </tr>\n",
       "    <tr>\n",
       "      <th>21693</th>\n",
       "      <td>SALTEMCVLYDVLSIVR</td>\n",
       "      <td>2</td>\n",
       "      <td>YHE114_02_Slot1-1_1_3009</td>\n",
       "      <td>26</td>\n",
       "      <td>1</td>\n",
       "      <td>YHE114</td>\n",
       "    </tr>\n",
       "    <tr>\n",
       "      <th>331669</th>\n",
       "      <td>SIPLDEGEDEAQR</td>\n",
       "      <td>2</td>\n",
       "      <td>YHE010_11_Slot1-1_1_3041</td>\n",
       "      <td>31</td>\n",
       "      <td>1</td>\n",
       "      <td>YHE010</td>\n",
       "    </tr>\n",
       "    <tr>\n",
       "      <th>290913</th>\n",
       "      <td>FADTVGIVVEQDRPGGENDK</td>\n",
       "      <td>2</td>\n",
       "      <td>YHE114_09_Slot1-1_1_3016</td>\n",
       "      <td>23</td>\n",
       "      <td>0</td>\n",
       "      <td>YHE114</td>\n",
       "    </tr>\n",
       "  </tbody>\n",
       "</table>\n",
       "</div>"
      ],
      "text/plain": [
       "                    sequence  charge                  run_name  \\\n",
       "247966     QSTSFLVLQEILESEEK       2  YHE211_03_Slot1-1_1_2999   \n",
       "756225             DIESHAENK       1  YHE211_05_Slot1-1_1_3001   \n",
       "21693      SALTEMCVLYDVLSIVR       2  YHE114_02_Slot1-1_1_3009   \n",
       "331669         SIPLDEGEDEAQR       2  YHE010_11_Slot1-1_1_3041   \n",
       "290913  FADTVGIVVEQDRPGGENDK       2  YHE114_09_Slot1-1_1_3016   \n",
       "\n",
       "        number_of_runs_extracted  human   group  \n",
       "247966                        31      1  YHE211  \n",
       "756225                        31      1  YHE211  \n",
       "21693                         26      1  YHE114  \n",
       "331669                        31      1  YHE010  \n",
       "290913                        23      0  YHE114  "
      ]
     },
     "execution_count": 6,
     "metadata": {},
     "output_type": "execute_result"
    }
   ],
=======
   "outputs": [],
>>>>>>> d3025c54a3826fb2e2afae6ac032fb65269cb6f0
   "source": [
    "sequences_df[['sequence','charge','run_name','number_of_runs_extracted','human','group']].sample(n=5)"
   ]
  },
  {
   "cell_type": "code",
   "execution_count": null,
   "metadata": {},
   "outputs": [],
   "source": [
    "yhe_only_df = sequences_df[(sequences_df.group == 'YHE211') | (sequences_df.group == 'YHE114')]\n",
    "yhe_only_targets_df = yhe_only_df[(yhe_only_df.classed_as == 'target')]"
   ]
  },
  {
   "cell_type": "code",
   "execution_count": null,
   "metadata": {},
   "outputs": [],
   "source": [
    "number_of_yhe_runs_in_experiment = len(yhe_only_df.file_idx.unique())\n",
    "print('there are {} runs in the experiment'.format(number_of_yhe_runs_in_experiment))"
   ]
  },
  {
   "cell_type": "markdown",
   "metadata": {},
   "source": [
    "#### analyse the rate of successful extractions of peptides in the library"
   ]
  },
  {
   "cell_type": "code",
<<<<<<< HEAD
   "execution_count": 9,
=======
   "execution_count": null,
>>>>>>> d3025c54a3826fb2e2afae6ac032fb65269cb6f0
   "metadata": {},
   "outputs": [],
   "source": [
    "# count how many runs each sequence/charge was extracted from\n",
    "sequence_occurences_l = []\n",
    "for group_name,group_df in yhe_only_df.groupby(['sequence','charge'], as_index=False):\n",
    "    sequence_occurences_l.append((group_name[0], group_name[1], len(group_df.file_idx.unique())))\n",
    "yhe_sequence_occurences_df = pd.DataFrame(sequence_occurences_l, columns=['sequence','charge','number_of_runs_extracted'])"
   ]
  },
  {
   "cell_type": "code",
<<<<<<< HEAD
   "execution_count": 10,
   "metadata": {},
   "outputs": [
    {
     "name": "stdout",
     "output_type": "stream",
     "text": [
      "7.0% of extractions missing across the experiment.\n"
     ]
    }
   ],
=======
   "execution_count": null,
   "metadata": {},
   "outputs": [],
>>>>>>> d3025c54a3826fb2e2afae6ac032fb65269cb6f0
   "source": [
    "# display the number of missing extractions across the experiment\n",
    "yhe_sequence_occurences_df['missing_files'] = number_of_yhe_runs_in_experiment - yhe_sequence_occurences_df.number_of_runs_extracted\n",
    "proportion_of_missing_extractions = yhe_sequence_occurences_df.missing_files.sum() / (len(yhe_sequence_occurences_df) * number_of_yhe_runs_in_experiment)\n",
    "print(\"{}% of extractions missing across the experiment.\".format(round(proportion_of_missing_extractions*100)))"
   ]
  },
  {
   "cell_type": "code",
<<<<<<< HEAD
   "execution_count": 11,
   "metadata": {},
   "outputs": [
    {
     "data": {
      "image/png": "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\n",
      "text/plain": [
       "<Figure size 1080x576 with 1 Axes>"
      ]
     },
     "metadata": {
      "needs_background": "light"
     },
     "output_type": "display_data"
    }
   ],
=======
   "execution_count": null,
   "metadata": {},
   "outputs": [],
>>>>>>> d3025c54a3826fb2e2afae6ac032fb65269cb6f0
   "source": [
    "f, ax1 = plt.subplots()\n",
    "f.set_figheight(8)\n",
    "f.set_figwidth(15)\n",
    "\n",
    "plt.margins(0.06)\n",
    "plt.suptitle('Distribution of sequence identifications extracted from the YHE runs')\n",
    "# plt.title('total {} modified peptide sequences'.format(modified_sequences_count))\n",
    "\n",
    "counts = np.bincount(yhe_sequence_occurences_df.number_of_runs_extracted)\n",
    "ax1.bar(range(22), counts, width=0.8, align='center')\n",
    "plt.xlabel('number of files in which a modified sequence-charge was extracted')\n",
    "plt.ylabel('frequency')\n",
    "ax1.set(xticks=range(1,22), xlim=[0, 22])\n",
    "# plt.ylim((0,20000))\n",
    "\n",
    "plt.show()"
   ]
  },
  {
   "cell_type": "code",
<<<<<<< HEAD
   "execution_count": 12,
   "metadata": {},
   "outputs": [
    {
     "data": {
      "text/plain": [
       "Index(['sequence', 'charge', 'file_idx', 'peak_idx', 'target_coords',\n",
       "       'theoretical_mz', 'q_value', 'delta_mz_ppm', 'delta_rt', 'delta_scan',\n",
       "       'fwhm_rt_0', 'fwhm_scan_0', 'geometric_mean_0_1',\n",
       "       'geometric_mean_0_1_2', 'isotope_0_1_mz_delta_ppm',\n",
       "       'isotope_0_1_rt_delta', 'isotope_0_1_scan_delta',\n",
       "       'isotope_0_2_mz_delta_ppm', 'isotope_0_2_rt_delta',\n",
       "       'isotope_0_2_scan_delta', 'monoisotope_auc_over_isotope_peak_auc_sum',\n",
       "       'monoisotope_int_over_isotope_peak_int_sum', 'mz_delta_ppm_std_dev_0',\n",
       "       'mz_delta_ppm_std_dev_1', 'number_of_frames_0', 'number_of_frames_1',\n",
       "       'number_of_frames_2', 'number_of_missing_frames_0',\n",
       "       'number_of_missing_frames_1', 'number_of_missing_frames_2',\n",
       "       'peak_base_width_rt_0', 'peak_base_width_scan_0', 'r_squared_phr',\n",
       "       'rt_isotope_correlation', 'rt_isotope_cv', 'rt_peak_symmetry_0',\n",
       "       'rt_peak_symmetry_1', 'rt_peak_symmetry_2', 'scan_isotope_correlation',\n",
       "       'scan_isotope_cv', 'scan_peak_symmetry_0', 'scan_peak_symmetry_1',\n",
       "       'scan_peak_symmetry_2', 'classed_as', 'prob_decoy', 'prob_target',\n",
       "       'inferred', 'intensity', 'isotope_1_filtered_points_l',\n",
       "       'isotope_1_rt_bounds', 'isotope_1_scan_bounds',\n",
       "       'isotope_2_filtered_points_l', 'isotope_2_rt_bounds',\n",
       "       'isotope_2_scan_bounds', 'isotope_idx_not_in_saturation',\n",
       "       'isotope_intensities_l', 'mono_filtered_points_l', 'mono_rt_bounds',\n",
       "       'mono_scan_bounds', 'monoisotopic_mass', 'monoisotopic_mz_centroid',\n",
       "       'monoisotopic_mz_delta_ppm', 'number_of_isotopes',\n",
       "       'peak_proportion_intensity', 'peak_proportions', 'rt_apex', 'scan_apex',\n",
       "       'run_name', 'group', 'human', 'number_of_runs_extracted'],\n",
       "      dtype='object')"
      ]
     },
     "execution_count": 12,
     "metadata": {},
     "output_type": "execute_result"
    }
   ],
   "source": [
    "yhe_only_targets_df.columns"
   ]
  },
  {
   "cell_type": "code",
   "execution_count": 13,
=======
   "execution_count": null,
>>>>>>> d3025c54a3826fb2e2afae6ac032fb65269cb6f0
   "metadata": {},
   "outputs": [],
   "source": [
    "# count how many runs each sequence/charge was extracted from and classified as a target\n",
    "sequence_occurences_l = []\n",
    "for group_name,group_df in yhe_only_targets_df.groupby(['sequence','charge'], as_index=False):\n",
    "    sequence_occurences_l.append((group_name, len(group_df.file_idx.unique()), group_name[0], group_name[1]))\n",
    "yhe_sequence_occurences_df = pd.DataFrame(sequence_occurences_l, columns=['sequence_charge','number_of_runs_targets_extracted','sequence','charge'])"
   ]
  },
  {
   "cell_type": "code",
<<<<<<< HEAD
   "execution_count": 14,
   "metadata": {},
   "outputs": [
    {
     "name": "stdout",
     "output_type": "stream",
     "text": [
      "18.0% of values are missing across the YHE-only runs.\n"
     ]
    }
   ],
=======
   "execution_count": null,
   "metadata": {},
   "outputs": [],
>>>>>>> d3025c54a3826fb2e2afae6ac032fb65269cb6f0
   "source": [
    "# display the number of missing values across the experiment\n",
    "yhe_sequence_occurences_df['missing_files'] = number_of_yhe_runs_in_experiment - yhe_sequence_occurences_df.number_of_runs_targets_extracted\n",
    "proportion_of_missing_values = yhe_sequence_occurences_df.missing_files.sum() / (len(yhe_sequence_occurences_df) * number_of_yhe_runs_in_experiment)\n",
    "print(\"{}% of values are missing across the YHE-only runs.\".format(round(proportion_of_missing_values*100)))"
   ]
  },
  {
   "cell_type": "code",
<<<<<<< HEAD
   "execution_count": 15,
   "metadata": {},
   "outputs": [
    {
     "data": {
      "text/html": [
       "<div>\n",
       "<style scoped>\n",
       "    .dataframe tbody tr th:only-of-type {\n",
       "        vertical-align: middle;\n",
       "    }\n",
       "\n",
       "    .dataframe tbody tr th {\n",
       "        vertical-align: top;\n",
       "    }\n",
       "\n",
       "    .dataframe thead th {\n",
       "        text-align: right;\n",
       "    }\n",
       "</style>\n",
       "<table border=\"1\" class=\"dataframe\">\n",
       "  <thead>\n",
       "    <tr style=\"text-align: right;\">\n",
       "      <th></th>\n",
       "      <th>sequence</th>\n",
       "      <th>charge</th>\n",
       "      <th>number_of_runs_targets_extracted</th>\n",
       "      <th>missing_files</th>\n",
       "    </tr>\n",
       "  </thead>\n",
       "  <tbody>\n",
       "    <tr>\n",
       "      <th>2832</th>\n",
       "      <td>CSVCGGAIMPEPGQEETVR</td>\n",
       "      <td>2</td>\n",
       "      <td>21</td>\n",
       "      <td>0</td>\n",
       "    </tr>\n",
       "    <tr>\n",
       "      <th>20247</th>\n",
       "      <td>QITQVYGFYDECQTK</td>\n",
       "      <td>2</td>\n",
       "      <td>3</td>\n",
       "      <td>18</td>\n",
       "    </tr>\n",
       "    <tr>\n",
       "      <th>22739</th>\n",
       "      <td>SGAAQGLAEVMAGLGVEK</td>\n",
       "      <td>2</td>\n",
       "      <td>21</td>\n",
       "      <td>0</td>\n",
       "    </tr>\n",
       "    <tr>\n",
       "      <th>3315</th>\n",
       "      <td>DENQHSNASQSLCDIIR</td>\n",
       "      <td>2</td>\n",
       "      <td>21</td>\n",
       "      <td>0</td>\n",
       "    </tr>\n",
       "    <tr>\n",
       "      <th>18687</th>\n",
       "      <td>NGASPNEVSSDGTTPLAIAK</td>\n",
       "      <td>2</td>\n",
       "      <td>21</td>\n",
       "      <td>0</td>\n",
       "    </tr>\n",
       "    <tr>\n",
       "      <th>25050</th>\n",
       "      <td>THNTLYAPEMLAK</td>\n",
       "      <td>2</td>\n",
       "      <td>21</td>\n",
       "      <td>0</td>\n",
       "    </tr>\n",
       "    <tr>\n",
       "      <th>10529</th>\n",
       "      <td>GVNLPGAAVDLPAVSEK</td>\n",
       "      <td>2</td>\n",
       "      <td>21</td>\n",
       "      <td>0</td>\n",
       "    </tr>\n",
       "    <tr>\n",
       "      <th>29874</th>\n",
       "      <td>YSQVLANGLDNK</td>\n",
       "      <td>2</td>\n",
       "      <td>21</td>\n",
       "      <td>0</td>\n",
       "    </tr>\n",
       "    <tr>\n",
       "      <th>9779</th>\n",
       "      <td>GLPVASVTSM[15.9949]EPLDLSGAR</td>\n",
       "      <td>2</td>\n",
       "      <td>21</td>\n",
       "      <td>0</td>\n",
       "    </tr>\n",
       "    <tr>\n",
       "      <th>20111</th>\n",
       "      <td>QGFHNQIIGANITNCK</td>\n",
       "      <td>2</td>\n",
       "      <td>21</td>\n",
       "      <td>0</td>\n",
       "    </tr>\n",
       "  </tbody>\n",
       "</table>\n",
       "</div>"
      ],
      "text/plain": [
       "                           sequence  charge  number_of_runs_targets_extracted  \\\n",
       "2832            CSVCGGAIMPEPGQEETVR       2                                21   \n",
       "20247               QITQVYGFYDECQTK       2                                 3   \n",
       "22739            SGAAQGLAEVMAGLGVEK       2                                21   \n",
       "3315              DENQHSNASQSLCDIIR       2                                21   \n",
       "18687          NGASPNEVSSDGTTPLAIAK       2                                21   \n",
       "25050                 THNTLYAPEMLAK       2                                21   \n",
       "10529             GVNLPGAAVDLPAVSEK       2                                21   \n",
       "29874                  YSQVLANGLDNK       2                                21   \n",
       "9779   GLPVASVTSM[15.9949]EPLDLSGAR       2                                21   \n",
       "20111              QGFHNQIIGANITNCK       2                                21   \n",
       "\n",
       "       missing_files  \n",
       "2832               0  \n",
       "20247             18  \n",
       "22739              0  \n",
       "3315               0  \n",
       "18687              0  \n",
       "25050              0  \n",
       "10529              0  \n",
       "29874              0  \n",
       "9779               0  \n",
       "20111              0  "
      ]
     },
     "execution_count": 15,
     "metadata": {},
     "output_type": "execute_result"
    }
   ],
=======
   "execution_count": null,
   "metadata": {},
   "outputs": [],
>>>>>>> d3025c54a3826fb2e2afae6ac032fb65269cb6f0
   "source": [
    "yhe_sequence_occurences_df.sample(n=10)[['sequence','charge','number_of_runs_targets_extracted','missing_files']]"
   ]
  },
  {
   "cell_type": "code",
<<<<<<< HEAD
   "execution_count": 16,
   "metadata": {},
   "outputs": [
    {
     "data": {
      "text/html": [
       "<div>\n",
       "<style scoped>\n",
       "    .dataframe tbody tr th:only-of-type {\n",
       "        vertical-align: middle;\n",
       "    }\n",
       "\n",
       "    .dataframe tbody tr th {\n",
       "        vertical-align: top;\n",
       "    }\n",
       "\n",
       "    .dataframe thead th {\n",
       "        text-align: right;\n",
       "    }\n",
       "</style>\n",
       "<table border=\"1\" class=\"dataframe\">\n",
       "  <thead>\n",
       "    <tr style=\"text-align: right;\">\n",
       "      <th></th>\n",
       "      <th>sequence</th>\n",
       "      <th>charge</th>\n",
       "      <th>file_idx</th>\n",
       "      <th>classed_as</th>\n",
       "      <th>prob_target</th>\n",
       "    </tr>\n",
       "  </thead>\n",
       "  <tbody>\n",
       "    <tr>\n",
       "      <th>5852</th>\n",
       "      <td>EHHIDPTAITR</td>\n",
       "      <td>2</td>\n",
       "      <td>16</td>\n",
       "      <td>target</td>\n",
       "      <td>0.998782</td>\n",
       "    </tr>\n",
       "    <tr>\n",
       "      <th>35214</th>\n",
       "      <td>EHHIDPTAITR</td>\n",
       "      <td>2</td>\n",
       "      <td>28</td>\n",
       "      <td>target</td>\n",
       "      <td>0.998985</td>\n",
       "    </tr>\n",
       "    <tr>\n",
       "      <th>90264</th>\n",
       "      <td>EHHIDPTAITR</td>\n",
       "      <td>2</td>\n",
       "      <td>23</td>\n",
       "      <td>target</td>\n",
       "      <td>0.749908</td>\n",
       "    </tr>\n",
       "    <tr>\n",
       "      <th>144927</th>\n",
       "      <td>EHHIDPTAITR</td>\n",
       "      <td>2</td>\n",
       "      <td>15</td>\n",
       "      <td>target</td>\n",
       "      <td>0.999727</td>\n",
       "    </tr>\n",
       "    <tr>\n",
       "      <th>174500</th>\n",
       "      <td>EHHIDPTAITR</td>\n",
       "      <td>2</td>\n",
       "      <td>9</td>\n",
       "      <td>target</td>\n",
       "      <td>0.998874</td>\n",
       "    </tr>\n",
       "    <tr>\n",
       "      <th>204060</th>\n",
       "      <td>EHHIDPTAITR</td>\n",
       "      <td>2</td>\n",
       "      <td>25</td>\n",
       "      <td>target</td>\n",
       "      <td>0.946110</td>\n",
       "    </tr>\n",
       "    <tr>\n",
       "      <th>233557</th>\n",
       "      <td>EHHIDPTAITR</td>\n",
       "      <td>2</td>\n",
       "      <td>24</td>\n",
       "      <td>target</td>\n",
       "      <td>0.996008</td>\n",
       "    </tr>\n",
       "    <tr>\n",
       "      <th>289452</th>\n",
       "      <td>EHHIDPTAITR</td>\n",
       "      <td>2</td>\n",
       "      <td>27</td>\n",
       "      <td>target</td>\n",
       "      <td>0.999569</td>\n",
       "    </tr>\n",
       "    <tr>\n",
       "      <th>343170</th>\n",
       "      <td>EHHIDPTAITR</td>\n",
       "      <td>2</td>\n",
       "      <td>20</td>\n",
       "      <td>target</td>\n",
       "      <td>0.871875</td>\n",
       "    </tr>\n",
       "    <tr>\n",
       "      <th>371629</th>\n",
       "      <td>EHHIDPTAITR</td>\n",
       "      <td>2</td>\n",
       "      <td>29</td>\n",
       "      <td>target</td>\n",
       "      <td>0.932164</td>\n",
       "    </tr>\n",
       "    <tr>\n",
       "      <th>476902</th>\n",
       "      <td>EHHIDPTAITR</td>\n",
       "      <td>2</td>\n",
       "      <td>14</td>\n",
       "      <td>target</td>\n",
       "      <td>0.986815</td>\n",
       "    </tr>\n",
       "    <tr>\n",
       "      <th>505983</th>\n",
       "      <td>EHHIDPTAITR</td>\n",
       "      <td>2</td>\n",
       "      <td>18</td>\n",
       "      <td>target</td>\n",
       "      <td>0.985943</td>\n",
       "    </tr>\n",
       "    <tr>\n",
       "      <th>535324</th>\n",
       "      <td>EHHIDPTAITR</td>\n",
       "      <td>2</td>\n",
       "      <td>8</td>\n",
       "      <td>target</td>\n",
       "      <td>0.999747</td>\n",
       "    </tr>\n",
       "    <tr>\n",
       "      <th>588237</th>\n",
       "      <td>EHHIDPTAITR</td>\n",
       "      <td>2</td>\n",
       "      <td>10</td>\n",
       "      <td>target</td>\n",
       "      <td>0.986583</td>\n",
       "    </tr>\n",
       "    <tr>\n",
       "      <th>644352</th>\n",
       "      <td>EHHIDPTAITR</td>\n",
       "      <td>2</td>\n",
       "      <td>30</td>\n",
       "      <td>target</td>\n",
       "      <td>0.999551</td>\n",
       "    </tr>\n",
       "    <tr>\n",
       "      <th>673561</th>\n",
       "      <td>EHHIDPTAITR</td>\n",
       "      <td>2</td>\n",
       "      <td>26</td>\n",
       "      <td>target</td>\n",
       "      <td>0.997696</td>\n",
       "    </tr>\n",
       "    <tr>\n",
       "      <th>728731</th>\n",
       "      <td>EHHIDPTAITR</td>\n",
       "      <td>2</td>\n",
       "      <td>0</td>\n",
       "      <td>target</td>\n",
       "      <td>0.999304</td>\n",
       "    </tr>\n",
       "    <tr>\n",
       "      <th>758472</th>\n",
       "      <td>EHHIDPTAITR</td>\n",
       "      <td>2</td>\n",
       "      <td>11</td>\n",
       "      <td>target</td>\n",
       "      <td>0.999549</td>\n",
       "    </tr>\n",
       "    <tr>\n",
       "      <th>787814</th>\n",
       "      <td>EHHIDPTAITR</td>\n",
       "      <td>2</td>\n",
       "      <td>22</td>\n",
       "      <td>target</td>\n",
       "      <td>0.999604</td>\n",
       "    </tr>\n",
       "    <tr>\n",
       "      <th>817742</th>\n",
       "      <td>EHHIDPTAITR</td>\n",
       "      <td>2</td>\n",
       "      <td>21</td>\n",
       "      <td>target</td>\n",
       "      <td>0.989977</td>\n",
       "    </tr>\n",
       "    <tr>\n",
       "      <th>847045</th>\n",
       "      <td>EHHIDPTAITR</td>\n",
       "      <td>2</td>\n",
       "      <td>13</td>\n",
       "      <td>target</td>\n",
       "      <td>0.968480</td>\n",
       "    </tr>\n",
       "  </tbody>\n",
       "</table>\n",
       "</div>"
      ],
      "text/plain": [
       "           sequence  charge  file_idx classed_as  prob_target\n",
       "5852    EHHIDPTAITR       2        16     target     0.998782\n",
       "35214   EHHIDPTAITR       2        28     target     0.998985\n",
       "90264   EHHIDPTAITR       2        23     target     0.749908\n",
       "144927  EHHIDPTAITR       2        15     target     0.999727\n",
       "174500  EHHIDPTAITR       2         9     target     0.998874\n",
       "204060  EHHIDPTAITR       2        25     target     0.946110\n",
       "233557  EHHIDPTAITR       2        24     target     0.996008\n",
       "289452  EHHIDPTAITR       2        27     target     0.999569\n",
       "343170  EHHIDPTAITR       2        20     target     0.871875\n",
       "371629  EHHIDPTAITR       2        29     target     0.932164\n",
       "476902  EHHIDPTAITR       2        14     target     0.986815\n",
       "505983  EHHIDPTAITR       2        18     target     0.985943\n",
       "535324  EHHIDPTAITR       2         8     target     0.999747\n",
       "588237  EHHIDPTAITR       2        10     target     0.986583\n",
       "644352  EHHIDPTAITR       2        30     target     0.999551\n",
       "673561  EHHIDPTAITR       2        26     target     0.997696\n",
       "728731  EHHIDPTAITR       2         0     target     0.999304\n",
       "758472  EHHIDPTAITR       2        11     target     0.999549\n",
       "787814  EHHIDPTAITR       2        22     target     0.999604\n",
       "817742  EHHIDPTAITR       2        21     target     0.989977\n",
       "847045  EHHIDPTAITR       2        13     target     0.968480"
      ]
     },
     "execution_count": 16,
     "metadata": {},
     "output_type": "execute_result"
    }
   ],
=======
   "execution_count": null,
   "metadata": {},
   "outputs": [],
>>>>>>> d3025c54a3826fb2e2afae6ac032fb65269cb6f0
   "source": [
    "df = yhe_only_df[(yhe_only_df.sequence == 'EHHIDPTAITR') & (yhe_only_df.charge == 2)][['sequence','charge','file_idx','classed_as','prob_target']]\n",
    "df"
   ]
  },
  {
   "cell_type": "code",
<<<<<<< HEAD
   "execution_count": 17,
   "metadata": {},
   "outputs": [
    {
     "data": {
      "text/plain": [
       "0.19080700123915736"
      ]
     },
     "execution_count": 17,
     "metadata": {},
     "output_type": "execute_result"
    }
   ],
=======
   "execution_count": null,
   "metadata": {},
   "outputs": [],
>>>>>>> d3025c54a3826fb2e2afae6ac032fb65269cb6f0
   "source": [
    "len(yhe_only_df[yhe_only_df.classed_as == 'decoy']) / len(yhe_only_df[yhe_only_df.classed_as == 'target'])"
   ]
  },
  {
   "cell_type": "code",
<<<<<<< HEAD
   "execution_count": 18,
   "metadata": {},
   "outputs": [
    {
     "data": {
      "text/plain": [
       "31659"
      ]
     },
     "execution_count": 18,
     "metadata": {},
     "output_type": "execute_result"
    }
   ],
=======
   "execution_count": null,
   "metadata": {},
   "outputs": [],
>>>>>>> d3025c54a3826fb2e2afae6ac032fb65269cb6f0
   "source": [
    "unique_sequences_yhe_df = yhe_only_df.drop_duplicates(subset=['sequence', 'charge'], keep='first', inplace=False)\n",
    "len(unique_sequences_yhe_df)"
   ]
  },
  {
   "cell_type": "code",
<<<<<<< HEAD
   "execution_count": 19,
   "metadata": {},
   "outputs": [
    {
     "data": {
      "text/plain": [
       "31905"
      ]
     },
     "execution_count": 19,
     "metadata": {},
     "output_type": "execute_result"
    }
   ],
=======
   "execution_count": null,
   "metadata": {},
   "outputs": [],
>>>>>>> d3025c54a3826fb2e2afae6ac032fb65269cb6f0
   "source": [
    "unique_sequences_all_runs_df = sequences_df.drop_duplicates(subset=['sequence', 'charge'], keep='first', inplace=False)\n",
    "len(unique_sequences_all_runs_df)"
   ]
  },
  {
   "cell_type": "code",
<<<<<<< HEAD
   "execution_count": 32,
   "metadata": {},
   "outputs": [
    {
     "data": {
      "image/png": "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\n",
      "text/plain": [
       "<Figure size 1080x576 with 1 Axes>"
      ]
     },
     "metadata": {
      "needs_background": "light"
     },
     "output_type": "display_data"
    }
   ],
=======
   "execution_count": null,
   "metadata": {},
   "outputs": [],
>>>>>>> d3025c54a3826fb2e2afae6ac032fb65269cb6f0
   "source": [
    "f, ax1 = plt.subplots()\n",
    "f.set_figheight(8)\n",
    "f.set_figwidth(15)\n",
    "\n",
    "plt.margins(0.06)\n",
    "plt.suptitle('Distribution of sequence identifications in the Yeast / HeLa / E.coli runs for TFD_E')\n",
<<<<<<< HEAD
    "plt.title('total {} modified peptide sequences'.format(len(unique_sequences_yhe_df)))\n",
=======
    "plt.title('total {} modified peptide sequences'.format(modified_sequences_count))\n",
>>>>>>> d3025c54a3826fb2e2afae6ac032fb65269cb6f0
    "\n",
    "counts = np.bincount(yhe_only_df.number_of_runs_targets_extracted)\n",
    "ax1.bar(range(22), counts, width=0.8, align='center')\n",
    "plt.xlabel('number of files in which a modified sequence-charge was identified')\n",
    "plt.ylabel('frequency')\n",
    "ax1.set(xticks=range(1,22), xlim=[0, 22])\n",
    "# plt.ylim((0,20000))\n",
    "\n",
    "plt.show()"
   ]
  },
  {
   "cell_type": "markdown",
   "metadata": {},
   "source": [
    "#### now analyse the human-only runs"
   ]
  },
  {
   "cell_type": "code",
<<<<<<< HEAD
   "execution_count": 21,
=======
   "execution_count": null,
>>>>>>> d3025c54a3826fb2e2afae6ac032fb65269cb6f0
   "metadata": {},
   "outputs": [],
   "source": [
    "human_only_df = sequences_df[(sequences_df.group == 'YHE010')]\n",
    "human_only_targets_df = human_only_df[(human_only_df.classed_as == 'target')]"
   ]
  },
  {
   "cell_type": "code",
<<<<<<< HEAD
   "execution_count": 22,
=======
   "execution_count": null,
>>>>>>> d3025c54a3826fb2e2afae6ac032fb65269cb6f0
   "metadata": {},
   "outputs": [],
   "source": [
    "# count how many runs each sequence/charge was extracted from\n",
    "sequence_occurences_l = []\n",
    "for group_name,group_df in human_only_targets_df.groupby(['sequence','charge'], as_index=False):\n",
    "    sequence_occurences_l.append((group_name, len(group_df.file_idx.unique()), group_name[0], group_name[1], group_df.iloc[0].human))\n",
    "human_sequence_occurences_df = pd.DataFrame(sequence_occurences_l, columns=['sequence_charge','number_of_runs_targets_extracted','sequence','charge','human'])\n"
   ]
  },
  {
   "cell_type": "code",
<<<<<<< HEAD
   "execution_count": 23,
   "metadata": {},
   "outputs": [
    {
     "name": "stdout",
     "output_type": "stream",
     "text": [
      "false positives: 11.7%\n"
     ]
    }
   ],
=======
   "execution_count": null,
   "metadata": {},
   "outputs": [],
>>>>>>> d3025c54a3826fb2e2afae6ac032fb65269cb6f0
   "source": [
    "# proportion of false positives i.e. non-human peptides found in the human-only runs\n",
    "print('false positives: {}%'.format(round(len(human_sequence_occurences_df[(human_sequence_occurences_df.human == 0)]) / len(human_sequence_occurences_df) * 100.0, 1)))"
   ]
  },
  {
   "cell_type": "code",
<<<<<<< HEAD
   "execution_count": 24,
=======
   "execution_count": null,
>>>>>>> d3025c54a3826fb2e2afae6ac032fb65269cb6f0
   "metadata": {},
   "outputs": [],
   "source": [
    "number_of_human_runs_in_experiment = len(human_only_df.file_idx.unique())\n",
    "print('there are {} human-only runs in the experiment'.format(number_of_human_runs_in_experiment))"
   ]
  },
  {
   "cell_type": "code",
<<<<<<< HEAD
   "execution_count": 25,
   "metadata": {},
   "outputs": [
    {
     "name": "stdout",
     "output_type": "stream",
     "text": [
      "23.0% of values are missing in the human-only runs.\n"
     ]
    }
   ],
=======
   "execution_count": null,
   "metadata": {},
   "outputs": [],
>>>>>>> d3025c54a3826fb2e2afae6ac032fb65269cb6f0
   "source": [
    "# display the number of missing values across the experiment\n",
    "human_sequence_occurences_df['missing_files'] = number_of_human_runs_in_experiment - human_sequence_occurences_df.number_of_runs_targets_extracted\n",
    "proportion_of_missing_values = human_sequence_occurences_df.missing_files.sum() / (len(human_sequence_occurences_df) * number_of_human_runs_in_experiment)\n",
    "print(\"{}% of values are missing in the human-only runs.\".format(round(proportion_of_missing_values*100)))"
   ]
  },
  {
   "cell_type": "code",
<<<<<<< HEAD
   "execution_count": 26,
   "metadata": {},
   "outputs": [
    {
     "data": {
      "text/html": [
       "<div>\n",
       "<style scoped>\n",
       "    .dataframe tbody tr th:only-of-type {\n",
       "        vertical-align: middle;\n",
       "    }\n",
       "\n",
       "    .dataframe tbody tr th {\n",
       "        vertical-align: top;\n",
       "    }\n",
       "\n",
       "    .dataframe thead th {\n",
       "        text-align: right;\n",
       "    }\n",
       "</style>\n",
       "<table border=\"1\" class=\"dataframe\">\n",
       "  <thead>\n",
       "    <tr style=\"text-align: right;\">\n",
       "      <th></th>\n",
       "      <th>sequence</th>\n",
       "      <th>charge</th>\n",
       "      <th>number_of_runs_targets_extracted</th>\n",
       "      <th>missing_files</th>\n",
       "    </tr>\n",
       "  </thead>\n",
       "  <tbody>\n",
       "    <tr>\n",
       "      <th>16961</th>\n",
       "      <td>QEVPHDGPMCDLLWSDPEDTTGWGVSPR</td>\n",
       "      <td>3</td>\n",
       "      <td>10</td>\n",
       "      <td>0</td>\n",
       "    </tr>\n",
       "    <tr>\n",
       "      <th>12778</th>\n",
       "      <td>LGVGAATHVVIYDASDQGLYSAPR</td>\n",
       "      <td>2</td>\n",
       "      <td>1</td>\n",
       "      <td>9</td>\n",
       "    </tr>\n",
       "    <tr>\n",
       "      <th>746</th>\n",
       "      <td>AHMGMFTELAILYSK</td>\n",
       "      <td>2</td>\n",
       "      <td>10</td>\n",
       "      <td>0</td>\n",
       "    </tr>\n",
       "    <tr>\n",
       "      <th>8302</th>\n",
       "      <td>GLVNLQSGAPKPEENPSLNIQFK</td>\n",
       "      <td>2</td>\n",
       "      <td>5</td>\n",
       "      <td>5</td>\n",
       "    </tr>\n",
       "    <tr>\n",
       "      <th>6682</th>\n",
       "      <td>FHVTSM[15.9949]TLPPGER</td>\n",
       "      <td>2</td>\n",
       "      <td>10</td>\n",
       "      <td>0</td>\n",
       "    </tr>\n",
       "    <tr>\n",
       "      <th>9646</th>\n",
       "      <td>HSGASAEVQK</td>\n",
       "      <td>2</td>\n",
       "      <td>6</td>\n",
       "      <td>4</td>\n",
       "    </tr>\n",
       "    <tr>\n",
       "      <th>20707</th>\n",
       "      <td>TATPQNFSNYESMK</td>\n",
       "      <td>2</td>\n",
       "      <td>6</td>\n",
       "      <td>4</td>\n",
       "    </tr>\n",
       "    <tr>\n",
       "      <th>12429</th>\n",
       "      <td>LFECDRDQMYYNLLK</td>\n",
       "      <td>2</td>\n",
       "      <td>10</td>\n",
       "      <td>0</td>\n",
       "    </tr>\n",
       "    <tr>\n",
       "      <th>22782</th>\n",
       "      <td>VFEISPFEPWITR</td>\n",
       "      <td>2</td>\n",
       "      <td>10</td>\n",
       "      <td>0</td>\n",
       "    </tr>\n",
       "    <tr>\n",
       "      <th>11933</th>\n",
       "      <td>LATQSNEITIPVTFESR</td>\n",
       "      <td>2</td>\n",
       "      <td>9</td>\n",
       "      <td>1</td>\n",
       "    </tr>\n",
       "  </tbody>\n",
       "</table>\n",
       "</div>"
      ],
      "text/plain": [
       "                           sequence  charge  number_of_runs_targets_extracted  \\\n",
       "16961  QEVPHDGPMCDLLWSDPEDTTGWGVSPR       3                                10   \n",
       "12778      LGVGAATHVVIYDASDQGLYSAPR       2                                 1   \n",
       "746                 AHMGMFTELAILYSK       2                                10   \n",
       "8302        GLVNLQSGAPKPEENPSLNIQFK       2                                 5   \n",
       "6682         FHVTSM[15.9949]TLPPGER       2                                10   \n",
       "9646                     HSGASAEVQK       2                                 6   \n",
       "20707                TATPQNFSNYESMK       2                                 6   \n",
       "12429               LFECDRDQMYYNLLK       2                                10   \n",
       "22782                 VFEISPFEPWITR       2                                10   \n",
       "11933             LATQSNEITIPVTFESR       2                                 9   \n",
       "\n",
       "       missing_files  \n",
       "16961              0  \n",
       "12778              9  \n",
       "746                0  \n",
       "8302               5  \n",
       "6682               0  \n",
       "9646               4  \n",
       "20707              4  \n",
       "12429              0  \n",
       "22782              0  \n",
       "11933              1  "
      ]
     },
     "execution_count": 26,
     "metadata": {},
     "output_type": "execute_result"
    }
   ],
=======
   "execution_count": null,
   "metadata": {},
   "outputs": [],
>>>>>>> d3025c54a3826fb2e2afae6ac032fb65269cb6f0
   "source": [
    "human_sequence_occurences_df.sample(n=10)[['sequence','charge','number_of_runs_targets_extracted','missing_files']]"
   ]
  },
  {
   "cell_type": "code",
<<<<<<< HEAD
   "execution_count": 27,
   "metadata": {},
   "outputs": [
    {
     "data": {
      "text/html": [
       "<div>\n",
       "<style scoped>\n",
       "    .dataframe tbody tr th:only-of-type {\n",
       "        vertical-align: middle;\n",
       "    }\n",
       "\n",
       "    .dataframe tbody tr th {\n",
       "        vertical-align: top;\n",
       "    }\n",
       "\n",
       "    .dataframe thead th {\n",
       "        text-align: right;\n",
       "    }\n",
       "</style>\n",
       "<table border=\"1\" class=\"dataframe\">\n",
       "  <thead>\n",
       "    <tr style=\"text-align: right;\">\n",
       "      <th></th>\n",
       "      <th>sequence</th>\n",
       "      <th>charge</th>\n",
       "      <th>file_idx</th>\n",
       "      <th>classed_as</th>\n",
       "      <th>prob_target</th>\n",
       "    </tr>\n",
       "  </thead>\n",
       "  <tbody>\n",
       "    <tr>\n",
       "      <th>60106</th>\n",
       "      <td>APVAIGVAAMSTAEMLTSGLK</td>\n",
       "      <td>2</td>\n",
       "      <td>4</td>\n",
       "      <td>target</td>\n",
       "      <td>0.999214</td>\n",
       "    </tr>\n",
       "    <tr>\n",
       "      <th>115175</th>\n",
       "      <td>APVAIGVAAMSTAEMLTSGLK</td>\n",
       "      <td>2</td>\n",
       "      <td>17</td>\n",
       "      <td>target</td>\n",
       "      <td>0.999445</td>\n",
       "    </tr>\n",
       "    <tr>\n",
       "      <th>258615</th>\n",
       "      <td>APVAIGVAAMSTAEMLTSGLK</td>\n",
       "      <td>2</td>\n",
       "      <td>1</td>\n",
       "      <td>target</td>\n",
       "      <td>0.957707</td>\n",
       "    </tr>\n",
       "    <tr>\n",
       "      <th>314473</th>\n",
       "      <td>APVAIGVAAMSTAEMLTSGLK</td>\n",
       "      <td>2</td>\n",
       "      <td>6</td>\n",
       "      <td>target</td>\n",
       "      <td>0.989224</td>\n",
       "    </tr>\n",
       "    <tr>\n",
       "      <th>394816</th>\n",
       "      <td>APVAIGVAAMSTAEMLTSGLK</td>\n",
       "      <td>2</td>\n",
       "      <td>12</td>\n",
       "      <td>target</td>\n",
       "      <td>0.980972</td>\n",
       "    </tr>\n",
       "    <tr>\n",
       "      <th>421445</th>\n",
       "      <td>APVAIGVAAMSTAEMLTSGLK</td>\n",
       "      <td>2</td>\n",
       "      <td>3</td>\n",
       "      <td>target</td>\n",
       "      <td>0.951320</td>\n",
       "    </tr>\n",
       "    <tr>\n",
       "      <th>447007</th>\n",
       "      <td>APVAIGVAAMSTAEMLTSGLK</td>\n",
       "      <td>2</td>\n",
       "      <td>2</td>\n",
       "      <td>decoy</td>\n",
       "      <td>0.476260</td>\n",
       "    </tr>\n",
       "    <tr>\n",
       "      <th>560275</th>\n",
       "      <td>APVAIGVAAMSTAEMLTSGLK</td>\n",
       "      <td>2</td>\n",
       "      <td>5</td>\n",
       "      <td>target</td>\n",
       "      <td>0.981317</td>\n",
       "    </tr>\n",
       "    <tr>\n",
       "      <th>613658</th>\n",
       "      <td>APVAIGVAAMSTAEMLTSGLK</td>\n",
       "      <td>2</td>\n",
       "      <td>19</td>\n",
       "      <td>target</td>\n",
       "      <td>0.999955</td>\n",
       "    </tr>\n",
       "    <tr>\n",
       "      <th>698555</th>\n",
       "      <td>APVAIGVAAMSTAEMLTSGLK</td>\n",
       "      <td>2</td>\n",
       "      <td>7</td>\n",
       "      <td>target</td>\n",
       "      <td>0.991500</td>\n",
       "    </tr>\n",
       "  </tbody>\n",
       "</table>\n",
       "</div>"
      ],
      "text/plain": [
       "                     sequence  charge  file_idx classed_as  prob_target\n",
       "60106   APVAIGVAAMSTAEMLTSGLK       2         4     target     0.999214\n",
       "115175  APVAIGVAAMSTAEMLTSGLK       2        17     target     0.999445\n",
       "258615  APVAIGVAAMSTAEMLTSGLK       2         1     target     0.957707\n",
       "314473  APVAIGVAAMSTAEMLTSGLK       2         6     target     0.989224\n",
       "394816  APVAIGVAAMSTAEMLTSGLK       2        12     target     0.980972\n",
       "421445  APVAIGVAAMSTAEMLTSGLK       2         3     target     0.951320\n",
       "447007  APVAIGVAAMSTAEMLTSGLK       2         2      decoy     0.476260\n",
       "560275  APVAIGVAAMSTAEMLTSGLK       2         5     target     0.981317\n",
       "613658  APVAIGVAAMSTAEMLTSGLK       2        19     target     0.999955\n",
       "698555  APVAIGVAAMSTAEMLTSGLK       2         7     target     0.991500"
      ]
     },
     "execution_count": 27,
     "metadata": {},
     "output_type": "execute_result"
    }
   ],
=======
   "execution_count": null,
   "metadata": {},
   "outputs": [],
>>>>>>> d3025c54a3826fb2e2afae6ac032fb65269cb6f0
   "source": [
    "df = human_only_df[(human_only_df.sequence == 'APVAIGVAAMSTAEMLTSGLK') & (human_only_df.charge == 2)][['sequence','charge','file_idx','classed_as','prob_target']]\n",
    "df"
   ]
  },
  {
   "cell_type": "code",
<<<<<<< HEAD
   "execution_count": 28,
   "metadata": {},
   "outputs": [
    {
     "data": {
      "text/plain": [
       "10"
      ]
     },
     "execution_count": 28,
     "metadata": {},
     "output_type": "execute_result"
    }
   ],
=======
   "execution_count": null,
   "metadata": {},
   "outputs": [],
>>>>>>> d3025c54a3826fb2e2afae6ac032fb65269cb6f0
   "source": [
    "len(df)"
   ]
  },
  {
   "cell_type": "code",
<<<<<<< HEAD
   "execution_count": 29,
   "metadata": {},
   "outputs": [
    {
     "data": {
      "text/plain": [
       "28814"
      ]
     },
     "execution_count": 29,
     "metadata": {},
     "output_type": "execute_result"
    }
   ],
=======
   "execution_count": null,
   "metadata": {},
   "outputs": [],
>>>>>>> d3025c54a3826fb2e2afae6ac032fb65269cb6f0
   "source": [
    "unique_sequences_human_only_df = human_only_df.drop_duplicates(subset=['sequence', 'charge'], keep='first', inplace=False)\n",
    "len(unique_sequences_human_only_df)"
   ]
  },
  {
   "cell_type": "code",
<<<<<<< HEAD
   "execution_count": 31,
   "metadata": {},
   "outputs": [
    {
     "data": {
      "image/png": "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\n",
      "text/plain": [
       "<Figure size 1080x576 with 1 Axes>"
      ]
     },
     "metadata": {
      "needs_background": "light"
     },
     "output_type": "display_data"
    }
   ],
=======
   "execution_count": null,
   "metadata": {},
   "outputs": [],
>>>>>>> d3025c54a3826fb2e2afae6ac032fb65269cb6f0
   "source": [
    "f, ax1 = plt.subplots()\n",
    "f.set_figheight(8)\n",
    "f.set_figwidth(15)\n",
    "\n",
    "plt.margins(0.06)\n",
    "plt.suptitle('Distribution of sequence identifications in the HeLa-only runs for TFD_E')\n",
    "plt.title('total {} modified peptide sequences'.format(len(unique_sequences_human_only_df)))\n",
    "\n",
    "counts = np.bincount(human_sequence_occurences_df.number_of_runs_targets_extracted)\n",
    "ax1.bar(range(11), counts, width=0.8, align='center')\n",
    "plt.xlabel('number of files in which a modified sequence-charge was identified for TFD_E')\n",
    "plt.ylabel('frequency')\n",
    "ax1.set(xticks=range(1,11), xlim=[0, 11])\n",
    "# plt.ylim((0,20000))\n",
    "\n",
    "plt.show()"
   ]
  },
  {
   "cell_type": "code",
   "execution_count": 55,
   "metadata": {},
   "outputs": [
    {
     "data": {
      "image/png": "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\n",
      "text/plain": [
       "<Figure size 1080x576 with 1 Axes>"
      ]
     },
     "metadata": {
      "needs_background": "light"
     },
     "output_type": "display_data"
    }
   ],
   "source": [
    "f, ax1 = plt.subplots()\n",
    "f.set_figheight(8)\n",
    "f.set_figwidth(15)\n",
    "\n",
    "plt.margins(0.06)\n",
    "plt.suptitle('Distribution of sequence identifications in the HeLa-only runs for TFD_E')\n",
    "plt.title('total {} modified peptide sequences'.format(len(unique_sequences_human_only_df)))\n",
    "\n",
    "counts_human = np.bincount(human_sequence_occurences_df[human_sequence_occurences_df.human == True].number_of_runs_targets_extracted)\n",
    "counts_other = np.bincount(human_sequence_occurences_df[human_sequence_occurences_df.human == False].number_of_runs_targets_extracted)\n",
    "\n",
    "ax1.bar(range(11), counts_human, bottom=counts_other, width=0.8, align='center')\n",
    "ax1.bar(range(11), counts_other, width=0.8, align='center')\n",
    "\n",
    "plt.xlabel('number of files in which a modified sequence-charge was identified')\n",
    "plt.ylabel('frequency')\n",
    "ax1.set(xticks=range(1,11), xlim=[0, 11])\n",
    "# plt.ylim((0,20000))\n",
    "\n",
    "plt.show()"
   ]
  },
  {
   "cell_type": "code",
   "execution_count": 62,
   "metadata": {},
   "outputs": [
    {
     "data": {
      "image/png": "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\n",
      "text/plain": [
       "<Figure size 1080x576 with 1 Axes>"
      ]
     },
     "metadata": {
      "needs_background": "light"
     },
     "output_type": "display_data"
    }
   ],
   "source": [
    "f, ax1 = plt.subplots()\n",
    "f.set_figheight(8)\n",
    "f.set_figwidth(15)\n",
    "\n",
    "plt.margins(0.06)\n",
    "plt.title('')\n",
    "\n",
    "bins = 100\n",
    "values_targets_human = human_only_df[(human_only_df.classed_as == 'target') & (human_only_df.human == True)].prob_target\n",
    "values_targets_other = human_only_df[(human_only_df.classed_as == 'target') & (human_only_df.human == False)].prob_target\n",
    "values_decoys = human_only_df[human_only_df.classed_as == 'decoy'].prob_target\n",
    "\n",
    "y, x, _ = ax1.hist(values_targets_human, bins=bins)\n",
    "y, x, _ = ax1.hist(values_targets_other, bins=bins)\n",
    "y, x, _ = ax1.hist(values_decoys, bins=bins)\n",
    "# mean = np.mean(values)\n",
    "# ax1.axvline(mean, color='darkorange', lw=1.0, ls='-.', label='mean')\n",
    "# text_style = dict(size=10, color='brown', verticalalignment='center', horizontalalignment='left')\n",
    "# ax1.text(mean*0.85, y.max()*0.98, \"mean {}\".format(round(mean,2)), **text_style, rotation='vertical')\n",
    "\n",
    "plt.xlabel('target probability')\n",
    "plt.ylabel('count')\n",
    "# plt.title('pre-normalisation sequence intensity coefficient of variance across 1to1 runs, k={}\\n({} unique sequences appearing in all runs)'.format(number_of_neighbours, len(sequence_cv_df)))\n",
    "# plt.xlim((0,120))\n",
    "plt.ylim((0,10000))\n",
    "\n",
    "plt.show()"
   ]
  },
  {
   "cell_type": "code",
   "execution_count": null,
   "metadata": {},
   "outputs": [],
   "source": []
  }
 ],
 "metadata": {
  "kernelspec": {
   "display_name": "Python 3",
   "language": "python",
   "name": "python3"
  },
  "language_info": {
   "codemirror_mode": {
    "name": "ipython",
    "version": 3
   },
   "file_extension": ".py",
   "mimetype": "text/x-python",
   "name": "python",
   "nbconvert_exporter": "python",
   "pygments_lexer": "ipython3",
   "version": "3.6.8"
  }
 },
 "nbformat": 4,
 "nbformat_minor": 2
}
