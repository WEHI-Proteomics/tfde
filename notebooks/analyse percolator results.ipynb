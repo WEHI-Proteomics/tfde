{
 "cells": [
  {
   "cell_type": "code",
   "execution_count": 1,
   "metadata": {},
   "outputs": [],
   "source": [
    "import pandas as pd\n",
    "import numpy as np\n",
    "import sys\n",
    "import pickle\n",
    "import glob\n",
    "import os"
   ]
  },
  {
   "cell_type": "code",
   "execution_count": 2,
   "metadata": {},
   "outputs": [],
   "source": [
    "import peakutils"
   ]
  },
  {
   "cell_type": "code",
   "execution_count": 3,
   "metadata": {},
   "outputs": [],
   "source": [
    "NUMBER_OF_RUNS_IN_EXPERIMENT = 20"
   ]
  },
  {
   "cell_type": "code",
   "execution_count": 4,
   "metadata": {},
   "outputs": [],
   "source": [
    "percolator_df = pd.read_pickle('/Users/darylwilding-mcbride/Downloads/percolator_df.pkl')"
   ]
  },
  {
   "cell_type": "code",
   "execution_count": 7,
   "metadata": {},
   "outputs": [
    {
     "data": {
      "text/plain": [
       "Index(['file_idx', 'scan', 'charge_x', 'spectrum precursor m/z',\n",
       "       'spectrum neutral mass', 'peptide mass', 'percolator score',\n",
       "       'percolator q-value', 'percolator PEP', 'total matches/spectrum',\n",
       "       'sequence', 'protein id', 'flanking aa', 'feature_id', 'charge_y',\n",
       "       'rt_apex', 'rt_peak_width', 'scan_apex', 'scan_peak_width', 'intensity',\n",
       "       'precursor_id', 'monoisotopic_mass', 'predicted_mass_error',\n",
       "       'recalibrated_monoisotopic_mass', 'recalibrated_monoisotopic_mz',\n",
       "       'percolator_idx', 'batch', 'human'],\n",
       "      dtype='object')"
      ]
     },
     "execution_count": 7,
     "metadata": {},
     "output_type": "execute_result"
    }
   ],
   "source": [
    "percolator_df.columns"
   ]
  },
  {
   "cell_type": "code",
   "execution_count": 11,
   "metadata": {},
   "outputs": [],
   "source": [
    "# find the experiment-average for each sequence-charge identified\n",
    "experiment_sequences_l = []\n",
    "for group_name,group_df in percolator_df.groupby(['sequence','charge_x'], as_index=False):\n",
    "    sequence = group_name[0]\n",
    "    charge = group_name[1]\n",
    "    theoretical_mz = group_df.iloc[0]['spectrum precursor m/z']\n",
    "    experiment_scan = peakutils.centroid(group_df.scan_apex, group_df.intensity)\n",
    "    experiment_scan_peak_width = group_df.scan_peak_width.mean()\n",
    "    experiment_rt = peakutils.centroid(group_df.rt_apex, group_df.intensity)\n",
    "    experiment_rt_peak_width = group_df.rt_peak_width.mean()\n",
    "    experiment_intensity = group_df.intensity.mean()\n",
    "    experiment_sequences_l.append((sequence, charge, theoretical_mz, experiment_scan, experiment_scan_peak_width, experiment_rt, experiment_rt_peak_width, experiment_intensity))\n",
    "    "
   ]
  },
  {
   "cell_type": "code",
   "execution_count": 12,
   "metadata": {},
   "outputs": [],
   "source": [
    "experiment_sequences_df = pd.DataFrame(experiment_sequences_l, columns=['sequence','charge','theoretical_mz', 'experiment_scan', 'experiment_scan_peak_width', 'experiment_rt', 'experiment_rt_peak_width', 'experiment_intensity'])\n"
   ]
  },
  {
   "cell_type": "code",
   "execution_count": 13,
   "metadata": {},
   "outputs": [
    {
     "data": {
      "text/html": [
       "<div>\n",
       "<style scoped>\n",
       "    .dataframe tbody tr th:only-of-type {\n",
       "        vertical-align: middle;\n",
       "    }\n",
       "\n",
       "    .dataframe tbody tr th {\n",
       "        vertical-align: top;\n",
       "    }\n",
       "\n",
       "    .dataframe thead th {\n",
       "        text-align: right;\n",
       "    }\n",
       "</style>\n",
       "<table border=\"1\" class=\"dataframe\">\n",
       "  <thead>\n",
       "    <tr style=\"text-align: right;\">\n",
       "      <th></th>\n",
       "      <th>sequence</th>\n",
       "      <th>charge</th>\n",
       "      <th>theoretical_mz</th>\n",
       "      <th>experiment_scan</th>\n",
       "      <th>experiment_scan_peak_width</th>\n",
       "      <th>experiment_rt</th>\n",
       "      <th>experiment_rt_peak_width</th>\n",
       "      <th>experiment_intensity</th>\n",
       "    </tr>\n",
       "  </thead>\n",
       "  <tbody>\n",
       "    <tr>\n",
       "      <th>0</th>\n",
       "      <td>AAAAAAAAAPAAAATAPTTAATTAATAAQ</td>\n",
       "      <td>2</td>\n",
       "      <td>1184.1049</td>\n",
       "      <td>73.911301</td>\n",
       "      <td>57.626667</td>\n",
       "      <td>602.012681</td>\n",
       "      <td>18.706667</td>\n",
       "      <td>108754.444444</td>\n",
       "    </tr>\n",
       "    <tr>\n",
       "      <th>1</th>\n",
       "      <td>AAAAAAAAAPAAAATAPTTAATTAATAAQ</td>\n",
       "      <td>3</td>\n",
       "      <td>789.7394</td>\n",
       "      <td>335.868469</td>\n",
       "      <td>56.366667</td>\n",
       "      <td>609.864140</td>\n",
       "      <td>5.030000</td>\n",
       "      <td>29377.333333</td>\n",
       "    </tr>\n",
       "    <tr>\n",
       "      <th>2</th>\n",
       "      <td>AAAAAAAAVPSAGPAGPAPTSAAGR</td>\n",
       "      <td>2</td>\n",
       "      <td>1016.0286</td>\n",
       "      <td>160.291329</td>\n",
       "      <td>64.555556</td>\n",
       "      <td>489.973155</td>\n",
       "      <td>6.357111</td>\n",
       "      <td>58456.622222</td>\n",
       "    </tr>\n",
       "    <tr>\n",
       "      <th>3</th>\n",
       "      <td>AAAAALSQQQSLQER</td>\n",
       "      <td>2</td>\n",
       "      <td>785.9075</td>\n",
       "      <td>496.361511</td>\n",
       "      <td>45.912500</td>\n",
       "      <td>375.039574</td>\n",
       "      <td>6.140000</td>\n",
       "      <td>57092.250000</td>\n",
       "    </tr>\n",
       "    <tr>\n",
       "      <th>4</th>\n",
       "      <td>AAAAATVVPPMVGGPPFVGPVGFGPGDR</td>\n",
       "      <td>3</td>\n",
       "      <td>864.1171</td>\n",
       "      <td>707.537580</td>\n",
       "      <td>48.382593</td>\n",
       "      <td>1039.861047</td>\n",
       "      <td>16.666296</td>\n",
       "      <td>50988.518519</td>\n",
       "    </tr>\n",
       "  </tbody>\n",
       "</table>\n",
       "</div>"
      ],
      "text/plain": [
       "                        sequence  charge  theoretical_mz  experiment_scan  \\\n",
       "0  AAAAAAAAAPAAAATAPTTAATTAATAAQ       2       1184.1049        73.911301   \n",
       "1  AAAAAAAAAPAAAATAPTTAATTAATAAQ       3        789.7394       335.868469   \n",
       "2      AAAAAAAAVPSAGPAGPAPTSAAGR       2       1016.0286       160.291329   \n",
       "3                AAAAALSQQQSLQER       2        785.9075       496.361511   \n",
       "4   AAAAATVVPPMVGGPPFVGPVGFGPGDR       3        864.1171       707.537580   \n",
       "\n",
       "   experiment_scan_peak_width  experiment_rt  experiment_rt_peak_width  \\\n",
       "0                   57.626667     602.012681                 18.706667   \n",
       "1                   56.366667     609.864140                  5.030000   \n",
       "2                   64.555556     489.973155                  6.357111   \n",
       "3                   45.912500     375.039574                  6.140000   \n",
       "4                   48.382593    1039.861047                 16.666296   \n",
       "\n",
       "   experiment_intensity  \n",
       "0         108754.444444  \n",
       "1          29377.333333  \n",
       "2          58456.622222  \n",
       "3          57092.250000  \n",
       "4          50988.518519  "
      ]
     },
     "execution_count": 13,
     "metadata": {},
     "output_type": "execute_result"
    }
   ],
   "source": [
    "experiment_sequences_df.head()"
   ]
  },
  {
   "cell_type": "code",
   "execution_count": 14,
   "metadata": {},
   "outputs": [],
   "source": [
    "experiment_sequences_df.to_pickle('/Users/darylwilding-mcbride/Downloads/experiments/190719_Hela_Ecoli/training-sets/experiment-sequence-charge-attribs-df.pkl')"
   ]
  },
  {
   "cell_type": "code",
   "execution_count": 15,
   "metadata": {},
   "outputs": [],
   "source": [
    "# for each run, find the mz, scan, RT, and intensity for each sequence-charge identified\n",
    "run_sequences_l = []\n",
    "for group_name,group_df in percolator_df.groupby(['file_idx','sequence','charge_x'], as_index=False):\n",
    "    file_idx = group_name[0]\n",
    "    sequence = group_name[1]\n",
    "    charge = group_name[2]\n",
    "    run_mz = peakutils.centroid(group_df.recalibrated_monoisotopic_mz, group_df.intensity)\n",
    "    run_mz_std_dev = np.std(group_df.recalibrated_monoisotopic_mz)\n",
    "    run_scan = peakutils.centroid(group_df.scan_apex, group_df.intensity)\n",
    "    run_scan_std_dev = np.std(group_df.scan_apex)\n",
    "    run_rt = peakutils.centroid(group_df.rt_apex, group_df.intensity)\n",
    "    run_rt_std_dev = np.std(group_df.rt_apex)\n",
    "    run_intensity = np.mean(group_df.intensity)\n",
    "    run_intensity_std_dev = np.std(group_df.intensity)\n",
    "    run_sequences_l.append((file_idx,sequence,charge,run_mz,run_scan,run_rt,run_mz_std_dev,run_scan_std_dev,run_rt_std_dev,run_intensity,run_intensity_std_dev))"
   ]
  },
  {
   "cell_type": "code",
   "execution_count": 16,
   "metadata": {},
   "outputs": [],
   "source": [
    "run_sequences_df = pd.DataFrame(run_sequences_l, columns=['file_idx','sequence','charge','run_mz','run_scan','run_rt','run_mz_std_dev','run_scan_std_dev','run_rt_std_dev','run_intensity','run_intensity_std_dev'])\n"
   ]
  },
  {
   "cell_type": "code",
   "execution_count": 17,
   "metadata": {},
   "outputs": [
    {
     "data": {
      "text/html": [
       "<div>\n",
       "<style scoped>\n",
       "    .dataframe tbody tr th:only-of-type {\n",
       "        vertical-align: middle;\n",
       "    }\n",
       "\n",
       "    .dataframe tbody tr th {\n",
       "        vertical-align: top;\n",
       "    }\n",
       "\n",
       "    .dataframe thead th {\n",
       "        text-align: right;\n",
       "    }\n",
       "</style>\n",
       "<table border=\"1\" class=\"dataframe\">\n",
       "  <thead>\n",
       "    <tr style=\"text-align: right;\">\n",
       "      <th></th>\n",
       "      <th>file_idx</th>\n",
       "      <th>sequence</th>\n",
       "      <th>charge</th>\n",
       "      <th>run_mz</th>\n",
       "      <th>run_scan</th>\n",
       "      <th>run_rt</th>\n",
       "      <th>run_mz_std_dev</th>\n",
       "      <th>run_scan_std_dev</th>\n",
       "      <th>run_rt_std_dev</th>\n",
       "      <th>run_intensity</th>\n",
       "      <th>run_intensity_std_dev</th>\n",
       "    </tr>\n",
       "  </thead>\n",
       "  <tbody>\n",
       "    <tr>\n",
       "      <th>0</th>\n",
       "      <td>0</td>\n",
       "      <td>AAAAAAAAAPAAAATAPTTAATTAATAAQ</td>\n",
       "      <td>2</td>\n",
       "      <td>1184.608297</td>\n",
       "      <td>74.065131</td>\n",
       "      <td>601.582008</td>\n",
       "      <td>0.000006</td>\n",
       "      <td>0.465000</td>\n",
       "      <td>0.065000</td>\n",
       "      <td>146908.000000</td>\n",
       "      <td>15838.0000</td>\n",
       "    </tr>\n",
       "    <tr>\n",
       "      <th>1</th>\n",
       "      <td>0</td>\n",
       "      <td>AAAAAAAAVPSAGPAGPAPTSAAGR</td>\n",
       "      <td>2</td>\n",
       "      <td>1016.532238</td>\n",
       "      <td>156.625361</td>\n",
       "      <td>486.692475</td>\n",
       "      <td>0.000094</td>\n",
       "      <td>2.523085</td>\n",
       "      <td>0.028284</td>\n",
       "      <td>53127.666667</td>\n",
       "      <td>4860.1922</td>\n",
       "    </tr>\n",
       "    <tr>\n",
       "      <th>2</th>\n",
       "      <td>0</td>\n",
       "      <td>AAAAAWEEPSSGNGTAR</td>\n",
       "      <td>2</td>\n",
       "      <td>823.382023</td>\n",
       "      <td>535.310000</td>\n",
       "      <td>367.240000</td>\n",
       "      <td>0.000000</td>\n",
       "      <td>0.000000</td>\n",
       "      <td>0.000000</td>\n",
       "      <td>258410.000000</td>\n",
       "      <td>0.0000</td>\n",
       "    </tr>\n",
       "    <tr>\n",
       "      <th>3</th>\n",
       "      <td>0</td>\n",
       "      <td>AAAAPVTGPLADDPIQETITFDDFAK</td>\n",
       "      <td>3</td>\n",
       "      <td>892.112877</td>\n",
       "      <td>468.100000</td>\n",
       "      <td>997.180000</td>\n",
       "      <td>0.000000</td>\n",
       "      <td>0.000000</td>\n",
       "      <td>0.000000</td>\n",
       "      <td>203979.000000</td>\n",
       "      <td>0.0000</td>\n",
       "    </tr>\n",
       "    <tr>\n",
       "      <th>4</th>\n",
       "      <td>0</td>\n",
       "      <td>AAAEDVNVTFEDQQK</td>\n",
       "      <td>2</td>\n",
       "      <td>832.891870</td>\n",
       "      <td>485.630000</td>\n",
       "      <td>471.790000</td>\n",
       "      <td>0.000000</td>\n",
       "      <td>0.000000</td>\n",
       "      <td>0.000000</td>\n",
       "      <td>74963.000000</td>\n",
       "      <td>0.0000</td>\n",
       "    </tr>\n",
       "  </tbody>\n",
       "</table>\n",
       "</div>"
      ],
      "text/plain": [
       "   file_idx                       sequence  charge       run_mz    run_scan  \\\n",
       "0         0  AAAAAAAAAPAAAATAPTTAATTAATAAQ       2  1184.608297   74.065131   \n",
       "1         0      AAAAAAAAVPSAGPAGPAPTSAAGR       2  1016.532238  156.625361   \n",
       "2         0              AAAAAWEEPSSGNGTAR       2   823.382023  535.310000   \n",
       "3         0     AAAAPVTGPLADDPIQETITFDDFAK       3   892.112877  468.100000   \n",
       "4         0                AAAEDVNVTFEDQQK       2   832.891870  485.630000   \n",
       "\n",
       "       run_rt  run_mz_std_dev  run_scan_std_dev  run_rt_std_dev  \\\n",
       "0  601.582008        0.000006          0.465000        0.065000   \n",
       "1  486.692475        0.000094          2.523085        0.028284   \n",
       "2  367.240000        0.000000          0.000000        0.000000   \n",
       "3  997.180000        0.000000          0.000000        0.000000   \n",
       "4  471.790000        0.000000          0.000000        0.000000   \n",
       "\n",
       "   run_intensity  run_intensity_std_dev  \n",
       "0  146908.000000             15838.0000  \n",
       "1   53127.666667              4860.1922  \n",
       "2  258410.000000                 0.0000  \n",
       "3  203979.000000                 0.0000  \n",
       "4   74963.000000                 0.0000  "
      ]
     },
     "execution_count": 17,
     "metadata": {},
     "output_type": "execute_result"
    }
   ],
   "source": [
    "run_sequences_df.head()"
   ]
  },
  {
   "cell_type": "code",
   "execution_count": 18,
   "metadata": {},
   "outputs": [],
   "source": [
    "import matplotlib.pyplot as plt"
   ]
  },
  {
   "cell_type": "code",
   "execution_count": 19,
   "metadata": {},
   "outputs": [],
   "source": [
    "run_sequences_df['cv_mz'] = run_sequences_df.run_mz_std_dev / run_sequences_df.run_mz\n",
    "run_sequences_df['cv_scan'] = run_sequences_df.run_scan_std_dev / run_sequences_df.run_scan\n",
    "run_sequences_df['cv_rt'] = run_sequences_df.run_rt_std_dev / run_sequences_df.run_rt\n",
    "run_sequences_df['cv_intensity'] = run_sequences_df.run_intensity_std_dev / run_sequences_df.run_intensity"
   ]
  },
  {
   "cell_type": "code",
   "execution_count": 20,
   "metadata": {},
   "outputs": [
    {
     "data": {
      "image/png": "[encoded data removed]",
      "text/plain": [
       "<Figure size 1080x576 with 1 Axes>"
      ]
     },
     "metadata": {
      "needs_background": "light"
     },
     "output_type": "display_data"
    }
   ],
   "source": [
    "f, ax1 = plt.subplots()\n",
    "f.set_figheight(8)\n",
    "f.set_figwidth(15)\n",
    "\n",
    "plt.margins(0.06)\n",
    "plt.title('')\n",
    "\n",
    "bins = 100\n",
    "hist, bins, _ = plt.hist(run_sequences_df.cv_mz, bins=bins)\n",
    "plt.xlabel('sequence m/z coefficient of variation')\n",
    "plt.ylabel('count')\n",
    "\n",
    "plt.show()"
   ]
  },
  {
   "cell_type": "code",
   "execution_count": 21,
   "metadata": {},
   "outputs": [
    {
     "data": {
      "image/png": "[encoded data removed]",
      "text/plain": [
       "<Figure size 1080x576 with 1 Axes>"
      ]
     },
     "metadata": {
      "needs_background": "light"
     },
     "output_type": "display_data"
    }
   ],
   "source": [
    "f, ax1 = plt.subplots()\n",
    "f.set_figheight(8)\n",
    "f.set_figwidth(15)\n",
    "\n",
    "plt.margins(0.06)\n",
    "plt.title('')\n",
    "\n",
    "bins = 100\n",
    "hist, bins, _ = plt.hist(run_sequences_df.cv_scan, bins=bins)\n",
    "plt.xlabel('sequence scan coefficient of variation')\n",
    "plt.ylabel('count')\n",
    "\n",
    "plt.show()"
   ]
  },
  {
   "cell_type": "code",
   "execution_count": 22,
   "metadata": {},
   "outputs": [
    {
     "data": {
      "image/png": "[encoded data removed]",
      "text/plain": [
       "<Figure size 1080x576 with 1 Axes>"
      ]
     },
     "metadata": {
      "needs_background": "light"
     },
     "output_type": "display_data"
    }
   ],
   "source": [
    "f, ax1 = plt.subplots()\n",
    "f.set_figheight(8)\n",
    "f.set_figwidth(15)\n",
    "\n",
    "plt.margins(0.06)\n",
    "plt.title('')\n",
    "\n",
    "bins = 100\n",
    "hist, bins, _ = plt.hist(run_sequences_df.cv_rt, bins=bins, label='m/z delta')\n",
    "plt.xlabel('sequence RT coefficient of variation')\n",
    "plt.ylabel('count')\n",
    "\n",
    "plt.show()"
   ]
  },
  {
   "cell_type": "code",
   "execution_count": 23,
   "metadata": {},
   "outputs": [
    {
     "data": {
      "image/png": "[encoded data removed]",
      "text/plain": [
       "<Figure size 1080x576 with 1 Axes>"
      ]
     },
     "metadata": {
      "needs_background": "light"
     },
     "output_type": "display_data"
    }
   ],
   "source": [
    "f, ax1 = plt.subplots()\n",
    "f.set_figheight(8)\n",
    "f.set_figwidth(15)\n",
    "\n",
    "plt.margins(0.06)\n",
    "plt.title('')\n",
    "\n",
    "bins = 100\n",
    "hist, bins, _ = plt.hist(run_sequences_df.cv_intensity, bins=bins)\n",
    "plt.xlabel('sequence intensity coefficient of variation')\n",
    "plt.ylabel('count')\n",
    "\n",
    "plt.show()"
   ]
  },
  {
   "cell_type": "code",
   "execution_count": 24,
   "metadata": {},
   "outputs": [],
   "source": [
    "# merge the sequence-charges for each run with their experiment-wide averages\n",
    "merged_df = pd.merge(run_sequences_df, experiment_sequences_df, how='left', left_on=['sequence','charge'], right_on=['sequence','charge'])"
   ]
  },
  {
   "cell_type": "code",
   "execution_count": 25,
   "metadata": {},
   "outputs": [],
   "source": [
    "# for each run-sequence-charge, calculate the delta from the experiment-wide average\n",
    "merged_df['delta_mz'] = merged_df.theoretical_mz - merged_df.run_mz\n",
    "merged_df['delta_scan'] = merged_df.experiment_scan - merged_df.run_scan\n",
    "merged_df['delta_rt'] = merged_df.experiment_rt - merged_df.run_rt"
   ]
  },
  {
   "cell_type": "code",
   "execution_count": 26,
   "metadata": {},
   "outputs": [
    {
     "data": {
      "text/html": [
       "<div>\n",
       "<style scoped>\n",
       "    .dataframe tbody tr th:only-of-type {\n",
       "        vertical-align: middle;\n",
       "    }\n",
       "\n",
       "    .dataframe tbody tr th {\n",
       "        vertical-align: top;\n",
       "    }\n",
       "\n",
       "    .dataframe thead th {\n",
       "        text-align: right;\n",
       "    }\n",
       "</style>\n",
       "<table border=\"1\" class=\"dataframe\">\n",
       "  <thead>\n",
       "    <tr style=\"text-align: right;\">\n",
       "      <th></th>\n",
       "      <th>file_idx</th>\n",
       "      <th>sequence</th>\n",
       "      <th>charge</th>\n",
       "      <th>run_mz</th>\n",
       "      <th>run_scan</th>\n",
       "      <th>run_rt</th>\n",
       "      <th>run_mz_std_dev</th>\n",
       "      <th>run_scan_std_dev</th>\n",
       "      <th>run_rt_std_dev</th>\n",
       "      <th>run_intensity</th>\n",
       "      <th>...</th>\n",
       "      <th>cv_intensity</th>\n",
       "      <th>theoretical_mz</th>\n",
       "      <th>experiment_scan</th>\n",
       "      <th>experiment_scan_peak_width</th>\n",
       "      <th>experiment_rt</th>\n",
       "      <th>experiment_rt_peak_width</th>\n",
       "      <th>experiment_intensity</th>\n",
       "      <th>delta_mz</th>\n",
       "      <th>delta_scan</th>\n",
       "      <th>delta_rt</th>\n",
       "    </tr>\n",
       "  </thead>\n",
       "  <tbody>\n",
       "    <tr>\n",
       "      <th>0</th>\n",
       "      <td>0</td>\n",
       "      <td>AAAAAAAAAPAAAATAPTTAATTAATAAQ</td>\n",
       "      <td>2</td>\n",
       "      <td>1184.608297</td>\n",
       "      <td>74.065131</td>\n",
       "      <td>601.582008</td>\n",
       "      <td>0.000006</td>\n",
       "      <td>0.465000</td>\n",
       "      <td>0.065000</td>\n",
       "      <td>146908.000000</td>\n",
       "      <td>...</td>\n",
       "      <td>0.107809</td>\n",
       "      <td>1184.1049</td>\n",
       "      <td>73.911301</td>\n",
       "      <td>57.626667</td>\n",
       "      <td>602.012681</td>\n",
       "      <td>18.706667</td>\n",
       "      <td>108754.444444</td>\n",
       "      <td>-0.503397</td>\n",
       "      <td>-0.153831</td>\n",
       "      <td>0.430673</td>\n",
       "    </tr>\n",
       "    <tr>\n",
       "      <th>1</th>\n",
       "      <td>0</td>\n",
       "      <td>AAAAAAAAVPSAGPAGPAPTSAAGR</td>\n",
       "      <td>2</td>\n",
       "      <td>1016.532238</td>\n",
       "      <td>156.625361</td>\n",
       "      <td>486.692475</td>\n",
       "      <td>0.000094</td>\n",
       "      <td>2.523085</td>\n",
       "      <td>0.028284</td>\n",
       "      <td>53127.666667</td>\n",
       "      <td>...</td>\n",
       "      <td>0.091481</td>\n",
       "      <td>1016.0286</td>\n",
       "      <td>160.291329</td>\n",
       "      <td>64.555556</td>\n",
       "      <td>489.973155</td>\n",
       "      <td>6.357111</td>\n",
       "      <td>58456.622222</td>\n",
       "      <td>-0.503638</td>\n",
       "      <td>3.665967</td>\n",
       "      <td>3.280680</td>\n",
       "    </tr>\n",
       "    <tr>\n",
       "      <th>2</th>\n",
       "      <td>0</td>\n",
       "      <td>AAAAAWEEPSSGNGTAR</td>\n",
       "      <td>2</td>\n",
       "      <td>823.382023</td>\n",
       "      <td>535.310000</td>\n",
       "      <td>367.240000</td>\n",
       "      <td>0.000000</td>\n",
       "      <td>0.000000</td>\n",
       "      <td>0.000000</td>\n",
       "      <td>258410.000000</td>\n",
       "      <td>...</td>\n",
       "      <td>0.000000</td>\n",
       "      <td>822.8783</td>\n",
       "      <td>533.861853</td>\n",
       "      <td>53.898095</td>\n",
       "      <td>371.271659</td>\n",
       "      <td>6.114524</td>\n",
       "      <td>277023.690476</td>\n",
       "      <td>-0.503723</td>\n",
       "      <td>-1.448147</td>\n",
       "      <td>4.031659</td>\n",
       "    </tr>\n",
       "    <tr>\n",
       "      <th>3</th>\n",
       "      <td>0</td>\n",
       "      <td>AAAAPVTGPLADDPIQETITFDDFAK</td>\n",
       "      <td>3</td>\n",
       "      <td>892.112877</td>\n",
       "      <td>468.100000</td>\n",
       "      <td>997.180000</td>\n",
       "      <td>0.000000</td>\n",
       "      <td>0.000000</td>\n",
       "      <td>0.000000</td>\n",
       "      <td>203979.000000</td>\n",
       "      <td>...</td>\n",
       "      <td>0.000000</td>\n",
       "      <td>891.7775</td>\n",
       "      <td>465.668232</td>\n",
       "      <td>115.010000</td>\n",
       "      <td>997.391366</td>\n",
       "      <td>6.381000</td>\n",
       "      <td>150202.950000</td>\n",
       "      <td>-0.335377</td>\n",
       "      <td>-2.431768</td>\n",
       "      <td>0.211366</td>\n",
       "    </tr>\n",
       "    <tr>\n",
       "      <th>4</th>\n",
       "      <td>0</td>\n",
       "      <td>AAAEDVNVTFEDQQK</td>\n",
       "      <td>2</td>\n",
       "      <td>832.891870</td>\n",
       "      <td>485.630000</td>\n",
       "      <td>471.790000</td>\n",
       "      <td>0.000000</td>\n",
       "      <td>0.000000</td>\n",
       "      <td>0.000000</td>\n",
       "      <td>74963.000000</td>\n",
       "      <td>...</td>\n",
       "      <td>0.000000</td>\n",
       "      <td>832.3878</td>\n",
       "      <td>487.082550</td>\n",
       "      <td>43.335455</td>\n",
       "      <td>475.841292</td>\n",
       "      <td>8.563636</td>\n",
       "      <td>116982.693430</td>\n",
       "      <td>-0.504070</td>\n",
       "      <td>1.452550</td>\n",
       "      <td>4.051292</td>\n",
       "    </tr>\n",
       "  </tbody>\n",
       "</table>\n",
       "<p>5 rows × 24 columns</p>\n",
       "</div>"
      ],
      "text/plain": [
       "   file_idx                       sequence  charge       run_mz    run_scan  \\\n",
       "0         0  AAAAAAAAAPAAAATAPTTAATTAATAAQ       2  1184.608297   74.065131   \n",
       "1         0      AAAAAAAAVPSAGPAGPAPTSAAGR       2  1016.532238  156.625361   \n",
       "2         0              AAAAAWEEPSSGNGTAR       2   823.382023  535.310000   \n",
       "3         0     AAAAPVTGPLADDPIQETITFDDFAK       3   892.112877  468.100000   \n",
       "4         0                AAAEDVNVTFEDQQK       2   832.891870  485.630000   \n",
       "\n",
       "       run_rt  run_mz_std_dev  run_scan_std_dev  run_rt_std_dev  \\\n",
       "0  601.582008        0.000006          0.465000        0.065000   \n",
       "1  486.692475        0.000094          2.523085        0.028284   \n",
       "2  367.240000        0.000000          0.000000        0.000000   \n",
       "3  997.180000        0.000000          0.000000        0.000000   \n",
       "4  471.790000        0.000000          0.000000        0.000000   \n",
       "\n",
       "   run_intensity  ...  cv_intensity  theoretical_mz  experiment_scan  \\\n",
       "0  146908.000000  ...      0.107809       1184.1049        73.911301   \n",
       "1   53127.666667  ...      0.091481       1016.0286       160.291329   \n",
       "2  258410.000000  ...      0.000000        822.8783       533.861853   \n",
       "3  203979.000000  ...      0.000000        891.7775       465.668232   \n",
       "4   74963.000000  ...      0.000000        832.3878       487.082550   \n",
       "\n",
       "   experiment_scan_peak_width  experiment_rt  experiment_rt_peak_width  \\\n",
       "0                   57.626667     602.012681                 18.706667   \n",
       "1                   64.555556     489.973155                  6.357111   \n",
       "2                   53.898095     371.271659                  6.114524   \n",
       "3                  115.010000     997.391366                  6.381000   \n",
       "4                   43.335455     475.841292                  8.563636   \n",
       "\n",
       "   experiment_intensity  delta_mz  delta_scan  delta_rt  \n",
       "0         108754.444444 -0.503397   -0.153831  0.430673  \n",
       "1          58456.622222 -0.503638    3.665967  3.280680  \n",
       "2         277023.690476 -0.503723   -1.448147  4.031659  \n",
       "3         150202.950000 -0.335377   -2.431768  0.211366  \n",
       "4         116982.693430 -0.504070    1.452550  4.051292  \n",
       "\n",
       "[5 rows x 24 columns]"
      ]
     },
     "execution_count": 26,
     "metadata": {},
     "output_type": "execute_result"
    }
   ],
   "source": [
    "merged_df.head()"
   ]
  },
  {
   "cell_type": "code",
   "execution_count": 27,
   "metadata": {},
   "outputs": [],
   "source": [
    "merged_df.drop(['run_mz_std_dev','run_scan_std_dev','run_rt_std_dev','run_intensity_std_dev'], axis=1, inplace=True)"
   ]
  },
  {
   "cell_type": "code",
   "execution_count": 28,
   "metadata": {},
   "outputs": [],
   "source": [
    "merged_df.to_pickle('/Users/darylwilding-mcbride/Downloads/experiments/190719_Hela_Ecoli/training-sets/file-sequence-charge-attribs-df.pkl')"
   ]
  },
  {
   "cell_type": "code",
   "execution_count": null,
   "metadata": {},
   "outputs": [],
   "source": []
  }
 ],
 "metadata": {
  "kernelspec": {
   "display_name": "Python 3",
   "language": "python",
   "name": "python3"
  },
  "language_info": {
   "codemirror_mode": {
    "name": "ipython",
    "version": 3
   },
   "file_extension": ".py",
   "mimetype": "text/x-python",
   "name": "python",
   "nbconvert_exporter": "python",
   "pygments_lexer": "ipython3",
   "version": "3.6.8"
  }
 },
 "nbformat": 4,
 "nbformat_minor": 2
}
