{
 "cells": [
  {
   "cell_type": "code",
   "execution_count": 4,
   "metadata": {},
   "outputs": [],
   "source": [
    "import pandas as pd\n",
    "import numpy as np\n",
    "import sys\n",
    "import pickle\n",
    "import glob\n",
    "import os\n",
    "import sqlite3\n",
    "import matplotlib.pyplot as plt\n",
    "from matplotlib import colors, cm, pyplot as plt\n",
    "from PIL import Image"
   ]
  },
  {
   "cell_type": "code",
   "execution_count": 8,
   "metadata": {},
   "outputs": [],
   "source": [
    "EXPERIMENT_NAME = 'P3856'\n",
    "EXPERIMENT_DIR = '/data2/experiments/{}'.format(EXPERIMENT_NAME)\n",
    "RUN_NAME = 'P3856_YHE114_1_Slot1-1_1_5115'\n",
    "FEATURES_DIR = '{}/features/{}'.format(EXPERIMENT_DIR, RUN_NAME)\n",
    "CONVERTED_DB = '{}/converted-databases/exp-{}-run-{}-converted.sqlite'.format(EXPERIMENT_DIR, EXPERIMENT_NAME, RUN_NAME)\n",
    "ENCODED_FEATURES_DIR = '{}/encoded-features/{}'.format(EXPERIMENT_DIR, RUN_NAME)\n",
    "FEATURE_SLICES_DIR = '{}/slices'.format(ENCODED_FEATURES_DIR)"
   ]
  },
  {
   "cell_type": "code",
   "execution_count": 9,
   "metadata": {},
   "outputs": [],
   "source": [
    "# frame types for PASEF mode\n",
    "FRAME_TYPE_MS1 = 0\n",
    "FRAME_TYPE_MS2 = 8"
   ]
  },
  {
   "cell_type": "code",
   "execution_count": 10,
   "metadata": {},
   "outputs": [],
   "source": [
    "# get the frame properties\n",
    "db_conn = sqlite3.connect(CONVERTED_DB)\n",
    "frame_properties_df = pd.read_sql_query('select Id,Time from frame_properties where MsMsType == {}'.format(FRAME_TYPE_MS1), db_conn)\n",
    "db_conn.close()\n"
   ]
  },
  {
   "cell_type": "code",
   "execution_count": 11,
   "metadata": {},
   "outputs": [
    {
     "data": {
      "text/html": [
       "<div>\n",
       "<style scoped>\n",
       "    .dataframe tbody tr th:only-of-type {\n",
       "        vertical-align: middle;\n",
       "    }\n",
       "\n",
       "    .dataframe tbody tr th {\n",
       "        vertical-align: top;\n",
       "    }\n",
       "\n",
       "    .dataframe thead th {\n",
       "        text-align: right;\n",
       "    }\n",
       "</style>\n",
       "<table border=\"1\" class=\"dataframe\">\n",
       "  <thead>\n",
       "    <tr style=\"text-align: right;\">\n",
       "      <th></th>\n",
       "      <th>Id</th>\n",
       "      <th>Time</th>\n",
       "    </tr>\n",
       "  </thead>\n",
       "  <tbody>\n",
       "    <tr>\n",
       "      <th>1720</th>\n",
       "      <td>3297</td>\n",
       "      <td>373.213999</td>\n",
       "    </tr>\n",
       "    <tr>\n",
       "      <th>5643</th>\n",
       "      <td>13543</td>\n",
       "      <td>1508.875812</td>\n",
       "    </tr>\n",
       "    <tr>\n",
       "      <th>2527</th>\n",
       "      <td>7179</td>\n",
       "      <td>782.533948</td>\n",
       "    </tr>\n",
       "    <tr>\n",
       "      <th>6656</th>\n",
       "      <td>18556</td>\n",
       "      <td>2039.154444</td>\n",
       "    </tr>\n",
       "    <tr>\n",
       "      <th>7013</th>\n",
       "      <td>20341</td>\n",
       "      <td>2228.092378</td>\n",
       "    </tr>\n",
       "  </tbody>\n",
       "</table>\n",
       "</div>"
      ],
      "text/plain": [
       "         Id         Time\n",
       "1720   3297   373.213999\n",
       "5643  13543  1508.875812\n",
       "2527   7179   782.533948\n",
       "6656  18556  2039.154444\n",
       "7013  20341  2228.092378"
      ]
     },
     "execution_count": 11,
     "metadata": {},
     "output_type": "execute_result"
    }
   ],
   "source": [
    "frame_properties_df.sample(n=5)"
   ]
  },
  {
   "cell_type": "code",
   "execution_count": 12,
   "metadata": {},
   "outputs": [],
   "source": [
    "# image dimensions\n",
    "PIXELS_X = 224\n",
    "PIXELS_Y = 224"
   ]
  },
  {
   "cell_type": "code",
   "execution_count": 13,
   "metadata": {},
   "outputs": [],
   "source": [
    "def pixel_xy(mz, scan, mz_lower, mz_upper, scan_lower, scan_upper):\n",
    "    x_pixels_per_mz = (PIXELS_X-1) / (mz_upper - mz_lower)\n",
    "    y_pixels_per_scan = (PIXELS_Y-1) / (scan_upper - scan_lower)\n",
    "    \n",
    "    pixel_x = int((mz - mz_lower) * x_pixels_per_mz)\n",
    "    pixel_y = int((scan - scan_lower) * y_pixels_per_scan)\n",
    "    return (pixel_x, pixel_y)"
   ]
  },
  {
   "cell_type": "code",
   "execution_count": 15,
   "metadata": {},
   "outputs": [],
   "source": [
    "precursor_id = 2917\n",
    "feature_pkl = '{}/exp-dwm-test-run-{}-features-precursor-{}.pkl'.format(FEATURES_DIR, RUN_NAME, precursor_id)"
   ]
  },
  {
   "cell_type": "code",
   "execution_count": 16,
   "metadata": {},
   "outputs": [],
   "source": [
    "# create the colour mapping\n",
    "colour_map = plt.get_cmap('rainbow')\n",
    "norm = colors.LogNorm(vmin=1, vmax=1000, clip=True)  # aiming to get good colour variation in the lower range, and clipping everything else"
   ]
  },
  {
   "cell_type": "code",
   "execution_count": 18,
   "metadata": {},
   "outputs": [
    {
     "name": "stdout",
     "output_type": "stream",
     "text": [
      "Pandas(Index=0, monoisotopic_mz=680.807471132394, charge=2, intensity=543545, intensity_full_rt_extent=276595, scan_apex=771.81, scan_curve_fit=True, scan_lower=752.55, scan_upper=791.07, rt_apex=206.0, rt_curve_fit=True, rt_lower=206.0, rt_upper=206.01, precursor_id=2917, envelope=[(680.8058, 272788.00), (681.3075, 177628.00), (681.8089, 70475.00), (682.3110, 22654.00)], feature_id=291701, mono_adjusted=False, original_phr_error=-0.10876178198401788, candidate_phr_error=None, original_phr=0.6511576755575759, monoisotopic_mass=1359.600342264788)\n",
      "found no raw points for feature 291701\n"
     ]
    },
    {
     "ename": "AttributeError",
     "evalue": "'DataFrame' object has no attribute 'tolist'",
     "output_type": "error",
     "traceback": [
      "\u001b[0;31m---------------------------------------------------------------------------\u001b[0m",
      "\u001b[0;31mAttributeError\u001b[0m                            Traceback (most recent call last)",
      "\u001b[0;32m<ipython-input-18-80ab7d2c772f>\u001b[0m in \u001b[0;36m<module>\u001b[0;34m\u001b[0m\n\u001b[1;32m     25\u001b[0m \u001b[0;34m\u001b[0m\u001b[0m\n\u001b[1;32m     26\u001b[0m     \u001b[0;31m# calculate the raw point coordinates in scaled pixels\u001b[0m\u001b[0;34m\u001b[0m\u001b[0;34m\u001b[0m\u001b[0;34m\u001b[0m\u001b[0m\n\u001b[0;32m---> 27\u001b[0;31m     \u001b[0mpixel_df\u001b[0m \u001b[0;34m=\u001b[0m \u001b[0mpd\u001b[0m\u001b[0;34m.\u001b[0m\u001b[0mDataFrame\u001b[0m\u001b[0;34m(\u001b[0m\u001b[0mraw_df\u001b[0m\u001b[0;34m.\u001b[0m\u001b[0mapply\u001b[0m\u001b[0;34m(\u001b[0m\u001b[0;32mlambda\u001b[0m \u001b[0mrow\u001b[0m\u001b[0;34m:\u001b[0m \u001b[0mpixel_xy\u001b[0m\u001b[0;34m(\u001b[0m\u001b[0mrow\u001b[0m\u001b[0;34m.\u001b[0m\u001b[0mmz\u001b[0m\u001b[0;34m,\u001b[0m \u001b[0mrow\u001b[0m\u001b[0;34m.\u001b[0m\u001b[0mscan\u001b[0m\u001b[0;34m,\u001b[0m \u001b[0mmonoisotopic_mz\u001b[0m\u001b[0;34m-\u001b[0m\u001b[0;36m0.5\u001b[0m\u001b[0;34m,\u001b[0m \u001b[0mmonoisotopic_mz\u001b[0m\u001b[0;34m+\u001b[0m\u001b[0;34m(\u001b[0m\u001b[0;36m10\u001b[0m\u001b[0;34m*\u001b[0m\u001b[0;36m0.5\u001b[0m\u001b[0;34m)\u001b[0m\u001b[0;34m,\u001b[0m \u001b[0mscan_lower\u001b[0m\u001b[0;34m,\u001b[0m \u001b[0mscan_upper\u001b[0m\u001b[0;34m)\u001b[0m\u001b[0;34m,\u001b[0m \u001b[0maxis\u001b[0m\u001b[0;34m=\u001b[0m\u001b[0;36m1\u001b[0m\u001b[0;34m)\u001b[0m\u001b[0;34m.\u001b[0m\u001b[0mtolist\u001b[0m\u001b[0;34m(\u001b[0m\u001b[0;34m)\u001b[0m\u001b[0;34m,\u001b[0m \u001b[0mcolumns\u001b[0m\u001b[0;34m=\u001b[0m\u001b[0;34m[\u001b[0m\u001b[0;34m'pixel_x'\u001b[0m\u001b[0;34m,\u001b[0m\u001b[0;34m'pixel_y'\u001b[0m\u001b[0;34m]\u001b[0m\u001b[0;34m)\u001b[0m\u001b[0;34m\u001b[0m\u001b[0;34m\u001b[0m\u001b[0m\n\u001b[0m\u001b[1;32m     28\u001b[0m     \u001b[0mraw_pixel_df\u001b[0m \u001b[0;34m=\u001b[0m \u001b[0mpd\u001b[0m\u001b[0;34m.\u001b[0m\u001b[0mconcat\u001b[0m\u001b[0;34m(\u001b[0m\u001b[0;34m[\u001b[0m\u001b[0mraw_df\u001b[0m\u001b[0;34m,\u001b[0m \u001b[0mpixel_df\u001b[0m\u001b[0;34m]\u001b[0m\u001b[0;34m,\u001b[0m \u001b[0maxis\u001b[0m\u001b[0;34m=\u001b[0m\u001b[0;36m1\u001b[0m\u001b[0;34m)\u001b[0m\u001b[0;34m\u001b[0m\u001b[0;34m\u001b[0m\u001b[0m\n\u001b[1;32m     29\u001b[0m \u001b[0;34m\u001b[0m\u001b[0m\n",
      "\u001b[0;32m~/anaconda3/envs/py36/lib/python3.6/site-packages/pandas/core/generic.py\u001b[0m in \u001b[0;36m__getattr__\u001b[0;34m(self, name)\u001b[0m\n\u001b[1;32m   5065\u001b[0m             \u001b[0;32mif\u001b[0m \u001b[0mself\u001b[0m\u001b[0;34m.\u001b[0m\u001b[0m_info_axis\u001b[0m\u001b[0;34m.\u001b[0m\u001b[0m_can_hold_identifiers_and_holds_name\u001b[0m\u001b[0;34m(\u001b[0m\u001b[0mname\u001b[0m\u001b[0;34m)\u001b[0m\u001b[0;34m:\u001b[0m\u001b[0;34m\u001b[0m\u001b[0;34m\u001b[0m\u001b[0m\n\u001b[1;32m   5066\u001b[0m                 \u001b[0;32mreturn\u001b[0m \u001b[0mself\u001b[0m\u001b[0;34m[\u001b[0m\u001b[0mname\u001b[0m\u001b[0;34m]\u001b[0m\u001b[0;34m\u001b[0m\u001b[0;34m\u001b[0m\u001b[0m\n\u001b[0;32m-> 5067\u001b[0;31m             \u001b[0;32mreturn\u001b[0m \u001b[0mobject\u001b[0m\u001b[0;34m.\u001b[0m\u001b[0m__getattribute__\u001b[0m\u001b[0;34m(\u001b[0m\u001b[0mself\u001b[0m\u001b[0;34m,\u001b[0m \u001b[0mname\u001b[0m\u001b[0;34m)\u001b[0m\u001b[0;34m\u001b[0m\u001b[0;34m\u001b[0m\u001b[0m\n\u001b[0m\u001b[1;32m   5068\u001b[0m \u001b[0;34m\u001b[0m\u001b[0m\n\u001b[1;32m   5069\u001b[0m     \u001b[0;32mdef\u001b[0m \u001b[0m__setattr__\u001b[0m\u001b[0;34m(\u001b[0m\u001b[0mself\u001b[0m\u001b[0;34m,\u001b[0m \u001b[0mname\u001b[0m\u001b[0;34m,\u001b[0m \u001b[0mvalue\u001b[0m\u001b[0;34m)\u001b[0m\u001b[0;34m:\u001b[0m\u001b[0;34m\u001b[0m\u001b[0;34m\u001b[0m\u001b[0m\n",
      "\u001b[0;31mAttributeError\u001b[0m: 'DataFrame' object has no attribute 'tolist'"
     ]
    }
   ],
   "source": [
    "# load the features for this precursor\n",
    "features_df = pd.read_pickle(feature_pkl)\n",
    "# for each feature, generate image slices for its cuboid\n",
    "for feature in features_df.itertuples():\n",
    "    feature_id = feature.feature_id\n",
    "#     print(\"feature ID {}\".format(feature_id))\n",
    "    print(feature)\n",
    "\n",
    "    # determine the feature cuboid dimensions\n",
    "    mz_lower = feature.envelope[0][0] - 0.5\n",
    "    mz_upper = feature.envelope[-1][0] + 0.5\n",
    "    scan_lower = feature.scan_lower\n",
    "    scan_upper = feature.scan_upper\n",
    "    rt_apex = feature.rt_apex\n",
    "    rt_lower = feature.rt_lower\n",
    "    rt_upper = feature.rt_upper\n",
    "    monoisotopic_mz = feature.monoisotopic_mz\n",
    "\n",
    "    # get the raw data for this feature\n",
    "    db_conn = sqlite3.connect(CONVERTED_DB)\n",
    "    raw_df = pd.read_sql_query('select mz,scan,intensity,frame_id,retention_time_secs from frames where mz >= {} and mz <= {} and scan >= {} and scan <= {} and frame_type == {} and retention_time_secs >= {} and retention_time_secs <= {}'.format(mz_lower, mz_upper, scan_lower, scan_upper, FRAME_TYPE_MS1, rt_lower, rt_upper), db_conn)\n",
    "    if len(raw_df) == 0:\n",
    "        print(\"found no raw points for feature {}\".format(feature_id))\n",
    "    db_conn.close()\n",
    "\n",
    "    # calculate the raw point coordinates in scaled pixels\n",
    "    pixel_df = pd.DataFrame(raw_df.apply(lambda row: pixel_xy(row.mz, row.scan, monoisotopic_mz-0.5, monoisotopic_mz+(10*0.5), scan_lower, scan_upper), axis=1).tolist(), columns=['pixel_x','pixel_y'])\n",
    "    raw_pixel_df = pd.concat([raw_df, pixel_df], axis=1)\n",
    "\n",
    "    # sum the intensity of raw points that have been assigned to each pixel\n",
    "    pixel_intensity_df = raw_pixel_df.groupby(by=['frame_id', 'pixel_x', 'pixel_y'], as_index=False).intensity.sum()\n",
    "\n",
    "    # calculate the colour to represent the intensity\n",
    "    colours_l = []\n",
    "    for i in pixel_intensity_df.intensity.unique():\n",
    "        colours_l.append((i, colour_map(norm(i), bytes=True)[:3]))\n",
    "    colours_df = pd.DataFrame(colours_l, columns=['intensity','colour'])\n",
    "    pixel_intensity_df = pd.merge(pixel_intensity_df, colours_df, how='left', left_on=['intensity'], right_on=['intensity'])\n",
    "\n",
    "    # get the frame IDs closest to the RT apex\n",
    "    frame_ids = frame_properties_df.iloc[(frame_properties_df['Time'] - rt_apex).abs().argsort()[:20]].sort_values(by=['Time'], ascending=[True], inplace=False).Id.tolist()    \n",
    "\n",
    "    # write out the images to files\n",
    "    feature_slice = 0\n",
    "    for frame_id in frame_ids:\n",
    "        frame_df = pixel_intensity_df[(pixel_intensity_df.frame_id == frame_id)]\n",
    "        # create an intensity array\n",
    "        tile_im_array = np.zeros([PIXELS_Y, PIXELS_X, 3], dtype=np.uint8)  # container for the image\n",
    "        for r in zip(frame_df.pixel_x, frame_df.pixel_y, frame_df.colour):\n",
    "            x = r[0]\n",
    "            y = r[1]\n",
    "            c = r[2]\n",
    "            tile_im_array[y,x,:] = c\n",
    "\n",
    "        # create an image of the intensity array\n",
    "        feature_slice += 1\n",
    "        tile = Image.fromarray(tile_im_array, 'RGB')\n",
    "        tile_file_name = '{}/feature-{}-slice-{:03d}.png'.format(FEATURE_SLICES_DIR, feature_id, feature_slice)\n",
    "        tile.save(tile_file_name)"
   ]
  },
  {
   "cell_type": "code",
   "execution_count": 13,
   "metadata": {},
   "outputs": [
    {
     "data": {
      "text/plain": [
       "1"
      ]
     },
     "execution_count": 13,
     "metadata": {},
     "output_type": "execute_result"
    }
   ],
   "source": [
    "len(features_df)"
   ]
  },
  {
   "cell_type": "code",
   "execution_count": null,
   "metadata": {},
   "outputs": [],
   "source": []
  }
 ],
 "metadata": {
  "kernelspec": {
   "display_name": "Python 3",
   "language": "python",
   "name": "python3"
  },
  "language_info": {
   "codemirror_mode": {
    "name": "ipython",
    "version": 3
   },
   "file_extension": ".py",
   "mimetype": "text/x-python",
   "name": "python",
   "nbconvert_exporter": "python",
   "pygments_lexer": "ipython3",
   "version": "3.6.8"
  }
 },
 "nbformat": 4,
 "nbformat_minor": 4
}
