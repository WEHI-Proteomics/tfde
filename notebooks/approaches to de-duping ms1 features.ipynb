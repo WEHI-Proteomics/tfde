{
 "cells": [
  {
   "cell_type": "code",
   "execution_count": 6,
   "metadata": {},
   "outputs": [],
   "source": [
    "import sqlite3\n",
    "import pandas as pd\n",
    "import numpy as np\n",
    "import sys\n",
    "import matplotlib.pyplot as plt\n",
    "import scipy"
   ]
  },
  {
   "cell_type": "code",
   "execution_count": 2,
   "metadata": {},
   "outputs": [],
   "source": [
    "ms1_df = pd.read_pickle('/Users/darylwilding-mcbride/Downloads/ms1_df.pkl')"
   ]
  },
  {
   "cell_type": "code",
   "execution_count": 3,
   "metadata": {},
   "outputs": [
    {
     "data": {
      "text/html": [
       "<div>\n",
       "<style scoped>\n",
       "    .dataframe tbody tr th:only-of-type {\n",
       "        vertical-align: middle;\n",
       "    }\n",
       "\n",
       "    .dataframe tbody tr th {\n",
       "        vertical-align: top;\n",
       "    }\n",
       "\n",
       "    .dataframe thead th {\n",
       "        text-align: right;\n",
       "    }\n",
       "</style>\n",
       "<table border=\"1\" class=\"dataframe\">\n",
       "  <thead>\n",
       "    <tr style=\"text-align: right;\">\n",
       "      <th></th>\n",
       "      <th>monoisotopic_mass</th>\n",
       "      <th>charge</th>\n",
       "      <th>monoisotopic_mz</th>\n",
       "      <th>intensity</th>\n",
       "      <th>scan_apex</th>\n",
       "      <th>scan_curve_fit</th>\n",
       "      <th>rt_apex</th>\n",
       "      <th>rt_curve_fit</th>\n",
       "      <th>precursor_id</th>\n",
       "      <th>ms2_frames</th>\n",
       "    </tr>\n",
       "  </thead>\n",
       "  <tbody>\n",
       "    <tr>\n",
       "      <th>0</th>\n",
       "      <td>1883.719142</td>\n",
       "      <td>2</td>\n",
       "      <td>942.363197</td>\n",
       "      <td>2199</td>\n",
       "      <td>369.013132</td>\n",
       "      <td>True</td>\n",
       "      <td>3030.77</td>\n",
       "      <td>True</td>\n",
       "      <td>93055</td>\n",
       "      <td>[28216]</td>\n",
       "    </tr>\n",
       "    <tr>\n",
       "      <th>1</th>\n",
       "      <td>1883.743180</td>\n",
       "      <td>2</td>\n",
       "      <td>942.375217</td>\n",
       "      <td>18581</td>\n",
       "      <td>369.442937</td>\n",
       "      <td>True</td>\n",
       "      <td>3030.77</td>\n",
       "      <td>True</td>\n",
       "      <td>93055</td>\n",
       "      <td>[28216]</td>\n",
       "    </tr>\n",
       "    <tr>\n",
       "      <th>0</th>\n",
       "      <td>2371.020707</td>\n",
       "      <td>2</td>\n",
       "      <td>1186.013980</td>\n",
       "      <td>1134</td>\n",
       "      <td>234.065295</td>\n",
       "      <td>True</td>\n",
       "      <td>3029.59</td>\n",
       "      <td>True</td>\n",
       "      <td>93064</td>\n",
       "      <td>[28216]</td>\n",
       "    </tr>\n",
       "    <tr>\n",
       "      <th>1</th>\n",
       "      <td>2371.043171</td>\n",
       "      <td>2</td>\n",
       "      <td>1186.025212</td>\n",
       "      <td>7011</td>\n",
       "      <td>232.833270</td>\n",
       "      <td>True</td>\n",
       "      <td>3030.77</td>\n",
       "      <td>True</td>\n",
       "      <td>93064</td>\n",
       "      <td>[28216]</td>\n",
       "    </tr>\n",
       "    <tr>\n",
       "      <th>2</th>\n",
       "      <td>2371.067953</td>\n",
       "      <td>2</td>\n",
       "      <td>1186.037603</td>\n",
       "      <td>30606</td>\n",
       "      <td>233.075351</td>\n",
       "      <td>True</td>\n",
       "      <td>3030.77</td>\n",
       "      <td>True</td>\n",
       "      <td>93064</td>\n",
       "      <td>[28216]</td>\n",
       "    </tr>\n",
       "    <tr>\n",
       "      <th>3</th>\n",
       "      <td>2371.094563</td>\n",
       "      <td>2</td>\n",
       "      <td>1186.050908</td>\n",
       "      <td>12820</td>\n",
       "      <td>232.897141</td>\n",
       "      <td>True</td>\n",
       "      <td>3030.77</td>\n",
       "      <td>True</td>\n",
       "      <td>93064</td>\n",
       "      <td>[28216]</td>\n",
       "    </tr>\n",
       "    <tr>\n",
       "      <th>4</th>\n",
       "      <td>2371.114160</td>\n",
       "      <td>2</td>\n",
       "      <td>1186.060706</td>\n",
       "      <td>2743</td>\n",
       "      <td>233.979245</td>\n",
       "      <td>True</td>\n",
       "      <td>3030.77</td>\n",
       "      <td>True</td>\n",
       "      <td>93064</td>\n",
       "      <td>[28216]</td>\n",
       "    </tr>\n",
       "  </tbody>\n",
       "</table>\n",
       "</div>"
      ],
      "text/plain": [
       "   monoisotopic_mass  charge  monoisotopic_mz  intensity   scan_apex  \\\n",
       "0        1883.719142       2       942.363197       2199  369.013132   \n",
       "1        1883.743180       2       942.375217      18581  369.442937   \n",
       "0        2371.020707       2      1186.013980       1134  234.065295   \n",
       "1        2371.043171       2      1186.025212       7011  232.833270   \n",
       "2        2371.067953       2      1186.037603      30606  233.075351   \n",
       "3        2371.094563       2      1186.050908      12820  232.897141   \n",
       "4        2371.114160       2      1186.060706       2743  233.979245   \n",
       "\n",
       "   scan_curve_fit  rt_apex  rt_curve_fit  precursor_id ms2_frames  \n",
       "0            True  3030.77          True         93055    [28216]  \n",
       "1            True  3030.77          True         93055    [28216]  \n",
       "0            True  3029.59          True         93064    [28216]  \n",
       "1            True  3030.77          True         93064    [28216]  \n",
       "2            True  3030.77          True         93064    [28216]  \n",
       "3            True  3030.77          True         93064    [28216]  \n",
       "4            True  3030.77          True         93064    [28216]  "
      ]
     },
     "execution_count": 3,
     "metadata": {},
     "output_type": "execute_result"
    }
   ],
   "source": [
    "ms1_df"
   ]
  },
  {
   "cell_type": "code",
   "execution_count": 8,
   "metadata": {},
   "outputs": [
    {
     "ename": "NameError",
     "evalue": "name 'X' is not defined",
     "output_type": "error",
     "traceback": [
      "\u001b[0;31m---------------------------------------------------------------------------\u001b[0m",
      "\u001b[0;31mNameError\u001b[0m                                 Traceback (most recent call last)",
      "\u001b[0;32m<ipython-input-8-77a534c54268>\u001b[0m in \u001b[0;36m<module>\u001b[0;34m()\u001b[0m\n\u001b[0;32m----> 1\u001b[0;31m \u001b[0mdm\u001b[0m \u001b[0;34m=\u001b[0m \u001b[0mscipy\u001b[0m\u001b[0;34m.\u001b[0m\u001b[0mspatial\u001b[0m\u001b[0;34m.\u001b[0m\u001b[0mdistance\u001b[0m\u001b[0;34m.\u001b[0m\u001b[0mpdist\u001b[0m\u001b[0;34m(\u001b[0m\u001b[0mX\u001b[0m\u001b[0;34m,\u001b[0m \u001b[0;32mlambda\u001b[0m \u001b[0mu\u001b[0m\u001b[0;34m,\u001b[0m \u001b[0mv\u001b[0m\u001b[0;34m:\u001b[0m \u001b[0mnp\u001b[0m\u001b[0;34m.\u001b[0m\u001b[0msqrt\u001b[0m\u001b[0;34m(\u001b[0m\u001b[0;34m(\u001b[0m\u001b[0;34m(\u001b[0m\u001b[0mu\u001b[0m\u001b[0;34m-\u001b[0m\u001b[0mv\u001b[0m\u001b[0;34m)\u001b[0m\u001b[0;34m**\u001b[0m\u001b[0;36m2\u001b[0m\u001b[0;34m)\u001b[0m\u001b[0;34m.\u001b[0m\u001b[0msum\u001b[0m\u001b[0;34m(\u001b[0m\u001b[0;34m)\u001b[0m\u001b[0;34m)\u001b[0m\u001b[0;34m)\u001b[0m\u001b[0;34m\u001b[0m\u001b[0;34m\u001b[0m\u001b[0m\n\u001b[0m",
      "\u001b[0;31mNameError\u001b[0m: name 'X' is not defined"
     ]
    }
   ],
   "source": [
    "dm = scipy.spatial.distance.pdist(X, lambda u, v: np.sqrt(((u-v)**2).sum()))"
   ]
  },
  {
   "cell_type": "code",
   "execution_count": 11,
   "metadata": {},
   "outputs": [],
   "source": [
    "X = ms1_df[['monoisotopic_mz','scan_apex','rt_apex']]"
   ]
  },
  {
   "cell_type": "code",
   "execution_count": 13,
   "metadata": {},
   "outputs": [
    {
     "data": {
      "text/plain": [
       "array([[ 942.36319744,  369.01313168, 3030.77      ],\n",
       "       [ 942.37521652,  369.44293734, 3030.77      ],\n",
       "       [1186.01397978,  234.0652949 , 3029.59      ],\n",
       "       [1186.02521197,  232.83326969, 3030.77      ],\n",
       "       [1186.03760316,  233.07535067, 3030.77      ],\n",
       "       [1186.05090791,  232.89714064, 3030.77      ],\n",
       "       [1186.06070635,  233.97924451, 3030.77      ]])"
      ]
     },
     "execution_count": 13,
     "metadata": {},
     "output_type": "execute_result"
    }
   ],
   "source": [
    "X.values"
   ]
  },
  {
   "cell_type": "code",
   "execution_count": null,
   "metadata": {},
   "outputs": [],
   "source": []
  }
 ],
 "metadata": {
  "kernelspec": {
   "display_name": "Python 3",
   "language": "python",
   "name": "python3"
  },
  "language_info": {
   "codemirror_mode": {
    "name": "ipython",
    "version": 3
   },
   "file_extension": ".py",
   "mimetype": "text/x-python",
   "name": "python",
   "nbconvert_exporter": "python",
   "pygments_lexer": "ipython3",
   "version": "3.6.7"
  }
 },
 "nbformat": 4,
 "nbformat_minor": 2
}
