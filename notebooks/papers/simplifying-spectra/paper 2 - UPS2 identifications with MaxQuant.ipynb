{
 "cells": [
  {
   "cell_type": "code",
   "execution_count": 1,
   "metadata": {},
   "outputs": [],
   "source": [
    "import pandas as pd\n",
    "import numpy as np\n",
    "import os\n",
    "import matplotlib.pyplot as plt\n",
    "import pickle\n",
    "import seaborn as sns\n",
    "import json\n",
    "from os.path import expanduser"
   ]
  },
  {
   "cell_type": "code",
   "execution_count": 66,
   "metadata": {},
   "outputs": [],
   "source": [
    "PROTON_MASS = 1.00727647\n",
    "ADD_C_CYSTEINE_DA = 57.021464"
   ]
  },
  {
   "cell_type": "code",
   "execution_count": 67,
   "metadata": {},
   "outputs": [],
   "source": [
    "# calculate the monoisotopic mass    \n",
    "def calculate_monoisotopic_mass_from_mz(monoisotopic_mz, charge):\n",
    "    monoisotopic_mass = (monoisotopic_mz * charge) - (PROTON_MASS * charge)\n",
    "    return monoisotopic_mass"
   ]
  },
  {
   "cell_type": "code",
   "execution_count": 68,
   "metadata": {},
   "outputs": [],
   "source": [
    "experiment_name = 'P3830'\n",
    "run_name = 'P3830_YeastUPS2_01_Slot1-1_1_5082'\n",
    "experiment_base_dir = '/media/big-ssd/experiments'"
   ]
  },
  {
   "cell_type": "code",
   "execution_count": 69,
   "metadata": {},
   "outputs": [],
   "source": [
    "EXPERIMENT_DIR = \"{}/{}\".format(experiment_base_dir, experiment_name)\n",
    "MQ_PERCOLATOR_OUTPUT_DIR = '{}/percolator-output-maxquant'.format(EXPERIMENT_DIR)\n",
    "MQ_MGF_DIR = '{}/mgf-maxquant'.format(EXPERIMENT_DIR)"
   ]
  },
  {
   "cell_type": "code",
   "execution_count": 70,
   "metadata": {},
   "outputs": [],
   "source": [
    "MAXIMUM_Q_VALUE = 0.01"
   ]
  },
  {
   "cell_type": "code",
   "execution_count": 71,
   "metadata": {},
   "outputs": [],
   "source": [
    "# load the percolator output\n",
    "MQ_PERCOLATOR_OUTPUT_FILE_NAME = \"{}/{}.percolator.target.psms.txt\".format(MQ_PERCOLATOR_OUTPUT_DIR, experiment_name)\n",
    "mq_psms_df = pd.read_csv(MQ_PERCOLATOR_OUTPUT_FILE_NAME, sep='\\t')\n",
    "mq_psms_df.rename(columns={'scan': 'mq_index'}, inplace=True)\n",
    "mq_psms_df.drop(['charge'], axis=1, inplace=True)\n",
    "# remove the poor quality identifications\n",
    "mq_psms_df = mq_psms_df[mq_psms_df['peptide mass'] > 0]"
   ]
  },
  {
   "cell_type": "code",
   "execution_count": 72,
   "metadata": {},
   "outputs": [],
   "source": [
    "PERCOLATOR_STDOUT_FILE_NAME = \"{}/P3830.percolator.log.txt\".format(MQ_PERCOLATOR_OUTPUT_DIR)"
   ]
  },
  {
   "cell_type": "code",
   "execution_count": 73,
   "metadata": {},
   "outputs": [],
   "source": [
    "# determine the mapping between the percolator index and the run file name - this is only available by parsing percolator's stdout redirected to a text file.\n",
    "mapping = []\n",
    "with open(PERCOLATOR_STDOUT_FILE_NAME) as f:\n",
    "    lines = f.readlines()\n",
    "    for line in lines:\n",
    "        if line.startswith('INFO: Assigning index'):\n",
    "            splits = line.split(' ')\n",
    "            percolator_index = int(splits[3])\n",
    "            comet_filename = splits[5]\n",
    "            rn = comet_filename.split('/')[-1].split('.')[0]  # e.g. 190719_Hela_Ecoli_1to3_06\n",
    "            mapping.append((percolator_index, run_name))\n",
    "mapping_df = pd.DataFrame(mapping, columns=['file_idx','run_name'])"
   ]
  },
  {
   "cell_type": "code",
   "execution_count": 74,
   "metadata": {},
   "outputs": [
    {
     "data": {
      "text/html": [
       "<div>\n",
       "<style scoped>\n",
       "    .dataframe tbody tr th:only-of-type {\n",
       "        vertical-align: middle;\n",
       "    }\n",
       "\n",
       "    .dataframe tbody tr th {\n",
       "        vertical-align: top;\n",
       "    }\n",
       "\n",
       "    .dataframe thead th {\n",
       "        text-align: right;\n",
       "    }\n",
       "</style>\n",
       "<table border=\"1\" class=\"dataframe\">\n",
       "  <thead>\n",
       "    <tr style=\"text-align: right;\">\n",
       "      <th></th>\n",
       "      <th>file_idx</th>\n",
       "      <th>run_name</th>\n",
       "    </tr>\n",
       "  </thead>\n",
       "  <tbody>\n",
       "    <tr>\n",
       "      <th>0</th>\n",
       "      <td>0</td>\n",
       "      <td>P3830_YeastUPS2_01_Slot1-1_1_5082</td>\n",
       "    </tr>\n",
       "    <tr>\n",
       "      <th>1</th>\n",
       "      <td>1</td>\n",
       "      <td>P3830_YeastUPS2_01_Slot1-1_1_5082</td>\n",
       "    </tr>\n",
       "  </tbody>\n",
       "</table>\n",
       "</div>"
      ],
      "text/plain": [
       "   file_idx                           run_name\n",
       "0         0  P3830_YeastUPS2_01_Slot1-1_1_5082\n",
       "1         1  P3830_YeastUPS2_01_Slot1-1_1_5082"
      ]
     },
     "execution_count": 74,
     "metadata": {},
     "output_type": "execute_result"
    }
   ],
   "source": [
    "mapping_df"
   ]
  },
  {
   "cell_type": "code",
   "execution_count": 75,
   "metadata": {},
   "outputs": [],
   "source": [
    "# add the run names\n",
    "mq_percolator_df = pd.merge(mq_psms_df, mapping_df, how='left', left_on=['file_idx'], right_on=['file_idx'])"
   ]
  },
  {
   "cell_type": "code",
   "execution_count": 76,
   "metadata": {},
   "outputs": [
    {
     "data": {
      "text/plain": [
       "array(['P3830_YeastUPS2_01_Slot1-1_1_5082'], dtype=object)"
      ]
     },
     "execution_count": 76,
     "metadata": {},
     "output_type": "execute_result"
    }
   ],
   "source": [
    "mq_percolator_df.run_name.unique()"
   ]
  },
  {
   "cell_type": "code",
   "execution_count": 77,
   "metadata": {},
   "outputs": [],
   "source": [
    "# merge the precolator results with the MQ features - obtained with the -v flag of the APL-to-MGF converter (generate-MGF-from-MaxQuant-APLs.py)\n",
    "MQ_FEATURES_NAME = '{}/{}.pkl'.format(MQ_MGF_DIR, run_name)\n",
    "mq_features_df = pd.read_pickle(MQ_FEATURES_NAME)"
   ]
  },
  {
   "cell_type": "code",
   "execution_count": 78,
   "metadata": {},
   "outputs": [
    {
     "data": {
      "text/plain": [
       "'/media/big-ssd/experiments/P3830/mgf-maxquant/P3830_YeastUPS2_01_Slot1-1_1_5082.pkl'"
      ]
     },
     "execution_count": 78,
     "metadata": {},
     "output_type": "execute_result"
    }
   ],
   "source": [
    "MQ_FEATURES_NAME"
   ]
  },
  {
   "cell_type": "code",
   "execution_count": 79,
   "metadata": {},
   "outputs": [
    {
     "data": {
      "text/plain": [
       "'P3830_YeastUPS2_01_Slot1-1_1_5082'"
      ]
     },
     "execution_count": 79,
     "metadata": {},
     "output_type": "execute_result"
    }
   ],
   "source": [
    "run_name"
   ]
  },
  {
   "cell_type": "code",
   "execution_count": 80,
   "metadata": {},
   "outputs": [
    {
     "data": {
      "text/plain": [
       "Index(['monoisotopic_mass', 'charge', 'monoisotopic_mz', 'intensity',\n",
       "       'scan_apex', 'rt_apex', 'raw_file', 'mq_index', 'ms2_peaks'],\n",
       "      dtype='object')"
      ]
     },
     "execution_count": 80,
     "metadata": {},
     "output_type": "execute_result"
    }
   ],
   "source": [
    "mq_features_df.columns"
   ]
  },
  {
   "cell_type": "code",
   "execution_count": 81,
   "metadata": {},
   "outputs": [
    {
     "data": {
      "text/plain": [
       "array(['P3830_YeastUPS2_01_Slot1-1_1_5082'], dtype=object)"
      ]
     },
     "execution_count": 81,
     "metadata": {},
     "output_type": "execute_result"
    }
   ],
   "source": [
    "mq_features_df.raw_file.unique()"
   ]
  },
  {
   "cell_type": "code",
   "execution_count": 82,
   "metadata": {},
   "outputs": [],
   "source": [
    "mq_identifications_df = pd.merge(mq_features_df, mq_percolator_df, how='left', left_on=['raw_file','mq_index'], right_on=['run_name','mq_index'])\n",
    "# remove any features that were not identified\n",
    "mq_identifications_df.dropna(subset=['sequence'], inplace=True)\n"
   ]
  },
  {
   "cell_type": "code",
   "execution_count": 83,
   "metadata": {},
   "outputs": [],
   "source": [
    "mq_identifications_df['theoretical_peptide_mass'] = mq_identifications_df['peptide mass'] + (mq_identifications_df.sequence.str.count('C') * ADD_C_CYSTEINE_DA)\n",
    "mq_identifications_df['mass_accuracy_ppm'] = (mq_identifications_df['monoisotopic_mass'] - mq_identifications_df['theoretical_peptide_mass']) / mq_identifications_df['theoretical_peptide_mass'] * 10**6\n",
    "mq_identifications_df['mass_error'] = mq_identifications_df['monoisotopic_mass'] - mq_identifications_df['theoretical_peptide_mass']\n"
   ]
  },
  {
   "cell_type": "code",
   "execution_count": 84,
   "metadata": {},
   "outputs": [
    {
     "data": {
      "text/plain": [
       "Index(['monoisotopic_mass', 'charge', 'monoisotopic_mz', 'intensity',\n",
       "       'scan_apex', 'rt_apex', 'raw_file', 'mq_index', 'ms2_peaks', 'file_idx',\n",
       "       'spectrum precursor m/z', 'spectrum neutral mass', 'peptide mass',\n",
       "       'percolator score', 'percolator q-value', 'percolator PEP',\n",
       "       'total matches/spectrum', 'sequence', 'protein id', 'flanking aa',\n",
       "       'run_name', 'theoretical_peptide_mass', 'mass_accuracy_ppm',\n",
       "       'mass_error'],\n",
       "      dtype='object')"
      ]
     },
     "execution_count": 84,
     "metadata": {},
     "output_type": "execute_result"
    }
   ],
   "source": [
    "mq_identifications_df.columns"
   ]
  },
  {
   "cell_type": "code",
   "execution_count": 85,
   "metadata": {},
   "outputs": [],
   "source": [
    "mq_identifications_df = mq_identifications_df[(mq_identifications_df['percolator q-value'] <= MAXIMUM_Q_VALUE) & (~mq_identifications_df['protein id'].str.contains('YEAST'))]"
   ]
  },
  {
   "cell_type": "code",
   "execution_count": 86,
   "metadata": {},
   "outputs": [
    {
     "data": {
      "text/plain": [
       "array(['P3830_YeastUPS2_01_Slot1-1_1_5082'], dtype=object)"
      ]
     },
     "execution_count": 86,
     "metadata": {},
     "output_type": "execute_result"
    }
   ],
   "source": [
    "mq_identifications_df.run_name.unique()"
   ]
  },
  {
   "cell_type": "code",
   "execution_count": 87,
   "metadata": {},
   "outputs": [
    {
     "name": "stdout",
     "output_type": "stream",
     "text": [
      "number of unique proteins: 46\n"
     ]
    }
   ],
   "source": [
    "print('number of unique proteins: {}'.format(len(mq_identifications_df['protein id'].unique())))"
   ]
  },
  {
   "cell_type": "markdown",
   "metadata": {},
   "source": [
    "#### using the Top3 approach to determine protein quanitification"
   ]
  },
  {
   "cell_type": "code",
   "execution_count": 88,
   "metadata": {},
   "outputs": [],
   "source": [
    "ups2_proteins_l = []\n",
    "\n",
    "ups2_proteins_l.append({'uniprot':'P00915', 'fmoles':50000})\n",
    "ups2_proteins_l.append({'uniprot':'P00918', 'fmoles':50000})\n",
    "ups2_proteins_l.append({'uniprot':'P01031', 'fmoles':50000})\n",
    "ups2_proteins_l.append({'uniprot':'P69905', 'fmoles':50000})\n",
    "ups2_proteins_l.append({'uniprot':'P68871', 'fmoles':50000})\n",
    "ups2_proteins_l.append({'uniprot':'P41159', 'fmoles':50000})\n",
    "ups2_proteins_l.append({'uniprot':'P02768', 'fmoles':50000})\n",
    "ups2_proteins_l.append({'uniprot':'P62988', 'fmoles':50000})\n",
    "\n",
    "ups2_proteins_l.append({'uniprot':'P04040', 'fmoles':5000})\n",
    "ups2_proteins_l.append({'uniprot':'P00167', 'fmoles':5000})\n",
    "ups2_proteins_l.append({'uniprot':'P01133', 'fmoles':5000})\n",
    "ups2_proteins_l.append({'uniprot':'P02144', 'fmoles':5000})\n",
    "ups2_proteins_l.append({'uniprot':'P15559', 'fmoles':5000})\n",
    "ups2_proteins_l.append({'uniprot':'P62937', 'fmoles':5000})\n",
    "ups2_proteins_l.append({'uniprot':'Q06830', 'fmoles':5000})\n",
    "ups2_proteins_l.append({'uniprot':'P63165', 'fmoles':5000})\n",
    "\n",
    "ups2_proteins_l.append({'uniprot':'P00709', 'fmoles':500})\n",
    "ups2_proteins_l.append({'uniprot':'P06732', 'fmoles':500})\n",
    "ups2_proteins_l.append({'uniprot':'P12081', 'fmoles':500})\n",
    "ups2_proteins_l.append({'uniprot':'P61626', 'fmoles':500})\n",
    "ups2_proteins_l.append({'uniprot':'Q15843', 'fmoles':500})\n",
    "ups2_proteins_l.append({'uniprot':'P02753', 'fmoles':500})\n",
    "ups2_proteins_l.append({'uniprot':'P16083', 'fmoles':500})\n",
    "ups2_proteins_l.append({'uniprot':'P63279', 'fmoles':500})\n",
    "\n",
    "ups2_proteins_l.append({'uniprot':'P01008', 'fmoles':50})\n",
    "ups2_proteins_l.append({'uniprot':'P61769', 'fmoles':50})\n",
    "ups2_proteins_l.append({'uniprot':'P55957', 'fmoles':50})\n",
    "ups2_proteins_l.append({'uniprot':'O76070', 'fmoles':50})\n",
    "ups2_proteins_l.append({'uniprot':'P08263', 'fmoles':50})\n",
    "ups2_proteins_l.append({'uniprot':'P01344', 'fmoles':50})\n",
    "ups2_proteins_l.append({'uniprot':'P01127', 'fmoles':50})\n",
    "ups2_proteins_l.append({'uniprot':'P10599', 'fmoles':50})\n",
    "\n",
    "ups2_proteins_l.append({'uniprot':'P99999', 'fmoles':5})\n",
    "ups2_proteins_l.append({'uniprot':'P06396', 'fmoles':5})\n",
    "ups2_proteins_l.append({'uniprot':'P09211', 'fmoles':5})\n",
    "ups2_proteins_l.append({'uniprot':'P01112', 'fmoles':5})\n",
    "ups2_proteins_l.append({'uniprot':'P01579', 'fmoles':5})\n",
    "ups2_proteins_l.append({'uniprot':'P02787', 'fmoles':5})\n",
    "ups2_proteins_l.append({'uniprot':'O00762', 'fmoles':5})\n",
    "ups2_proteins_l.append({'uniprot':'P51965', 'fmoles':5})\n",
    "\n",
    "ups2_proteins_l.append({'uniprot':'P08758', 'fmoles':0.5})\n",
    "ups2_proteins_l.append({'uniprot':'P02741', 'fmoles':0.5})\n",
    "ups2_proteins_l.append({'uniprot':'P05413', 'fmoles':0.5})\n",
    "ups2_proteins_l.append({'uniprot':'P10145', 'fmoles':0.5})\n",
    "ups2_proteins_l.append({'uniprot':'P02788', 'fmoles':0.5})\n",
    "ups2_proteins_l.append({'uniprot':'P10636-8', 'fmoles':0.5})\n",
    "ups2_proteins_l.append({'uniprot':'P00441', 'fmoles':0.5})\n",
    "ups2_proteins_l.append({'uniprot':'P01375', 'fmoles':0.5})\n",
    "\n",
    "ups2_d = {}\n",
    "for p in ups2_proteins_l:\n",
    "    ups2_d[p['uniprot']] = p['fmoles']"
   ]
  },
  {
   "cell_type": "code",
   "execution_count": 89,
   "metadata": {},
   "outputs": [
    {
     "data": {
      "text/plain": [
       "array(['P02768ups|ALBU_HUMAN_UPS', 'P00918ups|CAH2_HUMAN_UPS',\n",
       "       'P02787ups|TRFE_HUMAN_UPS', 'P06732ups|KCRM_HUMAN_UPS',\n",
       "       'P15559ups|NQO1_HUMAN_UPS', 'P00709ups|LALBA_HUMAN_UPS',\n",
       "       'P10145ups|IL8_HUMAN_UPS', 'P68871ups|HBB_HUMAN_UPS',\n",
       "       'P41159ups|LEP_HUMAN_UPS', 'P63165ups|SUMO1_HUMAN_UPS',\n",
       "       'P02788ups|TRFL_HUMAN_UPS', 'P62937ups|PPIA_HUMAN_UPS',\n",
       "       'P08758ups|ANXA5_HUMAN_UPS', 'P99999ups|CYC_HUMAN_UPS',\n",
       "       'P00915ups|CAH1_HUMAN_UPS', 'P55957ups|BID_HUMAN_UPS',\n",
       "       'P05413ups|FABPH_HUMAN_UPS', 'P01579ups|IFNG_HUMAN_UPS',\n",
       "       'P00441ups|SODC_HUMAN_UPS', 'P06396ups|GELS_HUMAN_UPS',\n",
       "       'P02753ups|RETBP_HUMAN_UPS', 'P04040ups|CATA_HUMAN_UPS',\n",
       "       'P01008ups|ANT3_HUMAN_UPS', 'P02144ups|MYG_HUMAN_UPS',\n",
       "       'P16083ups|NQO2_HUMAN_UPS', 'P09211ups|GSTP1_HUMAN_UPS',\n",
       "       'P12081ups|SYHC_HUMAN_UPS', 'O76070ups|SYUG_HUMAN_UPS',\n",
       "       'P01112ups|RASH_HUMAN_UPS', 'P00167ups|CYB5_HUMAN_UPS',\n",
       "       'Q15843ups|NEDD8_HUMAN_UPS', 'P69905ups|HBA_HUMAN_UPS',\n",
       "       'P01127ups|PDGFB_HUMAN_UPS', 'P01031ups|CO5_HUMAN_UPS',\n",
       "       'Q06830ups|PRDX1_HUMAN_UPS', 'P10636-8ups|TAU_HUMAN_UPS',\n",
       "       'P62937ups|PPIA_HUMAN_UPS,P62988ups|UBIQ_HUMAN_UPS,O76070ups|SYUG_HUMAN_UPS',\n",
       "       'P62988ups|UBIQ_HUMAN_UPS', 'P01344ups|IGF2_HUMAN_UPS',\n",
       "       'O00762ups|UBE2C_HUMAN_UPS', 'P01375ups|TNFA_HUMAN_UPS',\n",
       "       'P63279ups|UBC9_HUMAN_UPS', 'P51965ups|UB2E1_HUMAN_UPS',\n",
       "       'P08263ups|GSTA1_HUMAN_UPS', 'P01133ups|EGF_HUMAN_UPS',\n",
       "       'P61769ups|B2MG_HUMAN_UPS'], dtype=object)"
      ]
     },
     "execution_count": 89,
     "metadata": {},
     "output_type": "execute_result"
    }
   ],
   "source": [
    "mq_identifications_df['protein id'].unique()"
   ]
  },
  {
   "cell_type": "code",
   "execution_count": 90,
   "metadata": {},
   "outputs": [
    {
     "name": "stdout",
     "output_type": "stream",
     "text": [
      "didn't have three peptides for O00762ups|UBE2C_HUMAN_UPS\n",
      "didn't have three peptides for P01127ups|PDGFB_HUMAN_UPS\n",
      "didn't have three peptides for P01133ups|EGF_HUMAN_UPS\n",
      "didn't have three peptides for P01344ups|IGF2_HUMAN_UPS\n",
      "didn't have three peptides for P01375ups|TNFA_HUMAN_UPS\n",
      "didn't have three peptides for P08263ups|GSTA1_HUMAN_UPS\n",
      "didn't have three peptides for P10145ups|IL8_HUMAN_UPS\n",
      "didn't have three peptides for P51965ups|UB2E1_HUMAN_UPS\n",
      "didn't have three peptides for P61769ups|B2MG_HUMAN_UPS\n",
      "didn't have three peptides for P62937ups|PPIA_HUMAN_UPS\n",
      "didn't have three peptides for P62937ups|PPIA_HUMAN_UPS,P62988ups|UBIQ_HUMAN_UPS,O76070ups|SYUG_HUMAN_UPS\n",
      "didn't have three peptides for P62988ups|UBIQ_HUMAN_UPS\n",
      "didn't have three peptides for P63279ups|UBC9_HUMAN_UPS\n",
      "didn't have three peptides for Q15843ups|NEDD8_HUMAN_UPS\n"
     ]
    }
   ],
   "source": [
    "# find the three most intense peptides for each protein\n",
    "top3_l = []\n",
    "for group_name,group_df in mq_identifications_df.groupby('protein id'):\n",
    "    df = group_df.sort_values(by=['intensity'], ascending=False, inplace=False)\n",
    "    top3_df = df.head(n=3)\n",
    "    if len(top3_df) == 3:\n",
    "        uniprot_id = group_name.split('ups')[0]\n",
    "        pmoles = ups2_d[uniprot_id] / 1000\n",
    "        average_intensity = top3_df.intensity.mean()\n",
    "        signal_response_factor = average_intensity / pmoles\n",
    "        peptide_count = len(df)\n",
    "        attribs_d = top3_df[['mq_index','sequence','charge','intensity']].to_dict('records')\n",
    "        top3_l.append({'protein':group_name, 'pmoles':pmoles, 'average_intensity':average_intensity, 'signal_response_factor':signal_response_factor, 'peptide_count':peptide_count, 'attribs_d':attribs_d})\n",
    "    else:\n",
    "        print('didn\\'t have three peptides for {}'.format(group_name))\n",
    "mq_top3_df = pd.DataFrame(top3_l)"
   ]
  },
  {
   "cell_type": "code",
   "execution_count": 91,
   "metadata": {},
   "outputs": [
    {
     "data": {
      "text/plain": [
       "130899.33333333334"
      ]
     },
     "execution_count": 91,
     "metadata": {},
     "output_type": "execute_result"
    }
   ],
   "source": [
    "# using Serum albumin (P02768) as an internal reference\n",
    "universal_signal_response_factor = mq_top3_df[mq_top3_df.protein.str.startswith('P02768')].iloc[0].signal_response_factor\n",
    "universal_signal_response_factor"
   ]
  },
  {
   "cell_type": "code",
   "execution_count": 92,
   "metadata": {},
   "outputs": [],
   "source": [
    "mq_top3_df['calculated_pmoles'] = mq_top3_df.average_intensity / universal_signal_response_factor"
   ]
  },
  {
   "cell_type": "code",
   "execution_count": 93,
   "metadata": {},
   "outputs": [
    {
     "data": {
      "text/html": [
       "<div>\n",
       "<style scoped>\n",
       "    .dataframe tbody tr th:only-of-type {\n",
       "        vertical-align: middle;\n",
       "    }\n",
       "\n",
       "    .dataframe tbody tr th {\n",
       "        vertical-align: top;\n",
       "    }\n",
       "\n",
       "    .dataframe thead th {\n",
       "        text-align: right;\n",
       "    }\n",
       "</style>\n",
       "<table border=\"1\" class=\"dataframe\">\n",
       "  <thead>\n",
       "    <tr style=\"text-align: right;\">\n",
       "      <th></th>\n",
       "      <th>protein</th>\n",
       "      <th>pmoles</th>\n",
       "      <th>average_intensity</th>\n",
       "      <th>signal_response_factor</th>\n",
       "      <th>peptide_count</th>\n",
       "      <th>attribs_d</th>\n",
       "      <th>calculated_pmoles</th>\n",
       "    </tr>\n",
       "  </thead>\n",
       "  <tbody>\n",
       "    <tr>\n",
       "      <th>28</th>\n",
       "      <td>P68871ups|HBB_HUMAN_UPS</td>\n",
       "      <td>50.0000</td>\n",
       "      <td>1.219700e+06</td>\n",
       "      <td>2.439400e+04</td>\n",
       "      <td>15</td>\n",
       "      <td>[{'mq_index': 8044, 'sequence': 'VLGAFSDGLAHLD...</td>\n",
       "      <td>9.317847</td>\n",
       "    </tr>\n",
       "    <tr>\n",
       "      <th>13</th>\n",
       "      <td>P02787ups|TRFE_HUMAN_UPS</td>\n",
       "      <td>0.0050</td>\n",
       "      <td>6.712267e+05</td>\n",
       "      <td>1.342453e+08</td>\n",
       "      <td>27</td>\n",
       "      <td>[{'mq_index': 22019, 'sequence': 'SM[15.9949]G...</td>\n",
       "      <td>5.127808</td>\n",
       "    </tr>\n",
       "    <tr>\n",
       "      <th>2</th>\n",
       "      <td>P00441ups|SODC_HUMAN_UPS</td>\n",
       "      <td>0.0005</td>\n",
       "      <td>7.739867e+04</td>\n",
       "      <td>1.547973e+08</td>\n",
       "      <td>4</td>\n",
       "      <td>[{'mq_index': 21879, 'sequence': 'DGVADVSIEDSV...</td>\n",
       "      <td>0.591284</td>\n",
       "    </tr>\n",
       "  </tbody>\n",
       "</table>\n",
       "</div>"
      ],
      "text/plain": [
       "                     protein   pmoles  average_intensity  \\\n",
       "28   P68871ups|HBB_HUMAN_UPS  50.0000       1.219700e+06   \n",
       "13  P02787ups|TRFE_HUMAN_UPS   0.0050       6.712267e+05   \n",
       "2   P00441ups|SODC_HUMAN_UPS   0.0005       7.739867e+04   \n",
       "\n",
       "    signal_response_factor  peptide_count  \\\n",
       "28            2.439400e+04             15   \n",
       "13            1.342453e+08             27   \n",
       "2             1.547973e+08              4   \n",
       "\n",
       "                                            attribs_d  calculated_pmoles  \n",
       "28  [{'mq_index': 8044, 'sequence': 'VLGAFSDGLAHLD...           9.317847  \n",
       "13  [{'mq_index': 22019, 'sequence': 'SM[15.9949]G...           5.127808  \n",
       "2   [{'mq_index': 21879, 'sequence': 'DGVADVSIEDSV...           0.591284  "
      ]
     },
     "execution_count": 93,
     "metadata": {},
     "output_type": "execute_result"
    }
   ],
   "source": [
    "mq_top3_df.sample(n=3)"
   ]
  },
  {
   "cell_type": "code",
   "execution_count": 94,
   "metadata": {},
   "outputs": [
    {
     "data": {
      "text/plain": [
       "4.158287290929354"
      ]
     },
     "execution_count": 94,
     "metadata": {},
     "output_type": "execute_result"
    }
   ],
   "source": [
    "# calculate the CV for the signal response factor\n",
    "cv = mq_top3_df.signal_response_factor.std() / mq_top3_df.signal_response_factor.mean()\n",
    "cv"
   ]
  },
  {
   "cell_type": "markdown",
   "metadata": {},
   "source": [
    "#### analyse UPS1"
   ]
  },
  {
   "cell_type": "code",
   "execution_count": 103,
   "metadata": {},
   "outputs": [],
   "source": [
    "UPS1_run_name = 'P3830_YeastUPS1_01_Slot1-1_1_5066'"
   ]
  },
  {
   "cell_type": "code",
   "execution_count": 104,
   "metadata": {},
   "outputs": [],
   "source": [
    "# merge the precolator results with the MQ UPS1 features\n",
    "MQ_UPS1_FEATURES_NAME = '{}/{}.pkl'.format(MQ_MGF_DIR, UPS1_run_name)\n",
    "mq_UPS1_features_df = pd.read_pickle(MQ_UPS1_FEATURES_NAME)"
   ]
  },
  {
   "cell_type": "code",
   "execution_count": 105,
   "metadata": {},
   "outputs": [],
   "source": [
    "mq_UPS1_identifications_df = pd.merge(mq_UPS1_features_df, mq_psms_df, how='left', left_on=['mq_index'], right_on=['mq_index'])\n",
    "# remove any features that were not identified\n",
    "mq_UPS1_identifications_df.dropna(subset=['sequence'], inplace=True)\n"
   ]
  },
  {
   "cell_type": "code",
   "execution_count": 106,
   "metadata": {},
   "outputs": [],
   "source": [
    "mq_UPS1_identifications_df['theoretical_peptide_mass'] = mq_UPS1_identifications_df['peptide mass'] + (mq_UPS1_identifications_df.sequence.str.count('C') * ADD_C_CYSTEINE_DA)\n",
    "mq_UPS1_identifications_df['mass_accuracy_ppm'] = (mq_UPS1_identifications_df['monoisotopic_mass'] - mq_UPS1_identifications_df['theoretical_peptide_mass']) / mq_UPS1_identifications_df['theoretical_peptide_mass'] * 10**6\n",
    "mq_UPS1_identifications_df['mass_error'] = mq_UPS1_identifications_df['monoisotopic_mass'] - mq_UPS1_identifications_df['theoretical_peptide_mass']\n"
   ]
  },
  {
   "cell_type": "code",
   "execution_count": 107,
   "metadata": {},
   "outputs": [],
   "source": [
    "mq_UPS1_identifications_df = mq_UPS1_identifications_df[(mq_UPS1_identifications_df['percolator q-value'] <= MAXIMUM_Q_VALUE) & (~mq_UPS1_identifications_df['protein id'].str.contains('YEAST'))]"
   ]
  },
  {
   "cell_type": "code",
   "execution_count": 108,
   "metadata": {},
   "outputs": [
    {
     "name": "stdout",
     "output_type": "stream",
     "text": [
      "number of unique proteins: 46\n"
     ]
    }
   ],
   "source": [
    "print('number of unique proteins: {}'.format(len(mq_UPS1_identifications_df['protein id'].unique())))"
   ]
  },
  {
   "cell_type": "code",
   "execution_count": 109,
   "metadata": {},
   "outputs": [
    {
     "name": "stdout",
     "output_type": "stream",
     "text": [
      "didn't have three peptides for O00762ups|UBE2C_HUMAN_UPS\n",
      "didn't have three peptides for P01127ups|PDGFB_HUMAN_UPS\n",
      "didn't have three peptides for P01133ups|EGF_HUMAN_UPS\n",
      "didn't have three peptides for P01344ups|IGF2_HUMAN_UPS\n",
      "didn't have three peptides for P01375ups|TNFA_HUMAN_UPS\n",
      "didn't have three peptides for P08263ups|GSTA1_HUMAN_UPS\n",
      "didn't have three peptides for P10145ups|IL8_HUMAN_UPS\n",
      "didn't have three peptides for P51965ups|UB2E1_HUMAN_UPS\n",
      "didn't have three peptides for P61769ups|B2MG_HUMAN_UPS\n",
      "didn't have three peptides for P62937ups|PPIA_HUMAN_UPS\n",
      "didn't have three peptides for P62937ups|PPIA_HUMAN_UPS,P62988ups|UBIQ_HUMAN_UPS,O76070ups|SYUG_HUMAN_UPS\n",
      "didn't have three peptides for P62988ups|UBIQ_HUMAN_UPS\n",
      "didn't have three peptides for P63279ups|UBC9_HUMAN_UPS\n",
      "didn't have three peptides for Q15843ups|NEDD8_HUMAN_UPS\n"
     ]
    }
   ],
   "source": [
    "# find the three most intense peptides for each protein\n",
    "top3_l = []\n",
    "for group_name,group_df in mq_UPS1_identifications_df.groupby('protein id'):\n",
    "    df = group_df.sort_values(by=['intensity'], ascending=False, inplace=False)\n",
    "    top3_df = df.head(n=3)\n",
    "    if len(top3_df) == 3:\n",
    "        uniprot_id = group_name.split('ups')[0]\n",
    "        pmoles = ups2_d[uniprot_id] / 1000\n",
    "        average_intensity = top3_df.intensity.mean()\n",
    "        signal_response_factor = average_intensity / pmoles\n",
    "        peptide_count = len(df)\n",
    "        attribs_d = top3_df[['mq_index','sequence','charge','intensity']].to_dict('records')\n",
    "        top3_l.append({'protein':group_name, 'pmoles':pmoles, 'average_intensity':average_intensity, 'signal_response_factor':signal_response_factor, 'peptide_count':peptide_count, 'attribs_d':attribs_d})\n",
    "    else:\n",
    "        print('didn\\'t have three peptides for {}'.format(group_name))\n",
    "mq_UPS1_top3_df = pd.DataFrame(top3_l)"
   ]
  },
  {
   "cell_type": "markdown",
   "metadata": {},
   "source": [
    "### compare relative intensities of top-3 peptides for each protein found in common in UPS2 and UPS1"
   ]
  },
  {
   "cell_type": "code",
   "execution_count": 110,
   "metadata": {},
   "outputs": [],
   "source": [
    "ratios_df = pd.merge(mq_top3_df[['protein','average_intensity']], mq_UPS1_top3_df[['protein','average_intensity']], how='inner', left_on=['protein'], right_on=['protein'], suffixes=['_UPS2','_UPS1'])\n"
   ]
  },
  {
   "cell_type": "code",
   "execution_count": 111,
   "metadata": {},
   "outputs": [],
   "source": [
    "ratios_df['ratio'] = ratios_df.average_intensity_UPS2 / ratios_df.average_intensity_UPS1"
   ]
  },
  {
   "cell_type": "code",
   "execution_count": 112,
   "metadata": {},
   "outputs": [],
   "source": [
    "ratios_df['expected_ratio'] = ratios_df.apply(lambda row: (ups2_d[row.protein.split('ups')[0]] / 1000) / 5.0, axis=1)\n",
    "ratios_df['protein_code'] = ratios_df.apply(lambda row: row.protein.split('ups')[0], axis=1)"
   ]
  },
  {
   "cell_type": "code",
   "execution_count": 113,
   "metadata": {},
   "outputs": [],
   "source": [
    "ratios_df.sort_values(by=['expected_ratio'], ascending=False, inplace=True)"
   ]
  },
  {
   "cell_type": "code",
   "execution_count": 114,
   "metadata": {},
   "outputs": [
    {
     "data": {
      "text/html": [
       "<div>\n",
       "<style scoped>\n",
       "    .dataframe tbody tr th:only-of-type {\n",
       "        vertical-align: middle;\n",
       "    }\n",
       "\n",
       "    .dataframe tbody tr th {\n",
       "        vertical-align: top;\n",
       "    }\n",
       "\n",
       "    .dataframe thead th {\n",
       "        text-align: right;\n",
       "    }\n",
       "</style>\n",
       "<table border=\"1\" class=\"dataframe\">\n",
       "  <thead>\n",
       "    <tr style=\"text-align: right;\">\n",
       "      <th></th>\n",
       "      <th>protein</th>\n",
       "      <th>average_intensity_UPS2</th>\n",
       "      <th>average_intensity_UPS1</th>\n",
       "      <th>ratio</th>\n",
       "      <th>expected_ratio</th>\n",
       "      <th>protein_code</th>\n",
       "    </tr>\n",
       "  </thead>\n",
       "  <tbody>\n",
       "    <tr>\n",
       "      <th>9</th>\n",
       "      <td>P01579ups|IFNG_HUMAN_UPS</td>\n",
       "      <td>1.664500e+05</td>\n",
       "      <td>152492.000000</td>\n",
       "      <td>1.091533</td>\n",
       "      <td>0.001</td>\n",
       "      <td>P01579</td>\n",
       "    </tr>\n",
       "    <tr>\n",
       "      <th>11</th>\n",
       "      <td>P02753ups|RETBP_HUMAN_UPS</td>\n",
       "      <td>3.893633e+04</td>\n",
       "      <td>49795.000000</td>\n",
       "      <td>0.781933</td>\n",
       "      <td>0.100</td>\n",
       "      <td>P02753</td>\n",
       "    </tr>\n",
       "    <tr>\n",
       "      <th>28</th>\n",
       "      <td>P68871ups|HBB_HUMAN_UPS</td>\n",
       "      <td>1.219700e+06</td>\n",
       "      <td>464836.666667</td>\n",
       "      <td>2.623932</td>\n",
       "      <td>10.000</td>\n",
       "      <td>P68871</td>\n",
       "    </tr>\n",
       "  </tbody>\n",
       "</table>\n",
       "</div>"
      ],
      "text/plain": [
       "                      protein  average_intensity_UPS2  average_intensity_UPS1  \\\n",
       "9    P01579ups|IFNG_HUMAN_UPS            1.664500e+05           152492.000000   \n",
       "11  P02753ups|RETBP_HUMAN_UPS            3.893633e+04            49795.000000   \n",
       "28    P68871ups|HBB_HUMAN_UPS            1.219700e+06           464836.666667   \n",
       "\n",
       "       ratio  expected_ratio protein_code  \n",
       "9   1.091533           0.001       P01579  \n",
       "11  0.781933           0.100       P02753  \n",
       "28  2.623932          10.000       P68871  "
      ]
     },
     "execution_count": 114,
     "metadata": {},
     "output_type": "execute_result"
    }
   ],
   "source": [
    "ratios_df.sample(n=3)"
   ]
  },
  {
   "cell_type": "code",
   "execution_count": 115,
   "metadata": {},
   "outputs": [
    {
     "data": {
      "text/plain": [
       "0.39912388829091877"
      ]
     },
     "execution_count": 115,
     "metadata": {},
     "output_type": "execute_result"
    }
   ],
   "source": [
    "ratios_df['ratio'].corr(ratios_df['expected_ratio'])"
   ]
  },
  {
   "cell_type": "code",
   "execution_count": 116,
   "metadata": {},
   "outputs": [],
   "source": [
    "ratios_df.to_pickle('{}/mq_ratios_ups1_ups2.pkl'.format(expanduser('~')))"
   ]
  },
  {
   "cell_type": "code",
   "execution_count": 119,
   "metadata": {},
   "outputs": [
    {
     "data": {
      "image/png": "[encoded data removed]",
      "text/plain": [
       "<Figure size 1080x432 with 1 Axes>"
      ]
     },
     "metadata": {
      "needs_background": "light"
     },
     "output_type": "display_data"
    }
   ],
   "source": [
    "labels = ratios_df.protein_code\n",
    "mq_ratio = np.log10(ratios_df.ratio)\n",
    "expected_ratio = np.log10(ratios_df.expected_ratio)\n",
    "\n",
    "x = np.arange(len(labels))  # the label locations\n",
    "width = 0.2  # the width of the bars\n",
    "\n",
    "f, ax = plt.subplots()\n",
    "f.set_figheight(6)\n",
    "f.set_figwidth(15)\n",
    "\n",
    "plt.margins(0.06)\n",
    "plt.title('')\n",
    "\n",
    "rects1 = ax.bar(x, mq_ratio, width, label='MaxQuant ratio')\n",
    "rects2 = ax.bar(x + width, expected_ratio, width, label='expected ratio')\n",
    "\n",
    "# add text for labels, title and custom x-axis tick labels, etc.\n",
    "ax.set_ylabel('log10(UPS2/UPS1)')\n",
    "ax.set_title('ratio of protein intensity')\n",
    "ax.set_xticks(x)\n",
    "ax.set_xticklabels(labels, rotation=70, ha='right')\n",
    "ax.legend()\n",
    "\n",
    "# create offset transform (x=5pt)\n",
    "from matplotlib.transforms import ScaledTranslation\n",
    "dx, dy = 5, 0\n",
    "offset = ScaledTranslation(dx/f.dpi, dy/f.dpi, scale_trans=f.dpi_scale_trans)\n",
    "\n",
    "# apply offset transform to all xticklabels\n",
    "for label in ax.xaxis.get_majorticklabels():\n",
    "    label.set_transform(label.get_transform() + offset)\n",
    "    \n",
    "plt.show()"
   ]
  },
  {
   "cell_type": "markdown",
   "metadata": {},
   "source": [
    "### how many proteins does MaxQuant find with Andromeda"
   ]
  },
  {
   "cell_type": "code",
   "execution_count": 39,
   "metadata": {},
   "outputs": [],
   "source": [
    "MQ_ANALYSIS_DIR = '{}/MQ-analysis-of-P3830/combined/txt'.format(expanduser('~'))"
   ]
  },
  {
   "cell_type": "code",
   "execution_count": 40,
   "metadata": {},
   "outputs": [],
   "source": [
    "mq_results_df = pd.read_csv('{}/evidence.txt'.format(MQ_ANALYSIS_DIR), sep='\\\\t', engine='python')"
   ]
  },
  {
   "cell_type": "code",
   "execution_count": 41,
   "metadata": {},
   "outputs": [
    {
     "data": {
      "text/plain": [
       "Index(['Sequence', 'Length', 'Modifications', 'Modified sequence',\n",
       "       'Oxidation (M) Probabilities', 'Oxidation (M) Score Diffs',\n",
       "       'Acetyl (Protein N-term)', 'Oxidation (M)', 'Missed cleavages',\n",
       "       'Proteins', 'Leading proteins', 'Leading razor protein', 'Type',\n",
       "       'Raw file', 'MS/MS m/z', 'Charge', 'm/z', 'Mass',\n",
       "       'Uncalibrated - Calibrated m/z [ppm]',\n",
       "       'Uncalibrated - Calibrated m/z [Da]', 'Mass error [ppm]',\n",
       "       'Mass error [Da]', 'Uncalibrated mass error [ppm]',\n",
       "       'Uncalibrated mass error [Da]', 'Max intensity m/z 0', 'Retention time',\n",
       "       'Retention length', 'Calibrated retention time',\n",
       "       'Calibrated retention time start', 'Calibrated retention time finish',\n",
       "       'Retention time calibration', 'Ion mobility index',\n",
       "       'Ion mobility length', '1/K0', '1/K0 length', 'Calibrated 1/K0', 'CCS',\n",
       "       'Calibrated CCS', 'CCS length', 'Match time difference',\n",
       "       'Match m/z difference', 'Match K0 difference', 'Match q-value',\n",
       "       'Match score', 'Number of data points', 'Number of scans',\n",
       "       'Number of isotopic peaks', 'PIF', 'Fraction of total spectrum',\n",
       "       'Base peak fraction', 'PEP', 'MS/MS count', 'MS/MS scan number',\n",
       "       'Score', 'Delta score', 'Combinatorics', 'Intensity', 'Reverse',\n",
       "       'Potential contaminant', 'id', 'Protein group IDs', 'Peptide ID',\n",
       "       'Mod. peptide ID', 'MS/MS IDs', 'Best MS/MS', 'Oxidation (M) site IDs',\n",
       "       'Taxonomy IDs'],\n",
       "      dtype='object')"
      ]
     },
     "execution_count": 41,
     "metadata": {},
     "output_type": "execute_result"
    }
   ],
   "source": [
    "mq_results_df.columns"
   ]
  },
  {
   "cell_type": "code",
   "execution_count": 42,
   "metadata": {},
   "outputs": [],
   "source": [
    "# remove decoys, which are indicated by a '+' in the Reverse column\n",
    "mq_results_df = mq_results_df[pd.isna(mq_results_df.Reverse)]\n",
    "# remove identifications with no intensity\n",
    "mq_results_df = mq_results_df[(mq_results_df.Intensity > 0)]\n",
    "# remove potential contaminants\n",
    "mq_results_df = mq_results_df[pd.isna(mq_results_df['Potential contaminant'])]\n",
    "# remove identifications with mass error more than +/- 5 ppm\n",
    "mq_results_df = mq_results_df[np.abs(mq_results_df['Mass error [ppm]']) <= 5.0]\n",
    "# remove yeast proteins\n",
    "mq_results_df = mq_results_df[(~mq_results_df['Proteins'].str.contains('YEAST'))]\n"
   ]
  },
  {
   "cell_type": "code",
   "execution_count": 43,
   "metadata": {},
   "outputs": [
    {
     "data": {
      "text/html": [
       "<div>\n",
       "<style scoped>\n",
       "    .dataframe tbody tr th:only-of-type {\n",
       "        vertical-align: middle;\n",
       "    }\n",
       "\n",
       "    .dataframe tbody tr th {\n",
       "        vertical-align: top;\n",
       "    }\n",
       "\n",
       "    .dataframe thead th {\n",
       "        text-align: right;\n",
       "    }\n",
       "</style>\n",
       "<table border=\"1\" class=\"dataframe\">\n",
       "  <thead>\n",
       "    <tr style=\"text-align: right;\">\n",
       "      <th></th>\n",
       "      <th>Proteins</th>\n",
       "      <th>Leading proteins</th>\n",
       "    </tr>\n",
       "  </thead>\n",
       "  <tbody>\n",
       "    <tr>\n",
       "      <th>144294</th>\n",
       "      <td>sp|P02788|TRFL_HUMAN</td>\n",
       "      <td>sp|P02788|TRFL_HUMAN</td>\n",
       "    </tr>\n",
       "    <tr>\n",
       "      <th>177768</th>\n",
       "      <td>sp|Q9P2R3|ANFY1_HUMAN</td>\n",
       "      <td>sp|Q9P2R3|ANFY1_HUMAN</td>\n",
       "    </tr>\n",
       "    <tr>\n",
       "      <th>123798</th>\n",
       "      <td>sp|P01375|TNFA_HUMAN</td>\n",
       "      <td>sp|P01375|TNFA_HUMAN</td>\n",
       "    </tr>\n",
       "    <tr>\n",
       "      <th>121668</th>\n",
       "      <td>sp|P09211|GSTP1_HUMAN</td>\n",
       "      <td>sp|P09211|GSTP1_HUMAN</td>\n",
       "    </tr>\n",
       "    <tr>\n",
       "      <th>59711</th>\n",
       "      <td>sp|P00915|CAH1_HUMAN</td>\n",
       "      <td>sp|P00915|CAH1_HUMAN</td>\n",
       "    </tr>\n",
       "    <tr>\n",
       "      <th>180193</th>\n",
       "      <td>sp|P00918|CAH2_HUMAN</td>\n",
       "      <td>sp|P00918|CAH2_HUMAN</td>\n",
       "    </tr>\n",
       "    <tr>\n",
       "      <th>85625</th>\n",
       "      <td>sp|P69905|HBA_HUMAN</td>\n",
       "      <td>sp|P69905|HBA_HUMAN</td>\n",
       "    </tr>\n",
       "    <tr>\n",
       "      <th>40769</th>\n",
       "      <td>sp|P01008|ANT3_HUMAN</td>\n",
       "      <td>sp|P01008|ANT3_HUMAN</td>\n",
       "    </tr>\n",
       "    <tr>\n",
       "      <th>148402</th>\n",
       "      <td>sp|P10636|TAU_HUMAN</td>\n",
       "      <td>sp|P10636|TAU_HUMAN</td>\n",
       "    </tr>\n",
       "    <tr>\n",
       "      <th>181236</th>\n",
       "      <td>sp|P01579|IFNG_HUMAN</td>\n",
       "      <td>sp|P01579|IFNG_HUMAN</td>\n",
       "    </tr>\n",
       "  </tbody>\n",
       "</table>\n",
       "</div>"
      ],
      "text/plain": [
       "                     Proteins       Leading proteins\n",
       "144294   sp|P02788|TRFL_HUMAN   sp|P02788|TRFL_HUMAN\n",
       "177768  sp|Q9P2R3|ANFY1_HUMAN  sp|Q9P2R3|ANFY1_HUMAN\n",
       "123798   sp|P01375|TNFA_HUMAN   sp|P01375|TNFA_HUMAN\n",
       "121668  sp|P09211|GSTP1_HUMAN  sp|P09211|GSTP1_HUMAN\n",
       "59711    sp|P00915|CAH1_HUMAN   sp|P00915|CAH1_HUMAN\n",
       "180193   sp|P00918|CAH2_HUMAN   sp|P00918|CAH2_HUMAN\n",
       "85625     sp|P69905|HBA_HUMAN    sp|P69905|HBA_HUMAN\n",
       "40769    sp|P01008|ANT3_HUMAN   sp|P01008|ANT3_HUMAN\n",
       "148402    sp|P10636|TAU_HUMAN    sp|P10636|TAU_HUMAN\n",
       "181236   sp|P01579|IFNG_HUMAN   sp|P01579|IFNG_HUMAN"
      ]
     },
     "execution_count": 43,
     "metadata": {},
     "output_type": "execute_result"
    }
   ],
   "source": [
    "mq_results_df.sample(n=10)[['Proteins','Leading proteins']]"
   ]
  },
  {
   "cell_type": "code",
   "execution_count": 44,
   "metadata": {},
   "outputs": [],
   "source": [
    "# definition of uniqueness in MaxQuant output with MBR on\n",
    "proteins_l = []\n",
    "unique_peptide_key = ['Sequence','Modifications','Charge']\n",
    "for group_name,group_df in mq_results_df.groupby(unique_peptide_key):\n",
    "    protein = group_df.iloc[0]['Leading proteins']\n",
    "    if len(group_df['Leading proteins'].unique()) > 1:\n",
    "        print('more than one protein')\n",
    "    proteins_l.append({'peptide':group_name, 'protein':protein})\n",
    "mq_proteins_df = pd.DataFrame(proteins_l)"
   ]
  },
  {
   "cell_type": "code",
   "execution_count": 45,
   "metadata": {},
   "outputs": [
    {
     "name": "stdout",
     "output_type": "stream",
     "text": [
      "number of unique proteins: 85\n"
     ]
    }
   ],
   "source": [
    "print('number of unique proteins: {}'.format(len(mq_proteins_df.protein.unique())))"
   ]
  },
  {
   "cell_type": "code",
   "execution_count": null,
   "metadata": {},
   "outputs": [],
   "source": []
  }
 ],
 "metadata": {
  "kernelspec": {
   "display_name": "Python 3",
   "language": "python",
   "name": "python3"
  },
  "language_info": {
   "codemirror_mode": {
    "name": "ipython",
    "version": 3
   },
   "file_extension": ".py",
   "mimetype": "text/x-python",
   "name": "python",
   "nbconvert_exporter": "python",
   "pygments_lexer": "ipython3",
   "version": "3.8.5"
  }
 },
 "nbformat": 4,
 "nbformat_minor": 4
}
