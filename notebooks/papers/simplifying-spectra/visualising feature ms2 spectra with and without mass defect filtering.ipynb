{
 "cells": [
  {
   "cell_type": "code",
   "execution_count": 1,
   "metadata": {},
   "outputs": [],
   "source": [
    "import pandas as pd\n",
    "import numpy as np\n",
    "import sys\n",
    "import matplotlib.pyplot as plt\n",
    "import matplotlib.patches as patches\n",
    "from ms_deisotope import deconvolute_peaks, averagine, scoring\n",
    "from ms_deisotope.deconvolution import peak_retention_strategy\n",
    "import json\n",
    "from os.path import expanduser"
   ]
  },
  {
   "cell_type": "code",
   "execution_count": 2,
   "metadata": {},
   "outputs": [],
   "source": [
    "experiment_base_dir = '/media/big-ssd/experiments'\n",
    "experiment_name = 'P3856'\n",
    "precursor_definition_method = 'pasef'\n",
    "run_name = 'P3856_YHE211_1_Slot1-1_1_5104'\n",
    "\n",
    "EXPERIMENT_DIR = \"{}/{}\".format(experiment_base_dir, experiment_name)"
   ]
  },
  {
   "cell_type": "code",
   "execution_count": 3,
   "metadata": {},
   "outputs": [],
   "source": [
    "# select a precursor cuboid id to visualise\n",
    "# FEATURES_DIR = \"{}/features-{}\".format(EXPERIMENT_DIR, precursor_definition_method)\n",
    "# FEATURES_DEDUP_FILE = '{}/exp-{}-run-{}-features-{}-dedup.pkl'.format(FEATURES_DIR, experiment_name, run_name, precursor_definition_method)\n",
    "# d = pd.read_pickle(FEATURES_DEDUP_FILE)\n",
    "# features_df = d['features_df']\n",
    "# precursor_cuboid_id = features_df.sample(n=1).iloc[0].precursor_cuboid_id\n",
    "# precursor_cuboid_id\n",
    "\n",
    "# some good precursors for analysis\n",
    "# precursor_cuboid_id = 23911\n",
    "precursor_cuboid_id = 18601\n",
    "# precursor_cuboid_id = 35173"
   ]
  },
  {
   "cell_type": "code",
   "execution_count": 4,
   "metadata": {},
   "outputs": [],
   "source": [
    "VIS_FILE = '{}/feature-detection-{}-visualisation-{}.pkl'.format(expanduser(\"~\"), precursor_definition_method, precursor_cuboid_id)"
   ]
  },
  {
   "cell_type": "code",
   "execution_count": 5,
   "metadata": {},
   "outputs": [
    {
     "data": {
      "text/plain": [
       "dict_keys(['precursor_cuboid_d', 'wide_ms1_points_df', 'fe_ms1_points_df', 'peaks_after_intensity_descent', 'deconvolution_features_df', 'features_df'])"
      ]
     },
     "execution_count": 5,
     "metadata": {},
     "output_type": "execute_result"
    }
   ],
   "source": [
    "# load the visualisation file for this precursor cuboid\n",
    "vis_d = pd.read_pickle(VIS_FILE)\n",
    "vis_d.keys()"
   ]
  },
  {
   "cell_type": "code",
   "execution_count": 6,
   "metadata": {},
   "outputs": [
    {
     "data": {
      "text/html": [
       "<div>\n",
       "<style scoped>\n",
       "    .dataframe tbody tr th:only-of-type {\n",
       "        vertical-align: middle;\n",
       "    }\n",
       "\n",
       "    .dataframe tbody tr th {\n",
       "        vertical-align: top;\n",
       "    }\n",
       "\n",
       "    .dataframe thead th {\n",
       "        text-align: right;\n",
       "    }\n",
       "</style>\n",
       "<table border=\"1\" class=\"dataframe\">\n",
       "  <thead>\n",
       "    <tr style=\"text-align: right;\">\n",
       "      <th></th>\n",
       "      <th>mono_mz_lower</th>\n",
       "      <th>mono_mz_upper</th>\n",
       "      <th>scan_apex</th>\n",
       "      <th>scan_lower</th>\n",
       "      <th>scan_upper</th>\n",
       "      <th>rt_apex</th>\n",
       "      <th>rt_lower</th>\n",
       "      <th>rt_upper</th>\n",
       "      <th>intensity_without_saturation_correction</th>\n",
       "      <th>intensity_with_saturation_correction</th>\n",
       "      <th>...</th>\n",
       "      <th>charge</th>\n",
       "      <th>monoisotopic_mass</th>\n",
       "      <th>feature_intensity</th>\n",
       "      <th>envelope</th>\n",
       "      <th>isotope_count</th>\n",
       "      <th>deconvolution_score</th>\n",
       "      <th>precursor_cuboid_id</th>\n",
       "      <th>fragment_ions_l</th>\n",
       "      <th>fmdw_before_after_d</th>\n",
       "      <th>feature_id</th>\n",
       "    </tr>\n",
       "  </thead>\n",
       "  <tbody>\n",
       "    <tr>\n",
       "      <th>0</th>\n",
       "      <td>817.910278</td>\n",
       "      <td>817.962341</td>\n",
       "      <td>492.0</td>\n",
       "      <td>456</td>\n",
       "      <td>527</td>\n",
       "      <td>1812.938232</td>\n",
       "      <td>1809.233398</td>\n",
       "      <td>1816.11438</td>\n",
       "      <td>3307</td>\n",
       "      <td>3307</td>\n",
       "      <td>...</td>\n",
       "      <td>2</td>\n",
       "      <td>1633.858032</td>\n",
       "      <td>3307</td>\n",
       "      <td>[[817.9363193873662, 28687.0], [818.4375470126...</td>\n",
       "      <td>4</td>\n",
       "      <td>388.130371</td>\n",
       "      <td>18601</td>\n",
       "      <td>[{\"singly_protonated_mass\": 209.1077, \"neutral...</td>\n",
       "      <td>{'ms2_points_l': '[{\"mz\":619.3258019432,\"inten...</td>\n",
       "      <td>1860101</td>\n",
       "    </tr>\n",
       "    <tr>\n",
       "      <th>1</th>\n",
       "      <td>818.884277</td>\n",
       "      <td>818.936462</td>\n",
       "      <td>489.0</td>\n",
       "      <td>466</td>\n",
       "      <td>518</td>\n",
       "      <td>1810.820801</td>\n",
       "      <td>1807.115479</td>\n",
       "      <td>1816.11438</td>\n",
       "      <td>4357</td>\n",
       "      <td>4357</td>\n",
       "      <td>...</td>\n",
       "      <td>2</td>\n",
       "      <td>1635.803101</td>\n",
       "      <td>4357</td>\n",
       "      <td>[[818.9103842802886, 25258.0], [819.4105121369...</td>\n",
       "      <td>4</td>\n",
       "      <td>310.311859</td>\n",
       "      <td>18601</td>\n",
       "      <td>[{\"singly_protonated_mass\": 209.1077, \"neutral...</td>\n",
       "      <td>{'ms2_points_l': '[{\"mz\":619.3258019432,\"inten...</td>\n",
       "      <td>1860102</td>\n",
       "    </tr>\n",
       "    <tr>\n",
       "      <th>2</th>\n",
       "      <td>815.389221</td>\n",
       "      <td>815.441162</td>\n",
       "      <td>466.0</td>\n",
       "      <td>452</td>\n",
       "      <td>514</td>\n",
       "      <td>1811.879395</td>\n",
       "      <td>1808.704468</td>\n",
       "      <td>1815.05481</td>\n",
       "      <td>1676</td>\n",
       "      <td>1676</td>\n",
       "      <td>...</td>\n",
       "      <td>1</td>\n",
       "      <td>814.407898</td>\n",
       "      <td>1676</td>\n",
       "      <td>[[815.4151939403328, 13868.0], [816.4231483758...</td>\n",
       "      <td>3</td>\n",
       "      <td>155.319870</td>\n",
       "      <td>18601</td>\n",
       "      <td>[{\"singly_protonated_mass\": 209.1077, \"neutral...</td>\n",
       "      <td>{'ms2_points_l': '[{\"mz\":619.3258019432,\"inten...</td>\n",
       "      <td>1860103</td>\n",
       "    </tr>\n",
       "  </tbody>\n",
       "</table>\n",
       "<p>3 rows × 27 columns</p>\n",
       "</div>"
      ],
      "text/plain": [
       "   mono_mz_lower  mono_mz_upper  scan_apex  scan_lower  scan_upper  \\\n",
       "0     817.910278     817.962341      492.0         456         527   \n",
       "1     818.884277     818.936462      489.0         466         518   \n",
       "2     815.389221     815.441162      466.0         452         514   \n",
       "\n",
       "       rt_apex     rt_lower    rt_upper  \\\n",
       "0  1812.938232  1809.233398  1816.11438   \n",
       "1  1810.820801  1807.115479  1816.11438   \n",
       "2  1811.879395  1808.704468  1815.05481   \n",
       "\n",
       "   intensity_without_saturation_correction  \\\n",
       "0                                     3307   \n",
       "1                                     4357   \n",
       "2                                     1676   \n",
       "\n",
       "   intensity_with_saturation_correction  ... charge monoisotopic_mass  \\\n",
       "0                                  3307  ...      2       1633.858032   \n",
       "1                                  4357  ...      2       1635.803101   \n",
       "2                                  1676  ...      1        814.407898   \n",
       "\n",
       "   feature_intensity                                           envelope  \\\n",
       "0               3307  [[817.9363193873662, 28687.0], [818.4375470126...   \n",
       "1               4357  [[818.9103842802886, 25258.0], [819.4105121369...   \n",
       "2               1676  [[815.4151939403328, 13868.0], [816.4231483758...   \n",
       "\n",
       "  isotope_count deconvolution_score  precursor_cuboid_id  \\\n",
       "0             4          388.130371                18601   \n",
       "1             4          310.311859                18601   \n",
       "2             3          155.319870                18601   \n",
       "\n",
       "                                     fragment_ions_l  \\\n",
       "0  [{\"singly_protonated_mass\": 209.1077, \"neutral...   \n",
       "1  [{\"singly_protonated_mass\": 209.1077, \"neutral...   \n",
       "2  [{\"singly_protonated_mass\": 209.1077, \"neutral...   \n",
       "\n",
       "                                 fmdw_before_after_d  feature_id  \n",
       "0  {'ms2_points_l': '[{\"mz\":619.3258019432,\"inten...     1860101  \n",
       "1  {'ms2_points_l': '[{\"mz\":619.3258019432,\"inten...     1860102  \n",
       "2  {'ms2_points_l': '[{\"mz\":619.3258019432,\"inten...     1860103  \n",
       "\n",
       "[3 rows x 27 columns]"
      ]
     },
     "execution_count": 6,
     "metadata": {},
     "output_type": "execute_result"
    }
   ],
   "source": [
    "features_df = vis_d['features_df']\n",
    "features_df"
   ]
  },
  {
   "cell_type": "code",
   "execution_count": 7,
   "metadata": {},
   "outputs": [
    {
     "data": {
      "text/plain": [
       "1860101"
      ]
     },
     "execution_count": 7,
     "metadata": {},
     "output_type": "execute_result"
    }
   ],
   "source": [
    "selected_feature_number = 1\n",
    "selected_feature = features_df.iloc[selected_feature_number-1]\n",
    "selected_feature_id = selected_feature.feature_id\n",
    "selected_feature_id"
   ]
  },
  {
   "cell_type": "code",
   "execution_count": 8,
   "metadata": {},
   "outputs": [],
   "source": [
    "ms2_points_l = selected_feature.fmdw_before_after_d['ms2_points_l']"
   ]
  },
  {
   "cell_type": "code",
   "execution_count": 9,
   "metadata": {},
   "outputs": [
    {
     "ename": "ValueError",
     "evalue": "DataFrame constructor not properly called!",
     "output_type": "error",
     "traceback": [
      "\u001b[0;31m---------------------------------------------------------------------------\u001b[0m",
      "\u001b[0;31mValueError\u001b[0m                                Traceback (most recent call last)",
      "\u001b[0;32m<ipython-input-9-aebe857bc641>\u001b[0m in \u001b[0;36m<module>\u001b[0;34m\u001b[0m\n\u001b[0;32m----> 1\u001b[0;31m \u001b[0mms2_points_df\u001b[0m \u001b[0;34m=\u001b[0m \u001b[0mpd\u001b[0m\u001b[0;34m.\u001b[0m\u001b[0mDataFrame\u001b[0m\u001b[0;34m(\u001b[0m\u001b[0mms2_points_l\u001b[0m\u001b[0;34m)\u001b[0m\u001b[0;34m\u001b[0m\u001b[0;34m\u001b[0m\u001b[0m\n\u001b[0m",
      "\u001b[0;32m~/anaconda3/envs/py36/lib/python3.8/site-packages/pandas/core/frame.py\u001b[0m in \u001b[0;36m__init__\u001b[0;34m(self, data, index, columns, dtype, copy)\u001b[0m\n\u001b[1;32m    728\u001b[0m         \u001b[0;32melse\u001b[0m\u001b[0;34m:\u001b[0m\u001b[0;34m\u001b[0m\u001b[0;34m\u001b[0m\u001b[0m\n\u001b[1;32m    729\u001b[0m             \u001b[0;32mif\u001b[0m \u001b[0mindex\u001b[0m \u001b[0;32mis\u001b[0m \u001b[0;32mNone\u001b[0m \u001b[0;32mor\u001b[0m \u001b[0mcolumns\u001b[0m \u001b[0;32mis\u001b[0m \u001b[0;32mNone\u001b[0m\u001b[0;34m:\u001b[0m\u001b[0;34m\u001b[0m\u001b[0;34m\u001b[0m\u001b[0m\n\u001b[0;32m--> 730\u001b[0;31m                 \u001b[0;32mraise\u001b[0m \u001b[0mValueError\u001b[0m\u001b[0;34m(\u001b[0m\u001b[0;34m\"DataFrame constructor not properly called!\"\u001b[0m\u001b[0;34m)\u001b[0m\u001b[0;34m\u001b[0m\u001b[0;34m\u001b[0m\u001b[0m\n\u001b[0m\u001b[1;32m    731\u001b[0m \u001b[0;34m\u001b[0m\u001b[0m\n\u001b[1;32m    732\u001b[0m             \u001b[0;31m# Argument 1 to \"ensure_index\" has incompatible type \"Collection[Any]\";\u001b[0m\u001b[0;34m\u001b[0m\u001b[0;34m\u001b[0m\u001b[0;34m\u001b[0m\u001b[0m\n",
      "\u001b[0;31mValueError\u001b[0m: DataFrame constructor not properly called!"
     ]
    }
   ],
   "source": [
    "ms2_points_df = pd.DataFrame(ms2_points_l)"
   ]
  },
  {
   "cell_type": "code",
   "execution_count": null,
   "metadata": {},
   "outputs": [],
   "source": [
    "ms2_points_df['normalised_intensity'] = ms2_points_df.intensity / ms2_points_df.intensity.max()"
   ]
  },
  {
   "cell_type": "code",
   "execution_count": null,
   "metadata": {},
   "outputs": [],
   "source": [
    "f, ax = plt.subplots()\n",
    "colors = ['tab:blue', 'tab:orange', 'tab:green', 'tab:red', 'tab:purple', 'tab:brown', 'tab:pink', 'tab:gray', 'tab:olive', 'tab:cyan']\n",
    "\n",
    "ax.scatter(ms2_points_df.mz, ms2_points_df.intensity, marker='o', color='tab:green', lw=0, s=30, alpha=0.4, label='raw points')\n",
    "\n",
    "plt.xlabel('m/z')\n",
    "plt.ylabel('intensity')\n",
    "f.set_figheight(8)\n",
    "f.set_figwidth(15)\n",
    "\n",
    "nearest = 100.0\n",
    "range_l = round(ms2_points_df.mz.min() / nearest) * nearest\n",
    "range_u = round(ms2_points_df.mz.max() / nearest) * nearest\n",
    "plt.xticks(np.arange(range_l,range_u+nearest,nearest))\n",
    "\n",
    "plt.margins(0.06)\n",
    "plt.legend(loc='best')\n",
    "# plt.title('raw ms2 spectra for a precursor cuboid\\nprecursor cuboid {}, run {}, experiment {}'.format(precursor_cuboid_id, run_name, experiment_name))\n",
    "plt.show()"
   ]
  },
  {
   "cell_type": "code",
   "execution_count": null,
   "metadata": {},
   "outputs": [],
   "source": [
    "fragment_ions_before_df = pd.DataFrame(selected_feature.fmdw_before_after_d['before_fmdw'])\n",
    "fragment_ions_before_df['normalised_intensity'] = fragment_ions_before_df.intensity / fragment_ions_before_df.intensity.max()\n",
    "\n",
    "fragment_ions_after_df = pd.DataFrame(selected_feature.fmdw_before_after_d['after_fmdw'])\n",
    "fragment_ions_after_df['normalised_intensity'] = fragment_ions_after_df.intensity / fragment_ions_after_df.intensity.max()\n"
   ]
  },
  {
   "cell_type": "code",
   "execution_count": null,
   "metadata": {},
   "outputs": [],
   "source": [
    "reduced_by = (len(fragment_ions_before_df) - len(fragment_ions_after_df)) / len(fragment_ions_before_df) * 100\n",
    "print('{} ions before, {} ions after, {}% reduction'.format(len(fragment_ions_before_df), len(fragment_ions_after_df), round(reduced_by)))"
   ]
  },
  {
   "cell_type": "code",
   "execution_count": null,
   "metadata": {},
   "outputs": [],
   "source": [
    "mass_lower = 650\n",
    "mass_upper = 850"
   ]
  },
  {
   "cell_type": "code",
   "execution_count": null,
   "metadata": {},
   "outputs": [],
   "source": [
    "subset_before_df = fragment_ions_before_df[(fragment_ions_before_df.neutral_mass >= mass_lower) & (fragment_ions_before_df.neutral_mass <= mass_upper)].copy()\n",
    "subset_after_df = fragment_ions_after_df[(fragment_ions_after_df.neutral_mass >= mass_lower) & (fragment_ions_after_df.neutral_mass <= mass_upper)].copy()"
   ]
  },
  {
   "cell_type": "code",
   "execution_count": null,
   "metadata": {},
   "outputs": [],
   "source": [
    "subset_before_df['normalised_intensity'] = subset_before_df.intensity / subset_before_df.intensity.max()\n",
    "subset_after_df['normalised_intensity'] = subset_after_df.intensity / subset_after_df.intensity.max()"
   ]
  },
  {
   "cell_type": "code",
   "execution_count": null,
   "metadata": {
    "scrolled": false
   },
   "outputs": [],
   "source": [
    "f, ax = plt.subplots()\n",
    "colors = ['tab:blue', 'tab:orange', 'tab:green', 'tab:red', 'tab:purple', 'tab:brown', 'tab:pink', 'tab:gray', 'tab:olive', 'tab:cyan']\n",
    "\n",
    "# plot the raw data\n",
    "markerline, stemlines, baseline = ax.stem(subset_before_df.neutral_mass, subset_before_df.normalised_intensity, markerfmt=\" \", use_line_collection=True, label='before filter')\n",
    "plt.setp(markerline, 'color', 'tab:green')\n",
    "plt.setp(stemlines, 'color', 'tab:green')\n",
    "plt.setp(baseline, 'color', 'tab:gray')\n",
    "\n",
    "# plot the filtered data\n",
    "markerline, stemlines, baseline = ax.stem(subset_after_df.neutral_mass, -subset_after_df.normalised_intensity, markerfmt=\" \", use_line_collection=True, label='after filter')\n",
    "plt.setp(markerline, 'color', 'tab:purple')\n",
    "plt.setp(stemlines, 'color', 'tab:purple')\n",
    "plt.setp(baseline, 'color', 'tab:gray')\n",
    "\n",
    "plt.xlabel('neutral mass (Da)')\n",
    "plt.ylabel('normalised intensity')\n",
    "f.set_figheight(8)\n",
    "f.set_figwidth(15)\n",
    "\n",
    "plt.margins(0.06)\n",
    "plt.legend(loc='best')\n",
    "# plt.title('fragment ions before and after filtering by mass defect windows\\nprecursor cuboid {}, experiment {}, run {}'.format(precursor_cuboid_id, experiment_name, run_name))\n",
    "plt.show()"
   ]
  },
  {
   "cell_type": "code",
   "execution_count": null,
   "metadata": {},
   "outputs": [],
   "source": []
  }
 ],
 "metadata": {
  "kernelspec": {
   "display_name": "Python 3",
   "language": "python",
   "name": "python3"
  },
  "language_info": {
   "codemirror_mode": {
    "name": "ipython",
    "version": 3
   },
   "file_extension": ".py",
   "mimetype": "text/x-python",
   "name": "python",
   "nbconvert_exporter": "python",
   "pygments_lexer": "ipython3",
   "version": "3.8.5"
  }
 },
 "nbformat": 4,
 "nbformat_minor": 2
}
