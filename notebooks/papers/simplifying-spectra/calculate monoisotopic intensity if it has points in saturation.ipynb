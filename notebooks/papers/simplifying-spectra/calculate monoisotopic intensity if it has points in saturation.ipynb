{
 "cells": [
  {
   "cell_type": "code",
   "execution_count": 1,
   "metadata": {},
   "outputs": [],
   "source": [
    "import pandas as pd\n",
    "import matplotlib.pyplot as plt\n",
    "import sqlite3\n",
    "import json\n",
    "import numpy as np\n",
    "from os.path import expanduser"
   ]
  },
  {
   "cell_type": "code",
   "execution_count": 2,
   "metadata": {},
   "outputs": [],
   "source": [
    "experiment_name = 'P3856'\n",
    "feature_detection_method = 'pasef'\n",
    "run_name = 'P3856_YHE211_1_Slot1-1_1_5104'\n",
    "\n",
    "RESULTS_BASE_DIR = '/media/data-4t-a/results-{}'.format(experiment_name)\n",
    "\n",
    "IDENTIFICATIONS_WITH_CS_DIR = '{}/P3856_YHE211_1_Slot1-1_1_5104-cs-true-fmdw-true-2021-09-22-13-14-30/identifications-pasef'.format(RESULTS_BASE_DIR)\n",
    "IDENTIFICATIONS_WITH_CS_FILE = '{}/exp-{}-identifications-{}-recalibrated.feather'.format(IDENTIFICATIONS_WITH_CS_DIR, experiment_name, feature_detection_method)"
   ]
  },
  {
   "cell_type": "code",
   "execution_count": 3,
   "metadata": {},
   "outputs": [],
   "source": [
    "idents_df = pd.read_feather(IDENTIFICATIONS_WITH_CS_FILE)"
   ]
  },
  {
   "cell_type": "code",
   "execution_count": 4,
   "metadata": {},
   "outputs": [],
   "source": [
    "idents_df = idents_df[idents_df['percolator q-value'] < 0.01]"
   ]
  },
  {
   "cell_type": "code",
   "execution_count": 5,
   "metadata": {},
   "outputs": [
    {
     "data": {
      "text/plain": [
       "Index(['index', 'mono_mz_lower', 'mono_mz_upper', 'scan_apex', 'scan_lower',\n",
       "       'scan_upper', 'rt_apex', 'rt_lower', 'rt_upper',\n",
       "       'intensity_without_saturation_correction',\n",
       "       'intensity_with_saturation_correction',\n",
       "       'mono_intensity_adjustment_outcome', 'isotopic_peaks',\n",
       "       'coelution_coefficient', 'mobility_coefficient', 'scan_df', 'rt_df',\n",
       "       'monoisotopic_mz', 'charge', 'monoisotopic_mass', 'feature_intensity',\n",
       "       'envelope', 'isotope_count', 'deconvolution_score',\n",
       "       'precursor_cuboid_id', 'fragment_ions_l', 'fmdw_before_after_d',\n",
       "       'feature_id', 'run_name', 'predicted_mass_error',\n",
       "       'recalibrated_monoisotopic_mass', 'recalibrated_monoisotopic_mz',\n",
       "       'file_idx', 'spectrum precursor m/z', 'spectrum neutral mass',\n",
       "       'peptide mass', 'percolator score', 'percolator q-value',\n",
       "       'percolator PEP', 'total matches/spectrum', 'sequence', 'protein id',\n",
       "       'flanking aa', 'observed_monoisotopic_mass', 'theoretical_peptide_mass',\n",
       "       'mass_accuracy_ppm', 'mass_error'],\n",
       "      dtype='object')"
      ]
     },
     "execution_count": 5,
     "metadata": {},
     "output_type": "execute_result"
    }
   ],
   "source": [
    "idents_df.columns"
   ]
  },
  {
   "cell_type": "code",
   "execution_count": 6,
   "metadata": {},
   "outputs": [
    {
     "data": {
      "text/plain": [
       "monoisotopic_not_saturated         95.192648\n",
       "monoisotopic_saturated_adjusted     4.772004\n",
       "could_not_calculate_phr             0.035348\n",
       "Name: mono_intensity_adjustment_outcome, dtype: float64"
      ]
     },
     "execution_count": 6,
     "metadata": {},
     "output_type": "execute_result"
    }
   ],
   "source": [
    "idents_df.mono_intensity_adjustment_outcome.value_counts(normalize=True) * 100"
   ]
  },
  {
   "cell_type": "code",
   "execution_count": 7,
   "metadata": {},
   "outputs": [
    {
     "data": {
      "text/plain": [
       "43    34331\n",
       "49    33451\n",
       "50    36512\n",
       "93    39150\n",
       "63    43024\n",
       "Name: precursor_cuboid_id, dtype: uint16"
      ]
     },
     "execution_count": 7,
     "metadata": {},
     "output_type": "execute_result"
    }
   ],
   "source": [
    "# find the precursor id of an ident that has high intensity but was not in saturation\n",
    "idents_df = idents_df.sort_values(by=['feature_intensity'], ascending=False, inplace=False)\n",
    "idents_df[(idents_df.mono_intensity_adjustment_outcome == 'monoisotopic_not_saturated')].head(5).precursor_cuboid_id"
   ]
  },
  {
   "cell_type": "code",
   "execution_count": 8,
   "metadata": {},
   "outputs": [
    {
     "data": {
      "text/plain": [
       "2709     37872\n",
       "7036     33922\n",
       "5193     42365\n",
       "9104     39008\n",
       "11289    40945\n",
       "Name: precursor_cuboid_id, dtype: uint16"
      ]
     },
     "execution_count": 8,
     "metadata": {},
     "output_type": "execute_result"
    }
   ],
   "source": [
    "idents_df[(idents_df.mono_intensity_adjustment_outcome == 'monoisotopic_not_saturated')].tail(5).precursor_cuboid_id"
   ]
  },
  {
   "cell_type": "code",
   "execution_count": 9,
   "metadata": {},
   "outputs": [
    {
     "data": {
      "text/plain": [
       "10      32579\n",
       "1978    38930\n",
       "18      33377\n",
       "1115    31938\n",
       "0       42286\n",
       "Name: precursor_cuboid_id, dtype: uint16"
      ]
     },
     "execution_count": 9,
     "metadata": {},
     "output_type": "execute_result"
    }
   ],
   "source": [
    "idents_df[(idents_df.mono_intensity_adjustment_outcome == 'monoisotopic_saturated_adjusted') & (idents_df.isotope_count > 4)].head(5).precursor_cuboid_id"
   ]
  },
  {
   "cell_type": "markdown",
   "metadata": {},
   "source": [
    "#### select a feature that had its mono in saturation and was adjusted"
   ]
  },
  {
   "cell_type": "code",
   "execution_count": 10,
   "metadata": {},
   "outputs": [],
   "source": [
    "selected_sequence = idents_df.loc[18]"
   ]
  },
  {
   "cell_type": "code",
   "execution_count": 11,
   "metadata": {},
   "outputs": [
    {
     "data": {
      "text/html": [
       "<div>\n",
       "<style scoped>\n",
       "    .dataframe tbody tr th:only-of-type {\n",
       "        vertical-align: middle;\n",
       "    }\n",
       "\n",
       "    .dataframe tbody tr th {\n",
       "        vertical-align: top;\n",
       "    }\n",
       "\n",
       "    .dataframe thead th {\n",
       "        text-align: right;\n",
       "    }\n",
       "</style>\n",
       "<table border=\"1\" class=\"dataframe\">\n",
       "  <thead>\n",
       "    <tr style=\"text-align: right;\">\n",
       "      <th></th>\n",
       "      <th>mz</th>\n",
       "      <th>mz_lower</th>\n",
       "      <th>mz_upper</th>\n",
       "      <th>intensity</th>\n",
       "      <th>saturated</th>\n",
       "      <th>rt_df</th>\n",
       "      <th>scan_df</th>\n",
       "      <th>similarity_rt</th>\n",
       "      <th>similarity_scan</th>\n",
       "      <th>inferred_intensity</th>\n",
       "      <th>inferred</th>\n",
       "    </tr>\n",
       "  </thead>\n",
       "  <tbody>\n",
       "    <tr>\n",
       "      <th>0</th>\n",
       "      <td>1216.559739</td>\n",
       "      <td>1216.520992</td>\n",
       "      <td>1216.598486</td>\n",
       "      <td>13302</td>\n",
       "      <td>True</td>\n",
       "      <td>[{\"retention_time_secs\":2023.5692138672,\"inten...</td>\n",
       "      <td>[{\"scan\":50,\"intensity\":1812},{\"scan\":51,\"inte...</td>\n",
       "      <td>NaN</td>\n",
       "      <td>NaN</td>\n",
       "      <td>24879</td>\n",
       "      <td>True</td>\n",
       "    </tr>\n",
       "    <tr>\n",
       "      <th>1</th>\n",
       "      <td>1217.061518</td>\n",
       "      <td>1217.022755</td>\n",
       "      <td>1217.100281</td>\n",
       "      <td>15036</td>\n",
       "      <td>True</td>\n",
       "      <td>[{\"retention_time_secs\":2023.5692138672,\"inten...</td>\n",
       "      <td>[{\"scan\":50,\"intensity\":2089,\"x_scaled\":50},{\"...</td>\n",
       "      <td>0.999307</td>\n",
       "      <td>0.998749</td>\n",
       "      <td>32746</td>\n",
       "      <td>True</td>\n",
       "    </tr>\n",
       "    <tr>\n",
       "      <th>2</th>\n",
       "      <td>1217.562804</td>\n",
       "      <td>1217.524025</td>\n",
       "      <td>1217.601583</td>\n",
       "      <td>13293</td>\n",
       "      <td>True</td>\n",
       "      <td>[{\"retention_time_secs\":2023.5692138672,\"inten...</td>\n",
       "      <td>[{\"scan\":50,\"intensity\":1425,\"x_scaled\":50},{\"...</td>\n",
       "      <td>0.998269</td>\n",
       "      <td>0.998613</td>\n",
       "      <td>23127</td>\n",
       "      <td>True</td>\n",
       "    </tr>\n",
       "    <tr>\n",
       "      <th>3</th>\n",
       "      <td>1218.062147</td>\n",
       "      <td>1218.023352</td>\n",
       "      <td>1218.100942</td>\n",
       "      <td>9106</td>\n",
       "      <td>True</td>\n",
       "      <td>[{\"retention_time_secs\":2023.5692138672,\"inten...</td>\n",
       "      <td>[{\"scan\":50,\"intensity\":988,\"x_scaled\":50},{\"s...</td>\n",
       "      <td>0.998951</td>\n",
       "      <td>0.997156</td>\n",
       "      <td>11516</td>\n",
       "      <td>True</td>\n",
       "    </tr>\n",
       "    <tr>\n",
       "      <th>4</th>\n",
       "      <td>1218.562345</td>\n",
       "      <td>1218.523534</td>\n",
       "      <td>1218.601156</td>\n",
       "      <td>4500</td>\n",
       "      <td>False</td>\n",
       "      <td>[{\"retention_time_secs\":2023.5692138672,\"inten...</td>\n",
       "      <td>[{\"scan\":50,\"intensity\":501,\"x_scaled\":50},{\"s...</td>\n",
       "      <td>0.998221</td>\n",
       "      <td>0.994083</td>\n",
       "      <td>4500</td>\n",
       "      <td>False</td>\n",
       "    </tr>\n",
       "  </tbody>\n",
       "</table>\n",
       "</div>"
      ],
      "text/plain": [
       "            mz     mz_lower     mz_upper  intensity  saturated  \\\n",
       "0  1216.559739  1216.520992  1216.598486      13302       True   \n",
       "1  1217.061518  1217.022755  1217.100281      15036       True   \n",
       "2  1217.562804  1217.524025  1217.601583      13293       True   \n",
       "3  1218.062147  1218.023352  1218.100942       9106       True   \n",
       "4  1218.562345  1218.523534  1218.601156       4500      False   \n",
       "\n",
       "                                               rt_df  \\\n",
       "0  [{\"retention_time_secs\":2023.5692138672,\"inten...   \n",
       "1  [{\"retention_time_secs\":2023.5692138672,\"inten...   \n",
       "2  [{\"retention_time_secs\":2023.5692138672,\"inten...   \n",
       "3  [{\"retention_time_secs\":2023.5692138672,\"inten...   \n",
       "4  [{\"retention_time_secs\":2023.5692138672,\"inten...   \n",
       "\n",
       "                                             scan_df  similarity_rt  \\\n",
       "0  [{\"scan\":50,\"intensity\":1812},{\"scan\":51,\"inte...            NaN   \n",
       "1  [{\"scan\":50,\"intensity\":2089,\"x_scaled\":50},{\"...       0.999307   \n",
       "2  [{\"scan\":50,\"intensity\":1425,\"x_scaled\":50},{\"...       0.998269   \n",
       "3  [{\"scan\":50,\"intensity\":988,\"x_scaled\":50},{\"s...       0.998951   \n",
       "4  [{\"scan\":50,\"intensity\":501,\"x_scaled\":50},{\"s...       0.998221   \n",
       "\n",
       "   similarity_scan  inferred_intensity  inferred  \n",
       "0              NaN               24879      True  \n",
       "1         0.998749               32746      True  \n",
       "2         0.998613               23127      True  \n",
       "3         0.997156               11516      True  \n",
       "4         0.994083                4500     False  "
      ]
     },
     "execution_count": 11,
     "metadata": {},
     "output_type": "execute_result"
    }
   ],
   "source": [
    "isotopes_df = pd.read_json(selected_sequence.isotopic_peaks)\n",
    "isotopes_df"
   ]
  },
  {
   "cell_type": "code",
   "execution_count": 12,
   "metadata": {},
   "outputs": [],
   "source": [
    "# Mass difference between Carbon-12 and Carbon-13 isotopes, in Da. For calculating the spacing between isotopic peaks.\n",
    "CARBON_MASS_DIFFERENCE = 1.003355"
   ]
  },
  {
   "cell_type": "code",
   "execution_count": 13,
   "metadata": {},
   "outputs": [],
   "source": [
    "# the expected spacing between isotopes in the m/z dimension\n",
    "expected_spacing_mz = CARBON_MASS_DIFFERENCE / selected_sequence.charge"
   ]
  },
  {
   "cell_type": "code",
   "execution_count": 14,
   "metadata": {},
   "outputs": [
    {
     "data": {
      "text/plain": [
       "0.5016775"
      ]
     },
     "execution_count": 14,
     "metadata": {},
     "output_type": "execute_result"
    }
   ],
   "source": [
    "expected_spacing_mz"
   ]
  },
  {
   "cell_type": "code",
   "execution_count": 15,
   "metadata": {},
   "outputs": [],
   "source": [
    "isotopes_df['inferred_mz'] = isotopes_df.mz\n",
    "\n",
    "if (isotopes_df.iloc[0].saturated == True):\n",
    "    outcome = 'monoisotopic_saturated_adjusted'\n",
    "    if (len(isotopes_df[isotopes_df.saturated == False]) > 0):\n",
    "        # find the first unsaturated isotope\n",
    "        unsaturated_idx = isotopes_df[(isotopes_df.saturated == False)].iloc[0].name\n",
    "        unsaturated_isotope_mz = isotopes_df.at[unsaturated_idx, 'mz']\n",
    "        for peak_idx in reversed(range(unsaturated_idx)):\n",
    "            isotopes_df.at[peak_idx, 'inferred_mz'] = unsaturated_isotope_mz - ((unsaturated_idx - peak_idx) * expected_spacing_mz)\n",
    "    else:\n",
    "        outcome = 'no_nonsaturated_isotopes'"
   ]
  },
  {
   "cell_type": "code",
   "execution_count": 16,
   "metadata": {},
   "outputs": [
    {
     "data": {
      "text/html": [
       "<div>\n",
       "<style scoped>\n",
       "    .dataframe tbody tr th:only-of-type {\n",
       "        vertical-align: middle;\n",
       "    }\n",
       "\n",
       "    .dataframe tbody tr th {\n",
       "        vertical-align: top;\n",
       "    }\n",
       "\n",
       "    .dataframe thead th {\n",
       "        text-align: right;\n",
       "    }\n",
       "</style>\n",
       "<table border=\"1\" class=\"dataframe\">\n",
       "  <thead>\n",
       "    <tr style=\"text-align: right;\">\n",
       "      <th></th>\n",
       "      <th>mz</th>\n",
       "      <th>mz_lower</th>\n",
       "      <th>mz_upper</th>\n",
       "      <th>intensity</th>\n",
       "      <th>saturated</th>\n",
       "      <th>rt_df</th>\n",
       "      <th>scan_df</th>\n",
       "      <th>similarity_rt</th>\n",
       "      <th>similarity_scan</th>\n",
       "      <th>inferred_intensity</th>\n",
       "      <th>inferred</th>\n",
       "      <th>inferred_mz</th>\n",
       "    </tr>\n",
       "  </thead>\n",
       "  <tbody>\n",
       "    <tr>\n",
       "      <th>0</th>\n",
       "      <td>1216.559739</td>\n",
       "      <td>1216.520992</td>\n",
       "      <td>1216.598486</td>\n",
       "      <td>13302</td>\n",
       "      <td>True</td>\n",
       "      <td>[{\"retention_time_secs\":2023.5692138672,\"inten...</td>\n",
       "      <td>[{\"scan\":50,\"intensity\":1812},{\"scan\":51,\"inte...</td>\n",
       "      <td>NaN</td>\n",
       "      <td>NaN</td>\n",
       "      <td>24879</td>\n",
       "      <td>True</td>\n",
       "      <td>1216.555635</td>\n",
       "    </tr>\n",
       "    <tr>\n",
       "      <th>1</th>\n",
       "      <td>1217.061518</td>\n",
       "      <td>1217.022755</td>\n",
       "      <td>1217.100281</td>\n",
       "      <td>15036</td>\n",
       "      <td>True</td>\n",
       "      <td>[{\"retention_time_secs\":2023.5692138672,\"inten...</td>\n",
       "      <td>[{\"scan\":50,\"intensity\":2089,\"x_scaled\":50},{\"...</td>\n",
       "      <td>0.999307</td>\n",
       "      <td>0.998749</td>\n",
       "      <td>32746</td>\n",
       "      <td>True</td>\n",
       "      <td>1217.057313</td>\n",
       "    </tr>\n",
       "    <tr>\n",
       "      <th>2</th>\n",
       "      <td>1217.562804</td>\n",
       "      <td>1217.524025</td>\n",
       "      <td>1217.601583</td>\n",
       "      <td>13293</td>\n",
       "      <td>True</td>\n",
       "      <td>[{\"retention_time_secs\":2023.5692138672,\"inten...</td>\n",
       "      <td>[{\"scan\":50,\"intensity\":1425,\"x_scaled\":50},{\"...</td>\n",
       "      <td>0.998269</td>\n",
       "      <td>0.998613</td>\n",
       "      <td>23127</td>\n",
       "      <td>True</td>\n",
       "      <td>1217.558990</td>\n",
       "    </tr>\n",
       "    <tr>\n",
       "      <th>3</th>\n",
       "      <td>1218.062147</td>\n",
       "      <td>1218.023352</td>\n",
       "      <td>1218.100942</td>\n",
       "      <td>9106</td>\n",
       "      <td>True</td>\n",
       "      <td>[{\"retention_time_secs\":2023.5692138672,\"inten...</td>\n",
       "      <td>[{\"scan\":50,\"intensity\":988,\"x_scaled\":50},{\"s...</td>\n",
       "      <td>0.998951</td>\n",
       "      <td>0.997156</td>\n",
       "      <td>11516</td>\n",
       "      <td>True</td>\n",
       "      <td>1218.060668</td>\n",
       "    </tr>\n",
       "    <tr>\n",
       "      <th>4</th>\n",
       "      <td>1218.562345</td>\n",
       "      <td>1218.523534</td>\n",
       "      <td>1218.601156</td>\n",
       "      <td>4500</td>\n",
       "      <td>False</td>\n",
       "      <td>[{\"retention_time_secs\":2023.5692138672,\"inten...</td>\n",
       "      <td>[{\"scan\":50,\"intensity\":501,\"x_scaled\":50},{\"s...</td>\n",
       "      <td>0.998221</td>\n",
       "      <td>0.994083</td>\n",
       "      <td>4500</td>\n",
       "      <td>False</td>\n",
       "      <td>1218.562345</td>\n",
       "    </tr>\n",
       "  </tbody>\n",
       "</table>\n",
       "</div>"
      ],
      "text/plain": [
       "            mz     mz_lower     mz_upper  intensity  saturated  \\\n",
       "0  1216.559739  1216.520992  1216.598486      13302       True   \n",
       "1  1217.061518  1217.022755  1217.100281      15036       True   \n",
       "2  1217.562804  1217.524025  1217.601583      13293       True   \n",
       "3  1218.062147  1218.023352  1218.100942       9106       True   \n",
       "4  1218.562345  1218.523534  1218.601156       4500      False   \n",
       "\n",
       "                                               rt_df  \\\n",
       "0  [{\"retention_time_secs\":2023.5692138672,\"inten...   \n",
       "1  [{\"retention_time_secs\":2023.5692138672,\"inten...   \n",
       "2  [{\"retention_time_secs\":2023.5692138672,\"inten...   \n",
       "3  [{\"retention_time_secs\":2023.5692138672,\"inten...   \n",
       "4  [{\"retention_time_secs\":2023.5692138672,\"inten...   \n",
       "\n",
       "                                             scan_df  similarity_rt  \\\n",
       "0  [{\"scan\":50,\"intensity\":1812},{\"scan\":51,\"inte...            NaN   \n",
       "1  [{\"scan\":50,\"intensity\":2089,\"x_scaled\":50},{\"...       0.999307   \n",
       "2  [{\"scan\":50,\"intensity\":1425,\"x_scaled\":50},{\"...       0.998269   \n",
       "3  [{\"scan\":50,\"intensity\":988,\"x_scaled\":50},{\"s...       0.998951   \n",
       "4  [{\"scan\":50,\"intensity\":501,\"x_scaled\":50},{\"s...       0.998221   \n",
       "\n",
       "   similarity_scan  inferred_intensity  inferred  inferred_mz  \n",
       "0              NaN               24879      True  1216.555635  \n",
       "1         0.998749               32746      True  1217.057313  \n",
       "2         0.998613               23127      True  1217.558990  \n",
       "3         0.997156               11516      True  1218.060668  \n",
       "4         0.994083                4500     False  1218.562345  "
      ]
     },
     "execution_count": 16,
     "metadata": {},
     "output_type": "execute_result"
    }
   ],
   "source": [
    "isotopes_df"
   ]
  },
  {
   "cell_type": "code",
   "execution_count": 17,
   "metadata": {},
   "outputs": [
    {
     "data": {
      "text/plain": [
       "3.3731100177438016"
      ]
     },
     "execution_count": 17,
     "metadata": {},
     "output_type": "execute_result"
    }
   ],
   "source": [
    "monoisotope_s = isotopes_df.iloc[0]\n",
    "mono_mz_shift_ppm = (monoisotope_s.mz - monoisotope_s.inferred_mz) / monoisotope_s.inferred_mz * 10**6\n",
    "mono_mz_shift_ppm"
   ]
  },
  {
   "cell_type": "code",
   "execution_count": 18,
   "metadata": {},
   "outputs": [
    {
     "data": {
      "image/png": "[encoded data removed]",
      "text/plain": [
       "<Figure size 1080x576 with 1 Axes>"
      ]
     },
     "metadata": {
      "needs_background": "light"
     },
     "output_type": "display_data"
    }
   ],
   "source": [
    "f, ax = plt.subplots()\n",
    "\n",
    "markerline, stemlines, baseline = ax.stem(isotopes_df.mz, isotopes_df.intensity, use_line_collection=True, label='raw intensity')\n",
    "plt.setp(markerline, 'color', 'green')\n",
    "plt.setp(stemlines, 'color', 'green')\n",
    "plt.setp(baseline, 'color', 'silver')\n",
    "plt.setp(markerline, 'alpha', 0.6)\n",
    "plt.setp(stemlines, 'alpha', 0.6)\n",
    "\n",
    "markerline, stemlines, baseline = ax.stem(isotopes_df.mz, isotopes_df.inferred_intensity, use_line_collection=True, label='inferred intensity')\n",
    "plt.setp(markerline, 'color', 'brown')\n",
    "plt.setp(stemlines, 'color', 'brown')\n",
    "plt.setp(baseline, 'color', 'silver')\n",
    "plt.setp(markerline, 'alpha', 0.6)\n",
    "plt.setp(stemlines, 'alpha', 0.6)\n",
    "\n",
    "# highlight the isotopes with inferred intensity\n",
    "adjusted_intensity_df = isotopes_df[(isotopes_df.inferred == True)]\n",
    "ax.plot(adjusted_intensity_df.mz, adjusted_intensity_df.inferred_intensity, marker='o', markerfacecolor='none', markeredgecolor='mediumblue', linestyle='', markeredgewidth=2, ms=15, label='isotope in saturation')\n",
    "\n",
    "# highlight the isotopes without inferred intensity\n",
    "not_adjusted_intensity_df = isotopes_df[(isotopes_df.inferred == False)]\n",
    "ax.plot(not_adjusted_intensity_df.mz, not_adjusted_intensity_df.inferred_intensity, marker='o', markerfacecolor='none', markeredgecolor='teal', linestyle='', markeredgewidth=2, ms=15, label='isotope not in saturation')\n",
    "\n",
    "plt.xlabel('m/z')\n",
    "plt.ylabel('intensity')\n",
    "f.set_figheight(8)\n",
    "f.set_figwidth(15)\n",
    "plt.margins(0.06)\n",
    "plt.legend(loc='best')\n",
    "# plt.title('Isotopes before and after saturation adjustment\\nrun {}, sequence {}, charge {}'.format(run_name, selected_sequence.sequence, selected_sequence.charge))\n",
    "plt.show()"
   ]
  },
  {
   "cell_type": "markdown",
   "metadata": {},
   "source": [
    "#### distribution of identifications and their monoisotopes in saturation"
   ]
  },
  {
   "cell_type": "code",
   "execution_count": 19,
   "metadata": {},
   "outputs": [
    {
     "data": {
      "text/plain": [
       "monoisotopic_not_saturated         95.192648\n",
       "monoisotopic_saturated_adjusted     4.772004\n",
       "could_not_calculate_phr             0.035348\n",
       "Name: mono_intensity_adjustment_outcome, dtype: float64"
      ]
     },
     "execution_count": 19,
     "metadata": {},
     "output_type": "execute_result"
    }
   ],
   "source": [
    "idents_df.mono_intensity_adjustment_outcome.value_counts(normalize=True) * 100"
   ]
  },
  {
   "cell_type": "markdown",
   "metadata": {},
   "source": [
    "#### distribution of isotopes in saturation"
   ]
  },
  {
   "cell_type": "code",
   "execution_count": 20,
   "metadata": {},
   "outputs": [],
   "source": [
    "df = idents_df[(idents_df.mono_intensity_adjustment_outcome == 'monoisotopic_saturated_adjusted')]"
   ]
  },
  {
   "cell_type": "code",
   "execution_count": 21,
   "metadata": {},
   "outputs": [],
   "source": [
    "isotope_idxs_l = []\n",
    "for row in df.itertuples():\n",
    "    isotopes_df = pd.read_json(row.isotopic_peaks)\n",
    "    nonsat_isotope_idx = isotopes_df[isotopes_df.inferred == False].iloc[0].name\n",
    "    isotope_idxs_l.append({'isotope_idx_not_in_saturation':nonsat_isotope_idx})\n",
    "isotope_idxs_df = pd.DataFrame(isotope_idxs_l)"
   ]
  },
  {
   "cell_type": "code",
   "execution_count": 22,
   "metadata": {},
   "outputs": [
    {
     "data": {
      "image/png": "[encoded data removed]",
      "text/plain": [
       "<Figure size 1080x576 with 1 Axes>"
      ]
     },
     "metadata": {
      "needs_background": "light"
     },
     "output_type": "display_data"
    }
   ],
   "source": [
    "f, ax1 = plt.subplots()\n",
    "f.set_figheight(8)\n",
    "f.set_figwidth(15)\n",
    "\n",
    "plt.margins(0.06)\n",
    "plt.title('')\n",
    "\n",
    "counts = np.bincount(isotope_idxs_df.isotope_idx_not_in_saturation)\n",
    "ax1.bar(range(isotope_idxs_df.isotope_idx_not_in_saturation.max()+1), counts, width=0.5, align='center')\n",
    "ax1.set(xticks=range(1,isotope_idxs_df.isotope_idx_not_in_saturation.max()+1), xlim=[0, isotope_idxs_df.isotope_idx_not_in_saturation.max()+1])\n",
    "\n",
    "plt.xlabel('isotope index used to infer the monoisotopic peak intensity')\n",
    "plt.ylabel('count')\n",
    "# plt.title('distribution of isotope index used to infer the intensity of the monoisotopic peak (index=0)\\nrun {}, experiment {}'.format(run_name, experiment_name))\n",
    "\n",
    "plt.show()"
   ]
  },
  {
   "cell_type": "code",
   "execution_count": null,
   "metadata": {},
   "outputs": [],
   "source": []
  }
 ],
 "metadata": {
  "kernelspec": {
   "display_name": "Python 3",
   "language": "python",
   "name": "python3"
  },
  "language_info": {
   "codemirror_mode": {
    "name": "ipython",
    "version": 3
   },
   "file_extension": ".py",
   "mimetype": "text/x-python",
   "name": "python",
   "nbconvert_exporter": "python",
   "pygments_lexer": "ipython3",
   "version": "3.8.5"
  }
 },
 "nbformat": 4,
 "nbformat_minor": 2
}
