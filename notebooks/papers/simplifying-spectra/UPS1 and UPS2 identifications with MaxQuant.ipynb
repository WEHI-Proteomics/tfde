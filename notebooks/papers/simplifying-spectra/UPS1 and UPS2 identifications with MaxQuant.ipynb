{
 "cells": [
  {
   "cell_type": "code",
   "execution_count": 1,
   "metadata": {},
   "outputs": [],
   "source": [
    "import pandas as pd\n",
    "import numpy as np\n",
    "import os\n",
    "import matplotlib.pyplot as plt\n",
    "import pickle\n",
    "import seaborn as sns\n",
    "import json\n",
    "from os.path import expanduser\n",
    "import glob"
   ]
  },
  {
   "cell_type": "code",
   "execution_count": 2,
   "metadata": {},
   "outputs": [],
   "source": [
    "PROTEIN_APPEARS_IN_REPLICATES = 1"
   ]
  },
  {
   "cell_type": "code",
   "execution_count": 3,
   "metadata": {},
   "outputs": [],
   "source": [
    "PROTON_MASS = 1.00727647\n",
    "ADD_C_CYSTEINE_DA = 57.021464"
   ]
  },
  {
   "cell_type": "code",
   "execution_count": 4,
   "metadata": {},
   "outputs": [],
   "source": [
    "# calculate the monoisotopic mass    \n",
    "def calculate_monoisotopic_mass_from_mz(monoisotopic_mz, charge):\n",
    "    monoisotopic_mass = (monoisotopic_mz * charge) - (PROTON_MASS * charge)\n",
    "    return monoisotopic_mass"
   ]
  },
  {
   "cell_type": "code",
   "execution_count": 5,
   "metadata": {},
   "outputs": [],
   "source": [
    "EXPERIMENT_DIR = '/media/big-ssd/experiments'\n",
    "UPS1_EXPERIMENT_DIR = '{}/P3830_YUPS1'.format(EXPERIMENT_DIR)\n",
    "UPS2_EXPERIMENT_DIR = '{}/P3830_YUPS2'.format(EXPERIMENT_DIR)\n",
    "\n",
    "UPS1_MQ_PERCOLATOR_OUTPUT_DIR = '{}/percolator-output-mq'.format(UPS1_EXPERIMENT_DIR)\n",
    "UPS2_MQ_PERCOLATOR_OUTPUT_DIR = '{}/percolator-output-mq'.format(UPS2_EXPERIMENT_DIR)\n",
    "\n",
    "UPS1_PERCOLATOR_STDOUT_FILE_NAME = '{}/percolator-stdout.log'.format(UPS1_MQ_PERCOLATOR_OUTPUT_DIR)\n",
    "UPS2_PERCOLATOR_STDOUT_FILE_NAME = '{}/percolator-stdout.log'.format(UPS2_MQ_PERCOLATOR_OUTPUT_DIR)\n",
    "\n",
    "UPS1_MQ_FEATURES_DIR = '{}/features-mq'.format(UPS1_EXPERIMENT_DIR)\n",
    "UPS2_MQ_FEATURES_DIR = '{}/features-mq'.format(UPS2_EXPERIMENT_DIR)"
   ]
  },
  {
   "cell_type": "code",
   "execution_count": 6,
   "metadata": {},
   "outputs": [],
   "source": [
    "MAXIMUM_Q_VALUE = 0.01"
   ]
  },
  {
   "cell_type": "markdown",
   "metadata": {},
   "source": [
    "#### analyse YUPS2"
   ]
  },
  {
   "cell_type": "code",
   "execution_count": 7,
   "metadata": {},
   "outputs": [],
   "source": [
    "# load the percolator output\n",
    "UPS2_MQ_PERCOLATOR_OUTPUT_FILE_NAME = \"{}/P3830_YUPS2.percolator.target.psms.txt\".format(UPS2_MQ_PERCOLATOR_OUTPUT_DIR)"
   ]
  },
  {
   "cell_type": "code",
   "execution_count": 8,
   "metadata": {},
   "outputs": [],
   "source": [
    "ups2_mq_psms_df = pd.read_csv(UPS2_MQ_PERCOLATOR_OUTPUT_FILE_NAME, sep='\\t')\n",
    "ups2_mq_psms_df.rename(columns={'scan': 'mq_index'}, inplace=True)\n",
    "ups2_mq_psms_df.drop(['charge'], axis=1, inplace=True)\n",
    "# remove the poor quality identifications\n",
    "ups2_mq_psms_df = ups2_mq_psms_df[ups2_mq_psms_df['peptide mass'] > 0]"
   ]
  },
  {
   "cell_type": "code",
   "execution_count": 9,
   "metadata": {},
   "outputs": [],
   "source": [
    "# determine the mapping between the percolator index and the run file name - this is only available by parsing percolator's stdout redirected to a text file.\n",
    "mapping = []\n",
    "with open(UPS2_PERCOLATOR_STDOUT_FILE_NAME) as f:\n",
    "    lines = f.readlines()\n",
    "    for line in lines:\n",
    "        if line.startswith('INFO: Assigning index'):\n",
    "            splits = line.split(' ')\n",
    "            percolator_index = int(splits[3])\n",
    "            comet_filename = splits[5]\n",
    "            rn = comet_filename.split('/')[-1].split('.')[0]  # e.g. 190719_Hela_Ecoli_1to3_06\n",
    "            short_run_name = '_'.join(rn.split('_Slot')[0].split('_')[1:])\n",
    "            mapping.append((percolator_index, rn, short_run_name))\n",
    "ups2_mapping_df = pd.DataFrame(mapping, columns=['file_idx','run_name','short_run_name'])"
   ]
  },
  {
   "cell_type": "code",
   "execution_count": 10,
   "metadata": {},
   "outputs": [
    {
     "data": {
      "text/html": [
       "<div>\n",
       "<style scoped>\n",
       "    .dataframe tbody tr th:only-of-type {\n",
       "        vertical-align: middle;\n",
       "    }\n",
       "\n",
       "    .dataframe tbody tr th {\n",
       "        vertical-align: top;\n",
       "    }\n",
       "\n",
       "    .dataframe thead th {\n",
       "        text-align: right;\n",
       "    }\n",
       "</style>\n",
       "<table border=\"1\" class=\"dataframe\">\n",
       "  <thead>\n",
       "    <tr style=\"text-align: right;\">\n",
       "      <th></th>\n",
       "      <th>file_idx</th>\n",
       "      <th>run_name</th>\n",
       "      <th>short_run_name</th>\n",
       "    </tr>\n",
       "  </thead>\n",
       "  <tbody>\n",
       "    <tr>\n",
       "      <th>0</th>\n",
       "      <td>0</td>\n",
       "      <td>P3830_YeastUPS2_08_Slot1-1_1_5089</td>\n",
       "      <td>YeastUPS2_08</td>\n",
       "    </tr>\n",
       "    <tr>\n",
       "      <th>1</th>\n",
       "      <td>1</td>\n",
       "      <td>P3830_YeastUPS2_03_Slot1-1_1_5084</td>\n",
       "      <td>YeastUPS2_03</td>\n",
       "    </tr>\n",
       "    <tr>\n",
       "      <th>2</th>\n",
       "      <td>2</td>\n",
       "      <td>P3830_YeastUPS2_10_Slot1-1_1_5091</td>\n",
       "      <td>YeastUPS2_10</td>\n",
       "    </tr>\n",
       "    <tr>\n",
       "      <th>3</th>\n",
       "      <td>3</td>\n",
       "      <td>P3830_YeastUPS2_04_Slot1-1_1_5085</td>\n",
       "      <td>YeastUPS2_04</td>\n",
       "    </tr>\n",
       "    <tr>\n",
       "      <th>4</th>\n",
       "      <td>4</td>\n",
       "      <td>P3830_YeastUPS2_01_Slot1-1_1_5082</td>\n",
       "      <td>YeastUPS2_01</td>\n",
       "    </tr>\n",
       "    <tr>\n",
       "      <th>5</th>\n",
       "      <td>5</td>\n",
       "      <td>P3830_YeastUPS2_02_Slot1-1_1_5083</td>\n",
       "      <td>YeastUPS2_02</td>\n",
       "    </tr>\n",
       "    <tr>\n",
       "      <th>6</th>\n",
       "      <td>6</td>\n",
       "      <td>P3830_YeastUPS2_05_Slot1-1_1_5086</td>\n",
       "      <td>YeastUPS2_05</td>\n",
       "    </tr>\n",
       "    <tr>\n",
       "      <th>7</th>\n",
       "      <td>7</td>\n",
       "      <td>P3830_YeastUPS2_09_Slot1-1_1_5090</td>\n",
       "      <td>YeastUPS2_09</td>\n",
       "    </tr>\n",
       "    <tr>\n",
       "      <th>8</th>\n",
       "      <td>8</td>\n",
       "      <td>P3830_YeastUPS2_07_Slot1-1_1_5088</td>\n",
       "      <td>YeastUPS2_07</td>\n",
       "    </tr>\n",
       "    <tr>\n",
       "      <th>9</th>\n",
       "      <td>9</td>\n",
       "      <td>P3830_YeastUPS2_06_Slot1-1_1_5087</td>\n",
       "      <td>YeastUPS2_06</td>\n",
       "    </tr>\n",
       "  </tbody>\n",
       "</table>\n",
       "</div>"
      ],
      "text/plain": [
       "   file_idx                           run_name short_run_name\n",
       "0         0  P3830_YeastUPS2_08_Slot1-1_1_5089   YeastUPS2_08\n",
       "1         1  P3830_YeastUPS2_03_Slot1-1_1_5084   YeastUPS2_03\n",
       "2         2  P3830_YeastUPS2_10_Slot1-1_1_5091   YeastUPS2_10\n",
       "3         3  P3830_YeastUPS2_04_Slot1-1_1_5085   YeastUPS2_04\n",
       "4         4  P3830_YeastUPS2_01_Slot1-1_1_5082   YeastUPS2_01\n",
       "5         5  P3830_YeastUPS2_02_Slot1-1_1_5083   YeastUPS2_02\n",
       "6         6  P3830_YeastUPS2_05_Slot1-1_1_5086   YeastUPS2_05\n",
       "7         7  P3830_YeastUPS2_09_Slot1-1_1_5090   YeastUPS2_09\n",
       "8         8  P3830_YeastUPS2_07_Slot1-1_1_5088   YeastUPS2_07\n",
       "9         9  P3830_YeastUPS2_06_Slot1-1_1_5087   YeastUPS2_06"
      ]
     },
     "execution_count": 10,
     "metadata": {},
     "output_type": "execute_result"
    }
   ],
   "source": [
    "ups2_mapping_df"
   ]
  },
  {
   "cell_type": "code",
   "execution_count": 11,
   "metadata": {},
   "outputs": [],
   "source": [
    "# add the run names\n",
    "ups2_mq_percolator_df = pd.merge(ups2_mq_psms_df, ups2_mapping_df, how='left', left_on=['file_idx'], right_on=['file_idx'])"
   ]
  },
  {
   "cell_type": "code",
   "execution_count": 12,
   "metadata": {},
   "outputs": [
    {
     "data": {
      "text/plain": [
       "array(['P3830_YeastUPS2_08_Slot1-1_1_5089',\n",
       "       'P3830_YeastUPS2_03_Slot1-1_1_5084',\n",
       "       'P3830_YeastUPS2_10_Slot1-1_1_5091',\n",
       "       'P3830_YeastUPS2_04_Slot1-1_1_5085',\n",
       "       'P3830_YeastUPS2_01_Slot1-1_1_5082',\n",
       "       'P3830_YeastUPS2_02_Slot1-1_1_5083',\n",
       "       'P3830_YeastUPS2_05_Slot1-1_1_5086',\n",
       "       'P3830_YeastUPS2_09_Slot1-1_1_5090',\n",
       "       'P3830_YeastUPS2_07_Slot1-1_1_5088',\n",
       "       'P3830_YeastUPS2_06_Slot1-1_1_5087'], dtype=object)"
      ]
     },
     "execution_count": 12,
     "metadata": {},
     "output_type": "execute_result"
    }
   ],
   "source": [
    "ups2_mq_percolator_df.run_name.unique()"
   ]
  },
  {
   "cell_type": "code",
   "execution_count": 13,
   "metadata": {},
   "outputs": [],
   "source": [
    "# merge the precolator results with the MQ features - obtained with the APL-to-MGF converter (generate-MGF-from-MaxQuant-APLs.py)\n",
    "mq_features_l = glob.glob('{}/exp-P3830_YUPS?-run-*-features-mq.pkl'.format(UPS2_MQ_FEATURES_DIR))\n",
    "df_l = []\n",
    "for f in mq_features_l:\n",
    "    df = pd.read_pickle(f)\n",
    "    df_l.append(df['features_df'])\n",
    "ups2_mq_features_df = pd.concat(df_l, axis=0, sort=False, ignore_index=True)"
   ]
  },
  {
   "cell_type": "code",
   "execution_count": 14,
   "metadata": {},
   "outputs": [],
   "source": [
    "ups2_mq_identifications_df = pd.merge(ups2_mq_features_df, ups2_mq_percolator_df, how='left', left_on=['raw_file','mq_index'], right_on=['run_name','mq_index'])\n",
    "# remove any features that were not identified\n",
    "ups2_mq_identifications_df.dropna(subset=['sequence'], inplace=True)\n",
    "\n",
    "ups2_mq_identifications_df['short_run_name'] = ups2_mq_identifications_df.apply(lambda row: '_'.join(row.run_name.split('_Slot')[0].split('_')[1:]), axis=1)\n",
    "ups2_mq_identifications_df['protein id'] = ups2_mq_identifications_df.apply(lambda row: row['protein id'].split(',')[0], axis=1)"
   ]
  },
  {
   "cell_type": "code",
   "execution_count": 15,
   "metadata": {},
   "outputs": [],
   "source": [
    "ups2_mq_identifications_df['theoretical_peptide_mass'] = ups2_mq_identifications_df['peptide mass'] + (ups2_mq_identifications_df.sequence.str.count('C') * ADD_C_CYSTEINE_DA)\n",
    "ups2_mq_identifications_df['mass_accuracy_ppm'] = (ups2_mq_identifications_df['monoisotopic_mass'] - ups2_mq_identifications_df['theoretical_peptide_mass']) / ups2_mq_identifications_df['theoretical_peptide_mass'] * 10**6\n",
    "ups2_mq_identifications_df['mass_error'] = ups2_mq_identifications_df['monoisotopic_mass'] - ups2_mq_identifications_df['theoretical_peptide_mass']\n"
   ]
  },
  {
   "cell_type": "code",
   "execution_count": 16,
   "metadata": {},
   "outputs": [],
   "source": [
    "ups2_mq_identifications_df = ups2_mq_identifications_df[(ups2_mq_identifications_df['percolator q-value'] <= MAXIMUM_Q_VALUE) & (~ups2_mq_identifications_df['protein id'].str.contains('YEAST'))]"
   ]
  },
  {
   "cell_type": "code",
   "execution_count": 17,
   "metadata": {},
   "outputs": [
    {
     "name": "stdout",
     "output_type": "stream",
     "text": [
      "number of unique proteins: 22\n"
     ]
    }
   ],
   "source": [
    "print('number of unique proteins: {}'.format(len(ups2_mq_identifications_df['protein id'].unique())))"
   ]
  },
  {
   "cell_type": "markdown",
   "metadata": {},
   "source": [
    "#### using the Top3 approach to determine protein quanitification"
   ]
  },
  {
   "cell_type": "code",
   "execution_count": 18,
   "metadata": {},
   "outputs": [],
   "source": [
    "ups2_proteins_l = []\n",
    "\n",
    "ups2_proteins_l.append({'uniprot':'P00915', 'fmoles':50000})\n",
    "ups2_proteins_l.append({'uniprot':'P00918', 'fmoles':50000})\n",
    "ups2_proteins_l.append({'uniprot':'P01031', 'fmoles':50000})\n",
    "ups2_proteins_l.append({'uniprot':'P69905', 'fmoles':50000})\n",
    "ups2_proteins_l.append({'uniprot':'P68871', 'fmoles':50000})\n",
    "ups2_proteins_l.append({'uniprot':'P41159', 'fmoles':50000})\n",
    "ups2_proteins_l.append({'uniprot':'P02768', 'fmoles':50000})\n",
    "ups2_proteins_l.append({'uniprot':'P62988', 'fmoles':50000})\n",
    "\n",
    "ups2_proteins_l.append({'uniprot':'P04040', 'fmoles':5000})\n",
    "ups2_proteins_l.append({'uniprot':'P00167', 'fmoles':5000})\n",
    "ups2_proteins_l.append({'uniprot':'P01133', 'fmoles':5000})\n",
    "ups2_proteins_l.append({'uniprot':'P02144', 'fmoles':5000})\n",
    "ups2_proteins_l.append({'uniprot':'P15559', 'fmoles':5000})\n",
    "ups2_proteins_l.append({'uniprot':'P62937', 'fmoles':5000})\n",
    "ups2_proteins_l.append({'uniprot':'Q06830', 'fmoles':5000})\n",
    "ups2_proteins_l.append({'uniprot':'P63165', 'fmoles':5000})\n",
    "\n",
    "ups2_proteins_l.append({'uniprot':'P00709', 'fmoles':500})\n",
    "ups2_proteins_l.append({'uniprot':'P06732', 'fmoles':500})\n",
    "ups2_proteins_l.append({'uniprot':'P12081', 'fmoles':500})\n",
    "ups2_proteins_l.append({'uniprot':'P61626', 'fmoles':500})\n",
    "ups2_proteins_l.append({'uniprot':'Q15843', 'fmoles':500})\n",
    "ups2_proteins_l.append({'uniprot':'P02753', 'fmoles':500})\n",
    "ups2_proteins_l.append({'uniprot':'P16083', 'fmoles':500})\n",
    "ups2_proteins_l.append({'uniprot':'P63279', 'fmoles':500})\n",
    "\n",
    "ups2_proteins_l.append({'uniprot':'P01008', 'fmoles':50})\n",
    "ups2_proteins_l.append({'uniprot':'P61769', 'fmoles':50})\n",
    "ups2_proteins_l.append({'uniprot':'P55957', 'fmoles':50})\n",
    "ups2_proteins_l.append({'uniprot':'O76070', 'fmoles':50})\n",
    "ups2_proteins_l.append({'uniprot':'P08263', 'fmoles':50})\n",
    "ups2_proteins_l.append({'uniprot':'P01344', 'fmoles':50})\n",
    "ups2_proteins_l.append({'uniprot':'P01127', 'fmoles':50})\n",
    "ups2_proteins_l.append({'uniprot':'P10599', 'fmoles':50})\n",
    "\n",
    "ups2_proteins_l.append({'uniprot':'P99999', 'fmoles':5})\n",
    "ups2_proteins_l.append({'uniprot':'P06396', 'fmoles':5})\n",
    "ups2_proteins_l.append({'uniprot':'P09211', 'fmoles':5})\n",
    "ups2_proteins_l.append({'uniprot':'P01112', 'fmoles':5})\n",
    "ups2_proteins_l.append({'uniprot':'P01579', 'fmoles':5})\n",
    "ups2_proteins_l.append({'uniprot':'P02787', 'fmoles':5})\n",
    "ups2_proteins_l.append({'uniprot':'O00762', 'fmoles':5})\n",
    "ups2_proteins_l.append({'uniprot':'P51965', 'fmoles':5})\n",
    "\n",
    "ups2_proteins_l.append({'uniprot':'P08758', 'fmoles':0.5})\n",
    "ups2_proteins_l.append({'uniprot':'P02741', 'fmoles':0.5})\n",
    "ups2_proteins_l.append({'uniprot':'P05413', 'fmoles':0.5})\n",
    "ups2_proteins_l.append({'uniprot':'P10145', 'fmoles':0.5})\n",
    "ups2_proteins_l.append({'uniprot':'P02788', 'fmoles':0.5})\n",
    "ups2_proteins_l.append({'uniprot':'P10636-8', 'fmoles':0.5})\n",
    "ups2_proteins_l.append({'uniprot':'P00441', 'fmoles':0.5})\n",
    "ups2_proteins_l.append({'uniprot':'P01375', 'fmoles':0.5})\n",
    "\n",
    "ups2_d = {}\n",
    "for p in ups2_proteins_l:\n",
    "    ups2_d[p['uniprot']] = p['fmoles']"
   ]
  },
  {
   "cell_type": "code",
   "execution_count": 19,
   "metadata": {},
   "outputs": [
    {
     "data": {
      "text/plain": [
       "array(['P02768ups|ALBU_HUMAN_UPS', 'P00918ups|CAH2_HUMAN_UPS',\n",
       "       'P00915ups|CAH1_HUMAN_UPS', 'P62988ups|UBIQ_HUMAN_UPS',\n",
       "       'P15559ups|NQO1_HUMAN_UPS', 'P68871ups|HBB_HUMAN_UPS',\n",
       "       'P41159ups|LEP_HUMAN_UPS', 'P63165ups|SUMO1_HUMAN_UPS',\n",
       "       'P04040ups|CATA_HUMAN_UPS', 'P02144ups|MYG_HUMAN_UPS',\n",
       "       'P00167ups|CYB5_HUMAN_UPS', 'P69905ups|HBA_HUMAN_UPS',\n",
       "       'P01031ups|CO5_HUMAN_UPS', 'P12081ups|SYHC_HUMAN_UPS',\n",
       "       'Q06830ups|PRDX1_HUMAN_UPS', 'P00709ups|LALBA_HUMAN_UPS',\n",
       "       'Q15843ups|NEDD8_HUMAN_UPS', 'P62937ups|PPIA_HUMAN_UPS',\n",
       "       'P01133ups|EGF_HUMAN_UPS', 'P06732ups|KCRM_HUMAN_UPS',\n",
       "       'P16083ups|NQO2_HUMAN_UPS', 'P02753ups|RETBP_HUMAN_UPS'],\n",
       "      dtype=object)"
      ]
     },
     "execution_count": 19,
     "metadata": {},
     "output_type": "execute_result"
    }
   ],
   "source": [
    "ups2_mq_identifications_df['protein id'].unique()"
   ]
  },
  {
   "cell_type": "code",
   "execution_count": 20,
   "metadata": {},
   "outputs": [
    {
     "name": "stdout",
     "output_type": "stream",
     "text": [
      "YeastUPS2_01 didn't have three peptides for P00167ups|CYB5_HUMAN_UPS\n",
      "YeastUPS2_01 didn't have three peptides for P00709ups|LALBA_HUMAN_UPS\n",
      "YeastUPS2_01 didn't have three peptides for P01133ups|EGF_HUMAN_UPS\n",
      "YeastUPS2_01 didn't have three peptides for P06732ups|KCRM_HUMAN_UPS\n",
      "YeastUPS2_01 didn't have three peptides for P62937ups|PPIA_HUMAN_UPS\n",
      "YeastUPS2_01 didn't have three peptides for P63165ups|SUMO1_HUMAN_UPS\n",
      "YeastUPS2_02 didn't have three peptides for P00167ups|CYB5_HUMAN_UPS\n",
      "YeastUPS2_02 didn't have three peptides for P00709ups|LALBA_HUMAN_UPS\n",
      "YeastUPS2_02 didn't have three peptides for P01031ups|CO5_HUMAN_UPS\n",
      "YeastUPS2_02 didn't have three peptides for P01133ups|EGF_HUMAN_UPS\n",
      "YeastUPS2_02 didn't have three peptides for P06732ups|KCRM_HUMAN_UPS\n",
      "YeastUPS2_02 didn't have three peptides for P62937ups|PPIA_HUMAN_UPS\n",
      "YeastUPS2_02 didn't have three peptides for Q15843ups|NEDD8_HUMAN_UPS\n",
      "YeastUPS2_03 didn't have three peptides for P00167ups|CYB5_HUMAN_UPS\n",
      "YeastUPS2_03 didn't have three peptides for P00709ups|LALBA_HUMAN_UPS\n",
      "YeastUPS2_03 didn't have three peptides for P01031ups|CO5_HUMAN_UPS\n",
      "YeastUPS2_03 didn't have three peptides for P01133ups|EGF_HUMAN_UPS\n",
      "YeastUPS2_03 didn't have three peptides for P06732ups|KCRM_HUMAN_UPS\n",
      "YeastUPS2_03 didn't have three peptides for P12081ups|SYHC_HUMAN_UPS\n",
      "YeastUPS2_03 didn't have three peptides for P16083ups|NQO2_HUMAN_UPS\n",
      "YeastUPS2_03 didn't have three peptides for P62937ups|PPIA_HUMAN_UPS\n",
      "YeastUPS2_03 didn't have three peptides for Q15843ups|NEDD8_HUMAN_UPS\n",
      "YeastUPS2_04 didn't have three peptides for P00167ups|CYB5_HUMAN_UPS\n",
      "YeastUPS2_04 didn't have three peptides for P00709ups|LALBA_HUMAN_UPS\n",
      "YeastUPS2_04 didn't have three peptides for P01133ups|EGF_HUMAN_UPS\n",
      "YeastUPS2_04 didn't have three peptides for P06732ups|KCRM_HUMAN_UPS\n",
      "YeastUPS2_04 didn't have three peptides for P12081ups|SYHC_HUMAN_UPS\n",
      "YeastUPS2_04 didn't have three peptides for P63165ups|SUMO1_HUMAN_UPS\n",
      "YeastUPS2_05 didn't have three peptides for P00167ups|CYB5_HUMAN_UPS\n",
      "YeastUPS2_05 didn't have three peptides for P00709ups|LALBA_HUMAN_UPS\n",
      "YeastUPS2_05 didn't have three peptides for P01133ups|EGF_HUMAN_UPS\n",
      "YeastUPS2_05 didn't have three peptides for P06732ups|KCRM_HUMAN_UPS\n",
      "YeastUPS2_05 didn't have three peptides for P12081ups|SYHC_HUMAN_UPS\n",
      "YeastUPS2_05 didn't have three peptides for Q15843ups|NEDD8_HUMAN_UPS\n",
      "YeastUPS2_06 didn't have three peptides for P00167ups|CYB5_HUMAN_UPS\n",
      "YeastUPS2_06 didn't have three peptides for P00709ups|LALBA_HUMAN_UPS\n",
      "YeastUPS2_06 didn't have three peptides for P01133ups|EGF_HUMAN_UPS\n",
      "YeastUPS2_06 didn't have three peptides for P02753ups|RETBP_HUMAN_UPS\n",
      "YeastUPS2_06 didn't have three peptides for P06732ups|KCRM_HUMAN_UPS\n",
      "YeastUPS2_06 didn't have three peptides for P62937ups|PPIA_HUMAN_UPS\n",
      "YeastUPS2_06 didn't have three peptides for Q15843ups|NEDD8_HUMAN_UPS\n",
      "YeastUPS2_07 didn't have three peptides for P00167ups|CYB5_HUMAN_UPS\n",
      "YeastUPS2_07 didn't have three peptides for P00709ups|LALBA_HUMAN_UPS\n",
      "YeastUPS2_07 didn't have three peptides for P01031ups|CO5_HUMAN_UPS\n",
      "YeastUPS2_07 didn't have three peptides for P01133ups|EGF_HUMAN_UPS\n",
      "YeastUPS2_07 didn't have three peptides for P02753ups|RETBP_HUMAN_UPS\n",
      "YeastUPS2_07 didn't have three peptides for P06732ups|KCRM_HUMAN_UPS\n",
      "YeastUPS2_07 didn't have three peptides for P62937ups|PPIA_HUMAN_UPS\n",
      "YeastUPS2_07 didn't have three peptides for P63165ups|SUMO1_HUMAN_UPS\n",
      "YeastUPS2_07 didn't have three peptides for Q15843ups|NEDD8_HUMAN_UPS\n",
      "YeastUPS2_08 didn't have three peptides for P00167ups|CYB5_HUMAN_UPS\n",
      "YeastUPS2_08 didn't have three peptides for P00709ups|LALBA_HUMAN_UPS\n",
      "YeastUPS2_08 didn't have three peptides for P01031ups|CO5_HUMAN_UPS\n",
      "YeastUPS2_08 didn't have three peptides for P01133ups|EGF_HUMAN_UPS\n",
      "YeastUPS2_08 didn't have three peptides for P06732ups|KCRM_HUMAN_UPS\n",
      "YeastUPS2_08 didn't have three peptides for P62937ups|PPIA_HUMAN_UPS\n",
      "YeastUPS2_08 didn't have three peptides for Q15843ups|NEDD8_HUMAN_UPS\n",
      "YeastUPS2_09 didn't have three peptides for P00167ups|CYB5_HUMAN_UPS\n",
      "YeastUPS2_09 didn't have three peptides for P00709ups|LALBA_HUMAN_UPS\n",
      "YeastUPS2_09 didn't have three peptides for P01031ups|CO5_HUMAN_UPS\n",
      "YeastUPS2_09 didn't have three peptides for P01133ups|EGF_HUMAN_UPS\n",
      "YeastUPS2_09 didn't have three peptides for P12081ups|SYHC_HUMAN_UPS\n",
      "YeastUPS2_09 didn't have three peptides for P62937ups|PPIA_HUMAN_UPS\n",
      "YeastUPS2_09 didn't have three peptides for Q15843ups|NEDD8_HUMAN_UPS\n",
      "YeastUPS2_10 didn't have three peptides for P00709ups|LALBA_HUMAN_UPS\n",
      "YeastUPS2_10 didn't have three peptides for P01133ups|EGF_HUMAN_UPS\n",
      "YeastUPS2_10 didn't have three peptides for P06732ups|KCRM_HUMAN_UPS\n",
      "YeastUPS2_10 didn't have three peptides for P12081ups|SYHC_HUMAN_UPS\n",
      "YeastUPS2_10 didn't have three peptides for P62937ups|PPIA_HUMAN_UPS\n",
      "YeastUPS2_10 didn't have three peptides for Q15843ups|NEDD8_HUMAN_UPS\n"
     ]
    }
   ],
   "source": [
    "# find the three most intense peptides for each protein\n",
    "top3_l = []\n",
    "for group_name,group_df in ups2_mq_identifications_df.groupby(['short_run_name','protein id']):\n",
    "    short_run_name = group_name[0]\n",
    "    protein_name = group_name[1]\n",
    "    df = group_df.sort_values(by=['intensity'], ascending=False, inplace=False)\n",
    "    top3_df = df.head(n=3)\n",
    "    if len(top3_df) == 3:\n",
    "        uniprot_id = protein_name.split('ups')[0]\n",
    "        pmoles = ups2_d[uniprot_id] / 1000\n",
    "        average_intensity = top3_df.intensity.mean()\n",
    "        signal_response_factor = average_intensity / pmoles\n",
    "        peptide_count = len(df)\n",
    "        attribs_d = top3_df[['mq_index','sequence','charge','intensity']].to_dict('records')\n",
    "        top3_l.append({'short_run_name':short_run_name, 'protein':protein_name, 'pmoles':pmoles, 'average_intensity':average_intensity, 'signal_response_factor':signal_response_factor, 'peptide_count':peptide_count, 'attribs_d':attribs_d})\n",
    "    else:\n",
    "        print('{} didn\\'t have three peptides for {}'.format(short_run_name, protein_name))\n",
    "ups2_mq_top3_df = pd.DataFrame(top3_l)"
   ]
  },
  {
   "cell_type": "code",
   "execution_count": 21,
   "metadata": {},
   "outputs": [
    {
     "data": {
      "text/plain": [
       "15"
      ]
     },
     "execution_count": 21,
     "metadata": {},
     "output_type": "execute_result"
    }
   ],
   "source": [
    "len(ups2_mq_top3_df.protein.unique())"
   ]
  },
  {
   "cell_type": "code",
   "execution_count": 22,
   "metadata": {},
   "outputs": [
    {
     "data": {
      "text/plain": [
       "130899.33333333334"
      ]
     },
     "execution_count": 22,
     "metadata": {},
     "output_type": "execute_result"
    }
   ],
   "source": [
    "# using Serum albumin (P02768) as an internal reference\n",
    "universal_signal_response_factor = ups2_mq_top3_df[ups2_mq_top3_df.protein.str.startswith('P02768')].iloc[0].signal_response_factor\n",
    "universal_signal_response_factor"
   ]
  },
  {
   "cell_type": "code",
   "execution_count": 23,
   "metadata": {},
   "outputs": [],
   "source": [
    "ups2_mq_top3_df['calculated_pmoles'] = ups2_mq_top3_df.average_intensity / universal_signal_response_factor"
   ]
  },
  {
   "cell_type": "code",
   "execution_count": 24,
   "metadata": {},
   "outputs": [
    {
     "data": {
      "text/html": [
       "<div>\n",
       "<style scoped>\n",
       "    .dataframe tbody tr th:only-of-type {\n",
       "        vertical-align: middle;\n",
       "    }\n",
       "\n",
       "    .dataframe tbody tr th {\n",
       "        vertical-align: top;\n",
       "    }\n",
       "\n",
       "    .dataframe thead th {\n",
       "        text-align: right;\n",
       "    }\n",
       "</style>\n",
       "<table border=\"1\" class=\"dataframe\">\n",
       "  <thead>\n",
       "    <tr style=\"text-align: right;\">\n",
       "      <th></th>\n",
       "      <th>short_run_name</th>\n",
       "      <th>protein</th>\n",
       "      <th>pmoles</th>\n",
       "      <th>average_intensity</th>\n",
       "      <th>signal_response_factor</th>\n",
       "      <th>peptide_count</th>\n",
       "      <th>attribs_d</th>\n",
       "      <th>calculated_pmoles</th>\n",
       "    </tr>\n",
       "  </thead>\n",
       "  <tbody>\n",
       "    <tr>\n",
       "      <th>80</th>\n",
       "      <td>YeastUPS2_07</td>\n",
       "      <td>P00918ups|CAH2_HUMAN_UPS</td>\n",
       "      <td>50.0</td>\n",
       "      <td>1.923443e+06</td>\n",
       "      <td>38468.866667</td>\n",
       "      <td>19</td>\n",
       "      <td>[{'mq_index': 17341, 'sequence': 'YDPSLKPLSVSY...</td>\n",
       "      <td>14.694065</td>\n",
       "    </tr>\n",
       "    <tr>\n",
       "      <th>8</th>\n",
       "      <td>YeastUPS2_01</td>\n",
       "      <td>P41159ups|LEP_HUMAN_UPS</td>\n",
       "      <td>50.0</td>\n",
       "      <td>1.225630e+06</td>\n",
       "      <td>24512.600000</td>\n",
       "      <td>14</td>\n",
       "      <td>[{'mq_index': 13196, 'sequence': 'VTGLDFIPGLHP...</td>\n",
       "      <td>9.363149</td>\n",
       "    </tr>\n",
       "    <tr>\n",
       "      <th>58</th>\n",
       "      <td>YeastUPS2_05</td>\n",
       "      <td>P41159ups|LEP_HUMAN_UPS</td>\n",
       "      <td>50.0</td>\n",
       "      <td>1.345447e+06</td>\n",
       "      <td>26908.933333</td>\n",
       "      <td>13</td>\n",
       "      <td>[{'mq_index': 13376, 'sequence': 'VTGLDFIPGLHP...</td>\n",
       "      <td>10.278484</td>\n",
       "    </tr>\n",
       "  </tbody>\n",
       "</table>\n",
       "</div>"
      ],
      "text/plain": [
       "   short_run_name                   protein  pmoles  average_intensity  \\\n",
       "80   YeastUPS2_07  P00918ups|CAH2_HUMAN_UPS    50.0       1.923443e+06   \n",
       "8    YeastUPS2_01   P41159ups|LEP_HUMAN_UPS    50.0       1.225630e+06   \n",
       "58   YeastUPS2_05   P41159ups|LEP_HUMAN_UPS    50.0       1.345447e+06   \n",
       "\n",
       "    signal_response_factor  peptide_count  \\\n",
       "80            38468.866667             19   \n",
       "8             24512.600000             14   \n",
       "58            26908.933333             13   \n",
       "\n",
       "                                            attribs_d  calculated_pmoles  \n",
       "80  [{'mq_index': 17341, 'sequence': 'YDPSLKPLSVSY...          14.694065  \n",
       "8   [{'mq_index': 13196, 'sequence': 'VTGLDFIPGLHP...           9.363149  \n",
       "58  [{'mq_index': 13376, 'sequence': 'VTGLDFIPGLHP...          10.278484  "
      ]
     },
     "execution_count": 24,
     "metadata": {},
     "output_type": "execute_result"
    }
   ],
   "source": [
    "ups2_mq_top3_df.sample(n=3)"
   ]
  },
  {
   "cell_type": "code",
   "execution_count": 25,
   "metadata": {
    "scrolled": true
   },
   "outputs": [
    {
     "data": {
      "text/plain": [
       "1.0276661271597682"
      ]
     },
     "execution_count": 25,
     "metadata": {},
     "output_type": "execute_result"
    }
   ],
   "source": [
    "# calculate the CV for the signal response factor\n",
    "cv = ups2_mq_top3_df.signal_response_factor.std() / ups2_mq_top3_df.signal_response_factor.mean()\n",
    "cv"
   ]
  },
  {
   "cell_type": "markdown",
   "metadata": {},
   "source": [
    "#### calculate experiment intensity means for each protein"
   ]
  },
  {
   "cell_type": "code",
   "execution_count": 26,
   "metadata": {},
   "outputs": [],
   "source": [
    "experiment_means_l = []\n",
    "for group_name,group_df in ups2_mq_top3_df.groupby(['protein']):\n",
    "    if len(group_df.short_run_name.unique()) >= PROTEIN_APPEARS_IN_REPLICATES:\n",
    "        mean_intensity = group_df.average_intensity.mean()\n",
    "        experiment_means_l.append({'protein':group_name, 'mean_intensity':mean_intensity})\n",
    "experiment_UPS2_means_df = pd.DataFrame(experiment_means_l)"
   ]
  },
  {
   "cell_type": "code",
   "execution_count": 27,
   "metadata": {},
   "outputs": [
    {
     "data": {
      "text/plain": [
       "15"
      ]
     },
     "execution_count": 27,
     "metadata": {},
     "output_type": "execute_result"
    }
   ],
   "source": [
    "len(experiment_UPS2_means_df)"
   ]
  },
  {
   "cell_type": "markdown",
   "metadata": {},
   "source": [
    "#### analyse UPS1"
   ]
  },
  {
   "cell_type": "code",
   "execution_count": 28,
   "metadata": {},
   "outputs": [],
   "source": [
    "# load the percolator output\n",
    "UPS1_MQ_PERCOLATOR_OUTPUT_FILE_NAME = \"{}/P3830_YUPS1.percolator.target.psms.txt\".format(UPS1_MQ_PERCOLATOR_OUTPUT_DIR)"
   ]
  },
  {
   "cell_type": "code",
   "execution_count": 29,
   "metadata": {},
   "outputs": [],
   "source": [
    "ups1_mq_psms_df = pd.read_csv(UPS1_MQ_PERCOLATOR_OUTPUT_FILE_NAME, sep='\\t')\n",
    "ups1_mq_psms_df.rename(columns={'scan': 'mq_index'}, inplace=True)\n",
    "ups1_mq_psms_df.drop(['charge'], axis=1, inplace=True)\n",
    "# remove the poor quality identifications\n",
    "ups1_mq_psms_df = ups1_mq_psms_df[ups1_mq_psms_df['peptide mass'] > 0]"
   ]
  },
  {
   "cell_type": "code",
   "execution_count": 30,
   "metadata": {},
   "outputs": [],
   "source": [
    "# determine the mapping between the percolator index and the run file name - this is only available by parsing percolator's stdout redirected to a text file.\n",
    "mapping = []\n",
    "with open(UPS1_PERCOLATOR_STDOUT_FILE_NAME) as f:\n",
    "    lines = f.readlines()\n",
    "    for line in lines:\n",
    "        if line.startswith('INFO: Assigning index'):\n",
    "            splits = line.split(' ')\n",
    "            percolator_index = int(splits[3])\n",
    "            comet_filename = splits[5]\n",
    "            rn = comet_filename.split('/')[-1].split('.')[0]  # e.g. 190719_Hela_Ecoli_1to3_06\n",
    "            short_run_name = '_'.join(rn.split('_Slot')[0].split('_')[1:])\n",
    "            mapping.append((percolator_index, rn, short_run_name))\n",
    "ups1_mapping_df = pd.DataFrame(mapping, columns=['file_idx','run_name','short_run_name'])"
   ]
  },
  {
   "cell_type": "code",
   "execution_count": 31,
   "metadata": {},
   "outputs": [
    {
     "data": {
      "text/html": [
       "<div>\n",
       "<style scoped>\n",
       "    .dataframe tbody tr th:only-of-type {\n",
       "        vertical-align: middle;\n",
       "    }\n",
       "\n",
       "    .dataframe tbody tr th {\n",
       "        vertical-align: top;\n",
       "    }\n",
       "\n",
       "    .dataframe thead th {\n",
       "        text-align: right;\n",
       "    }\n",
       "</style>\n",
       "<table border=\"1\" class=\"dataframe\">\n",
       "  <thead>\n",
       "    <tr style=\"text-align: right;\">\n",
       "      <th></th>\n",
       "      <th>file_idx</th>\n",
       "      <th>run_name</th>\n",
       "      <th>short_run_name</th>\n",
       "    </tr>\n",
       "  </thead>\n",
       "  <tbody>\n",
       "    <tr>\n",
       "      <th>0</th>\n",
       "      <td>0</td>\n",
       "      <td>P3830_YeastUPS1_04_Slot1-1_1_5069</td>\n",
       "      <td>YeastUPS1_04</td>\n",
       "    </tr>\n",
       "    <tr>\n",
       "      <th>1</th>\n",
       "      <td>1</td>\n",
       "      <td>P3830_YeastUPS1_08_Slot1-1_1_5078</td>\n",
       "      <td>YeastUPS1_08</td>\n",
       "    </tr>\n",
       "    <tr>\n",
       "      <th>2</th>\n",
       "      <td>2</td>\n",
       "      <td>P3830_YeastUPS1_01_Slot1-1_1_5066</td>\n",
       "      <td>YeastUPS1_01</td>\n",
       "    </tr>\n",
       "    <tr>\n",
       "      <th>3</th>\n",
       "      <td>3</td>\n",
       "      <td>P3830_YeastUPS1_09_Slot1-1_1_5079</td>\n",
       "      <td>YeastUPS1_09</td>\n",
       "    </tr>\n",
       "    <tr>\n",
       "      <th>4</th>\n",
       "      <td>4</td>\n",
       "      <td>P3830_YeastUPS1_02_Slot1-1_1_5067</td>\n",
       "      <td>YeastUPS1_02</td>\n",
       "    </tr>\n",
       "    <tr>\n",
       "      <th>5</th>\n",
       "      <td>5</td>\n",
       "      <td>P3830_YeastUPS1_07_Slot1-1_1_5077</td>\n",
       "      <td>YeastUPS1_07</td>\n",
       "    </tr>\n",
       "    <tr>\n",
       "      <th>6</th>\n",
       "      <td>6</td>\n",
       "      <td>P3830_YeastUPS1_05_Slot1-1_1_5070</td>\n",
       "      <td>YeastUPS1_05</td>\n",
       "    </tr>\n",
       "    <tr>\n",
       "      <th>7</th>\n",
       "      <td>7</td>\n",
       "      <td>P3830_YeastUPS1_10_Slot1-1_1_5080</td>\n",
       "      <td>YeastUPS1_10</td>\n",
       "    </tr>\n",
       "    <tr>\n",
       "      <th>8</th>\n",
       "      <td>8</td>\n",
       "      <td>P3830_YeastUPS1_03_Slot1-1_1_5068</td>\n",
       "      <td>YeastUPS1_03</td>\n",
       "    </tr>\n",
       "    <tr>\n",
       "      <th>9</th>\n",
       "      <td>9</td>\n",
       "      <td>P3830_YeastUPS1_06_Slot1-1_1_5076</td>\n",
       "      <td>YeastUPS1_06</td>\n",
       "    </tr>\n",
       "  </tbody>\n",
       "</table>\n",
       "</div>"
      ],
      "text/plain": [
       "   file_idx                           run_name short_run_name\n",
       "0         0  P3830_YeastUPS1_04_Slot1-1_1_5069   YeastUPS1_04\n",
       "1         1  P3830_YeastUPS1_08_Slot1-1_1_5078   YeastUPS1_08\n",
       "2         2  P3830_YeastUPS1_01_Slot1-1_1_5066   YeastUPS1_01\n",
       "3         3  P3830_YeastUPS1_09_Slot1-1_1_5079   YeastUPS1_09\n",
       "4         4  P3830_YeastUPS1_02_Slot1-1_1_5067   YeastUPS1_02\n",
       "5         5  P3830_YeastUPS1_07_Slot1-1_1_5077   YeastUPS1_07\n",
       "6         6  P3830_YeastUPS1_05_Slot1-1_1_5070   YeastUPS1_05\n",
       "7         7  P3830_YeastUPS1_10_Slot1-1_1_5080   YeastUPS1_10\n",
       "8         8  P3830_YeastUPS1_03_Slot1-1_1_5068   YeastUPS1_03\n",
       "9         9  P3830_YeastUPS1_06_Slot1-1_1_5076   YeastUPS1_06"
      ]
     },
     "execution_count": 31,
     "metadata": {},
     "output_type": "execute_result"
    }
   ],
   "source": [
    "ups1_mapping_df"
   ]
  },
  {
   "cell_type": "code",
   "execution_count": 32,
   "metadata": {},
   "outputs": [],
   "source": [
    "# add the run names\n",
    "ups1_mq_percolator_df = pd.merge(ups1_mq_psms_df, ups1_mapping_df, how='left', left_on=['file_idx'], right_on=['file_idx'])"
   ]
  },
  {
   "cell_type": "code",
   "execution_count": 33,
   "metadata": {},
   "outputs": [
    {
     "data": {
      "text/plain": [
       "array(['P3830_YeastUPS1_04_Slot1-1_1_5069',\n",
       "       'P3830_YeastUPS1_08_Slot1-1_1_5078',\n",
       "       'P3830_YeastUPS1_01_Slot1-1_1_5066',\n",
       "       'P3830_YeastUPS1_09_Slot1-1_1_5079',\n",
       "       'P3830_YeastUPS1_02_Slot1-1_1_5067',\n",
       "       'P3830_YeastUPS1_07_Slot1-1_1_5077',\n",
       "       'P3830_YeastUPS1_05_Slot1-1_1_5070',\n",
       "       'P3830_YeastUPS1_10_Slot1-1_1_5080',\n",
       "       'P3830_YeastUPS1_03_Slot1-1_1_5068',\n",
       "       'P3830_YeastUPS1_06_Slot1-1_1_5076'], dtype=object)"
      ]
     },
     "execution_count": 33,
     "metadata": {},
     "output_type": "execute_result"
    }
   ],
   "source": [
    "ups1_mq_percolator_df.run_name.unique()"
   ]
  },
  {
   "cell_type": "code",
   "execution_count": 34,
   "metadata": {},
   "outputs": [],
   "source": [
    "# merge the precolator results with the MQ features - obtained with the APL-to-MGF converter (generate-MGF-from-MaxQuant-APLs.py)\n",
    "mq_features_l = glob.glob('{}/exp-P3830_YUPS?-run-*-features-mq.pkl'.format(UPS1_MQ_FEATURES_DIR))\n",
    "df_l = []\n",
    "for f in mq_features_l:\n",
    "    df = pd.read_pickle(f)\n",
    "    df_l.append(df['features_df'])\n",
    "ups1_mq_features_df = pd.concat(df_l, axis=0, sort=False, ignore_index=True)"
   ]
  },
  {
   "cell_type": "code",
   "execution_count": 35,
   "metadata": {},
   "outputs": [],
   "source": [
    "ups1_mq_identifications_df = pd.merge(ups1_mq_features_df, ups1_mq_percolator_df, how='left', left_on=['raw_file','mq_index'], right_on=['run_name','mq_index'])\n",
    "# remove any features that were not identified\n",
    "ups1_mq_identifications_df.dropna(subset=['sequence'], inplace=True)\n",
    "\n",
    "ups1_mq_identifications_df['short_run_name'] = ups1_mq_identifications_df.apply(lambda row: '_'.join(row.run_name.split('_Slot')[0].split('_')[1:]), axis=1)\n",
    "ups1_mq_identifications_df['protein id'] = ups1_mq_identifications_df.apply(lambda row: row['protein id'].split(',')[0], axis=1)"
   ]
  },
  {
   "cell_type": "code",
   "execution_count": 36,
   "metadata": {},
   "outputs": [],
   "source": [
    "ups1_mq_identifications_df['theoretical_peptide_mass'] = ups1_mq_identifications_df['peptide mass'] + (ups1_mq_identifications_df.sequence.str.count('C') * ADD_C_CYSTEINE_DA)\n",
    "ups1_mq_identifications_df['mass_accuracy_ppm'] = (ups1_mq_identifications_df['monoisotopic_mass'] - ups1_mq_identifications_df['theoretical_peptide_mass']) / ups1_mq_identifications_df['theoretical_peptide_mass'] * 10**6\n",
    "ups1_mq_identifications_df['mass_error'] = ups1_mq_identifications_df['monoisotopic_mass'] - ups1_mq_identifications_df['theoretical_peptide_mass']\n"
   ]
  },
  {
   "cell_type": "code",
   "execution_count": 37,
   "metadata": {},
   "outputs": [],
   "source": [
    "ups1_mq_identifications_df = ups1_mq_identifications_df[(ups1_mq_identifications_df['percolator q-value'] <= MAXIMUM_Q_VALUE) & (~ups1_mq_identifications_df['protein id'].str.contains('YEAST'))]"
   ]
  },
  {
   "cell_type": "code",
   "execution_count": 38,
   "metadata": {},
   "outputs": [
    {
     "name": "stdout",
     "output_type": "stream",
     "text": [
      "number of unique proteins: 47\n"
     ]
    }
   ],
   "source": [
    "print('number of unique proteins: {}'.format(len(ups1_mq_identifications_df['protein id'].unique())))"
   ]
  },
  {
   "cell_type": "code",
   "execution_count": 39,
   "metadata": {},
   "outputs": [],
   "source": [
    "ups1_proteins_l = []\n",
    "\n",
    "ups1_proteins_l.append({'uniprot':'P00915', 'fmoles':5000})\n",
    "ups1_proteins_l.append({'uniprot':'P00918', 'fmoles':5000})\n",
    "ups1_proteins_l.append({'uniprot':'P01031', 'fmoles':5000})\n",
    "ups1_proteins_l.append({'uniprot':'P69905', 'fmoles':5000})\n",
    "ups1_proteins_l.append({'uniprot':'P68871', 'fmoles':5000})\n",
    "ups1_proteins_l.append({'uniprot':'P41159', 'fmoles':5000})\n",
    "ups1_proteins_l.append({'uniprot':'P02768', 'fmoles':5000})\n",
    "ups1_proteins_l.append({'uniprot':'P62988', 'fmoles':5000})\n",
    "\n",
    "ups1_proteins_l.append({'uniprot':'P04040', 'fmoles':5000})\n",
    "ups1_proteins_l.append({'uniprot':'P00167', 'fmoles':5000})\n",
    "ups1_proteins_l.append({'uniprot':'P01133', 'fmoles':5000})\n",
    "ups1_proteins_l.append({'uniprot':'P02144', 'fmoles':5000})\n",
    "ups1_proteins_l.append({'uniprot':'P15559', 'fmoles':5000})\n",
    "ups1_proteins_l.append({'uniprot':'P62937', 'fmoles':5000})\n",
    "ups1_proteins_l.append({'uniprot':'Q06830', 'fmoles':5000})\n",
    "ups1_proteins_l.append({'uniprot':'P63165', 'fmoles':5000})\n",
    "\n",
    "ups1_proteins_l.append({'uniprot':'P00709', 'fmoles':5000})\n",
    "ups1_proteins_l.append({'uniprot':'P06732', 'fmoles':5000})\n",
    "ups1_proteins_l.append({'uniprot':'P12081', 'fmoles':5000})\n",
    "ups1_proteins_l.append({'uniprot':'P61626', 'fmoles':5000})\n",
    "ups1_proteins_l.append({'uniprot':'Q15843', 'fmoles':5000})\n",
    "ups1_proteins_l.append({'uniprot':'P02753', 'fmoles':5000})\n",
    "ups1_proteins_l.append({'uniprot':'P16083', 'fmoles':5000})\n",
    "ups1_proteins_l.append({'uniprot':'P63279', 'fmoles':5000})\n",
    "\n",
    "ups1_proteins_l.append({'uniprot':'P01008', 'fmoles':5000})\n",
    "ups1_proteins_l.append({'uniprot':'P61769', 'fmoles':5000})\n",
    "ups1_proteins_l.append({'uniprot':'P55957', 'fmoles':5000})\n",
    "ups1_proteins_l.append({'uniprot':'O76070', 'fmoles':5000})\n",
    "ups1_proteins_l.append({'uniprot':'P08263', 'fmoles':5000})\n",
    "ups1_proteins_l.append({'uniprot':'P01344', 'fmoles':5000})\n",
    "ups1_proteins_l.append({'uniprot':'P01127', 'fmoles':5000})\n",
    "ups1_proteins_l.append({'uniprot':'P10599', 'fmoles':5000})\n",
    "\n",
    "ups1_proteins_l.append({'uniprot':'P99999', 'fmoles':5000})\n",
    "ups1_proteins_l.append({'uniprot':'P06396', 'fmoles':5000})\n",
    "ups1_proteins_l.append({'uniprot':'P09211', 'fmoles':5000})\n",
    "ups1_proteins_l.append({'uniprot':'P01112', 'fmoles':5000})\n",
    "ups1_proteins_l.append({'uniprot':'P01579', 'fmoles':5000})\n",
    "ups1_proteins_l.append({'uniprot':'P02787', 'fmoles':5000})\n",
    "ups1_proteins_l.append({'uniprot':'O00762', 'fmoles':5000})\n",
    "ups1_proteins_l.append({'uniprot':'P51965', 'fmoles':5000})\n",
    "\n",
    "ups1_proteins_l.append({'uniprot':'P08758', 'fmoles':5000})\n",
    "ups1_proteins_l.append({'uniprot':'P02741', 'fmoles':5000})\n",
    "ups1_proteins_l.append({'uniprot':'P05413', 'fmoles':5000})\n",
    "ups1_proteins_l.append({'uniprot':'P10145', 'fmoles':5000})\n",
    "ups1_proteins_l.append({'uniprot':'P02788', 'fmoles':5000})\n",
    "ups1_proteins_l.append({'uniprot':'P10636-8', 'fmoles':5000})\n",
    "ups1_proteins_l.append({'uniprot':'P00441', 'fmoles':5000})\n",
    "ups1_proteins_l.append({'uniprot':'P01375', 'fmoles':5000})\n",
    "\n",
    "ups1_d = {}\n",
    "for p in ups1_proteins_l:\n",
    "    ups1_d[p['uniprot']] = p['fmoles']"
   ]
  },
  {
   "cell_type": "code",
   "execution_count": 40,
   "metadata": {},
   "outputs": [
    {
     "name": "stdout",
     "output_type": "stream",
     "text": [
      "YeastUPS1_01 didn't have three peptides for O00762ups|UBE2C_HUMAN_UPS\n",
      "YeastUPS1_01 didn't have three peptides for P01127ups|PDGFB_HUMAN_UPS\n",
      "YeastUPS1_01 didn't have three peptides for P01133ups|EGF_HUMAN_UPS\n",
      "YeastUPS1_01 didn't have three peptides for P01344ups|IGF2_HUMAN_UPS\n",
      "YeastUPS1_01 didn't have three peptides for P01375ups|TNFA_HUMAN_UPS\n",
      "YeastUPS1_01 didn't have three peptides for P08263ups|GSTA1_HUMAN_UPS\n",
      "YeastUPS1_01 didn't have three peptides for P10145ups|IL8_HUMAN_UPS\n",
      "YeastUPS1_01 didn't have three peptides for P51965ups|UB2E1_HUMAN_UPS\n",
      "YeastUPS1_01 didn't have three peptides for P61769ups|B2MG_HUMAN_UPS\n",
      "YeastUPS1_01 didn't have three peptides for P62937ups|PPIA_HUMAN_UPS\n",
      "YeastUPS1_01 didn't have three peptides for P63165ups|SUMO1_HUMAN_UPS\n",
      "YeastUPS1_01 didn't have three peptides for P63279ups|UBC9_HUMAN_UPS\n",
      "YeastUPS1_01 didn't have three peptides for P69905ups|HBA_HUMAN_UPS\n",
      "YeastUPS1_01 didn't have three peptides for Q15843ups|NEDD8_HUMAN_UPS\n",
      "YeastUPS1_02 didn't have three peptides for O00762ups|UBE2C_HUMAN_UPS\n",
      "YeastUPS1_02 didn't have three peptides for P00709ups|LALBA_HUMAN_UPS\n",
      "YeastUPS1_02 didn't have three peptides for P01031ups|CO5_HUMAN_UPS\n",
      "YeastUPS1_02 didn't have three peptides for P01344ups|IGF2_HUMAN_UPS\n",
      "YeastUPS1_02 didn't have three peptides for P01375ups|TNFA_HUMAN_UPS\n",
      "YeastUPS1_02 didn't have three peptides for P02753ups|RETBP_HUMAN_UPS\n",
      "YeastUPS1_02 didn't have three peptides for P08263ups|GSTA1_HUMAN_UPS\n",
      "YeastUPS1_02 didn't have three peptides for P10145ups|IL8_HUMAN_UPS\n",
      "YeastUPS1_02 didn't have three peptides for P15559ups|NQO1_HUMAN_UPS\n",
      "YeastUPS1_02 didn't have three peptides for P51965ups|UB2E1_HUMAN_UPS\n",
      "YeastUPS1_02 didn't have three peptides for P61769ups|B2MG_HUMAN_UPS\n",
      "YeastUPS1_02 didn't have three peptides for P63279ups|UBC9_HUMAN_UPS\n",
      "YeastUPS1_02 didn't have three peptides for P69905ups|HBA_HUMAN_UPS\n",
      "YeastUPS1_02 didn't have three peptides for Q15843ups|NEDD8_HUMAN_UPS\n",
      "YeastUPS1_03 didn't have three peptides for O00762ups|UBE2C_HUMAN_UPS\n",
      "YeastUPS1_03 didn't have three peptides for P01127ups|PDGFB_HUMAN_UPS\n",
      "YeastUPS1_03 didn't have three peptides for P01133ups|EGF_HUMAN_UPS\n",
      "YeastUPS1_03 didn't have three peptides for P01344ups|IGF2_HUMAN_UPS\n",
      "YeastUPS1_03 didn't have three peptides for P01375ups|TNFA_HUMAN_UPS\n",
      "YeastUPS1_03 didn't have three peptides for P02753ups|RETBP_HUMAN_UPS\n",
      "YeastUPS1_03 didn't have three peptides for P08263ups|GSTA1_HUMAN_UPS\n",
      "YeastUPS1_03 didn't have three peptides for P10145ups|IL8_HUMAN_UPS\n",
      "YeastUPS1_03 didn't have three peptides for P15559ups|NQO1_HUMAN_UPS\n",
      "YeastUPS1_03 didn't have three peptides for P51965ups|UB2E1_HUMAN_UPS\n",
      "YeastUPS1_03 didn't have three peptides for P61769ups|B2MG_HUMAN_UPS\n",
      "YeastUPS1_03 didn't have three peptides for P62937ups|PPIA_HUMAN_UPS\n",
      "YeastUPS1_03 didn't have three peptides for P63165ups|SUMO1_HUMAN_UPS\n",
      "YeastUPS1_03 didn't have three peptides for Q15843ups|NEDD8_HUMAN_UPS\n",
      "YeastUPS1_04 didn't have three peptides for O00762ups|UBE2C_HUMAN_UPS\n",
      "YeastUPS1_04 didn't have three peptides for P00709ups|LALBA_HUMAN_UPS\n",
      "YeastUPS1_04 didn't have three peptides for P01127ups|PDGFB_HUMAN_UPS\n",
      "YeastUPS1_04 didn't have three peptides for P01133ups|EGF_HUMAN_UPS\n",
      "YeastUPS1_04 didn't have three peptides for P01344ups|IGF2_HUMAN_UPS\n",
      "YeastUPS1_04 didn't have three peptides for P01375ups|TNFA_HUMAN_UPS\n",
      "YeastUPS1_04 didn't have three peptides for P02753ups|RETBP_HUMAN_UPS\n",
      "YeastUPS1_04 didn't have three peptides for P08263ups|GSTA1_HUMAN_UPS\n",
      "YeastUPS1_04 didn't have three peptides for P10145ups|IL8_HUMAN_UPS\n",
      "YeastUPS1_04 didn't have three peptides for P51965ups|UB2E1_HUMAN_UPS\n",
      "YeastUPS1_04 didn't have three peptides for P61769ups|B2MG_HUMAN_UPS\n",
      "YeastUPS1_04 didn't have three peptides for P62937ups|PPIA_HUMAN_UPS\n",
      "YeastUPS1_04 didn't have three peptides for P62988ups|UBIQ_HUMAN_UPS\n",
      "YeastUPS1_04 didn't have three peptides for Q15843ups|NEDD8_HUMAN_UPS\n",
      "YeastUPS1_05 didn't have three peptides for P01031ups|CO5_HUMAN_UPS\n",
      "YeastUPS1_05 didn't have three peptides for P01127ups|PDGFB_HUMAN_UPS\n",
      "YeastUPS1_05 didn't have three peptides for P01133ups|EGF_HUMAN_UPS\n",
      "YeastUPS1_05 didn't have three peptides for P01344ups|IGF2_HUMAN_UPS\n",
      "YeastUPS1_05 didn't have three peptides for P01375ups|TNFA_HUMAN_UPS\n",
      "YeastUPS1_05 didn't have three peptides for P02753ups|RETBP_HUMAN_UPS\n",
      "YeastUPS1_05 didn't have three peptides for P08263ups|GSTA1_HUMAN_UPS\n",
      "YeastUPS1_05 didn't have three peptides for P10145ups|IL8_HUMAN_UPS\n",
      "YeastUPS1_05 didn't have three peptides for P15559ups|NQO1_HUMAN_UPS\n",
      "YeastUPS1_05 didn't have three peptides for P51965ups|UB2E1_HUMAN_UPS\n",
      "YeastUPS1_05 didn't have three peptides for P61769ups|B2MG_HUMAN_UPS\n",
      "YeastUPS1_05 didn't have three peptides for P63165ups|SUMO1_HUMAN_UPS\n",
      "YeastUPS1_05 didn't have three peptides for P63279ups|UBC9_HUMAN_UPS\n",
      "YeastUPS1_05 didn't have three peptides for Q15843ups|NEDD8_HUMAN_UPS\n",
      "YeastUPS1_06 didn't have three peptides for O00762ups|UBE2C_HUMAN_UPS\n",
      "YeastUPS1_06 didn't have three peptides for P01031ups|CO5_HUMAN_UPS\n",
      "YeastUPS1_06 didn't have three peptides for P01127ups|PDGFB_HUMAN_UPS\n",
      "YeastUPS1_06 didn't have three peptides for P01133ups|EGF_HUMAN_UPS\n",
      "YeastUPS1_06 didn't have three peptides for P01344ups|IGF2_HUMAN_UPS\n",
      "YeastUPS1_06 didn't have three peptides for P01375ups|TNFA_HUMAN_UPS\n",
      "YeastUPS1_06 didn't have three peptides for P01579ups|IFNG_HUMAN_UPS\n",
      "YeastUPS1_06 didn't have three peptides for P02753ups|RETBP_HUMAN_UPS\n",
      "YeastUPS1_06 didn't have three peptides for P08263ups|GSTA1_HUMAN_UPS\n",
      "YeastUPS1_06 didn't have three peptides for P10145ups|IL8_HUMAN_UPS\n",
      "YeastUPS1_06 didn't have three peptides for P10599ups|THIO_HUMAN_UPS\n",
      "YeastUPS1_06 didn't have three peptides for P51965ups|UB2E1_HUMAN_UPS\n",
      "YeastUPS1_06 didn't have three peptides for P61769ups|B2MG_HUMAN_UPS\n",
      "YeastUPS1_06 didn't have three peptides for P62937ups|PPIA_HUMAN_UPS\n",
      "YeastUPS1_06 didn't have three peptides for P62988ups|UBIQ_HUMAN_UPS\n",
      "YeastUPS1_06 didn't have three peptides for P63279ups|UBC9_HUMAN_UPS\n",
      "YeastUPS1_06 didn't have three peptides for Q15843ups|NEDD8_HUMAN_UPS\n",
      "YeastUPS1_07 didn't have three peptides for P00167ups|CYB5_HUMAN_UPS\n",
      "YeastUPS1_07 didn't have three peptides for P01127ups|PDGFB_HUMAN_UPS\n",
      "YeastUPS1_07 didn't have three peptides for P01133ups|EGF_HUMAN_UPS\n",
      "YeastUPS1_07 didn't have three peptides for P01344ups|IGF2_HUMAN_UPS\n",
      "YeastUPS1_07 didn't have three peptides for P01375ups|TNFA_HUMAN_UPS\n",
      "YeastUPS1_07 didn't have three peptides for P02753ups|RETBP_HUMAN_UPS\n",
      "YeastUPS1_07 didn't have three peptides for P08263ups|GSTA1_HUMAN_UPS\n",
      "YeastUPS1_07 didn't have three peptides for P10145ups|IL8_HUMAN_UPS\n",
      "YeastUPS1_07 didn't have three peptides for P10599ups|THIO_HUMAN_UPS\n",
      "YeastUPS1_07 didn't have three peptides for P15559ups|NQO1_HUMAN_UPS\n",
      "YeastUPS1_07 didn't have three peptides for P51965ups|UB2E1_HUMAN_UPS\n",
      "YeastUPS1_07 didn't have three peptides for P55957ups|BID_HUMAN_UPS\n",
      "YeastUPS1_07 didn't have three peptides for P61769ups|B2MG_HUMAN_UPS\n",
      "YeastUPS1_07 didn't have three peptides for P62937ups|PPIA_HUMAN_UPS\n",
      "YeastUPS1_07 didn't have three peptides for P63165ups|SUMO1_HUMAN_UPS\n",
      "YeastUPS1_07 didn't have three peptides for Q15843ups|NEDD8_HUMAN_UPS\n",
      "YeastUPS1_08 didn't have three peptides for P00167ups|CYB5_HUMAN_UPS\n",
      "YeastUPS1_08 didn't have three peptides for P01031ups|CO5_HUMAN_UPS\n",
      "YeastUPS1_08 didn't have three peptides for P01127ups|PDGFB_HUMAN_UPS\n",
      "YeastUPS1_08 didn't have three peptides for P01133ups|EGF_HUMAN_UPS\n",
      "YeastUPS1_08 didn't have three peptides for P01344ups|IGF2_HUMAN_UPS\n",
      "YeastUPS1_08 didn't have three peptides for P01375ups|TNFA_HUMAN_UPS\n",
      "YeastUPS1_08 didn't have three peptides for P01579ups|IFNG_HUMAN_UPS\n",
      "YeastUPS1_08 didn't have three peptides for P02753ups|RETBP_HUMAN_UPS\n",
      "YeastUPS1_08 didn't have three peptides for P08263ups|GSTA1_HUMAN_UPS\n",
      "YeastUPS1_08 didn't have three peptides for P10145ups|IL8_HUMAN_UPS\n",
      "YeastUPS1_08 didn't have three peptides for P10599ups|THIO_HUMAN_UPS\n",
      "YeastUPS1_08 didn't have three peptides for P51965ups|UB2E1_HUMAN_UPS\n",
      "YeastUPS1_08 didn't have three peptides for P61769ups|B2MG_HUMAN_UPS\n",
      "YeastUPS1_08 didn't have three peptides for P62937ups|PPIA_HUMAN_UPS\n",
      "YeastUPS1_08 didn't have three peptides for P63165ups|SUMO1_HUMAN_UPS\n",
      "YeastUPS1_08 didn't have three peptides for P63279ups|UBC9_HUMAN_UPS\n",
      "YeastUPS1_08 didn't have three peptides for Q15843ups|NEDD8_HUMAN_UPS\n",
      "YeastUPS1_09 didn't have three peptides for P00167ups|CYB5_HUMAN_UPS\n",
      "YeastUPS1_09 didn't have three peptides for P00709ups|LALBA_HUMAN_UPS\n",
      "YeastUPS1_09 didn't have three peptides for P01031ups|CO5_HUMAN_UPS\n",
      "YeastUPS1_09 didn't have three peptides for P01127ups|PDGFB_HUMAN_UPS\n",
      "YeastUPS1_09 didn't have three peptides for P01133ups|EGF_HUMAN_UPS\n",
      "YeastUPS1_09 didn't have three peptides for P01344ups|IGF2_HUMAN_UPS\n",
      "YeastUPS1_09 didn't have three peptides for P01375ups|TNFA_HUMAN_UPS\n",
      "YeastUPS1_09 didn't have three peptides for P01579ups|IFNG_HUMAN_UPS\n",
      "YeastUPS1_09 didn't have three peptides for P02753ups|RETBP_HUMAN_UPS\n"
     ]
    },
    {
     "name": "stdout",
     "output_type": "stream",
     "text": [
      "YeastUPS1_09 didn't have three peptides for P08263ups|GSTA1_HUMAN_UPS\n",
      "YeastUPS1_09 didn't have three peptides for P10145ups|IL8_HUMAN_UPS\n",
      "YeastUPS1_09 didn't have three peptides for P10599ups|THIO_HUMAN_UPS\n",
      "YeastUPS1_09 didn't have three peptides for P51965ups|UB2E1_HUMAN_UPS\n",
      "YeastUPS1_09 didn't have three peptides for P61626ups|LYSC_HUMAN_UPS\n",
      "YeastUPS1_09 didn't have three peptides for P61769ups|B2MG_HUMAN_UPS\n",
      "YeastUPS1_09 didn't have three peptides for P62937ups|PPIA_HUMAN_UPS\n",
      "YeastUPS1_09 didn't have three peptides for P62988ups|UBIQ_HUMAN_UPS\n",
      "YeastUPS1_09 didn't have three peptides for P69905ups|HBA_HUMAN_UPS\n",
      "YeastUPS1_09 didn't have three peptides for Q15843ups|NEDD8_HUMAN_UPS\n",
      "YeastUPS1_10 didn't have three peptides for O00762ups|UBE2C_HUMAN_UPS\n",
      "YeastUPS1_10 didn't have three peptides for P00167ups|CYB5_HUMAN_UPS\n",
      "YeastUPS1_10 didn't have three peptides for P01031ups|CO5_HUMAN_UPS\n",
      "YeastUPS1_10 didn't have three peptides for P01127ups|PDGFB_HUMAN_UPS\n",
      "YeastUPS1_10 didn't have three peptides for P01133ups|EGF_HUMAN_UPS\n",
      "YeastUPS1_10 didn't have three peptides for P01344ups|IGF2_HUMAN_UPS\n",
      "YeastUPS1_10 didn't have three peptides for P01375ups|TNFA_HUMAN_UPS\n",
      "YeastUPS1_10 didn't have three peptides for P01579ups|IFNG_HUMAN_UPS\n",
      "YeastUPS1_10 didn't have three peptides for P02753ups|RETBP_HUMAN_UPS\n",
      "YeastUPS1_10 didn't have three peptides for P10145ups|IL8_HUMAN_UPS\n",
      "YeastUPS1_10 didn't have three peptides for P10599ups|THIO_HUMAN_UPS\n",
      "YeastUPS1_10 didn't have three peptides for P51965ups|UB2E1_HUMAN_UPS\n",
      "YeastUPS1_10 didn't have three peptides for P55957ups|BID_HUMAN_UPS\n",
      "YeastUPS1_10 didn't have three peptides for P61769ups|B2MG_HUMAN_UPS\n",
      "YeastUPS1_10 didn't have three peptides for P63165ups|SUMO1_HUMAN_UPS\n",
      "YeastUPS1_10 didn't have three peptides for P63279ups|UBC9_HUMAN_UPS\n",
      "YeastUPS1_10 didn't have three peptides for P99999ups|CYC_HUMAN_UPS\n",
      "YeastUPS1_10 didn't have three peptides for Q15843ups|NEDD8_HUMAN_UPS\n"
     ]
    }
   ],
   "source": [
    "# find the three most intense peptides for each protein\n",
    "top3_l = []\n",
    "for group_name,group_df in ups1_mq_identifications_df.groupby(['short_run_name','protein id']):\n",
    "    short_run_name = group_name[0]\n",
    "    protein_name = group_name[1]\n",
    "    df = group_df.sort_values(by=['intensity'], ascending=False, inplace=False)\n",
    "    top3_df = df.head(n=3)\n",
    "    if len(top3_df) == 3:\n",
    "        uniprot_id = protein_name.split('ups')[0]\n",
    "        pmoles = ups1_d[uniprot_id] / 1000\n",
    "        average_intensity = top3_df.intensity.mean()\n",
    "        signal_response_factor = average_intensity / pmoles\n",
    "        peptide_count = len(df)\n",
    "        attribs_d = top3_df[['mq_index','sequence','charge','intensity']].to_dict('records')\n",
    "        top3_l.append({'short_run_name':short_run_name, 'protein':protein_name, 'pmoles':pmoles, 'average_intensity':average_intensity, 'signal_response_factor':signal_response_factor, 'peptide_count':peptide_count, 'attribs_d':attribs_d})\n",
    "    else:\n",
    "        print('{} didn\\'t have three peptides for {}'.format(short_run_name, protein_name))\n",
    "ups1_mq_top3_df = pd.DataFrame(top3_l)"
   ]
  },
  {
   "cell_type": "code",
   "execution_count": 41,
   "metadata": {},
   "outputs": [
    {
     "data": {
      "text/plain": [
       "37"
      ]
     },
     "execution_count": 41,
     "metadata": {},
     "output_type": "execute_result"
    }
   ],
   "source": [
    "len(ups1_mq_top3_df.protein.unique())"
   ]
  },
  {
   "cell_type": "code",
   "execution_count": 42,
   "metadata": {},
   "outputs": [
    {
     "data": {
      "text/plain": [
       "340686.6666666666"
      ]
     },
     "execution_count": 42,
     "metadata": {},
     "output_type": "execute_result"
    }
   ],
   "source": [
    "# using Serum albumin (P02768) as an internal reference\n",
    "universal_signal_response_factor = ups1_mq_top3_df[ups1_mq_top3_df.protein.str.startswith('P02768')].iloc[0].signal_response_factor\n",
    "universal_signal_response_factor"
   ]
  },
  {
   "cell_type": "code",
   "execution_count": 43,
   "metadata": {},
   "outputs": [],
   "source": [
    "ups1_mq_top3_df['calculated_pmoles'] = ups1_mq_top3_df.average_intensity / universal_signal_response_factor"
   ]
  },
  {
   "cell_type": "code",
   "execution_count": 44,
   "metadata": {},
   "outputs": [
    {
     "data": {
      "text/html": [
       "<div>\n",
       "<style scoped>\n",
       "    .dataframe tbody tr th:only-of-type {\n",
       "        vertical-align: middle;\n",
       "    }\n",
       "\n",
       "    .dataframe tbody tr th {\n",
       "        vertical-align: top;\n",
       "    }\n",
       "\n",
       "    .dataframe thead th {\n",
       "        text-align: right;\n",
       "    }\n",
       "</style>\n",
       "<table border=\"1\" class=\"dataframe\">\n",
       "  <thead>\n",
       "    <tr style=\"text-align: right;\">\n",
       "      <th></th>\n",
       "      <th>short_run_name</th>\n",
       "      <th>protein</th>\n",
       "      <th>pmoles</th>\n",
       "      <th>average_intensity</th>\n",
       "      <th>signal_response_factor</th>\n",
       "      <th>peptide_count</th>\n",
       "      <th>attribs_d</th>\n",
       "      <th>calculated_pmoles</th>\n",
       "    </tr>\n",
       "  </thead>\n",
       "  <tbody>\n",
       "    <tr>\n",
       "      <th>25</th>\n",
       "      <td>YeastUPS1_01</td>\n",
       "      <td>P41159ups|LEP_HUMAN_UPS</td>\n",
       "      <td>5.0</td>\n",
       "      <td>3.266000e+05</td>\n",
       "      <td>65320.000000</td>\n",
       "      <td>8</td>\n",
       "      <td>[{'mq_index': 14765, 'sequence': 'VTGLDFIPGLHP...</td>\n",
       "      <td>0.958652</td>\n",
       "    </tr>\n",
       "    <tr>\n",
       "      <th>11</th>\n",
       "      <td>YeastUPS1_01</td>\n",
       "      <td>P02753ups|RETBP_HUMAN_UPS</td>\n",
       "      <td>5.0</td>\n",
       "      <td>4.979500e+04</td>\n",
       "      <td>9959.000000</td>\n",
       "      <td>3</td>\n",
       "      <td>[{'mq_index': 2196, 'sequence': 'Q[-17.0265]RQ...</td>\n",
       "      <td>0.146161</td>\n",
       "    </tr>\n",
       "    <tr>\n",
       "      <th>2</th>\n",
       "      <td>YeastUPS1_01</td>\n",
       "      <td>P00441ups|SODC_HUMAN_UPS</td>\n",
       "      <td>5.0</td>\n",
       "      <td>1.330147e+06</td>\n",
       "      <td>266029.333333</td>\n",
       "      <td>9</td>\n",
       "      <td>[{'mq_index': 24416, 'sequence': 'HVGDLGNVTADK...</td>\n",
       "      <td>3.904311</td>\n",
       "    </tr>\n",
       "  </tbody>\n",
       "</table>\n",
       "</div>"
      ],
      "text/plain": [
       "   short_run_name                    protein  pmoles  average_intensity  \\\n",
       "25   YeastUPS1_01    P41159ups|LEP_HUMAN_UPS     5.0       3.266000e+05   \n",
       "11   YeastUPS1_01  P02753ups|RETBP_HUMAN_UPS     5.0       4.979500e+04   \n",
       "2    YeastUPS1_01   P00441ups|SODC_HUMAN_UPS     5.0       1.330147e+06   \n",
       "\n",
       "    signal_response_factor  peptide_count  \\\n",
       "25            65320.000000              8   \n",
       "11             9959.000000              3   \n",
       "2            266029.333333              9   \n",
       "\n",
       "                                            attribs_d  calculated_pmoles  \n",
       "25  [{'mq_index': 14765, 'sequence': 'VTGLDFIPGLHP...           0.958652  \n",
       "11  [{'mq_index': 2196, 'sequence': 'Q[-17.0265]RQ...           0.146161  \n",
       "2   [{'mq_index': 24416, 'sequence': 'HVGDLGNVTADK...           3.904311  "
      ]
     },
     "execution_count": 44,
     "metadata": {},
     "output_type": "execute_result"
    }
   ],
   "source": [
    "ups1_mq_top3_df.sample(n=3)"
   ]
  },
  {
   "cell_type": "code",
   "execution_count": 45,
   "metadata": {
    "scrolled": true
   },
   "outputs": [
    {
     "data": {
      "text/plain": [
       "1.0687503288531577"
      ]
     },
     "execution_count": 45,
     "metadata": {},
     "output_type": "execute_result"
    }
   ],
   "source": [
    "# calculate the CV for the signal response factor\n",
    "cv = ups1_mq_top3_df.signal_response_factor.std() / ups1_mq_top3_df.signal_response_factor.mean()\n",
    "cv"
   ]
  },
  {
   "cell_type": "markdown",
   "metadata": {},
   "source": [
    "#### calculate experiment intensity means for each protein"
   ]
  },
  {
   "cell_type": "code",
   "execution_count": 46,
   "metadata": {},
   "outputs": [],
   "source": [
    "experiment_means_l = []\n",
    "for group_name,group_df in ups1_mq_top3_df.groupby(['protein']):\n",
    "    if len(group_df.short_run_name.unique()) >= PROTEIN_APPEARS_IN_REPLICATES:\n",
    "        mean_intensity = group_df.average_intensity.mean()\n",
    "        experiment_means_l.append({'protein':group_name, 'mean_intensity':mean_intensity})\n",
    "experiment_UPS1_means_df = pd.DataFrame(experiment_means_l)"
   ]
  },
  {
   "cell_type": "code",
   "execution_count": 47,
   "metadata": {},
   "outputs": [
    {
     "data": {
      "text/plain": [
       "37"
      ]
     },
     "execution_count": 47,
     "metadata": {},
     "output_type": "execute_result"
    }
   ],
   "source": [
    "len(experiment_UPS1_means_df)"
   ]
  },
  {
   "cell_type": "markdown",
   "metadata": {},
   "source": [
    "### compare relative intensities of top-3 peptides for each protein found in common in UPS2 and UPS1"
   ]
  },
  {
   "cell_type": "code",
   "execution_count": 48,
   "metadata": {},
   "outputs": [],
   "source": [
    "ratios_df = pd.merge(experiment_UPS2_means_df[['protein','mean_intensity']], experiment_UPS1_means_df[['protein','mean_intensity']], how='inner', left_on=['protein'], right_on=['protein'], suffixes=['_UPS2','_UPS1'])\n"
   ]
  },
  {
   "cell_type": "code",
   "execution_count": 49,
   "metadata": {},
   "outputs": [],
   "source": [
    "ratios_df['ratio'] = ratios_df.mean_intensity_UPS2 / ratios_df.mean_intensity_UPS1"
   ]
  },
  {
   "cell_type": "code",
   "execution_count": 50,
   "metadata": {},
   "outputs": [],
   "source": [
    "ratios_df['expected_ratio'] = ratios_df.apply(lambda row: (ups2_d[row.protein.split('ups')[0]] / 1000) / 5.0, axis=1)\n",
    "ratios_df['protein_code'] = ratios_df.apply(lambda row: row.protein.split('ups')[0], axis=1)"
   ]
  },
  {
   "cell_type": "code",
   "execution_count": 51,
   "metadata": {},
   "outputs": [],
   "source": [
    "ratios_df.sort_values(by=['expected_ratio'], ascending=False, inplace=True)"
   ]
  },
  {
   "cell_type": "code",
   "execution_count": 52,
   "metadata": {},
   "outputs": [
    {
     "data": {
      "text/html": [
       "<div>\n",
       "<style scoped>\n",
       "    .dataframe tbody tr th:only-of-type {\n",
       "        vertical-align: middle;\n",
       "    }\n",
       "\n",
       "    .dataframe tbody tr th {\n",
       "        vertical-align: top;\n",
       "    }\n",
       "\n",
       "    .dataframe thead th {\n",
       "        text-align: right;\n",
       "    }\n",
       "</style>\n",
       "<table border=\"1\" class=\"dataframe\">\n",
       "  <thead>\n",
       "    <tr style=\"text-align: right;\">\n",
       "      <th></th>\n",
       "      <th>protein</th>\n",
       "      <th>mean_intensity_UPS2</th>\n",
       "      <th>mean_intensity_UPS1</th>\n",
       "      <th>ratio</th>\n",
       "      <th>expected_ratio</th>\n",
       "      <th>protein_code</th>\n",
       "    </tr>\n",
       "  </thead>\n",
       "  <tbody>\n",
       "    <tr>\n",
       "      <th>0</th>\n",
       "      <td>P00915ups|CAH1_HUMAN_UPS</td>\n",
       "      <td>1.968711e+06</td>\n",
       "      <td>192654.100000</td>\n",
       "      <td>10.218890</td>\n",
       "      <td>10.0</td>\n",
       "      <td>P00915</td>\n",
       "    </tr>\n",
       "    <tr>\n",
       "      <th>12</th>\n",
       "      <td>P69905ups|HBA_HUMAN_UPS</td>\n",
       "      <td>5.966357e+05</td>\n",
       "      <td>60399.619048</td>\n",
       "      <td>9.878136</td>\n",
       "      <td>10.0</td>\n",
       "      <td>P69905</td>\n",
       "    </tr>\n",
       "    <tr>\n",
       "      <th>6</th>\n",
       "      <td>P12081ups|SYHC_HUMAN_UPS</td>\n",
       "      <td>5.466253e+04</td>\n",
       "      <td>293238.800000</td>\n",
       "      <td>0.186410</td>\n",
       "      <td>0.1</td>\n",
       "      <td>P12081</td>\n",
       "    </tr>\n",
       "  </tbody>\n",
       "</table>\n",
       "</div>"
      ],
      "text/plain": [
       "                     protein  mean_intensity_UPS2  mean_intensity_UPS1  \\\n",
       "0   P00915ups|CAH1_HUMAN_UPS         1.968711e+06        192654.100000   \n",
       "12   P69905ups|HBA_HUMAN_UPS         5.966357e+05         60399.619048   \n",
       "6   P12081ups|SYHC_HUMAN_UPS         5.466253e+04        293238.800000   \n",
       "\n",
       "        ratio  expected_ratio protein_code  \n",
       "0   10.218890            10.0       P00915  \n",
       "12   9.878136            10.0       P69905  \n",
       "6    0.186410             0.1       P12081  "
      ]
     },
     "execution_count": 52,
     "metadata": {},
     "output_type": "execute_result"
    }
   ],
   "source": [
    "ratios_df.sample(n=3)"
   ]
  },
  {
   "cell_type": "code",
   "execution_count": 53,
   "metadata": {},
   "outputs": [
    {
     "data": {
      "text/plain": [
       "0.7526914929401805"
      ]
     },
     "execution_count": 53,
     "metadata": {},
     "output_type": "execute_result"
    }
   ],
   "source": [
    "ratios_df['ratio'].corr(ratios_df['expected_ratio'])"
   ]
  },
  {
   "cell_type": "code",
   "execution_count": 54,
   "metadata": {},
   "outputs": [
    {
     "data": {
      "text/plain": [
       "14"
      ]
     },
     "execution_count": 54,
     "metadata": {},
     "output_type": "execute_result"
    }
   ],
   "source": [
    "len(ratios_df)"
   ]
  },
  {
   "cell_type": "code",
   "execution_count": 55,
   "metadata": {},
   "outputs": [],
   "source": [
    "ratios_df.to_pickle('{}/mq_ratios_ups1_ups2.pkl'.format(expanduser('~')))"
   ]
  },
  {
   "cell_type": "code",
   "execution_count": 56,
   "metadata": {},
   "outputs": [
    {
     "data": {
      "image/png": "[encoded data removed]",
      "text/plain": [
       "<Figure size 1080x432 with 1 Axes>"
      ]
     },
     "metadata": {
      "needs_background": "light"
     },
     "output_type": "display_data"
    }
   ],
   "source": [
    "labels = ratios_df.protein_code\n",
    "mq_ratio = np.log10(ratios_df.ratio)\n",
    "expected_ratio = np.log10(ratios_df.expected_ratio)\n",
    "\n",
    "x = np.arange(len(labels))  # the label locations\n",
    "width = 0.2  # the width of the bars\n",
    "\n",
    "f, ax = plt.subplots()\n",
    "f.set_figheight(6)\n",
    "f.set_figwidth(15)\n",
    "\n",
    "plt.margins(0.06)\n",
    "plt.title('')\n",
    "\n",
    "rects1 = ax.bar(x, mq_ratio, width, label='MaxQuant ratio')\n",
    "rects2 = ax.bar(x + width, expected_ratio, width, label='expected ratio')\n",
    "\n",
    "# add text for labels, title and custom x-axis tick labels, etc.\n",
    "ax.set_ylabel('log10(UPS2/UPS1)')\n",
    "ax.set_title('ratio of protein intensity')\n",
    "ax.set_xticks(x)\n",
    "ax.set_xticklabels(labels, rotation=70, ha='right')\n",
    "ax.legend()\n",
    "\n",
    "# create offset transform (x=5pt)\n",
    "from matplotlib.transforms import ScaledTranslation\n",
    "dx, dy = 5, 0\n",
    "offset = ScaledTranslation(dx/f.dpi, dy/f.dpi, scale_trans=f.dpi_scale_trans)\n",
    "\n",
    "# apply offset transform to all xticklabels\n",
    "for label in ax.xaxis.get_majorticklabels():\n",
    "    label.set_transform(label.get_transform() + offset)\n",
    "    \n",
    "plt.show()"
   ]
  },
  {
   "cell_type": "markdown",
   "metadata": {},
   "source": [
    "### how many proteins does MaxQuant find with Andromeda"
   ]
  },
  {
   "cell_type": "code",
   "execution_count": 57,
   "metadata": {},
   "outputs": [],
   "source": [
    "MQ_ANALYSIS_DIR = '{}/MQ-analysis-of-P3830/combined/txt'.format(expanduser('~'))"
   ]
  },
  {
   "cell_type": "code",
   "execution_count": 58,
   "metadata": {},
   "outputs": [],
   "source": [
    "mq_results_df = pd.read_csv('{}/evidence.txt'.format(MQ_ANALYSIS_DIR), sep='\\\\t', engine='python')"
   ]
  },
  {
   "cell_type": "code",
   "execution_count": 59,
   "metadata": {},
   "outputs": [],
   "source": [
    "# remove decoys, which are indicated by a '+' in the Reverse column\n",
    "mq_results_df = mq_results_df[pd.isna(mq_results_df.Reverse)]\n",
    "# remove identifications with no intensity\n",
    "mq_results_df = mq_results_df[(mq_results_df.Intensity > 0)]\n",
    "# remove potential contaminants\n",
    "mq_results_df = mq_results_df[pd.isna(mq_results_df['Potential contaminant'])]\n",
    "# remove identifications with mass error more than +/- 5 ppm\n",
    "mq_results_df = mq_results_df[np.abs(mq_results_df['Mass error [ppm]']) <= 5.0]\n",
    "# remove yeast proteins\n",
    "mq_results_df = mq_results_df[(~mq_results_df['Proteins'].str.contains('YEAST'))]\n"
   ]
  },
  {
   "cell_type": "code",
   "execution_count": 60,
   "metadata": {},
   "outputs": [
    {
     "data": {
      "text/html": [
       "<div>\n",
       "<style scoped>\n",
       "    .dataframe tbody tr th:only-of-type {\n",
       "        vertical-align: middle;\n",
       "    }\n",
       "\n",
       "    .dataframe tbody tr th {\n",
       "        vertical-align: top;\n",
       "    }\n",
       "\n",
       "    .dataframe thead th {\n",
       "        text-align: right;\n",
       "    }\n",
       "</style>\n",
       "<table border=\"1\" class=\"dataframe\">\n",
       "  <thead>\n",
       "    <tr style=\"text-align: right;\">\n",
       "      <th></th>\n",
       "      <th>Proteins</th>\n",
       "      <th>Leading proteins</th>\n",
       "    </tr>\n",
       "  </thead>\n",
       "  <tbody>\n",
       "    <tr>\n",
       "      <th>72752</th>\n",
       "      <td>sp|P00918|CAH2_HUMAN</td>\n",
       "      <td>sp|P00918|CAH2_HUMAN</td>\n",
       "    </tr>\n",
       "    <tr>\n",
       "      <th>131006</th>\n",
       "      <td>sp|P0A6Y8|DNAK_ECOLI</td>\n",
       "      <td>sp|P0A6Y8|DNAK_ECOLI</td>\n",
       "    </tr>\n",
       "    <tr>\n",
       "      <th>35066</th>\n",
       "      <td>sp|P00167|CYB5_HUMAN</td>\n",
       "      <td>sp|P00167|CYB5_HUMAN</td>\n",
       "    </tr>\n",
       "    <tr>\n",
       "      <th>35909</th>\n",
       "      <td>sp|P06732|KCRM_HUMAN</td>\n",
       "      <td>sp|P06732|KCRM_HUMAN</td>\n",
       "    </tr>\n",
       "    <tr>\n",
       "      <th>174741</th>\n",
       "      <td>sp|P41159|LEP_HUMAN</td>\n",
       "      <td>sp|P41159|LEP_HUMAN</td>\n",
       "    </tr>\n",
       "    <tr>\n",
       "      <th>131329</th>\n",
       "      <td>sp|P46781|RS9_HUMAN</td>\n",
       "      <td>sp|P46781|RS9_HUMAN</td>\n",
       "    </tr>\n",
       "    <tr>\n",
       "      <th>121232</th>\n",
       "      <td>sp|P60955|LGT_ECOLI</td>\n",
       "      <td>sp|P60955|LGT_ECOLI</td>\n",
       "    </tr>\n",
       "    <tr>\n",
       "      <th>115689</th>\n",
       "      <td>sp|P01133|EGF_HUMAN</td>\n",
       "      <td>sp|P01133|EGF_HUMAN</td>\n",
       "    </tr>\n",
       "    <tr>\n",
       "      <th>97490</th>\n",
       "      <td>sp|P00918|CAH2_HUMAN</td>\n",
       "      <td>sp|P00918|CAH2_HUMAN</td>\n",
       "    </tr>\n",
       "    <tr>\n",
       "      <th>4693</th>\n",
       "      <td>sp|P02787|TRFE_HUMAN</td>\n",
       "      <td>sp|P02787|TRFE_HUMAN</td>\n",
       "    </tr>\n",
       "  </tbody>\n",
       "</table>\n",
       "</div>"
      ],
      "text/plain": [
       "                    Proteins      Leading proteins\n",
       "72752   sp|P00918|CAH2_HUMAN  sp|P00918|CAH2_HUMAN\n",
       "131006  sp|P0A6Y8|DNAK_ECOLI  sp|P0A6Y8|DNAK_ECOLI\n",
       "35066   sp|P00167|CYB5_HUMAN  sp|P00167|CYB5_HUMAN\n",
       "35909   sp|P06732|KCRM_HUMAN  sp|P06732|KCRM_HUMAN\n",
       "174741   sp|P41159|LEP_HUMAN   sp|P41159|LEP_HUMAN\n",
       "131329   sp|P46781|RS9_HUMAN   sp|P46781|RS9_HUMAN\n",
       "121232   sp|P60955|LGT_ECOLI   sp|P60955|LGT_ECOLI\n",
       "115689   sp|P01133|EGF_HUMAN   sp|P01133|EGF_HUMAN\n",
       "97490   sp|P00918|CAH2_HUMAN  sp|P00918|CAH2_HUMAN\n",
       "4693    sp|P02787|TRFE_HUMAN  sp|P02787|TRFE_HUMAN"
      ]
     },
     "execution_count": 60,
     "metadata": {},
     "output_type": "execute_result"
    }
   ],
   "source": [
    "mq_results_df.sample(n=10)[['Proteins','Leading proteins']]"
   ]
  },
  {
   "cell_type": "code",
   "execution_count": 61,
   "metadata": {},
   "outputs": [],
   "source": [
    "# definition of uniqueness in MaxQuant output with MBR on\n",
    "proteins_l = []\n",
    "unique_peptide_key = ['Sequence','Modifications','Charge']\n",
    "for group_name,group_df in mq_results_df.groupby(unique_peptide_key):\n",
    "    protein = group_df.iloc[0]['Leading proteins']\n",
    "    if len(group_df['Leading proteins'].unique()) > 1:\n",
    "        print('more than one protein')\n",
    "    proteins_l.append({'peptide':group_name, 'protein':protein})\n",
    "mq_proteins_df = pd.DataFrame(proteins_l)"
   ]
  },
  {
   "cell_type": "code",
   "execution_count": 62,
   "metadata": {},
   "outputs": [
    {
     "name": "stdout",
     "output_type": "stream",
     "text": [
      "number of unique proteins: 85\n"
     ]
    }
   ],
   "source": [
    "print('number of unique proteins: {}'.format(len(mq_proteins_df.protein.unique())))"
   ]
  },
  {
   "cell_type": "code",
   "execution_count": null,
   "metadata": {},
   "outputs": [],
   "source": []
  }
 ],
 "metadata": {
  "kernelspec": {
   "display_name": "Python 3",
   "language": "python",
   "name": "python3"
  },
  "language_info": {
   "codemirror_mode": {
    "name": "ipython",
    "version": 3
   },
   "file_extension": ".py",
   "mimetype": "text/x-python",
   "name": "python",
   "nbconvert_exporter": "python",
   "pygments_lexer": "ipython3",
   "version": "3.8.5"
  }
 },
 "nbformat": 4,
 "nbformat_minor": 4
}
