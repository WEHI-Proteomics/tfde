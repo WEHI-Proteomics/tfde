{
 "cells": [
  {
   "cell_type": "code",
   "execution_count": 1,
   "metadata": {},
   "outputs": [],
   "source": [
    "import pandas as pd\n",
    "import numpy as np\n",
    "import os\n",
    "import matplotlib.pyplot as plt\n",
    "import seaborn as sns\n",
    "import json\n",
    "from os.path import expanduser"
   ]
  },
  {
   "cell_type": "code",
   "execution_count": 2,
   "metadata": {},
   "outputs": [],
   "source": [
    "experiment_name = 'P3830'\n",
    "feature_detection_method = 'pasef'"
   ]
  },
  {
   "cell_type": "code",
   "execution_count": 3,
   "metadata": {},
   "outputs": [],
   "source": [
    "MAXIMUM_Q_VALUE = 0.01"
   ]
  },
  {
   "cell_type": "code",
   "execution_count": 4,
   "metadata": {},
   "outputs": [],
   "source": [
    "PROTEIN_APPEARS_IN_REPLICATES = 1"
   ]
  },
  {
   "cell_type": "code",
   "execution_count": 5,
   "metadata": {},
   "outputs": [],
   "source": [
    "BASE_RESULTS_DIR = '/media/big-ssd'\n",
    "# BASE_RESULTS_DIR = '/Users/darylwilding-mcbride/Downloads'.format(experiment_name)"
   ]
  },
  {
   "cell_type": "markdown",
   "metadata": {},
   "source": [
    "### analyse UPS2"
   ]
  },
  {
   "cell_type": "markdown",
   "metadata": {},
   "source": [
    "#### identifications with correction for saturation"
   ]
  },
  {
   "cell_type": "code",
   "execution_count": 6,
   "metadata": {},
   "outputs": [],
   "source": [
    "IDENTIFICATIONS_WITH_CS_DIR = '/media/data-4t-a/results-P3830_YUPS2/2021-10-11-12-21-21/identifications-pasef'\n",
    "IDENTIFICATIONS_WITH_CS_FILE = '{}/exp-P3830_YUPS2-identifications-pasef-recalibrated.feather'.format(IDENTIFICATIONS_WITH_CS_DIR)"
   ]
  },
  {
   "cell_type": "code",
   "execution_count": 7,
   "metadata": {},
   "outputs": [],
   "source": [
    "# load the identifications\n",
    "identifications_with_cs_df = pd.read_feather(IDENTIFICATIONS_WITH_CS_FILE)\n",
    "identifications_with_cs_df = identifications_with_cs_df[(identifications_with_cs_df['percolator q-value'] <= MAXIMUM_Q_VALUE) & (~identifications_with_cs_df['protein id'].str.contains('YEAST'))]\n",
    "identifications_with_cs_df['short_run_name'] = identifications_with_cs_df.apply(lambda row: '_'.join(row.run_name.split('_Slot')[0].split('_')[1:]), axis=1)\n",
    "identifications_with_cs_df['protein id'] = identifications_with_cs_df.apply(lambda row: row['protein id'].split(',')[0], axis=1)"
   ]
  },
  {
   "cell_type": "code",
   "execution_count": 8,
   "metadata": {},
   "outputs": [
    {
     "data": {
      "text/html": [
       "<div>\n",
       "<style scoped>\n",
       "    .dataframe tbody tr th:only-of-type {\n",
       "        vertical-align: middle;\n",
       "    }\n",
       "\n",
       "    .dataframe tbody tr th {\n",
       "        vertical-align: top;\n",
       "    }\n",
       "\n",
       "    .dataframe thead th {\n",
       "        text-align: right;\n",
       "    }\n",
       "</style>\n",
       "<table border=\"1\" class=\"dataframe\">\n",
       "  <thead>\n",
       "    <tr style=\"text-align: right;\">\n",
       "      <th></th>\n",
       "      <th>counts</th>\n",
       "      <th>%</th>\n",
       "    </tr>\n",
       "  </thead>\n",
       "  <tbody>\n",
       "    <tr>\n",
       "      <th>monoisotopic_not_saturated</th>\n",
       "      <td>2517</td>\n",
       "      <td>82.0</td>\n",
       "    </tr>\n",
       "    <tr>\n",
       "      <th>monoisotopic_saturated_adjusted</th>\n",
       "      <td>542</td>\n",
       "      <td>17.7</td>\n",
       "    </tr>\n",
       "    <tr>\n",
       "      <th>no_nonsaturated_isotopes</th>\n",
       "      <td>11</td>\n",
       "      <td>0.4</td>\n",
       "    </tr>\n",
       "  </tbody>\n",
       "</table>\n",
       "</div>"
      ],
      "text/plain": [
       "                                 counts     %\n",
       "monoisotopic_not_saturated         2517  82.0\n",
       "monoisotopic_saturated_adjusted     542  17.7\n",
       "no_nonsaturated_isotopes             11   0.4"
      ]
     },
     "execution_count": 8,
     "metadata": {},
     "output_type": "execute_result"
    }
   ],
   "source": [
    "s1 = identifications_with_cs_df.mono_intensity_adjustment_outcome.value_counts(normalize=False).rename('counts', inplace=True)\n",
    "s2 = round(identifications_with_cs_df.mono_intensity_adjustment_outcome.value_counts(normalize=True)*100,1).rename('%', inplace=True)\n",
    "pd.concat([s1, s2], axis=1)"
   ]
  },
  {
   "cell_type": "code",
   "execution_count": 9,
   "metadata": {},
   "outputs": [
    {
     "name": "stdout",
     "output_type": "stream",
     "text": [
      "number of unique proteins: 23\n"
     ]
    }
   ],
   "source": [
    "print('number of unique proteins: {}'.format(len(identifications_with_cs_df['protein id'].unique())))"
   ]
  },
  {
   "cell_type": "markdown",
   "metadata": {},
   "source": [
    "#### identifications without correction for saturation"
   ]
  },
  {
   "cell_type": "code",
   "execution_count": 10,
   "metadata": {},
   "outputs": [],
   "source": [
    "IDENTIFICATIONS_WITHOUT_CS_DIR = '/media/data-4t-a/results-P3830_YUPS2/2021-10-14-15-43-30/identifications-pasef'\n",
    "IDENTIFICATIONS_WITHOUT_CS_FILE = '{}/exp-P3830_YUPS2-identifications-pasef-recalibrated.feather'.format(IDENTIFICATIONS_WITHOUT_CS_DIR)"
   ]
  },
  {
   "cell_type": "code",
   "execution_count": 11,
   "metadata": {},
   "outputs": [],
   "source": [
    "# load the identifications\n",
    "identifications_without_cs_df = pd.read_feather(IDENTIFICATIONS_WITHOUT_CS_FILE)\n",
    "identifications_without_cs_df = identifications_without_cs_df[(identifications_without_cs_df['percolator q-value'] <= MAXIMUM_Q_VALUE) & (~identifications_without_cs_df['protein id'].str.contains('YEAST'))]\n",
    "identifications_without_cs_df['short_run_name'] = identifications_without_cs_df.apply(lambda row: '_'.join(row.run_name.split('_Slot')[0].split('_')[1:]), axis=1)\n",
    "identifications_without_cs_df['protein id'] = identifications_without_cs_df.apply(lambda row: row['protein id'].split(',')[0], axis=1)"
   ]
  },
  {
   "cell_type": "code",
   "execution_count": 12,
   "metadata": {},
   "outputs": [
    {
     "name": "stdout",
     "output_type": "stream",
     "text": [
      "number of unique proteins: 23\n"
     ]
    }
   ],
   "source": [
    "print('number of unique proteins: {}'.format(len(identifications_without_cs_df['protein id'].unique())))"
   ]
  },
  {
   "cell_type": "markdown",
   "metadata": {},
   "source": [
    "#### using the Top3 approach to determine protein quantification"
   ]
  },
  {
   "cell_type": "code",
   "execution_count": 13,
   "metadata": {},
   "outputs": [],
   "source": [
    "ups2_proteins_l = []\n",
    "\n",
    "ups2_proteins_l.append({'uniprot':'P00915', 'fmoles':50000})\n",
    "ups2_proteins_l.append({'uniprot':'P00918', 'fmoles':50000})\n",
    "ups2_proteins_l.append({'uniprot':'P01031', 'fmoles':50000})\n",
    "ups2_proteins_l.append({'uniprot':'P69905', 'fmoles':50000})\n",
    "ups2_proteins_l.append({'uniprot':'P68871', 'fmoles':50000})\n",
    "ups2_proteins_l.append({'uniprot':'P41159', 'fmoles':50000})\n",
    "ups2_proteins_l.append({'uniprot':'P02768', 'fmoles':50000})\n",
    "ups2_proteins_l.append({'uniprot':'P62988', 'fmoles':50000})\n",
    "\n",
    "ups2_proteins_l.append({'uniprot':'P04040', 'fmoles':5000})\n",
    "ups2_proteins_l.append({'uniprot':'P00167', 'fmoles':5000})\n",
    "ups2_proteins_l.append({'uniprot':'P01133', 'fmoles':5000})\n",
    "ups2_proteins_l.append({'uniprot':'P02144', 'fmoles':5000})\n",
    "ups2_proteins_l.append({'uniprot':'P15559', 'fmoles':5000})\n",
    "ups2_proteins_l.append({'uniprot':'P62937', 'fmoles':5000})\n",
    "ups2_proteins_l.append({'uniprot':'Q06830', 'fmoles':5000})\n",
    "ups2_proteins_l.append({'uniprot':'P63165', 'fmoles':5000})\n",
    "\n",
    "ups2_proteins_l.append({'uniprot':'P00709', 'fmoles':500})\n",
    "ups2_proteins_l.append({'uniprot':'P06732', 'fmoles':500})\n",
    "ups2_proteins_l.append({'uniprot':'P12081', 'fmoles':500})\n",
    "ups2_proteins_l.append({'uniprot':'P61626', 'fmoles':500})\n",
    "ups2_proteins_l.append({'uniprot':'Q15843', 'fmoles':500})\n",
    "ups2_proteins_l.append({'uniprot':'P02753', 'fmoles':500})\n",
    "ups2_proteins_l.append({'uniprot':'P16083', 'fmoles':500})\n",
    "ups2_proteins_l.append({'uniprot':'P63279', 'fmoles':500})\n",
    "\n",
    "ups2_proteins_l.append({'uniprot':'P01008', 'fmoles':50})\n",
    "ups2_proteins_l.append({'uniprot':'P61769', 'fmoles':50})\n",
    "ups2_proteins_l.append({'uniprot':'P55957', 'fmoles':50})\n",
    "ups2_proteins_l.append({'uniprot':'O76070', 'fmoles':50})\n",
    "ups2_proteins_l.append({'uniprot':'P08263', 'fmoles':50})\n",
    "ups2_proteins_l.append({'uniprot':'P01344', 'fmoles':50})\n",
    "ups2_proteins_l.append({'uniprot':'P01127', 'fmoles':50})\n",
    "ups2_proteins_l.append({'uniprot':'P10599', 'fmoles':50})\n",
    "\n",
    "ups2_proteins_l.append({'uniprot':'P99999', 'fmoles':5})\n",
    "ups2_proteins_l.append({'uniprot':'P06396', 'fmoles':5})\n",
    "ups2_proteins_l.append({'uniprot':'P09211', 'fmoles':5})\n",
    "ups2_proteins_l.append({'uniprot':'P01112', 'fmoles':5})\n",
    "ups2_proteins_l.append({'uniprot':'P01579', 'fmoles':5})\n",
    "ups2_proteins_l.append({'uniprot':'P02787', 'fmoles':5})\n",
    "ups2_proteins_l.append({'uniprot':'O00762', 'fmoles':5})\n",
    "ups2_proteins_l.append({'uniprot':'P51965', 'fmoles':5})\n",
    "\n",
    "ups2_proteins_l.append({'uniprot':'P08758', 'fmoles':0.5})\n",
    "ups2_proteins_l.append({'uniprot':'P02741', 'fmoles':0.5})\n",
    "ups2_proteins_l.append({'uniprot':'P05413', 'fmoles':0.5})\n",
    "ups2_proteins_l.append({'uniprot':'P10145', 'fmoles':0.5})\n",
    "ups2_proteins_l.append({'uniprot':'P02788', 'fmoles':0.5})\n",
    "ups2_proteins_l.append({'uniprot':'P10636-8', 'fmoles':0.5})\n",
    "ups2_proteins_l.append({'uniprot':'P00441', 'fmoles':0.5})\n",
    "ups2_proteins_l.append({'uniprot':'P01375', 'fmoles':0.5})\n",
    "\n",
    "ups2_d = {}\n",
    "for p in ups2_proteins_l:\n",
    "    ups2_d[p['uniprot']] = p['fmoles']"
   ]
  },
  {
   "cell_type": "markdown",
   "metadata": {},
   "source": [
    "#### with correction"
   ]
  },
  {
   "cell_type": "code",
   "execution_count": 14,
   "metadata": {},
   "outputs": [
    {
     "data": {
      "text/plain": [
       "array(['P02768ups|ALBU_HUMAN_UPS', 'P00915ups|CAH1_HUMAN_UPS',\n",
       "       'P00918ups|CAH2_HUMAN_UPS', 'P68871ups|HBB_HUMAN_UPS',\n",
       "       'P41159ups|LEP_HUMAN_UPS', 'P69905ups|HBA_HUMAN_UPS',\n",
       "       'P01031ups|CO5_HUMAN_UPS', 'P62988ups|UBIQ_HUMAN_UPS',\n",
       "       'Q06830ups|PRDX1_HUMAN_UPS', 'P04040ups|CATA_HUMAN_UPS',\n",
       "       'P02144ups|MYG_HUMAN_UPS', 'P00167ups|CYB5_HUMAN_UPS',\n",
       "       'P12081ups|SYHC_HUMAN_UPS', 'P62937ups|PPIA_HUMAN_UPS',\n",
       "       'P15559ups|NQO1_HUMAN_UPS', 'P06732ups|KCRM_HUMAN_UPS',\n",
       "       'P00709ups|LALBA_HUMAN_UPS', 'P63165ups|SUMO1_HUMAN_UPS',\n",
       "       'P01133ups|EGF_HUMAN_UPS', 'Q15843ups|NEDD8_HUMAN_UPS',\n",
       "       'P02753ups|RETBP_HUMAN_UPS', 'P16083ups|NQO2_HUMAN_UPS',\n",
       "       'P06396ups|GELS_HUMAN_UPS'], dtype=object)"
      ]
     },
     "execution_count": 14,
     "metadata": {},
     "output_type": "execute_result"
    }
   ],
   "source": [
    "identifications_with_cs_df['protein id'].unique()"
   ]
  },
  {
   "cell_type": "code",
   "execution_count": 15,
   "metadata": {},
   "outputs": [
    {
     "name": "stdout",
     "output_type": "stream",
     "text": [
      "YeastUPS2_01 didn't have three peptides for P00167ups|CYB5_HUMAN_UPS\n",
      "YeastUPS2_01 didn't have three peptides for P00709ups|LALBA_HUMAN_UPS\n",
      "YeastUPS2_01 didn't have three peptides for P06732ups|KCRM_HUMAN_UPS\n",
      "YeastUPS2_01 didn't have three peptides for P15559ups|NQO1_HUMAN_UPS\n",
      "YeastUPS2_01 didn't have three peptides for P62988ups|UBIQ_HUMAN_UPS\n",
      "YeastUPS2_02 didn't have three peptides for P00709ups|LALBA_HUMAN_UPS\n",
      "YeastUPS2_02 didn't have three peptides for P01133ups|EGF_HUMAN_UPS\n",
      "YeastUPS2_02 didn't have three peptides for P06732ups|KCRM_HUMAN_UPS\n",
      "YeastUPS2_02 didn't have three peptides for P62988ups|UBIQ_HUMAN_UPS\n",
      "YeastUPS2_02 didn't have three peptides for Q15843ups|NEDD8_HUMAN_UPS\n",
      "YeastUPS2_03 didn't have three peptides for P00709ups|LALBA_HUMAN_UPS\n",
      "YeastUPS2_03 didn't have three peptides for P06732ups|KCRM_HUMAN_UPS\n",
      "YeastUPS2_03 didn't have three peptides for P12081ups|SYHC_HUMAN_UPS\n",
      "YeastUPS2_03 didn't have three peptides for P16083ups|NQO2_HUMAN_UPS\n",
      "YeastUPS2_03 didn't have three peptides for P62988ups|UBIQ_HUMAN_UPS\n",
      "YeastUPS2_03 didn't have three peptides for Q15843ups|NEDD8_HUMAN_UPS\n",
      "YeastUPS2_04 didn't have three peptides for P00709ups|LALBA_HUMAN_UPS\n",
      "YeastUPS2_04 didn't have three peptides for P06732ups|KCRM_HUMAN_UPS\n",
      "YeastUPS2_05 didn't have three peptides for P00709ups|LALBA_HUMAN_UPS\n",
      "YeastUPS2_05 didn't have three peptides for P01133ups|EGF_HUMAN_UPS\n",
      "YeastUPS2_05 didn't have three peptides for P06732ups|KCRM_HUMAN_UPS\n",
      "YeastUPS2_05 didn't have three peptides for P12081ups|SYHC_HUMAN_UPS\n",
      "YeastUPS2_05 didn't have three peptides for P16083ups|NQO2_HUMAN_UPS\n",
      "YeastUPS2_05 didn't have three peptides for Q15843ups|NEDD8_HUMAN_UPS\n",
      "YeastUPS2_06 didn't have three peptides for P00709ups|LALBA_HUMAN_UPS\n",
      "YeastUPS2_06 didn't have three peptides for P01133ups|EGF_HUMAN_UPS\n",
      "YeastUPS2_06 didn't have three peptides for P02753ups|RETBP_HUMAN_UPS\n",
      "YeastUPS2_06 didn't have three peptides for P06396ups|GELS_HUMAN_UPS\n",
      "YeastUPS2_06 didn't have three peptides for P06732ups|KCRM_HUMAN_UPS\n",
      "YeastUPS2_06 didn't have three peptides for P12081ups|SYHC_HUMAN_UPS\n",
      "YeastUPS2_06 didn't have three peptides for P62988ups|UBIQ_HUMAN_UPS\n",
      "YeastUPS2_06 didn't have three peptides for Q15843ups|NEDD8_HUMAN_UPS\n",
      "YeastUPS2_07 didn't have three peptides for P00709ups|LALBA_HUMAN_UPS\n",
      "YeastUPS2_07 didn't have three peptides for P01133ups|EGF_HUMAN_UPS\n",
      "YeastUPS2_07 didn't have three peptides for P02753ups|RETBP_HUMAN_UPS\n",
      "YeastUPS2_07 didn't have three peptides for P06732ups|KCRM_HUMAN_UPS\n",
      "YeastUPS2_07 didn't have three peptides for P12081ups|SYHC_HUMAN_UPS\n",
      "YeastUPS2_07 didn't have three peptides for Q15843ups|NEDD8_HUMAN_UPS\n",
      "YeastUPS2_08 didn't have three peptides for P00709ups|LALBA_HUMAN_UPS\n",
      "YeastUPS2_08 didn't have three peptides for P01133ups|EGF_HUMAN_UPS\n",
      "YeastUPS2_08 didn't have three peptides for P02753ups|RETBP_HUMAN_UPS\n",
      "YeastUPS2_08 didn't have three peptides for P15559ups|NQO1_HUMAN_UPS\n",
      "YeastUPS2_08 didn't have three peptides for P62988ups|UBIQ_HUMAN_UPS\n",
      "YeastUPS2_08 didn't have three peptides for Q15843ups|NEDD8_HUMAN_UPS\n",
      "YeastUPS2_09 didn't have three peptides for P00709ups|LALBA_HUMAN_UPS\n",
      "YeastUPS2_09 didn't have three peptides for P01133ups|EGF_HUMAN_UPS\n",
      "YeastUPS2_09 didn't have three peptides for P02753ups|RETBP_HUMAN_UPS\n",
      "YeastUPS2_09 didn't have three peptides for P06732ups|KCRM_HUMAN_UPS\n",
      "YeastUPS2_09 didn't have three peptides for P12081ups|SYHC_HUMAN_UPS\n",
      "YeastUPS2_09 didn't have three peptides for Q15843ups|NEDD8_HUMAN_UPS\n",
      "YeastUPS2_10 didn't have three peptides for P00167ups|CYB5_HUMAN_UPS\n",
      "YeastUPS2_10 didn't have three peptides for P00709ups|LALBA_HUMAN_UPS\n",
      "YeastUPS2_10 didn't have three peptides for P06732ups|KCRM_HUMAN_UPS\n",
      "YeastUPS2_10 didn't have three peptides for P12081ups|SYHC_HUMAN_UPS\n",
      "YeastUPS2_10 didn't have three peptides for P15559ups|NQO1_HUMAN_UPS\n",
      "YeastUPS2_10 didn't have three peptides for Q15843ups|NEDD8_HUMAN_UPS\n"
     ]
    }
   ],
   "source": [
    "# find the three most intense peptides for each protein\n",
    "top3_l = []\n",
    "for group_name,group_df in identifications_with_cs_df.groupby(['short_run_name','protein id']):\n",
    "    short_run_name = group_name[0]\n",
    "    protein_name = group_name[1]\n",
    "    df = group_df.sort_values(by=['feature_intensity'], ascending=False, inplace=False)\n",
    "    top3_df = df.head(n=3)\n",
    "    if len(top3_df) == 3:\n",
    "        uniprot_id = protein_name.split('ups')[0]\n",
    "        pmoles = ups2_d[uniprot_id] / 1000\n",
    "        average_intensity = top3_df.feature_intensity.mean()\n",
    "        signal_response_factor = average_intensity / pmoles\n",
    "        peptide_count = len(df)\n",
    "        intensity_adjusted = 'monoisotopic_saturated_adjusted' in list(top3_df.mono_intensity_adjustment_outcome)\n",
    "        attribs_d = top3_df[['feature_id','sequence','charge','feature_intensity']].to_dict('records')\n",
    "        top3_l.append({'short_run_name':short_run_name, 'protein':protein_name, 'pmoles':pmoles, 'average_intensity':average_intensity, 'signal_response_factor':signal_response_factor, 'peptide_count':peptide_count, 'intensity_adjusted':intensity_adjusted, 'attribs_d':attribs_d})\n",
    "    else:\n",
    "        print('{} didn\\'t have three peptides for {}'.format(short_run_name, protein_name))\n",
    "top3_with_df = pd.DataFrame(top3_l)"
   ]
  },
  {
   "cell_type": "code",
   "execution_count": 16,
   "metadata": {},
   "outputs": [
    {
     "data": {
      "text/html": [
       "<div>\n",
       "<style scoped>\n",
       "    .dataframe tbody tr th:only-of-type {\n",
       "        vertical-align: middle;\n",
       "    }\n",
       "\n",
       "    .dataframe tbody tr th {\n",
       "        vertical-align: top;\n",
       "    }\n",
       "\n",
       "    .dataframe thead th {\n",
       "        text-align: right;\n",
       "    }\n",
       "</style>\n",
       "<table border=\"1\" class=\"dataframe\">\n",
       "  <thead>\n",
       "    <tr style=\"text-align: right;\">\n",
       "      <th></th>\n",
       "      <th>short_run_name</th>\n",
       "      <th>protein</th>\n",
       "      <th>pmoles</th>\n",
       "      <th>average_intensity</th>\n",
       "      <th>signal_response_factor</th>\n",
       "      <th>peptide_count</th>\n",
       "      <th>intensity_adjusted</th>\n",
       "      <th>attribs_d</th>\n",
       "    </tr>\n",
       "  </thead>\n",
       "  <tbody>\n",
       "    <tr>\n",
       "      <th>0</th>\n",
       "      <td>YeastUPS2_01</td>\n",
       "      <td>P00915ups|CAH1_HUMAN_UPS</td>\n",
       "      <td>50.0</td>\n",
       "      <td>51585.000000</td>\n",
       "      <td>1031.700000</td>\n",
       "      <td>20</td>\n",
       "      <td>True</td>\n",
       "      <td>[{'feature_id': 829701, 'sequence': 'HDTSLKPIS...</td>\n",
       "    </tr>\n",
       "    <tr>\n",
       "      <th>1</th>\n",
       "      <td>YeastUPS2_01</td>\n",
       "      <td>P00918ups|CAH2_HUMAN_UPS</td>\n",
       "      <td>50.0</td>\n",
       "      <td>50821.333333</td>\n",
       "      <td>1016.426667</td>\n",
       "      <td>18</td>\n",
       "      <td>True</td>\n",
       "      <td>[{'feature_id': 2161501, 'sequence': 'YDPSLKPL...</td>\n",
       "    </tr>\n",
       "    <tr>\n",
       "      <th>2</th>\n",
       "      <td>YeastUPS2_01</td>\n",
       "      <td>P01031ups|CO5_HUMAN_UPS</td>\n",
       "      <td>50.0</td>\n",
       "      <td>38016.333333</td>\n",
       "      <td>760.326667</td>\n",
       "      <td>4</td>\n",
       "      <td>True</td>\n",
       "      <td>[{'feature_id': 613701, 'sequence': 'CCYDGACVN...</td>\n",
       "    </tr>\n",
       "    <tr>\n",
       "      <th>3</th>\n",
       "      <td>YeastUPS2_01</td>\n",
       "      <td>P02144ups|MYG_HUMAN_UPS</td>\n",
       "      <td>5.0</td>\n",
       "      <td>6117.333333</td>\n",
       "      <td>1223.466667</td>\n",
       "      <td>6</td>\n",
       "      <td>False</td>\n",
       "      <td>[{'feature_id': 1141101, 'sequence': 'VEADIPGH...</td>\n",
       "    </tr>\n",
       "    <tr>\n",
       "      <th>4</th>\n",
       "      <td>YeastUPS2_01</td>\n",
       "      <td>P02768ups|ALBU_HUMAN_UPS</td>\n",
       "      <td>50.0</td>\n",
       "      <td>115886.000000</td>\n",
       "      <td>2317.720000</td>\n",
       "      <td>141</td>\n",
       "      <td>True</td>\n",
       "      <td>[{'feature_id': 4736101, 'sequence': 'MPCAEDYL...</td>\n",
       "    </tr>\n",
       "    <tr>\n",
       "      <th>...</th>\n",
       "      <td>...</td>\n",
       "      <td>...</td>\n",
       "      <td>...</td>\n",
       "      <td>...</td>\n",
       "      <td>...</td>\n",
       "      <td>...</td>\n",
       "      <td>...</td>\n",
       "      <td>...</td>\n",
       "    </tr>\n",
       "    <tr>\n",
       "      <th>140</th>\n",
       "      <td>YeastUPS2_10</td>\n",
       "      <td>P62988ups|UBIQ_HUMAN_UPS</td>\n",
       "      <td>50.0</td>\n",
       "      <td>18820.666667</td>\n",
       "      <td>376.413333</td>\n",
       "      <td>3</td>\n",
       "      <td>True</td>\n",
       "      <td>[{'feature_id': 2414101, 'sequence': 'TITLEVEP...</td>\n",
       "    </tr>\n",
       "    <tr>\n",
       "      <th>141</th>\n",
       "      <td>YeastUPS2_10</td>\n",
       "      <td>P63165ups|SUMO1_HUMAN_UPS</td>\n",
       "      <td>5.0</td>\n",
       "      <td>3435.333333</td>\n",
       "      <td>687.066667</td>\n",
       "      <td>3</td>\n",
       "      <td>False</td>\n",
       "      <td>[{'feature_id': 854202, 'sequence': 'VIGQDSSEI...</td>\n",
       "    </tr>\n",
       "    <tr>\n",
       "      <th>142</th>\n",
       "      <td>YeastUPS2_10</td>\n",
       "      <td>P68871ups|HBB_HUMAN_UPS</td>\n",
       "      <td>50.0</td>\n",
       "      <td>45045.333333</td>\n",
       "      <td>900.906667</td>\n",
       "      <td>13</td>\n",
       "      <td>True</td>\n",
       "      <td>[{'feature_id': 2774801, 'sequence': 'VLGAFSDG...</td>\n",
       "    </tr>\n",
       "    <tr>\n",
       "      <th>143</th>\n",
       "      <td>YeastUPS2_10</td>\n",
       "      <td>P69905ups|HBA_HUMAN_UPS</td>\n",
       "      <td>50.0</td>\n",
       "      <td>18385.000000</td>\n",
       "      <td>367.700000</td>\n",
       "      <td>16</td>\n",
       "      <td>True</td>\n",
       "      <td>[{'feature_id': 3146301, 'sequence': 'KVADALTN...</td>\n",
       "    </tr>\n",
       "    <tr>\n",
       "      <th>144</th>\n",
       "      <td>YeastUPS2_10</td>\n",
       "      <td>Q06830ups|PRDX1_HUMAN_UPS</td>\n",
       "      <td>5.0</td>\n",
       "      <td>10108.666667</td>\n",
       "      <td>2021.733333</td>\n",
       "      <td>7</td>\n",
       "      <td>False</td>\n",
       "      <td>[{'feature_id': 736801, 'sequence': 'HGEVCPAGW...</td>\n",
       "    </tr>\n",
       "  </tbody>\n",
       "</table>\n",
       "<p>145 rows × 8 columns</p>\n",
       "</div>"
      ],
      "text/plain": [
       "    short_run_name                    protein  pmoles  average_intensity  \\\n",
       "0     YeastUPS2_01   P00915ups|CAH1_HUMAN_UPS    50.0       51585.000000   \n",
       "1     YeastUPS2_01   P00918ups|CAH2_HUMAN_UPS    50.0       50821.333333   \n",
       "2     YeastUPS2_01    P01031ups|CO5_HUMAN_UPS    50.0       38016.333333   \n",
       "3     YeastUPS2_01    P02144ups|MYG_HUMAN_UPS     5.0        6117.333333   \n",
       "4     YeastUPS2_01   P02768ups|ALBU_HUMAN_UPS    50.0      115886.000000   \n",
       "..             ...                        ...     ...                ...   \n",
       "140   YeastUPS2_10   P62988ups|UBIQ_HUMAN_UPS    50.0       18820.666667   \n",
       "141   YeastUPS2_10  P63165ups|SUMO1_HUMAN_UPS     5.0        3435.333333   \n",
       "142   YeastUPS2_10    P68871ups|HBB_HUMAN_UPS    50.0       45045.333333   \n",
       "143   YeastUPS2_10    P69905ups|HBA_HUMAN_UPS    50.0       18385.000000   \n",
       "144   YeastUPS2_10  Q06830ups|PRDX1_HUMAN_UPS     5.0       10108.666667   \n",
       "\n",
       "     signal_response_factor  peptide_count  intensity_adjusted  \\\n",
       "0               1031.700000             20                True   \n",
       "1               1016.426667             18                True   \n",
       "2                760.326667              4                True   \n",
       "3               1223.466667              6               False   \n",
       "4               2317.720000            141                True   \n",
       "..                      ...            ...                 ...   \n",
       "140              376.413333              3                True   \n",
       "141              687.066667              3               False   \n",
       "142              900.906667             13                True   \n",
       "143              367.700000             16                True   \n",
       "144             2021.733333              7               False   \n",
       "\n",
       "                                             attribs_d  \n",
       "0    [{'feature_id': 829701, 'sequence': 'HDTSLKPIS...  \n",
       "1    [{'feature_id': 2161501, 'sequence': 'YDPSLKPL...  \n",
       "2    [{'feature_id': 613701, 'sequence': 'CCYDGACVN...  \n",
       "3    [{'feature_id': 1141101, 'sequence': 'VEADIPGH...  \n",
       "4    [{'feature_id': 4736101, 'sequence': 'MPCAEDYL...  \n",
       "..                                                 ...  \n",
       "140  [{'feature_id': 2414101, 'sequence': 'TITLEVEP...  \n",
       "141  [{'feature_id': 854202, 'sequence': 'VIGQDSSEI...  \n",
       "142  [{'feature_id': 2774801, 'sequence': 'VLGAFSDG...  \n",
       "143  [{'feature_id': 3146301, 'sequence': 'KVADALTN...  \n",
       "144  [{'feature_id': 736801, 'sequence': 'HGEVCPAGW...  \n",
       "\n",
       "[145 rows x 8 columns]"
      ]
     },
     "execution_count": 16,
     "metadata": {},
     "output_type": "execute_result"
    }
   ],
   "source": [
    "top3_with_df"
   ]
  },
  {
   "cell_type": "code",
   "execution_count": 17,
   "metadata": {},
   "outputs": [
    {
     "data": {
      "text/plain": [
       "17"
      ]
     },
     "execution_count": 17,
     "metadata": {},
     "output_type": "execute_result"
    }
   ],
   "source": [
    "len(top3_with_df.protein.unique())"
   ]
  },
  {
   "cell_type": "code",
   "execution_count": 18,
   "metadata": {},
   "outputs": [
    {
     "data": {
      "text/plain": [
       "2317.72"
      ]
     },
     "execution_count": 18,
     "metadata": {},
     "output_type": "execute_result"
    }
   ],
   "source": [
    "# using Serum albumin (P02768) as an internal reference\n",
    "universal_signal_response_factor = top3_with_df[top3_with_df.protein.str.startswith('P02768')].iloc[0].signal_response_factor\n",
    "universal_signal_response_factor"
   ]
  },
  {
   "cell_type": "code",
   "execution_count": 19,
   "metadata": {},
   "outputs": [],
   "source": [
    "top3_with_df['calculated_pmoles'] = top3_with_df.average_intensity / universal_signal_response_factor"
   ]
  },
  {
   "cell_type": "code",
   "execution_count": 20,
   "metadata": {},
   "outputs": [
    {
     "data": {
      "text/plain": [
       "1.2170090470187278"
      ]
     },
     "execution_count": 20,
     "metadata": {},
     "output_type": "execute_result"
    }
   ],
   "source": [
    "# calculate the CV for the signal response factor\n",
    "cv = top3_with_df.signal_response_factor.std() / top3_with_df.signal_response_factor.mean()\n",
    "cv"
   ]
  },
  {
   "cell_type": "code",
   "execution_count": 21,
   "metadata": {},
   "outputs": [
    {
     "data": {
      "text/plain": [
       "'64.1% of proteins had at least one of their top-3 peptides adjusted for saturation'"
      ]
     },
     "execution_count": 21,
     "metadata": {},
     "output_type": "execute_result"
    }
   ],
   "source": [
    "'{}% of proteins had at least one of their top-3 peptides adjusted for saturation'.format(round(len(top3_with_df[(top3_with_df.intensity_adjusted == True)]) / len(top3_with_df) * 100,1))"
   ]
  },
  {
   "cell_type": "markdown",
   "metadata": {},
   "source": [
    "#### without correction"
   ]
  },
  {
   "cell_type": "code",
   "execution_count": 22,
   "metadata": {},
   "outputs": [
    {
     "name": "stdout",
     "output_type": "stream",
     "text": [
      "YeastUPS2_01 didn't have three peptides for P00167ups|CYB5_HUMAN_UPS\n",
      "YeastUPS2_01 didn't have three peptides for P00709ups|LALBA_HUMAN_UPS\n",
      "YeastUPS2_01 didn't have three peptides for P06732ups|KCRM_HUMAN_UPS\n",
      "YeastUPS2_01 didn't have three peptides for P15559ups|NQO1_HUMAN_UPS\n",
      "YeastUPS2_01 didn't have three peptides for P62988ups|UBIQ_HUMAN_UPS\n",
      "YeastUPS2_02 didn't have three peptides for P00709ups|LALBA_HUMAN_UPS\n",
      "YeastUPS2_02 didn't have three peptides for P01133ups|EGF_HUMAN_UPS\n",
      "YeastUPS2_02 didn't have three peptides for P06732ups|KCRM_HUMAN_UPS\n",
      "YeastUPS2_02 didn't have three peptides for P62988ups|UBIQ_HUMAN_UPS\n",
      "YeastUPS2_02 didn't have three peptides for Q15843ups|NEDD8_HUMAN_UPS\n",
      "YeastUPS2_03 didn't have three peptides for P00709ups|LALBA_HUMAN_UPS\n",
      "YeastUPS2_03 didn't have three peptides for P06732ups|KCRM_HUMAN_UPS\n",
      "YeastUPS2_03 didn't have three peptides for P12081ups|SYHC_HUMAN_UPS\n",
      "YeastUPS2_03 didn't have three peptides for P16083ups|NQO2_HUMAN_UPS\n",
      "YeastUPS2_03 didn't have three peptides for P62988ups|UBIQ_HUMAN_UPS\n",
      "YeastUPS2_03 didn't have three peptides for Q15843ups|NEDD8_HUMAN_UPS\n",
      "YeastUPS2_04 didn't have three peptides for P00709ups|LALBA_HUMAN_UPS\n",
      "YeastUPS2_04 didn't have three peptides for P06732ups|KCRM_HUMAN_UPS\n",
      "YeastUPS2_05 didn't have three peptides for P00709ups|LALBA_HUMAN_UPS\n",
      "YeastUPS2_05 didn't have three peptides for P01133ups|EGF_HUMAN_UPS\n",
      "YeastUPS2_05 didn't have three peptides for P06732ups|KCRM_HUMAN_UPS\n",
      "YeastUPS2_05 didn't have three peptides for P12081ups|SYHC_HUMAN_UPS\n",
      "YeastUPS2_05 didn't have three peptides for P16083ups|NQO2_HUMAN_UPS\n",
      "YeastUPS2_05 didn't have three peptides for Q15843ups|NEDD8_HUMAN_UPS\n",
      "YeastUPS2_06 didn't have three peptides for P00709ups|LALBA_HUMAN_UPS\n",
      "YeastUPS2_06 didn't have three peptides for P01133ups|EGF_HUMAN_UPS\n",
      "YeastUPS2_06 didn't have three peptides for P02753ups|RETBP_HUMAN_UPS\n",
      "YeastUPS2_06 didn't have three peptides for P06396ups|GELS_HUMAN_UPS\n",
      "YeastUPS2_06 didn't have three peptides for P06732ups|KCRM_HUMAN_UPS\n",
      "YeastUPS2_06 didn't have three peptides for P12081ups|SYHC_HUMAN_UPS\n",
      "YeastUPS2_06 didn't have three peptides for P62988ups|UBIQ_HUMAN_UPS\n",
      "YeastUPS2_06 didn't have three peptides for Q15843ups|NEDD8_HUMAN_UPS\n",
      "YeastUPS2_07 didn't have three peptides for P00709ups|LALBA_HUMAN_UPS\n",
      "YeastUPS2_07 didn't have three peptides for P01133ups|EGF_HUMAN_UPS\n",
      "YeastUPS2_07 didn't have three peptides for P02753ups|RETBP_HUMAN_UPS\n",
      "YeastUPS2_07 didn't have three peptides for P06732ups|KCRM_HUMAN_UPS\n",
      "YeastUPS2_07 didn't have three peptides for P12081ups|SYHC_HUMAN_UPS\n",
      "YeastUPS2_07 didn't have three peptides for Q15843ups|NEDD8_HUMAN_UPS\n",
      "YeastUPS2_08 didn't have three peptides for P00709ups|LALBA_HUMAN_UPS\n",
      "YeastUPS2_08 didn't have three peptides for P01133ups|EGF_HUMAN_UPS\n",
      "YeastUPS2_08 didn't have three peptides for P02753ups|RETBP_HUMAN_UPS\n",
      "YeastUPS2_08 didn't have three peptides for P15559ups|NQO1_HUMAN_UPS\n",
      "YeastUPS2_08 didn't have three peptides for P62988ups|UBIQ_HUMAN_UPS\n",
      "YeastUPS2_08 didn't have three peptides for Q15843ups|NEDD8_HUMAN_UPS\n",
      "YeastUPS2_09 didn't have three peptides for P00709ups|LALBA_HUMAN_UPS\n",
      "YeastUPS2_09 didn't have three peptides for P01133ups|EGF_HUMAN_UPS\n",
      "YeastUPS2_09 didn't have three peptides for P02753ups|RETBP_HUMAN_UPS\n",
      "YeastUPS2_09 didn't have three peptides for P06732ups|KCRM_HUMAN_UPS\n",
      "YeastUPS2_09 didn't have three peptides for P12081ups|SYHC_HUMAN_UPS\n",
      "YeastUPS2_09 didn't have three peptides for Q15843ups|NEDD8_HUMAN_UPS\n",
      "YeastUPS2_10 didn't have three peptides for P00167ups|CYB5_HUMAN_UPS\n",
      "YeastUPS2_10 didn't have three peptides for P00709ups|LALBA_HUMAN_UPS\n",
      "YeastUPS2_10 didn't have three peptides for P06732ups|KCRM_HUMAN_UPS\n",
      "YeastUPS2_10 didn't have three peptides for P12081ups|SYHC_HUMAN_UPS\n",
      "YeastUPS2_10 didn't have three peptides for P15559ups|NQO1_HUMAN_UPS\n",
      "YeastUPS2_10 didn't have three peptides for Q15843ups|NEDD8_HUMAN_UPS\n"
     ]
    }
   ],
   "source": [
    "# find the three most intense peptides for each protein\n",
    "top3_l = []\n",
    "for group_name,group_df in identifications_without_cs_df.groupby(['short_run_name','protein id']):\n",
    "    short_run_name = group_name[0]\n",
    "    protein_name = group_name[1]\n",
    "    df = group_df.sort_values(by=['feature_intensity'], ascending=False, inplace=False)\n",
    "    top3_df = df.head(n=3)\n",
    "    if len(top3_df) == 3:\n",
    "        uniprot_id = protein_name.split('ups')[0]\n",
    "        pmoles = ups2_d[uniprot_id] / 1000\n",
    "        average_intensity = top3_df.feature_intensity.mean()\n",
    "        signal_response_factor = average_intensity / pmoles\n",
    "        peptide_count = len(df)\n",
    "        attribs_d = top3_df[['feature_id','sequence','charge','feature_intensity']].to_dict('records')\n",
    "        top3_l.append({'short_run_name':short_run_name, 'protein':protein_name, 'pmoles':pmoles, 'average_intensity':average_intensity, 'signal_response_factor':signal_response_factor, 'peptide_count':peptide_count, 'attribs_d':attribs_d})\n",
    "    else:\n",
    "        print('{} didn\\'t have three peptides for {}'.format(short_run_name, protein_name))\n",
    "top3_without_df = pd.DataFrame(top3_l)"
   ]
  },
  {
   "cell_type": "code",
   "execution_count": 23,
   "metadata": {},
   "outputs": [
    {
     "data": {
      "text/plain": [
       "17"
      ]
     },
     "execution_count": 23,
     "metadata": {},
     "output_type": "execute_result"
    }
   ],
   "source": [
    "len(top3_without_df.protein.unique())"
   ]
  },
  {
   "cell_type": "code",
   "execution_count": 24,
   "metadata": {},
   "outputs": [
    {
     "data": {
      "text/plain": [
       "1715.1133333333335"
      ]
     },
     "execution_count": 24,
     "metadata": {},
     "output_type": "execute_result"
    }
   ],
   "source": [
    "# using Serum albumin (P02768) as an internal reference\n",
    "universal_signal_response_factor = top3_without_df[top3_without_df.protein.str.startswith('P02768')].iloc[0].signal_response_factor\n",
    "universal_signal_response_factor"
   ]
  },
  {
   "cell_type": "code",
   "execution_count": 25,
   "metadata": {},
   "outputs": [],
   "source": [
    "top3_without_df['calculated_pmoles'] = top3_without_df.average_intensity / universal_signal_response_factor"
   ]
  },
  {
   "cell_type": "code",
   "execution_count": 26,
   "metadata": {},
   "outputs": [
    {
     "data": {
      "text/plain": [
       "1.1673358778283178"
      ]
     },
     "execution_count": 26,
     "metadata": {},
     "output_type": "execute_result"
    }
   ],
   "source": [
    "# calculate the CV for the signal response factor\n",
    "cv = top3_without_df.signal_response_factor.std() / top3_without_df.signal_response_factor.mean()\n",
    "cv"
   ]
  },
  {
   "cell_type": "markdown",
   "metadata": {},
   "source": [
    "#### calculate correlation"
   ]
  },
  {
   "cell_type": "code",
   "execution_count": 27,
   "metadata": {},
   "outputs": [],
   "source": [
    "combined_UPS2_df = pd.merge(top3_with_df, top3_without_df, how='inner', left_on=['short_run_name','protein'], right_on=['short_run_name','protein'], suffixes=['_with','_without'])"
   ]
  },
  {
   "cell_type": "code",
   "execution_count": 28,
   "metadata": {},
   "outputs": [],
   "source": [
    "universal_signal_response_factor_with = combined_UPS2_df[combined_UPS2_df.protein.str.startswith('P02768')].iloc[0].signal_response_factor_with\n",
    "universal_signal_response_factor_without = combined_UPS2_df[combined_UPS2_df.protein.str.startswith('P02768')].iloc[0].signal_response_factor_without"
   ]
  },
  {
   "cell_type": "code",
   "execution_count": 29,
   "metadata": {},
   "outputs": [],
   "source": [
    "combined_UPS2_df['calculated_pmoles_with'] = combined_UPS2_df.average_intensity_with / universal_signal_response_factor_with\n",
    "combined_UPS2_df['calculated_pmoles_without'] = combined_UPS2_df.average_intensity_without / universal_signal_response_factor_without"
   ]
  },
  {
   "cell_type": "code",
   "execution_count": 30,
   "metadata": {},
   "outputs": [
    {
     "data": {
      "text/plain": [
       "0.6353493197867336"
      ]
     },
     "execution_count": 30,
     "metadata": {},
     "output_type": "execute_result"
    }
   ],
   "source": [
    "combined_UPS2_df['pmoles_with'].corr(combined_UPS2_df['calculated_pmoles_with'])"
   ]
  },
  {
   "cell_type": "code",
   "execution_count": 31,
   "metadata": {},
   "outputs": [
    {
     "data": {
      "text/plain": [
       "0.6521577171439816"
      ]
     },
     "execution_count": 31,
     "metadata": {},
     "output_type": "execute_result"
    }
   ],
   "source": [
    "combined_UPS2_df['pmoles_without'].corr(combined_UPS2_df['calculated_pmoles_without'])"
   ]
  },
  {
   "cell_type": "markdown",
   "metadata": {},
   "source": [
    "#### calculate experiment intensity means for each protein"
   ]
  },
  {
   "cell_type": "code",
   "execution_count": 32,
   "metadata": {},
   "outputs": [],
   "source": [
    "experiment_means_l = []\n",
    "for group_name,group_df in combined_UPS2_df.groupby(['protein']):\n",
    "    if len(group_df.short_run_name.unique()) >= PROTEIN_APPEARS_IN_REPLICATES:\n",
    "        mean_intensity_with = group_df.average_intensity_with.mean()\n",
    "        mean_intensity_without = group_df.average_intensity_without.mean()\n",
    "        experiment_means_l.append({'protein':group_name, 'mean_intensity_with':mean_intensity_with, 'mean_intensity_without':mean_intensity_without})\n",
    "experiment_UPS2_means_df = pd.DataFrame(experiment_means_l)"
   ]
  },
  {
   "cell_type": "code",
   "execution_count": 33,
   "metadata": {},
   "outputs": [
    {
     "data": {
      "text/html": [
       "<div>\n",
       "<style scoped>\n",
       "    .dataframe tbody tr th:only-of-type {\n",
       "        vertical-align: middle;\n",
       "    }\n",
       "\n",
       "    .dataframe tbody tr th {\n",
       "        vertical-align: top;\n",
       "    }\n",
       "\n",
       "    .dataframe thead th {\n",
       "        text-align: right;\n",
       "    }\n",
       "</style>\n",
       "<table border=\"1\" class=\"dataframe\">\n",
       "  <thead>\n",
       "    <tr style=\"text-align: right;\">\n",
       "      <th></th>\n",
       "      <th>protein</th>\n",
       "      <th>mean_intensity_with</th>\n",
       "      <th>mean_intensity_without</th>\n",
       "    </tr>\n",
       "  </thead>\n",
       "  <tbody>\n",
       "    <tr>\n",
       "      <th>0</th>\n",
       "      <td>P00167ups|CYB5_HUMAN_UPS</td>\n",
       "      <td>9305.958333</td>\n",
       "      <td>9305.958333</td>\n",
       "    </tr>\n",
       "    <tr>\n",
       "      <th>1</th>\n",
       "      <td>P00915ups|CAH1_HUMAN_UPS</td>\n",
       "      <td>55278.433333</td>\n",
       "      <td>49377.433333</td>\n",
       "    </tr>\n",
       "    <tr>\n",
       "      <th>2</th>\n",
       "      <td>P00918ups|CAH2_HUMAN_UPS</td>\n",
       "      <td>58185.533333</td>\n",
       "      <td>49245.766667</td>\n",
       "    </tr>\n",
       "    <tr>\n",
       "      <th>3</th>\n",
       "      <td>P01031ups|CO5_HUMAN_UPS</td>\n",
       "      <td>34252.866667</td>\n",
       "      <td>21014.100000</td>\n",
       "    </tr>\n",
       "    <tr>\n",
       "      <th>4</th>\n",
       "      <td>P02144ups|MYG_HUMAN_UPS</td>\n",
       "      <td>6245.833333</td>\n",
       "      <td>6245.833333</td>\n",
       "    </tr>\n",
       "    <tr>\n",
       "      <th>5</th>\n",
       "      <td>P02768ups|ALBU_HUMAN_UPS</td>\n",
       "      <td>120906.866667</td>\n",
       "      <td>91316.133333</td>\n",
       "    </tr>\n",
       "    <tr>\n",
       "      <th>6</th>\n",
       "      <td>P04040ups|CATA_HUMAN_UPS</td>\n",
       "      <td>44455.500000</td>\n",
       "      <td>36880.266667</td>\n",
       "    </tr>\n",
       "    <tr>\n",
       "      <th>7</th>\n",
       "      <td>P06732ups|KCRM_HUMAN_UPS</td>\n",
       "      <td>2403.000000</td>\n",
       "      <td>2403.000000</td>\n",
       "    </tr>\n",
       "    <tr>\n",
       "      <th>8</th>\n",
       "      <td>P12081ups|SYHC_HUMAN_UPS</td>\n",
       "      <td>2858.250000</td>\n",
       "      <td>2858.250000</td>\n",
       "    </tr>\n",
       "    <tr>\n",
       "      <th>9</th>\n",
       "      <td>P15559ups|NQO1_HUMAN_UPS</td>\n",
       "      <td>5477.761905</td>\n",
       "      <td>5477.761905</td>\n",
       "    </tr>\n",
       "    <tr>\n",
       "      <th>10</th>\n",
       "      <td>P41159ups|LEP_HUMAN_UPS</td>\n",
       "      <td>35590.733333</td>\n",
       "      <td>32437.166667</td>\n",
       "    </tr>\n",
       "    <tr>\n",
       "      <th>11</th>\n",
       "      <td>P62937ups|PPIA_HUMAN_UPS</td>\n",
       "      <td>3899.933333</td>\n",
       "      <td>3899.933333</td>\n",
       "    </tr>\n",
       "    <tr>\n",
       "      <th>12</th>\n",
       "      <td>P62988ups|UBIQ_HUMAN_UPS</td>\n",
       "      <td>18115.133333</td>\n",
       "      <td>17923.933333</td>\n",
       "    </tr>\n",
       "    <tr>\n",
       "      <th>13</th>\n",
       "      <td>P63165ups|SUMO1_HUMAN_UPS</td>\n",
       "      <td>3048.866667</td>\n",
       "      <td>3048.866667</td>\n",
       "    </tr>\n",
       "    <tr>\n",
       "      <th>14</th>\n",
       "      <td>P68871ups|HBB_HUMAN_UPS</td>\n",
       "      <td>49136.866667</td>\n",
       "      <td>40182.733333</td>\n",
       "    </tr>\n",
       "    <tr>\n",
       "      <th>15</th>\n",
       "      <td>P69905ups|HBA_HUMAN_UPS</td>\n",
       "      <td>19276.433333</td>\n",
       "      <td>18843.000000</td>\n",
       "    </tr>\n",
       "    <tr>\n",
       "      <th>16</th>\n",
       "      <td>Q06830ups|PRDX1_HUMAN_UPS</td>\n",
       "      <td>8784.366667</td>\n",
       "      <td>8846.133333</td>\n",
       "    </tr>\n",
       "  </tbody>\n",
       "</table>\n",
       "</div>"
      ],
      "text/plain": [
       "                      protein  mean_intensity_with  mean_intensity_without\n",
       "0    P00167ups|CYB5_HUMAN_UPS          9305.958333             9305.958333\n",
       "1    P00915ups|CAH1_HUMAN_UPS         55278.433333            49377.433333\n",
       "2    P00918ups|CAH2_HUMAN_UPS         58185.533333            49245.766667\n",
       "3     P01031ups|CO5_HUMAN_UPS         34252.866667            21014.100000\n",
       "4     P02144ups|MYG_HUMAN_UPS          6245.833333             6245.833333\n",
       "5    P02768ups|ALBU_HUMAN_UPS        120906.866667            91316.133333\n",
       "6    P04040ups|CATA_HUMAN_UPS         44455.500000            36880.266667\n",
       "7    P06732ups|KCRM_HUMAN_UPS          2403.000000             2403.000000\n",
       "8    P12081ups|SYHC_HUMAN_UPS          2858.250000             2858.250000\n",
       "9    P15559ups|NQO1_HUMAN_UPS          5477.761905             5477.761905\n",
       "10    P41159ups|LEP_HUMAN_UPS         35590.733333            32437.166667\n",
       "11   P62937ups|PPIA_HUMAN_UPS          3899.933333             3899.933333\n",
       "12   P62988ups|UBIQ_HUMAN_UPS         18115.133333            17923.933333\n",
       "13  P63165ups|SUMO1_HUMAN_UPS          3048.866667             3048.866667\n",
       "14    P68871ups|HBB_HUMAN_UPS         49136.866667            40182.733333\n",
       "15    P69905ups|HBA_HUMAN_UPS         19276.433333            18843.000000\n",
       "16  Q06830ups|PRDX1_HUMAN_UPS          8784.366667             8846.133333"
      ]
     },
     "execution_count": 33,
     "metadata": {},
     "output_type": "execute_result"
    }
   ],
   "source": [
    "experiment_UPS2_means_df"
   ]
  },
  {
   "cell_type": "markdown",
   "metadata": {},
   "source": [
    "### analyse UPS1"
   ]
  },
  {
   "cell_type": "code",
   "execution_count": 34,
   "metadata": {},
   "outputs": [],
   "source": [
    "ups1_proteins_l = []\n",
    "\n",
    "ups1_proteins_l.append({'uniprot':'P00915', 'fmoles':5000})\n",
    "ups1_proteins_l.append({'uniprot':'P00918', 'fmoles':5000})\n",
    "ups1_proteins_l.append({'uniprot':'P01031', 'fmoles':5000})\n",
    "ups1_proteins_l.append({'uniprot':'P69905', 'fmoles':5000})\n",
    "ups1_proteins_l.append({'uniprot':'P68871', 'fmoles':5000})\n",
    "ups1_proteins_l.append({'uniprot':'P41159', 'fmoles':5000})\n",
    "ups1_proteins_l.append({'uniprot':'P02768', 'fmoles':5000})\n",
    "ups1_proteins_l.append({'uniprot':'P62988', 'fmoles':5000})\n",
    "\n",
    "ups1_proteins_l.append({'uniprot':'P04040', 'fmoles':5000})\n",
    "ups1_proteins_l.append({'uniprot':'P00167', 'fmoles':5000})\n",
    "ups1_proteins_l.append({'uniprot':'P01133', 'fmoles':5000})\n",
    "ups1_proteins_l.append({'uniprot':'P02144', 'fmoles':5000})\n",
    "ups1_proteins_l.append({'uniprot':'P15559', 'fmoles':5000})\n",
    "ups1_proteins_l.append({'uniprot':'P62937', 'fmoles':5000})\n",
    "ups1_proteins_l.append({'uniprot':'Q06830', 'fmoles':5000})\n",
    "ups1_proteins_l.append({'uniprot':'P63165', 'fmoles':5000})\n",
    "\n",
    "ups1_proteins_l.append({'uniprot':'P00709', 'fmoles':5000})\n",
    "ups1_proteins_l.append({'uniprot':'P06732', 'fmoles':5000})\n",
    "ups1_proteins_l.append({'uniprot':'P12081', 'fmoles':5000})\n",
    "ups1_proteins_l.append({'uniprot':'P61626', 'fmoles':5000})\n",
    "ups1_proteins_l.append({'uniprot':'Q15843', 'fmoles':5000})\n",
    "ups1_proteins_l.append({'uniprot':'P02753', 'fmoles':5000})\n",
    "ups1_proteins_l.append({'uniprot':'P16083', 'fmoles':5000})\n",
    "ups1_proteins_l.append({'uniprot':'P63279', 'fmoles':5000})\n",
    "\n",
    "ups1_proteins_l.append({'uniprot':'P01008', 'fmoles':5000})\n",
    "ups1_proteins_l.append({'uniprot':'P61769', 'fmoles':5000})\n",
    "ups1_proteins_l.append({'uniprot':'P55957', 'fmoles':5000})\n",
    "ups1_proteins_l.append({'uniprot':'O76070', 'fmoles':5000})\n",
    "ups1_proteins_l.append({'uniprot':'P08263', 'fmoles':5000})\n",
    "ups1_proteins_l.append({'uniprot':'P01344', 'fmoles':5000})\n",
    "ups1_proteins_l.append({'uniprot':'P01127', 'fmoles':5000})\n",
    "ups1_proteins_l.append({'uniprot':'P10599', 'fmoles':5000})\n",
    "\n",
    "ups1_proteins_l.append({'uniprot':'P99999', 'fmoles':5000})\n",
    "ups1_proteins_l.append({'uniprot':'P06396', 'fmoles':5000})\n",
    "ups1_proteins_l.append({'uniprot':'P09211', 'fmoles':5000})\n",
    "ups1_proteins_l.append({'uniprot':'P01112', 'fmoles':5000})\n",
    "ups1_proteins_l.append({'uniprot':'P01579', 'fmoles':5000})\n",
    "ups1_proteins_l.append({'uniprot':'P02787', 'fmoles':5000})\n",
    "ups1_proteins_l.append({'uniprot':'O00762', 'fmoles':5000})\n",
    "ups1_proteins_l.append({'uniprot':'P51965', 'fmoles':5000})\n",
    "\n",
    "ups1_proteins_l.append({'uniprot':'P08758', 'fmoles':5000})\n",
    "ups1_proteins_l.append({'uniprot':'P02741', 'fmoles':5000})\n",
    "ups1_proteins_l.append({'uniprot':'P05413', 'fmoles':5000})\n",
    "ups1_proteins_l.append({'uniprot':'P10145', 'fmoles':5000})\n",
    "ups1_proteins_l.append({'uniprot':'P02788', 'fmoles':5000})\n",
    "ups1_proteins_l.append({'uniprot':'P10636-8', 'fmoles':5000})\n",
    "ups1_proteins_l.append({'uniprot':'P00441', 'fmoles':5000})\n",
    "ups1_proteins_l.append({'uniprot':'P01375', 'fmoles':5000})\n",
    "\n",
    "ups1_d = {}\n",
    "for p in ups1_proteins_l:\n",
    "    ups1_d[p['uniprot']] = p['fmoles']"
   ]
  },
  {
   "cell_type": "markdown",
   "metadata": {},
   "source": [
    "#### identifications with correction for saturation"
   ]
  },
  {
   "cell_type": "code",
   "execution_count": 35,
   "metadata": {},
   "outputs": [],
   "source": [
    "IDENTIFICATIONS_UPS1_WITH_CS_DIR = '/media/data-4t-a/results-P3830_YUPS1/2021-10-10-01-59-26/identifications-pasef'\n",
    "IDENTIFICATIONS_UPS1_WITH_CS_FILE = '{}/exp-P3830_YUPS1-identifications-pasef-recalibrated.feather'.format(IDENTIFICATIONS_UPS1_WITH_CS_DIR)"
   ]
  },
  {
   "cell_type": "code",
   "execution_count": 36,
   "metadata": {},
   "outputs": [],
   "source": [
    "# load the identifications\n",
    "identifications_UPS1_with_cs_df = pd.read_feather(IDENTIFICATIONS_UPS1_WITH_CS_FILE)\n",
    "identifications_UPS1_with_cs_df = identifications_UPS1_with_cs_df[(identifications_UPS1_with_cs_df['percolator q-value'] <= MAXIMUM_Q_VALUE) & (~identifications_UPS1_with_cs_df['protein id'].str.contains('YEAST'))]\n",
    "identifications_UPS1_with_cs_df['short_run_name'] = identifications_UPS1_with_cs_df.apply(lambda row: '_'.join(row.run_name.split('_Slot')[0].split('_')[1:]), axis=1)\n",
    "identifications_UPS1_with_cs_df['protein id'] = identifications_UPS1_with_cs_df.apply(lambda row: row['protein id'].split(',')[0], axis=1)"
   ]
  },
  {
   "cell_type": "code",
   "execution_count": 37,
   "metadata": {},
   "outputs": [
    {
     "data": {
      "text/html": [
       "<div>\n",
       "<style scoped>\n",
       "    .dataframe tbody tr th:only-of-type {\n",
       "        vertical-align: middle;\n",
       "    }\n",
       "\n",
       "    .dataframe tbody tr th {\n",
       "        vertical-align: top;\n",
       "    }\n",
       "\n",
       "    .dataframe thead th {\n",
       "        text-align: right;\n",
       "    }\n",
       "</style>\n",
       "<table border=\"1\" class=\"dataframe\">\n",
       "  <thead>\n",
       "    <tr style=\"text-align: right;\">\n",
       "      <th></th>\n",
       "      <th>counts</th>\n",
       "      <th>%</th>\n",
       "    </tr>\n",
       "  </thead>\n",
       "  <tbody>\n",
       "    <tr>\n",
       "      <th>monoisotopic_not_saturated</th>\n",
       "      <td>3184</td>\n",
       "      <td>90.8</td>\n",
       "    </tr>\n",
       "    <tr>\n",
       "      <th>monoisotopic_saturated_adjusted</th>\n",
       "      <td>323</td>\n",
       "      <td>9.2</td>\n",
       "    </tr>\n",
       "  </tbody>\n",
       "</table>\n",
       "</div>"
      ],
      "text/plain": [
       "                                 counts     %\n",
       "monoisotopic_not_saturated         3184  90.8\n",
       "monoisotopic_saturated_adjusted     323   9.2"
      ]
     },
     "execution_count": 37,
     "metadata": {},
     "output_type": "execute_result"
    }
   ],
   "source": [
    "s1 = identifications_UPS1_with_cs_df.mono_intensity_adjustment_outcome.value_counts(normalize=False).rename('counts', inplace=True)\n",
    "s2 = round(identifications_UPS1_with_cs_df.mono_intensity_adjustment_outcome.value_counts(normalize=True)*100,1).rename('%', inplace=True)\n",
    "pd.concat([s1, s2], axis=1)"
   ]
  },
  {
   "cell_type": "code",
   "execution_count": 38,
   "metadata": {},
   "outputs": [
    {
     "name": "stdout",
     "output_type": "stream",
     "text": [
      "number of unique proteins: 48\n"
     ]
    }
   ],
   "source": [
    "print('number of unique proteins: {}'.format(len(identifications_UPS1_with_cs_df['protein id'].unique())))"
   ]
  },
  {
   "cell_type": "code",
   "execution_count": 39,
   "metadata": {},
   "outputs": [
    {
     "data": {
      "text/plain": [
       "array(['P02768ups|ALBU_HUMAN_UPS', 'P00441ups|SODC_HUMAN_UPS',\n",
       "       'P10636-8ups|TAU_HUMAN_UPS', 'P08758ups|ANXA5_HUMAN_UPS',\n",
       "       'O76070ups|SYUG_HUMAN_UPS', 'P02787ups|TRFE_HUMAN_UPS',\n",
       "       'P01031ups|CO5_HUMAN_UPS', 'P04040ups|CATA_HUMAN_UPS',\n",
       "       'P06396ups|GELS_HUMAN_UPS', 'Q15843ups|NEDD8_HUMAN_UPS',\n",
       "       'Q06830ups|PRDX1_HUMAN_UPS', 'P00918ups|CAH2_HUMAN_UPS',\n",
       "       'P12081ups|SYHC_HUMAN_UPS', 'P01008ups|ANT3_HUMAN_UPS',\n",
       "       'P00709ups|LALBA_HUMAN_UPS', 'P10145ups|IL8_HUMAN_UPS',\n",
       "       'P55957ups|BID_HUMAN_UPS', 'P00167ups|CYB5_HUMAN_UPS',\n",
       "       'P02788ups|TRFL_HUMAN_UPS', 'P00915ups|CAH1_HUMAN_UPS',\n",
       "       'P06732ups|KCRM_HUMAN_UPS', 'P68871ups|HBB_HUMAN_UPS',\n",
       "       'P41159ups|LEP_HUMAN_UPS', 'O00762ups|UBE2C_HUMAN_UPS',\n",
       "       'P15559ups|NQO1_HUMAN_UPS', 'P16083ups|NQO2_HUMAN_UPS',\n",
       "       'P01133ups|EGF_HUMAN_UPS', 'P02144ups|MYG_HUMAN_UPS',\n",
       "       'P09211ups|GSTP1_HUMAN_UPS', 'P01375ups|TNFA_HUMAN_UPS',\n",
       "       'P05413ups|FABPH_HUMAN_UPS', 'P61769ups|B2MG_HUMAN_UPS',\n",
       "       'P01112ups|RASH_HUMAN_UPS', 'P02741ups|CRP_HUMAN_UPS',\n",
       "       'P62988ups|UBIQ_HUMAN_UPS', 'P01579ups|IFNG_HUMAN_UPS',\n",
       "       'P08263ups|GSTA1_HUMAN_UPS', 'P99999ups|CYC_HUMAN_UPS',\n",
       "       'P02753ups|RETBP_HUMAN_UPS', 'P01344ups|IGF2_HUMAN_UPS',\n",
       "       'P01127ups|PDGFB_HUMAN_UPS', 'P69905ups|HBA_HUMAN_UPS',\n",
       "       'P63279ups|UBC9_HUMAN_UPS', 'P51965ups|UB2E1_HUMAN_UPS',\n",
       "       'P63165ups|SUMO1_HUMAN_UPS', 'P62937ups|PPIA_HUMAN_UPS',\n",
       "       'P10599ups|THIO_HUMAN_UPS', 'P61626ups|LYSC_HUMAN_UPS'],\n",
       "      dtype=object)"
      ]
     },
     "execution_count": 39,
     "metadata": {},
     "output_type": "execute_result"
    }
   ],
   "source": [
    "identifications_UPS1_with_cs_df['protein id'].unique()"
   ]
  },
  {
   "cell_type": "markdown",
   "metadata": {},
   "source": [
    "#### identifications without correction for saturation"
   ]
  },
  {
   "cell_type": "code",
   "execution_count": 40,
   "metadata": {},
   "outputs": [],
   "source": [
    "IDENTIFICATIONS_UPS1_WITHOUT_CS_DIR = '/media/data-4t-a/results-P3830_YUPS1/2021-10-13-13-45-00/identifications-pasef'\n",
    "IDENTIFICATIONS_UPS1_WITHOUT_CS_FILE = '{}/exp-P3830_YUPS1-identifications-pasef-recalibrated.feather'.format(IDENTIFICATIONS_UPS1_WITHOUT_CS_DIR)"
   ]
  },
  {
   "cell_type": "code",
   "execution_count": 41,
   "metadata": {},
   "outputs": [],
   "source": [
    "# load the identifications\n",
    "identifications_UPS1_without_cs_df = pd.read_feather(IDENTIFICATIONS_UPS1_WITHOUT_CS_FILE)\n",
    "identifications_UPS1_without_cs_df = identifications_UPS1_without_cs_df[(identifications_UPS1_without_cs_df['percolator q-value'] <= MAXIMUM_Q_VALUE) & (~identifications_UPS1_without_cs_df['protein id'].str.contains('YEAST'))]\n",
    "identifications_UPS1_without_cs_df['short_run_name'] = identifications_UPS1_without_cs_df.apply(lambda row: '_'.join(row.run_name.split('_Slot')[0].split('_')[1:]), axis=1)\n",
    "identifications_UPS1_without_cs_df['protein id'] = identifications_UPS1_without_cs_df.apply(lambda row: row['protein id'].split(',')[0], axis=1)"
   ]
  },
  {
   "cell_type": "code",
   "execution_count": 42,
   "metadata": {},
   "outputs": [
    {
     "data": {
      "text/html": [
       "<div>\n",
       "<style scoped>\n",
       "    .dataframe tbody tr th:only-of-type {\n",
       "        vertical-align: middle;\n",
       "    }\n",
       "\n",
       "    .dataframe tbody tr th {\n",
       "        vertical-align: top;\n",
       "    }\n",
       "\n",
       "    .dataframe thead th {\n",
       "        text-align: right;\n",
       "    }\n",
       "</style>\n",
       "<table border=\"1\" class=\"dataframe\">\n",
       "  <thead>\n",
       "    <tr style=\"text-align: right;\">\n",
       "      <th></th>\n",
       "      <th>counts</th>\n",
       "      <th>%</th>\n",
       "    </tr>\n",
       "  </thead>\n",
       "  <tbody>\n",
       "    <tr>\n",
       "      <th>monoisotopic_not_saturated</th>\n",
       "      <td>3180</td>\n",
       "      <td>90.8</td>\n",
       "    </tr>\n",
       "    <tr>\n",
       "      <th>monoisotopic_saturated_adjusted</th>\n",
       "      <td>323</td>\n",
       "      <td>9.2</td>\n",
       "    </tr>\n",
       "  </tbody>\n",
       "</table>\n",
       "</div>"
      ],
      "text/plain": [
       "                                 counts     %\n",
       "monoisotopic_not_saturated         3180  90.8\n",
       "monoisotopic_saturated_adjusted     323   9.2"
      ]
     },
     "execution_count": 42,
     "metadata": {},
     "output_type": "execute_result"
    }
   ],
   "source": [
    "s1 = identifications_UPS1_without_cs_df.mono_intensity_adjustment_outcome.value_counts(normalize=False).rename('counts', inplace=True)\n",
    "s2 = round(identifications_UPS1_without_cs_df.mono_intensity_adjustment_outcome.value_counts(normalize=True)*100,1).rename('%', inplace=True)\n",
    "pd.concat([s1, s2], axis=1)"
   ]
  },
  {
   "cell_type": "code",
   "execution_count": 43,
   "metadata": {},
   "outputs": [
    {
     "name": "stdout",
     "output_type": "stream",
     "text": [
      "number of unique proteins: 48\n"
     ]
    }
   ],
   "source": [
    "print('number of unique proteins: {}'.format(len(identifications_UPS1_without_cs_df['protein id'].unique())))"
   ]
  },
  {
   "cell_type": "markdown",
   "metadata": {},
   "source": [
    "### relative abundance of proteins found in common between UPS1 and UPS2"
   ]
  },
  {
   "cell_type": "markdown",
   "metadata": {},
   "source": [
    "#### with correction"
   ]
  },
  {
   "cell_type": "code",
   "execution_count": 44,
   "metadata": {},
   "outputs": [
    {
     "data": {
      "text/plain": [
       "array(['P02768ups|ALBU_HUMAN_UPS', 'P00441ups|SODC_HUMAN_UPS',\n",
       "       'P10636-8ups|TAU_HUMAN_UPS', 'P08758ups|ANXA5_HUMAN_UPS',\n",
       "       'O76070ups|SYUG_HUMAN_UPS', 'P02787ups|TRFE_HUMAN_UPS',\n",
       "       'P01031ups|CO5_HUMAN_UPS', 'P04040ups|CATA_HUMAN_UPS',\n",
       "       'P06396ups|GELS_HUMAN_UPS', 'Q15843ups|NEDD8_HUMAN_UPS',\n",
       "       'Q06830ups|PRDX1_HUMAN_UPS', 'P00918ups|CAH2_HUMAN_UPS',\n",
       "       'P12081ups|SYHC_HUMAN_UPS', 'P01008ups|ANT3_HUMAN_UPS',\n",
       "       'P00709ups|LALBA_HUMAN_UPS', 'P10145ups|IL8_HUMAN_UPS',\n",
       "       'P55957ups|BID_HUMAN_UPS', 'P00167ups|CYB5_HUMAN_UPS',\n",
       "       'P02788ups|TRFL_HUMAN_UPS', 'P00915ups|CAH1_HUMAN_UPS',\n",
       "       'P06732ups|KCRM_HUMAN_UPS', 'P68871ups|HBB_HUMAN_UPS',\n",
       "       'P41159ups|LEP_HUMAN_UPS', 'O00762ups|UBE2C_HUMAN_UPS',\n",
       "       'P15559ups|NQO1_HUMAN_UPS', 'P16083ups|NQO2_HUMAN_UPS',\n",
       "       'P01133ups|EGF_HUMAN_UPS', 'P02144ups|MYG_HUMAN_UPS',\n",
       "       'P09211ups|GSTP1_HUMAN_UPS', 'P01375ups|TNFA_HUMAN_UPS',\n",
       "       'P05413ups|FABPH_HUMAN_UPS', 'P61769ups|B2MG_HUMAN_UPS',\n",
       "       'P01112ups|RASH_HUMAN_UPS', 'P02741ups|CRP_HUMAN_UPS',\n",
       "       'P62988ups|UBIQ_HUMAN_UPS', 'P01579ups|IFNG_HUMAN_UPS',\n",
       "       'P08263ups|GSTA1_HUMAN_UPS', 'P99999ups|CYC_HUMAN_UPS',\n",
       "       'P02753ups|RETBP_HUMAN_UPS', 'P01344ups|IGF2_HUMAN_UPS',\n",
       "       'P01127ups|PDGFB_HUMAN_UPS', 'P69905ups|HBA_HUMAN_UPS',\n",
       "       'P63279ups|UBC9_HUMAN_UPS', 'P51965ups|UB2E1_HUMAN_UPS',\n",
       "       'P63165ups|SUMO1_HUMAN_UPS', 'P62937ups|PPIA_HUMAN_UPS',\n",
       "       'P10599ups|THIO_HUMAN_UPS', 'P61626ups|LYSC_HUMAN_UPS'],\n",
       "      dtype=object)"
      ]
     },
     "execution_count": 44,
     "metadata": {},
     "output_type": "execute_result"
    }
   ],
   "source": [
    "identifications_UPS1_with_cs_df['protein id'].unique()"
   ]
  },
  {
   "cell_type": "code",
   "execution_count": 45,
   "metadata": {
    "scrolled": true
   },
   "outputs": [
    {
     "name": "stdout",
     "output_type": "stream",
     "text": [
      "YeastUPS1_01 didn't have three peptides for P01344ups|IGF2_HUMAN_UPS\n",
      "YeastUPS1_01 didn't have three peptides for P01375ups|TNFA_HUMAN_UPS\n",
      "YeastUPS1_01 didn't have three peptides for P02741ups|CRP_HUMAN_UPS\n",
      "YeastUPS1_01 didn't have three peptides for P08263ups|GSTA1_HUMAN_UPS\n",
      "YeastUPS1_01 didn't have three peptides for P10145ups|IL8_HUMAN_UPS\n",
      "YeastUPS1_01 didn't have three peptides for P15559ups|NQO1_HUMAN_UPS\n",
      "YeastUPS1_01 didn't have three peptides for P51965ups|UB2E1_HUMAN_UPS\n",
      "YeastUPS1_01 didn't have three peptides for P61769ups|B2MG_HUMAN_UPS\n",
      "YeastUPS1_01 didn't have three peptides for P62988ups|UBIQ_HUMAN_UPS\n",
      "YeastUPS1_01 didn't have three peptides for P63279ups|UBC9_HUMAN_UPS\n",
      "YeastUPS1_01 didn't have three peptides for P69905ups|HBA_HUMAN_UPS\n",
      "YeastUPS1_01 didn't have three peptides for Q15843ups|NEDD8_HUMAN_UPS\n",
      "YeastUPS1_02 didn't have three peptides for P00709ups|LALBA_HUMAN_UPS\n",
      "YeastUPS1_02 didn't have three peptides for P01031ups|CO5_HUMAN_UPS\n",
      "YeastUPS1_02 didn't have three peptides for P01344ups|IGF2_HUMAN_UPS\n",
      "YeastUPS1_02 didn't have three peptides for P01375ups|TNFA_HUMAN_UPS\n",
      "YeastUPS1_02 didn't have three peptides for P02741ups|CRP_HUMAN_UPS\n",
      "YeastUPS1_02 didn't have three peptides for P08263ups|GSTA1_HUMAN_UPS\n",
      "YeastUPS1_02 didn't have three peptides for P10145ups|IL8_HUMAN_UPS\n",
      "YeastUPS1_02 didn't have three peptides for P15559ups|NQO1_HUMAN_UPS\n",
      "YeastUPS1_02 didn't have three peptides for P61769ups|B2MG_HUMAN_UPS\n",
      "YeastUPS1_02 didn't have three peptides for P62988ups|UBIQ_HUMAN_UPS\n",
      "YeastUPS1_02 didn't have three peptides for Q15843ups|NEDD8_HUMAN_UPS\n",
      "YeastUPS1_03 didn't have three peptides for P01127ups|PDGFB_HUMAN_UPS\n",
      "YeastUPS1_03 didn't have three peptides for P01133ups|EGF_HUMAN_UPS\n",
      "YeastUPS1_03 didn't have three peptides for P01344ups|IGF2_HUMAN_UPS\n",
      "YeastUPS1_03 didn't have three peptides for P02741ups|CRP_HUMAN_UPS\n",
      "YeastUPS1_03 didn't have three peptides for P02753ups|RETBP_HUMAN_UPS\n",
      "YeastUPS1_03 didn't have three peptides for P08263ups|GSTA1_HUMAN_UPS\n",
      "YeastUPS1_03 didn't have three peptides for P10145ups|IL8_HUMAN_UPS\n",
      "YeastUPS1_03 didn't have three peptides for P15559ups|NQO1_HUMAN_UPS\n",
      "YeastUPS1_03 didn't have three peptides for P51965ups|UB2E1_HUMAN_UPS\n",
      "YeastUPS1_03 didn't have three peptides for P61769ups|B2MG_HUMAN_UPS\n",
      "YeastUPS1_03 didn't have three peptides for P62937ups|PPIA_HUMAN_UPS\n",
      "YeastUPS1_03 didn't have three peptides for P62988ups|UBIQ_HUMAN_UPS\n",
      "YeastUPS1_03 didn't have three peptides for P63165ups|SUMO1_HUMAN_UPS\n",
      "YeastUPS1_03 didn't have three peptides for Q15843ups|NEDD8_HUMAN_UPS\n",
      "YeastUPS1_04 didn't have three peptides for P01127ups|PDGFB_HUMAN_UPS\n",
      "YeastUPS1_04 didn't have three peptides for P01344ups|IGF2_HUMAN_UPS\n",
      "YeastUPS1_04 didn't have three peptides for P01375ups|TNFA_HUMAN_UPS\n",
      "YeastUPS1_04 didn't have three peptides for P02741ups|CRP_HUMAN_UPS\n",
      "YeastUPS1_04 didn't have three peptides for P02753ups|RETBP_HUMAN_UPS\n",
      "YeastUPS1_04 didn't have three peptides for P08263ups|GSTA1_HUMAN_UPS\n",
      "YeastUPS1_04 didn't have three peptides for P10145ups|IL8_HUMAN_UPS\n",
      "YeastUPS1_04 didn't have three peptides for P15559ups|NQO1_HUMAN_UPS\n",
      "YeastUPS1_04 didn't have three peptides for P51965ups|UB2E1_HUMAN_UPS\n",
      "YeastUPS1_04 didn't have three peptides for P61626ups|LYSC_HUMAN_UPS\n",
      "YeastUPS1_04 didn't have three peptides for P61769ups|B2MG_HUMAN_UPS\n",
      "YeastUPS1_04 didn't have three peptides for P62988ups|UBIQ_HUMAN_UPS\n",
      "YeastUPS1_04 didn't have three peptides for Q15843ups|NEDD8_HUMAN_UPS\n",
      "YeastUPS1_05 didn't have three peptides for P01127ups|PDGFB_HUMAN_UPS\n",
      "YeastUPS1_05 didn't have three peptides for P01133ups|EGF_HUMAN_UPS\n",
      "YeastUPS1_05 didn't have three peptides for P01344ups|IGF2_HUMAN_UPS\n",
      "YeastUPS1_05 didn't have three peptides for P01375ups|TNFA_HUMAN_UPS\n",
      "YeastUPS1_05 didn't have three peptides for P02741ups|CRP_HUMAN_UPS\n",
      "YeastUPS1_05 didn't have three peptides for P02753ups|RETBP_HUMAN_UPS\n",
      "YeastUPS1_05 didn't have three peptides for P08263ups|GSTA1_HUMAN_UPS\n",
      "YeastUPS1_05 didn't have three peptides for P10145ups|IL8_HUMAN_UPS\n",
      "YeastUPS1_05 didn't have three peptides for P15559ups|NQO1_HUMAN_UPS\n",
      "YeastUPS1_05 didn't have three peptides for P51965ups|UB2E1_HUMAN_UPS\n",
      "YeastUPS1_05 didn't have three peptides for P61769ups|B2MG_HUMAN_UPS\n",
      "YeastUPS1_05 didn't have three peptides for P62988ups|UBIQ_HUMAN_UPS\n",
      "YeastUPS1_05 didn't have three peptides for Q15843ups|NEDD8_HUMAN_UPS\n",
      "YeastUPS1_06 didn't have three peptides for P01031ups|CO5_HUMAN_UPS\n",
      "YeastUPS1_06 didn't have three peptides for P01127ups|PDGFB_HUMAN_UPS\n",
      "YeastUPS1_06 didn't have three peptides for P01133ups|EGF_HUMAN_UPS\n",
      "YeastUPS1_06 didn't have three peptides for P01344ups|IGF2_HUMAN_UPS\n",
      "YeastUPS1_06 didn't have three peptides for P01375ups|TNFA_HUMAN_UPS\n",
      "YeastUPS1_06 didn't have three peptides for P02741ups|CRP_HUMAN_UPS\n",
      "YeastUPS1_06 didn't have three peptides for P02753ups|RETBP_HUMAN_UPS\n",
      "YeastUPS1_06 didn't have three peptides for P10145ups|IL8_HUMAN_UPS\n",
      "YeastUPS1_06 didn't have three peptides for P10599ups|THIO_HUMAN_UPS\n",
      "YeastUPS1_06 didn't have three peptides for P15559ups|NQO1_HUMAN_UPS\n",
      "YeastUPS1_06 didn't have three peptides for P51965ups|UB2E1_HUMAN_UPS\n",
      "YeastUPS1_06 didn't have three peptides for P61769ups|B2MG_HUMAN_UPS\n",
      "YeastUPS1_06 didn't have three peptides for P62988ups|UBIQ_HUMAN_UPS\n",
      "YeastUPS1_06 didn't have three peptides for Q15843ups|NEDD8_HUMAN_UPS\n",
      "YeastUPS1_07 didn't have three peptides for P01031ups|CO5_HUMAN_UPS\n",
      "YeastUPS1_07 didn't have three peptides for P01127ups|PDGFB_HUMAN_UPS\n",
      "YeastUPS1_07 didn't have three peptides for P01133ups|EGF_HUMAN_UPS\n",
      "YeastUPS1_07 didn't have three peptides for P01344ups|IGF2_HUMAN_UPS\n",
      "YeastUPS1_07 didn't have three peptides for P02741ups|CRP_HUMAN_UPS\n",
      "YeastUPS1_07 didn't have three peptides for P08263ups|GSTA1_HUMAN_UPS\n",
      "YeastUPS1_07 didn't have three peptides for P10145ups|IL8_HUMAN_UPS\n",
      "YeastUPS1_07 didn't have three peptides for P10599ups|THIO_HUMAN_UPS\n",
      "YeastUPS1_07 didn't have three peptides for P15559ups|NQO1_HUMAN_UPS\n",
      "YeastUPS1_07 didn't have three peptides for P61769ups|B2MG_HUMAN_UPS\n",
      "YeastUPS1_07 didn't have three peptides for P62988ups|UBIQ_HUMAN_UPS\n",
      "YeastUPS1_07 didn't have three peptides for P63165ups|SUMO1_HUMAN_UPS\n",
      "YeastUPS1_07 didn't have three peptides for Q15843ups|NEDD8_HUMAN_UPS\n",
      "YeastUPS1_08 didn't have three peptides for P01031ups|CO5_HUMAN_UPS\n",
      "YeastUPS1_08 didn't have three peptides for P01133ups|EGF_HUMAN_UPS\n",
      "YeastUPS1_08 didn't have three peptides for P01344ups|IGF2_HUMAN_UPS\n",
      "YeastUPS1_08 didn't have three peptides for P01375ups|TNFA_HUMAN_UPS\n",
      "YeastUPS1_08 didn't have three peptides for P02741ups|CRP_HUMAN_UPS\n",
      "YeastUPS1_08 didn't have three peptides for P02753ups|RETBP_HUMAN_UPS\n",
      "YeastUPS1_08 didn't have three peptides for P08263ups|GSTA1_HUMAN_UPS\n",
      "YeastUPS1_08 didn't have three peptides for P10145ups|IL8_HUMAN_UPS\n",
      "YeastUPS1_08 didn't have three peptides for P10599ups|THIO_HUMAN_UPS\n",
      "YeastUPS1_08 didn't have three peptides for P15559ups|NQO1_HUMAN_UPS\n",
      "YeastUPS1_08 didn't have three peptides for P51965ups|UB2E1_HUMAN_UPS\n",
      "YeastUPS1_08 didn't have three peptides for P61769ups|B2MG_HUMAN_UPS\n",
      "YeastUPS1_08 didn't have three peptides for P62937ups|PPIA_HUMAN_UPS\n",
      "YeastUPS1_08 didn't have three peptides for P62988ups|UBIQ_HUMAN_UPS\n",
      "YeastUPS1_08 didn't have three peptides for P63279ups|UBC9_HUMAN_UPS\n",
      "YeastUPS1_08 didn't have three peptides for Q15843ups|NEDD8_HUMAN_UPS\n",
      "YeastUPS1_09 didn't have three peptides for P01127ups|PDGFB_HUMAN_UPS\n",
      "YeastUPS1_09 didn't have three peptides for P01344ups|IGF2_HUMAN_UPS\n",
      "YeastUPS1_09 didn't have three peptides for P01375ups|TNFA_HUMAN_UPS\n",
      "YeastUPS1_09 didn't have three peptides for P02741ups|CRP_HUMAN_UPS\n",
      "YeastUPS1_09 didn't have three peptides for P02753ups|RETBP_HUMAN_UPS\n",
      "YeastUPS1_09 didn't have three peptides for P10145ups|IL8_HUMAN_UPS\n",
      "YeastUPS1_09 didn't have three peptides for P10599ups|THIO_HUMAN_UPS\n",
      "YeastUPS1_09 didn't have three peptides for P15559ups|NQO1_HUMAN_UPS\n",
      "YeastUPS1_09 didn't have three peptides for P51965ups|UB2E1_HUMAN_UPS\n",
      "YeastUPS1_09 didn't have three peptides for P61626ups|LYSC_HUMAN_UPS\n",
      "YeastUPS1_09 didn't have three peptides for P61769ups|B2MG_HUMAN_UPS\n",
      "YeastUPS1_09 didn't have three peptides for P62988ups|UBIQ_HUMAN_UPS\n",
      "YeastUPS1_09 didn't have three peptides for P63165ups|SUMO1_HUMAN_UPS\n",
      "YeastUPS1_09 didn't have three peptides for P69905ups|HBA_HUMAN_UPS\n",
      "YeastUPS1_09 didn't have three peptides for Q15843ups|NEDD8_HUMAN_UPS\n",
      "YeastUPS1_10 didn't have three peptides for P01031ups|CO5_HUMAN_UPS\n",
      "YeastUPS1_10 didn't have three peptides for P01127ups|PDGFB_HUMAN_UPS\n",
      "YeastUPS1_10 didn't have three peptides for P01133ups|EGF_HUMAN_UPS\n",
      "YeastUPS1_10 didn't have three peptides for P01344ups|IGF2_HUMAN_UPS\n",
      "YeastUPS1_10 didn't have three peptides for P02741ups|CRP_HUMAN_UPS\n",
      "YeastUPS1_10 didn't have three peptides for P02753ups|RETBP_HUMAN_UPS\n",
      "YeastUPS1_10 didn't have three peptides for P08263ups|GSTA1_HUMAN_UPS\n",
      "YeastUPS1_10 didn't have three peptides for P10145ups|IL8_HUMAN_UPS\n",
      "YeastUPS1_10 didn't have three peptides for P10599ups|THIO_HUMAN_UPS\n",
      "YeastUPS1_10 didn't have three peptides for P15559ups|NQO1_HUMAN_UPS\n",
      "YeastUPS1_10 didn't have three peptides for P51965ups|UB2E1_HUMAN_UPS\n",
      "YeastUPS1_10 didn't have three peptides for P61769ups|B2MG_HUMAN_UPS\n",
      "YeastUPS1_10 didn't have three peptides for P62988ups|UBIQ_HUMAN_UPS\n",
      "YeastUPS1_10 didn't have three peptides for P63165ups|SUMO1_HUMAN_UPS\n",
      "YeastUPS1_10 didn't have three peptides for Q15843ups|NEDD8_HUMAN_UPS\n"
     ]
    }
   ],
   "source": [
    "# find the three most intense peptides for each protein\n",
    "top3_l = []\n",
    "for group_name,group_df in identifications_UPS1_with_cs_df.groupby(['short_run_name','protein id']):\n",
    "    short_run_name = group_name[0]\n",
    "    protein_name = group_name[1]\n",
    "    df = group_df.sort_values(by=['feature_intensity'], ascending=False, inplace=False)\n",
    "    top3_df = df.head(n=3)\n",
    "    if len(top3_df) == 3:\n",
    "        uniprot_id = protein_name.split('ups')[0]\n",
    "        pmoles = ups1_d[uniprot_id] / 1000\n",
    "        average_intensity = top3_df.feature_intensity.mean()\n",
    "        signal_response_factor = average_intensity / pmoles\n",
    "        peptide_count = len(df)\n",
    "        intensity_adjusted = 'monoisotopic_saturated_adjusted' in list(top3_df.mono_intensity_adjustment_outcome)\n",
    "        attribs_d = top3_df[['feature_id','sequence','charge','feature_intensity']].to_dict('records')\n",
    "        top3_l.append({'short_run_name':short_run_name,'protein':protein_name, 'pmoles':pmoles, 'average_intensity':average_intensity, 'signal_response_factor':signal_response_factor, 'peptide_count':peptide_count, 'intensity_adjusted':intensity_adjusted, 'attribs_d':attribs_d})\n",
    "    else:\n",
    "        print('{} didn\\'t have three peptides for {}'.format(short_run_name, protein_name))\n",
    "top3_UPS1_with_df = pd.DataFrame(top3_l)"
   ]
  },
  {
   "cell_type": "code",
   "execution_count": 46,
   "metadata": {},
   "outputs": [
    {
     "data": {
      "text/plain": [
       "38"
      ]
     },
     "execution_count": 46,
     "metadata": {},
     "output_type": "execute_result"
    }
   ],
   "source": [
    "len(top3_UPS1_with_df.protein.unique())"
   ]
  },
  {
   "cell_type": "code",
   "execution_count": 47,
   "metadata": {},
   "outputs": [
    {
     "data": {
      "text/plain": [
       "11185.8"
      ]
     },
     "execution_count": 47,
     "metadata": {},
     "output_type": "execute_result"
    }
   ],
   "source": [
    "# using Serum albumin (P02768) as an internal reference\n",
    "universal_signal_response_factor = top3_UPS1_with_df[top3_UPS1_with_df.protein.str.startswith('P02768')].iloc[0].signal_response_factor\n",
    "universal_signal_response_factor"
   ]
  },
  {
   "cell_type": "code",
   "execution_count": 48,
   "metadata": {},
   "outputs": [],
   "source": [
    "top3_UPS1_with_df['calculated_pmoles'] = top3_UPS1_with_df.average_intensity / universal_signal_response_factor"
   ]
  },
  {
   "cell_type": "code",
   "execution_count": 49,
   "metadata": {},
   "outputs": [
    {
     "data": {
      "text/plain": [
       "0.8565791360019017"
      ]
     },
     "execution_count": 49,
     "metadata": {},
     "output_type": "execute_result"
    }
   ],
   "source": [
    "# calculate the CV for the signal response factor\n",
    "cv = top3_UPS1_with_df.signal_response_factor.std() / top3_UPS1_with_df.signal_response_factor.mean()\n",
    "cv"
   ]
  },
  {
   "cell_type": "code",
   "execution_count": 50,
   "metadata": {},
   "outputs": [
    {
     "data": {
      "text/plain": [
       "'47.7% of proteins had at least one of their top-3 peptides adjusted for saturation'"
      ]
     },
     "execution_count": 50,
     "metadata": {},
     "output_type": "execute_result"
    }
   ],
   "source": [
    "'{}% of proteins had at least one of their top-3 peptides adjusted for saturation'.format(round(len(top3_UPS1_with_df[(top3_UPS1_with_df.intensity_adjusted == True)]) / len(top3_UPS1_with_df) * 100,1))"
   ]
  },
  {
   "cell_type": "markdown",
   "metadata": {},
   "source": [
    "#### without correction"
   ]
  },
  {
   "cell_type": "code",
   "execution_count": 51,
   "metadata": {},
   "outputs": [
    {
     "name": "stdout",
     "output_type": "stream",
     "text": [
      "YeastUPS1_01 didn't have three peptides for P01344ups|IGF2_HUMAN_UPS\n",
      "YeastUPS1_01 didn't have three peptides for P01375ups|TNFA_HUMAN_UPS\n",
      "YeastUPS1_01 didn't have three peptides for P02741ups|CRP_HUMAN_UPS\n",
      "YeastUPS1_01 didn't have three peptides for P08263ups|GSTA1_HUMAN_UPS\n",
      "YeastUPS1_01 didn't have three peptides for P10145ups|IL8_HUMAN_UPS\n",
      "YeastUPS1_01 didn't have three peptides for P15559ups|NQO1_HUMAN_UPS\n",
      "YeastUPS1_01 didn't have three peptides for P51965ups|UB2E1_HUMAN_UPS\n",
      "YeastUPS1_01 didn't have three peptides for P61769ups|B2MG_HUMAN_UPS\n",
      "YeastUPS1_01 didn't have three peptides for P62988ups|UBIQ_HUMAN_UPS\n",
      "YeastUPS1_01 didn't have three peptides for P63279ups|UBC9_HUMAN_UPS\n",
      "YeastUPS1_01 didn't have three peptides for P69905ups|HBA_HUMAN_UPS\n",
      "YeastUPS1_01 didn't have three peptides for Q15843ups|NEDD8_HUMAN_UPS\n",
      "YeastUPS1_02 didn't have three peptides for P00709ups|LALBA_HUMAN_UPS\n",
      "YeastUPS1_02 didn't have three peptides for P01031ups|CO5_HUMAN_UPS\n",
      "YeastUPS1_02 didn't have three peptides for P01344ups|IGF2_HUMAN_UPS\n",
      "YeastUPS1_02 didn't have three peptides for P01375ups|TNFA_HUMAN_UPS\n",
      "YeastUPS1_02 didn't have three peptides for P02741ups|CRP_HUMAN_UPS\n",
      "YeastUPS1_02 didn't have three peptides for P08263ups|GSTA1_HUMAN_UPS\n",
      "YeastUPS1_02 didn't have three peptides for P10145ups|IL8_HUMAN_UPS\n",
      "YeastUPS1_02 didn't have three peptides for P15559ups|NQO1_HUMAN_UPS\n",
      "YeastUPS1_02 didn't have three peptides for P61769ups|B2MG_HUMAN_UPS\n",
      "YeastUPS1_02 didn't have three peptides for P62988ups|UBIQ_HUMAN_UPS\n",
      "YeastUPS1_02 didn't have three peptides for Q15843ups|NEDD8_HUMAN_UPS\n",
      "YeastUPS1_03 didn't have three peptides for P01127ups|PDGFB_HUMAN_UPS\n",
      "YeastUPS1_03 didn't have three peptides for P01133ups|EGF_HUMAN_UPS\n",
      "YeastUPS1_03 didn't have three peptides for P01344ups|IGF2_HUMAN_UPS\n",
      "YeastUPS1_03 didn't have three peptides for P02741ups|CRP_HUMAN_UPS\n",
      "YeastUPS1_03 didn't have three peptides for P02753ups|RETBP_HUMAN_UPS\n",
      "YeastUPS1_03 didn't have three peptides for P08263ups|GSTA1_HUMAN_UPS\n",
      "YeastUPS1_03 didn't have three peptides for P10145ups|IL8_HUMAN_UPS\n",
      "YeastUPS1_03 didn't have three peptides for P15559ups|NQO1_HUMAN_UPS\n",
      "YeastUPS1_03 didn't have three peptides for P51965ups|UB2E1_HUMAN_UPS\n",
      "YeastUPS1_03 didn't have three peptides for P61769ups|B2MG_HUMAN_UPS\n",
      "YeastUPS1_03 didn't have three peptides for P62937ups|PPIA_HUMAN_UPS\n",
      "YeastUPS1_03 didn't have three peptides for P62988ups|UBIQ_HUMAN_UPS\n",
      "YeastUPS1_03 didn't have three peptides for P63165ups|SUMO1_HUMAN_UPS\n",
      "YeastUPS1_03 didn't have three peptides for Q15843ups|NEDD8_HUMAN_UPS\n",
      "YeastUPS1_04 didn't have three peptides for P01127ups|PDGFB_HUMAN_UPS\n",
      "YeastUPS1_04 didn't have three peptides for P01344ups|IGF2_HUMAN_UPS\n",
      "YeastUPS1_04 didn't have three peptides for P01375ups|TNFA_HUMAN_UPS\n",
      "YeastUPS1_04 didn't have three peptides for P02741ups|CRP_HUMAN_UPS\n",
      "YeastUPS1_04 didn't have three peptides for P02753ups|RETBP_HUMAN_UPS\n",
      "YeastUPS1_04 didn't have three peptides for P08263ups|GSTA1_HUMAN_UPS\n",
      "YeastUPS1_04 didn't have three peptides for P10145ups|IL8_HUMAN_UPS\n",
      "YeastUPS1_04 didn't have three peptides for P15559ups|NQO1_HUMAN_UPS\n",
      "YeastUPS1_04 didn't have three peptides for P51965ups|UB2E1_HUMAN_UPS\n",
      "YeastUPS1_04 didn't have three peptides for P61626ups|LYSC_HUMAN_UPS\n",
      "YeastUPS1_04 didn't have three peptides for P61769ups|B2MG_HUMAN_UPS\n",
      "YeastUPS1_04 didn't have three peptides for P62988ups|UBIQ_HUMAN_UPS\n",
      "YeastUPS1_04 didn't have three peptides for Q15843ups|NEDD8_HUMAN_UPS\n",
      "YeastUPS1_05 didn't have three peptides for P01031ups|CO5_HUMAN_UPS\n",
      "YeastUPS1_05 didn't have three peptides for P01127ups|PDGFB_HUMAN_UPS\n",
      "YeastUPS1_05 didn't have three peptides for P01133ups|EGF_HUMAN_UPS\n",
      "YeastUPS1_05 didn't have three peptides for P01344ups|IGF2_HUMAN_UPS\n",
      "YeastUPS1_05 didn't have three peptides for P01375ups|TNFA_HUMAN_UPS\n",
      "YeastUPS1_05 didn't have three peptides for P02741ups|CRP_HUMAN_UPS\n",
      "YeastUPS1_05 didn't have three peptides for P02753ups|RETBP_HUMAN_UPS\n",
      "YeastUPS1_05 didn't have three peptides for P08263ups|GSTA1_HUMAN_UPS\n",
      "YeastUPS1_05 didn't have three peptides for P10145ups|IL8_HUMAN_UPS\n",
      "YeastUPS1_05 didn't have three peptides for P15559ups|NQO1_HUMAN_UPS\n",
      "YeastUPS1_05 didn't have three peptides for P51965ups|UB2E1_HUMAN_UPS\n",
      "YeastUPS1_05 didn't have three peptides for P61769ups|B2MG_HUMAN_UPS\n",
      "YeastUPS1_05 didn't have three peptides for P62988ups|UBIQ_HUMAN_UPS\n",
      "YeastUPS1_05 didn't have three peptides for Q15843ups|NEDD8_HUMAN_UPS\n",
      "YeastUPS1_06 didn't have three peptides for P01031ups|CO5_HUMAN_UPS\n",
      "YeastUPS1_06 didn't have three peptides for P01127ups|PDGFB_HUMAN_UPS\n",
      "YeastUPS1_06 didn't have three peptides for P01133ups|EGF_HUMAN_UPS\n",
      "YeastUPS1_06 didn't have three peptides for P01344ups|IGF2_HUMAN_UPS\n",
      "YeastUPS1_06 didn't have three peptides for P01375ups|TNFA_HUMAN_UPS\n",
      "YeastUPS1_06 didn't have three peptides for P02741ups|CRP_HUMAN_UPS\n",
      "YeastUPS1_06 didn't have three peptides for P02753ups|RETBP_HUMAN_UPS\n",
      "YeastUPS1_06 didn't have three peptides for P10145ups|IL8_HUMAN_UPS\n",
      "YeastUPS1_06 didn't have three peptides for P10599ups|THIO_HUMAN_UPS\n",
      "YeastUPS1_06 didn't have three peptides for P15559ups|NQO1_HUMAN_UPS\n",
      "YeastUPS1_06 didn't have three peptides for P51965ups|UB2E1_HUMAN_UPS\n",
      "YeastUPS1_06 didn't have three peptides for P61769ups|B2MG_HUMAN_UPS\n",
      "YeastUPS1_06 didn't have three peptides for P62988ups|UBIQ_HUMAN_UPS\n",
      "YeastUPS1_06 didn't have three peptides for Q15843ups|NEDD8_HUMAN_UPS\n",
      "YeastUPS1_07 didn't have three peptides for P01031ups|CO5_HUMAN_UPS\n",
      "YeastUPS1_07 didn't have three peptides for P01127ups|PDGFB_HUMAN_UPS\n",
      "YeastUPS1_07 didn't have three peptides for P01133ups|EGF_HUMAN_UPS\n",
      "YeastUPS1_07 didn't have three peptides for P01344ups|IGF2_HUMAN_UPS\n",
      "YeastUPS1_07 didn't have three peptides for P02741ups|CRP_HUMAN_UPS\n",
      "YeastUPS1_07 didn't have three peptides for P08263ups|GSTA1_HUMAN_UPS\n",
      "YeastUPS1_07 didn't have three peptides for P10145ups|IL8_HUMAN_UPS\n",
      "YeastUPS1_07 didn't have three peptides for P10599ups|THIO_HUMAN_UPS\n",
      "YeastUPS1_07 didn't have three peptides for P15559ups|NQO1_HUMAN_UPS\n",
      "YeastUPS1_07 didn't have three peptides for P61769ups|B2MG_HUMAN_UPS\n",
      "YeastUPS1_07 didn't have three peptides for P62988ups|UBIQ_HUMAN_UPS\n",
      "YeastUPS1_07 didn't have three peptides for P63165ups|SUMO1_HUMAN_UPS\n",
      "YeastUPS1_07 didn't have three peptides for Q15843ups|NEDD8_HUMAN_UPS\n",
      "YeastUPS1_08 didn't have three peptides for P01031ups|CO5_HUMAN_UPS\n",
      "YeastUPS1_08 didn't have three peptides for P01133ups|EGF_HUMAN_UPS\n",
      "YeastUPS1_08 didn't have three peptides for P01344ups|IGF2_HUMAN_UPS\n",
      "YeastUPS1_08 didn't have three peptides for P01375ups|TNFA_HUMAN_UPS\n",
      "YeastUPS1_08 didn't have three peptides for P02741ups|CRP_HUMAN_UPS\n",
      "YeastUPS1_08 didn't have three peptides for P02753ups|RETBP_HUMAN_UPS\n",
      "YeastUPS1_08 didn't have three peptides for P08263ups|GSTA1_HUMAN_UPS\n",
      "YeastUPS1_08 didn't have three peptides for P10145ups|IL8_HUMAN_UPS\n",
      "YeastUPS1_08 didn't have three peptides for P10599ups|THIO_HUMAN_UPS\n",
      "YeastUPS1_08 didn't have three peptides for P15559ups|NQO1_HUMAN_UPS\n",
      "YeastUPS1_08 didn't have three peptides for P51965ups|UB2E1_HUMAN_UPS\n",
      "YeastUPS1_08 didn't have three peptides for P61769ups|B2MG_HUMAN_UPS\n",
      "YeastUPS1_08 didn't have three peptides for P62937ups|PPIA_HUMAN_UPS\n",
      "YeastUPS1_08 didn't have three peptides for P62988ups|UBIQ_HUMAN_UPS\n",
      "YeastUPS1_08 didn't have three peptides for P63279ups|UBC9_HUMAN_UPS\n",
      "YeastUPS1_08 didn't have three peptides for Q15843ups|NEDD8_HUMAN_UPS\n",
      "YeastUPS1_09 didn't have three peptides for P01127ups|PDGFB_HUMAN_UPS\n",
      "YeastUPS1_09 didn't have three peptides for P01344ups|IGF2_HUMAN_UPS\n",
      "YeastUPS1_09 didn't have three peptides for P01375ups|TNFA_HUMAN_UPS\n",
      "YeastUPS1_09 didn't have three peptides for P02741ups|CRP_HUMAN_UPS\n",
      "YeastUPS1_09 didn't have three peptides for P02753ups|RETBP_HUMAN_UPS\n",
      "YeastUPS1_09 didn't have three peptides for P10145ups|IL8_HUMAN_UPS\n",
      "YeastUPS1_09 didn't have three peptides for P10599ups|THIO_HUMAN_UPS\n",
      "YeastUPS1_09 didn't have three peptides for P15559ups|NQO1_HUMAN_UPS\n",
      "YeastUPS1_09 didn't have three peptides for P51965ups|UB2E1_HUMAN_UPS\n",
      "YeastUPS1_09 didn't have three peptides for P61626ups|LYSC_HUMAN_UPS\n",
      "YeastUPS1_09 didn't have three peptides for P61769ups|B2MG_HUMAN_UPS\n",
      "YeastUPS1_09 didn't have three peptides for P62988ups|UBIQ_HUMAN_UPS\n",
      "YeastUPS1_09 didn't have three peptides for P63165ups|SUMO1_HUMAN_UPS\n",
      "YeastUPS1_09 didn't have three peptides for P69905ups|HBA_HUMAN_UPS\n",
      "YeastUPS1_09 didn't have three peptides for Q15843ups|NEDD8_HUMAN_UPS\n",
      "YeastUPS1_10 didn't have three peptides for P01031ups|CO5_HUMAN_UPS\n",
      "YeastUPS1_10 didn't have three peptides for P01127ups|PDGFB_HUMAN_UPS\n",
      "YeastUPS1_10 didn't have three peptides for P01133ups|EGF_HUMAN_UPS\n",
      "YeastUPS1_10 didn't have three peptides for P01344ups|IGF2_HUMAN_UPS\n",
      "YeastUPS1_10 didn't have three peptides for P02741ups|CRP_HUMAN_UPS\n",
      "YeastUPS1_10 didn't have three peptides for P02753ups|RETBP_HUMAN_UPS\n",
      "YeastUPS1_10 didn't have three peptides for P08263ups|GSTA1_HUMAN_UPS\n",
      "YeastUPS1_10 didn't have three peptides for P10145ups|IL8_HUMAN_UPS\n",
      "YeastUPS1_10 didn't have three peptides for P10599ups|THIO_HUMAN_UPS\n",
      "YeastUPS1_10 didn't have three peptides for P15559ups|NQO1_HUMAN_UPS\n",
      "YeastUPS1_10 didn't have three peptides for P51965ups|UB2E1_HUMAN_UPS\n",
      "YeastUPS1_10 didn't have three peptides for P61769ups|B2MG_HUMAN_UPS\n",
      "YeastUPS1_10 didn't have three peptides for P62988ups|UBIQ_HUMAN_UPS\n",
      "YeastUPS1_10 didn't have three peptides for P63165ups|SUMO1_HUMAN_UPS\n",
      "YeastUPS1_10 didn't have three peptides for P63279ups|UBC9_HUMAN_UPS\n",
      "YeastUPS1_10 didn't have three peptides for Q15843ups|NEDD8_HUMAN_UPS\n"
     ]
    }
   ],
   "source": [
    "# find the three most intense peptides for each protein\n",
    "top3_l = []\n",
    "for group_name,group_df in identifications_UPS1_without_cs_df.groupby(['short_run_name','protein id']):\n",
    "    short_run_name = group_name[0]\n",
    "    protein_name = group_name[1]\n",
    "    df = group_df.sort_values(by=['feature_intensity'], ascending=False, inplace=False)\n",
    "    top3_df = df.head(n=3)\n",
    "    if len(top3_df) == 3:\n",
    "        uniprot_id = protein_name.split('ups')[0]\n",
    "        pmoles = ups1_d[uniprot_id] / 1000\n",
    "        average_intensity = top3_df.feature_intensity.mean()\n",
    "        signal_response_factor = average_intensity / pmoles\n",
    "        peptide_count = len(df)\n",
    "        attribs_d = top3_df[['feature_id','sequence','charge','feature_intensity']].to_dict('records')\n",
    "        top3_l.append({'short_run_name':short_run_name,'protein':protein_name, 'pmoles':pmoles, 'average_intensity':average_intensity, 'signal_response_factor':signal_response_factor, 'peptide_count':peptide_count, 'attribs_d':attribs_d})\n",
    "    else:\n",
    "        print('{} didn\\'t have three peptides for {}'.format(short_run_name, protein_name))\n",
    "top3_UPS1_without_df = pd.DataFrame(top3_l)"
   ]
  },
  {
   "cell_type": "code",
   "execution_count": 52,
   "metadata": {},
   "outputs": [
    {
     "data": {
      "text/plain": [
       "38"
      ]
     },
     "execution_count": 52,
     "metadata": {},
     "output_type": "execute_result"
    }
   ],
   "source": [
    "len(top3_UPS1_without_df.protein.unique())"
   ]
  },
  {
   "cell_type": "code",
   "execution_count": 53,
   "metadata": {},
   "outputs": [
    {
     "data": {
      "text/plain": [
       "7752.2"
      ]
     },
     "execution_count": 53,
     "metadata": {},
     "output_type": "execute_result"
    }
   ],
   "source": [
    "# using Serum albumin (P02768) as an internal reference\n",
    "universal_signal_response_factor = top3_UPS1_without_df[top3_UPS1_without_df.protein.str.startswith('P02768')].iloc[0].signal_response_factor\n",
    "universal_signal_response_factor"
   ]
  },
  {
   "cell_type": "code",
   "execution_count": 54,
   "metadata": {},
   "outputs": [],
   "source": [
    "top3_UPS1_without_df['calculated_pmoles'] = top3_UPS1_without_df.average_intensity / universal_signal_response_factor"
   ]
  },
  {
   "cell_type": "code",
   "execution_count": 55,
   "metadata": {},
   "outputs": [
    {
     "data": {
      "text/plain": [
       "0.7508937650556523"
      ]
     },
     "execution_count": 55,
     "metadata": {},
     "output_type": "execute_result"
    }
   ],
   "source": [
    "# calculate the CV for the signal response factor\n",
    "cv = top3_UPS1_without_df.signal_response_factor.std() / top3_UPS1_without_df.signal_response_factor.mean()\n",
    "cv"
   ]
  },
  {
   "cell_type": "markdown",
   "metadata": {},
   "source": [
    "#### calculate correlation"
   ]
  },
  {
   "cell_type": "code",
   "execution_count": 56,
   "metadata": {},
   "outputs": [],
   "source": [
    "combined_UPS1_df = pd.merge(top3_UPS1_with_df, top3_UPS1_without_df, how='inner', left_on=['short_run_name','protein'], right_on=['short_run_name','protein'], suffixes=['_with','_without'])"
   ]
  },
  {
   "cell_type": "code",
   "execution_count": 57,
   "metadata": {},
   "outputs": [],
   "source": [
    "universal_signal_response_factor_with = combined_UPS1_df[combined_UPS1_df.protein.str.startswith('P02768')].iloc[0].signal_response_factor_with\n",
    "universal_signal_response_factor_without = combined_UPS1_df[combined_UPS1_df.protein.str.startswith('P02768')].iloc[0].signal_response_factor_without"
   ]
  },
  {
   "cell_type": "code",
   "execution_count": 58,
   "metadata": {},
   "outputs": [],
   "source": [
    "combined_UPS1_df['calculated_pmoles_with'] = combined_UPS1_df.average_intensity_with / universal_signal_response_factor_with\n",
    "combined_UPS1_df['calculated_pmoles_without'] = combined_UPS1_df.average_intensity_without / universal_signal_response_factor_without"
   ]
  },
  {
   "cell_type": "code",
   "execution_count": 59,
   "metadata": {},
   "outputs": [
    {
     "data": {
      "text/plain": [
       "nan"
      ]
     },
     "execution_count": 59,
     "metadata": {},
     "output_type": "execute_result"
    }
   ],
   "source": [
    "combined_UPS1_df['pmoles_with'].corr(combined_UPS1_df['calculated_pmoles_with'])"
   ]
  },
  {
   "cell_type": "code",
   "execution_count": 60,
   "metadata": {},
   "outputs": [
    {
     "data": {
      "text/plain": [
       "nan"
      ]
     },
     "execution_count": 60,
     "metadata": {},
     "output_type": "execute_result"
    }
   ],
   "source": [
    "combined_UPS1_df['pmoles_without'].corr(combined_UPS1_df['calculated_pmoles_without'])"
   ]
  },
  {
   "cell_type": "markdown",
   "metadata": {},
   "source": [
    "#### calculate experiment intensity means for each protein"
   ]
  },
  {
   "cell_type": "code",
   "execution_count": 61,
   "metadata": {},
   "outputs": [],
   "source": [
    "experiment_means_l = []\n",
    "for group_name,group_df in combined_UPS1_df.groupby(['protein']):\n",
    "    if len(group_df.short_run_name.unique()) >= PROTEIN_APPEARS_IN_REPLICATES:\n",
    "        mean_intensity_with = group_df.average_intensity_with.mean()\n",
    "        mean_intensity_without = group_df.average_intensity_without.mean()\n",
    "        experiment_means_l.append({'protein':group_name, 'mean_intensity_with':mean_intensity_with, 'mean_intensity_without':mean_intensity_without})\n",
    "experiment_UPS1_means_df = pd.DataFrame(experiment_means_l)"
   ]
  },
  {
   "cell_type": "code",
   "execution_count": 62,
   "metadata": {},
   "outputs": [
    {
     "data": {
      "text/html": [
       "<div>\n",
       "<style scoped>\n",
       "    .dataframe tbody tr th:only-of-type {\n",
       "        vertical-align: middle;\n",
       "    }\n",
       "\n",
       "    .dataframe tbody tr th {\n",
       "        vertical-align: top;\n",
       "    }\n",
       "\n",
       "    .dataframe thead th {\n",
       "        text-align: right;\n",
       "    }\n",
       "</style>\n",
       "<table border=\"1\" class=\"dataframe\">\n",
       "  <thead>\n",
       "    <tr style=\"text-align: right;\">\n",
       "      <th></th>\n",
       "      <th>protein</th>\n",
       "      <th>mean_intensity_with</th>\n",
       "      <th>mean_intensity_without</th>\n",
       "    </tr>\n",
       "  </thead>\n",
       "  <tbody>\n",
       "    <tr>\n",
       "      <th>0</th>\n",
       "      <td>O00762ups|UBE2C_HUMAN_UPS</td>\n",
       "      <td>6686.800000</td>\n",
       "      <td>6686.800000</td>\n",
       "    </tr>\n",
       "    <tr>\n",
       "      <th>1</th>\n",
       "      <td>O76070ups|SYUG_HUMAN_UPS</td>\n",
       "      <td>29807.666667</td>\n",
       "      <td>28311.600000</td>\n",
       "    </tr>\n",
       "    <tr>\n",
       "      <th>2</th>\n",
       "      <td>P00167ups|CYB5_HUMAN_UPS</td>\n",
       "      <td>13589.433333</td>\n",
       "      <td>13353.500000</td>\n",
       "    </tr>\n",
       "    <tr>\n",
       "      <th>3</th>\n",
       "      <td>P00441ups|SODC_HUMAN_UPS</td>\n",
       "      <td>31555.100000</td>\n",
       "      <td>31348.800000</td>\n",
       "    </tr>\n",
       "    <tr>\n",
       "      <th>4</th>\n",
       "      <td>P00709ups|LALBA_HUMAN_UPS</td>\n",
       "      <td>11007.592593</td>\n",
       "      <td>10376.000000</td>\n",
       "    </tr>\n",
       "    <tr>\n",
       "      <th>5</th>\n",
       "      <td>P00915ups|CAH1_HUMAN_UPS</td>\n",
       "      <td>10763.366667</td>\n",
       "      <td>10606.300000</td>\n",
       "    </tr>\n",
       "    <tr>\n",
       "      <th>6</th>\n",
       "      <td>P00918ups|CAH2_HUMAN_UPS</td>\n",
       "      <td>20947.033333</td>\n",
       "      <td>20069.366667</td>\n",
       "    </tr>\n",
       "    <tr>\n",
       "      <th>7</th>\n",
       "      <td>P01008ups|ANT3_HUMAN_UPS</td>\n",
       "      <td>12788.400000</td>\n",
       "      <td>12748.000000</td>\n",
       "    </tr>\n",
       "    <tr>\n",
       "      <th>8</th>\n",
       "      <td>P01031ups|CO5_HUMAN_UPS</td>\n",
       "      <td>14329.250000</td>\n",
       "      <td>11577.500000</td>\n",
       "    </tr>\n",
       "    <tr>\n",
       "      <th>9</th>\n",
       "      <td>P01112ups|RASH_HUMAN_UPS</td>\n",
       "      <td>4987.366667</td>\n",
       "      <td>4987.366667</td>\n",
       "    </tr>\n",
       "    <tr>\n",
       "      <th>10</th>\n",
       "      <td>P01127ups|PDGFB_HUMAN_UPS</td>\n",
       "      <td>3463.888889</td>\n",
       "      <td>3463.888889</td>\n",
       "    </tr>\n",
       "    <tr>\n",
       "      <th>11</th>\n",
       "      <td>P01375ups|TNFA_HUMAN_UPS</td>\n",
       "      <td>4933.666667</td>\n",
       "      <td>4933.666667</td>\n",
       "    </tr>\n",
       "    <tr>\n",
       "      <th>12</th>\n",
       "      <td>P01579ups|IFNG_HUMAN_UPS</td>\n",
       "      <td>4889.166667</td>\n",
       "      <td>4889.166667</td>\n",
       "    </tr>\n",
       "    <tr>\n",
       "      <th>13</th>\n",
       "      <td>P02144ups|MYG_HUMAN_UPS</td>\n",
       "      <td>7621.466667</td>\n",
       "      <td>7621.466667</td>\n",
       "    </tr>\n",
       "    <tr>\n",
       "      <th>14</th>\n",
       "      <td>P02753ups|RETBP_HUMAN_UPS</td>\n",
       "      <td>4968.888889</td>\n",
       "      <td>4968.888889</td>\n",
       "    </tr>\n",
       "    <tr>\n",
       "      <th>15</th>\n",
       "      <td>P02768ups|ALBU_HUMAN_UPS</td>\n",
       "      <td>60370.300000</td>\n",
       "      <td>42274.200000</td>\n",
       "    </tr>\n",
       "    <tr>\n",
       "      <th>16</th>\n",
       "      <td>P02787ups|TRFE_HUMAN_UPS</td>\n",
       "      <td>30998.533333</td>\n",
       "      <td>26630.166667</td>\n",
       "    </tr>\n",
       "    <tr>\n",
       "      <th>17</th>\n",
       "      <td>P02788ups|TRFL_HUMAN_UPS</td>\n",
       "      <td>15937.366667</td>\n",
       "      <td>15795.666667</td>\n",
       "    </tr>\n",
       "    <tr>\n",
       "      <th>18</th>\n",
       "      <td>P04040ups|CATA_HUMAN_UPS</td>\n",
       "      <td>46675.933333</td>\n",
       "      <td>40603.333333</td>\n",
       "    </tr>\n",
       "    <tr>\n",
       "      <th>19</th>\n",
       "      <td>P05413ups|FABPH_HUMAN_UPS</td>\n",
       "      <td>11467.100000</td>\n",
       "      <td>10691.933333</td>\n",
       "    </tr>\n",
       "    <tr>\n",
       "      <th>20</th>\n",
       "      <td>P06396ups|GELS_HUMAN_UPS</td>\n",
       "      <td>18008.666667</td>\n",
       "      <td>16227.833333</td>\n",
       "    </tr>\n",
       "    <tr>\n",
       "      <th>21</th>\n",
       "      <td>P06732ups|KCRM_HUMAN_UPS</td>\n",
       "      <td>13010.800000</td>\n",
       "      <td>13010.800000</td>\n",
       "    </tr>\n",
       "    <tr>\n",
       "      <th>22</th>\n",
       "      <td>P08263ups|GSTA1_HUMAN_UPS</td>\n",
       "      <td>2895.666667</td>\n",
       "      <td>2895.666667</td>\n",
       "    </tr>\n",
       "    <tr>\n",
       "      <th>23</th>\n",
       "      <td>P08758ups|ANXA5_HUMAN_UPS</td>\n",
       "      <td>35147.533333</td>\n",
       "      <td>32618.833333</td>\n",
       "    </tr>\n",
       "    <tr>\n",
       "      <th>24</th>\n",
       "      <td>P09211ups|GSTP1_HUMAN_UPS</td>\n",
       "      <td>8945.266667</td>\n",
       "      <td>8945.266667</td>\n",
       "    </tr>\n",
       "    <tr>\n",
       "      <th>25</th>\n",
       "      <td>P10636-8ups|TAU_HUMAN_UPS</td>\n",
       "      <td>21204.833333</td>\n",
       "      <td>20454.133333</td>\n",
       "    </tr>\n",
       "    <tr>\n",
       "      <th>26</th>\n",
       "      <td>P12081ups|SYHC_HUMAN_UPS</td>\n",
       "      <td>17257.300000</td>\n",
       "      <td>17257.300000</td>\n",
       "    </tr>\n",
       "    <tr>\n",
       "      <th>27</th>\n",
       "      <td>P16083ups|NQO2_HUMAN_UPS</td>\n",
       "      <td>5471.766667</td>\n",
       "      <td>5471.766667</td>\n",
       "    </tr>\n",
       "    <tr>\n",
       "      <th>28</th>\n",
       "      <td>P41159ups|LEP_HUMAN_UPS</td>\n",
       "      <td>12029.533333</td>\n",
       "      <td>11717.966667</td>\n",
       "    </tr>\n",
       "    <tr>\n",
       "      <th>29</th>\n",
       "      <td>P51965ups|UB2E1_HUMAN_UPS</td>\n",
       "      <td>1861.000000</td>\n",
       "      <td>1861.000000</td>\n",
       "    </tr>\n",
       "    <tr>\n",
       "      <th>30</th>\n",
       "      <td>P55957ups|BID_HUMAN_UPS</td>\n",
       "      <td>11226.566667</td>\n",
       "      <td>11177.866667</td>\n",
       "    </tr>\n",
       "    <tr>\n",
       "      <th>31</th>\n",
       "      <td>P62937ups|PPIA_HUMAN_UPS</td>\n",
       "      <td>2470.333333</td>\n",
       "      <td>2470.333333</td>\n",
       "    </tr>\n",
       "    <tr>\n",
       "      <th>32</th>\n",
       "      <td>P63165ups|SUMO1_HUMAN_UPS</td>\n",
       "      <td>2254.111111</td>\n",
       "      <td>2254.111111</td>\n",
       "    </tr>\n",
       "    <tr>\n",
       "      <th>33</th>\n",
       "      <td>P63279ups|UBC9_HUMAN_UPS</td>\n",
       "      <td>2987.523810</td>\n",
       "      <td>2987.523810</td>\n",
       "    </tr>\n",
       "    <tr>\n",
       "      <th>34</th>\n",
       "      <td>P68871ups|HBB_HUMAN_UPS</td>\n",
       "      <td>10935.433333</td>\n",
       "      <td>10774.700000</td>\n",
       "    </tr>\n",
       "    <tr>\n",
       "      <th>35</th>\n",
       "      <td>P69905ups|HBA_HUMAN_UPS</td>\n",
       "      <td>4414.916667</td>\n",
       "      <td>4414.916667</td>\n",
       "    </tr>\n",
       "    <tr>\n",
       "      <th>36</th>\n",
       "      <td>P99999ups|CYC_HUMAN_UPS</td>\n",
       "      <td>4317.566667</td>\n",
       "      <td>4317.566667</td>\n",
       "    </tr>\n",
       "    <tr>\n",
       "      <th>37</th>\n",
       "      <td>Q06830ups|PRDX1_HUMAN_UPS</td>\n",
       "      <td>9345.400000</td>\n",
       "      <td>9329.000000</td>\n",
       "    </tr>\n",
       "  </tbody>\n",
       "</table>\n",
       "</div>"
      ],
      "text/plain": [
       "                      protein  mean_intensity_with  mean_intensity_without\n",
       "0   O00762ups|UBE2C_HUMAN_UPS          6686.800000             6686.800000\n",
       "1    O76070ups|SYUG_HUMAN_UPS         29807.666667            28311.600000\n",
       "2    P00167ups|CYB5_HUMAN_UPS         13589.433333            13353.500000\n",
       "3    P00441ups|SODC_HUMAN_UPS         31555.100000            31348.800000\n",
       "4   P00709ups|LALBA_HUMAN_UPS         11007.592593            10376.000000\n",
       "5    P00915ups|CAH1_HUMAN_UPS         10763.366667            10606.300000\n",
       "6    P00918ups|CAH2_HUMAN_UPS         20947.033333            20069.366667\n",
       "7    P01008ups|ANT3_HUMAN_UPS         12788.400000            12748.000000\n",
       "8     P01031ups|CO5_HUMAN_UPS         14329.250000            11577.500000\n",
       "9    P01112ups|RASH_HUMAN_UPS          4987.366667             4987.366667\n",
       "10  P01127ups|PDGFB_HUMAN_UPS          3463.888889             3463.888889\n",
       "11   P01375ups|TNFA_HUMAN_UPS          4933.666667             4933.666667\n",
       "12   P01579ups|IFNG_HUMAN_UPS          4889.166667             4889.166667\n",
       "13    P02144ups|MYG_HUMAN_UPS          7621.466667             7621.466667\n",
       "14  P02753ups|RETBP_HUMAN_UPS          4968.888889             4968.888889\n",
       "15   P02768ups|ALBU_HUMAN_UPS         60370.300000            42274.200000\n",
       "16   P02787ups|TRFE_HUMAN_UPS         30998.533333            26630.166667\n",
       "17   P02788ups|TRFL_HUMAN_UPS         15937.366667            15795.666667\n",
       "18   P04040ups|CATA_HUMAN_UPS         46675.933333            40603.333333\n",
       "19  P05413ups|FABPH_HUMAN_UPS         11467.100000            10691.933333\n",
       "20   P06396ups|GELS_HUMAN_UPS         18008.666667            16227.833333\n",
       "21   P06732ups|KCRM_HUMAN_UPS         13010.800000            13010.800000\n",
       "22  P08263ups|GSTA1_HUMAN_UPS          2895.666667             2895.666667\n",
       "23  P08758ups|ANXA5_HUMAN_UPS         35147.533333            32618.833333\n",
       "24  P09211ups|GSTP1_HUMAN_UPS          8945.266667             8945.266667\n",
       "25  P10636-8ups|TAU_HUMAN_UPS         21204.833333            20454.133333\n",
       "26   P12081ups|SYHC_HUMAN_UPS         17257.300000            17257.300000\n",
       "27   P16083ups|NQO2_HUMAN_UPS          5471.766667             5471.766667\n",
       "28    P41159ups|LEP_HUMAN_UPS         12029.533333            11717.966667\n",
       "29  P51965ups|UB2E1_HUMAN_UPS          1861.000000             1861.000000\n",
       "30    P55957ups|BID_HUMAN_UPS         11226.566667            11177.866667\n",
       "31   P62937ups|PPIA_HUMAN_UPS          2470.333333             2470.333333\n",
       "32  P63165ups|SUMO1_HUMAN_UPS          2254.111111             2254.111111\n",
       "33   P63279ups|UBC9_HUMAN_UPS          2987.523810             2987.523810\n",
       "34    P68871ups|HBB_HUMAN_UPS         10935.433333            10774.700000\n",
       "35    P69905ups|HBA_HUMAN_UPS          4414.916667             4414.916667\n",
       "36    P99999ups|CYC_HUMAN_UPS          4317.566667             4317.566667\n",
       "37  Q06830ups|PRDX1_HUMAN_UPS          9345.400000             9329.000000"
      ]
     },
     "execution_count": 62,
     "metadata": {},
     "output_type": "execute_result"
    }
   ],
   "source": [
    "experiment_UPS1_means_df"
   ]
  },
  {
   "cell_type": "markdown",
   "metadata": {},
   "source": [
    "### compare relative intensities of top-3 peptides for each protein found in common in UPS2 and UPS1"
   ]
  },
  {
   "cell_type": "code",
   "execution_count": 63,
   "metadata": {},
   "outputs": [],
   "source": [
    "ratios_df = pd.merge(experiment_UPS2_means_df, experiment_UPS1_means_df, how='inner', left_on=['protein'], right_on=['protein'], suffixes=['_UPS2','_UPS1'])\n"
   ]
  },
  {
   "cell_type": "code",
   "execution_count": 64,
   "metadata": {},
   "outputs": [],
   "source": [
    "ratios_df['ratio_with'] = ratios_df.mean_intensity_with_UPS2 / ratios_df.mean_intensity_with_UPS1\n",
    "ratios_df['ratio_without'] = ratios_df.mean_intensity_without_UPS2 / ratios_df.mean_intensity_without_UPS1"
   ]
  },
  {
   "cell_type": "code",
   "execution_count": 65,
   "metadata": {},
   "outputs": [
    {
     "data": {
      "text/html": [
       "<div>\n",
       "<style scoped>\n",
       "    .dataframe tbody tr th:only-of-type {\n",
       "        vertical-align: middle;\n",
       "    }\n",
       "\n",
       "    .dataframe tbody tr th {\n",
       "        vertical-align: top;\n",
       "    }\n",
       "\n",
       "    .dataframe thead th {\n",
       "        text-align: right;\n",
       "    }\n",
       "</style>\n",
       "<table border=\"1\" class=\"dataframe\">\n",
       "  <thead>\n",
       "    <tr style=\"text-align: right;\">\n",
       "      <th></th>\n",
       "      <th>protein</th>\n",
       "      <th>mean_intensity_with_UPS2</th>\n",
       "      <th>mean_intensity_without_UPS2</th>\n",
       "      <th>mean_intensity_with_UPS1</th>\n",
       "      <th>mean_intensity_without_UPS1</th>\n",
       "      <th>ratio_with</th>\n",
       "      <th>ratio_without</th>\n",
       "    </tr>\n",
       "  </thead>\n",
       "  <tbody>\n",
       "    <tr>\n",
       "      <th>0</th>\n",
       "      <td>P00167ups|CYB5_HUMAN_UPS</td>\n",
       "      <td>9305.958333</td>\n",
       "      <td>9305.958333</td>\n",
       "      <td>13589.433333</td>\n",
       "      <td>13353.500000</td>\n",
       "      <td>0.684794</td>\n",
       "      <td>0.696893</td>\n",
       "    </tr>\n",
       "    <tr>\n",
       "      <th>1</th>\n",
       "      <td>P00915ups|CAH1_HUMAN_UPS</td>\n",
       "      <td>55278.433333</td>\n",
       "      <td>49377.433333</td>\n",
       "      <td>10763.366667</td>\n",
       "      <td>10606.300000</td>\n",
       "      <td>5.135794</td>\n",
       "      <td>4.655481</td>\n",
       "    </tr>\n",
       "    <tr>\n",
       "      <th>2</th>\n",
       "      <td>P00918ups|CAH2_HUMAN_UPS</td>\n",
       "      <td>58185.533333</td>\n",
       "      <td>49245.766667</td>\n",
       "      <td>20947.033333</td>\n",
       "      <td>20069.366667</td>\n",
       "      <td>2.777746</td>\n",
       "      <td>2.453778</td>\n",
       "    </tr>\n",
       "    <tr>\n",
       "      <th>3</th>\n",
       "      <td>P01031ups|CO5_HUMAN_UPS</td>\n",
       "      <td>34252.866667</td>\n",
       "      <td>21014.100000</td>\n",
       "      <td>14329.250000</td>\n",
       "      <td>11577.500000</td>\n",
       "      <td>2.390416</td>\n",
       "      <td>1.815081</td>\n",
       "    </tr>\n",
       "    <tr>\n",
       "      <th>4</th>\n",
       "      <td>P02144ups|MYG_HUMAN_UPS</td>\n",
       "      <td>6245.833333</td>\n",
       "      <td>6245.833333</td>\n",
       "      <td>7621.466667</td>\n",
       "      <td>7621.466667</td>\n",
       "      <td>0.819505</td>\n",
       "      <td>0.819505</td>\n",
       "    </tr>\n",
       "    <tr>\n",
       "      <th>5</th>\n",
       "      <td>P02768ups|ALBU_HUMAN_UPS</td>\n",
       "      <td>120906.866667</td>\n",
       "      <td>91316.133333</td>\n",
       "      <td>60370.300000</td>\n",
       "      <td>42274.200000</td>\n",
       "      <td>2.002754</td>\n",
       "      <td>2.160091</td>\n",
       "    </tr>\n",
       "    <tr>\n",
       "      <th>6</th>\n",
       "      <td>P04040ups|CATA_HUMAN_UPS</td>\n",
       "      <td>44455.500000</td>\n",
       "      <td>36880.266667</td>\n",
       "      <td>46675.933333</td>\n",
       "      <td>40603.333333</td>\n",
       "      <td>0.952429</td>\n",
       "      <td>0.908306</td>\n",
       "    </tr>\n",
       "    <tr>\n",
       "      <th>7</th>\n",
       "      <td>P06732ups|KCRM_HUMAN_UPS</td>\n",
       "      <td>2403.000000</td>\n",
       "      <td>2403.000000</td>\n",
       "      <td>13010.800000</td>\n",
       "      <td>13010.800000</td>\n",
       "      <td>0.184693</td>\n",
       "      <td>0.184693</td>\n",
       "    </tr>\n",
       "    <tr>\n",
       "      <th>8</th>\n",
       "      <td>P12081ups|SYHC_HUMAN_UPS</td>\n",
       "      <td>2858.250000</td>\n",
       "      <td>2858.250000</td>\n",
       "      <td>17257.300000</td>\n",
       "      <td>17257.300000</td>\n",
       "      <td>0.165626</td>\n",
       "      <td>0.165626</td>\n",
       "    </tr>\n",
       "    <tr>\n",
       "      <th>9</th>\n",
       "      <td>P41159ups|LEP_HUMAN_UPS</td>\n",
       "      <td>35590.733333</td>\n",
       "      <td>32437.166667</td>\n",
       "      <td>12029.533333</td>\n",
       "      <td>11717.966667</td>\n",
       "      <td>2.958613</td>\n",
       "      <td>2.768157</td>\n",
       "    </tr>\n",
       "    <tr>\n",
       "      <th>10</th>\n",
       "      <td>P62937ups|PPIA_HUMAN_UPS</td>\n",
       "      <td>3899.933333</td>\n",
       "      <td>3899.933333</td>\n",
       "      <td>2470.333333</td>\n",
       "      <td>2470.333333</td>\n",
       "      <td>1.578707</td>\n",
       "      <td>1.578707</td>\n",
       "    </tr>\n",
       "    <tr>\n",
       "      <th>11</th>\n",
       "      <td>P63165ups|SUMO1_HUMAN_UPS</td>\n",
       "      <td>3048.866667</td>\n",
       "      <td>3048.866667</td>\n",
       "      <td>2254.111111</td>\n",
       "      <td>2254.111111</td>\n",
       "      <td>1.352580</td>\n",
       "      <td>1.352580</td>\n",
       "    </tr>\n",
       "    <tr>\n",
       "      <th>12</th>\n",
       "      <td>P68871ups|HBB_HUMAN_UPS</td>\n",
       "      <td>49136.866667</td>\n",
       "      <td>40182.733333</td>\n",
       "      <td>10935.433333</td>\n",
       "      <td>10774.700000</td>\n",
       "      <td>4.493363</td>\n",
       "      <td>3.729360</td>\n",
       "    </tr>\n",
       "    <tr>\n",
       "      <th>13</th>\n",
       "      <td>P69905ups|HBA_HUMAN_UPS</td>\n",
       "      <td>19276.433333</td>\n",
       "      <td>18843.000000</td>\n",
       "      <td>4414.916667</td>\n",
       "      <td>4414.916667</td>\n",
       "      <td>4.366205</td>\n",
       "      <td>4.268031</td>\n",
       "    </tr>\n",
       "    <tr>\n",
       "      <th>14</th>\n",
       "      <td>Q06830ups|PRDX1_HUMAN_UPS</td>\n",
       "      <td>8784.366667</td>\n",
       "      <td>8846.133333</td>\n",
       "      <td>9345.400000</td>\n",
       "      <td>9329.000000</td>\n",
       "      <td>0.939967</td>\n",
       "      <td>0.948240</td>\n",
       "    </tr>\n",
       "  </tbody>\n",
       "</table>\n",
       "</div>"
      ],
      "text/plain": [
       "                      protein  mean_intensity_with_UPS2  \\\n",
       "0    P00167ups|CYB5_HUMAN_UPS               9305.958333   \n",
       "1    P00915ups|CAH1_HUMAN_UPS              55278.433333   \n",
       "2    P00918ups|CAH2_HUMAN_UPS              58185.533333   \n",
       "3     P01031ups|CO5_HUMAN_UPS              34252.866667   \n",
       "4     P02144ups|MYG_HUMAN_UPS               6245.833333   \n",
       "5    P02768ups|ALBU_HUMAN_UPS             120906.866667   \n",
       "6    P04040ups|CATA_HUMAN_UPS              44455.500000   \n",
       "7    P06732ups|KCRM_HUMAN_UPS               2403.000000   \n",
       "8    P12081ups|SYHC_HUMAN_UPS               2858.250000   \n",
       "9     P41159ups|LEP_HUMAN_UPS              35590.733333   \n",
       "10   P62937ups|PPIA_HUMAN_UPS               3899.933333   \n",
       "11  P63165ups|SUMO1_HUMAN_UPS               3048.866667   \n",
       "12    P68871ups|HBB_HUMAN_UPS              49136.866667   \n",
       "13    P69905ups|HBA_HUMAN_UPS              19276.433333   \n",
       "14  Q06830ups|PRDX1_HUMAN_UPS               8784.366667   \n",
       "\n",
       "    mean_intensity_without_UPS2  mean_intensity_with_UPS1  \\\n",
       "0                   9305.958333              13589.433333   \n",
       "1                  49377.433333              10763.366667   \n",
       "2                  49245.766667              20947.033333   \n",
       "3                  21014.100000              14329.250000   \n",
       "4                   6245.833333               7621.466667   \n",
       "5                  91316.133333              60370.300000   \n",
       "6                  36880.266667              46675.933333   \n",
       "7                   2403.000000              13010.800000   \n",
       "8                   2858.250000              17257.300000   \n",
       "9                  32437.166667              12029.533333   \n",
       "10                  3899.933333               2470.333333   \n",
       "11                  3048.866667               2254.111111   \n",
       "12                 40182.733333              10935.433333   \n",
       "13                 18843.000000               4414.916667   \n",
       "14                  8846.133333               9345.400000   \n",
       "\n",
       "    mean_intensity_without_UPS1  ratio_with  ratio_without  \n",
       "0                  13353.500000    0.684794       0.696893  \n",
       "1                  10606.300000    5.135794       4.655481  \n",
       "2                  20069.366667    2.777746       2.453778  \n",
       "3                  11577.500000    2.390416       1.815081  \n",
       "4                   7621.466667    0.819505       0.819505  \n",
       "5                  42274.200000    2.002754       2.160091  \n",
       "6                  40603.333333    0.952429       0.908306  \n",
       "7                  13010.800000    0.184693       0.184693  \n",
       "8                  17257.300000    0.165626       0.165626  \n",
       "9                  11717.966667    2.958613       2.768157  \n",
       "10                  2470.333333    1.578707       1.578707  \n",
       "11                  2254.111111    1.352580       1.352580  \n",
       "12                 10774.700000    4.493363       3.729360  \n",
       "13                  4414.916667    4.366205       4.268031  \n",
       "14                  9329.000000    0.939967       0.948240  "
      ]
     },
     "execution_count": 65,
     "metadata": {},
     "output_type": "execute_result"
    }
   ],
   "source": [
    "ratios_df"
   ]
  },
  {
   "cell_type": "code",
   "execution_count": 66,
   "metadata": {},
   "outputs": [],
   "source": [
    "ratios_df['expected_ratio'] = ratios_df.apply(lambda row: (ups2_d[row.protein.split('ups')[0]] / 1000) / 5.0, axis=1)\n",
    "ratios_df['protein_code'] = ratios_df.apply(lambda row: row.protein.split('ups')[0], axis=1)"
   ]
  },
  {
   "cell_type": "code",
   "execution_count": 67,
   "metadata": {},
   "outputs": [],
   "source": [
    "ratios_df.sort_values(by=['expected_ratio'], ascending=False, inplace=True)"
   ]
  },
  {
   "cell_type": "code",
   "execution_count": 68,
   "metadata": {},
   "outputs": [
    {
     "data": {
      "text/html": [
       "<div>\n",
       "<style scoped>\n",
       "    .dataframe tbody tr th:only-of-type {\n",
       "        vertical-align: middle;\n",
       "    }\n",
       "\n",
       "    .dataframe tbody tr th {\n",
       "        vertical-align: top;\n",
       "    }\n",
       "\n",
       "    .dataframe thead th {\n",
       "        text-align: right;\n",
       "    }\n",
       "</style>\n",
       "<table border=\"1\" class=\"dataframe\">\n",
       "  <thead>\n",
       "    <tr style=\"text-align: right;\">\n",
       "      <th></th>\n",
       "      <th>protein</th>\n",
       "      <th>mean_intensity_with_UPS2</th>\n",
       "      <th>mean_intensity_without_UPS2</th>\n",
       "      <th>mean_intensity_with_UPS1</th>\n",
       "      <th>mean_intensity_without_UPS1</th>\n",
       "      <th>ratio_with</th>\n",
       "      <th>ratio_without</th>\n",
       "      <th>expected_ratio</th>\n",
       "      <th>protein_code</th>\n",
       "    </tr>\n",
       "  </thead>\n",
       "  <tbody>\n",
       "    <tr>\n",
       "      <th>1</th>\n",
       "      <td>P00915ups|CAH1_HUMAN_UPS</td>\n",
       "      <td>55278.433333</td>\n",
       "      <td>49377.433333</td>\n",
       "      <td>10763.366667</td>\n",
       "      <td>10606.300000</td>\n",
       "      <td>5.135794</td>\n",
       "      <td>4.655481</td>\n",
       "      <td>10.0</td>\n",
       "      <td>P00915</td>\n",
       "    </tr>\n",
       "    <tr>\n",
       "      <th>2</th>\n",
       "      <td>P00918ups|CAH2_HUMAN_UPS</td>\n",
       "      <td>58185.533333</td>\n",
       "      <td>49245.766667</td>\n",
       "      <td>20947.033333</td>\n",
       "      <td>20069.366667</td>\n",
       "      <td>2.777746</td>\n",
       "      <td>2.453778</td>\n",
       "      <td>10.0</td>\n",
       "      <td>P00918</td>\n",
       "    </tr>\n",
       "    <tr>\n",
       "      <th>3</th>\n",
       "      <td>P01031ups|CO5_HUMAN_UPS</td>\n",
       "      <td>34252.866667</td>\n",
       "      <td>21014.100000</td>\n",
       "      <td>14329.250000</td>\n",
       "      <td>11577.500000</td>\n",
       "      <td>2.390416</td>\n",
       "      <td>1.815081</td>\n",
       "      <td>10.0</td>\n",
       "      <td>P01031</td>\n",
       "    </tr>\n",
       "    <tr>\n",
       "      <th>5</th>\n",
       "      <td>P02768ups|ALBU_HUMAN_UPS</td>\n",
       "      <td>120906.866667</td>\n",
       "      <td>91316.133333</td>\n",
       "      <td>60370.300000</td>\n",
       "      <td>42274.200000</td>\n",
       "      <td>2.002754</td>\n",
       "      <td>2.160091</td>\n",
       "      <td>10.0</td>\n",
       "      <td>P02768</td>\n",
       "    </tr>\n",
       "    <tr>\n",
       "      <th>9</th>\n",
       "      <td>P41159ups|LEP_HUMAN_UPS</td>\n",
       "      <td>35590.733333</td>\n",
       "      <td>32437.166667</td>\n",
       "      <td>12029.533333</td>\n",
       "      <td>11717.966667</td>\n",
       "      <td>2.958613</td>\n",
       "      <td>2.768157</td>\n",
       "      <td>10.0</td>\n",
       "      <td>P41159</td>\n",
       "    </tr>\n",
       "    <tr>\n",
       "      <th>12</th>\n",
       "      <td>P68871ups|HBB_HUMAN_UPS</td>\n",
       "      <td>49136.866667</td>\n",
       "      <td>40182.733333</td>\n",
       "      <td>10935.433333</td>\n",
       "      <td>10774.700000</td>\n",
       "      <td>4.493363</td>\n",
       "      <td>3.729360</td>\n",
       "      <td>10.0</td>\n",
       "      <td>P68871</td>\n",
       "    </tr>\n",
       "    <tr>\n",
       "      <th>13</th>\n",
       "      <td>P69905ups|HBA_HUMAN_UPS</td>\n",
       "      <td>19276.433333</td>\n",
       "      <td>18843.000000</td>\n",
       "      <td>4414.916667</td>\n",
       "      <td>4414.916667</td>\n",
       "      <td>4.366205</td>\n",
       "      <td>4.268031</td>\n",
       "      <td>10.0</td>\n",
       "      <td>P69905</td>\n",
       "    </tr>\n",
       "    <tr>\n",
       "      <th>0</th>\n",
       "      <td>P00167ups|CYB5_HUMAN_UPS</td>\n",
       "      <td>9305.958333</td>\n",
       "      <td>9305.958333</td>\n",
       "      <td>13589.433333</td>\n",
       "      <td>13353.500000</td>\n",
       "      <td>0.684794</td>\n",
       "      <td>0.696893</td>\n",
       "      <td>1.0</td>\n",
       "      <td>P00167</td>\n",
       "    </tr>\n",
       "    <tr>\n",
       "      <th>4</th>\n",
       "      <td>P02144ups|MYG_HUMAN_UPS</td>\n",
       "      <td>6245.833333</td>\n",
       "      <td>6245.833333</td>\n",
       "      <td>7621.466667</td>\n",
       "      <td>7621.466667</td>\n",
       "      <td>0.819505</td>\n",
       "      <td>0.819505</td>\n",
       "      <td>1.0</td>\n",
       "      <td>P02144</td>\n",
       "    </tr>\n",
       "    <tr>\n",
       "      <th>6</th>\n",
       "      <td>P04040ups|CATA_HUMAN_UPS</td>\n",
       "      <td>44455.500000</td>\n",
       "      <td>36880.266667</td>\n",
       "      <td>46675.933333</td>\n",
       "      <td>40603.333333</td>\n",
       "      <td>0.952429</td>\n",
       "      <td>0.908306</td>\n",
       "      <td>1.0</td>\n",
       "      <td>P04040</td>\n",
       "    </tr>\n",
       "    <tr>\n",
       "      <th>10</th>\n",
       "      <td>P62937ups|PPIA_HUMAN_UPS</td>\n",
       "      <td>3899.933333</td>\n",
       "      <td>3899.933333</td>\n",
       "      <td>2470.333333</td>\n",
       "      <td>2470.333333</td>\n",
       "      <td>1.578707</td>\n",
       "      <td>1.578707</td>\n",
       "      <td>1.0</td>\n",
       "      <td>P62937</td>\n",
       "    </tr>\n",
       "    <tr>\n",
       "      <th>11</th>\n",
       "      <td>P63165ups|SUMO1_HUMAN_UPS</td>\n",
       "      <td>3048.866667</td>\n",
       "      <td>3048.866667</td>\n",
       "      <td>2254.111111</td>\n",
       "      <td>2254.111111</td>\n",
       "      <td>1.352580</td>\n",
       "      <td>1.352580</td>\n",
       "      <td>1.0</td>\n",
       "      <td>P63165</td>\n",
       "    </tr>\n",
       "    <tr>\n",
       "      <th>14</th>\n",
       "      <td>Q06830ups|PRDX1_HUMAN_UPS</td>\n",
       "      <td>8784.366667</td>\n",
       "      <td>8846.133333</td>\n",
       "      <td>9345.400000</td>\n",
       "      <td>9329.000000</td>\n",
       "      <td>0.939967</td>\n",
       "      <td>0.948240</td>\n",
       "      <td>1.0</td>\n",
       "      <td>Q06830</td>\n",
       "    </tr>\n",
       "    <tr>\n",
       "      <th>7</th>\n",
       "      <td>P06732ups|KCRM_HUMAN_UPS</td>\n",
       "      <td>2403.000000</td>\n",
       "      <td>2403.000000</td>\n",
       "      <td>13010.800000</td>\n",
       "      <td>13010.800000</td>\n",
       "      <td>0.184693</td>\n",
       "      <td>0.184693</td>\n",
       "      <td>0.1</td>\n",
       "      <td>P06732</td>\n",
       "    </tr>\n",
       "    <tr>\n",
       "      <th>8</th>\n",
       "      <td>P12081ups|SYHC_HUMAN_UPS</td>\n",
       "      <td>2858.250000</td>\n",
       "      <td>2858.250000</td>\n",
       "      <td>17257.300000</td>\n",
       "      <td>17257.300000</td>\n",
       "      <td>0.165626</td>\n",
       "      <td>0.165626</td>\n",
       "      <td>0.1</td>\n",
       "      <td>P12081</td>\n",
       "    </tr>\n",
       "  </tbody>\n",
       "</table>\n",
       "</div>"
      ],
      "text/plain": [
       "                      protein  mean_intensity_with_UPS2  \\\n",
       "1    P00915ups|CAH1_HUMAN_UPS              55278.433333   \n",
       "2    P00918ups|CAH2_HUMAN_UPS              58185.533333   \n",
       "3     P01031ups|CO5_HUMAN_UPS              34252.866667   \n",
       "5    P02768ups|ALBU_HUMAN_UPS             120906.866667   \n",
       "9     P41159ups|LEP_HUMAN_UPS              35590.733333   \n",
       "12    P68871ups|HBB_HUMAN_UPS              49136.866667   \n",
       "13    P69905ups|HBA_HUMAN_UPS              19276.433333   \n",
       "0    P00167ups|CYB5_HUMAN_UPS               9305.958333   \n",
       "4     P02144ups|MYG_HUMAN_UPS               6245.833333   \n",
       "6    P04040ups|CATA_HUMAN_UPS              44455.500000   \n",
       "10   P62937ups|PPIA_HUMAN_UPS               3899.933333   \n",
       "11  P63165ups|SUMO1_HUMAN_UPS               3048.866667   \n",
       "14  Q06830ups|PRDX1_HUMAN_UPS               8784.366667   \n",
       "7    P06732ups|KCRM_HUMAN_UPS               2403.000000   \n",
       "8    P12081ups|SYHC_HUMAN_UPS               2858.250000   \n",
       "\n",
       "    mean_intensity_without_UPS2  mean_intensity_with_UPS1  \\\n",
       "1                  49377.433333              10763.366667   \n",
       "2                  49245.766667              20947.033333   \n",
       "3                  21014.100000              14329.250000   \n",
       "5                  91316.133333              60370.300000   \n",
       "9                  32437.166667              12029.533333   \n",
       "12                 40182.733333              10935.433333   \n",
       "13                 18843.000000               4414.916667   \n",
       "0                   9305.958333              13589.433333   \n",
       "4                   6245.833333               7621.466667   \n",
       "6                  36880.266667              46675.933333   \n",
       "10                  3899.933333               2470.333333   \n",
       "11                  3048.866667               2254.111111   \n",
       "14                  8846.133333               9345.400000   \n",
       "7                   2403.000000              13010.800000   \n",
       "8                   2858.250000              17257.300000   \n",
       "\n",
       "    mean_intensity_without_UPS1  ratio_with  ratio_without  expected_ratio  \\\n",
       "1                  10606.300000    5.135794       4.655481            10.0   \n",
       "2                  20069.366667    2.777746       2.453778            10.0   \n",
       "3                  11577.500000    2.390416       1.815081            10.0   \n",
       "5                  42274.200000    2.002754       2.160091            10.0   \n",
       "9                  11717.966667    2.958613       2.768157            10.0   \n",
       "12                 10774.700000    4.493363       3.729360            10.0   \n",
       "13                  4414.916667    4.366205       4.268031            10.0   \n",
       "0                  13353.500000    0.684794       0.696893             1.0   \n",
       "4                   7621.466667    0.819505       0.819505             1.0   \n",
       "6                  40603.333333    0.952429       0.908306             1.0   \n",
       "10                  2470.333333    1.578707       1.578707             1.0   \n",
       "11                  2254.111111    1.352580       1.352580             1.0   \n",
       "14                  9329.000000    0.939967       0.948240             1.0   \n",
       "7                  13010.800000    0.184693       0.184693             0.1   \n",
       "8                  17257.300000    0.165626       0.165626             0.1   \n",
       "\n",
       "   protein_code  \n",
       "1        P00915  \n",
       "2        P00918  \n",
       "3        P01031  \n",
       "5        P02768  \n",
       "9        P41159  \n",
       "12       P68871  \n",
       "13       P69905  \n",
       "0        P00167  \n",
       "4        P02144  \n",
       "6        P04040  \n",
       "10       P62937  \n",
       "11       P63165  \n",
       "14       Q06830  \n",
       "7        P06732  \n",
       "8        P12081  "
      ]
     },
     "execution_count": 68,
     "metadata": {},
     "output_type": "execute_result"
    }
   ],
   "source": [
    "ratios_df"
   ]
  },
  {
   "cell_type": "code",
   "execution_count": 69,
   "metadata": {},
   "outputs": [
    {
     "data": {
      "text/plain": [
       "0.8518794530443179"
      ]
     },
     "execution_count": 69,
     "metadata": {},
     "output_type": "execute_result"
    }
   ],
   "source": [
    "ratios_df['ratio_with'].corr(ratios_df['expected_ratio'])"
   ]
  },
  {
   "cell_type": "code",
   "execution_count": 70,
   "metadata": {},
   "outputs": [
    {
     "data": {
      "text/plain": [
       "0.8389166951642694"
      ]
     },
     "execution_count": 70,
     "metadata": {},
     "output_type": "execute_result"
    }
   ],
   "source": [
    "ratios_df['ratio_without'].corr(ratios_df['expected_ratio'])"
   ]
  },
  {
   "cell_type": "markdown",
   "metadata": {},
   "source": [
    "#### include MQ results for comparison"
   ]
  },
  {
   "cell_type": "code",
   "execution_count": 71,
   "metadata": {},
   "outputs": [],
   "source": [
    "# read the MQ ratios from the notebook \"UPS1 and UPS2 identifications with MaxQuant\"\n",
    "mq_ratios_df = pd.read_pickle('{}/mq_ratios_ups1_ups2.pkl'.format(expanduser('~')))"
   ]
  },
  {
   "cell_type": "code",
   "execution_count": 72,
   "metadata": {},
   "outputs": [
    {
     "data": {
      "text/plain": [
       "Index(['protein', 'mean_intensity_UPS2', 'mean_intensity_UPS1', 'ratio',\n",
       "       'expected_ratio', 'protein_code'],\n",
       "      dtype='object')"
      ]
     },
     "execution_count": 72,
     "metadata": {},
     "output_type": "execute_result"
    }
   ],
   "source": [
    "mq_ratios_df.columns"
   ]
  },
  {
   "cell_type": "code",
   "execution_count": 73,
   "metadata": {},
   "outputs": [],
   "source": [
    "# and combine them with the other results for plotting\n",
    "combined_ratios_df = pd.merge(ratios_df, mq_ratios_df[['protein','ratio']], how='inner', left_on=['protein'], right_on=['protein'], suffixes=['_TFDE','_MQ'])\n",
    "combined_ratios_df.rename(columns={'ratio': 'mq_ratio'}, inplace=True)"
   ]
  },
  {
   "cell_type": "code",
   "execution_count": 74,
   "metadata": {},
   "outputs": [
    {
     "data": {
      "text/html": [
       "<div>\n",
       "<style scoped>\n",
       "    .dataframe tbody tr th:only-of-type {\n",
       "        vertical-align: middle;\n",
       "    }\n",
       "\n",
       "    .dataframe tbody tr th {\n",
       "        vertical-align: top;\n",
       "    }\n",
       "\n",
       "    .dataframe thead th {\n",
       "        text-align: right;\n",
       "    }\n",
       "</style>\n",
       "<table border=\"1\" class=\"dataframe\">\n",
       "  <thead>\n",
       "    <tr style=\"text-align: right;\">\n",
       "      <th></th>\n",
       "      <th>protein</th>\n",
       "      <th>mean_intensity_with_UPS2</th>\n",
       "      <th>mean_intensity_without_UPS2</th>\n",
       "      <th>mean_intensity_with_UPS1</th>\n",
       "      <th>mean_intensity_without_UPS1</th>\n",
       "      <th>ratio_with</th>\n",
       "      <th>ratio_without</th>\n",
       "      <th>expected_ratio</th>\n",
       "      <th>protein_code</th>\n",
       "      <th>mq_ratio</th>\n",
       "    </tr>\n",
       "  </thead>\n",
       "  <tbody>\n",
       "    <tr>\n",
       "      <th>0</th>\n",
       "      <td>P00915ups|CAH1_HUMAN_UPS</td>\n",
       "      <td>55278.433333</td>\n",
       "      <td>49377.433333</td>\n",
       "      <td>10763.366667</td>\n",
       "      <td>10606.300000</td>\n",
       "      <td>5.135794</td>\n",
       "      <td>4.655481</td>\n",
       "      <td>10.0</td>\n",
       "      <td>P00915</td>\n",
       "      <td>10.218890</td>\n",
       "    </tr>\n",
       "    <tr>\n",
       "      <th>1</th>\n",
       "      <td>P00918ups|CAH2_HUMAN_UPS</td>\n",
       "      <td>58185.533333</td>\n",
       "      <td>49245.766667</td>\n",
       "      <td>20947.033333</td>\n",
       "      <td>20069.366667</td>\n",
       "      <td>2.777746</td>\n",
       "      <td>2.453778</td>\n",
       "      <td>10.0</td>\n",
       "      <td>P00918</td>\n",
       "      <td>4.213545</td>\n",
       "    </tr>\n",
       "    <tr>\n",
       "      <th>2</th>\n",
       "      <td>P01031ups|CO5_HUMAN_UPS</td>\n",
       "      <td>34252.866667</td>\n",
       "      <td>21014.100000</td>\n",
       "      <td>14329.250000</td>\n",
       "      <td>11577.500000</td>\n",
       "      <td>2.390416</td>\n",
       "      <td>1.815081</td>\n",
       "      <td>10.0</td>\n",
       "      <td>P01031</td>\n",
       "      <td>2.379382</td>\n",
       "    </tr>\n",
       "    <tr>\n",
       "      <th>3</th>\n",
       "      <td>P02768ups|ALBU_HUMAN_UPS</td>\n",
       "      <td>120906.866667</td>\n",
       "      <td>91316.133333</td>\n",
       "      <td>60370.300000</td>\n",
       "      <td>42274.200000</td>\n",
       "      <td>2.002754</td>\n",
       "      <td>2.160091</td>\n",
       "      <td>10.0</td>\n",
       "      <td>P02768</td>\n",
       "      <td>4.408488</td>\n",
       "    </tr>\n",
       "    <tr>\n",
       "      <th>4</th>\n",
       "      <td>P41159ups|LEP_HUMAN_UPS</td>\n",
       "      <td>35590.733333</td>\n",
       "      <td>32437.166667</td>\n",
       "      <td>12029.533333</td>\n",
       "      <td>11717.966667</td>\n",
       "      <td>2.958613</td>\n",
       "      <td>2.768157</td>\n",
       "      <td>10.0</td>\n",
       "      <td>P41159</td>\n",
       "      <td>4.835160</td>\n",
       "    </tr>\n",
       "    <tr>\n",
       "      <th>5</th>\n",
       "      <td>P68871ups|HBB_HUMAN_UPS</td>\n",
       "      <td>49136.866667</td>\n",
       "      <td>40182.733333</td>\n",
       "      <td>10935.433333</td>\n",
       "      <td>10774.700000</td>\n",
       "      <td>4.493363</td>\n",
       "      <td>3.729360</td>\n",
       "      <td>10.0</td>\n",
       "      <td>P68871</td>\n",
       "      <td>7.510086</td>\n",
       "    </tr>\n",
       "    <tr>\n",
       "      <th>6</th>\n",
       "      <td>P69905ups|HBA_HUMAN_UPS</td>\n",
       "      <td>19276.433333</td>\n",
       "      <td>18843.000000</td>\n",
       "      <td>4414.916667</td>\n",
       "      <td>4414.916667</td>\n",
       "      <td>4.366205</td>\n",
       "      <td>4.268031</td>\n",
       "      <td>10.0</td>\n",
       "      <td>P69905</td>\n",
       "      <td>9.878136</td>\n",
       "    </tr>\n",
       "    <tr>\n",
       "      <th>7</th>\n",
       "      <td>P02144ups|MYG_HUMAN_UPS</td>\n",
       "      <td>6245.833333</td>\n",
       "      <td>6245.833333</td>\n",
       "      <td>7621.466667</td>\n",
       "      <td>7621.466667</td>\n",
       "      <td>0.819505</td>\n",
       "      <td>0.819505</td>\n",
       "      <td>1.0</td>\n",
       "      <td>P02144</td>\n",
       "      <td>0.961027</td>\n",
       "    </tr>\n",
       "    <tr>\n",
       "      <th>8</th>\n",
       "      <td>P04040ups|CATA_HUMAN_UPS</td>\n",
       "      <td>44455.500000</td>\n",
       "      <td>36880.266667</td>\n",
       "      <td>46675.933333</td>\n",
       "      <td>40603.333333</td>\n",
       "      <td>0.952429</td>\n",
       "      <td>0.908306</td>\n",
       "      <td>1.0</td>\n",
       "      <td>P04040</td>\n",
       "      <td>0.622522</td>\n",
       "    </tr>\n",
       "    <tr>\n",
       "      <th>9</th>\n",
       "      <td>P63165ups|SUMO1_HUMAN_UPS</td>\n",
       "      <td>3048.866667</td>\n",
       "      <td>3048.866667</td>\n",
       "      <td>2254.111111</td>\n",
       "      <td>2254.111111</td>\n",
       "      <td>1.352580</td>\n",
       "      <td>1.352580</td>\n",
       "      <td>1.0</td>\n",
       "      <td>P63165</td>\n",
       "      <td>1.558501</td>\n",
       "    </tr>\n",
       "    <tr>\n",
       "      <th>10</th>\n",
       "      <td>Q06830ups|PRDX1_HUMAN_UPS</td>\n",
       "      <td>8784.366667</td>\n",
       "      <td>8846.133333</td>\n",
       "      <td>9345.400000</td>\n",
       "      <td>9329.000000</td>\n",
       "      <td>0.939967</td>\n",
       "      <td>0.948240</td>\n",
       "      <td>1.0</td>\n",
       "      <td>Q06830</td>\n",
       "      <td>0.806952</td>\n",
       "    </tr>\n",
       "    <tr>\n",
       "      <th>11</th>\n",
       "      <td>P12081ups|SYHC_HUMAN_UPS</td>\n",
       "      <td>2858.250000</td>\n",
       "      <td>2858.250000</td>\n",
       "      <td>17257.300000</td>\n",
       "      <td>17257.300000</td>\n",
       "      <td>0.165626</td>\n",
       "      <td>0.165626</td>\n",
       "      <td>0.1</td>\n",
       "      <td>P12081</td>\n",
       "      <td>0.186410</td>\n",
       "    </tr>\n",
       "  </tbody>\n",
       "</table>\n",
       "</div>"
      ],
      "text/plain": [
       "                      protein  mean_intensity_with_UPS2  \\\n",
       "0    P00915ups|CAH1_HUMAN_UPS              55278.433333   \n",
       "1    P00918ups|CAH2_HUMAN_UPS              58185.533333   \n",
       "2     P01031ups|CO5_HUMAN_UPS              34252.866667   \n",
       "3    P02768ups|ALBU_HUMAN_UPS             120906.866667   \n",
       "4     P41159ups|LEP_HUMAN_UPS              35590.733333   \n",
       "5     P68871ups|HBB_HUMAN_UPS              49136.866667   \n",
       "6     P69905ups|HBA_HUMAN_UPS              19276.433333   \n",
       "7     P02144ups|MYG_HUMAN_UPS               6245.833333   \n",
       "8    P04040ups|CATA_HUMAN_UPS              44455.500000   \n",
       "9   P63165ups|SUMO1_HUMAN_UPS               3048.866667   \n",
       "10  Q06830ups|PRDX1_HUMAN_UPS               8784.366667   \n",
       "11   P12081ups|SYHC_HUMAN_UPS               2858.250000   \n",
       "\n",
       "    mean_intensity_without_UPS2  mean_intensity_with_UPS1  \\\n",
       "0                  49377.433333              10763.366667   \n",
       "1                  49245.766667              20947.033333   \n",
       "2                  21014.100000              14329.250000   \n",
       "3                  91316.133333              60370.300000   \n",
       "4                  32437.166667              12029.533333   \n",
       "5                  40182.733333              10935.433333   \n",
       "6                  18843.000000               4414.916667   \n",
       "7                   6245.833333               7621.466667   \n",
       "8                  36880.266667              46675.933333   \n",
       "9                   3048.866667               2254.111111   \n",
       "10                  8846.133333               9345.400000   \n",
       "11                  2858.250000              17257.300000   \n",
       "\n",
       "    mean_intensity_without_UPS1  ratio_with  ratio_without  expected_ratio  \\\n",
       "0                  10606.300000    5.135794       4.655481            10.0   \n",
       "1                  20069.366667    2.777746       2.453778            10.0   \n",
       "2                  11577.500000    2.390416       1.815081            10.0   \n",
       "3                  42274.200000    2.002754       2.160091            10.0   \n",
       "4                  11717.966667    2.958613       2.768157            10.0   \n",
       "5                  10774.700000    4.493363       3.729360            10.0   \n",
       "6                   4414.916667    4.366205       4.268031            10.0   \n",
       "7                   7621.466667    0.819505       0.819505             1.0   \n",
       "8                  40603.333333    0.952429       0.908306             1.0   \n",
       "9                   2254.111111    1.352580       1.352580             1.0   \n",
       "10                  9329.000000    0.939967       0.948240             1.0   \n",
       "11                 17257.300000    0.165626       0.165626             0.1   \n",
       "\n",
       "   protein_code   mq_ratio  \n",
       "0        P00915  10.218890  \n",
       "1        P00918   4.213545  \n",
       "2        P01031   2.379382  \n",
       "3        P02768   4.408488  \n",
       "4        P41159   4.835160  \n",
       "5        P68871   7.510086  \n",
       "6        P69905   9.878136  \n",
       "7        P02144   0.961027  \n",
       "8        P04040   0.622522  \n",
       "9        P63165   1.558501  \n",
       "10       Q06830   0.806952  \n",
       "11       P12081   0.186410  "
      ]
     },
     "execution_count": 74,
     "metadata": {},
     "output_type": "execute_result"
    }
   ],
   "source": [
    "combined_ratios_df"
   ]
  },
  {
   "cell_type": "code",
   "execution_count": 75,
   "metadata": {},
   "outputs": [
    {
     "data": {
      "text/plain": [
       "0.7773544026436193"
      ]
     },
     "execution_count": 75,
     "metadata": {},
     "output_type": "execute_result"
    }
   ],
   "source": [
    "combined_ratios_df['mq_ratio'].corr(combined_ratios_df['expected_ratio'])"
   ]
  },
  {
   "cell_type": "markdown",
   "metadata": {},
   "source": [
    "#### plot the comparison"
   ]
  },
  {
   "cell_type": "code",
   "execution_count": 76,
   "metadata": {},
   "outputs": [
    {
     "data": {
      "image/png": "[encoded data removed]",
      "text/plain": [
       "<Figure size 1080x432 with 1 Axes>"
      ]
     },
     "metadata": {
      "needs_background": "light"
     },
     "output_type": "display_data"
    }
   ],
   "source": [
    "labels = combined_ratios_df.protein_code\n",
    "ratio_with = np.log10(combined_ratios_df.ratio_with)\n",
    "ratio_without = np.log10(combined_ratios_df.ratio_without)\n",
    "mq_ratio = np.log10(combined_ratios_df.mq_ratio)\n",
    "expected_ratio = np.log10(combined_ratios_df.expected_ratio)\n",
    "\n",
    "x = np.arange(len(labels))  # the label locations\n",
    "width = 0.1  # the width of the bars\n",
    "\n",
    "f, ax = plt.subplots()\n",
    "f.set_figheight(6)\n",
    "f.set_figwidth(15)\n",
    "\n",
    "plt.margins(0.06)\n",
    "plt.title('')\n",
    "\n",
    "plt.xticks(fontsize=12)\n",
    "plt.yticks(fontsize=12)\n",
    "\n",
    "rects1 = ax.bar(x - 2*width, ratio_with, width, label='with saturation correction')\n",
    "rects2 = ax.bar(x - width, ratio_without, width, label='without saturation correction')\n",
    "rects3 = ax.bar(x, mq_ratio, width, label='MaxQuant')\n",
    "rects4 = ax.bar(x + width, expected_ratio, width, label='expected ratio')\n",
    "\n",
    "# add text for labels, title and custom x-axis tick labels, etc.\n",
    "ax.set_xlabel('proteins in common', fontsize=14)\n",
    "ax.set_ylabel('log10(UPS2/UPS1)', fontsize=14)\n",
    "# ax.set_title('ratio of protein intensity')\n",
    "ax.set_xticks(x)\n",
    "ax.set_xticklabels(labels, rotation=70, ha='right')\n",
    "ax.legend(fontsize=12)\n",
    "\n",
    "# create offset transform (x=5pt)\n",
    "from matplotlib.transforms import ScaledTranslation\n",
    "dx, dy = 5, 0\n",
    "offset = ScaledTranslation(dx/f.dpi, dy/f.dpi, scale_trans=f.dpi_scale_trans)\n",
    "\n",
    "# apply offset transform to all xticklabels\n",
    "for label in ax.xaxis.get_majorticklabels():\n",
    "    label.set_transform(label.get_transform() + offset)\n",
    "    \n",
    "plt.show()"
   ]
  },
  {
   "cell_type": "markdown",
   "metadata": {},
   "source": [
    "### compare relative intensities of top-3 peptides for each protein in UPS2 relative to a protein that was not corrected for saturation"
   ]
  },
  {
   "cell_type": "code",
   "execution_count": 77,
   "metadata": {},
   "outputs": [],
   "source": [
    "ratios_df = combined_UPS2_df[['protein','average_intensity_with','average_intensity_without','intensity_adjusted']].copy()\n"
   ]
  },
  {
   "cell_type": "markdown",
   "metadata": {},
   "source": [
    "#### use for the intensity reference the most intense protein that was not corrected for saturation"
   ]
  },
  {
   "cell_type": "code",
   "execution_count": 78,
   "metadata": {},
   "outputs": [],
   "source": [
    "reference_row = combined_UPS2_df[combined_UPS2_df.protein.str.startswith('Q06830')].iloc[0]\n",
    "reference_intensity = reference_row.average_intensity_with"
   ]
  },
  {
   "cell_type": "code",
   "execution_count": 79,
   "metadata": {},
   "outputs": [],
   "source": [
    "ratios_df['ratio_with'] = ratios_df.average_intensity_with / reference_intensity\n",
    "ratios_df['ratio_without'] = ratios_df.average_intensity_without / reference_intensity"
   ]
  },
  {
   "cell_type": "code",
   "execution_count": 80,
   "metadata": {},
   "outputs": [],
   "source": [
    "ratios_df['expected_ratio'] = ratios_df.apply(lambda row: (ups2_d[row.protein.split('ups')[0]] / 1000) / (ups2_d[reference_row.protein.split('ups')[0]] / 1000), axis=1)"
   ]
  },
  {
   "cell_type": "code",
   "execution_count": 81,
   "metadata": {},
   "outputs": [
    {
     "data": {
      "text/html": [
       "<div>\n",
       "<style scoped>\n",
       "    .dataframe tbody tr th:only-of-type {\n",
       "        vertical-align: middle;\n",
       "    }\n",
       "\n",
       "    .dataframe tbody tr th {\n",
       "        vertical-align: top;\n",
       "    }\n",
       "\n",
       "    .dataframe thead th {\n",
       "        text-align: right;\n",
       "    }\n",
       "</style>\n",
       "<table border=\"1\" class=\"dataframe\">\n",
       "  <thead>\n",
       "    <tr style=\"text-align: right;\">\n",
       "      <th></th>\n",
       "      <th>protein</th>\n",
       "      <th>average_intensity_with</th>\n",
       "      <th>average_intensity_without</th>\n",
       "      <th>intensity_adjusted</th>\n",
       "      <th>ratio_with</th>\n",
       "      <th>ratio_without</th>\n",
       "      <th>expected_ratio</th>\n",
       "    </tr>\n",
       "  </thead>\n",
       "  <tbody>\n",
       "    <tr>\n",
       "      <th>0</th>\n",
       "      <td>P00915ups|CAH1_HUMAN_UPS</td>\n",
       "      <td>51585.000000</td>\n",
       "      <td>46818.333333</td>\n",
       "      <td>True</td>\n",
       "      <td>6.266399</td>\n",
       "      <td>5.687358</td>\n",
       "      <td>10.0</td>\n",
       "    </tr>\n",
       "    <tr>\n",
       "      <th>1</th>\n",
       "      <td>P00918ups|CAH2_HUMAN_UPS</td>\n",
       "      <td>50821.333333</td>\n",
       "      <td>44914.333333</td>\n",
       "      <td>True</td>\n",
       "      <td>6.173631</td>\n",
       "      <td>5.456066</td>\n",
       "      <td>10.0</td>\n",
       "    </tr>\n",
       "    <tr>\n",
       "      <th>2</th>\n",
       "      <td>P01031ups|CO5_HUMAN_UPS</td>\n",
       "      <td>38016.333333</td>\n",
       "      <td>21627.333333</td>\n",
       "      <td>True</td>\n",
       "      <td>4.618116</td>\n",
       "      <td>2.627227</td>\n",
       "      <td>10.0</td>\n",
       "    </tr>\n",
       "    <tr>\n",
       "      <th>3</th>\n",
       "      <td>P02144ups|MYG_HUMAN_UPS</td>\n",
       "      <td>6117.333333</td>\n",
       "      <td>6117.333333</td>\n",
       "      <td>False</td>\n",
       "      <td>0.743116</td>\n",
       "      <td>0.743116</td>\n",
       "      <td>1.0</td>\n",
       "    </tr>\n",
       "    <tr>\n",
       "      <th>4</th>\n",
       "      <td>P02768ups|ALBU_HUMAN_UPS</td>\n",
       "      <td>115886.000000</td>\n",
       "      <td>85755.666667</td>\n",
       "      <td>True</td>\n",
       "      <td>14.077502</td>\n",
       "      <td>10.417355</td>\n",
       "      <td>10.0</td>\n",
       "    </tr>\n",
       "    <tr>\n",
       "      <th>...</th>\n",
       "      <td>...</td>\n",
       "      <td>...</td>\n",
       "      <td>...</td>\n",
       "      <td>...</td>\n",
       "      <td>...</td>\n",
       "      <td>...</td>\n",
       "      <td>...</td>\n",
       "    </tr>\n",
       "    <tr>\n",
       "      <th>140</th>\n",
       "      <td>P62988ups|UBIQ_HUMAN_UPS</td>\n",
       "      <td>18820.666667</td>\n",
       "      <td>18006.000000</td>\n",
       "      <td>True</td>\n",
       "      <td>2.286281</td>\n",
       "      <td>2.187318</td>\n",
       "      <td>10.0</td>\n",
       "    </tr>\n",
       "    <tr>\n",
       "      <th>141</th>\n",
       "      <td>P63165ups|SUMO1_HUMAN_UPS</td>\n",
       "      <td>3435.333333</td>\n",
       "      <td>3435.333333</td>\n",
       "      <td>False</td>\n",
       "      <td>0.417315</td>\n",
       "      <td>0.417315</td>\n",
       "      <td>1.0</td>\n",
       "    </tr>\n",
       "    <tr>\n",
       "      <th>142</th>\n",
       "      <td>P68871ups|HBB_HUMAN_UPS</td>\n",
       "      <td>45045.333333</td>\n",
       "      <td>40266.000000</td>\n",
       "      <td>True</td>\n",
       "      <td>5.471979</td>\n",
       "      <td>4.891399</td>\n",
       "      <td>10.0</td>\n",
       "    </tr>\n",
       "    <tr>\n",
       "      <th>143</th>\n",
       "      <td>P69905ups|HBA_HUMAN_UPS</td>\n",
       "      <td>18385.000000</td>\n",
       "      <td>18157.333333</td>\n",
       "      <td>True</td>\n",
       "      <td>2.233358</td>\n",
       "      <td>2.205701</td>\n",
       "      <td>10.0</td>\n",
       "    </tr>\n",
       "    <tr>\n",
       "      <th>144</th>\n",
       "      <td>Q06830ups|PRDX1_HUMAN_UPS</td>\n",
       "      <td>10108.666667</td>\n",
       "      <td>10108.666667</td>\n",
       "      <td>False</td>\n",
       "      <td>1.227972</td>\n",
       "      <td>1.227972</td>\n",
       "      <td>1.0</td>\n",
       "    </tr>\n",
       "  </tbody>\n",
       "</table>\n",
       "<p>145 rows × 7 columns</p>\n",
       "</div>"
      ],
      "text/plain": [
       "                       protein  average_intensity_with  \\\n",
       "0     P00915ups|CAH1_HUMAN_UPS            51585.000000   \n",
       "1     P00918ups|CAH2_HUMAN_UPS            50821.333333   \n",
       "2      P01031ups|CO5_HUMAN_UPS            38016.333333   \n",
       "3      P02144ups|MYG_HUMAN_UPS             6117.333333   \n",
       "4     P02768ups|ALBU_HUMAN_UPS           115886.000000   \n",
       "..                         ...                     ...   \n",
       "140   P62988ups|UBIQ_HUMAN_UPS            18820.666667   \n",
       "141  P63165ups|SUMO1_HUMAN_UPS             3435.333333   \n",
       "142    P68871ups|HBB_HUMAN_UPS            45045.333333   \n",
       "143    P69905ups|HBA_HUMAN_UPS            18385.000000   \n",
       "144  Q06830ups|PRDX1_HUMAN_UPS            10108.666667   \n",
       "\n",
       "     average_intensity_without  intensity_adjusted  ratio_with  ratio_without  \\\n",
       "0                 46818.333333                True    6.266399       5.687358   \n",
       "1                 44914.333333                True    6.173631       5.456066   \n",
       "2                 21627.333333                True    4.618116       2.627227   \n",
       "3                  6117.333333               False    0.743116       0.743116   \n",
       "4                 85755.666667                True   14.077502      10.417355   \n",
       "..                         ...                 ...         ...            ...   \n",
       "140               18006.000000                True    2.286281       2.187318   \n",
       "141                3435.333333               False    0.417315       0.417315   \n",
       "142               40266.000000                True    5.471979       4.891399   \n",
       "143               18157.333333                True    2.233358       2.205701   \n",
       "144               10108.666667               False    1.227972       1.227972   \n",
       "\n",
       "     expected_ratio  \n",
       "0              10.0  \n",
       "1              10.0  \n",
       "2              10.0  \n",
       "3               1.0  \n",
       "4              10.0  \n",
       "..              ...  \n",
       "140            10.0  \n",
       "141             1.0  \n",
       "142            10.0  \n",
       "143            10.0  \n",
       "144             1.0  \n",
       "\n",
       "[145 rows x 7 columns]"
      ]
     },
     "execution_count": 81,
     "metadata": {},
     "output_type": "execute_result"
    }
   ],
   "source": [
    "ratios_df"
   ]
  },
  {
   "cell_type": "code",
   "execution_count": 82,
   "metadata": {},
   "outputs": [
    {
     "data": {
      "text/plain": [
       "0.6353493197867337"
      ]
     },
     "execution_count": 82,
     "metadata": {},
     "output_type": "execute_result"
    }
   ],
   "source": [
    "ratios_df['ratio_with'].corr(ratios_df['expected_ratio'])"
   ]
  },
  {
   "cell_type": "code",
   "execution_count": 83,
   "metadata": {},
   "outputs": [
    {
     "data": {
      "text/plain": [
       "0.6521577171439819"
      ]
     },
     "execution_count": 83,
     "metadata": {},
     "output_type": "execute_result"
    }
   ],
   "source": [
    "ratios_df['ratio_without'].corr(ratios_df['expected_ratio'])"
   ]
  }
 ],
 "metadata": {
  "kernelspec": {
   "display_name": "Python 3",
   "language": "python",
   "name": "python3"
  },
  "language_info": {
   "codemirror_mode": {
    "name": "ipython",
    "version": 3
   },
   "file_extension": ".py",
   "mimetype": "text/x-python",
   "name": "python",
   "nbconvert_exporter": "python",
   "pygments_lexer": "ipython3",
   "version": "3.8.5"
  }
 },
 "nbformat": 4,
 "nbformat_minor": 4
}
