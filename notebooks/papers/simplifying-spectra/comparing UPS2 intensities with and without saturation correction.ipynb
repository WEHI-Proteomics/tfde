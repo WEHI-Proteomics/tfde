{
 "cells": [
  {
   "cell_type": "code",
   "execution_count": 1,
   "metadata": {},
   "outputs": [],
   "source": [
    "import pandas as pd\n",
    "import numpy as np\n",
    "import os\n",
    "import matplotlib.pyplot as plt\n",
    "import seaborn as sns\n",
    "import json\n",
    "from os.path import expanduser"
   ]
  },
  {
   "cell_type": "code",
   "execution_count": 2,
   "metadata": {},
   "outputs": [],
   "source": [
    "experiment_name = 'P3830'\n",
    "feature_detection_method = 'pasef'"
   ]
  },
  {
   "cell_type": "code",
   "execution_count": 3,
   "metadata": {},
   "outputs": [],
   "source": [
    "MAXIMUM_Q_VALUE = 0.01"
   ]
  },
  {
   "cell_type": "code",
   "execution_count": 4,
   "metadata": {},
   "outputs": [],
   "source": [
    "BASE_RESULTS_DIR = '/media/big-ssd'\n",
    "# BASE_RESULTS_DIR = '/Users/darylwilding-mcbride/Downloads'.format(experiment_name)"
   ]
  },
  {
   "cell_type": "markdown",
   "metadata": {},
   "source": [
    "### analyse UPS2"
   ]
  },
  {
   "cell_type": "markdown",
   "metadata": {},
   "source": [
    "#### identifications with correction for saturation"
   ]
  },
  {
   "cell_type": "code",
   "execution_count": 9,
   "metadata": {},
   "outputs": [],
   "source": [
    "IDENTIFICATIONS_WITH_CS_DIR = '/media/data-4t-a/results-P3830_YUPS2/2021-10-11-12-21-21/identifications-pasef'\n",
    "IDENTIFICATIONS_WITH_CS_FILE = '{}/exp-P3830_YUPS2-identifications-pasef-recalibrated.feather'.format(IDENTIFICATIONS_WITH_CS_DIR)"
   ]
  },
  {
   "cell_type": "code",
   "execution_count": 10,
   "metadata": {},
   "outputs": [],
   "source": [
    "# load the identifications\n",
    "identifications_with_cs_df = pd.read_feather(IDENTIFICATIONS_WITH_CS_FILE)\n",
    "identifications_with_cs_df = identifications_with_cs_df[(identifications_with_cs_df['percolator q-value'] <= MAXIMUM_Q_VALUE) & (~identifications_with_cs_df['protein id'].str.contains('YEAST'))]"
   ]
  },
  {
   "cell_type": "code",
   "execution_count": 11,
   "metadata": {},
   "outputs": [
    {
     "data": {
      "text/html": [
       "<div>\n",
       "<style scoped>\n",
       "    .dataframe tbody tr th:only-of-type {\n",
       "        vertical-align: middle;\n",
       "    }\n",
       "\n",
       "    .dataframe tbody tr th {\n",
       "        vertical-align: top;\n",
       "    }\n",
       "\n",
       "    .dataframe thead th {\n",
       "        text-align: right;\n",
       "    }\n",
       "</style>\n",
       "<table border=\"1\" class=\"dataframe\">\n",
       "  <thead>\n",
       "    <tr style=\"text-align: right;\">\n",
       "      <th></th>\n",
       "      <th>counts</th>\n",
       "      <th>%</th>\n",
       "    </tr>\n",
       "  </thead>\n",
       "  <tbody>\n",
       "    <tr>\n",
       "      <th>monoisotopic_not_saturated</th>\n",
       "      <td>2517</td>\n",
       "      <td>82.0</td>\n",
       "    </tr>\n",
       "    <tr>\n",
       "      <th>monoisotopic_saturated_adjusted</th>\n",
       "      <td>542</td>\n",
       "      <td>17.7</td>\n",
       "    </tr>\n",
       "    <tr>\n",
       "      <th>no_nonsaturated_isotopes</th>\n",
       "      <td>11</td>\n",
       "      <td>0.4</td>\n",
       "    </tr>\n",
       "  </tbody>\n",
       "</table>\n",
       "</div>"
      ],
      "text/plain": [
       "                                 counts     %\n",
       "monoisotopic_not_saturated         2517  82.0\n",
       "monoisotopic_saturated_adjusted     542  17.7\n",
       "no_nonsaturated_isotopes             11   0.4"
      ]
     },
     "execution_count": 11,
     "metadata": {},
     "output_type": "execute_result"
    }
   ],
   "source": [
    "s1 = identifications_with_cs_df.mono_intensity_adjustment_outcome.value_counts(normalize=False).rename('counts', inplace=True)\n",
    "s2 = round(identifications_with_cs_df.mono_intensity_adjustment_outcome.value_counts(normalize=True)*100,1).rename('%', inplace=True)\n",
    "pd.concat([s1, s2], axis=1)"
   ]
  },
  {
   "cell_type": "code",
   "execution_count": 12,
   "metadata": {},
   "outputs": [
    {
     "name": "stdout",
     "output_type": "stream",
     "text": [
      "number of unique proteins: 24\n"
     ]
    }
   ],
   "source": [
    "print('number of unique proteins: {}'.format(len(identifications_with_cs_df['protein id'].unique())))"
   ]
  },
  {
   "cell_type": "markdown",
   "metadata": {},
   "source": [
    "#### identifications without correction for saturation"
   ]
  },
  {
   "cell_type": "code",
   "execution_count": 11,
   "metadata": {},
   "outputs": [],
   "source": [
    "IDENTIFICATIONS_WITHOUT_CS_DIR = '{}/results-P3830/P3830-results-cs-false-fmdw-false-2021-08-28-01-07-24/identifications-pasef'.format(BASE_RESULTS_DIR)\n",
    "IDENTIFICATIONS_WITHOUT_CS_FILE = '{}/exp-{}-identifications-{}-recalibrated.feather'.format(IDENTIFICATIONS_WITHOUT_CS_DIR, experiment_name, feature_detection_method)"
   ]
  },
  {
   "cell_type": "code",
   "execution_count": 12,
   "metadata": {},
   "outputs": [],
   "source": [
    "# load the identifications\n",
    "identifications_without_cs_df = pd.read_feather(IDENTIFICATIONS_WITHOUT_CS_FILE)\n",
    "identifications_without_cs_df = identifications_without_cs_df[(identifications_without_cs_df['percolator q-value'] <= MAXIMUM_Q_VALUE) & (~identifications_without_cs_df['protein id'].str.contains('YEAST'))]"
   ]
  },
  {
   "cell_type": "code",
   "execution_count": 13,
   "metadata": {},
   "outputs": [
    {
     "name": "stdout",
     "output_type": "stream",
     "text": [
      "number of unique proteins: 19\n"
     ]
    }
   ],
   "source": [
    "print('number of unique proteins: {}'.format(len(identifications_without_cs_df['protein id'].unique())))"
   ]
  },
  {
   "cell_type": "markdown",
   "metadata": {},
   "source": [
    "#### using the Top3 approach to determine protein quanitification"
   ]
  },
  {
   "cell_type": "code",
   "execution_count": 14,
   "metadata": {},
   "outputs": [],
   "source": [
    "ups2_proteins_l = []\n",
    "\n",
    "ups2_proteins_l.append({'uniprot':'P00915', 'fmoles':50000})\n",
    "ups2_proteins_l.append({'uniprot':'P00918', 'fmoles':50000})\n",
    "ups2_proteins_l.append({'uniprot':'P01031', 'fmoles':50000})\n",
    "ups2_proteins_l.append({'uniprot':'P69905', 'fmoles':50000})\n",
    "ups2_proteins_l.append({'uniprot':'P68871', 'fmoles':50000})\n",
    "ups2_proteins_l.append({'uniprot':'P41159', 'fmoles':50000})\n",
    "ups2_proteins_l.append({'uniprot':'P02768', 'fmoles':50000})\n",
    "ups2_proteins_l.append({'uniprot':'P62988', 'fmoles':50000})\n",
    "\n",
    "ups2_proteins_l.append({'uniprot':'P04040', 'fmoles':5000})\n",
    "ups2_proteins_l.append({'uniprot':'P00167', 'fmoles':5000})\n",
    "ups2_proteins_l.append({'uniprot':'P01133', 'fmoles':5000})\n",
    "ups2_proteins_l.append({'uniprot':'P02144', 'fmoles':5000})\n",
    "ups2_proteins_l.append({'uniprot':'P15559', 'fmoles':5000})\n",
    "ups2_proteins_l.append({'uniprot':'P62937', 'fmoles':5000})\n",
    "ups2_proteins_l.append({'uniprot':'Q06830', 'fmoles':5000})\n",
    "ups2_proteins_l.append({'uniprot':'P63165', 'fmoles':5000})\n",
    "\n",
    "ups2_proteins_l.append({'uniprot':'P00709', 'fmoles':500})\n",
    "ups2_proteins_l.append({'uniprot':'P06732', 'fmoles':500})\n",
    "ups2_proteins_l.append({'uniprot':'P12081', 'fmoles':500})\n",
    "ups2_proteins_l.append({'uniprot':'P61626', 'fmoles':500})\n",
    "ups2_proteins_l.append({'uniprot':'Q15843', 'fmoles':500})\n",
    "ups2_proteins_l.append({'uniprot':'P02753', 'fmoles':500})\n",
    "ups2_proteins_l.append({'uniprot':'P16083', 'fmoles':500})\n",
    "ups2_proteins_l.append({'uniprot':'P63279', 'fmoles':500})\n",
    "\n",
    "ups2_proteins_l.append({'uniprot':'P01008', 'fmoles':50})\n",
    "ups2_proteins_l.append({'uniprot':'P61769', 'fmoles':50})\n",
    "ups2_proteins_l.append({'uniprot':'P55957', 'fmoles':50})\n",
    "ups2_proteins_l.append({'uniprot':'O76070', 'fmoles':50})\n",
    "ups2_proteins_l.append({'uniprot':'P08263', 'fmoles':50})\n",
    "ups2_proteins_l.append({'uniprot':'P01344', 'fmoles':50})\n",
    "ups2_proteins_l.append({'uniprot':'P01127', 'fmoles':50})\n",
    "ups2_proteins_l.append({'uniprot':'P10599', 'fmoles':50})\n",
    "\n",
    "ups2_proteins_l.append({'uniprot':'P99999', 'fmoles':5})\n",
    "ups2_proteins_l.append({'uniprot':'P06396', 'fmoles':5})\n",
    "ups2_proteins_l.append({'uniprot':'P09211', 'fmoles':5})\n",
    "ups2_proteins_l.append({'uniprot':'P01112', 'fmoles':5})\n",
    "ups2_proteins_l.append({'uniprot':'P01579', 'fmoles':5})\n",
    "ups2_proteins_l.append({'uniprot':'P02787', 'fmoles':5})\n",
    "ups2_proteins_l.append({'uniprot':'O00762', 'fmoles':5})\n",
    "ups2_proteins_l.append({'uniprot':'P51965', 'fmoles':5})\n",
    "\n",
    "ups2_proteins_l.append({'uniprot':'P08758', 'fmoles':0.5})\n",
    "ups2_proteins_l.append({'uniprot':'P02741', 'fmoles':0.5})\n",
    "ups2_proteins_l.append({'uniprot':'P05413', 'fmoles':0.5})\n",
    "ups2_proteins_l.append({'uniprot':'P10145', 'fmoles':0.5})\n",
    "ups2_proteins_l.append({'uniprot':'P02788', 'fmoles':0.5})\n",
    "ups2_proteins_l.append({'uniprot':'P10636-8', 'fmoles':0.5})\n",
    "ups2_proteins_l.append({'uniprot':'P00441', 'fmoles':0.5})\n",
    "ups2_proteins_l.append({'uniprot':'P01375', 'fmoles':0.5})\n",
    "\n",
    "ups2_d = {}\n",
    "for p in ups2_proteins_l:\n",
    "    ups2_d[p['uniprot']] = p['fmoles']"
   ]
  },
  {
   "cell_type": "markdown",
   "metadata": {},
   "source": [
    "#### with correction"
   ]
  },
  {
   "cell_type": "code",
   "execution_count": 15,
   "metadata": {},
   "outputs": [
    {
     "data": {
      "text/plain": [
       "array(['P02768ups|ALBU_HUMAN_UPS', 'P00915ups|CAH1_HUMAN_UPS',\n",
       "       'P00918ups|CAH2_HUMAN_UPS', 'P68871ups|HBB_HUMAN_UPS',\n",
       "       'P41159ups|LEP_HUMAN_UPS', 'P69905ups|HBA_HUMAN_UPS',\n",
       "       'P01031ups|CO5_HUMAN_UPS', 'P62988ups|UBIQ_HUMAN_UPS',\n",
       "       'Q06830ups|PRDX1_HUMAN_UPS', 'P04040ups|CATA_HUMAN_UPS',\n",
       "       'P02144ups|MYG_HUMAN_UPS', 'P00167ups|CYB5_HUMAN_UPS',\n",
       "       'P12081ups|SYHC_HUMAN_UPS',\n",
       "       'P62937ups|PPIA_HUMAN_UPS,P62988ups|UBIQ_HUMAN_UPS,O76070ups|SYUG_HUMAN_UPS',\n",
       "       'P15559ups|NQO1_HUMAN_UPS', 'P06732ups|KCRM_HUMAN_UPS',\n",
       "       'P00709ups|LALBA_HUMAN_UPS', 'P63165ups|SUMO1_HUMAN_UPS',\n",
       "       'P62937ups|PPIA_HUMAN_UPS'], dtype=object)"
      ]
     },
     "execution_count": 15,
     "metadata": {},
     "output_type": "execute_result"
    }
   ],
   "source": [
    "identifications_with_cs_df['protein id'].unique()"
   ]
  },
  {
   "cell_type": "code",
   "execution_count": 16,
   "metadata": {},
   "outputs": [
    {
     "name": "stdout",
     "output_type": "stream",
     "text": [
      "didn't have three peptides for P00167ups|CYB5_HUMAN_UPS\n",
      "didn't have three peptides for P00709ups|LALBA_HUMAN_UPS\n",
      "didn't have three peptides for P06732ups|KCRM_HUMAN_UPS\n",
      "didn't have three peptides for P15559ups|NQO1_HUMAN_UPS\n",
      "didn't have three peptides for P62937ups|PPIA_HUMAN_UPS\n",
      "didn't have three peptides for P62988ups|UBIQ_HUMAN_UPS\n"
     ]
    }
   ],
   "source": [
    "# find the three most intense peptides for each protein\n",
    "top3_l = []\n",
    "for group_name,group_df in identifications_with_cs_df.groupby('protein id'):\n",
    "    df = group_df.sort_values(by=['feature_intensity'], ascending=False, inplace=False)\n",
    "    top3_df = df.head(n=3)\n",
    "    if len(top3_df) == 3:\n",
    "        uniprot_id = group_name.split('ups')[0]\n",
    "        pmoles = ups2_d[uniprot_id] / 1000\n",
    "        average_intensity = top3_df.feature_intensity.mean()\n",
    "        signal_response_factor = average_intensity / pmoles\n",
    "        peptide_count = len(df)\n",
    "        intensity_adjusted = 'monoisotopic_saturated_adjusted' in list(top3_df.mono_intensity_adjustment_outcome)\n",
    "        attribs_d = top3_df[['feature_id','sequence','charge','feature_intensity']].to_dict('records')\n",
    "        top3_l.append({'protein':group_name, 'pmoles':pmoles, 'average_intensity':average_intensity, 'signal_response_factor':signal_response_factor, 'peptide_count':peptide_count, 'intensity_adjusted':intensity_adjusted, 'attribs_d':attribs_d})\n",
    "    else:\n",
    "        print('didn\\'t have three peptides for {}'.format(group_name))\n",
    "top3_with_df = pd.DataFrame(top3_l)"
   ]
  },
  {
   "cell_type": "code",
   "execution_count": 17,
   "metadata": {},
   "outputs": [
    {
     "data": {
      "text/plain": [
       "2317.72"
      ]
     },
     "execution_count": 17,
     "metadata": {},
     "output_type": "execute_result"
    }
   ],
   "source": [
    "# using Serum albumin (P02768) as an internal reference\n",
    "universal_signal_response_factor = top3_with_df[top3_with_df.protein.str.startswith('P02768')].iloc[0].signal_response_factor\n",
    "universal_signal_response_factor"
   ]
  },
  {
   "cell_type": "code",
   "execution_count": 18,
   "metadata": {},
   "outputs": [],
   "source": [
    "top3_with_df['calculated_pmoles'] = top3_with_df.average_intensity / universal_signal_response_factor"
   ]
  },
  {
   "cell_type": "code",
   "execution_count": 19,
   "metadata": {},
   "outputs": [
    {
     "data": {
      "text/plain": [
       "1.2300224670279412"
      ]
     },
     "execution_count": 19,
     "metadata": {},
     "output_type": "execute_result"
    }
   ],
   "source": [
    "# calculate the CV for the signal response factor\n",
    "cv = top3_with_df.signal_response_factor.std() / top3_with_df.signal_response_factor.mean()\n",
    "cv"
   ]
  },
  {
   "cell_type": "code",
   "execution_count": 20,
   "metadata": {},
   "outputs": [
    {
     "data": {
      "text/plain": [
       "'61.5% of proteins had at least one of their top-3 peptides adjusted for saturation'"
      ]
     },
     "execution_count": 20,
     "metadata": {},
     "output_type": "execute_result"
    }
   ],
   "source": [
    "'{}% of proteins had at least one of their top-3 peptides adjusted for saturation'.format(round(len(top3_with_df[(top3_with_df.intensity_adjusted == True)]) / len(top3_with_df) * 100,1))"
   ]
  },
  {
   "cell_type": "markdown",
   "metadata": {},
   "source": [
    "#### without correction"
   ]
  },
  {
   "cell_type": "code",
   "execution_count": 21,
   "metadata": {},
   "outputs": [
    {
     "name": "stdout",
     "output_type": "stream",
     "text": [
      "didn't have three peptides for P00167ups|CYB5_HUMAN_UPS\n",
      "didn't have three peptides for P00709ups|LALBA_HUMAN_UPS\n",
      "didn't have three peptides for P06732ups|KCRM_HUMAN_UPS\n",
      "didn't have three peptides for P15559ups|NQO1_HUMAN_UPS\n",
      "didn't have three peptides for P62937ups|PPIA_HUMAN_UPS\n",
      "didn't have three peptides for P62988ups|UBIQ_HUMAN_UPS\n"
     ]
    }
   ],
   "source": [
    "# find the three most intense peptides for each protein\n",
    "top3_l = []\n",
    "for group_name,group_df in identifications_without_cs_df.groupby('protein id'):\n",
    "    df = group_df.sort_values(by=['feature_intensity'], ascending=False, inplace=False)\n",
    "    top3_df = df.head(n=3)\n",
    "    if len(top3_df) == 3:\n",
    "        uniprot_id = group_name.split('ups')[0]\n",
    "        pmoles = ups2_d[uniprot_id] / 1000\n",
    "        average_intensity = top3_df.feature_intensity.mean()\n",
    "        signal_response_factor = average_intensity / pmoles\n",
    "        peptide_count = len(df)\n",
    "        attribs_d = top3_df[['feature_id','sequence','charge','feature_intensity']].to_dict('records')\n",
    "        top3_l.append({'protein':group_name, 'pmoles':pmoles, 'average_intensity':average_intensity, 'signal_response_factor':signal_response_factor, 'peptide_count':peptide_count, 'attribs_d':attribs_d})\n",
    "    else:\n",
    "        print('didn\\'t have three peptides for {}'.format(group_name))\n",
    "top3_without_df = pd.DataFrame(top3_l)"
   ]
  },
  {
   "cell_type": "code",
   "execution_count": 22,
   "metadata": {},
   "outputs": [
    {
     "data": {
      "text/plain": [
       "1715.1133333333335"
      ]
     },
     "execution_count": 22,
     "metadata": {},
     "output_type": "execute_result"
    }
   ],
   "source": [
    "# using Serum albumin (P02768) as an internal reference\n",
    "universal_signal_response_factor = top3_without_df[top3_without_df.protein.str.startswith('P02768')].iloc[0].signal_response_factor\n",
    "universal_signal_response_factor"
   ]
  },
  {
   "cell_type": "code",
   "execution_count": 23,
   "metadata": {},
   "outputs": [],
   "source": [
    "top3_without_df['calculated_pmoles'] = top3_without_df.average_intensity / universal_signal_response_factor"
   ]
  },
  {
   "cell_type": "code",
   "execution_count": 24,
   "metadata": {},
   "outputs": [
    {
     "data": {
      "text/plain": [
       "1.2531354833072597"
      ]
     },
     "execution_count": 24,
     "metadata": {},
     "output_type": "execute_result"
    }
   ],
   "source": [
    "# calculate the CV for the signal response factor\n",
    "cv = top3_without_df.signal_response_factor.std() / top3_without_df.signal_response_factor.mean()\n",
    "cv"
   ]
  },
  {
   "cell_type": "markdown",
   "metadata": {},
   "source": [
    "#### calculate correlation"
   ]
  },
  {
   "cell_type": "code",
   "execution_count": 25,
   "metadata": {},
   "outputs": [],
   "source": [
    "combined_df = pd.merge(top3_with_df, top3_without_df, how='inner', left_on=['protein'], right_on=['protein'], suffixes=['_with','_without'])"
   ]
  },
  {
   "cell_type": "code",
   "execution_count": 26,
   "metadata": {},
   "outputs": [
    {
     "data": {
      "text/plain": [
       "13"
      ]
     },
     "execution_count": 26,
     "metadata": {},
     "output_type": "execute_result"
    }
   ],
   "source": [
    "len(combined_df)"
   ]
  },
  {
   "cell_type": "code",
   "execution_count": 27,
   "metadata": {},
   "outputs": [
    {
     "data": {
      "text/html": [
       "<div>\n",
       "<style scoped>\n",
       "    .dataframe tbody tr th:only-of-type {\n",
       "        vertical-align: middle;\n",
       "    }\n",
       "\n",
       "    .dataframe tbody tr th {\n",
       "        vertical-align: top;\n",
       "    }\n",
       "\n",
       "    .dataframe thead th {\n",
       "        text-align: right;\n",
       "    }\n",
       "</style>\n",
       "<table border=\"1\" class=\"dataframe\">\n",
       "  <thead>\n",
       "    <tr style=\"text-align: right;\">\n",
       "      <th></th>\n",
       "      <th>pmoles_with</th>\n",
       "      <th>average_intensity_with</th>\n",
       "      <th>average_intensity_without</th>\n",
       "      <th>calculated_pmoles_with</th>\n",
       "      <th>calculated_pmoles_without</th>\n",
       "    </tr>\n",
       "  </thead>\n",
       "  <tbody>\n",
       "    <tr>\n",
       "      <th>3</th>\n",
       "      <td>5.0</td>\n",
       "      <td>6117.333333</td>\n",
       "      <td>6117.333333</td>\n",
       "      <td>2.639375</td>\n",
       "      <td>3.566723</td>\n",
       "    </tr>\n",
       "    <tr>\n",
       "      <th>1</th>\n",
       "      <td>50.0</td>\n",
       "      <td>50821.333333</td>\n",
       "      <td>44914.333333</td>\n",
       "      <td>21.927296</td>\n",
       "      <td>26.187385</td>\n",
       "    </tr>\n",
       "    <tr>\n",
       "      <th>9</th>\n",
       "      <td>5.0</td>\n",
       "      <td>1740.000000</td>\n",
       "      <td>1740.000000</td>\n",
       "      <td>0.750738</td>\n",
       "      <td>1.014510</td>\n",
       "    </tr>\n",
       "    <tr>\n",
       "      <th>11</th>\n",
       "      <td>50.0</td>\n",
       "      <td>18805.333333</td>\n",
       "      <td>18805.333333</td>\n",
       "      <td>8.113721</td>\n",
       "      <td>10.964484</td>\n",
       "    </tr>\n",
       "    <tr>\n",
       "      <th>2</th>\n",
       "      <td>50.0</td>\n",
       "      <td>38016.333333</td>\n",
       "      <td>21627.333333</td>\n",
       "      <td>16.402470</td>\n",
       "      <td>12.609857</td>\n",
       "    </tr>\n",
       "    <tr>\n",
       "      <th>5</th>\n",
       "      <td>5.0</td>\n",
       "      <td>40754.333333</td>\n",
       "      <td>35426.666667</td>\n",
       "      <td>17.583804</td>\n",
       "      <td>20.655583</td>\n",
       "    </tr>\n",
       "    <tr>\n",
       "      <th>4</th>\n",
       "      <td>50.0</td>\n",
       "      <td>115886.000000</td>\n",
       "      <td>85755.666667</td>\n",
       "      <td>50.000000</td>\n",
       "      <td>50.000000</td>\n",
       "    </tr>\n",
       "    <tr>\n",
       "      <th>10</th>\n",
       "      <td>50.0</td>\n",
       "      <td>48116.666667</td>\n",
       "      <td>39327.666667</td>\n",
       "      <td>20.760345</td>\n",
       "      <td>22.930069</td>\n",
       "    </tr>\n",
       "    <tr>\n",
       "      <th>12</th>\n",
       "      <td>5.0</td>\n",
       "      <td>8232.000000</td>\n",
       "      <td>8232.000000</td>\n",
       "      <td>3.551766</td>\n",
       "      <td>4.799683</td>\n",
       "    </tr>\n",
       "    <tr>\n",
       "      <th>7</th>\n",
       "      <td>50.0</td>\n",
       "      <td>35332.666667</td>\n",
       "      <td>30992.333333</td>\n",
       "      <td>15.244579</td>\n",
       "      <td>18.070137</td>\n",
       "    </tr>\n",
       "  </tbody>\n",
       "</table>\n",
       "</div>"
      ],
      "text/plain": [
       "    pmoles_with  average_intensity_with  average_intensity_without  \\\n",
       "3           5.0             6117.333333                6117.333333   \n",
       "1          50.0            50821.333333               44914.333333   \n",
       "9           5.0             1740.000000                1740.000000   \n",
       "11         50.0            18805.333333               18805.333333   \n",
       "2          50.0            38016.333333               21627.333333   \n",
       "5           5.0            40754.333333               35426.666667   \n",
       "4          50.0           115886.000000               85755.666667   \n",
       "10         50.0            48116.666667               39327.666667   \n",
       "12          5.0             8232.000000                8232.000000   \n",
       "7          50.0            35332.666667               30992.333333   \n",
       "\n",
       "    calculated_pmoles_with  calculated_pmoles_without  \n",
       "3                 2.639375                   3.566723  \n",
       "1                21.927296                  26.187385  \n",
       "9                 0.750738                   1.014510  \n",
       "11                8.113721                  10.964484  \n",
       "2                16.402470                  12.609857  \n",
       "5                17.583804                  20.655583  \n",
       "4                50.000000                  50.000000  \n",
       "10               20.760345                  22.930069  \n",
       "12                3.551766                   4.799683  \n",
       "7                15.244579                  18.070137  "
      ]
     },
     "execution_count": 27,
     "metadata": {},
     "output_type": "execute_result"
    }
   ],
   "source": [
    "combined_df[['pmoles_with','average_intensity_with','average_intensity_without','calculated_pmoles_with','calculated_pmoles_without']].sample(n=10)"
   ]
  },
  {
   "cell_type": "code",
   "execution_count": 28,
   "metadata": {},
   "outputs": [
    {
     "data": {
      "text/html": [
       "<div>\n",
       "<style scoped>\n",
       "    .dataframe tbody tr th:only-of-type {\n",
       "        vertical-align: middle;\n",
       "    }\n",
       "\n",
       "    .dataframe tbody tr th {\n",
       "        vertical-align: top;\n",
       "    }\n",
       "\n",
       "    .dataframe thead th {\n",
       "        text-align: right;\n",
       "    }\n",
       "</style>\n",
       "<table border=\"1\" class=\"dataframe\">\n",
       "  <thead>\n",
       "    <tr style=\"text-align: right;\">\n",
       "      <th></th>\n",
       "      <th>protein</th>\n",
       "      <th>pmoles_with</th>\n",
       "      <th>average_intensity_with</th>\n",
       "      <th>signal_response_factor_with</th>\n",
       "      <th>peptide_count_with</th>\n",
       "      <th>intensity_adjusted</th>\n",
       "      <th>attribs_d_with</th>\n",
       "      <th>calculated_pmoles_with</th>\n",
       "      <th>pmoles_without</th>\n",
       "      <th>average_intensity_without</th>\n",
       "      <th>signal_response_factor_without</th>\n",
       "      <th>peptide_count_without</th>\n",
       "      <th>attribs_d_without</th>\n",
       "      <th>calculated_pmoles_without</th>\n",
       "    </tr>\n",
       "  </thead>\n",
       "  <tbody>\n",
       "    <tr>\n",
       "      <th>4</th>\n",
       "      <td>P02768ups|ALBU_HUMAN_UPS</td>\n",
       "      <td>50.0</td>\n",
       "      <td>115886.0</td>\n",
       "      <td>2317.72</td>\n",
       "      <td>141</td>\n",
       "      <td>True</td>\n",
       "      <td>[{'feature_id': 4736101, 'sequence': 'MPCAEDYL...</td>\n",
       "      <td>50.0</td>\n",
       "      <td>50.0</td>\n",
       "      <td>85755.666667</td>\n",
       "      <td>1715.113333</td>\n",
       "      <td>140</td>\n",
       "      <td>[{'feature_id': 4736101, 'sequence': 'MPCAEDYL...</td>\n",
       "      <td>50.0</td>\n",
       "    </tr>\n",
       "  </tbody>\n",
       "</table>\n",
       "</div>"
      ],
      "text/plain": [
       "                    protein  pmoles_with  average_intensity_with  \\\n",
       "4  P02768ups|ALBU_HUMAN_UPS         50.0                115886.0   \n",
       "\n",
       "   signal_response_factor_with  peptide_count_with  intensity_adjusted  \\\n",
       "4                      2317.72                 141                True   \n",
       "\n",
       "                                      attribs_d_with  calculated_pmoles_with  \\\n",
       "4  [{'feature_id': 4736101, 'sequence': 'MPCAEDYL...                    50.0   \n",
       "\n",
       "   pmoles_without  average_intensity_without  signal_response_factor_without  \\\n",
       "4            50.0               85755.666667                     1715.113333   \n",
       "\n",
       "   peptide_count_without                                  attribs_d_without  \\\n",
       "4                    140  [{'feature_id': 4736101, 'sequence': 'MPCAEDYL...   \n",
       "\n",
       "   calculated_pmoles_without  \n",
       "4                       50.0  "
      ]
     },
     "execution_count": 28,
     "metadata": {},
     "output_type": "execute_result"
    }
   ],
   "source": [
    "combined_df[combined_df.protein.str.startswith('P02768')]"
   ]
  },
  {
   "cell_type": "code",
   "execution_count": 30,
   "metadata": {},
   "outputs": [],
   "source": [
    "universal_signal_response_factor_with = combined_df[combined_df.protein.str.startswith('P02768')].iloc[0].signal_response_factor_with\n",
    "universal_signal_response_factor_without = combined_df[combined_df.protein.str.startswith('P02768')].iloc[0].signal_response_factor_without"
   ]
  },
  {
   "cell_type": "code",
   "execution_count": 31,
   "metadata": {},
   "outputs": [],
   "source": [
    "combined_df['calculated_pmoles_with'] = combined_df.average_intensity_with / universal_signal_response_factor_with\n",
    "combined_df['calculated_pmoles_without'] = combined_df.average_intensity_without / universal_signal_response_factor_without"
   ]
  },
  {
   "cell_type": "code",
   "execution_count": 32,
   "metadata": {},
   "outputs": [
    {
     "data": {
      "text/plain": [
       "0.6663992156900627"
      ]
     },
     "execution_count": 32,
     "metadata": {},
     "output_type": "execute_result"
    }
   ],
   "source": [
    "combined_df['pmoles_with'].corr(combined_df['calculated_pmoles_with'])"
   ]
  },
  {
   "cell_type": "code",
   "execution_count": 33,
   "metadata": {},
   "outputs": [
    {
     "data": {
      "text/plain": [
       "0.677690772965348"
      ]
     },
     "execution_count": 33,
     "metadata": {},
     "output_type": "execute_result"
    }
   ],
   "source": [
    "combined_df['pmoles_without'].corr(combined_df['calculated_pmoles_without'])"
   ]
  },
  {
   "cell_type": "markdown",
   "metadata": {},
   "source": [
    "### analyse UPS1"
   ]
  },
  {
   "cell_type": "markdown",
   "metadata": {},
   "source": [
    "#### identifications with correction for saturation"
   ]
  },
  {
   "cell_type": "code",
   "execution_count": 34,
   "metadata": {},
   "outputs": [],
   "source": [
    "IDENTIFICATIONS_UPS1_WITH_CS_DIR = '{}/results-P3830/P3830-results-cs-true-fmdw-false-2021-08-28-03-41-51/identifications-pasef'.format(BASE_RESULTS_DIR)\n",
    "IDENTIFICATIONS_UPS1_WITH_CS_FILE = '{}/exp-{}-identifications-{}-recalibrated.feather'.format(IDENTIFICATIONS_UPS1_WITH_CS_DIR, experiment_name, feature_detection_method)"
   ]
  },
  {
   "cell_type": "code",
   "execution_count": 35,
   "metadata": {},
   "outputs": [],
   "source": [
    "# load the identifications\n",
    "identifications_UPS1_with_cs_df = pd.read_feather(IDENTIFICATIONS_UPS1_WITH_CS_FILE)\n",
    "identifications_UPS1_with_cs_df = identifications_UPS1_with_cs_df[(identifications_UPS1_with_cs_df['percolator q-value'] <= MAXIMUM_Q_VALUE) & (~identifications_UPS1_with_cs_df['protein id'].str.contains('YEAST'))]"
   ]
  },
  {
   "cell_type": "code",
   "execution_count": 36,
   "metadata": {},
   "outputs": [
    {
     "data": {
      "text/html": [
       "<div>\n",
       "<style scoped>\n",
       "    .dataframe tbody tr th:only-of-type {\n",
       "        vertical-align: middle;\n",
       "    }\n",
       "\n",
       "    .dataframe tbody tr th {\n",
       "        vertical-align: top;\n",
       "    }\n",
       "\n",
       "    .dataframe thead th {\n",
       "        text-align: right;\n",
       "    }\n",
       "</style>\n",
       "<table border=\"1\" class=\"dataframe\">\n",
       "  <thead>\n",
       "    <tr style=\"text-align: right;\">\n",
       "      <th></th>\n",
       "      <th>counts</th>\n",
       "      <th>%</th>\n",
       "    </tr>\n",
       "  </thead>\n",
       "  <tbody>\n",
       "    <tr>\n",
       "      <th>monoisotopic_not_saturated</th>\n",
       "      <td>349</td>\n",
       "      <td>92.1</td>\n",
       "    </tr>\n",
       "    <tr>\n",
       "      <th>monoisotopic_saturated_adjusted</th>\n",
       "      <td>30</td>\n",
       "      <td>7.9</td>\n",
       "    </tr>\n",
       "  </tbody>\n",
       "</table>\n",
       "</div>"
      ],
      "text/plain": [
       "                                 counts     %\n",
       "monoisotopic_not_saturated          349  92.1\n",
       "monoisotopic_saturated_adjusted      30   7.9"
      ]
     },
     "execution_count": 36,
     "metadata": {},
     "output_type": "execute_result"
    }
   ],
   "source": [
    "s1 = identifications_UPS1_with_cs_df.mono_intensity_adjustment_outcome.value_counts(normalize=False).rename('counts', inplace=True)\n",
    "s2 = round(identifications_UPS1_with_cs_df.mono_intensity_adjustment_outcome.value_counts(normalize=True)*100,1).rename('%', inplace=True)\n",
    "pd.concat([s1, s2], axis=1)"
   ]
  },
  {
   "cell_type": "code",
   "execution_count": 37,
   "metadata": {},
   "outputs": [
    {
     "name": "stdout",
     "output_type": "stream",
     "text": [
      "number of unique proteins: 46\n"
     ]
    }
   ],
   "source": [
    "print('number of unique proteins: {}'.format(len(identifications_UPS1_with_cs_df['protein id'].unique())))"
   ]
  },
  {
   "cell_type": "markdown",
   "metadata": {},
   "source": [
    "#### identifications without correction for saturation"
   ]
  },
  {
   "cell_type": "code",
   "execution_count": 38,
   "metadata": {},
   "outputs": [],
   "source": [
    "IDENTIFICATIONS_UPS1_WITHOUT_CS_DIR = '{}/results-P3830/P3830-results-cs-false-fmdw-false-2021-08-28-06-20-27/identifications-pasef'.format(BASE_RESULTS_DIR)\n",
    "IDENTIFICATIONS_UPS1_WITHOUT_CS_FILE = '{}/exp-{}-identifications-{}-recalibrated.feather'.format(IDENTIFICATIONS_UPS1_WITHOUT_CS_DIR, experiment_name, feature_detection_method)"
   ]
  },
  {
   "cell_type": "code",
   "execution_count": 39,
   "metadata": {},
   "outputs": [],
   "source": [
    "# load the identifications\n",
    "identifications_UPS1_without_cs_df = pd.read_feather(IDENTIFICATIONS_UPS1_WITHOUT_CS_FILE)\n",
    "identifications_UPS1_without_cs_df = identifications_UPS1_without_cs_df[(identifications_UPS1_without_cs_df['percolator q-value'] <= MAXIMUM_Q_VALUE) & (~identifications_UPS1_without_cs_df['protein id'].str.contains('YEAST'))]"
   ]
  },
  {
   "cell_type": "code",
   "execution_count": 40,
   "metadata": {},
   "outputs": [
    {
     "data": {
      "text/html": [
       "<div>\n",
       "<style scoped>\n",
       "    .dataframe tbody tr th:only-of-type {\n",
       "        vertical-align: middle;\n",
       "    }\n",
       "\n",
       "    .dataframe tbody tr th {\n",
       "        vertical-align: top;\n",
       "    }\n",
       "\n",
       "    .dataframe thead th {\n",
       "        text-align: right;\n",
       "    }\n",
       "</style>\n",
       "<table border=\"1\" class=\"dataframe\">\n",
       "  <thead>\n",
       "    <tr style=\"text-align: right;\">\n",
       "      <th></th>\n",
       "      <th>counts</th>\n",
       "      <th>%</th>\n",
       "    </tr>\n",
       "  </thead>\n",
       "  <tbody>\n",
       "    <tr>\n",
       "      <th>monoisotopic_not_saturated</th>\n",
       "      <td>348</td>\n",
       "      <td>92.1</td>\n",
       "    </tr>\n",
       "    <tr>\n",
       "      <th>monoisotopic_saturated_adjusted</th>\n",
       "      <td>30</td>\n",
       "      <td>7.9</td>\n",
       "    </tr>\n",
       "  </tbody>\n",
       "</table>\n",
       "</div>"
      ],
      "text/plain": [
       "                                 counts     %\n",
       "monoisotopic_not_saturated          348  92.1\n",
       "monoisotopic_saturated_adjusted      30   7.9"
      ]
     },
     "execution_count": 40,
     "metadata": {},
     "output_type": "execute_result"
    }
   ],
   "source": [
    "s1 = identifications_UPS1_without_cs_df.mono_intensity_adjustment_outcome.value_counts(normalize=False).rename('counts', inplace=True)\n",
    "s2 = round(identifications_UPS1_without_cs_df.mono_intensity_adjustment_outcome.value_counts(normalize=True)*100,1).rename('%', inplace=True)\n",
    "pd.concat([s1, s2], axis=1)"
   ]
  },
  {
   "cell_type": "code",
   "execution_count": 41,
   "metadata": {},
   "outputs": [
    {
     "name": "stdout",
     "output_type": "stream",
     "text": [
      "number of unique proteins: 46\n"
     ]
    }
   ],
   "source": [
    "print('number of unique proteins: {}'.format(len(identifications_UPS1_without_cs_df['protein id'].unique())))"
   ]
  },
  {
   "cell_type": "markdown",
   "metadata": {},
   "source": [
    "### relative abundance of proteins found in common between UPS1 and UPS2"
   ]
  },
  {
   "cell_type": "markdown",
   "metadata": {},
   "source": [
    "#### with correction"
   ]
  },
  {
   "cell_type": "code",
   "execution_count": 42,
   "metadata": {},
   "outputs": [
    {
     "data": {
      "text/plain": [
       "array(['P02768ups|ALBU_HUMAN_UPS', 'P00441ups|SODC_HUMAN_UPS',\n",
       "       'P10636-8ups|TAU_HUMAN_UPS', 'P02787ups|TRFE_HUMAN_UPS',\n",
       "       'P08758ups|ANXA5_HUMAN_UPS', 'P00918ups|CAH2_HUMAN_UPS',\n",
       "       'P01031ups|CO5_HUMAN_UPS', 'Q06830ups|PRDX1_HUMAN_UPS',\n",
       "       'P06396ups|GELS_HUMAN_UPS', 'O76070ups|SYUG_HUMAN_UPS',\n",
       "       'P04040ups|CATA_HUMAN_UPS', 'P02788ups|TRFL_HUMAN_UPS',\n",
       "       'P10145ups|IL8_HUMAN_UPS', 'Q15843ups|NEDD8_HUMAN_UPS',\n",
       "       'P01008ups|ANT3_HUMAN_UPS', 'P12081ups|SYHC_HUMAN_UPS',\n",
       "       'P00167ups|CYB5_HUMAN_UPS', 'P00709ups|LALBA_HUMAN_UPS',\n",
       "       'P55957ups|BID_HUMAN_UPS', 'P06732ups|KCRM_HUMAN_UPS',\n",
       "       'P68871ups|HBB_HUMAN_UPS', 'P00915ups|CAH1_HUMAN_UPS',\n",
       "       'O00762ups|UBE2C_HUMAN_UPS', 'P41159ups|LEP_HUMAN_UPS',\n",
       "       'P09211ups|GSTP1_HUMAN_UPS', 'P05413ups|FABPH_HUMAN_UPS',\n",
       "       'P02144ups|MYG_HUMAN_UPS', 'P15559ups|NQO1_HUMAN_UPS',\n",
       "       'P08263ups|GSTA1_HUMAN_UPS', 'P16083ups|NQO2_HUMAN_UPS',\n",
       "       'P99999ups|CYC_HUMAN_UPS', 'P61769ups|B2MG_HUMAN_UPS',\n",
       "       'P01112ups|RASH_HUMAN_UPS', 'P01579ups|IFNG_HUMAN_UPS',\n",
       "       'P02741ups|CRP_HUMAN_UPS', 'P62988ups|UBIQ_HUMAN_UPS',\n",
       "       'P01375ups|TNFA_HUMAN_UPS', 'P69905ups|HBA_HUMAN_UPS',\n",
       "       'P01127ups|PDGFB_HUMAN_UPS', 'P63279ups|UBC9_HUMAN_UPS',\n",
       "       'P51965ups|UB2E1_HUMAN_UPS', 'P02753ups|RETBP_HUMAN_UPS',\n",
       "       'P01344ups|IGF2_HUMAN_UPS',\n",
       "       'P62937ups|PPIA_HUMAN_UPS,P62988ups|UBIQ_HUMAN_UPS,O76070ups|SYUG_HUMAN_UPS',\n",
       "       'P63165ups|SUMO1_HUMAN_UPS', 'P62937ups|PPIA_HUMAN_UPS'],\n",
       "      dtype=object)"
      ]
     },
     "execution_count": 42,
     "metadata": {},
     "output_type": "execute_result"
    }
   ],
   "source": [
    "identifications_UPS1_with_cs_df['protein id'].unique()"
   ]
  },
  {
   "cell_type": "code",
   "execution_count": 43,
   "metadata": {},
   "outputs": [
    {
     "name": "stdout",
     "output_type": "stream",
     "text": [
      "didn't have three peptides for P01344ups|IGF2_HUMAN_UPS\n",
      "didn't have three peptides for P01375ups|TNFA_HUMAN_UPS\n",
      "didn't have three peptides for P02741ups|CRP_HUMAN_UPS\n",
      "didn't have three peptides for P08263ups|GSTA1_HUMAN_UPS\n",
      "didn't have three peptides for P10145ups|IL8_HUMAN_UPS\n",
      "didn't have three peptides for P15559ups|NQO1_HUMAN_UPS\n",
      "didn't have three peptides for P51965ups|UB2E1_HUMAN_UPS\n",
      "didn't have three peptides for P61769ups|B2MG_HUMAN_UPS\n",
      "didn't have three peptides for P62937ups|PPIA_HUMAN_UPS\n",
      "didn't have three peptides for P62988ups|UBIQ_HUMAN_UPS\n",
      "didn't have three peptides for P63279ups|UBC9_HUMAN_UPS\n",
      "didn't have three peptides for P69905ups|HBA_HUMAN_UPS\n",
      "didn't have three peptides for Q15843ups|NEDD8_HUMAN_UPS\n"
     ]
    }
   ],
   "source": [
    "# find the three most intense peptides for each protein\n",
    "top3_l = []\n",
    "for group_name,group_df in identifications_UPS1_with_cs_df.groupby('protein id'):\n",
    "    df = group_df.sort_values(by=['feature_intensity'], ascending=False, inplace=False)\n",
    "    top3_df = df.head(n=3)\n",
    "    if len(top3_df) == 3:\n",
    "        uniprot_id = group_name.split('ups')[0]\n",
    "        pmoles = ups2_d[uniprot_id] / 1000\n",
    "        average_intensity = top3_df.feature_intensity.mean()\n",
    "        signal_response_factor = average_intensity / pmoles\n",
    "        peptide_count = len(df)\n",
    "        intensity_adjusted = 'monoisotopic_saturated_adjusted' in list(top3_df.mono_intensity_adjustment_outcome)\n",
    "        attribs_d = top3_df[['feature_id','sequence','charge','feature_intensity']].to_dict('records')\n",
    "        top3_l.append({'protein':group_name, 'pmoles':pmoles, 'average_intensity':average_intensity, 'signal_response_factor':signal_response_factor, 'peptide_count':peptide_count, 'intensity_adjusted':intensity_adjusted, 'attribs_d':attribs_d})\n",
    "    else:\n",
    "        print('didn\\'t have three peptides for {}'.format(group_name))\n",
    "top3_UPS1_with_df = pd.DataFrame(top3_l)"
   ]
  },
  {
   "cell_type": "code",
   "execution_count": 44,
   "metadata": {},
   "outputs": [
    {
     "data": {
      "text/plain": [
       "1118.58"
      ]
     },
     "execution_count": 44,
     "metadata": {},
     "output_type": "execute_result"
    }
   ],
   "source": [
    "# using Serum albumin (P02768) as an internal reference\n",
    "universal_signal_response_factor = top3_UPS1_with_df[top3_UPS1_with_df.protein.str.startswith('P02768')].iloc[0].signal_response_factor\n",
    "universal_signal_response_factor"
   ]
  },
  {
   "cell_type": "code",
   "execution_count": 45,
   "metadata": {},
   "outputs": [],
   "source": [
    "top3_UPS1_with_df['calculated_pmoles'] = top3_UPS1_with_df.average_intensity / universal_signal_response_factor"
   ]
  },
  {
   "cell_type": "code",
   "execution_count": 46,
   "metadata": {},
   "outputs": [
    {
     "data": {
      "text/plain": [
       "2.4223674584912525"
      ]
     },
     "execution_count": 46,
     "metadata": {},
     "output_type": "execute_result"
    }
   ],
   "source": [
    "# calculate the CV for the signal response factor\n",
    "cv = top3_UPS1_with_df.signal_response_factor.std() / top3_UPS1_with_df.signal_response_factor.mean()\n",
    "cv"
   ]
  },
  {
   "cell_type": "code",
   "execution_count": 47,
   "metadata": {},
   "outputs": [
    {
     "data": {
      "text/plain": [
       "'51.5% of proteins had at least one of their top-3 peptides adjusted for saturation'"
      ]
     },
     "execution_count": 47,
     "metadata": {},
     "output_type": "execute_result"
    }
   ],
   "source": [
    "'{}% of proteins had at least one of their top-3 peptides adjusted for saturation'.format(round(len(top3_UPS1_with_df[(top3_UPS1_with_df.intensity_adjusted == True)]) / len(top3_UPS1_with_df) * 100,1))"
   ]
  },
  {
   "cell_type": "markdown",
   "metadata": {},
   "source": [
    "#### without correction"
   ]
  },
  {
   "cell_type": "code",
   "execution_count": 48,
   "metadata": {},
   "outputs": [
    {
     "name": "stdout",
     "output_type": "stream",
     "text": [
      "didn't have three peptides for P01344ups|IGF2_HUMAN_UPS\n",
      "didn't have three peptides for P01375ups|TNFA_HUMAN_UPS\n",
      "didn't have three peptides for P02741ups|CRP_HUMAN_UPS\n",
      "didn't have three peptides for P08263ups|GSTA1_HUMAN_UPS\n",
      "didn't have three peptides for P10145ups|IL8_HUMAN_UPS\n",
      "didn't have three peptides for P15559ups|NQO1_HUMAN_UPS\n",
      "didn't have three peptides for P51965ups|UB2E1_HUMAN_UPS\n",
      "didn't have three peptides for P61769ups|B2MG_HUMAN_UPS\n",
      "didn't have three peptides for P62937ups|PPIA_HUMAN_UPS\n",
      "didn't have three peptides for P62988ups|UBIQ_HUMAN_UPS\n",
      "didn't have three peptides for P63279ups|UBC9_HUMAN_UPS\n",
      "didn't have three peptides for P69905ups|HBA_HUMAN_UPS\n",
      "didn't have three peptides for Q15843ups|NEDD8_HUMAN_UPS\n"
     ]
    }
   ],
   "source": [
    "# find the three most intense peptides for each protein\n",
    "top3_l = []\n",
    "for group_name,group_df in identifications_UPS1_without_cs_df.groupby('protein id'):\n",
    "    df = group_df.sort_values(by=['feature_intensity'], ascending=False, inplace=False)\n",
    "    top3_df = df.head(n=3)\n",
    "    if len(top3_df) == 3:\n",
    "        uniprot_id = group_name.split('ups')[0]\n",
    "        pmoles = ups2_d[uniprot_id] / 1000\n",
    "        average_intensity = top3_df.feature_intensity.mean()\n",
    "        signal_response_factor = average_intensity / pmoles\n",
    "        peptide_count = len(df)\n",
    "        attribs_d = top3_df[['feature_id','sequence','charge','feature_intensity']].to_dict('records')\n",
    "        top3_l.append({'protein':group_name, 'pmoles':pmoles, 'average_intensity':average_intensity, 'signal_response_factor':signal_response_factor, 'peptide_count':peptide_count, 'attribs_d':attribs_d})\n",
    "    else:\n",
    "        print('didn\\'t have three peptides for {}'.format(group_name))\n",
    "top3_UPS1_without_df = pd.DataFrame(top3_l)"
   ]
  },
  {
   "cell_type": "code",
   "execution_count": 49,
   "metadata": {},
   "outputs": [
    {
     "data": {
      "text/plain": [
       "775.22"
      ]
     },
     "execution_count": 49,
     "metadata": {},
     "output_type": "execute_result"
    }
   ],
   "source": [
    "# using Serum albumin (P02768) as an internal reference\n",
    "universal_signal_response_factor = top3_UPS1_without_df[top3_UPS1_without_df.protein.str.startswith('P02768')].iloc[0].signal_response_factor\n",
    "universal_signal_response_factor"
   ]
  },
  {
   "cell_type": "code",
   "execution_count": 50,
   "metadata": {},
   "outputs": [],
   "source": [
    "top3_UPS1_without_df['calculated_pmoles'] = top3_UPS1_without_df.average_intensity / universal_signal_response_factor"
   ]
  },
  {
   "cell_type": "code",
   "execution_count": 51,
   "metadata": {},
   "outputs": [
    {
     "data": {
      "text/plain": [
       "2.450091108516744"
      ]
     },
     "execution_count": 51,
     "metadata": {},
     "output_type": "execute_result"
    }
   ],
   "source": [
    "# calculate the CV for the signal response factor\n",
    "cv = top3_UPS1_without_df.signal_response_factor.std() / top3_UPS1_without_df.signal_response_factor.mean()\n",
    "cv"
   ]
  },
  {
   "cell_type": "markdown",
   "metadata": {},
   "source": [
    "#### calculate correlation"
   ]
  },
  {
   "cell_type": "code",
   "execution_count": 52,
   "metadata": {},
   "outputs": [],
   "source": [
    "combined_UPS1_df = pd.merge(top3_UPS1_with_df, top3_UPS1_without_df, how='inner', left_on=['protein'], right_on=['protein'], suffixes=['_with','_without'])"
   ]
  },
  {
   "cell_type": "code",
   "execution_count": 53,
   "metadata": {},
   "outputs": [
    {
     "data": {
      "text/plain": [
       "33"
      ]
     },
     "execution_count": 53,
     "metadata": {},
     "output_type": "execute_result"
    }
   ],
   "source": [
    "len(combined_UPS1_df)"
   ]
  },
  {
   "cell_type": "code",
   "execution_count": 54,
   "metadata": {},
   "outputs": [
    {
     "data": {
      "text/html": [
       "<div>\n",
       "<style scoped>\n",
       "    .dataframe tbody tr th:only-of-type {\n",
       "        vertical-align: middle;\n",
       "    }\n",
       "\n",
       "    .dataframe tbody tr th {\n",
       "        vertical-align: top;\n",
       "    }\n",
       "\n",
       "    .dataframe thead th {\n",
       "        text-align: right;\n",
       "    }\n",
       "</style>\n",
       "<table border=\"1\" class=\"dataframe\">\n",
       "  <thead>\n",
       "    <tr style=\"text-align: right;\">\n",
       "      <th></th>\n",
       "      <th>pmoles_with</th>\n",
       "      <th>average_intensity_with</th>\n",
       "      <th>average_intensity_without</th>\n",
       "      <th>calculated_pmoles_with</th>\n",
       "      <th>calculated_pmoles_without</th>\n",
       "    </tr>\n",
       "  </thead>\n",
       "  <tbody>\n",
       "    <tr>\n",
       "      <th>7</th>\n",
       "      <td>0.0500</td>\n",
       "      <td>12971.000000</td>\n",
       "      <td>12971.000000</td>\n",
       "      <td>11.595952</td>\n",
       "      <td>16.732024</td>\n",
       "    </tr>\n",
       "    <tr>\n",
       "      <th>9</th>\n",
       "      <td>0.0050</td>\n",
       "      <td>4800.666667</td>\n",
       "      <td>4800.666667</td>\n",
       "      <td>4.291751</td>\n",
       "      <td>6.192651</td>\n",
       "    </tr>\n",
       "    <tr>\n",
       "      <th>3</th>\n",
       "      <td>0.0005</td>\n",
       "      <td>29699.333333</td>\n",
       "      <td>29699.333333</td>\n",
       "      <td>26.550925</td>\n",
       "      <td>38.310845</td>\n",
       "    </tr>\n",
       "    <tr>\n",
       "      <th>0</th>\n",
       "      <td>0.0050</td>\n",
       "      <td>6808.000000</td>\n",
       "      <td>6808.000000</td>\n",
       "      <td>6.086288</td>\n",
       "      <td>8.782023</td>\n",
       "    </tr>\n",
       "    <tr>\n",
       "      <th>23</th>\n",
       "      <td>0.0005</td>\n",
       "      <td>21047.000000</td>\n",
       "      <td>20185.666667</td>\n",
       "      <td>18.815820</td>\n",
       "      <td>26.038630</td>\n",
       "    </tr>\n",
       "    <tr>\n",
       "      <th>22</th>\n",
       "      <td>0.0050</td>\n",
       "      <td>9319.000000</td>\n",
       "      <td>9319.000000</td>\n",
       "      <td>8.331098</td>\n",
       "      <td>12.021104</td>\n",
       "    </tr>\n",
       "    <tr>\n",
       "      <th>17</th>\n",
       "      <td>5.0000</td>\n",
       "      <td>48565.666667</td>\n",
       "      <td>42191.666667</td>\n",
       "      <td>43.417249</td>\n",
       "      <td>54.425410</td>\n",
       "    </tr>\n",
       "    <tr>\n",
       "      <th>2</th>\n",
       "      <td>5.0000</td>\n",
       "      <td>11220.333333</td>\n",
       "      <td>10664.333333</td>\n",
       "      <td>10.030872</td>\n",
       "      <td>13.756525</td>\n",
       "    </tr>\n",
       "    <tr>\n",
       "      <th>24</th>\n",
       "      <td>0.5000</td>\n",
       "      <td>16254.000000</td>\n",
       "      <td>16254.000000</td>\n",
       "      <td>14.530923</td>\n",
       "      <td>20.966951</td>\n",
       "    </tr>\n",
       "    <tr>\n",
       "      <th>13</th>\n",
       "      <td>0.5000</td>\n",
       "      <td>6149.000000</td>\n",
       "      <td>6149.000000</td>\n",
       "      <td>5.497148</td>\n",
       "      <td>7.931942</td>\n",
       "    </tr>\n",
       "  </tbody>\n",
       "</table>\n",
       "</div>"
      ],
      "text/plain": [
       "    pmoles_with  average_intensity_with  average_intensity_without  \\\n",
       "7        0.0500            12971.000000               12971.000000   \n",
       "9        0.0050             4800.666667                4800.666667   \n",
       "3        0.0005            29699.333333               29699.333333   \n",
       "0        0.0050             6808.000000                6808.000000   \n",
       "23       0.0005            21047.000000               20185.666667   \n",
       "22       0.0050             9319.000000                9319.000000   \n",
       "17       5.0000            48565.666667               42191.666667   \n",
       "2        5.0000            11220.333333               10664.333333   \n",
       "24       0.5000            16254.000000               16254.000000   \n",
       "13       0.5000             6149.000000                6149.000000   \n",
       "\n",
       "    calculated_pmoles_with  calculated_pmoles_without  \n",
       "7                11.595952                  16.732024  \n",
       "9                 4.291751                   6.192651  \n",
       "3                26.550925                  38.310845  \n",
       "0                 6.086288                   8.782023  \n",
       "23               18.815820                  26.038630  \n",
       "22                8.331098                  12.021104  \n",
       "17               43.417249                  54.425410  \n",
       "2                10.030872                  13.756525  \n",
       "24               14.530923                  20.966951  \n",
       "13                5.497148                   7.931942  "
      ]
     },
     "execution_count": 54,
     "metadata": {},
     "output_type": "execute_result"
    }
   ],
   "source": [
    "combined_UPS1_df[['pmoles_with','average_intensity_with','average_intensity_without','calculated_pmoles_with','calculated_pmoles_without']].sample(n=10)"
   ]
  },
  {
   "cell_type": "code",
   "execution_count": 55,
   "metadata": {},
   "outputs": [
    {
     "data": {
      "text/html": [
       "<div>\n",
       "<style scoped>\n",
       "    .dataframe tbody tr th:only-of-type {\n",
       "        vertical-align: middle;\n",
       "    }\n",
       "\n",
       "    .dataframe tbody tr th {\n",
       "        vertical-align: top;\n",
       "    }\n",
       "\n",
       "    .dataframe thead th {\n",
       "        text-align: right;\n",
       "    }\n",
       "</style>\n",
       "<table border=\"1\" class=\"dataframe\">\n",
       "  <thead>\n",
       "    <tr style=\"text-align: right;\">\n",
       "      <th></th>\n",
       "      <th>protein</th>\n",
       "      <th>pmoles_with</th>\n",
       "      <th>average_intensity_with</th>\n",
       "      <th>signal_response_factor_with</th>\n",
       "      <th>peptide_count_with</th>\n",
       "      <th>intensity_adjusted</th>\n",
       "      <th>attribs_d_with</th>\n",
       "      <th>calculated_pmoles_with</th>\n",
       "      <th>pmoles_without</th>\n",
       "      <th>average_intensity_without</th>\n",
       "      <th>signal_response_factor_without</th>\n",
       "      <th>peptide_count_without</th>\n",
       "      <th>attribs_d_without</th>\n",
       "      <th>calculated_pmoles_without</th>\n",
       "    </tr>\n",
       "  </thead>\n",
       "  <tbody>\n",
       "    <tr>\n",
       "      <th>14</th>\n",
       "      <td>P02768ups|ALBU_HUMAN_UPS</td>\n",
       "      <td>50.0</td>\n",
       "      <td>55929.0</td>\n",
       "      <td>1118.58</td>\n",
       "      <td>48</td>\n",
       "      <td>True</td>\n",
       "      <td>[{'feature_id': 5142901, 'sequence': 'MPCAEDYL...</td>\n",
       "      <td>50.0</td>\n",
       "      <td>50.0</td>\n",
       "      <td>38761.0</td>\n",
       "      <td>775.22</td>\n",
       "      <td>48</td>\n",
       "      <td>[{'feature_id': 5142901, 'sequence': 'MPCAEDYL...</td>\n",
       "      <td>50.0</td>\n",
       "    </tr>\n",
       "  </tbody>\n",
       "</table>\n",
       "</div>"
      ],
      "text/plain": [
       "                     protein  pmoles_with  average_intensity_with  \\\n",
       "14  P02768ups|ALBU_HUMAN_UPS         50.0                 55929.0   \n",
       "\n",
       "    signal_response_factor_with  peptide_count_with  intensity_adjusted  \\\n",
       "14                      1118.58                  48                True   \n",
       "\n",
       "                                       attribs_d_with  calculated_pmoles_with  \\\n",
       "14  [{'feature_id': 5142901, 'sequence': 'MPCAEDYL...                    50.0   \n",
       "\n",
       "    pmoles_without  average_intensity_without  signal_response_factor_without  \\\n",
       "14            50.0                    38761.0                          775.22   \n",
       "\n",
       "    peptide_count_without                                  attribs_d_without  \\\n",
       "14                     48  [{'feature_id': 5142901, 'sequence': 'MPCAEDYL...   \n",
       "\n",
       "    calculated_pmoles_without  \n",
       "14                       50.0  "
      ]
     },
     "execution_count": 55,
     "metadata": {},
     "output_type": "execute_result"
    }
   ],
   "source": [
    "combined_UPS1_df[combined_UPS1_df.protein.str.startswith('P02768')]"
   ]
  },
  {
   "cell_type": "code",
   "execution_count": 56,
   "metadata": {
    "scrolled": true
   },
   "outputs": [
    {
     "data": {
      "text/html": [
       "<div>\n",
       "<style scoped>\n",
       "    .dataframe tbody tr th:only-of-type {\n",
       "        vertical-align: middle;\n",
       "    }\n",
       "\n",
       "    .dataframe tbody tr th {\n",
       "        vertical-align: top;\n",
       "    }\n",
       "\n",
       "    .dataframe thead th {\n",
       "        text-align: right;\n",
       "    }\n",
       "</style>\n",
       "<table border=\"1\" class=\"dataframe\">\n",
       "  <thead>\n",
       "    <tr style=\"text-align: right;\">\n",
       "      <th></th>\n",
       "      <th>protein</th>\n",
       "      <th>pmoles_with</th>\n",
       "      <th>average_intensity_with</th>\n",
       "      <th>signal_response_factor_with</th>\n",
       "      <th>peptide_count_with</th>\n",
       "      <th>intensity_adjusted</th>\n",
       "      <th>attribs_d_with</th>\n",
       "      <th>calculated_pmoles_with</th>\n",
       "      <th>pmoles_without</th>\n",
       "      <th>average_intensity_without</th>\n",
       "      <th>signal_response_factor_without</th>\n",
       "      <th>peptide_count_without</th>\n",
       "      <th>attribs_d_without</th>\n",
       "      <th>calculated_pmoles_without</th>\n",
       "    </tr>\n",
       "  </thead>\n",
       "  <tbody>\n",
       "    <tr>\n",
       "      <th>26</th>\n",
       "      <td>P41159ups|LEP_HUMAN_UPS</td>\n",
       "      <td>50.0000</td>\n",
       "      <td>12496.333333</td>\n",
       "      <td>2.499267e+02</td>\n",
       "      <td>11</td>\n",
       "      <td>True</td>\n",
       "      <td>[{'feature_id': 534101, 'sequence': 'INDISHTQS...</td>\n",
       "      <td>11.171604</td>\n",
       "      <td>50.0000</td>\n",
       "      <td>11904.666667</td>\n",
       "      <td>2.380933e+02</td>\n",
       "      <td>11</td>\n",
       "      <td>[{'feature_id': 534101, 'sequence': 'INDISHTQS...</td>\n",
       "      <td>15.356501</td>\n",
       "    </tr>\n",
       "    <tr>\n",
       "      <th>5</th>\n",
       "      <td>P00915ups|CAH1_HUMAN_UPS</td>\n",
       "      <td>50.0000</td>\n",
       "      <td>9989.333333</td>\n",
       "      <td>1.997867e+02</td>\n",
       "      <td>10</td>\n",
       "      <td>False</td>\n",
       "      <td>[{'feature_id': 1030401, 'sequence': 'HDTSLKPI...</td>\n",
       "      <td>8.930370</td>\n",
       "      <td>50.0000</td>\n",
       "      <td>9989.333333</td>\n",
       "      <td>1.997867e+02</td>\n",
       "      <td>10</td>\n",
       "      <td>[{'feature_id': 1030401, 'sequence': 'HDTSLKPI...</td>\n",
       "      <td>12.885804</td>\n",
       "    </tr>\n",
       "    <tr>\n",
       "      <th>6</th>\n",
       "      <td>P00918ups|CAH2_HUMAN_UPS</td>\n",
       "      <td>50.0000</td>\n",
       "      <td>18428.000000</td>\n",
       "      <td>3.685600e+02</td>\n",
       "      <td>9</td>\n",
       "      <td>True</td>\n",
       "      <td>[{'feature_id': 5162501, 'sequence': 'AVQQPDGL...</td>\n",
       "      <td>16.474459</td>\n",
       "      <td>50.0000</td>\n",
       "      <td>17952.000000</td>\n",
       "      <td>3.590400e+02</td>\n",
       "      <td>9</td>\n",
       "      <td>[{'feature_id': 5162501, 'sequence': 'AVQQPDGL...</td>\n",
       "      <td>23.157297</td>\n",
       "    </tr>\n",
       "    <tr>\n",
       "      <th>14</th>\n",
       "      <td>P02768ups|ALBU_HUMAN_UPS</td>\n",
       "      <td>50.0000</td>\n",
       "      <td>55929.000000</td>\n",
       "      <td>1.118580e+03</td>\n",
       "      <td>48</td>\n",
       "      <td>True</td>\n",
       "      <td>[{'feature_id': 5142901, 'sequence': 'MPCAEDYL...</td>\n",
       "      <td>50.000000</td>\n",
       "      <td>50.0000</td>\n",
       "      <td>38761.000000</td>\n",
       "      <td>7.752200e+02</td>\n",
       "      <td>48</td>\n",
       "      <td>[{'feature_id': 5142901, 'sequence': 'MPCAEDYL...</td>\n",
       "      <td>50.000000</td>\n",
       "    </tr>\n",
       "    <tr>\n",
       "      <th>8</th>\n",
       "      <td>P01031ups|CO5_HUMAN_UPS</td>\n",
       "      <td>50.0000</td>\n",
       "      <td>16770.000000</td>\n",
       "      <td>3.354000e+02</td>\n",
       "      <td>3</td>\n",
       "      <td>True</td>\n",
       "      <td>[{'feature_id': 675301, 'sequence': 'CCYDGACVN...</td>\n",
       "      <td>14.992222</td>\n",
       "      <td>50.0000</td>\n",
       "      <td>13073.666667</td>\n",
       "      <td>2.614733e+02</td>\n",
       "      <td>3</td>\n",
       "      <td>[{'feature_id': 675301, 'sequence': 'CCYDGACVN...</td>\n",
       "      <td>16.864460</td>\n",
       "    </tr>\n",
       "    <tr>\n",
       "      <th>30</th>\n",
       "      <td>P68871ups|HBB_HUMAN_UPS</td>\n",
       "      <td>50.0000</td>\n",
       "      <td>12392.000000</td>\n",
       "      <td>2.478400e+02</td>\n",
       "      <td>5</td>\n",
       "      <td>True</td>\n",
       "      <td>[{'feature_id': 3039101, 'sequence': 'VLGAFSDG...</td>\n",
       "      <td>11.078331</td>\n",
       "      <td>50.0000</td>\n",
       "      <td>12058.333333</td>\n",
       "      <td>2.411667e+02</td>\n",
       "      <td>5</td>\n",
       "      <td>[{'feature_id': 3039101, 'sequence': 'VLGAFSDG...</td>\n",
       "      <td>15.554724</td>\n",
       "    </tr>\n",
       "    <tr>\n",
       "      <th>32</th>\n",
       "      <td>Q06830ups|PRDX1_HUMAN_UPS</td>\n",
       "      <td>5.0000</td>\n",
       "      <td>11771.000000</td>\n",
       "      <td>2.354200e+03</td>\n",
       "      <td>5</td>\n",
       "      <td>True</td>\n",
       "      <td>[{'feature_id': 813601, 'sequence': 'HGEVCPAGW...</td>\n",
       "      <td>10.523163</td>\n",
       "      <td>5.0000</td>\n",
       "      <td>11607.000000</td>\n",
       "      <td>2.321400e+03</td>\n",
       "      <td>5</td>\n",
       "      <td>[{'feature_id': 813601, 'sequence': 'HGEVCPAGW...</td>\n",
       "      <td>14.972524</td>\n",
       "    </tr>\n",
       "    <tr>\n",
       "      <th>12</th>\n",
       "      <td>P02144ups|MYG_HUMAN_UPS</td>\n",
       "      <td>5.0000</td>\n",
       "      <td>8065.666667</td>\n",
       "      <td>1.613133e+03</td>\n",
       "      <td>7</td>\n",
       "      <td>False</td>\n",
       "      <td>[{'feature_id': 709101, 'sequence': 'HPGDFGADA...</td>\n",
       "      <td>7.210630</td>\n",
       "      <td>5.0000</td>\n",
       "      <td>8065.666667</td>\n",
       "      <td>1.613133e+03</td>\n",
       "      <td>7</td>\n",
       "      <td>[{'feature_id': 709101, 'sequence': 'HPGDFGADA...</td>\n",
       "      <td>10.404358</td>\n",
       "    </tr>\n",
       "    <tr>\n",
       "      <th>17</th>\n",
       "      <td>P04040ups|CATA_HUMAN_UPS</td>\n",
       "      <td>5.0000</td>\n",
       "      <td>48565.666667</td>\n",
       "      <td>9.713133e+03</td>\n",
       "      <td>15</td>\n",
       "      <td>True</td>\n",
       "      <td>[{'feature_id': 4060101, 'sequence': 'GPLLVQDV...</td>\n",
       "      <td>43.417249</td>\n",
       "      <td>5.0000</td>\n",
       "      <td>42191.666667</td>\n",
       "      <td>8.438333e+03</td>\n",
       "      <td>15</td>\n",
       "      <td>[{'feature_id': 4060101, 'sequence': 'GPLLVQDV...</td>\n",
       "      <td>54.425410</td>\n",
       "    </tr>\n",
       "    <tr>\n",
       "      <th>28</th>\n",
       "      <td>P62937ups|PPIA_HUMAN_UPS,P62988ups|UBIQ_HUMAN_...</td>\n",
       "      <td>5.0000</td>\n",
       "      <td>2137.333333</td>\n",
       "      <td>4.274667e+02</td>\n",
       "      <td>3</td>\n",
       "      <td>False</td>\n",
       "      <td>[{'feature_id': 8701, 'sequence': 'GSSHHHHHHSS...</td>\n",
       "      <td>1.910756</td>\n",
       "      <td>5.0000</td>\n",
       "      <td>2137.333333</td>\n",
       "      <td>4.274667e+02</td>\n",
       "      <td>3</td>\n",
       "      <td>[{'feature_id': 8701, 'sequence': 'GSSHHHHHHSS...</td>\n",
       "      <td>2.757067</td>\n",
       "    </tr>\n",
       "    <tr>\n",
       "      <th>29</th>\n",
       "      <td>P63165ups|SUMO1_HUMAN_UPS</td>\n",
       "      <td>5.0000</td>\n",
       "      <td>2482.000000</td>\n",
       "      <td>4.964000e+02</td>\n",
       "      <td>3</td>\n",
       "      <td>False</td>\n",
       "      <td>[{'feature_id': 3229301, 'sequence': 'LLLEYLEE...</td>\n",
       "      <td>2.218885</td>\n",
       "      <td>5.0000</td>\n",
       "      <td>2482.000000</td>\n",
       "      <td>4.964000e+02</td>\n",
       "      <td>3</td>\n",
       "      <td>[{'feature_id': 3229301, 'sequence': 'LLLEYLEE...</td>\n",
       "      <td>3.201672</td>\n",
       "    </tr>\n",
       "    <tr>\n",
       "      <th>2</th>\n",
       "      <td>P00167ups|CYB5_HUMAN_UPS</td>\n",
       "      <td>5.0000</td>\n",
       "      <td>11220.333333</td>\n",
       "      <td>2.244067e+03</td>\n",
       "      <td>3</td>\n",
       "      <td>True</td>\n",
       "      <td>[{'feature_id': 1201501, 'sequence': 'FLEEHPGG...</td>\n",
       "      <td>10.030872</td>\n",
       "      <td>5.0000</td>\n",
       "      <td>10664.333333</td>\n",
       "      <td>2.132867e+03</td>\n",
       "      <td>3</td>\n",
       "      <td>[{'feature_id': 1201501, 'sequence': 'FLEEHPGG...</td>\n",
       "      <td>13.756525</td>\n",
       "    </tr>\n",
       "    <tr>\n",
       "      <th>24</th>\n",
       "      <td>P12081ups|SYHC_HUMAN_UPS</td>\n",
       "      <td>0.5000</td>\n",
       "      <td>16254.000000</td>\n",
       "      <td>3.250800e+04</td>\n",
       "      <td>10</td>\n",
       "      <td>True</td>\n",
       "      <td>[{'feature_id': 2617001, 'sequence': 'HGAEVIDT...</td>\n",
       "      <td>14.530923</td>\n",
       "      <td>0.5000</td>\n",
       "      <td>16254.000000</td>\n",
       "      <td>3.250800e+04</td>\n",
       "      <td>10</td>\n",
       "      <td>[{'feature_id': 2617001, 'sequence': 'HGAEVIDT...</td>\n",
       "      <td>20.966951</td>\n",
       "    </tr>\n",
       "    <tr>\n",
       "      <th>13</th>\n",
       "      <td>P02753ups|RETBP_HUMAN_UPS</td>\n",
       "      <td>0.5000</td>\n",
       "      <td>6149.000000</td>\n",
       "      <td>1.229800e+04</td>\n",
       "      <td>4</td>\n",
       "      <td>False</td>\n",
       "      <td>[{'feature_id': 1113101, 'sequence': 'Q[-17.02...</td>\n",
       "      <td>5.497148</td>\n",
       "      <td>0.5000</td>\n",
       "      <td>6149.000000</td>\n",
       "      <td>1.229800e+04</td>\n",
       "      <td>4</td>\n",
       "      <td>[{'feature_id': 1113101, 'sequence': 'Q[-17.02...</td>\n",
       "      <td>7.931942</td>\n",
       "    </tr>\n",
       "    <tr>\n",
       "      <th>4</th>\n",
       "      <td>P00709ups|LALBA_HUMAN_UPS</td>\n",
       "      <td>0.5000</td>\n",
       "      <td>9665.000000</td>\n",
       "      <td>1.933000e+04</td>\n",
       "      <td>6</td>\n",
       "      <td>True</td>\n",
       "      <td>[{'feature_id': 3606001, 'sequence': 'FLDDDITD...</td>\n",
       "      <td>8.640419</td>\n",
       "      <td>0.5000</td>\n",
       "      <td>9665.000000</td>\n",
       "      <td>1.933000e+04</td>\n",
       "      <td>6</td>\n",
       "      <td>[{'feature_id': 3606001, 'sequence': 'FLDDDITD...</td>\n",
       "      <td>12.467429</td>\n",
       "    </tr>\n",
       "    <tr>\n",
       "      <th>20</th>\n",
       "      <td>P06732ups|KCRM_HUMAN_UPS</td>\n",
       "      <td>0.5000</td>\n",
       "      <td>13702.666667</td>\n",
       "      <td>2.740533e+04</td>\n",
       "      <td>38</td>\n",
       "      <td>False</td>\n",
       "      <td>[{'feature_id': 3111801, 'sequence': 'SFLVWVNE...</td>\n",
       "      <td>12.250055</td>\n",
       "      <td>0.5000</td>\n",
       "      <td>13702.666667</td>\n",
       "      <td>2.740533e+04</td>\n",
       "      <td>38</td>\n",
       "      <td>[{'feature_id': 3111801, 'sequence': 'SFLVWVNE...</td>\n",
       "      <td>17.675843</td>\n",
       "    </tr>\n",
       "    <tr>\n",
       "      <th>25</th>\n",
       "      <td>P16083ups|NQO2_HUMAN_UPS</td>\n",
       "      <td>0.5000</td>\n",
       "      <td>5469.333333</td>\n",
       "      <td>1.093867e+04</td>\n",
       "      <td>4</td>\n",
       "      <td>False</td>\n",
       "      <td>[{'feature_id': 2379001, 'sequence': 'ATDKDITG...</td>\n",
       "      <td>4.889533</td>\n",
       "      <td>0.5000</td>\n",
       "      <td>5469.333333</td>\n",
       "      <td>1.093867e+04</td>\n",
       "      <td>4</td>\n",
       "      <td>[{'feature_id': 2379001, 'sequence': 'ATDKDITG...</td>\n",
       "      <td>7.055202</td>\n",
       "    </tr>\n",
       "    <tr>\n",
       "      <th>10</th>\n",
       "      <td>P01127ups|PDGFB_HUMAN_UPS</td>\n",
       "      <td>0.0500</td>\n",
       "      <td>3508.000000</td>\n",
       "      <td>7.016000e+04</td>\n",
       "      <td>3</td>\n",
       "      <td>False</td>\n",
       "      <td>[{'feature_id': 3242502, 'sequence': 'SLGSLTIA...</td>\n",
       "      <td>3.136119</td>\n",
       "      <td>0.0500</td>\n",
       "      <td>3508.000000</td>\n",
       "      <td>7.016000e+04</td>\n",
       "      <td>3</td>\n",
       "      <td>[{'feature_id': 3242502, 'sequence': 'SLGSLTIA...</td>\n",
       "      <td>4.525167</td>\n",
       "    </tr>\n",
       "    <tr>\n",
       "      <th>7</th>\n",
       "      <td>P01008ups|ANT3_HUMAN_UPS</td>\n",
       "      <td>0.0500</td>\n",
       "      <td>12971.000000</td>\n",
       "      <td>2.594200e+05</td>\n",
       "      <td>7</td>\n",
       "      <td>False</td>\n",
       "      <td>[{'feature_id': 3231701, 'sequence': 'GDDITMVL...</td>\n",
       "      <td>11.595952</td>\n",
       "      <td>0.0500</td>\n",
       "      <td>12971.000000</td>\n",
       "      <td>2.594200e+05</td>\n",
       "      <td>7</td>\n",
       "      <td>[{'feature_id': 3231701, 'sequence': 'GDDITMVL...</td>\n",
       "      <td>16.732024</td>\n",
       "    </tr>\n",
       "    <tr>\n",
       "      <th>1</th>\n",
       "      <td>O76070ups|SYUG_HUMAN_UPS</td>\n",
       "      <td>0.0500</td>\n",
       "      <td>33363.000000</td>\n",
       "      <td>6.672600e+05</td>\n",
       "      <td>11</td>\n",
       "      <td>True</td>\n",
       "      <td>[{'feature_id': 516101, 'sequence': 'EDLRPSAPQ...</td>\n",
       "      <td>29.826208</td>\n",
       "      <td>0.0500</td>\n",
       "      <td>31661.666667</td>\n",
       "      <td>6.332333e+05</td>\n",
       "      <td>11</td>\n",
       "      <td>[{'feature_id': 1144401, 'sequence': 'TKENVVQS...</td>\n",
       "      <td>40.842170</td>\n",
       "    </tr>\n",
       "    <tr>\n",
       "      <th>27</th>\n",
       "      <td>P55957ups|BID_HUMAN_UPS</td>\n",
       "      <td>0.0500</td>\n",
       "      <td>14114.333333</td>\n",
       "      <td>2.822867e+05</td>\n",
       "      <td>7</td>\n",
       "      <td>True</td>\n",
       "      <td>[{'feature_id': 268801, 'sequence': 'HLAQVGDSM...</td>\n",
       "      <td>12.618081</td>\n",
       "      <td>0.0500</td>\n",
       "      <td>13864.333333</td>\n",
       "      <td>2.772867e+05</td>\n",
       "      <td>7</td>\n",
       "      <td>[{'feature_id': 268801, 'sequence': 'HLAQVGDSM...</td>\n",
       "      <td>17.884386</td>\n",
       "    </tr>\n",
       "    <tr>\n",
       "      <th>31</th>\n",
       "      <td>P99999ups|CYC_HUMAN_UPS</td>\n",
       "      <td>0.0050</td>\n",
       "      <td>5498.000000</td>\n",
       "      <td>1.099600e+06</td>\n",
       "      <td>5</td>\n",
       "      <td>False</td>\n",
       "      <td>[{'feature_id': 556701, 'sequence': 'KTGQAPGYS...</td>\n",
       "      <td>4.915160</td>\n",
       "      <td>0.0050</td>\n",
       "      <td>5498.000000</td>\n",
       "      <td>1.099600e+06</td>\n",
       "      <td>5</td>\n",
       "      <td>[{'feature_id': 556701, 'sequence': 'KTGQAPGYS...</td>\n",
       "      <td>7.092180</td>\n",
       "    </tr>\n",
       "    <tr>\n",
       "      <th>0</th>\n",
       "      <td>O00762ups|UBE2C_HUMAN_UPS</td>\n",
       "      <td>0.0050</td>\n",
       "      <td>6808.000000</td>\n",
       "      <td>1.361600e+06</td>\n",
       "      <td>6</td>\n",
       "      <td>False</td>\n",
       "      <td>[{'feature_id': 5133101, 'sequence': 'TILLSIQS...</td>\n",
       "      <td>6.086288</td>\n",
       "      <td>0.0050</td>\n",
       "      <td>6808.000000</td>\n",
       "      <td>1.361600e+06</td>\n",
       "      <td>6</td>\n",
       "      <td>[{'feature_id': 5133101, 'sequence': 'TILLSIQS...</td>\n",
       "      <td>8.782023</td>\n",
       "    </tr>\n",
       "    <tr>\n",
       "      <th>22</th>\n",
       "      <td>P09211ups|GSTP1_HUMAN_UPS</td>\n",
       "      <td>0.0050</td>\n",
       "      <td>9319.000000</td>\n",
       "      <td>1.863800e+06</td>\n",
       "      <td>6</td>\n",
       "      <td>False</td>\n",
       "      <td>[{'feature_id': 3145701, 'sequence': 'PPYTVVYF...</td>\n",
       "      <td>8.331098</td>\n",
       "      <td>0.0050</td>\n",
       "      <td>9319.000000</td>\n",
       "      <td>1.863800e+06</td>\n",
       "      <td>6</td>\n",
       "      <td>[{'feature_id': 3145701, 'sequence': 'PPYTVVYF...</td>\n",
       "      <td>12.021104</td>\n",
       "    </tr>\n",
       "    <tr>\n",
       "      <th>19</th>\n",
       "      <td>P06396ups|GELS_HUMAN_UPS</td>\n",
       "      <td>0.0050</td>\n",
       "      <td>19189.666667</td>\n",
       "      <td>3.837933e+06</td>\n",
       "      <td>22</td>\n",
       "      <td>True</td>\n",
       "      <td>[{'feature_id': 645601, 'sequence': 'DSQEEEKTE...</td>\n",
       "      <td>17.155382</td>\n",
       "      <td>0.0050</td>\n",
       "      <td>16994.666667</td>\n",
       "      <td>3.398933e+06</td>\n",
       "      <td>21</td>\n",
       "      <td>[{'feature_id': 645601, 'sequence': 'DSQEEEKTE...</td>\n",
       "      <td>21.922379</td>\n",
       "    </tr>\n",
       "    <tr>\n",
       "      <th>15</th>\n",
       "      <td>P02787ups|TRFE_HUMAN_UPS</td>\n",
       "      <td>0.0050</td>\n",
       "      <td>33406.333333</td>\n",
       "      <td>6.681267e+06</td>\n",
       "      <td>26</td>\n",
       "      <td>True</td>\n",
       "      <td>[{'feature_id': 2192001, 'sequence': 'ADRDQYEL...</td>\n",
       "      <td>29.864948</td>\n",
       "      <td>0.0050</td>\n",
       "      <td>27858.666667</td>\n",
       "      <td>5.571733e+06</td>\n",
       "      <td>26</td>\n",
       "      <td>[{'feature_id': 2192001, 'sequence': 'ADRDQYEL...</td>\n",
       "      <td>35.936465</td>\n",
       "    </tr>\n",
       "    <tr>\n",
       "      <th>11</th>\n",
       "      <td>P01579ups|IFNG_HUMAN_UPS</td>\n",
       "      <td>0.0050</td>\n",
       "      <td>5953.333333</td>\n",
       "      <td>1.190667e+06</td>\n",
       "      <td>6</td>\n",
       "      <td>False</td>\n",
       "      <td>[{'feature_id': 865601, 'sequence': 'SVETIKEDM...</td>\n",
       "      <td>5.322224</td>\n",
       "      <td>0.0050</td>\n",
       "      <td>5953.333333</td>\n",
       "      <td>1.190667e+06</td>\n",
       "      <td>6</td>\n",
       "      <td>[{'feature_id': 865601, 'sequence': 'SVETIKEDM...</td>\n",
       "      <td>7.679540</td>\n",
       "    </tr>\n",
       "    <tr>\n",
       "      <th>9</th>\n",
       "      <td>P01112ups|RASH_HUMAN_UPS</td>\n",
       "      <td>0.0050</td>\n",
       "      <td>4800.666667</td>\n",
       "      <td>9.601333e+05</td>\n",
       "      <td>7</td>\n",
       "      <td>False</td>\n",
       "      <td>[{'feature_id': 3578001, 'sequence': 'QGVEDAFY...</td>\n",
       "      <td>4.291751</td>\n",
       "      <td>0.0050</td>\n",
       "      <td>4800.666667</td>\n",
       "      <td>9.601333e+05</td>\n",
       "      <td>7</td>\n",
       "      <td>[{'feature_id': 3578001, 'sequence': 'QGVEDAFY...</td>\n",
       "      <td>6.192651</td>\n",
       "    </tr>\n",
       "    <tr>\n",
       "      <th>23</th>\n",
       "      <td>P10636-8ups|TAU_HUMAN_UPS</td>\n",
       "      <td>0.0005</td>\n",
       "      <td>21047.000000</td>\n",
       "      <td>4.209400e+07</td>\n",
       "      <td>24</td>\n",
       "      <td>True</td>\n",
       "      <td>[{'feature_id': 1075801, 'sequence': 'ESPLQTPT...</td>\n",
       "      <td>18.815820</td>\n",
       "      <td>0.0005</td>\n",
       "      <td>20185.666667</td>\n",
       "      <td>4.037133e+07</td>\n",
       "      <td>24</td>\n",
       "      <td>[{'feature_id': 1075801, 'sequence': 'ESPLQTPT...</td>\n",
       "      <td>26.038630</td>\n",
       "    </tr>\n",
       "    <tr>\n",
       "      <th>21</th>\n",
       "      <td>P08758ups|ANXA5_HUMAN_UPS</td>\n",
       "      <td>0.0005</td>\n",
       "      <td>32998.666667</td>\n",
       "      <td>6.599733e+07</td>\n",
       "      <td>9</td>\n",
       "      <td>True</td>\n",
       "      <td>[{'feature_id': 5104201, 'sequence': 'ETSGNLEQ...</td>\n",
       "      <td>29.500498</td>\n",
       "      <td>0.0005</td>\n",
       "      <td>32998.666667</td>\n",
       "      <td>6.599733e+07</td>\n",
       "      <td>9</td>\n",
       "      <td>[{'feature_id': 5104201, 'sequence': 'ETSGNLEQ...</td>\n",
       "      <td>42.566841</td>\n",
       "    </tr>\n",
       "    <tr>\n",
       "      <th>18</th>\n",
       "      <td>P05413ups|FABPH_HUMAN_UPS</td>\n",
       "      <td>0.0005</td>\n",
       "      <td>7086.666667</td>\n",
       "      <td>1.417333e+07</td>\n",
       "      <td>8</td>\n",
       "      <td>False</td>\n",
       "      <td>[{'feature_id': 1174001, 'sequence': 'LGVEFDET...</td>\n",
       "      <td>6.335413</td>\n",
       "      <td>0.0005</td>\n",
       "      <td>7086.666667</td>\n",
       "      <td>1.417333e+07</td>\n",
       "      <td>8</td>\n",
       "      <td>[{'feature_id': 1174001, 'sequence': 'LGVEFDET...</td>\n",
       "      <td>9.141491</td>\n",
       "    </tr>\n",
       "    <tr>\n",
       "      <th>3</th>\n",
       "      <td>P00441ups|SODC_HUMAN_UPS</td>\n",
       "      <td>0.0005</td>\n",
       "      <td>29699.333333</td>\n",
       "      <td>5.939867e+07</td>\n",
       "      <td>8</td>\n",
       "      <td>False</td>\n",
       "      <td>[{'feature_id': 3250801, 'sequence': 'HVGDLGNV...</td>\n",
       "      <td>26.550925</td>\n",
       "      <td>0.0005</td>\n",
       "      <td>29699.333333</td>\n",
       "      <td>5.939867e+07</td>\n",
       "      <td>8</td>\n",
       "      <td>[{'feature_id': 3250801, 'sequence': 'HVGDLGNV...</td>\n",
       "      <td>38.310845</td>\n",
       "    </tr>\n",
       "    <tr>\n",
       "      <th>16</th>\n",
       "      <td>P02788ups|TRFL_HUMAN_UPS</td>\n",
       "      <td>0.0005</td>\n",
       "      <td>16551.666667</td>\n",
       "      <td>3.310333e+07</td>\n",
       "      <td>21</td>\n",
       "      <td>True</td>\n",
       "      <td>[{'feature_id': 873701, 'sequence': 'LRPVAAEVY...</td>\n",
       "      <td>14.797034</td>\n",
       "      <td>0.0005</td>\n",
       "      <td>15600.333333</td>\n",
       "      <td>3.120067e+07</td>\n",
       "      <td>21</td>\n",
       "      <td>[{'feature_id': 4445301, 'sequence': 'IDSGLYLG...</td>\n",
       "      <td>20.123750</td>\n",
       "    </tr>\n",
       "  </tbody>\n",
       "</table>\n",
       "</div>"
      ],
      "text/plain": [
       "                                              protein  pmoles_with  \\\n",
       "26                            P41159ups|LEP_HUMAN_UPS      50.0000   \n",
       "5                            P00915ups|CAH1_HUMAN_UPS      50.0000   \n",
       "6                            P00918ups|CAH2_HUMAN_UPS      50.0000   \n",
       "14                           P02768ups|ALBU_HUMAN_UPS      50.0000   \n",
       "8                             P01031ups|CO5_HUMAN_UPS      50.0000   \n",
       "30                            P68871ups|HBB_HUMAN_UPS      50.0000   \n",
       "32                          Q06830ups|PRDX1_HUMAN_UPS       5.0000   \n",
       "12                            P02144ups|MYG_HUMAN_UPS       5.0000   \n",
       "17                           P04040ups|CATA_HUMAN_UPS       5.0000   \n",
       "28  P62937ups|PPIA_HUMAN_UPS,P62988ups|UBIQ_HUMAN_...       5.0000   \n",
       "29                          P63165ups|SUMO1_HUMAN_UPS       5.0000   \n",
       "2                            P00167ups|CYB5_HUMAN_UPS       5.0000   \n",
       "24                           P12081ups|SYHC_HUMAN_UPS       0.5000   \n",
       "13                          P02753ups|RETBP_HUMAN_UPS       0.5000   \n",
       "4                           P00709ups|LALBA_HUMAN_UPS       0.5000   \n",
       "20                           P06732ups|KCRM_HUMAN_UPS       0.5000   \n",
       "25                           P16083ups|NQO2_HUMAN_UPS       0.5000   \n",
       "10                          P01127ups|PDGFB_HUMAN_UPS       0.0500   \n",
       "7                            P01008ups|ANT3_HUMAN_UPS       0.0500   \n",
       "1                            O76070ups|SYUG_HUMAN_UPS       0.0500   \n",
       "27                            P55957ups|BID_HUMAN_UPS       0.0500   \n",
       "31                            P99999ups|CYC_HUMAN_UPS       0.0050   \n",
       "0                           O00762ups|UBE2C_HUMAN_UPS       0.0050   \n",
       "22                          P09211ups|GSTP1_HUMAN_UPS       0.0050   \n",
       "19                           P06396ups|GELS_HUMAN_UPS       0.0050   \n",
       "15                           P02787ups|TRFE_HUMAN_UPS       0.0050   \n",
       "11                           P01579ups|IFNG_HUMAN_UPS       0.0050   \n",
       "9                            P01112ups|RASH_HUMAN_UPS       0.0050   \n",
       "23                          P10636-8ups|TAU_HUMAN_UPS       0.0005   \n",
       "21                          P08758ups|ANXA5_HUMAN_UPS       0.0005   \n",
       "18                          P05413ups|FABPH_HUMAN_UPS       0.0005   \n",
       "3                            P00441ups|SODC_HUMAN_UPS       0.0005   \n",
       "16                           P02788ups|TRFL_HUMAN_UPS       0.0005   \n",
       "\n",
       "    average_intensity_with  signal_response_factor_with  peptide_count_with  \\\n",
       "26            12496.333333                 2.499267e+02                  11   \n",
       "5              9989.333333                 1.997867e+02                  10   \n",
       "6             18428.000000                 3.685600e+02                   9   \n",
       "14            55929.000000                 1.118580e+03                  48   \n",
       "8             16770.000000                 3.354000e+02                   3   \n",
       "30            12392.000000                 2.478400e+02                   5   \n",
       "32            11771.000000                 2.354200e+03                   5   \n",
       "12             8065.666667                 1.613133e+03                   7   \n",
       "17            48565.666667                 9.713133e+03                  15   \n",
       "28             2137.333333                 4.274667e+02                   3   \n",
       "29             2482.000000                 4.964000e+02                   3   \n",
       "2             11220.333333                 2.244067e+03                   3   \n",
       "24            16254.000000                 3.250800e+04                  10   \n",
       "13             6149.000000                 1.229800e+04                   4   \n",
       "4              9665.000000                 1.933000e+04                   6   \n",
       "20            13702.666667                 2.740533e+04                  38   \n",
       "25             5469.333333                 1.093867e+04                   4   \n",
       "10             3508.000000                 7.016000e+04                   3   \n",
       "7             12971.000000                 2.594200e+05                   7   \n",
       "1             33363.000000                 6.672600e+05                  11   \n",
       "27            14114.333333                 2.822867e+05                   7   \n",
       "31             5498.000000                 1.099600e+06                   5   \n",
       "0              6808.000000                 1.361600e+06                   6   \n",
       "22             9319.000000                 1.863800e+06                   6   \n",
       "19            19189.666667                 3.837933e+06                  22   \n",
       "15            33406.333333                 6.681267e+06                  26   \n",
       "11             5953.333333                 1.190667e+06                   6   \n",
       "9              4800.666667                 9.601333e+05                   7   \n",
       "23            21047.000000                 4.209400e+07                  24   \n",
       "21            32998.666667                 6.599733e+07                   9   \n",
       "18             7086.666667                 1.417333e+07                   8   \n",
       "3             29699.333333                 5.939867e+07                   8   \n",
       "16            16551.666667                 3.310333e+07                  21   \n",
       "\n",
       "    intensity_adjusted                                     attribs_d_with  \\\n",
       "26                True  [{'feature_id': 534101, 'sequence': 'INDISHTQS...   \n",
       "5                False  [{'feature_id': 1030401, 'sequence': 'HDTSLKPI...   \n",
       "6                 True  [{'feature_id': 5162501, 'sequence': 'AVQQPDGL...   \n",
       "14                True  [{'feature_id': 5142901, 'sequence': 'MPCAEDYL...   \n",
       "8                 True  [{'feature_id': 675301, 'sequence': 'CCYDGACVN...   \n",
       "30                True  [{'feature_id': 3039101, 'sequence': 'VLGAFSDG...   \n",
       "32                True  [{'feature_id': 813601, 'sequence': 'HGEVCPAGW...   \n",
       "12               False  [{'feature_id': 709101, 'sequence': 'HPGDFGADA...   \n",
       "17                True  [{'feature_id': 4060101, 'sequence': 'GPLLVQDV...   \n",
       "28               False  [{'feature_id': 8701, 'sequence': 'GSSHHHHHHSS...   \n",
       "29               False  [{'feature_id': 3229301, 'sequence': 'LLLEYLEE...   \n",
       "2                 True  [{'feature_id': 1201501, 'sequence': 'FLEEHPGG...   \n",
       "24                True  [{'feature_id': 2617001, 'sequence': 'HGAEVIDT...   \n",
       "13               False  [{'feature_id': 1113101, 'sequence': 'Q[-17.02...   \n",
       "4                 True  [{'feature_id': 3606001, 'sequence': 'FLDDDITD...   \n",
       "20               False  [{'feature_id': 3111801, 'sequence': 'SFLVWVNE...   \n",
       "25               False  [{'feature_id': 2379001, 'sequence': 'ATDKDITG...   \n",
       "10               False  [{'feature_id': 3242502, 'sequence': 'SLGSLTIA...   \n",
       "7                False  [{'feature_id': 3231701, 'sequence': 'GDDITMVL...   \n",
       "1                 True  [{'feature_id': 516101, 'sequence': 'EDLRPSAPQ...   \n",
       "27                True  [{'feature_id': 268801, 'sequence': 'HLAQVGDSM...   \n",
       "31               False  [{'feature_id': 556701, 'sequence': 'KTGQAPGYS...   \n",
       "0                False  [{'feature_id': 5133101, 'sequence': 'TILLSIQS...   \n",
       "22               False  [{'feature_id': 3145701, 'sequence': 'PPYTVVYF...   \n",
       "19                True  [{'feature_id': 645601, 'sequence': 'DSQEEEKTE...   \n",
       "15                True  [{'feature_id': 2192001, 'sequence': 'ADRDQYEL...   \n",
       "11               False  [{'feature_id': 865601, 'sequence': 'SVETIKEDM...   \n",
       "9                False  [{'feature_id': 3578001, 'sequence': 'QGVEDAFY...   \n",
       "23                True  [{'feature_id': 1075801, 'sequence': 'ESPLQTPT...   \n",
       "21                True  [{'feature_id': 5104201, 'sequence': 'ETSGNLEQ...   \n",
       "18               False  [{'feature_id': 1174001, 'sequence': 'LGVEFDET...   \n",
       "3                False  [{'feature_id': 3250801, 'sequence': 'HVGDLGNV...   \n",
       "16                True  [{'feature_id': 873701, 'sequence': 'LRPVAAEVY...   \n",
       "\n",
       "    calculated_pmoles_with  pmoles_without  average_intensity_without  \\\n",
       "26               11.171604         50.0000               11904.666667   \n",
       "5                 8.930370         50.0000                9989.333333   \n",
       "6                16.474459         50.0000               17952.000000   \n",
       "14               50.000000         50.0000               38761.000000   \n",
       "8                14.992222         50.0000               13073.666667   \n",
       "30               11.078331         50.0000               12058.333333   \n",
       "32               10.523163          5.0000               11607.000000   \n",
       "12                7.210630          5.0000                8065.666667   \n",
       "17               43.417249          5.0000               42191.666667   \n",
       "28                1.910756          5.0000                2137.333333   \n",
       "29                2.218885          5.0000                2482.000000   \n",
       "2                10.030872          5.0000               10664.333333   \n",
       "24               14.530923          0.5000               16254.000000   \n",
       "13                5.497148          0.5000                6149.000000   \n",
       "4                 8.640419          0.5000                9665.000000   \n",
       "20               12.250055          0.5000               13702.666667   \n",
       "25                4.889533          0.5000                5469.333333   \n",
       "10                3.136119          0.0500                3508.000000   \n",
       "7                11.595952          0.0500               12971.000000   \n",
       "1                29.826208          0.0500               31661.666667   \n",
       "27               12.618081          0.0500               13864.333333   \n",
       "31                4.915160          0.0050                5498.000000   \n",
       "0                 6.086288          0.0050                6808.000000   \n",
       "22                8.331098          0.0050                9319.000000   \n",
       "19               17.155382          0.0050               16994.666667   \n",
       "15               29.864948          0.0050               27858.666667   \n",
       "11                5.322224          0.0050                5953.333333   \n",
       "9                 4.291751          0.0050                4800.666667   \n",
       "23               18.815820          0.0005               20185.666667   \n",
       "21               29.500498          0.0005               32998.666667   \n",
       "18                6.335413          0.0005                7086.666667   \n",
       "3                26.550925          0.0005               29699.333333   \n",
       "16               14.797034          0.0005               15600.333333   \n",
       "\n",
       "    signal_response_factor_without  peptide_count_without  \\\n",
       "26                    2.380933e+02                     11   \n",
       "5                     1.997867e+02                     10   \n",
       "6                     3.590400e+02                      9   \n",
       "14                    7.752200e+02                     48   \n",
       "8                     2.614733e+02                      3   \n",
       "30                    2.411667e+02                      5   \n",
       "32                    2.321400e+03                      5   \n",
       "12                    1.613133e+03                      7   \n",
       "17                    8.438333e+03                     15   \n",
       "28                    4.274667e+02                      3   \n",
       "29                    4.964000e+02                      3   \n",
       "2                     2.132867e+03                      3   \n",
       "24                    3.250800e+04                     10   \n",
       "13                    1.229800e+04                      4   \n",
       "4                     1.933000e+04                      6   \n",
       "20                    2.740533e+04                     38   \n",
       "25                    1.093867e+04                      4   \n",
       "10                    7.016000e+04                      3   \n",
       "7                     2.594200e+05                      7   \n",
       "1                     6.332333e+05                     11   \n",
       "27                    2.772867e+05                      7   \n",
       "31                    1.099600e+06                      5   \n",
       "0                     1.361600e+06                      6   \n",
       "22                    1.863800e+06                      6   \n",
       "19                    3.398933e+06                     21   \n",
       "15                    5.571733e+06                     26   \n",
       "11                    1.190667e+06                      6   \n",
       "9                     9.601333e+05                      7   \n",
       "23                    4.037133e+07                     24   \n",
       "21                    6.599733e+07                      9   \n",
       "18                    1.417333e+07                      8   \n",
       "3                     5.939867e+07                      8   \n",
       "16                    3.120067e+07                     21   \n",
       "\n",
       "                                    attribs_d_without  \\\n",
       "26  [{'feature_id': 534101, 'sequence': 'INDISHTQS...   \n",
       "5   [{'feature_id': 1030401, 'sequence': 'HDTSLKPI...   \n",
       "6   [{'feature_id': 5162501, 'sequence': 'AVQQPDGL...   \n",
       "14  [{'feature_id': 5142901, 'sequence': 'MPCAEDYL...   \n",
       "8   [{'feature_id': 675301, 'sequence': 'CCYDGACVN...   \n",
       "30  [{'feature_id': 3039101, 'sequence': 'VLGAFSDG...   \n",
       "32  [{'feature_id': 813601, 'sequence': 'HGEVCPAGW...   \n",
       "12  [{'feature_id': 709101, 'sequence': 'HPGDFGADA...   \n",
       "17  [{'feature_id': 4060101, 'sequence': 'GPLLVQDV...   \n",
       "28  [{'feature_id': 8701, 'sequence': 'GSSHHHHHHSS...   \n",
       "29  [{'feature_id': 3229301, 'sequence': 'LLLEYLEE...   \n",
       "2   [{'feature_id': 1201501, 'sequence': 'FLEEHPGG...   \n",
       "24  [{'feature_id': 2617001, 'sequence': 'HGAEVIDT...   \n",
       "13  [{'feature_id': 1113101, 'sequence': 'Q[-17.02...   \n",
       "4   [{'feature_id': 3606001, 'sequence': 'FLDDDITD...   \n",
       "20  [{'feature_id': 3111801, 'sequence': 'SFLVWVNE...   \n",
       "25  [{'feature_id': 2379001, 'sequence': 'ATDKDITG...   \n",
       "10  [{'feature_id': 3242502, 'sequence': 'SLGSLTIA...   \n",
       "7   [{'feature_id': 3231701, 'sequence': 'GDDITMVL...   \n",
       "1   [{'feature_id': 1144401, 'sequence': 'TKENVVQS...   \n",
       "27  [{'feature_id': 268801, 'sequence': 'HLAQVGDSM...   \n",
       "31  [{'feature_id': 556701, 'sequence': 'KTGQAPGYS...   \n",
       "0   [{'feature_id': 5133101, 'sequence': 'TILLSIQS...   \n",
       "22  [{'feature_id': 3145701, 'sequence': 'PPYTVVYF...   \n",
       "19  [{'feature_id': 645601, 'sequence': 'DSQEEEKTE...   \n",
       "15  [{'feature_id': 2192001, 'sequence': 'ADRDQYEL...   \n",
       "11  [{'feature_id': 865601, 'sequence': 'SVETIKEDM...   \n",
       "9   [{'feature_id': 3578001, 'sequence': 'QGVEDAFY...   \n",
       "23  [{'feature_id': 1075801, 'sequence': 'ESPLQTPT...   \n",
       "21  [{'feature_id': 5104201, 'sequence': 'ETSGNLEQ...   \n",
       "18  [{'feature_id': 1174001, 'sequence': 'LGVEFDET...   \n",
       "3   [{'feature_id': 3250801, 'sequence': 'HVGDLGNV...   \n",
       "16  [{'feature_id': 4445301, 'sequence': 'IDSGLYLG...   \n",
       "\n",
       "    calculated_pmoles_without  \n",
       "26                  15.356501  \n",
       "5                   12.885804  \n",
       "6                   23.157297  \n",
       "14                  50.000000  \n",
       "8                   16.864460  \n",
       "30                  15.554724  \n",
       "32                  14.972524  \n",
       "12                  10.404358  \n",
       "17                  54.425410  \n",
       "28                   2.757067  \n",
       "29                   3.201672  \n",
       "2                   13.756525  \n",
       "24                  20.966951  \n",
       "13                   7.931942  \n",
       "4                   12.467429  \n",
       "20                  17.675843  \n",
       "25                   7.055202  \n",
       "10                   4.525167  \n",
       "7                   16.732024  \n",
       "1                   40.842170  \n",
       "27                  17.884386  \n",
       "31                   7.092180  \n",
       "0                    8.782023  \n",
       "22                  12.021104  \n",
       "19                  21.922379  \n",
       "15                  35.936465  \n",
       "11                   7.679540  \n",
       "9                    6.192651  \n",
       "23                  26.038630  \n",
       "21                  42.566841  \n",
       "18                   9.141491  \n",
       "3                   38.310845  \n",
       "16                  20.123750  "
      ]
     },
     "execution_count": 56,
     "metadata": {},
     "output_type": "execute_result"
    }
   ],
   "source": [
    "combined_UPS1_df.sort_values(by=['pmoles_with'], ascending=False, inplace=False)"
   ]
  },
  {
   "cell_type": "code",
   "execution_count": 57,
   "metadata": {},
   "outputs": [],
   "source": [
    "universal_signal_response_factor_with = combined_UPS1_df[combined_UPS1_df.protein.str.startswith('P02768')].iloc[0].signal_response_factor_with\n",
    "universal_signal_response_factor_without = combined_UPS1_df[combined_UPS1_df.protein.str.startswith('P02768')].iloc[0].signal_response_factor_without"
   ]
  },
  {
   "cell_type": "code",
   "execution_count": 58,
   "metadata": {},
   "outputs": [],
   "source": [
    "combined_UPS1_df['calculated_pmoles_with'] = combined_UPS1_df.average_intensity_with / universal_signal_response_factor_with\n",
    "combined_UPS1_df['calculated_pmoles_without'] = combined_UPS1_df.average_intensity_without / universal_signal_response_factor_without"
   ]
  },
  {
   "cell_type": "code",
   "execution_count": 59,
   "metadata": {},
   "outputs": [
    {
     "data": {
      "text/plain": [
       "0.19378862779086084"
      ]
     },
     "execution_count": 59,
     "metadata": {},
     "output_type": "execute_result"
    }
   ],
   "source": [
    "combined_UPS1_df['pmoles_with'].corr(combined_UPS1_df['calculated_pmoles_with'])"
   ]
  },
  {
   "cell_type": "code",
   "execution_count": 60,
   "metadata": {},
   "outputs": [
    {
     "data": {
      "text/plain": [
       "0.12268583788644731"
      ]
     },
     "execution_count": 60,
     "metadata": {},
     "output_type": "execute_result"
    }
   ],
   "source": [
    "combined_UPS1_df['pmoles_without'].corr(combined_UPS1_df['calculated_pmoles_without'])"
   ]
  },
  {
   "cell_type": "markdown",
   "metadata": {},
   "source": [
    "### compare relative intensities of top-3 peptides for each protein found in common in UPS2 and UPS1"
   ]
  },
  {
   "cell_type": "code",
   "execution_count": 61,
   "metadata": {},
   "outputs": [],
   "source": [
    "ratios_df = pd.merge(combined_df[['protein','average_intensity_with','average_intensity_without']], combined_UPS1_df[['protein','average_intensity_with','average_intensity_without']], how='inner', left_on=['protein'], right_on=['protein'], suffixes=['_UPS2','_UPS1'])\n"
   ]
  },
  {
   "cell_type": "code",
   "execution_count": 62,
   "metadata": {},
   "outputs": [],
   "source": [
    "ratios_df['ratio_with'] = ratios_df.average_intensity_with_UPS2 / ratios_df.average_intensity_with_UPS1\n",
    "ratios_df['ratio_without'] = ratios_df.average_intensity_without_UPS2 / ratios_df.average_intensity_without_UPS1"
   ]
  },
  {
   "cell_type": "code",
   "execution_count": 63,
   "metadata": {},
   "outputs": [],
   "source": [
    "ratios_df['expected_ratio'] = ratios_df.apply(lambda row: (ups2_d[row.protein.split('ups')[0]] / 1000) / 5.0, axis=1)\n",
    "ratios_df['protein_code'] = ratios_df.apply(lambda row: row.protein.split('ups')[0], axis=1)"
   ]
  },
  {
   "cell_type": "code",
   "execution_count": 64,
   "metadata": {},
   "outputs": [],
   "source": [
    "ratios_df.sort_values(by=['expected_ratio'], ascending=False, inplace=True)"
   ]
  },
  {
   "cell_type": "code",
   "execution_count": 65,
   "metadata": {},
   "outputs": [
    {
     "data": {
      "text/html": [
       "<div>\n",
       "<style scoped>\n",
       "    .dataframe tbody tr th:only-of-type {\n",
       "        vertical-align: middle;\n",
       "    }\n",
       "\n",
       "    .dataframe tbody tr th {\n",
       "        vertical-align: top;\n",
       "    }\n",
       "\n",
       "    .dataframe thead th {\n",
       "        text-align: right;\n",
       "    }\n",
       "</style>\n",
       "<table border=\"1\" class=\"dataframe\">\n",
       "  <thead>\n",
       "    <tr style=\"text-align: right;\">\n",
       "      <th></th>\n",
       "      <th>protein</th>\n",
       "      <th>average_intensity_with_UPS2</th>\n",
       "      <th>average_intensity_without_UPS2</th>\n",
       "      <th>average_intensity_with_UPS1</th>\n",
       "      <th>average_intensity_without_UPS1</th>\n",
       "      <th>ratio_with</th>\n",
       "      <th>ratio_without</th>\n",
       "      <th>expected_ratio</th>\n",
       "      <th>protein_code</th>\n",
       "    </tr>\n",
       "  </thead>\n",
       "  <tbody>\n",
       "    <tr>\n",
       "      <th>0</th>\n",
       "      <td>P00915ups|CAH1_HUMAN_UPS</td>\n",
       "      <td>51585.000000</td>\n",
       "      <td>46818.333333</td>\n",
       "      <td>9989.333333</td>\n",
       "      <td>9989.333333</td>\n",
       "      <td>5.164008</td>\n",
       "      <td>4.686833</td>\n",
       "      <td>10.0</td>\n",
       "      <td>P00915</td>\n",
       "    </tr>\n",
       "    <tr>\n",
       "      <th>1</th>\n",
       "      <td>P00918ups|CAH2_HUMAN_UPS</td>\n",
       "      <td>50821.333333</td>\n",
       "      <td>44914.333333</td>\n",
       "      <td>18428.000000</td>\n",
       "      <td>17952.000000</td>\n",
       "      <td>2.757832</td>\n",
       "      <td>2.501913</td>\n",
       "      <td>10.0</td>\n",
       "      <td>P00918</td>\n",
       "    </tr>\n",
       "    <tr>\n",
       "      <th>2</th>\n",
       "      <td>P01031ups|CO5_HUMAN_UPS</td>\n",
       "      <td>38016.333333</td>\n",
       "      <td>21627.333333</td>\n",
       "      <td>16770.000000</td>\n",
       "      <td>13073.666667</td>\n",
       "      <td>2.266925</td>\n",
       "      <td>1.654267</td>\n",
       "      <td>10.0</td>\n",
       "      <td>P01031</td>\n",
       "    </tr>\n",
       "    <tr>\n",
       "      <th>4</th>\n",
       "      <td>P02768ups|ALBU_HUMAN_UPS</td>\n",
       "      <td>115886.000000</td>\n",
       "      <td>85755.666667</td>\n",
       "      <td>55929.000000</td>\n",
       "      <td>38761.000000</td>\n",
       "      <td>2.072020</td>\n",
       "      <td>2.212421</td>\n",
       "      <td>10.0</td>\n",
       "      <td>P02768</td>\n",
       "    </tr>\n",
       "    <tr>\n",
       "      <th>7</th>\n",
       "      <td>P41159ups|LEP_HUMAN_UPS</td>\n",
       "      <td>35332.666667</td>\n",
       "      <td>30992.333333</td>\n",
       "      <td>12496.333333</td>\n",
       "      <td>11904.666667</td>\n",
       "      <td>2.827443</td>\n",
       "      <td>2.603377</td>\n",
       "      <td>10.0</td>\n",
       "      <td>P41159</td>\n",
       "    </tr>\n",
       "    <tr>\n",
       "      <th>10</th>\n",
       "      <td>P68871ups|HBB_HUMAN_UPS</td>\n",
       "      <td>48116.666667</td>\n",
       "      <td>39327.666667</td>\n",
       "      <td>12392.000000</td>\n",
       "      <td>12058.333333</td>\n",
       "      <td>3.882881</td>\n",
       "      <td>3.261451</td>\n",
       "      <td>10.0</td>\n",
       "      <td>P68871</td>\n",
       "    </tr>\n",
       "    <tr>\n",
       "      <th>3</th>\n",
       "      <td>P02144ups|MYG_HUMAN_UPS</td>\n",
       "      <td>6117.333333</td>\n",
       "      <td>6117.333333</td>\n",
       "      <td>8065.666667</td>\n",
       "      <td>8065.666667</td>\n",
       "      <td>0.758441</td>\n",
       "      <td>0.758441</td>\n",
       "      <td>1.0</td>\n",
       "      <td>P02144</td>\n",
       "    </tr>\n",
       "    <tr>\n",
       "      <th>5</th>\n",
       "      <td>P04040ups|CATA_HUMAN_UPS</td>\n",
       "      <td>40754.333333</td>\n",
       "      <td>35426.666667</td>\n",
       "      <td>48565.666667</td>\n",
       "      <td>42191.666667</td>\n",
       "      <td>0.839159</td>\n",
       "      <td>0.839660</td>\n",
       "      <td>1.0</td>\n",
       "      <td>P04040</td>\n",
       "    </tr>\n",
       "    <tr>\n",
       "      <th>8</th>\n",
       "      <td>P62937ups|PPIA_HUMAN_UPS,P62988ups|UBIQ_HUMAN_...</td>\n",
       "      <td>3465.000000</td>\n",
       "      <td>3465.000000</td>\n",
       "      <td>2137.333333</td>\n",
       "      <td>2137.333333</td>\n",
       "      <td>1.621179</td>\n",
       "      <td>1.621179</td>\n",
       "      <td>1.0</td>\n",
       "      <td>P62937</td>\n",
       "    </tr>\n",
       "    <tr>\n",
       "      <th>9</th>\n",
       "      <td>P63165ups|SUMO1_HUMAN_UPS</td>\n",
       "      <td>1740.000000</td>\n",
       "      <td>1740.000000</td>\n",
       "      <td>2482.000000</td>\n",
       "      <td>2482.000000</td>\n",
       "      <td>0.701048</td>\n",
       "      <td>0.701048</td>\n",
       "      <td>1.0</td>\n",
       "      <td>P63165</td>\n",
       "    </tr>\n",
       "    <tr>\n",
       "      <th>11</th>\n",
       "      <td>Q06830ups|PRDX1_HUMAN_UPS</td>\n",
       "      <td>8232.000000</td>\n",
       "      <td>8232.000000</td>\n",
       "      <td>11771.000000</td>\n",
       "      <td>11607.000000</td>\n",
       "      <td>0.699346</td>\n",
       "      <td>0.709227</td>\n",
       "      <td>1.0</td>\n",
       "      <td>Q06830</td>\n",
       "    </tr>\n",
       "    <tr>\n",
       "      <th>6</th>\n",
       "      <td>P12081ups|SYHC_HUMAN_UPS</td>\n",
       "      <td>3091.000000</td>\n",
       "      <td>3091.000000</td>\n",
       "      <td>16254.000000</td>\n",
       "      <td>16254.000000</td>\n",
       "      <td>0.190169</td>\n",
       "      <td>0.190169</td>\n",
       "      <td>0.1</td>\n",
       "      <td>P12081</td>\n",
       "    </tr>\n",
       "  </tbody>\n",
       "</table>\n",
       "</div>"
      ],
      "text/plain": [
       "                                              protein  \\\n",
       "0                            P00915ups|CAH1_HUMAN_UPS   \n",
       "1                            P00918ups|CAH2_HUMAN_UPS   \n",
       "2                             P01031ups|CO5_HUMAN_UPS   \n",
       "4                            P02768ups|ALBU_HUMAN_UPS   \n",
       "7                             P41159ups|LEP_HUMAN_UPS   \n",
       "10                            P68871ups|HBB_HUMAN_UPS   \n",
       "3                             P02144ups|MYG_HUMAN_UPS   \n",
       "5                            P04040ups|CATA_HUMAN_UPS   \n",
       "8   P62937ups|PPIA_HUMAN_UPS,P62988ups|UBIQ_HUMAN_...   \n",
       "9                           P63165ups|SUMO1_HUMAN_UPS   \n",
       "11                          Q06830ups|PRDX1_HUMAN_UPS   \n",
       "6                            P12081ups|SYHC_HUMAN_UPS   \n",
       "\n",
       "    average_intensity_with_UPS2  average_intensity_without_UPS2  \\\n",
       "0                  51585.000000                    46818.333333   \n",
       "1                  50821.333333                    44914.333333   \n",
       "2                  38016.333333                    21627.333333   \n",
       "4                 115886.000000                    85755.666667   \n",
       "7                  35332.666667                    30992.333333   \n",
       "10                 48116.666667                    39327.666667   \n",
       "3                   6117.333333                     6117.333333   \n",
       "5                  40754.333333                    35426.666667   \n",
       "8                   3465.000000                     3465.000000   \n",
       "9                   1740.000000                     1740.000000   \n",
       "11                  8232.000000                     8232.000000   \n",
       "6                   3091.000000                     3091.000000   \n",
       "\n",
       "    average_intensity_with_UPS1  average_intensity_without_UPS1  ratio_with  \\\n",
       "0                   9989.333333                     9989.333333    5.164008   \n",
       "1                  18428.000000                    17952.000000    2.757832   \n",
       "2                  16770.000000                    13073.666667    2.266925   \n",
       "4                  55929.000000                    38761.000000    2.072020   \n",
       "7                  12496.333333                    11904.666667    2.827443   \n",
       "10                 12392.000000                    12058.333333    3.882881   \n",
       "3                   8065.666667                     8065.666667    0.758441   \n",
       "5                  48565.666667                    42191.666667    0.839159   \n",
       "8                   2137.333333                     2137.333333    1.621179   \n",
       "9                   2482.000000                     2482.000000    0.701048   \n",
       "11                 11771.000000                    11607.000000    0.699346   \n",
       "6                  16254.000000                    16254.000000    0.190169   \n",
       "\n",
       "    ratio_without  expected_ratio protein_code  \n",
       "0        4.686833            10.0       P00915  \n",
       "1        2.501913            10.0       P00918  \n",
       "2        1.654267            10.0       P01031  \n",
       "4        2.212421            10.0       P02768  \n",
       "7        2.603377            10.0       P41159  \n",
       "10       3.261451            10.0       P68871  \n",
       "3        0.758441             1.0       P02144  \n",
       "5        0.839660             1.0       P04040  \n",
       "8        1.621179             1.0       P62937  \n",
       "9        0.701048             1.0       P63165  \n",
       "11       0.709227             1.0       Q06830  \n",
       "6        0.190169             0.1       P12081  "
      ]
     },
     "execution_count": 65,
     "metadata": {},
     "output_type": "execute_result"
    }
   ],
   "source": [
    "ratios_df"
   ]
  },
  {
   "cell_type": "code",
   "execution_count": 66,
   "metadata": {},
   "outputs": [
    {
     "data": {
      "text/plain": [
       "0.830565465244977"
      ]
     },
     "execution_count": 66,
     "metadata": {},
     "output_type": "execute_result"
    }
   ],
   "source": [
    "ratios_df['ratio_with'].corr(ratios_df['expected_ratio'])"
   ]
  },
  {
   "cell_type": "code",
   "execution_count": 67,
   "metadata": {},
   "outputs": [
    {
     "data": {
      "text/plain": [
       "0.8120165789211209"
      ]
     },
     "execution_count": 67,
     "metadata": {},
     "output_type": "execute_result"
    }
   ],
   "source": [
    "ratios_df['ratio_without'].corr(ratios_df['expected_ratio'])"
   ]
  },
  {
   "cell_type": "markdown",
   "metadata": {},
   "source": [
    "#### include MQ results for comparison"
   ]
  },
  {
   "cell_type": "code",
   "execution_count": 68,
   "metadata": {},
   "outputs": [],
   "source": [
    "# read the MQ ratios from the notebook \"paper 2 - UPS2 identifications with MaxQuant\"\n",
    "mq_ratios_df = pd.read_pickle('{}/mq_ratios_ups1_ups2.pkl'.format(expanduser('~')))"
   ]
  },
  {
   "cell_type": "code",
   "execution_count": 69,
   "metadata": {},
   "outputs": [
    {
     "data": {
      "text/plain": [
       "Index(['protein', 'average_intensity_UPS2', 'average_intensity_UPS1', 'ratio',\n",
       "       'expected_ratio', 'protein_code'],\n",
       "      dtype='object')"
      ]
     },
     "execution_count": 69,
     "metadata": {},
     "output_type": "execute_result"
    }
   ],
   "source": [
    "mq_ratios_df.columns"
   ]
  },
  {
   "cell_type": "code",
   "execution_count": 70,
   "metadata": {},
   "outputs": [],
   "source": [
    "# and combine them with the other results for plotting\n",
    "combined_ratios_df = pd.merge(ratios_df, mq_ratios_df[['protein','ratio']], how='inner', left_on=['protein'], right_on=['protein'], suffixes=['_TFDE','_MQ'])\n",
    "combined_ratios_df.rename(columns={'ratio': 'mq_ratio'}, inplace=True)"
   ]
  },
  {
   "cell_type": "code",
   "execution_count": 71,
   "metadata": {},
   "outputs": [
    {
     "data": {
      "text/html": [
       "<div>\n",
       "<style scoped>\n",
       "    .dataframe tbody tr th:only-of-type {\n",
       "        vertical-align: middle;\n",
       "    }\n",
       "\n",
       "    .dataframe tbody tr th {\n",
       "        vertical-align: top;\n",
       "    }\n",
       "\n",
       "    .dataframe thead th {\n",
       "        text-align: right;\n",
       "    }\n",
       "</style>\n",
       "<table border=\"1\" class=\"dataframe\">\n",
       "  <thead>\n",
       "    <tr style=\"text-align: right;\">\n",
       "      <th></th>\n",
       "      <th>protein</th>\n",
       "      <th>average_intensity_with_UPS2</th>\n",
       "      <th>average_intensity_without_UPS2</th>\n",
       "      <th>average_intensity_with_UPS1</th>\n",
       "      <th>average_intensity_without_UPS1</th>\n",
       "      <th>ratio_with</th>\n",
       "      <th>ratio_without</th>\n",
       "      <th>expected_ratio</th>\n",
       "      <th>protein_code</th>\n",
       "      <th>mq_ratio</th>\n",
       "    </tr>\n",
       "  </thead>\n",
       "  <tbody>\n",
       "    <tr>\n",
       "      <th>0</th>\n",
       "      <td>P00915ups|CAH1_HUMAN_UPS</td>\n",
       "      <td>51585.000000</td>\n",
       "      <td>46818.333333</td>\n",
       "      <td>9989.333333</td>\n",
       "      <td>9989.333333</td>\n",
       "      <td>5.164008</td>\n",
       "      <td>4.686833</td>\n",
       "      <td>10.0</td>\n",
       "      <td>P00915</td>\n",
       "      <td>6.718963</td>\n",
       "    </tr>\n",
       "    <tr>\n",
       "      <th>1</th>\n",
       "      <td>P00918ups|CAH2_HUMAN_UPS</td>\n",
       "      <td>50821.333333</td>\n",
       "      <td>44914.333333</td>\n",
       "      <td>18428.000000</td>\n",
       "      <td>17952.000000</td>\n",
       "      <td>2.757832</td>\n",
       "      <td>2.501913</td>\n",
       "      <td>10.0</td>\n",
       "      <td>P00918</td>\n",
       "      <td>3.008845</td>\n",
       "    </tr>\n",
       "    <tr>\n",
       "      <th>2</th>\n",
       "      <td>P01031ups|CO5_HUMAN_UPS</td>\n",
       "      <td>38016.333333</td>\n",
       "      <td>21627.333333</td>\n",
       "      <td>16770.000000</td>\n",
       "      <td>13073.666667</td>\n",
       "      <td>2.266925</td>\n",
       "      <td>1.654267</td>\n",
       "      <td>10.0</td>\n",
       "      <td>P01031</td>\n",
       "      <td>0.633459</td>\n",
       "    </tr>\n",
       "    <tr>\n",
       "      <th>3</th>\n",
       "      <td>P02768ups|ALBU_HUMAN_UPS</td>\n",
       "      <td>115886.000000</td>\n",
       "      <td>85755.666667</td>\n",
       "      <td>55929.000000</td>\n",
       "      <td>38761.000000</td>\n",
       "      <td>2.072020</td>\n",
       "      <td>2.212421</td>\n",
       "      <td>10.0</td>\n",
       "      <td>P02768</td>\n",
       "      <td>2.743569</td>\n",
       "    </tr>\n",
       "    <tr>\n",
       "      <th>4</th>\n",
       "      <td>P41159ups|LEP_HUMAN_UPS</td>\n",
       "      <td>35332.666667</td>\n",
       "      <td>30992.333333</td>\n",
       "      <td>12496.333333</td>\n",
       "      <td>11904.666667</td>\n",
       "      <td>2.827443</td>\n",
       "      <td>2.603377</td>\n",
       "      <td>10.0</td>\n",
       "      <td>P41159</td>\n",
       "      <td>2.059451</td>\n",
       "    </tr>\n",
       "    <tr>\n",
       "      <th>5</th>\n",
       "      <td>P68871ups|HBB_HUMAN_UPS</td>\n",
       "      <td>48116.666667</td>\n",
       "      <td>39327.666667</td>\n",
       "      <td>12392.000000</td>\n",
       "      <td>12058.333333</td>\n",
       "      <td>3.882881</td>\n",
       "      <td>3.261451</td>\n",
       "      <td>10.0</td>\n",
       "      <td>P68871</td>\n",
       "      <td>2.623932</td>\n",
       "    </tr>\n",
       "    <tr>\n",
       "      <th>6</th>\n",
       "      <td>P02144ups|MYG_HUMAN_UPS</td>\n",
       "      <td>6117.333333</td>\n",
       "      <td>6117.333333</td>\n",
       "      <td>8065.666667</td>\n",
       "      <td>8065.666667</td>\n",
       "      <td>0.758441</td>\n",
       "      <td>0.758441</td>\n",
       "      <td>1.0</td>\n",
       "      <td>P02144</td>\n",
       "      <td>1.140764</td>\n",
       "    </tr>\n",
       "    <tr>\n",
       "      <th>7</th>\n",
       "      <td>P04040ups|CATA_HUMAN_UPS</td>\n",
       "      <td>40754.333333</td>\n",
       "      <td>35426.666667</td>\n",
       "      <td>48565.666667</td>\n",
       "      <td>42191.666667</td>\n",
       "      <td>0.839159</td>\n",
       "      <td>0.839660</td>\n",
       "      <td>1.0</td>\n",
       "      <td>P04040</td>\n",
       "      <td>0.529186</td>\n",
       "    </tr>\n",
       "    <tr>\n",
       "      <th>8</th>\n",
       "      <td>P63165ups|SUMO1_HUMAN_UPS</td>\n",
       "      <td>1740.000000</td>\n",
       "      <td>1740.000000</td>\n",
       "      <td>2482.000000</td>\n",
       "      <td>2482.000000</td>\n",
       "      <td>0.701048</td>\n",
       "      <td>0.701048</td>\n",
       "      <td>1.0</td>\n",
       "      <td>P63165</td>\n",
       "      <td>0.353077</td>\n",
       "    </tr>\n",
       "    <tr>\n",
       "      <th>9</th>\n",
       "      <td>Q06830ups|PRDX1_HUMAN_UPS</td>\n",
       "      <td>8232.000000</td>\n",
       "      <td>8232.000000</td>\n",
       "      <td>11771.000000</td>\n",
       "      <td>11607.000000</td>\n",
       "      <td>0.699346</td>\n",
       "      <td>0.709227</td>\n",
       "      <td>1.0</td>\n",
       "      <td>Q06830</td>\n",
       "      <td>0.204661</td>\n",
       "    </tr>\n",
       "    <tr>\n",
       "      <th>10</th>\n",
       "      <td>P12081ups|SYHC_HUMAN_UPS</td>\n",
       "      <td>3091.000000</td>\n",
       "      <td>3091.000000</td>\n",
       "      <td>16254.000000</td>\n",
       "      <td>16254.000000</td>\n",
       "      <td>0.190169</td>\n",
       "      <td>0.190169</td>\n",
       "      <td>0.1</td>\n",
       "      <td>P12081</td>\n",
       "      <td>0.594955</td>\n",
       "    </tr>\n",
       "  </tbody>\n",
       "</table>\n",
       "</div>"
      ],
      "text/plain": [
       "                      protein  average_intensity_with_UPS2  \\\n",
       "0    P00915ups|CAH1_HUMAN_UPS                 51585.000000   \n",
       "1    P00918ups|CAH2_HUMAN_UPS                 50821.333333   \n",
       "2     P01031ups|CO5_HUMAN_UPS                 38016.333333   \n",
       "3    P02768ups|ALBU_HUMAN_UPS                115886.000000   \n",
       "4     P41159ups|LEP_HUMAN_UPS                 35332.666667   \n",
       "5     P68871ups|HBB_HUMAN_UPS                 48116.666667   \n",
       "6     P02144ups|MYG_HUMAN_UPS                  6117.333333   \n",
       "7    P04040ups|CATA_HUMAN_UPS                 40754.333333   \n",
       "8   P63165ups|SUMO1_HUMAN_UPS                  1740.000000   \n",
       "9   Q06830ups|PRDX1_HUMAN_UPS                  8232.000000   \n",
       "10   P12081ups|SYHC_HUMAN_UPS                  3091.000000   \n",
       "\n",
       "    average_intensity_without_UPS2  average_intensity_with_UPS1  \\\n",
       "0                     46818.333333                  9989.333333   \n",
       "1                     44914.333333                 18428.000000   \n",
       "2                     21627.333333                 16770.000000   \n",
       "3                     85755.666667                 55929.000000   \n",
       "4                     30992.333333                 12496.333333   \n",
       "5                     39327.666667                 12392.000000   \n",
       "6                      6117.333333                  8065.666667   \n",
       "7                     35426.666667                 48565.666667   \n",
       "8                      1740.000000                  2482.000000   \n",
       "9                      8232.000000                 11771.000000   \n",
       "10                     3091.000000                 16254.000000   \n",
       "\n",
       "    average_intensity_without_UPS1  ratio_with  ratio_without  expected_ratio  \\\n",
       "0                      9989.333333    5.164008       4.686833            10.0   \n",
       "1                     17952.000000    2.757832       2.501913            10.0   \n",
       "2                     13073.666667    2.266925       1.654267            10.0   \n",
       "3                     38761.000000    2.072020       2.212421            10.0   \n",
       "4                     11904.666667    2.827443       2.603377            10.0   \n",
       "5                     12058.333333    3.882881       3.261451            10.0   \n",
       "6                      8065.666667    0.758441       0.758441             1.0   \n",
       "7                     42191.666667    0.839159       0.839660             1.0   \n",
       "8                      2482.000000    0.701048       0.701048             1.0   \n",
       "9                     11607.000000    0.699346       0.709227             1.0   \n",
       "10                    16254.000000    0.190169       0.190169             0.1   \n",
       "\n",
       "   protein_code  mq_ratio  \n",
       "0        P00915  6.718963  \n",
       "1        P00918  3.008845  \n",
       "2        P01031  0.633459  \n",
       "3        P02768  2.743569  \n",
       "4        P41159  2.059451  \n",
       "5        P68871  2.623932  \n",
       "6        P02144  1.140764  \n",
       "7        P04040  0.529186  \n",
       "8        P63165  0.353077  \n",
       "9        Q06830  0.204661  \n",
       "10       P12081  0.594955  "
      ]
     },
     "execution_count": 71,
     "metadata": {},
     "output_type": "execute_result"
    }
   ],
   "source": [
    "combined_ratios_df"
   ]
  },
  {
   "cell_type": "code",
   "execution_count": 72,
   "metadata": {},
   "outputs": [
    {
     "data": {
      "text/plain": [
       "0.652762504346444"
      ]
     },
     "execution_count": 72,
     "metadata": {},
     "output_type": "execute_result"
    }
   ],
   "source": [
    "combined_ratios_df['mq_ratio'].corr(combined_ratios_df['expected_ratio'])"
   ]
  },
  {
   "cell_type": "markdown",
   "metadata": {},
   "source": [
    "#### plot the comparison"
   ]
  },
  {
   "cell_type": "code",
   "execution_count": 73,
   "metadata": {},
   "outputs": [
    {
     "data": {
      "image/png": "[encoded data removed]",
      "text/plain": [
       "<Figure size 1080x432 with 1 Axes>"
      ]
     },
     "metadata": {
      "needs_background": "light"
     },
     "output_type": "display_data"
    }
   ],
   "source": [
    "labels = combined_ratios_df.protein_code\n",
    "ratio_with = np.log10(combined_ratios_df.ratio_with)\n",
    "ratio_without = np.log10(combined_ratios_df.ratio_without)\n",
    "mq_ratio = np.log10(combined_ratios_df.mq_ratio)\n",
    "expected_ratio = np.log10(combined_ratios_df.expected_ratio)\n",
    "\n",
    "x = np.arange(len(labels))  # the label locations\n",
    "width = 0.1  # the width of the bars\n",
    "\n",
    "f, ax = plt.subplots()\n",
    "f.set_figheight(6)\n",
    "f.set_figwidth(15)\n",
    "\n",
    "plt.margins(0.06)\n",
    "plt.title('')\n",
    "\n",
    "rects1 = ax.bar(x - 2*width, ratio_with, width, label='with saturation correction')\n",
    "rects2 = ax.bar(x - width, ratio_without, width, label='without saturation correction')\n",
    "rects3 = ax.bar(x, mq_ratio, width, label='MaxQuant')\n",
    "rects4 = ax.bar(x + width, expected_ratio, width, label='expected ratio')\n",
    "\n",
    "# add text for labels, title and custom x-axis tick labels, etc.\n",
    "ax.set_ylabel('log10(UPS2/UPS1)')\n",
    "# ax.set_title('ratio of protein intensity')\n",
    "ax.set_xticks(x)\n",
    "ax.set_xticklabels(labels, rotation=70, ha='right')\n",
    "ax.legend()\n",
    "\n",
    "# create offset transform (x=5pt)\n",
    "from matplotlib.transforms import ScaledTranslation\n",
    "dx, dy = 5, 0\n",
    "offset = ScaledTranslation(dx/f.dpi, dy/f.dpi, scale_trans=f.dpi_scale_trans)\n",
    "\n",
    "# apply offset transform to all xticklabels\n",
    "for label in ax.xaxis.get_majorticklabels():\n",
    "    label.set_transform(label.get_transform() + offset)\n",
    "    \n",
    "plt.show()"
   ]
  },
  {
   "cell_type": "markdown",
   "metadata": {},
   "source": [
    "### compare relative intensities of top-3 peptides for each protein in UPS2 relative to a protein that was not corrected for saturation"
   ]
  },
  {
   "cell_type": "code",
   "execution_count": 74,
   "metadata": {},
   "outputs": [],
   "source": [
    "ratios_df = combined_df[['protein','average_intensity_with','average_intensity_without','intensity_adjusted']].copy()\n"
   ]
  },
  {
   "cell_type": "markdown",
   "metadata": {},
   "source": [
    "#### use for the intensity reference the most intense protein that was not corrected for saturation"
   ]
  },
  {
   "cell_type": "code",
   "execution_count": 75,
   "metadata": {},
   "outputs": [],
   "source": [
    "reference_row = combined_df[combined_df.protein.str.startswith('Q06830')].iloc[0]\n",
    "reference_intensity = reference_row.average_intensity_with"
   ]
  },
  {
   "cell_type": "code",
   "execution_count": 76,
   "metadata": {},
   "outputs": [],
   "source": [
    "ratios_df['ratio_with'] = ratios_df.average_intensity_with / reference_intensity\n",
    "ratios_df['ratio_without'] = ratios_df.average_intensity_without / reference_intensity"
   ]
  },
  {
   "cell_type": "code",
   "execution_count": 77,
   "metadata": {},
   "outputs": [],
   "source": [
    "ratios_df['expected_ratio'] = ratios_df.apply(lambda row: (ups2_d[row.protein.split('ups')[0]] / 1000) / (ups2_d[reference_row.protein.split('ups')[0]] / 1000), axis=1)"
   ]
  },
  {
   "cell_type": "code",
   "execution_count": 78,
   "metadata": {},
   "outputs": [
    {
     "data": {
      "text/html": [
       "<div>\n",
       "<style scoped>\n",
       "    .dataframe tbody tr th:only-of-type {\n",
       "        vertical-align: middle;\n",
       "    }\n",
       "\n",
       "    .dataframe tbody tr th {\n",
       "        vertical-align: top;\n",
       "    }\n",
       "\n",
       "    .dataframe thead th {\n",
       "        text-align: right;\n",
       "    }\n",
       "</style>\n",
       "<table border=\"1\" class=\"dataframe\">\n",
       "  <thead>\n",
       "    <tr style=\"text-align: right;\">\n",
       "      <th></th>\n",
       "      <th>protein</th>\n",
       "      <th>average_intensity_with</th>\n",
       "      <th>average_intensity_without</th>\n",
       "      <th>intensity_adjusted</th>\n",
       "      <th>ratio_with</th>\n",
       "      <th>ratio_without</th>\n",
       "      <th>expected_ratio</th>\n",
       "    </tr>\n",
       "  </thead>\n",
       "  <tbody>\n",
       "    <tr>\n",
       "      <th>0</th>\n",
       "      <td>P00915ups|CAH1_HUMAN_UPS</td>\n",
       "      <td>51585.000000</td>\n",
       "      <td>46818.333333</td>\n",
       "      <td>True</td>\n",
       "      <td>6.266399</td>\n",
       "      <td>5.687358</td>\n",
       "      <td>10.0</td>\n",
       "    </tr>\n",
       "    <tr>\n",
       "      <th>1</th>\n",
       "      <td>P00918ups|CAH2_HUMAN_UPS</td>\n",
       "      <td>50821.333333</td>\n",
       "      <td>44914.333333</td>\n",
       "      <td>True</td>\n",
       "      <td>6.173631</td>\n",
       "      <td>5.456066</td>\n",
       "      <td>10.0</td>\n",
       "    </tr>\n",
       "    <tr>\n",
       "      <th>2</th>\n",
       "      <td>P01031ups|CO5_HUMAN_UPS</td>\n",
       "      <td>38016.333333</td>\n",
       "      <td>21627.333333</td>\n",
       "      <td>True</td>\n",
       "      <td>4.618116</td>\n",
       "      <td>2.627227</td>\n",
       "      <td>10.0</td>\n",
       "    </tr>\n",
       "    <tr>\n",
       "      <th>3</th>\n",
       "      <td>P02144ups|MYG_HUMAN_UPS</td>\n",
       "      <td>6117.333333</td>\n",
       "      <td>6117.333333</td>\n",
       "      <td>False</td>\n",
       "      <td>0.743116</td>\n",
       "      <td>0.743116</td>\n",
       "      <td>1.0</td>\n",
       "    </tr>\n",
       "    <tr>\n",
       "      <th>4</th>\n",
       "      <td>P02768ups|ALBU_HUMAN_UPS</td>\n",
       "      <td>115886.000000</td>\n",
       "      <td>85755.666667</td>\n",
       "      <td>True</td>\n",
       "      <td>14.077502</td>\n",
       "      <td>10.417355</td>\n",
       "      <td>10.0</td>\n",
       "    </tr>\n",
       "    <tr>\n",
       "      <th>5</th>\n",
       "      <td>P04040ups|CATA_HUMAN_UPS</td>\n",
       "      <td>40754.333333</td>\n",
       "      <td>35426.666667</td>\n",
       "      <td>True</td>\n",
       "      <td>4.950721</td>\n",
       "      <td>4.303531</td>\n",
       "      <td>1.0</td>\n",
       "    </tr>\n",
       "    <tr>\n",
       "      <th>6</th>\n",
       "      <td>P12081ups|SYHC_HUMAN_UPS</td>\n",
       "      <td>3091.000000</td>\n",
       "      <td>3091.000000</td>\n",
       "      <td>False</td>\n",
       "      <td>0.375486</td>\n",
       "      <td>0.375486</td>\n",
       "      <td>0.1</td>\n",
       "    </tr>\n",
       "    <tr>\n",
       "      <th>7</th>\n",
       "      <td>P41159ups|LEP_HUMAN_UPS</td>\n",
       "      <td>35332.666667</td>\n",
       "      <td>30992.333333</td>\n",
       "      <td>True</td>\n",
       "      <td>4.292112</td>\n",
       "      <td>3.764861</td>\n",
       "      <td>10.0</td>\n",
       "    </tr>\n",
       "    <tr>\n",
       "      <th>8</th>\n",
       "      <td>P62937ups|PPIA_HUMAN_UPS,P62988ups|UBIQ_HUMAN_...</td>\n",
       "      <td>3465.000000</td>\n",
       "      <td>3465.000000</td>\n",
       "      <td>False</td>\n",
       "      <td>0.420918</td>\n",
       "      <td>0.420918</td>\n",
       "      <td>1.0</td>\n",
       "    </tr>\n",
       "    <tr>\n",
       "      <th>9</th>\n",
       "      <td>P63165ups|SUMO1_HUMAN_UPS</td>\n",
       "      <td>1740.000000</td>\n",
       "      <td>1740.000000</td>\n",
       "      <td>False</td>\n",
       "      <td>0.211370</td>\n",
       "      <td>0.211370</td>\n",
       "      <td>1.0</td>\n",
       "    </tr>\n",
       "    <tr>\n",
       "      <th>10</th>\n",
       "      <td>P68871ups|HBB_HUMAN_UPS</td>\n",
       "      <td>48116.666667</td>\n",
       "      <td>39327.666667</td>\n",
       "      <td>True</td>\n",
       "      <td>5.845076</td>\n",
       "      <td>4.777413</td>\n",
       "      <td>10.0</td>\n",
       "    </tr>\n",
       "    <tr>\n",
       "      <th>11</th>\n",
       "      <td>P69905ups|HBA_HUMAN_UPS</td>\n",
       "      <td>18805.333333</td>\n",
       "      <td>18805.333333</td>\n",
       "      <td>True</td>\n",
       "      <td>2.284419</td>\n",
       "      <td>2.284419</td>\n",
       "      <td>10.0</td>\n",
       "    </tr>\n",
       "    <tr>\n",
       "      <th>12</th>\n",
       "      <td>Q06830ups|PRDX1_HUMAN_UPS</td>\n",
       "      <td>8232.000000</td>\n",
       "      <td>8232.000000</td>\n",
       "      <td>False</td>\n",
       "      <td>1.000000</td>\n",
       "      <td>1.000000</td>\n",
       "      <td>1.0</td>\n",
       "    </tr>\n",
       "  </tbody>\n",
       "</table>\n",
       "</div>"
      ],
      "text/plain": [
       "                                              protein  average_intensity_with  \\\n",
       "0                            P00915ups|CAH1_HUMAN_UPS            51585.000000   \n",
       "1                            P00918ups|CAH2_HUMAN_UPS            50821.333333   \n",
       "2                             P01031ups|CO5_HUMAN_UPS            38016.333333   \n",
       "3                             P02144ups|MYG_HUMAN_UPS             6117.333333   \n",
       "4                            P02768ups|ALBU_HUMAN_UPS           115886.000000   \n",
       "5                            P04040ups|CATA_HUMAN_UPS            40754.333333   \n",
       "6                            P12081ups|SYHC_HUMAN_UPS             3091.000000   \n",
       "7                             P41159ups|LEP_HUMAN_UPS            35332.666667   \n",
       "8   P62937ups|PPIA_HUMAN_UPS,P62988ups|UBIQ_HUMAN_...             3465.000000   \n",
       "9                           P63165ups|SUMO1_HUMAN_UPS             1740.000000   \n",
       "10                            P68871ups|HBB_HUMAN_UPS            48116.666667   \n",
       "11                            P69905ups|HBA_HUMAN_UPS            18805.333333   \n",
       "12                          Q06830ups|PRDX1_HUMAN_UPS             8232.000000   \n",
       "\n",
       "    average_intensity_without  intensity_adjusted  ratio_with  ratio_without  \\\n",
       "0                46818.333333                True    6.266399       5.687358   \n",
       "1                44914.333333                True    6.173631       5.456066   \n",
       "2                21627.333333                True    4.618116       2.627227   \n",
       "3                 6117.333333               False    0.743116       0.743116   \n",
       "4                85755.666667                True   14.077502      10.417355   \n",
       "5                35426.666667                True    4.950721       4.303531   \n",
       "6                 3091.000000               False    0.375486       0.375486   \n",
       "7                30992.333333                True    4.292112       3.764861   \n",
       "8                 3465.000000               False    0.420918       0.420918   \n",
       "9                 1740.000000               False    0.211370       0.211370   \n",
       "10               39327.666667                True    5.845076       4.777413   \n",
       "11               18805.333333                True    2.284419       2.284419   \n",
       "12                8232.000000               False    1.000000       1.000000   \n",
       "\n",
       "    expected_ratio  \n",
       "0             10.0  \n",
       "1             10.0  \n",
       "2             10.0  \n",
       "3              1.0  \n",
       "4             10.0  \n",
       "5              1.0  \n",
       "6              0.1  \n",
       "7             10.0  \n",
       "8              1.0  \n",
       "9              1.0  \n",
       "10            10.0  \n",
       "11            10.0  \n",
       "12             1.0  "
      ]
     },
     "execution_count": 78,
     "metadata": {},
     "output_type": "execute_result"
    }
   ],
   "source": [
    "ratios_df"
   ]
  },
  {
   "cell_type": "code",
   "execution_count": 79,
   "metadata": {},
   "outputs": [
    {
     "data": {
      "text/plain": [
       "0.6663992156900627"
      ]
     },
     "execution_count": 79,
     "metadata": {},
     "output_type": "execute_result"
    }
   ],
   "source": [
    "ratios_df['ratio_with'].corr(ratios_df['expected_ratio'])"
   ]
  },
  {
   "cell_type": "code",
   "execution_count": 80,
   "metadata": {},
   "outputs": [
    {
     "data": {
      "text/plain": [
       "0.677690772965348"
      ]
     },
     "execution_count": 80,
     "metadata": {},
     "output_type": "execute_result"
    }
   ],
   "source": [
    "ratios_df['ratio_without'].corr(ratios_df['expected_ratio'])"
   ]
  },
  {
   "cell_type": "code",
   "execution_count": null,
   "metadata": {},
   "outputs": [],
   "source": []
  }
 ],
 "metadata": {
  "kernelspec": {
   "display_name": "Python 3",
   "language": "python",
   "name": "python3"
  },
  "language_info": {
   "codemirror_mode": {
    "name": "ipython",
    "version": 3
   },
   "file_extension": ".py",
   "mimetype": "text/x-python",
   "name": "python",
   "nbconvert_exporter": "python",
   "pygments_lexer": "ipython3",
   "version": "3.8.5"
  }
 },
 "nbformat": 4,
 "nbformat_minor": 4
}
