{
 "cells": [
  {
   "cell_type": "code",
   "execution_count": 1,
   "metadata": {},
   "outputs": [],
   "source": [
    "import pandas as pd\n",
    "import sqlite3\n",
    "import matplotlib.pyplot as plt\n",
    "from os.path import expanduser\n",
    "import numpy as np\n",
    "import glob"
   ]
  },
  {
   "cell_type": "markdown",
   "metadata": {},
   "source": [
    "#### TFD/E"
   ]
  },
  {
   "cell_type": "code",
   "execution_count": 2,
   "metadata": {},
   "outputs": [],
   "source": [
    "EXPERIMENT_DIR = '/media/data-4t-a/results-P3856_YHE211/2021-10-06-06-59-25/P3856_YHE211/'"
   ]
  },
  {
   "cell_type": "code",
   "execution_count": 3,
   "metadata": {},
   "outputs": [
    {
     "name": "stdout",
     "output_type": "stream",
     "text": [
      "loading the extractions from /media/data-4t-a/results-P3856_YHE211/2021-10-06-06-59-25/P3856_YHE211//extracted-features/extracted-features.sqlite\n"
     ]
    }
   ],
   "source": [
    "# load the extractions\n",
    "EXTRACTED_FEATURES_DB_NAME = '{}/extracted-features/extracted-features.sqlite'.format(EXPERIMENT_DIR)\n",
    "print('loading the extractions from {}'.format(EXTRACTED_FEATURES_DB_NAME))\n",
    "db_conn = sqlite3.connect(EXTRACTED_FEATURES_DB_NAME)\n",
    "extracted_features_df = pd.read_sql_query(\"select sequence,charge,run_name,monoisotopic_mz_centroid from features where classed_as == \\'target\\'\", db_conn)\n",
    "db_conn.close()"
   ]
  },
  {
   "cell_type": "code",
   "execution_count": 4,
   "metadata": {},
   "outputs": [],
   "source": [
    "# load the theoretical peptide mass from the sequence library\n",
    "SEQUENCE_LIBRARY_DIR = \"{}/sequence-library\".format(EXPERIMENT_DIR)\n",
    "SEQUENCE_LIBRARY_FILE_NAME = \"{}/sequence-library.feather\".format(SEQUENCE_LIBRARY_DIR)\n",
    "\n",
    "library_df = pd.read_feather(SEQUENCE_LIBRARY_FILE_NAME)"
   ]
  },
  {
   "cell_type": "code",
   "execution_count": 5,
   "metadata": {},
   "outputs": [],
   "source": [
    "extracted_features_df = pd.merge(extracted_features_df, library_df[['sequence','charge','theoretical_mz']], how='left', left_on=['sequence','charge'], right_on=['sequence','charge'])"
   ]
  },
  {
   "cell_type": "code",
   "execution_count": 6,
   "metadata": {},
   "outputs": [],
   "source": [
    "extracted_features_df['monoisotopic_mz_ppm_error'] = (extracted_features_df.monoisotopic_mz_centroid - extracted_features_df.theoretical_mz) / extracted_features_df.theoretical_mz * 1e6"
   ]
  },
  {
   "cell_type": "code",
   "execution_count": 7,
   "metadata": {},
   "outputs": [],
   "source": [
    "# summarise the extractions\n",
    "extractions_l = []\n",
    "for group_name,group_df in extracted_features_df.groupby(['sequence','charge'], as_index=False):\n",
    "    number_of_runs = len(group_df.run_name.unique())\n",
    "    mean_mass_error_ppm = group_df.monoisotopic_mz_ppm_error.mean()\n",
    "    extractions_l.append({'sequence':group_name[0],'charge':group_name[1],'mean_mass_error_ppm':mean_mass_error_ppm,'number_of_runs':number_of_runs})\n",
    "extractions_df = pd.DataFrame(extractions_l)"
   ]
  },
  {
   "cell_type": "code",
   "execution_count": 8,
   "metadata": {},
   "outputs": [],
   "source": [
    "tfde_trimmed_df = extractions_df[extractions_df.mean_mass_error_ppm <= 5]"
   ]
  },
  {
   "cell_type": "code",
   "execution_count": 9,
   "metadata": {},
   "outputs": [
    {
     "data": {
      "image/png": "[encoded data removed]",
      "text/plain": [
       "<Figure size 576x576 with 1 Axes>"
      ]
     },
     "metadata": {
      "needs_background": "light"
     },
     "output_type": "display_data"
    }
   ],
   "source": [
    "f, ax1 = plt.subplots()\n",
    "f.set_figheight(8)\n",
    "f.set_figwidth(8)\n",
    "\n",
    "plt.margins(0.06)\n",
    "plt.title('')\n",
    "\n",
    "bins = 300\n",
    "values = tfde_trimmed_df.mean_mass_error_ppm\n",
    "y, x, _ = ax1.hist(values, bins=bins)\n",
    "\n",
    "mean = np.mean(values)\n",
    "ax1.axvline(mean, color='darkorange', lw=1.0, ls='-.', label='mean')\n",
    "text_style = dict(size=10, color='brown', verticalalignment='center', horizontalalignment='left')\n",
    "ax1.text(mean*0.85, y.max()*0.98, \"mean {}\".format(round(mean,2)), **text_style, rotation='vertical')\n",
    "\n",
    "plt.xlabel('delta m/z ppm')\n",
    "plt.ylabel('count')\n",
    "\n",
    "plt.xlim((-5,5))\n",
    "plt.ylim((0,400))\n",
    "\n",
    "# plt.title('delta between extracted and theoretical monoisotopic m/z ppm\\nexperiment {}'.format(EXPERIMENT_NAME))\n",
    "\n",
    "plt.show()"
   ]
  },
  {
   "cell_type": "markdown",
   "metadata": {},
   "source": [
    "#### MaxQuant"
   ]
  },
  {
   "cell_type": "code",
   "execution_count": 10,
   "metadata": {},
   "outputs": [],
   "source": [
    "MQ_RESULTS_DIR = '{}'.format(expanduser('~'))\n",
    "# MQ_RESULTS_DIR = '{}/Downloads/experiments'.format(expanduser('~'))\n",
    "mq_results_df = pd.read_csv('{}/MQ-analysis-of-P3856/combined/txt/evidence.txt'.format(MQ_RESULTS_DIR), sep='\\\\t', engine='python')"
   ]
  },
  {
   "cell_type": "code",
   "execution_count": 11,
   "metadata": {},
   "outputs": [],
   "source": [
    "# remove decoys, which are indicated by a '+' in the Reverse column\n",
    "mq_results_df = mq_results_df[pd.isna(mq_results_df.Reverse)]\n",
    "# remove identifications with no intensity\n",
    "mq_results_df = mq_results_df[(mq_results_df.Intensity > 0)]\n",
    "# remove potential contaminants\n",
    "mq_results_df = mq_results_df[pd.isna(mq_results_df['Potential contaminant'])]\n",
    "# remove identifications with mass error more than +/- 5 ppm\n",
    "mq_results_df = mq_results_df[np.abs(mq_results_df['Mass error [ppm]']) <= 5.0]\n",
    "# add RT as seconds\n",
    "mq_results_df['retention_time_secs'] = mq_results_df['Retention time']*60.0"
   ]
  },
  {
   "cell_type": "code",
   "execution_count": 12,
   "metadata": {},
   "outputs": [],
   "source": [
    "# definition of uniqueness in MaxQuant output with MBR on\n",
    "unique_peptide_key = ['Sequence','Modifications','Charge']"
   ]
  },
  {
   "cell_type": "code",
   "execution_count": 13,
   "metadata": {},
   "outputs": [
    {
     "data": {
      "text/plain": [
       "Index(['Sequence', 'Length', 'Modifications', 'Modified sequence',\n",
       "       'Oxidation (M) Probabilities', 'Oxidation (M) Score Diffs',\n",
       "       'Acetyl (Protein N-term)', 'Oxidation (M)', 'Missed cleavages',\n",
       "       'Proteins', 'Leading proteins', 'Leading razor protein', 'Type',\n",
       "       'Raw file', 'MS/MS m/z', 'Charge', 'm/z', 'Mass',\n",
       "       'Uncalibrated - Calibrated m/z [ppm]',\n",
       "       'Uncalibrated - Calibrated m/z [Da]', 'Mass error [ppm]',\n",
       "       'Mass error [Da]', 'Uncalibrated mass error [ppm]',\n",
       "       'Uncalibrated mass error [Da]', 'Max intensity m/z 0', 'Retention time',\n",
       "       'Retention length', 'Calibrated retention time',\n",
       "       'Calibrated retention time start', 'Calibrated retention time finish',\n",
       "       'Retention time calibration', 'Ion mobility index',\n",
       "       'Ion mobility length', '1/K0', '1/K0 length', 'Calibrated 1/K0', 'CCS',\n",
       "       'Calibrated CCS', 'CCS length', 'Match time difference',\n",
       "       'Match m/z difference', 'Match K0 difference', 'Match q-value',\n",
       "       'Match score', 'Number of data points', 'Number of scans',\n",
       "       'Number of isotopic peaks', 'PIF', 'Fraction of total spectrum',\n",
       "       'Base peak fraction', 'PEP', 'MS/MS count', 'MS/MS scan number',\n",
       "       'Score', 'Delta score', 'Combinatorics', 'Intensity', 'Reverse',\n",
       "       'Potential contaminant', 'id', 'Protein group IDs', 'Peptide ID',\n",
       "       'Mod. peptide ID', 'MS/MS IDs', 'Best MS/MS', 'Oxidation (M) site IDs',\n",
       "       'Taxonomy IDs', 'retention_time_secs'],\n",
       "      dtype='object')"
      ]
     },
     "execution_count": 13,
     "metadata": {},
     "output_type": "execute_result"
    }
   ],
   "source": [
    "mq_results_df.columns"
   ]
  },
  {
   "cell_type": "code",
   "execution_count": 14,
   "metadata": {},
   "outputs": [],
   "source": [
    "# get one reading for each unique peptide in each run, and count how many identifications and extractions (i.e. \n",
    "# matches) across each group. Note that a sequence can be counted as an identification and a match in the same file \n",
    "# (i.e. it's given a different score).\n",
    "mq_sequences_l = []\n",
    "unique_peptide_key_file = unique_peptide_key + ['Raw file']\n",
    "for group_name,group_df in mq_results_df.groupby(unique_peptide_key_file, as_index=False):\n",
    "    short_run_name = '_'.join(group_name[3].split('_Slot')[0].split('_')[1:3])\n",
    "    grp_name = short_run_name.split('_')[0]\n",
    "    if grp_name == 'YHE211':\n",
    "        sorted_df = group_df.sort_values(by=['Intensity'], ascending=False, inplace=False)\n",
    "        mass_error_ppm = sorted_df.iloc[0]['Mass error [ppm]']\n",
    "        mq_sequences_l.append({'Sequence':group_name[0], 'Modifications':group_name[1], 'Charge':group_name[2], 'run_name':short_run_name, 'mass_error_ppm':mass_error_ppm})\n",
    "mq_sequences_df = pd.DataFrame(mq_sequences_l)"
   ]
  },
  {
   "cell_type": "code",
   "execution_count": 15,
   "metadata": {},
   "outputs": [],
   "source": [
    "# summarise the extractions\n",
    "extractions_l = []\n",
    "for group_name,group_df in mq_sequences_df.groupby(unique_peptide_key, as_index=False):\n",
    "    number_of_runs = len(group_df.run_name.unique())\n",
    "    mean_mass_error_ppm = group_df.mass_error_ppm.mean()\n",
    "    extractions_l.append({'sequence':group_name[0],'mod':group_name[1],'charge':group_name[2],'mean_mass_error_ppm':mean_mass_error_ppm,'number_of_runs':number_of_runs})\n",
    "mq_extractions_df = pd.DataFrame(extractions_l)"
   ]
  },
  {
   "cell_type": "code",
   "execution_count": 16,
   "metadata": {},
   "outputs": [
    {
     "data": {
      "text/html": [
       "<div>\n",
       "<style scoped>\n",
       "    .dataframe tbody tr th:only-of-type {\n",
       "        vertical-align: middle;\n",
       "    }\n",
       "\n",
       "    .dataframe tbody tr th {\n",
       "        vertical-align: top;\n",
       "    }\n",
       "\n",
       "    .dataframe thead th {\n",
       "        text-align: right;\n",
       "    }\n",
       "</style>\n",
       "<table border=\"1\" class=\"dataframe\">\n",
       "  <thead>\n",
       "    <tr style=\"text-align: right;\">\n",
       "      <th></th>\n",
       "      <th>sequence</th>\n",
       "      <th>mod</th>\n",
       "      <th>charge</th>\n",
       "      <th>mean_mass_error_ppm</th>\n",
       "      <th>number_of_runs</th>\n",
       "    </tr>\n",
       "  </thead>\n",
       "  <tbody>\n",
       "    <tr>\n",
       "      <th>0</th>\n",
       "      <td>AAAAAWEEPSSGNGTAR</td>\n",
       "      <td>Unmodified</td>\n",
       "      <td>2</td>\n",
       "      <td>0.181567</td>\n",
       "      <td>5</td>\n",
       "    </tr>\n",
       "    <tr>\n",
       "      <th>1</th>\n",
       "      <td>AAAAGAAAAAAAEGEAPAEMGALLLEK</td>\n",
       "      <td>Acetyl (Protein N-term)</td>\n",
       "      <td>3</td>\n",
       "      <td>0.346348</td>\n",
       "      <td>10</td>\n",
       "    </tr>\n",
       "    <tr>\n",
       "      <th>2</th>\n",
       "      <td>AAAAGGGGPGTAVGATGSGIAAAAAGLAVYR</td>\n",
       "      <td>Acetyl (Protein N-term)</td>\n",
       "      <td>3</td>\n",
       "      <td>1.535574</td>\n",
       "      <td>10</td>\n",
       "    </tr>\n",
       "    <tr>\n",
       "      <th>3</th>\n",
       "      <td>AAAAKPNNLSLVVHGPGDLR</td>\n",
       "      <td>Acetyl (Protein N-term)</td>\n",
       "      <td>3</td>\n",
       "      <td>-1.784242</td>\n",
       "      <td>10</td>\n",
       "    </tr>\n",
       "    <tr>\n",
       "      <th>4</th>\n",
       "      <td>AAAANSGSSLPLFDCPTWAGKPPPGLHLDVVK</td>\n",
       "      <td>Acetyl (Protein N-term)</td>\n",
       "      <td>3</td>\n",
       "      <td>-1.615109</td>\n",
       "      <td>8</td>\n",
       "    </tr>\n",
       "    <tr>\n",
       "      <th>...</th>\n",
       "      <td>...</td>\n",
       "      <td>...</td>\n",
       "      <td>...</td>\n",
       "      <td>...</td>\n",
       "      <td>...</td>\n",
       "    </tr>\n",
       "    <tr>\n",
       "      <th>18331</th>\n",
       "      <td>YYTGNYDQYVK</td>\n",
       "      <td>Unmodified</td>\n",
       "      <td>2</td>\n",
       "      <td>2.237377</td>\n",
       "      <td>6</td>\n",
       "    </tr>\n",
       "    <tr>\n",
       "      <th>18332</th>\n",
       "      <td>YYTSASGDEMVSLK</td>\n",
       "      <td>Unmodified</td>\n",
       "      <td>2</td>\n",
       "      <td>0.647507</td>\n",
       "      <td>10</td>\n",
       "    </tr>\n",
       "    <tr>\n",
       "      <th>18333</th>\n",
       "      <td>YYVPEDPSQDADYDVSAK</td>\n",
       "      <td>Unmodified</td>\n",
       "      <td>2</td>\n",
       "      <td>1.306444</td>\n",
       "      <td>7</td>\n",
       "    </tr>\n",
       "    <tr>\n",
       "      <th>18334</th>\n",
       "      <td>YYVTIIDAPGHR</td>\n",
       "      <td>Unmodified</td>\n",
       "      <td>2</td>\n",
       "      <td>1.307585</td>\n",
       "      <td>10</td>\n",
       "    </tr>\n",
       "    <tr>\n",
       "      <th>18335</th>\n",
       "      <td>YYYAVVDCDSPETASK</td>\n",
       "      <td>Unmodified</td>\n",
       "      <td>2</td>\n",
       "      <td>1.619893</td>\n",
       "      <td>7</td>\n",
       "    </tr>\n",
       "  </tbody>\n",
       "</table>\n",
       "<p>18336 rows × 5 columns</p>\n",
       "</div>"
      ],
      "text/plain": [
       "                               sequence                      mod  charge  \\\n",
       "0                     AAAAAWEEPSSGNGTAR               Unmodified       2   \n",
       "1           AAAAGAAAAAAAEGEAPAEMGALLLEK  Acetyl (Protein N-term)       3   \n",
       "2       AAAAGGGGPGTAVGATGSGIAAAAAGLAVYR  Acetyl (Protein N-term)       3   \n",
       "3                  AAAAKPNNLSLVVHGPGDLR  Acetyl (Protein N-term)       3   \n",
       "4      AAAANSGSSLPLFDCPTWAGKPPPGLHLDVVK  Acetyl (Protein N-term)       3   \n",
       "...                                 ...                      ...     ...   \n",
       "18331                       YYTGNYDQYVK               Unmodified       2   \n",
       "18332                    YYTSASGDEMVSLK               Unmodified       2   \n",
       "18333                YYVPEDPSQDADYDVSAK               Unmodified       2   \n",
       "18334                      YYVTIIDAPGHR               Unmodified       2   \n",
       "18335                  YYYAVVDCDSPETASK               Unmodified       2   \n",
       "\n",
       "       mean_mass_error_ppm  number_of_runs  \n",
       "0                 0.181567               5  \n",
       "1                 0.346348              10  \n",
       "2                 1.535574              10  \n",
       "3                -1.784242              10  \n",
       "4                -1.615109               8  \n",
       "...                    ...             ...  \n",
       "18331             2.237377               6  \n",
       "18332             0.647507              10  \n",
       "18333             1.306444               7  \n",
       "18334             1.307585              10  \n",
       "18335             1.619893               7  \n",
       "\n",
       "[18336 rows x 5 columns]"
      ]
     },
     "execution_count": 16,
     "metadata": {},
     "output_type": "execute_result"
    }
   ],
   "source": [
    "mq_extractions_df"
   ]
  },
  {
   "cell_type": "code",
   "execution_count": 17,
   "metadata": {},
   "outputs": [],
   "source": [
    "mq_trimmed_df = mq_extractions_df[mq_extractions_df.mean_mass_error_ppm <= 5]"
   ]
  },
  {
   "cell_type": "code",
   "execution_count": 18,
   "metadata": {},
   "outputs": [
    {
     "data": {
      "image/png": "[encoded data removed]",
      "text/plain": [
       "<Figure size 576x576 with 1 Axes>"
      ]
     },
     "metadata": {
      "needs_background": "light"
     },
     "output_type": "display_data"
    }
   ],
   "source": [
    "f, ax1 = plt.subplots()\n",
    "f.set_figheight(8)\n",
    "f.set_figwidth(8)\n",
    "\n",
    "plt.margins(0.06)\n",
    "plt.title('')\n",
    "\n",
    "bins = 300\n",
    "values = mq_trimmed_df.mean_mass_error_ppm\n",
    "y, x, _ = ax1.hist(values, bins=bins)\n",
    "\n",
    "mean = np.mean(values)\n",
    "ax1.axvline(mean, color='darkorange', lw=1.0, ls='-.', label='mean')\n",
    "text_style = dict(size=10, color='brown', verticalalignment='center', horizontalalignment='left')\n",
    "ax1.text(mean*0.85, y.max()*0.98, \"mean {}\".format(round(mean,2)), **text_style, rotation='vertical')\n",
    "\n",
    "plt.xlabel('delta m/z ppm')\n",
    "plt.ylabel('count')\n",
    "\n",
    "plt.xlim((-5,5))\n",
    "plt.ylim((0,400))\n",
    "\n",
    "# plt.title('delta between extracted and theoretical monoisotopic m/z ppm\\nexperiment {}'.format(EXPERIMENT_NAME))\n",
    "\n",
    "plt.show()"
   ]
  },
  {
   "cell_type": "markdown",
   "metadata": {},
   "source": [
    "#### MSFragger (identifications only; mass error for MBR is not reported)"
   ]
  },
  {
   "cell_type": "code",
   "execution_count": 19,
   "metadata": {},
   "outputs": [],
   "source": [
    "FRAGGER_RESULTS_DIR = '{}'.format(expanduser('~'))\n",
    "# FRAGGER_RESULTS_DIR = '{}/Downloads/experiments'.format(expanduser('~'))\n",
    "fragger_stats_df = pd.read_csv('{}/MSFragger-analysis-P3856/MSstats-P3856.csv'.format(FRAGGER_RESULTS_DIR), sep=',')"
   ]
  },
  {
   "cell_type": "code",
   "execution_count": 20,
   "metadata": {},
   "outputs": [],
   "source": [
    "fragger_stats_df = fragger_stats_df[fragger_stats_df.Intensity.notnull()]\n",
    "fragger_stats_df = fragger_stats_df[fragger_stats_df.Condition == 'YHE211']"
   ]
  },
  {
   "cell_type": "code",
   "execution_count": 21,
   "metadata": {},
   "outputs": [
    {
     "data": {
      "text/html": [
       "<div>\n",
       "<style scoped>\n",
       "    .dataframe tbody tr th:only-of-type {\n",
       "        vertical-align: middle;\n",
       "    }\n",
       "\n",
       "    .dataframe tbody tr th {\n",
       "        vertical-align: top;\n",
       "    }\n",
       "\n",
       "    .dataframe thead th {\n",
       "        text-align: right;\n",
       "    }\n",
       "</style>\n",
       "<table border=\"1\" class=\"dataframe\">\n",
       "  <thead>\n",
       "    <tr style=\"text-align: right;\">\n",
       "      <th></th>\n",
       "      <th>ProteinName</th>\n",
       "      <th>PeptideSequence</th>\n",
       "      <th>PrecursorCharge</th>\n",
       "      <th>FragmentIon</th>\n",
       "      <th>ProductCharge</th>\n",
       "      <th>IsotopeLabelType</th>\n",
       "      <th>Condition</th>\n",
       "      <th>BioReplicate</th>\n",
       "      <th>Run</th>\n",
       "      <th>Intensity</th>\n",
       "    </tr>\n",
       "  </thead>\n",
       "  <tbody>\n",
       "    <tr>\n",
       "      <th>762952</th>\n",
       "      <td>sp|Q9Y5K8|VATD_HUMAN</td>\n",
       "      <td>FTAGDFSTTVIQNVNK</td>\n",
       "      <td>2</td>\n",
       "      <td>NaN</td>\n",
       "      <td>NaN</td>\n",
       "      <td>L</td>\n",
       "      <td>YHE211</td>\n",
       "      <td>2</td>\n",
       "      <td>P3856_YHE211_2_Slot1-1_1_5105</td>\n",
       "      <td>15269.682</td>\n",
       "    </tr>\n",
       "    <tr>\n",
       "      <th>405207</th>\n",
       "      <td>sp|P62277|RS13_HUMAN</td>\n",
       "      <td>GLTPSQIGVLLR</td>\n",
       "      <td>2</td>\n",
       "      <td>NaN</td>\n",
       "      <td>NaN</td>\n",
       "      <td>L</td>\n",
       "      <td>YHE211</td>\n",
       "      <td>7</td>\n",
       "      <td>P3856_YHE211_7_Slot1-1_1_5110</td>\n",
       "      <td>14592.588</td>\n",
       "    </tr>\n",
       "    <tr>\n",
       "      <th>655588</th>\n",
       "      <td>sp|Q9BRP1|PDD2L_HUMAN</td>\n",
       "      <td>n[42.0106]AAVLKPVLLGLR</td>\n",
       "      <td>2</td>\n",
       "      <td>NaN</td>\n",
       "      <td>NaN</td>\n",
       "      <td>L</td>\n",
       "      <td>YHE211</td>\n",
       "      <td>8</td>\n",
       "      <td>P3856_YHE211_8_Slot1-1_1_5111</td>\n",
       "      <td>27133.123</td>\n",
       "    </tr>\n",
       "    <tr>\n",
       "      <th>686185</th>\n",
       "      <td>sp|Q9H9J2|RM44_HUMAN</td>\n",
       "      <td>NLVDFLTGEEVVC[57.0215]HVAR</td>\n",
       "      <td>2</td>\n",
       "      <td>NaN</td>\n",
       "      <td>NaN</td>\n",
       "      <td>L</td>\n",
       "      <td>YHE211</td>\n",
       "      <td>5</td>\n",
       "      <td>P3856_YHE211_5_Slot1-1_1_5108</td>\n",
       "      <td>45540.453</td>\n",
       "    </tr>\n",
       "  </tbody>\n",
       "</table>\n",
       "</div>"
      ],
      "text/plain": [
       "                  ProteinName             PeptideSequence  PrecursorCharge  \\\n",
       "762952   sp|Q9Y5K8|VATD_HUMAN            FTAGDFSTTVIQNVNK                2   \n",
       "405207   sp|P62277|RS13_HUMAN                GLTPSQIGVLLR                2   \n",
       "655588  sp|Q9BRP1|PDD2L_HUMAN      n[42.0106]AAVLKPVLLGLR                2   \n",
       "686185   sp|Q9H9J2|RM44_HUMAN  NLVDFLTGEEVVC[57.0215]HVAR                2   \n",
       "\n",
       "        FragmentIon  ProductCharge IsotopeLabelType Condition  BioReplicate  \\\n",
       "762952          NaN            NaN                L    YHE211             2   \n",
       "405207          NaN            NaN                L    YHE211             7   \n",
       "655588          NaN            NaN                L    YHE211             8   \n",
       "686185          NaN            NaN                L    YHE211             5   \n",
       "\n",
       "                                  Run  Intensity  \n",
       "762952  P3856_YHE211_2_Slot1-1_1_5105  15269.682  \n",
       "405207  P3856_YHE211_7_Slot1-1_1_5110  14592.588  \n",
       "655588  P3856_YHE211_8_Slot1-1_1_5111  27133.123  \n",
       "686185  P3856_YHE211_5_Slot1-1_1_5108  45540.453  "
      ]
     },
     "execution_count": 21,
     "metadata": {},
     "output_type": "execute_result"
    }
   ],
   "source": [
    "fragger_stats_df.sample(n=4)"
   ]
  },
  {
   "cell_type": "code",
   "execution_count": 23,
   "metadata": {},
   "outputs": [],
   "source": [
    "FRAGGER_RESULTS_DIR = '{}/MSFragger-analysis-P3856/with-MBR/P3856-results'.format(expanduser('~'))\n",
    "dir_l = glob.glob('{}/YHE211_*'.format(FRAGGER_RESULTS_DIR))\n",
    "df_l = []\n",
    "for f in dir_l:\n",
    "    df = pd.read_csv('{}/psm.tsv'.format(f), sep='\\\\t', engine='python')\n",
    "    df_l.append(df)\n",
    "fragger_mass_df = pd.concat(df_l, axis=0, sort=False, ignore_index=True)"
   ]
  },
  {
   "cell_type": "code",
   "execution_count": 24,
   "metadata": {},
   "outputs": [
    {
     "data": {
      "text/plain": [
       "Index(['Spectrum', 'Spectrum File', 'Peptide', 'Modified Peptide',\n",
       "       'Peptide Length', 'Charge', 'Retention', 'Observed Mass',\n",
       "       'Calibrated Observed Mass', 'Observed M/Z', 'Calibrated Observed M/Z',\n",
       "       'Calculated Peptide Mass', 'Calculated M/Z', 'Delta Mass',\n",
       "       'Expectation', 'Hyperscore', 'Nextscore', 'PeptideProphet Probability',\n",
       "       'Number of Enzymatic Termini', 'Number of Missed Cleavages',\n",
       "       'Intensity', 'Ion Mobility', 'Assigned Modifications',\n",
       "       'Observed Modifications', 'Is Unique', 'Protein', 'Protein ID',\n",
       "       'Entry Name', 'Gene', 'Protein Description', 'Mapped Genes',\n",
       "       'Mapped Proteins'],\n",
       "      dtype='object')"
      ]
     },
     "execution_count": 24,
     "metadata": {},
     "output_type": "execute_result"
    }
   ],
   "source": [
    "fragger_mass_df.columns"
   ]
  },
  {
   "cell_type": "code",
   "execution_count": 25,
   "metadata": {},
   "outputs": [],
   "source": [
    "fragger_mass_df['Run'] = fragger_mass_df.apply(lambda row: row['Spectrum'].split('.')[0], axis=1)\n",
    "fragger_mass_df['PeptideSequence'] = fragger_mass_df.apply(lambda row: row['Peptide'] if str(row['Modified Peptide']) == 'nan' else row['Modified Peptide'], axis=1)\n",
    "fragger_mass_df.rename({'Charge':'PrecursorCharge'}, axis=1, inplace=True)"
   ]
  },
  {
   "cell_type": "code",
   "execution_count": 26,
   "metadata": {},
   "outputs": [
    {
     "data": {
      "text/html": [
       "<div>\n",
       "<style scoped>\n",
       "    .dataframe tbody tr th:only-of-type {\n",
       "        vertical-align: middle;\n",
       "    }\n",
       "\n",
       "    .dataframe tbody tr th {\n",
       "        vertical-align: top;\n",
       "    }\n",
       "\n",
       "    .dataframe thead th {\n",
       "        text-align: right;\n",
       "    }\n",
       "</style>\n",
       "<table border=\"1\" class=\"dataframe\">\n",
       "  <thead>\n",
       "    <tr style=\"text-align: right;\">\n",
       "      <th></th>\n",
       "      <th>Spectrum</th>\n",
       "      <th>Spectrum File</th>\n",
       "      <th>Peptide</th>\n",
       "      <th>Modified Peptide</th>\n",
       "      <th>Peptide Length</th>\n",
       "      <th>PrecursorCharge</th>\n",
       "      <th>Retention</th>\n",
       "      <th>Observed Mass</th>\n",
       "      <th>Calibrated Observed Mass</th>\n",
       "      <th>Observed M/Z</th>\n",
       "      <th>...</th>\n",
       "      <th>Is Unique</th>\n",
       "      <th>Protein</th>\n",
       "      <th>Protein ID</th>\n",
       "      <th>Entry Name</th>\n",
       "      <th>Gene</th>\n",
       "      <th>Protein Description</th>\n",
       "      <th>Mapped Genes</th>\n",
       "      <th>Mapped Proteins</th>\n",
       "      <th>Run</th>\n",
       "      <th>PeptideSequence</th>\n",
       "    </tr>\n",
       "  </thead>\n",
       "  <tbody>\n",
       "    <tr>\n",
       "      <th>0</th>\n",
       "      <td>P3856_YHE211_9_Slot1-1_1_5112.00396.00396.2</td>\n",
       "      <td>D:\\P3856-results\\YHE211_9\\interact.pep.xml</td>\n",
       "      <td>RAASNMALGK</td>\n",
       "      <td>RAASNM[147]ALGK</td>\n",
       "      <td>10</td>\n",
       "      <td>2</td>\n",
       "      <td>197.146</td>\n",
       "      <td>1033.5233</td>\n",
       "      <td>1033.5247</td>\n",
       "      <td>517.7689</td>\n",
       "      <td>...</td>\n",
       "      <td>True</td>\n",
       "      <td>sp|P53041|PPP5_HUMAN</td>\n",
       "      <td>P53041</td>\n",
       "      <td>PPP5_HUMAN</td>\n",
       "      <td>PPP5C</td>\n",
       "      <td>Serine/threonine-protein phosphatase 5</td>\n",
       "      <td>None</td>\n",
       "      <td>None</td>\n",
       "      <td>P3856_YHE211_9_Slot1-1_1_5112</td>\n",
       "      <td>RAASNM[147]ALGK</td>\n",
       "    </tr>\n",
       "    <tr>\n",
       "      <th>1</th>\n",
       "      <td>P3856_YHE211_9_Slot1-1_1_5112.00571.00571.2</td>\n",
       "      <td>D:\\P3856-results\\YHE211_9\\interact.pep.xml</td>\n",
       "      <td>RNEDEDSPNK</td>\n",
       "      <td>NaN</td>\n",
       "      <td>10</td>\n",
       "      <td>2</td>\n",
       "      <td>296.900</td>\n",
       "      <td>1202.5103</td>\n",
       "      <td>1202.5142</td>\n",
       "      <td>602.2624</td>\n",
       "      <td>...</td>\n",
       "      <td>True</td>\n",
       "      <td>sp|P62899|RL31_HUMAN</td>\n",
       "      <td>P62899</td>\n",
       "      <td>RL31_HUMAN</td>\n",
       "      <td>RPL31</td>\n",
       "      <td>60S ribosomal protein L31</td>\n",
       "      <td>None</td>\n",
       "      <td>None</td>\n",
       "      <td>P3856_YHE211_9_Slot1-1_1_5112</td>\n",
       "      <td>RNEDEDSPNK</td>\n",
       "    </tr>\n",
       "    <tr>\n",
       "      <th>2</th>\n",
       "      <td>P3856_YHE211_9_Slot1-1_1_5112.00575.00575.2</td>\n",
       "      <td>D:\\P3856-results\\YHE211_9\\interact.pep.xml</td>\n",
       "      <td>RNEDEDSPNK</td>\n",
       "      <td>NaN</td>\n",
       "      <td>10</td>\n",
       "      <td>2</td>\n",
       "      <td>299.000</td>\n",
       "      <td>1202.5160</td>\n",
       "      <td>1202.5198</td>\n",
       "      <td>602.2653</td>\n",
       "      <td>...</td>\n",
       "      <td>True</td>\n",
       "      <td>sp|P62899|RL31_HUMAN</td>\n",
       "      <td>P62899</td>\n",
       "      <td>RL31_HUMAN</td>\n",
       "      <td>RPL31</td>\n",
       "      <td>60S ribosomal protein L31</td>\n",
       "      <td>None</td>\n",
       "      <td>None</td>\n",
       "      <td>P3856_YHE211_9_Slot1-1_1_5112</td>\n",
       "      <td>RNEDEDSPNK</td>\n",
       "    </tr>\n",
       "    <tr>\n",
       "      <th>3</th>\n",
       "      <td>P3856_YHE211_9_Slot1-1_1_5112.00579.00579.2</td>\n",
       "      <td>D:\\P3856-results\\YHE211_9\\interact.pep.xml</td>\n",
       "      <td>RNEDEDSPNK</td>\n",
       "      <td>NaN</td>\n",
       "      <td>10</td>\n",
       "      <td>2</td>\n",
       "      <td>301.101</td>\n",
       "      <td>1202.5133</td>\n",
       "      <td>1202.5172</td>\n",
       "      <td>602.2639</td>\n",
       "      <td>...</td>\n",
       "      <td>True</td>\n",
       "      <td>sp|P62899|RL31_HUMAN</td>\n",
       "      <td>P62899</td>\n",
       "      <td>RL31_HUMAN</td>\n",
       "      <td>RPL31</td>\n",
       "      <td>60S ribosomal protein L31</td>\n",
       "      <td>None</td>\n",
       "      <td>None</td>\n",
       "      <td>P3856_YHE211_9_Slot1-1_1_5112</td>\n",
       "      <td>RNEDEDSPNK</td>\n",
       "    </tr>\n",
       "    <tr>\n",
       "      <th>4</th>\n",
       "      <td>P3856_YHE211_9_Slot1-1_1_5112.00588.00588.2</td>\n",
       "      <td>D:\\P3856-results\\YHE211_9\\interact.pep.xml</td>\n",
       "      <td>RNEDEDSPNK</td>\n",
       "      <td>NaN</td>\n",
       "      <td>10</td>\n",
       "      <td>2</td>\n",
       "      <td>305.302</td>\n",
       "      <td>1202.5134</td>\n",
       "      <td>1202.5173</td>\n",
       "      <td>602.2640</td>\n",
       "      <td>...</td>\n",
       "      <td>True</td>\n",
       "      <td>sp|P62899|RL31_HUMAN</td>\n",
       "      <td>P62899</td>\n",
       "      <td>RL31_HUMAN</td>\n",
       "      <td>RPL31</td>\n",
       "      <td>60S ribosomal protein L31</td>\n",
       "      <td>None</td>\n",
       "      <td>None</td>\n",
       "      <td>P3856_YHE211_9_Slot1-1_1_5112</td>\n",
       "      <td>RNEDEDSPNK</td>\n",
       "    </tr>\n",
       "  </tbody>\n",
       "</table>\n",
       "<p>5 rows × 34 columns</p>\n",
       "</div>"
      ],
      "text/plain": [
       "                                      Spectrum  \\\n",
       "0  P3856_YHE211_9_Slot1-1_1_5112.00396.00396.2   \n",
       "1  P3856_YHE211_9_Slot1-1_1_5112.00571.00571.2   \n",
       "2  P3856_YHE211_9_Slot1-1_1_5112.00575.00575.2   \n",
       "3  P3856_YHE211_9_Slot1-1_1_5112.00579.00579.2   \n",
       "4  P3856_YHE211_9_Slot1-1_1_5112.00588.00588.2   \n",
       "\n",
       "                                Spectrum File     Peptide Modified Peptide  \\\n",
       "0  D:\\P3856-results\\YHE211_9\\interact.pep.xml  RAASNMALGK  RAASNM[147]ALGK   \n",
       "1  D:\\P3856-results\\YHE211_9\\interact.pep.xml  RNEDEDSPNK              NaN   \n",
       "2  D:\\P3856-results\\YHE211_9\\interact.pep.xml  RNEDEDSPNK              NaN   \n",
       "3  D:\\P3856-results\\YHE211_9\\interact.pep.xml  RNEDEDSPNK              NaN   \n",
       "4  D:\\P3856-results\\YHE211_9\\interact.pep.xml  RNEDEDSPNK              NaN   \n",
       "\n",
       "   Peptide Length  PrecursorCharge  Retention  Observed Mass  \\\n",
       "0              10                2    197.146      1033.5233   \n",
       "1              10                2    296.900      1202.5103   \n",
       "2              10                2    299.000      1202.5160   \n",
       "3              10                2    301.101      1202.5133   \n",
       "4              10                2    305.302      1202.5134   \n",
       "\n",
       "   Calibrated Observed Mass  Observed M/Z  ...  Is Unique  \\\n",
       "0                 1033.5247      517.7689  ...       True   \n",
       "1                 1202.5142      602.2624  ...       True   \n",
       "2                 1202.5198      602.2653  ...       True   \n",
       "3                 1202.5172      602.2639  ...       True   \n",
       "4                 1202.5173      602.2640  ...       True   \n",
       "\n",
       "                Protein  Protein ID  Entry Name   Gene  \\\n",
       "0  sp|P53041|PPP5_HUMAN      P53041  PPP5_HUMAN  PPP5C   \n",
       "1  sp|P62899|RL31_HUMAN      P62899  RL31_HUMAN  RPL31   \n",
       "2  sp|P62899|RL31_HUMAN      P62899  RL31_HUMAN  RPL31   \n",
       "3  sp|P62899|RL31_HUMAN      P62899  RL31_HUMAN  RPL31   \n",
       "4  sp|P62899|RL31_HUMAN      P62899  RL31_HUMAN  RPL31   \n",
       "\n",
       "                      Protein Description  Mapped Genes  Mapped Proteins  \\\n",
       "0  Serine/threonine-protein phosphatase 5          None             None   \n",
       "1               60S ribosomal protein L31          None             None   \n",
       "2               60S ribosomal protein L31          None             None   \n",
       "3               60S ribosomal protein L31          None             None   \n",
       "4               60S ribosomal protein L31          None             None   \n",
       "\n",
       "                             Run  PeptideSequence  \n",
       "0  P3856_YHE211_9_Slot1-1_1_5112  RAASNM[147]ALGK  \n",
       "1  P3856_YHE211_9_Slot1-1_1_5112       RNEDEDSPNK  \n",
       "2  P3856_YHE211_9_Slot1-1_1_5112       RNEDEDSPNK  \n",
       "3  P3856_YHE211_9_Slot1-1_1_5112       RNEDEDSPNK  \n",
       "4  P3856_YHE211_9_Slot1-1_1_5112       RNEDEDSPNK  \n",
       "\n",
       "[5 rows x 34 columns]"
      ]
     },
     "execution_count": 26,
     "metadata": {},
     "output_type": "execute_result"
    }
   ],
   "source": [
    "fragger_mass_df.head()"
   ]
  },
  {
   "cell_type": "code",
   "execution_count": 27,
   "metadata": {},
   "outputs": [],
   "source": [
    "fragger_mass_df['Delta Mass ppm'] = (fragger_mass_df['Calibrated Observed Mass'] - fragger_mass_df['Calculated Peptide Mass']) / fragger_mass_df['Calculated Peptide Mass'] * 1e6"
   ]
  },
  {
   "cell_type": "code",
   "execution_count": 29,
   "metadata": {},
   "outputs": [
    {
     "data": {
      "text/plain": [
       "Index(['Spectrum', 'Spectrum File', 'Peptide', 'Modified Peptide',\n",
       "       'Peptide Length', 'PrecursorCharge', 'Retention', 'Observed Mass',\n",
       "       'Calibrated Observed Mass', 'Observed M/Z', 'Calibrated Observed M/Z',\n",
       "       'Calculated Peptide Mass', 'Calculated M/Z', 'Delta Mass',\n",
       "       'Expectation', 'Hyperscore', 'Nextscore', 'PeptideProphet Probability',\n",
       "       'Number of Enzymatic Termini', 'Number of Missed Cleavages',\n",
       "       'Intensity', 'Ion Mobility', 'Assigned Modifications',\n",
       "       'Observed Modifications', 'Is Unique', 'Protein', 'Protein ID',\n",
       "       'Entry Name', 'Gene', 'Protein Description', 'Mapped Genes',\n",
       "       'Mapped Proteins', 'Run', 'PeptideSequence', 'Delta Mass ppm'],\n",
       "      dtype='object')"
      ]
     },
     "execution_count": 29,
     "metadata": {},
     "output_type": "execute_result"
    }
   ],
   "source": [
    "fragger_mass_df.columns"
   ]
  },
  {
   "cell_type": "code",
   "execution_count": 30,
   "metadata": {},
   "outputs": [],
   "source": [
    "fragger_sequences_l = []\n",
    "for group_name,group_df in fragger_mass_df.groupby(['PeptideSequence','PrecursorCharge','Run'], as_index=False):\n",
    "    sorted_df = group_df.sort_values(by=['Intensity'], ascending=False, inplace=False)\n",
    "    mass_error_ppm = sorted_df.iloc[0]['Delta Mass ppm']\n",
    "    fragger_sequences_l.append({'PeptideSequence':group_name[0], 'PrecursorCharge':group_name[1], 'Run':group_name[2], 'mass_error_ppm':mass_error_ppm})\n",
    "fragger_sequences_df = pd.DataFrame(fragger_sequences_l)"
   ]
  },
  {
   "cell_type": "code",
   "execution_count": 41,
   "metadata": {},
   "outputs": [
    {
     "data": {
      "text/plain": [
       "(154800, 125136)"
      ]
     },
     "execution_count": 41,
     "metadata": {},
     "output_type": "execute_result"
    }
   ],
   "source": [
    "len(fragger_stats_df), len(fragger_sequences_df)"
   ]
  },
  {
   "cell_type": "code",
   "execution_count": 32,
   "metadata": {},
   "outputs": [],
   "source": [
    "fragger_results_df = pd.merge(fragger_stats_df, fragger_sequences_df, how='inner', left_on=['Run','PeptideSequence','PrecursorCharge'], right_on=['Run','PeptideSequence','PrecursorCharge'])"
   ]
  },
  {
   "cell_type": "code",
   "execution_count": 33,
   "metadata": {},
   "outputs": [
    {
     "data": {
      "text/html": [
       "<div>\n",
       "<style scoped>\n",
       "    .dataframe tbody tr th:only-of-type {\n",
       "        vertical-align: middle;\n",
       "    }\n",
       "\n",
       "    .dataframe tbody tr th {\n",
       "        vertical-align: top;\n",
       "    }\n",
       "\n",
       "    .dataframe thead th {\n",
       "        text-align: right;\n",
       "    }\n",
       "</style>\n",
       "<table border=\"1\" class=\"dataframe\">\n",
       "  <thead>\n",
       "    <tr style=\"text-align: right;\">\n",
       "      <th></th>\n",
       "      <th>ProteinName</th>\n",
       "      <th>PeptideSequence</th>\n",
       "      <th>PrecursorCharge</th>\n",
       "      <th>FragmentIon</th>\n",
       "      <th>ProductCharge</th>\n",
       "      <th>IsotopeLabelType</th>\n",
       "      <th>Condition</th>\n",
       "      <th>BioReplicate</th>\n",
       "      <th>Run</th>\n",
       "      <th>Intensity</th>\n",
       "      <th>mass_error_ppm</th>\n",
       "    </tr>\n",
       "  </thead>\n",
       "  <tbody>\n",
       "    <tr>\n",
       "      <th>0</th>\n",
       "      <td>sp|A0A0B4J2D5|GAL3B_HUMAN</td>\n",
       "      <td>GVEVTVGHEQEEGGK</td>\n",
       "      <td>2</td>\n",
       "      <td>NaN</td>\n",
       "      <td>NaN</td>\n",
       "      <td>L</td>\n",
       "      <td>YHE211</td>\n",
       "      <td>10</td>\n",
       "      <td>P3856_YHE211_10_Slot1-1_1_5113</td>\n",
       "      <td>16679.225</td>\n",
       "      <td>-0.579250</td>\n",
       "    </tr>\n",
       "    <tr>\n",
       "      <th>1</th>\n",
       "      <td>sp|A0A0B4J2D5|GAL3B_HUMAN</td>\n",
       "      <td>GVEVTVGHEQEEGGK</td>\n",
       "      <td>2</td>\n",
       "      <td>NaN</td>\n",
       "      <td>NaN</td>\n",
       "      <td>L</td>\n",
       "      <td>YHE211</td>\n",
       "      <td>1</td>\n",
       "      <td>P3856_YHE211_1_Slot1-1_1_5104</td>\n",
       "      <td>17801.191</td>\n",
       "      <td>-2.381363</td>\n",
       "    </tr>\n",
       "    <tr>\n",
       "      <th>2</th>\n",
       "      <td>sp|A0A0B4J2D5|GAL3B_HUMAN</td>\n",
       "      <td>GVEVTVGHEQEEGGK</td>\n",
       "      <td>2</td>\n",
       "      <td>NaN</td>\n",
       "      <td>NaN</td>\n",
       "      <td>L</td>\n",
       "      <td>YHE211</td>\n",
       "      <td>2</td>\n",
       "      <td>P3856_YHE211_2_Slot1-1_1_5105</td>\n",
       "      <td>17984.355</td>\n",
       "      <td>0.514889</td>\n",
       "    </tr>\n",
       "    <tr>\n",
       "      <th>3</th>\n",
       "      <td>sp|A0A0B4J2D5|GAL3B_HUMAN</td>\n",
       "      <td>GVEVTVGHEQEEGGK</td>\n",
       "      <td>2</td>\n",
       "      <td>NaN</td>\n",
       "      <td>NaN</td>\n",
       "      <td>L</td>\n",
       "      <td>YHE211</td>\n",
       "      <td>3</td>\n",
       "      <td>P3856_YHE211_3_Slot1-1_1_5106</td>\n",
       "      <td>14508.194</td>\n",
       "      <td>0.450528</td>\n",
       "    </tr>\n",
       "    <tr>\n",
       "      <th>4</th>\n",
       "      <td>sp|A0A0B4J2D5|GAL3B_HUMAN</td>\n",
       "      <td>GVEVTVGHEQEEGGK</td>\n",
       "      <td>2</td>\n",
       "      <td>NaN</td>\n",
       "      <td>NaN</td>\n",
       "      <td>L</td>\n",
       "      <td>YHE211</td>\n",
       "      <td>4</td>\n",
       "      <td>P3856_YHE211_4_Slot1-1_1_5107</td>\n",
       "      <td>21444.799</td>\n",
       "      <td>1.094140</td>\n",
       "    </tr>\n",
       "  </tbody>\n",
       "</table>\n",
       "</div>"
      ],
      "text/plain": [
       "                 ProteinName  PeptideSequence  PrecursorCharge  FragmentIon  \\\n",
       "0  sp|A0A0B4J2D5|GAL3B_HUMAN  GVEVTVGHEQEEGGK                2          NaN   \n",
       "1  sp|A0A0B4J2D5|GAL3B_HUMAN  GVEVTVGHEQEEGGK                2          NaN   \n",
       "2  sp|A0A0B4J2D5|GAL3B_HUMAN  GVEVTVGHEQEEGGK                2          NaN   \n",
       "3  sp|A0A0B4J2D5|GAL3B_HUMAN  GVEVTVGHEQEEGGK                2          NaN   \n",
       "4  sp|A0A0B4J2D5|GAL3B_HUMAN  GVEVTVGHEQEEGGK                2          NaN   \n",
       "\n",
       "   ProductCharge IsotopeLabelType Condition  BioReplicate  \\\n",
       "0            NaN                L    YHE211            10   \n",
       "1            NaN                L    YHE211             1   \n",
       "2            NaN                L    YHE211             2   \n",
       "3            NaN                L    YHE211             3   \n",
       "4            NaN                L    YHE211             4   \n",
       "\n",
       "                              Run  Intensity  mass_error_ppm  \n",
       "0  P3856_YHE211_10_Slot1-1_1_5113  16679.225       -0.579250  \n",
       "1   P3856_YHE211_1_Slot1-1_1_5104  17801.191       -2.381363  \n",
       "2   P3856_YHE211_2_Slot1-1_1_5105  17984.355        0.514889  \n",
       "3   P3856_YHE211_3_Slot1-1_1_5106  14508.194        0.450528  \n",
       "4   P3856_YHE211_4_Slot1-1_1_5107  21444.799        1.094140  "
      ]
     },
     "execution_count": 33,
     "metadata": {},
     "output_type": "execute_result"
    }
   ],
   "source": [
    "fragger_results_df.head()"
   ]
  },
  {
   "cell_type": "code",
   "execution_count": 34,
   "metadata": {},
   "outputs": [],
   "source": [
    "fragger_unique_peptide_key = ['PeptideSequence','PrecursorCharge']"
   ]
  },
  {
   "cell_type": "code",
   "execution_count": 35,
   "metadata": {},
   "outputs": [],
   "source": [
    "# summarise the extractions\n",
    "extractions_l = []\n",
    "for group_name,group_df in fragger_results_df.groupby(fragger_unique_peptide_key, as_index=False):\n",
    "    number_of_runs = len(group_df['Run'].unique())\n",
    "    mean_mass_error_ppm = group_df.mass_error_ppm.mean()\n",
    "    extractions_l.append({'sequence':group_name[0],'charge':group_name[1],'mean_mass_error_ppm':mean_mass_error_ppm,'number_of_runs':number_of_runs})\n",
    "fragger_extractions_df = pd.DataFrame(extractions_l)"
   ]
  },
  {
   "cell_type": "code",
   "execution_count": 36,
   "metadata": {},
   "outputs": [
    {
     "data": {
      "text/html": [
       "<div>\n",
       "<style scoped>\n",
       "    .dataframe tbody tr th:only-of-type {\n",
       "        vertical-align: middle;\n",
       "    }\n",
       "\n",
       "    .dataframe tbody tr th {\n",
       "        vertical-align: top;\n",
       "    }\n",
       "\n",
       "    .dataframe thead th {\n",
       "        text-align: right;\n",
       "    }\n",
       "</style>\n",
       "<table border=\"1\" class=\"dataframe\">\n",
       "  <thead>\n",
       "    <tr style=\"text-align: right;\">\n",
       "      <th></th>\n",
       "      <th>sequence</th>\n",
       "      <th>charge</th>\n",
       "      <th>mean_mass_error_ppm</th>\n",
       "      <th>number_of_runs</th>\n",
       "    </tr>\n",
       "  </thead>\n",
       "  <tbody>\n",
       "    <tr>\n",
       "      <th>0</th>\n",
       "      <td>AAAAAWEEPSSGNGTAR</td>\n",
       "      <td>2</td>\n",
       "      <td>-0.349597</td>\n",
       "      <td>4</td>\n",
       "    </tr>\n",
       "    <tr>\n",
       "      <th>1</th>\n",
       "      <td>AAAEELQEAAGAGDGATENGVQPPK</td>\n",
       "      <td>2</td>\n",
       "      <td>-2.142755</td>\n",
       "      <td>1</td>\n",
       "    </tr>\n",
       "    <tr>\n",
       "      <th>2</th>\n",
       "      <td>AAAEGVANLHLDEATGEMVSK</td>\n",
       "      <td>2</td>\n",
       "      <td>-0.544504</td>\n",
       "      <td>10</td>\n",
       "    </tr>\n",
       "    <tr>\n",
       "      <th>3</th>\n",
       "      <td>AAAEIYEEFLAAFEGSDGNK</td>\n",
       "      <td>2</td>\n",
       "      <td>51.807286</td>\n",
       "      <td>9</td>\n",
       "    </tr>\n",
       "    <tr>\n",
       "      <th>4</th>\n",
       "      <td>AAAEIYEEFLAAFEGSDGNK</td>\n",
       "      <td>3</td>\n",
       "      <td>-0.526624</td>\n",
       "      <td>9</td>\n",
       "    </tr>\n",
       "    <tr>\n",
       "      <th>...</th>\n",
       "      <td>...</td>\n",
       "      <td>...</td>\n",
       "      <td>...</td>\n",
       "      <td>...</td>\n",
       "    </tr>\n",
       "    <tr>\n",
       "      <th>14610</th>\n",
       "      <td>YYTFNGPNYNENETIR</td>\n",
       "      <td>2</td>\n",
       "      <td>-0.310951</td>\n",
       "      <td>10</td>\n",
       "    </tr>\n",
       "    <tr>\n",
       "      <th>14611</th>\n",
       "      <td>YYTGNYDQYVK</td>\n",
       "      <td>2</td>\n",
       "      <td>-1.911336</td>\n",
       "      <td>1</td>\n",
       "    </tr>\n",
       "    <tr>\n",
       "      <th>14612</th>\n",
       "      <td>YYTSASGDEMVSLK</td>\n",
       "      <td>2</td>\n",
       "      <td>7.033633</td>\n",
       "      <td>10</td>\n",
       "    </tr>\n",
       "    <tr>\n",
       "      <th>14613</th>\n",
       "      <td>YYVPEDPSQDADYDVSAK</td>\n",
       "      <td>2</td>\n",
       "      <td>1.188810</td>\n",
       "      <td>2</td>\n",
       "    </tr>\n",
       "    <tr>\n",
       "      <th>14614</th>\n",
       "      <td>YYVTIIDAPGHR</td>\n",
       "      <td>2</td>\n",
       "      <td>142.093905</td>\n",
       "      <td>10</td>\n",
       "    </tr>\n",
       "  </tbody>\n",
       "</table>\n",
       "<p>14615 rows × 4 columns</p>\n",
       "</div>"
      ],
      "text/plain": [
       "                        sequence  charge  mean_mass_error_ppm  number_of_runs\n",
       "0              AAAAAWEEPSSGNGTAR       2            -0.349597               4\n",
       "1      AAAEELQEAAGAGDGATENGVQPPK       2            -2.142755               1\n",
       "2          AAAEGVANLHLDEATGEMVSK       2            -0.544504              10\n",
       "3           AAAEIYEEFLAAFEGSDGNK       2            51.807286               9\n",
       "4           AAAEIYEEFLAAFEGSDGNK       3            -0.526624               9\n",
       "...                          ...     ...                  ...             ...\n",
       "14610           YYTFNGPNYNENETIR       2            -0.310951              10\n",
       "14611                YYTGNYDQYVK       2            -1.911336               1\n",
       "14612             YYTSASGDEMVSLK       2             7.033633              10\n",
       "14613         YYVPEDPSQDADYDVSAK       2             1.188810               2\n",
       "14614               YYVTIIDAPGHR       2           142.093905              10\n",
       "\n",
       "[14615 rows x 4 columns]"
      ]
     },
     "execution_count": 36,
     "metadata": {},
     "output_type": "execute_result"
    }
   ],
   "source": [
    "fragger_extractions_df"
   ]
  },
  {
   "cell_type": "code",
   "execution_count": 37,
   "metadata": {},
   "outputs": [],
   "source": [
    "fragger_trimmed_df = fragger_extractions_df[np.abs(fragger_extractions_df.mean_mass_error_ppm) <= 5]"
   ]
  },
  {
   "cell_type": "code",
   "execution_count": 39,
   "metadata": {
    "scrolled": false
   },
   "outputs": [
    {
     "data": {
      "image/png": "[encoded data removed]",
      "text/plain": [
       "<Figure size 576x576 with 1 Axes>"
      ]
     },
     "metadata": {
      "needs_background": "light"
     },
     "output_type": "display_data"
    }
   ],
   "source": [
    "f, ax1 = plt.subplots()\n",
    "f.set_figheight(8)\n",
    "f.set_figwidth(8)\n",
    "\n",
    "plt.margins(0.06)\n",
    "plt.title('')\n",
    "\n",
    "bins = 300\n",
    "values = fragger_trimmed_df.mean_mass_error_ppm\n",
    "y, x, _ = ax1.hist(values, bins=bins)\n",
    "\n",
    "mean = np.mean(values)\n",
    "ax1.axvline(mean, color='darkorange', lw=1.0, ls='-.', label='mean')\n",
    "text_style = dict(size=10, color='brown', verticalalignment='center', horizontalalignment='left')\n",
    "ax1.text(mean*0.85, y.max()*0.98, \"mean {}\".format(round(mean,2)), **text_style, rotation='vertical')\n",
    "\n",
    "plt.xlabel('delta m/z ppm')\n",
    "plt.ylabel('count')\n",
    "\n",
    "plt.xlim((-5,5))\n",
    "plt.ylim((0,400))\n",
    "\n",
    "# plt.title('delta between extracted and theoretical monoisotopic m/z ppm\\nexperiment {}'.format(EXPERIMENT_NAME))\n",
    "\n",
    "plt.show()"
   ]
  }
 ],
 "metadata": {
  "kernelspec": {
   "display_name": "Python 3",
   "language": "python",
   "name": "python3"
  },
  "language_info": {
   "codemirror_mode": {
    "name": "ipython",
    "version": 3
   },
   "file_extension": ".py",
   "mimetype": "text/x-python",
   "name": "python",
   "nbconvert_exporter": "python",
   "pygments_lexer": "ipython3",
   "version": "3.8.5"
  }
 },
 "nbformat": 4,
 "nbformat_minor": 4
}
