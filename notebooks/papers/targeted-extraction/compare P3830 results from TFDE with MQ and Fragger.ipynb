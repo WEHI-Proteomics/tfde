{
 "cells": [
  {
   "cell_type": "code",
   "execution_count": 1,
   "metadata": {},
   "outputs": [],
   "source": [
    "import pandas as pd\n",
    "import numpy as np\n",
    "import sqlite3\n",
    "import json\n",
    "import matplotlib.pyplot as plt\n",
    "import seaborn as sns\n",
    "from cmcrameri import cm\n",
    "from os.path import expanduser\n",
    "%matplotlib inline"
   ]
  },
  {
   "cell_type": "code",
   "execution_count": 2,
   "metadata": {},
   "outputs": [],
   "source": [
    "EXPERIMENT_NAME = 'P3830'"
   ]
  },
  {
   "cell_type": "markdown",
   "metadata": {},
   "source": [
    "#### prepare the TFD/E results"
   ]
  },
  {
   "cell_type": "code",
   "execution_count": 3,
   "metadata": {},
   "outputs": [],
   "source": [
    "# load the results\n",
    "# EXPERIMENT_DIR = '/media/data-4t-a/results-P3830_YUPS1/2021-10-10-01-59-26'\n",
    "EXPERIMENT_DIR = '{}/Downloads/experiments/results-P3830_YUPS1/2021-10-10-01-59-26'.format(expanduser('~'))\n",
    "\n",
    "RESULTS_DB_NAME = '{}/summarised-results/results.sqlite'.format(EXPERIMENT_DIR)\n",
    "db_conn = sqlite3.connect(RESULTS_DB_NAME)\n",
    "results_yups1_df = pd.read_sql_query(\"select * from sequences\", db_conn)\n",
    "db_conn.close()"
   ]
  },
  {
   "cell_type": "code",
   "execution_count": 4,
   "metadata": {},
   "outputs": [],
   "source": [
    "# load the results\n",
    "# EXPERIMENT_DIR = '/media/data-4t-a/results-P3830_YUPS2/2021-10-11-12-21-21'\n",
    "EXPERIMENT_DIR = '{}/Downloads/experiments/results-P3830_YUPS2/2021-10-11-12-21-21'.format(expanduser('~'))\n",
    "\n",
    "RESULTS_DB_NAME = '{}/summarised-results/results.sqlite'.format(EXPERIMENT_DIR)\n",
    "db_conn = sqlite3.connect(RESULTS_DB_NAME)\n",
    "results_yups2_df = pd.read_sql_query(\"select * from sequences\", db_conn)\n",
    "db_conn.close()"
   ]
  },
  {
   "cell_type": "code",
   "execution_count": 5,
   "metadata": {},
   "outputs": [],
   "source": [
    "results_df = pd.concat([results_yups1_df,results_yups2_df], axis=0, sort=False, ignore_index=True)"
   ]
  },
  {
   "cell_type": "code",
   "execution_count": 6,
   "metadata": {},
   "outputs": [
    {
     "data": {
      "text/plain": [
       "24247"
      ]
     },
     "execution_count": 6,
     "metadata": {},
     "output_type": "execute_result"
    }
   ],
   "source": [
    "len(results_df)"
   ]
  },
  {
   "cell_type": "code",
   "execution_count": 7,
   "metadata": {},
   "outputs": [],
   "source": [
    "# convert the identifications from JSON to Python objects\n",
    "results_df['identifications_d'] = results_df.apply(lambda row: json.loads(row.identifications), axis=1)"
   ]
  },
  {
   "cell_type": "code",
   "execution_count": 8,
   "metadata": {},
   "outputs": [],
   "source": [
    "def classify_protein(protein):\n",
    "    result = 'UNKNOWN'\n",
    "    if 'HUMAN' in protein.upper():\n",
    "        result = 'Human'\n",
    "    elif 'YEAST' in protein.upper():\n",
    "        result = 'Yeast'\n",
    "    return result"
   ]
  },
  {
   "cell_type": "code",
   "execution_count": 9,
   "metadata": {},
   "outputs": [],
   "source": [
    "# separate some key metrics into separate columns\n",
    "results_df['id_perc_q_value'] = results_df.apply(lambda row: row.identifications_d['perc_q_value'], axis=1)\n",
    "results_df['id_count_all_runs'] = results_df.apply(lambda row: len(row.identifications_d['run_names']), axis=1)\n",
    "results_df['id_count_human_only_runs'] = results_df.apply(lambda row: sum('YHE010' in s for s in row.identifications_d['run_names']), axis=1)\n",
    "results_df['id_number_of_proteins'] = results_df.apply(lambda row: row.identifications_d['number_of_proteins'], axis=1)"
   ]
  },
  {
   "cell_type": "code",
   "execution_count": 10,
   "metadata": {},
   "outputs": [],
   "source": [
    "results_df['id_protein'] = results_df.apply(lambda row: row.identifications_d['proteins'][0], axis=1)\n",
    "results_df['id_species'] = results_df.apply(lambda row: classify_protein(row.id_protein), axis=1)"
   ]
  },
  {
   "cell_type": "code",
   "execution_count": 11,
   "metadata": {},
   "outputs": [
    {
     "data": {
      "text/plain": [
       "array(['Yeast', 'Human'], dtype=object)"
      ]
     },
     "execution_count": 11,
     "metadata": {},
     "output_type": "execute_result"
    }
   ],
   "source": [
    "results_df.id_species.unique()"
   ]
  },
  {
   "cell_type": "code",
   "execution_count": 12,
   "metadata": {},
   "outputs": [],
   "source": [
    "# remove the results that couldn't be extracted or were not classified as a target\n",
    "results_df = results_df[results_df.extractions.notnull()].copy()"
   ]
  },
  {
   "cell_type": "code",
   "execution_count": 13,
   "metadata": {},
   "outputs": [],
   "source": [
    "# convert from JSON to Python objects\n",
    "results_df['extractions_l'] = results_df.apply(lambda row: json.loads(row.extractions), axis=1)"
   ]
  },
  {
   "cell_type": "code",
   "execution_count": 14,
   "metadata": {},
   "outputs": [],
   "source": [
    "# separate some key metrics into separate columns\n",
    "results_df['ext_count_all_runs'] = results_df.apply(lambda row: len(row.extractions_l), axis=1)"
   ]
  },
  {
   "cell_type": "code",
   "execution_count": 15,
   "metadata": {},
   "outputs": [
    {
     "data": {
      "text/html": [
       "<div>\n",
       "<style scoped>\n",
       "    .dataframe tbody tr th:only-of-type {\n",
       "        vertical-align: middle;\n",
       "    }\n",
       "\n",
       "    .dataframe tbody tr th {\n",
       "        vertical-align: top;\n",
       "    }\n",
       "\n",
       "    .dataframe thead th {\n",
       "        text-align: right;\n",
       "    }\n",
       "</style>\n",
       "<table border=\"1\" class=\"dataframe\">\n",
       "  <thead>\n",
       "    <tr style=\"text-align: right;\">\n",
       "      <th></th>\n",
       "      <th>sequence</th>\n",
       "      <th>charge</th>\n",
       "      <th>identifications</th>\n",
       "      <th>extractions</th>\n",
       "      <th>identifications_d</th>\n",
       "      <th>id_perc_q_value</th>\n",
       "      <th>id_count_all_runs</th>\n",
       "      <th>id_count_human_only_runs</th>\n",
       "      <th>id_number_of_proteins</th>\n",
       "      <th>id_protein</th>\n",
       "      <th>id_species</th>\n",
       "      <th>extractions_l</th>\n",
       "      <th>ext_count_all_runs</th>\n",
       "    </tr>\n",
       "  </thead>\n",
       "  <tbody>\n",
       "    <tr>\n",
       "      <th>6963</th>\n",
       "      <td>LQSNGAIQGDSFVCK</td>\n",
       "      <td>2</td>\n",
       "      <td>{\"perc_q_value\": 0.00043871408, \"run_names\": [...</td>\n",
       "      <td>[{\"run_name\": \"P3830_YeastUPS1_01_Slot1-1_1_50...</td>\n",
       "      <td>{'perc_q_value': 0.00043871408, 'run_names': [...</td>\n",
       "      <td>0.000439</td>\n",
       "      <td>1</td>\n",
       "      <td>0</td>\n",
       "      <td>1</td>\n",
       "      <td>sp|P38248|ECM33_YEAST</td>\n",
       "      <td>Yeast</td>\n",
       "      <td>[{'run_name': 'P3830_YeastUPS1_01_Slot1-1_1_50...</td>\n",
       "      <td>10</td>\n",
       "    </tr>\n",
       "    <tr>\n",
       "      <th>5227</th>\n",
       "      <td>ISNTAAALVSLLDENDSKK</td>\n",
       "      <td>3</td>\n",
       "      <td>{\"perc_q_value\": 0.0081501374, \"run_names\": [\"...</td>\n",
       "      <td>[{\"run_name\": \"P3830_YeastUPS1_02_Slot1-1_1_50...</td>\n",
       "      <td>{'perc_q_value': 0.0081501374, 'run_names': ['...</td>\n",
       "      <td>0.008150</td>\n",
       "      <td>1</td>\n",
       "      <td>0</td>\n",
       "      <td>1</td>\n",
       "      <td>sp|P39705|NUP60_YEAST</td>\n",
       "      <td>Yeast</td>\n",
       "      <td>[{'run_name': 'P3830_YeastUPS1_02_Slot1-1_1_50...</td>\n",
       "      <td>7</td>\n",
       "    </tr>\n",
       "    <tr>\n",
       "      <th>1527</th>\n",
       "      <td>DPLVEEELTALLSR</td>\n",
       "      <td>2</td>\n",
       "      <td>{\"perc_q_value\": 5.0599605e-05, \"run_names\": [...</td>\n",
       "      <td>[{\"run_name\": \"P3830_YeastUPS1_01_Slot1-1_1_50...</td>\n",
       "      <td>{'perc_q_value': 5.0599605e-05, 'run_names': [...</td>\n",
       "      <td>0.000051</td>\n",
       "      <td>2</td>\n",
       "      <td>0</td>\n",
       "      <td>1</td>\n",
       "      <td>sp|P42842|EMW1_YEAST</td>\n",
       "      <td>Yeast</td>\n",
       "      <td>[{'run_name': 'P3830_YeastUPS1_01_Slot1-1_1_50...</td>\n",
       "      <td>9</td>\n",
       "    </tr>\n",
       "  </tbody>\n",
       "</table>\n",
       "</div>"
      ],
      "text/plain": [
       "                 sequence  charge  \\\n",
       "6963      LQSNGAIQGDSFVCK       2   \n",
       "5227  ISNTAAALVSLLDENDSKK       3   \n",
       "1527       DPLVEEELTALLSR       2   \n",
       "\n",
       "                                        identifications  \\\n",
       "6963  {\"perc_q_value\": 0.00043871408, \"run_names\": [...   \n",
       "5227  {\"perc_q_value\": 0.0081501374, \"run_names\": [\"...   \n",
       "1527  {\"perc_q_value\": 5.0599605e-05, \"run_names\": [...   \n",
       "\n",
       "                                            extractions  \\\n",
       "6963  [{\"run_name\": \"P3830_YeastUPS1_01_Slot1-1_1_50...   \n",
       "5227  [{\"run_name\": \"P3830_YeastUPS1_02_Slot1-1_1_50...   \n",
       "1527  [{\"run_name\": \"P3830_YeastUPS1_01_Slot1-1_1_50...   \n",
       "\n",
       "                                      identifications_d  id_perc_q_value  \\\n",
       "6963  {'perc_q_value': 0.00043871408, 'run_names': [...         0.000439   \n",
       "5227  {'perc_q_value': 0.0081501374, 'run_names': ['...         0.008150   \n",
       "1527  {'perc_q_value': 5.0599605e-05, 'run_names': [...         0.000051   \n",
       "\n",
       "      id_count_all_runs  id_count_human_only_runs  id_number_of_proteins  \\\n",
       "6963                  1                         0                      1   \n",
       "5227                  1                         0                      1   \n",
       "1527                  2                         0                      1   \n",
       "\n",
       "                 id_protein id_species  \\\n",
       "6963  sp|P38248|ECM33_YEAST      Yeast   \n",
       "5227  sp|P39705|NUP60_YEAST      Yeast   \n",
       "1527   sp|P42842|EMW1_YEAST      Yeast   \n",
       "\n",
       "                                          extractions_l  ext_count_all_runs  \n",
       "6963  [{'run_name': 'P3830_YeastUPS1_01_Slot1-1_1_50...                  10  \n",
       "5227  [{'run_name': 'P3830_YeastUPS1_02_Slot1-1_1_50...                   7  \n",
       "1527  [{'run_name': 'P3830_YeastUPS1_01_Slot1-1_1_50...                   9  "
      ]
     },
     "execution_count": 15,
     "metadata": {},
     "output_type": "execute_result"
    }
   ],
   "source": [
    "results_df.sample(n=3)"
   ]
  },
  {
   "cell_type": "code",
   "execution_count": 16,
   "metadata": {},
   "outputs": [
    {
     "data": {
      "text/plain": [
       "'{\"perc_q_value\": 0.0022427383, \"run_names\": [\"P3830_YeastUPS1_05_Slot1-1_1_5070\", \"P3830_YeastUPS1_06_Slot1-1_1_5076\", \"P3830_YeastUPS1_09_Slot1-1_1_5079\"], \"number_of_runs\": 3, \"proteins\": [\"sp|P00925|ENO2_YEAST\"], \"number_of_proteins\": 1}'"
      ]
     },
     "execution_count": 16,
     "metadata": {},
     "output_type": "execute_result"
    }
   ],
   "source": [
    "results_df.iloc[0].identifications"
   ]
  },
  {
   "cell_type": "code",
   "execution_count": 17,
   "metadata": {},
   "outputs": [],
   "source": [
    "# count the number of unique peptide identifications in each run\n",
    "counts_d = {}\n",
    "for row in results_df.itertuples():\n",
    "    for run_name in row.identifications_d['run_names']:\n",
    "        if run_name not in counts_d:\n",
    "            counts_d[run_name] = 0\n",
    "        counts_d[run_name] += 1"
   ]
  },
  {
   "cell_type": "code",
   "execution_count": 18,
   "metadata": {},
   "outputs": [],
   "source": [
    "# sort the run names by group then run number within the group\n",
    "sorted_counts_l = []\n",
    "for k in sorted(list(counts_d.keys()), key=lambda x: ( x.split('_')[1], int(x.split('_')[2]) )):\n",
    "    short_run_name = '_'.join(k.split('_Slot')[0].split('_')[1:])\n",
    "    sorted_counts_l.append((short_run_name, counts_d[k]))\n",
    "sorted_counts_df = pd.DataFrame(sorted_counts_l, columns=['run_name','count'])"
   ]
  },
  {
   "cell_type": "markdown",
   "metadata": {},
   "source": [
    "#### prepare the MaxQuant results"
   ]
  },
  {
   "cell_type": "code",
   "execution_count": 19,
   "metadata": {},
   "outputs": [],
   "source": [
    "# MQ_RESULTS_DIR = '{}'.format(expanduser('~'))\n",
    "MQ_RESULTS_DIR = '{}/Downloads/experiments'.format(expanduser('~'))\n",
    "\n",
    "mq_results_df = pd.read_csv('{}/MQ-analysis-of-P3830/combined/txt/evidence.txt'.format(MQ_RESULTS_DIR), sep='\\\\t', engine='python')"
   ]
  },
  {
   "cell_type": "code",
   "execution_count": 20,
   "metadata": {},
   "outputs": [],
   "source": [
    "# remove decoys, which are indicated by a '+' in the Reverse column\n",
    "mq_results_df = mq_results_df[pd.isna(mq_results_df.Reverse)]\n",
    "# remove identifications with no intensity\n",
    "mq_results_df = mq_results_df[(mq_results_df.Intensity > 0)]\n",
    "# remove potential contaminants\n",
    "mq_results_df = mq_results_df[pd.isna(mq_results_df['Potential contaminant'])]\n",
    "# remove identifications with mass error more than +/- 5 ppm\n",
    "mq_results_df = mq_results_df[np.abs(mq_results_df['Mass error [ppm]']) <= 5.0]"
   ]
  },
  {
   "cell_type": "code",
   "execution_count": 21,
   "metadata": {},
   "outputs": [],
   "source": [
    "# definition of uniqueness in MaxQuant output with MBR on\n",
    "unique_peptide_key = ['Sequence','Modifications','Charge']"
   ]
  },
  {
   "cell_type": "code",
   "execution_count": 22,
   "metadata": {},
   "outputs": [],
   "source": [
    "# count the number of unique peptide identifications in each run\n",
    "mq_counts_d = {}\n",
    "for group_name,group_df in mq_results_df.groupby(unique_peptide_key, as_index=False):\n",
    "    df = group_df[(group_df.Type == 'TIMS-MULTI-MSMS')]\n",
    "    for run_name in df['Raw file'].unique():\n",
    "        if run_name not in mq_counts_d:\n",
    "            mq_counts_d[run_name] = 0\n",
    "        mq_counts_d[run_name] += 1"
   ]
  },
  {
   "cell_type": "code",
   "execution_count": 23,
   "metadata": {},
   "outputs": [],
   "source": [
    "mq_sorted_counts_l = []\n",
    "for k in sorted(mq_counts_d.keys()):\n",
    "    short_run_name = '_'.join(k.split('_Slot')[0].split('_')[1:3])\n",
    "    mq_sorted_counts_l.append((short_run_name, mq_counts_d[k]))\n",
    "mq_sorted_counts_df = pd.DataFrame(mq_sorted_counts_l, columns=['run_name','count'])"
   ]
  },
  {
   "cell_type": "markdown",
   "metadata": {},
   "source": [
    "#### prepare the MSFragger results"
   ]
  },
  {
   "cell_type": "code",
   "execution_count": 24,
   "metadata": {},
   "outputs": [],
   "source": [
    "# use the Fragger analysis without MBR because there doesn't seem to be a way of distinguishing between identification and matching\n",
    "# FRAGGER_RESULTS_DIR = '{}'.format(expanduser('~'))\n",
    "FRAGGER_RESULTS_DIR = '{}/Downloads/experiments'.format(expanduser('~'))\n",
    "\n",
    "fragger_results_df = pd.read_csv('{}/MSFragger-analysis-P3830/P3830-results/MSstats.csv'.format(FRAGGER_RESULTS_DIR), sep=',')"
   ]
  },
  {
   "cell_type": "code",
   "execution_count": 25,
   "metadata": {},
   "outputs": [],
   "source": [
    "fragger_results_df = fragger_results_df[fragger_results_df.Intensity.notnull()]"
   ]
  },
  {
   "cell_type": "code",
   "execution_count": 26,
   "metadata": {},
   "outputs": [
    {
     "data": {
      "text/html": [
       "<div>\n",
       "<style scoped>\n",
       "    .dataframe tbody tr th:only-of-type {\n",
       "        vertical-align: middle;\n",
       "    }\n",
       "\n",
       "    .dataframe tbody tr th {\n",
       "        vertical-align: top;\n",
       "    }\n",
       "\n",
       "    .dataframe thead th {\n",
       "        text-align: right;\n",
       "    }\n",
       "</style>\n",
       "<table border=\"1\" class=\"dataframe\">\n",
       "  <thead>\n",
       "    <tr style=\"text-align: right;\">\n",
       "      <th></th>\n",
       "      <th>ProteinName</th>\n",
       "      <th>PeptideSequence</th>\n",
       "      <th>PrecursorCharge</th>\n",
       "      <th>FragmentIon</th>\n",
       "      <th>ProductCharge</th>\n",
       "      <th>IsotopeLabelType</th>\n",
       "      <th>Condition</th>\n",
       "      <th>BioReplicate</th>\n",
       "      <th>Run</th>\n",
       "      <th>Intensity</th>\n",
       "    </tr>\n",
       "  </thead>\n",
       "  <tbody>\n",
       "    <tr>\n",
       "      <th>85063</th>\n",
       "      <td>sp|P22137|CLH_YEAST</td>\n",
       "      <td>VLIEDIMSLDR</td>\n",
       "      <td>2</td>\n",
       "      <td>NaN</td>\n",
       "      <td>NaN</td>\n",
       "      <td>L</td>\n",
       "      <td>YUPS1</td>\n",
       "      <td>4</td>\n",
       "      <td>P3830_YeastUPS1_04_Slot1-1_1_5069</td>\n",
       "      <td>9641.733</td>\n",
       "    </tr>\n",
       "    <tr>\n",
       "      <th>12951</th>\n",
       "      <td>sp|P02144|MYG_HUMAN</td>\n",
       "      <td>GLSDGEWQLVLNVWGK</td>\n",
       "      <td>2</td>\n",
       "      <td>NaN</td>\n",
       "      <td>NaN</td>\n",
       "      <td>L</td>\n",
       "      <td>YUPS2</td>\n",
       "      <td>2</td>\n",
       "      <td>P3830_YeastUPS2_02_Slot1-1_1_5083</td>\n",
       "      <td>42521.210</td>\n",
       "    </tr>\n",
       "    <tr>\n",
       "      <th>84975</th>\n",
       "      <td>sp|P22137|CLH_YEAST</td>\n",
       "      <td>YGFIHLYELETGTNLFVNR</td>\n",
       "      <td>2</td>\n",
       "      <td>NaN</td>\n",
       "      <td>NaN</td>\n",
       "      <td>L</td>\n",
       "      <td>YUPS2</td>\n",
       "      <td>6</td>\n",
       "      <td>P3830_YeastUPS2_06_Slot1-1_1_5087</td>\n",
       "      <td>34347.066</td>\n",
       "    </tr>\n",
       "    <tr>\n",
       "      <th>36899</th>\n",
       "      <td>sp|P07264|LEUC_YEAST</td>\n",
       "      <td>THLMSPAMAAAAGIAGHFVDIR</td>\n",
       "      <td>3</td>\n",
       "      <td>NaN</td>\n",
       "      <td>NaN</td>\n",
       "      <td>L</td>\n",
       "      <td>YUPS2</td>\n",
       "      <td>10</td>\n",
       "      <td>P3830_YeastUPS2_10_Slot1-1_1_5091</td>\n",
       "      <td>73161.200</td>\n",
       "    </tr>\n",
       "    <tr>\n",
       "      <th>272923</th>\n",
       "      <td>sp|Q08235|BRX1_YEAST</td>\n",
       "      <td>ENVLAADPLSNDALFK</td>\n",
       "      <td>2</td>\n",
       "      <td>NaN</td>\n",
       "      <td>NaN</td>\n",
       "      <td>L</td>\n",
       "      <td>YUPS1</td>\n",
       "      <td>4</td>\n",
       "      <td>P3830_YeastUPS1_04_Slot1-1_1_5069</td>\n",
       "      <td>13124.642</td>\n",
       "    </tr>\n",
       "  </tbody>\n",
       "</table>\n",
       "</div>"
      ],
      "text/plain": [
       "                 ProteinName         PeptideSequence  PrecursorCharge  \\\n",
       "85063    sp|P22137|CLH_YEAST             VLIEDIMSLDR                2   \n",
       "12951    sp|P02144|MYG_HUMAN        GLSDGEWQLVLNVWGK                2   \n",
       "84975    sp|P22137|CLH_YEAST     YGFIHLYELETGTNLFVNR                2   \n",
       "36899   sp|P07264|LEUC_YEAST  THLMSPAMAAAAGIAGHFVDIR                3   \n",
       "272923  sp|Q08235|BRX1_YEAST        ENVLAADPLSNDALFK                2   \n",
       "\n",
       "        FragmentIon  ProductCharge IsotopeLabelType Condition  BioReplicate  \\\n",
       "85063           NaN            NaN                L     YUPS1             4   \n",
       "12951           NaN            NaN                L     YUPS2             2   \n",
       "84975           NaN            NaN                L     YUPS2             6   \n",
       "36899           NaN            NaN                L     YUPS2            10   \n",
       "272923          NaN            NaN                L     YUPS1             4   \n",
       "\n",
       "                                      Run  Intensity  \n",
       "85063   P3830_YeastUPS1_04_Slot1-1_1_5069   9641.733  \n",
       "12951   P3830_YeastUPS2_02_Slot1-1_1_5083  42521.210  \n",
       "84975   P3830_YeastUPS2_06_Slot1-1_1_5087  34347.066  \n",
       "36899   P3830_YeastUPS2_10_Slot1-1_1_5091  73161.200  \n",
       "272923  P3830_YeastUPS1_04_Slot1-1_1_5069  13124.642  "
      ]
     },
     "execution_count": 26,
     "metadata": {},
     "output_type": "execute_result"
    }
   ],
   "source": [
    "fragger_results_df.sample(n=5)"
   ]
  },
  {
   "cell_type": "code",
   "execution_count": 27,
   "metadata": {},
   "outputs": [],
   "source": [
    "# count the number of unique peptide identifications in each run\n",
    "fragger_counts_d = {}\n",
    "for group_name,group_df in fragger_results_df.groupby(['PeptideSequence', 'PrecursorCharge'], as_index=False):\n",
    "    for run_name in group_df['Run'].unique():\n",
    "        if run_name not in fragger_counts_d:\n",
    "            fragger_counts_d[run_name] = 0\n",
    "        fragger_counts_d[run_name] += 1"
   ]
  },
  {
   "cell_type": "code",
   "execution_count": 28,
   "metadata": {},
   "outputs": [],
   "source": [
    "# sort the run names by group then run number within the group\n",
    "sorted_counts_l = []\n",
    "for k in sorted(list(fragger_counts_d.keys()), key=lambda x: ( x.split('_')[1], int(x.split('_')[2]) )):\n",
    "    short_run_name = '_'.join(k.split('_Slot')[0].split('_')[1:])\n",
    "    sorted_counts_l.append((short_run_name, fragger_counts_d[k]))\n",
    "fragger_sorted_counts_df = pd.DataFrame(sorted_counts_l, columns=['run_name','count'])"
   ]
  },
  {
   "cell_type": "markdown",
   "metadata": {},
   "source": [
    "#### plot the unique peptide level"
   ]
  },
  {
   "cell_type": "code",
   "execution_count": 29,
   "metadata": {},
   "outputs": [],
   "source": [
    "merged_df = sorted_counts_df.merge(mq_sorted_counts_df,on='run_name').merge(fragger_sorted_counts_df,on='run_name')\n",
    "merged_df.rename({'count_x':'TFD/E', 'count_y':'MaxQuant', 'count':'MSFragger'}, axis=1, inplace=True)\n",
    "merged_df.index = merged_df.run_name"
   ]
  },
  {
   "cell_type": "raw",
   "metadata": {},
   "source": [
    "merged_df = sorted_counts_df.merge(mq_sorted_counts_df,on='run_name')\n",
    "merged_df.rename({'count_x':'count_tfd/e', 'count_y':'count_mq'}, axis=1, inplace=True)\n",
    "merged_df.index = merged_df.run_name"
   ]
  },
  {
   "cell_type": "code",
   "execution_count": 30,
   "metadata": {},
   "outputs": [
    {
     "data": {
      "text/html": [
       "<div>\n",
       "<style scoped>\n",
       "    .dataframe tbody tr th:only-of-type {\n",
       "        vertical-align: middle;\n",
       "    }\n",
       "\n",
       "    .dataframe tbody tr th {\n",
       "        vertical-align: top;\n",
       "    }\n",
       "\n",
       "    .dataframe thead th {\n",
       "        text-align: right;\n",
       "    }\n",
       "</style>\n",
       "<table border=\"1\" class=\"dataframe\">\n",
       "  <thead>\n",
       "    <tr style=\"text-align: right;\">\n",
       "      <th></th>\n",
       "      <th>run_name</th>\n",
       "      <th>TFD/E</th>\n",
       "      <th>MaxQuant</th>\n",
       "      <th>MSFragger</th>\n",
       "    </tr>\n",
       "    <tr>\n",
       "      <th>run_name</th>\n",
       "      <th></th>\n",
       "      <th></th>\n",
       "      <th></th>\n",
       "      <th></th>\n",
       "    </tr>\n",
       "  </thead>\n",
       "  <tbody>\n",
       "    <tr>\n",
       "      <th>YeastUPS2_10</th>\n",
       "      <td>YeastUPS2_10</td>\n",
       "      <td>7292</td>\n",
       "      <td>5885</td>\n",
       "      <td>10032</td>\n",
       "    </tr>\n",
       "    <tr>\n",
       "      <th>YeastUPS2_06</th>\n",
       "      <td>YeastUPS2_06</td>\n",
       "      <td>7339</td>\n",
       "      <td>5948</td>\n",
       "      <td>9837</td>\n",
       "    </tr>\n",
       "    <tr>\n",
       "      <th>YeastUPS1_02</th>\n",
       "      <td>YeastUPS1_02</td>\n",
       "      <td>7741</td>\n",
       "      <td>6179</td>\n",
       "      <td>10712</td>\n",
       "    </tr>\n",
       "  </tbody>\n",
       "</table>\n",
       "</div>"
      ],
      "text/plain": [
       "                  run_name  TFD/E  MaxQuant  MSFragger\n",
       "run_name                                              \n",
       "YeastUPS2_10  YeastUPS2_10   7292      5885      10032\n",
       "YeastUPS2_06  YeastUPS2_06   7339      5948       9837\n",
       "YeastUPS1_02  YeastUPS1_02   7741      6179      10712"
      ]
     },
     "execution_count": 30,
     "metadata": {},
     "output_type": "execute_result"
    }
   ],
   "source": [
    "merged_df.sample(n=3)"
   ]
  },
  {
   "cell_type": "code",
   "execution_count": 31,
   "metadata": {},
   "outputs": [
    {
     "data": {
      "image/png": "[encoded data removed]",
      "text/plain": [
       "<Figure size 1080x576 with 1 Axes>"
      ]
     },
     "metadata": {
      "needs_background": "light"
     },
     "output_type": "display_data"
    }
   ],
   "source": [
    "merged_df.plot(kind='bar', figsize=(15,8))\n",
    "_ = plt.title(\"Unique peptides identified in each run\")\n",
    "_ = plt.xlabel(\"run\")\n",
    "_ = plt.ylabel(\"number of unique peptides identified\")"
   ]
  },
  {
   "cell_type": "markdown",
   "metadata": {},
   "source": [
    "## missing-ness heatmaps"
   ]
  },
  {
   "cell_type": "code",
   "execution_count": 32,
   "metadata": {},
   "outputs": [],
   "source": [
    "# return True if we can include an extraction from the specified group, given the groups in which it was identified\n",
    "# need to implement these rules differently for each experiment, probably best with a simple rules parameter file\n",
    "def extract_from_group(extract_group, identification_run_names_l):\n",
    "    return True"
   ]
  },
  {
   "cell_type": "markdown",
   "metadata": {},
   "source": [
    "#### prepare the TFD/E data"
   ]
  },
  {
   "cell_type": "code",
   "execution_count": 33,
   "metadata": {},
   "outputs": [
    {
     "data": {
      "text/plain": [
       "Index(['sequence', 'charge', 'identifications', 'extractions',\n",
       "       'identifications_d', 'id_perc_q_value', 'id_count_all_runs',\n",
       "       'id_count_human_only_runs', 'id_number_of_proteins', 'id_protein',\n",
       "       'id_species', 'extractions_l', 'ext_count_all_runs'],\n",
       "      dtype='object')"
      ]
     },
     "execution_count": 33,
     "metadata": {},
     "output_type": "execute_result"
    }
   ],
   "source": [
    "# gather the lower intensity decile\n",
    "results_df.columns"
   ]
  },
  {
   "cell_type": "code",
   "execution_count": 34,
   "metadata": {},
   "outputs": [],
   "source": [
    "sequences_l = []\n",
    "for row in results_df.itertuples():\n",
    "    for group_name in ['YeastUPS1','YeastUPS2']:\n",
    "        if extract_from_group(extract_group=group_name, identification_run_names_l=row.identifications_d['run_names']):\n",
    "            for extraction in row.extractions_l:\n",
    "                if group_name in extraction['run_name']:\n",
    "                    short_run_name = '_'.join(extraction['run_name'].split('_Slot')[0].split('_')[1:3])\n",
    "                    identified_in_run = extraction['run_name'] in row.identifications_d['run_names']\n",
    "                    sequences_l.append((row.sequence, row.charge, row.id_perc_q_value, row.id_protein, row.id_species, short_run_name, group_name, extraction['intensity'], identified_in_run))\n",
    "sequences_df = pd.DataFrame(sequences_l, columns=['sequence', 'charge', 'id_perc_q_value', 'protein', 'species', 'short_run_name', 'group','intensity','identified_in_run'])\n"
   ]
  },
  {
   "cell_type": "code",
   "execution_count": 35,
   "metadata": {},
   "outputs": [],
   "source": [
    "# find the mean intensity for each peptide in each group\n",
    "intensities_l = []\n",
    "for group_name,group_df in sequences_df.groupby(['sequence','charge','group'], as_index=False):\n",
    "    mean_intensity = group_df.intensity.mean()\n",
    "    intensities_l.append((group_name[0], group_name[1], group_name[2], mean_intensity))\n",
    "intensities_df = pd.DataFrame(intensities_l, columns=['sequence', 'charge', 'group', 'group_mean_intensity'])"
   ]
  },
  {
   "cell_type": "code",
   "execution_count": 36,
   "metadata": {},
   "outputs": [],
   "source": [
    "# sort each group by descending intensity\n",
    "intensities_df.sort_values(by=['group_mean_intensity'], ascending=False, inplace=True)"
   ]
  },
  {
   "cell_type": "code",
   "execution_count": 37,
   "metadata": {},
   "outputs": [
    {
     "data": {
      "text/html": [
       "<div>\n",
       "<style scoped>\n",
       "    .dataframe tbody tr th:only-of-type {\n",
       "        vertical-align: middle;\n",
       "    }\n",
       "\n",
       "    .dataframe tbody tr th {\n",
       "        vertical-align: top;\n",
       "    }\n",
       "\n",
       "    .dataframe thead th {\n",
       "        text-align: right;\n",
       "    }\n",
       "</style>\n",
       "<table border=\"1\" class=\"dataframe\">\n",
       "  <thead>\n",
       "    <tr style=\"text-align: right;\">\n",
       "      <th></th>\n",
       "      <th>sequence</th>\n",
       "      <th>charge</th>\n",
       "      <th>group</th>\n",
       "      <th>group_mean_intensity</th>\n",
       "    </tr>\n",
       "  </thead>\n",
       "  <tbody>\n",
       "    <tr>\n",
       "      <th>19712</th>\n",
       "      <td>TGTLTTSETAHNM[15.9949]K</td>\n",
       "      <td>2</td>\n",
       "      <td>YeastUPS1</td>\n",
       "      <td>63.333333</td>\n",
       "    </tr>\n",
       "    <tr>\n",
       "      <th>15043</th>\n",
       "      <td>NSAALHQAVPK</td>\n",
       "      <td>2</td>\n",
       "      <td>YeastUPS1</td>\n",
       "      <td>47.000000</td>\n",
       "    </tr>\n",
       "    <tr>\n",
       "      <th>15520</th>\n",
       "      <td>QDASPKPYAVK</td>\n",
       "      <td>2</td>\n",
       "      <td>YeastUPS2</td>\n",
       "      <td>46.000000</td>\n",
       "    </tr>\n",
       "    <tr>\n",
       "      <th>7344</th>\n",
       "      <td>GVAMNPVDHPHGGGNHQHIGK</td>\n",
       "      <td>3</td>\n",
       "      <td>YeastUPS1</td>\n",
       "      <td>45.000000</td>\n",
       "    </tr>\n",
       "    <tr>\n",
       "      <th>2885</th>\n",
       "      <td>DQEGDDEDGNTATGHGVK</td>\n",
       "      <td>2</td>\n",
       "      <td>YeastUPS1</td>\n",
       "      <td>30.500000</td>\n",
       "    </tr>\n",
       "  </tbody>\n",
       "</table>\n",
       "</div>"
      ],
      "text/plain": [
       "                      sequence  charge      group  group_mean_intensity\n",
       "19712  TGTLTTSETAHNM[15.9949]K       2  YeastUPS1             63.333333\n",
       "15043              NSAALHQAVPK       2  YeastUPS1             47.000000\n",
       "15520              QDASPKPYAVK       2  YeastUPS2             46.000000\n",
       "7344     GVAMNPVDHPHGGGNHQHIGK       3  YeastUPS1             45.000000\n",
       "2885        DQEGDDEDGNTATGHGVK       2  YeastUPS1             30.500000"
      ]
     },
     "execution_count": 37,
     "metadata": {},
     "output_type": "execute_result"
    }
   ],
   "source": [
    "intensities_df.tail()"
   ]
  },
  {
   "cell_type": "code",
   "execution_count": 38,
   "metadata": {},
   "outputs": [],
   "source": [
    "# make a separate DF for each group\n",
    "YeastUPS1_df = intensities_df[(intensities_df.group == 'YeastUPS1')].copy()\n",
    "YeastUPS2_df = intensities_df[(intensities_df.group == 'YeastUPS2')].copy()"
   ]
  },
  {
   "cell_type": "code",
   "execution_count": 39,
   "metadata": {},
   "outputs": [],
   "source": [
    "# find the lowest-intensity peptides in each group\n",
    "lower_number = 500\n",
    "YeastUPS1_lowest_df = YeastUPS1_df.tail(lower_number)\n",
    "YeastUPS2_lowest_df = YeastUPS2_df.tail(lower_number)"
   ]
  },
  {
   "cell_type": "markdown",
   "metadata": {},
   "source": [
    "## TFD/E heatmaps"
   ]
  },
  {
   "cell_type": "markdown",
   "metadata": {},
   "source": [
    "#### plot YeastUPS1"
   ]
  },
  {
   "cell_type": "code",
   "execution_count": 40,
   "metadata": {},
   "outputs": [
    {
     "data": {
      "text/html": [
       "<div>\n",
       "<style scoped>\n",
       "    .dataframe tbody tr th:only-of-type {\n",
       "        vertical-align: middle;\n",
       "    }\n",
       "\n",
       "    .dataframe tbody tr th {\n",
       "        vertical-align: top;\n",
       "    }\n",
       "\n",
       "    .dataframe thead th {\n",
       "        text-align: right;\n",
       "    }\n",
       "</style>\n",
       "<table border=\"1\" class=\"dataframe\">\n",
       "  <thead>\n",
       "    <tr style=\"text-align: right;\">\n",
       "      <th></th>\n",
       "      <th>sequence</th>\n",
       "      <th>charge</th>\n",
       "      <th>group</th>\n",
       "      <th>group_mean_intensity</th>\n",
       "    </tr>\n",
       "  </thead>\n",
       "  <tbody>\n",
       "    <tr>\n",
       "      <th>1758</th>\n",
       "      <td>CLDHGTTEQCDNLCDK</td>\n",
       "      <td>2</td>\n",
       "      <td>YeastUPS1</td>\n",
       "      <td>71.000000</td>\n",
       "    </tr>\n",
       "    <tr>\n",
       "      <th>19712</th>\n",
       "      <td>TGTLTTSETAHNM[15.9949]K</td>\n",
       "      <td>2</td>\n",
       "      <td>YeastUPS1</td>\n",
       "      <td>63.333333</td>\n",
       "    </tr>\n",
       "    <tr>\n",
       "      <th>15043</th>\n",
       "      <td>NSAALHQAVPK</td>\n",
       "      <td>2</td>\n",
       "      <td>YeastUPS1</td>\n",
       "      <td>47.000000</td>\n",
       "    </tr>\n",
       "    <tr>\n",
       "      <th>7344</th>\n",
       "      <td>GVAMNPVDHPHGGGNHQHIGK</td>\n",
       "      <td>3</td>\n",
       "      <td>YeastUPS1</td>\n",
       "      <td>45.000000</td>\n",
       "    </tr>\n",
       "    <tr>\n",
       "      <th>2885</th>\n",
       "      <td>DQEGDDEDGNTATGHGVK</td>\n",
       "      <td>2</td>\n",
       "      <td>YeastUPS1</td>\n",
       "      <td>30.500000</td>\n",
       "    </tr>\n",
       "  </tbody>\n",
       "</table>\n",
       "</div>"
      ],
      "text/plain": [
       "                      sequence  charge      group  group_mean_intensity\n",
       "1758          CLDHGTTEQCDNLCDK       2  YeastUPS1             71.000000\n",
       "19712  TGTLTTSETAHNM[15.9949]K       2  YeastUPS1             63.333333\n",
       "15043              NSAALHQAVPK       2  YeastUPS1             47.000000\n",
       "7344     GVAMNPVDHPHGGGNHQHIGK       3  YeastUPS1             45.000000\n",
       "2885        DQEGDDEDGNTATGHGVK       2  YeastUPS1             30.500000"
      ]
     },
     "execution_count": 40,
     "metadata": {},
     "output_type": "execute_result"
    }
   ],
   "source": [
    "YeastUPS1_df.tail(n=5)"
   ]
  },
  {
   "cell_type": "code",
   "execution_count": 41,
   "metadata": {},
   "outputs": [],
   "source": [
    "run_names_l = sorted(list(sequences_df[sequences_df.group == 'YeastUPS1'].short_run_name.unique()), key=lambda x: int(x.split('_')[1]))\n",
    "occurences_d = dict(zip(run_names_l, [0] * len(run_names_l)))"
   ]
  },
  {
   "cell_type": "code",
   "execution_count": 42,
   "metadata": {},
   "outputs": [],
   "source": [
    "# as a heatmap, plot the missing-ness across this group of runs\n",
    "occurences_l = []\n",
    "index_l = []\n",
    "for row in YeastUPS1_lowest_df.itertuples():\n",
    "    run_occurences_df = sequences_df[(sequences_df.sequence == row.sequence) & (sequences_df.charge == row.charge) & (sequences_df.group == row.group)]\n",
    "    occurences_d = dict(zip(run_names_l, [0] * len(run_names_l)))\n",
    "    index_l.append('{},{}'.format(row.sequence, row.charge))\n",
    "    for r in run_occurences_df.itertuples():\n",
    "        occurences_d[r.short_run_name] = np.log2(r.intensity)\n",
    "    occurences_l.append(occurences_d)\n",
    "occurences_df = pd.DataFrame(occurences_l, columns=occurences_d.keys(), index=index_l)"
   ]
  },
  {
   "cell_type": "code",
   "execution_count": 43,
   "metadata": {},
   "outputs": [
    {
     "data": {
      "text/html": [
       "<div>\n",
       "<style scoped>\n",
       "    .dataframe tbody tr th:only-of-type {\n",
       "        vertical-align: middle;\n",
       "    }\n",
       "\n",
       "    .dataframe tbody tr th {\n",
       "        vertical-align: top;\n",
       "    }\n",
       "\n",
       "    .dataframe thead th {\n",
       "        text-align: right;\n",
       "    }\n",
       "</style>\n",
       "<table border=\"1\" class=\"dataframe\">\n",
       "  <thead>\n",
       "    <tr style=\"text-align: right;\">\n",
       "      <th></th>\n",
       "      <th>YeastUPS1_01</th>\n",
       "      <th>YeastUPS1_02</th>\n",
       "      <th>YeastUPS1_03</th>\n",
       "      <th>YeastUPS1_04</th>\n",
       "      <th>YeastUPS1_05</th>\n",
       "      <th>YeastUPS1_06</th>\n",
       "      <th>YeastUPS1_07</th>\n",
       "      <th>YeastUPS1_08</th>\n",
       "      <th>YeastUPS1_09</th>\n",
       "      <th>YeastUPS1_10</th>\n",
       "    </tr>\n",
       "  </thead>\n",
       "  <tbody>\n",
       "    <tr>\n",
       "      <th>Q[-17.0265]LELAHLEHSLK,2</th>\n",
       "      <td>0.000000</td>\n",
       "      <td>0.000000</td>\n",
       "      <td>0.0</td>\n",
       "      <td>0.000000</td>\n",
       "      <td>0.000000</td>\n",
       "      <td>6.357552</td>\n",
       "      <td>0.0</td>\n",
       "      <td>0.000000</td>\n",
       "      <td>0.000000</td>\n",
       "      <td>0.000000</td>\n",
       "    </tr>\n",
       "    <tr>\n",
       "      <th>FKEEDEKESQR,2</th>\n",
       "      <td>0.000000</td>\n",
       "      <td>0.000000</td>\n",
       "      <td>0.0</td>\n",
       "      <td>0.000000</td>\n",
       "      <td>6.426265</td>\n",
       "      <td>0.000000</td>\n",
       "      <td>0.0</td>\n",
       "      <td>0.000000</td>\n",
       "      <td>6.507795</td>\n",
       "      <td>5.977280</td>\n",
       "    </tr>\n",
       "    <tr>\n",
       "      <th>NQAALNPR,1</th>\n",
       "      <td>0.000000</td>\n",
       "      <td>0.000000</td>\n",
       "      <td>0.0</td>\n",
       "      <td>6.475733</td>\n",
       "      <td>0.000000</td>\n",
       "      <td>6.000000</td>\n",
       "      <td>0.0</td>\n",
       "      <td>0.000000</td>\n",
       "      <td>0.000000</td>\n",
       "      <td>0.000000</td>\n",
       "    </tr>\n",
       "    <tr>\n",
       "      <th>KVVITAPSSTAPMFVMGVNEEK,3</th>\n",
       "      <td>0.000000</td>\n",
       "      <td>0.000000</td>\n",
       "      <td>0.0</td>\n",
       "      <td>6.523562</td>\n",
       "      <td>0.000000</td>\n",
       "      <td>0.000000</td>\n",
       "      <td>0.0</td>\n",
       "      <td>5.857981</td>\n",
       "      <td>0.000000</td>\n",
       "      <td>0.000000</td>\n",
       "    </tr>\n",
       "    <tr>\n",
       "      <th>IATYQER,1</th>\n",
       "      <td>6.149747</td>\n",
       "      <td>0.000000</td>\n",
       "      <td>0.0</td>\n",
       "      <td>0.000000</td>\n",
       "      <td>0.000000</td>\n",
       "      <td>0.000000</td>\n",
       "      <td>0.0</td>\n",
       "      <td>0.000000</td>\n",
       "      <td>0.000000</td>\n",
       "      <td>0.000000</td>\n",
       "    </tr>\n",
       "    <tr>\n",
       "      <th>CLDHGTTEQCDNLCDK,2</th>\n",
       "      <td>0.000000</td>\n",
       "      <td>0.000000</td>\n",
       "      <td>0.0</td>\n",
       "      <td>0.000000</td>\n",
       "      <td>6.149747</td>\n",
       "      <td>0.000000</td>\n",
       "      <td>0.0</td>\n",
       "      <td>0.000000</td>\n",
       "      <td>0.000000</td>\n",
       "      <td>0.000000</td>\n",
       "    </tr>\n",
       "    <tr>\n",
       "      <th>TGTLTTSETAHNM[15.9949]K,2</th>\n",
       "      <td>0.000000</td>\n",
       "      <td>6.321928</td>\n",
       "      <td>0.0</td>\n",
       "      <td>5.672425</td>\n",
       "      <td>0.000000</td>\n",
       "      <td>0.000000</td>\n",
       "      <td>0.0</td>\n",
       "      <td>5.882643</td>\n",
       "      <td>0.000000</td>\n",
       "      <td>0.000000</td>\n",
       "    </tr>\n",
       "    <tr>\n",
       "      <th>NSAALHQAVPK,2</th>\n",
       "      <td>0.000000</td>\n",
       "      <td>0.000000</td>\n",
       "      <td>0.0</td>\n",
       "      <td>0.000000</td>\n",
       "      <td>0.000000</td>\n",
       "      <td>0.000000</td>\n",
       "      <td>0.0</td>\n",
       "      <td>5.554589</td>\n",
       "      <td>0.000000</td>\n",
       "      <td>0.000000</td>\n",
       "    </tr>\n",
       "    <tr>\n",
       "      <th>GVAMNPVDHPHGGGNHQHIGK,3</th>\n",
       "      <td>0.000000</td>\n",
       "      <td>0.000000</td>\n",
       "      <td>0.0</td>\n",
       "      <td>0.000000</td>\n",
       "      <td>3.169925</td>\n",
       "      <td>0.000000</td>\n",
       "      <td>0.0</td>\n",
       "      <td>6.339850</td>\n",
       "      <td>0.000000</td>\n",
       "      <td>0.000000</td>\n",
       "    </tr>\n",
       "    <tr>\n",
       "      <th>DQEGDDEDGNTATGHGVK,2</th>\n",
       "      <td>0.000000</td>\n",
       "      <td>0.000000</td>\n",
       "      <td>0.0</td>\n",
       "      <td>0.000000</td>\n",
       "      <td>0.000000</td>\n",
       "      <td>0.000000</td>\n",
       "      <td>0.0</td>\n",
       "      <td>3.321928</td>\n",
       "      <td>0.000000</td>\n",
       "      <td>5.672425</td>\n",
       "    </tr>\n",
       "  </tbody>\n",
       "</table>\n",
       "</div>"
      ],
      "text/plain": [
       "                           YeastUPS1_01  YeastUPS1_02  YeastUPS1_03  \\\n",
       "Q[-17.0265]LELAHLEHSLK,2       0.000000      0.000000           0.0   \n",
       "FKEEDEKESQR,2                  0.000000      0.000000           0.0   \n",
       "NQAALNPR,1                     0.000000      0.000000           0.0   \n",
       "KVVITAPSSTAPMFVMGVNEEK,3       0.000000      0.000000           0.0   \n",
       "IATYQER,1                      6.149747      0.000000           0.0   \n",
       "CLDHGTTEQCDNLCDK,2             0.000000      0.000000           0.0   \n",
       "TGTLTTSETAHNM[15.9949]K,2      0.000000      6.321928           0.0   \n",
       "NSAALHQAVPK,2                  0.000000      0.000000           0.0   \n",
       "GVAMNPVDHPHGGGNHQHIGK,3        0.000000      0.000000           0.0   \n",
       "DQEGDDEDGNTATGHGVK,2           0.000000      0.000000           0.0   \n",
       "\n",
       "                           YeastUPS1_04  YeastUPS1_05  YeastUPS1_06  \\\n",
       "Q[-17.0265]LELAHLEHSLK,2       0.000000      0.000000      6.357552   \n",
       "FKEEDEKESQR,2                  0.000000      6.426265      0.000000   \n",
       "NQAALNPR,1                     6.475733      0.000000      6.000000   \n",
       "KVVITAPSSTAPMFVMGVNEEK,3       6.523562      0.000000      0.000000   \n",
       "IATYQER,1                      0.000000      0.000000      0.000000   \n",
       "CLDHGTTEQCDNLCDK,2             0.000000      6.149747      0.000000   \n",
       "TGTLTTSETAHNM[15.9949]K,2      5.672425      0.000000      0.000000   \n",
       "NSAALHQAVPK,2                  0.000000      0.000000      0.000000   \n",
       "GVAMNPVDHPHGGGNHQHIGK,3        0.000000      3.169925      0.000000   \n",
       "DQEGDDEDGNTATGHGVK,2           0.000000      0.000000      0.000000   \n",
       "\n",
       "                           YeastUPS1_07  YeastUPS1_08  YeastUPS1_09  \\\n",
       "Q[-17.0265]LELAHLEHSLK,2            0.0      0.000000      0.000000   \n",
       "FKEEDEKESQR,2                       0.0      0.000000      6.507795   \n",
       "NQAALNPR,1                          0.0      0.000000      0.000000   \n",
       "KVVITAPSSTAPMFVMGVNEEK,3            0.0      5.857981      0.000000   \n",
       "IATYQER,1                           0.0      0.000000      0.000000   \n",
       "CLDHGTTEQCDNLCDK,2                  0.0      0.000000      0.000000   \n",
       "TGTLTTSETAHNM[15.9949]K,2           0.0      5.882643      0.000000   \n",
       "NSAALHQAVPK,2                       0.0      5.554589      0.000000   \n",
       "GVAMNPVDHPHGGGNHQHIGK,3             0.0      6.339850      0.000000   \n",
       "DQEGDDEDGNTATGHGVK,2                0.0      3.321928      0.000000   \n",
       "\n",
       "                           YeastUPS1_10  \n",
       "Q[-17.0265]LELAHLEHSLK,2       0.000000  \n",
       "FKEEDEKESQR,2                  5.977280  \n",
       "NQAALNPR,1                     0.000000  \n",
       "KVVITAPSSTAPMFVMGVNEEK,3       0.000000  \n",
       "IATYQER,1                      0.000000  \n",
       "CLDHGTTEQCDNLCDK,2             0.000000  \n",
       "TGTLTTSETAHNM[15.9949]K,2      0.000000  \n",
       "NSAALHQAVPK,2                  0.000000  \n",
       "GVAMNPVDHPHGGGNHQHIGK,3        0.000000  \n",
       "DQEGDDEDGNTATGHGVK,2           5.672425  "
      ]
     },
     "execution_count": 43,
     "metadata": {},
     "output_type": "execute_result"
    }
   ],
   "source": [
    "occurences_df.tail(n=10)"
   ]
  },
  {
   "cell_type": "code",
   "execution_count": 44,
   "metadata": {
    "scrolled": false
   },
   "outputs": [
    {
     "data": {
      "image/png": "[encoded data removed]",
      "text/plain": [
       "<Figure size 1080x2160 with 2 Axes>"
      ]
     },
     "metadata": {
      "needs_background": "light"
     },
     "output_type": "display_data"
    }
   ],
   "source": [
    "plt.figure(figsize=(15,30))\n",
    "a = occurences_df.to_numpy()\n",
    "hm = sns.heatmap(occurences_df, cmap=cm.batlow_r, vmin=a[a > 0].min(), vmax=a.max(), mask=(occurences_df==0), linewidths=0)\n",
    "hm.set(yticklabels=[])\n",
    "hm.set(ylabel=None)\n",
    "hm.tick_params(left=False)\n",
    "# plt.title('Lowest {} peptides by mean intensity for YeastUPS1 by TFD/E'.format(lower_number))"
   ]
  },
  {
   "cell_type": "markdown",
   "metadata": {},
   "source": [
    "#### plot YeastUPS2"
   ]
  },
  {
   "cell_type": "code",
   "execution_count": 45,
   "metadata": {},
   "outputs": [],
   "source": [
    "run_names_l = sorted(list(sequences_df[sequences_df.group == 'YeastUPS2'].short_run_name.unique()), key=lambda x: int(x.split('_')[1]))\n",
    "occurences_d = dict(zip(run_names_l, [0] * len(run_names_l)))"
   ]
  },
  {
   "cell_type": "code",
   "execution_count": 46,
   "metadata": {},
   "outputs": [],
   "source": [
    "# as a heatmap, plot the missing-ness across this group of runs\n",
    "occurences_l = []\n",
    "index_l = []\n",
    "for row in YeastUPS2_lowest_df.itertuples():\n",
    "    run_occurences_df = sequences_df[(sequences_df.sequence == row.sequence) & (sequences_df.charge == row.charge) & (sequences_df.group == row.group)]\n",
    "    occurences_d = dict(zip(run_names_l, [0] * len(run_names_l)))\n",
    "    index_l.append('{},{}'.format(row.sequence, row.charge))\n",
    "    for r in run_occurences_df.itertuples():\n",
    "        occurences_d[r.short_run_name] = np.log2(r.intensity)\n",
    "    occurences_l.append(occurences_d)\n",
    "occurences_df = pd.DataFrame(occurences_l, columns=occurences_d.keys(), index=index_l)"
   ]
  },
  {
   "cell_type": "code",
   "execution_count": 47,
   "metadata": {
    "scrolled": false
   },
   "outputs": [
    {
     "data": {
      "image/png": "[encoded data removed]",
      "text/plain": [
       "<Figure size 1080x2160 with 2 Axes>"
      ]
     },
     "metadata": {
      "needs_background": "light"
     },
     "output_type": "display_data"
    }
   ],
   "source": [
    "plt.figure(figsize=(15,30))\n",
    "a = occurences_df.to_numpy()\n",
    "hm = sns.heatmap(occurences_df, cmap=cm.batlow_r, vmin=a[a > 0].min(), vmax=a.max(), mask=(occurences_df==0), linewidths=0)\n",
    "hm.set(yticklabels=[])\n",
    "hm.set(ylabel=None)\n",
    "hm.tick_params(left=False)\n",
    "# plt.title('Lowest {} peptides by mean intensity for YeastUPS2 by TFD/E'.format(lower_number))"
   ]
  },
  {
   "cell_type": "markdown",
   "metadata": {},
   "source": [
    "## MaxQuant heatmaps"
   ]
  },
  {
   "cell_type": "code",
   "execution_count": 48,
   "metadata": {},
   "outputs": [
    {
     "data": {
      "text/plain": [
       "Index(['Sequence', 'Length', 'Modifications', 'Modified sequence',\n",
       "       'Oxidation (M) Probabilities', 'Oxidation (M) Score Diffs',\n",
       "       'Acetyl (Protein N-term)', 'Oxidation (M)', 'Missed cleavages',\n",
       "       'Proteins', 'Leading proteins', 'Leading razor protein', 'Type',\n",
       "       'Raw file', 'MS/MS m/z', 'Charge', 'm/z', 'Mass',\n",
       "       'Uncalibrated - Calibrated m/z [ppm]',\n",
       "       'Uncalibrated - Calibrated m/z [Da]', 'Mass error [ppm]',\n",
       "       'Mass error [Da]', 'Uncalibrated mass error [ppm]',\n",
       "       'Uncalibrated mass error [Da]', 'Max intensity m/z 0', 'Retention time',\n",
       "       'Retention length', 'Calibrated retention time',\n",
       "       'Calibrated retention time start', 'Calibrated retention time finish',\n",
       "       'Retention time calibration', 'Ion mobility index',\n",
       "       'Ion mobility length', '1/K0', '1/K0 length', 'Calibrated 1/K0', 'CCS',\n",
       "       'Calibrated CCS', 'CCS length', 'Match time difference',\n",
       "       'Match m/z difference', 'Match K0 difference', 'Match q-value',\n",
       "       'Match score', 'Number of data points', 'Number of scans',\n",
       "       'Number of isotopic peaks', 'PIF', 'Fraction of total spectrum',\n",
       "       'Base peak fraction', 'PEP', 'MS/MS count', 'MS/MS scan number',\n",
       "       'Score', 'Delta score', 'Combinatorics', 'Intensity', 'Reverse',\n",
       "       'Potential contaminant', 'id', 'Protein group IDs', 'Peptide ID',\n",
       "       'Mod. peptide ID', 'MS/MS IDs', 'Best MS/MS', 'Oxidation (M) site IDs',\n",
       "       'Taxonomy IDs'],\n",
       "      dtype='object')"
      ]
     },
     "execution_count": 48,
     "metadata": {},
     "output_type": "execute_result"
    }
   ],
   "source": [
    "mq_results_df.columns"
   ]
  },
  {
   "cell_type": "code",
   "execution_count": 49,
   "metadata": {},
   "outputs": [
    {
     "data": {
      "text/plain": [
       "'sp|P53207|SNU71_YEAST'"
      ]
     },
     "execution_count": 49,
     "metadata": {},
     "output_type": "execute_result"
    }
   ],
   "source": [
    "mq_results_df.iloc[1466].Proteins"
   ]
  },
  {
   "cell_type": "code",
   "execution_count": 50,
   "metadata": {},
   "outputs": [],
   "source": [
    "# get one reading for each unique peptide in each run, and count how many identifications and extractions (i.e. \n",
    "# matches) across each group. Note that a sequence can be counted as an identification and a match in the same file \n",
    "# (i.e. it's given a different score).\n",
    "mq_sequences_l = []\n",
    "unique_peptide_key_file = unique_peptide_key + ['Raw file']\n",
    "for group_name,group_df in mq_results_df.groupby(unique_peptide_key_file, as_index=False):\n",
    "    identified_in_file = (len(group_df[group_df.Type == 'TIMS-MULTI-MSMS']) > 0)\n",
    "    short_run_name = '_'.join(group_name[3].split('_Slot')[0].split('_')[1:3])\n",
    "    grp_name = short_run_name.split('_')[0]\n",
    "    sorted_df = group_df.sort_values(by=['Intensity'], ascending=False, inplace=False)\n",
    "    if identified_in_file:\n",
    "        score = sorted_df.iloc[0]['Score']\n",
    "    else:\n",
    "        score = sorted_df.iloc[0]['Match score']\n",
    "    intensity = sorted_df.iloc[0].Intensity\n",
    "    protein = sorted_df.iloc[0].Proteins\n",
    "    species = classify_protein(protein)\n",
    "    mq_sequences_l.append((group_name[0], group_name[1], group_name[2], species, short_run_name, grp_name, identified_in_file, score, intensity))\n",
    "mq_sequences_df = pd.DataFrame(mq_sequences_l, columns=['sequence','modifications','charge','species','short_run_name','group','identified_in_file','score','intensity'])\n"
   ]
  },
  {
   "cell_type": "code",
   "execution_count": 51,
   "metadata": {},
   "outputs": [
    {
     "data": {
      "text/html": [
       "<div>\n",
       "<style scoped>\n",
       "    .dataframe tbody tr th:only-of-type {\n",
       "        vertical-align: middle;\n",
       "    }\n",
       "\n",
       "    .dataframe tbody tr th {\n",
       "        vertical-align: top;\n",
       "    }\n",
       "\n",
       "    .dataframe thead th {\n",
       "        text-align: right;\n",
       "    }\n",
       "</style>\n",
       "<table border=\"1\" class=\"dataframe\">\n",
       "  <thead>\n",
       "    <tr style=\"text-align: right;\">\n",
       "      <th></th>\n",
       "      <th>sequence</th>\n",
       "      <th>modifications</th>\n",
       "      <th>charge</th>\n",
       "      <th>species</th>\n",
       "      <th>short_run_name</th>\n",
       "      <th>group</th>\n",
       "      <th>identified_in_file</th>\n",
       "      <th>score</th>\n",
       "      <th>intensity</th>\n",
       "    </tr>\n",
       "  </thead>\n",
       "  <tbody>\n",
       "    <tr>\n",
       "      <th>131593</th>\n",
       "      <td>TVHVPGTTVTHTVR</td>\n",
       "      <td>Unmodified</td>\n",
       "      <td>2</td>\n",
       "      <td>Yeast</td>\n",
       "      <td>YeastUPS1_01</td>\n",
       "      <td>YeastUPS1</td>\n",
       "      <td>True</td>\n",
       "      <td>103.69</td>\n",
       "      <td>97895.0</td>\n",
       "    </tr>\n",
       "    <tr>\n",
       "      <th>110818</th>\n",
       "      <td>SESSISSSKPSVELPQATWSHLQR</td>\n",
       "      <td>Acetyl (Protein N-term)</td>\n",
       "      <td>3</td>\n",
       "      <td>Yeast</td>\n",
       "      <td>YeastUPS1_04</td>\n",
       "      <td>YeastUPS1</td>\n",
       "      <td>True</td>\n",
       "      <td>155.75</td>\n",
       "      <td>361840.0</td>\n",
       "    </tr>\n",
       "    <tr>\n",
       "      <th>138562</th>\n",
       "      <td>VNDNNDDDDWNEPELK</td>\n",
       "      <td>Unmodified</td>\n",
       "      <td>2</td>\n",
       "      <td>Yeast</td>\n",
       "      <td>YeastUPS2_05</td>\n",
       "      <td>YeastUPS2</td>\n",
       "      <td>True</td>\n",
       "      <td>122.20</td>\n",
       "      <td>335980.0</td>\n",
       "    </tr>\n",
       "    <tr>\n",
       "      <th>1113</th>\n",
       "      <td>ADGESCSASMMYQEGK</td>\n",
       "      <td>Unmodified</td>\n",
       "      <td>2</td>\n",
       "      <td>Human</td>\n",
       "      <td>YeastUPS1_04</td>\n",
       "      <td>YeastUPS1</td>\n",
       "      <td>True</td>\n",
       "      <td>174.05</td>\n",
       "      <td>35969.0</td>\n",
       "    </tr>\n",
       "    <tr>\n",
       "      <th>23468</th>\n",
       "      <td>EFLIKPLHLQGSTASK</td>\n",
       "      <td>Unmodified</td>\n",
       "      <td>2</td>\n",
       "      <td>Yeast</td>\n",
       "      <td>YeastUPS1_03</td>\n",
       "      <td>YeastUPS1</td>\n",
       "      <td>False</td>\n",
       "      <td>140.08</td>\n",
       "      <td>20971.0</td>\n",
       "    </tr>\n",
       "  </tbody>\n",
       "</table>\n",
       "</div>"
      ],
      "text/plain": [
       "                        sequence            modifications  charge species  \\\n",
       "131593            TVHVPGTTVTHTVR               Unmodified       2   Yeast   \n",
       "110818  SESSISSSKPSVELPQATWSHLQR  Acetyl (Protein N-term)       3   Yeast   \n",
       "138562          VNDNNDDDDWNEPELK               Unmodified       2   Yeast   \n",
       "1113            ADGESCSASMMYQEGK               Unmodified       2   Human   \n",
       "23468           EFLIKPLHLQGSTASK               Unmodified       2   Yeast   \n",
       "\n",
       "       short_run_name      group  identified_in_file   score  intensity  \n",
       "131593   YeastUPS1_01  YeastUPS1                True  103.69    97895.0  \n",
       "110818   YeastUPS1_04  YeastUPS1                True  155.75   361840.0  \n",
       "138562   YeastUPS2_05  YeastUPS2                True  122.20   335980.0  \n",
       "1113     YeastUPS1_04  YeastUPS1                True  174.05    35969.0  \n",
       "23468    YeastUPS1_03  YeastUPS1               False  140.08    20971.0  "
      ]
     },
     "execution_count": 51,
     "metadata": {},
     "output_type": "execute_result"
    }
   ],
   "source": [
    "mq_sequences_df.sample(n=5)"
   ]
  },
  {
   "cell_type": "code",
   "execution_count": 52,
   "metadata": {},
   "outputs": [],
   "source": [
    "# find the mean intensity for each peptide in each group\n",
    "mq_intensities_l = []\n",
    "for group_name,group_df in mq_sequences_df.groupby(['sequence','modifications','charge','group'], as_index=False):\n",
    "    mean_intensity = group_df.intensity.mean()\n",
    "    mq_intensities_l.append((group_name[0], group_name[1], group_name[2], group_name[3], mean_intensity))\n",
    "mq_intensities_df = pd.DataFrame(mq_intensities_l, columns=['sequence', 'modifications', 'charge', 'group', 'group_mean_intensity'])"
   ]
  },
  {
   "cell_type": "code",
   "execution_count": 53,
   "metadata": {},
   "outputs": [],
   "source": [
    "# sort each group by descending intensity\n",
    "mq_intensities_df.sort_values(by=['group_mean_intensity'], ascending=False, inplace=True)"
   ]
  },
  {
   "cell_type": "code",
   "execution_count": 54,
   "metadata": {},
   "outputs": [
    {
     "data": {
      "text/html": [
       "<div>\n",
       "<style scoped>\n",
       "    .dataframe tbody tr th:only-of-type {\n",
       "        vertical-align: middle;\n",
       "    }\n",
       "\n",
       "    .dataframe tbody tr th {\n",
       "        vertical-align: top;\n",
       "    }\n",
       "\n",
       "    .dataframe thead th {\n",
       "        text-align: right;\n",
       "    }\n",
       "</style>\n",
       "<table border=\"1\" class=\"dataframe\">\n",
       "  <thead>\n",
       "    <tr style=\"text-align: right;\">\n",
       "      <th></th>\n",
       "      <th>sequence</th>\n",
       "      <th>modifications</th>\n",
       "      <th>charge</th>\n",
       "      <th>group</th>\n",
       "      <th>group_mean_intensity</th>\n",
       "    </tr>\n",
       "  </thead>\n",
       "  <tbody>\n",
       "    <tr>\n",
       "      <th>15327</th>\n",
       "      <td>SSGSTPIYSLNHDQPVENVIAVSPTQIVSCGGNNFK</td>\n",
       "      <td>Unmodified</td>\n",
       "      <td>3</td>\n",
       "      <td>YeastUPS1</td>\n",
       "      <td>1241.5</td>\n",
       "    </tr>\n",
       "    <tr>\n",
       "      <th>16941</th>\n",
       "      <td>TTALELLTVFSENAPQMCK</td>\n",
       "      <td>Unmodified</td>\n",
       "      <td>2</td>\n",
       "      <td>YeastUPS1</td>\n",
       "      <td>1239.3</td>\n",
       "    </tr>\n",
       "    <tr>\n",
       "      <th>19589</th>\n",
       "      <td>YYNDVILHK</td>\n",
       "      <td>Unmodified</td>\n",
       "      <td>2</td>\n",
       "      <td>YeastUPS2</td>\n",
       "      <td>1236.5</td>\n",
       "    </tr>\n",
       "    <tr>\n",
       "      <th>13623</th>\n",
       "      <td>QTEIAQHIFTK</td>\n",
       "      <td>Unmodified</td>\n",
       "      <td>2</td>\n",
       "      <td>YeastUPS2</td>\n",
       "      <td>1204.5</td>\n",
       "    </tr>\n",
       "    <tr>\n",
       "      <th>11257</th>\n",
       "      <td>MPLVGLGCWK</td>\n",
       "      <td>Unmodified</td>\n",
       "      <td>2</td>\n",
       "      <td>YeastUPS1</td>\n",
       "      <td>1198.5</td>\n",
       "    </tr>\n",
       "  </tbody>\n",
       "</table>\n",
       "</div>"
      ],
      "text/plain": [
       "                                   sequence modifications  charge      group  \\\n",
       "15327  SSGSTPIYSLNHDQPVENVIAVSPTQIVSCGGNNFK    Unmodified       3  YeastUPS1   \n",
       "16941                   TTALELLTVFSENAPQMCK    Unmodified       2  YeastUPS1   \n",
       "19589                             YYNDVILHK    Unmodified       2  YeastUPS2   \n",
       "13623                           QTEIAQHIFTK    Unmodified       2  YeastUPS2   \n",
       "11257                            MPLVGLGCWK    Unmodified       2  YeastUPS1   \n",
       "\n",
       "       group_mean_intensity  \n",
       "15327                1241.5  \n",
       "16941                1239.3  \n",
       "19589                1236.5  \n",
       "13623                1204.5  \n",
       "11257                1198.5  "
      ]
     },
     "execution_count": 54,
     "metadata": {},
     "output_type": "execute_result"
    }
   ],
   "source": [
    "mq_intensities_df.tail()"
   ]
  },
  {
   "cell_type": "code",
   "execution_count": 55,
   "metadata": {},
   "outputs": [],
   "source": [
    "# make a separate DF for each group\n",
    "YeastUPS1_df = mq_intensities_df[(mq_intensities_df.group == 'YeastUPS1')].copy()\n",
    "YeastUPS2_df = mq_intensities_df[(mq_intensities_df.group == 'YeastUPS2')].copy()"
   ]
  },
  {
   "cell_type": "code",
   "execution_count": 56,
   "metadata": {},
   "outputs": [],
   "source": [
    "# find the lowest-intensity peptides in each group\n",
    "lower_number = 500\n",
    "YeastUPS1_lowest_df = YeastUPS1_df.tail(lower_number)\n",
    "YeastUPS2_lowest_df = YeastUPS2_df.tail(lower_number)"
   ]
  },
  {
   "cell_type": "markdown",
   "metadata": {},
   "source": [
    "#### plot YeastUPS1"
   ]
  },
  {
   "cell_type": "code",
   "execution_count": 57,
   "metadata": {},
   "outputs": [],
   "source": [
    "run_names_l = sorted(list(mq_sequences_df[mq_sequences_df.group == 'YeastUPS1'].short_run_name.unique()), key=lambda x: int(x.split('_')[1]))\n",
    "occurences_d = dict(zip(run_names_l, [0] * len(run_names_l)))"
   ]
  },
  {
   "cell_type": "code",
   "execution_count": 58,
   "metadata": {},
   "outputs": [],
   "source": [
    "# as a heatmap, plot the missing-ness across this group of runs\n",
    "occurences_l = []\n",
    "index_l = []\n",
    "for row in YeastUPS1_lowest_df.itertuples():\n",
    "    run_occurences_df = mq_sequences_df[(mq_sequences_df.sequence == row.sequence) & (mq_sequences_df.modifications == row.modifications) & (mq_sequences_df.charge == row.charge) & (mq_sequences_df.group == row.group)]\n",
    "    occurences_d = dict(zip(run_names_l, [0] * len(run_names_l)))\n",
    "    index_l.append('{},{}'.format(row.sequence, row.charge))\n",
    "    for r in run_occurences_df.itertuples():\n",
    "        occurences_d[r.short_run_name] = np.log2(r.intensity)\n",
    "    occurences_l.append(occurences_d)\n",
    "occurences_df = pd.DataFrame(occurences_l, columns=occurences_d.keys(), index=index_l)"
   ]
  },
  {
   "cell_type": "code",
   "execution_count": 59,
   "metadata": {
    "scrolled": false
   },
   "outputs": [
    {
     "data": {
      "image/png": "[encoded data removed]",
      "text/plain": [
       "<Figure size 1080x2160 with 2 Axes>"
      ]
     },
     "metadata": {
      "needs_background": "light"
     },
     "output_type": "display_data"
    }
   ],
   "source": [
    "plt.figure(figsize=(15,30))\n",
    "a = occurences_df.to_numpy()\n",
    "hm = sns.heatmap(occurences_df, cmap=cm.batlow_r, vmin=a[a > 0].min(), vmax=a.max(), mask=(occurences_df==0), linewidths=0)\n",
    "hm.set(yticklabels=[])\n",
    "hm.set(ylabel=None)\n",
    "hm.tick_params(left=False)\n",
    "# plt.title('Lowest {} peptides by mean intensity for YeastUPS1 by MaxQuant'.format(lower_number))\n"
   ]
  },
  {
   "cell_type": "markdown",
   "metadata": {},
   "source": [
    "#### plot YeastUPS2"
   ]
  },
  {
   "cell_type": "code",
   "execution_count": 60,
   "metadata": {},
   "outputs": [],
   "source": [
    "run_names_l = sorted(list(mq_sequences_df[mq_sequences_df.group == 'YeastUPS2'].short_run_name.unique()), key=lambda x: int(x.split('_')[1]))\n",
    "occurences_d = dict(zip(run_names_l, [0] * len(run_names_l)))"
   ]
  },
  {
   "cell_type": "code",
   "execution_count": 61,
   "metadata": {},
   "outputs": [],
   "source": [
    "# as a heatmap, plot the missing-ness across this group of runs\n",
    "occurences_l = []\n",
    "index_l = []\n",
    "for row in YeastUPS2_lowest_df.itertuples():\n",
    "    run_occurences_df = mq_sequences_df[(mq_sequences_df.sequence == row.sequence) & (mq_sequences_df.modifications == row.modifications) & (mq_sequences_df.charge == row.charge) & (mq_sequences_df.group == row.group)]\n",
    "    occurences_d = dict(zip(run_names_l, [0] * len(run_names_l)))\n",
    "    index_l.append('{},{}'.format(row.sequence, row.charge))\n",
    "    for r in run_occurences_df.itertuples():\n",
    "        occurences_d[r.short_run_name] = np.log2(r.intensity)\n",
    "    occurences_l.append(occurences_d)\n",
    "occurences_df = pd.DataFrame(occurences_l, columns=occurences_d.keys(), index=index_l)"
   ]
  },
  {
   "cell_type": "code",
   "execution_count": 62,
   "metadata": {
    "scrolled": false
   },
   "outputs": [
    {
     "data": {
      "image/png": "[encoded data removed]",
      "text/plain": [
       "<Figure size 1080x2160 with 2 Axes>"
      ]
     },
     "metadata": {
      "needs_background": "light"
     },
     "output_type": "display_data"
    }
   ],
   "source": [
    "plt.figure(figsize=(15,30))\n",
    "a = occurences_df.to_numpy()\n",
    "hm = sns.heatmap(occurences_df, cmap=cm.batlow_r, vmin=a[a > 0].min(), vmax=a.max(), mask=(occurences_df==0), linewidths=0)\n",
    "hm.set(yticklabels=[])\n",
    "hm.set(ylabel=None)\n",
    "hm.tick_params(left=False)\n",
    "# plt.title('Lowest {} peptides by mean intensity for YeastUPS2 by MaxQuant'.format(lower_number))"
   ]
  },
  {
   "cell_type": "markdown",
   "metadata": {},
   "source": [
    "## Fragger heatmaps"
   ]
  },
  {
   "cell_type": "code",
   "execution_count": 63,
   "metadata": {},
   "outputs": [],
   "source": [
    "# use the analysis with MBR\n",
    "# FRAGGER_RESULTS_DIR = '{}'.format(expanduser('~'))\n",
    "FRAGGER_RESULTS_DIR = '{}/Downloads/experiments'.format(expanduser('~'))\n",
    "\n",
    "fragger_results_df = pd.read_csv('{}/MSFragger-analysis-P3830/P3830-results/MSstats.csv'.format(FRAGGER_RESULTS_DIR), sep=',')"
   ]
  },
  {
   "cell_type": "code",
   "execution_count": 64,
   "metadata": {},
   "outputs": [
    {
     "data": {
      "text/plain": [
       "Index(['ProteinName', 'PeptideSequence', 'PrecursorCharge', 'FragmentIon',\n",
       "       'ProductCharge', 'IsotopeLabelType', 'Condition', 'BioReplicate', 'Run',\n",
       "       'Intensity'],\n",
       "      dtype='object')"
      ]
     },
     "execution_count": 64,
     "metadata": {},
     "output_type": "execute_result"
    }
   ],
   "source": [
    "fragger_sequences_df = fragger_results_df.copy()\n",
    "fragger_sequences_df.columns"
   ]
  },
  {
   "cell_type": "code",
   "execution_count": 65,
   "metadata": {},
   "outputs": [],
   "source": [
    "condition_mapping_d = {'YUPS1':'YeastUPS1', 'YUPS2':'YeastUPS2'}"
   ]
  },
  {
   "cell_type": "code",
   "execution_count": 66,
   "metadata": {},
   "outputs": [],
   "source": [
    "fragger_sequences_df['short_run_name'] = fragger_sequences_df.apply(lambda row: '_'.join(row.Run.split('_Slot')[0].split('_')[1:3]), axis=1)\n",
    "fragger_sequences_df['group'] = fragger_sequences_df.apply(lambda row: condition_mapping_d[row.Condition], axis=1)"
   ]
  },
  {
   "cell_type": "code",
   "execution_count": 67,
   "metadata": {},
   "outputs": [],
   "source": [
    "fragger_sequences_df['species'] = fragger_sequences_df.apply(lambda row: classify_protein(row.ProteinName), axis=1)"
   ]
  },
  {
   "cell_type": "code",
   "execution_count": 68,
   "metadata": {},
   "outputs": [],
   "source": [
    "fragger_sequences_df = fragger_sequences_df[fragger_sequences_df.Intensity.notnull()]\n",
    "fragger_sequences_df = fragger_sequences_df[fragger_sequences_df.Intensity > 0]"
   ]
  },
  {
   "cell_type": "code",
   "execution_count": 69,
   "metadata": {},
   "outputs": [
    {
     "data": {
      "text/html": [
       "<div>\n",
       "<style scoped>\n",
       "    .dataframe tbody tr th:only-of-type {\n",
       "        vertical-align: middle;\n",
       "    }\n",
       "\n",
       "    .dataframe tbody tr th {\n",
       "        vertical-align: top;\n",
       "    }\n",
       "\n",
       "    .dataframe thead th {\n",
       "        text-align: right;\n",
       "    }\n",
       "</style>\n",
       "<table border=\"1\" class=\"dataframe\">\n",
       "  <thead>\n",
       "    <tr style=\"text-align: right;\">\n",
       "      <th></th>\n",
       "      <th>ProteinName</th>\n",
       "      <th>PeptideSequence</th>\n",
       "      <th>PrecursorCharge</th>\n",
       "      <th>FragmentIon</th>\n",
       "      <th>ProductCharge</th>\n",
       "      <th>IsotopeLabelType</th>\n",
       "      <th>Condition</th>\n",
       "      <th>BioReplicate</th>\n",
       "      <th>Run</th>\n",
       "      <th>Intensity</th>\n",
       "      <th>short_run_name</th>\n",
       "      <th>group</th>\n",
       "      <th>species</th>\n",
       "    </tr>\n",
       "  </thead>\n",
       "  <tbody>\n",
       "    <tr>\n",
       "      <th>215090</th>\n",
       "      <td>sp|P50085|PHB2_YEAST</td>\n",
       "      <td>IFNEGTHFIFPWLDTPIIYDVR</td>\n",
       "      <td>3</td>\n",
       "      <td>NaN</td>\n",
       "      <td>NaN</td>\n",
       "      <td>L</td>\n",
       "      <td>YUPS2</td>\n",
       "      <td>1</td>\n",
       "      <td>P3830_YeastUPS2_01_Slot1-1_1_5082</td>\n",
       "      <td>5615.2007</td>\n",
       "      <td>YeastUPS2_01</td>\n",
       "      <td>YeastUPS2</td>\n",
       "      <td>Yeast</td>\n",
       "    </tr>\n",
       "    <tr>\n",
       "      <th>95782</th>\n",
       "      <td>sp|P25349|YCP4_YEAST</td>\n",
       "      <td>QTKPAAATTAEK</td>\n",
       "      <td>2</td>\n",
       "      <td>NaN</td>\n",
       "      <td>NaN</td>\n",
       "      <td>L</td>\n",
       "      <td>YUPS1</td>\n",
       "      <td>3</td>\n",
       "      <td>P3830_YeastUPS1_03_Slot1-1_1_5068</td>\n",
       "      <td>12674.5340</td>\n",
       "      <td>YeastUPS1_03</td>\n",
       "      <td>YeastUPS1</td>\n",
       "      <td>Yeast</td>\n",
       "    </tr>\n",
       "    <tr>\n",
       "      <th>51348</th>\n",
       "      <td>sp|P10659|METK1_YEAST</td>\n",
       "      <td>IIVDAYGGASSVGGGAFSGK</td>\n",
       "      <td>2</td>\n",
       "      <td>NaN</td>\n",
       "      <td>NaN</td>\n",
       "      <td>L</td>\n",
       "      <td>YUPS1</td>\n",
       "      <td>9</td>\n",
       "      <td>P3830_YeastUPS1_09_Slot1-1_1_5079</td>\n",
       "      <td>81208.1200</td>\n",
       "      <td>YeastUPS1_09</td>\n",
       "      <td>YeastUPS1</td>\n",
       "      <td>Yeast</td>\n",
       "    </tr>\n",
       "  </tbody>\n",
       "</table>\n",
       "</div>"
      ],
      "text/plain": [
       "                  ProteinName         PeptideSequence  PrecursorCharge  \\\n",
       "215090   sp|P50085|PHB2_YEAST  IFNEGTHFIFPWLDTPIIYDVR                3   \n",
       "95782    sp|P25349|YCP4_YEAST            QTKPAAATTAEK                2   \n",
       "51348   sp|P10659|METK1_YEAST    IIVDAYGGASSVGGGAFSGK                2   \n",
       "\n",
       "        FragmentIon  ProductCharge IsotopeLabelType Condition  BioReplicate  \\\n",
       "215090          NaN            NaN                L     YUPS2             1   \n",
       "95782           NaN            NaN                L     YUPS1             3   \n",
       "51348           NaN            NaN                L     YUPS1             9   \n",
       "\n",
       "                                      Run   Intensity short_run_name  \\\n",
       "215090  P3830_YeastUPS2_01_Slot1-1_1_5082   5615.2007   YeastUPS2_01   \n",
       "95782   P3830_YeastUPS1_03_Slot1-1_1_5068  12674.5340   YeastUPS1_03   \n",
       "51348   P3830_YeastUPS1_09_Slot1-1_1_5079  81208.1200   YeastUPS1_09   \n",
       "\n",
       "            group species  \n",
       "215090  YeastUPS2   Yeast  \n",
       "95782   YeastUPS1   Yeast  \n",
       "51348   YeastUPS1   Yeast  "
      ]
     },
     "execution_count": 69,
     "metadata": {},
     "output_type": "execute_result"
    }
   ],
   "source": [
    "fragger_sequences_df.sample(n=3)"
   ]
  },
  {
   "cell_type": "code",
   "execution_count": 70,
   "metadata": {},
   "outputs": [],
   "source": [
    "# find the mean intensity for each peptide in each group\n",
    "fragger_intensities_l = []\n",
    "for group_name,group_df in fragger_sequences_df.groupby(['PeptideSequence','PrecursorCharge','group'], as_index=False):\n",
    "    mean_intensity = group_df.Intensity.mean()\n",
    "    fragger_intensities_l.append((group_name[0], group_name[1], group_name[2], mean_intensity))\n",
    "fragger_intensities_df = pd.DataFrame(fragger_intensities_l, columns=['sequence', 'charge', 'group', 'group_mean_intensity'])"
   ]
  },
  {
   "cell_type": "code",
   "execution_count": 71,
   "metadata": {},
   "outputs": [],
   "source": [
    "# sort each group by descending intensity\n",
    "fragger_intensities_df.sort_values(by=['group_mean_intensity'], ascending=False, inplace=True)"
   ]
  },
  {
   "cell_type": "code",
   "execution_count": 72,
   "metadata": {},
   "outputs": [
    {
     "data": {
      "text/html": [
       "<div>\n",
       "<style scoped>\n",
       "    .dataframe tbody tr th:only-of-type {\n",
       "        vertical-align: middle;\n",
       "    }\n",
       "\n",
       "    .dataframe tbody tr th {\n",
       "        vertical-align: top;\n",
       "    }\n",
       "\n",
       "    .dataframe thead th {\n",
       "        text-align: right;\n",
       "    }\n",
       "</style>\n",
       "<table border=\"1\" class=\"dataframe\">\n",
       "  <thead>\n",
       "    <tr style=\"text-align: right;\">\n",
       "      <th></th>\n",
       "      <th>sequence</th>\n",
       "      <th>charge</th>\n",
       "      <th>group</th>\n",
       "      <th>group_mean_intensity</th>\n",
       "    </tr>\n",
       "  </thead>\n",
       "  <tbody>\n",
       "    <tr>\n",
       "      <th>7817</th>\n",
       "      <td>GSGWNGSDAVHTNMTNTR</td>\n",
       "      <td>2</td>\n",
       "      <td>YeastUPS2</td>\n",
       "      <td>199.496485</td>\n",
       "    </tr>\n",
       "    <tr>\n",
       "      <th>7036</th>\n",
       "      <td>GFLDENDILSLYGLNR</td>\n",
       "      <td>2</td>\n",
       "      <td>YeastUPS2</td>\n",
       "      <td>166.179000</td>\n",
       "    </tr>\n",
       "    <tr>\n",
       "      <th>18982</th>\n",
       "      <td>SISYNPSQHSVLVNEANGK</td>\n",
       "      <td>2</td>\n",
       "      <td>YeastUPS1</td>\n",
       "      <td>158.717500</td>\n",
       "    </tr>\n",
       "    <tr>\n",
       "      <th>4677</th>\n",
       "      <td>ELQGIDPDETVPDNVK</td>\n",
       "      <td>2</td>\n",
       "      <td>YeastUPS2</td>\n",
       "      <td>152.408000</td>\n",
       "    </tr>\n",
       "    <tr>\n",
       "      <th>13103</th>\n",
       "      <td>LGNGISSEQLLDK</td>\n",
       "      <td>2</td>\n",
       "      <td>YeastUPS1</td>\n",
       "      <td>113.255490</td>\n",
       "    </tr>\n",
       "  </tbody>\n",
       "</table>\n",
       "</div>"
      ],
      "text/plain": [
       "                  sequence  charge      group  group_mean_intensity\n",
       "7817    GSGWNGSDAVHTNMTNTR       2  YeastUPS2            199.496485\n",
       "7036      GFLDENDILSLYGLNR       2  YeastUPS2            166.179000\n",
       "18982  SISYNPSQHSVLVNEANGK       2  YeastUPS1            158.717500\n",
       "4677      ELQGIDPDETVPDNVK       2  YeastUPS2            152.408000\n",
       "13103        LGNGISSEQLLDK       2  YeastUPS1            113.255490"
      ]
     },
     "execution_count": 72,
     "metadata": {},
     "output_type": "execute_result"
    }
   ],
   "source": [
    "fragger_intensities_df.tail()"
   ]
  },
  {
   "cell_type": "code",
   "execution_count": 73,
   "metadata": {},
   "outputs": [],
   "source": [
    "# make a separate DF for each group\n",
    "YeastUPS1_df = fragger_intensities_df[(fragger_intensities_df.group == 'YeastUPS1')].copy()\n",
    "YeastUPS2_df = fragger_intensities_df[(fragger_intensities_df.group == 'YeastUPS2')].copy()"
   ]
  },
  {
   "cell_type": "code",
   "execution_count": 74,
   "metadata": {},
   "outputs": [],
   "source": [
    "# find the lowest-intensity peptides in each group\n",
    "lower_number = 500\n",
    "YeastUPS1_lowest_df = YeastUPS1_df.tail(lower_number)\n",
    "YeastUPS2_lowest_df = YeastUPS2_df.tail(lower_number)"
   ]
  },
  {
   "cell_type": "markdown",
   "metadata": {},
   "source": [
    "#### plot YeastUPS1"
   ]
  },
  {
   "cell_type": "code",
   "execution_count": 75,
   "metadata": {},
   "outputs": [],
   "source": [
    "run_names_l = sorted(list(fragger_sequences_df[fragger_sequences_df.group == 'YeastUPS1'].short_run_name.unique()), key=lambda x: int(x.split('_')[1]))\n",
    "occurences_d = dict(zip(run_names_l, [0] * len(run_names_l)))"
   ]
  },
  {
   "cell_type": "code",
   "execution_count": 76,
   "metadata": {},
   "outputs": [],
   "source": [
    "# as a heatmap, plot the missing-ness across this group of runs\n",
    "occurences_l = []\n",
    "index_l = []\n",
    "for row in YeastUPS1_lowest_df.itertuples():\n",
    "    run_occurences_df = fragger_sequences_df[(fragger_sequences_df.PeptideSequence == row.sequence) & (fragger_sequences_df.PrecursorCharge == row.charge) & (fragger_sequences_df.group == row.group)]\n",
    "    occurences_d = dict(zip(run_names_l, [0] * len(run_names_l)))\n",
    "    index_l.append('{},{}'.format(row.sequence, row.charge))\n",
    "    for r in run_occurences_df.itertuples():\n",
    "        occurences_d[r.short_run_name] = np.log2(r.Intensity)\n",
    "    occurences_l.append(occurences_d)\n",
    "occurences_df = pd.DataFrame(occurences_l, columns=occurences_d.keys(), index=index_l)"
   ]
  },
  {
   "cell_type": "code",
   "execution_count": 77,
   "metadata": {
    "scrolled": false
   },
   "outputs": [
    {
     "data": {
      "image/png": "[encoded data removed]",
      "text/plain": [
       "<Figure size 1080x2160 with 2 Axes>"
      ]
     },
     "metadata": {
      "needs_background": "light"
     },
     "output_type": "display_data"
    }
   ],
   "source": [
    "plt.figure(figsize=(15,30))\n",
    "a = occurences_df.to_numpy()\n",
    "hm = sns.heatmap(occurences_df, cmap=cm.batlow_r, vmin=a[a > 0].min(), vmax=a.max(), mask=(occurences_df==0), linewidths=0)\n",
    "hm.set(yticklabels=[])\n",
    "hm.set(ylabel=None)\n",
    "hm.tick_params(left=False)\n",
    "# plt.title('Lowest {} peptides by mean intensity for YeastUPS1 by MSFragger'.format(lower_number))"
   ]
  },
  {
   "cell_type": "markdown",
   "metadata": {},
   "source": [
    "#### plot YeastUPS2"
   ]
  },
  {
   "cell_type": "code",
   "execution_count": 78,
   "metadata": {},
   "outputs": [],
   "source": [
    "run_names_l = sorted(list(fragger_sequences_df[fragger_sequences_df.group == 'YeastUPS2'].short_run_name.unique()), key=lambda x: int(x.split('_')[1]))\n",
    "occurences_d = dict(zip(run_names_l, [0] * len(run_names_l)))"
   ]
  },
  {
   "cell_type": "code",
   "execution_count": 79,
   "metadata": {},
   "outputs": [],
   "source": [
    "# as a heatmap, plot the missing-ness across this group of runs\n",
    "occurences_l = []\n",
    "index_l = []\n",
    "for row in YeastUPS2_lowest_df.itertuples():\n",
    "    run_occurences_df = fragger_sequences_df[(fragger_sequences_df.PeptideSequence == row.sequence) & (fragger_sequences_df.PrecursorCharge == row.charge) & (fragger_sequences_df.group == row.group)]\n",
    "    occurences_d = dict(zip(run_names_l, [0] * len(run_names_l)))\n",
    "    index_l.append('{},{}'.format(row.sequence, row.charge))\n",
    "    for r in run_occurences_df.itertuples():\n",
    "        occurences_d[r.short_run_name] = np.log2(r.Intensity)\n",
    "    occurences_l.append(occurences_d)\n",
    "occurences_df = pd.DataFrame(occurences_l, columns=occurences_d.keys(), index=index_l)"
   ]
  },
  {
   "cell_type": "code",
   "execution_count": 80,
   "metadata": {
    "scrolled": false
   },
   "outputs": [
    {
     "data": {
      "image/png": "[encoded data removed]",
      "text/plain": [
       "<Figure size 1080x2160 with 2 Axes>"
      ]
     },
     "metadata": {
      "needs_background": "light"
     },
     "output_type": "display_data"
    }
   ],
   "source": [
    "plt.figure(figsize=(15,30))\n",
    "a = occurences_df.to_numpy()\n",
    "hm = sns.heatmap(occurences_df, cmap=cm.batlow_r, vmin=a[a > 0].min(), vmax=a.max(), mask=(occurences_df==0), linewidths=0)\n",
    "hm.set(yticklabels=[])\n",
    "hm.set(ylabel=None)\n",
    "hm.tick_params(left=False)\n",
    "# plt.title('Lowest {} peptides by intensity for YeastUPS2 by MSFragger'.format(lower_number))"
   ]
  },
  {
   "cell_type": "markdown",
   "metadata": {},
   "source": [
    "## visualise the percentage of missing values across runs"
   ]
  },
  {
   "cell_type": "markdown",
   "metadata": {},
   "source": [
    "#### prepare TFD/E results"
   ]
  },
  {
   "cell_type": "code",
   "execution_count": 81,
   "metadata": {},
   "outputs": [],
   "source": [
    "subset_groups = ['YeastUPS1']"
   ]
  },
  {
   "cell_type": "code",
   "execution_count": 82,
   "metadata": {},
   "outputs": [],
   "source": [
    "tfde_subset_df = sequences_df[(sequences_df.group.isin(subset_groups))]"
   ]
  },
  {
   "cell_type": "code",
   "execution_count": 83,
   "metadata": {},
   "outputs": [
    {
     "name": "stdout",
     "output_type": "stream",
     "text": [
      "there are 10 ['YeastUPS1'] runs in the experiment\n"
     ]
    }
   ],
   "source": [
    "number_of_runs_in_subset = len(tfde_subset_df.short_run_name.unique())\n",
    "print('there are {} {} runs in the experiment'.format(number_of_runs_in_subset, subset_groups))"
   ]
  },
  {
   "cell_type": "code",
   "execution_count": 84,
   "metadata": {},
   "outputs": [
    {
     "data": {
      "text/plain": [
       "12478"
      ]
     },
     "execution_count": 84,
     "metadata": {},
     "output_type": "execute_result"
    }
   ],
   "source": [
    "number_of_unique_sequences_tfde = len(tfde_subset_df.drop_duplicates(subset=['sequence', 'charge'], keep='first', inplace=False))\n",
    "number_of_unique_sequences_tfde"
   ]
  },
  {
   "cell_type": "code",
   "execution_count": 85,
   "metadata": {},
   "outputs": [],
   "source": [
    "# count how many runs each sequence/charge was extracted from and classified as a target\n",
    "sequence_occurences_l = []\n",
    "for group_name,group_df in tfde_subset_df.groupby(['sequence','charge'], as_index=False):\n",
    "    sequence_occurences_l.append((group_name, len(group_df.short_run_name.unique()), group_name[0], group_name[1]))\n",
    "tfde_sequence_occurences_df = pd.DataFrame(sequence_occurences_l, columns=['sequence_charge','number_of_runs_extracted','sequence','charge'])"
   ]
  },
  {
   "cell_type": "code",
   "execution_count": 86,
   "metadata": {},
   "outputs": [],
   "source": [
    "tfde_sequence_occurences_df['missing_files'] = number_of_runs_in_subset - tfde_sequence_occurences_df.number_of_runs_extracted"
   ]
  },
  {
   "cell_type": "code",
   "execution_count": 87,
   "metadata": {},
   "outputs": [],
   "source": [
    "# display the number of missing values across the subset\n",
    "tfde_missing_values = tfde_sequence_occurences_df.missing_files.sum() / (len(tfde_sequence_occurences_df) * number_of_runs_in_subset)"
   ]
  },
  {
   "cell_type": "code",
   "execution_count": 88,
   "metadata": {},
   "outputs": [
    {
     "data": {
      "text/html": [
       "<div>\n",
       "<style scoped>\n",
       "    .dataframe tbody tr th:only-of-type {\n",
       "        vertical-align: middle;\n",
       "    }\n",
       "\n",
       "    .dataframe tbody tr th {\n",
       "        vertical-align: top;\n",
       "    }\n",
       "\n",
       "    .dataframe thead th {\n",
       "        text-align: right;\n",
       "    }\n",
       "</style>\n",
       "<table border=\"1\" class=\"dataframe\">\n",
       "  <thead>\n",
       "    <tr style=\"text-align: right;\">\n",
       "      <th></th>\n",
       "      <th>sequence_charge</th>\n",
       "      <th>number_of_runs_extracted</th>\n",
       "      <th>sequence</th>\n",
       "      <th>charge</th>\n",
       "      <th>missing_files</th>\n",
       "    </tr>\n",
       "  </thead>\n",
       "  <tbody>\n",
       "    <tr>\n",
       "      <th>8150</th>\n",
       "      <td>(QEASQM[15.9949]AAMAEK, 2)</td>\n",
       "      <td>5</td>\n",
       "      <td>QEASQM[15.9949]AAMAEK</td>\n",
       "      <td>2</td>\n",
       "      <td>5</td>\n",
       "    </tr>\n",
       "    <tr>\n",
       "      <th>1912</th>\n",
       "      <td>(EEEEQDDKEVK, 2)</td>\n",
       "      <td>9</td>\n",
       "      <td>EEEEQDDKEVK</td>\n",
       "      <td>2</td>\n",
       "      <td>1</td>\n",
       "    </tr>\n",
       "    <tr>\n",
       "      <th>9917</th>\n",
       "      <td>(SVDELLTFIEGDSSNSK, 2)</td>\n",
       "      <td>10</td>\n",
       "      <td>SVDELLTFIEGDSSNSK</td>\n",
       "      <td>2</td>\n",
       "      <td>0</td>\n",
       "    </tr>\n",
       "  </tbody>\n",
       "</table>\n",
       "</div>"
      ],
      "text/plain": [
       "                 sequence_charge  number_of_runs_extracted  \\\n",
       "8150  (QEASQM[15.9949]AAMAEK, 2)                         5   \n",
       "1912            (EEEEQDDKEVK, 2)                         9   \n",
       "9917      (SVDELLTFIEGDSSNSK, 2)                        10   \n",
       "\n",
       "                   sequence  charge  missing_files  \n",
       "8150  QEASQM[15.9949]AAMAEK       2              5  \n",
       "1912            EEEEQDDKEVK       2              1  \n",
       "9917      SVDELLTFIEGDSSNSK       2              0  "
      ]
     },
     "execution_count": 88,
     "metadata": {},
     "output_type": "execute_result"
    }
   ],
   "source": [
    "tfde_sequence_occurences_df.sample(n=3)"
   ]
  },
  {
   "cell_type": "code",
   "execution_count": 89,
   "metadata": {},
   "outputs": [],
   "source": [
    "run_count_l = []\n",
    "for number_of_runs in range(1,number_of_runs_in_subset+1):\n",
    "    run_count_l.append((number_of_runs, len(tfde_sequence_occurences_df[tfde_sequence_occurences_df.number_of_runs_extracted >= number_of_runs])))\n",
    "tfde_run_count_df = pd.DataFrame(run_count_l, columns=['run_count','number_of_sequences'])"
   ]
  },
  {
   "cell_type": "code",
   "execution_count": 90,
   "metadata": {},
   "outputs": [],
   "source": [
    "tfde_run_count_df['percent_quantified'] = tfde_run_count_df.number_of_sequences / number_of_unique_sequences_tfde * 100"
   ]
  },
  {
   "cell_type": "markdown",
   "metadata": {},
   "source": [
    "#### prepare MQ results"
   ]
  },
  {
   "cell_type": "code",
   "execution_count": 91,
   "metadata": {},
   "outputs": [
    {
     "data": {
      "text/plain": [
       "Index(['sequence', 'modifications', 'charge', 'species', 'short_run_name',\n",
       "       'group', 'identified_in_file', 'score', 'intensity'],\n",
       "      dtype='object')"
      ]
     },
     "execution_count": 91,
     "metadata": {},
     "output_type": "execute_result"
    }
   ],
   "source": [
    "mq_sequences_df.columns"
   ]
  },
  {
   "cell_type": "code",
   "execution_count": 92,
   "metadata": {},
   "outputs": [],
   "source": [
    "mq_subset_df = mq_sequences_df[(mq_sequences_df.group.isin(subset_groups))]"
   ]
  },
  {
   "cell_type": "code",
   "execution_count": 93,
   "metadata": {},
   "outputs": [
    {
     "data": {
      "text/plain": [
       "10068"
      ]
     },
     "execution_count": 93,
     "metadata": {},
     "output_type": "execute_result"
    }
   ],
   "source": [
    "number_of_unique_sequences_mq = len(mq_subset_df.drop_duplicates(subset=['sequence','modifications','charge'], keep='first', inplace=False))\n",
    "number_of_unique_sequences_mq"
   ]
  },
  {
   "cell_type": "code",
   "execution_count": 94,
   "metadata": {},
   "outputs": [],
   "source": [
    "# count how many runs each sequence/charge was extracted from\n",
    "sequence_occurences_l = []\n",
    "for group_name,group_df in mq_subset_df.groupby(['sequence', 'modifications', 'charge'], as_index=False):\n",
    "    sequence_occurences_l.append((group_name[0], group_name[1], group_name[2], len(group_df.short_run_name.unique())))\n",
    "mq_sequence_occurences_df = pd.DataFrame(sequence_occurences_l, columns=['sequence','modifications','charge','number_of_runs_extracted'])"
   ]
  },
  {
   "cell_type": "code",
   "execution_count": 95,
   "metadata": {},
   "outputs": [],
   "source": [
    "run_count_l = []\n",
    "for number_of_runs in range(1,number_of_runs_in_subset+1):\n",
    "    run_count_l.append((number_of_runs, len(mq_sequence_occurences_df[mq_sequence_occurences_df.number_of_runs_extracted >= number_of_runs])))\n",
    "mq_run_count_df = pd.DataFrame(run_count_l, columns=['run_count','number_of_sequences'])"
   ]
  },
  {
   "cell_type": "code",
   "execution_count": 96,
   "metadata": {},
   "outputs": [],
   "source": [
    "mq_sequence_occurences_df['missing_files'] = number_of_runs_in_subset - mq_sequence_occurences_df.number_of_runs_extracted\n",
    "mq_run_count_df['percent_quantified'] = mq_run_count_df.number_of_sequences / number_of_unique_sequences_mq * 100"
   ]
  },
  {
   "cell_type": "code",
   "execution_count": 97,
   "metadata": {},
   "outputs": [],
   "source": [
    "# display the number of missing values across the subset\n",
    "mq_missing_values = mq_sequence_occurences_df.missing_files.sum() / (len(mq_sequence_occurences_df) * number_of_runs_in_subset)"
   ]
  },
  {
   "cell_type": "markdown",
   "metadata": {},
   "source": [
    "#### prepare Fragger results"
   ]
  },
  {
   "cell_type": "code",
   "execution_count": 98,
   "metadata": {},
   "outputs": [],
   "source": [
    "fragger_subset_df = fragger_sequences_df[(fragger_sequences_df.group.isin(subset_groups))]"
   ]
  },
  {
   "cell_type": "code",
   "execution_count": 99,
   "metadata": {},
   "outputs": [
    {
     "data": {
      "text/plain": [
       "13456"
      ]
     },
     "execution_count": 99,
     "metadata": {},
     "output_type": "execute_result"
    }
   ],
   "source": [
    "number_of_unique_sequences_fragger = len(fragger_subset_df.drop_duplicates(subset=['PeptideSequence', 'PrecursorCharge'], keep='first', inplace=False))\n",
    "number_of_unique_sequences_fragger"
   ]
  },
  {
   "cell_type": "code",
   "execution_count": 100,
   "metadata": {},
   "outputs": [],
   "source": [
    "# count how many runs each sequence/charge was found in\n",
    "sequence_occurences_l = []\n",
    "for group_name,group_df in fragger_subset_df.groupby(['PeptideSequence','PrecursorCharge'], as_index=False):\n",
    "    sequence_occurences_l.append((group_name[0], group_name[1], len(group_df.short_run_name.unique())))\n",
    "fragger_sequence_occurences_df = pd.DataFrame(sequence_occurences_l, columns=['sequence','charge','number_of_runs_extracted'])"
   ]
  },
  {
   "cell_type": "code",
   "execution_count": 101,
   "metadata": {},
   "outputs": [],
   "source": [
    "run_count_l = []\n",
    "for number_of_runs in range(1,number_of_runs_in_subset+1):\n",
    "    run_count_l.append((number_of_runs, len(fragger_sequence_occurences_df[fragger_sequence_occurences_df.number_of_runs_extracted >= number_of_runs])))\n",
    "fragger_run_count_df = pd.DataFrame(run_count_l, columns=['run_count','number_of_sequences'])"
   ]
  },
  {
   "cell_type": "code",
   "execution_count": 102,
   "metadata": {},
   "outputs": [],
   "source": [
    "fragger_sequence_occurences_df['missing_files'] = number_of_runs_in_subset - fragger_sequence_occurences_df.number_of_runs_extracted\n",
    "fragger_run_count_df['percent_quantified'] = fragger_run_count_df.number_of_sequences / number_of_unique_sequences_fragger * 100"
   ]
  },
  {
   "cell_type": "code",
   "execution_count": 103,
   "metadata": {},
   "outputs": [],
   "source": [
    "# display the number of missing values across the subset\n",
    "fragger_missing_values = fragger_sequence_occurences_df.missing_files.sum() / (len(fragger_sequence_occurences_df) * number_of_runs_in_subset)"
   ]
  },
  {
   "cell_type": "markdown",
   "metadata": {},
   "source": [
    "#### now plot the results"
   ]
  },
  {
   "cell_type": "code",
   "execution_count": 104,
   "metadata": {},
   "outputs": [
    {
     "data": {
      "image/png": "[encoded data removed]",
      "text/plain": [
       "<Figure size 576x576 with 1 Axes>"
      ]
     },
     "metadata": {
      "needs_background": "light"
     },
     "output_type": "display_data"
    }
   ],
   "source": [
    "f, ax1 = plt.subplots()\n",
    "f.set_figheight(8)\n",
    "f.set_figwidth(8)\n",
    "\n",
    "plt.margins(0.06)\n",
    "# plt.title('percentage of peptides without missing values as a function of run numbers for conditions {}'.format(subset_groups))\n",
    "\n",
    "ax1.plot(tfde_run_count_df.run_count, tfde_run_count_df.percent_quantified, label='TFD/E')\n",
    "ax1.plot(mq_run_count_df.run_count, mq_run_count_df.percent_quantified, label='MaxQuant')\n",
    "ax1.plot(fragger_run_count_df.run_count, fragger_run_count_df.percent_quantified, label='MSFragger')\n",
    "\n",
    "plt.xlabel('peptides quantified in >= number of runs')\n",
    "plt.ylabel('% of total peptides quantified')\n",
    "plt.ylim((15,105))\n",
    "ax1.set(xticks=range(1,number_of_runs_in_subset+1), xlim=[0, number_of_runs_in_subset+1])\n",
    "plt.legend(loc=\"best\")\n",
    "\n",
    "plt.show()"
   ]
  },
  {
   "cell_type": "markdown",
   "metadata": {},
   "source": [
    "## missing-ness distributions"
   ]
  },
  {
   "cell_type": "markdown",
   "metadata": {},
   "source": [
    "#### plot TFD/E results"
   ]
  },
  {
   "cell_type": "code",
   "execution_count": 105,
   "metadata": {},
   "outputs": [
    {
     "data": {
      "image/png": "[encoded data removed]",
      "text/plain": [
       "<Figure size 576x576 with 1 Axes>"
      ]
     },
     "metadata": {
      "needs_background": "light"
     },
     "output_type": "display_data"
    }
   ],
   "source": [
    "f, ax1 = plt.subplots()\n",
    "f.set_figheight(8)\n",
    "f.set_figwidth(8)\n",
    "\n",
    "plt.margins(0.06)\n",
    "# plt.suptitle('TFD/E distribution of sequence identifications for conditions {}'.format(subset_groups))\n",
    "# plt.title('total of {} modified peptide sequences, {}% of values missing'.format(number_of_unique_sequences_tfde, int(round(tfde_missing_values*100))))\n",
    "\n",
    "counts = np.bincount(tfde_sequence_occurences_df.number_of_runs_extracted)\n",
    "ax1.bar(range(number_of_runs_in_subset+1), counts, width=0.8, align='center')\n",
    "plt.xlabel('number of files in which a modified sequence-charge was quantified')\n",
    "plt.ylabel('frequency')\n",
    "ax1.set(xticks=range(1,number_of_runs_in_subset+1), xlim=[0, number_of_runs_in_subset+1])\n",
    "plt.ylim((0,9000))\n",
    "\n",
    "plt.show()"
   ]
  },
  {
   "cell_type": "markdown",
   "metadata": {},
   "source": [
    "#### plot MQ results"
   ]
  },
  {
   "cell_type": "code",
   "execution_count": 106,
   "metadata": {},
   "outputs": [
    {
     "data": {
      "image/png": "[encoded data removed]",
      "text/plain": [
       "<Figure size 576x576 with 1 Axes>"
      ]
     },
     "metadata": {
      "needs_background": "light"
     },
     "output_type": "display_data"
    }
   ],
   "source": [
    "f, ax1 = plt.subplots()\n",
    "f.set_figheight(8)\n",
    "f.set_figwidth(8)\n",
    "\n",
    "plt.margins(0.06)\n",
    "# plt.suptitle('MaxQuant distribution of sequence identifications for conditions {}'.format(subset_groups))\n",
    "# plt.title('total of {} modified peptide sequences, {}% of values missing'.format(number_of_unique_sequences_mq, int(round(mq_missing_values*100))))\n",
    "\n",
    "counts = np.bincount(mq_sequence_occurences_df.number_of_runs_extracted)\n",
    "ax1.bar(range(number_of_runs_in_subset+1), counts, width=0.8, align='center')\n",
    "plt.xlabel('number of files in which a modified sequence-charge was quantified')\n",
    "plt.ylabel('frequency')\n",
    "ax1.set(xticks=range(1,number_of_runs_in_subset+1), xlim=[0, number_of_runs_in_subset+1])\n",
    "plt.ylim((0,9000))\n",
    "\n",
    "plt.show()"
   ]
  },
  {
   "cell_type": "markdown",
   "metadata": {},
   "source": [
    "#### plot Fragger results"
   ]
  },
  {
   "cell_type": "code",
   "execution_count": 107,
   "metadata": {},
   "outputs": [
    {
     "data": {
      "image/png": "[encoded data removed]",
      "text/plain": [
       "<Figure size 576x576 with 1 Axes>"
      ]
     },
     "metadata": {
      "needs_background": "light"
     },
     "output_type": "display_data"
    }
   ],
   "source": [
    "f, ax1 = plt.subplots()\n",
    "f.set_figheight(8)\n",
    "f.set_figwidth(8)\n",
    "\n",
    "plt.margins(0.06)\n",
    "# plt.suptitle('MSFragger distribution of sequence identifications for conditions {}'.format(subset_groups))\n",
    "# plt.title('total of {} modified peptide sequences, {}% of values missing'.format(number_of_unique_sequences_fragger, int(round(fragger_missing_values*100))))\n",
    "\n",
    "counts = np.bincount(fragger_sequence_occurences_df.number_of_runs_extracted)\n",
    "ax1.bar(range(number_of_runs_in_subset+1), counts, width=0.8, align='center')\n",
    "plt.xlabel('number of files in which a modified sequence-charge was quantified')\n",
    "plt.ylabel('frequency')\n",
    "ax1.set(xticks=range(1,number_of_runs_in_subset+1), xlim=[0, number_of_runs_in_subset+1])\n",
    "plt.ylim((0,9000))\n",
    "\n",
    "plt.show()"
   ]
  },
  {
   "cell_type": "markdown",
   "metadata": {},
   "source": [
    "## distribution of quantitative intensities"
   ]
  },
  {
   "cell_type": "markdown",
   "metadata": {},
   "source": [
    "#### prepare TFD/E results"
   ]
  },
  {
   "cell_type": "code",
   "execution_count": 108,
   "metadata": {},
   "outputs": [
    {
     "data": {
      "text/html": [
       "<div>\n",
       "<style scoped>\n",
       "    .dataframe tbody tr th:only-of-type {\n",
       "        vertical-align: middle;\n",
       "    }\n",
       "\n",
       "    .dataframe tbody tr th {\n",
       "        vertical-align: top;\n",
       "    }\n",
       "\n",
       "    .dataframe thead th {\n",
       "        text-align: right;\n",
       "    }\n",
       "</style>\n",
       "<table border=\"1\" class=\"dataframe\">\n",
       "  <thead>\n",
       "    <tr style=\"text-align: right;\">\n",
       "      <th></th>\n",
       "      <th>sequence</th>\n",
       "      <th>charge</th>\n",
       "      <th>id_perc_q_value</th>\n",
       "      <th>protein</th>\n",
       "      <th>species</th>\n",
       "      <th>short_run_name</th>\n",
       "      <th>group</th>\n",
       "      <th>intensity</th>\n",
       "      <th>identified_in_run</th>\n",
       "    </tr>\n",
       "  </thead>\n",
       "  <tbody>\n",
       "    <tr>\n",
       "      <th>15555</th>\n",
       "      <td>DYRPAEETEAQAEPVEA</td>\n",
       "      <td>2</td>\n",
       "      <td>0.000028</td>\n",
       "      <td>sp|P05750|RS3_YEAST</td>\n",
       "      <td>Yeast</td>\n",
       "      <td>YeastUPS1_09</td>\n",
       "      <td>YeastUPS1</td>\n",
       "      <td>8216</td>\n",
       "      <td>True</td>\n",
       "    </tr>\n",
       "    <tr>\n",
       "      <th>54484</th>\n",
       "      <td>LDKDLFQHIDIQELEK</td>\n",
       "      <td>2</td>\n",
       "      <td>0.001380</td>\n",
       "      <td>sp|P23615|SPT6_YEAST</td>\n",
       "      <td>Yeast</td>\n",
       "      <td>YeastUPS1_01</td>\n",
       "      <td>YeastUPS1</td>\n",
       "      <td>668</td>\n",
       "      <td>False</td>\n",
       "    </tr>\n",
       "    <tr>\n",
       "      <th>20645</th>\n",
       "      <td>EMLQQNK</td>\n",
       "      <td>1</td>\n",
       "      <td>0.001033</td>\n",
       "      <td>sp|P15108|HSC82_YEAST,sp|P02829|HSP82_YEAST</td>\n",
       "      <td>Yeast</td>\n",
       "      <td>YeastUPS1_08</td>\n",
       "      <td>YeastUPS1</td>\n",
       "      <td>62</td>\n",
       "      <td>False</td>\n",
       "    </tr>\n",
       "  </tbody>\n",
       "</table>\n",
       "</div>"
      ],
      "text/plain": [
       "                sequence  charge  id_perc_q_value  \\\n",
       "15555  DYRPAEETEAQAEPVEA       2         0.000028   \n",
       "54484   LDKDLFQHIDIQELEK       2         0.001380   \n",
       "20645            EMLQQNK       1         0.001033   \n",
       "\n",
       "                                           protein species short_run_name  \\\n",
       "15555                          sp|P05750|RS3_YEAST   Yeast   YeastUPS1_09   \n",
       "54484                         sp|P23615|SPT6_YEAST   Yeast   YeastUPS1_01   \n",
       "20645  sp|P15108|HSC82_YEAST,sp|P02829|HSP82_YEAST   Yeast   YeastUPS1_08   \n",
       "\n",
       "           group  intensity  identified_in_run  \n",
       "15555  YeastUPS1       8216               True  \n",
       "54484  YeastUPS1        668              False  \n",
       "20645  YeastUPS1         62              False  "
      ]
     },
     "execution_count": 108,
     "metadata": {},
     "output_type": "execute_result"
    }
   ],
   "source": [
    "tfde_subset_df.sample(n=3)"
   ]
  },
  {
   "cell_type": "code",
   "execution_count": 109,
   "metadata": {},
   "outputs": [],
   "source": [
    "# calculate the intensity mean for peptides without missing values\n",
    "tfde_intensities_l = []\n",
    "for group_name,group_df in tfde_subset_df.groupby(['sequence','charge'], as_index=False):\n",
    "    if len(group_df.short_run_name.unique()) == number_of_runs_in_subset:\n",
    "        intensity_mean = group_df.intensity.mean()\n",
    "        tfde_intensities_l.append((','.join([group_name[0],group_name[1].astype('str')]),intensity_mean,'TFD/E'))\n",
    "tfde_intensities_df = pd.DataFrame(tfde_intensities_l, columns=['sequence','intensity','method'])\n",
    "tfde_intensities_df['intensity_adjusted'] = tfde_intensities_df.intensity - np.min(tfde_intensities_df.intensity)\n",
    "tfde_intensities_df.intensity_adjusted.replace(to_replace=[0.0], value=1.0, inplace=True)"
   ]
  },
  {
   "cell_type": "markdown",
   "metadata": {},
   "source": [
    "#### prepare MQ results"
   ]
  },
  {
   "cell_type": "code",
   "execution_count": 110,
   "metadata": {},
   "outputs": [
    {
     "data": {
      "text/html": [
       "<div>\n",
       "<style scoped>\n",
       "    .dataframe tbody tr th:only-of-type {\n",
       "        vertical-align: middle;\n",
       "    }\n",
       "\n",
       "    .dataframe tbody tr th {\n",
       "        vertical-align: top;\n",
       "    }\n",
       "\n",
       "    .dataframe thead th {\n",
       "        text-align: right;\n",
       "    }\n",
       "</style>\n",
       "<table border=\"1\" class=\"dataframe\">\n",
       "  <thead>\n",
       "    <tr style=\"text-align: right;\">\n",
       "      <th></th>\n",
       "      <th>sequence</th>\n",
       "      <th>modifications</th>\n",
       "      <th>charge</th>\n",
       "      <th>species</th>\n",
       "      <th>short_run_name</th>\n",
       "      <th>group</th>\n",
       "      <th>identified_in_file</th>\n",
       "      <th>score</th>\n",
       "      <th>intensity</th>\n",
       "    </tr>\n",
       "  </thead>\n",
       "  <tbody>\n",
       "    <tr>\n",
       "      <th>150182</th>\n",
       "      <td>YTQVLKPIAFPGGLLEDNVK</td>\n",
       "      <td>Unmodified</td>\n",
       "      <td>2</td>\n",
       "      <td>Yeast</td>\n",
       "      <td>YeastUPS1_09</td>\n",
       "      <td>YeastUPS1</td>\n",
       "      <td>True</td>\n",
       "      <td>42.072</td>\n",
       "      <td>183710.0</td>\n",
       "    </tr>\n",
       "    <tr>\n",
       "      <th>26812</th>\n",
       "      <td>ELPWIISASDDQTIR</td>\n",
       "      <td>Unmodified</td>\n",
       "      <td>2</td>\n",
       "      <td>Yeast</td>\n",
       "      <td>YeastUPS1_03</td>\n",
       "      <td>YeastUPS1</td>\n",
       "      <td>False</td>\n",
       "      <td>66.289</td>\n",
       "      <td>57215.0</td>\n",
       "    </tr>\n",
       "    <tr>\n",
       "      <th>69056</th>\n",
       "      <td>KSELEYYAMLSK</td>\n",
       "      <td>Unmodified</td>\n",
       "      <td>2</td>\n",
       "      <td>Yeast</td>\n",
       "      <td>YeastUPS1_10</td>\n",
       "      <td>YeastUPS1</td>\n",
       "      <td>True</td>\n",
       "      <td>220.810</td>\n",
       "      <td>597110.0</td>\n",
       "    </tr>\n",
       "  </tbody>\n",
       "</table>\n",
       "</div>"
      ],
      "text/plain": [
       "                    sequence modifications  charge species short_run_name  \\\n",
       "150182  YTQVLKPIAFPGGLLEDNVK    Unmodified       2   Yeast   YeastUPS1_09   \n",
       "26812        ELPWIISASDDQTIR    Unmodified       2   Yeast   YeastUPS1_03   \n",
       "69056           KSELEYYAMLSK    Unmodified       2   Yeast   YeastUPS1_10   \n",
       "\n",
       "            group  identified_in_file    score  intensity  \n",
       "150182  YeastUPS1                True   42.072   183710.0  \n",
       "26812   YeastUPS1               False   66.289    57215.0  \n",
       "69056   YeastUPS1                True  220.810   597110.0  "
      ]
     },
     "execution_count": 110,
     "metadata": {},
     "output_type": "execute_result"
    }
   ],
   "source": [
    "mq_subset_df.sample(n=3)"
   ]
  },
  {
   "cell_type": "code",
   "execution_count": 111,
   "metadata": {},
   "outputs": [],
   "source": [
    "# calculate the intensity mean for peptides without missing values\n",
    "mq_intensities_l = []\n",
    "for group_name,group_df in mq_subset_df.groupby(['sequence','modifications','charge'], as_index=False):\n",
    "    if len(group_df.short_run_name.unique()) == number_of_runs_in_subset:\n",
    "        intensity_mean = group_df.intensity.mean()\n",
    "        mq_intensities_l.append((','.join([group_name[0],group_name[1],group_name[2].astype('str')]),intensity_mean,'MaxQuant'))\n",
    "mq_intensities_df = pd.DataFrame(mq_intensities_l, columns=['sequence','intensity','method'])\n",
    "mq_intensities_df['intensity_adjusted'] = mq_intensities_df.intensity - np.min(mq_intensities_df.intensity)\n",
    "mq_intensities_df.intensity_adjusted.replace(to_replace=[0.0], value=1.0, inplace=True)"
   ]
  },
  {
   "cell_type": "markdown",
   "metadata": {},
   "source": [
    "#### prepare Fragger results"
   ]
  },
  {
   "cell_type": "code",
   "execution_count": 112,
   "metadata": {},
   "outputs": [
    {
     "data": {
      "text/html": [
       "<div>\n",
       "<style scoped>\n",
       "    .dataframe tbody tr th:only-of-type {\n",
       "        vertical-align: middle;\n",
       "    }\n",
       "\n",
       "    .dataframe tbody tr th {\n",
       "        vertical-align: top;\n",
       "    }\n",
       "\n",
       "    .dataframe thead th {\n",
       "        text-align: right;\n",
       "    }\n",
       "</style>\n",
       "<table border=\"1\" class=\"dataframe\">\n",
       "  <thead>\n",
       "    <tr style=\"text-align: right;\">\n",
       "      <th></th>\n",
       "      <th>ProteinName</th>\n",
       "      <th>PeptideSequence</th>\n",
       "      <th>PrecursorCharge</th>\n",
       "      <th>FragmentIon</th>\n",
       "      <th>ProductCharge</th>\n",
       "      <th>IsotopeLabelType</th>\n",
       "      <th>Condition</th>\n",
       "      <th>BioReplicate</th>\n",
       "      <th>Run</th>\n",
       "      <th>Intensity</th>\n",
       "      <th>short_run_name</th>\n",
       "      <th>group</th>\n",
       "      <th>species</th>\n",
       "    </tr>\n",
       "  </thead>\n",
       "  <tbody>\n",
       "    <tr>\n",
       "      <th>122728</th>\n",
       "      <td>sp|P32589|HSP7F_YEAST</td>\n",
       "      <td>ANITDVC[57.0215]IAVPPWYTEEQR</td>\n",
       "      <td>2</td>\n",
       "      <td>NaN</td>\n",
       "      <td>NaN</td>\n",
       "      <td>L</td>\n",
       "      <td>YUPS1</td>\n",
       "      <td>9</td>\n",
       "      <td>P3830_YeastUPS1_09_Slot1-1_1_5079</td>\n",
       "      <td>88719.190</td>\n",
       "      <td>YeastUPS1_09</td>\n",
       "      <td>YeastUPS1</td>\n",
       "      <td>Yeast</td>\n",
       "    </tr>\n",
       "    <tr>\n",
       "      <th>210748</th>\n",
       "      <td>sp|P47169|MET5_YEAST</td>\n",
       "      <td>DTSSGGVTHANEQLMK</td>\n",
       "      <td>2</td>\n",
       "      <td>NaN</td>\n",
       "      <td>NaN</td>\n",
       "      <td>L</td>\n",
       "      <td>YUPS1</td>\n",
       "      <td>9</td>\n",
       "      <td>P3830_YeastUPS1_09_Slot1-1_1_5079</td>\n",
       "      <td>15494.775</td>\n",
       "      <td>YeastUPS1_09</td>\n",
       "      <td>YeastUPS1</td>\n",
       "      <td>Yeast</td>\n",
       "    </tr>\n",
       "    <tr>\n",
       "      <th>204406</th>\n",
       "      <td>sp|P46672|ARC1_YEAST</td>\n",
       "      <td>WIDYMQNLLEVSSTDK</td>\n",
       "      <td>2</td>\n",
       "      <td>NaN</td>\n",
       "      <td>NaN</td>\n",
       "      <td>L</td>\n",
       "      <td>YUPS1</td>\n",
       "      <td>7</td>\n",
       "      <td>P3830_YeastUPS1_07_Slot1-1_1_5077</td>\n",
       "      <td>39716.383</td>\n",
       "      <td>YeastUPS1_07</td>\n",
       "      <td>YeastUPS1</td>\n",
       "      <td>Yeast</td>\n",
       "    </tr>\n",
       "  </tbody>\n",
       "</table>\n",
       "</div>"
      ],
      "text/plain": [
       "                  ProteinName               PeptideSequence  PrecursorCharge  \\\n",
       "122728  sp|P32589|HSP7F_YEAST  ANITDVC[57.0215]IAVPPWYTEEQR                2   \n",
       "210748   sp|P47169|MET5_YEAST              DTSSGGVTHANEQLMK                2   \n",
       "204406   sp|P46672|ARC1_YEAST              WIDYMQNLLEVSSTDK                2   \n",
       "\n",
       "        FragmentIon  ProductCharge IsotopeLabelType Condition  BioReplicate  \\\n",
       "122728          NaN            NaN                L     YUPS1             9   \n",
       "210748          NaN            NaN                L     YUPS1             9   \n",
       "204406          NaN            NaN                L     YUPS1             7   \n",
       "\n",
       "                                      Run  Intensity short_run_name  \\\n",
       "122728  P3830_YeastUPS1_09_Slot1-1_1_5079  88719.190   YeastUPS1_09   \n",
       "210748  P3830_YeastUPS1_09_Slot1-1_1_5079  15494.775   YeastUPS1_09   \n",
       "204406  P3830_YeastUPS1_07_Slot1-1_1_5077  39716.383   YeastUPS1_07   \n",
       "\n",
       "            group species  \n",
       "122728  YeastUPS1   Yeast  \n",
       "210748  YeastUPS1   Yeast  \n",
       "204406  YeastUPS1   Yeast  "
      ]
     },
     "execution_count": 112,
     "metadata": {},
     "output_type": "execute_result"
    }
   ],
   "source": [
    "fragger_subset_df.sample(n=3)"
   ]
  },
  {
   "cell_type": "code",
   "execution_count": 113,
   "metadata": {},
   "outputs": [],
   "source": [
    "# calculate the intensity mean for peptides without missing values\n",
    "fragger_intensities_l = []\n",
    "for group_name,group_df in fragger_subset_df.groupby(['PeptideSequence', 'PrecursorCharge'], as_index=False):\n",
    "    if len(group_df['Run'].unique()) == number_of_runs_in_subset:\n",
    "        intensity_mean = group_df.Intensity.mean()\n",
    "        fragger_intensities_l.append((','.join([group_name[0],group_name[1].astype('str')]),intensity_mean,'MSFragger'))\n",
    "fragger_intensities_df = pd.DataFrame(fragger_intensities_l, columns=['sequence','intensity','method'])\n",
    "fragger_intensities_df['intensity_adjusted'] = fragger_intensities_df.intensity - np.min(fragger_intensities_df.intensity)\n",
    "fragger_intensities_df.intensity_adjusted.replace(to_replace=[0.0], value=1.0, inplace=True)"
   ]
  },
  {
   "cell_type": "code",
   "execution_count": 114,
   "metadata": {},
   "outputs": [],
   "source": [
    "tfde_intensities_df['intensity_log'] = np.log10(tfde_intensities_df.intensity)\n",
    "mq_intensities_df['intensity_log'] = np.log10(mq_intensities_df.intensity)\n",
    "fragger_intensities_df['intensity_log'] = np.log10(fragger_intensities_df.intensity)"
   ]
  },
  {
   "cell_type": "code",
   "execution_count": 115,
   "metadata": {},
   "outputs": [],
   "source": [
    "tfde_intensities_df['intensity_adjusted_log'] = tfde_intensities_df.intensity_log - np.min(tfde_intensities_df.intensity_log)\n",
    "mq_intensities_df['intensity_adjusted_log'] = mq_intensities_df.intensity_log - np.min(mq_intensities_df.intensity_log)\n",
    "fragger_intensities_df['intensity_adjusted_log'] = fragger_intensities_df.intensity_log - np.min(fragger_intensities_df.intensity_log)"
   ]
  },
  {
   "cell_type": "markdown",
   "metadata": {},
   "source": [
    "#### consolidate the data"
   ]
  },
  {
   "cell_type": "code",
   "execution_count": 116,
   "metadata": {},
   "outputs": [],
   "source": [
    "intensities_l = [tfde_intensities_df,mq_intensities_df,fragger_intensities_df]\n",
    "intensities_df = pd.concat(intensities_l, sort=False)"
   ]
  },
  {
   "cell_type": "code",
   "execution_count": 117,
   "metadata": {},
   "outputs": [
    {
     "data": {
      "text/html": [
       "<div>\n",
       "<style scoped>\n",
       "    .dataframe tbody tr th:only-of-type {\n",
       "        vertical-align: middle;\n",
       "    }\n",
       "\n",
       "    .dataframe tbody tr th {\n",
       "        vertical-align: top;\n",
       "    }\n",
       "\n",
       "    .dataframe thead th {\n",
       "        text-align: right;\n",
       "    }\n",
       "</style>\n",
       "<table border=\"1\" class=\"dataframe\">\n",
       "  <thead>\n",
       "    <tr style=\"text-align: right;\">\n",
       "      <th></th>\n",
       "      <th>sequence</th>\n",
       "      <th>intensity</th>\n",
       "      <th>method</th>\n",
       "      <th>intensity_adjusted</th>\n",
       "      <th>intensity_log</th>\n",
       "      <th>intensity_adjusted_log</th>\n",
       "    </tr>\n",
       "  </thead>\n",
       "  <tbody>\n",
       "    <tr>\n",
       "      <th>3806</th>\n",
       "      <td>KEEVPEPVAGPIVESSVTEK,2</td>\n",
       "      <td>569.6</td>\n",
       "      <td>TFD/E</td>\n",
       "      <td>380.8</td>\n",
       "      <td>2.755570</td>\n",
       "      <td>0.479568</td>\n",
       "    </tr>\n",
       "    <tr>\n",
       "      <th>6098</th>\n",
       "      <td>RFEYDFNYDQMVK,2</td>\n",
       "      <td>1354.0</td>\n",
       "      <td>TFD/E</td>\n",
       "      <td>1165.2</td>\n",
       "      <td>3.131619</td>\n",
       "      <td>0.855617</td>\n",
       "    </tr>\n",
       "    <tr>\n",
       "      <th>2</th>\n",
       "      <td>AAAEGVANLHLDEATGEMVSK,2</td>\n",
       "      <td>2447.8</td>\n",
       "      <td>TFD/E</td>\n",
       "      <td>2259.0</td>\n",
       "      <td>3.388776</td>\n",
       "      <td>1.112774</td>\n",
       "    </tr>\n",
       "  </tbody>\n",
       "</table>\n",
       "</div>"
      ],
      "text/plain": [
       "                     sequence  intensity method  intensity_adjusted  \\\n",
       "3806   KEEVPEPVAGPIVESSVTEK,2      569.6  TFD/E               380.8   \n",
       "6098          RFEYDFNYDQMVK,2     1354.0  TFD/E              1165.2   \n",
       "2     AAAEGVANLHLDEATGEMVSK,2     2447.8  TFD/E              2259.0   \n",
       "\n",
       "      intensity_log  intensity_adjusted_log  \n",
       "3806       2.755570                0.479568  \n",
       "6098       3.131619                0.855617  \n",
       "2          3.388776                1.112774  "
      ]
     },
     "execution_count": 117,
     "metadata": {},
     "output_type": "execute_result"
    }
   ],
   "source": [
    "intensities_df.sample(n=3)"
   ]
  },
  {
   "cell_type": "markdown",
   "metadata": {},
   "source": [
    "#### produce the plot"
   ]
  },
  {
   "cell_type": "code",
   "execution_count": 118,
   "metadata": {},
   "outputs": [
    {
     "data": {
      "image/png": "[encoded data removed]",
      "text/plain": [
       "<Figure size 1080x720 with 1 Axes>"
      ]
     },
     "metadata": {
      "needs_background": "light"
     },
     "output_type": "display_data"
    }
   ],
   "source": [
    "plt.figure(figsize=(15,10))\n",
    "ax = sns.violinplot(x=intensities_df.method, y=intensities_df.intensity_adjusted_log)\n",
    "_ = plt.ylabel(\"log10 intensity\")\n",
    "_ = plt.title('distribution of quantitative intensities (in log10 scale) for peptides without missing values for conditions {}'.format(subset_groups))"
   ]
  },
  {
   "cell_type": "code",
   "execution_count": 119,
   "metadata": {},
   "outputs": [
    {
     "data": {
      "text/plain": [
       "method\n",
       "MSFragger    3.757624\n",
       "MaxQuant     3.604313\n",
       "TFD/E        2.258816\n",
       "Name: intensity_adjusted_log, dtype: float64"
      ]
     },
     "execution_count": 119,
     "metadata": {},
     "output_type": "execute_result"
    }
   ],
   "source": [
    "# orders of magnitude\n",
    "intensities_df.groupby('method')['intensity_adjusted_log'].agg(np.ptp)"
   ]
  },
  {
   "cell_type": "code",
   "execution_count": 120,
   "metadata": {},
   "outputs": [
    {
     "data": {
      "text/plain": [
       "method\n",
       "MSFragger    7561\n",
       "MaxQuant     5754\n",
       "TFD/E        8665\n",
       "Name: intensity_adjusted_log, dtype: int64"
      ]
     },
     "execution_count": 120,
     "metadata": {},
     "output_type": "execute_result"
    }
   ],
   "source": [
    "# number of peptides that have no missing values\n",
    "intensities_df.groupby('method')['intensity_adjusted_log'].count()"
   ]
  },
  {
   "cell_type": "markdown",
   "metadata": {},
   "source": [
    "## distribution of CV"
   ]
  },
  {
   "cell_type": "markdown",
   "metadata": {},
   "source": [
    "#### TFD/E analysis"
   ]
  },
  {
   "cell_type": "code",
   "execution_count": 121,
   "metadata": {},
   "outputs": [
    {
     "data": {
      "text/html": [
       "<div>\n",
       "<style scoped>\n",
       "    .dataframe tbody tr th:only-of-type {\n",
       "        vertical-align: middle;\n",
       "    }\n",
       "\n",
       "    .dataframe tbody tr th {\n",
       "        vertical-align: top;\n",
       "    }\n",
       "\n",
       "    .dataframe thead th {\n",
       "        text-align: right;\n",
       "    }\n",
       "</style>\n",
       "<table border=\"1\" class=\"dataframe\">\n",
       "  <thead>\n",
       "    <tr style=\"text-align: right;\">\n",
       "      <th></th>\n",
       "      <th>sequence</th>\n",
       "      <th>charge</th>\n",
       "      <th>id_perc_q_value</th>\n",
       "      <th>protein</th>\n",
       "      <th>species</th>\n",
       "      <th>short_run_name</th>\n",
       "      <th>group</th>\n",
       "      <th>intensity</th>\n",
       "      <th>identified_in_run</th>\n",
       "    </tr>\n",
       "  </thead>\n",
       "  <tbody>\n",
       "    <tr>\n",
       "      <th>87178</th>\n",
       "      <td>SSGSTPIYSLNHDQPVENVIAVSPTQIVSCGGNNFK</td>\n",
       "      <td>3</td>\n",
       "      <td>0.000479</td>\n",
       "      <td>sp|Q04305|UTP15_YEAST</td>\n",
       "      <td>Yeast</td>\n",
       "      <td>YeastUPS1_06</td>\n",
       "      <td>YeastUPS1</td>\n",
       "      <td>308</td>\n",
       "      <td>True</td>\n",
       "    </tr>\n",
       "    <tr>\n",
       "      <th>26349</th>\n",
       "      <td>FHVDLNEDMSNLSFK</td>\n",
       "      <td>2</td>\n",
       "      <td>0.000028</td>\n",
       "      <td>sp|P38428|CUE1_YEAST</td>\n",
       "      <td>Yeast</td>\n",
       "      <td>YeastUPS1_04</td>\n",
       "      <td>YeastUPS1</td>\n",
       "      <td>814</td>\n",
       "      <td>True</td>\n",
       "    </tr>\n",
       "    <tr>\n",
       "      <th>94415</th>\n",
       "      <td>TNLNEGFLYPIVDLLNHK</td>\n",
       "      <td>3</td>\n",
       "      <td>0.000051</td>\n",
       "      <td>sp|P38732|EFM1_YEAST</td>\n",
       "      <td>Yeast</td>\n",
       "      <td>YeastUPS1_06</td>\n",
       "      <td>YeastUPS1</td>\n",
       "      <td>391</td>\n",
       "      <td>True</td>\n",
       "    </tr>\n",
       "  </tbody>\n",
       "</table>\n",
       "</div>"
      ],
      "text/plain": [
       "                                   sequence  charge  id_perc_q_value  \\\n",
       "87178  SSGSTPIYSLNHDQPVENVIAVSPTQIVSCGGNNFK       3         0.000479   \n",
       "26349                       FHVDLNEDMSNLSFK       2         0.000028   \n",
       "94415                    TNLNEGFLYPIVDLLNHK       3         0.000051   \n",
       "\n",
       "                     protein species short_run_name      group  intensity  \\\n",
       "87178  sp|Q04305|UTP15_YEAST   Yeast   YeastUPS1_06  YeastUPS1        308   \n",
       "26349   sp|P38428|CUE1_YEAST   Yeast   YeastUPS1_04  YeastUPS1        814   \n",
       "94415   sp|P38732|EFM1_YEAST   Yeast   YeastUPS1_06  YeastUPS1        391   \n",
       "\n",
       "       identified_in_run  \n",
       "87178               True  \n",
       "26349               True  \n",
       "94415               True  "
      ]
     },
     "execution_count": 121,
     "metadata": {},
     "output_type": "execute_result"
    }
   ],
   "source": [
    "tfde_subset_df.sample(n=3)"
   ]
  },
  {
   "cell_type": "code",
   "execution_count": 122,
   "metadata": {},
   "outputs": [],
   "source": [
    "# for each sequence, find the CV\n",
    "sequence_cv_l = []\n",
    "for group_name,group_df in tfde_subset_df.groupby(['sequence','charge']):\n",
    "    if len(group_df) >= 2:\n",
    "        intensity_cv = np.std(group_df.intensity) / np.mean(group_df.intensity)\n",
    "        sequence_cv_l.append((group_name[0], group_name[1], intensity_cv))\n",
    "sequence_cv_df = pd.DataFrame(sequence_cv_l, columns=['sequence','charge','intensity_cv'])"
   ]
  },
  {
   "cell_type": "code",
   "execution_count": 123,
   "metadata": {},
   "outputs": [
    {
     "data": {
      "text/html": [
       "<div>\n",
       "<style scoped>\n",
       "    .dataframe tbody tr th:only-of-type {\n",
       "        vertical-align: middle;\n",
       "    }\n",
       "\n",
       "    .dataframe tbody tr th {\n",
       "        vertical-align: top;\n",
       "    }\n",
       "\n",
       "    .dataframe thead th {\n",
       "        text-align: right;\n",
       "    }\n",
       "</style>\n",
       "<table border=\"1\" class=\"dataframe\">\n",
       "  <thead>\n",
       "    <tr style=\"text-align: right;\">\n",
       "      <th></th>\n",
       "      <th>sequence</th>\n",
       "      <th>charge</th>\n",
       "      <th>intensity_cv</th>\n",
       "    </tr>\n",
       "  </thead>\n",
       "  <tbody>\n",
       "    <tr>\n",
       "      <th>6002</th>\n",
       "      <td>LDLMDSGTNALDILSGK</td>\n",
       "      <td>2</td>\n",
       "      <td>0.177197</td>\n",
       "    </tr>\n",
       "    <tr>\n",
       "      <th>11289</th>\n",
       "      <td>VPDFEAEISTNK</td>\n",
       "      <td>2</td>\n",
       "      <td>0.246382</td>\n",
       "    </tr>\n",
       "    <tr>\n",
       "      <th>5179</th>\n",
       "      <td>IWHHTFYNELR</td>\n",
       "      <td>2</td>\n",
       "      <td>0.371548</td>\n",
       "    </tr>\n",
       "  </tbody>\n",
       "</table>\n",
       "</div>"
      ],
      "text/plain": [
       "                sequence  charge  intensity_cv\n",
       "6002   LDLMDSGTNALDILSGK       2      0.177197\n",
       "11289       VPDFEAEISTNK       2      0.246382\n",
       "5179         IWHHTFYNELR       2      0.371548"
      ]
     },
     "execution_count": 123,
     "metadata": {},
     "output_type": "execute_result"
    }
   ],
   "source": [
    "sequence_cv_df.sample(n=3)"
   ]
  },
  {
   "cell_type": "code",
   "execution_count": 124,
   "metadata": {},
   "outputs": [
    {
     "data": {
      "text/html": [
       "<div>\n",
       "<style scoped>\n",
       "    .dataframe tbody tr th:only-of-type {\n",
       "        vertical-align: middle;\n",
       "    }\n",
       "\n",
       "    .dataframe tbody tr th {\n",
       "        vertical-align: top;\n",
       "    }\n",
       "\n",
       "    .dataframe thead th {\n",
       "        text-align: right;\n",
       "    }\n",
       "</style>\n",
       "<table border=\"1\" class=\"dataframe\">\n",
       "  <thead>\n",
       "    <tr style=\"text-align: right;\">\n",
       "      <th></th>\n",
       "      <th>sequence</th>\n",
       "      <th>charge</th>\n",
       "      <th>intensity_cv</th>\n",
       "    </tr>\n",
       "  </thead>\n",
       "  <tbody>\n",
       "    <tr>\n",
       "      <th>10727</th>\n",
       "      <td>TYGDGTDSDSQMNSR</td>\n",
       "      <td>2</td>\n",
       "      <td>0.255062</td>\n",
       "    </tr>\n",
       "    <tr>\n",
       "      <th>224</th>\n",
       "      <td>AGAGHSNTLQVSTV</td>\n",
       "      <td>2</td>\n",
       "      <td>0.487949</td>\n",
       "    </tr>\n",
       "    <tr>\n",
       "      <th>878</th>\n",
       "      <td>CGNNTDTLTLIADNTPDSIILLFEDTKK</td>\n",
       "      <td>3</td>\n",
       "      <td>0.303369</td>\n",
       "    </tr>\n",
       "    <tr>\n",
       "      <th>1003</th>\n",
       "      <td>DAYSGGSVNLYHVTEDGWIYHGNHDVGELFWK</td>\n",
       "      <td>4</td>\n",
       "      <td>0.281346</td>\n",
       "    </tr>\n",
       "    <tr>\n",
       "      <th>5175</th>\n",
       "      <td>IWCFGPDGNGPNLVIDQTK</td>\n",
       "      <td>2</td>\n",
       "      <td>0.556479</td>\n",
       "    </tr>\n",
       "  </tbody>\n",
       "</table>\n",
       "</div>"
      ],
      "text/plain": [
       "                               sequence  charge  intensity_cv\n",
       "10727                   TYGDGTDSDSQMNSR       2      0.255062\n",
       "224                      AGAGHSNTLQVSTV       2      0.487949\n",
       "878        CGNNTDTLTLIADNTPDSIILLFEDTKK       3      0.303369\n",
       "1003   DAYSGGSVNLYHVTEDGWIYHGNHDVGELFWK       4      0.281346\n",
       "5175                IWCFGPDGNGPNLVIDQTK       2      0.556479"
      ]
     },
     "execution_count": 124,
     "metadata": {},
     "output_type": "execute_result"
    }
   ],
   "source": [
    "sequence_cv_df[sequence_cv_df.intensity_cv > 0.25].sample(n=5)"
   ]
  },
  {
   "cell_type": "code",
   "execution_count": 125,
   "metadata": {},
   "outputs": [
    {
     "data": {
      "text/html": [
       "<div>\n",
       "<style scoped>\n",
       "    .dataframe tbody tr th:only-of-type {\n",
       "        vertical-align: middle;\n",
       "    }\n",
       "\n",
       "    .dataframe tbody tr th {\n",
       "        vertical-align: top;\n",
       "    }\n",
       "\n",
       "    .dataframe thead th {\n",
       "        text-align: right;\n",
       "    }\n",
       "</style>\n",
       "<table border=\"1\" class=\"dataframe\">\n",
       "  <thead>\n",
       "    <tr style=\"text-align: right;\">\n",
       "      <th></th>\n",
       "      <th>sequence</th>\n",
       "      <th>charge</th>\n",
       "      <th>identifications</th>\n",
       "      <th>extractions</th>\n",
       "      <th>identifications_d</th>\n",
       "      <th>id_perc_q_value</th>\n",
       "      <th>id_count_all_runs</th>\n",
       "      <th>id_count_human_only_runs</th>\n",
       "      <th>id_number_of_proteins</th>\n",
       "      <th>id_protein</th>\n",
       "      <th>id_species</th>\n",
       "      <th>extractions_l</th>\n",
       "      <th>ext_count_all_runs</th>\n",
       "    </tr>\n",
       "  </thead>\n",
       "  <tbody>\n",
       "    <tr>\n",
       "      <th>10234</th>\n",
       "      <td>SYSNDDESNEILSYEGK</td>\n",
       "      <td>2</td>\n",
       "      <td>{\"perc_q_value\": 2.7869903e-05, \"run_names\": [...</td>\n",
       "      <td>[{\"run_name\": \"P3830_YeastUPS1_01_Slot1-1_1_50...</td>\n",
       "      <td>{'perc_q_value': 2.7869903e-05, 'run_names': [...</td>\n",
       "      <td>0.000028</td>\n",
       "      <td>10</td>\n",
       "      <td>0</td>\n",
       "      <td>1</td>\n",
       "      <td>sp|P33399|LHP1_YEAST</td>\n",
       "      <td>Yeast</td>\n",
       "      <td>[{'run_name': 'P3830_YeastUPS1_01_Slot1-1_1_50...</td>\n",
       "      <td>10</td>\n",
       "    </tr>\n",
       "    <tr>\n",
       "      <th>21978</th>\n",
       "      <td>SYSNDDESNEILSYEGK</td>\n",
       "      <td>2</td>\n",
       "      <td>{\"perc_q_value\": 2.99967e-05, \"run_names\": [\"P...</td>\n",
       "      <td>[{\"run_name\": \"P3830_YeastUPS2_01_Slot1-1_1_50...</td>\n",
       "      <td>{'perc_q_value': 2.99967e-05, 'run_names': ['P...</td>\n",
       "      <td>0.000030</td>\n",
       "      <td>10</td>\n",
       "      <td>0</td>\n",
       "      <td>1</td>\n",
       "      <td>sp|P33399|LHP1_YEAST</td>\n",
       "      <td>Yeast</td>\n",
       "      <td>[{'run_name': 'P3830_YeastUPS2_01_Slot1-1_1_50...</td>\n",
       "      <td>10</td>\n",
       "    </tr>\n",
       "  </tbody>\n",
       "</table>\n",
       "</div>"
      ],
      "text/plain": [
       "                sequence  charge  \\\n",
       "10234  SYSNDDESNEILSYEGK       2   \n",
       "21978  SYSNDDESNEILSYEGK       2   \n",
       "\n",
       "                                         identifications  \\\n",
       "10234  {\"perc_q_value\": 2.7869903e-05, \"run_names\": [...   \n",
       "21978  {\"perc_q_value\": 2.99967e-05, \"run_names\": [\"P...   \n",
       "\n",
       "                                             extractions  \\\n",
       "10234  [{\"run_name\": \"P3830_YeastUPS1_01_Slot1-1_1_50...   \n",
       "21978  [{\"run_name\": \"P3830_YeastUPS2_01_Slot1-1_1_50...   \n",
       "\n",
       "                                       identifications_d  id_perc_q_value  \\\n",
       "10234  {'perc_q_value': 2.7869903e-05, 'run_names': [...         0.000028   \n",
       "21978  {'perc_q_value': 2.99967e-05, 'run_names': ['P...         0.000030   \n",
       "\n",
       "       id_count_all_runs  id_count_human_only_runs  id_number_of_proteins  \\\n",
       "10234                 10                         0                      1   \n",
       "21978                 10                         0                      1   \n",
       "\n",
       "                 id_protein id_species  \\\n",
       "10234  sp|P33399|LHP1_YEAST      Yeast   \n",
       "21978  sp|P33399|LHP1_YEAST      Yeast   \n",
       "\n",
       "                                           extractions_l  ext_count_all_runs  \n",
       "10234  [{'run_name': 'P3830_YeastUPS1_01_Slot1-1_1_50...                  10  \n",
       "21978  [{'run_name': 'P3830_YeastUPS2_01_Slot1-1_1_50...                  10  "
      ]
     },
     "execution_count": 125,
     "metadata": {},
     "output_type": "execute_result"
    }
   ],
   "source": [
    "results_df[(results_df.sequence == 'SYSNDDESNEILSYEGK') & (results_df.charge == 2)]"
   ]
  },
  {
   "cell_type": "code",
   "execution_count": 126,
   "metadata": {},
   "outputs": [
    {
     "data": {
      "text/html": [
       "<div>\n",
       "<style scoped>\n",
       "    .dataframe tbody tr th:only-of-type {\n",
       "        vertical-align: middle;\n",
       "    }\n",
       "\n",
       "    .dataframe tbody tr th {\n",
       "        vertical-align: top;\n",
       "    }\n",
       "\n",
       "    .dataframe thead th {\n",
       "        text-align: right;\n",
       "    }\n",
       "</style>\n",
       "<table border=\"1\" class=\"dataframe\">\n",
       "  <thead>\n",
       "    <tr style=\"text-align: right;\">\n",
       "      <th></th>\n",
       "      <th>sequence</th>\n",
       "      <th>charge</th>\n",
       "      <th>id_perc_q_value</th>\n",
       "      <th>protein</th>\n",
       "      <th>species</th>\n",
       "      <th>short_run_name</th>\n",
       "      <th>group</th>\n",
       "      <th>intensity</th>\n",
       "      <th>identified_in_run</th>\n",
       "    </tr>\n",
       "  </thead>\n",
       "  <tbody>\n",
       "    <tr>\n",
       "      <th>89263</th>\n",
       "      <td>SYSNDDESNEILSYEGK</td>\n",
       "      <td>2</td>\n",
       "      <td>0.000028</td>\n",
       "      <td>sp|P33399|LHP1_YEAST</td>\n",
       "      <td>Yeast</td>\n",
       "      <td>YeastUPS1_01</td>\n",
       "      <td>YeastUPS1</td>\n",
       "      <td>962</td>\n",
       "      <td>True</td>\n",
       "    </tr>\n",
       "    <tr>\n",
       "      <th>89264</th>\n",
       "      <td>SYSNDDESNEILSYEGK</td>\n",
       "      <td>2</td>\n",
       "      <td>0.000028</td>\n",
       "      <td>sp|P33399|LHP1_YEAST</td>\n",
       "      <td>Yeast</td>\n",
       "      <td>YeastUPS1_02</td>\n",
       "      <td>YeastUPS1</td>\n",
       "      <td>901</td>\n",
       "      <td>True</td>\n",
       "    </tr>\n",
       "    <tr>\n",
       "      <th>89265</th>\n",
       "      <td>SYSNDDESNEILSYEGK</td>\n",
       "      <td>2</td>\n",
       "      <td>0.000028</td>\n",
       "      <td>sp|P33399|LHP1_YEAST</td>\n",
       "      <td>Yeast</td>\n",
       "      <td>YeastUPS1_03</td>\n",
       "      <td>YeastUPS1</td>\n",
       "      <td>860</td>\n",
       "      <td>True</td>\n",
       "    </tr>\n",
       "    <tr>\n",
       "      <th>89266</th>\n",
       "      <td>SYSNDDESNEILSYEGK</td>\n",
       "      <td>2</td>\n",
       "      <td>0.000028</td>\n",
       "      <td>sp|P33399|LHP1_YEAST</td>\n",
       "      <td>Yeast</td>\n",
       "      <td>YeastUPS1_04</td>\n",
       "      <td>YeastUPS1</td>\n",
       "      <td>1264</td>\n",
       "      <td>True</td>\n",
       "    </tr>\n",
       "    <tr>\n",
       "      <th>89267</th>\n",
       "      <td>SYSNDDESNEILSYEGK</td>\n",
       "      <td>2</td>\n",
       "      <td>0.000028</td>\n",
       "      <td>sp|P33399|LHP1_YEAST</td>\n",
       "      <td>Yeast</td>\n",
       "      <td>YeastUPS1_05</td>\n",
       "      <td>YeastUPS1</td>\n",
       "      <td>728</td>\n",
       "      <td>True</td>\n",
       "    </tr>\n",
       "    <tr>\n",
       "      <th>89268</th>\n",
       "      <td>SYSNDDESNEILSYEGK</td>\n",
       "      <td>2</td>\n",
       "      <td>0.000028</td>\n",
       "      <td>sp|P33399|LHP1_YEAST</td>\n",
       "      <td>Yeast</td>\n",
       "      <td>YeastUPS1_06</td>\n",
       "      <td>YeastUPS1</td>\n",
       "      <td>829</td>\n",
       "      <td>True</td>\n",
       "    </tr>\n",
       "    <tr>\n",
       "      <th>89269</th>\n",
       "      <td>SYSNDDESNEILSYEGK</td>\n",
       "      <td>2</td>\n",
       "      <td>0.000028</td>\n",
       "      <td>sp|P33399|LHP1_YEAST</td>\n",
       "      <td>Yeast</td>\n",
       "      <td>YeastUPS1_07</td>\n",
       "      <td>YeastUPS1</td>\n",
       "      <td>1619</td>\n",
       "      <td>True</td>\n",
       "    </tr>\n",
       "    <tr>\n",
       "      <th>89270</th>\n",
       "      <td>SYSNDDESNEILSYEGK</td>\n",
       "      <td>2</td>\n",
       "      <td>0.000028</td>\n",
       "      <td>sp|P33399|LHP1_YEAST</td>\n",
       "      <td>Yeast</td>\n",
       "      <td>YeastUPS1_08</td>\n",
       "      <td>YeastUPS1</td>\n",
       "      <td>1776</td>\n",
       "      <td>True</td>\n",
       "    </tr>\n",
       "    <tr>\n",
       "      <th>89271</th>\n",
       "      <td>SYSNDDESNEILSYEGK</td>\n",
       "      <td>2</td>\n",
       "      <td>0.000028</td>\n",
       "      <td>sp|P33399|LHP1_YEAST</td>\n",
       "      <td>Yeast</td>\n",
       "      <td>YeastUPS1_09</td>\n",
       "      <td>YeastUPS1</td>\n",
       "      <td>2109</td>\n",
       "      <td>True</td>\n",
       "    </tr>\n",
       "    <tr>\n",
       "      <th>89272</th>\n",
       "      <td>SYSNDDESNEILSYEGK</td>\n",
       "      <td>2</td>\n",
       "      <td>0.000028</td>\n",
       "      <td>sp|P33399|LHP1_YEAST</td>\n",
       "      <td>Yeast</td>\n",
       "      <td>YeastUPS1_10</td>\n",
       "      <td>YeastUPS1</td>\n",
       "      <td>1701</td>\n",
       "      <td>True</td>\n",
       "    </tr>\n",
       "  </tbody>\n",
       "</table>\n",
       "</div>"
      ],
      "text/plain": [
       "                sequence  charge  id_perc_q_value               protein  \\\n",
       "89263  SYSNDDESNEILSYEGK       2         0.000028  sp|P33399|LHP1_YEAST   \n",
       "89264  SYSNDDESNEILSYEGK       2         0.000028  sp|P33399|LHP1_YEAST   \n",
       "89265  SYSNDDESNEILSYEGK       2         0.000028  sp|P33399|LHP1_YEAST   \n",
       "89266  SYSNDDESNEILSYEGK       2         0.000028  sp|P33399|LHP1_YEAST   \n",
       "89267  SYSNDDESNEILSYEGK       2         0.000028  sp|P33399|LHP1_YEAST   \n",
       "89268  SYSNDDESNEILSYEGK       2         0.000028  sp|P33399|LHP1_YEAST   \n",
       "89269  SYSNDDESNEILSYEGK       2         0.000028  sp|P33399|LHP1_YEAST   \n",
       "89270  SYSNDDESNEILSYEGK       2         0.000028  sp|P33399|LHP1_YEAST   \n",
       "89271  SYSNDDESNEILSYEGK       2         0.000028  sp|P33399|LHP1_YEAST   \n",
       "89272  SYSNDDESNEILSYEGK       2         0.000028  sp|P33399|LHP1_YEAST   \n",
       "\n",
       "      species short_run_name      group  intensity  identified_in_run  \n",
       "89263   Yeast   YeastUPS1_01  YeastUPS1        962               True  \n",
       "89264   Yeast   YeastUPS1_02  YeastUPS1        901               True  \n",
       "89265   Yeast   YeastUPS1_03  YeastUPS1        860               True  \n",
       "89266   Yeast   YeastUPS1_04  YeastUPS1       1264               True  \n",
       "89267   Yeast   YeastUPS1_05  YeastUPS1        728               True  \n",
       "89268   Yeast   YeastUPS1_06  YeastUPS1        829               True  \n",
       "89269   Yeast   YeastUPS1_07  YeastUPS1       1619               True  \n",
       "89270   Yeast   YeastUPS1_08  YeastUPS1       1776               True  \n",
       "89271   Yeast   YeastUPS1_09  YeastUPS1       2109               True  \n",
       "89272   Yeast   YeastUPS1_10  YeastUPS1       1701               True  "
      ]
     },
     "execution_count": 126,
     "metadata": {},
     "output_type": "execute_result"
    }
   ],
   "source": [
    "tfde_subset_df[(tfde_subset_df.sequence == 'SYSNDDESNEILSYEGK') & (tfde_subset_df.charge == 2)]"
   ]
  },
  {
   "cell_type": "code",
   "execution_count": 159,
   "metadata": {},
   "outputs": [
    {
     "data": {
      "image/png": "[encoded data removed]",
      "text/plain": [
       "<Figure size 576x576 with 1 Axes>"
      ]
     },
     "metadata": {
      "needs_background": "light"
     },
     "output_type": "display_data"
    }
   ],
   "source": [
    "f, ax1 = plt.subplots()\n",
    "f.set_figheight(8)\n",
    "f.set_figwidth(8)\n",
    "\n",
    "plt.margins(0.06)\n",
    "plt.title('')\n",
    "\n",
    "bins = 300\n",
    "values = sequence_cv_df.intensity_cv\n",
    "y, x, _ = ax1.hist(values, bins=bins)\n",
    "mean = np.mean(values)\n",
    "ax1.axvline(mean, color='darkorange', lw=1.0, ls='-.', label='mean')\n",
    "text_style = dict(size=10, color='brown', verticalalignment='center', horizontalalignment='left')\n",
    "ax1.text(mean*0.85, y.max()*0.98, \"mean {}\".format(round(mean,2)), **text_style, rotation='vertical')\n",
    "\n",
    "plt.xlabel('sequence intensity CV')\n",
    "plt.ylabel('count')\n",
    "# plt.title('TFD/E sequence intensity coefficient of variance for conditions {} ({} unique peptides)'.format(subset_groups,len(sequence_cv_df)))\n",
    "plt.xlim((0,1))\n",
    "plt.ylim((0,1000))\n",
    "\n",
    "plt.show()"
   ]
  },
  {
   "cell_type": "markdown",
   "metadata": {},
   "source": [
    "#### MQ analysis"
   ]
  },
  {
   "cell_type": "code",
   "execution_count": 128,
   "metadata": {},
   "outputs": [],
   "source": [
    "# for each sequence, find the CV\n",
    "sequence_cv_l = []\n",
    "for group_name,group_df in mq_subset_df.groupby(['sequence','modifications','charge']):\n",
    "    if len(group_df) >= 2:\n",
    "        intensity_cv = np.std(group_df.intensity) / np.mean(group_df.intensity)\n",
    "        sequence = ','.join([group_name[0],group_name[1],group_name[2].astype('str')])\n",
    "        sequence_cv_l.append((sequence, intensity_cv))\n",
    "mq_sequence_cv_df = pd.DataFrame(sequence_cv_l, columns=['sequence','intensity_cv'])"
   ]
  },
  {
   "cell_type": "code",
   "execution_count": 129,
   "metadata": {},
   "outputs": [
    {
     "data": {
      "text/html": [
       "<div>\n",
       "<style scoped>\n",
       "    .dataframe tbody tr th:only-of-type {\n",
       "        vertical-align: middle;\n",
       "    }\n",
       "\n",
       "    .dataframe tbody tr th {\n",
       "        vertical-align: top;\n",
       "    }\n",
       "\n",
       "    .dataframe thead th {\n",
       "        text-align: right;\n",
       "    }\n",
       "</style>\n",
       "<table border=\"1\" class=\"dataframe\">\n",
       "  <thead>\n",
       "    <tr style=\"text-align: right;\">\n",
       "      <th></th>\n",
       "      <th>sequence</th>\n",
       "      <th>intensity_cv</th>\n",
       "    </tr>\n",
       "  </thead>\n",
       "  <tbody>\n",
       "    <tr>\n",
       "      <th>6711</th>\n",
       "      <td>QLEQYEAQENEEQTER,Unmodified,2</td>\n",
       "      <td>0.264045</td>\n",
       "    </tr>\n",
       "    <tr>\n",
       "      <th>5875</th>\n",
       "      <td>NIAFPELVTPVIISLR,Unmodified,2</td>\n",
       "      <td>0.236397</td>\n",
       "    </tr>\n",
       "    <tr>\n",
       "      <th>3605</th>\n",
       "      <td>IEGVATPQEAQFYLGK,Unmodified,2</td>\n",
       "      <td>0.074546</td>\n",
       "    </tr>\n",
       "  </tbody>\n",
       "</table>\n",
       "</div>"
      ],
      "text/plain": [
       "                           sequence  intensity_cv\n",
       "6711  QLEQYEAQENEEQTER,Unmodified,2      0.264045\n",
       "5875  NIAFPELVTPVIISLR,Unmodified,2      0.236397\n",
       "3605  IEGVATPQEAQFYLGK,Unmodified,2      0.074546"
      ]
     },
     "execution_count": 129,
     "metadata": {},
     "output_type": "execute_result"
    }
   ],
   "source": [
    "mq_sequence_cv_df.sample(n=3)"
   ]
  },
  {
   "cell_type": "code",
   "execution_count": 130,
   "metadata": {},
   "outputs": [
    {
     "data": {
      "image/png": "[encoded data removed]",
      "text/plain": [
       "<Figure size 576x576 with 1 Axes>"
      ]
     },
     "metadata": {
      "needs_background": "light"
     },
     "output_type": "display_data"
    }
   ],
   "source": [
    "f, ax1 = plt.subplots()\n",
    "f.set_figheight(8)\n",
    "f.set_figwidth(8)\n",
    "\n",
    "plt.margins(0.06)\n",
    "plt.title('')\n",
    "\n",
    "bins = 300\n",
    "values = mq_sequence_cv_df.intensity_cv\n",
    "y, x, _ = ax1.hist(values, bins=bins)\n",
    "mean = np.mean(values)\n",
    "ax1.axvline(mean, color='darkorange', lw=1.0, ls='-.', label='mean')\n",
    "text_style = dict(size=10, color='brown', verticalalignment='center', horizontalalignment='left')\n",
    "ax1.text(mean*0.85, y.max()*0.98, \"mean {}\".format(round(mean,2)), **text_style, rotation='vertical')\n",
    "\n",
    "plt.xlabel('sequence intensity CV')\n",
    "plt.ylabel('count')\n",
    "# plt.title('MaxQuant sequence intensity coefficient of variance for conditions {} ({} unique peptides)'.format(subset_groups, len(mq_sequence_cv_df)))\n",
    "plt.xlim((0,1))\n",
    "plt.ylim((0,1000))\n",
    "\n",
    "plt.show()"
   ]
  },
  {
   "cell_type": "markdown",
   "metadata": {},
   "source": [
    "#### Fragger analysis"
   ]
  },
  {
   "cell_type": "code",
   "execution_count": 131,
   "metadata": {},
   "outputs": [],
   "source": [
    "# for each sequence, find the CV\n",
    "sequence_cv_l = []\n",
    "for group_name,group_df in fragger_subset_df.groupby(['PeptideSequence', 'PrecursorCharge']):\n",
    "    if len(group_df) >= 2:\n",
    "        intensity_cv = np.std(group_df.Intensity) / np.mean(group_df.Intensity)\n",
    "        sequence = ','.join([group_name[0],group_name[1].astype('str')])\n",
    "        sequence_cv_l.append((sequence, intensity_cv))\n",
    "fragger_sequence_cv_df = pd.DataFrame(sequence_cv_l, columns=['sequence','intensity_cv'])"
   ]
  },
  {
   "cell_type": "code",
   "execution_count": 132,
   "metadata": {},
   "outputs": [
    {
     "data": {
      "text/html": [
       "<div>\n",
       "<style scoped>\n",
       "    .dataframe tbody tr th:only-of-type {\n",
       "        vertical-align: middle;\n",
       "    }\n",
       "\n",
       "    .dataframe tbody tr th {\n",
       "        vertical-align: top;\n",
       "    }\n",
       "\n",
       "    .dataframe thead th {\n",
       "        text-align: right;\n",
       "    }\n",
       "</style>\n",
       "<table border=\"1\" class=\"dataframe\">\n",
       "  <thead>\n",
       "    <tr style=\"text-align: right;\">\n",
       "      <th></th>\n",
       "      <th>sequence</th>\n",
       "      <th>intensity_cv</th>\n",
       "    </tr>\n",
       "  </thead>\n",
       "  <tbody>\n",
       "    <tr>\n",
       "      <th>12454</th>\n",
       "      <td>YDLTLTNEGLSTYLLLK,2</td>\n",
       "      <td>0.111634</td>\n",
       "    </tr>\n",
       "    <tr>\n",
       "      <th>12093</th>\n",
       "      <td>VTDGNVLC[57.0215]IPTLEDGTVDIDTK,2</td>\n",
       "      <td>0.064527</td>\n",
       "    </tr>\n",
       "    <tr>\n",
       "      <th>3688</th>\n",
       "      <td>GHENEDVSLEQLDGGYVR,2</td>\n",
       "      <td>0.101153</td>\n",
       "    </tr>\n",
       "  </tbody>\n",
       "</table>\n",
       "</div>"
      ],
      "text/plain": [
       "                                sequence  intensity_cv\n",
       "12454                YDLTLTNEGLSTYLLLK,2      0.111634\n",
       "12093  VTDGNVLC[57.0215]IPTLEDGTVDIDTK,2      0.064527\n",
       "3688                GHENEDVSLEQLDGGYVR,2      0.101153"
      ]
     },
     "execution_count": 132,
     "metadata": {},
     "output_type": "execute_result"
    }
   ],
   "source": [
    "fragger_sequence_cv_df.sample(n=3)"
   ]
  },
  {
   "cell_type": "code",
   "execution_count": 133,
   "metadata": {},
   "outputs": [
    {
     "data": {
      "image/png": "[encoded data removed]",
      "text/plain": [
       "<Figure size 576x576 with 1 Axes>"
      ]
     },
     "metadata": {
      "needs_background": "light"
     },
     "output_type": "display_data"
    }
   ],
   "source": [
    "f, ax1 = plt.subplots()\n",
    "f.set_figheight(8)\n",
    "f.set_figwidth(8)\n",
    "\n",
    "plt.margins(0.06)\n",
    "plt.title('')\n",
    "\n",
    "bins = 300\n",
    "values = fragger_sequence_cv_df.intensity_cv\n",
    "y, x, _ = ax1.hist(values, bins=bins)\n",
    "mean = np.mean(values)\n",
    "ax1.axvline(mean, color='darkorange', lw=1.0, ls='-.', label='mean')\n",
    "text_style = dict(size=10, color='brown', verticalalignment='center', horizontalalignment='left')\n",
    "ax1.text(mean*0.85, y.max()*0.98, \"mean {}\".format(round(mean,2)), **text_style, rotation='vertical')\n",
    "\n",
    "plt.xlabel('sequence intensity CV')\n",
    "plt.ylabel('count')\n",
    "# plt.title('MSFragger sequence intensity coefficient of variance for conditions {} ({} unique peptides)'.format(subset_groups,len(fragger_sequence_cv_df)))\n",
    "plt.xlim((0,1))\n",
    "plt.ylim((0,1000))\n",
    "\n",
    "plt.show()"
   ]
  },
  {
   "cell_type": "markdown",
   "metadata": {},
   "source": [
    "## comparison of peptide intensity in different experiment conditions"
   ]
  },
  {
   "cell_type": "code",
   "execution_count": 134,
   "metadata": {},
   "outputs": [],
   "source": [
    "# the experiment conditions to compare\n",
    "groupA = 'YeastUPS1'\n",
    "groupA_number_of_runs = 10\n",
    "groupB = 'YeastUPS2'\n",
    "groupB_number_of_runs = 10"
   ]
  },
  {
   "cell_type": "markdown",
   "metadata": {},
   "source": [
    "#### TFD/E analysis"
   ]
  },
  {
   "cell_type": "code",
   "execution_count": 135,
   "metadata": {},
   "outputs": [
    {
     "data": {
      "text/plain": [
       "Index(['sequence', 'charge', 'id_perc_q_value', 'protein', 'species',\n",
       "       'short_run_name', 'group', 'intensity', 'identified_in_run'],\n",
       "      dtype='object')"
      ]
     },
     "execution_count": 135,
     "metadata": {},
     "output_type": "execute_result"
    }
   ],
   "source": [
    "sequences_df.columns"
   ]
  },
  {
   "cell_type": "code",
   "execution_count": 136,
   "metadata": {},
   "outputs": [
    {
     "data": {
      "text/plain": [
       "146442"
      ]
     },
     "execution_count": 136,
     "metadata": {},
     "output_type": "execute_result"
    }
   ],
   "source": [
    "sequences_df.identified_in_run.sum()"
   ]
  },
  {
   "cell_type": "code",
   "execution_count": 137,
   "metadata": {},
   "outputs": [
    {
     "data": {
      "text/plain": [
       "146442"
      ]
     },
     "execution_count": 137,
     "metadata": {},
     "output_type": "execute_result"
    }
   ],
   "source": [
    "len(sequences_df[sequences_df.identified_in_run == True])"
   ]
  },
  {
   "cell_type": "code",
   "execution_count": 138,
   "metadata": {},
   "outputs": [],
   "source": [
    "# for each sequence and charge, if it was found in more than half the runs, \n",
    "# find the mean intensity in each group, then find the intensity ratio between groups\n",
    "sequence_occurences_in_group = []\n",
    "for group_name,group_df in sequences_df.groupby(['sequence','charge'], as_index=False):\n",
    "    sequence_in_A_df = group_df[group_df.group == groupA]\n",
    "    sequence_in_B_df = group_df[group_df.group == groupB]\n",
    "    if (\n",
    "            (sequence_in_A_df.identified_in_run.sum() > 0) and            # must have at least one ID in the group\n",
    "            (sequence_in_B_df.identified_in_run.sum() > 0) and\n",
    "            (len(sequence_in_A_df) >= int(groupA_number_of_runs / 2)) and # must have been extracted from more than half the runs in the group\n",
    "            (len(sequence_in_B_df) >= int(groupB_number_of_runs / 2))\n",
    "            ):\n",
    "        intensity_A = sequence_in_A_df.intensity.mean()\n",
    "        intensity_B = sequence_in_B_df.intensity.mean()\n",
    "        species = group_df.iloc[0].species\n",
    "        sequence = group_name[0]\n",
    "        charge = group_name[1]\n",
    "        sequence_occurences_in_group.append((sequence, charge, species, intensity_A, intensity_B))"
   ]
  },
  {
   "cell_type": "code",
   "execution_count": 139,
   "metadata": {},
   "outputs": [],
   "source": [
    "sequence_occurences_in_group_df = pd.DataFrame(sequence_occurences_in_group, columns=['sequence','charge','species','intensity_A','intensity_B'])"
   ]
  },
  {
   "cell_type": "code",
   "execution_count": 140,
   "metadata": {},
   "outputs": [],
   "source": [
    "sequence_occurences_in_group_df['intensity_ratio'] = sequence_occurences_in_group_df.intensity_B / sequence_occurences_in_group_df.intensity_A"
   ]
  },
  {
   "cell_type": "code",
   "execution_count": 141,
   "metadata": {},
   "outputs": [],
   "source": [
    "sequence_occurences_in_group_df['intensity_ratio_log'] = np.log2(sequence_occurences_in_group_df['intensity_ratio'])"
   ]
  },
  {
   "cell_type": "markdown",
   "metadata": {},
   "source": [
    "#### plot the intensity ratios of the two proteomes"
   ]
  },
  {
   "cell_type": "code",
   "execution_count": 142,
   "metadata": {},
   "outputs": [],
   "source": [
    "human_df = sequence_occurences_in_group_df[sequence_occurences_in_group_df.species.str.upper() == 'HUMAN']\n",
    "yeast_df = sequence_occurences_in_group_df[sequence_occurences_in_group_df.species.str.upper() == 'YEAST']"
   ]
  },
  {
   "cell_type": "code",
   "execution_count": 143,
   "metadata": {},
   "outputs": [],
   "source": [
    "kde_df = sequence_occurences_in_group_df[(sequence_occurences_in_group_df.intensity_ratio <= 3)]"
   ]
  },
  {
   "cell_type": "code",
   "execution_count": 144,
   "metadata": {},
   "outputs": [
    {
     "data": {
      "image/png": "[encoded data removed]",
      "text/plain": [
       "<Figure size 590.4x432 with 1 Axes>"
      ]
     },
     "metadata": {
      "needs_background": "light"
     },
     "output_type": "display_data"
    }
   ],
   "source": [
    "import seaborn as sns\n",
    "\n",
    "fp = sns.displot(data=kde_df, x=kde_df['intensity_ratio'], hue='species', hue_order=['Human','Yeast'], palette=['tab:green','tab:cyan'], kind='kde', height=6, aspect=1.2, common_norm=False)\n",
    "\n",
    "x = fp.ax.lines[0].get_xdata()\n",
    "y = fp.ax.lines[0].get_ydata()\n",
    "_ = plt.axvline(x[np.argmax(y)], color='silver', lw=1.5, ls=':')\n",
    "\n",
    "x = fp.ax.lines[1].get_xdata()\n",
    "y = fp.ax.lines[1].get_ydata()\n",
    "_ = plt.axvline(x[np.argmax(y)], color='silver', lw=1.5, ls=':')\n",
    "\n",
    "_ = fp.ax.set(xlabel='intensity {} / intensity {}'.format(groupB, groupA), ylabel='density')"
   ]
  },
  {
   "cell_type": "markdown",
   "metadata": {},
   "source": [
    "#### MQ analysis"
   ]
  },
  {
   "cell_type": "code",
   "execution_count": 145,
   "metadata": {},
   "outputs": [
    {
     "data": {
      "text/plain": [
       "Index(['sequence', 'modifications', 'charge', 'species', 'short_run_name',\n",
       "       'group', 'identified_in_file', 'score', 'intensity'],\n",
       "      dtype='object')"
      ]
     },
     "execution_count": 145,
     "metadata": {},
     "output_type": "execute_result"
    }
   ],
   "source": [
    "mq_sequences_df.columns"
   ]
  },
  {
   "cell_type": "code",
   "execution_count": 146,
   "metadata": {},
   "outputs": [],
   "source": [
    "# for each sequence and charge, if it was found in more than half the runs, \n",
    "# find the mean intensity in each group, then find the intensity ratio between groups\n",
    "sequence_occurences_in_group = []\n",
    "for group_name,group_df in mq_sequences_df.groupby(['sequence','modifications','charge'], as_index=False):\n",
    "    sequence_in_A_df = group_df[group_df.group == groupA]\n",
    "    sequence_in_B_df = group_df[group_df.group == groupB]\n",
    "    if (len(sequence_in_A_df) >= int(groupA_number_of_runs / 2)) and (len(sequence_in_B_df) >= int(groupB_number_of_runs / 2)):\n",
    "        average_intensity_in_A = sequence_in_A_df.intensity.mean()\n",
    "        average_intensity_in_B = sequence_in_B_df.intensity.mean()\n",
    "        species = group_df.iloc[0].species\n",
    "        sequence = group_name[0]\n",
    "        charge = group_name[1]\n",
    "        sequence_occurences_in_group.append((sequence, charge, species, average_intensity_in_A, average_intensity_in_B))"
   ]
  },
  {
   "cell_type": "code",
   "execution_count": 147,
   "metadata": {},
   "outputs": [],
   "source": [
    "mq_sequence_occurences_in_group_df = pd.DataFrame(sequence_occurences_in_group, columns=['sequence','charge','species','intensity_A','intensity_B'])"
   ]
  },
  {
   "cell_type": "code",
   "execution_count": 148,
   "metadata": {},
   "outputs": [],
   "source": [
    "mq_sequence_occurences_in_group_df['intensity_ratio'] = mq_sequence_occurences_in_group_df.intensity_B / mq_sequence_occurences_in_group_df.intensity_A"
   ]
  },
  {
   "cell_type": "code",
   "execution_count": 149,
   "metadata": {},
   "outputs": [],
   "source": [
    "human_df = mq_sequence_occurences_in_group_df[mq_sequence_occurences_in_group_df.species.str.upper() == 'HUMAN']\n",
    "yeast_df = mq_sequence_occurences_in_group_df[mq_sequence_occurences_in_group_df.species.str.upper() == 'YEAST']\n"
   ]
  },
  {
   "cell_type": "code",
   "execution_count": 150,
   "metadata": {},
   "outputs": [],
   "source": [
    "mq_kde_df = mq_sequence_occurences_in_group_df[(mq_sequence_occurences_in_group_df.intensity_ratio <= 3)]"
   ]
  },
  {
   "cell_type": "code",
   "execution_count": 151,
   "metadata": {},
   "outputs": [
    {
     "data": {
      "image/png": "[encoded data removed]",
      "text/plain": [
       "<Figure size 590.4x432 with 1 Axes>"
      ]
     },
     "metadata": {
      "needs_background": "light"
     },
     "output_type": "display_data"
    }
   ],
   "source": [
    "import seaborn as sns\n",
    "\n",
    "fp = sns.displot(data=mq_kde_df, x=mq_kde_df['intensity_ratio'], hue='species', hue_order=['Human','Yeast'], palette=['tab:green','tab:cyan'], kind='kde', height=6, aspect=1.2, common_norm=False)\n",
    "\n",
    "x = fp.ax.lines[0].get_xdata()\n",
    "y = fp.ax.lines[0].get_ydata()\n",
    "_ = plt.axvline(x[np.argmax(y)], color='silver', lw=1.5, ls=':')\n",
    "\n",
    "x = fp.ax.lines[1].get_xdata()\n",
    "y = fp.ax.lines[1].get_ydata()\n",
    "_ = plt.axvline(x[np.argmax(y)], color='silver', lw=1.5, ls=':')\n",
    "\n",
    "_ = fp.ax.set(xlabel='intensity {} / intensity {}'.format(groupB, groupA), ylabel='density')"
   ]
  },
  {
   "cell_type": "markdown",
   "metadata": {},
   "source": [
    "#### Fragger analysis"
   ]
  },
  {
   "cell_type": "code",
   "execution_count": 152,
   "metadata": {},
   "outputs": [
    {
     "data": {
      "text/plain": [
       "Index(['ProteinName', 'PeptideSequence', 'PrecursorCharge', 'FragmentIon',\n",
       "       'ProductCharge', 'IsotopeLabelType', 'Condition', 'BioReplicate', 'Run',\n",
       "       'Intensity', 'short_run_name', 'group', 'species'],\n",
       "      dtype='object')"
      ]
     },
     "execution_count": 152,
     "metadata": {},
     "output_type": "execute_result"
    }
   ],
   "source": [
    "fragger_sequences_df.columns"
   ]
  },
  {
   "cell_type": "code",
   "execution_count": 153,
   "metadata": {},
   "outputs": [],
   "source": [
    "# for each sequence and charge, if it was found in more than half the runs, \n",
    "# find the mean intensity in each group, then find the intensity ratio between groups\n",
    "sequence_occurences_in_group = []\n",
    "for group_name,group_df in fragger_sequences_df.groupby(['PeptideSequence','PrecursorCharge'], as_index=False):\n",
    "    sequence_in_A_df = group_df[group_df.group == groupA]\n",
    "    sequence_in_B_df = group_df[group_df.group == groupB]\n",
    "    if (len(sequence_in_A_df) >= int(groupA_number_of_runs / 2)) and (len(sequence_in_B_df) >= int(groupB_number_of_runs / 2)):\n",
    "        average_intensity_in_A = sequence_in_A_df.Intensity.mean()\n",
    "        average_intensity_in_B = sequence_in_B_df.Intensity.mean()\n",
    "        species = group_df.iloc[0].species\n",
    "        sequence = group_name[0]\n",
    "        charge = group_name[1]\n",
    "        sequence_occurences_in_group.append((sequence, charge, species, average_intensity_in_A, average_intensity_in_B))"
   ]
  },
  {
   "cell_type": "code",
   "execution_count": 154,
   "metadata": {},
   "outputs": [],
   "source": [
    "fragger_sequence_occurences_in_group_df = pd.DataFrame(sequence_occurences_in_group, columns=['sequence','charge','species','intensity_A','intensity_B'])"
   ]
  },
  {
   "cell_type": "code",
   "execution_count": 155,
   "metadata": {},
   "outputs": [],
   "source": [
    "fragger_sequence_occurences_in_group_df['intensity_ratio'] = fragger_sequence_occurences_in_group_df.intensity_B / fragger_sequence_occurences_in_group_df.intensity_A"
   ]
  },
  {
   "cell_type": "code",
   "execution_count": 156,
   "metadata": {},
   "outputs": [],
   "source": [
    "human_df = fragger_sequence_occurences_in_group_df[fragger_sequence_occurences_in_group_df.species == 'HUMAN']\n",
    "yeast_df = fragger_sequence_occurences_in_group_df[fragger_sequence_occurences_in_group_df.species == 'YEAST']"
   ]
  },
  {
   "cell_type": "code",
   "execution_count": 157,
   "metadata": {},
   "outputs": [],
   "source": [
    "fragger_kde_df = fragger_sequence_occurences_in_group_df[(fragger_sequence_occurences_in_group_df.intensity_ratio <= 3)]"
   ]
  },
  {
   "cell_type": "code",
   "execution_count": 158,
   "metadata": {},
   "outputs": [
    {
     "data": {
      "image/png": "[encoded data removed]",
      "text/plain": [
       "<Figure size 590.4x432 with 1 Axes>"
      ]
     },
     "metadata": {
      "needs_background": "light"
     },
     "output_type": "display_data"
    }
   ],
   "source": [
    "import seaborn as sns\n",
    "\n",
    "fp = sns.displot(data=fragger_kde_df, x=fragger_kde_df['intensity_ratio'], hue='species', hue_order=['Human','Yeast','E. coli'], palette=['tab:green','tab:cyan','tab:red'], kind='kde', height=6, aspect=1.2, common_norm=False)\n",
    "\n",
    "x = fp.ax.lines[0].get_xdata()\n",
    "y = fp.ax.lines[0].get_ydata()\n",
    "_ = plt.axvline(x[np.argmax(y)], color='silver', lw=1.5, ls=':')\n",
    "\n",
    "x = fp.ax.lines[1].get_xdata()\n",
    "y = fp.ax.lines[1].get_ydata()\n",
    "_ = plt.axvline(x[np.argmax(y)], color='silver', lw=1.5, ls=':')\n",
    "\n",
    "x = fp.ax.lines[2].get_xdata()\n",
    "y = fp.ax.lines[2].get_ydata()\n",
    "_ = plt.axvline(x[np.argmax(y)], color='silver', lw=1.5, ls=':')\n",
    "\n",
    "\n",
    "_ = fp.ax.set(xlabel='intensity {} / intensity {}'.format(groupB, groupA), ylabel='density')"
   ]
  },
  {
   "cell_type": "code",
   "execution_count": null,
   "metadata": {},
   "outputs": [],
   "source": []
  }
 ],
 "metadata": {
  "kernelspec": {
   "display_name": "Python 3",
   "language": "python",
   "name": "python3"
  },
  "language_info": {
   "codemirror_mode": {
    "name": "ipython",
    "version": 3
   },
   "file_extension": ".py",
   "mimetype": "text/x-python",
   "name": "python",
   "nbconvert_exporter": "python",
   "pygments_lexer": "ipython3",
   "version": "3.8.5"
  }
 },
 "nbformat": 4,
 "nbformat_minor": 2
}
