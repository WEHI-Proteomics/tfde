{
 "cells": [
  {
   "cell_type": "code",
   "execution_count": 2,
   "metadata": {},
   "outputs": [],
   "source": [
    "import pickle\n",
    "import numpy as np"
   ]
  },
  {
   "cell_type": "code",
   "execution_count": 4,
   "metadata": {},
   "outputs": [],
   "source": [
    "RESULTS_DIR = '/media/data-4t-a/results-P3856_YHE211/2021-10-06-06-59-25/P3856_YHE211'\n",
    "COORDINATE_ESTIMATORS_DIR = \"{}/coordinate-estimators\".format(RESULTS_DIR)\n",
    "RUN_NAME = 'P3856_YHE211_1_Slot1-1_1_5104'"
   ]
  },
  {
   "cell_type": "code",
   "execution_count": 7,
   "metadata": {},
   "outputs": [],
   "source": [
    "# load the test data\n",
    "X_test = np.load('{}/run-{}-X_test.npy'.format(COORDINATE_ESTIMATORS_DIR, RUN_NAME))\n",
    "y_test = np.load('{}/run-{}-y_test.npy'.format(COORDINATE_ESTIMATORS_DIR, RUN_NAME))"
   ]
  },
  {
   "cell_type": "code",
   "execution_count": 8,
   "metadata": {},
   "outputs": [],
   "source": [
    "# load the coordinate estimators\n",
    "MZ_ESTIMATOR_MODEL_FILE_NAME = \"{}/run-{}-{}-estimator.pkl\".format(COORDINATE_ESTIMATORS_DIR, RUN_NAME, 'mz')\n",
    "SCAN_ESTIMATOR_MODEL_FILE_NAME = \"{}/run-{}-{}-estimator.pkl\".format(COORDINATE_ESTIMATORS_DIR, RUN_NAME, 'scan')\n",
    "RT_ESTIMATOR_MODEL_FILE_NAME = \"{}/run-{}-{}-estimator.pkl\".format(COORDINATE_ESTIMATORS_DIR, RUN_NAME, 'rt')\n",
    "\n",
    "with open(MZ_ESTIMATOR_MODEL_FILE_NAME, 'rb') as file:\n",
    "    mz_estimator = pickle.load(file)\n",
    "with open(SCAN_ESTIMATOR_MODEL_FILE_NAME, 'rb') as file:\n",
    "    scan_estimator = pickle.load(file)\n",
    "with open(RT_ESTIMATOR_MODEL_FILE_NAME, 'rb') as file:\n",
    "    rt_estimator = pickle.load(file)"
   ]
  },
  {
   "cell_type": "code",
   "execution_count": 17,
   "metadata": {},
   "outputs": [
    {
     "name": "stdout",
     "output_type": "stream",
     "text": [
      "test set mean delta absolute error: 0.7664 m/z ppm\n"
     ]
    }
   ],
   "source": [
    "y_test_pred = mz_estimator.predict(X_test)\n",
    "print(\"test set mean delta absolute error: {} m/z ppm\".format(round(np.abs(y_test[:,0]-y_test_pred).mean(),4)))"
   ]
  },
  {
   "cell_type": "code",
   "execution_count": 18,
   "metadata": {},
   "outputs": [
    {
     "name": "stdout",
     "output_type": "stream",
     "text": [
      "test set mean delta absolute error: 0.0094 scan\n"
     ]
    }
   ],
   "source": [
    "y_test_pred = scan_estimator.predict(X_test)\n",
    "print(\"test set mean delta absolute error: {} scan\".format(round(np.abs(y_test[:,1]-y_test_pred).mean(),4)))"
   ]
  },
  {
   "cell_type": "code",
   "execution_count": 19,
   "metadata": {},
   "outputs": [
    {
     "name": "stdout",
     "output_type": "stream",
     "text": [
      "test set mean delta absolute error: 0.0008 RT secs\n"
     ]
    }
   ],
   "source": [
    "y_test_pred = rt_estimator.predict(X_test)\n",
    "print(\"test set mean delta absolute error: {} RT secs\".format(round(np.abs(y_test[:,2]-y_test_pred).mean(),4)))"
   ]
  }
 ],
 "metadata": {
  "kernelspec": {
   "display_name": "Python 3",
   "language": "python",
   "name": "python3"
  },
  "language_info": {
   "codemirror_mode": {
    "name": "ipython",
    "version": 3
   },
   "file_extension": ".py",
   "mimetype": "text/x-python",
   "name": "python",
   "nbconvert_exporter": "python",
   "pygments_lexer": "ipython3",
   "version": "3.8.5"
  }
 },
 "nbformat": 4,
 "nbformat_minor": 4
}
