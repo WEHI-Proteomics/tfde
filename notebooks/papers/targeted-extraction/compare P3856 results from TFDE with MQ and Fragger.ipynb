{
 "cells": [
  {
   "cell_type": "code",
   "execution_count": 1,
   "metadata": {},
   "outputs": [],
   "source": [
    "import pandas as pd\n",
    "import numpy as np\n",
    "import sqlite3\n",
    "import json\n",
    "import matplotlib.pyplot as plt\n",
    "import seaborn as sns\n",
    "from cmcrameri import cm\n",
    "from os.path import expanduser"
   ]
  },
  {
   "cell_type": "code",
   "execution_count": 2,
   "metadata": {},
   "outputs": [],
   "source": [
    "EXPERIMENT_NAME = 'P3856_YHE211'"
   ]
  },
  {
   "cell_type": "markdown",
   "metadata": {},
   "source": [
    "#### prepare the TFD/E results"
   ]
  },
  {
   "cell_type": "code",
   "execution_count": 3,
   "metadata": {},
   "outputs": [],
   "source": [
    "# load the results\n",
    "EXPERIMENT_DIR = '/media/data-4t-a/results-P3856_YHE211/2021-10-06-06-59-25/P3856_YHE211/'\n",
    "# EXPERIMENT_DIR = '{}/Downloads/experiments/results-P3856_YHE211/2021-10-06-06-59-25/P3856_YHE211'.format(expanduser('~'))\n",
    "RESULTS_DB_NAME = '{}/summarised-results/results.sqlite'.format(EXPERIMENT_DIR)\n",
    "db_conn = sqlite3.connect(RESULTS_DB_NAME)\n",
    "results_yhe211_df = pd.read_sql_query(\"select * from sequences\", db_conn)\n",
    "db_conn.close()"
   ]
  },
  {
   "cell_type": "code",
   "execution_count": 4,
   "metadata": {},
   "outputs": [],
   "source": [
    "# load the results\n",
    "EXPERIMENT_DIR = '/media/data-4t-a/results-P3856_YHE114/2021-10-08-00-38-18/P3856_YHE114/'\n",
    "# EXPERIMENT_DIR = '{}/Downloads/experiments/results-P3856_YHE114/2021-10-08-00-38-18/P3856_YHE114'.format(expanduser('~'))\n",
    "RESULTS_DB_NAME = '{}/summarised-results/results.sqlite'.format(EXPERIMENT_DIR)\n",
    "db_conn = sqlite3.connect(RESULTS_DB_NAME)\n",
    "results_yhe114_df = pd.read_sql_query(\"select * from sequences\", db_conn)\n",
    "db_conn.close()"
   ]
  },
  {
   "cell_type": "code",
   "execution_count": 5,
   "metadata": {},
   "outputs": [],
   "source": [
    "tfde_results_df = pd.concat([results_yhe211_df,results_yhe114_df], axis=0, sort=False, ignore_index=True)"
   ]
  },
  {
   "cell_type": "code",
   "execution_count": 6,
   "metadata": {},
   "outputs": [
    {
     "data": {
      "text/plain": [
       "36946"
      ]
     },
     "execution_count": 6,
     "metadata": {},
     "output_type": "execute_result"
    }
   ],
   "source": [
    "len(tfde_results_df)"
   ]
  },
  {
   "cell_type": "code",
   "execution_count": 7,
   "metadata": {},
   "outputs": [],
   "source": [
    "# convert the identifications from JSON to Python objects\n",
    "tfde_results_df['identifications_d'] = tfde_results_df.apply(lambda row: json.loads(row.identifications), axis=1)"
   ]
  },
  {
   "cell_type": "code",
   "execution_count": 8,
   "metadata": {},
   "outputs": [],
   "source": [
    "def classify_protein(protein):\n",
    "    result = 'UNKNOWN'\n",
    "    if 'HUMAN' in protein.upper():\n",
    "        result = 'Human'\n",
    "    elif 'YEAST' in protein.upper():\n",
    "        result = 'Yeast'\n",
    "    elif 'ECOLI' in protein.upper():\n",
    "        result = 'E. coli'\n",
    "    return result"
   ]
  },
  {
   "cell_type": "code",
   "execution_count": 9,
   "metadata": {},
   "outputs": [],
   "source": [
    "# return True if we can include an extraction from the specified group, given the groups in which it was identified\n",
    "# need to implement these rules differently for each experiment, probably best with a simple rules parameter file\n",
    "def extract_from_group(extract_group, identification_run_names_l):\n",
    "    result = False\n",
    "    identification_groups_l = list(set([r.split('_')[1] for r in identification_run_names_l]))\n",
    "    if extract_group == 'YHE010':\n",
    "        result = extract_group in identification_groups_l\n",
    "    else:\n",
    "        result = True\n",
    "    return result"
   ]
  },
  {
   "cell_type": "code",
   "execution_count": 10,
   "metadata": {},
   "outputs": [],
   "source": [
    "# separate some key metrics into separate columns\n",
    "tfde_results_df['id_perc_q_value'] = tfde_results_df.apply(lambda row: row.identifications_d['perc_q_value'], axis=1)\n",
    "tfde_results_df['id_count_all_runs'] = tfde_results_df.apply(lambda row: len(row.identifications_d['run_names']), axis=1)\n",
    "tfde_results_df['id_count_human_only_runs'] = tfde_results_df.apply(lambda row: sum('YHE010' in s for s in row.identifications_d['run_names']), axis=1)\n",
    "tfde_results_df['id_number_of_proteins'] = tfde_results_df.apply(lambda row: row.identifications_d['number_of_proteins'], axis=1)"
   ]
  },
  {
   "cell_type": "code",
   "execution_count": 11,
   "metadata": {},
   "outputs": [],
   "source": [
    "tfde_results_df['id_protein'] = tfde_results_df.apply(lambda row: row.identifications_d['proteins'][0], axis=1)\n",
    "tfde_results_df['id_species'] = tfde_results_df.apply(lambda row: classify_protein(row.id_protein), axis=1)"
   ]
  },
  {
   "cell_type": "code",
   "execution_count": 12,
   "metadata": {},
   "outputs": [
    {
     "data": {
      "text/plain": [
       "array(['Human', 'Yeast', 'E. coli'], dtype=object)"
      ]
     },
     "execution_count": 12,
     "metadata": {},
     "output_type": "execute_result"
    }
   ],
   "source": [
    "tfde_results_df.id_species.unique()"
   ]
  },
  {
   "cell_type": "code",
   "execution_count": 13,
   "metadata": {},
   "outputs": [],
   "source": [
    "# remove the results that couldn't be extracted or were not classified as a target\n",
    "tfde_results_df = tfde_results_df[tfde_results_df.extractions.notnull()].copy()"
   ]
  },
  {
   "cell_type": "code",
   "execution_count": 14,
   "metadata": {},
   "outputs": [],
   "source": [
    "# convert from JSON to Python objects\n",
    "tfde_results_df['extractions_l'] = tfde_results_df.apply(lambda row: json.loads(row.extractions), axis=1)"
   ]
  },
  {
   "cell_type": "code",
   "execution_count": 15,
   "metadata": {},
   "outputs": [],
   "source": [
    "# separate some key metrics into separate columns\n",
    "tfde_results_df['ext_count_all_runs'] = tfde_results_df.apply(lambda row: len(row.extractions_l), axis=1)\n",
    "tfde_results_df['ext_count_human_only_runs'] = tfde_results_df.apply(lambda row: sum('YHE010' in s['run_name'] for s in row.extractions_l), axis=1)"
   ]
  },
  {
   "cell_type": "code",
   "execution_count": 16,
   "metadata": {},
   "outputs": [
    {
     "data": {
      "text/html": [
       "<div>\n",
       "<style scoped>\n",
       "    .dataframe tbody tr th:only-of-type {\n",
       "        vertical-align: middle;\n",
       "    }\n",
       "\n",
       "    .dataframe tbody tr th {\n",
       "        vertical-align: top;\n",
       "    }\n",
       "\n",
       "    .dataframe thead th {\n",
       "        text-align: right;\n",
       "    }\n",
       "</style>\n",
       "<table border=\"1\" class=\"dataframe\">\n",
       "  <thead>\n",
       "    <tr style=\"text-align: right;\">\n",
       "      <th></th>\n",
       "      <th>sequence</th>\n",
       "      <th>charge</th>\n",
       "      <th>identifications</th>\n",
       "      <th>extractions</th>\n",
       "      <th>identifications_d</th>\n",
       "      <th>id_perc_q_value</th>\n",
       "      <th>id_count_all_runs</th>\n",
       "      <th>id_count_human_only_runs</th>\n",
       "      <th>id_number_of_proteins</th>\n",
       "      <th>id_protein</th>\n",
       "      <th>id_species</th>\n",
       "      <th>extractions_l</th>\n",
       "      <th>ext_count_all_runs</th>\n",
       "      <th>ext_count_human_only_runs</th>\n",
       "    </tr>\n",
       "  </thead>\n",
       "  <tbody>\n",
       "    <tr>\n",
       "      <th>30623</th>\n",
       "      <td>NSHLINVLMWELEK</td>\n",
       "      <td>2</td>\n",
       "      <td>{\"perc_q_value\": 1.4979927e-05, \"run_names\": [...</td>\n",
       "      <td>[{\"run_name\": \"P3856_YHE114_1_Slot1-1_1_5115\",...</td>\n",
       "      <td>{'perc_q_value': 1.4979927e-05, 'run_names': [...</td>\n",
       "      <td>0.000015</td>\n",
       "      <td>10</td>\n",
       "      <td>0</td>\n",
       "      <td>1</td>\n",
       "      <td>sp|O15372|EIF3H_HUMAN</td>\n",
       "      <td>Human</td>\n",
       "      <td>[{'run_name': 'P3856_YHE114_1_Slot1-1_1_5115',...</td>\n",
       "      <td>10</td>\n",
       "      <td>0</td>\n",
       "    </tr>\n",
       "    <tr>\n",
       "      <th>29442</th>\n",
       "      <td>MCLAADVPLIESGTAGYLGQVTTIK</td>\n",
       "      <td>3</td>\n",
       "      <td>{\"perc_q_value\": 0.00043045812, \"run_names\": [...</td>\n",
       "      <td>[{\"run_name\": \"P3856_YHE114_1_Slot1-1_1_5115\",...</td>\n",
       "      <td>{'perc_q_value': 0.00043045812, 'run_names': [...</td>\n",
       "      <td>0.000430</td>\n",
       "      <td>5</td>\n",
       "      <td>0</td>\n",
       "      <td>1</td>\n",
       "      <td>sp|Q9UBT2|SAE2_HUMAN</td>\n",
       "      <td>Human</td>\n",
       "      <td>[{'run_name': 'P3856_YHE114_1_Slot1-1_1_5115',...</td>\n",
       "      <td>10</td>\n",
       "      <td>0</td>\n",
       "    </tr>\n",
       "    <tr>\n",
       "      <th>36376</th>\n",
       "      <td>YEMLQDNVEGYR</td>\n",
       "      <td>2</td>\n",
       "      <td>{\"perc_q_value\": 0.00078774238, \"run_names\": [...</td>\n",
       "      <td>[{\"run_name\": \"P3856_YHE114_1_Slot1-1_1_5115\",...</td>\n",
       "      <td>{'perc_q_value': 0.00078774238, 'run_names': [...</td>\n",
       "      <td>0.000788</td>\n",
       "      <td>2</td>\n",
       "      <td>0</td>\n",
       "      <td>1</td>\n",
       "      <td>sp|P12270|TPR_HUMAN</td>\n",
       "      <td>Human</td>\n",
       "      <td>[{'run_name': 'P3856_YHE114_1_Slot1-1_1_5115',...</td>\n",
       "      <td>10</td>\n",
       "      <td>0</td>\n",
       "    </tr>\n",
       "  </tbody>\n",
       "</table>\n",
       "</div>"
      ],
      "text/plain": [
       "                        sequence  charge  \\\n",
       "30623             NSHLINVLMWELEK       2   \n",
       "29442  MCLAADVPLIESGTAGYLGQVTTIK       3   \n",
       "36376               YEMLQDNVEGYR       2   \n",
       "\n",
       "                                         identifications  \\\n",
       "30623  {\"perc_q_value\": 1.4979927e-05, \"run_names\": [...   \n",
       "29442  {\"perc_q_value\": 0.00043045812, \"run_names\": [...   \n",
       "36376  {\"perc_q_value\": 0.00078774238, \"run_names\": [...   \n",
       "\n",
       "                                             extractions  \\\n",
       "30623  [{\"run_name\": \"P3856_YHE114_1_Slot1-1_1_5115\",...   \n",
       "29442  [{\"run_name\": \"P3856_YHE114_1_Slot1-1_1_5115\",...   \n",
       "36376  [{\"run_name\": \"P3856_YHE114_1_Slot1-1_1_5115\",...   \n",
       "\n",
       "                                       identifications_d  id_perc_q_value  \\\n",
       "30623  {'perc_q_value': 1.4979927e-05, 'run_names': [...         0.000015   \n",
       "29442  {'perc_q_value': 0.00043045812, 'run_names': [...         0.000430   \n",
       "36376  {'perc_q_value': 0.00078774238, 'run_names': [...         0.000788   \n",
       "\n",
       "       id_count_all_runs  id_count_human_only_runs  id_number_of_proteins  \\\n",
       "30623                 10                         0                      1   \n",
       "29442                  5                         0                      1   \n",
       "36376                  2                         0                      1   \n",
       "\n",
       "                  id_protein id_species  \\\n",
       "30623  sp|O15372|EIF3H_HUMAN      Human   \n",
       "29442   sp|Q9UBT2|SAE2_HUMAN      Human   \n",
       "36376    sp|P12270|TPR_HUMAN      Human   \n",
       "\n",
       "                                           extractions_l  ext_count_all_runs  \\\n",
       "30623  [{'run_name': 'P3856_YHE114_1_Slot1-1_1_5115',...                  10   \n",
       "29442  [{'run_name': 'P3856_YHE114_1_Slot1-1_1_5115',...                  10   \n",
       "36376  [{'run_name': 'P3856_YHE114_1_Slot1-1_1_5115',...                  10   \n",
       "\n",
       "       ext_count_human_only_runs  \n",
       "30623                          0  \n",
       "29442                          0  \n",
       "36376                          0  "
      ]
     },
     "execution_count": 16,
     "metadata": {},
     "output_type": "execute_result"
    }
   ],
   "source": [
    "tfde_results_df.sample(n=3)"
   ]
  },
  {
   "cell_type": "code",
   "execution_count": 17,
   "metadata": {},
   "outputs": [
    {
     "data": {
      "text/plain": [
       "'{\"perc_q_value\": 0.0096781832, \"run_names\": [\"P3856_YHE211_10_Slot1-1_1_5113\", \"P3856_YHE211_2_Slot1-1_1_5105\"], \"number_of_runs\": 2, \"proteins\": [\"sp|Q12948|FOXC1_HUMAN\"], \"number_of_proteins\": 1}'"
      ]
     },
     "execution_count": 17,
     "metadata": {},
     "output_type": "execute_result"
    }
   ],
   "source": [
    "tfde_results_df.iloc[0].identifications"
   ]
  },
  {
   "cell_type": "code",
   "execution_count": 18,
   "metadata": {},
   "outputs": [
    {
     "data": {
      "text/plain": [
       "[{'run_name': 'P3856_YHE211_1_Slot1-1_1_5104',\n",
       "  'prob_target': 0.9991647754679046,\n",
       "  'intensity': 393,\n",
       "  'inferred': 0},\n",
       " {'run_name': 'P3856_YHE211_2_Slot1-1_1_5105',\n",
       "  'prob_target': 0.9971402554248582,\n",
       "  'intensity': 536,\n",
       "  'inferred': 0},\n",
       " {'run_name': 'P3856_YHE211_3_Slot1-1_1_5106',\n",
       "  'prob_target': 0.9982835030602403,\n",
       "  'intensity': 385,\n",
       "  'inferred': 0},\n",
       " {'run_name': 'P3856_YHE211_4_Slot1-1_1_5107',\n",
       "  'prob_target': 0.9994009362305034,\n",
       "  'intensity': 432,\n",
       "  'inferred': 0},\n",
       " {'run_name': 'P3856_YHE211_5_Slot1-1_1_5108',\n",
       "  'prob_target': 0.9970564019684934,\n",
       "  'intensity': 473,\n",
       "  'inferred': 0},\n",
       " {'run_name': 'P3856_YHE211_6_Slot1-1_1_5109',\n",
       "  'prob_target': 0.9983179378942288,\n",
       "  'intensity': 451,\n",
       "  'inferred': 0},\n",
       " {'run_name': 'P3856_YHE211_7_Slot1-1_1_5110',\n",
       "  'prob_target': 0.9984985275901521,\n",
       "  'intensity': 349,\n",
       "  'inferred': 0},\n",
       " {'run_name': 'P3856_YHE211_8_Slot1-1_1_5111',\n",
       "  'prob_target': 0.9988235544723819,\n",
       "  'intensity': 384,\n",
       "  'inferred': 0},\n",
       " {'run_name': 'P3856_YHE211_9_Slot1-1_1_5112',\n",
       "  'prob_target': 0.9988024827806756,\n",
       "  'intensity': 422,\n",
       "  'inferred': 0},\n",
       " {'run_name': 'P3856_YHE211_10_Slot1-1_1_5113',\n",
       "  'prob_target': 0.9996412638327419,\n",
       "  'intensity': 384,\n",
       "  'inferred': 0}]"
      ]
     },
     "execution_count": 18,
     "metadata": {},
     "output_type": "execute_result"
    }
   ],
   "source": [
    "tfde_results_df.iloc[0].extractions_l"
   ]
  },
  {
   "cell_type": "markdown",
   "metadata": {},
   "source": [
    "##### identifications"
   ]
  },
  {
   "cell_type": "code",
   "execution_count": 19,
   "metadata": {},
   "outputs": [],
   "source": [
    "# count the number of unique peptide identifications in each run\n",
    "counts_d = {}\n",
    "for row in tfde_results_df.itertuples():\n",
    "    for run_name in row.identifications_d['run_names']:\n",
    "        if run_name not in counts_d:\n",
    "            counts_d[run_name] = 0\n",
    "        counts_d[run_name] += 1"
   ]
  },
  {
   "cell_type": "code",
   "execution_count": 20,
   "metadata": {},
   "outputs": [],
   "source": [
    "# sort the run names by group then run number within the group\n",
    "sorted_counts_l = []\n",
    "for k in sorted(list(counts_d.keys()), key=lambda x: ( x.split('_')[1], int(x.split('_')[2]) )):\n",
    "    short_run_name = '_'.join(k.split('_Slot')[0].split('_')[1:])\n",
    "    sorted_counts_l.append((short_run_name, counts_d[k]))\n",
    "tfde_sorted_counts_df = pd.DataFrame(sorted_counts_l, columns=['run_name','count'])"
   ]
  },
  {
   "cell_type": "markdown",
   "metadata": {},
   "source": [
    "##### extractions"
   ]
  },
  {
   "cell_type": "code",
   "execution_count": 21,
   "metadata": {},
   "outputs": [],
   "source": [
    "# count the number of unique peptide extractions in each run\n",
    "counts_d = {}\n",
    "for row in tfde_results_df.itertuples():\n",
    "    for extraction in row.extractions_l:\n",
    "        run_name = extraction['run_name']\n",
    "        if run_name not in counts_d:\n",
    "            counts_d[run_name] = 0\n",
    "        counts_d[run_name] += 1"
   ]
  },
  {
   "cell_type": "code",
   "execution_count": 22,
   "metadata": {},
   "outputs": [],
   "source": [
    "# sort the run names by group then run number within the group\n",
    "sorted_counts_l = []\n",
    "for k in sorted(list(counts_d.keys()), key=lambda x: ( x.split('_')[1], int(x.split('_')[2]) )):\n",
    "    short_run_name = '_'.join(k.split('_Slot')[0].split('_')[1:])\n",
    "    sorted_counts_l.append((short_run_name, counts_d[k]))\n",
    "tfde_extracts_sorted_counts_df = pd.DataFrame(sorted_counts_l, columns=['run_name','count'])"
   ]
  },
  {
   "cell_type": "markdown",
   "metadata": {},
   "source": [
    "##### comparing extractions with identifications"
   ]
  },
  {
   "cell_type": "code",
   "execution_count": 23,
   "metadata": {},
   "outputs": [],
   "source": [
    "merged_df = tfde_sorted_counts_df.merge(tfde_extracts_sorted_counts_df,on='run_name')\n",
    "merged_df.rename({'count_x':'identifications', 'count_y':'extractions'}, axis=1, inplace=True)\n",
    "merged_df.index = merged_df.run_name"
   ]
  },
  {
   "cell_type": "code",
   "execution_count": 24,
   "metadata": {},
   "outputs": [
    {
     "data": {
      "text/html": [
       "<div>\n",
       "<style scoped>\n",
       "    .dataframe tbody tr th:only-of-type {\n",
       "        vertical-align: middle;\n",
       "    }\n",
       "\n",
       "    .dataframe tbody tr th {\n",
       "        vertical-align: top;\n",
       "    }\n",
       "\n",
       "    .dataframe thead th {\n",
       "        text-align: right;\n",
       "    }\n",
       "</style>\n",
       "<table border=\"1\" class=\"dataframe\">\n",
       "  <thead>\n",
       "    <tr style=\"text-align: right;\">\n",
       "      <th></th>\n",
       "      <th>run_name</th>\n",
       "      <th>identifications</th>\n",
       "      <th>extractions</th>\n",
       "    </tr>\n",
       "    <tr>\n",
       "      <th>run_name</th>\n",
       "      <th></th>\n",
       "      <th></th>\n",
       "      <th></th>\n",
       "    </tr>\n",
       "  </thead>\n",
       "  <tbody>\n",
       "    <tr>\n",
       "      <th>YHE114_6</th>\n",
       "      <td>YHE114_6</td>\n",
       "      <td>10743</td>\n",
       "      <td>17151</td>\n",
       "    </tr>\n",
       "    <tr>\n",
       "      <th>YHE114_2</th>\n",
       "      <td>YHE114_2</td>\n",
       "      <td>11144</td>\n",
       "      <td>17368</td>\n",
       "    </tr>\n",
       "    <tr>\n",
       "      <th>YHE211_8</th>\n",
       "      <td>YHE211_8</td>\n",
       "      <td>11337</td>\n",
       "      <td>17893</td>\n",
       "    </tr>\n",
       "  </tbody>\n",
       "</table>\n",
       "</div>"
      ],
      "text/plain": [
       "          run_name  identifications  extractions\n",
       "run_name                                        \n",
       "YHE114_6  YHE114_6            10743        17151\n",
       "YHE114_2  YHE114_2            11144        17368\n",
       "YHE211_8  YHE211_8            11337        17893"
      ]
     },
     "execution_count": 24,
     "metadata": {},
     "output_type": "execute_result"
    }
   ],
   "source": [
    "merged_df.sample(n=3)"
   ]
  },
  {
   "cell_type": "code",
   "execution_count": 25,
   "metadata": {},
   "outputs": [
    {
     "name": "stdout",
     "output_type": "stream",
     "text": [
      "mean increase of 58%\n"
     ]
    }
   ],
   "source": [
    "print('mean increase of {}%'.format(round((merged_df.extractions.mean() - merged_df.identifications.mean()) / merged_df.identifications.mean() * 100)))"
   ]
  },
  {
   "cell_type": "code",
   "execution_count": 26,
   "metadata": {},
   "outputs": [
    {
     "data": {
      "image/png": "[encoded data removed]",
      "text/plain": [
       "<Figure size 1080x576 with 1 Axes>"
      ]
     },
     "metadata": {
      "needs_background": "light"
     },
     "output_type": "display_data"
    }
   ],
   "source": [
    "merged_df.plot(kind='bar', figsize=(15,8))\n",
    "# _ = plt.title(\"Unique peptides identified in each run\")\n",
    "_ = plt.xlabel(\"run\")\n",
    "_ = plt.ylabel(\"number of unique peptides\")"
   ]
  },
  {
   "cell_type": "markdown",
   "metadata": {},
   "source": [
    "#### prepare the MaxQuant results (MaxQuant was executed with MBR on)"
   ]
  },
  {
   "cell_type": "code",
   "execution_count": 27,
   "metadata": {},
   "outputs": [],
   "source": [
    "MQ_RESULTS_DIR = '{}'.format(expanduser('~'))\n",
    "# MQ_RESULTS_DIR = '{}/Downloads/experiments'.format(expanduser('~'))\n",
    "mq_results_df = pd.read_csv('{}/MQ-analysis-of-P3856/combined/txt/evidence.txt'.format(MQ_RESULTS_DIR), sep='\\\\t', engine='python')"
   ]
  },
  {
   "cell_type": "code",
   "execution_count": 28,
   "metadata": {},
   "outputs": [],
   "source": [
    "# remove decoys, which are indicated by a '+' in the Reverse column\n",
    "mq_results_df = mq_results_df[pd.isna(mq_results_df.Reverse)]\n",
    "# remove identifications with no intensity\n",
    "mq_results_df = mq_results_df[(mq_results_df.Intensity > 0)]\n",
    "# remove potential contaminants\n",
    "mq_results_df = mq_results_df[pd.isna(mq_results_df['Potential contaminant'])]\n",
    "# remove identifications with mass error more than +/- 5 ppm\n",
    "mq_results_df = mq_results_df[np.abs(mq_results_df['Mass error [ppm]']) <= 5.0]\n",
    "# add RT as seconds\n",
    "mq_results_df['retention_time_secs'] = mq_results_df['Retention time']*60.0"
   ]
  },
  {
   "cell_type": "code",
   "execution_count": 29,
   "metadata": {},
   "outputs": [
    {
     "data": {
      "text/plain": [
       "Index(['Sequence', 'Length', 'Modifications', 'Modified sequence',\n",
       "       'Oxidation (M) Probabilities', 'Oxidation (M) Score Diffs',\n",
       "       'Acetyl (Protein N-term)', 'Oxidation (M)', 'Missed cleavages',\n",
       "       'Proteins', 'Leading proteins', 'Leading razor protein', 'Type',\n",
       "       'Raw file', 'MS/MS m/z', 'Charge', 'm/z', 'Mass',\n",
       "       'Uncalibrated - Calibrated m/z [ppm]',\n",
       "       'Uncalibrated - Calibrated m/z [Da]', 'Mass error [ppm]',\n",
       "       'Mass error [Da]', 'Uncalibrated mass error [ppm]',\n",
       "       'Uncalibrated mass error [Da]', 'Max intensity m/z 0', 'Retention time',\n",
       "       'Retention length', 'Calibrated retention time',\n",
       "       'Calibrated retention time start', 'Calibrated retention time finish',\n",
       "       'Retention time calibration', 'Ion mobility index',\n",
       "       'Ion mobility length', '1/K0', '1/K0 length', 'Calibrated 1/K0', 'CCS',\n",
       "       'Calibrated CCS', 'CCS length', 'Match time difference',\n",
       "       'Match m/z difference', 'Match K0 difference', 'Match q-value',\n",
       "       'Match score', 'Number of data points', 'Number of scans',\n",
       "       'Number of isotopic peaks', 'PIF', 'Fraction of total spectrum',\n",
       "       'Base peak fraction', 'PEP', 'MS/MS count', 'MS/MS scan number',\n",
       "       'Score', 'Delta score', 'Combinatorics', 'Intensity', 'Reverse',\n",
       "       'Potential contaminant', 'id', 'Protein group IDs', 'Peptide ID',\n",
       "       'Mod. peptide ID', 'MS/MS IDs', 'Best MS/MS', 'Oxidation (M) site IDs',\n",
       "       'Taxonomy IDs', 'retention_time_secs'],\n",
       "      dtype='object')"
      ]
     },
     "execution_count": 29,
     "metadata": {},
     "output_type": "execute_result"
    }
   ],
   "source": [
    "mq_results_df.columns"
   ]
  },
  {
   "cell_type": "code",
   "execution_count": 30,
   "metadata": {},
   "outputs": [
    {
     "data": {
      "text/plain": [
       "array(['TIMS-MULTI-MSMS', 'TIMS-MULTI-MATCH'], dtype=object)"
      ]
     },
     "execution_count": 30,
     "metadata": {},
     "output_type": "execute_result"
    }
   ],
   "source": [
    "mq_results_df.Type.unique()"
   ]
  },
  {
   "cell_type": "code",
   "execution_count": 31,
   "metadata": {},
   "outputs": [],
   "source": [
    "# definition of uniqueness in MaxQuant output with MBR on\n",
    "unique_peptide_key = ['Sequence','Modifications','Charge']"
   ]
  },
  {
   "cell_type": "code",
   "execution_count": 32,
   "metadata": {},
   "outputs": [],
   "source": [
    "# count the number of unique peptide extractions in each run\n",
    "mq_counts_d = {}\n",
    "for group_name,group_df in mq_results_df.groupby(unique_peptide_key, as_index=False):\n",
    "    df = group_df\n",
    "    for run_name in df['Raw file'].unique():\n",
    "        if run_name not in mq_counts_d:\n",
    "            mq_counts_d[run_name] = 0\n",
    "        mq_counts_d[run_name] += 1"
   ]
  },
  {
   "cell_type": "code",
   "execution_count": 33,
   "metadata": {},
   "outputs": [],
   "source": [
    "mq_sorted_counts_l = []\n",
    "for k in sorted(mq_counts_d.keys()):\n",
    "    short_run_name = '_'.join(k.split('_Slot')[0].split('_')[1:3])\n",
    "    mq_sorted_counts_l.append((short_run_name, mq_counts_d[k]))\n",
    "mq_sorted_counts_df = pd.DataFrame(mq_sorted_counts_l, columns=['run_name','count'])"
   ]
  },
  {
   "cell_type": "markdown",
   "metadata": {},
   "source": [
    "#### prepare the MSFragger results"
   ]
  },
  {
   "cell_type": "code",
   "execution_count": 34,
   "metadata": {},
   "outputs": [],
   "source": [
    "FRAGGER_RESULTS_DIR = '{}'.format(expanduser('~'))\n",
    "# FRAGGER_RESULTS_DIR = '{}/Downloads/experiments'.format(expanduser('~'))\n",
    "fragger_results_df = pd.read_csv('{}/MSFragger-analysis-P3856/MSstats-P3856.csv'.format(FRAGGER_RESULTS_DIR), sep=',')"
   ]
  },
  {
   "cell_type": "code",
   "execution_count": 35,
   "metadata": {},
   "outputs": [],
   "source": [
    "fragger_results_df = fragger_results_df[fragger_results_df.Intensity.notnull()]"
   ]
  },
  {
   "cell_type": "code",
   "execution_count": 36,
   "metadata": {},
   "outputs": [
    {
     "data": {
      "text/html": [
       "<div>\n",
       "<style scoped>\n",
       "    .dataframe tbody tr th:only-of-type {\n",
       "        vertical-align: middle;\n",
       "    }\n",
       "\n",
       "    .dataframe tbody tr th {\n",
       "        vertical-align: top;\n",
       "    }\n",
       "\n",
       "    .dataframe thead th {\n",
       "        text-align: right;\n",
       "    }\n",
       "</style>\n",
       "<table border=\"1\" class=\"dataframe\">\n",
       "  <thead>\n",
       "    <tr style=\"text-align: right;\">\n",
       "      <th></th>\n",
       "      <th>ProteinName</th>\n",
       "      <th>PeptideSequence</th>\n",
       "      <th>PrecursorCharge</th>\n",
       "      <th>FragmentIon</th>\n",
       "      <th>ProductCharge</th>\n",
       "      <th>IsotopeLabelType</th>\n",
       "      <th>Condition</th>\n",
       "      <th>BioReplicate</th>\n",
       "      <th>Run</th>\n",
       "      <th>Intensity</th>\n",
       "    </tr>\n",
       "  </thead>\n",
       "  <tbody>\n",
       "    <tr>\n",
       "      <th>436180</th>\n",
       "      <td>sp|Q01628|IFM3_HUMAN</td>\n",
       "      <td>EEHEVAVLGAPHNPAPPTSTVIHIR</td>\n",
       "      <td>4</td>\n",
       "      <td>NaN</td>\n",
       "      <td>NaN</td>\n",
       "      <td>L</td>\n",
       "      <td>YHE114</td>\n",
       "      <td>10</td>\n",
       "      <td>P3856_YHE114_10_Slot1-1_1_5124</td>\n",
       "      <td>8706.268</td>\n",
       "    </tr>\n",
       "    <tr>\n",
       "      <th>78196</th>\n",
       "      <td>sp|P00359|G3P3_YEAST</td>\n",
       "      <td>IALSRPNVEVVALNDPFITNDYAAYMFK</td>\n",
       "      <td>3</td>\n",
       "      <td>NaN</td>\n",
       "      <td>NaN</td>\n",
       "      <td>L</td>\n",
       "      <td>YHE114</td>\n",
       "      <td>6</td>\n",
       "      <td>P3856_YHE114_6_Slot1-1_1_5120</td>\n",
       "      <td>66241.050</td>\n",
       "    </tr>\n",
       "    <tr>\n",
       "      <th>185559</th>\n",
       "      <td>sp|P16157|ANK1_HUMAN</td>\n",
       "      <td>IIALGPTGAQFLSPVIVEIPHFASHGR</td>\n",
       "      <td>3</td>\n",
       "      <td>NaN</td>\n",
       "      <td>NaN</td>\n",
       "      <td>L</td>\n",
       "      <td>YHE010</td>\n",
       "      <td>9</td>\n",
       "      <td>P3856_YHE010_9_Slot1-1_1_5101</td>\n",
       "      <td>25458.836</td>\n",
       "    </tr>\n",
       "    <tr>\n",
       "      <th>714079</th>\n",
       "      <td>sp|Q9NZT2|OGFR_HUMAN</td>\n",
       "      <td>VDEGAGDSAAVASGGAQTLALAGSPAPSGHPK</td>\n",
       "      <td>3</td>\n",
       "      <td>NaN</td>\n",
       "      <td>NaN</td>\n",
       "      <td>L</td>\n",
       "      <td>YHE114</td>\n",
       "      <td>9</td>\n",
       "      <td>P3856_YHE114_9_Slot1-1_1_5123</td>\n",
       "      <td>31871.350</td>\n",
       "    </tr>\n",
       "    <tr>\n",
       "      <th>406656</th>\n",
       "      <td>sp|P62424|RL7A_HUMAN</td>\n",
       "      <td>TC[57.0215]TTVAFTQVNSEDK</td>\n",
       "      <td>2</td>\n",
       "      <td>NaN</td>\n",
       "      <td>NaN</td>\n",
       "      <td>L</td>\n",
       "      <td>YHE010</td>\n",
       "      <td>6</td>\n",
       "      <td>P3856_YHE010_6_Slot1-1_1_5098</td>\n",
       "      <td>44510.773</td>\n",
       "    </tr>\n",
       "  </tbody>\n",
       "</table>\n",
       "</div>"
      ],
      "text/plain": [
       "                 ProteinName                   PeptideSequence  \\\n",
       "436180  sp|Q01628|IFM3_HUMAN         EEHEVAVLGAPHNPAPPTSTVIHIR   \n",
       "78196   sp|P00359|G3P3_YEAST      IALSRPNVEVVALNDPFITNDYAAYMFK   \n",
       "185559  sp|P16157|ANK1_HUMAN       IIALGPTGAQFLSPVIVEIPHFASHGR   \n",
       "714079  sp|Q9NZT2|OGFR_HUMAN  VDEGAGDSAAVASGGAQTLALAGSPAPSGHPK   \n",
       "406656  sp|P62424|RL7A_HUMAN          TC[57.0215]TTVAFTQVNSEDK   \n",
       "\n",
       "        PrecursorCharge  FragmentIon  ProductCharge IsotopeLabelType  \\\n",
       "436180                4          NaN            NaN                L   \n",
       "78196                 3          NaN            NaN                L   \n",
       "185559                3          NaN            NaN                L   \n",
       "714079                3          NaN            NaN                L   \n",
       "406656                2          NaN            NaN                L   \n",
       "\n",
       "       Condition  BioReplicate                             Run  Intensity  \n",
       "436180    YHE114            10  P3856_YHE114_10_Slot1-1_1_5124   8706.268  \n",
       "78196     YHE114             6   P3856_YHE114_6_Slot1-1_1_5120  66241.050  \n",
       "185559    YHE010             9   P3856_YHE010_9_Slot1-1_1_5101  25458.836  \n",
       "714079    YHE114             9   P3856_YHE114_9_Slot1-1_1_5123  31871.350  \n",
       "406656    YHE010             6   P3856_YHE010_6_Slot1-1_1_5098  44510.773  "
      ]
     },
     "execution_count": 36,
     "metadata": {},
     "output_type": "execute_result"
    }
   ],
   "source": [
    "fragger_results_df.sample(n=5)"
   ]
  },
  {
   "cell_type": "code",
   "execution_count": 37,
   "metadata": {},
   "outputs": [],
   "source": [
    "# count the number of unique peptide identifications in each run\n",
    "fragger_counts_d = {}\n",
    "for group_name,group_df in fragger_results_df.groupby(['PeptideSequence', 'PrecursorCharge'], as_index=False):\n",
    "    for run_name in group_df['Run'].unique():\n",
    "        if run_name not in fragger_counts_d:\n",
    "            fragger_counts_d[run_name] = 0\n",
    "        fragger_counts_d[run_name] += 1"
   ]
  },
  {
   "cell_type": "code",
   "execution_count": 38,
   "metadata": {},
   "outputs": [],
   "source": [
    "# sort the run names by group then run number within the group\n",
    "sorted_counts_l = []\n",
    "for k in sorted(list(fragger_counts_d.keys()), key=lambda x: ( x.split('_')[1], int(x.split('_')[2]) )):\n",
    "    short_run_name = '_'.join(k.split('_Slot')[0].split('_')[1:])\n",
    "    sorted_counts_l.append((short_run_name, fragger_counts_d[k]))\n",
    "fragger_sorted_counts_df = pd.DataFrame(sorted_counts_l, columns=['run_name','count'])"
   ]
  },
  {
   "cell_type": "markdown",
   "metadata": {},
   "source": [
    "#### plot the unique peptide level"
   ]
  },
  {
   "cell_type": "code",
   "execution_count": 39,
   "metadata": {},
   "outputs": [],
   "source": [
    "merged_df = tfde_extracts_sorted_counts_df.merge(mq_sorted_counts_df,on='run_name').merge(fragger_sorted_counts_df,on='run_name')\n",
    "merged_df.rename({'count_x':'TFD/E', 'count_y':'MaxQuant', 'count':'MSFragger'}, axis=1, inplace=True)\n",
    "merged_df.index = merged_df.run_name"
   ]
  },
  {
   "cell_type": "raw",
   "metadata": {},
   "source": [
    "merged_df = sorted_counts_df.merge(mq_sorted_counts_df,on='run_name')\n",
    "merged_df.rename({'count_x':'count_tfd/e', 'count_y':'count_mq'}, axis=1, inplace=True)\n",
    "merged_df.index = merged_df.run_name"
   ]
  },
  {
   "cell_type": "code",
   "execution_count": 40,
   "metadata": {},
   "outputs": [
    {
     "data": {
      "text/html": [
       "<div>\n",
       "<style scoped>\n",
       "    .dataframe tbody tr th:only-of-type {\n",
       "        vertical-align: middle;\n",
       "    }\n",
       "\n",
       "    .dataframe tbody tr th {\n",
       "        vertical-align: top;\n",
       "    }\n",
       "\n",
       "    .dataframe thead th {\n",
       "        text-align: right;\n",
       "    }\n",
       "</style>\n",
       "<table border=\"1\" class=\"dataframe\">\n",
       "  <thead>\n",
       "    <tr style=\"text-align: right;\">\n",
       "      <th></th>\n",
       "      <th>run_name</th>\n",
       "      <th>TFD/E</th>\n",
       "      <th>MaxQuant</th>\n",
       "      <th>MSFragger</th>\n",
       "    </tr>\n",
       "    <tr>\n",
       "      <th>run_name</th>\n",
       "      <th></th>\n",
       "      <th></th>\n",
       "      <th></th>\n",
       "      <th></th>\n",
       "    </tr>\n",
       "  </thead>\n",
       "  <tbody>\n",
       "    <tr>\n",
       "      <th>YHE211_10</th>\n",
       "      <td>YHE211_10</td>\n",
       "      <td>18169</td>\n",
       "      <td>14039</td>\n",
       "      <td>15319</td>\n",
       "    </tr>\n",
       "    <tr>\n",
       "      <th>YHE114_8</th>\n",
       "      <td>YHE114_8</td>\n",
       "      <td>17258</td>\n",
       "      <td>14069</td>\n",
       "      <td>14844</td>\n",
       "    </tr>\n",
       "    <tr>\n",
       "      <th>YHE114_1</th>\n",
       "      <td>YHE114_1</td>\n",
       "      <td>17283</td>\n",
       "      <td>14413</td>\n",
       "      <td>15261</td>\n",
       "    </tr>\n",
       "  </tbody>\n",
       "</table>\n",
       "</div>"
      ],
      "text/plain": [
       "            run_name  TFD/E  MaxQuant  MSFragger\n",
       "run_name                                        \n",
       "YHE211_10  YHE211_10  18169     14039      15319\n",
       "YHE114_8    YHE114_8  17258     14069      14844\n",
       "YHE114_1    YHE114_1  17283     14413      15261"
      ]
     },
     "execution_count": 40,
     "metadata": {},
     "output_type": "execute_result"
    }
   ],
   "source": [
    "merged_df.sample(n=3)"
   ]
  },
  {
   "cell_type": "code",
   "execution_count": 41,
   "metadata": {},
   "outputs": [
    {
     "data": {
      "image/png": "[encoded data removed]",
      "text/plain": [
       "<Figure size 1080x576 with 1 Axes>"
      ]
     },
     "metadata": {
      "needs_background": "light"
     },
     "output_type": "display_data"
    }
   ],
   "source": [
    "merged_df.plot(kind='bar', figsize=(15,8))\n",
    "# _ = plt.title(\"Unique peptides identified in each run\")\n",
    "_ = plt.xlabel(\"run\")\n",
    "_ = plt.ylabel(\"number of unique peptides identified\")"
   ]
  },
  {
   "cell_type": "code",
   "execution_count": 42,
   "metadata": {},
   "outputs": [
    {
     "name": "stdout",
     "output_type": "stream",
     "text": [
      "mean increase of 23% over MaxQuant\n",
      "mean increase of 15% over MSFragger\n"
     ]
    }
   ],
   "source": [
    "print('mean increase of {}% over MaxQuant'.format(round((merged_df['TFD/E'].mean() - merged_df['MaxQuant'].mean()) / merged_df['MaxQuant'].mean() * 100)))\n",
    "print('mean increase of {}% over MSFragger'.format(round((merged_df['TFD/E'].mean() - merged_df['MSFragger'].mean()) / merged_df['MSFragger'].mean() * 100)))"
   ]
  },
  {
   "cell_type": "markdown",
   "metadata": {},
   "source": [
    "## missing-ness heatmaps"
   ]
  },
  {
   "cell_type": "markdown",
   "metadata": {},
   "source": [
    "#### prepare the TFD/E data"
   ]
  },
  {
   "cell_type": "code",
   "execution_count": 43,
   "metadata": {},
   "outputs": [
    {
     "data": {
      "text/plain": [
       "Index(['sequence', 'charge', 'identifications', 'extractions',\n",
       "       'identifications_d', 'id_perc_q_value', 'id_count_all_runs',\n",
       "       'id_count_human_only_runs', 'id_number_of_proteins', 'id_protein',\n",
       "       'id_species', 'extractions_l', 'ext_count_all_runs',\n",
       "       'ext_count_human_only_runs'],\n",
       "      dtype='object')"
      ]
     },
     "execution_count": 43,
     "metadata": {},
     "output_type": "execute_result"
    }
   ],
   "source": [
    "# gather the lower intensity decile\n",
    "tfde_results_df.columns"
   ]
  },
  {
   "cell_type": "markdown",
   "metadata": {},
   "source": [
    "##### count the extraction if the peptide was identified in at least one of the runs in the group (condition)"
   ]
  },
  {
   "cell_type": "code",
   "execution_count": 44,
   "metadata": {},
   "outputs": [],
   "source": [
    "sequences_l = []\n",
    "for row in tfde_results_df.itertuples():\n",
    "    for group_name in ['YHE114','YHE211','YHE010']:\n",
    "        if extract_from_group(extract_group=group_name, identification_run_names_l=row.identifications_d['run_names']):\n",
    "            for extraction in row.extractions_l:\n",
    "                if group_name in extraction['run_name']:\n",
    "                    short_run_name = '_'.join(extraction['run_name'].split('_Slot')[0].split('_')[1:3])\n",
    "                    identified_in_run = extraction['run_name'] in row.identifications_d['run_names']\n",
    "                    sequences_l.append((row.sequence, row.charge, row.id_perc_q_value, row.id_protein, row.id_species, short_run_name, group_name, extraction['intensity'], identified_in_run))\n",
    "tfde_sequences_df = pd.DataFrame(sequences_l, columns=['sequence', 'charge', 'id_perc_q_value', 'protein', 'species', 'short_run_name', 'group','intensity','identified_in_run'])\n"
   ]
  },
  {
   "cell_type": "code",
   "execution_count": 45,
   "metadata": {},
   "outputs": [
    {
     "data": {
      "text/html": [
       "<div>\n",
       "<style scoped>\n",
       "    .dataframe tbody tr th:only-of-type {\n",
       "        vertical-align: middle;\n",
       "    }\n",
       "\n",
       "    .dataframe tbody tr th {\n",
       "        vertical-align: top;\n",
       "    }\n",
       "\n",
       "    .dataframe thead th {\n",
       "        text-align: right;\n",
       "    }\n",
       "</style>\n",
       "<table border=\"1\" class=\"dataframe\">\n",
       "  <thead>\n",
       "    <tr style=\"text-align: right;\">\n",
       "      <th></th>\n",
       "      <th>sequence</th>\n",
       "      <th>charge</th>\n",
       "      <th>id_perc_q_value</th>\n",
       "      <th>protein</th>\n",
       "      <th>species</th>\n",
       "      <th>short_run_name</th>\n",
       "      <th>group</th>\n",
       "      <th>intensity</th>\n",
       "      <th>identified_in_run</th>\n",
       "    </tr>\n",
       "  </thead>\n",
       "  <tbody>\n",
       "    <tr>\n",
       "      <th>162096</th>\n",
       "      <td>VIPSIAYTEPEVAWVGLTEK</td>\n",
       "      <td>2</td>\n",
       "      <td>0.000028</td>\n",
       "      <td>sp|P0A9P0|DLDH_ECOLI</td>\n",
       "      <td>E. coli</td>\n",
       "      <td>YHE211_2</td>\n",
       "      <td>YHE211</td>\n",
       "      <td>423</td>\n",
       "      <td>False</td>\n",
       "    </tr>\n",
       "    <tr>\n",
       "      <th>191822</th>\n",
       "      <td>ATLESIAYQTR</td>\n",
       "      <td>2</td>\n",
       "      <td>0.004605</td>\n",
       "      <td>sp|P0A6F3|GLPK_ECOLI</td>\n",
       "      <td>E. coli</td>\n",
       "      <td>YHE114_1</td>\n",
       "      <td>YHE114</td>\n",
       "      <td>764</td>\n",
       "      <td>False</td>\n",
       "    </tr>\n",
       "    <tr>\n",
       "      <th>50051</th>\n",
       "      <td>GAADGTNWK</td>\n",
       "      <td>1</td>\n",
       "      <td>0.002011</td>\n",
       "      <td>sp|P0AEE5|DGAL_ECOLI</td>\n",
       "      <td>E. coli</td>\n",
       "      <td>YHE211_2</td>\n",
       "      <td>YHE211</td>\n",
       "      <td>179</td>\n",
       "      <td>True</td>\n",
       "    </tr>\n",
       "    <tr>\n",
       "      <th>246133</th>\n",
       "      <td>IAAVAEDGEPCVTYIGADGAGHYVK</td>\n",
       "      <td>3</td>\n",
       "      <td>0.000015</td>\n",
       "      <td>sp|P00350|6PGD_ECOLI</td>\n",
       "      <td>E. coli</td>\n",
       "      <td>YHE114_1</td>\n",
       "      <td>YHE114</td>\n",
       "      <td>1761</td>\n",
       "      <td>True</td>\n",
       "    </tr>\n",
       "    <tr>\n",
       "      <th>215599</th>\n",
       "      <td>ENFEAMQGFHAGWR</td>\n",
       "      <td>2</td>\n",
       "      <td>0.000015</td>\n",
       "      <td>sp|P25553|ALDA_ECOLI</td>\n",
       "      <td>E. coli</td>\n",
       "      <td>YHE114_7</td>\n",
       "      <td>YHE114</td>\n",
       "      <td>1028</td>\n",
       "      <td>True</td>\n",
       "    </tr>\n",
       "  </tbody>\n",
       "</table>\n",
       "</div>"
      ],
      "text/plain": [
       "                         sequence  charge  id_perc_q_value  \\\n",
       "162096       VIPSIAYTEPEVAWVGLTEK       2         0.000028   \n",
       "191822                ATLESIAYQTR       2         0.004605   \n",
       "50051                   GAADGTNWK       1         0.002011   \n",
       "246133  IAAVAEDGEPCVTYIGADGAGHYVK       3         0.000015   \n",
       "215599             ENFEAMQGFHAGWR       2         0.000015   \n",
       "\n",
       "                     protein  species short_run_name   group  intensity  \\\n",
       "162096  sp|P0A9P0|DLDH_ECOLI  E. coli       YHE211_2  YHE211        423   \n",
       "191822  sp|P0A6F3|GLPK_ECOLI  E. coli       YHE114_1  YHE114        764   \n",
       "50051   sp|P0AEE5|DGAL_ECOLI  E. coli       YHE211_2  YHE211        179   \n",
       "246133  sp|P00350|6PGD_ECOLI  E. coli       YHE114_1  YHE114       1761   \n",
       "215599  sp|P25553|ALDA_ECOLI  E. coli       YHE114_7  YHE114       1028   \n",
       "\n",
       "        identified_in_run  \n",
       "162096              False  \n",
       "191822              False  \n",
       "50051                True  \n",
       "246133               True  \n",
       "215599               True  "
      ]
     },
     "execution_count": 45,
     "metadata": {},
     "output_type": "execute_result"
    }
   ],
   "source": [
    "tfde_sequences_df[tfde_sequences_df.species == 'E. coli'].sample(n=5)"
   ]
  },
  {
   "cell_type": "code",
   "execution_count": 46,
   "metadata": {},
   "outputs": [],
   "source": [
    "# find the mean intensity for each peptide in each group\n",
    "intensities_l = []\n",
    "for group_name,group_df in tfde_sequences_df.groupby(['sequence','charge','group'], as_index=False):\n",
    "    mean_intensity = group_df.intensity.mean()\n",
    "    intensities_l.append((group_name[0], group_name[1], group_name[2], mean_intensity))\n",
    "tfde_intensities_df = pd.DataFrame(intensities_l, columns=['sequence', 'charge', 'group', 'group_mean_intensity'])"
   ]
  },
  {
   "cell_type": "code",
   "execution_count": 47,
   "metadata": {},
   "outputs": [],
   "source": [
    "# sort each group by descending intensity\n",
    "tfde_intensities_df.sort_values(by=['group_mean_intensity'], ascending=False, inplace=True)"
   ]
  },
  {
   "cell_type": "code",
   "execution_count": 48,
   "metadata": {},
   "outputs": [
    {
     "data": {
      "text/html": [
       "<div>\n",
       "<style scoped>\n",
       "    .dataframe tbody tr th:only-of-type {\n",
       "        vertical-align: middle;\n",
       "    }\n",
       "\n",
       "    .dataframe tbody tr th {\n",
       "        vertical-align: top;\n",
       "    }\n",
       "\n",
       "    .dataframe thead th {\n",
       "        text-align: right;\n",
       "    }\n",
       "</style>\n",
       "<table border=\"1\" class=\"dataframe\">\n",
       "  <thead>\n",
       "    <tr style=\"text-align: right;\">\n",
       "      <th></th>\n",
       "      <th>sequence</th>\n",
       "      <th>charge</th>\n",
       "      <th>group</th>\n",
       "      <th>group_mean_intensity</th>\n",
       "    </tr>\n",
       "  </thead>\n",
       "  <tbody>\n",
       "    <tr>\n",
       "      <th>29296</th>\n",
       "      <td>SYSPYDMLESIR</td>\n",
       "      <td>2</td>\n",
       "      <td>YHE211</td>\n",
       "      <td>90.6</td>\n",
       "    </tr>\n",
       "    <tr>\n",
       "      <th>26258</th>\n",
       "      <td>Q[-17.0265]VKPYVEEGLHPQIIIR</td>\n",
       "      <td>3</td>\n",
       "      <td>YHE211</td>\n",
       "      <td>88.4</td>\n",
       "    </tr>\n",
       "    <tr>\n",
       "      <th>4386</th>\n",
       "      <td>DIILSSTSAPPASAQPPLQLSEVNIPLSLGVCPLGPVPLTK</td>\n",
       "      <td>3</td>\n",
       "      <td>YHE211</td>\n",
       "      <td>75.0</td>\n",
       "    </tr>\n",
       "    <tr>\n",
       "      <th>30481</th>\n",
       "      <td>TLALLVLAHSSDVLENVFSSLTDDK</td>\n",
       "      <td>3</td>\n",
       "      <td>YHE211</td>\n",
       "      <td>71.0</td>\n",
       "    </tr>\n",
       "    <tr>\n",
       "      <th>19889</th>\n",
       "      <td>LQDVFNTVGADIIQLPQIVVVGTQSSGK</td>\n",
       "      <td>3</td>\n",
       "      <td>YHE211</td>\n",
       "      <td>59.5</td>\n",
       "    </tr>\n",
       "  </tbody>\n",
       "</table>\n",
       "</div>"
      ],
      "text/plain": [
       "                                        sequence  charge   group  \\\n",
       "29296                               SYSPYDMLESIR       2  YHE211   \n",
       "26258                Q[-17.0265]VKPYVEEGLHPQIIIR       3  YHE211   \n",
       "4386   DIILSSTSAPPASAQPPLQLSEVNIPLSLGVCPLGPVPLTK       3  YHE211   \n",
       "30481                  TLALLVLAHSSDVLENVFSSLTDDK       3  YHE211   \n",
       "19889               LQDVFNTVGADIIQLPQIVVVGTQSSGK       3  YHE211   \n",
       "\n",
       "       group_mean_intensity  \n",
       "29296                  90.6  \n",
       "26258                  88.4  \n",
       "4386                   75.0  \n",
       "30481                  71.0  \n",
       "19889                  59.5  "
      ]
     },
     "execution_count": 48,
     "metadata": {},
     "output_type": "execute_result"
    }
   ],
   "source": [
    "tfde_intensities_df.tail()"
   ]
  },
  {
   "cell_type": "code",
   "execution_count": 49,
   "metadata": {},
   "outputs": [],
   "source": [
    "# make a separate DF for each group\n",
    "tfde_yhe010_df = tfde_intensities_df[(tfde_intensities_df.group == 'YHE010')].copy()\n",
    "tfde_yhe114_df = tfde_intensities_df[(tfde_intensities_df.group == 'YHE114')].copy()\n",
    "tfde_yhe211_df = tfde_intensities_df[(tfde_intensities_df.group == 'YHE211')].copy()"
   ]
  },
  {
   "cell_type": "code",
   "execution_count": 50,
   "metadata": {},
   "outputs": [],
   "source": [
    "# find the lowest-intensity peptides in each group\n",
    "lower_number = 500\n",
    "tfde_yhe010_lowest_df = tfde_yhe010_df.tail(lower_number)\n",
    "tfde_yhe114_lowest_df = tfde_yhe114_df.tail(lower_number)\n",
    "tfde_yhe211_lowest_df = tfde_yhe211_df.tail(lower_number)"
   ]
  },
  {
   "cell_type": "markdown",
   "metadata": {},
   "source": [
    "## Heatmaps preparation"
   ]
  },
  {
   "cell_type": "markdown",
   "metadata": {},
   "source": [
    "#### TFD/E"
   ]
  },
  {
   "cell_type": "code",
   "execution_count": 51,
   "metadata": {},
   "outputs": [],
   "source": [
    "run_names_l = sorted(list(tfde_sequences_df[tfde_sequences_df.group == 'YHE211'].short_run_name.unique()), key=lambda x: int(x.split('_')[1]))\n",
    "occurences_d = dict(zip(run_names_l, [0] * len(run_names_l)))"
   ]
  },
  {
   "cell_type": "code",
   "execution_count": 52,
   "metadata": {},
   "outputs": [],
   "source": [
    "# as a heatmap, plot the missing-ness across this group of runs\n",
    "occurences_l = []\n",
    "index_l = []\n",
    "for row in tfde_yhe211_lowest_df.itertuples():\n",
    "    run_occurences_df = tfde_sequences_df[(tfde_sequences_df.sequence == row.sequence) & (tfde_sequences_df.charge == row.charge) & (tfde_sequences_df.group == row.group)]\n",
    "    occurences_d = dict(zip(run_names_l, [0] * len(run_names_l)))\n",
    "    index_l.append('{},{}'.format(row.sequence, row.charge))\n",
    "    for r in run_occurences_df.itertuples():\n",
    "        occurences_d[r.short_run_name] = np.log2(r.intensity)\n",
    "    occurences_l.append(occurences_d)\n",
    "tfde_occurences_df = pd.DataFrame(occurences_l, columns=occurences_d.keys(), index=index_l)"
   ]
  },
  {
   "cell_type": "markdown",
   "metadata": {},
   "source": [
    "#### MaxQuant"
   ]
  },
  {
   "cell_type": "code",
   "execution_count": 53,
   "metadata": {},
   "outputs": [],
   "source": [
    "# get one reading for each unique peptide in each run, and count how many identifications and extractions (i.e. \n",
    "# matches) across each group. Note that a sequence can be counted as an identification and a match in the same file \n",
    "# (i.e. it's given a different score).\n",
    "mq_sequences_l = []\n",
    "unique_peptide_key_file = unique_peptide_key + ['Raw file']\n",
    "for group_name,group_df in mq_results_df.groupby(unique_peptide_key_file, as_index=False):\n",
    "    identified_in_file = (len(group_df[group_df.Type == 'TIMS-MULTI-MSMS']) > 0)\n",
    "    short_run_name = '_'.join(group_name[3].split('_Slot')[0].split('_')[1:3])\n",
    "    grp_name = short_run_name.split('_')[0]\n",
    "    sorted_df = group_df.sort_values(by=['Intensity'], ascending=False, inplace=False)\n",
    "    if identified_in_file:\n",
    "        score = sorted_df.iloc[0]['Score']\n",
    "    else:\n",
    "        score = sorted_df.iloc[0]['Match score']\n",
    "    intensity = sorted_df.iloc[0].Intensity\n",
    "    protein = sorted_df.iloc[0].Proteins\n",
    "    species = classify_protein(protein)\n",
    "    mq_sequences_l.append((group_name[0], group_name[1], group_name[2], species, short_run_name, grp_name, identified_in_file, score, intensity))\n",
    "mq_sequences_df = pd.DataFrame(mq_sequences_l, columns=['sequence','modifications','charge','species','short_run_name','group','identified_in_file','score','intensity'])\n"
   ]
  },
  {
   "cell_type": "code",
   "execution_count": 54,
   "metadata": {},
   "outputs": [
    {
     "data": {
      "text/html": [
       "<div>\n",
       "<style scoped>\n",
       "    .dataframe tbody tr th:only-of-type {\n",
       "        vertical-align: middle;\n",
       "    }\n",
       "\n",
       "    .dataframe tbody tr th {\n",
       "        vertical-align: top;\n",
       "    }\n",
       "\n",
       "    .dataframe thead th {\n",
       "        text-align: right;\n",
       "    }\n",
       "</style>\n",
       "<table border=\"1\" class=\"dataframe\">\n",
       "  <thead>\n",
       "    <tr style=\"text-align: right;\">\n",
       "      <th></th>\n",
       "      <th>sequence</th>\n",
       "      <th>modifications</th>\n",
       "      <th>charge</th>\n",
       "      <th>species</th>\n",
       "      <th>short_run_name</th>\n",
       "      <th>group</th>\n",
       "      <th>identified_in_file</th>\n",
       "      <th>score</th>\n",
       "      <th>intensity</th>\n",
       "    </tr>\n",
       "  </thead>\n",
       "  <tbody>\n",
       "    <tr>\n",
       "      <th>199944</th>\n",
       "      <td>LFTFQFNNLGNTDINYIK</td>\n",
       "      <td>Unmodified</td>\n",
       "      <td>2</td>\n",
       "      <td>Human</td>\n",
       "      <td>YHE114_10</td>\n",
       "      <td>YHE114</td>\n",
       "      <td>True</td>\n",
       "      <td>28.432</td>\n",
       "      <td>146640.0</td>\n",
       "    </tr>\n",
       "    <tr>\n",
       "      <th>94709</th>\n",
       "      <td>EWIECAHGIGYTR</td>\n",
       "      <td>Unmodified</td>\n",
       "      <td>2</td>\n",
       "      <td>Human</td>\n",
       "      <td>YHE211_4</td>\n",
       "      <td>YHE211</td>\n",
       "      <td>True</td>\n",
       "      <td>144.270</td>\n",
       "      <td>26306.0</td>\n",
       "    </tr>\n",
       "    <tr>\n",
       "      <th>302496</th>\n",
       "      <td>RQELEQVLGIR</td>\n",
       "      <td>Unmodified</td>\n",
       "      <td>2</td>\n",
       "      <td>Human</td>\n",
       "      <td>YHE114_5</td>\n",
       "      <td>YHE114</td>\n",
       "      <td>False</td>\n",
       "      <td>152.540</td>\n",
       "      <td>56375.0</td>\n",
       "    </tr>\n",
       "    <tr>\n",
       "      <th>191583</th>\n",
       "      <td>LCDCPGLIFPSLLPR</td>\n",
       "      <td>Unmodified</td>\n",
       "      <td>2</td>\n",
       "      <td>Human</td>\n",
       "      <td>YHE211_6</td>\n",
       "      <td>YHE211</td>\n",
       "      <td>True</td>\n",
       "      <td>104.040</td>\n",
       "      <td>69100.0</td>\n",
       "    </tr>\n",
       "    <tr>\n",
       "      <th>331483</th>\n",
       "      <td>SYSMIVNNLLKPISVEGSSK</td>\n",
       "      <td>Unmodified</td>\n",
       "      <td>3</td>\n",
       "      <td>Human</td>\n",
       "      <td>YHE010_10</td>\n",
       "      <td>YHE010</td>\n",
       "      <td>False</td>\n",
       "      <td>46.027</td>\n",
       "      <td>1908.7</td>\n",
       "    </tr>\n",
       "  </tbody>\n",
       "</table>\n",
       "</div>"
      ],
      "text/plain": [
       "                    sequence modifications  charge species short_run_name  \\\n",
       "199944    LFTFQFNNLGNTDINYIK    Unmodified       2   Human      YHE114_10   \n",
       "94709          EWIECAHGIGYTR    Unmodified       2   Human       YHE211_4   \n",
       "302496           RQELEQVLGIR    Unmodified       2   Human       YHE114_5   \n",
       "191583       LCDCPGLIFPSLLPR    Unmodified       2   Human       YHE211_6   \n",
       "331483  SYSMIVNNLLKPISVEGSSK    Unmodified       3   Human      YHE010_10   \n",
       "\n",
       "         group  identified_in_file    score  intensity  \n",
       "199944  YHE114                True   28.432   146640.0  \n",
       "94709   YHE211                True  144.270    26306.0  \n",
       "302496  YHE114               False  152.540    56375.0  \n",
       "191583  YHE211                True  104.040    69100.0  \n",
       "331483  YHE010               False   46.027     1908.7  "
      ]
     },
     "execution_count": 54,
     "metadata": {},
     "output_type": "execute_result"
    }
   ],
   "source": [
    "mq_sequences_df.sample(n=5)"
   ]
  },
  {
   "cell_type": "code",
   "execution_count": 55,
   "metadata": {},
   "outputs": [],
   "source": [
    "# find the mean intensity for each peptide in each group\n",
    "mq_intensities_l = []\n",
    "for group_name,group_df in mq_sequences_df.groupby(['sequence','modifications','charge','group'], as_index=False):\n",
    "    mean_intensity = group_df.intensity.mean()\n",
    "    mq_intensities_l.append((group_name[0], group_name[1], group_name[2], group_name[3], mean_intensity))\n",
    "mq_intensities_df = pd.DataFrame(mq_intensities_l, columns=['sequence', 'modifications', 'charge', 'group', 'group_mean_intensity'])"
   ]
  },
  {
   "cell_type": "code",
   "execution_count": 56,
   "metadata": {},
   "outputs": [],
   "source": [
    "# sort each group by descending intensity\n",
    "mq_intensities_df.sort_values(by=['group_mean_intensity'], ascending=False, inplace=True)"
   ]
  },
  {
   "cell_type": "code",
   "execution_count": 57,
   "metadata": {},
   "outputs": [
    {
     "data": {
      "text/html": [
       "<div>\n",
       "<style scoped>\n",
       "    .dataframe tbody tr th:only-of-type {\n",
       "        vertical-align: middle;\n",
       "    }\n",
       "\n",
       "    .dataframe tbody tr th {\n",
       "        vertical-align: top;\n",
       "    }\n",
       "\n",
       "    .dataframe thead th {\n",
       "        text-align: right;\n",
       "    }\n",
       "</style>\n",
       "<table border=\"1\" class=\"dataframe\">\n",
       "  <thead>\n",
       "    <tr style=\"text-align: right;\">\n",
       "      <th></th>\n",
       "      <th>sequence</th>\n",
       "      <th>modifications</th>\n",
       "      <th>charge</th>\n",
       "      <th>group</th>\n",
       "      <th>group_mean_intensity</th>\n",
       "    </tr>\n",
       "  </thead>\n",
       "  <tbody>\n",
       "    <tr>\n",
       "      <th>46385</th>\n",
       "      <td>VDNAYWLWTFQGR</td>\n",
       "      <td>Unmodified</td>\n",
       "      <td>2</td>\n",
       "      <td>YHE114</td>\n",
       "      <td>873.45</td>\n",
       "    </tr>\n",
       "    <tr>\n",
       "      <th>34372</th>\n",
       "      <td>NYLPLLEPVKPEPK</td>\n",
       "      <td>Unmodified</td>\n",
       "      <td>2</td>\n",
       "      <td>YHE211</td>\n",
       "      <td>869.28</td>\n",
       "    </tr>\n",
       "    <tr>\n",
       "      <th>8699</th>\n",
       "      <td>EATWTMSNITAGR</td>\n",
       "      <td>Unmodified</td>\n",
       "      <td>2</td>\n",
       "      <td>YHE010</td>\n",
       "      <td>756.94</td>\n",
       "    </tr>\n",
       "    <tr>\n",
       "      <th>3300</th>\n",
       "      <td>AQLAQDGVQLCALDDLDSK</td>\n",
       "      <td>Unmodified</td>\n",
       "      <td>2</td>\n",
       "      <td>YHE114</td>\n",
       "      <td>728.88</td>\n",
       "    </tr>\n",
       "    <tr>\n",
       "      <th>27256</th>\n",
       "      <td>LMAPYTPFLTELMYQNLK</td>\n",
       "      <td>Unmodified</td>\n",
       "      <td>2</td>\n",
       "      <td>YHE010</td>\n",
       "      <td>719.49</td>\n",
       "    </tr>\n",
       "  </tbody>\n",
       "</table>\n",
       "</div>"
      ],
      "text/plain": [
       "                  sequence modifications  charge   group  group_mean_intensity\n",
       "46385        VDNAYWLWTFQGR    Unmodified       2  YHE114                873.45\n",
       "34372       NYLPLLEPVKPEPK    Unmodified       2  YHE211                869.28\n",
       "8699         EATWTMSNITAGR    Unmodified       2  YHE010                756.94\n",
       "3300   AQLAQDGVQLCALDDLDSK    Unmodified       2  YHE114                728.88\n",
       "27256   LMAPYTPFLTELMYQNLK    Unmodified       2  YHE010                719.49"
      ]
     },
     "execution_count": 57,
     "metadata": {},
     "output_type": "execute_result"
    }
   ],
   "source": [
    "mq_intensities_df.tail()"
   ]
  },
  {
   "cell_type": "code",
   "execution_count": 58,
   "metadata": {},
   "outputs": [],
   "source": [
    "# make a separate DF for each group\n",
    "mq_yhe010_df = mq_intensities_df[(mq_intensities_df.group == 'YHE010')].copy()\n",
    "mq_yhe114_df = mq_intensities_df[(mq_intensities_df.group == 'YHE114')].copy()\n",
    "mq_yhe211_df = mq_intensities_df[(mq_intensities_df.group == 'YHE211')].copy()"
   ]
  },
  {
   "cell_type": "code",
   "execution_count": 59,
   "metadata": {},
   "outputs": [],
   "source": [
    "# find the lowest-intensity peptides in each group\n",
    "lower_number = 500\n",
    "mq_yhe010_lowest_df = mq_yhe010_df.tail(lower_number)\n",
    "mq_yhe114_lowest_df = mq_yhe114_df.tail(lower_number)\n",
    "mq_yhe211_lowest_df = mq_yhe211_df.tail(lower_number)"
   ]
  },
  {
   "cell_type": "code",
   "execution_count": 60,
   "metadata": {},
   "outputs": [],
   "source": [
    "run_names_l = sorted(list(mq_sequences_df[mq_sequences_df.group == 'YHE211'].short_run_name.unique()), key=lambda x: int(x.split('_')[1]))\n",
    "occurences_d = dict(zip(run_names_l, [0] * len(run_names_l)))"
   ]
  },
  {
   "cell_type": "code",
   "execution_count": 61,
   "metadata": {},
   "outputs": [],
   "source": [
    "# as a heatmap, plot the missing-ness across this group of runs\n",
    "occurences_l = []\n",
    "index_l = []\n",
    "for row in mq_yhe211_lowest_df.itertuples():\n",
    "    run_occurences_df = mq_sequences_df[(mq_sequences_df.sequence == row.sequence) & (mq_sequences_df.modifications == row.modifications) & (mq_sequences_df.charge == row.charge) & (mq_sequences_df.group == row.group)]\n",
    "    occurences_d = dict(zip(run_names_l, [0] * len(run_names_l)))\n",
    "    index_l.append('{},{}'.format(row.sequence, row.charge))\n",
    "    for r in run_occurences_df.itertuples():\n",
    "        occurences_d[r.short_run_name] = np.log2(r.intensity)\n",
    "    occurences_l.append(occurences_d)\n",
    "mq_occurences_df = pd.DataFrame(occurences_l, columns=occurences_d.keys(), index=index_l)"
   ]
  },
  {
   "cell_type": "markdown",
   "metadata": {},
   "source": [
    "#### MSFragger"
   ]
  },
  {
   "cell_type": "code",
   "execution_count": 62,
   "metadata": {},
   "outputs": [],
   "source": [
    "# use the analysis with MBR\n",
    "\n",
    "FRAGGER_RESULTS_DIR = '{}'.format(expanduser('~'))\n",
    "# FRAGGER_RESULTS_DIR = '{}/Downloads/experiments'.format(expanduser('~'))\n",
    "fragger_results_df = pd.read_csv('{}/MSFragger-analysis-P3856/MSstats-P3856.csv'.format(FRAGGER_RESULTS_DIR), sep=',')"
   ]
  },
  {
   "cell_type": "code",
   "execution_count": 63,
   "metadata": {},
   "outputs": [
    {
     "data": {
      "text/plain": [
       "Index(['ProteinName', 'PeptideSequence', 'PrecursorCharge', 'FragmentIon',\n",
       "       'ProductCharge', 'IsotopeLabelType', 'Condition', 'BioReplicate', 'Run',\n",
       "       'Intensity'],\n",
       "      dtype='object')"
      ]
     },
     "execution_count": 63,
     "metadata": {},
     "output_type": "execute_result"
    }
   ],
   "source": [
    "fragger_sequences_df = fragger_results_df.copy()\n",
    "fragger_sequences_df.columns"
   ]
  },
  {
   "cell_type": "code",
   "execution_count": 64,
   "metadata": {},
   "outputs": [],
   "source": [
    "fragger_sequences_df['short_run_name'] = fragger_sequences_df.apply(lambda row: '_'.join(row.Run.split('_Slot')[0].split('_')[1:3]), axis=1)"
   ]
  },
  {
   "cell_type": "code",
   "execution_count": 65,
   "metadata": {},
   "outputs": [],
   "source": [
    "fragger_sequences_df['species'] = fragger_sequences_df.apply(lambda row: classify_protein(row.ProteinName), axis=1)"
   ]
  },
  {
   "cell_type": "code",
   "execution_count": 66,
   "metadata": {},
   "outputs": [],
   "source": [
    "fragger_sequences_df = fragger_sequences_df[fragger_sequences_df.Intensity.notnull()]\n",
    "fragger_sequences_df = fragger_sequences_df[fragger_sequences_df.Intensity > 0]"
   ]
  },
  {
   "cell_type": "code",
   "execution_count": 67,
   "metadata": {},
   "outputs": [
    {
     "data": {
      "text/html": [
       "<div>\n",
       "<style scoped>\n",
       "    .dataframe tbody tr th:only-of-type {\n",
       "        vertical-align: middle;\n",
       "    }\n",
       "\n",
       "    .dataframe tbody tr th {\n",
       "        vertical-align: top;\n",
       "    }\n",
       "\n",
       "    .dataframe thead th {\n",
       "        text-align: right;\n",
       "    }\n",
       "</style>\n",
       "<table border=\"1\" class=\"dataframe\">\n",
       "  <thead>\n",
       "    <tr style=\"text-align: right;\">\n",
       "      <th></th>\n",
       "      <th>ProteinName</th>\n",
       "      <th>PeptideSequence</th>\n",
       "      <th>PrecursorCharge</th>\n",
       "      <th>FragmentIon</th>\n",
       "      <th>ProductCharge</th>\n",
       "      <th>IsotopeLabelType</th>\n",
       "      <th>Condition</th>\n",
       "      <th>BioReplicate</th>\n",
       "      <th>Run</th>\n",
       "      <th>Intensity</th>\n",
       "      <th>short_run_name</th>\n",
       "      <th>species</th>\n",
       "    </tr>\n",
       "  </thead>\n",
       "  <tbody>\n",
       "    <tr>\n",
       "      <th>717659</th>\n",
       "      <td>sp|Q9P2J5|SYLC_HUMAN</td>\n",
       "      <td>GTGVVTSVPSDSPDDIAALR</td>\n",
       "      <td>2</td>\n",
       "      <td>NaN</td>\n",
       "      <td>NaN</td>\n",
       "      <td>L</td>\n",
       "      <td>YHE211</td>\n",
       "      <td>9</td>\n",
       "      <td>P3856_YHE211_9_Slot1-1_1_5112</td>\n",
       "      <td>11313.133</td>\n",
       "      <td>YHE211_9</td>\n",
       "      <td>Human</td>\n",
       "    </tr>\n",
       "    <tr>\n",
       "      <th>8227</th>\n",
       "      <td>sp|O00410|IPO5_HUMAN</td>\n",
       "      <td>FM[15.9949]QDASDVMQLLLK</td>\n",
       "      <td>2</td>\n",
       "      <td>NaN</td>\n",
       "      <td>NaN</td>\n",
       "      <td>L</td>\n",
       "      <td>YHE010</td>\n",
       "      <td>7</td>\n",
       "      <td>P3856_YHE010_7_Slot1-1_1_5099</td>\n",
       "      <td>18884.932</td>\n",
       "      <td>YHE010_7</td>\n",
       "      <td>Human</td>\n",
       "    </tr>\n",
       "    <tr>\n",
       "      <th>489305</th>\n",
       "      <td>sp|Q13895|BYST_HUMAN</td>\n",
       "      <td>ELPVLWHQC[57.0215]LLTLVQR</td>\n",
       "      <td>2</td>\n",
       "      <td>NaN</td>\n",
       "      <td>NaN</td>\n",
       "      <td>L</td>\n",
       "      <td>YHE010</td>\n",
       "      <td>5</td>\n",
       "      <td>P3856_YHE010_5_Slot1-1_1_5097</td>\n",
       "      <td>19506.248</td>\n",
       "      <td>YHE010_5</td>\n",
       "      <td>Human</td>\n",
       "    </tr>\n",
       "  </tbody>\n",
       "</table>\n",
       "</div>"
      ],
      "text/plain": [
       "                 ProteinName            PeptideSequence  PrecursorCharge  \\\n",
       "717659  sp|Q9P2J5|SYLC_HUMAN       GTGVVTSVPSDSPDDIAALR                2   \n",
       "8227    sp|O00410|IPO5_HUMAN    FM[15.9949]QDASDVMQLLLK                2   \n",
       "489305  sp|Q13895|BYST_HUMAN  ELPVLWHQC[57.0215]LLTLVQR                2   \n",
       "\n",
       "        FragmentIon  ProductCharge IsotopeLabelType Condition  BioReplicate  \\\n",
       "717659          NaN            NaN                L    YHE211             9   \n",
       "8227            NaN            NaN                L    YHE010             7   \n",
       "489305          NaN            NaN                L    YHE010             5   \n",
       "\n",
       "                                  Run  Intensity short_run_name species  \n",
       "717659  P3856_YHE211_9_Slot1-1_1_5112  11313.133       YHE211_9   Human  \n",
       "8227    P3856_YHE010_7_Slot1-1_1_5099  18884.932       YHE010_7   Human  \n",
       "489305  P3856_YHE010_5_Slot1-1_1_5097  19506.248       YHE010_5   Human  "
      ]
     },
     "execution_count": 67,
     "metadata": {},
     "output_type": "execute_result"
    }
   ],
   "source": [
    "fragger_sequences_df.sample(n=3)"
   ]
  },
  {
   "cell_type": "code",
   "execution_count": 68,
   "metadata": {},
   "outputs": [],
   "source": [
    "# find the mean intensity for each peptide in each group\n",
    "fragger_intensities_l = []\n",
    "for group_name,group_df in fragger_sequences_df.groupby(['PeptideSequence','PrecursorCharge','Condition'], as_index=False):\n",
    "    mean_intensity = group_df.Intensity.mean()\n",
    "    fragger_intensities_l.append((group_name[0], group_name[1], group_name[2], mean_intensity))\n",
    "fragger_intensities_df = pd.DataFrame(fragger_intensities_l, columns=['sequence', 'charge', 'group', 'group_mean_intensity'])"
   ]
  },
  {
   "cell_type": "code",
   "execution_count": 69,
   "metadata": {},
   "outputs": [],
   "source": [
    "# sort each group by descending intensity\n",
    "fragger_intensities_df.sort_values(by=['group_mean_intensity'], ascending=False, inplace=True)"
   ]
  },
  {
   "cell_type": "code",
   "execution_count": 70,
   "metadata": {},
   "outputs": [
    {
     "data": {
      "text/html": [
       "<div>\n",
       "<style scoped>\n",
       "    .dataframe tbody tr th:only-of-type {\n",
       "        vertical-align: middle;\n",
       "    }\n",
       "\n",
       "    .dataframe tbody tr th {\n",
       "        vertical-align: top;\n",
       "    }\n",
       "\n",
       "    .dataframe thead th {\n",
       "        text-align: right;\n",
       "    }\n",
       "</style>\n",
       "<table border=\"1\" class=\"dataframe\">\n",
       "  <thead>\n",
       "    <tr style=\"text-align: right;\">\n",
       "      <th></th>\n",
       "      <th>sequence</th>\n",
       "      <th>charge</th>\n",
       "      <th>group</th>\n",
       "      <th>group_mean_intensity</th>\n",
       "    </tr>\n",
       "  </thead>\n",
       "  <tbody>\n",
       "    <tr>\n",
       "      <th>48241</th>\n",
       "      <td>VC[57.0215]NYVNWIQQTIAAN</td>\n",
       "      <td>2</td>\n",
       "      <td>YHE211</td>\n",
       "      <td>357.09050</td>\n",
       "    </tr>\n",
       "    <tr>\n",
       "      <th>43509</th>\n",
       "      <td>STSSETDC[57.0215]NDNVPSHK</td>\n",
       "      <td>2</td>\n",
       "      <td>YHE114</td>\n",
       "      <td>324.62850</td>\n",
       "    </tr>\n",
       "    <tr>\n",
       "      <th>39256</th>\n",
       "      <td>RDLPNALDEK</td>\n",
       "      <td>2</td>\n",
       "      <td>YHE010</td>\n",
       "      <td>290.59800</td>\n",
       "    </tr>\n",
       "    <tr>\n",
       "      <th>14658</th>\n",
       "      <td>FNLSVIEDPSMK</td>\n",
       "      <td>2</td>\n",
       "      <td>YHE211</td>\n",
       "      <td>247.62599</td>\n",
       "    </tr>\n",
       "    <tr>\n",
       "      <th>137</th>\n",
       "      <td>AAGALLNGPPQFSTAPEIK</td>\n",
       "      <td>2</td>\n",
       "      <td>YHE010</td>\n",
       "      <td>214.77450</td>\n",
       "    </tr>\n",
       "  </tbody>\n",
       "</table>\n",
       "</div>"
      ],
      "text/plain": [
       "                        sequence  charge   group  group_mean_intensity\n",
       "48241   VC[57.0215]NYVNWIQQTIAAN       2  YHE211             357.09050\n",
       "43509  STSSETDC[57.0215]NDNVPSHK       2  YHE114             324.62850\n",
       "39256                 RDLPNALDEK       2  YHE010             290.59800\n",
       "14658               FNLSVIEDPSMK       2  YHE211             247.62599\n",
       "137          AAGALLNGPPQFSTAPEIK       2  YHE010             214.77450"
      ]
     },
     "execution_count": 70,
     "metadata": {},
     "output_type": "execute_result"
    }
   ],
   "source": [
    "fragger_intensities_df.tail()"
   ]
  },
  {
   "cell_type": "code",
   "execution_count": 71,
   "metadata": {},
   "outputs": [],
   "source": [
    "# make a separate DF for each group\n",
    "fragger_yhe010_df = fragger_intensities_df[(fragger_intensities_df.group == 'YHE010')].copy()\n",
    "fragger_yhe114_df = fragger_intensities_df[(fragger_intensities_df.group == 'YHE114')].copy()\n",
    "fragger_yhe211_df = fragger_intensities_df[(fragger_intensities_df.group == 'YHE211')].copy()"
   ]
  },
  {
   "cell_type": "code",
   "execution_count": 72,
   "metadata": {},
   "outputs": [],
   "source": [
    "# find the lowest-intensity peptides in each group\n",
    "lower_number = 500\n",
    "fragger_yhe010_lowest_df = fragger_yhe010_df.tail(lower_number)\n",
    "fragger_yhe114_lowest_df = fragger_yhe114_df.tail(lower_number)\n",
    "fragger_yhe211_lowest_df = fragger_yhe211_df.tail(lower_number)"
   ]
  },
  {
   "cell_type": "code",
   "execution_count": 73,
   "metadata": {},
   "outputs": [],
   "source": [
    "run_names_l = sorted(list(fragger_sequences_df[fragger_sequences_df.Condition == 'YHE211'].short_run_name.unique()), key=lambda x: int(x.split('_')[1]))\n",
    "occurences_d = dict(zip(run_names_l, [0] * len(run_names_l)))"
   ]
  },
  {
   "cell_type": "code",
   "execution_count": 74,
   "metadata": {},
   "outputs": [],
   "source": [
    "# as a heatmap, plot the missing-ness across this group of runs\n",
    "occurences_l = []\n",
    "index_l = []\n",
    "for row in fragger_yhe211_lowest_df.itertuples():\n",
    "    run_occurences_df = fragger_sequences_df[(fragger_sequences_df.PeptideSequence == row.sequence) & (fragger_sequences_df.PrecursorCharge == row.charge) & (fragger_sequences_df.Condition == row.group)]\n",
    "    occurences_d = dict(zip(run_names_l, [0] * len(run_names_l)))\n",
    "    index_l.append('{},{}'.format(row.sequence, row.charge))\n",
    "    for r in run_occurences_df.itertuples():\n",
    "        occurences_d[r.short_run_name] = np.log2(r.Intensity)\n",
    "    occurences_l.append(occurences_d)\n",
    "fragger_occurences_df = pd.DataFrame(occurences_l, columns=occurences_d.keys(), index=index_l)"
   ]
  },
  {
   "cell_type": "markdown",
   "metadata": {},
   "source": [
    "#### Combined"
   ]
  },
  {
   "cell_type": "code",
   "execution_count": 75,
   "metadata": {},
   "outputs": [],
   "source": [
    "tfde_a = tfde_occurences_df.to_numpy()\n",
    "mq_a = mq_occurences_df.to_numpy()\n",
    "fragger_a = fragger_occurences_df.to_numpy()\n",
    "combined_min = np.array([tfde_a[tfde_a > 0].min(),mq_a[mq_a > 0].min(),fragger_a[fragger_a > 0].min()]).min()\n",
    "combined_max = np.array([tfde_a.max(),mq_a.max(),fragger_a.max()]).max()"
   ]
  },
  {
   "cell_type": "markdown",
   "metadata": {},
   "source": [
    "## TFD/E heatmaps"
   ]
  },
  {
   "cell_type": "markdown",
   "metadata": {},
   "source": [
    "#### plot YHE211"
   ]
  },
  {
   "cell_type": "code",
   "execution_count": 76,
   "metadata": {
    "scrolled": false
   },
   "outputs": [
    {
     "data": {
      "image/png": "[encoded data removed]",
      "text/plain": [
       "<Figure size 360x576 with 2 Axes>"
      ]
     },
     "metadata": {
      "needs_background": "light"
     },
     "output_type": "display_data"
    }
   ],
   "source": [
    "plt.figure(figsize=(5,8))\n",
    "hm = sns.heatmap(tfde_occurences_df, cmap=cm.batlow_r, vmin=tfde_a[tfde_a > 0].min(), vmax=tfde_a.max(), mask=(tfde_occurences_df==0), linewidths=0)\n",
    "hm.set(yticklabels=[])\n",
    "hm.set(ylabel=None)\n",
    "hm.tick_params(left=False)\n",
    "# plt.title('Lowest {} peptides by mean intensity for YHE211 by TFD/E'.format(lower_number))"
   ]
  },
  {
   "cell_type": "markdown",
   "metadata": {},
   "source": [
    "## MaxQuant heatmaps"
   ]
  },
  {
   "cell_type": "markdown",
   "metadata": {},
   "source": [
    "#### plot YHE211"
   ]
  },
  {
   "cell_type": "code",
   "execution_count": 77,
   "metadata": {
    "scrolled": false
   },
   "outputs": [
    {
     "data": {
      "image/png": "[encoded data removed]",
      "text/plain": [
       "<Figure size 360x576 with 2 Axes>"
      ]
     },
     "metadata": {
      "needs_background": "light"
     },
     "output_type": "display_data"
    }
   ],
   "source": [
    "plt.figure(figsize=(5,8))\n",
    "hm = sns.heatmap(mq_occurences_df, cmap=cm.batlow_r, vmin=mq_a[mq_a > 0].min(), vmax=mq_a.max(), mask=(mq_occurences_df==0), linewidths=0)\n",
    "hm.set(yticklabels=[])\n",
    "hm.set(ylabel=None)\n",
    "hm.tick_params(left=False)\n",
    "# plt.title('Lowest {} peptides by mean intensity for YHE211 by MaxQuant'.format(lower_number))"
   ]
  },
  {
   "cell_type": "markdown",
   "metadata": {},
   "source": [
    "## Fragger heatmaps"
   ]
  },
  {
   "cell_type": "markdown",
   "metadata": {},
   "source": [
    "#### plot YHE211"
   ]
  },
  {
   "cell_type": "code",
   "execution_count": 78,
   "metadata": {
    "scrolled": false
   },
   "outputs": [
    {
     "data": {
      "image/png": "[encoded data removed]",
      "text/plain": [
       "<Figure size 360x576 with 2 Axes>"
      ]
     },
     "metadata": {
      "needs_background": "light"
     },
     "output_type": "display_data"
    }
   ],
   "source": [
    "plt.figure(figsize=(5,8))\n",
    "hm = sns.heatmap(fragger_occurences_df, cmap=cm.batlow_r, vmin=fragger_a[fragger_a > 0].min(), vmax=fragger_a.max(), mask=(fragger_occurences_df==0), linewidths=0)\n",
    "hm.set(yticklabels=[])\n",
    "hm.set(ylabel=None)\n",
    "hm.tick_params(left=False)\n",
    "# plt.title('Lowest {} peptides by mean intensity for YHE211 by MSFragger'.format(lower_number))"
   ]
  },
  {
   "cell_type": "markdown",
   "metadata": {},
   "source": [
    "## visualise the percentage of missing values across runs"
   ]
  },
  {
   "cell_type": "markdown",
   "metadata": {},
   "source": [
    "#### prepare TFD/E results"
   ]
  },
  {
   "cell_type": "code",
   "execution_count": 79,
   "metadata": {},
   "outputs": [],
   "source": [
    "subset_groups = ['YHE211']"
   ]
  },
  {
   "cell_type": "code",
   "execution_count": 80,
   "metadata": {},
   "outputs": [],
   "source": [
    "tfde_subset_df = tfde_sequences_df[(tfde_sequences_df.group.isin(subset_groups))]"
   ]
  },
  {
   "cell_type": "code",
   "execution_count": 81,
   "metadata": {},
   "outputs": [
    {
     "name": "stdout",
     "output_type": "stream",
     "text": [
      "there are 10 ['YHE211'] runs in the experiment\n"
     ]
    }
   ],
   "source": [
    "number_of_runs_in_subset = len(tfde_subset_df.short_run_name.unique())\n",
    "print('there are {} {} runs in the experiment'.format(number_of_runs_in_subset, subset_groups))"
   ]
  },
  {
   "cell_type": "code",
   "execution_count": 82,
   "metadata": {},
   "outputs": [
    {
     "data": {
      "text/plain": [
       "18695"
      ]
     },
     "execution_count": 82,
     "metadata": {},
     "output_type": "execute_result"
    }
   ],
   "source": [
    "number_of_unique_sequences_tfde = len(tfde_subset_df.drop_duplicates(subset=['sequence', 'charge'], keep='first', inplace=False))\n",
    "number_of_unique_sequences_tfde"
   ]
  },
  {
   "cell_type": "code",
   "execution_count": 83,
   "metadata": {},
   "outputs": [],
   "source": [
    "# count how many runs each sequence/charge was extracted from and classified as a target\n",
    "sequence_occurences_l = []\n",
    "for group_name,group_df in tfde_subset_df.groupby(['sequence','charge'], as_index=False):\n",
    "    sequence_occurences_l.append((group_name, len(group_df.short_run_name.unique()), group_name[0], group_name[1]))\n",
    "tfde_sequence_occurences_df = pd.DataFrame(sequence_occurences_l, columns=['sequence_charge','number_of_runs_extracted','sequence','charge'])"
   ]
  },
  {
   "cell_type": "code",
   "execution_count": 84,
   "metadata": {},
   "outputs": [],
   "source": [
    "tfde_sequence_occurences_df['missing_files'] = number_of_runs_in_subset - tfde_sequence_occurences_df.number_of_runs_extracted"
   ]
  },
  {
   "cell_type": "code",
   "execution_count": 85,
   "metadata": {},
   "outputs": [],
   "source": [
    "# display the number of missing values across the subset\n",
    "tfde_missing_values = tfde_sequence_occurences_df.missing_files.sum() / (len(tfde_sequence_occurences_df) * number_of_runs_in_subset)"
   ]
  },
  {
   "cell_type": "code",
   "execution_count": 86,
   "metadata": {},
   "outputs": [
    {
     "data": {
      "text/html": [
       "<div>\n",
       "<style scoped>\n",
       "    .dataframe tbody tr th:only-of-type {\n",
       "        vertical-align: middle;\n",
       "    }\n",
       "\n",
       "    .dataframe tbody tr th {\n",
       "        vertical-align: top;\n",
       "    }\n",
       "\n",
       "    .dataframe thead th {\n",
       "        text-align: right;\n",
       "    }\n",
       "</style>\n",
       "<table border=\"1\" class=\"dataframe\">\n",
       "  <thead>\n",
       "    <tr style=\"text-align: right;\">\n",
       "      <th></th>\n",
       "      <th>sequence_charge</th>\n",
       "      <th>number_of_runs_extracted</th>\n",
       "      <th>sequence</th>\n",
       "      <th>charge</th>\n",
       "      <th>missing_files</th>\n",
       "    </tr>\n",
       "  </thead>\n",
       "  <tbody>\n",
       "    <tr>\n",
       "      <th>5534</th>\n",
       "      <td>(GGAAVDPDSGLEHSAHVLEK, 2)</td>\n",
       "      <td>10</td>\n",
       "      <td>GGAAVDPDSGLEHSAHVLEK</td>\n",
       "      <td>2</td>\n",
       "      <td>0</td>\n",
       "    </tr>\n",
       "    <tr>\n",
       "      <th>15692</th>\n",
       "      <td>(TLTEDEIATILQSTLK, 2)</td>\n",
       "      <td>10</td>\n",
       "      <td>TLTEDEIATILQSTLK</td>\n",
       "      <td>2</td>\n",
       "      <td>0</td>\n",
       "    </tr>\n",
       "    <tr>\n",
       "      <th>5011</th>\n",
       "      <td>(FSLDVCEAMEYLEGNNFVHR, 3)</td>\n",
       "      <td>10</td>\n",
       "      <td>FSLDVCEAMEYLEGNNFVHR</td>\n",
       "      <td>3</td>\n",
       "      <td>0</td>\n",
       "    </tr>\n",
       "  </tbody>\n",
       "</table>\n",
       "</div>"
      ],
      "text/plain": [
       "                 sequence_charge  number_of_runs_extracted  \\\n",
       "5534   (GGAAVDPDSGLEHSAHVLEK, 2)                        10   \n",
       "15692      (TLTEDEIATILQSTLK, 2)                        10   \n",
       "5011   (FSLDVCEAMEYLEGNNFVHR, 3)                        10   \n",
       "\n",
       "                   sequence  charge  missing_files  \n",
       "5534   GGAAVDPDSGLEHSAHVLEK       2              0  \n",
       "15692      TLTEDEIATILQSTLK       2              0  \n",
       "5011   FSLDVCEAMEYLEGNNFVHR       3              0  "
      ]
     },
     "execution_count": 86,
     "metadata": {},
     "output_type": "execute_result"
    }
   ],
   "source": [
    "tfde_sequence_occurences_df.sample(n=3)"
   ]
  },
  {
   "cell_type": "code",
   "execution_count": 87,
   "metadata": {},
   "outputs": [],
   "source": [
    "run_count_l = []\n",
    "for number_of_runs in range(1,number_of_runs_in_subset+1):\n",
    "    run_count_l.append((number_of_runs, len(tfde_sequence_occurences_df[tfde_sequence_occurences_df.number_of_runs_extracted >= number_of_runs])))\n",
    "tfde_run_count_df = pd.DataFrame(run_count_l, columns=['run_count','number_of_sequences'])"
   ]
  },
  {
   "cell_type": "code",
   "execution_count": 88,
   "metadata": {},
   "outputs": [],
   "source": [
    "tfde_run_count_df['percent_quantified'] = tfde_run_count_df.number_of_sequences / number_of_unique_sequences_tfde * 100"
   ]
  },
  {
   "cell_type": "markdown",
   "metadata": {},
   "source": [
    "#### prepare MQ results"
   ]
  },
  {
   "cell_type": "code",
   "execution_count": 89,
   "metadata": {},
   "outputs": [
    {
     "data": {
      "text/plain": [
       "Index(['sequence', 'modifications', 'charge', 'species', 'short_run_name',\n",
       "       'group', 'identified_in_file', 'score', 'intensity'],\n",
       "      dtype='object')"
      ]
     },
     "execution_count": 89,
     "metadata": {},
     "output_type": "execute_result"
    }
   ],
   "source": [
    "mq_sequences_df.columns"
   ]
  },
  {
   "cell_type": "code",
   "execution_count": 90,
   "metadata": {},
   "outputs": [],
   "source": [
    "mq_subset_df = mq_sequences_df[(mq_sequences_df.group.isin(subset_groups))]"
   ]
  },
  {
   "cell_type": "code",
   "execution_count": 91,
   "metadata": {},
   "outputs": [
    {
     "data": {
      "text/plain": [
       "18336"
      ]
     },
     "execution_count": 91,
     "metadata": {},
     "output_type": "execute_result"
    }
   ],
   "source": [
    "number_of_unique_sequences_mq = len(mq_subset_df.drop_duplicates(subset=['sequence','modifications','charge'], keep='first', inplace=False))\n",
    "number_of_unique_sequences_mq"
   ]
  },
  {
   "cell_type": "code",
   "execution_count": 92,
   "metadata": {},
   "outputs": [],
   "source": [
    "# count how many runs each sequence/charge was extracted from\n",
    "sequence_occurences_l = []\n",
    "for group_name,group_df in mq_subset_df.groupby(['sequence', 'modifications', 'charge'], as_index=False):\n",
    "    sequence_occurences_l.append((group_name[0], group_name[1], group_name[2], len(group_df.short_run_name.unique())))\n",
    "mq_sequence_occurences_df = pd.DataFrame(sequence_occurences_l, columns=['sequence','modifications','charge','number_of_runs_extracted'])"
   ]
  },
  {
   "cell_type": "code",
   "execution_count": 93,
   "metadata": {},
   "outputs": [],
   "source": [
    "run_count_l = []\n",
    "for number_of_runs in range(1,number_of_runs_in_subset+1):\n",
    "    run_count_l.append((number_of_runs, len(mq_sequence_occurences_df[mq_sequence_occurences_df.number_of_runs_extracted >= number_of_runs])))\n",
    "mq_run_count_df = pd.DataFrame(run_count_l, columns=['run_count','number_of_sequences'])"
   ]
  },
  {
   "cell_type": "code",
   "execution_count": 94,
   "metadata": {},
   "outputs": [],
   "source": [
    "mq_sequence_occurences_df['missing_files'] = number_of_runs_in_subset - mq_sequence_occurences_df.number_of_runs_extracted\n",
    "mq_run_count_df['percent_quantified'] = mq_run_count_df.number_of_sequences / number_of_unique_sequences_mq * 100"
   ]
  },
  {
   "cell_type": "code",
   "execution_count": 95,
   "metadata": {},
   "outputs": [],
   "source": [
    "# display the number of missing values across the subset\n",
    "mq_missing_values = mq_sequence_occurences_df.missing_files.sum() / (len(mq_sequence_occurences_df) * number_of_runs_in_subset)"
   ]
  },
  {
   "cell_type": "markdown",
   "metadata": {},
   "source": [
    "#### prepare Fragger results"
   ]
  },
  {
   "cell_type": "code",
   "execution_count": 96,
   "metadata": {},
   "outputs": [],
   "source": [
    "fragger_subset_df = fragger_sequences_df[(fragger_sequences_df.Condition.isin(subset_groups))]"
   ]
  },
  {
   "cell_type": "code",
   "execution_count": 97,
   "metadata": {},
   "outputs": [
    {
     "data": {
      "text/plain": [
       "19351"
      ]
     },
     "execution_count": 97,
     "metadata": {},
     "output_type": "execute_result"
    }
   ],
   "source": [
    "number_of_unique_sequences_fragger = len(fragger_subset_df.drop_duplicates(subset=['PeptideSequence', 'PrecursorCharge'], keep='first', inplace=False))\n",
    "number_of_unique_sequences_fragger"
   ]
  },
  {
   "cell_type": "code",
   "execution_count": 98,
   "metadata": {},
   "outputs": [],
   "source": [
    "# count how many runs each sequence/charge was found in\n",
    "sequence_occurences_l = []\n",
    "for group_name,group_df in fragger_subset_df.groupby(['PeptideSequence','PrecursorCharge'], as_index=False):\n",
    "    sequence_occurences_l.append((group_name[0], group_name[1], len(group_df.short_run_name.unique())))\n",
    "fragger_sequence_occurences_df = pd.DataFrame(sequence_occurences_l, columns=['sequence','charge','number_of_runs_extracted'])"
   ]
  },
  {
   "cell_type": "code",
   "execution_count": 99,
   "metadata": {},
   "outputs": [],
   "source": [
    "run_count_l = []\n",
    "for number_of_runs in range(1,number_of_runs_in_subset+1):\n",
    "    run_count_l.append((number_of_runs, len(fragger_sequence_occurences_df[fragger_sequence_occurences_df.number_of_runs_extracted >= number_of_runs])))\n",
    "fragger_run_count_df = pd.DataFrame(run_count_l, columns=['run_count','number_of_sequences'])"
   ]
  },
  {
   "cell_type": "code",
   "execution_count": 100,
   "metadata": {},
   "outputs": [],
   "source": [
    "fragger_sequence_occurences_df['missing_files'] = number_of_runs_in_subset - fragger_sequence_occurences_df.number_of_runs_extracted\n",
    "fragger_run_count_df['percent_quantified'] = fragger_run_count_df.number_of_sequences / number_of_unique_sequences_fragger * 100"
   ]
  },
  {
   "cell_type": "code",
   "execution_count": 101,
   "metadata": {},
   "outputs": [],
   "source": [
    "# display the number of missing values across the subset\n",
    "fragger_missing_values = fragger_sequence_occurences_df.missing_files.sum() / (len(fragger_sequence_occurences_df) * number_of_runs_in_subset)"
   ]
  },
  {
   "cell_type": "markdown",
   "metadata": {},
   "source": [
    "#### now plot the results"
   ]
  },
  {
   "cell_type": "code",
   "execution_count": 102,
   "metadata": {},
   "outputs": [
    {
     "data": {
      "image/png": "[encoded data removed]",
      "text/plain": [
       "<Figure size 720x432 with 1 Axes>"
      ]
     },
     "metadata": {
      "needs_background": "light"
     },
     "output_type": "display_data"
    }
   ],
   "source": [
    "f, ax1 = plt.subplots()\n",
    "f.set_figheight(6)\n",
    "f.set_figwidth(10)\n",
    "\n",
    "plt.margins(0.06)\n",
    "# plt.title('percentage of peptides without missing values as a function of run numbers for conditions {}'.format(subset_groups))\n",
    "\n",
    "ax1.plot(tfde_run_count_df.run_count, tfde_run_count_df.percent_quantified, label='TFD/E')\n",
    "ax1.plot(mq_run_count_df.run_count, mq_run_count_df.percent_quantified, label='MaxQuant')\n",
    "ax1.plot(fragger_run_count_df.run_count, fragger_run_count_df.percent_quantified, label='MSFragger')\n",
    "\n",
    "plt.xlabel('peptides quantified in >= number of runs')\n",
    "plt.ylabel('% of total peptides quantified')\n",
    "plt.ylim((45,105))\n",
    "ax1.set(xticks=range(1,number_of_runs_in_subset+1), xlim=[0, number_of_runs_in_subset+1])\n",
    "plt.legend(loc=\"best\")\n",
    "\n",
    "plt.show()"
   ]
  },
  {
   "cell_type": "markdown",
   "metadata": {},
   "source": [
    "## missing-ness distributions"
   ]
  },
  {
   "cell_type": "markdown",
   "metadata": {},
   "source": [
    "#### plot TFD/E results"
   ]
  },
  {
   "cell_type": "code",
   "execution_count": 103,
   "metadata": {},
   "outputs": [
    {
     "data": {
      "image/png": "[encoded data removed]",
      "text/plain": [
       "<Figure size 576x576 with 1 Axes>"
      ]
     },
     "metadata": {
      "needs_background": "light"
     },
     "output_type": "display_data"
    }
   ],
   "source": [
    "f, ax1 = plt.subplots()\n",
    "f.set_figheight(8)\n",
    "f.set_figwidth(8)\n",
    "\n",
    "plt.margins(0.06)\n",
    "# plt.suptitle('TFD/E distribution of sequence identifications for conditions {}'.format(subset_groups))\n",
    "# plt.title('total of {} modified peptide sequences, {}% of values missing'.format(number_of_unique_sequences_tfde, int(round(tfde_missing_values*100))))\n",
    "\n",
    "counts = np.bincount(tfde_sequence_occurences_df.number_of_runs_extracted)\n",
    "ax1.bar(range(number_of_runs_in_subset+1), counts, width=0.8, align='center')\n",
    "plt.xlabel('number of files in which a modified sequence-charge was quantified')\n",
    "plt.ylabel('frequency')\n",
    "ax1.set(xticks=range(1,number_of_runs_in_subset+1), xlim=[0, number_of_runs_in_subset+1])\n",
    "plt.ylim((0,18000))\n",
    "\n",
    "plt.show()"
   ]
  },
  {
   "cell_type": "markdown",
   "metadata": {},
   "source": [
    "#### plot MQ results"
   ]
  },
  {
   "cell_type": "code",
   "execution_count": 104,
   "metadata": {},
   "outputs": [
    {
     "data": {
      "image/png": "[encoded data removed]",
      "text/plain": [
       "<Figure size 576x576 with 1 Axes>"
      ]
     },
     "metadata": {
      "needs_background": "light"
     },
     "output_type": "display_data"
    }
   ],
   "source": [
    "f, ax1 = plt.subplots()\n",
    "f.set_figheight(8)\n",
    "f.set_figwidth(8)\n",
    "\n",
    "plt.margins(0.06)\n",
    "# plt.suptitle('MaxQuant distribution of sequence identifications for conditions {}'.format(subset_groups))\n",
    "# plt.title('total of {} modified peptide sequences, {}% of values missing'.format(number_of_unique_sequences_mq, int(round(mq_missing_values*100))))\n",
    "\n",
    "counts = np.bincount(mq_sequence_occurences_df.number_of_runs_extracted)\n",
    "ax1.bar(range(number_of_runs_in_subset+1), counts, width=0.8, align='center')\n",
    "plt.xlabel('number of files in which a modified sequence-charge was quantified')\n",
    "plt.ylabel('frequency')\n",
    "ax1.set(xticks=range(1,number_of_runs_in_subset+1), xlim=[0, number_of_runs_in_subset+1])\n",
    "plt.ylim((0,18000))\n",
    "\n",
    "plt.show()"
   ]
  },
  {
   "cell_type": "markdown",
   "metadata": {},
   "source": [
    "#### plot Fragger results"
   ]
  },
  {
   "cell_type": "code",
   "execution_count": 105,
   "metadata": {},
   "outputs": [
    {
     "data": {
      "image/png": "[encoded data removed]",
      "text/plain": [
       "<Figure size 576x576 with 1 Axes>"
      ]
     },
     "metadata": {
      "needs_background": "light"
     },
     "output_type": "display_data"
    }
   ],
   "source": [
    "f, ax1 = plt.subplots()\n",
    "f.set_figheight(8)\n",
    "f.set_figwidth(8)\n",
    "\n",
    "plt.margins(0.06)\n",
    "# plt.suptitle('MSFragger distribution of sequence identifications for conditions {}'.format(subset_groups))\n",
    "# plt.title('total of {} modified peptide sequences, {}% of values missing'.format(number_of_unique_sequences_fragger, int(round(fragger_missing_values*100))))\n",
    "\n",
    "counts = np.bincount(fragger_sequence_occurences_df.number_of_runs_extracted)\n",
    "ax1.bar(range(number_of_runs_in_subset+1), counts, width=0.8, align='center')\n",
    "plt.xlabel('number of files in which a modified sequence-charge was quantified')\n",
    "plt.ylabel('frequency')\n",
    "ax1.set(xticks=range(1,number_of_runs_in_subset+1), xlim=[0, number_of_runs_in_subset+1])\n",
    "plt.ylim((0,18000))\n",
    "\n",
    "plt.show()"
   ]
  },
  {
   "cell_type": "markdown",
   "metadata": {},
   "source": [
    "## distribution of quantitative intensities for peptides without missing values"
   ]
  },
  {
   "cell_type": "markdown",
   "metadata": {},
   "source": [
    "#### prepare TFD/E results"
   ]
  },
  {
   "cell_type": "code",
   "execution_count": 106,
   "metadata": {},
   "outputs": [
    {
     "data": {
      "text/html": [
       "<div>\n",
       "<style scoped>\n",
       "    .dataframe tbody tr th:only-of-type {\n",
       "        vertical-align: middle;\n",
       "    }\n",
       "\n",
       "    .dataframe tbody tr th {\n",
       "        vertical-align: top;\n",
       "    }\n",
       "\n",
       "    .dataframe thead th {\n",
       "        text-align: right;\n",
       "    }\n",
       "</style>\n",
       "<table border=\"1\" class=\"dataframe\">\n",
       "  <thead>\n",
       "    <tr style=\"text-align: right;\">\n",
       "      <th></th>\n",
       "      <th>sequence</th>\n",
       "      <th>charge</th>\n",
       "      <th>id_perc_q_value</th>\n",
       "      <th>protein</th>\n",
       "      <th>species</th>\n",
       "      <th>short_run_name</th>\n",
       "      <th>group</th>\n",
       "      <th>intensity</th>\n",
       "      <th>identified_in_run</th>\n",
       "    </tr>\n",
       "  </thead>\n",
       "  <tbody>\n",
       "    <tr>\n",
       "      <th>42053</th>\n",
       "      <td>FAPEMDDYVGTFLEGCQDDPER</td>\n",
       "      <td>2</td>\n",
       "      <td>0.000018</td>\n",
       "      <td>sp|Q9BQG0|MBB1A_HUMAN</td>\n",
       "      <td>Human</td>\n",
       "      <td>YHE211_4</td>\n",
       "      <td>YHE211</td>\n",
       "      <td>626</td>\n",
       "      <td>True</td>\n",
       "    </tr>\n",
       "    <tr>\n",
       "      <th>115002</th>\n",
       "      <td>NQGDEEGTEIDTLQFR</td>\n",
       "      <td>2</td>\n",
       "      <td>0.000018</td>\n",
       "      <td>sp|O15160|RPAC1_HUMAN</td>\n",
       "      <td>Human</td>\n",
       "      <td>YHE211_7</td>\n",
       "      <td>YHE211</td>\n",
       "      <td>1582</td>\n",
       "      <td>True</td>\n",
       "    </tr>\n",
       "    <tr>\n",
       "      <th>150911</th>\n",
       "      <td>TMGFCYQILTEPNADPR</td>\n",
       "      <td>2</td>\n",
       "      <td>0.000082</td>\n",
       "      <td>sp|O95373|IPO7_HUMAN</td>\n",
       "      <td>Human</td>\n",
       "      <td>YHE211_9</td>\n",
       "      <td>YHE211</td>\n",
       "      <td>695</td>\n",
       "      <td>True</td>\n",
       "    </tr>\n",
       "  </tbody>\n",
       "</table>\n",
       "</div>"
      ],
      "text/plain": [
       "                      sequence  charge  id_perc_q_value  \\\n",
       "42053   FAPEMDDYVGTFLEGCQDDPER       2         0.000018   \n",
       "115002        NQGDEEGTEIDTLQFR       2         0.000018   \n",
       "150911       TMGFCYQILTEPNADPR       2         0.000082   \n",
       "\n",
       "                      protein species short_run_name   group  intensity  \\\n",
       "42053   sp|Q9BQG0|MBB1A_HUMAN   Human       YHE211_4  YHE211        626   \n",
       "115002  sp|O15160|RPAC1_HUMAN   Human       YHE211_7  YHE211       1582   \n",
       "150911   sp|O95373|IPO7_HUMAN   Human       YHE211_9  YHE211        695   \n",
       "\n",
       "        identified_in_run  \n",
       "42053                True  \n",
       "115002               True  \n",
       "150911               True  "
      ]
     },
     "execution_count": 106,
     "metadata": {},
     "output_type": "execute_result"
    }
   ],
   "source": [
    "tfde_subset_df.sample(n=3)"
   ]
  },
  {
   "cell_type": "code",
   "execution_count": 107,
   "metadata": {},
   "outputs": [],
   "source": [
    "# calculate the intensity mean for peptides without missing values\n",
    "tfde_intensities_l = []\n",
    "for group_name,group_df in tfde_subset_df.groupby(['sequence','charge'], as_index=False):\n",
    "    if len(group_df.short_run_name.unique()) == number_of_runs_in_subset:\n",
    "        intensity_mean = group_df.intensity.mean()\n",
    "        tfde_intensities_l.append((','.join([group_name[0],group_name[1].astype('str')]),intensity_mean,'TFD/E'))\n",
    "tfde_intensities_df = pd.DataFrame(tfde_intensities_l, columns=['sequence','intensity','method'])\n",
    "tfde_intensities_df['intensity_adjusted'] = tfde_intensities_df.intensity - np.min(tfde_intensities_df.intensity)\n",
    "tfde_intensities_df.intensity_adjusted.replace(to_replace=[0.0], value=1.0, inplace=True)"
   ]
  },
  {
   "cell_type": "markdown",
   "metadata": {},
   "source": [
    "#### prepare MQ results"
   ]
  },
  {
   "cell_type": "code",
   "execution_count": 108,
   "metadata": {},
   "outputs": [
    {
     "data": {
      "text/html": [
       "<div>\n",
       "<style scoped>\n",
       "    .dataframe tbody tr th:only-of-type {\n",
       "        vertical-align: middle;\n",
       "    }\n",
       "\n",
       "    .dataframe tbody tr th {\n",
       "        vertical-align: top;\n",
       "    }\n",
       "\n",
       "    .dataframe thead th {\n",
       "        text-align: right;\n",
       "    }\n",
       "</style>\n",
       "<table border=\"1\" class=\"dataframe\">\n",
       "  <thead>\n",
       "    <tr style=\"text-align: right;\">\n",
       "      <th></th>\n",
       "      <th>sequence</th>\n",
       "      <th>modifications</th>\n",
       "      <th>charge</th>\n",
       "      <th>species</th>\n",
       "      <th>short_run_name</th>\n",
       "      <th>group</th>\n",
       "      <th>identified_in_file</th>\n",
       "      <th>score</th>\n",
       "      <th>intensity</th>\n",
       "    </tr>\n",
       "  </thead>\n",
       "  <tbody>\n",
       "    <tr>\n",
       "      <th>267807</th>\n",
       "      <td>NTGIICTIGPASR</td>\n",
       "      <td>Unmodified</td>\n",
       "      <td>2</td>\n",
       "      <td>Human</td>\n",
       "      <td>YHE211_4</td>\n",
       "      <td>YHE211</td>\n",
       "      <td>True</td>\n",
       "      <td>65.408</td>\n",
       "      <td>29517.0</td>\n",
       "    </tr>\n",
       "    <tr>\n",
       "      <th>52669</th>\n",
       "      <td>DLASNLVEQFLR</td>\n",
       "      <td>Unmodified</td>\n",
       "      <td>2</td>\n",
       "      <td>Yeast</td>\n",
       "      <td>YHE211_8</td>\n",
       "      <td>YHE211</td>\n",
       "      <td>False</td>\n",
       "      <td>191.400</td>\n",
       "      <td>42356.0</td>\n",
       "    </tr>\n",
       "    <tr>\n",
       "      <th>362564</th>\n",
       "      <td>VANAHGVETSFTNDLLNDLPQLIK</td>\n",
       "      <td>Unmodified</td>\n",
       "      <td>3</td>\n",
       "      <td>Yeast</td>\n",
       "      <td>YHE211_5</td>\n",
       "      <td>YHE211</td>\n",
       "      <td>False</td>\n",
       "      <td>141.100</td>\n",
       "      <td>7369.9</td>\n",
       "    </tr>\n",
       "  </tbody>\n",
       "</table>\n",
       "</div>"
      ],
      "text/plain": [
       "                        sequence modifications  charge species short_run_name  \\\n",
       "267807             NTGIICTIGPASR    Unmodified       2   Human       YHE211_4   \n",
       "52669               DLASNLVEQFLR    Unmodified       2   Yeast       YHE211_8   \n",
       "362564  VANAHGVETSFTNDLLNDLPQLIK    Unmodified       3   Yeast       YHE211_5   \n",
       "\n",
       "         group  identified_in_file    score  intensity  \n",
       "267807  YHE211                True   65.408    29517.0  \n",
       "52669   YHE211               False  191.400    42356.0  \n",
       "362564  YHE211               False  141.100     7369.9  "
      ]
     },
     "execution_count": 108,
     "metadata": {},
     "output_type": "execute_result"
    }
   ],
   "source": [
    "mq_subset_df.sample(n=3)"
   ]
  },
  {
   "cell_type": "code",
   "execution_count": 109,
   "metadata": {},
   "outputs": [],
   "source": [
    "# calculate the intensity mean for peptides without missing values\n",
    "mq_intensities_l = []\n",
    "for group_name,group_df in mq_subset_df.groupby(['sequence','modifications','charge'], as_index=False):\n",
    "    if len(group_df.short_run_name.unique()) == number_of_runs_in_subset:\n",
    "        intensity_mean = group_df.intensity.mean()\n",
    "        mq_intensities_l.append((','.join([group_name[0],group_name[1],group_name[2].astype('str')]),intensity_mean,'MaxQuant'))\n",
    "mq_intensities_df = pd.DataFrame(mq_intensities_l, columns=['sequence','intensity','method'])\n",
    "mq_intensities_df['intensity_adjusted'] = mq_intensities_df.intensity - np.min(mq_intensities_df.intensity)\n",
    "mq_intensities_df.intensity_adjusted.replace(to_replace=[0.0], value=1.0, inplace=True)"
   ]
  },
  {
   "cell_type": "markdown",
   "metadata": {},
   "source": [
    "#### prepare Fragger results"
   ]
  },
  {
   "cell_type": "code",
   "execution_count": 110,
   "metadata": {},
   "outputs": [
    {
     "data": {
      "text/html": [
       "<div>\n",
       "<style scoped>\n",
       "    .dataframe tbody tr th:only-of-type {\n",
       "        vertical-align: middle;\n",
       "    }\n",
       "\n",
       "    .dataframe tbody tr th {\n",
       "        vertical-align: top;\n",
       "    }\n",
       "\n",
       "    .dataframe thead th {\n",
       "        text-align: right;\n",
       "    }\n",
       "</style>\n",
       "<table border=\"1\" class=\"dataframe\">\n",
       "  <thead>\n",
       "    <tr style=\"text-align: right;\">\n",
       "      <th></th>\n",
       "      <th>ProteinName</th>\n",
       "      <th>PeptideSequence</th>\n",
       "      <th>PrecursorCharge</th>\n",
       "      <th>FragmentIon</th>\n",
       "      <th>ProductCharge</th>\n",
       "      <th>IsotopeLabelType</th>\n",
       "      <th>Condition</th>\n",
       "      <th>BioReplicate</th>\n",
       "      <th>Run</th>\n",
       "      <th>Intensity</th>\n",
       "      <th>short_run_name</th>\n",
       "      <th>species</th>\n",
       "    </tr>\n",
       "  </thead>\n",
       "  <tbody>\n",
       "    <tr>\n",
       "      <th>202911</th>\n",
       "      <td>sp|P19838|NFKB1_HUMAN</td>\n",
       "      <td>YVC[57.0215]EGPSHGGLPGASSEK</td>\n",
       "      <td>2</td>\n",
       "      <td>NaN</td>\n",
       "      <td>NaN</td>\n",
       "      <td>L</td>\n",
       "      <td>YHE211</td>\n",
       "      <td>1</td>\n",
       "      <td>P3856_YHE211_1_Slot1-1_1_5104</td>\n",
       "      <td>3649.922</td>\n",
       "      <td>YHE211_1</td>\n",
       "      <td>Human</td>\n",
       "    </tr>\n",
       "    <tr>\n",
       "      <th>493491</th>\n",
       "      <td>sp|Q14181|DPOA2_HUMAN</td>\n",
       "      <td>IEAFTPLLAPAQEPVTLLGQIGC[57.0215]DSNGK</td>\n",
       "      <td>3</td>\n",
       "      <td>NaN</td>\n",
       "      <td>NaN</td>\n",
       "      <td>L</td>\n",
       "      <td>YHE211</td>\n",
       "      <td>1</td>\n",
       "      <td>P3856_YHE211_1_Slot1-1_1_5104</td>\n",
       "      <td>25738.967</td>\n",
       "      <td>YHE211_1</td>\n",
       "      <td>Human</td>\n",
       "    </tr>\n",
       "    <tr>\n",
       "      <th>122783</th>\n",
       "      <td>sp|P07900|HS90A_HUMAN</td>\n",
       "      <td>HGLEVIYMIEPIDEYC[57.0215]VQQLK</td>\n",
       "      <td>3</td>\n",
       "      <td>NaN</td>\n",
       "      <td>NaN</td>\n",
       "      <td>L</td>\n",
       "      <td>YHE211</td>\n",
       "      <td>3</td>\n",
       "      <td>P3856_YHE211_3_Slot1-1_1_5106</td>\n",
       "      <td>44543.900</td>\n",
       "      <td>YHE211_3</td>\n",
       "      <td>Human</td>\n",
       "    </tr>\n",
       "  </tbody>\n",
       "</table>\n",
       "</div>"
      ],
      "text/plain": [
       "                  ProteinName                        PeptideSequence  \\\n",
       "202911  sp|P19838|NFKB1_HUMAN            YVC[57.0215]EGPSHGGLPGASSEK   \n",
       "493491  sp|Q14181|DPOA2_HUMAN  IEAFTPLLAPAQEPVTLLGQIGC[57.0215]DSNGK   \n",
       "122783  sp|P07900|HS90A_HUMAN         HGLEVIYMIEPIDEYC[57.0215]VQQLK   \n",
       "\n",
       "        PrecursorCharge  FragmentIon  ProductCharge IsotopeLabelType  \\\n",
       "202911                2          NaN            NaN                L   \n",
       "493491                3          NaN            NaN                L   \n",
       "122783                3          NaN            NaN                L   \n",
       "\n",
       "       Condition  BioReplicate                            Run  Intensity  \\\n",
       "202911    YHE211             1  P3856_YHE211_1_Slot1-1_1_5104   3649.922   \n",
       "493491    YHE211             1  P3856_YHE211_1_Slot1-1_1_5104  25738.967   \n",
       "122783    YHE211             3  P3856_YHE211_3_Slot1-1_1_5106  44543.900   \n",
       "\n",
       "       short_run_name species  \n",
       "202911       YHE211_1   Human  \n",
       "493491       YHE211_1   Human  \n",
       "122783       YHE211_3   Human  "
      ]
     },
     "execution_count": 110,
     "metadata": {},
     "output_type": "execute_result"
    }
   ],
   "source": [
    "fragger_subset_df.sample(n=3)"
   ]
  },
  {
   "cell_type": "code",
   "execution_count": 111,
   "metadata": {},
   "outputs": [],
   "source": [
    "# calculate the intensity mean for peptides without missing values\n",
    "fragger_intensities_l = []\n",
    "for group_name,group_df in fragger_subset_df.groupby(['PeptideSequence', 'PrecursorCharge'], as_index=False):\n",
    "    if len(group_df['Run'].unique()) == number_of_runs_in_subset:\n",
    "        intensity_mean = group_df.Intensity.mean()\n",
    "        fragger_intensities_l.append((','.join([group_name[0],group_name[1].astype('str')]),intensity_mean,'MSFragger'))\n",
    "fragger_intensities_df = pd.DataFrame(fragger_intensities_l, columns=['sequence','intensity','method'])\n",
    "fragger_intensities_df['intensity_adjusted'] = fragger_intensities_df.intensity - np.min(fragger_intensities_df.intensity)\n",
    "fragger_intensities_df.intensity_adjusted.replace(to_replace=[0.0], value=1.0, inplace=True)"
   ]
  },
  {
   "cell_type": "code",
   "execution_count": 112,
   "metadata": {},
   "outputs": [],
   "source": [
    "tfde_intensities_df['intensity_log'] = np.log10(tfde_intensities_df.intensity)\n",
    "mq_intensities_df['intensity_log'] = np.log10(mq_intensities_df.intensity)\n",
    "fragger_intensities_df['intensity_log'] = np.log10(fragger_intensities_df.intensity)"
   ]
  },
  {
   "cell_type": "code",
   "execution_count": 113,
   "metadata": {},
   "outputs": [],
   "source": [
    "tfde_intensities_df['intensity_adjusted_log'] = tfde_intensities_df.intensity_log - np.min(tfde_intensities_df.intensity_log)\n",
    "mq_intensities_df['intensity_adjusted_log'] = mq_intensities_df.intensity_log - np.min(mq_intensities_df.intensity_log)\n",
    "fragger_intensities_df['intensity_adjusted_log'] = fragger_intensities_df.intensity_log - np.min(fragger_intensities_df.intensity_log)"
   ]
  },
  {
   "cell_type": "markdown",
   "metadata": {},
   "source": [
    "#### consolidate the data"
   ]
  },
  {
   "cell_type": "code",
   "execution_count": 114,
   "metadata": {},
   "outputs": [],
   "source": [
    "intensities_l = [tfde_intensities_df,mq_intensities_df,fragger_intensities_df]\n",
    "intensities_df = pd.concat(intensities_l, sort=False)"
   ]
  },
  {
   "cell_type": "code",
   "execution_count": 115,
   "metadata": {},
   "outputs": [
    {
     "data": {
      "text/html": [
       "<div>\n",
       "<style scoped>\n",
       "    .dataframe tbody tr th:only-of-type {\n",
       "        vertical-align: middle;\n",
       "    }\n",
       "\n",
       "    .dataframe tbody tr th {\n",
       "        vertical-align: top;\n",
       "    }\n",
       "\n",
       "    .dataframe thead th {\n",
       "        text-align: right;\n",
       "    }\n",
       "</style>\n",
       "<table border=\"1\" class=\"dataframe\">\n",
       "  <thead>\n",
       "    <tr style=\"text-align: right;\">\n",
       "      <th></th>\n",
       "      <th>sequence</th>\n",
       "      <th>intensity</th>\n",
       "      <th>method</th>\n",
       "      <th>intensity_adjusted</th>\n",
       "      <th>intensity_log</th>\n",
       "      <th>intensity_adjusted_log</th>\n",
       "    </tr>\n",
       "  </thead>\n",
       "  <tbody>\n",
       "    <tr>\n",
       "      <th>13487</th>\n",
       "      <td>TPWLYEQEGEVEKPFIK,3</td>\n",
       "      <td>1152.9</td>\n",
       "      <td>TFD/E</td>\n",
       "      <td>1011.10</td>\n",
       "      <td>3.061792</td>\n",
       "      <td>0.910115</td>\n",
       "    </tr>\n",
       "    <tr>\n",
       "      <th>3864</th>\n",
       "      <td>FFQPTEMAAQDFFQR,2</td>\n",
       "      <td>1245.0</td>\n",
       "      <td>TFD/E</td>\n",
       "      <td>1103.20</td>\n",
       "      <td>3.095169</td>\n",
       "      <td>0.943493</td>\n",
       "    </tr>\n",
       "    <tr>\n",
       "      <th>2745</th>\n",
       "      <td>GLEAPWISLSLAPETLTK,Unmodified,2</td>\n",
       "      <td>62227.5</td>\n",
       "      <td>MaxQuant</td>\n",
       "      <td>57185.15</td>\n",
       "      <td>4.793982</td>\n",
       "      <td>1.091349</td>\n",
       "    </tr>\n",
       "  </tbody>\n",
       "</table>\n",
       "</div>"
      ],
      "text/plain": [
       "                              sequence  intensity    method  \\\n",
       "13487              TPWLYEQEGEVEKPFIK,3     1152.9     TFD/E   \n",
       "3864                 FFQPTEMAAQDFFQR,2     1245.0     TFD/E   \n",
       "2745   GLEAPWISLSLAPETLTK,Unmodified,2    62227.5  MaxQuant   \n",
       "\n",
       "       intensity_adjusted  intensity_log  intensity_adjusted_log  \n",
       "13487             1011.10       3.061792                0.910115  \n",
       "3864              1103.20       3.095169                0.943493  \n",
       "2745             57185.15       4.793982                1.091349  "
      ]
     },
     "execution_count": 115,
     "metadata": {},
     "output_type": "execute_result"
    }
   ],
   "source": [
    "intensities_df.sample(n=3)"
   ]
  },
  {
   "cell_type": "markdown",
   "metadata": {},
   "source": [
    "#### produce the plot"
   ]
  },
  {
   "cell_type": "code",
   "execution_count": 116,
   "metadata": {},
   "outputs": [
    {
     "data": {
      "image/png": "[encoded data removed]",
      "text/plain": [
       "<Figure size 1080x720 with 1 Axes>"
      ]
     },
     "metadata": {
      "needs_background": "light"
     },
     "output_type": "display_data"
    }
   ],
   "source": [
    "plt.figure(figsize=(15,10))\n",
    "ax = sns.violinplot(x=intensities_df.method, y=intensities_df.intensity_adjusted_log)\n",
    "_ = plt.ylabel(\"log10 intensity\")\n",
    "_ = plt.title('distribution of quantitative intensities (in log10 scale) for peptides without missing values for conditions {}'.format(subset_groups))"
   ]
  },
  {
   "cell_type": "code",
   "execution_count": 117,
   "metadata": {},
   "outputs": [
    {
     "data": {
      "text/plain": [
       "method\n",
       "MSFragger    3.064360\n",
       "MaxQuant     3.496881\n",
       "TFD/E        2.370584\n",
       "Name: intensity_adjusted_log, dtype: float64"
      ]
     },
     "execution_count": 117,
     "metadata": {},
     "output_type": "execute_result"
    }
   ],
   "source": [
    "# orders of magnitude\n",
    "intensities_df.groupby('method')['intensity_adjusted_log'].agg(np.ptp)"
   ]
  },
  {
   "cell_type": "code",
   "execution_count": 118,
   "metadata": {},
   "outputs": [
    {
     "data": {
      "text/plain": [
       "method\n",
       "MSFragger    11515\n",
       "MaxQuant      8950\n",
       "TFD/E        15883\n",
       "Name: intensity_adjusted_log, dtype: int64"
      ]
     },
     "execution_count": 118,
     "metadata": {},
     "output_type": "execute_result"
    }
   ],
   "source": [
    "# number of peptides that have no missing values\n",
    "intensities_df.groupby('method')['intensity_adjusted_log'].count()"
   ]
  },
  {
   "cell_type": "markdown",
   "metadata": {},
   "source": [
    "## distribution of CV for peptides appearing in more than two runs"
   ]
  },
  {
   "cell_type": "markdown",
   "metadata": {},
   "source": [
    "#### TFD/E analysis"
   ]
  },
  {
   "cell_type": "code",
   "execution_count": 119,
   "metadata": {},
   "outputs": [
    {
     "data": {
      "text/html": [
       "<div>\n",
       "<style scoped>\n",
       "    .dataframe tbody tr th:only-of-type {\n",
       "        vertical-align: middle;\n",
       "    }\n",
       "\n",
       "    .dataframe tbody tr th {\n",
       "        vertical-align: top;\n",
       "    }\n",
       "\n",
       "    .dataframe thead th {\n",
       "        text-align: right;\n",
       "    }\n",
       "</style>\n",
       "<table border=\"1\" class=\"dataframe\">\n",
       "  <thead>\n",
       "    <tr style=\"text-align: right;\">\n",
       "      <th></th>\n",
       "      <th>sequence</th>\n",
       "      <th>charge</th>\n",
       "      <th>id_perc_q_value</th>\n",
       "      <th>protein</th>\n",
       "      <th>species</th>\n",
       "      <th>short_run_name</th>\n",
       "      <th>group</th>\n",
       "      <th>intensity</th>\n",
       "      <th>identified_in_run</th>\n",
       "    </tr>\n",
       "  </thead>\n",
       "  <tbody>\n",
       "    <tr>\n",
       "      <th>52600</th>\n",
       "      <td>GFDVASMMSVTLSCDHR</td>\n",
       "      <td>2</td>\n",
       "      <td>0.000018</td>\n",
       "      <td>sp|P10515|ODP2_HUMAN</td>\n",
       "      <td>Human</td>\n",
       "      <td>YHE211_8</td>\n",
       "      <td>YHE211</td>\n",
       "      <td>1184</td>\n",
       "      <td>True</td>\n",
       "    </tr>\n",
       "    <tr>\n",
       "      <th>54322</th>\n",
       "      <td>GIEEVGPNNVPYIVATITSNSAGGQPVSLANLK</td>\n",
       "      <td>3</td>\n",
       "      <td>0.000018</td>\n",
       "      <td>sp|P0A853|TNAA_ECOLI</td>\n",
       "      <td>E. coli</td>\n",
       "      <td>YHE211_8</td>\n",
       "      <td>YHE211</td>\n",
       "      <td>203</td>\n",
       "      <td>False</td>\n",
       "    </tr>\n",
       "    <tr>\n",
       "      <th>51159</th>\n",
       "      <td>GDDLLPAGTEDYIHIR</td>\n",
       "      <td>2</td>\n",
       "      <td>0.000018</td>\n",
       "      <td>sp|P41567|EIF1_HUMAN,sp|O60739|EIF1B_HUMAN</td>\n",
       "      <td>Human</td>\n",
       "      <td>YHE211_9</td>\n",
       "      <td>YHE211</td>\n",
       "      <td>1573</td>\n",
       "      <td>False</td>\n",
       "    </tr>\n",
       "  </tbody>\n",
       "</table>\n",
       "</div>"
      ],
      "text/plain": [
       "                                sequence  charge  id_perc_q_value  \\\n",
       "52600                  GFDVASMMSVTLSCDHR       2         0.000018   \n",
       "54322  GIEEVGPNNVPYIVATITSNSAGGQPVSLANLK       3         0.000018   \n",
       "51159                   GDDLLPAGTEDYIHIR       2         0.000018   \n",
       "\n",
       "                                          protein  species short_run_name  \\\n",
       "52600                        sp|P10515|ODP2_HUMAN    Human       YHE211_8   \n",
       "54322                        sp|P0A853|TNAA_ECOLI  E. coli       YHE211_8   \n",
       "51159  sp|P41567|EIF1_HUMAN,sp|O60739|EIF1B_HUMAN    Human       YHE211_9   \n",
       "\n",
       "        group  intensity  identified_in_run  \n",
       "52600  YHE211       1184               True  \n",
       "54322  YHE211        203              False  \n",
       "51159  YHE211       1573              False  "
      ]
     },
     "execution_count": 119,
     "metadata": {},
     "output_type": "execute_result"
    }
   ],
   "source": [
    "tfde_subset_df.sample(n=3)"
   ]
  },
  {
   "cell_type": "code",
   "execution_count": 120,
   "metadata": {},
   "outputs": [],
   "source": [
    "# for each sequence, find the CV\n",
    "sequence_cv_l = []\n",
    "for group_name,group_df in tfde_subset_df.groupby(['sequence','charge']):\n",
    "    if len(group_df) >= 2:\n",
    "        intensity_cv = np.std(group_df.intensity) / np.mean(group_df.intensity)\n",
    "        sequence_cv_l.append((group_name[0], group_name[1], intensity_cv))\n",
    "tfde_sequence_cv_df = pd.DataFrame(sequence_cv_l, columns=['sequence','charge','intensity_cv'])"
   ]
  },
  {
   "cell_type": "code",
   "execution_count": 121,
   "metadata": {},
   "outputs": [
    {
     "data": {
      "text/html": [
       "<div>\n",
       "<style scoped>\n",
       "    .dataframe tbody tr th:only-of-type {\n",
       "        vertical-align: middle;\n",
       "    }\n",
       "\n",
       "    .dataframe tbody tr th {\n",
       "        vertical-align: top;\n",
       "    }\n",
       "\n",
       "    .dataframe thead th {\n",
       "        text-align: right;\n",
       "    }\n",
       "</style>\n",
       "<table border=\"1\" class=\"dataframe\">\n",
       "  <thead>\n",
       "    <tr style=\"text-align: right;\">\n",
       "      <th></th>\n",
       "      <th>sequence</th>\n",
       "      <th>charge</th>\n",
       "      <th>intensity_cv</th>\n",
       "    </tr>\n",
       "  </thead>\n",
       "  <tbody>\n",
       "    <tr>\n",
       "      <th>16240</th>\n",
       "      <td>VADPDHDHTGFLTEYVATR</td>\n",
       "      <td>2</td>\n",
       "      <td>0.086184</td>\n",
       "    </tr>\n",
       "    <tr>\n",
       "      <th>10568</th>\n",
       "      <td>LVSPGSANETSSILVESVTR</td>\n",
       "      <td>2</td>\n",
       "      <td>0.309266</td>\n",
       "    </tr>\n",
       "    <tr>\n",
       "      <th>7900</th>\n",
       "      <td>IPSLCPGHPGLPGTPGHHGSQGLPGR</td>\n",
       "      <td>3</td>\n",
       "      <td>0.083744</td>\n",
       "    </tr>\n",
       "  </tbody>\n",
       "</table>\n",
       "</div>"
      ],
      "text/plain": [
       "                         sequence  charge  intensity_cv\n",
       "16240         VADPDHDHTGFLTEYVATR       2      0.086184\n",
       "10568        LVSPGSANETSSILVESVTR       2      0.309266\n",
       "7900   IPSLCPGHPGLPGTPGHHGSQGLPGR       3      0.083744"
      ]
     },
     "execution_count": 121,
     "metadata": {},
     "output_type": "execute_result"
    }
   ],
   "source": [
    "tfde_sequence_cv_df.sample(n=3)"
   ]
  },
  {
   "cell_type": "code",
   "execution_count": 122,
   "metadata": {},
   "outputs": [
    {
     "data": {
      "text/html": [
       "<div>\n",
       "<style scoped>\n",
       "    .dataframe tbody tr th:only-of-type {\n",
       "        vertical-align: middle;\n",
       "    }\n",
       "\n",
       "    .dataframe tbody tr th {\n",
       "        vertical-align: top;\n",
       "    }\n",
       "\n",
       "    .dataframe thead th {\n",
       "        text-align: right;\n",
       "    }\n",
       "</style>\n",
       "<table border=\"1\" class=\"dataframe\">\n",
       "  <thead>\n",
       "    <tr style=\"text-align: right;\">\n",
       "      <th></th>\n",
       "      <th>sequence</th>\n",
       "      <th>charge</th>\n",
       "      <th>intensity_cv</th>\n",
       "    </tr>\n",
       "  </thead>\n",
       "  <tbody>\n",
       "    <tr>\n",
       "      <th>18472</th>\n",
       "      <td>YSNEDTLSVALPYFWEHFDK</td>\n",
       "      <td>2</td>\n",
       "      <td>0.307236</td>\n",
       "    </tr>\n",
       "    <tr>\n",
       "      <th>86</th>\n",
       "      <td>AALSSQQQQQLALLLQQFQTLK</td>\n",
       "      <td>3</td>\n",
       "      <td>0.388433</td>\n",
       "    </tr>\n",
       "    <tr>\n",
       "      <th>9000</th>\n",
       "      <td>LFIGGLSFETTEESLR</td>\n",
       "      <td>2</td>\n",
       "      <td>1.304955</td>\n",
       "    </tr>\n",
       "    <tr>\n",
       "      <th>2207</th>\n",
       "      <td>DIISDTSGDFRK</td>\n",
       "      <td>2</td>\n",
       "      <td>0.336688</td>\n",
       "    </tr>\n",
       "    <tr>\n",
       "      <th>16819</th>\n",
       "      <td>VISIQGEEPLIMGLYK</td>\n",
       "      <td>2</td>\n",
       "      <td>0.312460</td>\n",
       "    </tr>\n",
       "  </tbody>\n",
       "</table>\n",
       "</div>"
      ],
      "text/plain": [
       "                     sequence  charge  intensity_cv\n",
       "18472    YSNEDTLSVALPYFWEHFDK       2      0.307236\n",
       "86     AALSSQQQQQLALLLQQFQTLK       3      0.388433\n",
       "9000         LFIGGLSFETTEESLR       2      1.304955\n",
       "2207             DIISDTSGDFRK       2      0.336688\n",
       "16819        VISIQGEEPLIMGLYK       2      0.312460"
      ]
     },
     "execution_count": 122,
     "metadata": {},
     "output_type": "execute_result"
    }
   ],
   "source": [
    "tfde_sequence_cv_df[tfde_sequence_cv_df.intensity_cv > 0.25].sample(n=5)"
   ]
  },
  {
   "cell_type": "code",
   "execution_count": 123,
   "metadata": {},
   "outputs": [
    {
     "data": {
      "text/html": [
       "<div>\n",
       "<style scoped>\n",
       "    .dataframe tbody tr th:only-of-type {\n",
       "        vertical-align: middle;\n",
       "    }\n",
       "\n",
       "    .dataframe tbody tr th {\n",
       "        vertical-align: top;\n",
       "    }\n",
       "\n",
       "    .dataframe thead th {\n",
       "        text-align: right;\n",
       "    }\n",
       "</style>\n",
       "<table border=\"1\" class=\"dataframe\">\n",
       "  <thead>\n",
       "    <tr style=\"text-align: right;\">\n",
       "      <th></th>\n",
       "      <th>sequence</th>\n",
       "      <th>charge</th>\n",
       "      <th>identifications</th>\n",
       "      <th>extractions</th>\n",
       "      <th>identifications_d</th>\n",
       "      <th>id_perc_q_value</th>\n",
       "      <th>id_count_all_runs</th>\n",
       "      <th>id_count_human_only_runs</th>\n",
       "      <th>id_number_of_proteins</th>\n",
       "      <th>id_protein</th>\n",
       "      <th>id_species</th>\n",
       "      <th>extractions_l</th>\n",
       "      <th>ext_count_all_runs</th>\n",
       "      <th>ext_count_human_only_runs</th>\n",
       "    </tr>\n",
       "  </thead>\n",
       "  <tbody>\n",
       "    <tr>\n",
       "      <th>7075</th>\n",
       "      <td>HVLTGSADNSCR</td>\n",
       "      <td>2</td>\n",
       "      <td>{\"perc_q_value\": 0.00021431633, \"run_names\": [...</td>\n",
       "      <td>[{\"run_name\": \"P3856_YHE211_1_Slot1-1_1_5104\",...</td>\n",
       "      <td>{'perc_q_value': 0.00021431633, 'run_names': [...</td>\n",
       "      <td>0.000214</td>\n",
       "      <td>10</td>\n",
       "      <td>0</td>\n",
       "      <td>1</td>\n",
       "      <td>sp|Q13347|EIF3I_HUMAN</td>\n",
       "      <td>Human</td>\n",
       "      <td>[{'run_name': 'P3856_YHE211_1_Slot1-1_1_5104',...</td>\n",
       "      <td>10</td>\n",
       "      <td>0</td>\n",
       "    </tr>\n",
       "    <tr>\n",
       "      <th>25775</th>\n",
       "      <td>HVLTGSADNSCR</td>\n",
       "      <td>2</td>\n",
       "      <td>{\"perc_q_value\": 1.4979927e-05, \"run_names\": [...</td>\n",
       "      <td>[{\"run_name\": \"P3856_YHE114_1_Slot1-1_1_5115\",...</td>\n",
       "      <td>{'perc_q_value': 1.4979927e-05, 'run_names': [...</td>\n",
       "      <td>0.000015</td>\n",
       "      <td>10</td>\n",
       "      <td>0</td>\n",
       "      <td>1</td>\n",
       "      <td>sp|Q13347|EIF3I_HUMAN</td>\n",
       "      <td>Human</td>\n",
       "      <td>[{'run_name': 'P3856_YHE114_1_Slot1-1_1_5115',...</td>\n",
       "      <td>9</td>\n",
       "      <td>0</td>\n",
       "    </tr>\n",
       "  </tbody>\n",
       "</table>\n",
       "</div>"
      ],
      "text/plain": [
       "           sequence  charge  \\\n",
       "7075   HVLTGSADNSCR       2   \n",
       "25775  HVLTGSADNSCR       2   \n",
       "\n",
       "                                         identifications  \\\n",
       "7075   {\"perc_q_value\": 0.00021431633, \"run_names\": [...   \n",
       "25775  {\"perc_q_value\": 1.4979927e-05, \"run_names\": [...   \n",
       "\n",
       "                                             extractions  \\\n",
       "7075   [{\"run_name\": \"P3856_YHE211_1_Slot1-1_1_5104\",...   \n",
       "25775  [{\"run_name\": \"P3856_YHE114_1_Slot1-1_1_5115\",...   \n",
       "\n",
       "                                       identifications_d  id_perc_q_value  \\\n",
       "7075   {'perc_q_value': 0.00021431633, 'run_names': [...         0.000214   \n",
       "25775  {'perc_q_value': 1.4979927e-05, 'run_names': [...         0.000015   \n",
       "\n",
       "       id_count_all_runs  id_count_human_only_runs  id_number_of_proteins  \\\n",
       "7075                  10                         0                      1   \n",
       "25775                 10                         0                      1   \n",
       "\n",
       "                  id_protein id_species  \\\n",
       "7075   sp|Q13347|EIF3I_HUMAN      Human   \n",
       "25775  sp|Q13347|EIF3I_HUMAN      Human   \n",
       "\n",
       "                                           extractions_l  ext_count_all_runs  \\\n",
       "7075   [{'run_name': 'P3856_YHE211_1_Slot1-1_1_5104',...                  10   \n",
       "25775  [{'run_name': 'P3856_YHE114_1_Slot1-1_1_5115',...                   9   \n",
       "\n",
       "       ext_count_human_only_runs  \n",
       "7075                           0  \n",
       "25775                          0  "
      ]
     },
     "execution_count": 123,
     "metadata": {},
     "output_type": "execute_result"
    }
   ],
   "source": [
    "tfde_results_df[(tfde_results_df.sequence == 'HVLTGSADNSCR') & (tfde_results_df.charge == 2)]"
   ]
  },
  {
   "cell_type": "code",
   "execution_count": 124,
   "metadata": {},
   "outputs": [
    {
     "data": {
      "text/html": [
       "<div>\n",
       "<style scoped>\n",
       "    .dataframe tbody tr th:only-of-type {\n",
       "        vertical-align: middle;\n",
       "    }\n",
       "\n",
       "    .dataframe tbody tr th {\n",
       "        vertical-align: top;\n",
       "    }\n",
       "\n",
       "    .dataframe thead th {\n",
       "        text-align: right;\n",
       "    }\n",
       "</style>\n",
       "<table border=\"1\" class=\"dataframe\">\n",
       "  <thead>\n",
       "    <tr style=\"text-align: right;\">\n",
       "      <th></th>\n",
       "      <th>sequence</th>\n",
       "      <th>charge</th>\n",
       "      <th>id_perc_q_value</th>\n",
       "      <th>protein</th>\n",
       "      <th>species</th>\n",
       "      <th>short_run_name</th>\n",
       "      <th>group</th>\n",
       "      <th>intensity</th>\n",
       "      <th>identified_in_run</th>\n",
       "    </tr>\n",
       "  </thead>\n",
       "  <tbody>\n",
       "    <tr>\n",
       "      <th>67095</th>\n",
       "      <td>HVLTGSADNSCR</td>\n",
       "      <td>2</td>\n",
       "      <td>0.000214</td>\n",
       "      <td>sp|Q13347|EIF3I_HUMAN</td>\n",
       "      <td>Human</td>\n",
       "      <td>YHE211_1</td>\n",
       "      <td>YHE211</td>\n",
       "      <td>274</td>\n",
       "      <td>True</td>\n",
       "    </tr>\n",
       "    <tr>\n",
       "      <th>67096</th>\n",
       "      <td>HVLTGSADNSCR</td>\n",
       "      <td>2</td>\n",
       "      <td>0.000214</td>\n",
       "      <td>sp|Q13347|EIF3I_HUMAN</td>\n",
       "      <td>Human</td>\n",
       "      <td>YHE211_2</td>\n",
       "      <td>YHE211</td>\n",
       "      <td>3244</td>\n",
       "      <td>True</td>\n",
       "    </tr>\n",
       "    <tr>\n",
       "      <th>67097</th>\n",
       "      <td>HVLTGSADNSCR</td>\n",
       "      <td>2</td>\n",
       "      <td>0.000214</td>\n",
       "      <td>sp|Q13347|EIF3I_HUMAN</td>\n",
       "      <td>Human</td>\n",
       "      <td>YHE211_3</td>\n",
       "      <td>YHE211</td>\n",
       "      <td>747</td>\n",
       "      <td>True</td>\n",
       "    </tr>\n",
       "    <tr>\n",
       "      <th>67098</th>\n",
       "      <td>HVLTGSADNSCR</td>\n",
       "      <td>2</td>\n",
       "      <td>0.000214</td>\n",
       "      <td>sp|Q13347|EIF3I_HUMAN</td>\n",
       "      <td>Human</td>\n",
       "      <td>YHE211_4</td>\n",
       "      <td>YHE211</td>\n",
       "      <td>7638</td>\n",
       "      <td>True</td>\n",
       "    </tr>\n",
       "    <tr>\n",
       "      <th>67099</th>\n",
       "      <td>HVLTGSADNSCR</td>\n",
       "      <td>2</td>\n",
       "      <td>0.000214</td>\n",
       "      <td>sp|Q13347|EIF3I_HUMAN</td>\n",
       "      <td>Human</td>\n",
       "      <td>YHE211_5</td>\n",
       "      <td>YHE211</td>\n",
       "      <td>385</td>\n",
       "      <td>True</td>\n",
       "    </tr>\n",
       "    <tr>\n",
       "      <th>67100</th>\n",
       "      <td>HVLTGSADNSCR</td>\n",
       "      <td>2</td>\n",
       "      <td>0.000214</td>\n",
       "      <td>sp|Q13347|EIF3I_HUMAN</td>\n",
       "      <td>Human</td>\n",
       "      <td>YHE211_6</td>\n",
       "      <td>YHE211</td>\n",
       "      <td>8309</td>\n",
       "      <td>True</td>\n",
       "    </tr>\n",
       "    <tr>\n",
       "      <th>67101</th>\n",
       "      <td>HVLTGSADNSCR</td>\n",
       "      <td>2</td>\n",
       "      <td>0.000214</td>\n",
       "      <td>sp|Q13347|EIF3I_HUMAN</td>\n",
       "      <td>Human</td>\n",
       "      <td>YHE211_7</td>\n",
       "      <td>YHE211</td>\n",
       "      <td>3686</td>\n",
       "      <td>True</td>\n",
       "    </tr>\n",
       "    <tr>\n",
       "      <th>67102</th>\n",
       "      <td>HVLTGSADNSCR</td>\n",
       "      <td>2</td>\n",
       "      <td>0.000214</td>\n",
       "      <td>sp|Q13347|EIF3I_HUMAN</td>\n",
       "      <td>Human</td>\n",
       "      <td>YHE211_8</td>\n",
       "      <td>YHE211</td>\n",
       "      <td>675</td>\n",
       "      <td>True</td>\n",
       "    </tr>\n",
       "    <tr>\n",
       "      <th>67103</th>\n",
       "      <td>HVLTGSADNSCR</td>\n",
       "      <td>2</td>\n",
       "      <td>0.000214</td>\n",
       "      <td>sp|Q13347|EIF3I_HUMAN</td>\n",
       "      <td>Human</td>\n",
       "      <td>YHE211_9</td>\n",
       "      <td>YHE211</td>\n",
       "      <td>759</td>\n",
       "      <td>True</td>\n",
       "    </tr>\n",
       "    <tr>\n",
       "      <th>67104</th>\n",
       "      <td>HVLTGSADNSCR</td>\n",
       "      <td>2</td>\n",
       "      <td>0.000214</td>\n",
       "      <td>sp|Q13347|EIF3I_HUMAN</td>\n",
       "      <td>Human</td>\n",
       "      <td>YHE211_10</td>\n",
       "      <td>YHE211</td>\n",
       "      <td>304</td>\n",
       "      <td>True</td>\n",
       "    </tr>\n",
       "  </tbody>\n",
       "</table>\n",
       "</div>"
      ],
      "text/plain": [
       "           sequence  charge  id_perc_q_value                protein species  \\\n",
       "67095  HVLTGSADNSCR       2         0.000214  sp|Q13347|EIF3I_HUMAN   Human   \n",
       "67096  HVLTGSADNSCR       2         0.000214  sp|Q13347|EIF3I_HUMAN   Human   \n",
       "67097  HVLTGSADNSCR       2         0.000214  sp|Q13347|EIF3I_HUMAN   Human   \n",
       "67098  HVLTGSADNSCR       2         0.000214  sp|Q13347|EIF3I_HUMAN   Human   \n",
       "67099  HVLTGSADNSCR       2         0.000214  sp|Q13347|EIF3I_HUMAN   Human   \n",
       "67100  HVLTGSADNSCR       2         0.000214  sp|Q13347|EIF3I_HUMAN   Human   \n",
       "67101  HVLTGSADNSCR       2         0.000214  sp|Q13347|EIF3I_HUMAN   Human   \n",
       "67102  HVLTGSADNSCR       2         0.000214  sp|Q13347|EIF3I_HUMAN   Human   \n",
       "67103  HVLTGSADNSCR       2         0.000214  sp|Q13347|EIF3I_HUMAN   Human   \n",
       "67104  HVLTGSADNSCR       2         0.000214  sp|Q13347|EIF3I_HUMAN   Human   \n",
       "\n",
       "      short_run_name   group  intensity  identified_in_run  \n",
       "67095       YHE211_1  YHE211        274               True  \n",
       "67096       YHE211_2  YHE211       3244               True  \n",
       "67097       YHE211_3  YHE211        747               True  \n",
       "67098       YHE211_4  YHE211       7638               True  \n",
       "67099       YHE211_5  YHE211        385               True  \n",
       "67100       YHE211_6  YHE211       8309               True  \n",
       "67101       YHE211_7  YHE211       3686               True  \n",
       "67102       YHE211_8  YHE211        675               True  \n",
       "67103       YHE211_9  YHE211        759               True  \n",
       "67104      YHE211_10  YHE211        304               True  "
      ]
     },
     "execution_count": 124,
     "metadata": {},
     "output_type": "execute_result"
    }
   ],
   "source": [
    "tfde_subset_df[(tfde_subset_df.sequence == 'HVLTGSADNSCR') & (tfde_subset_df.charge == 2)]"
   ]
  },
  {
   "cell_type": "code",
   "execution_count": 125,
   "metadata": {},
   "outputs": [
    {
     "data": {
      "image/png": "[encoded data removed]",
      "text/plain": [
       "<Figure size 576x576 with 1 Axes>"
      ]
     },
     "metadata": {
      "needs_background": "light"
     },
     "output_type": "display_data"
    }
   ],
   "source": [
    "f, ax1 = plt.subplots()\n",
    "f.set_figheight(8)\n",
    "f.set_figwidth(8)\n",
    "\n",
    "plt.margins(0.06)\n",
    "plt.title('')\n",
    "\n",
    "bins = 500\n",
    "values = tfde_sequence_cv_df.intensity_cv\n",
    "y, x, _ = ax1.hist(values, bins=bins)\n",
    "mean = np.mean(values)\n",
    "ax1.axvline(mean, color='darkorange', lw=1.0, ls='-.', label='mean')\n",
    "text_style = dict(size=10, color='brown', verticalalignment='center', horizontalalignment='left')\n",
    "ax1.text(mean*0.85, y.max()*0.98, \"mean {}\".format(round(mean,2)), **text_style, rotation='vertical')\n",
    "\n",
    "plt.xlabel('sequence intensity CV')\n",
    "plt.ylabel('count')\n",
    "# plt.title('TFD/E sequence intensity coefficient of variance for conditions {} ({} unique peptides)'.format(subset_groups,len(sequence_cv_df)))\n",
    "plt.xlim((0,1))\n",
    "plt.ylim((0,500))\n",
    "\n",
    "plt.show()"
   ]
  },
  {
   "cell_type": "markdown",
   "metadata": {},
   "source": [
    "#### MQ analysis"
   ]
  },
  {
   "cell_type": "code",
   "execution_count": 126,
   "metadata": {},
   "outputs": [],
   "source": [
    "# for each sequence, find the CV\n",
    "sequence_cv_l = []\n",
    "for group_name,group_df in mq_subset_df.groupby(['sequence','modifications','charge']):\n",
    "    if len(group_df) >= 2:\n",
    "        intensity_cv = np.std(group_df.intensity) / np.mean(group_df.intensity)\n",
    "        sequence = ','.join([group_name[0],group_name[1],group_name[2].astype('str')])\n",
    "        sequence_cv_l.append((sequence, intensity_cv))\n",
    "mq_sequence_cv_df = pd.DataFrame(sequence_cv_l, columns=['sequence','intensity_cv'])"
   ]
  },
  {
   "cell_type": "code",
   "execution_count": 127,
   "metadata": {},
   "outputs": [
    {
     "data": {
      "text/html": [
       "<div>\n",
       "<style scoped>\n",
       "    .dataframe tbody tr th:only-of-type {\n",
       "        vertical-align: middle;\n",
       "    }\n",
       "\n",
       "    .dataframe tbody tr th {\n",
       "        vertical-align: top;\n",
       "    }\n",
       "\n",
       "    .dataframe thead th {\n",
       "        text-align: right;\n",
       "    }\n",
       "</style>\n",
       "<table border=\"1\" class=\"dataframe\">\n",
       "  <thead>\n",
       "    <tr style=\"text-align: right;\">\n",
       "      <th></th>\n",
       "      <th>sequence</th>\n",
       "      <th>intensity_cv</th>\n",
       "    </tr>\n",
       "  </thead>\n",
       "  <tbody>\n",
       "    <tr>\n",
       "      <th>12907</th>\n",
       "      <td>SFNIPLLVLGGGGYTVR,Unmodified,2</td>\n",
       "      <td>0.156407</td>\n",
       "    </tr>\n",
       "    <tr>\n",
       "      <th>7771</th>\n",
       "      <td>KPGGFDISLFYR,Unmodified,2</td>\n",
       "      <td>0.103363</td>\n",
       "    </tr>\n",
       "    <tr>\n",
       "      <th>13274</th>\n",
       "      <td>SLVTDLGAANFFTPDHLDK,Unmodified,2</td>\n",
       "      <td>0.334921</td>\n",
       "    </tr>\n",
       "  </tbody>\n",
       "</table>\n",
       "</div>"
      ],
      "text/plain": [
       "                               sequence  intensity_cv\n",
       "12907    SFNIPLLVLGGGGYTVR,Unmodified,2      0.156407\n",
       "7771          KPGGFDISLFYR,Unmodified,2      0.103363\n",
       "13274  SLVTDLGAANFFTPDHLDK,Unmodified,2      0.334921"
      ]
     },
     "execution_count": 127,
     "metadata": {},
     "output_type": "execute_result"
    }
   ],
   "source": [
    "mq_sequence_cv_df.sample(n=3)"
   ]
  },
  {
   "cell_type": "code",
   "execution_count": 128,
   "metadata": {},
   "outputs": [
    {
     "data": {
      "image/png": "[encoded data removed]",
      "text/plain": [
       "<Figure size 576x576 with 1 Axes>"
      ]
     },
     "metadata": {
      "needs_background": "light"
     },
     "output_type": "display_data"
    }
   ],
   "source": [
    "f, ax1 = plt.subplots()\n",
    "f.set_figheight(8)\n",
    "f.set_figwidth(8)\n",
    "\n",
    "plt.margins(0.06)\n",
    "plt.title('')\n",
    "\n",
    "bins = 500\n",
    "values = mq_sequence_cv_df.intensity_cv\n",
    "y, x, _ = ax1.hist(values, bins=bins)\n",
    "mean = np.mean(values)\n",
    "ax1.axvline(mean, color='darkorange', lw=1.0, ls='-.', label='mean')\n",
    "text_style = dict(size=10, color='brown', verticalalignment='center', horizontalalignment='left')\n",
    "ax1.text(mean*0.85, y.max()*0.98, \"mean {}\".format(round(mean,2)), **text_style, rotation='vertical')\n",
    "\n",
    "plt.xlabel('sequence intensity CV')\n",
    "plt.ylabel('count')\n",
    "# plt.title('MaxQuant sequence intensity coefficient of variance for conditions {} ({} unique peptides)'.format(subset_groups, len(mq_sequence_cv_df)))\n",
    "plt.xlim((0,1))\n",
    "plt.ylim((0,500))\n",
    "\n",
    "plt.show()"
   ]
  },
  {
   "cell_type": "markdown",
   "metadata": {},
   "source": [
    "#### Fragger analysis"
   ]
  },
  {
   "cell_type": "code",
   "execution_count": 129,
   "metadata": {},
   "outputs": [],
   "source": [
    "# for each sequence, find the CV\n",
    "sequence_cv_l = []\n",
    "for group_name,group_df in fragger_subset_df.groupby(['PeptideSequence', 'PrecursorCharge']):\n",
    "    if len(group_df) >= 2:\n",
    "        intensity_cv = np.std(group_df.Intensity) / np.mean(group_df.Intensity)\n",
    "        sequence = ','.join([group_name[0],group_name[1].astype('str')])\n",
    "        sequence_cv_l.append((sequence, intensity_cv))\n",
    "fragger_sequence_cv_df = pd.DataFrame(sequence_cv_l, columns=['sequence','intensity_cv'])"
   ]
  },
  {
   "cell_type": "code",
   "execution_count": 130,
   "metadata": {},
   "outputs": [
    {
     "data": {
      "text/html": [
       "<div>\n",
       "<style scoped>\n",
       "    .dataframe tbody tr th:only-of-type {\n",
       "        vertical-align: middle;\n",
       "    }\n",
       "\n",
       "    .dataframe tbody tr th {\n",
       "        vertical-align: top;\n",
       "    }\n",
       "\n",
       "    .dataframe thead th {\n",
       "        text-align: right;\n",
       "    }\n",
       "</style>\n",
       "<table border=\"1\" class=\"dataframe\">\n",
       "  <thead>\n",
       "    <tr style=\"text-align: right;\">\n",
       "      <th></th>\n",
       "      <th>sequence</th>\n",
       "      <th>intensity_cv</th>\n",
       "    </tr>\n",
       "  </thead>\n",
       "  <tbody>\n",
       "    <tr>\n",
       "      <th>6044</th>\n",
       "      <td>GSYGDLGGPIITTQVTIPK,2</td>\n",
       "      <td>0.077289</td>\n",
       "    </tr>\n",
       "    <tr>\n",
       "      <th>996</th>\n",
       "      <td>APYVGMVTKPANEQSQDFSIHNEDFPALPGSSYK,4</td>\n",
       "      <td>0.309619</td>\n",
       "    </tr>\n",
       "    <tr>\n",
       "      <th>14944</th>\n",
       "      <td>TLALLAFDSPEESPFGDLLHTMQR,3</td>\n",
       "      <td>0.288091</td>\n",
       "    </tr>\n",
       "  </tbody>\n",
       "</table>\n",
       "</div>"
      ],
      "text/plain": [
       "                                   sequence  intensity_cv\n",
       "6044                  GSYGDLGGPIITTQVTIPK,2      0.077289\n",
       "996    APYVGMVTKPANEQSQDFSIHNEDFPALPGSSYK,4      0.309619\n",
       "14944            TLALLAFDSPEESPFGDLLHTMQR,3      0.288091"
      ]
     },
     "execution_count": 130,
     "metadata": {},
     "output_type": "execute_result"
    }
   ],
   "source": [
    "fragger_sequence_cv_df.sample(n=3)"
   ]
  },
  {
   "cell_type": "code",
   "execution_count": 131,
   "metadata": {},
   "outputs": [
    {
     "data": {
      "image/png": "[encoded data removed]",
      "text/plain": [
       "<Figure size 576x576 with 1 Axes>"
      ]
     },
     "metadata": {
      "needs_background": "light"
     },
     "output_type": "display_data"
    }
   ],
   "source": [
    "f, ax1 = plt.subplots()\n",
    "f.set_figheight(8)\n",
    "f.set_figwidth(8)\n",
    "\n",
    "plt.margins(0.06)\n",
    "plt.title('')\n",
    "\n",
    "bins = 500\n",
    "values = fragger_sequence_cv_df.intensity_cv\n",
    "y, x, _ = ax1.hist(values, bins=bins)\n",
    "mean = np.mean(values)\n",
    "ax1.axvline(mean, color='darkorange', lw=1.0, ls='-.', label='mean')\n",
    "text_style = dict(size=10, color='brown', verticalalignment='center', horizontalalignment='left')\n",
    "ax1.text(mean*0.85, y.max()*0.98, \"mean {}\".format(round(mean,2)), **text_style, rotation='vertical')\n",
    "\n",
    "plt.xlabel('sequence intensity CV')\n",
    "plt.ylabel('count')\n",
    "# plt.title('MSFragger sequence intensity coefficient of variance for conditions {} ({} unique peptides)'.format(subset_groups,len(fragger_sequence_cv_df)))\n",
    "plt.xlim((0,1))\n",
    "plt.ylim((0,500))\n",
    "\n",
    "plt.show()"
   ]
  },
  {
   "cell_type": "markdown",
   "metadata": {},
   "source": [
    "## comparison of peptide intensity in different experiment conditions"
   ]
  },
  {
   "cell_type": "code",
   "execution_count": 132,
   "metadata": {},
   "outputs": [],
   "source": [
    "# the experiment conditions to compare\n",
    "groupA = 'YHE114'\n",
    "groupA_number_of_runs = 10\n",
    "groupB = 'YHE211'\n",
    "groupB_number_of_runs = 10"
   ]
  },
  {
   "cell_type": "markdown",
   "metadata": {},
   "source": [
    "#### TFD/E analysis"
   ]
  },
  {
   "cell_type": "code",
   "execution_count": 133,
   "metadata": {},
   "outputs": [
    {
     "data": {
      "text/plain": [
       "Index(['sequence', 'charge', 'id_perc_q_value', 'protein', 'species',\n",
       "       'short_run_name', 'group', 'intensity', 'identified_in_run'],\n",
       "      dtype='object')"
      ]
     },
     "execution_count": 133,
     "metadata": {},
     "output_type": "execute_result"
    }
   ],
   "source": [
    "tfde_sequences_df.columns"
   ]
  },
  {
   "cell_type": "code",
   "execution_count": 134,
   "metadata": {},
   "outputs": [
    {
     "data": {
      "text/plain": [
       "220392"
      ]
     },
     "execution_count": 134,
     "metadata": {},
     "output_type": "execute_result"
    }
   ],
   "source": [
    "tfde_sequences_df.identified_in_run.sum()"
   ]
  },
  {
   "cell_type": "code",
   "execution_count": 135,
   "metadata": {},
   "outputs": [
    {
     "data": {
      "text/plain": [
       "220392"
      ]
     },
     "execution_count": 135,
     "metadata": {},
     "output_type": "execute_result"
    }
   ],
   "source": [
    "len(tfde_sequences_df[tfde_sequences_df.identified_in_run == True])"
   ]
  },
  {
   "cell_type": "code",
   "execution_count": 136,
   "metadata": {},
   "outputs": [],
   "source": [
    "# for each sequence and charge, if it was found in more than half the runs, \n",
    "# find the mean intensity in each group, then find the intensity ratio between groups\n",
    "sequence_occurences_in_group = []\n",
    "for group_name,group_df in tfde_sequences_df.groupby(['sequence','charge'], as_index=False):\n",
    "    sequence_in_A_df = group_df[group_df.group == groupA]\n",
    "    sequence_in_B_df = group_df[group_df.group == groupB]\n",
    "    if (\n",
    "            (sequence_in_A_df.identified_in_run.sum() > 0) and            # must have at least one ID in the group\n",
    "            (sequence_in_B_df.identified_in_run.sum() > 0) and\n",
    "            (len(sequence_in_A_df) >= int(groupA_number_of_runs / 2)) and # must have been extracted from more than half the runs in the group\n",
    "            (len(sequence_in_B_df) >= int(groupB_number_of_runs / 2))\n",
    "            ):\n",
    "        intensity_A = sequence_in_A_df.intensity.mean()\n",
    "        intensity_B = sequence_in_B_df.intensity.mean()\n",
    "        species = group_df.iloc[0].species\n",
    "        sequence = group_name[0]\n",
    "        charge = group_name[1]\n",
    "        sequence_occurences_in_group.append((sequence, charge, species, intensity_A, intensity_B))\n",
    "\n",
    "tfde_sequence_occurences_in_group_df = pd.DataFrame(sequence_occurences_in_group, columns=['sequence','charge','species','intensity_A','intensity_B'])"
   ]
  },
  {
   "cell_type": "code",
   "execution_count": 137,
   "metadata": {},
   "outputs": [],
   "source": [
    "tfde_sequence_occurences_in_group_df['intensity_ratio'] = tfde_sequence_occurences_in_group_df.intensity_B / tfde_sequence_occurences_in_group_df.intensity_A"
   ]
  },
  {
   "cell_type": "code",
   "execution_count": 138,
   "metadata": {},
   "outputs": [],
   "source": [
    "tfde_sequence_occurences_in_group_df['intensity_ratio_log'] = np.log2(tfde_sequence_occurences_in_group_df['intensity_ratio'])"
   ]
  },
  {
   "cell_type": "code",
   "execution_count": 139,
   "metadata": {},
   "outputs": [
    {
     "data": {
      "text/html": [
       "<div>\n",
       "<style scoped>\n",
       "    .dataframe tbody tr th:only-of-type {\n",
       "        vertical-align: middle;\n",
       "    }\n",
       "\n",
       "    .dataframe tbody tr th {\n",
       "        vertical-align: top;\n",
       "    }\n",
       "\n",
       "    .dataframe thead th {\n",
       "        text-align: right;\n",
       "    }\n",
       "</style>\n",
       "<table border=\"1\" class=\"dataframe\">\n",
       "  <thead>\n",
       "    <tr style=\"text-align: right;\">\n",
       "      <th></th>\n",
       "      <th>sequence</th>\n",
       "      <th>charge</th>\n",
       "      <th>species</th>\n",
       "      <th>intensity_A</th>\n",
       "      <th>intensity_B</th>\n",
       "      <th>intensity_ratio</th>\n",
       "      <th>intensity_ratio_log</th>\n",
       "    </tr>\n",
       "  </thead>\n",
       "  <tbody>\n",
       "    <tr>\n",
       "      <th>139</th>\n",
       "      <td>ADEALAGLDEGALR</td>\n",
       "      <td>2</td>\n",
       "      <td>Human</td>\n",
       "      <td>353.375000</td>\n",
       "      <td>2665.600000</td>\n",
       "      <td>7.543261</td>\n",
       "      <td>2.915188</td>\n",
       "    </tr>\n",
       "    <tr>\n",
       "      <th>145</th>\n",
       "      <td>ADGTGEAQVDNSPTTESNSR</td>\n",
       "      <td>2</td>\n",
       "      <td>Yeast</td>\n",
       "      <td>241.200000</td>\n",
       "      <td>1118.800000</td>\n",
       "      <td>4.638474</td>\n",
       "      <td>2.213650</td>\n",
       "    </tr>\n",
       "    <tr>\n",
       "      <th>217</th>\n",
       "      <td>AELRPLQFK</td>\n",
       "      <td>2</td>\n",
       "      <td>Yeast</td>\n",
       "      <td>279.375000</td>\n",
       "      <td>1184.900000</td>\n",
       "      <td>4.241253</td>\n",
       "      <td>2.084490</td>\n",
       "    </tr>\n",
       "    <tr>\n",
       "      <th>1036</th>\n",
       "      <td>AVDDFLISLDGTANK</td>\n",
       "      <td>2</td>\n",
       "      <td>Yeast</td>\n",
       "      <td>1038.900000</td>\n",
       "      <td>4821.000000</td>\n",
       "      <td>4.640485</td>\n",
       "      <td>2.214276</td>\n",
       "    </tr>\n",
       "    <tr>\n",
       "      <th>1786</th>\n",
       "      <td>DLADELALVDVIEDK</td>\n",
       "      <td>2</td>\n",
       "      <td>Human</td>\n",
       "      <td>484.625000</td>\n",
       "      <td>6444.400000</td>\n",
       "      <td>13.297704</td>\n",
       "      <td>3.733105</td>\n",
       "    </tr>\n",
       "    <tr>\n",
       "      <th>2765</th>\n",
       "      <td>EILGTAQSVGCNVDGR</td>\n",
       "      <td>2</td>\n",
       "      <td>Human</td>\n",
       "      <td>820.800000</td>\n",
       "      <td>6348.300000</td>\n",
       "      <td>7.734284</td>\n",
       "      <td>2.951268</td>\n",
       "    </tr>\n",
       "    <tr>\n",
       "      <th>3480</th>\n",
       "      <td>FELGEILENDLHDYAK</td>\n",
       "      <td>2</td>\n",
       "      <td>Yeast</td>\n",
       "      <td>229.875000</td>\n",
       "      <td>994.400000</td>\n",
       "      <td>4.325829</td>\n",
       "      <td>2.112977</td>\n",
       "    </tr>\n",
       "    <tr>\n",
       "      <th>3935</th>\n",
       "      <td>FTNSETAEHIAQGLR</td>\n",
       "      <td>2</td>\n",
       "      <td>Human</td>\n",
       "      <td>458.200000</td>\n",
       "      <td>1929.300000</td>\n",
       "      <td>4.210607</td>\n",
       "      <td>2.074028</td>\n",
       "    </tr>\n",
       "    <tr>\n",
       "      <th>4114</th>\n",
       "      <td>GAVVIDQGAYAALTR</td>\n",
       "      <td>2</td>\n",
       "      <td>Yeast</td>\n",
       "      <td>285.000000</td>\n",
       "      <td>8552.000000</td>\n",
       "      <td>30.007018</td>\n",
       "      <td>4.907228</td>\n",
       "    </tr>\n",
       "    <tr>\n",
       "      <th>4358</th>\n",
       "      <td>GHGFEGVTHR</td>\n",
       "      <td>2</td>\n",
       "      <td>Yeast</td>\n",
       "      <td>332.800000</td>\n",
       "      <td>1381.111111</td>\n",
       "      <td>4.149973</td>\n",
       "      <td>2.053102</td>\n",
       "    </tr>\n",
       "    <tr>\n",
       "      <th>4396</th>\n",
       "      <td>GIEQAVQSHAVAEEEAR</td>\n",
       "      <td>2</td>\n",
       "      <td>Human</td>\n",
       "      <td>554.000000</td>\n",
       "      <td>3654.900000</td>\n",
       "      <td>6.597292</td>\n",
       "      <td>2.721874</td>\n",
       "    </tr>\n",
       "    <tr>\n",
       "      <th>4479</th>\n",
       "      <td>GLGTDEDTLIEILASR</td>\n",
       "      <td>2</td>\n",
       "      <td>Human</td>\n",
       "      <td>4197.777778</td>\n",
       "      <td>20005.500000</td>\n",
       "      <td>4.765736</td>\n",
       "      <td>2.252699</td>\n",
       "    </tr>\n",
       "    <tr>\n",
       "      <th>4612</th>\n",
       "      <td>GPELLTM[15.9949]WFGESEANVR</td>\n",
       "      <td>2</td>\n",
       "      <td>Human</td>\n",
       "      <td>243.800000</td>\n",
       "      <td>1248.400000</td>\n",
       "      <td>5.120591</td>\n",
       "      <td>2.356310</td>\n",
       "    </tr>\n",
       "    <tr>\n",
       "      <th>4747</th>\n",
       "      <td>GSNVVRPYTPVSDLSQK</td>\n",
       "      <td>2</td>\n",
       "      <td>Yeast</td>\n",
       "      <td>438.750000</td>\n",
       "      <td>2655.800000</td>\n",
       "      <td>6.053105</td>\n",
       "      <td>2.597675</td>\n",
       "    </tr>\n",
       "    <tr>\n",
       "      <th>5018</th>\n",
       "      <td>HEELMLGDPCLK</td>\n",
       "      <td>2</td>\n",
       "      <td>Human</td>\n",
       "      <td>619.900000</td>\n",
       "      <td>3671.000000</td>\n",
       "      <td>5.921923</td>\n",
       "      <td>2.566066</td>\n",
       "    </tr>\n",
       "    <tr>\n",
       "      <th>5457</th>\n",
       "      <td>HVLTGSADNSCR</td>\n",
       "      <td>2</td>\n",
       "      <td>Human</td>\n",
       "      <td>301.888889</td>\n",
       "      <td>2602.100000</td>\n",
       "      <td>8.619396</td>\n",
       "      <td>3.107587</td>\n",
       "    </tr>\n",
       "    <tr>\n",
       "      <th>6541</th>\n",
       "      <td>IYTISETPEALPILLEDASR</td>\n",
       "      <td>2</td>\n",
       "      <td>Yeast</td>\n",
       "      <td>953.000000</td>\n",
       "      <td>5134.300000</td>\n",
       "      <td>5.387513</td>\n",
       "      <td>2.429619</td>\n",
       "    </tr>\n",
       "    <tr>\n",
       "      <th>7067</th>\n",
       "      <td>LFIGGLSFETTEESLR</td>\n",
       "      <td>2</td>\n",
       "      <td>Human</td>\n",
       "      <td>800.700000</td>\n",
       "      <td>5397.888889</td>\n",
       "      <td>6.741462</td>\n",
       "      <td>2.753062</td>\n",
       "    </tr>\n",
       "    <tr>\n",
       "      <th>7486</th>\n",
       "      <td>LLGGVTIAQGGVLPNIQAVLLPK</td>\n",
       "      <td>3</td>\n",
       "      <td>Human</td>\n",
       "      <td>307.500000</td>\n",
       "      <td>3443.600000</td>\n",
       "      <td>11.198699</td>\n",
       "      <td>3.485259</td>\n",
       "    </tr>\n",
       "    <tr>\n",
       "      <th>8203</th>\n",
       "      <td>LTWHAYPEDAENK</td>\n",
       "      <td>2</td>\n",
       "      <td>Human</td>\n",
       "      <td>223.250000</td>\n",
       "      <td>1116.200000</td>\n",
       "      <td>4.999776</td>\n",
       "      <td>2.321863</td>\n",
       "    </tr>\n",
       "    <tr>\n",
       "      <th>8521</th>\n",
       "      <td>MIEIMLPVFDAPQNLVEQAK</td>\n",
       "      <td>2</td>\n",
       "      <td>Yeast</td>\n",
       "      <td>3522.200000</td>\n",
       "      <td>15858.600000</td>\n",
       "      <td>4.502470</td>\n",
       "      <td>2.170717</td>\n",
       "    </tr>\n",
       "    <tr>\n",
       "      <th>8646</th>\n",
       "      <td>MPTTINIPVNSAPGALGLPEK</td>\n",
       "      <td>2</td>\n",
       "      <td>Yeast</td>\n",
       "      <td>279.333333</td>\n",
       "      <td>1139.700000</td>\n",
       "      <td>4.080072</td>\n",
       "      <td>2.028594</td>\n",
       "    </tr>\n",
       "    <tr>\n",
       "      <th>8710</th>\n",
       "      <td>MTDQEAIQDLWQWR</td>\n",
       "      <td>2</td>\n",
       "      <td>Human</td>\n",
       "      <td>317.777778</td>\n",
       "      <td>7210.000000</td>\n",
       "      <td>22.688811</td>\n",
       "      <td>4.503909</td>\n",
       "    </tr>\n",
       "    <tr>\n",
       "      <th>9121</th>\n",
       "      <td>NLENDLKPQIDSEK</td>\n",
       "      <td>2</td>\n",
       "      <td>Yeast</td>\n",
       "      <td>248.571429</td>\n",
       "      <td>1127.600000</td>\n",
       "      <td>4.536322</td>\n",
       "      <td>2.181523</td>\n",
       "    </tr>\n",
       "    <tr>\n",
       "      <th>9741</th>\n",
       "      <td>QICLVMLETLSQSPQGR</td>\n",
       "      <td>2</td>\n",
       "      <td>Human</td>\n",
       "      <td>948.100000</td>\n",
       "      <td>6270.600000</td>\n",
       "      <td>6.613859</td>\n",
       "      <td>2.725492</td>\n",
       "    </tr>\n",
       "    <tr>\n",
       "      <th>10084</th>\n",
       "      <td>Q[-17.0265]AALQSLHDFITAR</td>\n",
       "      <td>2</td>\n",
       "      <td>Yeast</td>\n",
       "      <td>444.888889</td>\n",
       "      <td>1981.000000</td>\n",
       "      <td>4.452797</td>\n",
       "      <td>2.154712</td>\n",
       "    </tr>\n",
       "    <tr>\n",
       "      <th>10151</th>\n",
       "      <td>Q[-17.0265]EYDESGPSIVHR</td>\n",
       "      <td>2</td>\n",
       "      <td>Human</td>\n",
       "      <td>383.300000</td>\n",
       "      <td>4005.777778</td>\n",
       "      <td>10.450764</td>\n",
       "      <td>3.385536</td>\n",
       "    </tr>\n",
       "    <tr>\n",
       "      <th>10201</th>\n",
       "      <td>Q[-17.0265]HHPPYHQQHHQGPPPGGPGGR</td>\n",
       "      <td>3</td>\n",
       "      <td>Human</td>\n",
       "      <td>148.666667</td>\n",
       "      <td>723.333333</td>\n",
       "      <td>4.865471</td>\n",
       "      <td>2.282579</td>\n",
       "    </tr>\n",
       "    <tr>\n",
       "      <th>10670</th>\n",
       "      <td>SAELAAALLSIYMER</td>\n",
       "      <td>2</td>\n",
       "      <td>Human</td>\n",
       "      <td>254.500000</td>\n",
       "      <td>1518.000000</td>\n",
       "      <td>5.964637</td>\n",
       "      <td>2.576434</td>\n",
       "    </tr>\n",
       "    <tr>\n",
       "      <th>11122</th>\n",
       "      <td>SLTGLLSSFVEVESIK</td>\n",
       "      <td>2</td>\n",
       "      <td>Human</td>\n",
       "      <td>290.400000</td>\n",
       "      <td>2026.300000</td>\n",
       "      <td>6.977617</td>\n",
       "      <td>2.802734</td>\n",
       "    </tr>\n",
       "    <tr>\n",
       "      <th>11124</th>\n",
       "      <td>SLTNDWEDHLAVK</td>\n",
       "      <td>2</td>\n",
       "      <td>Human</td>\n",
       "      <td>1068.300000</td>\n",
       "      <td>25051.300000</td>\n",
       "      <td>23.449686</td>\n",
       "      <td>4.551497</td>\n",
       "    </tr>\n",
       "    <tr>\n",
       "      <th>11361</th>\n",
       "      <td>SSIPVFGVDALPEALALVK</td>\n",
       "      <td>2</td>\n",
       "      <td>E. coli</td>\n",
       "      <td>258.571429</td>\n",
       "      <td>1412.500000</td>\n",
       "      <td>5.462707</td>\n",
       "      <td>2.449616</td>\n",
       "    </tr>\n",
       "    <tr>\n",
       "      <th>11859</th>\n",
       "      <td>TGFINLDKPSNPSSHEVVAWIR</td>\n",
       "      <td>4</td>\n",
       "      <td>Human</td>\n",
       "      <td>226.750000</td>\n",
       "      <td>990.900000</td>\n",
       "      <td>4.370011</td>\n",
       "      <td>2.127637</td>\n",
       "    </tr>\n",
       "    <tr>\n",
       "      <th>12016</th>\n",
       "      <td>TIQFVDWCPTGFK</td>\n",
       "      <td>2</td>\n",
       "      <td>Human</td>\n",
       "      <td>315.200000</td>\n",
       "      <td>1711.000000</td>\n",
       "      <td>5.428299</td>\n",
       "      <td>2.440500</td>\n",
       "    </tr>\n",
       "    <tr>\n",
       "      <th>12173</th>\n",
       "      <td>TMLELLNQLDGFETSK</td>\n",
       "      <td>2</td>\n",
       "      <td>Yeast</td>\n",
       "      <td>216.833333</td>\n",
       "      <td>1937.100000</td>\n",
       "      <td>8.933590</td>\n",
       "      <td>3.159240</td>\n",
       "    </tr>\n",
       "    <tr>\n",
       "      <th>12624</th>\n",
       "      <td>VAELVEFLLLK</td>\n",
       "      <td>2</td>\n",
       "      <td>Human</td>\n",
       "      <td>354.888889</td>\n",
       "      <td>1625.222222</td>\n",
       "      <td>4.579524</td>\n",
       "      <td>2.195198</td>\n",
       "    </tr>\n",
       "    <tr>\n",
       "      <th>13664</th>\n",
       "      <td>VWLDPNETSEIAQANSR</td>\n",
       "      <td>2</td>\n",
       "      <td>Yeast</td>\n",
       "      <td>996.900000</td>\n",
       "      <td>7167.100000</td>\n",
       "      <td>7.189387</td>\n",
       "      <td>2.845869</td>\n",
       "    </tr>\n",
       "    <tr>\n",
       "      <th>13702</th>\n",
       "      <td>WAGNANELNAAYAADGYAR</td>\n",
       "      <td>2</td>\n",
       "      <td>Yeast</td>\n",
       "      <td>1820.600000</td>\n",
       "      <td>15853.400000</td>\n",
       "      <td>8.707789</td>\n",
       "      <td>3.122306</td>\n",
       "    </tr>\n",
       "    <tr>\n",
       "      <th>13852</th>\n",
       "      <td>WSGPLSLQEVDEQPQHPLHVTYAGAAVDELGK</td>\n",
       "      <td>4</td>\n",
       "      <td>Human</td>\n",
       "      <td>465.700000</td>\n",
       "      <td>1893.800000</td>\n",
       "      <td>4.066566</td>\n",
       "      <td>2.023811</td>\n",
       "    </tr>\n",
       "    <tr>\n",
       "      <th>14237</th>\n",
       "      <td>YNILGTNTIMDK</td>\n",
       "      <td>2</td>\n",
       "      <td>Human</td>\n",
       "      <td>633.600000</td>\n",
       "      <td>3328.100000</td>\n",
       "      <td>5.252683</td>\n",
       "      <td>2.393055</td>\n",
       "    </tr>\n",
       "    <tr>\n",
       "      <th>14268</th>\n",
       "      <td>YPIEHGIITNWDDMEK</td>\n",
       "      <td>2</td>\n",
       "      <td>Human</td>\n",
       "      <td>226.666667</td>\n",
       "      <td>20333.700000</td>\n",
       "      <td>89.707500</td>\n",
       "      <td>6.487157</td>\n",
       "    </tr>\n",
       "  </tbody>\n",
       "</table>\n",
       "</div>"
      ],
      "text/plain": [
       "                               sequence  charge  species  intensity_A  \\\n",
       "139                      ADEALAGLDEGALR       2    Human   353.375000   \n",
       "145                ADGTGEAQVDNSPTTESNSR       2    Yeast   241.200000   \n",
       "217                           AELRPLQFK       2    Yeast   279.375000   \n",
       "1036                    AVDDFLISLDGTANK       2    Yeast  1038.900000   \n",
       "1786                    DLADELALVDVIEDK       2    Human   484.625000   \n",
       "2765                   EILGTAQSVGCNVDGR       2    Human   820.800000   \n",
       "3480                   FELGEILENDLHDYAK       2    Yeast   229.875000   \n",
       "3935                    FTNSETAEHIAQGLR       2    Human   458.200000   \n",
       "4114                    GAVVIDQGAYAALTR       2    Yeast   285.000000   \n",
       "4358                         GHGFEGVTHR       2    Yeast   332.800000   \n",
       "4396                  GIEQAVQSHAVAEEEAR       2    Human   554.000000   \n",
       "4479                   GLGTDEDTLIEILASR       2    Human  4197.777778   \n",
       "4612         GPELLTM[15.9949]WFGESEANVR       2    Human   243.800000   \n",
       "4747                  GSNVVRPYTPVSDLSQK       2    Yeast   438.750000   \n",
       "5018                       HEELMLGDPCLK       2    Human   619.900000   \n",
       "5457                       HVLTGSADNSCR       2    Human   301.888889   \n",
       "6541               IYTISETPEALPILLEDASR       2    Yeast   953.000000   \n",
       "7067                   LFIGGLSFETTEESLR       2    Human   800.700000   \n",
       "7486            LLGGVTIAQGGVLPNIQAVLLPK       3    Human   307.500000   \n",
       "8203                      LTWHAYPEDAENK       2    Human   223.250000   \n",
       "8521               MIEIMLPVFDAPQNLVEQAK       2    Yeast  3522.200000   \n",
       "8646              MPTTINIPVNSAPGALGLPEK       2    Yeast   279.333333   \n",
       "8710                     MTDQEAIQDLWQWR       2    Human   317.777778   \n",
       "9121                     NLENDLKPQIDSEK       2    Yeast   248.571429   \n",
       "9741                  QICLVMLETLSQSPQGR       2    Human   948.100000   \n",
       "10084          Q[-17.0265]AALQSLHDFITAR       2    Yeast   444.888889   \n",
       "10151           Q[-17.0265]EYDESGPSIVHR       2    Human   383.300000   \n",
       "10201  Q[-17.0265]HHPPYHQQHHQGPPPGGPGGR       3    Human   148.666667   \n",
       "10670                   SAELAAALLSIYMER       2    Human   254.500000   \n",
       "11122                  SLTGLLSSFVEVESIK       2    Human   290.400000   \n",
       "11124                     SLTNDWEDHLAVK       2    Human  1068.300000   \n",
       "11361               SSIPVFGVDALPEALALVK       2  E. coli   258.571429   \n",
       "11859            TGFINLDKPSNPSSHEVVAWIR       4    Human   226.750000   \n",
       "12016                     TIQFVDWCPTGFK       2    Human   315.200000   \n",
       "12173                  TMLELLNQLDGFETSK       2    Yeast   216.833333   \n",
       "12624                       VAELVEFLLLK       2    Human   354.888889   \n",
       "13664                 VWLDPNETSEIAQANSR       2    Yeast   996.900000   \n",
       "13702               WAGNANELNAAYAADGYAR       2    Yeast  1820.600000   \n",
       "13852  WSGPLSLQEVDEQPQHPLHVTYAGAAVDELGK       4    Human   465.700000   \n",
       "14237                      YNILGTNTIMDK       2    Human   633.600000   \n",
       "14268                  YPIEHGIITNWDDMEK       2    Human   226.666667   \n",
       "\n",
       "        intensity_B  intensity_ratio  intensity_ratio_log  \n",
       "139     2665.600000         7.543261             2.915188  \n",
       "145     1118.800000         4.638474             2.213650  \n",
       "217     1184.900000         4.241253             2.084490  \n",
       "1036    4821.000000         4.640485             2.214276  \n",
       "1786    6444.400000        13.297704             3.733105  \n",
       "2765    6348.300000         7.734284             2.951268  \n",
       "3480     994.400000         4.325829             2.112977  \n",
       "3935    1929.300000         4.210607             2.074028  \n",
       "4114    8552.000000        30.007018             4.907228  \n",
       "4358    1381.111111         4.149973             2.053102  \n",
       "4396    3654.900000         6.597292             2.721874  \n",
       "4479   20005.500000         4.765736             2.252699  \n",
       "4612    1248.400000         5.120591             2.356310  \n",
       "4747    2655.800000         6.053105             2.597675  \n",
       "5018    3671.000000         5.921923             2.566066  \n",
       "5457    2602.100000         8.619396             3.107587  \n",
       "6541    5134.300000         5.387513             2.429619  \n",
       "7067    5397.888889         6.741462             2.753062  \n",
       "7486    3443.600000        11.198699             3.485259  \n",
       "8203    1116.200000         4.999776             2.321863  \n",
       "8521   15858.600000         4.502470             2.170717  \n",
       "8646    1139.700000         4.080072             2.028594  \n",
       "8710    7210.000000        22.688811             4.503909  \n",
       "9121    1127.600000         4.536322             2.181523  \n",
       "9741    6270.600000         6.613859             2.725492  \n",
       "10084   1981.000000         4.452797             2.154712  \n",
       "10151   4005.777778        10.450764             3.385536  \n",
       "10201    723.333333         4.865471             2.282579  \n",
       "10670   1518.000000         5.964637             2.576434  \n",
       "11122   2026.300000         6.977617             2.802734  \n",
       "11124  25051.300000        23.449686             4.551497  \n",
       "11361   1412.500000         5.462707             2.449616  \n",
       "11859    990.900000         4.370011             2.127637  \n",
       "12016   1711.000000         5.428299             2.440500  \n",
       "12173   1937.100000         8.933590             3.159240  \n",
       "12624   1625.222222         4.579524             2.195198  \n",
       "13664   7167.100000         7.189387             2.845869  \n",
       "13702  15853.400000         8.707789             3.122306  \n",
       "13852   1893.800000         4.066566             2.023811  \n",
       "14237   3328.100000         5.252683             2.393055  \n",
       "14268  20333.700000        89.707500             6.487157  "
      ]
     },
     "execution_count": 139,
     "metadata": {},
     "output_type": "execute_result"
    }
   ],
   "source": [
    "tfde_sequence_occurences_in_group_df[tfde_sequence_occurences_in_group_df.intensity_ratio > 4]"
   ]
  },
  {
   "cell_type": "markdown",
   "metadata": {},
   "source": [
    "#### focus on an E.coli peptide that has similar intensity in the two conditions"
   ]
  },
  {
   "cell_type": "code",
   "execution_count": 140,
   "metadata": {},
   "outputs": [
    {
     "data": {
      "text/html": [
       "<div>\n",
       "<style scoped>\n",
       "    .dataframe tbody tr th:only-of-type {\n",
       "        vertical-align: middle;\n",
       "    }\n",
       "\n",
       "    .dataframe tbody tr th {\n",
       "        vertical-align: top;\n",
       "    }\n",
       "\n",
       "    .dataframe thead th {\n",
       "        text-align: right;\n",
       "    }\n",
       "</style>\n",
       "<table border=\"1\" class=\"dataframe\">\n",
       "  <thead>\n",
       "    <tr style=\"text-align: right;\">\n",
       "      <th></th>\n",
       "      <th>sequence</th>\n",
       "      <th>charge</th>\n",
       "      <th>species</th>\n",
       "      <th>intensity_A</th>\n",
       "      <th>intensity_B</th>\n",
       "      <th>intensity_ratio</th>\n",
       "      <th>intensity_ratio_log</th>\n",
       "    </tr>\n",
       "  </thead>\n",
       "  <tbody>\n",
       "    <tr>\n",
       "      <th>320</th>\n",
       "      <td>AGDLAAMLTNLEPHDVLFIDEIHR</td>\n",
       "      <td>3</td>\n",
       "      <td>E. coli</td>\n",
       "      <td>1124.8</td>\n",
       "      <td>937.200000</td>\n",
       "      <td>0.833215</td>\n",
       "      <td>-0.263240</td>\n",
       "    </tr>\n",
       "    <tr>\n",
       "      <th>2292</th>\n",
       "      <td>EADKLGYNLVVLDSQNNPAK</td>\n",
       "      <td>2</td>\n",
       "      <td>E. coli</td>\n",
       "      <td>1284.4</td>\n",
       "      <td>1262.700000</td>\n",
       "      <td>0.983105</td>\n",
       "      <td>-0.024583</td>\n",
       "    </tr>\n",
       "    <tr>\n",
       "      <th>696</th>\n",
       "      <td>ANDIDVPAALIDSEIDVLR</td>\n",
       "      <td>3</td>\n",
       "      <td>E. coli</td>\n",
       "      <td>1350.2</td>\n",
       "      <td>1752.111111</td>\n",
       "      <td>1.297668</td>\n",
       "      <td>0.375921</td>\n",
       "    </tr>\n",
       "    <tr>\n",
       "      <th>514</th>\n",
       "      <td>ALAINLVDPAAAGTVIEK</td>\n",
       "      <td>2</td>\n",
       "      <td>E. coli</td>\n",
       "      <td>1430.7</td>\n",
       "      <td>1034.555556</td>\n",
       "      <td>0.723111</td>\n",
       "      <td>-0.467710</td>\n",
       "    </tr>\n",
       "    <tr>\n",
       "      <th>10650</th>\n",
       "      <td>RWLASCGLTVEQMQNQMDPVYTPAR</td>\n",
       "      <td>3</td>\n",
       "      <td>E. coli</td>\n",
       "      <td>1224.9</td>\n",
       "      <td>947.500000</td>\n",
       "      <td>0.773533</td>\n",
       "      <td>-0.370466</td>\n",
       "    </tr>\n",
       "  </tbody>\n",
       "</table>\n",
       "</div>"
      ],
      "text/plain": [
       "                        sequence  charge  species  intensity_A  intensity_B  \\\n",
       "320     AGDLAAMLTNLEPHDVLFIDEIHR       3  E. coli       1124.8   937.200000   \n",
       "2292        EADKLGYNLVVLDSQNNPAK       2  E. coli       1284.4  1262.700000   \n",
       "696          ANDIDVPAALIDSEIDVLR       3  E. coli       1350.2  1752.111111   \n",
       "514           ALAINLVDPAAAGTVIEK       2  E. coli       1430.7  1034.555556   \n",
       "10650  RWLASCGLTVEQMQNQMDPVYTPAR       3  E. coli       1224.9   947.500000   \n",
       "\n",
       "       intensity_ratio  intensity_ratio_log  \n",
       "320           0.833215            -0.263240  \n",
       "2292          0.983105            -0.024583  \n",
       "696           1.297668             0.375921  \n",
       "514           0.723111            -0.467710  \n",
       "10650         0.773533            -0.370466  "
      ]
     },
     "execution_count": 140,
     "metadata": {},
     "output_type": "execute_result"
    }
   ],
   "source": [
    "tfde_possible_dup_df = tfde_sequence_occurences_in_group_df[(tfde_sequence_occurences_in_group_df.intensity_A > 1000) & (np.log2(tfde_sequence_occurences_in_group_df.intensity_ratio) > -0.5) & (tfde_sequence_occurences_in_group_df.species == 'E. coli')]\n",
    "tfde_possible_dup_df.sample(n=5)"
   ]
  },
  {
   "cell_type": "code",
   "execution_count": 141,
   "metadata": {},
   "outputs": [
    {
     "data": {
      "text/plain": [
       "15"
      ]
     },
     "execution_count": 141,
     "metadata": {},
     "output_type": "execute_result"
    }
   ],
   "source": [
    "len(tfde_possible_dup_df)"
   ]
  },
  {
   "cell_type": "code",
   "execution_count": 142,
   "metadata": {},
   "outputs": [],
   "source": [
    "seq = 'FIHFMEPLSR'\n",
    "seq_charge = 2\n",
    "tfde_df_A = tfde_sequences_df[(tfde_sequences_df.sequence == seq) & (tfde_sequences_df.group == groupA)]\n",
    "tfde_df_B = tfde_sequences_df[(tfde_sequences_df.sequence == seq) & (tfde_sequences_df.group == groupB)]"
   ]
  },
  {
   "cell_type": "code",
   "execution_count": 143,
   "metadata": {},
   "outputs": [
    {
     "data": {
      "text/html": [
       "<div>\n",
       "<style scoped>\n",
       "    .dataframe tbody tr th:only-of-type {\n",
       "        vertical-align: middle;\n",
       "    }\n",
       "\n",
       "    .dataframe tbody tr th {\n",
       "        vertical-align: top;\n",
       "    }\n",
       "\n",
       "    .dataframe thead th {\n",
       "        text-align: right;\n",
       "    }\n",
       "</style>\n",
       "<table border=\"1\" class=\"dataframe\">\n",
       "  <thead>\n",
       "    <tr style=\"text-align: right;\">\n",
       "      <th></th>\n",
       "      <th>sequence</th>\n",
       "      <th>charge</th>\n",
       "      <th>id_perc_q_value</th>\n",
       "      <th>protein</th>\n",
       "      <th>species</th>\n",
       "      <th>short_run_name</th>\n",
       "      <th>group</th>\n",
       "      <th>intensity</th>\n",
       "      <th>identified_in_run</th>\n",
       "    </tr>\n",
       "  </thead>\n",
       "  <tbody>\n",
       "    <tr>\n",
       "      <th>223098</th>\n",
       "      <td>FIHFMEPLSR</td>\n",
       "      <td>2</td>\n",
       "      <td>0.007842</td>\n",
       "      <td>sp|P75712|ALLP_ECOLI</td>\n",
       "      <td>E. coli</td>\n",
       "      <td>YHE114_1</td>\n",
       "      <td>YHE114</td>\n",
       "      <td>1067</td>\n",
       "      <td>True</td>\n",
       "    </tr>\n",
       "    <tr>\n",
       "      <th>223099</th>\n",
       "      <td>FIHFMEPLSR</td>\n",
       "      <td>2</td>\n",
       "      <td>0.007842</td>\n",
       "      <td>sp|P75712|ALLP_ECOLI</td>\n",
       "      <td>E. coli</td>\n",
       "      <td>YHE114_2</td>\n",
       "      <td>YHE114</td>\n",
       "      <td>1276</td>\n",
       "      <td>False</td>\n",
       "    </tr>\n",
       "    <tr>\n",
       "      <th>223100</th>\n",
       "      <td>FIHFMEPLSR</td>\n",
       "      <td>2</td>\n",
       "      <td>0.007842</td>\n",
       "      <td>sp|P75712|ALLP_ECOLI</td>\n",
       "      <td>E. coli</td>\n",
       "      <td>YHE114_3</td>\n",
       "      <td>YHE114</td>\n",
       "      <td>1095</td>\n",
       "      <td>False</td>\n",
       "    </tr>\n",
       "    <tr>\n",
       "      <th>223101</th>\n",
       "      <td>FIHFMEPLSR</td>\n",
       "      <td>2</td>\n",
       "      <td>0.007842</td>\n",
       "      <td>sp|P75712|ALLP_ECOLI</td>\n",
       "      <td>E. coli</td>\n",
       "      <td>YHE114_4</td>\n",
       "      <td>YHE114</td>\n",
       "      <td>1290</td>\n",
       "      <td>False</td>\n",
       "    </tr>\n",
       "    <tr>\n",
       "      <th>223102</th>\n",
       "      <td>FIHFMEPLSR</td>\n",
       "      <td>2</td>\n",
       "      <td>0.007842</td>\n",
       "      <td>sp|P75712|ALLP_ECOLI</td>\n",
       "      <td>E. coli</td>\n",
       "      <td>YHE114_5</td>\n",
       "      <td>YHE114</td>\n",
       "      <td>957</td>\n",
       "      <td>False</td>\n",
       "    </tr>\n",
       "    <tr>\n",
       "      <th>223103</th>\n",
       "      <td>FIHFMEPLSR</td>\n",
       "      <td>2</td>\n",
       "      <td>0.007842</td>\n",
       "      <td>sp|P75712|ALLP_ECOLI</td>\n",
       "      <td>E. coli</td>\n",
       "      <td>YHE114_6</td>\n",
       "      <td>YHE114</td>\n",
       "      <td>1110</td>\n",
       "      <td>True</td>\n",
       "    </tr>\n",
       "    <tr>\n",
       "      <th>223104</th>\n",
       "      <td>FIHFMEPLSR</td>\n",
       "      <td>2</td>\n",
       "      <td>0.007842</td>\n",
       "      <td>sp|P75712|ALLP_ECOLI</td>\n",
       "      <td>E. coli</td>\n",
       "      <td>YHE114_7</td>\n",
       "      <td>YHE114</td>\n",
       "      <td>1129</td>\n",
       "      <td>False</td>\n",
       "    </tr>\n",
       "    <tr>\n",
       "      <th>223105</th>\n",
       "      <td>FIHFMEPLSR</td>\n",
       "      <td>2</td>\n",
       "      <td>0.007842</td>\n",
       "      <td>sp|P75712|ALLP_ECOLI</td>\n",
       "      <td>E. coli</td>\n",
       "      <td>YHE114_8</td>\n",
       "      <td>YHE114</td>\n",
       "      <td>861</td>\n",
       "      <td>False</td>\n",
       "    </tr>\n",
       "    <tr>\n",
       "      <th>223106</th>\n",
       "      <td>FIHFMEPLSR</td>\n",
       "      <td>2</td>\n",
       "      <td>0.007842</td>\n",
       "      <td>sp|P75712|ALLP_ECOLI</td>\n",
       "      <td>E. coli</td>\n",
       "      <td>YHE114_9</td>\n",
       "      <td>YHE114</td>\n",
       "      <td>1244</td>\n",
       "      <td>False</td>\n",
       "    </tr>\n",
       "    <tr>\n",
       "      <th>223107</th>\n",
       "      <td>FIHFMEPLSR</td>\n",
       "      <td>2</td>\n",
       "      <td>0.007842</td>\n",
       "      <td>sp|P75712|ALLP_ECOLI</td>\n",
       "      <td>E. coli</td>\n",
       "      <td>YHE114_10</td>\n",
       "      <td>YHE114</td>\n",
       "      <td>942</td>\n",
       "      <td>True</td>\n",
       "    </tr>\n",
       "  </tbody>\n",
       "</table>\n",
       "</div>"
      ],
      "text/plain": [
       "          sequence  charge  id_perc_q_value               protein  species  \\\n",
       "223098  FIHFMEPLSR       2         0.007842  sp|P75712|ALLP_ECOLI  E. coli   \n",
       "223099  FIHFMEPLSR       2         0.007842  sp|P75712|ALLP_ECOLI  E. coli   \n",
       "223100  FIHFMEPLSR       2         0.007842  sp|P75712|ALLP_ECOLI  E. coli   \n",
       "223101  FIHFMEPLSR       2         0.007842  sp|P75712|ALLP_ECOLI  E. coli   \n",
       "223102  FIHFMEPLSR       2         0.007842  sp|P75712|ALLP_ECOLI  E. coli   \n",
       "223103  FIHFMEPLSR       2         0.007842  sp|P75712|ALLP_ECOLI  E. coli   \n",
       "223104  FIHFMEPLSR       2         0.007842  sp|P75712|ALLP_ECOLI  E. coli   \n",
       "223105  FIHFMEPLSR       2         0.007842  sp|P75712|ALLP_ECOLI  E. coli   \n",
       "223106  FIHFMEPLSR       2         0.007842  sp|P75712|ALLP_ECOLI  E. coli   \n",
       "223107  FIHFMEPLSR       2         0.007842  sp|P75712|ALLP_ECOLI  E. coli   \n",
       "\n",
       "       short_run_name   group  intensity  identified_in_run  \n",
       "223098       YHE114_1  YHE114       1067               True  \n",
       "223099       YHE114_2  YHE114       1276              False  \n",
       "223100       YHE114_3  YHE114       1095              False  \n",
       "223101       YHE114_4  YHE114       1290              False  \n",
       "223102       YHE114_5  YHE114        957              False  \n",
       "223103       YHE114_6  YHE114       1110               True  \n",
       "223104       YHE114_7  YHE114       1129              False  \n",
       "223105       YHE114_8  YHE114        861              False  \n",
       "223106       YHE114_9  YHE114       1244              False  \n",
       "223107      YHE114_10  YHE114        942               True  "
      ]
     },
     "execution_count": 143,
     "metadata": {},
     "output_type": "execute_result"
    }
   ],
   "source": [
    "tfde_df_A"
   ]
  },
  {
   "cell_type": "code",
   "execution_count": 144,
   "metadata": {},
   "outputs": [
    {
     "data": {
      "text/html": [
       "<div>\n",
       "<style scoped>\n",
       "    .dataframe tbody tr th:only-of-type {\n",
       "        vertical-align: middle;\n",
       "    }\n",
       "\n",
       "    .dataframe tbody tr th {\n",
       "        vertical-align: top;\n",
       "    }\n",
       "\n",
       "    .dataframe thead th {\n",
       "        text-align: right;\n",
       "    }\n",
       "</style>\n",
       "<table border=\"1\" class=\"dataframe\">\n",
       "  <thead>\n",
       "    <tr style=\"text-align: right;\">\n",
       "      <th></th>\n",
       "      <th>sequence</th>\n",
       "      <th>charge</th>\n",
       "      <th>id_perc_q_value</th>\n",
       "      <th>protein</th>\n",
       "      <th>species</th>\n",
       "      <th>short_run_name</th>\n",
       "      <th>group</th>\n",
       "      <th>intensity</th>\n",
       "      <th>identified_in_run</th>\n",
       "    </tr>\n",
       "  </thead>\n",
       "  <tbody>\n",
       "    <tr>\n",
       "      <th>44888</th>\n",
       "      <td>FIHFMEPLSR</td>\n",
       "      <td>2</td>\n",
       "      <td>0.004969</td>\n",
       "      <td>sp|P75712|ALLP_ECOLI</td>\n",
       "      <td>E. coli</td>\n",
       "      <td>YHE211_1</td>\n",
       "      <td>YHE211</td>\n",
       "      <td>1917</td>\n",
       "      <td>False</td>\n",
       "    </tr>\n",
       "    <tr>\n",
       "      <th>44889</th>\n",
       "      <td>FIHFMEPLSR</td>\n",
       "      <td>2</td>\n",
       "      <td>0.004969</td>\n",
       "      <td>sp|P75712|ALLP_ECOLI</td>\n",
       "      <td>E. coli</td>\n",
       "      <td>YHE211_2</td>\n",
       "      <td>YHE211</td>\n",
       "      <td>1029</td>\n",
       "      <td>False</td>\n",
       "    </tr>\n",
       "    <tr>\n",
       "      <th>44890</th>\n",
       "      <td>FIHFMEPLSR</td>\n",
       "      <td>2</td>\n",
       "      <td>0.004969</td>\n",
       "      <td>sp|P75712|ALLP_ECOLI</td>\n",
       "      <td>E. coli</td>\n",
       "      <td>YHE211_3</td>\n",
       "      <td>YHE211</td>\n",
       "      <td>1599</td>\n",
       "      <td>False</td>\n",
       "    </tr>\n",
       "    <tr>\n",
       "      <th>44891</th>\n",
       "      <td>FIHFMEPLSR</td>\n",
       "      <td>2</td>\n",
       "      <td>0.004969</td>\n",
       "      <td>sp|P75712|ALLP_ECOLI</td>\n",
       "      <td>E. coli</td>\n",
       "      <td>YHE211_4</td>\n",
       "      <td>YHE211</td>\n",
       "      <td>927</td>\n",
       "      <td>False</td>\n",
       "    </tr>\n",
       "    <tr>\n",
       "      <th>44892</th>\n",
       "      <td>FIHFMEPLSR</td>\n",
       "      <td>2</td>\n",
       "      <td>0.004969</td>\n",
       "      <td>sp|P75712|ALLP_ECOLI</td>\n",
       "      <td>E. coli</td>\n",
       "      <td>YHE211_5</td>\n",
       "      <td>YHE211</td>\n",
       "      <td>1161</td>\n",
       "      <td>False</td>\n",
       "    </tr>\n",
       "    <tr>\n",
       "      <th>44893</th>\n",
       "      <td>FIHFMEPLSR</td>\n",
       "      <td>2</td>\n",
       "      <td>0.004969</td>\n",
       "      <td>sp|P75712|ALLP_ECOLI</td>\n",
       "      <td>E. coli</td>\n",
       "      <td>YHE211_6</td>\n",
       "      <td>YHE211</td>\n",
       "      <td>1758</td>\n",
       "      <td>False</td>\n",
       "    </tr>\n",
       "    <tr>\n",
       "      <th>44894</th>\n",
       "      <td>FIHFMEPLSR</td>\n",
       "      <td>2</td>\n",
       "      <td>0.004969</td>\n",
       "      <td>sp|P75712|ALLP_ECOLI</td>\n",
       "      <td>E. coli</td>\n",
       "      <td>YHE211_7</td>\n",
       "      <td>YHE211</td>\n",
       "      <td>1524</td>\n",
       "      <td>False</td>\n",
       "    </tr>\n",
       "    <tr>\n",
       "      <th>44895</th>\n",
       "      <td>FIHFMEPLSR</td>\n",
       "      <td>2</td>\n",
       "      <td>0.004969</td>\n",
       "      <td>sp|P75712|ALLP_ECOLI</td>\n",
       "      <td>E. coli</td>\n",
       "      <td>YHE211_8</td>\n",
       "      <td>YHE211</td>\n",
       "      <td>1154</td>\n",
       "      <td>True</td>\n",
       "    </tr>\n",
       "    <tr>\n",
       "      <th>44896</th>\n",
       "      <td>FIHFMEPLSR</td>\n",
       "      <td>2</td>\n",
       "      <td>0.004969</td>\n",
       "      <td>sp|P75712|ALLP_ECOLI</td>\n",
       "      <td>E. coli</td>\n",
       "      <td>YHE211_9</td>\n",
       "      <td>YHE211</td>\n",
       "      <td>856</td>\n",
       "      <td>True</td>\n",
       "    </tr>\n",
       "    <tr>\n",
       "      <th>44897</th>\n",
       "      <td>FIHFMEPLSR</td>\n",
       "      <td>2</td>\n",
       "      <td>0.004969</td>\n",
       "      <td>sp|P75712|ALLP_ECOLI</td>\n",
       "      <td>E. coli</td>\n",
       "      <td>YHE211_10</td>\n",
       "      <td>YHE211</td>\n",
       "      <td>1127</td>\n",
       "      <td>False</td>\n",
       "    </tr>\n",
       "  </tbody>\n",
       "</table>\n",
       "</div>"
      ],
      "text/plain": [
       "         sequence  charge  id_perc_q_value               protein  species  \\\n",
       "44888  FIHFMEPLSR       2         0.004969  sp|P75712|ALLP_ECOLI  E. coli   \n",
       "44889  FIHFMEPLSR       2         0.004969  sp|P75712|ALLP_ECOLI  E. coli   \n",
       "44890  FIHFMEPLSR       2         0.004969  sp|P75712|ALLP_ECOLI  E. coli   \n",
       "44891  FIHFMEPLSR       2         0.004969  sp|P75712|ALLP_ECOLI  E. coli   \n",
       "44892  FIHFMEPLSR       2         0.004969  sp|P75712|ALLP_ECOLI  E. coli   \n",
       "44893  FIHFMEPLSR       2         0.004969  sp|P75712|ALLP_ECOLI  E. coli   \n",
       "44894  FIHFMEPLSR       2         0.004969  sp|P75712|ALLP_ECOLI  E. coli   \n",
       "44895  FIHFMEPLSR       2         0.004969  sp|P75712|ALLP_ECOLI  E. coli   \n",
       "44896  FIHFMEPLSR       2         0.004969  sp|P75712|ALLP_ECOLI  E. coli   \n",
       "44897  FIHFMEPLSR       2         0.004969  sp|P75712|ALLP_ECOLI  E. coli   \n",
       "\n",
       "      short_run_name   group  intensity  identified_in_run  \n",
       "44888       YHE211_1  YHE211       1917              False  \n",
       "44889       YHE211_2  YHE211       1029              False  \n",
       "44890       YHE211_3  YHE211       1599              False  \n",
       "44891       YHE211_4  YHE211        927              False  \n",
       "44892       YHE211_5  YHE211       1161              False  \n",
       "44893       YHE211_6  YHE211       1758              False  \n",
       "44894       YHE211_7  YHE211       1524              False  \n",
       "44895       YHE211_8  YHE211       1154               True  \n",
       "44896       YHE211_9  YHE211        856               True  \n",
       "44897      YHE211_10  YHE211       1127              False  "
      ]
     },
     "execution_count": 144,
     "metadata": {},
     "output_type": "execute_result"
    }
   ],
   "source": [
    "tfde_df_B"
   ]
  },
  {
   "cell_type": "code",
   "execution_count": 145,
   "metadata": {},
   "outputs": [
    {
     "data": {
      "text/plain": [
       "(1097.1, 146.179835970781)"
      ]
     },
     "execution_count": 145,
     "metadata": {},
     "output_type": "execute_result"
    }
   ],
   "source": [
    "tfde_df_A.intensity.mean(), tfde_df_A.intensity.std()"
   ]
  },
  {
   "cell_type": "code",
   "execution_count": 146,
   "metadata": {},
   "outputs": [
    {
     "data": {
      "text/plain": [
       "(1305.2, 366.67145451419526)"
      ]
     },
     "execution_count": 146,
     "metadata": {},
     "output_type": "execute_result"
    }
   ],
   "source": [
    "tfde_df_B.intensity.mean(), tfde_df_B.intensity.std()"
   ]
  },
  {
   "cell_type": "code",
   "execution_count": 147,
   "metadata": {},
   "outputs": [
    {
     "data": {
      "text/html": [
       "<div>\n",
       "<style scoped>\n",
       "    .dataframe tbody tr th:only-of-type {\n",
       "        vertical-align: middle;\n",
       "    }\n",
       "\n",
       "    .dataframe tbody tr th {\n",
       "        vertical-align: top;\n",
       "    }\n",
       "\n",
       "    .dataframe thead th {\n",
       "        text-align: right;\n",
       "    }\n",
       "</style>\n",
       "<table border=\"1\" class=\"dataframe\">\n",
       "  <thead>\n",
       "    <tr style=\"text-align: right;\">\n",
       "      <th></th>\n",
       "      <th>sequence</th>\n",
       "      <th>charge</th>\n",
       "      <th>species</th>\n",
       "      <th>intensity_A</th>\n",
       "      <th>intensity_B</th>\n",
       "      <th>intensity_ratio</th>\n",
       "      <th>intensity_ratio_log</th>\n",
       "    </tr>\n",
       "  </thead>\n",
       "  <tbody>\n",
       "    <tr>\n",
       "      <th>3622</th>\n",
       "      <td>FIHFMEPLSR</td>\n",
       "      <td>2</td>\n",
       "      <td>E. coli</td>\n",
       "      <td>1097.1</td>\n",
       "      <td>1305.2</td>\n",
       "      <td>1.189682</td>\n",
       "      <td>0.250576</td>\n",
       "    </tr>\n",
       "  </tbody>\n",
       "</table>\n",
       "</div>"
      ],
      "text/plain": [
       "        sequence  charge  species  intensity_A  intensity_B  intensity_ratio  \\\n",
       "3622  FIHFMEPLSR       2  E. coli       1097.1       1305.2         1.189682   \n",
       "\n",
       "      intensity_ratio_log  \n",
       "3622             0.250576  "
      ]
     },
     "execution_count": 147,
     "metadata": {},
     "output_type": "execute_result"
    }
   ],
   "source": [
    "tfde_sequence_occurences_in_group_df[(tfde_sequence_occurences_in_group_df.sequence == seq) & (tfde_sequence_occurences_in_group_df.charge == seq_charge)]"
   ]
  },
  {
   "cell_type": "markdown",
   "metadata": {},
   "source": [
    "#### plot the intensity ratios of the three proteomes"
   ]
  },
  {
   "cell_type": "code",
   "execution_count": 148,
   "metadata": {},
   "outputs": [],
   "source": [
    "tfde_human_df = tfde_sequence_occurences_in_group_df[tfde_sequence_occurences_in_group_df.species.str.upper() == 'HUMAN']\n",
    "tfde_yeast_df = tfde_sequence_occurences_in_group_df[tfde_sequence_occurences_in_group_df.species.str.upper() == 'YEAST']\n",
    "tfde_ecoli_df = tfde_sequence_occurences_in_group_df[tfde_sequence_occurences_in_group_df.species.str.upper() == 'E. COLI']"
   ]
  },
  {
   "cell_type": "code",
   "execution_count": 149,
   "metadata": {},
   "outputs": [
    {
     "data": {
      "text/plain": [
       "(15.201786992376835, 6.465974464504069)"
      ]
     },
     "execution_count": 149,
     "metadata": {},
     "output_type": "execute_result"
    }
   ],
   "source": [
    "max_tfde = max(np.log2(tfde_sequence_occurences_in_group_df.intensity_A).max(), np.log2(tfde_sequence_occurences_in_group_df.intensity_B).max())\n",
    "min_tfde = min(np.log2(tfde_sequence_occurences_in_group_df.intensity_A).min(), np.log2(tfde_sequence_occurences_in_group_df.intensity_B).min())\n",
    "max_tfde, min_tfde"
   ]
  },
  {
   "cell_type": "code",
   "execution_count": 150,
   "metadata": {},
   "outputs": [
    {
     "data": {
      "image/png": "[encoded data removed]",
      "text/plain": [
       "<Figure size 576x576 with 1 Axes>"
      ]
     },
     "metadata": {
      "needs_background": "light"
     },
     "output_type": "display_data"
    }
   ],
   "source": [
    "f, ax = plt.subplots()\n",
    "f.set_figheight(8)\n",
    "f.set_figwidth(8)\n",
    "plt.margins(0.06)\n",
    "\n",
    "# title = 'TFD/E mean intensity of Human, Yeast, and E.coli sequences identified in more than half the technical replicates for {} and {}'.format(groupA, groupB)\n",
    "# plt.title(title)\n",
    "\n",
    "ax.scatter(np.log2(tfde_human_df.intensity_B), np.log2(tfde_human_df.intensity_A), marker='o', color='tab:green', lw=0, s=30, alpha=0.2, label=\"Human ({})\".format(len(tfde_human_df)))\n",
    "ax.scatter(np.log2(tfde_yeast_df.intensity_B), np.log2(tfde_yeast_df.intensity_A), marker='o', color='tab:cyan', lw=0, s=30, alpha=0.6, label=\"Yeast ({})\".format(len(tfde_yeast_df)))\n",
    "ax.scatter(np.log2(tfde_ecoli_df.intensity_B), np.log2(tfde_ecoli_df.intensity_A), marker='o', color='tab:red', lw=0, s=30, alpha=0.6, label=\"E. coli ({})\".format(len(tfde_ecoli_df)))\n",
    "\n",
    "plt.legend(loc='best')\n",
    "plt.xlabel('log2(intensity) {}'.format(groupB))\n",
    "plt.ylabel('log2(intensity) {}'.format(groupA))\n",
    "\n",
    "plt.xlim((6,17))\n",
    "plt.ylim((6,17))\n",
    "\n",
    "plt.show()"
   ]
  },
  {
   "cell_type": "code",
   "execution_count": 151,
   "metadata": {},
   "outputs": [],
   "source": [
    "kde_df = tfde_sequence_occurences_in_group_df[(tfde_sequence_occurences_in_group_df.intensity_ratio <= 3)]"
   ]
  },
  {
   "cell_type": "code",
   "execution_count": 152,
   "metadata": {},
   "outputs": [
    {
     "data": {
      "image/png": "[encoded data removed]",
      "text/plain": [
       "<Figure size 518.4x432 with 1 Axes>"
      ]
     },
     "metadata": {
      "needs_background": "light"
     },
     "output_type": "display_data"
    }
   ],
   "source": [
    "import seaborn as sns\n",
    "\n",
    "fp = sns.displot(data=kde_df, x=kde_df['intensity_ratio'], hue='species', hue_order=['Human','Yeast','E. coli'], palette=['tab:green','tab:cyan','tab:red'], kind='kde', height=6, aspect=1.2, common_norm=False, legend=False)\n",
    "\n",
    "x = fp.ax.lines[0].get_xdata()\n",
    "y = fp.ax.lines[0].get_ydata()\n",
    "_ = plt.axvline(x[np.argmax(y)], color='silver', lw=1.5, ls=':')\n",
    "\n",
    "x = fp.ax.lines[1].get_xdata()\n",
    "y = fp.ax.lines[1].get_ydata()\n",
    "_ = plt.axvline(x[np.argmax(y)], color='silver', lw=1.5, ls=':')\n",
    "\n",
    "x = fp.ax.lines[2].get_xdata()\n",
    "y = fp.ax.lines[2].get_ydata()\n",
    "_ = plt.axvline(x[np.argmax(y)], color='silver', lw=1.5, ls=':')\n",
    "\n",
    "_ = fp.ax.set(xlabel='intensity {} / intensity {}'.format(groupB, groupA), ylabel='density')"
   ]
  },
  {
   "cell_type": "markdown",
   "metadata": {},
   "source": [
    "#### MQ analysis"
   ]
  },
  {
   "cell_type": "code",
   "execution_count": 153,
   "metadata": {},
   "outputs": [
    {
     "data": {
      "text/plain": [
       "Index(['sequence', 'modifications', 'charge', 'species', 'short_run_name',\n",
       "       'group', 'identified_in_file', 'score', 'intensity'],\n",
       "      dtype='object')"
      ]
     },
     "execution_count": 153,
     "metadata": {},
     "output_type": "execute_result"
    }
   ],
   "source": [
    "mq_sequences_df.columns"
   ]
  },
  {
   "cell_type": "code",
   "execution_count": 154,
   "metadata": {},
   "outputs": [],
   "source": [
    "# for each sequence and charge, if it was found in more than half the runs, \n",
    "# find the mean intensity in each group, then find the intensity ratio between groups\n",
    "sequence_occurences_in_group = []\n",
    "for group_name,group_df in mq_sequences_df.groupby(['sequence','modifications','charge'], as_index=False):\n",
    "    sequence_in_A_df = group_df[group_df.group == groupA]\n",
    "    sequence_in_B_df = group_df[group_df.group == groupB]\n",
    "    if (len(sequence_in_A_df) >= int(groupA_number_of_runs / 2)) and (len(sequence_in_B_df) >= int(groupB_number_of_runs / 2)):\n",
    "        average_intensity_in_A = sequence_in_A_df.intensity.mean()\n",
    "        average_intensity_in_B = sequence_in_B_df.intensity.mean()\n",
    "        species = group_df.iloc[0].species\n",
    "        sequence = group_name[0]\n",
    "        charge = group_name[1]\n",
    "        sequence_occurences_in_group.append((sequence, charge, species, average_intensity_in_A, average_intensity_in_B))\n",
    "\n",
    "mq_sequence_occurences_in_group_df = pd.DataFrame(sequence_occurences_in_group, columns=['sequence','charge','species','intensity_A','intensity_B'])"
   ]
  },
  {
   "cell_type": "code",
   "execution_count": 155,
   "metadata": {},
   "outputs": [],
   "source": [
    "mq_sequence_occurences_in_group_df['intensity_ratio'] = mq_sequence_occurences_in_group_df.intensity_B / mq_sequence_occurences_in_group_df.intensity_A"
   ]
  },
  {
   "cell_type": "code",
   "execution_count": 156,
   "metadata": {},
   "outputs": [],
   "source": [
    "mq_human_df = mq_sequence_occurences_in_group_df[mq_sequence_occurences_in_group_df.species.str.upper() == 'HUMAN']\n",
    "mq_yeast_df = mq_sequence_occurences_in_group_df[mq_sequence_occurences_in_group_df.species.str.upper() == 'YEAST']\n",
    "mq_ecoli_df = mq_sequence_occurences_in_group_df[mq_sequence_occurences_in_group_df.species.str.upper() == 'E. COLI']"
   ]
  },
  {
   "cell_type": "code",
   "execution_count": 157,
   "metadata": {},
   "outputs": [
    {
     "data": {
      "text/plain": [
       "(23.926745521680008, 10.89240367575133)"
      ]
     },
     "execution_count": 157,
     "metadata": {},
     "output_type": "execute_result"
    }
   ],
   "source": [
    "max_mq = max(np.log2(mq_sequence_occurences_in_group_df.intensity_A).max(), np.log2(mq_sequence_occurences_in_group_df.intensity_B).max())\n",
    "min_mq = min(np.log2(mq_sequence_occurences_in_group_df.intensity_A).min(), np.log2(mq_sequence_occurences_in_group_df.intensity_B).min())\n",
    "max_mq, min_mq"
   ]
  },
  {
   "cell_type": "code",
   "execution_count": 158,
   "metadata": {},
   "outputs": [
    {
     "data": {
      "image/png": "[encoded data removed]",
      "text/plain": [
       "<Figure size 1080x1080 with 1 Axes>"
      ]
     },
     "metadata": {
      "needs_background": "light"
     },
     "output_type": "display_data"
    }
   ],
   "source": [
    "f, ax = plt.subplots()\n",
    "f.set_figheight(15)\n",
    "f.set_figwidth(15)\n",
    "plt.margins(0.06)\n",
    "\n",
    "# title = 'MaxQuant mean intensity of Human, Yeast, and E.coli sequences identified in more than half the technical replicates for {} and {}'.format(groupA, groupB)\n",
    "# plt.title(title)\n",
    "\n",
    "ax.scatter(np.log2(mq_human_df.intensity_B), np.log2(mq_human_df.intensity_A), marker='o', color='tab:green', lw=0, s=30, alpha=0.2, label=\"Human ({})\".format(len(mq_human_df)))\n",
    "ax.scatter(np.log2(mq_ecoli_df.intensity_B), np.log2(mq_ecoli_df.intensity_A), marker='o', color='tab:red', lw=0, s=30, alpha=0.6, label=\"E. coli ({})\".format(len(mq_ecoli_df)))\n",
    "ax.scatter(np.log2(mq_yeast_df.intensity_B), np.log2(mq_yeast_df.intensity_A), marker='o', color='tab:cyan', lw=0, s=30, alpha=0.6, label=\"Yeast ({})\".format(len(mq_yeast_df)))\n",
    "\n",
    "plt.legend(loc='best')\n",
    "plt.xlabel('log2(intensity) {}'.format(groupB))\n",
    "plt.ylabel('log2(intensity) {}'.format(groupA))\n",
    "\n",
    "# plt.xlim((7,24))\n",
    "# plt.ylim((7,24))\n",
    "\n",
    "plt.show()"
   ]
  },
  {
   "cell_type": "code",
   "execution_count": 159,
   "metadata": {},
   "outputs": [],
   "source": [
    "kde_df = mq_sequence_occurences_in_group_df[(mq_sequence_occurences_in_group_df.intensity_ratio <= 3)]"
   ]
  },
  {
   "cell_type": "code",
   "execution_count": 160,
   "metadata": {},
   "outputs": [
    {
     "data": {
      "image/png": "[encoded data removed]",
      "text/plain": [
       "<Figure size 518.4x432 with 1 Axes>"
      ]
     },
     "metadata": {
      "needs_background": "light"
     },
     "output_type": "display_data"
    }
   ],
   "source": [
    "import seaborn as sns\n",
    "\n",
    "fp = sns.displot(data=kde_df, x=kde_df['intensity_ratio'], hue='species', hue_order=['Human','Yeast','E. coli'], palette=['tab:green','tab:cyan','tab:red'], kind='kde', height=6, aspect=1.2, common_norm=False, legend=False)\n",
    "\n",
    "x = fp.ax.lines[0].get_xdata()\n",
    "y = fp.ax.lines[0].get_ydata()\n",
    "_ = plt.axvline(x[np.argmax(y)], color='silver', lw=1.5, ls=':')\n",
    "\n",
    "x = fp.ax.lines[1].get_xdata()\n",
    "y = fp.ax.lines[1].get_ydata()\n",
    "_ = plt.axvline(x[np.argmax(y)], color='silver', lw=1.5, ls=':')\n",
    "\n",
    "x = fp.ax.lines[2].get_xdata()\n",
    "y = fp.ax.lines[2].get_ydata()\n",
    "_ = plt.axvline(x[np.argmax(y)], color='silver', lw=1.5, ls=':')\n",
    "\n",
    "\n",
    "_ = fp.ax.set(xlabel='intensity {} / intensity {}'.format(groupB, groupA), ylabel='density')"
   ]
  },
  {
   "cell_type": "markdown",
   "metadata": {},
   "source": [
    "#### Fragger analysis"
   ]
  },
  {
   "cell_type": "code",
   "execution_count": 161,
   "metadata": {},
   "outputs": [
    {
     "data": {
      "text/plain": [
       "Index(['ProteinName', 'PeptideSequence', 'PrecursorCharge', 'FragmentIon',\n",
       "       'ProductCharge', 'IsotopeLabelType', 'Condition', 'BioReplicate', 'Run',\n",
       "       'Intensity', 'short_run_name', 'species'],\n",
       "      dtype='object')"
      ]
     },
     "execution_count": 161,
     "metadata": {},
     "output_type": "execute_result"
    }
   ],
   "source": [
    "fragger_sequences_df.columns"
   ]
  },
  {
   "cell_type": "code",
   "execution_count": 162,
   "metadata": {},
   "outputs": [],
   "source": [
    "# for each sequence and charge, if it was found in more than half the runs, \n",
    "# find the mean intensity in each group, then find the intensity ratio between groups\n",
    "sequence_occurences_in_group = []\n",
    "for group_name,group_df in fragger_sequences_df.groupby(['PeptideSequence','PrecursorCharge'], as_index=False):\n",
    "    sequence_in_A_df = group_df[group_df.Condition == groupA]\n",
    "    sequence_in_B_df = group_df[group_df.Condition == groupB]\n",
    "    if (len(sequence_in_A_df) >= int(groupA_number_of_runs / 2)) and (len(sequence_in_B_df) >= int(groupB_number_of_runs / 2)):\n",
    "        average_intensity_in_A = sequence_in_A_df.Intensity.mean()\n",
    "        average_intensity_in_B = sequence_in_B_df.Intensity.mean()\n",
    "        species = group_df.iloc[0].species\n",
    "        sequence = group_name[0]\n",
    "        charge = group_name[1]\n",
    "        sequence_occurences_in_group.append((sequence, charge, species, average_intensity_in_A, average_intensity_in_B))\n",
    "\n",
    "fragger_sequence_occurences_in_group_df = pd.DataFrame(sequence_occurences_in_group, columns=['sequence','charge','species','intensity_A','intensity_B'])"
   ]
  },
  {
   "cell_type": "code",
   "execution_count": 163,
   "metadata": {},
   "outputs": [],
   "source": [
    "fragger_sequence_occurences_in_group_df['intensity_ratio'] = fragger_sequence_occurences_in_group_df.intensity_B / fragger_sequence_occurences_in_group_df.intensity_A"
   ]
  },
  {
   "cell_type": "code",
   "execution_count": 164,
   "metadata": {},
   "outputs": [],
   "source": [
    "fragger_human_df = fragger_sequence_occurences_in_group_df[fragger_sequence_occurences_in_group_df.species.str.upper() == 'HUMAN']\n",
    "fragger_yeast_df = fragger_sequence_occurences_in_group_df[fragger_sequence_occurences_in_group_df.species.str.upper() == 'YEAST']\n",
    "fragger_ecoli_df = fragger_sequence_occurences_in_group_df[fragger_sequence_occurences_in_group_df.species.str.upper() == 'E. COLI']"
   ]
  },
  {
   "cell_type": "code",
   "execution_count": 165,
   "metadata": {},
   "outputs": [
    {
     "data": {
      "text/plain": [
       "(21.560112164042202, 9.333162942768416)"
      ]
     },
     "execution_count": 165,
     "metadata": {},
     "output_type": "execute_result"
    }
   ],
   "source": [
    "max_fragger = max(np.log2(fragger_sequence_occurences_in_group_df.intensity_A).max(), np.log2(fragger_sequence_occurences_in_group_df.intensity_B).max())\n",
    "min_fragger = min(np.log2(fragger_sequence_occurences_in_group_df.intensity_A).min(), np.log2(fragger_sequence_occurences_in_group_df.intensity_B).min())\n",
    "max_fragger, min_fragger"
   ]
  },
  {
   "cell_type": "code",
   "execution_count": 166,
   "metadata": {},
   "outputs": [],
   "source": [
    "kde_df = fragger_sequence_occurences_in_group_df[(fragger_sequence_occurences_in_group_df.intensity_ratio <= 3)]"
   ]
  },
  {
   "cell_type": "code",
   "execution_count": 167,
   "metadata": {},
   "outputs": [
    {
     "data": {
      "image/png": "[encoded data removed]",
      "text/plain": [
       "<Figure size 590.4x432 with 1 Axes>"
      ]
     },
     "metadata": {
      "needs_background": "light"
     },
     "output_type": "display_data"
    }
   ],
   "source": [
    "import seaborn as sns\n",
    "\n",
    "fp = sns.displot(data=kde_df, x=kde_df['intensity_ratio'], hue='species', hue_order=['Human','Yeast','E. coli'], palette=['tab:green','tab:cyan','tab:red'], kind='kde', height=6, aspect=1.2, common_norm=False, legend=True)\n",
    "\n",
    "x = fp.ax.lines[0].get_xdata()\n",
    "y = fp.ax.lines[0].get_ydata()\n",
    "_ = plt.axvline(x[np.argmax(y)], color='silver', lw=1.5, ls=':')\n",
    "\n",
    "x = fp.ax.lines[1].get_xdata()\n",
    "y = fp.ax.lines[1].get_ydata()\n",
    "_ = plt.axvline(x[np.argmax(y)], color='silver', lw=1.5, ls=':')\n",
    "\n",
    "x = fp.ax.lines[2].get_xdata()\n",
    "y = fp.ax.lines[2].get_ydata()\n",
    "_ = plt.axvline(x[np.argmax(y)], color='silver', lw=1.5, ls=':')\n",
    "\n",
    "\n",
    "_ = fp.ax.set(xlabel='intensity {} / intensity {}'.format(groupB, groupA), ylabel='density')"
   ]
  },
  {
   "cell_type": "code",
   "execution_count": null,
   "metadata": {},
   "outputs": [],
   "source": []
  }
 ],
 "metadata": {
  "kernelspec": {
   "display_name": "Python 3",
   "language": "python",
   "name": "python3"
  },
  "language_info": {
   "codemirror_mode": {
    "name": "ipython",
    "version": 3
   },
   "file_extension": ".py",
   "mimetype": "text/x-python",
   "name": "python",
   "nbconvert_exporter": "python",
   "pygments_lexer": "ipython3",
   "version": "3.8.5"
  }
 },
 "nbformat": 4,
 "nbformat_minor": 2
}
