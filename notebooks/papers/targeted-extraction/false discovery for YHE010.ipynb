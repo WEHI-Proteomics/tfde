{
 "cells": [
  {
   "cell_type": "code",
   "execution_count": 1,
   "metadata": {},
   "outputs": [],
   "source": [
    "import pandas as pd\n",
    "import numpy as np\n",
    "import sqlite3\n",
    "import json\n",
    "import matplotlib.pyplot as plt\n",
    "import seaborn as sns\n",
    "from cmcrameri import cm\n",
    "from os.path import expanduser"
   ]
  },
  {
   "cell_type": "code",
   "execution_count": 10,
   "metadata": {},
   "outputs": [],
   "source": [
    "EXPERIMENT_NAME = 'P3856_YHE010'"
   ]
  },
  {
   "cell_type": "markdown",
   "metadata": {},
   "source": [
    "#### prepare the TFD/E results"
   ]
  },
  {
   "cell_type": "code",
   "execution_count": 11,
   "metadata": {},
   "outputs": [],
   "source": [
    "# load the results\n",
    "EXPERIMENT_DIR = '/media/data-4t-a/results-P3856_YHE010/2022-03-28-17-55-06'\n",
    "RESULTS_DB_NAME = '{}/summarised-results/results.sqlite'.format(EXPERIMENT_DIR)\n",
    "db_conn = sqlite3.connect(RESULTS_DB_NAME)\n",
    "tfde_results_df = pd.read_sql_query(\"select * from sequences\", db_conn)\n",
    "db_conn.close()"
   ]
  },
  {
   "cell_type": "code",
   "execution_count": 12,
   "metadata": {},
   "outputs": [],
   "source": [
    "# convert the identifications from JSON to Python objects\n",
    "tfde_results_df['identifications_d'] = tfde_results_df.apply(lambda row: json.loads(row.identifications), axis=1)"
   ]
  },
  {
   "cell_type": "code",
   "execution_count": 13,
   "metadata": {},
   "outputs": [],
   "source": [
    "def classify_protein(protein):\n",
    "    result = 'UNKNOWN'\n",
    "    if 'HUMAN' in protein.upper():\n",
    "        result = 'Human'\n",
    "    elif 'YEAST' in protein.upper():\n",
    "        result = 'Yeast'\n",
    "    elif 'ECOLI' in protein.upper():\n",
    "        result = 'E. coli'\n",
    "    return result"
   ]
  },
  {
   "cell_type": "code",
   "execution_count": 14,
   "metadata": {},
   "outputs": [],
   "source": [
    "# separate some key metrics into separate columns\n",
    "tfde_results_df['id_perc_q_value'] = tfde_results_df.apply(lambda row: row.identifications_d['perc_q_value'], axis=1)\n",
    "tfde_results_df['id_count_all_runs'] = tfde_results_df.apply(lambda row: len(row.identifications_d['run_names']), axis=1)\n",
    "tfde_results_df['id_number_of_proteins'] = tfde_results_df.apply(lambda row: row.identifications_d['number_of_proteins'], axis=1)"
   ]
  },
  {
   "cell_type": "code",
   "execution_count": 15,
   "metadata": {},
   "outputs": [],
   "source": [
    "tfde_results_df['id_protein'] = tfde_results_df.apply(lambda row: row.identifications_d['proteins'][0], axis=1)\n",
    "tfde_results_df['id_species'] = tfde_results_df.apply(lambda row: classify_protein(row.id_protein), axis=1)"
   ]
  },
  {
   "cell_type": "code",
   "execution_count": 16,
   "metadata": {},
   "outputs": [
    {
     "data": {
      "text/plain": [
       "array(['Human', 'E. coli', 'Yeast'], dtype=object)"
      ]
     },
     "execution_count": 16,
     "metadata": {},
     "output_type": "execute_result"
    }
   ],
   "source": [
    "tfde_results_df.id_species.unique()"
   ]
  },
  {
   "cell_type": "code",
   "execution_count": 17,
   "metadata": {},
   "outputs": [],
   "source": [
    "# remove the results that couldn't be extracted or were not classified as a target\n",
    "tfde_results_df = tfde_results_df[tfde_results_df.extractions.notnull()].copy()"
   ]
  },
  {
   "cell_type": "code",
   "execution_count": 18,
   "metadata": {},
   "outputs": [],
   "source": [
    "# convert from JSON to Python objects\n",
    "tfde_results_df['extractions_l'] = tfde_results_df.apply(lambda row: json.loads(row.extractions), axis=1)"
   ]
  },
  {
   "cell_type": "code",
   "execution_count": 19,
   "metadata": {},
   "outputs": [],
   "source": [
    "# separate some key metrics into separate columns\n",
    "tfde_results_df['ext_count_all_runs'] = tfde_results_df.apply(lambda row: len(row.extractions_l), axis=1)"
   ]
  },
  {
   "cell_type": "code",
   "execution_count": 20,
   "metadata": {},
   "outputs": [
    {
     "data": {
      "text/html": [
       "<div>\n",
       "<style scoped>\n",
       "    .dataframe tbody tr th:only-of-type {\n",
       "        vertical-align: middle;\n",
       "    }\n",
       "\n",
       "    .dataframe tbody tr th {\n",
       "        vertical-align: top;\n",
       "    }\n",
       "\n",
       "    .dataframe thead th {\n",
       "        text-align: right;\n",
       "    }\n",
       "</style>\n",
       "<table border=\"1\" class=\"dataframe\">\n",
       "  <thead>\n",
       "    <tr style=\"text-align: right;\">\n",
       "      <th></th>\n",
       "      <th>sequence</th>\n",
       "      <th>charge</th>\n",
       "      <th>identifications</th>\n",
       "      <th>extractions</th>\n",
       "      <th>identifications_d</th>\n",
       "      <th>id_perc_q_value</th>\n",
       "      <th>id_count_all_runs</th>\n",
       "      <th>id_number_of_proteins</th>\n",
       "      <th>id_protein</th>\n",
       "      <th>id_species</th>\n",
       "      <th>extractions_l</th>\n",
       "      <th>ext_count_all_runs</th>\n",
       "    </tr>\n",
       "  </thead>\n",
       "  <tbody>\n",
       "    <tr>\n",
       "      <th>1402</th>\n",
       "      <td>AWMWLASDFSDGDAK</td>\n",
       "      <td>2</td>\n",
       "      <td>{\"perc_q_value\": 1.7327119e-05, \"run_names\": [...</td>\n",
       "      <td>[{\"run_name\": \"P3856_YHE010_10_Slot1-1_1_5102\"...</td>\n",
       "      <td>{'perc_q_value': 1.7327119e-05, 'run_names': [...</td>\n",
       "      <td>0.000017</td>\n",
       "      <td>6</td>\n",
       "      <td>1</td>\n",
       "      <td>sp|P0DJD1|RGPD2_HUMAN,sp|P49792|RBP2_HUMAN,sp|...</td>\n",
       "      <td>Human</td>\n",
       "      <td>[{'run_name': 'P3856_YHE010_10_Slot1-1_1_5102'...</td>\n",
       "      <td>10</td>\n",
       "    </tr>\n",
       "    <tr>\n",
       "      <th>18251</th>\n",
       "      <td>YVSPQDVTTMQTCNTK</td>\n",
       "      <td>2</td>\n",
       "      <td>{\"perc_q_value\": 0.00027294705, \"run_names\": [...</td>\n",
       "      <td>[{\"run_name\": \"P3856_YHE010_10_Slot1-1_1_5102\"...</td>\n",
       "      <td>{'perc_q_value': 0.00027294705, 'run_names': [...</td>\n",
       "      <td>0.000273</td>\n",
       "      <td>2</td>\n",
       "      <td>1</td>\n",
       "      <td>sp|Q9H0J9|PAR12_HUMAN</td>\n",
       "      <td>Human</td>\n",
       "      <td>[{'run_name': 'P3856_YHE010_10_Slot1-1_1_5102'...</td>\n",
       "      <td>10</td>\n",
       "    </tr>\n",
       "    <tr>\n",
       "      <th>10372</th>\n",
       "      <td>LWDMFDSWR</td>\n",
       "      <td>2</td>\n",
       "      <td>{\"perc_q_value\": 0.00013037526, \"run_names\": [...</td>\n",
       "      <td>[{\"run_name\": \"P3856_YHE010_10_Slot1-1_1_5102\"...</td>\n",
       "      <td>{'perc_q_value': 0.00013037526, 'run_names': [...</td>\n",
       "      <td>0.000130</td>\n",
       "      <td>7</td>\n",
       "      <td>1</td>\n",
       "      <td>sp|Q15269|PWP2_HUMAN</td>\n",
       "      <td>Human</td>\n",
       "      <td>[{'run_name': 'P3856_YHE010_10_Slot1-1_1_5102'...</td>\n",
       "      <td>10</td>\n",
       "    </tr>\n",
       "  </tbody>\n",
       "</table>\n",
       "</div>"
      ],
      "text/plain": [
       "               sequence  charge  \\\n",
       "1402    AWMWLASDFSDGDAK       2   \n",
       "18251  YVSPQDVTTMQTCNTK       2   \n",
       "10372         LWDMFDSWR       2   \n",
       "\n",
       "                                         identifications  \\\n",
       "1402   {\"perc_q_value\": 1.7327119e-05, \"run_names\": [...   \n",
       "18251  {\"perc_q_value\": 0.00027294705, \"run_names\": [...   \n",
       "10372  {\"perc_q_value\": 0.00013037526, \"run_names\": [...   \n",
       "\n",
       "                                             extractions  \\\n",
       "1402   [{\"run_name\": \"P3856_YHE010_10_Slot1-1_1_5102\"...   \n",
       "18251  [{\"run_name\": \"P3856_YHE010_10_Slot1-1_1_5102\"...   \n",
       "10372  [{\"run_name\": \"P3856_YHE010_10_Slot1-1_1_5102\"...   \n",
       "\n",
       "                                       identifications_d  id_perc_q_value  \\\n",
       "1402   {'perc_q_value': 1.7327119e-05, 'run_names': [...         0.000017   \n",
       "18251  {'perc_q_value': 0.00027294705, 'run_names': [...         0.000273   \n",
       "10372  {'perc_q_value': 0.00013037526, 'run_names': [...         0.000130   \n",
       "\n",
       "       id_count_all_runs  id_number_of_proteins  \\\n",
       "1402                   6                      1   \n",
       "18251                  2                      1   \n",
       "10372                  7                      1   \n",
       "\n",
       "                                              id_protein id_species  \\\n",
       "1402   sp|P0DJD1|RGPD2_HUMAN,sp|P49792|RBP2_HUMAN,sp|...      Human   \n",
       "18251                              sp|Q9H0J9|PAR12_HUMAN      Human   \n",
       "10372                               sp|Q15269|PWP2_HUMAN      Human   \n",
       "\n",
       "                                           extractions_l  ext_count_all_runs  \n",
       "1402   [{'run_name': 'P3856_YHE010_10_Slot1-1_1_5102'...                  10  \n",
       "18251  [{'run_name': 'P3856_YHE010_10_Slot1-1_1_5102'...                  10  \n",
       "10372  [{'run_name': 'P3856_YHE010_10_Slot1-1_1_5102'...                  10  "
      ]
     },
     "execution_count": 20,
     "metadata": {},
     "output_type": "execute_result"
    }
   ],
   "source": [
    "tfde_results_df.sample(n=3)"
   ]
  },
  {
   "cell_type": "markdown",
   "metadata": {},
   "source": [
    "#### how many peptides were identified as non-human?"
   ]
  },
  {
   "cell_type": "code",
   "execution_count": 24,
   "metadata": {},
   "outputs": [
    {
     "data": {
      "text/plain": [
       "17958"
      ]
     },
     "execution_count": 24,
     "metadata": {},
     "output_type": "execute_result"
    }
   ],
   "source": [
    "len(tfde_results_df)"
   ]
  },
  {
   "cell_type": "code",
   "execution_count": 23,
   "metadata": {},
   "outputs": [
    {
     "data": {
      "text/plain": [
       "228"
      ]
     },
     "execution_count": 23,
     "metadata": {},
     "output_type": "execute_result"
    }
   ],
   "source": [
    "len(tfde_results_df[(tfde_results_df.id_species != \"Human\")])"
   ]
  },
  {
   "cell_type": "code",
   "execution_count": 25,
   "metadata": {},
   "outputs": [
    {
     "data": {
      "text/plain": [
       "1.2696291346475108"
      ]
     },
     "execution_count": 25,
     "metadata": {},
     "output_type": "execute_result"
    }
   ],
   "source": [
    "228/17958*100"
   ]
  },
  {
   "cell_type": "code",
   "execution_count": 26,
   "metadata": {},
   "outputs": [
    {
     "data": {
      "text/html": [
       "<div>\n",
       "<style scoped>\n",
       "    .dataframe tbody tr th:only-of-type {\n",
       "        vertical-align: middle;\n",
       "    }\n",
       "\n",
       "    .dataframe tbody tr th {\n",
       "        vertical-align: top;\n",
       "    }\n",
       "\n",
       "    .dataframe thead th {\n",
       "        text-align: right;\n",
       "    }\n",
       "</style>\n",
       "<table border=\"1\" class=\"dataframe\">\n",
       "  <thead>\n",
       "    <tr style=\"text-align: right;\">\n",
       "      <th></th>\n",
       "      <th>sequence</th>\n",
       "      <th>charge</th>\n",
       "      <th>identifications</th>\n",
       "      <th>extractions</th>\n",
       "      <th>identifications_d</th>\n",
       "      <th>id_perc_q_value</th>\n",
       "      <th>id_count_all_runs</th>\n",
       "      <th>id_number_of_proteins</th>\n",
       "      <th>id_protein</th>\n",
       "      <th>id_species</th>\n",
       "      <th>extractions_l</th>\n",
       "      <th>ext_count_all_runs</th>\n",
       "    </tr>\n",
       "  </thead>\n",
       "  <tbody>\n",
       "    <tr>\n",
       "      <th>287</th>\n",
       "      <td>AELTACLQQQASAK</td>\n",
       "      <td>2</td>\n",
       "      <td>{\"perc_q_value\": 0.00054323223, \"run_names\": [...</td>\n",
       "      <td>[{\"run_name\": \"P3856_YHE010_10_Slot1-1_1_5102\"...</td>\n",
       "      <td>{'perc_q_value': 0.00054323223, 'run_names': [...</td>\n",
       "      <td>0.000543</td>\n",
       "      <td>1</td>\n",
       "      <td>1</td>\n",
       "      <td>sp|P63389|YHES_ECOLI</td>\n",
       "      <td>E. coli</td>\n",
       "      <td>[{'run_name': 'P3856_YHE010_10_Slot1-1_1_5102'...</td>\n",
       "      <td>10</td>\n",
       "    </tr>\n",
       "    <tr>\n",
       "      <th>431</th>\n",
       "      <td>AGHQTSAESWGTGR</td>\n",
       "      <td>2</td>\n",
       "      <td>{\"perc_q_value\": 0.0054926332, \"run_names\": [\"...</td>\n",
       "      <td>[{\"run_name\": \"P3856_YHE010_10_Slot1-1_1_5102\"...</td>\n",
       "      <td>{'perc_q_value': 0.0054926332, 'run_names': ['...</td>\n",
       "      <td>0.005493</td>\n",
       "      <td>1</td>\n",
       "      <td>1</td>\n",
       "      <td>sp|P49626|RL4B_YEAST,sp|P10664|RL4A_YEAST</td>\n",
       "      <td>Yeast</td>\n",
       "      <td>[{'run_name': 'P3856_YHE010_10_Slot1-1_1_5102'...</td>\n",
       "      <td>10</td>\n",
       "    </tr>\n",
       "    <tr>\n",
       "      <th>448</th>\n",
       "      <td>AGLMLFNALVGKPEFR</td>\n",
       "      <td>2</td>\n",
       "      <td>{\"perc_q_value\": 0.0059943697, \"run_names\": [\"...</td>\n",
       "      <td>[{\"run_name\": \"P3856_YHE010_10_Slot1-1_1_5102\"...</td>\n",
       "      <td>{'perc_q_value': 0.0059943697, 'run_names': ['...</td>\n",
       "      <td>0.005994</td>\n",
       "      <td>2</td>\n",
       "      <td>1</td>\n",
       "      <td>sp|P64606|MLAE_ECOLI</td>\n",
       "      <td>E. coli</td>\n",
       "      <td>[{'run_name': 'P3856_YHE010_10_Slot1-1_1_5102'...</td>\n",
       "      <td>10</td>\n",
       "    </tr>\n",
       "    <tr>\n",
       "      <th>452</th>\n",
       "      <td>AGMVQGLLQEFSLSSQEGVALMCLAEALLR</td>\n",
       "      <td>3</td>\n",
       "      <td>{\"perc_q_value\": 0.0097787829, \"run_names\": [\"...</td>\n",
       "      <td>[{\"run_name\": \"P3856_YHE010_10_Slot1-1_1_5102\"...</td>\n",
       "      <td>{'perc_q_value': 0.0097787829, 'run_names': ['...</td>\n",
       "      <td>0.009779</td>\n",
       "      <td>1</td>\n",
       "      <td>1</td>\n",
       "      <td>sp|P09546|PUTA_ECOLI</td>\n",
       "      <td>E. coli</td>\n",
       "      <td>[{'run_name': 'P3856_YHE010_10_Slot1-1_1_5102'...</td>\n",
       "      <td>10</td>\n",
       "    </tr>\n",
       "    <tr>\n",
       "      <th>484</th>\n",
       "      <td>AGTTAPPKPM[15.9949]TESELILLMDTNGIGTDATIAEHIDK</td>\n",
       "      <td>3</td>\n",
       "      <td>{\"perc_q_value\": 0.0069689499, \"run_names\": [\"...</td>\n",
       "      <td>[{\"run_name\": \"P3856_YHE010_10_Slot1-1_1_5102\"...</td>\n",
       "      <td>{'perc_q_value': 0.0069689499, 'run_names': ['...</td>\n",
       "      <td>0.006969</td>\n",
       "      <td>1</td>\n",
       "      <td>1</td>\n",
       "      <td>sp|P13099|TOP3_YEAST</td>\n",
       "      <td>Yeast</td>\n",
       "      <td>[{'run_name': 'P3856_YHE010_10_Slot1-1_1_5102'...</td>\n",
       "      <td>9</td>\n",
       "    </tr>\n",
       "    <tr>\n",
       "      <th>...</th>\n",
       "      <td>...</td>\n",
       "      <td>...</td>\n",
       "      <td>...</td>\n",
       "      <td>...</td>\n",
       "      <td>...</td>\n",
       "      <td>...</td>\n",
       "      <td>...</td>\n",
       "      <td>...</td>\n",
       "      <td>...</td>\n",
       "      <td>...</td>\n",
       "      <td>...</td>\n",
       "      <td>...</td>\n",
       "    </tr>\n",
       "    <tr>\n",
       "      <th>17488</th>\n",
       "      <td>WGTGQLWLSDECLYYILNFVEQCVVQK</td>\n",
       "      <td>3</td>\n",
       "      <td>{\"perc_q_value\": 0.0086302739, \"run_names\": [\"...</td>\n",
       "      <td>[{\"run_name\": \"P3856_YHE010_10_Slot1-1_1_5102\"...</td>\n",
       "      <td>{'perc_q_value': 0.0086302739, 'run_names': ['...</td>\n",
       "      <td>0.008630</td>\n",
       "      <td>1</td>\n",
       "      <td>1</td>\n",
       "      <td>sp|P46970|NMD5_YEAST</td>\n",
       "      <td>Yeast</td>\n",
       "      <td>[{'run_name': 'P3856_YHE010_10_Slot1-1_1_5102'...</td>\n",
       "      <td>10</td>\n",
       "    </tr>\n",
       "    <tr>\n",
       "      <th>17627</th>\n",
       "      <td>WYPENGWFCYEK</td>\n",
       "      <td>2</td>\n",
       "      <td>{\"perc_q_value\": 0.0069689499, \"run_names\": [\"...</td>\n",
       "      <td>[{\"run_name\": \"P3856_YHE010_10_Slot1-1_1_5102\"...</td>\n",
       "      <td>{'perc_q_value': 0.0069689499, 'run_names': ['...</td>\n",
       "      <td>0.006969</td>\n",
       "      <td>1</td>\n",
       "      <td>1</td>\n",
       "      <td>sp|Q08961|RKM1_YEAST</td>\n",
       "      <td>Yeast</td>\n",
       "      <td>[{'run_name': 'P3856_YHE010_10_Slot1-1_1_5102'...</td>\n",
       "      <td>10</td>\n",
       "    </tr>\n",
       "    <tr>\n",
       "      <th>17662</th>\n",
       "      <td>YATASAIAATAVASLVLAR</td>\n",
       "      <td>2</td>\n",
       "      <td>{\"perc_q_value\": 1.7327119e-05, \"run_names\": [...</td>\n",
       "      <td>[{\"run_name\": \"P3856_YHE010_10_Slot1-1_1_5102\"...</td>\n",
       "      <td>{'perc_q_value': 1.7327119e-05, 'run_names': [...</td>\n",
       "      <td>0.000017</td>\n",
       "      <td>2</td>\n",
       "      <td>1</td>\n",
       "      <td>sp|P49626|RL4B_YEAST,sp|P10664|RL4A_YEAST</td>\n",
       "      <td>Yeast</td>\n",
       "      <td>[{'run_name': 'P3856_YHE010_10_Slot1-1_1_5102'...</td>\n",
       "      <td>8</td>\n",
       "    </tr>\n",
       "    <tr>\n",
       "      <th>17663</th>\n",
       "      <td>YATASAIAATAVASLVLAR</td>\n",
       "      <td>3</td>\n",
       "      <td>{\"perc_q_value\": 3.8858594e-05, \"run_names\": [...</td>\n",
       "      <td>[{\"run_name\": \"P3856_YHE010_10_Slot1-1_1_5102\"...</td>\n",
       "      <td>{'perc_q_value': 3.8858594e-05, 'run_names': [...</td>\n",
       "      <td>0.000039</td>\n",
       "      <td>4</td>\n",
       "      <td>1</td>\n",
       "      <td>sp|P49626|RL4B_YEAST,sp|P10664|RL4A_YEAST</td>\n",
       "      <td>Yeast</td>\n",
       "      <td>[{'run_name': 'P3856_YHE010_10_Slot1-1_1_5102'...</td>\n",
       "      <td>10</td>\n",
       "    </tr>\n",
       "    <tr>\n",
       "      <th>18218</th>\n",
       "      <td>YVDPNVLPETESLALVIDR</td>\n",
       "      <td>2</td>\n",
       "      <td>{\"perc_q_value\": 0.0093919921, \"run_names\": [\"...</td>\n",
       "      <td>[{\"run_name\": \"P3856_YHE010_10_Slot1-1_1_5102\"...</td>\n",
       "      <td>{'perc_q_value': 0.0093919921, 'run_names': ['...</td>\n",
       "      <td>0.009392</td>\n",
       "      <td>1</td>\n",
       "      <td>1</td>\n",
       "      <td>sp|P00950|PMG1_YEAST</td>\n",
       "      <td>Yeast</td>\n",
       "      <td>[{'run_name': 'P3856_YHE010_10_Slot1-1_1_5102'...</td>\n",
       "      <td>10</td>\n",
       "    </tr>\n",
       "  </tbody>\n",
       "</table>\n",
       "<p>171 rows × 12 columns</p>\n",
       "</div>"
      ],
      "text/plain": [
       "                                            sequence  charge  \\\n",
       "287                                   AELTACLQQQASAK       2   \n",
       "431                                   AGHQTSAESWGTGR       2   \n",
       "448                                 AGLMLFNALVGKPEFR       2   \n",
       "452                   AGMVQGLLQEFSLSSQEGVALMCLAEALLR       3   \n",
       "484    AGTTAPPKPM[15.9949]TESELILLMDTNGIGTDATIAEHIDK       3   \n",
       "...                                              ...     ...   \n",
       "17488                    WGTGQLWLSDECLYYILNFVEQCVVQK       3   \n",
       "17627                                   WYPENGWFCYEK       2   \n",
       "17662                            YATASAIAATAVASLVLAR       2   \n",
       "17663                            YATASAIAATAVASLVLAR       3   \n",
       "18218                            YVDPNVLPETESLALVIDR       2   \n",
       "\n",
       "                                         identifications  \\\n",
       "287    {\"perc_q_value\": 0.00054323223, \"run_names\": [...   \n",
       "431    {\"perc_q_value\": 0.0054926332, \"run_names\": [\"...   \n",
       "448    {\"perc_q_value\": 0.0059943697, \"run_names\": [\"...   \n",
       "452    {\"perc_q_value\": 0.0097787829, \"run_names\": [\"...   \n",
       "484    {\"perc_q_value\": 0.0069689499, \"run_names\": [\"...   \n",
       "...                                                  ...   \n",
       "17488  {\"perc_q_value\": 0.0086302739, \"run_names\": [\"...   \n",
       "17627  {\"perc_q_value\": 0.0069689499, \"run_names\": [\"...   \n",
       "17662  {\"perc_q_value\": 1.7327119e-05, \"run_names\": [...   \n",
       "17663  {\"perc_q_value\": 3.8858594e-05, \"run_names\": [...   \n",
       "18218  {\"perc_q_value\": 0.0093919921, \"run_names\": [\"...   \n",
       "\n",
       "                                             extractions  \\\n",
       "287    [{\"run_name\": \"P3856_YHE010_10_Slot1-1_1_5102\"...   \n",
       "431    [{\"run_name\": \"P3856_YHE010_10_Slot1-1_1_5102\"...   \n",
       "448    [{\"run_name\": \"P3856_YHE010_10_Slot1-1_1_5102\"...   \n",
       "452    [{\"run_name\": \"P3856_YHE010_10_Slot1-1_1_5102\"...   \n",
       "484    [{\"run_name\": \"P3856_YHE010_10_Slot1-1_1_5102\"...   \n",
       "...                                                  ...   \n",
       "17488  [{\"run_name\": \"P3856_YHE010_10_Slot1-1_1_5102\"...   \n",
       "17627  [{\"run_name\": \"P3856_YHE010_10_Slot1-1_1_5102\"...   \n",
       "17662  [{\"run_name\": \"P3856_YHE010_10_Slot1-1_1_5102\"...   \n",
       "17663  [{\"run_name\": \"P3856_YHE010_10_Slot1-1_1_5102\"...   \n",
       "18218  [{\"run_name\": \"P3856_YHE010_10_Slot1-1_1_5102\"...   \n",
       "\n",
       "                                       identifications_d  id_perc_q_value  \\\n",
       "287    {'perc_q_value': 0.00054323223, 'run_names': [...         0.000543   \n",
       "431    {'perc_q_value': 0.0054926332, 'run_names': ['...         0.005493   \n",
       "448    {'perc_q_value': 0.0059943697, 'run_names': ['...         0.005994   \n",
       "452    {'perc_q_value': 0.0097787829, 'run_names': ['...         0.009779   \n",
       "484    {'perc_q_value': 0.0069689499, 'run_names': ['...         0.006969   \n",
       "...                                                  ...              ...   \n",
       "17488  {'perc_q_value': 0.0086302739, 'run_names': ['...         0.008630   \n",
       "17627  {'perc_q_value': 0.0069689499, 'run_names': ['...         0.006969   \n",
       "17662  {'perc_q_value': 1.7327119e-05, 'run_names': [...         0.000017   \n",
       "17663  {'perc_q_value': 3.8858594e-05, 'run_names': [...         0.000039   \n",
       "18218  {'perc_q_value': 0.0093919921, 'run_names': ['...         0.009392   \n",
       "\n",
       "       id_count_all_runs  id_number_of_proteins  \\\n",
       "287                    1                      1   \n",
       "431                    1                      1   \n",
       "448                    2                      1   \n",
       "452                    1                      1   \n",
       "484                    1                      1   \n",
       "...                  ...                    ...   \n",
       "17488                  1                      1   \n",
       "17627                  1                      1   \n",
       "17662                  2                      1   \n",
       "17663                  4                      1   \n",
       "18218                  1                      1   \n",
       "\n",
       "                                      id_protein id_species  \\\n",
       "287                         sp|P63389|YHES_ECOLI    E. coli   \n",
       "431    sp|P49626|RL4B_YEAST,sp|P10664|RL4A_YEAST      Yeast   \n",
       "448                         sp|P64606|MLAE_ECOLI    E. coli   \n",
       "452                         sp|P09546|PUTA_ECOLI    E. coli   \n",
       "484                         sp|P13099|TOP3_YEAST      Yeast   \n",
       "...                                          ...        ...   \n",
       "17488                       sp|P46970|NMD5_YEAST      Yeast   \n",
       "17627                       sp|Q08961|RKM1_YEAST      Yeast   \n",
       "17662  sp|P49626|RL4B_YEAST,sp|P10664|RL4A_YEAST      Yeast   \n",
       "17663  sp|P49626|RL4B_YEAST,sp|P10664|RL4A_YEAST      Yeast   \n",
       "18218                       sp|P00950|PMG1_YEAST      Yeast   \n",
       "\n",
       "                                           extractions_l  ext_count_all_runs  \n",
       "287    [{'run_name': 'P3856_YHE010_10_Slot1-1_1_5102'...                  10  \n",
       "431    [{'run_name': 'P3856_YHE010_10_Slot1-1_1_5102'...                  10  \n",
       "448    [{'run_name': 'P3856_YHE010_10_Slot1-1_1_5102'...                  10  \n",
       "452    [{'run_name': 'P3856_YHE010_10_Slot1-1_1_5102'...                  10  \n",
       "484    [{'run_name': 'P3856_YHE010_10_Slot1-1_1_5102'...                   9  \n",
       "...                                                  ...                 ...  \n",
       "17488  [{'run_name': 'P3856_YHE010_10_Slot1-1_1_5102'...                  10  \n",
       "17627  [{'run_name': 'P3856_YHE010_10_Slot1-1_1_5102'...                  10  \n",
       "17662  [{'run_name': 'P3856_YHE010_10_Slot1-1_1_5102'...                   8  \n",
       "17663  [{'run_name': 'P3856_YHE010_10_Slot1-1_1_5102'...                  10  \n",
       "18218  [{'run_name': 'P3856_YHE010_10_Slot1-1_1_5102'...                  10  \n",
       "\n",
       "[171 rows x 12 columns]"
      ]
     },
     "execution_count": 26,
     "metadata": {},
     "output_type": "execute_result"
    }
   ],
   "source": [
    "tfde_results_df[(tfde_results_df.id_species != \"Human\") & (tfde_results_df.ext_count_all_runs >= 8)]"
   ]
  },
  {
   "cell_type": "code",
   "execution_count": 34,
   "metadata": {},
   "outputs": [
    {
     "data": {
      "text/plain": [
       "Index(['sequence', 'charge', 'identifications', 'extractions',\n",
       "       'identifications_d', 'id_perc_q_value', 'id_count_all_runs',\n",
       "       'id_number_of_proteins', 'id_protein', 'id_species', 'extractions_l',\n",
       "       'ext_count_all_runs'],\n",
       "      dtype='object')"
      ]
     },
     "execution_count": 34,
     "metadata": {},
     "output_type": "execute_result"
    }
   ],
   "source": [
    "tfde_results_df.columns"
   ]
  },
  {
   "cell_type": "code",
   "execution_count": 38,
   "metadata": {},
   "outputs": [
    {
     "data": {
      "text/plain": [
       "[{'run_name': 'P3856_YHE010_10_Slot1-1_1_5102',\n",
       "  'prob_target': 0.999673672329887,\n",
       "  'intensity': 1572,\n",
       "  'inferred': 0},\n",
       " {'run_name': 'P3856_YHE010_2_Slot1-1_1_5094',\n",
       "  'prob_target': 0.9996779267478852,\n",
       "  'intensity': 1787,\n",
       "  'inferred': 0},\n",
       " {'run_name': 'P3856_YHE010_4_Slot1-1_1_5096',\n",
       "  'prob_target': 0.9974152515196145,\n",
       "  'intensity': 464,\n",
       "  'inferred': 0},\n",
       " {'run_name': 'P3856_YHE010_6_Slot1-1_1_5098',\n",
       "  'prob_target': 0.9993449123204428,\n",
       "  'intensity': 1260,\n",
       "  'inferred': 0},\n",
       " {'run_name': 'P3856_YHE010_8_Slot1-1_1_5100',\n",
       "  'prob_target': 0.9996798453821888,\n",
       "  'intensity': 1452,\n",
       "  'inferred': 0},\n",
       " {'run_name': 'P3856_YHE010_1_Slot1-1_1_5093',\n",
       "  'prob_target': 0.998031041800031,\n",
       "  'intensity': 724,\n",
       "  'inferred': 0},\n",
       " {'run_name': 'P3856_YHE010_3_Slot1-1_1_5095',\n",
       "  'prob_target': 0.9995889065313796,\n",
       "  'intensity': 1459,\n",
       "  'inferred': 0},\n",
       " {'run_name': 'P3856_YHE010_5_Slot1-1_1_5097',\n",
       "  'prob_target': 0.9995705099787414,\n",
       "  'intensity': 1130,\n",
       "  'inferred': 0},\n",
       " {'run_name': 'P3856_YHE010_7_Slot1-1_1_5099',\n",
       "  'prob_target': 0.9977278753454024,\n",
       "  'intensity': 613,\n",
       "  'inferred': 0},\n",
       " {'run_name': 'P3856_YHE010_9_Slot1-1_1_5101',\n",
       "  'prob_target': 0.9973999244822571,\n",
       "  'intensity': 632,\n",
       "  'inferred': 0}]"
      ]
     },
     "execution_count": 38,
     "metadata": {},
     "output_type": "execute_result"
    }
   ],
   "source": [
    "tfde_results_df.loc[1402].extractions_l"
   ]
  },
  {
   "cell_type": "code",
   "execution_count": 27,
   "metadata": {},
   "outputs": [
    {
     "data": {
      "image/png": "[encoded data removed]",
      "text/plain": [
       "<Figure size 576x576 with 1 Axes>"
      ]
     },
     "metadata": {
      "needs_background": "light"
     },
     "output_type": "display_data"
    }
   ],
   "source": [
    "f, ax1 = plt.subplots()\n",
    "f.set_figheight(8)\n",
    "f.set_figwidth(8)\n",
    "plt.margins(0.06)\n",
    "\n",
    "counts = np.bincount(tfde_results_df.id_count_all_runs)\n",
    "number_of_runs_in_subset = 10\n",
    "\n",
    "ax1.bar(range(number_of_runs_in_subset+1), counts, width=0.8, align='center')\n",
    "plt.xlabel('number of files in which a modified sequence-charge was identified')\n",
    "plt.ylabel('frequency')\n",
    "ax1.set(xticks=range(1,number_of_runs_in_subset+1), xlim=[0, number_of_runs_in_subset+1])\n",
    "# plt.ylim((0,18000))\n",
    "\n",
    "plt.show()"
   ]
  },
  {
   "cell_type": "code",
   "execution_count": 27,
   "metadata": {},
   "outputs": [
    {
     "data": {
      "image/png": "[encoded data removed]",
      "text/plain": [
       "<Figure size 576x576 with 1 Axes>"
      ]
     },
     "metadata": {
      "needs_background": "light"
     },
     "output_type": "display_data"
    }
   ],
   "source": [
    "f, ax1 = plt.subplots()\n",
    "f.set_figheight(8)\n",
    "f.set_figwidth(8)\n",
    "plt.margins(0.06)\n",
    "\n",
    "counts = np.bincount(tfde_results_df.id_count_all_runs)\n",
    "number_of_runs_in_subset = 10\n",
    "\n",
    "ax1.bar(range(number_of_runs_in_subset+1), counts, width=0.8, align='center')\n",
    "plt.xlabel('number of files in which a modified sequence-charge was identified')\n",
    "plt.ylabel('frequency')\n",
    "ax1.set(xticks=range(1,number_of_runs_in_subset+1), xlim=[0, number_of_runs_in_subset+1])\n",
    "# plt.ylim((0,18000))\n",
    "\n",
    "plt.show()"
   ]
  },
  {
   "cell_type": "code",
   "execution_count": 28,
   "metadata": {},
   "outputs": [],
   "source": [
    "tfde_nonhuman_results_df = tfde_results_df[(tfde_results_df.id_species != \"Human\")]"
   ]
  },
  {
   "cell_type": "code",
   "execution_count": 41,
   "metadata": {},
   "outputs": [
    {
     "data": {
      "text/plain": [
       "[{'run_name': 'P3856_YHE010_10_Slot1-1_1_5102',\n",
       "  'prob_target': 0.9511636495097674,\n",
       "  'intensity': 294,\n",
       "  'inferred': 0},\n",
       " {'run_name': 'P3856_YHE010_2_Slot1-1_1_5094',\n",
       "  'prob_target': 0.995585069247857,\n",
       "  'intensity': 237,\n",
       "  'inferred': 0},\n",
       " {'run_name': 'P3856_YHE010_4_Slot1-1_1_5096',\n",
       "  'prob_target': 0.5915802023171703,\n",
       "  'intensity': 170,\n",
       "  'inferred': 0},\n",
       " {'run_name': 'P3856_YHE010_6_Slot1-1_1_5098',\n",
       "  'prob_target': 0.8433283547885855,\n",
       "  'intensity': 291,\n",
       "  'inferred': 0},\n",
       " {'run_name': 'P3856_YHE010_8_Slot1-1_1_5100',\n",
       "  'prob_target': 0.9761985876399175,\n",
       "  'intensity': 212,\n",
       "  'inferred': 0},\n",
       " {'run_name': 'P3856_YHE010_3_Slot1-1_1_5095',\n",
       "  'prob_target': 0.9447660198235226,\n",
       "  'intensity': 245,\n",
       "  'inferred': 0},\n",
       " {'run_name': 'P3856_YHE010_5_Slot1-1_1_5097',\n",
       "  'prob_target': 0.8867036844706305,\n",
       "  'intensity': 179,\n",
       "  'inferred': 0},\n",
       " {'run_name': 'P3856_YHE010_7_Slot1-1_1_5099',\n",
       "  'prob_target': 0.9925705994306396,\n",
       "  'intensity': 249,\n",
       "  'inferred': 0},\n",
       " {'run_name': 'P3856_YHE010_9_Slot1-1_1_5101',\n",
       "  'prob_target': 0.8019377547015604,\n",
       "  'intensity': 292,\n",
       "  'inferred': 0}]"
      ]
     },
     "execution_count": 41,
     "metadata": {},
     "output_type": "execute_result"
    }
   ],
   "source": [
    "tfde_nonhuman_results_df.iloc[30].extractions_l"
   ]
  },
  {
   "cell_type": "code",
   "execution_count": 30,
   "metadata": {},
   "outputs": [
    {
     "data": {
      "image/png": "[encoded data removed]",
      "text/plain": [
       "<Figure size 576x576 with 1 Axes>"
      ]
     },
     "metadata": {
      "needs_background": "light"
     },
     "output_type": "display_data"
    }
   ],
   "source": [
    "f, ax1 = plt.subplots()\n",
    "f.set_figheight(8)\n",
    "f.set_figwidth(8)\n",
    "plt.margins(0.06)\n",
    "\n",
    "counts = np.bincount(tfde_nonhuman_results_df.id_count_all_runs)\n",
    "number_of_runs_in_subset = 10\n",
    "\n",
    "ax1.bar(range(number_of_runs_in_subset+1), counts, width=0.8, align='center')\n",
    "plt.xlabel('number of files in which a non-human modified sequence-charge was identified')\n",
    "plt.ylabel('frequency')\n",
    "ax1.set(xticks=range(1,number_of_runs_in_subset+1), xlim=[0, number_of_runs_in_subset+1])\n",
    "# plt.ylim((0,18000))\n",
    "\n",
    "plt.show()"
   ]
  },
  {
   "cell_type": "code",
   "execution_count": 31,
   "metadata": {},
   "outputs": [
    {
     "data": {
      "image/png": "[encoded data removed]",
      "text/plain": [
       "<Figure size 576x576 with 1 Axes>"
      ]
     },
     "metadata": {
      "needs_background": "light"
     },
     "output_type": "display_data"
    }
   ],
   "source": [
    "f, ax1 = plt.subplots()\n",
    "f.set_figheight(8)\n",
    "f.set_figwidth(8)\n",
    "plt.margins(0.06)\n",
    "\n",
    "counts = np.bincount(tfde_nonhuman_results_df.ext_count_all_runs)\n",
    "number_of_runs_in_subset = 10\n",
    "\n",
    "ax1.bar(range(number_of_runs_in_subset+1), counts, width=0.8, align='center')\n",
    "plt.xlabel('number of files in which a non-human modified sequence-charge was extracted')\n",
    "plt.ylabel('frequency')\n",
    "ax1.set(xticks=range(1,number_of_runs_in_subset+1), xlim=[0, number_of_runs_in_subset+1])\n",
    "# plt.ylim((0,18000))\n",
    "\n",
    "plt.show()"
   ]
  },
  {
   "cell_type": "code",
   "execution_count": null,
   "metadata": {},
   "outputs": [],
   "source": []
  }
 ],
 "metadata": {
  "kernelspec": {
   "display_name": "Python 3",
   "language": "python",
   "name": "python3"
  },
  "language_info": {
   "codemirror_mode": {
    "name": "ipython",
    "version": 3
   },
   "file_extension": ".py",
   "mimetype": "text/x-python",
   "name": "python",
   "nbconvert_exporter": "python",
   "pygments_lexer": "ipython3",
   "version": "3.8.5"
  }
 },
 "nbformat": 4,
 "nbformat_minor": 4
}
