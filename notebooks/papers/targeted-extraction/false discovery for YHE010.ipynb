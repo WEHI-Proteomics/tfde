{
 "cells": [
  {
   "cell_type": "code",
   "execution_count": 3,
   "metadata": {},
   "outputs": [],
   "source": [
    "import pandas as pd\n",
    "import numpy as np\n",
    "import sqlite3\n",
    "import json\n",
    "import matplotlib.pyplot as plt\n",
    "import seaborn as sns\n",
    "from cmcrameri import cm\n",
    "from os.path import expanduser"
   ]
  },
  {
   "cell_type": "code",
   "execution_count": 4,
   "metadata": {},
   "outputs": [],
   "source": [
    "EXPERIMENT_NAME = 'P3856_YHE010'\n",
    "number_of_runs_in_subset = 10"
   ]
  },
  {
   "cell_type": "markdown",
   "metadata": {},
   "source": [
    "#### prepare the TFD/E results"
   ]
  },
  {
   "cell_type": "code",
   "execution_count": 5,
   "metadata": {},
   "outputs": [],
   "source": [
    "# load the results\n",
    "EXPERIMENT_DIR = '/media/data-4t-a/results-P3856_YHE010/2022-03-28-17-55-06'\n",
    "RESULTS_DB_NAME = '{}/summarised-results/results.sqlite'.format(EXPERIMENT_DIR)\n",
    "db_conn = sqlite3.connect(RESULTS_DB_NAME)\n",
    "tfde_results_df = pd.read_sql_query(\"select * from sequences\", db_conn)\n",
    "db_conn.close()"
   ]
  },
  {
   "cell_type": "code",
   "execution_count": 6,
   "metadata": {},
   "outputs": [],
   "source": [
    "# convert the identifications from JSON to Python objects\n",
    "tfde_results_df['identifications_d'] = tfde_results_df.apply(lambda row: json.loads(row.identifications), axis=1)"
   ]
  },
  {
   "cell_type": "code",
   "execution_count": 7,
   "metadata": {},
   "outputs": [],
   "source": [
    "def classify_protein(protein):\n",
    "    result = 'UNKNOWN'\n",
    "    if 'HUMAN' in protein.upper():\n",
    "        result = 'Human'\n",
    "    elif 'YEAST' in protein.upper():\n",
    "        result = 'Yeast'\n",
    "    elif 'ECOLI' in protein.upper():\n",
    "        result = 'E. coli'\n",
    "    return result"
   ]
  },
  {
   "cell_type": "code",
   "execution_count": 8,
   "metadata": {},
   "outputs": [],
   "source": [
    "# separate some key metrics into separate columns\n",
    "tfde_results_df['id_perc_q_value'] = tfde_results_df.apply(lambda row: row.identifications_d['perc_q_value'], axis=1)\n",
    "tfde_results_df['id_count_all_runs'] = tfde_results_df.apply(lambda row: len(row.identifications_d['run_names']), axis=1)\n",
    "tfde_results_df['id_number_of_proteins'] = tfde_results_df.apply(lambda row: row.identifications_d['number_of_proteins'], axis=1)"
   ]
  },
  {
   "cell_type": "code",
   "execution_count": 9,
   "metadata": {},
   "outputs": [],
   "source": [
    "tfde_results_df['id_protein'] = tfde_results_df.apply(lambda row: row.identifications_d['proteins'][0], axis=1)\n",
    "tfde_results_df['id_species'] = tfde_results_df.apply(lambda row: classify_protein(row.id_protein), axis=1)"
   ]
  },
  {
   "cell_type": "code",
   "execution_count": 10,
   "metadata": {},
   "outputs": [
    {
     "data": {
      "text/plain": [
       "array(['Human', 'E. coli', 'Yeast'], dtype=object)"
      ]
     },
     "execution_count": 10,
     "metadata": {},
     "output_type": "execute_result"
    }
   ],
   "source": [
    "tfde_results_df.id_species.unique()"
   ]
  },
  {
   "cell_type": "code",
   "execution_count": 11,
   "metadata": {},
   "outputs": [],
   "source": [
    "# remove the results that couldn't be extracted or were not classified as a target\n",
    "tfde_results_df = tfde_results_df[tfde_results_df.extractions.notnull()].copy()"
   ]
  },
  {
   "cell_type": "code",
   "execution_count": 12,
   "metadata": {},
   "outputs": [],
   "source": [
    "# convert from JSON to Python objects\n",
    "tfde_results_df['extractions_l'] = tfde_results_df.apply(lambda row: json.loads(row.extractions), axis=1)"
   ]
  },
  {
   "cell_type": "code",
   "execution_count": 13,
   "metadata": {},
   "outputs": [],
   "source": [
    "# separate some key metrics into separate columns\n",
    "tfde_results_df['ext_count_all_runs'] = tfde_results_df.apply(lambda row: len(row.extractions_l), axis=1)"
   ]
  },
  {
   "cell_type": "code",
   "execution_count": 14,
   "metadata": {},
   "outputs": [
    {
     "data": {
      "text/html": [
       "<div>\n",
       "<style scoped>\n",
       "    .dataframe tbody tr th:only-of-type {\n",
       "        vertical-align: middle;\n",
       "    }\n",
       "\n",
       "    .dataframe tbody tr th {\n",
       "        vertical-align: top;\n",
       "    }\n",
       "\n",
       "    .dataframe thead th {\n",
       "        text-align: right;\n",
       "    }\n",
       "</style>\n",
       "<table border=\"1\" class=\"dataframe\">\n",
       "  <thead>\n",
       "    <tr style=\"text-align: right;\">\n",
       "      <th></th>\n",
       "      <th>sequence</th>\n",
       "      <th>charge</th>\n",
       "      <th>identifications</th>\n",
       "      <th>extractions</th>\n",
       "      <th>identifications_d</th>\n",
       "      <th>id_perc_q_value</th>\n",
       "      <th>id_count_all_runs</th>\n",
       "      <th>id_number_of_proteins</th>\n",
       "      <th>id_protein</th>\n",
       "      <th>id_species</th>\n",
       "      <th>extractions_l</th>\n",
       "      <th>ext_count_all_runs</th>\n",
       "    </tr>\n",
       "  </thead>\n",
       "  <tbody>\n",
       "    <tr>\n",
       "      <th>17047</th>\n",
       "      <td>VQIAVANAQELLQR</td>\n",
       "      <td>2</td>\n",
       "      <td>{\"perc_q_value\": 1.7327119e-05, \"run_names\": [...</td>\n",
       "      <td>[{\"run_name\": \"P3856_YHE010_10_Slot1-1_1_5102\"...</td>\n",
       "      <td>{'perc_q_value': 1.7327119e-05, 'run_names': [...</td>\n",
       "      <td>0.000017</td>\n",
       "      <td>10</td>\n",
       "      <td>1</td>\n",
       "      <td>sp|Q9Y5L4|TIM13_HUMAN</td>\n",
       "      <td>Human</td>\n",
       "      <td>[{'run_name': 'P3856_YHE010_10_Slot1-1_1_5102'...</td>\n",
       "      <td>10</td>\n",
       "    </tr>\n",
       "    <tr>\n",
       "      <th>17868</th>\n",
       "      <td>YIAIVSTTVETKEPEK</td>\n",
       "      <td>2</td>\n",
       "      <td>{\"perc_q_value\": 1.7327119e-05, \"run_names\": [...</td>\n",
       "      <td>[{\"run_name\": \"P3856_YHE010_10_Slot1-1_1_5102\"...</td>\n",
       "      <td>{'perc_q_value': 1.7327119e-05, 'run_names': [...</td>\n",
       "      <td>0.000017</td>\n",
       "      <td>10</td>\n",
       "      <td>1</td>\n",
       "      <td>sp|P50395|GDIB_HUMAN</td>\n",
       "      <td>Human</td>\n",
       "      <td>[{'run_name': 'P3856_YHE010_10_Slot1-1_1_5102'...</td>\n",
       "      <td>10</td>\n",
       "    </tr>\n",
       "    <tr>\n",
       "      <th>2429</th>\n",
       "      <td>DMATETDASLSTLLTETK</td>\n",
       "      <td>2</td>\n",
       "      <td>{\"perc_q_value\": 7.4411221e-05, \"run_names\": [...</td>\n",
       "      <td>[{\"run_name\": \"P3856_YHE010_10_Slot1-1_1_5102\"...</td>\n",
       "      <td>{'perc_q_value': 7.4411221e-05, 'run_names': [...</td>\n",
       "      <td>0.000074</td>\n",
       "      <td>2</td>\n",
       "      <td>1</td>\n",
       "      <td>sp|Q9Y2W6|TDRKH_HUMAN</td>\n",
       "      <td>Human</td>\n",
       "      <td>[{'run_name': 'P3856_YHE010_10_Slot1-1_1_5102'...</td>\n",
       "      <td>7</td>\n",
       "    </tr>\n",
       "  </tbody>\n",
       "</table>\n",
       "</div>"
      ],
      "text/plain": [
       "                 sequence  charge  \\\n",
       "17047      VQIAVANAQELLQR       2   \n",
       "17868    YIAIVSTTVETKEPEK       2   \n",
       "2429   DMATETDASLSTLLTETK       2   \n",
       "\n",
       "                                         identifications  \\\n",
       "17047  {\"perc_q_value\": 1.7327119e-05, \"run_names\": [...   \n",
       "17868  {\"perc_q_value\": 1.7327119e-05, \"run_names\": [...   \n",
       "2429   {\"perc_q_value\": 7.4411221e-05, \"run_names\": [...   \n",
       "\n",
       "                                             extractions  \\\n",
       "17047  [{\"run_name\": \"P3856_YHE010_10_Slot1-1_1_5102\"...   \n",
       "17868  [{\"run_name\": \"P3856_YHE010_10_Slot1-1_1_5102\"...   \n",
       "2429   [{\"run_name\": \"P3856_YHE010_10_Slot1-1_1_5102\"...   \n",
       "\n",
       "                                       identifications_d  id_perc_q_value  \\\n",
       "17047  {'perc_q_value': 1.7327119e-05, 'run_names': [...         0.000017   \n",
       "17868  {'perc_q_value': 1.7327119e-05, 'run_names': [...         0.000017   \n",
       "2429   {'perc_q_value': 7.4411221e-05, 'run_names': [...         0.000074   \n",
       "\n",
       "       id_count_all_runs  id_number_of_proteins             id_protein  \\\n",
       "17047                 10                      1  sp|Q9Y5L4|TIM13_HUMAN   \n",
       "17868                 10                      1   sp|P50395|GDIB_HUMAN   \n",
       "2429                   2                      1  sp|Q9Y2W6|TDRKH_HUMAN   \n",
       "\n",
       "      id_species                                      extractions_l  \\\n",
       "17047      Human  [{'run_name': 'P3856_YHE010_10_Slot1-1_1_5102'...   \n",
       "17868      Human  [{'run_name': 'P3856_YHE010_10_Slot1-1_1_5102'...   \n",
       "2429       Human  [{'run_name': 'P3856_YHE010_10_Slot1-1_1_5102'...   \n",
       "\n",
       "       ext_count_all_runs  \n",
       "17047                  10  \n",
       "17868                  10  \n",
       "2429                    7  "
      ]
     },
     "execution_count": 14,
     "metadata": {},
     "output_type": "execute_result"
    }
   ],
   "source": [
    "tfde_results_df.sample(n=3)"
   ]
  },
  {
   "cell_type": "code",
   "execution_count": 80,
   "metadata": {},
   "outputs": [
    {
     "data": {
      "text/plain": [
       "{'perc_q_value': 1.7327119e-05,\n",
       " 'run_names': ['P3856_YHE010_8_Slot1-1_1_5100',\n",
       "  'P3856_YHE010_6_Slot1-1_1_5098',\n",
       "  'P3856_YHE010_1_Slot1-1_1_5093',\n",
       "  'P3856_YHE010_7_Slot1-1_1_5099',\n",
       "  'P3856_YHE010_3_Slot1-1_1_5095',\n",
       "  'P3856_YHE010_10_Slot1-1_1_5102',\n",
       "  'P3856_YHE010_4_Slot1-1_1_5096',\n",
       "  'P3856_YHE010_5_Slot1-1_1_5097',\n",
       "  'P3856_YHE010_9_Slot1-1_1_5101',\n",
       "  'P3856_YHE010_2_Slot1-1_1_5094'],\n",
       " 'number_of_runs': 10,\n",
       " 'proteins': ['sp|Q9Y5L4|TIM13_HUMAN'],\n",
       " 'number_of_proteins': 1}"
      ]
     },
     "execution_count": 80,
     "metadata": {},
     "output_type": "execute_result"
    }
   ],
   "source": [
    "tfde_results_df.loc[17047].identifications_d"
   ]
  },
  {
   "cell_type": "code",
   "execution_count": 79,
   "metadata": {},
   "outputs": [
    {
     "data": {
      "text/plain": [
       "[{'run_name': 'P3856_YHE010_10_Slot1-1_1_5102',\n",
       "  'prob_target': 0.999536993989128,\n",
       "  'intensity': 4726,\n",
       "  'inferred': 0},\n",
       " {'run_name': 'P3856_YHE010_2_Slot1-1_1_5094',\n",
       "  'prob_target': 0.9996213632076105,\n",
       "  'intensity': 3962,\n",
       "  'inferred': 0},\n",
       " {'run_name': 'P3856_YHE010_4_Slot1-1_1_5096',\n",
       "  'prob_target': 0.9995718412487514,\n",
       "  'intensity': 4326,\n",
       "  'inferred': 0},\n",
       " {'run_name': 'P3856_YHE010_6_Slot1-1_1_5098',\n",
       "  'prob_target': 0.9996862011141548,\n",
       "  'intensity': 4317,\n",
       "  'inferred': 0},\n",
       " {'run_name': 'P3856_YHE010_8_Slot1-1_1_5100',\n",
       "  'prob_target': 0.9996695764191613,\n",
       "  'intensity': 3962,\n",
       "  'inferred': 0},\n",
       " {'run_name': 'P3856_YHE010_1_Slot1-1_1_5093',\n",
       "  'prob_target': 0.99959518347211,\n",
       "  'intensity': 3456,\n",
       "  'inferred': 0},\n",
       " {'run_name': 'P3856_YHE010_3_Slot1-1_1_5095',\n",
       "  'prob_target': 0.999442656979806,\n",
       "  'intensity': 3659,\n",
       "  'inferred': 0},\n",
       " {'run_name': 'P3856_YHE010_5_Slot1-1_1_5097',\n",
       "  'prob_target': 0.9996305320202233,\n",
       "  'intensity': 4466,\n",
       "  'inferred': 0},\n",
       " {'run_name': 'P3856_YHE010_7_Slot1-1_1_5099',\n",
       "  'prob_target': 0.9995366315370573,\n",
       "  'intensity': 4700,\n",
       "  'inferred': 0},\n",
       " {'run_name': 'P3856_YHE010_9_Slot1-1_1_5101',\n",
       "  'prob_target': 0.9996321980974052,\n",
       "  'intensity': 5052,\n",
       "  'inferred': 0}]"
      ]
     },
     "execution_count": 79,
     "metadata": {},
     "output_type": "execute_result"
    }
   ],
   "source": [
    "tfde_results_df.loc[17047].extractions_l"
   ]
  },
  {
   "cell_type": "markdown",
   "metadata": {},
   "source": [
    "#### false identification rate"
   ]
  },
  {
   "cell_type": "code",
   "execution_count": 55,
   "metadata": {},
   "outputs": [
    {
     "data": {
      "text/plain": [
       "17958"
      ]
     },
     "execution_count": 55,
     "metadata": {},
     "output_type": "execute_result"
    }
   ],
   "source": [
    "number_of_unique_peptides = len(tfde_results_df)\n",
    "number_of_unique_peptides"
   ]
  },
  {
   "cell_type": "code",
   "execution_count": 56,
   "metadata": {},
   "outputs": [
    {
     "data": {
      "text/plain": [
       "228"
      ]
     },
     "execution_count": 56,
     "metadata": {},
     "output_type": "execute_result"
    }
   ],
   "source": [
    "number_of_unique_nonhuman_peptides = len(tfde_results_df[(tfde_results_df.id_species != \"Human\")])\n",
    "number_of_unique_nonhuman_peptides"
   ]
  },
  {
   "cell_type": "code",
   "execution_count": 57,
   "metadata": {},
   "outputs": [
    {
     "data": {
      "text/plain": [
       "1.2696291346475108"
      ]
     },
     "execution_count": 57,
     "metadata": {},
     "output_type": "execute_result"
    }
   ],
   "source": [
    "FDR_detection = number_of_unique_nonhuman_peptides/number_of_unique_peptides*100\n",
    "FDR_detection"
   ]
  },
  {
   "cell_type": "markdown",
   "metadata": {},
   "source": [
    "#### false transfer rate"
   ]
  },
  {
   "cell_type": "code",
   "execution_count": 84,
   "metadata": {},
   "outputs": [],
   "source": [
    "tfde_results_df['id_run_names'] = tfde_results_df.apply(lambda row: row.identifications_d['run_names'], axis=1)\n",
    "tfde_results_df['ext_run_names'] = tfde_results_df.apply(lambda row: [e['run_name'] for e in row.extractions_l], axis=1)"
   ]
  },
  {
   "cell_type": "code",
   "execution_count": 90,
   "metadata": {},
   "outputs": [],
   "source": [
    "tfde_results_df['transfer_count'] = tfde_results_df.apply(lambda row: len(set(row.ext_run_names)-set(row.id_run_names)), axis=1)"
   ]
  },
  {
   "cell_type": "code",
   "execution_count": 91,
   "metadata": {},
   "outputs": [
    {
     "data": {
      "text/plain": [
       "63582"
      ]
     },
     "execution_count": 91,
     "metadata": {},
     "output_type": "execute_result"
    }
   ],
   "source": [
    "total_transfer_count_tfde = tfde_results_df.transfer_count.sum()\n",
    "total_transfer_count_tfde"
   ]
  },
  {
   "cell_type": "code",
   "execution_count": 92,
   "metadata": {},
   "outputs": [
    {
     "data": {
      "text/plain": [
       "1442"
      ]
     },
     "execution_count": 92,
     "metadata": {},
     "output_type": "execute_result"
    }
   ],
   "source": [
    "false_transfer_count_tfde = tfde_results_df[(tfde_results_df.id_species != \"Human\")].transfer_count.sum()\n",
    "false_transfer_count_tfde"
   ]
  },
  {
   "cell_type": "code",
   "execution_count": 93,
   "metadata": {},
   "outputs": [
    {
     "data": {
      "text/plain": [
       "2.2679374665785916"
      ]
     },
     "execution_count": 93,
     "metadata": {},
     "output_type": "execute_result"
    }
   ],
   "source": [
    "false_transfer_rate_tfde = false_transfer_count_tfde / total_transfer_count_tfde * 100.0\n",
    "false_transfer_rate_tfde"
   ]
  },
  {
   "cell_type": "code",
   "execution_count": 22,
   "metadata": {},
   "outputs": [
    {
     "data": {
      "image/png": "[encoded data removed]",
      "text/plain": [
       "<Figure size 576x576 with 1 Axes>"
      ]
     },
     "metadata": {
      "needs_background": "light"
     },
     "output_type": "display_data"
    }
   ],
   "source": [
    "f, ax1 = plt.subplots()\n",
    "f.set_figheight(8)\n",
    "f.set_figwidth(8)\n",
    "plt.margins(0.06)\n",
    "\n",
    "counts = np.bincount(tfde_results_df.id_count_all_runs)\n",
    "number_of_runs_in_subset = 10\n",
    "\n",
    "ax1.bar(range(number_of_runs_in_subset+1), counts, width=0.8, align='center')\n",
    "plt.xlabel('number of files in which a modified sequence-charge was identified')\n",
    "plt.ylabel('frequency')\n",
    "ax1.set(xticks=range(1,number_of_runs_in_subset+1), xlim=[0, number_of_runs_in_subset+1])\n",
    "# plt.ylim((0,18000))\n",
    "\n",
    "plt.show()"
   ]
  },
  {
   "cell_type": "code",
   "execution_count": 23,
   "metadata": {},
   "outputs": [],
   "source": [
    "tfde_nonhuman_results_df = tfde_results_df[(tfde_results_df.id_species != \"Human\")]"
   ]
  },
  {
   "cell_type": "code",
   "execution_count": 25,
   "metadata": {},
   "outputs": [
    {
     "data": {
      "image/png": "[encoded data removed]",
      "text/plain": [
       "<Figure size 576x576 with 1 Axes>"
      ]
     },
     "metadata": {
      "needs_background": "light"
     },
     "output_type": "display_data"
    }
   ],
   "source": [
    "f, ax1 = plt.subplots()\n",
    "f.set_figheight(8)\n",
    "f.set_figwidth(8)\n",
    "plt.margins(0.06)\n",
    "\n",
    "counts = np.bincount(tfde_nonhuman_results_df.id_count_all_runs)\n",
    "number_of_runs_in_subset = 10\n",
    "\n",
    "ax1.bar(range(number_of_runs_in_subset+1), counts, width=0.8, align='center')\n",
    "plt.xlabel('number of files in which a non-human modified sequence-charge was identified')\n",
    "plt.ylabel('frequency')\n",
    "ax1.set(xticks=range(1,number_of_runs_in_subset+1), xlim=[0, number_of_runs_in_subset+1])\n",
    "# plt.ylim((0,18000))\n",
    "\n",
    "plt.show()"
   ]
  },
  {
   "cell_type": "code",
   "execution_count": 26,
   "metadata": {},
   "outputs": [
    {
     "data": {
      "image/png": "[encoded data removed]",
      "text/plain": [
       "<Figure size 576x576 with 1 Axes>"
      ]
     },
     "metadata": {
      "needs_background": "light"
     },
     "output_type": "display_data"
    }
   ],
   "source": [
    "f, ax1 = plt.subplots()\n",
    "f.set_figheight(8)\n",
    "f.set_figwidth(8)\n",
    "plt.margins(0.06)\n",
    "\n",
    "counts = np.bincount(tfde_nonhuman_results_df.ext_count_all_runs)\n",
    "number_of_runs_in_subset = 10\n",
    "\n",
    "ax1.bar(range(number_of_runs_in_subset+1), counts, width=0.8, align='center')\n",
    "plt.xlabel('number of files in which a non-human modified sequence-charge was extracted')\n",
    "plt.ylabel('frequency')\n",
    "ax1.set(xticks=range(1,number_of_runs_in_subset+1), xlim=[0, number_of_runs_in_subset+1])\n",
    "# plt.ylim((0,18000))\n",
    "\n",
    "plt.show()"
   ]
  },
  {
   "cell_type": "markdown",
   "metadata": {},
   "source": [
    "#### prepare the MaxQuant results (MaxQuant was executed with MBR on)"
   ]
  },
  {
   "cell_type": "code",
   "execution_count": 27,
   "metadata": {},
   "outputs": [],
   "source": [
    "MQ_RESULTS_DIR = '{}'.format(expanduser('~'))\n",
    "mq_results_df = pd.read_csv('{}/MQ-analysis-of-P3856/combined-P3856_YHE010/txt/evidence.txt'.format(MQ_RESULTS_DIR), sep='\\\\t', engine='python')"
   ]
  },
  {
   "cell_type": "code",
   "execution_count": 28,
   "metadata": {},
   "outputs": [],
   "source": [
    "# remove decoys, which are indicated by a '+' in the Reverse column\n",
    "mq_results_df = mq_results_df[pd.isna(mq_results_df.Reverse)]\n",
    "# remove identifications with no intensity\n",
    "mq_results_df = mq_results_df[(mq_results_df.Intensity > 0)]\n",
    "# remove potential contaminants\n",
    "mq_results_df = mq_results_df[pd.isna(mq_results_df['Potential contaminant'])]\n",
    "# remove identifications with mass error more than +/- 5 ppm\n",
    "mq_results_df = mq_results_df[np.abs(mq_results_df['Mass error [ppm]']) <= 5.0]\n",
    "# add RT as seconds\n",
    "mq_results_df['retention_time_secs'] = mq_results_df['Retention time']*60.0"
   ]
  },
  {
   "cell_type": "code",
   "execution_count": 29,
   "metadata": {},
   "outputs": [
    {
     "data": {
      "text/plain": [
       "array(['TIMS-MULTI-MSMS', 'TIMS-MULTI-MATCH'], dtype=object)"
      ]
     },
     "execution_count": 29,
     "metadata": {},
     "output_type": "execute_result"
    }
   ],
   "source": [
    "mq_results_df.Type.unique()"
   ]
  },
  {
   "cell_type": "code",
   "execution_count": 30,
   "metadata": {},
   "outputs": [],
   "source": [
    "# definition of uniqueness in MaxQuant output with MBR on\n",
    "unique_peptide_key = ['Sequence','Modifications','Charge']"
   ]
  },
  {
   "cell_type": "code",
   "execution_count": 31,
   "metadata": {},
   "outputs": [
    {
     "data": {
      "text/html": [
       "<div>\n",
       "<style scoped>\n",
       "    .dataframe tbody tr th:only-of-type {\n",
       "        vertical-align: middle;\n",
       "    }\n",
       "\n",
       "    .dataframe tbody tr th {\n",
       "        vertical-align: top;\n",
       "    }\n",
       "\n",
       "    .dataframe thead th {\n",
       "        text-align: right;\n",
       "    }\n",
       "</style>\n",
       "<table border=\"1\" class=\"dataframe\">\n",
       "  <thead>\n",
       "    <tr style=\"text-align: right;\">\n",
       "      <th></th>\n",
       "      <th>Sequence</th>\n",
       "      <th>Length</th>\n",
       "      <th>Modifications</th>\n",
       "      <th>Modified sequence</th>\n",
       "      <th>Oxidation (M) Probabilities</th>\n",
       "      <th>Oxidation (M) Score Diffs</th>\n",
       "      <th>Acetyl (Protein N-term)</th>\n",
       "      <th>Oxidation (M)</th>\n",
       "      <th>Missed cleavages</th>\n",
       "      <th>Proteins</th>\n",
       "      <th>...</th>\n",
       "      <th>Potential contaminant</th>\n",
       "      <th>id</th>\n",
       "      <th>Protein group IDs</th>\n",
       "      <th>Peptide ID</th>\n",
       "      <th>Mod. peptide ID</th>\n",
       "      <th>MS/MS IDs</th>\n",
       "      <th>Best MS/MS</th>\n",
       "      <th>Oxidation (M) site IDs</th>\n",
       "      <th>Taxonomy IDs</th>\n",
       "      <th>retention_time_secs</th>\n",
       "    </tr>\n",
       "  </thead>\n",
       "  <tbody>\n",
       "    <tr>\n",
       "      <th>124983</th>\n",
       "      <td>TLNLAGNLLESLSGLHK</td>\n",
       "      <td>17</td>\n",
       "      <td>Unmodified</td>\n",
       "      <td>_TLNLAGNLLESLSGLHK_</td>\n",
       "      <td>NaN</td>\n",
       "      <td>NaN</td>\n",
       "      <td>0</td>\n",
       "      <td>0</td>\n",
       "      <td>0</td>\n",
       "      <td>sp|Q9Y2I1|NISCH_HUMAN</td>\n",
       "      <td>...</td>\n",
       "      <td>NaN</td>\n",
       "      <td>124983</td>\n",
       "      <td>3541</td>\n",
       "      <td>12006</td>\n",
       "      <td>12256</td>\n",
       "      <td>78899.0</td>\n",
       "      <td>78899.0</td>\n",
       "      <td>None</td>\n",
       "      <td>NaN</td>\n",
       "      <td>2157.36</td>\n",
       "    </tr>\n",
       "    <tr>\n",
       "      <th>139268</th>\n",
       "      <td>VSQFLQVLETDLYR</td>\n",
       "      <td>14</td>\n",
       "      <td>Unmodified</td>\n",
       "      <td>NaN</td>\n",
       "      <td>NaN</td>\n",
       "      <td>NaN</td>\n",
       "      <td>0</td>\n",
       "      <td>0</td>\n",
       "      <td>0</td>\n",
       "      <td>sp|Q96MW5|COG8_HUMAN</td>\n",
       "      <td>...</td>\n",
       "      <td>NaN</td>\n",
       "      <td>139268</td>\n",
       "      <td>2731</td>\n",
       "      <td>13360</td>\n",
       "      <td>13640</td>\n",
       "      <td>NaN</td>\n",
       "      <td>NaN</td>\n",
       "      <td>None</td>\n",
       "      <td>NaN</td>\n",
       "      <td>2225.58</td>\n",
       "    </tr>\n",
       "    <tr>\n",
       "      <th>69804</th>\n",
       "      <td>LDEQQEFSAIILATAGLQR</td>\n",
       "      <td>19</td>\n",
       "      <td>Unmodified</td>\n",
       "      <td>_LDEQQEFSAIILATAGLQR_</td>\n",
       "      <td>NaN</td>\n",
       "      <td>NaN</td>\n",
       "      <td>0</td>\n",
       "      <td>0</td>\n",
       "      <td>0</td>\n",
       "      <td>sp|P08397|HEM3_HUMAN</td>\n",
       "      <td>...</td>\n",
       "      <td>NaN</td>\n",
       "      <td>69804</td>\n",
       "      <td>648</td>\n",
       "      <td>6711</td>\n",
       "      <td>6838</td>\n",
       "      <td>44216.0</td>\n",
       "      <td>44216.0</td>\n",
       "      <td>None</td>\n",
       "      <td>NaN</td>\n",
       "      <td>2274.06</td>\n",
       "    </tr>\n",
       "    <tr>\n",
       "      <th>68959</th>\n",
       "      <td>LATQLTGPVMPVR</td>\n",
       "      <td>13</td>\n",
       "      <td>Unmodified</td>\n",
       "      <td>_LATQLTGPVMPVR_</td>\n",
       "      <td>NaN</td>\n",
       "      <td>NaN</td>\n",
       "      <td>0</td>\n",
       "      <td>0</td>\n",
       "      <td>0</td>\n",
       "      <td>sp|P26373|RL13_HUMAN</td>\n",
       "      <td>...</td>\n",
       "      <td>NaN</td>\n",
       "      <td>68959</td>\n",
       "      <td>919</td>\n",
       "      <td>6642</td>\n",
       "      <td>6767</td>\n",
       "      <td>43682.0</td>\n",
       "      <td>43682.0</td>\n",
       "      <td>None</td>\n",
       "      <td>NaN</td>\n",
       "      <td>1855.14</td>\n",
       "    </tr>\n",
       "    <tr>\n",
       "      <th>80415</th>\n",
       "      <td>LQLDNQYAVLENQK</td>\n",
       "      <td>14</td>\n",
       "      <td>Unmodified</td>\n",
       "      <td>_LQLDNQYAVLENQK_</td>\n",
       "      <td>NaN</td>\n",
       "      <td>NaN</td>\n",
       "      <td>0</td>\n",
       "      <td>0</td>\n",
       "      <td>0</td>\n",
       "      <td>sp|Q9UKY7|CDV3_HUMAN</td>\n",
       "      <td>...</td>\n",
       "      <td>NaN</td>\n",
       "      <td>80415</td>\n",
       "      <td>3461</td>\n",
       "      <td>7717</td>\n",
       "      <td>7860</td>\n",
       "      <td>50993.0</td>\n",
       "      <td>50993.0</td>\n",
       "      <td>None</td>\n",
       "      <td>NaN</td>\n",
       "      <td>1846.44</td>\n",
       "    </tr>\n",
       "  </tbody>\n",
       "</table>\n",
       "<p>5 rows × 69 columns</p>\n",
       "</div>"
      ],
      "text/plain": [
       "                   Sequence  Length Modifications      Modified sequence  \\\n",
       "124983    TLNLAGNLLESLSGLHK      17    Unmodified    _TLNLAGNLLESLSGLHK_   \n",
       "139268       VSQFLQVLETDLYR      14    Unmodified                    NaN   \n",
       "69804   LDEQQEFSAIILATAGLQR      19    Unmodified  _LDEQQEFSAIILATAGLQR_   \n",
       "68959         LATQLTGPVMPVR      13    Unmodified        _LATQLTGPVMPVR_   \n",
       "80415        LQLDNQYAVLENQK      14    Unmodified       _LQLDNQYAVLENQK_   \n",
       "\n",
       "       Oxidation (M) Probabilities Oxidation (M) Score Diffs  \\\n",
       "124983                         NaN                       NaN   \n",
       "139268                         NaN                       NaN   \n",
       "69804                          NaN                       NaN   \n",
       "68959                          NaN                       NaN   \n",
       "80415                          NaN                       NaN   \n",
       "\n",
       "        Acetyl (Protein N-term)  Oxidation (M)  Missed cleavages  \\\n",
       "124983                        0              0                 0   \n",
       "139268                        0              0                 0   \n",
       "69804                         0              0                 0   \n",
       "68959                         0              0                 0   \n",
       "80415                         0              0                 0   \n",
       "\n",
       "                     Proteins  ... Potential contaminant      id  \\\n",
       "124983  sp|Q9Y2I1|NISCH_HUMAN  ...                   NaN  124983   \n",
       "139268   sp|Q96MW5|COG8_HUMAN  ...                   NaN  139268   \n",
       "69804    sp|P08397|HEM3_HUMAN  ...                   NaN   69804   \n",
       "68959    sp|P26373|RL13_HUMAN  ...                   NaN   68959   \n",
       "80415    sp|Q9UKY7|CDV3_HUMAN  ...                   NaN   80415   \n",
       "\n",
       "       Protein group IDs Peptide ID Mod. peptide ID  MS/MS IDs  Best MS/MS  \\\n",
       "124983              3541      12006           12256    78899.0     78899.0   \n",
       "139268              2731      13360           13640        NaN         NaN   \n",
       "69804                648       6711            6838    44216.0     44216.0   \n",
       "68959                919       6642            6767    43682.0     43682.0   \n",
       "80415               3461       7717            7860    50993.0     50993.0   \n",
       "\n",
       "        Oxidation (M) site IDs  Taxonomy IDs  retention_time_secs  \n",
       "124983                    None           NaN              2157.36  \n",
       "139268                    None           NaN              2225.58  \n",
       "69804                     None           NaN              2274.06  \n",
       "68959                     None           NaN              1855.14  \n",
       "80415                     None           NaN              1846.44  \n",
       "\n",
       "[5 rows x 69 columns]"
      ]
     },
     "execution_count": 31,
     "metadata": {},
     "output_type": "execute_result"
    }
   ],
   "source": [
    "mq_results_df.sample(n=5)"
   ]
  },
  {
   "cell_type": "code",
   "execution_count": 32,
   "metadata": {},
   "outputs": [
    {
     "data": {
      "text/html": [
       "<div>\n",
       "<style scoped>\n",
       "    .dataframe tbody tr th:only-of-type {\n",
       "        vertical-align: middle;\n",
       "    }\n",
       "\n",
       "    .dataframe tbody tr th {\n",
       "        vertical-align: top;\n",
       "    }\n",
       "\n",
       "    .dataframe thead th {\n",
       "        text-align: right;\n",
       "    }\n",
       "</style>\n",
       "<table border=\"1\" class=\"dataframe\">\n",
       "  <thead>\n",
       "    <tr style=\"text-align: right;\">\n",
       "      <th></th>\n",
       "      <th>Sequence</th>\n",
       "      <th>Length</th>\n",
       "      <th>Modifications</th>\n",
       "      <th>Modified sequence</th>\n",
       "      <th>Oxidation (M) Probabilities</th>\n",
       "      <th>Oxidation (M) Score Diffs</th>\n",
       "      <th>Acetyl (Protein N-term)</th>\n",
       "      <th>Oxidation (M)</th>\n",
       "      <th>Missed cleavages</th>\n",
       "      <th>Proteins</th>\n",
       "      <th>...</th>\n",
       "      <th>Potential contaminant</th>\n",
       "      <th>id</th>\n",
       "      <th>Protein group IDs</th>\n",
       "      <th>Peptide ID</th>\n",
       "      <th>Mod. peptide ID</th>\n",
       "      <th>MS/MS IDs</th>\n",
       "      <th>Best MS/MS</th>\n",
       "      <th>Oxidation (M) site IDs</th>\n",
       "      <th>Taxonomy IDs</th>\n",
       "      <th>retention_time_secs</th>\n",
       "    </tr>\n",
       "  </thead>\n",
       "  <tbody>\n",
       "    <tr>\n",
       "      <th>10889</th>\n",
       "      <td>ASVSSATFSGHGAR</td>\n",
       "      <td>14</td>\n",
       "      <td>Acetyl (Protein N-term)</td>\n",
       "      <td>_(Acetyl (Protein N-term))ASVSSATFSGHGAR_</td>\n",
       "      <td>NaN</td>\n",
       "      <td>NaN</td>\n",
       "      <td>1</td>\n",
       "      <td>0</td>\n",
       "      <td>0</td>\n",
       "      <td>sp|Q7Z4H3|HDDC2_HUMAN</td>\n",
       "      <td>...</td>\n",
       "      <td>NaN</td>\n",
       "      <td>10889</td>\n",
       "      <td>2247</td>\n",
       "      <td>1045</td>\n",
       "      <td>1068</td>\n",
       "      <td>6771.0</td>\n",
       "      <td>6771.0</td>\n",
       "      <td>None</td>\n",
       "      <td>NaN</td>\n",
       "      <td>1665.84</td>\n",
       "    </tr>\n",
       "    <tr>\n",
       "      <th>113936</th>\n",
       "      <td>SLDLFNCEVTNLNDYR</td>\n",
       "      <td>16</td>\n",
       "      <td>Unmodified</td>\n",
       "      <td>_SLDLFNCEVTNLNDYR_</td>\n",
       "      <td>NaN</td>\n",
       "      <td>NaN</td>\n",
       "      <td>0</td>\n",
       "      <td>0</td>\n",
       "      <td>0</td>\n",
       "      <td>sp|P39687|AN32A_HUMAN;sp|Q92688|AN32B_HUMAN</td>\n",
       "      <td>...</td>\n",
       "      <td>NaN</td>\n",
       "      <td>113936</td>\n",
       "      <td>1080;2545</td>\n",
       "      <td>10943</td>\n",
       "      <td>11177</td>\n",
       "      <td>71858.0</td>\n",
       "      <td>71858.0</td>\n",
       "      <td>None</td>\n",
       "      <td>NaN</td>\n",
       "      <td>2066.76</td>\n",
       "    </tr>\n",
       "    <tr>\n",
       "      <th>20446</th>\n",
       "      <td>DLTQMADELRR</td>\n",
       "      <td>11</td>\n",
       "      <td>Unmodified</td>\n",
       "      <td>_DLTQMADELRR_</td>\n",
       "      <td>NaN</td>\n",
       "      <td>NaN</td>\n",
       "      <td>0</td>\n",
       "      <td>0</td>\n",
       "      <td>1</td>\n",
       "      <td>sp|P41227|NAA10_HUMAN</td>\n",
       "      <td>...</td>\n",
       "      <td>NaN</td>\n",
       "      <td>20446</td>\n",
       "      <td>1105</td>\n",
       "      <td>1966</td>\n",
       "      <td>2005</td>\n",
       "      <td>12874.0</td>\n",
       "      <td>12874.0</td>\n",
       "      <td>None</td>\n",
       "      <td>NaN</td>\n",
       "      <td>1845.60</td>\n",
       "    </tr>\n",
       "    <tr>\n",
       "      <th>112246</th>\n",
       "      <td>SGGSGGCSGAGGASNCGTGSGR</td>\n",
       "      <td>22</td>\n",
       "      <td>Unmodified</td>\n",
       "      <td>_SGGSGGCSGAGGASNCGTGSGR_</td>\n",
       "      <td>NaN</td>\n",
       "      <td>NaN</td>\n",
       "      <td>0</td>\n",
       "      <td>0</td>\n",
       "      <td>0</td>\n",
       "      <td>sp|Q15005|SPCS2_HUMAN</td>\n",
       "      <td>...</td>\n",
       "      <td>NaN</td>\n",
       "      <td>112246</td>\n",
       "      <td>1872</td>\n",
       "      <td>10782</td>\n",
       "      <td>11013</td>\n",
       "      <td>70825.0</td>\n",
       "      <td>70825.0</td>\n",
       "      <td>None</td>\n",
       "      <td>NaN</td>\n",
       "      <td>917.16</td>\n",
       "    </tr>\n",
       "    <tr>\n",
       "      <th>137576</th>\n",
       "      <td>VPDGMVGLIIGR</td>\n",
       "      <td>12</td>\n",
       "      <td>Unmodified</td>\n",
       "      <td>_VPDGMVGLIIGR_</td>\n",
       "      <td>NaN</td>\n",
       "      <td>NaN</td>\n",
       "      <td>0</td>\n",
       "      <td>0</td>\n",
       "      <td>0</td>\n",
       "      <td>sp|Q92945|FUBP2_HUMAN</td>\n",
       "      <td>...</td>\n",
       "      <td>NaN</td>\n",
       "      <td>137576</td>\n",
       "      <td>2571</td>\n",
       "      <td>13199</td>\n",
       "      <td>13478</td>\n",
       "      <td>87134.0</td>\n",
       "      <td>87134.0</td>\n",
       "      <td>None</td>\n",
       "      <td>NaN</td>\n",
       "      <td>2051.52</td>\n",
       "    </tr>\n",
       "  </tbody>\n",
       "</table>\n",
       "<p>5 rows × 69 columns</p>\n",
       "</div>"
      ],
      "text/plain": [
       "                      Sequence  Length            Modifications  \\\n",
       "10889           ASVSSATFSGHGAR      14  Acetyl (Protein N-term)   \n",
       "113936        SLDLFNCEVTNLNDYR      16               Unmodified   \n",
       "20446              DLTQMADELRR      11               Unmodified   \n",
       "112246  SGGSGGCSGAGGASNCGTGSGR      22               Unmodified   \n",
       "137576            VPDGMVGLIIGR      12               Unmodified   \n",
       "\n",
       "                                Modified sequence Oxidation (M) Probabilities  \\\n",
       "10889   _(Acetyl (Protein N-term))ASVSSATFSGHGAR_                         NaN   \n",
       "113936                         _SLDLFNCEVTNLNDYR_                         NaN   \n",
       "20446                               _DLTQMADELRR_                         NaN   \n",
       "112246                   _SGGSGGCSGAGGASNCGTGSGR_                         NaN   \n",
       "137576                             _VPDGMVGLIIGR_                         NaN   \n",
       "\n",
       "       Oxidation (M) Score Diffs  Acetyl (Protein N-term)  Oxidation (M)  \\\n",
       "10889                        NaN                        1              0   \n",
       "113936                       NaN                        0              0   \n",
       "20446                        NaN                        0              0   \n",
       "112246                       NaN                        0              0   \n",
       "137576                       NaN                        0              0   \n",
       "\n",
       "        Missed cleavages                                     Proteins  ...  \\\n",
       "10889                  0                        sp|Q7Z4H3|HDDC2_HUMAN  ...   \n",
       "113936                 0  sp|P39687|AN32A_HUMAN;sp|Q92688|AN32B_HUMAN  ...   \n",
       "20446                  1                        sp|P41227|NAA10_HUMAN  ...   \n",
       "112246                 0                        sp|Q15005|SPCS2_HUMAN  ...   \n",
       "137576                 0                        sp|Q92945|FUBP2_HUMAN  ...   \n",
       "\n",
       "       Potential contaminant      id Protein group IDs Peptide ID  \\\n",
       "10889                    NaN   10889              2247       1045   \n",
       "113936                   NaN  113936         1080;2545      10943   \n",
       "20446                    NaN   20446              1105       1966   \n",
       "112246                   NaN  112246              1872      10782   \n",
       "137576                   NaN  137576              2571      13199   \n",
       "\n",
       "       Mod. peptide ID  MS/MS IDs  Best MS/MS  Oxidation (M) site IDs  \\\n",
       "10889             1068     6771.0      6771.0                    None   \n",
       "113936           11177    71858.0     71858.0                    None   \n",
       "20446             2005    12874.0     12874.0                    None   \n",
       "112246           11013    70825.0     70825.0                    None   \n",
       "137576           13478    87134.0     87134.0                    None   \n",
       "\n",
       "        Taxonomy IDs  retention_time_secs  \n",
       "10889            NaN              1665.84  \n",
       "113936           NaN              2066.76  \n",
       "20446            NaN              1845.60  \n",
       "112246           NaN               917.16  \n",
       "137576           NaN              2051.52  \n",
       "\n",
       "[5 rows x 69 columns]"
      ]
     },
     "execution_count": 32,
     "metadata": {},
     "output_type": "execute_result"
    }
   ],
   "source": [
    "mq_results_df[mq_results_df.Type=='TIMS-MULTI-MSMS'].sample(n=5)"
   ]
  },
  {
   "cell_type": "code",
   "execution_count": 58,
   "metadata": {},
   "outputs": [],
   "source": [
    "mq_results_df['id_species'] = mq_results_df.apply(lambda row: classify_protein(row.Proteins), axis=1)"
   ]
  },
  {
   "cell_type": "code",
   "execution_count": 70,
   "metadata": {},
   "outputs": [],
   "source": [
    "# count the number of runs each unique peptide was identified and extracted\n",
    "mq_counts_l = []\n",
    "for group_name,group_df in mq_results_df.groupby(unique_peptide_key, as_index=False):\n",
    "    identifications_l = group_df[group_df.Type=='TIMS-MULTI-MSMS']['Raw file'].unique()\n",
    "    extractions_l = group_df[group_df.Type=='TIMS-MULTI-MATCH']['Raw file'].unique()\n",
    "    transfer_count = len(set(extractions_l) - set(identifications_l))\n",
    "    species = classify_protein(' '.join(group_df.Proteins.tolist()))\n",
    "    mq_counts_l.append({'peptide_key':group_name, 'species':species, 'transfer_count':transfer_count, 'id_count_all_runs':len(identifications_l), 'id_runs':identifications_l, 'ext_count_all_runs':len(extractions_l), 'ext_runs':extractions_l})\n",
    "mq_counts_df = pd.DataFrame(mq_counts_l)"
   ]
  },
  {
   "cell_type": "code",
   "execution_count": 71,
   "metadata": {},
   "outputs": [
    {
     "data": {
      "text/html": [
       "<div>\n",
       "<style scoped>\n",
       "    .dataframe tbody tr th:only-of-type {\n",
       "        vertical-align: middle;\n",
       "    }\n",
       "\n",
       "    .dataframe tbody tr th {\n",
       "        vertical-align: top;\n",
       "    }\n",
       "\n",
       "    .dataframe thead th {\n",
       "        text-align: right;\n",
       "    }\n",
       "</style>\n",
       "<table border=\"1\" class=\"dataframe\">\n",
       "  <thead>\n",
       "    <tr style=\"text-align: right;\">\n",
       "      <th></th>\n",
       "      <th>peptide_key</th>\n",
       "      <th>species</th>\n",
       "      <th>transfer_count</th>\n",
       "      <th>id_count_all_runs</th>\n",
       "      <th>id_runs</th>\n",
       "      <th>ext_count_all_runs</th>\n",
       "      <th>ext_runs</th>\n",
       "    </tr>\n",
       "  </thead>\n",
       "  <tbody>\n",
       "    <tr>\n",
       "      <th>4486</th>\n",
       "      <td>(GGILAIASLIGVEGGNATR, Unmodified, 2)</td>\n",
       "      <td>Human</td>\n",
       "      <td>8</td>\n",
       "      <td>2</td>\n",
       "      <td>[P3856_YHE010_2_Slot1-1_1_5094, P3856_YHE010_5...</td>\n",
       "      <td>8</td>\n",
       "      <td>[P3856_YHE010_3_Slot1-1_1_5095, P3856_YHE010_4...</td>\n",
       "    </tr>\n",
       "    <tr>\n",
       "      <th>1083</th>\n",
       "      <td>(ASVPTIQDQASAMQLSQCAK, Unmodified, 2)</td>\n",
       "      <td>Human</td>\n",
       "      <td>0</td>\n",
       "      <td>10</td>\n",
       "      <td>[P3856_YHE010_2_Slot1-1_1_5094, P3856_YHE010_3...</td>\n",
       "      <td>3</td>\n",
       "      <td>[P3856_YHE010_4_Slot1-1_1_5096, P3856_YHE010_6...</td>\n",
       "    </tr>\n",
       "    <tr>\n",
       "      <th>11364</th>\n",
       "      <td>(SIYVGNVDYGATAEELEAHFHGCGSVNR, Unmodified, 4)</td>\n",
       "      <td>Human</td>\n",
       "      <td>5</td>\n",
       "      <td>2</td>\n",
       "      <td>[P3856_YHE010_4_Slot1-1_1_5096, P3856_YHE010_1...</td>\n",
       "      <td>5</td>\n",
       "      <td>[P3856_YHE010_2_Slot1-1_1_5094, P3856_YHE010_3...</td>\n",
       "    </tr>\n",
       "    <tr>\n",
       "      <th>1629</th>\n",
       "      <td>(DDDGGEDDDANCNLICGDEYGPETR, Unmodified, 2)</td>\n",
       "      <td>Human</td>\n",
       "      <td>0</td>\n",
       "      <td>10</td>\n",
       "      <td>[P3856_YHE010_2_Slot1-1_1_5094, P3856_YHE010_3...</td>\n",
       "      <td>0</td>\n",
       "      <td>[]</td>\n",
       "    </tr>\n",
       "    <tr>\n",
       "      <th>2436</th>\n",
       "      <td>(EAAGTTAAAGTGGATEQPPR, Unmodified, 2)</td>\n",
       "      <td>Human</td>\n",
       "      <td>4</td>\n",
       "      <td>1</td>\n",
       "      <td>[P3856_YHE010_10_Slot1-1_1_5102]</td>\n",
       "      <td>4</td>\n",
       "      <td>[P3856_YHE010_2_Slot1-1_1_5094, P3856_YHE010_6...</td>\n",
       "    </tr>\n",
       "  </tbody>\n",
       "</table>\n",
       "</div>"
      ],
      "text/plain": [
       "                                         peptide_key species  transfer_count  \\\n",
       "4486            (GGILAIASLIGVEGGNATR, Unmodified, 2)   Human               8   \n",
       "1083           (ASVPTIQDQASAMQLSQCAK, Unmodified, 2)   Human               0   \n",
       "11364  (SIYVGNVDYGATAEELEAHFHGCGSVNR, Unmodified, 4)   Human               5   \n",
       "1629      (DDDGGEDDDANCNLICGDEYGPETR, Unmodified, 2)   Human               0   \n",
       "2436           (EAAGTTAAAGTGGATEQPPR, Unmodified, 2)   Human               4   \n",
       "\n",
       "       id_count_all_runs                                            id_runs  \\\n",
       "4486                   2  [P3856_YHE010_2_Slot1-1_1_5094, P3856_YHE010_5...   \n",
       "1083                  10  [P3856_YHE010_2_Slot1-1_1_5094, P3856_YHE010_3...   \n",
       "11364                  2  [P3856_YHE010_4_Slot1-1_1_5096, P3856_YHE010_1...   \n",
       "1629                  10  [P3856_YHE010_2_Slot1-1_1_5094, P3856_YHE010_3...   \n",
       "2436                   1                   [P3856_YHE010_10_Slot1-1_1_5102]   \n",
       "\n",
       "       ext_count_all_runs                                           ext_runs  \n",
       "4486                    8  [P3856_YHE010_3_Slot1-1_1_5095, P3856_YHE010_4...  \n",
       "1083                    3  [P3856_YHE010_4_Slot1-1_1_5096, P3856_YHE010_6...  \n",
       "11364                   5  [P3856_YHE010_2_Slot1-1_1_5094, P3856_YHE010_3...  \n",
       "1629                    0                                                 []  \n",
       "2436                    4  [P3856_YHE010_2_Slot1-1_1_5094, P3856_YHE010_6...  "
      ]
     },
     "execution_count": 71,
     "metadata": {},
     "output_type": "execute_result"
    }
   ],
   "source": [
    "mq_counts_df.sample(n=5)"
   ]
  },
  {
   "cell_type": "code",
   "execution_count": 94,
   "metadata": {},
   "outputs": [],
   "source": [
    "# remove all failed extractions as we did for TFD/E\n",
    "mq_counts_df = mq_counts_df[(mq_counts_df.ext_count_all_runs>0)]"
   ]
  },
  {
   "cell_type": "markdown",
   "metadata": {},
   "source": [
    "#### false identification rate"
   ]
  },
  {
   "cell_type": "code",
   "execution_count": 95,
   "metadata": {},
   "outputs": [
    {
     "data": {
      "text/plain": [
       "11275"
      ]
     },
     "execution_count": 95,
     "metadata": {},
     "output_type": "execute_result"
    }
   ],
   "source": [
    "number_of_unique_peptides_mq = len(mq_counts_df)\n",
    "number_of_unique_peptides_mq"
   ]
  },
  {
   "cell_type": "code",
   "execution_count": 96,
   "metadata": {},
   "outputs": [
    {
     "data": {
      "text/plain": [
       "36"
      ]
     },
     "execution_count": 96,
     "metadata": {},
     "output_type": "execute_result"
    }
   ],
   "source": [
    "number_of_unique_nonhuman_peptides_mq = len(mq_counts_df[(mq_counts_df.species != \"Human\")])\n",
    "number_of_unique_nonhuman_peptides_mq"
   ]
  },
  {
   "cell_type": "code",
   "execution_count": 97,
   "metadata": {},
   "outputs": [
    {
     "data": {
      "text/plain": [
       "0.31929046563192903"
      ]
     },
     "execution_count": 97,
     "metadata": {},
     "output_type": "execute_result"
    }
   ],
   "source": [
    "FDR_detection_mq = number_of_unique_nonhuman_peptides_mq/number_of_unique_peptides_mq*100\n",
    "FDR_detection_mq"
   ]
  },
  {
   "cell_type": "markdown",
   "metadata": {},
   "source": [
    "#### false transfer rate"
   ]
  },
  {
   "cell_type": "code",
   "execution_count": 99,
   "metadata": {},
   "outputs": [
    {
     "data": {
      "text/plain": [
       "37298"
      ]
     },
     "execution_count": 99,
     "metadata": {},
     "output_type": "execute_result"
    }
   ],
   "source": [
    "total_transfer_count_mq = mq_counts_df.transfer_count.sum()\n",
    "total_transfer_count_mq"
   ]
  },
  {
   "cell_type": "code",
   "execution_count": 100,
   "metadata": {},
   "outputs": [
    {
     "data": {
      "text/plain": [
       "83"
      ]
     },
     "execution_count": 100,
     "metadata": {},
     "output_type": "execute_result"
    }
   ],
   "source": [
    "false_transfer_count_mq = mq_counts_df[(mq_counts_df.species != \"Human\")].transfer_count.sum()\n",
    "false_transfer_count_mq"
   ]
  },
  {
   "cell_type": "code",
   "execution_count": 101,
   "metadata": {},
   "outputs": [
    {
     "data": {
      "text/plain": [
       "0.2225320392514344"
      ]
     },
     "execution_count": 101,
     "metadata": {},
     "output_type": "execute_result"
    }
   ],
   "source": [
    "false_transfer_rate = false_transfer_count_mq / total_transfer_count_mq * 100.0\n",
    "false_transfer_rate"
   ]
  },
  {
   "cell_type": "code",
   "execution_count": 98,
   "metadata": {},
   "outputs": [],
   "source": [
    "mq_nonhuman_counts_df = mq_counts_df[(mq_counts_df.species != \"Human\")]"
   ]
  },
  {
   "cell_type": "code",
   "execution_count": 102,
   "metadata": {},
   "outputs": [
    {
     "data": {
      "image/png": "[encoded data removed]",
      "text/plain": [
       "<Figure size 576x576 with 1 Axes>"
      ]
     },
     "metadata": {
      "needs_background": "light"
     },
     "output_type": "display_data"
    }
   ],
   "source": [
    "f, ax1 = plt.subplots()\n",
    "f.set_figheight(8)\n",
    "f.set_figwidth(8)\n",
    "plt.margins(0.06)\n",
    "\n",
    "counts = np.bincount(mq_nonhuman_counts_df.id_count_all_runs)\n",
    "number_of_runs_in_subset = 10\n",
    "\n",
    "ax1.bar(range(number_of_runs_in_subset+1), counts, width=0.8, align='center')\n",
    "plt.xlabel('number of files in which a non-human modified sequence-charge was identified')\n",
    "plt.ylabel('frequency')\n",
    "ax1.set(xticks=range(1,number_of_runs_in_subset+1), xlim=[0, number_of_runs_in_subset+1])\n",
    "# plt.ylim((0,18000))\n",
    "\n",
    "plt.show()"
   ]
  },
  {
   "cell_type": "code",
   "execution_count": 103,
   "metadata": {},
   "outputs": [
    {
     "data": {
      "image/png": "[encoded data removed]",
      "text/plain": [
       "<Figure size 576x576 with 1 Axes>"
      ]
     },
     "metadata": {
      "needs_background": "light"
     },
     "output_type": "display_data"
    }
   ],
   "source": [
    "f, ax1 = plt.subplots()\n",
    "f.set_figheight(8)\n",
    "f.set_figwidth(8)\n",
    "plt.margins(0.06)\n",
    "\n",
    "counts = np.bincount(mq_nonhuman_counts_df.ext_count_all_runs)\n",
    "number_of_runs_in_subset = 10\n",
    "\n",
    "ax1.bar(range(number_of_runs_in_subset+1), counts, width=0.8, align='center')\n",
    "plt.xlabel('number of files in which a non-human modified sequence-charge was extracted')\n",
    "plt.ylabel('frequency')\n",
    "ax1.set(xticks=range(0,number_of_runs_in_subset+1), xlim=[-1, number_of_runs_in_subset+1])\n",
    "# plt.ylim((0,18000))\n",
    "\n",
    "plt.show()"
   ]
  },
  {
   "cell_type": "code",
   "execution_count": null,
   "metadata": {},
   "outputs": [],
   "source": []
  }
 ],
 "metadata": {
  "kernelspec": {
   "display_name": "Python 3",
   "language": "python",
   "name": "python3"
  },
  "language_info": {
   "codemirror_mode": {
    "name": "ipython",
    "version": 3
   },
   "file_extension": ".py",
   "mimetype": "text/x-python",
   "name": "python",
   "nbconvert_exporter": "python",
   "pygments_lexer": "ipython3",
   "version": "3.8.5"
  }
 },
 "nbformat": 4,
 "nbformat_minor": 4
}
