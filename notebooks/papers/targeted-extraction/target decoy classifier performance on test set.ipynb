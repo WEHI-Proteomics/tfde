{
 "cells": [
  {
   "cell_type": "code",
   "execution_count": 11,
   "metadata": {},
   "outputs": [],
   "source": [
    "import pickle\n",
    "import numpy as np\n",
    "from sklearn.metrics import classification_report, confusion_matrix"
   ]
  },
  {
   "cell_type": "code",
   "execution_count": 6,
   "metadata": {},
   "outputs": [],
   "source": [
    "RESULTS_DIR = '/media/big-ssd/experiments/P3856_YHE211'\n",
    "TARGET_DECOY_MODEL_DIR = \"{}/target-decoy-models\".format(RESULTS_DIR)\n",
    "RUN_NAME = 'P3856_YHE211_1_Slot1-1_1_5104'"
   ]
  },
  {
   "cell_type": "code",
   "execution_count": 8,
   "metadata": {},
   "outputs": [],
   "source": [
    "# load the test data\n",
    "X_test = np.load('{}/X_test.npy'.format(TARGET_DECOY_MODEL_DIR), allow_pickle=True)\n",
    "y_test = np.load('{}/y_test.npy'.format(TARGET_DECOY_MODEL_DIR), allow_pickle=True)"
   ]
  },
  {
   "cell_type": "code",
   "execution_count": 10,
   "metadata": {},
   "outputs": [],
   "source": [
    "# load the classifier\n",
    "CLASSIFIER_MODEL_FILE_NAME = '{}/target-decoy-classifier.pkl'.format(TARGET_DECOY_MODEL_DIR)\n",
    "\n",
    "with open(CLASSIFIER_MODEL_FILE_NAME, 'rb') as file:\n",
    "    estimator = pickle.load(file)"
   ]
  },
  {
   "cell_type": "code",
   "execution_count": 12,
   "metadata": {},
   "outputs": [
    {
     "name": "stdout",
     "output_type": "stream",
     "text": [
      "make predictions on the test set\n",
      "Confusion Matrix:\n",
      "[[0.97788126 0.02211874]\n",
      " [0.01185235 0.98814765]]\n",
      "false discovery rate (i.e. decoy was identified as a target): 0.011852353538774127\n",
      "\n",
      "Classification Report\n",
      "              precision    recall  f1-score   support\n",
      "\n",
      "       decoy       0.98      0.99      0.98      8859\n",
      "      target       0.99      0.98      0.98      8590\n",
      "\n",
      "    accuracy                           0.98     17449\n",
      "   macro avg       0.98      0.98      0.98     17449\n",
      "weighted avg       0.98      0.98      0.98     17449\n",
      "\n"
     ]
    }
   ],
   "source": [
    "print(\"make predictions on the test set\")\n",
    "predictions = estimator.predict(X_test)\n",
    "\n",
    "# display some interesting model attributes\n",
    "cm = confusion_matrix(y_test, predictions, labels=[\"target\", \"decoy\"])\n",
    "cm = cm.astype('float') / cm.sum(axis=1)[:, np.newaxis]\n",
    "print(\"Confusion Matrix:\")\n",
    "print(cm)\n",
    "print('false discovery rate (i.e. decoy was identified as a target): {}'.format(cm[1,0]))\n",
    "print()\n",
    "print(\"Classification Report\")\n",
    "print(classification_report(y_test, predictions))\n"
   ]
  },
  {
   "cell_type": "code",
   "execution_count": null,
   "metadata": {},
   "outputs": [],
   "source": []
  }
 ],
 "metadata": {
  "kernelspec": {
   "display_name": "Python 3",
   "language": "python",
   "name": "python3"
  },
  "language_info": {
   "codemirror_mode": {
    "name": "ipython",
    "version": 3
   },
   "file_extension": ".py",
   "mimetype": "text/x-python",
   "name": "python",
   "nbconvert_exporter": "python",
   "pygments_lexer": "ipython3",
   "version": "3.8.5"
  }
 },
 "nbformat": 4,
 "nbformat_minor": 4
}
