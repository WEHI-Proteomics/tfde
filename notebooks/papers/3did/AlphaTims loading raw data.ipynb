{
 "cells": [
  {
   "cell_type": "code",
   "execution_count": 1,
   "metadata": {},
   "outputs": [],
   "source": [
    "import random\n",
    "import numpy as np\n",
    "import time\n",
    "import pandas as pd\n",
    "from os.path import expanduser\n",
    "import sys"
   ]
  },
  {
   "cell_type": "code",
   "execution_count": 2,
   "metadata": {},
   "outputs": [],
   "source": [
    "import alphatims.bruker\n",
    "import alphatims.utils"
   ]
  },
  {
   "cell_type": "code",
   "execution_count": 3,
   "metadata": {},
   "outputs": [],
   "source": [
    "log_file_name = alphatims.utils.set_logger(\n",
    "    log_file_name=\"tutorial_log.txt\",\n",
    "    overwrite=True\n",
    ")"
   ]
  },
  {
   "cell_type": "code",
   "execution_count": 4,
   "metadata": {},
   "outputs": [
    {
     "name": "stdout",
     "output_type": "stream",
     "text": [
      "2021-08-13 09:50:38> Platform information:\n",
      "2021-08-13 09:50:38> system        - Linux\n",
      "2021-08-13 09:50:38> release       - 4.15.0-153-generic\n",
      "2021-08-13 09:50:38> version       - #160-Ubuntu SMP Thu Jul 29 06:54:29 UTC 2021\n",
      "2021-08-13 09:50:38> machine       - x86_64\n",
      "2021-08-13 09:50:38> processor     - x86_64\n",
      "2021-08-13 09:50:38> cpu count     - 12\n",
      "2021-08-13 09:50:38> cpu frequency - 1336.71 Mhz\n",
      "2021-08-13 09:50:38> ram           - 61.6/62.8 Gb (available/total)\n",
      "2021-08-13 09:50:38> \n"
     ]
    }
   ],
   "source": [
    "alphatims.utils.show_platform_info()"
   ]
  },
  {
   "cell_type": "code",
   "execution_count": 5,
   "metadata": {},
   "outputs": [
    {
     "name": "stdout",
     "output_type": "stream",
     "text": [
      "2021-08-13 09:50:38> Python information:\n",
      "2021-08-13 09:50:38> alphatims  - 0.2.8\n",
      "2021-08-13 09:50:38> bokeh      - \n",
      "2021-08-13 09:50:38> click      - 8.0.1\n",
      "2021-08-13 09:50:38> datashader - \n",
      "2021-08-13 09:50:38> h5py       - 3.1.0\n",
      "2021-08-13 09:50:38> hvplot     - \n",
      "2021-08-13 09:50:38> numba      - 0.53.1\n",
      "2021-08-13 09:50:38> pandas     - 1.3.1\n",
      "2021-08-13 09:50:38> psutil     - 5.8.0\n",
      "2021-08-13 09:50:38> python     - 3.8.5\n",
      "2021-08-13 09:50:38> python-lzf - \n",
      "2021-08-13 09:50:38> pyzstd     - 0.14.4\n",
      "2021-08-13 09:50:38> selenium   - \n",
      "2021-08-13 09:50:38> tqdm       - 4.61.1\n",
      "2021-08-13 09:50:38> \n"
     ]
    }
   ],
   "source": [
    "alphatims.utils.show_python_info()"
   ]
  },
  {
   "cell_type": "code",
   "execution_count": 6,
   "metadata": {},
   "outputs": [],
   "source": [
    "file_name = '/media/big-ssd/experiments/P3856/raw-databases/P3856_YHE211_1_Slot1-1_1_5104.d'"
   ]
  },
  {
   "cell_type": "code",
   "execution_count": 31,
   "metadata": {},
   "outputs": [],
   "source": [
    "rt_lower = 1650.\n",
    "rt_upper = 2200.\n",
    "mz_lower = 780.\n",
    "mz_upper = 795.\n",
    "scan_lower = 450\n",
    "scan_upper = 900"
   ]
  },
  {
   "cell_type": "code",
   "execution_count": 9,
   "metadata": {},
   "outputs": [
    {
     "name": "stdout",
     "output_type": "stream",
     "text": [
      "2021-08-13 09:51:01> Importing data from /media/big-ssd/experiments/P3856/raw-databases/P3856_YHE211_1_Slot1-1_1_5104.d\n",
      "2021-08-13 09:51:01> Reading frame metadata for /media/big-ssd/experiments/P3856/raw-databases/P3856_YHE211_1_Slot1-1_1_5104.d\n",
      "2021-08-13 09:51:02> Reading 25,701 frames with 1,292,274,220 detector strikes for /media/big-ssd/experiments/P3856/raw-databases/P3856_YHE211_1_Slot1-1_1_5104.d\n"
     ]
    },
    {
     "name": "stderr",
     "output_type": "stream",
     "text": [
      "100%|██████████| 25701/25701 [00:22<00:00, 1163.38it/s]\n"
     ]
    },
    {
     "name": "stdout",
     "output_type": "stream",
     "text": [
      "2021-08-13 09:51:24> Indexing /media/big-ssd/experiments/P3856/raw-databases/P3856_YHE211_1_Slot1-1_1_5104.d...\n",
      "2021-08-13 09:51:24> Opening handle for /media/big-ssd/experiments/P3856/raw-databases/P3856_YHE211_1_Slot1-1_1_5104.d\n",
      "2021-08-13 09:51:24> Fetching mobility values from /media/big-ssd/experiments/P3856/raw-databases/P3856_YHE211_1_Slot1-1_1_5104.d\n",
      "2021-08-13 09:51:24> Closing handle for /media/big-ssd/experiments/P3856/raw-databases/P3856_YHE211_1_Slot1-1_1_5104.d\n",
      "2021-08-13 09:51:24> Opening handle for /media/big-ssd/experiments/P3856/raw-databases/P3856_YHE211_1_Slot1-1_1_5104.d\n",
      "2021-08-13 09:51:24> Fetching mz values from /media/big-ssd/experiments/P3856/raw-databases/P3856_YHE211_1_Slot1-1_1_5104.d\n",
      "2021-08-13 09:51:24> Closing handle for /media/big-ssd/experiments/P3856/raw-databases/P3856_YHE211_1_Slot1-1_1_5104.d\n",
      "2021-08-13 09:51:26> Succesfully imported data from /media/big-ssd/experiments/P3856/raw-databases/P3856_YHE211_1_Slot1-1_1_5104.d\n"
     ]
    }
   ],
   "source": [
    "data = alphatims.bruker.TimsTOF(file_name)"
   ]
  },
  {
   "cell_type": "code",
   "execution_count": 40,
   "metadata": {},
   "outputs": [],
   "source": [
    "df = data[\n",
    "    {\n",
    "        \"rt_values\": slice(rt_lower, rt_upper),\n",
    "        \"mz_values\": slice(mz_lower, mz_upper),\n",
    "        \"scan_indices\": slice(scan_lower, scan_upper),\n",
    "        \"precursor_indices\": 0\n",
    "    }\n",
    "]"
   ]
  },
  {
   "cell_type": "code",
   "execution_count": 41,
   "metadata": {},
   "outputs": [
    {
     "data": {
      "text/plain": [
       "Index(['raw_indices', 'frame_indices', 'scan_indices', 'precursor_indices',\n",
       "       'push_indices', 'tof_indices', 'rt_values', 'rt_values_min',\n",
       "       'mobility_values', 'quad_low_mz_values', 'quad_high_mz_values',\n",
       "       'mz_values', 'intensity_values'],\n",
       "      dtype='object')"
      ]
     },
     "execution_count": 41,
     "metadata": {},
     "output_type": "execute_result"
    }
   ],
   "source": [
    "df.columns"
   ]
  },
  {
   "cell_type": "code",
   "execution_count": 39,
   "metadata": {},
   "outputs": [
    {
     "name": "stdout",
     "output_type": "stream",
     "text": [
      "<class 'pandas.core.frame.DataFrame'>\n",
      "RangeIndex: 4564742 entries, 0 to 4564741\n",
      "Data columns (total 13 columns):\n",
      " #   Column               Dtype  \n",
      "---  ------               -----  \n",
      " 0   raw_indices          int64  \n",
      " 1   frame_indices        int64  \n",
      " 2   scan_indices         int64  \n",
      " 3   precursor_indices    int64  \n",
      " 4   push_indices         int64  \n",
      " 5   tof_indices          uint32 \n",
      " 6   rt_values            float64\n",
      " 7   rt_values_min        float64\n",
      " 8   mobility_values      float64\n",
      " 9   quad_low_mz_values   float64\n",
      " 10  quad_high_mz_values  float64\n",
      " 11  mz_values            float64\n",
      " 12  intensity_values     uint16 \n",
      "dtypes: float64(6), int64(5), uint16(1), uint32(1)\n",
      "memory usage: 409.2 MB\n"
     ]
    }
   ],
   "source": [
    "df.info()"
   ]
  },
  {
   "cell_type": "code",
   "execution_count": 43,
   "metadata": {},
   "outputs": [
    {
     "data": {
      "text/plain": [
       "2199.8037915865807"
      ]
     },
     "execution_count": 43,
     "metadata": {},
     "output_type": "execute_result"
    }
   ],
   "source": [
    "df.rt_values.max()"
   ]
  },
  {
   "cell_type": "markdown",
   "metadata": {},
   "source": [
    "#### save the raw data as an HDF"
   ]
  },
  {
   "cell_type": "code",
   "execution_count": 13,
   "metadata": {},
   "outputs": [
    {
     "name": "stdout",
     "output_type": "stream",
     "text": [
      "2021-08-13 09:51:44> Writing TimsTOF data to /home/daryl/P3856_YHE211_1_Slot1-1_1_5104.hdf.\n"
     ]
    },
    {
     "name": "stderr",
     "output_type": "stream",
     "text": [
      "100%|██████████| 31/31 [00:04<00:00,  7.51it/s]\n"
     ]
    },
    {
     "name": "stdout",
     "output_type": "stream",
     "text": [
      "2021-08-13 09:52:02> Succesfully wrote TimsTOF data to /home/daryl/P3856_YHE211_1_Slot1-1_1_5104.hdf.\n"
     ]
    }
   ],
   "source": [
    "hdf_file_name = data.save_as_hdf(\n",
    "    directory=expanduser('~'),\n",
    "    file_name=f\"{data.sample_name}.hdf\",\n",
    "    overwrite=True\n",
    ")"
   ]
  },
  {
   "cell_type": "code",
   "execution_count": 3,
   "metadata": {},
   "outputs": [],
   "source": [
    "hdf_file_name = '/home/daryl/P3856_YHE211_1_Slot1-1_1_5104.hdf'"
   ]
  },
  {
   "cell_type": "code",
   "execution_count": 4,
   "metadata": {},
   "outputs": [],
   "source": [
    "data = alphatims.bruker.TimsTOF(hdf_file_name)"
   ]
  },
  {
   "cell_type": "markdown",
   "metadata": {},
   "source": [
    "#### loading ms2"
   ]
  },
  {
   "cell_type": "code",
   "execution_count": 60,
   "metadata": {},
   "outputs": [],
   "source": [
    "df = data[\n",
    "    {\n",
    "        \"frame_indices\": slice(int(14700), int(14900)),\n",
    "        \"scan_indices\": slice(scan_lower, scan_upper),\n",
    "        \"precursor_indices\": slice(1, None)\n",
    "    }\n",
    "]"
   ]
  },
  {
   "cell_type": "code",
   "execution_count": 61,
   "metadata": {},
   "outputs": [
    {
     "data": {
      "text/html": [
       "<div>\n",
       "<style scoped>\n",
       "    .dataframe tbody tr th:only-of-type {\n",
       "        vertical-align: middle;\n",
       "    }\n",
       "\n",
       "    .dataframe tbody tr th {\n",
       "        vertical-align: top;\n",
       "    }\n",
       "\n",
       "    .dataframe thead th {\n",
       "        text-align: right;\n",
       "    }\n",
       "</style>\n",
       "<table border=\"1\" class=\"dataframe\">\n",
       "  <thead>\n",
       "    <tr style=\"text-align: right;\">\n",
       "      <th></th>\n",
       "      <th>raw_indices</th>\n",
       "      <th>frame_indices</th>\n",
       "      <th>scan_indices</th>\n",
       "      <th>precursor_indices</th>\n",
       "      <th>push_indices</th>\n",
       "      <th>tof_indices</th>\n",
       "      <th>rt_values</th>\n",
       "      <th>rt_values_min</th>\n",
       "      <th>mobility_values</th>\n",
       "      <th>quad_low_mz_values</th>\n",
       "      <th>quad_high_mz_values</th>\n",
       "      <th>mz_values</th>\n",
       "      <th>intensity_values</th>\n",
       "    </tr>\n",
       "  </thead>\n",
       "  <tbody>\n",
       "    <tr>\n",
       "      <th>0</th>\n",
       "      <td>790180764</td>\n",
       "      <td>14700</td>\n",
       "      <td>450</td>\n",
       "      <td>8981</td>\n",
       "      <td>13509750</td>\n",
       "      <td>151069</td>\n",
       "      <td>1659.761187</td>\n",
       "      <td>27.662686</td>\n",
       "      <td>1.089501</td>\n",
       "      <td>855.870619</td>\n",
       "      <td>858.870619</td>\n",
       "      <td>466.238998</td>\n",
       "      <td>52</td>\n",
       "    </tr>\n",
       "    <tr>\n",
       "      <th>1</th>\n",
       "      <td>790180765</td>\n",
       "      <td>14700</td>\n",
       "      <td>450</td>\n",
       "      <td>8981</td>\n",
       "      <td>13509750</td>\n",
       "      <td>170186</td>\n",
       "      <td>1659.761187</td>\n",
       "      <td>27.662686</td>\n",
       "      <td>1.089501</td>\n",
       "      <td>855.870619</td>\n",
       "      <td>858.870619</td>\n",
       "      <td>533.222076</td>\n",
       "      <td>83</td>\n",
       "    </tr>\n",
       "    <tr>\n",
       "      <th>2</th>\n",
       "      <td>790180766</td>\n",
       "      <td>14700</td>\n",
       "      <td>450</td>\n",
       "      <td>8981</td>\n",
       "      <td>13509750</td>\n",
       "      <td>180778</td>\n",
       "      <td>1659.761187</td>\n",
       "      <td>27.662686</td>\n",
       "      <td>1.089501</td>\n",
       "      <td>855.870619</td>\n",
       "      <td>858.870619</td>\n",
       "      <td>572.269738</td>\n",
       "      <td>10</td>\n",
       "    </tr>\n",
       "    <tr>\n",
       "      <th>3</th>\n",
       "      <td>790180767</td>\n",
       "      <td>14700</td>\n",
       "      <td>450</td>\n",
       "      <td>8981</td>\n",
       "      <td>13509750</td>\n",
       "      <td>194875</td>\n",
       "      <td>1659.761187</td>\n",
       "      <td>27.662686</td>\n",
       "      <td>1.089501</td>\n",
       "      <td>855.870619</td>\n",
       "      <td>858.870619</td>\n",
       "      <td>626.378707</td>\n",
       "      <td>40</td>\n",
       "    </tr>\n",
       "    <tr>\n",
       "      <th>4</th>\n",
       "      <td>790180768</td>\n",
       "      <td>14700</td>\n",
       "      <td>450</td>\n",
       "      <td>8981</td>\n",
       "      <td>13509750</td>\n",
       "      <td>241416</td>\n",
       "      <td>1659.761187</td>\n",
       "      <td>27.662686</td>\n",
       "      <td>1.089501</td>\n",
       "      <td>855.870619</td>\n",
       "      <td>858.870619</td>\n",
       "      <td>822.371458</td>\n",
       "      <td>86</td>\n",
       "    </tr>\n",
       "    <tr>\n",
       "      <th>...</th>\n",
       "      <td>...</td>\n",
       "      <td>...</td>\n",
       "      <td>...</td>\n",
       "      <td>...</td>\n",
       "      <td>...</td>\n",
       "      <td>...</td>\n",
       "      <td>...</td>\n",
       "      <td>...</td>\n",
       "      <td>...</td>\n",
       "      <td>...</td>\n",
       "      <td>...</td>\n",
       "      <td>...</td>\n",
       "      <td>...</td>\n",
       "    </tr>\n",
       "    <tr>\n",
       "      <th>512550</th>\n",
       "      <td>800163293</td>\n",
       "      <td>14899</td>\n",
       "      <td>877</td>\n",
       "      <td>10457</td>\n",
       "      <td>13693058</td>\n",
       "      <td>209313</td>\n",
       "      <td>1680.823740</td>\n",
       "      <td>28.013729</td>\n",
       "      <td>0.871247</td>\n",
       "      <td>539.584443</td>\n",
       "      <td>541.584443</td>\n",
       "      <td>684.329791</td>\n",
       "      <td>44</td>\n",
       "    </tr>\n",
       "    <tr>\n",
       "      <th>512551</th>\n",
       "      <td>800163294</td>\n",
       "      <td>14899</td>\n",
       "      <td>877</td>\n",
       "      <td>10457</td>\n",
       "      <td>13693058</td>\n",
       "      <td>231654</td>\n",
       "      <td>1680.823740</td>\n",
       "      <td>28.013729</td>\n",
       "      <td>0.871247</td>\n",
       "      <td>539.584443</td>\n",
       "      <td>541.584443</td>\n",
       "      <td>779.054216</td>\n",
       "      <td>9</td>\n",
       "    </tr>\n",
       "    <tr>\n",
       "      <th>512552</th>\n",
       "      <td>800163295</td>\n",
       "      <td>14899</td>\n",
       "      <td>877</td>\n",
       "      <td>10457</td>\n",
       "      <td>13693058</td>\n",
       "      <td>299518</td>\n",
       "      <td>1680.823740</td>\n",
       "      <td>28.013729</td>\n",
       "      <td>0.871247</td>\n",
       "      <td>539.584443</td>\n",
       "      <td>541.584443</td>\n",
       "      <td>1104.434468</td>\n",
       "      <td>9</td>\n",
       "    </tr>\n",
       "    <tr>\n",
       "      <th>512553</th>\n",
       "      <td>800163296</td>\n",
       "      <td>14899</td>\n",
       "      <td>878</td>\n",
       "      <td>10457</td>\n",
       "      <td>13693059</td>\n",
       "      <td>371418</td>\n",
       "      <td>1680.823740</td>\n",
       "      <td>28.013729</td>\n",
       "      <td>0.870733</td>\n",
       "      <td>539.584443</td>\n",
       "      <td>541.584443</td>\n",
       "      <td>1510.955775</td>\n",
       "      <td>9</td>\n",
       "    </tr>\n",
       "    <tr>\n",
       "      <th>512554</th>\n",
       "      <td>800163297</td>\n",
       "      <td>14899</td>\n",
       "      <td>879</td>\n",
       "      <td>10457</td>\n",
       "      <td>13693060</td>\n",
       "      <td>203926</td>\n",
       "      <td>1680.823740</td>\n",
       "      <td>28.013729</td>\n",
       "      <td>0.870219</td>\n",
       "      <td>539.584443</td>\n",
       "      <td>541.584443</td>\n",
       "      <td>662.407708</td>\n",
       "      <td>25</td>\n",
       "    </tr>\n",
       "  </tbody>\n",
       "</table>\n",
       "<p>512555 rows × 13 columns</p>\n",
       "</div>"
      ],
      "text/plain": [
       "        raw_indices  frame_indices  scan_indices  precursor_indices  \\\n",
       "0         790180764          14700           450               8981   \n",
       "1         790180765          14700           450               8981   \n",
       "2         790180766          14700           450               8981   \n",
       "3         790180767          14700           450               8981   \n",
       "4         790180768          14700           450               8981   \n",
       "...             ...            ...           ...                ...   \n",
       "512550    800163293          14899           877              10457   \n",
       "512551    800163294          14899           877              10457   \n",
       "512552    800163295          14899           877              10457   \n",
       "512553    800163296          14899           878              10457   \n",
       "512554    800163297          14899           879              10457   \n",
       "\n",
       "        push_indices  tof_indices    rt_values  rt_values_min  \\\n",
       "0           13509750       151069  1659.761187      27.662686   \n",
       "1           13509750       170186  1659.761187      27.662686   \n",
       "2           13509750       180778  1659.761187      27.662686   \n",
       "3           13509750       194875  1659.761187      27.662686   \n",
       "4           13509750       241416  1659.761187      27.662686   \n",
       "...              ...          ...          ...            ...   \n",
       "512550      13693058       209313  1680.823740      28.013729   \n",
       "512551      13693058       231654  1680.823740      28.013729   \n",
       "512552      13693058       299518  1680.823740      28.013729   \n",
       "512553      13693059       371418  1680.823740      28.013729   \n",
       "512554      13693060       203926  1680.823740      28.013729   \n",
       "\n",
       "        mobility_values  quad_low_mz_values  quad_high_mz_values    mz_values  \\\n",
       "0              1.089501          855.870619           858.870619   466.238998   \n",
       "1              1.089501          855.870619           858.870619   533.222076   \n",
       "2              1.089501          855.870619           858.870619   572.269738   \n",
       "3              1.089501          855.870619           858.870619   626.378707   \n",
       "4              1.089501          855.870619           858.870619   822.371458   \n",
       "...                 ...                 ...                  ...          ...   \n",
       "512550         0.871247          539.584443           541.584443   684.329791   \n",
       "512551         0.871247          539.584443           541.584443   779.054216   \n",
       "512552         0.871247          539.584443           541.584443  1104.434468   \n",
       "512553         0.870733          539.584443           541.584443  1510.955775   \n",
       "512554         0.870219          539.584443           541.584443   662.407708   \n",
       "\n",
       "        intensity_values  \n",
       "0                     52  \n",
       "1                     83  \n",
       "2                     10  \n",
       "3                     40  \n",
       "4                     86  \n",
       "...                  ...  \n",
       "512550                44  \n",
       "512551                 9  \n",
       "512552                 9  \n",
       "512553                 9  \n",
       "512554                25  \n",
       "\n",
       "[512555 rows x 13 columns]"
      ]
     },
     "execution_count": 61,
     "metadata": {},
     "output_type": "execute_result"
    }
   ],
   "source": [
    "df"
   ]
  },
  {
   "cell_type": "code",
   "execution_count": null,
   "metadata": {},
   "outputs": [],
   "source": []
  }
 ],
 "metadata": {
  "kernelspec": {
   "display_name": "Python 3",
   "language": "python",
   "name": "python3"
  },
  "language_info": {
   "codemirror_mode": {
    "name": "ipython",
    "version": 3
   },
   "file_extension": ".py",
   "mimetype": "text/x-python",
   "name": "python",
   "nbconvert_exporter": "python",
   "pygments_lexer": "ipython3",
   "version": "3.8.5"
  }
 },
 "nbformat": 4,
 "nbformat_minor": 4
}
