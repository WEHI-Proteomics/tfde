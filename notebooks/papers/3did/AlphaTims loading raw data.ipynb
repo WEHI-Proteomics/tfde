{
 "cells": [
  {
   "cell_type": "code",
   "execution_count": 1,
   "metadata": {},
   "outputs": [],
   "source": [
    "import random\n",
    "import numpy as np\n",
    "import time\n",
    "import pandas as pd\n",
    "from os.path import expanduser\n",
    "import sys"
   ]
  },
  {
   "cell_type": "code",
   "execution_count": 2,
   "metadata": {},
   "outputs": [],
   "source": [
    "import alphatims.bruker\n",
    "import alphatims.utils"
   ]
  },
  {
   "cell_type": "code",
   "execution_count": 3,
   "metadata": {},
   "outputs": [],
   "source": [
    "file_name = '/media/big-ssd/experiments/P3856/raw-databases/P3856_YHE211_1_Slot1-1_1_5104.d'"
   ]
  },
  {
   "cell_type": "code",
   "execution_count": 4,
   "metadata": {},
   "outputs": [],
   "source": [
    "rt_lower = 1.\n",
    "rt_upper = 3000.\n",
    "mz_lower = 100.\n",
    "mz_upper = 1700.\n",
    "scan_lower = 1\n",
    "scan_upper = 900"
   ]
  },
  {
   "cell_type": "code",
   "execution_count": 5,
   "metadata": {},
   "outputs": [
    {
     "name": "stderr",
     "output_type": "stream",
     "text": [
      "100%|██████████| 25701/25701 [00:32<00:00, 794.23it/s] \n"
     ]
    }
   ],
   "source": [
    "data = alphatims.bruker.TimsTOF(file_name)"
   ]
  },
  {
   "cell_type": "code",
   "execution_count": 8,
   "metadata": {},
   "outputs": [
    {
     "ename": "MemoryError",
     "evalue": "Unable to allocate 8.94 GiB for an array with shape (1199664583,) and data type float64",
     "output_type": "error",
     "traceback": [
      "\u001b[0;31m---------------------------------------------------------------------------\u001b[0m",
      "\u001b[0;31mMemoryError\u001b[0m                               Traceback (most recent call last)",
      "\u001b[0;32m<ipython-input-8-64b47b10a9cc>\u001b[0m in \u001b[0;36m<module>\u001b[0;34m\u001b[0m\n\u001b[0;32m----> 1\u001b[0;31m df = data[\n\u001b[0m\u001b[1;32m      2\u001b[0m     {\n\u001b[1;32m      3\u001b[0m         \u001b[0;34m\"rt_values\"\u001b[0m\u001b[0;34m:\u001b[0m \u001b[0mslice\u001b[0m\u001b[0;34m(\u001b[0m\u001b[0mrt_lower\u001b[0m\u001b[0;34m,\u001b[0m \u001b[0mrt_upper\u001b[0m\u001b[0;34m)\u001b[0m\u001b[0;34m,\u001b[0m\u001b[0;34m\u001b[0m\u001b[0;34m\u001b[0m\u001b[0m\n\u001b[1;32m      4\u001b[0m         \u001b[0;34m\"mz_values\"\u001b[0m\u001b[0;34m:\u001b[0m \u001b[0mslice\u001b[0m\u001b[0;34m(\u001b[0m\u001b[0mmz_lower\u001b[0m\u001b[0;34m,\u001b[0m \u001b[0mmz_upper\u001b[0m\u001b[0;34m)\u001b[0m\u001b[0;34m,\u001b[0m\u001b[0;34m\u001b[0m\u001b[0;34m\u001b[0m\u001b[0m\n\u001b[1;32m      5\u001b[0m         \u001b[0;34m\"scan_indices\"\u001b[0m\u001b[0;34m:\u001b[0m \u001b[0mslice\u001b[0m\u001b[0;34m(\u001b[0m\u001b[0mscan_lower\u001b[0m\u001b[0;34m,\u001b[0m \u001b[0mscan_upper\u001b[0m\u001b[0;34m)\u001b[0m\u001b[0;34m,\u001b[0m\u001b[0;34m\u001b[0m\u001b[0;34m\u001b[0m\u001b[0m\n",
      "\u001b[0;32m~/anaconda3/envs/py36/lib/python3.8/site-packages/alphatims/bruker.py\u001b[0m in \u001b[0;36m__getitem__\u001b[0;34m(self, keys)\u001b[0m\n\u001b[1;32m   1444\u001b[0m         )\n\u001b[1;32m   1445\u001b[0m         \u001b[0;32mif\u001b[0m \u001b[0mas_dataframe\u001b[0m\u001b[0;34m:\u001b[0m\u001b[0;34m\u001b[0m\u001b[0;34m\u001b[0m\u001b[0m\n\u001b[0;32m-> 1446\u001b[0;31m             \u001b[0;32mreturn\u001b[0m \u001b[0mself\u001b[0m\u001b[0;34m.\u001b[0m\u001b[0mas_dataframe\u001b[0m\u001b[0;34m(\u001b[0m\u001b[0mraw_indices\u001b[0m\u001b[0;34m)\u001b[0m\u001b[0;34m\u001b[0m\u001b[0;34m\u001b[0m\u001b[0m\n\u001b[0m\u001b[1;32m   1447\u001b[0m         \u001b[0;32melse\u001b[0m\u001b[0;34m:\u001b[0m\u001b[0;34m\u001b[0m\u001b[0;34m\u001b[0m\u001b[0m\n\u001b[1;32m   1448\u001b[0m             \u001b[0;32mreturn\u001b[0m \u001b[0mraw_indices\u001b[0m\u001b[0;34m\u001b[0m\u001b[0;34m\u001b[0m\u001b[0m\n",
      "\u001b[0;32m~/anaconda3/envs/py36/lib/python3.8/site-packages/alphatims/bruker.py\u001b[0m in \u001b[0;36mas_dataframe\u001b[0;34m(self, indices, raw_indices, frame_indices, scan_indices, quad_indices, tof_indices, precursor_indices, rt_values, rt_values_min, mobility_values, quad_mz_values, push_indices, mz_values, intensity_values, raw_indices_sorted)\u001b[0m\n\u001b[1;32m   1661\u001b[0m         \"\"\"\n\u001b[1;32m   1662\u001b[0m         return pd.DataFrame(\n\u001b[0;32m-> 1663\u001b[0;31m            self.convert_from_indices(\n\u001b[0m\u001b[1;32m   1664\u001b[0m                 \u001b[0mindices\u001b[0m\u001b[0;34m,\u001b[0m\u001b[0;34m\u001b[0m\u001b[0;34m\u001b[0m\u001b[0m\n\u001b[1;32m   1665\u001b[0m                 \u001b[0mreturn_raw_indices\u001b[0m\u001b[0;34m=\u001b[0m\u001b[0mraw_indices\u001b[0m\u001b[0;34m,\u001b[0m\u001b[0;34m\u001b[0m\u001b[0;34m\u001b[0m\u001b[0m\n",
      "\u001b[0;32m~/anaconda3/envs/py36/lib/python3.8/site-packages/alphatims/bruker.py\u001b[0m in \u001b[0;36mconvert_from_indices\u001b[0;34m(self, raw_indices, frame_indices, quad_indices, scan_indices, tof_indices, return_raw_indices, return_frame_indices, return_scan_indices, return_quad_indices, return_tof_indices, return_precursor_indices, return_rt_values, return_rt_values_min, return_mobility_values, return_quad_mz_values, return_push_indices, return_mz_values, return_intensity_values, raw_indices_sorted)\u001b[0m\n\u001b[1;32m   1328\u001b[0m             \u001b[0mresult\u001b[0m\u001b[0;34m[\u001b[0m\u001b[0;34m\"quad_high_mz_values\"\u001b[0m\u001b[0;34m]\u001b[0m \u001b[0;34m=\u001b[0m \u001b[0mhigh_mz_values\u001b[0m\u001b[0;34m\u001b[0m\u001b[0;34m\u001b[0m\u001b[0m\n\u001b[1;32m   1329\u001b[0m         \u001b[0;32mif\u001b[0m \u001b[0mreturn_mz_values\u001b[0m\u001b[0;34m:\u001b[0m\u001b[0;34m\u001b[0m\u001b[0;34m\u001b[0m\u001b[0m\n\u001b[0;32m-> 1330\u001b[0;31m             \u001b[0mresult\u001b[0m\u001b[0;34m[\u001b[0m\u001b[0;34m\"mz_values\"\u001b[0m\u001b[0;34m]\u001b[0m \u001b[0;34m=\u001b[0m \u001b[0mself\u001b[0m\u001b[0;34m.\u001b[0m\u001b[0mmz_values\u001b[0m\u001b[0;34m[\u001b[0m\u001b[0mtof_indices\u001b[0m\u001b[0;34m]\u001b[0m\u001b[0;34m\u001b[0m\u001b[0;34m\u001b[0m\u001b[0m\n\u001b[0m\u001b[1;32m   1331\u001b[0m         \u001b[0;32mif\u001b[0m \u001b[0mreturn_intensity_values\u001b[0m\u001b[0;34m:\u001b[0m\u001b[0;34m\u001b[0m\u001b[0;34m\u001b[0m\u001b[0m\n\u001b[1;32m   1332\u001b[0m             \u001b[0mresult\u001b[0m\u001b[0;34m[\u001b[0m\u001b[0;34m\"intensity_values\"\u001b[0m\u001b[0;34m]\u001b[0m \u001b[0;34m=\u001b[0m \u001b[0mself\u001b[0m\u001b[0;34m.\u001b[0m\u001b[0mintensity_values\u001b[0m\u001b[0;34m[\u001b[0m\u001b[0mraw_indices\u001b[0m\u001b[0;34m]\u001b[0m\u001b[0;34m\u001b[0m\u001b[0;34m\u001b[0m\u001b[0m\n",
      "\u001b[0;31mMemoryError\u001b[0m: Unable to allocate 8.94 GiB for an array with shape (1199664583,) and data type float64"
     ]
    }
   ],
   "source": [
    "df = data[\n",
    "    {\n",
    "        \"precursor_indices\": 0\n",
    "    }\n",
    "]"
   ]
  },
  {
   "cell_type": "code",
   "execution_count": 9,
   "metadata": {},
   "outputs": [
    {
     "data": {
      "text/plain": [
       "Index(['raw_indices', 'frame_indices', 'scan_indices', 'precursor_indices',\n",
       "       'push_indices', 'tof_indices', 'rt_values', 'rt_values_min',\n",
       "       'mobility_values', 'quad_low_mz_values', 'quad_high_mz_values',\n",
       "       'mz_values', 'intensity_values'],\n",
       "      dtype='object')"
      ]
     },
     "execution_count": 9,
     "metadata": {},
     "output_type": "execute_result"
    }
   ],
   "source": [
    "df.columns"
   ]
  },
  {
   "cell_type": "code",
   "execution_count": 10,
   "metadata": {},
   "outputs": [
    {
     "name": "stdout",
     "output_type": "stream",
     "text": [
      "<class 'pandas.core.frame.DataFrame'>\n",
      "RangeIndex: 136844 entries, 0 to 136843\n",
      "Data columns (total 13 columns):\n",
      " #   Column               Non-Null Count   Dtype  \n",
      "---  ------               --------------   -----  \n",
      " 0   raw_indices          136844 non-null  int64  \n",
      " 1   frame_indices        136844 non-null  int64  \n",
      " 2   scan_indices         136844 non-null  int64  \n",
      " 3   precursor_indices    136844 non-null  int64  \n",
      " 4   push_indices         136844 non-null  int64  \n",
      " 5   tof_indices          136844 non-null  uint32 \n",
      " 6   rt_values            136844 non-null  float64\n",
      " 7   rt_values_min        136844 non-null  float64\n",
      " 8   mobility_values      136844 non-null  float64\n",
      " 9   quad_low_mz_values   136844 non-null  float64\n",
      " 10  quad_high_mz_values  136844 non-null  float64\n",
      " 11  mz_values            136844 non-null  float64\n",
      " 12  intensity_values     136844 non-null  uint16 \n",
      "dtypes: float64(6), int64(5), uint16(1), uint32(1)\n",
      "memory usage: 12.3 MB\n"
     ]
    }
   ],
   "source": [
    "df.info()"
   ]
  },
  {
   "cell_type": "code",
   "execution_count": 11,
   "metadata": {},
   "outputs": [
    {
     "data": {
      "text/plain": [
       "(200, 6897)"
      ]
     },
     "execution_count": 11,
     "metadata": {},
     "output_type": "execute_result"
    }
   ],
   "source": [
    "df.intensity_values.min(), df.intensity_values.max()"
   ]
  },
  {
   "cell_type": "code",
   "execution_count": 12,
   "metadata": {},
   "outputs": [
    {
     "data": {
      "text/html": [
       "<div>\n",
       "<style scoped>\n",
       "    .dataframe tbody tr th:only-of-type {\n",
       "        vertical-align: middle;\n",
       "    }\n",
       "\n",
       "    .dataframe tbody tr th {\n",
       "        vertical-align: top;\n",
       "    }\n",
       "\n",
       "    .dataframe thead th {\n",
       "        text-align: right;\n",
       "    }\n",
       "</style>\n",
       "<table border=\"1\" class=\"dataframe\">\n",
       "  <thead>\n",
       "    <tr style=\"text-align: right;\">\n",
       "      <th></th>\n",
       "      <th>raw_indices</th>\n",
       "      <th>frame_indices</th>\n",
       "      <th>scan_indices</th>\n",
       "      <th>precursor_indices</th>\n",
       "      <th>push_indices</th>\n",
       "      <th>tof_indices</th>\n",
       "      <th>rt_values</th>\n",
       "      <th>rt_values_min</th>\n",
       "      <th>mobility_values</th>\n",
       "      <th>quad_low_mz_values</th>\n",
       "      <th>quad_high_mz_values</th>\n",
       "      <th>mz_values</th>\n",
       "      <th>intensity_values</th>\n",
       "    </tr>\n",
       "  </thead>\n",
       "  <tbody>\n",
       "    <tr>\n",
       "      <th>44531</th>\n",
       "      <td>869803237</td>\n",
       "      <td>16237</td>\n",
       "      <td>489</td>\n",
       "      <td>0</td>\n",
       "      <td>14922292</td>\n",
       "      <td>232652</td>\n",
       "      <td>1822.464558</td>\n",
       "      <td>30.374409</td>\n",
       "      <td>1.06966</td>\n",
       "      <td>-1.0</td>\n",
       "      <td>-1.0</td>\n",
       "      <td>783.428894</td>\n",
       "      <td>252</td>\n",
       "    </tr>\n",
       "    <tr>\n",
       "      <th>39010</th>\n",
       "      <td>855245079</td>\n",
       "      <td>15972</td>\n",
       "      <td>581</td>\n",
       "      <td>0</td>\n",
       "      <td>14678849</td>\n",
       "      <td>233095</td>\n",
       "      <td>1794.410645</td>\n",
       "      <td>29.906844</td>\n",
       "      <td>1.02278</td>\n",
       "      <td>-1.0</td>\n",
       "      <td>-1.0</td>\n",
       "      <td>785.374685</td>\n",
       "      <td>406</td>\n",
       "    </tr>\n",
       "    <tr>\n",
       "      <th>130</th>\n",
       "      <td>786243530</td>\n",
       "      <td>14617</td>\n",
       "      <td>561</td>\n",
       "      <td>0</td>\n",
       "      <td>13433584</td>\n",
       "      <td>233774</td>\n",
       "      <td>1650.972448</td>\n",
       "      <td>27.516207</td>\n",
       "      <td>1.03298</td>\n",
       "      <td>-1.0</td>\n",
       "      <td>-1.0</td>\n",
       "      <td>788.361744</td>\n",
       "      <td>639</td>\n",
       "    </tr>\n",
       "  </tbody>\n",
       "</table>\n",
       "</div>"
      ],
      "text/plain": [
       "       raw_indices  frame_indices  scan_indices  precursor_indices  \\\n",
       "44531    869803237          16237           489                  0   \n",
       "39010    855245079          15972           581                  0   \n",
       "130      786243530          14617           561                  0   \n",
       "\n",
       "       push_indices  tof_indices    rt_values  rt_values_min  mobility_values  \\\n",
       "44531      14922292       232652  1822.464558      30.374409          1.06966   \n",
       "39010      14678849       233095  1794.410645      29.906844          1.02278   \n",
       "130        13433584       233774  1650.972448      27.516207          1.03298   \n",
       "\n",
       "       quad_low_mz_values  quad_high_mz_values   mz_values  intensity_values  \n",
       "44531                -1.0                 -1.0  783.428894               252  \n",
       "39010                -1.0                 -1.0  785.374685               406  \n",
       "130                  -1.0                 -1.0  788.361744               639  "
      ]
     },
     "execution_count": 12,
     "metadata": {},
     "output_type": "execute_result"
    }
   ],
   "source": [
    "df.sample(n=3)"
   ]
  },
  {
   "cell_type": "markdown",
   "metadata": {},
   "source": [
    "#### save the raw data as an HDF"
   ]
  },
  {
   "cell_type": "code",
   "execution_count": 13,
   "metadata": {},
   "outputs": [
    {
     "name": "stdout",
     "output_type": "stream",
     "text": [
      "2021-08-13 09:51:44> Writing TimsTOF data to /home/daryl/P3856_YHE211_1_Slot1-1_1_5104.hdf.\n"
     ]
    },
    {
     "name": "stderr",
     "output_type": "stream",
     "text": [
      "100%|██████████| 31/31 [00:04<00:00,  7.51it/s]\n"
     ]
    },
    {
     "name": "stdout",
     "output_type": "stream",
     "text": [
      "2021-08-13 09:52:02> Succesfully wrote TimsTOF data to /home/daryl/P3856_YHE211_1_Slot1-1_1_5104.hdf.\n"
     ]
    }
   ],
   "source": [
    "hdf_file_name = data.save_as_hdf(\n",
    "    directory=expanduser('~'),\n",
    "    file_name=f\"{data.sample_name}.hdf\",\n",
    "    overwrite=True\n",
    ")"
   ]
  },
  {
   "cell_type": "code",
   "execution_count": 3,
   "metadata": {},
   "outputs": [],
   "source": [
    "hdf_file_name = '/home/daryl/P3856_YHE211_1_Slot1-1_1_5104.hdf'"
   ]
  },
  {
   "cell_type": "code",
   "execution_count": 4,
   "metadata": {},
   "outputs": [],
   "source": [
    "data = alphatims.bruker.TimsTOF(hdf_file_name)"
   ]
  },
  {
   "cell_type": "markdown",
   "metadata": {},
   "source": [
    "#### loading ms2"
   ]
  },
  {
   "cell_type": "code",
   "execution_count": 60,
   "metadata": {},
   "outputs": [],
   "source": [
    "df = data[\n",
    "    {\n",
    "        \"frame_indices\": slice(int(14700), int(14900)),\n",
    "        \"scan_indices\": slice(scan_lower, scan_upper),\n",
    "        \"precursor_indices\": slice(1, None)\n",
    "    }\n",
    "]"
   ]
  },
  {
   "cell_type": "code",
   "execution_count": 61,
   "metadata": {},
   "outputs": [
    {
     "data": {
      "text/html": [
       "<div>\n",
       "<style scoped>\n",
       "    .dataframe tbody tr th:only-of-type {\n",
       "        vertical-align: middle;\n",
       "    }\n",
       "\n",
       "    .dataframe tbody tr th {\n",
       "        vertical-align: top;\n",
       "    }\n",
       "\n",
       "    .dataframe thead th {\n",
       "        text-align: right;\n",
       "    }\n",
       "</style>\n",
       "<table border=\"1\" class=\"dataframe\">\n",
       "  <thead>\n",
       "    <tr style=\"text-align: right;\">\n",
       "      <th></th>\n",
       "      <th>raw_indices</th>\n",
       "      <th>frame_indices</th>\n",
       "      <th>scan_indices</th>\n",
       "      <th>precursor_indices</th>\n",
       "      <th>push_indices</th>\n",
       "      <th>tof_indices</th>\n",
       "      <th>rt_values</th>\n",
       "      <th>rt_values_min</th>\n",
       "      <th>mobility_values</th>\n",
       "      <th>quad_low_mz_values</th>\n",
       "      <th>quad_high_mz_values</th>\n",
       "      <th>mz_values</th>\n",
       "      <th>intensity_values</th>\n",
       "    </tr>\n",
       "  </thead>\n",
       "  <tbody>\n",
       "    <tr>\n",
       "      <th>0</th>\n",
       "      <td>790180764</td>\n",
       "      <td>14700</td>\n",
       "      <td>450</td>\n",
       "      <td>8981</td>\n",
       "      <td>13509750</td>\n",
       "      <td>151069</td>\n",
       "      <td>1659.761187</td>\n",
       "      <td>27.662686</td>\n",
       "      <td>1.089501</td>\n",
       "      <td>855.870619</td>\n",
       "      <td>858.870619</td>\n",
       "      <td>466.238998</td>\n",
       "      <td>52</td>\n",
       "    </tr>\n",
       "    <tr>\n",
       "      <th>1</th>\n",
       "      <td>790180765</td>\n",
       "      <td>14700</td>\n",
       "      <td>450</td>\n",
       "      <td>8981</td>\n",
       "      <td>13509750</td>\n",
       "      <td>170186</td>\n",
       "      <td>1659.761187</td>\n",
       "      <td>27.662686</td>\n",
       "      <td>1.089501</td>\n",
       "      <td>855.870619</td>\n",
       "      <td>858.870619</td>\n",
       "      <td>533.222076</td>\n",
       "      <td>83</td>\n",
       "    </tr>\n",
       "    <tr>\n",
       "      <th>2</th>\n",
       "      <td>790180766</td>\n",
       "      <td>14700</td>\n",
       "      <td>450</td>\n",
       "      <td>8981</td>\n",
       "      <td>13509750</td>\n",
       "      <td>180778</td>\n",
       "      <td>1659.761187</td>\n",
       "      <td>27.662686</td>\n",
       "      <td>1.089501</td>\n",
       "      <td>855.870619</td>\n",
       "      <td>858.870619</td>\n",
       "      <td>572.269738</td>\n",
       "      <td>10</td>\n",
       "    </tr>\n",
       "    <tr>\n",
       "      <th>3</th>\n",
       "      <td>790180767</td>\n",
       "      <td>14700</td>\n",
       "      <td>450</td>\n",
       "      <td>8981</td>\n",
       "      <td>13509750</td>\n",
       "      <td>194875</td>\n",
       "      <td>1659.761187</td>\n",
       "      <td>27.662686</td>\n",
       "      <td>1.089501</td>\n",
       "      <td>855.870619</td>\n",
       "      <td>858.870619</td>\n",
       "      <td>626.378707</td>\n",
       "      <td>40</td>\n",
       "    </tr>\n",
       "    <tr>\n",
       "      <th>4</th>\n",
       "      <td>790180768</td>\n",
       "      <td>14700</td>\n",
       "      <td>450</td>\n",
       "      <td>8981</td>\n",
       "      <td>13509750</td>\n",
       "      <td>241416</td>\n",
       "      <td>1659.761187</td>\n",
       "      <td>27.662686</td>\n",
       "      <td>1.089501</td>\n",
       "      <td>855.870619</td>\n",
       "      <td>858.870619</td>\n",
       "      <td>822.371458</td>\n",
       "      <td>86</td>\n",
       "    </tr>\n",
       "    <tr>\n",
       "      <th>...</th>\n",
       "      <td>...</td>\n",
       "      <td>...</td>\n",
       "      <td>...</td>\n",
       "      <td>...</td>\n",
       "      <td>...</td>\n",
       "      <td>...</td>\n",
       "      <td>...</td>\n",
       "      <td>...</td>\n",
       "      <td>...</td>\n",
       "      <td>...</td>\n",
       "      <td>...</td>\n",
       "      <td>...</td>\n",
       "      <td>...</td>\n",
       "    </tr>\n",
       "    <tr>\n",
       "      <th>512550</th>\n",
       "      <td>800163293</td>\n",
       "      <td>14899</td>\n",
       "      <td>877</td>\n",
       "      <td>10457</td>\n",
       "      <td>13693058</td>\n",
       "      <td>209313</td>\n",
       "      <td>1680.823740</td>\n",
       "      <td>28.013729</td>\n",
       "      <td>0.871247</td>\n",
       "      <td>539.584443</td>\n",
       "      <td>541.584443</td>\n",
       "      <td>684.329791</td>\n",
       "      <td>44</td>\n",
       "    </tr>\n",
       "    <tr>\n",
       "      <th>512551</th>\n",
       "      <td>800163294</td>\n",
       "      <td>14899</td>\n",
       "      <td>877</td>\n",
       "      <td>10457</td>\n",
       "      <td>13693058</td>\n",
       "      <td>231654</td>\n",
       "      <td>1680.823740</td>\n",
       "      <td>28.013729</td>\n",
       "      <td>0.871247</td>\n",
       "      <td>539.584443</td>\n",
       "      <td>541.584443</td>\n",
       "      <td>779.054216</td>\n",
       "      <td>9</td>\n",
       "    </tr>\n",
       "    <tr>\n",
       "      <th>512552</th>\n",
       "      <td>800163295</td>\n",
       "      <td>14899</td>\n",
       "      <td>877</td>\n",
       "      <td>10457</td>\n",
       "      <td>13693058</td>\n",
       "      <td>299518</td>\n",
       "      <td>1680.823740</td>\n",
       "      <td>28.013729</td>\n",
       "      <td>0.871247</td>\n",
       "      <td>539.584443</td>\n",
       "      <td>541.584443</td>\n",
       "      <td>1104.434468</td>\n",
       "      <td>9</td>\n",
       "    </tr>\n",
       "    <tr>\n",
       "      <th>512553</th>\n",
       "      <td>800163296</td>\n",
       "      <td>14899</td>\n",
       "      <td>878</td>\n",
       "      <td>10457</td>\n",
       "      <td>13693059</td>\n",
       "      <td>371418</td>\n",
       "      <td>1680.823740</td>\n",
       "      <td>28.013729</td>\n",
       "      <td>0.870733</td>\n",
       "      <td>539.584443</td>\n",
       "      <td>541.584443</td>\n",
       "      <td>1510.955775</td>\n",
       "      <td>9</td>\n",
       "    </tr>\n",
       "    <tr>\n",
       "      <th>512554</th>\n",
       "      <td>800163297</td>\n",
       "      <td>14899</td>\n",
       "      <td>879</td>\n",
       "      <td>10457</td>\n",
       "      <td>13693060</td>\n",
       "      <td>203926</td>\n",
       "      <td>1680.823740</td>\n",
       "      <td>28.013729</td>\n",
       "      <td>0.870219</td>\n",
       "      <td>539.584443</td>\n",
       "      <td>541.584443</td>\n",
       "      <td>662.407708</td>\n",
       "      <td>25</td>\n",
       "    </tr>\n",
       "  </tbody>\n",
       "</table>\n",
       "<p>512555 rows × 13 columns</p>\n",
       "</div>"
      ],
      "text/plain": [
       "        raw_indices  frame_indices  scan_indices  precursor_indices  \\\n",
       "0         790180764          14700           450               8981   \n",
       "1         790180765          14700           450               8981   \n",
       "2         790180766          14700           450               8981   \n",
       "3         790180767          14700           450               8981   \n",
       "4         790180768          14700           450               8981   \n",
       "...             ...            ...           ...                ...   \n",
       "512550    800163293          14899           877              10457   \n",
       "512551    800163294          14899           877              10457   \n",
       "512552    800163295          14899           877              10457   \n",
       "512553    800163296          14899           878              10457   \n",
       "512554    800163297          14899           879              10457   \n",
       "\n",
       "        push_indices  tof_indices    rt_values  rt_values_min  \\\n",
       "0           13509750       151069  1659.761187      27.662686   \n",
       "1           13509750       170186  1659.761187      27.662686   \n",
       "2           13509750       180778  1659.761187      27.662686   \n",
       "3           13509750       194875  1659.761187      27.662686   \n",
       "4           13509750       241416  1659.761187      27.662686   \n",
       "...              ...          ...          ...            ...   \n",
       "512550      13693058       209313  1680.823740      28.013729   \n",
       "512551      13693058       231654  1680.823740      28.013729   \n",
       "512552      13693058       299518  1680.823740      28.013729   \n",
       "512553      13693059       371418  1680.823740      28.013729   \n",
       "512554      13693060       203926  1680.823740      28.013729   \n",
       "\n",
       "        mobility_values  quad_low_mz_values  quad_high_mz_values    mz_values  \\\n",
       "0              1.089501          855.870619           858.870619   466.238998   \n",
       "1              1.089501          855.870619           858.870619   533.222076   \n",
       "2              1.089501          855.870619           858.870619   572.269738   \n",
       "3              1.089501          855.870619           858.870619   626.378707   \n",
       "4              1.089501          855.870619           858.870619   822.371458   \n",
       "...                 ...                 ...                  ...          ...   \n",
       "512550         0.871247          539.584443           541.584443   684.329791   \n",
       "512551         0.871247          539.584443           541.584443   779.054216   \n",
       "512552         0.871247          539.584443           541.584443  1104.434468   \n",
       "512553         0.870733          539.584443           541.584443  1510.955775   \n",
       "512554         0.870219          539.584443           541.584443   662.407708   \n",
       "\n",
       "        intensity_values  \n",
       "0                     52  \n",
       "1                     83  \n",
       "2                     10  \n",
       "3                     40  \n",
       "4                     86  \n",
       "...                  ...  \n",
       "512550                44  \n",
       "512551                 9  \n",
       "512552                 9  \n",
       "512553                 9  \n",
       "512554                25  \n",
       "\n",
       "[512555 rows x 13 columns]"
      ]
     },
     "execution_count": 61,
     "metadata": {},
     "output_type": "execute_result"
    }
   ],
   "source": [
    "df"
   ]
  },
  {
   "cell_type": "code",
   "execution_count": null,
   "metadata": {},
   "outputs": [],
   "source": []
  }
 ],
 "metadata": {
  "kernelspec": {
   "display_name": "Python 3",
   "language": "python",
   "name": "python3"
  },
  "language_info": {
   "codemirror_mode": {
    "name": "ipython",
    "version": 3
   },
   "file_extension": ".py",
   "mimetype": "text/x-python",
   "name": "python",
   "nbconvert_exporter": "python",
   "pygments_lexer": "ipython3",
   "version": "3.8.5"
  }
 },
 "nbformat": 4,
 "nbformat_minor": 4
}
