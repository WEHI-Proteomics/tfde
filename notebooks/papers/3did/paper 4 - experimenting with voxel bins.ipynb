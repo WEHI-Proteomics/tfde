{
 "cells": [
  {
   "cell_type": "code",
   "execution_count": 1,
   "metadata": {},
   "outputs": [],
   "source": [
    "import pandas as pd\n",
    "import sqlite3\n",
    "import numpy as np"
   ]
  },
  {
   "cell_type": "code",
   "execution_count": 2,
   "metadata": {},
   "outputs": [],
   "source": [
    "# define a straight line to exclude the charge-1 cloud\n",
    "def scan_coords_for_single_charge_region(mz_lower, mz_upper):\n",
    "    scan_for_mz_lower = max(int(-1 * ((1.2 * mz_lower) - 1252)), 0)\n",
    "    scan_for_mz_upper = max(int(-1 * ((1.2 * mz_upper) - 1252)), 0)\n",
    "    return {'scan_for_mz_lower':scan_for_mz_lower, 'scan_for_mz_upper':scan_for_mz_upper}"
   ]
  },
  {
   "cell_type": "code",
   "execution_count": 3,
   "metadata": {},
   "outputs": [],
   "source": [
    "experiment_name = 'P3856'\n",
    "run_name = 'P3856_YHE211_1_Slot1-1_1_5104'\n",
    "EXPERIMENT_DIR = '/media/big-ssd/experiments/{}'.format(experiment_name)\n",
    "CONVERTED_DATABASE_NAME = \"{}/converted-databases/exp-{}-run-{}-converted.sqlite\".format(EXPERIMENT_DIR, experiment_name, run_name)"
   ]
  },
  {
   "cell_type": "code",
   "execution_count": 4,
   "metadata": {},
   "outputs": [],
   "source": [
    "SEGMENT_EXTENSION = 2.0\n",
    "FRAME_TYPE_MS1 = 0\n",
    "rt_lower = 1650\n",
    "rt_upper = 2200\n",
    "segment_mz_lower = 1020\n",
    "segment_mz_upper = 1040\n",
    "scan_limit = scan_coords_for_single_charge_region(mz_lower=segment_mz_lower, mz_upper=segment_mz_upper)['scan_for_mz_upper']"
   ]
  },
  {
   "cell_type": "code",
   "execution_count": 5,
   "metadata": {},
   "outputs": [],
   "source": [
    "VOXEL_SIZE_RT = 5\n",
    "VOXEL_SIZE_SCAN = 10\n",
    "VOXEL_SIZE_MZ = 0.1"
   ]
  },
  {
   "cell_type": "code",
   "execution_count": 6,
   "metadata": {},
   "outputs": [],
   "source": [
    "# load the raw points for this m/z segment\n",
    "db_conn = sqlite3.connect(CONVERTED_DATABASE_NAME)\n",
    "raw_df = pd.read_sql_query(\"select frame_id,mz,scan,intensity,retention_time_secs from frames where frame_type == {} and retention_time_secs >= {} and retention_time_secs <= {} and scan >= {} and mz >= {} and mz <= {}\".format(FRAME_TYPE_MS1, rt_lower, rt_upper, scan_limit, segment_mz_lower, segment_mz_upper+SEGMENT_EXTENSION), db_conn, dtype={'frame_id':np.uint16,'mz':np.float32,'scan':np.uint16,'intensity':np.uint16,'retention_time_secs':np.float32})\n",
    "db_conn.close()"
   ]
  },
  {
   "cell_type": "code",
   "execution_count": 7,
   "metadata": {},
   "outputs": [
    {
     "name": "stdout",
     "output_type": "stream",
     "text": [
      "<class 'pandas.core.frame.DataFrame'>\n",
      "RangeIndex: 10127942 entries, 0 to 10127941\n",
      "Data columns (total 5 columns):\n",
      " #   Column               Dtype  \n",
      "---  ------               -----  \n",
      " 0   frame_id             uint16 \n",
      " 1   mz                   float32\n",
      " 2   scan                 uint16 \n",
      " 3   intensity            uint16 \n",
      " 4   retention_time_secs  float32\n",
      "dtypes: float32(2), uint16(3)\n",
      "memory usage: 135.2 MB\n"
     ]
    }
   ],
   "source": [
    "raw_df.info()"
   ]
  },
  {
   "cell_type": "code",
   "execution_count": 8,
   "metadata": {},
   "outputs": [],
   "source": [
    "# assign each point a unique identifier\n",
    "raw_df.reset_index(drop=True, inplace=True)  # just in case\n",
    "raw_df['point_id'] = raw_df.index"
   ]
  },
  {
   "cell_type": "code",
   "execution_count": 9,
   "metadata": {},
   "outputs": [],
   "source": [
    "# define bins\n",
    "rt_bins = pd.interval_range(start=raw_df.retention_time_secs.min(), end=raw_df.retention_time_secs.max()+VOXEL_SIZE_RT, freq=VOXEL_SIZE_RT, closed='left')\n",
    "scan_bins = pd.interval_range(start=raw_df.scan.min(), end=raw_df.scan.max()+VOXEL_SIZE_SCAN, freq=VOXEL_SIZE_SCAN, closed='left')\n",
    "mz_bins = pd.interval_range(start=segment_mz_lower, end=segment_mz_upper+SEGMENT_EXTENSION+VOXEL_SIZE_MZ, freq=VOXEL_SIZE_MZ, closed='left')"
   ]
  },
  {
   "cell_type": "code",
   "execution_count": 10,
   "metadata": {},
   "outputs": [
    {
     "name": "stdout",
     "output_type": "stream",
     "text": [
      "50.8 s ± 1.01 s per loop (mean ± std. dev. of 7 runs, 1 loop each)\n"
     ]
    }
   ],
   "source": [
    "%%timeit\n",
    "# assign raw points to their bins\n",
    "raw_df['rt_bin'] = pd.cut(raw_df.retention_time_secs, bins=rt_bins)\n",
    "raw_df['scan_bin'] = pd.cut(raw_df.scan, bins=scan_bins)\n",
    "raw_df['mz_bin'] = pd.cut(raw_df.mz, bins=mz_bins)\n",
    "raw_df['bin_key'] = list(zip(raw_df.mz_bin, raw_df.scan_bin, raw_df.rt_bin))"
   ]
  },
  {
   "cell_type": "code",
   "execution_count": 11,
   "metadata": {},
   "outputs": [
    {
     "data": {
      "text/html": [
       "<div>\n",
       "<style scoped>\n",
       "    .dataframe tbody tr th:only-of-type {\n",
       "        vertical-align: middle;\n",
       "    }\n",
       "\n",
       "    .dataframe tbody tr th {\n",
       "        vertical-align: top;\n",
       "    }\n",
       "\n",
       "    .dataframe thead th {\n",
       "        text-align: right;\n",
       "    }\n",
       "</style>\n",
       "<table border=\"1\" class=\"dataframe\">\n",
       "  <thead>\n",
       "    <tr style=\"text-align: right;\">\n",
       "      <th></th>\n",
       "      <th>frame_id</th>\n",
       "      <th>mz</th>\n",
       "      <th>scan</th>\n",
       "      <th>intensity</th>\n",
       "      <th>retention_time_secs</th>\n",
       "      <th>point_id</th>\n",
       "      <th>rt_bin</th>\n",
       "      <th>scan_bin</th>\n",
       "      <th>mz_bin</th>\n",
       "      <th>bin_key</th>\n",
       "    </tr>\n",
       "  </thead>\n",
       "  <tbody>\n",
       "  </tbody>\n",
       "</table>\n",
       "</div>"
      ],
      "text/plain": [
       "Empty DataFrame\n",
       "Columns: [frame_id, mz, scan, intensity, retention_time_secs, point_id, rt_bin, scan_bin, mz_bin, bin_key]\n",
       "Index: []"
      ]
     },
     "execution_count": 11,
     "metadata": {},
     "output_type": "execute_result"
    }
   ],
   "source": [
    "raw_df[raw_df.isnull().any(axis=1)]"
   ]
  },
  {
   "cell_type": "code",
   "execution_count": null,
   "metadata": {},
   "outputs": [],
   "source": []
  }
 ],
 "metadata": {
  "kernelspec": {
   "display_name": "Python 3",
   "language": "python",
   "name": "python3"
  },
  "language_info": {
   "codemirror_mode": {
    "name": "ipython",
    "version": 3
   },
   "file_extension": ".py",
   "mimetype": "text/x-python",
   "name": "python",
   "nbconvert_exporter": "python",
   "pygments_lexer": "ipython3",
   "version": "3.8.5"
  }
 },
 "nbformat": 4,
 "nbformat_minor": 4
}
