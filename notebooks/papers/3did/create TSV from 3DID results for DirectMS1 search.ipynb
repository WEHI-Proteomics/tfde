{
 "cells": [
  {
   "cell_type": "code",
   "execution_count": 1,
   "metadata": {},
   "outputs": [],
   "source": [
    "import pandas as pd\n",
    "from os.path import expanduser\n",
    "import json"
   ]
  },
  {
   "cell_type": "code",
   "execution_count": 2,
   "metadata": {},
   "outputs": [],
   "source": [
    "experiment_name = 'P3856'\n",
    "run_name = 'P3856_YHE211_1_Slot1-1_1_5104'\n",
    "results_name = 'minvi-3000-2021-11-23-13-55-53'\n",
    "\n",
    "# experiment_name = 'P3830_YUPS1'\n",
    "# run_name = 'P3830_YeastUPS1_01_Slot1-1_1_5066'\n",
    "# results_name = 'minvi-3000-2021-11-18-16-27-45'  # min intensity 200\n",
    "# results_name = 'minvi-3000-2021-11-19-13-45-48'  # min intensity 100\n",
    "\n",
    "EXPERIMENT_DIR = '/media/big-ssd/experiments/{}'.format(experiment_name)\n",
    "FEATURES_3DID_DIR = '/media/big-ssd/results-{}-3did/{}/features-3did'.format(experiment_name, results_name)\n",
    "\n",
    "FEATURES_3DID_FILE = '{}/exp-{}-run-{}-features-3did.feather'.format(FEATURES_3DID_DIR, experiment_name, run_name)\n",
    "# FEATURES_3DID_FILE = '{}/exp-{}-run-{}-features-3did-ident.feather'.format(FEATURES_3DID_DIR, experiment_name, run_name)\n",
    "# FEATURES_3DID_FILE = '{}/exp-{}-run-{}-features-3did-dedup.feather'.format(FEATURES_3DID_DIR, experiment_name, run_name)\n"
   ]
  },
  {
   "cell_type": "code",
   "execution_count": 3,
   "metadata": {},
   "outputs": [],
   "source": [
    "# load the features detected by 3DID\n",
    "features_3did_df = pd.read_feather(FEATURES_3DID_FILE)"
   ]
  },
  {
   "cell_type": "code",
   "execution_count": 4,
   "metadata": {},
   "outputs": [
    {
     "data": {
      "text/plain": [
       "Index(['index', 'mono_mz_lower', 'mono_mz_upper', 'scan_apex', 'scan_lower',\n",
       "       'scan_upper', 'inverse_k0_apex', 'rt_apex', 'rt_lower', 'rt_upper',\n",
       "       'intensity_without_saturation_correction',\n",
       "       'intensity_with_saturation_correction',\n",
       "       'mono_intensity_adjustment_outcome', 'isotopic_peaks', 'isotope_count',\n",
       "       'envelope', 'coelution_coefficient', 'mobility_coefficient',\n",
       "       'voxels_processed', 'monoisotopic_mz', 'charge', 'neutral_mass',\n",
       "       'monoisotopic_mass', 'feature_intensity', 'deconvolution_envelope',\n",
       "       'deconvolution_score', 'feature_region_3d_extent', 'voxel_id',\n",
       "       'voxel_metadata_d', 'scan_df', 'scan_r_squared', 'rt_df',\n",
       "       'rt_r_squared', 'number_of_frames', 'feature_id', 'prediction',\n",
       "       'identification_predicted'],\n",
       "      dtype='object')"
      ]
     },
     "execution_count": 4,
     "metadata": {},
     "output_type": "execute_result"
    }
   ],
   "source": [
    "features_3did_df.columns"
   ]
  },
  {
   "cell_type": "code",
   "execution_count": 5,
   "metadata": {},
   "outputs": [],
   "source": [
    "features_3did_subset_df = features_3did_df[['neutral_mass','rt_apex','charge','feature_intensity','number_of_frames','isotope_count','monoisotopic_mz','inverse_k0_apex']].copy()\n",
    "features_3did_subset_df.rename(columns={'neutral_mass':'massCalib','rt_apex':'rtApex','feature_intensity':'intensityApex','isotope_count':'nIsotopes','number_of_frames':'nScans','monoisotopic_mz':'mz','inverse_k0_apex':'ion_mobility'}, inplace=True)"
   ]
  },
  {
   "cell_type": "code",
   "execution_count": 6,
   "metadata": {},
   "outputs": [
    {
     "data": {
      "text/plain": [
       "Index(['massCalib', 'rtApex', 'charge', 'intensityApex', 'nScans', 'nIsotopes',\n",
       "       'mz', 'ion_mobility'],\n",
       "      dtype='object')"
      ]
     },
     "execution_count": 6,
     "metadata": {},
     "output_type": "execute_result"
    }
   ],
   "source": [
    "features_3did_subset_df.columns"
   ]
  },
  {
   "cell_type": "code",
   "execution_count": 7,
   "metadata": {},
   "outputs": [
    {
     "data": {
      "text/html": [
       "<div>\n",
       "<style scoped>\n",
       "    .dataframe tbody tr th:only-of-type {\n",
       "        vertical-align: middle;\n",
       "    }\n",
       "\n",
       "    .dataframe tbody tr th {\n",
       "        vertical-align: top;\n",
       "    }\n",
       "\n",
       "    .dataframe thead th {\n",
       "        text-align: right;\n",
       "    }\n",
       "</style>\n",
       "<table border=\"1\" class=\"dataframe\">\n",
       "  <thead>\n",
       "    <tr style=\"text-align: right;\">\n",
       "      <th></th>\n",
       "      <th>massCalib</th>\n",
       "      <th>rtApex</th>\n",
       "      <th>charge</th>\n",
       "      <th>intensityApex</th>\n",
       "      <th>nScans</th>\n",
       "      <th>nIsotopes</th>\n",
       "      <th>mz</th>\n",
       "      <th>ion_mobility</th>\n",
       "    </tr>\n",
       "  </thead>\n",
       "  <tbody>\n",
       "    <tr>\n",
       "      <th>0</th>\n",
       "      <td>976.515781</td>\n",
       "      <td>1021.568909</td>\n",
       "      <td>2</td>\n",
       "      <td>5158</td>\n",
       "      <td>7</td>\n",
       "      <td>3</td>\n",
       "      <td>489.265167</td>\n",
       "      <td>0.851715</td>\n",
       "    </tr>\n",
       "    <tr>\n",
       "      <th>1</th>\n",
       "      <td>976.515140</td>\n",
       "      <td>1016.838562</td>\n",
       "      <td>2</td>\n",
       "      <td>5792</td>\n",
       "      <td>14</td>\n",
       "      <td>3</td>\n",
       "      <td>489.264832</td>\n",
       "      <td>0.851715</td>\n",
       "    </tr>\n",
       "    <tr>\n",
       "      <th>2</th>\n",
       "      <td>976.515496</td>\n",
       "      <td>1026.820435</td>\n",
       "      <td>2</td>\n",
       "      <td>3627</td>\n",
       "      <td>20</td>\n",
       "      <td>3</td>\n",
       "      <td>489.265015</td>\n",
       "      <td>0.851201</td>\n",
       "    </tr>\n",
       "    <tr>\n",
       "      <th>3</th>\n",
       "      <td>976.515944</td>\n",
       "      <td>1026.820435</td>\n",
       "      <td>2</td>\n",
       "      <td>3627</td>\n",
       "      <td>26</td>\n",
       "      <td>3</td>\n",
       "      <td>489.265259</td>\n",
       "      <td>0.851715</td>\n",
       "    </tr>\n",
       "    <tr>\n",
       "      <th>4</th>\n",
       "      <td>1946.022794</td>\n",
       "      <td>1614.453613</td>\n",
       "      <td>4</td>\n",
       "      <td>3814</td>\n",
       "      <td>3</td>\n",
       "      <td>4</td>\n",
       "      <td>487.512970</td>\n",
       "      <td>0.863025</td>\n",
       "    </tr>\n",
       "    <tr>\n",
       "      <th>...</th>\n",
       "      <td>...</td>\n",
       "      <td>...</td>\n",
       "      <td>...</td>\n",
       "      <td>...</td>\n",
       "      <td>...</td>\n",
       "      <td>...</td>\n",
       "      <td>...</td>\n",
       "      <td>...</td>\n",
       "    </tr>\n",
       "    <tr>\n",
       "      <th>96247</th>\n",
       "      <td>4437.805481</td>\n",
       "      <td>1912.966187</td>\n",
       "      <td>3</td>\n",
       "      <td>4161</td>\n",
       "      <td>10</td>\n",
       "      <td>7</td>\n",
       "      <td>1480.275757</td>\n",
       "      <td>1.205635</td>\n",
       "    </tr>\n",
       "    <tr>\n",
       "      <th>96248</th>\n",
       "      <td>4457.065859</td>\n",
       "      <td>1779.589478</td>\n",
       "      <td>3</td>\n",
       "      <td>2355</td>\n",
       "      <td>14</td>\n",
       "      <td>7</td>\n",
       "      <td>1486.695923</td>\n",
       "      <td>1.239493</td>\n",
       "    </tr>\n",
       "    <tr>\n",
       "      <th>96249</th>\n",
       "      <td>4573.937310</td>\n",
       "      <td>1730.895020</td>\n",
       "      <td>3</td>\n",
       "      <td>1856</td>\n",
       "      <td>5</td>\n",
       "      <td>7</td>\n",
       "      <td>1525.653076</td>\n",
       "      <td>1.213726</td>\n",
       "    </tr>\n",
       "    <tr>\n",
       "      <th>96250</th>\n",
       "      <td>4864.884223</td>\n",
       "      <td>1758.415161</td>\n",
       "      <td>3</td>\n",
       "      <td>2048</td>\n",
       "      <td>4</td>\n",
       "      <td>7</td>\n",
       "      <td>1622.635376</td>\n",
       "      <td>1.261699</td>\n",
       "    </tr>\n",
       "    <tr>\n",
       "      <th>96251</th>\n",
       "      <td>4864.884223</td>\n",
       "      <td>1758.415161</td>\n",
       "      <td>3</td>\n",
       "      <td>2048</td>\n",
       "      <td>4</td>\n",
       "      <td>7</td>\n",
       "      <td>1622.635376</td>\n",
       "      <td>1.261699</td>\n",
       "    </tr>\n",
       "  </tbody>\n",
       "</table>\n",
       "<p>96252 rows × 8 columns</p>\n",
       "</div>"
      ],
      "text/plain": [
       "         massCalib       rtApex  charge  intensityApex  nScans  nIsotopes  \\\n",
       "0       976.515781  1021.568909       2           5158       7          3   \n",
       "1       976.515140  1016.838562       2           5792      14          3   \n",
       "2       976.515496  1026.820435       2           3627      20          3   \n",
       "3       976.515944  1026.820435       2           3627      26          3   \n",
       "4      1946.022794  1614.453613       4           3814       3          4   \n",
       "...            ...          ...     ...            ...     ...        ...   \n",
       "96247  4437.805481  1912.966187       3           4161      10          7   \n",
       "96248  4457.065859  1779.589478       3           2355      14          7   \n",
       "96249  4573.937310  1730.895020       3           1856       5          7   \n",
       "96250  4864.884223  1758.415161       3           2048       4          7   \n",
       "96251  4864.884223  1758.415161       3           2048       4          7   \n",
       "\n",
       "                mz  ion_mobility  \n",
       "0       489.265167      0.851715  \n",
       "1       489.264832      0.851715  \n",
       "2       489.265015      0.851201  \n",
       "3       489.265259      0.851715  \n",
       "4       487.512970      0.863025  \n",
       "...            ...           ...  \n",
       "96247  1480.275757      1.205635  \n",
       "96248  1486.695923      1.239493  \n",
       "96249  1525.653076      1.213726  \n",
       "96250  1622.635376      1.261699  \n",
       "96251  1622.635376      1.261699  \n",
       "\n",
       "[96252 rows x 8 columns]"
      ]
     },
     "execution_count": 7,
     "metadata": {},
     "output_type": "execute_result"
    }
   ],
   "source": [
    "features_3did_subset_df"
   ]
  },
  {
   "cell_type": "code",
   "execution_count": 8,
   "metadata": {},
   "outputs": [
    {
     "data": {
      "text/plain": [
       "False"
      ]
     },
     "execution_count": 8,
     "metadata": {},
     "output_type": "execute_result"
    }
   ],
   "source": [
    "features_3did_subset_df.isnull().values.any()"
   ]
  },
  {
   "cell_type": "code",
   "execution_count": 9,
   "metadata": {},
   "outputs": [
    {
     "data": {
      "text/plain": [
       "'/home/daryl/P3856_YHE211_1_Slot1-1_1_5104-3did.features.tsv'"
      ]
     },
     "execution_count": 9,
     "metadata": {},
     "output_type": "execute_result"
    }
   ],
   "source": [
    "features_tsv_name = '{}/{}-3did.features.tsv'.format(expanduser('~'),run_name)\n",
    "features_3did_subset_df.to_csv(features_tsv_name, sep='\\t', index=False, header=True)\n",
    "features_tsv_name"
   ]
  }
 ],
 "metadata": {
  "kernelspec": {
   "display_name": "Python 3",
   "language": "python",
   "name": "python3"
  },
  "language_info": {
   "codemirror_mode": {
    "name": "ipython",
    "version": 3
   },
   "file_extension": ".py",
   "mimetype": "text/x-python",
   "name": "python",
   "nbconvert_exporter": "python",
   "pygments_lexer": "ipython3",
   "version": "3.8.5"
  }
 },
 "nbformat": 4,
 "nbformat_minor": 4
}
