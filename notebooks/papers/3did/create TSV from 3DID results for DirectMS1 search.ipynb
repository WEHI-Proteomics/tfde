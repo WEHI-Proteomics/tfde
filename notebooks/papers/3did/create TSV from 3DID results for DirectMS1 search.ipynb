{
 "cells": [
  {
   "cell_type": "code",
   "execution_count": 1,
   "metadata": {},
   "outputs": [],
   "source": [
    "import pandas as pd\n",
    "from os.path import expanduser\n",
    "import json"
   ]
  },
  {
   "cell_type": "code",
   "execution_count": 66,
   "metadata": {},
   "outputs": [],
   "source": [
    "# experiment_name = 'P3856'\n",
    "# run_name = 'P3856_YHE211_1_Slot1-1_1_5104'\n",
    "# results_name = 'minvi-4000-2021-11-17-10-28-40'\n",
    "\n",
    "experiment_name = 'P3830_YUPS1'\n",
    "run_name = 'P3830_YeastUPS1_01_Slot1-1_1_5066'\n",
    "results_name = 'minvi-3000-2021-11-18-16-27-45'\n",
    "\n",
    "EXPERIMENT_DIR = '/media/big-ssd/experiments/{}'.format(experiment_name)\n",
    "FEATURES_3DID_DIR = '/media/big-ssd/results-{}-3did/{}/features-3did'.format(experiment_name, results_name)\n",
    "# FEATURES_3DID_FILE = '{}/exp-{}-run-{}-features-3did-dedup.feather'.format(FEATURES_3DID_DIR, experiment_name, run_name)\n",
    "FEATURES_3DID_FILE = '{}/exp-{}-run-{}-features-3did.feather'.format(FEATURES_3DID_DIR, experiment_name, run_name)"
   ]
  },
  {
   "cell_type": "code",
   "execution_count": 67,
   "metadata": {},
   "outputs": [],
   "source": [
    "# load the features detected by 3DID\n",
    "features_3did_df = pd.read_feather(FEATURES_3DID_FILE)"
   ]
  },
  {
   "cell_type": "code",
   "execution_count": 68,
   "metadata": {},
   "outputs": [
    {
     "data": {
      "text/plain": [
       "Index(['index', 'mono_mz_lower', 'mono_mz_upper', 'scan_apex', 'scan_lower',\n",
       "       'scan_upper', 'inverse_k0_apex', 'rt_apex', 'rt_lower', 'rt_upper',\n",
       "       'intensity_without_saturation_correction',\n",
       "       'intensity_with_saturation_correction',\n",
       "       'mono_intensity_adjustment_outcome', 'isotopic_peaks', 'isotope_count',\n",
       "       'envelope', 'coelution_coefficient', 'mobility_coefficient',\n",
       "       'voxels_processed', 'monoisotopic_mz', 'charge', 'neutral_mass',\n",
       "       'monoisotopic_mass', 'feature_intensity', 'deconvolution_envelope',\n",
       "       'deconvolution_score', 'feature_region_3d_extent', 'voxel_id',\n",
       "       'voxel_metadata_d', 'scan_df', 'scan_r_squared', 'rt_df',\n",
       "       'rt_r_squared', 'number_of_frames', 'feature_id', 'prediction',\n",
       "       'identification_predicted'],\n",
       "      dtype='object')"
      ]
     },
     "execution_count": 68,
     "metadata": {},
     "output_type": "execute_result"
    }
   ],
   "source": [
    "features_3did_df.columns"
   ]
  },
  {
   "cell_type": "code",
   "execution_count": 69,
   "metadata": {},
   "outputs": [],
   "source": [
    "features_3did_subset_df = features_3did_df[['neutral_mass','rt_apex','charge','feature_intensity','number_of_frames','isotope_count','monoisotopic_mz','inverse_k0_apex']].copy()\n",
    "features_3did_subset_df.rename(columns={'neutral_mass':'massCalib','rt_apex':'rtApex','feature_intensity':'intensityApex','isotope_count':'nIsotopes','number_of_frames':'nScans','monoisotopic_mz':'mz','inverse_k0_apex':'ion_mobility'}, inplace=True)"
   ]
  },
  {
   "cell_type": "code",
   "execution_count": 70,
   "metadata": {},
   "outputs": [
    {
     "data": {
      "text/plain": [
       "Index(['massCalib', 'rtApex', 'charge', 'intensityApex', 'nScans', 'nIsotopes',\n",
       "       'mz', 'ion_mobility'],\n",
       "      dtype='object')"
      ]
     },
     "execution_count": 70,
     "metadata": {},
     "output_type": "execute_result"
    }
   ],
   "source": [
    "features_3did_subset_df.columns"
   ]
  },
  {
   "cell_type": "code",
   "execution_count": 71,
   "metadata": {},
   "outputs": [
    {
     "data": {
      "text/html": [
       "<div>\n",
       "<style scoped>\n",
       "    .dataframe tbody tr th:only-of-type {\n",
       "        vertical-align: middle;\n",
       "    }\n",
       "\n",
       "    .dataframe tbody tr th {\n",
       "        vertical-align: top;\n",
       "    }\n",
       "\n",
       "    .dataframe thead th {\n",
       "        text-align: right;\n",
       "    }\n",
       "</style>\n",
       "<table border=\"1\" class=\"dataframe\">\n",
       "  <thead>\n",
       "    <tr style=\"text-align: right;\">\n",
       "      <th></th>\n",
       "      <th>massCalib</th>\n",
       "      <th>rtApex</th>\n",
       "      <th>charge</th>\n",
       "      <th>intensityApex</th>\n",
       "      <th>nScans</th>\n",
       "      <th>nIsotopes</th>\n",
       "      <th>mz</th>\n",
       "      <th>ion_mobility</th>\n",
       "    </tr>\n",
       "  </thead>\n",
       "  <tbody>\n",
       "    <tr>\n",
       "      <th>0</th>\n",
       "      <td>1006.526442</td>\n",
       "      <td>1044.137207</td>\n",
       "      <td>2</td>\n",
       "      <td>10701</td>\n",
       "      <td>18</td>\n",
       "      <td>3</td>\n",
       "      <td>504.270508</td>\n",
       "      <td>0.851201</td>\n",
       "    </tr>\n",
       "    <tr>\n",
       "      <th>1</th>\n",
       "      <td>1008.565588</td>\n",
       "      <td>1630.621094</td>\n",
       "      <td>2</td>\n",
       "      <td>4599</td>\n",
       "      <td>8</td>\n",
       "      <td>3</td>\n",
       "      <td>505.290070</td>\n",
       "      <td>0.854800</td>\n",
       "    </tr>\n",
       "    <tr>\n",
       "      <th>2</th>\n",
       "      <td>1001.524286</td>\n",
       "      <td>1612.096436</td>\n",
       "      <td>2</td>\n",
       "      <td>4909</td>\n",
       "      <td>4</td>\n",
       "      <td>3</td>\n",
       "      <td>501.769409</td>\n",
       "      <td>0.864567</td>\n",
       "    </tr>\n",
       "    <tr>\n",
       "      <th>3</th>\n",
       "      <td>1008.566811</td>\n",
       "      <td>1595.684692</td>\n",
       "      <td>2</td>\n",
       "      <td>2958</td>\n",
       "      <td>3</td>\n",
       "      <td>3</td>\n",
       "      <td>505.290680</td>\n",
       "      <td>0.854800</td>\n",
       "    </tr>\n",
       "    <tr>\n",
       "      <th>4</th>\n",
       "      <td>1006.526483</td>\n",
       "      <td>1044.137207</td>\n",
       "      <td>2</td>\n",
       "      <td>10701</td>\n",
       "      <td>18</td>\n",
       "      <td>3</td>\n",
       "      <td>504.270508</td>\n",
       "      <td>0.855315</td>\n",
       "    </tr>\n",
       "    <tr>\n",
       "      <th>...</th>\n",
       "      <td>...</td>\n",
       "      <td>...</td>\n",
       "      <td>...</td>\n",
       "      <td>...</td>\n",
       "      <td>...</td>\n",
       "      <td>...</td>\n",
       "      <td>...</td>\n",
       "      <td>...</td>\n",
       "    </tr>\n",
       "    <tr>\n",
       "      <th>43336</th>\n",
       "      <td>4433.986599</td>\n",
       "      <td>1865.619141</td>\n",
       "      <td>3</td>\n",
       "      <td>8006</td>\n",
       "      <td>8</td>\n",
       "      <td>7</td>\n",
       "      <td>1479.002808</td>\n",
       "      <td>1.197036</td>\n",
       "    </tr>\n",
       "    <tr>\n",
       "      <th>43337</th>\n",
       "      <td>4433.986010</td>\n",
       "      <td>1865.619141</td>\n",
       "      <td>3</td>\n",
       "      <td>7507</td>\n",
       "      <td>9</td>\n",
       "      <td>7</td>\n",
       "      <td>1479.002563</td>\n",
       "      <td>1.193494</td>\n",
       "    </tr>\n",
       "    <tr>\n",
       "      <th>43338</th>\n",
       "      <td>4433.984521</td>\n",
       "      <td>1865.619141</td>\n",
       "      <td>3</td>\n",
       "      <td>7436</td>\n",
       "      <td>9</td>\n",
       "      <td>7</td>\n",
       "      <td>1479.002075</td>\n",
       "      <td>1.188939</td>\n",
       "    </tr>\n",
       "    <tr>\n",
       "      <th>43339</th>\n",
       "      <td>4452.343746</td>\n",
       "      <td>2229.270264</td>\n",
       "      <td>3</td>\n",
       "      <td>3844</td>\n",
       "      <td>4</td>\n",
       "      <td>6</td>\n",
       "      <td>1485.121826</td>\n",
       "      <td>1.241008</td>\n",
       "    </tr>\n",
       "    <tr>\n",
       "      <th>43340</th>\n",
       "      <td>4452.344229</td>\n",
       "      <td>2229.270264</td>\n",
       "      <td>3</td>\n",
       "      <td>3576</td>\n",
       "      <td>5</td>\n",
       "      <td>6</td>\n",
       "      <td>1485.122070</td>\n",
       "      <td>1.241008</td>\n",
       "    </tr>\n",
       "  </tbody>\n",
       "</table>\n",
       "<p>43341 rows × 8 columns</p>\n",
       "</div>"
      ],
      "text/plain": [
       "         massCalib       rtApex  charge  intensityApex  nScans  nIsotopes  \\\n",
       "0      1006.526442  1044.137207       2          10701      18          3   \n",
       "1      1008.565588  1630.621094       2           4599       8          3   \n",
       "2      1001.524286  1612.096436       2           4909       4          3   \n",
       "3      1008.566811  1595.684692       2           2958       3          3   \n",
       "4      1006.526483  1044.137207       2          10701      18          3   \n",
       "...            ...          ...     ...            ...     ...        ...   \n",
       "43336  4433.986599  1865.619141       3           8006       8          7   \n",
       "43337  4433.986010  1865.619141       3           7507       9          7   \n",
       "43338  4433.984521  1865.619141       3           7436       9          7   \n",
       "43339  4452.343746  2229.270264       3           3844       4          6   \n",
       "43340  4452.344229  2229.270264       3           3576       5          6   \n",
       "\n",
       "                mz  ion_mobility  \n",
       "0       504.270508      0.851201  \n",
       "1       505.290070      0.854800  \n",
       "2       501.769409      0.864567  \n",
       "3       505.290680      0.854800  \n",
       "4       504.270508      0.855315  \n",
       "...            ...           ...  \n",
       "43336  1479.002808      1.197036  \n",
       "43337  1479.002563      1.193494  \n",
       "43338  1479.002075      1.188939  \n",
       "43339  1485.121826      1.241008  \n",
       "43340  1485.122070      1.241008  \n",
       "\n",
       "[43341 rows x 8 columns]"
      ]
     },
     "execution_count": 71,
     "metadata": {},
     "output_type": "execute_result"
    }
   ],
   "source": [
    "features_3did_subset_df"
   ]
  },
  {
   "cell_type": "code",
   "execution_count": 72,
   "metadata": {},
   "outputs": [
    {
     "data": {
      "text/plain": [
       "False"
      ]
     },
     "execution_count": 72,
     "metadata": {},
     "output_type": "execute_result"
    }
   ],
   "source": [
    "features_3did_subset_df.isnull().values.any()"
   ]
  },
  {
   "cell_type": "code",
   "execution_count": 73,
   "metadata": {},
   "outputs": [
    {
     "data": {
      "text/plain": [
       "'/home/daryl/P3830_YeastUPS1_01_Slot1-1_1_5066-3did.features.tsv'"
      ]
     },
     "execution_count": 73,
     "metadata": {},
     "output_type": "execute_result"
    }
   ],
   "source": [
    "features_tsv_name = '{}/{}-3did.features.tsv'.format(expanduser('~'),run_name)\n",
    "features_3did_subset_df.to_csv(features_tsv_name, sep='\\t', index=False, header=True)\n",
    "features_tsv_name"
   ]
  },
  {
   "cell_type": "markdown",
   "metadata": {},
   "source": [
    "#### load the Biosaur features"
   ]
  },
  {
   "cell_type": "code",
   "execution_count": 45,
   "metadata": {},
   "outputs": [],
   "source": [
    "biosaur_df = pd.read_csv('{}/P3830_YeastUPS1_01_Slot1-1_1_5066-denoised-biosaur.features.tsv'.format('~'), sep='\\t')"
   ]
  },
  {
   "cell_type": "code",
   "execution_count": 49,
   "metadata": {},
   "outputs": [
    {
     "data": {
      "text/html": [
       "<div>\n",
       "<style scoped>\n",
       "    .dataframe tbody tr th:only-of-type {\n",
       "        vertical-align: middle;\n",
       "    }\n",
       "\n",
       "    .dataframe tbody tr th {\n",
       "        vertical-align: top;\n",
       "    }\n",
       "\n",
       "    .dataframe thead th {\n",
       "        text-align: right;\n",
       "    }\n",
       "</style>\n",
       "<table border=\"1\" class=\"dataframe\">\n",
       "  <thead>\n",
       "    <tr style=\"text-align: right;\">\n",
       "      <th></th>\n",
       "      <th>massCalib</th>\n",
       "      <th>mz</th>\n",
       "      <th>charge</th>\n",
       "      <th>sulfur</th>\n",
       "      <th>rtApex</th>\n",
       "      <th>nScans</th>\n",
       "    </tr>\n",
       "  </thead>\n",
       "  <tbody>\n",
       "    <tr>\n",
       "      <th>0</th>\n",
       "      <td>5314.721872</td>\n",
       "      <td>1063.951651</td>\n",
       "      <td>5</td>\n",
       "      <td>0</td>\n",
       "      <td>2274.813972</td>\n",
       "      <td>10</td>\n",
       "    </tr>\n",
       "    <tr>\n",
       "      <th>1</th>\n",
       "      <td>2674.274205</td>\n",
       "      <td>892.432011</td>\n",
       "      <td>3</td>\n",
       "      <td>0</td>\n",
       "      <td>2079.958457</td>\n",
       "      <td>8</td>\n",
       "    </tr>\n",
       "    <tr>\n",
       "      <th>2</th>\n",
       "      <td>5520.844246</td>\n",
       "      <td>921.147984</td>\n",
       "      <td>6</td>\n",
       "      <td>0</td>\n",
       "      <td>2195.377013</td>\n",
       "      <td>3</td>\n",
       "    </tr>\n",
       "    <tr>\n",
       "      <th>3</th>\n",
       "      <td>5557.860288</td>\n",
       "      <td>1112.579334</td>\n",
       "      <td>5</td>\n",
       "      <td>0</td>\n",
       "      <td>2221.859844</td>\n",
       "      <td>9</td>\n",
       "    </tr>\n",
       "    <tr>\n",
       "      <th>4</th>\n",
       "      <td>2336.072436</td>\n",
       "      <td>779.698089</td>\n",
       "      <td>3</td>\n",
       "      <td>0</td>\n",
       "      <td>2279.575678</td>\n",
       "      <td>6</td>\n",
       "    </tr>\n",
       "    <tr>\n",
       "      <th>...</th>\n",
       "      <td>...</td>\n",
       "      <td>...</td>\n",
       "      <td>...</td>\n",
       "      <td>...</td>\n",
       "      <td>...</td>\n",
       "      <td>...</td>\n",
       "    </tr>\n",
       "    <tr>\n",
       "      <th>37382</th>\n",
       "      <td>722.333934</td>\n",
       "      <td>723.341210</td>\n",
       "      <td>1</td>\n",
       "      <td>-1</td>\n",
       "      <td>1568.159486</td>\n",
       "      <td>8</td>\n",
       "    </tr>\n",
       "    <tr>\n",
       "      <th>37383</th>\n",
       "      <td>722.334266</td>\n",
       "      <td>723.341543</td>\n",
       "      <td>1</td>\n",
       "      <td>-1</td>\n",
       "      <td>1570.804626</td>\n",
       "      <td>3</td>\n",
       "    </tr>\n",
       "    <tr>\n",
       "      <th>37384</th>\n",
       "      <td>722.334488</td>\n",
       "      <td>723.341765</td>\n",
       "      <td>1</td>\n",
       "      <td>-1</td>\n",
       "      <td>886.434683</td>\n",
       "      <td>13</td>\n",
       "    </tr>\n",
       "    <tr>\n",
       "      <th>37385</th>\n",
       "      <td>722.336226</td>\n",
       "      <td>723.343502</td>\n",
       "      <td>1</td>\n",
       "      <td>-1</td>\n",
       "      <td>879.072114</td>\n",
       "      <td>21</td>\n",
       "    </tr>\n",
       "    <tr>\n",
       "      <th>37386</th>\n",
       "      <td>1444.708503</td>\n",
       "      <td>723.361528</td>\n",
       "      <td>2</td>\n",
       "      <td>-1</td>\n",
       "      <td>1566.572047</td>\n",
       "      <td>8</td>\n",
       "    </tr>\n",
       "  </tbody>\n",
       "</table>\n",
       "<p>37387 rows × 6 columns</p>\n",
       "</div>"
      ],
      "text/plain": [
       "         massCalib           mz  charge  sulfur       rtApex  nScans\n",
       "0      5314.721872  1063.951651       5       0  2274.813972      10\n",
       "1      2674.274205   892.432011       3       0  2079.958457       8\n",
       "2      5520.844246   921.147984       6       0  2195.377013       3\n",
       "3      5557.860288  1112.579334       5       0  2221.859844       9\n",
       "4      2336.072436   779.698089       3       0  2279.575678       6\n",
       "...            ...          ...     ...     ...          ...     ...\n",
       "37382   722.333934   723.341210       1      -1  1568.159486       8\n",
       "37383   722.334266   723.341543       1      -1  1570.804626       3\n",
       "37384   722.334488   723.341765       1      -1   886.434683      13\n",
       "37385   722.336226   723.343502       1      -1   879.072114      21\n",
       "37386  1444.708503   723.361528       2      -1  1566.572047       8\n",
       "\n",
       "[37387 rows x 6 columns]"
      ]
     },
     "execution_count": 49,
     "metadata": {},
     "output_type": "execute_result"
    }
   ],
   "source": [
    "biosaur_df[['massCalib','mz','charge','sulfur','rtApex','nScans']]"
   ]
  },
  {
   "cell_type": "code",
   "execution_count": 47,
   "metadata": {},
   "outputs": [
    {
     "data": {
      "text/plain": [
       "Index(['massCalib', 'rtApex', 'intensityApex', 'charge', 'nIsotopes', 'nScans',\n",
       "       'sulfur', 'cos_corr_1', 'cos_corr_2', 'diff_for_output',\n",
       "       'corr_fill_zero', 'intensity_1', 'scan_id_1', 'mz_std_1', 'intensity_2',\n",
       "       'scan_id_2', 'mz_std_2', 'mz', 'rtStart', 'rtEnd', 'id', 'ion_mobility',\n",
       "       'FAIMS', 'targeted_mode'],\n",
       "      dtype='object')"
      ]
     },
     "execution_count": 47,
     "metadata": {},
     "output_type": "execute_result"
    }
   ],
   "source": [
    "biosaur_df.columns"
   ]
  },
  {
   "cell_type": "code",
   "execution_count": 63,
   "metadata": {},
   "outputs": [
    {
     "data": {
      "text/plain": [
       "834451.0"
      ]
     },
     "execution_count": 63,
     "metadata": {},
     "output_type": "execute_result"
    }
   ],
   "source": [
    "biosaur_df.intensityApex.max()"
   ]
  },
  {
   "cell_type": "code",
   "execution_count": null,
   "metadata": {},
   "outputs": [],
   "source": []
  }
 ],
 "metadata": {
  "kernelspec": {
   "display_name": "Python 3",
   "language": "python",
   "name": "python3"
  },
  "language_info": {
   "codemirror_mode": {
    "name": "ipython",
    "version": 3
   },
   "file_extension": ".py",
   "mimetype": "text/x-python",
   "name": "python",
   "nbconvert_exporter": "python",
   "pygments_lexer": "ipython3",
   "version": "3.8.5"
  }
 },
 "nbformat": 4,
 "nbformat_minor": 4
}
