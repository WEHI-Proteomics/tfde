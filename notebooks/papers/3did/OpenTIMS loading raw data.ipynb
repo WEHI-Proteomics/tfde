{
 "cells": [
  {
   "cell_type": "code",
   "execution_count": 9,
   "metadata": {},
   "outputs": [],
   "source": [
    "import random\n",
    "import numpy as np\n",
    "import time\n",
    "import pandas as pd\n",
    "from os.path import expanduser"
   ]
  },
  {
   "cell_type": "code",
   "execution_count": 2,
   "metadata": {},
   "outputs": [],
   "source": [
    "import pathlib\n",
    "from pprint import pprint\n",
    "\n",
    "import opentimspy\n",
    "from opentimspy.opentims import OpenTIMS"
   ]
  },
  {
   "cell_type": "code",
   "execution_count": 3,
   "metadata": {},
   "outputs": [],
   "source": [
    "path = pathlib.Path('/media/big-ssd/experiments/P3856/raw-databases/P3856_YHE211_1_Slot1-1_1_5104.d')\n",
    "D = OpenTIMS(path) # get data handle"
   ]
  },
  {
   "cell_type": "markdown",
   "metadata": {},
   "source": [
    "#### loading all the ms1 frames"
   ]
  },
  {
   "cell_type": "code",
   "execution_count": 4,
   "metadata": {},
   "outputs": [
    {
     "name": "stdout",
     "output_type": "stream",
     "text": [
      "loaded 1255020569 points in 91.7 seconds\n"
     ]
    }
   ],
   "source": [
    "start_run = time.time()\n",
    "\n",
    "df_l = []\n",
    "for idx,d in enumerate(D.query_iter(D.ms1_frames, columns=('frame','mz','scan','intensity','retention_time'))):\n",
    "    d['frame'] = d['frame'].astype(np.uint16, copy=False)\n",
    "    d['mz'] = d['mz'].astype(np.float64, copy=False)\n",
    "    d['scan'] = d['scan'].astype(np.uint16, copy=False)\n",
    "    d['intensity'] = d['intensity'].astype(np.uint16, copy=False)\n",
    "    d['retention_time'] = d['retention_time'].astype(np.float64, copy=False)\n",
    "    df_l.append(pd.DataFrame(d))\n",
    "df = pd.concat(df_l, axis=0, sort=False, ignore_index=True)\n",
    "# df = df[(df.mz >= 780) & (df.mz <= 795)]\n",
    "\n",
    "stop_run = time.time()\n",
    "print(\"loaded {} points in {} seconds\".format(len(df), round(stop_run-start_run,1)))"
   ]
  },
  {
   "cell_type": "code",
   "execution_count": 5,
   "metadata": {},
   "outputs": [
    {
     "name": "stdout",
     "output_type": "stream",
     "text": [
      "<class 'pandas.core.frame.DataFrame'>\n",
      "RangeIndex: 1255020569 entries, 0 to 1255020568\n",
      "Data columns (total 5 columns):\n",
      " #   Column          Dtype  \n",
      "---  ------          -----  \n",
      " 0   frame           uint16 \n",
      " 1   mz              float64\n",
      " 2   scan            uint16 \n",
      " 3   intensity       uint16 \n",
      " 4   retention_time  float64\n",
      "dtypes: float64(2), uint16(3)\n",
      "memory usage: 25.7 GB\n"
     ]
    }
   ],
   "source": [
    "df.info()"
   ]
  },
  {
   "cell_type": "code",
   "execution_count": 6,
   "metadata": {},
   "outputs": [
    {
     "data": {
      "text/plain": [
       "48.01525684836269"
      ]
     },
     "execution_count": 6,
     "metadata": {},
     "output_type": "execute_result"
    }
   ],
   "source": [
    "(df.retention_time.max()-df.retention_time.min())/60"
   ]
  },
  {
   "cell_type": "code",
   "execution_count": 10,
   "metadata": {},
   "outputs": [],
   "source": [
    "df.to_feather('{}/P3856_YHE211_1_Slot1-1_1_5104-ms1.feather'.format(expanduser('~')))"
   ]
  },
  {
   "cell_type": "markdown",
   "metadata": {},
   "source": [
    "#### loading all the ms2 frames"
   ]
  },
  {
   "cell_type": "code",
   "execution_count": 7,
   "metadata": {},
   "outputs": [],
   "source": [
    "ms2_frame_ids = np.arange(D.min_frame, D.max_frame+1)[D.ms_types == 8]"
   ]
  },
  {
   "cell_type": "code",
   "execution_count": 8,
   "metadata": {},
   "outputs": [],
   "source": [
    "ms2_df_l = []\n",
    "for idx,d in enumerate(D.query_iter(ms2_frame_ids, columns=('frame','mz','scan','intensity','retention_time'))):\n",
    "    d['frame'] = d['frame'].astype(np.uint16, copy=False)\n",
    "    d['mz'] = d['mz'].astype(np.float64, copy=False)\n",
    "    d['scan'] = d['scan'].astype(np.uint16, copy=False)\n",
    "    d['intensity'] = d['intensity'].astype(np.uint16, copy=False)\n",
    "    d['retention_time'] = d['retention_time'].astype(np.float64, copy=False)\n",
    "    ms2_df_l.append(pd.DataFrame(d))\n",
    "ms2_df = pd.concat(ms2_df_l, axis=0, sort=False, ignore_index=True)"
   ]
  },
  {
   "cell_type": "code",
   "execution_count": 9,
   "metadata": {},
   "outputs": [
    {
     "data": {
      "text/plain": [
       "37253651"
      ]
     },
     "execution_count": 9,
     "metadata": {},
     "output_type": "execute_result"
    }
   ],
   "source": [
    "len(ms2_df)"
   ]
  },
  {
   "cell_type": "markdown",
   "metadata": {},
   "source": [
    "#### loading a 3D segment"
   ]
  },
  {
   "cell_type": "markdown",
   "metadata": {},
   "source": [
    "load all the data as above, and discard the m/z and scan ranges not needed."
   ]
  },
  {
   "cell_type": "code",
   "execution_count": null,
   "metadata": {},
   "outputs": [],
   "source": []
  }
 ],
 "metadata": {
  "kernelspec": {
   "display_name": "Python 3",
   "language": "python",
   "name": "python3"
  },
  "language_info": {
   "codemirror_mode": {
    "name": "ipython",
    "version": 3
   },
   "file_extension": ".py",
   "mimetype": "text/x-python",
   "name": "python",
   "nbconvert_exporter": "python",
   "pygments_lexer": "ipython3",
   "version": "3.8.5"
  }
 },
 "nbformat": 4,
 "nbformat_minor": 4
}
