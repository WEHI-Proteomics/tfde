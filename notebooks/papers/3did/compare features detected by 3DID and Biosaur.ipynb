{
 "cells": [
  {
   "cell_type": "code",
   "execution_count": 1,
   "metadata": {},
   "outputs": [],
   "source": [
    "import pandas as pd\n",
    "import numpy as np\n",
    "import os\n",
    "import matplotlib.pyplot as plt\n",
    "from matplotlib_venn import venn2\n",
    "from os.path import expanduser\n",
    "import seaborn as sns\n",
    "from cmcrameri import cm\n",
    "from matplotlib import colors\n",
    "import matplotlib.patches as patches"
   ]
  },
  {
   "cell_type": "code",
   "execution_count": 2,
   "metadata": {},
   "outputs": [],
   "source": [
    "DETECTS_3DID_NAME = 'minvi-600-2021-12-19-02-35-34'\n",
    "DETECTS_3DID_DIR = '/media/big-ssd/results-P3856_YHE211-3did/{}/P3856_YHE211/features-3did'.format(DETECTS_3DID_NAME)\n",
    "DETECTS_3DID_FILE = '{}/exp-P3856_YHE211-run-P3856_YHE211_1_Slot1-1_1_5104-features-3did-dedup.feather'.format(DETECTS_3DID_DIR)"
   ]
  },
  {
   "cell_type": "code",
   "execution_count": 3,
   "metadata": {},
   "outputs": [],
   "source": [
    "# load the 3DID features classified as identifiable\n",
    "detects_3did_df = pd.read_feather(DETECTS_3DID_FILE)"
   ]
  },
  {
   "cell_type": "code",
   "execution_count": 4,
   "metadata": {},
   "outputs": [
    {
     "data": {
      "text/html": [
       "<div>\n",
       "<style scoped>\n",
       "    .dataframe tbody tr th:only-of-type {\n",
       "        vertical-align: middle;\n",
       "    }\n",
       "\n",
       "    .dataframe tbody tr th {\n",
       "        vertical-align: top;\n",
       "    }\n",
       "\n",
       "    .dataframe thead th {\n",
       "        text-align: right;\n",
       "    }\n",
       "</style>\n",
       "<table border=\"1\" class=\"dataframe\">\n",
       "  <thead>\n",
       "    <tr style=\"text-align: right;\">\n",
       "      <th></th>\n",
       "      <th>index</th>\n",
       "      <th>mono_mz_lower</th>\n",
       "      <th>mono_mz_upper</th>\n",
       "      <th>scan_apex</th>\n",
       "      <th>scan_lower</th>\n",
       "      <th>scan_upper</th>\n",
       "      <th>inverse_k0_apex</th>\n",
       "      <th>rt_apex</th>\n",
       "      <th>rt_lower</th>\n",
       "      <th>rt_upper</th>\n",
       "      <th>...</th>\n",
       "      <th>voxel_id</th>\n",
       "      <th>voxel_metadata_d</th>\n",
       "      <th>scan_df</th>\n",
       "      <th>scan_r_squared</th>\n",
       "      <th>rt_df</th>\n",
       "      <th>rt_r_squared</th>\n",
       "      <th>number_of_frames</th>\n",
       "      <th>feature_id</th>\n",
       "      <th>prediction</th>\n",
       "      <th>identification_predicted</th>\n",
       "    </tr>\n",
       "  </thead>\n",
       "  <tbody>\n",
       "    <tr>\n",
       "      <th>22740</th>\n",
       "      <td>261</td>\n",
       "      <td>620.308777</td>\n",
       "      <td>620.348267</td>\n",
       "      <td>313.0</td>\n",
       "      <td>303.0</td>\n",
       "      <td>340.0</td>\n",
       "      <td>1.159055</td>\n",
       "      <td>238.524353</td>\n",
       "      <td>236.948654</td>\n",
       "      <td>242.351776</td>\n",
       "      <td>...</td>\n",
       "      <td>530000686</td>\n",
       "      <td>{\"mz_lower\": 620.3, \"mz_upper\": 620.4, \"scan_l...</td>\n",
       "      <td>[{\"scan\":275,\"inverse_k0\":1.1783072948,\"intens...</td>\n",
       "      <td>0.991187</td>\n",
       "      <td>[{\"frame_id\":1885,\"retention_time_secs\":225.39...</td>\n",
       "      <td>0.955973</td>\n",
       "      <td>12</td>\n",
       "      <td>82210</td>\n",
       "      <td>0.829580</td>\n",
       "      <td>True</td>\n",
       "    </tr>\n",
       "    <tr>\n",
       "      <th>32994</th>\n",
       "      <td>7582</td>\n",
       "      <td>643.294434</td>\n",
       "      <td>643.335449</td>\n",
       "      <td>299.0</td>\n",
       "      <td>289.0</td>\n",
       "      <td>309.0</td>\n",
       "      <td>1.166150</td>\n",
       "      <td>820.912170</td>\n",
       "      <td>818.287354</td>\n",
       "      <td>822.488220</td>\n",
       "      <td>...</td>\n",
       "      <td>550024117</td>\n",
       "      <td>{\"mz_lower\": 643.3, \"mz_upper\": 643.4, \"scan_l...</td>\n",
       "      <td>[{\"scan\":259,\"inverse_k0\":1.1864081621,\"intens...</td>\n",
       "      <td>0.834516</td>\n",
       "      <td>[{\"frame_id\":7450,\"retention_time_secs\":810.40...</td>\n",
       "      <td>0.792789</td>\n",
       "      <td>9</td>\n",
       "      <td>114665</td>\n",
       "      <td>0.401907</td>\n",
       "      <td>True</td>\n",
       "    </tr>\n",
       "    <tr>\n",
       "      <th>65839</th>\n",
       "      <td>353</td>\n",
       "      <td>732.379028</td>\n",
       "      <td>732.425720</td>\n",
       "      <td>125.0</td>\n",
       "      <td>98.0</td>\n",
       "      <td>157.0</td>\n",
       "      <td>1.254132</td>\n",
       "      <td>1651.501221</td>\n",
       "      <td>1649.385498</td>\n",
       "      <td>1653.619629</td>\n",
       "      <td>...</td>\n",
       "      <td>640001334</td>\n",
       "      <td>{\"mz_lower\": 732.4, \"mz_upper\": 732.5, \"scan_l...</td>\n",
       "      <td>[{\"scan\":89,\"inverse_k0\":1.2722892761,\"intensi...</td>\n",
       "      <td>0.958948</td>\n",
       "      <td>[{\"frame_id\":14522,\"retention_time_secs\":1640....</td>\n",
       "      <td>0.980675</td>\n",
       "      <td>9</td>\n",
       "      <td>225643</td>\n",
       "      <td>0.926069</td>\n",
       "      <td>True</td>\n",
       "    </tr>\n",
       "    <tr>\n",
       "      <th>38397</th>\n",
       "      <td>443</td>\n",
       "      <td>669.835205</td>\n",
       "      <td>669.877869</td>\n",
       "      <td>729.0</td>\n",
       "      <td>719.0</td>\n",
       "      <td>754.0</td>\n",
       "      <td>0.947148</td>\n",
       "      <td>917.557495</td>\n",
       "      <td>912.557495</td>\n",
       "      <td>922.557495</td>\n",
       "      <td>...</td>\n",
       "      <td>570001168</td>\n",
       "      <td>{\"mz_lower\": 669.8000000000001, \"mz_upper\": 66...</td>\n",
       "      <td>[{\"scan\":697,\"inverse_k0\":0.9635238647,\"intens...</td>\n",
       "      <td>0.957288</td>\n",
       "      <td>[{\"frame_id\":8435,\"retention_time_secs\":913.88...</td>\n",
       "      <td>0.814569</td>\n",
       "      <td>17</td>\n",
       "      <td>134924</td>\n",
       "      <td>0.863641</td>\n",
       "      <td>True</td>\n",
       "    </tr>\n",
       "  </tbody>\n",
       "</table>\n",
       "<p>4 rows × 37 columns</p>\n",
       "</div>"
      ],
      "text/plain": [
       "       index  mono_mz_lower  mono_mz_upper  scan_apex  scan_lower  scan_upper  \\\n",
       "22740    261     620.308777     620.348267      313.0       303.0       340.0   \n",
       "32994   7582     643.294434     643.335449      299.0       289.0       309.0   \n",
       "65839    353     732.379028     732.425720      125.0        98.0       157.0   \n",
       "38397    443     669.835205     669.877869      729.0       719.0       754.0   \n",
       "\n",
       "       inverse_k0_apex      rt_apex     rt_lower     rt_upper  ...   voxel_id  \\\n",
       "22740         1.159055   238.524353   236.948654   242.351776  ...  530000686   \n",
       "32994         1.166150   820.912170   818.287354   822.488220  ...  550024117   \n",
       "65839         1.254132  1651.501221  1649.385498  1653.619629  ...  640001334   \n",
       "38397         0.947148   917.557495   912.557495   922.557495  ...  570001168   \n",
       "\n",
       "                                        voxel_metadata_d  \\\n",
       "22740  {\"mz_lower\": 620.3, \"mz_upper\": 620.4, \"scan_l...   \n",
       "32994  {\"mz_lower\": 643.3, \"mz_upper\": 643.4, \"scan_l...   \n",
       "65839  {\"mz_lower\": 732.4, \"mz_upper\": 732.5, \"scan_l...   \n",
       "38397  {\"mz_lower\": 669.8000000000001, \"mz_upper\": 66...   \n",
       "\n",
       "                                                 scan_df scan_r_squared  \\\n",
       "22740  [{\"scan\":275,\"inverse_k0\":1.1783072948,\"intens...       0.991187   \n",
       "32994  [{\"scan\":259,\"inverse_k0\":1.1864081621,\"intens...       0.834516   \n",
       "65839  [{\"scan\":89,\"inverse_k0\":1.2722892761,\"intensi...       0.958948   \n",
       "38397  [{\"scan\":697,\"inverse_k0\":0.9635238647,\"intens...       0.957288   \n",
       "\n",
       "                                                   rt_df rt_r_squared  \\\n",
       "22740  [{\"frame_id\":1885,\"retention_time_secs\":225.39...     0.955973   \n",
       "32994  [{\"frame_id\":7450,\"retention_time_secs\":810.40...     0.792789   \n",
       "65839  [{\"frame_id\":14522,\"retention_time_secs\":1640....     0.980675   \n",
       "38397  [{\"frame_id\":8435,\"retention_time_secs\":913.88...     0.814569   \n",
       "\n",
       "       number_of_frames  feature_id prediction  identification_predicted  \n",
       "22740                12       82210   0.829580                      True  \n",
       "32994                 9      114665   0.401907                      True  \n",
       "65839                 9      225643   0.926069                      True  \n",
       "38397                17      134924   0.863641                      True  \n",
       "\n",
       "[4 rows x 37 columns]"
      ]
     },
     "execution_count": 4,
     "metadata": {},
     "output_type": "execute_result"
    }
   ],
   "source": [
    "detects_3did_df.sample(n=4)"
   ]
  },
  {
   "cell_type": "code",
   "execution_count": 5,
   "metadata": {},
   "outputs": [
    {
     "data": {
      "text/plain": [
       "scan_apex             916.0\n",
       "inverse_k0_apex    0.851201\n",
       "Name: 1, dtype: object"
      ]
     },
     "execution_count": 5,
     "metadata": {},
     "output_type": "execute_result"
    }
   ],
   "source": [
    "detects_3did_df.loc[detects_3did_df.scan_apex.idxmax()][['scan_apex','inverse_k0_apex']]"
   ]
  },
  {
   "cell_type": "code",
   "execution_count": 6,
   "metadata": {},
   "outputs": [
    {
     "data": {
      "text/plain": [
       "scan_apex              49.0\n",
       "inverse_k0_apex    1.292446\n",
       "Name: 86728, dtype: object"
      ]
     },
     "execution_count": 6,
     "metadata": {},
     "output_type": "execute_result"
    }
   ],
   "source": [
    "detects_3did_df.loc[detects_3did_df.scan_apex.idxmin()][['scan_apex','inverse_k0_apex']]"
   ]
  },
  {
   "cell_type": "code",
   "execution_count": 7,
   "metadata": {},
   "outputs": [
    {
     "data": {
      "text/plain": [
       "0.010178662053056517"
      ]
     },
     "execution_count": 7,
     "metadata": {},
     "output_type": "execute_result"
    }
   ],
   "source": [
    "(1.292446-0.851201)/(916-49)*20"
   ]
  },
  {
   "cell_type": "code",
   "execution_count": 8,
   "metadata": {},
   "outputs": [
    {
     "data": {
      "text/plain": [
       "Index(['index', 'mono_mz_lower', 'mono_mz_upper', 'scan_apex', 'scan_lower',\n",
       "       'scan_upper', 'inverse_k0_apex', 'rt_apex', 'rt_lower', 'rt_upper',\n",
       "       'intensity_without_saturation_correction',\n",
       "       'intensity_with_saturation_correction',\n",
       "       'mono_intensity_adjustment_outcome', 'isotopic_peaks', 'isotope_count',\n",
       "       'envelope', 'coelution_coefficient', 'mobility_coefficient',\n",
       "       'voxels_processed', 'monoisotopic_mz', 'charge', 'neutral_mass',\n",
       "       'monoisotopic_mass', 'feature_intensity', 'deconvolution_envelope',\n",
       "       'deconvolution_score', 'feature_region_3d_extent', 'voxel_id',\n",
       "       'voxel_metadata_d', 'scan_df', 'scan_r_squared', 'rt_df',\n",
       "       'rt_r_squared', 'number_of_frames', 'feature_id', 'prediction',\n",
       "       'identification_predicted'],\n",
       "      dtype='object')"
      ]
     },
     "execution_count": 8,
     "metadata": {},
     "output_type": "execute_result"
    }
   ],
   "source": [
    "detects_3did_df.columns"
   ]
  },
  {
   "cell_type": "code",
   "execution_count": 9,
   "metadata": {},
   "outputs": [],
   "source": [
    "biosaur_name = 'P3856_YHE211_1_Slot1-1_1_5104-denoised-biosaur-mini-200-ac-10-minl-3.features.tsv'\n",
    "\n",
    "DETECTS_BIOSAUR_FILE = '{}/{}'.format(expanduser('~'), biosaur_name)"
   ]
  },
  {
   "cell_type": "code",
   "execution_count": 10,
   "metadata": {},
   "outputs": [],
   "source": [
    "detects_biosaur_df = pd.read_csv(DETECTS_BIOSAUR_FILE, sep='\\\\t', engine='python')"
   ]
  },
  {
   "cell_type": "code",
   "execution_count": 11,
   "metadata": {},
   "outputs": [],
   "source": [
    "detects_biosaur_df = detects_biosaur_df[(detects_biosaur_df.nIsotopes >= 3)]"
   ]
  },
  {
   "cell_type": "code",
   "execution_count": 12,
   "metadata": {},
   "outputs": [
    {
     "data": {
      "text/plain": [
       "1.2853787977064846"
      ]
     },
     "execution_count": 12,
     "metadata": {},
     "output_type": "execute_result"
    }
   ],
   "source": [
    "detects_biosaur_df.loc[detects_biosaur_df.ion_mobility.idxmax()].ion_mobility"
   ]
  },
  {
   "cell_type": "code",
   "execution_count": 13,
   "metadata": {},
   "outputs": [
    {
     "data": {
      "text/plain": [
       "Index(['massCalib', 'rtApex', 'intensityApex', 'charge', 'nIsotopes', 'nScans',\n",
       "       'sulfur', 'cos_corr_1', 'cos_corr_2', 'diff_for_output',\n",
       "       'corr_fill_zero', 'intensity_1', 'scan_id_1', 'mz_std_1', 'intensity_2',\n",
       "       'scan_id_2', 'mz_std_2', 'mz', 'rtStart', 'rtEnd', 'id', 'ion_mobility',\n",
       "       'FAIMS', 'targeted_mode'],\n",
       "      dtype='object')"
      ]
     },
     "execution_count": 13,
     "metadata": {},
     "output_type": "execute_result"
    }
   ],
   "source": [
    "detects_biosaur_df.columns"
   ]
  },
  {
   "cell_type": "code",
   "execution_count": 14,
   "metadata": {},
   "outputs": [],
   "source": [
    "# corresponds to about the same scan tolerance as 20 scans over 910\n",
    "DUP_INVERSE_K0 = (detects_3did_df.inverse_k0_apex.max()-detects_3did_df.inverse_k0_apex.min())*(20/910) * 4\n",
    "DUP_INVERSE_K0 = 0.05"
   ]
  },
  {
   "cell_type": "code",
   "execution_count": 15,
   "metadata": {},
   "outputs": [],
   "source": [
    "# definition of a duplicate feature\n",
    "DUP_MZ_TOLERANCE_PPM = 25\n",
    "DUP_RT_TOLERANCE = 5"
   ]
  },
  {
   "cell_type": "code",
   "execution_count": 16,
   "metadata": {},
   "outputs": [],
   "source": [
    "# set up dup definitions\n",
    "MZ_TOLERANCE_PERCENT = DUP_MZ_TOLERANCE_PPM * 10**-4\n",
    "detects_biosaur_df['dup_mz_ppm_tolerance'] = detects_biosaur_df.mz * MZ_TOLERANCE_PERCENT / 100\n",
    "detects_biosaur_df['dup_mz_lower'] = detects_biosaur_df.mz - detects_biosaur_df.dup_mz_ppm_tolerance\n",
    "detects_biosaur_df['dup_mz_upper'] = detects_biosaur_df.mz + detects_biosaur_df.dup_mz_ppm_tolerance\n",
    "detects_biosaur_df['dup_inverse_k0_lower'] = detects_biosaur_df.ion_mobility - DUP_INVERSE_K0\n",
    "detects_biosaur_df['dup_inverse_k0_upper'] = detects_biosaur_df.ion_mobility + DUP_INVERSE_K0\n",
    "detects_biosaur_df['dup_rt_lower'] = detects_biosaur_df.rtApex - DUP_RT_TOLERANCE\n",
    "detects_biosaur_df['dup_rt_upper'] = detects_biosaur_df.rtApex + DUP_RT_TOLERANCE"
   ]
  },
  {
   "cell_type": "code",
   "execution_count": 17,
   "metadata": {},
   "outputs": [],
   "source": [
    "# find the features detected by 3DID and Biosaur\n",
    "matched_features_3did = set()\n",
    "matched_features_biosaur = set()\n",
    "\n",
    "for row in detects_3did_df.itertuples():\n",
    "    df = detects_biosaur_df[(row.charge == detects_biosaur_df.charge) & (row.monoisotopic_mz >= detects_biosaur_df.dup_mz_lower) & (row.monoisotopic_mz <= detects_biosaur_df.dup_mz_upper) & (row.inverse_k0_apex >= detects_biosaur_df.dup_inverse_k0_lower) & (row.inverse_k0_apex <= detects_biosaur_df.dup_inverse_k0_upper) & (row.rt_apex >= detects_biosaur_df.dup_rt_lower) & (row.rt_apex <= detects_biosaur_df.dup_rt_upper)]\n",
    "    if len(df) > 0:\n",
    "        matched_features_3did.update(set([row.feature_id]))\n",
    "        matched_features_biosaur.update(set(df.id.tolist()))"
   ]
  },
  {
   "cell_type": "code",
   "execution_count": 18,
   "metadata": {},
   "outputs": [],
   "source": [
    "contained_in_3did_not_biosaur = len(detects_3did_df) - len(matched_features_3did)\n",
    "contained_in_biosaur_not_3did = len(detects_biosaur_df) - len(matched_features_biosaur)\n",
    "contained_in_both = len(matched_features_biosaur)"
   ]
  },
  {
   "cell_type": "code",
   "execution_count": 34,
   "metadata": {},
   "outputs": [
    {
     "data": {
      "image/png": "[encoded data removed]",
      "text/plain": [
       "<Figure size 1200x640 with 1 Axes>"
      ]
     },
     "metadata": {},
     "output_type": "display_data"
    }
   ],
   "source": [
    "f, ax = plt.subplots()\n",
    "f.set_figheight(4)\n",
    "f.set_figwidth(7.5)\n",
    "f.set_dpi(160)\n",
    "\n",
    "plt.margins(0.06)\n",
    "\n",
    "v = venn2(subsets = (contained_in_3did_not_biosaur, contained_in_biosaur_not_3did, contained_in_both), set_labels = ('3DID', 'Biosaur'))\n",
    "for text in v.subset_labels:\n",
    "    text.set_fontsize(8)\n",
    "for text in v.set_labels:\n",
    "    text.set_fontsize(8)\n",
    "\n",
    "plt.show()"
   ]
  },
  {
   "cell_type": "code",
   "execution_count": 30,
   "metadata": {},
   "outputs": [],
   "source": [
    "f.savefig('{}/3did-figure-7a.tiff'.format(expanduser('~')), dpi=600, bbox_inches='tight')"
   ]
  },
  {
   "cell_type": "code",
   "execution_count": 20,
   "metadata": {},
   "outputs": [],
   "source": [
    "matched_3did_df = detects_3did_df[detects_3did_df.feature_id.isin(matched_features_3did)]"
   ]
  },
  {
   "cell_type": "code",
   "execution_count": 35,
   "metadata": {},
   "outputs": [
    {
     "data": {
      "image/png": "[encoded data removed]",
      "text/plain": [
       "<Figure size 1200x640 with 1 Axes>"
      ]
     },
     "metadata": {
      "needs_background": "light"
     },
     "output_type": "display_data"
    }
   ],
   "source": [
    "f, ax = plt.subplots()\n",
    "f.set_figheight(4)\n",
    "f.set_figwidth(7.5)\n",
    "f.set_dpi(160)\n",
    "\n",
    "plt.margins(0.06)\n",
    "\n",
    "bins = 500\n",
    "values = np.log2(detects_3did_df.feature_intensity)\n",
    "y, x, _ = ax.hist(values, bins=bins, label='detected')\n",
    "\n",
    "values = np.log2(matched_3did_df.feature_intensity)\n",
    "y, x, _ = ax.hist(values, bins=bins, label='matched')\n",
    "\n",
    "plt.xticks(fontsize=8)\n",
    "plt.yticks(fontsize=8)\n",
    "\n",
    "ax.set_xlabel('log2 feature intensity', fontsize=8)\n",
    "ax.set_ylabel('count', fontsize=8)\n",
    "\n",
    "plt.show()"
   ]
  },
  {
   "cell_type": "code",
   "execution_count": 33,
   "metadata": {},
   "outputs": [],
   "source": [
    "f.savefig('{}/3did-figure-7b.tiff'.format(expanduser('~')), dpi=600, bbox_inches='tight')"
   ]
  },
  {
   "cell_type": "code",
   "execution_count": 22,
   "metadata": {},
   "outputs": [],
   "source": [
    "biosaur_only_df = detects_biosaur_df[~detects_biosaur_df.id.isin(matched_features_biosaur)]"
   ]
  },
  {
   "cell_type": "code",
   "execution_count": 23,
   "metadata": {},
   "outputs": [
    {
     "data": {
      "text/html": [
       "<div>\n",
       "<style scoped>\n",
       "    .dataframe tbody tr th:only-of-type {\n",
       "        vertical-align: middle;\n",
       "    }\n",
       "\n",
       "    .dataframe tbody tr th {\n",
       "        vertical-align: top;\n",
       "    }\n",
       "\n",
       "    .dataframe thead th {\n",
       "        text-align: right;\n",
       "    }\n",
       "</style>\n",
       "<table border=\"1\" class=\"dataframe\">\n",
       "  <thead>\n",
       "    <tr style=\"text-align: right;\">\n",
       "      <th></th>\n",
       "      <th>massCalib</th>\n",
       "      <th>rtApex</th>\n",
       "      <th>intensityApex</th>\n",
       "      <th>charge</th>\n",
       "      <th>nIsotopes</th>\n",
       "      <th>nScans</th>\n",
       "      <th>sulfur</th>\n",
       "      <th>cos_corr_1</th>\n",
       "      <th>cos_corr_2</th>\n",
       "      <th>diff_for_output</th>\n",
       "      <th>...</th>\n",
       "      <th>ion_mobility</th>\n",
       "      <th>FAIMS</th>\n",
       "      <th>targeted_mode</th>\n",
       "      <th>dup_mz_ppm_tolerance</th>\n",
       "      <th>dup_mz_lower</th>\n",
       "      <th>dup_mz_upper</th>\n",
       "      <th>dup_inverse_k0_lower</th>\n",
       "      <th>dup_inverse_k0_upper</th>\n",
       "      <th>dup_rt_lower</th>\n",
       "      <th>dup_rt_upper</th>\n",
       "    </tr>\n",
       "  </thead>\n",
       "  <tbody>\n",
       "    <tr>\n",
       "      <th>12432</th>\n",
       "      <td>1769.946154</td>\n",
       "      <td>2115.654066</td>\n",
       "      <td>4326.0</td>\n",
       "      <td>2</td>\n",
       "      <td>3</td>\n",
       "      <td>4</td>\n",
       "      <td>0</td>\n",
       "      <td>0.976931</td>\n",
       "      <td>1.0</td>\n",
       "      <td>-7.094590e-07</td>\n",
       "      <td>...</td>\n",
       "      <td>1.135805</td>\n",
       "      <td>0</td>\n",
       "      <td>[]</td>\n",
       "      <td>0.022150</td>\n",
       "      <td>885.958204</td>\n",
       "      <td>886.002503</td>\n",
       "      <td>1.085805</td>\n",
       "      <td>1.185805</td>\n",
       "      <td>2110.654066</td>\n",
       "      <td>2120.654066</td>\n",
       "    </tr>\n",
       "    <tr>\n",
       "      <th>5726</th>\n",
       "      <td>1894.921087</td>\n",
       "      <td>2170.697470</td>\n",
       "      <td>177801.0</td>\n",
       "      <td>2</td>\n",
       "      <td>4</td>\n",
       "      <td>10</td>\n",
       "      <td>0</td>\n",
       "      <td>0.954670</td>\n",
       "      <td>1.0</td>\n",
       "      <td>-1.248833e-06</td>\n",
       "      <td>...</td>\n",
       "      <td>1.253856</td>\n",
       "      <td>0</td>\n",
       "      <td>[]</td>\n",
       "      <td>0.023712</td>\n",
       "      <td>948.444108</td>\n",
       "      <td>948.491532</td>\n",
       "      <td>1.203856</td>\n",
       "      <td>1.303856</td>\n",
       "      <td>2165.697470</td>\n",
       "      <td>2175.697470</td>\n",
       "    </tr>\n",
       "    <tr>\n",
       "      <th>12023</th>\n",
       "      <td>1336.722758</td>\n",
       "      <td>2309.358192</td>\n",
       "      <td>113252.0</td>\n",
       "      <td>2</td>\n",
       "      <td>3</td>\n",
       "      <td>9</td>\n",
       "      <td>0</td>\n",
       "      <td>0.981556</td>\n",
       "      <td>1.0</td>\n",
       "      <td>-1.248226e-07</td>\n",
       "      <td>...</td>\n",
       "      <td>0.969673</td>\n",
       "      <td>0</td>\n",
       "      <td>[]</td>\n",
       "      <td>0.016734</td>\n",
       "      <td>669.351921</td>\n",
       "      <td>669.385390</td>\n",
       "      <td>0.919673</td>\n",
       "      <td>1.019673</td>\n",
       "      <td>2304.358192</td>\n",
       "      <td>2314.358192</td>\n",
       "    </tr>\n",
       "    <tr>\n",
       "      <th>5841</th>\n",
       "      <td>2645.231242</td>\n",
       "      <td>1748.891074</td>\n",
       "      <td>5229.0</td>\n",
       "      <td>3</td>\n",
       "      <td>4</td>\n",
       "      <td>9</td>\n",
       "      <td>0</td>\n",
       "      <td>0.937117</td>\n",
       "      <td>1.0</td>\n",
       "      <td>2.850102e-06</td>\n",
       "      <td>...</td>\n",
       "      <td>0.932150</td>\n",
       "      <td>0</td>\n",
       "      <td>[]</td>\n",
       "      <td>0.022069</td>\n",
       "      <td>882.728955</td>\n",
       "      <td>882.773092</td>\n",
       "      <td>0.882150</td>\n",
       "      <td>0.982150</td>\n",
       "      <td>1743.891074</td>\n",
       "      <td>1753.891074</td>\n",
       "    </tr>\n",
       "    <tr>\n",
       "      <th>8914</th>\n",
       "      <td>2141.996291</td>\n",
       "      <td>2025.685979</td>\n",
       "      <td>1326.0</td>\n",
       "      <td>2</td>\n",
       "      <td>3</td>\n",
       "      <td>3</td>\n",
       "      <td>0</td>\n",
       "      <td>0.995566</td>\n",
       "      <td>1.0</td>\n",
       "      <td>-2.084479e-06</td>\n",
       "      <td>...</td>\n",
       "      <td>1.224340</td>\n",
       "      <td>0</td>\n",
       "      <td>[]</td>\n",
       "      <td>0.026800</td>\n",
       "      <td>1071.978622</td>\n",
       "      <td>1072.032222</td>\n",
       "      <td>1.174340</td>\n",
       "      <td>1.274340</td>\n",
       "      <td>2020.685979</td>\n",
       "      <td>2030.685979</td>\n",
       "    </tr>\n",
       "  </tbody>\n",
       "</table>\n",
       "<p>5 rows × 31 columns</p>\n",
       "</div>"
      ],
      "text/plain": [
       "         massCalib       rtApex  intensityApex  charge  nIsotopes  nScans  \\\n",
       "12432  1769.946154  2115.654066         4326.0       2          3       4   \n",
       "5726   1894.921087  2170.697470       177801.0       2          4      10   \n",
       "12023  1336.722758  2309.358192       113252.0       2          3       9   \n",
       "5841   2645.231242  1748.891074         5229.0       3          4       9   \n",
       "8914   2141.996291  2025.685979         1326.0       2          3       3   \n",
       "\n",
       "       sulfur  cos_corr_1  cos_corr_2  diff_for_output  ...  ion_mobility  \\\n",
       "12432       0    0.976931         1.0    -7.094590e-07  ...      1.135805   \n",
       "5726        0    0.954670         1.0    -1.248833e-06  ...      1.253856   \n",
       "12023       0    0.981556         1.0    -1.248226e-07  ...      0.969673   \n",
       "5841        0    0.937117         1.0     2.850102e-06  ...      0.932150   \n",
       "8914        0    0.995566         1.0    -2.084479e-06  ...      1.224340   \n",
       "\n",
       "      FAIMS targeted_mode  dup_mz_ppm_tolerance dup_mz_lower dup_mz_upper  \\\n",
       "12432     0            []              0.022150   885.958204   886.002503   \n",
       "5726      0            []              0.023712   948.444108   948.491532   \n",
       "12023     0            []              0.016734   669.351921   669.385390   \n",
       "5841      0            []              0.022069   882.728955   882.773092   \n",
       "8914      0            []              0.026800  1071.978622  1072.032222   \n",
       "\n",
       "       dup_inverse_k0_lower  dup_inverse_k0_upper  dup_rt_lower  dup_rt_upper  \n",
       "12432              1.085805              1.185805   2110.654066   2120.654066  \n",
       "5726               1.203856              1.303856   2165.697470   2175.697470  \n",
       "12023              0.919673              1.019673   2304.358192   2314.358192  \n",
       "5841               0.882150              0.982150   1743.891074   1753.891074  \n",
       "8914               1.174340              1.274340   2020.685979   2030.685979  \n",
       "\n",
       "[5 rows x 31 columns]"
      ]
     },
     "execution_count": 23,
     "metadata": {},
     "output_type": "execute_result"
    }
   ],
   "source": [
    "biosaur_only_df.sample(n=5)"
   ]
  },
  {
   "cell_type": "code",
   "execution_count": 24,
   "metadata": {},
   "outputs": [
    {
     "data": {
      "text/plain": [
       "1661.4332582544544"
      ]
     },
     "execution_count": 24,
     "metadata": {},
     "output_type": "execute_result"
    }
   ],
   "source": [
    "biosaur_only_df.mz.max()"
   ]
  },
  {
   "cell_type": "code",
   "execution_count": 25,
   "metadata": {},
   "outputs": [
    {
     "data": {
      "text/plain": [
       "1"
      ]
     },
     "execution_count": 25,
     "metadata": {},
     "output_type": "execute_result"
    }
   ],
   "source": [
    "detects_3did_df.charge.min()"
   ]
  },
  {
   "cell_type": "code",
   "execution_count": 26,
   "metadata": {},
   "outputs": [],
   "source": [
    "matched_biosaur_df = detects_biosaur_df[detects_biosaur_df.id.isin(matched_features_biosaur)]"
   ]
  },
  {
   "cell_type": "code",
   "execution_count": 27,
   "metadata": {},
   "outputs": [
    {
     "data": {
      "text/plain": [
       "22458.023790233485"
      ]
     },
     "execution_count": 27,
     "metadata": {},
     "output_type": "execute_result"
    }
   ],
   "source": [
    "matched_biosaur_df.intensityApex.mean()"
   ]
  },
  {
   "cell_type": "code",
   "execution_count": 28,
   "metadata": {},
   "outputs": [
    {
     "data": {
      "text/plain": [
       "660029.0"
      ]
     },
     "execution_count": 28,
     "metadata": {},
     "output_type": "execute_result"
    }
   ],
   "source": [
    "biosaur_only_df.intensityApex.max()"
   ]
  },
  {
   "cell_type": "code",
   "execution_count": null,
   "metadata": {},
   "outputs": [],
   "source": []
  }
 ],
 "metadata": {
  "kernelspec": {
   "display_name": "Python 3",
   "language": "python",
   "name": "python3"
  },
  "language_info": {
   "codemirror_mode": {
    "name": "ipython",
    "version": 3
   },
   "file_extension": ".py",
   "mimetype": "text/x-python",
   "name": "python",
   "nbconvert_exporter": "python",
   "pygments_lexer": "ipython3",
   "version": "3.8.5"
  }
 },
 "nbformat": 4,
 "nbformat_minor": 4
}
