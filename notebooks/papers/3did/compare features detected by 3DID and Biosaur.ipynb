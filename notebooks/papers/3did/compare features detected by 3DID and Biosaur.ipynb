{
 "cells": [
  {
   "cell_type": "code",
   "execution_count": 1,
   "metadata": {},
   "outputs": [],
   "source": [
    "import pandas as pd\n",
    "import numpy as np\n",
    "import os\n",
    "import matplotlib.pyplot as plt\n",
    "from matplotlib_venn import venn2\n",
    "from os.path import expanduser\n",
    "import seaborn as sns\n",
    "from cmcrameri import cm\n",
    "from matplotlib import colors\n",
    "import matplotlib.patches as patches"
   ]
  },
  {
   "cell_type": "code",
   "execution_count": 2,
   "metadata": {},
   "outputs": [],
   "source": [
    "DETECTS_3DID_NAME = 'minvi-600-2021-12-19-02-35-34'\n",
    "DETECTS_3DID_DIR = '/media/big-ssd/results-P3856_YHE211-3did/{}/P3856_YHE211/features-3did'.format(DETECTS_3DID_NAME)\n",
    "DETECTS_3DID_FILE = '{}/exp-P3856_YHE211-run-P3856_YHE211_1_Slot1-1_1_5104-features-3did-dedup.feather'.format(DETECTS_3DID_DIR)"
   ]
  },
  {
   "cell_type": "code",
   "execution_count": 3,
   "metadata": {},
   "outputs": [],
   "source": [
    "# load the 3DID features classified as identifiable\n",
    "detects_3did_df = pd.read_feather(DETECTS_3DID_FILE)"
   ]
  },
  {
   "cell_type": "code",
   "execution_count": 4,
   "metadata": {},
   "outputs": [
    {
     "data": {
      "text/html": [
       "<div>\n",
       "<style scoped>\n",
       "    .dataframe tbody tr th:only-of-type {\n",
       "        vertical-align: middle;\n",
       "    }\n",
       "\n",
       "    .dataframe tbody tr th {\n",
       "        vertical-align: top;\n",
       "    }\n",
       "\n",
       "    .dataframe thead th {\n",
       "        text-align: right;\n",
       "    }\n",
       "</style>\n",
       "<table border=\"1\" class=\"dataframe\">\n",
       "  <thead>\n",
       "    <tr style=\"text-align: right;\">\n",
       "      <th></th>\n",
       "      <th>index</th>\n",
       "      <th>mono_mz_lower</th>\n",
       "      <th>mono_mz_upper</th>\n",
       "      <th>scan_apex</th>\n",
       "      <th>scan_lower</th>\n",
       "      <th>scan_upper</th>\n",
       "      <th>inverse_k0_apex</th>\n",
       "      <th>rt_apex</th>\n",
       "      <th>rt_lower</th>\n",
       "      <th>rt_upper</th>\n",
       "      <th>...</th>\n",
       "      <th>voxel_id</th>\n",
       "      <th>voxel_metadata_d</th>\n",
       "      <th>scan_df</th>\n",
       "      <th>scan_r_squared</th>\n",
       "      <th>rt_df</th>\n",
       "      <th>rt_r_squared</th>\n",
       "      <th>number_of_frames</th>\n",
       "      <th>feature_id</th>\n",
       "      <th>prediction</th>\n",
       "      <th>identification_predicted</th>\n",
       "    </tr>\n",
       "  </thead>\n",
       "  <tbody>\n",
       "    <tr>\n",
       "      <th>41928</th>\n",
       "      <td>11297</td>\n",
       "      <td>662.804016</td>\n",
       "      <td>662.846252</td>\n",
       "      <td>673.0</td>\n",
       "      <td>644.0</td>\n",
       "      <td>690.0</td>\n",
       "      <td>0.975797</td>\n",
       "      <td>1645.681396</td>\n",
       "      <td>1642.506592</td>\n",
       "      <td>1648.326294</td>\n",
       "      <td>...</td>\n",
       "      <td>570050619</td>\n",
       "      <td>{\"mz_lower\": 663.3, \"mz_upper\": 663.4, \"scan_l...</td>\n",
       "      <td>[{\"scan\":611,\"inverse_k0\":1.0074710846,\"intens...</td>\n",
       "      <td>0.954634</td>\n",
       "      <td>[{\"frame_id\":14452,\"retention_time_secs\":1633....</td>\n",
       "      <td>0.828156</td>\n",
       "      <td>12</td>\n",
       "      <td>145778</td>\n",
       "      <td>0.533508</td>\n",
       "      <td>True</td>\n",
       "    </tr>\n",
       "    <tr>\n",
       "      <th>71713</th>\n",
       "      <td>6276</td>\n",
       "      <td>743.364319</td>\n",
       "      <td>743.411682</td>\n",
       "      <td>133.0</td>\n",
       "      <td>118.0</td>\n",
       "      <td>138.0</td>\n",
       "      <td>1.250095</td>\n",
       "      <td>732.663635</td>\n",
       "      <td>731.089661</td>\n",
       "      <td>733.714417</td>\n",
       "      <td>...</td>\n",
       "      <td>650028904</td>\n",
       "      <td>{\"mz_lower\": 744.3000000000001, \"mz_upper\": 74...</td>\n",
       "      <td>[{\"scan\":98,\"inverse_k0\":1.2677513361,\"intensi...</td>\n",
       "      <td>-0.466033</td>\n",
       "      <td>[{\"frame_id\":6600,\"retention_time_secs\":721.10...</td>\n",
       "      <td>0.836805</td>\n",
       "      <td>6</td>\n",
       "      <td>242585</td>\n",
       "      <td>0.223675</td>\n",
       "      <td>True</td>\n",
       "    </tr>\n",
       "    <tr>\n",
       "      <th>142321</th>\n",
       "      <td>3388</td>\n",
       "      <td>1050.437622</td>\n",
       "      <td>1050.504517</td>\n",
       "      <td>493.0</td>\n",
       "      <td>483.0</td>\n",
       "      <td>509.0</td>\n",
       "      <td>1.067624</td>\n",
       "      <td>1914.554932</td>\n",
       "      <td>1909.554932</td>\n",
       "      <td>1925.138184</td>\n",
       "      <td>...</td>\n",
       "      <td>960029361</td>\n",
       "      <td>{\"mz_lower\": 1050.8, \"mz_upper\": 1050.9, \"scan...</td>\n",
       "      <td>[{\"scan\":452,\"inverse_k0\":1.0884844065,\"intens...</td>\n",
       "      <td>0.940505</td>\n",
       "      <td>[{\"frame_id\":17092,\"retention_time_secs\":1912....</td>\n",
       "      <td>0.825598</td>\n",
       "      <td>7</td>\n",
       "      <td>453962</td>\n",
       "      <td>0.710488</td>\n",
       "      <td>True</td>\n",
       "    </tr>\n",
       "    <tr>\n",
       "      <th>6135</th>\n",
       "      <td>2401</td>\n",
       "      <td>572.334839</td>\n",
       "      <td>572.371338</td>\n",
       "      <td>351.0</td>\n",
       "      <td>341.0</td>\n",
       "      <td>361.0</td>\n",
       "      <td>1.139786</td>\n",
       "      <td>891.821716</td>\n",
       "      <td>889.720642</td>\n",
       "      <td>893.923340</td>\n",
       "      <td>...</td>\n",
       "      <td>480005472</td>\n",
       "      <td>{\"mz_lower\": 573.3, \"mz_upper\": 573.4, \"scan_l...</td>\n",
       "      <td>[{\"scan\":314,\"inverse_k0\":1.1585483551,\"intens...</td>\n",
       "      <td>0.946985</td>\n",
       "      <td>[{\"frame_id\":8120,\"retention_time_secs\":880.79...</td>\n",
       "      <td>0.724564</td>\n",
       "      <td>9</td>\n",
       "      <td>22003</td>\n",
       "      <td>0.582924</td>\n",
       "      <td>True</td>\n",
       "    </tr>\n",
       "  </tbody>\n",
       "</table>\n",
       "<p>4 rows × 37 columns</p>\n",
       "</div>"
      ],
      "text/plain": [
       "        index  mono_mz_lower  mono_mz_upper  scan_apex  scan_lower  \\\n",
       "41928   11297     662.804016     662.846252      673.0       644.0   \n",
       "71713    6276     743.364319     743.411682      133.0       118.0   \n",
       "142321   3388    1050.437622    1050.504517      493.0       483.0   \n",
       "6135     2401     572.334839     572.371338      351.0       341.0   \n",
       "\n",
       "        scan_upper  inverse_k0_apex      rt_apex     rt_lower     rt_upper  \\\n",
       "41928        690.0         0.975797  1645.681396  1642.506592  1648.326294   \n",
       "71713        138.0         1.250095   732.663635   731.089661   733.714417   \n",
       "142321       509.0         1.067624  1914.554932  1909.554932  1925.138184   \n",
       "6135         361.0         1.139786   891.821716   889.720642   893.923340   \n",
       "\n",
       "        ...   voxel_id                                   voxel_metadata_d  \\\n",
       "41928   ...  570050619  {\"mz_lower\": 663.3, \"mz_upper\": 663.4, \"scan_l...   \n",
       "71713   ...  650028904  {\"mz_lower\": 744.3000000000001, \"mz_upper\": 74...   \n",
       "142321  ...  960029361  {\"mz_lower\": 1050.8, \"mz_upper\": 1050.9, \"scan...   \n",
       "6135    ...  480005472  {\"mz_lower\": 573.3, \"mz_upper\": 573.4, \"scan_l...   \n",
       "\n",
       "                                                  scan_df scan_r_squared  \\\n",
       "41928   [{\"scan\":611,\"inverse_k0\":1.0074710846,\"intens...       0.954634   \n",
       "71713   [{\"scan\":98,\"inverse_k0\":1.2677513361,\"intensi...      -0.466033   \n",
       "142321  [{\"scan\":452,\"inverse_k0\":1.0884844065,\"intens...       0.940505   \n",
       "6135    [{\"scan\":314,\"inverse_k0\":1.1585483551,\"intens...       0.946985   \n",
       "\n",
       "                                                    rt_df rt_r_squared  \\\n",
       "41928   [{\"frame_id\":14452,\"retention_time_secs\":1633....     0.828156   \n",
       "71713   [{\"frame_id\":6600,\"retention_time_secs\":721.10...     0.836805   \n",
       "142321  [{\"frame_id\":17092,\"retention_time_secs\":1912....     0.825598   \n",
       "6135    [{\"frame_id\":8120,\"retention_time_secs\":880.79...     0.724564   \n",
       "\n",
       "        number_of_frames  feature_id prediction  identification_predicted  \n",
       "41928                 12      145778   0.533508                      True  \n",
       "71713                  6      242585   0.223675                      True  \n",
       "142321                 7      453962   0.710488                      True  \n",
       "6135                   9       22003   0.582924                      True  \n",
       "\n",
       "[4 rows x 37 columns]"
      ]
     },
     "execution_count": 4,
     "metadata": {},
     "output_type": "execute_result"
    }
   ],
   "source": [
    "detects_3did_df.sample(n=4)"
   ]
  },
  {
   "cell_type": "code",
   "execution_count": 5,
   "metadata": {},
   "outputs": [
    {
     "data": {
      "text/plain": [
       "scan_apex             916.0\n",
       "inverse_k0_apex    0.851201\n",
       "Name: 1, dtype: object"
      ]
     },
     "execution_count": 5,
     "metadata": {},
     "output_type": "execute_result"
    }
   ],
   "source": [
    "detects_3did_df.loc[detects_3did_df.scan_apex.idxmax()][['scan_apex','inverse_k0_apex']]"
   ]
  },
  {
   "cell_type": "code",
   "execution_count": 6,
   "metadata": {},
   "outputs": [
    {
     "data": {
      "text/plain": [
       "scan_apex              49.0\n",
       "inverse_k0_apex    1.292446\n",
       "Name: 86728, dtype: object"
      ]
     },
     "execution_count": 6,
     "metadata": {},
     "output_type": "execute_result"
    }
   ],
   "source": [
    "detects_3did_df.loc[detects_3did_df.scan_apex.idxmin()][['scan_apex','inverse_k0_apex']]"
   ]
  },
  {
   "cell_type": "code",
   "execution_count": 7,
   "metadata": {},
   "outputs": [
    {
     "data": {
      "text/plain": [
       "0.010178662053056517"
      ]
     },
     "execution_count": 7,
     "metadata": {},
     "output_type": "execute_result"
    }
   ],
   "source": [
    "(1.292446-0.851201)/(916-49)*20"
   ]
  },
  {
   "cell_type": "code",
   "execution_count": 8,
   "metadata": {},
   "outputs": [
    {
     "data": {
      "text/plain": [
       "Index(['index', 'mono_mz_lower', 'mono_mz_upper', 'scan_apex', 'scan_lower',\n",
       "       'scan_upper', 'inverse_k0_apex', 'rt_apex', 'rt_lower', 'rt_upper',\n",
       "       'intensity_without_saturation_correction',\n",
       "       'intensity_with_saturation_correction',\n",
       "       'mono_intensity_adjustment_outcome', 'isotopic_peaks', 'isotope_count',\n",
       "       'envelope', 'coelution_coefficient', 'mobility_coefficient',\n",
       "       'voxels_processed', 'monoisotopic_mz', 'charge', 'neutral_mass',\n",
       "       'monoisotopic_mass', 'feature_intensity', 'deconvolution_envelope',\n",
       "       'deconvolution_score', 'feature_region_3d_extent', 'voxel_id',\n",
       "       'voxel_metadata_d', 'scan_df', 'scan_r_squared', 'rt_df',\n",
       "       'rt_r_squared', 'number_of_frames', 'feature_id', 'prediction',\n",
       "       'identification_predicted'],\n",
       "      dtype='object')"
      ]
     },
     "execution_count": 8,
     "metadata": {},
     "output_type": "execute_result"
    }
   ],
   "source": [
    "detects_3did_df.columns"
   ]
  },
  {
   "cell_type": "code",
   "execution_count": 36,
   "metadata": {},
   "outputs": [],
   "source": [
    "biosaur_name = 'P3856_YHE211_1_Slot1-1_1_5104-denoised-biosaur-mini-100-ac-25-minl-6.features.tsv'\n",
    "DETECTS_BIOSAUR_FILE = '{}/{}'.format(expanduser('~'), biosaur_name)\n"
   ]
  },
  {
   "cell_type": "code",
   "execution_count": 37,
   "metadata": {},
   "outputs": [],
   "source": [
    "detects_biosaur_df = pd.read_csv(DETECTS_BIOSAUR_FILE, sep='\\\\t', engine='python')"
   ]
  },
  {
   "cell_type": "code",
   "execution_count": 38,
   "metadata": {},
   "outputs": [],
   "source": [
    "detects_biosaur_df = detects_biosaur_df[(detects_biosaur_df.nIsotopes >= 3)]"
   ]
  },
  {
   "cell_type": "code",
   "execution_count": 39,
   "metadata": {},
   "outputs": [
    {
     "data": {
      "text/plain": [
       "1.2843854495463003"
      ]
     },
     "execution_count": 39,
     "metadata": {},
     "output_type": "execute_result"
    }
   ],
   "source": [
    "detects_biosaur_df.loc[detects_biosaur_df.ion_mobility.idxmax()].ion_mobility"
   ]
  },
  {
   "cell_type": "code",
   "execution_count": 40,
   "metadata": {},
   "outputs": [
    {
     "data": {
      "text/plain": [
       "Index(['massCalib', 'rtApex', 'intensityApex', 'charge', 'nIsotopes', 'nScans',\n",
       "       'sulfur', 'cos_corr_1', 'cos_corr_2', 'diff_for_output',\n",
       "       'corr_fill_zero', 'intensity_1', 'scan_id_1', 'mz_std_1', 'intensity_2',\n",
       "       'scan_id_2', 'mz_std_2', 'mz', 'rtStart', 'rtEnd', 'id', 'ion_mobility',\n",
       "       'FAIMS', 'targeted_mode'],\n",
       "      dtype='object')"
      ]
     },
     "execution_count": 40,
     "metadata": {},
     "output_type": "execute_result"
    }
   ],
   "source": [
    "detects_biosaur_df.columns"
   ]
  },
  {
   "cell_type": "code",
   "execution_count": 41,
   "metadata": {},
   "outputs": [],
   "source": [
    "# corresponds to about the same scan tolerance as 20 scans over 910\n",
    "DUP_INVERSE_K0 = (detects_3did_df.inverse_k0_apex.max()-detects_3did_df.inverse_k0_apex.min())*(20/910) * 4\n",
    "DUP_INVERSE_K0 = 0.03"
   ]
  },
  {
   "cell_type": "code",
   "execution_count": 42,
   "metadata": {},
   "outputs": [],
   "source": [
    "# definition of a duplicate feature\n",
    "DUP_MZ_TOLERANCE_PPM = 10\n",
    "DUP_RT_TOLERANCE = 5"
   ]
  },
  {
   "cell_type": "code",
   "execution_count": 43,
   "metadata": {},
   "outputs": [],
   "source": [
    "# set up dup definitions\n",
    "MZ_TOLERANCE_PERCENT = DUP_MZ_TOLERANCE_PPM * 10**-4\n",
    "detects_biosaur_df['dup_mz_ppm_tolerance'] = detects_biosaur_df.mz * MZ_TOLERANCE_PERCENT / 100\n",
    "detects_biosaur_df['dup_mz_lower'] = detects_biosaur_df.mz - detects_biosaur_df.dup_mz_ppm_tolerance\n",
    "detects_biosaur_df['dup_mz_upper'] = detects_biosaur_df.mz + detects_biosaur_df.dup_mz_ppm_tolerance\n",
    "detects_biosaur_df['dup_inverse_k0_lower'] = detects_biosaur_df.ion_mobility - DUP_INVERSE_K0\n",
    "detects_biosaur_df['dup_inverse_k0_upper'] = detects_biosaur_df.ion_mobility + DUP_INVERSE_K0\n",
    "detects_biosaur_df['dup_rt_lower'] = detects_biosaur_df.rtApex - DUP_RT_TOLERANCE\n",
    "detects_biosaur_df['dup_rt_upper'] = detects_biosaur_df.rtApex + DUP_RT_TOLERANCE"
   ]
  },
  {
   "cell_type": "code",
   "execution_count": 44,
   "metadata": {},
   "outputs": [],
   "source": [
    "# find the features detected by 3DID and Biosaur\n",
    "matched_features_3did = set()\n",
    "matched_features_biosaur = set()\n",
    "\n",
    "for row in detects_3did_df.itertuples():\n",
    "    df = detects_biosaur_df[(row.charge == detects_biosaur_df.charge) & (row.monoisotopic_mz >= detects_biosaur_df.dup_mz_lower) & (row.monoisotopic_mz <= detects_biosaur_df.dup_mz_upper) & (row.inverse_k0_apex >= detects_biosaur_df.dup_inverse_k0_lower) & (row.inverse_k0_apex <= detects_biosaur_df.dup_inverse_k0_upper) & (row.rt_apex >= detects_biosaur_df.dup_rt_lower) & (row.rt_apex <= detects_biosaur_df.dup_rt_upper)]\n",
    "    if len(df) > 0:\n",
    "        matched_features_3did.update(set([row.feature_id]))\n",
    "        matched_features_biosaur.update(set(df.id.tolist()))"
   ]
  },
  {
   "cell_type": "code",
   "execution_count": 45,
   "metadata": {},
   "outputs": [],
   "source": [
    "contained_in_3did_not_biosaur = len(detects_3did_df) - len(matched_features_3did)\n",
    "contained_in_biosaur_not_3did = len(detects_biosaur_df) - len(matched_features_biosaur)\n",
    "contained_in_both = len(matched_features_biosaur)"
   ]
  },
  {
   "cell_type": "code",
   "execution_count": 46,
   "metadata": {},
   "outputs": [
    {
     "data": {
      "image/png": "[encoded data removed]",
      "text/plain": [
       "<Figure size 1440x1080 with 1 Axes>"
      ]
     },
     "metadata": {},
     "output_type": "display_data"
    }
   ],
   "source": [
    "f, ax = plt.subplots()\n",
    "f.set_figheight(15)\n",
    "f.set_figwidth(20)\n",
    "\n",
    "plt.margins(0.06)\n",
    "\n",
    "venn2(subsets = (contained_in_3did_not_biosaur, contained_in_biosaur_not_3did, contained_in_both), set_labels = ('3DID', 'Biosaur'))\n",
    "plt.show()"
   ]
  },
  {
   "cell_type": "code",
   "execution_count": 47,
   "metadata": {},
   "outputs": [],
   "source": [
    "matched_3did_df = detects_3did_df[detects_3did_df.feature_id.isin(matched_features_3did)]"
   ]
  },
  {
   "cell_type": "code",
   "execution_count": 48,
   "metadata": {},
   "outputs": [
    {
     "data": {
      "image/png": "[encoded data removed]",
      "text/plain": [
       "<Figure size 1440x1080 with 1 Axes>"
      ]
     },
     "metadata": {
      "needs_background": "light"
     },
     "output_type": "display_data"
    }
   ],
   "source": [
    "f, ax = plt.subplots()\n",
    "f.set_figheight(15)\n",
    "f.set_figwidth(20)\n",
    "\n",
    "plt.margins(0.06)\n",
    "\n",
    "bins = 500\n",
    "values = np.log2(detects_3did_df.feature_intensity)\n",
    "y, x, _ = ax.hist(values, bins=bins, label='detected')\n",
    "\n",
    "values = np.log2(matched_3did_df.feature_intensity)\n",
    "y, x, _ = ax.hist(values, bins=bins, label='matched')\n",
    "\n",
    "plt.show()"
   ]
  },
  {
   "cell_type": "code",
   "execution_count": null,
   "metadata": {},
   "outputs": [],
   "source": []
  }
 ],
 "metadata": {
  "kernelspec": {
   "display_name": "Python 3",
   "language": "python",
   "name": "python3"
  },
  "language_info": {
   "codemirror_mode": {
    "name": "ipython",
    "version": 3
   },
   "file_extension": ".py",
   "mimetype": "text/x-python",
   "name": "python",
   "nbconvert_exporter": "python",
   "pygments_lexer": "ipython3",
   "version": "3.8.5"
  }
 },
 "nbformat": 4,
 "nbformat_minor": 4
}
