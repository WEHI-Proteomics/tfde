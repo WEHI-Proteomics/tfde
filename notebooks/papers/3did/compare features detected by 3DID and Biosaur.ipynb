{
 "cells": [
  {
   "cell_type": "code",
   "execution_count": 1,
   "metadata": {},
   "outputs": [],
   "source": [
    "import pandas as pd\n",
    "import numpy as np\n",
    "import os\n",
    "import matplotlib.pyplot as plt\n",
    "from matplotlib_venn import venn2\n",
    "from os.path import expanduser\n",
    "import seaborn as sns\n",
    "from cmcrameri import cm\n",
    "from matplotlib import colors\n",
    "import matplotlib.patches as patches"
   ]
  },
  {
   "cell_type": "code",
   "execution_count": 2,
   "metadata": {},
   "outputs": [],
   "source": [
    "DETECTS_3DID_NAME = 'minvi-600-2021-12-19-02-35-34'\n",
    "DETECTS_3DID_DIR = '/media/big-ssd/results-P3856_YHE211-3did/{}/P3856_YHE211/features-3did'.format(DETECTS_3DID_NAME)\n",
    "DETECTS_3DID_FILE = '{}/exp-P3856_YHE211-run-P3856_YHE211_1_Slot1-1_1_5104-features-3did-dedup.feather'.format(DETECTS_3DID_DIR)"
   ]
  },
  {
   "cell_type": "code",
   "execution_count": 3,
   "metadata": {},
   "outputs": [],
   "source": [
    "# load the 3DID features classified as identifiable\n",
    "detects_3did_df = pd.read_feather(DETECTS_3DID_FILE)"
   ]
  },
  {
   "cell_type": "code",
   "execution_count": 4,
   "metadata": {},
   "outputs": [
    {
     "data": {
      "text/html": [
       "<div>\n",
       "<style scoped>\n",
       "    .dataframe tbody tr th:only-of-type {\n",
       "        vertical-align: middle;\n",
       "    }\n",
       "\n",
       "    .dataframe tbody tr th {\n",
       "        vertical-align: top;\n",
       "    }\n",
       "\n",
       "    .dataframe thead th {\n",
       "        text-align: right;\n",
       "    }\n",
       "</style>\n",
       "<table border=\"1\" class=\"dataframe\">\n",
       "  <thead>\n",
       "    <tr style=\"text-align: right;\">\n",
       "      <th></th>\n",
       "      <th>index</th>\n",
       "      <th>mono_mz_lower</th>\n",
       "      <th>mono_mz_upper</th>\n",
       "      <th>scan_apex</th>\n",
       "      <th>scan_lower</th>\n",
       "      <th>scan_upper</th>\n",
       "      <th>inverse_k0_apex</th>\n",
       "      <th>rt_apex</th>\n",
       "      <th>rt_lower</th>\n",
       "      <th>rt_upper</th>\n",
       "      <th>...</th>\n",
       "      <th>voxel_id</th>\n",
       "      <th>voxel_metadata_d</th>\n",
       "      <th>scan_df</th>\n",
       "      <th>scan_r_squared</th>\n",
       "      <th>rt_df</th>\n",
       "      <th>rt_r_squared</th>\n",
       "      <th>number_of_frames</th>\n",
       "      <th>feature_id</th>\n",
       "      <th>prediction</th>\n",
       "      <th>identification_predicted</th>\n",
       "    </tr>\n",
       "  </thead>\n",
       "  <tbody>\n",
       "    <tr>\n",
       "      <th>94779</th>\n",
       "      <td>1252</td>\n",
       "      <td>846.949829</td>\n",
       "      <td>847.003784</td>\n",
       "      <td>398.0</td>\n",
       "      <td>374.0</td>\n",
       "      <td>422.0</td>\n",
       "      <td>1.115928</td>\n",
       "      <td>2044.204346</td>\n",
       "      <td>2039.442993</td>\n",
       "      <td>2049.204346</td>\n",
       "      <td>...</td>\n",
       "      <td>750007462</td>\n",
       "      <td>{\"mz_lower\": 847.4, \"mz_upper\": 847.5, \"scan_l...</td>\n",
       "      <td>[{\"scan\":360,\"inverse_k0\":1.1352194548,\"intens...</td>\n",
       "      <td>0.994851</td>\n",
       "      <td>[{\"frame_id\":18262,\"retention_time_secs\":2036....</td>\n",
       "      <td>0.977876</td>\n",
       "      <td>19</td>\n",
       "      <td>312838</td>\n",
       "      <td>0.752914</td>\n",
       "      <td>True</td>\n",
       "    </tr>\n",
       "    <tr>\n",
       "      <th>154830</th>\n",
       "      <td>301</td>\n",
       "      <td>1214.910156</td>\n",
       "      <td>1214.987549</td>\n",
       "      <td>311.0</td>\n",
       "      <td>287.0</td>\n",
       "      <td>322.0</td>\n",
       "      <td>1.160069</td>\n",
       "      <td>1783.294189</td>\n",
       "      <td>1778.294189</td>\n",
       "      <td>1788.294189</td>\n",
       "      <td>...</td>\n",
       "      <td>1120002408</td>\n",
       "      <td>{\"mz_lower\": 1215.2, \"mz_upper\": 1215.3, \"scan...</td>\n",
       "      <td>[{\"scan\":271,\"inverse_k0\":1.1803327799,\"intens...</td>\n",
       "      <td>0.955846</td>\n",
       "      <td>[{\"frame_id\":15852,\"retention_time_secs\":1781....</td>\n",
       "      <td>0.933476</td>\n",
       "      <td>8</td>\n",
       "      <td>492789</td>\n",
       "      <td>0.715181</td>\n",
       "      <td>True</td>\n",
       "    </tr>\n",
       "    <tr>\n",
       "      <th>69659</th>\n",
       "      <td>750</td>\n",
       "      <td>741.285889</td>\n",
       "      <td>741.333069</td>\n",
       "      <td>110.0</td>\n",
       "      <td>95.0</td>\n",
       "      <td>136.0</td>\n",
       "      <td>1.261699</td>\n",
       "      <td>955.906067</td>\n",
       "      <td>954.330200</td>\n",
       "      <td>960.110107</td>\n",
       "      <td>...</td>\n",
       "      <td>650003107</td>\n",
       "      <td>{\"mz_lower\": 741.3, \"mz_upper\": 741.4, \"scan_l...</td>\n",
       "      <td>[{\"scan\":68,\"inverse_k0\":1.2828739882,\"intensi...</td>\n",
       "      <td>0.979108</td>\n",
       "      <td>[{\"frame_id\":8740,\"retention_time_secs\":945.92...</td>\n",
       "      <td>0.759387</td>\n",
       "      <td>12</td>\n",
       "      <td>237059</td>\n",
       "      <td>0.945379</td>\n",
       "      <td>True</td>\n",
       "    </tr>\n",
       "    <tr>\n",
       "      <th>47667</th>\n",
       "      <td>2777</td>\n",
       "      <td>689.305420</td>\n",
       "      <td>689.349304</td>\n",
       "      <td>209.0</td>\n",
       "      <td>199.0</td>\n",
       "      <td>239.0</td>\n",
       "      <td>1.211703</td>\n",
       "      <td>518.367981</td>\n",
       "      <td>514.692017</td>\n",
       "      <td>519.944702</td>\n",
       "      <td>...</td>\n",
       "      <td>590009322</td>\n",
       "      <td>{\"mz_lower\": 689.3000000000001, \"mz_upper\": 68...</td>\n",
       "      <td>[{\"scan\":169,\"inverse_k0\":1.2319179773,\"intens...</td>\n",
       "      <td>0.977105</td>\n",
       "      <td>[{\"frame_id\":4550,\"retention_time_secs\":505.76...</td>\n",
       "      <td>0.949766</td>\n",
       "      <td>11</td>\n",
       "      <td>164244</td>\n",
       "      <td>0.400739</td>\n",
       "      <td>True</td>\n",
       "    </tr>\n",
       "  </tbody>\n",
       "</table>\n",
       "<p>4 rows × 37 columns</p>\n",
       "</div>"
      ],
      "text/plain": [
       "        index  mono_mz_lower  mono_mz_upper  scan_apex  scan_lower  \\\n",
       "94779    1252     846.949829     847.003784      398.0       374.0   \n",
       "154830    301    1214.910156    1214.987549      311.0       287.0   \n",
       "69659     750     741.285889     741.333069      110.0        95.0   \n",
       "47667    2777     689.305420     689.349304      209.0       199.0   \n",
       "\n",
       "        scan_upper  inverse_k0_apex      rt_apex     rt_lower     rt_upper  \\\n",
       "94779        422.0         1.115928  2044.204346  2039.442993  2049.204346   \n",
       "154830       322.0         1.160069  1783.294189  1778.294189  1788.294189   \n",
       "69659        136.0         1.261699   955.906067   954.330200   960.110107   \n",
       "47667        239.0         1.211703   518.367981   514.692017   519.944702   \n",
       "\n",
       "        ...    voxel_id                                   voxel_metadata_d  \\\n",
       "94779   ...   750007462  {\"mz_lower\": 847.4, \"mz_upper\": 847.5, \"scan_l...   \n",
       "154830  ...  1120002408  {\"mz_lower\": 1215.2, \"mz_upper\": 1215.3, \"scan...   \n",
       "69659   ...   650003107  {\"mz_lower\": 741.3, \"mz_upper\": 741.4, \"scan_l...   \n",
       "47667   ...   590009322  {\"mz_lower\": 689.3000000000001, \"mz_upper\": 68...   \n",
       "\n",
       "                                                  scan_df scan_r_squared  \\\n",
       "94779   [{\"scan\":360,\"inverse_k0\":1.1352194548,\"intens...       0.994851   \n",
       "154830  [{\"scan\":271,\"inverse_k0\":1.1803327799,\"intens...       0.955846   \n",
       "69659   [{\"scan\":68,\"inverse_k0\":1.2828739882,\"intensi...       0.979108   \n",
       "47667   [{\"scan\":169,\"inverse_k0\":1.2319179773,\"intens...       0.977105   \n",
       "\n",
       "                                                    rt_df rt_r_squared  \\\n",
       "94779   [{\"frame_id\":18262,\"retention_time_secs\":2036....     0.977876   \n",
       "154830  [{\"frame_id\":15852,\"retention_time_secs\":1781....     0.933476   \n",
       "69659   [{\"frame_id\":8740,\"retention_time_secs\":945.92...     0.759387   \n",
       "47667   [{\"frame_id\":4550,\"retention_time_secs\":505.76...     0.949766   \n",
       "\n",
       "        number_of_frames  feature_id prediction  identification_predicted  \n",
       "94779                 19      312838   0.752914                      True  \n",
       "154830                 8      492789   0.715181                      True  \n",
       "69659                 12      237059   0.945379                      True  \n",
       "47667                 11      164244   0.400739                      True  \n",
       "\n",
       "[4 rows x 37 columns]"
      ]
     },
     "execution_count": 4,
     "metadata": {},
     "output_type": "execute_result"
    }
   ],
   "source": [
    "detects_3did_df.sample(n=4)"
   ]
  },
  {
   "cell_type": "code",
   "execution_count": 5,
   "metadata": {},
   "outputs": [
    {
     "data": {
      "text/plain": [
       "scan_apex             916.0\n",
       "inverse_k0_apex    0.851201\n",
       "Name: 1, dtype: object"
      ]
     },
     "execution_count": 5,
     "metadata": {},
     "output_type": "execute_result"
    }
   ],
   "source": [
    "detects_3did_df.loc[detects_3did_df.scan_apex.idxmax()][['scan_apex','inverse_k0_apex']]"
   ]
  },
  {
   "cell_type": "code",
   "execution_count": 6,
   "metadata": {},
   "outputs": [
    {
     "data": {
      "text/plain": [
       "scan_apex              49.0\n",
       "inverse_k0_apex    1.292446\n",
       "Name: 86728, dtype: object"
      ]
     },
     "execution_count": 6,
     "metadata": {},
     "output_type": "execute_result"
    }
   ],
   "source": [
    "detects_3did_df.loc[detects_3did_df.scan_apex.idxmin()][['scan_apex','inverse_k0_apex']]"
   ]
  },
  {
   "cell_type": "code",
   "execution_count": 7,
   "metadata": {},
   "outputs": [
    {
     "data": {
      "text/plain": [
       "0.010178662053056517"
      ]
     },
     "execution_count": 7,
     "metadata": {},
     "output_type": "execute_result"
    }
   ],
   "source": [
    "(1.292446-0.851201)/(916-49)*20"
   ]
  },
  {
   "cell_type": "code",
   "execution_count": 8,
   "metadata": {},
   "outputs": [
    {
     "data": {
      "text/plain": [
       "Index(['index', 'mono_mz_lower', 'mono_mz_upper', 'scan_apex', 'scan_lower',\n",
       "       'scan_upper', 'inverse_k0_apex', 'rt_apex', 'rt_lower', 'rt_upper',\n",
       "       'intensity_without_saturation_correction',\n",
       "       'intensity_with_saturation_correction',\n",
       "       'mono_intensity_adjustment_outcome', 'isotopic_peaks', 'isotope_count',\n",
       "       'envelope', 'coelution_coefficient', 'mobility_coefficient',\n",
       "       'voxels_processed', 'monoisotopic_mz', 'charge', 'neutral_mass',\n",
       "       'monoisotopic_mass', 'feature_intensity', 'deconvolution_envelope',\n",
       "       'deconvolution_score', 'feature_region_3d_extent', 'voxel_id',\n",
       "       'voxel_metadata_d', 'scan_df', 'scan_r_squared', 'rt_df',\n",
       "       'rt_r_squared', 'number_of_frames', 'feature_id', 'prediction',\n",
       "       'identification_predicted'],\n",
       "      dtype='object')"
      ]
     },
     "execution_count": 8,
     "metadata": {},
     "output_type": "execute_result"
    }
   ],
   "source": [
    "detects_3did_df.columns"
   ]
  },
  {
   "cell_type": "code",
   "execution_count": 81,
   "metadata": {},
   "outputs": [],
   "source": [
    "biosaur_name = 'P3856_YHE211_1_Slot1-1_1_5104-denoised-biosaur-mini-200-ac-10-minl-3.features.tsv'\n",
    "\n",
    "DETECTS_BIOSAUR_FILE = '{}/{}'.format(expanduser('~'), biosaur_name)"
   ]
  },
  {
   "cell_type": "code",
   "execution_count": 82,
   "metadata": {},
   "outputs": [],
   "source": [
    "detects_biosaur_df = pd.read_csv(DETECTS_BIOSAUR_FILE, sep='\\\\t', engine='python')"
   ]
  },
  {
   "cell_type": "code",
   "execution_count": 83,
   "metadata": {},
   "outputs": [],
   "source": [
    "detects_biosaur_df = detects_biosaur_df[(detects_biosaur_df.nIsotopes >= 3)]"
   ]
  },
  {
   "cell_type": "code",
   "execution_count": 84,
   "metadata": {},
   "outputs": [
    {
     "data": {
      "text/plain": [
       "1.2853787977064846"
      ]
     },
     "execution_count": 84,
     "metadata": {},
     "output_type": "execute_result"
    }
   ],
   "source": [
    "detects_biosaur_df.loc[detects_biosaur_df.ion_mobility.idxmax()].ion_mobility"
   ]
  },
  {
   "cell_type": "code",
   "execution_count": 85,
   "metadata": {},
   "outputs": [
    {
     "data": {
      "text/plain": [
       "Index(['massCalib', 'rtApex', 'intensityApex', 'charge', 'nIsotopes', 'nScans',\n",
       "       'sulfur', 'cos_corr_1', 'cos_corr_2', 'diff_for_output',\n",
       "       'corr_fill_zero', 'intensity_1', 'scan_id_1', 'mz_std_1', 'intensity_2',\n",
       "       'scan_id_2', 'mz_std_2', 'mz', 'rtStart', 'rtEnd', 'id', 'ion_mobility',\n",
       "       'FAIMS', 'targeted_mode'],\n",
       "      dtype='object')"
      ]
     },
     "execution_count": 85,
     "metadata": {},
     "output_type": "execute_result"
    }
   ],
   "source": [
    "detects_biosaur_df.columns"
   ]
  },
  {
   "cell_type": "code",
   "execution_count": 86,
   "metadata": {},
   "outputs": [],
   "source": [
    "# corresponds to about the same scan tolerance as 20 scans over 910\n",
    "DUP_INVERSE_K0 = (detects_3did_df.inverse_k0_apex.max()-detects_3did_df.inverse_k0_apex.min())*(20/910) * 4\n",
    "DUP_INVERSE_K0 = 0.05"
   ]
  },
  {
   "cell_type": "code",
   "execution_count": 87,
   "metadata": {},
   "outputs": [],
   "source": [
    "# definition of a duplicate feature\n",
    "DUP_MZ_TOLERANCE_PPM = 25\n",
    "DUP_RT_TOLERANCE = 5"
   ]
  },
  {
   "cell_type": "code",
   "execution_count": 88,
   "metadata": {},
   "outputs": [],
   "source": [
    "# set up dup definitions\n",
    "MZ_TOLERANCE_PERCENT = DUP_MZ_TOLERANCE_PPM * 10**-4\n",
    "detects_biosaur_df['dup_mz_ppm_tolerance'] = detects_biosaur_df.mz * MZ_TOLERANCE_PERCENT / 100\n",
    "detects_biosaur_df['dup_mz_lower'] = detects_biosaur_df.mz - detects_biosaur_df.dup_mz_ppm_tolerance\n",
    "detects_biosaur_df['dup_mz_upper'] = detects_biosaur_df.mz + detects_biosaur_df.dup_mz_ppm_tolerance\n",
    "detects_biosaur_df['dup_inverse_k0_lower'] = detects_biosaur_df.ion_mobility - DUP_INVERSE_K0\n",
    "detects_biosaur_df['dup_inverse_k0_upper'] = detects_biosaur_df.ion_mobility + DUP_INVERSE_K0\n",
    "detects_biosaur_df['dup_rt_lower'] = detects_biosaur_df.rtApex - DUP_RT_TOLERANCE\n",
    "detects_biosaur_df['dup_rt_upper'] = detects_biosaur_df.rtApex + DUP_RT_TOLERANCE"
   ]
  },
  {
   "cell_type": "code",
   "execution_count": 89,
   "metadata": {},
   "outputs": [],
   "source": [
    "# find the features detected by 3DID and Biosaur\n",
    "matched_features_3did = set()\n",
    "matched_features_biosaur = set()\n",
    "\n",
    "for row in detects_3did_df.itertuples():\n",
    "    df = detects_biosaur_df[(row.charge == detects_biosaur_df.charge) & (row.monoisotopic_mz >= detects_biosaur_df.dup_mz_lower) & (row.monoisotopic_mz <= detects_biosaur_df.dup_mz_upper) & (row.inverse_k0_apex >= detects_biosaur_df.dup_inverse_k0_lower) & (row.inverse_k0_apex <= detects_biosaur_df.dup_inverse_k0_upper) & (row.rt_apex >= detects_biosaur_df.dup_rt_lower) & (row.rt_apex <= detects_biosaur_df.dup_rt_upper)]\n",
    "    if len(df) > 0:\n",
    "        matched_features_3did.update(set([row.feature_id]))\n",
    "        matched_features_biosaur.update(set(df.id.tolist()))"
   ]
  },
  {
   "cell_type": "code",
   "execution_count": 90,
   "metadata": {},
   "outputs": [],
   "source": [
    "contained_in_3did_not_biosaur = len(detects_3did_df) - len(matched_features_3did)\n",
    "contained_in_biosaur_not_3did = len(detects_biosaur_df) - len(matched_features_biosaur)\n",
    "contained_in_both = len(matched_features_biosaur)"
   ]
  },
  {
   "cell_type": "code",
   "execution_count": 91,
   "metadata": {},
   "outputs": [
    {
     "data": {
      "image/png": "[encoded data removed]",
      "text/plain": [
       "<Figure size 1440x1080 with 1 Axes>"
      ]
     },
     "metadata": {},
     "output_type": "display_data"
    }
   ],
   "source": [
    "f, ax = plt.subplots()\n",
    "f.set_figheight(15)\n",
    "f.set_figwidth(20)\n",
    "\n",
    "plt.margins(0.06)\n",
    "\n",
    "v = venn2(subsets = (contained_in_3did_not_biosaur, contained_in_biosaur_not_3did, contained_in_both), set_labels = ('3DID', 'Biosaur'))\n",
    "for text in v.subset_labels:\n",
    "    text.set_fontsize(15)\n",
    "for text in v.set_labels:\n",
    "    text.set_fontsize(15)\n",
    "\n",
    "plt.show()"
   ]
  },
  {
   "cell_type": "code",
   "execution_count": 92,
   "metadata": {},
   "outputs": [],
   "source": [
    "matched_3did_df = detects_3did_df[detects_3did_df.feature_id.isin(matched_features_3did)]"
   ]
  },
  {
   "cell_type": "code",
   "execution_count": 93,
   "metadata": {},
   "outputs": [
    {
     "data": {
      "image/png": "[encoded data removed]",
      "text/plain": [
       "<Figure size 1080x720 with 1 Axes>"
      ]
     },
     "metadata": {
      "needs_background": "light"
     },
     "output_type": "display_data"
    }
   ],
   "source": [
    "f, ax = plt.subplots()\n",
    "f.set_figheight(10)\n",
    "f.set_figwidth(15)\n",
    "\n",
    "plt.margins(0.06)\n",
    "\n",
    "bins = 500\n",
    "values = np.log2(detects_3did_df.feature_intensity)\n",
    "y, x, _ = ax.hist(values, bins=bins, label='detected')\n",
    "\n",
    "values = np.log2(matched_3did_df.feature_intensity)\n",
    "y, x, _ = ax.hist(values, bins=bins, label='matched')\n",
    "\n",
    "ax.set_xlabel('log2 feature intensity')\n",
    "ax.set_ylabel('count')\n",
    "\n",
    "plt.show()"
   ]
  },
  {
   "cell_type": "code",
   "execution_count": 94,
   "metadata": {},
   "outputs": [],
   "source": [
    "biosaur_only_df = detects_biosaur_df[~detects_biosaur_df.id.isin(matched_features_biosaur)]"
   ]
  },
  {
   "cell_type": "code",
   "execution_count": 95,
   "metadata": {},
   "outputs": [
    {
     "data": {
      "text/html": [
       "<div>\n",
       "<style scoped>\n",
       "    .dataframe tbody tr th:only-of-type {\n",
       "        vertical-align: middle;\n",
       "    }\n",
       "\n",
       "    .dataframe tbody tr th {\n",
       "        vertical-align: top;\n",
       "    }\n",
       "\n",
       "    .dataframe thead th {\n",
       "        text-align: right;\n",
       "    }\n",
       "</style>\n",
       "<table border=\"1\" class=\"dataframe\">\n",
       "  <thead>\n",
       "    <tr style=\"text-align: right;\">\n",
       "      <th></th>\n",
       "      <th>massCalib</th>\n",
       "      <th>rtApex</th>\n",
       "      <th>intensityApex</th>\n",
       "      <th>charge</th>\n",
       "      <th>nIsotopes</th>\n",
       "      <th>nScans</th>\n",
       "      <th>sulfur</th>\n",
       "      <th>cos_corr_1</th>\n",
       "      <th>cos_corr_2</th>\n",
       "      <th>diff_for_output</th>\n",
       "      <th>...</th>\n",
       "      <th>ion_mobility</th>\n",
       "      <th>FAIMS</th>\n",
       "      <th>targeted_mode</th>\n",
       "      <th>dup_mz_ppm_tolerance</th>\n",
       "      <th>dup_mz_lower</th>\n",
       "      <th>dup_mz_upper</th>\n",
       "      <th>dup_inverse_k0_lower</th>\n",
       "      <th>dup_inverse_k0_upper</th>\n",
       "      <th>dup_rt_lower</th>\n",
       "      <th>dup_rt_upper</th>\n",
       "    </tr>\n",
       "  </thead>\n",
       "  <tbody>\n",
       "    <tr>\n",
       "      <th>13823</th>\n",
       "      <td>3931.763070</td>\n",
       "      <td>1801.294778</td>\n",
       "      <td>1618.0</td>\n",
       "      <td>5</td>\n",
       "      <td>3</td>\n",
       "      <td>5</td>\n",
       "      <td>0</td>\n",
       "      <td>0.937589</td>\n",
       "      <td>1.0</td>\n",
       "      <td>-7.833508e-07</td>\n",
       "      <td>...</td>\n",
       "      <td>1.018869</td>\n",
       "      <td>0</td>\n",
       "      <td>[]</td>\n",
       "      <td>0.019684</td>\n",
       "      <td>787.340206</td>\n",
       "      <td>787.379574</td>\n",
       "      <td>0.968869</td>\n",
       "      <td>1.068869</td>\n",
       "      <td>1796.294778</td>\n",
       "      <td>1806.294778</td>\n",
       "    </tr>\n",
       "    <tr>\n",
       "      <th>14401</th>\n",
       "      <td>571.330303</td>\n",
       "      <td>829.841148</td>\n",
       "      <td>1655.0</td>\n",
       "      <td>1</td>\n",
       "      <td>3</td>\n",
       "      <td>4</td>\n",
       "      <td>0</td>\n",
       "      <td>0.831436</td>\n",
       "      <td>1.0</td>\n",
       "      <td>-1.779199e-06</td>\n",
       "      <td>...</td>\n",
       "      <td>1.134783</td>\n",
       "      <td>0</td>\n",
       "      <td>[]</td>\n",
       "      <td>0.014308</td>\n",
       "      <td>572.323272</td>\n",
       "      <td>572.351888</td>\n",
       "      <td>1.084783</td>\n",
       "      <td>1.184783</td>\n",
       "      <td>824.841148</td>\n",
       "      <td>834.841148</td>\n",
       "    </tr>\n",
       "    <tr>\n",
       "      <th>15299</th>\n",
       "      <td>409.213045</td>\n",
       "      <td>2407.577568</td>\n",
       "      <td>74441.0</td>\n",
       "      <td>1</td>\n",
       "      <td>3</td>\n",
       "      <td>21</td>\n",
       "      <td>0</td>\n",
       "      <td>0.999923</td>\n",
       "      <td>1.0</td>\n",
       "      <td>9.678385e-06</td>\n",
       "      <td>...</td>\n",
       "      <td>1.013662</td>\n",
       "      <td>0</td>\n",
       "      <td>[]</td>\n",
       "      <td>0.010256</td>\n",
       "      <td>410.210066</td>\n",
       "      <td>410.230577</td>\n",
       "      <td>0.963662</td>\n",
       "      <td>1.063662</td>\n",
       "      <td>2402.577568</td>\n",
       "      <td>2412.577568</td>\n",
       "    </tr>\n",
       "    <tr>\n",
       "      <th>14485</th>\n",
       "      <td>601.315620</td>\n",
       "      <td>834.566410</td>\n",
       "      <td>730.0</td>\n",
       "      <td>1</td>\n",
       "      <td>3</td>\n",
       "      <td>4</td>\n",
       "      <td>0</td>\n",
       "      <td>0.686577</td>\n",
       "      <td>1.0</td>\n",
       "      <td>2.684136e-08</td>\n",
       "      <td>...</td>\n",
       "      <td>1.150437</td>\n",
       "      <td>0</td>\n",
       "      <td>[]</td>\n",
       "      <td>0.015058</td>\n",
       "      <td>602.307839</td>\n",
       "      <td>602.337955</td>\n",
       "      <td>1.100437</td>\n",
       "      <td>1.200437</td>\n",
       "      <td>829.566410</td>\n",
       "      <td>839.566410</td>\n",
       "    </tr>\n",
       "    <tr>\n",
       "      <th>13422</th>\n",
       "      <td>2866.413986</td>\n",
       "      <td>1754.711587</td>\n",
       "      <td>1688.0</td>\n",
       "      <td>5</td>\n",
       "      <td>3</td>\n",
       "      <td>8</td>\n",
       "      <td>0</td>\n",
       "      <td>0.956532</td>\n",
       "      <td>1.0</td>\n",
       "      <td>-9.652562e-07</td>\n",
       "      <td>...</td>\n",
       "      <td>0.903076</td>\n",
       "      <td>0</td>\n",
       "      <td>[]</td>\n",
       "      <td>0.014357</td>\n",
       "      <td>574.275716</td>\n",
       "      <td>574.304431</td>\n",
       "      <td>0.853076</td>\n",
       "      <td>0.953076</td>\n",
       "      <td>1749.711587</td>\n",
       "      <td>1759.711587</td>\n",
       "    </tr>\n",
       "  </tbody>\n",
       "</table>\n",
       "<p>5 rows × 31 columns</p>\n",
       "</div>"
      ],
      "text/plain": [
       "         massCalib       rtApex  intensityApex  charge  nIsotopes  nScans  \\\n",
       "13823  3931.763070  1801.294778         1618.0       5          3       5   \n",
       "14401   571.330303   829.841148         1655.0       1          3       4   \n",
       "15299   409.213045  2407.577568        74441.0       1          3      21   \n",
       "14485   601.315620   834.566410          730.0       1          3       4   \n",
       "13422  2866.413986  1754.711587         1688.0       5          3       8   \n",
       "\n",
       "       sulfur  cos_corr_1  cos_corr_2  diff_for_output  ...  ion_mobility  \\\n",
       "13823       0    0.937589         1.0    -7.833508e-07  ...      1.018869   \n",
       "14401       0    0.831436         1.0    -1.779199e-06  ...      1.134783   \n",
       "15299       0    0.999923         1.0     9.678385e-06  ...      1.013662   \n",
       "14485       0    0.686577         1.0     2.684136e-08  ...      1.150437   \n",
       "13422       0    0.956532         1.0    -9.652562e-07  ...      0.903076   \n",
       "\n",
       "      FAIMS targeted_mode  dup_mz_ppm_tolerance dup_mz_lower dup_mz_upper  \\\n",
       "13823     0            []              0.019684   787.340206   787.379574   \n",
       "14401     0            []              0.014308   572.323272   572.351888   \n",
       "15299     0            []              0.010256   410.210066   410.230577   \n",
       "14485     0            []              0.015058   602.307839   602.337955   \n",
       "13422     0            []              0.014357   574.275716   574.304431   \n",
       "\n",
       "       dup_inverse_k0_lower  dup_inverse_k0_upper  dup_rt_lower  dup_rt_upper  \n",
       "13823              0.968869              1.068869   1796.294778   1806.294778  \n",
       "14401              1.084783              1.184783    824.841148    834.841148  \n",
       "15299              0.963662              1.063662   2402.577568   2412.577568  \n",
       "14485              1.100437              1.200437    829.566410    839.566410  \n",
       "13422              0.853076              0.953076   1749.711587   1759.711587  \n",
       "\n",
       "[5 rows x 31 columns]"
      ]
     },
     "execution_count": 95,
     "metadata": {},
     "output_type": "execute_result"
    }
   ],
   "source": [
    "biosaur_only_df.sample(n=5)"
   ]
  },
  {
   "cell_type": "code",
   "execution_count": 96,
   "metadata": {},
   "outputs": [
    {
     "data": {
      "text/plain": [
       "1661.4332582544544"
      ]
     },
     "execution_count": 96,
     "metadata": {},
     "output_type": "execute_result"
    }
   ],
   "source": [
    "biosaur_only_df.mz.max()"
   ]
  },
  {
   "cell_type": "code",
   "execution_count": 97,
   "metadata": {},
   "outputs": [
    {
     "data": {
      "text/plain": [
       "1"
      ]
     },
     "execution_count": 97,
     "metadata": {},
     "output_type": "execute_result"
    }
   ],
   "source": [
    "detects_3did_df.charge.min()"
   ]
  },
  {
   "cell_type": "code",
   "execution_count": 98,
   "metadata": {},
   "outputs": [],
   "source": [
    "matched_biosaur_df = detects_biosaur_df[detects_biosaur_df.id.isin(matched_features_biosaur)]"
   ]
  },
  {
   "cell_type": "code",
   "execution_count": 99,
   "metadata": {},
   "outputs": [
    {
     "data": {
      "text/plain": [
       "22458.023790233485"
      ]
     },
     "execution_count": 99,
     "metadata": {},
     "output_type": "execute_result"
    }
   ],
   "source": [
    "matched_biosaur_df.intensityApex.mean()"
   ]
  },
  {
   "cell_type": "code",
   "execution_count": 100,
   "metadata": {},
   "outputs": [
    {
     "data": {
      "text/plain": [
       "660029.0"
      ]
     },
     "execution_count": 100,
     "metadata": {},
     "output_type": "execute_result"
    }
   ],
   "source": [
    "biosaur_only_df.intensityApex.max()"
   ]
  },
  {
   "cell_type": "code",
   "execution_count": null,
   "metadata": {},
   "outputs": [],
   "source": []
  }
 ],
 "metadata": {
  "kernelspec": {
   "display_name": "Python 3",
   "language": "python",
   "name": "python3"
  },
  "language_info": {
   "codemirror_mode": {
    "name": "ipython",
    "version": 3
   },
   "file_extension": ".py",
   "mimetype": "text/x-python",
   "name": "python",
   "nbconvert_exporter": "python",
   "pygments_lexer": "ipython3",
   "version": "3.8.5"
  }
 },
 "nbformat": 4,
 "nbformat_minor": 4
}
