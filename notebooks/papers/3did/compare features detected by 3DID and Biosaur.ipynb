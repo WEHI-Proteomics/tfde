{
 "cells": [
  {
   "cell_type": "code",
   "execution_count": 1,
   "metadata": {},
   "outputs": [],
   "source": [
    "import pandas as pd\n",
    "import numpy as np\n",
    "import os\n",
    "import matplotlib.pyplot as plt\n",
    "from matplotlib_venn import venn2\n",
    "from os.path import expanduser\n",
    "import seaborn as sns\n",
    "from cmcrameri import cm\n",
    "from matplotlib import colors\n",
    "import matplotlib.patches as patches"
   ]
  },
  {
   "cell_type": "code",
   "execution_count": 2,
   "metadata": {},
   "outputs": [],
   "source": [
    "DETECTS_3DID_NAME = 'minvi-600-2021-12-19-02-35-34'\n",
    "DETECTS_3DID_DIR = '/media/big-ssd/results-P3856_YHE211-3did/{}/P3856_YHE211/features-3did'.format(DETECTS_3DID_NAME)\n",
    "DETECTS_3DID_FILE = '{}/exp-P3856_YHE211-run-P3856_YHE211_1_Slot1-1_1_5104-features-3did-dedup.feather'.format(DETECTS_3DID_DIR)"
   ]
  },
  {
   "cell_type": "code",
   "execution_count": 3,
   "metadata": {},
   "outputs": [],
   "source": [
    "# load the 3DID features classified as identifiable\n",
    "detects_3did_df = pd.read_feather(DETECTS_3DID_FILE)"
   ]
  },
  {
   "cell_type": "code",
   "execution_count": 4,
   "metadata": {},
   "outputs": [
    {
     "data": {
      "text/html": [
       "<div>\n",
       "<style scoped>\n",
       "    .dataframe tbody tr th:only-of-type {\n",
       "        vertical-align: middle;\n",
       "    }\n",
       "\n",
       "    .dataframe tbody tr th {\n",
       "        vertical-align: top;\n",
       "    }\n",
       "\n",
       "    .dataframe thead th {\n",
       "        text-align: right;\n",
       "    }\n",
       "</style>\n",
       "<table border=\"1\" class=\"dataframe\">\n",
       "  <thead>\n",
       "    <tr style=\"text-align: right;\">\n",
       "      <th></th>\n",
       "      <th>index</th>\n",
       "      <th>mono_mz_lower</th>\n",
       "      <th>mono_mz_upper</th>\n",
       "      <th>scan_apex</th>\n",
       "      <th>scan_lower</th>\n",
       "      <th>scan_upper</th>\n",
       "      <th>inverse_k0_apex</th>\n",
       "      <th>rt_apex</th>\n",
       "      <th>rt_lower</th>\n",
       "      <th>rt_upper</th>\n",
       "      <th>...</th>\n",
       "      <th>voxel_id</th>\n",
       "      <th>voxel_metadata_d</th>\n",
       "      <th>scan_df</th>\n",
       "      <th>scan_r_squared</th>\n",
       "      <th>rt_df</th>\n",
       "      <th>rt_r_squared</th>\n",
       "      <th>number_of_frames</th>\n",
       "      <th>feature_id</th>\n",
       "      <th>prediction</th>\n",
       "      <th>identification_predicted</th>\n",
       "    </tr>\n",
       "  </thead>\n",
       "  <tbody>\n",
       "    <tr>\n",
       "      <th>60805</th>\n",
       "      <td>6119</td>\n",
       "      <td>715.352966</td>\n",
       "      <td>715.398560</td>\n",
       "      <td>139.0</td>\n",
       "      <td>129.0</td>\n",
       "      <td>166.0</td>\n",
       "      <td>1.247066</td>\n",
       "      <td>1924.610107</td>\n",
       "      <td>1921.963379</td>\n",
       "      <td>1931.487549</td>\n",
       "      <td>...</td>\n",
       "      <td>620022735</td>\n",
       "      <td>{\"mz_lower\": 715.3000000000001, \"mz_upper\": 71...</td>\n",
       "      <td>[{\"scan\":117,\"inverse_k0\":1.2581681013,\"intens...</td>\n",
       "      <td>0.998769</td>\n",
       "      <td>[{\"frame_id\":17067,\"retention_time_secs\":1910....</td>\n",
       "      <td>0.861527</td>\n",
       "      <td>19</td>\n",
       "      <td>206499</td>\n",
       "      <td>0.265108</td>\n",
       "      <td>True</td>\n",
       "    </tr>\n",
       "    <tr>\n",
       "      <th>125905</th>\n",
       "      <td>5626</td>\n",
       "      <td>967.962769</td>\n",
       "      <td>968.024414</td>\n",
       "      <td>336.0</td>\n",
       "      <td>314.0</td>\n",
       "      <td>346.0</td>\n",
       "      <td>1.147394</td>\n",
       "      <td>1672.670532</td>\n",
       "      <td>1667.670532</td>\n",
       "      <td>1678.494141</td>\n",
       "      <td>...</td>\n",
       "      <td>870043479</td>\n",
       "      <td>{\"mz_lower\": 968.5, \"mz_upper\": 968.6, \"scan_l...</td>\n",
       "      <td>[{\"scan\":298,\"inverse_k0\":1.1666568518,\"intens...</td>\n",
       "      <td>0.966304</td>\n",
       "      <td>[{\"frame_id\":14807,\"retention_time_secs\":1671....</td>\n",
       "      <td>0.994168</td>\n",
       "      <td>8</td>\n",
       "      <td>404483</td>\n",
       "      <td>0.432381</td>\n",
       "      <td>True</td>\n",
       "    </tr>\n",
       "    <tr>\n",
       "      <th>133434</th>\n",
       "      <td>1713</td>\n",
       "      <td>1002.482971</td>\n",
       "      <td>1002.546875</td>\n",
       "      <td>130.0</td>\n",
       "      <td>120.0</td>\n",
       "      <td>140.0</td>\n",
       "      <td>1.251609</td>\n",
       "      <td>2249.558594</td>\n",
       "      <td>2244.794678</td>\n",
       "      <td>2252.735840</td>\n",
       "      <td>...</td>\n",
       "      <td>910011896</td>\n",
       "      <td>{\"mz_lower\": 1003.0, \"mz_upper\": 1003.1, \"scan...</td>\n",
       "      <td>[{\"scan\":102,\"inverse_k0\":1.2657341957,\"intens...</td>\n",
       "      <td>0.995902</td>\n",
       "      <td>[{\"frame_id\":20147,\"retention_time_secs\":2236....</td>\n",
       "      <td>0.732104</td>\n",
       "      <td>15</td>\n",
       "      <td>427027</td>\n",
       "      <td>0.213939</td>\n",
       "      <td>True</td>\n",
       "    </tr>\n",
       "    <tr>\n",
       "      <th>121300</th>\n",
       "      <td>5474</td>\n",
       "      <td>947.350220</td>\n",
       "      <td>947.410583</td>\n",
       "      <td>380.0</td>\n",
       "      <td>370.0</td>\n",
       "      <td>418.0</td>\n",
       "      <td>1.125068</td>\n",
       "      <td>1611.808960</td>\n",
       "      <td>1606.808960</td>\n",
       "      <td>1616.808960</td>\n",
       "      <td>...</td>\n",
       "      <td>850040729</td>\n",
       "      <td>{\"mz_lower\": 947.3000000000001, \"mz_upper\": 94...</td>\n",
       "      <td>[{\"scan\":380,\"inverse_k0\":1.1250683069,\"intens...</td>\n",
       "      <td>0.000000</td>\n",
       "      <td>[{\"frame_id\":14242,\"retention_time_secs\":1611....</td>\n",
       "      <td>0.997335</td>\n",
       "      <td>5</td>\n",
       "      <td>390505</td>\n",
       "      <td>0.601547</td>\n",
       "      <td>True</td>\n",
       "    </tr>\n",
       "  </tbody>\n",
       "</table>\n",
       "<p>4 rows × 37 columns</p>\n",
       "</div>"
      ],
      "text/plain": [
       "        index  mono_mz_lower  mono_mz_upper  scan_apex  scan_lower  \\\n",
       "60805    6119     715.352966     715.398560      139.0       129.0   \n",
       "125905   5626     967.962769     968.024414      336.0       314.0   \n",
       "133434   1713    1002.482971    1002.546875      130.0       120.0   \n",
       "121300   5474     947.350220     947.410583      380.0       370.0   \n",
       "\n",
       "        scan_upper  inverse_k0_apex      rt_apex     rt_lower     rt_upper  \\\n",
       "60805        166.0         1.247066  1924.610107  1921.963379  1931.487549   \n",
       "125905       346.0         1.147394  1672.670532  1667.670532  1678.494141   \n",
       "133434       140.0         1.251609  2249.558594  2244.794678  2252.735840   \n",
       "121300       418.0         1.125068  1611.808960  1606.808960  1616.808960   \n",
       "\n",
       "        ...   voxel_id                                   voxel_metadata_d  \\\n",
       "60805   ...  620022735  {\"mz_lower\": 715.3000000000001, \"mz_upper\": 71...   \n",
       "125905  ...  870043479  {\"mz_lower\": 968.5, \"mz_upper\": 968.6, \"scan_l...   \n",
       "133434  ...  910011896  {\"mz_lower\": 1003.0, \"mz_upper\": 1003.1, \"scan...   \n",
       "121300  ...  850040729  {\"mz_lower\": 947.3000000000001, \"mz_upper\": 94...   \n",
       "\n",
       "                                                  scan_df scan_r_squared  \\\n",
       "60805   [{\"scan\":117,\"inverse_k0\":1.2581681013,\"intens...       0.998769   \n",
       "125905  [{\"scan\":298,\"inverse_k0\":1.1666568518,\"intens...       0.966304   \n",
       "133434  [{\"scan\":102,\"inverse_k0\":1.2657341957,\"intens...       0.995902   \n",
       "121300  [{\"scan\":380,\"inverse_k0\":1.1250683069,\"intens...       0.000000   \n",
       "\n",
       "                                                    rt_df rt_r_squared  \\\n",
       "60805   [{\"frame_id\":17067,\"retention_time_secs\":1910....     0.861527   \n",
       "125905  [{\"frame_id\":14807,\"retention_time_secs\":1671....     0.994168   \n",
       "133434  [{\"frame_id\":20147,\"retention_time_secs\":2236....     0.732104   \n",
       "121300  [{\"frame_id\":14242,\"retention_time_secs\":1611....     0.997335   \n",
       "\n",
       "        number_of_frames  feature_id prediction  identification_predicted  \n",
       "60805                 19      206499   0.265108                      True  \n",
       "125905                 8      404483   0.432381                      True  \n",
       "133434                15      427027   0.213939                      True  \n",
       "121300                 5      390505   0.601547                      True  \n",
       "\n",
       "[4 rows x 37 columns]"
      ]
     },
     "execution_count": 4,
     "metadata": {},
     "output_type": "execute_result"
    }
   ],
   "source": [
    "detects_3did_df.sample(n=4)"
   ]
  },
  {
   "cell_type": "code",
   "execution_count": 5,
   "metadata": {},
   "outputs": [
    {
     "data": {
      "text/plain": [
       "scan_apex             916.0\n",
       "inverse_k0_apex    0.851201\n",
       "Name: 1, dtype: object"
      ]
     },
     "execution_count": 5,
     "metadata": {},
     "output_type": "execute_result"
    }
   ],
   "source": [
    "detects_3did_df.loc[detects_3did_df.scan_apex.idxmax()][['scan_apex','inverse_k0_apex']]"
   ]
  },
  {
   "cell_type": "code",
   "execution_count": 6,
   "metadata": {},
   "outputs": [
    {
     "data": {
      "text/plain": [
       "scan_apex              49.0\n",
       "inverse_k0_apex    1.292446\n",
       "Name: 86728, dtype: object"
      ]
     },
     "execution_count": 6,
     "metadata": {},
     "output_type": "execute_result"
    }
   ],
   "source": [
    "detects_3did_df.loc[detects_3did_df.scan_apex.idxmin()][['scan_apex','inverse_k0_apex']]"
   ]
  },
  {
   "cell_type": "code",
   "execution_count": 7,
   "metadata": {},
   "outputs": [
    {
     "data": {
      "text/plain": [
       "0.010178662053056517"
      ]
     },
     "execution_count": 7,
     "metadata": {},
     "output_type": "execute_result"
    }
   ],
   "source": [
    "(1.292446-0.851201)/(916-49)*20"
   ]
  },
  {
   "cell_type": "code",
   "execution_count": 8,
   "metadata": {},
   "outputs": [
    {
     "data": {
      "text/plain": [
       "Index(['index', 'mono_mz_lower', 'mono_mz_upper', 'scan_apex', 'scan_lower',\n",
       "       'scan_upper', 'inverse_k0_apex', 'rt_apex', 'rt_lower', 'rt_upper',\n",
       "       'intensity_without_saturation_correction',\n",
       "       'intensity_with_saturation_correction',\n",
       "       'mono_intensity_adjustment_outcome', 'isotopic_peaks', 'isotope_count',\n",
       "       'envelope', 'coelution_coefficient', 'mobility_coefficient',\n",
       "       'voxels_processed', 'monoisotopic_mz', 'charge', 'neutral_mass',\n",
       "       'monoisotopic_mass', 'feature_intensity', 'deconvolution_envelope',\n",
       "       'deconvolution_score', 'feature_region_3d_extent', 'voxel_id',\n",
       "       'voxel_metadata_d', 'scan_df', 'scan_r_squared', 'rt_df',\n",
       "       'rt_r_squared', 'number_of_frames', 'feature_id', 'prediction',\n",
       "       'identification_predicted'],\n",
       "      dtype='object')"
      ]
     },
     "execution_count": 8,
     "metadata": {},
     "output_type": "execute_result"
    }
   ],
   "source": [
    "detects_3did_df.columns"
   ]
  },
  {
   "cell_type": "code",
   "execution_count": 9,
   "metadata": {},
   "outputs": [],
   "source": [
    "biosaur_name = 'P3856_YHE211_1_Slot1-1_1_5104-denoised-biosaur-mini-100-ac-25-minl-6.features.tsv'\n",
    "DETECTS_BIOSAUR_FILE = '{}/{}'.format(expanduser('~'), biosaur_name)\n"
   ]
  },
  {
   "cell_type": "code",
   "execution_count": 10,
   "metadata": {},
   "outputs": [],
   "source": [
    "detects_biosaur_df = pd.read_csv(DETECTS_BIOSAUR_FILE, sep='\\\\t', engine='python')"
   ]
  },
  {
   "cell_type": "code",
   "execution_count": 11,
   "metadata": {},
   "outputs": [],
   "source": [
    "detects_biosaur_df = detects_biosaur_df[(detects_biosaur_df.nIsotopes >= 3)]"
   ]
  },
  {
   "cell_type": "code",
   "execution_count": 12,
   "metadata": {},
   "outputs": [
    {
     "data": {
      "text/plain": [
       "1.2843854495463003"
      ]
     },
     "execution_count": 12,
     "metadata": {},
     "output_type": "execute_result"
    }
   ],
   "source": [
    "detects_biosaur_df.loc[detects_biosaur_df.ion_mobility.idxmax()].ion_mobility"
   ]
  },
  {
   "cell_type": "code",
   "execution_count": 13,
   "metadata": {},
   "outputs": [
    {
     "data": {
      "text/plain": [
       "Index(['massCalib', 'rtApex', 'intensityApex', 'charge', 'nIsotopes', 'nScans',\n",
       "       'sulfur', 'cos_corr_1', 'cos_corr_2', 'diff_for_output',\n",
       "       'corr_fill_zero', 'intensity_1', 'scan_id_1', 'mz_std_1', 'intensity_2',\n",
       "       'scan_id_2', 'mz_std_2', 'mz', 'rtStart', 'rtEnd', 'id', 'ion_mobility',\n",
       "       'FAIMS', 'targeted_mode'],\n",
       "      dtype='object')"
      ]
     },
     "execution_count": 13,
     "metadata": {},
     "output_type": "execute_result"
    }
   ],
   "source": [
    "detects_biosaur_df.columns"
   ]
  },
  {
   "cell_type": "code",
   "execution_count": 14,
   "metadata": {},
   "outputs": [],
   "source": [
    "# corresponds to about the same scan tolerance as 20 scans over 910\n",
    "DUP_INVERSE_K0 = (detects_3did_df.inverse_k0_apex.max()-detects_3did_df.inverse_k0_apex.min())*(20/910) * 4\n",
    "DUP_INVERSE_K0 = 0.05"
   ]
  },
  {
   "cell_type": "code",
   "execution_count": 22,
   "metadata": {},
   "outputs": [],
   "source": [
    "# definition of a duplicate feature\n",
    "DUP_MZ_TOLERANCE_PPM = 25\n",
    "DUP_RT_TOLERANCE = 5"
   ]
  },
  {
   "cell_type": "code",
   "execution_count": 23,
   "metadata": {},
   "outputs": [],
   "source": [
    "# set up dup definitions\n",
    "MZ_TOLERANCE_PERCENT = DUP_MZ_TOLERANCE_PPM * 10**-4\n",
    "detects_biosaur_df['dup_mz_ppm_tolerance'] = detects_biosaur_df.mz * MZ_TOLERANCE_PERCENT / 100\n",
    "detects_biosaur_df['dup_mz_lower'] = detects_biosaur_df.mz - detects_biosaur_df.dup_mz_ppm_tolerance\n",
    "detects_biosaur_df['dup_mz_upper'] = detects_biosaur_df.mz + detects_biosaur_df.dup_mz_ppm_tolerance\n",
    "detects_biosaur_df['dup_inverse_k0_lower'] = detects_biosaur_df.ion_mobility - DUP_INVERSE_K0\n",
    "detects_biosaur_df['dup_inverse_k0_upper'] = detects_biosaur_df.ion_mobility + DUP_INVERSE_K0\n",
    "detects_biosaur_df['dup_rt_lower'] = detects_biosaur_df.rtApex - DUP_RT_TOLERANCE\n",
    "detects_biosaur_df['dup_rt_upper'] = detects_biosaur_df.rtApex + DUP_RT_TOLERANCE"
   ]
  },
  {
   "cell_type": "code",
   "execution_count": 24,
   "metadata": {},
   "outputs": [],
   "source": [
    "# find the features detected by 3DID and Biosaur\n",
    "matched_features_3did = set()\n",
    "matched_features_biosaur = set()\n",
    "\n",
    "for row in detects_3did_df.itertuples():\n",
    "    df = detects_biosaur_df[(row.charge == detects_biosaur_df.charge) & (row.monoisotopic_mz >= detects_biosaur_df.dup_mz_lower) & (row.monoisotopic_mz <= detects_biosaur_df.dup_mz_upper) & (row.inverse_k0_apex >= detects_biosaur_df.dup_inverse_k0_lower) & (row.inverse_k0_apex <= detects_biosaur_df.dup_inverse_k0_upper) & (row.rt_apex >= detects_biosaur_df.dup_rt_lower) & (row.rt_apex <= detects_biosaur_df.dup_rt_upper)]\n",
    "    if len(df) > 0:\n",
    "        matched_features_3did.update(set([row.feature_id]))\n",
    "        matched_features_biosaur.update(set(df.id.tolist()))"
   ]
  },
  {
   "cell_type": "code",
   "execution_count": 25,
   "metadata": {},
   "outputs": [],
   "source": [
    "contained_in_3did_not_biosaur = len(detects_3did_df) - len(matched_features_3did)\n",
    "contained_in_biosaur_not_3did = len(detects_biosaur_df) - len(matched_features_biosaur)\n",
    "contained_in_both = len(matched_features_biosaur)"
   ]
  },
  {
   "cell_type": "code",
   "execution_count": 26,
   "metadata": {},
   "outputs": [
    {
     "data": {
      "image/png": "[encoded data removed]",
      "text/plain": [
       "<Figure size 1440x1080 with 1 Axes>"
      ]
     },
     "metadata": {},
     "output_type": "display_data"
    }
   ],
   "source": [
    "f, ax = plt.subplots()\n",
    "f.set_figheight(15)\n",
    "f.set_figwidth(20)\n",
    "\n",
    "plt.margins(0.06)\n",
    "\n",
    "venn2(subsets = (contained_in_3did_not_biosaur, contained_in_biosaur_not_3did, contained_in_both), set_labels = ('3DID', 'Biosaur'))\n",
    "plt.show()"
   ]
  },
  {
   "cell_type": "code",
   "execution_count": 27,
   "metadata": {},
   "outputs": [],
   "source": [
    "matched_3did_df = detects_3did_df[detects_3did_df.feature_id.isin(matched_features_3did)]"
   ]
  },
  {
   "cell_type": "code",
   "execution_count": 28,
   "metadata": {},
   "outputs": [
    {
     "data": {
      "image/png": "[encoded data removed]",
      "text/plain": [
       "<Figure size 1440x1080 with 1 Axes>"
      ]
     },
     "metadata": {
      "needs_background": "light"
     },
     "output_type": "display_data"
    }
   ],
   "source": [
    "f, ax = plt.subplots()\n",
    "f.set_figheight(15)\n",
    "f.set_figwidth(20)\n",
    "\n",
    "plt.margins(0.06)\n",
    "\n",
    "bins = 500\n",
    "values = np.log2(detects_3did_df.feature_intensity)\n",
    "y, x, _ = ax.hist(values, bins=bins, label='detected')\n",
    "\n",
    "values = np.log2(matched_3did_df.feature_intensity)\n",
    "y, x, _ = ax.hist(values, bins=bins, label='matched')\n",
    "\n",
    "plt.show()"
   ]
  },
  {
   "cell_type": "code",
   "execution_count": null,
   "metadata": {},
   "outputs": [],
   "source": []
  }
 ],
 "metadata": {
  "kernelspec": {
   "display_name": "Python 3",
   "language": "python",
   "name": "python3"
  },
  "language_info": {
   "codemirror_mode": {
    "name": "ipython",
    "version": 3
   },
   "file_extension": ".py",
   "mimetype": "text/x-python",
   "name": "python",
   "nbconvert_exporter": "python",
   "pygments_lexer": "ipython3",
   "version": "3.8.5"
  }
 },
 "nbformat": 4,
 "nbformat_minor": 4
}
