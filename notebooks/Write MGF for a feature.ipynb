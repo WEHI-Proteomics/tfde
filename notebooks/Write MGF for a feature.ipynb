{
 "cells": [
  {
   "cell_type": "code",
   "execution_count": 2,
   "metadata": {},
   "outputs": [
    {
     "name": "stdout",
     "output_type": "stream",
     "text": [
      "Collecting pyteomics\n",
      "\u001b[?25l  Downloading https://files.pythonhosted.org/packages/85/1b/de7cd81c9e9b67d6e00e09eae4c805c84512983a6e0ee7efa8c1e4736ed7/pyteomics-3.4.2-py2.py3-none-any.whl (133kB)\n",
      "\u001b[K    100% |████████████████████████████████| 143kB 287kB/s ta 0:00:01\n",
      "\u001b[?25hInstalling collected packages: pyteomics\n",
      "Successfully installed pyteomics-3.4.2\n"
     ]
    }
   ],
   "source": [
    "import sys\n",
    "!{sys.executable} -m pip install pyteomics\n",
    "\n",
    "import sqlite3\n",
    "from pyteomics import mgf\n",
    "import numpy as np\n",
    "import pandas as pd"
   ]
  },
  {
   "cell_type": "code",
   "execution_count": null,
   "metadata": {},
   "outputs": [],
   "source": []
  },
  {
   "cell_type": "code",
   "execution_count": null,
   "metadata": {},
   "outputs": [],
   "source": [
    "# Write out the spectrum\n",
    "spectrum = {}\n",
    "spectrum[\"m/z array\"] = mz_arr\n",
    "spectrum[\"intensity array\"] = summed_intensities_arr\n",
    "params = {}\n",
    "params[\"TITLE\"] = \"Frame {}, Cluster {} (centroid: {} m/z, {} scan)\".format(FRAME_ID, int(cluster.cluster_id), cluster.centroid_mz, int(cluster.centroid_scan))\n",
    "params[\"PEPMASS\"] = \"{}\".format(cluster.centroid_mz)\n",
    "spectrum[\"params\"] = params\n",
    "spectra.append(spectrum)\n",
    "\n",
    "# Write out the MGF file\n",
    "if os.path.isfile(FILE_NAME):\n",
    "    os.remove(FILE_NAME)\n",
    "mgf.write(output=FILE_NAME, spectra=spectra)\n"
   ]
  }
 ],
 "metadata": {
  "kernelspec": {
   "display_name": "Python 3",
   "language": "python",
   "name": "python3"
  },
  "language_info": {
   "codemirror_mode": {
    "name": "ipython",
    "version": 3
   },
   "file_extension": ".py",
   "mimetype": "text/x-python",
   "name": "python",
   "nbconvert_exporter": "python",
   "pygments_lexer": "ipython3",
   "version": "3.5.4"
  }
 },
 "nbformat": 4,
 "nbformat_minor": 2
}
