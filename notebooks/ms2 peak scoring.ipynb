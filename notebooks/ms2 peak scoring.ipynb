{
 "cells": [
  {
   "cell_type": "markdown",
   "metadata": {},
   "source": [
    "Score a candidate ms2 peak according to its coverage of the feature's drift and RT"
   ]
  },
  {
   "cell_type": "code",
   "execution_count": 1,
   "metadata": {},
   "outputs": [],
   "source": [
    "import pandas as pd\n",
    "import sqlite3\n",
    "import numpy as np\n",
    "import matplotlib.pyplot as plt\n",
    "import peakutils\n",
    "import json"
   ]
  },
  {
   "cell_type": "code",
   "execution_count": 3,
   "metadata": {},
   "outputs": [],
   "source": [
    "db_name = '/home/ubuntu/UPS2_allion/UPS2_allion-features-1-1097.sqlite'\n",
    "feature_db_name = '/home/ubuntu/UPS2_allion/UPS2_allion.sqlite'\n",
    "feature_id = 23\n",
    "ms2_peak_id = 2"
   ]
  },
  {
   "cell_type": "code",
   "execution_count": 4,
   "metadata": {},
   "outputs": [],
   "source": [
    "# load the summary information about all the peaks for this feature\n",
    "db_conn = sqlite3.connect(db_name)\n",
    "ms2_peaks_df = pd.read_sql_query(\"select * from ms2_peaks where feature_id={} order by peak_id ASC\".format(feature_id), db_conn)\n",
    "db_conn.close()"
   ]
  },
  {
   "cell_type": "code",
   "execution_count": 15,
   "metadata": {},
   "outputs": [
    {
     "data": {
      "text/html": [
       "<div>\n",
       "<style scoped>\n",
       "    .dataframe tbody tr th:only-of-type {\n",
       "        vertical-align: middle;\n",
       "    }\n",
       "\n",
       "    .dataframe tbody tr th {\n",
       "        vertical-align: top;\n",
       "    }\n",
       "\n",
       "    .dataframe thead th {\n",
       "        text-align: right;\n",
       "    }\n",
       "</style>\n",
       "<table border=\"1\" class=\"dataframe\">\n",
       "  <thead>\n",
       "    <tr style=\"text-align: right;\">\n",
       "      <th></th>\n",
       "      <th>feature_id</th>\n",
       "      <th>peak_id</th>\n",
       "      <th>centroid_mz</th>\n",
       "      <th>composite_mzs</th>\n",
       "      <th>centroid_scan</th>\n",
       "      <th>intensity</th>\n",
       "    </tr>\n",
       "  </thead>\n",
       "  <tbody>\n",
       "    <tr>\n",
       "      <th>0</th>\n",
       "      <td>23</td>\n",
       "      <td>1</td>\n",
       "      <td>588.361</td>\n",
       "      <td>[588337, 588338, 588339, 588340, 588341, 58834...</td>\n",
       "      <td>107</td>\n",
       "      <td>8997446</td>\n",
       "    </tr>\n",
       "    <tr>\n",
       "      <th>1</th>\n",
       "      <td>23</td>\n",
       "      <td>2</td>\n",
       "      <td>861.007</td>\n",
       "      <td>[860972, 860973, 860974, 860975, 860976, 86097...</td>\n",
       "      <td>108</td>\n",
       "      <td>10596077</td>\n",
       "    </tr>\n",
       "    <tr>\n",
       "      <th>2</th>\n",
       "      <td>23</td>\n",
       "      <td>3</td>\n",
       "      <td>861.508</td>\n",
       "      <td>[861471, 861472, 861473, 861474, 861475, 86147...</td>\n",
       "      <td>108</td>\n",
       "      <td>10320728</td>\n",
       "    </tr>\n",
       "    <tr>\n",
       "      <th>3</th>\n",
       "      <td>23</td>\n",
       "      <td>4</td>\n",
       "      <td>775.952</td>\n",
       "      <td>[775922, 775923, 775924, 775925, 775926, 77592...</td>\n",
       "      <td>108</td>\n",
       "      <td>8249447</td>\n",
       "    </tr>\n",
       "    <tr>\n",
       "      <th>4</th>\n",
       "      <td>23</td>\n",
       "      <td>5</td>\n",
       "      <td>776.454</td>\n",
       "      <td>[776422, 776423, 776424, 776425, 776426, 77642...</td>\n",
       "      <td>108</td>\n",
       "      <td>7360819</td>\n",
       "    </tr>\n",
       "  </tbody>\n",
       "</table>\n",
       "</div>"
      ],
      "text/plain": [
       "   feature_id  peak_id  centroid_mz  \\\n",
       "0          23        1      588.361   \n",
       "1          23        2      861.007   \n",
       "2          23        3      861.508   \n",
       "3          23        4      775.952   \n",
       "4          23        5      776.454   \n",
       "\n",
       "                                       composite_mzs  centroid_scan  intensity  \n",
       "0  [588337, 588338, 588339, 588340, 588341, 58834...            107    8997446  \n",
       "1  [860972, 860973, 860974, 860975, 860976, 86097...            108   10596077  \n",
       "2  [861471, 861472, 861473, 861474, 861475, 86147...            108   10320728  \n",
       "3  [775922, 775923, 775924, 775925, 775926, 77592...            108    8249447  \n",
       "4  [776422, 776423, 776424, 776425, 776426, 77642...            108    7360819  "
      ]
     },
     "execution_count": 15,
     "metadata": {},
     "output_type": "execute_result"
    }
   ],
   "source": [
    "ms2_peaks_df.head()"
   ]
  },
  {
   "cell_type": "code",
   "execution_count": 5,
   "metadata": {},
   "outputs": [],
   "source": [
    "# get the raw points for this feature (note we don't have the raw points assigned to peaks in this table)\n",
    "db_conn = sqlite3.connect(db_name)\n",
    "ms2_feature_region_raw_points_df = pd.read_sql_query(\"select frame_id,scan,scaled_mz from ms2_feature_region_points where feature_id={}\".format(feature_id), db_conn)\n",
    "db_conn.close()"
   ]
  },
  {
   "cell_type": "code",
   "execution_count": 6,
   "metadata": {},
   "outputs": [],
   "source": [
    "# calculate the feature's available \"slots\" in drift and RT\n",
    "db_conn = sqlite3.connect(feature_db_name)\n",
    "feature_df = pd.read_sql_query(\"select * from features where feature_id={}\".format(feature_id), db_conn)\n",
    "db_conn.close()"
   ]
  },
  {
   "cell_type": "code",
   "execution_count": 7,
   "metadata": {},
   "outputs": [
    {
     "data": {
      "text/html": [
       "<div>\n",
       "<style scoped>\n",
       "    .dataframe tbody tr th:only-of-type {\n",
       "        vertical-align: middle;\n",
       "    }\n",
       "\n",
       "    .dataframe tbody tr th {\n",
       "        vertical-align: top;\n",
       "    }\n",
       "\n",
       "    .dataframe thead th {\n",
       "        text-align: right;\n",
       "    }\n",
       "</style>\n",
       "<table border=\"1\" class=\"dataframe\">\n",
       "  <thead>\n",
       "    <tr style=\"text-align: right;\">\n",
       "      <th></th>\n",
       "      <th>feature_id</th>\n",
       "      <th>base_frame_id</th>\n",
       "      <th>base_cluster_id</th>\n",
       "      <th>charge_state</th>\n",
       "      <th>start_frame</th>\n",
       "      <th>end_frame</th>\n",
       "      <th>quality_score</th>\n",
       "      <th>summed_intensity</th>\n",
       "      <th>scan_lower</th>\n",
       "      <th>scan_upper</th>\n",
       "      <th>mz_lower</th>\n",
       "      <th>mz_upper</th>\n",
       "    </tr>\n",
       "  </thead>\n",
       "  <tbody>\n",
       "    <tr>\n",
       "      <th>0</th>\n",
       "      <td>23</td>\n",
       "      <td>5755</td>\n",
       "      <td>1</td>\n",
       "      <td>3</td>\n",
       "      <td>5748</td>\n",
       "      <td>5761</td>\n",
       "      <td>1.0</td>\n",
       "      <td>542463190</td>\n",
       "      <td>98</td>\n",
       "      <td>118</td>\n",
       "      <td>641.041565</td>\n",
       "      <td>643.049683</td>\n",
       "    </tr>\n",
       "  </tbody>\n",
       "</table>\n",
       "</div>"
      ],
      "text/plain": [
       "   feature_id  base_frame_id  base_cluster_id  charge_state  start_frame  \\\n",
       "0          23           5755                1             3         5748   \n",
       "\n",
       "   end_frame  quality_score  summed_intensity  scan_lower  scan_upper  \\\n",
       "0       5761            1.0         542463190          98         118   \n",
       "\n",
       "     mz_lower    mz_upper  \n",
       "0  641.041565  643.049683  "
      ]
     },
     "execution_count": 7,
     "metadata": {},
     "output_type": "execute_result"
    }
   ],
   "source": [
    "feature_df"
   ]
  },
  {
   "cell_type": "code",
   "execution_count": 12,
   "metadata": {},
   "outputs": [
    {
     "data": {
      "text/plain": [
       "260"
      ]
     },
     "execution_count": 12,
     "metadata": {},
     "output_type": "execute_result"
    }
   ],
   "source": [
    "feature_slots = (feature_df.end_frame-feature_df.start_frame).item()*(feature_df.scan_upper-feature_df.scan_lower).item()\n",
    "feature_slots"
   ]
  },
  {
   "cell_type": "code",
   "execution_count": 14,
   "metadata": {},
   "outputs": [
    {
     "ename": "AttributeError",
     "evalue": "'Series' object has no attribute 'composite_mzs_min'",
     "output_type": "error",
     "traceback": [
      "\u001b[0;31m---------------------------------------------------------------------------\u001b[0m",
      "\u001b[0;31mAttributeError\u001b[0m                            Traceback (most recent call last)",
      "\u001b[0;32m<ipython-input-14-cb257b4f51e5>\u001b[0m in \u001b[0;36m<module>\u001b[0;34m()\u001b[0m\n\u001b[1;32m      3\u001b[0m \u001b[0mms2_peak_idx\u001b[0m \u001b[0;34m=\u001b[0m \u001b[0;36m1\u001b[0m\u001b[0;34m\u001b[0m\u001b[0m\n\u001b[1;32m      4\u001b[0m \u001b[0mms2_peak_id\u001b[0m \u001b[0;34m=\u001b[0m \u001b[0mms2_peaks_df\u001b[0m\u001b[0;34m.\u001b[0m\u001b[0mloc\u001b[0m\u001b[0;34m[\u001b[0m\u001b[0mms2_peak_idx\u001b[0m\u001b[0;34m]\u001b[0m\u001b[0;34m.\u001b[0m\u001b[0mpeak_id\u001b[0m\u001b[0;34m.\u001b[0m\u001b[0mastype\u001b[0m\u001b[0;34m(\u001b[0m\u001b[0mint\u001b[0m\u001b[0;34m)\u001b[0m\u001b[0;34m\u001b[0m\u001b[0m\n\u001b[0;32m----> 5\u001b[0;31m \u001b[0mcomposite_mzs_min\u001b[0m \u001b[0;34m=\u001b[0m \u001b[0mms2_peaks_df\u001b[0m\u001b[0;34m.\u001b[0m\u001b[0mloc\u001b[0m\u001b[0;34m[\u001b[0m\u001b[0mms2_peak_idx\u001b[0m\u001b[0;34m]\u001b[0m\u001b[0;34m.\u001b[0m\u001b[0mcomposite_mzs_min\u001b[0m\u001b[0;34m.\u001b[0m\u001b[0mitem\u001b[0m\u001b[0;34m(\u001b[0m\u001b[0;34m)\u001b[0m\u001b[0;34m\u001b[0m\u001b[0m\n\u001b[0m\u001b[1;32m      6\u001b[0m \u001b[0mcomposite_mzs_max\u001b[0m \u001b[0;34m=\u001b[0m \u001b[0mms2_peaks_df\u001b[0m\u001b[0;34m.\u001b[0m\u001b[0mloc\u001b[0m\u001b[0;34m[\u001b[0m\u001b[0mms2_peak_idx\u001b[0m\u001b[0;34m]\u001b[0m\u001b[0;34m.\u001b[0m\u001b[0mcomposite_mzs_max\u001b[0m\u001b[0;34m.\u001b[0m\u001b[0mitem\u001b[0m\u001b[0;34m(\u001b[0m\u001b[0;34m)\u001b[0m\u001b[0;34m\u001b[0m\u001b[0m\n\u001b[1;32m      7\u001b[0m \u001b[0mpeak_raw_points_df\u001b[0m \u001b[0;34m=\u001b[0m \u001b[0mms2_feature_region_raw_points_df\u001b[0m\u001b[0;34m[\u001b[0m\u001b[0;34m(\u001b[0m\u001b[0mms2_feature_region_raw_points_df\u001b[0m\u001b[0;34m.\u001b[0m\u001b[0mscaled_mz\u001b[0m \u001b[0;34m>=\u001b[0m \u001b[0mcomposite_mzs_min\u001b[0m\u001b[0;34m)\u001b[0m \u001b[0;34m&\u001b[0m \u001b[0;34m(\u001b[0m\u001b[0mms2_feature_region_raw_points_df\u001b[0m\u001b[0;34m.\u001b[0m\u001b[0mscaled_mz\u001b[0m \u001b[0;34m<=\u001b[0m \u001b[0mcomposite_mzs_max\u001b[0m\u001b[0;34m)\u001b[0m\u001b[0;34m]\u001b[0m\u001b[0;34m.\u001b[0m\u001b[0mcopy\u001b[0m\u001b[0;34m(\u001b[0m\u001b[0;34m)\u001b[0m\u001b[0;34m\u001b[0m\u001b[0m\n",
      "\u001b[0;32m/home/ubuntu/anaconda3/envs/py27/lib/python2.7/site-packages/pandas/core/generic.pyc\u001b[0m in \u001b[0;36m__getattr__\u001b[0;34m(self, name)\u001b[0m\n\u001b[1;32m   4374\u001b[0m             \u001b[0;32mif\u001b[0m \u001b[0mself\u001b[0m\u001b[0;34m.\u001b[0m\u001b[0m_info_axis\u001b[0m\u001b[0;34m.\u001b[0m\u001b[0m_can_hold_identifiers_and_holds_name\u001b[0m\u001b[0;34m(\u001b[0m\u001b[0mname\u001b[0m\u001b[0;34m)\u001b[0m\u001b[0;34m:\u001b[0m\u001b[0;34m\u001b[0m\u001b[0m\n\u001b[1;32m   4375\u001b[0m                 \u001b[0;32mreturn\u001b[0m \u001b[0mself\u001b[0m\u001b[0;34m[\u001b[0m\u001b[0mname\u001b[0m\u001b[0;34m]\u001b[0m\u001b[0;34m\u001b[0m\u001b[0m\n\u001b[0;32m-> 4376\u001b[0;31m             \u001b[0;32mreturn\u001b[0m \u001b[0mobject\u001b[0m\u001b[0;34m.\u001b[0m\u001b[0m__getattribute__\u001b[0m\u001b[0;34m(\u001b[0m\u001b[0mself\u001b[0m\u001b[0;34m,\u001b[0m \u001b[0mname\u001b[0m\u001b[0;34m)\u001b[0m\u001b[0;34m\u001b[0m\u001b[0m\n\u001b[0m\u001b[1;32m   4377\u001b[0m \u001b[0;34m\u001b[0m\u001b[0m\n\u001b[1;32m   4378\u001b[0m     \u001b[0;32mdef\u001b[0m \u001b[0m__setattr__\u001b[0m\u001b[0;34m(\u001b[0m\u001b[0mself\u001b[0m\u001b[0;34m,\u001b[0m \u001b[0mname\u001b[0m\u001b[0;34m,\u001b[0m \u001b[0mvalue\u001b[0m\u001b[0;34m)\u001b[0m\u001b[0;34m:\u001b[0m\u001b[0;34m\u001b[0m\u001b[0m\n",
      "\u001b[0;31mAttributeError\u001b[0m: 'Series' object has no attribute 'composite_mzs_min'"
     ]
    }
   ],
   "source": [
    "# work out how many of the slots are filled by each peak's raw points\n",
    "# for ms2_peak_idx in range(len(ms2_peaks_df)):\n",
    "ms2_peak_idx = 1\n",
    "ms2_peak_id = ms2_peaks_df.loc[ms2_peak_idx].peak_id.astype(int)\n",
    "composite_mzs_min = ms2_peaks_df.loc[ms2_peak_idx].composite_mzs_min.item()\n",
    "composite_mzs_max = ms2_peaks_df.loc[ms2_peak_idx].composite_mzs_max.item()\n",
    "peak_raw_points_df = ms2_feature_region_raw_points_df[(ms2_feature_region_raw_points_df.scaled_mz >= composite_mzs_min) & (ms2_feature_region_raw_points_df.scaled_mz <= composite_mzs_max)].copy()\n",
    "# drop the duplicate rows\n",
    "peak_raw_points_df.drop_duplicates(subset=('scan','frame_id'), inplace=True)\n"
   ]
  },
  {
   "cell_type": "code",
   "execution_count": null,
   "metadata": {},
   "outputs": [],
   "source": []
  }
 ],
 "metadata": {
  "kernelspec": {
   "display_name": "Python 2",
   "language": "python",
   "name": "python2"
  },
  "language_info": {
   "codemirror_mode": {
    "name": "ipython",
    "version": 2
   },
   "file_extension": ".py",
   "mimetype": "text/x-python",
   "name": "python",
   "nbconvert_exporter": "python",
   "pygments_lexer": "ipython2",
   "version": "2.7.15"
  }
 },
 "nbformat": 4,
 "nbformat_minor": 2
}
