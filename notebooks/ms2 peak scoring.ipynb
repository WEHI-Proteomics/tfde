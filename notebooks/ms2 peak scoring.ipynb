{
 "cells": [
  {
   "cell_type": "markdown",
   "metadata": {},
   "source": [
    "Score a candidate ms2 peak according to its coverage of the feature's drift and RT"
   ]
  },
  {
   "cell_type": "code",
   "execution_count": 225,
   "metadata": {},
   "outputs": [],
   "source": [
    "import pandas as pd\n",
    "import sqlite3\n",
    "import numpy as np\n",
    "import matplotlib.pyplot as plt\n",
    "import peakutils\n",
    "import json"
   ]
  },
  {
   "cell_type": "code",
   "execution_count": 226,
   "metadata": {},
   "outputs": [],
   "source": [
    "db_name = '/home/ubuntu/UPS2_allion/UPS2_allion-features-1-1097.sqlite'\n",
    "feature_db_name = '/home/ubuntu/UPS2_allion/UPS2_allion.sqlite'\n",
    "feature_id = 23\n",
    "ms2_peak_id = 10000"
   ]
  },
  {
   "cell_type": "code",
   "execution_count": 227,
   "metadata": {},
   "outputs": [],
   "source": [
    "# calculate the ms2 frame rate, raw and summed - assuming ms1 and ms2 alternate\n",
    "converted_db_name = '/home/ubuntu/UPS2_allion/UPS2_allion.sqlite'\n",
    "db_conn = sqlite3.connect(converted_db_name)\n",
    "df = pd.read_sql_query(\"select value from convert_info where item=\\'{}\\'\".format(\"raw_frame_period_in_msec\"), db_conn)\n",
    "raw_frame_period_in_msec = float(df.loc[0].value)\n",
    "raw_frame_ids_per_second = 1.0 / (raw_frame_period_in_msec * 10**-3) # a raw frame comes out at this rate; ms1 and ms2 frames alternate, so need to halve this rate to get the ms1 or ms2 raw frame rate\n",
    "df = pd.read_sql_query(\"select value from summing_info limit 1\", db_conn)\n",
    "frame_summing_offset = json.loads(df.loc[0].item())[\"frame_summing_offset\"]\n",
    "frames_to_sum = json.loads(df.loc[0].item())[\"frames_to_sum\"]\n",
    "summed_frame_period_in_msec = raw_frame_period_in_msec * frame_summing_offset\n",
    "summed_frame_ids_per_second = 1.0 / (summed_frame_period_in_msec * 10**-3)\n",
    "db_conn.close()"
   ]
  },
  {
   "cell_type": "code",
   "execution_count": 228,
   "metadata": {},
   "outputs": [],
   "source": [
    "# load the summary information for this feature\n",
    "db_conn = sqlite3.connect(feature_db_name)\n",
    "feature_df = pd.read_sql_query(\"select * from features where feature_id={}\".format(feature_id), db_conn)\n",
    "db_conn.close()"
   ]
  },
  {
   "cell_type": "code",
   "execution_count": 229,
   "metadata": {},
   "outputs": [],
   "source": [
    "feature_df[\"rt_secs_start\"] = feature_df.start_frame / summed_frame_ids_per_second\n",
    "feature_df[\"rt_secs_end\"] = feature_df.end_frame / summed_frame_ids_per_second"
   ]
  },
  {
   "cell_type": "code",
   "execution_count": 230,
   "metadata": {},
   "outputs": [
    {
     "data": {
      "text/html": [
       "<div>\n",
       "<style scoped>\n",
       "    .dataframe tbody tr th:only-of-type {\n",
       "        vertical-align: middle;\n",
       "    }\n",
       "\n",
       "    .dataframe tbody tr th {\n",
       "        vertical-align: top;\n",
       "    }\n",
       "\n",
       "    .dataframe thead th {\n",
       "        text-align: right;\n",
       "    }\n",
       "</style>\n",
       "<table border=\"1\" class=\"dataframe\">\n",
       "  <thead>\n",
       "    <tr style=\"text-align: right;\">\n",
       "      <th></th>\n",
       "      <th>feature_id</th>\n",
       "      <th>base_frame_id</th>\n",
       "      <th>base_cluster_id</th>\n",
       "      <th>charge_state</th>\n",
       "      <th>start_frame</th>\n",
       "      <th>end_frame</th>\n",
       "      <th>quality_score</th>\n",
       "      <th>summed_intensity</th>\n",
       "      <th>scan_lower</th>\n",
       "      <th>scan_upper</th>\n",
       "      <th>mz_lower</th>\n",
       "      <th>mz_upper</th>\n",
       "      <th>rt_secs_start</th>\n",
       "      <th>rt_secs_end</th>\n",
       "    </tr>\n",
       "  </thead>\n",
       "  <tbody>\n",
       "    <tr>\n",
       "      <th>0</th>\n",
       "      <td>23</td>\n",
       "      <td>5755</td>\n",
       "      <td>1</td>\n",
       "      <td>3</td>\n",
       "      <td>5748</td>\n",
       "      <td>5761</td>\n",
       "      <td>1.0</td>\n",
       "      <td>542463190</td>\n",
       "      <td>98</td>\n",
       "      <td>118</td>\n",
       "      <td>641.041565</td>\n",
       "      <td>643.049683</td>\n",
       "      <td>574.8</td>\n",
       "      <td>576.1</td>\n",
       "    </tr>\n",
       "  </tbody>\n",
       "</table>\n",
       "</div>"
      ],
      "text/plain": [
       "   feature_id  base_frame_id  base_cluster_id  charge_state  start_frame  \\\n",
       "0          23           5755                1             3         5748   \n",
       "\n",
       "   end_frame  quality_score  summed_intensity  scan_lower  scan_upper  \\\n",
       "0       5761            1.0         542463190          98         118   \n",
       "\n",
       "     mz_lower    mz_upper  rt_secs_start  rt_secs_end  \n",
       "0  641.041565  643.049683          574.8        576.1  "
      ]
     },
     "execution_count": 230,
     "metadata": {},
     "output_type": "execute_result"
    }
   ],
   "source": [
    "feature_df.head()"
   ]
  },
  {
   "cell_type": "code",
   "execution_count": 231,
   "metadata": {},
   "outputs": [],
   "source": [
    "# load the summary information about this ms2 peak\n",
    "db_conn = sqlite3.connect(db_name)\n",
    "ms2_peaks_df = pd.read_sql_query(\"select * from ms2_peaks where feature_id={}\".format(feature_id), db_conn)\n",
    "db_conn.close()"
   ]
  },
  {
   "cell_type": "code",
   "execution_count": 232,
   "metadata": {},
   "outputs": [
    {
     "data": {
      "text/html": [
       "<div>\n",
       "<style scoped>\n",
       "    .dataframe tbody tr th:only-of-type {\n",
       "        vertical-align: middle;\n",
       "    }\n",
       "\n",
       "    .dataframe tbody tr th {\n",
       "        vertical-align: top;\n",
       "    }\n",
       "\n",
       "    .dataframe thead th {\n",
       "        text-align: right;\n",
       "    }\n",
       "</style>\n",
       "<table border=\"1\" class=\"dataframe\">\n",
       "  <thead>\n",
       "    <tr style=\"text-align: right;\">\n",
       "      <th></th>\n",
       "      <th>feature_id</th>\n",
       "      <th>peak_id</th>\n",
       "      <th>centroid_mz</th>\n",
       "      <th>composite_mzs_min</th>\n",
       "      <th>composite_mzs_max</th>\n",
       "      <th>centroid_scan</th>\n",
       "      <th>intensity</th>\n",
       "      <th>feature_scan_coverage</th>\n",
       "      <th>feature_frame_coverage</th>\n",
       "    </tr>\n",
       "  </thead>\n",
       "  <tbody>\n",
       "    <tr>\n",
       "      <th>0</th>\n",
       "      <td>23</td>\n",
       "      <td>1</td>\n",
       "      <td>588.361</td>\n",
       "      <td>588337</td>\n",
       "      <td>588385</td>\n",
       "      <td>107</td>\n",
       "      <td>8997131</td>\n",
       "      <td>1.038462</td>\n",
       "      <td>0.652632</td>\n",
       "    </tr>\n",
       "    <tr>\n",
       "      <th>1</th>\n",
       "      <td>23</td>\n",
       "      <td>2</td>\n",
       "      <td>861.007</td>\n",
       "      <td>860972</td>\n",
       "      <td>861044</td>\n",
       "      <td>108</td>\n",
       "      <td>10594937</td>\n",
       "      <td>1.038462</td>\n",
       "      <td>0.673684</td>\n",
       "    </tr>\n",
       "    <tr>\n",
       "      <th>2</th>\n",
       "      <td>23</td>\n",
       "      <td>3</td>\n",
       "      <td>861.508</td>\n",
       "      <td>861471</td>\n",
       "      <td>861543</td>\n",
       "      <td>108</td>\n",
       "      <td>10319433</td>\n",
       "      <td>1.038462</td>\n",
       "      <td>0.631579</td>\n",
       "    </tr>\n",
       "    <tr>\n",
       "      <th>3</th>\n",
       "      <td>23</td>\n",
       "      <td>4</td>\n",
       "      <td>775.952</td>\n",
       "      <td>775922</td>\n",
       "      <td>775986</td>\n",
       "      <td>108</td>\n",
       "      <td>8247937</td>\n",
       "      <td>1.038462</td>\n",
       "      <td>0.736842</td>\n",
       "    </tr>\n",
       "    <tr>\n",
       "      <th>4</th>\n",
       "      <td>23</td>\n",
       "      <td>5</td>\n",
       "      <td>776.454</td>\n",
       "      <td>776422</td>\n",
       "      <td>776486</td>\n",
       "      <td>108</td>\n",
       "      <td>7359559</td>\n",
       "      <td>1.038462</td>\n",
       "      <td>0.663158</td>\n",
       "    </tr>\n",
       "  </tbody>\n",
       "</table>\n",
       "</div>"
      ],
      "text/plain": [
       "   feature_id  peak_id  centroid_mz  composite_mzs_min  composite_mzs_max  \\\n",
       "0          23        1      588.361             588337             588385   \n",
       "1          23        2      861.007             860972             861044   \n",
       "2          23        3      861.508             861471             861543   \n",
       "3          23        4      775.952             775922             775986   \n",
       "4          23        5      776.454             776422             776486   \n",
       "\n",
       "   centroid_scan  intensity  feature_scan_coverage  feature_frame_coverage  \n",
       "0            107    8997131               1.038462                0.652632  \n",
       "1            108   10594937               1.038462                0.673684  \n",
       "2            108   10319433               1.038462                0.631579  \n",
       "3            108    8247937               1.038462                0.736842  \n",
       "4            108    7359559               1.038462                0.663158  "
      ]
     },
     "execution_count": 232,
     "metadata": {},
     "output_type": "execute_result"
    }
   ],
   "source": [
    "ms2_peaks_df.head()"
   ]
  },
  {
   "cell_type": "code",
   "execution_count": 233,
   "metadata": {},
   "outputs": [],
   "source": [
    "# get the m/z range for the peak's points\n",
    "mzs_min = int(ms2_peaks_df[ms2_peaks_df.peak_id==ms2_peak_id].composite_mzs_min)\n",
    "mzs_max = int(ms2_peaks_df[ms2_peaks_df.peak_id==ms2_peak_id].composite_mzs_max)"
   ]
  },
  {
   "cell_type": "code",
   "execution_count": 234,
   "metadata": {},
   "outputs": [
    {
     "data": {
      "text/plain": [
       "(498304, 498344)"
      ]
     },
     "execution_count": 234,
     "metadata": {},
     "output_type": "execute_result"
    }
   ],
   "source": [
    "mzs_min,mzs_max"
   ]
  },
  {
   "cell_type": "code",
   "execution_count": 235,
   "metadata": {},
   "outputs": [],
   "source": [
    "# get the raw points for this feature\n",
    "db_conn = sqlite3.connect(db_name)\n",
    "peak_raw_points_df = pd.read_sql_query(\"select * from ms2_feature_region_points where feature_id={} and scaled_mz>={} and scaled_mz<={}\".format(feature_id,mzs_min,mzs_max), db_conn)\n",
    "db_conn.close()"
   ]
  },
  {
   "cell_type": "code",
   "execution_count": 236,
   "metadata": {},
   "outputs": [
    {
     "data": {
      "text/html": [
       "<div>\n",
       "<style scoped>\n",
       "    .dataframe tbody tr th:only-of-type {\n",
       "        vertical-align: middle;\n",
       "    }\n",
       "\n",
       "    .dataframe tbody tr th {\n",
       "        vertical-align: top;\n",
       "    }\n",
       "\n",
       "    .dataframe thead th {\n",
       "        text-align: right;\n",
       "    }\n",
       "</style>\n",
       "<table border=\"1\" class=\"dataframe\">\n",
       "  <thead>\n",
       "    <tr style=\"text-align: right;\">\n",
       "      <th></th>\n",
       "      <th>frame_id</th>\n",
       "      <th>mz</th>\n",
       "      <th>scan</th>\n",
       "      <th>intensity</th>\n",
       "      <th>point_id</th>\n",
       "      <th>scaled_mz</th>\n",
       "      <th>feature_id</th>\n",
       "    </tr>\n",
       "  </thead>\n",
       "  <tbody>\n",
       "    <tr>\n",
       "      <th>0</th>\n",
       "      <td>57593</td>\n",
       "      <td>498</td>\n",
       "      <td>95</td>\n",
       "      <td>291</td>\n",
       "      <td>9561</td>\n",
       "      <td>498310</td>\n",
       "      <td>23</td>\n",
       "    </tr>\n",
       "    <tr>\n",
       "      <th>1</th>\n",
       "      <td>57559</td>\n",
       "      <td>498</td>\n",
       "      <td>97</td>\n",
       "      <td>110</td>\n",
       "      <td>17839</td>\n",
       "      <td>498324</td>\n",
       "      <td>23</td>\n",
       "    </tr>\n",
       "    <tr>\n",
       "      <th>2</th>\n",
       "      <td>57577</td>\n",
       "      <td>498</td>\n",
       "      <td>99</td>\n",
       "      <td>235</td>\n",
       "      <td>13542</td>\n",
       "      <td>498324</td>\n",
       "      <td>23</td>\n",
       "    </tr>\n",
       "    <tr>\n",
       "      <th>3</th>\n",
       "      <td>57495</td>\n",
       "      <td>498</td>\n",
       "      <td>100</td>\n",
       "      <td>275</td>\n",
       "      <td>7723</td>\n",
       "      <td>498310</td>\n",
       "      <td>23</td>\n",
       "    </tr>\n",
       "    <tr>\n",
       "      <th>4</th>\n",
       "      <td>57559</td>\n",
       "      <td>498</td>\n",
       "      <td>100</td>\n",
       "      <td>426</td>\n",
       "      <td>19625</td>\n",
       "      <td>498324</td>\n",
       "      <td>23</td>\n",
       "    </tr>\n",
       "  </tbody>\n",
       "</table>\n",
       "</div>"
      ],
      "text/plain": [
       "   frame_id   mz  scan  intensity  point_id  scaled_mz  feature_id\n",
       "0     57593  498    95        291      9561     498310          23\n",
       "1     57559  498    97        110     17839     498324          23\n",
       "2     57577  498    99        235     13542     498324          23\n",
       "3     57495  498   100        275      7723     498310          23\n",
       "4     57559  498   100        426     19625     498324          23"
      ]
     },
     "execution_count": 236,
     "metadata": {},
     "output_type": "execute_result"
    }
   ],
   "source": [
    "peak_raw_points_df.head()"
   ]
  },
  {
   "cell_type": "code",
   "execution_count": 237,
   "metadata": {},
   "outputs": [
    {
     "data": {
      "text/plain": [
       "(50.0, 10.0)"
      ]
     },
     "execution_count": 237,
     "metadata": {},
     "output_type": "execute_result"
    }
   ],
   "source": [
    "raw_frame_ids_per_second, summed_frame_ids_per_second"
   ]
  },
  {
   "cell_type": "code",
   "execution_count": 238,
   "metadata": {},
   "outputs": [],
   "source": [
    "peak_raw_points_df[\"retention_time_secs\"] = (peak_raw_points_df.frame_id / raw_frame_ids_per_second) / 2"
   ]
  },
  {
   "cell_type": "code",
   "execution_count": 239,
   "metadata": {},
   "outputs": [
    {
     "data": {
      "text/html": [
       "<div>\n",
       "<style scoped>\n",
       "    .dataframe tbody tr th:only-of-type {\n",
       "        vertical-align: middle;\n",
       "    }\n",
       "\n",
       "    .dataframe tbody tr th {\n",
       "        vertical-align: top;\n",
       "    }\n",
       "\n",
       "    .dataframe thead th {\n",
       "        text-align: right;\n",
       "    }\n",
       "</style>\n",
       "<table border=\"1\" class=\"dataframe\">\n",
       "  <thead>\n",
       "    <tr style=\"text-align: right;\">\n",
       "      <th></th>\n",
       "      <th>frame_id</th>\n",
       "      <th>mz</th>\n",
       "      <th>scan</th>\n",
       "      <th>intensity</th>\n",
       "      <th>point_id</th>\n",
       "      <th>scaled_mz</th>\n",
       "      <th>feature_id</th>\n",
       "      <th>retention_time_secs</th>\n",
       "    </tr>\n",
       "  </thead>\n",
       "  <tbody>\n",
       "    <tr>\n",
       "      <th>0</th>\n",
       "      <td>57593</td>\n",
       "      <td>498</td>\n",
       "      <td>95</td>\n",
       "      <td>291</td>\n",
       "      <td>9561</td>\n",
       "      <td>498310</td>\n",
       "      <td>23</td>\n",
       "      <td>575.93</td>\n",
       "    </tr>\n",
       "    <tr>\n",
       "      <th>1</th>\n",
       "      <td>57559</td>\n",
       "      <td>498</td>\n",
       "      <td>97</td>\n",
       "      <td>110</td>\n",
       "      <td>17839</td>\n",
       "      <td>498324</td>\n",
       "      <td>23</td>\n",
       "      <td>575.59</td>\n",
       "    </tr>\n",
       "    <tr>\n",
       "      <th>2</th>\n",
       "      <td>57577</td>\n",
       "      <td>498</td>\n",
       "      <td>99</td>\n",
       "      <td>235</td>\n",
       "      <td>13542</td>\n",
       "      <td>498324</td>\n",
       "      <td>23</td>\n",
       "      <td>575.77</td>\n",
       "    </tr>\n",
       "    <tr>\n",
       "      <th>3</th>\n",
       "      <td>57495</td>\n",
       "      <td>498</td>\n",
       "      <td>100</td>\n",
       "      <td>275</td>\n",
       "      <td>7723</td>\n",
       "      <td>498310</td>\n",
       "      <td>23</td>\n",
       "      <td>574.95</td>\n",
       "    </tr>\n",
       "    <tr>\n",
       "      <th>4</th>\n",
       "      <td>57559</td>\n",
       "      <td>498</td>\n",
       "      <td>100</td>\n",
       "      <td>426</td>\n",
       "      <td>19625</td>\n",
       "      <td>498324</td>\n",
       "      <td>23</td>\n",
       "      <td>575.59</td>\n",
       "    </tr>\n",
       "  </tbody>\n",
       "</table>\n",
       "</div>"
      ],
      "text/plain": [
       "   frame_id   mz  scan  intensity  point_id  scaled_mz  feature_id  \\\n",
       "0     57593  498    95        291      9561     498310          23   \n",
       "1     57559  498    97        110     17839     498324          23   \n",
       "2     57577  498    99        235     13542     498324          23   \n",
       "3     57495  498   100        275      7723     498310          23   \n",
       "4     57559  498   100        426     19625     498324          23   \n",
       "\n",
       "   retention_time_secs  \n",
       "0               575.93  \n",
       "1               575.59  \n",
       "2               575.77  \n",
       "3               574.95  \n",
       "4               575.59  "
      ]
     },
     "execution_count": 239,
     "metadata": {},
     "output_type": "execute_result"
    }
   ],
   "source": [
    "peak_raw_points_df.head()"
   ]
  },
  {
   "cell_type": "code",
   "execution_count": 240,
   "metadata": {},
   "outputs": [],
   "source": [
    "db_conn = sqlite3.connect(db_name)\n",
    "src_c = db_conn.cursor()\n",
    "src_c.execute(\"CREATE INDEX IF NOT EXISTS idx_ms2_feature_region_points_1 ON ms2_feature_region_points (feature_id)\")\n",
    "db_conn.close()"
   ]
  },
  {
   "cell_type": "code",
   "execution_count": 241,
   "metadata": {},
   "outputs": [
    {
     "data": {
      "text/plain": [
       "12"
      ]
     },
     "execution_count": 241,
     "metadata": {},
     "output_type": "execute_result"
    }
   ],
   "source": [
    "len(peak_raw_points_df)"
   ]
  },
  {
   "cell_type": "code",
   "execution_count": 242,
   "metadata": {},
   "outputs": [],
   "source": [
    "# work out how many of the slots are filled by each peak's raw points\n",
    "peak_raw_points_df.drop_duplicates(subset=('scan','frame_id'), inplace=True)"
   ]
  },
  {
   "cell_type": "code",
   "execution_count": 243,
   "metadata": {},
   "outputs": [
    {
     "data": {
      "text/plain": [
       "12"
      ]
     },
     "execution_count": 243,
     "metadata": {},
     "output_type": "execute_result"
    }
   ],
   "source": [
    "len(peak_raw_points_df)"
   ]
  },
  {
   "cell_type": "code",
   "execution_count": 244,
   "metadata": {},
   "outputs": [
    {
     "data": {
      "image/png": "[encoded data removed]",
      "text/plain": [
       "<Figure size 720x720 with 1 Axes>"
      ]
     },
     "metadata": {},
     "output_type": "display_data"
    }
   ],
   "source": [
    "fig, ax = plt.subplots()\n",
    "fig.set_figheight(10)\n",
    "fig.set_figwidth(10)\n",
    "ax.plot(peak_raw_points_df.scan, peak_raw_points_df.retention_time_secs, marker='o', linestyle='', ms=3)\n",
    "ax.set_xlim([feature_df.loc[0].scan_lower, feature_df.loc[0].scan_upper])\n",
    "ax.set_ylim([feature_df.loc[0].rt_secs_start, feature_df.loc[0].rt_secs_end])\n",
    "plt.xlabel('scan')\n",
    "plt.ylabel('retention time (secs)')\n",
    "plt.xticks(range(int(feature_df.loc[0].scan_lower), int(feature_df.loc[0].scan_upper)+1))\n",
    "plt.margins(0.06)\n",
    "plt.title('Feature area occupied by ms2 peak {}'.format(ms2_peak_id))\n",
    "plt.show()"
   ]
  },
  {
   "cell_type": "code",
   "execution_count": null,
   "metadata": {},
   "outputs": [],
   "source": []
  }
 ],
 "metadata": {
  "kernelspec": {
   "display_name": "Python 2",
   "language": "python",
   "name": "python2"
  }
 },
 "nbformat": 4,
 "nbformat_minor": 2
}
