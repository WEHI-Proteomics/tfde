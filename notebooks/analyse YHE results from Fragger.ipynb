{
 "cells": [
  {
   "cell_type": "code",
   "execution_count": 7,
   "metadata": {},
   "outputs": [],
   "source": [
    "import pandas as pd\n",
    "import sqlite3\n",
    "import numpy as np\n",
    "from matplotlib import colors, cm, pyplot as plt"
   ]
  },
  {
   "cell_type": "code",
   "execution_count": 8,
   "metadata": {},
   "outputs": [],
   "source": [
    "sequences_df = pd.read_csv('/Users/darylwilding-mcbride/Downloads/MSstats.csv', sep=',')"
   ]
  },
  {
   "cell_type": "code",
   "execution_count": 9,
   "metadata": {},
   "outputs": [
    {
     "data": {
      "text/html": [
       "<div>\n",
       "<style scoped>\n",
       "    .dataframe tbody tr th:only-of-type {\n",
       "        vertical-align: middle;\n",
       "    }\n",
       "\n",
       "    .dataframe tbody tr th {\n",
       "        vertical-align: top;\n",
       "    }\n",
       "\n",
       "    .dataframe thead th {\n",
       "        text-align: right;\n",
       "    }\n",
       "</style>\n",
       "<table border=\"1\" class=\"dataframe\">\n",
       "  <thead>\n",
       "    <tr style=\"text-align: right;\">\n",
       "      <th></th>\n",
       "      <th>ProteinName</th>\n",
       "      <th>PeptideSequence</th>\n",
       "      <th>PrecursorCharge</th>\n",
       "      <th>FragmentIon</th>\n",
       "      <th>ProductCharge</th>\n",
       "      <th>IsotopeLabelType</th>\n",
       "      <th>Condition</th>\n",
       "      <th>BioReplicate</th>\n",
       "      <th>Run</th>\n",
       "      <th>Intensity</th>\n",
       "    </tr>\n",
       "  </thead>\n",
       "  <tbody>\n",
       "    <tr>\n",
       "      <th>0</th>\n",
       "      <td>sp|A0A0B4J2D5|GAL3B_HUMAN</td>\n",
       "      <td>ITDLANLSAANHDAAIFPGGFGAAK</td>\n",
       "      <td>2</td>\n",
       "      <td>NaN</td>\n",
       "      <td>NaN</td>\n",
       "      <td>L</td>\n",
       "      <td>YHE</td>\n",
       "      <td>0</td>\n",
       "      <td>YHE010_02_Slot1-1_1_2987</td>\n",
       "      <td>NaN</td>\n",
       "    </tr>\n",
       "    <tr>\n",
       "      <th>1</th>\n",
       "      <td>sp|A0A0B4J2D5|GAL3B_HUMAN</td>\n",
       "      <td>ITDLANLSAANHDAAIFPGGFGAAK</td>\n",
       "      <td>2</td>\n",
       "      <td>NaN</td>\n",
       "      <td>NaN</td>\n",
       "      <td>L</td>\n",
       "      <td>YHE</td>\n",
       "      <td>0</td>\n",
       "      <td>YHE010_03_Slot1-1_1_2988</td>\n",
       "      <td>NaN</td>\n",
       "    </tr>\n",
       "    <tr>\n",
       "      <th>2</th>\n",
       "      <td>sp|A0A0B4J2D5|GAL3B_HUMAN</td>\n",
       "      <td>ITDLANLSAANHDAAIFPGGFGAAK</td>\n",
       "      <td>2</td>\n",
       "      <td>NaN</td>\n",
       "      <td>NaN</td>\n",
       "      <td>L</td>\n",
       "      <td>YHE</td>\n",
       "      <td>0</td>\n",
       "      <td>YHE010_04_Slot1-1_1_2989</td>\n",
       "      <td>3098.6704</td>\n",
       "    </tr>\n",
       "    <tr>\n",
       "      <th>3</th>\n",
       "      <td>sp|A0A0B4J2D5|GAL3B_HUMAN</td>\n",
       "      <td>ITDLANLSAANHDAAIFPGGFGAAK</td>\n",
       "      <td>2</td>\n",
       "      <td>NaN</td>\n",
       "      <td>NaN</td>\n",
       "      <td>L</td>\n",
       "      <td>YHE</td>\n",
       "      <td>0</td>\n",
       "      <td>YHE010_05_Slot1-1_1_2990</td>\n",
       "      <td>NaN</td>\n",
       "    </tr>\n",
       "    <tr>\n",
       "      <th>4</th>\n",
       "      <td>sp|A0A0B4J2D5|GAL3B_HUMAN</td>\n",
       "      <td>ITDLANLSAANHDAAIFPGGFGAAK</td>\n",
       "      <td>2</td>\n",
       "      <td>NaN</td>\n",
       "      <td>NaN</td>\n",
       "      <td>L</td>\n",
       "      <td>YHE</td>\n",
       "      <td>0</td>\n",
       "      <td>YHE010_06_Slot1-1_1_2991</td>\n",
       "      <td>1249.3136</td>\n",
       "    </tr>\n",
       "  </tbody>\n",
       "</table>\n",
       "</div>"
      ],
      "text/plain": [
       "                 ProteinName            PeptideSequence  PrecursorCharge  \\\n",
       "0  sp|A0A0B4J2D5|GAL3B_HUMAN  ITDLANLSAANHDAAIFPGGFGAAK                2   \n",
       "1  sp|A0A0B4J2D5|GAL3B_HUMAN  ITDLANLSAANHDAAIFPGGFGAAK                2   \n",
       "2  sp|A0A0B4J2D5|GAL3B_HUMAN  ITDLANLSAANHDAAIFPGGFGAAK                2   \n",
       "3  sp|A0A0B4J2D5|GAL3B_HUMAN  ITDLANLSAANHDAAIFPGGFGAAK                2   \n",
       "4  sp|A0A0B4J2D5|GAL3B_HUMAN  ITDLANLSAANHDAAIFPGGFGAAK                2   \n",
       "\n",
       "   FragmentIon  ProductCharge IsotopeLabelType Condition  BioReplicate  \\\n",
       "0          NaN            NaN                L       YHE             0   \n",
       "1          NaN            NaN                L       YHE             0   \n",
       "2          NaN            NaN                L       YHE             0   \n",
       "3          NaN            NaN                L       YHE             0   \n",
       "4          NaN            NaN                L       YHE             0   \n",
       "\n",
       "                        Run  Intensity  \n",
       "0  YHE010_02_Slot1-1_1_2987        NaN  \n",
       "1  YHE010_03_Slot1-1_1_2988        NaN  \n",
       "2  YHE010_04_Slot1-1_1_2989  3098.6704  \n",
       "3  YHE010_05_Slot1-1_1_2990        NaN  \n",
       "4  YHE010_06_Slot1-1_1_2991  1249.3136  "
      ]
     },
     "execution_count": 9,
     "metadata": {},
     "output_type": "execute_result"
    }
   ],
   "source": [
    "sequences_df.head()"
   ]
  },
  {
   "cell_type": "code",
   "execution_count": 10,
   "metadata": {},
   "outputs": [
    {
     "data": {
      "text/plain": [
       "Index(['ProteinName', 'PeptideSequence', 'PrecursorCharge', 'FragmentIon',\n",
       "       'ProductCharge', 'IsotopeLabelType', 'Condition', 'BioReplicate', 'Run',\n",
       "       'Intensity'],\n",
       "      dtype='object')"
      ]
     },
     "execution_count": 10,
     "metadata": {},
     "output_type": "execute_result"
    }
   ],
   "source": [
    "sequences_df.columns"
   ]
  },
  {
   "cell_type": "code",
   "execution_count": 11,
   "metadata": {},
   "outputs": [],
   "source": [
    "sequences_df = sequences_df[sequences_df.Intensity > 0]"
   ]
  },
  {
   "cell_type": "code",
   "execution_count": 12,
   "metadata": {},
   "outputs": [
    {
     "data": {
      "text/plain": [
       "36261"
      ]
     },
     "execution_count": 12,
     "metadata": {},
     "output_type": "execute_result"
    }
   ],
   "source": [
    "len(sequences_df.drop_duplicates(subset=['PeptideSequence', 'PrecursorCharge'], keep='first', inplace=False))"
   ]
  },
  {
   "cell_type": "code",
   "execution_count": 13,
   "metadata": {},
   "outputs": [],
   "source": [
    "sequences_df['group'] = sequences_df.Run.apply(lambda x: x.split('_')[0])"
   ]
  },
  {
   "cell_type": "markdown",
   "metadata": {},
   "source": [
    "#### analyse the YHE runs"
   ]
  },
  {
   "cell_type": "code",
   "execution_count": 14,
   "metadata": {},
   "outputs": [],
   "source": [
    "yhe_only_df = sequences_df[(sequences_df.group == 'YHE211') | (sequences_df.group == 'YHE114')]"
   ]
  },
  {
   "cell_type": "code",
   "execution_count": 15,
   "metadata": {},
   "outputs": [],
   "source": [
    "# count how many runs each sequence/charge was extracted from\n",
    "sequence_occurences_l = []\n",
    "for group_name,group_df in yhe_only_df.groupby(['PeptideSequence','PrecursorCharge'], as_index=False):\n",
    "    sequence_occurences_l.append((group_name[0], group_name[1], len(group_df.Run.unique())))\n",
    "yhe_sequence_occurences_df = pd.DataFrame(sequence_occurences_l, columns=['sequence','charge','number_of_runs_extracted'])"
   ]
  },
  {
   "cell_type": "code",
   "execution_count": 16,
   "metadata": {},
   "outputs": [
    {
     "name": "stdout",
     "output_type": "stream",
     "text": [
      "there are 21 runs in the experiment\n"
     ]
    }
   ],
   "source": [
    "number_of_yhe_runs_in_experiment = len(yhe_only_df.Run.unique())\n",
    "print('there are {} runs in the experiment'.format(number_of_yhe_runs_in_experiment))"
   ]
  },
  {
   "cell_type": "code",
   "execution_count": 17,
   "metadata": {},
   "outputs": [
    {
     "name": "stdout",
     "output_type": "stream",
     "text": [
      "37.0% of values missing across the experiment.\n"
     ]
    }
   ],
   "source": [
    "# display the number of missing values across the experiment\n",
    "yhe_sequence_occurences_df['missing_files'] = number_of_yhe_runs_in_experiment - yhe_sequence_occurences_df.number_of_runs_extracted\n",
    "proportion_of_missing_extractions = yhe_sequence_occurences_df.missing_files.sum() / (len(yhe_sequence_occurences_df) * number_of_yhe_runs_in_experiment)\n",
    "print(\"{}% of values missing across the experiment.\".format(round(proportion_of_missing_extractions*100)))"
   ]
  },
  {
   "cell_type": "code",
   "execution_count": 18,
   "metadata": {},
   "outputs": [
    {
     "data": {
      "text/plain": [
       "29001"
      ]
     },
     "execution_count": 18,
     "metadata": {},
     "output_type": "execute_result"
    }
   ],
   "source": [
    "len(yhe_only_df.PeptideSequence.unique())"
   ]
  },
  {
   "cell_type": "code",
   "execution_count": 33,
   "metadata": {},
   "outputs": [
    {
     "data": {
      "image/png": "[encoded data removed]",
      "text/plain": [
       "<Figure size 1080x576 with 1 Axes>"
      ]
     },
     "metadata": {
      "needs_background": "light"
     },
     "output_type": "display_data"
    }
   ],
   "source": [
    "f, ax1 = plt.subplots()\n",
    "f.set_figheight(8)\n",
    "f.set_figwidth(15)\n",
    "\n",
    "plt.margins(0.06)\n",
    "plt.suptitle('Distribution of sequence identifications extracted from the YHE runs for Fragger')\n",
    "# plt.title('total {} modified peptide sequences'.format(modified_sequences_count))\n",
    "\n",
    "counts = np.bincount(yhe_sequence_occurences_df.number_of_runs_extracted)\n",
    "ax1.bar(range(22), counts, width=0.8, align='center')\n",
    "plt.xlabel('number of files in which a modified sequence-charge was extracted')\n",
    "plt.ylabel('frequency')\n",
    "ax1.set(xticks=range(1,22), xlim=[0, 22])\n",
    "# plt.ylim((0,20000))\n",
    "\n",
    "plt.show()"
   ]
  },
  {
   "cell_type": "markdown",
   "metadata": {},
   "source": [
    "#### analyse the human-only runs"
   ]
  },
  {
   "cell_type": "code",
   "execution_count": 21,
   "metadata": {},
   "outputs": [],
   "source": [
    "human_only_df = sequences_df[(sequences_df.group == 'YHE010')].copy()"
   ]
  },
  {
   "cell_type": "code",
   "execution_count": 22,
   "metadata": {},
   "outputs": [],
   "source": [
    "# count how many runs each sequence/charge was extracted from\n",
    "sequence_occurences_l = []\n",
    "for group_name,group_df in human_only_df.groupby(['PeptideSequence','PrecursorCharge'], as_index=False):\n",
    "    sequence_occurences_l.append((group_name[0], group_name[1], len(group_df.Run.unique())))\n",
    "human_sequence_occurences_df = pd.DataFrame(sequence_occurences_l, columns=['sequence','charge','number_of_runs_extracted'])"
   ]
  },
  {
   "cell_type": "code",
   "execution_count": 23,
   "metadata": {},
   "outputs": [
    {
     "name": "stdout",
     "output_type": "stream",
     "text": [
      "there are 10 human-only runs in the experiment\n"
     ]
    }
   ],
   "source": [
    "number_of_human_runs_in_experiment = len(human_only_df.Run.unique())\n",
    "print('there are {} human-only runs in the experiment'.format(number_of_human_runs_in_experiment))"
   ]
  },
  {
   "cell_type": "code",
   "execution_count": 24,
   "metadata": {},
   "outputs": [
    {
     "name": "stdout",
     "output_type": "stream",
     "text": [
      "31.0% of values missing across the experiment.\n"
     ]
    }
   ],
   "source": [
    "# display the number of missing values across the experiment\n",
    "human_sequence_occurences_df['missing_files'] = number_of_human_runs_in_experiment - human_sequence_occurences_df.number_of_runs_extracted\n",
    "proportion_of_missing_extractions = human_sequence_occurences_df.missing_files.sum() / (len(human_sequence_occurences_df) * number_of_human_runs_in_experiment)\n",
    "print(\"{}% of values missing across the experiment.\".format(round(proportion_of_missing_extractions*100)))"
   ]
  },
  {
   "cell_type": "code",
   "execution_count": 28,
   "metadata": {},
   "outputs": [],
   "source": [
    "unique_sequences_human_df = human_only_df.drop_duplicates(subset=['PeptideSequence', 'PrecursorCharge'], keep='first', inplace=False).copy()"
   ]
  },
  {
   "cell_type": "code",
   "execution_count": 29,
   "metadata": {},
   "outputs": [],
   "source": [
    "# how many are not human?\n",
    "unique_sequences_human_df['human'] = unique_sequences_human_df['ProteinName'].str.contains('HUMAN')"
   ]
  },
  {
   "cell_type": "code",
   "execution_count": 30,
   "metadata": {},
   "outputs": [
    {
     "data": {
      "text/plain": [
       "True     24342\n",
       "False      114\n",
       "Name: human, dtype: int64"
      ]
     },
     "execution_count": 30,
     "metadata": {},
     "output_type": "execute_result"
    }
   ],
   "source": [
    "unique_sequences_human_df.human.value_counts()"
   ]
  },
  {
   "cell_type": "code",
   "execution_count": 31,
   "metadata": {},
   "outputs": [
    {
     "name": "stdout",
     "output_type": "stream",
     "text": [
      "false positives: 0.5%\n"
     ]
    }
   ],
   "source": [
    "print('false positives: {}%'.format(round(len(unique_sequences_human_df[(unique_sequences_human_df.human == False)]) / len(unique_sequences_human_df) * 100.0, 1)))"
   ]
  },
  {
   "cell_type": "code",
   "execution_count": 34,
   "metadata": {},
   "outputs": [
    {
     "data": {
      "image/png": "[encoded data removed]",
      "text/plain": [
       "<Figure size 1080x576 with 1 Axes>"
      ]
     },
     "metadata": {
      "needs_background": "light"
     },
     "output_type": "display_data"
    }
   ],
   "source": [
    "f, ax1 = plt.subplots()\n",
    "f.set_figheight(8)\n",
    "f.set_figwidth(15)\n",
    "\n",
    "plt.margins(0.06)\n",
    "plt.suptitle('Distribution of sequence identifications extracted from the human-only runs for Fragger')\n",
    "# plt.title('total {} modified peptide sequences'.format(modified_sequences_count))\n",
    "\n",
    "counts = np.bincount(human_sequence_occurences_df.number_of_runs_extracted)\n",
    "ax1.bar(range(11), counts, width=0.8, align='center')\n",
    "plt.xlabel('number of files in which a modified sequence-charge was extracted')\n",
    "plt.ylabel('frequency')\n",
    "ax1.set(xticks=range(1,11), xlim=[0, 11])\n",
    "# plt.ylim((0,20000))\n",
    "\n",
    "plt.show()"
   ]
  },
  {
   "cell_type": "code",
   "execution_count": null,
   "metadata": {},
   "outputs": [],
   "source": []
  }
 ],
 "metadata": {
  "kernelspec": {
   "display_name": "Python 3",
   "language": "python",
   "name": "python3"
  },
  "language_info": {
   "codemirror_mode": {
    "name": "ipython",
    "version": 3
   },
   "file_extension": ".py",
   "mimetype": "text/x-python",
   "name": "python",
   "nbconvert_exporter": "python",
   "pygments_lexer": "ipython3",
   "version": "3.6.8"
  }
 },
 "nbformat": 4,
 "nbformat_minor": 4
}
