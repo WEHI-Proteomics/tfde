{
 "cells": [
  {
   "cell_type": "code",
   "execution_count": 1,
   "metadata": {},
   "outputs": [],
   "source": [
    "import sqlite3\n",
    "import pandas as pd\n",
    "import matplotlib.pyplot as plt\n",
    "import numpy as np"
   ]
  },
  {
   "cell_type": "code",
   "execution_count": 2,
   "metadata": {},
   "outputs": [],
   "source": [
    "feature_id = 2"
   ]
  },
  {
   "cell_type": "code",
   "execution_count": 3,
   "metadata": {},
   "outputs": [],
   "source": [
    "BASE_NAME = \"/home/ubuntu/HeLa_20KInt-rt-4340-4580\"\n",
    "CONVERTED_DATABASE_NAME = '{}/HeLa_20KInt.sqlite'.format(BASE_NAME)\n",
    "SUMMED_REGIONS_DATABASE = '{}/HeLa_20KInt-features-{}-{}.sqlite'.format(BASE_NAME, feature_id, feature_id)"
   ]
  },
  {
   "cell_type": "code",
   "execution_count": 4,
   "metadata": {},
   "outputs": [],
   "source": [
    "# get the feature's base peak id\n",
    "db_conn = sqlite3.connect(SUMMED_REGIONS_DATABASE)\n",
    "feature_list_df = pd.read_sql_query(\"select * from feature_list where feature_id={}\".format(feature_id), db_conn)\n",
    "db_conn.close()\n",
    "if len(feature_list_df) > 0:\n",
    "    base_peak_id = feature_list_df.iloc[0].base_peak_id.astype(int)\n",
    "else:\n",
    "    print(\"Empty feature list.\")"
   ]
  },
  {
   "cell_type": "code",
   "execution_count": 5,
   "metadata": {},
   "outputs": [
    {
     "data": {
      "text/plain": [
       "1"
      ]
     },
     "execution_count": 5,
     "metadata": {},
     "output_type": "execute_result"
    }
   ],
   "source": [
    "base_peak_id"
   ]
  },
  {
   "cell_type": "code",
   "execution_count": 6,
   "metadata": {},
   "outputs": [],
   "source": [
    "db_conn = sqlite3.connect(SUMMED_REGIONS_DATABASE)\n",
    "feature_isotopes_df = pd.read_sql_query(\"select * from feature_isotopes where feature_id={}\".format(feature_id), db_conn)\n",
    "db_conn.close()"
   ]
  },
  {
   "cell_type": "code",
   "execution_count": 7,
   "metadata": {},
   "outputs": [
    {
     "data": {
      "text/html": [
       "<div>\n",
       "<style scoped>\n",
       "    .dataframe tbody tr th:only-of-type {\n",
       "        vertical-align: middle;\n",
       "    }\n",
       "\n",
       "    .dataframe tbody tr th {\n",
       "        vertical-align: top;\n",
       "    }\n",
       "\n",
       "    .dataframe thead th {\n",
       "        text-align: right;\n",
       "    }\n",
       "</style>\n",
       "<table border=\"1\" class=\"dataframe\">\n",
       "  <thead>\n",
       "    <tr style=\"text-align: right;\">\n",
       "      <th></th>\n",
       "      <th>feature_id</th>\n",
       "      <th>feature_region_peak_id</th>\n",
       "      <th>centroid_scan</th>\n",
       "      <th>centroid_rt</th>\n",
       "      <th>centroid_mz</th>\n",
       "      <th>peak_summed_intensity</th>\n",
       "    </tr>\n",
       "  </thead>\n",
       "  <tbody>\n",
       "    <tr>\n",
       "      <th>0</th>\n",
       "      <td>2</td>\n",
       "      <td>1</td>\n",
       "      <td>414.222428</td>\n",
       "      <td>4459.755071</td>\n",
       "      <td>878.405911</td>\n",
       "      <td>1877815</td>\n",
       "    </tr>\n",
       "    <tr>\n",
       "      <th>1</th>\n",
       "      <td>2</td>\n",
       "      <td>2</td>\n",
       "      <td>415.517356</td>\n",
       "      <td>4459.626480</td>\n",
       "      <td>877.904042</td>\n",
       "      <td>1377563</td>\n",
       "    </tr>\n",
       "    <tr>\n",
       "      <th>2</th>\n",
       "      <td>2</td>\n",
       "      <td>3</td>\n",
       "      <td>411.562298</td>\n",
       "      <td>4458.201791</td>\n",
       "      <td>878.907869</td>\n",
       "      <td>763282</td>\n",
       "    </tr>\n",
       "    <tr>\n",
       "      <th>3</th>\n",
       "      <td>2</td>\n",
       "      <td>4</td>\n",
       "      <td>414.436519</td>\n",
       "      <td>4454.566229</td>\n",
       "      <td>879.404220</td>\n",
       "      <td>166499</td>\n",
       "    </tr>\n",
       "    <tr>\n",
       "      <th>4</th>\n",
       "      <td>2</td>\n",
       "      <td>5</td>\n",
       "      <td>421.377772</td>\n",
       "      <td>4450.959669</td>\n",
       "      <td>879.902809</td>\n",
       "      <td>42703</td>\n",
       "    </tr>\n",
       "    <tr>\n",
       "      <th>5</th>\n",
       "      <td>2</td>\n",
       "      <td>6</td>\n",
       "      <td>420.812709</td>\n",
       "      <td>4450.997576</td>\n",
       "      <td>880.403773</td>\n",
       "      <td>18223</td>\n",
       "    </tr>\n",
       "  </tbody>\n",
       "</table>\n",
       "</div>"
      ],
      "text/plain": [
       "   feature_id  feature_region_peak_id  centroid_scan  centroid_rt  \\\n",
       "0           2                       1     414.222428  4459.755071   \n",
       "1           2                       2     415.517356  4459.626480   \n",
       "2           2                       3     411.562298  4458.201791   \n",
       "3           2                       4     414.436519  4454.566229   \n",
       "4           2                       5     421.377772  4450.959669   \n",
       "5           2                       6     420.812709  4450.997576   \n",
       "\n",
       "   centroid_mz  peak_summed_intensity  \n",
       "0   878.405911                1877815  \n",
       "1   877.904042                1377563  \n",
       "2   878.907869                 763282  \n",
       "3   879.404220                 166499  \n",
       "4   879.902809                  42703  \n",
       "5   880.403773                  18223  "
      ]
     },
     "execution_count": 7,
     "metadata": {},
     "output_type": "execute_result"
    }
   ],
   "source": [
    "feature_isotopes_df"
   ]
  },
  {
   "cell_type": "code",
   "execution_count": 8,
   "metadata": {},
   "outputs": [
    {
     "data": {
      "image/png": "[encoded data removed]",
      "text/plain": [
       "<Figure size 1080x360 with 1 Axes>"
      ]
     },
     "metadata": {
      "needs_background": "light"
     },
     "output_type": "display_data"
    }
   ],
   "source": [
    "f, ax = plt.subplots()\n",
    "colors = ['tab:blue', 'tab:orange', 'tab:green', 'tab:red', 'tab:purple', 'tab:brown', 'tab:pink', 'tab:gray', 'tab:olive', 'tab:cyan']\n",
    "ax.stem(feature_isotopes_df.centroid_mz, feature_isotopes_df.peak_summed_intensity)\n",
    "plt.xlabel('m/z')\n",
    "plt.ylabel('intensity')\n",
    "f.set_figheight(5)\n",
    "f.set_figwidth(15)\n",
    "plt.margins(0.06)\n",
    "plt.title('Resolved feature {}'.format(feature_id))\n",
    "plt.show()"
   ]
  },
  {
   "cell_type": "code",
   "execution_count": null,
   "metadata": {},
   "outputs": [],
   "source": []
  }
 ],
 "metadata": {
  "kernelspec": {
   "display_name": "Python 2",
   "language": "python",
   "name": "python2"
  },
  "language_info": {
   "codemirror_mode": {
    "name": "ipython",
    "version": 2
   },
   "file_extension": ".py",
   "mimetype": "text/x-python",
   "name": "python",
   "nbconvert_exporter": "python",
   "pygments_lexer": "ipython2",
   "version": "2.7.15"
  }
 },
 "nbformat": 4,
 "nbformat_minor": 2
}
