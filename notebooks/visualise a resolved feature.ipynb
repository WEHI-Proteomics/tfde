{
 "cells": [
  {
   "cell_type": "code",
   "execution_count": 4,
   "metadata": {},
   "outputs": [],
   "source": [
    "import sqlite3\n",
    "import pandas as pd\n",
    "import matplotlib.pyplot as plt\n",
    "import numpy as np"
   ]
  },
  {
   "cell_type": "code",
   "execution_count": 5,
   "metadata": {},
   "outputs": [],
   "source": [
    "feature_id = 2\n",
    "CONVERTED_DATABASE_NAME = '/home/ubuntu/HeLa_20KInt/HeLa_20KInt.sqlite'\n",
    "SUMMED_REGIONS_DATABASE = '/home/ubuntu/HeLa_20KInt/HeLa_20KInt-features-{}-{}.sqlite'.format(feature_id, feature_id)"
   ]
  },
  {
   "cell_type": "code",
   "execution_count": 6,
   "metadata": {},
   "outputs": [],
   "source": [
    "# get the feature's base peak id\n",
    "db_conn = sqlite3.connect(SUMMED_REGIONS_DATABASE)\n",
    "feature_list_df = pd.read_sql_query(\"select * from feature_list where feature_id={}\".format(feature_id), db_conn)\n",
    "db_conn.close()\n",
    "if len(feature_list_df) > 0:\n",
    "    base_peak_id = feature_list_df.iloc[0].base_peak_id.astype(int)\n",
    "else:\n",
    "    print(\"Empty feature list.\")"
   ]
  },
  {
   "cell_type": "code",
   "execution_count": 7,
   "metadata": {},
   "outputs": [
    {
     "data": {
      "text/plain": [
       "1"
      ]
     },
     "execution_count": 7,
     "metadata": {},
     "output_type": "execute_result"
    }
   ],
   "source": [
    "base_peak_id"
   ]
  },
  {
   "cell_type": "code",
   "execution_count": 8,
   "metadata": {},
   "outputs": [],
   "source": [
    "db_conn = sqlite3.connect(SUMMED_REGIONS_DATABASE)\n",
    "feature_isotopes_df = pd.read_sql_query(\"select * from feature_isotopes where feature_id={}\".format(feature_id), db_conn)\n",
    "db_conn.close()"
   ]
  },
  {
   "cell_type": "code",
   "execution_count": 9,
   "metadata": {},
   "outputs": [
    {
     "data": {
      "text/html": [
       "<div>\n",
       "<style scoped>\n",
       "    .dataframe tbody tr th:only-of-type {\n",
       "        vertical-align: middle;\n",
       "    }\n",
       "\n",
       "    .dataframe tbody tr th {\n",
       "        vertical-align: top;\n",
       "    }\n",
       "\n",
       "    .dataframe thead th {\n",
       "        text-align: right;\n",
       "    }\n",
       "</style>\n",
       "<table border=\"1\" class=\"dataframe\">\n",
       "  <thead>\n",
       "    <tr style=\"text-align: right;\">\n",
       "      <th></th>\n",
       "      <th>feature_id</th>\n",
       "      <th>feature_region_peak_id</th>\n",
       "      <th>centroid_scan</th>\n",
       "      <th>centroid_rt</th>\n",
       "      <th>centroid_mz</th>\n",
       "      <th>peak_summed_intensity</th>\n",
       "    </tr>\n",
       "  </thead>\n",
       "  <tbody>\n",
       "    <tr>\n",
       "      <th>0</th>\n",
       "      <td>2</td>\n",
       "      <td>1</td>\n",
       "      <td>574.123492</td>\n",
       "      <td>1085.746282</td>\n",
       "      <td>624.809083</td>\n",
       "      <td>3183248</td>\n",
       "    </tr>\n",
       "    <tr>\n",
       "      <th>1</th>\n",
       "      <td>2</td>\n",
       "      <td>2</td>\n",
       "      <td>574.343242</td>\n",
       "      <td>1086.135559</td>\n",
       "      <td>625.309056</td>\n",
       "      <td>2074436</td>\n",
       "    </tr>\n",
       "    <tr>\n",
       "      <th>2</th>\n",
       "      <td>2</td>\n",
       "      <td>3</td>\n",
       "      <td>573.666259</td>\n",
       "      <td>1085.080164</td>\n",
       "      <td>625.811608</td>\n",
       "      <td>525779</td>\n",
       "    </tr>\n",
       "    <tr>\n",
       "      <th>3</th>\n",
       "      <td>2</td>\n",
       "      <td>4</td>\n",
       "      <td>575.797795</td>\n",
       "      <td>1084.331235</td>\n",
       "      <td>626.311047</td>\n",
       "      <td>235182</td>\n",
       "    </tr>\n",
       "  </tbody>\n",
       "</table>\n",
       "</div>"
      ],
      "text/plain": [
       "   feature_id  feature_region_peak_id  centroid_scan  centroid_rt  \\\n",
       "0           2                       1     574.123492  1085.746282   \n",
       "1           2                       2     574.343242  1086.135559   \n",
       "2           2                       3     573.666259  1085.080164   \n",
       "3           2                       4     575.797795  1084.331235   \n",
       "\n",
       "   centroid_mz  peak_summed_intensity  \n",
       "0   624.809083                3183248  \n",
       "1   625.309056                2074436  \n",
       "2   625.811608                 525779  \n",
       "3   626.311047                 235182  "
      ]
     },
     "execution_count": 9,
     "metadata": {},
     "output_type": "execute_result"
    }
   ],
   "source": [
    "feature_isotopes_df"
   ]
  },
  {
   "cell_type": "code",
   "execution_count": 10,
   "metadata": {},
   "outputs": [
    {
     "data": {
      "image/png": "[encoded data removed]",
      "text/plain": [
       "<Figure size 1080x360 with 1 Axes>"
      ]
     },
     "metadata": {},
     "output_type": "display_data"
    }
   ],
   "source": [
    "f, ax = plt.subplots()\n",
    "colors = ['tab:blue', 'tab:orange', 'tab:green', 'tab:red', 'tab:purple', 'tab:brown', 'tab:pink', 'tab:gray', 'tab:olive', 'tab:cyan']\n",
    "ax.stem(feature_isotopes_df.centroid_mz, feature_isotopes_df.peak_summed_intensity)\n",
    "plt.xlabel('m/z')\n",
    "plt.ylabel('intensity')\n",
    "f.set_figheight(5)\n",
    "f.set_figwidth(15)\n",
    "plt.margins(0.06)\n",
    "plt.title('Resolved feature {}'.format(feature_id))\n",
    "plt.show()"
   ]
  },
  {
   "cell_type": "code",
   "execution_count": null,
   "metadata": {},
   "outputs": [],
   "source": []
  }
 ],
 "metadata": {
  "kernelspec": {
   "display_name": "Python 2",
   "language": "python",
   "name": "python2"
  },
  "language_info": {
   "codemirror_mode": {
    "name": "ipython",
    "version": 2
   },
   "file_extension": ".py",
   "mimetype": "text/x-python",
   "name": "python",
   "nbconvert_exporter": "python",
   "pygments_lexer": "ipython2",
   "version": "2.7.15"
  }
 },
 "nbformat": 4,
 "nbformat_minor": 2
}
