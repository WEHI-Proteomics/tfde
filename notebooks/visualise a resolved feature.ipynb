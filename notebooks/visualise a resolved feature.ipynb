{
 "cells": [
  {
   "cell_type": "code",
   "execution_count": 260,
   "metadata": {},
   "outputs": [],
   "source": [
    "import sqlite3\n",
    "import pandas as pd\n",
    "import matplotlib.pyplot as plt\n",
    "import numpy as np"
   ]
  },
  {
   "cell_type": "code",
   "execution_count": 261,
   "metadata": {},
   "outputs": [],
   "source": [
    "feature_id = 12\n",
    "CONVERTED_DATABASE_NAME = '/home/ubuntu/UPS2_DIA_180907/UPS2_DIA_180907.sqlite'\n",
    "SUMMED_REGIONS_DATABASE = '/home/ubuntu/UPS2_DIA_180907/UPS2_DIA_180907-features-{}-{}.sqlite'.format(feature_id, feature_id)"
   ]
  },
  {
   "cell_type": "code",
   "execution_count": 262,
   "metadata": {},
   "outputs": [],
   "source": [
    "# get the feature's base peak id\n",
    "db_conn = sqlite3.connect(SUMMED_REGIONS_DATABASE)\n",
    "feature_list_df = pd.read_sql_query(\"select * from feature_list where feature_id={}\".format(feature_id), db_conn)\n",
    "db_conn.close()\n",
    "if len(feature_list_df) > 0:\n",
    "    base_peak_id = feature_list_df.iloc[0].base_peak_id.astype(int)\n",
    "else:\n",
    "    print(\"Empty feature list.\")"
   ]
  },
  {
   "cell_type": "code",
   "execution_count": 263,
   "metadata": {},
   "outputs": [
    {
     "data": {
      "text/plain": [
       "1"
      ]
     },
     "execution_count": 263,
     "metadata": {},
     "output_type": "execute_result"
    }
   ],
   "source": [
    "base_peak_id"
   ]
  },
  {
   "cell_type": "code",
   "execution_count": 264,
   "metadata": {},
   "outputs": [],
   "source": [
    "db_conn = sqlite3.connect(SUMMED_REGIONS_DATABASE)\n",
    "feature_isotopes_df = pd.read_sql_query(\"select * from feature_isotopes where feature_id={}\".format(feature_id), db_conn)\n",
    "db_conn.close()"
   ]
  },
  {
   "cell_type": "code",
   "execution_count": 265,
   "metadata": {},
   "outputs": [
    {
     "data": {
      "text/html": [
       "<div>\n",
       "<style scoped>\n",
       "    .dataframe tbody tr th:only-of-type {\n",
       "        vertical-align: middle;\n",
       "    }\n",
       "\n",
       "    .dataframe tbody tr th {\n",
       "        vertical-align: top;\n",
       "    }\n",
       "\n",
       "    .dataframe thead th {\n",
       "        text-align: right;\n",
       "    }\n",
       "</style>\n",
       "<table border=\"1\" class=\"dataframe\">\n",
       "  <thead>\n",
       "    <tr style=\"text-align: right;\">\n",
       "      <th></th>\n",
       "      <th>feature_id</th>\n",
       "      <th>peak_id</th>\n",
       "      <th>mz_centroid</th>\n",
       "      <th>scan_centroid</th>\n",
       "      <th>summed_intensity</th>\n",
       "      <th>mz_mod</th>\n",
       "    </tr>\n",
       "  </thead>\n",
       "  <tbody>\n",
       "    <tr>\n",
       "      <th>0</th>\n",
       "      <td>12</td>\n",
       "      <td>1</td>\n",
       "      <td>641.387650</td>\n",
       "      <td>433</td>\n",
       "      <td>4549739</td>\n",
       "      <td>641.387650</td>\n",
       "    </tr>\n",
       "    <tr>\n",
       "      <th>1</th>\n",
       "      <td>12</td>\n",
       "      <td>2</td>\n",
       "      <td>641.723649</td>\n",
       "      <td>433</td>\n",
       "      <td>2149597</td>\n",
       "      <td>641.389197</td>\n",
       "    </tr>\n",
       "    <tr>\n",
       "      <th>2</th>\n",
       "      <td>12</td>\n",
       "      <td>3</td>\n",
       "      <td>642.054044</td>\n",
       "      <td>434</td>\n",
       "      <td>661257</td>\n",
       "      <td>641.385141</td>\n",
       "    </tr>\n",
       "    <tr>\n",
       "      <th>3</th>\n",
       "      <td>12</td>\n",
       "      <td>5</td>\n",
       "      <td>642.387361</td>\n",
       "      <td>434</td>\n",
       "      <td>110358</td>\n",
       "      <td>641.384006</td>\n",
       "    </tr>\n",
       "    <tr>\n",
       "      <th>4</th>\n",
       "      <td>12</td>\n",
       "      <td>6</td>\n",
       "      <td>642.720481</td>\n",
       "      <td>441</td>\n",
       "      <td>7369</td>\n",
       "      <td>641.382674</td>\n",
       "    </tr>\n",
       "  </tbody>\n",
       "</table>\n",
       "</div>"
      ],
      "text/plain": [
       "   feature_id  peak_id  mz_centroid  scan_centroid  summed_intensity  \\\n",
       "0          12        1   641.387650            433           4549739   \n",
       "1          12        2   641.723649            433           2149597   \n",
       "2          12        3   642.054044            434            661257   \n",
       "3          12        5   642.387361            434            110358   \n",
       "4          12        6   642.720481            441              7369   \n",
       "\n",
       "       mz_mod  \n",
       "0  641.387650  \n",
       "1  641.389197  \n",
       "2  641.385141  \n",
       "3  641.384006  \n",
       "4  641.382674  "
      ]
     },
     "execution_count": 265,
     "metadata": {},
     "output_type": "execute_result"
    }
   ],
   "source": [
    "feature_isotopes_df"
   ]
  },
  {
   "cell_type": "code",
   "execution_count": 266,
   "metadata": {},
   "outputs": [
    {
     "data": {
      "image/png": "[encoded data removed]",
      "text/plain": [
       "<Figure size 432x288 with 1 Axes>"
      ]
     },
     "metadata": {},
     "output_type": "display_data"
    }
   ],
   "source": [
    "fig, ax = plt.subplots()\n",
    "colors = ['tab:blue', 'tab:orange', 'tab:green', 'tab:red', 'tab:purple', 'tab:brown', 'tab:pink', 'tab:gray', 'tab:olive', 'tab:cyan']\n",
    "ax.stem(feature_isotopes_df.mz_centroid, feature_isotopes_df.summed_intensity)\n",
    "plt.xlabel('m/z')\n",
    "plt.ylabel('intensity')\n",
    "plt.margins(0.06)\n",
    "plt.title('Resolved feature {}'.format(feature_id))\n",
    "plt.show()"
   ]
  },
  {
   "cell_type": "markdown",
   "metadata": {},
   "source": [
    "Plot the raw points for each isotope in the feature"
   ]
  },
  {
   "cell_type": "code",
   "execution_count": 267,
   "metadata": {},
   "outputs": [],
   "source": [
    "db_conn = sqlite3.connect(SUMMED_REGIONS_DATABASE)\n",
    "summed_ms1_region_df = pd.read_sql_query(\"select * from summed_ms1_regions where feature_id={} order by peak_id\".format(feature_id), db_conn)\n",
    "db_conn.close()"
   ]
  },
  {
   "cell_type": "code",
   "execution_count": 268,
   "metadata": {},
   "outputs": [],
   "source": [
    "summed_ms1_region_df['feature_point'] = summed_ms1_region_df['feature_id'].map(str) + '|' + summed_ms1_region_df['point_id'].map(str)"
   ]
  },
  {
   "cell_type": "code",
   "execution_count": 269,
   "metadata": {},
   "outputs": [],
   "source": [
    "summed_ms1_region_df.rename(columns={\"peak_id\":\"feature_peak_id\",\"point_id\":\"feature_point_id\"}, inplace=True)"
   ]
  },
  {
   "cell_type": "code",
   "execution_count": 270,
   "metadata": {},
   "outputs": [],
   "source": [
    "summed_ms1_region_df.drop(['mz', 'scan', 'intensity', 'number_frames'], axis=1, inplace=True)"
   ]
  },
  {
   "cell_type": "code",
   "execution_count": 271,
   "metadata": {},
   "outputs": [
    {
     "data": {
      "text/html": [
       "<div>\n",
       "<style scoped>\n",
       "    .dataframe tbody tr th:only-of-type {\n",
       "        vertical-align: middle;\n",
       "    }\n",
       "\n",
       "    .dataframe tbody tr th {\n",
       "        vertical-align: top;\n",
       "    }\n",
       "\n",
       "    .dataframe thead th {\n",
       "        text-align: right;\n",
       "    }\n",
       "</style>\n",
       "<table border=\"1\" class=\"dataframe\">\n",
       "  <thead>\n",
       "    <tr style=\"text-align: right;\">\n",
       "      <th></th>\n",
       "      <th>feature_id</th>\n",
       "      <th>feature_point_id</th>\n",
       "      <th>feature_peak_id</th>\n",
       "      <th>feature_point</th>\n",
       "    </tr>\n",
       "  </thead>\n",
       "  <tbody>\n",
       "    <tr>\n",
       "      <th>0</th>\n",
       "      <td>12</td>\n",
       "      <td>1</td>\n",
       "      <td>1</td>\n",
       "      <td>12|1</td>\n",
       "    </tr>\n",
       "    <tr>\n",
       "      <th>1</th>\n",
       "      <td>12</td>\n",
       "      <td>6</td>\n",
       "      <td>1</td>\n",
       "      <td>12|6</td>\n",
       "    </tr>\n",
       "    <tr>\n",
       "      <th>2</th>\n",
       "      <td>12</td>\n",
       "      <td>11</td>\n",
       "      <td>1</td>\n",
       "      <td>12|11</td>\n",
       "    </tr>\n",
       "    <tr>\n",
       "      <th>3</th>\n",
       "      <td>12</td>\n",
       "      <td>16</td>\n",
       "      <td>1</td>\n",
       "      <td>12|16</td>\n",
       "    </tr>\n",
       "    <tr>\n",
       "      <th>4</th>\n",
       "      <td>12</td>\n",
       "      <td>21</td>\n",
       "      <td>1</td>\n",
       "      <td>12|21</td>\n",
       "    </tr>\n",
       "  </tbody>\n",
       "</table>\n",
       "</div>"
      ],
      "text/plain": [
       "   feature_id  feature_point_id  feature_peak_id feature_point\n",
       "0          12                 1                1          12|1\n",
       "1          12                 6                1          12|6\n",
       "2          12                11                1         12|11\n",
       "3          12                16                1         12|16\n",
       "4          12                21                1         12|21"
      ]
     },
     "execution_count": 271,
     "metadata": {},
     "output_type": "execute_result"
    }
   ],
   "source": [
    "summed_ms1_region_df.head()"
   ]
  },
  {
   "cell_type": "code",
   "execution_count": 272,
   "metadata": {},
   "outputs": [],
   "source": [
    "# add the summed_frame_point that contributed to each feature region point\n",
    "db_conn = sqlite3.connect(SUMMED_REGIONS_DATABASE)\n",
    "ms1_feature_frame_join_df = pd.read_sql_query(\"select * from ms1_feature_frame_join where feature_id={}\".format(feature_id), db_conn)\n",
    "db_conn.close()"
   ]
  },
  {
   "cell_type": "code",
   "execution_count": 273,
   "metadata": {},
   "outputs": [],
   "source": [
    "ms1_feature_frame_join_df['feature_point'] = ms1_feature_frame_join_df['feature_id'].map(str) + '|' + ms1_feature_frame_join_df['feature_point_id'].map(str)\n",
    "ms1_feature_frame_join_df['summed_frame_point'] = ms1_feature_frame_join_df['frame_id'].map(str) + '|' + ms1_feature_frame_join_df['frame_point_id'].map(str)"
   ]
  },
  {
   "cell_type": "code",
   "execution_count": 274,
   "metadata": {},
   "outputs": [],
   "source": [
    "ms1_feature_frame_join_df.rename(columns={\"frame_id\":\"summed_frame_id\"}, inplace=True)"
   ]
  },
  {
   "cell_type": "code",
   "execution_count": 275,
   "metadata": {},
   "outputs": [],
   "source": [
    "ms1_feature_frame_join_df.drop(['feature_id', 'feature_point_id', 'frame_point_id'], axis=1, inplace=True)"
   ]
  },
  {
   "cell_type": "code",
   "execution_count": 276,
   "metadata": {},
   "outputs": [
    {
     "data": {
      "text/html": [
       "<div>\n",
       "<style scoped>\n",
       "    .dataframe tbody tr th:only-of-type {\n",
       "        vertical-align: middle;\n",
       "    }\n",
       "\n",
       "    .dataframe tbody tr th {\n",
       "        vertical-align: top;\n",
       "    }\n",
       "\n",
       "    .dataframe thead th {\n",
       "        text-align: right;\n",
       "    }\n",
       "</style>\n",
       "<table border=\"1\" class=\"dataframe\">\n",
       "  <thead>\n",
       "    <tr style=\"text-align: right;\">\n",
       "      <th></th>\n",
       "      <th>summed_frame_id</th>\n",
       "      <th>feature_point</th>\n",
       "      <th>summed_frame_point</th>\n",
       "    </tr>\n",
       "  </thead>\n",
       "  <tbody>\n",
       "    <tr>\n",
       "      <th>0</th>\n",
       "      <td>4557</td>\n",
       "      <td>12|1</td>\n",
       "      <td>4557|25822</td>\n",
       "    </tr>\n",
       "    <tr>\n",
       "      <th>1</th>\n",
       "      <td>4566</td>\n",
       "      <td>12|1</td>\n",
       "      <td>4566|22865</td>\n",
       "    </tr>\n",
       "    <tr>\n",
       "      <th>2</th>\n",
       "      <td>4566</td>\n",
       "      <td>12|1</td>\n",
       "      <td>4566|22872</td>\n",
       "    </tr>\n",
       "    <tr>\n",
       "      <th>3</th>\n",
       "      <td>4567</td>\n",
       "      <td>12|1</td>\n",
       "      <td>4567|20252</td>\n",
       "    </tr>\n",
       "    <tr>\n",
       "      <th>4</th>\n",
       "      <td>4568</td>\n",
       "      <td>12|1</td>\n",
       "      <td>4568|18978</td>\n",
       "    </tr>\n",
       "  </tbody>\n",
       "</table>\n",
       "</div>"
      ],
      "text/plain": [
       "   summed_frame_id feature_point summed_frame_point\n",
       "0             4557          12|1         4557|25822\n",
       "1             4566          12|1         4566|22865\n",
       "2             4566          12|1         4566|22872\n",
       "3             4567          12|1         4567|20252\n",
       "4             4568          12|1         4568|18978"
      ]
     },
     "execution_count": 276,
     "metadata": {},
     "output_type": "execute_result"
    }
   ],
   "source": [
    "ms1_feature_frame_join_df.head()"
   ]
  },
  {
   "cell_type": "code",
   "execution_count": 277,
   "metadata": {},
   "outputs": [],
   "source": [
    "summed_ms1_region_df = pd.merge(summed_ms1_region_df, ms1_feature_frame_join_df, how='left', left_on=['feature_point'], right_on=['feature_point'])"
   ]
  },
  {
   "cell_type": "code",
   "execution_count": 278,
   "metadata": {},
   "outputs": [],
   "source": [
    "summed_ms1_region_df.drop(['feature_point'], axis=1, inplace=True)"
   ]
  },
  {
   "cell_type": "code",
   "execution_count": 279,
   "metadata": {},
   "outputs": [
    {
     "data": {
      "text/html": [
       "<div>\n",
       "<style scoped>\n",
       "    .dataframe tbody tr th:only-of-type {\n",
       "        vertical-align: middle;\n",
       "    }\n",
       "\n",
       "    .dataframe tbody tr th {\n",
       "        vertical-align: top;\n",
       "    }\n",
       "\n",
       "    .dataframe thead th {\n",
       "        text-align: right;\n",
       "    }\n",
       "</style>\n",
       "<table border=\"1\" class=\"dataframe\">\n",
       "  <thead>\n",
       "    <tr style=\"text-align: right;\">\n",
       "      <th></th>\n",
       "      <th>feature_id</th>\n",
       "      <th>feature_point_id</th>\n",
       "      <th>feature_peak_id</th>\n",
       "      <th>summed_frame_id</th>\n",
       "      <th>summed_frame_point</th>\n",
       "    </tr>\n",
       "  </thead>\n",
       "  <tbody>\n",
       "    <tr>\n",
       "      <th>0</th>\n",
       "      <td>12</td>\n",
       "      <td>1</td>\n",
       "      <td>1</td>\n",
       "      <td>4557</td>\n",
       "      <td>4557|25822</td>\n",
       "    </tr>\n",
       "    <tr>\n",
       "      <th>1</th>\n",
       "      <td>12</td>\n",
       "      <td>1</td>\n",
       "      <td>1</td>\n",
       "      <td>4566</td>\n",
       "      <td>4566|22865</td>\n",
       "    </tr>\n",
       "    <tr>\n",
       "      <th>2</th>\n",
       "      <td>12</td>\n",
       "      <td>1</td>\n",
       "      <td>1</td>\n",
       "      <td>4566</td>\n",
       "      <td>4566|22872</td>\n",
       "    </tr>\n",
       "    <tr>\n",
       "      <th>3</th>\n",
       "      <td>12</td>\n",
       "      <td>1</td>\n",
       "      <td>1</td>\n",
       "      <td>4567</td>\n",
       "      <td>4567|20252</td>\n",
       "    </tr>\n",
       "    <tr>\n",
       "      <th>4</th>\n",
       "      <td>12</td>\n",
       "      <td>1</td>\n",
       "      <td>1</td>\n",
       "      <td>4568</td>\n",
       "      <td>4568|18978</td>\n",
       "    </tr>\n",
       "  </tbody>\n",
       "</table>\n",
       "</div>"
      ],
      "text/plain": [
       "   feature_id  feature_point_id  feature_peak_id  summed_frame_id  \\\n",
       "0          12                 1                1             4557   \n",
       "1          12                 1                1             4566   \n",
       "2          12                 1                1             4566   \n",
       "3          12                 1                1             4567   \n",
       "4          12                 1                1             4568   \n",
       "\n",
       "  summed_frame_point  \n",
       "0         4557|25822  \n",
       "1         4566|22865  \n",
       "2         4566|22872  \n",
       "3         4567|20252  \n",
       "4         4568|18978  "
      ]
     },
     "execution_count": 279,
     "metadata": {},
     "output_type": "execute_result"
    }
   ],
   "source": [
    "summed_ms1_region_df.head()"
   ]
  },
  {
   "cell_type": "code",
   "execution_count": 280,
   "metadata": {},
   "outputs": [],
   "source": [
    "# add the raw_frame_point that contributed to each summed frame point\n",
    "db_conn = sqlite3.connect(CONVERTED_DATABASE_NAME)\n",
    "raw_summed_join_df = pd.read_sql_query(\"select * from raw_summed_join where summed_frame_id in {}\".format(tuple(summed_ms1_region_df.summed_frame_id)), db_conn)\n",
    "db_conn.close()"
   ]
  },
  {
   "cell_type": "code",
   "execution_count": 281,
   "metadata": {},
   "outputs": [
    {
     "data": {
      "text/html": [
       "<div>\n",
       "<style scoped>\n",
       "    .dataframe tbody tr th:only-of-type {\n",
       "        vertical-align: middle;\n",
       "    }\n",
       "\n",
       "    .dataframe tbody tr th {\n",
       "        vertical-align: top;\n",
       "    }\n",
       "\n",
       "    .dataframe thead th {\n",
       "        text-align: right;\n",
       "    }\n",
       "</style>\n",
       "<table border=\"1\" class=\"dataframe\">\n",
       "  <thead>\n",
       "    <tr style=\"text-align: right;\">\n",
       "      <th></th>\n",
       "      <th>summed_frame_id</th>\n",
       "      <th>summed_point_id</th>\n",
       "      <th>raw_frame_id</th>\n",
       "      <th>raw_point_id</th>\n",
       "    </tr>\n",
       "  </thead>\n",
       "  <tbody>\n",
       "    <tr>\n",
       "      <th>0</th>\n",
       "      <td>4557</td>\n",
       "      <td>1</td>\n",
       "      <td>18224</td>\n",
       "      <td>22</td>\n",
       "    </tr>\n",
       "    <tr>\n",
       "      <th>1</th>\n",
       "      <td>4557</td>\n",
       "      <td>1</td>\n",
       "      <td>18226</td>\n",
       "      <td>26</td>\n",
       "    </tr>\n",
       "    <tr>\n",
       "      <th>2</th>\n",
       "      <td>4557</td>\n",
       "      <td>1</td>\n",
       "      <td>18228</td>\n",
       "      <td>20</td>\n",
       "    </tr>\n",
       "    <tr>\n",
       "      <th>3</th>\n",
       "      <td>4557</td>\n",
       "      <td>1</td>\n",
       "      <td>18228</td>\n",
       "      <td>21</td>\n",
       "    </tr>\n",
       "    <tr>\n",
       "      <th>4</th>\n",
       "      <td>4557</td>\n",
       "      <td>1</td>\n",
       "      <td>18230</td>\n",
       "      <td>27</td>\n",
       "    </tr>\n",
       "  </tbody>\n",
       "</table>\n",
       "</div>"
      ],
      "text/plain": [
       "   summed_frame_id  summed_point_id  raw_frame_id  raw_point_id\n",
       "0             4557                1         18224            22\n",
       "1             4557                1         18226            26\n",
       "2             4557                1         18228            20\n",
       "3             4557                1         18228            21\n",
       "4             4557                1         18230            27"
      ]
     },
     "execution_count": 281,
     "metadata": {},
     "output_type": "execute_result"
    }
   ],
   "source": [
    "raw_summed_join_df.head()"
   ]
  },
  {
   "cell_type": "code",
   "execution_count": 282,
   "metadata": {},
   "outputs": [],
   "source": [
    "raw_summed_join_df['summed_frame_point'] = raw_summed_join_df['summed_frame_id'].map(str) + '|' + raw_summed_join_df['summed_point_id'].map(str)\n",
    "raw_summed_join_df['raw_frame_point'] = raw_summed_join_df['raw_frame_id'].map(str) + '|' + raw_summed_join_df['raw_point_id'].map(str)"
   ]
  },
  {
   "cell_type": "code",
   "execution_count": 283,
   "metadata": {},
   "outputs": [],
   "source": [
    "raw_summed_join_df.drop(['summed_frame_id','summed_point_id'], axis=1, inplace=True)"
   ]
  },
  {
   "cell_type": "code",
   "execution_count": 284,
   "metadata": {},
   "outputs": [
    {
     "data": {
      "text/html": [
       "<div>\n",
       "<style scoped>\n",
       "    .dataframe tbody tr th:only-of-type {\n",
       "        vertical-align: middle;\n",
       "    }\n",
       "\n",
       "    .dataframe tbody tr th {\n",
       "        vertical-align: top;\n",
       "    }\n",
       "\n",
       "    .dataframe thead th {\n",
       "        text-align: right;\n",
       "    }\n",
       "</style>\n",
       "<table border=\"1\" class=\"dataframe\">\n",
       "  <thead>\n",
       "    <tr style=\"text-align: right;\">\n",
       "      <th></th>\n",
       "      <th>raw_frame_id</th>\n",
       "      <th>raw_point_id</th>\n",
       "      <th>summed_frame_point</th>\n",
       "      <th>raw_frame_point</th>\n",
       "    </tr>\n",
       "  </thead>\n",
       "  <tbody>\n",
       "    <tr>\n",
       "      <th>0</th>\n",
       "      <td>18224</td>\n",
       "      <td>22</td>\n",
       "      <td>4557|1</td>\n",
       "      <td>18224|22</td>\n",
       "    </tr>\n",
       "    <tr>\n",
       "      <th>1</th>\n",
       "      <td>18226</td>\n",
       "      <td>26</td>\n",
       "      <td>4557|1</td>\n",
       "      <td>18226|26</td>\n",
       "    </tr>\n",
       "    <tr>\n",
       "      <th>2</th>\n",
       "      <td>18228</td>\n",
       "      <td>20</td>\n",
       "      <td>4557|1</td>\n",
       "      <td>18228|20</td>\n",
       "    </tr>\n",
       "    <tr>\n",
       "      <th>3</th>\n",
       "      <td>18228</td>\n",
       "      <td>21</td>\n",
       "      <td>4557|1</td>\n",
       "      <td>18228|21</td>\n",
       "    </tr>\n",
       "    <tr>\n",
       "      <th>4</th>\n",
       "      <td>18230</td>\n",
       "      <td>27</td>\n",
       "      <td>4557|1</td>\n",
       "      <td>18230|27</td>\n",
       "    </tr>\n",
       "  </tbody>\n",
       "</table>\n",
       "</div>"
      ],
      "text/plain": [
       "   raw_frame_id  raw_point_id summed_frame_point raw_frame_point\n",
       "0         18224            22             4557|1        18224|22\n",
       "1         18226            26             4557|1        18226|26\n",
       "2         18228            20             4557|1        18228|20\n",
       "3         18228            21             4557|1        18228|21\n",
       "4         18230            27             4557|1        18230|27"
      ]
     },
     "execution_count": 284,
     "metadata": {},
     "output_type": "execute_result"
    }
   ],
   "source": [
    "raw_summed_join_df.head()"
   ]
  },
  {
   "cell_type": "code",
   "execution_count": 285,
   "metadata": {},
   "outputs": [],
   "source": [
    "summed_ms1_region_df = pd.merge(summed_ms1_region_df, raw_summed_join_df, how='left', left_on=['summed_frame_point'], right_on=['summed_frame_point'])"
   ]
  },
  {
   "cell_type": "code",
   "execution_count": 286,
   "metadata": {},
   "outputs": [],
   "source": [
    "summed_ms1_region_df.drop(['summed_frame_id','summed_frame_point'], axis=1, inplace=True)"
   ]
  },
  {
   "cell_type": "code",
   "execution_count": 287,
   "metadata": {},
   "outputs": [
    {
     "data": {
      "text/html": [
       "<div>\n",
       "<style scoped>\n",
       "    .dataframe tbody tr th:only-of-type {\n",
       "        vertical-align: middle;\n",
       "    }\n",
       "\n",
       "    .dataframe tbody tr th {\n",
       "        vertical-align: top;\n",
       "    }\n",
       "\n",
       "    .dataframe thead th {\n",
       "        text-align: right;\n",
       "    }\n",
       "</style>\n",
       "<table border=\"1\" class=\"dataframe\">\n",
       "  <thead>\n",
       "    <tr style=\"text-align: right;\">\n",
       "      <th></th>\n",
       "      <th>feature_id</th>\n",
       "      <th>feature_point_id</th>\n",
       "      <th>feature_peak_id</th>\n",
       "      <th>raw_frame_id</th>\n",
       "      <th>raw_point_id</th>\n",
       "      <th>raw_frame_point</th>\n",
       "    </tr>\n",
       "  </thead>\n",
       "  <tbody>\n",
       "    <tr>\n",
       "      <th>0</th>\n",
       "      <td>12</td>\n",
       "      <td>1</td>\n",
       "      <td>1</td>\n",
       "      <td>18224</td>\n",
       "      <td>48784</td>\n",
       "      <td>18224|48784</td>\n",
       "    </tr>\n",
       "    <tr>\n",
       "      <th>1</th>\n",
       "      <td>12</td>\n",
       "      <td>1</td>\n",
       "      <td>1</td>\n",
       "      <td>18226</td>\n",
       "      <td>51927</td>\n",
       "      <td>18226|51927</td>\n",
       "    </tr>\n",
       "    <tr>\n",
       "      <th>2</th>\n",
       "      <td>12</td>\n",
       "      <td>1</td>\n",
       "      <td>1</td>\n",
       "      <td>18228</td>\n",
       "      <td>57197</td>\n",
       "      <td>18228|57197</td>\n",
       "    </tr>\n",
       "    <tr>\n",
       "      <th>3</th>\n",
       "      <td>12</td>\n",
       "      <td>1</td>\n",
       "      <td>1</td>\n",
       "      <td>18230</td>\n",
       "      <td>61508</td>\n",
       "      <td>18230|61508</td>\n",
       "    </tr>\n",
       "    <tr>\n",
       "      <th>4</th>\n",
       "      <td>12</td>\n",
       "      <td>1</td>\n",
       "      <td>1</td>\n",
       "      <td>18260</td>\n",
       "      <td>56007</td>\n",
       "      <td>18260|56007</td>\n",
       "    </tr>\n",
       "  </tbody>\n",
       "</table>\n",
       "</div>"
      ],
      "text/plain": [
       "   feature_id  feature_point_id  feature_peak_id  raw_frame_id  raw_point_id  \\\n",
       "0          12                 1                1         18224         48784   \n",
       "1          12                 1                1         18226         51927   \n",
       "2          12                 1                1         18228         57197   \n",
       "3          12                 1                1         18230         61508   \n",
       "4          12                 1                1         18260         56007   \n",
       "\n",
       "  raw_frame_point  \n",
       "0     18224|48784  \n",
       "1     18226|51927  \n",
       "2     18228|57197  \n",
       "3     18230|61508  \n",
       "4     18260|56007  "
      ]
     },
     "execution_count": 287,
     "metadata": {},
     "output_type": "execute_result"
    }
   ],
   "source": [
    "summed_ms1_region_df.head()"
   ]
  },
  {
   "cell_type": "code",
   "execution_count": 288,
   "metadata": {},
   "outputs": [],
   "source": [
    "# get the raw frame point's intensity\n",
    "db_conn = sqlite3.connect(CONVERTED_DATABASE_NAME)\n",
    "raw_frames_df = pd.read_sql_query(\"select * from frames where frame_id in {}\".format(tuple(summed_ms1_region_df.raw_frame_id)), db_conn)\n",
    "db_conn.close()"
   ]
  },
  {
   "cell_type": "code",
   "execution_count": 289,
   "metadata": {},
   "outputs": [],
   "source": [
    "raw_frames_df['raw_frame_point'] = raw_frames_df['frame_id'].map(str) + '|' + raw_frames_df['point_id'].map(str)"
   ]
  },
  {
   "cell_type": "code",
   "execution_count": 290,
   "metadata": {},
   "outputs": [],
   "source": [
    "summed_ms1_region_df = pd.merge(summed_ms1_region_df, raw_frames_df, how='left', left_on=['raw_frame_point'], right_on=['raw_frame_point'])"
   ]
  },
  {
   "cell_type": "code",
   "execution_count": 291,
   "metadata": {},
   "outputs": [],
   "source": [
    "summed_ms1_region_df.drop(['peak_id','frame_id','raw_frame_point','point_id'], axis=1, inplace=True)"
   ]
  },
  {
   "cell_type": "code",
   "execution_count": 292,
   "metadata": {},
   "outputs": [
    {
     "data": {
      "text/html": [
       "<div>\n",
       "<style scoped>\n",
       "    .dataframe tbody tr th:only-of-type {\n",
       "        vertical-align: middle;\n",
       "    }\n",
       "\n",
       "    .dataframe tbody tr th {\n",
       "        vertical-align: top;\n",
       "    }\n",
       "\n",
       "    .dataframe thead th {\n",
       "        text-align: right;\n",
       "    }\n",
       "</style>\n",
       "<table border=\"1\" class=\"dataframe\">\n",
       "  <thead>\n",
       "    <tr style=\"text-align: right;\">\n",
       "      <th></th>\n",
       "      <th>feature_id</th>\n",
       "      <th>feature_point_id</th>\n",
       "      <th>feature_peak_id</th>\n",
       "      <th>raw_frame_id</th>\n",
       "      <th>raw_point_id</th>\n",
       "      <th>mz</th>\n",
       "      <th>scan</th>\n",
       "      <th>intensity</th>\n",
       "    </tr>\n",
       "  </thead>\n",
       "  <tbody>\n",
       "    <tr>\n",
       "      <th>0</th>\n",
       "      <td>12</td>\n",
       "      <td>1</td>\n",
       "      <td>1</td>\n",
       "      <td>18224</td>\n",
       "      <td>48784</td>\n",
       "      <td>641.380414</td>\n",
       "      <td>423</td>\n",
       "      <td>2652</td>\n",
       "    </tr>\n",
       "    <tr>\n",
       "      <th>1</th>\n",
       "      <td>12</td>\n",
       "      <td>1</td>\n",
       "      <td>1</td>\n",
       "      <td>18226</td>\n",
       "      <td>51927</td>\n",
       "      <td>641.384408</td>\n",
       "      <td>423</td>\n",
       "      <td>3624</td>\n",
       "    </tr>\n",
       "    <tr>\n",
       "      <th>2</th>\n",
       "      <td>12</td>\n",
       "      <td>1</td>\n",
       "      <td>1</td>\n",
       "      <td>18228</td>\n",
       "      <td>57197</td>\n",
       "      <td>641.384408</td>\n",
       "      <td>423</td>\n",
       "      <td>5483</td>\n",
       "    </tr>\n",
       "    <tr>\n",
       "      <th>3</th>\n",
       "      <td>12</td>\n",
       "      <td>1</td>\n",
       "      <td>1</td>\n",
       "      <td>18230</td>\n",
       "      <td>61508</td>\n",
       "      <td>641.384408</td>\n",
       "      <td>423</td>\n",
       "      <td>10226</td>\n",
       "    </tr>\n",
       "    <tr>\n",
       "      <th>4</th>\n",
       "      <td>12</td>\n",
       "      <td>1</td>\n",
       "      <td>1</td>\n",
       "      <td>18260</td>\n",
       "      <td>56007</td>\n",
       "      <td>641.392394</td>\n",
       "      <td>423</td>\n",
       "      <td>14695</td>\n",
       "    </tr>\n",
       "  </tbody>\n",
       "</table>\n",
       "</div>"
      ],
      "text/plain": [
       "   feature_id  feature_point_id  feature_peak_id  raw_frame_id  raw_point_id  \\\n",
       "0          12                 1                1         18224         48784   \n",
       "1          12                 1                1         18226         51927   \n",
       "2          12                 1                1         18228         57197   \n",
       "3          12                 1                1         18230         61508   \n",
       "4          12                 1                1         18260         56007   \n",
       "\n",
       "           mz  scan  intensity  \n",
       "0  641.380414   423       2652  \n",
       "1  641.384408   423       3624  \n",
       "2  641.384408   423       5483  \n",
       "3  641.384408   423      10226  \n",
       "4  641.392394   423      14695  "
      ]
     },
     "execution_count": 292,
     "metadata": {},
     "output_type": "execute_result"
    }
   ],
   "source": [
    "summed_ms1_region_df.head()"
   ]
  },
  {
   "cell_type": "code",
   "execution_count": 296,
   "metadata": {},
   "outputs": [],
   "source": [
    "# for each feature peak, use the raw points to find the RT and drift intensity-weighted centroids\n",
    "peak_ids = summed_ms1_region_df.feature_peak_id.unique()"
   ]
  },
  {
   "cell_type": "code",
   "execution_count": 305,
   "metadata": {},
   "outputs": [
    {
     "name": "stdout",
     "output_type": "stream",
     "text": [
      "peak 1, scan 433.579859856, rt 18259.7650832, mz 641.387650111\n",
      "peak 2, scan 433.488798133, rt 18254.1274388, mz 641.723648711\n",
      "peak 3, scan 434.064179283, rt 18245.0299778, mz 642.054044262\n",
      "peak 4, scan 431.854206135, rt 18256.8551159, mz 641.053656464\n",
      "peak 5, scan 434.616547962, rt 18240.6083293, mz 642.387360728\n",
      "peak 6, scan 441.267336138, rt 18245.4957253, mz 642.72048082\n"
     ]
    }
   ],
   "source": [
    "import peakutils\n",
    "for peak_id in peak_ids:\n",
    "    peak_points_df = summed_ms1_region_df.loc[summed_ms1_region_df.feature_peak_id==peak_id]\n",
    "    centroid_scan = peakutils.centroid(peak_points_df.scan.astype(float), peak_points_df.intensity)\n",
    "    centroid_rt = peakutils.centroid(peak_points_df.raw_frame_id.astype(float), peak_points_df.intensity)\n",
    "    centroid_mz = peakutils.centroid(peak_points_df.mz.astype(float), peak_points_df.intensity)\n",
    "    print(\"peak {}, scan {}, rt {}, mz {}\".format(peak_id, centroid_scan, centroid_rt, centroid_mz))"
   ]
  },
  {
   "cell_type": "code",
   "execution_count": 306,
   "metadata": {},
   "outputs": [],
   "source": [
    "tableau20 = [(31, 119, 180), (174, 199, 232), (255, 127, 14), (255, 187, 120),  \n",
    "             (44, 160, 44), (152, 223, 138), (214, 39, 40), (255, 152, 150),  \n",
    "             (148, 103, 189), (197, 176, 213), (140, 86, 75), (196, 156, 148),  \n",
    "             (227, 119, 194), (247, 182, 210), (127, 127, 127), (199, 199, 199),  \n",
    "             (188, 189, 34), (219, 219, 141), (23, 190, 207), (158, 218, 229)]\n",
    "# Rescale to values between 0 and 1 \n",
    "for i in range(len(tableau20)):  \n",
    "    r, g, b = tableau20[i]  \n",
    "    tableau20[i] = (r / 255., g / 255., b / 255.)"
   ]
  },
  {
   "cell_type": "code",
   "execution_count": 308,
   "metadata": {},
   "outputs": [
    {
     "data": {
      "image/png": "[encoded data removed]",
      "text/plain": [
       "<Figure size 432x288 with 1 Axes>"
      ]
     },
     "metadata": {},
     "output_type": "display_data"
    }
   ],
   "source": [
    "fig, ax = plt.subplots()\n",
    "for idx,peak_id in enumerate(peak_ids):\n",
    "    peak_points_df = summed_ms1_region_df.loc[summed_ms1_region_df.feature_peak_id==peak_id]\n",
    "    ax.plot(peak_points_df.mz, peak_points_df.intensity, marker='o', color=tableau20[idx], linestyle='', ms=5, label=\"peak {}\".format(peak_id))\n",
    "plt.legend(loc='best')\n",
    "plt.xlabel('m/z')\n",
    "plt.ylabel('intensity')\n",
    "plt.suptitle('Raw points comprising the isotopic peaks for feature {}'.format(feature_id))\n",
    "plt.margins(0.06)\n",
    "plt.show()"
   ]
  },
  {
   "cell_type": "code",
   "execution_count": 309,
   "metadata": {},
   "outputs": [
    {
     "data": {
      "image/png": "[encoded data removed]",
      "text/plain": [
       "<Figure size 432x288 with 1 Axes>"
      ]
     },
     "metadata": {},
     "output_type": "display_data"
    }
   ],
   "source": [
    "fig, ax = plt.subplots()\n",
    "for idx,peak_id in enumerate(peak_ids):\n",
    "    peak_points_df = summed_ms1_region_df.loc[summed_ms1_region_df.feature_peak_id==peak_id]\n",
    "    ax.plot(peak_points_df.scan, peak_points_df.intensity, marker='o', color=tableau20[idx], linestyle='', ms=5, label=\"peak {}\".format(peak_id))\n",
    "plt.legend(loc='best')\n",
    "plt.xlabel('scan')\n",
    "plt.ylabel('intensity')\n",
    "plt.suptitle('Raw points comprising the isotopic peaks for feature {}'.format(feature_id))\n",
    "plt.margins(0.06)\n",
    "plt.show()"
   ]
  },
  {
   "cell_type": "code",
   "execution_count": 317,
   "metadata": {},
   "outputs": [
    {
     "data": {
      "image/png": "[encoded data removed]",
      "text/plain": [
       "<Figure size 432x288 with 1 Axes>"
      ]
     },
     "metadata": {},
     "output_type": "display_data"
    }
   ],
   "source": [
    "fig, ax = plt.subplots()\n",
    "for idx,peak_id in enumerate(peak_ids):\n",
    "    peak_points_df = summed_ms1_region_df.loc[summed_ms1_region_df.feature_peak_id==peak_id].copy()\n",
    "    peak_points_df.sort_values(by=['raw_frame_id'], inplace=True)\n",
    "    ax.plot(peak_points_df.raw_frame_id, peak_points_df.intensity, marker='o', color=tableau20[idx], linestyle='', ms=5, label=\"peak {}\".format(peak_id))\n",
    "plt.legend(loc='best')\n",
    "plt.xlabel('frame')\n",
    "plt.ylabel('intensity')\n",
    "plt.suptitle('Raw points comprising the isotopic peaks for feature {}'.format(feature_id))\n",
    "plt.margins(0.06)\n",
    "plt.show()"
   ]
  },
  {
   "cell_type": "code",
   "execution_count": null,
   "metadata": {},
   "outputs": [],
   "source": []
  }
 ],
 "metadata": {
  "kernelspec": {
   "display_name": "Python 2",
   "language": "python",
   "name": "python2"
  },
  "language_info": {
   "codemirror_mode": {
    "name": "ipython",
    "version": 2
   },
   "file_extension": ".py",
   "mimetype": "text/x-python",
   "name": "python",
   "nbconvert_exporter": "python",
   "pygments_lexer": "ipython2",
   "version": "2.7.15"
  }
 },
 "nbformat": 4,
 "nbformat_minor": 2
}
