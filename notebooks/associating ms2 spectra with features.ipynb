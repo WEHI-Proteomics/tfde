{
 "cells": [
  {
   "cell_type": "markdown",
   "metadata": {},
   "source": [
    "Associates ms2 spectra (produced with 'prototyping ms2 processing from PASEF isolation windows') with features detected in ms1."
   ]
  },
  {
   "cell_type": "code",
   "execution_count": 10,
   "metadata": {},
   "outputs": [],
   "source": [
    "import sqlite3\n",
    "import pandas as pd\n",
    "import numpy as np\n",
    "import sys\n",
    "import matplotlib.pyplot as plt\n",
    "from ms_deisotope import deconvolute_peaks, averagine, scoring\n",
    "from ms_deisotope.deconvolution import peak_retention_strategy\n",
    "from numba import njit\n",
    "import os.path\n",
    "from pyteomics import mgf"
   ]
  },
  {
   "cell_type": "code",
   "execution_count": 11,
   "metadata": {},
   "outputs": [],
   "source": [
    "# get the ms2 spectra\n",
    "ms2_deconvoluted_peaks_df = pd.read_pickle('/Users/darylwilding-mcbride/Downloads/Hela_Ecoli_1to1-rt-0-1800-ms2.pkl')"
   ]
  },
  {
   "cell_type": "code",
   "execution_count": 12,
   "metadata": {},
   "outputs": [
    {
     "data": {
      "text/html": [
       "<div>\n",
       "<style scoped>\n",
       "    .dataframe tbody tr th:only-of-type {\n",
       "        vertical-align: middle;\n",
       "    }\n",
       "\n",
       "    .dataframe tbody tr th {\n",
       "        vertical-align: top;\n",
       "    }\n",
       "\n",
       "    .dataframe thead th {\n",
       "        text-align: right;\n",
       "    }\n",
       "</style>\n",
       "<table border=\"1\" class=\"dataframe\">\n",
       "  <thead>\n",
       "    <tr style=\"text-align: right;\">\n",
       "      <th></th>\n",
       "      <th>precursor</th>\n",
       "      <th>mz</th>\n",
       "      <th>charge</th>\n",
       "      <th>intensity</th>\n",
       "      <th>score</th>\n",
       "      <th>SN</th>\n",
       "    </tr>\n",
       "  </thead>\n",
       "  <tbody>\n",
       "    <tr>\n",
       "      <th>0</th>\n",
       "      <td>1</td>\n",
       "      <td>151.1650</td>\n",
       "      <td>1</td>\n",
       "      <td>9.0</td>\n",
       "      <td>0.000000</td>\n",
       "      <td>9.0</td>\n",
       "    </tr>\n",
       "    <tr>\n",
       "      <th>1</th>\n",
       "      <td>1</td>\n",
       "      <td>206.0931</td>\n",
       "      <td>1</td>\n",
       "      <td>9.0</td>\n",
       "      <td>0.000000</td>\n",
       "      <td>9.0</td>\n",
       "    </tr>\n",
       "    <tr>\n",
       "      <th>2</th>\n",
       "      <td>1</td>\n",
       "      <td>215.1453</td>\n",
       "      <td>1</td>\n",
       "      <td>69.0</td>\n",
       "      <td>8.306624</td>\n",
       "      <td>69.0</td>\n",
       "    </tr>\n",
       "    <tr>\n",
       "      <th>3</th>\n",
       "      <td>1</td>\n",
       "      <td>216.1400</td>\n",
       "      <td>1</td>\n",
       "      <td>96.0</td>\n",
       "      <td>9.797959</td>\n",
       "      <td>96.0</td>\n",
       "    </tr>\n",
       "    <tr>\n",
       "      <th>4</th>\n",
       "      <td>1</td>\n",
       "      <td>252.4246</td>\n",
       "      <td>1</td>\n",
       "      <td>9.0</td>\n",
       "      <td>0.000000</td>\n",
       "      <td>9.0</td>\n",
       "    </tr>\n",
       "  </tbody>\n",
       "</table>\n",
       "</div>"
      ],
      "text/plain": [
       "   precursor        mz  charge  intensity     score    SN\n",
       "0          1  151.1650       1        9.0  0.000000   9.0\n",
       "1          1  206.0931       1        9.0  0.000000   9.0\n",
       "2          1  215.1453       1       69.0  8.306624  69.0\n",
       "3          1  216.1400       1       96.0  9.797959  96.0\n",
       "4          1  252.4246       1        9.0  0.000000   9.0"
      ]
     },
     "execution_count": 12,
     "metadata": {},
     "output_type": "execute_result"
    }
   ],
   "source": [
    "ms2_deconvoluted_peaks_df.head()"
   ]
  },
  {
   "cell_type": "code",
   "execution_count": 22,
   "metadata": {},
   "outputs": [],
   "source": [
    "# get the features detected in ms1\n",
    "features_df = pd.read_pickle('/Users/darylwilding-mcbride/Downloads/Hela_Ecoli_1to1-rt-0-1800-ms1.pkl')"
   ]
  },
  {
   "cell_type": "code",
   "execution_count": 23,
   "metadata": {},
   "outputs": [
    {
     "data": {
      "text/plain": [
       "Index(['candidate_phr_error', 'charge', 'envelope', 'feature_id', 'intensity',\n",
       "       'intensity_full_rt_extent', 'mono_adjusted', 'monoisotopic_mz',\n",
       "       'original_phr', 'original_phr_error', 'precursor_id', 'rt_apex',\n",
       "       'rt_curve_fit', 'rt_lower', 'rt_upper', 'scan_apex', 'scan_curve_fit',\n",
       "       'scan_lower', 'scan_upper'],\n",
       "      dtype='object')"
      ]
     },
     "execution_count": 23,
     "metadata": {},
     "output_type": "execute_result"
    }
   ],
   "source": [
    "features_df.columns"
   ]
  },
  {
   "cell_type": "code",
   "execution_count": 24,
   "metadata": {},
   "outputs": [],
   "source": [
    "# ms2_a is a numpy array [precursor_id,mz,intensity]\n",
    "# return is a dictionary containing the feature information and spectra\n",
    "def collate_spectra_for_feature(feature_df, ms2_a):\n",
    "    # append the monoisotopic and the ms2 fragments to the list for MGF creation\n",
    "    ms2_sorted_a = ms2_a[ms2_a[:,1].argsort()] # sort by m/z increasing\n",
    "    spectrum = {}\n",
    "    spectrum[\"m/z array\"] = ms2_sorted_a[:,1]\n",
    "    spectrum[\"intensity array\"] = ms2_sorted_a[:,2].astype(int)\n",
    "    params = {}\n",
    "    params[\"TITLE\"] = \"RawFile: {} Charge: {} FeatureIntensity: {} Feature#: {} RtApex: {} Precursor: {}\".format(os.path.basename(CONVERTED_DATABASE_NAME).split('.')[0], feature_df.charge, round(feature_df.intensity), feature_df.feature_id, round(feature_df.rt_apex,2), feature_df.precursor_id)\n",
    "    params[\"INSTRUMENT\"] = \"ESI-QUAD-TOF\"\n",
    "    params[\"PEPMASS\"] = \"{} {}\".format(round(feature_df.monoisotopic_mz,6), round(feature_df.intensity))\n",
    "    params[\"CHARGE\"] = \"{}+\".format(feature_df.charge)\n",
    "    params[\"RTINSECONDS\"] = \"{}\".format(round(feature_df.rt_apex,2))\n",
    "    spectrum[\"params\"] = params\n",
    "    return spectrum"
   ]
  },
  {
   "cell_type": "code",
   "execution_count": 25,
   "metadata": {},
   "outputs": [],
   "source": [
    "CONVERTED_DATABASE_NAME = '{}/HeLa_20KInt.sqlite'.format('/Users/darylwilding-mcbride/Downloads')"
   ]
  },
  {
   "cell_type": "code",
   "execution_count": 26,
   "metadata": {},
   "outputs": [],
   "source": [
    "ms2_peaks_a = ms2_deconvoluted_peaks_df[['precursor','mz','intensity']].to_numpy()"
   ]
  },
  {
   "cell_type": "code",
   "execution_count": 27,
   "metadata": {},
   "outputs": [],
   "source": [
    "feature_results = []\n",
    "for i in range(len(features_df)):\n",
    "    feature_df = features_df.iloc[i]\n",
    "    # package the feature and its fragment ions for writing out to the MGF\n",
    "    ms2_a = ms2_peaks_a[np.where(ms2_peaks_a[:,0] == feature_df.precursor_id)]\n",
    "    result = collate_spectra_for_feature(feature_df, ms2_a)\n",
    "    feature_results.append(result)"
   ]
  },
  {
   "cell_type": "code",
   "execution_count": 9,
   "metadata": {},
   "outputs": [
    {
     "name": "stdout",
     "output_type": "stream",
     "text": [
      "writing 4664 entries to /Users/darylwilding-mcbride/Downloads/rt-3000-3060.mgf\n"
     ]
    }
   ],
   "source": [
    "# generate the MGF for all the features\n",
    "fn = '/Users/darylwilding-mcbride/Downloads/rt-3000-3060.mgf'\n",
    "print(\"writing {} entries to {}\".format(len(feature_results), fn))\n",
    "if os.path.isfile(fn):\n",
    "    os.remove(fn)\n",
    "_ = mgf.write(output=fn, spectra=feature_results)"
   ]
  },
  {
   "cell_type": "code",
   "execution_count": null,
   "metadata": {},
   "outputs": [],
   "source": []
  }
 ],
 "metadata": {
  "kernelspec": {
   "display_name": "Python 3",
   "language": "python",
   "name": "python3"
  },
  "language_info": {
   "codemirror_mode": {
    "name": "ipython",
    "version": 3
   },
   "file_extension": ".py",
   "mimetype": "text/x-python",
   "name": "python",
   "nbconvert_exporter": "python",
   "pygments_lexer": "ipython3",
   "version": "3.6.8"
  }
 },
 "nbformat": 4,
 "nbformat_minor": 2
}
