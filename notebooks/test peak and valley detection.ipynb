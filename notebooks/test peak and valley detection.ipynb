{
 "cells": [
  {
   "cell_type": "code",
   "execution_count": 1,
   "metadata": {},
   "outputs": [],
   "source": [
    "import numpy as np\n",
    "import pandas as pd\n",
    "import pickle\n",
    "from scipy import signal\n",
    "import matplotlib.pyplot as plt\n",
    "import peakutils\n",
    "import math"
   ]
  },
  {
   "cell_type": "code",
   "execution_count": 20,
   "metadata": {},
   "outputs": [],
   "source": [
    "rt_l = []\n",
    "rt_l.append((1,12))\n",
    "# rt_l.append((2,16))\n",
    "# rt_l.append((3,15))\n",
    "# rt_l.append((4,20))\n",
    "# rt_l.append((5,22))\n",
    "# rt_l.append((6,24))\n",
    "# rt_l.append((7,27))\n",
    "# rt_l.append((8,30))\n",
    "# rt_l.append((9,28))\n",
    "# rt_l.append((10,24))\n",
    "# rt_l.append((11,18))\n",
    "# rt_l.append((12,16))\n",
    "# rt_l.append((13,12))\n",
    "# rt_l.append((14,8))\n",
    "# rt_l.append((15,6))\n",
    "# rt_l.append((16,15))\n",
    "# rt_l.append((17,23))\n",
    "# rt_l.append((18,32))\n",
    "# rt_l.append((19,36))\n",
    "# rt_l.append((20,18))\n",
    "# rt_l.append((21,20))\n",
    "# rt_l.append((22,21))\n",
    "# rt_l.append((23,23))\n",
    "# rt_l.append((24,26))\n",
    "# rt_l.append((25,30))"
   ]
  },
  {
   "cell_type": "code",
   "execution_count": 21,
   "metadata": {},
   "outputs": [],
   "source": [
    "rt_df = pd.DataFrame(rt_l, columns=['retention_time_secs','intensity'])\n",
    "rt_df['filtered_intensity'] = rt_df.intensity"
   ]
  },
  {
   "cell_type": "code",
   "execution_count": 22,
   "metadata": {},
   "outputs": [],
   "source": [
    "window_length = 11\n",
    "estimated_peak_width = 20"
   ]
  },
  {
   "cell_type": "code",
   "execution_count": 23,
   "metadata": {},
   "outputs": [
    {
     "ename": "ValueError",
     "evalue": "If mode is 'interp', window_length must be less than or equal to the size of x.",
     "output_type": "error",
     "traceback": [
      "\u001b[0;31m---------------------------------------------------------------------------\u001b[0m",
      "\u001b[0;31mValueError\u001b[0m                                Traceback (most recent call last)",
      "\u001b[0;32m<ipython-input-23-0bade3f6ba99>\u001b[0m in \u001b[0;36m<module>\u001b[0;34m\u001b[0m\n\u001b[0;32m----> 1\u001b[0;31m \u001b[0mrt_df\u001b[0m\u001b[0;34m[\u001b[0m\u001b[0;34m'filtered_intensity'\u001b[0m\u001b[0;34m]\u001b[0m \u001b[0;34m=\u001b[0m \u001b[0msignal\u001b[0m\u001b[0;34m.\u001b[0m\u001b[0msavgol_filter\u001b[0m\u001b[0;34m(\u001b[0m\u001b[0mrt_df\u001b[0m\u001b[0;34m.\u001b[0m\u001b[0mintensity\u001b[0m\u001b[0;34m,\u001b[0m \u001b[0mwindow_length\u001b[0m\u001b[0;34m=\u001b[0m\u001b[0mwindow_length\u001b[0m\u001b[0;34m,\u001b[0m \u001b[0mpolyorder\u001b[0m\u001b[0;34m=\u001b[0m\u001b[0;36m3\u001b[0m\u001b[0;34m)\u001b[0m\u001b[0;34m\u001b[0m\u001b[0;34m\u001b[0m\u001b[0m\n\u001b[0m",
      "\u001b[0;32m~/anaconda3/envs/py36/lib/python3.6/site-packages/scipy/signal/_savitzky_golay.py\u001b[0m in \u001b[0;36msavgol_filter\u001b[0;34m(x, window_length, polyorder, deriv, delta, axis, mode, cval)\u001b[0m\n\u001b[1;32m    335\u001b[0m     \u001b[0;32mif\u001b[0m \u001b[0mmode\u001b[0m \u001b[0;34m==\u001b[0m \u001b[0;34m\"interp\"\u001b[0m\u001b[0;34m:\u001b[0m\u001b[0;34m\u001b[0m\u001b[0;34m\u001b[0m\u001b[0m\n\u001b[1;32m    336\u001b[0m         \u001b[0;32mif\u001b[0m \u001b[0mwindow_length\u001b[0m \u001b[0;34m>\u001b[0m \u001b[0mx\u001b[0m\u001b[0;34m.\u001b[0m\u001b[0msize\u001b[0m\u001b[0;34m:\u001b[0m\u001b[0;34m\u001b[0m\u001b[0;34m\u001b[0m\u001b[0m\n\u001b[0;32m--> 337\u001b[0;31m             raise ValueError(\"If mode is 'interp', window_length must be less \"\n\u001b[0m\u001b[1;32m    338\u001b[0m                              \"than or equal to the size of x.\")\n\u001b[1;32m    339\u001b[0m \u001b[0;34m\u001b[0m\u001b[0m\n",
      "\u001b[0;31mValueError\u001b[0m: If mode is 'interp', window_length must be less than or equal to the size of x."
     ]
    }
   ],
   "source": [
    "rt_df['filtered_intensity'] = signal.savgol_filter(rt_df.intensity, window_length=window_length, polyorder=3)"
   ]
  },
  {
   "cell_type": "code",
   "execution_count": 24,
   "metadata": {},
   "outputs": [],
   "source": [
    "rt_df['x'] = rt_df.retention_time_secs"
   ]
  },
  {
   "cell_type": "code",
   "execution_count": 25,
   "metadata": {},
   "outputs": [],
   "source": [
    "peak_idxs = peakutils.indexes(rt_df.filtered_intensity.values, thres=0.05, min_dist=estimated_peak_width/4, thres_abs=False)\n",
    "peak_x_l = rt_df.iloc[peak_idxs].x.to_list()"
   ]
  },
  {
   "cell_type": "code",
   "execution_count": 26,
   "metadata": {},
   "outputs": [
    {
     "name": "stdout",
     "output_type": "stream",
     "text": [
      "could not find any peaks - taking the maximum point\n"
     ]
    }
   ],
   "source": [
    "if len(peak_x_l) == 0:\n",
    "    print('could not find any peaks - taking the maximum point')\n",
    "    # get the maximum intensity point\n",
    "    peak_x_l = [int(rt_df.loc[rt_df.filtered_intensity.idxmax()].x)]"
   ]
  },
  {
   "cell_type": "code",
   "execution_count": 27,
   "metadata": {},
   "outputs": [],
   "source": [
    "peaks_df = rt_df[rt_df.x.isin(peak_x_l)]"
   ]
  },
  {
   "cell_type": "code",
   "execution_count": 28,
   "metadata": {},
   "outputs": [
    {
     "data": {
      "text/html": [
       "<div>\n",
       "<style scoped>\n",
       "    .dataframe tbody tr th:only-of-type {\n",
       "        vertical-align: middle;\n",
       "    }\n",
       "\n",
       "    .dataframe tbody tr th {\n",
       "        vertical-align: top;\n",
       "    }\n",
       "\n",
       "    .dataframe thead th {\n",
       "        text-align: right;\n",
       "    }\n",
       "</style>\n",
       "<table border=\"1\" class=\"dataframe\">\n",
       "  <thead>\n",
       "    <tr style=\"text-align: right;\">\n",
       "      <th></th>\n",
       "      <th>retention_time_secs</th>\n",
       "      <th>intensity</th>\n",
       "      <th>filtered_intensity</th>\n",
       "      <th>x</th>\n",
       "    </tr>\n",
       "  </thead>\n",
       "  <tbody>\n",
       "    <tr>\n",
       "      <th>0</th>\n",
       "      <td>1</td>\n",
       "      <td>12</td>\n",
       "      <td>12</td>\n",
       "      <td>1</td>\n",
       "    </tr>\n",
       "  </tbody>\n",
       "</table>\n",
       "</div>"
      ],
      "text/plain": [
       "   retention_time_secs  intensity  filtered_intensity  x\n",
       "0                    1         12                  12  1"
      ]
     },
     "execution_count": 28,
     "metadata": {},
     "output_type": "execute_result"
    }
   ],
   "source": [
    "peaks_df"
   ]
  },
  {
   "cell_type": "code",
   "execution_count": 11,
   "metadata": {},
   "outputs": [],
   "source": [
    "valley_idxs = peakutils.indexes(-rt_df.filtered_intensity.values, thres=0.5, min_dist=estimated_peak_width/4, thres_abs=False)\n",
    "valley_x_l = rt_df.iloc[valley_idxs].x.to_list()\n",
    "valleys_df = rt_df[rt_df.x.isin(valley_x_l)]"
   ]
  },
  {
   "cell_type": "code",
   "execution_count": 12,
   "metadata": {},
   "outputs": [
    {
     "data": {
      "text/html": [
       "<div>\n",
       "<style scoped>\n",
       "    .dataframe tbody tr th:only-of-type {\n",
       "        vertical-align: middle;\n",
       "    }\n",
       "\n",
       "    .dataframe tbody tr th {\n",
       "        vertical-align: top;\n",
       "    }\n",
       "\n",
       "    .dataframe thead th {\n",
       "        text-align: right;\n",
       "    }\n",
       "</style>\n",
       "<table border=\"1\" class=\"dataframe\">\n",
       "  <thead>\n",
       "    <tr style=\"text-align: right;\">\n",
       "      <th></th>\n",
       "      <th>retention_time_secs</th>\n",
       "      <th>intensity</th>\n",
       "      <th>filtered_intensity</th>\n",
       "      <th>x</th>\n",
       "    </tr>\n",
       "  </thead>\n",
       "  <tbody>\n",
       "    <tr>\n",
       "      <th>13</th>\n",
       "      <td>14</td>\n",
       "      <td>8</td>\n",
       "      <td>10.179487</td>\n",
       "      <td>14</td>\n",
       "    </tr>\n",
       "    <tr>\n",
       "      <th>22</th>\n",
       "      <td>23</td>\n",
       "      <td>23</td>\n",
       "      <td>20.668998</td>\n",
       "      <td>23</td>\n",
       "    </tr>\n",
       "  </tbody>\n",
       "</table>\n",
       "</div>"
      ],
      "text/plain": [
       "    retention_time_secs  intensity  filtered_intensity   x\n",
       "13                   14          8           10.179487  14\n",
       "22                   23         23           20.668998  23"
      ]
     },
     "execution_count": 12,
     "metadata": {},
     "output_type": "execute_result"
    }
   ],
   "source": [
    "valleys_df"
   ]
  },
  {
   "cell_type": "code",
   "execution_count": 13,
   "metadata": {},
   "outputs": [
    {
     "data": {
      "image/png": "[encoded data removed]",
      "text/plain": [
       "<Figure size 1080x360 with 1 Axes>"
      ]
     },
     "metadata": {
      "needs_background": "light"
     },
     "output_type": "display_data"
    }
   ],
   "source": [
    "f, ax = plt.subplots()\n",
    "# plot the original raw data\n",
    "ax.plot(rt_df.x, rt_df.intensity, marker='o', color='tab:purple', linestyle='', linewidth=2, ms=2, label='original raw points')\n",
    "# plot the filtered intensity values\n",
    "ax.plot(rt_df.x, rt_df.filtered_intensity, marker='', color='lightskyblue', linestyle='--', linewidth=1, ms=5, label='smoothed raw points')\n",
    "# show the peaks\n",
    "if len(peaks_df) > 0:\n",
    "    ax.plot(peaks_df.x, peaks_df.filtered_intensity, marker='v', color='turquoise', linestyle='', markeredgewidth=1, ms=8, label='peak')\n",
    "# show the valleys\n",
    "if len(valleys_df) > 0:\n",
    "    ax.plot(valleys_df.x, valleys_df.filtered_intensity, marker='^', color='purple', linestyle='', markeredgewidth=1, ms=8, label='valley')\n",
    "plt.xlabel('retention time (secs)')\n",
    "plt.ylabel('intensity')\n",
    "plt.legend(loc='best')\n",
    "f.set_figheight(5)\n",
    "f.set_figwidth(15)\n",
    "plt.margins(0.06)\n",
    "plt.show()"
   ]
  },
  {
   "cell_type": "code",
   "execution_count": 14,
   "metadata": {},
   "outputs": [],
   "source": [
    "# extract the points belonging to each isolated peak\n",
    "peaks_l = []\n",
    "for peak in peaks_df.itertuples():\n",
    "    # find the x bounds\n",
    "    upper_x = valleys_df[valleys_df.x > peak.x].x.min()\n",
    "    if math.isnan(upper_x):\n",
    "        upper_x = rt_df.x.max()\n",
    "    lower_x = valleys_df[valleys_df.x < peak.x].x.max()\n",
    "    if math.isnan(lower_x):\n",
    "        lower_x = rt_df.x.min()\n",
    "    # find the standard deviation and FWHM, assuming a gaussian distribution\n",
    "    std_dev = np.mean([abs(peak.x-upper_x), abs(peak.x-lower_x)]) / 3\n",
    "    fwhm = 2.355 * std_dev\n",
    "    peaks_l.append((peak.x, peak.intensity, lower_x, upper_x, std_dev, fwhm))\n",
    "isolated_peaks_df = pd.DataFrame(peaks_l, columns=['peak_x','intensity','lower_x','upper_x','std_dev','fwhm'])"
   ]
  },
  {
   "cell_type": "code",
   "execution_count": 15,
   "metadata": {},
   "outputs": [
    {
     "data": {
      "text/html": [
       "<div>\n",
       "<style scoped>\n",
       "    .dataframe tbody tr th:only-of-type {\n",
       "        vertical-align: middle;\n",
       "    }\n",
       "\n",
       "    .dataframe tbody tr th {\n",
       "        vertical-align: top;\n",
       "    }\n",
       "\n",
       "    .dataframe thead th {\n",
       "        text-align: right;\n",
       "    }\n",
       "</style>\n",
       "<table border=\"1\" class=\"dataframe\">\n",
       "  <thead>\n",
       "    <tr style=\"text-align: right;\">\n",
       "      <th></th>\n",
       "      <th>peak_x</th>\n",
       "      <th>intensity</th>\n",
       "      <th>lower_x</th>\n",
       "      <th>upper_x</th>\n",
       "      <th>std_dev</th>\n",
       "      <th>fwhm</th>\n",
       "    </tr>\n",
       "  </thead>\n",
       "  <tbody>\n",
       "    <tr>\n",
       "      <th>0</th>\n",
       "      <td>8</td>\n",
       "      <td>30</td>\n",
       "      <td>1</td>\n",
       "      <td>14</td>\n",
       "      <td>2.166667</td>\n",
       "      <td>5.1025</td>\n",
       "    </tr>\n",
       "    <tr>\n",
       "      <th>1</th>\n",
       "      <td>20</td>\n",
       "      <td>18</td>\n",
       "      <td>14</td>\n",
       "      <td>23</td>\n",
       "      <td>1.500000</td>\n",
       "      <td>3.5325</td>\n",
       "    </tr>\n",
       "  </tbody>\n",
       "</table>\n",
       "</div>"
      ],
      "text/plain": [
       "   peak_x  intensity  lower_x  upper_x   std_dev    fwhm\n",
       "0       8         30        1       14  2.166667  5.1025\n",
       "1      20         18       14       23  1.500000  3.5325"
      ]
     },
     "execution_count": 15,
     "metadata": {},
     "output_type": "execute_result"
    }
   ],
   "source": [
    "isolated_peaks_df"
   ]
  },
  {
   "cell_type": "code",
   "execution_count": 16,
   "metadata": {},
   "outputs": [
    {
     "data": {
      "text/plain": [
       "[8, 20]"
      ]
     },
     "execution_count": 16,
     "metadata": {},
     "output_type": "execute_result"
    }
   ],
   "source": [
    "peak_x_l = rt_df.iloc[peak_idxs].x.to_list()\n",
    "peak_x_l"
   ]
  },
  {
   "cell_type": "code",
   "execution_count": 17,
   "metadata": {},
   "outputs": [
    {
     "data": {
      "text/plain": [
       "[25]"
      ]
     },
     "execution_count": 17,
     "metadata": {},
     "output_type": "execute_result"
    }
   ],
   "source": [
    "peak_x_l = [int(rt_df.loc[rt_df.filtered_intensity.idxmax()].x)]\n",
    "peak_x_l"
   ]
  },
  {
   "cell_type": "code",
   "execution_count": 18,
   "metadata": {},
   "outputs": [
    {
     "data": {
      "text/plain": [
       "[1, 25]"
      ]
     },
     "execution_count": 18,
     "metadata": {},
     "output_type": "execute_result"
    }
   ],
   "source": [
    "valley_x_l = [rt_df.x.min(), rt_df.x.max()]\n",
    "valley_x_l"
   ]
  },
  {
   "cell_type": "code",
   "execution_count": 19,
   "metadata": {},
   "outputs": [
    {
     "data": {
      "text/plain": [
       "[25]"
      ]
     },
     "execution_count": 19,
     "metadata": {},
     "output_type": "execute_result"
    }
   ],
   "source": [
    "# the x-axis value for each peak\n",
    "peak_x_l = [int(rt_df.loc[rt_df.filtered_intensity.idxmax()].x)]\n",
    "peak_x_l"
   ]
  },
  {
   "cell_type": "code",
   "execution_count": null,
   "metadata": {},
   "outputs": [],
   "source": []
  }
 ],
 "metadata": {
  "kernelspec": {
   "display_name": "Python 3",
   "language": "python",
   "name": "python3"
  },
  "language_info": {
   "codemirror_mode": {
    "name": "ipython",
    "version": 3
   },
   "file_extension": ".py",
   "mimetype": "text/x-python",
   "name": "python",
   "nbconvert_exporter": "python",
   "pygments_lexer": "ipython3",
   "version": "3.6.8"
  }
 },
 "nbformat": 4,
 "nbformat_minor": 4
}
