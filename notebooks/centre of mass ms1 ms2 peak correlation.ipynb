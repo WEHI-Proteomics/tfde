{
 "cells": [
  {
   "cell_type": "code",
   "execution_count": 194,
   "metadata": {
    "collapsed": true
   },
   "outputs": [],
   "source": [
    "import pandas as pd\n",
    "import sqlite3\n",
    "import numpy as np\n",
    "import matplotlib.pyplot as plt\n",
    "import peakutils\n",
    "import json"
   ]
  },
  {
   "cell_type": "code",
   "execution_count": 195,
   "metadata": {
    "collapsed": true
   },
   "outputs": [],
   "source": [
    "ms2_mz_scaling_factor = 1000.0"
   ]
  },
  {
   "cell_type": "code",
   "execution_count": 196,
   "metadata": {
    "collapsed": true
   },
   "outputs": [],
   "source": [
    "db_name = 'z:/wilding-mcbride/processing/UPS2_200ng_2/UPS2_200ng_2-features-1-138.sqlite'\n",
    "feature_id = 23\n",
    "ms2_peak_id = 2"
   ]
  },
  {
   "cell_type": "code",
   "execution_count": 197,
   "metadata": {},
   "outputs": [],
   "source": [
    "db_conn = sqlite3.connect(db_name)\n",
    "db_conn.cursor().execute(\"CREATE INDEX IF NOT EXISTS idx_ms2_feature_region_points_1 ON ms2_feature_region_points (feature_id)\")\n",
    "db_conn.close()"
   ]
  },
  {
   "cell_type": "code",
   "execution_count": 198,
   "metadata": {
    "collapsed": true
   },
   "outputs": [],
   "source": [
    "# get the raw (unsummed) points the ms2 peaks mz belonging to a feature\n",
    "db_conn = sqlite3.connect(db_name)\n",
    "ms2_feature_region_points_df = pd.read_sql_query(\"select * from ms2_feature_region_points where feature_id={}\".format(feature_id), db_conn)\n",
    "db_conn.close()"
   ]
  },
  {
   "cell_type": "code",
   "execution_count": 199,
   "metadata": {},
   "outputs": [
    {
     "data": {
      "text/plain": [
       "547730"
      ]
     },
     "execution_count": 199,
     "metadata": {},
     "output_type": "execute_result"
    }
   ],
   "source": [
    "len(ms2_feature_region_points_df)"
   ]
  },
  {
   "cell_type": "code",
   "execution_count": 200,
   "metadata": {
    "collapsed": true
   },
   "outputs": [],
   "source": [
    "# get the ms2 peak summary information for this feature\n",
    "db_conn = sqlite3.connect(db_name)\n",
    "ms2_peaks_df = pd.read_sql_query(\"select * from ms2_peaks where feature_id={} order by peak_id ASC\".format(feature_id), db_conn)\n",
    "db_conn.close()"
   ]
  },
  {
   "cell_type": "code",
   "execution_count": 411,
   "metadata": {},
   "outputs": [
    {
     "data": {
      "text/html": [
       "<div>\n",
       "<style>\n",
       "    .dataframe thead tr:only-child th {\n",
       "        text-align: right;\n",
       "    }\n",
       "\n",
       "    .dataframe thead th {\n",
       "        text-align: left;\n",
       "    }\n",
       "\n",
       "    .dataframe tbody tr th {\n",
       "        vertical-align: top;\n",
       "    }\n",
       "</style>\n",
       "<table border=\"1\" class=\"dataframe\">\n",
       "  <thead>\n",
       "    <tr style=\"text-align: right;\">\n",
       "      <th></th>\n",
       "      <th>feature_id</th>\n",
       "      <th>peak_id</th>\n",
       "      <th>centroid_mz</th>\n",
       "      <th>composite_mzs</th>\n",
       "      <th>centroid_scan</th>\n",
       "      <th>intensity</th>\n",
       "    </tr>\n",
       "  </thead>\n",
       "  <tbody>\n",
       "    <tr>\n",
       "      <th>0</th>\n",
       "      <td>23</td>\n",
       "      <td>1</td>\n",
       "      <td>680.355</td>\n",
       "      <td>[680328, 680329, 680330, 680331, 680332, 68033...</td>\n",
       "      <td>103</td>\n",
       "      <td>8965165</td>\n",
       "    </tr>\n",
       "    <tr>\n",
       "      <th>1</th>\n",
       "      <td>23</td>\n",
       "      <td>2</td>\n",
       "      <td>409.210</td>\n",
       "      <td>[409193, 409194, 409195, 409196, 409197, 40919...</td>\n",
       "      <td>102</td>\n",
       "      <td>8569315</td>\n",
       "    </tr>\n",
       "    <tr>\n",
       "      <th>2</th>\n",
       "      <td>23</td>\n",
       "      <td>3</td>\n",
       "      <td>564.848</td>\n",
       "      <td>[564830, 564831, 564832, 564833, 564834, 56483...</td>\n",
       "      <td>95</td>\n",
       "      <td>5145165</td>\n",
       "    </tr>\n",
       "    <tr>\n",
       "      <th>3</th>\n",
       "      <td>23</td>\n",
       "      <td>4</td>\n",
       "      <td>466.225</td>\n",
       "      <td>[466210, 466211, 466212, 466213, 466214, 46621...</td>\n",
       "      <td>103</td>\n",
       "      <td>4891338</td>\n",
       "    </tr>\n",
       "    <tr>\n",
       "      <th>4</th>\n",
       "      <td>23</td>\n",
       "      <td>5</td>\n",
       "      <td>817.413</td>\n",
       "      <td>[817383, 817384, 817385, 817386, 817387, 81738...</td>\n",
       "      <td>103</td>\n",
       "      <td>5047669</td>\n",
       "    </tr>\n",
       "  </tbody>\n",
       "</table>\n",
       "</div>"
      ],
      "text/plain": [
       "   feature_id  peak_id  centroid_mz  \\\n",
       "0          23        1      680.355   \n",
       "1          23        2      409.210   \n",
       "2          23        3      564.848   \n",
       "3          23        4      466.225   \n",
       "4          23        5      817.413   \n",
       "\n",
       "                                       composite_mzs  centroid_scan  intensity  \n",
       "0  [680328, 680329, 680330, 680331, 680332, 68033...            103    8965165  \n",
       "1  [409193, 409194, 409195, 409196, 409197, 40919...            102    8569315  \n",
       "2  [564830, 564831, 564832, 564833, 564834, 56483...             95    5145165  \n",
       "3  [466210, 466211, 466212, 466213, 466214, 46621...            103    4891338  \n",
       "4  [817383, 817384, 817385, 817386, 817387, 81738...            103    5047669  "
      ]
     },
     "execution_count": 411,
     "metadata": {},
     "output_type": "execute_result"
    }
   ],
   "source": [
    "ms2_peaks_df[:5]"
   ]
  },
  {
   "cell_type": "markdown",
   "metadata": {},
   "source": [
    "Need to get all the mzs used to create this peak"
   ]
  },
  {
   "cell_type": "code",
   "execution_count": 202,
   "metadata": {},
   "outputs": [],
   "source": [
    "peak_composite_mzs = json.loads(ms2_peaks_df[ms2_peaks_df.peak_id == ms2_peak_id].composite_mzs[1])"
   ]
  },
  {
   "cell_type": "code",
   "execution_count": 412,
   "metadata": {},
   "outputs": [
    {
     "data": {
      "text/html": [
       "<div>\n",
       "<style>\n",
       "    .dataframe thead tr:only-child th {\n",
       "        text-align: right;\n",
       "    }\n",
       "\n",
       "    .dataframe thead th {\n",
       "        text-align: left;\n",
       "    }\n",
       "\n",
       "    .dataframe tbody tr th {\n",
       "        vertical-align: top;\n",
       "    }\n",
       "</style>\n",
       "<table border=\"1\" class=\"dataframe\">\n",
       "  <thead>\n",
       "    <tr style=\"text-align: right;\">\n",
       "      <th></th>\n",
       "      <th>frame_id</th>\n",
       "      <th>mz</th>\n",
       "      <th>scan</th>\n",
       "      <th>intensity</th>\n",
       "      <th>point_id</th>\n",
       "      <th>scaled_mz</th>\n",
       "      <th>feature_id</th>\n",
       "    </tr>\n",
       "  </thead>\n",
       "  <tbody>\n",
       "    <tr>\n",
       "      <th>4330</th>\n",
       "      <td>26457</td>\n",
       "      <td>409</td>\n",
       "      <td>92</td>\n",
       "      <td>425</td>\n",
       "      <td>871</td>\n",
       "      <td>409212</td>\n",
       "      <td>23</td>\n",
       "    </tr>\n",
       "    <tr>\n",
       "      <th>4331</th>\n",
       "      <td>26599</td>\n",
       "      <td>409</td>\n",
       "      <td>92</td>\n",
       "      <td>225</td>\n",
       "      <td>5209</td>\n",
       "      <td>409225</td>\n",
       "      <td>23</td>\n",
       "    </tr>\n",
       "    <tr>\n",
       "      <th>35572</th>\n",
       "      <td>26597</td>\n",
       "      <td>409</td>\n",
       "      <td>93</td>\n",
       "      <td>100</td>\n",
       "      <td>5912</td>\n",
       "      <td>409199</td>\n",
       "      <td>23</td>\n",
       "    </tr>\n",
       "    <tr>\n",
       "      <th>35573</th>\n",
       "      <td>26535</td>\n",
       "      <td>409</td>\n",
       "      <td>93</td>\n",
       "      <td>265</td>\n",
       "      <td>4026</td>\n",
       "      <td>409209</td>\n",
       "      <td>23</td>\n",
       "    </tr>\n",
       "    <tr>\n",
       "      <th>35574</th>\n",
       "      <td>26609</td>\n",
       "      <td>409</td>\n",
       "      <td>93</td>\n",
       "      <td>531</td>\n",
       "      <td>4950</td>\n",
       "      <td>409212</td>\n",
       "      <td>23</td>\n",
       "    </tr>\n",
       "  </tbody>\n",
       "</table>\n",
       "</div>"
      ],
      "text/plain": [
       "       frame_id   mz  scan  intensity  point_id  scaled_mz  feature_id\n",
       "4330      26457  409    92        425       871     409212          23\n",
       "4331      26599  409    92        225      5209     409225          23\n",
       "35572     26597  409    93        100      5912     409199          23\n",
       "35573     26535  409    93        265      4026     409209          23\n",
       "35574     26609  409    93        531      4950     409212          23"
      ]
     },
     "execution_count": 412,
     "metadata": {},
     "output_type": "execute_result"
    }
   ],
   "source": [
    "peak_points = ms2_feature_region_points_df[ms2_feature_region_points_df.scaled_mz.isin(peak_composite_mzs)].sort_values(by=['scan'])\n",
    "peak_points[:5]"
   ]
  },
  {
   "cell_type": "code",
   "execution_count": 204,
   "metadata": {
    "collapsed": true
   },
   "outputs": [],
   "source": [
    "conv_db_name = 'z:/wilding-mcbride/processing/UPS2_200ng_2/UPS2_200ng_2.sqlite'"
   ]
  },
  {
   "cell_type": "code",
   "execution_count": 205,
   "metadata": {
    "collapsed": true
   },
   "outputs": [],
   "source": [
    "# calculate the ms2 frame rate - assume they alternate \n",
    "db_conn = sqlite3.connect(conv_db_name)\n",
    "df = pd.read_sql_query(\"select value from convert_info where item=\\'{}\\'\".format(\"raw_frame_period_in_msec\"), db_conn)\n",
    "raw_frame_period_in_msec = float(df.loc[0].value)\n",
    "raw_frame_ids_per_second = 1.0 / (raw_frame_period_in_msec * 10**-3)\n",
    "db_conn.close()"
   ]
  },
  {
   "cell_type": "code",
   "execution_count": 206,
   "metadata": {},
   "outputs": [
    {
     "data": {
      "text/plain": [
       "50.0"
      ]
     },
     "execution_count": 206,
     "metadata": {},
     "output_type": "execute_result"
    }
   ],
   "source": [
    "raw_frame_ids_per_second"
   ]
  },
  {
   "cell_type": "code",
   "execution_count": 207,
   "metadata": {
    "collapsed": true
   },
   "outputs": [],
   "source": [
    "peak_points.rename(columns = {'frame_id':'raw_frame_id'}, inplace = True)"
   ]
  },
  {
   "cell_type": "code",
   "execution_count": 208,
   "metadata": {
    "collapsed": true
   },
   "outputs": [],
   "source": [
    "peak_points['retention_time_secs'] = peak_points.raw_frame_id / raw_frame_ids_per_second"
   ]
  },
  {
   "cell_type": "code",
   "execution_count": 209,
   "metadata": {
    "collapsed": true
   },
   "outputs": [],
   "source": [
    "peak_points['marker_size'] = 10+1.5*np.log(peak_points.intensity*0.01)"
   ]
  },
  {
   "cell_type": "code",
   "execution_count": 413,
   "metadata": {},
   "outputs": [
    {
     "data": {
      "text/html": [
       "<div>\n",
       "<style>\n",
       "    .dataframe thead tr:only-child th {\n",
       "        text-align: right;\n",
       "    }\n",
       "\n",
       "    .dataframe thead th {\n",
       "        text-align: left;\n",
       "    }\n",
       "\n",
       "    .dataframe tbody tr th {\n",
       "        vertical-align: top;\n",
       "    }\n",
       "</style>\n",
       "<table border=\"1\" class=\"dataframe\">\n",
       "  <thead>\n",
       "    <tr style=\"text-align: right;\">\n",
       "      <th></th>\n",
       "      <th>frame_id</th>\n",
       "      <th>mz</th>\n",
       "      <th>scan</th>\n",
       "      <th>intensity</th>\n",
       "      <th>point_id</th>\n",
       "      <th>scaled_mz</th>\n",
       "      <th>feature_id</th>\n",
       "    </tr>\n",
       "  </thead>\n",
       "  <tbody>\n",
       "    <tr>\n",
       "      <th>4330</th>\n",
       "      <td>26457</td>\n",
       "      <td>409</td>\n",
       "      <td>92</td>\n",
       "      <td>425</td>\n",
       "      <td>871</td>\n",
       "      <td>409212</td>\n",
       "      <td>23</td>\n",
       "    </tr>\n",
       "    <tr>\n",
       "      <th>4331</th>\n",
       "      <td>26599</td>\n",
       "      <td>409</td>\n",
       "      <td>92</td>\n",
       "      <td>225</td>\n",
       "      <td>5209</td>\n",
       "      <td>409225</td>\n",
       "      <td>23</td>\n",
       "    </tr>\n",
       "    <tr>\n",
       "      <th>35572</th>\n",
       "      <td>26597</td>\n",
       "      <td>409</td>\n",
       "      <td>93</td>\n",
       "      <td>100</td>\n",
       "      <td>5912</td>\n",
       "      <td>409199</td>\n",
       "      <td>23</td>\n",
       "    </tr>\n",
       "    <tr>\n",
       "      <th>35573</th>\n",
       "      <td>26535</td>\n",
       "      <td>409</td>\n",
       "      <td>93</td>\n",
       "      <td>265</td>\n",
       "      <td>4026</td>\n",
       "      <td>409209</td>\n",
       "      <td>23</td>\n",
       "    </tr>\n",
       "    <tr>\n",
       "      <th>35574</th>\n",
       "      <td>26609</td>\n",
       "      <td>409</td>\n",
       "      <td>93</td>\n",
       "      <td>531</td>\n",
       "      <td>4950</td>\n",
       "      <td>409212</td>\n",
       "      <td>23</td>\n",
       "    </tr>\n",
       "  </tbody>\n",
       "</table>\n",
       "</div>"
      ],
      "text/plain": [
       "       frame_id   mz  scan  intensity  point_id  scaled_mz  feature_id\n",
       "4330      26457  409    92        425       871     409212          23\n",
       "4331      26599  409    92        225      5209     409225          23\n",
       "35572     26597  409    93        100      5912     409199          23\n",
       "35573     26535  409    93        265      4026     409209          23\n",
       "35574     26609  409    93        531      4950     409212          23"
      ]
     },
     "execution_count": 413,
     "metadata": {},
     "output_type": "execute_result"
    }
   ],
   "source": [
    "peak_points[:5]"
   ]
  },
  {
   "cell_type": "code",
   "execution_count": 211,
   "metadata": {},
   "outputs": [
    {
     "data": {
      "text/plain": [
       "102"
      ]
     },
     "execution_count": 211,
     "metadata": {},
     "output_type": "execute_result"
    }
   ],
   "source": [
    "centroid_scan = int(peakutils.centroid(peak_points.scan, peak_points.intensity))\n",
    "centroid_scan"
   ]
  },
  {
   "cell_type": "code",
   "execution_count": 212,
   "metadata": {},
   "outputs": [
    {
     "data": {
      "text/plain": [
       "531.2231383558671"
      ]
     },
     "execution_count": 212,
     "metadata": {},
     "output_type": "execute_result"
    }
   ],
   "source": [
    "centroid_rt = peakutils.centroid(peak_points.retention_time_secs, peak_points.intensity)\n",
    "centroid_rt"
   ]
  },
  {
   "cell_type": "code",
   "execution_count": 213,
   "metadata": {},
   "outputs": [
    {
     "data": {
      "image/png": "[encoded data removed]",
      "text/plain": [
       "<matplotlib.figure.Figure at 0xcc2e5c0>"
      ]
     },
     "metadata": {},
     "output_type": "display_data"
    }
   ],
   "source": [
    "fig, ax1 = plt.subplots()\n",
    "fig.set_figheight(8)\n",
    "fig.set_figwidth(8)\n",
    "ax1.scatter(peak_points.retention_time_secs, peak_points.scan, marker='o', s=peak_points.marker_size, color='tab:gray', label='peak points')\n",
    "plt.plot(centroid_rt, centroid_scan, 'bx', ms=15, mew=3, label='centroid')\n",
    "plt.legend(loc='best')\n",
    "ax1.set_ylabel('scan')\n",
    "ax1.set_xlabel('retention time (secs)')\n",
    "plt.title(\"Intensity-weighted centroid of raw points for ms2 peak {} of feature {}\".format(ms2_peak_id,feature_id))\n",
    "plt.gca().invert_yaxis()\n",
    "plt.margins(0.06)\n",
    "plt.show()"
   ]
  },
  {
   "cell_type": "raw",
   "metadata": {},
   "source": [
    "Get all the raw points for the feature's base peak"
   ]
  },
  {
   "cell_type": "code",
   "execution_count": 214,
   "metadata": {
    "collapsed": true
   },
   "outputs": [],
   "source": [
    "base_peak_id = 1"
   ]
  },
  {
   "cell_type": "code",
   "execution_count": 259,
   "metadata": {},
   "outputs": [],
   "source": [
    "# get all the points the feature's summed ms1 region for this peak\n",
    "db_conn = sqlite3.connect(db_name)\n",
    "ms1_base_peak_points_df = pd.read_sql_query(\"select * from summed_ms1_regions where feature_id={} and peak_id={}\".format(feature_id, base_peak_id), db_conn)\n",
    "db_conn.close()"
   ]
  },
  {
   "cell_type": "code",
   "execution_count": 389,
   "metadata": {},
   "outputs": [
    {
     "data": {
      "text/html": [
       "<div>\n",
       "<style>\n",
       "    .dataframe thead tr:only-child th {\n",
       "        text-align: right;\n",
       "    }\n",
       "\n",
       "    .dataframe thead th {\n",
       "        text-align: left;\n",
       "    }\n",
       "\n",
       "    .dataframe tbody tr th {\n",
       "        vertical-align: top;\n",
       "    }\n",
       "</style>\n",
       "<table border=\"1\" class=\"dataframe\">\n",
       "  <thead>\n",
       "    <tr style=\"text-align: right;\">\n",
       "      <th></th>\n",
       "      <th>feature_id</th>\n",
       "      <th>point_id</th>\n",
       "      <th>mz</th>\n",
       "      <th>scan</th>\n",
       "      <th>intensity</th>\n",
       "      <th>number_frames</th>\n",
       "      <th>peak_id</th>\n",
       "      <th>feature_point</th>\n",
       "    </tr>\n",
       "  </thead>\n",
       "  <tbody>\n",
       "    <tr>\n",
       "      <th>0</th>\n",
       "      <td>23</td>\n",
       "      <td>1</td>\n",
       "      <td>509.266373</td>\n",
       "      <td>95</td>\n",
       "      <td>4765</td>\n",
       "      <td>6</td>\n",
       "      <td>1</td>\n",
       "      <td>23|1</td>\n",
       "    </tr>\n",
       "    <tr>\n",
       "      <th>1</th>\n",
       "      <td>23</td>\n",
       "      <td>2</td>\n",
       "      <td>509.270576</td>\n",
       "      <td>97</td>\n",
       "      <td>4065</td>\n",
       "      <td>6</td>\n",
       "      <td>1</td>\n",
       "      <td>23|2</td>\n",
       "    </tr>\n",
       "    <tr>\n",
       "      <th>2</th>\n",
       "      <td>23</td>\n",
       "      <td>3</td>\n",
       "      <td>509.268392</td>\n",
       "      <td>99</td>\n",
       "      <td>6217916</td>\n",
       "      <td>38</td>\n",
       "      <td>1</td>\n",
       "      <td>23|3</td>\n",
       "    </tr>\n",
       "    <tr>\n",
       "      <th>3</th>\n",
       "      <td>23</td>\n",
       "      <td>8</td>\n",
       "      <td>509.266796</td>\n",
       "      <td>100</td>\n",
       "      <td>34339260</td>\n",
       "      <td>42</td>\n",
       "      <td>1</td>\n",
       "      <td>23|8</td>\n",
       "    </tr>\n",
       "    <tr>\n",
       "      <th>4</th>\n",
       "      <td>23</td>\n",
       "      <td>13</td>\n",
       "      <td>509.267239</td>\n",
       "      <td>101</td>\n",
       "      <td>39648041</td>\n",
       "      <td>42</td>\n",
       "      <td>1</td>\n",
       "      <td>23|13</td>\n",
       "    </tr>\n",
       "  </tbody>\n",
       "</table>\n",
       "</div>"
      ],
      "text/plain": [
       "   feature_id  point_id          mz  scan  intensity  number_frames  peak_id  \\\n",
       "0          23         1  509.266373    95       4765              6        1   \n",
       "1          23         2  509.270576    97       4065              6        1   \n",
       "2          23         3  509.268392    99    6217916             38        1   \n",
       "3          23         8  509.266796   100   34339260             42        1   \n",
       "4          23        13  509.267239   101   39648041             42        1   \n",
       "\n",
       "  feature_point  \n",
       "0          23|1  \n",
       "1          23|2  \n",
       "2          23|3  \n",
       "3          23|8  \n",
       "4         23|13  "
      ]
     },
     "execution_count": 389,
     "metadata": {},
     "output_type": "execute_result"
    }
   ],
   "source": [
    "ms1_base_peak_points_df[:5]"
   ]
  },
  {
   "cell_type": "code",
   "execution_count": 332,
   "metadata": {
    "collapsed": true
   },
   "outputs": [],
   "source": [
    "ms1_base_peak_points_df['feature_point'] = ms1_base_peak_points_df['feature_id'].map(str) + '|' + ms1_base_peak_points_df['point_id'].map(str)"
   ]
  },
  {
   "cell_type": "code",
   "execution_count": 390,
   "metadata": {},
   "outputs": [
    {
     "data": {
      "text/html": [
       "<div>\n",
       "<style>\n",
       "    .dataframe thead tr:only-child th {\n",
       "        text-align: right;\n",
       "    }\n",
       "\n",
       "    .dataframe thead th {\n",
       "        text-align: left;\n",
       "    }\n",
       "\n",
       "    .dataframe tbody tr th {\n",
       "        vertical-align: top;\n",
       "    }\n",
       "</style>\n",
       "<table border=\"1\" class=\"dataframe\">\n",
       "  <thead>\n",
       "    <tr style=\"text-align: right;\">\n",
       "      <th></th>\n",
       "      <th>feature_id</th>\n",
       "      <th>point_id</th>\n",
       "      <th>mz</th>\n",
       "      <th>scan</th>\n",
       "      <th>intensity</th>\n",
       "      <th>number_frames</th>\n",
       "      <th>peak_id</th>\n",
       "      <th>feature_point</th>\n",
       "    </tr>\n",
       "  </thead>\n",
       "  <tbody>\n",
       "    <tr>\n",
       "      <th>0</th>\n",
       "      <td>23</td>\n",
       "      <td>1</td>\n",
       "      <td>509.266373</td>\n",
       "      <td>95</td>\n",
       "      <td>4765</td>\n",
       "      <td>6</td>\n",
       "      <td>1</td>\n",
       "      <td>23|1</td>\n",
       "    </tr>\n",
       "    <tr>\n",
       "      <th>1</th>\n",
       "      <td>23</td>\n",
       "      <td>2</td>\n",
       "      <td>509.270576</td>\n",
       "      <td>97</td>\n",
       "      <td>4065</td>\n",
       "      <td>6</td>\n",
       "      <td>1</td>\n",
       "      <td>23|2</td>\n",
       "    </tr>\n",
       "    <tr>\n",
       "      <th>2</th>\n",
       "      <td>23</td>\n",
       "      <td>3</td>\n",
       "      <td>509.268392</td>\n",
       "      <td>99</td>\n",
       "      <td>6217916</td>\n",
       "      <td>38</td>\n",
       "      <td>1</td>\n",
       "      <td>23|3</td>\n",
       "    </tr>\n",
       "    <tr>\n",
       "      <th>3</th>\n",
       "      <td>23</td>\n",
       "      <td>8</td>\n",
       "      <td>509.266796</td>\n",
       "      <td>100</td>\n",
       "      <td>34339260</td>\n",
       "      <td>42</td>\n",
       "      <td>1</td>\n",
       "      <td>23|8</td>\n",
       "    </tr>\n",
       "    <tr>\n",
       "      <th>4</th>\n",
       "      <td>23</td>\n",
       "      <td>13</td>\n",
       "      <td>509.267239</td>\n",
       "      <td>101</td>\n",
       "      <td>39648041</td>\n",
       "      <td>42</td>\n",
       "      <td>1</td>\n",
       "      <td>23|13</td>\n",
       "    </tr>\n",
       "  </tbody>\n",
       "</table>\n",
       "</div>"
      ],
      "text/plain": [
       "   feature_id  point_id          mz  scan  intensity  number_frames  peak_id  \\\n",
       "0          23         1  509.266373    95       4765              6        1   \n",
       "1          23         2  509.270576    97       4065              6        1   \n",
       "2          23         3  509.268392    99    6217916             38        1   \n",
       "3          23         8  509.266796   100   34339260             42        1   \n",
       "4          23        13  509.267239   101   39648041             42        1   \n",
       "\n",
       "  feature_point  \n",
       "0          23|1  \n",
       "1          23|2  \n",
       "2          23|3  \n",
       "3          23|8  \n",
       "4         23|13  "
      ]
     },
     "execution_count": 390,
     "metadata": {},
     "output_type": "execute_result"
    }
   ],
   "source": [
    "ms1_base_peak_points_df[:5]"
   ]
  },
  {
   "cell_type": "code",
   "execution_count": 391,
   "metadata": {},
   "outputs": [],
   "source": [
    "# get the mapping from feature points to summed frame points\n",
    "db_conn = sqlite3.connect(db_name)\n",
    "ms1_feature_frame_join_df = pd.read_sql_query(\"select * from ms1_feature_frame_join where feature_id={}\".format(feature_id), db_conn)\n",
    "db_conn.close()"
   ]
  },
  {
   "cell_type": "code",
   "execution_count": 392,
   "metadata": {},
   "outputs": [
    {
     "data": {
      "text/html": [
       "<div>\n",
       "<style>\n",
       "    .dataframe thead tr:only-child th {\n",
       "        text-align: right;\n",
       "    }\n",
       "\n",
       "    .dataframe thead th {\n",
       "        text-align: left;\n",
       "    }\n",
       "\n",
       "    .dataframe tbody tr th {\n",
       "        vertical-align: top;\n",
       "    }\n",
       "</style>\n",
       "<table border=\"1\" class=\"dataframe\">\n",
       "  <thead>\n",
       "    <tr style=\"text-align: right;\">\n",
       "      <th></th>\n",
       "      <th>feature_id</th>\n",
       "      <th>feature_point_id</th>\n",
       "      <th>frame_id</th>\n",
       "      <th>frame_point_id</th>\n",
       "    </tr>\n",
       "  </thead>\n",
       "  <tbody>\n",
       "    <tr>\n",
       "      <th>0</th>\n",
       "      <td>23</td>\n",
       "      <td>1</td>\n",
       "      <td>2648</td>\n",
       "      <td>2327</td>\n",
       "    </tr>\n",
       "    <tr>\n",
       "      <th>1</th>\n",
       "      <td>23</td>\n",
       "      <td>1</td>\n",
       "      <td>2649</td>\n",
       "      <td>2710</td>\n",
       "    </tr>\n",
       "    <tr>\n",
       "      <th>2</th>\n",
       "      <td>23</td>\n",
       "      <td>1</td>\n",
       "      <td>2650</td>\n",
       "      <td>3134</td>\n",
       "    </tr>\n",
       "    <tr>\n",
       "      <th>3</th>\n",
       "      <td>23</td>\n",
       "      <td>1</td>\n",
       "      <td>2651</td>\n",
       "      <td>3480</td>\n",
       "    </tr>\n",
       "    <tr>\n",
       "      <th>4</th>\n",
       "      <td>23</td>\n",
       "      <td>1</td>\n",
       "      <td>2652</td>\n",
       "      <td>3713</td>\n",
       "    </tr>\n",
       "  </tbody>\n",
       "</table>\n",
       "</div>"
      ],
      "text/plain": [
       "   feature_id  feature_point_id  frame_id  frame_point_id\n",
       "0          23                 1      2648            2327\n",
       "1          23                 1      2649            2710\n",
       "2          23                 1      2650            3134\n",
       "3          23                 1      2651            3480\n",
       "4          23                 1      2652            3713"
      ]
     },
     "execution_count": 392,
     "metadata": {},
     "output_type": "execute_result"
    }
   ],
   "source": [
    "ms1_feature_frame_join_df[:5]"
   ]
  },
  {
   "cell_type": "code",
   "execution_count": 393,
   "metadata": {
    "collapsed": true
   },
   "outputs": [],
   "source": [
    "ms1_feature_frame_join_df['feature_point'] = ms1_feature_frame_join_df['feature_id'].map(str) + '|' + ms1_feature_frame_join_df['feature_point_id'].map(str)"
   ]
  },
  {
   "cell_type": "code",
   "execution_count": 394,
   "metadata": {
    "collapsed": true
   },
   "outputs": [],
   "source": [
    "ms1_feature_frame_join_df['frame_point'] = ms1_feature_frame_join_df['frame_id'].map(str) + '|' + ms1_feature_frame_join_df['frame_point_id'].map(str)"
   ]
  },
  {
   "cell_type": "code",
   "execution_count": 395,
   "metadata": {},
   "outputs": [
    {
     "data": {
      "text/html": [
       "<div>\n",
       "<style>\n",
       "    .dataframe thead tr:only-child th {\n",
       "        text-align: right;\n",
       "    }\n",
       "\n",
       "    .dataframe thead th {\n",
       "        text-align: left;\n",
       "    }\n",
       "\n",
       "    .dataframe tbody tr th {\n",
       "        vertical-align: top;\n",
       "    }\n",
       "</style>\n",
       "<table border=\"1\" class=\"dataframe\">\n",
       "  <thead>\n",
       "    <tr style=\"text-align: right;\">\n",
       "      <th></th>\n",
       "      <th>feature_id</th>\n",
       "      <th>feature_point_id</th>\n",
       "      <th>frame_id</th>\n",
       "      <th>frame_point_id</th>\n",
       "      <th>feature_point</th>\n",
       "      <th>frame_point</th>\n",
       "    </tr>\n",
       "  </thead>\n",
       "  <tbody>\n",
       "    <tr>\n",
       "      <th>0</th>\n",
       "      <td>23</td>\n",
       "      <td>1</td>\n",
       "      <td>2648</td>\n",
       "      <td>2327</td>\n",
       "      <td>23|1</td>\n",
       "      <td>2648|2327</td>\n",
       "    </tr>\n",
       "    <tr>\n",
       "      <th>1</th>\n",
       "      <td>23</td>\n",
       "      <td>1</td>\n",
       "      <td>2649</td>\n",
       "      <td>2710</td>\n",
       "      <td>23|1</td>\n",
       "      <td>2649|2710</td>\n",
       "    </tr>\n",
       "    <tr>\n",
       "      <th>2</th>\n",
       "      <td>23</td>\n",
       "      <td>1</td>\n",
       "      <td>2650</td>\n",
       "      <td>3134</td>\n",
       "      <td>23|1</td>\n",
       "      <td>2650|3134</td>\n",
       "    </tr>\n",
       "    <tr>\n",
       "      <th>3</th>\n",
       "      <td>23</td>\n",
       "      <td>1</td>\n",
       "      <td>2651</td>\n",
       "      <td>3480</td>\n",
       "      <td>23|1</td>\n",
       "      <td>2651|3480</td>\n",
       "    </tr>\n",
       "    <tr>\n",
       "      <th>4</th>\n",
       "      <td>23</td>\n",
       "      <td>1</td>\n",
       "      <td>2652</td>\n",
       "      <td>3713</td>\n",
       "      <td>23|1</td>\n",
       "      <td>2652|3713</td>\n",
       "    </tr>\n",
       "  </tbody>\n",
       "</table>\n",
       "</div>"
      ],
      "text/plain": [
       "   feature_id  feature_point_id  frame_id  frame_point_id feature_point  \\\n",
       "0          23                 1      2648            2327          23|1   \n",
       "1          23                 1      2649            2710          23|1   \n",
       "2          23                 1      2650            3134          23|1   \n",
       "3          23                 1      2651            3480          23|1   \n",
       "4          23                 1      2652            3713          23|1   \n",
       "\n",
       "  frame_point  \n",
       "0   2648|2327  \n",
       "1   2649|2710  \n",
       "2   2650|3134  \n",
       "3   2651|3480  \n",
       "4   2652|3713  "
      ]
     },
     "execution_count": 395,
     "metadata": {},
     "output_type": "execute_result"
    }
   ],
   "source": [
    "ms1_feature_frame_join_df[:5]"
   ]
  },
  {
   "cell_type": "code",
   "execution_count": 396,
   "metadata": {},
   "outputs": [
    {
     "data": {
      "text/html": [
       "<div>\n",
       "<style>\n",
       "    .dataframe thead tr:only-child th {\n",
       "        text-align: right;\n",
       "    }\n",
       "\n",
       "    .dataframe thead th {\n",
       "        text-align: left;\n",
       "    }\n",
       "\n",
       "    .dataframe tbody tr th {\n",
       "        vertical-align: top;\n",
       "    }\n",
       "</style>\n",
       "<table border=\"1\" class=\"dataframe\">\n",
       "  <thead>\n",
       "    <tr style=\"text-align: right;\">\n",
       "      <th></th>\n",
       "      <th>feature_id</th>\n",
       "      <th>feature_point_id</th>\n",
       "      <th>frame_id</th>\n",
       "      <th>frame_point_id</th>\n",
       "      <th>feature_point</th>\n",
       "      <th>frame_point</th>\n",
       "    </tr>\n",
       "  </thead>\n",
       "  <tbody>\n",
       "    <tr>\n",
       "      <th>0</th>\n",
       "      <td>23</td>\n",
       "      <td>1</td>\n",
       "      <td>2648</td>\n",
       "      <td>2327</td>\n",
       "      <td>23|1</td>\n",
       "      <td>2648|2327</td>\n",
       "    </tr>\n",
       "    <tr>\n",
       "      <th>1</th>\n",
       "      <td>23</td>\n",
       "      <td>1</td>\n",
       "      <td>2649</td>\n",
       "      <td>2710</td>\n",
       "      <td>23|1</td>\n",
       "      <td>2649|2710</td>\n",
       "    </tr>\n",
       "    <tr>\n",
       "      <th>2</th>\n",
       "      <td>23</td>\n",
       "      <td>1</td>\n",
       "      <td>2650</td>\n",
       "      <td>3134</td>\n",
       "      <td>23|1</td>\n",
       "      <td>2650|3134</td>\n",
       "    </tr>\n",
       "    <tr>\n",
       "      <th>3</th>\n",
       "      <td>23</td>\n",
       "      <td>1</td>\n",
       "      <td>2651</td>\n",
       "      <td>3480</td>\n",
       "      <td>23|1</td>\n",
       "      <td>2651|3480</td>\n",
       "    </tr>\n",
       "    <tr>\n",
       "      <th>4</th>\n",
       "      <td>23</td>\n",
       "      <td>1</td>\n",
       "      <td>2652</td>\n",
       "      <td>3713</td>\n",
       "      <td>23|1</td>\n",
       "      <td>2652|3713</td>\n",
       "    </tr>\n",
       "  </tbody>\n",
       "</table>\n",
       "</div>"
      ],
      "text/plain": [
       "   feature_id  feature_point_id  frame_id  frame_point_id feature_point  \\\n",
       "0          23                 1      2648            2327          23|1   \n",
       "1          23                 1      2649            2710          23|1   \n",
       "2          23                 1      2650            3134          23|1   \n",
       "3          23                 1      2651            3480          23|1   \n",
       "4          23                 1      2652            3713          23|1   \n",
       "\n",
       "  frame_point  \n",
       "0   2648|2327  \n",
       "1   2649|2710  \n",
       "2   2650|3134  \n",
       "3   2651|3480  \n",
       "4   2652|3713  "
      ]
     },
     "execution_count": 396,
     "metadata": {},
     "output_type": "execute_result"
    }
   ],
   "source": [
    "frame_points = ms1_feature_frame_join_df.loc[ms1_feature_frame_join_df.feature_point.isin(ms1_base_peak_points_df.feature_point)]\n",
    "frame_points[:5]"
   ]
  },
  {
   "cell_type": "code",
   "execution_count": 399,
   "metadata": {},
   "outputs": [],
   "source": [
    "frames_list = tuple(frame_points.frame_id.astype(int))\n",
    "frame_point_list = tuple(frame_points.frame_point_id.astype(int))"
   ]
  },
  {
   "cell_type": "code",
   "execution_count": 400,
   "metadata": {},
   "outputs": [],
   "source": [
    "# get the summed to raw point mapping\n",
    "db_conn = sqlite3.connect(conv_db_name)\n",
    "raw_point_ids_df = pd.read_sql_query(\"select * from raw_summed_join where summed_frame_id in {} and summed_point_id in {}\".format(frames_list,frame_point_list), db_conn)\n",
    "db_conn.close()"
   ]
  },
  {
   "cell_type": "code",
   "execution_count": 401,
   "metadata": {
    "collapsed": true
   },
   "outputs": [],
   "source": [
    "raw_point_ids_df['summed_frame_point'] = raw_point_ids_df['summed_frame_id'].map(str) + '|' + raw_point_ids_df['summed_point_id'].map(str)"
   ]
  },
  {
   "cell_type": "code",
   "execution_count": 402,
   "metadata": {},
   "outputs": [
    {
     "data": {
      "text/html": [
       "<div>\n",
       "<style>\n",
       "    .dataframe thead tr:only-child th {\n",
       "        text-align: right;\n",
       "    }\n",
       "\n",
       "    .dataframe thead th {\n",
       "        text-align: left;\n",
       "    }\n",
       "\n",
       "    .dataframe tbody tr th {\n",
       "        vertical-align: top;\n",
       "    }\n",
       "</style>\n",
       "<table border=\"1\" class=\"dataframe\">\n",
       "  <thead>\n",
       "    <tr style=\"text-align: right;\">\n",
       "      <th></th>\n",
       "      <th>summed_frame_id</th>\n",
       "      <th>summed_point_id</th>\n",
       "      <th>raw_frame_id</th>\n",
       "      <th>raw_point_id</th>\n",
       "      <th>summed_frame_point</th>\n",
       "    </tr>\n",
       "  </thead>\n",
       "  <tbody>\n",
       "    <tr>\n",
       "      <th>0</th>\n",
       "      <td>2639</td>\n",
       "      <td>679</td>\n",
       "      <td>26408</td>\n",
       "      <td>490</td>\n",
       "      <td>2639|679</td>\n",
       "    </tr>\n",
       "    <tr>\n",
       "      <th>1</th>\n",
       "      <td>2639</td>\n",
       "      <td>679</td>\n",
       "      <td>26418</td>\n",
       "      <td>504</td>\n",
       "      <td>2639|679</td>\n",
       "    </tr>\n",
       "    <tr>\n",
       "      <th>2</th>\n",
       "      <td>2639</td>\n",
       "      <td>683</td>\n",
       "      <td>26404</td>\n",
       "      <td>464</td>\n",
       "      <td>2639|683</td>\n",
       "    </tr>\n",
       "    <tr>\n",
       "      <th>3</th>\n",
       "      <td>2639</td>\n",
       "      <td>683</td>\n",
       "      <td>26430</td>\n",
       "      <td>506</td>\n",
       "      <td>2639|683</td>\n",
       "    </tr>\n",
       "    <tr>\n",
       "      <th>4</th>\n",
       "      <td>2639</td>\n",
       "      <td>684</td>\n",
       "      <td>26380</td>\n",
       "      <td>527</td>\n",
       "      <td>2639|684</td>\n",
       "    </tr>\n",
       "  </tbody>\n",
       "</table>\n",
       "</div>"
      ],
      "text/plain": [
       "   summed_frame_id  summed_point_id  raw_frame_id  raw_point_id  \\\n",
       "0             2639              679         26408           490   \n",
       "1             2639              679         26418           504   \n",
       "2             2639              683         26404           464   \n",
       "3             2639              683         26430           506   \n",
       "4             2639              684         26380           527   \n",
       "\n",
       "  summed_frame_point  \n",
       "0           2639|679  \n",
       "1           2639|679  \n",
       "2           2639|683  \n",
       "3           2639|683  \n",
       "4           2639|684  "
      ]
     },
     "execution_count": 402,
     "metadata": {},
     "output_type": "execute_result"
    }
   ],
   "source": [
    "raw_point_ids_df[:5]"
   ]
  },
  {
   "cell_type": "code",
   "execution_count": 403,
   "metadata": {},
   "outputs": [
    {
     "data": {
      "text/html": [
       "<div>\n",
       "<style>\n",
       "    .dataframe thead tr:only-child th {\n",
       "        text-align: right;\n",
       "    }\n",
       "\n",
       "    .dataframe thead th {\n",
       "        text-align: left;\n",
       "    }\n",
       "\n",
       "    .dataframe tbody tr th {\n",
       "        vertical-align: top;\n",
       "    }\n",
       "</style>\n",
       "<table border=\"1\" class=\"dataframe\">\n",
       "  <thead>\n",
       "    <tr style=\"text-align: right;\">\n",
       "      <th></th>\n",
       "      <th>summed_frame_id</th>\n",
       "      <th>summed_point_id</th>\n",
       "      <th>raw_frame_id</th>\n",
       "      <th>raw_point_id</th>\n",
       "      <th>summed_frame_point</th>\n",
       "    </tr>\n",
       "  </thead>\n",
       "  <tbody>\n",
       "    <tr>\n",
       "      <th>159</th>\n",
       "      <td>2639</td>\n",
       "      <td>870</td>\n",
       "      <td>26394</td>\n",
       "      <td>514</td>\n",
       "      <td>2639|870</td>\n",
       "    </tr>\n",
       "    <tr>\n",
       "      <th>160</th>\n",
       "      <td>2639</td>\n",
       "      <td>870</td>\n",
       "      <td>26424</td>\n",
       "      <td>425</td>\n",
       "      <td>2639|870</td>\n",
       "    </tr>\n",
       "    <tr>\n",
       "      <th>161</th>\n",
       "      <td>2639</td>\n",
       "      <td>870</td>\n",
       "      <td>26428</td>\n",
       "      <td>503</td>\n",
       "      <td>2639|870</td>\n",
       "    </tr>\n",
       "    <tr>\n",
       "      <th>162</th>\n",
       "      <td>2639</td>\n",
       "      <td>870</td>\n",
       "      <td>26430</td>\n",
       "      <td>567</td>\n",
       "      <td>2639|870</td>\n",
       "    </tr>\n",
       "    <tr>\n",
       "      <th>163</th>\n",
       "      <td>2639</td>\n",
       "      <td>870</td>\n",
       "      <td>26432</td>\n",
       "      <td>620</td>\n",
       "      <td>2639|870</td>\n",
       "    </tr>\n",
       "  </tbody>\n",
       "</table>\n",
       "</div>"
      ],
      "text/plain": [
       "     summed_frame_id  summed_point_id  raw_frame_id  raw_point_id  \\\n",
       "159             2639              870         26394           514   \n",
       "160             2639              870         26424           425   \n",
       "161             2639              870         26428           503   \n",
       "162             2639              870         26430           567   \n",
       "163             2639              870         26432           620   \n",
       "\n",
       "    summed_frame_point  \n",
       "159           2639|870  \n",
       "160           2639|870  \n",
       "161           2639|870  \n",
       "162           2639|870  \n",
       "163           2639|870  "
      ]
     },
     "execution_count": 403,
     "metadata": {},
     "output_type": "execute_result"
    }
   ],
   "source": [
    "raw_point_ids = raw_point_ids_df.loc[raw_point_ids_df.summed_frame_point.isin(frame_points.frame_point)]\n",
    "raw_point_ids[:5]"
   ]
  },
  {
   "cell_type": "code",
   "execution_count": 404,
   "metadata": {},
   "outputs": [
    {
     "data": {
      "text/plain": [
       "14097"
      ]
     },
     "execution_count": 404,
     "metadata": {},
     "output_type": "execute_result"
    }
   ],
   "source": [
    "len(raw_point_ids)"
   ]
  },
  {
   "cell_type": "code",
   "execution_count": 405,
   "metadata": {
    "collapsed": true
   },
   "outputs": [],
   "source": [
    "raw_frame_list = tuple(raw_point_ids.raw_frame_id.astype(int))\n",
    "raw_point_list = tuple(raw_point_ids.raw_point_id.astype(int))"
   ]
  },
  {
   "cell_type": "code",
   "execution_count": 406,
   "metadata": {
    "collapsed": true
   },
   "outputs": [],
   "source": [
    "# get the raw points\n",
    "db_conn = sqlite3.connect(conv_db_name)\n",
    "raw_points_df = pd.read_sql_query(\"select frame_id,point_id,mz,scan,intensity from frames where frame_id in {} and point_id in {}\".format(raw_frame_list,raw_point_list), db_conn)\n",
    "db_conn.close()"
   ]
  },
  {
   "cell_type": "code",
   "execution_count": 418,
   "metadata": {
    "collapsed": true
   },
   "outputs": [],
   "source": [
    "raw_points_df['marker_size'] = 10+1.5*np.log(raw_points_df.intensity*0.01)"
   ]
  },
  {
   "cell_type": "code",
   "execution_count": 419,
   "metadata": {},
   "outputs": [
    {
     "data": {
      "text/html": [
       "<div>\n",
       "<style>\n",
       "    .dataframe thead tr:only-child th {\n",
       "        text-align: right;\n",
       "    }\n",
       "\n",
       "    .dataframe thead th {\n",
       "        text-align: left;\n",
       "    }\n",
       "\n",
       "    .dataframe tbody tr th {\n",
       "        vertical-align: top;\n",
       "    }\n",
       "</style>\n",
       "<table border=\"1\" class=\"dataframe\">\n",
       "  <thead>\n",
       "    <tr style=\"text-align: right;\">\n",
       "      <th></th>\n",
       "      <th>frame_id</th>\n",
       "      <th>point_id</th>\n",
       "      <th>mz</th>\n",
       "      <th>scan</th>\n",
       "      <th>intensity</th>\n",
       "      <th>retention_time_secs</th>\n",
       "      <th>marker_size</th>\n",
       "    </tr>\n",
       "  </thead>\n",
       "  <tbody>\n",
       "    <tr>\n",
       "      <th>16466</th>\n",
       "      <td>26432</td>\n",
       "      <td>620</td>\n",
       "      <td>509.267989</td>\n",
       "      <td>99</td>\n",
       "      <td>450</td>\n",
       "      <td>528.64</td>\n",
       "      <td>12.256116</td>\n",
       "    </tr>\n",
       "  </tbody>\n",
       "</table>\n",
       "</div>"
      ],
      "text/plain": [
       "       frame_id  point_id          mz  scan  intensity  retention_time_secs  \\\n",
       "16466     26432       620  509.267989    99        450               528.64   \n",
       "\n",
       "       marker_size  \n",
       "16466    12.256116  "
      ]
     },
     "execution_count": 419,
     "metadata": {},
     "output_type": "execute_result"
    }
   ],
   "source": [
    "raw_points_df.loc[(raw_points_df.frame_id==26432) & (raw_points_df.point_id==620)]"
   ]
  },
  {
   "cell_type": "code",
   "execution_count": 414,
   "metadata": {
    "collapsed": true
   },
   "outputs": [],
   "source": [
    "raw_points_df['retention_time_secs'] = raw_points_df.frame_id / raw_frame_ids_per_second"
   ]
  },
  {
   "cell_type": "code",
   "execution_count": 410,
   "metadata": {},
   "outputs": [
    {
     "data": {
      "text/plain": [
       "102"
      ]
     },
     "execution_count": 410,
     "metadata": {},
     "output_type": "execute_result"
    }
   ],
   "source": [
    "centroid_scan = int(peakutils.centroid(raw_points_df.scan, raw_points_df.intensity))\n",
    "centroid_scan"
   ]
  },
  {
   "cell_type": "code",
   "execution_count": 416,
   "metadata": {},
   "outputs": [
    {
     "data": {
      "text/plain": [
       "531.8875313668253"
      ]
     },
     "execution_count": 416,
     "metadata": {},
     "output_type": "execute_result"
    }
   ],
   "source": [
    "centroid_rt = peakutils.centroid(raw_points_df.retention_time_secs, raw_points_df.intensity)\n",
    "centroid_rt"
   ]
  },
  {
   "cell_type": "code",
   "execution_count": 422,
   "metadata": {},
   "outputs": [
    {
     "data": {
      "image/png": "[encoded data removed]",
      "text/plain": [
       "<matplotlib.figure.Figure at 0x324e7b8d0>"
      ]
     },
     "metadata": {},
     "output_type": "display_data"
    }
   ],
   "source": [
    "fig, ax1 = plt.subplots()\n",
    "fig.set_figheight(8)\n",
    "fig.set_figwidth(8)\n",
    "ax1.scatter(raw_points_df.retention_time_secs, raw_points_df.scan, marker='o', s=raw_points_df.marker_size, color='tab:gray', label='peak points')\n",
    "plt.plot(centroid_rt, centroid_scan, 'bx', ms=15, mew=3, label='centroid')\n",
    "plt.legend(loc='best')\n",
    "ax1.set_ylabel('scan')\n",
    "ax1.set_xlabel('retention time (secs)')\n",
    "plt.title(\"Intensity-weighted centroid of raw points for ms1 peak {} of feature {}\".format(base_peak_id,feature_id))\n",
    "plt.gca().invert_yaxis()\n",
    "plt.margins(0.06)\n",
    "plt.show()"
   ]
  },
  {
   "cell_type": "code",
   "execution_count": null,
   "metadata": {
    "collapsed": true
   },
   "outputs": [],
   "source": []
  }
 ],
 "metadata": {
  "kernelspec": {
   "display_name": "Python 2",
   "language": "python",
   "name": "python2"
  },
  "language_info": {
   "codemirror_mode": {
    "name": "ipython",
    "version": 2
   },
   "file_extension": ".py",
   "mimetype": "text/x-python",
   "name": "python",
   "nbconvert_exporter": "python",
   "pygments_lexer": "ipython2",
   "version": "2.7.13"
  }
 },
 "nbformat": 4,
 "nbformat_minor": 2
}
