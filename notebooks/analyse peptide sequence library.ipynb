{
 "cells": [
  {
   "cell_type": "code",
   "execution_count": 2,
   "metadata": {},
   "outputs": [],
   "source": [
    "import pandas as pd\n",
    "import numpy as np\n",
    "import os"
   ]
  },
  {
   "cell_type": "code",
   "execution_count": 3,
   "metadata": {},
   "outputs": [],
   "source": [
    "# count unique identifications\n",
    "MAX_Q_VALUE_FOR_COUNTING_RESULTS = 0.01"
   ]
  },
  {
   "cell_type": "code",
   "execution_count": 4,
   "metadata": {},
   "outputs": [],
   "source": [
    "sequences_df = pd.read_pickle('/data/experiments/YHE/sequence-library/sequence-library.pkl')"
   ]
  },
  {
   "cell_type": "code",
   "execution_count": 5,
   "metadata": {},
   "outputs": [
    {
     "data": {
      "text/plain": [
       "Index(['sequence', 'charge', 'theoretical_mz', 'experiment_scan_mean',\n",
       "       'experiment_scan_std_dev', 'experiment_scan_peak_width',\n",
       "       'experiment_rt_mean', 'experiment_rt_std_dev',\n",
       "       'experiment_rt_peak_width', 'experiment_intensity_mean',\n",
       "       'experiment_intensity_std_dev', 'number_of_runs_identified', 'q_value'],\n",
       "      dtype='object')"
      ]
     },
     "execution_count": 5,
     "metadata": {},
     "output_type": "execute_result"
    }
   ],
   "source": [
    "sequences_df.columns"
   ]
  },
  {
   "cell_type": "code",
   "execution_count": 6,
   "metadata": {},
   "outputs": [
    {
     "data": {
      "text/plain": [
       "32170"
      ]
     },
     "execution_count": 6,
     "metadata": {},
     "output_type": "execute_result"
    }
   ],
   "source": [
    "len(sequences_df[(sequences_df.q_value <= MAX_Q_VALUE_FOR_COUNTING_RESULTS)])"
   ]
  },
  {
   "cell_type": "code",
   "execution_count": 8,
   "metadata": {},
   "outputs": [
    {
     "data": {
      "text/plain": [
       "32170"
      ]
     },
     "execution_count": 8,
     "metadata": {},
     "output_type": "execute_result"
    }
   ],
   "source": [
    "len(sequences_df.drop_duplicates(subset=['sequence', 'charge'], keep='first', inplace=False))"
   ]
  },
  {
   "cell_type": "code",
   "execution_count": 6,
   "metadata": {},
   "outputs": [
    {
     "data": {
      "text/html": [
       "<div>\n",
       "<style scoped>\n",
       "    .dataframe tbody tr th:only-of-type {\n",
       "        vertical-align: middle;\n",
       "    }\n",
       "\n",
       "    .dataframe tbody tr th {\n",
       "        vertical-align: top;\n",
       "    }\n",
       "\n",
       "    .dataframe thead th {\n",
       "        text-align: right;\n",
       "    }\n",
       "</style>\n",
       "<table border=\"1\" class=\"dataframe\">\n",
       "  <thead>\n",
       "    <tr style=\"text-align: right;\">\n",
       "      <th></th>\n",
       "      <th>sequence</th>\n",
       "      <th>charge</th>\n",
       "      <th>theoretical_mz</th>\n",
       "      <th>experiment_scan_mean</th>\n",
       "      <th>experiment_scan_std_dev</th>\n",
       "      <th>experiment_scan_peak_width</th>\n",
       "      <th>experiment_rt_mean</th>\n",
       "      <th>experiment_rt_std_dev</th>\n",
       "      <th>experiment_rt_peak_width</th>\n",
       "      <th>experiment_intensity_mean</th>\n",
       "      <th>experiment_intensity_std_dev</th>\n",
       "      <th>number_of_runs_identified</th>\n",
       "      <th>q_value</th>\n",
       "    </tr>\n",
       "  </thead>\n",
       "  <tbody>\n",
       "    <tr>\n",
       "      <th>20483</th>\n",
       "      <td>NPDDITQEEYGEFYK</td>\n",
       "      <td>2</td>\n",
       "      <td>924.402126</td>\n",
       "      <td>511.443117</td>\n",
       "      <td>36.203933</td>\n",
       "      <td>43.737532</td>\n",
       "      <td>1746.869740</td>\n",
       "      <td>253.971799</td>\n",
       "      <td>6.436364</td>\n",
       "      <td>1.976832e+06</td>\n",
       "      <td>876623.290554</td>\n",
       "      <td>31</td>\n",
       "      <td>0.000004</td>\n",
       "    </tr>\n",
       "    <tr>\n",
       "      <th>711</th>\n",
       "      <td>AFSETEQTK</td>\n",
       "      <td>2</td>\n",
       "      <td>520.748376</td>\n",
       "      <td>777.880000</td>\n",
       "      <td>0.000000</td>\n",
       "      <td>23.500000</td>\n",
       "      <td>1060.410000</td>\n",
       "      <td>0.000000</td>\n",
       "      <td>78.930000</td>\n",
       "      <td>2.032500e+04</td>\n",
       "      <td>0.000000</td>\n",
       "      <td>1</td>\n",
       "      <td>0.002859</td>\n",
       "    </tr>\n",
       "    <tr>\n",
       "      <th>5387</th>\n",
       "      <td>EAEAAVYHR</td>\n",
       "      <td>2</td>\n",
       "      <td>523.256676</td>\n",
       "      <td>776.755000</td>\n",
       "      <td>0.495000</td>\n",
       "      <td>20.550000</td>\n",
       "      <td>1497.470000</td>\n",
       "      <td>24.630000</td>\n",
       "      <td>18.950000</td>\n",
       "      <td>8.754550e+04</td>\n",
       "      <td>13848.500000</td>\n",
       "      <td>2</td>\n",
       "      <td>0.000328</td>\n",
       "    </tr>\n",
       "    <tr>\n",
       "      <th>30779</th>\n",
       "      <td>WLLLCNPGLADTIVEK</td>\n",
       "      <td>2</td>\n",
       "      <td>921.495108</td>\n",
       "      <td>467.772500</td>\n",
       "      <td>3.710872</td>\n",
       "      <td>31.782500</td>\n",
       "      <td>2083.835000</td>\n",
       "      <td>0.953271</td>\n",
       "      <td>5.120000</td>\n",
       "      <td>8.675975e+04</td>\n",
       "      <td>8087.608496</td>\n",
       "      <td>4</td>\n",
       "      <td>0.000004</td>\n",
       "    </tr>\n",
       "    <tr>\n",
       "      <th>15370</th>\n",
       "      <td>LDTWFSEM[15.9949]QPVEETQDGE</td>\n",
       "      <td>3</td>\n",
       "      <td>719.637009</td>\n",
       "      <td>684.870000</td>\n",
       "      <td>0.000000</td>\n",
       "      <td>27.160000</td>\n",
       "      <td>1571.810000</td>\n",
       "      <td>0.000000</td>\n",
       "      <td>6.040000</td>\n",
       "      <td>5.588000e+04</td>\n",
       "      <td>0.000000</td>\n",
       "      <td>1</td>\n",
       "      <td>0.004062</td>\n",
       "    </tr>\n",
       "    <tr>\n",
       "      <th>8300</th>\n",
       "      <td>FFEHFIEGGR</td>\n",
       "      <td>2</td>\n",
       "      <td>619.801276</td>\n",
       "      <td>698.680000</td>\n",
       "      <td>0.994418</td>\n",
       "      <td>22.123333</td>\n",
       "      <td>1758.733333</td>\n",
       "      <td>2.910960</td>\n",
       "      <td>10.256667</td>\n",
       "      <td>9.984900e+04</td>\n",
       "      <td>24832.083333</td>\n",
       "      <td>3</td>\n",
       "      <td>0.000014</td>\n",
       "    </tr>\n",
       "    <tr>\n",
       "      <th>4418</th>\n",
       "      <td>DMALNIGNEIDAQNPQIK</td>\n",
       "      <td>2</td>\n",
       "      <td>992.493826</td>\n",
       "      <td>457.910000</td>\n",
       "      <td>0.000000</td>\n",
       "      <td>50.650000</td>\n",
       "      <td>1900.820000</td>\n",
       "      <td>0.000000</td>\n",
       "      <td>6.870000</td>\n",
       "      <td>3.303490e+05</td>\n",
       "      <td>0.000000</td>\n",
       "      <td>1</td>\n",
       "      <td>0.000016</td>\n",
       "    </tr>\n",
       "    <tr>\n",
       "      <th>6958</th>\n",
       "      <td>EMKPVIFLDVFLPR</td>\n",
       "      <td>3</td>\n",
       "      <td>568.656609</td>\n",
       "      <td>755.229091</td>\n",
       "      <td>3.405198</td>\n",
       "      <td>17.939091</td>\n",
       "      <td>2174.837273</td>\n",
       "      <td>5.340051</td>\n",
       "      <td>13.072727</td>\n",
       "      <td>1.660964e+04</td>\n",
       "      <td>3185.133457</td>\n",
       "      <td>7</td>\n",
       "      <td>0.000004</td>\n",
       "    </tr>\n",
       "    <tr>\n",
       "      <th>20894</th>\n",
       "      <td>NTWGSQLVDQIMDQVVTK</td>\n",
       "      <td>2</td>\n",
       "      <td>1031.517326</td>\n",
       "      <td>426.034737</td>\n",
       "      <td>1.425537</td>\n",
       "      <td>35.422632</td>\n",
       "      <td>2186.287632</td>\n",
       "      <td>1.874886</td>\n",
       "      <td>4.833421</td>\n",
       "      <td>3.645120e+05</td>\n",
       "      <td>48766.005196</td>\n",
       "      <td>20</td>\n",
       "      <td>0.000004</td>\n",
       "    </tr>\n",
       "    <tr>\n",
       "      <th>27258</th>\n",
       "      <td>TM[15.9949]TSEIASQEEGATIQWM[15.9949]SSVEAK</td>\n",
       "      <td>2</td>\n",
       "      <td>1323.599076</td>\n",
       "      <td>301.220000</td>\n",
       "      <td>0.000000</td>\n",
       "      <td>57.910000</td>\n",
       "      <td>1753.940000</td>\n",
       "      <td>0.000000</td>\n",
       "      <td>6.710000</td>\n",
       "      <td>4.020000e+04</td>\n",
       "      <td>0.000000</td>\n",
       "      <td>1</td>\n",
       "      <td>0.007582</td>\n",
       "    </tr>\n",
       "  </tbody>\n",
       "</table>\n",
       "</div>"
      ],
      "text/plain": [
       "                                         sequence  charge  theoretical_mz  \\\n",
       "20483                             NPDDITQEEYGEFYK       2      924.402126   \n",
       "711                                     AFSETEQTK       2      520.748376   \n",
       "5387                                    EAEAAVYHR       2      523.256676   \n",
       "30779                            WLLLCNPGLADTIVEK       2      921.495108   \n",
       "15370                 LDTWFSEM[15.9949]QPVEETQDGE       3      719.637009   \n",
       "8300                                   FFEHFIEGGR       2      619.801276   \n",
       "4418                           DMALNIGNEIDAQNPQIK       2      992.493826   \n",
       "6958                               EMKPVIFLDVFLPR       3      568.656609   \n",
       "20894                          NTWGSQLVDQIMDQVVTK       2     1031.517326   \n",
       "27258  TM[15.9949]TSEIASQEEGATIQWM[15.9949]SSVEAK       2     1323.599076   \n",
       "\n",
       "       experiment_scan_mean  experiment_scan_std_dev  \\\n",
       "20483            511.443117                36.203933   \n",
       "711              777.880000                 0.000000   \n",
       "5387             776.755000                 0.495000   \n",
       "30779            467.772500                 3.710872   \n",
       "15370            684.870000                 0.000000   \n",
       "8300             698.680000                 0.994418   \n",
       "4418             457.910000                 0.000000   \n",
       "6958             755.229091                 3.405198   \n",
       "20894            426.034737                 1.425537   \n",
       "27258            301.220000                 0.000000   \n",
       "\n",
       "       experiment_scan_peak_width  experiment_rt_mean  experiment_rt_std_dev  \\\n",
       "20483                   43.737532         1746.869740             253.971799   \n",
       "711                     23.500000         1060.410000               0.000000   \n",
       "5387                    20.550000         1497.470000              24.630000   \n",
       "30779                   31.782500         2083.835000               0.953271   \n",
       "15370                   27.160000         1571.810000               0.000000   \n",
       "8300                    22.123333         1758.733333               2.910960   \n",
       "4418                    50.650000         1900.820000               0.000000   \n",
       "6958                    17.939091         2174.837273               5.340051   \n",
       "20894                   35.422632         2186.287632               1.874886   \n",
       "27258                   57.910000         1753.940000               0.000000   \n",
       "\n",
       "       experiment_rt_peak_width  experiment_intensity_mean  \\\n",
       "20483                  6.436364               1.976832e+06   \n",
       "711                   78.930000               2.032500e+04   \n",
       "5387                  18.950000               8.754550e+04   \n",
       "30779                  5.120000               8.675975e+04   \n",
       "15370                  6.040000               5.588000e+04   \n",
       "8300                  10.256667               9.984900e+04   \n",
       "4418                   6.870000               3.303490e+05   \n",
       "6958                  13.072727               1.660964e+04   \n",
       "20894                  4.833421               3.645120e+05   \n",
       "27258                  6.710000               4.020000e+04   \n",
       "\n",
       "       experiment_intensity_std_dev  number_of_runs_identified   q_value  \n",
       "20483                 876623.290554                         31  0.000004  \n",
       "711                        0.000000                          1  0.002859  \n",
       "5387                   13848.500000                          2  0.000328  \n",
       "30779                   8087.608496                          4  0.000004  \n",
       "15370                      0.000000                          1  0.004062  \n",
       "8300                   24832.083333                          3  0.000014  \n",
       "4418                       0.000000                          1  0.000016  \n",
       "6958                    3185.133457                          7  0.000004  \n",
       "20894                  48766.005196                         20  0.000004  \n",
       "27258                      0.000000                          1  0.007582  "
      ]
     },
     "execution_count": 6,
     "metadata": {},
     "output_type": "execute_result"
    }
   ],
   "source": [
    "sequences_df.sample(n=10)"
   ]
  },
  {
   "cell_type": "code",
   "execution_count": 12,
   "metadata": {},
   "outputs": [
    {
     "data": {
      "text/plain": [
       "591.1100000000001"
      ]
     },
     "execution_count": 12,
     "metadata": {},
     "output_type": "execute_result"
    }
   ],
   "source": [
    "sequences_df.experiment_scan_peak_width.max()"
   ]
  },
  {
   "cell_type": "code",
   "execution_count": 13,
   "metadata": {},
   "outputs": [
    {
     "data": {
      "text/plain": [
       "375.40000000000003"
      ]
     },
     "execution_count": 13,
     "metadata": {},
     "output_type": "execute_result"
    }
   ],
   "source": [
    "sequences_df.experiment_rt_peak_width.max()"
   ]
  },
  {
   "cell_type": "code",
   "execution_count": null,
   "metadata": {},
   "outputs": [],
   "source": []
  }
 ],
 "metadata": {
  "kernelspec": {
   "display_name": "Python 3",
   "language": "python",
   "name": "python3"
  },
  "language_info": {
   "codemirror_mode": {
    "name": "ipython",
    "version": 3
   },
   "file_extension": ".py",
   "mimetype": "text/x-python",
   "name": "python",
   "nbconvert_exporter": "python",
   "pygments_lexer": "ipython3",
   "version": "3.6.8"
  }
 },
 "nbformat": 4,
 "nbformat_minor": 4
}
