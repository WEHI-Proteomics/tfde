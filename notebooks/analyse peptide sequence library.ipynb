{
 "cells": [
  {
   "cell_type": "code",
   "execution_count": 1,
   "metadata": {},
   "outputs": [],
   "source": [
    "import pandas as pd\n",
    "import numpy as np\n",
    "import os\n",
    "import matplotlib.pyplot as plt"
   ]
  },
  {
   "cell_type": "code",
   "execution_count": 2,
   "metadata": {},
   "outputs": [],
   "source": [
    "# count unique identifications\n",
    "MAX_Q_VALUE_FOR_COUNTING_RESULTS = 0.01"
   ]
  },
  {
   "cell_type": "code",
   "execution_count": 4,
   "metadata": {},
   "outputs": [],
   "source": [
    "sequences_df = pd.read_feather('/media/big-ssd/experiments/P3856/sequence-library/sequence-library.feather')"
   ]
  },
  {
   "cell_type": "code",
   "execution_count": 5,
   "metadata": {},
   "outputs": [
    {
     "data": {
      "text/plain": [
       "Index(['sequence', 'charge', 'theoretical_mz', 'experiment_scan_mean',\n",
       "       'experiment_scan_std_dev', 'experiment_scan_peak_width',\n",
       "       'experiment_rt_mean', 'experiment_rt_std_dev',\n",
       "       'experiment_rt_peak_width', 'experiment_intensity_mean',\n",
       "       'experiment_intensity_std_dev', 'number_of_runs_identified', 'q_value'],\n",
       "      dtype='object')"
      ]
     },
     "execution_count": 5,
     "metadata": {},
     "output_type": "execute_result"
    }
   ],
   "source": [
    "sequences_df.columns"
   ]
  },
  {
   "cell_type": "code",
   "execution_count": 6,
   "metadata": {},
   "outputs": [
    {
     "data": {
      "text/plain": [
       "11727"
      ]
     },
     "execution_count": 6,
     "metadata": {},
     "output_type": "execute_result"
    }
   ],
   "source": [
    "len(sequences_df[(sequences_df.q_value <= MAX_Q_VALUE_FOR_COUNTING_RESULTS)])"
   ]
  },
  {
   "cell_type": "code",
   "execution_count": 7,
   "metadata": {},
   "outputs": [
    {
     "data": {
      "text/plain": [
       "226637"
      ]
     },
     "execution_count": 7,
     "metadata": {},
     "output_type": "execute_result"
    }
   ],
   "source": [
    "len(sequences_df.drop_duplicates(subset=['sequence', 'charge'], keep='first', inplace=False))"
   ]
  },
  {
   "cell_type": "code",
   "execution_count": 8,
   "metadata": {},
   "outputs": [
    {
     "data": {
      "text/html": [
       "<div>\n",
       "<style scoped>\n",
       "    .dataframe tbody tr th:only-of-type {\n",
       "        vertical-align: middle;\n",
       "    }\n",
       "\n",
       "    .dataframe tbody tr th {\n",
       "        vertical-align: top;\n",
       "    }\n",
       "\n",
       "    .dataframe thead th {\n",
       "        text-align: right;\n",
       "    }\n",
       "</style>\n",
       "<table border=\"1\" class=\"dataframe\">\n",
       "  <thead>\n",
       "    <tr style=\"text-align: right;\">\n",
       "      <th></th>\n",
       "      <th>sequence</th>\n",
       "      <th>charge</th>\n",
       "      <th>theoretical_mz</th>\n",
       "      <th>experiment_scan_mean</th>\n",
       "      <th>experiment_scan_std_dev</th>\n",
       "      <th>experiment_scan_peak_width</th>\n",
       "      <th>experiment_rt_mean</th>\n",
       "      <th>experiment_rt_std_dev</th>\n",
       "      <th>experiment_rt_peak_width</th>\n",
       "      <th>experiment_intensity_mean</th>\n",
       "      <th>experiment_intensity_std_dev</th>\n",
       "      <th>number_of_runs_identified</th>\n",
       "      <th>q_value</th>\n",
       "    </tr>\n",
       "  </thead>\n",
       "  <tbody>\n",
       "    <tr>\n",
       "      <th>59114</th>\n",
       "      <td>FNPDNLM[15.9949]HVFHDDLLPLFYTLRQFPGLAHEAR</td>\n",
       "      <td>3</td>\n",
       "      <td>1280.641976</td>\n",
       "      <td>298.000000</td>\n",
       "      <td>0.000000</td>\n",
       "      <td>45.0</td>\n",
       "      <td>1943.909546</td>\n",
       "      <td>0.000000</td>\n",
       "      <td>4.234131</td>\n",
       "      <td>1756.000000</td>\n",
       "      <td>0.000000</td>\n",
       "      <td>1</td>\n",
       "      <td>0.689654</td>\n",
       "    </tr>\n",
       "    <tr>\n",
       "      <th>60272</th>\n",
       "      <td>FRGSGDTSNFDDYEEEDIR</td>\n",
       "      <td>2</td>\n",
       "      <td>1126.472326</td>\n",
       "      <td>203.000000</td>\n",
       "      <td>0.000000</td>\n",
       "      <td>30.0</td>\n",
       "      <td>1697.812622</td>\n",
       "      <td>0.000000</td>\n",
       "      <td>8.465088</td>\n",
       "      <td>1343.000000</td>\n",
       "      <td>0.000000</td>\n",
       "      <td>1</td>\n",
       "      <td>0.556489</td>\n",
       "    </tr>\n",
       "    <tr>\n",
       "      <th>193084</th>\n",
       "      <td>TCYREKTR</td>\n",
       "      <td>1</td>\n",
       "      <td>1113.546940</td>\n",
       "      <td>163.000000</td>\n",
       "      <td>0.000000</td>\n",
       "      <td>26.0</td>\n",
       "      <td>1969.304199</td>\n",
       "      <td>0.000000</td>\n",
       "      <td>8.469482</td>\n",
       "      <td>1184.000000</td>\n",
       "      <td>0.000000</td>\n",
       "      <td>1</td>\n",
       "      <td>0.699704</td>\n",
       "    </tr>\n",
       "    <tr>\n",
       "      <th>215390</th>\n",
       "      <td>VYLEGEFVEWLRRYLENGK</td>\n",
       "      <td>3</td>\n",
       "      <td>800.749710</td>\n",
       "      <td>675.000000</td>\n",
       "      <td>0.000000</td>\n",
       "      <td>68.0</td>\n",
       "      <td>2109.833008</td>\n",
       "      <td>0.000000</td>\n",
       "      <td>6.879639</td>\n",
       "      <td>5448.000000</td>\n",
       "      <td>0.000000</td>\n",
       "      <td>1</td>\n",
       "      <td>0.651259</td>\n",
       "    </tr>\n",
       "    <tr>\n",
       "      <th>142130</th>\n",
       "      <td>NPGAGAAPTDSPGLER</td>\n",
       "      <td>2</td>\n",
       "      <td>755.368226</td>\n",
       "      <td>605.000000</td>\n",
       "      <td>0.000000</td>\n",
       "      <td>29.0</td>\n",
       "      <td>1852.214233</td>\n",
       "      <td>0.000000</td>\n",
       "      <td>5.823853</td>\n",
       "      <td>1049.000000</td>\n",
       "      <td>0.000000</td>\n",
       "      <td>1</td>\n",
       "      <td>0.526516</td>\n",
       "    </tr>\n",
       "    <tr>\n",
       "      <th>196611</th>\n",
       "      <td>TIIYWDSQTTIEK</td>\n",
       "      <td>2</td>\n",
       "      <td>799.409026</td>\n",
       "      <td>413.000000</td>\n",
       "      <td>0.000000</td>\n",
       "      <td>71.0</td>\n",
       "      <td>1663.142822</td>\n",
       "      <td>0.000000</td>\n",
       "      <td>5.823608</td>\n",
       "      <td>3057.000000</td>\n",
       "      <td>0.000000</td>\n",
       "      <td>1</td>\n",
       "      <td>0.570912</td>\n",
       "    </tr>\n",
       "    <tr>\n",
       "      <th>20722</th>\n",
       "      <td>DASPFEAPTTLGSMHHTR</td>\n",
       "      <td>2</td>\n",
       "      <td>977.957426</td>\n",
       "      <td>258.666656</td>\n",
       "      <td>10.780641</td>\n",
       "      <td>40.0</td>\n",
       "      <td>2103.074463</td>\n",
       "      <td>17.172413</td>\n",
       "      <td>6.173340</td>\n",
       "      <td>1737.666667</td>\n",
       "      <td>830.310919</td>\n",
       "      <td>2</td>\n",
       "      <td>0.587140</td>\n",
       "    </tr>\n",
       "    <tr>\n",
       "      <th>141167</th>\n",
       "      <td>NM[15.9949]DLPFM[15.9949]L</td>\n",
       "      <td>1</td>\n",
       "      <td>1012.447776</td>\n",
       "      <td>256.000000</td>\n",
       "      <td>0.000000</td>\n",
       "      <td>69.0</td>\n",
       "      <td>2079.925293</td>\n",
       "      <td>0.000000</td>\n",
       "      <td>8.995850</td>\n",
       "      <td>1228.000000</td>\n",
       "      <td>0.000000</td>\n",
       "      <td>1</td>\n",
       "      <td>0.659554</td>\n",
       "    </tr>\n",
       "    <tr>\n",
       "      <th>95302</th>\n",
       "      <td>KIATKFWGK</td>\n",
       "      <td>2</td>\n",
       "      <td>539.824026</td>\n",
       "      <td>853.000000</td>\n",
       "      <td>0.000000</td>\n",
       "      <td>13.0</td>\n",
       "      <td>1754.070923</td>\n",
       "      <td>0.000000</td>\n",
       "      <td>18.526978</td>\n",
       "      <td>1849.000000</td>\n",
       "      <td>0.000000</td>\n",
       "      <td>1</td>\n",
       "      <td>0.689131</td>\n",
       "    </tr>\n",
       "    <tr>\n",
       "      <th>26837</th>\n",
       "      <td>DLLHVKSVK</td>\n",
       "      <td>2</td>\n",
       "      <td>519.818926</td>\n",
       "      <td>868.000000</td>\n",
       "      <td>0.000000</td>\n",
       "      <td>25.0</td>\n",
       "      <td>1868.226685</td>\n",
       "      <td>0.000000</td>\n",
       "      <td>2.646606</td>\n",
       "      <td>456.000000</td>\n",
       "      <td>0.000000</td>\n",
       "      <td>1</td>\n",
       "      <td>0.743748</td>\n",
       "    </tr>\n",
       "  </tbody>\n",
       "</table>\n",
       "</div>"
      ],
      "text/plain": [
       "                                         sequence  charge  theoretical_mz  \\\n",
       "59114   FNPDNLM[15.9949]HVFHDDLLPLFYTLRQFPGLAHEAR       3     1280.641976   \n",
       "60272                         FRGSGDTSNFDDYEEEDIR       2     1126.472326   \n",
       "193084                                   TCYREKTR       1     1113.546940   \n",
       "215390                        VYLEGEFVEWLRRYLENGK       3      800.749710   \n",
       "142130                           NPGAGAAPTDSPGLER       2      755.368226   \n",
       "196611                              TIIYWDSQTTIEK       2      799.409026   \n",
       "20722                          DASPFEAPTTLGSMHHTR       2      977.957426   \n",
       "141167                 NM[15.9949]DLPFM[15.9949]L       1     1012.447776   \n",
       "95302                                   KIATKFWGK       2      539.824026   \n",
       "26837                                   DLLHVKSVK       2      519.818926   \n",
       "\n",
       "        experiment_scan_mean  experiment_scan_std_dev  \\\n",
       "59114             298.000000                 0.000000   \n",
       "60272             203.000000                 0.000000   \n",
       "193084            163.000000                 0.000000   \n",
       "215390            675.000000                 0.000000   \n",
       "142130            605.000000                 0.000000   \n",
       "196611            413.000000                 0.000000   \n",
       "20722             258.666656                10.780641   \n",
       "141167            256.000000                 0.000000   \n",
       "95302             853.000000                 0.000000   \n",
       "26837             868.000000                 0.000000   \n",
       "\n",
       "        experiment_scan_peak_width  experiment_rt_mean  experiment_rt_std_dev  \\\n",
       "59114                         45.0         1943.909546               0.000000   \n",
       "60272                         30.0         1697.812622               0.000000   \n",
       "193084                        26.0         1969.304199               0.000000   \n",
       "215390                        68.0         2109.833008               0.000000   \n",
       "142130                        29.0         1852.214233               0.000000   \n",
       "196611                        71.0         1663.142822               0.000000   \n",
       "20722                         40.0         2103.074463              17.172413   \n",
       "141167                        69.0         2079.925293               0.000000   \n",
       "95302                         13.0         1754.070923               0.000000   \n",
       "26837                         25.0         1868.226685               0.000000   \n",
       "\n",
       "        experiment_rt_peak_width  experiment_intensity_mean  \\\n",
       "59114                   4.234131                1756.000000   \n",
       "60272                   8.465088                1343.000000   \n",
       "193084                  8.469482                1184.000000   \n",
       "215390                  6.879639                5448.000000   \n",
       "142130                  5.823853                1049.000000   \n",
       "196611                  5.823608                3057.000000   \n",
       "20722                   6.173340                1737.666667   \n",
       "141167                  8.995850                1228.000000   \n",
       "95302                  18.526978                1849.000000   \n",
       "26837                   2.646606                 456.000000   \n",
       "\n",
       "        experiment_intensity_std_dev  number_of_runs_identified   q_value  \n",
       "59114                       0.000000                          1  0.689654  \n",
       "60272                       0.000000                          1  0.556489  \n",
       "193084                      0.000000                          1  0.699704  \n",
       "215390                      0.000000                          1  0.651259  \n",
       "142130                      0.000000                          1  0.526516  \n",
       "196611                      0.000000                          1  0.570912  \n",
       "20722                     830.310919                          2  0.587140  \n",
       "141167                      0.000000                          1  0.659554  \n",
       "95302                       0.000000                          1  0.689131  \n",
       "26837                       0.000000                          1  0.743748  "
      ]
     },
     "execution_count": 8,
     "metadata": {},
     "output_type": "execute_result"
    }
   ],
   "source": [
    "sequences_df.sample(n=10)"
   ]
  },
  {
   "cell_type": "code",
   "execution_count": 9,
   "metadata": {},
   "outputs": [
    {
     "data": {
      "text/plain": [
       "1041.48"
      ]
     },
     "execution_count": 9,
     "metadata": {},
     "output_type": "execute_result"
    }
   ],
   "source": [
    "sequences_df.experiment_scan_peak_width.max()"
   ]
  },
  {
   "cell_type": "code",
   "execution_count": 10,
   "metadata": {},
   "outputs": [
    {
     "data": {
      "text/plain": [
       "358.93000000000006"
      ]
     },
     "execution_count": 10,
     "metadata": {},
     "output_type": "execute_result"
    }
   ],
   "source": [
    "sequences_df.experiment_rt_peak_width.max()"
   ]
  },
  {
   "cell_type": "code",
   "execution_count": 13,
   "metadata": {},
   "outputs": [
    {
     "data": {
      "image/png": "[encoded data removed]",
      "text/plain": [
       "<Figure size 1080x576 with 1 Axes>"
      ]
     },
     "metadata": {
      "needs_background": "light"
     },
     "output_type": "display_data"
    }
   ],
   "source": [
    "f, ax1 = plt.subplots()\n",
    "f.set_figheight(8)\n",
    "f.set_figwidth(15)\n",
    "\n",
    "plt.margins(0.06)\n",
    "# plt.title('Distribution of RT in {} for features identified as {}, charge {}'.format(selected_group, selected_peptide, selected_peptide_charge))\n",
    "\n",
    "bins = 100\n",
    "hist, bins, _ = plt.hist(sequences_df.experiment_rt_peak_width, bins=bins)\n",
    "plt.xlabel('RT peak width (seconds)')\n",
    "plt.ylabel('count')\n",
    "\n",
    "# plt.ylim((0,5500))\n",
    "\n",
    "# plt.axvline(x=+1, linestyle=':', linewidth=4, color='orange')\n",
    "# plt.axvline(x=-1, linestyle=':', linewidth=4, color='orange')\n",
    "\n",
    "plt.show()"
   ]
  },
  {
   "cell_type": "code",
   "execution_count": null,
   "metadata": {},
   "outputs": [],
   "source": []
  }
 ],
 "metadata": {
  "kernelspec": {
   "display_name": "Python 3",
   "language": "python",
   "name": "python3"
  },
  "language_info": {
   "codemirror_mode": {
    "name": "ipython",
    "version": 3
   },
   "file_extension": ".py",
   "mimetype": "text/x-python",
   "name": "python",
   "nbconvert_exporter": "python",
   "pygments_lexer": "ipython3",
   "version": "3.8.5"
  }
 },
 "nbformat": 4,
 "nbformat_minor": 4
}
