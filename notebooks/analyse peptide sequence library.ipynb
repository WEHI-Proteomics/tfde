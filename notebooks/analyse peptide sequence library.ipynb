{
 "cells": [
  {
   "cell_type": "code",
   "execution_count": 12,
   "metadata": {},
   "outputs": [],
   "source": [
    "import pandas as pd\n",
    "import numpy as np\n",
    "import os\n",
    "import matplotlib.pyplot as plt"
   ]
  },
  {
   "cell_type": "code",
   "execution_count": 3,
   "metadata": {},
   "outputs": [],
   "source": [
    "# count unique identifications\n",
    "MAX_Q_VALUE_FOR_COUNTING_RESULTS = 0.01"
   ]
  },
  {
   "cell_type": "code",
   "execution_count": 4,
   "metadata": {},
   "outputs": [],
   "source": [
    "sequences_df = pd.read_pickle('/Users/darylwilding-mcbride/Downloads/experiments/P3856/sequence-library.pkl')"
   ]
  },
  {
   "cell_type": "code",
   "execution_count": 5,
   "metadata": {},
   "outputs": [
    {
     "data": {
      "text/plain": [
       "Index(['sequence', 'charge', 'theoretical_mz', 'experiment_scan_mean',\n",
       "       'experiment_scan_std_dev', 'experiment_scan_peak_width',\n",
       "       'experiment_rt_mean', 'experiment_rt_std_dev',\n",
       "       'experiment_rt_peak_width', 'experiment_intensity_mean',\n",
       "       'experiment_intensity_std_dev', 'number_of_runs_identified', 'q_value'],\n",
       "      dtype='object')"
      ]
     },
     "execution_count": 5,
     "metadata": {},
     "output_type": "execute_result"
    }
   ],
   "source": [
    "sequences_df.columns"
   ]
  },
  {
   "cell_type": "code",
   "execution_count": 6,
   "metadata": {},
   "outputs": [
    {
     "data": {
      "text/plain": [
       "23295"
      ]
     },
     "execution_count": 6,
     "metadata": {},
     "output_type": "execute_result"
    }
   ],
   "source": [
    "len(sequences_df[(sequences_df.q_value <= MAX_Q_VALUE_FOR_COUNTING_RESULTS)])"
   ]
  },
  {
   "cell_type": "code",
   "execution_count": 7,
   "metadata": {},
   "outputs": [
    {
     "data": {
      "text/plain": [
       "23295"
      ]
     },
     "execution_count": 7,
     "metadata": {},
     "output_type": "execute_result"
    }
   ],
   "source": [
    "len(sequences_df.drop_duplicates(subset=['sequence', 'charge'], keep='first', inplace=False))"
   ]
  },
  {
   "cell_type": "code",
   "execution_count": 8,
   "metadata": {},
   "outputs": [
    {
     "data": {
      "text/html": [
       "<div>\n",
       "<style scoped>\n",
       "    .dataframe tbody tr th:only-of-type {\n",
       "        vertical-align: middle;\n",
       "    }\n",
       "\n",
       "    .dataframe tbody tr th {\n",
       "        vertical-align: top;\n",
       "    }\n",
       "\n",
       "    .dataframe thead th {\n",
       "        text-align: right;\n",
       "    }\n",
       "</style>\n",
       "<table border=\"1\" class=\"dataframe\">\n",
       "  <thead>\n",
       "    <tr style=\"text-align: right;\">\n",
       "      <th></th>\n",
       "      <th>sequence</th>\n",
       "      <th>charge</th>\n",
       "      <th>theoretical_mz</th>\n",
       "      <th>experiment_scan_mean</th>\n",
       "      <th>experiment_scan_std_dev</th>\n",
       "      <th>experiment_scan_peak_width</th>\n",
       "      <th>experiment_rt_mean</th>\n",
       "      <th>experiment_rt_std_dev</th>\n",
       "      <th>experiment_rt_peak_width</th>\n",
       "      <th>experiment_intensity_mean</th>\n",
       "      <th>experiment_intensity_std_dev</th>\n",
       "      <th>number_of_runs_identified</th>\n",
       "      <th>q_value</th>\n",
       "    </tr>\n",
       "  </thead>\n",
       "  <tbody>\n",
       "    <tr>\n",
       "      <th>12898</th>\n",
       "      <td>LTWHAYPEDAENK</td>\n",
       "      <td>2</td>\n",
       "      <td>787.367676</td>\n",
       "      <td>508.471429</td>\n",
       "      <td>4.848963</td>\n",
       "      <td>50.181429</td>\n",
       "      <td>1672.852857</td>\n",
       "      <td>2.591292</td>\n",
       "      <td>19.992857</td>\n",
       "      <td>159512.285714</td>\n",
       "      <td>28235.752330</td>\n",
       "      <td>7</td>\n",
       "      <td>0.000004</td>\n",
       "    </tr>\n",
       "    <tr>\n",
       "      <th>17617</th>\n",
       "      <td>SGLGELILPENEPGSSIMPGK</td>\n",
       "      <td>2</td>\n",
       "      <td>1063.045876</td>\n",
       "      <td>164.349524</td>\n",
       "      <td>13.390346</td>\n",
       "      <td>65.300833</td>\n",
       "      <td>2004.663452</td>\n",
       "      <td>236.105569</td>\n",
       "      <td>7.830357</td>\n",
       "      <td>539512.583333</td>\n",
       "      <td>345647.226334</td>\n",
       "      <td>30</td>\n",
       "      <td>0.000004</td>\n",
       "    </tr>\n",
       "    <tr>\n",
       "      <th>20516</th>\n",
       "      <td>VCHHIELASEQTPER</td>\n",
       "      <td>2</td>\n",
       "      <td>903.433558</td>\n",
       "      <td>375.073333</td>\n",
       "      <td>2.958562</td>\n",
       "      <td>66.950000</td>\n",
       "      <td>1629.203333</td>\n",
       "      <td>1.638136</td>\n",
       "      <td>42.070000</td>\n",
       "      <td>47262.666667</td>\n",
       "      <td>3606.084888</td>\n",
       "      <td>3</td>\n",
       "      <td>0.000128</td>\n",
       "    </tr>\n",
       "    <tr>\n",
       "      <th>12717</th>\n",
       "      <td>LSSCDSFTSTINELNHCLSLR</td>\n",
       "      <td>3</td>\n",
       "      <td>818.717785</td>\n",
       "      <td>594.382857</td>\n",
       "      <td>6.263219</td>\n",
       "      <td>55.655714</td>\n",
       "      <td>2064.582286</td>\n",
       "      <td>2.269952</td>\n",
       "      <td>4.528857</td>\n",
       "      <td>98922.885714</td>\n",
       "      <td>17660.711836</td>\n",
       "      <td>30</td>\n",
       "      <td>0.000004</td>\n",
       "    </tr>\n",
       "    <tr>\n",
       "      <th>8132</th>\n",
       "      <td>HEFSVDMTCGGCAEAVSR</td>\n",
       "      <td>2</td>\n",
       "      <td>1006.916590</td>\n",
       "      <td>277.456667</td>\n",
       "      <td>0.528226</td>\n",
       "      <td>49.116667</td>\n",
       "      <td>1697.033333</td>\n",
       "      <td>2.429463</td>\n",
       "      <td>23.420000</td>\n",
       "      <td>100940.333333</td>\n",
       "      <td>7507.248468</td>\n",
       "      <td>3</td>\n",
       "      <td>0.000017</td>\n",
       "    </tr>\n",
       "    <tr>\n",
       "      <th>9278</th>\n",
       "      <td>IFVGNVSAACTSQELR</td>\n",
       "      <td>2</td>\n",
       "      <td>876.440858</td>\n",
       "      <td>389.317097</td>\n",
       "      <td>8.298283</td>\n",
       "      <td>40.806129</td>\n",
       "      <td>1812.472903</td>\n",
       "      <td>1.920477</td>\n",
       "      <td>32.217097</td>\n",
       "      <td>138202.419355</td>\n",
       "      <td>20380.256951</td>\n",
       "      <td>27</td>\n",
       "      <td>0.000004</td>\n",
       "    </tr>\n",
       "    <tr>\n",
       "      <th>16846</th>\n",
       "      <td>RDLLFQALGR</td>\n",
       "      <td>2</td>\n",
       "      <td>594.846026</td>\n",
       "      <td>784.621064</td>\n",
       "      <td>5.406489</td>\n",
       "      <td>38.472128</td>\n",
       "      <td>1882.958085</td>\n",
       "      <td>2.596281</td>\n",
       "      <td>4.289149</td>\n",
       "      <td>110376.085106</td>\n",
       "      <td>14198.205838</td>\n",
       "      <td>30</td>\n",
       "      <td>0.000006</td>\n",
       "    </tr>\n",
       "    <tr>\n",
       "      <th>10416</th>\n",
       "      <td>KDVVIQDDDVECTMVEK</td>\n",
       "      <td>2</td>\n",
       "      <td>1011.971558</td>\n",
       "      <td>228.312500</td>\n",
       "      <td>3.716217</td>\n",
       "      <td>57.755000</td>\n",
       "      <td>1718.152500</td>\n",
       "      <td>4.306863</td>\n",
       "      <td>7.967500</td>\n",
       "      <td>121143.000000</td>\n",
       "      <td>11856.749618</td>\n",
       "      <td>4</td>\n",
       "      <td>0.000427</td>\n",
       "    </tr>\n",
       "    <tr>\n",
       "      <th>10918</th>\n",
       "      <td>LDLVHTAALMLDK</td>\n",
       "      <td>2</td>\n",
       "      <td>720.399976</td>\n",
       "      <td>544.908511</td>\n",
       "      <td>7.780222</td>\n",
       "      <td>42.017447</td>\n",
       "      <td>2092.051702</td>\n",
       "      <td>5.841846</td>\n",
       "      <td>6.913191</td>\n",
       "      <td>80670.042553</td>\n",
       "      <td>26753.736002</td>\n",
       "      <td>29</td>\n",
       "      <td>0.000004</td>\n",
       "    </tr>\n",
       "    <tr>\n",
       "      <th>21887</th>\n",
       "      <td>VTPPEGYEVVTVFPK</td>\n",
       "      <td>2</td>\n",
       "      <td>831.442876</td>\n",
       "      <td>400.242000</td>\n",
       "      <td>3.291968</td>\n",
       "      <td>55.354000</td>\n",
       "      <td>1975.192000</td>\n",
       "      <td>0.176907</td>\n",
       "      <td>26.052000</td>\n",
       "      <td>87172.000000</td>\n",
       "      <td>3782.298931</td>\n",
       "      <td>3</td>\n",
       "      <td>0.000170</td>\n",
       "    </tr>\n",
       "  </tbody>\n",
       "</table>\n",
       "</div>"
      ],
      "text/plain": [
       "                    sequence  charge  theoretical_mz  experiment_scan_mean  \\\n",
       "12898          LTWHAYPEDAENK       2      787.367676            508.471429   \n",
       "17617  SGLGELILPENEPGSSIMPGK       2     1063.045876            164.349524   \n",
       "20516        VCHHIELASEQTPER       2      903.433558            375.073333   \n",
       "12717  LSSCDSFTSTINELNHCLSLR       3      818.717785            594.382857   \n",
       "8132      HEFSVDMTCGGCAEAVSR       2     1006.916590            277.456667   \n",
       "9278        IFVGNVSAACTSQELR       2      876.440858            389.317097   \n",
       "16846             RDLLFQALGR       2      594.846026            784.621064   \n",
       "10416      KDVVIQDDDVECTMVEK       2     1011.971558            228.312500   \n",
       "10918          LDLVHTAALMLDK       2      720.399976            544.908511   \n",
       "21887        VTPPEGYEVVTVFPK       2      831.442876            400.242000   \n",
       "\n",
       "       experiment_scan_std_dev  experiment_scan_peak_width  \\\n",
       "12898                 4.848963                   50.181429   \n",
       "17617                13.390346                   65.300833   \n",
       "20516                 2.958562                   66.950000   \n",
       "12717                 6.263219                   55.655714   \n",
       "8132                  0.528226                   49.116667   \n",
       "9278                  8.298283                   40.806129   \n",
       "16846                 5.406489                   38.472128   \n",
       "10416                 3.716217                   57.755000   \n",
       "10918                 7.780222                   42.017447   \n",
       "21887                 3.291968                   55.354000   \n",
       "\n",
       "       experiment_rt_mean  experiment_rt_std_dev  experiment_rt_peak_width  \\\n",
       "12898         1672.852857               2.591292                 19.992857   \n",
       "17617         2004.663452             236.105569                  7.830357   \n",
       "20516         1629.203333               1.638136                 42.070000   \n",
       "12717         2064.582286               2.269952                  4.528857   \n",
       "8132          1697.033333               2.429463                 23.420000   \n",
       "9278          1812.472903               1.920477                 32.217097   \n",
       "16846         1882.958085               2.596281                  4.289149   \n",
       "10416         1718.152500               4.306863                  7.967500   \n",
       "10918         2092.051702               5.841846                  6.913191   \n",
       "21887         1975.192000               0.176907                 26.052000   \n",
       "\n",
       "       experiment_intensity_mean  experiment_intensity_std_dev  \\\n",
       "12898              159512.285714                  28235.752330   \n",
       "17617              539512.583333                 345647.226334   \n",
       "20516               47262.666667                   3606.084888   \n",
       "12717               98922.885714                  17660.711836   \n",
       "8132               100940.333333                   7507.248468   \n",
       "9278               138202.419355                  20380.256951   \n",
       "16846              110376.085106                  14198.205838   \n",
       "10416              121143.000000                  11856.749618   \n",
       "10918               80670.042553                  26753.736002   \n",
       "21887               87172.000000                   3782.298931   \n",
       "\n",
       "       number_of_runs_identified   q_value  \n",
       "12898                          7  0.000004  \n",
       "17617                         30  0.000004  \n",
       "20516                          3  0.000128  \n",
       "12717                         30  0.000004  \n",
       "8132                           3  0.000017  \n",
       "9278                          27  0.000004  \n",
       "16846                         30  0.000006  \n",
       "10416                          4  0.000427  \n",
       "10918                         29  0.000004  \n",
       "21887                          3  0.000170  "
      ]
     },
     "execution_count": 8,
     "metadata": {},
     "output_type": "execute_result"
    }
   ],
   "source": [
    "sequences_df.sample(n=10)"
   ]
  },
  {
   "cell_type": "code",
   "execution_count": 9,
   "metadata": {},
   "outputs": [
    {
     "data": {
      "text/plain": [
       "1041.48"
      ]
     },
     "execution_count": 9,
     "metadata": {},
     "output_type": "execute_result"
    }
   ],
   "source": [
    "sequences_df.experiment_scan_peak_width.max()"
   ]
  },
  {
   "cell_type": "code",
   "execution_count": 10,
   "metadata": {},
   "outputs": [
    {
     "data": {
      "text/plain": [
       "358.93000000000006"
      ]
     },
     "execution_count": 10,
     "metadata": {},
     "output_type": "execute_result"
    }
   ],
   "source": [
    "sequences_df.experiment_rt_peak_width.max()"
   ]
  },
  {
   "cell_type": "code",
   "execution_count": 13,
   "metadata": {},
   "outputs": [
    {
     "data": {
      "image/png": "[encoded data removed]",
      "text/plain": [
       "<Figure size 1080x576 with 1 Axes>"
      ]
     },
     "metadata": {
      "needs_background": "light"
     },
     "output_type": "display_data"
    }
   ],
   "source": [
    "f, ax1 = plt.subplots()\n",
    "f.set_figheight(8)\n",
    "f.set_figwidth(15)\n",
    "\n",
    "plt.margins(0.06)\n",
    "# plt.title('Distribution of RT in {} for features identified as {}, charge {}'.format(selected_group, selected_peptide, selected_peptide_charge))\n",
    "\n",
    "bins = 100\n",
    "hist, bins, _ = plt.hist(sequences_df.experiment_rt_peak_width, bins=bins)\n",
    "plt.xlabel('RT peak width (seconds)')\n",
    "plt.ylabel('count')\n",
    "\n",
    "# plt.ylim((0,5500))\n",
    "\n",
    "# plt.axvline(x=+1, linestyle=':', linewidth=4, color='orange')\n",
    "# plt.axvline(x=-1, linestyle=':', linewidth=4, color='orange')\n",
    "\n",
    "plt.show()"
   ]
  },
  {
   "cell_type": "code",
   "execution_count": null,
   "metadata": {},
   "outputs": [],
   "source": []
  }
 ],
 "metadata": {
  "kernelspec": {
   "display_name": "Python 3",
   "language": "python",
   "name": "python3"
  },
  "language_info": {
   "codemirror_mode": {
    "name": "ipython",
    "version": 3
   },
   "file_extension": ".py",
   "mimetype": "text/x-python",
   "name": "python",
   "nbconvert_exporter": "python",
   "pygments_lexer": "ipython3",
   "version": "3.6.8"
  }
 },
 "nbformat": 4,
 "nbformat_minor": 4
}
