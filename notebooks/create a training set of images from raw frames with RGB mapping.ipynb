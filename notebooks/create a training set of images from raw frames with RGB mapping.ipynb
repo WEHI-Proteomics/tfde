{
 "cells": [
  {
   "cell_type": "markdown",
   "metadata": {},
   "source": [
    "Generate a PNG of binned (0.1 m/z) raw data for a single frame"
   ]
  },
  {
   "cell_type": "code",
   "execution_count": 61,
   "metadata": {},
   "outputs": [],
   "source": [
    "import sqlite3\n",
    "import pandas as pd\n",
    "import numpy as np\n",
    "import sys"
   ]
  },
  {
   "cell_type": "code",
   "execution_count": 62,
   "metadata": {},
   "outputs": [],
   "source": [
    "RT_LIMIT_LOWER = 4340\n",
    "RT_LIMIT_UPPER = 4580"
   ]
  },
  {
   "cell_type": "code",
   "execution_count": 63,
   "metadata": {},
   "outputs": [],
   "source": [
    "MS1_CE = 10"
   ]
  },
  {
   "cell_type": "code",
   "execution_count": 64,
   "metadata": {},
   "outputs": [],
   "source": [
    "# BASE_NAME = \"/home/ubuntu/HeLa_20KInt-rt-{}-{}\".format(RT_LIMIT_LOWER,RT_LIMIT_UPPER)\n",
    "BASE_NAME = \"/Users/darylwilding-mcbride/Downloads/HeLa_20KInt-rt-{}-{}\".format(RT_LIMIT_LOWER,RT_LIMIT_UPPER)\n",
    "# ALLPEPTIDES_FILENAME = '/home/ubuntu/maxquant_results/txt/allPeptides.txt'\n",
    "ALLPEPTIDES_FILENAME = '/Users/darylwilding-mcbride/Downloads/maxquant_results/txt/allPeptides.txt'\n",
    "\n",
    "CONVERTED_DATABASE_NAME = '{}/HeLa_20KInt.sqlite'.format(BASE_NAME)"
   ]
  },
  {
   "cell_type": "code",
   "execution_count": 65,
   "metadata": {},
   "outputs": [
    {
     "data": {
      "text/plain": [
       "'/Users/darylwilding-mcbride/Downloads/HeLa_20KInt-rt-4340-4580/HeLa_20KInt.sqlite'"
      ]
     },
     "execution_count": 65,
     "metadata": {},
     "output_type": "execute_result"
    }
   ],
   "source": [
    "CONVERTED_DATABASE_NAME"
   ]
  },
  {
   "cell_type": "code",
   "execution_count": 66,
   "metadata": {},
   "outputs": [],
   "source": [
    "db_conn = sqlite3.connect(CONVERTED_DATABASE_NAME)\n",
    "ms1_frame_properties_df = pd.read_sql_query(\"select frame_id,retention_time_secs from frame_properties where retention_time_secs >= {} and retention_time_secs <= {} and collision_energy == {}\".format(RT_LIMIT_LOWER,RT_LIMIT_UPPER,MS1_CE), db_conn)\n",
    "db_conn.close()"
   ]
  },
  {
   "cell_type": "code",
   "execution_count": 67,
   "metadata": {},
   "outputs": [
    {
     "data": {
      "text/html": [
       "<div>\n",
       "<style scoped>\n",
       "    .dataframe tbody tr th:only-of-type {\n",
       "        vertical-align: middle;\n",
       "    }\n",
       "\n",
       "    .dataframe tbody tr th {\n",
       "        vertical-align: top;\n",
       "    }\n",
       "\n",
       "    .dataframe thead th {\n",
       "        text-align: right;\n",
       "    }\n",
       "</style>\n",
       "<table border=\"1\" class=\"dataframe\">\n",
       "  <thead>\n",
       "    <tr style=\"text-align: right;\">\n",
       "      <th></th>\n",
       "      <th>frame_id</th>\n",
       "      <th>retention_time_secs</th>\n",
       "    </tr>\n",
       "  </thead>\n",
       "  <tbody>\n",
       "    <tr>\n",
       "      <th>0</th>\n",
       "      <td>40411</td>\n",
       "      <td>4340.340330</td>\n",
       "    </tr>\n",
       "    <tr>\n",
       "      <th>1</th>\n",
       "      <td>40422</td>\n",
       "      <td>4341.521415</td>\n",
       "    </tr>\n",
       "    <tr>\n",
       "      <th>2</th>\n",
       "      <td>40433</td>\n",
       "      <td>4342.702923</td>\n",
       "    </tr>\n",
       "    <tr>\n",
       "      <th>3</th>\n",
       "      <td>40444</td>\n",
       "      <td>4343.883324</td>\n",
       "    </tr>\n",
       "    <tr>\n",
       "      <th>4</th>\n",
       "      <td>40455</td>\n",
       "      <td>4345.067491</td>\n",
       "    </tr>\n",
       "  </tbody>\n",
       "</table>\n",
       "</div>"
      ],
      "text/plain": [
       "   frame_id  retention_time_secs\n",
       "0     40411          4340.340330\n",
       "1     40422          4341.521415\n",
       "2     40433          4342.702923\n",
       "3     40444          4343.883324\n",
       "4     40455          4345.067491"
      ]
     },
     "execution_count": 67,
     "metadata": {},
     "output_type": "execute_result"
    }
   ],
   "source": [
    "ms1_frame_properties_df.head()"
   ]
  },
  {
   "cell_type": "code",
   "execution_count": 68,
   "metadata": {},
   "outputs": [
    {
     "data": {
      "text/plain": [
       "1.1810854877303427"
      ]
     },
     "execution_count": 68,
     "metadata": {},
     "output_type": "execute_result"
    }
   ],
   "source": [
    "frame_delay = ms1_frame_properties_df.iloc[1].retention_time_secs - ms1_frame_properties_df.iloc[0].retention_time_secs\n",
    "frame_delay"
   ]
  },
  {
   "cell_type": "code",
   "execution_count": 69,
   "metadata": {},
   "outputs": [
    {
     "data": {
      "text/plain": [
       "203"
      ]
     },
     "execution_count": 69,
     "metadata": {},
     "output_type": "execute_result"
    }
   ],
   "source": [
    "len(ms1_frame_properties_df)"
   ]
  },
  {
   "cell_type": "code",
   "execution_count": 70,
   "metadata": {},
   "outputs": [],
   "source": [
    "RAW_FRAME_ID = 40411\n",
    "RAW_FRAME_RT = ms1_frame_properties_df[ms1_frame_properties_df.frame_id == RAW_FRAME_ID].retention_time_secs.values[0]"
   ]
  },
  {
   "cell_type": "code",
   "execution_count": 71,
   "metadata": {},
   "outputs": [],
   "source": [
    "MZ_MIN = 100.0\n",
    "MZ_MAX = 1700.0\n",
    "MZ_BIN_WIDTH = 0.1\n",
    "SCAN_MIN = 1\n",
    "SCAN_MAX = 910"
   ]
  },
  {
   "cell_type": "code",
   "execution_count": 72,
   "metadata": {},
   "outputs": [],
   "source": [
    "mz_bins = np.arange(start=MZ_MIN, stop=MZ_MAX+MZ_BIN_WIDTH, step=MZ_BIN_WIDTH)  # go slightly wider to accomodate the maximum value\n"
   ]
  },
  {
   "cell_type": "code",
   "execution_count": 73,
   "metadata": {},
   "outputs": [
    {
     "data": {
      "text/plain": [
       "array([ 100. ,  100.1,  100.2, ..., 1699.8, 1699.9, 1700. ])"
      ]
     },
     "execution_count": 73,
     "metadata": {},
     "output_type": "execute_result"
    }
   ],
   "source": [
    "mz_bins"
   ]
  },
  {
   "cell_type": "code",
   "execution_count": 74,
   "metadata": {},
   "outputs": [
    {
     "data": {
      "text/plain": [
       "16001"
      ]
     },
     "execution_count": 74,
     "metadata": {},
     "output_type": "execute_result"
    }
   ],
   "source": [
    "MZ_BIN_COUNT = len(mz_bins)\n",
    "MZ_BIN_COUNT"
   ]
  },
  {
   "cell_type": "markdown",
   "metadata": {},
   "source": [
    "Populate the intensity array with points from the raw frame"
   ]
  },
  {
   "cell_type": "code",
   "execution_count": 75,
   "metadata": {},
   "outputs": [],
   "source": [
    "# load the raw frame points\n",
    "db_conn = sqlite3.connect(CONVERTED_DATABASE_NAME)\n",
    "raw_points_df = pd.read_sql_query(\"select mz,scan,intensity from frames where frame_id == {}\".format(RAW_FRAME_ID), db_conn)\n",
    "db_conn.close()"
   ]
  },
  {
   "cell_type": "code",
   "execution_count": 76,
   "metadata": {},
   "outputs": [
    {
     "data": {
      "text/plain": [
       "11145"
      ]
     },
     "execution_count": 76,
     "metadata": {},
     "output_type": "execute_result"
    }
   ],
   "source": [
    "raw_points_df.intensity.max()"
   ]
  },
  {
   "cell_type": "code",
   "execution_count": 77,
   "metadata": {},
   "outputs": [
    {
     "data": {
      "text/plain": [
       "268542"
      ]
     },
     "execution_count": 77,
     "metadata": {},
     "output_type": "execute_result"
    }
   ],
   "source": [
    "len(raw_points_df)"
   ]
  },
  {
   "cell_type": "code",
   "execution_count": 78,
   "metadata": {},
   "outputs": [
    {
     "name": "stdout",
     "output_type": "stream",
     "text": [
      "CPU times: user 4.12 s, sys: 27.9 ms, total: 4.15 s\n",
      "Wall time: 4.04 s\n"
     ]
    }
   ],
   "source": [
    "%%time\n",
    "intensity_array = np.zeros([SCAN_MAX, MZ_BIN_COUNT], dtype=np.uint16)  # scratchpad for the intensity value prior to image conversion\n",
    "for r in zip(raw_points_df.mz,raw_points_df.scan,raw_points_df.intensity):\n",
    "    mz = r[0]\n",
    "    scan = int(r[1])\n",
    "    if (mz >= MZ_MIN) and (mz <= MZ_MAX) and (scan >= SCAN_MIN) and (scan <= SCAN_MAX):\n",
    "        mz_array_idx = int(np.digitize(mz, mz_bins))-1 # in which bin should this mz go\n",
    "        scan_array_idx = scan\n",
    "        intensity = int(r[2])\n",
    "        intensity_array[scan_array_idx,mz_array_idx] += intensity\n",
    "        "
   ]
  },
  {
   "cell_type": "code",
   "execution_count": 79,
   "metadata": {},
   "outputs": [
    {
     "data": {
      "text/plain": [
       "13128"
      ]
     },
     "execution_count": 79,
     "metadata": {},
     "output_type": "execute_result"
    }
   ],
   "source": [
    "intensity_array.max()"
   ]
  },
  {
   "cell_type": "code",
   "execution_count": 80,
   "metadata": {},
   "outputs": [],
   "source": [
    "DELTA_MZ = 1.003355     # Mass difference between Carbon-12 and Carbon-13 isotopes, in Da. For calculating the spacing between isotopic peaks."
   ]
  },
  {
   "cell_type": "code",
   "execution_count": 81,
   "metadata": {},
   "outputs": [],
   "source": [
    "MZ_TOLERANCE_PPM = 5\n",
    "MZ_TOLERANCE_PERCENT = MZ_TOLERANCE_PPM * 10**-4"
   ]
  },
  {
   "cell_type": "markdown",
   "metadata": {},
   "source": [
    "Process the allpeptides file to get the MQ features"
   ]
  },
  {
   "cell_type": "code",
   "execution_count": 82,
   "metadata": {},
   "outputs": [],
   "source": [
    "MIN_ISOTOPE_CORRELATION = 0.9\n",
    "\n",
    "allpeptides_df = pd.read_csv(ALLPEPTIDES_FILENAME, sep='\\t')\n",
    "allpeptides_df.rename(columns={'Number of isotopic peaks':'isotope_count', 'm/z':'mz', 'Number of data points':'number_data_points', 'Intensity':'intensity', 'Ion mobility index':'scan', 'Ion mobility index length':'scan_length', 'Ion mobility index length (FWHM)':'scan_length_fwhm', 'Retention time':'rt', 'Retention length':'rt_length', 'Retention length (FWHM)':'rt_length_fwhm', 'Charge':'charge_state', 'Number of pasef MS/MS':'number_pasef_ms2_ids', 'Isotope correlation':'isotope_correlation'}, inplace=True)\n",
    "allpeptides_df = allpeptides_df[allpeptides_df.intensity.notnull()].copy()  # remove all the null intensity rows\n",
    "allpeptides_df = allpeptides_df[allpeptides_df.intensity.notnull() & (allpeptides_df.isotope_correlation >= MIN_ISOTOPE_CORRELATION) & (allpeptides_df.rt >= RT_LIMIT_LOWER) & (allpeptides_df.rt <= RT_LIMIT_UPPER)].copy()\n",
    "\n",
    "# use the feature's FWHM in RT\n",
    "allpeptides_df[\"rt_delta\"] = allpeptides_df.rt_length_fwhm / 2\n",
    "allpeptides_df[\"rt_lower\"] = allpeptides_df.rt - allpeptides_df.rt_delta\n",
    "allpeptides_df[\"rt_upper\"] = allpeptides_df.rt + allpeptides_df.rt_delta\n",
    "\n",
    "# sort the features by decreasing intensity and give them an ID\n",
    "allpeptides_df.sort_values(by=['intensity'], ascending=False, inplace=True)\n",
    "allpeptides_df[\"mq_feature_id\"] = np.arange(start=1, stop=len(allpeptides_df)+1)\n"
   ]
  },
  {
   "cell_type": "code",
   "execution_count": 83,
   "metadata": {},
   "outputs": [
    {
     "name": "stdout",
     "output_type": "stream",
     "text": [
      "charge states: 1 to 4\n"
     ]
    }
   ],
   "source": [
    "print(\"charge states: {} to {}\".format(allpeptides_df.charge_state.min(), allpeptides_df.charge_state.max()))"
   ]
  },
  {
   "cell_type": "markdown",
   "metadata": {},
   "source": [
    "Calculate the binned rectangle coordinates for all the MQ features"
   ]
  },
  {
   "cell_type": "code",
   "execution_count": 84,
   "metadata": {},
   "outputs": [
    {
     "data": {
      "text/plain": [
       "11524"
      ]
     },
     "execution_count": 84,
     "metadata": {},
     "output_type": "execute_result"
    }
   ],
   "source": [
    "len(allpeptides_df)"
   ]
  },
  {
   "cell_type": "code",
   "execution_count": 85,
   "metadata": {},
   "outputs": [],
   "source": [
    "mz_ppm_tolerance_l = []\n",
    "binned_mz_lower_l = []\n",
    "binned_mz_upper_l = []\n",
    "binned_mz_idx_lower_l = []\n",
    "binned_mz_idx_upper_l = []\n",
    "scan_lower_l = []\n",
    "scan_upper_l = []\n",
    "\n",
    "# calculate the MQ feature rectangles\n",
    "for r in zip(allpeptides_df.mq_feature_id,allpeptides_df.charge_state,allpeptides_df.isotope_count,allpeptides_df.mz,allpeptides_df.scan,allpeptides_df.scan_length):\n",
    "    mq_feature_id = int(r[0])\n",
    "    charge_state = int(r[1])\n",
    "    isotope_count = int(r[2])\n",
    "    mq_feature_mz = r[3]\n",
    "    mq_feature_scan = int(r[4])\n",
    "    mq_feature_scan_length = int(r[5])\n",
    "\n",
    "    expected_isotope_spacing_mz = DELTA_MZ / charge_state\n",
    "\n",
    "    # determine the bounding box coordinates for m/z and scan in real space\n",
    "    mz_ppm_tolerance = mq_feature_mz * MZ_TOLERANCE_PERCENT / 100\n",
    "    mz_ppm_tolerance_l.append((mz_ppm_tolerance))\n",
    "    \n",
    "    # find the bin edges for the feature's mz\n",
    "    binned_mz_idx_lower = int(np.digitize(mq_feature_mz, mz_bins))-1\n",
    "    binned_mz_idx_upper = int(np.digitize(mq_feature_mz + ((isotope_count-1) * expected_isotope_spacing_mz), mz_bins))\n",
    "    rect_mz_lower = mz_bins[binned_mz_idx_lower]\n",
    "    rect_mz_upper = mz_bins[binned_mz_idx_upper]\n",
    "    rect_mz_range = rect_mz_upper - rect_mz_lower\n",
    "    binned_mz_lower_l.append(rect_mz_lower)\n",
    "    binned_mz_upper_l.append(rect_mz_upper)\n",
    "    binned_mz_idx_lower_l.append(binned_mz_idx_lower)\n",
    "    binned_mz_idx_upper_l.append(binned_mz_idx_upper)\n",
    "\n",
    "    rect_scan = mq_feature_scan\n",
    "    rect_scan_delta = mq_feature_scan_length / 2\n",
    "    rect_scan_lower = int(rect_scan - rect_scan_delta)\n",
    "    rect_scan_upper = int(rect_scan + rect_scan_delta)\n",
    "    rect_scan_range = int(mq_feature_scan_length)\n",
    "    scan_lower_l.append(rect_scan_lower)\n",
    "    scan_upper_l.append(rect_scan_upper)\n",
    "    \n",
    "allpeptides_df['mz_ppm_tolerance'] = mz_ppm_tolerance_l\n",
    "allpeptides_df['binned_rect_mz_lower'] = binned_mz_lower_l\n",
    "allpeptides_df['binned_rect_mz_upper'] = binned_mz_upper_l\n",
    "allpeptides_df['binned_rect_mz_idx_lower'] = binned_mz_idx_lower_l\n",
    "allpeptides_df['binned_rect_mz_idx_upper'] = binned_mz_idx_upper_l\n",
    "allpeptides_df['scan_lower'] = scan_lower_l\n",
    "allpeptides_df['scan_upper'] = scan_upper_l\n"
   ]
  },
  {
   "cell_type": "code",
   "execution_count": 86,
   "metadata": {},
   "outputs": [
    {
     "name": "stdout",
     "output_type": "stream",
     "text": [
      "there are 227 MQ features overlapping this frame\n"
     ]
    }
   ],
   "source": [
    "# for display, use the features that overlap with this frame\n",
    "allpeptides_subset_df = allpeptides_df[(allpeptides_df.rt_lower <= RAW_FRAME_RT) & (allpeptides_df.rt_upper >= RAW_FRAME_RT)].copy()\n",
    "print(\"there are {} MQ features overlapping this frame\".format(len(allpeptides_subset_df)))\n"
   ]
  },
  {
   "cell_type": "code",
   "execution_count": 87,
   "metadata": {},
   "outputs": [
    {
     "data": {
      "text/html": [
       "<div>\n",
       "<style scoped>\n",
       "    .dataframe tbody tr th:only-of-type {\n",
       "        vertical-align: middle;\n",
       "    }\n",
       "\n",
       "    .dataframe tbody tr th {\n",
       "        vertical-align: top;\n",
       "    }\n",
       "\n",
       "    .dataframe thead th {\n",
       "        text-align: right;\n",
       "    }\n",
       "</style>\n",
       "<table border=\"1\" class=\"dataframe\">\n",
       "  <thead>\n",
       "    <tr style=\"text-align: right;\">\n",
       "      <th></th>\n",
       "      <th>mz</th>\n",
       "      <th>binned_rect_mz_lower</th>\n",
       "      <th>binned_rect_mz_upper</th>\n",
       "      <th>binned_rect_mz_idx_lower</th>\n",
       "      <th>binned_rect_mz_idx_upper</th>\n",
       "    </tr>\n",
       "  </thead>\n",
       "  <tbody>\n",
       "    <tr>\n",
       "      <th>235967</th>\n",
       "      <td>781.34758</td>\n",
       "      <td>781.3</td>\n",
       "      <td>783.9</td>\n",
       "      <td>6813</td>\n",
       "      <td>6839</td>\n",
       "    </tr>\n",
       "    <tr>\n",
       "      <th>267086</th>\n",
       "      <td>855.43633</td>\n",
       "      <td>855.4</td>\n",
       "      <td>861.5</td>\n",
       "      <td>7554</td>\n",
       "      <td>7615</td>\n",
       "    </tr>\n",
       "    <tr>\n",
       "      <th>166662</th>\n",
       "      <td>662.68279</td>\n",
       "      <td>662.6</td>\n",
       "      <td>665.1</td>\n",
       "      <td>5626</td>\n",
       "      <td>5651</td>\n",
       "    </tr>\n",
       "    <tr>\n",
       "      <th>233967</th>\n",
       "      <td>773.90570</td>\n",
       "      <td>773.9</td>\n",
       "      <td>776.5</td>\n",
       "      <td>6739</td>\n",
       "      <td>6765</td>\n",
       "    </tr>\n",
       "    <tr>\n",
       "      <th>298665</th>\n",
       "      <td>1001.47410</td>\n",
       "      <td>1001.4</td>\n",
       "      <td>1004.0</td>\n",
       "      <td>9014</td>\n",
       "      <td>9040</td>\n",
       "    </tr>\n",
       "  </tbody>\n",
       "</table>\n",
       "</div>"
      ],
      "text/plain": [
       "                mz  binned_rect_mz_lower  binned_rect_mz_upper  \\\n",
       "235967   781.34758                 781.3                 783.9   \n",
       "267086   855.43633                 855.4                 861.5   \n",
       "166662   662.68279                 662.6                 665.1   \n",
       "233967   773.90570                 773.9                 776.5   \n",
       "298665  1001.47410                1001.4                1004.0   \n",
       "\n",
       "        binned_rect_mz_idx_lower  binned_rect_mz_idx_upper  \n",
       "235967                      6813                      6839  \n",
       "267086                      7554                      7615  \n",
       "166662                      5626                      5651  \n",
       "233967                      6739                      6765  \n",
       "298665                      9014                      9040  "
      ]
     },
     "execution_count": 87,
     "metadata": {},
     "output_type": "execute_result"
    }
   ],
   "source": [
    "allpeptides_subset_df[['mz','binned_rect_mz_lower','binned_rect_mz_upper','binned_rect_mz_idx_lower','binned_rect_mz_idx_upper']].head()"
   ]
  },
  {
   "cell_type": "code",
   "execution_count": 88,
   "metadata": {},
   "outputs": [
    {
     "data": {
      "image/png": "[encoded data removed]",
      "text/plain": [
       "<Figure size 720x720 with 1 Axes>"
      ]
     },
     "metadata": {
      "needs_background": "light"
     },
     "output_type": "display_data"
    }
   ],
   "source": [
    "# overlay the image with MQ feature locations\n",
    "import matplotlib.patches as patches\n",
    "from matplotlib import colors, cm, pyplot as plt\n",
    "\n",
    "# the m/z range to display\n",
    "mz_display_lower = 700\n",
    "mz_display_upper = 718\n",
    "\n",
    "# the scan range to display\n",
    "scan_display_lower = 1\n",
    "scan_display_upper = 910\n",
    "\n",
    "mz_display_idx_lower = int(np.digitize(mz_display_lower, mz_bins))-1\n",
    "mz_display_idx_upper = int(np.digitize(mz_display_upper, mz_bins))-1\n",
    "\n",
    "f, ax1 = plt.subplots()\n",
    "\n",
    "f.set_figheight(10)\n",
    "f.set_figwidth(10)\n",
    "\n",
    "plt.xlabel('m/z')\n",
    "plt.ylabel('scan')\n",
    "plt.margins(0.06)\n",
    "\n",
    "# show the image\n",
    "cmap = cm.get_cmap('gist_yarg')\n",
    "# cmap = cm.get_cmap('PuRd')\n",
    "cmap_value_lower = 1\n",
    "cmap_value_upper = 150\n",
    "ax1.imshow(intensity_array[scan_display_lower:scan_display_upper,mz_display_idx_lower:mz_display_idx_upper], cmap=cmap, norm=colors.Normalize(vmin=cmap_value_lower, vmax=cmap_value_upper, clip=True), interpolation='none', aspect='auto', extent=[mz_display_lower,mz_display_upper,scan_display_upper,scan_display_lower])\n",
    "\n",
    "# overlay the MQ feature rectangles\n",
    "ap_df = allpeptides_subset_df\n",
    "for r in zip(ap_df.mq_feature_id,ap_df.mz,ap_df.charge_state,ap_df.isotope_count,ap_df.binned_rect_mz_lower,ap_df.binned_rect_mz_upper,ap_df.scan_lower,ap_df.scan_upper,ap_df.mz_ppm_tolerance):\n",
    "    mq_feature_id = int(r[0])\n",
    "    mq_feature_mz = r[1]\n",
    "    charge_state = int(r[2])\n",
    "    isotope_count = int(r[3])\n",
    "\n",
    "    expected_isotope_spacing_mz = DELTA_MZ / charge_state\n",
    "\n",
    "    # determine the bounding box coordinates for m/z and scan in real space\n",
    "    rect_mz_lower = r[4]\n",
    "    rect_mz_upper = r[5]\n",
    "    rect_mz_range = rect_mz_upper - rect_mz_lower\n",
    "\n",
    "    rect_scan_lower = int(r[6])\n",
    "    rect_scan_upper = int(r[7])\n",
    "    rect_scan_range = rect_scan_upper - rect_scan_lower\n",
    "    \n",
    "    # draw the rectangle for the feature's extent\n",
    "    mq_feature_rect = patches.Rectangle((rect_mz_lower,rect_scan_lower),rect_mz_range,rect_scan_range,linewidth=1,linestyle='-',edgecolor='r',facecolor='none', label='feature')\n",
    "    ax1.add_patch(mq_feature_rect)\n",
    "\n",
    "    # draw the isotopes\n",
    "    mz_ppm_tolerance = r[8]\n",
    "    isotope_base_mz_lower = mq_feature_mz - mz_ppm_tolerance\n",
    "    isotope_base_mz_upper = mq_feature_mz + mz_ppm_tolerance\n",
    "    for isotope_idx in range(0,isotope_count):\n",
    "        isotope_mz_lower = isotope_base_mz_lower + (isotope_idx * expected_isotope_spacing_mz)\n",
    "        isotope_mz_upper = isotope_base_mz_upper + (isotope_idx * expected_isotope_spacing_mz)\n",
    "        isotope_rect = patches.Rectangle((isotope_mz_lower,rect_scan_lower),isotope_mz_upper-isotope_mz_lower,rect_scan_range,linewidth=2,linestyle=':',edgecolor='g',facecolor='none', label='isotope')\n",
    "        ax1.add_patch(isotope_rect)\n",
    "    \n",
    "    # draw the feature label\n",
    "    text_style = dict(size=10, color='red')\n",
    "    text_x = rect_mz_lower\n",
    "    text_y = rect_scan_lower-0.5\n",
    "    if (text_x >= mz_display_lower) and (text_x <= mz_display_upper) and (text_y >= scan_display_lower) and (text_y <= scan_display_upper):\n",
    "        ax1.text(text_x, text_y, \"{}, +{}, {} iso\".format(mq_feature_id,charge_state,isotope_count), **text_style)\n",
    "\n"
   ]
  },
  {
   "cell_type": "code",
   "execution_count": 89,
   "metadata": {},
   "outputs": [],
   "source": [
    "PIXELS_PER_MZ_BIN = 5\n",
    "PIXELS_PER_SCAN = 1"
   ]
  },
  {
   "cell_type": "code",
   "execution_count": 90,
   "metadata": {},
   "outputs": [],
   "source": [
    "# will stretch the image to these dimensions\n",
    "TILE_HEIGHT = SCAN_MAX\n",
    "TILE_WIDTH = TILE_HEIGHT"
   ]
  },
  {
   "cell_type": "code",
   "execution_count": 91,
   "metadata": {},
   "outputs": [],
   "source": [
    "PIXELS_X = MZ_BIN_COUNT * PIXELS_PER_MZ_BIN\n",
    "PIXELS_Y = SCAN_MAX * PIXELS_PER_SCAN\n",
    "MZ_BINS_PER_TILE = int(TILE_WIDTH / PIXELS_PER_MZ_BIN)\n",
    "TILES_PER_FRAME = int(MZ_BIN_COUNT / MZ_BINS_PER_TILE)\n",
    "RESIZE_FACTOR_X = TILE_WIDTH / MZ_BINS_PER_TILE\n"
   ]
  },
  {
   "cell_type": "code",
   "execution_count": 92,
   "metadata": {},
   "outputs": [
    {
     "data": {
      "text/plain": [
       "5.0"
      ]
     },
     "execution_count": 92,
     "metadata": {},
     "output_type": "execute_result"
    }
   ],
   "source": [
    "RESIZE_FACTOR_X"
   ]
  },
  {
   "cell_type": "code",
   "execution_count": 93,
   "metadata": {},
   "outputs": [
    {
     "data": {
      "text/plain": [
       "182"
      ]
     },
     "execution_count": 93,
     "metadata": {},
     "output_type": "execute_result"
    }
   ],
   "source": [
    "MZ_BINS_PER_TILE"
   ]
  },
  {
   "cell_type": "code",
   "execution_count": 94,
   "metadata": {},
   "outputs": [
    {
     "data": {
      "text/plain": [
       "87"
      ]
     },
     "execution_count": 94,
     "metadata": {},
     "output_type": "execute_result"
    }
   ],
   "source": [
    "TILES_PER_FRAME"
   ]
  },
  {
   "cell_type": "code",
   "execution_count": 95,
   "metadata": {},
   "outputs": [],
   "source": [
    "# convert the intensity array to an image\n",
    "df = pd.DataFrame(intensity_array).stack().rename_axis(['y', 'x']).reset_index(name='intensity')\n",
    "\n",
    "# remove all the zero-intensity elements\n",
    "df = df[df.intensity > 0]"
   ]
  },
  {
   "cell_type": "code",
   "execution_count": 96,
   "metadata": {},
   "outputs": [
    {
     "data": {
      "text/plain": [
       "239199"
      ]
     },
     "execution_count": 96,
     "metadata": {},
     "output_type": "execute_result"
    }
   ],
   "source": [
    "len(df)"
   ]
  },
  {
   "cell_type": "code",
   "execution_count": 97,
   "metadata": {},
   "outputs": [
    {
     "data": {
      "text/html": [
       "<div>\n",
       "<style scoped>\n",
       "    .dataframe tbody tr th:only-of-type {\n",
       "        vertical-align: middle;\n",
       "    }\n",
       "\n",
       "    .dataframe tbody tr th {\n",
       "        vertical-align: top;\n",
       "    }\n",
       "\n",
       "    .dataframe thead th {\n",
       "        text-align: right;\n",
       "    }\n",
       "</style>\n",
       "<table border=\"1\" class=\"dataframe\">\n",
       "  <thead>\n",
       "    <tr style=\"text-align: right;\">\n",
       "      <th></th>\n",
       "      <th>y</th>\n",
       "      <th>x</th>\n",
       "      <th>intensity</th>\n",
       "    </tr>\n",
       "  </thead>\n",
       "  <tbody>\n",
       "    <tr>\n",
       "      <th>546133</th>\n",
       "      <td>34</td>\n",
       "      <td>2099</td>\n",
       "      <td>79</td>\n",
       "    </tr>\n",
       "    <tr>\n",
       "      <th>553355</th>\n",
       "      <td>34</td>\n",
       "      <td>9321</td>\n",
       "      <td>9</td>\n",
       "    </tr>\n",
       "    <tr>\n",
       "      <th>573658</th>\n",
       "      <td>35</td>\n",
       "      <td>13623</td>\n",
       "      <td>9</td>\n",
       "    </tr>\n",
       "    <tr>\n",
       "      <th>575793</th>\n",
       "      <td>35</td>\n",
       "      <td>15758</td>\n",
       "      <td>9</td>\n",
       "    </tr>\n",
       "    <tr>\n",
       "      <th>578473</th>\n",
       "      <td>36</td>\n",
       "      <td>2437</td>\n",
       "      <td>136</td>\n",
       "    </tr>\n",
       "  </tbody>\n",
       "</table>\n",
       "</div>"
      ],
      "text/plain": [
       "         y      x  intensity\n",
       "546133  34   2099         79\n",
       "553355  34   9321          9\n",
       "573658  35  13623          9\n",
       "575793  35  15758          9\n",
       "578473  36   2437        136"
      ]
     },
     "execution_count": 97,
     "metadata": {},
     "output_type": "execute_result"
    }
   ],
   "source": [
    "df.head()"
   ]
  },
  {
   "cell_type": "code",
   "execution_count": 98,
   "metadata": {},
   "outputs": [
    {
     "data": {
      "text/plain": [
       "13128"
      ]
     },
     "execution_count": 98,
     "metadata": {},
     "output_type": "execute_result"
    }
   ],
   "source": [
    "intensity_array.max()"
   ]
  },
  {
   "cell_type": "code",
   "execution_count": 99,
   "metadata": {},
   "outputs": [
    {
     "name": "stdout",
     "output_type": "stream",
     "text": [
      "(251, 252, 191, 255)\n"
     ]
    }
   ],
   "source": [
    "norm=colors.Normalize(vmin=intensity_array.min(), vmax=intensity_array.max(), clip=False)\n",
    "cmap = cm.get_cmap('magma')\n",
    "print(cmap(norm(intensity_array.max()), bytes=True))"
   ]
  },
  {
   "cell_type": "code",
   "execution_count": 100,
   "metadata": {},
   "outputs": [],
   "source": [
    "def convert_to_colour(normed_intensity):\n",
    "    return cmap(normed_intensity, bytes=True)[:3]"
   ]
  },
  {
   "cell_type": "code",
   "execution_count": 101,
   "metadata": {},
   "outputs": [
    {
     "name": "stdout",
     "output_type": "stream",
     "text": [
      "CPU times: user 3.95 s, sys: 29.9 ms, total: 3.98 s\n",
      "Wall time: 4.01 s\n"
     ]
    }
   ],
   "source": [
    "%%time\n",
    "colour_l = []\n",
    "for r in zip(df.intensity):\n",
    "    colour_l.append((convert_to_colour(r[0])))\n",
    "df['colour'] = colour_l"
   ]
  },
  {
   "cell_type": "code",
   "execution_count": 102,
   "metadata": {},
   "outputs": [
    {
     "data": {
      "text/html": [
       "<div>\n",
       "<style scoped>\n",
       "    .dataframe tbody tr th:only-of-type {\n",
       "        vertical-align: middle;\n",
       "    }\n",
       "\n",
       "    .dataframe tbody tr th {\n",
       "        vertical-align: top;\n",
       "    }\n",
       "\n",
       "    .dataframe thead th {\n",
       "        text-align: right;\n",
       "    }\n",
       "</style>\n",
       "<table border=\"1\" class=\"dataframe\">\n",
       "  <thead>\n",
       "    <tr style=\"text-align: right;\">\n",
       "      <th></th>\n",
       "      <th>y</th>\n",
       "      <th>x</th>\n",
       "      <th>intensity</th>\n",
       "      <th>colour</th>\n",
       "    </tr>\n",
       "  </thead>\n",
       "  <tbody>\n",
       "    <tr>\n",
       "      <th>546133</th>\n",
       "      <td>34</td>\n",
       "      <td>2099</td>\n",
       "      <td>79</td>\n",
       "      <td>(104, 27, 128)</td>\n",
       "    </tr>\n",
       "    <tr>\n",
       "      <th>553355</th>\n",
       "      <td>34</td>\n",
       "      <td>9321</td>\n",
       "      <td>9</td>\n",
       "      <td>(4, 3, 19)</td>\n",
       "    </tr>\n",
       "    <tr>\n",
       "      <th>573658</th>\n",
       "      <td>35</td>\n",
       "      <td>13623</td>\n",
       "      <td>9</td>\n",
       "      <td>(4, 3, 19)</td>\n",
       "    </tr>\n",
       "    <tr>\n",
       "      <th>575793</th>\n",
       "      <td>35</td>\n",
       "      <td>15758</td>\n",
       "      <td>9</td>\n",
       "      <td>(4, 3, 19)</td>\n",
       "    </tr>\n",
       "    <tr>\n",
       "      <th>578473</th>\n",
       "      <td>36</td>\n",
       "      <td>2437</td>\n",
       "      <td>136</td>\n",
       "      <td>(195, 59, 116)</td>\n",
       "    </tr>\n",
       "  </tbody>\n",
       "</table>\n",
       "</div>"
      ],
      "text/plain": [
       "         y      x  intensity          colour\n",
       "546133  34   2099         79  (104, 27, 128)\n",
       "553355  34   9321          9      (4, 3, 19)\n",
       "573658  35  13623          9      (4, 3, 19)\n",
       "575793  35  15758          9      (4, 3, 19)\n",
       "578473  36   2437        136  (195, 59, 116)"
      ]
     },
     "execution_count": 102,
     "metadata": {},
     "output_type": "execute_result"
    }
   ],
   "source": [
    "df.head()"
   ]
  },
  {
   "cell_type": "code",
   "execution_count": 103,
   "metadata": {},
   "outputs": [],
   "source": [
    "im_array = np.zeros([TILE_HEIGHT, MZ_BIN_COUNT, 3], dtype=np.uint8)  # container for the image\n",
    "im_array[:] = 255 # fill it"
   ]
  },
  {
   "cell_type": "code",
   "execution_count": 104,
   "metadata": {},
   "outputs": [
    {
     "name": "stdout",
     "output_type": "stream",
     "text": [
      "CPU times: user 459 ms, sys: 3.96 ms, total: 463 ms\n",
      "Wall time: 465 ms\n"
     ]
    }
   ],
   "source": [
    "%%time\n",
    "for r in zip(df.x, df.y, df.colour):\n",
    "    x = r[0]\n",
    "    y = r[1]\n",
    "    c = r[2]\n",
    "    im_array[y,x,:] = c"
   ]
  },
  {
   "cell_type": "code",
   "execution_count": 105,
   "metadata": {},
   "outputs": [
    {
     "data": {
      "text/plain": [
       "255"
      ]
     },
     "execution_count": 105,
     "metadata": {},
     "output_type": "execute_result"
    }
   ],
   "source": [
    "im_array.max()"
   ]
  },
  {
   "cell_type": "markdown",
   "metadata": {},
   "source": [
    "Generate tiles for all frames"
   ]
  },
  {
   "cell_type": "code",
   "execution_count": 106,
   "metadata": {},
   "outputs": [],
   "source": [
    "TILE_BASE = '/Users/darylwilding-mcbride/Downloads/yolo-train'\n",
    "PRE_ASSIGNED_FILES_DIR = '{}/pre-assigned'.format(TILE_BASE)\n",
    "OVERLAY_FILES_DIR = '{}/overlay'.format(TILE_BASE)"
   ]
  },
  {
   "cell_type": "code",
   "execution_count": 107,
   "metadata": {},
   "outputs": [],
   "source": [
    "import os, shutil\n",
    "\n",
    "# initialise the directories required for the data set creation\n",
    "if os.path.exists(TILE_BASE):\n",
    "    shutil.rmtree(TILE_BASE)\n",
    "os.makedirs(TILE_BASE)\n",
    "\n",
    "if os.path.exists(PRE_ASSIGNED_FILES_DIR):\n",
    "    shutil.rmtree(PRE_ASSIGNED_FILES_DIR)\n",
    "os.makedirs(PRE_ASSIGNED_FILES_DIR)\n",
    "\n",
    "if os.path.exists(OVERLAY_FILES_DIR):\n",
    "    shutil.rmtree(OVERLAY_FILES_DIR)\n",
    "os.makedirs(OVERLAY_FILES_DIR)\n"
   ]
  },
  {
   "cell_type": "code",
   "execution_count": 108,
   "metadata": {},
   "outputs": [],
   "source": [
    "MAX_CHARGE_STATE = int(allpeptides_df.charge_state.max())"
   ]
  },
  {
   "cell_type": "code",
   "execution_count": 109,
   "metadata": {},
   "outputs": [
    {
     "name": "stdout",
     "output_type": "stream",
     "text": [
      "   charge  instances\n",
      "0       1       9225\n",
      "1       2      36127\n",
      "2       3      17080\n",
      "3       4       3402\n",
      "total number of labelled instances: 65834\n"
     ]
    }
   ],
   "source": [
    "from PIL import Image, ImageFont, ImageDraw, ImageEnhance\n",
    "\n",
    "# count the instances by class\n",
    "instances_df = pd.DataFrame([(x,0) for x in range(1,MAX_CHARGE_STATE+1)], columns=['charge','instances'])\n",
    "\n",
    "for frame_r in zip(ms1_frame_properties_df.frame_id, ms1_frame_properties_df.retention_time_secs):\n",
    "# for frame_r in zip(ms1_frame_properties_df.iloc[:1].frame_id, ms1_frame_properties_df.iloc[:1].retention_time_secs):\n",
    "    frame_id = int(frame_r[0])\n",
    "    frame_rt = frame_r[1]\n",
    "    \n",
    "    # get the features overlapping this frame\n",
    "    allpeptides_frame_overlap_df = allpeptides_df[(allpeptides_df.rt_lower <= frame_rt) & (allpeptides_df.rt_upper >= frame_rt)].copy()\n",
    "\n",
    "    # load the raw frame points\n",
    "    db_conn = sqlite3.connect(CONVERTED_DATABASE_NAME)\n",
    "    raw_points_df = pd.read_sql_query(\"select mz,scan,intensity from frames where frame_id == {}\".format(frame_id), db_conn)\n",
    "    db_conn.close()\n",
    "    \n",
    "    # convert the raw points to an intensity array\n",
    "    frame_intensity_array = np.zeros([SCAN_MAX+1, MZ_BIN_COUNT+1], dtype=np.uint16)  # scratchpad for the intensity value prior to image conversion\n",
    "    for r in zip(raw_points_df.mz,raw_points_df.scan,raw_points_df.intensity):\n",
    "        mz = r[0]\n",
    "        scan = int(r[1])\n",
    "        if (mz >= MZ_MIN) and (mz <= MZ_MAX) and (scan >= SCAN_MIN) and (scan <= SCAN_MAX):\n",
    "            mz_array_idx = int(np.digitize(mz, mz_bins))-1\n",
    "            scan_array_idx = scan\n",
    "            intensity = int(r[2])\n",
    "            frame_intensity_array[scan_array_idx,mz_array_idx] += intensity\n",
    "\n",
    "    # convert the intensity array to a dataframe\n",
    "    intensity_df = pd.DataFrame(frame_intensity_array).stack().rename_axis(['y', 'x']).reset_index(name='intensity')\n",
    "    # remove all the zero-intensity elements\n",
    "    intensity_df = intensity_df[intensity_df.intensity > 0]\n",
    "    # calculate the colour to represent the intensity\n",
    "    norm = colors.Normalize(vmin=frame_intensity_array.min(), vmax=frame_intensity_array.max(), clip=False)\n",
    "    colour_l = []\n",
    "    for r in zip(intensity_df.intensity):\n",
    "        colour_l.append((convert_to_colour(normed_intensity=norm(r[0]))))\n",
    "    intensity_df['colour'] = colour_l\n",
    "\n",
    "    # create an image of the whole frame\n",
    "    frame_im_array = np.zeros([TILE_HEIGHT+1, MZ_BIN_COUNT+1, 3], dtype=np.uint8)  # container for the image\n",
    "    frame_im_array[:] = 255\n",
    "    for r in zip(intensity_df.x, intensity_df.y, intensity_df.colour):\n",
    "        x = r[0]\n",
    "        y = r[1]\n",
    "        c = r[2]\n",
    "        frame_im_array[y,x,:] = c\n",
    "\n",
    "    # write out the image tiles for the frame\n",
    "    for tile_idx in range(TILES_PER_FRAME):\n",
    "        # tile m/z coordinates\n",
    "        tile_base_mz = mz_bins[tile_idx * MZ_BINS_PER_TILE]\n",
    "        tile_width_mz = MZ_BINS_PER_TILE * MZ_BIN_WIDTH\n",
    "        # tile index coordinates\n",
    "        tile_idx_base = int(tile_idx * MZ_BINS_PER_TILE)\n",
    "        tile_idx_width = MZ_BINS_PER_TILE\n",
    "        # extract the subset of the frame for this image\n",
    "        tile_im_array = frame_im_array[:,tile_idx_base:tile_idx_base+tile_idx_width,:]\n",
    "        tile = Image.fromarray(tile_im_array, 'RGB')\n",
    "        tile_with_overlay = Image.fromarray(tile_im_array, 'RGB')\n",
    "\n",
    "        # stretch the image to be square\n",
    "        stretched_tile = tile.resize((TILE_WIDTH, TILE_HEIGHT))\n",
    "        stretched_tile_with_overlay = tile_with_overlay.resize((TILE_WIDTH, TILE_HEIGHT))\n",
    "\n",
    "        # get the MQ features that fully fit in the tile\n",
    "        feature_coordinates = []\n",
    "        ap_df = allpeptides_frame_overlap_df\n",
    "        for feature_r in zip(ap_df.mq_feature_id, ap_df.mz, ap_df.charge_state, ap_df.isotope_count, ap_df.binned_rect_mz_idx_lower, ap_df.binned_rect_mz_idx_upper, ap_df.scan_lower, ap_df.scan_upper):\n",
    "            mq_feature_id = int(feature_r[0])\n",
    "            mq_feature_mz = feature_r[1]\n",
    "            mq_feature_charge_state = int(feature_r[2])\n",
    "            isotope_count = int(feature_r[3])\n",
    "            binned_rect_mz_idx_lower = int(feature_r[4])\n",
    "            binned_rect_mz_idx_upper = int(feature_r[5])\n",
    "            scan_lower = int(feature_r[6])\n",
    "            scan_upper = int(feature_r[7])\n",
    "\n",
    "            # draw the MQ features overlay\n",
    "            draw = ImageDraw.Draw(stretched_tile_with_overlay)\n",
    "            x0 = (binned_rect_mz_idx_lower - tile_idx_base) * RESIZE_FACTOR_X\n",
    "            x1 = (binned_rect_mz_idx_upper - tile_idx_base) * RESIZE_FACTOR_X\n",
    "            y0 = scan_lower\n",
    "            y1 = scan_upper\n",
    "            # text file coordinates\n",
    "            x = (x0 + ((x1 - x0) / 2)) / TILE_WIDTH  # YOLO expects x,y to be the centre point of the object\n",
    "            y = (y0 + ((y1 - y0) / 2)) / TILE_HEIGHT\n",
    "            width = (x1 - x0) / TILE_WIDTH\n",
    "            height = (y1 - y0) / TILE_HEIGHT\n",
    "            object_class = mq_feature_charge_state-1\n",
    "            # draw the MQ feature if its centre is within the tile\n",
    "            if (((x-(width/2)) >= 0) and ((x+(width/2)) <= 1) and ((y-(height/2)) >= 0) and ((y+(height/2)) <= 1)):\n",
    "                draw.rectangle(xy=[(x0, y0), (x1, y1)], fill=None, outline='red')\n",
    "                draw.text((x0, y0-12), \"{}, +{}, {} iso\".format(mq_feature_id,mq_feature_charge_state,isotope_count), font=ImageFont.truetype('/Library/Fonts/Arial.ttf', 10), fill='red')\n",
    "                feature_coordinates.append((\"{} {:.6f} {:.6f} {:.6f} {:.6f}\".format(object_class,x,y,width,height)))\n",
    "                instances_df.loc[(instances_df.charge == mq_feature_charge_state),'instances'] += 1\n",
    "\n",
    "        # write them out\n",
    "        train_filename = '{}/frame-{}-tile-{}-mz-{}-{}.png'.format(PRE_ASSIGNED_FILES_DIR, frame_id, tile_idx, int(tile_base_mz), int(tile_base_mz+tile_width_mz))\n",
    "        train_text_filename = '{}/frame-{}-tile-{}-mz-{}-{}.txt'.format(PRE_ASSIGNED_FILES_DIR, frame_id, tile_idx, int(tile_base_mz), int(tile_base_mz+tile_width_mz))\n",
    "        overlay_filename = '{}/frame-{}-tile-{}-mz-{}-{}.png'.format(OVERLAY_FILES_DIR, frame_id, tile_idx, int(tile_base_mz), int(tile_base_mz+tile_width_mz))\n",
    "        stretched_tile.save(train_filename)\n",
    "        stretched_tile_with_overlay.save(overlay_filename)\n",
    "        # write the text file\n",
    "        with open(train_text_filename, 'w') as f:\n",
    "            for item in feature_coordinates:\n",
    "                f.write(\"%s\\n\" % item)\n",
    "\n",
    "print(\"{}\".format(instances_df))\n",
    "print(\"total number of labelled instances: {}\".format(instances_df.instances.sum()))"
   ]
  },
  {
   "cell_type": "markdown",
   "metadata": {},
   "source": [
    "Split the tiles into training, test, validation sets"
   ]
  },
  {
   "cell_type": "code",
   "execution_count": 110,
   "metadata": {},
   "outputs": [
    {
     "data": {
      "text/plain": [
       "'3.14'"
      ]
     },
     "execution_count": 110,
     "metadata": {},
     "output_type": "execute_result"
    }
   ],
   "source": [
    "\"{:.2f}\".format(3.14235454)"
   ]
  },
  {
   "cell_type": "code",
   "execution_count": 111,
   "metadata": {},
   "outputs": [],
   "source": [
    "# load the file names into a dataframe\n",
    "import glob, os\n",
    "\n",
    "filenames = []\n",
    "for file in glob.glob(\"{}/*.png\".format(PRE_ASSIGNED_FILES_DIR)):\n",
    "    filenames.append((os.path.basename(os.path.splitext(file)[0])))"
   ]
  },
  {
   "cell_type": "code",
   "execution_count": 112,
   "metadata": {},
   "outputs": [],
   "source": [
    "fn_df = pd.DataFrame(filenames, columns=['name'])"
   ]
  },
  {
   "cell_type": "code",
   "execution_count": 113,
   "metadata": {},
   "outputs": [
    {
     "data": {
      "text/html": [
       "<div>\n",
       "<style scoped>\n",
       "    .dataframe tbody tr th:only-of-type {\n",
       "        vertical-align: middle;\n",
       "    }\n",
       "\n",
       "    .dataframe tbody tr th {\n",
       "        vertical-align: top;\n",
       "    }\n",
       "\n",
       "    .dataframe thead th {\n",
       "        text-align: right;\n",
       "    }\n",
       "</style>\n",
       "<table border=\"1\" class=\"dataframe\">\n",
       "  <thead>\n",
       "    <tr style=\"text-align: right;\">\n",
       "      <th></th>\n",
       "      <th>name</th>\n",
       "    </tr>\n",
       "  </thead>\n",
       "  <tbody>\n",
       "    <tr>\n",
       "      <th>0</th>\n",
       "      <td>frame-41027-tile-56-mz-1119-1137</td>\n",
       "    </tr>\n",
       "    <tr>\n",
       "      <th>1</th>\n",
       "      <td>frame-42358-tile-1-mz-118-136</td>\n",
       "    </tr>\n",
       "    <tr>\n",
       "      <th>2</th>\n",
       "      <td>frame-42523-tile-64-mz-1264-1282</td>\n",
       "    </tr>\n",
       "    <tr>\n",
       "      <th>3</th>\n",
       "      <td>frame-41005-tile-47-mz-955-973</td>\n",
       "    </tr>\n",
       "    <tr>\n",
       "      <th>4</th>\n",
       "      <td>frame-42314-tile-68-mz-1337-1355</td>\n",
       "    </tr>\n",
       "  </tbody>\n",
       "</table>\n",
       "</div>"
      ],
      "text/plain": [
       "                               name\n",
       "0  frame-41027-tile-56-mz-1119-1137\n",
       "1     frame-42358-tile-1-mz-118-136\n",
       "2  frame-42523-tile-64-mz-1264-1282\n",
       "3    frame-41005-tile-47-mz-955-973\n",
       "4  frame-42314-tile-68-mz-1337-1355"
      ]
     },
     "execution_count": 113,
     "metadata": {},
     "output_type": "execute_result"
    }
   ],
   "source": [
    "fn_df.head()"
   ]
  },
  {
   "cell_type": "code",
   "execution_count": 114,
   "metadata": {},
   "outputs": [],
   "source": [
    "def train_validate_test_split(df, train_percent=.9, validate_percent=.05, seed=None):\n",
    "    np.random.seed(seed)\n",
    "    perm = np.random.permutation(df.index)\n",
    "    m = len(df.index)\n",
    "    train_end = int(train_percent * m)\n",
    "    validate_end = int(validate_percent * m) + train_end\n",
    "    train = df.loc[perm[:train_end]]\n",
    "    validate = df.loc[perm[train_end:validate_end]]\n",
    "    test = df.loc[perm[validate_end:]]\n",
    "    return train, validate, test\n"
   ]
  },
  {
   "cell_type": "code",
   "execution_count": 115,
   "metadata": {},
   "outputs": [],
   "source": [
    "train_df,validate_df,test_df = train_validate_test_split(fn_df)"
   ]
  },
  {
   "cell_type": "code",
   "execution_count": 116,
   "metadata": {},
   "outputs": [
    {
     "name": "stdout",
     "output_type": "stream",
     "text": [
      "15894 883 884\n"
     ]
    }
   ],
   "source": [
    "print(len(train_df),len(validate_df),len(test_df))"
   ]
  },
  {
   "cell_type": "code",
   "execution_count": 117,
   "metadata": {},
   "outputs": [],
   "source": [
    "import shutil\n",
    "\n",
    "data_dirs = ['train', 'validation', 'test']\n",
    "data_dfs = [train_df, validate_df, test_df]\n"
   ]
  },
  {
   "cell_type": "code",
   "execution_count": 118,
   "metadata": {},
   "outputs": [],
   "source": [
    "DESTINATION_DATASET_BASE = 'data/peptides'\n",
    "LOCAL_DATA_FILES_DIR = '{}/data-files'.format(TILE_BASE)\n",
    "DESTINATION_DATA_FILES_DIR = '{}/data-files'.format(DESTINATION_DATASET_BASE)\n",
    "FILE_LIST_SUFFIX = 'list'"
   ]
  },
  {
   "cell_type": "code",
   "execution_count": 119,
   "metadata": {},
   "outputs": [],
   "source": [
    "# initialise the directories required for the data set organisation\n",
    "if os.path.exists(LOCAL_DATA_FILES_DIR):\n",
    "    shutil.rmtree(LOCAL_DATA_FILES_DIR)\n",
    "os.makedirs(LOCAL_DATA_FILES_DIR)\n"
   ]
  },
  {
   "cell_type": "code",
   "execution_count": 120,
   "metadata": {},
   "outputs": [
    {
     "name": "stdout",
     "output_type": "stream",
     "text": [
      "processing train\n",
      "processing validation\n",
      "processing test\n"
     ]
    }
   ],
   "source": [
    "for idx,dd in enumerate(data_dirs):\n",
    "    print(\"processing {}\".format(dd))\n",
    "    \n",
    "    # initialise the directory for each set\n",
    "    data_dir = \"{}/{}\".format(TILE_BASE, dd)\n",
    "    if os.path.exists(data_dir):\n",
    "        shutil.rmtree(data_dir)\n",
    "    os.makedirs(data_dir)\n",
    "    \n",
    "    # create the prefix column\n",
    "    data_dfs[idx]['text_entry'] = '{}/{}/'.format(DESTINATION_DATASET_BASE, dd) + data_dfs[idx].name + '.png'\n",
    "\n",
    "    # copy the files into their respective directories\n",
    "    for r in zip(data_dfs[idx].name):\n",
    "        shutil.copyfile(\"{}/{}.png\".format(PRE_ASSIGNED_FILES_DIR,r[0]), \"{}/{}/{}.png\".format(TILE_BASE, dd, r[0]))\n",
    "        shutil.copyfile(\"{}/{}.txt\".format(PRE_ASSIGNED_FILES_DIR,r[0]), \"{}/{}/{}.txt\".format(TILE_BASE, dd, r[0]))\n",
    "\n",
    "    # generate the text files for each set\n",
    "    data_dfs[idx].text_entry.to_csv(\"{}/{}-{}.txt\".format(LOCAL_DATA_FILES_DIR, dd, FILE_LIST_SUFFIX), index=False, header=False)"
   ]
  },
  {
   "cell_type": "code",
   "execution_count": 121,
   "metadata": {},
   "outputs": [
    {
     "name": "stdout",
     "output_type": "stream",
     "text": [
      "finished writing /Users/darylwilding-mcbride/Downloads/yolo-train/peptides-obj.names\n",
      "finished writing /Users/darylwilding-mcbride/Downloads/yolo-train/peptides-obj.data\n"
     ]
    }
   ],
   "source": [
    "# create the names and data files for Darknet\n",
    "LOCAL_NAMES_FILENAME = \"{}/peptides-obj.names\".format(TILE_BASE)\n",
    "DESTINATION_NAMES_FILENAME = \"{}/peptides-obj.names\".format(DESTINATION_DATASET_BASE)\n",
    "LOCAL_DATA_FILENAME = \"{}/peptides-obj.data\".format(TILE_BASE)\n",
    "\n",
    "with open(LOCAL_NAMES_FILENAME, 'w') as f:\n",
    "    for charge in range(1,MAX_CHARGE_STATE+1):\n",
    "        f.write(\"charge-{}\\n\".format(charge))\n",
    "\n",
    "print(\"finished writing {}\".format(LOCAL_NAMES_FILENAME))\n",
    "\n",
    "with open(LOCAL_DATA_FILENAME, 'w') as f:\n",
    "    f.write(\"classes={}\\n\".format(MAX_CHARGE_STATE))\n",
    "    f.write(\"train={}\\n\".format(\"{}/{}-{}.txt\".format(DESTINATION_DATA_FILES_DIR, data_dirs[0], FILE_LIST_SUFFIX)))\n",
    "    f.write(\"valid={}\\n\".format(\"{}/{}-{}.txt\".format(DESTINATION_DATA_FILES_DIR, data_dirs[1], FILE_LIST_SUFFIX)))\n",
    "    f.write(\"names={}\\n\".format(DESTINATION_NAMES_FILENAME))\n",
    "    f.write(\"backup=backup/\\n\")\n",
    "\n",
    "print(\"finished writing {}\".format(LOCAL_DATA_FILENAME))\n"
   ]
  },
  {
   "cell_type": "code",
   "execution_count": null,
   "metadata": {},
   "outputs": [],
   "source": []
  }
 ],
 "metadata": {
  "kernelspec": {
   "display_name": "Python 3",
   "language": "python",
   "name": "python3"
  },
  "language_info": {
   "codemirror_mode": {
    "name": "ipython",
    "version": 3
   },
   "file_extension": ".py",
   "mimetype": "text/x-python",
   "name": "python",
   "nbconvert_exporter": "python",
   "pygments_lexer": "ipython3",
   "version": "3.6.7"
  }
 },
 "nbformat": 4,
 "nbformat_minor": 2
}
