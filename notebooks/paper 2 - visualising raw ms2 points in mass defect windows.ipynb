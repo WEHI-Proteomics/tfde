{
 "cells": [
  {
   "cell_type": "code",
   "execution_count": 34,
   "metadata": {},
   "outputs": [],
   "source": [
    "import pandas as pd\n",
    "import numpy as np\n",
    "import sys\n",
    "import matplotlib.pyplot as plt\n",
    "import matplotlib.patches as patches\n",
    "from ms_deisotope import deconvolute_peaks, averagine, scoring\n",
    "from ms_deisotope.deconvolution import peak_retention_strategy\n",
    "import json\n",
    "from os.path import expanduser\n"
   ]
  },
  {
   "cell_type": "code",
   "execution_count": 98,
   "metadata": {},
   "outputs": [],
   "source": [
    "experiment_base_dir = '/media/big-ssd/experiments'\n",
    "experiment_name = 'P3856'\n",
    "precursor_definition_method = 'pasef'\n",
    "run_name = 'P3856_YHE211_1_Slot1-1_1_5104'\n",
    "EXPERIMENT_DIR = \"{}/{}\".format(experiment_base_dir, experiment_name)"
   ]
  },
  {
   "cell_type": "code",
   "execution_count": 112,
   "metadata": {},
   "outputs": [],
   "source": [
    "# select a precursor cuboid id to visualise\n",
    "# FEATURES_DIR = \"{}/features-{}\".format(EXPERIMENT_DIR, precursor_definition_method)\n",
    "# FEATURES_DEDUP_FILE = '{}/exp-{}-run-{}-features-{}-dedup.pkl'.format(FEATURES_DIR, experiment_name, run_name, precursor_definition_method)\n",
    "# d = pd.read_pickle(FEATURES_DEDUP_FILE)\n",
    "# features_df = d['features_df']\n",
    "# precursor_cuboid_id = features_df.sample(n=1).iloc[0].precursor_cuboid_id\n",
    "# precursor_cuboid_id\n",
    "\n",
    "# some good precursors for analysis\n",
    "# precursor_cuboid_id = 23911\n",
    "precursor_cuboid_id = 18601"
   ]
  },
  {
   "cell_type": "code",
   "execution_count": 113,
   "metadata": {},
   "outputs": [],
   "source": [
    "VIS_FILE = '{}/feature-detection-visualisation-{}.pkl'.format(expanduser(\"~\"), precursor_cuboid_id)"
   ]
  },
  {
   "cell_type": "code",
   "execution_count": 114,
   "metadata": {},
   "outputs": [
    {
     "data": {
      "text/plain": [
       "dict_keys(['precursor_cuboid_d', 'wide_ms1_points_df', 'peaks_after_intensity_descent', 'deconvolution_features_df', 'features_df'])"
      ]
     },
     "execution_count": 114,
     "metadata": {},
     "output_type": "execute_result"
    }
   ],
   "source": [
    "# load the visualisation file for this precursor cuboid\n",
    "vis_d = pd.read_pickle(VIS_FILE)\n",
    "vis_d.keys()"
   ]
  },
  {
   "cell_type": "code",
   "execution_count": 115,
   "metadata": {},
   "outputs": [],
   "source": [
    "features_df = vis_d['features_df']"
   ]
  },
  {
   "cell_type": "code",
   "execution_count": 116,
   "metadata": {},
   "outputs": [],
   "source": [
    "fragment_ions_df = pd.DataFrame(json.loads(features_df[(features_df.precursor_cuboid_id == precursor_cuboid_id)].iloc[0].fragment_ions_l))"
   ]
  },
  {
   "cell_type": "code",
   "execution_count": 117,
   "metadata": {},
   "outputs": [
    {
     "data": {
      "text/html": [
       "<div>\n",
       "<style scoped>\n",
       "    .dataframe tbody tr th:only-of-type {\n",
       "        vertical-align: middle;\n",
       "    }\n",
       "\n",
       "    .dataframe tbody tr th {\n",
       "        vertical-align: top;\n",
       "    }\n",
       "\n",
       "    .dataframe thead th {\n",
       "        text-align: right;\n",
       "    }\n",
       "</style>\n",
       "<table border=\"1\" class=\"dataframe\">\n",
       "  <thead>\n",
       "    <tr style=\"text-align: right;\">\n",
       "      <th></th>\n",
       "      <th>singly_protonated_mass</th>\n",
       "      <th>neutral_mass</th>\n",
       "      <th>intensity</th>\n",
       "    </tr>\n",
       "  </thead>\n",
       "  <tbody>\n",
       "    <tr>\n",
       "      <th>0</th>\n",
       "      <td>209.1055</td>\n",
       "      <td>208.0982</td>\n",
       "      <td>179.0</td>\n",
       "    </tr>\n",
       "    <tr>\n",
       "      <th>1</th>\n",
       "      <td>260.1973</td>\n",
       "      <td>259.1901</td>\n",
       "      <td>167.0</td>\n",
       "    </tr>\n",
       "    <tr>\n",
       "      <th>2</th>\n",
       "      <td>300.1194</td>\n",
       "      <td>299.1121</td>\n",
       "      <td>414.0</td>\n",
       "    </tr>\n",
       "    <tr>\n",
       "      <th>3</th>\n",
       "      <td>326.1542</td>\n",
       "      <td>325.1469</td>\n",
       "      <td>186.0</td>\n",
       "    </tr>\n",
       "    <tr>\n",
       "      <th>4</th>\n",
       "      <td>337.1633</td>\n",
       "      <td>336.1560</td>\n",
       "      <td>345.0</td>\n",
       "    </tr>\n",
       "    <tr>\n",
       "      <th>...</th>\n",
       "      <td>...</td>\n",
       "      <td>...</td>\n",
       "      <td>...</td>\n",
       "    </tr>\n",
       "    <tr>\n",
       "      <th>98</th>\n",
       "      <td>961.5345</td>\n",
       "      <td>960.5272</td>\n",
       "      <td>154.0</td>\n",
       "    </tr>\n",
       "    <tr>\n",
       "      <th>99</th>\n",
       "      <td>1119.5584</td>\n",
       "      <td>1118.5511</td>\n",
       "      <td>999.0</td>\n",
       "    </tr>\n",
       "    <tr>\n",
       "      <th>100</th>\n",
       "      <td>1120.5690</td>\n",
       "      <td>1119.5617</td>\n",
       "      <td>397.0</td>\n",
       "    </tr>\n",
       "    <tr>\n",
       "      <th>101</th>\n",
       "      <td>1165.4643</td>\n",
       "      <td>1164.4570</td>\n",
       "      <td>190.0</td>\n",
       "    </tr>\n",
       "    <tr>\n",
       "      <th>102</th>\n",
       "      <td>1180.5741</td>\n",
       "      <td>1179.5668</td>\n",
       "      <td>162.0</td>\n",
       "    </tr>\n",
       "  </tbody>\n",
       "</table>\n",
       "<p>103 rows × 3 columns</p>\n",
       "</div>"
      ],
      "text/plain": [
       "     singly_protonated_mass  neutral_mass  intensity\n",
       "0                  209.1055      208.0982      179.0\n",
       "1                  260.1973      259.1901      167.0\n",
       "2                  300.1194      299.1121      414.0\n",
       "3                  326.1542      325.1469      186.0\n",
       "4                  337.1633      336.1560      345.0\n",
       "..                      ...           ...        ...\n",
       "98                 961.5345      960.5272      154.0\n",
       "99                1119.5584     1118.5511      999.0\n",
       "100               1120.5690     1119.5617      397.0\n",
       "101               1165.4643     1164.4570      190.0\n",
       "102               1180.5741     1179.5668      162.0\n",
       "\n",
       "[103 rows x 3 columns]"
      ]
     },
     "execution_count": 117,
     "metadata": {},
     "output_type": "execute_result"
    }
   ],
   "source": [
    "fragment_ions_df"
   ]
  },
  {
   "cell_type": "code",
   "execution_count": 118,
   "metadata": {},
   "outputs": [],
   "source": [
    "# create the bins for mass defect windows in Da space\n",
    "def generate_mass_defect_windows(mass_defect_window_da_min, mass_defect_window_da_max):\n",
    "    bin_edges_l = []\n",
    "    for nominal_mass in range(mass_defect_window_da_min, mass_defect_window_da_max):\n",
    "        mass_centre = nominal_mass * 1.00048  # from https://www.ncbi.nlm.nih.gov/pmc/articles/PMC3184890/\n",
    "        width = 0.19 + (0.0001 * nominal_mass)\n",
    "        lower_mass = mass_centre - (width / 2)\n",
    "        upper_mass = mass_centre + (width / 2)\n",
    "        bin_edges_l.append((lower_mass, upper_mass))\n",
    "    return bin_edges_l"
   ]
  },
  {
   "cell_type": "code",
   "execution_count": 119,
   "metadata": {},
   "outputs": [],
   "source": [
    "# generate the mass defect windows\n",
    "bins_l = generate_mass_defect_windows(int(fragment_ions_df.neutral_mass.min()), int(fragment_ions_df.neutral_mass.max()))"
   ]
  },
  {
   "cell_type": "code",
   "execution_count": 120,
   "metadata": {},
   "outputs": [],
   "source": [
    "bins = pd.IntervalIndex.from_tuples(bins_l)\n",
    "fragment_ions_df['bin'] = pd.cut(fragment_ions_df.neutral_mass, bins)\n",
    "fragment_ions_df['normalised_intensity'] = fragment_ions_df.intensity / fragment_ions_df.intensity.max()"
   ]
  },
  {
   "cell_type": "code",
   "execution_count": 121,
   "metadata": {},
   "outputs": [],
   "source": [
    "filtered_fragment_ions_df = fragment_ions_df.dropna(subset = ['bin']).copy()\n",
    "filtered_fragment_ions_df.drop('bin', axis=1, inplace=True)\n",
    "filtered_fragment_ions_df['normalised_intensity'] = filtered_fragment_ions_df.intensity / filtered_fragment_ions_df.intensity.max()\n"
   ]
  },
  {
   "cell_type": "code",
   "execution_count": 122,
   "metadata": {},
   "outputs": [
    {
     "name": "stdout",
     "output_type": "stream",
     "text": [
      "removed 24 points (23.3%)\n"
     ]
    }
   ],
   "source": [
    "removed = len(fragment_ions_df) - len(filtered_fragment_ions_df)\n",
    "print('removed {} points ({}%)'.format(removed, round(removed/len(fragment_ions_df)*100,1)))"
   ]
  },
  {
   "cell_type": "code",
   "execution_count": 123,
   "metadata": {},
   "outputs": [],
   "source": [
    "tableau20 = [(31, 119, 180), (174, 199, 232), (255, 127, 14), (255, 187, 120),  \n",
    "             (44, 160, 44), (152, 223, 138), (214, 39, 40), (255, 152, 150),  \n",
    "             (148, 103, 189), (197, 176, 213), (140, 86, 75), (196, 156, 148),  \n",
    "             (227, 119, 194), (247, 182, 210), (127, 127, 127), (199, 199, 199),  \n",
    "             (188, 189, 34), (219, 219, 141), (23, 190, 207), (158, 218, 229)]\n",
    "\n",
    "# Rescale to values between 0 and 1\n",
    "tableau20_mpl = tableau20.copy()\n",
    "for i in range(len(tableau20_mpl)):  \n",
    "    r, g, b = tableau20_mpl[i]  \n",
    "    tableau20_mpl[i] = (r / 255., g / 255., b / 255.)"
   ]
  },
  {
   "cell_type": "code",
   "execution_count": 124,
   "metadata": {
    "scrolled": false
   },
   "outputs": [
    {
     "data": {
      "image/png": "[encoded data removed]",
      "text/plain": [
       "<Figure size 1080x576 with 1 Axes>"
      ]
     },
     "metadata": {
      "needs_background": "light"
     },
     "output_type": "display_data"
    }
   ],
   "source": [
    "f, ax = plt.subplots()\n",
    "colors = ['tab:blue', 'tab:orange', 'tab:green', 'tab:red', 'tab:purple', 'tab:brown', 'tab:pink', 'tab:gray', 'tab:olive', 'tab:cyan']\n",
    "\n",
    "# plot the raw data\n",
    "markerline, stemlines, baseline = ax.stem(fragment_ions_df.neutral_mass, fragment_ions_df.normalised_intensity, markerfmt=\" \", use_line_collection=True, label='before mass defect filter')\n",
    "plt.setp(markerline, 'color', 'tab:green')\n",
    "plt.setp(stemlines, 'color', 'tab:green')\n",
    "plt.setp(baseline, 'color', 'tab:gray')\n",
    "\n",
    "# plot the filtered data\n",
    "markerline, stemlines, baseline = ax.stem(filtered_fragment_ions_df.neutral_mass, -filtered_fragment_ions_df.normalised_intensity, markerfmt=\" \", use_line_collection=True, label='after mass defect filter')\n",
    "plt.setp(markerline, 'color', 'tab:purple')\n",
    "plt.setp(stemlines, 'color', 'tab:purple')\n",
    "plt.setp(baseline, 'color', 'tab:gray')\n",
    "\n",
    "plt.xlabel('neutral mass (Da)')\n",
    "plt.ylabel('normalised intensity')\n",
    "f.set_figheight(8)\n",
    "f.set_figwidth(15)\n",
    "\n",
    "plt.margins(0.06)\n",
    "plt.legend(loc='best')\n",
    "plt.title('Raw ms2 spectra and mass defect windows\\nprecursor cuboid {}, experiment {}, run {}'.format(precursor_cuboid_id, experiment_name, run_name))\n",
    "plt.show()"
   ]
  },
  {
   "cell_type": "code",
   "execution_count": null,
   "metadata": {},
   "outputs": [],
   "source": []
  }
 ],
 "metadata": {
  "kernelspec": {
   "display_name": "Python 3",
   "language": "python",
   "name": "python3"
  },
  "language_info": {
   "codemirror_mode": {
    "name": "ipython",
    "version": 3
   },
   "file_extension": ".py",
   "mimetype": "text/x-python",
   "name": "python",
   "nbconvert_exporter": "python",
   "pygments_lexer": "ipython3",
   "version": "3.8.5"
  }
 },
 "nbformat": 4,
 "nbformat_minor": 2
}
