{
 "cells": [
  {
   "cell_type": "code",
   "execution_count": 1,
   "metadata": {},
   "outputs": [],
   "source": [
    "import pandas as pd\n",
    "import matplotlib.pyplot as plt\n",
    "import sqlite3\n",
    "import json\n",
    "import numpy as np"
   ]
  },
  {
   "cell_type": "code",
   "execution_count": 2,
   "metadata": {},
   "outputs": [],
   "source": [
    "EXPERIMENT_NAME = 'P3856'\n",
    "RUN_NAME = 'P3856_YHE211_1_Slot1-1_1_5104'"
   ]
  },
  {
   "cell_type": "code",
   "execution_count": 3,
   "metadata": {},
   "outputs": [],
   "source": [
    "extracted_features_df = pd.read_pickle('/Users/darylwilding-mcbride/Downloads/experiments/P3856/summarised-results/extracted-features-YHE211_1.pkl')"
   ]
  },
  {
   "cell_type": "code",
   "execution_count": 4,
   "metadata": {},
   "outputs": [
    {
     "data": {
      "text/html": [
       "<div>\n",
       "<style scoped>\n",
       "    .dataframe tbody tr th:only-of-type {\n",
       "        vertical-align: middle;\n",
       "    }\n",
       "\n",
       "    .dataframe tbody tr th {\n",
       "        vertical-align: top;\n",
       "    }\n",
       "\n",
       "    .dataframe thead th {\n",
       "        text-align: right;\n",
       "    }\n",
       "</style>\n",
       "<table border=\"1\" class=\"dataframe\">\n",
       "  <thead>\n",
       "    <tr style=\"text-align: right;\">\n",
       "      <th></th>\n",
       "      <th>sequence</th>\n",
       "      <th>charge</th>\n",
       "      <th>file_idx</th>\n",
       "      <th>peak_idx</th>\n",
       "      <th>target_coords</th>\n",
       "      <th>theoretical_mz</th>\n",
       "      <th>q_value</th>\n",
       "      <th>delta_mz_ppm</th>\n",
       "      <th>delta_rt</th>\n",
       "      <th>delta_scan</th>\n",
       "      <th>...</th>\n",
       "      <th>monoisotopic_mz_delta_ppm</th>\n",
       "      <th>number_of_isotopes</th>\n",
       "      <th>peak_proportion_intensity</th>\n",
       "      <th>peak_proportions</th>\n",
       "      <th>rt_apex</th>\n",
       "      <th>scan_apex</th>\n",
       "      <th>run_name</th>\n",
       "      <th>run_group</th>\n",
       "      <th>short_run_name</th>\n",
       "      <th>human</th>\n",
       "    </tr>\n",
       "  </thead>\n",
       "  <tbody>\n",
       "    <tr>\n",
       "      <th>20042</th>\n",
       "      <td>TTGIVMDSGDGVTHTVPIYEGYALPHAILR</td>\n",
       "      <td>3</td>\n",
       "      <td>29</td>\n",
       "      <td>0</td>\n",
       "      <td>{\"mono_mz\": 1061.8763085650646, \"scan_apex\": 1...</td>\n",
       "      <td>1061.876276</td>\n",
       "      <td>0.000004</td>\n",
       "      <td>-0.070295</td>\n",
       "      <td>-0.000048</td>\n",
       "      <td>0.045931</td>\n",
       "      <td>...</td>\n",
       "      <td>-0.070295</td>\n",
       "      <td>7</td>\n",
       "      <td>37280</td>\n",
       "      <td>{\"ccs_proportion\": 0.1, \"rt_proportion\": 0.8}</td>\n",
       "      <td>2002.403237</td>\n",
       "      <td>130</td>\n",
       "      <td>P3856_YHE211_1_Slot1-1_1_5104</td>\n",
       "      <td>YHE211</td>\n",
       "      <td>YHE211_1</td>\n",
       "      <td>1</td>\n",
       "    </tr>\n",
       "    <tr>\n",
       "      <th>16661</th>\n",
       "      <td>Q[-17.0265]TIDNSQGAYQEAFDISK</td>\n",
       "      <td>2</td>\n",
       "      <td>29</td>\n",
       "      <td>0</td>\n",
       "      <td>{\"mono_mz\": 999.4583419406152, \"scan_apex\": 26...</td>\n",
       "      <td>999.457976</td>\n",
       "      <td>0.000006</td>\n",
       "      <td>0.589710</td>\n",
       "      <td>-0.002484</td>\n",
       "      <td>-0.009159</td>\n",
       "      <td>...</td>\n",
       "      <td>0.589710</td>\n",
       "      <td>7</td>\n",
       "      <td>512695</td>\n",
       "      <td>{\"ccs_proportion\": 0.1, \"rt_proportion\": 0.8}</td>\n",
       "      <td>1839.929500</td>\n",
       "      <td>258</td>\n",
       "      <td>P3856_YHE211_1_Slot1-1_1_5104</td>\n",
       "      <td>YHE211</td>\n",
       "      <td>YHE211_1</td>\n",
       "      <td>1</td>\n",
       "    </tr>\n",
       "    <tr>\n",
       "      <th>12994</th>\n",
       "      <td>LVSSPCCIVTSTYGWTANMER</td>\n",
       "      <td>2</td>\n",
       "      <td>29</td>\n",
       "      <td>0</td>\n",
       "      <td>{\"mono_mz\": 1216.5563435607473, \"scan_apex\": 8...</td>\n",
       "      <td>1216.555790</td>\n",
       "      <td>0.000004</td>\n",
       "      <td>-1.873783</td>\n",
       "      <td>-0.001901</td>\n",
       "      <td>-0.101580</td>\n",
       "      <td>...</td>\n",
       "      <td>-1.873783</td>\n",
       "      <td>7</td>\n",
       "      <td>116574</td>\n",
       "      <td>{\"ccs_proportion\": 0.1, \"rt_proportion\": 0.8}</td>\n",
       "      <td>2035.739294</td>\n",
       "      <td>75</td>\n",
       "      <td>P3856_YHE211_1_Slot1-1_1_5104</td>\n",
       "      <td>YHE211</td>\n",
       "      <td>YHE211_1</td>\n",
       "      <td>1</td>\n",
       "    </tr>\n",
       "  </tbody>\n",
       "</table>\n",
       "<p>3 rows × 71 columns</p>\n",
       "</div>"
      ],
      "text/plain": [
       "                             sequence  charge  file_idx  peak_idx  \\\n",
       "20042  TTGIVMDSGDGVTHTVPIYEGYALPHAILR       3        29         0   \n",
       "16661    Q[-17.0265]TIDNSQGAYQEAFDISK       2        29         0   \n",
       "12994           LVSSPCCIVTSTYGWTANMER       2        29         0   \n",
       "\n",
       "                                           target_coords  theoretical_mz  \\\n",
       "20042  {\"mono_mz\": 1061.8763085650646, \"scan_apex\": 1...     1061.876276   \n",
       "16661  {\"mono_mz\": 999.4583419406152, \"scan_apex\": 26...      999.457976   \n",
       "12994  {\"mono_mz\": 1216.5563435607473, \"scan_apex\": 8...     1216.555790   \n",
       "\n",
       "        q_value  delta_mz_ppm  delta_rt  delta_scan  ...  \\\n",
       "20042  0.000004     -0.070295 -0.000048    0.045931  ...   \n",
       "16661  0.000006      0.589710 -0.002484   -0.009159  ...   \n",
       "12994  0.000004     -1.873783 -0.001901   -0.101580  ...   \n",
       "\n",
       "       monoisotopic_mz_delta_ppm  number_of_isotopes  \\\n",
       "20042                  -0.070295                   7   \n",
       "16661                   0.589710                   7   \n",
       "12994                  -1.873783                   7   \n",
       "\n",
       "       peak_proportion_intensity  \\\n",
       "20042                      37280   \n",
       "16661                     512695   \n",
       "12994                     116574   \n",
       "\n",
       "                                    peak_proportions      rt_apex  scan_apex  \\\n",
       "20042  {\"ccs_proportion\": 0.1, \"rt_proportion\": 0.8}  2002.403237        130   \n",
       "16661  {\"ccs_proportion\": 0.1, \"rt_proportion\": 0.8}  1839.929500        258   \n",
       "12994  {\"ccs_proportion\": 0.1, \"rt_proportion\": 0.8}  2035.739294         75   \n",
       "\n",
       "                            run_name  run_group  short_run_name  human  \n",
       "20042  P3856_YHE211_1_Slot1-1_1_5104     YHE211        YHE211_1      1  \n",
       "16661  P3856_YHE211_1_Slot1-1_1_5104     YHE211        YHE211_1      1  \n",
       "12994  P3856_YHE211_1_Slot1-1_1_5104     YHE211        YHE211_1      1  \n",
       "\n",
       "[3 rows x 71 columns]"
      ]
     },
     "execution_count": 4,
     "metadata": {},
     "output_type": "execute_result"
    }
   ],
   "source": [
    "extracted_features_df[(extracted_features_df.isotope_idx_not_in_saturation == 4)].sample(n=3)"
   ]
  },
  {
   "cell_type": "code",
   "execution_count": 5,
   "metadata": {},
   "outputs": [],
   "source": [
    "selected_sequence = 'MSVQPTVSLGGFEITPPVVLR'\n",
    "selected_sequence_charge = 2"
   ]
  },
  {
   "cell_type": "code",
   "execution_count": 6,
   "metadata": {},
   "outputs": [],
   "source": [
    "selected_sequence_df = extracted_features_df[(extracted_features_df.sequence == selected_sequence) & (extracted_features_df.charge == selected_sequence_charge)].iloc[0]"
   ]
  },
  {
   "cell_type": "code",
   "execution_count": 7,
   "metadata": {},
   "outputs": [],
   "source": [
    "isotope_intensities_l = json.loads(selected_sequence_df.isotope_intensities_l)"
   ]
  },
  {
   "cell_type": "code",
   "execution_count": 8,
   "metadata": {},
   "outputs": [],
   "source": [
    "isotope_intensities_df = pd.DataFrame(isotope_intensities_l, columns=['summed_intensity','saturated','inferred_intensity','inferred','isotope_points','isotope_apex_points'])\n"
   ]
  },
  {
   "cell_type": "code",
   "execution_count": 9,
   "metadata": {},
   "outputs": [],
   "source": [
    "isotope_intensities_df['mz'] = isotope_intensities_df.apply(lambda row: row.isotope_points[0][0], axis=1)"
   ]
  },
  {
   "cell_type": "code",
   "execution_count": 10,
   "metadata": {},
   "outputs": [
    {
     "data": {
      "text/html": [
       "<div>\n",
       "<style scoped>\n",
       "    .dataframe tbody tr th:only-of-type {\n",
       "        vertical-align: middle;\n",
       "    }\n",
       "\n",
       "    .dataframe tbody tr th {\n",
       "        vertical-align: top;\n",
       "    }\n",
       "\n",
       "    .dataframe thead th {\n",
       "        text-align: right;\n",
       "    }\n",
       "</style>\n",
       "<table border=\"1\" class=\"dataframe\">\n",
       "  <thead>\n",
       "    <tr style=\"text-align: right;\">\n",
       "      <th></th>\n",
       "      <th>summed_intensity</th>\n",
       "      <th>saturated</th>\n",
       "      <th>inferred_intensity</th>\n",
       "      <th>inferred</th>\n",
       "      <th>isotope_points</th>\n",
       "      <th>isotope_apex_points</th>\n",
       "      <th>mz</th>\n",
       "    </tr>\n",
       "  </thead>\n",
       "  <tbody>\n",
       "    <tr>\n",
       "      <th>0</th>\n",
       "      <td>31095.0</td>\n",
       "      <td>True</td>\n",
       "      <td>46069.0</td>\n",
       "      <td>True</td>\n",
       "      <td>[[1114.107927490229, 59.0, 19997.0, 2220.44705...</td>\n",
       "      <td>[[1114.1131622404166, 92.0, 19962.0, 2216.7417...</td>\n",
       "      <td>1114.107927</td>\n",
       "    </tr>\n",
       "    <tr>\n",
       "      <th>1</th>\n",
       "      <td>35970.0</td>\n",
       "      <td>True</td>\n",
       "      <td>55466.0</td>\n",
       "      <td>True</td>\n",
       "      <td>[[1114.6105109176456, 61.0, 19997.0, 2220.4470...</td>\n",
       "      <td>[[1114.610511007979, 85.0, 19962.0, 2216.74177...</td>\n",
       "      <td>1114.610511</td>\n",
       "    </tr>\n",
       "    <tr>\n",
       "      <th>2</th>\n",
       "      <td>26028.0</td>\n",
       "      <td>True</td>\n",
       "      <td>36074.0</td>\n",
       "      <td>True</td>\n",
       "      <td>[[1115.1132076808312, 76.0, 19997.0, 2220.4470...</td>\n",
       "      <td>[[1115.1132077712061, 89.0, 19962.0, 2216.7417...</td>\n",
       "      <td>1115.113208</td>\n",
       "    </tr>\n",
       "    <tr>\n",
       "      <th>3</th>\n",
       "      <td>16015.0</td>\n",
       "      <td>True</td>\n",
       "      <td>16615.0</td>\n",
       "      <td>True</td>\n",
       "      <td>[[1115.6160177797894, 72.0, 19997.0, 2220.4470...</td>\n",
       "      <td>[[1115.6160178702046, 78.0, 19962.0, 2216.7417...</td>\n",
       "      <td>1115.616018</td>\n",
       "    </tr>\n",
       "    <tr>\n",
       "      <th>4</th>\n",
       "      <td>6021.0</td>\n",
       "      <td>False</td>\n",
       "      <td>6021.0</td>\n",
       "      <td>False</td>\n",
       "      <td>[[1116.113701844599, 76.0, 19997.0, 2220.44705...</td>\n",
       "      <td>[[1116.1137019350545, 80.0, 19962.0, 2216.7417...</td>\n",
       "      <td>1116.113702</td>\n",
       "    </tr>\n",
       "    <tr>\n",
       "      <th>5</th>\n",
       "      <td>2395.0</td>\n",
       "      <td>False</td>\n",
       "      <td>2395.0</td>\n",
       "      <td>False</td>\n",
       "      <td>[[1116.61673743452, 75.0, 19997.0, 2220.447052...</td>\n",
       "      <td>[[1116.616737525016, 75.0, 19962.0, 2216.74177...</td>\n",
       "      <td>1116.616737</td>\n",
       "    </tr>\n",
       "    <tr>\n",
       "      <th>6</th>\n",
       "      <td>752.0</td>\n",
       "      <td>False</td>\n",
       "      <td>752.0</td>\n",
       "      <td>False</td>\n",
       "      <td>[[1117.1198863602135, 96.0, 19997.0, 2220.4470...</td>\n",
       "      <td>[[1117.119886450751, 68.0, 19962.0, 2216.74177...</td>\n",
       "      <td>1117.119886</td>\n",
       "    </tr>\n",
       "  </tbody>\n",
       "</table>\n",
       "</div>"
      ],
      "text/plain": [
       "   summed_intensity  saturated  inferred_intensity  inferred  \\\n",
       "0           31095.0       True             46069.0      True   \n",
       "1           35970.0       True             55466.0      True   \n",
       "2           26028.0       True             36074.0      True   \n",
       "3           16015.0       True             16615.0      True   \n",
       "4            6021.0      False              6021.0     False   \n",
       "5            2395.0      False              2395.0     False   \n",
       "6             752.0      False               752.0     False   \n",
       "\n",
       "                                      isotope_points  \\\n",
       "0  [[1114.107927490229, 59.0, 19997.0, 2220.44705...   \n",
       "1  [[1114.6105109176456, 61.0, 19997.0, 2220.4470...   \n",
       "2  [[1115.1132076808312, 76.0, 19997.0, 2220.4470...   \n",
       "3  [[1115.6160177797894, 72.0, 19997.0, 2220.4470...   \n",
       "4  [[1116.113701844599, 76.0, 19997.0, 2220.44705...   \n",
       "5  [[1116.61673743452, 75.0, 19997.0, 2220.447052...   \n",
       "6  [[1117.1198863602135, 96.0, 19997.0, 2220.4470...   \n",
       "\n",
       "                                 isotope_apex_points           mz  \n",
       "0  [[1114.1131622404166, 92.0, 19962.0, 2216.7417...  1114.107927  \n",
       "1  [[1114.610511007979, 85.0, 19962.0, 2216.74177...  1114.610511  \n",
       "2  [[1115.1132077712061, 89.0, 19962.0, 2216.7417...  1115.113208  \n",
       "3  [[1115.6160178702046, 78.0, 19962.0, 2216.7417...  1115.616018  \n",
       "4  [[1116.1137019350545, 80.0, 19962.0, 2216.7417...  1116.113702  \n",
       "5  [[1116.616737525016, 75.0, 19962.0, 2216.74177...  1116.616737  \n",
       "6  [[1117.119886450751, 68.0, 19962.0, 2216.74177...  1117.119886  "
      ]
     },
     "execution_count": 10,
     "metadata": {},
     "output_type": "execute_result"
    }
   ],
   "source": [
    "isotope_intensities_df"
   ]
  },
  {
   "cell_type": "code",
   "execution_count": 11,
   "metadata": {},
   "outputs": [
    {
     "data": {
      "image/png": "[encoded data removed]",
      "text/plain": [
       "<Figure size 1080x576 with 1 Axes>"
      ]
     },
     "metadata": {
      "needs_background": "light"
     },
     "output_type": "display_data"
    }
   ],
   "source": [
    "f, ax = plt.subplots()\n",
    "colors = ['tab:blue', 'tab:orange', 'tab:green', 'tab:red', 'tab:purple', 'tab:brown', 'tab:pink', 'tab:gray', 'tab:olive', 'tab:cyan']\n",
    "\n",
    "markerline, stemlines, baseline = ax.stem(isotope_intensities_df.mz, isotope_intensities_df.summed_intensity, use_line_collection=True, label='raw intensity')\n",
    "plt.setp(markerline, 'color', 'tab:green')\n",
    "plt.setp(stemlines, 'color', 'tab:green')\n",
    "plt.setp(baseline, 'color', colors[7])\n",
    "plt.setp(markerline, 'alpha', 0.6)\n",
    "plt.setp(stemlines, 'alpha', 0.6)\n",
    "\n",
    "markerline, stemlines, baseline = ax.stem(isotope_intensities_df.mz, isotope_intensities_df.inferred_intensity, use_line_collection=True, label='inferred intensity')\n",
    "plt.setp(markerline, 'color', 'tab:orange')\n",
    "plt.setp(stemlines, 'color', 'tab:orange')\n",
    "plt.setp(baseline, 'color', colors[7])\n",
    "plt.setp(markerline, 'alpha', 0.6)\n",
    "plt.setp(stemlines, 'alpha', 0.6)\n",
    "\n",
    "# highlight the isotopes with inferred intensity\n",
    "adjusted_intensity_df = isotope_intensities_df[(isotope_intensities_df.inferred == True)]\n",
    "ax.plot(adjusted_intensity_df.mz, adjusted_intensity_df.inferred_intensity, marker='o', markerfacecolor='none', markeredgecolor='springgreen', linestyle='', markeredgewidth=2, ms=15, label='isotope in saturation')\n",
    "\n",
    "# highlight the isotopes without inferred intensity\n",
    "not_adjusted_intensity_df = isotope_intensities_df[(isotope_intensities_df.inferred == False)]\n",
    "ax.plot(not_adjusted_intensity_df.mz, not_adjusted_intensity_df.inferred_intensity, marker='o', markerfacecolor='none', markeredgecolor='seagreen', linestyle='', markeredgewidth=2, ms=15, label='isotope not in saturation')\n",
    "\n",
    "plt.xlabel('m/z')\n",
    "plt.ylabel('intensity')\n",
    "f.set_figheight(8)\n",
    "f.set_figwidth(15)\n",
    "plt.margins(0.06)\n",
    "plt.legend(loc='best')\n",
    "plt.title('Isotopes before and after saturation adjustment\\nrun {}, sequence {}, charge {}'.format(RUN_NAME, selected_sequence, selected_sequence_charge))\n",
    "plt.show()"
   ]
  },
  {
   "cell_type": "markdown",
   "metadata": {},
   "source": [
    "#### distribution of isotopes in saturation"
   ]
  },
  {
   "cell_type": "code",
   "execution_count": 12,
   "metadata": {},
   "outputs": [],
   "source": [
    "df = extracted_features_df[(extracted_features_df.isotope_idx_not_in_saturation > 0)]"
   ]
  },
  {
   "cell_type": "code",
   "execution_count": 23,
   "metadata": {},
   "outputs": [
    {
     "data": {
      "image/png": "[encoded data removed]",
      "text/plain": [
       "<Figure size 1080x576 with 1 Axes>"
      ]
     },
     "metadata": {
      "needs_background": "light"
     },
     "output_type": "display_data"
    }
   ],
   "source": [
    "f, ax1 = plt.subplots()\n",
    "f.set_figheight(8)\n",
    "f.set_figwidth(15)\n",
    "\n",
    "plt.margins(0.06)\n",
    "plt.title('')\n",
    "\n",
    "counts = np.bincount(df.isotope_idx_not_in_saturation)\n",
    "ax1.bar(range(df.isotope_idx_not_in_saturation.max()+1), counts, width=0.5, align='center')\n",
    "ax1.set(xticks=range(1,df.isotope_idx_not_in_saturation.max()+1), xlim=[0, df.isotope_idx_not_in_saturation.max()+1])\n",
    "\n",
    "plt.xlabel('isotope index used to infer the monoisotopic peak intensity')\n",
    "plt.ylabel('count')\n",
    "plt.title('distribution of isotope index used to infer the intensity of the monoisotopic peak (index=0)\\nrun {}, experiment {}'.format(RUN_NAME, EXPERIMENT_NAME))\n",
    "\n",
    "plt.show()"
   ]
  },
  {
   "cell_type": "code",
   "execution_count": null,
   "metadata": {},
   "outputs": [],
   "source": []
  }
 ],
 "metadata": {
  "kernelspec": {
   "display_name": "Python 3",
   "language": "python",
   "name": "python3"
  },
  "language_info": {
   "codemirror_mode": {
    "name": "ipython",
    "version": 3
   },
   "file_extension": ".py",
   "mimetype": "text/x-python",
   "name": "python",
   "nbconvert_exporter": "python",
   "pygments_lexer": "ipython3",
   "version": "3.8.5"
  }
 },
 "nbformat": 4,
 "nbformat_minor": 2
}
