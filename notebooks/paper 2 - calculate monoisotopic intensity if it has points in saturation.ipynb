{
 "cells": [
  {
   "cell_type": "code",
   "execution_count": 1,
   "metadata": {},
   "outputs": [],
   "source": [
    "import pandas as pd\n",
    "import matplotlib.pyplot as plt\n",
    "import sqlite3\n",
    "import json\n",
    "import numpy as np\n",
    "from os.path import expanduser"
   ]
  },
  {
   "cell_type": "code",
   "execution_count": 2,
   "metadata": {},
   "outputs": [],
   "source": [
    "experiment_name = 'P3856'\n",
    "feature_detection_method = 'pasef'\n",
    "run_name = 'P3856_YHE211_1_Slot1-1_1_5104'\n",
    "\n",
    "RESULTS_BASE_DIR = '/media/big-ssd/results-{}'.format(experiment_name)\n",
    "\n",
    "IDENTIFICATIONS_WITH_CS_DIR = '{}/P3856_YHE211_1_Slot1-1_1_5104-cs-true-fmdw-false-2021-08-31-19-13-56/identifications-pasef'.format(RESULTS_BASE_DIR)\n",
    "IDENTIFICATIONS_WITH_CS_FILE = '{}/exp-{}-identifications-{}-recalibrated.feather'.format(IDENTIFICATIONS_WITH_CS_DIR, experiment_name, feature_detection_method)"
   ]
  },
  {
   "cell_type": "code",
   "execution_count": 3,
   "metadata": {},
   "outputs": [],
   "source": [
    "idents_df = pd.read_feather(IDENTIFICATIONS_WITH_CS_FILE)"
   ]
  },
  {
   "cell_type": "code",
   "execution_count": 4,
   "metadata": {},
   "outputs": [],
   "source": [
    "idents_df = idents_df[idents_df['percolator q-value'] < 0.01]"
   ]
  },
  {
   "cell_type": "code",
   "execution_count": 5,
   "metadata": {},
   "outputs": [
    {
     "data": {
      "text/plain": [
       "Index(['index', 'mono_mz_lower', 'mono_mz_upper', 'scan_apex', 'scan_lower',\n",
       "       'scan_upper', 'rt_apex', 'rt_lower', 'rt_upper',\n",
       "       'intensity_without_saturation_correction',\n",
       "       'intensity_with_saturation_correction',\n",
       "       'mono_intensity_adjustment_outcome', 'isotopic_peaks',\n",
       "       'coelution_coefficient', 'mobility_coefficient', 'scan_df', 'rt_df',\n",
       "       'monoisotopic_mz', 'charge', 'monoisotopic_mass', 'feature_intensity',\n",
       "       'envelope', 'isotope_count', 'deconvolution_score',\n",
       "       'precursor_cuboid_id', 'fragment_ions_l', 'fmdw_before_after_d',\n",
       "       'feature_id', 'run_name', 'predicted_mass_error',\n",
       "       'recalibrated_monoisotopic_mass', 'recalibrated_monoisotopic_mz',\n",
       "       'file_idx', 'spectrum precursor m/z', 'spectrum neutral mass',\n",
       "       'peptide mass', 'percolator score', 'percolator q-value',\n",
       "       'percolator PEP', 'total matches/spectrum', 'sequence', 'protein id',\n",
       "       'flanking aa', 'observed_monoisotopic_mass', 'theoretical_peptide_mass',\n",
       "       'mass_accuracy_ppm', 'mass_error'],\n",
       "      dtype='object')"
      ]
     },
     "execution_count": 5,
     "metadata": {},
     "output_type": "execute_result"
    }
   ],
   "source": [
    "idents_df.columns"
   ]
  },
  {
   "cell_type": "code",
   "execution_count": 6,
   "metadata": {},
   "outputs": [
    {
     "data": {
      "text/plain": [
       "monoisotopic_not_saturated         95.335040\n",
       "monoisotopic_saturated_adjusted     4.606794\n",
       "no_nonsaturated_isotopes            0.046533\n",
       "could_not_calculate_phr             0.011633\n",
       "Name: mono_intensity_adjustment_outcome, dtype: float64"
      ]
     },
     "execution_count": 6,
     "metadata": {},
     "output_type": "execute_result"
    }
   ],
   "source": [
    "idents_df.mono_intensity_adjustment_outcome.value_counts(normalize=True) * 100"
   ]
  },
  {
   "cell_type": "code",
   "execution_count": 7,
   "metadata": {},
   "outputs": [
    {
     "data": {
      "text/plain": [
       "84     28241\n",
       "79     20186\n",
       "106    34331\n",
       "119    33451\n",
       "120    36512\n",
       "Name: precursor_cuboid_id, dtype: uint16"
      ]
     },
     "execution_count": 7,
     "metadata": {},
     "output_type": "execute_result"
    }
   ],
   "source": [
    "# find the precursor id of an ident that has high intensity but was not in saturation\n",
    "idents_df = idents_df.sort_values(by=['feature_intensity'], ascending=False, inplace=False)\n",
    "idents_df[(idents_df.mono_intensity_adjustment_outcome == 'monoisotopic_not_saturated')].head(5).precursor_cuboid_id"
   ]
  },
  {
   "cell_type": "code",
   "execution_count": 8,
   "metadata": {},
   "outputs": [
    {
     "data": {
      "text/plain": [
       "34610    39979\n",
       "34126    40986\n",
       "33080    29811\n",
       "33903    41807\n",
       "30431    23831\n",
       "Name: precursor_cuboid_id, dtype: uint16"
      ]
     },
     "execution_count": 8,
     "metadata": {},
     "output_type": "execute_result"
    }
   ],
   "source": [
    "idents_df[(idents_df.mono_intensity_adjustment_outcome == 'monoisotopic_not_saturated')].tail(5).precursor_cuboid_id"
   ]
  },
  {
   "cell_type": "code",
   "execution_count": 9,
   "metadata": {},
   "outputs": [
    {
     "data": {
      "text/plain": [
       "21      32594\n",
       "5531    38930\n",
       "4       20324\n",
       "40      31484\n",
       "41      33377\n",
       "Name: precursor_cuboid_id, dtype: uint16"
      ]
     },
     "execution_count": 9,
     "metadata": {},
     "output_type": "execute_result"
    }
   ],
   "source": [
    "idents_df[(idents_df.mono_intensity_adjustment_outcome == 'monoisotopic_saturated_adjusted') & (idents_df.isotope_count > 4)].head(5).precursor_cuboid_id"
   ]
  },
  {
   "cell_type": "markdown",
   "metadata": {},
   "source": [
    "#### select a feature that had its mono in saturation and was adjusted"
   ]
  },
  {
   "cell_type": "code",
   "execution_count": 10,
   "metadata": {},
   "outputs": [],
   "source": [
    "selected_sequence = idents_df.loc[21]"
   ]
  },
  {
   "cell_type": "code",
   "execution_count": 11,
   "metadata": {},
   "outputs": [
    {
     "data": {
      "text/html": [
       "<div>\n",
       "<style scoped>\n",
       "    .dataframe tbody tr th:only-of-type {\n",
       "        vertical-align: middle;\n",
       "    }\n",
       "\n",
       "    .dataframe tbody tr th {\n",
       "        vertical-align: top;\n",
       "    }\n",
       "\n",
       "    .dataframe thead th {\n",
       "        text-align: right;\n",
       "    }\n",
       "</style>\n",
       "<table border=\"1\" class=\"dataframe\">\n",
       "  <thead>\n",
       "    <tr style=\"text-align: right;\">\n",
       "      <th></th>\n",
       "      <th>mz</th>\n",
       "      <th>mz_lower</th>\n",
       "      <th>mz_upper</th>\n",
       "      <th>intensity</th>\n",
       "      <th>saturated</th>\n",
       "      <th>rt_df</th>\n",
       "      <th>scan_df</th>\n",
       "      <th>similarity_rt</th>\n",
       "      <th>similarity_scan</th>\n",
       "      <th>inferred_intensity</th>\n",
       "      <th>inferred</th>\n",
       "    </tr>\n",
       "  </thead>\n",
       "  <tbody>\n",
       "    <tr>\n",
       "      <th>0</th>\n",
       "      <td>1104.062985</td>\n",
       "      <td>1104.027821</td>\n",
       "      <td>1104.098149</td>\n",
       "      <td>21311</td>\n",
       "      <td>True</td>\n",
       "      <td>[{\"retention_time_secs\":2019.3358154297,\"inten...</td>\n",
       "      <td>[{\"scan\":65,\"intensity\":3431},{\"scan\":66,\"inte...</td>\n",
       "      <td>NaN</td>\n",
       "      <td>NaN</td>\n",
       "      <td>39443</td>\n",
       "      <td>True</td>\n",
       "    </tr>\n",
       "    <tr>\n",
       "      <th>1</th>\n",
       "      <td>1104.564550</td>\n",
       "      <td>1104.529370</td>\n",
       "      <td>1104.599730</td>\n",
       "      <td>23484</td>\n",
       "      <td>True</td>\n",
       "      <td>[{\"retention_time_secs\":2019.3358154297,\"inten...</td>\n",
       "      <td>[{\"scan\":65,\"intensity\":3890,\"x_scaled\":65},{\"...</td>\n",
       "      <td>0.999790</td>\n",
       "      <td>0.998521</td>\n",
       "      <td>47054</td>\n",
       "      <td>True</td>\n",
       "    </tr>\n",
       "    <tr>\n",
       "      <th>2</th>\n",
       "      <td>1105.065196</td>\n",
       "      <td>1105.030000</td>\n",
       "      <td>1105.100392</td>\n",
       "      <td>17976</td>\n",
       "      <td>True</td>\n",
       "      <td>[{\"retention_time_secs\":2019.3358154297,\"inten...</td>\n",
       "      <td>[{\"scan\":65,\"intensity\":2848,\"x_scaled\":65},{\"...</td>\n",
       "      <td>0.999780</td>\n",
       "      <td>0.998349</td>\n",
       "      <td>30345</td>\n",
       "      <td>True</td>\n",
       "    </tr>\n",
       "    <tr>\n",
       "      <th>3</th>\n",
       "      <td>1105.566141</td>\n",
       "      <td>1105.530929</td>\n",
       "      <td>1105.601353</td>\n",
       "      <td>11133</td>\n",
       "      <td>True</td>\n",
       "      <td>[{\"retention_time_secs\":2019.3358154297,\"inten...</td>\n",
       "      <td>[{\"scan\":65,\"intensity\":1232,\"x_scaled\":65},{\"...</td>\n",
       "      <td>0.999885</td>\n",
       "      <td>0.996944</td>\n",
       "      <td>13865</td>\n",
       "      <td>True</td>\n",
       "    </tr>\n",
       "    <tr>\n",
       "      <th>4</th>\n",
       "      <td>1106.065684</td>\n",
       "      <td>1106.030456</td>\n",
       "      <td>1106.100911</td>\n",
       "      <td>4986</td>\n",
       "      <td>False</td>\n",
       "      <td>[{\"retention_time_secs\":2019.3358154297,\"inten...</td>\n",
       "      <td>[{\"scan\":65,\"intensity\":1016,\"x_scaled\":65},{\"...</td>\n",
       "      <td>0.999414</td>\n",
       "      <td>0.994982</td>\n",
       "      <td>4986</td>\n",
       "      <td>False</td>\n",
       "    </tr>\n",
       "  </tbody>\n",
       "</table>\n",
       "</div>"
      ],
      "text/plain": [
       "            mz     mz_lower     mz_upper  intensity  saturated  \\\n",
       "0  1104.062985  1104.027821  1104.098149      21311       True   \n",
       "1  1104.564550  1104.529370  1104.599730      23484       True   \n",
       "2  1105.065196  1105.030000  1105.100392      17976       True   \n",
       "3  1105.566141  1105.530929  1105.601353      11133       True   \n",
       "4  1106.065684  1106.030456  1106.100911       4986      False   \n",
       "\n",
       "                                               rt_df  \\\n",
       "0  [{\"retention_time_secs\":2019.3358154297,\"inten...   \n",
       "1  [{\"retention_time_secs\":2019.3358154297,\"inten...   \n",
       "2  [{\"retention_time_secs\":2019.3358154297,\"inten...   \n",
       "3  [{\"retention_time_secs\":2019.3358154297,\"inten...   \n",
       "4  [{\"retention_time_secs\":2019.3358154297,\"inten...   \n",
       "\n",
       "                                             scan_df  similarity_rt  \\\n",
       "0  [{\"scan\":65,\"intensity\":3431},{\"scan\":66,\"inte...            NaN   \n",
       "1  [{\"scan\":65,\"intensity\":3890,\"x_scaled\":65},{\"...       0.999790   \n",
       "2  [{\"scan\":65,\"intensity\":2848,\"x_scaled\":65},{\"...       0.999780   \n",
       "3  [{\"scan\":65,\"intensity\":1232,\"x_scaled\":65},{\"...       0.999885   \n",
       "4  [{\"scan\":65,\"intensity\":1016,\"x_scaled\":65},{\"...       0.999414   \n",
       "\n",
       "   similarity_scan  inferred_intensity  inferred  \n",
       "0              NaN               39443      True  \n",
       "1         0.998521               47054      True  \n",
       "2         0.998349               30345      True  \n",
       "3         0.996944               13865      True  \n",
       "4         0.994982                4986     False  "
      ]
     },
     "execution_count": 11,
     "metadata": {},
     "output_type": "execute_result"
    }
   ],
   "source": [
    "isotopes_df = pd.read_json(selected_sequence.isotopic_peaks)\n",
    "isotopes_df"
   ]
  },
  {
   "cell_type": "code",
   "execution_count": 12,
   "metadata": {},
   "outputs": [],
   "source": [
    "# Mass difference between Carbon-12 and Carbon-13 isotopes, in Da. For calculating the spacing between isotopic peaks.\n",
    "CARBON_MASS_DIFFERENCE = 1.003355"
   ]
  },
  {
   "cell_type": "code",
   "execution_count": 13,
   "metadata": {},
   "outputs": [],
   "source": [
    "# the expected spacing between isotopes in the m/z dimension\n",
    "expected_spacing_mz = CARBON_MASS_DIFFERENCE / selected_sequence.charge"
   ]
  },
  {
   "cell_type": "code",
   "execution_count": 14,
   "metadata": {},
   "outputs": [
    {
     "data": {
      "text/plain": [
       "0.5016775"
      ]
     },
     "execution_count": 14,
     "metadata": {},
     "output_type": "execute_result"
    }
   ],
   "source": [
    "expected_spacing_mz"
   ]
  },
  {
   "cell_type": "code",
   "execution_count": 15,
   "metadata": {},
   "outputs": [],
   "source": [
    "isotopes_df['inferred_mz'] = isotopes_df.mz\n",
    "\n",
    "if (isotopes_df.iloc[0].saturated == True):\n",
    "    outcome = 'monoisotopic_saturated_adjusted'\n",
    "    if (len(isotopes_df[isotopes_df.saturated == False]) > 0):\n",
    "        # find the first unsaturated isotope\n",
    "        unsaturated_idx = isotopes_df[(isotopes_df.saturated == False)].iloc[0].name\n",
    "        unsaturated_isotope_mz = isotopes_df.at[unsaturated_idx, 'mz']\n",
    "        for peak_idx in reversed(range(unsaturated_idx)):\n",
    "            isotopes_df.at[peak_idx, 'inferred_mz'] = unsaturated_isotope_mz - ((unsaturated_idx - peak_idx) * expected_spacing_mz)\n",
    "    else:\n",
    "        outcome = 'no_nonsaturated_isotopes'"
   ]
  },
  {
   "cell_type": "code",
   "execution_count": 16,
   "metadata": {},
   "outputs": [
    {
     "data": {
      "text/html": [
       "<div>\n",
       "<style scoped>\n",
       "    .dataframe tbody tr th:only-of-type {\n",
       "        vertical-align: middle;\n",
       "    }\n",
       "\n",
       "    .dataframe tbody tr th {\n",
       "        vertical-align: top;\n",
       "    }\n",
       "\n",
       "    .dataframe thead th {\n",
       "        text-align: right;\n",
       "    }\n",
       "</style>\n",
       "<table border=\"1\" class=\"dataframe\">\n",
       "  <thead>\n",
       "    <tr style=\"text-align: right;\">\n",
       "      <th></th>\n",
       "      <th>mz</th>\n",
       "      <th>mz_lower</th>\n",
       "      <th>mz_upper</th>\n",
       "      <th>intensity</th>\n",
       "      <th>saturated</th>\n",
       "      <th>rt_df</th>\n",
       "      <th>scan_df</th>\n",
       "      <th>similarity_rt</th>\n",
       "      <th>similarity_scan</th>\n",
       "      <th>inferred_intensity</th>\n",
       "      <th>inferred</th>\n",
       "      <th>inferred_mz</th>\n",
       "    </tr>\n",
       "  </thead>\n",
       "  <tbody>\n",
       "    <tr>\n",
       "      <th>0</th>\n",
       "      <td>1104.062985</td>\n",
       "      <td>1104.027821</td>\n",
       "      <td>1104.098149</td>\n",
       "      <td>21311</td>\n",
       "      <td>True</td>\n",
       "      <td>[{\"retention_time_secs\":2019.3358154297,\"inten...</td>\n",
       "      <td>[{\"scan\":65,\"intensity\":3431},{\"scan\":66,\"inte...</td>\n",
       "      <td>NaN</td>\n",
       "      <td>NaN</td>\n",
       "      <td>39443</td>\n",
       "      <td>True</td>\n",
       "      <td>1104.058974</td>\n",
       "    </tr>\n",
       "    <tr>\n",
       "      <th>1</th>\n",
       "      <td>1104.564550</td>\n",
       "      <td>1104.529370</td>\n",
       "      <td>1104.599730</td>\n",
       "      <td>23484</td>\n",
       "      <td>True</td>\n",
       "      <td>[{\"retention_time_secs\":2019.3358154297,\"inten...</td>\n",
       "      <td>[{\"scan\":65,\"intensity\":3890,\"x_scaled\":65},{\"...</td>\n",
       "      <td>0.999790</td>\n",
       "      <td>0.998521</td>\n",
       "      <td>47054</td>\n",
       "      <td>True</td>\n",
       "      <td>1104.560651</td>\n",
       "    </tr>\n",
       "    <tr>\n",
       "      <th>2</th>\n",
       "      <td>1105.065196</td>\n",
       "      <td>1105.030000</td>\n",
       "      <td>1105.100392</td>\n",
       "      <td>17976</td>\n",
       "      <td>True</td>\n",
       "      <td>[{\"retention_time_secs\":2019.3358154297,\"inten...</td>\n",
       "      <td>[{\"scan\":65,\"intensity\":2848,\"x_scaled\":65},{\"...</td>\n",
       "      <td>0.999780</td>\n",
       "      <td>0.998349</td>\n",
       "      <td>30345</td>\n",
       "      <td>True</td>\n",
       "      <td>1105.062329</td>\n",
       "    </tr>\n",
       "    <tr>\n",
       "      <th>3</th>\n",
       "      <td>1105.566141</td>\n",
       "      <td>1105.530929</td>\n",
       "      <td>1105.601353</td>\n",
       "      <td>11133</td>\n",
       "      <td>True</td>\n",
       "      <td>[{\"retention_time_secs\":2019.3358154297,\"inten...</td>\n",
       "      <td>[{\"scan\":65,\"intensity\":1232,\"x_scaled\":65},{\"...</td>\n",
       "      <td>0.999885</td>\n",
       "      <td>0.996944</td>\n",
       "      <td>13865</td>\n",
       "      <td>True</td>\n",
       "      <td>1105.564006</td>\n",
       "    </tr>\n",
       "    <tr>\n",
       "      <th>4</th>\n",
       "      <td>1106.065684</td>\n",
       "      <td>1106.030456</td>\n",
       "      <td>1106.100911</td>\n",
       "      <td>4986</td>\n",
       "      <td>False</td>\n",
       "      <td>[{\"retention_time_secs\":2019.3358154297,\"inten...</td>\n",
       "      <td>[{\"scan\":65,\"intensity\":1016,\"x_scaled\":65},{\"...</td>\n",
       "      <td>0.999414</td>\n",
       "      <td>0.994982</td>\n",
       "      <td>4986</td>\n",
       "      <td>False</td>\n",
       "      <td>1106.065684</td>\n",
       "    </tr>\n",
       "  </tbody>\n",
       "</table>\n",
       "</div>"
      ],
      "text/plain": [
       "            mz     mz_lower     mz_upper  intensity  saturated  \\\n",
       "0  1104.062985  1104.027821  1104.098149      21311       True   \n",
       "1  1104.564550  1104.529370  1104.599730      23484       True   \n",
       "2  1105.065196  1105.030000  1105.100392      17976       True   \n",
       "3  1105.566141  1105.530929  1105.601353      11133       True   \n",
       "4  1106.065684  1106.030456  1106.100911       4986      False   \n",
       "\n",
       "                                               rt_df  \\\n",
       "0  [{\"retention_time_secs\":2019.3358154297,\"inten...   \n",
       "1  [{\"retention_time_secs\":2019.3358154297,\"inten...   \n",
       "2  [{\"retention_time_secs\":2019.3358154297,\"inten...   \n",
       "3  [{\"retention_time_secs\":2019.3358154297,\"inten...   \n",
       "4  [{\"retention_time_secs\":2019.3358154297,\"inten...   \n",
       "\n",
       "                                             scan_df  similarity_rt  \\\n",
       "0  [{\"scan\":65,\"intensity\":3431},{\"scan\":66,\"inte...            NaN   \n",
       "1  [{\"scan\":65,\"intensity\":3890,\"x_scaled\":65},{\"...       0.999790   \n",
       "2  [{\"scan\":65,\"intensity\":2848,\"x_scaled\":65},{\"...       0.999780   \n",
       "3  [{\"scan\":65,\"intensity\":1232,\"x_scaled\":65},{\"...       0.999885   \n",
       "4  [{\"scan\":65,\"intensity\":1016,\"x_scaled\":65},{\"...       0.999414   \n",
       "\n",
       "   similarity_scan  inferred_intensity  inferred  inferred_mz  \n",
       "0              NaN               39443      True  1104.058974  \n",
       "1         0.998521               47054      True  1104.560651  \n",
       "2         0.998349               30345      True  1105.062329  \n",
       "3         0.996944               13865      True  1105.564006  \n",
       "4         0.994982                4986     False  1106.065684  "
      ]
     },
     "execution_count": 16,
     "metadata": {},
     "output_type": "execute_result"
    }
   ],
   "source": [
    "isotopes_df"
   ]
  },
  {
   "cell_type": "code",
   "execution_count": 17,
   "metadata": {},
   "outputs": [
    {
     "data": {
      "text/plain": [
       "3.632888456007942"
      ]
     },
     "execution_count": 17,
     "metadata": {},
     "output_type": "execute_result"
    }
   ],
   "source": [
    "monoisotope_s = isotopes_df.iloc[0]\n",
    "mono_mz_shift_ppm = (monoisotope_s.mz - monoisotope_s.inferred_mz) / monoisotope_s.inferred_mz * 10**6\n",
    "mono_mz_shift_ppm"
   ]
  },
  {
   "cell_type": "code",
   "execution_count": 18,
   "metadata": {},
   "outputs": [
    {
     "data": {
      "image/png": "[encoded data removed]",
      "text/plain": [
       "<Figure size 1080x576 with 1 Axes>"
      ]
     },
     "metadata": {
      "needs_background": "light"
     },
     "output_type": "display_data"
    }
   ],
   "source": [
    "f, ax = plt.subplots()\n",
    "colors = ['tab:blue', 'tab:orange', 'tab:green', 'tab:red', 'tab:purple', 'tab:brown', 'tab:pink', 'tab:gray', 'tab:olive', 'tab:cyan']\n",
    "\n",
    "markerline, stemlines, baseline = ax.stem(isotopes_df.mz, isotopes_df.intensity, use_line_collection=True, label='raw intensity')\n",
    "plt.setp(markerline, 'color', 'tab:green')\n",
    "plt.setp(stemlines, 'color', 'tab:green')\n",
    "plt.setp(baseline, 'color', colors[7])\n",
    "plt.setp(markerline, 'alpha', 0.6)\n",
    "plt.setp(stemlines, 'alpha', 0.6)\n",
    "\n",
    "markerline, stemlines, baseline = ax.stem(isotopes_df.mz, isotopes_df.inferred_intensity, use_line_collection=True, label='inferred intensity')\n",
    "plt.setp(markerline, 'color', 'tab:orange')\n",
    "plt.setp(stemlines, 'color', 'tab:orange')\n",
    "plt.setp(baseline, 'color', colors[7])\n",
    "plt.setp(markerline, 'alpha', 0.6)\n",
    "plt.setp(stemlines, 'alpha', 0.6)\n",
    "\n",
    "# highlight the isotopes with inferred intensity\n",
    "adjusted_intensity_df = isotopes_df[(isotopes_df.inferred == True)]\n",
    "ax.plot(adjusted_intensity_df.mz, adjusted_intensity_df.inferred_intensity, marker='o', markerfacecolor='none', markeredgecolor='springgreen', linestyle='', markeredgewidth=2, ms=15, label='isotope in saturation')\n",
    "\n",
    "# highlight the isotopes without inferred intensity\n",
    "not_adjusted_intensity_df = isotopes_df[(isotopes_df.inferred == False)]\n",
    "ax.plot(not_adjusted_intensity_df.mz, not_adjusted_intensity_df.inferred_intensity, marker='o', markerfacecolor='none', markeredgecolor='seagreen', linestyle='', markeredgewidth=2, ms=15, label='isotope not in saturation')\n",
    "\n",
    "plt.xlabel('m/z')\n",
    "plt.ylabel('intensity')\n",
    "f.set_figheight(8)\n",
    "f.set_figwidth(15)\n",
    "plt.margins(0.06)\n",
    "plt.legend(loc='best')\n",
    "# plt.title('Isotopes before and after saturation adjustment\\nrun {}, sequence {}, charge {}'.format(run_name, selected_sequence.sequence, selected_sequence.charge))\n",
    "plt.show()"
   ]
  },
  {
   "cell_type": "markdown",
   "metadata": {},
   "source": [
    "#### distribution of identifications and their monoisotopes in saturation"
   ]
  },
  {
   "cell_type": "code",
   "execution_count": 19,
   "metadata": {},
   "outputs": [
    {
     "data": {
      "text/plain": [
       "monoisotopic_not_saturated         95.335040\n",
       "monoisotopic_saturated_adjusted     4.606794\n",
       "no_nonsaturated_isotopes            0.046533\n",
       "could_not_calculate_phr             0.011633\n",
       "Name: mono_intensity_adjustment_outcome, dtype: float64"
      ]
     },
     "execution_count": 19,
     "metadata": {},
     "output_type": "execute_result"
    }
   ],
   "source": [
    "idents_df.mono_intensity_adjustment_outcome.value_counts(normalize=True) * 100"
   ]
  },
  {
   "cell_type": "markdown",
   "metadata": {},
   "source": [
    "#### distribution of isotopes in saturation"
   ]
  },
  {
   "cell_type": "code",
   "execution_count": 20,
   "metadata": {},
   "outputs": [],
   "source": [
    "df = idents_df[(idents_df.mono_intensity_adjustment_outcome == 'monoisotopic_saturated_adjusted')]"
   ]
  },
  {
   "cell_type": "code",
   "execution_count": 21,
   "metadata": {},
   "outputs": [],
   "source": [
    "isotope_idxs_l = []\n",
    "for row in df.itertuples():\n",
    "    isotopes_df = pd.read_json(row.isotopic_peaks)\n",
    "    nonsat_isotope_idx = isotopes_df[isotopes_df.inferred == False].iloc[0].name\n",
    "    isotope_idxs_l.append({'isotope_idx_not_in_saturation':nonsat_isotope_idx})\n",
    "isotope_idxs_df = pd.DataFrame(isotope_idxs_l)"
   ]
  },
  {
   "cell_type": "code",
   "execution_count": 22,
   "metadata": {},
   "outputs": [
    {
     "data": {
      "image/png": "[encoded data removed]",
      "text/plain": [
       "<Figure size 1080x576 with 1 Axes>"
      ]
     },
     "metadata": {
      "needs_background": "light"
     },
     "output_type": "display_data"
    }
   ],
   "source": [
    "f, ax1 = plt.subplots()\n",
    "f.set_figheight(8)\n",
    "f.set_figwidth(15)\n",
    "\n",
    "plt.margins(0.06)\n",
    "plt.title('')\n",
    "\n",
    "counts = np.bincount(isotope_idxs_df.isotope_idx_not_in_saturation)\n",
    "ax1.bar(range(isotope_idxs_df.isotope_idx_not_in_saturation.max()+1), counts, width=0.5, align='center')\n",
    "ax1.set(xticks=range(1,isotope_idxs_df.isotope_idx_not_in_saturation.max()+1), xlim=[0, isotope_idxs_df.isotope_idx_not_in_saturation.max()+1])\n",
    "\n",
    "plt.xlabel('isotope index used to infer the monoisotopic peak intensity')\n",
    "plt.ylabel('count')\n",
    "# plt.title('distribution of isotope index used to infer the intensity of the monoisotopic peak (index=0)\\nrun {}, experiment {}'.format(run_name, experiment_name))\n",
    "\n",
    "plt.show()"
   ]
  },
  {
   "cell_type": "code",
   "execution_count": null,
   "metadata": {},
   "outputs": [],
   "source": []
  }
 ],
 "metadata": {
  "kernelspec": {
   "display_name": "Python 3",
   "language": "python",
   "name": "python3"
  },
  "language_info": {
   "codemirror_mode": {
    "name": "ipython",
    "version": 3
   },
   "file_extension": ".py",
   "mimetype": "text/x-python",
   "name": "python",
   "nbconvert_exporter": "python",
   "pygments_lexer": "ipython3",
   "version": "3.8.5"
  }
 },
 "nbformat": 4,
 "nbformat_minor": 2
}
