{
 "cells": [
  {
   "cell_type": "code",
   "execution_count": 1,
   "metadata": {},
   "outputs": [],
   "source": [
    "import pandas as pd\n",
    "import matplotlib.pyplot as plt\n",
    "import sqlite3\n",
    "import json\n",
    "import numpy as np\n",
    "from os.path import expanduser"
   ]
  },
  {
   "cell_type": "code",
   "execution_count": 2,
   "metadata": {},
   "outputs": [],
   "source": [
    "experiment_name = 'P3856'\n",
    "feature_detection_method = 'pasef'\n",
    "run_name = 'P3856_YHE211_1_Slot1-1_1_5104'\n",
    "\n",
    "RESULTS_BASE_DIR = '/media/data-drive'\n",
    "\n",
    "IDENTIFICATIONS_WITH_CS_DIR = '{}/P3856-results-cs-true-fmdw-true-2021-05-01-14-59-47/identifications-pasef'.format(RESULTS_BASE_DIR)\n",
    "IDENTIFICATIONS_WITH_CS_FILE = '{}/exp-{}-identifications-{}-recalibrated.pkl'.format(IDENTIFICATIONS_WITH_CS_DIR, experiment_name, feature_detection_method)"
   ]
  },
  {
   "cell_type": "code",
   "execution_count": 3,
   "metadata": {},
   "outputs": [],
   "source": [
    "d = pd.read_pickle(IDENTIFICATIONS_WITH_CS_FILE)\n",
    "idents_df = d['identifications_df']"
   ]
  },
  {
   "cell_type": "code",
   "execution_count": 4,
   "metadata": {},
   "outputs": [],
   "source": [
    "idents_df = idents_df[idents_df['percolator q-value'] < 0.01]"
   ]
  },
  {
   "cell_type": "code",
   "execution_count": 5,
   "metadata": {},
   "outputs": [
    {
     "data": {
      "text/plain": [
       "Index(['mono_mz_lower', 'mono_mz_upper', 'scan_apex', 'scan_lower',\n",
       "       'scan_upper', 'rt_apex', 'rt_lower', 'rt_upper',\n",
       "       'mono_intensity_without_saturation_correction',\n",
       "       'mono_intensity_with_saturation_correction',\n",
       "       'mono_intensity_adjustment_outcome', 'isotopic_peaks', 'scan_df',\n",
       "       'rt_df', 'monoisotopic_mz', 'charge', 'monoisotopic_mass',\n",
       "       'feature_intensity', 'envelope', 'isotope_count', 'deconvolution_score',\n",
       "       'precursor_cuboid_id', 'fragment_ions_l', 'fmdw_before_after_d',\n",
       "       'feature_id', 'run_name', 'predicted_mass_error',\n",
       "       'recalibrated_monoisotopic_mass', 'recalibrated_monoisotopic_mz',\n",
       "       'file_idx', 'spectrum precursor m/z', 'spectrum neutral mass',\n",
       "       'peptide mass', 'percolator score', 'percolator q-value',\n",
       "       'percolator PEP', 'total matches/spectrum', 'sequence', 'protein id',\n",
       "       'flanking aa', 'observed_monoisotopic_mass', 'theoretical_peptide_mass',\n",
       "       'mass_accuracy_ppm', 'mass_error'],\n",
       "      dtype='object')"
      ]
     },
     "execution_count": 5,
     "metadata": {},
     "output_type": "execute_result"
    }
   ],
   "source": [
    "idents_df.columns"
   ]
  },
  {
   "cell_type": "code",
   "execution_count": 6,
   "metadata": {},
   "outputs": [
    {
     "data": {
      "text/plain": [
       "monoisotopic_not_saturated         95.836660\n",
       "monoisotopic_saturated_adjusted     4.106308\n",
       "no_nonsaturated_isotopes            0.034219\n",
       "could_not_calculate_phr             0.022813\n",
       "Name: mono_intensity_adjustment_outcome, dtype: float64"
      ]
     },
     "execution_count": 6,
     "metadata": {},
     "output_type": "execute_result"
    }
   ],
   "source": [
    "idents_df.mono_intensity_adjustment_outcome.value_counts(normalize=True) * 100"
   ]
  },
  {
   "cell_type": "code",
   "execution_count": 7,
   "metadata": {},
   "outputs": [
    {
     "data": {
      "text/plain": [
       "30      37163\n",
       "9       41311\n",
       "240     30283\n",
       "1658    18003\n",
       "124     40257\n",
       "Name: precursor_cuboid_id, dtype: int64"
      ]
     },
     "execution_count": 7,
     "metadata": {},
     "output_type": "execute_result"
    }
   ],
   "source": [
    "# find the precursor id of an ident that has high intensity but was not in saturation\n",
    "idents_df = idents_df.sort_values(by=['feature_intensity'], ascending=False, inplace=False)\n",
    "idents_df[(idents_df.mono_intensity_adjustment_outcome == 'monoisotopic_not_saturated')].head(5).precursor_cuboid_id"
   ]
  },
  {
   "cell_type": "code",
   "execution_count": 8,
   "metadata": {},
   "outputs": [
    {
     "data": {
      "text/plain": [
       "67472    40945\n",
       "63404    37848\n",
       "68778    30198\n",
       "63168    36030\n",
       "73813    27968\n",
       "Name: precursor_cuboid_id, dtype: int64"
      ]
     },
     "execution_count": 8,
     "metadata": {},
     "output_type": "execute_result"
    }
   ],
   "source": [
    "idents_df[(idents_df.mono_intensity_adjustment_outcome == 'monoisotopic_not_saturated')].tail(5).precursor_cuboid_id"
   ]
  },
  {
   "cell_type": "code",
   "execution_count": 9,
   "metadata": {},
   "outputs": [
    {
     "data": {
      "text/plain": [
       "177     20849\n",
       "593     42589\n",
       "258     33209\n",
       "771     35044\n",
       "9553    37854\n",
       "Name: precursor_cuboid_id, dtype: int64"
      ]
     },
     "execution_count": 9,
     "metadata": {},
     "output_type": "execute_result"
    }
   ],
   "source": [
    "idents_df[(idents_df.mono_intensity_adjustment_outcome == 'monoisotopic_saturated_adjusted') & (idents_df.isotope_count > 4)].head(5).precursor_cuboid_id"
   ]
  },
  {
   "cell_type": "markdown",
   "metadata": {},
   "source": [
    "#### select a feature that had its mono in saturation and was adjusted"
   ]
  },
  {
   "cell_type": "code",
   "execution_count": 10,
   "metadata": {},
   "outputs": [],
   "source": [
    "selected_sequence = idents_df.loc[177]"
   ]
  },
  {
   "cell_type": "code",
   "execution_count": 33,
   "metadata": {},
   "outputs": [],
   "source": [
    "isotopes_df = pd.DataFrame(selected_sequence.isotopic_peaks)"
   ]
  },
  {
   "cell_type": "code",
   "execution_count": 34,
   "metadata": {},
   "outputs": [
    {
     "data": {
      "text/html": [
       "<div>\n",
       "<style scoped>\n",
       "    .dataframe tbody tr th:only-of-type {\n",
       "        vertical-align: middle;\n",
       "    }\n",
       "\n",
       "    .dataframe tbody tr th {\n",
       "        vertical-align: top;\n",
       "    }\n",
       "\n",
       "    .dataframe thead th {\n",
       "        text-align: right;\n",
       "    }\n",
       "</style>\n",
       "<table border=\"1\" class=\"dataframe\">\n",
       "  <thead>\n",
       "    <tr style=\"text-align: right;\">\n",
       "      <th></th>\n",
       "      <th>mz</th>\n",
       "      <th>mz_lower</th>\n",
       "      <th>mz_upper</th>\n",
       "      <th>intensity</th>\n",
       "      <th>saturated</th>\n",
       "      <th>inferred_intensity</th>\n",
       "      <th>inferred</th>\n",
       "    </tr>\n",
       "  </thead>\n",
       "  <tbody>\n",
       "    <tr>\n",
       "      <th>0</th>\n",
       "      <td>999.456864</td>\n",
       "      <td>999.425031</td>\n",
       "      <td>999.488696</td>\n",
       "      <td>4665734</td>\n",
       "      <td>True</td>\n",
       "      <td>6295349</td>\n",
       "      <td>True</td>\n",
       "    </tr>\n",
       "    <tr>\n",
       "      <th>1</th>\n",
       "      <td>999.958126</td>\n",
       "      <td>999.926278</td>\n",
       "      <td>999.989974</td>\n",
       "      <td>4855693</td>\n",
       "      <td>True</td>\n",
       "      <td>6789304</td>\n",
       "      <td>True</td>\n",
       "    </tr>\n",
       "    <tr>\n",
       "      <th>2</th>\n",
       "      <td>1000.459361</td>\n",
       "      <td>1000.427497</td>\n",
       "      <td>1000.491225</td>\n",
       "      <td>3032913</td>\n",
       "      <td>True</td>\n",
       "      <td>3991130</td>\n",
       "      <td>True</td>\n",
       "    </tr>\n",
       "    <tr>\n",
       "      <th>3</th>\n",
       "      <td>1000.960993</td>\n",
       "      <td>1000.929113</td>\n",
       "      <td>1000.992873</td>\n",
       "      <td>1339652</td>\n",
       "      <td>True</td>\n",
       "      <td>1671358</td>\n",
       "      <td>True</td>\n",
       "    </tr>\n",
       "    <tr>\n",
       "      <th>4</th>\n",
       "      <td>1001.465026</td>\n",
       "      <td>1001.433130</td>\n",
       "      <td>1001.496923</td>\n",
       "      <td>552540</td>\n",
       "      <td>False</td>\n",
       "      <td>552540</td>\n",
       "      <td>False</td>\n",
       "    </tr>\n",
       "  </tbody>\n",
       "</table>\n",
       "</div>"
      ],
      "text/plain": [
       "            mz     mz_lower     mz_upper  intensity  saturated  \\\n",
       "0   999.456864   999.425031   999.488696    4665734       True   \n",
       "1   999.958126   999.926278   999.989974    4855693       True   \n",
       "2  1000.459361  1000.427497  1000.491225    3032913       True   \n",
       "3  1000.960993  1000.929113  1000.992873    1339652       True   \n",
       "4  1001.465026  1001.433130  1001.496923     552540      False   \n",
       "\n",
       "   inferred_intensity  inferred  \n",
       "0             6295349      True  \n",
       "1             6789304      True  \n",
       "2             3991130      True  \n",
       "3             1671358      True  \n",
       "4              552540     False  "
      ]
     },
     "execution_count": 34,
     "metadata": {},
     "output_type": "execute_result"
    }
   ],
   "source": [
    "isotopes_df"
   ]
  },
  {
   "cell_type": "code",
   "execution_count": 35,
   "metadata": {},
   "outputs": [],
   "source": [
    "# Mass difference between Carbon-12 and Carbon-13 isotopes, in Da. For calculating the spacing between isotopic peaks.\n",
    "CARBON_MASS_DIFFERENCE = 1.003355"
   ]
  },
  {
   "cell_type": "code",
   "execution_count": 36,
   "metadata": {},
   "outputs": [],
   "source": [
    "# the expected spacing between isotopes in the m/z dimension\n",
    "expected_spacing_mz = CARBON_MASS_DIFFERENCE / selected_sequence.charge"
   ]
  },
  {
   "cell_type": "code",
   "execution_count": 43,
   "metadata": {},
   "outputs": [
    {
     "data": {
      "text/plain": [
       "0.5016775"
      ]
     },
     "execution_count": 43,
     "metadata": {},
     "output_type": "execute_result"
    }
   ],
   "source": [
    "expected_spacing_mz"
   ]
  },
  {
   "cell_type": "code",
   "execution_count": 50,
   "metadata": {},
   "outputs": [],
   "source": [
    "isotopes_df['inferred_mz'] = isotopes_df.mz\n",
    "\n",
    "if (isotopes_df.iloc[0].saturated == True):\n",
    "    outcome = 'monoisotopic_saturated_adjusted'\n",
    "    if (len(isotopes_df[isotopes_df.saturated == False]) > 0):\n",
    "        # find the first unsaturated isotope\n",
    "        unsaturated_idx = isotopes_df[(isotopes_df.saturated == False)].iloc[0].name\n",
    "        unsaturated_isotope_mz = isotopes_df.at[unsaturated_idx, 'mz']\n",
    "        for peak_idx in reversed(range(unsaturated_idx)):\n",
    "            isotopes_df.at[peak_idx, 'inferred_mz'] = unsaturated_isotope_mz - ((unsaturated_idx - peak_idx) * expected_spacing_mz)\n",
    "    else:\n",
    "        outcome = 'no_nonsaturated_isotopes'"
   ]
  },
  {
   "cell_type": "code",
   "execution_count": 51,
   "metadata": {},
   "outputs": [
    {
     "data": {
      "text/html": [
       "<div>\n",
       "<style scoped>\n",
       "    .dataframe tbody tr th:only-of-type {\n",
       "        vertical-align: middle;\n",
       "    }\n",
       "\n",
       "    .dataframe tbody tr th {\n",
       "        vertical-align: top;\n",
       "    }\n",
       "\n",
       "    .dataframe thead th {\n",
       "        text-align: right;\n",
       "    }\n",
       "</style>\n",
       "<table border=\"1\" class=\"dataframe\">\n",
       "  <thead>\n",
       "    <tr style=\"text-align: right;\">\n",
       "      <th></th>\n",
       "      <th>mz</th>\n",
       "      <th>mz_lower</th>\n",
       "      <th>mz_upper</th>\n",
       "      <th>intensity</th>\n",
       "      <th>saturated</th>\n",
       "      <th>inferred_intensity</th>\n",
       "      <th>inferred</th>\n",
       "      <th>inferred_mz</th>\n",
       "    </tr>\n",
       "  </thead>\n",
       "  <tbody>\n",
       "    <tr>\n",
       "      <th>0</th>\n",
       "      <td>999.456864</td>\n",
       "      <td>999.425031</td>\n",
       "      <td>999.488696</td>\n",
       "      <td>4665734</td>\n",
       "      <td>True</td>\n",
       "      <td>6295349</td>\n",
       "      <td>True</td>\n",
       "      <td>999.458316</td>\n",
       "    </tr>\n",
       "    <tr>\n",
       "      <th>1</th>\n",
       "      <td>999.958126</td>\n",
       "      <td>999.926278</td>\n",
       "      <td>999.989974</td>\n",
       "      <td>4855693</td>\n",
       "      <td>True</td>\n",
       "      <td>6789304</td>\n",
       "      <td>True</td>\n",
       "      <td>999.959994</td>\n",
       "    </tr>\n",
       "    <tr>\n",
       "      <th>2</th>\n",
       "      <td>1000.459361</td>\n",
       "      <td>1000.427497</td>\n",
       "      <td>1000.491225</td>\n",
       "      <td>3032913</td>\n",
       "      <td>True</td>\n",
       "      <td>3991130</td>\n",
       "      <td>True</td>\n",
       "      <td>1000.461671</td>\n",
       "    </tr>\n",
       "    <tr>\n",
       "      <th>3</th>\n",
       "      <td>1000.960993</td>\n",
       "      <td>1000.929113</td>\n",
       "      <td>1000.992873</td>\n",
       "      <td>1339652</td>\n",
       "      <td>True</td>\n",
       "      <td>1671358</td>\n",
       "      <td>True</td>\n",
       "      <td>1000.963349</td>\n",
       "    </tr>\n",
       "    <tr>\n",
       "      <th>4</th>\n",
       "      <td>1001.465026</td>\n",
       "      <td>1001.433130</td>\n",
       "      <td>1001.496923</td>\n",
       "      <td>552540</td>\n",
       "      <td>False</td>\n",
       "      <td>552540</td>\n",
       "      <td>False</td>\n",
       "      <td>1001.465026</td>\n",
       "    </tr>\n",
       "  </tbody>\n",
       "</table>\n",
       "</div>"
      ],
      "text/plain": [
       "            mz     mz_lower     mz_upper  intensity  saturated  \\\n",
       "0   999.456864   999.425031   999.488696    4665734       True   \n",
       "1   999.958126   999.926278   999.989974    4855693       True   \n",
       "2  1000.459361  1000.427497  1000.491225    3032913       True   \n",
       "3  1000.960993  1000.929113  1000.992873    1339652       True   \n",
       "4  1001.465026  1001.433130  1001.496923     552540      False   \n",
       "\n",
       "   inferred_intensity  inferred  inferred_mz  \n",
       "0             6295349      True   999.458316  \n",
       "1             6789304      True   999.959994  \n",
       "2             3991130      True  1000.461671  \n",
       "3             1671358      True  1000.963349  \n",
       "4              552540     False  1001.465026  "
      ]
     },
     "execution_count": 51,
     "metadata": {},
     "output_type": "execute_result"
    }
   ],
   "source": [
    "isotopes_df"
   ]
  },
  {
   "cell_type": "code",
   "execution_count": 49,
   "metadata": {},
   "outputs": [
    {
     "data": {
      "text/plain": [
       "-1.4535305292755765"
      ]
     },
     "execution_count": 49,
     "metadata": {},
     "output_type": "execute_result"
    }
   ],
   "source": [
    "monoisotope_s = isotopes_df.iloc[0]\n",
    "mono_mz_shift_ppm = (monoisotope_s.mz - monoisotope_s.inferred_mz) / monoisotope_s.inferred_mz * 10**6\n",
    "mono_mz_shift_ppm"
   ]
  },
  {
   "cell_type": "code",
   "execution_count": 13,
   "metadata": {},
   "outputs": [
    {
     "data": {
      "image/png": "[encoded data removed]",
      "text/plain": [
       "<Figure size 1080x576 with 1 Axes>"
      ]
     },
     "metadata": {
      "needs_background": "light"
     },
     "output_type": "display_data"
    }
   ],
   "source": [
    "f, ax = plt.subplots()\n",
    "colors = ['tab:blue', 'tab:orange', 'tab:green', 'tab:red', 'tab:purple', 'tab:brown', 'tab:pink', 'tab:gray', 'tab:olive', 'tab:cyan']\n",
    "\n",
    "markerline, stemlines, baseline = ax.stem(isotopes_df.mz, isotopes_df.intensity, use_line_collection=True, label='raw intensity')\n",
    "plt.setp(markerline, 'color', 'tab:green')\n",
    "plt.setp(stemlines, 'color', 'tab:green')\n",
    "plt.setp(baseline, 'color', colors[7])\n",
    "plt.setp(markerline, 'alpha', 0.6)\n",
    "plt.setp(stemlines, 'alpha', 0.6)\n",
    "\n",
    "markerline, stemlines, baseline = ax.stem(isotopes_df.mz, isotopes_df.inferred_intensity, use_line_collection=True, label='inferred intensity')\n",
    "plt.setp(markerline, 'color', 'tab:orange')\n",
    "plt.setp(stemlines, 'color', 'tab:orange')\n",
    "plt.setp(baseline, 'color', colors[7])\n",
    "plt.setp(markerline, 'alpha', 0.6)\n",
    "plt.setp(stemlines, 'alpha', 0.6)\n",
    "\n",
    "# highlight the isotopes with inferred intensity\n",
    "adjusted_intensity_df = isotopes_df[(isotopes_df.inferred == True)]\n",
    "ax.plot(adjusted_intensity_df.mz, adjusted_intensity_df.inferred_intensity, marker='o', markerfacecolor='none', markeredgecolor='springgreen', linestyle='', markeredgewidth=2, ms=15, label='isotope in saturation')\n",
    "\n",
    "# highlight the isotopes without inferred intensity\n",
    "not_adjusted_intensity_df = isotopes_df[(isotopes_df.inferred == False)]\n",
    "ax.plot(not_adjusted_intensity_df.mz, not_adjusted_intensity_df.inferred_intensity, marker='o', markerfacecolor='none', markeredgecolor='seagreen', linestyle='', markeredgewidth=2, ms=15, label='isotope not in saturation')\n",
    "\n",
    "plt.xlabel('m/z')\n",
    "plt.ylabel('intensity')\n",
    "f.set_figheight(8)\n",
    "f.set_figwidth(15)\n",
    "plt.margins(0.06)\n",
    "plt.legend(loc='best')\n",
    "plt.title('Isotopes before and after saturation adjustment\\nrun {}, sequence {}, charge {}'.format(run_name, selected_sequence.sequence, selected_sequence.charge))\n",
    "plt.show()"
   ]
  },
  {
   "cell_type": "markdown",
   "metadata": {},
   "source": [
    "#### distribution of identifications and their monoisotopes in saturation"
   ]
  },
  {
   "cell_type": "code",
   "execution_count": 32,
   "metadata": {},
   "outputs": [
    {
     "data": {
      "text/plain": [
       "monoisotopic_not_saturated         95.836660\n",
       "monoisotopic_saturated_adjusted     4.106308\n",
       "no_nonsaturated_isotopes            0.034219\n",
       "could_not_calculate_phr             0.022813\n",
       "Name: mono_intensity_adjustment_outcome, dtype: float64"
      ]
     },
     "execution_count": 32,
     "metadata": {},
     "output_type": "execute_result"
    }
   ],
   "source": [
    "idents_df.mono_intensity_adjustment_outcome.value_counts(normalize=True) * 100"
   ]
  },
  {
   "cell_type": "markdown",
   "metadata": {},
   "source": [
    "#### distribution of isotopes in saturation"
   ]
  },
  {
   "cell_type": "code",
   "execution_count": 33,
   "metadata": {},
   "outputs": [],
   "source": [
    "df = idents_df[(idents_df.mono_intensity_adjustment_outcome == 'monoisotopic_saturated_adjusted')]"
   ]
  },
  {
   "cell_type": "code",
   "execution_count": 35,
   "metadata": {},
   "outputs": [],
   "source": [
    "isotope_idxs_l = []\n",
    "for row in df.itertuples():\n",
    "    isotopes_df = pd.DataFrame(row.isotopic_peaks)\n",
    "    nonsat_isotope_idx = isotopes_df[isotopes_df.inferred == False].iloc[0].name\n",
    "    isotope_idxs_l.append({'isotope_idx_not_in_saturation':nonsat_isotope_idx})\n",
    "isotope_idxs_df = pd.DataFrame(isotope_idxs_l)"
   ]
  },
  {
   "cell_type": "code",
   "execution_count": 37,
   "metadata": {},
   "outputs": [
    {
     "data": {
      "image/png": "[encoded data removed]",
      "text/plain": [
       "<Figure size 1080x576 with 1 Axes>"
      ]
     },
     "metadata": {
      "needs_background": "light"
     },
     "output_type": "display_data"
    }
   ],
   "source": [
    "f, ax1 = plt.subplots()\n",
    "f.set_figheight(8)\n",
    "f.set_figwidth(15)\n",
    "\n",
    "plt.margins(0.06)\n",
    "plt.title('')\n",
    "\n",
    "counts = np.bincount(isotope_idxs_df.isotope_idx_not_in_saturation)\n",
    "ax1.bar(range(isotope_idxs_df.isotope_idx_not_in_saturation.max()+1), counts, width=0.5, align='center')\n",
    "ax1.set(xticks=range(1,isotope_idxs_df.isotope_idx_not_in_saturation.max()+1), xlim=[0, isotope_idxs_df.isotope_idx_not_in_saturation.max()+1])\n",
    "\n",
    "plt.xlabel('isotope index used to infer the monoisotopic peak intensity')\n",
    "plt.ylabel('count')\n",
    "plt.title('distribution of isotope index used to infer the intensity of the monoisotopic peak (index=0)\\nrun {}, experiment {}'.format(run_name, experiment_name))\n",
    "\n",
    "plt.show()"
   ]
  },
  {
   "cell_type": "code",
   "execution_count": null,
   "metadata": {},
   "outputs": [],
   "source": []
  }
 ],
 "metadata": {
  "kernelspec": {
   "display_name": "Python 3",
   "language": "python",
   "name": "python3"
  },
  "language_info": {
   "codemirror_mode": {
    "name": "ipython",
    "version": 3
   },
   "file_extension": ".py",
   "mimetype": "text/x-python",
   "name": "python",
   "nbconvert_exporter": "python",
   "pygments_lexer": "ipython3",
   "version": "3.8.5"
  }
 },
 "nbformat": 4,
 "nbformat_minor": 2
}
