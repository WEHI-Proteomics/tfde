{
 "cells": [
  {
   "cell_type": "code",
   "execution_count": 1,
   "metadata": {},
   "outputs": [],
   "source": [
    "import pandas as pd\n",
    "import matplotlib.pyplot as plt\n",
    "import sqlite3\n",
    "import json\n",
    "import numpy as np"
   ]
  },
  {
   "cell_type": "code",
   "execution_count": 2,
   "metadata": {},
   "outputs": [],
   "source": [
    "EXPERIMENT_BASE_DIR = '/media/big-ssd/experiments'\n",
    "EXPERIMENT_NAME = 'P3856'\n",
    "EXPERIMENT_DIR = '{}/{}'.format(EXPERIMENT_BASE_DIR, EXPERIMENT_NAME)\n",
    "RUN_NAME = 'P3856_YHE211_1_Slot1-1_1_5104'"
   ]
  },
  {
   "cell_type": "code",
   "execution_count": 3,
   "metadata": {},
   "outputs": [],
   "source": [
    "d = pd.read_pickle('{}/identifications-pasef/exp-{}-identifications-pasef-recalibrated.pkl'.format(EXPERIMENT_DIR, EXPERIMENT_NAME))\n",
    "idents_df = d['identifications_df']"
   ]
  },
  {
   "cell_type": "code",
   "execution_count": 4,
   "metadata": {},
   "outputs": [
    {
     "data": {
      "text/plain": [
       "Index(['monoisotopic_mz', 'charge', 'monoisotopic_mass', 'feature_intensity',\n",
       "       'envelope_mono_peak_mz', 'envelope_mono_peak_intensity', 'envelope',\n",
       "       'isotope_count', 'deconvolution_score', 'scan_apex', 'scan_lower',\n",
       "       'scan_upper', 'rt_apex', 'rt_lower', 'rt_upper',\n",
       "       'mono_mz_without_saturated_points', 'mono_intensity_from_raw_points',\n",
       "       'mono_intensity_adjustment_outcome',\n",
       "       'isotopic_peak_intensities_from_raw_points', 'precursor_cuboid_id',\n",
       "       'fragment_ions_l', 'feature_id', 'run_name', 'predicted_mass_error',\n",
       "       'recalibrated_monoisotopic_mass', 'recalibrated_monoisotopic_mz',\n",
       "       'file_idx', 'spectrum precursor m/z', 'spectrum neutral mass',\n",
       "       'peptide mass', 'percolator score', 'percolator q-value',\n",
       "       'percolator PEP', 'total matches/spectrum', 'sequence', 'protein id',\n",
       "       'flanking aa', 'observed_monoisotopic_mass', 'theoretical_peptide_mass',\n",
       "       'mass_accuracy_ppm', 'mass_error'],\n",
       "      dtype='object')"
      ]
     },
     "execution_count": 4,
     "metadata": {},
     "output_type": "execute_result"
    }
   ],
   "source": [
    "idents_df.columns"
   ]
  },
  {
   "cell_type": "code",
   "execution_count": 5,
   "metadata": {},
   "outputs": [
    {
     "data": {
      "text/plain": [
       "[{'mz': 566.8858038583387,\n",
       "  'intensity': 52320,\n",
       "  'saturated': False,\n",
       "  'inferred_intensity': 52320,\n",
       "  'inferred': False},\n",
       " {'mz': 567.7555813642758,\n",
       "  'intensity': 0,\n",
       "  'saturated': False,\n",
       "  'inferred_intensity': 0,\n",
       "  'inferred': False},\n",
       " {'mz': 567.8885274298867,\n",
       "  'intensity': 7560,\n",
       "  'saturated': False,\n",
       "  'inferred_intensity': 7560,\n",
       "  'inferred': False}]"
      ]
     },
     "execution_count": 5,
     "metadata": {},
     "output_type": "execute_result"
    }
   ],
   "source": [
    "idents_df.iloc[0].isotopic_peak_intensities_from_raw_points"
   ]
  },
  {
   "cell_type": "code",
   "execution_count": 6,
   "metadata": {},
   "outputs": [
    {
     "data": {
      "text/plain": [
       "array(['monoisotopic_not_saturated', 'monoisotopic_saturated_adjusted',\n",
       "       'no_nonsaturated_isotopes', 'could_not_calculate_phr'],\n",
       "      dtype=object)"
      ]
     },
     "execution_count": 6,
     "metadata": {},
     "output_type": "execute_result"
    }
   ],
   "source": [
    "idents_df.mono_intensity_adjustment_outcome.unique()"
   ]
  },
  {
   "cell_type": "code",
   "execution_count": 7,
   "metadata": {},
   "outputs": [
    {
     "data": {
      "text/html": [
       "<div>\n",
       "<style scoped>\n",
       "    .dataframe tbody tr th:only-of-type {\n",
       "        vertical-align: middle;\n",
       "    }\n",
       "\n",
       "    .dataframe tbody tr th {\n",
       "        vertical-align: top;\n",
       "    }\n",
       "\n",
       "    .dataframe thead th {\n",
       "        text-align: right;\n",
       "    }\n",
       "</style>\n",
       "<table border=\"1\" class=\"dataframe\">\n",
       "  <thead>\n",
       "    <tr style=\"text-align: right;\">\n",
       "      <th></th>\n",
       "      <th>monoisotopic_mz</th>\n",
       "      <th>charge</th>\n",
       "      <th>monoisotopic_mass</th>\n",
       "      <th>feature_intensity</th>\n",
       "      <th>envelope_mono_peak_mz</th>\n",
       "      <th>envelope_mono_peak_intensity</th>\n",
       "      <th>envelope</th>\n",
       "      <th>isotope_count</th>\n",
       "      <th>deconvolution_score</th>\n",
       "      <th>scan_apex</th>\n",
       "      <th>...</th>\n",
       "      <th>percolator q-value</th>\n",
       "      <th>percolator PEP</th>\n",
       "      <th>total matches/spectrum</th>\n",
       "      <th>sequence</th>\n",
       "      <th>protein id</th>\n",
       "      <th>flanking aa</th>\n",
       "      <th>observed_monoisotopic_mass</th>\n",
       "      <th>theoretical_peptide_mass</th>\n",
       "      <th>mass_accuracy_ppm</th>\n",
       "      <th>mass_error</th>\n",
       "    </tr>\n",
       "  </thead>\n",
       "  <tbody>\n",
       "    <tr>\n",
       "      <th>8225</th>\n",
       "      <td>775.390990</td>\n",
       "      <td>3</td>\n",
       "      <td>2323.151139</td>\n",
       "      <td>194151.0</td>\n",
       "      <td>775.385307</td>\n",
       "      <td>56963.0</td>\n",
       "      <td>[[775.3853065162377, 56963.0], [775.7254412142...</td>\n",
       "      <td>5</td>\n",
       "      <td>583.893074</td>\n",
       "      <td>480.714832</td>\n",
       "      <td>...</td>\n",
       "      <td>0.001025</td>\n",
       "      <td>0.030118</td>\n",
       "      <td>2621.74</td>\n",
       "      <td>QSAERNSNLVGAAHEELQQSR</td>\n",
       "      <td>sp|P02545|LMNA_HUMAN</td>\n",
       "      <td>RI</td>\n",
       "      <td>2323.154270</td>\n",
       "      <td>2323.126500</td>\n",
       "      <td>11.953821</td>\n",
       "      <td>0.027770</td>\n",
       "    </tr>\n",
       "    <tr>\n",
       "      <th>54215</th>\n",
       "      <td>1080.571775</td>\n",
       "      <td>2</td>\n",
       "      <td>2159.128997</td>\n",
       "      <td>144156.0</td>\n",
       "      <td>1080.569314</td>\n",
       "      <td>39644.0</td>\n",
       "      <td>[[1080.5693137562694, 39644.0], [1081.07345233...</td>\n",
       "      <td>5</td>\n",
       "      <td>698.513532</td>\n",
       "      <td>148.000469</td>\n",
       "      <td>...</td>\n",
       "      <td>0.571387</td>\n",
       "      <td>0.980994</td>\n",
       "      <td>2621.74</td>\n",
       "      <td>TGLEAERLMEVEQVLESAR</td>\n",
       "      <td>sp|P12996|BIOB_ECOLI</td>\n",
       "      <td>KK</td>\n",
       "      <td>2159.129696</td>\n",
       "      <td>2159.089200</td>\n",
       "      <td>18.756278</td>\n",
       "      <td>0.040496</td>\n",
       "    </tr>\n",
       "    <tr>\n",
       "      <th>38861</th>\n",
       "      <td>913.780266</td>\n",
       "      <td>3</td>\n",
       "      <td>2738.318969</td>\n",
       "      <td>443660.0</td>\n",
       "      <td>913.780266</td>\n",
       "      <td>89263.0</td>\n",
       "      <td>[[913.7802660889216, 89263.0], [914.1157795831...</td>\n",
       "      <td>5</td>\n",
       "      <td>1344.312555</td>\n",
       "      <td>552.735147</td>\n",
       "      <td>...</td>\n",
       "      <td>0.000243</td>\n",
       "      <td>0.000878</td>\n",
       "      <td>2621.74</td>\n",
       "      <td>AWVWNTHADFADECPKPELLAIR</td>\n",
       "      <td>sp|P43487|RANG_HUMAN</td>\n",
       "      <td>RF</td>\n",
       "      <td>2738.325956</td>\n",
       "      <td>2738.327464</td>\n",
       "      <td>-0.550571</td>\n",
       "      <td>-0.001508</td>\n",
       "    </tr>\n",
       "    <tr>\n",
       "      <th>8461</th>\n",
       "      <td>1095.956865</td>\n",
       "      <td>2</td>\n",
       "      <td>2189.899176</td>\n",
       "      <td>188480.0</td>\n",
       "      <td>1096.458542</td>\n",
       "      <td>66641.0</td>\n",
       "      <td>[[1096.4585420736232, 66641.0], [1096.45854207...</td>\n",
       "      <td>5</td>\n",
       "      <td>509.268768</td>\n",
       "      <td>260.870074</td>\n",
       "      <td>...</td>\n",
       "      <td>0.561403</td>\n",
       "      <td>0.978653</td>\n",
       "      <td>2621.74</td>\n",
       "      <td>M[15.9949]SQEKNEMFESEWSKER</td>\n",
       "      <td>sp|Q5VVM6|CCD30_HUMAN</td>\n",
       "      <td>-E</td>\n",
       "      <td>2189.901818</td>\n",
       "      <td>2189.935700</td>\n",
       "      <td>-15.471689</td>\n",
       "      <td>-0.033882</td>\n",
       "    </tr>\n",
       "  </tbody>\n",
       "</table>\n",
       "<p>4 rows × 41 columns</p>\n",
       "</div>"
      ],
      "text/plain": [
       "       monoisotopic_mz  charge  monoisotopic_mass  feature_intensity  \\\n",
       "8225        775.390990       3        2323.151139           194151.0   \n",
       "54215      1080.571775       2        2159.128997           144156.0   \n",
       "38861       913.780266       3        2738.318969           443660.0   \n",
       "8461       1095.956865       2        2189.899176           188480.0   \n",
       "\n",
       "       envelope_mono_peak_mz  envelope_mono_peak_intensity  \\\n",
       "8225              775.385307                       56963.0   \n",
       "54215            1080.569314                       39644.0   \n",
       "38861             913.780266                       89263.0   \n",
       "8461             1096.458542                       66641.0   \n",
       "\n",
       "                                                envelope  isotope_count  \\\n",
       "8225   [[775.3853065162377, 56963.0], [775.7254412142...              5   \n",
       "54215  [[1080.5693137562694, 39644.0], [1081.07345233...              5   \n",
       "38861  [[913.7802660889216, 89263.0], [914.1157795831...              5   \n",
       "8461   [[1096.4585420736232, 66641.0], [1096.45854207...              5   \n",
       "\n",
       "       deconvolution_score   scan_apex  ...  percolator q-value  \\\n",
       "8225            583.893074  480.714832  ...            0.001025   \n",
       "54215           698.513532  148.000469  ...            0.571387   \n",
       "38861          1344.312555  552.735147  ...            0.000243   \n",
       "8461            509.268768  260.870074  ...            0.561403   \n",
       "\n",
       "       percolator PEP  total matches/spectrum                    sequence  \\\n",
       "8225         0.030118                 2621.74       QSAERNSNLVGAAHEELQQSR   \n",
       "54215        0.980994                 2621.74         TGLEAERLMEVEQVLESAR   \n",
       "38861        0.000878                 2621.74     AWVWNTHADFADECPKPELLAIR   \n",
       "8461         0.978653                 2621.74  M[15.9949]SQEKNEMFESEWSKER   \n",
       "\n",
       "                  protein id  flanking aa  observed_monoisotopic_mass  \\\n",
       "8225    sp|P02545|LMNA_HUMAN           RI                 2323.154270   \n",
       "54215   sp|P12996|BIOB_ECOLI           KK                 2159.129696   \n",
       "38861   sp|P43487|RANG_HUMAN           RF                 2738.325956   \n",
       "8461   sp|Q5VVM6|CCD30_HUMAN           -E                 2189.901818   \n",
       "\n",
       "      theoretical_peptide_mass mass_accuracy_ppm  mass_error  \n",
       "8225               2323.126500         11.953821    0.027770  \n",
       "54215              2159.089200         18.756278    0.040496  \n",
       "38861              2738.327464         -0.550571   -0.001508  \n",
       "8461               2189.935700        -15.471689   -0.033882  \n",
       "\n",
       "[4 rows x 41 columns]"
      ]
     },
     "execution_count": 7,
     "metadata": {},
     "output_type": "execute_result"
    }
   ],
   "source": [
    "idents_df[(idents_df.mono_intensity_adjustment_outcome == 'monoisotopic_saturated_adjusted') & (idents_df.isotope_count > 4)].sample(n=4)"
   ]
  },
  {
   "cell_type": "code",
   "execution_count": 12,
   "metadata": {},
   "outputs": [],
   "source": [
    "selected_sequence = idents_df.loc[38861]"
   ]
  },
  {
   "cell_type": "code",
   "execution_count": 13,
   "metadata": {},
   "outputs": [
    {
     "data": {
      "text/plain": [
       "[{'mz': 913.7802660889216,\n",
       "  'intensity': 245948,\n",
       "  'saturated': True,\n",
       "  'inferred_intensity': 281423,\n",
       "  'inferred': True},\n",
       " {'mz': 914.1157795831459,\n",
       "  'intensity': 361985,\n",
       "  'saturated': True,\n",
       "  'inferred_intensity': 417752,\n",
       "  'inferred': True},\n",
       " {'mz': 914.4484620368561,\n",
       "  'intensity': 305668,\n",
       "  'saturated': True,\n",
       "  'inferred_intensity': 330012,\n",
       "  'inferred': True},\n",
       " {'mz': 914.7825687898053,\n",
       "  'intensity': 182890,\n",
       "  'saturated': False,\n",
       "  'inferred_intensity': 182890,\n",
       "  'inferred': False},\n",
       " {'mz': 915.1174104102332,\n",
       "  'intensity': 90668,\n",
       "  'saturated': False,\n",
       "  'inferred_intensity': 90668,\n",
       "  'inferred': False}]"
      ]
     },
     "execution_count": 13,
     "metadata": {},
     "output_type": "execute_result"
    }
   ],
   "source": [
    "selected_sequence.isotopic_peak_intensities_from_raw_points"
   ]
  },
  {
   "cell_type": "code",
   "execution_count": 14,
   "metadata": {},
   "outputs": [],
   "source": [
    "isotope_intensities_df = pd.DataFrame(selected_sequence.isotopic_peak_intensities_from_raw_points)"
   ]
  },
  {
   "cell_type": "code",
   "execution_count": 15,
   "metadata": {},
   "outputs": [
    {
     "data": {
      "text/html": [
       "<div>\n",
       "<style scoped>\n",
       "    .dataframe tbody tr th:only-of-type {\n",
       "        vertical-align: middle;\n",
       "    }\n",
       "\n",
       "    .dataframe tbody tr th {\n",
       "        vertical-align: top;\n",
       "    }\n",
       "\n",
       "    .dataframe thead th {\n",
       "        text-align: right;\n",
       "    }\n",
       "</style>\n",
       "<table border=\"1\" class=\"dataframe\">\n",
       "  <thead>\n",
       "    <tr style=\"text-align: right;\">\n",
       "      <th></th>\n",
       "      <th>mz</th>\n",
       "      <th>intensity</th>\n",
       "      <th>saturated</th>\n",
       "      <th>inferred_intensity</th>\n",
       "      <th>inferred</th>\n",
       "    </tr>\n",
       "  </thead>\n",
       "  <tbody>\n",
       "    <tr>\n",
       "      <th>0</th>\n",
       "      <td>913.780266</td>\n",
       "      <td>245948</td>\n",
       "      <td>True</td>\n",
       "      <td>281423</td>\n",
       "      <td>True</td>\n",
       "    </tr>\n",
       "    <tr>\n",
       "      <th>1</th>\n",
       "      <td>914.115780</td>\n",
       "      <td>361985</td>\n",
       "      <td>True</td>\n",
       "      <td>417752</td>\n",
       "      <td>True</td>\n",
       "    </tr>\n",
       "    <tr>\n",
       "      <th>2</th>\n",
       "      <td>914.448462</td>\n",
       "      <td>305668</td>\n",
       "      <td>True</td>\n",
       "      <td>330012</td>\n",
       "      <td>True</td>\n",
       "    </tr>\n",
       "    <tr>\n",
       "      <th>3</th>\n",
       "      <td>914.782569</td>\n",
       "      <td>182890</td>\n",
       "      <td>False</td>\n",
       "      <td>182890</td>\n",
       "      <td>False</td>\n",
       "    </tr>\n",
       "    <tr>\n",
       "      <th>4</th>\n",
       "      <td>915.117410</td>\n",
       "      <td>90668</td>\n",
       "      <td>False</td>\n",
       "      <td>90668</td>\n",
       "      <td>False</td>\n",
       "    </tr>\n",
       "  </tbody>\n",
       "</table>\n",
       "</div>"
      ],
      "text/plain": [
       "           mz  intensity  saturated  inferred_intensity  inferred\n",
       "0  913.780266     245948       True              281423      True\n",
       "1  914.115780     361985       True              417752      True\n",
       "2  914.448462     305668       True              330012      True\n",
       "3  914.782569     182890      False              182890     False\n",
       "4  915.117410      90668      False               90668     False"
      ]
     },
     "execution_count": 15,
     "metadata": {},
     "output_type": "execute_result"
    }
   ],
   "source": [
    "isotope_intensities_df"
   ]
  },
  {
   "cell_type": "code",
   "execution_count": 18,
   "metadata": {},
   "outputs": [
    {
     "data": {
      "image/png": "[encoded data removed]",
      "text/plain": [
       "<Figure size 1080x576 with 1 Axes>"
      ]
     },
     "metadata": {
      "needs_background": "light"
     },
     "output_type": "display_data"
    }
   ],
   "source": [
    "f, ax = plt.subplots()\n",
    "colors = ['tab:blue', 'tab:orange', 'tab:green', 'tab:red', 'tab:purple', 'tab:brown', 'tab:pink', 'tab:gray', 'tab:olive', 'tab:cyan']\n",
    "\n",
    "markerline, stemlines, baseline = ax.stem(isotope_intensities_df.mz, isotope_intensities_df.intensity, use_line_collection=True, label='raw intensity')\n",
    "plt.setp(markerline, 'color', 'tab:green')\n",
    "plt.setp(stemlines, 'color', 'tab:green')\n",
    "plt.setp(baseline, 'color', colors[7])\n",
    "plt.setp(markerline, 'alpha', 0.6)\n",
    "plt.setp(stemlines, 'alpha', 0.6)\n",
    "\n",
    "markerline, stemlines, baseline = ax.stem(isotope_intensities_df.mz, isotope_intensities_df.inferred_intensity, use_line_collection=True, label='inferred intensity')\n",
    "plt.setp(markerline, 'color', 'tab:orange')\n",
    "plt.setp(stemlines, 'color', 'tab:orange')\n",
    "plt.setp(baseline, 'color', colors[7])\n",
    "plt.setp(markerline, 'alpha', 0.6)\n",
    "plt.setp(stemlines, 'alpha', 0.6)\n",
    "\n",
    "# highlight the isotopes with inferred intensity\n",
    "adjusted_intensity_df = isotope_intensities_df[(isotope_intensities_df.inferred == True)]\n",
    "ax.plot(adjusted_intensity_df.mz, adjusted_intensity_df.inferred_intensity, marker='o', markerfacecolor='none', markeredgecolor='springgreen', linestyle='', markeredgewidth=2, ms=15, label='isotope in saturation')\n",
    "\n",
    "# highlight the isotopes without inferred intensity\n",
    "not_adjusted_intensity_df = isotope_intensities_df[(isotope_intensities_df.inferred == False)]\n",
    "ax.plot(not_adjusted_intensity_df.mz, not_adjusted_intensity_df.inferred_intensity, marker='o', markerfacecolor='none', markeredgecolor='seagreen', linestyle='', markeredgewidth=2, ms=15, label='isotope not in saturation')\n",
    "\n",
    "plt.xlabel('m/z')\n",
    "plt.ylabel('intensity')\n",
    "f.set_figheight(8)\n",
    "f.set_figwidth(15)\n",
    "plt.margins(0.06)\n",
    "plt.legend(loc='best')\n",
    "plt.title('Isotopes before and after saturation adjustment\\nrun {}, sequence {}, charge {}'.format(RUN_NAME, selected_sequence.sequence, selected_sequence.charge))\n",
    "plt.show()"
   ]
  },
  {
   "cell_type": "markdown",
   "metadata": {},
   "source": [
    "#### distribution of isotopes in saturation"
   ]
  },
  {
   "cell_type": "code",
   "execution_count": 12,
   "metadata": {},
   "outputs": [],
   "source": [
    "df = extracted_features_df[(extracted_features_df.isotope_idx_not_in_saturation > 0)]"
   ]
  },
  {
   "cell_type": "code",
   "execution_count": 23,
   "metadata": {},
   "outputs": [
    {
     "data": {
      "image/png": "[encoded data removed]",
      "text/plain": [
       "<Figure size 1080x576 with 1 Axes>"
      ]
     },
     "metadata": {
      "needs_background": "light"
     },
     "output_type": "display_data"
    }
   ],
   "source": [
    "f, ax1 = plt.subplots()\n",
    "f.set_figheight(8)\n",
    "f.set_figwidth(15)\n",
    "\n",
    "plt.margins(0.06)\n",
    "plt.title('')\n",
    "\n",
    "counts = np.bincount(df.isotope_idx_not_in_saturation)\n",
    "ax1.bar(range(df.isotope_idx_not_in_saturation.max()+1), counts, width=0.5, align='center')\n",
    "ax1.set(xticks=range(1,df.isotope_idx_not_in_saturation.max()+1), xlim=[0, df.isotope_idx_not_in_saturation.max()+1])\n",
    "\n",
    "plt.xlabel('isotope index used to infer the monoisotopic peak intensity')\n",
    "plt.ylabel('count')\n",
    "plt.title('distribution of isotope index used to infer the intensity of the monoisotopic peak (index=0)\\nrun {}, experiment {}'.format(RUN_NAME, EXPERIMENT_NAME))\n",
    "\n",
    "plt.show()"
   ]
  },
  {
   "cell_type": "code",
   "execution_count": null,
   "metadata": {},
   "outputs": [],
   "source": []
  }
 ],
 "metadata": {
  "kernelspec": {
   "display_name": "Python 3",
   "language": "python",
   "name": "python3"
  },
  "language_info": {
   "codemirror_mode": {
    "name": "ipython",
    "version": 3
   },
   "file_extension": ".py",
   "mimetype": "text/x-python",
   "name": "python",
   "nbconvert_exporter": "python",
   "pygments_lexer": "ipython3",
   "version": "3.8.5"
  }
 },
 "nbformat": 4,
 "nbformat_minor": 2
}
