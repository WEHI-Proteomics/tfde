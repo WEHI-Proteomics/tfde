{
 "cells": [
  {
   "cell_type": "code",
   "execution_count": 4,
   "metadata": {},
   "outputs": [],
   "source": [
    "import pandas as pd\n",
    "import matplotlib.pyplot as plt\n",
    "import sqlite3\n",
    "import json\n",
    "import numpy as np"
   ]
  },
  {
   "cell_type": "code",
   "execution_count": 5,
   "metadata": {},
   "outputs": [],
   "source": [
    "EXPERIMENT_BASE_DIR = '/media/big-ssd/experiments'\n",
    "EXPERIMENT_NAME = 'P3856'\n",
    "EXPERIMENT_DIR = '{}/{}'.format(EXPERIMENT_BASE_DIR, EXPERIMENT_NAME)\n",
    "RUN_NAME = 'P3856_YHE211_1_Slot1-1_1_5104'"
   ]
  },
  {
   "cell_type": "code",
   "execution_count": 6,
   "metadata": {},
   "outputs": [],
   "source": [
    "d = pd.read_pickle('{}/identifications-pasef/exp-{}-identifications-pasef-recalibrated.pkl'.format(EXPERIMENT_DIR, EXPERIMENT_NAME))\n",
    "idents_df = d['identifications_df']"
   ]
  },
  {
   "cell_type": "code",
   "execution_count": 7,
   "metadata": {},
   "outputs": [],
   "source": [
    "idents_df = idents_df[idents_df['percolator q-value'] < 0.01]"
   ]
  },
  {
   "cell_type": "code",
   "execution_count": 25,
   "metadata": {},
   "outputs": [
    {
     "data": {
      "text/plain": [
       "Index(['monoisotopic_mz', 'charge', 'monoisotopic_mass', 'feature_intensity',\n",
       "       'envelope_mono_peak_mz', 'envelope_mono_peak_intensity', 'envelope',\n",
       "       'isotope_count', 'deconvolution_score', 'scan_apex', 'scan_lower',\n",
       "       'scan_upper', 'rt_apex', 'rt_lower', 'rt_upper',\n",
       "       'mono_mz_without_saturated_points', 'mono_intensity_from_raw_points',\n",
       "       'mono_intensity_adjustment_outcome',\n",
       "       'isotopic_peak_intensities_from_raw_points', 'precursor_cuboid_id',\n",
       "       'fragment_ions_l', 'feature_id', 'run_name', 'predicted_mass_error',\n",
       "       'recalibrated_monoisotopic_mass', 'recalibrated_monoisotopic_mz',\n",
       "       'file_idx', 'spectrum precursor m/z', 'spectrum neutral mass',\n",
       "       'peptide mass', 'percolator score', 'percolator q-value',\n",
       "       'percolator PEP', 'total matches/spectrum', 'sequence', 'protein id',\n",
       "       'flanking aa', 'observed_monoisotopic_mass', 'theoretical_peptide_mass',\n",
       "       'mass_accuracy_ppm', 'mass_error'],\n",
       "      dtype='object')"
      ]
     },
     "execution_count": 25,
     "metadata": {},
     "output_type": "execute_result"
    }
   ],
   "source": [
    "idents_df.columns"
   ]
  },
  {
   "cell_type": "code",
   "execution_count": 8,
   "metadata": {},
   "outputs": [
    {
     "data": {
      "text/plain": [
       "monoisotopic_not_saturated         94.371562\n",
       "monoisotopic_saturated_adjusted     5.572013\n",
       "no_nonsaturated_isotopes            0.056425\n",
       "Name: mono_intensity_adjustment_outcome, dtype: float64"
      ]
     },
     "execution_count": 8,
     "metadata": {},
     "output_type": "execute_result"
    }
   ],
   "source": [
    "idents_df.mono_intensity_adjustment_outcome.value_counts(normalize=True) * 100"
   ]
  },
  {
   "cell_type": "code",
   "execution_count": 9,
   "metadata": {},
   "outputs": [
    {
     "data": {
      "text/plain": [
       "71181    39942\n",
       "73610    41148\n",
       "47779    28174\n",
       "69780    39218\n",
       "58629    33641\n",
       "Name: precursor_cuboid_id, dtype: int64"
      ]
     },
     "execution_count": 9,
     "metadata": {},
     "output_type": "execute_result"
    }
   ],
   "source": [
    "# find the precursor id of an ident that has high intensity but was not in saturation\n",
    "idents_df = idents_df.sort_values(by=['feature_intensity'], ascending=False, inplace=False)\n",
    "idents_df[(idents_df.mono_intensity_adjustment_outcome == 'monoisotopic_not_saturated')].head(5).precursor_cuboid_id"
   ]
  },
  {
   "cell_type": "code",
   "execution_count": 10,
   "metadata": {},
   "outputs": [
    {
     "data": {
      "text/plain": [
       "9631      8155\n",
       "67431    38065\n",
       "90675    51422\n",
       "248        436\n",
       "91009    51742\n",
       "Name: precursor_cuboid_id, dtype: int64"
      ]
     },
     "execution_count": 10,
     "metadata": {},
     "output_type": "execute_result"
    }
   ],
   "source": [
    "idents_df[(idents_df.mono_intensity_adjustment_outcome == 'monoisotopic_not_saturated')].tail(5).precursor_cuboid_id"
   ]
  },
  {
   "cell_type": "code",
   "execution_count": 11,
   "metadata": {},
   "outputs": [
    {
     "data": {
      "text/plain": [
       "80618    44912\n",
       "79722    44434\n",
       "75328    42014\n",
       "80501    44857\n",
       "71183    39943\n",
       "Name: precursor_cuboid_id, dtype: int64"
      ]
     },
     "execution_count": 11,
     "metadata": {},
     "output_type": "execute_result"
    }
   ],
   "source": [
    "idents_df[(idents_df.mono_intensity_adjustment_outcome == 'monoisotopic_saturated_adjusted') & (idents_df.isotope_count > 4)].head(5).precursor_cuboid_id"
   ]
  },
  {
   "cell_type": "code",
   "execution_count": 16,
   "metadata": {},
   "outputs": [],
   "source": [
    "selected_sequence = idents_df.loc[80618]"
   ]
  },
  {
   "cell_type": "code",
   "execution_count": 17,
   "metadata": {},
   "outputs": [],
   "source": [
    "isotope_intensities_df = pd.DataFrame(selected_sequence.isotopic_peak_intensities_from_raw_points)"
   ]
  },
  {
   "cell_type": "code",
   "execution_count": 18,
   "metadata": {},
   "outputs": [
    {
     "data": {
      "text/html": [
       "<div>\n",
       "<style scoped>\n",
       "    .dataframe tbody tr th:only-of-type {\n",
       "        vertical-align: middle;\n",
       "    }\n",
       "\n",
       "    .dataframe tbody tr th {\n",
       "        vertical-align: top;\n",
       "    }\n",
       "\n",
       "    .dataframe thead th {\n",
       "        text-align: right;\n",
       "    }\n",
       "</style>\n",
       "<table border=\"1\" class=\"dataframe\">\n",
       "  <thead>\n",
       "    <tr style=\"text-align: right;\">\n",
       "      <th></th>\n",
       "      <th>mz</th>\n",
       "      <th>mz_lower</th>\n",
       "      <th>mz_upper</th>\n",
       "      <th>intensity</th>\n",
       "      <th>saturated</th>\n",
       "      <th>inferred_intensity</th>\n",
       "      <th>inferred</th>\n",
       "    </tr>\n",
       "  </thead>\n",
       "  <tbody>\n",
       "    <tr>\n",
       "      <th>0</th>\n",
       "      <td>1114.110540</td>\n",
       "      <td>1114.075056</td>\n",
       "      <td>1114.146023</td>\n",
       "      <td>1927771</td>\n",
       "      <td>True</td>\n",
       "      <td>2555402</td>\n",
       "      <td>True</td>\n",
       "    </tr>\n",
       "    <tr>\n",
       "      <th>1</th>\n",
       "      <td>1114.611983</td>\n",
       "      <td>1114.576484</td>\n",
       "      <td>1114.647483</td>\n",
       "      <td>2230750</td>\n",
       "      <td>True</td>\n",
       "      <td>3076655</td>\n",
       "      <td>True</td>\n",
       "    </tr>\n",
       "    <tr>\n",
       "      <th>2</th>\n",
       "      <td>1115.113107</td>\n",
       "      <td>1115.077592</td>\n",
       "      <td>1115.148623</td>\n",
       "      <td>1657008</td>\n",
       "      <td>True</td>\n",
       "      <td>2001003</td>\n",
       "      <td>True</td>\n",
       "    </tr>\n",
       "    <tr>\n",
       "      <th>3</th>\n",
       "      <td>1115.613851</td>\n",
       "      <td>1115.578319</td>\n",
       "      <td>1115.649383</td>\n",
       "      <td>873721</td>\n",
       "      <td>True</td>\n",
       "      <td>921613</td>\n",
       "      <td>True</td>\n",
       "    </tr>\n",
       "    <tr>\n",
       "      <th>4</th>\n",
       "      <td>1116.111671</td>\n",
       "      <td>1116.076123</td>\n",
       "      <td>1116.147218</td>\n",
       "      <td>333976</td>\n",
       "      <td>False</td>\n",
       "      <td>333976</td>\n",
       "      <td>False</td>\n",
       "    </tr>\n",
       "  </tbody>\n",
       "</table>\n",
       "</div>"
      ],
      "text/plain": [
       "            mz     mz_lower     mz_upper  intensity  saturated  \\\n",
       "0  1114.110540  1114.075056  1114.146023    1927771       True   \n",
       "1  1114.611983  1114.576484  1114.647483    2230750       True   \n",
       "2  1115.113107  1115.077592  1115.148623    1657008       True   \n",
       "3  1115.613851  1115.578319  1115.649383     873721       True   \n",
       "4  1116.111671  1116.076123  1116.147218     333976      False   \n",
       "\n",
       "   inferred_intensity  inferred  \n",
       "0             2555402      True  \n",
       "1             3076655      True  \n",
       "2             2001003      True  \n",
       "3              921613      True  \n",
       "4              333976     False  "
      ]
     },
     "execution_count": 18,
     "metadata": {},
     "output_type": "execute_result"
    }
   ],
   "source": [
    "isotope_intensities_df"
   ]
  },
  {
   "cell_type": "code",
   "execution_count": 19,
   "metadata": {},
   "outputs": [
    {
     "data": {
      "image/png": "[encoded data removed]",
      "text/plain": [
       "<Figure size 1080x576 with 1 Axes>"
      ]
     },
     "metadata": {
      "needs_background": "light"
     },
     "output_type": "display_data"
    }
   ],
   "source": [
    "f, ax = plt.subplots()\n",
    "colors = ['tab:blue', 'tab:orange', 'tab:green', 'tab:red', 'tab:purple', 'tab:brown', 'tab:pink', 'tab:gray', 'tab:olive', 'tab:cyan']\n",
    "\n",
    "markerline, stemlines, baseline = ax.stem(isotope_intensities_df.mz, isotope_intensities_df.intensity, use_line_collection=True, label='raw intensity')\n",
    "plt.setp(markerline, 'color', 'tab:green')\n",
    "plt.setp(stemlines, 'color', 'tab:green')\n",
    "plt.setp(baseline, 'color', colors[7])\n",
    "plt.setp(markerline, 'alpha', 0.6)\n",
    "plt.setp(stemlines, 'alpha', 0.6)\n",
    "\n",
    "markerline, stemlines, baseline = ax.stem(isotope_intensities_df.mz, isotope_intensities_df.inferred_intensity, use_line_collection=True, label='inferred intensity')\n",
    "plt.setp(markerline, 'color', 'tab:orange')\n",
    "plt.setp(stemlines, 'color', 'tab:orange')\n",
    "plt.setp(baseline, 'color', colors[7])\n",
    "plt.setp(markerline, 'alpha', 0.6)\n",
    "plt.setp(stemlines, 'alpha', 0.6)\n",
    "\n",
    "# highlight the isotopes with inferred intensity\n",
    "adjusted_intensity_df = isotope_intensities_df[(isotope_intensities_df.inferred == True)]\n",
    "ax.plot(adjusted_intensity_df.mz, adjusted_intensity_df.inferred_intensity, marker='o', markerfacecolor='none', markeredgecolor='springgreen', linestyle='', markeredgewidth=2, ms=15, label='isotope in saturation')\n",
    "\n",
    "# highlight the isotopes without inferred intensity\n",
    "not_adjusted_intensity_df = isotope_intensities_df[(isotope_intensities_df.inferred == False)]\n",
    "ax.plot(not_adjusted_intensity_df.mz, not_adjusted_intensity_df.inferred_intensity, marker='o', markerfacecolor='none', markeredgecolor='seagreen', linestyle='', markeredgewidth=2, ms=15, label='isotope not in saturation')\n",
    "\n",
    "plt.xlabel('m/z')\n",
    "plt.ylabel('intensity')\n",
    "f.set_figheight(8)\n",
    "f.set_figwidth(15)\n",
    "plt.margins(0.06)\n",
    "plt.legend(loc='best')\n",
    "plt.title('Isotopes before and after saturation adjustment\\nrun {}, sequence {}, charge {}'.format(RUN_NAME, selected_sequence.sequence, selected_sequence.charge))\n",
    "plt.show()"
   ]
  },
  {
   "cell_type": "markdown",
   "metadata": {},
   "source": [
    "#### distribution of identifications and their monoisotopes in saturation"
   ]
  },
  {
   "cell_type": "code",
   "execution_count": 24,
   "metadata": {},
   "outputs": [
    {
     "data": {
      "text/plain": [
       "monoisotopic_not_saturated         94.371562\n",
       "monoisotopic_saturated_adjusted     5.572013\n",
       "no_nonsaturated_isotopes            0.056425\n",
       "Name: mono_intensity_adjustment_outcome, dtype: float64"
      ]
     },
     "execution_count": 24,
     "metadata": {},
     "output_type": "execute_result"
    }
   ],
   "source": [
    "idents_df.mono_intensity_adjustment_outcome.value_counts(normalize=True) * 100"
   ]
  },
  {
   "cell_type": "markdown",
   "metadata": {},
   "source": [
    "#### distribution of isotopes in saturation"
   ]
  },
  {
   "cell_type": "code",
   "execution_count": 34,
   "metadata": {},
   "outputs": [],
   "source": [
    "df = idents_df[(idents_df.mono_intensity_adjustment_outcome == 'monoisotopic_saturated_adjusted')]"
   ]
  },
  {
   "cell_type": "code",
   "execution_count": 38,
   "metadata": {},
   "outputs": [],
   "source": [
    "isotope_idxs_l = []\n",
    "for row in df.itertuples():\n",
    "    isotopes_df = pd.DataFrame(row.isotopic_peak_intensities_from_raw_points)\n",
    "    nonsat_isotope_idx = isotopes_df[isotopes_df.inferred == False].iloc[0].name\n",
    "    isotope_idxs_l.append({'isotope_idx_not_in_saturation':nonsat_isotope_idx})\n",
    "isotope_idxs_df = pd.DataFrame(isotope_idxs_l)"
   ]
  },
  {
   "cell_type": "code",
   "execution_count": 40,
   "metadata": {},
   "outputs": [
    {
     "data": {
      "image/png": "[encoded data removed]",
      "text/plain": [
       "<Figure size 1080x576 with 1 Axes>"
      ]
     },
     "metadata": {
      "needs_background": "light"
     },
     "output_type": "display_data"
    }
   ],
   "source": [
    "f, ax1 = plt.subplots()\n",
    "f.set_figheight(8)\n",
    "f.set_figwidth(15)\n",
    "\n",
    "plt.margins(0.06)\n",
    "plt.title('')\n",
    "\n",
    "counts = np.bincount(isotope_idxs_df.isotope_idx_not_in_saturation)\n",
    "ax1.bar(range(isotope_idxs_df.isotope_idx_not_in_saturation.max()+1), counts, width=0.5, align='center')\n",
    "ax1.set(xticks=range(1,isotope_idxs_df.isotope_idx_not_in_saturation.max()+1), xlim=[0, isotope_idxs_df.isotope_idx_not_in_saturation.max()+1])\n",
    "\n",
    "plt.xlabel('isotope index used to infer the monoisotopic peak intensity')\n",
    "plt.ylabel('count')\n",
    "plt.title('distribution of isotope index used to infer the intensity of the monoisotopic peak (index=0)\\nrun {}, experiment {}'.format(RUN_NAME, EXPERIMENT_NAME))\n",
    "\n",
    "plt.show()"
   ]
  },
  {
   "cell_type": "code",
   "execution_count": null,
   "metadata": {},
   "outputs": [],
   "source": []
  }
 ],
 "metadata": {
  "kernelspec": {
   "display_name": "Python 3",
   "language": "python",
   "name": "python3"
  },
  "language_info": {
   "codemirror_mode": {
    "name": "ipython",
    "version": 3
   },
   "file_extension": ".py",
   "mimetype": "text/x-python",
   "name": "python",
   "nbconvert_exporter": "python",
   "pygments_lexer": "ipython3",
   "version": "3.8.5"
  }
 },
 "nbformat": 4,
 "nbformat_minor": 2
}
