{
 "cells": [
  {
   "cell_type": "code",
   "execution_count": 1,
   "metadata": {},
   "outputs": [],
   "source": [
    "import pandas as pd\n",
    "import numpy as np\n",
    "import os\n",
    "import matplotlib.pyplot as plt\n",
    "import pickle\n",
    "import json\n",
    "from os.path import expanduser\n",
    "import sqlite3\n",
    "import seaborn as sns"
   ]
  },
  {
   "cell_type": "markdown",
   "metadata": {},
   "source": [
    "### detections"
   ]
  },
  {
   "cell_type": "code",
   "execution_count": 10,
   "metadata": {},
   "outputs": [],
   "source": [
    "experiment_name = 'P3856'\n",
    "run_name = 'P3856_YHE211_1_Slot1-1_1_5104'\n",
    "\n",
    "EXPERIMENT_DIR = '/media/big-ssd/experiments/{}'.format(experiment_name)\n",
    "\n",
    "FEATURES_PASEF_DIR = '{}/features-pasef'.format(EXPERIMENT_DIR)\n",
    "FEATURES_PASEF_FILE = '{}/exp-{}-run-{}-features-pasef-dedup.pkl'.format(FEATURES_PASEF_DIR, experiment_name, run_name)\n",
    "\n",
    "FEATURES_3DID_DIR = '{}/features-3did'.format(EXPERIMENT_DIR)\n",
    "# FEATURES_3DID_FILE = '{}/exp-{}-run-{}-features-3did-dedup.pkl'.format(FEATURES_3DID_DIR, experiment_name, run_name)\n",
    "FEATURES_3DID_FILE = '/media/big-ssd/results-P3856-3did/7-jul-minvi-5000/exp-{}-run-{}-features-3did-dedup.pkl'.format(experiment_name, run_name)\n",
    "\n",
    "FEATURES_MQ_DIR = '{}/features-mq'.format(EXPERIMENT_DIR)\n",
    "FEATURES_MQ_FILE = '{}/exp-{}-run-{}-features-mq-dedup.pkl'.format(FEATURES_MQ_DIR, experiment_name, run_name)"
   ]
  },
  {
   "cell_type": "code",
   "execution_count": 11,
   "metadata": {},
   "outputs": [],
   "source": [
    "MAXIMUM_Q_VALUE = 0.01"
   ]
  },
  {
   "cell_type": "code",
   "execution_count": 12,
   "metadata": {},
   "outputs": [],
   "source": [
    "# only look at this part of the run\n",
    "RT_LOWER = 1650\n",
    "RT_UPPER = 2200"
   ]
  },
  {
   "cell_type": "code",
   "execution_count": 13,
   "metadata": {},
   "outputs": [],
   "source": [
    "# define a straight line to exclude the charge-1 cloud\n",
    "def scan_coords_for_single_charge_region(mz_lower, mz_upper):\n",
    "    scan_for_mz_lower = max(int(-1 * ((1.2 * mz_lower) - 1252)), 0)\n",
    "    scan_for_mz_upper = max(int(-1 * ((1.2 * mz_upper) - 1252)), 0)\n",
    "    return {'scan_for_mz_lower':scan_for_mz_lower, 'scan_for_mz_upper':scan_for_mz_upper}"
   ]
  },
  {
   "cell_type": "markdown",
   "metadata": {},
   "source": [
    "#### PASEF-seeded"
   ]
  },
  {
   "cell_type": "code",
   "execution_count": 14,
   "metadata": {},
   "outputs": [],
   "source": [
    "# load the features detected by PASEF\n",
    "with open(FEATURES_PASEF_FILE, 'rb') as handle:\n",
    "    d = pickle.load(handle)\n",
    "features_pasef_df = d['features_df']"
   ]
  },
  {
   "cell_type": "code",
   "execution_count": 15,
   "metadata": {},
   "outputs": [],
   "source": [
    "features_pasef_df['excluded'] = features_pasef_df.apply(lambda row: row.scan_apex < scan_coords_for_single_charge_region(row.monoisotopic_mz, row.monoisotopic_mz)['scan_for_mz_lower'], axis=1)"
   ]
  },
  {
   "cell_type": "code",
   "execution_count": 16,
   "metadata": {},
   "outputs": [],
   "source": [
    "features_pasef_df = features_pasef_df[(features_pasef_df.excluded == False)]"
   ]
  },
  {
   "cell_type": "markdown",
   "metadata": {},
   "source": [
    "#### 3DID"
   ]
  },
  {
   "cell_type": "code",
   "execution_count": 17,
   "metadata": {},
   "outputs": [],
   "source": [
    "# load the features detected by 3DID\n",
    "with open(FEATURES_3DID_FILE, 'rb') as handle:\n",
    "    d = pickle.load(handle)\n",
    "features_3did_df = d['features_df']"
   ]
  },
  {
   "cell_type": "markdown",
   "metadata": {},
   "source": [
    "#### MaxQuant"
   ]
  },
  {
   "cell_type": "code",
   "execution_count": 18,
   "metadata": {},
   "outputs": [],
   "source": [
    "# load the features detected by MaxQuant\n",
    "with open(FEATURES_MQ_FILE, 'rb') as handle:\n",
    "    d = pickle.load(handle)\n",
    "features_mq_df = d['features_df']"
   ]
  },
  {
   "cell_type": "code",
   "execution_count": 19,
   "metadata": {},
   "outputs": [],
   "source": [
    "features_mq_df['excluded'] = features_mq_df.apply(lambda row: row.scan_apex < scan_coords_for_single_charge_region(row.monoisotopic_mz, row.monoisotopic_mz)['scan_for_mz_lower'], axis=1)\n",
    "features_mq_df = features_mq_df[(features_mq_df.excluded == False)]\n",
    "features_mq_df = features_mq_df[(features_mq_df.rt_apex >= RT_LOWER) & (features_mq_df.rt_apex <= RT_UPPER)]\n",
    "features_mq_df = features_mq_df[(features_mq_df.isotope_count >= 3)].copy()"
   ]
  },
  {
   "cell_type": "code",
   "execution_count": 20,
   "metadata": {},
   "outputs": [
    {
     "name": "stdout",
     "output_type": "stream",
     "text": [
      "70406 features from PASEF, 15437 features from MaxQuant, 30138 features from 3DID\n"
     ]
    }
   ],
   "source": [
    "print('{} features from PASEF, {} features from MaxQuant, {} features from 3DID'.format(len(features_pasef_df), len(features_mq_df), len(features_3did_df)))\n"
   ]
  },
  {
   "cell_type": "markdown",
   "metadata": {},
   "source": [
    "#### consolidate the features from all methods"
   ]
  },
  {
   "cell_type": "code",
   "execution_count": 21,
   "metadata": {},
   "outputs": [],
   "source": [
    "combined_names = ['feature_id','charge','monoisotopic_mz','scan_apex','rt_apex']"
   ]
  },
  {
   "cell_type": "code",
   "execution_count": 22,
   "metadata": {},
   "outputs": [],
   "source": [
    "combined_features_mq_df = features_mq_df[combined_names].copy()\n",
    "combined_features_mq_df['method'] = 'mq'\n",
    "\n",
    "combined_features_pasef_df = features_pasef_df[combined_names].copy()\n",
    "combined_features_pasef_df['method'] = 'pasef'\n",
    "\n",
    "combined_features_3did_df = features_3did_df[combined_names].copy()\n",
    "combined_features_3did_df['method'] = '3did'\n",
    "\n",
    "combined_features_df = pd.concat([combined_features_mq_df,combined_features_pasef_df,combined_features_3did_df], axis=0, sort=False, ignore_index=True)\n",
    "combined_features_df['method_feature_id'] = combined_features_df.method+'-'+combined_features_df.feature_id.astype('str')"
   ]
  },
  {
   "cell_type": "markdown",
   "metadata": {},
   "source": [
    "#### find the features in common"
   ]
  },
  {
   "cell_type": "code",
   "execution_count": 23,
   "metadata": {},
   "outputs": [],
   "source": [
    "DUP_MZ_TOLERANCE_PPM = 10\n",
    "DUP_SCAN_TOLERANCE = 20\n",
    "DUP_RT_TOLERANCE = 5"
   ]
  },
  {
   "cell_type": "code",
   "execution_count": 24,
   "metadata": {},
   "outputs": [],
   "source": [
    "# set up dup definitions\n",
    "MZ_TOLERANCE_PERCENT = DUP_MZ_TOLERANCE_PPM * 10**-4\n",
    "combined_features_df['dup_mz'] = combined_features_df['monoisotopic_mz']  # shorthand to reduce verbosity\n",
    "combined_features_df['dup_mz_ppm_tolerance'] = combined_features_df.dup_mz * MZ_TOLERANCE_PERCENT / 100\n",
    "combined_features_df['dup_mz_lower'] = combined_features_df.dup_mz - combined_features_df.dup_mz_ppm_tolerance\n",
    "combined_features_df['dup_mz_upper'] = combined_features_df.dup_mz + combined_features_df.dup_mz_ppm_tolerance\n",
    "combined_features_df['dup_scan_lower'] = combined_features_df.scan_apex - DUP_SCAN_TOLERANCE\n",
    "combined_features_df['dup_scan_upper'] = combined_features_df.scan_apex + DUP_SCAN_TOLERANCE\n",
    "combined_features_df['dup_rt_lower'] = combined_features_df.rt_apex - DUP_RT_TOLERANCE\n",
    "combined_features_df['dup_rt_upper'] = combined_features_df.rt_apex + DUP_RT_TOLERANCE"
   ]
  },
  {
   "cell_type": "code",
   "execution_count": 25,
   "metadata": {},
   "outputs": [],
   "source": [
    "combined_id = 1\n",
    "sets_d = {'mq':set(), '3did':set(), 'pasef':set()}\n",
    "features_processed = set()\n",
    "for row in combined_features_df.itertuples():\n",
    "    if row.method_feature_id not in features_processed:\n",
    "        df = combined_features_df[(row.charge == combined_features_df.charge) & (row.dup_mz >= combined_features_df.dup_mz_lower) & (row.dup_mz <= combined_features_df.dup_mz_upper) & (row.scan_apex >= combined_features_df.dup_scan_lower) & (row.scan_apex <= combined_features_df.dup_scan_upper) & (row.rt_apex >= combined_features_df.dup_rt_lower) & (row.rt_apex <= combined_features_df.dup_rt_upper)].copy()\n",
    "        if len(df) > 0:\n",
    "            # remove the features that have already been processed\n",
    "            feature_ids_not_processed = set(df.method_feature_id.tolist()) - features_processed\n",
    "            df = df[(df.method_feature_id.isin(feature_ids_not_processed))]\n",
    "            for method in df.method.tolist():\n",
    "                sets_d[method].add(combined_id)\n",
    "            # record the features that have been processed\n",
    "            features_processed.update(set(df.method_feature_id.tolist()))\n",
    "            combined_id += 1"
   ]
  },
  {
   "cell_type": "code",
   "execution_count": 26,
   "metadata": {},
   "outputs": [
    {
     "data": {
      "image/png": "[encoded data removed]",
      "text/plain": [
       "<Figure size 1080x720 with 1 Axes>"
      ]
     },
     "metadata": {},
     "output_type": "display_data"
    }
   ],
   "source": [
    "import matplotlib.pyplot as plt\n",
    "from matplotlib_venn import venn3\n",
    "\n",
    "f, ax1 = plt.subplots()\n",
    "f.set_figheight(10)\n",
    "f.set_figwidth(15)\n",
    "\n",
    "plt.margins(0.06)\n",
    "plt.title('features detected')\n",
    "\n",
    "venn3([sets_d['pasef'],sets_d['3did'],sets_d['mq']], ('PASEF-seeded','3DID','MaxQuant'))\n",
    "\n",
    "plt.show()"
   ]
  },
  {
   "cell_type": "markdown",
   "metadata": {},
   "source": [
    "### identifications"
   ]
  },
  {
   "cell_type": "markdown",
   "metadata": {},
   "source": [
    "#### PASEF-seeded"
   ]
  },
  {
   "cell_type": "code",
   "execution_count": 27,
   "metadata": {},
   "outputs": [],
   "source": [
    "IDENTS_PASEF_DIR = '{}/identifications-pasef'.format(EXPERIMENT_DIR)\n",
    "IDENTS_PASEF_FILE = '{}/exp-{}-identifications-pasef-recalibrated.pkl'.format(IDENTS_PASEF_DIR, experiment_name)"
   ]
  },
  {
   "cell_type": "code",
   "execution_count": 28,
   "metadata": {},
   "outputs": [],
   "source": [
    "# load the features identified by PASEF\n",
    "with open(IDENTS_PASEF_FILE, 'rb') as handle:\n",
    "    d = pickle.load(handle)\n",
    "idents_pasef_df = d['identifications_df']\n",
    "idents_pasef_df = idents_pasef_df[(idents_pasef_df.run_name == run_name) & (idents_pasef_df['percolator q-value'] <= MAXIMUM_Q_VALUE)].copy()"
   ]
  },
  {
   "cell_type": "code",
   "execution_count": 29,
   "metadata": {},
   "outputs": [],
   "source": [
    "idents_pasef_df['excluded'] = idents_pasef_df.apply(lambda row: row.scan_apex < scan_coords_for_single_charge_region(row.monoisotopic_mz, row.monoisotopic_mz)['scan_for_mz_lower'], axis=1)\n",
    "idents_pasef_df = idents_pasef_df[(idents_pasef_df.excluded == False)]"
   ]
  },
  {
   "cell_type": "markdown",
   "metadata": {},
   "source": [
    "#### MaxQuant"
   ]
  },
  {
   "cell_type": "code",
   "execution_count": 30,
   "metadata": {},
   "outputs": [],
   "source": [
    "MQ_PERCOLATOR_OUTPUT_DIR = '{}/percolator-output-pasef-maxquant'.format(EXPERIMENT_DIR)"
   ]
  },
  {
   "cell_type": "code",
   "execution_count": 31,
   "metadata": {},
   "outputs": [],
   "source": [
    "# load the percolator output\n",
    "MQ_PERCOLATOR_OUTPUT_FILE_NAME = \"{}/{}.percolator.target.psms.txt\".format(MQ_PERCOLATOR_OUTPUT_DIR, experiment_name)\n",
    "mq_psms_df = pd.read_csv(MQ_PERCOLATOR_OUTPUT_FILE_NAME, sep='\\t')\n",
    "mq_psms_df.rename(columns={'scan': 'mq_index'}, inplace=True)\n",
    "mq_psms_df.drop(['charge'], axis=1, inplace=True)\n",
    "# remove the poor quality identifications\n",
    "mq_psms_df = mq_psms_df[mq_psms_df['peptide mass'] > 0]"
   ]
  },
  {
   "cell_type": "code",
   "execution_count": 32,
   "metadata": {},
   "outputs": [],
   "source": [
    "idents_mq_df = pd.merge(features_mq_df, mq_psms_df, how='left', left_on=['mq_index'], right_on=['mq_index'])\n",
    "# remove any features that were not identified\n",
    "idents_mq_df.dropna(subset=['sequence'], inplace=True)"
   ]
  },
  {
   "cell_type": "code",
   "execution_count": 33,
   "metadata": {},
   "outputs": [],
   "source": [
    "idents_mq_df = idents_mq_df[(idents_mq_df.raw_file == run_name) & (idents_mq_df['percolator q-value'] <= MAXIMUM_Q_VALUE)].copy()"
   ]
  },
  {
   "cell_type": "code",
   "execution_count": 34,
   "metadata": {},
   "outputs": [],
   "source": [
    "idents_mq_df['excluded'] = idents_mq_df.apply(lambda row: row.scan_apex < scan_coords_for_single_charge_region(row.monoisotopic_mz, row.monoisotopic_mz)['scan_for_mz_lower'], axis=1)\n",
    "idents_mq_df = idents_mq_df[(idents_mq_df.excluded == False)]\n",
    "idents_mq_df = idents_mq_df[(idents_mq_df.rt_apex >= RT_LOWER) & (idents_mq_df.rt_apex <= RT_UPPER)]\n",
    "idents_mq_df['feature_intensity'] = idents_mq_df.intensity\n",
    "idents_mq_df = idents_mq_df[(idents_mq_df.isotope_count >= 3)].copy()"
   ]
  },
  {
   "cell_type": "markdown",
   "metadata": {},
   "source": [
    "#### consolidate the identifications from all methods"
   ]
  },
  {
   "cell_type": "code",
   "execution_count": 35,
   "metadata": {},
   "outputs": [],
   "source": [
    "combined_names = ['feature_id','charge','monoisotopic_mz','scan_apex','rt_apex']"
   ]
  },
  {
   "cell_type": "code",
   "execution_count": 36,
   "metadata": {},
   "outputs": [],
   "source": [
    "combined_idents_mq_df = idents_mq_df[combined_names].copy()\n",
    "combined_idents_mq_df['method'] = 'mq'\n",
    "\n",
    "combined_idents_pasef_df = idents_pasef_df[combined_names].copy()\n",
    "combined_idents_pasef_df['method'] = 'pasef'\n",
    "\n",
    "combined_idents_3did_df = features_3did_df[combined_names].copy()\n",
    "combined_idents_3did_df['method'] = '3did'\n",
    "\n",
    "combined_idents_df = pd.concat([combined_idents_mq_df,combined_idents_pasef_df,combined_idents_3did_df], axis=0, sort=False, ignore_index=True)\n",
    "combined_idents_df['method_feature_id'] = combined_idents_df.method+'-'+combined_idents_df.feature_id.astype('str')"
   ]
  },
  {
   "cell_type": "markdown",
   "metadata": {},
   "source": [
    "#### find the identifications in common"
   ]
  },
  {
   "cell_type": "code",
   "execution_count": 37,
   "metadata": {},
   "outputs": [],
   "source": [
    "# set up dup definitions\n",
    "MZ_TOLERANCE_PERCENT = DUP_MZ_TOLERANCE_PPM * 10**-4\n",
    "combined_idents_df['dup_mz'] = combined_idents_df['monoisotopic_mz']  # shorthand to reduce verbosity\n",
    "combined_idents_df['dup_mz_ppm_tolerance'] = combined_idents_df.dup_mz * MZ_TOLERANCE_PERCENT / 100\n",
    "combined_idents_df['dup_mz_lower'] = combined_idents_df.dup_mz - combined_idents_df.dup_mz_ppm_tolerance\n",
    "combined_idents_df['dup_mz_upper'] = combined_idents_df.dup_mz + combined_idents_df.dup_mz_ppm_tolerance\n",
    "combined_idents_df['dup_scan_lower'] = combined_idents_df.scan_apex - DUP_SCAN_TOLERANCE\n",
    "combined_idents_df['dup_scan_upper'] = combined_idents_df.scan_apex + DUP_SCAN_TOLERANCE\n",
    "combined_idents_df['dup_rt_lower'] = combined_idents_df.rt_apex - DUP_RT_TOLERANCE\n",
    "combined_idents_df['dup_rt_upper'] = combined_idents_df.rt_apex + DUP_RT_TOLERANCE"
   ]
  },
  {
   "cell_type": "code",
   "execution_count": 38,
   "metadata": {},
   "outputs": [],
   "source": [
    "combined_id = 1\n",
    "combined_features = []\n",
    "sets_d = {'mq':set(), '3did':set(), 'pasef':set()}\n",
    "features_processed = set()\n",
    "for row in combined_idents_df.itertuples():\n",
    "    if row.method_feature_id not in features_processed:\n",
    "        df = combined_idents_df[(row.charge == combined_idents_df.charge) & (row.dup_mz >= combined_idents_df.dup_mz_lower) & (row.dup_mz <= combined_idents_df.dup_mz_upper) & (row.scan_apex >= combined_idents_df.dup_scan_lower) & (row.scan_apex <= combined_idents_df.dup_scan_upper) & (row.rt_apex >= combined_idents_df.dup_rt_lower) & (row.rt_apex <= combined_idents_df.dup_rt_upper)].copy()\n",
    "        if len(df) > 0:\n",
    "            # remove the features that have already been processed\n",
    "            feature_ids_not_processed = set(df.method_feature_id.tolist()) - features_processed\n",
    "            df = df[(df.method_feature_id.isin(feature_ids_not_processed))]\n",
    "            for method in df.method.tolist():\n",
    "                sets_d[method].add(combined_id)\n",
    "            # record the features that have been processed\n",
    "            features_processed.update(set(df.method_feature_id.tolist()))\n",
    "            # separate the method feature ids\n",
    "            feature_ids = {'3did':0, 'pasef':0, 'mq':0}\n",
    "            for m in df.method_feature_id.tolist():\n",
    "                method = m.split('-')[0]\n",
    "                feature_id = int(m.split('-')[1])\n",
    "                feature_ids[method] = feature_id\n",
    "            # store the features that were combined\n",
    "            combined_features.append({'combined_id':combined_id, 'number_of_methods':len(df.method.unique()), 'methods':list(df.method.unique()), 'method_ids':df.method_feature_id.tolist(), '3did_feature_id':feature_ids['3did'], 'pasef_feature_id':feature_ids['pasef'], 'mq_feature_id':feature_ids['mq']})\n",
    "            # update the combined feature identifier\n",
    "            combined_id += 1"
   ]
  },
  {
   "cell_type": "code",
   "execution_count": 39,
   "metadata": {},
   "outputs": [],
   "source": [
    "combined_features_df = pd.DataFrame(combined_features)\n",
    "combined_features_df.to_pickle('{}/combined_features_df.pkl'.format(expanduser('~')))"
   ]
  },
  {
   "cell_type": "code",
   "execution_count": 40,
   "metadata": {},
   "outputs": [
    {
     "data": {
      "text/html": [
       "<div>\n",
       "<style scoped>\n",
       "    .dataframe tbody tr th:only-of-type {\n",
       "        vertical-align: middle;\n",
       "    }\n",
       "\n",
       "    .dataframe tbody tr th {\n",
       "        vertical-align: top;\n",
       "    }\n",
       "\n",
       "    .dataframe thead th {\n",
       "        text-align: right;\n",
       "    }\n",
       "</style>\n",
       "<table border=\"1\" class=\"dataframe\">\n",
       "  <thead>\n",
       "    <tr style=\"text-align: right;\">\n",
       "      <th></th>\n",
       "      <th>combined_id</th>\n",
       "      <th>number_of_methods</th>\n",
       "      <th>methods</th>\n",
       "      <th>method_ids</th>\n",
       "      <th>3did_feature_id</th>\n",
       "      <th>pasef_feature_id</th>\n",
       "      <th>mq_feature_id</th>\n",
       "    </tr>\n",
       "  </thead>\n",
       "  <tbody>\n",
       "    <tr>\n",
       "      <th>181</th>\n",
       "      <td>182</td>\n",
       "      <td>1</td>\n",
       "      <td>[mq]</td>\n",
       "      <td>[mq-1226073]</td>\n",
       "      <td>0</td>\n",
       "      <td>0</td>\n",
       "      <td>1226073</td>\n",
       "    </tr>\n",
       "    <tr>\n",
       "      <th>10782</th>\n",
       "      <td>10783</td>\n",
       "      <td>1</td>\n",
       "      <td>[3did]</td>\n",
       "      <td>[3did-13245]</td>\n",
       "      <td>13245</td>\n",
       "      <td>0</td>\n",
       "      <td>0</td>\n",
       "    </tr>\n",
       "    <tr>\n",
       "      <th>18584</th>\n",
       "      <td>18585</td>\n",
       "      <td>1</td>\n",
       "      <td>[3did]</td>\n",
       "      <td>[3did-22772]</td>\n",
       "      <td>22772</td>\n",
       "      <td>0</td>\n",
       "      <td>0</td>\n",
       "    </tr>\n",
       "    <tr>\n",
       "      <th>27153</th>\n",
       "      <td>27154</td>\n",
       "      <td>1</td>\n",
       "      <td>[3did]</td>\n",
       "      <td>[3did-19460]</td>\n",
       "      <td>19460</td>\n",
       "      <td>0</td>\n",
       "      <td>0</td>\n",
       "    </tr>\n",
       "    <tr>\n",
       "      <th>29781</th>\n",
       "      <td>29782</td>\n",
       "      <td>1</td>\n",
       "      <td>[3did]</td>\n",
       "      <td>[3did-47789]</td>\n",
       "      <td>47789</td>\n",
       "      <td>0</td>\n",
       "      <td>0</td>\n",
       "    </tr>\n",
       "  </tbody>\n",
       "</table>\n",
       "</div>"
      ],
      "text/plain": [
       "       combined_id  number_of_methods methods    method_ids  3did_feature_id  \\\n",
       "181            182                  1    [mq]  [mq-1226073]                0   \n",
       "10782        10783                  1  [3did]  [3did-13245]            13245   \n",
       "18584        18585                  1  [3did]  [3did-22772]            22772   \n",
       "27153        27154                  1  [3did]  [3did-19460]            19460   \n",
       "29781        29782                  1  [3did]  [3did-47789]            47789   \n",
       "\n",
       "       pasef_feature_id  mq_feature_id  \n",
       "181                   0        1226073  \n",
       "10782                 0              0  \n",
       "18584                 0              0  \n",
       "27153                 0              0  \n",
       "29781                 0              0  "
      ]
     },
     "execution_count": 40,
     "metadata": {},
     "output_type": "execute_result"
    }
   ],
   "source": [
    "combined_features_df.sample(n=5)"
   ]
  },
  {
   "cell_type": "code",
   "execution_count": 41,
   "metadata": {},
   "outputs": [],
   "source": [
    "# merge 3DID attributes\n",
    "combined_features_df = pd.merge(combined_features_df, features_3did_df[['feature_id','prediction','deconvolution_score','feature_intensity']], how='left', left_on=['3did_feature_id'], right_on=['feature_id'])\n",
    "combined_features_df.rename(columns={'prediction':'3did_prediction', 'deconvolution_score':'3did_deconvolution_score', 'feature_intensity':'3did_feature_intensity'}, inplace=True)\n",
    "combined_features_df.drop(['feature_id'], axis=1, inplace=True)"
   ]
  },
  {
   "cell_type": "code",
   "execution_count": 42,
   "metadata": {},
   "outputs": [],
   "source": [
    "# merge PASEF attributes\n",
    "combined_features_df = pd.merge(combined_features_df, idents_pasef_df[['feature_id','deconvolution_score','feature_intensity']], how='left', left_on=['pasef_feature_id'], right_on=['feature_id'])\n",
    "combined_features_df.rename(columns={'deconvolution_score':'pasef_deconvolution_score', 'feature_intensity':'pasef_feature_intensity'}, inplace=True)\n",
    "combined_features_df.drop(['feature_id'], axis=1, inplace=True)"
   ]
  },
  {
   "cell_type": "code",
   "execution_count": 43,
   "metadata": {},
   "outputs": [],
   "source": [
    "# merge MQ attributes\n",
    "combined_features_df = pd.merge(combined_features_df, idents_mq_df[['feature_id','feature_intensity']], how='left', left_on=['mq_feature_id'], right_on=['feature_id'])\n",
    "combined_features_df.rename(columns={'feature_intensity':'mq_feature_intensity'}, inplace=True)\n",
    "combined_features_df.drop(['feature_id'], axis=1, inplace=True)"
   ]
  },
  {
   "cell_type": "code",
   "execution_count": 44,
   "metadata": {},
   "outputs": [],
   "source": [
    "combined_features_df['3did_log_intensity'] = np.log10(combined_features_df['3did_feature_intensity'])\n",
    "combined_features_df['pasef_log_intensity'] = np.log10(combined_features_df.pasef_feature_intensity)\n",
    "combined_features_df['mq_log_intensity'] = np.log10(combined_features_df.mq_feature_intensity)"
   ]
  },
  {
   "cell_type": "code",
   "execution_count": 45,
   "metadata": {},
   "outputs": [],
   "source": [
    "combined_features_df.fillna(0, inplace=True)"
   ]
  },
  {
   "cell_type": "code",
   "execution_count": 46,
   "metadata": {},
   "outputs": [
    {
     "data": {
      "text/html": [
       "<div>\n",
       "<style scoped>\n",
       "    .dataframe tbody tr th:only-of-type {\n",
       "        vertical-align: middle;\n",
       "    }\n",
       "\n",
       "    .dataframe tbody tr th {\n",
       "        vertical-align: top;\n",
       "    }\n",
       "\n",
       "    .dataframe thead th {\n",
       "        text-align: right;\n",
       "    }\n",
       "</style>\n",
       "<table border=\"1\" class=\"dataframe\">\n",
       "  <thead>\n",
       "    <tr style=\"text-align: right;\">\n",
       "      <th></th>\n",
       "      <th>combined_id</th>\n",
       "      <th>number_of_methods</th>\n",
       "      <th>methods</th>\n",
       "      <th>method_ids</th>\n",
       "      <th>3did_feature_id</th>\n",
       "      <th>pasef_feature_id</th>\n",
       "      <th>mq_feature_id</th>\n",
       "      <th>3did_prediction</th>\n",
       "      <th>3did_deconvolution_score</th>\n",
       "      <th>3did_feature_intensity</th>\n",
       "      <th>pasef_deconvolution_score</th>\n",
       "      <th>pasef_feature_intensity</th>\n",
       "      <th>mq_feature_intensity</th>\n",
       "      <th>3did_log_intensity</th>\n",
       "      <th>pasef_log_intensity</th>\n",
       "      <th>mq_log_intensity</th>\n",
       "    </tr>\n",
       "  </thead>\n",
       "  <tbody>\n",
       "    <tr>\n",
       "      <th>13407</th>\n",
       "      <td>13408</td>\n",
       "      <td>1</td>\n",
       "      <td>[3did]</td>\n",
       "      <td>[3did-10110]</td>\n",
       "      <td>10110</td>\n",
       "      <td>0</td>\n",
       "      <td>0</td>\n",
       "      <td>0.890486</td>\n",
       "      <td>1974.304691</td>\n",
       "      <td>36597</td>\n",
       "      <td>0.0</td>\n",
       "      <td>0.0</td>\n",
       "      <td>0.0</td>\n",
       "      <td>4.563445</td>\n",
       "      <td>0.0</td>\n",
       "      <td>0.0</td>\n",
       "    </tr>\n",
       "    <tr>\n",
       "      <th>18322</th>\n",
       "      <td>18323</td>\n",
       "      <td>1</td>\n",
       "      <td>[3did]</td>\n",
       "      <td>[3did-28298]</td>\n",
       "      <td>28298</td>\n",
       "      <td>0</td>\n",
       "      <td>0</td>\n",
       "      <td>0.850642</td>\n",
       "      <td>380.734654</td>\n",
       "      <td>2071</td>\n",
       "      <td>0.0</td>\n",
       "      <td>0.0</td>\n",
       "      <td>0.0</td>\n",
       "      <td>3.316180</td>\n",
       "      <td>0.0</td>\n",
       "      <td>0.0</td>\n",
       "    </tr>\n",
       "    <tr>\n",
       "      <th>12531</th>\n",
       "      <td>12532</td>\n",
       "      <td>1</td>\n",
       "      <td>[3did]</td>\n",
       "      <td>[3did-54029]</td>\n",
       "      <td>54029</td>\n",
       "      <td>0</td>\n",
       "      <td>0</td>\n",
       "      <td>0.899116</td>\n",
       "      <td>773.998844</td>\n",
       "      <td>5562</td>\n",
       "      <td>0.0</td>\n",
       "      <td>0.0</td>\n",
       "      <td>0.0</td>\n",
       "      <td>3.745231</td>\n",
       "      <td>0.0</td>\n",
       "      <td>0.0</td>\n",
       "    </tr>\n",
       "  </tbody>\n",
       "</table>\n",
       "</div>"
      ],
      "text/plain": [
       "       combined_id  number_of_methods methods    method_ids  3did_feature_id  \\\n",
       "13407        13408                  1  [3did]  [3did-10110]            10110   \n",
       "18322        18323                  1  [3did]  [3did-28298]            28298   \n",
       "12531        12532                  1  [3did]  [3did-54029]            54029   \n",
       "\n",
       "       pasef_feature_id  mq_feature_id  3did_prediction  \\\n",
       "13407                 0              0         0.890486   \n",
       "18322                 0              0         0.850642   \n",
       "12531                 0              0         0.899116   \n",
       "\n",
       "       3did_deconvolution_score  3did_feature_intensity  \\\n",
       "13407               1974.304691                   36597   \n",
       "18322                380.734654                    2071   \n",
       "12531                773.998844                    5562   \n",
       "\n",
       "       pasef_deconvolution_score  pasef_feature_intensity  \\\n",
       "13407                        0.0                      0.0   \n",
       "18322                        0.0                      0.0   \n",
       "12531                        0.0                      0.0   \n",
       "\n",
       "       mq_feature_intensity  3did_log_intensity  pasef_log_intensity  \\\n",
       "13407                   0.0            4.563445                  0.0   \n",
       "18322                   0.0            3.316180                  0.0   \n",
       "12531                   0.0            3.745231                  0.0   \n",
       "\n",
       "       mq_log_intensity  \n",
       "13407               0.0  \n",
       "18322               0.0  \n",
       "12531               0.0  "
      ]
     },
     "execution_count": 46,
     "metadata": {},
     "output_type": "execute_result"
    }
   ],
   "source": [
    "combined_features_df.sample(n=3)"
   ]
  },
  {
   "cell_type": "code",
   "execution_count": 47,
   "metadata": {},
   "outputs": [
    {
     "data": {
      "image/png": "[encoded data removed]",
      "text/plain": [
       "<Figure size 1080x720 with 1 Axes>"
      ]
     },
     "metadata": {},
     "output_type": "display_data"
    }
   ],
   "source": [
    "import matplotlib.pyplot as plt\n",
    "from matplotlib_venn import venn3\n",
    "\n",
    "f, ax1 = plt.subplots()\n",
    "f.set_figheight(10)\n",
    "f.set_figwidth(15)\n",
    "\n",
    "plt.margins(0.06)\n",
    "plt.title('features identified')\n",
    "\n",
    "venn3([sets_d['pasef'],sets_d['3did'],sets_d['mq']], ('PASEF-seeded','3DID','MaxQuant'))\n",
    "\n",
    "plt.show()"
   ]
  },
  {
   "cell_type": "code",
   "execution_count": 48,
   "metadata": {},
   "outputs": [
    {
     "data": {
      "image/png": "[encoded data removed]",
      "text/plain": [
       "<Figure size 1080x576 with 1 Axes>"
      ]
     },
     "metadata": {
      "needs_background": "light"
     },
     "output_type": "display_data"
    }
   ],
   "source": [
    "f, ax1 = plt.subplots()\n",
    "f.set_figheight(8)\n",
    "f.set_figwidth(15)\n",
    "\n",
    "plt.margins(0.06)\n",
    "plt.title('')\n",
    "\n",
    "barwidth = 0.2\n",
    "max_charge = max(idents_mq_df.charge.max(), idents_pasef_df.charge.max(), features_3did_df.charge.max())\n",
    "\n",
    "pos1 = [x - barwidth for x in range(max_charge+1)]\n",
    "pos2 = [x + barwidth for x in pos1]\n",
    "pos3 = [x + (2*barwidth) for x in pos1]\n",
    "\n",
    "counts = np.bincount(idents_mq_df.charge, minlength=max_charge+1)\n",
    "ax1.bar(pos1, counts, width=barwidth, align='center', log=True, label='MaxQuant')\n",
    "\n",
    "counts = np.bincount(idents_pasef_df.charge, minlength=max_charge+1)\n",
    "ax1.bar(pos2, counts, width=barwidth, align='center', log=True, label='PASEF-seeded')\n",
    "\n",
    "counts = np.bincount(features_3did_df.charge, minlength=max_charge+1)\n",
    "ax1.bar(pos3, counts, width=barwidth, align='center', log=True, label='3DID')\n",
    "\n",
    "ax1.set(xticks=range(1,max_charge+1), xlim=[0, max_charge+1])\n",
    "\n",
    "plt.xlabel('charge state')\n",
    "plt.ylabel('log count')\n",
    "plt.title('distribution of charge states for identified features\\nrun {}, experiment {}'.format(run_name, experiment_name))\n",
    "\n",
    "plt.ylim((1,10**5))\n",
    "\n",
    "plt.legend()\n",
    "plt.show()"
   ]
  },
  {
   "cell_type": "code",
   "execution_count": 49,
   "metadata": {},
   "outputs": [],
   "source": [
    "pasef_3did_df = combined_features_df[(combined_features_df.pasef_feature_id > 0) & (combined_features_df['3did_feature_id'] > 0)]"
   ]
  },
  {
   "cell_type": "code",
   "execution_count": 50,
   "metadata": {},
   "outputs": [
    {
     "data": {
      "image/png": "[encoded data removed]",
      "text/plain": [
       "<Figure size 720x720 with 1 Axes>"
      ]
     },
     "metadata": {
      "needs_background": "light"
     },
     "output_type": "display_data"
    }
   ],
   "source": [
    "f, ax = plt.subplots()\n",
    "f.set_figheight(10)\n",
    "f.set_figwidth(10)\n",
    "\n",
    "plt.margins(0.06)\n",
    "# plt.title('deconvolution score for features identified by PASEF-seeded and features detected by 3DID methods')\n",
    "\n",
    "ax.scatter(pasef_3did_df.pasef_deconvolution_score, pasef_3did_df['3did_deconvolution_score'], marker='o', lw=0, s=15, alpha=0.6)\n",
    "\n",
    "ax.plot([0, 1], [0, 1], transform=ax.transAxes, linestyle=':', linewidth=2, color='darkorange')\n",
    "\n",
    "plt.xlim((-1,8000))\n",
    "plt.ylim((-1,8000))\n",
    "\n",
    "plt.xlabel('PASEF feature score')\n",
    "plt.ylabel('3DID feature score')\n",
    "\n",
    "plt.show()"
   ]
  },
  {
   "cell_type": "raw",
   "metadata": {},
   "source": [
    "#### compare dynamic range of detected features"
   ]
  },
  {
   "cell_type": "raw",
   "metadata": {},
   "source": [
    "idents_mq_df['method'] = 'mq'\n",
    "idents_pasef_df['method'] = 'pasef'\n",
    "features_3did_df['method'] = '3did'"
   ]
  },
  {
   "cell_type": "raw",
   "metadata": {},
   "source": [
    "idents_mq_df['log_intensity'] = np.log10(idents_mq_df.feature_intensity)\n",
    "idents_pasef_df['log_intensity'] = np.log10(idents_pasef_df.feature_intensity)\n",
    "features_3did_df['log_intensity'] = np.log10(features_3did_df.feature_intensity)"
   ]
  },
  {
   "cell_type": "raw",
   "metadata": {},
   "source": [
    "idents_mq_df['log_intensity_adjusted'] = idents_mq_df.log_intensity - np.min(idents_mq_df.log_intensity)\n",
    "idents_pasef_df['log_intensity_adjusted'] = idents_pasef_df.log_intensity - np.min(idents_pasef_df.log_intensity)\n",
    "features_3did_df['log_intensity_adjusted'] = features_3did_df.log_intensity - np.min(features_3did_df.log_intensity)"
   ]
  },
  {
   "cell_type": "raw",
   "metadata": {},
   "source": [
    "intensities_l = [idents_mq_df,idents_pasef_df,features_3did_df]\n",
    "intensities_df = pd.concat(intensities_l, sort=False)"
   ]
  },
  {
   "cell_type": "raw",
   "metadata": {},
   "source": [
    "plt.figure(figsize=(15,10))\n",
    "ax = sns.violinplot(x=intensities_df.method, y=intensities_df.log_intensity_adjusted)\n",
    "_ = plt.ylabel(\"log10 dynamic range\")\n",
    "_ = plt.title('dynamic range of features identified in YHE211_1')"
   ]
  },
  {
   "cell_type": "raw",
   "metadata": {},
   "source": [
    "intensities_l = [idents_pasef_df,features_3did_df]\n",
    "intensities_df = pd.concat(intensities_l, sort=False)"
   ]
  },
  {
   "cell_type": "raw",
   "metadata": {},
   "source": [
    "plt.figure(figsize=(15,10))\n",
    "ax = sns.violinplot(x=intensities_df.method, y=intensities_df.log_intensity)\n",
    "_ = plt.ylabel(\"log10 intensity\")\n",
    "_ = plt.title('dynamic range of features identified in YHE211_1')"
   ]
  },
  {
   "cell_type": "code",
   "execution_count": 51,
   "metadata": {},
   "outputs": [
    {
     "data": {
      "image/png": "[encoded data removed]",
      "text/plain": [
       "<Figure size 1080x576 with 1 Axes>"
      ]
     },
     "metadata": {
      "needs_background": "light"
     },
     "output_type": "display_data"
    }
   ],
   "source": [
    "f, ax1 = plt.subplots()\n",
    "f.set_figheight(8)\n",
    "f.set_figwidth(15)\n",
    "\n",
    "plt.margins(0.06)\n",
    "plt.title('intensity distribution')\n",
    "\n",
    "bins = 300\n",
    "hist, bins, _ = plt.hist(combined_features_df[combined_features_df.mq_feature_id > 0].mq_log_intensity, bins=bins, alpha=0.4, label='MaxQuant')\n",
    "hist, bins, _ = plt.hist(combined_features_df[combined_features_df.pasef_feature_id > 0].pasef_log_intensity, bins=bins, alpha=0.4, label='PASEF')\n",
    "hist, bins, _ = plt.hist(combined_features_df[combined_features_df['3did_feature_id'] > 0]['3did_log_intensity'], bins=bins, alpha=0.4, label='3DID')\n",
    "\n",
    "plt.xlabel('log10 feature intensity')\n",
    "plt.ylabel('count')\n",
    "\n",
    "# plt.xlim((0,8))\n",
    "plt.ylim((0,800))\n",
    "\n",
    "plt.legend()\n",
    "plt.show()"
   ]
  },
  {
   "cell_type": "code",
   "execution_count": 52,
   "metadata": {},
   "outputs": [],
   "source": [
    "unique_mq_df = combined_features_df[(combined_features_df.mq_feature_id > 0) & (combined_features_df.pasef_feature_id == 0) & (combined_features_df['3did_feature_id'] == 0)]\n",
    "unique_pasef_df = combined_features_df[(combined_features_df.mq_feature_id == 0) & (combined_features_df.pasef_feature_id > 0) & (combined_features_df['3did_feature_id'] == 0)]\n",
    "unique_3did_df = combined_features_df[(combined_features_df.mq_feature_id == 0) & (combined_features_df.pasef_feature_id == 0) & (combined_features_df['3did_feature_id'] > 0)]\n"
   ]
  },
  {
   "cell_type": "code",
   "execution_count": 53,
   "metadata": {},
   "outputs": [
    {
     "data": {
      "image/png": "[encoded data removed]",
      "text/plain": [
       "<Figure size 1080x576 with 1 Axes>"
      ]
     },
     "metadata": {
      "needs_background": "light"
     },
     "output_type": "display_data"
    }
   ],
   "source": [
    "f, ax1 = plt.subplots()\n",
    "f.set_figheight(8)\n",
    "f.set_figwidth(15)\n",
    "\n",
    "plt.margins(0.06)\n",
    "plt.title('intensity distribution (unique identifications)')\n",
    "\n",
    "bins = 300\n",
    "hist, bins, _ = plt.hist(unique_mq_df.mq_log_intensity, bins=bins, alpha=0.4, label='MaxQuant')\n",
    "hist, bins, _ = plt.hist(unique_pasef_df.pasef_log_intensity, bins=bins, alpha=0.4, label='PASEF')\n",
    "hist, bins, _ = plt.hist(unique_3did_df['3did_log_intensity'], bins=bins, alpha=0.4, label='3DID')\n",
    "\n",
    "plt.xlabel('log10 feature intensity')\n",
    "plt.ylabel('count')\n",
    "\n",
    "# plt.xlim((0,8))\n",
    "plt.ylim((0,180))\n",
    "\n",
    "plt.legend()\n",
    "plt.show()"
   ]
  },
  {
   "cell_type": "code",
   "execution_count": null,
   "metadata": {},
   "outputs": [],
   "source": []
  }
 ],
 "metadata": {
  "kernelspec": {
   "display_name": "Python 3",
   "language": "python",
   "name": "python3"
  },
  "language_info": {
   "codemirror_mode": {
    "name": "ipython",
    "version": 3
   },
   "file_extension": ".py",
   "mimetype": "text/x-python",
   "name": "python",
   "nbconvert_exporter": "python",
   "pygments_lexer": "ipython3",
   "version": "3.8.5"
  }
 },
 "nbformat": 4,
 "nbformat_minor": 4
}
