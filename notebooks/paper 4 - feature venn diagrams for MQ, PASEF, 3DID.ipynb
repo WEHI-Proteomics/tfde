{
 "cells": [
  {
   "cell_type": "code",
   "execution_count": 1,
   "metadata": {},
   "outputs": [],
   "source": [
    "import pandas as pd\n",
    "import numpy as np\n",
    "import os\n",
    "import matplotlib.pyplot as plt\n",
    "import pickle\n",
    "import json\n",
    "from os.path import expanduser\n",
    "import sqlite3\n",
    "import seaborn as sns"
   ]
  },
  {
   "cell_type": "markdown",
   "metadata": {},
   "source": [
    "### detections"
   ]
  },
  {
   "cell_type": "code",
   "execution_count": 2,
   "metadata": {},
   "outputs": [],
   "source": [
    "experiment_name = 'P3856'\n",
    "run_name = 'P3856_YHE211_1_Slot1-1_1_5104'\n",
    "\n",
    "EXPERIMENT_DIR = '/media/big-ssd/experiments/{}'.format(experiment_name)\n",
    "\n",
    "FEATURES_PASEF_DIR = '{}/features-pasef'.format(EXPERIMENT_DIR)\n",
    "FEATURES_PASEF_FILE = '{}/exp-{}-run-{}-features-pasef-dedup.pkl'.format(FEATURES_PASEF_DIR, experiment_name, run_name)\n",
    "\n",
    "FEATURES_3DID_DIR = '{}/features-3did'.format(EXPERIMENT_DIR)\n",
    "FEATURES_3DID_FILE = '{}/exp-{}-run-{}-features-3did-dedup.pkl'.format(FEATURES_3DID_DIR, experiment_name, run_name)\n",
    "\n",
    "FEATURES_MQ_DIR = '{}/features-mq'.format(EXPERIMENT_DIR)\n",
    "FEATURES_MQ_FILE = '{}/exp-{}-run-{}-features-mq-dedup.pkl'.format(FEATURES_MQ_DIR, experiment_name, run_name)"
   ]
  },
  {
   "cell_type": "code",
   "execution_count": 3,
   "metadata": {},
   "outputs": [],
   "source": [
    "MAXIMUM_Q_VALUE = 0.01"
   ]
  },
  {
   "cell_type": "code",
   "execution_count": 4,
   "metadata": {},
   "outputs": [],
   "source": [
    "# only look at this part of the run\n",
    "RT_LOWER = 1650\n",
    "RT_UPPER = 2200"
   ]
  },
  {
   "cell_type": "code",
   "execution_count": 5,
   "metadata": {},
   "outputs": [],
   "source": [
    "# define a straight line to exclude the charge-1 cloud\n",
    "def scan_coords_for_single_charge_region(mz_lower, mz_upper):\n",
    "    scan_for_mz_lower = max(int(-1 * ((1.2 * mz_lower) - 1252)), 0)\n",
    "    scan_for_mz_upper = max(int(-1 * ((1.2 * mz_upper) - 1252)), 0)\n",
    "    return {'scan_for_mz_lower':scan_for_mz_lower, 'scan_for_mz_upper':scan_for_mz_upper}"
   ]
  },
  {
   "cell_type": "markdown",
   "metadata": {},
   "source": [
    "#### PASEF-seeded"
   ]
  },
  {
   "cell_type": "code",
   "execution_count": 6,
   "metadata": {},
   "outputs": [],
   "source": [
    "# load the features detected by PASEF\n",
    "with open(FEATURES_PASEF_FILE, 'rb') as handle:\n",
    "    d = pickle.load(handle)\n",
    "features_pasef_df = d['features_df']"
   ]
  },
  {
   "cell_type": "code",
   "execution_count": 7,
   "metadata": {},
   "outputs": [],
   "source": [
    "features_pasef_df['excluded'] = features_pasef_df.apply(lambda row: row.scan_apex < scan_coords_for_single_charge_region(row.monoisotopic_mz, row.monoisotopic_mz)['scan_for_mz_lower'], axis=1)"
   ]
  },
  {
   "cell_type": "code",
   "execution_count": 8,
   "metadata": {},
   "outputs": [],
   "source": [
    "features_pasef_df = features_pasef_df[(features_pasef_df.excluded == False)]"
   ]
  },
  {
   "cell_type": "markdown",
   "metadata": {},
   "source": [
    "#### 3DID"
   ]
  },
  {
   "cell_type": "code",
   "execution_count": 9,
   "metadata": {},
   "outputs": [],
   "source": [
    "# load the features detected by 3DID\n",
    "with open(FEATURES_3DID_FILE, 'rb') as handle:\n",
    "    d = pickle.load(handle)\n",
    "features_3did_df = d['features_df']"
   ]
  },
  {
   "cell_type": "markdown",
   "metadata": {},
   "source": [
    "#### MaxQuant"
   ]
  },
  {
   "cell_type": "code",
   "execution_count": 10,
   "metadata": {},
   "outputs": [],
   "source": [
    "# load the features detected by MaxQuant\n",
    "with open(FEATURES_MQ_FILE, 'rb') as handle:\n",
    "    d = pickle.load(handle)\n",
    "features_mq_df = d['features_df']"
   ]
  },
  {
   "cell_type": "code",
   "execution_count": 11,
   "metadata": {},
   "outputs": [],
   "source": [
    "features_mq_df['excluded'] = features_mq_df.apply(lambda row: row.scan_apex < scan_coords_for_single_charge_region(row.monoisotopic_mz, row.monoisotopic_mz)['scan_for_mz_lower'], axis=1)\n",
    "features_mq_df = features_mq_df[(features_mq_df.excluded == False)]\n",
    "features_mq_df = features_mq_df[(features_mq_df.rt_apex >= RT_LOWER) & (features_mq_df.rt_apex <= RT_UPPER)]\n",
    "features_mq_df = features_mq_df[(features_mq_df.isotope_count >= 3)].copy()"
   ]
  },
  {
   "cell_type": "code",
   "execution_count": 12,
   "metadata": {},
   "outputs": [
    {
     "name": "stdout",
     "output_type": "stream",
     "text": [
      "70406 features from PASEF, 15437 features from MaxQuant, 30131 features from 3DID\n"
     ]
    }
   ],
   "source": [
    "print('{} features from PASEF, {} features from MaxQuant, {} features from 3DID'.format(len(features_pasef_df), len(features_mq_df), len(features_3did_df)))\n"
   ]
  },
  {
   "cell_type": "markdown",
   "metadata": {},
   "source": [
    "#### consolidate the features from all methods"
   ]
  },
  {
   "cell_type": "code",
   "execution_count": 13,
   "metadata": {},
   "outputs": [],
   "source": [
    "combined_names = ['feature_id','charge','monoisotopic_mz','scan_apex','rt_apex']"
   ]
  },
  {
   "cell_type": "code",
   "execution_count": 14,
   "metadata": {},
   "outputs": [],
   "source": [
    "combined_features_mq_df = features_mq_df[combined_names].copy()\n",
    "combined_features_mq_df['method'] = 'mq'\n",
    "\n",
    "combined_features_pasef_df = features_pasef_df[combined_names].copy()\n",
    "combined_features_pasef_df['method'] = 'pasef'\n",
    "\n",
    "combined_features_3did_df = features_3did_df[combined_names].copy()\n",
    "combined_features_3did_df['method'] = '3did'\n",
    "\n",
    "combined_features_df = pd.concat([combined_features_mq_df,combined_features_pasef_df,combined_features_3did_df], axis=0, sort=False, ignore_index=True)\n",
    "combined_features_df['method_feature_id'] = combined_features_df.method+'-'+combined_features_df.feature_id.astype('str')"
   ]
  },
  {
   "cell_type": "markdown",
   "metadata": {},
   "source": [
    "#### find the features in common"
   ]
  },
  {
   "cell_type": "code",
   "execution_count": 15,
   "metadata": {},
   "outputs": [],
   "source": [
    "DUP_MZ_TOLERANCE_PPM = 10\n",
    "DUP_SCAN_TOLERANCE = 20\n",
    "DUP_RT_TOLERANCE = 5"
   ]
  },
  {
   "cell_type": "code",
   "execution_count": 16,
   "metadata": {},
   "outputs": [],
   "source": [
    "# set up dup definitions\n",
    "MZ_TOLERANCE_PERCENT = DUP_MZ_TOLERANCE_PPM * 10**-4\n",
    "combined_features_df['dup_mz'] = combined_features_df['monoisotopic_mz']  # shorthand to reduce verbosity\n",
    "combined_features_df['dup_mz_ppm_tolerance'] = combined_features_df.dup_mz * MZ_TOLERANCE_PERCENT / 100\n",
    "combined_features_df['dup_mz_lower'] = combined_features_df.dup_mz - combined_features_df.dup_mz_ppm_tolerance\n",
    "combined_features_df['dup_mz_upper'] = combined_features_df.dup_mz + combined_features_df.dup_mz_ppm_tolerance\n",
    "combined_features_df['dup_scan_lower'] = combined_features_df.scan_apex - DUP_SCAN_TOLERANCE\n",
    "combined_features_df['dup_scan_upper'] = combined_features_df.scan_apex + DUP_SCAN_TOLERANCE\n",
    "combined_features_df['dup_rt_lower'] = combined_features_df.rt_apex - DUP_RT_TOLERANCE\n",
    "combined_features_df['dup_rt_upper'] = combined_features_df.rt_apex + DUP_RT_TOLERANCE"
   ]
  },
  {
   "cell_type": "code",
   "execution_count": 17,
   "metadata": {},
   "outputs": [],
   "source": [
    "combined_id = 1\n",
    "sets_d = {'mq':set(), '3did':set(), 'pasef':set()}\n",
    "features_processed = set()\n",
    "for row in combined_features_df.itertuples():\n",
    "    if row.method_feature_id not in features_processed:\n",
    "        df = combined_features_df[(row.charge == combined_features_df.charge) & (row.dup_mz >= combined_features_df.dup_mz_lower) & (row.dup_mz <= combined_features_df.dup_mz_upper) & (row.scan_apex >= combined_features_df.dup_scan_lower) & (row.scan_apex <= combined_features_df.dup_scan_upper) & (row.rt_apex >= combined_features_df.dup_rt_lower) & (row.rt_apex <= combined_features_df.dup_rt_upper)].copy()\n",
    "        if len(df) > 0:\n",
    "            # remove the features that have already been processed\n",
    "            feature_ids_not_processed = set(df.method_feature_id.tolist()) - features_processed\n",
    "            df = df[(df.method_feature_id.isin(feature_ids_not_processed))]\n",
    "            for method in df.method.tolist():\n",
    "                sets_d[method].add(combined_id)\n",
    "            # record the features that have been processed\n",
    "            features_processed.update(set(df.method_feature_id.tolist()))\n",
    "            combined_id += 1"
   ]
  },
  {
   "cell_type": "code",
   "execution_count": 18,
   "metadata": {},
   "outputs": [
    {
     "data": {
      "image/png": "[encoded data removed]",
      "text/plain": [
       "<Figure size 1080x720 with 1 Axes>"
      ]
     },
     "metadata": {},
     "output_type": "display_data"
    }
   ],
   "source": [
    "import matplotlib.pyplot as plt\n",
    "from matplotlib_venn import venn3\n",
    "\n",
    "f, ax1 = plt.subplots()\n",
    "f.set_figheight(10)\n",
    "f.set_figwidth(15)\n",
    "\n",
    "plt.margins(0.06)\n",
    "plt.title('features detected')\n",
    "\n",
    "venn3([sets_d['pasef'],sets_d['3did'],sets_d['mq']], ('PASEF-seeded','3DID','MaxQuant'))\n",
    "\n",
    "plt.show()"
   ]
  },
  {
   "cell_type": "markdown",
   "metadata": {},
   "source": [
    "### identifications"
   ]
  },
  {
   "cell_type": "markdown",
   "metadata": {},
   "source": [
    "#### PASEF-seeded"
   ]
  },
  {
   "cell_type": "code",
   "execution_count": 19,
   "metadata": {},
   "outputs": [],
   "source": [
    "IDENTS_PASEF_DIR = '{}/identifications-pasef'.format(EXPERIMENT_DIR)\n",
    "IDENTS_PASEF_FILE = '{}/exp-{}-identifications-pasef-recalibrated.pkl'.format(IDENTS_PASEF_DIR, experiment_name)"
   ]
  },
  {
   "cell_type": "code",
   "execution_count": 20,
   "metadata": {},
   "outputs": [],
   "source": [
    "# load the features identified by PASEF\n",
    "with open(IDENTS_PASEF_FILE, 'rb') as handle:\n",
    "    d = pickle.load(handle)\n",
    "idents_pasef_df = d['identifications_df']\n",
    "idents_pasef_df = idents_pasef_df[(idents_pasef_df.run_name == run_name) & (idents_pasef_df['percolator q-value'] <= MAXIMUM_Q_VALUE)].copy()"
   ]
  },
  {
   "cell_type": "code",
   "execution_count": 21,
   "metadata": {},
   "outputs": [],
   "source": [
    "idents_pasef_df['excluded'] = idents_pasef_df.apply(lambda row: row.scan_apex < scan_coords_for_single_charge_region(row.monoisotopic_mz, row.monoisotopic_mz)['scan_for_mz_lower'], axis=1)\n",
    "idents_pasef_df = idents_pasef_df[(idents_pasef_df.excluded == False)]"
   ]
  },
  {
   "cell_type": "markdown",
   "metadata": {},
   "source": [
    "#### MaxQuant"
   ]
  },
  {
   "cell_type": "code",
   "execution_count": 22,
   "metadata": {},
   "outputs": [],
   "source": [
    "MQ_PERCOLATOR_OUTPUT_DIR = '{}/percolator-output-pasef-maxquant'.format(EXPERIMENT_DIR)"
   ]
  },
  {
   "cell_type": "code",
   "execution_count": 23,
   "metadata": {},
   "outputs": [],
   "source": [
    "# load the percolator output\n",
    "MQ_PERCOLATOR_OUTPUT_FILE_NAME = \"{}/{}.percolator.target.psms.txt\".format(MQ_PERCOLATOR_OUTPUT_DIR, experiment_name)\n",
    "mq_psms_df = pd.read_csv(MQ_PERCOLATOR_OUTPUT_FILE_NAME, sep='\\t')\n",
    "mq_psms_df.rename(columns={'scan': 'mq_index'}, inplace=True)\n",
    "mq_psms_df.drop(['charge'], axis=1, inplace=True)\n",
    "# remove the poor quality identifications\n",
    "mq_psms_df = mq_psms_df[mq_psms_df['peptide mass'] > 0]"
   ]
  },
  {
   "cell_type": "code",
   "execution_count": 24,
   "metadata": {},
   "outputs": [],
   "source": [
    "idents_mq_df = pd.merge(features_mq_df, mq_psms_df, how='left', left_on=['mq_index'], right_on=['mq_index'])\n",
    "# remove any features that were not identified\n",
    "idents_mq_df.dropna(subset=['sequence'], inplace=True)"
   ]
  },
  {
   "cell_type": "code",
   "execution_count": 25,
   "metadata": {},
   "outputs": [],
   "source": [
    "idents_mq_df = idents_mq_df[(idents_mq_df.raw_file == run_name) & (idents_mq_df['percolator q-value'] <= MAXIMUM_Q_VALUE)].copy()"
   ]
  },
  {
   "cell_type": "code",
   "execution_count": 26,
   "metadata": {},
   "outputs": [],
   "source": [
    "idents_mq_df['excluded'] = idents_mq_df.apply(lambda row: row.scan_apex < scan_coords_for_single_charge_region(row.monoisotopic_mz, row.monoisotopic_mz)['scan_for_mz_lower'], axis=1)\n",
    "idents_mq_df = idents_mq_df[(idents_mq_df.excluded == False)]\n",
    "idents_mq_df = idents_mq_df[(idents_mq_df.rt_apex >= RT_LOWER) & (idents_mq_df.rt_apex <= RT_UPPER)]\n",
    "idents_mq_df['feature_intensity'] = idents_mq_df.intensity\n",
    "idents_mq_df = idents_mq_df[(idents_mq_df.isotope_count >= 3)].copy()"
   ]
  },
  {
   "cell_type": "markdown",
   "metadata": {},
   "source": [
    "#### consolidate the identifications from all methods"
   ]
  },
  {
   "cell_type": "code",
   "execution_count": 27,
   "metadata": {},
   "outputs": [],
   "source": [
    "combined_names = ['feature_id','charge','monoisotopic_mz','scan_apex','rt_apex']"
   ]
  },
  {
   "cell_type": "code",
   "execution_count": 28,
   "metadata": {},
   "outputs": [],
   "source": [
    "combined_idents_mq_df = idents_mq_df[combined_names].copy()\n",
    "combined_idents_mq_df['method'] = 'mq'\n",
    "\n",
    "combined_idents_pasef_df = idents_pasef_df[combined_names].copy()\n",
    "combined_idents_pasef_df['method'] = 'pasef'\n",
    "\n",
    "combined_idents_3did_df = features_3did_df[combined_names].copy()\n",
    "combined_idents_3did_df['method'] = '3did'\n",
    "\n",
    "combined_idents_df = pd.concat([combined_idents_mq_df,combined_idents_pasef_df,combined_idents_3did_df], axis=0, sort=False, ignore_index=True)\n",
    "combined_idents_df['method_feature_id'] = combined_idents_df.method+'-'+combined_idents_df.feature_id.astype('str')"
   ]
  },
  {
   "cell_type": "markdown",
   "metadata": {},
   "source": [
    "#### find the identifications in common"
   ]
  },
  {
   "cell_type": "code",
   "execution_count": 29,
   "metadata": {},
   "outputs": [],
   "source": [
    "# set up dup definitions\n",
    "MZ_TOLERANCE_PERCENT = DUP_MZ_TOLERANCE_PPM * 10**-4\n",
    "combined_idents_df['dup_mz'] = combined_idents_df['monoisotopic_mz']  # shorthand to reduce verbosity\n",
    "combined_idents_df['dup_mz_ppm_tolerance'] = combined_idents_df.dup_mz * MZ_TOLERANCE_PERCENT / 100\n",
    "combined_idents_df['dup_mz_lower'] = combined_idents_df.dup_mz - combined_idents_df.dup_mz_ppm_tolerance\n",
    "combined_idents_df['dup_mz_upper'] = combined_idents_df.dup_mz + combined_idents_df.dup_mz_ppm_tolerance\n",
    "combined_idents_df['dup_scan_lower'] = combined_idents_df.scan_apex - DUP_SCAN_TOLERANCE\n",
    "combined_idents_df['dup_scan_upper'] = combined_idents_df.scan_apex + DUP_SCAN_TOLERANCE\n",
    "combined_idents_df['dup_rt_lower'] = combined_idents_df.rt_apex - DUP_RT_TOLERANCE\n",
    "combined_idents_df['dup_rt_upper'] = combined_idents_df.rt_apex + DUP_RT_TOLERANCE"
   ]
  },
  {
   "cell_type": "code",
   "execution_count": 30,
   "metadata": {},
   "outputs": [],
   "source": [
    "combined_id = 1\n",
    "combined_features = []\n",
    "sets_d = {'mq':set(), '3did':set(), 'pasef':set()}\n",
    "features_processed = set()\n",
    "for row in combined_idents_df.itertuples():\n",
    "    if row.method_feature_id not in features_processed:\n",
    "        df = combined_idents_df[(row.charge == combined_idents_df.charge) & (row.dup_mz >= combined_idents_df.dup_mz_lower) & (row.dup_mz <= combined_idents_df.dup_mz_upper) & (row.scan_apex >= combined_idents_df.dup_scan_lower) & (row.scan_apex <= combined_idents_df.dup_scan_upper) & (row.rt_apex >= combined_idents_df.dup_rt_lower) & (row.rt_apex <= combined_idents_df.dup_rt_upper)].copy()\n",
    "        if len(df) > 0:\n",
    "            # remove the features that have already been processed\n",
    "            feature_ids_not_processed = set(df.method_feature_id.tolist()) - features_processed\n",
    "            df = df[(df.method_feature_id.isin(feature_ids_not_processed))]\n",
    "            for method in df.method.tolist():\n",
    "                sets_d[method].add(combined_id)\n",
    "            # record the features that have been processed\n",
    "            features_processed.update(set(df.method_feature_id.tolist()))\n",
    "            # separate the method feature ids\n",
    "            feature_ids = {'3did':0, 'pasef':0, 'mq':0}\n",
    "            for m in df.method_feature_id.tolist():\n",
    "                method = m.split('-')[0]\n",
    "                feature_id = int(m.split('-')[1])\n",
    "                feature_ids[method] = feature_id\n",
    "            # store the features that were combined\n",
    "            combined_features.append({'combined_id':combined_id, 'number_of_methods':len(df.method.unique()), 'methods':list(df.method.unique()), 'method_ids':df.method_feature_id.tolist(), '3did_feature_id':feature_ids['3did'], 'pasef_feature_id':feature_ids['pasef'], 'mq_feature_id':feature_ids['mq']})\n",
    "            # update the combined feature identifier\n",
    "            combined_id += 1"
   ]
  },
  {
   "cell_type": "code",
   "execution_count": 31,
   "metadata": {},
   "outputs": [],
   "source": [
    "combined_features_df = pd.DataFrame(combined_features)\n",
    "combined_features_df.to_pickle('{}/combined_features_df.pkl'.format(expanduser('~')))"
   ]
  },
  {
   "cell_type": "code",
   "execution_count": 32,
   "metadata": {},
   "outputs": [
    {
     "data": {
      "text/html": [
       "<div>\n",
       "<style scoped>\n",
       "    .dataframe tbody tr th:only-of-type {\n",
       "        vertical-align: middle;\n",
       "    }\n",
       "\n",
       "    .dataframe tbody tr th {\n",
       "        vertical-align: top;\n",
       "    }\n",
       "\n",
       "    .dataframe thead th {\n",
       "        text-align: right;\n",
       "    }\n",
       "</style>\n",
       "<table border=\"1\" class=\"dataframe\">\n",
       "  <thead>\n",
       "    <tr style=\"text-align: right;\">\n",
       "      <th></th>\n",
       "      <th>combined_id</th>\n",
       "      <th>number_of_methods</th>\n",
       "      <th>methods</th>\n",
       "      <th>method_ids</th>\n",
       "      <th>3did_feature_id</th>\n",
       "      <th>pasef_feature_id</th>\n",
       "      <th>mq_feature_id</th>\n",
       "    </tr>\n",
       "  </thead>\n",
       "  <tbody>\n",
       "    <tr>\n",
       "      <th>27834</th>\n",
       "      <td>27835</td>\n",
       "      <td>1</td>\n",
       "      <td>[3did]</td>\n",
       "      <td>[3did-31977]</td>\n",
       "      <td>31977</td>\n",
       "      <td>0</td>\n",
       "      <td>0</td>\n",
       "    </tr>\n",
       "    <tr>\n",
       "      <th>19667</th>\n",
       "      <td>19668</td>\n",
       "      <td>1</td>\n",
       "      <td>[3did]</td>\n",
       "      <td>[3did-40908]</td>\n",
       "      <td>40908</td>\n",
       "      <td>0</td>\n",
       "      <td>0</td>\n",
       "    </tr>\n",
       "    <tr>\n",
       "      <th>9936</th>\n",
       "      <td>9937</td>\n",
       "      <td>1</td>\n",
       "      <td>[3did]</td>\n",
       "      <td>[3did-8581]</td>\n",
       "      <td>8581</td>\n",
       "      <td>0</td>\n",
       "      <td>0</td>\n",
       "    </tr>\n",
       "    <tr>\n",
       "      <th>1826</th>\n",
       "      <td>1827</td>\n",
       "      <td>3</td>\n",
       "      <td>[mq, pasef, 3did]</td>\n",
       "      <td>[mq-1200254, pasef-1145701, 3did-18681]</td>\n",
       "      <td>18681</td>\n",
       "      <td>1145701</td>\n",
       "      <td>1200254</td>\n",
       "    </tr>\n",
       "    <tr>\n",
       "      <th>31554</th>\n",
       "      <td>31555</td>\n",
       "      <td>1</td>\n",
       "      <td>[3did]</td>\n",
       "      <td>[3did-32210]</td>\n",
       "      <td>32210</td>\n",
       "      <td>0</td>\n",
       "      <td>0</td>\n",
       "    </tr>\n",
       "  </tbody>\n",
       "</table>\n",
       "</div>"
      ],
      "text/plain": [
       "       combined_id  number_of_methods            methods  \\\n",
       "27834        27835                  1             [3did]   \n",
       "19667        19668                  1             [3did]   \n",
       "9936          9937                  1             [3did]   \n",
       "1826          1827                  3  [mq, pasef, 3did]   \n",
       "31554        31555                  1             [3did]   \n",
       "\n",
       "                                    method_ids  3did_feature_id  \\\n",
       "27834                             [3did-31977]            31977   \n",
       "19667                             [3did-40908]            40908   \n",
       "9936                               [3did-8581]             8581   \n",
       "1826   [mq-1200254, pasef-1145701, 3did-18681]            18681   \n",
       "31554                             [3did-32210]            32210   \n",
       "\n",
       "       pasef_feature_id  mq_feature_id  \n",
       "27834                 0              0  \n",
       "19667                 0              0  \n",
       "9936                  0              0  \n",
       "1826            1145701        1200254  \n",
       "31554                 0              0  "
      ]
     },
     "execution_count": 32,
     "metadata": {},
     "output_type": "execute_result"
    }
   ],
   "source": [
    "combined_features_df.sample(n=5)"
   ]
  },
  {
   "cell_type": "code",
   "execution_count": 33,
   "metadata": {},
   "outputs": [],
   "source": [
    "# merge 3DID attributes\n",
    "combined_features_df = pd.merge(combined_features_df, features_3did_df[['feature_id','prediction','deconvolution_score','feature_intensity']], how='left', left_on=['3did_feature_id'], right_on=['feature_id'])\n",
    "combined_features_df.rename(columns={'prediction':'3did_prediction', 'deconvolution_score':'3did_deconvolution_score', 'feature_intensity':'3did_feature_intensity'}, inplace=True)\n",
    "combined_features_df.drop(['feature_id'], axis=1, inplace=True)"
   ]
  },
  {
   "cell_type": "code",
   "execution_count": 34,
   "metadata": {},
   "outputs": [],
   "source": [
    "# merge PASEF attributes\n",
    "combined_features_df = pd.merge(combined_features_df, idents_pasef_df[['feature_id','deconvolution_score','feature_intensity']], how='left', left_on=['pasef_feature_id'], right_on=['feature_id'])\n",
    "combined_features_df.rename(columns={'deconvolution_score':'pasef_deconvolution_score', 'feature_intensity':'pasef_feature_intensity'}, inplace=True)\n",
    "combined_features_df.drop(['feature_id'], axis=1, inplace=True)"
   ]
  },
  {
   "cell_type": "code",
   "execution_count": 35,
   "metadata": {},
   "outputs": [],
   "source": [
    "# merge MQ attributes\n",
    "combined_features_df = pd.merge(combined_features_df, idents_mq_df[['feature_id','feature_intensity']], how='left', left_on=['mq_feature_id'], right_on=['feature_id'])\n",
    "combined_features_df.rename(columns={'feature_intensity':'mq_feature_intensity'}, inplace=True)\n",
    "combined_features_df.drop(['feature_id'], axis=1, inplace=True)"
   ]
  },
  {
   "cell_type": "code",
   "execution_count": 36,
   "metadata": {},
   "outputs": [],
   "source": [
    "combined_features_df['3did_log_intensity'] = np.log10(combined_features_df['3did_feature_intensity'])\n",
    "combined_features_df['pasef_log_intensity'] = np.log10(combined_features_df.pasef_feature_intensity)\n",
    "combined_features_df['mq_log_intensity'] = np.log10(combined_features_df.mq_feature_intensity)"
   ]
  },
  {
   "cell_type": "code",
   "execution_count": 37,
   "metadata": {},
   "outputs": [],
   "source": [
    "combined_features_df.fillna(0, inplace=True)"
   ]
  },
  {
   "cell_type": "code",
   "execution_count": 38,
   "metadata": {},
   "outputs": [
    {
     "data": {
      "text/html": [
       "<div>\n",
       "<style scoped>\n",
       "    .dataframe tbody tr th:only-of-type {\n",
       "        vertical-align: middle;\n",
       "    }\n",
       "\n",
       "    .dataframe tbody tr th {\n",
       "        vertical-align: top;\n",
       "    }\n",
       "\n",
       "    .dataframe thead th {\n",
       "        text-align: right;\n",
       "    }\n",
       "</style>\n",
       "<table border=\"1\" class=\"dataframe\">\n",
       "  <thead>\n",
       "    <tr style=\"text-align: right;\">\n",
       "      <th></th>\n",
       "      <th>combined_id</th>\n",
       "      <th>number_of_methods</th>\n",
       "      <th>methods</th>\n",
       "      <th>method_ids</th>\n",
       "      <th>3did_feature_id</th>\n",
       "      <th>pasef_feature_id</th>\n",
       "      <th>mq_feature_id</th>\n",
       "      <th>3did_prediction</th>\n",
       "      <th>3did_deconvolution_score</th>\n",
       "      <th>3did_feature_intensity</th>\n",
       "      <th>pasef_deconvolution_score</th>\n",
       "      <th>pasef_feature_intensity</th>\n",
       "      <th>mq_feature_intensity</th>\n",
       "      <th>3did_log_intensity</th>\n",
       "      <th>pasef_log_intensity</th>\n",
       "      <th>mq_log_intensity</th>\n",
       "    </tr>\n",
       "  </thead>\n",
       "  <tbody>\n",
       "    <tr>\n",
       "      <th>11919</th>\n",
       "      <td>11920</td>\n",
       "      <td>1</td>\n",
       "      <td>[3did]</td>\n",
       "      <td>[3did-8427]</td>\n",
       "      <td>8427</td>\n",
       "      <td>0</td>\n",
       "      <td>0</td>\n",
       "      <td>0.905924</td>\n",
       "      <td>550.825982</td>\n",
       "      <td>4062</td>\n",
       "      <td>0.000000</td>\n",
       "      <td>0.0</td>\n",
       "      <td>0.0</td>\n",
       "      <td>3.608740</td>\n",
       "      <td>0.000000</td>\n",
       "      <td>0.000000</td>\n",
       "    </tr>\n",
       "    <tr>\n",
       "      <th>22762</th>\n",
       "      <td>22763</td>\n",
       "      <td>1</td>\n",
       "      <td>[3did]</td>\n",
       "      <td>[3did-34150]</td>\n",
       "      <td>34150</td>\n",
       "      <td>0</td>\n",
       "      <td>0</td>\n",
       "      <td>0.824026</td>\n",
       "      <td>474.398889</td>\n",
       "      <td>1905</td>\n",
       "      <td>0.000000</td>\n",
       "      <td>0.0</td>\n",
       "      <td>0.0</td>\n",
       "      <td>3.279895</td>\n",
       "      <td>0.000000</td>\n",
       "      <td>0.000000</td>\n",
       "    </tr>\n",
       "    <tr>\n",
       "      <th>4711</th>\n",
       "      <td>4712</td>\n",
       "      <td>2</td>\n",
       "      <td>[mq, pasef]</td>\n",
       "      <td>[mq-1219666, pasef-1653001]</td>\n",
       "      <td>0</td>\n",
       "      <td>1653001</td>\n",
       "      <td>1219666</td>\n",
       "      <td>0.940093</td>\n",
       "      <td>246.261086</td>\n",
       "      <td>2723</td>\n",
       "      <td>539.272467</td>\n",
       "      <td>4500.0</td>\n",
       "      <td>75380.0</td>\n",
       "      <td>3.435048</td>\n",
       "      <td>3.653213</td>\n",
       "      <td>4.877256</td>\n",
       "    </tr>\n",
       "  </tbody>\n",
       "</table>\n",
       "</div>"
      ],
      "text/plain": [
       "       combined_id  number_of_methods      methods  \\\n",
       "11919        11920                  1       [3did]   \n",
       "22762        22763                  1       [3did]   \n",
       "4711          4712                  2  [mq, pasef]   \n",
       "\n",
       "                        method_ids  3did_feature_id  pasef_feature_id  \\\n",
       "11919                  [3did-8427]             8427                 0   \n",
       "22762                 [3did-34150]            34150                 0   \n",
       "4711   [mq-1219666, pasef-1653001]                0           1653001   \n",
       "\n",
       "       mq_feature_id  3did_prediction  3did_deconvolution_score  \\\n",
       "11919              0         0.905924                550.825982   \n",
       "22762              0         0.824026                474.398889   \n",
       "4711         1219666         0.940093                246.261086   \n",
       "\n",
       "       3did_feature_intensity  pasef_deconvolution_score  \\\n",
       "11919                    4062                   0.000000   \n",
       "22762                    1905                   0.000000   \n",
       "4711                     2723                 539.272467   \n",
       "\n",
       "       pasef_feature_intensity  mq_feature_intensity  3did_log_intensity  \\\n",
       "11919                      0.0                   0.0            3.608740   \n",
       "22762                      0.0                   0.0            3.279895   \n",
       "4711                    4500.0               75380.0            3.435048   \n",
       "\n",
       "       pasef_log_intensity  mq_log_intensity  \n",
       "11919             0.000000          0.000000  \n",
       "22762             0.000000          0.000000  \n",
       "4711              3.653213          4.877256  "
      ]
     },
     "execution_count": 38,
     "metadata": {},
     "output_type": "execute_result"
    }
   ],
   "source": [
    "combined_features_df.sample(n=3)"
   ]
  },
  {
   "cell_type": "code",
   "execution_count": 39,
   "metadata": {},
   "outputs": [
    {
     "data": {
      "image/png": "[encoded data removed]",
      "text/plain": [
       "<Figure size 1080x720 with 1 Axes>"
      ]
     },
     "metadata": {},
     "output_type": "display_data"
    }
   ],
   "source": [
    "import matplotlib.pyplot as plt\n",
    "from matplotlib_venn import venn3\n",
    "\n",
    "f, ax1 = plt.subplots()\n",
    "f.set_figheight(10)\n",
    "f.set_figwidth(15)\n",
    "\n",
    "plt.margins(0.06)\n",
    "plt.title('features identified')\n",
    "\n",
    "venn3([sets_d['pasef'],sets_d['3did'],sets_d['mq']], ('PASEF-seeded','3DID','MaxQuant'))\n",
    "\n",
    "plt.show()"
   ]
  },
  {
   "cell_type": "markdown",
   "metadata": {},
   "source": [
    "#### analyse other attributes of features in common"
   ]
  },
  {
   "cell_type": "code",
   "execution_count": 40,
   "metadata": {},
   "outputs": [
    {
     "data": {
      "image/png": "[encoded data removed]",
      "text/plain": [
       "<Figure size 1080x576 with 1 Axes>"
      ]
     },
     "metadata": {
      "needs_background": "light"
     },
     "output_type": "display_data"
    }
   ],
   "source": [
    "f, ax1 = plt.subplots()\n",
    "f.set_figheight(8)\n",
    "f.set_figwidth(15)\n",
    "\n",
    "plt.margins(0.06)\n",
    "plt.title('')\n",
    "\n",
    "barwidth = 0.2\n",
    "max_charge = max(idents_mq_df.charge.max(), idents_pasef_df.charge.max(), features_3did_df.charge.max())\n",
    "\n",
    "pos1 = [x - barwidth for x in range(max_charge+1)]\n",
    "pos2 = [x + barwidth for x in pos1]\n",
    "pos3 = [x + (2*barwidth) for x in pos1]\n",
    "\n",
    "counts = np.bincount(idents_mq_df.charge, minlength=max_charge+1)\n",
    "ax1.bar(pos1, counts, width=barwidth, align='center', log=True, label='MaxQuant')\n",
    "\n",
    "counts = np.bincount(idents_pasef_df.charge, minlength=max_charge+1)\n",
    "ax1.bar(pos2, counts, width=barwidth, align='center', log=True, label='PASEF-seeded')\n",
    "\n",
    "counts = np.bincount(features_3did_df.charge, minlength=max_charge+1)\n",
    "ax1.bar(pos3, counts, width=barwidth, align='center', log=True, label='3DID')\n",
    "\n",
    "ax1.set(xticks=range(1,max_charge+1), xlim=[0, max_charge+1])\n",
    "\n",
    "plt.xlabel('charge state')\n",
    "plt.ylabel('log count')\n",
    "plt.title('distribution of charge states for identified features\\nrun {}, experiment {}'.format(run_name, experiment_name))\n",
    "\n",
    "plt.ylim((1,10**5))\n",
    "\n",
    "plt.legend()\n",
    "plt.show()"
   ]
  },
  {
   "cell_type": "code",
   "execution_count": 41,
   "metadata": {},
   "outputs": [],
   "source": [
    "pasef_3did_df = combined_features_df[(combined_features_df.pasef_feature_id > 0) & (combined_features_df['3did_feature_id'] > 0)]"
   ]
  },
  {
   "cell_type": "code",
   "execution_count": 42,
   "metadata": {},
   "outputs": [
    {
     "data": {
      "image/png": "[encoded data removed]",
      "text/plain": [
       "<Figure size 720x720 with 1 Axes>"
      ]
     },
     "metadata": {
      "needs_background": "light"
     },
     "output_type": "display_data"
    }
   ],
   "source": [
    "f, ax = plt.subplots()\n",
    "f.set_figheight(10)\n",
    "f.set_figwidth(10)\n",
    "\n",
    "plt.margins(0.06)\n",
    "# plt.title('deconvolution score for features identified by PASEF-seeded and features detected by 3DID methods')\n",
    "\n",
    "ax.scatter(pasef_3did_df.pasef_deconvolution_score, pasef_3did_df['3did_deconvolution_score'], marker='o', lw=0, s=15, alpha=0.6)\n",
    "\n",
    "ax.plot([0, 1], [0, 1], transform=ax.transAxes, linestyle=':', linewidth=2, color='darkorange')\n",
    "\n",
    "plt.xlim((-1,8000))\n",
    "plt.ylim((-1,8000))\n",
    "\n",
    "plt.xlabel('PASEF feature score')\n",
    "plt.ylabel('3DID feature score')\n",
    "\n",
    "plt.show()"
   ]
  },
  {
   "cell_type": "raw",
   "metadata": {},
   "source": [
    "#### compare dynamic range of detected features"
   ]
  },
  {
   "cell_type": "raw",
   "metadata": {},
   "source": [
    "idents_mq_df['method'] = 'mq'\n",
    "idents_pasef_df['method'] = 'pasef'\n",
    "features_3did_df['method'] = '3did'"
   ]
  },
  {
   "cell_type": "raw",
   "metadata": {},
   "source": [
    "idents_mq_df['log_intensity'] = np.log10(idents_mq_df.feature_intensity)\n",
    "idents_pasef_df['log_intensity'] = np.log10(idents_pasef_df.feature_intensity)\n",
    "features_3did_df['log_intensity'] = np.log10(features_3did_df.feature_intensity)"
   ]
  },
  {
   "cell_type": "raw",
   "metadata": {},
   "source": [
    "idents_mq_df['log_intensity_adjusted'] = idents_mq_df.log_intensity - np.min(idents_mq_df.log_intensity)\n",
    "idents_pasef_df['log_intensity_adjusted'] = idents_pasef_df.log_intensity - np.min(idents_pasef_df.log_intensity)\n",
    "features_3did_df['log_intensity_adjusted'] = features_3did_df.log_intensity - np.min(features_3did_df.log_intensity)"
   ]
  },
  {
   "cell_type": "raw",
   "metadata": {},
   "source": [
    "intensities_l = [idents_mq_df,idents_pasef_df,features_3did_df]\n",
    "intensities_df = pd.concat(intensities_l, sort=False)"
   ]
  },
  {
   "cell_type": "raw",
   "metadata": {},
   "source": [
    "plt.figure(figsize=(15,10))\n",
    "ax = sns.violinplot(x=intensities_df.method, y=intensities_df.log_intensity_adjusted)\n",
    "_ = plt.ylabel(\"log10 dynamic range\")\n",
    "_ = plt.title('dynamic range of features identified in YHE211_1')"
   ]
  },
  {
   "cell_type": "raw",
   "metadata": {},
   "source": [
    "intensities_l = [idents_pasef_df,features_3did_df]\n",
    "intensities_df = pd.concat(intensities_l, sort=False)"
   ]
  },
  {
   "cell_type": "raw",
   "metadata": {},
   "source": [
    "plt.figure(figsize=(15,10))\n",
    "ax = sns.violinplot(x=intensities_df.method, y=intensities_df.log_intensity)\n",
    "_ = plt.ylabel(\"log10 intensity\")\n",
    "_ = plt.title('dynamic range of features identified in YHE211_1')"
   ]
  },
  {
   "cell_type": "code",
   "execution_count": 43,
   "metadata": {},
   "outputs": [
    {
     "data": {
      "image/png": "[encoded data removed]",
      "text/plain": [
       "<Figure size 1080x576 with 1 Axes>"
      ]
     },
     "metadata": {
      "needs_background": "light"
     },
     "output_type": "display_data"
    }
   ],
   "source": [
    "f, ax1 = plt.subplots()\n",
    "f.set_figheight(8)\n",
    "f.set_figwidth(15)\n",
    "\n",
    "plt.margins(0.06)\n",
    "plt.title('intensity distribution')\n",
    "\n",
    "bins = 300\n",
    "hist, bins, _ = plt.hist(combined_features_df[combined_features_df.mq_feature_id > 0].mq_log_intensity, bins=bins, alpha=0.4, label='MaxQuant')\n",
    "hist, bins, _ = plt.hist(combined_features_df[combined_features_df.pasef_feature_id > 0].pasef_log_intensity, bins=bins, alpha=0.4, label='PASEF')\n",
    "hist, bins, _ = plt.hist(combined_features_df[combined_features_df['3did_feature_id'] > 0]['3did_log_intensity'], bins=bins, alpha=0.4, label='3DID')\n",
    "\n",
    "plt.xlabel('log10 feature intensity')\n",
    "plt.ylabel('count')\n",
    "\n",
    "# plt.xlim((0,8))\n",
    "plt.ylim((0,800))\n",
    "\n",
    "plt.legend()\n",
    "plt.show()"
   ]
  },
  {
   "cell_type": "code",
   "execution_count": 44,
   "metadata": {},
   "outputs": [],
   "source": [
    "unique_mq_df = combined_features_df[(combined_features_df.mq_feature_id > 0) & (combined_features_df.pasef_feature_id == 0) & (combined_features_df['3did_feature_id'] == 0)]\n",
    "unique_pasef_df = combined_features_df[(combined_features_df.mq_feature_id == 0) & (combined_features_df.pasef_feature_id > 0) & (combined_features_df['3did_feature_id'] == 0)]\n",
    "unique_3did_df = combined_features_df[(combined_features_df.mq_feature_id == 0) & (combined_features_df.pasef_feature_id == 0) & (combined_features_df['3did_feature_id'] > 0)]\n"
   ]
  },
  {
   "cell_type": "code",
   "execution_count": 45,
   "metadata": {},
   "outputs": [
    {
     "data": {
      "image/png": "[encoded data removed]",
      "text/plain": [
       "<Figure size 1080x576 with 1 Axes>"
      ]
     },
     "metadata": {
      "needs_background": "light"
     },
     "output_type": "display_data"
    }
   ],
   "source": [
    "f, ax1 = plt.subplots()\n",
    "f.set_figheight(8)\n",
    "f.set_figwidth(15)\n",
    "\n",
    "plt.margins(0.06)\n",
    "plt.title('intensity distribution (unique identifications)')\n",
    "\n",
    "bins = 300\n",
    "hist, bins, _ = plt.hist(unique_mq_df.mq_log_intensity, bins=bins, alpha=0.4, label='MaxQuant')\n",
    "hist, bins, _ = plt.hist(unique_pasef_df.pasef_log_intensity, bins=bins, alpha=0.4, label='PASEF')\n",
    "hist, bins, _ = plt.hist(unique_3did_df['3did_log_intensity'], bins=bins, alpha=0.4, label='3DID')\n",
    "\n",
    "plt.xlabel('log10 feature intensity')\n",
    "plt.ylabel('count')\n",
    "\n",
    "# plt.xlim((0,8))\n",
    "plt.ylim((0,180))\n",
    "\n",
    "plt.legend()\n",
    "plt.show()"
   ]
  },
  {
   "cell_type": "markdown",
   "metadata": {},
   "source": [
    "#### compare 3did _detected_ features from minvi=2500 and minvi=5000"
   ]
  },
  {
   "cell_type": "code",
   "execution_count": 57,
   "metadata": {},
   "outputs": [],
   "source": [
    "FEATURES_3DID_MINVI_2500_FILE = '/media/big-ssd/results-P3856-3did/14-jul-minvi-2500/exp-P3856-run-P3856_YHE211_1_Slot1-1_1_5104-features-3did.pkl'\n",
    "FEATURES_3DID_MINVI_5000_FILE = '/media/big-ssd/results-P3856-3did/14-jul-minvi-5000/exp-P3856-run-P3856_YHE211_1_Slot1-1_1_5104-features-3did.pkl'"
   ]
  },
  {
   "cell_type": "code",
   "execution_count": 58,
   "metadata": {},
   "outputs": [],
   "source": [
    "# load the features detected by 3DID\n",
    "with open(FEATURES_3DID_MINVI_5000_FILE, 'rb') as handle:\n",
    "    d = pickle.load(handle)\n",
    "minvi_5000_features_df = d['features_df']"
   ]
  },
  {
   "cell_type": "code",
   "execution_count": 59,
   "metadata": {},
   "outputs": [],
   "source": [
    "# load the features detected by 3DID\n",
    "with open(FEATURES_3DID_MINVI_2500_FILE, 'rb') as handle:\n",
    "    d = pickle.load(handle)\n",
    "minvi_2500_features_df = d['features_df']"
   ]
  },
  {
   "cell_type": "code",
   "execution_count": 60,
   "metadata": {},
   "outputs": [],
   "source": [
    "minvi_5000_features_df = minvi_5000_features_df[combined_names].copy()\n",
    "minvi_5000_features_df['minvi'] = '5000'\n",
    "\n",
    "minvi_2500_features_df = minvi_2500_features_df[combined_names].copy()\n",
    "minvi_2500_features_df['minvi'] = '2500'\n",
    "\n",
    "minvi_features_df = pd.concat([minvi_2500_features_df,minvi_5000_features_df], axis=0, sort=False, ignore_index=True)\n",
    "minvi_features_df['minvi_feature_id'] = minvi_features_df.minvi+'-'+minvi_features_df.feature_id.astype('str')"
   ]
  },
  {
   "cell_type": "code",
   "execution_count": 61,
   "metadata": {},
   "outputs": [
    {
     "data": {
      "text/plain": [
       "(55613, 163900)"
      ]
     },
     "execution_count": 61,
     "metadata": {},
     "output_type": "execute_result"
    }
   ],
   "source": [
    "len(minvi_5000_features_df), len(minvi_2500_features_df)"
   ]
  },
  {
   "cell_type": "code",
   "execution_count": 62,
   "metadata": {},
   "outputs": [
    {
     "data": {
      "text/html": [
       "<div>\n",
       "<style scoped>\n",
       "    .dataframe tbody tr th:only-of-type {\n",
       "        vertical-align: middle;\n",
       "    }\n",
       "\n",
       "    .dataframe tbody tr th {\n",
       "        vertical-align: top;\n",
       "    }\n",
       "\n",
       "    .dataframe thead th {\n",
       "        text-align: right;\n",
       "    }\n",
       "</style>\n",
       "<table border=\"1\" class=\"dataframe\">\n",
       "  <thead>\n",
       "    <tr style=\"text-align: right;\">\n",
       "      <th></th>\n",
       "      <th>feature_id</th>\n",
       "      <th>charge</th>\n",
       "      <th>monoisotopic_mz</th>\n",
       "      <th>scan_apex</th>\n",
       "      <th>rt_apex</th>\n",
       "      <th>minvi</th>\n",
       "      <th>minvi_feature_id</th>\n",
       "    </tr>\n",
       "  </thead>\n",
       "  <tbody>\n",
       "    <tr>\n",
       "      <th>60125</th>\n",
       "      <td>60125</td>\n",
       "      <td>2</td>\n",
       "      <td>827.408144</td>\n",
       "      <td>500.0</td>\n",
       "      <td>2006.636024</td>\n",
       "      <td>2500</td>\n",
       "      <td>2500-60125</td>\n",
       "    </tr>\n",
       "    <tr>\n",
       "      <th>67272</th>\n",
       "      <td>67272</td>\n",
       "      <td>1</td>\n",
       "      <td>856.410336</td>\n",
       "      <td>379.0</td>\n",
       "      <td>2122.539546</td>\n",
       "      <td>2500</td>\n",
       "      <td>2500-67272</td>\n",
       "    </tr>\n",
       "    <tr>\n",
       "      <th>207025</th>\n",
       "      <td>43125</td>\n",
       "      <td>2</td>\n",
       "      <td>1004.531803</td>\n",
       "      <td>108.0</td>\n",
       "      <td>1922.492788</td>\n",
       "      <td>5000</td>\n",
       "      <td>5000-43125</td>\n",
       "    </tr>\n",
       "    <tr>\n",
       "      <th>184152</th>\n",
       "      <td>20252</td>\n",
       "      <td>2</td>\n",
       "      <td>837.886281</td>\n",
       "      <td>519.0</td>\n",
       "      <td>1957.420451</td>\n",
       "      <td>5000</td>\n",
       "      <td>5000-20252</td>\n",
       "    </tr>\n",
       "    <tr>\n",
       "      <th>77039</th>\n",
       "      <td>77039</td>\n",
       "      <td>2</td>\n",
       "      <td>871.405724</td>\n",
       "      <td>445.0</td>\n",
       "      <td>1740.950286</td>\n",
       "      <td>2500</td>\n",
       "      <td>2500-77039</td>\n",
       "    </tr>\n",
       "  </tbody>\n",
       "</table>\n",
       "</div>"
      ],
      "text/plain": [
       "        feature_id  charge  monoisotopic_mz  scan_apex      rt_apex minvi  \\\n",
       "60125        60125       2       827.408144      500.0  2006.636024  2500   \n",
       "67272        67272       1       856.410336      379.0  2122.539546  2500   \n",
       "207025       43125       2      1004.531803      108.0  1922.492788  5000   \n",
       "184152       20252       2       837.886281      519.0  1957.420451  5000   \n",
       "77039        77039       2       871.405724      445.0  1740.950286  2500   \n",
       "\n",
       "       minvi_feature_id  \n",
       "60125        2500-60125  \n",
       "67272        2500-67272  \n",
       "207025       5000-43125  \n",
       "184152       5000-20252  \n",
       "77039        2500-77039  "
      ]
     },
     "execution_count": 62,
     "metadata": {},
     "output_type": "execute_result"
    }
   ],
   "source": [
    "minvi_features_df.sample(n=5)"
   ]
  },
  {
   "cell_type": "markdown",
   "metadata": {},
   "source": [
    "#### find the detections in common between the different minvi values"
   ]
  },
  {
   "cell_type": "code",
   "execution_count": 63,
   "metadata": {},
   "outputs": [],
   "source": [
    "# set up dup definitions\n",
    "MZ_TOLERANCE_PERCENT = DUP_MZ_TOLERANCE_PPM * 10**-4\n",
    "minvi_features_df['dup_mz'] = minvi_features_df['monoisotopic_mz']  # shorthand to reduce verbosity\n",
    "minvi_features_df['dup_mz_ppm_tolerance'] = minvi_features_df.dup_mz * MZ_TOLERANCE_PERCENT / 100\n",
    "minvi_features_df['dup_mz_lower'] = minvi_features_df.dup_mz - minvi_features_df.dup_mz_ppm_tolerance\n",
    "minvi_features_df['dup_mz_upper'] = minvi_features_df.dup_mz + minvi_features_df.dup_mz_ppm_tolerance\n",
    "minvi_features_df['dup_scan_lower'] = minvi_features_df.scan_apex - DUP_SCAN_TOLERANCE\n",
    "minvi_features_df['dup_scan_upper'] = minvi_features_df.scan_apex + DUP_SCAN_TOLERANCE\n",
    "minvi_features_df['dup_rt_lower'] = minvi_features_df.rt_apex - DUP_RT_TOLERANCE\n",
    "minvi_features_df['dup_rt_upper'] = minvi_features_df.rt_apex + DUP_RT_TOLERANCE"
   ]
  },
  {
   "cell_type": "code",
   "execution_count": 64,
   "metadata": {},
   "outputs": [],
   "source": [
    "combined_id = 1\n",
    "combined_features = []\n",
    "sets_d = {'5000':set(), '2500':set()}\n",
    "features_processed = set()\n",
    "for row in minvi_features_df.itertuples():\n",
    "    if row.minvi_feature_id not in features_processed:\n",
    "        df = minvi_features_df[(row.charge == minvi_features_df.charge) & (row.dup_mz >= minvi_features_df.dup_mz_lower) & (row.dup_mz <= minvi_features_df.dup_mz_upper) & (row.scan_apex >= minvi_features_df.dup_scan_lower) & (row.scan_apex <= minvi_features_df.dup_scan_upper) & (row.rt_apex >= minvi_features_df.dup_rt_lower) & (row.rt_apex <= minvi_features_df.dup_rt_upper)].copy()\n",
    "        if len(df) > 0:\n",
    "            # remove the features that have already been processed\n",
    "            feature_ids_not_processed = set(df.minvi_feature_id.tolist()) - features_processed\n",
    "            df = df[(df.minvi_feature_id.isin(feature_ids_not_processed))]\n",
    "            for minvi in df.minvi.tolist():\n",
    "                sets_d[minvi].add(combined_id)\n",
    "            # record the features that have been processed\n",
    "            features_processed.update(set(df.minvi_feature_id.tolist()))\n",
    "            # separate the minvi feature ids\n",
    "            feature_ids = {'5000':0, '2500':0}\n",
    "            for m in df.minvi_feature_id.tolist():\n",
    "                minvi = m.split('-')[0]\n",
    "                feature_id = int(m.split('-')[1])\n",
    "                feature_ids[minvi] = feature_id\n",
    "            # store the features that were combined\n",
    "            combined_features.append({'combined_id':combined_id, 'number_of_minvis':len(df.minvi.unique()), 'minvis':list(df.minvi.unique()), 'minvi_ids':df.minvi_feature_id.tolist(), 'minvi_5000_feature_id':feature_ids['5000'], 'minvi_2500_feature_id':feature_ids['2500']})\n",
    "            # update the combined feature identifier\n",
    "            combined_id += 1"
   ]
  },
  {
   "cell_type": "code",
   "execution_count": 65,
   "metadata": {},
   "outputs": [],
   "source": [
    "combined_features_df = pd.DataFrame(combined_features)\n",
    "combined_features_df.to_pickle('{}/combined_features_minvi_df.pkl'.format(expanduser('~')))"
   ]
  },
  {
   "cell_type": "code",
   "execution_count": 66,
   "metadata": {},
   "outputs": [
    {
     "data": {
      "text/html": [
       "<div>\n",
       "<style scoped>\n",
       "    .dataframe tbody tr th:only-of-type {\n",
       "        vertical-align: middle;\n",
       "    }\n",
       "\n",
       "    .dataframe tbody tr th {\n",
       "        vertical-align: top;\n",
       "    }\n",
       "\n",
       "    .dataframe thead th {\n",
       "        text-align: right;\n",
       "    }\n",
       "</style>\n",
       "<table border=\"1\" class=\"dataframe\">\n",
       "  <thead>\n",
       "    <tr style=\"text-align: right;\">\n",
       "      <th></th>\n",
       "      <th>combined_id</th>\n",
       "      <th>number_of_minvis</th>\n",
       "      <th>minvis</th>\n",
       "      <th>minvi_ids</th>\n",
       "      <th>minvi_5000_feature_id</th>\n",
       "      <th>minvi_2500_feature_id</th>\n",
       "    </tr>\n",
       "  </thead>\n",
       "  <tbody>\n",
       "    <tr>\n",
       "      <th>96589</th>\n",
       "      <td>96590</td>\n",
       "      <td>1</td>\n",
       "      <td>[2500]</td>\n",
       "      <td>[2500-160809]</td>\n",
       "      <td>0</td>\n",
       "      <td>160809</td>\n",
       "    </tr>\n",
       "    <tr>\n",
       "      <th>49151</th>\n",
       "      <td>49152</td>\n",
       "      <td>1</td>\n",
       "      <td>[2500]</td>\n",
       "      <td>[2500-77698]</td>\n",
       "      <td>0</td>\n",
       "      <td>77698</td>\n",
       "    </tr>\n",
       "    <tr>\n",
       "      <th>79009</th>\n",
       "      <td>79010</td>\n",
       "      <td>2</td>\n",
       "      <td>[2500, 5000]</td>\n",
       "      <td>[2500-130102, 2500-130626, 5000-44999]</td>\n",
       "      <td>44999</td>\n",
       "      <td>130626</td>\n",
       "    </tr>\n",
       "    <tr>\n",
       "      <th>72543</th>\n",
       "      <td>72544</td>\n",
       "      <td>1</td>\n",
       "      <td>[2500]</td>\n",
       "      <td>[2500-119028]</td>\n",
       "      <td>0</td>\n",
       "      <td>119028</td>\n",
       "    </tr>\n",
       "    <tr>\n",
       "      <th>1069</th>\n",
       "      <td>1070</td>\n",
       "      <td>1</td>\n",
       "      <td>[2500]</td>\n",
       "      <td>[2500-1325]</td>\n",
       "      <td>0</td>\n",
       "      <td>1325</td>\n",
       "    </tr>\n",
       "  </tbody>\n",
       "</table>\n",
       "</div>"
      ],
      "text/plain": [
       "       combined_id  number_of_minvis        minvis  \\\n",
       "96589        96590                 1        [2500]   \n",
       "49151        49152                 1        [2500]   \n",
       "79009        79010                 2  [2500, 5000]   \n",
       "72543        72544                 1        [2500]   \n",
       "1069          1070                 1        [2500]   \n",
       "\n",
       "                                    minvi_ids  minvi_5000_feature_id  \\\n",
       "96589                           [2500-160809]                      0   \n",
       "49151                            [2500-77698]                      0   \n",
       "79009  [2500-130102, 2500-130626, 5000-44999]                  44999   \n",
       "72543                           [2500-119028]                      0   \n",
       "1069                              [2500-1325]                      0   \n",
       "\n",
       "       minvi_2500_feature_id  \n",
       "96589                 160809  \n",
       "49151                  77698  \n",
       "79009                 130626  \n",
       "72543                 119028  \n",
       "1069                    1325  "
      ]
     },
     "execution_count": 66,
     "metadata": {},
     "output_type": "execute_result"
    }
   ],
   "source": [
    "combined_features_df.sample(n=5)"
   ]
  },
  {
   "cell_type": "code",
   "execution_count": 67,
   "metadata": {},
   "outputs": [
    {
     "data": {
      "image/png": "[encoded data removed]",
      "text/plain": [
       "<Figure size 1080x720 with 1 Axes>"
      ]
     },
     "metadata": {},
     "output_type": "display_data"
    }
   ],
   "source": [
    "import matplotlib.pyplot as plt\n",
    "from matplotlib_venn import venn2\n",
    "\n",
    "f, ax1 = plt.subplots()\n",
    "f.set_figheight(10)\n",
    "f.set_figwidth(15)\n",
    "\n",
    "plt.margins(0.06)\n",
    "plt.title('features detected with minvi=2500 and minvi=5000')\n",
    "\n",
    "venn2([sets_d['5000'],sets_d['2500']], ('minvi 5000','minvi 2500'))\n",
    "\n",
    "plt.show()"
   ]
  },
  {
   "cell_type": "markdown",
   "metadata": {},
   "source": [
    "#### compare 3did _identified_ features from minvi=2500 and minvi=5000"
   ]
  },
  {
   "cell_type": "code",
   "execution_count": 46,
   "metadata": {},
   "outputs": [],
   "source": [
    "FEATURES_3DID_MINVI_2500_FILE = '/media/big-ssd/results-P3856-3did/14-jul-minvi-2500/exp-P3856-run-P3856_YHE211_1_Slot1-1_1_5104-features-3did-dedup.pkl'\n",
    "FEATURES_3DID_MINVI_5000_FILE = '/media/big-ssd/results-P3856-3did/14-jul-minvi-5000/exp-P3856-run-P3856_YHE211_1_Slot1-1_1_5104-features-3did-dedup.pkl'"
   ]
  },
  {
   "cell_type": "code",
   "execution_count": 47,
   "metadata": {},
   "outputs": [],
   "source": [
    "# load the features detected by 3DID\n",
    "with open(FEATURES_3DID_MINVI_5000_FILE, 'rb') as handle:\n",
    "    d = pickle.load(handle)\n",
    "minvi_5000_idents_df = d['features_df']"
   ]
  },
  {
   "cell_type": "code",
   "execution_count": 48,
   "metadata": {},
   "outputs": [],
   "source": [
    "# load the features detected by 3DID\n",
    "with open(FEATURES_3DID_MINVI_2500_FILE, 'rb') as handle:\n",
    "    d = pickle.load(handle)\n",
    "minvi_2500_idents_df = d['features_df']"
   ]
  },
  {
   "cell_type": "code",
   "execution_count": 49,
   "metadata": {},
   "outputs": [],
   "source": [
    "minvi_5000_idents_df = minvi_5000_idents_df[combined_names].copy()\n",
    "minvi_5000_idents_df['minvi'] = '5000'\n",
    "\n",
    "minvi_2500_idents_df = minvi_2500_idents_df[combined_names].copy()\n",
    "minvi_2500_idents_df['minvi'] = '2500'\n",
    "\n",
    "minvi_idents_df = pd.concat([minvi_2500_idents_df,minvi_5000_idents_df], axis=0, sort=False, ignore_index=True)\n",
    "minvi_idents_df['minvi_feature_id'] = minvi_idents_df.minvi+'-'+minvi_idents_df.feature_id.astype('str')"
   ]
  },
  {
   "cell_type": "code",
   "execution_count": 50,
   "metadata": {},
   "outputs": [
    {
     "data": {
      "text/plain": [
       "(30131, 53621)"
      ]
     },
     "execution_count": 50,
     "metadata": {},
     "output_type": "execute_result"
    }
   ],
   "source": [
    "len(minvi_5000_idents_df), len(minvi_2500_idents_df)"
   ]
  },
  {
   "cell_type": "code",
   "execution_count": 51,
   "metadata": {},
   "outputs": [
    {
     "data": {
      "text/html": [
       "<div>\n",
       "<style scoped>\n",
       "    .dataframe tbody tr th:only-of-type {\n",
       "        vertical-align: middle;\n",
       "    }\n",
       "\n",
       "    .dataframe tbody tr th {\n",
       "        vertical-align: top;\n",
       "    }\n",
       "\n",
       "    .dataframe thead th {\n",
       "        text-align: right;\n",
       "    }\n",
       "</style>\n",
       "<table border=\"1\" class=\"dataframe\">\n",
       "  <thead>\n",
       "    <tr style=\"text-align: right;\">\n",
       "      <th></th>\n",
       "      <th>feature_id</th>\n",
       "      <th>charge</th>\n",
       "      <th>monoisotopic_mz</th>\n",
       "      <th>scan_apex</th>\n",
       "      <th>rt_apex</th>\n",
       "      <th>minvi</th>\n",
       "      <th>minvi_feature_id</th>\n",
       "    </tr>\n",
       "  </thead>\n",
       "  <tbody>\n",
       "    <tr>\n",
       "      <th>8031</th>\n",
       "      <td>163887</td>\n",
       "      <td>3</td>\n",
       "      <td>1525.646927</td>\n",
       "      <td>197.0</td>\n",
       "      <td>1730.895076</td>\n",
       "      <td>2500</td>\n",
       "      <td>2500-163887</td>\n",
       "    </tr>\n",
       "    <tr>\n",
       "      <th>55107</th>\n",
       "      <td>51237</td>\n",
       "      <td>2</td>\n",
       "      <td>1106.578918</td>\n",
       "      <td>73.0</td>\n",
       "      <td>2092.896672</td>\n",
       "      <td>5000</td>\n",
       "      <td>5000-51237</td>\n",
       "    </tr>\n",
       "    <tr>\n",
       "      <th>71186</th>\n",
       "      <td>55612</td>\n",
       "      <td>3</td>\n",
       "      <td>1622.628118</td>\n",
       "      <td>112.0</td>\n",
       "      <td>1757.356976</td>\n",
       "      <td>5000</td>\n",
       "      <td>5000-55612</td>\n",
       "    </tr>\n",
       "    <tr>\n",
       "      <th>73878</th>\n",
       "      <td>38903</td>\n",
       "      <td>3</td>\n",
       "      <td>960.812676</td>\n",
       "      <td>528.0</td>\n",
       "      <td>2030.976810</td>\n",
       "      <td>5000</td>\n",
       "      <td>5000-38903</td>\n",
       "    </tr>\n",
       "    <tr>\n",
       "      <th>73532</th>\n",
       "      <td>18551</td>\n",
       "      <td>2</td>\n",
       "      <td>822.410885</td>\n",
       "      <td>477.0</td>\n",
       "      <td>2071.193947</td>\n",
       "      <td>5000</td>\n",
       "      <td>5000-18551</td>\n",
       "    </tr>\n",
       "  </tbody>\n",
       "</table>\n",
       "</div>"
      ],
      "text/plain": [
       "       feature_id  charge  monoisotopic_mz  scan_apex      rt_apex minvi  \\\n",
       "8031       163887       3      1525.646927      197.0  1730.895076  2500   \n",
       "55107       51237       2      1106.578918       73.0  2092.896672  5000   \n",
       "71186       55612       3      1622.628118      112.0  1757.356976  5000   \n",
       "73878       38903       3       960.812676      528.0  2030.976810  5000   \n",
       "73532       18551       2       822.410885      477.0  2071.193947  5000   \n",
       "\n",
       "      minvi_feature_id  \n",
       "8031       2500-163887  \n",
       "55107       5000-51237  \n",
       "71186       5000-55612  \n",
       "73878       5000-38903  \n",
       "73532       5000-18551  "
      ]
     },
     "execution_count": 51,
     "metadata": {},
     "output_type": "execute_result"
    }
   ],
   "source": [
    "minvi_idents_df.sample(n=5)"
   ]
  },
  {
   "cell_type": "markdown",
   "metadata": {},
   "source": [
    "#### find the identifications in common between the different minvi values"
   ]
  },
  {
   "cell_type": "code",
   "execution_count": 52,
   "metadata": {},
   "outputs": [],
   "source": [
    "# set up dup definitions\n",
    "MZ_TOLERANCE_PERCENT = DUP_MZ_TOLERANCE_PPM * 10**-4\n",
    "minvi_idents_df['dup_mz'] = minvi_idents_df['monoisotopic_mz']  # shorthand to reduce verbosity\n",
    "minvi_idents_df['dup_mz_ppm_tolerance'] = minvi_idents_df.dup_mz * MZ_TOLERANCE_PERCENT / 100\n",
    "minvi_idents_df['dup_mz_lower'] = minvi_idents_df.dup_mz - minvi_idents_df.dup_mz_ppm_tolerance\n",
    "minvi_idents_df['dup_mz_upper'] = minvi_idents_df.dup_mz + minvi_idents_df.dup_mz_ppm_tolerance\n",
    "minvi_idents_df['dup_scan_lower'] = minvi_idents_df.scan_apex - DUP_SCAN_TOLERANCE\n",
    "minvi_idents_df['dup_scan_upper'] = minvi_idents_df.scan_apex + DUP_SCAN_TOLERANCE\n",
    "minvi_idents_df['dup_rt_lower'] = minvi_idents_df.rt_apex - DUP_RT_TOLERANCE\n",
    "minvi_idents_df['dup_rt_upper'] = minvi_idents_df.rt_apex + DUP_RT_TOLERANCE"
   ]
  },
  {
   "cell_type": "code",
   "execution_count": 53,
   "metadata": {},
   "outputs": [],
   "source": [
    "combined_id = 1\n",
    "combined_features = []\n",
    "sets_d = {'5000':set(), '2500':set()}\n",
    "features_processed = set()\n",
    "for row in minvi_idents_df.itertuples():\n",
    "    if row.minvi_feature_id not in features_processed:\n",
    "        df = minvi_idents_df[(row.charge == minvi_idents_df.charge) & (row.dup_mz >= minvi_idents_df.dup_mz_lower) & (row.dup_mz <= minvi_idents_df.dup_mz_upper) & (row.scan_apex >= minvi_idents_df.dup_scan_lower) & (row.scan_apex <= minvi_idents_df.dup_scan_upper) & (row.rt_apex >= minvi_idents_df.dup_rt_lower) & (row.rt_apex <= minvi_idents_df.dup_rt_upper)].copy()\n",
    "        if len(df) > 0:\n",
    "            # remove the features that have already been processed\n",
    "            feature_ids_not_processed = set(df.minvi_feature_id.tolist()) - features_processed\n",
    "            df = df[(df.minvi_feature_id.isin(feature_ids_not_processed))]\n",
    "            for minvi in df.minvi.tolist():\n",
    "                sets_d[minvi].add(combined_id)\n",
    "            # record the features that have been processed\n",
    "            features_processed.update(set(df.minvi_feature_id.tolist()))\n",
    "            # separate the minvi feature ids\n",
    "            feature_ids = {'5000':0, '2500':0}\n",
    "            for m in df.minvi_feature_id.tolist():\n",
    "                minvi = m.split('-')[0]\n",
    "                feature_id = int(m.split('-')[1])\n",
    "                feature_ids[minvi] = feature_id\n",
    "            # store the features that were combined\n",
    "            combined_features.append({'combined_id':combined_id, 'number_of_minvis':len(df.minvi.unique()), 'minvis':list(df.minvi.unique()), 'minvi_ids':df.minvi_feature_id.tolist(), 'minvi_5000_feature_id':feature_ids['5000'], 'minvi_2500_feature_id':feature_ids['2500']})\n",
    "            # update the combined feature identifier\n",
    "            combined_id += 1"
   ]
  },
  {
   "cell_type": "code",
   "execution_count": 54,
   "metadata": {},
   "outputs": [],
   "source": [
    "combined_features_df = pd.DataFrame(combined_features)\n",
    "combined_features_df.to_pickle('{}/combined_features_minvi_df.pkl'.format(expanduser('~')))"
   ]
  },
  {
   "cell_type": "code",
   "execution_count": 55,
   "metadata": {},
   "outputs": [
    {
     "data": {
      "text/html": [
       "<div>\n",
       "<style scoped>\n",
       "    .dataframe tbody tr th:only-of-type {\n",
       "        vertical-align: middle;\n",
       "    }\n",
       "\n",
       "    .dataframe tbody tr th {\n",
       "        vertical-align: top;\n",
       "    }\n",
       "\n",
       "    .dataframe thead th {\n",
       "        text-align: right;\n",
       "    }\n",
       "</style>\n",
       "<table border=\"1\" class=\"dataframe\">\n",
       "  <thead>\n",
       "    <tr style=\"text-align: right;\">\n",
       "      <th></th>\n",
       "      <th>combined_id</th>\n",
       "      <th>number_of_minvis</th>\n",
       "      <th>minvis</th>\n",
       "      <th>minvi_ids</th>\n",
       "      <th>minvi_5000_feature_id</th>\n",
       "      <th>minvi_2500_feature_id</th>\n",
       "    </tr>\n",
       "  </thead>\n",
       "  <tbody>\n",
       "    <tr>\n",
       "      <th>44415</th>\n",
       "      <td>44416</td>\n",
       "      <td>1</td>\n",
       "      <td>[2500]</td>\n",
       "      <td>[2500-66215]</td>\n",
       "      <td>0</td>\n",
       "      <td>66215</td>\n",
       "    </tr>\n",
       "    <tr>\n",
       "      <th>17204</th>\n",
       "      <td>17205</td>\n",
       "      <td>1</td>\n",
       "      <td>[2500]</td>\n",
       "      <td>[2500-160597]</td>\n",
       "      <td>0</td>\n",
       "      <td>160597</td>\n",
       "    </tr>\n",
       "    <tr>\n",
       "      <th>2732</th>\n",
       "      <td>2733</td>\n",
       "      <td>2</td>\n",
       "      <td>[2500, 5000]</td>\n",
       "      <td>[2500-21289, 5000-6859]</td>\n",
       "      <td>6859</td>\n",
       "      <td>21289</td>\n",
       "    </tr>\n",
       "    <tr>\n",
       "      <th>11318</th>\n",
       "      <td>11319</td>\n",
       "      <td>1</td>\n",
       "      <td>[2500]</td>\n",
       "      <td>[2500-48723]</td>\n",
       "      <td>0</td>\n",
       "      <td>48723</td>\n",
       "    </tr>\n",
       "    <tr>\n",
       "      <th>52702</th>\n",
       "      <td>52703</td>\n",
       "      <td>1</td>\n",
       "      <td>[2500]</td>\n",
       "      <td>[2500-90809]</td>\n",
       "      <td>0</td>\n",
       "      <td>90809</td>\n",
       "    </tr>\n",
       "  </tbody>\n",
       "</table>\n",
       "</div>"
      ],
      "text/plain": [
       "       combined_id  number_of_minvis        minvis                minvi_ids  \\\n",
       "44415        44416                 1        [2500]             [2500-66215]   \n",
       "17204        17205                 1        [2500]            [2500-160597]   \n",
       "2732          2733                 2  [2500, 5000]  [2500-21289, 5000-6859]   \n",
       "11318        11319                 1        [2500]             [2500-48723]   \n",
       "52702        52703                 1        [2500]             [2500-90809]   \n",
       "\n",
       "       minvi_5000_feature_id  minvi_2500_feature_id  \n",
       "44415                      0                  66215  \n",
       "17204                      0                 160597  \n",
       "2732                    6859                  21289  \n",
       "11318                      0                  48723  \n",
       "52702                      0                  90809  "
      ]
     },
     "execution_count": 55,
     "metadata": {},
     "output_type": "execute_result"
    }
   ],
   "source": [
    "combined_features_df.sample(n=5)"
   ]
  },
  {
   "cell_type": "code",
   "execution_count": 56,
   "metadata": {},
   "outputs": [
    {
     "data": {
      "image/png": "[encoded data removed]",
      "text/plain": [
       "<Figure size 1080x720 with 1 Axes>"
      ]
     },
     "metadata": {},
     "output_type": "display_data"
    }
   ],
   "source": [
    "import matplotlib.pyplot as plt\n",
    "from matplotlib_venn import venn2\n",
    "\n",
    "f, ax1 = plt.subplots()\n",
    "f.set_figheight(10)\n",
    "f.set_figwidth(15)\n",
    "\n",
    "plt.margins(0.06)\n",
    "plt.title('features identified with minvi=2500 and minvi=5000')\n",
    "\n",
    "venn2([sets_d['5000'],sets_d['2500']], ('minvi 5000','minvi 2500'))\n",
    "\n",
    "plt.show()"
   ]
  },
  {
   "cell_type": "code",
   "execution_count": null,
   "metadata": {},
   "outputs": [],
   "source": []
  }
 ],
 "metadata": {
  "kernelspec": {
   "display_name": "Python 3",
   "language": "python",
   "name": "python3"
  },
  "language_info": {
   "codemirror_mode": {
    "name": "ipython",
    "version": 3
   },
   "file_extension": ".py",
   "mimetype": "text/x-python",
   "name": "python",
   "nbconvert_exporter": "python",
   "pygments_lexer": "ipython3",
   "version": "3.8.5"
  }
 },
 "nbformat": 4,
 "nbformat_minor": 4
}
