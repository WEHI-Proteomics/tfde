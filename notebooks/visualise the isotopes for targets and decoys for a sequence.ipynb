{
 "cells": [
  {
   "cell_type": "code",
   "execution_count": 1,
   "metadata": {},
   "outputs": [],
   "source": [
    "import pandas as pd\n",
    "import matplotlib.pyplot as plt\n",
    "import sqlite3\n",
    "import json\n",
    "import numpy as np\n",
    "from scipy import signal\n"
   ]
  },
  {
   "cell_type": "code",
   "execution_count": 2,
   "metadata": {},
   "outputs": [],
   "source": [
    "# EXPERIMENT_DIR = '/home/ubuntu/experiments/dwm-test'\n",
    "EXPERIMENT_DIR = '/Users/darylwilding-mcbride/Downloads/experiments/dwm-test'\n"
   ]
  },
  {
   "cell_type": "code",
   "execution_count": 3,
   "metadata": {},
   "outputs": [],
   "source": [
    "MAPPING_FILE_NAME = \"{}/recalibrated-percolator-output/percolator-idx-mapping.csv\".format(EXPERIMENT_DIR)\n",
    "\n",
    "# determine the mapping between the percolator index and the run file name\n",
    "def get_percolator_run_mapping(mapping_file_name):\n",
    "    df = pd.read_csv(mapping_file_name)\n",
    "    mapping_l = [tuple(r) for r in df.to_numpy()]\n",
    "    return mapping_l\n",
    "\n",
    "def file_idx_for_run(run_name):\n",
    "    result = None\n",
    "    mapping_l = get_percolator_run_mapping(MAPPING_FILE_NAME)\n",
    "    for m in mapping_l:\n",
    "        if m[1] == run_name:\n",
    "            result = m[0]\n",
    "            break\n",
    "    return result\n",
    "\n",
    "def run_name_for_file_idx(file_idx):\n",
    "    result = None\n",
    "    mapping_l = get_percolator_run_mapping(MAPPING_FILE_NAME)\n",
    "    for m in mapping_l:\n",
    "        if m[0] == file_idx:\n",
    "            result = m[1]\n",
    "            break\n",
    "    return result"
   ]
  },
  {
   "cell_type": "code",
   "execution_count": null,
   "metadata": {},
   "outputs": [],
   "source": [
    "TARGET_DECOY_METRICS_DB_FILE_NAME = '{}/target-decoy-models/experiment-metrics-for-library-sequences.sqlite'.format(EXPERIMENT_DIR)"
   ]
  },
  {
   "cell_type": "code",
   "execution_count": 46,
   "metadata": {},
   "outputs": [],
   "source": [
    "db_conn = sqlite3.connect(TARGET_DECOY_METRICS_DB_FILE_NAME)\n",
    "target_metrics_df = pd.read_sql_query('select sequence,charge,file_idx,peak_idx,target_metrics from extracted_metrics', db_conn)\n",
    "db_conn.close()"
   ]
  },
  {
   "cell_type": "code",
   "execution_count": 47,
   "metadata": {},
   "outputs": [],
   "source": [
    "# unpack the target metrics from each sequence\n",
    "metrics = []\n",
    "metric_names = [key for key in sorted(json.loads(target_metrics_df.iloc[0].target_metrics))]\n",
    "\n",
    "for row in sequences_df.itertuples():\n",
    "    # target metric values\n",
    "    d = json.loads(row.target_metrics)\n",
    "    if ((d is not None) and (isinstance(d, dict))):\n",
    "        l = []\n",
    "        l.append(row.sequence)\n",
    "        l.append(row.charge)\n",
    "        l.append(row.file_idx)\n",
    "        l.append(int(row.peak_idx))\n",
    "        l += [d[key] for key in sorted(d)]\n",
    "        metrics.append(tuple(l))\n",
    "\n",
    "# create a dataframe with the expanded metrics\n",
    "columns = ['sequence','charge','file_idx','peak_idx']\n",
    "columns += metric_names\n",
    "metrics_df = pd.DataFrame(metrics, columns=columns)\n",
    "\n",
    "target_metrics_df = pd.merge(target_metrics_df, metrics_df, how='left', left_on=['sequence','charge','file_idx','peak_idx'], right_on=['sequence','charge','file_idx','peak_idx'])\n"
   ]
  },
  {
   "cell_type": "code",
   "execution_count": 49,
   "metadata": {},
   "outputs": [],
   "source": [
    "target_metrics_df.drop('target_metrics', axis=1, inplace=True)\n"
   ]
  },
  {
   "cell_type": "code",
   "execution_count": 50,
   "metadata": {},
   "outputs": [
    {
     "data": {
      "text/plain": [
       "Index(['sequence', 'charge', 'file_idx', 'peak_idx', 'delta_mz_ppm',\n",
       "       'delta_rt', 'delta_scan', 'fwhm_rt_0', 'fwhm_scan_0',\n",
       "       'geometric_mean_0_1', 'geometric_mean_0_1_2',\n",
       "       'isotope_0_1_mz_delta_ppm', 'isotope_0_1_rt_delta',\n",
       "       'isotope_0_1_scan_delta', 'isotope_0_2_mz_delta_ppm',\n",
       "       'isotope_0_2_rt_delta', 'isotope_0_2_scan_delta',\n",
       "       'monoisotope_auc_over_isotope_peak_auc_sum',\n",
       "       'monoisotope_int_over_isotope_peak_int_sum', 'mz_delta_ppm_std_dev_0',\n",
       "       'mz_delta_ppm_std_dev_1', 'number_of_frames_0', 'number_of_frames_1',\n",
       "       'number_of_frames_2', 'number_of_missing_frames_0',\n",
       "       'number_of_missing_frames_1', 'number_of_missing_frames_2',\n",
       "       'peak_base_width_rt_0', 'peak_base_width_scan_0', 'r_squared_phr',\n",
       "       'rt_isotope_correlation', 'rt_isotope_cv', 'rt_peak_symmetry_0',\n",
       "       'rt_peak_symmetry_1', 'rt_peak_symmetry_2', 'scan_isotope_correlation',\n",
       "       'scan_isotope_cv', 'scan_peak_symmetry_0', 'scan_peak_symmetry_1',\n",
       "       'scan_peak_symmetry_2'],\n",
       "      dtype='object')"
      ]
     },
     "execution_count": 50,
     "metadata": {},
     "output_type": "execute_result"
    }
   ],
   "source": [
    "target_metrics_df.columns"
   ]
  },
  {
   "cell_type": "code",
   "execution_count": 52,
   "metadata": {},
   "outputs": [],
   "source": [
    "db_conn = sqlite3.connect(TARGET_DECOY_METRICS_DB_FILE_NAME)\n",
    "decoy_metrics_df = pd.read_sql_query('select sequence,charge,file_idx,peak_idx,decoy_metrics from extracted_metrics where decoy_metrics != \\'NaN\\'', db_conn)\n",
    "db_conn.close()"
   ]
  },
  {
   "cell_type": "code",
   "execution_count": 53,
   "metadata": {},
   "outputs": [],
   "source": [
    "# unpack the decoy metrics from each sequence\n",
    "metrics = []\n",
    "metric_names = [key for key in sorted(json.loads(decoy_metrics_df.iloc[0].decoy_metrics))]\n",
    "\n",
    "for row in decoy_metrics_df.itertuples():\n",
    "    # target metric values\n",
    "    d = json.loads(row.decoy_metrics)\n",
    "    if ((d is not None) and (isinstance(d, dict))):\n",
    "        l = []\n",
    "        l.append(row.sequence)\n",
    "        l.append(row.charge)\n",
    "        l.append(row.file_idx)\n",
    "        l.append(int(row.peak_idx))\n",
    "        l += [d[key] for key in sorted(d)]\n",
    "        metrics.append(tuple(l))\n",
    "\n",
    "# create a dataframe with the expanded metrics\n",
    "columns = ['sequence','charge','file_idx','peak_idx']\n",
    "columns += metric_names\n",
    "metrics_df = pd.DataFrame(metrics, columns=columns)\n",
    "\n",
    "decoy_metrics_df = pd.merge(decoy_metrics_df, metrics_df, how='inner', left_on=['sequence','charge','file_idx','peak_idx'], right_on=['sequence','charge','file_idx','peak_idx'])\n"
   ]
  },
  {
   "cell_type": "code",
   "execution_count": 54,
   "metadata": {},
   "outputs": [],
   "source": [
    "decoy_metrics_df.drop('decoy_metrics', axis=1, inplace=True)\n"
   ]
  },
  {
   "cell_type": "code",
   "execution_count": 56,
   "metadata": {},
   "outputs": [
    {
     "data": {
      "text/plain": [
       "47560"
      ]
     },
     "execution_count": 56,
     "metadata": {},
     "output_type": "execute_result"
    }
   ],
   "source": [
    "len(decoy_metrics_df)"
   ]
  },
  {
   "cell_type": "code",
   "execution_count": 57,
   "metadata": {},
   "outputs": [
    {
     "data": {
      "text/html": [
       "<div>\n",
       "<style scoped>\n",
       "    .dataframe tbody tr th:only-of-type {\n",
       "        vertical-align: middle;\n",
       "    }\n",
       "\n",
       "    .dataframe tbody tr th {\n",
       "        vertical-align: top;\n",
       "    }\n",
       "\n",
       "    .dataframe thead th {\n",
       "        text-align: right;\n",
       "    }\n",
       "</style>\n",
       "<table border=\"1\" class=\"dataframe\">\n",
       "  <thead>\n",
       "    <tr style=\"text-align: right;\">\n",
       "      <th></th>\n",
       "      <th>sequence</th>\n",
       "      <th>charge</th>\n",
       "      <th>file_idx</th>\n",
       "      <th>peak_idx</th>\n",
       "      <th>delta_mz_ppm</th>\n",
       "      <th>delta_rt</th>\n",
       "      <th>delta_scan</th>\n",
       "      <th>fwhm_rt_0</th>\n",
       "      <th>fwhm_scan_0</th>\n",
       "      <th>geometric_mean_0_1</th>\n",
       "      <th>...</th>\n",
       "      <th>rt_isotope_correlation</th>\n",
       "      <th>rt_isotope_cv</th>\n",
       "      <th>rt_peak_symmetry_0</th>\n",
       "      <th>rt_peak_symmetry_1</th>\n",
       "      <th>rt_peak_symmetry_2</th>\n",
       "      <th>scan_isotope_correlation</th>\n",
       "      <th>scan_isotope_cv</th>\n",
       "      <th>scan_peak_symmetry_0</th>\n",
       "      <th>scan_peak_symmetry_1</th>\n",
       "      <th>scan_peak_symmetry_2</th>\n",
       "    </tr>\n",
       "  </thead>\n",
       "  <tbody>\n",
       "    <tr>\n",
       "      <th>20722</th>\n",
       "      <td>GLPGPQGSSGPK</td>\n",
       "      <td>2</td>\n",
       "      <td>1</td>\n",
       "      <td>1.0</td>\n",
       "      <td>0.721032</td>\n",
       "      <td>0.048972</td>\n",
       "      <td>-0.110945</td>\n",
       "      <td>18.426523</td>\n",
       "      <td>7.4575</td>\n",
       "      <td>9.346267</td>\n",
       "      <td>...</td>\n",
       "      <td>0.847266</td>\n",
       "      <td>0.000000e+00</td>\n",
       "      <td>1.948018</td>\n",
       "      <td>1.917001</td>\n",
       "      <td>1.661272</td>\n",
       "      <td>0.485403</td>\n",
       "      <td>0.001986</td>\n",
       "      <td>0.278788</td>\n",
       "      <td>0.969538</td>\n",
       "      <td>0.952350</td>\n",
       "    </tr>\n",
       "    <tr>\n",
       "      <th>28911</th>\n",
       "      <td>AVASQLDCNFLK</td>\n",
       "      <td>2</td>\n",
       "      <td>10</td>\n",
       "      <td>0.0</td>\n",
       "      <td>2.706623</td>\n",
       "      <td>0.004352</td>\n",
       "      <td>-0.158693</td>\n",
       "      <td>2.544537</td>\n",
       "      <td>19.6250</td>\n",
       "      <td>9.191076</td>\n",
       "      <td>...</td>\n",
       "      <td>0.000000</td>\n",
       "      <td>1.418788e-03</td>\n",
       "      <td>0.865552</td>\n",
       "      <td>0.797571</td>\n",
       "      <td>0.957865</td>\n",
       "      <td>0.000000</td>\n",
       "      <td>0.020874</td>\n",
       "      <td>3.540193</td>\n",
       "      <td>0.570144</td>\n",
       "      <td>0.993289</td>\n",
       "    </tr>\n",
       "    <tr>\n",
       "      <th>7718</th>\n",
       "      <td>QLLVEAIDVPAGTATLGR</td>\n",
       "      <td>2</td>\n",
       "      <td>15</td>\n",
       "      <td>0.0</td>\n",
       "      <td>-1.432258</td>\n",
       "      <td>-0.002612</td>\n",
       "      <td>0.002553</td>\n",
       "      <td>2.322708</td>\n",
       "      <td>10.2050</td>\n",
       "      <td>10.552894</td>\n",
       "      <td>...</td>\n",
       "      <td>0.503284</td>\n",
       "      <td>2.898734e-04</td>\n",
       "      <td>0.853147</td>\n",
       "      <td>0.551119</td>\n",
       "      <td>0.648163</td>\n",
       "      <td>-0.087109</td>\n",
       "      <td>0.015348</td>\n",
       "      <td>1.017579</td>\n",
       "      <td>2.502793</td>\n",
       "      <td>1.466176</td>\n",
       "    </tr>\n",
       "    <tr>\n",
       "      <th>22097</th>\n",
       "      <td>NIFVLQQNLTNITMSR</td>\n",
       "      <td>2</td>\n",
       "      <td>1</td>\n",
       "      <td>0.0</td>\n",
       "      <td>-0.676296</td>\n",
       "      <td>-0.001960</td>\n",
       "      <td>0.030962</td>\n",
       "      <td>4.438531</td>\n",
       "      <td>4.7100</td>\n",
       "      <td>9.990656</td>\n",
       "      <td>...</td>\n",
       "      <td>0.847054</td>\n",
       "      <td>1.123975e-03</td>\n",
       "      <td>1.164870</td>\n",
       "      <td>1.143178</td>\n",
       "      <td>1.045131</td>\n",
       "      <td>-0.032820</td>\n",
       "      <td>0.056073</td>\n",
       "      <td>1.700495</td>\n",
       "      <td>2.337423</td>\n",
       "      <td>1.012690</td>\n",
       "    </tr>\n",
       "    <tr>\n",
       "      <th>25046</th>\n",
       "      <td>FDAHDFADQAK</td>\n",
       "      <td>2</td>\n",
       "      <td>2</td>\n",
       "      <td>0.0</td>\n",
       "      <td>3.606127</td>\n",
       "      <td>0.003891</td>\n",
       "      <td>0.049072</td>\n",
       "      <td>4.826943</td>\n",
       "      <td>5.8875</td>\n",
       "      <td>9.881210</td>\n",
       "      <td>...</td>\n",
       "      <td>0.158622</td>\n",
       "      <td>1.276076e-16</td>\n",
       "      <td>1.018296</td>\n",
       "      <td>2.421384</td>\n",
       "      <td>1.946829</td>\n",
       "      <td>0.254113</td>\n",
       "      <td>0.005467</td>\n",
       "      <td>0.125299</td>\n",
       "      <td>3.266667</td>\n",
       "      <td>1.089542</td>\n",
       "    </tr>\n",
       "  </tbody>\n",
       "</table>\n",
       "<p>5 rows × 40 columns</p>\n",
       "</div>"
      ],
      "text/plain": [
       "                 sequence  charge  file_idx  peak_idx  delta_mz_ppm  delta_rt  \\\n",
       "20722        GLPGPQGSSGPK       2         1       1.0      0.721032  0.048972   \n",
       "28911        AVASQLDCNFLK       2        10       0.0      2.706623  0.004352   \n",
       "7718   QLLVEAIDVPAGTATLGR       2        15       0.0     -1.432258 -0.002612   \n",
       "22097    NIFVLQQNLTNITMSR       2         1       0.0     -0.676296 -0.001960   \n",
       "25046         FDAHDFADQAK       2         2       0.0      3.606127  0.003891   \n",
       "\n",
       "       delta_scan  fwhm_rt_0  fwhm_scan_0  geometric_mean_0_1  ...  \\\n",
       "20722   -0.110945  18.426523       7.4575            9.346267  ...   \n",
       "28911   -0.158693   2.544537      19.6250            9.191076  ...   \n",
       "7718     0.002553   2.322708      10.2050           10.552894  ...   \n",
       "22097    0.030962   4.438531       4.7100            9.990656  ...   \n",
       "25046    0.049072   4.826943       5.8875            9.881210  ...   \n",
       "\n",
       "       rt_isotope_correlation  rt_isotope_cv  rt_peak_symmetry_0  \\\n",
       "20722                0.847266   0.000000e+00            1.948018   \n",
       "28911                0.000000   1.418788e-03            0.865552   \n",
       "7718                 0.503284   2.898734e-04            0.853147   \n",
       "22097                0.847054   1.123975e-03            1.164870   \n",
       "25046                0.158622   1.276076e-16            1.018296   \n",
       "\n",
       "       rt_peak_symmetry_1  rt_peak_symmetry_2  scan_isotope_correlation  \\\n",
       "20722            1.917001            1.661272                  0.485403   \n",
       "28911            0.797571            0.957865                  0.000000   \n",
       "7718             0.551119            0.648163                 -0.087109   \n",
       "22097            1.143178            1.045131                 -0.032820   \n",
       "25046            2.421384            1.946829                  0.254113   \n",
       "\n",
       "       scan_isotope_cv  scan_peak_symmetry_0  scan_peak_symmetry_1  \\\n",
       "20722         0.001986              0.278788              0.969538   \n",
       "28911         0.020874              3.540193              0.570144   \n",
       "7718          0.015348              1.017579              2.502793   \n",
       "22097         0.056073              1.700495              2.337423   \n",
       "25046         0.005467              0.125299              3.266667   \n",
       "\n",
       "       scan_peak_symmetry_2  \n",
       "20722              0.952350  \n",
       "28911              0.993289  \n",
       "7718               1.466176  \n",
       "22097              1.012690  \n",
       "25046              1.089542  \n",
       "\n",
       "[5 rows x 40 columns]"
      ]
     },
     "execution_count": 57,
     "metadata": {},
     "output_type": "execute_result"
    }
   ],
   "source": [
    "decoy_metrics_df.sample(5)"
   ]
  },
  {
   "cell_type": "markdown",
   "metadata": {},
   "source": [
    "#### isotope correlation for targets and decoys"
   ]
  },
  {
   "cell_type": "code",
   "execution_count": 58,
   "metadata": {},
   "outputs": [
    {
     "data": {
      "image/png": "[encoded data removed]",
      "text/plain": [
       "<Figure size 1080x576 with 1 Axes>"
      ]
     },
     "metadata": {
      "needs_background": "light"
     },
     "output_type": "display_data"
    }
   ],
   "source": [
    "f, ax1 = plt.subplots()\n",
    "f.set_figheight(8)\n",
    "f.set_figwidth(15)\n",
    "\n",
    "plt.margins(0.06)\n",
    "plt.title('')\n",
    "\n",
    "bins = 250\n",
    "hist, bins, _ = plt.hist(target_metrics_df.rt_isotope_correlation, bins=bins)\n",
    "plt.xlabel('isotope correlation in RT dimension')\n",
    "plt.ylabel('count')\n",
    "plt.title('target isotope correlation in RT dimension')\n",
    "# ax1.set(xticks=range(-5,5), xlim=[-5, 5])\n",
    "\n",
    "plt.show()"
   ]
  },
  {
   "cell_type": "code",
   "execution_count": 59,
   "metadata": {},
   "outputs": [
    {
     "data": {
      "image/png": "[encoded data removed]",
      "text/plain": [
       "<Figure size 1080x576 with 1 Axes>"
      ]
     },
     "metadata": {
      "needs_background": "light"
     },
     "output_type": "display_data"
    }
   ],
   "source": [
    "f, ax1 = plt.subplots()\n",
    "f.set_figheight(8)\n",
    "f.set_figwidth(15)\n",
    "\n",
    "plt.margins(0.06)\n",
    "plt.title('')\n",
    "\n",
    "bins = 250\n",
    "hist, bins, _ = plt.hist(decoy_metrics_df.rt_isotope_correlation, bins=bins)\n",
    "plt.xlabel('isotope correlation in RT dimension')\n",
    "plt.ylabel('count')\n",
    "plt.title('decoy isotope correlation in RT dimension')\n",
    "# ax1.set(xticks=range(-5,5), xlim=[-5, 5])\n",
    "\n",
    "plt.show()"
   ]
  },
  {
   "cell_type": "markdown",
   "metadata": {},
   "source": [
    "#### isotope apex CV for targets and decoys"
   ]
  },
  {
   "cell_type": "code",
   "execution_count": 63,
   "metadata": {},
   "outputs": [
    {
     "data": {
      "image/png": "[encoded data removed]",
      "text/plain": [
       "<Figure size 1080x576 with 1 Axes>"
      ]
     },
     "metadata": {
      "needs_background": "light"
     },
     "output_type": "display_data"
    }
   ],
   "source": [
    "f, ax1 = plt.subplots()\n",
    "f.set_figheight(8)\n",
    "f.set_figwidth(15)\n",
    "\n",
    "plt.margins(0.06)\n",
    "plt.title('')\n",
    "\n",
    "bins = 250\n",
    "hist, bins, _ = plt.hist(target_metrics_df.rt_isotope_cv, bins=bins)\n",
    "plt.xlabel('isotope apex CV in RT dimension')\n",
    "plt.ylabel('count')\n",
    "plt.title('target isotope apex CV in RT dimension')\n",
    "# ax1.set(xticks=range(-5,5), xlim=[-5, 5])\n",
    "\n",
    "plt.show()"
   ]
  },
  {
   "cell_type": "code",
   "execution_count": 64,
   "metadata": {},
   "outputs": [
    {
     "data": {
      "image/png": "[encoded data removed]",
      "text/plain": [
       "<Figure size 1080x576 with 1 Axes>"
      ]
     },
     "metadata": {
      "needs_background": "light"
     },
     "output_type": "display_data"
    }
   ],
   "source": [
    "f, ax1 = plt.subplots()\n",
    "f.set_figheight(8)\n",
    "f.set_figwidth(15)\n",
    "\n",
    "plt.margins(0.06)\n",
    "plt.title('')\n",
    "\n",
    "bins = 250\n",
    "hist, bins, _ = plt.hist(decoy_metrics_df.rt_isotope_cv, bins=bins)\n",
    "plt.xlabel('isotope apex CV in RT dimension')\n",
    "plt.ylabel('count')\n",
    "plt.title('decoy isotope apex CV in RT dimension')\n",
    "# ax1.set(xticks=range(-5,5), xlim=[-5, 5])\n",
    "\n",
    "plt.show()"
   ]
  },
  {
   "cell_type": "code",
   "execution_count": 67,
   "metadata": {},
   "outputs": [],
   "source": [
    "# find a feature with high isotope correlation and low apex CV\n",
    "target_metrics_df.sort_values(by=['rt_isotope_correlation'], ascending=False, inplace=True)"
   ]
  },
  {
   "cell_type": "code",
   "execution_count": 83,
   "metadata": {},
   "outputs": [
    {
     "data": {
      "text/html": [
       "<div>\n",
       "<style scoped>\n",
       "    .dataframe tbody tr th:only-of-type {\n",
       "        vertical-align: middle;\n",
       "    }\n",
       "\n",
       "    .dataframe tbody tr th {\n",
       "        vertical-align: top;\n",
       "    }\n",
       "\n",
       "    .dataframe thead th {\n",
       "        text-align: right;\n",
       "    }\n",
       "</style>\n",
       "<table border=\"1\" class=\"dataframe\">\n",
       "  <thead>\n",
       "    <tr style=\"text-align: right;\">\n",
       "      <th></th>\n",
       "      <th>sequence</th>\n",
       "      <th>charge</th>\n",
       "      <th>file_idx</th>\n",
       "      <th>peak_idx</th>\n",
       "      <th>delta_mz_ppm</th>\n",
       "      <th>delta_rt</th>\n",
       "      <th>delta_scan</th>\n",
       "      <th>fwhm_rt_0</th>\n",
       "      <th>fwhm_scan_0</th>\n",
       "      <th>geometric_mean_0_1</th>\n",
       "      <th>...</th>\n",
       "      <th>rt_isotope_correlation</th>\n",
       "      <th>rt_isotope_cv</th>\n",
       "      <th>rt_peak_symmetry_0</th>\n",
       "      <th>rt_peak_symmetry_1</th>\n",
       "      <th>rt_peak_symmetry_2</th>\n",
       "      <th>scan_isotope_correlation</th>\n",
       "      <th>scan_isotope_cv</th>\n",
       "      <th>scan_peak_symmetry_0</th>\n",
       "      <th>scan_peak_symmetry_1</th>\n",
       "      <th>scan_peak_symmetry_2</th>\n",
       "    </tr>\n",
       "  </thead>\n",
       "  <tbody>\n",
       "    <tr>\n",
       "      <th>63924</th>\n",
       "      <td>ITEQGVHFR</td>\n",
       "      <td>2</td>\n",
       "      <td>15</td>\n",
       "      <td>0.0</td>\n",
       "      <td>0.774116</td>\n",
       "      <td>-0.001172</td>\n",
       "      <td>-0.004852</td>\n",
       "      <td>2.699842</td>\n",
       "      <td>4.3175</td>\n",
       "      <td>10.484355</td>\n",
       "      <td>...</td>\n",
       "      <td>1.0</td>\n",
       "      <td>0.002018</td>\n",
       "      <td>1.171658</td>\n",
       "      <td>1.477679</td>\n",
       "      <td>0.842795</td>\n",
       "      <td>-0.372518</td>\n",
       "      <td>0.047453</td>\n",
       "      <td>0.468153</td>\n",
       "      <td>1.766807</td>\n",
       "      <td>1.690608</td>\n",
       "    </tr>\n",
       "    <tr>\n",
       "      <th>21232</th>\n",
       "      <td>LCSQMEQLEQENQQLK</td>\n",
       "      <td>2</td>\n",
       "      <td>8</td>\n",
       "      <td>1.0</td>\n",
       "      <td>0.468179</td>\n",
       "      <td>0.019154</td>\n",
       "      <td>0.025270</td>\n",
       "      <td>3.383500</td>\n",
       "      <td>7.0650</td>\n",
       "      <td>12.484974</td>\n",
       "      <td>...</td>\n",
       "      <td>1.0</td>\n",
       "      <td>0.002283</td>\n",
       "      <td>0.870307</td>\n",
       "      <td>3.185246</td>\n",
       "      <td>1.086424</td>\n",
       "      <td>0.012604</td>\n",
       "      <td>0.039691</td>\n",
       "      <td>0.195652</td>\n",
       "      <td>1.786311</td>\n",
       "      <td>0.166297</td>\n",
       "    </tr>\n",
       "    <tr>\n",
       "      <th>39973</th>\n",
       "      <td>VNWATTPSSQK</td>\n",
       "      <td>2</td>\n",
       "      <td>8</td>\n",
       "      <td>1.0</td>\n",
       "      <td>0.118663</td>\n",
       "      <td>-0.016668</td>\n",
       "      <td>-0.071814</td>\n",
       "      <td>1.465361</td>\n",
       "      <td>10.9900</td>\n",
       "      <td>12.663415</td>\n",
       "      <td>...</td>\n",
       "      <td>1.0</td>\n",
       "      <td>0.001890</td>\n",
       "      <td>1.076628</td>\n",
       "      <td>4.925057</td>\n",
       "      <td>4.827458</td>\n",
       "      <td>-0.083681</td>\n",
       "      <td>0.002889</td>\n",
       "      <td>0.546697</td>\n",
       "      <td>0.734634</td>\n",
       "      <td>1.630252</td>\n",
       "    </tr>\n",
       "    <tr>\n",
       "      <th>20070</th>\n",
       "      <td>IYESHVGISSHEGK</td>\n",
       "      <td>2</td>\n",
       "      <td>8</td>\n",
       "      <td>0.0</td>\n",
       "      <td>0.621711</td>\n",
       "      <td>-0.000952</td>\n",
       "      <td>0.005376</td>\n",
       "      <td>0.829723</td>\n",
       "      <td>3.9250</td>\n",
       "      <td>9.815402</td>\n",
       "      <td>...</td>\n",
       "      <td>1.0</td>\n",
       "      <td>0.000994</td>\n",
       "      <td>2.507253</td>\n",
       "      <td>1.016580</td>\n",
       "      <td>2.461783</td>\n",
       "      <td>0.679299</td>\n",
       "      <td>0.003774</td>\n",
       "      <td>1.080463</td>\n",
       "      <td>1.128341</td>\n",
       "      <td>1.750392</td>\n",
       "    </tr>\n",
       "    <tr>\n",
       "      <th>46078</th>\n",
       "      <td>AQESVGIYEVTHQFVK</td>\n",
       "      <td>2</td>\n",
       "      <td>15</td>\n",
       "      <td>1.0</td>\n",
       "      <td>-0.218386</td>\n",
       "      <td>-0.006462</td>\n",
       "      <td>0.064296</td>\n",
       "      <td>1.907423</td>\n",
       "      <td>5.4950</td>\n",
       "      <td>11.017064</td>\n",
       "      <td>...</td>\n",
       "      <td>1.0</td>\n",
       "      <td>0.002905</td>\n",
       "      <td>1.495851</td>\n",
       "      <td>1.906079</td>\n",
       "      <td>2.199485</td>\n",
       "      <td>-0.149920</td>\n",
       "      <td>0.017560</td>\n",
       "      <td>1.770950</td>\n",
       "      <td>1.230146</td>\n",
       "      <td>1.529915</td>\n",
       "    </tr>\n",
       "  </tbody>\n",
       "</table>\n",
       "<p>5 rows × 40 columns</p>\n",
       "</div>"
      ],
      "text/plain": [
       "               sequence  charge  file_idx  peak_idx  delta_mz_ppm  delta_rt  \\\n",
       "63924         ITEQGVHFR       2        15       0.0      0.774116 -0.001172   \n",
       "21232  LCSQMEQLEQENQQLK       2         8       1.0      0.468179  0.019154   \n",
       "39973       VNWATTPSSQK       2         8       1.0      0.118663 -0.016668   \n",
       "20070    IYESHVGISSHEGK       2         8       0.0      0.621711 -0.000952   \n",
       "46078  AQESVGIYEVTHQFVK       2        15       1.0     -0.218386 -0.006462   \n",
       "\n",
       "       delta_scan  fwhm_rt_0  fwhm_scan_0  geometric_mean_0_1  ...  \\\n",
       "63924   -0.004852   2.699842       4.3175           10.484355  ...   \n",
       "21232    0.025270   3.383500       7.0650           12.484974  ...   \n",
       "39973   -0.071814   1.465361      10.9900           12.663415  ...   \n",
       "20070    0.005376   0.829723       3.9250            9.815402  ...   \n",
       "46078    0.064296   1.907423       5.4950           11.017064  ...   \n",
       "\n",
       "       rt_isotope_correlation  rt_isotope_cv  rt_peak_symmetry_0  \\\n",
       "63924                     1.0       0.002018            1.171658   \n",
       "21232                     1.0       0.002283            0.870307   \n",
       "39973                     1.0       0.001890            1.076628   \n",
       "20070                     1.0       0.000994            2.507253   \n",
       "46078                     1.0       0.002905            1.495851   \n",
       "\n",
       "       rt_peak_symmetry_1  rt_peak_symmetry_2  scan_isotope_correlation  \\\n",
       "63924            1.477679            0.842795                 -0.372518   \n",
       "21232            3.185246            1.086424                  0.012604   \n",
       "39973            4.925057            4.827458                 -0.083681   \n",
       "20070            1.016580            2.461783                  0.679299   \n",
       "46078            1.906079            2.199485                 -0.149920   \n",
       "\n",
       "       scan_isotope_cv  scan_peak_symmetry_0  scan_peak_symmetry_1  \\\n",
       "63924         0.047453              0.468153              1.766807   \n",
       "21232         0.039691              0.195652              1.786311   \n",
       "39973         0.002889              0.546697              0.734634   \n",
       "20070         0.003774              1.080463              1.128341   \n",
       "46078         0.017560              1.770950              1.230146   \n",
       "\n",
       "       scan_peak_symmetry_2  \n",
       "63924              1.690608  \n",
       "21232              0.166297  \n",
       "39973              1.630252  \n",
       "20070              1.750392  \n",
       "46078              1.529915  \n",
       "\n",
       "[5 rows x 40 columns]"
      ]
     },
     "execution_count": 83,
     "metadata": {},
     "output_type": "execute_result"
    }
   ],
   "source": [
    "target_metrics_df[target_metrics_df.rt_isotope_cv > 0].head()"
   ]
  },
  {
   "cell_type": "code",
   "execution_count": 122,
   "metadata": {},
   "outputs": [
    {
     "data": {
      "text/plain": [
       "sequence                                     VNWATTPSSQK\n",
       "charge                                                 2\n",
       "file_idx                                               8\n",
       "peak_idx                                               1\n",
       "delta_mz_ppm                                    0.118663\n",
       "delta_rt                                      -0.0166683\n",
       "delta_scan                                    -0.0718138\n",
       "fwhm_rt_0                                        1.46536\n",
       "fwhm_scan_0                                        10.99\n",
       "geometric_mean_0_1                               12.6634\n",
       "geometric_mean_0_1_2                             12.2598\n",
       "isotope_0_1_mz_delta_ppm                        0.403942\n",
       "isotope_0_1_rt_delta                          0.00151707\n",
       "isotope_0_1_scan_delta                        0.00705219\n",
       "isotope_0_2_mz_delta_ppm                      -0.0322276\n",
       "isotope_0_2_rt_delta                          0.00455613\n",
       "isotope_0_2_scan_delta                        0.00282087\n",
       "monoisotope_auc_over_isotope_peak_auc_sum       0.228692\n",
       "monoisotope_int_over_isotope_peak_int_sum       0.399752\n",
       "mz_delta_ppm_std_dev_0                                 0\n",
       "mz_delta_ppm_std_dev_1                           3.14548\n",
       "number_of_frames_0                                     8\n",
       "number_of_frames_1                                    11\n",
       "number_of_frames_2                                    11\n",
       "number_of_missing_frames_0                             3\n",
       "number_of_missing_frames_1                             6\n",
       "number_of_missing_frames_2                             6\n",
       "peak_base_width_rt_0                              3.7334\n",
       "peak_base_width_scan_0                                28\n",
       "r_squared_phr                                   -6.46048\n",
       "rt_isotope_correlation                                 1\n",
       "rt_isotope_cv                                 0.00189048\n",
       "rt_peak_symmetry_0                               1.07663\n",
       "rt_peak_symmetry_1                               4.92506\n",
       "rt_peak_symmetry_2                               4.82746\n",
       "scan_isotope_correlation                      -0.0836806\n",
       "scan_isotope_cv                               0.00288867\n",
       "scan_peak_symmetry_0                            0.546697\n",
       "scan_peak_symmetry_1                            0.734634\n",
       "scan_peak_symmetry_2                             1.63025\n",
       "Name: 39973, dtype: object"
      ]
     },
     "execution_count": 122,
     "metadata": {},
     "output_type": "execute_result"
    }
   ],
   "source": [
    "selected_sequence_s = target_metrics_df.loc[39973]\n",
    "selected_sequence_s"
   ]
  },
  {
   "cell_type": "markdown",
   "metadata": {},
   "source": [
    "#### visualise isotopic correlation in raw points"
   ]
  },
  {
   "cell_type": "code",
   "execution_count": 123,
   "metadata": {},
   "outputs": [],
   "source": [
    "db_conn = sqlite3.connect(TARGET_DECOY_METRICS_DB_FILE_NAME)\n",
    "sequence_attributes_df = pd.read_sql_query('select sequence,charge,file_idx,peak_idx,attributes from extracted_metrics where sequence==\\'{}\\' and charge=={} and file_idx=={} and peak_idx=={}'.format(selected_sequence_s.sequence, selected_sequence_s.charge, selected_sequence_s.file_idx, selected_sequence_s.peak_idx), db_conn)\n",
    "db_conn.close()"
   ]
  },
  {
   "cell_type": "code",
   "execution_count": 124,
   "metadata": {},
   "outputs": [
    {
     "data": {
      "text/html": [
       "<div>\n",
       "<style scoped>\n",
       "    .dataframe tbody tr th:only-of-type {\n",
       "        vertical-align: middle;\n",
       "    }\n",
       "\n",
       "    .dataframe tbody tr th {\n",
       "        vertical-align: top;\n",
       "    }\n",
       "\n",
       "    .dataframe thead th {\n",
       "        text-align: right;\n",
       "    }\n",
       "</style>\n",
       "<table border=\"1\" class=\"dataframe\">\n",
       "  <thead>\n",
       "    <tr style=\"text-align: right;\">\n",
       "      <th></th>\n",
       "      <th>sequence</th>\n",
       "      <th>charge</th>\n",
       "      <th>file_idx</th>\n",
       "      <th>peak_idx</th>\n",
       "      <th>attributes</th>\n",
       "    </tr>\n",
       "  </thead>\n",
       "  <tbody>\n",
       "    <tr>\n",
       "      <th>0</th>\n",
       "      <td>VNWATTPSSQK</td>\n",
       "      <td>2</td>\n",
       "      <td>8</td>\n",
       "      <td>1.0</td>\n",
       "      <td>{\"intensity\": 234, \"inferred\": 0, \"isotope_idx...</td>\n",
       "    </tr>\n",
       "  </tbody>\n",
       "</table>\n",
       "</div>"
      ],
      "text/plain": [
       "      sequence  charge  file_idx  peak_idx  \\\n",
       "0  VNWATTPSSQK       2         8       1.0   \n",
       "\n",
       "                                          attributes  \n",
       "0  {\"intensity\": 234, \"inferred\": 0, \"isotope_idx...  "
      ]
     },
     "execution_count": 124,
     "metadata": {},
     "output_type": "execute_result"
    }
   ],
   "source": [
    "sequence_attributes_df"
   ]
  },
  {
   "cell_type": "code",
   "execution_count": 125,
   "metadata": {},
   "outputs": [],
   "source": [
    "# unpack the attributes from each sequence\n",
    "attributes = []\n",
    "attribute_names = [key for key in sorted(json.loads(sequence_attributes_df.iloc[0].attributes))]\n",
    "\n",
    "for row in sequence_attributes_df.itertuples():\n",
    "    # attribute values\n",
    "    d = json.loads(row.attributes)\n",
    "    if ((d is not None) and (isinstance(d, dict))):\n",
    "        l = []\n",
    "        l.append(row.sequence)\n",
    "        l.append(row.charge)\n",
    "        l.append(row.file_idx)\n",
    "        l.append(int(row.peak_idx))\n",
    "        l += [d[key] for key in sorted(d)]\n",
    "        attributes.append(tuple(l))\n",
    "\n",
    "# drop the attributes column because we no longer need it\n",
    "sequence_attributes_df.drop('attributes', axis=1, inplace=True)\n",
    "\n",
    "# create a dataframe with the expanded attributes\n",
    "columns = ['sequence','charge','file_idx','peak_idx']\n",
    "columns += attribute_names\n",
    "attributes_df = pd.DataFrame(attributes, columns=columns)\n"
   ]
  },
  {
   "cell_type": "code",
   "execution_count": 126,
   "metadata": {},
   "outputs": [
    {
     "data": {
      "text/html": [
       "<div>\n",
       "<style scoped>\n",
       "    .dataframe tbody tr th:only-of-type {\n",
       "        vertical-align: middle;\n",
       "    }\n",
       "\n",
       "    .dataframe tbody tr th {\n",
       "        vertical-align: top;\n",
       "    }\n",
       "\n",
       "    .dataframe thead th {\n",
       "        text-align: right;\n",
       "    }\n",
       "</style>\n",
       "<table border=\"1\" class=\"dataframe\">\n",
       "  <thead>\n",
       "    <tr style=\"text-align: right;\">\n",
       "      <th></th>\n",
       "      <th>sequence</th>\n",
       "      <th>charge</th>\n",
       "      <th>file_idx</th>\n",
       "      <th>peak_idx</th>\n",
       "      <th>inferred</th>\n",
       "      <th>intensity</th>\n",
       "      <th>isotope_1_filtered_points_l</th>\n",
       "      <th>isotope_1_rt_bounds</th>\n",
       "      <th>isotope_2_filtered_points_l</th>\n",
       "      <th>isotope_2_rt_bounds</th>\n",
       "      <th>isotope_idx_not_in_saturation</th>\n",
       "      <th>isotope_intensities_l</th>\n",
       "      <th>mono_filtered_points_l</th>\n",
       "      <th>mono_raw_points_l</th>\n",
       "      <th>mono_rt_bounds</th>\n",
       "      <th>monoisotopic_mass</th>\n",
       "      <th>monoisotopic_mz_centroid</th>\n",
       "      <th>number_of_isotopes</th>\n",
       "      <th>rt_apex</th>\n",
       "      <th>scan_apex</th>\n",
       "    </tr>\n",
       "  </thead>\n",
       "  <tbody>\n",
       "    <tr>\n",
       "      <th>0</th>\n",
       "      <td>VNWATTPSSQK</td>\n",
       "      <td>2</td>\n",
       "      <td>8</td>\n",
       "      <td>1</td>\n",
       "      <td>0</td>\n",
       "      <td>234</td>\n",
       "      <td>[{'x': 296.3243653061261, 'filtered_intensity'...</td>\n",
       "      <td>[343.473492625069, 348.82987780940266]</td>\n",
       "      <td>[{'x': 296.3243653061261, 'filtered_intensity'...</td>\n",
       "      <td>[344.55530746384335, 349.8863916715978]</td>\n",
       "      <td>0</td>\n",
       "      <td>[[234.0, False, 234.0, False, [[609.8096501919...</td>\n",
       "      <td>[{'x': 296.3243653061261, 'filtered_intensity'...</td>\n",
       "      <td>[[296.3243653061261, 993.0], [296.853017244241...</td>\n",
       "      <td>[346.15298797794475, 349.8863916715978]</td>\n",
       "      <td>1217.604748</td>\n",
       "      <td>609.80965</td>\n",
       "      <td>3</td>\n",
       "      <td>347.774448</td>\n",
       "      <td>709</td>\n",
       "    </tr>\n",
       "  </tbody>\n",
       "</table>\n",
       "</div>"
      ],
      "text/plain": [
       "      sequence  charge  file_idx  peak_idx  inferred  intensity  \\\n",
       "0  VNWATTPSSQK       2         8         1         0        234   \n",
       "\n",
       "                         isotope_1_filtered_points_l  \\\n",
       "0  [{'x': 296.3243653061261, 'filtered_intensity'...   \n",
       "\n",
       "                      isotope_1_rt_bounds  \\\n",
       "0  [343.473492625069, 348.82987780940266]   \n",
       "\n",
       "                         isotope_2_filtered_points_l  \\\n",
       "0  [{'x': 296.3243653061261, 'filtered_intensity'...   \n",
       "\n",
       "                       isotope_2_rt_bounds  isotope_idx_not_in_saturation  \\\n",
       "0  [344.55530746384335, 349.8863916715978]                              0   \n",
       "\n",
       "                               isotope_intensities_l  \\\n",
       "0  [[234.0, False, 234.0, False, [[609.8096501919...   \n",
       "\n",
       "                              mono_filtered_points_l  \\\n",
       "0  [{'x': 296.3243653061261, 'filtered_intensity'...   \n",
       "\n",
       "                                   mono_raw_points_l  \\\n",
       "0  [[296.3243653061261, 993.0], [296.853017244241...   \n",
       "\n",
       "                            mono_rt_bounds  monoisotopic_mass  \\\n",
       "0  [346.15298797794475, 349.8863916715978]        1217.604748   \n",
       "\n",
       "   monoisotopic_mz_centroid  number_of_isotopes     rt_apex  scan_apex  \n",
       "0                 609.80965                   3  347.774448        709  "
      ]
     },
     "execution_count": 126,
     "metadata": {},
     "output_type": "execute_result"
    }
   ],
   "source": [
    "attributes_df"
   ]
  },
  {
   "cell_type": "code",
   "execution_count": 127,
   "metadata": {},
   "outputs": [],
   "source": [
    "selected_sequence_attribs_s = attributes_df.iloc[0]"
   ]
  },
  {
   "cell_type": "code",
   "execution_count": 128,
   "metadata": {},
   "outputs": [
    {
     "data": {
      "text/plain": [
       "sequence                                                               VNWATTPSSQK\n",
       "charge                                                                           2\n",
       "file_idx                                                                         8\n",
       "peak_idx                                                                         1\n",
       "inferred                                                                         0\n",
       "intensity                                                                      234\n",
       "isotope_1_filtered_points_l      [{'x': 296.3243653061261, 'filtered_intensity'...\n",
       "isotope_1_rt_bounds                         [343.473492625069, 348.82987780940266]\n",
       "isotope_2_filtered_points_l      [{'x': 296.3243653061261, 'filtered_intensity'...\n",
       "isotope_2_rt_bounds                        [344.55530746384335, 349.8863916715978]\n",
       "isotope_idx_not_in_saturation                                                    0\n",
       "isotope_intensities_l            [[234.0, False, 234.0, False, [[609.8096501919...\n",
       "mono_filtered_points_l           [{'x': 296.3243653061261, 'filtered_intensity'...\n",
       "mono_raw_points_l                [[296.3243653061261, 993.0], [296.853017244241...\n",
       "mono_rt_bounds                             [346.15298797794475, 349.8863916715978]\n",
       "monoisotopic_mass                                                           1217.6\n",
       "monoisotopic_mz_centroid                                                    609.81\n",
       "number_of_isotopes                                                               3\n",
       "rt_apex                                                                    347.774\n",
       "scan_apex                                                                      709\n",
       "Name: 0, dtype: object"
      ]
     },
     "execution_count": 128,
     "metadata": {},
     "output_type": "execute_result"
    }
   ],
   "source": [
    "selected_sequence_attribs_s"
   ]
  },
  {
   "cell_type": "code",
   "execution_count": 129,
   "metadata": {},
   "outputs": [],
   "source": [
    "mono_filtered_points_df = pd.DataFrame(selected_sequence_attribs_s.mono_filtered_points_l)\n",
    "isotope_1_filtered_points_df = pd.DataFrame(selected_sequence_attribs_s.isotope_1_filtered_points_l)\n",
    "isotope_2_filtered_points_df = pd.DataFrame(selected_sequence_attribs_s.isotope_2_filtered_points_l)\n"
   ]
  },
  {
   "cell_type": "code",
   "execution_count": 130,
   "metadata": {},
   "outputs": [],
   "source": [
    "mono_rt_lower,mono_rt_upper = selected_sequence_attribs_s.mono_rt_bounds\n",
    "mono_isolated_peak_df = mono_filtered_points_df[(mono_filtered_points_df.x >= mono_rt_lower) & (mono_filtered_points_df.x <= mono_rt_upper)]\n",
    "\n",
    "isotope_1_rt_lower,isotope_1_rt_upper = selected_sequence_attribs_s.isotope_1_rt_bounds\n",
    "isotope_1_isolated_peak_df = isotope_1_filtered_points_df[(isotope_1_filtered_points_df.x >= isotope_1_rt_lower) & (isotope_1_filtered_points_df.x <= isotope_1_rt_upper)]\n",
    "\n",
    "isotope_2_rt_lower,isotope_2_rt_upper = selected_sequence_attribs_s.isotope_2_rt_bounds\n",
    "isotope_2_isolated_peak_df = isotope_2_filtered_points_df[(isotope_2_filtered_points_df.x >= isotope_2_rt_lower) & (isotope_2_filtered_points_df.x <= isotope_2_rt_upper)]\n"
   ]
  },
  {
   "cell_type": "code",
   "execution_count": 131,
   "metadata": {},
   "outputs": [],
   "source": [
    "isotope_intensities_df = pd.DataFrame(selected_sequence_attribs_s.isotope_intensities_l, columns=['summed_intensity','saturated','inferred_intensity','inferred','isotope_points','isotope_apex_points'])\n"
   ]
  },
  {
   "cell_type": "code",
   "execution_count": 132,
   "metadata": {},
   "outputs": [
    {
     "data": {
      "text/html": [
       "<div>\n",
       "<style scoped>\n",
       "    .dataframe tbody tr th:only-of-type {\n",
       "        vertical-align: middle;\n",
       "    }\n",
       "\n",
       "    .dataframe tbody tr th {\n",
       "        vertical-align: top;\n",
       "    }\n",
       "\n",
       "    .dataframe thead th {\n",
       "        text-align: right;\n",
       "    }\n",
       "</style>\n",
       "<table border=\"1\" class=\"dataframe\">\n",
       "  <thead>\n",
       "    <tr style=\"text-align: right;\">\n",
       "      <th></th>\n",
       "      <th>summed_intensity</th>\n",
       "      <th>saturated</th>\n",
       "      <th>inferred_intensity</th>\n",
       "      <th>inferred</th>\n",
       "      <th>isotope_points</th>\n",
       "      <th>isotope_apex_points</th>\n",
       "    </tr>\n",
       "  </thead>\n",
       "  <tbody>\n",
       "    <tr>\n",
       "      <th>0</th>\n",
       "      <td>234.0</td>\n",
       "      <td>False</td>\n",
       "      <td>234.0</td>\n",
       "      <td>False</td>\n",
       "      <td>[[609.8096501919711, 707.0, 3296.0, 348.829877...</td>\n",
       "      <td>[[609.8096501919711, 712.0, 3276.0, 346.712537...</td>\n",
       "    </tr>\n",
       "    <tr>\n",
       "      <th>1</th>\n",
       "      <td>413.0</td>\n",
       "      <td>False</td>\n",
       "      <td>413.0</td>\n",
       "      <td>False</td>\n",
       "      <td>[[610.3092974577588, 699.0, 3291.0, 348.302045...</td>\n",
       "      <td>[[610.3131714916155, 714.0, 3281.0, 347.239681...</td>\n",
       "    </tr>\n",
       "    <tr>\n",
       "      <th>2</th>\n",
       "      <td>92.0</td>\n",
       "      <td>False</td>\n",
       "      <td>92.0</td>\n",
       "      <td>False</td>\n",
       "      <td>[[610.8130249608281, 703.0, 3296.0, 348.829877...</td>\n",
       "      <td>[[610.8130249608281, 711.0, 3286.0, 347.774447...</td>\n",
       "    </tr>\n",
       "  </tbody>\n",
       "</table>\n",
       "</div>"
      ],
      "text/plain": [
       "   summed_intensity  saturated  inferred_intensity  inferred  \\\n",
       "0             234.0      False               234.0     False   \n",
       "1             413.0      False               413.0     False   \n",
       "2              92.0      False                92.0     False   \n",
       "\n",
       "                                      isotope_points  \\\n",
       "0  [[609.8096501919711, 707.0, 3296.0, 348.829877...   \n",
       "1  [[610.3092974577588, 699.0, 3291.0, 348.302045...   \n",
       "2  [[610.8130249608281, 703.0, 3296.0, 348.829877...   \n",
       "\n",
       "                                 isotope_apex_points  \n",
       "0  [[609.8096501919711, 712.0, 3276.0, 346.712537...  \n",
       "1  [[610.3131714916155, 714.0, 3281.0, 347.239681...  \n",
       "2  [[610.8130249608281, 711.0, 3286.0, 347.774447...  "
      ]
     },
     "execution_count": 132,
     "metadata": {},
     "output_type": "execute_result"
    }
   ],
   "source": [
    "isotope_intensities_df"
   ]
  },
  {
   "cell_type": "code",
   "execution_count": 133,
   "metadata": {
    "scrolled": false
   },
   "outputs": [
    {
     "data": {
      "image/png": "[encoded data removed]",
      "text/plain": [
       "<Figure size 1080x576 with 1 Axes>"
      ]
     },
     "metadata": {
      "needs_background": "light"
     },
     "output_type": "display_data"
    }
   ],
   "source": [
    "f, ax = plt.subplots()\n",
    "f.set_figheight(8)\n",
    "f.set_figwidth(15)\n",
    "plt.margins(0.06)\n",
    "\n",
    "# title = 'maximum inferred intensity by monoisotopic mass'\n",
    "# plt.title(title)\n",
    "\n",
    "ax.plot(mono_isolated_peak_df.x, mono_isolated_peak_df.filtered_intensity, marker='', color='darkorange', linestyle='-', lw=1, ms=30, alpha=1.0, label='monoisotopic')\n",
    "ax.plot(isotope_1_isolated_peak_df.x, isotope_1_isolated_peak_df.filtered_intensity, marker='', color='limegreen', linestyle='-', lw=1, ms=30, alpha=1.0, label='isotope 1')\n",
    "ax.plot(isotope_2_isolated_peak_df.x, isotope_2_isolated_peak_df.filtered_intensity, marker='', color='violet', linestyle='-', lw=1, ms=30, alpha=1.0, label='isotope 2')\n",
    "\n",
    "plt.legend(loc='best')\n",
    "plt.xlabel('retention time (seconds)')\n",
    "plt.ylabel('intensity')\n",
    "\n",
    "plt.show()"
   ]
  },
  {
   "cell_type": "code",
   "execution_count": 134,
   "metadata": {},
   "outputs": [
    {
     "data": {
      "text/plain": [
       "(0.9999999702192202, 0.0018904845486103473)"
      ]
     },
     "execution_count": 134,
     "metadata": {},
     "output_type": "execute_result"
    }
   ],
   "source": [
    "selected_sequence_s.rt_isotope_correlation, selected_sequence_s.rt_isotope_cv"
   ]
  },
  {
   "cell_type": "code",
   "execution_count": 135,
   "metadata": {},
   "outputs": [],
   "source": [
    "isotope_intensities_df = pd.DataFrame(selected_sequence_attribs_s.isotope_intensities_l, columns=['summed_intensity','saturated','inferred_intensity','inferred','isotope_points','isotope_apex_points'])\n"
   ]
  },
  {
   "cell_type": "code",
   "execution_count": 136,
   "metadata": {},
   "outputs": [
    {
     "data": {
      "text/html": [
       "<div>\n",
       "<style scoped>\n",
       "    .dataframe tbody tr th:only-of-type {\n",
       "        vertical-align: middle;\n",
       "    }\n",
       "\n",
       "    .dataframe tbody tr th {\n",
       "        vertical-align: top;\n",
       "    }\n",
       "\n",
       "    .dataframe thead th {\n",
       "        text-align: right;\n",
       "    }\n",
       "</style>\n",
       "<table border=\"1\" class=\"dataframe\">\n",
       "  <thead>\n",
       "    <tr style=\"text-align: right;\">\n",
       "      <th></th>\n",
       "      <th>summed_intensity</th>\n",
       "      <th>saturated</th>\n",
       "      <th>inferred_intensity</th>\n",
       "      <th>inferred</th>\n",
       "      <th>isotope_points</th>\n",
       "      <th>isotope_apex_points</th>\n",
       "    </tr>\n",
       "  </thead>\n",
       "  <tbody>\n",
       "    <tr>\n",
       "      <th>0</th>\n",
       "      <td>234.0</td>\n",
       "      <td>False</td>\n",
       "      <td>234.0</td>\n",
       "      <td>False</td>\n",
       "      <td>[[609.8096501919711, 707.0, 3296.0, 348.829877...</td>\n",
       "      <td>[[609.8096501919711, 712.0, 3276.0, 346.712537...</td>\n",
       "    </tr>\n",
       "    <tr>\n",
       "      <th>1</th>\n",
       "      <td>413.0</td>\n",
       "      <td>False</td>\n",
       "      <td>413.0</td>\n",
       "      <td>False</td>\n",
       "      <td>[[610.3092974577588, 699.0, 3291.0, 348.302045...</td>\n",
       "      <td>[[610.3131714916155, 714.0, 3281.0, 347.239681...</td>\n",
       "    </tr>\n",
       "    <tr>\n",
       "      <th>2</th>\n",
       "      <td>92.0</td>\n",
       "      <td>False</td>\n",
       "      <td>92.0</td>\n",
       "      <td>False</td>\n",
       "      <td>[[610.8130249608281, 703.0, 3296.0, 348.829877...</td>\n",
       "      <td>[[610.8130249608281, 711.0, 3286.0, 347.774447...</td>\n",
       "    </tr>\n",
       "  </tbody>\n",
       "</table>\n",
       "</div>"
      ],
      "text/plain": [
       "   summed_intensity  saturated  inferred_intensity  inferred  \\\n",
       "0             234.0      False               234.0     False   \n",
       "1             413.0      False               413.0     False   \n",
       "2              92.0      False                92.0     False   \n",
       "\n",
       "                                      isotope_points  \\\n",
       "0  [[609.8096501919711, 707.0, 3296.0, 348.829877...   \n",
       "1  [[610.3092974577588, 699.0, 3291.0, 348.302045...   \n",
       "2  [[610.8130249608281, 703.0, 3296.0, 348.829877...   \n",
       "\n",
       "                                 isotope_apex_points  \n",
       "0  [[609.8096501919711, 712.0, 3276.0, 346.712537...  \n",
       "1  [[610.3131714916155, 714.0, 3281.0, 347.239681...  \n",
       "2  [[610.8130249608281, 711.0, 3286.0, 347.774447...  "
      ]
     },
     "execution_count": 136,
     "metadata": {},
     "output_type": "execute_result"
    }
   ],
   "source": [
    "isotope_intensities_df"
   ]
  },
  {
   "cell_type": "code",
   "execution_count": 137,
   "metadata": {},
   "outputs": [],
   "source": [
    "tableau20 = [(31, 119, 180), (174, 199, 232), (255, 127, 14), (255, 187, 120),  \n",
    "             (44, 160, 44), (152, 223, 138), (214, 39, 40), (255, 152, 150),  \n",
    "             (148, 103, 189), (197, 176, 213), (140, 86, 75), (196, 156, 148),  \n",
    "             (227, 119, 194), (247, 182, 210), (127, 127, 127), (199, 199, 199),  \n",
    "             (188, 189, 34), (219, 219, 141), (23, 190, 207), (158, 218, 229)]\n",
    "# Rescale to values between 0 and 1 \n",
    "for i in range(len(tableau20)):  \n",
    "    r, g, b = tableau20[i]  \n",
    "    tableau20[i] = (r / 255., g / 255., b / 255.)"
   ]
  },
  {
   "cell_type": "code",
   "execution_count": 139,
   "metadata": {},
   "outputs": [
    {
     "name": "stdout",
     "output_type": "stream",
     "text": [
      "not enough points to filter\n",
      "not enough points to filter\n",
      "not enough points to filter\n"
     ]
    },
    {
     "data": {
      "image/png": "[encoded data removed]",
      "text/plain": [
       "<Figure size 1080x576 with 1 Axes>"
      ]
     },
     "metadata": {
      "needs_background": "light"
     },
     "output_type": "display_data"
    }
   ],
   "source": [
    "f, ax = plt.subplots()\n",
    "f.set_figheight(8)\n",
    "f.set_figwidth(15)\n",
    "plt.margins(0.06)\n",
    "\n",
    "# title = 'maximum inferred intensity by monoisotopic mass'\n",
    "# plt.title(title)\n",
    "\n",
    "window_length = 11\n",
    "isotopes_l = []\n",
    "for isotope_idx,row in enumerate(isotope_intensities_df[:3].itertuples()):\n",
    "    isotope_points_df = pd.DataFrame(row.isotope_points, columns=['mz','scan','frame_id','retention_time_secs','intensity'])\n",
    "    flat_df = isotope_points_df.groupby(['frame_id'], as_index=False).intensity.sum()\n",
    "    flat_df.sort_values(by=['frame_id'], ascending=True, inplace=True)\n",
    "    flat_df['filtered_intensity'] = flat_df.intensity  # set the default\n",
    "    if len(flat_df) > window_length:\n",
    "        flat_df['filtered_intensity'] = signal.savgol_filter(flat_df.intensity, window_length=window_length, polyorder=3)\n",
    "    else:\n",
    "        print(\"not enough points to filter\")\n",
    "    isotopes_l.append(flat_df)\n",
    "    ax.plot(flat_df.frame_id, flat_df.filtered_intensity, marker='', color=tableau20[isotope_idx+1 % len(tableau20)], linestyle='-', lw=1, ms=30, alpha=1.0, label='isotope {}'.format(isotope_idx))\n",
    "\n",
    "plt.legend(loc='best')\n",
    "plt.xlabel('retention time (secs)')\n",
    "plt.ylabel('filtered intensity')\n",
    "\n",
    "plt.show()"
   ]
  },
  {
   "cell_type": "code",
   "execution_count": 138,
   "metadata": {},
   "outputs": [
    {
     "name": "stdout",
     "output_type": "stream",
     "text": [
      "not enough points to filter\n",
      "not enough points to filter\n"
     ]
    },
    {
     "data": {
      "image/png": "[encoded data removed]",
      "text/plain": [
       "<Figure size 1080x576 with 1 Axes>"
      ]
     },
     "metadata": {
      "needs_background": "light"
     },
     "output_type": "display_data"
    }
   ],
   "source": [
    "f, ax = plt.subplots()\n",
    "f.set_figheight(8)\n",
    "f.set_figwidth(15)\n",
    "plt.margins(0.06)\n",
    "\n",
    "# title = 'maximum inferred intensity by monoisotopic mass'\n",
    "# plt.title(title)\n",
    "\n",
    "window_length = 11\n",
    "isotopes_l = []\n",
    "for isotope_idx,row in enumerate(isotope_intensities_df[:3].itertuples()):\n",
    "    isotope_points_df = pd.DataFrame(row.isotope_points, columns=['mz','scan','frame_id','retention_time_secs','intensity'])\n",
    "    flat_df = isotope_points_df.groupby(['scan'], as_index=False).intensity.sum()\n",
    "    flat_df.sort_values(by=['scan'], ascending=True, inplace=True)\n",
    "    flat_df['filtered_intensity'] = flat_df.intensity  # set the default\n",
    "    if len(flat_df) > window_length:\n",
    "        flat_df['filtered_intensity'] = signal.savgol_filter(flat_df.intensity, window_length=window_length, polyorder=3)\n",
    "    else:\n",
    "        print(\"not enough points to filter\")\n",
    "    isotopes_l.append(flat_df)\n",
    "    ax.plot(flat_df.scan, flat_df.filtered_intensity, marker='', color=tableau20[isotope_idx+1 % len(tableau20)], linestyle='-', lw=1, ms=30, alpha=1.0, label='isotope {}'.format(isotope_idx))\n",
    "\n",
    "plt.legend(loc='best')\n",
    "plt.xlabel('CCS')\n",
    "plt.ylabel('filtered intensity')\n",
    "\n",
    "plt.show()"
   ]
  },
  {
   "cell_type": "code",
   "execution_count": 121,
   "metadata": {},
   "outputs": [
    {
     "data": {
      "text/plain": [
       "(-0.37251830384695156, 0.047452553159597406)"
      ]
     },
     "execution_count": 121,
     "metadata": {},
     "output_type": "execute_result"
    }
   ],
   "source": [
    "selected_sequence_s.scan_isotope_correlation, selected_sequence_s.scan_isotope_cv"
   ]
  },
  {
   "cell_type": "code",
   "execution_count": null,
   "metadata": {},
   "outputs": [],
   "source": []
  }
 ],
 "metadata": {
  "kernelspec": {
   "display_name": "Python 3",
   "language": "python",
   "name": "python3"
  },
  "language_info": {
   "codemirror_mode": {
    "name": "ipython",
    "version": 3
   },
   "file_extension": ".py",
   "mimetype": "text/x-python",
   "name": "python",
   "nbconvert_exporter": "python",
   "pygments_lexer": "ipython3",
   "version": "3.6.8"
  }
 },
 "nbformat": 4,
 "nbformat_minor": 2
}
