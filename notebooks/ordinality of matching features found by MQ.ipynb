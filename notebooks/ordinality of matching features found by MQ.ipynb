{
 "cells": [
  {
   "cell_type": "code",
   "execution_count": 58,
   "metadata": {},
   "outputs": [],
   "source": [
    "%matplotlib inline\n",
    "\n",
    "import sqlite3\n",
    "import pandas as pd\n",
    "import matplotlib.pyplot as plt\n",
    "import numpy as np\n",
    "import sys"
   ]
  },
  {
   "cell_type": "code",
   "execution_count": 59,
   "metadata": {},
   "outputs": [
    {
     "name": "stdout",
     "output_type": "stream",
     "text": [
      "matplotlib: 3.0.2\n"
     ]
    }
   ],
   "source": [
    "import matplotlib\n",
    "print('matplotlib: {}'.format(matplotlib.__version__))"
   ]
  },
  {
   "cell_type": "code",
   "execution_count": 60,
   "metadata": {},
   "outputs": [],
   "source": [
    "RT_LIMIT_LOWER = 4340\n",
    "RT_LIMIT_UPPER = 4580"
   ]
  },
  {
   "cell_type": "code",
   "execution_count": 61,
   "metadata": {},
   "outputs": [],
   "source": [
    "BASE_NAME = \"/home/ubuntu/HeLa_20KInt-rt-{}-{}\".format(RT_LIMIT_LOWER,RT_LIMIT_UPPER)\n",
    "CONVERTED_DATABASE_NAME = '{}/HeLa_20KInt.sqlite'.format(BASE_NAME)"
   ]
  },
  {
   "cell_type": "code",
   "execution_count": 62,
   "metadata": {},
   "outputs": [
    {
     "data": {
      "text/plain": [
       "'/home/ubuntu/HeLa_20KInt-rt-4340-4580/HeLa_20KInt.sqlite'"
      ]
     },
     "execution_count": 62,
     "metadata": {},
     "output_type": "execute_result"
    }
   ],
   "source": [
    "CONVERTED_DATABASE_NAME"
   ]
  },
  {
   "cell_type": "code",
   "execution_count": 63,
   "metadata": {},
   "outputs": [],
   "source": [
    "feature_list_filename = \"{}/HeLa_20KInt-feature-list.csv\".format(BASE_NAME)\n",
    "feature_list_df = pd.read_csv(feature_list_filename)"
   ]
  },
  {
   "cell_type": "code",
   "execution_count": 64,
   "metadata": {},
   "outputs": [],
   "source": [
    "allpeptides_df = pd.read_csv('/home/ubuntu/maxquant_results/txt/allPeptides.txt', sep='\\t')"
   ]
  },
  {
   "cell_type": "code",
   "execution_count": 65,
   "metadata": {},
   "outputs": [
    {
     "data": {
      "text/plain": [
       "328862"
      ]
     },
     "execution_count": 65,
     "metadata": {},
     "output_type": "execute_result"
    }
   ],
   "source": [
    "len(allpeptides_df)"
   ]
  },
  {
   "cell_type": "code",
   "execution_count": 66,
   "metadata": {},
   "outputs": [
    {
     "data": {
      "text/html": [
       "<div>\n",
       "<style scoped>\n",
       "    .dataframe tbody tr th:only-of-type {\n",
       "        vertical-align: middle;\n",
       "    }\n",
       "\n",
       "    .dataframe tbody tr th {\n",
       "        vertical-align: top;\n",
       "    }\n",
       "\n",
       "    .dataframe thead th {\n",
       "        text-align: right;\n",
       "    }\n",
       "</style>\n",
       "<table border=\"1\" class=\"dataframe\">\n",
       "  <thead>\n",
       "    <tr style=\"text-align: right;\">\n",
       "      <th></th>\n",
       "      <th>Raw file</th>\n",
       "      <th>Charge</th>\n",
       "      <th>m/z</th>\n",
       "      <th>Mass</th>\n",
       "      <th>Resolution</th>\n",
       "      <th>Number of data points</th>\n",
       "      <th>Number of frames</th>\n",
       "      <th>Number of isotopic peaks</th>\n",
       "      <th>Isotope correlation</th>\n",
       "      <th>Mass fractional part</th>\n",
       "      <th>...</th>\n",
       "      <th>Min frame index</th>\n",
       "      <th>Max frame index</th>\n",
       "      <th>Ion mobility index</th>\n",
       "      <th>Ion mobility index length</th>\n",
       "      <th>Ion mobility index length (FWHM)</th>\n",
       "      <th>Intensity</th>\n",
       "      <th>Intensities</th>\n",
       "      <th>Number of pasef MS/MS</th>\n",
       "      <th>Pasef MS/MS IDs</th>\n",
       "      <th>MS/MS scan number</th>\n",
       "    </tr>\n",
       "  </thead>\n",
       "  <tbody>\n",
       "    <tr>\n",
       "      <th>0</th>\n",
       "      <td>HeLa_20KInt_2KIT_Slot1-46_01_1179</td>\n",
       "      <td>1</td>\n",
       "      <td>326.37791</td>\n",
       "      <td>325.37063</td>\n",
       "      <td>24329.390330</td>\n",
       "      <td>3048</td>\n",
       "      <td>20</td>\n",
       "      <td>2</td>\n",
       "      <td>0.999609</td>\n",
       "      <td>0.370635</td>\n",
       "      <td>...</td>\n",
       "      <td>5137</td>\n",
       "      <td>5156</td>\n",
       "      <td>363</td>\n",
       "      <td>54</td>\n",
       "      <td>27</td>\n",
       "      <td>31429.0</td>\n",
       "      <td>NaN</td>\n",
       "      <td>0</td>\n",
       "      <td>NaN</td>\n",
       "      <td>NaN</td>\n",
       "    </tr>\n",
       "    <tr>\n",
       "      <th>1</th>\n",
       "      <td>HeLa_20KInt_2KIT_Slot1-46_01_1179</td>\n",
       "      <td>1</td>\n",
       "      <td>312.32607</td>\n",
       "      <td>311.31879</td>\n",
       "      <td>24234.331350</td>\n",
       "      <td>19515</td>\n",
       "      <td>75</td>\n",
       "      <td>2</td>\n",
       "      <td>0.992528</td>\n",
       "      <td>0.318792</td>\n",
       "      <td>...</td>\n",
       "      <td>5351</td>\n",
       "      <td>5425</td>\n",
       "      <td>501</td>\n",
       "      <td>51</td>\n",
       "      <td>21</td>\n",
       "      <td>81118.0</td>\n",
       "      <td>NaN</td>\n",
       "      <td>0</td>\n",
       "      <td>NaN</td>\n",
       "      <td>NaN</td>\n",
       "    </tr>\n",
       "    <tr>\n",
       "      <th>2</th>\n",
       "      <td>HeLa_20KInt_2KIT_Slot1-46_01_1179</td>\n",
       "      <td>1</td>\n",
       "      <td>316.28438</td>\n",
       "      <td>315.27711</td>\n",
       "      <td>24449.285122</td>\n",
       "      <td>706</td>\n",
       "      <td>7</td>\n",
       "      <td>2</td>\n",
       "      <td>0.999514</td>\n",
       "      <td>0.277105</td>\n",
       "      <td>...</td>\n",
       "      <td>5112</td>\n",
       "      <td>5118</td>\n",
       "      <td>549</td>\n",
       "      <td>75</td>\n",
       "      <td>27</td>\n",
       "      <td>36051.0</td>\n",
       "      <td>NaN</td>\n",
       "      <td>0</td>\n",
       "      <td>NaN</td>\n",
       "      <td>NaN</td>\n",
       "    </tr>\n",
       "    <tr>\n",
       "      <th>3</th>\n",
       "      <td>HeLa_20KInt_2KIT_Slot1-46_01_1179</td>\n",
       "      <td>1</td>\n",
       "      <td>307.09608</td>\n",
       "      <td>306.08880</td>\n",
       "      <td>24469.582565</td>\n",
       "      <td>7633</td>\n",
       "      <td>22</td>\n",
       "      <td>2</td>\n",
       "      <td>0.998656</td>\n",
       "      <td>0.088801</td>\n",
       "      <td>...</td>\n",
       "      <td>4935</td>\n",
       "      <td>4956</td>\n",
       "      <td>651</td>\n",
       "      <td>111</td>\n",
       "      <td>30</td>\n",
       "      <td>295110.0</td>\n",
       "      <td>NaN</td>\n",
       "      <td>0</td>\n",
       "      <td>NaN</td>\n",
       "      <td>NaN</td>\n",
       "    </tr>\n",
       "    <tr>\n",
       "      <th>4</th>\n",
       "      <td>HeLa_20KInt_2KIT_Slot1-46_01_1179</td>\n",
       "      <td>1</td>\n",
       "      <td>316.16858</td>\n",
       "      <td>315.16130</td>\n",
       "      <td>24514.638897</td>\n",
       "      <td>108</td>\n",
       "      <td>3</td>\n",
       "      <td>2</td>\n",
       "      <td>0.999752</td>\n",
       "      <td>0.161303</td>\n",
       "      <td>...</td>\n",
       "      <td>5032</td>\n",
       "      <td>5034</td>\n",
       "      <td>645</td>\n",
       "      <td>21</td>\n",
       "      <td>18</td>\n",
       "      <td>7543.2</td>\n",
       "      <td>NaN</td>\n",
       "      <td>0</td>\n",
       "      <td>NaN</td>\n",
       "      <td>NaN</td>\n",
       "    </tr>\n",
       "  </tbody>\n",
       "</table>\n",
       "<p>5 rows × 24 columns</p>\n",
       "</div>"
      ],
      "text/plain": [
       "                            Raw file  Charge        m/z       Mass  \\\n",
       "0  HeLa_20KInt_2KIT_Slot1-46_01_1179       1  326.37791  325.37063   \n",
       "1  HeLa_20KInt_2KIT_Slot1-46_01_1179       1  312.32607  311.31879   \n",
       "2  HeLa_20KInt_2KIT_Slot1-46_01_1179       1  316.28438  315.27711   \n",
       "3  HeLa_20KInt_2KIT_Slot1-46_01_1179       1  307.09608  306.08880   \n",
       "4  HeLa_20KInt_2KIT_Slot1-46_01_1179       1  316.16858  315.16130   \n",
       "\n",
       "     Resolution  Number of data points  Number of frames  \\\n",
       "0  24329.390330                   3048                20   \n",
       "1  24234.331350                  19515                75   \n",
       "2  24449.285122                    706                 7   \n",
       "3  24469.582565                   7633                22   \n",
       "4  24514.638897                    108                 3   \n",
       "\n",
       "   Number of isotopic peaks  Isotope correlation  Mass fractional part  ...  \\\n",
       "0                         2             0.999609              0.370635  ...   \n",
       "1                         2             0.992528              0.318792  ...   \n",
       "2                         2             0.999514              0.277105  ...   \n",
       "3                         2             0.998656              0.088801  ...   \n",
       "4                         2             0.999752              0.161303  ...   \n",
       "\n",
       "   Min frame index  Max frame index  Ion mobility index  \\\n",
       "0             5137             5156                 363   \n",
       "1             5351             5425                 501   \n",
       "2             5112             5118                 549   \n",
       "3             4935             4956                 651   \n",
       "4             5032             5034                 645   \n",
       "\n",
       "   Ion mobility index length  Ion mobility index length (FWHM)  Intensity  \\\n",
       "0                         54                                27    31429.0   \n",
       "1                         51                                21    81118.0   \n",
       "2                         75                                27    36051.0   \n",
       "3                        111                                30   295110.0   \n",
       "4                         21                                18     7543.2   \n",
       "\n",
       "   Intensities  Number of pasef MS/MS  Pasef MS/MS IDs  MS/MS scan number  \n",
       "0          NaN                      0              NaN                NaN  \n",
       "1          NaN                      0              NaN                NaN  \n",
       "2          NaN                      0              NaN                NaN  \n",
       "3          NaN                      0              NaN                NaN  \n",
       "4          NaN                      0              NaN                NaN  \n",
       "\n",
       "[5 rows x 24 columns]"
      ]
     },
     "execution_count": 66,
     "metadata": {},
     "output_type": "execute_result"
    }
   ],
   "source": [
    "allpeptides_df.head()"
   ]
  },
  {
   "cell_type": "code",
   "execution_count": 67,
   "metadata": {},
   "outputs": [],
   "source": [
    "allpeptides_df.rename(columns={'Number of isotopic peaks': 'isotope_count', 'm/z': 'mz', 'Intensity': 'intensity', 'Ion mobility index':'scan', 'Retention time': 'rt', 'Charge': 'charge_state'}, inplace=True)"
   ]
  },
  {
   "cell_type": "code",
   "execution_count": 68,
   "metadata": {},
   "outputs": [
    {
     "data": {
      "text/html": [
       "<div>\n",
       "<style scoped>\n",
       "    .dataframe tbody tr th:only-of-type {\n",
       "        vertical-align: middle;\n",
       "    }\n",
       "\n",
       "    .dataframe tbody tr th {\n",
       "        vertical-align: top;\n",
       "    }\n",
       "\n",
       "    .dataframe thead th {\n",
       "        text-align: right;\n",
       "    }\n",
       "</style>\n",
       "<table border=\"1\" class=\"dataframe\">\n",
       "  <thead>\n",
       "    <tr style=\"text-align: right;\">\n",
       "      <th></th>\n",
       "      <th>feature_id</th>\n",
       "      <th>charge_state</th>\n",
       "      <th>monoisotopic_mass</th>\n",
       "      <th>feature_centroid_scan</th>\n",
       "      <th>feature_centroid_rt</th>\n",
       "      <th>feature_centroid_mz</th>\n",
       "      <th>feature_start_rt</th>\n",
       "      <th>feature_end_rt</th>\n",
       "      <th>feature_scan_lower</th>\n",
       "      <th>feature_scan_upper</th>\n",
       "      <th>...</th>\n",
       "      <th>base_peak_scan_lower</th>\n",
       "      <th>base_peak_scan_upper</th>\n",
       "      <th>base_peak_centroid_rt</th>\n",
       "      <th>base_peak_std_dev_rt</th>\n",
       "      <th>base_peak_rt_lower</th>\n",
       "      <th>base_peak_rt_upper</th>\n",
       "      <th>base_peak_centroid_mz</th>\n",
       "      <th>base_peak_std_dev_mz</th>\n",
       "      <th>base_peak_mz_lower</th>\n",
       "      <th>base_peak_mz_upper</th>\n",
       "    </tr>\n",
       "  </thead>\n",
       "  <tbody>\n",
       "    <tr>\n",
       "      <th>0</th>\n",
       "      <td>1</td>\n",
       "      <td>2</td>\n",
       "      <td>1789.903876</td>\n",
       "      <td>432.554732</td>\n",
       "      <td>4432.861258</td>\n",
       "      <td>896.398529</td>\n",
       "      <td>4427.824409</td>\n",
       "      <td>4443.177867</td>\n",
       "      <td>422</td>\n",
       "      <td>442</td>\n",
       "      <td>...</td>\n",
       "      <td>422</td>\n",
       "      <td>442</td>\n",
       "      <td>4433.020714</td>\n",
       "      <td>2.598279</td>\n",
       "      <td>4430.187565</td>\n",
       "      <td>4440.816682</td>\n",
       "      <td>895.958387</td>\n",
       "      <td>0.004415</td>\n",
       "      <td>895.917833</td>\n",
       "      <td>895.998069</td>\n",
       "    </tr>\n",
       "    <tr>\n",
       "      <th>1</th>\n",
       "      <td>2</td>\n",
       "      <td>2</td>\n",
       "      <td>1753.793257</td>\n",
       "      <td>414.272995</td>\n",
       "      <td>4459.104625</td>\n",
       "      <td>878.396096</td>\n",
       "      <td>4449.083986</td>\n",
       "      <td>4471.506226</td>\n",
       "      <td>405</td>\n",
       "      <td>425</td>\n",
       "      <td>...</td>\n",
       "      <td>405</td>\n",
       "      <td>425</td>\n",
       "      <td>4459.755071</td>\n",
       "      <td>4.440888</td>\n",
       "      <td>4449.083986</td>\n",
       "      <td>4471.506226</td>\n",
       "      <td>878.405911</td>\n",
       "      <td>0.006066</td>\n",
       "      <td>878.371983</td>\n",
       "      <td>878.442083</td>\n",
       "    </tr>\n",
       "    <tr>\n",
       "      <th>2</th>\n",
       "      <td>3</td>\n",
       "      <td>2</td>\n",
       "      <td>1658.901506</td>\n",
       "      <td>438.122446</td>\n",
       "      <td>4400.319978</td>\n",
       "      <td>830.627797</td>\n",
       "      <td>4390.028733</td>\n",
       "      <td>4412.471973</td>\n",
       "      <td>426</td>\n",
       "      <td>446</td>\n",
       "      <td>...</td>\n",
       "      <td>426</td>\n",
       "      <td>446</td>\n",
       "      <td>4400.557071</td>\n",
       "      <td>2.519410</td>\n",
       "      <td>4390.028733</td>\n",
       "      <td>4412.471973</td>\n",
       "      <td>830.458480</td>\n",
       "      <td>0.005567</td>\n",
       "      <td>830.406597</td>\n",
       "      <td>830.492932</td>\n",
       "    </tr>\n",
       "    <tr>\n",
       "      <th>3</th>\n",
       "      <td>4</td>\n",
       "      <td>2</td>\n",
       "      <td>1424.730227</td>\n",
       "      <td>486.765365</td>\n",
       "      <td>4533.062044</td>\n",
       "      <td>713.624696</td>\n",
       "      <td>4519.935285</td>\n",
       "      <td>4542.374700</td>\n",
       "      <td>472</td>\n",
       "      <td>492</td>\n",
       "      <td>...</td>\n",
       "      <td>472</td>\n",
       "      <td>492</td>\n",
       "      <td>4532.433233</td>\n",
       "      <td>3.352277</td>\n",
       "      <td>4529.382170</td>\n",
       "      <td>4542.374700</td>\n",
       "      <td>713.372265</td>\n",
       "      <td>0.002964</td>\n",
       "      <td>713.340924</td>\n",
       "      <td>713.404096</td>\n",
       "    </tr>\n",
       "    <tr>\n",
       "      <th>4</th>\n",
       "      <td>5</td>\n",
       "      <td>2</td>\n",
       "      <td>1424.729543</td>\n",
       "      <td>482.752245</td>\n",
       "      <td>4529.693034</td>\n",
       "      <td>713.687159</td>\n",
       "      <td>4519.935285</td>\n",
       "      <td>4540.014544</td>\n",
       "      <td>478</td>\n",
       "      <td>496</td>\n",
       "      <td>...</td>\n",
       "      <td>478</td>\n",
       "      <td>493</td>\n",
       "      <td>4529.118263</td>\n",
       "      <td>3.873986</td>\n",
       "      <td>4519.935285</td>\n",
       "      <td>4540.014544</td>\n",
       "      <td>713.372338</td>\n",
       "      <td>0.005519</td>\n",
       "      <td>713.340924</td>\n",
       "      <td>713.408308</td>\n",
       "    </tr>\n",
       "  </tbody>\n",
       "</table>\n",
       "<p>5 rows × 38 columns</p>\n",
       "</div>"
      ],
      "text/plain": [
       "   feature_id  charge_state  monoisotopic_mass  feature_centroid_scan  \\\n",
       "0           1             2        1789.903876             432.554732   \n",
       "1           2             2        1753.793257             414.272995   \n",
       "2           3             2        1658.901506             438.122446   \n",
       "3           4             2        1424.730227             486.765365   \n",
       "4           5             2        1424.729543             482.752245   \n",
       "\n",
       "   feature_centroid_rt  feature_centroid_mz  feature_start_rt  feature_end_rt  \\\n",
       "0          4432.861258           896.398529       4427.824409     4443.177867   \n",
       "1          4459.104625           878.396096       4449.083986     4471.506226   \n",
       "2          4400.319978           830.627797       4390.028733     4412.471973   \n",
       "3          4533.062044           713.624696       4519.935285     4542.374700   \n",
       "4          4529.693034           713.687159       4519.935285     4540.014544   \n",
       "\n",
       "   feature_scan_lower  feature_scan_upper  ...  base_peak_scan_lower  \\\n",
       "0                 422                 442  ...                   422   \n",
       "1                 405                 425  ...                   405   \n",
       "2                 426                 446  ...                   426   \n",
       "3                 472                 492  ...                   472   \n",
       "4                 478                 496  ...                   478   \n",
       "\n",
       "   base_peak_scan_upper  base_peak_centroid_rt  base_peak_std_dev_rt  \\\n",
       "0                   442            4433.020714              2.598279   \n",
       "1                   425            4459.755071              4.440888   \n",
       "2                   446            4400.557071              2.519410   \n",
       "3                   492            4532.433233              3.352277   \n",
       "4                   493            4529.118263              3.873986   \n",
       "\n",
       "   base_peak_rt_lower  base_peak_rt_upper  base_peak_centroid_mz  \\\n",
       "0         4430.187565         4440.816682             895.958387   \n",
       "1         4449.083986         4471.506226             878.405911   \n",
       "2         4390.028733         4412.471973             830.458480   \n",
       "3         4529.382170         4542.374700             713.372265   \n",
       "4         4519.935285         4540.014544             713.372338   \n",
       "\n",
       "   base_peak_std_dev_mz  base_peak_mz_lower  base_peak_mz_upper  \n",
       "0              0.004415          895.917833          895.998069  \n",
       "1              0.006066          878.371983          878.442083  \n",
       "2              0.005567          830.406597          830.492932  \n",
       "3              0.002964          713.340924          713.404096  \n",
       "4              0.005519          713.340924          713.408308  \n",
       "\n",
       "[5 rows x 38 columns]"
      ]
     },
     "execution_count": 68,
     "metadata": {},
     "output_type": "execute_result"
    }
   ],
   "source": [
    "feature_list_df.head()"
   ]
  },
  {
   "cell_type": "code",
   "execution_count": 69,
   "metadata": {},
   "outputs": [],
   "source": [
    "feature_list_subset_df = feature_list_df[[\"feature_id\",\"mono_peak_centroid_mz\",\"mono_peak_centroid_rt\",\"mono_peak_centroid_scan\",\"monoisotopic_mass\",\"feature_summed_intensity\",\"charge_state\"]].copy()"
   ]
  },
  {
   "cell_type": "code",
   "execution_count": 70,
   "metadata": {},
   "outputs": [],
   "source": [
    "feature_list_subset_df.sort_values(by=['feature_summed_intensity'], ascending=False, inplace=True)"
   ]
  },
  {
   "cell_type": "code",
   "execution_count": 71,
   "metadata": {},
   "outputs": [],
   "source": [
    "allpeptides_subset_df = allpeptides_df[[\"mz\",\"intensity\",\"charge_state\",\"rt\",\"scan\"]].copy()\n",
    "allpeptides_subset_df = allpeptides_subset_df[(allpeptides_subset_df.rt >= RT_LIMIT_LOWER) & (allpeptides_subset_df.rt <= RT_LIMIT_UPPER)]"
   ]
  },
  {
   "cell_type": "code",
   "execution_count": 72,
   "metadata": {},
   "outputs": [
    {
     "data": {
      "text/html": [
       "<div>\n",
       "<style scoped>\n",
       "    .dataframe tbody tr th:only-of-type {\n",
       "        vertical-align: middle;\n",
       "    }\n",
       "\n",
       "    .dataframe tbody tr th {\n",
       "        vertical-align: top;\n",
       "    }\n",
       "\n",
       "    .dataframe thead th {\n",
       "        text-align: right;\n",
       "    }\n",
       "</style>\n",
       "<table border=\"1\" class=\"dataframe\">\n",
       "  <thead>\n",
       "    <tr style=\"text-align: right;\">\n",
       "      <th></th>\n",
       "      <th>mz</th>\n",
       "      <th>intensity</th>\n",
       "      <th>charge_state</th>\n",
       "      <th>rt</th>\n",
       "      <th>scan</th>\n",
       "    </tr>\n",
       "  </thead>\n",
       "  <tbody>\n",
       "    <tr>\n",
       "      <th>273238</th>\n",
       "      <td>895.95670</td>\n",
       "      <td>26707000.0</td>\n",
       "      <td>2</td>\n",
       "      <td>4432.552</td>\n",
       "      <td>363</td>\n",
       "    </tr>\n",
       "    <tr>\n",
       "      <th>271311</th>\n",
       "      <td>877.90152</td>\n",
       "      <td>16367000.0</td>\n",
       "      <td>2</td>\n",
       "      <td>4457.345</td>\n",
       "      <td>411</td>\n",
       "    </tr>\n",
       "    <tr>\n",
       "      <th>258239</th>\n",
       "      <td>830.45670</td>\n",
       "      <td>10780000.0</td>\n",
       "      <td>2</td>\n",
       "      <td>4398.299</td>\n",
       "      <td>435</td>\n",
       "    </tr>\n",
       "    <tr>\n",
       "      <th>272371</th>\n",
       "      <td>890.44758</td>\n",
       "      <td>9524100.0</td>\n",
       "      <td>2</td>\n",
       "      <td>4512.851</td>\n",
       "      <td>348</td>\n",
       "    </tr>\n",
       "    <tr>\n",
       "      <th>257004</th>\n",
       "      <td>821.89394</td>\n",
       "      <td>8506200.0</td>\n",
       "      <td>2</td>\n",
       "      <td>4536.471</td>\n",
       "      <td>465</td>\n",
       "    </tr>\n",
       "  </tbody>\n",
       "</table>\n",
       "</div>"
      ],
      "text/plain": [
       "               mz   intensity  charge_state        rt  scan\n",
       "273238  895.95670  26707000.0             2  4432.552   363\n",
       "271311  877.90152  16367000.0             2  4457.345   411\n",
       "258239  830.45670  10780000.0             2  4398.299   435\n",
       "272371  890.44758   9524100.0             2  4512.851   348\n",
       "257004  821.89394   8506200.0             2  4536.471   465"
      ]
     },
     "execution_count": 72,
     "metadata": {},
     "output_type": "execute_result"
    }
   ],
   "source": [
    "allpeptides_subset_df.sort_values(by=['intensity'], ascending=False).head()"
   ]
  },
  {
   "cell_type": "markdown",
   "metadata": {},
   "source": [
    "Enumerate the MQ features"
   ]
  },
  {
   "cell_type": "code",
   "execution_count": 73,
   "metadata": {},
   "outputs": [],
   "source": [
    "allpeptides_subset_df = allpeptides_subset_df[allpeptides_subset_df.intensity.notnull()].copy()\n",
    "\n",
    "allpeptides_subset_df.sort_values(by=['intensity'], ascending=False, inplace=True)\n",
    "allpeptides_subset_df[\"mq_feature_id\"] = np.arange(start=1, stop=len(allpeptides_subset_df)+1)"
   ]
  },
  {
   "cell_type": "code",
   "execution_count": 74,
   "metadata": {},
   "outputs": [],
   "source": [
    "MZ_TOLERANCE_PPM = 5\n",
    "MZ_TOLERANCE_PERCENT = MZ_TOLERANCE_PPM * 10**-4 \n",
    "RT_TOLERANCE_SECS = 5\n",
    "DRIFT_TOLERANCE = 5\n",
    "\n",
    "allpeptides_subset_df[\"mz_delta\"] = allpeptides_subset_df.mz * MZ_TOLERANCE_PERCENT / 100\n",
    "allpeptides_subset_df[\"mz_upper\"] = allpeptides_subset_df.mz + allpeptides_subset_df.mz_delta\n",
    "allpeptides_subset_df[\"mz_lower\"] = allpeptides_subset_df.mz - allpeptides_subset_df.mz_delta\n",
    "\n",
    "allpeptides_subset_df[\"rt_upper\"] = allpeptides_subset_df.rt + RT_TOLERANCE_SECS\n",
    "allpeptides_subset_df[\"rt_lower\"] = allpeptides_subset_df.rt - RT_TOLERANCE_SECS\n",
    "\n",
    "allpeptides_subset_df[\"drift_upper\"] = allpeptides_subset_df.scan + DRIFT_TOLERANCE\n",
    "allpeptides_subset_df[\"drift_lower\"] = allpeptides_subset_df.scan - DRIFT_TOLERANCE"
   ]
  },
  {
   "cell_type": "code",
   "execution_count": 75,
   "metadata": {},
   "outputs": [
    {
     "data": {
      "text/html": [
       "<div>\n",
       "<style scoped>\n",
       "    .dataframe tbody tr th:only-of-type {\n",
       "        vertical-align: middle;\n",
       "    }\n",
       "\n",
       "    .dataframe tbody tr th {\n",
       "        vertical-align: top;\n",
       "    }\n",
       "\n",
       "    .dataframe thead th {\n",
       "        text-align: right;\n",
       "    }\n",
       "</style>\n",
       "<table border=\"1\" class=\"dataframe\">\n",
       "  <thead>\n",
       "    <tr style=\"text-align: right;\">\n",
       "      <th></th>\n",
       "      <th>mz</th>\n",
       "      <th>intensity</th>\n",
       "      <th>charge_state</th>\n",
       "      <th>rt</th>\n",
       "      <th>scan</th>\n",
       "      <th>mq_feature_id</th>\n",
       "      <th>mz_delta</th>\n",
       "      <th>mz_upper</th>\n",
       "      <th>mz_lower</th>\n",
       "      <th>rt_upper</th>\n",
       "      <th>rt_lower</th>\n",
       "      <th>drift_upper</th>\n",
       "      <th>drift_lower</th>\n",
       "    </tr>\n",
       "  </thead>\n",
       "  <tbody>\n",
       "    <tr>\n",
       "      <th>273238</th>\n",
       "      <td>895.95670</td>\n",
       "      <td>26707000.0</td>\n",
       "      <td>2</td>\n",
       "      <td>4432.552</td>\n",
       "      <td>363</td>\n",
       "      <td>1</td>\n",
       "      <td>0.004480</td>\n",
       "      <td>895.961180</td>\n",
       "      <td>895.952220</td>\n",
       "      <td>4437.552</td>\n",
       "      <td>4427.552</td>\n",
       "      <td>368</td>\n",
       "      <td>358</td>\n",
       "    </tr>\n",
       "    <tr>\n",
       "      <th>271311</th>\n",
       "      <td>877.90152</td>\n",
       "      <td>16367000.0</td>\n",
       "      <td>2</td>\n",
       "      <td>4457.345</td>\n",
       "      <td>411</td>\n",
       "      <td>2</td>\n",
       "      <td>0.004390</td>\n",
       "      <td>877.905910</td>\n",
       "      <td>877.897130</td>\n",
       "      <td>4462.345</td>\n",
       "      <td>4452.345</td>\n",
       "      <td>416</td>\n",
       "      <td>406</td>\n",
       "    </tr>\n",
       "    <tr>\n",
       "      <th>258239</th>\n",
       "      <td>830.45670</td>\n",
       "      <td>10780000.0</td>\n",
       "      <td>2</td>\n",
       "      <td>4398.299</td>\n",
       "      <td>435</td>\n",
       "      <td>3</td>\n",
       "      <td>0.004152</td>\n",
       "      <td>830.460852</td>\n",
       "      <td>830.452548</td>\n",
       "      <td>4403.299</td>\n",
       "      <td>4393.299</td>\n",
       "      <td>440</td>\n",
       "      <td>430</td>\n",
       "    </tr>\n",
       "    <tr>\n",
       "      <th>272371</th>\n",
       "      <td>890.44758</td>\n",
       "      <td>9524100.0</td>\n",
       "      <td>2</td>\n",
       "      <td>4512.851</td>\n",
       "      <td>348</td>\n",
       "      <td>4</td>\n",
       "      <td>0.004452</td>\n",
       "      <td>890.452032</td>\n",
       "      <td>890.443128</td>\n",
       "      <td>4517.851</td>\n",
       "      <td>4507.851</td>\n",
       "      <td>353</td>\n",
       "      <td>343</td>\n",
       "    </tr>\n",
       "    <tr>\n",
       "      <th>257004</th>\n",
       "      <td>821.89394</td>\n",
       "      <td>8506200.0</td>\n",
       "      <td>2</td>\n",
       "      <td>4536.471</td>\n",
       "      <td>465</td>\n",
       "      <td>5</td>\n",
       "      <td>0.004109</td>\n",
       "      <td>821.898049</td>\n",
       "      <td>821.889831</td>\n",
       "      <td>4541.471</td>\n",
       "      <td>4531.471</td>\n",
       "      <td>470</td>\n",
       "      <td>460</td>\n",
       "    </tr>\n",
       "  </tbody>\n",
       "</table>\n",
       "</div>"
      ],
      "text/plain": [
       "               mz   intensity  charge_state        rt  scan  mq_feature_id  \\\n",
       "273238  895.95670  26707000.0             2  4432.552   363              1   \n",
       "271311  877.90152  16367000.0             2  4457.345   411              2   \n",
       "258239  830.45670  10780000.0             2  4398.299   435              3   \n",
       "272371  890.44758   9524100.0             2  4512.851   348              4   \n",
       "257004  821.89394   8506200.0             2  4536.471   465              5   \n",
       "\n",
       "        mz_delta    mz_upper    mz_lower  rt_upper  rt_lower  drift_upper  \\\n",
       "273238  0.004480  895.961180  895.952220  4437.552  4427.552          368   \n",
       "271311  0.004390  877.905910  877.897130  4462.345  4452.345          416   \n",
       "258239  0.004152  830.460852  830.452548  4403.299  4393.299          440   \n",
       "272371  0.004452  890.452032  890.443128  4517.851  4507.851          353   \n",
       "257004  0.004109  821.898049  821.889831  4541.471  4531.471          470   \n",
       "\n",
       "        drift_lower  \n",
       "273238          358  \n",
       "271311          406  \n",
       "258239          430  \n",
       "272371          343  \n",
       "257004          460  "
      ]
     },
     "execution_count": 75,
     "metadata": {},
     "output_type": "execute_result"
    }
   ],
   "source": [
    "allpeptides_subset_df.head()"
   ]
  },
  {
   "cell_type": "code",
   "execution_count": 76,
   "metadata": {},
   "outputs": [],
   "source": [
    "match_list = []\n",
    "\n",
    "for mq_idx in range(len(allpeptides_subset_df)):\n",
    "    mq_feature_df = allpeptides_subset_df.iloc[mq_idx]\n",
    "    \n",
    "    mq_feature_id = mq_feature_df.mq_feature_id\n",
    "    \n",
    "    mz_lower = mq_feature_df.mz_lower\n",
    "    mz_upper = mq_feature_df.mz_upper\n",
    "    rt_lower = mq_feature_df.rt_lower\n",
    "    rt_upper = mq_feature_df.rt_upper\n",
    "    drift_lower = mq_feature_df.drift_lower\n",
    "    drift_upper = mq_feature_df.drift_upper\n",
    "    charge_state = mq_feature_df.charge_state\n",
    "\n",
    "    matches_df = feature_list_subset_df[\n",
    "                                (\n",
    "                                    (feature_list_subset_df.mono_peak_centroid_mz >= mz_lower) &\n",
    "                                    (feature_list_subset_df.mono_peak_centroid_mz <= mz_upper)\n",
    "                                ) &\n",
    "                                (\n",
    "                                    (feature_list_subset_df.mono_peak_centroid_rt >= rt_lower) &\n",
    "                                    (feature_list_subset_df.mono_peak_centroid_rt <= rt_upper)\n",
    "                                ) &\n",
    "                                (\n",
    "                                    (feature_list_subset_df.mono_peak_centroid_scan >= drift_lower) &\n",
    "                                    (feature_list_subset_df.mono_peak_centroid_scan <= drift_upper)\n",
    "                                ) &\n",
    "                                (\n",
    "                                    charge_state == feature_list_subset_df.charge_state\n",
    "                                )\n",
    "    ]\n",
    "    \n",
    "    for match_idx in range(len(matches_df)):\n",
    "        feature_id = matches_df.iloc[match_idx].feature_id\n",
    "        match_list.append((int(mq_feature_id), int(feature_id)))\n"
   ]
  },
  {
   "cell_type": "code",
   "execution_count": 77,
   "metadata": {},
   "outputs": [],
   "source": [
    "match_list_df = pd.DataFrame(match_list, columns=['mq_feature_id','feature_id'])"
   ]
  },
  {
   "cell_type": "code",
   "execution_count": 78,
   "metadata": {},
   "outputs": [
    {
     "data": {
      "text/plain": [
       "2593"
      ]
     },
     "execution_count": 78,
     "metadata": {},
     "output_type": "execute_result"
    }
   ],
   "source": [
    "len(match_list_df)"
   ]
  },
  {
   "cell_type": "code",
   "execution_count": 90,
   "metadata": {},
   "outputs": [
    {
     "data": {
      "text/html": [
       "<div>\n",
       "<style scoped>\n",
       "    .dataframe tbody tr th:only-of-type {\n",
       "        vertical-align: middle;\n",
       "    }\n",
       "\n",
       "    .dataframe tbody tr th {\n",
       "        vertical-align: top;\n",
       "    }\n",
       "\n",
       "    .dataframe thead th {\n",
       "        text-align: right;\n",
       "    }\n",
       "</style>\n",
       "<table border=\"1\" class=\"dataframe\">\n",
       "  <thead>\n",
       "    <tr style=\"text-align: right;\">\n",
       "      <th></th>\n",
       "      <th>mq_feature_id</th>\n",
       "      <th>feature_id</th>\n",
       "    </tr>\n",
       "  </thead>\n",
       "  <tbody>\n",
       "    <tr>\n",
       "      <th>0</th>\n",
       "      <td>1</td>\n",
       "      <td>39</td>\n",
       "    </tr>\n",
       "    <tr>\n",
       "      <th>1</th>\n",
       "      <td>2</td>\n",
       "      <td>2</td>\n",
       "    </tr>\n",
       "    <tr>\n",
       "      <th>2</th>\n",
       "      <td>2</td>\n",
       "      <td>207</td>\n",
       "    </tr>\n",
       "    <tr>\n",
       "      <th>3</th>\n",
       "      <td>3</td>\n",
       "      <td>45</td>\n",
       "    </tr>\n",
       "    <tr>\n",
       "      <th>4</th>\n",
       "      <td>3</td>\n",
       "      <td>3</td>\n",
       "    </tr>\n",
       "  </tbody>\n",
       "</table>\n",
       "</div>"
      ],
      "text/plain": [
       "   mq_feature_id  feature_id\n",
       "0              1          39\n",
       "1              2           2\n",
       "2              2         207\n",
       "3              3          45\n",
       "4              3           3"
      ]
     },
     "execution_count": 90,
     "metadata": {},
     "output_type": "execute_result"
    }
   ],
   "source": [
    "match_list_df.sort_values(by=['mq_feature_id'], ascending=True, inplace=False).head()"
   ]
  },
  {
   "cell_type": "code",
   "execution_count": 80,
   "metadata": {},
   "outputs": [],
   "source": [
    "mq_feature_match_counts = match_list_df.mq_feature_id.value_counts()"
   ]
  },
  {
   "cell_type": "code",
   "execution_count": 81,
   "metadata": {},
   "outputs": [
    {
     "data": {
      "text/plain": [
       "2258    1\n",
       "211     1\n",
       "213     1\n",
       "2262    1\n",
       "2047    1\n",
       "Name: mq_feature_id, dtype: int64"
      ]
     },
     "execution_count": 81,
     "metadata": {},
     "output_type": "execute_result"
    }
   ],
   "source": [
    "mq_feature_match_counts.tail()"
   ]
  },
  {
   "cell_type": "code",
   "execution_count": 82,
   "metadata": {},
   "outputs": [
    {
     "data": {
      "image/png": "[encoded data removed]",
      "text/plain": [
       "<Figure size 720x360 with 1 Axes>"
      ]
     },
     "metadata": {
      "needs_background": "light"
     },
     "output_type": "display_data"
    }
   ],
   "source": [
    "f, ax1 = plt.subplots()\n",
    "f.set_figheight(5)\n",
    "f.set_figwidth(10)\n",
    "plt.hist(mq_feature_match_counts, bins=np.arange(start=0, stop=8)-0.5, rwidth=0.6)\n",
    "plt.xlabel('number of matches')\n",
    "plt.ylabel('feature count')\n",
    "plt.margins(0.06)\n",
    "plt.suptitle('Number of detected features matching each MQ feature in a {}-second window of the elution'.format(RT_LIMIT_UPPER-RT_LIMIT_LOWER))\n",
    "plt.title('Matching features with monoisotopic peak centroid within +/- {} ppm m/z, drift +/- {}, RT +/- {} secs'.format(MZ_TOLERANCE_PPM, DRIFT_TOLERANCE, RT_TOLERANCE_SECS))\n",
    "plt.show()"
   ]
  },
  {
   "cell_type": "markdown",
   "metadata": {},
   "source": [
    "For each detected feature, how many matching MQ features are there?"
   ]
  },
  {
   "cell_type": "code",
   "execution_count": 83,
   "metadata": {},
   "outputs": [],
   "source": [
    "feature_list_subset_df[\"mz_delta\"] = feature_list_subset_df.mono_peak_centroid_mz * MZ_TOLERANCE_PERCENT / 100\n",
    "feature_list_subset_df[\"mz_upper\"] = feature_list_subset_df.mono_peak_centroid_mz + feature_list_subset_df.mz_delta\n",
    "feature_list_subset_df[\"mz_lower\"] = feature_list_subset_df.mono_peak_centroid_mz - feature_list_subset_df.mz_delta\n",
    "\n",
    "feature_list_subset_df[\"rt_upper\"] = feature_list_subset_df.mono_peak_centroid_rt + RT_TOLERANCE_SECS\n",
    "feature_list_subset_df[\"rt_lower\"] = feature_list_subset_df.mono_peak_centroid_rt - RT_TOLERANCE_SECS\n",
    "\n",
    "feature_list_subset_df[\"drift_upper\"] = feature_list_subset_df.mono_peak_centroid_scan + DRIFT_TOLERANCE\n",
    "feature_list_subset_df[\"drift_lower\"] = feature_list_subset_df.mono_peak_centroid_scan - DRIFT_TOLERANCE"
   ]
  },
  {
   "cell_type": "code",
   "execution_count": 85,
   "metadata": {},
   "outputs": [],
   "source": [
    "match_list = []\n",
    "\n",
    "for idx in range(len(feature_list_subset_df)):\n",
    "    feature_df = feature_list_subset_df.iloc[idx]\n",
    "    \n",
    "    feature_id = feature_df.feature_id\n",
    "    \n",
    "    mz_lower = feature_df.mz_lower\n",
    "    mz_upper = feature_df.mz_upper\n",
    "    rt_lower = feature_df.rt_lower\n",
    "    rt_upper = feature_df.rt_upper\n",
    "    drift_lower = feature_df.drift_lower\n",
    "    drift_upper = feature_df.drift_upper\n",
    "    charge_state = feature_df.charge_state\n",
    "\n",
    "    matches_df = allpeptides_subset_df[\n",
    "                                (\n",
    "                                    (allpeptides_subset_df.mz >= mz_lower) &\n",
    "                                    (allpeptides_subset_df.mz <= mz_upper)\n",
    "                                ) &\n",
    "                                (\n",
    "                                    (allpeptides_subset_df.rt >= rt_lower) &\n",
    "                                    (allpeptides_subset_df.rt <= rt_upper)\n",
    "                                ) &\n",
    "                                (\n",
    "                                    (allpeptides_subset_df.scan >= drift_lower) &\n",
    "                                    (allpeptides_subset_df.scan <= drift_upper)\n",
    "                                ) &\n",
    "                                (\n",
    "                                    charge_state == allpeptides_subset_df.charge_state\n",
    "                                )\n",
    "    ]\n",
    "    \n",
    "    for match_idx in range(len(matches_df)):\n",
    "        mq_feature_id = matches_df.iloc[match_idx].mq_feature_id\n",
    "        match_list.append((int(feature_id), int(mq_feature_id)))\n"
   ]
  },
  {
   "cell_type": "code",
   "execution_count": 86,
   "metadata": {},
   "outputs": [],
   "source": [
    "mq_match_list_df = pd.DataFrame(match_list, columns=['feature_id','mq_feature_id'])"
   ]
  },
  {
   "cell_type": "code",
   "execution_count": 87,
   "metadata": {},
   "outputs": [
    {
     "data": {
      "text/html": [
       "<div>\n",
       "<style scoped>\n",
       "    .dataframe tbody tr th:only-of-type {\n",
       "        vertical-align: middle;\n",
       "    }\n",
       "\n",
       "    .dataframe tbody tr th {\n",
       "        vertical-align: top;\n",
       "    }\n",
       "\n",
       "    .dataframe thead th {\n",
       "        text-align: right;\n",
       "    }\n",
       "</style>\n",
       "<table border=\"1\" class=\"dataframe\">\n",
       "  <thead>\n",
       "    <tr style=\"text-align: right;\">\n",
       "      <th></th>\n",
       "      <th>feature_id</th>\n",
       "      <th>mq_feature_id</th>\n",
       "    </tr>\n",
       "  </thead>\n",
       "  <tbody>\n",
       "    <tr>\n",
       "      <th>0</th>\n",
       "      <td>33</td>\n",
       "      <td>20</td>\n",
       "    </tr>\n",
       "    <tr>\n",
       "      <th>1</th>\n",
       "      <td>46</td>\n",
       "      <td>14</td>\n",
       "    </tr>\n",
       "    <tr>\n",
       "      <th>2</th>\n",
       "      <td>60</td>\n",
       "      <td>79</td>\n",
       "    </tr>\n",
       "    <tr>\n",
       "      <th>3</th>\n",
       "      <td>72</td>\n",
       "      <td>51</td>\n",
       "    </tr>\n",
       "    <tr>\n",
       "      <th>4</th>\n",
       "      <td>27</td>\n",
       "      <td>241</td>\n",
       "    </tr>\n",
       "  </tbody>\n",
       "</table>\n",
       "</div>"
      ],
      "text/plain": [
       "   feature_id  mq_feature_id\n",
       "0          33             20\n",
       "1          46             14\n",
       "2          60             79\n",
       "3          72             51\n",
       "4          27            241"
      ]
     },
     "execution_count": 87,
     "metadata": {},
     "output_type": "execute_result"
    }
   ],
   "source": [
    "mq_match_list_df.head()"
   ]
  },
  {
   "cell_type": "code",
   "execution_count": 88,
   "metadata": {},
   "outputs": [
    {
     "data": {
      "text/plain": [
       "2593"
      ]
     },
     "execution_count": 88,
     "metadata": {},
     "output_type": "execute_result"
    }
   ],
   "source": [
    "len(mq_match_list_df)"
   ]
  },
  {
   "cell_type": "code",
   "execution_count": 89,
   "metadata": {},
   "outputs": [
    {
     "data": {
      "text/html": [
       "<div>\n",
       "<style scoped>\n",
       "    .dataframe tbody tr th:only-of-type {\n",
       "        vertical-align: middle;\n",
       "    }\n",
       "\n",
       "    .dataframe tbody tr th {\n",
       "        vertical-align: top;\n",
       "    }\n",
       "\n",
       "    .dataframe thead th {\n",
       "        text-align: right;\n",
       "    }\n",
       "</style>\n",
       "<table border=\"1\" class=\"dataframe\">\n",
       "  <thead>\n",
       "    <tr style=\"text-align: right;\">\n",
       "      <th></th>\n",
       "      <th>feature_id</th>\n",
       "      <th>mq_feature_id</th>\n",
       "    </tr>\n",
       "  </thead>\n",
       "  <tbody>\n",
       "    <tr>\n",
       "      <th>7</th>\n",
       "      <td>2</td>\n",
       "      <td>2</td>\n",
       "    </tr>\n",
       "    <tr>\n",
       "      <th>99</th>\n",
       "      <td>3</td>\n",
       "      <td>3</td>\n",
       "    </tr>\n",
       "    <tr>\n",
       "      <th>5</th>\n",
       "      <td>7</td>\n",
       "      <td>35</td>\n",
       "    </tr>\n",
       "    <tr>\n",
       "      <th>16</th>\n",
       "      <td>23</td>\n",
       "      <td>52</td>\n",
       "    </tr>\n",
       "    <tr>\n",
       "      <th>9</th>\n",
       "      <td>26</td>\n",
       "      <td>8</td>\n",
       "    </tr>\n",
       "  </tbody>\n",
       "</table>\n",
       "</div>"
      ],
      "text/plain": [
       "    feature_id  mq_feature_id\n",
       "7            2              2\n",
       "99           3              3\n",
       "5            7             35\n",
       "16          23             52\n",
       "9           26              8"
      ]
     },
     "execution_count": 89,
     "metadata": {},
     "output_type": "execute_result"
    }
   ],
   "source": [
    "mq_match_list_df.sort_values(by=['feature_id'], ascending=True, inplace=False).head()"
   ]
  },
  {
   "cell_type": "code",
   "execution_count": 93,
   "metadata": {},
   "outputs": [],
   "source": [
    "feature_match_counts = mq_match_list_df.feature_id.value_counts()"
   ]
  },
  {
   "cell_type": "code",
   "execution_count": 94,
   "metadata": {},
   "outputs": [
    {
     "data": {
      "text/plain": [
       "2670    1\n",
       "2668    1\n",
       "619     1\n",
       "8809    1\n",
       "4096    1\n",
       "Name: feature_id, dtype: int64"
      ]
     },
     "execution_count": 94,
     "metadata": {},
     "output_type": "execute_result"
    }
   ],
   "source": [
    "feature_match_counts.tail()"
   ]
  },
  {
   "cell_type": "code",
   "execution_count": 95,
   "metadata": {},
   "outputs": [
    {
     "data": {
      "image/png": "[encoded data removed]",
      "text/plain": [
       "<Figure size 720x360 with 1 Axes>"
      ]
     },
     "metadata": {
      "needs_background": "light"
     },
     "output_type": "display_data"
    }
   ],
   "source": [
    "f, ax1 = plt.subplots()\n",
    "f.set_figheight(5)\n",
    "f.set_figwidth(10)\n",
    "plt.hist(feature_match_counts, bins=np.arange(start=0, stop=8)-0.5, rwidth=0.6)\n",
    "plt.xlabel('number of matches')\n",
    "plt.ylabel('feature count')\n",
    "plt.margins(0.06)\n",
    "plt.suptitle('Number of MQ features matching each detected feature in a {}-second window of the elution'.format(RT_LIMIT_UPPER-RT_LIMIT_LOWER))\n",
    "plt.title('Matching features with monoisotopic peak centroid within +/- {} ppm m/z, drift +/- {}, RT +/- {} secs'.format(MZ_TOLERANCE_PPM, DRIFT_TOLERANCE, RT_TOLERANCE_SECS))\n",
    "plt.show()"
   ]
  },
  {
   "cell_type": "code",
   "execution_count": null,
   "metadata": {},
   "outputs": [],
   "source": []
  }
 ],
 "metadata": {
  "kernelspec": {
   "display_name": "Python 3",
   "language": "python",
   "name": "python3"
  },
  "language_info": {
   "codemirror_mode": {
    "name": "ipython",
    "version": 3
   },
   "file_extension": ".py",
   "mimetype": "text/x-python",
   "name": "python",
   "nbconvert_exporter": "python",
   "pygments_lexer": "ipython3",
   "version": "3.6.8"
  }
 },
 "nbformat": 4,
 "nbformat_minor": 2
}
