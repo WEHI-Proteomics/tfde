{
 "cells": [
  {
   "cell_type": "code",
   "execution_count": 1,
   "metadata": {},
   "outputs": [],
   "source": [
    "%matplotlib inline\n",
    "\n",
    "import sqlite3\n",
    "import pandas as pd\n",
    "import matplotlib.pyplot as plt\n",
    "import numpy as np\n",
    "import sys"
   ]
  },
  {
   "cell_type": "code",
   "execution_count": 2,
   "metadata": {},
   "outputs": [
    {
     "name": "stdout",
     "output_type": "stream",
     "text": [
      "matplotlib: 3.0.2\n"
     ]
    }
   ],
   "source": [
    "import matplotlib\n",
    "print('matplotlib: {}'.format(matplotlib.__version__))"
   ]
  },
  {
   "cell_type": "code",
   "execution_count": 3,
   "metadata": {},
   "outputs": [],
   "source": [
    "RT_LIMIT_LOWER = 4340\n",
    "RT_LIMIT_UPPER = 4580"
   ]
  },
  {
   "cell_type": "code",
   "execution_count": 4,
   "metadata": {},
   "outputs": [],
   "source": [
    "BASE_NAME = \"/home/ubuntu/HeLa_20KInt-rt-{}-{}\".format(RT_LIMIT_LOWER,RT_LIMIT_UPPER)\n",
    "CONVERTED_DATABASE_NAME = '{}/HeLa_20KInt.sqlite'.format(BASE_NAME)"
   ]
  },
  {
   "cell_type": "code",
   "execution_count": 5,
   "metadata": {},
   "outputs": [
    {
     "data": {
      "text/plain": [
       "'/home/ubuntu/HeLa_20KInt-rt-4340-4580/HeLa_20KInt.sqlite'"
      ]
     },
     "execution_count": 5,
     "metadata": {},
     "output_type": "execute_result"
    }
   ],
   "source": [
    "CONVERTED_DATABASE_NAME"
   ]
  },
  {
   "cell_type": "code",
   "execution_count": 6,
   "metadata": {},
   "outputs": [],
   "source": [
    "feature_list_filename = \"{}/HeLa_20KInt-feature-list.csv\".format(BASE_NAME)\n",
    "feature_list_df = pd.read_csv(feature_list_filename)"
   ]
  },
  {
   "cell_type": "code",
   "execution_count": 7,
   "metadata": {},
   "outputs": [],
   "source": [
    "allpeptides_df = pd.read_csv('/home/ubuntu/maxquant_results/txt/allPeptides.txt', sep='\\t')"
   ]
  },
  {
   "cell_type": "code",
   "execution_count": 8,
   "metadata": {},
   "outputs": [
    {
     "data": {
      "text/plain": [
       "328862"
      ]
     },
     "execution_count": 8,
     "metadata": {},
     "output_type": "execute_result"
    }
   ],
   "source": [
    "len(allpeptides_df)"
   ]
  },
  {
   "cell_type": "code",
   "execution_count": 9,
   "metadata": {},
   "outputs": [
    {
     "data": {
      "text/html": [
       "<div>\n",
       "<style scoped>\n",
       "    .dataframe tbody tr th:only-of-type {\n",
       "        vertical-align: middle;\n",
       "    }\n",
       "\n",
       "    .dataframe tbody tr th {\n",
       "        vertical-align: top;\n",
       "    }\n",
       "\n",
       "    .dataframe thead th {\n",
       "        text-align: right;\n",
       "    }\n",
       "</style>\n",
       "<table border=\"1\" class=\"dataframe\">\n",
       "  <thead>\n",
       "    <tr style=\"text-align: right;\">\n",
       "      <th></th>\n",
       "      <th>Raw file</th>\n",
       "      <th>Charge</th>\n",
       "      <th>m/z</th>\n",
       "      <th>Mass</th>\n",
       "      <th>Resolution</th>\n",
       "      <th>Number of data points</th>\n",
       "      <th>Number of frames</th>\n",
       "      <th>Number of isotopic peaks</th>\n",
       "      <th>Isotope correlation</th>\n",
       "      <th>Mass fractional part</th>\n",
       "      <th>...</th>\n",
       "      <th>Min frame index</th>\n",
       "      <th>Max frame index</th>\n",
       "      <th>Ion mobility index</th>\n",
       "      <th>Ion mobility index length</th>\n",
       "      <th>Ion mobility index length (FWHM)</th>\n",
       "      <th>Intensity</th>\n",
       "      <th>Intensities</th>\n",
       "      <th>Number of pasef MS/MS</th>\n",
       "      <th>Pasef MS/MS IDs</th>\n",
       "      <th>MS/MS scan number</th>\n",
       "    </tr>\n",
       "  </thead>\n",
       "  <tbody>\n",
       "    <tr>\n",
       "      <th>0</th>\n",
       "      <td>HeLa_20KInt_2KIT_Slot1-46_01_1179</td>\n",
       "      <td>1</td>\n",
       "      <td>326.37791</td>\n",
       "      <td>325.37063</td>\n",
       "      <td>24329.390330</td>\n",
       "      <td>3048</td>\n",
       "      <td>20</td>\n",
       "      <td>2</td>\n",
       "      <td>0.999609</td>\n",
       "      <td>0.370635</td>\n",
       "      <td>...</td>\n",
       "      <td>5137</td>\n",
       "      <td>5156</td>\n",
       "      <td>363</td>\n",
       "      <td>54</td>\n",
       "      <td>27</td>\n",
       "      <td>31429.0</td>\n",
       "      <td>NaN</td>\n",
       "      <td>0</td>\n",
       "      <td>NaN</td>\n",
       "      <td>NaN</td>\n",
       "    </tr>\n",
       "    <tr>\n",
       "      <th>1</th>\n",
       "      <td>HeLa_20KInt_2KIT_Slot1-46_01_1179</td>\n",
       "      <td>1</td>\n",
       "      <td>312.32607</td>\n",
       "      <td>311.31879</td>\n",
       "      <td>24234.331350</td>\n",
       "      <td>19515</td>\n",
       "      <td>75</td>\n",
       "      <td>2</td>\n",
       "      <td>0.992528</td>\n",
       "      <td>0.318792</td>\n",
       "      <td>...</td>\n",
       "      <td>5351</td>\n",
       "      <td>5425</td>\n",
       "      <td>501</td>\n",
       "      <td>51</td>\n",
       "      <td>21</td>\n",
       "      <td>81118.0</td>\n",
       "      <td>NaN</td>\n",
       "      <td>0</td>\n",
       "      <td>NaN</td>\n",
       "      <td>NaN</td>\n",
       "    </tr>\n",
       "    <tr>\n",
       "      <th>2</th>\n",
       "      <td>HeLa_20KInt_2KIT_Slot1-46_01_1179</td>\n",
       "      <td>1</td>\n",
       "      <td>316.28438</td>\n",
       "      <td>315.27711</td>\n",
       "      <td>24449.285122</td>\n",
       "      <td>706</td>\n",
       "      <td>7</td>\n",
       "      <td>2</td>\n",
       "      <td>0.999514</td>\n",
       "      <td>0.277105</td>\n",
       "      <td>...</td>\n",
       "      <td>5112</td>\n",
       "      <td>5118</td>\n",
       "      <td>549</td>\n",
       "      <td>75</td>\n",
       "      <td>27</td>\n",
       "      <td>36051.0</td>\n",
       "      <td>NaN</td>\n",
       "      <td>0</td>\n",
       "      <td>NaN</td>\n",
       "      <td>NaN</td>\n",
       "    </tr>\n",
       "    <tr>\n",
       "      <th>3</th>\n",
       "      <td>HeLa_20KInt_2KIT_Slot1-46_01_1179</td>\n",
       "      <td>1</td>\n",
       "      <td>307.09608</td>\n",
       "      <td>306.08880</td>\n",
       "      <td>24469.582565</td>\n",
       "      <td>7633</td>\n",
       "      <td>22</td>\n",
       "      <td>2</td>\n",
       "      <td>0.998656</td>\n",
       "      <td>0.088801</td>\n",
       "      <td>...</td>\n",
       "      <td>4935</td>\n",
       "      <td>4956</td>\n",
       "      <td>651</td>\n",
       "      <td>111</td>\n",
       "      <td>30</td>\n",
       "      <td>295110.0</td>\n",
       "      <td>NaN</td>\n",
       "      <td>0</td>\n",
       "      <td>NaN</td>\n",
       "      <td>NaN</td>\n",
       "    </tr>\n",
       "    <tr>\n",
       "      <th>4</th>\n",
       "      <td>HeLa_20KInt_2KIT_Slot1-46_01_1179</td>\n",
       "      <td>1</td>\n",
       "      <td>316.16858</td>\n",
       "      <td>315.16130</td>\n",
       "      <td>24514.638897</td>\n",
       "      <td>108</td>\n",
       "      <td>3</td>\n",
       "      <td>2</td>\n",
       "      <td>0.999752</td>\n",
       "      <td>0.161303</td>\n",
       "      <td>...</td>\n",
       "      <td>5032</td>\n",
       "      <td>5034</td>\n",
       "      <td>645</td>\n",
       "      <td>21</td>\n",
       "      <td>18</td>\n",
       "      <td>7543.2</td>\n",
       "      <td>NaN</td>\n",
       "      <td>0</td>\n",
       "      <td>NaN</td>\n",
       "      <td>NaN</td>\n",
       "    </tr>\n",
       "  </tbody>\n",
       "</table>\n",
       "<p>5 rows × 24 columns</p>\n",
       "</div>"
      ],
      "text/plain": [
       "                            Raw file  Charge        m/z       Mass  \\\n",
       "0  HeLa_20KInt_2KIT_Slot1-46_01_1179       1  326.37791  325.37063   \n",
       "1  HeLa_20KInt_2KIT_Slot1-46_01_1179       1  312.32607  311.31879   \n",
       "2  HeLa_20KInt_2KIT_Slot1-46_01_1179       1  316.28438  315.27711   \n",
       "3  HeLa_20KInt_2KIT_Slot1-46_01_1179       1  307.09608  306.08880   \n",
       "4  HeLa_20KInt_2KIT_Slot1-46_01_1179       1  316.16858  315.16130   \n",
       "\n",
       "     Resolution  Number of data points  Number of frames  \\\n",
       "0  24329.390330                   3048                20   \n",
       "1  24234.331350                  19515                75   \n",
       "2  24449.285122                    706                 7   \n",
       "3  24469.582565                   7633                22   \n",
       "4  24514.638897                    108                 3   \n",
       "\n",
       "   Number of isotopic peaks  Isotope correlation  Mass fractional part  ...  \\\n",
       "0                         2             0.999609              0.370635  ...   \n",
       "1                         2             0.992528              0.318792  ...   \n",
       "2                         2             0.999514              0.277105  ...   \n",
       "3                         2             0.998656              0.088801  ...   \n",
       "4                         2             0.999752              0.161303  ...   \n",
       "\n",
       "   Min frame index  Max frame index  Ion mobility index  \\\n",
       "0             5137             5156                 363   \n",
       "1             5351             5425                 501   \n",
       "2             5112             5118                 549   \n",
       "3             4935             4956                 651   \n",
       "4             5032             5034                 645   \n",
       "\n",
       "   Ion mobility index length  Ion mobility index length (FWHM)  Intensity  \\\n",
       "0                         54                                27    31429.0   \n",
       "1                         51                                21    81118.0   \n",
       "2                         75                                27    36051.0   \n",
       "3                        111                                30   295110.0   \n",
       "4                         21                                18     7543.2   \n",
       "\n",
       "   Intensities  Number of pasef MS/MS  Pasef MS/MS IDs  MS/MS scan number  \n",
       "0          NaN                      0              NaN                NaN  \n",
       "1          NaN                      0              NaN                NaN  \n",
       "2          NaN                      0              NaN                NaN  \n",
       "3          NaN                      0              NaN                NaN  \n",
       "4          NaN                      0              NaN                NaN  \n",
       "\n",
       "[5 rows x 24 columns]"
      ]
     },
     "execution_count": 9,
     "metadata": {},
     "output_type": "execute_result"
    }
   ],
   "source": [
    "allpeptides_df.head()"
   ]
  },
  {
   "cell_type": "code",
   "execution_count": 10,
   "metadata": {},
   "outputs": [
    {
     "data": {
      "text/plain": [
       "Index(['Raw file', 'Charge', 'm/z', 'Mass', 'Resolution',\n",
       "       'Number of data points', 'Number of frames', 'Number of isotopic peaks',\n",
       "       'Isotope correlation', 'Mass fractional part', 'Mass deficit',\n",
       "       'Retention time', 'Retention length', 'Retention length (FWHM)',\n",
       "       'Min frame index', 'Max frame index', 'Ion mobility index',\n",
       "       'Ion mobility index length', 'Ion mobility index length (FWHM)',\n",
       "       'Intensity', 'Intensities', 'Number of pasef MS/MS', 'Pasef MS/MS IDs',\n",
       "       'MS/MS scan number'],\n",
       "      dtype='object')"
      ]
     },
     "execution_count": 10,
     "metadata": {},
     "output_type": "execute_result"
    }
   ],
   "source": [
    "allpeptides_df.columns"
   ]
  },
  {
   "cell_type": "code",
   "execution_count": 11,
   "metadata": {},
   "outputs": [],
   "source": [
    "allpeptides_df.rename(columns={'Number of isotopic peaks':'isotope_count', 'm/z':'mz', 'Number of data points':'number_data_points', 'Intensity':'intensity', 'Ion mobility index':'scan', 'Ion mobility index length':'scan_length', 'Ion mobility index length (FWHM)':'scan_length_fwhm', 'Retention time':'rt', 'Retention length':'rt_length', 'Retention length (FWHM)':'rt_length_fwhm', 'Charge':'charge_state'}, inplace=True)"
   ]
  },
  {
   "cell_type": "code",
   "execution_count": 16,
   "metadata": {},
   "outputs": [
    {
     "data": {
      "text/plain": [
       "Index(['Raw file', 'charge_state', 'mz', 'Mass', 'Resolution',\n",
       "       'number_data_points', 'Number of frames', 'isotope_count',\n",
       "       'Isotope correlation', 'Mass fractional part', 'Mass deficit', 'rt',\n",
       "       'rt_length', 'rt_length_fwhm', 'Min frame index', 'Max frame index',\n",
       "       'scan', 'scan_length', 'scan_length_fwhm', 'intensity', 'Intensities',\n",
       "       'Number of pasef MS/MS', 'Pasef MS/MS IDs', 'MS/MS scan number'],\n",
       "      dtype='object')"
      ]
     },
     "execution_count": 16,
     "metadata": {},
     "output_type": "execute_result"
    }
   ],
   "source": [
    "allpeptides_df.columns"
   ]
  },
  {
   "cell_type": "code",
   "execution_count": 12,
   "metadata": {},
   "outputs": [
    {
     "data": {
      "text/html": [
       "<div>\n",
       "<style scoped>\n",
       "    .dataframe tbody tr th:only-of-type {\n",
       "        vertical-align: middle;\n",
       "    }\n",
       "\n",
       "    .dataframe tbody tr th {\n",
       "        vertical-align: top;\n",
       "    }\n",
       "\n",
       "    .dataframe thead th {\n",
       "        text-align: right;\n",
       "    }\n",
       "</style>\n",
       "<table border=\"1\" class=\"dataframe\">\n",
       "  <thead>\n",
       "    <tr style=\"text-align: right;\">\n",
       "      <th></th>\n",
       "      <th>feature_id</th>\n",
       "      <th>charge_state</th>\n",
       "      <th>monoisotopic_mass</th>\n",
       "      <th>feature_centroid_scan</th>\n",
       "      <th>feature_centroid_rt</th>\n",
       "      <th>feature_centroid_mz</th>\n",
       "      <th>feature_start_rt</th>\n",
       "      <th>feature_end_rt</th>\n",
       "      <th>feature_scan_lower</th>\n",
       "      <th>feature_scan_upper</th>\n",
       "      <th>...</th>\n",
       "      <th>base_peak_scan_lower</th>\n",
       "      <th>base_peak_scan_upper</th>\n",
       "      <th>base_peak_centroid_rt</th>\n",
       "      <th>base_peak_std_dev_rt</th>\n",
       "      <th>base_peak_rt_lower</th>\n",
       "      <th>base_peak_rt_upper</th>\n",
       "      <th>base_peak_centroid_mz</th>\n",
       "      <th>base_peak_std_dev_mz</th>\n",
       "      <th>base_peak_mz_lower</th>\n",
       "      <th>base_peak_mz_upper</th>\n",
       "    </tr>\n",
       "  </thead>\n",
       "  <tbody>\n",
       "    <tr>\n",
       "      <th>0</th>\n",
       "      <td>1</td>\n",
       "      <td>2</td>\n",
       "      <td>1789.903876</td>\n",
       "      <td>432.554732</td>\n",
       "      <td>4432.861258</td>\n",
       "      <td>896.398529</td>\n",
       "      <td>4427.824409</td>\n",
       "      <td>4443.177867</td>\n",
       "      <td>422</td>\n",
       "      <td>442</td>\n",
       "      <td>...</td>\n",
       "      <td>422</td>\n",
       "      <td>442</td>\n",
       "      <td>4433.020714</td>\n",
       "      <td>2.598279</td>\n",
       "      <td>4430.187565</td>\n",
       "      <td>4440.816682</td>\n",
       "      <td>895.958387</td>\n",
       "      <td>0.004415</td>\n",
       "      <td>895.917833</td>\n",
       "      <td>895.998069</td>\n",
       "    </tr>\n",
       "    <tr>\n",
       "      <th>1</th>\n",
       "      <td>2</td>\n",
       "      <td>2</td>\n",
       "      <td>1753.793257</td>\n",
       "      <td>414.272995</td>\n",
       "      <td>4459.104625</td>\n",
       "      <td>878.396096</td>\n",
       "      <td>4449.083986</td>\n",
       "      <td>4471.506226</td>\n",
       "      <td>405</td>\n",
       "      <td>425</td>\n",
       "      <td>...</td>\n",
       "      <td>405</td>\n",
       "      <td>425</td>\n",
       "      <td>4459.755071</td>\n",
       "      <td>4.440888</td>\n",
       "      <td>4449.083986</td>\n",
       "      <td>4471.506226</td>\n",
       "      <td>878.405911</td>\n",
       "      <td>0.006066</td>\n",
       "      <td>878.371983</td>\n",
       "      <td>878.442083</td>\n",
       "    </tr>\n",
       "    <tr>\n",
       "      <th>2</th>\n",
       "      <td>3</td>\n",
       "      <td>2</td>\n",
       "      <td>1658.901506</td>\n",
       "      <td>438.122446</td>\n",
       "      <td>4400.319978</td>\n",
       "      <td>830.627797</td>\n",
       "      <td>4390.028733</td>\n",
       "      <td>4412.471973</td>\n",
       "      <td>426</td>\n",
       "      <td>446</td>\n",
       "      <td>...</td>\n",
       "      <td>426</td>\n",
       "      <td>446</td>\n",
       "      <td>4400.557071</td>\n",
       "      <td>2.519410</td>\n",
       "      <td>4390.028733</td>\n",
       "      <td>4412.471973</td>\n",
       "      <td>830.458480</td>\n",
       "      <td>0.005567</td>\n",
       "      <td>830.406597</td>\n",
       "      <td>830.492932</td>\n",
       "    </tr>\n",
       "    <tr>\n",
       "      <th>3</th>\n",
       "      <td>4</td>\n",
       "      <td>2</td>\n",
       "      <td>1424.730227</td>\n",
       "      <td>486.765365</td>\n",
       "      <td>4533.062044</td>\n",
       "      <td>713.624696</td>\n",
       "      <td>4519.935285</td>\n",
       "      <td>4542.374700</td>\n",
       "      <td>472</td>\n",
       "      <td>492</td>\n",
       "      <td>...</td>\n",
       "      <td>472</td>\n",
       "      <td>492</td>\n",
       "      <td>4532.433233</td>\n",
       "      <td>3.352277</td>\n",
       "      <td>4529.382170</td>\n",
       "      <td>4542.374700</td>\n",
       "      <td>713.372265</td>\n",
       "      <td>0.002964</td>\n",
       "      <td>713.340924</td>\n",
       "      <td>713.404096</td>\n",
       "    </tr>\n",
       "    <tr>\n",
       "      <th>4</th>\n",
       "      <td>5</td>\n",
       "      <td>2</td>\n",
       "      <td>1424.729543</td>\n",
       "      <td>482.752245</td>\n",
       "      <td>4529.693034</td>\n",
       "      <td>713.687159</td>\n",
       "      <td>4519.935285</td>\n",
       "      <td>4540.014544</td>\n",
       "      <td>478</td>\n",
       "      <td>496</td>\n",
       "      <td>...</td>\n",
       "      <td>478</td>\n",
       "      <td>493</td>\n",
       "      <td>4529.118263</td>\n",
       "      <td>3.873986</td>\n",
       "      <td>4519.935285</td>\n",
       "      <td>4540.014544</td>\n",
       "      <td>713.372338</td>\n",
       "      <td>0.005519</td>\n",
       "      <td>713.340924</td>\n",
       "      <td>713.408308</td>\n",
       "    </tr>\n",
       "  </tbody>\n",
       "</table>\n",
       "<p>5 rows × 38 columns</p>\n",
       "</div>"
      ],
      "text/plain": [
       "   feature_id  charge_state  monoisotopic_mass  feature_centroid_scan  \\\n",
       "0           1             2        1789.903876             432.554732   \n",
       "1           2             2        1753.793257             414.272995   \n",
       "2           3             2        1658.901506             438.122446   \n",
       "3           4             2        1424.730227             486.765365   \n",
       "4           5             2        1424.729543             482.752245   \n",
       "\n",
       "   feature_centroid_rt  feature_centroid_mz  feature_start_rt  feature_end_rt  \\\n",
       "0          4432.861258           896.398529       4427.824409     4443.177867   \n",
       "1          4459.104625           878.396096       4449.083986     4471.506226   \n",
       "2          4400.319978           830.627797       4390.028733     4412.471973   \n",
       "3          4533.062044           713.624696       4519.935285     4542.374700   \n",
       "4          4529.693034           713.687159       4519.935285     4540.014544   \n",
       "\n",
       "   feature_scan_lower  feature_scan_upper  ...  base_peak_scan_lower  \\\n",
       "0                 422                 442  ...                   422   \n",
       "1                 405                 425  ...                   405   \n",
       "2                 426                 446  ...                   426   \n",
       "3                 472                 492  ...                   472   \n",
       "4                 478                 496  ...                   478   \n",
       "\n",
       "   base_peak_scan_upper  base_peak_centroid_rt  base_peak_std_dev_rt  \\\n",
       "0                   442            4433.020714              2.598279   \n",
       "1                   425            4459.755071              4.440888   \n",
       "2                   446            4400.557071              2.519410   \n",
       "3                   492            4532.433233              3.352277   \n",
       "4                   493            4529.118263              3.873986   \n",
       "\n",
       "   base_peak_rt_lower  base_peak_rt_upper  base_peak_centroid_mz  \\\n",
       "0         4430.187565         4440.816682             895.958387   \n",
       "1         4449.083986         4471.506226             878.405911   \n",
       "2         4390.028733         4412.471973             830.458480   \n",
       "3         4529.382170         4542.374700             713.372265   \n",
       "4         4519.935285         4540.014544             713.372338   \n",
       "\n",
       "   base_peak_std_dev_mz  base_peak_mz_lower  base_peak_mz_upper  \n",
       "0              0.004415          895.917833          895.998069  \n",
       "1              0.006066          878.371983          878.442083  \n",
       "2              0.005567          830.406597          830.492932  \n",
       "3              0.002964          713.340924          713.404096  \n",
       "4              0.005519          713.340924          713.408308  \n",
       "\n",
       "[5 rows x 38 columns]"
      ]
     },
     "execution_count": 12,
     "metadata": {},
     "output_type": "execute_result"
    }
   ],
   "source": [
    "feature_list_df.head()"
   ]
  },
  {
   "cell_type": "code",
   "execution_count": 13,
   "metadata": {},
   "outputs": [],
   "source": [
    "feature_list_subset_df = feature_list_df[[\"feature_id\",\"mono_peak_centroid_mz\",\"mono_peak_centroid_rt\",\"mono_peak_centroid_scan\",\"monoisotopic_mass\",\"feature_summed_intensity\",\"charge_state\"]].copy()"
   ]
  },
  {
   "cell_type": "code",
   "execution_count": 14,
   "metadata": {},
   "outputs": [],
   "source": [
    "feature_list_subset_df.sort_values(by=['feature_summed_intensity'], ascending=False, inplace=True)"
   ]
  },
  {
   "cell_type": "code",
   "execution_count": 15,
   "metadata": {},
   "outputs": [],
   "source": [
    "allpeptides_subset_df = allpeptides_df[[\"mz\",\"intensity\",\"charge_state\",\"rt\",\"scan\"]].copy()\n",
    "allpeptides_subset_df = allpeptides_subset_df[(allpeptides_subset_df.rt >= RT_LIMIT_LOWER) & (allpeptides_subset_df.rt <= RT_LIMIT_UPPER)]"
   ]
  },
  {
   "cell_type": "code",
   "execution_count": 15,
   "metadata": {},
   "outputs": [
    {
     "data": {
      "text/html": [
       "<div>\n",
       "<style scoped>\n",
       "    .dataframe tbody tr th:only-of-type {\n",
       "        vertical-align: middle;\n",
       "    }\n",
       "\n",
       "    .dataframe tbody tr th {\n",
       "        vertical-align: top;\n",
       "    }\n",
       "\n",
       "    .dataframe thead th {\n",
       "        text-align: right;\n",
       "    }\n",
       "</style>\n",
       "<table border=\"1\" class=\"dataframe\">\n",
       "  <thead>\n",
       "    <tr style=\"text-align: right;\">\n",
       "      <th></th>\n",
       "      <th>mz</th>\n",
       "      <th>intensity</th>\n",
       "      <th>charge_state</th>\n",
       "      <th>rt</th>\n",
       "      <th>scan</th>\n",
       "    </tr>\n",
       "  </thead>\n",
       "  <tbody>\n",
       "    <tr>\n",
       "      <th>273238</th>\n",
       "      <td>895.95670</td>\n",
       "      <td>26707000.0</td>\n",
       "      <td>2</td>\n",
       "      <td>4432.552</td>\n",
       "      <td>363</td>\n",
       "    </tr>\n",
       "    <tr>\n",
       "      <th>271311</th>\n",
       "      <td>877.90152</td>\n",
       "      <td>16367000.0</td>\n",
       "      <td>2</td>\n",
       "      <td>4457.345</td>\n",
       "      <td>411</td>\n",
       "    </tr>\n",
       "    <tr>\n",
       "      <th>258239</th>\n",
       "      <td>830.45670</td>\n",
       "      <td>10780000.0</td>\n",
       "      <td>2</td>\n",
       "      <td>4398.299</td>\n",
       "      <td>435</td>\n",
       "    </tr>\n",
       "    <tr>\n",
       "      <th>272371</th>\n",
       "      <td>890.44758</td>\n",
       "      <td>9524100.0</td>\n",
       "      <td>2</td>\n",
       "      <td>4512.851</td>\n",
       "      <td>348</td>\n",
       "    </tr>\n",
       "    <tr>\n",
       "      <th>257004</th>\n",
       "      <td>821.89394</td>\n",
       "      <td>8506200.0</td>\n",
       "      <td>2</td>\n",
       "      <td>4536.471</td>\n",
       "      <td>465</td>\n",
       "    </tr>\n",
       "  </tbody>\n",
       "</table>\n",
       "</div>"
      ],
      "text/plain": [
       "               mz   intensity  charge_state        rt  scan\n",
       "273238  895.95670  26707000.0             2  4432.552   363\n",
       "271311  877.90152  16367000.0             2  4457.345   411\n",
       "258239  830.45670  10780000.0             2  4398.299   435\n",
       "272371  890.44758   9524100.0             2  4512.851   348\n",
       "257004  821.89394   8506200.0             2  4536.471   465"
      ]
     },
     "execution_count": 15,
     "metadata": {},
     "output_type": "execute_result"
    }
   ],
   "source": [
    "allpeptides_subset_df.sort_values(by=['intensity'], ascending=False).head()"
   ]
  },
  {
   "cell_type": "markdown",
   "metadata": {},
   "source": [
    "Enumerate the MQ features"
   ]
  },
  {
   "cell_type": "code",
   "execution_count": 16,
   "metadata": {},
   "outputs": [],
   "source": [
    "allpeptides_subset_df = allpeptides_subset_df[allpeptides_subset_df.intensity.notnull()].copy()\n",
    "\n",
    "allpeptides_subset_df.sort_values(by=['intensity'], ascending=False, inplace=True)\n",
    "allpeptides_subset_df[\"mq_feature_id\"] = np.arange(start=1, stop=len(allpeptides_subset_df)+1)"
   ]
  },
  {
   "cell_type": "code",
   "execution_count": 17,
   "metadata": {},
   "outputs": [],
   "source": [
    "import pickle\n",
    "allpeptides_subset_df.to_pickle(\"{}/allpeptides_subset_df.pkl\".format(BASE_NAME))"
   ]
  },
  {
   "cell_type": "code",
   "execution_count": 18,
   "metadata": {},
   "outputs": [],
   "source": [
    "MZ_TOLERANCE_PPM = 5\n",
    "MZ_TOLERANCE_PERCENT = MZ_TOLERANCE_PPM * 10**-4 \n",
    "RT_TOLERANCE_SECS = 5\n",
    "DRIFT_TOLERANCE = 5\n",
    "\n",
    "allpeptides_subset_df[\"mz_delta\"] = allpeptides_subset_df.mz * MZ_TOLERANCE_PERCENT / 100\n",
    "allpeptides_subset_df[\"mz_upper\"] = allpeptides_subset_df.mz + allpeptides_subset_df.mz_delta\n",
    "allpeptides_subset_df[\"mz_lower\"] = allpeptides_subset_df.mz - allpeptides_subset_df.mz_delta\n",
    "\n",
    "allpeptides_subset_df[\"rt_upper\"] = allpeptides_subset_df.rt + RT_TOLERANCE_SECS\n",
    "allpeptides_subset_df[\"rt_lower\"] = allpeptides_subset_df.rt - RT_TOLERANCE_SECS\n",
    "\n",
    "allpeptides_subset_df[\"drift_upper\"] = allpeptides_subset_df.scan + DRIFT_TOLERANCE\n",
    "allpeptides_subset_df[\"drift_lower\"] = allpeptides_subset_df.scan - DRIFT_TOLERANCE"
   ]
  },
  {
   "cell_type": "code",
   "execution_count": 19,
   "metadata": {},
   "outputs": [
    {
     "data": {
      "text/html": [
       "<div>\n",
       "<style scoped>\n",
       "    .dataframe tbody tr th:only-of-type {\n",
       "        vertical-align: middle;\n",
       "    }\n",
       "\n",
       "    .dataframe tbody tr th {\n",
       "        vertical-align: top;\n",
       "    }\n",
       "\n",
       "    .dataframe thead th {\n",
       "        text-align: right;\n",
       "    }\n",
       "</style>\n",
       "<table border=\"1\" class=\"dataframe\">\n",
       "  <thead>\n",
       "    <tr style=\"text-align: right;\">\n",
       "      <th></th>\n",
       "      <th>mz</th>\n",
       "      <th>intensity</th>\n",
       "      <th>charge_state</th>\n",
       "      <th>rt</th>\n",
       "      <th>scan</th>\n",
       "      <th>mq_feature_id</th>\n",
       "      <th>mz_delta</th>\n",
       "      <th>mz_upper</th>\n",
       "      <th>mz_lower</th>\n",
       "      <th>rt_upper</th>\n",
       "      <th>rt_lower</th>\n",
       "      <th>drift_upper</th>\n",
       "      <th>drift_lower</th>\n",
       "    </tr>\n",
       "  </thead>\n",
       "  <tbody>\n",
       "    <tr>\n",
       "      <th>273238</th>\n",
       "      <td>895.95670</td>\n",
       "      <td>26707000.0</td>\n",
       "      <td>2</td>\n",
       "      <td>4432.552</td>\n",
       "      <td>363</td>\n",
       "      <td>1</td>\n",
       "      <td>0.004480</td>\n",
       "      <td>895.961180</td>\n",
       "      <td>895.952220</td>\n",
       "      <td>4437.552</td>\n",
       "      <td>4427.552</td>\n",
       "      <td>368</td>\n",
       "      <td>358</td>\n",
       "    </tr>\n",
       "    <tr>\n",
       "      <th>271311</th>\n",
       "      <td>877.90152</td>\n",
       "      <td>16367000.0</td>\n",
       "      <td>2</td>\n",
       "      <td>4457.345</td>\n",
       "      <td>411</td>\n",
       "      <td>2</td>\n",
       "      <td>0.004390</td>\n",
       "      <td>877.905910</td>\n",
       "      <td>877.897130</td>\n",
       "      <td>4462.345</td>\n",
       "      <td>4452.345</td>\n",
       "      <td>416</td>\n",
       "      <td>406</td>\n",
       "    </tr>\n",
       "    <tr>\n",
       "      <th>258239</th>\n",
       "      <td>830.45670</td>\n",
       "      <td>10780000.0</td>\n",
       "      <td>2</td>\n",
       "      <td>4398.299</td>\n",
       "      <td>435</td>\n",
       "      <td>3</td>\n",
       "      <td>0.004152</td>\n",
       "      <td>830.460852</td>\n",
       "      <td>830.452548</td>\n",
       "      <td>4403.299</td>\n",
       "      <td>4393.299</td>\n",
       "      <td>440</td>\n",
       "      <td>430</td>\n",
       "    </tr>\n",
       "    <tr>\n",
       "      <th>272371</th>\n",
       "      <td>890.44758</td>\n",
       "      <td>9524100.0</td>\n",
       "      <td>2</td>\n",
       "      <td>4512.851</td>\n",
       "      <td>348</td>\n",
       "      <td>4</td>\n",
       "      <td>0.004452</td>\n",
       "      <td>890.452032</td>\n",
       "      <td>890.443128</td>\n",
       "      <td>4517.851</td>\n",
       "      <td>4507.851</td>\n",
       "      <td>353</td>\n",
       "      <td>343</td>\n",
       "    </tr>\n",
       "    <tr>\n",
       "      <th>257004</th>\n",
       "      <td>821.89394</td>\n",
       "      <td>8506200.0</td>\n",
       "      <td>2</td>\n",
       "      <td>4536.471</td>\n",
       "      <td>465</td>\n",
       "      <td>5</td>\n",
       "      <td>0.004109</td>\n",
       "      <td>821.898049</td>\n",
       "      <td>821.889831</td>\n",
       "      <td>4541.471</td>\n",
       "      <td>4531.471</td>\n",
       "      <td>470</td>\n",
       "      <td>460</td>\n",
       "    </tr>\n",
       "  </tbody>\n",
       "</table>\n",
       "</div>"
      ],
      "text/plain": [
       "               mz   intensity  charge_state        rt  scan  mq_feature_id  \\\n",
       "273238  895.95670  26707000.0             2  4432.552   363              1   \n",
       "271311  877.90152  16367000.0             2  4457.345   411              2   \n",
       "258239  830.45670  10780000.0             2  4398.299   435              3   \n",
       "272371  890.44758   9524100.0             2  4512.851   348              4   \n",
       "257004  821.89394   8506200.0             2  4536.471   465              5   \n",
       "\n",
       "        mz_delta    mz_upper    mz_lower  rt_upper  rt_lower  drift_upper  \\\n",
       "273238  0.004480  895.961180  895.952220  4437.552  4427.552          368   \n",
       "271311  0.004390  877.905910  877.897130  4462.345  4452.345          416   \n",
       "258239  0.004152  830.460852  830.452548  4403.299  4393.299          440   \n",
       "272371  0.004452  890.452032  890.443128  4517.851  4507.851          353   \n",
       "257004  0.004109  821.898049  821.889831  4541.471  4531.471          470   \n",
       "\n",
       "        drift_lower  \n",
       "273238          358  \n",
       "271311          406  \n",
       "258239          430  \n",
       "272371          343  \n",
       "257004          460  "
      ]
     },
     "execution_count": 19,
     "metadata": {},
     "output_type": "execute_result"
    }
   ],
   "source": [
    "allpeptides_subset_df.head()"
   ]
  },
  {
   "cell_type": "code",
   "execution_count": 20,
   "metadata": {},
   "outputs": [],
   "source": [
    "match_list = []\n",
    "\n",
    "for mq_idx in range(len(allpeptides_subset_df)):\n",
    "    mq_feature_df = allpeptides_subset_df.iloc[mq_idx]\n",
    "    \n",
    "    mq_feature_id = mq_feature_df.mq_feature_id\n",
    "    \n",
    "    mz_lower = mq_feature_df.mz_lower\n",
    "    mz_upper = mq_feature_df.mz_upper\n",
    "    rt_lower = mq_feature_df.rt_lower\n",
    "    rt_upper = mq_feature_df.rt_upper\n",
    "    drift_lower = mq_feature_df.drift_lower\n",
    "    drift_upper = mq_feature_df.drift_upper\n",
    "    charge_state = mq_feature_df.charge_state\n",
    "\n",
    "    matches_df = feature_list_subset_df[\n",
    "                                (\n",
    "                                    (feature_list_subset_df.mono_peak_centroid_mz >= mz_lower) &\n",
    "                                    (feature_list_subset_df.mono_peak_centroid_mz <= mz_upper)\n",
    "                                ) &\n",
    "                                (\n",
    "                                    (feature_list_subset_df.mono_peak_centroid_rt >= rt_lower) &\n",
    "                                    (feature_list_subset_df.mono_peak_centroid_rt <= rt_upper)\n",
    "                                ) &\n",
    "                                (\n",
    "                                    (feature_list_subset_df.mono_peak_centroid_scan >= drift_lower) &\n",
    "                                    (feature_list_subset_df.mono_peak_centroid_scan <= drift_upper)\n",
    "                                ) &\n",
    "                                (\n",
    "                                    charge_state == feature_list_subset_df.charge_state\n",
    "                                )\n",
    "    ]\n",
    "    \n",
    "    for match_idx in range(len(matches_df)):\n",
    "        feature_id = matches_df.iloc[match_idx].feature_id\n",
    "        match_list.append((int(mq_feature_id), int(feature_id)))\n"
   ]
  },
  {
   "cell_type": "code",
   "execution_count": 21,
   "metadata": {},
   "outputs": [],
   "source": [
    "match_list_df = pd.DataFrame(match_list, columns=['mq_feature_id','feature_id'])"
   ]
  },
  {
   "cell_type": "code",
   "execution_count": 22,
   "metadata": {},
   "outputs": [
    {
     "data": {
      "text/plain": [
       "2593"
      ]
     },
     "execution_count": 22,
     "metadata": {},
     "output_type": "execute_result"
    }
   ],
   "source": [
    "len(match_list_df)"
   ]
  },
  {
   "cell_type": "code",
   "execution_count": 23,
   "metadata": {},
   "outputs": [
    {
     "data": {
      "text/html": [
       "<div>\n",
       "<style scoped>\n",
       "    .dataframe tbody tr th:only-of-type {\n",
       "        vertical-align: middle;\n",
       "    }\n",
       "\n",
       "    .dataframe tbody tr th {\n",
       "        vertical-align: top;\n",
       "    }\n",
       "\n",
       "    .dataframe thead th {\n",
       "        text-align: right;\n",
       "    }\n",
       "</style>\n",
       "<table border=\"1\" class=\"dataframe\">\n",
       "  <thead>\n",
       "    <tr style=\"text-align: right;\">\n",
       "      <th></th>\n",
       "      <th>mq_feature_id</th>\n",
       "      <th>feature_id</th>\n",
       "    </tr>\n",
       "  </thead>\n",
       "  <tbody>\n",
       "    <tr>\n",
       "      <th>0</th>\n",
       "      <td>1</td>\n",
       "      <td>39</td>\n",
       "    </tr>\n",
       "    <tr>\n",
       "      <th>1</th>\n",
       "      <td>2</td>\n",
       "      <td>2</td>\n",
       "    </tr>\n",
       "    <tr>\n",
       "      <th>2</th>\n",
       "      <td>2</td>\n",
       "      <td>207</td>\n",
       "    </tr>\n",
       "    <tr>\n",
       "      <th>3</th>\n",
       "      <td>3</td>\n",
       "      <td>45</td>\n",
       "    </tr>\n",
       "    <tr>\n",
       "      <th>4</th>\n",
       "      <td>3</td>\n",
       "      <td>3</td>\n",
       "    </tr>\n",
       "  </tbody>\n",
       "</table>\n",
       "</div>"
      ],
      "text/plain": [
       "   mq_feature_id  feature_id\n",
       "0              1          39\n",
       "1              2           2\n",
       "2              2         207\n",
       "3              3          45\n",
       "4              3           3"
      ]
     },
     "execution_count": 23,
     "metadata": {},
     "output_type": "execute_result"
    }
   ],
   "source": [
    "match_list_df.sort_values(by=['mq_feature_id'], ascending=True, inplace=False).head()"
   ]
  },
  {
   "cell_type": "code",
   "execution_count": 24,
   "metadata": {},
   "outputs": [],
   "source": [
    "mq_feature_match_counts = match_list_df.mq_feature_id.value_counts()"
   ]
  },
  {
   "cell_type": "code",
   "execution_count": 25,
   "metadata": {},
   "outputs": [
    {
     "data": {
      "text/plain": [
       "2258    1\n",
       "211     1\n",
       "213     1\n",
       "2262    1\n",
       "2047    1\n",
       "Name: mq_feature_id, dtype: int64"
      ]
     },
     "execution_count": 25,
     "metadata": {},
     "output_type": "execute_result"
    }
   ],
   "source": [
    "mq_feature_match_counts.tail()"
   ]
  },
  {
   "cell_type": "code",
   "execution_count": 26,
   "metadata": {},
   "outputs": [
    {
     "data": {
      "image/png": "[encoded data removed]",
      "text/plain": [
       "<Figure size 720x360 with 1 Axes>"
      ]
     },
     "metadata": {
      "needs_background": "light"
     },
     "output_type": "display_data"
    }
   ],
   "source": [
    "f, ax1 = plt.subplots()\n",
    "f.set_figheight(5)\n",
    "f.set_figwidth(10)\n",
    "plt.hist(mq_feature_match_counts, bins=np.arange(start=0, stop=8)-0.5, rwidth=0.6)\n",
    "plt.xlabel('number of matches')\n",
    "plt.ylabel('feature count')\n",
    "plt.margins(0.06)\n",
    "plt.suptitle('Number of detected features matching each MQ feature in a {}-second window of the elution'.format(RT_LIMIT_UPPER-RT_LIMIT_LOWER))\n",
    "plt.title('Matching features with monoisotopic peak centroid within +/- {} ppm m/z, drift +/- {}, RT +/- {} secs'.format(MZ_TOLERANCE_PPM, DRIFT_TOLERANCE, RT_TOLERANCE_SECS))\n",
    "plt.show()"
   ]
  },
  {
   "cell_type": "markdown",
   "metadata": {},
   "source": [
    "For each detected feature, how many matching MQ features are there?"
   ]
  },
  {
   "cell_type": "code",
   "execution_count": 27,
   "metadata": {},
   "outputs": [],
   "source": [
    "feature_list_subset_df[\"mz_delta\"] = feature_list_subset_df.mono_peak_centroid_mz * MZ_TOLERANCE_PERCENT / 100\n",
    "feature_list_subset_df[\"mz_upper\"] = feature_list_subset_df.mono_peak_centroid_mz + feature_list_subset_df.mz_delta\n",
    "feature_list_subset_df[\"mz_lower\"] = feature_list_subset_df.mono_peak_centroid_mz - feature_list_subset_df.mz_delta\n",
    "\n",
    "feature_list_subset_df[\"rt_upper\"] = feature_list_subset_df.mono_peak_centroid_rt + RT_TOLERANCE_SECS\n",
    "feature_list_subset_df[\"rt_lower\"] = feature_list_subset_df.mono_peak_centroid_rt - RT_TOLERANCE_SECS\n",
    "\n",
    "feature_list_subset_df[\"drift_upper\"] = feature_list_subset_df.mono_peak_centroid_scan + DRIFT_TOLERANCE\n",
    "feature_list_subset_df[\"drift_lower\"] = feature_list_subset_df.mono_peak_centroid_scan - DRIFT_TOLERANCE"
   ]
  },
  {
   "cell_type": "code",
   "execution_count": 28,
   "metadata": {},
   "outputs": [],
   "source": [
    "match_list = []\n",
    "\n",
    "for idx in range(len(feature_list_subset_df)):\n",
    "    feature_df = feature_list_subset_df.iloc[idx]\n",
    "    \n",
    "    feature_id = feature_df.feature_id\n",
    "    \n",
    "    mz_lower = feature_df.mz_lower\n",
    "    mz_upper = feature_df.mz_upper\n",
    "    rt_lower = feature_df.rt_lower\n",
    "    rt_upper = feature_df.rt_upper\n",
    "    drift_lower = feature_df.drift_lower\n",
    "    drift_upper = feature_df.drift_upper\n",
    "    charge_state = feature_df.charge_state\n",
    "\n",
    "    matches_df = allpeptides_subset_df[\n",
    "                                (\n",
    "                                    (allpeptides_subset_df.mz >= mz_lower) &\n",
    "                                    (allpeptides_subset_df.mz <= mz_upper)\n",
    "                                ) &\n",
    "                                (\n",
    "                                    (allpeptides_subset_df.rt >= rt_lower) &\n",
    "                                    (allpeptides_subset_df.rt <= rt_upper)\n",
    "                                ) &\n",
    "                                (\n",
    "                                    (allpeptides_subset_df.scan >= drift_lower) &\n",
    "                                    (allpeptides_subset_df.scan <= drift_upper)\n",
    "                                ) &\n",
    "                                (\n",
    "                                    charge_state == allpeptides_subset_df.charge_state\n",
    "                                )\n",
    "    ]\n",
    "    \n",
    "    for match_idx in range(len(matches_df)):\n",
    "        mq_feature_id = matches_df.iloc[match_idx].mq_feature_id\n",
    "        match_list.append((int(feature_id), int(mq_feature_id)))\n"
   ]
  },
  {
   "cell_type": "code",
   "execution_count": 29,
   "metadata": {},
   "outputs": [],
   "source": [
    "mq_match_list_df = pd.DataFrame(match_list, columns=['feature_id','mq_feature_id'])"
   ]
  },
  {
   "cell_type": "code",
   "execution_count": 30,
   "metadata": {},
   "outputs": [
    {
     "data": {
      "text/html": [
       "<div>\n",
       "<style scoped>\n",
       "    .dataframe tbody tr th:only-of-type {\n",
       "        vertical-align: middle;\n",
       "    }\n",
       "\n",
       "    .dataframe tbody tr th {\n",
       "        vertical-align: top;\n",
       "    }\n",
       "\n",
       "    .dataframe thead th {\n",
       "        text-align: right;\n",
       "    }\n",
       "</style>\n",
       "<table border=\"1\" class=\"dataframe\">\n",
       "  <thead>\n",
       "    <tr style=\"text-align: right;\">\n",
       "      <th></th>\n",
       "      <th>feature_id</th>\n",
       "      <th>mq_feature_id</th>\n",
       "    </tr>\n",
       "  </thead>\n",
       "  <tbody>\n",
       "    <tr>\n",
       "      <th>0</th>\n",
       "      <td>33</td>\n",
       "      <td>20</td>\n",
       "    </tr>\n",
       "    <tr>\n",
       "      <th>1</th>\n",
       "      <td>46</td>\n",
       "      <td>14</td>\n",
       "    </tr>\n",
       "    <tr>\n",
       "      <th>2</th>\n",
       "      <td>60</td>\n",
       "      <td>79</td>\n",
       "    </tr>\n",
       "    <tr>\n",
       "      <th>3</th>\n",
       "      <td>72</td>\n",
       "      <td>51</td>\n",
       "    </tr>\n",
       "    <tr>\n",
       "      <th>4</th>\n",
       "      <td>27</td>\n",
       "      <td>241</td>\n",
       "    </tr>\n",
       "  </tbody>\n",
       "</table>\n",
       "</div>"
      ],
      "text/plain": [
       "   feature_id  mq_feature_id\n",
       "0          33             20\n",
       "1          46             14\n",
       "2          60             79\n",
       "3          72             51\n",
       "4          27            241"
      ]
     },
     "execution_count": 30,
     "metadata": {},
     "output_type": "execute_result"
    }
   ],
   "source": [
    "mq_match_list_df.head()"
   ]
  },
  {
   "cell_type": "code",
   "execution_count": 31,
   "metadata": {},
   "outputs": [
    {
     "data": {
      "text/plain": [
       "2593"
      ]
     },
     "execution_count": 31,
     "metadata": {},
     "output_type": "execute_result"
    }
   ],
   "source": [
    "len(mq_match_list_df)"
   ]
  },
  {
   "cell_type": "code",
   "execution_count": 32,
   "metadata": {},
   "outputs": [
    {
     "data": {
      "text/html": [
       "<div>\n",
       "<style scoped>\n",
       "    .dataframe tbody tr th:only-of-type {\n",
       "        vertical-align: middle;\n",
       "    }\n",
       "\n",
       "    .dataframe tbody tr th {\n",
       "        vertical-align: top;\n",
       "    }\n",
       "\n",
       "    .dataframe thead th {\n",
       "        text-align: right;\n",
       "    }\n",
       "</style>\n",
       "<table border=\"1\" class=\"dataframe\">\n",
       "  <thead>\n",
       "    <tr style=\"text-align: right;\">\n",
       "      <th></th>\n",
       "      <th>feature_id</th>\n",
       "      <th>mq_feature_id</th>\n",
       "    </tr>\n",
       "  </thead>\n",
       "  <tbody>\n",
       "    <tr>\n",
       "      <th>7</th>\n",
       "      <td>2</td>\n",
       "      <td>2</td>\n",
       "    </tr>\n",
       "    <tr>\n",
       "      <th>99</th>\n",
       "      <td>3</td>\n",
       "      <td>3</td>\n",
       "    </tr>\n",
       "    <tr>\n",
       "      <th>5</th>\n",
       "      <td>7</td>\n",
       "      <td>35</td>\n",
       "    </tr>\n",
       "    <tr>\n",
       "      <th>16</th>\n",
       "      <td>23</td>\n",
       "      <td>52</td>\n",
       "    </tr>\n",
       "    <tr>\n",
       "      <th>9</th>\n",
       "      <td>26</td>\n",
       "      <td>8</td>\n",
       "    </tr>\n",
       "  </tbody>\n",
       "</table>\n",
       "</div>"
      ],
      "text/plain": [
       "    feature_id  mq_feature_id\n",
       "7            2              2\n",
       "99           3              3\n",
       "5            7             35\n",
       "16          23             52\n",
       "9           26              8"
      ]
     },
     "execution_count": 32,
     "metadata": {},
     "output_type": "execute_result"
    }
   ],
   "source": [
    "mq_match_list_df.sort_values(by=['feature_id'], ascending=True, inplace=False).head()"
   ]
  },
  {
   "cell_type": "code",
   "execution_count": 33,
   "metadata": {},
   "outputs": [
    {
     "data": {
      "text/html": [
       "<div>\n",
       "<style scoped>\n",
       "    .dataframe tbody tr th:only-of-type {\n",
       "        vertical-align: middle;\n",
       "    }\n",
       "\n",
       "    .dataframe tbody tr th {\n",
       "        vertical-align: top;\n",
       "    }\n",
       "\n",
       "    .dataframe thead th {\n",
       "        text-align: right;\n",
       "    }\n",
       "</style>\n",
       "<table border=\"1\" class=\"dataframe\">\n",
       "  <thead>\n",
       "    <tr style=\"text-align: right;\">\n",
       "      <th></th>\n",
       "      <th>feature_id</th>\n",
       "      <th>mq_feature_id</th>\n",
       "    </tr>\n",
       "  </thead>\n",
       "  <tbody>\n",
       "    <tr>\n",
       "      <th>2334</th>\n",
       "      <td>9434</td>\n",
       "      <td>1855</td>\n",
       "    </tr>\n",
       "    <tr>\n",
       "      <th>2478</th>\n",
       "      <td>9436</td>\n",
       "      <td>1745</td>\n",
       "    </tr>\n",
       "    <tr>\n",
       "      <th>2537</th>\n",
       "      <td>9438</td>\n",
       "      <td>6974</td>\n",
       "    </tr>\n",
       "    <tr>\n",
       "      <th>2427</th>\n",
       "      <td>9439</td>\n",
       "      <td>7171</td>\n",
       "    </tr>\n",
       "    <tr>\n",
       "      <th>2484</th>\n",
       "      <td>9440</td>\n",
       "      <td>3599</td>\n",
       "    </tr>\n",
       "  </tbody>\n",
       "</table>\n",
       "</div>"
      ],
      "text/plain": [
       "      feature_id  mq_feature_id\n",
       "2334        9434           1855\n",
       "2478        9436           1745\n",
       "2537        9438           6974\n",
       "2427        9439           7171\n",
       "2484        9440           3599"
      ]
     },
     "execution_count": 33,
     "metadata": {},
     "output_type": "execute_result"
    }
   ],
   "source": [
    "mq_match_list_df.sort_values(by=['feature_id'], ascending=True, inplace=False).tail()"
   ]
  },
  {
   "cell_type": "code",
   "execution_count": 34,
   "metadata": {},
   "outputs": [],
   "source": [
    "feature_match_counts = mq_match_list_df.feature_id.value_counts()"
   ]
  },
  {
   "cell_type": "code",
   "execution_count": 35,
   "metadata": {},
   "outputs": [
    {
     "data": {
      "text/plain": [
       "2670    1\n",
       "2668    1\n",
       "619     1\n",
       "8809    1\n",
       "4096    1\n",
       "Name: feature_id, dtype: int64"
      ]
     },
     "execution_count": 35,
     "metadata": {},
     "output_type": "execute_result"
    }
   ],
   "source": [
    "feature_match_counts.tail()"
   ]
  },
  {
   "cell_type": "code",
   "execution_count": 36,
   "metadata": {},
   "outputs": [
    {
     "data": {
      "image/png": "[encoded data removed]",
      "text/plain": [
       "<Figure size 720x360 with 1 Axes>"
      ]
     },
     "metadata": {
      "needs_background": "light"
     },
     "output_type": "display_data"
    }
   ],
   "source": [
    "f, ax1 = plt.subplots()\n",
    "f.set_figheight(5)\n",
    "f.set_figwidth(10)\n",
    "plt.hist(feature_match_counts, bins=np.arange(start=0, stop=8)-0.5, rwidth=0.6)\n",
    "plt.xlabel('number of matches')\n",
    "plt.ylabel('feature count')\n",
    "plt.margins(0.06)\n",
    "plt.suptitle('Number of MQ features matching each detected feature in a {}-second window of the elution'.format(RT_LIMIT_UPPER-RT_LIMIT_LOWER))\n",
    "plt.title('Matching features with monoisotopic peak centroid within +/- {} ppm m/z, drift +/- {}, RT +/- {} secs'.format(MZ_TOLERANCE_PPM, DRIFT_TOLERANCE, RT_TOLERANCE_SECS))\n",
    "plt.show()"
   ]
  },
  {
   "cell_type": "code",
   "execution_count": 37,
   "metadata": {},
   "outputs": [
    {
     "data": {
      "text/plain": [
       "16610"
      ]
     },
     "execution_count": 37,
     "metadata": {},
     "output_type": "execute_result"
    }
   ],
   "source": [
    "# total features found by MQ\n",
    "len(allpeptides_subset_df)"
   ]
  },
  {
   "cell_type": "code",
   "execution_count": 38,
   "metadata": {},
   "outputs": [
    {
     "data": {
      "text/plain": [
       "2593"
      ]
     },
     "execution_count": 38,
     "metadata": {},
     "output_type": "execute_result"
    }
   ],
   "source": [
    "# features found by MQ also found by my pipeline\n",
    "len(match_list_df)"
   ]
  },
  {
   "cell_type": "code",
   "execution_count": 39,
   "metadata": {},
   "outputs": [
    {
     "data": {
      "text/plain": [
       "9318"
      ]
     },
     "execution_count": 39,
     "metadata": {},
     "output_type": "execute_result"
    }
   ],
   "source": [
    "# total features found by my pipeline\n",
    "len(feature_list_subset_df)"
   ]
  },
  {
   "cell_type": "code",
   "execution_count": 40,
   "metadata": {},
   "outputs": [
    {
     "data": {
      "text/html": [
       "<div>\n",
       "<style scoped>\n",
       "    .dataframe tbody tr th:only-of-type {\n",
       "        vertical-align: middle;\n",
       "    }\n",
       "\n",
       "    .dataframe tbody tr th {\n",
       "        vertical-align: top;\n",
       "    }\n",
       "\n",
       "    .dataframe thead th {\n",
       "        text-align: right;\n",
       "    }\n",
       "</style>\n",
       "<table border=\"1\" class=\"dataframe\">\n",
       "  <thead>\n",
       "    <tr style=\"text-align: right;\">\n",
       "      <th></th>\n",
       "      <th>feature_id</th>\n",
       "      <th>mono_peak_centroid_mz</th>\n",
       "      <th>mono_peak_centroid_rt</th>\n",
       "      <th>mono_peak_centroid_scan</th>\n",
       "      <th>monoisotopic_mass</th>\n",
       "      <th>feature_summed_intensity</th>\n",
       "      <th>charge_state</th>\n",
       "      <th>mz_delta</th>\n",
       "      <th>mz_upper</th>\n",
       "      <th>mz_lower</th>\n",
       "      <th>rt_upper</th>\n",
       "      <th>rt_lower</th>\n",
       "      <th>drift_upper</th>\n",
       "      <th>drift_lower</th>\n",
       "    </tr>\n",
       "  </thead>\n",
       "  <tbody>\n",
       "    <tr>\n",
       "      <th>14</th>\n",
       "      <td>16</td>\n",
       "      <td>561.288657</td>\n",
       "      <td>4399.253358</td>\n",
       "      <td>635.482727</td>\n",
       "      <td>1120.563433</td>\n",
       "      <td>6320648</td>\n",
       "      <td>2</td>\n",
       "      <td>0.002806</td>\n",
       "      <td>561.291464</td>\n",
       "      <td>561.285851</td>\n",
       "      <td>4404.253358</td>\n",
       "      <td>4394.253358</td>\n",
       "      <td>640.482727</td>\n",
       "      <td>630.482727</td>\n",
       "    </tr>\n",
       "    <tr>\n",
       "      <th>4</th>\n",
       "      <td>5</td>\n",
       "      <td>713.372338</td>\n",
       "      <td>4529.118263</td>\n",
       "      <td>482.402279</td>\n",
       "      <td>1424.729543</td>\n",
       "      <td>6165001</td>\n",
       "      <td>2</td>\n",
       "      <td>0.003567</td>\n",
       "      <td>713.375905</td>\n",
       "      <td>713.368771</td>\n",
       "      <td>4534.118263</td>\n",
       "      <td>4524.118263</td>\n",
       "      <td>487.402279</td>\n",
       "      <td>477.402279</td>\n",
       "    </tr>\n",
       "    <tr>\n",
       "      <th>31</th>\n",
       "      <td>33</td>\n",
       "      <td>648.880952</td>\n",
       "      <td>4465.630934</td>\n",
       "      <td>547.362841</td>\n",
       "      <td>1295.747012</td>\n",
       "      <td>5424951</td>\n",
       "      <td>2</td>\n",
       "      <td>0.003244</td>\n",
       "      <td>648.884197</td>\n",
       "      <td>648.877708</td>\n",
       "      <td>4470.630934</td>\n",
       "      <td>4460.630934</td>\n",
       "      <td>552.362841</td>\n",
       "      <td>542.362841</td>\n",
       "    </tr>\n",
       "    <tr>\n",
       "      <th>44</th>\n",
       "      <td>46</td>\n",
       "      <td>681.025846</td>\n",
       "      <td>4423.473243</td>\n",
       "      <td>498.254684</td>\n",
       "      <td>2040.053006</td>\n",
       "      <td>5330614</td>\n",
       "      <td>3</td>\n",
       "      <td>0.003405</td>\n",
       "      <td>681.029251</td>\n",
       "      <td>681.022440</td>\n",
       "      <td>4428.473243</td>\n",
       "      <td>4418.473243</td>\n",
       "      <td>503.254684</td>\n",
       "      <td>493.254684</td>\n",
       "    </tr>\n",
       "    <tr>\n",
       "      <th>58</th>\n",
       "      <td>60</td>\n",
       "      <td>530.779643</td>\n",
       "      <td>4416.990095</td>\n",
       "      <td>661.146634</td>\n",
       "      <td>1059.544137</td>\n",
       "      <td>4879618</td>\n",
       "      <td>2</td>\n",
       "      <td>0.002654</td>\n",
       "      <td>530.782297</td>\n",
       "      <td>530.776989</td>\n",
       "      <td>4421.990095</td>\n",
       "      <td>4411.990095</td>\n",
       "      <td>666.146634</td>\n",
       "      <td>656.146634</td>\n",
       "    </tr>\n",
       "  </tbody>\n",
       "</table>\n",
       "</div>"
      ],
      "text/plain": [
       "    feature_id  mono_peak_centroid_mz  mono_peak_centroid_rt  \\\n",
       "14          16             561.288657            4399.253358   \n",
       "4            5             713.372338            4529.118263   \n",
       "31          33             648.880952            4465.630934   \n",
       "44          46             681.025846            4423.473243   \n",
       "58          60             530.779643            4416.990095   \n",
       "\n",
       "    mono_peak_centroid_scan  monoisotopic_mass  feature_summed_intensity  \\\n",
       "14               635.482727        1120.563433                   6320648   \n",
       "4                482.402279        1424.729543                   6165001   \n",
       "31               547.362841        1295.747012                   5424951   \n",
       "44               498.254684        2040.053006                   5330614   \n",
       "58               661.146634        1059.544137                   4879618   \n",
       "\n",
       "    charge_state  mz_delta    mz_upper    mz_lower     rt_upper     rt_lower  \\\n",
       "14             2  0.002806  561.291464  561.285851  4404.253358  4394.253358   \n",
       "4              2  0.003567  713.375905  713.368771  4534.118263  4524.118263   \n",
       "31             2  0.003244  648.884197  648.877708  4470.630934  4460.630934   \n",
       "44             3  0.003405  681.029251  681.022440  4428.473243  4418.473243   \n",
       "58             2  0.002654  530.782297  530.776989  4421.990095  4411.990095   \n",
       "\n",
       "    drift_upper  drift_lower  \n",
       "14   640.482727   630.482727  \n",
       "4    487.402279   477.402279  \n",
       "31   552.362841   542.362841  \n",
       "44   503.254684   493.254684  \n",
       "58   666.146634   656.146634  "
      ]
     },
     "execution_count": 40,
     "metadata": {},
     "output_type": "execute_result"
    }
   ],
   "source": [
    "feature_list_subset_df.sort_values(by=['feature_summed_intensity'], ascending=False, inplace=False).head()"
   ]
  },
  {
   "cell_type": "code",
   "execution_count": 41,
   "metadata": {
    "scrolled": true
   },
   "outputs": [
    {
     "data": {
      "text/html": [
       "<div>\n",
       "<style scoped>\n",
       "    .dataframe tbody tr th:only-of-type {\n",
       "        vertical-align: middle;\n",
       "    }\n",
       "\n",
       "    .dataframe tbody tr th {\n",
       "        vertical-align: top;\n",
       "    }\n",
       "\n",
       "    .dataframe thead th {\n",
       "        text-align: right;\n",
       "    }\n",
       "</style>\n",
       "<table border=\"1\" class=\"dataframe\">\n",
       "  <thead>\n",
       "    <tr style=\"text-align: right;\">\n",
       "      <th></th>\n",
       "      <th>mq_feature_id</th>\n",
       "      <th>feature_id</th>\n",
       "    </tr>\n",
       "  </thead>\n",
       "  <tbody>\n",
       "    <tr>\n",
       "      <th>40</th>\n",
       "      <td>31</td>\n",
       "      <td>137</td>\n",
       "    </tr>\n",
       "    <tr>\n",
       "      <th>41</th>\n",
       "      <td>32</td>\n",
       "      <td>221</td>\n",
       "    </tr>\n",
       "    <tr>\n",
       "      <th>42</th>\n",
       "      <td>34</td>\n",
       "      <td>118</td>\n",
       "    </tr>\n",
       "    <tr>\n",
       "      <th>43</th>\n",
       "      <td>35</td>\n",
       "      <td>7</td>\n",
       "    </tr>\n",
       "    <tr>\n",
       "      <th>44</th>\n",
       "      <td>36</td>\n",
       "      <td>418</td>\n",
       "    </tr>\n",
       "    <tr>\n",
       "      <th>45</th>\n",
       "      <td>38</td>\n",
       "      <td>56</td>\n",
       "    </tr>\n",
       "    <tr>\n",
       "      <th>46</th>\n",
       "      <td>38</td>\n",
       "      <td>727</td>\n",
       "    </tr>\n",
       "    <tr>\n",
       "      <th>47</th>\n",
       "      <td>39</td>\n",
       "      <td>448</td>\n",
       "    </tr>\n",
       "    <tr>\n",
       "      <th>48</th>\n",
       "      <td>40</td>\n",
       "      <td>394</td>\n",
       "    </tr>\n",
       "    <tr>\n",
       "      <th>49</th>\n",
       "      <td>41</td>\n",
       "      <td>170</td>\n",
       "    </tr>\n",
       "    <tr>\n",
       "      <th>50</th>\n",
       "      <td>43</td>\n",
       "      <td>126</td>\n",
       "    </tr>\n",
       "    <tr>\n",
       "      <th>51</th>\n",
       "      <td>44</td>\n",
       "      <td>64</td>\n",
       "    </tr>\n",
       "    <tr>\n",
       "      <th>52</th>\n",
       "      <td>45</td>\n",
       "      <td>236</td>\n",
       "    </tr>\n",
       "    <tr>\n",
       "      <th>53</th>\n",
       "      <td>46</td>\n",
       "      <td>211</td>\n",
       "    </tr>\n",
       "    <tr>\n",
       "      <th>54</th>\n",
       "      <td>47</td>\n",
       "      <td>834</td>\n",
       "    </tr>\n",
       "    <tr>\n",
       "      <th>55</th>\n",
       "      <td>47</td>\n",
       "      <td>1718</td>\n",
       "    </tr>\n",
       "    <tr>\n",
       "      <th>56</th>\n",
       "      <td>48</td>\n",
       "      <td>304</td>\n",
       "    </tr>\n",
       "    <tr>\n",
       "      <th>57</th>\n",
       "      <td>48</td>\n",
       "      <td>607</td>\n",
       "    </tr>\n",
       "    <tr>\n",
       "      <th>58</th>\n",
       "      <td>49</td>\n",
       "      <td>360</td>\n",
       "    </tr>\n",
       "    <tr>\n",
       "      <th>59</th>\n",
       "      <td>50</td>\n",
       "      <td>62</td>\n",
       "    </tr>\n",
       "    <tr>\n",
       "      <th>60</th>\n",
       "      <td>51</td>\n",
       "      <td>72</td>\n",
       "    </tr>\n",
       "    <tr>\n",
       "      <th>61</th>\n",
       "      <td>51</td>\n",
       "      <td>308</td>\n",
       "    </tr>\n",
       "    <tr>\n",
       "      <th>62</th>\n",
       "      <td>52</td>\n",
       "      <td>23</td>\n",
       "    </tr>\n",
       "    <tr>\n",
       "      <th>63</th>\n",
       "      <td>52</td>\n",
       "      <td>547</td>\n",
       "    </tr>\n",
       "    <tr>\n",
       "      <th>64</th>\n",
       "      <td>53</td>\n",
       "      <td>87</td>\n",
       "    </tr>\n",
       "    <tr>\n",
       "      <th>65</th>\n",
       "      <td>53</td>\n",
       "      <td>288</td>\n",
       "    </tr>\n",
       "    <tr>\n",
       "      <th>66</th>\n",
       "      <td>54</td>\n",
       "      <td>477</td>\n",
       "    </tr>\n",
       "    <tr>\n",
       "      <th>67</th>\n",
       "      <td>54</td>\n",
       "      <td>674</td>\n",
       "    </tr>\n",
       "    <tr>\n",
       "      <th>69</th>\n",
       "      <td>55</td>\n",
       "      <td>505</td>\n",
       "    </tr>\n",
       "    <tr>\n",
       "      <th>68</th>\n",
       "      <td>55</td>\n",
       "      <td>169</td>\n",
       "    </tr>\n",
       "  </tbody>\n",
       "</table>\n",
       "</div>"
      ],
      "text/plain": [
       "    mq_feature_id  feature_id\n",
       "40             31         137\n",
       "41             32         221\n",
       "42             34         118\n",
       "43             35           7\n",
       "44             36         418\n",
       "45             38          56\n",
       "46             38         727\n",
       "47             39         448\n",
       "48             40         394\n",
       "49             41         170\n",
       "50             43         126\n",
       "51             44          64\n",
       "52             45         236\n",
       "53             46         211\n",
       "54             47         834\n",
       "55             47        1718\n",
       "56             48         304\n",
       "57             48         607\n",
       "58             49         360\n",
       "59             50          62\n",
       "60             51          72\n",
       "61             51         308\n",
       "62             52          23\n",
       "63             52         547\n",
       "64             53          87\n",
       "65             53         288\n",
       "66             54         477\n",
       "67             54         674\n",
       "69             55         505\n",
       "68             55         169"
      ]
     },
     "execution_count": 41,
     "metadata": {},
     "output_type": "execute_result"
    }
   ],
   "source": [
    "match_list_df.sort_values(by=['mq_feature_id'], ascending=True, inplace=False)[40:70]"
   ]
  },
  {
   "cell_type": "code",
   "execution_count": 42,
   "metadata": {},
   "outputs": [
    {
     "data": {
      "text/html": [
       "<div>\n",
       "<style scoped>\n",
       "    .dataframe tbody tr th:only-of-type {\n",
       "        vertical-align: middle;\n",
       "    }\n",
       "\n",
       "    .dataframe tbody tr th {\n",
       "        vertical-align: top;\n",
       "    }\n",
       "\n",
       "    .dataframe thead th {\n",
       "        text-align: right;\n",
       "    }\n",
       "</style>\n",
       "<table border=\"1\" class=\"dataframe\">\n",
       "  <thead>\n",
       "    <tr style=\"text-align: right;\">\n",
       "      <th></th>\n",
       "      <th>mq_feature_id</th>\n",
       "      <th>feature_id</th>\n",
       "    </tr>\n",
       "  </thead>\n",
       "  <tbody>\n",
       "    <tr>\n",
       "      <th>1</th>\n",
       "      <td>2</td>\n",
       "      <td>2</td>\n",
       "    </tr>\n",
       "    <tr>\n",
       "      <th>4</th>\n",
       "      <td>3</td>\n",
       "      <td>3</td>\n",
       "    </tr>\n",
       "    <tr>\n",
       "      <th>43</th>\n",
       "      <td>35</td>\n",
       "      <td>7</td>\n",
       "    </tr>\n",
       "    <tr>\n",
       "      <th>62</th>\n",
       "      <td>52</td>\n",
       "      <td>23</td>\n",
       "    </tr>\n",
       "    <tr>\n",
       "      <th>12</th>\n",
       "      <td>8</td>\n",
       "      <td>26</td>\n",
       "    </tr>\n",
       "  </tbody>\n",
       "</table>\n",
       "</div>"
      ],
      "text/plain": [
       "    mq_feature_id  feature_id\n",
       "1               2           2\n",
       "4               3           3\n",
       "43             35           7\n",
       "62             52          23\n",
       "12              8          26"
      ]
     },
     "execution_count": 42,
     "metadata": {},
     "output_type": "execute_result"
    }
   ],
   "source": [
    "match_list_df.sort_values(by=['feature_id'], ascending=True, inplace=False).head()"
   ]
  },
  {
   "cell_type": "markdown",
   "metadata": {},
   "source": [
    "Visualise an MQ feature that I missed"
   ]
  },
  {
   "cell_type": "code",
   "execution_count": 43,
   "metadata": {},
   "outputs": [],
   "source": [
    "MQ_FEATURE_ID_NOT_MATCHED = 42"
   ]
  },
  {
   "cell_type": "code",
   "execution_count": 44,
   "metadata": {},
   "outputs": [
    {
     "data": {
      "text/html": [
       "<div>\n",
       "<style scoped>\n",
       "    .dataframe tbody tr th:only-of-type {\n",
       "        vertical-align: middle;\n",
       "    }\n",
       "\n",
       "    .dataframe tbody tr th {\n",
       "        vertical-align: top;\n",
       "    }\n",
       "\n",
       "    .dataframe thead th {\n",
       "        text-align: right;\n",
       "    }\n",
       "</style>\n",
       "<table border=\"1\" class=\"dataframe\">\n",
       "  <thead>\n",
       "    <tr style=\"text-align: right;\">\n",
       "      <th></th>\n",
       "      <th>mz</th>\n",
       "      <th>intensity</th>\n",
       "      <th>charge_state</th>\n",
       "      <th>rt</th>\n",
       "      <th>scan</th>\n",
       "      <th>mq_feature_id</th>\n",
       "      <th>mz_delta</th>\n",
       "      <th>mz_upper</th>\n",
       "      <th>mz_lower</th>\n",
       "      <th>rt_upper</th>\n",
       "      <th>rt_lower</th>\n",
       "      <th>drift_upper</th>\n",
       "      <th>drift_lower</th>\n",
       "    </tr>\n",
       "  </thead>\n",
       "  <tbody>\n",
       "    <tr>\n",
       "      <th>139523</th>\n",
       "      <td>621.97655</td>\n",
       "      <td>2352200.0</td>\n",
       "      <td>3</td>\n",
       "      <td>4438.456</td>\n",
       "      <td>714</td>\n",
       "      <td>42</td>\n",
       "      <td>0.00311</td>\n",
       "      <td>621.97966</td>\n",
       "      <td>621.97344</td>\n",
       "      <td>4443.456</td>\n",
       "      <td>4433.456</td>\n",
       "      <td>719</td>\n",
       "      <td>709</td>\n",
       "    </tr>\n",
       "  </tbody>\n",
       "</table>\n",
       "</div>"
      ],
      "text/plain": [
       "               mz  intensity  charge_state        rt  scan  mq_feature_id  \\\n",
       "139523  621.97655  2352200.0             3  4438.456   714             42   \n",
       "\n",
       "        mz_delta   mz_upper   mz_lower  rt_upper  rt_lower  drift_upper  \\\n",
       "139523   0.00311  621.97966  621.97344  4443.456  4433.456          719   \n",
       "\n",
       "        drift_lower  \n",
       "139523          709  "
      ]
     },
     "execution_count": 44,
     "metadata": {},
     "output_type": "execute_result"
    }
   ],
   "source": [
    "mq_feature_df = allpeptides_subset_df[allpeptides_subset_df.mq_feature_id == MQ_FEATURE_ID_NOT_MATCHED]\n",
    "mq_feature_df"
   ]
  },
  {
   "cell_type": "code",
   "execution_count": 45,
   "metadata": {},
   "outputs": [],
   "source": [
    "mz_lower = mq_feature_df.mz_lower.values[0] - 4\n",
    "mz_upper = mq_feature_df.mz_upper.values[0] + 4\n",
    "rt_lower = mq_feature_df.rt.values[0] - 0.5\n",
    "rt_upper = mq_feature_df.rt.values[0] + 0.5\n",
    "drift_lower = mq_feature_df.drift_lower.values[0] - 20\n",
    "drift_upper = mq_feature_df.drift_upper.values[0] + 20"
   ]
  },
  {
   "cell_type": "code",
   "execution_count": 46,
   "metadata": {},
   "outputs": [],
   "source": [
    "feature_isotopes_filename = \"{}/HeLa_20KInt-feature-isotopes.csv\".format(BASE_NAME)\n",
    "feature_isotopes_df = pd.read_csv(feature_isotopes_filename)"
   ]
  },
  {
   "cell_type": "code",
   "execution_count": 47,
   "metadata": {},
   "outputs": [
    {
     "data": {
      "text/html": [
       "<div>\n",
       "<style scoped>\n",
       "    .dataframe tbody tr th:only-of-type {\n",
       "        vertical-align: middle;\n",
       "    }\n",
       "\n",
       "    .dataframe tbody tr th {\n",
       "        vertical-align: top;\n",
       "    }\n",
       "\n",
       "    .dataframe thead th {\n",
       "        text-align: right;\n",
       "    }\n",
       "</style>\n",
       "<table border=\"1\" class=\"dataframe\">\n",
       "  <thead>\n",
       "    <tr style=\"text-align: right;\">\n",
       "      <th></th>\n",
       "      <th>feature_id</th>\n",
       "      <th>feature_region_peak_id</th>\n",
       "      <th>centroid_scan</th>\n",
       "      <th>centroid_rt</th>\n",
       "      <th>centroid_mz</th>\n",
       "      <th>peak_summed_intensity</th>\n",
       "    </tr>\n",
       "  </thead>\n",
       "  <tbody>\n",
       "    <tr>\n",
       "      <th>0</th>\n",
       "      <td>1</td>\n",
       "      <td>1</td>\n",
       "      <td>431.541637</td>\n",
       "      <td>4433.020714</td>\n",
       "      <td>895.958387</td>\n",
       "      <td>1828345</td>\n",
       "    </tr>\n",
       "    <tr>\n",
       "      <th>1</th>\n",
       "      <td>1</td>\n",
       "      <td>2</td>\n",
       "      <td>433.271139</td>\n",
       "      <td>4433.358048</td>\n",
       "      <td>896.460127</td>\n",
       "      <td>1434429</td>\n",
       "    </tr>\n",
       "    <tr>\n",
       "      <th>2</th>\n",
       "      <td>1</td>\n",
       "      <td>3</td>\n",
       "      <td>432.919773</td>\n",
       "      <td>4432.153007</td>\n",
       "      <td>896.964310</td>\n",
       "      <td>1023359</td>\n",
       "    </tr>\n",
       "    <tr>\n",
       "      <th>3</th>\n",
       "      <td>1</td>\n",
       "      <td>4</td>\n",
       "      <td>436.075284</td>\n",
       "      <td>4430.680979</td>\n",
       "      <td>897.470706</td>\n",
       "      <td>128128</td>\n",
       "    </tr>\n",
       "    <tr>\n",
       "      <th>4</th>\n",
       "      <td>2</td>\n",
       "      <td>2</td>\n",
       "      <td>415.517356</td>\n",
       "      <td>4459.626480</td>\n",
       "      <td>877.904042</td>\n",
       "      <td>1377563</td>\n",
       "    </tr>\n",
       "  </tbody>\n",
       "</table>\n",
       "</div>"
      ],
      "text/plain": [
       "   feature_id  feature_region_peak_id  centroid_scan  centroid_rt  \\\n",
       "0           1                       1     431.541637  4433.020714   \n",
       "1           1                       2     433.271139  4433.358048   \n",
       "2           1                       3     432.919773  4432.153007   \n",
       "3           1                       4     436.075284  4430.680979   \n",
       "4           2                       2     415.517356  4459.626480   \n",
       "\n",
       "   centroid_mz  peak_summed_intensity  \n",
       "0   895.958387                1828345  \n",
       "1   896.460127                1434429  \n",
       "2   896.964310                1023359  \n",
       "3   897.470706                 128128  \n",
       "4   877.904042                1377563  "
      ]
     },
     "execution_count": 47,
     "metadata": {},
     "output_type": "execute_result"
    }
   ],
   "source": [
    "feature_isotopes_df.head()"
   ]
  },
  {
   "cell_type": "code",
   "execution_count": 48,
   "metadata": {},
   "outputs": [],
   "source": [
    "# find all the feature region peaks nearby\n",
    "nearby_feature_peaks_df = feature_isotopes_df[\n",
    "                                (\n",
    "                                    (feature_isotopes_df.centroid_mz >= mz_lower) &\n",
    "                                    (feature_isotopes_df.centroid_mz <= mz_upper)\n",
    "                                ) &\n",
    "                                (\n",
    "                                    (feature_isotopes_df.centroid_rt >= rt_lower) &\n",
    "                                    (feature_isotopes_df.centroid_rt <= rt_upper)\n",
    "                                ) &\n",
    "                                (\n",
    "                                    (feature_isotopes_df.centroid_scan >= drift_lower) &\n",
    "                                    (feature_isotopes_df.centroid_scan <= drift_upper)\n",
    "                                )\n",
    "                            ]"
   ]
  },
  {
   "cell_type": "code",
   "execution_count": 49,
   "metadata": {},
   "outputs": [],
   "source": [
    "nearby_feature_ids = nearby_feature_peaks_df.feature_id.unique().tolist()"
   ]
  },
  {
   "cell_type": "code",
   "execution_count": 50,
   "metadata": {},
   "outputs": [
    {
     "data": {
      "text/plain": [
       "[75, 239, 2096, 3596, 4989, 8035]"
      ]
     },
     "execution_count": 50,
     "metadata": {},
     "output_type": "execute_result"
    }
   ],
   "source": [
    "nearby_feature_ids"
   ]
  },
  {
   "cell_type": "code",
   "execution_count": 51,
   "metadata": {},
   "outputs": [],
   "source": [
    "nearby_feature_points_df_list = []\n",
    "for feature_id in nearby_feature_ids:\n",
    "    SUMMED_REGIONS_DATABASE = '{}/HeLa_20KInt-features-{}-{}.sqlite'.format(BASE_NAME, feature_id, feature_id)\n",
    "    db_conn = sqlite3.connect(SUMMED_REGIONS_DATABASE)\n",
    "    nearby_feature_points_df = pd.read_sql_query(\"select * from summed_ms1_regions where (feature_id,peak_id) in (select feature_id,feature_region_peak_id from feature_isotopes where feature_id={})\".format(feature_id), db_conn)\n",
    "    nearby_feature_points_df[\"marker_size\"] = (((np.log(nearby_feature_points_df.intensity)-5)*2)**2)*4\n",
    "    nearby_feature_points_df_list.append((nearby_feature_points_df))\n",
    "    db_conn.close()"
   ]
  },
  {
   "cell_type": "code",
   "execution_count": 52,
   "metadata": {},
   "outputs": [],
   "source": [
    "summed_region_points_df_list = []\n",
    "for feature_id in nearby_feature_ids:\n",
    "    SUMMED_REGIONS_DATABASE = '{}/HeLa_20KInt-features-{}-{}.sqlite'.format(BASE_NAME, feature_id, feature_id)\n",
    "    db_conn = sqlite3.connect(SUMMED_REGIONS_DATABASE)\n",
    "    summed_region_points_df = pd.read_sql_query(\"select * from summed_ms1_regions where feature_id={}\".format(feature_id), db_conn)\n",
    "    summed_region_points_df[\"marker_size\"] = (((np.log(nearby_feature_points_df.intensity)-5)*2)**2)*4\n",
    "    summed_region_points_df_list.append((summed_region_points_df))\n",
    "    db_conn.close()"
   ]
  },
  {
   "cell_type": "code",
   "execution_count": 53,
   "metadata": {},
   "outputs": [],
   "source": [
    "# find all the other MQ features nearby\n",
    "nearby_mq_features_df = allpeptides_subset_df[\n",
    "                                (\n",
    "                                    (allpeptides_subset_df.mz >= mz_lower) &\n",
    "                                    (allpeptides_subset_df.mz <= mz_upper)\n",
    "                                ) &\n",
    "                                (\n",
    "                                    (allpeptides_subset_df.rt >= rt_lower) &\n",
    "                                    (allpeptides_subset_df.rt <= rt_upper)\n",
    "                                ) &\n",
    "                                (\n",
    "                                    (allpeptides_subset_df.scan >= drift_lower) &\n",
    "                                    (allpeptides_subset_df.scan <= drift_upper)\n",
    "                                )\n",
    "                            ]"
   ]
  },
  {
   "cell_type": "code",
   "execution_count": 54,
   "metadata": {},
   "outputs": [
    {
     "data": {
      "text/html": [
       "<div>\n",
       "<style scoped>\n",
       "    .dataframe tbody tr th:only-of-type {\n",
       "        vertical-align: middle;\n",
       "    }\n",
       "\n",
       "    .dataframe tbody tr th {\n",
       "        vertical-align: top;\n",
       "    }\n",
       "\n",
       "    .dataframe thead th {\n",
       "        text-align: right;\n",
       "    }\n",
       "</style>\n",
       "<table border=\"1\" class=\"dataframe\">\n",
       "  <thead>\n",
       "    <tr style=\"text-align: right;\">\n",
       "      <th></th>\n",
       "      <th>mz</th>\n",
       "      <th>intensity</th>\n",
       "      <th>charge_state</th>\n",
       "      <th>rt</th>\n",
       "      <th>scan</th>\n",
       "      <th>mq_feature_id</th>\n",
       "      <th>mz_delta</th>\n",
       "      <th>mz_upper</th>\n",
       "      <th>mz_lower</th>\n",
       "      <th>rt_upper</th>\n",
       "      <th>rt_lower</th>\n",
       "      <th>drift_upper</th>\n",
       "      <th>drift_lower</th>\n",
       "    </tr>\n",
       "  </thead>\n",
       "  <tbody>\n",
       "    <tr>\n",
       "      <th>139523</th>\n",
       "      <td>621.97655</td>\n",
       "      <td>2352200.0</td>\n",
       "      <td>3</td>\n",
       "      <td>4438.456</td>\n",
       "      <td>714</td>\n",
       "      <td>42</td>\n",
       "      <td>0.00311</td>\n",
       "      <td>621.97966</td>\n",
       "      <td>621.97344</td>\n",
       "      <td>4443.456</td>\n",
       "      <td>4433.456</td>\n",
       "      <td>719</td>\n",
       "      <td>709</td>\n",
       "    </tr>\n",
       "  </tbody>\n",
       "</table>\n",
       "</div>"
      ],
      "text/plain": [
       "               mz  intensity  charge_state        rt  scan  mq_feature_id  \\\n",
       "139523  621.97655  2352200.0             3  4438.456   714             42   \n",
       "\n",
       "        mz_delta   mz_upper   mz_lower  rt_upper  rt_lower  drift_upper  \\\n",
       "139523   0.00311  621.97966  621.97344  4443.456  4433.456          719   \n",
       "\n",
       "        drift_lower  \n",
       "139523          709  "
      ]
     },
     "execution_count": 54,
     "metadata": {},
     "output_type": "execute_result"
    }
   ],
   "source": [
    "nearby_mq_features_df"
   ]
  },
  {
   "cell_type": "code",
   "execution_count": 55,
   "metadata": {},
   "outputs": [],
   "source": [
    "tableau20 = [(31, 119, 180), (174, 199, 232), (255, 127, 14), (255, 187, 120),  \n",
    "             (44, 160, 44), (152, 223, 138), (214, 39, 40), (255, 152, 150),  \n",
    "             (148, 103, 189), (197, 176, 213), (140, 86, 75), (196, 156, 148),  \n",
    "             (227, 119, 194), (247, 182, 210), (127, 127, 127), (199, 199, 199),  \n",
    "             (188, 189, 34), (219, 219, 141), (23, 190, 207), (158, 218, 229)]\n",
    "\n",
    "# Rescale to values between 0 and 1\n",
    "tableau20_mpl = tableau20.copy()\n",
    "for i in range(len(tableau20_mpl)):  \n",
    "    r, g, b = tableau20_mpl[i]  \n",
    "    tableau20_mpl[i] = (r / 255., g / 255., b / 255.)"
   ]
  },
  {
   "cell_type": "code",
   "execution_count": 56,
   "metadata": {},
   "outputs": [
    {
     "data": {
      "image/png": "[encoded data removed]",
      "text/plain": [
       "<Figure size 1080x720 with 1 Axes>"
      ]
     },
     "metadata": {
      "needs_background": "light"
     },
     "output_type": "display_data"
    }
   ],
   "source": [
    "import matplotlib.patches as patches\n",
    "\n",
    "f, ax = plt.subplots()\n",
    "plt.xlabel('m/z')\n",
    "plt.ylabel('scan')\n",
    "plt.gca().invert_yaxis()\n",
    "\n",
    "# draw the MQ feature rectangle\n",
    "mz_lower = mq_feature_df.mz_lower.values[0]\n",
    "drift_lower = mq_feature_df.drift_lower.values[0]\n",
    "mz_range = mq_feature_df.mz_upper.values[0] - mq_feature_df.mz_lower.values[0]\n",
    "drift_range = mq_feature_df.drift_upper.values[0] - mq_feature_df.drift_lower.values[0]\n",
    "mq_feature_rect = patches.Rectangle((mz_lower, drift_lower), mz_range, drift_range, linewidth=4, alpha=0.5, linestyle='-', edgecolor='r', facecolor='none')\n",
    "ax.add_patch(mq_feature_rect)\n",
    "\n",
    "# show all the summed points of nearby features\n",
    "for idx,feature_id in enumerate(nearby_feature_ids):\n",
    "    summed_region_points_df = summed_region_points_df_list[idx]\n",
    "    ax.scatter(summed_region_points_df.mz, summed_region_points_df.scan, marker='.', color='gray', lw=0, s=summed_region_points_df.marker_size, alpha=0.8)\n",
    "\n",
    "# show only the summed points of nearby feature isotopes\n",
    "scatter_groups = []\n",
    "for idx,feature_id in enumerate(nearby_feature_ids):\n",
    "    nearby_feature_points_df = nearby_feature_points_df_list[idx]\n",
    "    scatter = ax.scatter(nearby_feature_points_df.mz, nearby_feature_points_df.scan, marker='.', color=tableau20_mpl[idx], lw=0, s=nearby_feature_points_df.marker_size, alpha=0.8, label=\"feature {}\".format(feature_id))\n",
    "    scatter_groups.append((scatter))\n",
    "\n",
    "plt.legend(handles=scatter_groups, loc='lower right')\n",
    "f.set_figheight(10)\n",
    "f.set_figwidth(15)\n",
    "plt.suptitle('Summed points (across the feature\\'s RT extent) in the region of MQ feature {}'.format(MQ_FEATURE_ID_NOT_MATCHED))\n",
    "plt.margins(0.06)\n",
    "plt.show()"
   ]
  },
  {
   "cell_type": "code",
   "execution_count": 57,
   "metadata": {},
   "outputs": [],
   "source": [
    "NEARBY_CANDIDATE_FEATURE_ID = 75"
   ]
  },
  {
   "cell_type": "code",
   "execution_count": 58,
   "metadata": {},
   "outputs": [
    {
     "data": {
      "text/html": [
       "<div>\n",
       "<style scoped>\n",
       "    .dataframe tbody tr th:only-of-type {\n",
       "        vertical-align: middle;\n",
       "    }\n",
       "\n",
       "    .dataframe tbody tr th {\n",
       "        vertical-align: top;\n",
       "    }\n",
       "\n",
       "    .dataframe thead th {\n",
       "        text-align: right;\n",
       "    }\n",
       "</style>\n",
       "<table border=\"1\" class=\"dataframe\">\n",
       "  <thead>\n",
       "    <tr style=\"text-align: right;\">\n",
       "      <th></th>\n",
       "      <th>feature_id</th>\n",
       "      <th>mono_peak_centroid_mz</th>\n",
       "      <th>mono_peak_centroid_rt</th>\n",
       "      <th>mono_peak_centroid_scan</th>\n",
       "      <th>monoisotopic_mass</th>\n",
       "      <th>feature_summed_intensity</th>\n",
       "      <th>charge_state</th>\n",
       "      <th>mz_delta</th>\n",
       "      <th>mz_upper</th>\n",
       "      <th>mz_lower</th>\n",
       "      <th>rt_upper</th>\n",
       "      <th>rt_lower</th>\n",
       "      <th>drift_upper</th>\n",
       "      <th>drift_lower</th>\n",
       "    </tr>\n",
       "  </thead>\n",
       "  <tbody>\n",
       "    <tr>\n",
       "      <th>73</th>\n",
       "      <td>75</td>\n",
       "      <td>622.311419</td>\n",
       "      <td>4437.885545</td>\n",
       "      <td>712.076667</td>\n",
       "      <td>1863.910963</td>\n",
       "      <td>1106797</td>\n",
       "      <td>3</td>\n",
       "      <td>0.003112</td>\n",
       "      <td>622.314531</td>\n",
       "      <td>622.308308</td>\n",
       "      <td>4442.885545</td>\n",
       "      <td>4432.885545</td>\n",
       "      <td>717.076667</td>\n",
       "      <td>707.076667</td>\n",
       "    </tr>\n",
       "  </tbody>\n",
       "</table>\n",
       "</div>"
      ],
      "text/plain": [
       "    feature_id  mono_peak_centroid_mz  mono_peak_centroid_rt  \\\n",
       "73          75             622.311419            4437.885545   \n",
       "\n",
       "    mono_peak_centroid_scan  monoisotopic_mass  feature_summed_intensity  \\\n",
       "73               712.076667        1863.910963                   1106797   \n",
       "\n",
       "    charge_state  mz_delta    mz_upper    mz_lower     rt_upper     rt_lower  \\\n",
       "73             3  0.003112  622.314531  622.308308  4442.885545  4432.885545   \n",
       "\n",
       "    drift_upper  drift_lower  \n",
       "73   717.076667   707.076667  "
      ]
     },
     "execution_count": 58,
     "metadata": {},
     "output_type": "execute_result"
    }
   ],
   "source": [
    "feature_df = feature_list_subset_df[feature_list_subset_df.feature_id==NEARBY_CANDIDATE_FEATURE_ID]\n",
    "feature_df"
   ]
  },
  {
   "cell_type": "code",
   "execution_count": 59,
   "metadata": {},
   "outputs": [
    {
     "data": {
      "text/html": [
       "<div>\n",
       "<style scoped>\n",
       "    .dataframe tbody tr th:only-of-type {\n",
       "        vertical-align: middle;\n",
       "    }\n",
       "\n",
       "    .dataframe tbody tr th {\n",
       "        vertical-align: top;\n",
       "    }\n",
       "\n",
       "    .dataframe thead th {\n",
       "        text-align: right;\n",
       "    }\n",
       "</style>\n",
       "<table border=\"1\" class=\"dataframe\">\n",
       "  <thead>\n",
       "    <tr style=\"text-align: right;\">\n",
       "      <th></th>\n",
       "      <th>mz</th>\n",
       "      <th>intensity</th>\n",
       "      <th>charge_state</th>\n",
       "      <th>rt</th>\n",
       "      <th>scan</th>\n",
       "      <th>mq_feature_id</th>\n",
       "      <th>mz_delta</th>\n",
       "      <th>mz_upper</th>\n",
       "      <th>mz_lower</th>\n",
       "      <th>rt_upper</th>\n",
       "      <th>rt_lower</th>\n",
       "      <th>drift_upper</th>\n",
       "      <th>drift_lower</th>\n",
       "    </tr>\n",
       "  </thead>\n",
       "  <tbody>\n",
       "    <tr>\n",
       "      <th>139523</th>\n",
       "      <td>621.97655</td>\n",
       "      <td>2352200.0</td>\n",
       "      <td>3</td>\n",
       "      <td>4438.456</td>\n",
       "      <td>714</td>\n",
       "      <td>42</td>\n",
       "      <td>0.00311</td>\n",
       "      <td>621.97966</td>\n",
       "      <td>621.97344</td>\n",
       "      <td>4443.456</td>\n",
       "      <td>4433.456</td>\n",
       "      <td>719</td>\n",
       "      <td>709</td>\n",
       "    </tr>\n",
       "  </tbody>\n",
       "</table>\n",
       "</div>"
      ],
      "text/plain": [
       "               mz  intensity  charge_state        rt  scan  mq_feature_id  \\\n",
       "139523  621.97655  2352200.0             3  4438.456   714             42   \n",
       "\n",
       "        mz_delta   mz_upper   mz_lower  rt_upper  rt_lower  drift_upper  \\\n",
       "139523   0.00311  621.97966  621.97344  4443.456  4433.456          719   \n",
       "\n",
       "        drift_lower  \n",
       "139523          709  "
      ]
     },
     "execution_count": 59,
     "metadata": {},
     "output_type": "execute_result"
    }
   ],
   "source": [
    "mq_feature = allpeptides_subset_df[allpeptides_subset_df.mq_feature_id==MQ_FEATURE_ID_NOT_MATCHED]\n",
    "mq_feature"
   ]
  },
  {
   "cell_type": "code",
   "execution_count": 60,
   "metadata": {},
   "outputs": [],
   "source": [
    "# RT\n",
    "rt_match = (feature_df.mono_peak_centroid_rt.values[0] >= mq_feature.rt_lower.values[0]) & (feature_df.mono_peak_centroid_rt.values[0] <= mq_feature.rt_upper.values[0])"
   ]
  },
  {
   "cell_type": "code",
   "execution_count": 61,
   "metadata": {},
   "outputs": [],
   "source": [
    "# m/z\n",
    "mz_match = (feature_df.mono_peak_centroid_mz.values[0] >= mq_feature.mz_lower.values[0]) & (feature_df.mono_peak_centroid_mz.values[0] <= mq_feature.mz_upper.values[0])"
   ]
  },
  {
   "cell_type": "code",
   "execution_count": 62,
   "metadata": {},
   "outputs": [],
   "source": [
    "# drift\n",
    "drift_match = (feature_df.mono_peak_centroid_scan.values[0] >= mq_feature.drift_lower.values[0]) & (feature_df.mono_peak_centroid_scan.values[0] <= mq_feature.drift_upper.values[0])"
   ]
  },
  {
   "cell_type": "code",
   "execution_count": 63,
   "metadata": {},
   "outputs": [],
   "source": [
    "# charge state\n",
    "charge_match = (feature_df.charge_state.values[0] >= mq_feature.charge_state.values[0])"
   ]
  },
  {
   "cell_type": "code",
   "execution_count": 64,
   "metadata": {},
   "outputs": [
    {
     "name": "stdout",
     "output_type": "stream",
     "text": [
      "Matches between MQ feature 42 and feature 75\n",
      "m/z\tFalse\n",
      "RT\tTrue\n",
      "drift\tTrue\n",
      "charge\tTrue\n",
      "\n"
     ]
    }
   ],
   "source": [
    "print(\"Matches between MQ feature {} and feature {}\\nm/z\\t{}\\nRT\\t{}\\ndrift\\t{}\\ncharge\\t{}\\n\".format(MQ_FEATURE_ID_NOT_MATCHED,NEARBY_CANDIDATE_FEATURE_ID,mz_match,rt_match,drift_match,charge_match))"
   ]
  },
  {
   "cell_type": "code",
   "execution_count": 65,
   "metadata": {},
   "outputs": [
    {
     "data": {
      "text/html": [
       "<div>\n",
       "<style scoped>\n",
       "    .dataframe tbody tr th:only-of-type {\n",
       "        vertical-align: middle;\n",
       "    }\n",
       "\n",
       "    .dataframe tbody tr th {\n",
       "        vertical-align: top;\n",
       "    }\n",
       "\n",
       "    .dataframe thead th {\n",
       "        text-align: right;\n",
       "    }\n",
       "</style>\n",
       "<table border=\"1\" class=\"dataframe\">\n",
       "  <thead>\n",
       "    <tr style=\"text-align: right;\">\n",
       "      <th></th>\n",
       "      <th>feature_id</th>\n",
       "      <th>feature_region_peak_id</th>\n",
       "      <th>centroid_scan</th>\n",
       "      <th>centroid_rt</th>\n",
       "      <th>centroid_mz</th>\n",
       "      <th>peak_summed_intensity</th>\n",
       "    </tr>\n",
       "  </thead>\n",
       "  <tbody>\n",
       "    <tr>\n",
       "      <th>344</th>\n",
       "      <td>75</td>\n",
       "      <td>1</td>\n",
       "      <td>712.076667</td>\n",
       "      <td>4437.885545</td>\n",
       "      <td>622.311419</td>\n",
       "      <td>738034</td>\n",
       "    </tr>\n",
       "    <tr>\n",
       "      <th>345</th>\n",
       "      <td>75</td>\n",
       "      <td>2</td>\n",
       "      <td>709.140973</td>\n",
       "      <td>4438.242639</td>\n",
       "      <td>622.644513</td>\n",
       "      <td>302867</td>\n",
       "    </tr>\n",
       "    <tr>\n",
       "      <th>346</th>\n",
       "      <td>75</td>\n",
       "      <td>4</td>\n",
       "      <td>709.420853</td>\n",
       "      <td>4437.395953</td>\n",
       "      <td>622.978513</td>\n",
       "      <td>58006</td>\n",
       "    </tr>\n",
       "    <tr>\n",
       "      <th>347</th>\n",
       "      <td>75</td>\n",
       "      <td>5</td>\n",
       "      <td>708.896942</td>\n",
       "      <td>4435.174604</td>\n",
       "      <td>623.310951</td>\n",
       "      <td>5657</td>\n",
       "    </tr>\n",
       "    <tr>\n",
       "      <th>348</th>\n",
       "      <td>75</td>\n",
       "      <td>6</td>\n",
       "      <td>711.337215</td>\n",
       "      <td>4434.867319</td>\n",
       "      <td>623.647588</td>\n",
       "      <td>2233</td>\n",
       "    </tr>\n",
       "  </tbody>\n",
       "</table>\n",
       "</div>"
      ],
      "text/plain": [
       "     feature_id  feature_region_peak_id  centroid_scan  centroid_rt  \\\n",
       "344          75                       1     712.076667  4437.885545   \n",
       "345          75                       2     709.140973  4438.242639   \n",
       "346          75                       4     709.420853  4437.395953   \n",
       "347          75                       5     708.896942  4435.174604   \n",
       "348          75                       6     711.337215  4434.867319   \n",
       "\n",
       "     centroid_mz  peak_summed_intensity  \n",
       "344   622.311419                 738034  \n",
       "345   622.644513                 302867  \n",
       "346   622.978513                  58006  \n",
       "347   623.310951                   5657  \n",
       "348   623.647588                   2233  "
      ]
     },
     "execution_count": 65,
     "metadata": {},
     "output_type": "execute_result"
    }
   ],
   "source": [
    "feature_isotopes_df[feature_isotopes_df.feature_id==NEARBY_CANDIDATE_FEATURE_ID]"
   ]
  },
  {
   "cell_type": "code",
   "execution_count": null,
   "metadata": {},
   "outputs": [],
   "source": []
  }
 ],
 "metadata": {
  "kernelspec": {
   "display_name": "Python 3",
   "language": "python",
   "name": "python3"
  },
  "language_info": {
   "codemirror_mode": {
    "name": "ipython",
    "version": 3
   },
   "file_extension": ".py",
   "mimetype": "text/x-python",
   "name": "python",
   "nbconvert_exporter": "python",
   "pygments_lexer": "ipython3",
   "version": "3.6.8"
  }
 },
 "nbformat": 4,
 "nbformat_minor": 2
}
