{
 "cells": [
  {
   "cell_type": "code",
   "execution_count": 98,
   "metadata": {},
   "outputs": [],
   "source": [
    "import pandas as pd\n",
    "import math\n",
    "import numpy as np\n",
    "import random"
   ]
  },
  {
   "cell_type": "code",
   "execution_count": 99,
   "metadata": {},
   "outputs": [],
   "source": [
    "l = []\n",
    "for i in range(1000):\n",
    "    l.append({'a':round(random.random()*100), 'b':round(random.random()*100), 'c':round(random.random()*100)})\n",
    "df = pd.DataFrame(l)"
   ]
  },
  {
   "cell_type": "code",
   "execution_count": 100,
   "metadata": {},
   "outputs": [],
   "source": [
    "A_BIN_SIZE = 2\n",
    "B_BIN_SIZE = 2\n",
    "C_BIN_SIZE = 5"
   ]
  },
  {
   "cell_type": "code",
   "execution_count": 101,
   "metadata": {},
   "outputs": [],
   "source": [
    "a_bins = pd.interval_range(start=df.a.min(), end=df.a.max()+A_BIN_SIZE, freq=A_BIN_SIZE, closed='left')\n",
    "b_bins = pd.interval_range(start=df.b.min(), end=df.b.max()+B_BIN_SIZE, freq=B_BIN_SIZE, closed='left')\n",
    "c_bins = pd.interval_range(start=df.c.min(), end=df.c.max()+C_BIN_SIZE, freq=C_BIN_SIZE, closed='left')"
   ]
  },
  {
   "cell_type": "code",
   "execution_count": 102,
   "metadata": {},
   "outputs": [],
   "source": [
    "# assign raw points to their bins\n",
    "df['a_bin'] = pd.cut(df.a, bins=a_bins)\n",
    "df['b_bin'] = pd.cut(df.b, bins=b_bins)\n",
    "df['c_bin'] = pd.cut(df.c, bins=c_bins)"
   ]
  },
  {
   "cell_type": "code",
   "execution_count": 103,
   "metadata": {},
   "outputs": [
    {
     "data": {
      "text/html": [
       "<div>\n",
       "<style scoped>\n",
       "    .dataframe tbody tr th:only-of-type {\n",
       "        vertical-align: middle;\n",
       "    }\n",
       "\n",
       "    .dataframe tbody tr th {\n",
       "        vertical-align: top;\n",
       "    }\n",
       "\n",
       "    .dataframe thead th {\n",
       "        text-align: right;\n",
       "    }\n",
       "</style>\n",
       "<table border=\"1\" class=\"dataframe\">\n",
       "  <thead>\n",
       "    <tr style=\"text-align: right;\">\n",
       "      <th></th>\n",
       "      <th>a</th>\n",
       "      <th>b</th>\n",
       "      <th>c</th>\n",
       "      <th>a_bin</th>\n",
       "      <th>b_bin</th>\n",
       "      <th>c_bin</th>\n",
       "    </tr>\n",
       "  </thead>\n",
       "  <tbody>\n",
       "    <tr>\n",
       "      <th>258</th>\n",
       "      <td>22</td>\n",
       "      <td>17</td>\n",
       "      <td>86</td>\n",
       "      <td>[22, 24)</td>\n",
       "      <td>[16, 18)</td>\n",
       "      <td>[85, 90)</td>\n",
       "    </tr>\n",
       "    <tr>\n",
       "      <th>859</th>\n",
       "      <td>66</td>\n",
       "      <td>26</td>\n",
       "      <td>85</td>\n",
       "      <td>[66, 68)</td>\n",
       "      <td>[26, 28)</td>\n",
       "      <td>[85, 90)</td>\n",
       "    </tr>\n",
       "    <tr>\n",
       "      <th>358</th>\n",
       "      <td>15</td>\n",
       "      <td>22</td>\n",
       "      <td>23</td>\n",
       "      <td>[14, 16)</td>\n",
       "      <td>[22, 24)</td>\n",
       "      <td>[20, 25)</td>\n",
       "    </tr>\n",
       "    <tr>\n",
       "      <th>938</th>\n",
       "      <td>66</td>\n",
       "      <td>82</td>\n",
       "      <td>7</td>\n",
       "      <td>[66, 68)</td>\n",
       "      <td>[82, 84)</td>\n",
       "      <td>[5, 10)</td>\n",
       "    </tr>\n",
       "    <tr>\n",
       "      <th>512</th>\n",
       "      <td>47</td>\n",
       "      <td>18</td>\n",
       "      <td>36</td>\n",
       "      <td>[46, 48)</td>\n",
       "      <td>[18, 20)</td>\n",
       "      <td>[35, 40)</td>\n",
       "    </tr>\n",
       "  </tbody>\n",
       "</table>\n",
       "</div>"
      ],
      "text/plain": [
       "      a   b   c     a_bin     b_bin     c_bin\n",
       "258  22  17  86  [22, 24)  [16, 18)  [85, 90)\n",
       "859  66  26  85  [66, 68)  [26, 28)  [85, 90)\n",
       "358  15  22  23  [14, 16)  [22, 24)  [20, 25)\n",
       "938  66  82   7  [66, 68)  [82, 84)   [5, 10)\n",
       "512  47  18  36  [46, 48)  [18, 20)  [35, 40)"
      ]
     },
     "execution_count": 103,
     "metadata": {},
     "output_type": "execute_result"
    }
   ],
   "source": [
    "df.sample(n=5)"
   ]
  },
  {
   "cell_type": "code",
   "execution_count": 104,
   "metadata": {},
   "outputs": [
    {
     "data": {
      "text/html": [
       "<div>\n",
       "<style scoped>\n",
       "    .dataframe tbody tr th:only-of-type {\n",
       "        vertical-align: middle;\n",
       "    }\n",
       "\n",
       "    .dataframe tbody tr th {\n",
       "        vertical-align: top;\n",
       "    }\n",
       "\n",
       "    .dataframe thead th {\n",
       "        text-align: right;\n",
       "    }\n",
       "</style>\n",
       "<table border=\"1\" class=\"dataframe\">\n",
       "  <thead>\n",
       "    <tr style=\"text-align: right;\">\n",
       "      <th></th>\n",
       "      <th>a</th>\n",
       "      <th>b</th>\n",
       "      <th>c</th>\n",
       "      <th>a_bin</th>\n",
       "      <th>b_bin</th>\n",
       "      <th>c_bin</th>\n",
       "    </tr>\n",
       "  </thead>\n",
       "  <tbody>\n",
       "  </tbody>\n",
       "</table>\n",
       "</div>"
      ],
      "text/plain": [
       "Empty DataFrame\n",
       "Columns: [a, b, c, a_bin, b_bin, c_bin]\n",
       "Index: []"
      ]
     },
     "execution_count": 104,
     "metadata": {},
     "output_type": "execute_result"
    }
   ],
   "source": [
    "df[df.a_bin.isna()]"
   ]
  },
  {
   "cell_type": "code",
   "execution_count": 105,
   "metadata": {},
   "outputs": [
    {
     "data": {
      "text/html": [
       "<div>\n",
       "<style scoped>\n",
       "    .dataframe tbody tr th:only-of-type {\n",
       "        vertical-align: middle;\n",
       "    }\n",
       "\n",
       "    .dataframe tbody tr th {\n",
       "        vertical-align: top;\n",
       "    }\n",
       "\n",
       "    .dataframe thead th {\n",
       "        text-align: right;\n",
       "    }\n",
       "</style>\n",
       "<table border=\"1\" class=\"dataframe\">\n",
       "  <thead>\n",
       "    <tr style=\"text-align: right;\">\n",
       "      <th></th>\n",
       "      <th>a</th>\n",
       "      <th>b</th>\n",
       "      <th>c</th>\n",
       "      <th>a_bin</th>\n",
       "      <th>b_bin</th>\n",
       "      <th>c_bin</th>\n",
       "    </tr>\n",
       "  </thead>\n",
       "  <tbody>\n",
       "    <tr>\n",
       "      <th>92</th>\n",
       "      <td>0</td>\n",
       "      <td>61</td>\n",
       "      <td>49</td>\n",
       "      <td>[0, 2)</td>\n",
       "      <td>[60, 62)</td>\n",
       "      <td>[45, 50)</td>\n",
       "    </tr>\n",
       "    <tr>\n",
       "      <th>260</th>\n",
       "      <td>0</td>\n",
       "      <td>33</td>\n",
       "      <td>19</td>\n",
       "      <td>[0, 2)</td>\n",
       "      <td>[32, 34)</td>\n",
       "      <td>[15, 20)</td>\n",
       "    </tr>\n",
       "    <tr>\n",
       "      <th>268</th>\n",
       "      <td>0</td>\n",
       "      <td>22</td>\n",
       "      <td>94</td>\n",
       "      <td>[0, 2)</td>\n",
       "      <td>[22, 24)</td>\n",
       "      <td>[90, 95)</td>\n",
       "    </tr>\n",
       "    <tr>\n",
       "      <th>659</th>\n",
       "      <td>0</td>\n",
       "      <td>38</td>\n",
       "      <td>26</td>\n",
       "      <td>[0, 2)</td>\n",
       "      <td>[38, 40)</td>\n",
       "      <td>[25, 30)</td>\n",
       "    </tr>\n",
       "    <tr>\n",
       "      <th>864</th>\n",
       "      <td>0</td>\n",
       "      <td>86</td>\n",
       "      <td>77</td>\n",
       "      <td>[0, 2)</td>\n",
       "      <td>[86, 88)</td>\n",
       "      <td>[75, 80)</td>\n",
       "    </tr>\n",
       "    <tr>\n",
       "      <th>921</th>\n",
       "      <td>0</td>\n",
       "      <td>48</td>\n",
       "      <td>15</td>\n",
       "      <td>[0, 2)</td>\n",
       "      <td>[48, 50)</td>\n",
       "      <td>[15, 20)</td>\n",
       "    </tr>\n",
       "    <tr>\n",
       "      <th>964</th>\n",
       "      <td>0</td>\n",
       "      <td>37</td>\n",
       "      <td>62</td>\n",
       "      <td>[0, 2)</td>\n",
       "      <td>[36, 38)</td>\n",
       "      <td>[60, 65)</td>\n",
       "    </tr>\n",
       "  </tbody>\n",
       "</table>\n",
       "</div>"
      ],
      "text/plain": [
       "     a   b   c   a_bin     b_bin     c_bin\n",
       "92   0  61  49  [0, 2)  [60, 62)  [45, 50)\n",
       "260  0  33  19  [0, 2)  [32, 34)  [15, 20)\n",
       "268  0  22  94  [0, 2)  [22, 24)  [90, 95)\n",
       "659  0  38  26  [0, 2)  [38, 40)  [25, 30)\n",
       "864  0  86  77  [0, 2)  [86, 88)  [75, 80)\n",
       "921  0  48  15  [0, 2)  [48, 50)  [15, 20)\n",
       "964  0  37  62  [0, 2)  [36, 38)  [60, 65)"
      ]
     },
     "execution_count": 105,
     "metadata": {},
     "output_type": "execute_result"
    }
   ],
   "source": [
    "df[df.a == 0]"
   ]
  },
  {
   "cell_type": "code",
   "execution_count": 106,
   "metadata": {},
   "outputs": [
    {
     "data": {
      "text/html": [
       "<div>\n",
       "<style scoped>\n",
       "    .dataframe tbody tr th:only-of-type {\n",
       "        vertical-align: middle;\n",
       "    }\n",
       "\n",
       "    .dataframe tbody tr th {\n",
       "        vertical-align: top;\n",
       "    }\n",
       "\n",
       "    .dataframe thead th {\n",
       "        text-align: right;\n",
       "    }\n",
       "</style>\n",
       "<table border=\"1\" class=\"dataframe\">\n",
       "  <thead>\n",
       "    <tr style=\"text-align: right;\">\n",
       "      <th></th>\n",
       "      <th>a_bin</th>\n",
       "      <th>b_bin</th>\n",
       "      <th>c_bin</th>\n",
       "    </tr>\n",
       "  </thead>\n",
       "  <tbody>\n",
       "    <tr>\n",
       "      <th>0</th>\n",
       "      <td>[48, 50)</td>\n",
       "      <td>[82, 84)</td>\n",
       "      <td>[40, 45)</td>\n",
       "    </tr>\n",
       "    <tr>\n",
       "      <th>1</th>\n",
       "      <td>[94, 96)</td>\n",
       "      <td>[0, 2)</td>\n",
       "      <td>[65, 70)</td>\n",
       "    </tr>\n",
       "    <tr>\n",
       "      <th>2</th>\n",
       "      <td>[20, 22)</td>\n",
       "      <td>[40, 42)</td>\n",
       "      <td>[75, 80)</td>\n",
       "    </tr>\n",
       "    <tr>\n",
       "      <th>3</th>\n",
       "      <td>[12, 14)</td>\n",
       "      <td>[30, 32)</td>\n",
       "      <td>[85, 90)</td>\n",
       "    </tr>\n",
       "    <tr>\n",
       "      <th>4</th>\n",
       "      <td>[86, 88)</td>\n",
       "      <td>[84, 86)</td>\n",
       "      <td>[5, 10)</td>\n",
       "    </tr>\n",
       "    <tr>\n",
       "      <th>...</th>\n",
       "      <td>...</td>\n",
       "      <td>...</td>\n",
       "      <td>...</td>\n",
       "    </tr>\n",
       "    <tr>\n",
       "      <th>995</th>\n",
       "      <td>[58, 60)</td>\n",
       "      <td>[10, 12)</td>\n",
       "      <td>[20, 25)</td>\n",
       "    </tr>\n",
       "    <tr>\n",
       "      <th>996</th>\n",
       "      <td>[36, 38)</td>\n",
       "      <td>[14, 16)</td>\n",
       "      <td>[50, 55)</td>\n",
       "    </tr>\n",
       "    <tr>\n",
       "      <th>997</th>\n",
       "      <td>[20, 22)</td>\n",
       "      <td>[44, 46)</td>\n",
       "      <td>[90, 95)</td>\n",
       "    </tr>\n",
       "    <tr>\n",
       "      <th>998</th>\n",
       "      <td>[6, 8)</td>\n",
       "      <td>[28, 30)</td>\n",
       "      <td>[5, 10)</td>\n",
       "    </tr>\n",
       "    <tr>\n",
       "      <th>999</th>\n",
       "      <td>[30, 32)</td>\n",
       "      <td>[50, 52)</td>\n",
       "      <td>[25, 30)</td>\n",
       "    </tr>\n",
       "  </tbody>\n",
       "</table>\n",
       "<p>1000 rows × 3 columns</p>\n",
       "</div>"
      ],
      "text/plain": [
       "        a_bin     b_bin     c_bin\n",
       "0    [48, 50)  [82, 84)  [40, 45)\n",
       "1    [94, 96)    [0, 2)  [65, 70)\n",
       "2    [20, 22)  [40, 42)  [75, 80)\n",
       "3    [12, 14)  [30, 32)  [85, 90)\n",
       "4    [86, 88)  [84, 86)   [5, 10)\n",
       "..        ...       ...       ...\n",
       "995  [58, 60)  [10, 12)  [20, 25)\n",
       "996  [36, 38)  [14, 16)  [50, 55)\n",
       "997  [20, 22)  [44, 46)  [90, 95)\n",
       "998    [6, 8)  [28, 30)   [5, 10)\n",
       "999  [30, 32)  [50, 52)  [25, 30)\n",
       "\n",
       "[1000 rows x 3 columns]"
      ]
     },
     "execution_count": 106,
     "metadata": {},
     "output_type": "execute_result"
    }
   ],
   "source": [
    "df[['a_bin','b_bin','c_bin']]"
   ]
  },
  {
   "cell_type": "code",
   "execution_count": 107,
   "metadata": {},
   "outputs": [],
   "source": [
    "df['bin_key'] = df.apply(lambda row: (row.a_bin,row.b_bin,row.c_bin), axis=1)"
   ]
  },
  {
   "cell_type": "code",
   "execution_count": 108,
   "metadata": {},
   "outputs": [
    {
     "data": {
      "text/html": [
       "<div>\n",
       "<style scoped>\n",
       "    .dataframe tbody tr th:only-of-type {\n",
       "        vertical-align: middle;\n",
       "    }\n",
       "\n",
       "    .dataframe tbody tr th {\n",
       "        vertical-align: top;\n",
       "    }\n",
       "\n",
       "    .dataframe thead th {\n",
       "        text-align: right;\n",
       "    }\n",
       "</style>\n",
       "<table border=\"1\" class=\"dataframe\">\n",
       "  <thead>\n",
       "    <tr style=\"text-align: right;\">\n",
       "      <th></th>\n",
       "      <th>a</th>\n",
       "      <th>b</th>\n",
       "      <th>c</th>\n",
       "      <th>a_bin</th>\n",
       "      <th>b_bin</th>\n",
       "      <th>c_bin</th>\n",
       "      <th>bin_key</th>\n",
       "    </tr>\n",
       "  </thead>\n",
       "  <tbody>\n",
       "    <tr>\n",
       "      <th>191</th>\n",
       "      <td>56</td>\n",
       "      <td>98</td>\n",
       "      <td>19</td>\n",
       "      <td>[56, 58)</td>\n",
       "      <td>[98, 100)</td>\n",
       "      <td>[15, 20)</td>\n",
       "      <td>([56, 58), [98, 100), [15, 20))</td>\n",
       "    </tr>\n",
       "    <tr>\n",
       "      <th>886</th>\n",
       "      <td>33</td>\n",
       "      <td>18</td>\n",
       "      <td>24</td>\n",
       "      <td>[32, 34)</td>\n",
       "      <td>[18, 20)</td>\n",
       "      <td>[20, 25)</td>\n",
       "      <td>([32, 34), [18, 20), [20, 25))</td>\n",
       "    </tr>\n",
       "    <tr>\n",
       "      <th>787</th>\n",
       "      <td>44</td>\n",
       "      <td>84</td>\n",
       "      <td>88</td>\n",
       "      <td>[44, 46)</td>\n",
       "      <td>[84, 86)</td>\n",
       "      <td>[85, 90)</td>\n",
       "      <td>([44, 46), [84, 86), [85, 90))</td>\n",
       "    </tr>\n",
       "  </tbody>\n",
       "</table>\n",
       "</div>"
      ],
      "text/plain": [
       "      a   b   c     a_bin      b_bin     c_bin  \\\n",
       "191  56  98  19  [56, 58)  [98, 100)  [15, 20)   \n",
       "886  33  18  24  [32, 34)   [18, 20)  [20, 25)   \n",
       "787  44  84  88  [44, 46)   [84, 86)  [85, 90)   \n",
       "\n",
       "                             bin_key  \n",
       "191  ([56, 58), [98, 100), [15, 20))  \n",
       "886   ([32, 34), [18, 20), [20, 25))  \n",
       "787   ([44, 46), [84, 86), [85, 90))  "
      ]
     },
     "execution_count": 108,
     "metadata": {},
     "output_type": "execute_result"
    }
   ],
   "source": [
    "df.sample(n=3)"
   ]
  },
  {
   "cell_type": "code",
   "execution_count": 68,
   "metadata": {},
   "outputs": [],
   "source": [
    "(a_bin,b_bin,c_bin) = df.loc[2].bin_key"
   ]
  },
  {
   "cell_type": "code",
   "execution_count": 69,
   "metadata": {},
   "outputs": [
    {
     "data": {
      "text/plain": [
       "(Interval(32.0, 34.0, closed='right'),\n",
       " Interval(52.0, 54.0, closed='right'),\n",
       " Interval(85.0, 90.0, closed='right'))"
      ]
     },
     "execution_count": 69,
     "metadata": {},
     "output_type": "execute_result"
    }
   ],
   "source": [
    "a_bin,b_bin,c_bin"
   ]
  },
  {
   "cell_type": "code",
   "execution_count": 65,
   "metadata": {},
   "outputs": [],
   "source": [
    "unique_bins = set(df.bin_key.unique())"
   ]
  },
  {
   "cell_type": "code",
   "execution_count": 67,
   "metadata": {},
   "outputs": [
    {
     "data": {
      "text/plain": [
       "False"
      ]
     },
     "execution_count": 67,
     "metadata": {},
     "output_type": "execute_result"
    }
   ],
   "source": [
    "df.loc[2].bin_key not in unique_bins"
   ]
  },
  {
   "cell_type": "code",
   "execution_count": 37,
   "metadata": {},
   "outputs": [],
   "source": [
    "s = {3,4,5,6,7}"
   ]
  },
  {
   "cell_type": "code",
   "execution_count": 43,
   "metadata": {},
   "outputs": [],
   "source": [
    "s.add(6)"
   ]
  },
  {
   "cell_type": "code",
   "execution_count": 58,
   "metadata": {},
   "outputs": [],
   "source": [
    "s = set()"
   ]
  },
  {
   "cell_type": "code",
   "execution_count": 59,
   "metadata": {},
   "outputs": [
    {
     "data": {
      "text/plain": [
       "0"
      ]
     },
     "execution_count": 59,
     "metadata": {},
     "output_type": "execute_result"
    }
   ],
   "source": [
    "len(s)"
   ]
  },
  {
   "cell_type": "code",
   "execution_count": 61,
   "metadata": {},
   "outputs": [],
   "source": [
    "s1 = {60,65,76}\n",
    "s.update(s1)"
   ]
  },
  {
   "cell_type": "code",
   "execution_count": 62,
   "metadata": {},
   "outputs": [
    {
     "data": {
      "text/plain": [
       "{60, 65, 76}"
      ]
     },
     "execution_count": 62,
     "metadata": {},
     "output_type": "execute_result"
    }
   ],
   "source": [
    "s"
   ]
  },
  {
   "cell_type": "code",
   "execution_count": null,
   "metadata": {},
   "outputs": [],
   "source": []
  }
 ],
 "metadata": {
  "kernelspec": {
   "display_name": "Python 3",
   "language": "python",
   "name": "python3"
  },
  "language_info": {
   "codemirror_mode": {
    "name": "ipython",
    "version": 3
   },
   "file_extension": ".py",
   "mimetype": "text/x-python",
   "name": "python",
   "nbconvert_exporter": "python",
   "pygments_lexer": "ipython3",
   "version": "3.8.8"
  }
 },
 "nbformat": 4,
 "nbformat_minor": 4
}
