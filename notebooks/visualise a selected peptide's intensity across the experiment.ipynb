{
 "cells": [
  {
   "cell_type": "markdown",
   "metadata": {},
   "source": [
    "This notebook takes the features classified as targets from the notebook \"classify all features extracted from all the runs\", finds experiment-wide means and standard deviations, "
   ]
  },
  {
   "cell_type": "code",
   "execution_count": 2,
   "metadata": {},
   "outputs": [],
   "source": [
    "import pandas as pd\n",
    "import numpy as np\n",
    "import sys\n",
    "import pickle\n",
    "import glob\n",
    "import os\n",
    "import matplotlib.pyplot as plt"
   ]
  },
  {
   "cell_type": "code",
   "execution_count": 3,
   "metadata": {},
   "outputs": [],
   "source": [
    "EXPERIMENT_DIR = '/home/ubuntu/experiments/dwm-test'"
   ]
  },
  {
   "cell_type": "code",
   "execution_count": 4,
   "metadata": {},
   "outputs": [],
   "source": [
    "# produced by the notebook \"classify all features extracted from all the runs\"\n",
    "TEMP_DIR = '/home/ubuntu'\n",
    "SEQUENCES_WITH_SPECIES_FILE_NAME = '{}/sequences-with-species-df.pkl'.format(TEMP_DIR)\n"
   ]
  },
  {
   "cell_type": "code",
   "execution_count": 5,
   "metadata": {},
   "outputs": [],
   "source": [
    "MAPPING_FILE_NAME = \"{}/recalibrated-percolator-output/percolator-idx-mapping.csv\".format(EXPERIMENT_DIR)\n",
    "\n",
    "# determine the mapping between the percolator index and the run file name\n",
    "def get_percolator_run_mapping(mapping_file_name):\n",
    "    df = pd.read_csv(mapping_file_name)\n",
    "    mapping_l = [tuple(r) for r in df.to_numpy()]\n",
    "    return mapping_l\n",
    "\n",
    "def file_idx_for_run(run_name):\n",
    "    result = None\n",
    "    mapping_l = get_percolator_run_mapping(MAPPING_FILE_NAME)\n",
    "    for m in mapping_l:\n",
    "        if m[1] == run_name:\n",
    "            result = m[0]\n",
    "            break\n",
    "    return result\n",
    "\n",
    "def run_name_for_file_idx(file_idx):\n",
    "    result = None\n",
    "    mapping_l = get_percolator_run_mapping(MAPPING_FILE_NAME)\n",
    "    for m in mapping_l:\n",
    "        if m[0] == file_idx:\n",
    "            result = m[1]\n",
    "            break\n",
    "    return result"
   ]
  },
  {
   "cell_type": "code",
   "execution_count": 6,
   "metadata": {},
   "outputs": [],
   "source": [
    "sequences_df = pd.read_pickle(SEQUENCES_WITH_SPECIES_FILE_NAME)"
   ]
  },
  {
   "cell_type": "code",
   "execution_count": 7,
   "metadata": {},
   "outputs": [],
   "source": [
    "sequences_df['log_intensity'] = np.log2(sequences_df.intensity)"
   ]
  },
  {
   "cell_type": "markdown",
   "metadata": {},
   "source": [
    "#### use this sample of e.coli sequences that occur in a majority of the runs to analyse the intensity consistency"
   ]
  },
  {
   "cell_type": "code",
   "execution_count": 8,
   "metadata": {},
   "outputs": [
    {
     "data": {
      "text/html": [
       "<div>\n",
       "<style scoped>\n",
       "    .dataframe tbody tr th:only-of-type {\n",
       "        vertical-align: middle;\n",
       "    }\n",
       "\n",
       "    .dataframe tbody tr th {\n",
       "        vertical-align: top;\n",
       "    }\n",
       "\n",
       "    .dataframe thead th {\n",
       "        text-align: right;\n",
       "    }\n",
       "</style>\n",
       "<table border=\"1\" class=\"dataframe\">\n",
       "  <thead>\n",
       "    <tr style=\"text-align: right;\">\n",
       "      <th></th>\n",
       "      <th>sequence</th>\n",
       "      <th>charge</th>\n",
       "      <th>intensity</th>\n",
       "      <th>file_idx</th>\n",
       "    </tr>\n",
       "  </thead>\n",
       "  <tbody>\n",
       "    <tr>\n",
       "      <th>98181</th>\n",
       "      <td>EAVDTTSQPVATEK</td>\n",
       "      <td>2</td>\n",
       "      <td>2772</td>\n",
       "      <td>3</td>\n",
       "    </tr>\n",
       "    <tr>\n",
       "      <th>17043</th>\n",
       "      <td>AGPLAGYPVVDMGIR</td>\n",
       "      <td>2</td>\n",
       "      <td>1901</td>\n",
       "      <td>16</td>\n",
       "    </tr>\n",
       "    <tr>\n",
       "      <th>300771</th>\n",
       "      <td>LLINGELVSGEGEK</td>\n",
       "      <td>2</td>\n",
       "      <td>1409</td>\n",
       "      <td>13</td>\n",
       "    </tr>\n",
       "    <tr>\n",
       "      <th>443659</th>\n",
       "      <td>SPAGAIQFEAVDAPEIIPDPFDPSKK</td>\n",
       "      <td>3</td>\n",
       "      <td>973</td>\n",
       "      <td>12</td>\n",
       "    </tr>\n",
       "    <tr>\n",
       "      <th>563981</th>\n",
       "      <td>YSDNGSTLSAVNFPEVSLPLHGGR</td>\n",
       "      <td>3</td>\n",
       "      <td>953</td>\n",
       "      <td>19</td>\n",
       "    </tr>\n",
       "    <tr>\n",
       "      <th>340614</th>\n",
       "      <td>MLLPDTVGTGGDSHTR</td>\n",
       "      <td>3</td>\n",
       "      <td>782</td>\n",
       "      <td>4</td>\n",
       "    </tr>\n",
       "    <tr>\n",
       "      <th>26010</th>\n",
       "      <td>ALNVEEQSVQETEQEER</td>\n",
       "      <td>2</td>\n",
       "      <td>703</td>\n",
       "      <td>16</td>\n",
       "    </tr>\n",
       "    <tr>\n",
       "      <th>398028</th>\n",
       "      <td>Q[-17.0265]AEDESDREVEGGR</td>\n",
       "      <td>2</td>\n",
       "      <td>648</td>\n",
       "      <td>0</td>\n",
       "    </tr>\n",
       "    <tr>\n",
       "      <th>184086</th>\n",
       "      <td>GIPVFNAPFSNTR</td>\n",
       "      <td>2</td>\n",
       "      <td>397</td>\n",
       "      <td>3</td>\n",
       "    </tr>\n",
       "    <tr>\n",
       "      <th>425097</th>\n",
       "      <td>SDFAQMLDAHANFLR</td>\n",
       "      <td>2</td>\n",
       "      <td>212</td>\n",
       "      <td>3</td>\n",
       "    </tr>\n",
       "  </tbody>\n",
       "</table>\n",
       "</div>"
      ],
      "text/plain": [
       "                          sequence  charge  intensity  file_idx\n",
       "98181               EAVDTTSQPVATEK       2       2772         3\n",
       "17043              AGPLAGYPVVDMGIR       2       1901        16\n",
       "300771              LLINGELVSGEGEK       2       1409        13\n",
       "443659  SPAGAIQFEAVDAPEIIPDPFDPSKK       3        973        12\n",
       "563981    YSDNGSTLSAVNFPEVSLPLHGGR       3        953        19\n",
       "340614            MLLPDTVGTGGDSHTR       3        782         4\n",
       "26010            ALNVEEQSVQETEQEER       2        703        16\n",
       "398028    Q[-17.0265]AEDESDREVEGGR       2        648         0\n",
       "184086               GIPVFNAPFSNTR       2        397         3\n",
       "425097             SDFAQMLDAHANFLR       2        212         3"
      ]
     },
     "execution_count": 8,
     "metadata": {},
     "output_type": "execute_result"
    }
   ],
   "source": [
    "sequences_df[(sequences_df.number_of_runs_identified > 15) & (sequences_df.human == False)][['sequence','charge','intensity','file_idx']].sample(10).sort_values(by=['intensity','sequence','charge'], ascending=False, inplace=False)\n"
   ]
  },
  {
   "cell_type": "markdown",
   "metadata": {},
   "source": [
    "#### analyse a selected sequence across the experiment for runs in which it was classified as a target"
   ]
  },
  {
   "cell_type": "code",
   "execution_count": 9,
   "metadata": {},
   "outputs": [],
   "source": [
    "selected_sequence = 'IADTSLPLDELVADPVTAVEK'\n",
    "selected_sequence_charge = 2"
   ]
  },
  {
   "cell_type": "code",
   "execution_count": 10,
   "metadata": {},
   "outputs": [],
   "source": [
    "selected_sequence_df = sequences_df[(sequences_df.sequence == selected_sequence) & (sequences_df.charge == selected_sequence_charge)].copy()\n",
    "selected_sequence_df.sort_values(by=['batch','run_name'], inplace=True)"
   ]
  },
  {
   "cell_type": "markdown",
   "metadata": {},
   "source": [
    "#### compare the intensities across the experiment for the selected sequence"
   ]
  },
  {
   "cell_type": "code",
   "execution_count": 11,
   "metadata": {},
   "outputs": [],
   "source": [
    "selected_sequence_1to1_df = selected_sequence_df[selected_sequence_df.batch == '1to1']\n",
    "selected_sequence_1to3_df = selected_sequence_df[selected_sequence_df.batch == '1to3']"
   ]
  },
  {
   "cell_type": "code",
   "execution_count": 12,
   "metadata": {
    "scrolled": false
   },
   "outputs": [
    {
     "data": {
      "image/png": "[encoded data removed]",
      "text/plain": [
       "<Figure size 1080x576 with 1 Axes>"
      ]
     },
     "metadata": {
      "needs_background": "light"
     },
     "output_type": "display_data"
    }
   ],
   "source": [
    "f, ax1 = plt.subplots()\n",
    "f.set_figheight(8)\n",
    "f.set_figwidth(15)\n",
    "\n",
    "plt.margins(0.06)\n",
    "\n",
    "mean_1to1 = round(np.mean(np.log2(selected_sequence_1to1_df.intensity)), 2)\n",
    "mean_1to3 = round(np.mean(np.log2(selected_sequence_1to3_df.intensity)), 2)\n",
    "\n",
    "plt.title('intensities from all runs for sequence {}, charge {}\\nmean 1to1 {}, mean 1to3 {}'.format(selected_sequence, selected_sequence_charge, mean_1to1, mean_1to3))\n",
    "\n",
    "ax1.scatter(selected_sequence_1to1_df.run_name, np.log2(selected_sequence_1to1_df.intensity), marker='o', color='tab:orange', lw=0, s=30, alpha=1.0, label='1to1')\n",
    "ax1.scatter(selected_sequence_1to3_df.run_name, np.log2(selected_sequence_1to3_df.intensity), marker='o', color='tab:blue', lw=0, s=30, alpha=1.0, label='1to3')\n",
    "\n",
    "# highlight whether a point was adjusted for saturation\n",
    "adj_sat_1to1 = selected_sequence_1to1_df[(selected_sequence_1to1_df.isotope_idx_not_in_saturation > 0)]\n",
    "if len(adj_sat_1to1) > 0:\n",
    "    ax1.plot(adj_sat_1to1.run_name, np.log2(adj_sat_1to1.intensity), marker='o', markerfacecolor='none', markeredgecolor='springgreen', linestyle='', markeredgewidth=2, ms=15)\n",
    "\n",
    "adj_sat_1to3 = selected_sequence_1to3_df[(selected_sequence_1to3_df.isotope_idx_not_in_saturation > 0)]\n",
    "if len(adj_sat_1to3) > 0:\n",
    "    ax1.plot(adj_sat_1to3.run_name, np.log2(adj_sat_1to3.intensity), marker='o', markerfacecolor='none', markeredgecolor='springgreen', linestyle='', markeredgewidth=2, ms=15)\n",
    "\n",
    "# show which isotope was used as a reference\n",
    "text_style = dict(size=10, color='blue')\n",
    "for idx,row in adj_sat_1to1.iterrows():\n",
    "    ax1.text(row.run_name, np.log2(row.intensity)+1, \"ref iso {}\".format(int(row.isotope_idx_not_in_saturation)), **text_style, rotation=90)\n",
    "for idx,row in adj_sat_1to3.iterrows():\n",
    "    ax1.text(row.run_name, np.log2(row.intensity)+1, \"ref iso {}\".format(int(row.isotope_idx_not_in_saturation)), **text_style, rotation=90)\n",
    "\n",
    "plt.xlabel('run name')\n",
    "plt.ylabel('log2 intensity')\n",
    "plt.legend(loc='best')\n",
    "\n",
    "# plt.xlim((0,50))\n",
    "plt.ylim((0,20))\n",
    "plt.xticks(rotation=90)\n",
    "\n",
    "plt.show()"
   ]
  },
  {
   "cell_type": "markdown",
   "metadata": {},
   "source": [
    "#### look at the distribution of intensity deltas for sequences in 1to1 runs 01 and 02"
   ]
  },
  {
   "cell_type": "code",
   "execution_count": 13,
   "metadata": {},
   "outputs": [],
   "source": [
    "run_A = '190719_Hela_Ecoli_1to1_01'\n",
    "run_B = '190719_Hela_Ecoli_1to1_02'\n",
    "sequences_in_run_01_df = sequences_df[(sequences_df.file_idx == file_idx_for_run(run_A))]\n",
    "sequences_in_run_02_df = sequences_df[(sequences_df.file_idx == file_idx_for_run(run_B))]"
   ]
  },
  {
   "cell_type": "code",
   "execution_count": 14,
   "metadata": {},
   "outputs": [],
   "source": [
    "sequences_in_both_runs_df = pd.merge(sequences_in_run_01_df, sequences_in_run_02_df, how='inner', left_on=['sequence','charge'], right_on=['sequence','charge'])\n"
   ]
  },
  {
   "cell_type": "code",
   "execution_count": 15,
   "metadata": {},
   "outputs": [],
   "source": [
    "sequences_in_both_runs_df['delta_log_intensity'] = sequences_in_both_runs_df.log_intensity_x - sequences_in_both_runs_df.log_intensity_y"
   ]
  },
  {
   "cell_type": "code",
   "execution_count": 22,
   "metadata": {},
   "outputs": [
    {
     "data": {
      "image/png": "[encoded data removed]",
      "text/plain": [
       "<Figure size 1080x576 with 1 Axes>"
      ]
     },
     "metadata": {
      "needs_background": "light"
     },
     "output_type": "display_data"
    }
   ],
   "source": [
    "f, ax1 = plt.subplots()\n",
    "f.set_figheight(8)\n",
    "f.set_figwidth(15)\n",
    "\n",
    "plt.margins(0.06)\n",
    "plt.title('')\n",
    "\n",
    "bins = 250\n",
    "hist, bins, _ = plt.hist(sequences_in_both_runs_df.delta_log_intensity, bins=bins)\n",
    "plt.xlabel('log2 delta intensity')\n",
    "plt.ylabel('count')\n",
    "plt.title('delta intensity for runs {} and {}'.format(run_A, run_B))\n",
    "ax1.set(xticks=range(-5,5), xlim=[-5, 5])\n",
    "\n",
    "plt.show()"
   ]
  },
  {
   "cell_type": "code",
   "execution_count": 23,
   "metadata": {},
   "outputs": [],
   "source": [
    "ecoli_sequences_df = sequences_df[(sequences_df.human == False) & (sequences_df.number_of_runs_identified >= 15)]\n",
    "# find the median intensity of each sequence in each 1to1 and 1to3 batch\n",
    "batch_medians_l = []\n",
    "for group_name,group_df in ecoli_sequences_df.groupby(['sequence','charge'], as_index=False):\n",
    "    batch_1to1_median = group_df[group_df.batch == '1to1'].intensity.median()\n",
    "    batch_1to3_median = group_df[group_df.batch == '1to3'].intensity.median()\n",
    "    batch_medians_l.append((group_name[0], group_name[1], batch_1to1_median, batch_1to3_median))\n",
    "batch_medians_df = pd.DataFrame(batch_medians_l, columns=['sequence','charge','batch_1to1_median','batch_1to3_median'])\n",
    "batch_medians_df['log_batch_1to1_median'] = np.log2(batch_medians_df.batch_1to1_median)\n",
    "batch_medians_df['log_batch_1to3_median'] = np.log2(batch_medians_df.batch_1to3_median)\n",
    "batch_medians_df['delta_log_median'] = batch_medians_df.log_batch_1to3_median - batch_medians_df.log_batch_1to1_median"
   ]
  },
  {
   "cell_type": "code",
   "execution_count": 24,
   "metadata": {},
   "outputs": [
    {
     "data": {
      "text/html": [
       "<div>\n",
       "<style scoped>\n",
       "    .dataframe tbody tr th:only-of-type {\n",
       "        vertical-align: middle;\n",
       "    }\n",
       "\n",
       "    .dataframe tbody tr th {\n",
       "        vertical-align: top;\n",
       "    }\n",
       "\n",
       "    .dataframe thead th {\n",
       "        text-align: right;\n",
       "    }\n",
       "</style>\n",
       "<table border=\"1\" class=\"dataframe\">\n",
       "  <thead>\n",
       "    <tr style=\"text-align: right;\">\n",
       "      <th></th>\n",
       "      <th>sequence</th>\n",
       "      <th>charge</th>\n",
       "      <th>batch_1to1_median</th>\n",
       "      <th>batch_1to3_median</th>\n",
       "      <th>log_batch_1to1_median</th>\n",
       "      <th>log_batch_1to3_median</th>\n",
       "      <th>delta_log_median</th>\n",
       "    </tr>\n",
       "  </thead>\n",
       "  <tbody>\n",
       "    <tr>\n",
       "      <th>3014</th>\n",
       "      <td>LKDLETQSQDGTFDK</td>\n",
       "      <td>2</td>\n",
       "      <td>4376.5</td>\n",
       "      <td>7847.0</td>\n",
       "      <td>12.095562</td>\n",
       "      <td>12.937925</td>\n",
       "      <td>0.842364</td>\n",
       "    </tr>\n",
       "    <tr>\n",
       "      <th>2859</th>\n",
       "      <td>LDADIAHALMSINAVK</td>\n",
       "      <td>3</td>\n",
       "      <td>347.5</td>\n",
       "      <td>381.0</td>\n",
       "      <td>8.440869</td>\n",
       "      <td>8.573647</td>\n",
       "      <td>0.132778</td>\n",
       "    </tr>\n",
       "    <tr>\n",
       "      <th>4933</th>\n",
       "      <td>VQGDVAAWFGSLPVVPEGCK</td>\n",
       "      <td>3</td>\n",
       "      <td>357.5</td>\n",
       "      <td>470.0</td>\n",
       "      <td>8.481799</td>\n",
       "      <td>8.876517</td>\n",
       "      <td>0.394718</td>\n",
       "    </tr>\n",
       "    <tr>\n",
       "      <th>1221</th>\n",
       "      <td>ELSAEGFNFIGTGVSGGEEGALK</td>\n",
       "      <td>2</td>\n",
       "      <td>4823.0</td>\n",
       "      <td>5064.5</td>\n",
       "      <td>12.235715</td>\n",
       "      <td>12.306204</td>\n",
       "      <td>0.070489</td>\n",
       "    </tr>\n",
       "    <tr>\n",
       "      <th>1781</th>\n",
       "      <td>GFTSEITVTSNGK</td>\n",
       "      <td>2</td>\n",
       "      <td>1131.0</td>\n",
       "      <td>767.0</td>\n",
       "      <td>10.143383</td>\n",
       "      <td>9.583083</td>\n",
       "      <td>-0.560300</td>\n",
       "    </tr>\n",
       "  </tbody>\n",
       "</table>\n",
       "</div>"
      ],
      "text/plain": [
       "                     sequence  charge  batch_1to1_median  batch_1to3_median  \\\n",
       "3014          LKDLETQSQDGTFDK       2             4376.5             7847.0   \n",
       "2859         LDADIAHALMSINAVK       3              347.5              381.0   \n",
       "4933     VQGDVAAWFGSLPVVPEGCK       3              357.5              470.0   \n",
       "1221  ELSAEGFNFIGTGVSGGEEGALK       2             4823.0             5064.5   \n",
       "1781            GFTSEITVTSNGK       2             1131.0              767.0   \n",
       "\n",
       "      log_batch_1to1_median  log_batch_1to3_median  delta_log_median  \n",
       "3014              12.095562              12.937925          0.842364  \n",
       "2859               8.440869               8.573647          0.132778  \n",
       "4933               8.481799               8.876517          0.394718  \n",
       "1221              12.235715              12.306204          0.070489  \n",
       "1781              10.143383               9.583083         -0.560300  "
      ]
     },
     "execution_count": 24,
     "metadata": {},
     "output_type": "execute_result"
    }
   ],
   "source": [
    "batch_medians_df.sample(n=5)"
   ]
  },
  {
   "cell_type": "code",
   "execution_count": 25,
   "metadata": {},
   "outputs": [
    {
     "data": {
      "image/png": "[encoded data removed]",
      "text/plain": [
       "<Figure size 1080x576 with 1 Axes>"
      ]
     },
     "metadata": {
      "needs_background": "light"
     },
     "output_type": "display_data"
    }
   ],
   "source": [
    "f, ax1 = plt.subplots()\n",
    "f.set_figheight(8)\n",
    "f.set_figwidth(15)\n",
    "\n",
    "plt.margins(0.06)\n",
    "plt.title('')\n",
    "\n",
    "bins = 250\n",
    "hist, bins, _ = plt.hist(batch_medians_df.delta_log_median, bins=bins)\n",
    "plt.xlabel('delta log2 intensity')\n",
    "plt.ylabel('count')\n",
    "plt.title('delta median intensity for sequences in 1to1 and 1to3 batches')\n",
    "# ax1.set(xticks=range(-5,5), xlim=[-5, 5])\n",
    "\n",
    "plt.show()"
   ]
  },
  {
   "cell_type": "code",
   "execution_count": 26,
   "metadata": {},
   "outputs": [],
   "source": [
    "ecoli_sequences_df = sequences_df[(sequences_df.human == False) & (sequences_df.number_of_runs_identified >= 15)]\n",
    "# find the median intensity of each sequence in each 1to1 and 1to3 batch\n",
    "batch_means_l = []\n",
    "for group_name,group_df in ecoli_sequences_df.groupby(['sequence','charge'], as_index=False):\n",
    "    batch_1to1_mean = group_df[group_df.batch == '1to1'].intensity.mean()\n",
    "    batch_1to3_mean = group_df[group_df.batch == '1to3'].intensity.mean()\n",
    "    batch_means_l.append((group_name[0], group_name[1], batch_1to1_mean, batch_1to3_mean))\n",
    "batch_means_df = pd.DataFrame(batch_means_l, columns=['sequence','charge','batch_1to1_mean','batch_1to3_mean'])\n",
    "batch_means_df['log_batch_1to1_mean'] = np.log2(batch_means_df.batch_1to1_mean)\n",
    "batch_means_df['log_batch_1to3_mean'] = np.log2(batch_means_df.batch_1to3_mean)\n",
    "batch_means_df['delta_log_mean'] = batch_means_df.log_batch_1to3_mean - batch_means_df.log_batch_1to1_mean"
   ]
  },
  {
   "cell_type": "code",
   "execution_count": 27,
   "metadata": {},
   "outputs": [
    {
     "data": {
      "image/png": "[encoded data removed]",
      "text/plain": [
       "<Figure size 1080x576 with 1 Axes>"
      ]
     },
     "metadata": {
      "needs_background": "light"
     },
     "output_type": "display_data"
    }
   ],
   "source": [
    "f, ax1 = plt.subplots()\n",
    "f.set_figheight(8)\n",
    "f.set_figwidth(15)\n",
    "\n",
    "plt.margins(0.06)\n",
    "plt.title('')\n",
    "\n",
    "bins = 250\n",
    "hist, bins, _ = plt.hist(batch_means_df.delta_log_mean, bins=bins)\n",
    "plt.xlabel('delta log2 intensity')\n",
    "plt.ylabel('count')\n",
    "plt.title('delta mean intensity for sequences in 1to1 and 1to3 batches')\n",
    "# ax1.set(xticks=range(-5,5), xlim=[-5, 5])\n",
    "\n",
    "plt.show()"
   ]
  },
  {
   "cell_type": "code",
   "execution_count": null,
   "metadata": {},
   "outputs": [],
   "source": []
  }
 ],
 "metadata": {
  "kernelspec": {
   "display_name": "Python 3",
   "language": "python",
   "name": "python3"
  },
  "language_info": {
   "codemirror_mode": {
    "name": "ipython",
    "version": 3
   },
   "file_extension": ".py",
   "mimetype": "text/x-python",
   "name": "python",
   "nbconvert_exporter": "python",
   "pygments_lexer": "ipython3",
   "version": "3.6.8"
  }
 },
 "nbformat": 4,
 "nbformat_minor": 2
}
