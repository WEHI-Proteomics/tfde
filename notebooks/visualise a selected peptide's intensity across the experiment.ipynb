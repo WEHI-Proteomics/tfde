{
 "cells": [
  {
   "cell_type": "markdown",
   "metadata": {},
   "source": [
    "This notebook takes the features classified as targets from the notebook \"classify all features extracted from all the runs\", finds experiment-wide means and standard deviations, "
   ]
  },
  {
   "cell_type": "code",
   "execution_count": 1,
   "metadata": {},
   "outputs": [],
   "source": [
    "import pandas as pd\n",
    "import numpy as np\n",
    "import sys\n",
    "import pickle\n",
    "import glob\n",
    "import os\n",
    "import matplotlib.pyplot as plt\n",
    "import sqlite3"
   ]
  },
  {
   "cell_type": "code",
   "execution_count": 2,
   "metadata": {},
   "outputs": [],
   "source": [
    "EXPERIMENT_DIR = '/home/ubuntu/experiments/dwm-test'"
   ]
  },
  {
   "cell_type": "code",
   "execution_count": 3,
   "metadata": {},
   "outputs": [],
   "source": [
    "# produced by the notebook \"classify all features extracted from all the runs\"\n",
    "TEMP_DIR = '/home/ubuntu'\n",
    "SEQUENCES_WITH_SPECIES_FILE_NAME = '{}/sequences-with-species-df.pkl'.format(TEMP_DIR)\n"
   ]
  },
  {
   "cell_type": "code",
   "execution_count": 4,
   "metadata": {},
   "outputs": [],
   "source": [
    "MAPPING_FILE_NAME = \"{}/recalibrated-percolator-output/percolator-idx-mapping.csv\".format(EXPERIMENT_DIR)\n",
    "\n",
    "# determine the mapping between the percolator index and the run file name\n",
    "def get_percolator_run_mapping(mapping_file_name):\n",
    "    df = pd.read_csv(mapping_file_name)\n",
    "    mapping_l = [tuple(r) for r in df.to_numpy()]\n",
    "    return mapping_l\n",
    "\n",
    "def file_idx_for_run(run_name):\n",
    "    result = None\n",
    "    mapping_l = get_percolator_run_mapping(MAPPING_FILE_NAME)\n",
    "    for m in mapping_l:\n",
    "        if m[1] == run_name:\n",
    "            result = m[0]\n",
    "            break\n",
    "    return result\n",
    "\n",
    "def run_name_for_file_idx(file_idx):\n",
    "    result = None\n",
    "    mapping_l = get_percolator_run_mapping(MAPPING_FILE_NAME)\n",
    "    for m in mapping_l:\n",
    "        if m[0] == file_idx:\n",
    "            result = m[1]\n",
    "            break\n",
    "    return result"
   ]
  },
  {
   "cell_type": "code",
   "execution_count": 5,
   "metadata": {},
   "outputs": [],
   "source": [
    "EXTRACTED_FEATURES_DIR = \"{}/extracted-features\".format(EXPERIMENT_DIR)\n",
    "EXTRACTED_FEATURES_DB_NAME = \"{}/extracted-features.sqlite\".format(EXTRACTED_FEATURES_DIR)\n"
   ]
  },
  {
   "cell_type": "code",
   "execution_count": 6,
   "metadata": {},
   "outputs": [],
   "source": [
    "db_conn = sqlite3.connect(EXTRACTED_FEATURES_DB_NAME)\n",
    "sequences_df = pd.read_sql_query('select sequence,charge,file_idx,peak_idx,number_of_runs_identified,human,run_name,batch,intensity,isotope_idx_not_in_saturation from features where human is false order by intensity desc', db_conn)\n",
    "db_conn.close()\n"
   ]
  },
  {
   "cell_type": "code",
   "execution_count": 7,
   "metadata": {},
   "outputs": [],
   "source": [
    "sequences_df['log_intensity'] = np.log2(sequences_df.intensity)"
   ]
  },
  {
   "cell_type": "markdown",
   "metadata": {},
   "source": [
    "#### use this sample of e.coli sequences that occur in a majority of the runs to analyse the intensity consistency"
   ]
  },
  {
   "cell_type": "code",
   "execution_count": 8,
   "metadata": {},
   "outputs": [
    {
     "data": {
      "text/html": [
       "<div>\n",
       "<style scoped>\n",
       "    .dataframe tbody tr th:only-of-type {\n",
       "        vertical-align: middle;\n",
       "    }\n",
       "\n",
       "    .dataframe tbody tr th {\n",
       "        vertical-align: top;\n",
       "    }\n",
       "\n",
       "    .dataframe thead th {\n",
       "        text-align: right;\n",
       "    }\n",
       "</style>\n",
       "<table border=\"1\" class=\"dataframe\">\n",
       "  <thead>\n",
       "    <tr style=\"text-align: right;\">\n",
       "      <th></th>\n",
       "      <th>sequence</th>\n",
       "      <th>charge</th>\n",
       "      <th>intensity</th>\n",
       "      <th>file_idx</th>\n",
       "    </tr>\n",
       "  </thead>\n",
       "  <tbody>\n",
       "    <tr>\n",
       "      <th>2676</th>\n",
       "      <td>GIRPGAYCEPK</td>\n",
       "      <td>2</td>\n",
       "      <td>6531</td>\n",
       "      <td>8</td>\n",
       "    </tr>\n",
       "    <tr>\n",
       "      <th>3000</th>\n",
       "      <td>FIHFMEPLSR</td>\n",
       "      <td>2</td>\n",
       "      <td>6167</td>\n",
       "      <td>11</td>\n",
       "    </tr>\n",
       "    <tr>\n",
       "      <th>16610</th>\n",
       "      <td>DDSGVHHLNVLDFQR</td>\n",
       "      <td>3</td>\n",
       "      <td>1943</td>\n",
       "      <td>3</td>\n",
       "    </tr>\n",
       "    <tr>\n",
       "      <th>22232</th>\n",
       "      <td>ETPYEPMPENVEEIVAQAK</td>\n",
       "      <td>2</td>\n",
       "      <td>1461</td>\n",
       "      <td>17</td>\n",
       "    </tr>\n",
       "    <tr>\n",
       "      <th>38404</th>\n",
       "      <td>SAELLDTMAHDYR</td>\n",
       "      <td>2</td>\n",
       "      <td>805</td>\n",
       "      <td>4</td>\n",
       "    </tr>\n",
       "    <tr>\n",
       "      <th>63999</th>\n",
       "      <td>DAGIEASQIGYVNAHGTSTPAGDKAEAQAVK</td>\n",
       "      <td>3</td>\n",
       "      <td>416</td>\n",
       "      <td>12</td>\n",
       "    </tr>\n",
       "    <tr>\n",
       "      <th>68307</th>\n",
       "      <td>SRDPQLQVVTNK</td>\n",
       "      <td>2</td>\n",
       "      <td>379</td>\n",
       "      <td>6</td>\n",
       "    </tr>\n",
       "    <tr>\n",
       "      <th>87039</th>\n",
       "      <td>QAEGDFFVCTPEEGSK</td>\n",
       "      <td>2</td>\n",
       "      <td>250</td>\n",
       "      <td>12</td>\n",
       "    </tr>\n",
       "    <tr>\n",
       "      <th>103348</th>\n",
       "      <td>GEPSEGMLCSFSELGISDDHSGIIELPADAPIGTDIR</td>\n",
       "      <td>3</td>\n",
       "      <td>133</td>\n",
       "      <td>16</td>\n",
       "    </tr>\n",
       "    <tr>\n",
       "      <th>103627</th>\n",
       "      <td>EYINNFAQMVDVLAGK</td>\n",
       "      <td>2</td>\n",
       "      <td>129</td>\n",
       "      <td>11</td>\n",
       "    </tr>\n",
       "  </tbody>\n",
       "</table>\n",
       "</div>"
      ],
      "text/plain": [
       "                                     sequence  charge  intensity  file_idx\n",
       "2676                              GIRPGAYCEPK       2       6531         8\n",
       "3000                               FIHFMEPLSR       2       6167        11\n",
       "16610                         DDSGVHHLNVLDFQR       3       1943         3\n",
       "22232                     ETPYEPMPENVEEIVAQAK       2       1461        17\n",
       "38404                           SAELLDTMAHDYR       2        805         4\n",
       "63999         DAGIEASQIGYVNAHGTSTPAGDKAEAQAVK       3        416        12\n",
       "68307                            SRDPQLQVVTNK       2        379         6\n",
       "87039                        QAEGDFFVCTPEEGSK       2        250        12\n",
       "103348  GEPSEGMLCSFSELGISDDHSGIIELPADAPIGTDIR       3        133        16\n",
       "103627                       EYINNFAQMVDVLAGK       2        129        11"
      ]
     },
     "execution_count": 8,
     "metadata": {},
     "output_type": "execute_result"
    }
   ],
   "source": [
    "sequences_df[(sequences_df.number_of_runs_identified > 15) & (sequences_df.human == False)][['sequence','charge','intensity','file_idx']].sample(10).sort_values(by=['intensity','sequence','charge'], ascending=False, inplace=False)\n"
   ]
  },
  {
   "cell_type": "markdown",
   "metadata": {},
   "source": [
    "#### analyse a selected sequence across the experiment for runs in which it was classified as a target"
   ]
  },
  {
   "cell_type": "code",
   "execution_count": 9,
   "metadata": {},
   "outputs": [],
   "source": [
    "selected_sequence = 'DAMVPMGGLLCMK'\n",
    "selected_sequence_charge = 2"
   ]
  },
  {
   "cell_type": "code",
   "execution_count": 10,
   "metadata": {},
   "outputs": [],
   "source": [
    "selected_sequence_df = sequences_df[(sequences_df.sequence == selected_sequence) & (sequences_df.charge == selected_sequence_charge)].copy()\n",
    "selected_sequence_df.sort_values(by=['batch','run_name'], inplace=True)"
   ]
  },
  {
   "cell_type": "markdown",
   "metadata": {},
   "source": [
    "#### compare the intensities across the experiment for the selected sequence"
   ]
  },
  {
   "cell_type": "code",
   "execution_count": 11,
   "metadata": {},
   "outputs": [],
   "source": [
    "selected_sequence_1to1_df = selected_sequence_df[selected_sequence_df.batch == '1to1']\n",
    "selected_sequence_1to3_df = selected_sequence_df[selected_sequence_df.batch == '1to3']"
   ]
  },
  {
   "cell_type": "code",
   "execution_count": 29,
   "metadata": {
    "scrolled": false
   },
   "outputs": [
    {
     "data": {
      "image/png": "[encoded data removed]",
      "text/plain": [
       "<Figure size 1080x576 with 1 Axes>"
      ]
     },
     "metadata": {
      "needs_background": "light"
     },
     "output_type": "display_data"
    }
   ],
   "source": [
    "f, ax1 = plt.subplots()\n",
    "f.set_figheight(8)\n",
    "f.set_figwidth(15)\n",
    "\n",
    "plt.margins(0.06)\n",
    "\n",
    "mean_1to1 = round(np.mean(np.log2(selected_sequence_1to1_df.intensity)), 2)\n",
    "mean_1to3 = round(np.mean(np.log2(selected_sequence_1to3_df.intensity)), 2)\n",
    "\n",
    "plt.title('intensities from all runs for sequence {}, charge {}\\nmean 1to1 {}, mean 1to3 {}'.format(selected_sequence, selected_sequence_charge, mean_1to1, mean_1to3))\n",
    "\n",
    "ax1.scatter(selected_sequence_1to1_df.run_name, selected_sequence_1to1_df.log_intensity, marker='o', color='tab:orange', lw=0, s=30, alpha=1.0, label='1to1 batch')\n",
    "ax1.scatter(selected_sequence_1to3_df.run_name, selected_sequence_1to3_df.log_intensity, marker='o', color='tab:blue', lw=0, s=30, alpha=1.0, label='1to3 batch')\n",
    "\n",
    "# highlight whether a point was adjusted for saturation\n",
    "adj_sat_1to1 = selected_sequence_1to1_df[(selected_sequence_1to1_df.isotope_idx_not_in_saturation > 0)]\n",
    "if len(adj_sat_1to1) > 0:\n",
    "    ax1.plot(adj_sat_1to1.run_name, adj_sat_1to1.log_intensity, marker='o', markerfacecolor='none', markeredgecolor='springgreen', linestyle='', markeredgewidth=2, ms=15, label='inferred intensity')\n",
    "\n",
    "adj_sat_1to3 = selected_sequence_1to3_df[(selected_sequence_1to3_df.isotope_idx_not_in_saturation > 0)]\n",
    "if len(adj_sat_1to3) > 0:\n",
    "    ax1.plot(adj_sat_1to3.run_name, adj_sat_1to3.log_intensity, marker='o', markerfacecolor='none', markeredgecolor='springgreen', linestyle='', markeredgewidth=2, ms=15, label='_nolegend_')\n",
    "\n",
    "# show which isotope was used as a reference\n",
    "text_style = dict(size=10, color='blue')\n",
    "for idx,row in adj_sat_1to1.iterrows():\n",
    "    ax1.text(row.run_name, row.log_intensity+2.1, \"ref iso {}\".format(int(row.isotope_idx_not_in_saturation)), **text_style, rotation=90)\n",
    "for idx,row in adj_sat_1to3.iterrows():\n",
    "    ax1.text(row.run_name, row.log_intensity+2.1, \"ref iso {}\".format(int(row.isotope_idx_not_in_saturation)), **text_style, rotation=90)\n",
    "\n",
    "plt.xlabel('run name')\n",
    "plt.ylabel('log2 intensity')\n",
    "plt.legend(loc='best')\n",
    "\n",
    "# plt.xlim((0,50))\n",
    "plt.ylim((0,20))\n",
    "plt.xticks(rotation=90)\n",
    "\n",
    "plt.show()"
   ]
  },
  {
   "cell_type": "markdown",
   "metadata": {},
   "source": [
    "#### look at the distribution of intensity deltas for sequences in 1to1 runs 01 and 02"
   ]
  },
  {
   "cell_type": "code",
   "execution_count": 13,
   "metadata": {},
   "outputs": [],
   "source": [
    "run_A = '190719_Hela_Ecoli_1to1_01'\n",
    "run_B = '190719_Hela_Ecoli_1to1_02'\n",
    "sequences_in_run_01_df = sequences_df[(sequences_df.file_idx == file_idx_for_run(run_A))]\n",
    "sequences_in_run_02_df = sequences_df[(sequences_df.file_idx == file_idx_for_run(run_B))]"
   ]
  },
  {
   "cell_type": "code",
   "execution_count": 14,
   "metadata": {},
   "outputs": [],
   "source": [
    "sequences_in_both_runs_df = pd.merge(sequences_in_run_01_df, sequences_in_run_02_df, how='inner', left_on=['sequence','charge'], right_on=['sequence','charge'])\n"
   ]
  },
  {
   "cell_type": "code",
   "execution_count": 15,
   "metadata": {},
   "outputs": [],
   "source": [
    "sequences_in_both_runs_df['delta_log_intensity'] = sequences_in_both_runs_df.log_intensity_x - sequences_in_both_runs_df.log_intensity_y"
   ]
  },
  {
   "cell_type": "code",
   "execution_count": 16,
   "metadata": {},
   "outputs": [
    {
     "data": {
      "image/png": "[encoded data removed]",
      "text/plain": [
       "<Figure size 1080x576 with 1 Axes>"
      ]
     },
     "metadata": {
      "needs_background": "light"
     },
     "output_type": "display_data"
    }
   ],
   "source": [
    "f, ax1 = plt.subplots()\n",
    "f.set_figheight(8)\n",
    "f.set_figwidth(15)\n",
    "\n",
    "plt.margins(0.06)\n",
    "plt.title('')\n",
    "\n",
    "bins = 250\n",
    "hist, bins, _ = plt.hist(sequences_in_both_runs_df.delta_log_intensity, bins=bins)\n",
    "plt.xlabel('log2 delta intensity')\n",
    "plt.ylabel('count')\n",
    "plt.title('delta intensity for runs {} and {}'.format(run_A, run_B))\n",
    "ax1.set(xticks=range(-5,5), xlim=[-5, 5])\n",
    "\n",
    "plt.show()"
   ]
  },
  {
   "cell_type": "code",
   "execution_count": 17,
   "metadata": {},
   "outputs": [],
   "source": [
    "ecoli_sequences_df = sequences_df[(sequences_df.human == False) & (sequences_df.number_of_runs_identified >= 15)]\n",
    "# find the median intensity of each sequence in each 1to1 and 1to3 batch\n",
    "batch_medians_l = []\n",
    "for group_name,group_df in ecoli_sequences_df.groupby(['sequence','charge'], as_index=False):\n",
    "    batch_1to1_median = group_df[group_df.batch == '1to1'].intensity.median()\n",
    "    batch_1to3_median = group_df[group_df.batch == '1to3'].intensity.median()\n",
    "    batch_medians_l.append((group_name[0], group_name[1], batch_1to1_median, batch_1to3_median))\n",
    "batch_medians_df = pd.DataFrame(batch_medians_l, columns=['sequence','charge','batch_1to1_median','batch_1to3_median'])\n",
    "batch_medians_df['log_batch_1to1_median'] = np.log2(batch_medians_df.batch_1to1_median)\n",
    "batch_medians_df['log_batch_1to3_median'] = np.log2(batch_medians_df.batch_1to3_median)\n",
    "batch_medians_df['delta_log_median'] = batch_medians_df.log_batch_1to3_median - batch_medians_df.log_batch_1to1_median"
   ]
  },
  {
   "cell_type": "code",
   "execution_count": 18,
   "metadata": {},
   "outputs": [
    {
     "data": {
      "text/html": [
       "<div>\n",
       "<style scoped>\n",
       "    .dataframe tbody tr th:only-of-type {\n",
       "        vertical-align: middle;\n",
       "    }\n",
       "\n",
       "    .dataframe tbody tr th {\n",
       "        vertical-align: top;\n",
       "    }\n",
       "\n",
       "    .dataframe thead th {\n",
       "        text-align: right;\n",
       "    }\n",
       "</style>\n",
       "<table border=\"1\" class=\"dataframe\">\n",
       "  <thead>\n",
       "    <tr style=\"text-align: right;\">\n",
       "      <th></th>\n",
       "      <th>sequence</th>\n",
       "      <th>charge</th>\n",
       "      <th>batch_1to1_median</th>\n",
       "      <th>batch_1to3_median</th>\n",
       "      <th>log_batch_1to1_median</th>\n",
       "      <th>log_batch_1to3_median</th>\n",
       "      <th>delta_log_median</th>\n",
       "    </tr>\n",
       "  </thead>\n",
       "  <tbody>\n",
       "    <tr>\n",
       "      <th>1766</th>\n",
       "      <td>GHVMNALPEDAK</td>\n",
       "      <td>2</td>\n",
       "      <td>910.5</td>\n",
       "      <td>722.0</td>\n",
       "      <td>9.830515</td>\n",
       "      <td>9.495855</td>\n",
       "      <td>-0.334660</td>\n",
       "    </tr>\n",
       "    <tr>\n",
       "      <th>2817</th>\n",
       "      <td>LFVVDAFCGANPDTR</td>\n",
       "      <td>2</td>\n",
       "      <td>204.0</td>\n",
       "      <td>266.5</td>\n",
       "      <td>7.672425</td>\n",
       "      <td>8.057992</td>\n",
       "      <td>0.385566</td>\n",
       "    </tr>\n",
       "    <tr>\n",
       "      <th>3910</th>\n",
       "      <td>SGAQAVCFAPDK</td>\n",
       "      <td>2</td>\n",
       "      <td>737.5</td>\n",
       "      <td>334.0</td>\n",
       "      <td>9.526499</td>\n",
       "      <td>8.383704</td>\n",
       "      <td>-1.142795</td>\n",
       "    </tr>\n",
       "    <tr>\n",
       "      <th>1428</th>\n",
       "      <td>FGGQILDTVDIENYISVPK</td>\n",
       "      <td>2</td>\n",
       "      <td>408.5</td>\n",
       "      <td>978.5</td>\n",
       "      <td>8.674192</td>\n",
       "      <td>9.934428</td>\n",
       "      <td>1.260236</td>\n",
       "    </tr>\n",
       "    <tr>\n",
       "      <th>3062</th>\n",
       "      <td>LTEMGFPCIGLPGTIDNDIK</td>\n",
       "      <td>3</td>\n",
       "      <td>263.5</td>\n",
       "      <td>327.5</td>\n",
       "      <td>8.041659</td>\n",
       "      <td>8.355351</td>\n",
       "      <td>0.313692</td>\n",
       "    </tr>\n",
       "  </tbody>\n",
       "</table>\n",
       "</div>"
      ],
      "text/plain": [
       "                  sequence  charge  batch_1to1_median  batch_1to3_median  \\\n",
       "1766          GHVMNALPEDAK       2              910.5              722.0   \n",
       "2817       LFVVDAFCGANPDTR       2              204.0              266.5   \n",
       "3910          SGAQAVCFAPDK       2              737.5              334.0   \n",
       "1428   FGGQILDTVDIENYISVPK       2              408.5              978.5   \n",
       "3062  LTEMGFPCIGLPGTIDNDIK       3              263.5              327.5   \n",
       "\n",
       "      log_batch_1to1_median  log_batch_1to3_median  delta_log_median  \n",
       "1766               9.830515               9.495855         -0.334660  \n",
       "2817               7.672425               8.057992          0.385566  \n",
       "3910               9.526499               8.383704         -1.142795  \n",
       "1428               8.674192               9.934428          1.260236  \n",
       "3062               8.041659               8.355351          0.313692  "
      ]
     },
     "execution_count": 18,
     "metadata": {},
     "output_type": "execute_result"
    }
   ],
   "source": [
    "batch_medians_df.sample(n=5)"
   ]
  },
  {
   "cell_type": "code",
   "execution_count": 19,
   "metadata": {},
   "outputs": [
    {
     "data": {
      "image/png": "[encoded data removed]",
      "text/plain": [
       "<Figure size 1080x576 with 1 Axes>"
      ]
     },
     "metadata": {
      "needs_background": "light"
     },
     "output_type": "display_data"
    }
   ],
   "source": [
    "f, ax1 = plt.subplots()\n",
    "f.set_figheight(8)\n",
    "f.set_figwidth(15)\n",
    "\n",
    "plt.margins(0.06)\n",
    "plt.title('')\n",
    "\n",
    "bins = 250\n",
    "hist, bins, _ = plt.hist(batch_medians_df.delta_log_median, bins=bins)\n",
    "plt.xlabel('delta log2 intensity')\n",
    "plt.ylabel('count')\n",
    "plt.title('delta median intensity for sequences in 1to1 and 1to3 batches')\n",
    "# ax1.set(xticks=range(-5,5), xlim=[-5, 5])\n",
    "\n",
    "plt.show()"
   ]
  },
  {
   "cell_type": "code",
   "execution_count": 20,
   "metadata": {},
   "outputs": [],
   "source": [
    "ecoli_sequences_df = sequences_df[(sequences_df.human == False) & (sequences_df.number_of_runs_identified >= 15)]\n",
    "# find the median intensity of each sequence in each 1to1 and 1to3 batch\n",
    "batch_means_l = []\n",
    "for group_name,group_df in ecoli_sequences_df.groupby(['sequence','charge'], as_index=False):\n",
    "    batch_1to1_mean = group_df[group_df.batch == '1to1'].intensity.mean()\n",
    "    batch_1to3_mean = group_df[group_df.batch == '1to3'].intensity.mean()\n",
    "    batch_means_l.append((group_name[0], group_name[1], batch_1to1_mean, batch_1to3_mean))\n",
    "batch_means_df = pd.DataFrame(batch_means_l, columns=['sequence','charge','batch_1to1_mean','batch_1to3_mean'])\n",
    "batch_means_df['log_batch_1to1_mean'] = np.log2(batch_means_df.batch_1to1_mean)\n",
    "batch_means_df['log_batch_1to3_mean'] = np.log2(batch_means_df.batch_1to3_mean)\n",
    "batch_means_df['delta_log_mean'] = batch_means_df.log_batch_1to3_mean - batch_means_df.log_batch_1to1_mean"
   ]
  },
  {
   "cell_type": "code",
   "execution_count": 21,
   "metadata": {},
   "outputs": [
    {
     "data": {
      "image/png": "[encoded data removed]",
      "text/plain": [
       "<Figure size 1080x576 with 1 Axes>"
      ]
     },
     "metadata": {
      "needs_background": "light"
     },
     "output_type": "display_data"
    }
   ],
   "source": [
    "f, ax1 = plt.subplots()\n",
    "f.set_figheight(8)\n",
    "f.set_figwidth(15)\n",
    "\n",
    "plt.margins(0.06)\n",
    "plt.title('')\n",
    "\n",
    "bins = 250\n",
    "hist, bins, _ = plt.hist(batch_means_df.delta_log_mean, bins=bins)\n",
    "plt.xlabel('delta log2 intensity')\n",
    "plt.ylabel('count')\n",
    "plt.title('delta mean intensity for sequences in 1to1 and 1to3 batches')\n",
    "# ax1.set(xticks=range(-5,5), xlim=[-5, 5])\n",
    "\n",
    "plt.show()"
   ]
  },
  {
   "cell_type": "code",
   "execution_count": null,
   "metadata": {},
   "outputs": [],
   "source": []
  }
 ],
 "metadata": {
  "kernelspec": {
   "display_name": "Python 3",
   "language": "python",
   "name": "python3"
  },
  "language_info": {
   "codemirror_mode": {
    "name": "ipython",
    "version": 3
   },
   "file_extension": ".py",
   "mimetype": "text/x-python",
   "name": "python",
   "nbconvert_exporter": "python",
   "pygments_lexer": "ipython3",
   "version": "3.6.8"
  }
 },
 "nbformat": 4,
 "nbformat_minor": 2
}
