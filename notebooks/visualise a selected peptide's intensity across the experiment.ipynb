{
 "cells": [
  {
   "cell_type": "markdown",
   "metadata": {},
   "source": [
    "This notebook takes the features classified as targets from the notebook \"classify all features extracted from all the runs\", finds experiment-wide means and standard deviations, "
   ]
  },
  {
   "cell_type": "code",
   "execution_count": 1,
   "metadata": {},
   "outputs": [],
   "source": [
    "import pandas as pd\n",
    "import numpy as np\n",
    "import sys\n",
    "import pickle\n",
    "import glob\n",
    "import os\n",
    "import matplotlib.pyplot as plt\n",
    "import sqlite3"
   ]
  },
  {
   "cell_type": "code",
   "execution_count": 2,
   "metadata": {},
   "outputs": [],
   "source": [
    "EXPERIMENT_DIR = '/home/ubuntu/experiments/dwm-test'"
   ]
  },
  {
   "cell_type": "code",
   "execution_count": 3,
   "metadata": {},
   "outputs": [],
   "source": [
    "MAPPING_FILE_NAME = \"{}/recalibrated-percolator-output/percolator-idx-mapping.csv\".format(EXPERIMENT_DIR)\n",
    "\n",
    "# determine the mapping between the percolator index and the run file name\n",
    "def get_percolator_run_mapping(mapping_file_name):\n",
    "    df = pd.read_csv(mapping_file_name)\n",
    "    mapping_l = [tuple(r) for r in df.to_numpy()]\n",
    "    return mapping_l\n",
    "\n",
    "def file_idx_for_run(run_name):\n",
    "    result = None\n",
    "    mapping_l = get_percolator_run_mapping(MAPPING_FILE_NAME)\n",
    "    for m in mapping_l:\n",
    "        if m[1] == run_name:\n",
    "            result = m[0]\n",
    "            break\n",
    "    return result\n",
    "\n",
    "def run_name_for_file_idx(file_idx):\n",
    "    result = None\n",
    "    mapping_l = get_percolator_run_mapping(MAPPING_FILE_NAME)\n",
    "    for m in mapping_l:\n",
    "        if m[0] == file_idx:\n",
    "            result = m[1]\n",
    "            break\n",
    "    return result"
   ]
  },
  {
   "cell_type": "code",
   "execution_count": 4,
   "metadata": {},
   "outputs": [],
   "source": [
    "EXTRACTED_FEATURES_DIR = \"{}/extracted-features\".format(EXPERIMENT_DIR)\n",
    "EXTRACTED_FEATURES_DB_NAME = \"{}/extracted-features.sqlite\".format(EXTRACTED_FEATURES_DIR)\n"
   ]
  },
  {
   "cell_type": "code",
   "execution_count": 5,
   "metadata": {},
   "outputs": [],
   "source": [
    "db_conn = sqlite3.connect(EXTRACTED_FEATURES_DB_NAME)\n",
    "sequences_df = pd.read_sql_query('select sequence,charge,file_idx,peak_idx,number_of_runs_extracted,human,run_name,batch,intensity,isotope_idx_not_in_saturation from features where human is false and number_of_runs_extracted >= 15 order by intensity desc', db_conn)\n",
    "db_conn.close()\n"
   ]
  },
  {
   "cell_type": "code",
   "execution_count": 6,
   "metadata": {},
   "outputs": [],
   "source": [
    "sequences_df['log_intensity'] = np.log2(sequences_df.intensity)"
   ]
  },
  {
   "cell_type": "markdown",
   "metadata": {},
   "source": [
    "#### use this sample of e.coli sequences that occur in a majority of the runs to analyse the intensity consistency"
   ]
  },
  {
   "cell_type": "code",
   "execution_count": 7,
   "metadata": {},
   "outputs": [
    {
     "data": {
      "text/html": [
       "<div>\n",
       "<style scoped>\n",
       "    .dataframe tbody tr th:only-of-type {\n",
       "        vertical-align: middle;\n",
       "    }\n",
       "\n",
       "    .dataframe tbody tr th {\n",
       "        vertical-align: top;\n",
       "    }\n",
       "\n",
       "    .dataframe thead th {\n",
       "        text-align: right;\n",
       "    }\n",
       "</style>\n",
       "<table border=\"1\" class=\"dataframe\">\n",
       "  <thead>\n",
       "    <tr style=\"text-align: right;\">\n",
       "      <th></th>\n",
       "      <th>sequence</th>\n",
       "      <th>charge</th>\n",
       "      <th>intensity</th>\n",
       "      <th>file_idx</th>\n",
       "    </tr>\n",
       "  </thead>\n",
       "  <tbody>\n",
       "    <tr>\n",
       "      <th>8049</th>\n",
       "      <td>GVHEGHVAAEVIAGK</td>\n",
       "      <td>2</td>\n",
       "      <td>11440</td>\n",
       "      <td>10</td>\n",
       "    </tr>\n",
       "    <tr>\n",
       "      <th>13555</th>\n",
       "      <td>HELNIVQNNEFVDHR</td>\n",
       "      <td>3</td>\n",
       "      <td>7271</td>\n",
       "      <td>13</td>\n",
       "    </tr>\n",
       "    <tr>\n",
       "      <th>21764</th>\n",
       "      <td>EGNDFYHEMTDSNVIDK</td>\n",
       "      <td>2</td>\n",
       "      <td>4835</td>\n",
       "      <td>15</td>\n",
       "    </tr>\n",
       "    <tr>\n",
       "      <th>36145</th>\n",
       "      <td>SEDDPQAQELAALIADK</td>\n",
       "      <td>2</td>\n",
       "      <td>2759</td>\n",
       "      <td>18</td>\n",
       "    </tr>\n",
       "    <tr>\n",
       "      <th>40375</th>\n",
       "      <td>AAILGAESFGFGTGPMVALGCK</td>\n",
       "      <td>2</td>\n",
       "      <td>2413</td>\n",
       "      <td>13</td>\n",
       "    </tr>\n",
       "    <tr>\n",
       "      <th>44751</th>\n",
       "      <td>SIDEQEDKPLK</td>\n",
       "      <td>2</td>\n",
       "      <td>2110</td>\n",
       "      <td>4</td>\n",
       "    </tr>\n",
       "    <tr>\n",
       "      <th>55385</th>\n",
       "      <td>HGLGISCLSR</td>\n",
       "      <td>2</td>\n",
       "      <td>1568</td>\n",
       "      <td>15</td>\n",
       "    </tr>\n",
       "    <tr>\n",
       "      <th>61211</th>\n",
       "      <td>VGGSLEAAVTLYAEPELSAK</td>\n",
       "      <td>2</td>\n",
       "      <td>1351</td>\n",
       "      <td>8</td>\n",
       "    </tr>\n",
       "    <tr>\n",
       "      <th>74886</th>\n",
       "      <td>VM[15.9949]QAQGSQLTNK</td>\n",
       "      <td>2</td>\n",
       "      <td>930</td>\n",
       "      <td>2</td>\n",
       "    </tr>\n",
       "    <tr>\n",
       "      <th>90424</th>\n",
       "      <td>GLGEMNPEQLWETTMDPESR</td>\n",
       "      <td>2</td>\n",
       "      <td>533</td>\n",
       "      <td>19</td>\n",
       "    </tr>\n",
       "  </tbody>\n",
       "</table>\n",
       "</div>"
      ],
      "text/plain": [
       "                     sequence  charge  intensity  file_idx\n",
       "8049          GVHEGHVAAEVIAGK       2      11440        10\n",
       "13555         HELNIVQNNEFVDHR       3       7271        13\n",
       "21764       EGNDFYHEMTDSNVIDK       2       4835        15\n",
       "36145       SEDDPQAQELAALIADK       2       2759        18\n",
       "40375  AAILGAESFGFGTGPMVALGCK       2       2413        13\n",
       "44751             SIDEQEDKPLK       2       2110         4\n",
       "55385              HGLGISCLSR       2       1568        15\n",
       "61211    VGGSLEAAVTLYAEPELSAK       2       1351         8\n",
       "74886   VM[15.9949]QAQGSQLTNK       2        930         2\n",
       "90424    GLGEMNPEQLWETTMDPESR       2        533        19"
      ]
     },
     "execution_count": 7,
     "metadata": {},
     "output_type": "execute_result"
    }
   ],
   "source": [
    "sequences_df[['sequence','charge','intensity','file_idx']].sample(10).sort_values(by=['intensity','sequence','charge'], ascending=False, inplace=False)\n"
   ]
  },
  {
   "cell_type": "markdown",
   "metadata": {},
   "source": [
    "#### analyse a selected sequence across the experiment for runs in which it was classified as a target"
   ]
  },
  {
   "cell_type": "code",
   "execution_count": 72,
   "metadata": {},
   "outputs": [],
   "source": [
    "selected_sequence = 'HGLGISCLSR'\n",
    "selected_sequence_charge = 2"
   ]
  },
  {
   "cell_type": "code",
   "execution_count": 73,
   "metadata": {},
   "outputs": [],
   "source": [
    "selected_sequence_df = sequences_df[(sequences_df.sequence == selected_sequence) & (sequences_df.charge == selected_sequence_charge)].copy()\n",
    "selected_sequence_df.sort_values(by=['batch','run_name'], inplace=True)"
   ]
  },
  {
   "cell_type": "markdown",
   "metadata": {},
   "source": [
    "#### compare the intensities across the experiment for the selected sequence"
   ]
  },
  {
   "cell_type": "code",
   "execution_count": 74,
   "metadata": {},
   "outputs": [],
   "source": [
    "selected_sequence_1to1_df = selected_sequence_df[selected_sequence_df.batch == '1to1']\n",
    "selected_sequence_1to3_df = selected_sequence_df[selected_sequence_df.batch == '1to3']"
   ]
  },
  {
   "cell_type": "code",
   "execution_count": 75,
   "metadata": {
    "scrolled": false
   },
   "outputs": [
    {
     "data": {
      "image/png": "[encoded data removed]",
      "text/plain": [
       "<Figure size 1080x576 with 1 Axes>"
      ]
     },
     "metadata": {
      "needs_background": "light"
     },
     "output_type": "display_data"
    }
   ],
   "source": [
    "f, ax1 = plt.subplots()\n",
    "f.set_figheight(8)\n",
    "f.set_figwidth(15)\n",
    "\n",
    "plt.margins(0.06)\n",
    "\n",
    "mean_1to1 = round(np.mean(np.log2(selected_sequence_1to1_df.intensity)), 2)\n",
    "mean_1to3 = round(np.mean(np.log2(selected_sequence_1to3_df.intensity)), 2)\n",
    "\n",
    "plt.title('intensities from all runs for sequence {}, charge {}\\nmean 1to1 {}, mean 1to3 {}'.format(selected_sequence, selected_sequence_charge, mean_1to1, mean_1to3))\n",
    "\n",
    "ax1.scatter(selected_sequence_1to1_df.run_name, selected_sequence_1to1_df.log_intensity, marker='o', color='tab:orange', lw=0, s=30, alpha=1.0, label='1to1 batch')\n",
    "ax1.scatter(selected_sequence_1to3_df.run_name, selected_sequence_1to3_df.log_intensity, marker='o', color='tab:blue', lw=0, s=30, alpha=1.0, label='1to3 batch')\n",
    "\n",
    "# highlight whether a point was adjusted for saturation\n",
    "adj_sat_1to1 = selected_sequence_1to1_df[(selected_sequence_1to1_df.isotope_idx_not_in_saturation > 0)]\n",
    "if len(adj_sat_1to1) > 0:\n",
    "    ax1.plot(adj_sat_1to1.run_name, adj_sat_1to1.log_intensity, marker='o', markerfacecolor='none', markeredgecolor='springgreen', linestyle='', markeredgewidth=2, ms=15, label='inferred intensity')\n",
    "\n",
    "adj_sat_1to3 = selected_sequence_1to3_df[(selected_sequence_1to3_df.isotope_idx_not_in_saturation > 0)]\n",
    "if len(adj_sat_1to3) > 0:\n",
    "    ax1.plot(adj_sat_1to3.run_name, adj_sat_1to3.log_intensity, marker='o', markerfacecolor='none', markeredgecolor='springgreen', linestyle='', markeredgewidth=2, ms=15, label='_nolegend_')\n",
    "\n",
    "# show which isotope was used as a reference\n",
    "text_style = dict(size=10, color='blue')\n",
    "for idx,row in adj_sat_1to1.iterrows():\n",
    "    ax1.text(row.run_name, row.log_intensity+2.1, \"ref iso {}\".format(int(row.isotope_idx_not_in_saturation)), **text_style, rotation=90)\n",
    "for idx,row in adj_sat_1to3.iterrows():\n",
    "    ax1.text(row.run_name, row.log_intensity+2.1, \"ref iso {}\".format(int(row.isotope_idx_not_in_saturation)), **text_style, rotation=90)\n",
    "\n",
    "plt.xlabel('run name')\n",
    "plt.ylabel('log2 intensity')\n",
    "plt.legend(loc='best')\n",
    "\n",
    "# plt.xlim((0,50))\n",
    "plt.ylim((0,20))\n",
    "plt.xticks(rotation=90)\n",
    "\n",
    "plt.show()"
   ]
  },
  {
   "cell_type": "markdown",
   "metadata": {},
   "source": [
    "#### look at the distribution of intensity deltas for sequences in 1to1 runs 01 and 02"
   ]
  },
  {
   "cell_type": "code",
   "execution_count": 55,
   "metadata": {},
   "outputs": [],
   "source": [
    "run_A = '190719_Hela_Ecoli_1to1_01'\n",
    "run_B = '190719_Hela_Ecoli_1to1_02'\n",
    "sequences_in_run_01_df = sequences_df[(sequences_df.file_idx == file_idx_for_run(run_A))]\n",
    "sequences_in_run_02_df = sequences_df[(sequences_df.file_idx == file_idx_for_run(run_B))]"
   ]
  },
  {
   "cell_type": "code",
   "execution_count": 56,
   "metadata": {},
   "outputs": [],
   "source": [
    "sequences_in_both_runs_df = pd.merge(sequences_in_run_01_df, sequences_in_run_02_df, how='inner', left_on=['sequence','charge'], right_on=['sequence','charge'])\n"
   ]
  },
  {
   "cell_type": "code",
   "execution_count": 57,
   "metadata": {},
   "outputs": [],
   "source": [
    "sequences_in_both_runs_df['delta_log_intensity'] = sequences_in_both_runs_df.log_intensity_x - sequences_in_both_runs_df.log_intensity_y"
   ]
  },
  {
   "cell_type": "code",
   "execution_count": 58,
   "metadata": {},
   "outputs": [
    {
     "data": {
      "image/png": "[encoded data removed]",
      "text/plain": [
       "<Figure size 1080x576 with 1 Axes>"
      ]
     },
     "metadata": {
      "needs_background": "light"
     },
     "output_type": "display_data"
    }
   ],
   "source": [
    "f, ax1 = plt.subplots()\n",
    "f.set_figheight(8)\n",
    "f.set_figwidth(15)\n",
    "\n",
    "plt.margins(0.06)\n",
    "plt.title('')\n",
    "\n",
    "bins = 250\n",
    "hist, bins, _ = plt.hist(sequences_in_both_runs_df.delta_log_intensity, bins=bins)\n",
    "plt.xlabel('log2 delta intensity')\n",
    "plt.ylabel('count')\n",
    "plt.title('delta intensity for runs {} and {}'.format(run_A, run_B))\n",
    "ax1.set(xticks=range(-5,5), xlim=[-5, 5])\n",
    "\n",
    "plt.show()"
   ]
  },
  {
   "cell_type": "code",
   "execution_count": 59,
   "metadata": {},
   "outputs": [],
   "source": [
    "ecoli_sequences_df = sequences_df[(sequences_df.human == False) & (sequences_df.number_of_runs_extracted >= 15)]\n",
    "# find the median intensity of each sequence in each 1to1 and 1to3 batch\n",
    "batch_medians_l = []\n",
    "for group_name,group_df in ecoli_sequences_df.groupby(['sequence','charge'], as_index=False):\n",
    "    batch_1to1_median = group_df[group_df.batch == '1to1'].intensity.median()\n",
    "    batch_1to3_median = group_df[group_df.batch == '1to3'].intensity.median()\n",
    "    batch_medians_l.append((group_name[0], group_name[1], batch_1to1_median, batch_1to3_median))\n",
    "batch_medians_df = pd.DataFrame(batch_medians_l, columns=['sequence','charge','batch_1to1_median','batch_1to3_median'])\n",
    "batch_medians_df['log_batch_1to1_median'] = np.log2(batch_medians_df.batch_1to1_median)\n",
    "batch_medians_df['log_batch_1to3_median'] = np.log2(batch_medians_df.batch_1to3_median)\n",
    "batch_medians_df['delta_log_median'] = batch_medians_df.log_batch_1to3_median - batch_medians_df.log_batch_1to1_median"
   ]
  },
  {
   "cell_type": "code",
   "execution_count": 60,
   "metadata": {},
   "outputs": [
    {
     "data": {
      "text/html": [
       "<div>\n",
       "<style scoped>\n",
       "    .dataframe tbody tr th:only-of-type {\n",
       "        vertical-align: middle;\n",
       "    }\n",
       "\n",
       "    .dataframe tbody tr th {\n",
       "        vertical-align: top;\n",
       "    }\n",
       "\n",
       "    .dataframe thead th {\n",
       "        text-align: right;\n",
       "    }\n",
       "</style>\n",
       "<table border=\"1\" class=\"dataframe\">\n",
       "  <thead>\n",
       "    <tr style=\"text-align: right;\">\n",
       "      <th></th>\n",
       "      <th>sequence</th>\n",
       "      <th>charge</th>\n",
       "      <th>batch_1to1_median</th>\n",
       "      <th>batch_1to3_median</th>\n",
       "      <th>log_batch_1to1_median</th>\n",
       "      <th>log_batch_1to3_median</th>\n",
       "      <th>delta_log_median</th>\n",
       "    </tr>\n",
       "  </thead>\n",
       "  <tbody>\n",
       "    <tr>\n",
       "      <th>4709</th>\n",
       "      <td>VPDIGADEVEITEILVK</td>\n",
       "      <td>2</td>\n",
       "      <td>3972.0</td>\n",
       "      <td>15190.5</td>\n",
       "      <td>11.955650</td>\n",
       "      <td>13.890882</td>\n",
       "      <td>1.935232</td>\n",
       "    </tr>\n",
       "    <tr>\n",
       "      <th>791</th>\n",
       "      <td>DLTDDELIDLFK</td>\n",
       "      <td>2</td>\n",
       "      <td>590.0</td>\n",
       "      <td>1137.5</td>\n",
       "      <td>9.204571</td>\n",
       "      <td>10.151651</td>\n",
       "      <td>0.947080</td>\n",
       "    </tr>\n",
       "    <tr>\n",
       "      <th>1265</th>\n",
       "      <td>EQTPEKETEVQNEQPVVEEIVQAQEPVK</td>\n",
       "      <td>3</td>\n",
       "      <td>480.0</td>\n",
       "      <td>730.5</td>\n",
       "      <td>8.906891</td>\n",
       "      <td>9.512740</td>\n",
       "      <td>0.605850</td>\n",
       "    </tr>\n",
       "    <tr>\n",
       "      <th>879</th>\n",
       "      <td>DVADVHDIAK</td>\n",
       "      <td>2</td>\n",
       "      <td>6675.0</td>\n",
       "      <td>11825.5</td>\n",
       "      <td>12.704552</td>\n",
       "      <td>13.529614</td>\n",
       "      <td>0.825061</td>\n",
       "    </tr>\n",
       "    <tr>\n",
       "      <th>3666</th>\n",
       "      <td>Q[-17.0265]LADGTAKPEVQDETLVTYAEK</td>\n",
       "      <td>2</td>\n",
       "      <td>433.0</td>\n",
       "      <td>956.0</td>\n",
       "      <td>8.758223</td>\n",
       "      <td>9.900867</td>\n",
       "      <td>1.142644</td>\n",
       "    </tr>\n",
       "  </tbody>\n",
       "</table>\n",
       "</div>"
      ],
      "text/plain": [
       "                              sequence  charge  batch_1to1_median  \\\n",
       "4709                 VPDIGADEVEITEILVK       2             3972.0   \n",
       "791                       DLTDDELIDLFK       2              590.0   \n",
       "1265      EQTPEKETEVQNEQPVVEEIVQAQEPVK       3              480.0   \n",
       "879                         DVADVHDIAK       2             6675.0   \n",
       "3666  Q[-17.0265]LADGTAKPEVQDETLVTYAEK       2              433.0   \n",
       "\n",
       "      batch_1to3_median  log_batch_1to1_median  log_batch_1to3_median  \\\n",
       "4709            15190.5              11.955650              13.890882   \n",
       "791              1137.5               9.204571              10.151651   \n",
       "1265              730.5               8.906891               9.512740   \n",
       "879             11825.5              12.704552              13.529614   \n",
       "3666              956.0               8.758223               9.900867   \n",
       "\n",
       "      delta_log_median  \n",
       "4709          1.935232  \n",
       "791           0.947080  \n",
       "1265          0.605850  \n",
       "879           0.825061  \n",
       "3666          1.142644  "
      ]
     },
     "execution_count": 60,
     "metadata": {},
     "output_type": "execute_result"
    }
   ],
   "source": [
    "batch_medians_df.sample(n=5)"
   ]
  },
  {
   "cell_type": "code",
   "execution_count": 61,
   "metadata": {},
   "outputs": [
    {
     "data": {
      "image/png": "[encoded data removed]",
      "text/plain": [
       "<Figure size 1080x576 with 1 Axes>"
      ]
     },
     "metadata": {
      "needs_background": "light"
     },
     "output_type": "display_data"
    }
   ],
   "source": [
    "f, ax1 = plt.subplots()\n",
    "f.set_figheight(8)\n",
    "f.set_figwidth(15)\n",
    "\n",
    "plt.margins(0.06)\n",
    "plt.title('')\n",
    "\n",
    "bins = 250\n",
    "hist, bins, _ = plt.hist(batch_medians_df.delta_log_median, bins=bins)\n",
    "plt.xlabel('delta log2 intensity')\n",
    "plt.ylabel('count')\n",
    "plt.title('delta median intensity for sequences in 1to1 and 1to3 batches')\n",
    "# ax1.set(xticks=range(-5,5), xlim=[-5, 5])\n",
    "\n",
    "plt.show()"
   ]
  },
  {
   "cell_type": "code",
   "execution_count": 62,
   "metadata": {},
   "outputs": [],
   "source": [
    "ecoli_sequences_df = sequences_df[(sequences_df.human == False) & (sequences_df.number_of_runs_extracted >= 15)]\n",
    "# find the median intensity of each sequence in each 1to1 and 1to3 batch\n",
    "batch_means_l = []\n",
    "for group_name,group_df in ecoli_sequences_df.groupby(['sequence','charge'], as_index=False):\n",
    "    batch_1to1_mean = group_df[group_df.batch == '1to1'].intensity.mean()\n",
    "    batch_1to3_mean = group_df[group_df.batch == '1to3'].intensity.mean()\n",
    "    batch_means_l.append((group_name[0], group_name[1], batch_1to1_mean, batch_1to3_mean))\n",
    "batch_means_df = pd.DataFrame(batch_means_l, columns=['sequence','charge','batch_1to1_mean','batch_1to3_mean'])\n",
    "batch_means_df['log_batch_1to1_mean'] = np.log2(batch_means_df.batch_1to1_mean)\n",
    "batch_means_df['log_batch_1to3_mean'] = np.log2(batch_means_df.batch_1to3_mean)\n",
    "batch_means_df['delta_log_mean'] = batch_means_df.log_batch_1to3_mean - batch_means_df.log_batch_1to1_mean"
   ]
  },
  {
   "cell_type": "code",
   "execution_count": 63,
   "metadata": {},
   "outputs": [
    {
     "data": {
      "image/png": "[encoded data removed]",
      "text/plain": [
       "<Figure size 1080x576 with 1 Axes>"
      ]
     },
     "metadata": {
      "needs_background": "light"
     },
     "output_type": "display_data"
    }
   ],
   "source": [
    "f, ax1 = plt.subplots()\n",
    "f.set_figheight(8)\n",
    "f.set_figwidth(15)\n",
    "\n",
    "plt.margins(0.06)\n",
    "plt.title('')\n",
    "\n",
    "bins = 250\n",
    "hist, bins, _ = plt.hist(batch_means_df.delta_log_mean, bins=bins)\n",
    "plt.xlabel('delta log2 intensity')\n",
    "plt.ylabel('count')\n",
    "plt.title('delta mean intensity for sequences in 1to1 and 1to3 batches')\n",
    "# ax1.set(xticks=range(-5,5), xlim=[-5, 5])\n",
    "\n",
    "plt.show()"
   ]
  },
  {
   "cell_type": "code",
   "execution_count": null,
   "metadata": {},
   "outputs": [],
   "source": []
  }
 ],
 "metadata": {
  "kernelspec": {
   "display_name": "Python 3",
   "language": "python",
   "name": "python3"
  },
  "language_info": {
   "codemirror_mode": {
    "name": "ipython",
    "version": 3
   },
   "file_extension": ".py",
   "mimetype": "text/x-python",
   "name": "python",
   "nbconvert_exporter": "python",
   "pygments_lexer": "ipython3",
   "version": "3.6.8"
  }
 },
 "nbformat": 4,
 "nbformat_minor": 2
}
