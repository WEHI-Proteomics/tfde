{
 "cells": [
  {
   "cell_type": "code",
   "execution_count": 1,
   "metadata": {},
   "outputs": [],
   "source": [
    "import pandas as pd\n",
    "import sqlite3\n",
    "import numpy as np\n",
    "import matplotlib.pyplot as plt\n",
    "import peakutils\n",
    "import json"
   ]
  },
  {
   "cell_type": "code",
   "execution_count": 2,
   "metadata": {},
   "outputs": [],
   "source": [
    "DB_NAME = '/home/ubuntu/UPS2_allion/UPS2_allion-features-1-1097.sqlite'\n",
    "CONV_DB_NAME = '/home/ubuntu/UPS2_allion/UPS2_allion.sqlite'\n",
    "FEATURE_ID = 23\n",
    "BASE_PEAK_ID = 2\n",
    "MAX_RT_DISTANCE = 2\n",
    "MAX_SCAN_DISTANCE = 5\n",
    "MAX_NUMBER_OF_PEAKS = 20"
   ]
  },
  {
   "cell_type": "code",
   "execution_count": null,
   "metadata": {},
   "outputs": [],
   "source": [
    "db_conn = sqlite3.connect(DB_NAME)\n",
    "src_c = db_conn.cursor()\n",
    "src_c.execute(\"CREATE INDEX IF NOT EXISTS idx_summed_ms2_regions_1 ON summed_ms2_regions (feature_id, peak_id)\")\n",
    "db_conn.close()"
   ]
  },
  {
   "cell_type": "code",
   "execution_count": null,
   "metadata": {},
   "outputs": [],
   "source": [
    "db_conn = sqlite3.connect(DB_NAME)\n",
    "src_c = db_conn.cursor()\n",
    "src_c.execute(\"CREATE INDEX IF NOT EXISTS idx_ms2_peaks_2 ON ms2_peaks (feature_id, peak_id)\")\n",
    "db_conn.close()"
   ]
  },
  {
   "cell_type": "code",
   "execution_count": null,
   "metadata": {},
   "outputs": [],
   "source": [
    "# Load the peak points for the best CofM-matching peaks for this feature\n",
    "db_conn = sqlite3.connect(DB_NAME)\n",
    "ms2_peak_points_df = pd.read_sql_query(\"select peak_id,mz,scan,intensity from summed_ms2_regions where feature_id || '-' || peak_id in (select feature_id || '-' || ms2_peak_id from peak_correlation where feature_id=={} and abs(rt_distance) <= {} and abs(scan_distance) <= {} order by ms2_peak_id limit {})\".format(FEATURE_ID, MAX_RT_DISTANCE, MAX_SCAN_DISTANCE, MAX_NUMBER_OF_PEAKS), db_conn)\n",
    "db_conn.close()"
   ]
  },
  {
   "cell_type": "code",
   "execution_count": null,
   "metadata": {},
   "outputs": [],
   "source": [
    "# load the feature's base peak points\n",
    "db_conn = sqlite3.connect(DB_NAME)\n",
    "base_peak_points_df = pd.read_sql_query(\"select point_id,mz,scan,intensity from summed_ms1_regions where feature_id={} and peak_id={}\".format(FEATURE_ID, BASE_PEAK_ID), db_conn)\n",
    "db_conn.close()"
   ]
  },
  {
   "cell_type": "code",
   "execution_count": null,
   "metadata": {},
   "outputs": [],
   "source": [
    "tableau20 = [(31, 119, 180), (174, 199, 232), (255, 127, 14), (255, 187, 120),  \n",
    "             (44, 160, 44), (152, 223, 138), (214, 39, 40), (255, 152, 150),  \n",
    "             (148, 103, 189), (197, 176, 213), (140, 86, 75), (196, 156, 148),  \n",
    "             (227, 119, 194), (247, 182, 210), (127, 127, 127), (199, 199, 199),  \n",
    "             (188, 189, 34), (219, 219, 141), (23, 190, 207), (158, 218, 229)]\n",
    "# Rescale to values between 0 and 1 \n",
    "for i in range(len(tableau20)):  \n",
    "    r, g, b = tableau20[i]  \n",
    "    tableau20[i] = (r / 255., g / 255., b / 255.)"
   ]
  },
  {
   "cell_type": "code",
   "execution_count": null,
   "metadata": {},
   "outputs": [],
   "source": [
    "fig, ax1 = plt.subplots()\n",
    "ax2 = ax1.twinx()\n",
    "fig.set_figheight(5)\n",
    "fig.set_figwidth(15)\n",
    "groups = ms2_peak_points_df.groupby('peak_id')\n",
    "for i, (name, group) in enumerate(groups):\n",
    "    ax1.plot(group.scan, group.intensity, color=tableau20[i%len(tableau20)], label=name)\n",
    "ax2.plot(base_peak_points_df.scan, base_peak_points_df.intensity, marker='', linestyle='-.', ms=5, color='tab:gray', label='base')\n",
    "ax1.set_ylabel('ms2 intensity')\n",
    "ax1.set_xlabel('scan')\n",
    "ax2.set_ylabel('ms1 intensity')\n",
    "plt.title('Most intense ms2 peaks within the CofM bounds for feature {}'.format(FEATURE_ID))\n",
    "plt.margins(0.06)\n",
    "plt.show()"
   ]
  },
  {
   "cell_type": "code",
   "execution_count": null,
   "metadata": {},
   "outputs": [],
   "source": [
    "# find the most intense ms2 peaks for this feature that match in centre-of-mass\n",
    "db_conn = sqlite3.connect(DB_NAME)\n",
    "peak_correlation_df = pd.read_sql_query(\"select * from peak_correlation where feature_id=={} and abs(rt_distance) <= {} and abs(scan_distance) <= {} order by ms2_peak_id limit {}\".format(FEATURE_ID, MAX_RT_DISTANCE, MAX_SCAN_DISTANCE, 200), db_conn)\n",
    "db_conn.close()"
   ]
  },
  {
   "cell_type": "code",
   "execution_count": null,
   "metadata": {},
   "outputs": [],
   "source": [
    "# get the ms2 peaks for the feature\n",
    "db_conn = sqlite3.connect(DB_NAME)\n",
    "ms2_peaks_df = pd.read_sql_query(\"select feature_id,peak_id,centroid_mz from ms2_peaks where feature_id || '-' || peak_id in (select feature_id || '-' || ms2_peak_id from peak_correlation where feature_id=={} and abs(rt_distance) <= {} and abs(scan_distance) <= {} order by ms2_peak_id limit {})\".format(FEATURE_ID, MAX_RT_DISTANCE, MAX_SCAN_DISTANCE, 200), db_conn)\n",
    "db_conn.close()"
   ]
  },
  {
   "cell_type": "code",
   "execution_count": null,
   "metadata": {},
   "outputs": [],
   "source": [
    "ms2_peaks_df.head()"
   ]
  },
  {
   "cell_type": "code",
   "execution_count": null,
   "metadata": {},
   "outputs": [],
   "source": [
    "peak_correlation_df.head()"
   ]
  },
  {
   "cell_type": "code",
   "execution_count": null,
   "metadata": {},
   "outputs": [],
   "source": [
    "merged_ms2_peak_df = pd.merge(ms2_peaks_df, peak_correlation_df, left_on=['feature_id','peak_id'], right_on=['feature_id','ms2_peak_id'])"
   ]
  },
  {
   "cell_type": "code",
   "execution_count": null,
   "metadata": {},
   "outputs": [],
   "source": [
    "merged_ms2_peak_df.head()"
   ]
  },
  {
   "cell_type": "code",
   "execution_count": null,
   "metadata": {},
   "outputs": [],
   "source": [
    "z = np.polyfit(x=merged_ms2_peak_df.centroid_mz, y=merged_ms2_peak_df.scan_distance, deg=1)\n",
    "p = np.poly1d(z)\n",
    "merged_ms2_peak_df['trendline_scan'] = p(merged_ms2_peak_df.centroid_mz)"
   ]
  },
  {
   "cell_type": "code",
   "execution_count": null,
   "metadata": {},
   "outputs": [],
   "source": [
    "fig, ax1 = plt.subplots()\n",
    "fig.set_figheight(6)\n",
    "fig.set_figwidth(10)\n",
    "ax1.plot(merged_ms2_peak_df.centroid_mz, merged_ms2_peak_df.scan_distance, marker='o', linestyle='', ms=3)\n",
    "merged_ms2_peak_df.set_index(merged_ms2_peak_df.centroid_mz, inplace=True)\n",
    "merged_ms2_peak_df.trendline_scan.sort_index(ascending=False).plot(ax=ax1)\n",
    "plt.xlabel('ms2 peak centroid m/z')\n",
    "plt.ylabel('CofM scan offset')\n",
    "plt.margins(0.06)\n",
    "plt.suptitle('Centre-of-mass scan offset for feature ID {}'.format(FEATURE_ID))\n",
    "plt.title('scan offset = {0:.4f} m/z + {1:.2f}'.format(z[0],z[1]))\n",
    "plt.show()"
   ]
  },
  {
   "cell_type": "code",
   "execution_count": null,
   "metadata": {},
   "outputs": [],
   "source": [
    "z = np.polyfit(x=merged_ms2_peak_df.centroid_mz, y=merged_ms2_peak_df.rt_distance, deg=1)\n",
    "p = np.poly1d(z)\n",
    "merged_ms2_peak_df['trendline_rt'] = p(merged_ms2_peak_df.centroid_mz)"
   ]
  },
  {
   "cell_type": "code",
   "execution_count": null,
   "metadata": {},
   "outputs": [],
   "source": [
    "fig, ax1 = plt.subplots()\n",
    "fig.set_figheight(6)\n",
    "fig.set_figwidth(10)\n",
    "ax1.plot(merged_ms2_peak_df.centroid_mz, merged_ms2_peak_df.rt_distance, marker='o', linestyle='', ms=3)\n",
    "merged_ms2_peak_df.set_index(merged_ms2_peak_df.centroid_mz, inplace=True)\n",
    "merged_ms2_peak_df.trendline_rt.sort_index(ascending=False).plot(ax=ax1)\n",
    "plt.xlabel('ms2 peak centroid m/z')\n",
    "plt.ylabel('RT offset (seconds)')\n",
    "plt.margins(0.06)\n",
    "plt.suptitle('Centre-of-mass RT offset for feature ID {}'.format(FEATURE_ID))\n",
    "plt.title('RT offset = {0:.4f} m/z + {1:.2f}'.format(z[0],z[1]))\n",
    "plt.show()"
   ]
  },
  {
   "cell_type": "code",
   "execution_count": null,
   "metadata": {},
   "outputs": [],
   "source": [
    "fig, ax1 = plt.subplots()\n",
    "fig.set_figheight(6)\n",
    "fig.set_figwidth(10)\n",
    "ax1.plot(merged_ms2_peak_df.rt_distance, merged_ms2_peak_df.scan_distance, marker='o', linestyle='', ms=3)\n",
    "plt.xlabel('CofM RT distance (seconds)')\n",
    "plt.ylabel('CofM scan distance')\n",
    "plt.margins(0.06)\n",
    "plt.suptitle('Scan and RT offset for feature ID {}'.format(FEATURE_ID))\n",
    "plt.show()"
   ]
  },
  {
   "cell_type": "code",
   "execution_count": null,
   "metadata": {},
   "outputs": [],
   "source": []
  }
 ],
 "metadata": {
  "kernelspec": {
   "display_name": "Python 2",
   "language": "python",
   "name": "python2"
  },
  "language_info": {
   "codemirror_mode": {
    "name": "ipython",
    "version": 2
   },
   "file_extension": ".py",
   "mimetype": "text/x-python",
   "name": "python",
   "nbconvert_exporter": "python",
   "pygments_lexer": "ipython2",
   "version": "2.7.15"
  }
 },
 "nbformat": 4,
 "nbformat_minor": 2
}
