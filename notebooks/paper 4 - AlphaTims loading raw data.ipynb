{
 "cells": [
  {
   "cell_type": "code",
   "execution_count": 1,
   "metadata": {},
   "outputs": [],
   "source": [
    "import random\n",
    "import numpy as np\n",
    "import time\n",
    "import pandas as pd\n",
    "from os.path import expanduser\n",
    "import sys"
   ]
  },
  {
   "cell_type": "code",
   "execution_count": 2,
   "metadata": {},
   "outputs": [],
   "source": [
    "import alphatims.bruker\n",
    "import alphatims.utils"
   ]
  },
  {
   "cell_type": "code",
   "execution_count": 3,
   "metadata": {},
   "outputs": [],
   "source": [
    "log_file_name = alphatims.utils.set_logger(\n",
    "    log_file_name=\"tutorial_log.txt\",\n",
    "    overwrite=True\n",
    ")"
   ]
  },
  {
   "cell_type": "code",
   "execution_count": 4,
   "metadata": {},
   "outputs": [
    {
     "name": "stdout",
     "output_type": "stream",
     "text": [
      "2021-08-12 12:47:42> Platform information:\n",
      "2021-08-12 12:47:42> system        - Linux\n",
      "2021-08-12 12:47:42> release       - 4.15.0-153-generic\n",
      "2021-08-12 12:47:42> version       - #160-Ubuntu SMP Thu Jul 29 06:54:29 UTC 2021\n",
      "2021-08-12 12:47:42> machine       - x86_64\n",
      "2021-08-12 12:47:42> processor     - x86_64\n",
      "2021-08-12 12:47:42> cpu count     - 12\n",
      "2021-08-12 12:47:42> cpu frequency - 1757.98 Mhz\n",
      "2021-08-12 12:47:42> ram           - 61.7/62.8 Gb (available/total)\n",
      "2021-08-12 12:47:42> \n"
     ]
    }
   ],
   "source": [
    "alphatims.utils.show_platform_info()"
   ]
  },
  {
   "cell_type": "code",
   "execution_count": 5,
   "metadata": {},
   "outputs": [
    {
     "name": "stdout",
     "output_type": "stream",
     "text": [
      "2021-08-12 12:47:43> Python information:\n",
      "2021-08-12 12:47:43> alphatims  - 0.2.8\n",
      "2021-08-12 12:47:43> bokeh      - \n",
      "2021-08-12 12:47:43> click      - 8.0.1\n",
      "2021-08-12 12:47:43> datashader - \n",
      "2021-08-12 12:47:43> h5py       - 3.1.0\n",
      "2021-08-12 12:47:43> hvplot     - \n",
      "2021-08-12 12:47:43> numba      - 0.53.1\n",
      "2021-08-12 12:47:43> pandas     - 1.3.1\n",
      "2021-08-12 12:47:43> psutil     - 5.8.0\n",
      "2021-08-12 12:47:43> python     - 3.8.5\n",
      "2021-08-12 12:47:43> python-lzf - \n",
      "2021-08-12 12:47:43> pyzstd     - 0.14.4\n",
      "2021-08-12 12:47:43> selenium   - \n",
      "2021-08-12 12:47:43> tqdm       - 4.61.1\n",
      "2021-08-12 12:47:43> \n"
     ]
    }
   ],
   "source": [
    "alphatims.utils.show_python_info()"
   ]
  },
  {
   "cell_type": "code",
   "execution_count": 6,
   "metadata": {},
   "outputs": [],
   "source": [
    "file_name = '/media/big-ssd/experiments/P3856/raw-databases/P3856_YHE211_1_Slot1-1_1_5104.d'"
   ]
  },
  {
   "cell_type": "code",
   "execution_count": 7,
   "metadata": {},
   "outputs": [],
   "source": [
    "rt_lower = 1650.\n",
    "rt_upper = 2200.\n",
    "mz_lower = 780.\n",
    "mz_upper = 795."
   ]
  },
  {
   "cell_type": "code",
   "execution_count": 8,
   "metadata": {},
   "outputs": [
    {
     "name": "stdout",
     "output_type": "stream",
     "text": [
      "2021-08-12 12:47:50> Importing data from /media/big-ssd/experiments/P3856/raw-databases/P3856_YHE211_1_Slot1-1_1_5104.d\n",
      "2021-08-12 12:47:50> Reading frame metadata for /media/big-ssd/experiments/P3856/raw-databases/P3856_YHE211_1_Slot1-1_1_5104.d\n",
      "2021-08-12 12:47:51> Reading 25,701 frames with 1,292,274,220 detector strikes for /media/big-ssd/experiments/P3856/raw-databases/P3856_YHE211_1_Slot1-1_1_5104.d\n"
     ]
    },
    {
     "name": "stderr",
     "output_type": "stream",
     "text": [
      "100%|██████████| 25701/25701 [00:22<00:00, 1158.25it/s]\n"
     ]
    },
    {
     "name": "stdout",
     "output_type": "stream",
     "text": [
      "2021-08-12 12:48:13> Indexing /media/big-ssd/experiments/P3856/raw-databases/P3856_YHE211_1_Slot1-1_1_5104.d...\n",
      "2021-08-12 12:48:13> Opening handle for /media/big-ssd/experiments/P3856/raw-databases/P3856_YHE211_1_Slot1-1_1_5104.d\n",
      "2021-08-12 12:48:13> Fetching mobility values from /media/big-ssd/experiments/P3856/raw-databases/P3856_YHE211_1_Slot1-1_1_5104.d\n",
      "2021-08-12 12:48:13> Closing handle for /media/big-ssd/experiments/P3856/raw-databases/P3856_YHE211_1_Slot1-1_1_5104.d\n",
      "2021-08-12 12:48:13> Opening handle for /media/big-ssd/experiments/P3856/raw-databases/P3856_YHE211_1_Slot1-1_1_5104.d\n",
      "2021-08-12 12:48:13> Fetching mz values from /media/big-ssd/experiments/P3856/raw-databases/P3856_YHE211_1_Slot1-1_1_5104.d\n",
      "2021-08-12 12:48:13> Closing handle for /media/big-ssd/experiments/P3856/raw-databases/P3856_YHE211_1_Slot1-1_1_5104.d\n",
      "2021-08-12 12:48:15> Succesfully imported data from /media/big-ssd/experiments/P3856/raw-databases/P3856_YHE211_1_Slot1-1_1_5104.d\n"
     ]
    }
   ],
   "source": [
    "data = alphatims.bruker.TimsTOF(file_name)"
   ]
  },
  {
   "cell_type": "code",
   "execution_count": 9,
   "metadata": {},
   "outputs": [],
   "source": [
    "df = data[\n",
    "    {\n",
    "        \"rt_values\": slice(rt_lower, rt_upper),\n",
    "        \"mz_values\": slice(mz_lower, mz_upper),\n",
    "        \"precursor_indices\": 0,\n",
    "    }\n",
    "]"
   ]
  },
  {
   "cell_type": "code",
   "execution_count": 12,
   "metadata": {},
   "outputs": [
    {
     "data": {
      "text/plain": [
       "Index(['raw_indices', 'frame_indices', 'scan_indices', 'precursor_indices',\n",
       "       'push_indices', 'tof_indices', 'rt_values', 'rt_values_min',\n",
       "       'mobility_values', 'quad_low_mz_values', 'quad_high_mz_values',\n",
       "       'mz_values', 'intensity_values'],\n",
       "      dtype='object')"
      ]
     },
     "execution_count": 12,
     "metadata": {},
     "output_type": "execute_result"
    }
   ],
   "source": [
    "df.columns"
   ]
  },
  {
   "cell_type": "code",
   "execution_count": 17,
   "metadata": {},
   "outputs": [
    {
     "name": "stdout",
     "output_type": "stream",
     "text": [
      "<class 'pandas.core.frame.DataFrame'>\n",
      "RangeIndex: 6208742 entries, 0 to 6208741\n",
      "Data columns (total 13 columns):\n",
      " #   Column               Dtype  \n",
      "---  ------               -----  \n",
      " 0   raw_indices          int64  \n",
      " 1   frame_indices        int64  \n",
      " 2   scan_indices         int64  \n",
      " 3   precursor_indices    int64  \n",
      " 4   push_indices         int64  \n",
      " 5   tof_indices          uint32 \n",
      " 6   rt_values            float64\n",
      " 7   rt_values_min        float64\n",
      " 8   mobility_values      float64\n",
      " 9   quad_low_mz_values   float64\n",
      " 10  quad_high_mz_values  float64\n",
      " 11  mz_values            float64\n",
      " 12  intensity_values     uint16 \n",
      "dtypes: float64(6), int64(5), uint16(1), uint32(1)\n",
      "memory usage: 556.6 MB\n"
     ]
    }
   ],
   "source": [
    "df.info()"
   ]
  },
  {
   "cell_type": "markdown",
   "metadata": {},
   "source": [
    "#### save the raw data as an HDF"
   ]
  },
  {
   "cell_type": "code",
   "execution_count": 10,
   "metadata": {},
   "outputs": [
    {
     "name": "stdout",
     "output_type": "stream",
     "text": [
      "2021-08-12 13:50:16> Writing TimsTOF data to /home/daryl/P3856_YHE211_1_Slot1-1_1_5104.hdf.\n"
     ]
    },
    {
     "name": "stderr",
     "output_type": "stream",
     "text": [
      "100%|██████████| 31/31 [00:06<00:00,  5.14it/s]\n"
     ]
    },
    {
     "name": "stdout",
     "output_type": "stream",
     "text": [
      "2021-08-12 13:50:33> Succesfully wrote TimsTOF data to /home/daryl/P3856_YHE211_1_Slot1-1_1_5104.hdf.\n"
     ]
    }
   ],
   "source": [
    "hdf_file_name = data.save_as_hdf(\n",
    "    directory=expanduser('~'),\n",
    "    file_name=f\"{data.sample_name}.hdf\",\n",
    "    overwrite=True\n",
    ")"
   ]
  },
  {
   "cell_type": "code",
   "execution_count": 3,
   "metadata": {},
   "outputs": [],
   "source": [
    "hdf_file_name = '/home/daryl/P3856_YHE211_1_Slot1-1_1_5104.hdf'"
   ]
  },
  {
   "cell_type": "code",
   "execution_count": 4,
   "metadata": {},
   "outputs": [],
   "source": [
    "data = alphatims.bruker.TimsTOF(hdf_file_name)"
   ]
  },
  {
   "cell_type": "code",
   "execution_count": null,
   "metadata": {},
   "outputs": [],
   "source": []
  }
 ],
 "metadata": {
  "kernelspec": {
   "display_name": "Python 3",
   "language": "python",
   "name": "python3"
  },
  "language_info": {
   "codemirror_mode": {
    "name": "ipython",
    "version": 3
   },
   "file_extension": ".py",
   "mimetype": "text/x-python",
   "name": "python",
   "nbconvert_exporter": "python",
   "pygments_lexer": "ipython3",
   "version": "3.8.5"
  }
 },
 "nbformat": 4,
 "nbformat_minor": 4
}
