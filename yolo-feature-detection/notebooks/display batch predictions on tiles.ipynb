{
 "cells": [
  {
   "cell_type": "code",
   "execution_count": 1,
   "metadata": {},
   "outputs": [],
   "source": [
    "import json\n",
    "from PIL import Image, ImageDraw, ImageFont\n",
    "import os, shutil\n",
    "import numpy as np\n",
    "import pandas as pd\n",
    "from matplotlib import colors, cm, pyplot as plt\n",
    "import glob\n",
    "import sys"
   ]
  },
  {
   "cell_type": "code",
   "execution_count": 2,
   "metadata": {},
   "outputs": [],
   "source": [
    "PIXELS_X = 910\n",
    "PIXELS_Y = 910  # equal to the number of scan lines"
   ]
  },
  {
   "cell_type": "code",
   "execution_count": 3,
   "metadata": {},
   "outputs": [],
   "source": [
    "predictions_file = '/Users/darylwilding-mcbride/Downloads/experiments/dwm-test/predictions/yolov3-tiny_3l-tile-35-threshold-0_01-results.json'"
   ]
  },
  {
   "cell_type": "code",
   "execution_count": 4,
   "metadata": {},
   "outputs": [],
   "source": [
    "tiles_dir = '/Users/darylwilding-mcbride/Downloads/experiments/dwm-test/tiles/190719_Hela_Ecoli_1to1_01/tile-35'\n",
    "tiles_with_predictions_dir = '{}/predictions'.format(tiles_dir)\n",
    "tiles_with_tracked_objects_dir = '{}/tracked-features'.format(tiles_dir)"
   ]
  },
  {
   "cell_type": "code",
   "execution_count": 5,
   "metadata": {},
   "outputs": [],
   "source": [
    "if os.path.exists(tiles_with_predictions_dir):\n",
    "    shutil.rmtree(tiles_with_predictions_dir)\n",
    "os.makedirs(tiles_with_predictions_dir)"
   ]
  },
  {
   "cell_type": "code",
   "execution_count": 6,
   "metadata": {},
   "outputs": [],
   "source": [
    "if os.path.exists(tiles_with_tracked_objects_dir):\n",
    "    shutil.rmtree(tiles_with_tracked_objects_dir)\n",
    "os.makedirs(tiles_with_tracked_objects_dir)"
   ]
  },
  {
   "cell_type": "code",
   "execution_count": 7,
   "metadata": {},
   "outputs": [],
   "source": [
    "with open(predictions_file) as file:\n",
    "    predictions = json.load(file)"
   ]
  },
  {
   "cell_type": "code",
   "execution_count": 8,
   "metadata": {},
   "outputs": [],
   "source": [
    "feature_label_font = ImageFont.truetype('/Library/Fonts/Arial.ttf', 10)"
   ]
  },
  {
   "cell_type": "code",
   "execution_count": 10,
   "metadata": {},
   "outputs": [],
   "source": [
    "tableau20 = [(31, 119, 180), (174, 199, 232), (255, 127, 14), (255, 187, 120),  \n",
    "             (44, 160, 44), (152, 223, 138), (214, 39, 40), (255, 152, 150),  \n",
    "             (148, 103, 189), (197, 176, 213), (140, 86, 75), (196, 156, 148),  \n",
    "             (227, 119, 194), (247, 182, 210), (127, 127, 127), (199, 199, 199),  \n",
    "             (188, 189, 34), (219, 219, 141), (23, 190, 207), (158, 218, 229)]"
   ]
  },
  {
   "cell_type": "code",
   "execution_count": 12,
   "metadata": {},
   "outputs": [],
   "source": [
    "def iou(bb_test, bb_gt):\n",
    "    # Computes IUO between two bounding boxes in the form [x1,y1,x2,y2]\n",
    "    # Source: https://github.com/abewley/sort\n",
    "    xx1 = np.maximum(bb_test[0], bb_gt[0])\n",
    "    yy1 = np.maximum(bb_test[1], bb_gt[1])\n",
    "    xx2 = np.minimum(bb_test[2], bb_gt[2])\n",
    "    yy2 = np.minimum(bb_test[3], bb_gt[3])\n",
    "    w = np.maximum(0., xx2 - xx1)\n",
    "    h = np.maximum(0., yy2 - yy1)\n",
    "    wh = w * h\n",
    "    o = wh / ((bb_test[2]-bb_test[0])*(bb_test[3]-bb_test[1]) + (bb_gt[2]-bb_gt[0])*(bb_gt[3]-bb_gt[1]) - wh)\n",
    "    return(o)\n"
   ]
  },
  {
   "cell_type": "code",
   "execution_count": null,
   "metadata": {},
   "outputs": [],
   "source": [
    "MINIMUM_IOU_FOR_ASSOCIATION = 0.4"
   ]
  },
  {
   "cell_type": "code",
   "execution_count": null,
   "metadata": {},
   "outputs": [],
   "source": [
    "detected_objects = []\n",
    "feature_id = 0\n",
    "for frame in predictions:\n",
    "    prediction_frame_id = frame['frame_id']\n",
    "    tile_name = os.path.basename(frame['filename'])\n",
    "    source_tile_name = '{}/{}'.format(tiles_dir, tile_name)\n",
    "    predictions_tile_name = '{}/{}'.format(tiles_with_predictions_dir, tile_name)\n",
    "    tracked_objects_tile_name = '{}/{}'.format(tiles_with_tracked_objects_dir, tile_name)\n",
    "    \n",
    "    # load the source tile\n",
    "    tile_predictions_img = Image.open(source_tile_name)\n",
    "    draw_prediction = ImageDraw.Draw(tile_predictions_img)\n",
    "    \n",
    "    object_id = 1\n",
    "    for prediction in frame['objects']:\n",
    "        class_id = prediction['class_id']\n",
    "        class_name = prediction['name']\n",
    "        bounding_box = prediction['relative_coordinates']\n",
    "        confidence = prediction['confidence']\n",
    "        \n",
    "        # calculate the coordinates\n",
    "        x1 = (bounding_box['center_x'] - (bounding_box['width'] / 2)) * PIXELS_X\n",
    "        y1 = (bounding_box['center_y'] - (bounding_box['height'] / 2)) * PIXELS_Y\n",
    "        w = bounding_box['width'] * PIXELS_X\n",
    "        h = bounding_box['height'] * PIXELS_Y\n",
    "        x2 = x1 + w\n",
    "        y2 = y1 + h\n",
    "\n",
    "        # draw the prediction\n",
    "        draw_prediction.rectangle(xy=[(x1, y1), (x2, y2)], fill=None, outline=(100,255,100,20))\n",
    "        draw_prediction.text((x1, y1-12), '{} ({})'.format(class_name, round(confidence,1)), font=feature_label_font, fill=(100,255,100,20))\n",
    "        \n",
    "        # add this prediction to the list of objects to track\n",
    "        detected_objects.append((prediction_frame_id, object_id, class_id, x1, y1, x2, y2, confidence, feature_id))\n",
    "        \n",
    "        object_id += 1\n",
    "\n",
    "    # save the tile with the predictions overlaid\n",
    "    tile_predictions_img.save(predictions_tile_name)"
   ]
  },
  {
   "cell_type": "code",
   "execution_count": 25,
   "metadata": {},
   "outputs": [],
   "source": [
    "detected_objects_df = pd.DataFrame(detected_objects, columns=['prediction_frame_id','object_id','class_id','x1','y1','x2','y2','confidence','feature_id'])"
   ]
  },
  {
   "cell_type": "code",
   "execution_count": 26,
   "metadata": {},
   "outputs": [
    {
     "data": {
      "text/html": [
       "<div>\n",
       "<style scoped>\n",
       "    .dataframe tbody tr th:only-of-type {\n",
       "        vertical-align: middle;\n",
       "    }\n",
       "\n",
       "    .dataframe tbody tr th {\n",
       "        vertical-align: top;\n",
       "    }\n",
       "\n",
       "    .dataframe thead th {\n",
       "        text-align: right;\n",
       "    }\n",
       "</style>\n",
       "<table border=\"1\" class=\"dataframe\">\n",
       "  <thead>\n",
       "    <tr style=\"text-align: right;\">\n",
       "      <th></th>\n",
       "      <th>prediction_frame_id</th>\n",
       "      <th>object_id</th>\n",
       "      <th>x1</th>\n",
       "      <th>y1</th>\n",
       "      <th>x2</th>\n",
       "      <th>y2</th>\n",
       "      <th>confidence</th>\n",
       "      <th>feature_id</th>\n",
       "    </tr>\n",
       "  </thead>\n",
       "  <tbody>\n",
       "    <tr>\n",
       "      <th>0</th>\n",
       "      <td>1</td>\n",
       "      <td>1</td>\n",
       "      <td>678.166125</td>\n",
       "      <td>625.382485</td>\n",
       "      <td>806.400595</td>\n",
       "      <td>671.824335</td>\n",
       "      <td>1.000000</td>\n",
       "      <td>0</td>\n",
       "    </tr>\n",
       "    <tr>\n",
       "      <th>1</th>\n",
       "      <td>1</td>\n",
       "      <td>2</td>\n",
       "      <td>429.943605</td>\n",
       "      <td>655.831540</td>\n",
       "      <td>487.733155</td>\n",
       "      <td>703.662960</td>\n",
       "      <td>0.999964</td>\n",
       "      <td>0</td>\n",
       "    </tr>\n",
       "    <tr>\n",
       "      <th>2</th>\n",
       "      <td>1</td>\n",
       "      <td>3</td>\n",
       "      <td>822.008915</td>\n",
       "      <td>614.897465</td>\n",
       "      <td>919.814805</td>\n",
       "      <td>664.143935</td>\n",
       "      <td>0.999950</td>\n",
       "      <td>0</td>\n",
       "    </tr>\n",
       "    <tr>\n",
       "      <th>3</th>\n",
       "      <td>1</td>\n",
       "      <td>4</td>\n",
       "      <td>562.693950</td>\n",
       "      <td>481.818155</td>\n",
       "      <td>632.194290</td>\n",
       "      <td>508.340105</td>\n",
       "      <td>0.999898</td>\n",
       "      <td>0</td>\n",
       "    </tr>\n",
       "    <tr>\n",
       "      <th>4</th>\n",
       "      <td>1</td>\n",
       "      <td>5</td>\n",
       "      <td>138.911500</td>\n",
       "      <td>608.286770</td>\n",
       "      <td>277.919460</td>\n",
       "      <td>693.479150</td>\n",
       "      <td>0.905883</td>\n",
       "      <td>0</td>\n",
       "    </tr>\n",
       "  </tbody>\n",
       "</table>\n",
       "</div>"
      ],
      "text/plain": [
       "   prediction_frame_id  object_id          x1          y1          x2  \\\n",
       "0                    1          1  678.166125  625.382485  806.400595   \n",
       "1                    1          2  429.943605  655.831540  487.733155   \n",
       "2                    1          3  822.008915  614.897465  919.814805   \n",
       "3                    1          4  562.693950  481.818155  632.194290   \n",
       "4                    1          5  138.911500  608.286770  277.919460   \n",
       "\n",
       "           y2  confidence  feature_id  \n",
       "0  671.824335    1.000000           0  \n",
       "1  703.662960    0.999964           0  \n",
       "2  664.143935    0.999950           0  \n",
       "3  508.340105    0.999898           0  \n",
       "4  693.479150    0.905883           0  "
      ]
     },
     "execution_count": 26,
     "metadata": {},
     "output_type": "execute_result"
    }
   ],
   "source": [
    "detected_objects_df.head()"
   ]
  },
  {
   "cell_type": "code",
   "execution_count": 27,
   "metadata": {},
   "outputs": [],
   "source": [
    "objects_frame_2 = detected_objects_df[detected_objects_df.prediction_frame_id == 2]\n",
    "objects_frame_1 = detected_objects_df[detected_objects_df.prediction_frame_id == 1]"
   ]
  },
  {
   "cell_type": "code",
   "execution_count": 28,
   "metadata": {},
   "outputs": [
    {
     "data": {
      "text/plain": [
       "(9, 8)"
      ]
     },
     "execution_count": 28,
     "metadata": {},
     "output_type": "execute_result"
    }
   ],
   "source": [
    "len(objects_frame_1), len(objects_frame_2)"
   ]
  },
  {
   "cell_type": "code",
   "execution_count": null,
   "metadata": {},
   "outputs": [],
   "source": []
  },
  {
   "cell_type": "code",
   "execution_count": 11,
   "metadata": {},
   "outputs": [],
   "source": [
    "    # track the objects\n",
    "    track_ids = update_feature_list(objects_in_this_frame)\n",
    "    track_ids_l = list(map(tuple, track_ids))\n",
    "\n",
    "    # draw the tracked objects\n",
    "    for track_id in track_ids_l:\n",
    "        x1 = int(track_id[0])\n",
    "        y1 = int(track_id[1])\n",
    "        x2 = int(track_id[2])\n",
    "        y2 = int(track_id[3])\n",
    "        feature_id = int(track_id[4])\n",
    "        feature_colour = tableau20[feature_id % len(tableau20)]\n",
    "        draw_tracked_objects.rectangle(xy=[(x1, y1), (x2, y2)], fill=None, outline=feature_colour)\n",
    "        draw_tracked_objects.text((x1, y1-12), \"feature {}\".format(feature_id), font=feature_label_font, fill=feature_colour)\n",
    "\n",
    "    # save the tile with the predictions overlaid\n",
    "    tile_tracked_img.save(tracked_objects_tile_name)\n",
    "    "
   ]
  },
  {
   "cell_type": "code",
   "execution_count": 23,
   "metadata": {},
   "outputs": [
    {
     "data": {
      "text/plain": [
       "{'frame_id': 1,\n",
       " 'filename': 'data/peptides/tile-35/frame-1889-tile-35-mz-730-748.png',\n",
       " 'objects': [{'class_id': 0,\n",
       "   'name': 'charge-2',\n",
       "   'relative_coordinates': {'center_x': 0.815696,\n",
       "    'center_y': 0.712751,\n",
       "    'width': 0.140917,\n",
       "    'height': 0.051035},\n",
       "   'confidence': 1.0},\n",
       "  {'class_id': 0,\n",
       "   'name': 'charge-2',\n",
       "   'relative_coordinates': {'center_x': 0.504218,\n",
       "    'center_y': 0.746975,\n",
       "    'width': 0.063505,\n",
       "    'height': 0.052562},\n",
       "   'confidence': 0.999964},\n",
       "  {'class_id': 0,\n",
       "   'name': 'charge-2',\n",
       "   'relative_coordinates': {'center_x': 0.957046,\n",
       "    'center_y': 0.70277,\n",
       "    'width': 0.107479,\n",
       "    'height': 0.054117},\n",
       "   'confidence': 0.99995},\n",
       "  {'class_id': 0,\n",
       "   'name': 'charge-2',\n",
       "   'relative_coordinates': {'center_x': 0.656532,\n",
       "    'center_y': 0.544043,\n",
       "    'width': 0.076374,\n",
       "    'height': 0.029145},\n",
       "   'confidence': 0.999898},\n",
       "  {'class_id': 0,\n",
       "   'name': 'charge-2',\n",
       "   'relative_coordinates': {'center_x': 0.229028,\n",
       "    'center_y': 0.715256,\n",
       "    'width': 0.152756,\n",
       "    'height': 0.093618},\n",
       "   'confidence': 0.905883},\n",
       "  {'class_id': 0,\n",
       "   'name': 'charge-2',\n",
       "   'relative_coordinates': {'center_x': 0.631991,\n",
       "    'center_y': 0.735533,\n",
       "    'width': 0.099192,\n",
       "    'height': 0.055083},\n",
       "   'confidence': 0.681667},\n",
       "  {'class_id': 0,\n",
       "   'name': 'charge-2',\n",
       "   'relative_coordinates': {'center_x': 0.086078,\n",
       "    'center_y': 0.73904,\n",
       "    'width': 0.058497,\n",
       "    'height': 0.081177},\n",
       "   'confidence': 0.635575},\n",
       "  {'class_id': 0,\n",
       "   'name': 'charge-2',\n",
       "   'relative_coordinates': {'center_x': 0.205621,\n",
       "    'center_y': 0.717521,\n",
       "    'width': 0.073958,\n",
       "    'height': 0.055456},\n",
       "   'confidence': 0.095396},\n",
       "  {'class_id': 0,\n",
       "   'name': 'charge-2',\n",
       "   'relative_coordinates': {'center_x': 0.087927,\n",
       "    'center_y': 0.708771,\n",
       "    'width': 0.095531,\n",
       "    'height': 0.073496},\n",
       "   'confidence': 0.020823}]}"
      ]
     },
     "execution_count": 23,
     "metadata": {},
     "output_type": "execute_result"
    }
   ],
   "source": [
    "predictions[0]"
   ]
  },
  {
   "cell_type": "code",
   "execution_count": null,
   "metadata": {},
   "outputs": [],
   "source": []
  }
 ],
 "metadata": {
  "kernelspec": {
   "display_name": "Python 3",
   "language": "python",
   "name": "python3"
  },
  "language_info": {
   "codemirror_mode": {
    "name": "ipython",
    "version": 3
   },
   "file_extension": ".py",
   "mimetype": "text/x-python",
   "name": "python",
   "nbconvert_exporter": "python",
   "pygments_lexer": "ipython3",
   "version": "3.6.8"
  }
 },
 "nbformat": 4,
 "nbformat_minor": 2
}
