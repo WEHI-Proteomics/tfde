{
 "cells": [
  {
   "cell_type": "code",
   "execution_count": 1,
   "metadata": {},
   "outputs": [],
   "source": [
    "import json\n",
    "from PIL import Image, ImageDraw\n",
    "import pandas as pd\n",
    "import sqlite3\n",
    "import numpy as np\n",
    "import glob\n",
    "import os\n",
    "import shutil"
   ]
  },
  {
   "cell_type": "code",
   "execution_count": 2,
   "metadata": {},
   "outputs": [],
   "source": [
    "PIXELS_X = 910\n",
    "PIXELS_Y = 910  # equal to the number of scan lines\n",
    "MZ_MIN = 100.0\n",
    "MZ_MAX = 1700.0\n",
    "SCAN_MAX = PIXELS_Y\n",
    "SCAN_MIN = 1\n",
    "MZ_PER_TILE = 18.0\n",
    "TILES_PER_FRAME = int((MZ_MAX - MZ_MIN) / MZ_PER_TILE) + 1"
   ]
  },
  {
   "cell_type": "code",
   "execution_count": 3,
   "metadata": {},
   "outputs": [],
   "source": [
    "# frame types for PASEF mode\n",
    "FRAME_TYPE_MS1 = 0\n",
    "FRAME_TYPE_MS2 = 8"
   ]
  },
  {
   "cell_type": "code",
   "execution_count": 4,
   "metadata": {},
   "outputs": [],
   "source": [
    "def mz_range_for_tile(tile_id):\n",
    "    assert (tile_id >= 0) and (tile_id <= TILES_PER_FRAME-1), \"tile_id not in range\"\n",
    "\n",
    "    mz_lower = MZ_MIN + (tile_id * MZ_PER_TILE)\n",
    "    mz_upper = mz_lower + MZ_PER_TILE\n",
    "    return (mz_lower, mz_upper)"
   ]
  },
  {
   "cell_type": "code",
   "execution_count": 5,
   "metadata": {},
   "outputs": [],
   "source": [
    "def tile_pixel_x_from_mz(mz):\n",
    "    assert (mz >= MZ_MIN) and (mz <= MZ_MAX), \"m/z not in range\"\n",
    "\n",
    "    tile_id = int((mz - MZ_MIN) / MZ_PER_TILE)\n",
    "    pixel_x = int(((mz - MZ_MIN) % MZ_PER_TILE) / MZ_PER_TILE * PIXELS_X)\n",
    "    return (tile_id, pixel_x)"
   ]
  },
  {
   "cell_type": "code",
   "execution_count": 6,
   "metadata": {},
   "outputs": [],
   "source": [
    "EXPERIMENT_DIR = '/Users/darylwilding-mcbride/Downloads/experiments/dwm-test'\n",
    "FEATURES_NAME = '{}/features/190719_Hela_Ecoli_1to1_01/exp-dwm-test-run-190719_Hela_Ecoli_1to1_01-features-all.pkl'.format(EXPERIMENT_DIR)\n",
    "CONVERTED_DATABASE_NAME = '{}/converted-databases/exp-dwm-test-run-190719_Hela_Ecoli_1to1_01-converted.sqlite'.format(EXPERIMENT_DIR)\n",
    "OVERLAY_TILE_DIR = '{}/tiles/test-tfd'.format(EXPERIMENT_DIR)\n"
   ]
  },
  {
   "cell_type": "code",
   "execution_count": 8,
   "metadata": {},
   "outputs": [],
   "source": [
    "rt_lower_tile_set = 200\n",
    "rt_upper_tile_set = 800"
   ]
  },
  {
   "cell_type": "code",
   "execution_count": 9,
   "metadata": {},
   "outputs": [],
   "source": [
    "db_conn = sqlite3.connect(CONVERTED_DATABASE_NAME)\n",
    "ms1_frame_properties_df = pd.read_sql_query(\"select Id,Time from frame_properties where Time >= {} and Time <= {} and MsMsType == {}\".format(rt_lower_tile_set, rt_upper_tile_set, FRAME_TYPE_MS1), db_conn)\n",
    "db_conn.close()"
   ]
  },
  {
   "cell_type": "code",
   "execution_count": 10,
   "metadata": {},
   "outputs": [],
   "source": [
    "features_df = pd.read_pickle(FEATURES_NAME)"
   ]
  },
  {
   "cell_type": "code",
   "execution_count": 11,
   "metadata": {},
   "outputs": [
    {
     "data": {
      "text/plain": [
       "Index(['candidate_phr_error', 'charge', 'envelope', 'feature_id', 'intensity',\n",
       "       'intensity_full_rt_extent', 'mono_adjusted', 'monoisotopic_mz',\n",
       "       'original_phr', 'original_phr_error', 'precursor_id', 'rt_apex',\n",
       "       'rt_curve_fit', 'rt_lower', 'rt_upper', 'scan_apex', 'scan_curve_fit',\n",
       "       'scan_lower', 'scan_upper', 'monoisotopic_mass'],\n",
       "      dtype='object')"
      ]
     },
     "execution_count": 11,
     "metadata": {},
     "output_type": "execute_result"
    }
   ],
   "source": [
    "features_df.columns"
   ]
  },
  {
   "cell_type": "code",
   "execution_count": 12,
   "metadata": {},
   "outputs": [],
   "source": [
    "TILE_ID = 34\n",
    "TILE_DIR = '/Users/darylwilding-mcbride/Downloads/experiments/dwm-test/tiles/190719_Hela_Ecoli_1to1_01/tile-{}'.format(TILE_ID)"
   ]
  },
  {
   "cell_type": "code",
   "execution_count": 13,
   "metadata": {},
   "outputs": [],
   "source": [
    "features_df['mz_lower'] = features_df.apply(lambda row: row.envelope[0][0], axis=1)\n",
    "features_df['mz_upper'] = features_df.apply(lambda row: row.envelope[-1][0], axis=1)"
   ]
  },
  {
   "cell_type": "code",
   "execution_count": 14,
   "metadata": {},
   "outputs": [],
   "source": [
    "features_df['rt_lower_frame'] = features_df.apply(lambda row: row.rt_lower if row.rt_curve_fit else row.rt_apex-2 , axis=1)\n",
    "features_df['rt_upper_frame'] = features_df.apply(lambda row: row.rt_upper if row.rt_curve_fit else row.rt_apex+2 , axis=1)"
   ]
  },
  {
   "cell_type": "code",
   "execution_count": 15,
   "metadata": {},
   "outputs": [
    {
     "data": {
      "text/html": [
       "<div>\n",
       "<style scoped>\n",
       "    .dataframe tbody tr th:only-of-type {\n",
       "        vertical-align: middle;\n",
       "    }\n",
       "\n",
       "    .dataframe tbody tr th {\n",
       "        vertical-align: top;\n",
       "    }\n",
       "\n",
       "    .dataframe thead th {\n",
       "        text-align: right;\n",
       "    }\n",
       "</style>\n",
       "<table border=\"1\" class=\"dataframe\">\n",
       "  <thead>\n",
       "    <tr style=\"text-align: right;\">\n",
       "      <th></th>\n",
       "      <th>rt_curve_fit</th>\n",
       "      <th>rt_lower</th>\n",
       "      <th>rt_upper</th>\n",
       "      <th>rt_apex</th>\n",
       "      <th>rt_lower_frame</th>\n",
       "      <th>rt_upper_frame</th>\n",
       "    </tr>\n",
       "  </thead>\n",
       "  <tbody>\n",
       "    <tr>\n",
       "      <th>0</th>\n",
       "      <td>True</td>\n",
       "      <td>1059.91</td>\n",
       "      <td>1067.34</td>\n",
       "      <td>1063.62</td>\n",
       "      <td>1059.91</td>\n",
       "      <td>1067.34</td>\n",
       "    </tr>\n",
       "    <tr>\n",
       "      <th>0</th>\n",
       "      <td>True</td>\n",
       "      <td>1002.55</td>\n",
       "      <td>1055.20</td>\n",
       "      <td>1028.87</td>\n",
       "      <td>1002.55</td>\n",
       "      <td>1055.20</td>\n",
       "    </tr>\n",
       "    <tr>\n",
       "      <th>1</th>\n",
       "      <td>False</td>\n",
       "      <td>1022.36</td>\n",
       "      <td>1042.36</td>\n",
       "      <td>1027.04</td>\n",
       "      <td>1025.04</td>\n",
       "      <td>1029.04</td>\n",
       "    </tr>\n",
       "    <tr>\n",
       "      <th>2</th>\n",
       "      <td>True</td>\n",
       "      <td>1003.81</td>\n",
       "      <td>1058.32</td>\n",
       "      <td>1031.07</td>\n",
       "      <td>1003.81</td>\n",
       "      <td>1058.32</td>\n",
       "    </tr>\n",
       "    <tr>\n",
       "      <th>0</th>\n",
       "      <td>True</td>\n",
       "      <td>1011.49</td>\n",
       "      <td>1022.56</td>\n",
       "      <td>1017.02</td>\n",
       "      <td>1011.49</td>\n",
       "      <td>1022.56</td>\n",
       "    </tr>\n",
       "  </tbody>\n",
       "</table>\n",
       "</div>"
      ],
      "text/plain": [
       "   rt_curve_fit  rt_lower  rt_upper  rt_apex  rt_lower_frame  rt_upper_frame\n",
       "0          True   1059.91   1067.34  1063.62         1059.91         1067.34\n",
       "0          True   1002.55   1055.20  1028.87         1002.55         1055.20\n",
       "1         False   1022.36   1042.36  1027.04         1025.04         1029.04\n",
       "2          True   1003.81   1058.32  1031.07         1003.81         1058.32\n",
       "0          True   1011.49   1022.56  1017.02         1011.49         1022.56"
      ]
     },
     "execution_count": 15,
     "metadata": {},
     "output_type": "execute_result"
    }
   ],
   "source": [
    "features_df[['rt_curve_fit','rt_lower','rt_upper','rt_apex','rt_lower_frame','rt_upper_frame']].head()"
   ]
  },
  {
   "cell_type": "code",
   "execution_count": 16,
   "metadata": {},
   "outputs": [],
   "source": [
    "# get the m/z range for this tile\n",
    "(tile_mz_lower,tile_mz_upper) = mz_range_for_tile(TILE_ID)"
   ]
  },
  {
   "cell_type": "code",
   "execution_count": 17,
   "metadata": {},
   "outputs": [],
   "source": [
    "features_df = features_df[(features_df.rt_lower_frame <= rt_upper_tile_set) & (features_df.rt_upper_frame >= rt_lower_tile_set) & (features_df.mz_lower >= tile_mz_lower) & (features_df.mz_upper <= tile_mz_upper)]"
   ]
  },
  {
   "cell_type": "code",
   "execution_count": 18,
   "metadata": {},
   "outputs": [
    {
     "data": {
      "text/plain": [
       "2462"
      ]
     },
     "execution_count": 18,
     "metadata": {},
     "output_type": "execute_result"
    }
   ],
   "source": [
    "len(features_df)"
   ]
  },
  {
   "cell_type": "code",
   "execution_count": 19,
   "metadata": {},
   "outputs": [],
   "source": [
    "file_list = sorted(glob.glob(\"{}/frame-*-tile-{}-mz-*.png\".format(TILE_DIR, TILE_ID)))"
   ]
  },
  {
   "cell_type": "code",
   "execution_count": 20,
   "metadata": {},
   "outputs": [
    {
     "data": {
      "text/plain": [
       "1120"
      ]
     },
     "execution_count": 20,
     "metadata": {},
     "output_type": "execute_result"
    }
   ],
   "source": [
    "len(file_list)"
   ]
  },
  {
   "cell_type": "code",
   "execution_count": 26,
   "metadata": {},
   "outputs": [],
   "source": [
    "if os.path.exists(OVERLAY_TILE_DIR):\n",
    "    shutil.rmtree(OVERLAY_TILE_DIR)\n",
    "os.makedirs(OVERLAY_TILE_DIR)"
   ]
  },
  {
   "cell_type": "code",
   "execution_count": 27,
   "metadata": {},
   "outputs": [],
   "source": [
    "for file in file_list:\n",
    "    base_name = os.path.basename(file)\n",
    "    frame_id = int(base_name.split('-')[1])\n",
    "    # get the retention time for this frame\n",
    "    frame_rt = ms1_frame_properties_df[ms1_frame_properties_df.Id == frame_id].iloc[0].Time\n",
    "    # find the features intersecting with this frame\n",
    "    intersecting_features_df = features_df[(features_df.rt_lower_frame <= frame_rt) & (features_df.rt_upper_frame >= frame_rt)]\n",
    "    # draw the labels\n",
    "    img = Image.open(file)\n",
    "    draw = ImageDraw.Draw(img)\n",
    "    for idx,feature in intersecting_features_df.iterrows():\n",
    "#         (_,x0) = tile_pixel_x_from_mz(feature.mz_lower)\n",
    "#         (_,x1) = tile_pixel_x_from_mz(feature.mz_upper)\n",
    "        (t,x0_buffer) = tile_pixel_x_from_mz(feature.mz_lower - 0.25)\n",
    "        if t < TILE_ID:\n",
    "            x0_buffer = 1\n",
    "        (t,x1_buffer) = tile_pixel_x_from_mz(feature.mz_upper + 0.25)\n",
    "        if t > TILE_ID:\n",
    "            x1_buffer = PIXELS_X\n",
    "        y0 = feature.scan_lower\n",
    "        y1 = feature.scan_upper\n",
    "        # are there any points in this region of the frame?\n",
    "        db_conn = sqlite3.connect(CONVERTED_DATABASE_NAME)\n",
    "        points_df = pd.read_sql_query(\"select * from frames where frame_id == {} and mz >= {} and mz <= {} and scan >= {} and scan <= {}\".format(frame_id, feature.mz_lower, feature.mz_upper, feature.scan_lower, feature.scan_upper), db_conn)\n",
    "        db_conn.close()\n",
    "        # if so, draw the label\n",
    "        if len(points_df) > 0:\n",
    "            # draw the rectangle\n",
    "            draw.rectangle(xy=[(x0_buffer, y0), (x1_buffer, y1)], fill=None, outline='red')\n",
    "    img.save('{}/frame-{}-tile-{}-mz-{}-{}.png'.format(OVERLAY_TILE_DIR, frame_id, TILE_ID, int(tile_mz_lower), int(tile_mz_upper)))\n"
   ]
  },
  {
   "cell_type": "code",
   "execution_count": null,
   "metadata": {},
   "outputs": [],
   "source": []
  }
 ],
 "metadata": {
  "kernelspec": {
   "display_name": "Python 3",
   "language": "python",
   "name": "python3"
  },
  "language_info": {
   "codemirror_mode": {
    "name": "ipython",
    "version": 3
   },
   "file_extension": ".py",
   "mimetype": "text/x-python",
   "name": "python",
   "nbconvert_exporter": "python",
   "pygments_lexer": "ipython3",
   "version": "3.6.8"
  }
 },
 "nbformat": 4,
 "nbformat_minor": 2
}
