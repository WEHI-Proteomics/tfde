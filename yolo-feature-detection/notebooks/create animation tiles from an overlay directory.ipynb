{
 "cells": [
  {
   "cell_type": "code",
   "execution_count": 21,
   "metadata": {},
   "outputs": [],
   "source": [
    "import glob\n",
    "import shutil\n",
    "import os"
   ]
  },
  {
   "cell_type": "code",
   "execution_count": 22,
   "metadata": {},
   "outputs": [],
   "source": [
    "TILE_SOURCE_DIR = '/Users/darylwilding-mcbride/Downloads/190719_Hela_Ecoli_1to1_01-tiles/tile-33/overlay'\n",
    "TILE_TARGET_DIR = '/Users/darylwilding-mcbride/Downloads/190719_Hela_Ecoli_1to1_01-tiles/tile-33/animation-frames'"
   ]
  },
  {
   "cell_type": "code",
   "execution_count": 23,
   "metadata": {},
   "outputs": [],
   "source": [
    "if os.path.exists(TILE_TARGET_DIR):\n",
    "    shutil.rmtree(TILE_TARGET_DIR)\n",
    "os.makedirs(TILE_TARGET_DIR)"
   ]
  },
  {
   "cell_type": "code",
   "execution_count": 24,
   "metadata": {},
   "outputs": [],
   "source": [
    "for file_idx,file in enumerate(sorted(glob.glob('{}/*.png'.format(TILE_SOURCE_DIR)))):\n",
    "    source_name = file\n",
    "    target_name = '{}/img-{:04d}.png'.format(TILE_TARGET_DIR, file_idx)\n",
    "    shutil.copy(source_name, target_name)"
   ]
  },
  {
   "cell_type": "code",
   "execution_count": null,
   "metadata": {},
   "outputs": [],
   "source": []
  }
 ],
 "metadata": {
  "kernelspec": {
   "display_name": "Python 3",
   "language": "python",
   "name": "python3"
  },
  "language_info": {
   "codemirror_mode": {
    "name": "ipython",
    "version": 3
   },
   "file_extension": ".py",
   "mimetype": "text/x-python",
   "name": "python",
   "nbconvert_exporter": "python",
   "pygments_lexer": "ipython3",
   "version": "3.6.8"
  }
 },
 "nbformat": 4,
 "nbformat_minor": 2
}
