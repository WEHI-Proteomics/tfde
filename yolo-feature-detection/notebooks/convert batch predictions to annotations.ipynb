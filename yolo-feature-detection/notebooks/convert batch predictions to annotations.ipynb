{
 "cells": [
  {
   "cell_type": "code",
   "execution_count": 2,
   "metadata": {},
   "outputs": [],
   "source": [
    "import json\n",
    "import pandas as pd\n",
    "import numpy as np\n",
    "import glob\n",
    "import os"
   ]
  },
  {
   "cell_type": "code",
   "execution_count": 3,
   "metadata": {},
   "outputs": [],
   "source": [
    "PIXELS_X = 910\n",
    "PIXELS_Y = 910  # equal to the number of scan lines"
   ]
  },
  {
   "cell_type": "code",
   "execution_count": 12,
   "metadata": {},
   "outputs": [],
   "source": [
    "predictions_file = '/Users/darylwilding-mcbride/Downloads/experiments/dwm-test/predictions/yolov3-tiny_3l-tile-35-thresh-0_1-predictions.json'"
   ]
  },
  {
   "cell_type": "code",
   "execution_count": 13,
   "metadata": {},
   "outputs": [],
   "source": [
    "with open(predictions_file) as file:\n",
    "    predictions = json.load(file)"
   ]
  },
  {
   "cell_type": "code",
   "execution_count": 14,
   "metadata": {},
   "outputs": [],
   "source": [
    "annotations = {}"
   ]
  },
  {
   "cell_type": "code",
   "execution_count": null,
   "metadata": {},
   "outputs": [],
   "source": [
    "# for each frame, generate the Via annotations\n",
    "for frame in predictions:\n",
    "    prediction_frame_id = frame['frame_id']\n",
    "    tile_name = os.path.basename(frame['filename'])\n",
    "    \n",
    "    for prediction in frame['objects']:\n",
    "        class_id = prediction['class_id']\n",
    "        class_name = prediction['name']\n",
    "        bounding_box = prediction['relative_coordinates']\n",
    "        confidence = prediction['confidence']\n",
    "        \n",
    "        # calculate the coordinates\n",
    "        x1 = (bounding_box['center_x'] - (bounding_box['width'] / 2)) * PIXELS_X\n",
    "        y1 = (bounding_box['center_y'] - (bounding_box['height'] / 2)) * PIXELS_Y\n",
    "        w = bounding_box['width'] * PIXELS_X\n",
    "        h = bounding_box['height'] * PIXELS_Y\n",
    "        x2 = x1 + w\n",
    "        y2 = y1 + h\n"
   ]
  }
 ],
 "metadata": {
  "kernelspec": {
   "display_name": "Python 3",
   "language": "python",
   "name": "python3"
  },
  "language_info": {
   "codemirror_mode": {
    "name": "ipython",
    "version": 3
   },
   "file_extension": ".py",
   "mimetype": "text/x-python",
   "name": "python",
   "nbconvert_exporter": "python",
   "pygments_lexer": "ipython3",
   "version": "3.6.8"
  }
 },
 "nbformat": 4,
 "nbformat_minor": 2
}
