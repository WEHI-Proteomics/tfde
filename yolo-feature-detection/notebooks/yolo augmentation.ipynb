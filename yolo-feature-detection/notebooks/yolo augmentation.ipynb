{
 "cells": [
  {
   "cell_type": "code",
   "execution_count": 106,
   "metadata": {},
   "outputs": [],
   "source": [
    "import glob\n",
    "import os\n",
    "import pandas as pd\n",
    "import numpy as np\n",
    "import sqlite3\n",
    "import shutil\n",
    "from random import randint"
   ]
  },
  {
   "cell_type": "code",
   "execution_count": 107,
   "metadata": {},
   "outputs": [],
   "source": [
    "from PIL import Image, ImageFont, ImageDraw, ImageEnhance"
   ]
  },
  {
   "cell_type": "code",
   "execution_count": 108,
   "metadata": {},
   "outputs": [],
   "source": [
    "# load the tiles and their labels\n",
    "TILE_BASE = '/Users/darylwilding-mcbride/Downloads/yolo-train-rt-3000-3600-denoised-30-apr'\n",
    "TRAINING_SET_FILES_DIR = '{}/train'.format(TILE_BASE)\n",
    "AUGMENTED_FILES_DIR = '{}/augmented'.format(TILE_BASE)\n",
    "AUGMENTED_OVERLAY_FILES_DIR = '{}/overlay'.format(AUGMENTED_FILES_DIR)"
   ]
  },
  {
   "cell_type": "code",
   "execution_count": 109,
   "metadata": {},
   "outputs": [],
   "source": [
    "# initialise the directories required for the data set creation\n",
    "if os.path.exists(AUGMENTED_FILES_DIR):\n",
    "    shutil.rmtree(AUGMENTED_FILES_DIR)\n",
    "os.makedirs(AUGMENTED_FILES_DIR)\n",
    "os.makedirs(AUGMENTED_OVERLAY_FILES_DIR)\n"
   ]
  },
  {
   "cell_type": "code",
   "execution_count": 110,
   "metadata": {},
   "outputs": [],
   "source": [
    "# load the file names into a dataframe\n",
    "filenames = []\n",
    "for file in glob.glob(\"{}/*.png\".format(TRAINING_SET_FILES_DIR)):\n",
    "    filenames.append((os.path.basename(os.path.splitext(file)[0])))"
   ]
  },
  {
   "cell_type": "code",
   "execution_count": 111,
   "metadata": {},
   "outputs": [],
   "source": [
    "filenames_df = pd.DataFrame(filenames, columns=['filename'])"
   ]
  },
  {
   "cell_type": "code",
   "execution_count": 112,
   "metadata": {},
   "outputs": [
    {
     "data": {
      "text/html": [
       "<div>\n",
       "<style scoped>\n",
       "    .dataframe tbody tr th:only-of-type {\n",
       "        vertical-align: middle;\n",
       "    }\n",
       "\n",
       "    .dataframe tbody tr th {\n",
       "        vertical-align: top;\n",
       "    }\n",
       "\n",
       "    .dataframe thead th {\n",
       "        text-align: right;\n",
       "    }\n",
       "</style>\n",
       "<table border=\"1\" class=\"dataframe\">\n",
       "  <thead>\n",
       "    <tr style=\"text-align: right;\">\n",
       "      <th></th>\n",
       "      <th>filename</th>\n",
       "    </tr>\n",
       "  </thead>\n",
       "  <tbody>\n",
       "    <tr>\n",
       "      <th>0</th>\n",
       "      <td>frame-32469-tile-20-mz-463-482</td>\n",
       "    </tr>\n",
       "    <tr>\n",
       "      <th>1</th>\n",
       "      <td>frame-30874-tile-71-mz-1392-1410</td>\n",
       "    </tr>\n",
       "    <tr>\n",
       "      <th>2</th>\n",
       "      <td>frame-29796-tile-56-mz-1119-1137</td>\n",
       "    </tr>\n",
       "    <tr>\n",
       "      <th>3</th>\n",
       "      <td>frame-31303-tile-77-mz-1501-1519</td>\n",
       "    </tr>\n",
       "    <tr>\n",
       "      <th>4</th>\n",
       "      <td>frame-29862-tile-25-mz-554-573</td>\n",
       "    </tr>\n",
       "  </tbody>\n",
       "</table>\n",
       "</div>"
      ],
      "text/plain": [
       "                           filename\n",
       "0    frame-32469-tile-20-mz-463-482\n",
       "1  frame-30874-tile-71-mz-1392-1410\n",
       "2  frame-29796-tile-56-mz-1119-1137\n",
       "3  frame-31303-tile-77-mz-1501-1519\n",
       "4    frame-29862-tile-25-mz-554-573"
      ]
     },
     "execution_count": 112,
     "metadata": {},
     "output_type": "execute_result"
    }
   ],
   "source": [
    "filenames_df.head()"
   ]
  },
  {
   "cell_type": "code",
   "execution_count": 113,
   "metadata": {},
   "outputs": [],
   "source": [
    "TILES_TO_BE_AUGMENTED_PERCENT = 0.01\n",
    "AUGMENTATIONS_PER_TILE = 5\n",
    "PIXELS = 910 # length of each tile edge in pixels\n",
    "MAX_X = 300  # translation can occue up to this much in either direction\n",
    "MAX_Y = 300"
   ]
  },
  {
   "cell_type": "code",
   "execution_count": 114,
   "metadata": {},
   "outputs": [],
   "source": [
    "number_to_select = int(len(filenames_df) * TILES_TO_BE_AUGMENTED_PERCENT)"
   ]
  },
  {
   "cell_type": "code",
   "execution_count": 115,
   "metadata": {},
   "outputs": [
    {
     "data": {
      "text/plain": [
       "267"
      ]
     },
     "execution_count": 115,
     "metadata": {},
     "output_type": "execute_result"
    }
   ],
   "source": [
    "number_to_select"
   ]
  },
  {
   "cell_type": "code",
   "execution_count": 116,
   "metadata": {},
   "outputs": [],
   "source": [
    "filenames_to_augment_df = filenames_df.sample(n=number_to_select)"
   ]
  },
  {
   "cell_type": "code",
   "execution_count": 117,
   "metadata": {},
   "outputs": [
    {
     "data": {
      "text/html": [
       "<div>\n",
       "<style scoped>\n",
       "    .dataframe tbody tr th:only-of-type {\n",
       "        vertical-align: middle;\n",
       "    }\n",
       "\n",
       "    .dataframe tbody tr th {\n",
       "        vertical-align: top;\n",
       "    }\n",
       "\n",
       "    .dataframe thead th {\n",
       "        text-align: right;\n",
       "    }\n",
       "</style>\n",
       "<table border=\"1\" class=\"dataframe\">\n",
       "  <thead>\n",
       "    <tr style=\"text-align: right;\">\n",
       "      <th></th>\n",
       "      <th>filename</th>\n",
       "    </tr>\n",
       "  </thead>\n",
       "  <tbody>\n",
       "    <tr>\n",
       "      <th>16673</th>\n",
       "      <td>frame-29829-tile-58-mz-1155-1173</td>\n",
       "    </tr>\n",
       "    <tr>\n",
       "      <th>3393</th>\n",
       "      <td>frame-32513-tile-30-mz-645-664</td>\n",
       "    </tr>\n",
       "    <tr>\n",
       "      <th>3375</th>\n",
       "      <td>frame-32711-tile-56-mz-1119-1137</td>\n",
       "    </tr>\n",
       "    <tr>\n",
       "      <th>10838</th>\n",
       "      <td>frame-32315-tile-34-mz-718-736</td>\n",
       "    </tr>\n",
       "    <tr>\n",
       "      <th>25266</th>\n",
       "      <td>frame-32502-tile-62-mz-1228-1246</td>\n",
       "    </tr>\n",
       "  </tbody>\n",
       "</table>\n",
       "</div>"
      ],
      "text/plain": [
       "                               filename\n",
       "16673  frame-29829-tile-58-mz-1155-1173\n",
       "3393     frame-32513-tile-30-mz-645-664\n",
       "3375   frame-32711-tile-56-mz-1119-1137\n",
       "10838    frame-32315-tile-34-mz-718-736\n",
       "25266  frame-32502-tile-62-mz-1228-1246"
      ]
     },
     "execution_count": 117,
     "metadata": {},
     "output_type": "execute_result"
    }
   ],
   "source": [
    "filenames_to_augment_df.head()"
   ]
  },
  {
   "cell_type": "code",
   "execution_count": 118,
   "metadata": {},
   "outputs": [],
   "source": [
    "feature_label = ImageFont.truetype('/Library/Fonts/Arial.ttf', 10)\n",
    "# feature_label = ImageFont.truetype('/usr/share/fonts/truetype/liberation/LiberationSans-Regular.ttf', 10)\n"
   ]
  },
  {
   "cell_type": "code",
   "execution_count": 120,
   "metadata": {},
   "outputs": [],
   "source": [
    "for filename_idx in range(len(filenames_to_augment_df)):\n",
    "    filename = filenames_to_augment_df.iloc[filename_idx].filename\n",
    "    # load the tile\n",
    "    img = Image.open('{}/{}.png'.format(TRAINING_SET_FILES_DIR, filename))\n",
    "    # generate the augmented tiles\n",
    "    for augmentation_idx in range(AUGMENTATIONS_PER_TILE):\n",
    "        # apply the transformation\n",
    "        x_offset = randint(-MAX_X, MAX_X+1)\n",
    "        y_offset = randint(-MAX_Y, MAX_Y+1)\n",
    "        # transformation matrix uses the inverse transformation\n",
    "        # mapping (x,y) in the destination image to (ax + by + c, dx + ey + f) in the source image\n",
    "        a = 1\n",
    "        b = 0\n",
    "        c = -x_offset # +ve is to the left, -ve is to the right\n",
    "        d = 0\n",
    "        e = 1\n",
    "        f = -y_offset # +ve is up, -ve is down\n",
    "        aug_img = img.transform(img.size, Image.AFFINE, (a, b, c, d, e, f))\n",
    "        # now need to apply the same transformation to each label\n",
    "        augment_label_l = []\n",
    "        overlay_img = aug_img.copy() # copy the original so we can draw on it\n",
    "        draw_context = ImageDraw.Draw(overlay_img)\n",
    "        label_df = pd.read_csv('{}/{}.txt'.format(TRAINING_SET_FILES_DIR, filename), sep=' ', header=None, names=['class_id','x','y','w','h'])\n",
    "        for label_idx in range(len(label_df)):\n",
    "            class_id = label_df.iloc[label_idx].class_id\n",
    "            label_x = label_df.iloc[label_idx].x\n",
    "            label_y = label_df.iloc[label_idx].y\n",
    "            label_width = label_df.iloc[label_idx].w\n",
    "            label_height = label_df.iloc[label_idx].h\n",
    "            # get the current pixel coordinates\n",
    "            pixel_x = int(label_x * PIXELS)\n",
    "            pixel_y = int(label_y * PIXELS)\n",
    "            pixel_width = int(label_width * PIXELS)\n",
    "            pixel_height = int(label_height * PIXELS)\n",
    "            # calculate the new label centre x,y in pixel coordinates\n",
    "            augment_pixel_x = pixel_x + x_offset # new centre in pixel coordinates\n",
    "            augment_pixel_y = pixel_y + y_offset\n",
    "            # calculate the new label centre x,y in label coordinates\n",
    "            augment_label_x = augment_pixel_x / PIXELS # new centre in label coordinates\n",
    "            augment_label_y = augment_pixel_x / PIXELS\n",
    "            # label the object if its centre is still within the tile\n",
    "            if ((augment_label_x >= 0) and (augment_label_x <= 1) and (augment_label_y >= 0) and (augment_label_y <= 1)):\n",
    "                # add it to the list of new labels\n",
    "                augment_label_l.append((\"{} {:.6f} {:.6f} {:.6f} {:.6f}\".format(class_id, augment_pixel_x, augment_pixel_y, label_width, label_height)))\n",
    "                # calculate the overlay rectangle\n",
    "                x0 = int(augment_pixel_x - (pixel_width / 2))\n",
    "                x1 = int(augment_pixel_x + (pixel_width / 2))\n",
    "                y0 = int(augment_pixel_y - (pixel_height / 2))\n",
    "                y1 = int(augment_pixel_y + (pixel_height / 2))\n",
    "                # draw the box annotation\n",
    "                draw_context.rectangle(xy=[(x0, y0), (x1, y1)], fill=None, outline='red')\n",
    "                draw_context.text((x0, y0-12), \"feature class {}\".format(class_id), font=feature_label, fill='red')\n",
    "        # write out the augmented tile\n",
    "        augmented_base_filename = '{}-aug-{}-{}'.format(filename, x_offset, y_offset)\n",
    "        tile_filename = '{}/{}.png'.format(AUGMENTED_FILES_DIR, augmented_base_filename)\n",
    "        aug_img.save(tile_filename)\n",
    "        # save the label file\n",
    "        label_filename = '{}/{}.txt'.format(AUGMENTED_FILES_DIR, augmented_base_filename)\n",
    "        with open(label_filename, 'w') as f:\n",
    "            for item in augment_label_l:\n",
    "                f.write(\"%s\\n\" % item)\n",
    "        # save the overlay image\n",
    "        overlay_img.save('{}/{}.png'.format(AUGMENTED_OVERLAY_FILES_DIR, augmented_base_filename))\n"
   ]
  }
 ],
 "metadata": {
  "kernelspec": {
   "display_name": "Python 3",
   "language": "python",
   "name": "python3"
  },
  "language_info": {
   "codemirror_mode": {
    "name": "ipython",
    "version": 3
   },
   "file_extension": ".py",
   "mimetype": "text/x-python",
   "name": "python",
   "nbconvert_exporter": "python",
   "pygments_lexer": "ipython3",
   "version": "3.6.7"
  }
 },
 "nbformat": 4,
 "nbformat_minor": 2
}
