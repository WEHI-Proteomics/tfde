{
 "cells": [
  {
   "cell_type": "code",
   "execution_count": 90,
   "metadata": {},
   "outputs": [],
   "source": [
    "import sqlite3\n",
    "import pandas as pd\n",
    "import numpy as np\n",
    "from matplotlib import colors, cm, pyplot as plt\n",
    "from PIL import Image, ImageFont, ImageDraw, ImageEnhance"
   ]
  },
  {
   "cell_type": "code",
   "execution_count": 91,
   "metadata": {},
   "outputs": [],
   "source": [
    "CONVERTED_DATABASE = '/Users/darylwilding-mcbride/Downloads/190719_Hela_Ecoli/converted/190719_Hela_Ecoli_1to1_01-converted.sqlite'\n",
    "MS1_CE = 10"
   ]
  },
  {
   "cell_type": "code",
   "execution_count": 92,
   "metadata": {},
   "outputs": [],
   "source": [
    "db_conn = sqlite3.connect(CONVERTED_DATABASE)\n",
    "ms1_frame_properties_df = pd.read_sql_query(\"select frame_id,retention_time_secs from frame_properties where collision_energy == {}\".format(MS1_CE), db_conn)\n",
    "ms1_frame_ids = tuple(ms1_frame_properties_df.frame_id)\n",
    "db_conn.close()"
   ]
  },
  {
   "cell_type": "code",
   "execution_count": 123,
   "metadata": {},
   "outputs": [],
   "source": [
    "PIXELS_X = 910\n",
    "PIXELS_Y = 910  # equal to the number of scan lines\n",
    "PIXELS_PER_BIN = 1\n",
    "\n",
    "MZ_MIN = 100.0\n",
    "MZ_MAX = 1700.0\n",
    "SCAN_MAX = PIXELS_Y\n",
    "SCAN_MIN = 1"
   ]
  },
  {
   "cell_type": "code",
   "execution_count": 124,
   "metadata": {},
   "outputs": [],
   "source": [
    "MZ_PER_TILE = 18.0\n",
    "MZ_BIN_WIDTH = MZ_PER_TILE / (PIXELS_X * PIXELS_PER_BIN)"
   ]
  },
  {
   "cell_type": "code",
   "execution_count": 125,
   "metadata": {},
   "outputs": [
    {
     "data": {
      "text/plain": [
       "0.01978021978021978"
      ]
     },
     "execution_count": 125,
     "metadata": {},
     "output_type": "execute_result"
    }
   ],
   "source": [
    "MZ_BIN_WIDTH"
   ]
  },
  {
   "cell_type": "code",
   "execution_count": 126,
   "metadata": {},
   "outputs": [
    {
     "data": {
      "text/plain": [
       "88"
      ]
     },
     "execution_count": 126,
     "metadata": {},
     "output_type": "execute_result"
    }
   ],
   "source": [
    "TILES_PER_FRAME = int((MZ_MAX - MZ_MIN) / MZ_PER_TILE)\n",
    "TILES_PER_FRAME"
   ]
  },
  {
   "cell_type": "code",
   "execution_count": 127,
   "metadata": {},
   "outputs": [
    {
     "data": {
      "text/plain": [
       "80890"
      ]
     },
     "execution_count": 127,
     "metadata": {},
     "output_type": "execute_result"
    }
   ],
   "source": [
    "mz_bins = np.arange(start=MZ_MIN, stop=MZ_MAX+MZ_BIN_WIDTH, step=MZ_BIN_WIDTH)  # go slightly wider to accommodate the maximum value\n",
    "MZ_BIN_COUNT = len(mz_bins)\n",
    "MZ_BIN_COUNT"
   ]
  },
  {
   "cell_type": "code",
   "execution_count": 128,
   "metadata": {},
   "outputs": [
    {
     "data": {
      "text/plain": [
       "5944"
      ]
     },
     "execution_count": 128,
     "metadata": {},
     "output_type": "execute_result"
    }
   ],
   "source": [
    "# choose a frame to test\n",
    "FRAME_ID = ms1_frame_ids[int(len(ms1_frame_ids) / 2)]\n",
    "FRAME_ID"
   ]
  },
  {
   "cell_type": "code",
   "execution_count": 129,
   "metadata": {},
   "outputs": [],
   "source": [
    "db_conn = sqlite3.connect(CONVERTED_DATABASE)\n",
    "raw_points_df = pd.read_sql_query(\"select mz,scan,intensity from frames where frame_id == {}\".format(FRAME_ID), db_conn)\n",
    "db_conn.close()"
   ]
  },
  {
   "cell_type": "code",
   "execution_count": 130,
   "metadata": {},
   "outputs": [],
   "source": [
    "frame_intensity_array = np.zeros([SCAN_MAX+1, MZ_BIN_COUNT+1], dtype=np.uint16)  # scratchpad for the intensity value prior to image conversion\n",
    "for r in zip(raw_points_df.mz,raw_points_df.scan,raw_points_df.intensity):\n",
    "    mz = r[0]\n",
    "    scan = int(r[1])\n",
    "    if (mz >= MZ_MIN) and (mz <= MZ_MAX) and (scan >= SCAN_MIN) and (scan <= SCAN_MAX):\n",
    "        mz_array_idx = int(np.digitize(mz, mz_bins))-1\n",
    "        scan_array_idx = scan\n",
    "        intensity = int(r[2])\n",
    "        frame_intensity_array[scan_array_idx,mz_array_idx] += intensity\n"
   ]
  },
  {
   "cell_type": "code",
   "execution_count": 131,
   "metadata": {},
   "outputs": [],
   "source": [
    "# calculate the colour to represent the intensity\n",
    "colour_map = cm.get_cmap(name='magma')\n",
    "norm = colors.LogNorm(vmin=1, vmax=5e3, clip=True)  # aiming to get good colour variation in the lower range, and clipping everything else\n"
   ]
  },
  {
   "cell_type": "code",
   "execution_count": 132,
   "metadata": {},
   "outputs": [],
   "source": [
    "# convert the intensity array to a dataframe\n",
    "intensity_df = pd.DataFrame(frame_intensity_array).stack().rename_axis(['y', 'x']).reset_index(name='intensity')\n",
    "# remove all the zero-intensity elements\n",
    "intensity_df = intensity_df[intensity_df.intensity > 0]\n",
    "\n",
    "# calculate the colour to represent the intensity\n",
    "colour_l = []\n",
    "for r in zip(intensity_df.intensity):\n",
    "    colour_l.append((colour_map(norm(r[0]), bytes=True)[:3]))\n",
    "intensity_df['colour'] = colour_l"
   ]
  },
  {
   "cell_type": "code",
   "execution_count": 133,
   "metadata": {},
   "outputs": [],
   "source": [
    "# create an image of the whole frame\n",
    "frame_im_array = np.zeros([PIXELS_Y+1, MZ_BIN_COUNT+1, 3], dtype=np.uint8)  # container for the image\n",
    "for r in zip(intensity_df.x, intensity_df.y, intensity_df.colour):\n",
    "    x = r[0]\n",
    "    y = r[1]\n",
    "    c = r[2]\n",
    "    frame_im_array[y,x,:] = c"
   ]
  },
  {
   "cell_type": "code",
   "execution_count": 139,
   "metadata": {},
   "outputs": [],
   "source": [
    "# extract the pixels for the frame\n",
    "tile_idx = 33\n",
    "tile_idx_base = tile_idx * PIXELS_X\n",
    "tile_idx_width = PIXELS_X\n",
    "# extract the subset of the frame for this image\n",
    "tile_im_array = frame_im_array[:,tile_idx_base:tile_idx_base+tile_idx_width,:]\n",
    "tile = Image.fromarray(tile_im_array, 'RGB')\n",
    "tile.show()"
   ]
  },
  {
   "cell_type": "code",
   "execution_count": 137,
   "metadata": {},
   "outputs": [],
   "source": [
    "mz_lower = MZ_MIN + (tile_idx * MZ_PER_TILE)\n",
    "mz_upper = mz_lower + MZ_PER_TILE"
   ]
  },
  {
   "cell_type": "code",
   "execution_count": 138,
   "metadata": {},
   "outputs": [
    {
     "data": {
      "text/plain": [
       "(694.0, 712.0)"
      ]
     },
     "execution_count": 138,
     "metadata": {},
     "output_type": "execute_result"
    }
   ],
   "source": [
    "mz_lower, mz_upper"
   ]
  },
  {
   "cell_type": "code",
   "execution_count": 141,
   "metadata": {},
   "outputs": [],
   "source": [
    "tile.save('/Users/darylwilding-mcbride/Downloads/frame-{}-tile-{}-mz-{}-{}.png'.format(FRAME_ID, tile_idx, int(mz_lower), int(mz_upper)))"
   ]
  },
  {
   "cell_type": "code",
   "execution_count": null,
   "metadata": {},
   "outputs": [],
   "source": []
  }
 ],
 "metadata": {
  "kernelspec": {
   "display_name": "Python 3",
   "language": "python",
   "name": "python3"
  },
  "language_info": {
   "codemirror_mode": {
    "name": "ipython",
    "version": 3
   },
   "file_extension": ".py",
   "mimetype": "text/x-python",
   "name": "python",
   "nbconvert_exporter": "python",
   "pygments_lexer": "ipython3",
   "version": "3.6.8"
  }
 },
 "nbformat": 4,
 "nbformat_minor": 2
}
