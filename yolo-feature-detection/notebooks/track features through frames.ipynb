{
 "cells": [
  {
   "cell_type": "code",
   "execution_count": 1,
   "metadata": {},
   "outputs": [],
   "source": [
    "import json\n",
    "import numpy as np\n",
    "from sort import *\n",
    "import os\n",
    "from PIL import Image, ImageFont, ImageDraw, ImageEnhance\n",
    "import shutil"
   ]
  },
  {
   "cell_type": "code",
   "execution_count": 2,
   "metadata": {},
   "outputs": [],
   "source": [
    "PREDICTIONS_FILENAME = '/Users/darylwilding-mcbride/Downloads/result.json'\n",
    "TEST_DIR = '/Users/darylwilding-mcbride/Downloads/yolo-train-rt-1000-4200-23-may/test/'\n",
    "FEATURE_DIR = '/Users/darylwilding-mcbride/Downloads/tracked-features'\n",
    "PIXELS_HEIGHT = PIXELS_WIDTH = 910"
   ]
  },
  {
   "cell_type": "code",
   "execution_count": 3,
   "metadata": {},
   "outputs": [],
   "source": [
    "with open(PREDICTIONS_FILENAME, 'r') as f:\n",
    "    predictions = json.load(f)"
   ]
  },
  {
   "cell_type": "code",
   "execution_count": 4,
   "metadata": {},
   "outputs": [
    {
     "data": {
      "text/plain": [
       "{'class_id': 1,\n",
       " 'name': 'charge-2',\n",
       " 'relative_coordinates': {'center_x': 0.165364,\n",
       "  'center_y': 0.619003,\n",
       "  'width': 0.152393,\n",
       "  'height': 0.131943},\n",
       " 'confidence': 0.852287}"
      ]
     },
     "execution_count": 4,
     "metadata": {},
     "output_type": "execute_result"
    }
   ],
   "source": [
    "predictions[0]['objects'][0]"
   ]
  },
  {
   "cell_type": "code",
   "execution_count": 5,
   "metadata": {},
   "outputs": [],
   "source": [
    "def convert_rel_coords(rel_cx,rel_cy,rel_width,rel_height):\n",
    "    width = rel_width * PIXELS_WIDTH\n",
    "    height = rel_height * PIXELS_HEIGHT\n",
    "    cx = rel_cx * PIXELS_WIDTH\n",
    "    cy = rel_cy * PIXELS_HEIGHT\n",
    "    x1 = int(cx - (width / 2))\n",
    "    y1 = int(cy - (height / 2))\n",
    "    x2 = int(cx + (width / 2))\n",
    "    y2 = int(cy + (height / 2))\n",
    "    return (x1,y1,x2,y2)"
   ]
  },
  {
   "cell_type": "code",
   "execution_count": 6,
   "metadata": {},
   "outputs": [],
   "source": [
    "mot_tracker = Sort()"
   ]
  },
  {
   "cell_type": "code",
   "execution_count": 7,
   "metadata": {},
   "outputs": [],
   "source": [
    "# initialise the directories required for the data set creation\n",
    "if os.path.exists(FEATURE_DIR):\n",
    "    shutil.rmtree(FEATURE_DIR)\n",
    "os.makedirs(FEATURE_DIR)\n"
   ]
  },
  {
   "cell_type": "code",
   "execution_count": 8,
   "metadata": {},
   "outputs": [],
   "source": [
    "# load the font to use for labelling the overlays\n",
    "feature_label_font = ImageFont.truetype('/Library/Fonts/Arial.ttf', 10)"
   ]
  },
  {
   "cell_type": "code",
   "execution_count": 9,
   "metadata": {},
   "outputs": [],
   "source": [
    "tableau20 = [(31, 119, 180), (174, 199, 232), (255, 127, 14), (255, 187, 120),  \n",
    "             (44, 160, 44), (152, 223, 138), (214, 39, 40), (255, 152, 150),  \n",
    "             (148, 103, 189), (197, 176, 213), (140, 86, 75), (196, 156, 148),  \n",
    "             (227, 119, 194), (247, 182, 210), (127, 127, 127), (199, 199, 199),  \n",
    "             (188, 189, 34), (219, 219, 141), (23, 190, 207), (158, 218, 229)]\n"
   ]
  },
  {
   "cell_type": "code",
   "execution_count": 10,
   "metadata": {},
   "outputs": [],
   "source": [
    "for frame_idx in range(len(predictions)):\n",
    "# for frame_idx in range(1):\n",
    "    filename = os.path.basename(predictions[frame_idx]['filename'])\n",
    "    detections = predictions[frame_idx]['objects']\n",
    "    objs = []\n",
    "    for detection_idx in range(len(detections)):\n",
    "        rel_coords = detections[detection_idx]['relative_coordinates']\n",
    "        abs_coords = convert_rel_coords(rel_coords['center_x'],rel_coords['center_y'],rel_coords['width'],rel_coords['height'])\n",
    "        score = detections[detection_idx]['confidence']\n",
    "        objs.append((abs_coords[0], abs_coords[1], abs_coords[2], abs_coords[3], score))\n",
    "    objs_array = np.array(objs)  # convert to a numpy array for the SORT call\n",
    "    track_ids = mot_tracker.update(objs_array)\n",
    "    track_ids_l = list(map(tuple, track_ids))\n",
    "    image = Image.open('{}/{}'.format(TEST_DIR, filename))\n",
    "    draw = ImageDraw.Draw(image)\n",
    "    for track_id in track_ids_l:\n",
    "        x0 = int(track_id[0])\n",
    "        y0 = int(track_id[1])\n",
    "        x1 = int(track_id[2])\n",
    "        y1 = int(track_id[3])\n",
    "        feature_id = int(track_id[4])\n",
    "        feature_colour = tableau20[feature_id % len(tableau20)]\n",
    "        draw.rectangle(xy=[(x0, y0), (x1, y1)], fill=None, outline=feature_colour)\n",
    "        draw.text((x0, y0-12), \"feature {}\".format(feature_id), font=feature_label_font, fill=feature_colour)\n",
    "    image.save('{}/{}'.format(FEATURE_DIR, filename))"
   ]
  },
  {
   "cell_type": "code",
   "execution_count": null,
   "metadata": {},
   "outputs": [],
   "source": []
  }
 ],
 "metadata": {
  "kernelspec": {
   "display_name": "Python 3",
   "language": "python",
   "name": "python3"
  },
  "language_info": {
   "codemirror_mode": {
    "name": "ipython",
    "version": 3
   },
   "file_extension": ".py",
   "mimetype": "text/x-python",
   "name": "python",
   "nbconvert_exporter": "python",
   "pygments_lexer": "ipython3",
   "version": "3.6.7"
  }
 },
 "nbformat": 4,
 "nbformat_minor": 2
}
